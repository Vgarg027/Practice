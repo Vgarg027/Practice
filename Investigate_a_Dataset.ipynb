{
 "cells": [
  {
   "cell_type": "markdown",
   "metadata": {},
   "source": [
    "\n",
    "# Project: Investigate TMDb Movie Data\n",
    "\n",
    "## Table of Contents\n",
    "<ul>\n",
    "<li><a href=\"#intro\">Introduction</a></li>\n",
    "<li><a href=\"#wrangling\">Data Wrangling</a></li>\n",
    "<li><a href=\"#eda\">Exploratory Data Analysis</a></li>\n",
    "<li><a href=\"#conclusions\">Conclusions</a></li>\n",
    "</ul>"
   ]
  },
  {
   "cell_type": "markdown",
   "metadata": {},
   "source": [
    "<a id='intro'></a>\n",
    "## Introduction\n",
    "\n",
    "I will conduct analysis on the TMDb movie dataset, which contains information on 10,000 movies dating to 1960. The dataset includes budget, revenue, genres and viewer ratings, among other variables. I will analyze three variables: adjusted revenues, average rating based on viewer voting and the ratio of revenue to budget, ie ´the efficiency ratio´. I will determine the top ten films in each variable category and compare them to each other. The anlysis seeks to provide insight on the characteristics of movies which may be more likely to be succesful in business terms (revenue and efficiency) or favorability with the public (viewer rating)."
   ]
  },
  {
   "cell_type": "markdown",
   "metadata": {},
   "source": [
    "*The first step is to import Pandas and Matplotlib to conduct the necessary analysis and visualizations.* "
   ]
  },
  {
   "cell_type": "code",
   "execution_count": 2,
   "metadata": {},
   "outputs": [],
   "source": [
    "import pandas as pd\n",
    "import matplotlib.pyplot as plt \n",
    "\n",
    "%matplotlib inline "
   ]
  },
  {
   "cell_type": "markdown",
   "metadata": {},
   "source": [
    "<a id='wrangling'></a>\n",
    "## Data Wrangling\n",
    "\n",
    "\n",
    "### General Properties"
   ]
  },
  {
   "cell_type": "markdown",
   "metadata": {},
   "source": [
    "*I load the database and proceed with an initial exploration.* "
   ]
  },
  {
   "cell_type": "code",
   "execution_count": 3,
   "metadata": {},
   "outputs": [],
   "source": [
    "df=pd.read_csv('movies.csv')"
   ]
  },
  {
   "cell_type": "code",
   "execution_count": 4,
   "metadata": {},
   "outputs": [
    {
     "data": {
      "text/plain": [
       "(10866, 21)"
      ]
     },
     "execution_count": 4,
     "metadata": {},
     "output_type": "execute_result"
    }
   ],
   "source": [
    "df.shape"
   ]
  },
  {
   "cell_type": "markdown",
   "metadata": {},
   "source": [
    "*The database has 10866 rows (indvidual movies) and 21 columns (variables)*"
   ]
  },
  {
   "cell_type": "code",
   "execution_count": 5,
   "metadata": {},
   "outputs": [
    {
     "data": {
      "text/html": [
       "<div>\n",
       "<style scoped>\n",
       "    .dataframe tbody tr th:only-of-type {\n",
       "        vertical-align: middle;\n",
       "    }\n",
       "\n",
       "    .dataframe tbody tr th {\n",
       "        vertical-align: top;\n",
       "    }\n",
       "\n",
       "    .dataframe thead th {\n",
       "        text-align: right;\n",
       "    }\n",
       "</style>\n",
       "<table border=\"1\" class=\"dataframe\">\n",
       "  <thead>\n",
       "    <tr style=\"text-align: right;\">\n",
       "      <th></th>\n",
       "      <th>id</th>\n",
       "      <th>imdb_id</th>\n",
       "      <th>popularity</th>\n",
       "      <th>budget</th>\n",
       "      <th>revenue</th>\n",
       "      <th>original_title</th>\n",
       "      <th>cast</th>\n",
       "      <th>homepage</th>\n",
       "      <th>director</th>\n",
       "      <th>tagline</th>\n",
       "      <th>...</th>\n",
       "      <th>overview</th>\n",
       "      <th>runtime</th>\n",
       "      <th>genres</th>\n",
       "      <th>production_companies</th>\n",
       "      <th>release_date</th>\n",
       "      <th>vote_count</th>\n",
       "      <th>vote_average</th>\n",
       "      <th>release_year</th>\n",
       "      <th>budget_adj</th>\n",
       "      <th>revenue_adj</th>\n",
       "    </tr>\n",
       "  </thead>\n",
       "  <tbody>\n",
       "    <tr>\n",
       "      <th>0</th>\n",
       "      <td>135397</td>\n",
       "      <td>tt0369610</td>\n",
       "      <td>32.985763</td>\n",
       "      <td>150000000</td>\n",
       "      <td>1513528810</td>\n",
       "      <td>Jurassic World</td>\n",
       "      <td>Chris Pratt|Bryce Dallas Howard|Irrfan Khan|Vi...</td>\n",
       "      <td>http://www.jurassicworld.com/</td>\n",
       "      <td>Colin Trevorrow</td>\n",
       "      <td>The park is open.</td>\n",
       "      <td>...</td>\n",
       "      <td>Twenty-two years after the events of Jurassic ...</td>\n",
       "      <td>124</td>\n",
       "      <td>Action|Adventure|Science Fiction|Thriller</td>\n",
       "      <td>Universal Studios|Amblin Entertainment|Legenda...</td>\n",
       "      <td>6/9/15</td>\n",
       "      <td>5562</td>\n",
       "      <td>6.5</td>\n",
       "      <td>2015</td>\n",
       "      <td>1.379999e+08</td>\n",
       "      <td>1.392446e+09</td>\n",
       "    </tr>\n",
       "    <tr>\n",
       "      <th>1</th>\n",
       "      <td>76341</td>\n",
       "      <td>tt1392190</td>\n",
       "      <td>28.419936</td>\n",
       "      <td>150000000</td>\n",
       "      <td>378436354</td>\n",
       "      <td>Mad Max: Fury Road</td>\n",
       "      <td>Tom Hardy|Charlize Theron|Hugh Keays-Byrne|Nic...</td>\n",
       "      <td>http://www.madmaxmovie.com/</td>\n",
       "      <td>George Miller</td>\n",
       "      <td>What a Lovely Day.</td>\n",
       "      <td>...</td>\n",
       "      <td>An apocalyptic story set in the furthest reach...</td>\n",
       "      <td>120</td>\n",
       "      <td>Action|Adventure|Science Fiction|Thriller</td>\n",
       "      <td>Village Roadshow Pictures|Kennedy Miller Produ...</td>\n",
       "      <td>5/13/15</td>\n",
       "      <td>6185</td>\n",
       "      <td>7.1</td>\n",
       "      <td>2015</td>\n",
       "      <td>1.379999e+08</td>\n",
       "      <td>3.481613e+08</td>\n",
       "    </tr>\n",
       "  </tbody>\n",
       "</table>\n",
       "<p>2 rows × 21 columns</p>\n",
       "</div>"
      ],
      "text/plain": [
       "       id    imdb_id  popularity     budget     revenue      original_title  \\\n",
       "0  135397  tt0369610   32.985763  150000000  1513528810      Jurassic World   \n",
       "1   76341  tt1392190   28.419936  150000000   378436354  Mad Max: Fury Road   \n",
       "\n",
       "                                                cast  \\\n",
       "0  Chris Pratt|Bryce Dallas Howard|Irrfan Khan|Vi...   \n",
       "1  Tom Hardy|Charlize Theron|Hugh Keays-Byrne|Nic...   \n",
       "\n",
       "                        homepage         director             tagline  \\\n",
       "0  http://www.jurassicworld.com/  Colin Trevorrow   The park is open.   \n",
       "1    http://www.madmaxmovie.com/    George Miller  What a Lovely Day.   \n",
       "\n",
       "       ...                                                overview runtime  \\\n",
       "0      ...       Twenty-two years after the events of Jurassic ...     124   \n",
       "1      ...       An apocalyptic story set in the furthest reach...     120   \n",
       "\n",
       "                                      genres  \\\n",
       "0  Action|Adventure|Science Fiction|Thriller   \n",
       "1  Action|Adventure|Science Fiction|Thriller   \n",
       "\n",
       "                                production_companies release_date vote_count  \\\n",
       "0  Universal Studios|Amblin Entertainment|Legenda...       6/9/15       5562   \n",
       "1  Village Roadshow Pictures|Kennedy Miller Produ...      5/13/15       6185   \n",
       "\n",
       "   vote_average  release_year    budget_adj   revenue_adj  \n",
       "0           6.5          2015  1.379999e+08  1.392446e+09  \n",
       "1           7.1          2015  1.379999e+08  3.481613e+08  \n",
       "\n",
       "[2 rows x 21 columns]"
      ]
     },
     "execution_count": 5,
     "metadata": {},
     "output_type": "execute_result"
    }
   ],
   "source": [
    "df.head(2)"
   ]
  },
  {
   "cell_type": "markdown",
   "metadata": {},
   "source": [
    "*The variables 'cast', 'genres' and 'production_companies' are separated by the pipe ('|') sign. I only need 'genres' for this analysis. I will also use 'revenue_adj' and 'budget_adj', the adjusted by inflation versions to facilitate comparisons over time.* "
   ]
  },
  {
   "cell_type": "code",
   "execution_count": 5,
   "metadata": {},
   "outputs": [
    {
     "data": {
      "text/html": [
       "<div>\n",
       "<style scoped>\n",
       "    .dataframe tbody tr th:only-of-type {\n",
       "        vertical-align: middle;\n",
       "    }\n",
       "\n",
       "    .dataframe tbody tr th {\n",
       "        vertical-align: top;\n",
       "    }\n",
       "\n",
       "    .dataframe thead th {\n",
       "        text-align: right;\n",
       "    }\n",
       "</style>\n",
       "<table border=\"1\" class=\"dataframe\">\n",
       "  <thead>\n",
       "    <tr style=\"text-align: right;\">\n",
       "      <th></th>\n",
       "      <th>id</th>\n",
       "      <th>popularity</th>\n",
       "      <th>budget</th>\n",
       "      <th>revenue</th>\n",
       "      <th>runtime</th>\n",
       "      <th>vote_count</th>\n",
       "      <th>vote_average</th>\n",
       "      <th>release_year</th>\n",
       "      <th>budget_adj</th>\n",
       "      <th>revenue_adj</th>\n",
       "    </tr>\n",
       "  </thead>\n",
       "  <tbody>\n",
       "    <tr>\n",
       "      <th>count</th>\n",
       "      <td>10866.000000</td>\n",
       "      <td>10866.000000</td>\n",
       "      <td>1.086600e+04</td>\n",
       "      <td>1.086600e+04</td>\n",
       "      <td>10866.000000</td>\n",
       "      <td>10866.000000</td>\n",
       "      <td>10866.000000</td>\n",
       "      <td>10866.000000</td>\n",
       "      <td>1.086600e+04</td>\n",
       "      <td>1.086600e+04</td>\n",
       "    </tr>\n",
       "    <tr>\n",
       "      <th>mean</th>\n",
       "      <td>66064.177434</td>\n",
       "      <td>0.646441</td>\n",
       "      <td>1.462570e+07</td>\n",
       "      <td>3.982332e+07</td>\n",
       "      <td>102.070863</td>\n",
       "      <td>217.389748</td>\n",
       "      <td>5.974922</td>\n",
       "      <td>2001.322658</td>\n",
       "      <td>1.755104e+07</td>\n",
       "      <td>5.136436e+07</td>\n",
       "    </tr>\n",
       "    <tr>\n",
       "      <th>std</th>\n",
       "      <td>92130.136561</td>\n",
       "      <td>1.000185</td>\n",
       "      <td>3.091321e+07</td>\n",
       "      <td>1.170035e+08</td>\n",
       "      <td>31.381405</td>\n",
       "      <td>575.619058</td>\n",
       "      <td>0.935142</td>\n",
       "      <td>12.812941</td>\n",
       "      <td>3.430616e+07</td>\n",
       "      <td>1.446325e+08</td>\n",
       "    </tr>\n",
       "    <tr>\n",
       "      <th>min</th>\n",
       "      <td>5.000000</td>\n",
       "      <td>0.000065</td>\n",
       "      <td>0.000000e+00</td>\n",
       "      <td>0.000000e+00</td>\n",
       "      <td>0.000000</td>\n",
       "      <td>10.000000</td>\n",
       "      <td>1.500000</td>\n",
       "      <td>1960.000000</td>\n",
       "      <td>0.000000e+00</td>\n",
       "      <td>0.000000e+00</td>\n",
       "    </tr>\n",
       "    <tr>\n",
       "      <th>25%</th>\n",
       "      <td>10596.250000</td>\n",
       "      <td>0.207583</td>\n",
       "      <td>0.000000e+00</td>\n",
       "      <td>0.000000e+00</td>\n",
       "      <td>90.000000</td>\n",
       "      <td>17.000000</td>\n",
       "      <td>5.400000</td>\n",
       "      <td>1995.000000</td>\n",
       "      <td>0.000000e+00</td>\n",
       "      <td>0.000000e+00</td>\n",
       "    </tr>\n",
       "    <tr>\n",
       "      <th>50%</th>\n",
       "      <td>20669.000000</td>\n",
       "      <td>0.383856</td>\n",
       "      <td>0.000000e+00</td>\n",
       "      <td>0.000000e+00</td>\n",
       "      <td>99.000000</td>\n",
       "      <td>38.000000</td>\n",
       "      <td>6.000000</td>\n",
       "      <td>2006.000000</td>\n",
       "      <td>0.000000e+00</td>\n",
       "      <td>0.000000e+00</td>\n",
       "    </tr>\n",
       "    <tr>\n",
       "      <th>75%</th>\n",
       "      <td>75610.000000</td>\n",
       "      <td>0.713817</td>\n",
       "      <td>1.500000e+07</td>\n",
       "      <td>2.400000e+07</td>\n",
       "      <td>111.000000</td>\n",
       "      <td>145.750000</td>\n",
       "      <td>6.600000</td>\n",
       "      <td>2011.000000</td>\n",
       "      <td>2.085325e+07</td>\n",
       "      <td>3.369710e+07</td>\n",
       "    </tr>\n",
       "    <tr>\n",
       "      <th>max</th>\n",
       "      <td>417859.000000</td>\n",
       "      <td>32.985763</td>\n",
       "      <td>4.250000e+08</td>\n",
       "      <td>2.781506e+09</td>\n",
       "      <td>900.000000</td>\n",
       "      <td>9767.000000</td>\n",
       "      <td>9.200000</td>\n",
       "      <td>2015.000000</td>\n",
       "      <td>4.250000e+08</td>\n",
       "      <td>2.827124e+09</td>\n",
       "    </tr>\n",
       "  </tbody>\n",
       "</table>\n",
       "</div>"
      ],
      "text/plain": [
       "                  id    popularity        budget       revenue       runtime  \\\n",
       "count   10866.000000  10866.000000  1.086600e+04  1.086600e+04  10866.000000   \n",
       "mean    66064.177434      0.646441  1.462570e+07  3.982332e+07    102.070863   \n",
       "std     92130.136561      1.000185  3.091321e+07  1.170035e+08     31.381405   \n",
       "min         5.000000      0.000065  0.000000e+00  0.000000e+00      0.000000   \n",
       "25%     10596.250000      0.207583  0.000000e+00  0.000000e+00     90.000000   \n",
       "50%     20669.000000      0.383856  0.000000e+00  0.000000e+00     99.000000   \n",
       "75%     75610.000000      0.713817  1.500000e+07  2.400000e+07    111.000000   \n",
       "max    417859.000000     32.985763  4.250000e+08  2.781506e+09    900.000000   \n",
       "\n",
       "         vote_count  vote_average  release_year    budget_adj   revenue_adj  \n",
       "count  10866.000000  10866.000000  10866.000000  1.086600e+04  1.086600e+04  \n",
       "mean     217.389748      5.974922   2001.322658  1.755104e+07  5.136436e+07  \n",
       "std      575.619058      0.935142     12.812941  3.430616e+07  1.446325e+08  \n",
       "min       10.000000      1.500000   1960.000000  0.000000e+00  0.000000e+00  \n",
       "25%       17.000000      5.400000   1995.000000  0.000000e+00  0.000000e+00  \n",
       "50%       38.000000      6.000000   2006.000000  0.000000e+00  0.000000e+00  \n",
       "75%      145.750000      6.600000   2011.000000  2.085325e+07  3.369710e+07  \n",
       "max     9767.000000      9.200000   2015.000000  4.250000e+08  2.827124e+09  "
      ]
     },
     "execution_count": 5,
     "metadata": {},
     "output_type": "execute_result"
    }
   ],
   "source": [
    "df.describe()"
   ]
  },
  {
   "cell_type": "markdown",
   "metadata": {},
   "source": [
    "*There is a problem with budget_adj and revenue_adj. They both have zero values for some movies. These will need to be eliminated as not to skew the top grossing and most efficient movies analysis.*"
   ]
  },
  {
   "cell_type": "markdown",
   "metadata": {},
   "source": [
    "*I will use 'vote_average' as the proxy variable for favorability with the public. There is also a 'popularity' variable in the dataset. As we can see in the plot below, it's not as positively correlated to 'vote_average', as we would have expected. Furthermore, 'vote_average' is positioned next to 'vote_count' in the data set, which shows there are \"N\" observations behind the calculation. This seems more in line with a Rotten_Tomatoes-type of voter rating. As we will see later, the films with the highest \"vote_average\" score are those expected in a \"best films of all time\" list.* "
   ]
  },
  {
   "cell_type": "code",
   "execution_count": 6,
   "metadata": {},
   "outputs": [
    {
     "data": {
      "image/png": "[encoded data removed]",
      "text/plain": [
       "<matplotlib.figure.Figure at 0x7f84b02fff98>"
      ]
     },
     "metadata": {
      "needs_background": "light"
     },
     "output_type": "display_data"
    }
   ],
   "source": [
    "df.plot(x='popularity', y='vote_average', kind='scatter');"
   ]
  },
  {
   "cell_type": "code",
   "execution_count": 7,
   "metadata": {},
   "outputs": [
    {
     "data": {
      "text/plain": [
       "2039"
      ]
     },
     "execution_count": 7,
     "metadata": {},
     "output_type": "execute_result"
    }
   ],
   "source": [
    "df['genres'].nunique()"
   ]
  },
  {
   "cell_type": "markdown",
   "metadata": {},
   "source": [
    "*There are 2039 unique combinations of the variable genre. Some movies have 4 or 5 genres. Hence, insights regarding the profitability of one genre versus others need to be caveated. A very succesful movie that belongs to both a \"very popular\" genre and a \"not so popular\" one will raise the averages of the \"not so popular one\" regarding its nearest neighbors. However, it does provide some insight into the genres that, on average, seem to be featured the most in high grossing films, fan favorites and efficient films (ie low-budget hits). Hence, we will use it in the analysis.* "
   ]
  },
  {
   "cell_type": "code",
   "execution_count": 8,
   "metadata": {},
   "outputs": [
    {
     "name": "stdout",
     "output_type": "stream",
     "text": [
      "<class 'pandas.core.frame.DataFrame'>\n",
      "RangeIndex: 10866 entries, 0 to 10865\n",
      "Data columns (total 21 columns):\n",
      "id                      10866 non-null int64\n",
      "imdb_id                 10856 non-null object\n",
      "popularity              10866 non-null float64\n",
      "budget                  10866 non-null int64\n",
      "revenue                 10866 non-null int64\n",
      "original_title          10866 non-null object\n",
      "cast                    10790 non-null object\n",
      "homepage                2936 non-null object\n",
      "director                10822 non-null object\n",
      "tagline                 8042 non-null object\n",
      "keywords                9373 non-null object\n",
      "overview                10862 non-null object\n",
      "runtime                 10866 non-null int64\n",
      "genres                  10843 non-null object\n",
      "production_companies    9836 non-null object\n",
      "release_date            10866 non-null object\n",
      "vote_count              10866 non-null int64\n",
      "vote_average            10866 non-null float64\n",
      "release_year            10866 non-null int64\n",
      "budget_adj              10866 non-null float64\n",
      "revenue_adj             10866 non-null float64\n",
      "dtypes: float64(4), int64(6), object(11)\n",
      "memory usage: 1.7+ MB\n"
     ]
    }
   ],
   "source": [
    "df.info()"
   ]
  },
  {
   "cell_type": "markdown",
   "metadata": {},
   "source": [
    "*Numerical variables that lend themselves to statistical analysis are either integers or floats. Hence, the data types are correct. There are several string variables that have missing values: 'Cast', 'Homepage', 'Tagline', 'Keywords' and 'Production Companies'. These are not needed for the analysis and do not have to be cleaned. If for instance, one wanted to know the most represented actor in the data base, 'Cast' would have to be split by the '|' sign.*"
   ]
  },
  {
   "cell_type": "markdown",
   "metadata": {},
   "source": [
    "*Lastly, I want to check the consistency of the database in time. For instance, if it has more information in recent years, it's probable that the information from last century, could be showing survival bias. That is, the few films in the database have complete information because they were the best films of their time and proper records were kept. This would be particularly important for revenues and vote average. Films that are rated tend to be truly classics.'"
   ]
  },
  {
   "cell_type": "code",
   "execution_count": 6,
   "metadata": {},
   "outputs": [],
   "source": [
    "count_by_year=df.groupby('release_year').count()['revenue_adj']"
   ]
  },
  {
   "cell_type": "code",
   "execution_count": 7,
   "metadata": {},
   "outputs": [
    {
     "data": {
      "text/plain": [
       "release_year\n",
       "1960     32\n",
       "1961     31\n",
       "1962     32\n",
       "1963     34\n",
       "1964     42\n",
       "1965     35\n",
       "1966     46\n",
       "1967     40\n",
       "1968     39\n",
       "1969     31\n",
       "1970     41\n",
       "1971     55\n",
       "1972     40\n",
       "1973     55\n",
       "1974     47\n",
       "1975     44\n",
       "1976     47\n",
       "1977     57\n",
       "1978     65\n",
       "1979     57\n",
       "1980     78\n",
       "1981     82\n",
       "1982     81\n",
       "1983     80\n",
       "1984    105\n",
       "1985    109\n",
       "1986    121\n",
       "1987    125\n",
       "1988    145\n",
       "1989    137\n",
       "1990    132\n",
       "1991    133\n",
       "1992    133\n",
       "1993    178\n",
       "1994    184\n",
       "1995    175\n",
       "1996    204\n",
       "1997    192\n",
       "1998    210\n",
       "1999    224\n",
       "2000    227\n",
       "2001    242\n",
       "2002    266\n",
       "2003    281\n",
       "2004    307\n",
       "2005    364\n",
       "2006    408\n",
       "2007    438\n",
       "2008    496\n",
       "2009    533\n",
       "2010    490\n",
       "2011    540\n",
       "2012    588\n",
       "2013    659\n",
       "2014    700\n",
       "2015    629\n",
       "Name: revenue_adj, dtype: int64"
      ]
     },
     "execution_count": 7,
     "metadata": {},
     "output_type": "execute_result"
    }
   ],
   "source": [
    "count_by_year"
   ]
  },
  {
   "cell_type": "markdown",
   "metadata": {},
   "source": [
    "*As expected, there are 20 times more movies registered in 2015 than in 1960. Hence, a time comparison could be skewed because of possible survival bias. A way around this would be to take a shorter timeline. However, determining which is the base year would probably be arbitrary. The millenial mark could possibly be such arbitrary line. Nevertheless, I have chosen to focus on the 10 top performers in the categories previously outline. I will discuss the impacts and limitations of those choices in the conclusion section of the report.*  "
   ]
  },
  {
   "cell_type": "markdown",
   "metadata": {},
   "source": [
    "### Data Cleaning\n",
    "*As we saw in the previous section, the variable 'genres' has 23 missing values. These will have to be dropped, for comparability purposes. In order to calculate the efficiency ratio as revenue_adj/budget_adj, we need to make sure that non of the the movies has a zero for either of these variables. We also need to separate the 'genres' variable into individual genres. For this, I will create dummy variables for each genre. This way, these can be added up while executing different analysis.* "
   ]
  },
  {
   "cell_type": "markdown",
   "metadata": {},
   "source": [
    " *We start out by dropping the NaN in 'genres'.*"
   ]
  },
  {
   "cell_type": "code",
   "execution_count": 10,
   "metadata": {},
   "outputs": [],
   "source": [
    "df1=df.dropna(subset=['genres'])"
   ]
  },
  {
   "cell_type": "code",
   "execution_count": 11,
   "metadata": {},
   "outputs": [
    {
     "data": {
      "text/plain": [
       "(10843, 21)"
      ]
     },
     "execution_count": 11,
     "metadata": {},
     "output_type": "execute_result"
    }
   ],
   "source": [
    "df1.shape"
   ]
  },
  {
   "cell_type": "markdown",
   "metadata": {},
   "source": [
    "*23 movies were eliminated. Next, I create dummy variables for each genre.*"
   ]
  },
  {
   "cell_type": "code",
   "execution_count": 12,
   "metadata": {},
   "outputs": [
    {
     "data": {
      "text/html": [
       "<div>\n",
       "<style scoped>\n",
       "    .dataframe tbody tr th:only-of-type {\n",
       "        vertical-align: middle;\n",
       "    }\n",
       "\n",
       "    .dataframe tbody tr th {\n",
       "        vertical-align: top;\n",
       "    }\n",
       "\n",
       "    .dataframe thead th {\n",
       "        text-align: right;\n",
       "    }\n",
       "</style>\n",
       "<table border=\"1\" class=\"dataframe\">\n",
       "  <thead>\n",
       "    <tr style=\"text-align: right;\">\n",
       "      <th></th>\n",
       "      <th>Action</th>\n",
       "      <th>Adventure</th>\n",
       "      <th>Animation</th>\n",
       "      <th>Comedy</th>\n",
       "      <th>Crime</th>\n",
       "      <th>Documentary</th>\n",
       "      <th>Drama</th>\n",
       "      <th>Family</th>\n",
       "      <th>Fantasy</th>\n",
       "      <th>Foreign</th>\n",
       "      <th>History</th>\n",
       "      <th>Horror</th>\n",
       "      <th>Music</th>\n",
       "      <th>Mystery</th>\n",
       "      <th>Romance</th>\n",
       "      <th>Science Fiction</th>\n",
       "      <th>TV Movie</th>\n",
       "      <th>Thriller</th>\n",
       "      <th>War</th>\n",
       "      <th>Western</th>\n",
       "    </tr>\n",
       "  </thead>\n",
       "  <tbody>\n",
       "    <tr>\n",
       "      <th>0</th>\n",
       "      <td>1</td>\n",
       "      <td>1</td>\n",
       "      <td>0</td>\n",
       "      <td>0</td>\n",
       "      <td>0</td>\n",
       "      <td>0</td>\n",
       "      <td>0</td>\n",
       "      <td>0</td>\n",
       "      <td>0</td>\n",
       "      <td>0</td>\n",
       "      <td>0</td>\n",
       "      <td>0</td>\n",
       "      <td>0</td>\n",
       "      <td>0</td>\n",
       "      <td>0</td>\n",
       "      <td>1</td>\n",
       "      <td>0</td>\n",
       "      <td>1</td>\n",
       "      <td>0</td>\n",
       "      <td>0</td>\n",
       "    </tr>\n",
       "    <tr>\n",
       "      <th>1</th>\n",
       "      <td>1</td>\n",
       "      <td>1</td>\n",
       "      <td>0</td>\n",
       "      <td>0</td>\n",
       "      <td>0</td>\n",
       "      <td>0</td>\n",
       "      <td>0</td>\n",
       "      <td>0</td>\n",
       "      <td>0</td>\n",
       "      <td>0</td>\n",
       "      <td>0</td>\n",
       "      <td>0</td>\n",
       "      <td>0</td>\n",
       "      <td>0</td>\n",
       "      <td>0</td>\n",
       "      <td>1</td>\n",
       "      <td>0</td>\n",
       "      <td>1</td>\n",
       "      <td>0</td>\n",
       "      <td>0</td>\n",
       "    </tr>\n",
       "  </tbody>\n",
       "</table>\n",
       "</div>"
      ],
      "text/plain": [
       "   Action  Adventure  Animation  Comedy  Crime  Documentary  Drama  Family  \\\n",
       "0       1          1          0       0      0            0      0       0   \n",
       "1       1          1          0       0      0            0      0       0   \n",
       "\n",
       "   Fantasy  Foreign  History  Horror  Music  Mystery  Romance  \\\n",
       "0        0        0        0       0      0        0        0   \n",
       "1        0        0        0       0      0        0        0   \n",
       "\n",
       "   Science Fiction  TV Movie  Thriller  War  Western  \n",
       "0                1         0         1    0        0  \n",
       "1                1         0         1    0        0  "
      ]
     },
     "execution_count": 12,
     "metadata": {},
     "output_type": "execute_result"
    }
   ],
   "source": [
    "genres_col=df1.genres.str.get_dummies('|');\n",
    "genres_col.head(2)"
   ]
  },
  {
   "cell_type": "code",
   "execution_count": 65,
   "metadata": {},
   "outputs": [
    {
     "data": {
      "text/plain": [
       "(10843, 20)"
      ]
     },
     "execution_count": 65,
     "metadata": {},
     "output_type": "execute_result"
    }
   ],
   "source": [
    "genres_col.shape"
   ]
  },
  {
   "cell_type": "markdown",
   "metadata": {},
   "source": [
    "*I've created a dataframe that can be merged to df1, with 20 individual genres.*"
   ]
  },
  {
   "cell_type": "code",
   "execution_count": 13,
   "metadata": {},
   "outputs": [],
   "source": [
    "df2=df1.merge(genres_col, left_index=True, right_index=True)"
   ]
  },
  {
   "cell_type": "code",
   "execution_count": 14,
   "metadata": {},
   "outputs": [
    {
     "data": {
      "text/html": [
       "<div>\n",
       "<style scoped>\n",
       "    .dataframe tbody tr th:only-of-type {\n",
       "        vertical-align: middle;\n",
       "    }\n",
       "\n",
       "    .dataframe tbody tr th {\n",
       "        vertical-align: top;\n",
       "    }\n",
       "\n",
       "    .dataframe thead th {\n",
       "        text-align: right;\n",
       "    }\n",
       "</style>\n",
       "<table border=\"1\" class=\"dataframe\">\n",
       "  <thead>\n",
       "    <tr style=\"text-align: right;\">\n",
       "      <th></th>\n",
       "      <th>id</th>\n",
       "      <th>imdb_id</th>\n",
       "      <th>popularity</th>\n",
       "      <th>budget</th>\n",
       "      <th>revenue</th>\n",
       "      <th>original_title</th>\n",
       "      <th>cast</th>\n",
       "      <th>homepage</th>\n",
       "      <th>director</th>\n",
       "      <th>tagline</th>\n",
       "      <th>...</th>\n",
       "      <th>History</th>\n",
       "      <th>Horror</th>\n",
       "      <th>Music</th>\n",
       "      <th>Mystery</th>\n",
       "      <th>Romance</th>\n",
       "      <th>Science Fiction</th>\n",
       "      <th>TV Movie</th>\n",
       "      <th>Thriller</th>\n",
       "      <th>War</th>\n",
       "      <th>Western</th>\n",
       "    </tr>\n",
       "  </thead>\n",
       "  <tbody>\n",
       "    <tr>\n",
       "      <th>0</th>\n",
       "      <td>135397</td>\n",
       "      <td>tt0369610</td>\n",
       "      <td>32.985763</td>\n",
       "      <td>150000000</td>\n",
       "      <td>1513528810</td>\n",
       "      <td>Jurassic World</td>\n",
       "      <td>Chris Pratt|Bryce Dallas Howard|Irrfan Khan|Vi...</td>\n",
       "      <td>http://www.jurassicworld.com/</td>\n",
       "      <td>Colin Trevorrow</td>\n",
       "      <td>The park is open.</td>\n",
       "      <td>...</td>\n",
       "      <td>0</td>\n",
       "      <td>0</td>\n",
       "      <td>0</td>\n",
       "      <td>0</td>\n",
       "      <td>0</td>\n",
       "      <td>1</td>\n",
       "      <td>0</td>\n",
       "      <td>1</td>\n",
       "      <td>0</td>\n",
       "      <td>0</td>\n",
       "    </tr>\n",
       "    <tr>\n",
       "      <th>1</th>\n",
       "      <td>76341</td>\n",
       "      <td>tt1392190</td>\n",
       "      <td>28.419936</td>\n",
       "      <td>150000000</td>\n",
       "      <td>378436354</td>\n",
       "      <td>Mad Max: Fury Road</td>\n",
       "      <td>Tom Hardy|Charlize Theron|Hugh Keays-Byrne|Nic...</td>\n",
       "      <td>http://www.madmaxmovie.com/</td>\n",
       "      <td>George Miller</td>\n",
       "      <td>What a Lovely Day.</td>\n",
       "      <td>...</td>\n",
       "      <td>0</td>\n",
       "      <td>0</td>\n",
       "      <td>0</td>\n",
       "      <td>0</td>\n",
       "      <td>0</td>\n",
       "      <td>1</td>\n",
       "      <td>0</td>\n",
       "      <td>1</td>\n",
       "      <td>0</td>\n",
       "      <td>0</td>\n",
       "    </tr>\n",
       "  </tbody>\n",
       "</table>\n",
       "<p>2 rows × 41 columns</p>\n",
       "</div>"
      ],
      "text/plain": [
       "       id    imdb_id  popularity     budget     revenue      original_title  \\\n",
       "0  135397  tt0369610   32.985763  150000000  1513528810      Jurassic World   \n",
       "1   76341  tt1392190   28.419936  150000000   378436354  Mad Max: Fury Road   \n",
       "\n",
       "                                                cast  \\\n",
       "0  Chris Pratt|Bryce Dallas Howard|Irrfan Khan|Vi...   \n",
       "1  Tom Hardy|Charlize Theron|Hugh Keays-Byrne|Nic...   \n",
       "\n",
       "                        homepage         director             tagline  \\\n",
       "0  http://www.jurassicworld.com/  Colin Trevorrow   The park is open.   \n",
       "1    http://www.madmaxmovie.com/    George Miller  What a Lovely Day.   \n",
       "\n",
       "    ...    History Horror  Music Mystery Romance Science Fiction  TV Movie  \\\n",
       "0   ...          0      0      0       0       0               1         0   \n",
       "1   ...          0      0      0       0       0               1         0   \n",
       "\n",
       "   Thriller  War  Western  \n",
       "0         1    0        0  \n",
       "1         1    0        0  \n",
       "\n",
       "[2 rows x 41 columns]"
      ]
     },
     "execution_count": 14,
     "metadata": {},
     "output_type": "execute_result"
    }
   ],
   "source": [
    "df2.head(2)"
   ]
  },
  {
   "cell_type": "code",
   "execution_count": 15,
   "metadata": {},
   "outputs": [
    {
     "data": {
      "text/plain": [
       "(10843, 41)"
      ]
     },
     "execution_count": 15,
     "metadata": {},
     "output_type": "execute_result"
    }
   ],
   "source": [
    "df2.shape"
   ]
  },
  {
   "cell_type": "markdown",
   "metadata": {},
   "source": [
    "*Df2 has the original 10843 movies, 21 variables and 20 new dummy variables.** "
   ]
  },
  {
   "cell_type": "markdown",
   "metadata": {},
   "source": [
    "**Now, we must purge movies with zeroes for both revenue_adj and budget_rev. However, previous inspection of the database shows that certain movies have very small budgets. This is likely an error in the data. Hence, I will put a floor of at least USD 1 mm in terms of revenue and budget as a way to limit outliers likely caused by faulty data.**"
   ]
  },
  {
   "cell_type": "code",
   "execution_count": 16,
   "metadata": {},
   "outputs": [
    {
     "data": {
      "text/plain": [
       "(4336, 41)"
      ]
     },
     "execution_count": 16,
     "metadata": {},
     "output_type": "execute_result"
    }
   ],
   "source": [
    "df2revzero = df2.query('revenue_adj > 1000000')\n",
    "df2revzero.shape"
   ]
  },
  {
   "cell_type": "markdown",
   "metadata": {},
   "source": [
    "*There are 4336 movies were the revenue_adj variable is higher than USD 1 mm.*"
   ]
  },
  {
   "cell_type": "code",
   "execution_count": 17,
   "metadata": {},
   "outputs": [],
   "source": [
    "df3=df2.query('revenue_adj > 1000000')"
   ]
  },
  {
   "cell_type": "code",
   "execution_count": 18,
   "metadata": {},
   "outputs": [
    {
     "data": {
      "text/plain": [
       "(4336, 41)"
      ]
     },
     "execution_count": 18,
     "metadata": {},
     "output_type": "execute_result"
    }
   ],
   "source": [
    "df3.shape"
   ]
  },
  {
   "cell_type": "markdown",
   "metadata": {},
   "source": [
    "*The new dataframe, df3, correctly keeps 4336 movies with 41 variables.* "
   ]
  },
  {
   "cell_type": "code",
   "execution_count": 19,
   "metadata": {},
   "outputs": [
    {
     "data": {
      "text/plain": [
       "(3547, 41)"
      ]
     },
     "execution_count": 19,
     "metadata": {},
     "output_type": "execute_result"
    }
   ],
   "source": [
    "df3budzero = df3.query('budget_adj > 1000000')\n",
    "df3budzero.shape"
   ]
  },
  {
   "cell_type": "markdown",
   "metadata": {},
   "source": [
    "*There are 3547 movies in the new data frame that have budgets above USD 1 mm. We lost 789 movies.*"
   ]
  },
  {
   "cell_type": "code",
   "execution_count": 20,
   "metadata": {},
   "outputs": [
    {
     "data": {
      "text/plain": [
       "(3547, 41)"
      ]
     },
     "execution_count": 20,
     "metadata": {},
     "output_type": "execute_result"
    }
   ],
   "source": [
    "df4=df3.query('budget_adj > 1000000')\n",
    "df4.shape"
   ]
  },
  {
   "cell_type": "markdown",
   "metadata": {
    "collapsed": true
   },
   "source": [
    "*Df4 indeed has the expected shape, 3547 movies and 41 variables. We want to make sure that the 'vote average' variable does not have zero values.* "
   ]
  },
  {
   "cell_type": "code",
   "execution_count": 21,
   "metadata": {},
   "outputs": [
    {
     "data": {
      "text/plain": [
       "count    3547.000000\n",
       "mean        6.187708\n",
       "std         0.785408\n",
       "min         3.300000\n",
       "25%         5.700000\n",
       "50%         6.200000\n",
       "75%         6.700000\n",
       "max         8.400000\n",
       "Name: vote_average, dtype: float64"
      ]
     },
     "execution_count": 21,
     "metadata": {},
     "output_type": "execute_result"
    }
   ],
   "source": [
    "df4['vote_average'].describe()"
   ]
  },
  {
   "cell_type": "markdown",
   "metadata": {},
   "source": [
    "*The minimum value for this variable is 3.3. Therefore, there are no zero values.*"
   ]
  },
  {
   "cell_type": "markdown",
   "metadata": {},
   "source": [
    "*The final step is to create an efficiency  ratio as revenue_adj/budget_adj.*"
   ]
  },
  {
   "cell_type": "code",
   "execution_count": 22,
   "metadata": {},
   "outputs": [],
   "source": [
    "efficiency=df4['revenue_adj']/df4['budget_adj']"
   ]
  },
  {
   "cell_type": "code",
   "execution_count": 23,
   "metadata": {},
   "outputs": [
    {
     "data": {
      "text/plain": [
       "0         10.090192\n",
       "1          2.522909\n",
       "2          2.683984\n",
       "3         10.340891\n",
       "4          7.927628\n",
       "5          3.947782\n",
       "6          2.842603\n",
       "7          5.512781\n",
       "8         15.631499\n",
       "9          4.878335\n",
       "10         3.594590\n",
       "11         1.045385\n",
       "12         2.457961\n",
       "13         2.768603\n",
       "14         5.017985\n",
       "15         3.540003\n",
       "16         6.786905\n",
       "17         3.989247\n",
       "18         5.708962\n",
       "19         4.065771\n",
       "20         1.100188\n",
       "21         3.056994\n",
       "22         4.277189\n",
       "23        14.241287\n",
       "24         4.762375\n",
       "25         4.548868\n",
       "26         3.174465\n",
       "27         4.985212\n",
       "28         4.417324\n",
       "29         5.102573\n",
       "            ...    \n",
       "10689     12.835969\n",
       "10690     19.904181\n",
       "10691      7.980136\n",
       "10692      5.348214\n",
       "10716      0.600000\n",
       "10724     11.710642\n",
       "10725     17.051482\n",
       "10727     12.440292\n",
       "10728      0.102279\n",
       "10755     30.302295\n",
       "10756      9.394200\n",
       "10757     84.615385\n",
       "10758      5.458509\n",
       "10759    233.333333\n",
       "10760     52.222222\n",
       "10762      3.333333\n",
       "10770     15.217391\n",
       "10771      7.617855\n",
       "10775      1.838394\n",
       "10778      1.446000\n",
       "10779      1.897090\n",
       "10780      6.870438\n",
       "10788      0.877044\n",
       "10791      3.899758\n",
       "10793      3.713768\n",
       "10822      4.498225\n",
       "10828      4.333333\n",
       "10829      1.289491\n",
       "10835      1.666667\n",
       "10848      2.346041\n",
       "Length: 3547, dtype: float64"
      ]
     },
     "execution_count": 23,
     "metadata": {},
     "output_type": "execute_result"
    }
   ],
   "source": [
    "efficiency"
   ]
  },
  {
   "cell_type": "markdown",
   "metadata": {},
   "source": [
    "*The data is complete with 3547 movies. I will add this column to df4 to have a clean data frame to conduct the analysis. I will convert this array to a dataframe to merge with df4.*"
   ]
  },
  {
   "cell_type": "code",
   "execution_count": 24,
   "metadata": {},
   "outputs": [],
   "source": [
    "efficient=pd.DataFrame(efficiency)"
   ]
  },
  {
   "cell_type": "code",
   "execution_count": 25,
   "metadata": {},
   "outputs": [],
   "source": [
    "cleandf=df4.merge(efficient, left_index=True, right_index=True)"
   ]
  },
  {
   "cell_type": "code",
   "execution_count": 26,
   "metadata": {},
   "outputs": [
    {
     "data": {
      "text/plain": [
       "(3547, 42)"
      ]
     },
     "execution_count": 26,
     "metadata": {},
     "output_type": "execute_result"
    }
   ],
   "source": [
    "cleandf.shape"
   ]
  },
  {
   "cell_type": "markdown",
   "metadata": {},
   "source": [
    "*The shape of the frame is correct. It has the same amount of movies and one more column than df4.*"
   ]
  },
  {
   "cell_type": "code",
   "execution_count": 27,
   "metadata": {},
   "outputs": [
    {
     "data": {
      "text/html": [
       "<div>\n",
       "<style scoped>\n",
       "    .dataframe tbody tr th:only-of-type {\n",
       "        vertical-align: middle;\n",
       "    }\n",
       "\n",
       "    .dataframe tbody tr th {\n",
       "        vertical-align: top;\n",
       "    }\n",
       "\n",
       "    .dataframe thead th {\n",
       "        text-align: right;\n",
       "    }\n",
       "</style>\n",
       "<table border=\"1\" class=\"dataframe\">\n",
       "  <thead>\n",
       "    <tr style=\"text-align: right;\">\n",
       "      <th></th>\n",
       "      <th>id</th>\n",
       "      <th>imdb_id</th>\n",
       "      <th>popularity</th>\n",
       "      <th>budget</th>\n",
       "      <th>revenue</th>\n",
       "      <th>original_title</th>\n",
       "      <th>cast</th>\n",
       "      <th>homepage</th>\n",
       "      <th>director</th>\n",
       "      <th>tagline</th>\n",
       "      <th>...</th>\n",
       "      <th>Horror</th>\n",
       "      <th>Music</th>\n",
       "      <th>Mystery</th>\n",
       "      <th>Romance</th>\n",
       "      <th>Science Fiction</th>\n",
       "      <th>TV Movie</th>\n",
       "      <th>Thriller</th>\n",
       "      <th>War</th>\n",
       "      <th>Western</th>\n",
       "      <th>0</th>\n",
       "    </tr>\n",
       "  </thead>\n",
       "  <tbody>\n",
       "    <tr>\n",
       "      <th>0</th>\n",
       "      <td>135397</td>\n",
       "      <td>tt0369610</td>\n",
       "      <td>32.985763</td>\n",
       "      <td>150000000</td>\n",
       "      <td>1513528810</td>\n",
       "      <td>Jurassic World</td>\n",
       "      <td>Chris Pratt|Bryce Dallas Howard|Irrfan Khan|Vi...</td>\n",
       "      <td>http://www.jurassicworld.com/</td>\n",
       "      <td>Colin Trevorrow</td>\n",
       "      <td>The park is open.</td>\n",
       "      <td>...</td>\n",
       "      <td>0</td>\n",
       "      <td>0</td>\n",
       "      <td>0</td>\n",
       "      <td>0</td>\n",
       "      <td>1</td>\n",
       "      <td>0</td>\n",
       "      <td>1</td>\n",
       "      <td>0</td>\n",
       "      <td>0</td>\n",
       "      <td>10.090192</td>\n",
       "    </tr>\n",
       "    <tr>\n",
       "      <th>1</th>\n",
       "      <td>76341</td>\n",
       "      <td>tt1392190</td>\n",
       "      <td>28.419936</td>\n",
       "      <td>150000000</td>\n",
       "      <td>378436354</td>\n",
       "      <td>Mad Max: Fury Road</td>\n",
       "      <td>Tom Hardy|Charlize Theron|Hugh Keays-Byrne|Nic...</td>\n",
       "      <td>http://www.madmaxmovie.com/</td>\n",
       "      <td>George Miller</td>\n",
       "      <td>What a Lovely Day.</td>\n",
       "      <td>...</td>\n",
       "      <td>0</td>\n",
       "      <td>0</td>\n",
       "      <td>0</td>\n",
       "      <td>0</td>\n",
       "      <td>1</td>\n",
       "      <td>0</td>\n",
       "      <td>1</td>\n",
       "      <td>0</td>\n",
       "      <td>0</td>\n",
       "      <td>2.522909</td>\n",
       "    </tr>\n",
       "  </tbody>\n",
       "</table>\n",
       "<p>2 rows × 42 columns</p>\n",
       "</div>"
      ],
      "text/plain": [
       "       id    imdb_id  popularity     budget     revenue      original_title  \\\n",
       "0  135397  tt0369610   32.985763  150000000  1513528810      Jurassic World   \n",
       "1   76341  tt1392190   28.419936  150000000   378436354  Mad Max: Fury Road   \n",
       "\n",
       "                                                cast  \\\n",
       "0  Chris Pratt|Bryce Dallas Howard|Irrfan Khan|Vi...   \n",
       "1  Tom Hardy|Charlize Theron|Hugh Keays-Byrne|Nic...   \n",
       "\n",
       "                        homepage         director             tagline  \\\n",
       "0  http://www.jurassicworld.com/  Colin Trevorrow   The park is open.   \n",
       "1    http://www.madmaxmovie.com/    George Miller  What a Lovely Day.   \n",
       "\n",
       "     ...     Horror Music  Mystery Romance Science Fiction TV Movie  Thriller  \\\n",
       "0    ...          0     0        0       0               1        0         1   \n",
       "1    ...          0     0        0       0               1        0         1   \n",
       "\n",
       "   War  Western          0  \n",
       "0    0        0  10.090192  \n",
       "1    0        0   2.522909  \n",
       "\n",
       "[2 rows x 42 columns]"
      ]
     },
     "execution_count": 27,
     "metadata": {},
     "output_type": "execute_result"
    }
   ],
   "source": [
    "cleandf.head(2)"
   ]
  },
  {
   "cell_type": "markdown",
   "metadata": {},
   "source": [
    "*The column has been merged at the end, but doesn't have a name. Let's rename it 'efficiency'.*"
   ]
  },
  {
   "cell_type": "code",
   "execution_count": 28,
   "metadata": {},
   "outputs": [],
   "source": [
    "cleandf.rename(columns={0:'efficiency'}, inplace=True) "
   ]
  },
  {
   "cell_type": "code",
   "execution_count": 29,
   "metadata": {},
   "outputs": [
    {
     "data": {
      "text/html": [
       "<div>\n",
       "<style scoped>\n",
       "    .dataframe tbody tr th:only-of-type {\n",
       "        vertical-align: middle;\n",
       "    }\n",
       "\n",
       "    .dataframe tbody tr th {\n",
       "        vertical-align: top;\n",
       "    }\n",
       "\n",
       "    .dataframe thead th {\n",
       "        text-align: right;\n",
       "    }\n",
       "</style>\n",
       "<table border=\"1\" class=\"dataframe\">\n",
       "  <thead>\n",
       "    <tr style=\"text-align: right;\">\n",
       "      <th></th>\n",
       "      <th>id</th>\n",
       "      <th>imdb_id</th>\n",
       "      <th>popularity</th>\n",
       "      <th>budget</th>\n",
       "      <th>revenue</th>\n",
       "      <th>original_title</th>\n",
       "      <th>cast</th>\n",
       "      <th>homepage</th>\n",
       "      <th>director</th>\n",
       "      <th>tagline</th>\n",
       "      <th>...</th>\n",
       "      <th>Horror</th>\n",
       "      <th>Music</th>\n",
       "      <th>Mystery</th>\n",
       "      <th>Romance</th>\n",
       "      <th>Science Fiction</th>\n",
       "      <th>TV Movie</th>\n",
       "      <th>Thriller</th>\n",
       "      <th>War</th>\n",
       "      <th>Western</th>\n",
       "      <th>efficiency</th>\n",
       "    </tr>\n",
       "  </thead>\n",
       "  <tbody>\n",
       "    <tr>\n",
       "      <th>0</th>\n",
       "      <td>135397</td>\n",
       "      <td>tt0369610</td>\n",
       "      <td>32.985763</td>\n",
       "      <td>150000000</td>\n",
       "      <td>1513528810</td>\n",
       "      <td>Jurassic World</td>\n",
       "      <td>Chris Pratt|Bryce Dallas Howard|Irrfan Khan|Vi...</td>\n",
       "      <td>http://www.jurassicworld.com/</td>\n",
       "      <td>Colin Trevorrow</td>\n",
       "      <td>The park is open.</td>\n",
       "      <td>...</td>\n",
       "      <td>0</td>\n",
       "      <td>0</td>\n",
       "      <td>0</td>\n",
       "      <td>0</td>\n",
       "      <td>1</td>\n",
       "      <td>0</td>\n",
       "      <td>1</td>\n",
       "      <td>0</td>\n",
       "      <td>0</td>\n",
       "      <td>10.090192</td>\n",
       "    </tr>\n",
       "    <tr>\n",
       "      <th>1</th>\n",
       "      <td>76341</td>\n",
       "      <td>tt1392190</td>\n",
       "      <td>28.419936</td>\n",
       "      <td>150000000</td>\n",
       "      <td>378436354</td>\n",
       "      <td>Mad Max: Fury Road</td>\n",
       "      <td>Tom Hardy|Charlize Theron|Hugh Keays-Byrne|Nic...</td>\n",
       "      <td>http://www.madmaxmovie.com/</td>\n",
       "      <td>George Miller</td>\n",
       "      <td>What a Lovely Day.</td>\n",
       "      <td>...</td>\n",
       "      <td>0</td>\n",
       "      <td>0</td>\n",
       "      <td>0</td>\n",
       "      <td>0</td>\n",
       "      <td>1</td>\n",
       "      <td>0</td>\n",
       "      <td>1</td>\n",
       "      <td>0</td>\n",
       "      <td>0</td>\n",
       "      <td>2.522909</td>\n",
       "    </tr>\n",
       "  </tbody>\n",
       "</table>\n",
       "<p>2 rows × 42 columns</p>\n",
       "</div>"
      ],
      "text/plain": [
       "       id    imdb_id  popularity     budget     revenue      original_title  \\\n",
       "0  135397  tt0369610   32.985763  150000000  1513528810      Jurassic World   \n",
       "1   76341  tt1392190   28.419936  150000000   378436354  Mad Max: Fury Road   \n",
       "\n",
       "                                                cast  \\\n",
       "0  Chris Pratt|Bryce Dallas Howard|Irrfan Khan|Vi...   \n",
       "1  Tom Hardy|Charlize Theron|Hugh Keays-Byrne|Nic...   \n",
       "\n",
       "                        homepage         director             tagline  \\\n",
       "0  http://www.jurassicworld.com/  Colin Trevorrow   The park is open.   \n",
       "1    http://www.madmaxmovie.com/    George Miller  What a Lovely Day.   \n",
       "\n",
       "      ...     Horror Music  Mystery Romance Science Fiction TV Movie  \\\n",
       "0     ...          0     0        0       0               1        0   \n",
       "1     ...          0     0        0       0               1        0   \n",
       "\n",
       "   Thriller  War  Western  efficiency  \n",
       "0         1    0        0   10.090192  \n",
       "1         1    0        0    2.522909  \n",
       "\n",
       "[2 rows x 42 columns]"
      ]
     },
     "execution_count": 29,
     "metadata": {},
     "output_type": "execute_result"
    }
   ],
   "source": [
    "cleandf.head(2)"
   ]
  },
  {
   "cell_type": "code",
   "execution_count": 30,
   "metadata": {},
   "outputs": [
    {
     "data": {
      "text/plain": [
       "(3547, 42)"
      ]
     },
     "execution_count": 30,
     "metadata": {},
     "output_type": "execute_result"
    }
   ],
   "source": [
    "cleandf.shape"
   ]
  },
  {
   "cell_type": "code",
   "execution_count": 31,
   "metadata": {},
   "outputs": [],
   "source": [
    "count_by_yearc=cleandf.groupby('release_year').count()['revenue_adj']"
   ]
  },
  {
   "cell_type": "code",
   "execution_count": 32,
   "metadata": {},
   "outputs": [
    {
     "data": {
      "text/plain": [
       "release_year\n",
       "1960      5\n",
       "1961     10\n",
       "1962      7\n",
       "1963      6\n",
       "1964      7\n",
       "1965      5\n",
       "1966      5\n",
       "1967     13\n",
       "1968      9\n",
       "1969      4\n",
       "1970     11\n",
       "1971     13\n",
       "1972      7\n",
       "1973     12\n",
       "1974     12\n",
       "1975      9\n",
       "1976     15\n",
       "1977     17\n",
       "1978     16\n",
       "1979     15\n",
       "1980     23\n",
       "1981     27\n",
       "1982     25\n",
       "1983     30\n",
       "1984     42\n",
       "1985     39\n",
       "1986     47\n",
       "1987     44\n",
       "1988     56\n",
       "1989     50\n",
       "1990     49\n",
       "1991     49\n",
       "1992     51\n",
       "1993     65\n",
       "1994     58\n",
       "1995     74\n",
       "1996     79\n",
       "1997     88\n",
       "1998     89\n",
       "1999    109\n",
       "2000    104\n",
       "2001    113\n",
       "2002    119\n",
       "2003    112\n",
       "2004    135\n",
       "2005    148\n",
       "2006    155\n",
       "2007    147\n",
       "2008    157\n",
       "2009    157\n",
       "2010    151\n",
       "2011    165\n",
       "2012    137\n",
       "2013    162\n",
       "2014    149\n",
       "2015    144\n",
       "Name: revenue_adj, dtype: int64"
      ]
     },
     "execution_count": 32,
     "metadata": {},
     "output_type": "execute_result"
    }
   ],
   "source": [
    "count_by_yearc"
   ]
  },
  {
   "cell_type": "markdown",
   "metadata": {},
   "source": [
    "*The data cleansing process has erased 7319 movies. The largest purge on the dataframe was established with the floor for revenue of USD 1 million (6507 movies dropped). However, this is strictly necessary to conduct the cuantitative analysis that follows.*"
   ]
  },
  {
   "cell_type": "code",
   "execution_count": 33,
   "metadata": {},
   "outputs": [
    {
     "data": {
      "text/html": [
       "<div>\n",
       "<style scoped>\n",
       "    .dataframe tbody tr th:only-of-type {\n",
       "        vertical-align: middle;\n",
       "    }\n",
       "\n",
       "    .dataframe tbody tr th {\n",
       "        vertical-align: top;\n",
       "    }\n",
       "\n",
       "    .dataframe thead th {\n",
       "        text-align: right;\n",
       "    }\n",
       "</style>\n",
       "<table border=\"1\" class=\"dataframe\">\n",
       "  <thead>\n",
       "    <tr style=\"text-align: right;\">\n",
       "      <th></th>\n",
       "      <th>id</th>\n",
       "      <th>popularity</th>\n",
       "      <th>budget</th>\n",
       "      <th>revenue</th>\n",
       "      <th>runtime</th>\n",
       "      <th>vote_count</th>\n",
       "      <th>vote_average</th>\n",
       "      <th>release_year</th>\n",
       "      <th>budget_adj</th>\n",
       "      <th>revenue_adj</th>\n",
       "      <th>...</th>\n",
       "      <th>Horror</th>\n",
       "      <th>Music</th>\n",
       "      <th>Mystery</th>\n",
       "      <th>Romance</th>\n",
       "      <th>Science Fiction</th>\n",
       "      <th>TV Movie</th>\n",
       "      <th>Thriller</th>\n",
       "      <th>War</th>\n",
       "      <th>Western</th>\n",
       "      <th>efficiency</th>\n",
       "    </tr>\n",
       "  </thead>\n",
       "  <tbody>\n",
       "    <tr>\n",
       "      <th>count</th>\n",
       "      <td>3547.000000</td>\n",
       "      <td>3547.000000</td>\n",
       "      <td>3.547000e+03</td>\n",
       "      <td>3.547000e+03</td>\n",
       "      <td>3547.000000</td>\n",
       "      <td>3547.000000</td>\n",
       "      <td>3547.000000</td>\n",
       "      <td>3547.000000</td>\n",
       "      <td>3.547000e+03</td>\n",
       "      <td>3.547000e+03</td>\n",
       "      <td>...</td>\n",
       "      <td>3547.000000</td>\n",
       "      <td>3547.000000</td>\n",
       "      <td>3547.000000</td>\n",
       "      <td>3547.000000</td>\n",
       "      <td>3547.000000</td>\n",
       "      <td>3547.000000</td>\n",
       "      <td>3547.000000</td>\n",
       "      <td>3547.000000</td>\n",
       "      <td>3547.000000</td>\n",
       "      <td>3547.000000</td>\n",
       "    </tr>\n",
       "    <tr>\n",
       "      <th>mean</th>\n",
       "      <td>37898.941359</td>\n",
       "      <td>1.253377</td>\n",
       "      <td>3.988495e+07</td>\n",
       "      <td>1.166014e+08</td>\n",
       "      <td>110.024246</td>\n",
       "      <td>565.041162</td>\n",
       "      <td>6.187708</td>\n",
       "      <td>2000.901325</td>\n",
       "      <td>4.747421e+07</td>\n",
       "      <td>1.483720e+08</td>\n",
       "      <td>...</td>\n",
       "      <td>0.113053</td>\n",
       "      <td>0.036087</td>\n",
       "      <td>0.089935</td>\n",
       "      <td>0.171976</td>\n",
       "      <td>0.136735</td>\n",
       "      <td>0.000282</td>\n",
       "      <td>0.312659</td>\n",
       "      <td>0.031858</td>\n",
       "      <td>0.014096</td>\n",
       "      <td>4.276533</td>\n",
       "    </tr>\n",
       "    <tr>\n",
       "      <th>std</th>\n",
       "      <td>65649.972407</td>\n",
       "      <td>1.519424</td>\n",
       "      <td>4.284864e+07</td>\n",
       "      <td>1.811851e+08</td>\n",
       "      <td>19.610576</td>\n",
       "      <td>906.942382</td>\n",
       "      <td>0.785408</td>\n",
       "      <td>11.416899</td>\n",
       "      <td>4.514659e+07</td>\n",
       "      <td>2.215209e+08</td>\n",
       "      <td>...</td>\n",
       "      <td>0.316703</td>\n",
       "      <td>0.186533</td>\n",
       "      <td>0.286129</td>\n",
       "      <td>0.377413</td>\n",
       "      <td>0.343616</td>\n",
       "      <td>0.016791</td>\n",
       "      <td>0.463642</td>\n",
       "      <td>0.175646</td>\n",
       "      <td>0.117905</td>\n",
       "      <td>9.753165</td>\n",
       "    </tr>\n",
       "    <tr>\n",
       "      <th>min</th>\n",
       "      <td>5.000000</td>\n",
       "      <td>0.010335</td>\n",
       "      <td>2.000000e+05</td>\n",
       "      <td>5.027580e+05</td>\n",
       "      <td>26.000000</td>\n",
       "      <td>10.000000</td>\n",
       "      <td>3.300000</td>\n",
       "      <td>1960.000000</td>\n",
       "      <td>1.002810e+06</td>\n",
       "      <td>1.001273e+06</td>\n",
       "      <td>...</td>\n",
       "      <td>0.000000</td>\n",
       "      <td>0.000000</td>\n",
       "      <td>0.000000</td>\n",
       "      <td>0.000000</td>\n",
       "      <td>0.000000</td>\n",
       "      <td>0.000000</td>\n",
       "      <td>0.000000</td>\n",
       "      <td>0.000000</td>\n",
       "      <td>0.000000</td>\n",
       "      <td>0.017098</td>\n",
       "    </tr>\n",
       "    <tr>\n",
       "      <th>25%</th>\n",
       "      <td>5173.000000</td>\n",
       "      <td>0.496044</td>\n",
       "      <td>1.200000e+07</td>\n",
       "      <td>1.860869e+07</td>\n",
       "      <td>96.000000</td>\n",
       "      <td>82.000000</td>\n",
       "      <td>5.700000</td>\n",
       "      <td>1995.000000</td>\n",
       "      <td>1.620656e+07</td>\n",
       "      <td>2.518352e+07</td>\n",
       "      <td>...</td>\n",
       "      <td>0.000000</td>\n",
       "      <td>0.000000</td>\n",
       "      <td>0.000000</td>\n",
       "      <td>0.000000</td>\n",
       "      <td>0.000000</td>\n",
       "      <td>0.000000</td>\n",
       "      <td>0.000000</td>\n",
       "      <td>0.000000</td>\n",
       "      <td>0.000000</td>\n",
       "      <td>1.025916</td>\n",
       "    </tr>\n",
       "    <tr>\n",
       "      <th>50%</th>\n",
       "      <td>10956.000000</td>\n",
       "      <td>0.869474</td>\n",
       "      <td>2.500000e+07</td>\n",
       "      <td>5.288202e+07</td>\n",
       "      <td>106.000000</td>\n",
       "      <td>231.000000</td>\n",
       "      <td>6.200000</td>\n",
       "      <td>2004.000000</td>\n",
       "      <td>3.283968e+07</td>\n",
       "      <td>7.128227e+07</td>\n",
       "      <td>...</td>\n",
       "      <td>0.000000</td>\n",
       "      <td>0.000000</td>\n",
       "      <td>0.000000</td>\n",
       "      <td>0.000000</td>\n",
       "      <td>0.000000</td>\n",
       "      <td>0.000000</td>\n",
       "      <td>0.000000</td>\n",
       "      <td>0.000000</td>\n",
       "      <td>0.000000</td>\n",
       "      <td>2.219763</td>\n",
       "    </tr>\n",
       "    <tr>\n",
       "      <th>75%</th>\n",
       "      <td>35739.500000</td>\n",
       "      <td>1.455553</td>\n",
       "      <td>5.100000e+07</td>\n",
       "      <td>1.365106e+08</td>\n",
       "      <td>120.000000</td>\n",
       "      <td>622.500000</td>\n",
       "      <td>6.700000</td>\n",
       "      <td>2010.000000</td>\n",
       "      <td>6.439674e+07</td>\n",
       "      <td>1.766233e+08</td>\n",
       "      <td>...</td>\n",
       "      <td>0.000000</td>\n",
       "      <td>0.000000</td>\n",
       "      <td>0.000000</td>\n",
       "      <td>0.000000</td>\n",
       "      <td>0.000000</td>\n",
       "      <td>0.000000</td>\n",
       "      <td>1.000000</td>\n",
       "      <td>0.000000</td>\n",
       "      <td>0.000000</td>\n",
       "      <td>4.218053</td>\n",
       "    </tr>\n",
       "    <tr>\n",
       "      <th>max</th>\n",
       "      <td>417859.000000</td>\n",
       "      <td>32.985763</td>\n",
       "      <td>4.250000e+08</td>\n",
       "      <td>2.781506e+09</td>\n",
       "      <td>248.000000</td>\n",
       "      <td>9767.000000</td>\n",
       "      <td>8.400000</td>\n",
       "      <td>2015.000000</td>\n",
       "      <td>4.250000e+08</td>\n",
       "      <td>2.827124e+09</td>\n",
       "      <td>...</td>\n",
       "      <td>1.000000</td>\n",
       "      <td>1.000000</td>\n",
       "      <td>1.000000</td>\n",
       "      <td>1.000000</td>\n",
       "      <td>1.000000</td>\n",
       "      <td>1.000000</td>\n",
       "      <td>1.000000</td>\n",
       "      <td>1.000000</td>\n",
       "      <td>1.000000</td>\n",
       "      <td>250.000000</td>\n",
       "    </tr>\n",
       "  </tbody>\n",
       "</table>\n",
       "<p>8 rows × 31 columns</p>\n",
       "</div>"
      ],
      "text/plain": [
       "                  id   popularity        budget       revenue      runtime  \\\n",
       "count    3547.000000  3547.000000  3.547000e+03  3.547000e+03  3547.000000   \n",
       "mean    37898.941359     1.253377  3.988495e+07  1.166014e+08   110.024246   \n",
       "std     65649.972407     1.519424  4.284864e+07  1.811851e+08    19.610576   \n",
       "min         5.000000     0.010335  2.000000e+05  5.027580e+05    26.000000   \n",
       "25%      5173.000000     0.496044  1.200000e+07  1.860869e+07    96.000000   \n",
       "50%     10956.000000     0.869474  2.500000e+07  5.288202e+07   106.000000   \n",
       "75%     35739.500000     1.455553  5.100000e+07  1.365106e+08   120.000000   \n",
       "max    417859.000000    32.985763  4.250000e+08  2.781506e+09   248.000000   \n",
       "\n",
       "        vote_count  vote_average  release_year    budget_adj   revenue_adj  \\\n",
       "count  3547.000000   3547.000000   3547.000000  3.547000e+03  3.547000e+03   \n",
       "mean    565.041162      6.187708   2000.901325  4.747421e+07  1.483720e+08   \n",
       "std     906.942382      0.785408     11.416899  4.514659e+07  2.215209e+08   \n",
       "min      10.000000      3.300000   1960.000000  1.002810e+06  1.001273e+06   \n",
       "25%      82.000000      5.700000   1995.000000  1.620656e+07  2.518352e+07   \n",
       "50%     231.000000      6.200000   2004.000000  3.283968e+07  7.128227e+07   \n",
       "75%     622.500000      6.700000   2010.000000  6.439674e+07  1.766233e+08   \n",
       "max    9767.000000      8.400000   2015.000000  4.250000e+08  2.827124e+09   \n",
       "\n",
       "          ...            Horror        Music      Mystery      Romance  \\\n",
       "count     ...       3547.000000  3547.000000  3547.000000  3547.000000   \n",
       "mean      ...          0.113053     0.036087     0.089935     0.171976   \n",
       "std       ...          0.316703     0.186533     0.286129     0.377413   \n",
       "min       ...          0.000000     0.000000     0.000000     0.000000   \n",
       "25%       ...          0.000000     0.000000     0.000000     0.000000   \n",
       "50%       ...          0.000000     0.000000     0.000000     0.000000   \n",
       "75%       ...          0.000000     0.000000     0.000000     0.000000   \n",
       "max       ...          1.000000     1.000000     1.000000     1.000000   \n",
       "\n",
       "       Science Fiction     TV Movie     Thriller          War      Western  \\\n",
       "count      3547.000000  3547.000000  3547.000000  3547.000000  3547.000000   \n",
       "mean          0.136735     0.000282     0.312659     0.031858     0.014096   \n",
       "std           0.343616     0.016791     0.463642     0.175646     0.117905   \n",
       "min           0.000000     0.000000     0.000000     0.000000     0.000000   \n",
       "25%           0.000000     0.000000     0.000000     0.000000     0.000000   \n",
       "50%           0.000000     0.000000     0.000000     0.000000     0.000000   \n",
       "75%           0.000000     0.000000     1.000000     0.000000     0.000000   \n",
       "max           1.000000     1.000000     1.000000     1.000000     1.000000   \n",
       "\n",
       "        efficiency  \n",
       "count  3547.000000  \n",
       "mean      4.276533  \n",
       "std       9.753165  \n",
       "min       0.017098  \n",
       "25%       1.025916  \n",
       "50%       2.219763  \n",
       "75%       4.218053  \n",
       "max     250.000000  \n",
       "\n",
       "[8 rows x 31 columns]"
      ]
     },
     "execution_count": 33,
     "metadata": {},
     "output_type": "execute_result"
    }
   ],
   "source": [
    "cleandf.describe()"
   ]
  },
  {
   "cell_type": "markdown",
   "metadata": {},
   "source": [
    "<a id='eda'></a>\n",
    "## Exploratory Data Analysis\n",
    "\n",
    "### Research Question 1: Which are the top 10 grossing movies of all time? "
   ]
  },
  {
   "cell_type": "markdown",
   "metadata": {
    "collapsed": true
   },
   "source": [
    "*This section will identify the top 10 movies of all time and provide insight on characteristics such as most popular genres within this set and their average viewer score. We start the analysis with a table view of the top 10 grossing films.*\n"
   ]
  },
  {
   "cell_type": "code",
   "execution_count": 167,
   "metadata": {},
   "outputs": [],
   "source": [
    "top_grossing=cleandf.nlargest(10,'revenue_adj')"
   ]
  },
  {
   "cell_type": "code",
   "execution_count": 98,
   "metadata": {},
   "outputs": [
    {
     "data": {
      "text/html": [
       "<div>\n",
       "<style scoped>\n",
       "    .dataframe tbody tr th:only-of-type {\n",
       "        vertical-align: middle;\n",
       "    }\n",
       "\n",
       "    .dataframe tbody tr th {\n",
       "        vertical-align: top;\n",
       "    }\n",
       "\n",
       "    .dataframe thead th {\n",
       "        text-align: right;\n",
       "    }\n",
       "</style>\n",
       "<table border=\"1\" class=\"dataframe\">\n",
       "  <thead>\n",
       "    <tr style=\"text-align: right;\">\n",
       "      <th></th>\n",
       "      <th>original_title</th>\n",
       "      <th>release_year</th>\n",
       "      <th>genres</th>\n",
       "      <th>vote_average</th>\n",
       "      <th>revenue_adj</th>\n",
       "      <th>efficiency</th>\n",
       "      <th>vote_count</th>\n",
       "    </tr>\n",
       "  </thead>\n",
       "  <tbody>\n",
       "    <tr>\n",
       "      <th>1386</th>\n",
       "      <td>Avatar</td>\n",
       "      <td>2009</td>\n",
       "      <td>Action|Adventure|Fantasy|Science Fiction</td>\n",
       "      <td>7.1</td>\n",
       "      <td>2.827124e+09</td>\n",
       "      <td>11.736312</td>\n",
       "      <td>8458</td>\n",
       "    </tr>\n",
       "    <tr>\n",
       "      <th>1329</th>\n",
       "      <td>Star Wars</td>\n",
       "      <td>1977</td>\n",
       "      <td>Adventure|Action|Science Fiction</td>\n",
       "      <td>7.9</td>\n",
       "      <td>2.789712e+09</td>\n",
       "      <td>70.490728</td>\n",
       "      <td>4428</td>\n",
       "    </tr>\n",
       "    <tr>\n",
       "      <th>5231</th>\n",
       "      <td>Titanic</td>\n",
       "      <td>1997</td>\n",
       "      <td>Drama|Romance|Thriller</td>\n",
       "      <td>7.3</td>\n",
       "      <td>2.506406e+09</td>\n",
       "      <td>9.225171</td>\n",
       "      <td>4654</td>\n",
       "    </tr>\n",
       "    <tr>\n",
       "      <th>10594</th>\n",
       "      <td>The Exorcist</td>\n",
       "      <td>1973</td>\n",
       "      <td>Drama|Horror|Thriller</td>\n",
       "      <td>7.2</td>\n",
       "      <td>2.167325e+09</td>\n",
       "      <td>55.163268</td>\n",
       "      <td>1113</td>\n",
       "    </tr>\n",
       "    <tr>\n",
       "      <th>9806</th>\n",
       "      <td>Jaws</td>\n",
       "      <td>1975</td>\n",
       "      <td>Horror|Thriller|Adventure</td>\n",
       "      <td>7.3</td>\n",
       "      <td>1.907006e+09</td>\n",
       "      <td>67.236286</td>\n",
       "      <td>1415</td>\n",
       "    </tr>\n",
       "    <tr>\n",
       "      <th>3</th>\n",
       "      <td>Star Wars: The Force Awakens</td>\n",
       "      <td>2015</td>\n",
       "      <td>Action|Adventure|Science Fiction|Fantasy</td>\n",
       "      <td>7.5</td>\n",
       "      <td>1.902723e+09</td>\n",
       "      <td>10.340891</td>\n",
       "      <td>5292</td>\n",
       "    </tr>\n",
       "    <tr>\n",
       "      <th>8889</th>\n",
       "      <td>E.T. the Extra-Terrestrial</td>\n",
       "      <td>1982</td>\n",
       "      <td>Science Fiction|Adventure|Family|Fantasy</td>\n",
       "      <td>7.2</td>\n",
       "      <td>1.791694e+09</td>\n",
       "      <td>75.515291</td>\n",
       "      <td>1830</td>\n",
       "    </tr>\n",
       "    <tr>\n",
       "      <th>8094</th>\n",
       "      <td>The Net</td>\n",
       "      <td>1995</td>\n",
       "      <td>Crime|Drama|Mystery|Thriller|Action</td>\n",
       "      <td>5.6</td>\n",
       "      <td>1.583050e+09</td>\n",
       "      <td>50.285439</td>\n",
       "      <td>201</td>\n",
       "    </tr>\n",
       "    <tr>\n",
       "      <th>10110</th>\n",
       "      <td>One Hundred and One Dalmatians</td>\n",
       "      <td>1961</td>\n",
       "      <td>Adventure|Animation|Comedy|Family</td>\n",
       "      <td>6.6</td>\n",
       "      <td>1.574815e+09</td>\n",
       "      <td>53.970003</td>\n",
       "      <td>913</td>\n",
       "    </tr>\n",
       "    <tr>\n",
       "      <th>4361</th>\n",
       "      <td>The Avengers</td>\n",
       "      <td>2012</td>\n",
       "      <td>Science Fiction|Action|Adventure</td>\n",
       "      <td>7.3</td>\n",
       "      <td>1.443191e+09</td>\n",
       "      <td>6.907081</td>\n",
       "      <td>8903</td>\n",
       "    </tr>\n",
       "  </tbody>\n",
       "</table>\n",
       "</div>"
      ],
      "text/plain": [
       "                       original_title  release_year  \\\n",
       "1386                           Avatar          2009   \n",
       "1329                        Star Wars          1977   \n",
       "5231                          Titanic          1997   \n",
       "10594                    The Exorcist          1973   \n",
       "9806                             Jaws          1975   \n",
       "3        Star Wars: The Force Awakens          2015   \n",
       "8889       E.T. the Extra-Terrestrial          1982   \n",
       "8094                          The Net          1995   \n",
       "10110  One Hundred and One Dalmatians          1961   \n",
       "4361                     The Avengers          2012   \n",
       "\n",
       "                                         genres  vote_average   revenue_adj  \\\n",
       "1386   Action|Adventure|Fantasy|Science Fiction           7.1  2.827124e+09   \n",
       "1329           Adventure|Action|Science Fiction           7.9  2.789712e+09   \n",
       "5231                     Drama|Romance|Thriller           7.3  2.506406e+09   \n",
       "10594                     Drama|Horror|Thriller           7.2  2.167325e+09   \n",
       "9806                  Horror|Thriller|Adventure           7.3  1.907006e+09   \n",
       "3      Action|Adventure|Science Fiction|Fantasy           7.5  1.902723e+09   \n",
       "8889   Science Fiction|Adventure|Family|Fantasy           7.2  1.791694e+09   \n",
       "8094        Crime|Drama|Mystery|Thriller|Action           5.6  1.583050e+09   \n",
       "10110         Adventure|Animation|Comedy|Family           6.6  1.574815e+09   \n",
       "4361           Science Fiction|Action|Adventure           7.3  1.443191e+09   \n",
       "\n",
       "       efficiency  vote_count  \n",
       "1386    11.736312        8458  \n",
       "1329    70.490728        4428  \n",
       "5231     9.225171        4654  \n",
       "10594   55.163268        1113  \n",
       "9806    67.236286        1415  \n",
       "3       10.340891        5292  \n",
       "8889    75.515291        1830  \n",
       "8094    50.285439         201  \n",
       "10110   53.970003         913  \n",
       "4361     6.907081        8903  "
      ]
     },
     "execution_count": 98,
     "metadata": {},
     "output_type": "execute_result"
    }
   ],
   "source": [
    "top_grossing[['original_title','release_year', 'genres', 'vote_average','revenue_adj', 'efficiency', 'vote_count']]"
   ]
  },
  {
   "cell_type": "markdown",
   "metadata": {},
   "source": [
    "**The names on the list make sense, except for The Net and One Hundred and One Dalmatians. I Google searched this and it's not accurate. However, if this same code is run on the original database, both movies appear in the top 10. Therefore, this is a potential error in the data. I will discount this fact to continue the analysis. Let's graph this table to make it more visual.**"
   ]
  },
  {
   "cell_type": "markdown",
   "metadata": {},
   "source": [
    "*First, create a new dataframe sorted by revenue, descending*"
   ]
  },
  {
   "cell_type": "code",
   "execution_count": 88,
   "metadata": {},
   "outputs": [],
   "source": [
    "top_sorted=top_grossing.sort_values('revenue_adj', ascending=False)"
   ]
  },
  {
   "cell_type": "markdown",
   "metadata": {},
   "source": [
    "*Create a revenue array.*"
   ]
  },
  {
   "cell_type": "code",
   "execution_count": 89,
   "metadata": {},
   "outputs": [],
   "source": [
    "rev_top=top_sorted['revenue_adj']"
   ]
  },
  {
   "cell_type": "markdown",
   "metadata": {},
   "source": [
    "*Create a title array. Since it's previously sorted, it's in the same order as the revenue array.*"
   ]
  },
  {
   "cell_type": "code",
   "execution_count": 90,
   "metadata": {},
   "outputs": [],
   "source": [
    "title_top=top_sorted['original_title']"
   ]
  },
  {
   "cell_type": "code",
   "execution_count": 91,
   "metadata": {},
   "outputs": [
    {
     "data": {
      "image/png": "[encoded data removed]",
      "text/plain": [
       "<matplotlib.figure.Figure at 0x7faec430fe48>"
      ]
     },
     "metadata": {
      "needs_background": "light"
     },
     "output_type": "display_data"
    }
   ],
   "source": [
    "locations=[1,2,3,4,5,6,7,8,9,10]\n",
    "heights = rev_top\n",
    "labels= title_top\n",
    "plt.figure(figsize=(25,7))\n",
    "plt.bar(locations, heights, tick_label=labels)\n",
    "plt.title('Top 10 Grossing Films of All Time')\n",
    "plt.xlabel('Title of Film')\n",
    "plt.ylabel('Revenue in US$ Bn');"
   ]
  },
  {
   "cell_type": "markdown",
   "metadata": {},
   "source": [
    "**1) Avatar is the highest grossing film of all time, *until 2015*. Revenue for this subset ranges from USD 2.82 to 1.44 billion, with a mean of 2.04 billion. The mean for the entire dataset is USD 148 million and the median USD 71.3 million.**"
   ]
  },
  {
   "cell_type": "code",
   "execution_count": 92,
   "metadata": {},
   "outputs": [
    {
     "data": {
      "text/plain": [
       "2049304562.1538162"
      ]
     },
     "execution_count": 92,
     "metadata": {},
     "output_type": "execute_result"
    }
   ],
   "source": [
    "top_grossing.revenue_adj.mean()"
   ]
  },
  {
   "cell_type": "code",
   "execution_count": 103,
   "metadata": {},
   "outputs": [
    {
     "data": {
      "text/plain": [
       "148372018.41233003"
      ]
     },
     "execution_count": 103,
     "metadata": {},
     "output_type": "execute_result"
    }
   ],
   "source": [
    "cleandf.revenue_adj.mean()"
   ]
  },
  {
   "cell_type": "code",
   "execution_count": 120,
   "metadata": {},
   "outputs": [
    {
     "data": {
      "text/plain": [
       "71282266.867035002"
      ]
     },
     "execution_count": 120,
     "metadata": {},
     "output_type": "execute_result"
    }
   ],
   "source": [
    "cleandf.revenue_adj.median()"
   ]
  },
  {
   "cell_type": "markdown",
   "metadata": {},
   "source": [
    "**2)The mean vote average for the highest grossing films is 7.1, which is in the 88th percentile of the dataset.** "
   ]
  },
  {
   "cell_type": "code",
   "execution_count": 93,
   "metadata": {},
   "outputs": [
    {
     "data": {
      "text/plain": [
       "7.0999999999999996"
      ]
     },
     "execution_count": 93,
     "metadata": {},
     "output_type": "execute_result"
    }
   ],
   "source": [
    "top_grossing.vote_average.mean()"
   ]
  },
  {
   "cell_type": "code",
   "execution_count": 197,
   "metadata": {},
   "outputs": [],
   "source": [
    "percentile=cleandf['vote_average']"
   ]
  },
  {
   "cell_type": "code",
   "execution_count": 198,
   "metadata": {},
   "outputs": [
    {
     "data": {
      "text/plain": [
       "7.1"
      ]
     },
     "execution_count": 198,
     "metadata": {},
     "output_type": "execute_result"
    }
   ],
   "source": [
    "percentile.quantile(0.88)"
   ]
  },
  {
   "cell_type": "markdown",
   "metadata": {},
   "source": [
    "**It we plot vote_average vs revenu, it's hard to determine a relationship between them. Yet most high grossing films have a rating above 7.1, which is in the 88th percentile.**"
   ]
  },
  {
   "cell_type": "code",
   "execution_count": 94,
   "metadata": {},
   "outputs": [
    {
     "data": {
      "image/png": "[encoded data removed]",
      "text/plain": [
       "<matplotlib.figure.Figure at 0x7faec432c3c8>"
      ]
     },
     "metadata": {
      "needs_background": "light"
     },
     "output_type": "display_data"
    }
   ],
   "source": [
    "top_grossing.plot(x='vote_average', y='revenue_adj', kind='scatter');"
   ]
  },
  {
   "cell_type": "markdown",
   "metadata": {},
   "source": [
    "*I expand the dataframe to the top 50 grossing movies to observe this relationship better*"
   ]
  },
  {
   "cell_type": "code",
   "execution_count": 95,
   "metadata": {},
   "outputs": [],
   "source": [
    "top_grossing50=cleandf.nlargest(50,'revenue_adj')"
   ]
  },
  {
   "cell_type": "code",
   "execution_count": 96,
   "metadata": {},
   "outputs": [
    {
     "data": {
      "image/png": "[encoded data removed]",
      "text/plain": [
       "<matplotlib.figure.Figure at 0x7faec683af98>"
      ]
     },
     "metadata": {
      "needs_background": "light"
     },
     "output_type": "display_data"
    }
   ],
   "source": [
    "top_grossing50.plot(x='vote_average', y='revenue_adj', kind='scatter');"
   ]
  },
  {
   "cell_type": "markdown",
   "metadata": {},
   "source": [
    "**The expanded dataset can't confirm a positive relationship between vote_average and revenue.**"
   ]
  },
  {
   "cell_type": "markdown",
   "metadata": {},
   "source": [
    "**Finally, these films have had an average of 3720 votes per movie rating.**"
   ]
  },
  {
   "cell_type": "code",
   "execution_count": 97,
   "metadata": {},
   "outputs": [
    {
     "data": {
      "text/plain": [
       "3720.6999999999998"
      ]
     },
     "execution_count": 97,
     "metadata": {},
     "output_type": "execute_result"
    }
   ],
   "source": [
    "top_grossing.vote_count.mean()"
   ]
  },
  {
   "cell_type": "markdown",
   "metadata": {},
   "source": [
    "**3) The mean efficiency ratio is 41.09, with a range between 6.91 and 75.51. For every dollar invested, on average, these films got 41 in return. The two films mentioned above as potentially erroneous raise the average. Yet, older films like Jaws, ET and the original Star Wars have a higher impact. Newer films such as Avatar, The Avengers and The Force Awakens have had tremendous success in the box office, yet their budgets were quite high because of computer generated imagery (CGI). Hence their return on investment is not as high as the older films.**    "
   ]
  },
  {
   "cell_type": "code",
   "execution_count": 99,
   "metadata": {
    "scrolled": true
   },
   "outputs": [
    {
     "data": {
      "text/html": [
       "<div>\n",
       "<style scoped>\n",
       "    .dataframe tbody tr th:only-of-type {\n",
       "        vertical-align: middle;\n",
       "    }\n",
       "\n",
       "    .dataframe tbody tr th {\n",
       "        vertical-align: top;\n",
       "    }\n",
       "\n",
       "    .dataframe thead th {\n",
       "        text-align: right;\n",
       "    }\n",
       "</style>\n",
       "<table border=\"1\" class=\"dataframe\">\n",
       "  <thead>\n",
       "    <tr style=\"text-align: right;\">\n",
       "      <th></th>\n",
       "      <th>original_title</th>\n",
       "      <th>efficiency</th>\n",
       "    </tr>\n",
       "  </thead>\n",
       "  <tbody>\n",
       "    <tr>\n",
       "      <th>1386</th>\n",
       "      <td>Avatar</td>\n",
       "      <td>11.736312</td>\n",
       "    </tr>\n",
       "    <tr>\n",
       "      <th>1329</th>\n",
       "      <td>Star Wars</td>\n",
       "      <td>70.490728</td>\n",
       "    </tr>\n",
       "    <tr>\n",
       "      <th>5231</th>\n",
       "      <td>Titanic</td>\n",
       "      <td>9.225171</td>\n",
       "    </tr>\n",
       "    <tr>\n",
       "      <th>10594</th>\n",
       "      <td>The Exorcist</td>\n",
       "      <td>55.163268</td>\n",
       "    </tr>\n",
       "    <tr>\n",
       "      <th>9806</th>\n",
       "      <td>Jaws</td>\n",
       "      <td>67.236286</td>\n",
       "    </tr>\n",
       "    <tr>\n",
       "      <th>3</th>\n",
       "      <td>Star Wars: The Force Awakens</td>\n",
       "      <td>10.340891</td>\n",
       "    </tr>\n",
       "    <tr>\n",
       "      <th>8889</th>\n",
       "      <td>E.T. the Extra-Terrestrial</td>\n",
       "      <td>75.515291</td>\n",
       "    </tr>\n",
       "    <tr>\n",
       "      <th>8094</th>\n",
       "      <td>The Net</td>\n",
       "      <td>50.285439</td>\n",
       "    </tr>\n",
       "    <tr>\n",
       "      <th>10110</th>\n",
       "      <td>One Hundred and One Dalmatians</td>\n",
       "      <td>53.970003</td>\n",
       "    </tr>\n",
       "    <tr>\n",
       "      <th>4361</th>\n",
       "      <td>The Avengers</td>\n",
       "      <td>6.907081</td>\n",
       "    </tr>\n",
       "  </tbody>\n",
       "</table>\n",
       "</div>"
      ],
      "text/plain": [
       "                       original_title  efficiency\n",
       "1386                           Avatar   11.736312\n",
       "1329                        Star Wars   70.490728\n",
       "5231                          Titanic    9.225171\n",
       "10594                    The Exorcist   55.163268\n",
       "9806                             Jaws   67.236286\n",
       "3        Star Wars: The Force Awakens   10.340891\n",
       "8889       E.T. the Extra-Terrestrial   75.515291\n",
       "8094                          The Net   50.285439\n",
       "10110  One Hundred and One Dalmatians   53.970003\n",
       "4361                     The Avengers    6.907081"
      ]
     },
     "execution_count": 99,
     "metadata": {},
     "output_type": "execute_result"
    }
   ],
   "source": [
    "top_grossing[['original_title','efficiency']]"
   ]
  },
  {
   "cell_type": "code",
   "execution_count": 100,
   "metadata": {},
   "outputs": [
    {
     "data": {
      "text/plain": [
       "41.087047017032752"
      ]
     },
     "execution_count": 100,
     "metadata": {},
     "output_type": "execute_result"
    }
   ],
   "source": [
    "top_grossing.efficiency.mean()"
   ]
  },
  {
   "cell_type": "code",
   "execution_count": 101,
   "metadata": {},
   "outputs": [
    {
     "data": {
      "text/plain": [
       "75.515290857142929"
      ]
     },
     "execution_count": 101,
     "metadata": {},
     "output_type": "execute_result"
    }
   ],
   "source": [
    "top_grossing.efficiency.max()"
   ]
  },
  {
   "cell_type": "code",
   "execution_count": 102,
   "metadata": {},
   "outputs": [
    {
     "data": {
      "text/plain": [
       "6.9070814090909085"
      ]
     },
     "execution_count": 102,
     "metadata": {},
     "output_type": "execute_result"
    }
   ],
   "source": [
    "top_grossing.efficiency.min()"
   ]
  },
  {
   "cell_type": "markdown",
   "metadata": {},
   "source": [
    "**4) The table at the begining shows that Action, Adventure and Science Fiction seem to be the most common genres in the top 10. Since there are multiple genres asigned to a film, a colored pie chart could show a clearer picture of the most relevant generates. We'll need to count the dummy variables. The mean of the column, multiplied by the amount of observations (10) will give us how many times that genre is present in the dataframe.**"
   ]
  },
  {
   "cell_type": "code",
   "execution_count": 26,
   "metadata": {},
   "outputs": [],
   "source": [
    "df_mean=top_grossing[['Action', 'Adventure','Animation','Comedy','Crime','Documentary', 'Drama', 'Family', 'Fantasy', 'Foreign', 'History', 'Horror', 'Music', 'Mystery', 'Romance','Science Fiction', 'TV Movie', 'Thriller', 'War', 'Western']].mean() "
   ]
  },
  {
   "cell_type": "code",
   "execution_count": 48,
   "metadata": {},
   "outputs": [
    {
     "data": {
      "text/plain": [
       "Action             0.5\n",
       "Adventure          0.7\n",
       "Animation          0.1\n",
       "Comedy             0.1\n",
       "Crime              0.1\n",
       "Documentary        0.0\n",
       "Drama              0.3\n",
       "Family             0.2\n",
       "Fantasy            0.3\n",
       "Foreign            0.0\n",
       "History            0.0\n",
       "Horror             0.2\n",
       "Music              0.0\n",
       "Mystery            0.1\n",
       "Romance            0.1\n",
       "Science Fiction    0.5\n",
       "TV Movie           0.0\n",
       "Thriller           0.4\n",
       "War                0.0\n",
       "Western            0.0\n",
       "dtype: float64"
      ]
     },
     "execution_count": 48,
     "metadata": {},
     "output_type": "execute_result"
    }
   ],
   "source": [
    "df_mean"
   ]
  },
  {
   "cell_type": "code",
   "execution_count": 27,
   "metadata": {},
   "outputs": [],
   "source": [
    "gen_num= df_mean*10"
   ]
  },
  {
   "cell_type": "markdown",
   "metadata": {},
   "source": [
    "*I will also change it from a float to an integer to make it easier to understand*"
   ]
  },
  {
   "cell_type": "code",
   "execution_count": 28,
   "metadata": {},
   "outputs": [],
   "source": [
    "gen_num=gen_num.astype(int)"
   ]
  },
  {
   "cell_type": "markdown",
   "metadata": {},
   "source": [
    "*Finally, we want to see how many times each genre is represented in the dataframe*"
   ]
  },
  {
   "cell_type": "code",
   "execution_count": 29,
   "metadata": {},
   "outputs": [
    {
     "data": {
      "text/plain": [
       "Action             5\n",
       "Adventure          7\n",
       "Animation          1\n",
       "Comedy             1\n",
       "Crime              1\n",
       "Documentary        0\n",
       "Drama              3\n",
       "Family             2\n",
       "Fantasy            3\n",
       "Foreign            0\n",
       "History            0\n",
       "Horror             2\n",
       "Music              0\n",
       "Mystery            1\n",
       "Romance            1\n",
       "Science Fiction    5\n",
       "TV Movie           0\n",
       "Thriller           4\n",
       "War                0\n",
       "Western            0\n",
       "dtype: int64"
      ]
     },
     "execution_count": 29,
     "metadata": {},
     "output_type": "execute_result"
    }
   ],
   "source": [
    "gen_num"
   ]
  },
  {
   "cell_type": "code",
   "execution_count": 30,
   "metadata": {},
   "outputs": [
    {
     "data": {
      "image/png": "[encoded data removed]",
      "text/plain": [
       "<matplotlib.figure.Figure at 0x7faec7967c88>"
      ]
     },
     "metadata": {},
     "output_type": "display_data"
    }
   ],
   "source": [
    "#For graphing, I will exclude zeros. \n",
    "labels = ['Action', 'Adventure','Animation','Comedy','Crime', 'Drama', 'Family', 'Fantasy', 'Horror', 'Mystery', 'Romance','Science Fiction', 'Thriller']\n",
    "sizes = [5, 7, 1, 1, 1, 3, 2, 3, 2, 1, 1, 5, 4]\n",
    "explode = (0.03, 0.03, 0.03, 0.03, 0.03, 0.03, 0.03, 0.03, 0.03, 0.03, 0.03, 0.03, 0.03)\n",
    "\n",
    "fig1, ax1 = plt.subplots(figsize=(8,8))\n",
    "ax1.pie(sizes, explode=explode, labels=labels, startangle=90, )\n",
    "ax1.axis('equal') \n",
    "\n",
    "plt.show()"
   ]
  },
  {
   "cell_type": "markdown",
   "metadata": {},
   "source": [
    "**In conclusion, Adventure, Science Fiction and Action are the most popular genres in the top 10 grossing films.** "
   ]
  },
  {
   "cell_type": "markdown",
   "metadata": {},
   "source": [
    "### Research Question 2:  Which are the top 10 best rated films in the database?"
   ]
  },
  {
   "cell_type": "markdown",
   "metadata": {},
   "source": [
    "*The first step is to create a dataframe with the highest rated films in the database* "
   ]
  },
  {
   "cell_type": "code",
   "execution_count": 104,
   "metadata": {},
   "outputs": [],
   "source": [
    "bestmv=cleandf.nlargest(10,'vote_average')"
   ]
  },
  {
   "cell_type": "code",
   "execution_count": 105,
   "metadata": {},
   "outputs": [
    {
     "data": {
      "text/html": [
       "<div>\n",
       "<style scoped>\n",
       "    .dataframe tbody tr th:only-of-type {\n",
       "        vertical-align: middle;\n",
       "    }\n",
       "\n",
       "    .dataframe tbody tr th {\n",
       "        vertical-align: top;\n",
       "    }\n",
       "\n",
       "    .dataframe thead th {\n",
       "        text-align: right;\n",
       "    }\n",
       "</style>\n",
       "<table border=\"1\" class=\"dataframe\">\n",
       "  <thead>\n",
       "    <tr style=\"text-align: right;\">\n",
       "      <th></th>\n",
       "      <th>original_title</th>\n",
       "      <th>release_year</th>\n",
       "      <th>genres</th>\n",
       "      <th>vote_average</th>\n",
       "      <th>revenue_adj</th>\n",
       "      <th>efficiency</th>\n",
       "    </tr>\n",
       "  </thead>\n",
       "  <tbody>\n",
       "    <tr>\n",
       "      <th>4178</th>\n",
       "      <td>The Shawshank Redemption</td>\n",
       "      <td>1994</td>\n",
       "      <td>Drama|Crime</td>\n",
       "      <td>8.4</td>\n",
       "      <td>4.169346e+07</td>\n",
       "      <td>1.133659</td>\n",
       "    </tr>\n",
       "    <tr>\n",
       "      <th>7948</th>\n",
       "      <td>Stop Making Sense</td>\n",
       "      <td>1984</td>\n",
       "      <td>Documentary|Music</td>\n",
       "      <td>8.4</td>\n",
       "      <td>1.045097e+07</td>\n",
       "      <td>4.149102</td>\n",
       "    </tr>\n",
       "    <tr>\n",
       "      <th>7269</th>\n",
       "      <td>The Godfather</td>\n",
       "      <td>1972</td>\n",
       "      <td>Drama|Crime</td>\n",
       "      <td>8.3</td>\n",
       "      <td>1.277914e+09</td>\n",
       "      <td>40.844402</td>\n",
       "    </tr>\n",
       "    <tr>\n",
       "      <th>650</th>\n",
       "      <td>Whiplash</td>\n",
       "      <td>2014</td>\n",
       "      <td>Drama|Music</td>\n",
       "      <td>8.2</td>\n",
       "      <td>1.288891e+07</td>\n",
       "      <td>4.240331</td>\n",
       "    </tr>\n",
       "    <tr>\n",
       "      <th>2409</th>\n",
       "      <td>Fight Club</td>\n",
       "      <td>1999</td>\n",
       "      <td>Drama</td>\n",
       "      <td>8.1</td>\n",
       "      <td>1.320229e+08</td>\n",
       "      <td>1.600853</td>\n",
       "    </tr>\n",
       "    <tr>\n",
       "      <th>2875</th>\n",
       "      <td>The Dark Knight</td>\n",
       "      <td>2008</td>\n",
       "      <td>Drama|Action|Crime|Thriller</td>\n",
       "      <td>8.1</td>\n",
       "      <td>1.014733e+09</td>\n",
       "      <td>5.415794</td>\n",
       "    </tr>\n",
       "    <tr>\n",
       "      <th>4177</th>\n",
       "      <td>Pulp Fiction</td>\n",
       "      <td>1994</td>\n",
       "      <td>Thriller|Crime</td>\n",
       "      <td>8.1</td>\n",
       "      <td>3.147131e+08</td>\n",
       "      <td>26.741095</td>\n",
       "    </tr>\n",
       "    <tr>\n",
       "      <th>4179</th>\n",
       "      <td>Forrest Gump</td>\n",
       "      <td>1994</td>\n",
       "      <td>Comedy|Drama|Romance</td>\n",
       "      <td>8.1</td>\n",
       "      <td>9.973333e+08</td>\n",
       "      <td>12.326280</td>\n",
       "    </tr>\n",
       "    <tr>\n",
       "      <th>9758</th>\n",
       "      <td>The Godfather: Part II</td>\n",
       "      <td>1974</td>\n",
       "      <td>Drama|Crime</td>\n",
       "      <td>8.1</td>\n",
       "      <td>2.102479e+08</td>\n",
       "      <td>3.657142</td>\n",
       "    </tr>\n",
       "    <tr>\n",
       "      <th>10222</th>\n",
       "      <td>Schindler's List</td>\n",
       "      <td>1993</td>\n",
       "      <td>Drama|History|War</td>\n",
       "      <td>8.1</td>\n",
       "      <td>4.849410e+08</td>\n",
       "      <td>14.602989</td>\n",
       "    </tr>\n",
       "  </tbody>\n",
       "</table>\n",
       "</div>"
      ],
      "text/plain": [
       "                 original_title  release_year                       genres  \\\n",
       "4178   The Shawshank Redemption          1994                  Drama|Crime   \n",
       "7948          Stop Making Sense          1984            Documentary|Music   \n",
       "7269              The Godfather          1972                  Drama|Crime   \n",
       "650                    Whiplash          2014                  Drama|Music   \n",
       "2409                 Fight Club          1999                        Drama   \n",
       "2875            The Dark Knight          2008  Drama|Action|Crime|Thriller   \n",
       "4177               Pulp Fiction          1994               Thriller|Crime   \n",
       "4179               Forrest Gump          1994         Comedy|Drama|Romance   \n",
       "9758     The Godfather: Part II          1974                  Drama|Crime   \n",
       "10222          Schindler's List          1993            Drama|History|War   \n",
       "\n",
       "       vote_average   revenue_adj  efficiency  \n",
       "4178            8.4  4.169346e+07    1.133659  \n",
       "7948            8.4  1.045097e+07    4.149102  \n",
       "7269            8.3  1.277914e+09   40.844402  \n",
       "650             8.2  1.288891e+07    4.240331  \n",
       "2409            8.1  1.320229e+08    1.600853  \n",
       "2875            8.1  1.014733e+09    5.415794  \n",
       "4177            8.1  3.147131e+08   26.741095  \n",
       "4179            8.1  9.973333e+08   12.326280  \n",
       "9758            8.1  2.102479e+08    3.657142  \n",
       "10222           8.1  4.849410e+08   14.602989  "
      ]
     },
     "execution_count": 105,
     "metadata": {},
     "output_type": "execute_result"
    }
   ],
   "source": [
    "bestmv[['original_title','release_year', 'genres', 'vote_average','revenue_adj', 'efficiency']]"
   ]
  },
  {
   "cell_type": "markdown",
   "metadata": {},
   "source": [
    "**The names on the list make sense, as some are generally considered to be the best movies of all times. Let's graph this table to make it more visual.**"
   ]
  },
  {
   "cell_type": "markdown",
   "metadata": {},
   "source": [
    "*First, create a new dataframe sorted by vote_average, descending*"
   ]
  },
  {
   "cell_type": "code",
   "execution_count": 106,
   "metadata": {},
   "outputs": [],
   "source": [
    "best_sorted=bestmv.sort_values('vote_average', ascending=False)"
   ]
  },
  {
   "cell_type": "markdown",
   "metadata": {},
   "source": [
    "*Create a vote_average array.*"
   ]
  },
  {
   "cell_type": "code",
   "execution_count": 107,
   "metadata": {},
   "outputs": [],
   "source": [
    "vote_best=best_sorted['vote_average']"
   ]
  },
  {
   "cell_type": "markdown",
   "metadata": {},
   "source": [
    "*Create a title array. Since it's previously sorted, it's in the same order as the revenue array.*"
   ]
  },
  {
   "cell_type": "code",
   "execution_count": 108,
   "metadata": {},
   "outputs": [],
   "source": [
    "title_best=best_sorted['original_title']"
   ]
  },
  {
   "cell_type": "code",
   "execution_count": 200,
   "metadata": {},
   "outputs": [
    {
     "data": {
      "image/png": "[encoded data removed]",
      "text/plain": [
       "<matplotlib.figure.Figure at 0x7faec6848a20>"
      ]
     },
     "metadata": {
      "needs_background": "light"
     },
     "output_type": "display_data"
    }
   ],
   "source": [
    "locations=[1,2,3,4,5,6,7,8,9,10]\n",
    "heights = vote_best\n",
    "labels= title_best\n",
    "plt.figure(figsize=(25,7))\n",
    "plt.bar(locations, heights, tick_label=labels)\n",
    "plt.title('Top 10 Highest Rated Films')\n",
    "plt.xlabel('Title of Film')\n",
    "plt.ylabel('Average score from viewers');"
   ]
  },
  {
   "cell_type": "markdown",
   "metadata": {},
   "source": [
    "**1) The Shawshank Redemption and Stop Making Sense are the highest rated film by viewers. Both have a score of 8.4.The average score of this group of films is 8.19. The range is between 8.1 and 8.4. It is 2 points higher than the average and median for the total database at 6.2.** "
   ]
  },
  {
   "cell_type": "code",
   "execution_count": 118,
   "metadata": {},
   "outputs": [
    {
     "data": {
      "text/plain": [
       "8.1899999999999977"
      ]
     },
     "execution_count": 118,
     "metadata": {},
     "output_type": "execute_result"
    }
   ],
   "source": [
    "bestmv.vote_average.mean()"
   ]
  },
  {
   "cell_type": "code",
   "execution_count": 114,
   "metadata": {},
   "outputs": [
    {
     "data": {
      "text/plain": [
       "6.187707922187764"
      ]
     },
     "execution_count": 114,
     "metadata": {},
     "output_type": "execute_result"
    }
   ],
   "source": [
    "cleandf.vote_average.mean()"
   ]
  },
  {
   "cell_type": "code",
   "execution_count": 116,
   "metadata": {},
   "outputs": [
    {
     "data": {
      "text/plain": [
       "6.2000000000000002"
      ]
     },
     "execution_count": 116,
     "metadata": {},
     "output_type": "execute_result"
    }
   ],
   "source": [
    "cleandf.vote_average.median()"
   ]
  },
  {
   "cell_type": "markdown",
   "metadata": {},
   "source": [
    "**As we see in the scatterplot, it's hard to determine a relationship between vote_average and box office revenue. Various movies have made less than USD 200 million.**"
   ]
  },
  {
   "cell_type": "code",
   "execution_count": 110,
   "metadata": {
    "scrolled": true
   },
   "outputs": [
    {
     "data": {
      "image/png": "[encoded data removed]",
      "text/plain": [
       "<matplotlib.figure.Figure at 0x7faec7cf1fd0>"
      ]
     },
     "metadata": {
      "needs_background": "light"
     },
     "output_type": "display_data"
    }
   ],
   "source": [
    "bestmv.plot(x='vote_average', y='revenue_adj', kind='scatter');"
   ]
  },
  {
   "cell_type": "markdown",
   "metadata": {},
   "source": [
    "**If we reproduce the same scatterplot but with the best 50 films, the results are similar. Higher rating doesn't necessarily point to higher revenues.**"
   ]
  },
  {
   "cell_type": "code",
   "execution_count": 111,
   "metadata": {},
   "outputs": [],
   "source": [
    "bestmv50=cleandf.nlargest(50,'vote_average')"
   ]
  },
  {
   "cell_type": "code",
   "execution_count": 112,
   "metadata": {},
   "outputs": [
    {
     "data": {
      "image/png": "[encoded data removed]",
      "text/plain": [
       "<matplotlib.figure.Figure at 0x7faec6806b38>"
      ]
     },
     "metadata": {
      "needs_background": "light"
     },
     "output_type": "display_data"
    }
   ],
   "source": [
    "bestmv50.plot(x='vote_average', y='revenue_adj', kind='scatter');"
   ]
  },
  {
   "cell_type": "markdown",
   "metadata": {},
   "source": [
    "**2) The mean revenue for this group is USD 449.7 million, substantially less than the top 10 grossing films, yet substantially higher than the mean and median for the entire dataset,USD 148 and 71 mm respectively. Revenues for this group vary substantially, ranging from 10.5 million to 1.278 Billion. As we can see from the firts table, The Godfather is the highest grossing of the top rated films.** "
   ]
  },
  {
   "cell_type": "code",
   "execution_count": 41,
   "metadata": {},
   "outputs": [
    {
     "data": {
      "text/plain": [
       "449693835.53914964"
      ]
     },
     "execution_count": 41,
     "metadata": {},
     "output_type": "execute_result"
    }
   ],
   "source": [
    "bestmv.revenue_adj.mean()"
   ]
  },
  {
   "cell_type": "code",
   "execution_count": 42,
   "metadata": {},
   "outputs": [
    {
     "data": {
      "text/plain": [
       "10450966.587868599"
      ]
     },
     "execution_count": 42,
     "metadata": {},
     "output_type": "execute_result"
    }
   ],
   "source": [
    "bestmv.revenue_adj.min()"
   ]
  },
  {
   "cell_type": "code",
   "execution_count": 43,
   "metadata": {},
   "outputs": [
    {
     "data": {
      "text/plain": [
       "1277913732.38977"
      ]
     },
     "execution_count": 43,
     "metadata": {},
     "output_type": "execute_result"
    }
   ],
   "source": [
    "bestmv.revenue_adj.max()"
   ]
  },
  {
   "cell_type": "markdown",
   "metadata": {},
   "source": [
    "**3) The efficiency ratio ranges from 1.13 to 40.84, with a mean of 11.47. This ratio is substantially lower than in the case of the top grossing films. That is, despite being highly rated they are less profitable than the top 10 grossing films. This is an interesting finding. The average amount of voters for this group is 4143 vs 3720 in the top grossing films. The \"N\" is large enough as to not expect skewing. Nevertheless, people who vote on Rotten Tomatoes or TMDb tend to be more enthusiastic about cinema, on average. Some films are referred to as *cult clasics* like Stop Making Sense, Fight Club or Pulp Fiction. Raters would have seen them, loved them and rated accordingly. Yet the vast majority of the public, which votes at the box office, hasn't.**"
   ]
  },
  {
   "cell_type": "code",
   "execution_count": 44,
   "metadata": {},
   "outputs": [
    {
     "data": {
      "text/html": [
       "<div>\n",
       "<style scoped>\n",
       "    .dataframe tbody tr th:only-of-type {\n",
       "        vertical-align: middle;\n",
       "    }\n",
       "\n",
       "    .dataframe tbody tr th {\n",
       "        vertical-align: top;\n",
       "    }\n",
       "\n",
       "    .dataframe thead th {\n",
       "        text-align: right;\n",
       "    }\n",
       "</style>\n",
       "<table border=\"1\" class=\"dataframe\">\n",
       "  <thead>\n",
       "    <tr style=\"text-align: right;\">\n",
       "      <th></th>\n",
       "      <th>original_title</th>\n",
       "      <th>efficiency</th>\n",
       "      <th>vote_count</th>\n",
       "    </tr>\n",
       "  </thead>\n",
       "  <tbody>\n",
       "    <tr>\n",
       "      <th>4178</th>\n",
       "      <td>The Shawshank Redemption</td>\n",
       "      <td>1.133659</td>\n",
       "      <td>5754</td>\n",
       "    </tr>\n",
       "    <tr>\n",
       "      <th>7948</th>\n",
       "      <td>Stop Making Sense</td>\n",
       "      <td>4.149102</td>\n",
       "      <td>23</td>\n",
       "    </tr>\n",
       "    <tr>\n",
       "      <th>7269</th>\n",
       "      <td>The Godfather</td>\n",
       "      <td>40.844402</td>\n",
       "      <td>3970</td>\n",
       "    </tr>\n",
       "    <tr>\n",
       "      <th>650</th>\n",
       "      <td>Whiplash</td>\n",
       "      <td>4.240331</td>\n",
       "      <td>2372</td>\n",
       "    </tr>\n",
       "    <tr>\n",
       "      <th>2409</th>\n",
       "      <td>Fight Club</td>\n",
       "      <td>1.600853</td>\n",
       "      <td>5923</td>\n",
       "    </tr>\n",
       "    <tr>\n",
       "      <th>2875</th>\n",
       "      <td>The Dark Knight</td>\n",
       "      <td>5.415794</td>\n",
       "      <td>8432</td>\n",
       "    </tr>\n",
       "    <tr>\n",
       "      <th>4177</th>\n",
       "      <td>Pulp Fiction</td>\n",
       "      <td>26.741095</td>\n",
       "      <td>5343</td>\n",
       "    </tr>\n",
       "    <tr>\n",
       "      <th>4179</th>\n",
       "      <td>Forrest Gump</td>\n",
       "      <td>12.326280</td>\n",
       "      <td>4856</td>\n",
       "    </tr>\n",
       "    <tr>\n",
       "      <th>9758</th>\n",
       "      <td>The Godfather: Part II</td>\n",
       "      <td>3.657142</td>\n",
       "      <td>2131</td>\n",
       "    </tr>\n",
       "    <tr>\n",
       "      <th>10222</th>\n",
       "      <td>Schindler's List</td>\n",
       "      <td>14.602989</td>\n",
       "      <td>2632</td>\n",
       "    </tr>\n",
       "  </tbody>\n",
       "</table>\n",
       "</div>"
      ],
      "text/plain": [
       "                 original_title  efficiency  vote_count\n",
       "4178   The Shawshank Redemption    1.133659        5754\n",
       "7948          Stop Making Sense    4.149102          23\n",
       "7269              The Godfather   40.844402        3970\n",
       "650                    Whiplash    4.240331        2372\n",
       "2409                 Fight Club    1.600853        5923\n",
       "2875            The Dark Knight    5.415794        8432\n",
       "4177               Pulp Fiction   26.741095        5343\n",
       "4179               Forrest Gump   12.326280        4856\n",
       "9758     The Godfather: Part II    3.657142        2131\n",
       "10222          Schindler's List   14.602989        2632"
      ]
     },
     "execution_count": 44,
     "metadata": {},
     "output_type": "execute_result"
    }
   ],
   "source": [
    "bestmv[['original_title', 'efficiency', 'vote_count']]"
   ]
  },
  {
   "cell_type": "code",
   "execution_count": 45,
   "metadata": {},
   "outputs": [
    {
     "data": {
      "text/plain": [
       "11.471164664474017"
      ]
     },
     "execution_count": 45,
     "metadata": {},
     "output_type": "execute_result"
    }
   ],
   "source": [
    "bestmv.efficiency.mean()"
   ]
  },
  {
   "cell_type": "code",
   "execution_count": 46,
   "metadata": {},
   "outputs": [
    {
     "data": {
      "text/plain": [
       "40.844401833333265"
      ]
     },
     "execution_count": 46,
     "metadata": {},
     "output_type": "execute_result"
    }
   ],
   "source": [
    "bestmv.efficiency.max()"
   ]
  },
  {
   "cell_type": "code",
   "execution_count": 47,
   "metadata": {},
   "outputs": [
    {
     "data": {
      "text/plain": [
       "1.1336587600000014"
      ]
     },
     "execution_count": 47,
     "metadata": {},
     "output_type": "execute_result"
    }
   ],
   "source": [
    "bestmv.efficiency.min()"
   ]
  },
  {
   "cell_type": "code",
   "execution_count": 48,
   "metadata": {},
   "outputs": [
    {
     "data": {
      "text/plain": [
       "4143.6000000000004"
      ]
     },
     "execution_count": 48,
     "metadata": {},
     "output_type": "execute_result"
    }
   ],
   "source": [
    "bestmv.vote_count.mean()"
   ]
  },
  {
   "cell_type": "markdown",
   "metadata": {},
   "source": [
    "**4) The description table shows that Drama seems to be the most common genre among the top rated films. A visual will confirm this. I will sum accross dummies, as done in the previous section.** "
   ]
  },
  {
   "cell_type": "code",
   "execution_count": 49,
   "metadata": {},
   "outputs": [],
   "source": [
    "df_meanbmv=bestmv[['Action', 'Adventure','Animation','Comedy','Crime','Documentary', 'Drama', 'Family', 'Fantasy', 'Foreign', 'History', 'Horror', 'Music', 'Mystery', 'Romance','Science Fiction', 'TV Movie', 'Thriller', 'War', 'Western']].mean() "
   ]
  },
  {
   "cell_type": "code",
   "execution_count": 50,
   "metadata": {},
   "outputs": [
    {
     "data": {
      "text/plain": [
       "Action             0.1\n",
       "Adventure          0.0\n",
       "Animation          0.0\n",
       "Comedy             0.1\n",
       "Crime              0.5\n",
       "Documentary        0.1\n",
       "Drama              0.8\n",
       "Family             0.0\n",
       "Fantasy            0.0\n",
       "Foreign            0.0\n",
       "History            0.1\n",
       "Horror             0.0\n",
       "Music              0.2\n",
       "Mystery            0.0\n",
       "Romance            0.1\n",
       "Science Fiction    0.0\n",
       "TV Movie           0.0\n",
       "Thriller           0.2\n",
       "War                0.1\n",
       "Western            0.0\n",
       "dtype: float64"
      ]
     },
     "execution_count": 50,
     "metadata": {},
     "output_type": "execute_result"
    }
   ],
   "source": [
    "df_meanbmv"
   ]
  },
  {
   "cell_type": "code",
   "execution_count": 51,
   "metadata": {},
   "outputs": [],
   "source": [
    "gen_numbmv= df_meanbmv*10"
   ]
  },
  {
   "cell_type": "code",
   "execution_count": 52,
   "metadata": {},
   "outputs": [],
   "source": [
    "gen_numbmv=gen_numbmv.astype(int)"
   ]
  },
  {
   "cell_type": "code",
   "execution_count": 53,
   "metadata": {},
   "outputs": [
    {
     "data": {
      "text/plain": [
       "Action             1\n",
       "Adventure          0\n",
       "Animation          0\n",
       "Comedy             1\n",
       "Crime              5\n",
       "Documentary        1\n",
       "Drama              8\n",
       "Family             0\n",
       "Fantasy            0\n",
       "Foreign            0\n",
       "History            1\n",
       "Horror             0\n",
       "Music              2\n",
       "Mystery            0\n",
       "Romance            1\n",
       "Science Fiction    0\n",
       "TV Movie           0\n",
       "Thriller           2\n",
       "War                1\n",
       "Western            0\n",
       "dtype: int64"
      ]
     },
     "execution_count": 53,
     "metadata": {},
     "output_type": "execute_result"
    }
   ],
   "source": [
    "gen_numbmv"
   ]
  },
  {
   "cell_type": "code",
   "execution_count": 54,
   "metadata": {},
   "outputs": [
    {
     "data": {
      "image/png": "[encoded data removed]",
      "text/plain": [
       "<matplotlib.figure.Figure at 0x7faec7a7ce80>"
      ]
     },
     "metadata": {},
     "output_type": "display_data"
    }
   ],
   "source": [
    "#For graphing, I will exclude zeros. \n",
    "labels = ['Action', 'Comedy','Crime', 'Documentary', 'Drama', 'History', 'Music', 'Romance','Thriller', 'War']\n",
    "sizes = [1, 1, 5, 1, 8, 1, 2, 1, 2, 1]\n",
    "explode = (0.03, 0.03, 0.03, 0.03, 0.03, 0.03, 0.03, 0.03, 0.03, 0.03)\n",
    "\n",
    "fig1, ax1 = plt.subplots(figsize=(8,8))\n",
    "ax1.pie(sizes, explode=explode, labels=labels, startangle=90, )\n",
    "ax1.axis('equal') \n",
    "\n",
    "plt.show()"
   ]
  },
  {
   "cell_type": "markdown",
   "metadata": {},
   "source": [
    "**Drama and Crime are the most popular genres among the top rated films.**"
   ]
  },
  {
   "cell_type": "markdown",
   "metadata": {},
   "source": [
    "### Research Question 3: Which 10 films have the highest return on investment (ROI) in the database?"
   ]
  },
  {
   "cell_type": "markdown",
   "metadata": {},
   "source": [
    "*Films with the highest returns on investment are, generally, surprise hits. They substantially outperform their budgets and exceed expectations because of the cult following they develop. The first step in the analysis is to create a dataframe with the top 10 films in terms of efficiency.*"
   ]
  },
  {
   "cell_type": "code",
   "execution_count": 168,
   "metadata": {},
   "outputs": [],
   "source": [
    "toproi=cleandf.nlargest(10,'efficiency')"
   ]
  },
  {
   "cell_type": "code",
   "execution_count": 169,
   "metadata": {},
   "outputs": [
    {
     "data": {
      "text/html": [
       "<div>\n",
       "<style scoped>\n",
       "    .dataframe tbody tr th:only-of-type {\n",
       "        vertical-align: middle;\n",
       "    }\n",
       "\n",
       "    .dataframe tbody tr th {\n",
       "        vertical-align: top;\n",
       "    }\n",
       "\n",
       "    .dataframe thead th {\n",
       "        text-align: right;\n",
       "    }\n",
       "</style>\n",
       "<table border=\"1\" class=\"dataframe\">\n",
       "  <thead>\n",
       "    <tr style=\"text-align: right;\">\n",
       "      <th></th>\n",
       "      <th>original_title</th>\n",
       "      <th>release_year</th>\n",
       "      <th>genres</th>\n",
       "      <th>vote_average</th>\n",
       "      <th>revenue_adj</th>\n",
       "      <th>budget_adj</th>\n",
       "      <th>efficiency</th>\n",
       "    </tr>\n",
       "  </thead>\n",
       "  <tbody>\n",
       "    <tr>\n",
       "      <th>7827</th>\n",
       "      <td>Mad Max</td>\n",
       "      <td>1979</td>\n",
       "      <td>Adventure|Action|Thriller|Science Fiction</td>\n",
       "      <td>6.5</td>\n",
       "      <td>3.004554e+08</td>\n",
       "      <td>1.201822e+06</td>\n",
       "      <td>250.000000</td>\n",
       "    </tr>\n",
       "    <tr>\n",
       "      <th>10759</th>\n",
       "      <td>Halloween</td>\n",
       "      <td>1978</td>\n",
       "      <td>Horror|Thriller</td>\n",
       "      <td>7.3</td>\n",
       "      <td>2.339890e+08</td>\n",
       "      <td>1.002810e+06</td>\n",
       "      <td>233.333333</td>\n",
       "    </tr>\n",
       "    <tr>\n",
       "      <th>10606</th>\n",
       "      <td>American Graffiti</td>\n",
       "      <td>1973</td>\n",
       "      <td>Comedy|Drama</td>\n",
       "      <td>6.5</td>\n",
       "      <td>5.647834e+08</td>\n",
       "      <td>3.815971e+06</td>\n",
       "      <td>148.005148</td>\n",
       "    </tr>\n",
       "    <tr>\n",
       "      <th>7316</th>\n",
       "      <td>Friday the 13th</td>\n",
       "      <td>1980</td>\n",
       "      <td>Horror</td>\n",
       "      <td>6.4</td>\n",
       "      <td>1.581129e+08</td>\n",
       "      <td>1.455320e+06</td>\n",
       "      <td>108.644729</td>\n",
       "    </tr>\n",
       "    <tr>\n",
       "      <th>10174</th>\n",
       "      <td>Rocky</td>\n",
       "      <td>1976</td>\n",
       "      <td>Drama</td>\n",
       "      <td>7.2</td>\n",
       "      <td>4.492097e+08</td>\n",
       "      <td>4.214868e+06</td>\n",
       "      <td>106.577406</td>\n",
       "    </tr>\n",
       "    <tr>\n",
       "      <th>10597</th>\n",
       "      <td>Enter the Dragon</td>\n",
       "      <td>1973</td>\n",
       "      <td>Crime|Thriller|Action</td>\n",
       "      <td>7.0</td>\n",
       "      <td>4.420044e+08</td>\n",
       "      <td>4.174486e+06</td>\n",
       "      <td>105.882353</td>\n",
       "    </tr>\n",
       "    <tr>\n",
       "      <th>9808</th>\n",
       "      <td>The Rocky Horror Picture Show</td>\n",
       "      <td>1975</td>\n",
       "      <td>Comedy|Horror|Music|Science Fiction</td>\n",
       "      <td>7.1</td>\n",
       "      <td>4.574195e+08</td>\n",
       "      <td>4.862185e+06</td>\n",
       "      <td>94.076933</td>\n",
       "    </tr>\n",
       "    <tr>\n",
       "      <th>7011</th>\n",
       "      <td>Saw</td>\n",
       "      <td>2004</td>\n",
       "      <td>Horror|Mystery|Crime</td>\n",
       "      <td>7.1</td>\n",
       "      <td>1.199603e+08</td>\n",
       "      <td>1.385334e+06</td>\n",
       "      <td>86.593058</td>\n",
       "    </tr>\n",
       "    <tr>\n",
       "      <th>10757</th>\n",
       "      <td>Dawn of the Dead</td>\n",
       "      <td>1978</td>\n",
       "      <td>Horror</td>\n",
       "      <td>7.2</td>\n",
       "      <td>1.838485e+08</td>\n",
       "      <td>2.172755e+06</td>\n",
       "      <td>84.615385</td>\n",
       "    </tr>\n",
       "    <tr>\n",
       "      <th>8897</th>\n",
       "      <td>48 Hrs.</td>\n",
       "      <td>1982</td>\n",
       "      <td>Thriller|Action|Comedy|Crime|Drama</td>\n",
       "      <td>6.1</td>\n",
       "      <td>1.782146e+08</td>\n",
       "      <td>2.259642e+06</td>\n",
       "      <td>78.868508</td>\n",
       "    </tr>\n",
       "  </tbody>\n",
       "</table>\n",
       "</div>"
      ],
      "text/plain": [
       "                      original_title  release_year  \\\n",
       "7827                         Mad Max          1979   \n",
       "10759                      Halloween          1978   \n",
       "10606              American Graffiti          1973   \n",
       "7316                 Friday the 13th          1980   \n",
       "10174                          Rocky          1976   \n",
       "10597               Enter the Dragon          1973   \n",
       "9808   The Rocky Horror Picture Show          1975   \n",
       "7011                             Saw          2004   \n",
       "10757               Dawn of the Dead          1978   \n",
       "8897                         48 Hrs.          1982   \n",
       "\n",
       "                                          genres  vote_average   revenue_adj  \\\n",
       "7827   Adventure|Action|Thriller|Science Fiction           6.5  3.004554e+08   \n",
       "10759                            Horror|Thriller           7.3  2.339890e+08   \n",
       "10606                               Comedy|Drama           6.5  5.647834e+08   \n",
       "7316                                      Horror           6.4  1.581129e+08   \n",
       "10174                                      Drama           7.2  4.492097e+08   \n",
       "10597                      Crime|Thriller|Action           7.0  4.420044e+08   \n",
       "9808         Comedy|Horror|Music|Science Fiction           7.1  4.574195e+08   \n",
       "7011                        Horror|Mystery|Crime           7.1  1.199603e+08   \n",
       "10757                                     Horror           7.2  1.838485e+08   \n",
       "8897          Thriller|Action|Comedy|Crime|Drama           6.1  1.782146e+08   \n",
       "\n",
       "         budget_adj  efficiency  \n",
       "7827   1.201822e+06  250.000000  \n",
       "10759  1.002810e+06  233.333333  \n",
       "10606  3.815971e+06  148.005148  \n",
       "7316   1.455320e+06  108.644729  \n",
       "10174  4.214868e+06  106.577406  \n",
       "10597  4.174486e+06  105.882353  \n",
       "9808   4.862185e+06   94.076933  \n",
       "7011   1.385334e+06   86.593058  \n",
       "10757  2.172755e+06   84.615385  \n",
       "8897   2.259642e+06   78.868508  "
      ]
     },
     "execution_count": 169,
     "metadata": {},
     "output_type": "execute_result"
    }
   ],
   "source": [
    "toproi[['original_title','release_year', 'genres', 'vote_average','revenue_adj', 'budget_adj', 'efficiency']]"
   ]
  },
  {
   "cell_type": "code",
   "execution_count": 123,
   "metadata": {},
   "outputs": [
    {
     "data": {
      "text/plain": [
       "129.65968523495891"
      ]
     },
     "execution_count": 123,
     "metadata": {},
     "output_type": "execute_result"
    }
   ],
   "source": [
    "toproi.efficiency.mean()"
   ]
  },
  {
   "cell_type": "code",
   "execution_count": 125,
   "metadata": {},
   "outputs": [
    {
     "data": {
      "text/plain": [
       "4.2765325991128149"
      ]
     },
     "execution_count": 125,
     "metadata": {},
     "output_type": "execute_result"
    }
   ],
   "source": [
    "cleandf.efficiency.mean()"
   ]
  },
  {
   "cell_type": "code",
   "execution_count": 126,
   "metadata": {},
   "outputs": [
    {
     "data": {
      "text/plain": [
       "2.2197626400000057"
      ]
     },
     "execution_count": 126,
     "metadata": {},
     "output_type": "execute_result"
    }
   ],
   "source": [
    "cleandf.efficiency.median()"
   ]
  },
  {
   "cell_type": "markdown",
   "metadata": {},
   "source": [
    "**The list seems to be inline with what I expected. Films like Rocky, Mad Max, Halloween and American Graffiti developed a cult following, having been re-released in theaters several times. Furthemore, they were inexpensive to make, as they are from the 70s, when CGI wasn't such an important part of movie making.**"
   ]
  },
  {
   "cell_type": "markdown",
   "metadata": {},
   "source": [
    "**1) Mad Max has had the highest return on investment, with an efficiency ratio of 250. The top 10 films in this category have and average efficiency ratio of 129, while the average for the entire database is 4.27 and the median 2.22. There is quite a bit of dispersion in the ratio among the top 10 films as we can see in the graph below. The max value is 250, while the min is 78.9**"
   ]
  },
  {
   "cell_type": "code",
   "execution_count": 128,
   "metadata": {},
   "outputs": [],
   "source": [
    "toproi_sorted=toproi.sort_values('efficiency', ascending=False)"
   ]
  },
  {
   "cell_type": "code",
   "execution_count": 129,
   "metadata": {},
   "outputs": [],
   "source": [
    "roi=toproi_sorted['efficiency']"
   ]
  },
  {
   "cell_type": "code",
   "execution_count": 130,
   "metadata": {},
   "outputs": [],
   "source": [
    "title_roi=toproi_sorted['original_title']"
   ]
  },
  {
   "cell_type": "code",
   "execution_count": 132,
   "metadata": {},
   "outputs": [
    {
     "data": {
      "image/png": "[encoded data removed]",
      "text/plain": [
       "<matplotlib.figure.Figure at 0x7faec77876a0>"
      ]
     },
     "metadata": {
      "needs_background": "light"
     },
     "output_type": "display_data"
    }
   ],
   "source": [
    "locations=[1,2,3,4,5,6,7,8,9,10]\n",
    "heights = roi\n",
    "labels= title_roi\n",
    "plt.figure(figsize=(25,7))\n",
    "plt.bar(locations, heights, tick_label=labels)\n",
    "plt.title('Films with Highest Return on Investment')\n",
    "plt.xlabel('Title of Film')\n",
    "plt.ylabel('Efficiency ratio');"
   ]
  },
  {
   "cell_type": "markdown",
   "metadata": {},
   "source": [
    "**2) Regarding revenue, the mean is below that of the highest rated films, at USD 308.8mm, ranging from USD 120.0 mm to USD 564.8. However, what makes this group so profitable is their low budget. The mean budget for this group is USD 2.65mm and the median is USD 2.1mm, whereas the mean for the entire database is USD 47.5 mm and the median is USD 32.8 mm.** "
   ]
  },
  {
   "cell_type": "code",
   "execution_count": 138,
   "metadata": {},
   "outputs": [
    {
     "data": {
      "text/plain": [
       "564783351.56192005"
      ]
     },
     "execution_count": 138,
     "metadata": {},
     "output_type": "execute_result"
    }
   ],
   "source": [
    "toproi.revenue_adj.max()"
   ]
  },
  {
   "cell_type": "code",
   "execution_count": 139,
   "metadata": {},
   "outputs": [
    {
     "data": {
      "text/plain": [
       "308799771.42524624"
      ]
     },
     "execution_count": 139,
     "metadata": {},
     "output_type": "execute_result"
    }
   ],
   "source": [
    "toproi.revenue_adj.mean()"
   ]
  },
  {
   "cell_type": "code",
   "execution_count": 140,
   "metadata": {},
   "outputs": [
    {
     "data": {
      "text/plain": [
       "119960348.263852"
      ]
     },
     "execution_count": 140,
     "metadata": {},
     "output_type": "execute_result"
    }
   ],
   "source": [
    "toproi.revenue_adj.min()"
   ]
  },
  {
   "cell_type": "code",
   "execution_count": 144,
   "metadata": {},
   "outputs": [
    {
     "data": {
      "text/plain": [
       "2654519.4230106631"
      ]
     },
     "execution_count": 144,
     "metadata": {},
     "output_type": "execute_result"
    }
   ],
   "source": [
    "toproi.budget_adj.mean()"
   ]
  },
  {
   "cell_type": "code",
   "execution_count": 147,
   "metadata": {},
   "outputs": [
    {
     "data": {
      "text/plain": [
       "2216198.9271226749"
      ]
     },
     "execution_count": 147,
     "metadata": {},
     "output_type": "execute_result"
    }
   ],
   "source": [
    "toproi.budget_adj.median()"
   ]
  },
  {
   "cell_type": "code",
   "execution_count": 145,
   "metadata": {},
   "outputs": [
    {
     "data": {
      "text/plain": [
       "47474205.974595599"
      ]
     },
     "execution_count": 145,
     "metadata": {},
     "output_type": "execute_result"
    }
   ],
   "source": [
    "cleandf.budget_adj.mean()"
   ]
  },
  {
   "cell_type": "code",
   "execution_count": 146,
   "metadata": {},
   "outputs": [
    {
     "data": {
      "text/plain": [
       "32839679.966372102"
      ]
     },
     "execution_count": 146,
     "metadata": {},
     "output_type": "execute_result"
    }
   ],
   "source": [
    "cleandf.budget_adj.median()"
   ]
  },
  {
   "cell_type": "markdown",
   "metadata": {},
   "source": [
    "**3) Regarding viewer ratings, the vote average score of thes ten films ranges from 6.1 to 7.3, with a mean of 6.84, 0.6 above the average and mean of the entire dataset. It is not possible to distinguish a positive relationship between vote average and efficiency, even when expanding the sample to 50 movies.**"
   ]
  },
  {
   "cell_type": "code",
   "execution_count": 134,
   "metadata": {},
   "outputs": [
    {
     "data": {
      "text/plain": [
       "6.8400000000000007"
      ]
     },
     "execution_count": 134,
     "metadata": {},
     "output_type": "execute_result"
    }
   ],
   "source": [
    "toproi.vote_average.mean()"
   ]
  },
  {
   "cell_type": "code",
   "execution_count": 133,
   "metadata": {},
   "outputs": [
    {
     "data": {
      "image/png": "[encoded data removed]",
      "text/plain": [
       "<matplotlib.figure.Figure at 0x7faec63ec748>"
      ]
     },
     "metadata": {
      "needs_background": "light"
     },
     "output_type": "display_data"
    }
   ],
   "source": [
    "toproi.plot(x='vote_average', y='efficiency', kind='scatter');"
   ]
  },
  {
   "cell_type": "code",
   "execution_count": 135,
   "metadata": {},
   "outputs": [],
   "source": [
    "roi50=cleandf.nlargest(50,'efficiency')"
   ]
  },
  {
   "cell_type": "code",
   "execution_count": 136,
   "metadata": {},
   "outputs": [
    {
     "data": {
      "image/png": "[encoded data removed]",
      "text/plain": [
       "<matplotlib.figure.Figure at 0x7faec855d048>"
      ]
     },
     "metadata": {
      "needs_background": "light"
     },
     "output_type": "display_data"
    }
   ],
   "source": [
    "roi50.plot(x='vote_average', y='efficiency', kind='scatter');"
   ]
  },
  {
   "cell_type": "markdown",
   "metadata": {},
   "source": [
    "**4) It's difficult to spot the most common genre among the top rated films from the description table. A visual will confirm this. I will sum accross dummies, as done in the previous section.** "
   ]
  },
  {
   "cell_type": "code",
   "execution_count": 171,
   "metadata": {},
   "outputs": [],
   "source": [
    "df_meanroi=toproi[['Action', 'Adventure','Animation','Comedy','Crime','Documentary', 'Drama', 'Family', 'Fantasy', 'Foreign', 'History', 'Horror', 'Music', 'Mystery', 'Romance','Science Fiction', 'TV Movie', 'Thriller', 'War', 'Western']].mean() "
   ]
  },
  {
   "cell_type": "code",
   "execution_count": 172,
   "metadata": {},
   "outputs": [],
   "source": [
    "gen_numroi= df_meanroi*10"
   ]
  },
  {
   "cell_type": "code",
   "execution_count": 174,
   "metadata": {},
   "outputs": [
    {
     "data": {
      "text/plain": [
       "Action             3\n",
       "Adventure          1\n",
       "Animation          0\n",
       "Comedy             3\n",
       "Crime              3\n",
       "Documentary        0\n",
       "Drama              3\n",
       "Family             0\n",
       "Fantasy            0\n",
       "Foreign            0\n",
       "History            0\n",
       "Horror             5\n",
       "Music              1\n",
       "Mystery            1\n",
       "Romance            0\n",
       "Science Fiction    2\n",
       "TV Movie           0\n",
       "Thriller           4\n",
       "War                0\n",
       "Western            0\n",
       "dtype: int64"
      ]
     },
     "execution_count": 174,
     "metadata": {},
     "output_type": "execute_result"
    }
   ],
   "source": [
    "gen_numroi.astype(int)"
   ]
  },
  {
   "cell_type": "code",
   "execution_count": 176,
   "metadata": {},
   "outputs": [
    {
     "data": {
      "image/png": "[encoded data removed]",
      "text/plain": [
       "<matplotlib.figure.Figure at 0x7faec7308160>"
      ]
     },
     "metadata": {},
     "output_type": "display_data"
    }
   ],
   "source": [
    "#For graphing, I will exclude zeros. \n",
    "labels = ['Action', 'Adventure', 'Comedy','Crime', 'Drama', 'Horror', 'Music', 'Mistery', 'Science Fiction','Thriller']\n",
    "sizes = [3, 1, 3, 3, 3, 5, 1, 1, 2, 4]\n",
    "explode = (0.03, 0.03, 0.03, 0.03, 0.03, 0.03, 0.03, 0.03, 0.03, 0.03)\n",
    "\n",
    "fig1, ax1 = plt.subplots(figsize=(8,8))\n",
    "ax1.pie(sizes, explode=explode, labels=labels, startangle=90, )\n",
    "ax1.axis('equal') \n",
    "\n",
    "plt.show()"
   ]
  },
  {
   "cell_type": "markdown",
   "metadata": {},
   "source": [
    "**The distribution of genres seems to be more even than in the previous two groups. Nevertheless, Horror and Thriller are the most popular genres.**"
   ]
  },
  {
   "cell_type": "markdown",
   "metadata": {},
   "source": [
    "<a id='conclusions'></a>\n",
    "## Conclusions\n"
   ]
  },
  {
   "cell_type": "markdown",
   "metadata": {},
   "source": [
    "**The results of this analysis are based on the steps taken in during the data cleaning process. For instance, the final list of top 10 grossing films or highest rated films could have changed had I not dropped movies withoud genres or with budgets below USD 1 million. Nevertheless, unlike in other cases, replacing with average values makes no sense for budgets or revenues, and genres can't be assigned randomly.**   "
   ]
  },
  {
   "cell_type": "markdown",
   "metadata": {},
   "source": [
    "**The final analysis was conducted on more than 3500 movies, a sizable number. The results for top grossing movies are what we would have expected, except for two movies 'The Net' and 'One Hundred and One Dalmatians'. A quick Google search confirms they do not belong on this list. As discussed above, both movies appear in the top 10 even in the original database. The highest rated films are also, for the most part what we would have expected, as some are considered to be the best movies ever made. Limiting the database to those with adjusted budget above 1 million was a necessary cut-off to calculate the efficiency ratio. Without this minimun, the top 10 was made of nearly infinite numbers because the budgets were non-zero, yet minuscule numbers. Establishing this floor purged an additional 789 movies with adjusted revenue data. This could have altered averages, means, medians and percentiles for the adjusted revenue analysis section.**"
   ]
  },
  {
   "cell_type": "markdown",
   "metadata": {},
   "source": [
    "**Nevertheless, mistakes in the data are to be expected. Therefore, the averages, medians and percentiles expressed in this report could not be exact. For instance, I decided a floor value of USD 1 million for revenue_adj and budget_adj, but movies close to those values could also have inexact or underreported information.** "
   ]
  },
  {
   "cell_type": "markdown",
   "metadata": {},
   "source": [
    "**High grossing films are complete outliers in terms of revenue, even when compared to the highest rated films or the surprise hits. Average revenue is more than 5 times that of the 10 best rated films and 28 times the median revenue for the database. Conversely, the highest rated films can also generate considerable revenues, 6 times above the median**. "
   ]
  },
  {
   "cell_type": "code",
   "execution_count": 182,
   "metadata": {},
   "outputs": [
    {
     "data": {
      "image/png": "[encoded data removed]",
      "text/plain": [
       "<matplotlib.figure.Figure at 0x7faec6f2dcf8>"
      ]
     },
     "metadata": {
      "needs_background": "light"
     },
     "output_type": "display_data"
    }
   ],
   "source": [
    "locations=[1,2,3,4]\n",
    "heights = [2049, 450, 309, 72]\n",
    "labels= ['Top_grossing', 'Best', 'ROI', 'Db_median']\n",
    "plt.figure(figsize=(11,6))\n",
    "plt.bar(locations, heights, tick_label=labels)\n",
    "plt.title('Revenue per subset of films')\n",
    "plt.xlabel('Subset')\n",
    "plt.ylabel('Revenue in USD mm');"
   ]
  },
  {
   "cell_type": "markdown",
   "metadata": {},
   "source": [
    "**We can determine if the difference between the means of the subsets and the mean of the dataset are statistically significant at the 95% confidence level. We do this to determine if the mean of each subset is statistically different than that of the whole database, which allows us to test the hypothesis in the analysis The standard deviation for revenue for the database is 221 million and the mean 148 million. To test difference at the 95% level, we need to add 2 times the stdev to the mean (590). If this number is lower than the values of the mean of the subset, the difference in means is statistically significant. This is the case only for the top grossing firms. The difference in means is not statistically significant with the Best subset or the ROI subset. The shorthand for interpreting the results is that the means for Best and ROI are not statistically that different from the whole database, but Top_grossing is.**"
   ]
  },
  {
   "cell_type": "markdown",
   "metadata": {},
   "source": [
    "**High grossing films are so profitable that they are still pretty efficient. Their average efficiency ratio is 41. The most efficient films are 3 times more efficient than the highest grossing. Even so, the top grossers are stil 20 times more efficient in terms of return on investment than the median film in the database. Hence, the incentive for executives to pursue the production of blockbusters is very strong.** "
   ]
  },
  {
   "cell_type": "code",
   "execution_count": 187,
   "metadata": {},
   "outputs": [
    {
     "data": {
      "image/png": "[encoded data removed]",
      "text/plain": [
       "<matplotlib.figure.Figure at 0x7faec687e550>"
      ]
     },
     "metadata": {
      "needs_background": "light"
     },
     "output_type": "display_data"
    }
   ],
   "source": [
    "locations=[1,2,3,4]\n",
    "heights = [41, 11, 129, 2]\n",
    "labels= ['Top_grossing', 'Best', 'ROI', 'Db_median']\n",
    "plt.figure(figsize=(11,6))\n",
    "plt.bar(locations, heights, tick_label=labels)\n",
    "plt.title('Efficiency ratio for subset of films')\n",
    "plt.xlabel('Subset')\n",
    "plt.ylabel('Efficiency ratio');"
   ]
  },
  {
   "cell_type": "markdown",
   "metadata": {},
   "source": [
    "**Highest grossing films also have high average scores from viewers. The rating score for the highest grossing films is in the 88th percentile. Hence, they are perceived as having very good quality.**"
   ]
  },
  {
   "cell_type": "code",
   "execution_count": 188,
   "metadata": {},
   "outputs": [
    {
     "data": {
      "image/png": "[encoded data removed]",
      "text/plain": [
       "<matplotlib.figure.Figure at 0x7faec6866c88>"
      ]
     },
     "metadata": {
      "needs_background": "light"
     },
     "output_type": "display_data"
    }
   ],
   "source": [
    "locations=[1,2,3,4]\n",
    "heights = [7.1, 8.2, 6.8, 6.2]\n",
    "labels= ['Top_grossing', 'Best', 'ROI', 'Db_median']\n",
    "plt.figure(figsize=(11,6))\n",
    "plt.bar(locations, heights, tick_label=labels)\n",
    "plt.title('Voter rating')\n",
    "plt.xlabel('Subset')\n",
    "plt.ylabel('Vote_average');"
   ]
  },
  {
   "cell_type": "markdown",
   "metadata": {},
   "source": [
    "**Finally, the most common genres for the top grossing films are Adventure, Action and Science Fiction. The most common genres for the best rated films are Drama and Crime, while its Horror and Thrillers for the best ROI films. These findings are in line with expectations. Big blockbusters tend to have a Sci-Fi/Action component since Star Wars started the trend. Better perceived films in terms of art are generally from the dramatic genre, where actors use their skills extensively. Finally, low-budget horror films that strike a chord with audiences have started various franchises and have been very profitable over time.**  "
   ]
  },
  {
   "cell_type": "markdown",
   "metadata": {},
   "source": [
    "**In order to determine if these differences are statistically significant, difference in means test can be conducted. The standard deviation for revenue is 221 million for the database and the mean 148. To test difference at the 95% level, we need to add 2 times the stdev to the mean (590). The mean of revenue for top grossing films (2094) is larger than that of the data base  at the 95% confidence level. Similar calculations can be done for  "
   ]
  },
  {
   "cell_type": "code",
   "execution_count": 34,
   "metadata": {},
   "outputs": [
    {
     "data": {
      "text/plain": [
       "0"
      ]
     },
     "execution_count": 34,
     "metadata": {},
     "output_type": "execute_result"
    }
   ],
   "source": [
    "from subprocess import call\n",
    "call(['python', '-m', 'nbconvert', 'Investigate_a_Dataset.ipynb'])"
   ]
  },
  {
   "cell_type": "code",
   "execution_count": null,
   "metadata": {},
   "outputs": [],
   "source": []
  }
 ],
 "metadata": {
  "kernelspec": {
   "display_name": "Python 3",
   "language": "python",
   "name": "python3"
  },
  "language_info": {
   "codemirror_mode": {
    "name": "ipython",
    "version": 3
   },
   "file_extension": ".py",
   "mimetype": "text/x-python",
   "name": "python",
   "nbconvert_exporter": "python",
   "pygments_lexer": "ipython3",
   "version": "3.6.3"
  }
 },
 "nbformat": 4,
 "nbformat_minor": 2
}
