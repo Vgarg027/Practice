{
 "cells": [
  {
   "cell_type": "markdown",
   "source": [
    "# Project #2: Investigate a Dataset (Soccer Database)\r\n",
    "\r\n",
    "## Table of Contents\r\n",
    "<ul>\r\n",
    "<li><a href=\"#intro\">Introduction</a></li>\r\n",
    "<li><a href=\"#wrangling\">Data Wrangling</a></li>\r\n",
    "<li><a href=\"#eda\">Exploratory Data Analysis</a></li>\r\n",
    "<li><a href=\"#conclusions\">Conclusions</a></li>\r\n",
    "</ul>"
   ],
   "metadata": {}
  },
  {
   "cell_type": "markdown",
   "source": [
    "<a id='intro'></a>\r\n",
    "# Introduction\r\n",
    "\r\n",
    ">### About the dataset\r\n",
    "- I've selected \"Soccer Database\" which contains huge real data about European leagues like matches, teams, countries,<br> players, and even the attributes of each team, and each player also, in a period of seasons from _2008 to 2016_, as these<br> data are stored in SQL database, what lets me experience more advanced data connections and enhance my analysis<br> skills, as it consists of **7** tables and **222,796‬** total records (rows).\r\n",
    "\r\n",
    ">### Questions:\r\n",
    "\r\n",
    "1. Which are the top 10 teams in top famous European leagues?\r\n",
    "2. Which teams won the title the most?\r\n",
    "3. What are attributes lead to the most victorious?\r\n",
    "4. Which is the most competitive league in Europe?\r\n",
    "5. Which teams always rank in last 3 places in European leagues?\r\n",
    "6. What attributes the low-rank teams are missing to improve their performance?\r\n",
    "7. Who are the top 10 players in Europe for seasons (2008~2016)?\r\n",
    "8. What are attributes lead to be a top player?\r\n"
   ],
   "metadata": {}
  },
  {
   "cell_type": "code",
   "execution_count": null,
   "source": [
    "# Use this cell to set up import statements for all of the packages that you\r\n",
    "# plan to use.\r\n",
    "\r\n",
    "# Remember to include a 'magic word' so that your visualizations are plotted\r\n",
    "#   inline with the notebook. See this page for more:\r\n",
    "#   http://ipython.readthedocs.io/en/stable/interactive/magics.html\r\n",
    "\r\n",
    "\r\n",
    "import pandas as pd\r\n",
    "import numpy as np\r\n",
    "import sqlite3 as sql\r\n",
    "import seaborn as sns\r\n",
    "\r\n",
    "import matplotlib.pyplot as plt\r\n",
    "%matplotlib inline\r\n",
    "\r\n",
    "import warnings\r\n",
    "from pandas.core.common import SettingWithCopyWarning\r\n",
    "warnings.simplefilter(action=\"ignore\", category=SettingWithCopyWarning)\r\n"
   ],
   "outputs": [],
   "metadata": {
    "collapsed": true
   }
  },
  {
   "cell_type": "markdown",
   "source": [
    "<a id='wrangling'></a>\r\n",
    "# Data Wrangling"
   ],
   "metadata": {}
  },
  {
   "cell_type": "code",
   "execution_count": null,
   "source": [
    "# Load your data and print out a few lines. Perform operations to inspect data\r\n",
    "# types and look for instances of missing or possibly errant data.\r\n",
    "\r\n",
    "try:\r\n",
    "    conn = sql.connect('soccer_database.sqlite')\r\n",
    "\r\n",
    "    print(\"Database connected successfully\", \"\\U0001F44D\")\r\n",
    "\r\n",
    "except sqlite3.Error as error:\r\n",
    "    \r\n",
    "    print(\"Database connection failed!\", \"\\U0001F44E\")\r\n"
   ],
   "outputs": [],
   "metadata": {
    "collapsed": true
   }
  },
  {
   "cell_type": "markdown",
   "source": [
    "____________________________________\r\n",
    "### **Checking database tables names:**\r\n",
    "(**To decide which tables I will use for my analysis**) \r\n",
    "____________________________________"
   ],
   "metadata": {}
  },
  {
   "cell_type": "code",
   "execution_count": null,
   "source": [
    "\r\n",
    "tables = pd.read_sql_query(\"\"\"\r\n",
    "                            SELECT name\r\n",
    "                            FROM sqlite_master\r\n",
    "                            WHERE type='table'\r\n",
    "                            \"\"\", conn)\r\n",
    "tables"
   ],
   "outputs": [],
   "metadata": {}
  },
  {
   "cell_type": "markdown",
   "source": [
    "____________________________________\r\n",
    "### Assessing **\"Team\"** table\r\n",
    "____________________________________"
   ],
   "metadata": {}
  },
  {
   "cell_type": "code",
   "execution_count": null,
   "source": [
    "team = pd.read_sql_query(\"SELECT * FROM Team\", conn)\r\n",
    "\r\n",
    "print('\\nColumn names of\\'Team\\' table are:\\n')\r\n",
    "for col in team.columns:\r\n",
    "    print(col)\r\n",
    "\r\n",
    "print('\\n'+'*'*50)\r\n",
    "print('Number of \\'Team\\' table columns is: ', (team.shape[1]), '\\nNumber of \\'Team\\' table rows is: ', (team.shape[0]))\r\n",
    "print('*'*50)\r\n",
    "\r\n",
    "print('\\nNumber of NULL values in \\'Team\\' table are:')\r\n",
    "print(team.isnull().sum())\r\n",
    "print('\\n'+'*'*50)\r\n",
    "\r\n",
    "\r\n",
    "print('Number of duplicated data in \\'Team\\' table is:', team.duplicated().sum())\r\n",
    "print('*'*50,'\\n')\r\n",
    "\r\n",
    "print('Chunk of \\'Team\\' table data (first 5 records):')\r\n",
    "\r\n",
    "team.head()"
   ],
   "outputs": [],
   "metadata": {}
  },
  {
   "cell_type": "code",
   "execution_count": null,
   "source": [
    "#Checking table attributes individually for abstracting connection between tables and the schema\r\n",
    "\r\n",
    "print('\\nColumn names of\\'Team\\' table are:\\n')\r\n",
    "for col in team.columns:\r\n",
    "    print(col)"
   ],
   "outputs": [],
   "metadata": {}
  },
  {
   "cell_type": "markdown",
   "source": [
    "Ok! here I dicovered that number of records in \"Team\" table is:  299 record\r\n",
    "\r\n",
    "Let's give it more deepe check..."
   ],
   "metadata": {}
  },
  {
   "cell_type": "code",
   "execution_count": null,
   "source": [
    "#checking number of unique name records\r\n",
    "print(len(team['team_long_name'].unique().tolist()))\r\n",
    "\r\n",
    "#checking number of unique IDs records\r\n",
    "print(len(team['team_api_id'].unique().tolist()))"
   ],
   "outputs": [],
   "metadata": {}
  },
  {
   "cell_type": "markdown",
   "source": [
    "Oops! Here I discovered that the number of (unique) team name is only **296**,\r\n",
    "\r\n",
    "while their IDs are **299**, and there's no NULLS in \"team_long_name\" (As per our check above).\r\n",
    "\r\n",
    "_Conclusion:_\r\n",
    "\r\n",
    "It means that there's a \"team_long_name\" recorded twice, and got TWO different IDs, \r\n",
    "\r\n",
    "So I have to delete one of theses records to be only one unique ID for that team."
   ],
   "metadata": {}
  },
  {
   "cell_type": "code",
   "execution_count": null,
   "source": [
    "#Drop the whole row if duplicated record exists in \"team_long_name\" column\r\n",
    "team = team.drop_duplicates(subset='team_long_name')\r\n",
    "\r\n",
    "#Checking new update\r\n",
    "print(len(team['team_long_name'].unique().tolist()))\r\n",
    "print(len(team['team_api_id'].unique().tolist()))"
   ],
   "outputs": [],
   "metadata": {}
  },
  {
   "cell_type": "markdown",
   "source": [
    "Here we go!\r\n",
    "So my conclusion was right,and now it's clear! _Welldone!_"
   ],
   "metadata": {}
  },
  {
   "cell_type": "markdown",
   "source": [
    "____________________________________\r\n",
    "### Assessing **\"Team_Attributes\"** table\r\n",
    "____________________________________"
   ],
   "metadata": {}
  },
  {
   "cell_type": "code",
   "execution_count": null,
   "source": [
    "team_atts = pd.read_sql_query(\"SELECT * FROM Team_Attributes\", conn)\r\n",
    "\r\n",
    "print('\\n'+'*'*50)\r\n",
    "print('Number of \\'Team_Attributes\\' table columns is: ', (team_atts.shape[1]), '\\nNumber of \\'Team_Attributes\\' table rows is: ', (team_atts.shape[0]))\r\n",
    "print('*'*50)\r\n",
    "\r\n",
    "print('\\nNumber of NULL values in \\'Team_Attributes\\' table are:')\r\n",
    "print(team_atts.isnull().sum())\r\n",
    "print('\\n'+'*'*50)\r\n",
    "\r\n",
    "\r\n",
    "print('Number of duplicated data in \\'Team_Attributes\\' table is:', team_atts.duplicated().sum())\r\n",
    "print('*'*50,'\\n')\r\n",
    "\r\n",
    "print('Chunk of \\'Team_Attributes\\' table data (first 5 records):')\r\n",
    "\r\n",
    "team_atts.head()"
   ],
   "outputs": [],
   "metadata": {}
  },
  {
   "cell_type": "code",
   "execution_count": null,
   "source": [
    "# Checking table attributes individually for abstracting connection between tables and the schema\r\n",
    "\r\n",
    "print('\\nColumn names of\\'Team_Attributes\\' table are:\\n')\r\n",
    "for col in team_atts.columns:\r\n",
    "    print(col)"
   ],
   "outputs": [],
   "metadata": {}
  },
  {
   "cell_type": "markdown",
   "source": [
    "____________________________________\r\n",
    "### Assessing **\"League\"** table\r\n",
    "____________________________________"
   ],
   "metadata": {}
  },
  {
   "cell_type": "code",
   "execution_count": null,
   "source": [
    "league = pd.read_sql_query(\"SELECT * FROM League\", conn)\r\n",
    "\r\n",
    "print('\\nColumn names of\\'League\\' table are:\\n')\r\n",
    "for col in league.columns:\r\n",
    "    print(col)\r\n",
    "    \r\n",
    "print('\\n'+'*'*50)\r\n",
    "print('Number of \\'League\\' table columns is: ', (league.shape[1]), '\\nNumber of \\'League\\' table rows is: ', (league.shape[0]))\r\n",
    "print('*'*50)\r\n",
    "\r\n",
    "print('\\nNumber of NULL values in \\'League\\' table is:')\r\n",
    "print(league.isnull().sum())\r\n",
    "print('\\n'+'*'*50)\r\n",
    "\r\n",
    "print('Number of duplicated data in \\'League\\' table is:', league.duplicated().sum())\r\n",
    "\r\n",
    "print('*'*50,'\\n')\r\n",
    "\r\n",
    "# Just League (Not head) as in shape I could notice after the run that it's only 11 rows ;)\r\n",
    "league"
   ],
   "outputs": [],
   "metadata": {}
  },
  {
   "cell_type": "code",
   "execution_count": null,
   "source": [
    "# Checking table attributes individually for abstracting connection between tables and the schema\r\n",
    "\r\n",
    "print('\\nColumn names of\\'League\\' table are:\\n')\r\n",
    "for col in league.columns:\r\n",
    "    print(col)"
   ],
   "outputs": [],
   "metadata": {}
  },
  {
   "cell_type": "markdown",
   "source": [
    "____________________________________\r\n",
    "### Assessing **\"Country\"** table\r\n",
    "____________________________________"
   ],
   "metadata": {}
  },
  {
   "cell_type": "code",
   "execution_count": null,
   "source": [
    "country = pd.read_sql_query(\"SELECT * FROM Country\", conn)\r\n",
    "\r\n",
    "print('\\nColumn names of\\'Country\\' table are:\\n')\r\n",
    "for col in country.columns:\r\n",
    "    print(col)\r\n",
    "\r\n",
    "print('\\n'+'*'*50)\r\n",
    "print('Number of \\'Country\\' table columns is: ', (country.shape[1]), '\\nNumber of \\'Country\\' table rows is: ', (country.shape[0]))\r\n",
    "print('*'*50)\r\n",
    "\r\n",
    "print('\\nNumber of NULL values in \\'Country\\' table are:')\r\n",
    "print(country.isnull().sum())\r\n",
    "print('\\n'+'*'*50)\r\n",
    "\r\n",
    "\r\n",
    "print('Number of duplicated data in \\'Country\\' table is:', country.duplicated().sum())\r\n",
    "print('*'*50,'\\n')\r\n",
    "\r\n",
    "country"
   ],
   "outputs": [],
   "metadata": {}
  },
  {
   "cell_type": "code",
   "execution_count": null,
   "source": [
    "# Checking table attributes individually for abstracting connection between tables and the schema\r\n",
    "\r\n",
    "print('\\nColumn names of\\'Country\\' table are:\\n')\r\n",
    "for col in country.columns:\r\n",
    "    print(col)"
   ],
   "outputs": [],
   "metadata": {}
  },
  {
   "cell_type": "markdown",
   "source": [
    "____________________________________\r\n",
    "### Assessing **\"Match\"** table\r\n",
    "____________________________________"
   ],
   "metadata": {}
  },
  {
   "cell_type": "code",
   "execution_count": null,
   "source": [
    "match = pd.read_sql_query(\"SELECT * FROM Match\", conn)\r\n",
    "\r\n",
    "print('\\n'+'*'*50)\r\n",
    "print('Number of \\'Match\\' table columns is: ', (match.shape[1]), '\\nNumber of \\'Country\\' table rows is: ', (match.shape[0]))\r\n",
    "print('*'*50)\r\n",
    "\r\n",
    "print('\\nNumber of NULL values in \\'Match\\' table are:')\r\n",
    "print(match.isnull().sum())\r\n",
    "print('\\n'+'*'*50)\r\n",
    "\r\n",
    "\r\n",
    "print('Number of duplicated data in \\'Match\\' table is:', match.duplicated().sum())\r\n",
    "print('*'*50,'\\n')\r\n",
    "\r\n",
    "print('Chunk of \\'Match\\' table data (first 5 records):')\r\n",
    "match.head()"
   ],
   "outputs": [],
   "metadata": {}
  },
  {
   "cell_type": "code",
   "execution_count": null,
   "source": [
    "# Checking table attributes individually for abstracting connection between tables and the schema\r\n",
    "\r\n",
    "print('\\nColumn names of\\'Match\\' table are:\\n')\r\n",
    "for col in match.columns:\r\n",
    "    print(col)"
   ],
   "outputs": [],
   "metadata": {}
  },
  {
   "cell_type": "markdown",
   "source": [
    "Database Diagram, what shows us the Star-Schema,\r\n",
    "\r\n",
    "and how attributes are connected together through the fact-table (Match)"
   ],
   "metadata": {}
  },
  {
   "cell_type": "markdown",
   "source": [
    "<img src=\"soccer_diagram.png\">"
   ],
   "metadata": {}
  },
  {
   "cell_type": "markdown",
   "source": [
    "____________________________________\r\n",
    "### Assessing **\"Player\"** table\r\n",
    "____________________________________"
   ],
   "metadata": {}
  },
  {
   "cell_type": "code",
   "execution_count": null,
   "source": [
    "player = pd.read_sql_query(\"SELECT * FROM Player\", conn)\r\n",
    "\r\n",
    "print('\\nColumn names of\\'Player\\' table are:\\n')\r\n",
    "for col in player.columns:\r\n",
    "    print(col)\r\n",
    "\r\n",
    "print('\\n'+'*'*50)\r\n",
    "print('Number of \\'Player\\' table columns is: ', (player.shape[1]), '\\nNumber of \\'Player\\' table rows is: ', (player.shape[0]))\r\n",
    "print('*'*50)\r\n",
    "\r\n",
    "print('\\nNumber of NULL values in \\'Player\\' table are:')\r\n",
    "print(player.isnull().sum())\r\n",
    "print('\\n'+'*'*50)\r\n",
    "\r\n",
    "\r\n",
    "print('Number of duplicated data in \\'Player\\' table is:', player.duplicated().sum())\r\n",
    "print('*'*50,'\\n')\r\n",
    "\r\n",
    "print('Chunk of \\'Player\\' table data (first 5 records):')\r\n",
    "\r\n",
    "player.head()"
   ],
   "outputs": [],
   "metadata": {}
  },
  {
   "cell_type": "markdown",
   "source": [
    "____________________________________\r\n",
    "### Assessing **\"Player_Attributes\"** table\r\n",
    "____________________________________"
   ],
   "metadata": {}
  },
  {
   "cell_type": "code",
   "execution_count": null,
   "source": [
    "player_atts = pd.read_sql_query(\"SELECT * FROM Player_Attributes\", conn)\r\n",
    "\r\n",
    "print('\\n'+'*'*50)\r\n",
    "print('Number of \\'Player_Attributes\\' table columns is: ', (player_atts.shape[1]), '\\nNumber of \\'Player_Attributes\\' table rows is: ', (player_atts.shape[0]))\r\n",
    "print('*'*50)\r\n",
    "\r\n",
    "print('\\nNumber of NULL values in \\'Player_Attributes\\' table are:')\r\n",
    "print(player_atts.isnull().sum())\r\n",
    "print('\\n'+'*'*50)\r\n",
    "\r\n",
    "\r\n",
    "print('Number of duplicated data in \\'Player_Attributes\\' table is:', player_atts.duplicated().sum())\r\n",
    "print('*'*50,'\\n')\r\n",
    "\r\n",
    "print('Chunk of \\'Player_Attributes\\' table data (first 5 records):')\r\n",
    "\r\n",
    "player_atts.head()\r\n"
   ],
   "outputs": [],
   "metadata": {}
  },
  {
   "cell_type": "markdown",
   "source": [
    "\r\n",
    "# Data Cleaning & Modification"
   ],
   "metadata": {}
  },
  {
   "cell_type": "markdown",
   "source": [
    "Below I sliced the data from multiple tables and **Join** them together\r\n",
    "\r\n",
    "(It's more like when you drop the unwanted columns of databases from flat files)"
   ],
   "metadata": {}
  },
  {
   "cell_type": "markdown",
   "source": [
    "So here I will get all matches with** ***League names*** and ***Team names***"
   ],
   "metadata": {}
  },
  {
   "cell_type": "code",
   "execution_count": null,
   "source": [
    "match_with_team_name = pd.read_sql_query(\"\"\"\r\n",
    "                                            SELECT\r\n",
    "                                            Match.id,\r\n",
    "                                            League.name AS League_Name,\r\n",
    "                                            season AS Season,\r\n",
    "                                            home_team_api_id As Home_ID,\r\n",
    "                                            home.team_long_name As Home_Team,\r\n",
    "                                            home_team_goal,\r\n",
    "                                            away_team_goal,\r\n",
    "                                            away.team_long_name AS Away_Team,\r\n",
    "                                            away_team_api_id As Away_ID\r\n",
    "                                            FROM Match\r\n",
    "                                            JOIN League on League.id = Match.league_id\r\n",
    "                                            JOIN Team AS team_id on team_id.team_api_id = Match.home_team_api_id\r\n",
    "                                            JOIN Team As home on home.team_api_id = Match.home_team_api_id\r\n",
    "                                            JOIN Team As away on away.team_api_id = Match.away_team_api_id\r\n",
    "                                                                                                                                    \r\n",
    "                                            \"\"\", conn)\r\n",
    "                                           "
   ],
   "outputs": [],
   "metadata": {}
  },
  {
   "cell_type": "code",
   "execution_count": null,
   "source": [
    "# Checking dataframe\r\n",
    "match_with_team_name.head()"
   ],
   "outputs": [],
   "metadata": {}
  },
  {
   "cell_type": "markdown",
   "source": [
    "### **Here we go!**\r\n",
    "My plan now is to add **points** columns _(__home_team_points__)_ & _(__away_team_points__)_.\r\n",
    "What will be calculated as follwing:\r\n",
    "\r\n",
    "Team who scores more goals than the other one, gets ***3*** points and the other one gets ***0*** point.\r\n",
    "If two teams goals are equal, so both get ***1*** point.\r\n",
    "\r\n",
    "I will start by \"Home\" attributes first , then \"Away\" attributes\r\n",
    "Let's see how! ;)\r\n"
   ],
   "metadata": {}
  },
  {
   "cell_type": "markdown",
   "source": [
    "## Home Teams"
   ],
   "metadata": {}
  },
  {
   "cell_type": "code",
   "execution_count": null,
   "source": [
    "# Home_Team points\r\n",
    "\r\n",
    "match_with_team_name.loc[match_with_team_name['home_team_goal'] > match_with_team_name['away_team_goal'] , 'home_team_points'] = 3\r\n",
    "match_with_team_name.loc[match_with_team_name['home_team_goal'] == match_with_team_name['away_team_goal'], 'home_team_points'] = 1\r\n",
    "match_with_team_name.loc[match_with_team_name['home_team_goal'] < match_with_team_name['away_team_goal'], 'home_team_points'] = 0"
   ],
   "outputs": [],
   "metadata": {}
  },
  {
   "cell_type": "code",
   "execution_count": null,
   "source": [
    "# Check after adding column what calculate Home_Team points\r\n",
    "\r\n",
    "match_with_team_name.head()"
   ],
   "outputs": [],
   "metadata": {}
  },
  {
   "cell_type": "markdown",
   "source": [
    "### **Perfect!**\r\n",
    "Now let's creating more specific dataframe that contains Home_Teams data only"
   ],
   "metadata": {}
  },
  {
   "cell_type": "code",
   "execution_count": null,
   "source": [
    "home_team_data = match_with_team_name[['League_Name','Season','Home_Team','home_team_goal','away_team_goal','home_team_points']]"
   ],
   "outputs": [],
   "metadata": {}
  },
  {
   "cell_type": "code",
   "execution_count": null,
   "source": [
    "#Check...\r\n",
    "home_team_data.head()"
   ],
   "outputs": [],
   "metadata": {}
  },
  {
   "cell_type": "markdown",
   "source": [
    "### **Perfect!**\r\n",
    "Now we will add new columns which are **\"W\"** for (Win), **\"D\"** for (Draw), and **L** for (Lose).\r\n",
    "And they will just like (True or False) attributes.\r\n",
    "\r\n",
    "It will be calculated as the following:\r\n",
    "\r\n",
    "* if home_points = 3, so \"W\" will have the value of  \"1\"\r\n",
    "\r\n",
    "* if home_points = 1, so \"D\" will have the value of  \"1\"\r\n",
    "\r\n",
    "* if home_points = 0, so \"L\" will have the value of  \"1\"\r\n"
   ],
   "metadata": {}
  },
  {
   "cell_type": "code",
   "execution_count": null,
   "source": [
    "home_team_data.loc[home_team_data['home_team_points'] == 3, 'W'] = 1\r\n",
    "# Filling the Nan values by 0\r\n",
    "home_team_data['W'] = home_team_data['W'].fillna(0)\r\n",
    "# Converting its data-type to int , as we will use these columns in some calculations\r\n",
    "home_team_data['W'] = home_team_data['W'].astype(int)\r\n",
    "\r\n",
    "home_team_data.loc[home_team_data['home_team_points'] == 1, 'D'] = 1\r\n",
    "home_team_data['D'] = home_team_data['D'].fillna(0)\r\n",
    "home_team_data['D'] = home_team_data['D'].astype(int)\r\n",
    "\r\n",
    "home_team_data.loc[home_team_data['home_team_points'] == 0, 'L'] = 1\r\n",
    "home_team_data['L'] = home_team_data['L'].fillna(0)\r\n",
    "home_team_data['L'] = home_team_data['L'].astype(int)\r\n",
    "\r\n",
    "# Calculating the goal difference between goals scored and goals recieved\r\n",
    "home_team_data['GD'] = home_team_data['home_team_goal'] - home_team_data['away_team_goal']\r\n",
    "home_team_data['GD'] = home_team_data['GD'].astype(int)\r\n",
    "\r\n",
    "# Calculating number of \"Match Played\"\r\n",
    "home_team_data['MP'] = (home_team_data['W'] + home_team_data['D'] + home_team_data['L'])\r\n",
    "\r\n",
    "# Also make sure that \"points\" column is \"int\" too\r\n",
    "home_team_data['home_team_points'] = home_team_data['home_team_points'].astype(int)"
   ],
   "outputs": [],
   "metadata": {}
  },
  {
   "cell_type": "code",
   "execution_count": null,
   "source": [
    "home_team_data.head()"
   ],
   "outputs": [],
   "metadata": {}
  },
  {
   "cell_type": "markdown",
   "source": [
    "### **Superb!**\r\n",
    "Now I will _Groupby_ ***\"Season\"***, ***\"Home_Team\"***, and ***\"League_Name\"***, and _SUM_ of the other columns.\r\n",
    "\r\n",
    "Mmmmm.. So what's the purpose of this step?\r\n",
    "\r\n",
    "Purpose is to make aggregate meaningful data for each Team,\r\n",
    "As every (Team) will be recorded ONLY ONCE in every season\r\n",
    "\r\n",
    "matching its records in this season of goals, points and status.\r\n",
    "\r\n",
    "***Let's how it will be done!***"
   ],
   "metadata": {}
  },
  {
   "cell_type": "code",
   "execution_count": null,
   "source": [
    "home_t = home_team_data.groupby(['Season', 'Home_Team','League_Name'], as_index=False).sum()\r\n",
    "home_t.head()"
   ],
   "outputs": [],
   "metadata": {}
  },
  {
   "cell_type": "markdown",
   "source": [
    "### **Great!**\r\n",
    "Let's try to filter it and check the output"
   ],
   "metadata": {}
  },
  {
   "cell_type": "code",
   "execution_count": null,
   "source": [
    "filter_test = home_t[home_t['Home_Team']=='Arsenal']\r\n",
    "filter_test.head()"
   ],
   "outputs": [],
   "metadata": {}
  },
  {
   "cell_type": "code",
   "execution_count": null,
   "source": [
    "# Now I will just rename some columns, just to be perfect invidual table, and for any merge or concat sake, later ;)\r\n",
    "# As I'm in home teams info, so \"away_team_goal\" here will act as \"Goals Against\", so I will rename it to \"GA\"\r\n",
    "\r\n",
    "home_t= home_t.rename(columns={'Home_Team': 'Team_Name', 'home_team_goal': 'goals','away_team_goal': 'GA', 'home_team_points': 'points'})\r\n",
    "home_t.head()"
   ],
   "outputs": [],
   "metadata": {}
  },
  {
   "cell_type": "markdown",
   "source": [
    "### Good!\r\n",
    "Let's now do exact the same to Away attributes ;)"
   ],
   "metadata": {}
  },
  {
   "cell_type": "markdown",
   "source": [
    "## Away Teams"
   ],
   "metadata": {}
  },
  {
   "cell_type": "code",
   "execution_count": null,
   "source": [
    "# Away_Team points\r\n",
    "\r\n",
    "match_with_team_name.loc[match_with_team_name['away_team_goal'] > match_with_team_name['home_team_goal'] , 'away_team_points'] = 3\r\n",
    "match_with_team_name.loc[match_with_team_name['away_team_goal'] == match_with_team_name['home_team_goal'], 'away_team_points'] = 1\r\n",
    "match_with_team_name.loc[match_with_team_name['away_team_goal'] < match_with_team_name['home_team_goal'], 'away_team_points'] = 0"
   ],
   "outputs": [],
   "metadata": {}
  },
  {
   "cell_type": "code",
   "execution_count": null,
   "source": [
    "away_team_data = match_with_team_name[['League_Name','Season','Away_Team','away_team_goal','home_team_goal','away_team_points']]"
   ],
   "outputs": [],
   "metadata": {}
  },
  {
   "cell_type": "code",
   "execution_count": null,
   "source": [
    "away_team_data.loc[away_team_data['away_team_points'] == 3, 'W'] = 1\r\n",
    "away_team_data['W'] = away_team_data['W'].fillna(0)\r\n",
    "away_team_data['W'] = away_team_data['W'].astype(int)\r\n",
    "\r\n",
    "away_team_data.loc[away_team_data['away_team_points'] == 1, 'D'] = 1\r\n",
    "away_team_data['D'] = away_team_data['D'].fillna(0)\r\n",
    "away_team_data['D'] = away_team_data['D'].astype(int)\r\n",
    "\r\n",
    "away_team_data.loc[away_team_data['away_team_points'] == 0, 'L'] = 1\r\n",
    "away_team_data['L'] = away_team_data['L'].fillna(0)\r\n",
    "away_team_data['L'] = away_team_data['L'].astype(int)\r\n",
    "\r\n",
    "\r\n",
    "away_team_data['GD'] = away_team_data['away_team_goal'] - away_team_data['home_team_goal']\r\n",
    "away_team_data['GD'] = away_team_data['GD'].astype(int)\r\n",
    "\r\n",
    "\r\n",
    "away_team_data['MP'] = (away_team_data['W'] + away_team_data['D'] + away_team_data['L'])\r\n",
    "\r\n",
    "\r\n",
    "away_team_data['away_team_points'] = away_team_data['away_team_points'].astype(int)"
   ],
   "outputs": [],
   "metadata": {}
  },
  {
   "cell_type": "code",
   "execution_count": null,
   "source": [
    "away_t = away_team_data.groupby([\"Season\", \"Away_Team\", \"League_Name\"], as_index=False).sum()"
   ],
   "outputs": [],
   "metadata": {}
  },
  {
   "cell_type": "code",
   "execution_count": null,
   "source": [
    "away_t= away_t.rename(columns={'Away_Team': 'Team_Name', 'away_team_goal': 'goals','home_team_goal':'GA', 'away_team_points': 'points'})\r\n",
    "away_t.head()"
   ],
   "outputs": [],
   "metadata": {}
  },
  {
   "cell_type": "code",
   "execution_count": null,
   "source": [
    "print(away_t.isnull().sum())\r\n",
    "print('\\n'+'*'*50)"
   ],
   "outputs": [],
   "metadata": {}
  },
  {
   "cell_type": "code",
   "execution_count": null,
   "source": [
    "filter_test_2 = away_t[away_t['Team_Name']=='Arsenal']\r\n",
    "filter_test_2.head()"
   ],
   "outputs": [],
   "metadata": {}
  },
  {
   "cell_type": "markdown",
   "source": [
    "## League Standings Dataframe"
   ],
   "metadata": {}
  },
  {
   "cell_type": "markdown",
   "source": [
    "### Now I have two completed tables (Home & Away) for each Team in each Season\r\n",
    "\r\n",
    "So, I need to union the dataframes, but to avoid any logic problems, as the tables are a mix of categorical & dependant numerical records, So I decided to slice the tables to categorical first, then append the metrics attributes\r\n",
    "\r\n",
    "Let's see how I will figure it out"
   ],
   "metadata": {}
  },
  {
   "cell_type": "code",
   "execution_count": null,
   "source": [
    "home_categorical_slice = home_t[['League_Name', 'Season', 'Team_Name']]\r\n",
    "home_categorical_slice.head()"
   ],
   "outputs": [],
   "metadata": {}
  },
  {
   "cell_type": "code",
   "execution_count": null,
   "source": [
    "away_categorical_slice = away_t[['League_Name', 'Season', 'Team_Name']]\r\n",
    "away_categorical_slice.head()"
   ],
   "outputs": [],
   "metadata": {}
  },
  {
   "cell_type": "markdown",
   "source": [
    "### Well!\r\n",
    "Now I'll ***concat*** the two categorical tables\r\n",
    "\r\n",
    "Note: \"Concat\" appends the rows of the _right dataframe_ to the _left_ one\r\n",
    "\r\n",
    "Let's check the shape of each table first\r\n"
   ],
   "metadata": {}
  },
  {
   "cell_type": "code",
   "execution_count": null,
   "source": [
    "print(home_categorical_slice.shape)\r\n",
    "print(away_categorical_slice.shape)"
   ],
   "outputs": [],
   "metadata": {}
  },
  {
   "cell_type": "markdown",
   "source": [
    "So, _Away_ table rows will come below the _Home_ rows\r\n",
    "\r\n",
    "So the shape will be the sum of rows, and same col. number (1478 + 1478 = 2956)\r\n",
    "\r\n",
    "Let's see"
   ],
   "metadata": {}
  },
  {
   "cell_type": "code",
   "execution_count": null,
   "source": [
    "leagues_standings = pd.concat([home_categorical_slice, away_categorical_slice], ignore_index=True)\r\n",
    "leagues_standings.head()"
   ],
   "outputs": [],
   "metadata": {}
  },
  {
   "cell_type": "code",
   "execution_count": null,
   "source": [
    "leagues_standings.shape"
   ],
   "outputs": [],
   "metadata": {}
  },
  {
   "cell_type": "code",
   "execution_count": null,
   "source": [
    "print(leagues_standings.isnull().sum())\r\n",
    "print('\\n'+'*'*50)"
   ],
   "outputs": [],
   "metadata": {}
  },
  {
   "cell_type": "markdown",
   "source": [
    "### Here we go!\r\n",
    "I will add the rest of the columns by Summing both records of _Home_ & _Away_"
   ],
   "metadata": {}
  },
  {
   "cell_type": "code",
   "execution_count": null,
   "source": [
    "leagues_standings['MP'] = (home_t['MP'] + away_t['MP'])\r\n",
    "\r\n",
    "\r\n",
    "leagues_standings['W'] = (home_t['W'] + away_t['W'])\r\n",
    "\r\n",
    "leagues_standings['D'] = (home_t['D'] + away_t['D'])\r\n",
    "\r\n",
    "leagues_standings['L'] = (home_t['L'] + away_t['L'])\r\n",
    "\r\n",
    "\r\n",
    "leagues_standings['Goals'] = (home_t['goals'] + away_t['goals'])\r\n",
    "\r\n",
    "leagues_standings['GA'] = (home_t['GA'] + away_t['GA'])\r\n",
    "\r\n",
    "leagues_standings['GD'] = (home_t['GD'] + away_t['GD'])\r\n",
    "\r\n",
    "\r\n",
    "leagues_standings['Points'] = (home_t['points'] + away_t['points'])\r\n"
   ],
   "outputs": [],
   "metadata": {}
  },
  {
   "cell_type": "code",
   "execution_count": null,
   "source": [
    "leagues_standings.head()"
   ],
   "outputs": [],
   "metadata": {}
  },
  {
   "cell_type": "code",
   "execution_count": null,
   "source": [
    "# Checking Nulls in our dataframe to make it clean, if needed\r\n",
    "\r\n",
    "print(leagues_standings.isnull().sum())\r\n",
    "print('\\n'+'*'*50)"
   ],
   "outputs": [],
   "metadata": {}
  },
  {
   "cell_type": "code",
   "execution_count": null,
   "source": [
    "# Cleaning the data by dropping all rows with Nan values\r\n",
    "leagues_standings.dropna(subset = ['W'], inplace=True)\r\n",
    "\r\n",
    "print(leagues_standings.isnull().sum())\r\n",
    "print('\\n'+'*'*50)"
   ],
   "outputs": [],
   "metadata": {}
  },
  {
   "cell_type": "code",
   "execution_count": null,
   "source": [
    "# And convert datatype to int to look more reasonable\r\n",
    "\r\n",
    "leagues_standings['MP'] = leagues_standings['MP'].astype(int)\r\n",
    "leagues_standings['W'] = leagues_standings['W'].astype(int)\r\n",
    "leagues_standings['D'] = leagues_standings['D'].astype(int)\r\n",
    "leagues_standings['L'] = leagues_standings['L'].astype(int)\r\n",
    "leagues_standings['GA'] = leagues_standings['GA'].astype(int)\r\n",
    "leagues_standings['GD'] = leagues_standings['GD'].astype(int)\r\n",
    "leagues_standings['Goals'] = leagues_standings['Goals'].astype(int)\r\n",
    "leagues_standings['Points'] = leagues_standings['Points'].astype(int)\r\n"
   ],
   "outputs": [],
   "metadata": {}
  },
  {
   "cell_type": "markdown",
   "source": [
    "### Perfecto!\r\n",
    "Here I decided to create a function that returns any standings for any league in any season (2008 ~ 2015)\r\n",
    "\r\n",
    "It's perfect for retrieving any league standings, and also for further uses"
   ],
   "metadata": {}
  },
  {
   "cell_type": "code",
   "execution_count": null,
   "source": [
    "def League_stands(league_name,season):\r\n",
    "\r\n",
    "    df = leagues_standings[(leagues_standings['League_Name']==f'{league_name}') &\r\n",
    "    (leagues_standings['Season']==f'{season}')].sort_values(by='Points', ascending=False)\r\n",
    "\r\n",
    "    #Adding rank column, and sort data according to it\r\n",
    "    df['Rank'] = df['Points'].rank(method='first', ascending=False).astype(int)\r\n",
    "        \r\n",
    "    return df"
   ],
   "outputs": [],
   "metadata": {}
  },
  {
   "cell_type": "markdown",
   "source": [
    "Let's try it!"
   ],
   "metadata": {}
  },
  {
   "cell_type": "code",
   "execution_count": null,
   "source": [
    "League_stands('Spain LIGA BBVA','2008/2009').head()"
   ],
   "outputs": [],
   "metadata": {}
  },
  {
   "cell_type": "markdown",
   "source": [
    "Seems great! but let me compare it with the real standings on \"Google\"."
   ],
   "metadata": {}
  },
  {
   "cell_type": "code",
   "execution_count": null,
   "source": [
    "%%html\r\n",
    "<img src=\"laliga-2009.PNG\" style=\"width:835px;height:606px\"/>"
   ],
   "outputs": [],
   "metadata": {}
  },
  {
   "cell_type": "markdown",
   "source": [
    "Wonderful!! Exact the same!!"
   ],
   "metadata": {}
  },
  {
   "cell_type": "markdown",
   "source": [
    "<a id='eda'></a>\r\n",
    "# Exploratory Data Analysis"
   ],
   "metadata": {}
  },
  {
   "cell_type": "markdown",
   "source": [
    "Now, I decided to set a plan for getting the top 1 team in each league\r\n",
    "<br>\r\n",
    "This the plan:\r\n",
    "\r\n",
    "1. I chose the top 5 famous leagues , to do my analysis upon them, which are (***Premier League,  Serie A,  La Liga,  Bundesliga,  and Ligue 1***).\r\n",
    "\r\n",
    "2. Pick most team won the league championship in its country, in seasons (2008 ~ 2016).\r\n",
    "3. Check the characteristics of top teams in the world.\r\n",
    "\r\n",
    "And this is how I will proceed the plan:\r\n",
    "\r\n",
    "1. Create lists of leagues, Seasons, and Teams to use them in upcoming loops.\r\n",
    "2. Create a table that contains the top five teams of each league in every season.\r\n",
    "3. Get the most winning team in each league.\r\n",
    "4. Gather them together in the data frame.\r\n",
    "5. Join these teams to their characteristics in the _Attribute_ table.\r\n",
    "6. get the most common average of these characteristics."
   ],
   "metadata": {}
  },
  {
   "cell_type": "markdown",
   "source": [
    "____________________________________\r\n",
    "### Top 10 Teams over the leagues\r\n",
    "____________________________________"
   ],
   "metadata": {}
  },
  {
   "cell_type": "markdown",
   "source": [
    "First let's get the first top 10 of the five leagues overall, according to their total points\r\n"
   ],
   "metadata": {}
  },
  {
   "cell_type": "code",
   "execution_count": null,
   "source": [
    "# Creating the lists\r\n",
    "league_list = league['name'].unique().tolist()\r\n",
    "season_list = match['season'].unique().tolist()\r\n",
    "team_list  = team['team_long_name'].unique().tolist()"
   ],
   "outputs": [],
   "metadata": {}
  },
  {
   "cell_type": "code",
   "execution_count": null,
   "source": [
    "# Creating list of desired leagues only.\r\n",
    "top_five_leagues = ['France Ligue 1', 'England Premier League', 'Germany 1. Bundesliga', 'Italy Serie A', 'Spain LIGA BBVA']"
   ],
   "outputs": [],
   "metadata": {}
  },
  {
   "cell_type": "markdown",
   "source": [
    "This loop below, uses the \"_League_stands_\" function to fill the desired table"
   ],
   "metadata": {}
  },
  {
   "cell_type": "code",
   "execution_count": null,
   "source": [
    "# This will be like a temp table\r\n",
    "df = pd.DataFrame\r\n",
    "\r\n",
    "# This will be our usable table\r\n",
    "df_2 = pd.DataFrame(columns=['League_Name','Season','Team_Name','MP','W','D','L','Goals','GA','GD','Points','Rank'])\r\n",
    "\r\n",
    "y=0\r\n",
    "while y < (len(league_list)):\r\n",
    "    x=0\r\n",
    "\r\n",
    "    while x < (len(season_list)):\r\n",
    "       df = League_stands(league_list[y],season_list[x]).head()\r\n",
    "       df_2 = df_2.append(df)       \r\n",
    "       x+=1\r\n",
    "\r\n",
    "    y+=1\r\n",
    "\r\n",
    "df_2.head()"
   ],
   "outputs": [],
   "metadata": {}
  },
  {
   "cell_type": "code",
   "execution_count": null,
   "source": [
    "# Dropping unneeded columns, to make data more clear\r\n",
    "top_10_t = df_2.drop(['MP','W','D','L','Goals','GA','GD','Season','Rank'], axis=1)\r\n",
    "top_10_t = top_10_t[top_10_t.League_Name.isin(top_five_leagues)]\r\n",
    "top_10_t.head(10)"
   ],
   "outputs": [],
   "metadata": {}
  },
  {
   "cell_type": "code",
   "execution_count": null,
   "source": [
    "top_10_t = top_10_t.groupby(['League_Name','Team_Name'], as_index=False).sum()\r\n",
    "\r\n",
    "# Removing duplicates if exists\r\n",
    "top_10_t = top_10_t.drop_duplicates()\r\n",
    "\r\n",
    "# Sorting by most team got more points\r\n",
    "top_10_t = top_10_t.sort_values(by='Points', ascending=False, ignore_index=True)\r\n",
    "top_10_t = top_10_t.drop(['League_Name','Points'], axis=1)\r\n",
    "\r\n",
    "top_10_t.head(10)"
   ],
   "outputs": [],
   "metadata": {}
  },
  {
   "cell_type": "markdown",
   "source": [
    "So here I can answer the question:<br>\r\n",
    "***Which are the top 10 teams in top famous European leagues?***<br>\r\n",
    "and the answer will be:<br>\r\n",
    "\r\n",
    "_1. FC Barcelona<br>\r\n",
    "2.\tReal Madrid CF<br>\r\n",
    "3.\tFC Bayern Munich<br>\r\n",
    "4.\tArsenal<br>\r\n",
    "5.\tManchester United<br>\r\n",
    "6.\tParis Saint-Germain<br>\r\n",
    "7.\tOlympique Lyonnais<br>\r\n",
    "8.\tManchester City<br>\r\n",
    "9.\tJuventus<br>\r\n",
    "10.\tAtlético Madrid_"
   ],
   "metadata": {}
  },
  {
   "cell_type": "markdown",
   "source": [
    "____________________________________\r\n",
    "### Top-5 Teams (Top 1 of each league in the 5 leagues)\r\n",
    "____________________________________"
   ],
   "metadata": {}
  },
  {
   "cell_type": "code",
   "execution_count": null,
   "source": [
    "# This will be like a temp table\r\n",
    "df = pd.DataFrame\r\n",
    "\r\n",
    "# This will be our usable table\r\n",
    "df_2 = pd.DataFrame(columns=['League_Name','Season','Team_Name','MP','W','D','L','Goals','GA','GD','Points','Rank'])\r\n",
    "\r\n",
    "y=0\r\n",
    "while y < (len(league_list)):\r\n",
    "    x=0\r\n",
    "\r\n",
    "    while x < (len(season_list)):\r\n",
    "       df = League_stands(league_list[y],season_list[x]).head(5)\r\n",
    "       df_2 = df_2.append(df)       \r\n",
    "       x+=1\r\n",
    "\r\n",
    "    y+=1\r\n",
    "\r\n",
    "df_2"
   ],
   "outputs": [],
   "metadata": {}
  },
  {
   "cell_type": "code",
   "execution_count": null,
   "source": [
    "# Creating list of desired leagues only.\r\n",
    "top_five_leagues = ['France Ligue 1', 'England Premier League', 'Germany 1. Bundesliga', 'Italy Serie A', 'Spain LIGA BBVA']"
   ],
   "outputs": [],
   "metadata": {}
  },
  {
   "cell_type": "code",
   "execution_count": null,
   "source": [
    "# Dropping unneeded columns, to make data more clear\r\n",
    "top_5_t = df_2.drop(['MP','W','D','L','Goals','GA','GD'], axis=1)\r\n",
    "top_5_t = top_5_t[top_5_t.League_Name.isin(top_five_leagues)]\r\n",
    "top_5_t"
   ],
   "outputs": [],
   "metadata": {}
  },
  {
   "cell_type": "code",
   "execution_count": null,
   "source": [
    "# Filtering to get only the winners of leagues in every single season (top#1)\r\n",
    "num1_t = (top_5_t.loc[top_5_t['Rank'] == 1])\r\n",
    "num1_t = num1_t.groupby(['Team_Name', 'League_Name', 'Season'], as_index=False).sum()\r\n",
    "\r\n",
    "num1_t.head()"
   ],
   "outputs": [],
   "metadata": {}
  },
  {
   "cell_type": "markdown",
   "source": [
    "Below is a little surgery  to count how many times each team was number one,<br>\r\n",
    "so, we can get the most league champ"
   ],
   "metadata": {}
  },
  {
   "cell_type": "code",
   "execution_count": null,
   "source": [
    "num1_t['Freq'] = num1_t.groupby('Team_Name')['Team_Name'].transform('count')\r\n",
    "#\"transform\" function above, returns the dataframe with transformed values\r\n",
    "#  after applying the function specified in its parameter\r\n",
    "\r\n",
    "num1_t.head()"
   ],
   "outputs": [],
   "metadata": {}
  },
  {
   "cell_type": "code",
   "execution_count": null,
   "source": [
    "# Dropping \"Season\" & \"Points\" for better visible table.\r\n",
    "num1_t = num1_t.drop(['Season'], axis=1)\r\n",
    "\r\n",
    "num1_t.head()"
   ],
   "outputs": [],
   "metadata": {}
  },
  {
   "cell_type": "code",
   "execution_count": null,
   "source": [
    "# Removing duplicates if exists\r\n",
    "num1_t = num1_t.drop_duplicates()\r\n",
    "\r\n",
    "# Sorting by most frequency (team who most was)\r\n",
    "num1_t = num1_t.sort_values(by='Freq', ascending=False)\r\n",
    "\r\n",
    "# After sorting, so we need only one team from each league , what will be the most champ winner.\r\n",
    "# So any repeated League_Name , will be deleted but keep the first appearance, which is the highest Freq. ;)\r\n",
    "num1_t = num1_t.drop_duplicates(subset='League_Name', keep='first', ignore_index=True)\r\n",
    "\r\n",
    "num1_t"
   ],
   "outputs": [],
   "metadata": {}
  },
  {
   "cell_type": "markdown",
   "source": [
    "So here I can answer the question:<br>\r\n",
    "***Which teams won the title the most?***<br>\r\n",
    "and the answer will be:<br>\r\n",
    "_1. FC Barcelona_<br>\r\n",
    "_2. Juventus_<br>\r\n",
    "_3. FC Bayern Munich_<br>\r\n",
    "_4. Paris Saint-Germain_<br>\t\r\n",
    "_5. Manchester United_<br>\r\n"
   ],
   "metadata": {}
  },
  {
   "cell_type": "markdown",
   "source": [
    "____________________________________\r\n",
    "### Last-5 teams\r\n",
    "____________________________________"
   ],
   "metadata": {}
  },
  {
   "cell_type": "markdown",
   "source": [
    "Doing the same as I did for \"Top-5\" teams"
   ],
   "metadata": {}
  },
  {
   "cell_type": "code",
   "execution_count": null,
   "source": [
    "# This will be like temp table\r\n",
    "df = pd.DataFrame\r\n",
    "# This will be our usable table\r\n",
    "df_2 = pd.DataFrame(columns=['League_Name','Season','Team_Name','MP','W','D','L','Goals','GA','GD','Points','Rank'])\r\n",
    "\r\n",
    "y=0\r\n",
    "while y < (len(league_list)):\r\n",
    "    x=0\r\n",
    "\r\n",
    "    while x < (len(season_list)):\r\n",
    "       df = League_stands(league_list[y],season_list[x]).tail(5)\r\n",
    "       df_2 = df_2.append(df)       \r\n",
    "       x+=1\r\n",
    "\r\n",
    "    y+=1"
   ],
   "outputs": [],
   "metadata": {}
  },
  {
   "cell_type": "code",
   "execution_count": null,
   "source": [
    "# Droppig unneeded columns, to make data more clear\r\n",
    "last_5_t = df_2.drop(['MP','W','D','L','Goals','GA','GD'], axis=1)\r\n",
    "last_5_t = last_5_t[last_5_t.League_Name.isin(top_five_leagues)]"
   ],
   "outputs": [],
   "metadata": {}
  },
  {
   "cell_type": "code",
   "execution_count": null,
   "source": [
    "\r\n",
    "num20_t = (last_5_t.loc[last_5_t['Rank'] == 18])\r\n",
    "# I've made the rank 18 not 20, as I discovered that Bundesliga has no rank 20, so it's exceptional for our case.\r\n",
    "\r\n",
    "num20_t = num20_t.groupby(['Team_Name', 'League_Name', 'Season'], as_index=False).sum()"
   ],
   "outputs": [],
   "metadata": {}
  },
  {
   "cell_type": "code",
   "execution_count": null,
   "source": [
    "num20_t['Freq'] = num20_t.groupby('Team_Name')['Team_Name'].transform('count')"
   ],
   "outputs": [],
   "metadata": {}
  },
  {
   "cell_type": "code",
   "execution_count": null,
   "source": [
    "# Dropping \"Season\" & \"Points\" for better visible table\r\n",
    "num20_t = num20_t.drop(['Season'], axis=1)\r\n",
    "\r\n",
    "num20_t.head()"
   ],
   "outputs": [],
   "metadata": {}
  },
  {
   "cell_type": "code",
   "execution_count": null,
   "source": [
    "# Removing duplicates\r\n",
    "num20_t = num20_t.drop_duplicates()\r\n",
    "\r\n",
    "# Sorting by most frequency (team who most was in last place)\r\n",
    "num20_t = num20_t.sort_values(by='Freq', ascending=False)\r\n",
    "\r\n",
    "# After sorting, so we need only one team from each league , what will be the most one ranked last.\r\n",
    "# So any repeated League_Name , will be deleted but keep the first appearance, which is the highest Freq. ;)\r\n",
    "num20_t = num20_t.drop_duplicates(subset='League_Name', keep='first', ignore_index=True)\r\n",
    "\r\n",
    "num20_t"
   ],
   "outputs": [],
   "metadata": {}
  },
  {
   "cell_type": "markdown",
   "source": [
    "So here I can answer the question:<br>\r\n",
    "***Which teams always rank in last 3 places in European leagues?***<br>\r\n",
    "and the answer will be:<br>\r\n",
    "_1. Newcastle United_<br>\r\n",
    "_2. RC Deportivo de La Coruña_<br>\r\n",
    "_3. 1.FC Kaiserslautern_<br>\r\n",
    "_4. Lecce_<br>\t\r\n",
    "_5. SM Caen_<br>"
   ],
   "metadata": {}
  },
  {
   "cell_type": "markdown",
   "source": [
    "Now it's time for creating some visualizations, to get some observations and conclusions."
   ],
   "metadata": {}
  },
  {
   "cell_type": "markdown",
   "source": [
    "I'll plot a bar-chart for The most title-winning teams in each league, in seasons (2008 ~ 2016)"
   ],
   "metadata": {}
  },
  {
   "cell_type": "code",
   "execution_count": null,
   "source": [
    "#Let's try using the \"Seaborn\" library\r\n",
    "# as it supports a much easier way for _legend_ (hue), and I need it here without complexity\r\n",
    "\r\n",
    "colors = ['purple','green','#D83B01', 'blue', 'red']\r\n",
    "\r\n",
    "sns.set_theme(style=\"whitegrid\")\r\n",
    "fig, ax = plt.subplots(figsize=(14, 8))\r\n",
    "sns.barplot(data=num1_t, hue='League_Name', x='Team_Name', y='Freq', palette=colors, ax=ax).set(title='The most title-winning teams in each league\\n-in seasons (2008~2016)')\r\n",
    "\r\n",
    "plt.xlabel('Team name')\r\n",
    "plt.ylabel('The number of tournaments won')\r\n",
    "\r\n",
    "for tick in ax.get_xticklabels():\r\n",
    "    tick.set_rotation(10)\r\n",
    "    \r\n",
    "plt.legend(title='League', fontsize='9', title_fontsize='10')\r\n",
    "plt.show()\r\n",
    "\r\n"
   ],
   "outputs": [],
   "metadata": {}
  },
  {
   "cell_type": "markdown",
   "source": [
    "**Observation:**\r\n",
    "\r\n",
    "* _Man.United_ is the most title winner and only won 3 seasons in 7-years.\r\n",
    "\r\n",
    "**Conclusion:**\r\n",
    "\r\n",
    "* _Premier League_ is a very competitive league.\r\n",
    "\r\n"
   ],
   "metadata": {}
  },
  {
   "cell_type": "markdown",
   "source": [
    "I'll plot a bar-chart for The most teams ranked last in each league, in seasons (2008 ~ 2016)"
   ],
   "metadata": {}
  },
  {
   "cell_type": "code",
   "execution_count": null,
   "source": [
    "colors = ['red', 'purple', '#D83B01', 'green', 'blue']\r\n",
    "\r\n",
    "sns.set_theme(style=\"whitegrid\")\r\n",
    "fig, ax = plt.subplots(figsize=(14, 8))\r\n",
    "sns.barplot(data=num20_t, hue='League_Name', x='Team_Name', y='Freq', palette=colors, ax=ax).set(title='The teams that achieved the most last places in each league\\n-in seasons (2008~2016)')\r\n",
    "plt.xlabel('Team name')\r\n",
    "plt.ylabel('Number of times ranked in the last places')\r\n",
    "\r\n",
    "for tick in ax.get_xticklabels():\r\n",
    "    tick.set_rotation(10)\r\n",
    "\r\n",
    "plt.legend(title='League', fontsize='9', title_fontsize='10')\r\n",
    "plt.show()"
   ],
   "outputs": [],
   "metadata": {}
  },
  {
   "cell_type": "markdown",
   "source": [
    "Now, I will compare the difference of total points between the top-5 and last-5 teams in each league<br>\r\n",
    "so I can indicate which is the most competitive league."
   ],
   "metadata": {}
  },
  {
   "cell_type": "code",
   "execution_count": null,
   "source": [
    "# This will be like temp table\r\n",
    "df = pd.DataFrame\r\n",
    "# This will be our usable table\r\n",
    "df_2 = pd.DataFrame(columns=['League_Name','Season','Team_Name','MP','W','D','L','Goals','GA','GD','Points','Rank'])\r\n",
    "\r\n",
    "y=0\r\n",
    "while y < (len(league_list)):\r\n",
    "    x=0\r\n",
    "\r\n",
    "    while x < (len(season_list)):\r\n",
    "       df = League_stands(league_list[y],season_list[x])\r\n",
    "       df_2 = df_2.append(df)       \r\n",
    "       x+=1\r\n",
    "\r\n",
    "    y+=1"
   ],
   "outputs": [],
   "metadata": {}
  },
  {
   "cell_type": "code",
   "execution_count": null,
   "source": [
    "df_2 = df_2.groupby(['Team_Name'], as_index=False).sum()\r\n",
    "df_2 = df_2.drop(['Season','MP','W','D','L','Goals','GA','GD','Rank'], axis=1)\r\n",
    "df_2 = df_2.sort_values(by='Points',ascending = False)"
   ],
   "outputs": [],
   "metadata": {}
  },
  {
   "cell_type": "code",
   "execution_count": null,
   "source": [
    "top5_pts = pd.merge(num1_t,df_2, how='inner', left_on = 'Team_Name',right_on = 'Team_Name')\r\n",
    "top5_pts = top5_pts.drop(['Points_x','Rank','Freq','League_Name_y'], axis=1)\r\n",
    "\r\n",
    "last5_pts = pd.merge(num20_t,df_2, how='inner', left_on = 'Team_Name',right_on = 'Team_Name')\r\n",
    "last5_pts = last5_pts.drop(['Points_x','Rank','Freq','League_Name_y'], axis=1)"
   ],
   "outputs": [],
   "metadata": {}
  },
  {
   "cell_type": "code",
   "execution_count": null,
   "source": [
    "top_dwn_diff = pd.merge(top5_pts,last5_pts, how='inner', left_on = 'League_Name_x',right_on = 'League_Name_x')\r\n",
    "top_dwn_diff = top_dwn_diff.drop(['Team_Name_x','Team_Name_y'], axis=1)\r\n",
    "top_dwn_diff = top_dwn_diff.rename(columns={'League_Name_x': 'League_Name', 'Points_y_x': 'Top 5 points', 'Points_y_y': 'Last 5 points'})\r\n",
    "top_dwn_diff['Pts. Diff.'] = top_dwn_diff['Top 5 points'] - top_dwn_diff['Last 5 points']\r\n",
    "\r\n",
    "top_dwn_diff"
   ],
   "outputs": [],
   "metadata": {}
  },
  {
   "cell_type": "code",
   "execution_count": null,
   "source": [
    "#Let's use the \"Matplotlib\" library, as it's much flexible in customizations\r\n",
    "\r\n",
    "#Setting labels locations\r\n",
    "x = np.arange(len((top_dwn_diff['League_Name'].unique().tolist())))\r\n",
    "\r\n",
    "#Creating variable called \"width\" to use it for the width of the bars.\r\n",
    "width = 0.4  \r\n",
    "\r\n",
    "fig, ax = plt.subplots()\r\n",
    "fig.set_size_inches(10.5, 7.5)\r\n",
    "\r\n",
    "# Top 5 bars.\r\n",
    "ax.bar(x - width/2, top_dwn_diff['Top 5 points'], width, label='Top rank team')\r\n",
    "\r\n",
    "# Last 5 bars.\r\n",
    "ax.bar(x + width/2, top_dwn_diff['Last 5 points'], width, label='Last rank team')\r\n",
    "\r\n",
    "\r\n",
    "# Adding some labels, titles and x-axis tick labels.\r\n",
    "ax.set_title('Difference of total points, between Top & Last teams in each league\\n-in seasons (2008~2016)')\r\n",
    "plt.xlabel('League Name')\r\n",
    "ax.set_ylabel('Points')\r\n",
    "ax.set_xticks(x)\r\n",
    "ax.set_xticklabels(top_dwn_diff['League_Name'])\r\n",
    "\r\n",
    "\r\n",
    "for tick in ax.get_xticklabels():\r\n",
    "    tick.set_rotation(10)\r\n",
    "\r\n",
    "ax.legend()\r\n",
    "\r\n",
    "fig.tight_layout()\r\n",
    "\r\n",
    "plt.show()"
   ],
   "outputs": [],
   "metadata": {}
  },
  {
   "cell_type": "markdown",
   "source": [
    "**Observation:**\r\n",
    "\r\n",
    "* _Premier League_ difference point is almost the half."
   ],
   "metadata": {}
  },
  {
   "cell_type": "markdown",
   "source": [
    "Let's make it more observant! ;)"
   ],
   "metadata": {}
  },
  {
   "cell_type": "code",
   "execution_count": null,
   "source": [
    "#This function is to add nottation above each bar, by it's value\r\n",
    "def addlabels(x,y):\r\n",
    "    for i in range(len(x)):\r\n",
    "        plt.text(i, y[i], y[i], ha = 'center')\r\n",
    "\r\n",
    "\r\n",
    "# Creating data list on which bar chart will be plot\r\n",
    "x = top_dwn_diff['League_Name'].tolist()\r\n",
    "y = top_dwn_diff['Pts. Diff.'].tolist()\r\n",
    "\r\n",
    "colors = ['purple', 'green', '#D83B01', 'blue','red']\r\n",
    "\r\n",
    "# Setting figure size by using figure() function \r\n",
    "plt.figure(figsize = (15, 7))\r\n",
    "plt.bar(x, y, color = colors)\r\n",
    "    \r\n",
    "# Calling the function to add the labels above each bar\r\n",
    "addlabels(x, y)\r\n",
    " \r\n",
    "plt.title(\"Difference of total points, between Top & Last teams in each league\\n-in seasons (2008~2016)\")\r\n",
    "plt.xlabel(\"League name\")\r\n",
    "plt.ylabel(\"Points\")\r\n",
    "      \r\n",
    "plt.show()"
   ],
   "outputs": [],
   "metadata": {}
  },
  {
   "cell_type": "markdown",
   "source": [
    "**Observation:**\r\n",
    "\r\n",
    "* _Premier League_ has the lowest difference of point between top and last teams.<br>\r\n",
    "\r\n",
    "**Conclusion:**\r\n",
    "\r\n",
    "* _Premier League_ is the most competitive league in Europe."
   ],
   "metadata": {}
  },
  {
   "cell_type": "markdown",
   "source": [
    "So here I can answer the question:<br>\r\n",
    "***Which is the most competitive league in Europe?***<br>\r\n",
    "and the answer will be:<br>\r\n",
    "_England Premier League_"
   ],
   "metadata": {}
  },
  {
   "cell_type": "markdown",
   "source": [
    "### Good!\r\n",
    "Now I will join \"_num1_t_\" (what contains top-5 teams), with \"$team$\" table to get teams IDs,<br>\r\n",
    "so I can join the \"_team_atts_\", and get the metrics of the top teams."
   ],
   "metadata": {}
  },
  {
   "cell_type": "code",
   "execution_count": null,
   "source": [
    "top5_atts = pd.merge(left=num1_t, right=team, how='left', left_on='Team_Name', right_on='team_long_name')\r\n",
    "\r\n",
    "# Drop unwanted columns.\r\n",
    "top5_atts = top5_atts.drop(['League_Name','Rank','Freq','id','team_fifa_api_id','team_long_name','team_short_name'], axis=1)\r\n",
    "\r\n",
    "top5_atts"
   ],
   "outputs": [],
   "metadata": {}
  },
  {
   "cell_type": "code",
   "execution_count": null,
   "source": [
    "#Joining my table with \"Team_Attributes\" table\r\n",
    "top5_atts = top5_atts.merge(team_atts, how='left', left_on='team_api_id', right_on='team_api_id')"
   ],
   "outputs": [],
   "metadata": {}
  },
  {
   "cell_type": "code",
   "execution_count": null,
   "source": [
    "#Dropping unusful cols.\r\n",
    "top5_atts = top5_atts.drop(['id','team_fifa_api_id','buildUpPlaySpeedClass','buildUpPlayDribblingClass',\r\n",
    "                                'chanceCreationShootingClass','chanceCreationPositioningClass','defenceAggressionClass',\r\n",
    "                                'defenceTeamWidthClass','defenceDefenderLineClass','buildUpPlayPassingClass',\r\n",
    "                                'buildUpPlayPositioningClass','chanceCreationPassingClass','chanceCreationCrossingClass',\r\n",
    "                                'defencePressureClass'], axis=1)"
   ],
   "outputs": [],
   "metadata": {}
  },
  {
   "cell_type": "code",
   "execution_count": null,
   "source": [
    "# Getting the average of each attribute of the top teams\r\n",
    "top5_atts.fillna(value=top5_atts['buildUpPlayDribbling'].mean(), inplace=True)\r\n",
    "\r\n",
    "print(top5_atts.isnull().sum())"
   ],
   "outputs": [],
   "metadata": {}
  },
  {
   "cell_type": "code",
   "execution_count": null,
   "source": [
    "#Groupping by Team_Name and ID\r\n",
    "top5_atts_avg = top5_atts.groupby(['Team_Name','team_api_id'],as_index=False).mean()\r\n",
    "top5_atts_avg.head()"
   ],
   "outputs": [],
   "metadata": {}
  },
  {
   "cell_type": "code",
   "execution_count": null,
   "source": [
    "#Selecting only metrics cols. (dropping first 2, and start from 3rd to the end of cols.)\r\n",
    "#Remember that Python does not slice inclusive of the ending index.\r\n",
    "top5_means = (top5_atts_avg.iloc[:,3:]).mean() \r\n",
    "top5_means.head()"
   ],
   "outputs": [],
   "metadata": {}
  },
  {
   "cell_type": "markdown",
   "source": [
    "### Now I just got the attributes of \"Top Teams\"\r\n",
    "### Let's do the same for the \"Down Teams\"!"
   ],
   "metadata": {}
  },
  {
   "cell_type": "code",
   "execution_count": null,
   "source": [
    "last5_atts = pd.merge(left=num20_t, right=team, how='left', left_on='Team_Name', right_on='team_long_name')\r\n",
    "\r\n",
    "# Drop unwanted columns.\r\n",
    "last5_atts = last5_atts.drop(['League_Name','Rank','Freq','id','team_fifa_api_id','team_long_name','team_short_name'], axis=1)\r\n",
    "\r\n",
    "last5_atts"
   ],
   "outputs": [],
   "metadata": {}
  },
  {
   "cell_type": "code",
   "execution_count": null,
   "source": [
    "last5_atts = last5_atts.merge(team_atts, how='left', left_on='team_api_id', right_on='team_api_id')"
   ],
   "outputs": [],
   "metadata": {}
  },
  {
   "cell_type": "code",
   "execution_count": null,
   "source": [
    "last5_atts = last5_atts.drop(['id','team_fifa_api_id','buildUpPlaySpeedClass','buildUpPlayDribblingClass',\r\n",
    "                                'chanceCreationShootingClass','chanceCreationPositioningClass','defenceAggressionClass',\r\n",
    "                                'defenceTeamWidthClass','defenceDefenderLineClass','buildUpPlayPassingClass',\r\n",
    "                                'buildUpPlayPositioningClass','chanceCreationPassingClass','chanceCreationCrossingClass',\r\n",
    "                                'defencePressureClass'], axis=1)"
   ],
   "outputs": [],
   "metadata": {}
  },
  {
   "cell_type": "code",
   "execution_count": null,
   "source": [
    "print(last5_atts.isnull().sum())"
   ],
   "outputs": [],
   "metadata": {}
  },
  {
   "cell_type": "code",
   "execution_count": null,
   "source": [
    "last5_atts.fillna(value=last5_atts['buildUpPlayDribbling'].mean(), inplace=True)\r\n",
    "\r\n",
    "print(last5_atts.isnull().sum())"
   ],
   "outputs": [],
   "metadata": {}
  },
  {
   "cell_type": "code",
   "execution_count": null,
   "source": [
    "last5_atts_avg = last5_atts.groupby(['Team_Name','team_api_id'],as_index=False).mean()\r\n",
    "last5_atts_avg.head()"
   ],
   "outputs": [],
   "metadata": {}
  },
  {
   "cell_type": "code",
   "execution_count": null,
   "source": [
    "last5_atts_means = (last5_atts_avg.iloc[:,3:]).mean()\r\n",
    "\r\n",
    "last5_atts_means"
   ],
   "outputs": [],
   "metadata": {}
  },
  {
   "cell_type": "markdown",
   "source": [
    "### Here we go!\r\n",
    "I've chosen the Radar Chart as I believe it's the best representative for attribute distribution And can compare through it difference of top & down teams abilities."
   ],
   "metadata": {}
  },
  {
   "cell_type": "code",
   "execution_count": null,
   "source": [
    "# Setting lables to be the angles of the radar\r\n",
    "labels = [\r\n",
    "    'buildUpPlaySpeed',\r\n",
    "    'buildUpPlayDribbling',\r\n",
    "    'buildUpPlayPassing',\r\n",
    "    'chanceCreationPassing',\r\n",
    "    'chanceCreationCrossing',\r\n",
    "    'chanceCreationShooting',\r\n",
    "    'defencePressure',\r\n",
    "    'defenceAggression',\r\n",
    "    'defenceTeamWidth']\r\n",
    "\r\n",
    "# Creating the chart\r\n",
    "top5_stat = top5_means.values\r\n",
    "\r\n",
    "angles=np.linspace(0, 2*np.pi, len(labels), endpoint=False)\r\n",
    "fig = plt.figure(figsize=(8, 8))\r\n",
    "ax = fig.add_subplot(111, projection=\"polar\")\r\n",
    "\r\n",
    "# Theta found with five different angles, but first is duplicated , so:\r\n",
    "theta = np.arange(len(top5_stat) + 1) / float(len(top5_stat)) * 2 * np.pi\r\n",
    "\r\n",
    "values = top5_means.values\r\n",
    "values = np.append(values, values[0])\r\n",
    "\r\n",
    "\r\n",
    "# Drawing the polygon, and marking the points for each angle/value combination.\r\n",
    "ax.plot(theta, values, color=\"darkblue\", marker=\"o\", label=\"top teams stats\")\r\n",
    "plt.xticks(theta[:9], labels, color='black', size=12)\r\n",
    "\r\n",
    "# Increasing the distance of the labels on the plot\r\n",
    "ax.tick_params(pad=10) \r\n",
    "\r\n",
    "# Fill the area of the polygon by blue color and giving it some transparency\r\n",
    "ax.fill(theta, values, 'blue', alpha=0.5)\r\n",
    "ax.grid(True)\r\n",
    " \r\n",
    "plt.title('Top Teams Skills\\n')\r\n",
    "plt.show()"
   ],
   "outputs": [],
   "metadata": {}
  },
  {
   "cell_type": "markdown",
   "source": [
    "**Observation:**\r\n",
    "\r\n",
    "* Top teams are much skilled in _Creating shooting chances_, _Defence Pressure_, _Defense Agression_ and _Defence Width_ has the lowest difference of point between top and last teams.<br>\r\n",
    "\r\n",
    "**Concluseion:**\r\n",
    "\r\n",
    "I could answer the question:<br>\r\n",
    "***What are attributes lead to the most victorious?***<br>\r\n",
    "and the answer will be:<br>\r\n",
    "To focuse more in \r\n",
    "* _Creating shooting chances_\r\n",
    "* _Defence Pressure_\r\n",
    "* _Defense Agression_\r\n",
    "* _Defence Width_"
   ],
   "metadata": {}
  },
  {
   "cell_type": "markdown",
   "source": [
    "And now for the doen ranked teams"
   ],
   "metadata": {}
  },
  {
   "cell_type": "code",
   "execution_count": null,
   "source": [
    "# Setting lables to be the angles of the radar\r\n",
    "labels = [\r\n",
    "    'buildUpPlaySpeed',\r\n",
    "    'buildUpPlayDribbling',\r\n",
    "    'buildUpPlayPassing',\r\n",
    "    'chanceCreationPassing',\r\n",
    "    'chanceCreationCrossing',\r\n",
    "    'chanceCreationShooting',\r\n",
    "    'defencePressure',\r\n",
    "    'defenceAggression',\r\n",
    "    'defenceTeamWidth']\r\n",
    "\r\n",
    "# Creating the chart\r\n",
    "last5_atts = last5_atts_means.values\r\n",
    "\r\n",
    "angles=np.linspace(0, 2*np.pi, len(labels), endpoint=False)\r\n",
    "\r\n",
    "fig = plt.figure(figsize=(8, 8))\r\n",
    "ax = fig.add_subplot(111, projection=\"polar\")\r\n",
    "\r\n",
    "\r\n",
    "angles=np.linspace(0, 2*np.pi, len(labels), endpoint=False)\r\n",
    "\r\n",
    "# Theta found with five different angles, but first is duplicated , so:\r\n",
    "theta = np.arange(len(last5_atts) + 1) / float(len(last5_atts)) * 2 * np.pi\r\n",
    "\r\n",
    "values = last5_atts_means.values\r\n",
    "values = np.append(values, values[0])\r\n",
    "\r\n",
    "\r\n",
    "\r\n",
    "\r\n",
    "# Drawing the polygon, and marking the points for each angle/value combination.\r\n",
    "ax.plot(theta, values, color=\"darkorange\", marker=\"o\", label=\"top teams stats\")\r\n",
    "plt.xticks(theta[:9], labels, color='black', size=12)\r\n",
    "\r\n",
    "# Increasing the distance of the labels on the plot\r\n",
    "ax.tick_params(pad=10) \r\n",
    "\r\n",
    "# Fill the area of the polygon by blue color and giving it some transparency\r\n",
    "ax.fill(theta, values, 'orange', alpha=0.5)\r\n",
    "ax.grid(True)\r\n",
    "\r\n",
    "plt.title('Down Teams Skills\\n')\r\n",
    "plt.show()"
   ],
   "outputs": [],
   "metadata": {}
  },
  {
   "cell_type": "code",
   "execution_count": null,
   "source": [
    "# Creating the chart\r\n",
    "top5_stat = top5_means.values\r\n",
    "\r\n",
    "angles=np.linspace(0, 2*np.pi, len(labels), endpoint=False)\r\n",
    "\r\n",
    "fig = plt.figure(figsize=(8, 8))\r\n",
    "ax = fig.add_subplot(111, projection=\"polar\")\r\n",
    "\r\n",
    "\r\n",
    "\r\n",
    "# Theta found with five different angles, but first is duplicated , so:\r\n",
    "theta = np.arange(len(top5_stat) + 1) / float(len(top5_stat)) * 2 * np.pi\r\n",
    "\r\n",
    "values = top5_means.values\r\n",
    "values = np.append(values, values[0])\r\n",
    "\r\n",
    "\r\n",
    "\r\n",
    "\r\n",
    "# Drawing the polygon, and marking the points for each angle/value combination.\r\n",
    "ax.plot(theta, values, color=\"darkblue\", marker=\"o\", label=\"Top Teams Skills\")\r\n",
    "plt.xticks(theta[:9], labels, color='black', size=12)\r\n",
    "\r\n",
    "# Increasing the distance of the labels on the plot\r\n",
    "ax.tick_params(pad=10) \r\n",
    "\r\n",
    "# Fill the area of the polygon by blue color and giving it some transparency\r\n",
    "ax.fill(theta, values, 'blue', alpha=0.5)\r\n",
    "\r\n",
    "# Creating the chart\r\n",
    "last5_atts = last5_atts_means.values\r\n",
    "\r\n",
    "angles=np.linspace(0, 2*np.pi, len(labels), endpoint=False)\r\n",
    "\r\n",
    "angles=np.linspace(0, 2*np.pi, len(labels), endpoint=False)\r\n",
    "\r\n",
    "# Theta found with five different angles, but first is duplicated , so:\r\n",
    "theta = np.arange(len(last5_atts) + 1) / float(len(last5_atts)) * 2 * np.pi\r\n",
    "\r\n",
    "values = last5_atts_means.values\r\n",
    "values = np.append(values, values[0])\r\n",
    "\r\n",
    "\r\n",
    "\r\n",
    "\r\n",
    "# Drawing the polygon, and marking the points for each angle/value combination.\r\n",
    "ax.plot(theta, values, color=\"darkorange\", marker=\"o\", label=\"Down Teams Skills\")\r\n",
    "plt.xticks(theta[:9], labels, color='black', size=12)\r\n",
    "\r\n",
    "# Increasing the distance of the labels on the plot\r\n",
    "ax.tick_params(pad=10) \r\n",
    "\r\n",
    "# Fill the area of the polygon by blue color and giving it some transparency\r\n",
    "ax.fill(theta, values, 'orange', alpha=0.5)\r\n",
    "\r\n",
    "ax.grid(True)\r\n",
    "plt.title('Top vs Down teams\\n')\r\n",
    "\r\n",
    "# Showing the legend, using the label of the line plot (useful when there is more than 1 polygon)\r\n",
    "plt.legend() \r\n",
    "plt.show()\r\n"
   ],
   "outputs": [],
   "metadata": {}
  },
  {
   "cell_type": "markdown",
   "source": [
    "**Observation:**\r\n",
    "\r\n",
    "* Top teams are more skilled in  _Defence Pressure_ and _Defense Agression_ than down ranked teams.<br>\r\n",
    "\r\n",
    "**Conclusion:**\r\n",
    "\r\n",
    "I could answer the question:<br>\r\n",
    "***What attributes the low-rank teams are missing to improve their performance?***<br>\r\n",
    "and the answer will be:<br>\r\n",
    "Generally, they miss focusing on the \"Defense\" skills, speciallyon \r\n",
    "\r\n",
    "* _Defence Pressure_\r\n",
    "* _Defense Agression_\r\n"
   ],
   "metadata": {}
  },
  {
   "cell_type": "markdown",
   "source": [
    "____________________________________\r\n",
    "### Creating **Players** table Joining their skills in the **Attributes** table<br>\r\n",
    "(only needed skilly)\r\n",
    "____________________________________"
   ],
   "metadata": {}
  },
  {
   "cell_type": "code",
   "execution_count": null,
   "source": [
    "player_atts_names = pd.read_sql_query(\"\"\"\r\n",
    "                                            SELECT\r\n",
    "                                            Player.player_name AS Player_Name, \r\n",
    "                                            pa.crossing,\r\n",
    "                                            finishing,\r\n",
    "                                            heading_accuracy,\r\n",
    "                                            dribbling,\r\n",
    "                                            free_kick_accuracy,\r\n",
    "                                            long_passing,\r\n",
    "                                            ball_control,\r\n",
    "                                            acceleration,\r\n",
    "                                            sprint_speed,\r\n",
    "                                            agility,\r\n",
    "                                            balance,\r\n",
    "                                            shot_power,\r\n",
    "                                            jumping,\r\n",
    "                                            stamina,\r\n",
    "                                            strength,\r\n",
    "                                            long_shots,\r\n",
    "                                            overall_rating\r\n",
    "                                            FROM Player\r\n",
    "                                            JOIN Player_Attributes As pa on pa.player_api_id = Player.player_api_id                                      \r\n",
    "                                                                                                                             \r\n",
    "                                            \"\"\", conn)"
   ],
   "outputs": [],
   "metadata": {}
  },
  {
   "cell_type": "code",
   "execution_count": null,
   "source": [
    "player_atts_names.head()"
   ],
   "outputs": [],
   "metadata": {}
  },
  {
   "cell_type": "code",
   "execution_count": null,
   "source": [
    "player_atts_names = player_atts_names.drop_duplicates()\r\n",
    "player_atts_names.shape\r\n",
    "player_atts_names.head()\r\n",
    "player_atts_names = player_atts_names.groupby(['Player_Name'], as_index=False).mean()"
   ],
   "outputs": [],
   "metadata": {}
  },
  {
   "cell_type": "code",
   "execution_count": null,
   "source": [
    "#Sorting by total Overall rating in all 7-seasons\r\n",
    "player_atts_names = player_atts_names.sort_values(by='overall_rating', ascending=False)"
   ],
   "outputs": [],
   "metadata": {}
  },
  {
   "cell_type": "code",
   "execution_count": null,
   "source": [
    "player_atts_names.head(10)"
   ],
   "outputs": [],
   "metadata": {}
  },
  {
   "cell_type": "code",
   "execution_count": null,
   "source": [
    "top_10_players_names = (player_atts_names['Player_Name']).head(10)\r\n",
    "top_10_players_names"
   ],
   "outputs": [],
   "metadata": {}
  },
  {
   "cell_type": "markdown",
   "source": [
    "So here I can answer the question:<br>\r\n",
    "***Who are the top 10 players in Europe for seasons (2008~2016)?***<br>\r\n",
    "and the answer will be:<br>\r\n",
    "\r\n",
    "_1. Lionel Messi<br>\r\n",
    "2.\tCristiano Ronaldo<br>\r\n",
    "3.\tFranck Ribery<br>\r\n",
    "4.\tZlatan Ibrahimovic<br>\r\n",
    "5.\tXavi Hernandez<br>\r\n",
    "6.\tArjen Robben<br>\r\n",
    "7.\tAndres Iniesta<br>\r\n",
    "8.\tIker Casillas<br>\r\n",
    "9.\tWayne Rooney<br>\r\n",
    "10.\tPhilipp Lahm_"
   ],
   "metadata": {}
  },
  {
   "cell_type": "code",
   "execution_count": null,
   "source": [
    "top10_plr = player_atts_names.head(10)\r\n",
    "top10_plr = (top10_plr.iloc[:,1:17]).mean()\r\n",
    "\r\n",
    "top10_plr"
   ],
   "outputs": [],
   "metadata": {}
  },
  {
   "cell_type": "code",
   "execution_count": null,
   "source": [
    "sorted = top10_plr.sort_values(ascending=False)"
   ],
   "outputs": [],
   "metadata": {}
  },
  {
   "cell_type": "code",
   "execution_count": null,
   "source": [
    "sorted.head()"
   ],
   "outputs": [],
   "metadata": {}
  },
  {
   "cell_type": "code",
   "execution_count": null,
   "source": [
    "top_plr_stats = sorted.values\r\n",
    "lbls=[\r\n",
    "'agility',\r\n",
    "'ball_control',\r\n",
    "'acceleration',\r\n",
    "'dribbling',\r\n",
    "'sprint_speed',\r\n",
    "'balance',\r\n",
    "'stamina',\r\n",
    "'crossing',\r\n",
    "'long_shots',\r\n",
    "'long_passing',\r\n",
    "'shot_power',\r\n",
    "'free_kick_accuracy',\r\n",
    "'finishing',\r\n",
    "'strength',\r\n",
    "'jumping',\r\n",
    "'heading_accuracy']\r\n",
    "\r\n",
    "sns.set_theme(style=\"whitegrid\")\r\n",
    "fig, ax = plt.subplots(figsize=(14, 8))\r\n",
    "sns.barplot(x=top_plr_stats, y=lbls, palette = 'rocket').set(title='\\nSkills Of Top Players\\n')\r\n",
    "plt.xlabel('Average')\r\n",
    "plt.ylabel('Ability (Skill)')\r\n",
    "plt.show()"
   ],
   "outputs": [],
   "metadata": {}
  },
  {
   "cell_type": "markdown",
   "source": [
    "So here I can answer the question:<br>\r\n",
    "***What are attributes lead to be a top player?***<br>\r\n",
    "and the answer will be:<br>\r\n",
    "To be mostly skilled at the following abilities:<br>\r\n",
    "_1. Agility<br>\r\n",
    "2.\tBall Control<br>\r\n",
    "3.\tAcceleration<br>\r\n",
    "4.\tDribbling<br>\r\n",
    "5.\tSprint Speed<br>_"
   ],
   "metadata": {}
  },
  {
   "cell_type": "markdown",
   "source": [
    "<a id='conclusions'></a>\r\n",
    "# Conclusions"
   ],
   "metadata": {}
  },
  {
   "cell_type": "markdown",
   "source": [
    "## **Results:**"
   ],
   "metadata": {}
  },
  {
   "cell_type": "markdown",
   "source": [
    "As per my analysis, I could extract many significant results and info about:<br> \r\n",
    "* Top teams (who won the title the most).\r\n",
    "* Down teams (who rank the last place the most).\r\n",
    "* The reasons behind their strengths (high defense ability) and weaknesses (low defense ability).\r\n",
    "* Detecting the level of competitively of each league (difference of points between top & low, how many times top teams won the title over the 7 years).\r\n",
    "* Spotting the most powerful players (who got the highest overall rating), and skills behind their talents (agility, ball control, acceleration…etc.) that may be being missed in the weaker players."
   ],
   "metadata": {}
  },
  {
   "cell_type": "markdown",
   "source": [
    "According to my data exploration and analysis for the soccer dataset, I believe that I can now answer all the questions as following:\r\n",
    "\r\n",
    "> **1.\tWhich are the top 10 teams in top famous European leagues?**<br>\r\n",
    "\r\n",
    "_1. FC Barcelona<br>\r\n",
    "2.\tReal Madrid CF<br>\r\n",
    "3.\tFC Bayern Munich<br>\r\n",
    "4.\tArsenal<br>\r\n",
    "5.\tManchester United<br>\r\n",
    "6.\tParis Saint-Germain<br>\r\n",
    "7.\tOlympique Lyonnais<br>\r\n",
    "8.\tManchester City<br>\r\n",
    "9.\tJuventus<br>\r\n",
    "10.\tAtlético Madrid_\r\n",
    "\r\n",
    "> **2.\tWhich teams won the title the most?**<br>\r\n",
    "\r\n",
    "_1.\tFC Barcelona<br>\r\n",
    "2.\tJuventus<br>\r\n",
    "3.\tFC Bayern Munich<br>\r\n",
    "4.\tParis Saint-Germain<br>\r\n",
    "5.\tManchester United_\r\n",
    "\r\n",
    "> **3.\tWhat are attributes lead to the most victorious?**<br>\r\n",
    "\r\n",
    "_Most interesting and important attributes are the creating of shooting chances and defense abilities._\r\n",
    "\r\n",
    "> **4.\tWhich is the most competitive league in Europe?**<br>\r\n",
    "\r\n",
    "_England Premier League._\r\n",
    "\r\n",
    "> **5.\tWhich teams always rank in last 3 places in European leagues?**<br>\r\n",
    "\r\n",
    "_1. Newcastle United<br>\r\n",
    "2. RC Deportivo de La Coruña<br>\r\n",
    "3. 1.FC Kaiserslautern<br>\r\n",
    "4. Lecce<br>\t\r\n",
    "5. SM Caen_\r\n",
    "\r\n",
    "> **6.\tWhat attributes the low-rank teams are missing to improve their performance?**<br>\r\n",
    "\r\n",
    "_Actually they miss the most powerful attribute in top teams which is the defense pressure and aggression._\r\n",
    "\r\n",
    "> **7.\tWho are the top 10 players in Europe for seasons (2009~2016)?**<br>\r\n",
    "\r\n",
    "_1.\tLionel Messi<br>\r\n",
    "2.\tCristiano Ronaldo<br>\r\n",
    "3.\tFranck Ribery<br>\r\n",
    "4.\tZlatan Ibrahimovic<br>\r\n",
    "5.\tXavi Hernandez<br>\r\n",
    "6.\tArjen Robben<br>\r\n",
    "7.\tAndres Iniesta<br>\r\n",
    "8.\tIker Casillas<br>\r\n",
    "9.\tWayne Rooney<br>\r\n",
    "10.\tPhilipp Lahm_<br>\r\n",
    "\r\n",
    "> **8.\tWhat are attributes lead to be a top player?**<br>\r\n",
    "\r\n",
    "_According to my analysis the most attributes to be developed for being one the best players, are: \r\n",
    "•\tAgility\r\n",
    "•\tBall control\r\n",
    "•\tAcceleration\r\n",
    "•\tDribbling\r\n",
    "•\tSprint spee_\r\n"
   ],
   "metadata": {}
  },
  {
   "cell_type": "markdown",
   "source": [
    "## **Limitations:**"
   ],
   "metadata": {}
  },
  {
   "cell_type": "markdown",
   "source": [
    "During my discovery in investigating soccer dataset, I noticed some limitations as:<br> \r\n",
    "* A little defect in the database schema, as there are no keys matching the “Player” and “Player Attribute” tables with the “Match” table, so they act as two different databases and are not connected in any way.\r\n",
    "* There’s no direct key between the “Match” table and “Team Attribute”.\r\n",
    "* All tables are connected through foreign keys only on both sides.\r\n",
    "* The missing of the home & away players data in the “Match” table, which makes it faded to know the players who participated in the match."
   ],
   "metadata": {}
  }
 ],
 "metadata": {
  "kernelspec": {
   "name": "python3",
   "display_name": "Python 3.8.8 64-bit ('base': conda)"
  },
  "language_info": {
   "codemirror_mode": {
    "name": "ipython",
    "version": 3
   },
   "file_extension": ".py",
   "mimetype": "text/x-python",
   "name": "python",
   "nbconvert_exporter": "python",
   "pygments_lexer": "ipython3",
   "version": "3.8.8"
  },
  "interpreter": {
   "hash": "5dc13f19afb577cce5559fe1aa0a20b2ad74ee5b07527ac6c5a55802bb91ce28"
  }
 },
 "nbformat": 4,
 "nbformat_minor": 2
}