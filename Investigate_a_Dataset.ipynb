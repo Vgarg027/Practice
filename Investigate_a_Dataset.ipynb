{
 "cells": [
  {
   "cell_type": "markdown",
   "metadata": {},
   "source": [
    "\n",
    "\n",
    "# Project: FBI Guns Data\n",
    "\n",
    "## Table of Contents\n",
    "<ul>\n",
    "<li><a href=\"#intro\">Introduction</a></li>\n",
    "<li><a href=\"#wrangling\">Data Wrangling</a></li>\n",
    "<li><a href=\"#eda\">Exploratory Data Analysis</a></li>\n",
    "<li><a href=\"#conclusions\">Conclusions</a></li>\n",
    "</ul>"
   ]
  },
  {
   "cell_type": "markdown",
   "metadata": {},
   "source": [
    "<a id='intro'></a>\n",
    "## Introduction\n",
    "\n",
    "I have selected DB for FBI Guns Data\n",
    "\n",
    "the DB states the numbers of guns permits foe each type of guns with each sell way for each state per mounth\n",
    "It used by saler to determine wither the buy has a criminal record.\n",
    "\n",
    "the questions to be answered:\n",
    "\n",
    "- Which city has higher number of permits:alaska or new york?\n",
    "- Which mounth has a higher number of permits: septemper or october?\n",
    "- Which state has higher permits mean?"
   ]
  },
  {
   "cell_type": "code",
   "execution_count": 84,
   "metadata": {},
   "outputs": [],
   "source": [
    "import numpy as np\n",
    "import pandas as pd\n",
    "import matplotlib.pyplot as plt\n",
    "import seaborn as sns\n",
    "% matplotlib inline\n",
    "\n"
   ]
  },
  {
   "cell_type": "markdown",
   "metadata": {},
   "source": [
    "<a id='wrangling'></a>\n",
    "## Data Wrangling\n",
    "\n",
    "> **Tip**: In this section of the report, you will load in the data, check for cleanliness, and then trim and clean your dataset for analysis. Make sure that you document your steps carefully and justify your cleaning decisions.\n",
    "\n",
    "### General Properties"
   ]
  },
  {
   "cell_type": "code",
   "execution_count": 85,
   "metadata": {},
   "outputs": [
    {
     "data": {
      "text/html": [
       "<div>\n",
       "<style scoped>\n",
       "    .dataframe tbody tr th:only-of-type {\n",
       "        vertical-align: middle;\n",
       "    }\n",
       "\n",
       "    .dataframe tbody tr th {\n",
       "        vertical-align: top;\n",
       "    }\n",
       "\n",
       "    .dataframe thead th {\n",
       "        text-align: right;\n",
       "    }\n",
       "</style>\n",
       "<table border=\"1\" class=\"dataframe\">\n",
       "  <thead>\n",
       "    <tr style=\"text-align: right;\">\n",
       "      <th></th>\n",
       "      <th>month</th>\n",
       "      <th>state</th>\n",
       "      <th>permit</th>\n",
       "      <th>permit_recheck</th>\n",
       "      <th>handgun</th>\n",
       "      <th>long_gun</th>\n",
       "      <th>other</th>\n",
       "      <th>multiple</th>\n",
       "      <th>admin</th>\n",
       "      <th>prepawn_handgun</th>\n",
       "      <th>...</th>\n",
       "      <th>returned_other</th>\n",
       "      <th>rentals_handgun</th>\n",
       "      <th>rentals_long_gun</th>\n",
       "      <th>private_sale_handgun</th>\n",
       "      <th>private_sale_long_gun</th>\n",
       "      <th>private_sale_other</th>\n",
       "      <th>return_to_seller_handgun</th>\n",
       "      <th>return_to_seller_long_gun</th>\n",
       "      <th>return_to_seller_other</th>\n",
       "      <th>totals</th>\n",
       "    </tr>\n",
       "  </thead>\n",
       "  <tbody>\n",
       "    <tr>\n",
       "      <th>0</th>\n",
       "      <td>2020-10</td>\n",
       "      <td>Alabama</td>\n",
       "      <td>32038.0</td>\n",
       "      <td>585.0</td>\n",
       "      <td>24084.0</td>\n",
       "      <td>17964.0</td>\n",
       "      <td>1698.0</td>\n",
       "      <td>1104</td>\n",
       "      <td>0.0</td>\n",
       "      <td>28.0</td>\n",
       "      <td>...</td>\n",
       "      <td>0.0</td>\n",
       "      <td>0.0</td>\n",
       "      <td>0.0</td>\n",
       "      <td>28.0</td>\n",
       "      <td>25.0</td>\n",
       "      <td>7.0</td>\n",
       "      <td>1.0</td>\n",
       "      <td>4.0</td>\n",
       "      <td>1.0</td>\n",
       "      <td>80934</td>\n",
       "    </tr>\n",
       "    <tr>\n",
       "      <th>1</th>\n",
       "      <td>2020-10</td>\n",
       "      <td>Alaska</td>\n",
       "      <td>264.0</td>\n",
       "      <td>1.0</td>\n",
       "      <td>3209.0</td>\n",
       "      <td>3210.0</td>\n",
       "      <td>348.0</td>\n",
       "      <td>188</td>\n",
       "      <td>0.0</td>\n",
       "      <td>0.0</td>\n",
       "      <td>...</td>\n",
       "      <td>0.0</td>\n",
       "      <td>0.0</td>\n",
       "      <td>0.0</td>\n",
       "      <td>6.0</td>\n",
       "      <td>13.0</td>\n",
       "      <td>1.0</td>\n",
       "      <td>1.0</td>\n",
       "      <td>0.0</td>\n",
       "      <td>0.0</td>\n",
       "      <td>7564</td>\n",
       "    </tr>\n",
       "    <tr>\n",
       "      <th>2</th>\n",
       "      <td>2020-10</td>\n",
       "      <td>Arizona</td>\n",
       "      <td>8991.0</td>\n",
       "      <td>1015.0</td>\n",
       "      <td>24964.0</td>\n",
       "      <td>12288.0</td>\n",
       "      <td>1951.0</td>\n",
       "      <td>1762</td>\n",
       "      <td>0.0</td>\n",
       "      <td>9.0</td>\n",
       "      <td>...</td>\n",
       "      <td>1.0</td>\n",
       "      <td>0.0</td>\n",
       "      <td>0.0</td>\n",
       "      <td>19.0</td>\n",
       "      <td>13.0</td>\n",
       "      <td>0.0</td>\n",
       "      <td>0.0</td>\n",
       "      <td>1.0</td>\n",
       "      <td>0.0</td>\n",
       "      <td>52521</td>\n",
       "    </tr>\n",
       "    <tr>\n",
       "      <th>3</th>\n",
       "      <td>2020-10</td>\n",
       "      <td>Arkansas</td>\n",
       "      <td>5108.0</td>\n",
       "      <td>549.0</td>\n",
       "      <td>8931.0</td>\n",
       "      <td>9386.0</td>\n",
       "      <td>567.0</td>\n",
       "      <td>421</td>\n",
       "      <td>8.0</td>\n",
       "      <td>9.0</td>\n",
       "      <td>...</td>\n",
       "      <td>0.0</td>\n",
       "      <td>0.0</td>\n",
       "      <td>0.0</td>\n",
       "      <td>15.0</td>\n",
       "      <td>7.0</td>\n",
       "      <td>4.0</td>\n",
       "      <td>0.0</td>\n",
       "      <td>0.0</td>\n",
       "      <td>0.0</td>\n",
       "      <td>27177</td>\n",
       "    </tr>\n",
       "    <tr>\n",
       "      <th>4</th>\n",
       "      <td>2020-10</td>\n",
       "      <td>California</td>\n",
       "      <td>36719.0</td>\n",
       "      <td>0.0</td>\n",
       "      <td>65376.0</td>\n",
       "      <td>40286.0</td>\n",
       "      <td>8319.0</td>\n",
       "      <td>0</td>\n",
       "      <td>0.0</td>\n",
       "      <td>0.0</td>\n",
       "      <td>...</td>\n",
       "      <td>0.0</td>\n",
       "      <td>0.0</td>\n",
       "      <td>0.0</td>\n",
       "      <td>0.0</td>\n",
       "      <td>0.0</td>\n",
       "      <td>0.0</td>\n",
       "      <td>0.0</td>\n",
       "      <td>0.0</td>\n",
       "      <td>0.0</td>\n",
       "      <td>151359</td>\n",
       "    </tr>\n",
       "  </tbody>\n",
       "</table>\n",
       "<p>5 rows × 27 columns</p>\n",
       "</div>"
      ],
      "text/plain": [
       "     month       state   permit  permit_recheck  handgun  long_gun   other  \\\n",
       "0  2020-10     Alabama  32038.0           585.0  24084.0   17964.0  1698.0   \n",
       "1  2020-10      Alaska    264.0             1.0   3209.0    3210.0   348.0   \n",
       "2  2020-10     Arizona   8991.0          1015.0  24964.0   12288.0  1951.0   \n",
       "3  2020-10    Arkansas   5108.0           549.0   8931.0    9386.0   567.0   \n",
       "4  2020-10  California  36719.0             0.0  65376.0   40286.0  8319.0   \n",
       "\n",
       "   multiple  admin  prepawn_handgun   ...    returned_other  rentals_handgun  \\\n",
       "0      1104    0.0             28.0   ...               0.0              0.0   \n",
       "1       188    0.0              0.0   ...               0.0              0.0   \n",
       "2      1762    0.0              9.0   ...               1.0              0.0   \n",
       "3       421    8.0              9.0   ...               0.0              0.0   \n",
       "4         0    0.0              0.0   ...               0.0              0.0   \n",
       "\n",
       "   rentals_long_gun  private_sale_handgun  private_sale_long_gun  \\\n",
       "0               0.0                  28.0                   25.0   \n",
       "1               0.0                   6.0                   13.0   \n",
       "2               0.0                  19.0                   13.0   \n",
       "3               0.0                  15.0                    7.0   \n",
       "4               0.0                   0.0                    0.0   \n",
       "\n",
       "   private_sale_other  return_to_seller_handgun  return_to_seller_long_gun  \\\n",
       "0                 7.0                       1.0                        4.0   \n",
       "1                 1.0                       1.0                        0.0   \n",
       "2                 0.0                       0.0                        1.0   \n",
       "3                 4.0                       0.0                        0.0   \n",
       "4                 0.0                       0.0                        0.0   \n",
       "\n",
       "   return_to_seller_other  totals  \n",
       "0                     1.0   80934  \n",
       "1                     0.0    7564  \n",
       "2                     0.0   52521  \n",
       "3                     0.0   27177  \n",
       "4                     0.0  151359  \n",
       "\n",
       "[5 rows x 27 columns]"
      ]
     },
     "execution_count": 85,
     "metadata": {},
     "output_type": "execute_result"
    }
   ],
   "source": [
    "df = pd.read_csv('FBI_guns.csv')\n",
    "df.head()\n",
    "\n",
    "#first read file then show the header of the file"
   ]
  },
  {
   "cell_type": "code",
   "execution_count": 86,
   "metadata": {},
   "outputs": [
    {
     "data": {
      "text/plain": [
       "(14520, 27)"
      ]
     },
     "execution_count": 86,
     "metadata": {},
     "output_type": "execute_result"
    }
   ],
   "source": [
    "df.shape\n",
    "\n",
    "#Show how mouny rows and cloumns"
   ]
  },
  {
   "cell_type": "code",
   "execution_count": 87,
   "metadata": {},
   "outputs": [
    {
     "data": {
      "text/html": [
       "<div>\n",
       "<style scoped>\n",
       "    .dataframe tbody tr th:only-of-type {\n",
       "        vertical-align: middle;\n",
       "    }\n",
       "\n",
       "    .dataframe tbody tr th {\n",
       "        vertical-align: top;\n",
       "    }\n",
       "\n",
       "    .dataframe thead th {\n",
       "        text-align: right;\n",
       "    }\n",
       "</style>\n",
       "<table border=\"1\" class=\"dataframe\">\n",
       "  <thead>\n",
       "    <tr style=\"text-align: right;\">\n",
       "      <th></th>\n",
       "      <th>permit</th>\n",
       "      <th>permit_recheck</th>\n",
       "      <th>handgun</th>\n",
       "      <th>long_gun</th>\n",
       "      <th>other</th>\n",
       "      <th>multiple</th>\n",
       "      <th>admin</th>\n",
       "      <th>prepawn_handgun</th>\n",
       "      <th>prepawn_long_gun</th>\n",
       "      <th>prepawn_other</th>\n",
       "      <th>...</th>\n",
       "      <th>returned_other</th>\n",
       "      <th>rentals_handgun</th>\n",
       "      <th>rentals_long_gun</th>\n",
       "      <th>private_sale_handgun</th>\n",
       "      <th>private_sale_long_gun</th>\n",
       "      <th>private_sale_other</th>\n",
       "      <th>return_to_seller_handgun</th>\n",
       "      <th>return_to_seller_long_gun</th>\n",
       "      <th>return_to_seller_other</th>\n",
       "      <th>totals</th>\n",
       "    </tr>\n",
       "  </thead>\n",
       "  <tbody>\n",
       "    <tr>\n",
       "      <th>count</th>\n",
       "      <td>14496.000000</td>\n",
       "      <td>3135.000000</td>\n",
       "      <td>14500.000000</td>\n",
       "      <td>14501.000000</td>\n",
       "      <td>7535.000000</td>\n",
       "      <td>14520.000000</td>\n",
       "      <td>14497.000000</td>\n",
       "      <td>12577.000000</td>\n",
       "      <td>12575.000000</td>\n",
       "      <td>7150.000000</td>\n",
       "      <td>...</td>\n",
       "      <td>3850.000000</td>\n",
       "      <td>3025.000000</td>\n",
       "      <td>2860.000000</td>\n",
       "      <td>4785.000000</td>\n",
       "      <td>4785.000000</td>\n",
       "      <td>4785.000000</td>\n",
       "      <td>4510.000000</td>\n",
       "      <td>4785.000000</td>\n",
       "      <td>4290.000000</td>\n",
       "      <td>14520.000000</td>\n",
       "    </tr>\n",
       "    <tr>\n",
       "      <th>mean</th>\n",
       "      <td>7177.052635</td>\n",
       "      <td>7008.777671</td>\n",
       "      <td>6853.199931</td>\n",
       "      <td>7889.451348</td>\n",
       "      <td>510.996417</td>\n",
       "      <td>293.465634</td>\n",
       "      <td>53.757881</td>\n",
       "      <td>5.146935</td>\n",
       "      <td>7.583459</td>\n",
       "      <td>0.346014</td>\n",
       "      <td>...</td>\n",
       "      <td>2.539481</td>\n",
       "      <td>0.149752</td>\n",
       "      <td>0.156993</td>\n",
       "      <td>24.767398</td>\n",
       "      <td>19.697388</td>\n",
       "      <td>2.829049</td>\n",
       "      <td>0.867406</td>\n",
       "      <td>0.859979</td>\n",
       "      <td>0.117249</td>\n",
       "      <td>24943.780579</td>\n",
       "    </tr>\n",
       "    <tr>\n",
       "      <th>std</th>\n",
       "      <td>26231.395416</td>\n",
       "      <td>45928.824682</td>\n",
       "      <td>10181.349199</td>\n",
       "      <td>9173.106386</td>\n",
       "      <td>1358.058518</td>\n",
       "      <td>778.200562</td>\n",
       "      <td>568.525076</td>\n",
       "      <td>11.367909</td>\n",
       "      <td>15.948442</td>\n",
       "      <td>1.329269</td>\n",
       "      <td>...</td>\n",
       "      <td>20.600661</td>\n",
       "      <td>1.012025</td>\n",
       "      <td>0.975121</td>\n",
       "      <td>90.455469</td>\n",
       "      <td>71.442281</td>\n",
       "      <td>12.019391</td>\n",
       "      <td>4.365298</td>\n",
       "      <td>3.746297</td>\n",
       "      <td>0.429725</td>\n",
       "      <td>42597.579337</td>\n",
       "    </tr>\n",
       "    <tr>\n",
       "      <th>min</th>\n",
       "      <td>0.000000</td>\n",
       "      <td>0.000000</td>\n",
       "      <td>0.000000</td>\n",
       "      <td>0.000000</td>\n",
       "      <td>0.000000</td>\n",
       "      <td>0.000000</td>\n",
       "      <td>0.000000</td>\n",
       "      <td>0.000000</td>\n",
       "      <td>0.000000</td>\n",
       "      <td>0.000000</td>\n",
       "      <td>...</td>\n",
       "      <td>0.000000</td>\n",
       "      <td>0.000000</td>\n",
       "      <td>0.000000</td>\n",
       "      <td>0.000000</td>\n",
       "      <td>0.000000</td>\n",
       "      <td>0.000000</td>\n",
       "      <td>0.000000</td>\n",
       "      <td>0.000000</td>\n",
       "      <td>0.000000</td>\n",
       "      <td>0.000000</td>\n",
       "    </tr>\n",
       "    <tr>\n",
       "      <th>25%</th>\n",
       "      <td>0.000000</td>\n",
       "      <td>0.000000</td>\n",
       "      <td>1016.000000</td>\n",
       "      <td>2154.000000</td>\n",
       "      <td>27.000000</td>\n",
       "      <td>14.000000</td>\n",
       "      <td>0.000000</td>\n",
       "      <td>0.000000</td>\n",
       "      <td>0.000000</td>\n",
       "      <td>0.000000</td>\n",
       "      <td>...</td>\n",
       "      <td>0.000000</td>\n",
       "      <td>0.000000</td>\n",
       "      <td>0.000000</td>\n",
       "      <td>0.000000</td>\n",
       "      <td>0.000000</td>\n",
       "      <td>0.000000</td>\n",
       "      <td>0.000000</td>\n",
       "      <td>0.000000</td>\n",
       "      <td>0.000000</td>\n",
       "      <td>4972.750000</td>\n",
       "    </tr>\n",
       "    <tr>\n",
       "      <th>50%</th>\n",
       "      <td>763.000000</td>\n",
       "      <td>0.000000</td>\n",
       "      <td>3445.000000</td>\n",
       "      <td>5213.000000</td>\n",
       "      <td>169.000000</td>\n",
       "      <td>133.000000</td>\n",
       "      <td>0.000000</td>\n",
       "      <td>0.000000</td>\n",
       "      <td>1.000000</td>\n",
       "      <td>0.000000</td>\n",
       "      <td>...</td>\n",
       "      <td>0.000000</td>\n",
       "      <td>0.000000</td>\n",
       "      <td>0.000000</td>\n",
       "      <td>0.000000</td>\n",
       "      <td>0.000000</td>\n",
       "      <td>0.000000</td>\n",
       "      <td>0.000000</td>\n",
       "      <td>0.000000</td>\n",
       "      <td>0.000000</td>\n",
       "      <td>13211.000000</td>\n",
       "    </tr>\n",
       "    <tr>\n",
       "      <th>75%</th>\n",
       "      <td>5346.000000</td>\n",
       "      <td>50.000000</td>\n",
       "      <td>8303.250000</td>\n",
       "      <td>10629.000000</td>\n",
       "      <td>518.000000</td>\n",
       "      <td>325.000000</td>\n",
       "      <td>0.000000</td>\n",
       "      <td>5.000000</td>\n",
       "      <td>8.000000</td>\n",
       "      <td>0.000000</td>\n",
       "      <td>...</td>\n",
       "      <td>1.000000</td>\n",
       "      <td>0.000000</td>\n",
       "      <td>0.000000</td>\n",
       "      <td>12.000000</td>\n",
       "      <td>13.000000</td>\n",
       "      <td>1.000000</td>\n",
       "      <td>0.000000</td>\n",
       "      <td>0.000000</td>\n",
       "      <td>0.000000</td>\n",
       "      <td>28397.500000</td>\n",
       "    </tr>\n",
       "    <tr>\n",
       "      <th>max</th>\n",
       "      <td>522188.000000</td>\n",
       "      <td>626794.000000</td>\n",
       "      <td>147714.000000</td>\n",
       "      <td>108058.000000</td>\n",
       "      <td>77929.000000</td>\n",
       "      <td>38907.000000</td>\n",
       "      <td>28083.000000</td>\n",
       "      <td>164.000000</td>\n",
       "      <td>269.000000</td>\n",
       "      <td>49.000000</td>\n",
       "      <td>...</td>\n",
       "      <td>592.000000</td>\n",
       "      <td>13.000000</td>\n",
       "      <td>12.000000</td>\n",
       "      <td>1299.000000</td>\n",
       "      <td>993.000000</td>\n",
       "      <td>232.000000</td>\n",
       "      <td>70.000000</td>\n",
       "      <td>62.000000</td>\n",
       "      <td>4.000000</td>\n",
       "      <td>714424.000000</td>\n",
       "    </tr>\n",
       "  </tbody>\n",
       "</table>\n",
       "<p>8 rows × 25 columns</p>\n",
       "</div>"
      ],
      "text/plain": [
       "              permit  permit_recheck        handgun       long_gun  \\\n",
       "count   14496.000000     3135.000000   14500.000000   14501.000000   \n",
       "mean     7177.052635     7008.777671    6853.199931    7889.451348   \n",
       "std     26231.395416    45928.824682   10181.349199    9173.106386   \n",
       "min         0.000000        0.000000       0.000000       0.000000   \n",
       "25%         0.000000        0.000000    1016.000000    2154.000000   \n",
       "50%       763.000000        0.000000    3445.000000    5213.000000   \n",
       "75%      5346.000000       50.000000    8303.250000   10629.000000   \n",
       "max    522188.000000   626794.000000  147714.000000  108058.000000   \n",
       "\n",
       "              other      multiple         admin  prepawn_handgun  \\\n",
       "count   7535.000000  14520.000000  14497.000000     12577.000000   \n",
       "mean     510.996417    293.465634     53.757881         5.146935   \n",
       "std     1358.058518    778.200562    568.525076        11.367909   \n",
       "min        0.000000      0.000000      0.000000         0.000000   \n",
       "25%       27.000000     14.000000      0.000000         0.000000   \n",
       "50%      169.000000    133.000000      0.000000         0.000000   \n",
       "75%      518.000000    325.000000      0.000000         5.000000   \n",
       "max    77929.000000  38907.000000  28083.000000       164.000000   \n",
       "\n",
       "       prepawn_long_gun  prepawn_other      ...        returned_other  \\\n",
       "count      12575.000000    7150.000000      ...           3850.000000   \n",
       "mean           7.583459       0.346014      ...              2.539481   \n",
       "std           15.948442       1.329269      ...             20.600661   \n",
       "min            0.000000       0.000000      ...              0.000000   \n",
       "25%            0.000000       0.000000      ...              0.000000   \n",
       "50%            1.000000       0.000000      ...              0.000000   \n",
       "75%            8.000000       0.000000      ...              1.000000   \n",
       "max          269.000000      49.000000      ...            592.000000   \n",
       "\n",
       "       rentals_handgun  rentals_long_gun  private_sale_handgun  \\\n",
       "count      3025.000000       2860.000000           4785.000000   \n",
       "mean          0.149752          0.156993             24.767398   \n",
       "std           1.012025          0.975121             90.455469   \n",
       "min           0.000000          0.000000              0.000000   \n",
       "25%           0.000000          0.000000              0.000000   \n",
       "50%           0.000000          0.000000              0.000000   \n",
       "75%           0.000000          0.000000             12.000000   \n",
       "max          13.000000         12.000000           1299.000000   \n",
       "\n",
       "       private_sale_long_gun  private_sale_other  return_to_seller_handgun  \\\n",
       "count            4785.000000         4785.000000               4510.000000   \n",
       "mean               19.697388            2.829049                  0.867406   \n",
       "std                71.442281           12.019391                  4.365298   \n",
       "min                 0.000000            0.000000                  0.000000   \n",
       "25%                 0.000000            0.000000                  0.000000   \n",
       "50%                 0.000000            0.000000                  0.000000   \n",
       "75%                13.000000            1.000000                  0.000000   \n",
       "max               993.000000          232.000000                 70.000000   \n",
       "\n",
       "       return_to_seller_long_gun  return_to_seller_other         totals  \n",
       "count                4785.000000             4290.000000   14520.000000  \n",
       "mean                    0.859979                0.117249   24943.780579  \n",
       "std                     3.746297                0.429725   42597.579337  \n",
       "min                     0.000000                0.000000       0.000000  \n",
       "25%                     0.000000                0.000000    4972.750000  \n",
       "50%                     0.000000                0.000000   13211.000000  \n",
       "75%                     0.000000                0.000000   28397.500000  \n",
       "max                    62.000000                4.000000  714424.000000  \n",
       "\n",
       "[8 rows x 25 columns]"
      ]
     },
     "execution_count": 87,
     "metadata": {},
     "output_type": "execute_result"
    }
   ],
   "source": [
    "df.describe()\n",
    "#Show the statistics of the file"
   ]
  },
  {
   "cell_type": "code",
   "execution_count": 88,
   "metadata": {},
   "outputs": [
    {
     "name": "stdout",
     "output_type": "stream",
     "text": [
      "<class 'pandas.core.frame.DataFrame'>\n",
      "RangeIndex: 14520 entries, 0 to 14519\n",
      "Data columns (total 27 columns):\n",
      "month                        14520 non-null object\n",
      "state                        14520 non-null object\n",
      "permit                       14496 non-null float64\n",
      "permit_recheck               3135 non-null float64\n",
      "handgun                      14500 non-null float64\n",
      "long_gun                     14501 non-null float64\n",
      "other                        7535 non-null float64\n",
      "multiple                     14520 non-null int64\n",
      "admin                        14497 non-null float64\n",
      "prepawn_handgun              12577 non-null float64\n",
      "prepawn_long_gun             12575 non-null float64\n",
      "prepawn_other                7150 non-null float64\n",
      "redemption_handgun           12580 non-null float64\n",
      "redemption_long_gun          12579 non-null float64\n",
      "redemption_other             7150 non-null float64\n",
      "returned_handgun             4235 non-null float64\n",
      "returned_long_gun            4180 non-null float64\n",
      "returned_other               3850 non-null float64\n",
      "rentals_handgun              3025 non-null float64\n",
      "rentals_long_gun             2860 non-null float64\n",
      "private_sale_handgun         4785 non-null float64\n",
      "private_sale_long_gun        4785 non-null float64\n",
      "private_sale_other           4785 non-null float64\n",
      "return_to_seller_handgun     4510 non-null float64\n",
      "return_to_seller_long_gun    4785 non-null float64\n",
      "return_to_seller_other       4290 non-null float64\n",
      "totals                       14520 non-null int64\n",
      "dtypes: float64(23), int64(2), object(2)\n",
      "memory usage: 3.0+ MB\n"
     ]
    }
   ],
   "source": [
    "df.info()\n",
    "#elobrate the table information: cloumn title, number of values, data type"
   ]
  },
  {
   "cell_type": "code",
   "execution_count": 89,
   "metadata": {},
   "outputs": [],
   "source": [
    "df.drop(['prepawn_handgun','prepawn_long_gun','prepawn_other','redemption_handgun','redemption_long_gun','redemption_other','returned_handgun','returned_long_gun','returned_other','rentals_handgun','rentals_long_gun','private_sale_handgun','private_sale_long_gun','private_sale_other','return_to_seller_handgun','return_to_seller_long_gun','return_to_seller_other'], axis=1, inplace=True)\n",
    "# I have removed all the next unuseful clomns using the next method\n"
   ]
  },
  {
   "cell_type": "markdown",
   "metadata": {},
   "source": [
    "> **Tip**: You should _not_ perform too many operations in each cell. Create cells freely to explore your data. One option that you can take with this project is to do a lot of explorations in an initial notebook. These don't have to be organized, but make sure you use enough comments to understand the purpose of each code cell. Then, after you're done with your analysis, create a duplicate notebook where you will trim the excess and organize your steps so that you have a flowing, cohesive report.\n",
    "\n",
    "> **Tip**: Make sure that you keep your reader informed on the steps that you are taking in your investigation. Follow every code cell, or every set of related code cells, with a markdown cell to describe to the reader what was found in the preceding cell(s). Try to make it so that the reader can then understand what they will be seeing in the following cell(s).\n",
    "\n",
    "### Data Cleaning (Replace this with more specific notes!)"
   ]
  },
  {
   "cell_type": "code",
   "execution_count": 90,
   "metadata": {},
   "outputs": [
    {
     "data": {
      "text/html": [
       "<div>\n",
       "<style scoped>\n",
       "    .dataframe tbody tr th:only-of-type {\n",
       "        vertical-align: middle;\n",
       "    }\n",
       "\n",
       "    .dataframe tbody tr th {\n",
       "        vertical-align: top;\n",
       "    }\n",
       "\n",
       "    .dataframe thead th {\n",
       "        text-align: right;\n",
       "    }\n",
       "</style>\n",
       "<table border=\"1\" class=\"dataframe\">\n",
       "  <thead>\n",
       "    <tr style=\"text-align: right;\">\n",
       "      <th></th>\n",
       "      <th>month</th>\n",
       "      <th>state</th>\n",
       "      <th>permit</th>\n",
       "      <th>permit_recheck</th>\n",
       "      <th>handgun</th>\n",
       "      <th>long_gun</th>\n",
       "      <th>other</th>\n",
       "      <th>multiple</th>\n",
       "      <th>admin</th>\n",
       "      <th>totals</th>\n",
       "    </tr>\n",
       "  </thead>\n",
       "  <tbody>\n",
       "    <tr>\n",
       "      <th>0</th>\n",
       "      <td>2020-10</td>\n",
       "      <td>Alabama</td>\n",
       "      <td>32038.0</td>\n",
       "      <td>585.0</td>\n",
       "      <td>24084.0</td>\n",
       "      <td>17964.0</td>\n",
       "      <td>1698.0</td>\n",
       "      <td>1104</td>\n",
       "      <td>0.0</td>\n",
       "      <td>80934</td>\n",
       "    </tr>\n",
       "    <tr>\n",
       "      <th>1</th>\n",
       "      <td>2020-10</td>\n",
       "      <td>Alaska</td>\n",
       "      <td>264.0</td>\n",
       "      <td>1.0</td>\n",
       "      <td>3209.0</td>\n",
       "      <td>3210.0</td>\n",
       "      <td>348.0</td>\n",
       "      <td>188</td>\n",
       "      <td>0.0</td>\n",
       "      <td>7564</td>\n",
       "    </tr>\n",
       "    <tr>\n",
       "      <th>2</th>\n",
       "      <td>2020-10</td>\n",
       "      <td>Arizona</td>\n",
       "      <td>8991.0</td>\n",
       "      <td>1015.0</td>\n",
       "      <td>24964.0</td>\n",
       "      <td>12288.0</td>\n",
       "      <td>1951.0</td>\n",
       "      <td>1762</td>\n",
       "      <td>0.0</td>\n",
       "      <td>52521</td>\n",
       "    </tr>\n",
       "    <tr>\n",
       "      <th>3</th>\n",
       "      <td>2020-10</td>\n",
       "      <td>Arkansas</td>\n",
       "      <td>5108.0</td>\n",
       "      <td>549.0</td>\n",
       "      <td>8931.0</td>\n",
       "      <td>9386.0</td>\n",
       "      <td>567.0</td>\n",
       "      <td>421</td>\n",
       "      <td>8.0</td>\n",
       "      <td>27177</td>\n",
       "    </tr>\n",
       "    <tr>\n",
       "      <th>4</th>\n",
       "      <td>2020-10</td>\n",
       "      <td>California</td>\n",
       "      <td>36719.0</td>\n",
       "      <td>0.0</td>\n",
       "      <td>65376.0</td>\n",
       "      <td>40286.0</td>\n",
       "      <td>8319.0</td>\n",
       "      <td>0</td>\n",
       "      <td>0.0</td>\n",
       "      <td>151359</td>\n",
       "    </tr>\n",
       "  </tbody>\n",
       "</table>\n",
       "</div>"
      ],
      "text/plain": [
       "     month       state   permit  permit_recheck  handgun  long_gun   other  \\\n",
       "0  2020-10     Alabama  32038.0           585.0  24084.0   17964.0  1698.0   \n",
       "1  2020-10      Alaska    264.0             1.0   3209.0    3210.0   348.0   \n",
       "2  2020-10     Arizona   8991.0          1015.0  24964.0   12288.0  1951.0   \n",
       "3  2020-10    Arkansas   5108.0           549.0   8931.0    9386.0   567.0   \n",
       "4  2020-10  California  36719.0             0.0  65376.0   40286.0  8319.0   \n",
       "\n",
       "   multiple  admin  totals  \n",
       "0      1104    0.0   80934  \n",
       "1       188    0.0    7564  \n",
       "2      1762    0.0   52521  \n",
       "3       421    8.0   27177  \n",
       "4         0    0.0  151359  "
      ]
     },
     "execution_count": 90,
     "metadata": {},
     "output_type": "execute_result"
    }
   ],
   "source": [
    "\n",
    "df.head()\n",
    "#show the header again"
   ]
  },
  {
   "cell_type": "code",
   "execution_count": 91,
   "metadata": {},
   "outputs": [
    {
     "name": "stdout",
     "output_type": "stream",
     "text": [
      "<class 'pandas.core.frame.DataFrame'>\n",
      "RangeIndex: 14520 entries, 0 to 14519\n",
      "Data columns (total 10 columns):\n",
      "month             14520 non-null object\n",
      "state             14520 non-null object\n",
      "permit            14496 non-null float64\n",
      "permit_recheck    3135 non-null float64\n",
      "handgun           14500 non-null float64\n",
      "long_gun          14501 non-null float64\n",
      "other             7535 non-null float64\n",
      "multiple          14520 non-null int64\n",
      "admin             14497 non-null float64\n",
      "totals            14520 non-null int64\n",
      "dtypes: float64(6), int64(2), object(2)\n",
      "memory usage: 1.1+ MB\n"
     ]
    }
   ],
   "source": [
    "df.info()\n",
    "#Show the table info"
   ]
  },
  {
   "cell_type": "code",
   "execution_count": 92,
   "metadata": {},
   "outputs": [
    {
     "data": {
      "text/plain": [
       "array([[<matplotlib.axes._subplots.AxesSubplot object at 0x7f4c2fca14a8>,\n",
       "        <matplotlib.axes._subplots.AxesSubplot object at 0x7f4c2fd67c18>,\n",
       "        <matplotlib.axes._subplots.AxesSubplot object at 0x7f4c2fdc29e8>],\n",
       "       [<matplotlib.axes._subplots.AxesSubplot object at 0x7f4c2fe83f28>,\n",
       "        <matplotlib.axes._subplots.AxesSubplot object at 0x7f4c2ff20b38>,\n",
       "        <matplotlib.axes._subplots.AxesSubplot object at 0x7f4c2fee9630>],\n",
       "       [<matplotlib.axes._subplots.AxesSubplot object at 0x7f4c300be7b8>,\n",
       "        <matplotlib.axes._subplots.AxesSubplot object at 0x7f4c30111f60>,\n",
       "        <matplotlib.axes._subplots.AxesSubplot object at 0x7f4c301ef898>]], dtype=object)"
      ]
     },
     "execution_count": 92,
     "metadata": {},
     "output_type": "execute_result"
    },
    {
     "data": {
      "image/png": "[encoded data removed]",
      "text/plain": [
       "<matplotlib.figure.Figure at 0x7f4c2fc87dd8>"
      ]
     },
     "metadata": {
      "needs_background": "light"
     },
     "output_type": "display_data"
    }
   ],
   "source": [
    "df.hist(figsize=(10, 8))\n",
    "#show the the histegram with figure size 10,8 for the colmplete table"
   ]
  },
  {
   "cell_type": "code",
   "execution_count": 93,
   "metadata": {},
   "outputs": [
    {
     "data": {
      "text/plain": [
       "array([[<matplotlib.axes._subplots.AxesSubplot object at 0x7f4c306b5978>,\n",
       "        <matplotlib.axes._subplots.AxesSubplot object at 0x7f4c3073b748>,\n",
       "        <matplotlib.axes._subplots.AxesSubplot object at 0x7f4c3078fdd8>],\n",
       "       [<matplotlib.axes._subplots.AxesSubplot object at 0x7f4c30869898>,\n",
       "        <matplotlib.axes._subplots.AxesSubplot object at 0x7f4c308c2dd8>,\n",
       "        <matplotlib.axes._subplots.AxesSubplot object at 0x7f4c308c2cc0>],\n",
       "       [<matplotlib.axes._subplots.AxesSubplot object at 0x7f4c30a11dd8>,\n",
       "        <matplotlib.axes._subplots.AxesSubplot object at 0x7f4c30aeadd8>,\n",
       "        <matplotlib.axes._subplots.AxesSubplot object at 0x7f4c30b44c88>]], dtype=object)"
      ]
     },
     "execution_count": 93,
     "metadata": {},
     "output_type": "execute_result"
    },
    {
     "data": {
      "image/png": "[encoded data removed]",
      "text/plain": [
       "<matplotlib.figure.Figure at 0x7f4c306836d8>"
      ]
     },
     "metadata": {
      "needs_background": "light"
     },
     "output_type": "display_data"
    }
   ],
   "source": [
    "df[df.permit_recheck.isnull()].hist(figsize=(10, 8))\n",
    "#show the the histegram with figure size 10,8 for each (permit_recheck = null) values only"
   ]
  },
  {
   "cell_type": "code",
   "execution_count": 94,
   "metadata": {},
   "outputs": [],
   "source": [
    "df.fillna(df.mean(), inplace=True)\n",
    "#fill all null values with mean"
   ]
  },
  {
   "cell_type": "code",
   "execution_count": 95,
   "metadata": {},
   "outputs": [
    {
     "name": "stdout",
     "output_type": "stream",
     "text": [
      "<class 'pandas.core.frame.DataFrame'>\n",
      "RangeIndex: 14520 entries, 0 to 14519\n",
      "Data columns (total 10 columns):\n",
      "month             14520 non-null object\n",
      "state             14520 non-null object\n",
      "permit            14520 non-null float64\n",
      "permit_recheck    14520 non-null float64\n",
      "handgun           14520 non-null float64\n",
      "long_gun          14520 non-null float64\n",
      "other             14520 non-null float64\n",
      "multiple          14520 non-null int64\n",
      "admin             14520 non-null float64\n",
      "totals            14520 non-null int64\n",
      "dtypes: float64(6), int64(2), object(2)\n",
      "memory usage: 1.1+ MB\n"
     ]
    }
   ],
   "source": [
    "df.info()\n",
    "#show the table info"
   ]
  },
  {
   "cell_type": "markdown",
   "metadata": {},
   "source": [
    "<a id='eda'></a>\n",
    "## Exploratory Data Analysis\n",
    "\n",
    "### Research Question 1 (- Which city has higher number of permits:alaska or new york?)"
   ]
  },
  {
   "cell_type": "code",
   "execution_count": 96,
   "metadata": {},
   "outputs": [],
   "source": [
    "\n",
    "alaska = df.state == 'Alaska'\n",
    "newyork = df.state == 'NewYork'"
   ]
  },
  {
   "cell_type": "code",
   "execution_count": 97,
   "metadata": {},
   "outputs": [
    {
     "data": {
      "text/plain": [
       "<matplotlib.legend.Legend at 0x7f4c30fd15f8>"
      ]
     },
     "execution_count": 97,
     "metadata": {},
     "output_type": "execute_result"
    },
    {
     "data": {
      "image/png": "[encoded data removed]",
      "text/plain": [
       "<matplotlib.figure.Figure at 0x7f4c30bebdd8>"
      ]
     },
     "metadata": {
      "needs_background": "light"
     },
     "output_type": "display_data"
    }
   ],
   "source": [
    "df.permit[alaska].hist(alpha=0.5, bins=20, label='Alaska')\n",
    "df.permit[newyork].hist(alpha=0.5, bins=20, label='NewYork')\n",
    "\n",
    "plt.legend()\n",
    "#Plot shows permits numbers in each state"
   ]
  },
  {
   "cell_type": "markdown",
   "metadata": {},
   "source": [
    "### Research Question 2  ( Which mounth has a higher number of permits: septemper or october?)"
   ]
  },
  {
   "cell_type": "code",
   "execution_count": 98,
   "metadata": {},
   "outputs": [],
   "source": [
    "\n",
    "month1 = df.month == '2020-10'\n",
    "month2 = df.month == '2020-9'"
   ]
  },
  {
   "cell_type": "code",
   "execution_count": 99,
   "metadata": {},
   "outputs": [
    {
     "data": {
      "text/plain": [
       "<matplotlib.legend.Legend at 0x7f4c30f0def0>"
      ]
     },
     "execution_count": 99,
     "metadata": {},
     "output_type": "execute_result"
    },
    {
     "data": {
      "image/png": "[encoded data removed]",
      "text/plain": [
       "<matplotlib.figure.Figure at 0x7f4c31019438>"
      ]
     },
     "metadata": {
      "needs_background": "light"
     },
     "output_type": "display_data"
    }
   ],
   "source": [
    "df.permit[month1].hist(alpha=0.5, bins=20, label='October')\n",
    "df.permit[month2].hist(alpha=0.5, bins=20, label='September')\n",
    "plt.legend()\n",
    "#Plot shows permits numbers in each mounth"
   ]
  },
  {
   "cell_type": "code",
   "execution_count": 100,
   "metadata": {},
   "outputs": [],
   "source": [
    "### Research Question 3  (Which state has higher permits mean?)"
   ]
  },
  {
   "cell_type": "code",
   "execution_count": 101,
   "metadata": {},
   "outputs": [
    {
     "data": {
      "text/plain": [
       "<matplotlib.axes._subplots.AxesSubplot at 0x7f4c4f426e48>"
      ]
     },
     "execution_count": 101,
     "metadata": {},
     "output_type": "execute_result"
    },
    {
     "data": {
      "image/png": "[encoded data removed]",
      "text/plain": [
       "<matplotlib.figure.Figure at 0x7f4c243d9588>"
      ]
     },
     "metadata": {
      "needs_background": "light"
     },
     "output_type": "display_data"
    }
   ],
   "source": [
    "df.groupby(['state']).permit.mean().plot(kind='bar')\n",
    "\n",
    "#first group the table based on states then plot the mean of permits for each state\n",
    "#kentucky is the state with highest mean"
   ]
  },
  {
   "cell_type": "markdown",
   "metadata": {},
   "source": [
    "<a id='conclusions'></a>\n",
    "## Conclusions\n",
    "\n",
    "- DB data provided is very helping to campare btw the next varibles: state, month, permits, gun type\n",
    "\n",
    "- The size of DB is little bit big which make it convenient for making goof judgment\n",
    "\n",
    "- I was hard to plot alot of data in one chart, using groupby method was very helpfull\n",
    "\n",
    "- the state with higher permits mean is kentucky\n",
    "\n",
    "- Guns permition skewed left with mean 7177\n",
    "\n",
    "- Highest guns regestration in one month was 714424\n",
    "\n",
    "- People generaly are using hand_gun more than long_gun\n",
    "\n"
   ]
  },
  {
   "cell_type": "code",
   "execution_count": 102,
   "metadata": {},
   "outputs": [
    {
     "data": {
      "text/plain": [
       "0"
      ]
     },
     "execution_count": 102,
     "metadata": {},
     "output_type": "execute_result"
    }
   ],
   "source": [
    "from subprocess import call\n",
    "call(['python', '-m', 'nbconvert', 'Investigate_a_Dataset.ipynb'])"
   ]
  }
 ],
 "metadata": {
  "kernelspec": {
   "display_name": "Python 3",
   "language": "python",
   "name": "python3"
  },
  "language_info": {
   "codemirror_mode": {
    "name": "ipython",
    "version": 3
   },
   "file_extension": ".py",
   "mimetype": "text/x-python",
   "name": "python",
   "nbconvert_exporter": "python",
   "pygments_lexer": "ipython3",
   "version": "3.6.3"
  }
 },
 "nbformat": 4,
 "nbformat_minor": 2
}
