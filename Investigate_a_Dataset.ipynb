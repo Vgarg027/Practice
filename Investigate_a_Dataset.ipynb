{
 "cells": [
  {
   "cell_type": "markdown",
   "metadata": {},
   "source": [
    "> **Tip**: Welcome to the Investigate a Dataset project! You will find tips in quoted sections like this to help organize your approach to your investigation. Once you complete this project, remove these **Tip** sections from your report before submission. First things first, you might want to double-click this Markdown cell and change the title so that it reflects your dataset and investigation.\n",
    "\n",
    "# Project: Investigate a Dataset - TMDb movie data\n",
    "\n",
    "## Table of Contents\n",
    "<ul>\n",
    "<li><a href=\"#intro\">1-Introduction</a></li>\n",
    "<li><a href=\"#wrangling\">2-Data Wrangling</a></li>\n",
    "<li><a href=\"#eda\">3-Exploratory Data Analysis</a></li>\n",
    "<li><a href=\"#conclusions\">4-Conclusions</a></li>\n",
    "</ul>"
   ]
  },
  {
   "cell_type": "markdown",
   "metadata": {},
   "source": [
    "<a id='intro'></a>\n",
    "## 1-Introduction\n",
    "\n",
    "> ### Dataset Description \n",
    "\n",
    "> The data set contains information about 10,000 movies collected from The Movie Database (TMDb), including user ratings and revenue.\n",
    ">Data set is downloaded from : https://www.google.com/url?q=https%3A%2F%2Fd17h27t6h515a5.cloudfront.net%2Ftopher%2F2017%2FOctober%2F59dd1c4c_tmdb-movies%2Ftmdb-movies.csv&sa=D&source=docs <br>\n",
    "The data set is uploaded to same directory of the notebood \n",
    "\n",
    "> <b>Important Data Fields:\n",
    "> <p>imdb_id: movie ID<br>\n",
    "> popularity: movie popularity<br>    \n",
    "> budget: movie budget <br> \n",
    "> revenue : revenu <br>\n",
    "> original_title : title<br> \n",
    "> cast : movie cast<br> \n",
    "> director: movie director<br> \n",
    "> release_year: release year  <br>   \n",
    "\n",
    "### Question(s) for Analysis\n",
    "> Is voting declining over the years?<br>\n",
    "> Is there a relation between movie popularity and revenues?<br>\n",
    "> Is crowd not interested in western movies compared to drama? What is the trend?<br>\n",
    "> What is the trend of film production over time?<br>"
   ]
  },
  {
   "cell_type": "code",
   "execution_count": 1,
   "metadata": {},
   "outputs": [],
   "source": [
    "# Use this cell to set up import statements for all of the packages that you\n",
    "#   plan to use.\n",
    "\n",
    "# Remember to include a 'magic word' so that your visualizations are plotted\n",
    "#   inline with the notebook. See this page for more:\n",
    "#   http://ipython.readthedocs.io/en/stable/interactive/magics.html\n",
    "import numpy as np\n",
    "import pandas as pd\n",
    "import matplotlib.pyplot as plt\n",
    "import seaborn as sns\n",
    "% matplotlib inline"
   ]
  },
  {
   "cell_type": "code",
   "execution_count": 2,
   "metadata": {},
   "outputs": [
    {
     "name": "stdout",
     "output_type": "stream",
     "text": [
      "Requirement already up-to-date: pandas==0.25.0 in /opt/conda/lib/python3.6/site-packages (0.25.0)\n",
      "Requirement already satisfied, skipping upgrade: python-dateutil>=2.6.1 in /opt/conda/lib/python3.6/site-packages (from pandas==0.25.0) (2.6.1)\n",
      "Requirement already satisfied, skipping upgrade: numpy>=1.13.3 in /opt/conda/lib/python3.6/site-packages (from pandas==0.25.0) (1.19.5)\n",
      "Requirement already satisfied, skipping upgrade: pytz>=2017.2 in /opt/conda/lib/python3.6/site-packages (from pandas==0.25.0) (2017.3)\n",
      "Requirement already satisfied, skipping upgrade: six>=1.5 in /opt/conda/lib/python3.6/site-packages (from python-dateutil>=2.6.1->pandas==0.25.0) (1.11.0)\n"
     ]
    }
   ],
   "source": [
    "# Upgrade pandas to use dataframe.explode() function. \n",
    "!pip install --upgrade pandas==0.25.0\n"
   ]
  },
  {
   "cell_type": "markdown",
   "metadata": {},
   "source": [
    "<a id='wrangling'></a>\n",
    "## 2- Data Wrangling"
   ]
  },
  {
   "cell_type": "markdown",
   "metadata": {},
   "source": [
    "## 2-1 Read Data Frame"
   ]
  },
  {
   "cell_type": "code",
   "execution_count": 3,
   "metadata": {
    "scrolled": true
   },
   "outputs": [
    {
     "data": {
      "text/html": [
       "<div>\n",
       "<style scoped>\n",
       "    .dataframe tbody tr th:only-of-type {\n",
       "        vertical-align: middle;\n",
       "    }\n",
       "\n",
       "    .dataframe tbody tr th {\n",
       "        vertical-align: top;\n",
       "    }\n",
       "\n",
       "    .dataframe thead th {\n",
       "        text-align: right;\n",
       "    }\n",
       "</style>\n",
       "<table border=\"1\" class=\"dataframe\">\n",
       "  <thead>\n",
       "    <tr style=\"text-align: right;\">\n",
       "      <th></th>\n",
       "      <th>id</th>\n",
       "      <th>imdb_id</th>\n",
       "      <th>popularity</th>\n",
       "      <th>budget</th>\n",
       "      <th>revenue</th>\n",
       "      <th>original_title</th>\n",
       "      <th>cast</th>\n",
       "      <th>homepage</th>\n",
       "      <th>director</th>\n",
       "      <th>tagline</th>\n",
       "      <th>...</th>\n",
       "      <th>overview</th>\n",
       "      <th>runtime</th>\n",
       "      <th>genres</th>\n",
       "      <th>production_companies</th>\n",
       "      <th>release_date</th>\n",
       "      <th>vote_count</th>\n",
       "      <th>vote_average</th>\n",
       "      <th>release_year</th>\n",
       "      <th>budget_adj</th>\n",
       "      <th>revenue_adj</th>\n",
       "    </tr>\n",
       "  </thead>\n",
       "  <tbody>\n",
       "    <tr>\n",
       "      <th>0</th>\n",
       "      <td>135397</td>\n",
       "      <td>tt0369610</td>\n",
       "      <td>32.985763</td>\n",
       "      <td>150000000</td>\n",
       "      <td>1513528810</td>\n",
       "      <td>Jurassic World</td>\n",
       "      <td>Chris Pratt|Bryce Dallas Howard|Irrfan Khan|Vi...</td>\n",
       "      <td>http://www.jurassicworld.com/</td>\n",
       "      <td>Colin Trevorrow</td>\n",
       "      <td>The park is open.</td>\n",
       "      <td>...</td>\n",
       "      <td>Twenty-two years after the events of Jurassic ...</td>\n",
       "      <td>124</td>\n",
       "      <td>Action|Adventure|Science Fiction|Thriller</td>\n",
       "      <td>Universal Studios|Amblin Entertainment|Legenda...</td>\n",
       "      <td>6/9/15</td>\n",
       "      <td>5562</td>\n",
       "      <td>6.5</td>\n",
       "      <td>2015</td>\n",
       "      <td>1.379999e+08</td>\n",
       "      <td>1.392446e+09</td>\n",
       "    </tr>\n",
       "    <tr>\n",
       "      <th>1</th>\n",
       "      <td>76341</td>\n",
       "      <td>tt1392190</td>\n",
       "      <td>28.419936</td>\n",
       "      <td>150000000</td>\n",
       "      <td>378436354</td>\n",
       "      <td>Mad Max: Fury Road</td>\n",
       "      <td>Tom Hardy|Charlize Theron|Hugh Keays-Byrne|Nic...</td>\n",
       "      <td>http://www.madmaxmovie.com/</td>\n",
       "      <td>George Miller</td>\n",
       "      <td>What a Lovely Day.</td>\n",
       "      <td>...</td>\n",
       "      <td>An apocalyptic story set in the furthest reach...</td>\n",
       "      <td>120</td>\n",
       "      <td>Action|Adventure|Science Fiction|Thriller</td>\n",
       "      <td>Village Roadshow Pictures|Kennedy Miller Produ...</td>\n",
       "      <td>5/13/15</td>\n",
       "      <td>6185</td>\n",
       "      <td>7.1</td>\n",
       "      <td>2015</td>\n",
       "      <td>1.379999e+08</td>\n",
       "      <td>3.481613e+08</td>\n",
       "    </tr>\n",
       "    <tr>\n",
       "      <th>2</th>\n",
       "      <td>262500</td>\n",
       "      <td>tt2908446</td>\n",
       "      <td>13.112507</td>\n",
       "      <td>110000000</td>\n",
       "      <td>295238201</td>\n",
       "      <td>Insurgent</td>\n",
       "      <td>Shailene Woodley|Theo James|Kate Winslet|Ansel...</td>\n",
       "      <td>http://www.thedivergentseries.movie/#insurgent</td>\n",
       "      <td>Robert Schwentke</td>\n",
       "      <td>One Choice Can Destroy You</td>\n",
       "      <td>...</td>\n",
       "      <td>Beatrice Prior must confront her inner demons ...</td>\n",
       "      <td>119</td>\n",
       "      <td>Adventure|Science Fiction|Thriller</td>\n",
       "      <td>Summit Entertainment|Mandeville Films|Red Wago...</td>\n",
       "      <td>3/18/15</td>\n",
       "      <td>2480</td>\n",
       "      <td>6.3</td>\n",
       "      <td>2015</td>\n",
       "      <td>1.012000e+08</td>\n",
       "      <td>2.716190e+08</td>\n",
       "    </tr>\n",
       "    <tr>\n",
       "      <th>3</th>\n",
       "      <td>140607</td>\n",
       "      <td>tt2488496</td>\n",
       "      <td>11.173104</td>\n",
       "      <td>200000000</td>\n",
       "      <td>2068178225</td>\n",
       "      <td>Star Wars: The Force Awakens</td>\n",
       "      <td>Harrison Ford|Mark Hamill|Carrie Fisher|Adam D...</td>\n",
       "      <td>http://www.starwars.com/films/star-wars-episod...</td>\n",
       "      <td>J.J. Abrams</td>\n",
       "      <td>Every generation has a story.</td>\n",
       "      <td>...</td>\n",
       "      <td>Thirty years after defeating the Galactic Empi...</td>\n",
       "      <td>136</td>\n",
       "      <td>Action|Adventure|Science Fiction|Fantasy</td>\n",
       "      <td>Lucasfilm|Truenorth Productions|Bad Robot</td>\n",
       "      <td>12/15/15</td>\n",
       "      <td>5292</td>\n",
       "      <td>7.5</td>\n",
       "      <td>2015</td>\n",
       "      <td>1.839999e+08</td>\n",
       "      <td>1.902723e+09</td>\n",
       "    </tr>\n",
       "    <tr>\n",
       "      <th>4</th>\n",
       "      <td>168259</td>\n",
       "      <td>tt2820852</td>\n",
       "      <td>9.335014</td>\n",
       "      <td>190000000</td>\n",
       "      <td>1506249360</td>\n",
       "      <td>Furious 7</td>\n",
       "      <td>Vin Diesel|Paul Walker|Jason Statham|Michelle ...</td>\n",
       "      <td>http://www.furious7.com/</td>\n",
       "      <td>James Wan</td>\n",
       "      <td>Vengeance Hits Home</td>\n",
       "      <td>...</td>\n",
       "      <td>Deckard Shaw seeks revenge against Dominic Tor...</td>\n",
       "      <td>137</td>\n",
       "      <td>Action|Crime|Thriller</td>\n",
       "      <td>Universal Pictures|Original Film|Media Rights ...</td>\n",
       "      <td>4/1/15</td>\n",
       "      <td>2947</td>\n",
       "      <td>7.3</td>\n",
       "      <td>2015</td>\n",
       "      <td>1.747999e+08</td>\n",
       "      <td>1.385749e+09</td>\n",
       "    </tr>\n",
       "  </tbody>\n",
       "</table>\n",
       "<p>5 rows × 21 columns</p>\n",
       "</div>"
      ],
      "text/plain": [
       "       id    imdb_id  popularity     budget     revenue  \\\n",
       "0  135397  tt0369610   32.985763  150000000  1513528810   \n",
       "1   76341  tt1392190   28.419936  150000000   378436354   \n",
       "2  262500  tt2908446   13.112507  110000000   295238201   \n",
       "3  140607  tt2488496   11.173104  200000000  2068178225   \n",
       "4  168259  tt2820852    9.335014  190000000  1506249360   \n",
       "\n",
       "                 original_title  \\\n",
       "0                Jurassic World   \n",
       "1            Mad Max: Fury Road   \n",
       "2                     Insurgent   \n",
       "3  Star Wars: The Force Awakens   \n",
       "4                     Furious 7   \n",
       "\n",
       "                                                cast  \\\n",
       "0  Chris Pratt|Bryce Dallas Howard|Irrfan Khan|Vi...   \n",
       "1  Tom Hardy|Charlize Theron|Hugh Keays-Byrne|Nic...   \n",
       "2  Shailene Woodley|Theo James|Kate Winslet|Ansel...   \n",
       "3  Harrison Ford|Mark Hamill|Carrie Fisher|Adam D...   \n",
       "4  Vin Diesel|Paul Walker|Jason Statham|Michelle ...   \n",
       "\n",
       "                                            homepage          director  \\\n",
       "0                      http://www.jurassicworld.com/   Colin Trevorrow   \n",
       "1                        http://www.madmaxmovie.com/     George Miller   \n",
       "2     http://www.thedivergentseries.movie/#insurgent  Robert Schwentke   \n",
       "3  http://www.starwars.com/films/star-wars-episod...       J.J. Abrams   \n",
       "4                           http://www.furious7.com/         James Wan   \n",
       "\n",
       "                         tagline  ...  \\\n",
       "0              The park is open.  ...   \n",
       "1             What a Lovely Day.  ...   \n",
       "2     One Choice Can Destroy You  ...   \n",
       "3  Every generation has a story.  ...   \n",
       "4            Vengeance Hits Home  ...   \n",
       "\n",
       "                                            overview runtime  \\\n",
       "0  Twenty-two years after the events of Jurassic ...     124   \n",
       "1  An apocalyptic story set in the furthest reach...     120   \n",
       "2  Beatrice Prior must confront her inner demons ...     119   \n",
       "3  Thirty years after defeating the Galactic Empi...     136   \n",
       "4  Deckard Shaw seeks revenge against Dominic Tor...     137   \n",
       "\n",
       "                                      genres  \\\n",
       "0  Action|Adventure|Science Fiction|Thriller   \n",
       "1  Action|Adventure|Science Fiction|Thriller   \n",
       "2         Adventure|Science Fiction|Thriller   \n",
       "3   Action|Adventure|Science Fiction|Fantasy   \n",
       "4                      Action|Crime|Thriller   \n",
       "\n",
       "                                production_companies release_date vote_count  \\\n",
       "0  Universal Studios|Amblin Entertainment|Legenda...       6/9/15       5562   \n",
       "1  Village Roadshow Pictures|Kennedy Miller Produ...      5/13/15       6185   \n",
       "2  Summit Entertainment|Mandeville Films|Red Wago...      3/18/15       2480   \n",
       "3          Lucasfilm|Truenorth Productions|Bad Robot     12/15/15       5292   \n",
       "4  Universal Pictures|Original Film|Media Rights ...       4/1/15       2947   \n",
       "\n",
       "   vote_average  release_year    budget_adj   revenue_adj  \n",
       "0           6.5          2015  1.379999e+08  1.392446e+09  \n",
       "1           7.1          2015  1.379999e+08  3.481613e+08  \n",
       "2           6.3          2015  1.012000e+08  2.716190e+08  \n",
       "3           7.5          2015  1.839999e+08  1.902723e+09  \n",
       "4           7.3          2015  1.747999e+08  1.385749e+09  \n",
       "\n",
       "[5 rows x 21 columns]"
      ]
     },
     "execution_count": 3,
     "metadata": {},
     "output_type": "execute_result"
    }
   ],
   "source": [
    "# Load your data and print out a few lines. Perform operations to inspect data\n",
    "#   types and look for instances of missing or possibly errant data.\n",
    "df = pd.read_csv('tmdb-movies.csv')\n",
    "df.head(5)"
   ]
  },
  {
   "cell_type": "code",
   "execution_count": 4,
   "metadata": {},
   "outputs": [
    {
     "data": {
      "text/html": [
       "<div>\n",
       "<style scoped>\n",
       "    .dataframe tbody tr th:only-of-type {\n",
       "        vertical-align: middle;\n",
       "    }\n",
       "\n",
       "    .dataframe tbody tr th {\n",
       "        vertical-align: top;\n",
       "    }\n",
       "\n",
       "    .dataframe thead th {\n",
       "        text-align: right;\n",
       "    }\n",
       "</style>\n",
       "<table border=\"1\" class=\"dataframe\">\n",
       "  <thead>\n",
       "    <tr style=\"text-align: right;\">\n",
       "      <th></th>\n",
       "      <th>director_1</th>\n",
       "      <th>director_2</th>\n",
       "      <th>director_3</th>\n",
       "      <th>director_4</th>\n",
       "      <th>director_5</th>\n",
       "      <th>director_6</th>\n",
       "      <th>director_7</th>\n",
       "      <th>director_8</th>\n",
       "      <th>director_9</th>\n",
       "      <th>director_10</th>\n",
       "      <th>...</th>\n",
       "      <th>director_27</th>\n",
       "      <th>director_28</th>\n",
       "      <th>director_29</th>\n",
       "      <th>director_30</th>\n",
       "      <th>director_31</th>\n",
       "      <th>director_32</th>\n",
       "      <th>director_33</th>\n",
       "      <th>director_34</th>\n",
       "      <th>director_35</th>\n",
       "      <th>director_36</th>\n",
       "    </tr>\n",
       "  </thead>\n",
       "  <tbody>\n",
       "    <tr>\n",
       "      <th>0</th>\n",
       "      <td>Colin Trevorrow</td>\n",
       "      <td>None</td>\n",
       "      <td>None</td>\n",
       "      <td>None</td>\n",
       "      <td>None</td>\n",
       "      <td>None</td>\n",
       "      <td>None</td>\n",
       "      <td>None</td>\n",
       "      <td>None</td>\n",
       "      <td>None</td>\n",
       "      <td>...</td>\n",
       "      <td>None</td>\n",
       "      <td>None</td>\n",
       "      <td>None</td>\n",
       "      <td>None</td>\n",
       "      <td>None</td>\n",
       "      <td>None</td>\n",
       "      <td>None</td>\n",
       "      <td>None</td>\n",
       "      <td>None</td>\n",
       "      <td>None</td>\n",
       "    </tr>\n",
       "    <tr>\n",
       "      <th>1</th>\n",
       "      <td>George Miller</td>\n",
       "      <td>None</td>\n",
       "      <td>None</td>\n",
       "      <td>None</td>\n",
       "      <td>None</td>\n",
       "      <td>None</td>\n",
       "      <td>None</td>\n",
       "      <td>None</td>\n",
       "      <td>None</td>\n",
       "      <td>None</td>\n",
       "      <td>...</td>\n",
       "      <td>None</td>\n",
       "      <td>None</td>\n",
       "      <td>None</td>\n",
       "      <td>None</td>\n",
       "      <td>None</td>\n",
       "      <td>None</td>\n",
       "      <td>None</td>\n",
       "      <td>None</td>\n",
       "      <td>None</td>\n",
       "      <td>None</td>\n",
       "    </tr>\n",
       "    <tr>\n",
       "      <th>2</th>\n",
       "      <td>Robert Schwentke</td>\n",
       "      <td>None</td>\n",
       "      <td>None</td>\n",
       "      <td>None</td>\n",
       "      <td>None</td>\n",
       "      <td>None</td>\n",
       "      <td>None</td>\n",
       "      <td>None</td>\n",
       "      <td>None</td>\n",
       "      <td>None</td>\n",
       "      <td>...</td>\n",
       "      <td>None</td>\n",
       "      <td>None</td>\n",
       "      <td>None</td>\n",
       "      <td>None</td>\n",
       "      <td>None</td>\n",
       "      <td>None</td>\n",
       "      <td>None</td>\n",
       "      <td>None</td>\n",
       "      <td>None</td>\n",
       "      <td>None</td>\n",
       "    </tr>\n",
       "    <tr>\n",
       "      <th>3</th>\n",
       "      <td>J.J. Abrams</td>\n",
       "      <td>None</td>\n",
       "      <td>None</td>\n",
       "      <td>None</td>\n",
       "      <td>None</td>\n",
       "      <td>None</td>\n",
       "      <td>None</td>\n",
       "      <td>None</td>\n",
       "      <td>None</td>\n",
       "      <td>None</td>\n",
       "      <td>...</td>\n",
       "      <td>None</td>\n",
       "      <td>None</td>\n",
       "      <td>None</td>\n",
       "      <td>None</td>\n",
       "      <td>None</td>\n",
       "      <td>None</td>\n",
       "      <td>None</td>\n",
       "      <td>None</td>\n",
       "      <td>None</td>\n",
       "      <td>None</td>\n",
       "    </tr>\n",
       "    <tr>\n",
       "      <th>4</th>\n",
       "      <td>James Wan</td>\n",
       "      <td>None</td>\n",
       "      <td>None</td>\n",
       "      <td>None</td>\n",
       "      <td>None</td>\n",
       "      <td>None</td>\n",
       "      <td>None</td>\n",
       "      <td>None</td>\n",
       "      <td>None</td>\n",
       "      <td>None</td>\n",
       "      <td>...</td>\n",
       "      <td>None</td>\n",
       "      <td>None</td>\n",
       "      <td>None</td>\n",
       "      <td>None</td>\n",
       "      <td>None</td>\n",
       "      <td>None</td>\n",
       "      <td>None</td>\n",
       "      <td>None</td>\n",
       "      <td>None</td>\n",
       "      <td>None</td>\n",
       "    </tr>\n",
       "  </tbody>\n",
       "</table>\n",
       "<p>5 rows × 36 columns</p>\n",
       "</div>"
      ],
      "text/plain": [
       "         director_1 director_2 director_3 director_4 director_5 director_6  \\\n",
       "0   Colin Trevorrow       None       None       None       None       None   \n",
       "1     George Miller       None       None       None       None       None   \n",
       "2  Robert Schwentke       None       None       None       None       None   \n",
       "3       J.J. Abrams       None       None       None       None       None   \n",
       "4         James Wan       None       None       None       None       None   \n",
       "\n",
       "  director_7 director_8 director_9 director_10  ... director_27 director_28  \\\n",
       "0       None       None       None        None  ...        None        None   \n",
       "1       None       None       None        None  ...        None        None   \n",
       "2       None       None       None        None  ...        None        None   \n",
       "3       None       None       None        None  ...        None        None   \n",
       "4       None       None       None        None  ...        None        None   \n",
       "\n",
       "  director_29 director_30 director_31 director_32 director_33 director_34  \\\n",
       "0        None        None        None        None        None        None   \n",
       "1        None        None        None        None        None        None   \n",
       "2        None        None        None        None        None        None   \n",
       "3        None        None        None        None        None        None   \n",
       "4        None        None        None        None        None        None   \n",
       "\n",
       "  director_35 director_36  \n",
       "0        None        None  \n",
       "1        None        None  \n",
       "2        None        None  \n",
       "3        None        None  \n",
       "4        None        None  \n",
       "\n",
       "[5 rows x 36 columns]"
      ]
     },
     "execution_count": 4,
     "metadata": {},
     "output_type": "execute_result"
    }
   ],
   "source": [
    "#Split director column into separate columns\n",
    "df_directors = df['director'].str.split('|', expand=True).rename(columns=lambda x: f\"director_{x+1}\")\n",
    "df_directors.head(5)"
   ]
  },
  {
   "cell_type": "markdown",
   "metadata": {},
   "source": [
    "> The director split ended up with 36 columns. We took decision to leave director column unchanged due to irregular split results"
   ]
  },
  {
   "cell_type": "code",
   "execution_count": 5,
   "metadata": {},
   "outputs": [
    {
     "name": "stdout",
     "output_type": "stream",
     "text": [
      "Data frame shape before wrangling(10866, 21)\n",
      "\n",
      "<class 'pandas.core.frame.DataFrame'>\n",
      "RangeIndex: 10866 entries, 0 to 10865\n",
      "Data columns (total 21 columns):\n",
      "id                      10866 non-null int64\n",
      "imdb_id                 10856 non-null object\n",
      "popularity              10866 non-null float64\n",
      "budget                  10866 non-null int64\n",
      "revenue                 10866 non-null int64\n",
      "original_title          10866 non-null object\n",
      "cast                    10790 non-null object\n",
      "homepage                2936 non-null object\n",
      "director                10822 non-null object\n",
      "tagline                 8042 non-null object\n",
      "keywords                9373 non-null object\n",
      "overview                10862 non-null object\n",
      "runtime                 10866 non-null int64\n",
      "genres                  10843 non-null object\n",
      "production_companies    9836 non-null object\n",
      "release_date            10866 non-null object\n",
      "vote_count              10866 non-null int64\n",
      "vote_average            10866 non-null float64\n",
      "release_year            10866 non-null int64\n",
      "budget_adj              10866 non-null float64\n",
      "revenue_adj             10866 non-null float64\n",
      "dtypes: float64(4), int64(6), object(11)\n",
      "memory usage: 1.7+ MB\n",
      "Data frame info and coloumn type check before wranglingNone\n",
      "\n"
     ]
    }
   ],
   "source": [
    "print (\"Data frame shape before wrangling{}\\n\".format(df.shape))\n",
    "print (\"Data frame info and coloumn type check before wrangling{}\\n\".format(df.info()))"
   ]
  },
  {
   "cell_type": "markdown",
   "metadata": {},
   "source": [
    "## 2-1 Data Wrangling Function"
   ]
  },
  {
   "cell_type": "code",
   "execution_count": 6,
   "metadata": {},
   "outputs": [],
   "source": [
    "def datawrangling (df):\n",
    "    '''\n",
    "    parameter df: Pnadas dataframe\n",
    "    return df: Data Wrangled data frame\n",
    "    '''\n",
    "    print('Start data wrangling ....\\n')\n",
    "    #Drop Columns\n",
    "    #From the above , certain coloumns don't add into the analayis. Therefore, we will drop those coloumns\n",
    "    #“_adj” show the budget and revenue of the associated movie in terms of 2010 dollars, accounting for inflation over time. Therefore, drop budget, revenue columns\n",
    "    #dropped columns: id, imdb_id, budget, revenue, homepage, tagline, overview, keywords\n",
    "    df.drop(columns=['id', 'budget', 'revenue', 'homepage', 'tagline', 'overview', 'keywords'], \n",
    "            inplace=True )\n",
    "    #Check null values\n",
    "    #We can't fill missing values because values are stings. Therefore, drop rows with missing values.\n",
    "    print('Check null values\\n')\n",
    "    print('Total number of rows: {}\\n'.format(df.shape[0]))\n",
    "    for col in df.columns:\n",
    "       if df[col].isna().sum() != 0:\n",
    "        print ('Column <{}> has {} null values\\n'.format(col, df[col].isna().sum() ))\n",
    "    df.dropna()\n",
    "    \n",
    "    #Remove Duplicates\n",
    "    df.drop_duplicates(inplace=True)\n",
    "    print ('Duplicate removed, new dataframe shape{}\\n'.format(df.shape))\n",
    "    \n",
    "    #Change the amounts to millions in budget_adj and revenue_adj\n",
    "    #create budget_adj_mil and revenue_adj_mil to adjust figures to nearst millions then drop budget_adj and revenue_adj coloumns\n",
    "    print('create budget_adj_mil and revenue_adj_mil to adjust figures to nearst millions\\n')\n",
    "    print('create profit column\\n')\n",
    "    df['budget_adj_mil'] = round(df['budget_adj'] /1000000)\n",
    "    df['revenue_adj_mil'] = round(df['revenue_adj'] /1000000)\n",
    "    df['profit'] = df['revenue_adj_mil'] - df['budget_adj_mil']\n",
    "    \n",
    "    #drop budget_adj and revenue_adj columns\n",
    "    print('Drop budget_adj and revenue_adj columns\\n')\n",
    "    df.drop(columns=['budget_adj', 'revenue_adj'], inplace=True )\n",
    "    \n",
    "    # Split generes into separate columns and append to main dataframe\n",
    "    print ('Split generes into separate columns\\n')\n",
    "    df_genres = df['genres'].str.split('|', expand=True).rename(columns=lambda x: f\"genre_{x+1}\")\n",
    "    #append splited genres\n",
    "    df[df_genres.columns] = df_genres\n",
    "    \n",
    "    #Director split\n",
    "    print('director column unchanged due to irregular split results\\n')\n",
    "    \n",
    "    #Split cast column into separate columns\n",
    "    print('Split cast column into separate columns\\n')\n",
    "    df_cast = df['cast'].str.split('|', expand=True).rename(columns=lambda x: f\"cast_{x+1}\")\n",
    "    #append splited cast\n",
    "    df[df_cast.columns] = df_cast\n",
    "    \n",
    "    print('Data wrangling ended....\\n')\n",
    "    \n",
    "    return df\n",
    "    \n",
    "    "
   ]
  },
  {
   "cell_type": "markdown",
   "metadata": {},
   "source": [
    "### 2.2 Call Data Wrangling"
   ]
  },
  {
   "cell_type": "code",
   "execution_count": 7,
   "metadata": {},
   "outputs": [
    {
     "name": "stdout",
     "output_type": "stream",
     "text": [
      "Start data wrangling ....\n",
      "\n",
      "Check null values\n",
      "\n",
      "Total number of rows: 10866\n",
      "\n",
      "Column <imdb_id> has 10 null values\n",
      "\n",
      "Column <cast> has 76 null values\n",
      "\n",
      "Column <director> has 44 null values\n",
      "\n",
      "Column <genres> has 23 null values\n",
      "\n",
      "Column <production_companies> has 1030 null values\n",
      "\n",
      "Duplicate removed, new dataframe shape(10865, 14)\n",
      "\n",
      "create budget_adj_mil and revenue_adj_mil to adjust figures to nearst millions\n",
      "\n",
      "create profit column\n",
      "\n",
      "Drop budget_adj and revenue_adj columns\n",
      "\n",
      "Split generes into separate columns\n",
      "\n",
      "director column unchanged due to irregular split results\n",
      "\n",
      "Split cast column into separate columns\n",
      "\n",
      "Data wrangling ended....\n",
      "\n"
     ]
    }
   ],
   "source": [
    "df= datawrangling (df)"
   ]
  },
  {
   "cell_type": "code",
   "execution_count": 8,
   "metadata": {},
   "outputs": [
    {
     "name": "stdout",
     "output_type": "stream",
     "text": [
      "<class 'pandas.core.frame.DataFrame'>\n",
      "Int64Index: 10865 entries, 0 to 10865\n",
      "Data columns (total 25 columns):\n",
      "imdb_id                 10855 non-null object\n",
      "popularity              10865 non-null float64\n",
      "original_title          10865 non-null object\n",
      "cast                    10789 non-null object\n",
      "director                10821 non-null object\n",
      "runtime                 10865 non-null int64\n",
      "genres                  10842 non-null object\n",
      "production_companies    9835 non-null object\n",
      "release_date            10865 non-null object\n",
      "vote_count              10865 non-null int64\n",
      "vote_average            10865 non-null float64\n",
      "release_year            10865 non-null int64\n",
      "budget_adj_mil          10865 non-null float64\n",
      "revenue_adj_mil         10865 non-null float64\n",
      "profit                  10865 non-null float64\n",
      "genre_1                 10842 non-null object\n",
      "genre_2                 8514 non-null object\n",
      "genre_3                 5078 non-null object\n",
      "genre_4                 1980 non-null object\n",
      "genre_5                 541 non-null object\n",
      "cast_1                  10789 non-null object\n",
      "cast_2                  10645 non-null object\n",
      "cast_3                  10555 non-null object\n",
      "cast_4                  10446 non-null object\n",
      "cast_5                  10133 non-null object\n",
      "dtypes: float64(5), int64(3), object(17)\n",
      "memory usage: 2.2+ MB\n"
     ]
    }
   ],
   "source": [
    "df.info()"
   ]
  },
  {
   "cell_type": "markdown",
   "metadata": {},
   "source": [
    "### Number of records with budget equals zero"
   ]
  },
  {
   "cell_type": "code",
   "execution_count": 9,
   "metadata": {},
   "outputs": [
    {
     "data": {
      "text/plain": [
       "0.0    5905\n",
       "Name: budget_adj_mil, dtype: int64"
      ]
     },
     "execution_count": 9,
     "metadata": {},
     "output_type": "execute_result"
    }
   ],
   "source": [
    "df[df['budget_adj_mil'] == 0]['budget_adj_mil'].value_counts()"
   ]
  },
  {
   "cell_type": "markdown",
   "metadata": {},
   "source": [
    "The number of zero rows (5905) is about 50% and hence data quality is low. No action taken as removing  rows will affect other features"
   ]
  },
  {
   "cell_type": "markdown",
   "metadata": {},
   "source": [
    "<a id='eda'></a>\n",
    "## 3- Exploratory Data Analysis\n",
    "\n",
    "### Research Question 1 (Is voting declining over the years?)"
   ]
  },
  {
   "cell_type": "markdown",
   "metadata": {},
   "source": [
    "### Over all stats"
   ]
  },
  {
   "cell_type": "code",
   "execution_count": 10,
   "metadata": {},
   "outputs": [
    {
     "name": "stdout",
     "output_type": "stream",
     "text": [
      "<class 'pandas.core.frame.DataFrame'>\n",
      "Int64Index: 10865 entries, 0 to 10865\n",
      "Data columns (total 25 columns):\n",
      "imdb_id                 10855 non-null object\n",
      "popularity              10865 non-null float64\n",
      "original_title          10865 non-null object\n",
      "cast                    10789 non-null object\n",
      "director                10821 non-null object\n",
      "runtime                 10865 non-null int64\n",
      "genres                  10842 non-null object\n",
      "production_companies    9835 non-null object\n",
      "release_date            10865 non-null object\n",
      "vote_count              10865 non-null int64\n",
      "vote_average            10865 non-null float64\n",
      "release_year            10865 non-null int64\n",
      "budget_adj_mil          10865 non-null float64\n",
      "revenue_adj_mil         10865 non-null float64\n",
      "profit                  10865 non-null float64\n",
      "genre_1                 10842 non-null object\n",
      "genre_2                 8514 non-null object\n",
      "genre_3                 5078 non-null object\n",
      "genre_4                 1980 non-null object\n",
      "genre_5                 541 non-null object\n",
      "cast_1                  10789 non-null object\n",
      "cast_2                  10645 non-null object\n",
      "cast_3                  10555 non-null object\n",
      "cast_4                  10446 non-null object\n",
      "cast_5                  10133 non-null object\n",
      "dtypes: float64(5), int64(3), object(17)\n",
      "memory usage: 2.2+ MB\n"
     ]
    }
   ],
   "source": [
    "df.info()"
   ]
  },
  {
   "cell_type": "code",
   "execution_count": 11,
   "metadata": {},
   "outputs": [
    {
     "name": "stdout",
     "output_type": "stream",
     "text": [
      "Movie Jurassic World is highest revenue of 1392.0 millions\n",
      "Movie Jurassic World is most popular movie\n"
     ]
    }
   ],
   "source": [
    "#All time high revenu \n",
    "df.sort_values(by='revenue_adj_mil', ascending=False)\n",
    "print('Movie {} is highest revenue of {} millions'.format(df['original_title'].iloc[0], df['revenue_adj_mil'].iloc[0]))\n",
    "#Most popular movie\n",
    "df.sort_values(by='popularity', ascending=False)\n",
    "print('Movie {} is most popular movie'.format(df['original_title'].iloc[0]))\n"
   ]
  },
  {
   "cell_type": "code",
   "execution_count": 12,
   "metadata": {},
   "outputs": [
    {
     "data": {
      "text/plain": [
       "array([[<matplotlib.axes._subplots.AxesSubplot object at 0x7fb05627a0f0>,\n",
       "        <matplotlib.axes._subplots.AxesSubplot object at 0x7fb055a91320>,\n",
       "        <matplotlib.axes._subplots.AxesSubplot object at 0x7fb055a4a2b0>],\n",
       "       [<matplotlib.axes._subplots.AxesSubplot object at 0x7fb0559ff2b0>,\n",
       "        <matplotlib.axes._subplots.AxesSubplot object at 0x7fb0559a4b00>,\n",
       "        <matplotlib.axes._subplots.AxesSubplot object at 0x7fb0559a4b38>],\n",
       "       [<matplotlib.axes._subplots.AxesSubplot object at 0x7fb055988b70>,\n",
       "        <matplotlib.axes._subplots.AxesSubplot object at 0x7fb05593fc50>,\n",
       "        <matplotlib.axes._subplots.AxesSubplot object at 0x7fb0558f4c50>]],\n",
       "      dtype=object)"
      ]
     },
     "execution_count": 12,
     "metadata": {},
     "output_type": "execute_result"
    },
    {
     "data": {
      "image/png": "[encoded data removed]",
      "text/plain": [
       "<matplotlib.figure.Figure at 0x7fb055c6bda0>"
      ]
     },
     "metadata": {
      "needs_background": "light"
     },
     "output_type": "display_data"
    }
   ],
   "source": [
    "df.hist(figsize=(8,8))"
   ]
  },
  {
   "cell_type": "code",
   "execution_count": 13,
   "metadata": {},
   "outputs": [
    {
     "data": {
      "text/plain": [
       "Text(0.5,1,'Voting trend over years')"
      ]
     },
     "execution_count": 13,
     "metadata": {},
     "output_type": "execute_result"
    },
    {
     "data": {
      "image/png": "[encoded data removed]",
      "text/plain": [
       "<matplotlib.figure.Figure at 0x7fb05575ab38>"
      ]
     },
     "metadata": {
      "needs_background": "light"
     },
     "output_type": "display_data"
    }
   ],
   "source": [
    "\n",
    "vote_rate = pd.DataFrame(df.groupby('release_year')['vote_average'].mean().reset_index())\n",
    "vote_rate.plot(kind='scatter', x='release_year', y='vote_average') #title='Average Wine Quality by Color', color=colors, alpha=.7);\n",
    "plt.xlabel('Release Year', fontsize=18)\n",
    "plt.ylabel('Vote Average', fontsize=18)\n",
    "plt.title('Voting trend over years')\n"
   ]
  },
  {
   "cell_type": "markdown",
   "metadata": {},
   "source": [
    "The output from describe states that there is an issue with min vlaues for runtime (0) and vote_average (1.5) nad "
   ]
  },
  {
   "cell_type": "markdown",
   "metadata": {},
   "source": [
    "### Discover outliers in voting average"
   ]
  },
  {
   "cell_type": "code",
   "execution_count": 14,
   "metadata": {},
   "outputs": [
    {
     "data": {
      "image/png": "[encoded data removed]",
      "text/plain": [
       "<matplotlib.figure.Figure at 0x7fb0558c1860>"
      ]
     },
     "metadata": {
      "needs_background": "light"
     },
     "output_type": "display_data"
    }
   ],
   "source": [
    "boxplot = df.boxplot(column=['vote_average'])  "
   ]
  },
  {
   "cell_type": "markdown",
   "metadata": {},
   "source": [
    "### Discover correlation with different features"
   ]
  },
  {
   "cell_type": "code",
   "execution_count": 15,
   "metadata": {},
   "outputs": [
    {
     "data": {
      "text/html": [
       "<div>\n",
       "<style scoped>\n",
       "    .dataframe tbody tr th:only-of-type {\n",
       "        vertical-align: middle;\n",
       "    }\n",
       "\n",
       "    .dataframe tbody tr th {\n",
       "        vertical-align: top;\n",
       "    }\n",
       "\n",
       "    .dataframe thead th {\n",
       "        text-align: right;\n",
       "    }\n",
       "</style>\n",
       "<table border=\"1\" class=\"dataframe\">\n",
       "  <thead>\n",
       "    <tr style=\"text-align: right;\">\n",
       "      <th></th>\n",
       "      <th>popularity</th>\n",
       "      <th>runtime</th>\n",
       "      <th>vote_count</th>\n",
       "      <th>vote_average</th>\n",
       "      <th>release_year</th>\n",
       "      <th>budget_adj_mil</th>\n",
       "      <th>revenue_adj_mil</th>\n",
       "      <th>profit</th>\n",
       "    </tr>\n",
       "  </thead>\n",
       "  <tbody>\n",
       "    <tr>\n",
       "      <th>popularity</th>\n",
       "      <td>1.000000</td>\n",
       "      <td>0.139032</td>\n",
       "      <td>0.800828</td>\n",
       "      <td>0.209517</td>\n",
       "      <td>0.089806</td>\n",
       "      <td>0.513624</td>\n",
       "      <td>0.609090</td>\n",
       "      <td>0.562832</td>\n",
       "    </tr>\n",
       "    <tr>\n",
       "      <th>runtime</th>\n",
       "      <td>0.139032</td>\n",
       "      <td>1.000000</td>\n",
       "      <td>0.163273</td>\n",
       "      <td>0.156813</td>\n",
       "      <td>-0.117187</td>\n",
       "      <td>0.221092</td>\n",
       "      <td>0.175657</td>\n",
       "      <td>0.142329</td>\n",
       "    </tr>\n",
       "    <tr>\n",
       "      <th>vote_count</th>\n",
       "      <td>0.800828</td>\n",
       "      <td>0.163273</td>\n",
       "      <td>1.000000</td>\n",
       "      <td>0.253818</td>\n",
       "      <td>0.107962</td>\n",
       "      <td>0.587069</td>\n",
       "      <td>0.707949</td>\n",
       "      <td>0.656901</td>\n",
       "    </tr>\n",
       "    <tr>\n",
       "      <th>vote_average</th>\n",
       "      <td>0.209517</td>\n",
       "      <td>0.156813</td>\n",
       "      <td>0.253818</td>\n",
       "      <td>1.000000</td>\n",
       "      <td>-0.117576</td>\n",
       "      <td>0.093070</td>\n",
       "      <td>0.193059</td>\n",
       "      <td>0.197498</td>\n",
       "    </tr>\n",
       "    <tr>\n",
       "      <th>release_year</th>\n",
       "      <td>0.089806</td>\n",
       "      <td>-0.117187</td>\n",
       "      <td>0.107962</td>\n",
       "      <td>-0.117576</td>\n",
       "      <td>1.000000</td>\n",
       "      <td>0.016791</td>\n",
       "      <td>-0.066246</td>\n",
       "      <td>-0.081118</td>\n",
       "    </tr>\n",
       "    <tr>\n",
       "      <th>budget_adj_mil</th>\n",
       "      <td>0.513624</td>\n",
       "      <td>0.221092</td>\n",
       "      <td>0.587069</td>\n",
       "      <td>0.093070</td>\n",
       "      <td>0.016791</td>\n",
       "      <td>1.000000</td>\n",
       "      <td>0.646615</td>\n",
       "      <td>0.472939</td>\n",
       "    </tr>\n",
       "    <tr>\n",
       "      <th>revenue_adj_mil</th>\n",
       "      <td>0.609090</td>\n",
       "      <td>0.175657</td>\n",
       "      <td>0.707949</td>\n",
       "      <td>0.193059</td>\n",
       "      <td>-0.066246</td>\n",
       "      <td>0.646615</td>\n",
       "      <td>1.000000</td>\n",
       "      <td>0.977923</td>\n",
       "    </tr>\n",
       "    <tr>\n",
       "      <th>profit</th>\n",
       "      <td>0.562832</td>\n",
       "      <td>0.142329</td>\n",
       "      <td>0.656901</td>\n",
       "      <td>0.197498</td>\n",
       "      <td>-0.081118</td>\n",
       "      <td>0.472939</td>\n",
       "      <td>0.977923</td>\n",
       "      <td>1.000000</td>\n",
       "    </tr>\n",
       "  </tbody>\n",
       "</table>\n",
       "</div>"
      ],
      "text/plain": [
       "                 popularity   runtime  vote_count  vote_average  release_year  \\\n",
       "popularity         1.000000  0.139032    0.800828      0.209517      0.089806   \n",
       "runtime            0.139032  1.000000    0.163273      0.156813     -0.117187   \n",
       "vote_count         0.800828  0.163273    1.000000      0.253818      0.107962   \n",
       "vote_average       0.209517  0.156813    0.253818      1.000000     -0.117576   \n",
       "release_year       0.089806 -0.117187    0.107962     -0.117576      1.000000   \n",
       "budget_adj_mil     0.513624  0.221092    0.587069      0.093070      0.016791   \n",
       "revenue_adj_mil    0.609090  0.175657    0.707949      0.193059     -0.066246   \n",
       "profit             0.562832  0.142329    0.656901      0.197498     -0.081118   \n",
       "\n",
       "                 budget_adj_mil  revenue_adj_mil    profit  \n",
       "popularity             0.513624         0.609090  0.562832  \n",
       "runtime                0.221092         0.175657  0.142329  \n",
       "vote_count             0.587069         0.707949  0.656901  \n",
       "vote_average           0.093070         0.193059  0.197498  \n",
       "release_year           0.016791        -0.066246 -0.081118  \n",
       "budget_adj_mil         1.000000         0.646615  0.472939  \n",
       "revenue_adj_mil        0.646615         1.000000  0.977923  \n",
       "profit                 0.472939         0.977923  1.000000  "
      ]
     },
     "execution_count": 15,
     "metadata": {},
     "output_type": "execute_result"
    }
   ],
   "source": [
    "df.corr()"
   ]
  },
  {
   "cell_type": "markdown",
   "metadata": {},
   "source": [
    "### Research Question 2  (Is there a relation between movie popularity and revenues?)"
   ]
  },
  {
   "cell_type": "code",
   "execution_count": 16,
   "metadata": {},
   "outputs": [
    {
     "data": {
      "image/png": "[encoded data removed]",
      "text/plain": [
       "<matplotlib.figure.Figure at 0x7fb0556976d8>"
      ]
     },
     "metadata": {
      "needs_background": "light"
     },
     "output_type": "display_data"
    }
   ],
   "source": [
    "plt.scatter(df['popularity'], df['revenue_adj_mil'])\n",
    "plt.title('Popularity vs Revenues')\n",
    "plt.xlabel('Popularity', fontsize=18)\n",
    "plt.ylabel('Revenue (mil)', fontsize=18)\n",
    "plt.show()\n"
   ]
  },
  {
   "cell_type": "code",
   "execution_count": 17,
   "metadata": {},
   "outputs": [
    {
     "data": {
      "image/png": "[encoded data removed]",
      "text/plain": [
       "<matplotlib.figure.Figure at 0x7fb055966470>"
      ]
     },
     "metadata": {
      "needs_background": "light"
     },
     "output_type": "display_data"
    }
   ],
   "source": [
    "boxplot = df.boxplot(column=['popularity'])  "
   ]
  },
  {
   "cell_type": "code",
   "execution_count": 18,
   "metadata": {},
   "outputs": [
    {
     "data": {
      "text/plain": [
       "count    10865.000000\n",
       "mean         0.646446\n",
       "std          1.000231\n",
       "min          0.000065\n",
       "25%          0.207575\n",
       "50%          0.383831\n",
       "75%          0.713857\n",
       "max         32.985763\n",
       "Name: popularity, dtype: float64"
      ]
     },
     "execution_count": 18,
     "metadata": {},
     "output_type": "execute_result"
    }
   ],
   "source": [
    "df['popularity'].describe()"
   ]
  },
  {
   "cell_type": "markdown",
   "metadata": {},
   "source": [
    "### Research Question 3  (Is crowd not interested in western movies compared to drama? What is the trend?)\n",
    "> we will use first genere to construct our analysis"
   ]
  },
  {
   "cell_type": "code",
   "execution_count": 19,
   "metadata": {},
   "outputs": [
    {
     "name": "stdout",
     "output_type": "stream",
     "text": [
      "MultiIndex([('release_year',      ''),\n",
      "            (     'genre_1',      ''),\n",
      "            (     'genre_1', 'count')],\n",
      "           )\n"
     ]
    },
    {
     "data": {
      "text/html": [
       "<div>\n",
       "<style scoped>\n",
       "    .dataframe tbody tr th:only-of-type {\n",
       "        vertical-align: middle;\n",
       "    }\n",
       "\n",
       "    .dataframe tbody tr th {\n",
       "        vertical-align: top;\n",
       "    }\n",
       "\n",
       "    .dataframe thead th {\n",
       "        text-align: right;\n",
       "    }\n",
       "</style>\n",
       "<table border=\"1\" class=\"dataframe\">\n",
       "  <thead>\n",
       "    <tr style=\"text-align: right;\">\n",
       "      <th></th>\n",
       "      <th>year</th>\n",
       "      <th>genre</th>\n",
       "      <th>count</th>\n",
       "    </tr>\n",
       "  </thead>\n",
       "  <tbody>\n",
       "    <tr>\n",
       "      <th>4</th>\n",
       "      <td>1960</td>\n",
       "      <td>Drama</td>\n",
       "      <td>5</td>\n",
       "    </tr>\n",
       "    <tr>\n",
       "      <th>10</th>\n",
       "      <td>1961</td>\n",
       "      <td>Drama</td>\n",
       "      <td>7</td>\n",
       "    </tr>\n",
       "    <tr>\n",
       "      <th>21</th>\n",
       "      <td>1962</td>\n",
       "      <td>Drama</td>\n",
       "      <td>11</td>\n",
       "    </tr>\n",
       "    <tr>\n",
       "      <th>31</th>\n",
       "      <td>1963</td>\n",
       "      <td>Drama</td>\n",
       "      <td>7</td>\n",
       "    </tr>\n",
       "    <tr>\n",
       "      <th>40</th>\n",
       "      <td>1964</td>\n",
       "      <td>Drama</td>\n",
       "      <td>10</td>\n",
       "    </tr>\n",
       "  </tbody>\n",
       "</table>\n",
       "</div>"
      ],
      "text/plain": [
       "    year  genre  count\n",
       "4   1960  Drama      5\n",
       "10  1961  Drama      7\n",
       "21  1962  Drama     11\n",
       "31  1963  Drama      7\n",
       "40  1964  Drama     10"
      ]
     },
     "execution_count": 19,
     "metadata": {},
     "output_type": "execute_result"
    }
   ],
   "source": [
    "t= pd.DataFrame(df.groupby(['release_year', 'genre_1']).agg({'genre_1': ['count']}).reset_index())\n",
    "#create flat level index\n",
    "drama= pd.DataFrame()\n",
    "drama['year'] = t[t[('genre_1', '')] == 'Drama'] [('release_year',      '')]\n",
    "drama['genre'] = t[t[('genre_1', '')] == 'Drama'] [(     'genre_1',      '')]\n",
    "drama['count'] = t[t[('genre_1', '')] == 'Drama'] [(     'genre_1', 'count')]\n",
    "print(t.columns)\n",
    "drama.head()"
   ]
  },
  {
   "cell_type": "code",
   "execution_count": 20,
   "metadata": {},
   "outputs": [
    {
     "name": "stdout",
     "output_type": "stream",
     "text": [
      "MultiIndex([('release_year',      ''),\n",
      "            (     'genre_1',      ''),\n",
      "            (     'genre_1', 'count')],\n",
      "           )\n"
     ]
    },
    {
     "data": {
      "text/html": [
       "<div>\n",
       "<style scoped>\n",
       "    .dataframe tbody tr th:only-of-type {\n",
       "        vertical-align: middle;\n",
       "    }\n",
       "\n",
       "    .dataframe tbody tr th {\n",
       "        vertical-align: top;\n",
       "    }\n",
       "\n",
       "    .dataframe thead th {\n",
       "        text-align: right;\n",
       "    }\n",
       "</style>\n",
       "<table border=\"1\" class=\"dataframe\">\n",
       "  <thead>\n",
       "    <tr style=\"text-align: right;\">\n",
       "      <th></th>\n",
       "      <th>year</th>\n",
       "      <th>genre</th>\n",
       "      <th>count</th>\n",
       "    </tr>\n",
       "  </thead>\n",
       "  <tbody>\n",
       "    <tr>\n",
       "      <th>16</th>\n",
       "      <td>1961</td>\n",
       "      <td>Western</td>\n",
       "      <td>3</td>\n",
       "    </tr>\n",
       "    <tr>\n",
       "      <th>26</th>\n",
       "      <td>1962</td>\n",
       "      <td>Western</td>\n",
       "      <td>2</td>\n",
       "    </tr>\n",
       "    <tr>\n",
       "      <th>45</th>\n",
       "      <td>1964</td>\n",
       "      <td>Western</td>\n",
       "      <td>1</td>\n",
       "    </tr>\n",
       "    <tr>\n",
       "      <th>68</th>\n",
       "      <td>1966</td>\n",
       "      <td>Western</td>\n",
       "      <td>2</td>\n",
       "    </tr>\n",
       "    <tr>\n",
       "      <th>82</th>\n",
       "      <td>1967</td>\n",
       "      <td>Western</td>\n",
       "      <td>1</td>\n",
       "    </tr>\n",
       "  </tbody>\n",
       "</table>\n",
       "</div>"
      ],
      "text/plain": [
       "    year    genre  count\n",
       "16  1961  Western      3\n",
       "26  1962  Western      2\n",
       "45  1964  Western      1\n",
       "68  1966  Western      2\n",
       "82  1967  Western      1"
      ]
     },
     "execution_count": 20,
     "metadata": {},
     "output_type": "execute_result"
    }
   ],
   "source": [
    "#Western\n",
    "western= pd.DataFrame()\n",
    "western['year'] = t[t[('genre_1', '')] == 'Western'] [('release_year',      '')]\n",
    "western['genre'] = t[t[('genre_1', '')] == 'Western'] [(     'genre_1',      '')]\n",
    "western['count'] = t[t[('genre_1', '')] == 'Western'] [(     'genre_1', 'count')]\n",
    "print(t.columns)\n",
    "western.head()"
   ]
  },
  {
   "cell_type": "code",
   "execution_count": 21,
   "metadata": {},
   "outputs": [
    {
     "data": {
      "text/plain": [
       "Text(0.5,1,'Drama trend over the years')"
      ]
     },
     "execution_count": 21,
     "metadata": {},
     "output_type": "execute_result"
    },
    {
     "data": {
      "image/png": "[encoded data removed]",
      "text/plain": [
       "<matplotlib.figure.Figure at 0x7fb0555b7390>"
      ]
     },
     "metadata": {
      "needs_background": "light"
     },
     "output_type": "display_data"
    }
   ],
   "source": [
    "d = pd.DataFrame(drama.groupby('year')['count'].sum().reset_index())\n",
    "d.plot(kind='scatter', x='year', y='count') \n",
    "plt.title('Drama trend over the years')"
   ]
  },
  {
   "cell_type": "code",
   "execution_count": 22,
   "metadata": {},
   "outputs": [
    {
     "data": {
      "text/plain": [
       "Text(0.5,1,'Western trend over the years')"
      ]
     },
     "execution_count": 22,
     "metadata": {},
     "output_type": "execute_result"
    },
    {
     "data": {
      "image/png": "[encoded data removed]",
      "text/plain": [
       "<matplotlib.figure.Figure at 0x7fb055569748>"
      ]
     },
     "metadata": {
      "needs_background": "light"
     },
     "output_type": "display_data"
    }
   ],
   "source": [
    "w = pd.DataFrame(western.groupby('year')['count'].sum().reset_index())\n",
    "w.plot(kind='scatter', x='year', y='count') \n",
    "#plt.xlabel('Release Year', fontsize=18)\n",
    "#plt.ylabel('Vote Average', fontsize=18)\n",
    "plt.title('Western trend over the years')"
   ]
  },
  {
   "cell_type": "code",
   "execution_count": 29,
   "metadata": {},
   "outputs": [
    {
     "data": {
      "image/png": "[encoded data removed]",
      "text/plain": [
       "<matplotlib.figure.Figure at 0x7fb05525c240>"
      ]
     },
     "metadata": {
      "needs_background": "light"
     },
     "output_type": "display_data"
    }
   ],
   "source": [
    "fig, ax = plt.subplots()\n",
    "d.plot.scatter(x = 'year', y = 'count', color=['blue'], ax=ax)\n",
    "w.plot.scatter(x = 'year', y = 'count', color=['red'], ax=ax)\n",
    "plt.title('Western and Drama Production Trend')\n",
    "plt.xlabel('Release Year', fontsize=14)\n",
    "plt.ylabel('Movie Count', fontsize=14)\n",
    "ax.legend(['Drama', 'Western'])\n",
    "plt.show()"
   ]
  },
  {
   "cell_type": "markdown",
   "metadata": {},
   "source": [
    "### Research Question 4 (What is the trend of film production over time?)"
   ]
  },
  {
   "cell_type": "code",
   "execution_count": 30,
   "metadata": {},
   "outputs": [
    {
     "data": {
      "text/plain": [
       "Text(0.5,1,'Overall Film Production Trend')"
      ]
     },
     "execution_count": 30,
     "metadata": {},
     "output_type": "execute_result"
    },
    {
     "data": {
      "image/png": "[encoded data removed]",
      "text/plain": [
       "<matplotlib.figure.Figure at 0x7fb055220f98>"
      ]
     },
     "metadata": {
      "needs_background": "light"
     },
     "output_type": "display_data"
    }
   ],
   "source": [
    "production_rate = pd.DataFrame(df.groupby('release_year')['imdb_id'].count().reset_index())\n",
    "production_rate.plot(kind='scatter', x='release_year', y='imdb_id') #title='Average Wine Quality by Color', color=colors, alpha=.7);\n",
    "plt.xlabel('Release Year', fontsize=14)\n",
    "plt.ylabel('Movie Count', fontsize=14)\n",
    "plt.title('Overall Film Production Trend')"
   ]
  },
  {
   "cell_type": "markdown",
   "metadata": {},
   "source": [
    "<a id='conclusions'></a>\n",
    "## Conclusions\n",
    "\n",
    "> <b> Research Question 1: (Is voting declining over the years?)<br>\n",
    "> <p>Advances in technologies gave viewers the ability to vote easily. Surprisingly, the voting count trend is declining.\n",
    "\n",
    "> Research Question 2: (Is there a relation between movie popularity and revenues?) <br>\n",
    "> <p>It seems logical to see strong correlation between popularity and revenues that was reflected in the correlation table and scatter diagram.\n",
    "\n",
    "> <b> Research Question 3: (Is crowd not interested in western movies compared to drama? What is the trend?<br>\n",
    "> <p>Movies consist of a combination of genres, but there is a dominant genre. For this research we used first research as the dominant genres. \n",
    "Viewers' demand for western movies are declining in comparison to drama movies.\n",
    "\n",
    "> <b> Research Question 4: (What is the trend of film production over time?)<br>\n",
    "> <p>The graph shows a positive trend and exponential increase in movie production over the years.\n",
    "Advances in technologies are the primary factor in reducing production time and hence increasing the number of movies per year.\n",
    "\n",
    "> <b> Data set notes:<br>\n",
    "> <p>The data set contains various cells with zero values that require domain expertise to help in filling the gap.\n",
    "Therefore, the boxplot shows outliers in various features such as :\n",
    "Max popularity and runtime of 32.985763 and 900 respectively.\n",
    "\n",
    ">The number of zero rows (5905) is about 50% and hence data quality is low. Histogram of various features are skewed to right and start at zero due to zero values inside data set\n",
    "No action taken as removing rows will affect other features.\n",
    "\n",
    "\n",
    "\n",
    "## Submitting your Project \n",
    "\n",
    "> **Tip**: Before you submit your project, you need to create a .html or .pdf version of this notebook in the workspace here. To do that, run the code cell below. If it worked correctly, you should get a return code of 0, and you should see the generated .html file in the workspace directory (click on the orange Jupyter icon in the upper left).\n",
    "\n",
    "> **Tip**: Alternatively, you can download this report as .html via the **File** > **Download as** submenu, and then manually upload it into the workspace directory by clicking on the orange Jupyter icon in the upper left, then using the Upload button.\n",
    "\n",
    "> **Tip**: Once you've done this, you can submit your project by clicking on the \"Submit Project\" button in the lower right here. This will create and submit a zip file with this .ipynb doc and the .html or .pdf version you created. Congratulations!"
   ]
  },
  {
   "cell_type": "code",
   "execution_count": 31,
   "metadata": {},
   "outputs": [
    {
     "data": {
      "text/plain": [
       "0"
      ]
     },
     "execution_count": 31,
     "metadata": {},
     "output_type": "execute_result"
    }
   ],
   "source": [
    "from subprocess import call\n",
    "call(['python', '-m', 'nbconvert', 'Investigate_a_Dataset.ipynb'])"
   ]
  },
  {
   "cell_type": "code",
   "execution_count": null,
   "metadata": {},
   "outputs": [],
   "source": []
  }
 ],
 "metadata": {
  "kernelspec": {
   "display_name": "Python 3",
   "language": "python",
   "name": "python3"
  },
  "language_info": {
   "codemirror_mode": {
    "name": "ipython",
    "version": 3
   },
   "file_extension": ".py",
   "mimetype": "text/x-python",
   "name": "python",
   "nbconvert_exporter": "python",
   "pygments_lexer": "ipython3",
   "version": "3.6.3"
  }
 },
 "nbformat": 4,
 "nbformat_minor": 2
}
