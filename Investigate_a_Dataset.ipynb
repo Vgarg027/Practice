{
 "cells": [
  {
   "cell_type": "markdown",
   "metadata": {},
   "source": [
    "\n",
    "\n",
    "# Project:  TMDB-Movies Analysis\n",
    "\n",
    "## Table of Contents\n",
    "<ul>\n",
    "<li><a href=\"#intro\">Introduction</a></li>\n",
    "<li><a href=\"#wrangling\">Data Wrangling</a></li>\n",
    "<li><a href=\"#eda\">Exploratory Data Analysis</a></li>\n",
    "<li><a href=\"#conclusions\">Conclusions</a></li>\n",
    "</ul>"
   ]
  },
  {
   "attachments": {
    "image.png": {
     "image/png": "[encoded data removed]"
    }
   },
   "cell_type": "markdown",
   "metadata": {},
   "source": [
    "<a id='intro'></a>\n",
    "## Introduction\n",
    "\n",
    "# 1-I selected movies analysise project that  is include ahuge adata  icluded variables like  (id/\timdb_id\t/popularity\tbudget/\trevenue\t/original_title/\tcast/\thomepage\t/director/\ttagline\tkeywords/\toverview/\truntime\tgenres/\tproduction_companies/\trelease_date/\tvote_count/\tvote_average/\trelease_year/\tbudget_adj/\trevenue_adj)\n",
    "# 2- i will extract few variables to answers the prposed quastions . these variables will be (revenue - runtime-voting )\n",
    "\n",
    "# 3- after that i will visulize the data with histogram shapes and determine the realation between two variables (revnue-voting)\n",
    "![image.png](attachment:image.png)\n",
    "\n",
    "> **Tip**: In this section of the report, provide a brief introduction to the dataset you've selected/downloaded for analysis. Read through the description available on the homepage-links present [here](https://docs.google.com/document/d/e/2PACX-1vTlVmknRRnfy_4eTrjw5hYGaiQim5ctr9naaRd4V9du2B5bxpd8FEH3KtDgp8qVekw7Cj1GLk1IXdZi/pub?embedded=True). List all column names in each table, and their significance. In case of multiple tables, describe the relationship between tables. \n",
    "\n",
    "\n",
    "### Question(s) for Analysis\n",
    "\n",
    "# 1-what is the highst revenue ?\n",
    "# 3-what is the longest movies ?\n",
    "# 4-what is the shortest movie ?\n",
    "# 5- what is the realation between voting and revenue ?\n"
   ]
  },
  {
   "cell_type": "markdown",
   "metadata": {},
   "source": [
    "# Importing libraries and dataset"
   ]
  },
  {
   "cell_type": "code",
   "execution_count": null,
   "metadata": {},
   "outputs": [],
   "source": [
    "import pandas as pd\n",
    "import numpy as np\n",
    "import matplotlib.pyplot as plt \n",
    "import seaborn as sns\n",
    "%matplotlib inline"
   ]
  },
  {
   "cell_type": "code",
   "execution_count": null,
   "metadata": {},
   "outputs": [],
   "source": [
    "!ls"
   ]
  },
  {
   "cell_type": "code",
   "execution_count": null,
   "metadata": {},
   "outputs": [],
   "source": [
    "# Upgrade pandas to use dataframe.explode() function. \n",
    "!pip install --upgrade pandas==0.25.0"
   ]
  },
  {
   "cell_type": "code",
   "execution_count": null,
   "metadata": {},
   "outputs": [],
   "source": [
    "df= pd.read_csv('tmdb-movies-Copy1.csv')\n",
    "df.head()"
   ]
  },
  {
   "cell_type": "markdown",
   "metadata": {},
   "source": [
    "# <li><a href=\"#wrangling\">Data Wrangling</a></li>\n"
   ]
  },
  {
   "cell_type": "markdown",
   "metadata": {},
   "source": [
    "# Determine the dataframe & info like (shape-null-datatype-etc)"
   ]
  },
  {
   "cell_type": "code",
   "execution_count": 10,
   "metadata": {},
   "outputs": [
    {
     "name": "stdout",
     "output_type": "stream",
     "text": [
      "<class 'pandas.core.frame.DataFrame'>\n",
      "RangeIndex: 10866 entries, 0 to 10865\n",
      "Data columns (total 21 columns):\n",
      "id                      10866 non-null int64\n",
      "imdb_id                 10856 non-null object\n",
      "popularity              10866 non-null float64\n",
      "budget                  10866 non-null int64\n",
      "revenue                 10866 non-null int64\n",
      "original_title          10866 non-null object\n",
      "cast                    10790 non-null object\n",
      "homepage                2936 non-null object\n",
      "director                10822 non-null object\n",
      "tagline                 8042 non-null object\n",
      "keywords                9373 non-null object\n",
      "overview                10862 non-null object\n",
      "runtime                 10866 non-null int64\n",
      "genres                  10843 non-null object\n",
      "production_companies    9836 non-null object\n",
      "release_date            10866 non-null object\n",
      "vote_count              10866 non-null int64\n",
      "vote_average            10866 non-null float64\n",
      "release_year            10866 non-null int64\n",
      "budget_adj              10866 non-null float64\n",
      "revenue_adj             10866 non-null float64\n",
      "dtypes: float64(4), int64(6), object(11)\n",
      "memory usage: 1.7+ MB\n"
     ]
    }
   ],
   "source": [
    "df.info()"
   ]
  },
  {
   "cell_type": "code",
   "execution_count": 11,
   "metadata": {},
   "outputs": [
    {
     "data": {
      "text/plain": [
       "(10866, 21)"
      ]
     },
     "execution_count": 11,
     "metadata": {},
     "output_type": "execute_result"
    }
   ],
   "source": [
    "df.shape"
   ]
  },
  {
   "cell_type": "code",
   "execution_count": 12,
   "metadata": {},
   "outputs": [
    {
     "data": {
      "text/plain": [
       "True"
      ]
     },
     "execution_count": 12,
     "metadata": {},
     "output_type": "execute_result"
    }
   ],
   "source": [
    "df.duplicated().any()"
   ]
  },
  {
   "cell_type": "code",
   "execution_count": 13,
   "metadata": {},
   "outputs": [
    {
     "data": {
      "text/plain": [
       "id                         0\n",
       "imdb_id                   10\n",
       "popularity                 0\n",
       "budget                     0\n",
       "revenue                    0\n",
       "original_title             0\n",
       "cast                      76\n",
       "homepage                7930\n",
       "director                  44\n",
       "tagline                 2824\n",
       "keywords                1493\n",
       "overview                   4\n",
       "runtime                    0\n",
       "genres                    23\n",
       "production_companies    1030\n",
       "release_date               0\n",
       "vote_count                 0\n",
       "vote_average               0\n",
       "release_year               0\n",
       "budget_adj                 0\n",
       "revenue_adj                0\n",
       "dtype: int64"
      ]
     },
     "execution_count": 13,
     "metadata": {},
     "output_type": "execute_result"
    }
   ],
   "source": [
    "df.isnull().sum()"
   ]
  },
  {
   "cell_type": "markdown",
   "metadata": {},
   "source": [
    "\n",
    "\n",
    "# CLEANING DATA  "
   ]
  },
  {
   "cell_type": "code",
   "execution_count": 14,
   "metadata": {},
   "outputs": [],
   "source": [
    "df.drop(['id','original_title','tagline','homepage','imdb_id','popularity','cast','director','keywords'],axis=1 ,inplace=True)"
   ]
  },
  {
   "cell_type": "code",
   "execution_count": 15,
   "metadata": {},
   "outputs": [
    {
     "ename": "TypeError",
     "evalue": "__init__() got an unexpected keyword argument 'max_rows'",
     "output_type": "error",
     "traceback": [
      "\u001b[0;31m---------------------------------------------------------------------------\u001b[0m",
      "\u001b[0;31mTypeError\u001b[0m                                 Traceback (most recent call last)",
      "\u001b[0;32m/opt/conda/lib/python3.6/site-packages/IPython/core/formatters.py\u001b[0m in \u001b[0;36m__call__\u001b[0;34m(self, obj)\u001b[0m\n\u001b[1;32m    343\u001b[0m             \u001b[0mmethod\u001b[0m \u001b[0;34m=\u001b[0m \u001b[0mget_real_method\u001b[0m\u001b[0;34m(\u001b[0m\u001b[0mobj\u001b[0m\u001b[0;34m,\u001b[0m \u001b[0mself\u001b[0m\u001b[0;34m.\u001b[0m\u001b[0mprint_method\u001b[0m\u001b[0;34m)\u001b[0m\u001b[0;34m\u001b[0m\u001b[0m\n\u001b[1;32m    344\u001b[0m             \u001b[0;32mif\u001b[0m \u001b[0mmethod\u001b[0m \u001b[0;32mis\u001b[0m \u001b[0;32mnot\u001b[0m \u001b[0;32mNone\u001b[0m\u001b[0;34m:\u001b[0m\u001b[0;34m\u001b[0m\u001b[0m\n\u001b[0;32m--> 345\u001b[0;31m                 \u001b[0;32mreturn\u001b[0m \u001b[0mmethod\u001b[0m\u001b[0;34m(\u001b[0m\u001b[0;34m)\u001b[0m\u001b[0;34m\u001b[0m\u001b[0m\n\u001b[0m\u001b[1;32m    346\u001b[0m             \u001b[0;32mreturn\u001b[0m \u001b[0;32mNone\u001b[0m\u001b[0;34m\u001b[0m\u001b[0m\n\u001b[1;32m    347\u001b[0m         \u001b[0;32melse\u001b[0m\u001b[0;34m:\u001b[0m\u001b[0;34m\u001b[0m\u001b[0m\n",
      "\u001b[0;32m/opt/conda/lib/python3.6/site-packages/pandas/core/frame.py\u001b[0m in \u001b[0;36m_repr_html_\u001b[0;34m(self)\u001b[0m\n\u001b[1;32m    694\u001b[0m     \u001b[0;34m@\u001b[0m\u001b[0mSubstitution\u001b[0m\u001b[0;34m(\u001b[0m\u001b[0mshared_params\u001b[0m\u001b[0;34m=\u001b[0m\u001b[0mfmt\u001b[0m\u001b[0;34m.\u001b[0m\u001b[0mcommon_docstring\u001b[0m\u001b[0;34m,\u001b[0m \u001b[0mreturns\u001b[0m\u001b[0;34m=\u001b[0m\u001b[0mfmt\u001b[0m\u001b[0;34m.\u001b[0m\u001b[0mreturn_docstring\u001b[0m\u001b[0;34m)\u001b[0m\u001b[0;34m\u001b[0m\u001b[0m\n\u001b[1;32m    695\u001b[0m     def to_string(\n\u001b[0;32m--> 696\u001b[0;31m         \u001b[0mself\u001b[0m\u001b[0;34m,\u001b[0m\u001b[0;34m\u001b[0m\u001b[0m\n\u001b[0m\u001b[1;32m    697\u001b[0m         \u001b[0mbuf\u001b[0m\u001b[0;34m=\u001b[0m\u001b[0;32mNone\u001b[0m\u001b[0;34m,\u001b[0m\u001b[0;34m\u001b[0m\u001b[0m\n\u001b[1;32m    698\u001b[0m         \u001b[0mcolumns\u001b[0m\u001b[0;34m=\u001b[0m\u001b[0;32mNone\u001b[0m\u001b[0;34m,\u001b[0m\u001b[0;34m\u001b[0m\u001b[0m\n",
      "\u001b[0;32m/opt/conda/lib/python3.6/site-packages/pandas/core/frame.py\u001b[0m in \u001b[0;36mto_html\u001b[0;34m(self, buf, columns, col_space, header, index, na_rep, formatters, float_format, sparsify, index_names, justify, bold_rows, classes, escape, max_rows, max_cols, show_dimensions, notebook, decimal, border, table_id)\u001b[0m\n\u001b[1;32m   2035\u001b[0m             \u001b[0mDefault\u001b[0m \u001b[0;32mis\u001b[0m \u001b[0mlatin\u001b[0m\u001b[0;34m-\u001b[0m\u001b[0;36m1.\u001b[0m \u001b[0mUnicode\u001b[0m \u001b[0;32mis\u001b[0m \u001b[0;32mnot\u001b[0m \u001b[0msupported\u001b[0m\u001b[0;34m.\u001b[0m\u001b[0;34m\u001b[0m\u001b[0m\n\u001b[1;32m   2036\u001b[0m         \u001b[0mbyteorder\u001b[0m \u001b[0;34m:\u001b[0m \u001b[0mstr\u001b[0m\u001b[0;34m\u001b[0m\u001b[0m\n\u001b[0;32m-> 2037\u001b[0;31m             \u001b[0mCan\u001b[0m \u001b[0mbe\u001b[0m \u001b[0;34m\">\"\u001b[0m\u001b[0;34m,\u001b[0m \u001b[0;34m\"<\"\u001b[0m\u001b[0;34m,\u001b[0m \u001b[0;34m\"little\"\u001b[0m\u001b[0;34m,\u001b[0m \u001b[0;32mor\u001b[0m \u001b[0;34m\"big\"\u001b[0m\u001b[0;34m.\u001b[0m \u001b[0mdefault\u001b[0m \u001b[0;32mis\u001b[0m\u001b[0;31m \u001b[0m\u001b[0;31m`\u001b[0m\u001b[0msys\u001b[0m\u001b[0;34m.\u001b[0m\u001b[0mbyteorder\u001b[0m\u001b[0;31m`\u001b[0m\u001b[0;34m.\u001b[0m\u001b[0;34m\u001b[0m\u001b[0m\n\u001b[0m\u001b[1;32m   2038\u001b[0m         \u001b[0mtime_stamp\u001b[0m \u001b[0;34m:\u001b[0m \u001b[0mdatetime\u001b[0m\u001b[0;34m\u001b[0m\u001b[0m\n\u001b[1;32m   2039\u001b[0m             \u001b[0mA\u001b[0m \u001b[0mdatetime\u001b[0m \u001b[0mto\u001b[0m \u001b[0muse\u001b[0m \u001b[0;32mas\u001b[0m \u001b[0mfile\u001b[0m \u001b[0mcreation\u001b[0m \u001b[0mdate\u001b[0m\u001b[0;34m.\u001b[0m  \u001b[0mDefault\u001b[0m \u001b[0;32mis\u001b[0m \u001b[0mthe\u001b[0m \u001b[0mcurrent\u001b[0m\u001b[0;34m\u001b[0m\u001b[0m\n",
      "\u001b[0;32m/opt/conda/lib/python3.6/site-packages/pandas/io/formats/format.py\u001b[0m in \u001b[0;36mto_html\u001b[0;34m(self, classes, notebook, border)\u001b[0m\n\u001b[1;32m    751\u001b[0m         \u001b[0;32melse\u001b[0m\u001b[0;34m:\u001b[0m\u001b[0;34m\u001b[0m\u001b[0m\n\u001b[1;32m    752\u001b[0m             \u001b[0mnrows\u001b[0m \u001b[0;34m=\u001b[0m \u001b[0mlen\u001b[0m\u001b[0;34m(\u001b[0m\u001b[0mself\u001b[0m\u001b[0;34m.\u001b[0m\u001b[0mframe\u001b[0m\u001b[0;34m)\u001b[0m\u001b[0;34m\u001b[0m\u001b[0m\n\u001b[0;32m--> 753\u001b[0;31m \u001b[0;34m\u001b[0m\u001b[0m\n\u001b[0m\u001b[1;32m    754\u001b[0m         \u001b[0mstr_lst\u001b[0m \u001b[0;34m=\u001b[0m \u001b[0;34m[\u001b[0m\u001b[0;34m]\u001b[0m\u001b[0;34m\u001b[0m\u001b[0m\n\u001b[1;32m    755\u001b[0m         \u001b[0mst\u001b[0m \u001b[0;34m=\u001b[0m \u001b[0;36m0\u001b[0m\u001b[0;34m\u001b[0m\u001b[0m\n",
      "\u001b[0;31mTypeError\u001b[0m: __init__() got an unexpected keyword argument 'max_rows'"
     ]
    },
    {
     "data": {
      "text/plain": [
       "      budget     revenue                                           overview  \\\n",
       "0  150000000  1513528810  Twenty-two years after the events of Jurassic ...   \n",
       "1  150000000   378436354  An apocalyptic story set in the furthest reach...   \n",
       "2  110000000   295238201  Beatrice Prior must confront her inner demons ...   \n",
       "3  200000000  2068178225  Thirty years after defeating the Galactic Empi...   \n",
       "4  190000000  1506249360  Deckard Shaw seeks revenge against Dominic Tor...   \n",
       "\n",
       "   runtime                                     genres  \\\n",
       "0      124  Action|Adventure|Science Fiction|Thriller   \n",
       "1      120  Action|Adventure|Science Fiction|Thriller   \n",
       "2      119         Adventure|Science Fiction|Thriller   \n",
       "3      136   Action|Adventure|Science Fiction|Fantasy   \n",
       "4      137                      Action|Crime|Thriller   \n",
       "\n",
       "                                production_companies release_date  vote_count  \\\n",
       "0  Universal Studios|Amblin Entertainment|Legenda...       6/9/15        5562   \n",
       "1  Village Roadshow Pictures|Kennedy Miller Produ...      5/13/15        6185   \n",
       "2  Summit Entertainment|Mandeville Films|Red Wago...      3/18/15        2480   \n",
       "3          Lucasfilm|Truenorth Productions|Bad Robot     12/15/15        5292   \n",
       "4  Universal Pictures|Original Film|Media Rights ...       4/1/15        2947   \n",
       "\n",
       "   vote_average  release_year    budget_adj   revenue_adj  \n",
       "0           6.5          2015  1.379999e+08  1.392446e+09  \n",
       "1           7.1          2015  1.379999e+08  3.481613e+08  \n",
       "2           6.3          2015  1.012000e+08  2.716190e+08  \n",
       "3           7.5          2015  1.839999e+08  1.902723e+09  \n",
       "4           7.3          2015  1.747999e+08  1.385749e+09  "
      ]
     },
     "execution_count": 15,
     "metadata": {},
     "output_type": "execute_result"
    }
   ],
   "source": [
    "df.head()"
   ]
  },
  {
   "cell_type": "code",
   "execution_count": 16,
   "metadata": {},
   "outputs": [
    {
     "data": {
      "text/plain": [
       "True"
      ]
     },
     "execution_count": 16,
     "metadata": {},
     "output_type": "execute_result"
    }
   ],
   "source": [
    "df.duplicated().any()"
   ]
  },
  {
   "cell_type": "code",
   "execution_count": 17,
   "metadata": {},
   "outputs": [
    {
     "data": {
      "text/plain": [
       "budget                     0\n",
       "revenue                    0\n",
       "overview                   4\n",
       "runtime                    0\n",
       "genres                    23\n",
       "production_companies    1030\n",
       "release_date               0\n",
       "vote_count                 0\n",
       "vote_average               0\n",
       "release_year               0\n",
       "budget_adj                 0\n",
       "revenue_adj                0\n",
       "dtype: int64"
      ]
     },
     "execution_count": 17,
     "metadata": {},
     "output_type": "execute_result"
    }
   ],
   "source": [
    "df.isnull().sum()"
   ]
  },
  {
   "cell_type": "code",
   "execution_count": 18,
   "metadata": {},
   "outputs": [
    {
     "data": {
      "text/plain": [
       "<bound method DataFrame.info of           budget     revenue  \\\n",
       "0      150000000  1513528810   \n",
       "1      150000000   378436354   \n",
       "2      110000000   295238201   \n",
       "3      200000000  2068178225   \n",
       "4      190000000  1506249360   \n",
       "5      135000000   532950503   \n",
       "6      155000000   440603537   \n",
       "7      108000000   595380321   \n",
       "8       74000000  1156730962   \n",
       "9      175000000   853708609   \n",
       "10     245000000   880674609   \n",
       "11     176000003   183987723   \n",
       "12      15000000    36869414   \n",
       "13      88000000   243637091   \n",
       "14     280000000  1405035767   \n",
       "15      44000000   155760117   \n",
       "16      48000000   325771424   \n",
       "17     130000000   518602163   \n",
       "18      95000000   542351353   \n",
       "19     160000000   650523427   \n",
       "20     190000000   209035668   \n",
       "21      30000000    91709827   \n",
       "22     110000000   470490832   \n",
       "23      40000000   569651467   \n",
       "24      28000000   133346506   \n",
       "25     150000000   682330139   \n",
       "26      68000000   215863606   \n",
       "27      81000000   403802136   \n",
       "28      20000000    88346473   \n",
       "29      61000000   311256926   \n",
       "...          ...         ...   \n",
       "10836          0           0   \n",
       "10837          0           0   \n",
       "10838          0           0   \n",
       "10839          0           0   \n",
       "10840          0           0   \n",
       "10841      75000           0   \n",
       "10842          0           0   \n",
       "10843          0           0   \n",
       "10844          0           0   \n",
       "10845          0           0   \n",
       "10846          0           0   \n",
       "10847          0           0   \n",
       "10848    5115000    12000000   \n",
       "10849          0           0   \n",
       "10850          0           0   \n",
       "10851          0           0   \n",
       "10852          0           0   \n",
       "10853          0           0   \n",
       "10854          0           0   \n",
       "10855     700000           0   \n",
       "10856          0           0   \n",
       "10857          0           0   \n",
       "10858          0           0   \n",
       "10859          0           0   \n",
       "10860          0           0   \n",
       "10861          0           0   \n",
       "10862          0           0   \n",
       "10863          0           0   \n",
       "10864          0           0   \n",
       "10865      19000           0   \n",
       "\n",
       "                                                overview  runtime  \\\n",
       "0      Twenty-two years after the events of Jurassic ...      124   \n",
       "1      An apocalyptic story set in the furthest reach...      120   \n",
       "2      Beatrice Prior must confront her inner demons ...      119   \n",
       "3      Thirty years after defeating the Galactic Empi...      136   \n",
       "4      Deckard Shaw seeks revenge against Dominic Tor...      137   \n",
       "5      In the 1820s, a frontiersman, Hugh Glass, sets...      156   \n",
       "6      The year is 2029. John Connor, leader of the r...      125   \n",
       "7      During a manned mission to Mars, Astronaut Mar...      141   \n",
       "8      Minions Stuart, Kevin and Bob are recruited by...       91   \n",
       "9      Growing up can be a bumpy road, and it's no ex...       94   \n",
       "10     A cryptic message from Bondâ€™s past sends him...      148   \n",
       "11     In a universe where human genetic material is ...      124   \n",
       "12     Caleb, a 26 year old coder at the world's larg...      108   \n",
       "13     Video game experts are recruited by the milita...      105   \n",
       "14     When Tony Stark tries to jumpstart a dormant p...      141   \n",
       "15     Bounty hunters seek shelter from a raging bliz...      167   \n",
       "16     Ex-government operative Bryan Mills finds his ...      109   \n",
       "17     Armed with the astonishing ability to shrink i...      115   \n",
       "18     When her father unexpectedly passes away, youn...      112   \n",
       "19     With the nation of Panem in a full scale war, ...      136   \n",
       "20     Bound by a shared destiny, a bright, optimisti...      130   \n",
       "21     Billy \"The Great\" Hope, the reigning junior mi...      123   \n",
       "22     In the aftermath of a massive earthquake in Ca...      114   \n",
       "23     When college senior Anastasia Steele steps in ...      125   \n",
       "24     The men who made millions from a global econom...      130   \n",
       "25     Ethan and team take on their most impossible m...      131   \n",
       "26     Newlywed couple Ted and Tami-Lynn want to have...      115   \n",
       "27     The story of a super-secret spy organization t...      130   \n",
       "28     The true story of how The Boston Globe uncover...      128   \n",
       "29     Thomas and his fellow Gladers face their great...      132   \n",
       "...                                                  ...      ...   \n",
       "10836  British industrialist Sir William Rutland - \"B...      114   \n",
       "10837  A young pilot in the German air force of 1918,...      156   \n",
       "10838  The Professionals is a 1966 American Western f...      117   \n",
       "10839  This classic \"Peanuts\" tale focuses on the thu...       25   \n",
       "10840  Colonel Stok, a Soviet intelligence officer re...      102   \n",
       "10841  A hired gun seeks to enact revenge on a group ...       82   \n",
       "10842  Christopher Robin's bear attempts to raid a be...       25   \n",
       "10843  English General Charles George Gordon, a devou...      134   \n",
       "10844  When scientists use eco-terrorism to impose th...      108   \n",
       "10845  Stodge City is in the grip of the Rumpo Kid an...       93   \n",
       "10846  Whilst vacationing in the Carpathian Mountain,...       90   \n",
       "10847  A small island community is overrun with creep...       89   \n",
       "10848  The science of miniaturization has been unlock...      100   \n",
       "10849  Harry Dean (Michael Caine) has a perfect plan ...      109   \n",
       "10850  Harper is a cynical private eye in the best tr...      121   \n",
       "10851  Born Free (1966) is an Open Road Films Ltd./Co...       95   \n",
       "10852  A naive traveler in Laredo gets involved in a ...       95   \n",
       "10853  The film tells the story of a young man who le...      114   \n",
       "10854  Most everyone in town thinks that Sheriff Cald...      135   \n",
       "10855  Luther Heggs aspires to being a reporter for h...       90   \n",
       "10856  The Garrisons (Dean Jones and Suzanne Pleshett...       93   \n",
       "10857  Nevada Smith is the young son of an Indian mot...      128   \n",
       "10858  Without hostile intent, a Soviet sub runs agro...      126   \n",
       "10859  A secret organisation offers wealthy people a ...      100   \n",
       "10860  The sinister Dr Watt has an evil scheme going....       87   \n",
       "10861  The Endless Summer, by Bruce Brown, is one of ...       95   \n",
       "10862  Grand Prix driver Pete Aron is fired by his te...      176   \n",
       "10863  An insurance agent who moonlights as a carthie...       94   \n",
       "10864  In comic Woody Allen's film debut, he took the...       80   \n",
       "10865  A family gets lost on the road and stumbles up...       74   \n",
       "\n",
       "                                                genres  \\\n",
       "0            Action|Adventure|Science Fiction|Thriller   \n",
       "1            Action|Adventure|Science Fiction|Thriller   \n",
       "2                   Adventure|Science Fiction|Thriller   \n",
       "3             Action|Adventure|Science Fiction|Fantasy   \n",
       "4                                Action|Crime|Thriller   \n",
       "5                     Western|Drama|Adventure|Thriller   \n",
       "6            Science Fiction|Action|Thriller|Adventure   \n",
       "7                      Drama|Adventure|Science Fiction   \n",
       "8                    Family|Animation|Adventure|Comedy   \n",
       "9                              Comedy|Animation|Family   \n",
       "10                              Action|Adventure|Crime   \n",
       "11            Science Fiction|Fantasy|Action|Adventure   \n",
       "12                               Drama|Science Fiction   \n",
       "13                       Action|Comedy|Science Fiction   \n",
       "14                    Action|Adventure|Science Fiction   \n",
       "15                         Crime|Drama|Mystery|Western   \n",
       "16                               Crime|Action|Thriller   \n",
       "17                    Science Fiction|Action|Adventure   \n",
       "18                        Romance|Fantasy|Family|Drama   \n",
       "19                       War|Adventure|Science Fiction   \n",
       "20     Action|Family|Science Fiction|Adventure|Mystery   \n",
       "21                                        Action|Drama   \n",
       "22                               Action|Drama|Thriller   \n",
       "23                                       Drama|Romance   \n",
       "24                                        Comedy|Drama   \n",
       "25                                              Action   \n",
       "26                                              Comedy   \n",
       "27                       Crime|Comedy|Action|Adventure   \n",
       "28                              Drama|Thriller|History   \n",
       "29                     Action|Science Fiction|Thriller   \n",
       "...                                                ...   \n",
       "10836                                   Comedy|Romance   \n",
       "10837                       War|Action|Adventure|Drama   \n",
       "10838                         Action|Adventure|Western   \n",
       "10839                                 Family|Animation   \n",
       "10840                                         Thriller   \n",
       "10841                                          Western   \n",
       "10842                                 Animation|Family   \n",
       "10843               Adventure|Drama|War|History|Action   \n",
       "10844         Adventure|Comedy|Fantasy|Science Fiction   \n",
       "10845                                   Comedy|Western   \n",
       "10846                                           Horror   \n",
       "10847                           Science Fiction|Horror   \n",
       "10848                        Adventure|Science Fiction   \n",
       "10849                              Action|Comedy|Crime   \n",
       "10850              Action|Drama|Thriller|Crime|Mystery   \n",
       "10851            Adventure|Drama|Action|Family|Foreign   \n",
       "10852                                          Western   \n",
       "10853                             Comedy|Drama|Romance   \n",
       "10854                             Thriller|Drama|Crime   \n",
       "10855                    Comedy|Family|Mystery|Romance   \n",
       "10856                              Comedy|Drama|Family   \n",
       "10857                                   Action|Western   \n",
       "10858                                       Comedy|War   \n",
       "10859           Mystery|Science Fiction|Thriller|Drama   \n",
       "10860                                           Comedy   \n",
       "10861                                      Documentary   \n",
       "10862                           Action|Adventure|Drama   \n",
       "10863                                   Mystery|Comedy   \n",
       "10864                                    Action|Comedy   \n",
       "10865                                           Horror   \n",
       "\n",
       "                                    production_companies release_date  \\\n",
       "0      Universal Studios|Amblin Entertainment|Legenda...       6/9/15   \n",
       "1      Village Roadshow Pictures|Kennedy Miller Produ...      5/13/15   \n",
       "2      Summit Entertainment|Mandeville Films|Red Wago...      3/18/15   \n",
       "3              Lucasfilm|Truenorth Productions|Bad Robot     12/15/15   \n",
       "4      Universal Pictures|Original Film|Media Rights ...       4/1/15   \n",
       "5      Regency Enterprises|Appian Way|CatchPlay|Anony...     12/25/15   \n",
       "6                Paramount Pictures|Skydance Productions      6/23/15   \n",
       "7      Twentieth Century Fox Film Corporation|Scott F...      9/30/15   \n",
       "8          Universal Pictures|Illumination Entertainment      6/17/15   \n",
       "9      Walt Disney Pictures|Pixar Animation Studios|W...       6/9/15   \n",
       "10                          Columbia Pictures|Danjaq|B24     10/26/15   \n",
       "11     Village Roadshow Pictures|Dune Entertainment|A...       2/4/15   \n",
       "12     DNA Films|Universal Pictures International (UP...      1/21/15   \n",
       "13           Columbia Pictures|Happy Madison Productions      7/16/15   \n",
       "14     Marvel Studios|Prime Focus|Revolution Sun Studios      4/22/15   \n",
       "15     Double Feature Films|The Weinstein Company|Fil...     12/25/15   \n",
       "16     Twentieth Century Fox Film Corporation|M6 Film...       1/1/15   \n",
       "17                                        Marvel Studios      7/14/15   \n",
       "18     Walt Disney Pictures|Genre Films|Beagle Pug Fi...      3/12/15   \n",
       "19     Studio Babelsberg|StudioCanal|Lionsgate|Walt D...     11/18/15   \n",
       "20                     Walt Disney Pictures|Babieka|A113      5/19/15   \n",
       "21               Escape Artists|Riche-Ludwig Productions      6/15/15   \n",
       "22     New Line Cinema|Village Roadshow Pictures|Warn...      5/27/15   \n",
       "23     Focus Features|Trigger Street Productions|Mich...      2/11/15   \n",
       "24     Paramount Pictures|Plan B Entertainment|Regenc...     12/11/15   \n",
       "25     Paramount Pictures|Skydance Productions|China ...      7/23/15   \n",
       "26     Universal Pictures|Media Rights Capital|Fuzzy ...      6/25/15   \n",
       "27     Twentieth Century Fox Film Corporation|Marv Fi...      1/24/15   \n",
       "28     Participant Media|Open Road Films|Anonymous Co...      11/6/15   \n",
       "29     Gotham Group|Temple Hill Entertainment|TSG Ent...       9/9/15   \n",
       "...                                                  ...          ...   \n",
       "10836                      Columbia Pictures Corporation       1/1/66   \n",
       "10837             Twentieth Century Fox Film Corporation      6/21/66   \n",
       "10838                                  Columbia Pictures      11/1/66   \n",
       "10839                            Warner Bros. Home Video     10/27/66   \n",
       "10840                        Lowndes Productions Limited     12/22/66   \n",
       "10841                                      Proteus Films     10/23/66   \n",
       "10842                                                NaN       1/1/66   \n",
       "10843                  Julian Blaustein Productions Ltd.       6/9/66   \n",
       "10844                                   20th Century Fox      1/16/66   \n",
       "10845                           Peter Rogers Productions       3/1/66   \n",
       "10846     Seven Arts Productions|Hammer Film Productions       1/9/66   \n",
       "10847                   Planet Film Productions|Protelco      6/20/66   \n",
       "10848             Twentieth Century Fox Film Corporation      8/24/66   \n",
       "10849                                 Universal Pictures     12/16/66   \n",
       "10850                                       Warner Bros.      2/23/66   \n",
       "10851                                          High Road      6/22/66   \n",
       "10852                              Eden Productions Inc.      5/31/66   \n",
       "10853                                                NaN      3/29/66   \n",
       "10854     Horizon Pictures|Columbia Pictures Corporation      2/17/66   \n",
       "10855                                 Universal Pictures      1/20/66   \n",
       "10856                               Walt Disney Pictures      2/16/66   \n",
       "10857  Paramount Pictures|Solar Productions|Embassy P...      6/10/66   \n",
       "10858                            The Mirisch Corporation      5/25/66   \n",
       "10859  Gibraltar Productions|Joel Productions|John Fr...      10/5/66   \n",
       "10860  Peter Rogers Productions|Anglo-Amalgamated Fil...      5/20/66   \n",
       "10861                                  Bruce Brown Films      6/15/66   \n",
       "10862  Cherokee Productions|Joel Productions|Douglas ...     12/21/66   \n",
       "10863                                            Mosfilm       1/1/66   \n",
       "10864                            Benedict Pictures Corp.      11/2/66   \n",
       "10865                                          Norm-Iris     11/15/66   \n",
       "\n",
       "       vote_count  vote_average  release_year    budget_adj   revenue_adj  \n",
       "0            5562           6.5          2015  1.379999e+08  1.392446e+09  \n",
       "1            6185           7.1          2015  1.379999e+08  3.481613e+08  \n",
       "2            2480           6.3          2015  1.012000e+08  2.716190e+08  \n",
       "3            5292           7.5          2015  1.839999e+08  1.902723e+09  \n",
       "4            2947           7.3          2015  1.747999e+08  1.385749e+09  \n",
       "5            3929           7.2          2015  1.241999e+08  4.903142e+08  \n",
       "6            2598           5.8          2015  1.425999e+08  4.053551e+08  \n",
       "7            4572           7.6          2015  9.935996e+07  5.477497e+08  \n",
       "8            2893           6.5          2015  6.807997e+07  1.064192e+09  \n",
       "9            3935           8.0          2015  1.609999e+08  7.854116e+08  \n",
       "10           3254           6.2          2015  2.253999e+08  8.102203e+08  \n",
       "11           1937           5.2          2015  1.619199e+08  1.692686e+08  \n",
       "12           2854           7.6          2015  1.379999e+07  3.391985e+07  \n",
       "13           1575           5.8          2015  8.095996e+07  2.241460e+08  \n",
       "14           4304           7.4          2015  2.575999e+08  1.292632e+09  \n",
       "15           2389           7.4          2015  4.047998e+07  1.432992e+08  \n",
       "16           1578           6.1          2015  4.415998e+07  2.997096e+08  \n",
       "17           3779           7.0          2015  1.195999e+08  4.771138e+08  \n",
       "18           1495           6.8          2015  8.739996e+07  4.989630e+08  \n",
       "19           2380           6.5          2015  1.471999e+08  5.984813e+08  \n",
       "20           1899           6.2          2015  1.747999e+08  1.923127e+08  \n",
       "21           1386           7.3          2015  2.759999e+07  8.437300e+07  \n",
       "22           2060           6.1          2015  1.012000e+08  4.328514e+08  \n",
       "23           1865           5.3          2015  3.679998e+07  5.240791e+08  \n",
       "24           1545           7.3          2015  2.575999e+07  1.226787e+08  \n",
       "25           2349           7.1          2015  1.379999e+08  6.277435e+08  \n",
       "26           1666           6.3          2015  6.255997e+07  1.985944e+08  \n",
       "27           3833           7.6          2015  7.451997e+07  3.714978e+08  \n",
       "28           1559           7.8          2015  1.839999e+07  8.127872e+07  \n",
       "29           1849           6.4          2015  5.611998e+07  2.863562e+08  \n",
       "...           ...           ...           ...           ...           ...  \n",
       "10836          11           5.8          1966  0.000000e+00  0.000000e+00  \n",
       "10837          12           5.5          1966  0.000000e+00  0.000000e+00  \n",
       "10838          21           6.0          1966  0.000000e+00  0.000000e+00  \n",
       "10839          49           7.2          1966  0.000000e+00  0.000000e+00  \n",
       "10840          13           5.7          1966  0.000000e+00  0.000000e+00  \n",
       "10841          12           5.5          1966  5.038511e+05  0.000000e+00  \n",
       "10842          12           7.9          1966  0.000000e+00  0.000000e+00  \n",
       "10843          12           5.8          1966  0.000000e+00  0.000000e+00  \n",
       "10844          13           5.6          1966  0.000000e+00  0.000000e+00  \n",
       "10845          15           5.9          1966  0.000000e+00  0.000000e+00  \n",
       "10846          16           5.7          1966  0.000000e+00  0.000000e+00  \n",
       "10847          13           5.3          1966  0.000000e+00  0.000000e+00  \n",
       "10848          42           6.7          1966  3.436265e+07  8.061618e+07  \n",
       "10849          14           6.1          1966  0.000000e+00  0.000000e+00  \n",
       "10850          14           6.0          1966  0.000000e+00  0.000000e+00  \n",
       "10851          15           6.6          1966  0.000000e+00  0.000000e+00  \n",
       "10852          11           6.0          1966  0.000000e+00  0.000000e+00  \n",
       "10853          26           6.2          1966  0.000000e+00  0.000000e+00  \n",
       "10854          17           6.0          1966  0.000000e+00  0.000000e+00  \n",
       "10855          14           6.1          1966  4.702610e+06  0.000000e+00  \n",
       "10856          14           5.7          1966  0.000000e+00  0.000000e+00  \n",
       "10857          10           5.9          1966  0.000000e+00  0.000000e+00  \n",
       "10858          11           5.5          1966  0.000000e+00  0.000000e+00  \n",
       "10859          22           6.6          1966  0.000000e+00  0.000000e+00  \n",
       "10860          13           7.0          1966  0.000000e+00  0.000000e+00  \n",
       "10861          11           7.4          1966  0.000000e+00  0.000000e+00  \n",
       "10862          20           5.7          1966  0.000000e+00  0.000000e+00  \n",
       "10863          11           6.5          1966  0.000000e+00  0.000000e+00  \n",
       "10864          22           5.4          1966  0.000000e+00  0.000000e+00  \n",
       "10865          15           1.5          1966  1.276423e+05  0.000000e+00  \n",
       "\n",
       "[10866 rows x 12 columns]>"
      ]
     },
     "execution_count": 18,
     "metadata": {},
     "output_type": "execute_result"
    }
   ],
   "source": [
    "df.fillna(df.mean(), inplace=True)\n",
    "df.info"
   ]
  },
  {
   "cell_type": "code",
   "execution_count": null,
   "metadata": {},
   "outputs": [],
   "source": []
  },
  {
   "cell_type": "code",
   "execution_count": 19,
   "metadata": {},
   "outputs": [
    {
     "data": {
      "text/plain": [
       "budget                  10866\n",
       "revenue                 10866\n",
       "overview                10862\n",
       "runtime                 10866\n",
       "genres                  10843\n",
       "production_companies     9836\n",
       "release_date            10866\n",
       "vote_count              10866\n",
       "vote_average            10866\n",
       "release_year            10866\n",
       "budget_adj              10866\n",
       "revenue_adj             10866\n",
       "dtype: int64"
      ]
     },
     "execution_count": 19,
     "metadata": {},
     "output_type": "execute_result"
    }
   ],
   "source": [
    "df.count()"
   ]
  },
  {
   "cell_type": "markdown",
   "metadata": {},
   "source": [
    "# I dropped the data that i don't need in the analysise after that i determined the  null values and replaced with average using (fillna and mean) code"
   ]
  },
  {
   "cell_type": "markdown",
   "metadata": {},
   "source": [
    "# # <li><a href=\"#eda\">Exploratory Data Analysis</a></li>"
   ]
  },
  {
   "cell_type": "code",
   "execution_count": 20,
   "metadata": {},
   "outputs": [],
   "source": [
    "df=df[df['runtime']>30]"
   ]
  },
  {
   "cell_type": "code",
   "execution_count": 21,
   "metadata": {},
   "outputs": [
    {
     "ename": "TypeError",
     "evalue": "__init__() got an unexpected keyword argument 'max_rows'",
     "output_type": "error",
     "traceback": [
      "\u001b[0;31m---------------------------------------------------------------------------\u001b[0m",
      "\u001b[0;31mTypeError\u001b[0m                                 Traceback (most recent call last)",
      "\u001b[0;32m/opt/conda/lib/python3.6/site-packages/IPython/core/formatters.py\u001b[0m in \u001b[0;36m__call__\u001b[0;34m(self, obj)\u001b[0m\n\u001b[1;32m    343\u001b[0m             \u001b[0mmethod\u001b[0m \u001b[0;34m=\u001b[0m \u001b[0mget_real_method\u001b[0m\u001b[0;34m(\u001b[0m\u001b[0mobj\u001b[0m\u001b[0;34m,\u001b[0m \u001b[0mself\u001b[0m\u001b[0;34m.\u001b[0m\u001b[0mprint_method\u001b[0m\u001b[0;34m)\u001b[0m\u001b[0;34m\u001b[0m\u001b[0m\n\u001b[1;32m    344\u001b[0m             \u001b[0;32mif\u001b[0m \u001b[0mmethod\u001b[0m \u001b[0;32mis\u001b[0m \u001b[0;32mnot\u001b[0m \u001b[0;32mNone\u001b[0m\u001b[0;34m:\u001b[0m\u001b[0;34m\u001b[0m\u001b[0m\n\u001b[0;32m--> 345\u001b[0;31m                 \u001b[0;32mreturn\u001b[0m \u001b[0mmethod\u001b[0m\u001b[0;34m(\u001b[0m\u001b[0;34m)\u001b[0m\u001b[0;34m\u001b[0m\u001b[0m\n\u001b[0m\u001b[1;32m    346\u001b[0m             \u001b[0;32mreturn\u001b[0m \u001b[0;32mNone\u001b[0m\u001b[0;34m\u001b[0m\u001b[0m\n\u001b[1;32m    347\u001b[0m         \u001b[0;32melse\u001b[0m\u001b[0;34m:\u001b[0m\u001b[0;34m\u001b[0m\u001b[0m\n",
      "\u001b[0;32m/opt/conda/lib/python3.6/site-packages/pandas/core/frame.py\u001b[0m in \u001b[0;36m_repr_html_\u001b[0;34m(self)\u001b[0m\n\u001b[1;32m    694\u001b[0m     \u001b[0;34m@\u001b[0m\u001b[0mSubstitution\u001b[0m\u001b[0;34m(\u001b[0m\u001b[0mshared_params\u001b[0m\u001b[0;34m=\u001b[0m\u001b[0mfmt\u001b[0m\u001b[0;34m.\u001b[0m\u001b[0mcommon_docstring\u001b[0m\u001b[0;34m,\u001b[0m \u001b[0mreturns\u001b[0m\u001b[0;34m=\u001b[0m\u001b[0mfmt\u001b[0m\u001b[0;34m.\u001b[0m\u001b[0mreturn_docstring\u001b[0m\u001b[0;34m)\u001b[0m\u001b[0;34m\u001b[0m\u001b[0m\n\u001b[1;32m    695\u001b[0m     def to_string(\n\u001b[0;32m--> 696\u001b[0;31m         \u001b[0mself\u001b[0m\u001b[0;34m,\u001b[0m\u001b[0;34m\u001b[0m\u001b[0m\n\u001b[0m\u001b[1;32m    697\u001b[0m         \u001b[0mbuf\u001b[0m\u001b[0;34m=\u001b[0m\u001b[0;32mNone\u001b[0m\u001b[0;34m,\u001b[0m\u001b[0;34m\u001b[0m\u001b[0m\n\u001b[1;32m    698\u001b[0m         \u001b[0mcolumns\u001b[0m\u001b[0;34m=\u001b[0m\u001b[0;32mNone\u001b[0m\u001b[0;34m,\u001b[0m\u001b[0;34m\u001b[0m\u001b[0m\n",
      "\u001b[0;32m/opt/conda/lib/python3.6/site-packages/pandas/core/frame.py\u001b[0m in \u001b[0;36mto_html\u001b[0;34m(self, buf, columns, col_space, header, index, na_rep, formatters, float_format, sparsify, index_names, justify, bold_rows, classes, escape, max_rows, max_cols, show_dimensions, notebook, decimal, border, table_id)\u001b[0m\n\u001b[1;32m   2035\u001b[0m             \u001b[0mDefault\u001b[0m \u001b[0;32mis\u001b[0m \u001b[0mlatin\u001b[0m\u001b[0;34m-\u001b[0m\u001b[0;36m1.\u001b[0m \u001b[0mUnicode\u001b[0m \u001b[0;32mis\u001b[0m \u001b[0;32mnot\u001b[0m \u001b[0msupported\u001b[0m\u001b[0;34m.\u001b[0m\u001b[0;34m\u001b[0m\u001b[0m\n\u001b[1;32m   2036\u001b[0m         \u001b[0mbyteorder\u001b[0m \u001b[0;34m:\u001b[0m \u001b[0mstr\u001b[0m\u001b[0;34m\u001b[0m\u001b[0m\n\u001b[0;32m-> 2037\u001b[0;31m             \u001b[0mCan\u001b[0m \u001b[0mbe\u001b[0m \u001b[0;34m\">\"\u001b[0m\u001b[0;34m,\u001b[0m \u001b[0;34m\"<\"\u001b[0m\u001b[0;34m,\u001b[0m \u001b[0;34m\"little\"\u001b[0m\u001b[0;34m,\u001b[0m \u001b[0;32mor\u001b[0m \u001b[0;34m\"big\"\u001b[0m\u001b[0;34m.\u001b[0m \u001b[0mdefault\u001b[0m \u001b[0;32mis\u001b[0m\u001b[0;31m \u001b[0m\u001b[0;31m`\u001b[0m\u001b[0msys\u001b[0m\u001b[0;34m.\u001b[0m\u001b[0mbyteorder\u001b[0m\u001b[0;31m`\u001b[0m\u001b[0;34m.\u001b[0m\u001b[0;34m\u001b[0m\u001b[0m\n\u001b[0m\u001b[1;32m   2038\u001b[0m         \u001b[0mtime_stamp\u001b[0m \u001b[0;34m:\u001b[0m \u001b[0mdatetime\u001b[0m\u001b[0;34m\u001b[0m\u001b[0m\n\u001b[1;32m   2039\u001b[0m             \u001b[0mA\u001b[0m \u001b[0mdatetime\u001b[0m \u001b[0mto\u001b[0m \u001b[0muse\u001b[0m \u001b[0;32mas\u001b[0m \u001b[0mfile\u001b[0m \u001b[0mcreation\u001b[0m \u001b[0mdate\u001b[0m\u001b[0;34m.\u001b[0m  \u001b[0mDefault\u001b[0m \u001b[0;32mis\u001b[0m \u001b[0mthe\u001b[0m \u001b[0mcurrent\u001b[0m\u001b[0;34m\u001b[0m\u001b[0m\n",
      "\u001b[0;32m/opt/conda/lib/python3.6/site-packages/pandas/io/formats/format.py\u001b[0m in \u001b[0;36mto_html\u001b[0;34m(self, classes, notebook, border)\u001b[0m\n\u001b[1;32m    751\u001b[0m         \u001b[0;32melse\u001b[0m\u001b[0;34m:\u001b[0m\u001b[0;34m\u001b[0m\u001b[0m\n\u001b[1;32m    752\u001b[0m             \u001b[0mnrows\u001b[0m \u001b[0;34m=\u001b[0m \u001b[0mlen\u001b[0m\u001b[0;34m(\u001b[0m\u001b[0mself\u001b[0m\u001b[0;34m.\u001b[0m\u001b[0mframe\u001b[0m\u001b[0;34m)\u001b[0m\u001b[0;34m\u001b[0m\u001b[0m\n\u001b[0;32m--> 753\u001b[0;31m \u001b[0;34m\u001b[0m\u001b[0m\n\u001b[0m\u001b[1;32m    754\u001b[0m         \u001b[0mstr_lst\u001b[0m \u001b[0;34m=\u001b[0m \u001b[0;34m[\u001b[0m\u001b[0;34m]\u001b[0m\u001b[0;34m\u001b[0m\u001b[0m\n\u001b[1;32m    755\u001b[0m         \u001b[0mst\u001b[0m \u001b[0;34m=\u001b[0m \u001b[0;36m0\u001b[0m\u001b[0;34m\u001b[0m\u001b[0m\n",
      "\u001b[0;31mTypeError\u001b[0m: __init__() got an unexpected keyword argument 'max_rows'"
     ]
    },
    {
     "data": {
      "text/plain": [
       "             budget       revenue       runtime    vote_count  vote_average  \\\n",
       "count  1.062500e+04  1.062500e+04  10625.000000  10625.000000  10625.000000   \n",
       "mean   1.494997e+07  4.072463e+07    104.133082    221.196988      5.959699   \n",
       "std    3.118046e+07  1.181681e+08     28.521654    581.459197      0.930510   \n",
       "min    0.000000e+00  0.000000e+00     31.000000     10.000000      1.500000   \n",
       "25%    0.000000e+00  0.000000e+00     90.000000     17.000000      5.400000   \n",
       "50%    0.000000e+00  0.000000e+00     99.000000     39.000000      6.000000   \n",
       "75%    1.600000e+07  2.550451e+07    112.000000    149.000000      6.600000   \n",
       "max    4.250000e+08  2.781506e+09    900.000000   9767.000000      9.200000   \n",
       "\n",
       "       release_year    budget_adj   revenue_adj  \n",
       "count  10625.000000  1.062500e+04  1.062500e+04  \n",
       "mean    2001.226071  1.794059e+07  5.252510e+07  \n",
       "std       12.819909  3.458879e+07  1.460552e+08  \n",
       "min     1960.000000  0.000000e+00  0.000000e+00  \n",
       "25%     1994.000000  0.000000e+00  0.000000e+00  \n",
       "50%     2005.000000  0.000000e+00  0.000000e+00  \n",
       "75%     2011.000000  2.163338e+07  3.541344e+07  \n",
       "max     2015.000000  4.250000e+08  2.827124e+09  "
      ]
     },
     "execution_count": 21,
     "metadata": {},
     "output_type": "execute_result"
    }
   ],
   "source": [
    "df.describe()"
   ]
  },
  {
   "cell_type": "code",
   "execution_count": 22,
   "metadata": {},
   "outputs": [],
   "source": [
    "plt.style.use('bmh')"
   ]
  },
  {
   "cell_type": "markdown",
   "metadata": {},
   "source": [
    "# Now will answer the following 2 Quastins :\n",
    "\n",
    "# Which movie is longest runtime?\n",
    "\n",
    "# Which movie  is the shortest runtime ?\n"
   ]
  },
  {
   "cell_type": "code",
   "execution_count": 23,
   "metadata": {},
   "outputs": [
    {
     "data": {
      "image/png": "[encoded data removed]",
      "text/plain": [
       "<matplotlib.figure.Figure at 0x7f56a444fe48>"
      ]
     },
     "metadata": {
      "needs_background": "light"
     },
     "output_type": "display_data"
    }
   ],
   "source": [
    "ax = sns.countplot(x=df.runtime, data=df)\n",
    "ax.set_title(\"the run time analysis\")\n",
    "plt.show()"
   ]
  },
  {
   "cell_type": "markdown",
   "metadata": {},
   "source": [
    "\n",
    "# which movie  is the LONGEST runtime ?\n"
   ]
  },
  {
   "cell_type": "code",
   "execution_count": 25,
   "metadata": {},
   "outputs": [
    {
     "ename": "AttributeError",
     "evalue": "'DataFrame' object has no attribute 'original_title'",
     "output_type": "error",
     "traceback": [
      "\u001b[0;31m---------------------------------------------------------------------------\u001b[0m",
      "\u001b[0;31mAttributeError\u001b[0m                            Traceback (most recent call last)",
      "\u001b[0;32m<ipython-input-25-32a7cdcdcafc>\u001b[0m in \u001b[0;36m<module>\u001b[0;34m()\u001b[0m\n\u001b[0;32m----> 1\u001b[0;31m \u001b[0mprint\u001b[0m\u001b[0;34m(\u001b[0m\u001b[0mdf\u001b[0m\u001b[0;34m.\u001b[0m\u001b[0moriginal_title\u001b[0m\u001b[0;34m[\u001b[0m\u001b[0mdf\u001b[0m\u001b[0;34m.\u001b[0m\u001b[0mruntime\u001b[0m\u001b[0;34m==\u001b[0m\u001b[0mdf\u001b[0m\u001b[0;34m.\u001b[0m\u001b[0mruntime\u001b[0m\u001b[0;34m.\u001b[0m\u001b[0mmax\u001b[0m\u001b[0;34m(\u001b[0m\u001b[0;34m)\u001b[0m\u001b[0;34m]\u001b[0m\u001b[0;34m)\u001b[0m\u001b[0;34m\u001b[0m\u001b[0m\n\u001b[0m\u001b[1;32m      2\u001b[0m \u001b[0mprint\u001b[0m\u001b[0;34m(\u001b[0m\u001b[0mdf\u001b[0m\u001b[0;34m.\u001b[0m\u001b[0mruntime\u001b[0m\u001b[0;34m[\u001b[0m\u001b[0mdf\u001b[0m\u001b[0;34m.\u001b[0m\u001b[0mruntime\u001b[0m\u001b[0;34m==\u001b[0m\u001b[0mdf\u001b[0m\u001b[0;34m.\u001b[0m\u001b[0mruntime\u001b[0m\u001b[0;34m.\u001b[0m\u001b[0mmax\u001b[0m\u001b[0;34m(\u001b[0m\u001b[0;34m)\u001b[0m\u001b[0;34m]\u001b[0m\u001b[0;34m)\u001b[0m\u001b[0;34m\u001b[0m\u001b[0m\n",
      "\u001b[0;32m/opt/conda/lib/python3.6/site-packages/pandas/core/generic.py\u001b[0m in \u001b[0;36m__getattr__\u001b[0;34m(self, name)\u001b[0m\n\u001b[1;32m   4374\u001b[0m         \u001b[0mComodo\u001b[0m \u001b[0mDragon\u001b[0m            \u001b[0;36m0\u001b[0m           \u001b[0;36m0.00\u001b[0m\u001b[0;34m\u001b[0m\u001b[0m\n\u001b[1;32m   4375\u001b[0m         \u001b[0mIE10\u001b[0m                   \u001b[0;36m404\u001b[0m           \u001b[0;36m0.08\u001b[0m\u001b[0;34m\u001b[0m\u001b[0m\n\u001b[0;32m-> 4376\u001b[0;31m         \u001b[0mChrome\u001b[0m                 \u001b[0;36m200\u001b[0m           \u001b[0;36m0.02\u001b[0m\u001b[0;34m\u001b[0m\u001b[0m\n\u001b[0m\u001b[1;32m   4377\u001b[0m \u001b[0;34m\u001b[0m\u001b[0m\n\u001b[1;32m   4378\u001b[0m         \u001b[0;34m>>\u001b[0m\u001b[0;34m>\u001b[0m \u001b[0mdf\u001b[0m\u001b[0;34m.\u001b[0m\u001b[0mreindex\u001b[0m\u001b[0;34m(\u001b[0m\u001b[0mnew_index\u001b[0m\u001b[0;34m,\u001b[0m \u001b[0mfill_value\u001b[0m\u001b[0;34m=\u001b[0m\u001b[0;34m'missing'\u001b[0m\u001b[0;34m)\u001b[0m\u001b[0;34m\u001b[0m\u001b[0m\n",
      "\u001b[0;31mAttributeError\u001b[0m: 'DataFrame' object has no attribute 'original_title'"
     ]
    }
   ],
   "source": [
    "print(df.original_title[df.runtime==df.runtime.max()])\n",
    "print(df.runtime[df.runtime==df.runtime.max()])"
   ]
  },
  {
   "cell_type": "markdown",
   "metadata": {},
   "source": [
    "# which movie  is the SHORTEST runtime ?"
   ]
  },
  {
   "cell_type": "code",
   "execution_count": 26,
   "metadata": {},
   "outputs": [
    {
     "ename": "AttributeError",
     "evalue": "'DataFrame' object has no attribute 'original_title'",
     "output_type": "error",
     "traceback": [
      "\u001b[0;31m---------------------------------------------------------------------------\u001b[0m",
      "\u001b[0;31mAttributeError\u001b[0m                            Traceback (most recent call last)",
      "\u001b[0;32m<ipython-input-26-91ab1b8b932e>\u001b[0m in \u001b[0;36m<module>\u001b[0;34m()\u001b[0m\n\u001b[0;32m----> 1\u001b[0;31m \u001b[0mprint\u001b[0m\u001b[0;34m(\u001b[0m\u001b[0mdf\u001b[0m\u001b[0;34m.\u001b[0m\u001b[0moriginal_title\u001b[0m\u001b[0;34m[\u001b[0m\u001b[0mdf\u001b[0m\u001b[0;34m.\u001b[0m\u001b[0mruntime\u001b[0m\u001b[0;34m==\u001b[0m\u001b[0mdf\u001b[0m\u001b[0;34m.\u001b[0m\u001b[0mruntime\u001b[0m\u001b[0;34m.\u001b[0m\u001b[0mmin\u001b[0m\u001b[0;34m(\u001b[0m\u001b[0;34m)\u001b[0m\u001b[0;34m]\u001b[0m\u001b[0;34m)\u001b[0m\u001b[0;34m\u001b[0m\u001b[0m\n\u001b[0m\u001b[1;32m      2\u001b[0m \u001b[0mprint\u001b[0m\u001b[0;34m(\u001b[0m\u001b[0mdf\u001b[0m\u001b[0;34m.\u001b[0m\u001b[0mruntime\u001b[0m\u001b[0;34m[\u001b[0m\u001b[0mdf\u001b[0m\u001b[0;34m.\u001b[0m\u001b[0mruntime\u001b[0m\u001b[0;34m==\u001b[0m\u001b[0mdf\u001b[0m\u001b[0;34m.\u001b[0m\u001b[0mruntime\u001b[0m\u001b[0;34m.\u001b[0m\u001b[0mmin\u001b[0m\u001b[0;34m(\u001b[0m\u001b[0;34m)\u001b[0m\u001b[0;34m]\u001b[0m\u001b[0;34m)\u001b[0m\u001b[0;34m\u001b[0m\u001b[0m\n",
      "\u001b[0;32m/opt/conda/lib/python3.6/site-packages/pandas/core/generic.py\u001b[0m in \u001b[0;36m__getattr__\u001b[0;34m(self, name)\u001b[0m\n\u001b[1;32m   4374\u001b[0m         \u001b[0mComodo\u001b[0m \u001b[0mDragon\u001b[0m            \u001b[0;36m0\u001b[0m           \u001b[0;36m0.00\u001b[0m\u001b[0;34m\u001b[0m\u001b[0m\n\u001b[1;32m   4375\u001b[0m         \u001b[0mIE10\u001b[0m                   \u001b[0;36m404\u001b[0m           \u001b[0;36m0.08\u001b[0m\u001b[0;34m\u001b[0m\u001b[0m\n\u001b[0;32m-> 4376\u001b[0;31m         \u001b[0mChrome\u001b[0m                 \u001b[0;36m200\u001b[0m           \u001b[0;36m0.02\u001b[0m\u001b[0;34m\u001b[0m\u001b[0m\n\u001b[0m\u001b[1;32m   4377\u001b[0m \u001b[0;34m\u001b[0m\u001b[0m\n\u001b[1;32m   4378\u001b[0m         \u001b[0;34m>>\u001b[0m\u001b[0;34m>\u001b[0m \u001b[0mdf\u001b[0m\u001b[0;34m.\u001b[0m\u001b[0mreindex\u001b[0m\u001b[0;34m(\u001b[0m\u001b[0mnew_index\u001b[0m\u001b[0;34m,\u001b[0m \u001b[0mfill_value\u001b[0m\u001b[0;34m=\u001b[0m\u001b[0;34m'missing'\u001b[0m\u001b[0;34m)\u001b[0m\u001b[0;34m\u001b[0m\u001b[0m\n",
      "\u001b[0;31mAttributeError\u001b[0m: 'DataFrame' object has no attribute 'original_title'"
     ]
    }
   ],
   "source": [
    "print(df.original_title[df.runtime==df.runtime.min()])\n",
    "print(df.runtime[df.runtime==df.runtime.min()])"
   ]
  },
  {
   "cell_type": "markdown",
   "metadata": {},
   "source": [
    "# I determined the longest and the shortest movie frome the maximum and minimum code for runtime variable and i used the hitogame"
   ]
  },
  {
   "cell_type": "code",
   "execution_count": null,
   "metadata": {},
   "outputs": [],
   "source": [
    "ax = sns.countplot(x=df.revenue_adj, data=df)\n",
    "ax.set_title(\"revenue analysis\")\n",
    "plt.show()"
   ]
  },
  {
   "cell_type": "markdown",
   "metadata": {},
   "source": [
    "#  I will answer the following QS\n",
    "\n",
    "# which movie is highs REVNUE?\n",
    "# avatar is the highst revnue\n",
    "  \n",
    "# which movie is LOWEST REVNUE?\n",
    "# warrior way is the lowest one\n"
   ]
  },
  {
   "cell_type": "code",
   "execution_count": 28,
   "metadata": {},
   "outputs": [
    {
     "ename": "AttributeError",
     "evalue": "'DataFrame' object has no attribute 'original_title'",
     "output_type": "error",
     "traceback": [
      "\u001b[0;31m---------------------------------------------------------------------------\u001b[0m",
      "\u001b[0;31mAttributeError\u001b[0m                            Traceback (most recent call last)",
      "\u001b[0;32m<ipython-input-28-a9b88b8bd71d>\u001b[0m in \u001b[0;36m<module>\u001b[0;34m()\u001b[0m\n\u001b[0;32m----> 1\u001b[0;31m \u001b[0mprint\u001b[0m\u001b[0;34m(\u001b[0m\u001b[0mdf\u001b[0m\u001b[0;34m.\u001b[0m\u001b[0moriginal_title\u001b[0m\u001b[0;34m[\u001b[0m\u001b[0mdf\u001b[0m\u001b[0;34m.\u001b[0m\u001b[0mrevenue\u001b[0m\u001b[0;34m==\u001b[0m\u001b[0mdf\u001b[0m\u001b[0;34m.\u001b[0m\u001b[0mrevenue\u001b[0m\u001b[0;34m.\u001b[0m\u001b[0mmin\u001b[0m\u001b[0;34m(\u001b[0m\u001b[0;34m)\u001b[0m\u001b[0;34m]\u001b[0m\u001b[0;34m)\u001b[0m\u001b[0;34m\u001b[0m\u001b[0m\n\u001b[0m\u001b[1;32m      2\u001b[0m \u001b[0mprint\u001b[0m\u001b[0;34m(\u001b[0m\u001b[0mdf\u001b[0m\u001b[0;34m.\u001b[0m\u001b[0mrevenue\u001b[0m\u001b[0;34m[\u001b[0m\u001b[0mdf\u001b[0m\u001b[0;34m.\u001b[0m\u001b[0mrevenue\u001b[0m\u001b[0;34m==\u001b[0m\u001b[0mdf\u001b[0m\u001b[0;34m.\u001b[0m\u001b[0mrevenue\u001b[0m\u001b[0;34m.\u001b[0m\u001b[0mmin\u001b[0m\u001b[0;34m(\u001b[0m\u001b[0;34m)\u001b[0m\u001b[0;34m]\u001b[0m\u001b[0;34m)\u001b[0m\u001b[0;34m\u001b[0m\u001b[0m\n",
      "\u001b[0;32m/opt/conda/lib/python3.6/site-packages/pandas/core/generic.py\u001b[0m in \u001b[0;36m__getattr__\u001b[0;34m(self, name)\u001b[0m\n\u001b[1;32m   4374\u001b[0m         \u001b[0mComodo\u001b[0m \u001b[0mDragon\u001b[0m            \u001b[0;36m0\u001b[0m           \u001b[0;36m0.00\u001b[0m\u001b[0;34m\u001b[0m\u001b[0m\n\u001b[1;32m   4375\u001b[0m         \u001b[0mIE10\u001b[0m                   \u001b[0;36m404\u001b[0m           \u001b[0;36m0.08\u001b[0m\u001b[0;34m\u001b[0m\u001b[0m\n\u001b[0;32m-> 4376\u001b[0;31m         \u001b[0mChrome\u001b[0m                 \u001b[0;36m200\u001b[0m           \u001b[0;36m0.02\u001b[0m\u001b[0;34m\u001b[0m\u001b[0m\n\u001b[0m\u001b[1;32m   4377\u001b[0m \u001b[0;34m\u001b[0m\u001b[0m\n\u001b[1;32m   4378\u001b[0m         \u001b[0;34m>>\u001b[0m\u001b[0;34m>\u001b[0m \u001b[0mdf\u001b[0m\u001b[0;34m.\u001b[0m\u001b[0mreindex\u001b[0m\u001b[0;34m(\u001b[0m\u001b[0mnew_index\u001b[0m\u001b[0;34m,\u001b[0m \u001b[0mfill_value\u001b[0m\u001b[0;34m=\u001b[0m\u001b[0;34m'missing'\u001b[0m\u001b[0;34m)\u001b[0m\u001b[0;34m\u001b[0m\u001b[0m\n",
      "\u001b[0;31mAttributeError\u001b[0m: 'DataFrame' object has no attribute 'original_title'"
     ]
    }
   ],
   "source": [
    "print(df.original_title[df.revenue_adj==df.revenue_adj.min()])\n",
    "print(df.revenue_adj[df.revenue_adj==df.revenue_adj.min()])"
   ]
  },
  {
   "cell_type": "code",
   "execution_count": null,
   "metadata": {},
   "outputs": [],
   "source": [
    "print(df.original_title[df.revenue_adj==df.revenue_adj.max()])\n",
    "print(df.revenue_adj[df.revenue_adj==df.revenue_adj.max()])"
   ]
  },
  {
   "cell_type": "markdown",
   "metadata": {},
   "source": [
    "# ADDATIONAL ANALYSIS ABOUT VOTING .\n",
    "\n",
    "# Inception got the highest voting\n"
   ]
  },
  {
   "cell_type": "code",
   "execution_count": null,
   "metadata": {},
   "outputs": [],
   "source": [
    "print(df.original_title[df.vote_count==df.vote_count.max()])\n",
    "print(df.vote_count[df.vote_count==df.vote_count.max()])"
   ]
  },
  {
   "cell_type": "code",
   "execution_count": null,
   "metadata": {},
   "outputs": [],
   "source": [
    "print(df.original_title[df.vote_count==df.vote_count.min()])\n",
    "print(df.vote_count[df.vote_count==df.vote_count.min()])"
   ]
  },
  {
   "cell_type": "code",
   "execution_count": 29,
   "metadata": {},
   "outputs": [
    {
     "data": {
      "image/png": "[encoded data removed]",
      "text/plain": [
       "<matplotlib.figure.Figure at 0x7f56a71bd4e0>"
      ]
     },
     "metadata": {
      "needs_background": "light"
     },
     "output_type": "display_data"
    }
   ],
   "source": [
    "ax = sns.countplot(x=df.revenue, data=df)\n",
    "ax.set_title(\"revenue analysis\")\n",
    "plt.show()"
   ]
  },
  {
   "cell_type": "code",
   "execution_count": 30,
   "metadata": {},
   "outputs": [
    {
     "data": {
      "image/png": "[encoded data removed]",
      "text/plain": [
       "<matplotlib.figure.Figure at 0x7f5698290748>"
      ]
     },
     "metadata": {
      "needs_background": "light"
     },
     "output_type": "display_data"
    }
   ],
   "source": [
    "df.hist(figsize=(20,10));"
   ]
  },
  {
   "cell_type": "code",
   "execution_count": null,
   "metadata": {},
   "outputs": [],
   "source": [
    "plt.figure(figsize=(16,2))\n",
    "plt.xticks(rotation=90)\n",
    "_ = sns.boxplot(x=df.vote_average)\n",
    "plt.figure(figsize=(16,4))\n",
    "plt.xticks(rotation=90)\n",
    "ax = sns.countplot(x=np.sort(df.revenue_adj))\n",
    "ax.set_title(\"vot&revnue\")\n",
    "plt.show()"
   ]
  },
  {
   "cell_type": "code",
   "execution_count": null,
   "metadata": {},
   "outputs": [],
   "source": [
    "dp=df['production_companies'].str.get_dummies(sep='l')"
   ]
  },
  {
   "cell_type": "code",
   "execution_count": null,
   "metadata": {},
   "outputs": [],
   "source": [
    "dpc=dp[dp.columns].apply(lambda x: sum(x.values))"
   ]
  },
  {
   "cell_type": "code",
   "execution_count": null,
   "metadata": {},
   "outputs": [],
   "source": [
    "pdc.sort_values(0,ascending=False).head(12).plot.pie(outopct='%1.1f',frame=True)\n",
    "plt.show()"
   ]
  },
  {
   "cell_type": "code",
   "execution_count": null,
   "metadata": {},
   "outputs": [],
   "source": []
  },
  {
   "cell_type": "markdown",
   "metadata": {},
   "source": [
    "#  \"Conclusion\"\n",
    "# I startred my project with importing  libraries and extracted the data from csv file after that  made the next steps \n",
    "# data wrangling \n",
    "# cleaning data\n",
    "# visuliza and analyze data \n",
    "# answering the questins \n",
    "# in the end i got the folowing conclosion :\n",
    "\n",
    "\n",
    "# avatar is the highest revenue  \n",
    "# The warrior way is the lowest one\n",
    "\n",
    "# An Odyssey is the longest runtime\n",
    "\n",
    "# The Kung Fury is the shortest one\n"
   ]
  },
  {
   "cell_type": "markdown",
   "metadata": {},
   "source": [
    "# limitations\n",
    "- there isn't a clear relation between budget  and revenue (the movie with highest revenue not the movie of the highst budget)\n",
    "- there isn't a clear relation between voting and revenue  (the movie with highest revenue not the movie of the highst voting )"
   ]
  },
  {
   "cell_type": "code",
   "execution_count": null,
   "metadata": {},
   "outputs": [],
   "source": [
    "from subprocess import call\n",
    "call(['python', '-m', 'nbconvert', 'Investigate_a_Dataset.ipynb'])"
   ]
  },
  {
   "cell_type": "code",
   "execution_count": null,
   "metadata": {},
   "outputs": [],
   "source": []
  }
 ],
 "metadata": {
  "kernelspec": {
   "display_name": "Python 3",
   "language": "python",
   "name": "python3"
  },
  "language_info": {
   "codemirror_mode": {
    "name": "ipython",
    "version": 3
   },
   "file_extension": ".py",
   "mimetype": "text/x-python",
   "name": "python",
   "nbconvert_exporter": "python",
   "pygments_lexer": "ipython3",
   "version": "3.6.3"
  }
 },
 "nbformat": 4,
 "nbformat_minor": 2
}
