{
 "cells": [
  {
   "cell_type": "markdown",
   "metadata": {},
   "source": [
    "\n",
    "# Project: Investigate a Dataset (TMDb movie data)\n",
    "\n",
    "## Table of Contents\n",
    "<ul>\n",
    "<li><a href=\"#intro\">Introduction</a></li>\n",
    "<li><a href=\"#wrangling\">Data Wrangling</a></li>\n",
    "<li><a href=\"#eda\">Exploratory Data Analysis</a></li>\n",
    "<li><a href=\"#conclusions\">Conclusions</a></li>\n",
    "</ul>"
   ]
  },
  {
   "cell_type": "markdown",
   "metadata": {},
   "source": [
    "<a id='intro'></a>\n",
    "## Introduction\n",
    "\n",
    "In that study, the dataset of the movies released between 1966 and 2015 will be investigated by considering the user/watcher ratings and profits to the movie makers depending on the movie genres. Additionally, the popularity of the genres between around 10000 movies will be demonstrated from past to today 49 years along in the light of the .csv document obtained from Kaggle. \n",
    "\n",
    "The analysis will focus on finding the answers to the question below:\n",
    "\n",
    "    1. How does the amount of the movies change from past to today?\n",
    "    2. How does the runtime change year by year?\n",
    "    3. Which genres are preferred to be filmed mostly? How does the genre distribution change among the top rated films?\n",
    "    4. What is the relation between budget and profit in movie sector?\n",
    "\n",
    "Let' s start by adding the libraries for panda, numpy and matplot which are required to investigate the .csv dataset. This will enable us to analyze the data and visualize the findings to give answers to the questions above. \n"
   ]
  },
  {
   "cell_type": "code",
   "execution_count": 134,
   "metadata": {},
   "outputs": [],
   "source": [
    "import pandas as pd\n",
    "import numpy as np\n",
    "import matplotlib.pyplot as plt\n",
    "% matplotlib inline\n",
    "\n",
    "import seaborn as sns\n"
   ]
  },
  {
   "cell_type": "markdown",
   "metadata": {},
   "source": [
    "<a id='wrangling'></a>\n",
    "## Data Wrangling\n",
    "\n",
    "\n",
    "### General Properties"
   ]
  },
  {
   "cell_type": "markdown",
   "metadata": {
    "collapsed": true
   },
   "source": [
    "Hier first, we read the already uploaded TMDB movie dataset .csv file and check how the read document seem with \"df.head\" command."
   ]
  },
  {
   "cell_type": "code",
   "execution_count": 135,
   "metadata": {},
   "outputs": [
    {
     "data": {
      "text/html": [
       "<div>\n",
       "<style scoped>\n",
       "    .dataframe tbody tr th:only-of-type {\n",
       "        vertical-align: middle;\n",
       "    }\n",
       "\n",
       "    .dataframe tbody tr th {\n",
       "        vertical-align: top;\n",
       "    }\n",
       "\n",
       "    .dataframe thead th {\n",
       "        text-align: right;\n",
       "    }\n",
       "</style>\n",
       "<table border=\"1\" class=\"dataframe\">\n",
       "  <thead>\n",
       "    <tr style=\"text-align: right;\">\n",
       "      <th></th>\n",
       "      <th>id</th>\n",
       "      <th>imdb_id</th>\n",
       "      <th>popularity</th>\n",
       "      <th>budget</th>\n",
       "      <th>revenue</th>\n",
       "      <th>original_title</th>\n",
       "      <th>cast</th>\n",
       "      <th>homepage</th>\n",
       "      <th>director</th>\n",
       "      <th>tagline</th>\n",
       "      <th>...</th>\n",
       "      <th>overview</th>\n",
       "      <th>runtime</th>\n",
       "      <th>genres</th>\n",
       "      <th>production_companies</th>\n",
       "      <th>release_date</th>\n",
       "      <th>vote_count</th>\n",
       "      <th>vote_average</th>\n",
       "      <th>release_year</th>\n",
       "      <th>budget_adj</th>\n",
       "      <th>revenue_adj</th>\n",
       "    </tr>\n",
       "  </thead>\n",
       "  <tbody>\n",
       "    <tr>\n",
       "      <th>0</th>\n",
       "      <td>135397</td>\n",
       "      <td>tt0369610</td>\n",
       "      <td>32.985763</td>\n",
       "      <td>150000000</td>\n",
       "      <td>1513528810</td>\n",
       "      <td>Jurassic World</td>\n",
       "      <td>Chris Pratt|Bryce Dallas Howard|Irrfan Khan|Vi...</td>\n",
       "      <td>http://www.jurassicworld.com/</td>\n",
       "      <td>Colin Trevorrow</td>\n",
       "      <td>The park is open.</td>\n",
       "      <td>...</td>\n",
       "      <td>Twenty-two years after the events of Jurassic ...</td>\n",
       "      <td>124</td>\n",
       "      <td>Action|Adventure|Science Fiction|Thriller</td>\n",
       "      <td>Universal Studios|Amblin Entertainment|Legenda...</td>\n",
       "      <td>6/9/15</td>\n",
       "      <td>5562</td>\n",
       "      <td>6.5</td>\n",
       "      <td>2015</td>\n",
       "      <td>1.379999e+08</td>\n",
       "      <td>1.392446e+09</td>\n",
       "    </tr>\n",
       "    <tr>\n",
       "      <th>1</th>\n",
       "      <td>76341</td>\n",
       "      <td>tt1392190</td>\n",
       "      <td>28.419936</td>\n",
       "      <td>150000000</td>\n",
       "      <td>378436354</td>\n",
       "      <td>Mad Max: Fury Road</td>\n",
       "      <td>Tom Hardy|Charlize Theron|Hugh Keays-Byrne|Nic...</td>\n",
       "      <td>http://www.madmaxmovie.com/</td>\n",
       "      <td>George Miller</td>\n",
       "      <td>What a Lovely Day.</td>\n",
       "      <td>...</td>\n",
       "      <td>An apocalyptic story set in the furthest reach...</td>\n",
       "      <td>120</td>\n",
       "      <td>Action|Adventure|Science Fiction|Thriller</td>\n",
       "      <td>Village Roadshow Pictures|Kennedy Miller Produ...</td>\n",
       "      <td>5/13/15</td>\n",
       "      <td>6185</td>\n",
       "      <td>7.1</td>\n",
       "      <td>2015</td>\n",
       "      <td>1.379999e+08</td>\n",
       "      <td>3.481613e+08</td>\n",
       "    </tr>\n",
       "    <tr>\n",
       "      <th>2</th>\n",
       "      <td>262500</td>\n",
       "      <td>tt2908446</td>\n",
       "      <td>13.112507</td>\n",
       "      <td>110000000</td>\n",
       "      <td>295238201</td>\n",
       "      <td>Insurgent</td>\n",
       "      <td>Shailene Woodley|Theo James|Kate Winslet|Ansel...</td>\n",
       "      <td>http://www.thedivergentseries.movie/#insurgent</td>\n",
       "      <td>Robert Schwentke</td>\n",
       "      <td>One Choice Can Destroy You</td>\n",
       "      <td>...</td>\n",
       "      <td>Beatrice Prior must confront her inner demons ...</td>\n",
       "      <td>119</td>\n",
       "      <td>Adventure|Science Fiction|Thriller</td>\n",
       "      <td>Summit Entertainment|Mandeville Films|Red Wago...</td>\n",
       "      <td>3/18/15</td>\n",
       "      <td>2480</td>\n",
       "      <td>6.3</td>\n",
       "      <td>2015</td>\n",
       "      <td>1.012000e+08</td>\n",
       "      <td>2.716190e+08</td>\n",
       "    </tr>\n",
       "    <tr>\n",
       "      <th>3</th>\n",
       "      <td>140607</td>\n",
       "      <td>tt2488496</td>\n",
       "      <td>11.173104</td>\n",
       "      <td>200000000</td>\n",
       "      <td>2068178225</td>\n",
       "      <td>Star Wars: The Force Awakens</td>\n",
       "      <td>Harrison Ford|Mark Hamill|Carrie Fisher|Adam D...</td>\n",
       "      <td>http://www.starwars.com/films/star-wars-episod...</td>\n",
       "      <td>J.J. Abrams</td>\n",
       "      <td>Every generation has a story.</td>\n",
       "      <td>...</td>\n",
       "      <td>Thirty years after defeating the Galactic Empi...</td>\n",
       "      <td>136</td>\n",
       "      <td>Action|Adventure|Science Fiction|Fantasy</td>\n",
       "      <td>Lucasfilm|Truenorth Productions|Bad Robot</td>\n",
       "      <td>12/15/15</td>\n",
       "      <td>5292</td>\n",
       "      <td>7.5</td>\n",
       "      <td>2015</td>\n",
       "      <td>1.839999e+08</td>\n",
       "      <td>1.902723e+09</td>\n",
       "    </tr>\n",
       "    <tr>\n",
       "      <th>4</th>\n",
       "      <td>168259</td>\n",
       "      <td>tt2820852</td>\n",
       "      <td>9.335014</td>\n",
       "      <td>190000000</td>\n",
       "      <td>1506249360</td>\n",
       "      <td>Furious 7</td>\n",
       "      <td>Vin Diesel|Paul Walker|Jason Statham|Michelle ...</td>\n",
       "      <td>http://www.furious7.com/</td>\n",
       "      <td>James Wan</td>\n",
       "      <td>Vengeance Hits Home</td>\n",
       "      <td>...</td>\n",
       "      <td>Deckard Shaw seeks revenge against Dominic Tor...</td>\n",
       "      <td>137</td>\n",
       "      <td>Action|Crime|Thriller</td>\n",
       "      <td>Universal Pictures|Original Film|Media Rights ...</td>\n",
       "      <td>4/1/15</td>\n",
       "      <td>2947</td>\n",
       "      <td>7.3</td>\n",
       "      <td>2015</td>\n",
       "      <td>1.747999e+08</td>\n",
       "      <td>1.385749e+09</td>\n",
       "    </tr>\n",
       "  </tbody>\n",
       "</table>\n",
       "<p>5 rows × 21 columns</p>\n",
       "</div>"
      ],
      "text/plain": [
       "       id    imdb_id  popularity     budget     revenue  \\\n",
       "0  135397  tt0369610   32.985763  150000000  1513528810   \n",
       "1   76341  tt1392190   28.419936  150000000   378436354   \n",
       "2  262500  tt2908446   13.112507  110000000   295238201   \n",
       "3  140607  tt2488496   11.173104  200000000  2068178225   \n",
       "4  168259  tt2820852    9.335014  190000000  1506249360   \n",
       "\n",
       "                 original_title  \\\n",
       "0                Jurassic World   \n",
       "1            Mad Max: Fury Road   \n",
       "2                     Insurgent   \n",
       "3  Star Wars: The Force Awakens   \n",
       "4                     Furious 7   \n",
       "\n",
       "                                                cast  \\\n",
       "0  Chris Pratt|Bryce Dallas Howard|Irrfan Khan|Vi...   \n",
       "1  Tom Hardy|Charlize Theron|Hugh Keays-Byrne|Nic...   \n",
       "2  Shailene Woodley|Theo James|Kate Winslet|Ansel...   \n",
       "3  Harrison Ford|Mark Hamill|Carrie Fisher|Adam D...   \n",
       "4  Vin Diesel|Paul Walker|Jason Statham|Michelle ...   \n",
       "\n",
       "                                            homepage          director  \\\n",
       "0                      http://www.jurassicworld.com/   Colin Trevorrow   \n",
       "1                        http://www.madmaxmovie.com/     George Miller   \n",
       "2     http://www.thedivergentseries.movie/#insurgent  Robert Schwentke   \n",
       "3  http://www.starwars.com/films/star-wars-episod...       J.J. Abrams   \n",
       "4                           http://www.furious7.com/         James Wan   \n",
       "\n",
       "                         tagline      ...       \\\n",
       "0              The park is open.      ...        \n",
       "1             What a Lovely Day.      ...        \n",
       "2     One Choice Can Destroy You      ...        \n",
       "3  Every generation has a story.      ...        \n",
       "4            Vengeance Hits Home      ...        \n",
       "\n",
       "                                            overview runtime  \\\n",
       "0  Twenty-two years after the events of Jurassic ...     124   \n",
       "1  An apocalyptic story set in the furthest reach...     120   \n",
       "2  Beatrice Prior must confront her inner demons ...     119   \n",
       "3  Thirty years after defeating the Galactic Empi...     136   \n",
       "4  Deckard Shaw seeks revenge against Dominic Tor...     137   \n",
       "\n",
       "                                      genres  \\\n",
       "0  Action|Adventure|Science Fiction|Thriller   \n",
       "1  Action|Adventure|Science Fiction|Thriller   \n",
       "2         Adventure|Science Fiction|Thriller   \n",
       "3   Action|Adventure|Science Fiction|Fantasy   \n",
       "4                      Action|Crime|Thriller   \n",
       "\n",
       "                                production_companies release_date vote_count  \\\n",
       "0  Universal Studios|Amblin Entertainment|Legenda...       6/9/15       5562   \n",
       "1  Village Roadshow Pictures|Kennedy Miller Produ...      5/13/15       6185   \n",
       "2  Summit Entertainment|Mandeville Films|Red Wago...      3/18/15       2480   \n",
       "3          Lucasfilm|Truenorth Productions|Bad Robot     12/15/15       5292   \n",
       "4  Universal Pictures|Original Film|Media Rights ...       4/1/15       2947   \n",
       "\n",
       "   vote_average  release_year    budget_adj   revenue_adj  \n",
       "0           6.5          2015  1.379999e+08  1.392446e+09  \n",
       "1           7.1          2015  1.379999e+08  3.481613e+08  \n",
       "2           6.3          2015  1.012000e+08  2.716190e+08  \n",
       "3           7.5          2015  1.839999e+08  1.902723e+09  \n",
       "4           7.3          2015  1.747999e+08  1.385749e+09  \n",
       "\n",
       "[5 rows x 21 columns]"
      ]
     },
     "execution_count": 135,
     "metadata": {},
     "output_type": "execute_result"
    }
   ],
   "source": [
    "df = pd.read_csv('tmdb-movies.csv')\n",
    "df.head()"
   ]
  },
  {
   "cell_type": "markdown",
   "metadata": {},
   "source": [
    "Then, let's check how do the entire data specs regarding the rows and columns look like."
   ]
  },
  {
   "cell_type": "code",
   "execution_count": 7,
   "metadata": {},
   "outputs": [
    {
     "data": {
      "text/plain": [
       "(10866, 21)"
      ]
     },
     "execution_count": 7,
     "metadata": {},
     "output_type": "execute_result"
    }
   ],
   "source": [
    "df.shape"
   ]
  },
  {
   "cell_type": "markdown",
   "metadata": {
    "collapsed": true
   },
   "source": [
    "Also double checked from .csv file and confirmed that dataset provides information of 10866 lines and 21 columns. So, \n",
    "jupiter notebook has extracted the data succesfully.\n",
    "\n",
    "In order to achieve some quick approach to overall data, description has been generated as following:"
   ]
  },
  {
   "cell_type": "code",
   "execution_count": 19,
   "metadata": {},
   "outputs": [
    {
     "data": {
      "text/html": [
       "<div>\n",
       "<style scoped>\n",
       "    .dataframe tbody tr th:only-of-type {\n",
       "        vertical-align: middle;\n",
       "    }\n",
       "\n",
       "    .dataframe tbody tr th {\n",
       "        vertical-align: top;\n",
       "    }\n",
       "\n",
       "    .dataframe thead th {\n",
       "        text-align: right;\n",
       "    }\n",
       "</style>\n",
       "<table border=\"1\" class=\"dataframe\">\n",
       "  <thead>\n",
       "    <tr style=\"text-align: right;\">\n",
       "      <th></th>\n",
       "      <th>id</th>\n",
       "      <th>popularity</th>\n",
       "      <th>budget</th>\n",
       "      <th>revenue</th>\n",
       "      <th>runtime</th>\n",
       "      <th>vote_count</th>\n",
       "      <th>vote_average</th>\n",
       "      <th>release_year</th>\n",
       "      <th>budget_adj</th>\n",
       "      <th>revenue_adj</th>\n",
       "    </tr>\n",
       "  </thead>\n",
       "  <tbody>\n",
       "    <tr>\n",
       "      <th>count</th>\n",
       "      <td>10866.000000</td>\n",
       "      <td>10866.000000</td>\n",
       "      <td>1.086600e+04</td>\n",
       "      <td>1.086600e+04</td>\n",
       "      <td>10866.000000</td>\n",
       "      <td>10866.000000</td>\n",
       "      <td>10866.000000</td>\n",
       "      <td>10866.000000</td>\n",
       "      <td>1.086600e+04</td>\n",
       "      <td>1.086600e+04</td>\n",
       "    </tr>\n",
       "    <tr>\n",
       "      <th>mean</th>\n",
       "      <td>66064.177434</td>\n",
       "      <td>0.646441</td>\n",
       "      <td>1.462570e+07</td>\n",
       "      <td>3.982332e+07</td>\n",
       "      <td>102.070863</td>\n",
       "      <td>217.389748</td>\n",
       "      <td>5.974922</td>\n",
       "      <td>2001.322658</td>\n",
       "      <td>1.755104e+07</td>\n",
       "      <td>5.136436e+07</td>\n",
       "    </tr>\n",
       "    <tr>\n",
       "      <th>std</th>\n",
       "      <td>92130.136561</td>\n",
       "      <td>1.000185</td>\n",
       "      <td>3.091321e+07</td>\n",
       "      <td>1.170035e+08</td>\n",
       "      <td>31.381405</td>\n",
       "      <td>575.619058</td>\n",
       "      <td>0.935142</td>\n",
       "      <td>12.812941</td>\n",
       "      <td>3.430616e+07</td>\n",
       "      <td>1.446325e+08</td>\n",
       "    </tr>\n",
       "    <tr>\n",
       "      <th>min</th>\n",
       "      <td>5.000000</td>\n",
       "      <td>0.000065</td>\n",
       "      <td>0.000000e+00</td>\n",
       "      <td>0.000000e+00</td>\n",
       "      <td>0.000000</td>\n",
       "      <td>10.000000</td>\n",
       "      <td>1.500000</td>\n",
       "      <td>1960.000000</td>\n",
       "      <td>0.000000e+00</td>\n",
       "      <td>0.000000e+00</td>\n",
       "    </tr>\n",
       "    <tr>\n",
       "      <th>25%</th>\n",
       "      <td>10596.250000</td>\n",
       "      <td>0.207583</td>\n",
       "      <td>0.000000e+00</td>\n",
       "      <td>0.000000e+00</td>\n",
       "      <td>90.000000</td>\n",
       "      <td>17.000000</td>\n",
       "      <td>5.400000</td>\n",
       "      <td>1995.000000</td>\n",
       "      <td>0.000000e+00</td>\n",
       "      <td>0.000000e+00</td>\n",
       "    </tr>\n",
       "    <tr>\n",
       "      <th>50%</th>\n",
       "      <td>20669.000000</td>\n",
       "      <td>0.383856</td>\n",
       "      <td>0.000000e+00</td>\n",
       "      <td>0.000000e+00</td>\n",
       "      <td>99.000000</td>\n",
       "      <td>38.000000</td>\n",
       "      <td>6.000000</td>\n",
       "      <td>2006.000000</td>\n",
       "      <td>0.000000e+00</td>\n",
       "      <td>0.000000e+00</td>\n",
       "    </tr>\n",
       "    <tr>\n",
       "      <th>75%</th>\n",
       "      <td>75610.000000</td>\n",
       "      <td>0.713817</td>\n",
       "      <td>1.500000e+07</td>\n",
       "      <td>2.400000e+07</td>\n",
       "      <td>111.000000</td>\n",
       "      <td>145.750000</td>\n",
       "      <td>6.600000</td>\n",
       "      <td>2011.000000</td>\n",
       "      <td>2.085325e+07</td>\n",
       "      <td>3.369710e+07</td>\n",
       "    </tr>\n",
       "    <tr>\n",
       "      <th>max</th>\n",
       "      <td>417859.000000</td>\n",
       "      <td>32.985763</td>\n",
       "      <td>4.250000e+08</td>\n",
       "      <td>2.781506e+09</td>\n",
       "      <td>900.000000</td>\n",
       "      <td>9767.000000</td>\n",
       "      <td>9.200000</td>\n",
       "      <td>2015.000000</td>\n",
       "      <td>4.250000e+08</td>\n",
       "      <td>2.827124e+09</td>\n",
       "    </tr>\n",
       "  </tbody>\n",
       "</table>\n",
       "</div>"
      ],
      "text/plain": [
       "                  id    popularity        budget       revenue       runtime  \\\n",
       "count   10866.000000  10866.000000  1.086600e+04  1.086600e+04  10866.000000   \n",
       "mean    66064.177434      0.646441  1.462570e+07  3.982332e+07    102.070863   \n",
       "std     92130.136561      1.000185  3.091321e+07  1.170035e+08     31.381405   \n",
       "min         5.000000      0.000065  0.000000e+00  0.000000e+00      0.000000   \n",
       "25%     10596.250000      0.207583  0.000000e+00  0.000000e+00     90.000000   \n",
       "50%     20669.000000      0.383856  0.000000e+00  0.000000e+00     99.000000   \n",
       "75%     75610.000000      0.713817  1.500000e+07  2.400000e+07    111.000000   \n",
       "max    417859.000000     32.985763  4.250000e+08  2.781506e+09    900.000000   \n",
       "\n",
       "         vote_count  vote_average  release_year    budget_adj   revenue_adj  \n",
       "count  10866.000000  10866.000000  10866.000000  1.086600e+04  1.086600e+04  \n",
       "mean     217.389748      5.974922   2001.322658  1.755104e+07  5.136436e+07  \n",
       "std      575.619058      0.935142     12.812941  3.430616e+07  1.446325e+08  \n",
       "min       10.000000      1.500000   1960.000000  0.000000e+00  0.000000e+00  \n",
       "25%       17.000000      5.400000   1995.000000  0.000000e+00  0.000000e+00  \n",
       "50%       38.000000      6.000000   2006.000000  0.000000e+00  0.000000e+00  \n",
       "75%      145.750000      6.600000   2011.000000  2.085325e+07  3.369710e+07  \n",
       "max     9767.000000      9.200000   2015.000000  4.250000e+08  2.827124e+09  "
      ]
     },
     "execution_count": 19,
     "metadata": {},
     "output_type": "execute_result"
    }
   ],
   "source": [
    "df.describe()"
   ]
  },
  {
   "cell_type": "markdown",
   "metadata": {},
   "source": [
    "The data belonging to the \"runtime, genres, vote_average, release_year, budget_adj and revenue_adj\" columns are extremely important for this analysis since that informations are directly required to answer the investigated questions. \n",
    "\n",
    "Let' s check if there is null object or some other obstacle to clear analysis like dublications etc."
   ]
  },
  {
   "cell_type": "code",
   "execution_count": 136,
   "metadata": {},
   "outputs": [
    {
     "name": "stdout",
     "output_type": "stream",
     "text": [
      "<class 'pandas.core.frame.DataFrame'>\n",
      "RangeIndex: 10866 entries, 0 to 10865\n",
      "Data columns (total 21 columns):\n",
      "id                      10866 non-null int64\n",
      "imdb_id                 10856 non-null object\n",
      "popularity              10866 non-null float64\n",
      "budget                  10866 non-null int64\n",
      "revenue                 10866 non-null int64\n",
      "original_title          10866 non-null object\n",
      "cast                    10790 non-null object\n",
      "homepage                2936 non-null object\n",
      "director                10822 non-null object\n",
      "tagline                 8042 non-null object\n",
      "keywords                9373 non-null object\n",
      "overview                10862 non-null object\n",
      "runtime                 10866 non-null int64\n",
      "genres                  10843 non-null object\n",
      "production_companies    9836 non-null object\n",
      "release_date            10866 non-null object\n",
      "vote_count              10866 non-null int64\n",
      "vote_average            10866 non-null float64\n",
      "release_year            10866 non-null int64\n",
      "budget_adj              10866 non-null float64\n",
      "revenue_adj             10866 non-null float64\n",
      "dtypes: float64(4), int64(6), object(11)\n",
      "memory usage: 1.7+ MB\n"
     ]
    }
   ],
   "source": [
    "df.info()"
   ]
  },
  {
   "cell_type": "markdown",
   "metadata": {},
   "source": [
    "As seen above, some of the unnecessary information for this investigation is missing. Anyway, these data will be removed in the next section."
   ]
  },
  {
   "cell_type": "code",
   "execution_count": 137,
   "metadata": {},
   "outputs": [
    {
     "data": {
      "text/plain": [
       "1"
      ]
     },
     "execution_count": 137,
     "metadata": {},
     "output_type": "execute_result"
    }
   ],
   "source": [
    "df.duplicated().sum()"
   ]
  },
  {
   "cell_type": "markdown",
   "metadata": {},
   "source": [
    "There is also a duplicated line in dataset. "
   ]
  },
  {
   "cell_type": "markdown",
   "metadata": {},
   "source": [
    "<a id='eda'></a>\n",
    "### Data Cleaning"
   ]
  },
  {
   "cell_type": "markdown",
   "metadata": {},
   "source": [
    "Let's start by getting rid of duplicant data and afterwards redundant data for our analysis:"
   ]
  },
  {
   "cell_type": "code",
   "execution_count": 138,
   "metadata": {},
   "outputs": [],
   "source": [
    "df.drop_duplicates(inplace = True)"
   ]
  },
  {
   "cell_type": "code",
   "execution_count": 139,
   "metadata": {},
   "outputs": [],
   "source": [
    "df.drop(['id','popularity','budget','revenue','original_title','cast','homepage','director','tagline',\n",
    "         'keywords','overview','production_companies','release_date','vote_count'], axis = 1, inplace = True)"
   ]
  },
  {
   "cell_type": "code",
   "execution_count": 140,
   "metadata": {},
   "outputs": [
    {
     "name": "stdout",
     "output_type": "stream",
     "text": [
      "<class 'pandas.core.frame.DataFrame'>\n",
      "Int64Index: 10865 entries, 0 to 10865\n",
      "Data columns (total 7 columns):\n",
      "imdb_id         10855 non-null object\n",
      "runtime         10865 non-null int64\n",
      "genres          10842 non-null object\n",
      "vote_average    10865 non-null float64\n",
      "release_year    10865 non-null int64\n",
      "budget_adj      10865 non-null float64\n",
      "revenue_adj     10865 non-null float64\n",
      "dtypes: float64(3), int64(2), object(2)\n",
      "memory usage: 679.1+ KB\n"
     ]
    }
   ],
   "source": [
    "df.info()"
   ]
  },
  {
   "cell_type": "markdown",
   "metadata": {},
   "source": [
    "Only some of the imdb_id & genres data seems missing. Let's drop some of lines that corrupts the dataset."
   ]
  },
  {
   "cell_type": "code",
   "execution_count": 141,
   "metadata": {},
   "outputs": [],
   "source": [
    "df.dropna(axis=0, inplace=True, subset = ['genres'])"
   ]
  },
  {
   "cell_type": "code",
   "execution_count": 142,
   "metadata": {
    "scrolled": true
   },
   "outputs": [
    {
     "name": "stdout",
     "output_type": "stream",
     "text": [
      "<class 'pandas.core.frame.DataFrame'>\n",
      "Int64Index: 10842 entries, 0 to 10865\n",
      "Data columns (total 7 columns):\n",
      "imdb_id         10834 non-null object\n",
      "runtime         10842 non-null int64\n",
      "genres          10842 non-null object\n",
      "vote_average    10842 non-null float64\n",
      "release_year    10842 non-null int64\n",
      "budget_adj      10842 non-null float64\n",
      "revenue_adj     10842 non-null float64\n",
      "dtypes: float64(3), int64(2), object(2)\n",
      "memory usage: 677.6+ KB\n"
     ]
    }
   ],
   "source": [
    "df.info()"
   ]
  },
  {
   "cell_type": "markdown",
   "metadata": {},
   "source": [
    "We got cleared the data from the missing genre information and now only some of imdb_ids are missing. \n",
    "Fortunately, that will not inhibit any process of the analysis in our investigation. "
   ]
  },
  {
   "cell_type": "code",
   "execution_count": 145,
   "metadata": {
    "scrolled": true
   },
   "outputs": [
    {
     "data": {
      "image/png": "[encoded data removed]",
      "text/plain": [
       "<matplotlib.figure.Figure at 0x7fde889fe6a0>"
      ]
     },
     "metadata": {
      "needs_background": "light"
     },
     "output_type": "display_data"
    }
   ],
   "source": [
    "df.hist(figsize=(10,8));"
   ]
  },
  {
   "cell_type": "markdown",
   "metadata": {},
   "source": [
    "Now, the refined and clear data is ready to be investigated."
   ]
  },
  {
   "cell_type": "markdown",
   "metadata": {},
   "source": [
    "<a id='eda'></a>\n",
    "## Exploratory Data Analysis\n",
    "\n",
    "\n",
    "### Q1. How does the amount of the movies change from past to today?"
   ]
  },
  {
   "cell_type": "markdown",
   "metadata": {},
   "source": [
    "In order to understand correlation between year and total released movie amount in that year, the movies should be counted according to release year information"
   ]
  },
  {
   "cell_type": "code",
   "execution_count": 146,
   "metadata": {
    "scrolled": true
   },
   "outputs": [
    {
     "data": {
      "image/png": "[encoded data removed]",
      "text/plain": [
       "<matplotlib.figure.Figure at 0x7fde83e068d0>"
      ]
     },
     "metadata": {
      "needs_background": "light"
     },
     "output_type": "display_data"
    }
   ],
   "source": [
    "df.groupby('release_year').count()['imdb_id'].plot()\n",
    "plt.title ('Total released movie amount')\n",
    "plt.xlabel('Release year')\n",
    "plt.ylabel('Amount of movies')\n",
    "plt.legend();"
   ]
  },
  {
   "cell_type": "markdown",
   "metadata": {},
   "source": [
    "It is demonstrated through the plot graph, that the released movie amount increased drastically espacially recent years. Let's explore the data precisely:"
   ]
  },
  {
   "cell_type": "code",
   "execution_count": 147,
   "metadata": {},
   "outputs": [
    {
     "data": {
      "text/plain": [
       "release_year\n",
       "2011    540\n",
       "2012    583\n",
       "2013    655\n",
       "2014    699\n",
       "2015    626\n",
       "Name: imdb_id, dtype: int64"
      ]
     },
     "execution_count": 147,
     "metadata": {},
     "output_type": "execute_result"
    }
   ],
   "source": [
    "df.groupby('release_year').count()['imdb_id'].tail()"
   ]
  },
  {
   "cell_type": "markdown",
   "metadata": {},
   "source": [
    "The year 2014 has been generous from the \"movie release\" point of view. At that year, 699 year have been released totally. The movie sector has been developed certainly in last 15 years so that annual release amounts in 2010's are 3 times more than releases in 2000's averagely."
   ]
  },
  {
   "cell_type": "markdown",
   "metadata": {},
   "source": [
    "### Q2. How does the runtime change year by year?"
   ]
  },
  {
   "cell_type": "markdown",
   "metadata": {},
   "source": [
    "Let's investigate the runtime trend until today."
   ]
  },
  {
   "cell_type": "code",
   "execution_count": 148,
   "metadata": {},
   "outputs": [
    {
     "data": {
      "image/png": "[encoded data removed]",
      "text/plain": [
       "<matplotlib.figure.Figure at 0x7fde83de65f8>"
      ]
     },
     "metadata": {
      "needs_background": "light"
     },
     "output_type": "display_data"
    }
   ],
   "source": [
    "df.groupby('release_year').mean()['runtime'].plot()\n",
    "plt.title ('Runtime trend in Years')\n",
    "plt.xlabel('Release year')\n",
    "plt.ylabel('Movie Duration')\n",
    "plt.legend();"
   ]
  },
  {
   "cell_type": "markdown",
   "metadata": {},
   "source": [
    "This graph shows that movies are getting shorter in years. A social deduction from that finding would be that \n",
    "the movie makers are more likely to shape the film durations to keep the movie-lovers' interest alive. New trend for movie duration is less than 100 minutes to avoid being boring."
   ]
  },
  {
   "cell_type": "markdown",
   "metadata": {},
   "source": [
    "### Q3. Which genres are preferred to be filmed mostly? How does the genre distribution change among the top rated films?"
   ]
  },
  {
   "cell_type": "markdown",
   "metadata": {},
   "source": [
    "First we need to get rid of the columns that include data seperated with \"|\""
   ]
  },
  {
   "cell_type": "code",
   "execution_count": 149,
   "metadata": {},
   "outputs": [],
   "source": [
    "def seperatorless(column):\n",
    "    seperated_df = df[column].str.cat(sep = '|')\n",
    "    seperated_df = pd.Series(seperated_df.split('|'))\n",
    "    amount = seperated_df.value_counts(ascending = False)\n",
    "    return amount"
   ]
  },
  {
   "cell_type": "code",
   "execution_count": 150,
   "metadata": {
    "scrolled": true
   },
   "outputs": [
    {
     "data": {
      "text/plain": [
       "Drama              4760\n",
       "Comedy             3793\n",
       "Thriller           2907\n",
       "Action             2384\n",
       "Romance            1712\n",
       "Horror             1637\n",
       "Adventure          1471\n",
       "Crime              1354\n",
       "Family             1231\n",
       "Science Fiction    1229\n",
       "dtype: int64"
      ]
     },
     "execution_count": 150,
     "metadata": {},
     "output_type": "execute_result"
    }
   ],
   "source": [
    "amount_of_genres = seperatorless('genres')\n",
    "amount_of_genres.head(10)"
   ]
  },
  {
   "cell_type": "code",
   "execution_count": 151,
   "metadata": {
    "scrolled": true
   },
   "outputs": [
    {
     "data": {
      "image/png": "[encoded data removed]",
      "text/plain": [
       "<matplotlib.figure.Figure at 0x7fde83cbe748>"
      ]
     },
     "metadata": {
      "needs_background": "light"
     },
     "output_type": "display_data"
    }
   ],
   "source": [
    "amount_of_genres.sort_values(ascending = True, inplace = True)\n",
    "genre_plot = amount_of_genres.plot(kind = 'barh',fontsize = 11)\n",
    "genre_plot.set_xlabel('Number of movies')\n",
    "genre_plot.set(title = 'Total movie number for corresponding genres')\n",
    "plt.figure\n",
    "plt.show();"
   ]
  },
  {
   "cell_type": "code",
   "execution_count": 152,
   "metadata": {},
   "outputs": [],
   "source": [
    "best_rated_movies = df.query('vote_average>8')"
   ]
  },
  {
   "cell_type": "code",
   "execution_count": 153,
   "metadata": {
    "scrolled": true
   },
   "outputs": [
    {
     "name": "stdout",
     "output_type": "stream",
     "text": [
      "<class 'pandas.core.frame.DataFrame'>\n",
      "Int64Index: 52 entries, 441 to 10222\n",
      "Data columns (total 7 columns):\n",
      "imdb_id         51 non-null object\n",
      "runtime         52 non-null int64\n",
      "genres          52 non-null object\n",
      "vote_average    52 non-null float64\n",
      "release_year    52 non-null int64\n",
      "budget_adj      52 non-null float64\n",
      "revenue_adj     52 non-null float64\n",
      "dtypes: float64(3), int64(2), object(2)\n",
      "memory usage: 3.2+ KB\n"
     ]
    }
   ],
   "source": [
    "best_rated_movies.info()"
   ]
  },
  {
   "cell_type": "code",
   "execution_count": 154,
   "metadata": {},
   "outputs": [],
   "source": [
    "def bestrated_without_seperators(column):\n",
    "    bestrated_df = best_rated_movies[column].str.cat(sep = '|')\n",
    "    bestrated_df = pd.Series(bestrated_df.split('|'))\n",
    "    amount = bestrated_df.value_counts(ascending = False)\n",
    "    return amount"
   ]
  },
  {
   "cell_type": "code",
   "execution_count": 155,
   "metadata": {
    "scrolled": true
   },
   "outputs": [
    {
     "data": {
      "text/plain": [
       "Documentary    22\n",
       "Drama          16\n",
       "Music          15\n",
       "Comedy          9\n",
       "Crime           7\n",
       "Thriller        4\n",
       "Romance         3\n",
       "Animation       3\n",
       "Horror          2\n",
       "Action          2\n",
       "dtype: int64"
      ]
     },
     "execution_count": 155,
     "metadata": {},
     "output_type": "execute_result"
    }
   ],
   "source": [
    "amount_of_bestratedgenres = bestrated_without_seperators('genres')\n",
    "amount_of_bestratedgenres.head(10)"
   ]
  },
  {
   "cell_type": "code",
   "execution_count": 156,
   "metadata": {
    "scrolled": true
   },
   "outputs": [
    {
     "data": {
      "image/png": "[encoded data removed]",
      "text/plain": [
       "<matplotlib.figure.Figure at 0x7fde83d38780>"
      ]
     },
     "metadata": {
      "needs_background": "light"
     },
     "output_type": "display_data"
    }
   ],
   "source": [
    "amount_of_bestratedgenres.sort_values(ascending = True, inplace = True)\n",
    "genre_plot2 = amount_of_bestratedgenres.plot(kind = 'barh',fontsize = 11)\n",
    "genre_plot2.set_xlabel('Number of movies')\n",
    "genre_plot2.set(title = 'Total movie number for corresponding genres')\n",
    "plt.figure\n",
    "plt.show();"
   ]
  },
  {
   "cell_type": "markdown",
   "metadata": {},
   "source": [
    "When the entire data is considered, \"Drama, Comedy, Thriller and Action\" genres seems to be filmed mostly. But if the films are filtered, which are rated at least 8 points, it is obvious that \"Documentary and Music\" genres are marked as \"good art\" more frequently. In other words, \"Documentary and Music\" genres are liked and appriciated more by the audience. "
   ]
  },
  {
   "cell_type": "markdown",
   "metadata": {},
   "source": [
    "### Q4. What is the relation between budget and profit in movie sector?"
   ]
  },
  {
   "cell_type": "markdown",
   "metadata": {
    "collapsed": true
   },
   "source": [
    "Firstly in order to answer that question, mean profit distribution on yearly basis shall be calculated. Since the profits on yearly basis will be compared, the revenue and budget values which are accounted for inflation over time, will be used. New column is added for the result of this calculation."
   ]
  },
  {
   "cell_type": "code",
   "execution_count": 157,
   "metadata": {},
   "outputs": [],
   "source": [
    "df['profit_adj'] = df['revenue_adj'] - df['budget_adj']"
   ]
  },
  {
   "cell_type": "markdown",
   "metadata": {},
   "source": [
    "Let's check if the dataset extractes the new added column as intended."
   ]
  },
  {
   "cell_type": "code",
   "execution_count": 158,
   "metadata": {
    "scrolled": true
   },
   "outputs": [
    {
     "data": {
      "text/html": [
       "<div>\n",
       "<style scoped>\n",
       "    .dataframe tbody tr th:only-of-type {\n",
       "        vertical-align: middle;\n",
       "    }\n",
       "\n",
       "    .dataframe tbody tr th {\n",
       "        vertical-align: top;\n",
       "    }\n",
       "\n",
       "    .dataframe thead th {\n",
       "        text-align: right;\n",
       "    }\n",
       "</style>\n",
       "<table border=\"1\" class=\"dataframe\">\n",
       "  <thead>\n",
       "    <tr style=\"text-align: right;\">\n",
       "      <th></th>\n",
       "      <th>imdb_id</th>\n",
       "      <th>runtime</th>\n",
       "      <th>genres</th>\n",
       "      <th>vote_average</th>\n",
       "      <th>release_year</th>\n",
       "      <th>budget_adj</th>\n",
       "      <th>revenue_adj</th>\n",
       "      <th>profit_adj</th>\n",
       "    </tr>\n",
       "  </thead>\n",
       "  <tbody>\n",
       "    <tr>\n",
       "      <th>0</th>\n",
       "      <td>tt0369610</td>\n",
       "      <td>124</td>\n",
       "      <td>Action|Adventure|Science Fiction|Thriller</td>\n",
       "      <td>6.5</td>\n",
       "      <td>2015</td>\n",
       "      <td>1.379999e+08</td>\n",
       "      <td>1.392446e+09</td>\n",
       "      <td>1.254446e+09</td>\n",
       "    </tr>\n",
       "    <tr>\n",
       "      <th>1</th>\n",
       "      <td>tt1392190</td>\n",
       "      <td>120</td>\n",
       "      <td>Action|Adventure|Science Fiction|Thriller</td>\n",
       "      <td>7.1</td>\n",
       "      <td>2015</td>\n",
       "      <td>1.379999e+08</td>\n",
       "      <td>3.481613e+08</td>\n",
       "      <td>2.101614e+08</td>\n",
       "    </tr>\n",
       "    <tr>\n",
       "      <th>2</th>\n",
       "      <td>tt2908446</td>\n",
       "      <td>119</td>\n",
       "      <td>Adventure|Science Fiction|Thriller</td>\n",
       "      <td>6.3</td>\n",
       "      <td>2015</td>\n",
       "      <td>1.012000e+08</td>\n",
       "      <td>2.716190e+08</td>\n",
       "      <td>1.704191e+08</td>\n",
       "    </tr>\n",
       "    <tr>\n",
       "      <th>3</th>\n",
       "      <td>tt2488496</td>\n",
       "      <td>136</td>\n",
       "      <td>Action|Adventure|Science Fiction|Fantasy</td>\n",
       "      <td>7.5</td>\n",
       "      <td>2015</td>\n",
       "      <td>1.839999e+08</td>\n",
       "      <td>1.902723e+09</td>\n",
       "      <td>1.718723e+09</td>\n",
       "    </tr>\n",
       "    <tr>\n",
       "      <th>4</th>\n",
       "      <td>tt2820852</td>\n",
       "      <td>137</td>\n",
       "      <td>Action|Crime|Thriller</td>\n",
       "      <td>7.3</td>\n",
       "      <td>2015</td>\n",
       "      <td>1.747999e+08</td>\n",
       "      <td>1.385749e+09</td>\n",
       "      <td>1.210949e+09</td>\n",
       "    </tr>\n",
       "  </tbody>\n",
       "</table>\n",
       "</div>"
      ],
      "text/plain": [
       "     imdb_id  runtime                                     genres  \\\n",
       "0  tt0369610      124  Action|Adventure|Science Fiction|Thriller   \n",
       "1  tt1392190      120  Action|Adventure|Science Fiction|Thriller   \n",
       "2  tt2908446      119         Adventure|Science Fiction|Thriller   \n",
       "3  tt2488496      136   Action|Adventure|Science Fiction|Fantasy   \n",
       "4  tt2820852      137                      Action|Crime|Thriller   \n",
       "\n",
       "   vote_average  release_year    budget_adj   revenue_adj    profit_adj  \n",
       "0           6.5          2015  1.379999e+08  1.392446e+09  1.254446e+09  \n",
       "1           7.1          2015  1.379999e+08  3.481613e+08  2.101614e+08  \n",
       "2           6.3          2015  1.012000e+08  2.716190e+08  1.704191e+08  \n",
       "3           7.5          2015  1.839999e+08  1.902723e+09  1.718723e+09  \n",
       "4           7.3          2015  1.747999e+08  1.385749e+09  1.210949e+09  "
      ]
     },
     "execution_count": 158,
     "metadata": {},
     "output_type": "execute_result"
    }
   ],
   "source": [
    "df.head()"
   ]
  },
  {
   "cell_type": "markdown",
   "metadata": {},
   "source": [
    "Let's check quickly how the budgets and profits changes for movies over years."
   ]
  },
  {
   "cell_type": "code",
   "execution_count": 159,
   "metadata": {
    "scrolled": true
   },
   "outputs": [
    {
     "data": {
      "image/png": "[encoded data removed]",
      "text/plain": [
       "<matplotlib.figure.Figure at 0x7fde83bc9f60>"
      ]
     },
     "metadata": {
      "needs_background": "light"
     },
     "output_type": "display_data"
    }
   ],
   "source": [
    "df.groupby('release_year').mean()['profit_adj'].plot()\n",
    "df.groupby('release_year').mean()['budget_adj'].plot()\n",
    "plt.title ('Movie Profits over Years')\n",
    "plt.xlabel('Release year')\n",
    "plt.ylabel('Money amount')\n",
    "plt.legend();"
   ]
  },
  {
   "cell_type": "markdown",
   "metadata": {},
   "source": [
    "The graph demonstrates that the best profits have been taken especially past years. Between years 1960 - 1985, the investments in movie sector returned multiplicative scales. Movie-makers tried to spend more to understand the system responce but the returns have not even increased as a result of that enterprice. Profit curve acts like saturated in recent years. "
   ]
  },
  {
   "cell_type": "markdown",
   "metadata": {},
   "source": [
    "There is a point that I need to highlight. It was not a handicap to investigate for the first question but I would like to check the profit share of last 5-10 year intervals. When I used \"query\" function, I realized that almost one-third of budget_adj data is given as null. Another one-third movies have null values for the revenue_adj data. This was understood during the functional trial of the \"query\" command below:"
   ]
  },
  {
   "cell_type": "code",
   "execution_count": 160,
   "metadata": {
    "scrolled": true
   },
   "outputs": [
    {
     "data": {
      "text/html": [
       "<div>\n",
       "<style scoped>\n",
       "    .dataframe tbody tr th:only-of-type {\n",
       "        vertical-align: middle;\n",
       "    }\n",
       "\n",
       "    .dataframe tbody tr th {\n",
       "        vertical-align: top;\n",
       "    }\n",
       "\n",
       "    .dataframe thead th {\n",
       "        text-align: right;\n",
       "    }\n",
       "</style>\n",
       "<table border=\"1\" class=\"dataframe\">\n",
       "  <thead>\n",
       "    <tr style=\"text-align: right;\">\n",
       "      <th></th>\n",
       "      <th>imdb_id</th>\n",
       "      <th>runtime</th>\n",
       "      <th>genres</th>\n",
       "      <th>vote_average</th>\n",
       "      <th>release_year</th>\n",
       "      <th>budget_adj</th>\n",
       "      <th>revenue_adj</th>\n",
       "      <th>profit_adj</th>\n",
       "    </tr>\n",
       "  </thead>\n",
       "  <tbody>\n",
       "    <tr>\n",
       "      <th>0</th>\n",
       "      <td>tt0369610</td>\n",
       "      <td>124</td>\n",
       "      <td>Action|Adventure|Science Fiction|Thriller</td>\n",
       "      <td>6.5</td>\n",
       "      <td>2015</td>\n",
       "      <td>1.379999e+08</td>\n",
       "      <td>1.392446e+09</td>\n",
       "      <td>1.254446e+09</td>\n",
       "    </tr>\n",
       "    <tr>\n",
       "      <th>1</th>\n",
       "      <td>tt1392190</td>\n",
       "      <td>120</td>\n",
       "      <td>Action|Adventure|Science Fiction|Thriller</td>\n",
       "      <td>7.1</td>\n",
       "      <td>2015</td>\n",
       "      <td>1.379999e+08</td>\n",
       "      <td>3.481613e+08</td>\n",
       "      <td>2.101614e+08</td>\n",
       "    </tr>\n",
       "    <tr>\n",
       "      <th>2</th>\n",
       "      <td>tt2908446</td>\n",
       "      <td>119</td>\n",
       "      <td>Adventure|Science Fiction|Thriller</td>\n",
       "      <td>6.3</td>\n",
       "      <td>2015</td>\n",
       "      <td>1.012000e+08</td>\n",
       "      <td>2.716190e+08</td>\n",
       "      <td>1.704191e+08</td>\n",
       "    </tr>\n",
       "    <tr>\n",
       "      <th>3</th>\n",
       "      <td>tt2488496</td>\n",
       "      <td>136</td>\n",
       "      <td>Action|Adventure|Science Fiction|Fantasy</td>\n",
       "      <td>7.5</td>\n",
       "      <td>2015</td>\n",
       "      <td>1.839999e+08</td>\n",
       "      <td>1.902723e+09</td>\n",
       "      <td>1.718723e+09</td>\n",
       "    </tr>\n",
       "    <tr>\n",
       "      <th>4</th>\n",
       "      <td>tt2820852</td>\n",
       "      <td>137</td>\n",
       "      <td>Action|Crime|Thriller</td>\n",
       "      <td>7.3</td>\n",
       "      <td>2015</td>\n",
       "      <td>1.747999e+08</td>\n",
       "      <td>1.385749e+09</td>\n",
       "      <td>1.210949e+09</td>\n",
       "    </tr>\n",
       "    <tr>\n",
       "      <th>5</th>\n",
       "      <td>tt1663202</td>\n",
       "      <td>156</td>\n",
       "      <td>Western|Drama|Adventure|Thriller</td>\n",
       "      <td>7.2</td>\n",
       "      <td>2015</td>\n",
       "      <td>1.241999e+08</td>\n",
       "      <td>4.903142e+08</td>\n",
       "      <td>3.661143e+08</td>\n",
       "    </tr>\n",
       "    <tr>\n",
       "      <th>6</th>\n",
       "      <td>tt1340138</td>\n",
       "      <td>125</td>\n",
       "      <td>Science Fiction|Action|Thriller|Adventure</td>\n",
       "      <td>5.8</td>\n",
       "      <td>2015</td>\n",
       "      <td>1.425999e+08</td>\n",
       "      <td>4.053551e+08</td>\n",
       "      <td>2.627551e+08</td>\n",
       "    </tr>\n",
       "    <tr>\n",
       "      <th>7</th>\n",
       "      <td>tt3659388</td>\n",
       "      <td>141</td>\n",
       "      <td>Drama|Adventure|Science Fiction</td>\n",
       "      <td>7.6</td>\n",
       "      <td>2015</td>\n",
       "      <td>9.935996e+07</td>\n",
       "      <td>5.477497e+08</td>\n",
       "      <td>4.483897e+08</td>\n",
       "    </tr>\n",
       "    <tr>\n",
       "      <th>8</th>\n",
       "      <td>tt2293640</td>\n",
       "      <td>91</td>\n",
       "      <td>Family|Animation|Adventure|Comedy</td>\n",
       "      <td>6.5</td>\n",
       "      <td>2015</td>\n",
       "      <td>6.807997e+07</td>\n",
       "      <td>1.064192e+09</td>\n",
       "      <td>9.961120e+08</td>\n",
       "    </tr>\n",
       "    <tr>\n",
       "      <th>9</th>\n",
       "      <td>tt2096673</td>\n",
       "      <td>94</td>\n",
       "      <td>Comedy|Animation|Family</td>\n",
       "      <td>8.0</td>\n",
       "      <td>2015</td>\n",
       "      <td>1.609999e+08</td>\n",
       "      <td>7.854116e+08</td>\n",
       "      <td>6.244116e+08</td>\n",
       "    </tr>\n",
       "    <tr>\n",
       "      <th>10</th>\n",
       "      <td>tt2379713</td>\n",
       "      <td>148</td>\n",
       "      <td>Action|Adventure|Crime</td>\n",
       "      <td>6.2</td>\n",
       "      <td>2015</td>\n",
       "      <td>2.253999e+08</td>\n",
       "      <td>8.102203e+08</td>\n",
       "      <td>5.848204e+08</td>\n",
       "    </tr>\n",
       "    <tr>\n",
       "      <th>11</th>\n",
       "      <td>tt1617661</td>\n",
       "      <td>124</td>\n",
       "      <td>Science Fiction|Fantasy|Action|Adventure</td>\n",
       "      <td>5.2</td>\n",
       "      <td>2015</td>\n",
       "      <td>1.619199e+08</td>\n",
       "      <td>1.692686e+08</td>\n",
       "      <td>7.348699e+06</td>\n",
       "    </tr>\n",
       "    <tr>\n",
       "      <th>12</th>\n",
       "      <td>tt0470752</td>\n",
       "      <td>108</td>\n",
       "      <td>Drama|Science Fiction</td>\n",
       "      <td>7.6</td>\n",
       "      <td>2015</td>\n",
       "      <td>1.379999e+07</td>\n",
       "      <td>3.391985e+07</td>\n",
       "      <td>2.011985e+07</td>\n",
       "    </tr>\n",
       "    <tr>\n",
       "      <th>13</th>\n",
       "      <td>tt2120120</td>\n",
       "      <td>105</td>\n",
       "      <td>Action|Comedy|Science Fiction</td>\n",
       "      <td>5.8</td>\n",
       "      <td>2015</td>\n",
       "      <td>8.095996e+07</td>\n",
       "      <td>2.241460e+08</td>\n",
       "      <td>1.431861e+08</td>\n",
       "    </tr>\n",
       "    <tr>\n",
       "      <th>14</th>\n",
       "      <td>tt2395427</td>\n",
       "      <td>141</td>\n",
       "      <td>Action|Adventure|Science Fiction</td>\n",
       "      <td>7.4</td>\n",
       "      <td>2015</td>\n",
       "      <td>2.575999e+08</td>\n",
       "      <td>1.292632e+09</td>\n",
       "      <td>1.035032e+09</td>\n",
       "    </tr>\n",
       "    <tr>\n",
       "      <th>15</th>\n",
       "      <td>tt3460252</td>\n",
       "      <td>167</td>\n",
       "      <td>Crime|Drama|Mystery|Western</td>\n",
       "      <td>7.4</td>\n",
       "      <td>2015</td>\n",
       "      <td>4.047998e+07</td>\n",
       "      <td>1.432992e+08</td>\n",
       "      <td>1.028193e+08</td>\n",
       "    </tr>\n",
       "    <tr>\n",
       "      <th>16</th>\n",
       "      <td>tt2446042</td>\n",
       "      <td>109</td>\n",
       "      <td>Crime|Action|Thriller</td>\n",
       "      <td>6.1</td>\n",
       "      <td>2015</td>\n",
       "      <td>4.415998e+07</td>\n",
       "      <td>2.997096e+08</td>\n",
       "      <td>2.555496e+08</td>\n",
       "    </tr>\n",
       "    <tr>\n",
       "      <th>17</th>\n",
       "      <td>tt0478970</td>\n",
       "      <td>115</td>\n",
       "      <td>Science Fiction|Action|Adventure</td>\n",
       "      <td>7.0</td>\n",
       "      <td>2015</td>\n",
       "      <td>1.195999e+08</td>\n",
       "      <td>4.771138e+08</td>\n",
       "      <td>3.575138e+08</td>\n",
       "    </tr>\n",
       "    <tr>\n",
       "      <th>18</th>\n",
       "      <td>tt1661199</td>\n",
       "      <td>112</td>\n",
       "      <td>Romance|Fantasy|Family|Drama</td>\n",
       "      <td>6.8</td>\n",
       "      <td>2015</td>\n",
       "      <td>8.739996e+07</td>\n",
       "      <td>4.989630e+08</td>\n",
       "      <td>4.115631e+08</td>\n",
       "    </tr>\n",
       "    <tr>\n",
       "      <th>19</th>\n",
       "      <td>tt1951266</td>\n",
       "      <td>136</td>\n",
       "      <td>War|Adventure|Science Fiction</td>\n",
       "      <td>6.5</td>\n",
       "      <td>2015</td>\n",
       "      <td>1.471999e+08</td>\n",
       "      <td>5.984813e+08</td>\n",
       "      <td>4.512814e+08</td>\n",
       "    </tr>\n",
       "    <tr>\n",
       "      <th>20</th>\n",
       "      <td>tt1964418</td>\n",
       "      <td>130</td>\n",
       "      <td>Action|Family|Science Fiction|Adventure|Mystery</td>\n",
       "      <td>6.2</td>\n",
       "      <td>2015</td>\n",
       "      <td>1.747999e+08</td>\n",
       "      <td>1.923127e+08</td>\n",
       "      <td>1.751281e+07</td>\n",
       "    </tr>\n",
       "    <tr>\n",
       "      <th>21</th>\n",
       "      <td>tt1798684</td>\n",
       "      <td>123</td>\n",
       "      <td>Action|Drama</td>\n",
       "      <td>7.3</td>\n",
       "      <td>2015</td>\n",
       "      <td>2.759999e+07</td>\n",
       "      <td>8.437300e+07</td>\n",
       "      <td>5.677302e+07</td>\n",
       "    </tr>\n",
       "    <tr>\n",
       "      <th>22</th>\n",
       "      <td>tt2126355</td>\n",
       "      <td>114</td>\n",
       "      <td>Action|Drama|Thriller</td>\n",
       "      <td>6.1</td>\n",
       "      <td>2015</td>\n",
       "      <td>1.012000e+08</td>\n",
       "      <td>4.328514e+08</td>\n",
       "      <td>3.316514e+08</td>\n",
       "    </tr>\n",
       "    <tr>\n",
       "      <th>23</th>\n",
       "      <td>tt2322441</td>\n",
       "      <td>125</td>\n",
       "      <td>Drama|Romance</td>\n",
       "      <td>5.3</td>\n",
       "      <td>2015</td>\n",
       "      <td>3.679998e+07</td>\n",
       "      <td>5.240791e+08</td>\n",
       "      <td>4.872791e+08</td>\n",
       "    </tr>\n",
       "    <tr>\n",
       "      <th>24</th>\n",
       "      <td>tt1596363</td>\n",
       "      <td>130</td>\n",
       "      <td>Comedy|Drama</td>\n",
       "      <td>7.3</td>\n",
       "      <td>2015</td>\n",
       "      <td>2.575999e+07</td>\n",
       "      <td>1.226787e+08</td>\n",
       "      <td>9.691874e+07</td>\n",
       "    </tr>\n",
       "    <tr>\n",
       "      <th>25</th>\n",
       "      <td>tt2381249</td>\n",
       "      <td>131</td>\n",
       "      <td>Action</td>\n",
       "      <td>7.1</td>\n",
       "      <td>2015</td>\n",
       "      <td>1.379999e+08</td>\n",
       "      <td>6.277435e+08</td>\n",
       "      <td>4.897435e+08</td>\n",
       "    </tr>\n",
       "    <tr>\n",
       "      <th>26</th>\n",
       "      <td>tt2637276</td>\n",
       "      <td>115</td>\n",
       "      <td>Comedy</td>\n",
       "      <td>6.3</td>\n",
       "      <td>2015</td>\n",
       "      <td>6.255997e+07</td>\n",
       "      <td>1.985944e+08</td>\n",
       "      <td>1.360345e+08</td>\n",
       "    </tr>\n",
       "    <tr>\n",
       "      <th>27</th>\n",
       "      <td>tt2802144</td>\n",
       "      <td>130</td>\n",
       "      <td>Crime|Comedy|Action|Adventure</td>\n",
       "      <td>7.6</td>\n",
       "      <td>2015</td>\n",
       "      <td>7.451997e+07</td>\n",
       "      <td>3.714978e+08</td>\n",
       "      <td>2.969778e+08</td>\n",
       "    </tr>\n",
       "    <tr>\n",
       "      <th>28</th>\n",
       "      <td>tt1895587</td>\n",
       "      <td>128</td>\n",
       "      <td>Drama|Thriller|History</td>\n",
       "      <td>7.8</td>\n",
       "      <td>2015</td>\n",
       "      <td>1.839999e+07</td>\n",
       "      <td>8.127872e+07</td>\n",
       "      <td>6.287873e+07</td>\n",
       "    </tr>\n",
       "    <tr>\n",
       "      <th>29</th>\n",
       "      <td>tt4046784</td>\n",
       "      <td>132</td>\n",
       "      <td>Action|Science Fiction|Thriller</td>\n",
       "      <td>6.4</td>\n",
       "      <td>2015</td>\n",
       "      <td>5.611998e+07</td>\n",
       "      <td>2.863562e+08</td>\n",
       "      <td>2.302363e+08</td>\n",
       "    </tr>\n",
       "    <tr>\n",
       "      <th>...</th>\n",
       "      <td>...</td>\n",
       "      <td>...</td>\n",
       "      <td>...</td>\n",
       "      <td>...</td>\n",
       "      <td>...</td>\n",
       "      <td>...</td>\n",
       "      <td>...</td>\n",
       "      <td>...</td>\n",
       "    </tr>\n",
       "    <tr>\n",
       "      <th>6051</th>\n",
       "      <td>tt2836450</td>\n",
       "      <td>79</td>\n",
       "      <td>Comedy</td>\n",
       "      <td>7.5</td>\n",
       "      <td>2013</td>\n",
       "      <td>0.000000e+00</td>\n",
       "      <td>0.000000e+00</td>\n",
       "      <td>0.000000e+00</td>\n",
       "    </tr>\n",
       "    <tr>\n",
       "      <th>6052</th>\n",
       "      <td>tt2429292</td>\n",
       "      <td>119</td>\n",
       "      <td>Drama|Music|Romance</td>\n",
       "      <td>6.2</td>\n",
       "      <td>2013</td>\n",
       "      <td>0.000000e+00</td>\n",
       "      <td>0.000000e+00</td>\n",
       "      <td>0.000000e+00</td>\n",
       "    </tr>\n",
       "    <tr>\n",
       "      <th>6053</th>\n",
       "      <td>tt2334896</td>\n",
       "      <td>83</td>\n",
       "      <td>Drama</td>\n",
       "      <td>6.2</td>\n",
       "      <td>2013</td>\n",
       "      <td>0.000000e+00</td>\n",
       "      <td>0.000000e+00</td>\n",
       "      <td>0.000000e+00</td>\n",
       "    </tr>\n",
       "    <tr>\n",
       "      <th>6054</th>\n",
       "      <td>tt3172520</td>\n",
       "      <td>93</td>\n",
       "      <td>Documentary</td>\n",
       "      <td>4.6</td>\n",
       "      <td>2013</td>\n",
       "      <td>0.000000e+00</td>\n",
       "      <td>0.000000e+00</td>\n",
       "      <td>0.000000e+00</td>\n",
       "    </tr>\n",
       "    <tr>\n",
       "      <th>6055</th>\n",
       "      <td>tt2204371</td>\n",
       "      <td>93</td>\n",
       "      <td>Documentary</td>\n",
       "      <td>7.0</td>\n",
       "      <td>2013</td>\n",
       "      <td>0.000000e+00</td>\n",
       "      <td>0.000000e+00</td>\n",
       "      <td>0.000000e+00</td>\n",
       "    </tr>\n",
       "    <tr>\n",
       "      <th>6056</th>\n",
       "      <td>tt2495118</td>\n",
       "      <td>100</td>\n",
       "      <td>Action|Drama</td>\n",
       "      <td>6.0</td>\n",
       "      <td>2013</td>\n",
       "      <td>0.000000e+00</td>\n",
       "      <td>3.546069e+04</td>\n",
       "      <td>3.546069e+04</td>\n",
       "    </tr>\n",
       "    <tr>\n",
       "      <th>6057</th>\n",
       "      <td>tt2319018</td>\n",
       "      <td>98</td>\n",
       "      <td>Comedy</td>\n",
       "      <td>5.0</td>\n",
       "      <td>2013</td>\n",
       "      <td>1.310447e+06</td>\n",
       "      <td>0.000000e+00</td>\n",
       "      <td>-1.310447e+06</td>\n",
       "    </tr>\n",
       "    <tr>\n",
       "      <th>6058</th>\n",
       "      <td>tt2187884</td>\n",
       "      <td>90</td>\n",
       "      <td>Horror|Fantasy</td>\n",
       "      <td>4.1</td>\n",
       "      <td>2013</td>\n",
       "      <td>6.084217e+02</td>\n",
       "      <td>0.000000e+00</td>\n",
       "      <td>-6.084217e+02</td>\n",
       "    </tr>\n",
       "    <tr>\n",
       "      <th>6059</th>\n",
       "      <td>tt2126403</td>\n",
       "      <td>96</td>\n",
       "      <td>Documentary</td>\n",
       "      <td>6.0</td>\n",
       "      <td>2013</td>\n",
       "      <td>0.000000e+00</td>\n",
       "      <td>6.824086e+05</td>\n",
       "      <td>6.824086e+05</td>\n",
       "    </tr>\n",
       "    <tr>\n",
       "      <th>6060</th>\n",
       "      <td>tt2450264</td>\n",
       "      <td>62</td>\n",
       "      <td>Documentary</td>\n",
       "      <td>6.7</td>\n",
       "      <td>2013</td>\n",
       "      <td>0.000000e+00</td>\n",
       "      <td>0.000000e+00</td>\n",
       "      <td>0.000000e+00</td>\n",
       "    </tr>\n",
       "    <tr>\n",
       "      <th>6061</th>\n",
       "      <td>tt2403029</td>\n",
       "      <td>83</td>\n",
       "      <td>Comedy</td>\n",
       "      <td>4.1</td>\n",
       "      <td>2013</td>\n",
       "      <td>4.212150e+06</td>\n",
       "      <td>0.000000e+00</td>\n",
       "      <td>-4.212150e+06</td>\n",
       "    </tr>\n",
       "    <tr>\n",
       "      <th>6062</th>\n",
       "      <td>tt2113683</td>\n",
       "      <td>90</td>\n",
       "      <td>Documentary</td>\n",
       "      <td>6.9</td>\n",
       "      <td>2013</td>\n",
       "      <td>0.000000e+00</td>\n",
       "      <td>0.000000e+00</td>\n",
       "      <td>0.000000e+00</td>\n",
       "    </tr>\n",
       "    <tr>\n",
       "      <th>6063</th>\n",
       "      <td>tt2479384</td>\n",
       "      <td>90</td>\n",
       "      <td>Comedy</td>\n",
       "      <td>6.6</td>\n",
       "      <td>2013</td>\n",
       "      <td>0.000000e+00</td>\n",
       "      <td>0.000000e+00</td>\n",
       "      <td>0.000000e+00</td>\n",
       "    </tr>\n",
       "    <tr>\n",
       "      <th>6064</th>\n",
       "      <td>tt2883236</td>\n",
       "      <td>8</td>\n",
       "      <td>Science Fiction|Thriller</td>\n",
       "      <td>6.1</td>\n",
       "      <td>2013</td>\n",
       "      <td>0.000000e+00</td>\n",
       "      <td>0.000000e+00</td>\n",
       "      <td>0.000000e+00</td>\n",
       "    </tr>\n",
       "    <tr>\n",
       "      <th>6065</th>\n",
       "      <td>tt1966566</td>\n",
       "      <td>131</td>\n",
       "      <td>War|Action</td>\n",
       "      <td>5.5</td>\n",
       "      <td>2013</td>\n",
       "      <td>2.808100e+07</td>\n",
       "      <td>6.377150e+07</td>\n",
       "      <td>3.569050e+07</td>\n",
       "    </tr>\n",
       "    <tr>\n",
       "      <th>6066</th>\n",
       "      <td>tt2320073</td>\n",
       "      <td>82</td>\n",
       "      <td>Adventure|Action|Thriller</td>\n",
       "      <td>3.6</td>\n",
       "      <td>2013</td>\n",
       "      <td>0.000000e+00</td>\n",
       "      <td>0.000000e+00</td>\n",
       "      <td>0.000000e+00</td>\n",
       "    </tr>\n",
       "    <tr>\n",
       "      <th>6067</th>\n",
       "      <td>tt2324998</td>\n",
       "      <td>88</td>\n",
       "      <td>Documentary</td>\n",
       "      <td>7.8</td>\n",
       "      <td>2013</td>\n",
       "      <td>0.000000e+00</td>\n",
       "      <td>0.000000e+00</td>\n",
       "      <td>0.000000e+00</td>\n",
       "    </tr>\n",
       "    <tr>\n",
       "      <th>6068</th>\n",
       "      <td>tt3131456</td>\n",
       "      <td>90</td>\n",
       "      <td>TV Movie|Romance|Comedy|Drama</td>\n",
       "      <td>5.7</td>\n",
       "      <td>2013</td>\n",
       "      <td>0.000000e+00</td>\n",
       "      <td>0.000000e+00</td>\n",
       "      <td>0.000000e+00</td>\n",
       "    </tr>\n",
       "    <tr>\n",
       "      <th>6069</th>\n",
       "      <td>tt1863201</td>\n",
       "      <td>87</td>\n",
       "      <td>Horror</td>\n",
       "      <td>4.4</td>\n",
       "      <td>2013</td>\n",
       "      <td>0.000000e+00</td>\n",
       "      <td>0.000000e+00</td>\n",
       "      <td>0.000000e+00</td>\n",
       "    </tr>\n",
       "    <tr>\n",
       "      <th>6070</th>\n",
       "      <td>tt3129484</td>\n",
       "      <td>88</td>\n",
       "      <td>Documentary</td>\n",
       "      <td>6.6</td>\n",
       "      <td>2013</td>\n",
       "      <td>0.000000e+00</td>\n",
       "      <td>0.000000e+00</td>\n",
       "      <td>0.000000e+00</td>\n",
       "    </tr>\n",
       "    <tr>\n",
       "      <th>6071</th>\n",
       "      <td>NaN</td>\n",
       "      <td>7</td>\n",
       "      <td>Action|Science Fiction</td>\n",
       "      <td>7.5</td>\n",
       "      <td>2013</td>\n",
       "      <td>4.680167e+02</td>\n",
       "      <td>0.000000e+00</td>\n",
       "      <td>-4.680167e+02</td>\n",
       "    </tr>\n",
       "    <tr>\n",
       "      <th>6072</th>\n",
       "      <td>tt2464018</td>\n",
       "      <td>85</td>\n",
       "      <td>Comedy</td>\n",
       "      <td>7.4</td>\n",
       "      <td>2013</td>\n",
       "      <td>0.000000e+00</td>\n",
       "      <td>0.000000e+00</td>\n",
       "      <td>0.000000e+00</td>\n",
       "    </tr>\n",
       "    <tr>\n",
       "      <th>6073</th>\n",
       "      <td>tt2446192</td>\n",
       "      <td>88</td>\n",
       "      <td>Documentary</td>\n",
       "      <td>5.8</td>\n",
       "      <td>2013</td>\n",
       "      <td>3.258931e+05</td>\n",
       "      <td>0.000000e+00</td>\n",
       "      <td>-3.258931e+05</td>\n",
       "    </tr>\n",
       "    <tr>\n",
       "      <th>6074</th>\n",
       "      <td>tt3295244</td>\n",
       "      <td>71</td>\n",
       "      <td>Comedy</td>\n",
       "      <td>7.2</td>\n",
       "      <td>2013</td>\n",
       "      <td>0.000000e+00</td>\n",
       "      <td>0.000000e+00</td>\n",
       "      <td>0.000000e+00</td>\n",
       "    </tr>\n",
       "    <tr>\n",
       "      <th>6075</th>\n",
       "      <td>tt3148890</td>\n",
       "      <td>91</td>\n",
       "      <td>Horror</td>\n",
       "      <td>4.9</td>\n",
       "      <td>2013</td>\n",
       "      <td>0.000000e+00</td>\n",
       "      <td>0.000000e+00</td>\n",
       "      <td>0.000000e+00</td>\n",
       "    </tr>\n",
       "    <tr>\n",
       "      <th>6076</th>\n",
       "      <td>tt2737310</td>\n",
       "      <td>75</td>\n",
       "      <td>Documentary|Music</td>\n",
       "      <td>7.4</td>\n",
       "      <td>2013</td>\n",
       "      <td>0.000000e+00</td>\n",
       "      <td>1.286671e+05</td>\n",
       "      <td>1.286671e+05</td>\n",
       "    </tr>\n",
       "    <tr>\n",
       "      <th>6077</th>\n",
       "      <td>tt2740710</td>\n",
       "      <td>85</td>\n",
       "      <td>Action|Science Fiction</td>\n",
       "      <td>2.2</td>\n",
       "      <td>2013</td>\n",
       "      <td>0.000000e+00</td>\n",
       "      <td>0.000000e+00</td>\n",
       "      <td>0.000000e+00</td>\n",
       "    </tr>\n",
       "    <tr>\n",
       "      <th>6078</th>\n",
       "      <td>tt3231100</td>\n",
       "      <td>107</td>\n",
       "      <td>Documentary</td>\n",
       "      <td>7.8</td>\n",
       "      <td>2013</td>\n",
       "      <td>0.000000e+00</td>\n",
       "      <td>0.000000e+00</td>\n",
       "      <td>0.000000e+00</td>\n",
       "    </tr>\n",
       "    <tr>\n",
       "      <th>6079</th>\n",
       "      <td>tt3141866</td>\n",
       "      <td>180</td>\n",
       "      <td>Drama|Family</td>\n",
       "      <td>5.6</td>\n",
       "      <td>2013</td>\n",
       "      <td>0.000000e+00</td>\n",
       "      <td>0.000000e+00</td>\n",
       "      <td>0.000000e+00</td>\n",
       "    </tr>\n",
       "    <tr>\n",
       "      <th>6080</th>\n",
       "      <td>tt2429074</td>\n",
       "      <td>92</td>\n",
       "      <td>Comedy</td>\n",
       "      <td>6.1</td>\n",
       "      <td>2013</td>\n",
       "      <td>0.000000e+00</td>\n",
       "      <td>0.000000e+00</td>\n",
       "      <td>0.000000e+00</td>\n",
       "    </tr>\n",
       "  </tbody>\n",
       "</table>\n",
       "<p>3593 rows × 8 columns</p>\n",
       "</div>"
      ],
      "text/plain": [
       "        imdb_id  runtime                                           genres  \\\n",
       "0     tt0369610      124        Action|Adventure|Science Fiction|Thriller   \n",
       "1     tt1392190      120        Action|Adventure|Science Fiction|Thriller   \n",
       "2     tt2908446      119               Adventure|Science Fiction|Thriller   \n",
       "3     tt2488496      136         Action|Adventure|Science Fiction|Fantasy   \n",
       "4     tt2820852      137                            Action|Crime|Thriller   \n",
       "5     tt1663202      156                 Western|Drama|Adventure|Thriller   \n",
       "6     tt1340138      125        Science Fiction|Action|Thriller|Adventure   \n",
       "7     tt3659388      141                  Drama|Adventure|Science Fiction   \n",
       "8     tt2293640       91                Family|Animation|Adventure|Comedy   \n",
       "9     tt2096673       94                          Comedy|Animation|Family   \n",
       "10    tt2379713      148                           Action|Adventure|Crime   \n",
       "11    tt1617661      124         Science Fiction|Fantasy|Action|Adventure   \n",
       "12    tt0470752      108                            Drama|Science Fiction   \n",
       "13    tt2120120      105                    Action|Comedy|Science Fiction   \n",
       "14    tt2395427      141                 Action|Adventure|Science Fiction   \n",
       "15    tt3460252      167                      Crime|Drama|Mystery|Western   \n",
       "16    tt2446042      109                            Crime|Action|Thriller   \n",
       "17    tt0478970      115                 Science Fiction|Action|Adventure   \n",
       "18    tt1661199      112                     Romance|Fantasy|Family|Drama   \n",
       "19    tt1951266      136                    War|Adventure|Science Fiction   \n",
       "20    tt1964418      130  Action|Family|Science Fiction|Adventure|Mystery   \n",
       "21    tt1798684      123                                     Action|Drama   \n",
       "22    tt2126355      114                            Action|Drama|Thriller   \n",
       "23    tt2322441      125                                    Drama|Romance   \n",
       "24    tt1596363      130                                     Comedy|Drama   \n",
       "25    tt2381249      131                                           Action   \n",
       "26    tt2637276      115                                           Comedy   \n",
       "27    tt2802144      130                    Crime|Comedy|Action|Adventure   \n",
       "28    tt1895587      128                           Drama|Thriller|History   \n",
       "29    tt4046784      132                  Action|Science Fiction|Thriller   \n",
       "...         ...      ...                                              ...   \n",
       "6051  tt2836450       79                                           Comedy   \n",
       "6052  tt2429292      119                              Drama|Music|Romance   \n",
       "6053  tt2334896       83                                            Drama   \n",
       "6054  tt3172520       93                                      Documentary   \n",
       "6055  tt2204371       93                                      Documentary   \n",
       "6056  tt2495118      100                                     Action|Drama   \n",
       "6057  tt2319018       98                                           Comedy   \n",
       "6058  tt2187884       90                                   Horror|Fantasy   \n",
       "6059  tt2126403       96                                      Documentary   \n",
       "6060  tt2450264       62                                      Documentary   \n",
       "6061  tt2403029       83                                           Comedy   \n",
       "6062  tt2113683       90                                      Documentary   \n",
       "6063  tt2479384       90                                           Comedy   \n",
       "6064  tt2883236        8                         Science Fiction|Thriller   \n",
       "6065  tt1966566      131                                       War|Action   \n",
       "6066  tt2320073       82                        Adventure|Action|Thriller   \n",
       "6067  tt2324998       88                                      Documentary   \n",
       "6068  tt3131456       90                    TV Movie|Romance|Comedy|Drama   \n",
       "6069  tt1863201       87                                           Horror   \n",
       "6070  tt3129484       88                                      Documentary   \n",
       "6071        NaN        7                           Action|Science Fiction   \n",
       "6072  tt2464018       85                                           Comedy   \n",
       "6073  tt2446192       88                                      Documentary   \n",
       "6074  tt3295244       71                                           Comedy   \n",
       "6075  tt3148890       91                                           Horror   \n",
       "6076  tt2737310       75                                Documentary|Music   \n",
       "6077  tt2740710       85                           Action|Science Fiction   \n",
       "6078  tt3231100      107                                      Documentary   \n",
       "6079  tt3141866      180                                     Drama|Family   \n",
       "6080  tt2429074       92                                           Comedy   \n",
       "\n",
       "      vote_average  release_year    budget_adj   revenue_adj    profit_adj  \n",
       "0              6.5          2015  1.379999e+08  1.392446e+09  1.254446e+09  \n",
       "1              7.1          2015  1.379999e+08  3.481613e+08  2.101614e+08  \n",
       "2              6.3          2015  1.012000e+08  2.716190e+08  1.704191e+08  \n",
       "3              7.5          2015  1.839999e+08  1.902723e+09  1.718723e+09  \n",
       "4              7.3          2015  1.747999e+08  1.385749e+09  1.210949e+09  \n",
       "5              7.2          2015  1.241999e+08  4.903142e+08  3.661143e+08  \n",
       "6              5.8          2015  1.425999e+08  4.053551e+08  2.627551e+08  \n",
       "7              7.6          2015  9.935996e+07  5.477497e+08  4.483897e+08  \n",
       "8              6.5          2015  6.807997e+07  1.064192e+09  9.961120e+08  \n",
       "9              8.0          2015  1.609999e+08  7.854116e+08  6.244116e+08  \n",
       "10             6.2          2015  2.253999e+08  8.102203e+08  5.848204e+08  \n",
       "11             5.2          2015  1.619199e+08  1.692686e+08  7.348699e+06  \n",
       "12             7.6          2015  1.379999e+07  3.391985e+07  2.011985e+07  \n",
       "13             5.8          2015  8.095996e+07  2.241460e+08  1.431861e+08  \n",
       "14             7.4          2015  2.575999e+08  1.292632e+09  1.035032e+09  \n",
       "15             7.4          2015  4.047998e+07  1.432992e+08  1.028193e+08  \n",
       "16             6.1          2015  4.415998e+07  2.997096e+08  2.555496e+08  \n",
       "17             7.0          2015  1.195999e+08  4.771138e+08  3.575138e+08  \n",
       "18             6.8          2015  8.739996e+07  4.989630e+08  4.115631e+08  \n",
       "19             6.5          2015  1.471999e+08  5.984813e+08  4.512814e+08  \n",
       "20             6.2          2015  1.747999e+08  1.923127e+08  1.751281e+07  \n",
       "21             7.3          2015  2.759999e+07  8.437300e+07  5.677302e+07  \n",
       "22             6.1          2015  1.012000e+08  4.328514e+08  3.316514e+08  \n",
       "23             5.3          2015  3.679998e+07  5.240791e+08  4.872791e+08  \n",
       "24             7.3          2015  2.575999e+07  1.226787e+08  9.691874e+07  \n",
       "25             7.1          2015  1.379999e+08  6.277435e+08  4.897435e+08  \n",
       "26             6.3          2015  6.255997e+07  1.985944e+08  1.360345e+08  \n",
       "27             7.6          2015  7.451997e+07  3.714978e+08  2.969778e+08  \n",
       "28             7.8          2015  1.839999e+07  8.127872e+07  6.287873e+07  \n",
       "29             6.4          2015  5.611998e+07  2.863562e+08  2.302363e+08  \n",
       "...            ...           ...           ...           ...           ...  \n",
       "6051           7.5          2013  0.000000e+00  0.000000e+00  0.000000e+00  \n",
       "6052           6.2          2013  0.000000e+00  0.000000e+00  0.000000e+00  \n",
       "6053           6.2          2013  0.000000e+00  0.000000e+00  0.000000e+00  \n",
       "6054           4.6          2013  0.000000e+00  0.000000e+00  0.000000e+00  \n",
       "6055           7.0          2013  0.000000e+00  0.000000e+00  0.000000e+00  \n",
       "6056           6.0          2013  0.000000e+00  3.546069e+04  3.546069e+04  \n",
       "6057           5.0          2013  1.310447e+06  0.000000e+00 -1.310447e+06  \n",
       "6058           4.1          2013  6.084217e+02  0.000000e+00 -6.084217e+02  \n",
       "6059           6.0          2013  0.000000e+00  6.824086e+05  6.824086e+05  \n",
       "6060           6.7          2013  0.000000e+00  0.000000e+00  0.000000e+00  \n",
       "6061           4.1          2013  4.212150e+06  0.000000e+00 -4.212150e+06  \n",
       "6062           6.9          2013  0.000000e+00  0.000000e+00  0.000000e+00  \n",
       "6063           6.6          2013  0.000000e+00  0.000000e+00  0.000000e+00  \n",
       "6064           6.1          2013  0.000000e+00  0.000000e+00  0.000000e+00  \n",
       "6065           5.5          2013  2.808100e+07  6.377150e+07  3.569050e+07  \n",
       "6066           3.6          2013  0.000000e+00  0.000000e+00  0.000000e+00  \n",
       "6067           7.8          2013  0.000000e+00  0.000000e+00  0.000000e+00  \n",
       "6068           5.7          2013  0.000000e+00  0.000000e+00  0.000000e+00  \n",
       "6069           4.4          2013  0.000000e+00  0.000000e+00  0.000000e+00  \n",
       "6070           6.6          2013  0.000000e+00  0.000000e+00  0.000000e+00  \n",
       "6071           7.5          2013  4.680167e+02  0.000000e+00 -4.680167e+02  \n",
       "6072           7.4          2013  0.000000e+00  0.000000e+00  0.000000e+00  \n",
       "6073           5.8          2013  3.258931e+05  0.000000e+00 -3.258931e+05  \n",
       "6074           7.2          2013  0.000000e+00  0.000000e+00  0.000000e+00  \n",
       "6075           4.9          2013  0.000000e+00  0.000000e+00  0.000000e+00  \n",
       "6076           7.4          2013  0.000000e+00  1.286671e+05  1.286671e+05  \n",
       "6077           2.2          2013  0.000000e+00  0.000000e+00  0.000000e+00  \n",
       "6078           7.8          2013  0.000000e+00  0.000000e+00  0.000000e+00  \n",
       "6079           5.6          2013  0.000000e+00  0.000000e+00  0.000000e+00  \n",
       "6080           6.1          2013  0.000000e+00  0.000000e+00  0.000000e+00  \n",
       "\n",
       "[3593 rows x 8 columns]"
      ]
     },
     "execution_count": 160,
     "metadata": {},
     "output_type": "execute_result"
    }
   ],
   "source": [
    "df.query('release_year>2009 & release_year<=2015')"
   ]
  },
  {
   "cell_type": "code",
   "execution_count": 161,
   "metadata": {},
   "outputs": [],
   "source": [
    "df.drop(df.index[df['budget_adj']== 0], inplace = True)"
   ]
  },
  {
   "cell_type": "code",
   "execution_count": 162,
   "metadata": {
    "scrolled": true
   },
   "outputs": [
    {
     "name": "stdout",
     "output_type": "stream",
     "text": [
      "<class 'pandas.core.frame.DataFrame'>\n",
      "Int64Index: 5168 entries, 0 to 10865\n",
      "Data columns (total 8 columns):\n",
      "imdb_id         5167 non-null object\n",
      "runtime         5168 non-null int64\n",
      "genres          5168 non-null object\n",
      "vote_average    5168 non-null float64\n",
      "release_year    5168 non-null int64\n",
      "budget_adj      5168 non-null float64\n",
      "revenue_adj     5168 non-null float64\n",
      "profit_adj      5168 non-null float64\n",
      "dtypes: float64(4), int64(2), object(2)\n",
      "memory usage: 363.4+ KB\n"
     ]
    }
   ],
   "source": [
    "df.info()"
   ]
  },
  {
   "cell_type": "markdown",
   "metadata": {},
   "source": [
    "In paralel I perform the same steps on .csv file to check if the cleaned data includes the remaining information as intended."
   ]
  },
  {
   "cell_type": "code",
   "execution_count": 163,
   "metadata": {},
   "outputs": [],
   "source": [
    "df.drop(df.index[df['revenue_adj']== 0], inplace = True)"
   ]
  },
  {
   "cell_type": "code",
   "execution_count": 164,
   "metadata": {
    "scrolled": true
   },
   "outputs": [
    {
     "name": "stdout",
     "output_type": "stream",
     "text": [
      "<class 'pandas.core.frame.DataFrame'>\n",
      "Int64Index: 3854 entries, 0 to 10848\n",
      "Data columns (total 8 columns):\n",
      "imdb_id         3854 non-null object\n",
      "runtime         3854 non-null int64\n",
      "genres          3854 non-null object\n",
      "vote_average    3854 non-null float64\n",
      "release_year    3854 non-null int64\n",
      "budget_adj      3854 non-null float64\n",
      "revenue_adj     3854 non-null float64\n",
      "profit_adj      3854 non-null float64\n",
      "dtypes: float64(4), int64(2), object(2)\n",
      "memory usage: 271.0+ KB\n"
     ]
    }
   ],
   "source": [
    "df.info()"
   ]
  },
  {
   "cell_type": "markdown",
   "metadata": {},
   "source": [
    "Also 3854 lines are remained in .csv file after cleaning in order to solve for the analysis of this second question."
   ]
  },
  {
   "cell_type": "code",
   "execution_count": 165,
   "metadata": {
    "scrolled": false
   },
   "outputs": [
    {
     "data": {
      "image/png": "[encoded data removed]",
      "text/plain": [
       "<matplotlib.figure.Figure at 0x7fde83b64cf8>"
      ]
     },
     "metadata": {
      "needs_background": "light"
     },
     "output_type": "display_data"
    }
   ],
   "source": [
    "df.groupby('release_year').mean()['profit_adj'].plot()\n",
    "df.groupby('release_year').mean()['budget_adj'].plot()\n",
    "plt.title ('Movie Profits over Years')\n",
    "plt.xlabel('Release year')\n",
    "plt.ylabel('Money amount')\n",
    "plt.legend();"
   ]
  },
  {
   "cell_type": "markdown",
   "metadata": {},
   "source": [
    "The plot above indicates the relation between the budgets and obtained profits year by year correctly in comparison\n",
    "to first plot for Q4. The main difference with respect to the initial plot is that mean profit is observed never less than mean budget."
   ]
  },
  {
   "cell_type": "markdown",
   "metadata": {},
   "source": [
    "<a id='conclusions'></a>\n",
    "## Conclusions\n",
    "\n",
    "I have to assess the limitations that I faced, from two different approaches at that section. \n",
    "\n",
    "First of all, the data is pretty sufficient to perform investigation if superficial observation is required. Especially if answers to single-variable exploration are searched like how many movie is filmed based on years or their runtime is investigated, the investigation success is highly satisfactory. These informations are more likely to be present at many sources. \n",
    "\n",
    "But, if the investigation is deepened to deal with multiple-variable explorations and enlighten the relations between budget and revenue, missing values are encountered for almost two thirds of entire data. This affects the precision and profitability of deductions totally. And more critical point is that missing objects can be detected easily, but missing in other words zero integers should be post-processed to understand whether these data is given zero intentionally or really missing part of the dataset.et.   \n",
    "\n",
    "And also during the best rated genre investigation in this study, the votecount is not considered. The involvement of vote density/count genre by genre may increase the precision of statements. \n",
    "\n",
    "Additionally, there was no data available for the years as of 2015. Therefore, this study does not involve the state of affairs in movie sector for near today. \n",
    "\n",
    "However, the dataset was beneficial to understand basic relations from the movie production point of view.\n",
    "\n",
    "The data is purified from that missing data as far as possible. There was no data available for the years as of 2015. The investigation is done after posing some questions and selecting the related columns regardingly. The classification of the movies can be deep-dived by considering the other related information like total vote amount. Comments and details are discussed right below the questions and code-sections. \n",
    "\n",
    "To sum up, the amount of producted films increases exponentially year by year. In 2010, there 3 times more films have been released in comparison to 2000's.\n",
    "\n",
    "Average runtime has been reduced below 100 minutes and average movie brings profit at least more than it' s production budget.\n",
    "\n",
    "\n",
    "\n",
    "\n",
    "## Submitting your Project \n",
    "\n",
    "> Before you submit your project, you need to create a .html or .pdf version of this notebook in the workspace here. To do that, run the code cell below. If it worked correctly, you should get a return code of 0, and you should see the generated .html file in the workspace directory (click on the orange Jupyter icon in the upper left).\n",
    "\n",
    "> Alternatively, you can download this report as .html via the **File** > **Download as** submenu, and then manually upload it into the workspace directory by clicking on the orange Jupyter icon in the upper left, then using the Upload button.\n",
    "\n",
    "> Once you've done this, you can submit your project by clicking on the \"Submit Project\" button in the lower right here. This will create and submit a zip file with this .ipynb doc and the .html or .pdf version you created. Congratulations!"
   ]
  },
  {
   "cell_type": "code",
   "execution_count": 166,
   "metadata": {},
   "outputs": [
    {
     "data": {
      "text/plain": [
       "0"
      ]
     },
     "execution_count": 166,
     "metadata": {},
     "output_type": "execute_result"
    }
   ],
   "source": [
    "from subprocess import call\n",
    "call(['python', '-m', 'nbconvert', 'Investigate_a_Dataset.ipynb'])"
   ]
  }
 ],
 "metadata": {
  "kernelspec": {
   "display_name": "Python 3",
   "language": "python",
   "name": "python3"
  },
  "language_info": {
   "codemirror_mode": {
    "name": "ipython",
    "version": 3
   },
   "file_extension": ".py",
   "mimetype": "text/x-python",
   "name": "python",
   "nbconvert_exporter": "python",
   "pygments_lexer": "ipython3",
   "version": "3.6.3"
  }
 },
 "nbformat": 4,
 "nbformat_minor": 2
}
