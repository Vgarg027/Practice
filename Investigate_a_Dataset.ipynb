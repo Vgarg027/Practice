{
 "cells": [
  {
   "cell_type": "markdown",
   "metadata": {},
   "source": [
    "> **Tip**: Welcome to the Investigate a Dataset project! You will find tips in quoted sections like this to help organize your approach to your investigation. Once you complete this project, remove these **Tip** sections from your report before submission. First things first, you might want to double-click this Markdown cell and change the title so that it reflects your dataset and investigation.\n",
    "\n",
    "# Project: Investigate a Dataset - [no show clinic appointments]\n",
    "\n",
    "## Table of Contents\n",
    "<ul>\n",
    "<li><a href=\"#intro\">Introduction</a></li>\n",
    "<li><a href=\"#wrangling\">Data Wrangling</a></li>\n",
    "<li><a href=\"#eda\">Exploratory Data Analysis</a></li>\n",
    "<li><a href=\"#conclusions\">Conclusions</a></li>\n",
    "</ul>"
   ]
  },
  {
   "cell_type": "markdown",
   "metadata": {},
   "source": [
    "<a id='intro'></a>\n",
    "## Introduction\n",
    "\n",
    "### Dataset Description \n",
    "\n",
    "This dataset collects information from 100k medical appointments in Brazil and is focused on the question of whether or not patients show up for their appointment. A number of characteristics about the patient are included in each row.\n",
    "\n",
    "‘ScheduledDay’ tells us on what day the patient set up their appointment.\n",
    "‘Neighborhood’ indicates the location of the hospital.\n",
    "‘Scholarship’ indicates whether or not the patient is enrolled in Brasilian welfare program Bolsa Família.\n",
    "Be careful about the encoding of the last column: it says ‘No’ if the patient showed up to their appointment, and ‘Yes’ if they did not show up.\n",
    "\n",
    "### Question(s) for Analysis\n",
    ">**Tip**: Clearly state one or more questions that you plan on exploring over the course of the report. You will address these questions in the **data analysis** and **conclusion** sections. Try to build your report around the analysis of at least one dependent variable and three independent variables. If you're not sure what questions to ask, then make sure you familiarize yourself with the dataset, its variables and the dataset context for ideas of what to explore.\n",
    "\n",
    "> **Tip**: Once you start coding, use NumPy arrays, Pandas Series, and DataFrames where appropriate rather than Python lists and dictionaries. Also, **use good coding practices**, such as, define and use functions to avoid repetitive code. Use appropriate comments within the code cells, explanation in the mark-down cells, and meaningful variable names. "
   ]
  },
  {
   "cell_type": "code",
   "execution_count": 1,
   "metadata": {},
   "outputs": [],
   "source": [
    "# Use this cell to set up import statements for all of the packages that you\n",
    "#   plan to use.\n",
    "import pandas as pd\n",
    "import numpy as np\n",
    "import matplotlib.pyplot as plt\n",
    "import seaborn as sns\n",
    "from sklearn.preprocessing import StandardScaler\n",
    "from sklearn.model_selection import train_test_split\n",
    "\n",
    "import tensorflow as tf\n",
    "\n",
    "\n",
    "# Remember to include a 'magic word' so that your visualizations are plotted\n",
    "#   inline with the notebook. See this page for more:\n",
    "#   http://ipython.readthedocs.io/en/stable/interactive/magics.html\n",
    "%matplotlib inline "
   ]
  },
  {
   "cell_type": "code",
   "execution_count": 2,
   "metadata": {},
   "outputs": [
    {
     "name": "stdout",
     "output_type": "stream",
     "text": [
      "Collecting pandas==0.25.0\n",
      "\u001b[?25l  Downloading https://files.pythonhosted.org/packages/1d/9a/7eb9952f4b4d73fbd75ad1d5d6112f407e695957444cb695cbb3cdab918a/pandas-0.25.0-cp36-cp36m-manylinux1_x86_64.whl (10.5MB)\n",
      "\u001b[K    100% |████████████████████████████████| 10.5MB 2.8MB/s eta 0:00:01  2% |▉                               | 266kB 14.3MB/s eta 0:00:01    25% |████████▎                       | 2.7MB 27.2MB/s eta 0:00:01    56% |██████████████████▏             | 5.9MB 24.8MB/s eta 0:00:01\n",
      "\u001b[?25hRequirement already satisfied, skipping upgrade: python-dateutil>=2.6.1 in /opt/conda/lib/python3.6/site-packages (from pandas==0.25.0) (2.6.1)\n",
      "Collecting numpy>=1.13.3 (from pandas==0.25.0)\n",
      "\u001b[?25l  Downloading https://files.pythonhosted.org/packages/45/b2/6c7545bb7a38754d63048c7696804a0d947328125d81bf12beaa692c3ae3/numpy-1.19.5-cp36-cp36m-manylinux1_x86_64.whl (13.4MB)\n",
      "\u001b[K    100% |████████████████████████████████| 13.4MB 2.3MB/s eta 0:00:01  5% |█▉                              | 788kB 23.1MB/s eta 0:00:01    15% |█████                           | 2.1MB 27.1MB/s eta 0:00:01    42% |█████████████▌                  | 5.7MB 18.5MB/s eta 0:00:01    51% |████████████████▍               | 6.9MB 27.7MB/s eta 0:00:01    59% |███████████████████▏            | 8.0MB 21.2MB/s eta 0:00:01    86% |███████████████████████████▊    | 11.6MB 26.2MB/s eta 0:00:01\n",
      "\u001b[?25hRequirement already satisfied, skipping upgrade: pytz>=2017.2 in /opt/conda/lib/python3.6/site-packages (from pandas==0.25.0) (2017.3)\n",
      "Requirement already satisfied, skipping upgrade: six>=1.5 in /opt/conda/lib/python3.6/site-packages (from python-dateutil>=2.6.1->pandas==0.25.0) (1.11.0)\n",
      "\u001b[31mtensorflow 1.3.0 requires tensorflow-tensorboard<0.2.0,>=0.1.0, which is not installed.\u001b[0m\n",
      "Installing collected packages: numpy, pandas\n",
      "  Found existing installation: numpy 1.12.1\n",
      "    Uninstalling numpy-1.12.1:\n",
      "      Successfully uninstalled numpy-1.12.1\n",
      "  Found existing installation: pandas 0.23.3\n",
      "    Uninstalling pandas-0.23.3:\n",
      "      Successfully uninstalled pandas-0.23.3\n",
      "Successfully installed numpy-1.19.5 pandas-0.25.0\n"
     ]
    }
   ],
   "source": [
    "# Upgrade pandas to use dataframe.explode() function. \n",
    "!pip install --upgrade pandas==0.25.0"
   ]
  },
  {
   "cell_type": "markdown",
   "metadata": {},
   "source": [
    "<a id='wrangling'></a>\n",
    "## Data Wrangling\n",
    "\n",
    "> **Tip**: In this section of the report, you will load in the data, check for cleanliness, and then trim and clean your dataset for analysis. Make sure that you **document your data cleaning steps in mark-down cells precisely and justify your cleaning decisions.**\n",
    "\n",
    "\n",
    "### General Properties\n",
    "> **Tip**: You should _not_ perform too many operations in each cell. Create cells freely to explore your data. One option that you can take with this project is to do a lot of explorations in an initial notebook. These don't have to be organized, but make sure you use enough comments to understand the purpose of each code cell. Then, after you're done with your analysis, create a duplicate notebook where you will trim the excess and organize your steps so that you have a flowing, cohesive report."
   ]
  },
  {
   "cell_type": "code",
   "execution_count": 3,
   "metadata": {
    "scrolled": true
   },
   "outputs": [],
   "source": [
    "# Load your data and print out a few lines. Perform operations to inspect data\n",
    "#   types and look for instances of missing or possibly errant data.\n"
   ]
  },
  {
   "cell_type": "code",
   "execution_count": 4,
   "metadata": {},
   "outputs": [
    {
     "data": {
      "text/plain": [
       "<bound method NDFrame.head of            PatientId  AppointmentID Gender          ScheduledDay  \\\n",
       "0       2.987250e+13        5642903      F  2016-04-29T18:38:08Z   \n",
       "1       5.589978e+14        5642503      M  2016-04-29T16:08:27Z   \n",
       "2       4.262962e+12        5642549      F  2016-04-29T16:19:04Z   \n",
       "3       8.679512e+11        5642828      F  2016-04-29T17:29:31Z   \n",
       "4       8.841186e+12        5642494      F  2016-04-29T16:07:23Z   \n",
       "5       9.598513e+13        5626772      F  2016-04-27T08:36:51Z   \n",
       "6       7.336882e+14        5630279      F  2016-04-27T15:05:12Z   \n",
       "7       3.449833e+12        5630575      F  2016-04-27T15:39:58Z   \n",
       "8       5.639473e+13        5638447      F  2016-04-29T08:02:16Z   \n",
       "9       7.812456e+13        5629123      F  2016-04-27T12:48:25Z   \n",
       "10      7.345362e+14        5630213      F  2016-04-27T14:58:11Z   \n",
       "11      7.542951e+12        5620163      M  2016-04-26T08:44:12Z   \n",
       "12      5.666548e+14        5634718      F  2016-04-28T11:33:51Z   \n",
       "13      9.113946e+14        5636249      M  2016-04-28T14:52:07Z   \n",
       "14      9.988472e+13        5633951      F  2016-04-28T10:06:24Z   \n",
       "15      9.994839e+10        5620206      F  2016-04-26T08:47:27Z   \n",
       "16      8.457439e+13        5633121      M  2016-04-28T08:51:47Z   \n",
       "17      1.479497e+13        5633460      F  2016-04-28T09:28:57Z   \n",
       "18      1.713538e+13        5621836      F  2016-04-26T10:54:18Z   \n",
       "19      7.223289e+12        5640433      F  2016-04-29T10:43:14Z   \n",
       "20      6.222575e+14        5626083      F  2016-04-27T07:51:14Z   \n",
       "21      1.215484e+13        5628338      F  2016-04-27T10:50:45Z   \n",
       "22      8.632298e+14        5616091      M  2016-04-25T13:29:16Z   \n",
       "23      2.137540e+14        5634142      F  2016-04-28T10:27:05Z   \n",
       "24      8.734858e+12        5641780      F  2016-04-29T14:19:19Z   \n",
       "25      5.819370e+12        5624020      M  2016-04-26T15:04:17Z   \n",
       "26      2.578785e+10        5641781      F  2016-04-29T14:19:42Z   \n",
       "27      1.215484e+13        5628345      F  2016-04-27T10:51:45Z   \n",
       "28      5.926172e+12        5642400      M  2016-04-29T15:48:02Z   \n",
       "29      1.225776e+12        5642186      F  2016-04-29T15:16:29Z   \n",
       "...              ...            ...    ...                   ...   \n",
       "110497  7.935892e+14        5757745      M  2016-06-01T09:46:33Z   \n",
       "110498  9.433654e+13        5787655      F  2016-06-08T10:21:14Z   \n",
       "110499  8.219692e+14        5757697      F  2016-06-01T09:42:56Z   \n",
       "110500  4.434384e+14        5787233      F  2016-06-08T09:35:13Z   \n",
       "110501  4.544252e+11        5758133      M  2016-06-01T10:19:12Z   \n",
       "110502  7.316229e+14        5787937      F  2016-06-08T10:50:42Z   \n",
       "110503  2.362182e+13        5759473      F  2016-06-01T13:00:36Z   \n",
       "110504  9.947983e+12        5788052      F  2016-06-08T11:06:21Z   \n",
       "110505  5.667344e+13        5758455      F  2016-06-01T10:45:50Z   \n",
       "110506  8.973883e+11        5758779      M  2016-06-01T11:09:20Z   \n",
       "110507  4.769462e+14        5786918      F  2016-06-08T09:04:18Z   \n",
       "110508  9.433654e+13        5757656      F  2016-06-01T09:41:00Z   \n",
       "110509  4.952968e+14        5786750      M  2016-06-08T08:50:51Z   \n",
       "110510  2.362182e+13        5757587      F  2016-06-01T09:35:48Z   \n",
       "110511  8.235996e+11        5786742      F  2016-06-08T08:50:20Z   \n",
       "110512  9.876246e+13        5786368      F  2016-06-08T08:20:01Z   \n",
       "110513  8.674778e+13        5785964      M  2016-06-08T07:52:55Z   \n",
       "110514  2.695685e+12        5786567      F  2016-06-08T08:35:31Z   \n",
       "110515  6.456342e+14        5778621      M  2016-06-06T15:58:05Z   \n",
       "110516  6.923772e+13        5780205      F  2016-06-07T07:45:16Z   \n",
       "110517  5.574942e+12        5780122      F  2016-06-07T07:38:34Z   \n",
       "110518  7.263315e+13        5630375      F  2016-04-27T15:15:06Z   \n",
       "110519  6.542388e+13        5630447      F  2016-04-27T15:23:14Z   \n",
       "110520  9.969977e+14        5650534      F  2016-05-03T07:51:47Z   \n",
       "110521  3.635534e+13        5651072      F  2016-05-03T08:23:40Z   \n",
       "110522  2.572134e+12        5651768      F  2016-05-03T09:15:35Z   \n",
       "110523  3.596266e+12        5650093      F  2016-05-03T07:27:33Z   \n",
       "110524  1.557663e+13        5630692      F  2016-04-27T16:03:52Z   \n",
       "110525  9.213493e+13        5630323      F  2016-04-27T15:09:23Z   \n",
       "110526  3.775115e+14        5629448      F  2016-04-27T13:30:56Z   \n",
       "\n",
       "              AppointmentDay  Age      Neighbourhood  Scholarship  \\\n",
       "0       2016-04-29T00:00:00Z   62    JARDIM DA PENHA            0   \n",
       "1       2016-04-29T00:00:00Z   56    JARDIM DA PENHA            0   \n",
       "2       2016-04-29T00:00:00Z   62      MATA DA PRAIA            0   \n",
       "3       2016-04-29T00:00:00Z    8  PONTAL DE CAMBURI            0   \n",
       "4       2016-04-29T00:00:00Z   56    JARDIM DA PENHA            0   \n",
       "5       2016-04-29T00:00:00Z   76          REPÚBLICA            0   \n",
       "6       2016-04-29T00:00:00Z   23         GOIABEIRAS            0   \n",
       "7       2016-04-29T00:00:00Z   39         GOIABEIRAS            0   \n",
       "8       2016-04-29T00:00:00Z   21         ANDORINHAS            0   \n",
       "9       2016-04-29T00:00:00Z   19          CONQUISTA            0   \n",
       "10      2016-04-29T00:00:00Z   30     NOVA PALESTINA            0   \n",
       "11      2016-04-29T00:00:00Z   29     NOVA PALESTINA            0   \n",
       "12      2016-04-29T00:00:00Z   22     NOVA PALESTINA            1   \n",
       "13      2016-04-29T00:00:00Z   28     NOVA PALESTINA            0   \n",
       "14      2016-04-29T00:00:00Z   54     NOVA PALESTINA            0   \n",
       "15      2016-04-29T00:00:00Z   15     NOVA PALESTINA            0   \n",
       "16      2016-04-29T00:00:00Z   50     NOVA PALESTINA            0   \n",
       "17      2016-04-29T00:00:00Z   40          CONQUISTA            1   \n",
       "18      2016-04-29T00:00:00Z   30     NOVA PALESTINA            1   \n",
       "19      2016-04-29T00:00:00Z   46           DA PENHA            0   \n",
       "20      2016-04-29T00:00:00Z   30     NOVA PALESTINA            0   \n",
       "21      2016-04-29T00:00:00Z    4          CONQUISTA            0   \n",
       "22      2016-04-29T00:00:00Z   13          CONQUISTA            0   \n",
       "23      2016-04-29T00:00:00Z   46          CONQUISTA            0   \n",
       "24      2016-04-29T00:00:00Z   65         TABUAZEIRO            0   \n",
       "25      2016-04-29T00:00:00Z   46          CONQUISTA            0   \n",
       "26      2016-04-29T00:00:00Z   45     BENTO FERREIRA            0   \n",
       "27      2016-04-29T00:00:00Z    4          CONQUISTA            0   \n",
       "28      2016-04-29T00:00:00Z   51          SÃO PEDRO            0   \n",
       "29      2016-04-29T00:00:00Z   32       SANTA MARTHA            0   \n",
       "...                      ...  ...                ...          ...   \n",
       "110497  2016-06-01T00:00:00Z   76        MARIA ORTIZ            0   \n",
       "110498  2016-06-08T00:00:00Z   59        MARIA ORTIZ            0   \n",
       "110499  2016-06-01T00:00:00Z   66        MARIA ORTIZ            0   \n",
       "110500  2016-06-08T00:00:00Z   59        MARIA ORTIZ            0   \n",
       "110501  2016-06-01T00:00:00Z   44        MARIA ORTIZ            0   \n",
       "110502  2016-06-08T00:00:00Z   22         GOIABEIRAS            0   \n",
       "110503  2016-06-01T00:00:00Z   64       SOLON BORGES            0   \n",
       "110504  2016-06-08T00:00:00Z    4        MARIA ORTIZ            0   \n",
       "110505  2016-06-01T00:00:00Z   55        MARIA ORTIZ            0   \n",
       "110506  2016-06-01T00:00:00Z    5        MARIA ORTIZ            0   \n",
       "110507  2016-06-08T00:00:00Z    0        MARIA ORTIZ            0   \n",
       "110508  2016-06-01T00:00:00Z   59        MARIA ORTIZ            0   \n",
       "110509  2016-06-08T00:00:00Z   33        MARIA ORTIZ            0   \n",
       "110510  2016-06-01T00:00:00Z   64       SOLON BORGES            0   \n",
       "110511  2016-06-08T00:00:00Z   14        MARIA ORTIZ            0   \n",
       "110512  2016-06-08T00:00:00Z   41        MARIA ORTIZ            0   \n",
       "110513  2016-06-08T00:00:00Z    2    ANTÔNIO HONÓRIO            0   \n",
       "110514  2016-06-08T00:00:00Z   58        MARIA ORTIZ            0   \n",
       "110515  2016-06-08T00:00:00Z   33        MARIA ORTIZ            0   \n",
       "110516  2016-06-08T00:00:00Z   37        MARIA ORTIZ            0   \n",
       "110517  2016-06-07T00:00:00Z   19        MARIA ORTIZ            0   \n",
       "110518  2016-06-07T00:00:00Z   50        MARIA ORTIZ            0   \n",
       "110519  2016-06-07T00:00:00Z   22        MARIA ORTIZ            0   \n",
       "110520  2016-06-07T00:00:00Z   42        MARIA ORTIZ            0   \n",
       "110521  2016-06-07T00:00:00Z   53        MARIA ORTIZ            0   \n",
       "110522  2016-06-07T00:00:00Z   56        MARIA ORTIZ            0   \n",
       "110523  2016-06-07T00:00:00Z   51        MARIA ORTIZ            0   \n",
       "110524  2016-06-07T00:00:00Z   21        MARIA ORTIZ            0   \n",
       "110525  2016-06-07T00:00:00Z   38        MARIA ORTIZ            0   \n",
       "110526  2016-06-07T00:00:00Z   54        MARIA ORTIZ            0   \n",
       "\n",
       "        Hipertension  Diabetes  Alcoholism  Handcap  SMS_received No-show  \n",
       "0                  1         0           0        0             0      No  \n",
       "1                  0         0           0        0             0      No  \n",
       "2                  0         0           0        0             0      No  \n",
       "3                  0         0           0        0             0      No  \n",
       "4                  1         1           0        0             0      No  \n",
       "5                  1         0           0        0             0      No  \n",
       "6                  0         0           0        0             0     Yes  \n",
       "7                  0         0           0        0             0     Yes  \n",
       "8                  0         0           0        0             0      No  \n",
       "9                  0         0           0        0             0      No  \n",
       "10                 0         0           0        0             0      No  \n",
       "11                 0         0           0        0             1     Yes  \n",
       "12                 0         0           0        0             0      No  \n",
       "13                 0         0           0        0             0      No  \n",
       "14                 0         0           0        0             0      No  \n",
       "15                 0         0           0        0             1      No  \n",
       "16                 0         0           0        0             0      No  \n",
       "17                 0         0           0        0             0     Yes  \n",
       "18                 0         0           0        0             1      No  \n",
       "19                 0         0           0        0             0      No  \n",
       "20                 0         0           0        0             0     Yes  \n",
       "21                 0         0           0        0             0     Yes  \n",
       "22                 0         0           0        0             1     Yes  \n",
       "23                 0         0           0        0             0      No  \n",
       "24                 0         0           0        0             0      No  \n",
       "25                 1         0           0        0             1      No  \n",
       "26                 1         0           0        0             0      No  \n",
       "27                 0         0           0        0             0      No  \n",
       "28                 0         0           0        0             0      No  \n",
       "29                 0         0           0        0             0      No  \n",
       "...              ...       ...         ...      ...           ...     ...  \n",
       "110497             0         0           0        0             0      No  \n",
       "110498             0         0           0        0             0      No  \n",
       "110499             1         1           0        0             0      No  \n",
       "110500             0         0           0        0             0      No  \n",
       "110501             0         0           0        0             0      No  \n",
       "110502             0         0           0        0             0      No  \n",
       "110503             0         0           0        0             0      No  \n",
       "110504             0         0           0        0             0      No  \n",
       "110505             0         0           0        0             0      No  \n",
       "110506             0         0           0        0             0      No  \n",
       "110507             0         0           0        0             0      No  \n",
       "110508             0         0           0        0             0      No  \n",
       "110509             0         0           0        0             0      No  \n",
       "110510             0         0           0        0             0      No  \n",
       "110511             0         0           0        0             0      No  \n",
       "110512             0         0           0        0             0      No  \n",
       "110513             0         0           0        0             0      No  \n",
       "110514             0         0           0        0             0      No  \n",
       "110515             1         0           0        0             0     Yes  \n",
       "110516             0         0           0        0             0     Yes  \n",
       "110517             0         0           0        0             0      No  \n",
       "110518             0         0           0        0             1      No  \n",
       "110519             0         0           0        0             1      No  \n",
       "110520             0         0           0        0             1      No  \n",
       "110521             0         0           0        0             1      No  \n",
       "110522             0         0           0        0             1      No  \n",
       "110523             0         0           0        0             1      No  \n",
       "110524             0         0           0        0             1      No  \n",
       "110525             0         0           0        0             1      No  \n",
       "110526             0         0           0        0             1      No  \n",
       "\n",
       "[110527 rows x 14 columns]>"
      ]
     },
     "execution_count": 4,
     "metadata": {},
     "output_type": "execute_result"
    }
   ],
   "source": [
    "df=pd.read_csv('noshowappointments-kagglev2-may-2016.csv')\n",
    "df.head"
   ]
  },
  {
   "cell_type": "code",
   "execution_count": 5,
   "metadata": {},
   "outputs": [
    {
     "data": {
      "text/plain": [
       "(110527, 14)"
      ]
     },
     "execution_count": 5,
     "metadata": {},
     "output_type": "execute_result"
    }
   ],
   "source": [
    "df.shape"
   ]
  },
  {
   "cell_type": "code",
   "execution_count": 6,
   "metadata": {},
   "outputs": [
    {
     "data": {
      "text/plain": [
       "array([  2.98724998e+13,   5.58997777e+14,   4.26296230e+12, ...,\n",
       "         7.26331493e+13,   9.96997666e+14,   1.55766317e+13])"
      ]
     },
     "execution_count": 6,
     "metadata": {},
     "output_type": "execute_result"
    }
   ],
   "source": [
    "df['PatientId'].unique()"
   ]
  },
  {
   "cell_type": "markdown",
   "metadata": {},
   "source": [
    "The data consists of 110527 appointments(rows) and 14 columns"
   ]
  },
  {
   "cell_type": "markdown",
   "metadata": {},
   "source": [
    "\n",
    "### Data Cleaning\n",
    "> **Tip**: Make sure that you keep your reader informed on the steps that you are taking in your investigation. Follow every code cell, or every set of related code cells, with a markdown cell to describe to the reader what was found in the preceding cell(s). Try to make it so that the reader can then understand what they will be seeing in the following cell(s).\n",
    " "
   ]
  },
  {
   "cell_type": "code",
   "execution_count": 7,
   "metadata": {},
   "outputs": [
    {
     "name": "stdout",
     "output_type": "stream",
     "text": [
      "<class 'pandas.core.frame.DataFrame'>\n",
      "RangeIndex: 110527 entries, 0 to 110526\n",
      "Data columns (total 14 columns):\n",
      "PatientId         110527 non-null float64\n",
      "AppointmentID     110527 non-null int64\n",
      "Gender            110527 non-null object\n",
      "ScheduledDay      110527 non-null object\n",
      "AppointmentDay    110527 non-null object\n",
      "Age               110527 non-null int64\n",
      "Neighbourhood     110527 non-null object\n",
      "Scholarship       110527 non-null int64\n",
      "Hipertension      110527 non-null int64\n",
      "Diabetes          110527 non-null int64\n",
      "Alcoholism        110527 non-null int64\n",
      "Handcap           110527 non-null int64\n",
      "SMS_received      110527 non-null int64\n",
      "No-show           110527 non-null object\n",
      "dtypes: float64(1), int64(8), object(5)\n",
      "memory usage: 11.8+ MB\n"
     ]
    }
   ],
   "source": [
    "#to know data types \n",
    "df.info()"
   ]
  },
  {
   "cell_type": "code",
   "execution_count": 8,
   "metadata": {},
   "outputs": [
    {
     "data": {
      "text/plain": [
       "<bound method NDFrame.describe of            PatientId  AppointmentID Gender          ScheduledDay  \\\n",
       "0       2.987250e+13        5642903      F  2016-04-29T18:38:08Z   \n",
       "1       5.589978e+14        5642503      M  2016-04-29T16:08:27Z   \n",
       "2       4.262962e+12        5642549      F  2016-04-29T16:19:04Z   \n",
       "3       8.679512e+11        5642828      F  2016-04-29T17:29:31Z   \n",
       "4       8.841186e+12        5642494      F  2016-04-29T16:07:23Z   \n",
       "5       9.598513e+13        5626772      F  2016-04-27T08:36:51Z   \n",
       "6       7.336882e+14        5630279      F  2016-04-27T15:05:12Z   \n",
       "7       3.449833e+12        5630575      F  2016-04-27T15:39:58Z   \n",
       "8       5.639473e+13        5638447      F  2016-04-29T08:02:16Z   \n",
       "9       7.812456e+13        5629123      F  2016-04-27T12:48:25Z   \n",
       "10      7.345362e+14        5630213      F  2016-04-27T14:58:11Z   \n",
       "11      7.542951e+12        5620163      M  2016-04-26T08:44:12Z   \n",
       "12      5.666548e+14        5634718      F  2016-04-28T11:33:51Z   \n",
       "13      9.113946e+14        5636249      M  2016-04-28T14:52:07Z   \n",
       "14      9.988472e+13        5633951      F  2016-04-28T10:06:24Z   \n",
       "15      9.994839e+10        5620206      F  2016-04-26T08:47:27Z   \n",
       "16      8.457439e+13        5633121      M  2016-04-28T08:51:47Z   \n",
       "17      1.479497e+13        5633460      F  2016-04-28T09:28:57Z   \n",
       "18      1.713538e+13        5621836      F  2016-04-26T10:54:18Z   \n",
       "19      7.223289e+12        5640433      F  2016-04-29T10:43:14Z   \n",
       "20      6.222575e+14        5626083      F  2016-04-27T07:51:14Z   \n",
       "21      1.215484e+13        5628338      F  2016-04-27T10:50:45Z   \n",
       "22      8.632298e+14        5616091      M  2016-04-25T13:29:16Z   \n",
       "23      2.137540e+14        5634142      F  2016-04-28T10:27:05Z   \n",
       "24      8.734858e+12        5641780      F  2016-04-29T14:19:19Z   \n",
       "25      5.819370e+12        5624020      M  2016-04-26T15:04:17Z   \n",
       "26      2.578785e+10        5641781      F  2016-04-29T14:19:42Z   \n",
       "27      1.215484e+13        5628345      F  2016-04-27T10:51:45Z   \n",
       "28      5.926172e+12        5642400      M  2016-04-29T15:48:02Z   \n",
       "29      1.225776e+12        5642186      F  2016-04-29T15:16:29Z   \n",
       "...              ...            ...    ...                   ...   \n",
       "110497  7.935892e+14        5757745      M  2016-06-01T09:46:33Z   \n",
       "110498  9.433654e+13        5787655      F  2016-06-08T10:21:14Z   \n",
       "110499  8.219692e+14        5757697      F  2016-06-01T09:42:56Z   \n",
       "110500  4.434384e+14        5787233      F  2016-06-08T09:35:13Z   \n",
       "110501  4.544252e+11        5758133      M  2016-06-01T10:19:12Z   \n",
       "110502  7.316229e+14        5787937      F  2016-06-08T10:50:42Z   \n",
       "110503  2.362182e+13        5759473      F  2016-06-01T13:00:36Z   \n",
       "110504  9.947983e+12        5788052      F  2016-06-08T11:06:21Z   \n",
       "110505  5.667344e+13        5758455      F  2016-06-01T10:45:50Z   \n",
       "110506  8.973883e+11        5758779      M  2016-06-01T11:09:20Z   \n",
       "110507  4.769462e+14        5786918      F  2016-06-08T09:04:18Z   \n",
       "110508  9.433654e+13        5757656      F  2016-06-01T09:41:00Z   \n",
       "110509  4.952968e+14        5786750      M  2016-06-08T08:50:51Z   \n",
       "110510  2.362182e+13        5757587      F  2016-06-01T09:35:48Z   \n",
       "110511  8.235996e+11        5786742      F  2016-06-08T08:50:20Z   \n",
       "110512  9.876246e+13        5786368      F  2016-06-08T08:20:01Z   \n",
       "110513  8.674778e+13        5785964      M  2016-06-08T07:52:55Z   \n",
       "110514  2.695685e+12        5786567      F  2016-06-08T08:35:31Z   \n",
       "110515  6.456342e+14        5778621      M  2016-06-06T15:58:05Z   \n",
       "110516  6.923772e+13        5780205      F  2016-06-07T07:45:16Z   \n",
       "110517  5.574942e+12        5780122      F  2016-06-07T07:38:34Z   \n",
       "110518  7.263315e+13        5630375      F  2016-04-27T15:15:06Z   \n",
       "110519  6.542388e+13        5630447      F  2016-04-27T15:23:14Z   \n",
       "110520  9.969977e+14        5650534      F  2016-05-03T07:51:47Z   \n",
       "110521  3.635534e+13        5651072      F  2016-05-03T08:23:40Z   \n",
       "110522  2.572134e+12        5651768      F  2016-05-03T09:15:35Z   \n",
       "110523  3.596266e+12        5650093      F  2016-05-03T07:27:33Z   \n",
       "110524  1.557663e+13        5630692      F  2016-04-27T16:03:52Z   \n",
       "110525  9.213493e+13        5630323      F  2016-04-27T15:09:23Z   \n",
       "110526  3.775115e+14        5629448      F  2016-04-27T13:30:56Z   \n",
       "\n",
       "              AppointmentDay  Age      Neighbourhood  Scholarship  \\\n",
       "0       2016-04-29T00:00:00Z   62    JARDIM DA PENHA            0   \n",
       "1       2016-04-29T00:00:00Z   56    JARDIM DA PENHA            0   \n",
       "2       2016-04-29T00:00:00Z   62      MATA DA PRAIA            0   \n",
       "3       2016-04-29T00:00:00Z    8  PONTAL DE CAMBURI            0   \n",
       "4       2016-04-29T00:00:00Z   56    JARDIM DA PENHA            0   \n",
       "5       2016-04-29T00:00:00Z   76          REPÚBLICA            0   \n",
       "6       2016-04-29T00:00:00Z   23         GOIABEIRAS            0   \n",
       "7       2016-04-29T00:00:00Z   39         GOIABEIRAS            0   \n",
       "8       2016-04-29T00:00:00Z   21         ANDORINHAS            0   \n",
       "9       2016-04-29T00:00:00Z   19          CONQUISTA            0   \n",
       "10      2016-04-29T00:00:00Z   30     NOVA PALESTINA            0   \n",
       "11      2016-04-29T00:00:00Z   29     NOVA PALESTINA            0   \n",
       "12      2016-04-29T00:00:00Z   22     NOVA PALESTINA            1   \n",
       "13      2016-04-29T00:00:00Z   28     NOVA PALESTINA            0   \n",
       "14      2016-04-29T00:00:00Z   54     NOVA PALESTINA            0   \n",
       "15      2016-04-29T00:00:00Z   15     NOVA PALESTINA            0   \n",
       "16      2016-04-29T00:00:00Z   50     NOVA PALESTINA            0   \n",
       "17      2016-04-29T00:00:00Z   40          CONQUISTA            1   \n",
       "18      2016-04-29T00:00:00Z   30     NOVA PALESTINA            1   \n",
       "19      2016-04-29T00:00:00Z   46           DA PENHA            0   \n",
       "20      2016-04-29T00:00:00Z   30     NOVA PALESTINA            0   \n",
       "21      2016-04-29T00:00:00Z    4          CONQUISTA            0   \n",
       "22      2016-04-29T00:00:00Z   13          CONQUISTA            0   \n",
       "23      2016-04-29T00:00:00Z   46          CONQUISTA            0   \n",
       "24      2016-04-29T00:00:00Z   65         TABUAZEIRO            0   \n",
       "25      2016-04-29T00:00:00Z   46          CONQUISTA            0   \n",
       "26      2016-04-29T00:00:00Z   45     BENTO FERREIRA            0   \n",
       "27      2016-04-29T00:00:00Z    4          CONQUISTA            0   \n",
       "28      2016-04-29T00:00:00Z   51          SÃO PEDRO            0   \n",
       "29      2016-04-29T00:00:00Z   32       SANTA MARTHA            0   \n",
       "...                      ...  ...                ...          ...   \n",
       "110497  2016-06-01T00:00:00Z   76        MARIA ORTIZ            0   \n",
       "110498  2016-06-08T00:00:00Z   59        MARIA ORTIZ            0   \n",
       "110499  2016-06-01T00:00:00Z   66        MARIA ORTIZ            0   \n",
       "110500  2016-06-08T00:00:00Z   59        MARIA ORTIZ            0   \n",
       "110501  2016-06-01T00:00:00Z   44        MARIA ORTIZ            0   \n",
       "110502  2016-06-08T00:00:00Z   22         GOIABEIRAS            0   \n",
       "110503  2016-06-01T00:00:00Z   64       SOLON BORGES            0   \n",
       "110504  2016-06-08T00:00:00Z    4        MARIA ORTIZ            0   \n",
       "110505  2016-06-01T00:00:00Z   55        MARIA ORTIZ            0   \n",
       "110506  2016-06-01T00:00:00Z    5        MARIA ORTIZ            0   \n",
       "110507  2016-06-08T00:00:00Z    0        MARIA ORTIZ            0   \n",
       "110508  2016-06-01T00:00:00Z   59        MARIA ORTIZ            0   \n",
       "110509  2016-06-08T00:00:00Z   33        MARIA ORTIZ            0   \n",
       "110510  2016-06-01T00:00:00Z   64       SOLON BORGES            0   \n",
       "110511  2016-06-08T00:00:00Z   14        MARIA ORTIZ            0   \n",
       "110512  2016-06-08T00:00:00Z   41        MARIA ORTIZ            0   \n",
       "110513  2016-06-08T00:00:00Z    2    ANTÔNIO HONÓRIO            0   \n",
       "110514  2016-06-08T00:00:00Z   58        MARIA ORTIZ            0   \n",
       "110515  2016-06-08T00:00:00Z   33        MARIA ORTIZ            0   \n",
       "110516  2016-06-08T00:00:00Z   37        MARIA ORTIZ            0   \n",
       "110517  2016-06-07T00:00:00Z   19        MARIA ORTIZ            0   \n",
       "110518  2016-06-07T00:00:00Z   50        MARIA ORTIZ            0   \n",
       "110519  2016-06-07T00:00:00Z   22        MARIA ORTIZ            0   \n",
       "110520  2016-06-07T00:00:00Z   42        MARIA ORTIZ            0   \n",
       "110521  2016-06-07T00:00:00Z   53        MARIA ORTIZ            0   \n",
       "110522  2016-06-07T00:00:00Z   56        MARIA ORTIZ            0   \n",
       "110523  2016-06-07T00:00:00Z   51        MARIA ORTIZ            0   \n",
       "110524  2016-06-07T00:00:00Z   21        MARIA ORTIZ            0   \n",
       "110525  2016-06-07T00:00:00Z   38        MARIA ORTIZ            0   \n",
       "110526  2016-06-07T00:00:00Z   54        MARIA ORTIZ            0   \n",
       "\n",
       "        Hipertension  Diabetes  Alcoholism  Handcap  SMS_received No-show  \n",
       "0                  1         0           0        0             0      No  \n",
       "1                  0         0           0        0             0      No  \n",
       "2                  0         0           0        0             0      No  \n",
       "3                  0         0           0        0             0      No  \n",
       "4                  1         1           0        0             0      No  \n",
       "5                  1         0           0        0             0      No  \n",
       "6                  0         0           0        0             0     Yes  \n",
       "7                  0         0           0        0             0     Yes  \n",
       "8                  0         0           0        0             0      No  \n",
       "9                  0         0           0        0             0      No  \n",
       "10                 0         0           0        0             0      No  \n",
       "11                 0         0           0        0             1     Yes  \n",
       "12                 0         0           0        0             0      No  \n",
       "13                 0         0           0        0             0      No  \n",
       "14                 0         0           0        0             0      No  \n",
       "15                 0         0           0        0             1      No  \n",
       "16                 0         0           0        0             0      No  \n",
       "17                 0         0           0        0             0     Yes  \n",
       "18                 0         0           0        0             1      No  \n",
       "19                 0         0           0        0             0      No  \n",
       "20                 0         0           0        0             0     Yes  \n",
       "21                 0         0           0        0             0     Yes  \n",
       "22                 0         0           0        0             1     Yes  \n",
       "23                 0         0           0        0             0      No  \n",
       "24                 0         0           0        0             0      No  \n",
       "25                 1         0           0        0             1      No  \n",
       "26                 1         0           0        0             0      No  \n",
       "27                 0         0           0        0             0      No  \n",
       "28                 0         0           0        0             0      No  \n",
       "29                 0         0           0        0             0      No  \n",
       "...              ...       ...         ...      ...           ...     ...  \n",
       "110497             0         0           0        0             0      No  \n",
       "110498             0         0           0        0             0      No  \n",
       "110499             1         1           0        0             0      No  \n",
       "110500             0         0           0        0             0      No  \n",
       "110501             0         0           0        0             0      No  \n",
       "110502             0         0           0        0             0      No  \n",
       "110503             0         0           0        0             0      No  \n",
       "110504             0         0           0        0             0      No  \n",
       "110505             0         0           0        0             0      No  \n",
       "110506             0         0           0        0             0      No  \n",
       "110507             0         0           0        0             0      No  \n",
       "110508             0         0           0        0             0      No  \n",
       "110509             0         0           0        0             0      No  \n",
       "110510             0         0           0        0             0      No  \n",
       "110511             0         0           0        0             0      No  \n",
       "110512             0         0           0        0             0      No  \n",
       "110513             0         0           0        0             0      No  \n",
       "110514             0         0           0        0             0      No  \n",
       "110515             1         0           0        0             0     Yes  \n",
       "110516             0         0           0        0             0     Yes  \n",
       "110517             0         0           0        0             0      No  \n",
       "110518             0         0           0        0             1      No  \n",
       "110519             0         0           0        0             1      No  \n",
       "110520             0         0           0        0             1      No  \n",
       "110521             0         0           0        0             1      No  \n",
       "110522             0         0           0        0             1      No  \n",
       "110523             0         0           0        0             1      No  \n",
       "110524             0         0           0        0             1      No  \n",
       "110525             0         0           0        0             1      No  \n",
       "110526             0         0           0        0             1      No  \n",
       "\n",
       "[110527 rows x 14 columns]>"
      ]
     },
     "execution_count": 8,
     "metadata": {},
     "output_type": "execute_result"
    }
   ],
   "source": [
    "df.describe"
   ]
  },
  {
   "cell_type": "code",
   "execution_count": 9,
   "metadata": {},
   "outputs": [
    {
     "data": {
      "text/plain": [
       "<bound method NDFrame.head of        Gender  Age      Neighbourhood  Scholarship  Hipertension  Diabetes  \\\n",
       "0           F   62    JARDIM DA PENHA            0             1         0   \n",
       "1           M   56    JARDIM DA PENHA            0             0         0   \n",
       "2           F   62      MATA DA PRAIA            0             0         0   \n",
       "3           F    8  PONTAL DE CAMBURI            0             0         0   \n",
       "4           F   56    JARDIM DA PENHA            0             1         1   \n",
       "5           F   76          REPÚBLICA            0             1         0   \n",
       "6           F   23         GOIABEIRAS            0             0         0   \n",
       "7           F   39         GOIABEIRAS            0             0         0   \n",
       "8           F   21         ANDORINHAS            0             0         0   \n",
       "9           F   19          CONQUISTA            0             0         0   \n",
       "10          F   30     NOVA PALESTINA            0             0         0   \n",
       "11          M   29     NOVA PALESTINA            0             0         0   \n",
       "12          F   22     NOVA PALESTINA            1             0         0   \n",
       "13          M   28     NOVA PALESTINA            0             0         0   \n",
       "14          F   54     NOVA PALESTINA            0             0         0   \n",
       "15          F   15     NOVA PALESTINA            0             0         0   \n",
       "16          M   50     NOVA PALESTINA            0             0         0   \n",
       "17          F   40          CONQUISTA            1             0         0   \n",
       "18          F   30     NOVA PALESTINA            1             0         0   \n",
       "19          F   46           DA PENHA            0             0         0   \n",
       "20          F   30     NOVA PALESTINA            0             0         0   \n",
       "21          F    4          CONQUISTA            0             0         0   \n",
       "22          M   13          CONQUISTA            0             0         0   \n",
       "23          F   46          CONQUISTA            0             0         0   \n",
       "24          F   65         TABUAZEIRO            0             0         0   \n",
       "25          M   46          CONQUISTA            0             1         0   \n",
       "26          F   45     BENTO FERREIRA            0             1         0   \n",
       "27          F    4          CONQUISTA            0             0         0   \n",
       "28          M   51          SÃO PEDRO            0             0         0   \n",
       "29          F   32       SANTA MARTHA            0             0         0   \n",
       "...       ...  ...                ...          ...           ...       ...   \n",
       "110497      M   76        MARIA ORTIZ            0             0         0   \n",
       "110498      F   59        MARIA ORTIZ            0             0         0   \n",
       "110499      F   66        MARIA ORTIZ            0             1         1   \n",
       "110500      F   59        MARIA ORTIZ            0             0         0   \n",
       "110501      M   44        MARIA ORTIZ            0             0         0   \n",
       "110502      F   22         GOIABEIRAS            0             0         0   \n",
       "110503      F   64       SOLON BORGES            0             0         0   \n",
       "110504      F    4        MARIA ORTIZ            0             0         0   \n",
       "110505      F   55        MARIA ORTIZ            0             0         0   \n",
       "110506      M    5        MARIA ORTIZ            0             0         0   \n",
       "110507      F    0        MARIA ORTIZ            0             0         0   \n",
       "110508      F   59        MARIA ORTIZ            0             0         0   \n",
       "110509      M   33        MARIA ORTIZ            0             0         0   \n",
       "110510      F   64       SOLON BORGES            0             0         0   \n",
       "110511      F   14        MARIA ORTIZ            0             0         0   \n",
       "110512      F   41        MARIA ORTIZ            0             0         0   \n",
       "110513      M    2    ANTÔNIO HONÓRIO            0             0         0   \n",
       "110514      F   58        MARIA ORTIZ            0             0         0   \n",
       "110515      M   33        MARIA ORTIZ            0             1         0   \n",
       "110516      F   37        MARIA ORTIZ            0             0         0   \n",
       "110517      F   19        MARIA ORTIZ            0             0         0   \n",
       "110518      F   50        MARIA ORTIZ            0             0         0   \n",
       "110519      F   22        MARIA ORTIZ            0             0         0   \n",
       "110520      F   42        MARIA ORTIZ            0             0         0   \n",
       "110521      F   53        MARIA ORTIZ            0             0         0   \n",
       "110522      F   56        MARIA ORTIZ            0             0         0   \n",
       "110523      F   51        MARIA ORTIZ            0             0         0   \n",
       "110524      F   21        MARIA ORTIZ            0             0         0   \n",
       "110525      F   38        MARIA ORTIZ            0             0         0   \n",
       "110526      F   54        MARIA ORTIZ            0             0         0   \n",
       "\n",
       "        Alcoholism  Handcap  SMS_received No-show  \n",
       "0                0        0             0      No  \n",
       "1                0        0             0      No  \n",
       "2                0        0             0      No  \n",
       "3                0        0             0      No  \n",
       "4                0        0             0      No  \n",
       "5                0        0             0      No  \n",
       "6                0        0             0     Yes  \n",
       "7                0        0             0     Yes  \n",
       "8                0        0             0      No  \n",
       "9                0        0             0      No  \n",
       "10               0        0             0      No  \n",
       "11               0        0             1     Yes  \n",
       "12               0        0             0      No  \n",
       "13               0        0             0      No  \n",
       "14               0        0             0      No  \n",
       "15               0        0             1      No  \n",
       "16               0        0             0      No  \n",
       "17               0        0             0     Yes  \n",
       "18               0        0             1      No  \n",
       "19               0        0             0      No  \n",
       "20               0        0             0     Yes  \n",
       "21               0        0             0     Yes  \n",
       "22               0        0             1     Yes  \n",
       "23               0        0             0      No  \n",
       "24               0        0             0      No  \n",
       "25               0        0             1      No  \n",
       "26               0        0             0      No  \n",
       "27               0        0             0      No  \n",
       "28               0        0             0      No  \n",
       "29               0        0             0      No  \n",
       "...            ...      ...           ...     ...  \n",
       "110497           0        0             0      No  \n",
       "110498           0        0             0      No  \n",
       "110499           0        0             0      No  \n",
       "110500           0        0             0      No  \n",
       "110501           0        0             0      No  \n",
       "110502           0        0             0      No  \n",
       "110503           0        0             0      No  \n",
       "110504           0        0             0      No  \n",
       "110505           0        0             0      No  \n",
       "110506           0        0             0      No  \n",
       "110507           0        0             0      No  \n",
       "110508           0        0             0      No  \n",
       "110509           0        0             0      No  \n",
       "110510           0        0             0      No  \n",
       "110511           0        0             0      No  \n",
       "110512           0        0             0      No  \n",
       "110513           0        0             0      No  \n",
       "110514           0        0             0      No  \n",
       "110515           0        0             0     Yes  \n",
       "110516           0        0             0     Yes  \n",
       "110517           0        0             0      No  \n",
       "110518           0        0             1      No  \n",
       "110519           0        0             1      No  \n",
       "110520           0        0             1      No  \n",
       "110521           0        0             1      No  \n",
       "110522           0        0             1      No  \n",
       "110523           0        0             1      No  \n",
       "110524           0        0             1      No  \n",
       "110525           0        0             1      No  \n",
       "110526           0        0             1      No  \n",
       "\n",
       "[110527 rows x 10 columns]>"
      ]
     },
     "execution_count": 9,
     "metadata": {},
     "output_type": "execute_result"
    }
   ],
   "source": [
    "# After discussing the structure of the data and any problems that need to be\n",
    "#   cleaned, perform those cleaning steps in the second part of this section.\n",
    "df.drop(['PatientId','AppointmentDay','ScheduledDay','AppointmentID'],axis=1,inplace=True)\n",
    "df.head"
   ]
  },
  {
   "cell_type": "code",
   "execution_count": 10,
   "metadata": {},
   "outputs": [
    {
     "data": {
      "text/plain": [
       "<bound method NDFrame.head of        Gender  Age      Neighbourhood  Scholarship  Hypertension  Diabetes  \\\n",
       "0           F   62    JARDIM DA PENHA            0             1         0   \n",
       "1           M   56    JARDIM DA PENHA            0             0         0   \n",
       "2           F   62      MATA DA PRAIA            0             0         0   \n",
       "3           F    8  PONTAL DE CAMBURI            0             0         0   \n",
       "4           F   56    JARDIM DA PENHA            0             1         1   \n",
       "5           F   76          REPÚBLICA            0             1         0   \n",
       "6           F   23         GOIABEIRAS            0             0         0   \n",
       "7           F   39         GOIABEIRAS            0             0         0   \n",
       "8           F   21         ANDORINHAS            0             0         0   \n",
       "9           F   19          CONQUISTA            0             0         0   \n",
       "10          F   30     NOVA PALESTINA            0             0         0   \n",
       "11          M   29     NOVA PALESTINA            0             0         0   \n",
       "12          F   22     NOVA PALESTINA            1             0         0   \n",
       "13          M   28     NOVA PALESTINA            0             0         0   \n",
       "14          F   54     NOVA PALESTINA            0             0         0   \n",
       "15          F   15     NOVA PALESTINA            0             0         0   \n",
       "16          M   50     NOVA PALESTINA            0             0         0   \n",
       "17          F   40          CONQUISTA            1             0         0   \n",
       "18          F   30     NOVA PALESTINA            1             0         0   \n",
       "19          F   46           DA PENHA            0             0         0   \n",
       "20          F   30     NOVA PALESTINA            0             0         0   \n",
       "21          F    4          CONQUISTA            0             0         0   \n",
       "22          M   13          CONQUISTA            0             0         0   \n",
       "23          F   46          CONQUISTA            0             0         0   \n",
       "24          F   65         TABUAZEIRO            0             0         0   \n",
       "25          M   46          CONQUISTA            0             1         0   \n",
       "26          F   45     BENTO FERREIRA            0             1         0   \n",
       "27          F    4          CONQUISTA            0             0         0   \n",
       "28          M   51          SÃO PEDRO            0             0         0   \n",
       "29          F   32       SANTA MARTHA            0             0         0   \n",
       "...       ...  ...                ...          ...           ...       ...   \n",
       "110497      M   76        MARIA ORTIZ            0             0         0   \n",
       "110498      F   59        MARIA ORTIZ            0             0         0   \n",
       "110499      F   66        MARIA ORTIZ            0             1         1   \n",
       "110500      F   59        MARIA ORTIZ            0             0         0   \n",
       "110501      M   44        MARIA ORTIZ            0             0         0   \n",
       "110502      F   22         GOIABEIRAS            0             0         0   \n",
       "110503      F   64       SOLON BORGES            0             0         0   \n",
       "110504      F    4        MARIA ORTIZ            0             0         0   \n",
       "110505      F   55        MARIA ORTIZ            0             0         0   \n",
       "110506      M    5        MARIA ORTIZ            0             0         0   \n",
       "110507      F    0        MARIA ORTIZ            0             0         0   \n",
       "110508      F   59        MARIA ORTIZ            0             0         0   \n",
       "110509      M   33        MARIA ORTIZ            0             0         0   \n",
       "110510      F   64       SOLON BORGES            0             0         0   \n",
       "110511      F   14        MARIA ORTIZ            0             0         0   \n",
       "110512      F   41        MARIA ORTIZ            0             0         0   \n",
       "110513      M    2    ANTÔNIO HONÓRIO            0             0         0   \n",
       "110514      F   58        MARIA ORTIZ            0             0         0   \n",
       "110515      M   33        MARIA ORTIZ            0             1         0   \n",
       "110516      F   37        MARIA ORTIZ            0             0         0   \n",
       "110517      F   19        MARIA ORTIZ            0             0         0   \n",
       "110518      F   50        MARIA ORTIZ            0             0         0   \n",
       "110519      F   22        MARIA ORTIZ            0             0         0   \n",
       "110520      F   42        MARIA ORTIZ            0             0         0   \n",
       "110521      F   53        MARIA ORTIZ            0             0         0   \n",
       "110522      F   56        MARIA ORTIZ            0             0         0   \n",
       "110523      F   51        MARIA ORTIZ            0             0         0   \n",
       "110524      F   21        MARIA ORTIZ            0             0         0   \n",
       "110525      F   38        MARIA ORTIZ            0             0         0   \n",
       "110526      F   54        MARIA ORTIZ            0             0         0   \n",
       "\n",
       "        Alcoholism  Handicap  SMS_received No-show  \n",
       "0                0         0             0      No  \n",
       "1                0         0             0      No  \n",
       "2                0         0             0      No  \n",
       "3                0         0             0      No  \n",
       "4                0         0             0      No  \n",
       "5                0         0             0      No  \n",
       "6                0         0             0     Yes  \n",
       "7                0         0             0     Yes  \n",
       "8                0         0             0      No  \n",
       "9                0         0             0      No  \n",
       "10               0         0             0      No  \n",
       "11               0         0             1     Yes  \n",
       "12               0         0             0      No  \n",
       "13               0         0             0      No  \n",
       "14               0         0             0      No  \n",
       "15               0         0             1      No  \n",
       "16               0         0             0      No  \n",
       "17               0         0             0     Yes  \n",
       "18               0         0             1      No  \n",
       "19               0         0             0      No  \n",
       "20               0         0             0     Yes  \n",
       "21               0         0             0     Yes  \n",
       "22               0         0             1     Yes  \n",
       "23               0         0             0      No  \n",
       "24               0         0             0      No  \n",
       "25               0         0             1      No  \n",
       "26               0         0             0      No  \n",
       "27               0         0             0      No  \n",
       "28               0         0             0      No  \n",
       "29               0         0             0      No  \n",
       "...            ...       ...           ...     ...  \n",
       "110497           0         0             0      No  \n",
       "110498           0         0             0      No  \n",
       "110499           0         0             0      No  \n",
       "110500           0         0             0      No  \n",
       "110501           0         0             0      No  \n",
       "110502           0         0             0      No  \n",
       "110503           0         0             0      No  \n",
       "110504           0         0             0      No  \n",
       "110505           0         0             0      No  \n",
       "110506           0         0             0      No  \n",
       "110507           0         0             0      No  \n",
       "110508           0         0             0      No  \n",
       "110509           0         0             0      No  \n",
       "110510           0         0             0      No  \n",
       "110511           0         0             0      No  \n",
       "110512           0         0             0      No  \n",
       "110513           0         0             0      No  \n",
       "110514           0         0             0      No  \n",
       "110515           0         0             0     Yes  \n",
       "110516           0         0             0     Yes  \n",
       "110517           0         0             0      No  \n",
       "110518           0         0             1      No  \n",
       "110519           0         0             1      No  \n",
       "110520           0         0             1      No  \n",
       "110521           0         0             1      No  \n",
       "110522           0         0             1      No  \n",
       "110523           0         0             1      No  \n",
       "110524           0         0             1      No  \n",
       "110525           0         0             1      No  \n",
       "110526           0         0             1      No  \n",
       "\n",
       "[110527 rows x 10 columns]>"
      ]
     },
     "execution_count": 10,
     "metadata": {},
     "output_type": "execute_result"
    }
   ],
   "source": [
    "#in order to correct the spelling of the word \"Hipertension\"\n",
    "df.rename(columns={'Hipertension':'Hypertension'},inplace=True)\n",
    "df.rename(columns={'Handcap':'Handicap'},inplace=True)\n",
    "df.head"
   ]
  },
  {
   "cell_type": "code",
   "execution_count": 11,
   "metadata": {},
   "outputs": [],
   "source": [
    "df.rename(columns={'No-show':'No_show'},inplace=True)"
   ]
  },
  {
   "cell_type": "code",
   "execution_count": 13,
   "metadata": {
    "scrolled": true
   },
   "outputs": [
    {
     "ename": "TypeError",
     "evalue": "__init__() got an unexpected keyword argument 'max_rows'",
     "output_type": "error",
     "traceback": [
      "\u001b[0;31m---------------------------------------------------------------------------\u001b[0m",
      "\u001b[0;31mTypeError\u001b[0m                                 Traceback (most recent call last)",
      "\u001b[0;32m/opt/conda/lib/python3.6/site-packages/IPython/core/formatters.py\u001b[0m in \u001b[0;36m__call__\u001b[0;34m(self, obj)\u001b[0m\n\u001b[1;32m    343\u001b[0m             \u001b[0mmethod\u001b[0m \u001b[0;34m=\u001b[0m \u001b[0mget_real_method\u001b[0m\u001b[0;34m(\u001b[0m\u001b[0mobj\u001b[0m\u001b[0;34m,\u001b[0m \u001b[0mself\u001b[0m\u001b[0;34m.\u001b[0m\u001b[0mprint_method\u001b[0m\u001b[0;34m)\u001b[0m\u001b[0;34m\u001b[0m\u001b[0m\n\u001b[1;32m    344\u001b[0m             \u001b[0;32mif\u001b[0m \u001b[0mmethod\u001b[0m \u001b[0;32mis\u001b[0m \u001b[0;32mnot\u001b[0m \u001b[0;32mNone\u001b[0m\u001b[0;34m:\u001b[0m\u001b[0;34m\u001b[0m\u001b[0m\n\u001b[0;32m--> 345\u001b[0;31m                 \u001b[0;32mreturn\u001b[0m \u001b[0mmethod\u001b[0m\u001b[0;34m(\u001b[0m\u001b[0;34m)\u001b[0m\u001b[0;34m\u001b[0m\u001b[0m\n\u001b[0m\u001b[1;32m    346\u001b[0m             \u001b[0;32mreturn\u001b[0m \u001b[0;32mNone\u001b[0m\u001b[0;34m\u001b[0m\u001b[0m\n\u001b[1;32m    347\u001b[0m         \u001b[0;32melse\u001b[0m\u001b[0;34m:\u001b[0m\u001b[0;34m\u001b[0m\u001b[0m\n",
      "\u001b[0;32m/opt/conda/lib/python3.6/site-packages/pandas/core/frame.py\u001b[0m in \u001b[0;36m_repr_html_\u001b[0;34m(self)\u001b[0m\n\u001b[1;32m    694\u001b[0m     \u001b[0;34m@\u001b[0m\u001b[0mSubstitution\u001b[0m\u001b[0;34m(\u001b[0m\u001b[0mshared_params\u001b[0m\u001b[0;34m=\u001b[0m\u001b[0mfmt\u001b[0m\u001b[0;34m.\u001b[0m\u001b[0mcommon_docstring\u001b[0m\u001b[0;34m,\u001b[0m \u001b[0mreturns\u001b[0m\u001b[0;34m=\u001b[0m\u001b[0mfmt\u001b[0m\u001b[0;34m.\u001b[0m\u001b[0mreturn_docstring\u001b[0m\u001b[0;34m)\u001b[0m\u001b[0;34m\u001b[0m\u001b[0m\n\u001b[1;32m    695\u001b[0m     def to_string(\n\u001b[0;32m--> 696\u001b[0;31m         \u001b[0mself\u001b[0m\u001b[0;34m,\u001b[0m\u001b[0;34m\u001b[0m\u001b[0m\n\u001b[0m\u001b[1;32m    697\u001b[0m         \u001b[0mbuf\u001b[0m\u001b[0;34m=\u001b[0m\u001b[0;32mNone\u001b[0m\u001b[0;34m,\u001b[0m\u001b[0;34m\u001b[0m\u001b[0m\n\u001b[1;32m    698\u001b[0m         \u001b[0mcolumns\u001b[0m\u001b[0;34m=\u001b[0m\u001b[0;32mNone\u001b[0m\u001b[0;34m,\u001b[0m\u001b[0;34m\u001b[0m\u001b[0m\n",
      "\u001b[0;32m/opt/conda/lib/python3.6/site-packages/pandas/core/frame.py\u001b[0m in \u001b[0;36mto_html\u001b[0;34m(self, buf, columns, col_space, header, index, na_rep, formatters, float_format, sparsify, index_names, justify, bold_rows, classes, escape, max_rows, max_cols, show_dimensions, notebook, decimal, border, table_id)\u001b[0m\n\u001b[1;32m   2035\u001b[0m             \u001b[0mDefault\u001b[0m \u001b[0;32mis\u001b[0m \u001b[0mlatin\u001b[0m\u001b[0;34m-\u001b[0m\u001b[0;36m1.\u001b[0m \u001b[0mUnicode\u001b[0m \u001b[0;32mis\u001b[0m \u001b[0;32mnot\u001b[0m \u001b[0msupported\u001b[0m\u001b[0;34m.\u001b[0m\u001b[0;34m\u001b[0m\u001b[0m\n\u001b[1;32m   2036\u001b[0m         \u001b[0mbyteorder\u001b[0m \u001b[0;34m:\u001b[0m \u001b[0mstr\u001b[0m\u001b[0;34m\u001b[0m\u001b[0m\n\u001b[0;32m-> 2037\u001b[0;31m             \u001b[0mCan\u001b[0m \u001b[0mbe\u001b[0m \u001b[0;34m\">\"\u001b[0m\u001b[0;34m,\u001b[0m \u001b[0;34m\"<\"\u001b[0m\u001b[0;34m,\u001b[0m \u001b[0;34m\"little\"\u001b[0m\u001b[0;34m,\u001b[0m \u001b[0;32mor\u001b[0m \u001b[0;34m\"big\"\u001b[0m\u001b[0;34m.\u001b[0m \u001b[0mdefault\u001b[0m \u001b[0;32mis\u001b[0m\u001b[0;31m \u001b[0m\u001b[0;31m`\u001b[0m\u001b[0msys\u001b[0m\u001b[0;34m.\u001b[0m\u001b[0mbyteorder\u001b[0m\u001b[0;31m`\u001b[0m\u001b[0;34m.\u001b[0m\u001b[0;34m\u001b[0m\u001b[0m\n\u001b[0m\u001b[1;32m   2038\u001b[0m         \u001b[0mtime_stamp\u001b[0m \u001b[0;34m:\u001b[0m \u001b[0mdatetime\u001b[0m\u001b[0;34m\u001b[0m\u001b[0m\n\u001b[1;32m   2039\u001b[0m             \u001b[0mA\u001b[0m \u001b[0mdatetime\u001b[0m \u001b[0mto\u001b[0m \u001b[0muse\u001b[0m \u001b[0;32mas\u001b[0m \u001b[0mfile\u001b[0m \u001b[0mcreation\u001b[0m \u001b[0mdate\u001b[0m\u001b[0;34m.\u001b[0m  \u001b[0mDefault\u001b[0m \u001b[0;32mis\u001b[0m \u001b[0mthe\u001b[0m \u001b[0mcurrent\u001b[0m\u001b[0;34m\u001b[0m\u001b[0m\n",
      "\u001b[0;32m/opt/conda/lib/python3.6/site-packages/pandas/io/formats/format.py\u001b[0m in \u001b[0;36mto_html\u001b[0;34m(self, classes, notebook, border)\u001b[0m\n\u001b[1;32m    751\u001b[0m         \u001b[0;32melse\u001b[0m\u001b[0;34m:\u001b[0m\u001b[0;34m\u001b[0m\u001b[0m\n\u001b[1;32m    752\u001b[0m             \u001b[0mnrows\u001b[0m \u001b[0;34m=\u001b[0m \u001b[0mlen\u001b[0m\u001b[0;34m(\u001b[0m\u001b[0mself\u001b[0m\u001b[0;34m.\u001b[0m\u001b[0mframe\u001b[0m\u001b[0;34m)\u001b[0m\u001b[0;34m\u001b[0m\u001b[0m\n\u001b[0;32m--> 753\u001b[0;31m \u001b[0;34m\u001b[0m\u001b[0m\n\u001b[0m\u001b[1;32m    754\u001b[0m         \u001b[0mstr_lst\u001b[0m \u001b[0;34m=\u001b[0m \u001b[0;34m[\u001b[0m\u001b[0;34m]\u001b[0m\u001b[0;34m\u001b[0m\u001b[0m\n\u001b[1;32m    755\u001b[0m         \u001b[0mst\u001b[0m \u001b[0;34m=\u001b[0m \u001b[0;36m0\u001b[0m\u001b[0;34m\u001b[0m\u001b[0m\n",
      "\u001b[0;31mTypeError\u001b[0m: __init__() got an unexpected keyword argument 'max_rows'"
     ]
    },
    {
     "data": {
      "text/plain": [
       "      Gender  Age Neighbourhood  Scholarship  Hypertension  Diabetes  \\\n",
       "99832      F   -1         ROMÃO            0             0         0   \n",
       "\n",
       "       Alcoholism  Handicap  SMS_received No_show  \n",
       "99832           0         0             0      No  "
      ]
     },
     "execution_count": 13,
     "metadata": {},
     "output_type": "execute_result"
    }
   ],
   "source": [
    "mask=df.query('Age==\"-1\"')\n",
    "mask"
   ]
  },
  {
   "cell_type": "markdown",
   "metadata": {},
   "source": [
    "# Summary of Data wrangling:\n",
    "After completing the step of the data gathering ,:\n",
    "- I tried to explore the datset by knowing the shape of the data and how many columns and rows are included in this data.\n",
    "- some corrections were made on the spelling mistakes from the word of (Hipertension) to the correct word of (Hypertension),\n",
    "   and the word (Handcap) to the word (Handicap).\n",
    "- removal of unnecessary columns,and unreasonable age number(-1).\n",
    "- after cleaning the data from unecessary columns\n",
    "- detection of information and shape of the whole data.\n"
   ]
  },
  {
   "cell_type": "markdown",
   "metadata": {},
   "source": [
    "<a id='eda'></a>\n",
    "## Exploratory Data Analysis\n",
    "\n",
    "> **Tip**: Now that you've trimmed and cleaned your data, you're ready to move on to exploration. **Compute statistics** and **create visualizations** with the goal of addressing the research questions that you posed in the Introduction section. You should compute the relevant statistics throughout the analysis when an inference is made about the data. Note that at least two or more kinds of plots should be created as part of the exploration, and you must  compare and show trends in the varied visualizations. \n",
    "\n",
    "> **Tip**: - Investigate the stated question(s) from multiple angles. It is recommended that you be systematic with your approach. Look at one variable at a time, and then follow it up by looking at relationships between variables. You should explore at least three variables in relation to the primary question. This can be an exploratory relationship between three variables of interest, or looking at how two independent variables relate to a single dependent variable of interest. Lastly, you  should perform both single-variable (1d) and multiple-variable (2d) explorations.\n",
    "\n",
    "\n",
    "# GENERAL OVERVIEW ON THE DATAEST :\n"
   ]
  },
  {
   "cell_type": "code",
   "execution_count": 13,
   "metadata": {},
   "outputs": [
    {
     "data": {
      "image/png": "[encoded data removed]",
      "text/plain": [
       "<matplotlib.figure.Figure at 0x7f31a5054f60>"
      ]
     },
     "metadata": {
      "needs_background": "light"
     },
     "output_type": "display_data"
    }
   ],
   "source": [
    "df.hist(figsize=(15,12)); #showing histograms for the whole data "
   ]
  },
  {
   "cell_type": "markdown",
   "metadata": {},
   "source": [
    "# notices on the data :\n",
    "    1-most of the patients didnt suffer from chronic diseases.\n",
    "    2-number of patients who recieved the SMS is approximately the half of the number for those who did not recieve the         messeges. \n",
    "    3-approximately 20000 patients out of 110000 are suffering from hypertension."
   ]
  },
  {
   "cell_type": "code",
   "execution_count": 14,
   "metadata": {},
   "outputs": [
    {
     "data": {
      "text/plain": [
       "(Gender           88208\n",
       " Age              88208\n",
       " Neighbourhood    88208\n",
       " Scholarship      88208\n",
       " Hypertension     88208\n",
       " Diabetes         88208\n",
       " Alcoholism       88208\n",
       " Handicap         88208\n",
       " SMS_received     88208\n",
       " No_show          88208\n",
       " dtype: int64, Gender           22319\n",
       " Age              22319\n",
       " Neighbourhood    22319\n",
       " Scholarship      22319\n",
       " Hypertension     22319\n",
       " Diabetes         22319\n",
       " Alcoholism       22319\n",
       " Handicap         22319\n",
       " SMS_received     22319\n",
       " No_show          22319\n",
       " dtype: int64)"
      ]
     },
     "execution_count": 14,
     "metadata": {},
     "output_type": "execute_result"
    }
   ],
   "source": [
    "# Use this, and more code cells, to explore your data. Don't forget to add\n",
    "#   Markdown cells to document your observations and findings/9\n",
    "show=df.No_show=='No'\n",
    "noshow=df.No_show=='Yes'\n",
    "df[show].count() ,df[noshow].count()"
   ]
  },
  {
   "cell_type": "code",
   "execution_count": 15,
   "metadata": {},
   "outputs": [
    {
     "data": {
      "text/plain": [
       "Gender           88208\n",
       "Age              88208\n",
       "Neighbourhood    88208\n",
       "Scholarship      88208\n",
       "Hypertension     88208\n",
       "Diabetes         88208\n",
       "Alcoholism       88208\n",
       "Handicap         88208\n",
       "SMS_received     88208\n",
       "No_show          88208\n",
       "dtype: int64"
      ]
     },
     "execution_count": 15,
     "metadata": {},
     "output_type": "execute_result"
    }
   ],
   "source": [
    "df[show].count()"
   ]
  },
  {
   "cell_type": "code",
   "execution_count": 16,
   "metadata": {},
   "outputs": [
    {
     "data": {
      "text/plain": [
       "Gender           22319\n",
       "Age              22319\n",
       "Neighbourhood    22319\n",
       "Scholarship      22319\n",
       "Hypertension     22319\n",
       "Diabetes         22319\n",
       "Alcoholism       22319\n",
       "Handicap         22319\n",
       "SMS_received     22319\n",
       "No_show          22319\n",
       "dtype: int64"
      ]
     },
     "execution_count": 16,
     "metadata": {},
     "output_type": "execute_result"
    }
   ],
   "source": [
    "df[noshow].count()"
   ]
  },
  {
   "cell_type": "code",
   "execution_count": 31,
   "metadata": {},
   "outputs": [
    {
     "name": "stdout",
     "output_type": "stream",
     "text": [
      "Uniquevaluesin'Gender' ['F' 'M']\n"
     ]
    }
   ],
   "source": [
    "# to determine the type of gender in the data:\n",
    "print(\"Uniquevaluesin'Gender'\",df.Gender.unique())"
   ]
  },
  {
   "cell_type": "code",
   "execution_count": 22,
   "metadata": {},
   "outputs": [
    {
     "data": {
      "text/plain": [
       "F    71840\n",
       "M    38687\n",
       "Name: Gender, dtype: int64"
      ]
     },
     "execution_count": 22,
     "metadata": {},
     "output_type": "execute_result"
    }
   ],
   "source": [
    "# To identify the number of each group:\n",
    "df['Gender'].value_counts()"
   ]
  },
  {
   "cell_type": "markdown",
   "metadata": {},
   "source": [
    "# total number of patients in each group:\n",
    "number of showed patients are 88208 ,\n",
    "number of non showed are 22319\n"
   ]
  },
  {
   "cell_type": "code",
   "execution_count": 17,
   "metadata": {},
   "outputs": [
    {
     "data": {
      "text/plain": [
       "(Age             37.790064\n",
       " Scholarship      0.093903\n",
       " Hypertension     0.204392\n",
       " Diabetes         0.073837\n",
       " Alcoholism       0.030417\n",
       " Handicap         0.022742\n",
       " SMS_received     0.291334\n",
       " dtype: float64, Age             34.317667\n",
       " Scholarship      0.115507\n",
       " Hypertension     0.169004\n",
       " Diabetes         0.064071\n",
       " Alcoholism       0.030333\n",
       " Handicap         0.020297\n",
       " SMS_received     0.438371\n",
       " dtype: float64)"
      ]
     },
     "execution_count": 17,
     "metadata": {},
     "output_type": "execute_result"
    }
   ],
   "source": [
    "df[show].mean(),df[noshow].mean()"
   ]
  },
  {
   "cell_type": "markdown",
   "metadata": {},
   "source": [
    "### Research Question # 1 (Factors affecting the rate of attendance!)\n",
    "DOES THE AGE FACTOR AFFECTS THE ATTENDANCE OF PATIENTS ?"
   ]
  },
  {
   "cell_type": "code",
   "execution_count": 18,
   "metadata": {
    "scrolled": true
   },
   "outputs": [
    {
     "data": {
      "image/png": "[encoded data removed]",
      "text/plain": [
       "<matplotlib.figure.Figure at 0x7f5f32f93da0>"
      ]
     },
     "metadata": {
      "needs_background": "light"
     },
     "output_type": "display_data"
    }
   ],
   "source": [
    "# Continue to explore the data to address your additional research\n",
    "#   questions. Add more headers as needed if you have more questions to\n",
    "def attendance(df,col_name,attended,absent):\n",
    "    \n",
    "    plt.figure(figsize=[16,4])\n",
    "    df[col_name][show].hist(alpha=.5,bins=10,color='blue',label='show')\n",
    "    df[col_name][noshow].hist(alpha=.5,bins=10,color='red',label='noshow')\n",
    "    plt.legend()\n",
    "    plt.title('comparison acc. to age')\n",
    "    plt.xlabel('Age')\n",
    "    plt.ylabel('Patients number');\n",
    "attendance(df,'Age',show,noshow)"
   ]
  },
  {
   "cell_type": "markdown",
   "metadata": {},
   "source": [
    "# the age from zero years to 8 years approx.seems to be the most showing or attending .\n",
    "#after the age of 70 the attendance decreases ."
   ]
  },
  {
   "cell_type": "markdown",
   "metadata": {},
   "source": [
    "## Research Question # 2 (Factors affecting the rate of attendance!)\n",
    "DOES THE CHRONIC DISEASES FACTOR AFFECT THE ATTENDANCE OF PATIENTS ?"
   ]
  },
  {
   "cell_type": "code",
   "execution_count": 19,
   "metadata": {},
   "outputs": [
    {
     "data": {
      "image/png": "[encoded data removed]",
      "text/plain": [
       "<matplotlib.figure.Figure at 0x7f5f32ef3978>"
      ]
     },
     "metadata": {
      "needs_background": "light"
     },
     "output_type": "display_data"
    }
   ],
   "source": [
    "#does the age and chronic diseases affect the attendance rate:\n",
    "plt.figure(figsize=[16,4])\n",
    "df[show].groupby(['Hypertension','Diabetes']).mean()['Age'].plot(kind='bar',color='blue',label='show')\n",
    "df[noshow].groupby(['Hypertension','Diabetes']).mean()['Age'].plot(kind='bar',color='red',label='noshow')\n",
    "plt.legend();\n",
    "plt.title('chronic disease factor')\n",
    "plt.xlabel('chronic disease')\n",
    "plt.ylabel('mean age');"
   ]
  },
  {
   "cell_type": "code",
   "execution_count": 20,
   "metadata": {},
   "outputs": [
    {
     "data": {
      "text/plain": [
       "(Hypertension  Diabetes\n",
       " 0             0           31.509962\n",
       "               1           53.666952\n",
       " 1             0           59.702144\n",
       "               1           63.406361\n",
       " Name: Age, dtype: float64, Hypertension  Diabetes\n",
       " 0             0           28.834155\n",
       "               1           49.183391\n",
       " 1             0           58.377043\n",
       "               1           62.820333\n",
       " Name: Age, dtype: float64)"
      ]
     },
     "execution_count": 20,
     "metadata": {},
     "output_type": "execute_result"
    }
   ],
   "source": [
    "df[show].groupby(['Hypertension','Diabetes']).mean()['Age'],df[noshow].groupby(['Hypertension','Diabetes']).mean()['Age']"
   ]
  },
  {
   "cell_type": "markdown",
   "metadata": {},
   "source": [
    "# it appears that the mean age of non chronic diseases showing patients is 31.5 and non showing is 28 mean age,"
   ]
  },
  {
   "cell_type": "markdown",
   "metadata": {},
   "source": [
    "## Research Question # 3 (Factors affecting the rate of attendance!)\n",
    "DOES THE AGE, GENDER FACTORS AFFECTS THE ATTENDANCE OF PATIENTS ?"
   ]
  },
  {
   "cell_type": "code",
   "execution_count": 27,
   "metadata": {},
   "outputs": [
    {
     "data": {
      "image/png": "[encoded data removed]",
      "text/plain": [
       "<matplotlib.figure.Figure at 0x7f5f32f892b0>"
      ]
     },
     "metadata": {
      "needs_background": "light"
     },
     "output_type": "display_data"
    }
   ],
   "source": [
    "plt.figure(figsize=[12,4])\n",
    "df[show].groupby(['Gender']).Age.mean().plot(kind='bar',color='yellow',label='show')\n",
    "df[noshow].groupby(['Gender']).Age.mean().plot(kind='bar',color='green',label='noshow')\n",
    "plt.legend();\n",
    "plt.title('comparison acc to age ,Gender factor')\n",
    "plt.xlabel('Gender')\n",
    "plt.ylabel('mean age');"
   ]
  },
  {
   "cell_type": "markdown",
   "metadata": {},
   "source": [
    "# from the previous plot, it seems that age has no affect on the attendance."
   ]
  },
  {
   "cell_type": "markdown",
   "metadata": {},
   "source": [
    "## Research Question 4 (Factors affecting the rate of attendance!)\n",
    "DOES RECIEVING THE SMS AFFECTS THE ATTENDANCE OF PATIENTS ?"
   ]
  },
  {
   "cell_type": "code",
   "execution_count": 32,
   "metadata": {},
   "outputs": [
    {
     "ename": "NameError",
     "evalue": "name 'col_name' is not defined",
     "output_type": "error",
     "traceback": [
      "\u001b[0;31m---------------------------------------------------------------------------\u001b[0m",
      "\u001b[0;31mNameError\u001b[0m                                 Traceback (most recent call last)",
      "\u001b[0;32m<ipython-input-32-da63f0d39a51>\u001b[0m in \u001b[0;36m<module>\u001b[0;34m()\u001b[0m\n\u001b[1;32m      1\u001b[0m \u001b[0mplt\u001b[0m\u001b[0;34m.\u001b[0m\u001b[0mfigure\u001b[0m\u001b[0;34m(\u001b[0m\u001b[0mfigsize\u001b[0m\u001b[0;34m=\u001b[0m\u001b[0;34m[\u001b[0m\u001b[0;36m16\u001b[0m\u001b[0;34m,\u001b[0m\u001b[0;36m4\u001b[0m\u001b[0;34m]\u001b[0m\u001b[0;34m)\u001b[0m\u001b[0;34m\u001b[0m\u001b[0m\n\u001b[0;32m----> 2\u001b[0;31m \u001b[0mdf\u001b[0m\u001b[0;34m[\u001b[0m\u001b[0mcol_name\u001b[0m\u001b[0;34m]\u001b[0m\u001b[0;34m[\u001b[0m\u001b[0mshow\u001b[0m\u001b[0;34m]\u001b[0m\u001b[0;34m.\u001b[0m\u001b[0mhist\u001b[0m\u001b[0;34m(\u001b[0m\u001b[0malpha\u001b[0m\u001b[0;34m=\u001b[0m\u001b[0;36m.5\u001b[0m\u001b[0;34m,\u001b[0m\u001b[0mbins\u001b[0m\u001b[0;34m=\u001b[0m\u001b[0;36m15\u001b[0m\u001b[0;34m,\u001b[0m\u001b[0mcolor\u001b[0m\u001b[0;34m=\u001b[0m\u001b[0;34m'green'\u001b[0m\u001b[0;34m,\u001b[0m\u001b[0mlabel\u001b[0m\u001b[0;34m=\u001b[0m\u001b[0;34m'show'\u001b[0m\u001b[0;34m)\u001b[0m\u001b[0;34m\u001b[0m\u001b[0m\n\u001b[0m\u001b[1;32m      3\u001b[0m \u001b[0mdf\u001b[0m\u001b[0;34m[\u001b[0m\u001b[0mcol_name\u001b[0m\u001b[0;34m]\u001b[0m\u001b[0;34m[\u001b[0m\u001b[0mnoshow\u001b[0m\u001b[0;34m]\u001b[0m\u001b[0;34m.\u001b[0m\u001b[0mhist\u001b[0m\u001b[0;34m(\u001b[0m\u001b[0malpha\u001b[0m\u001b[0;34m=\u001b[0m\u001b[0;36m.5\u001b[0m\u001b[0;34m,\u001b[0m\u001b[0mbins\u001b[0m\u001b[0;34m=\u001b[0m\u001b[0;36m15\u001b[0m\u001b[0;34m,\u001b[0m\u001b[0mcolor\u001b[0m\u001b[0;34m=\u001b[0m\u001b[0;34m'red'\u001b[0m\u001b[0;34m,\u001b[0m\u001b[0mlabel\u001b[0m\u001b[0;34m=\u001b[0m\u001b[0;34m'noshow'\u001b[0m\u001b[0;34m)\u001b[0m\u001b[0;34m\u001b[0m\u001b[0m\n\u001b[1;32m      4\u001b[0m \u001b[0mplt\u001b[0m\u001b[0;34m.\u001b[0m\u001b[0mlegend\u001b[0m\u001b[0;34m(\u001b[0m\u001b[0;34m)\u001b[0m\u001b[0;34m;\u001b[0m\u001b[0;34m\u001b[0m\u001b[0m\n\u001b[1;32m      5\u001b[0m \u001b[0mplt\u001b[0m\u001b[0;34m.\u001b[0m\u001b[0mlegend\u001b[0m\u001b[0;34m(\u001b[0m\u001b[0;34m'comparison acc. to recieving the SMS'\u001b[0m\u001b[0;34m)\u001b[0m\u001b[0;34m\u001b[0m\u001b[0m\n",
      "\u001b[0;31mNameError\u001b[0m: name 'col_name' is not defined"
     ]
    },
    {
     "data": {
      "text/plain": [
       "<matplotlib.figure.Figure at 0x7f5f2fdcc2e8>"
      ]
     },
     "metadata": {},
     "output_type": "display_data"
    }
   ],
   "source": [
    "plt.figure(figsize=[16,4])\n",
    "df[col_name][show].hist(alpha=.5,bins=15,color='green',label='show')\n",
    "df[col_name][noshow].hist(alpha=.5,bins=15,color='red',label='noshow')\n",
    "plt.legend();\n",
    "plt.legend('comparison acc. to recieving the SMS')\n",
    "plt.xlabel('SMS')\n",
    "plt.ylabel('Patients number');\n",
    "attendance(df,'SMS_received',show,noshow)"
   ]
  },
  {
   "cell_type": "markdown",
   "metadata": {},
   "source": [
    "# the number of patients attended without recieving the SMS is more than the number of patients who recieved the SMS.\n"
   ]
  },
  {
   "cell_type": "markdown",
   "metadata": {},
   "source": [
    "## Research Question #5 (Factors affecting the rate of attendance!)\n",
    "#DOES THE NEIGHBOURHOOD AFFECTS THE ATTENDANCE OF PATIENTS ?"
   ]
  },
  {
   "cell_type": "code",
   "execution_count": 29,
   "metadata": {},
   "outputs": [
    {
     "data": {
      "image/png": "[encoded data removed]",
      "text/plain": [
       "<matplotlib.figure.Figure at 0x7f5f30065940>"
      ]
     },
     "metadata": {
      "needs_background": "light"
     },
     "output_type": "display_data"
    }
   ],
   "source": [
    "plt.figure(figsize=[14,8])\n",
    "df.Neighbourhood[show].value_counts().plot(kind='bar',color='orange',label='show')\n",
    "df.Neighbourhood[noshow].value_counts().plot(kind='bar',color='purple',label='noshow')\n",
    "plt.legend()\n",
    "plt.legend('comparison acc. to Neighbourhood')\n",
    "plt.xlabel('Neighbourhood')\n",
    "plt.ylabel('Patients number');"
   ]
  },
  {
   "cell_type": "markdown",
   "metadata": {},
   "source": [
    "# Neighbourhood has a great effect on Patients number affecting the attendance may be due to the word of mouth between neighbours .\n",
    "(JARDIM CAMBURI) has the greatest number of attending patients."
   ]
  },
  {
   "cell_type": "markdown",
   "metadata": {},
   "source": [
    "<a id='conclusions'></a>\n",
    "## Conclusions\n",
    "\n",
    "> **Tip**: Finally, summarize your findings and the results that have been performed in relation to the question(s) provided at the beginning of the analysis. Summarize the results accurately, and point out where additional research can be done or where additional information could be useful.\n",
    "\n",
    "\n",
    "> **Tip**: If you haven't done any statistical tests, do not imply any statistical conclusions. And make sure you avoid implying causation from correlation!\n",
    "\n",
    "1- Neighbourhood has a great effect on attendance of patients , espicially from the area named (JARDIM CAMBURI).\n",
    "2- Recieving the SMS affected the showing patients adversely.may be due to technical issues.\n",
    "3- Age has an effect on showing patients .\n",
    "4- No clear relation between the Gender and chronic diseases.\n",
    "\n",
    "\n",
    "\n",
    "\n",
    "### Limitations\n",
    "> **Tip**: Make sure that you are clear with regards to the limitations of your exploration. You should have at least 1 limitation explained clearly. \n",
    "\n",
    "> **Tip**: Once you are satisfied with your work here, check over your report to make sure that it is satisfies all the areas of the rubric (found on the project submission page at the end of the lesson). You should also probably remove all of the \"Tips\" like this one so that the presentation is as polished as possible.\n",
    "# 1-The data consists of (110527 rows x 14 columns).\n",
    "# 2- the age from zero years to 8 years approx.seems to be the most showing or attending .after the age of 70 the attendance decreases \n",
    "\n",
    "\n",
    "## Submitting your Project \n",
    "\n",
    "> **Tip**: Before you submit your project, you need to create a .html or .pdf version of this notebook in the workspace here. To do that, run the code cell below. If it worked correctly, you should get a return code of 0, and you should see the generated .html file in the workspace directory (click on the orange Jupyter icon in the upper left).\n",
    "\n",
    "> **Tip**: Alternatively, you can download this report as .html via the **File** > **Download as** submenu, and then manually upload it into the workspace directory by clicking on the orange Jupyter icon in the upper left, then using the Upload button.\n",
    "\n",
    "> **Tip**: Once you've done this, you can submit your project by clicking on the \"Submit Project\" button in the lower right here. This will create and submit a zip file with this .ipynb doc and the .html or .pdf version you created. Congratulations!"
   ]
  },
  {
   "cell_type": "code",
   "execution_count": null,
   "metadata": {},
   "outputs": [],
   "source": [
    "from subprocess import call\n",
    "call(['python', '-m', 'nbconvert', 'Investigate_a_Dataset.ipynb'])"
   ]
  },
  {
   "cell_type": "code",
   "execution_count": null,
   "metadata": {},
   "outputs": [],
   "source": []
  }
 ],
 "metadata": {
  "kernelspec": {
   "display_name": "Python 3",
   "language": "python",
   "name": "python3"
  },
  "language_info": {
   "codemirror_mode": {
    "name": "ipython",
    "version": 3
   },
   "file_extension": ".py",
   "mimetype": "text/x-python",
   "name": "python",
   "nbconvert_exporter": "python",
   "pygments_lexer": "ipython3",
   "version": "3.6.3"
  }
 },
 "nbformat": 4,
 "nbformat_minor": 2
}
