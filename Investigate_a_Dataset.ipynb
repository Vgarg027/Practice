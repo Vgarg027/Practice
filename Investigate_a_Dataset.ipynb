{
 "cells": [
  {
   "cell_type": "code",
   "execution_count": 1,
   "metadata": {},
   "outputs": [],
   "source": [
    "#importing packadges\n",
    "import pandas as pd\n",
    "import numpy as np\n",
    "import csv\n",
    "from datetime import datetime\n",
    "import matplotlib.pyplot as plt\n",
    "%matplotlib inline"
   ]
  },
  {
   "cell_type": "code",
   "execution_count": 2,
   "metadata": {},
   "outputs": [
    {
     "data": {
      "text/html": [
       "<div>\n",
       "<style scoped>\n",
       "    .dataframe tbody tr th:only-of-type {\n",
       "        vertical-align: middle;\n",
       "    }\n",
       "\n",
       "    .dataframe tbody tr th {\n",
       "        vertical-align: top;\n",
       "    }\n",
       "\n",
       "    .dataframe thead th {\n",
       "        text-align: right;\n",
       "    }\n",
       "</style>\n",
       "<table border=\"1\" class=\"dataframe\">\n",
       "  <thead>\n",
       "    <tr style=\"text-align: right;\">\n",
       "      <th></th>\n",
       "      <th>id</th>\n",
       "      <th>imdb_id</th>\n",
       "      <th>popularity</th>\n",
       "      <th>budget</th>\n",
       "      <th>revenue</th>\n",
       "      <th>original_title</th>\n",
       "      <th>cast</th>\n",
       "      <th>homepage</th>\n",
       "      <th>director</th>\n",
       "      <th>tagline</th>\n",
       "      <th>...</th>\n",
       "      <th>overview</th>\n",
       "      <th>runtime</th>\n",
       "      <th>genres</th>\n",
       "      <th>production_companies</th>\n",
       "      <th>release_date</th>\n",
       "      <th>vote_count</th>\n",
       "      <th>vote_average</th>\n",
       "      <th>release_year</th>\n",
       "      <th>budget_adj</th>\n",
       "      <th>revenue_adj</th>\n",
       "    </tr>\n",
       "  </thead>\n",
       "  <tbody>\n",
       "    <tr>\n",
       "      <th>0</th>\n",
       "      <td>135397</td>\n",
       "      <td>tt0369610</td>\n",
       "      <td>32.985763</td>\n",
       "      <td>150000000</td>\n",
       "      <td>1513528810</td>\n",
       "      <td>Jurassic World</td>\n",
       "      <td>Chris Pratt|Bryce Dallas Howard|Irrfan Khan|Vi...</td>\n",
       "      <td>http://www.jurassicworld.com/</td>\n",
       "      <td>Colin Trevorrow</td>\n",
       "      <td>The park is open.</td>\n",
       "      <td>...</td>\n",
       "      <td>Twenty-two years after the events of Jurassic ...</td>\n",
       "      <td>124</td>\n",
       "      <td>Action|Adventure|Science Fiction|Thriller</td>\n",
       "      <td>Universal Studios|Amblin Entertainment|Legenda...</td>\n",
       "      <td>6/9/15</td>\n",
       "      <td>5562</td>\n",
       "      <td>6.5</td>\n",
       "      <td>2015</td>\n",
       "      <td>1.379999e+08</td>\n",
       "      <td>1.392446e+09</td>\n",
       "    </tr>\n",
       "    <tr>\n",
       "      <th>1</th>\n",
       "      <td>76341</td>\n",
       "      <td>tt1392190</td>\n",
       "      <td>28.419936</td>\n",
       "      <td>150000000</td>\n",
       "      <td>378436354</td>\n",
       "      <td>Mad Max: Fury Road</td>\n",
       "      <td>Tom Hardy|Charlize Theron|Hugh Keays-Byrne|Nic...</td>\n",
       "      <td>http://www.madmaxmovie.com/</td>\n",
       "      <td>George Miller</td>\n",
       "      <td>What a Lovely Day.</td>\n",
       "      <td>...</td>\n",
       "      <td>An apocalyptic story set in the furthest reach...</td>\n",
       "      <td>120</td>\n",
       "      <td>Action|Adventure|Science Fiction|Thriller</td>\n",
       "      <td>Village Roadshow Pictures|Kennedy Miller Produ...</td>\n",
       "      <td>5/13/15</td>\n",
       "      <td>6185</td>\n",
       "      <td>7.1</td>\n",
       "      <td>2015</td>\n",
       "      <td>1.379999e+08</td>\n",
       "      <td>3.481613e+08</td>\n",
       "    </tr>\n",
       "  </tbody>\n",
       "</table>\n",
       "<p>2 rows × 21 columns</p>\n",
       "</div>"
      ],
      "text/plain": [
       "       id    imdb_id  popularity     budget     revenue      original_title  \\\n",
       "0  135397  tt0369610   32.985763  150000000  1513528810      Jurassic World   \n",
       "1   76341  tt1392190   28.419936  150000000   378436354  Mad Max: Fury Road   \n",
       "\n",
       "                                                cast  \\\n",
       "0  Chris Pratt|Bryce Dallas Howard|Irrfan Khan|Vi...   \n",
       "1  Tom Hardy|Charlize Theron|Hugh Keays-Byrne|Nic...   \n",
       "\n",
       "                        homepage         director             tagline  \\\n",
       "0  http://www.jurassicworld.com/  Colin Trevorrow   The park is open.   \n",
       "1    http://www.madmaxmovie.com/    George Miller  What a Lovely Day.   \n",
       "\n",
       "       ...                                                overview runtime  \\\n",
       "0      ...       Twenty-two years after the events of Jurassic ...     124   \n",
       "1      ...       An apocalyptic story set in the furthest reach...     120   \n",
       "\n",
       "                                      genres  \\\n",
       "0  Action|Adventure|Science Fiction|Thriller   \n",
       "1  Action|Adventure|Science Fiction|Thriller   \n",
       "\n",
       "                                production_companies release_date vote_count  \\\n",
       "0  Universal Studios|Amblin Entertainment|Legenda...       6/9/15       5562   \n",
       "1  Village Roadshow Pictures|Kennedy Miller Produ...      5/13/15       6185   \n",
       "\n",
       "   vote_average  release_year    budget_adj   revenue_adj  \n",
       "0           6.5          2015  1.379999e+08  1.392446e+09  \n",
       "1           7.1          2015  1.379999e+08  3.481613e+08  \n",
       "\n",
       "[2 rows x 21 columns]"
      ]
     },
     "execution_count": 2,
     "metadata": {},
     "output_type": "execute_result"
    }
   ],
   "source": [
    "#loading the dataset from \"tmbd_movies.csv\"\n",
    "df = pd.read_csv('tmdb-movies.csv')\n",
    "\n",
    "#printing data header\n",
    "df.head(2)"
   ]
  },
  {
   "cell_type": "markdown",
   "metadata": {},
   "source": [
    ">dropping unuseful data"
   ]
  },
  {
   "cell_type": "code",
   "execution_count": 3,
   "metadata": {},
   "outputs": [
    {
     "data": {
      "text/html": [
       "<div>\n",
       "<style scoped>\n",
       "    .dataframe tbody tr th:only-of-type {\n",
       "        vertical-align: middle;\n",
       "    }\n",
       "\n",
       "    .dataframe tbody tr th {\n",
       "        vertical-align: top;\n",
       "    }\n",
       "\n",
       "    .dataframe thead th {\n",
       "        text-align: right;\n",
       "    }\n",
       "</style>\n",
       "<table border=\"1\" class=\"dataframe\">\n",
       "  <thead>\n",
       "    <tr style=\"text-align: right;\">\n",
       "      <th></th>\n",
       "      <th>budget</th>\n",
       "      <th>revenue</th>\n",
       "      <th>original_title</th>\n",
       "      <th>cast</th>\n",
       "      <th>director</th>\n",
       "      <th>runtime</th>\n",
       "      <th>genres</th>\n",
       "      <th>release_year</th>\n",
       "    </tr>\n",
       "  </thead>\n",
       "  <tbody>\n",
       "    <tr>\n",
       "      <th>0</th>\n",
       "      <td>150000000</td>\n",
       "      <td>1513528810</td>\n",
       "      <td>Jurassic World</td>\n",
       "      <td>Chris Pratt|Bryce Dallas Howard|Irrfan Khan|Vi...</td>\n",
       "      <td>Colin Trevorrow</td>\n",
       "      <td>124</td>\n",
       "      <td>Action|Adventure|Science Fiction|Thriller</td>\n",
       "      <td>2015</td>\n",
       "    </tr>\n",
       "    <tr>\n",
       "      <th>1</th>\n",
       "      <td>150000000</td>\n",
       "      <td>378436354</td>\n",
       "      <td>Mad Max: Fury Road</td>\n",
       "      <td>Tom Hardy|Charlize Theron|Hugh Keays-Byrne|Nic...</td>\n",
       "      <td>George Miller</td>\n",
       "      <td>120</td>\n",
       "      <td>Action|Adventure|Science Fiction|Thriller</td>\n",
       "      <td>2015</td>\n",
       "    </tr>\n",
       "  </tbody>\n",
       "</table>\n",
       "</div>"
      ],
      "text/plain": [
       "      budget     revenue      original_title  \\\n",
       "0  150000000  1513528810      Jurassic World   \n",
       "1  150000000   378436354  Mad Max: Fury Road   \n",
       "\n",
       "                                                cast         director  \\\n",
       "0  Chris Pratt|Bryce Dallas Howard|Irrfan Khan|Vi...  Colin Trevorrow   \n",
       "1  Tom Hardy|Charlize Theron|Hugh Keays-Byrne|Nic...    George Miller   \n",
       "\n",
       "   runtime                                     genres  release_year  \n",
       "0      124  Action|Adventure|Science Fiction|Thriller          2015  \n",
       "1      120  Action|Adventure|Science Fiction|Thriller          2015  "
      ]
     },
     "execution_count": 3,
     "metadata": {},
     "output_type": "execute_result"
    }
   ],
   "source": [
    "column_drop=[ 'id', 'imdb_id', 'popularity', 'homepage', 'tagline','keywords', 'overview', 'production_companies', 'release_date', 'vote_count', 'vote_average','budget_adj', 'revenue_adj']\n",
    "df.drop(column_drop, axis = 1, inplace = True)\n",
    "df.head(2)"
   ]
  },
  {
   "cell_type": "markdown",
   "metadata": {},
   "source": [
    ">checking data types"
   ]
  },
  {
   "cell_type": "code",
   "execution_count": 6,
   "metadata": {},
   "outputs": [
    {
     "name": "stdout",
     "output_type": "stream",
     "text": [
      "<class 'pandas.core.frame.DataFrame'>\n",
      "Int64Index: 10571 entries, 10172 to 0\n",
      "Data columns (total 8 columns):\n",
      "budget            10571 non-null int64\n",
      "revenue           10571 non-null int64\n",
      "original_title    10571 non-null object\n",
      "cast              10495 non-null object\n",
      "director          10527 non-null object\n",
      "runtime           10571 non-null int64\n",
      "genres            10548 non-null object\n",
      "release_year      10571 non-null int64\n",
      "dtypes: int64(4), object(4)\n",
      "memory usage: 743.3+ KB\n"
     ]
    },
    {
     "data": {
      "image/png": "[encoded data removed]",
      "text/plain": [
       "<matplotlib.figure.Figure at 0x7f0321ef2898>"
      ]
     },
     "metadata": {
      "needs_background": "light"
     },
     "output_type": "display_data"
    }
   ],
   "source": [
    "df.info()\n",
    "df.hist(figsize=(10,8));"
   ]
  },
  {
   "cell_type": "code",
   "execution_count": 7,
   "metadata": {},
   "outputs": [
    {
     "data": {
      "text/html": [
       "<div>\n",
       "<style scoped>\n",
       "    .dataframe tbody tr th:only-of-type {\n",
       "        vertical-align: middle;\n",
       "    }\n",
       "\n",
       "    .dataframe tbody tr th {\n",
       "        vertical-align: top;\n",
       "    }\n",
       "\n",
       "    .dataframe thead th {\n",
       "        text-align: right;\n",
       "    }\n",
       "</style>\n",
       "<table border=\"1\" class=\"dataframe\">\n",
       "  <thead>\n",
       "    <tr style=\"text-align: right;\">\n",
       "      <th></th>\n",
       "      <th>budget</th>\n",
       "      <th>revenue</th>\n",
       "      <th>original_title</th>\n",
       "      <th>cast</th>\n",
       "      <th>director</th>\n",
       "      <th>runtime</th>\n",
       "      <th>genres</th>\n",
       "      <th>release_year</th>\n",
       "    </tr>\n",
       "  </thead>\n",
       "  <tbody>\n",
       "    <tr>\n",
       "      <th>10172</th>\n",
       "      <td>0</td>\n",
       "      <td>0</td>\n",
       "      <td>Exodus</td>\n",
       "      <td>Paul Newman|Eva Marie Saint|Lee J. Cobb|Ralph ...</td>\n",
       "      <td>Otto Preminger</td>\n",
       "      <td>208</td>\n",
       "      <td>Action|Drama|History|War</td>\n",
       "      <td>1960</td>\n",
       "    </tr>\n",
       "    <tr>\n",
       "      <th>10164</th>\n",
       "      <td>0</td>\n",
       "      <td>0</td>\n",
       "      <td>The Lost World</td>\n",
       "      <td>Michael Rennie|Jill St. John|David Hedison|Cla...</td>\n",
       "      <td>Irwin Allen</td>\n",
       "      <td>97</td>\n",
       "      <td>Adventure|Fantasy|Science Fiction</td>\n",
       "      <td>1960</td>\n",
       "    </tr>\n",
       "  </tbody>\n",
       "</table>\n",
       "</div>"
      ],
      "text/plain": [
       "       budget  revenue  original_title  \\\n",
       "10172       0        0          Exodus   \n",
       "10164       0        0  The Lost World   \n",
       "\n",
       "                                                    cast        director  \\\n",
       "10172  Paul Newman|Eva Marie Saint|Lee J. Cobb|Ralph ...  Otto Preminger   \n",
       "10164  Michael Rennie|Jill St. John|David Hedison|Cla...     Irwin Allen   \n",
       "\n",
       "       runtime                             genres  release_year  \n",
       "10172      208           Action|Drama|History|War          1960  \n",
       "10164       97  Adventure|Fantasy|Science Fiction          1960  "
      ]
     },
     "execution_count": 7,
     "metadata": {},
     "output_type": "execute_result"
    }
   ],
   "source": [
    "# sorting by release year\n",
    "df.sort_values(\"release_year\", inplace = True)\n",
    "\n",
    "# dropping duplicate movies\n",
    "df.drop_duplicates(subset =\"original_title\", keep = 'first', inplace = True)\n",
    " \n",
    "# displaying data\n",
    "df.head(2)\n"
   ]
  },
  {
   "cell_type": "code",
   "execution_count": 8,
   "metadata": {},
   "outputs": [
    {
     "data": {
      "text/plain": [
       "(10571, 8)"
      ]
     },
     "execution_count": 8,
     "metadata": {},
     "output_type": "execute_result"
    }
   ],
   "source": [
    "df.shape"
   ]
  },
  {
   "cell_type": "code",
   "execution_count": 9,
   "metadata": {},
   "outputs": [],
   "source": [
    "#dropping zero values of budget and revenue\n",
    "df['budget'] = df['budget'].replace(0, np.nan)\n",
    "df['revenue'] = df['revenue'].replace(0, np.nan)\n",
    "df['release_year'] = df['release_year'].replace(0, np.nan)"
   ]
  },
  {
   "cell_type": "code",
   "execution_count": 10,
   "metadata": {},
   "outputs": [],
   "source": [
    "zero_list = ['budget','revenue','release_year']\n",
    "df.dropna(subset = zero_list, inplace = True)"
   ]
  },
  {
   "cell_type": "code",
   "execution_count": 11,
   "metadata": {},
   "outputs": [
    {
     "data": {
      "text/plain": [
       "(3696, 8)"
      ]
     },
     "execution_count": 11,
     "metadata": {},
     "output_type": "execute_result"
    }
   ],
   "source": [
    "df.shape"
   ]
  },
  {
   "cell_type": "code",
   "execution_count": 12,
   "metadata": {},
   "outputs": [
    {
     "data": {
      "text/html": [
       "<div>\n",
       "<style scoped>\n",
       "    .dataframe tbody tr th:only-of-type {\n",
       "        vertical-align: middle;\n",
       "    }\n",
       "\n",
       "    .dataframe tbody tr th {\n",
       "        vertical-align: top;\n",
       "    }\n",
       "\n",
       "    .dataframe thead th {\n",
       "        text-align: right;\n",
       "    }\n",
       "</style>\n",
       "<table border=\"1\" class=\"dataframe\">\n",
       "  <thead>\n",
       "    <tr style=\"text-align: right;\">\n",
       "      <th></th>\n",
       "      <th>budget</th>\n",
       "      <th>revenue</th>\n",
       "      <th>original_title</th>\n",
       "      <th>cast</th>\n",
       "      <th>director</th>\n",
       "      <th>runtime</th>\n",
       "      <th>genres</th>\n",
       "      <th>release_year</th>\n",
       "    </tr>\n",
       "  </thead>\n",
       "  <tbody>\n",
       "    <tr>\n",
       "      <th>10170</th>\n",
       "      <td>3000000.0</td>\n",
       "      <td>7100000.0</td>\n",
       "      <td>Cinderfella</td>\n",
       "      <td>Jerry Lewis|Ed Wynn|Judith Anderson|Henry Silv...</td>\n",
       "      <td>Frank Tashlin</td>\n",
       "      <td>91</td>\n",
       "      <td>Comedy|Romance</td>\n",
       "      <td>1960</td>\n",
       "    </tr>\n",
       "    <tr>\n",
       "      <th>10142</th>\n",
       "      <td>2000000.0</td>\n",
       "      <td>4905000.0</td>\n",
       "      <td>The Magnificent Seven</td>\n",
       "      <td>Yul Brynner|Eli Wallach|Steve McQueen|Charles ...</td>\n",
       "      <td>John Sturges</td>\n",
       "      <td>128</td>\n",
       "      <td>Action|Adventure|Western</td>\n",
       "      <td>1960</td>\n",
       "    </tr>\n",
       "    <tr>\n",
       "      <th>10143</th>\n",
       "      <td>12000000.0</td>\n",
       "      <td>60000000.0</td>\n",
       "      <td>Spartacus</td>\n",
       "      <td>Kirk Douglas|Laurence Olivier|Jean Simmons|Cha...</td>\n",
       "      <td>Stanley Kubrick</td>\n",
       "      <td>197</td>\n",
       "      <td>Action|Drama|History</td>\n",
       "      <td>1960</td>\n",
       "    </tr>\n",
       "    <tr>\n",
       "      <th>10144</th>\n",
       "      <td>3000000.0</td>\n",
       "      <td>25000000.0</td>\n",
       "      <td>The Apartment</td>\n",
       "      <td>Jack Lemmon|Shirley MacLaine|Fred MacMurray|Ra...</td>\n",
       "      <td>Billy Wilder</td>\n",
       "      <td>125</td>\n",
       "      <td>Comedy|Drama|Romance</td>\n",
       "      <td>1960</td>\n",
       "    </tr>\n",
       "  </tbody>\n",
       "</table>\n",
       "</div>"
      ],
      "text/plain": [
       "           budget     revenue         original_title  \\\n",
       "10170   3000000.0   7100000.0            Cinderfella   \n",
       "10142   2000000.0   4905000.0  The Magnificent Seven   \n",
       "10143  12000000.0  60000000.0              Spartacus   \n",
       "10144   3000000.0  25000000.0          The Apartment   \n",
       "\n",
       "                                                    cast         director  \\\n",
       "10170  Jerry Lewis|Ed Wynn|Judith Anderson|Henry Silv...    Frank Tashlin   \n",
       "10142  Yul Brynner|Eli Wallach|Steve McQueen|Charles ...     John Sturges   \n",
       "10143  Kirk Douglas|Laurence Olivier|Jean Simmons|Cha...  Stanley Kubrick   \n",
       "10144  Jack Lemmon|Shirley MacLaine|Fred MacMurray|Ra...     Billy Wilder   \n",
       "\n",
       "       runtime                    genres  release_year  \n",
       "10170       91            Comedy|Romance          1960  \n",
       "10142      128  Action|Adventure|Western          1960  \n",
       "10143      197      Action|Drama|History          1960  \n",
       "10144      125      Comedy|Drama|Romance          1960  "
      ]
     },
     "execution_count": 12,
     "metadata": {},
     "output_type": "execute_result"
    }
   ],
   "source": [
    "df.head(4)"
   ]
  },
  {
   "cell_type": "code",
   "execution_count": 13,
   "metadata": {},
   "outputs": [
    {
     "name": "stdout",
     "output_type": "stream",
     "text": [
      "<class 'pandas.core.frame.DataFrame'>\n",
      "Int64Index: 3696 entries, 10170 to 0\n",
      "Data columns (total 8 columns):\n",
      "budget            3696 non-null float64\n",
      "revenue           3696 non-null float64\n",
      "original_title    3696 non-null object\n",
      "cast              3692 non-null object\n",
      "director          3695 non-null object\n",
      "runtime           3696 non-null int64\n",
      "genres            3696 non-null object\n",
      "release_year      3696 non-null int64\n",
      "dtypes: float64(2), int64(2), object(4)\n",
      "memory usage: 259.9+ KB\n"
     ]
    }
   ],
   "source": [
    "df.info()"
   ]
  },
  {
   "cell_type": "code",
   "execution_count": 14,
   "metadata": {},
   "outputs": [
    {
     "data": {
      "text/html": [
       "<div>\n",
       "<style scoped>\n",
       "    .dataframe tbody tr th:only-of-type {\n",
       "        vertical-align: middle;\n",
       "    }\n",
       "\n",
       "    .dataframe tbody tr th {\n",
       "        vertical-align: top;\n",
       "    }\n",
       "\n",
       "    .dataframe thead th {\n",
       "        text-align: right;\n",
       "    }\n",
       "</style>\n",
       "<table border=\"1\" class=\"dataframe\">\n",
       "  <thead>\n",
       "    <tr style=\"text-align: right;\">\n",
       "      <th></th>\n",
       "      <th>budget</th>\n",
       "      <th>revenue</th>\n",
       "      <th>earned_value</th>\n",
       "      <th>original_title</th>\n",
       "      <th>cast</th>\n",
       "      <th>director</th>\n",
       "      <th>runtime</th>\n",
       "      <th>genres</th>\n",
       "      <th>release_year</th>\n",
       "    </tr>\n",
       "  </thead>\n",
       "  <tbody>\n",
       "    <tr>\n",
       "      <th>10170</th>\n",
       "      <td>3000000.0</td>\n",
       "      <td>7100000.0</td>\n",
       "      <td>4100000.0</td>\n",
       "      <td>Cinderfella</td>\n",
       "      <td>Jerry Lewis|Ed Wynn|Judith Anderson|Henry Silv...</td>\n",
       "      <td>Frank Tashlin</td>\n",
       "      <td>91</td>\n",
       "      <td>Comedy|Romance</td>\n",
       "      <td>1960</td>\n",
       "    </tr>\n",
       "    <tr>\n",
       "      <th>10142</th>\n",
       "      <td>2000000.0</td>\n",
       "      <td>4905000.0</td>\n",
       "      <td>2905000.0</td>\n",
       "      <td>The Magnificent Seven</td>\n",
       "      <td>Yul Brynner|Eli Wallach|Steve McQueen|Charles ...</td>\n",
       "      <td>John Sturges</td>\n",
       "      <td>128</td>\n",
       "      <td>Action|Adventure|Western</td>\n",
       "      <td>1960</td>\n",
       "    </tr>\n",
       "  </tbody>\n",
       "</table>\n",
       "</div>"
      ],
      "text/plain": [
       "          budget    revenue  earned_value         original_title  \\\n",
       "10170  3000000.0  7100000.0     4100000.0            Cinderfella   \n",
       "10142  2000000.0  4905000.0     2905000.0  The Magnificent Seven   \n",
       "\n",
       "                                                    cast       director  \\\n",
       "10170  Jerry Lewis|Ed Wynn|Judith Anderson|Henry Silv...  Frank Tashlin   \n",
       "10142  Yul Brynner|Eli Wallach|Steve McQueen|Charles ...   John Sturges   \n",
       "\n",
       "       runtime                    genres  release_year  \n",
       "10170       91            Comedy|Romance          1960  \n",
       "10142      128  Action|Adventure|Western          1960  "
      ]
     },
     "execution_count": 14,
     "metadata": {},
     "output_type": "execute_result"
    }
   ],
   "source": [
    "#calculating profit\n",
    "df.insert(2,'earned_value',df['revenue'] - df['budget'])\n",
    "df.head(2)"
   ]
  },
  {
   "cell_type": "code",
   "execution_count": 15,
   "metadata": {},
   "outputs": [
    {
     "data": {
      "image/png": "[encoded data removed]",
      "text/plain": [
       "<matplotlib.figure.Figure at 0x7f0321e20390>"
      ]
     },
     "metadata": {
      "needs_background": "light"
     },
     "output_type": "display_data"
    }
   ],
   "source": [
    "df.hist(figsize=(15,10));"
   ]
  },
  {
   "cell_type": "code",
   "execution_count": 16,
   "metadata": {},
   "outputs": [
    {
     "data": {
      "text/html": [
       "<div>\n",
       "<style scoped>\n",
       "    .dataframe tbody tr th:only-of-type {\n",
       "        vertical-align: middle;\n",
       "    }\n",
       "\n",
       "    .dataframe tbody tr th {\n",
       "        vertical-align: top;\n",
       "    }\n",
       "\n",
       "    .dataframe thead th {\n",
       "        text-align: right;\n",
       "    }\n",
       "</style>\n",
       "<table border=\"1\" class=\"dataframe\">\n",
       "  <thead>\n",
       "    <tr style=\"text-align: right;\">\n",
       "      <th></th>\n",
       "      <th>1386</th>\n",
       "      <th>2244</th>\n",
       "    </tr>\n",
       "  </thead>\n",
       "  <tbody>\n",
       "    <tr>\n",
       "      <th>budget</th>\n",
       "      <td>2.37e+08</td>\n",
       "      <td>4.25e+08</td>\n",
       "    </tr>\n",
       "    <tr>\n",
       "      <th>revenue</th>\n",
       "      <td>2.78151e+09</td>\n",
       "      <td>1.10876e+07</td>\n",
       "    </tr>\n",
       "    <tr>\n",
       "      <th>earned_value</th>\n",
       "      <td>2.54451e+09</td>\n",
       "      <td>-4.13912e+08</td>\n",
       "    </tr>\n",
       "    <tr>\n",
       "      <th>original_title</th>\n",
       "      <td>Avatar</td>\n",
       "      <td>The Warrior's Way</td>\n",
       "    </tr>\n",
       "    <tr>\n",
       "      <th>cast</th>\n",
       "      <td>Sam Worthington|Zoe Saldana|Sigourney Weaver|S...</td>\n",
       "      <td>Kate Bosworth|Jang Dong-gun|Geoffrey Rush|Dann...</td>\n",
       "    </tr>\n",
       "    <tr>\n",
       "      <th>director</th>\n",
       "      <td>James Cameron</td>\n",
       "      <td>Sngmoo Lee</td>\n",
       "    </tr>\n",
       "    <tr>\n",
       "      <th>runtime</th>\n",
       "      <td>162</td>\n",
       "      <td>100</td>\n",
       "    </tr>\n",
       "    <tr>\n",
       "      <th>genres</th>\n",
       "      <td>Action|Adventure|Fantasy|Science Fiction</td>\n",
       "      <td>Adventure|Fantasy|Action|Western|Thriller</td>\n",
       "    </tr>\n",
       "    <tr>\n",
       "      <th>release_year</th>\n",
       "      <td>2009</td>\n",
       "      <td>2010</td>\n",
       "    </tr>\n",
       "  </tbody>\n",
       "</table>\n",
       "</div>"
      ],
      "text/plain": [
       "                                                             1386  \\\n",
       "budget                                                   2.37e+08   \n",
       "revenue                                               2.78151e+09   \n",
       "earned_value                                          2.54451e+09   \n",
       "original_title                                             Avatar   \n",
       "cast            Sam Worthington|Zoe Saldana|Sigourney Weaver|S...   \n",
       "director                                            James Cameron   \n",
       "runtime                                                       162   \n",
       "genres                   Action|Adventure|Fantasy|Science Fiction   \n",
       "release_year                                                 2009   \n",
       "\n",
       "                                                             2244  \n",
       "budget                                                   4.25e+08  \n",
       "revenue                                               1.10876e+07  \n",
       "earned_value                                         -4.13912e+08  \n",
       "original_title                                  The Warrior's Way  \n",
       "cast            Kate Bosworth|Jang Dong-gun|Geoffrey Rush|Dann...  \n",
       "director                                               Sngmoo Lee  \n",
       "runtime                                                       100  \n",
       "genres                  Adventure|Fantasy|Action|Western|Thriller  \n",
       "release_year                                                 2010  "
      ]
     },
     "execution_count": 16,
     "metadata": {},
     "output_type": "execute_result"
    }
   ],
   "source": [
    "import pprint\n",
    "#defining a function to calculate high and low values\n",
    "def high_low(column):\n",
    "    high= df[column].idxmax()\n",
    "    high_details=pd.DataFrame(df.loc[high])\n",
    "        \n",
    "    low= df[column].idxmin()\n",
    "    low_details=pd.DataFrame(df.loc[low])\n",
    "    \n",
    "    values = pd.concat([high_details, low_details], axis=1)\n",
    "    \n",
    "    return values\n",
    "\n",
    "#calling the function\n",
    "high_low('earned_value')"
   ]
  },
  {
   "cell_type": "code",
   "execution_count": 17,
   "metadata": {},
   "outputs": [],
   "source": [
    "df_dtype = ['budget', 'revenue','earned_value']\n",
    "df[df_dtype] = df[df_dtype].applymap(np.int64)"
   ]
  },
  {
   "cell_type": "code",
   "execution_count": 18,
   "metadata": {},
   "outputs": [
    {
     "data": {
      "text/html": [
       "<div>\n",
       "<style scoped>\n",
       "    .dataframe tbody tr th:only-of-type {\n",
       "        vertical-align: middle;\n",
       "    }\n",
       "\n",
       "    .dataframe tbody tr th {\n",
       "        vertical-align: top;\n",
       "    }\n",
       "\n",
       "    .dataframe thead th {\n",
       "        text-align: right;\n",
       "    }\n",
       "</style>\n",
       "<table border=\"1\" class=\"dataframe\">\n",
       "  <thead>\n",
       "    <tr style=\"text-align: right;\">\n",
       "      <th></th>\n",
       "      <th>budget</th>\n",
       "      <th>revenue</th>\n",
       "      <th>earned_value</th>\n",
       "      <th>original_title</th>\n",
       "      <th>cast</th>\n",
       "      <th>director</th>\n",
       "      <th>runtime</th>\n",
       "      <th>genres</th>\n",
       "      <th>release_year</th>\n",
       "    </tr>\n",
       "  </thead>\n",
       "  <tbody>\n",
       "    <tr>\n",
       "      <th>10170</th>\n",
       "      <td>3000000</td>\n",
       "      <td>7100000</td>\n",
       "      <td>4100000</td>\n",
       "      <td>Cinderfella</td>\n",
       "      <td>Jerry Lewis|Ed Wynn|Judith Anderson|Henry Silv...</td>\n",
       "      <td>Frank Tashlin</td>\n",
       "      <td>91</td>\n",
       "      <td>Comedy|Romance</td>\n",
       "      <td>1960</td>\n",
       "    </tr>\n",
       "    <tr>\n",
       "      <th>10142</th>\n",
       "      <td>2000000</td>\n",
       "      <td>4905000</td>\n",
       "      <td>2905000</td>\n",
       "      <td>The Magnificent Seven</td>\n",
       "      <td>Yul Brynner|Eli Wallach|Steve McQueen|Charles ...</td>\n",
       "      <td>John Sturges</td>\n",
       "      <td>128</td>\n",
       "      <td>Action|Adventure|Western</td>\n",
       "      <td>1960</td>\n",
       "    </tr>\n",
       "    <tr>\n",
       "      <th>10143</th>\n",
       "      <td>12000000</td>\n",
       "      <td>60000000</td>\n",
       "      <td>48000000</td>\n",
       "      <td>Spartacus</td>\n",
       "      <td>Kirk Douglas|Laurence Olivier|Jean Simmons|Cha...</td>\n",
       "      <td>Stanley Kubrick</td>\n",
       "      <td>197</td>\n",
       "      <td>Action|Drama|History</td>\n",
       "      <td>1960</td>\n",
       "    </tr>\n",
       "    <tr>\n",
       "      <th>10144</th>\n",
       "      <td>3000000</td>\n",
       "      <td>25000000</td>\n",
       "      <td>22000000</td>\n",
       "      <td>The Apartment</td>\n",
       "      <td>Jack Lemmon|Shirley MacLaine|Fred MacMurray|Ra...</td>\n",
       "      <td>Billy Wilder</td>\n",
       "      <td>125</td>\n",
       "      <td>Comedy|Drama|Romance</td>\n",
       "      <td>1960</td>\n",
       "    </tr>\n",
       "  </tbody>\n",
       "</table>\n",
       "</div>"
      ],
      "text/plain": [
       "         budget   revenue  earned_value         original_title  \\\n",
       "10170   3000000   7100000       4100000            Cinderfella   \n",
       "10142   2000000   4905000       2905000  The Magnificent Seven   \n",
       "10143  12000000  60000000      48000000              Spartacus   \n",
       "10144   3000000  25000000      22000000          The Apartment   \n",
       "\n",
       "                                                    cast         director  \\\n",
       "10170  Jerry Lewis|Ed Wynn|Judith Anderson|Henry Silv...    Frank Tashlin   \n",
       "10142  Yul Brynner|Eli Wallach|Steve McQueen|Charles ...     John Sturges   \n",
       "10143  Kirk Douglas|Laurence Olivier|Jean Simmons|Cha...  Stanley Kubrick   \n",
       "10144  Jack Lemmon|Shirley MacLaine|Fred MacMurray|Ra...     Billy Wilder   \n",
       "\n",
       "       runtime                    genres  release_year  \n",
       "10170       91            Comedy|Romance          1960  \n",
       "10142      128  Action|Adventure|Western          1960  \n",
       "10143      197      Action|Drama|History          1960  \n",
       "10144      125      Comedy|Drama|Romance          1960  "
      ]
     },
     "execution_count": 18,
     "metadata": {},
     "output_type": "execute_result"
    }
   ],
   "source": [
    "df.head(4)"
   ]
  },
  {
   "cell_type": "code",
   "execution_count": 19,
   "metadata": {},
   "outputs": [
    {
     "data": {
      "image/png": "[encoded data removed]",
      "text/plain": [
       "<matplotlib.figure.Figure at 0x7f0321dc7940>"
      ]
     },
     "metadata": {
      "needs_background": "light"
     },
     "output_type": "display_data"
    }
   ],
   "source": [
    "df.hist(figsize = (10,8));"
   ]
  },
  {
   "cell_type": "markdown",
   "metadata": {},
   "source": [
    ">release year and earned value"
   ]
  },
  {
   "cell_type": "code",
   "execution_count": 20,
   "metadata": {},
   "outputs": [
    {
     "data": {
      "image/png": "[encoded data removed]",
      "text/plain": [
       "<matplotlib.figure.Figure at 0x7f0321cc3c18>"
      ]
     },
     "metadata": {
      "needs_background": "light"
     },
     "output_type": "display_data"
    }
   ],
   "source": [
    "profit_per_year = df.groupby('release_year')['earned_value'].sum()\n",
    "df['earned_value']\n",
    "plt.figure(figsize=(10,8))\n",
    "plt.title('total profits earned by all movies in a year.')\n",
    "plt.plot(profit_per_year)\n",
    "plt.show()"
   ]
  },
  {
   "cell_type": "markdown",
   "metadata": {},
   "source": [
    ">checking the average of budget, revenue and earned value"
   ]
  },
  {
   "cell_type": "code",
   "execution_count": 21,
   "metadata": {},
   "outputs": [
    {
     "name": "stdout",
     "output_type": "stream",
     "text": [
      "36574499\n"
     ]
    }
   ],
   "source": [
    "avg_budget = int(df['budget'].mean())\n",
    "print(avg_budget)"
   ]
  },
  {
   "cell_type": "code",
   "execution_count": 22,
   "metadata": {},
   "outputs": [
    {
     "name": "stdout",
     "output_type": "stream",
     "text": [
      "105501201\n"
     ]
    }
   ],
   "source": [
    "avg_revenue = int(df['revenue'].mean())\n",
    "print(avg_revenue)"
   ]
  },
  {
   "cell_type": "code",
   "execution_count": 23,
   "metadata": {},
   "outputs": [
    {
     "name": "stdout",
     "output_type": "stream",
     "text": [
      "68926701\n"
     ]
    }
   ],
   "source": [
    "avg_profit = int(df['earned_value'].mean())\n",
    "print(avg_profit)"
   ]
  },
  {
   "cell_type": "markdown",
   "metadata": {},
   "source": [
    ">showing high and low budget movies"
   ]
  },
  {
   "cell_type": "code",
   "execution_count": 24,
   "metadata": {},
   "outputs": [
    {
     "data": {
      "text/html": [
       "<div>\n",
       "<style scoped>\n",
       "    .dataframe tbody tr th:only-of-type {\n",
       "        vertical-align: middle;\n",
       "    }\n",
       "\n",
       "    .dataframe tbody tr th {\n",
       "        vertical-align: top;\n",
       "    }\n",
       "\n",
       "    .dataframe thead th {\n",
       "        text-align: right;\n",
       "    }\n",
       "</style>\n",
       "<table border=\"1\" class=\"dataframe\">\n",
       "  <thead>\n",
       "    <tr style=\"text-align: right;\">\n",
       "      <th></th>\n",
       "      <th>2244</th>\n",
       "      <th>2618</th>\n",
       "    </tr>\n",
       "  </thead>\n",
       "  <tbody>\n",
       "    <tr>\n",
       "      <th>budget</th>\n",
       "      <td>425000000</td>\n",
       "      <td>1</td>\n",
       "    </tr>\n",
       "    <tr>\n",
       "      <th>revenue</th>\n",
       "      <td>11087569</td>\n",
       "      <td>100</td>\n",
       "    </tr>\n",
       "    <tr>\n",
       "      <th>earned_value</th>\n",
       "      <td>-413912431</td>\n",
       "      <td>99</td>\n",
       "    </tr>\n",
       "    <tr>\n",
       "      <th>original_title</th>\n",
       "      <td>The Warrior's Way</td>\n",
       "      <td>Lost &amp; Found</td>\n",
       "    </tr>\n",
       "    <tr>\n",
       "      <th>cast</th>\n",
       "      <td>Kate Bosworth|Jang Dong-gun|Geoffrey Rush|Dann...</td>\n",
       "      <td>David Spade|Sophie Marceau|Ever Carradine|Step...</td>\n",
       "    </tr>\n",
       "    <tr>\n",
       "      <th>director</th>\n",
       "      <td>Sngmoo Lee</td>\n",
       "      <td>Jeff Pollack</td>\n",
       "    </tr>\n",
       "    <tr>\n",
       "      <th>runtime</th>\n",
       "      <td>100</td>\n",
       "      <td>95</td>\n",
       "    </tr>\n",
       "    <tr>\n",
       "      <th>genres</th>\n",
       "      <td>Adventure|Fantasy|Action|Western|Thriller</td>\n",
       "      <td>Comedy|Romance</td>\n",
       "    </tr>\n",
       "    <tr>\n",
       "      <th>release_year</th>\n",
       "      <td>2010</td>\n",
       "      <td>1999</td>\n",
       "    </tr>\n",
       "  </tbody>\n",
       "</table>\n",
       "</div>"
      ],
      "text/plain": [
       "                                                             2244  \\\n",
       "budget                                                  425000000   \n",
       "revenue                                                  11087569   \n",
       "earned_value                                           -413912431   \n",
       "original_title                                  The Warrior's Way   \n",
       "cast            Kate Bosworth|Jang Dong-gun|Geoffrey Rush|Dann...   \n",
       "director                                               Sngmoo Lee   \n",
       "runtime                                                       100   \n",
       "genres                  Adventure|Fantasy|Action|Western|Thriller   \n",
       "release_year                                                 2010   \n",
       "\n",
       "                                                             2618  \n",
       "budget                                                          1  \n",
       "revenue                                                       100  \n",
       "earned_value                                                   99  \n",
       "original_title                                       Lost & Found  \n",
       "cast            David Spade|Sophie Marceau|Ever Carradine|Step...  \n",
       "director                                             Jeff Pollack  \n",
       "runtime                                                        95  \n",
       "genres                                             Comedy|Romance  \n",
       "release_year                                                 1999  "
      ]
     },
     "execution_count": 24,
     "metadata": {},
     "output_type": "execute_result"
    }
   ],
   "source": [
    "high_low('budget')"
   ]
  },
  {
   "cell_type": "markdown",
   "metadata": {},
   "source": [
    ">show longest and shortest runtime"
   ]
  },
  {
   "cell_type": "code",
   "execution_count": 25,
   "metadata": {},
   "outputs": [
    {
     "data": {
      "text/html": [
       "<div>\n",
       "<style scoped>\n",
       "    .dataframe tbody tr th:only-of-type {\n",
       "        vertical-align: middle;\n",
       "    }\n",
       "\n",
       "    .dataframe tbody tr th {\n",
       "        vertical-align: top;\n",
       "    }\n",
       "\n",
       "    .dataframe thead th {\n",
       "        text-align: right;\n",
       "    }\n",
       "</style>\n",
       "<table border=\"1\" class=\"dataframe\">\n",
       "  <thead>\n",
       "    <tr style=\"text-align: right;\">\n",
       "      <th></th>\n",
       "      <th>2107</th>\n",
       "      <th>5162</th>\n",
       "    </tr>\n",
       "  </thead>\n",
       "  <tbody>\n",
       "    <tr>\n",
       "      <th>budget</th>\n",
       "      <td>18000000</td>\n",
       "      <td>10</td>\n",
       "    </tr>\n",
       "    <tr>\n",
       "      <th>revenue</th>\n",
       "      <td>871279</td>\n",
       "      <td>5</td>\n",
       "    </tr>\n",
       "    <tr>\n",
       "      <th>earned_value</th>\n",
       "      <td>-17128721</td>\n",
       "      <td>-5</td>\n",
       "    </tr>\n",
       "    <tr>\n",
       "      <th>original_title</th>\n",
       "      <td>Carlos</td>\n",
       "      <td>Kid's Story</td>\n",
       "    </tr>\n",
       "    <tr>\n",
       "      <th>cast</th>\n",
       "      <td>Edgar RamÃ­rez|Alexander Scheer|Fadi Abi Samra...</td>\n",
       "      <td>Clayton Watson|Keanu Reeves|Carrie-Anne Moss|K...</td>\n",
       "    </tr>\n",
       "    <tr>\n",
       "      <th>director</th>\n",
       "      <td>Olivier Assayas</td>\n",
       "      <td>Shinichiro Watanabe</td>\n",
       "    </tr>\n",
       "    <tr>\n",
       "      <th>runtime</th>\n",
       "      <td>338</td>\n",
       "      <td>15</td>\n",
       "    </tr>\n",
       "    <tr>\n",
       "      <th>genres</th>\n",
       "      <td>Crime|Drama|Thriller|History</td>\n",
       "      <td>Science Fiction|Animation</td>\n",
       "    </tr>\n",
       "    <tr>\n",
       "      <th>release_year</th>\n",
       "      <td>2010</td>\n",
       "      <td>2003</td>\n",
       "    </tr>\n",
       "  </tbody>\n",
       "</table>\n",
       "</div>"
      ],
      "text/plain": [
       "                                                             2107  \\\n",
       "budget                                                   18000000   \n",
       "revenue                                                    871279   \n",
       "earned_value                                            -17128721   \n",
       "original_title                                             Carlos   \n",
       "cast            Edgar RamÃ­rez|Alexander Scheer|Fadi Abi Samra...   \n",
       "director                                          Olivier Assayas   \n",
       "runtime                                                       338   \n",
       "genres                               Crime|Drama|Thriller|History   \n",
       "release_year                                                 2010   \n",
       "\n",
       "                                                             5162  \n",
       "budget                                                         10  \n",
       "revenue                                                         5  \n",
       "earned_value                                                   -5  \n",
       "original_title                                        Kid's Story  \n",
       "cast            Clayton Watson|Keanu Reeves|Carrie-Anne Moss|K...  \n",
       "director                                      Shinichiro Watanabe  \n",
       "runtime                                                        15  \n",
       "genres                                  Science Fiction|Animation  \n",
       "release_year                                                 2003  "
      ]
     },
     "execution_count": 25,
     "metadata": {},
     "output_type": "execute_result"
    }
   ],
   "source": [
    "high_low('runtime')"
   ]
  },
  {
   "cell_type": "code",
   "execution_count": 26,
   "metadata": {},
   "outputs": [
    {
     "data": {
      "image/png": "[encoded data removed]",
      "text/plain": [
       "<matplotlib.figure.Figure at 0x7f0321030978>"
      ]
     },
     "metadata": {
      "needs_background": "light"
     },
     "output_type": "display_data"
    }
   ],
   "source": [
    "df['earned_value'].hist();"
   ]
  },
  {
   "cell_type": "code",
   "execution_count": 27,
   "metadata": {},
   "outputs": [
    {
     "data": {
      "image/png": "[encoded data removed]",
      "text/plain": [
       "<matplotlib.figure.Figure at 0x7f0320f09d30>"
      ]
     },
     "metadata": {
      "needs_background": "light"
     },
     "output_type": "display_data"
    }
   ],
   "source": [
    "df.plot(x='release_year',y='earned_value',kind='scatter');"
   ]
  },
  {
   "cell_type": "markdown",
   "metadata": {},
   "source": []
  }
 ],
 "metadata": {
  "kernelspec": {
   "display_name": "Python 3",
   "language": "python",
   "name": "python3"
  },
  "language_info": {
   "codemirror_mode": {
    "name": "ipython",
    "version": 3
   },
   "file_extension": ".py",
   "mimetype": "text/x-python",
   "name": "python",
   "nbconvert_exporter": "python",
   "pygments_lexer": "ipython3",
   "version": "3.6.3"
  }
 },
 "nbformat": 4,
 "nbformat_minor": 5
}
