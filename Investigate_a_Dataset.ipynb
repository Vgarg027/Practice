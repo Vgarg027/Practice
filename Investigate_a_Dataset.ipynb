{
 "cells": [
  {
   "cell_type": "markdown",
   "metadata": {},
   "source": [
    "# Project: Investigate a Dataset - [Dataset-name]\n",
    "\n",
    "## Table of Contents\n",
    "<ul>\n",
    "<li><a href=\"#intro\">Introduction</a></li>\n",
    "<li><a href=\"#wrangling\">Data Wrangling</a></li>\n",
    "<li><a href=\"#eda\">Exploratory Data Analysis</a></li>\n",
    "<li><a href=\"#conclusions\">Conclusions</a></li>\n",
    "</ul>"
   ]
  },
  {
   "cell_type": "markdown",
   "metadata": {},
   "source": [
    "<a id='intro'></a>\n",
    "## Introduction\n",
    "\n",
    "### Dataset Description \n",
    "\n",
    "This dataset collects information from 110.527 medical appointments in Brazil and is focused on the question of whether or not patients show up for their appointment. 14 distinct characteristics about the patient are included in each record:\n",
    "- **\"PatientId\":** Unique patiend identifier\n",
    "- **\"AppointmentID\":** Unique appointment identifier\n",
    "- **\"Gender\":** Whether the patient is male (M) or female (F)\n",
    "- **\"ScheduledDay\":** What day the patient set up their appointment\n",
    "- **\"AppointmentDay\":** What day the patient had to show up for the appointment (same date or after *ScheduledDay*) \n",
    "- **\"Age\":** The patient's age\n",
    "- **\"Neighborhood:** Indicates the location of the hospital\n",
    "- **\"Scholarship\":** Flag indicating whether or not the patient is enrolled in Brasilian welfare program *Bolsa Família*\n",
    "- **\"Hipertension\":** Flag indicating whether the patient has hipertension or not\n",
    "- **\"Diabetes\":** Flag indicating whether the patient has Diabetes or not\n",
    "- **\"Alcoholism\":** Flag indicating whether the patient has Alcoholism or not\n",
    "- **\"Handcap\":** Flag indicating whether the patient has some sort of handicap or not\n",
    "- **\"SMS_received\":** Flag indicating whether the patient received an appointment alert via SMS or not\n",
    "- **\"No-show\":** It says ‘No’ if the patient showed up to their appointment, and ‘Yes’ if they did not show up.\n",
    "\n",
    "\n",
    "### Question(s) for Analysis\n",
    "Below, I divide my analysis in two different blocks. The first block within the `Data Wrangling` section is divided into two additional blocks, namely `General` and `Cleaning`, here I add some generic questions that address typical issues when analyzing a dataset. The last block `Exploratory Analysis` is where the relevant questions have been placed. Here I've added specific questions to guide my analysis. The idea is that by solving these set of questions, anyone could gain a proper picture of this particular dataset.\n",
    "- **Data Wrangling:**\n",
    "    - **General:**\n",
    "        - How many records do we have?\n",
    "        - How many columns do we have?\n",
    "        - What kind of datatypes are we dealing with?\n",
    "        - Do we have duplicated records?\n",
    "        - Do we have NAN values?\n",
    "\n",
    "    - **Cleaning:** \n",
    "        - How are we going to deal with NAN values (impute mean/median, drop...)?\n",
    "        - Do we have any date type variables? Are they clean?\n",
    "        - Do we have any text/categorical variables? Are they clean?\n",
    "        - Any additional variable we could come up with (i.e. for ML purposes)?\n",
    "    \n",
    "- **Exploratory Analysis:**\n",
    "    - From when is the oldest and most recent record? From when is the oldest and most recent record?\n",
    "    - Do we have daily records?\n",
    "    - What are the ranges of the different independant variables?\n",
    "    - What is the distribution of each variable?\n",
    "    - How is the correlation between variables? Are they correlated with the dependant variable?\n",
    "    - Is the number of samples balanced for negative and positive values of the dependant variable?\n",
    "    - Is there any seasonality associated with not showing up to the consultation?\n",
    "    - Does the number of days between schedule and actual appointment impact on the probability of showing up to the consultation?\n",
    "    - Does age group or gender impact on the probability of showing up to the consultation?\n",
    "    - In which places there is a higher probability to not to show up to the doctor?\n",
    "    "
   ]
  },
  {
   "cell_type": "code",
   "execution_count": 1,
   "metadata": {},
   "outputs": [],
   "source": [
    "# Use this cell to set up import statements for all of the packages that you\n",
    "#   plan to use.\n",
    "\n",
    "# Remember to include a 'magic word' so that your visualizations are plotted\n",
    "#   inline with the notebook. See this page for more:\n",
    "#   http://ipython.readthedocs.io/en/stable/interactive/magics.html\n"
   ]
  },
  {
   "cell_type": "code",
   "execution_count": 2,
   "metadata": {},
   "outputs": [
    {
     "name": "stdout",
     "output_type": "stream",
     "text": [
      "Requirement already up-to-date: pandas==0.25.0 in /opt/conda/lib/python3.6/site-packages (0.25.0)\r\n",
      "Requirement already satisfied, skipping upgrade: pytz>=2017.2 in /opt/conda/lib/python3.6/site-packages (from pandas==0.25.0) (2017.3)\r\n",
      "Requirement already satisfied, skipping upgrade: python-dateutil>=2.6.1 in /opt/conda/lib/python3.6/site-packages (from pandas==0.25.0) (2.6.1)\r\n",
      "Requirement already satisfied, skipping upgrade: numpy>=1.13.3 in /opt/conda/lib/python3.6/site-packages (from pandas==0.25.0) (1.19.5)\r\n",
      "Requirement already satisfied, skipping upgrade: six>=1.5 in /opt/conda/lib/python3.6/site-packages (from python-dateutil>=2.6.1->pandas==0.25.0) (1.11.0)\r\n"
     ]
    }
   ],
   "source": [
    "# Upgrade pandas to use dataframe.explode() function. \n",
    "!pip install --upgrade pandas==0.25.0"
   ]
  },
  {
   "cell_type": "code",
   "execution_count": 3,
   "metadata": {},
   "outputs": [
    {
     "name": "stdout",
     "output_type": "stream",
     "text": [
      "total 10512\r\n",
      "drwxr-xr-x 2 root root     4096 Aug 11  2021 .\r\n",
      "drwxr-xr-x 7 root root     4096 Jul 17 18:43 ..\r\n",
      "-rw-r--r-- 1 root root 10739535 Aug 11  2021 noshowappointments-kagglev2-may-2016.csv\r\n"
     ]
    }
   ],
   "source": [
    "! ls -la ./Database_No_show_appointments/"
   ]
  },
  {
   "cell_type": "code",
   "execution_count": 4,
   "metadata": {},
   "outputs": [],
   "source": [
    "import numpy as np\n",
    "import pandas as pd\n",
    "import seaborn as sns\n",
    "import matplotlib.pyplot as plt\n",
    "\n",
    "pd.set_option('display.max_columns', None)\n",
    "pd.set_option('display.max_rows', None)\n",
    "\n",
    "# Load data into DataFrame\n",
    "data = pd.read_csv(\"./Database_No_show_appointments/noshowappointments-kagglev2-may-2016.csv\")\n",
    "\n",
    "# Create copy to work with\n",
    "df = data.copy()"
   ]
  },
  {
   "cell_type": "markdown",
   "metadata": {},
   "source": [
    "<a id='wrangling'></a>\n",
    "## Data Wrangling\n",
    "### General Properties\n",
    "\n",
    "Here we seek to answer:\n",
    "    - How many records do we have?\n",
    "    - How many columns do we have?\n",
    "    - What kind of datatypes are we dealing with?\n",
    "    - Do we have duplicated records?\n",
    "    - Do we have NAN values?"
   ]
  },
  {
   "cell_type": "code",
   "execution_count": 5,
   "metadata": {},
   "outputs": [
    {
     "data": {
      "text/html": [
       "<div>\n",
       "<style scoped>\n",
       "    .dataframe tbody tr th:only-of-type {\n",
       "        vertical-align: middle;\n",
       "    }\n",
       "\n",
       "    .dataframe tbody tr th {\n",
       "        vertical-align: top;\n",
       "    }\n",
       "\n",
       "    .dataframe thead th {\n",
       "        text-align: right;\n",
       "    }\n",
       "</style>\n",
       "<table border=\"1\" class=\"dataframe\">\n",
       "  <thead>\n",
       "    <tr style=\"text-align: right;\">\n",
       "      <th></th>\n",
       "      <th>PatientId</th>\n",
       "      <th>AppointmentID</th>\n",
       "      <th>Gender</th>\n",
       "      <th>ScheduledDay</th>\n",
       "      <th>AppointmentDay</th>\n",
       "      <th>Age</th>\n",
       "      <th>Neighbourhood</th>\n",
       "      <th>Scholarship</th>\n",
       "      <th>Hipertension</th>\n",
       "      <th>Diabetes</th>\n",
       "      <th>Alcoholism</th>\n",
       "      <th>Handcap</th>\n",
       "      <th>SMS_received</th>\n",
       "      <th>No-show</th>\n",
       "    </tr>\n",
       "  </thead>\n",
       "  <tbody>\n",
       "    <tr>\n",
       "      <th>0</th>\n",
       "      <td>2.987250e+13</td>\n",
       "      <td>5642903</td>\n",
       "      <td>F</td>\n",
       "      <td>2016-04-29T18:38:08Z</td>\n",
       "      <td>2016-04-29T00:00:00Z</td>\n",
       "      <td>62</td>\n",
       "      <td>JARDIM DA PENHA</td>\n",
       "      <td>0</td>\n",
       "      <td>1</td>\n",
       "      <td>0</td>\n",
       "      <td>0</td>\n",
       "      <td>0</td>\n",
       "      <td>0</td>\n",
       "      <td>No</td>\n",
       "    </tr>\n",
       "    <tr>\n",
       "      <th>1</th>\n",
       "      <td>5.589978e+14</td>\n",
       "      <td>5642503</td>\n",
       "      <td>M</td>\n",
       "      <td>2016-04-29T16:08:27Z</td>\n",
       "      <td>2016-04-29T00:00:00Z</td>\n",
       "      <td>56</td>\n",
       "      <td>JARDIM DA PENHA</td>\n",
       "      <td>0</td>\n",
       "      <td>0</td>\n",
       "      <td>0</td>\n",
       "      <td>0</td>\n",
       "      <td>0</td>\n",
       "      <td>0</td>\n",
       "      <td>No</td>\n",
       "    </tr>\n",
       "    <tr>\n",
       "      <th>2</th>\n",
       "      <td>4.262962e+12</td>\n",
       "      <td>5642549</td>\n",
       "      <td>F</td>\n",
       "      <td>2016-04-29T16:19:04Z</td>\n",
       "      <td>2016-04-29T00:00:00Z</td>\n",
       "      <td>62</td>\n",
       "      <td>MATA DA PRAIA</td>\n",
       "      <td>0</td>\n",
       "      <td>0</td>\n",
       "      <td>0</td>\n",
       "      <td>0</td>\n",
       "      <td>0</td>\n",
       "      <td>0</td>\n",
       "      <td>No</td>\n",
       "    </tr>\n",
       "    <tr>\n",
       "      <th>3</th>\n",
       "      <td>8.679512e+11</td>\n",
       "      <td>5642828</td>\n",
       "      <td>F</td>\n",
       "      <td>2016-04-29T17:29:31Z</td>\n",
       "      <td>2016-04-29T00:00:00Z</td>\n",
       "      <td>8</td>\n",
       "      <td>PONTAL DE CAMBURI</td>\n",
       "      <td>0</td>\n",
       "      <td>0</td>\n",
       "      <td>0</td>\n",
       "      <td>0</td>\n",
       "      <td>0</td>\n",
       "      <td>0</td>\n",
       "      <td>No</td>\n",
       "    </tr>\n",
       "    <tr>\n",
       "      <th>4</th>\n",
       "      <td>8.841186e+12</td>\n",
       "      <td>5642494</td>\n",
       "      <td>F</td>\n",
       "      <td>2016-04-29T16:07:23Z</td>\n",
       "      <td>2016-04-29T00:00:00Z</td>\n",
       "      <td>56</td>\n",
       "      <td>JARDIM DA PENHA</td>\n",
       "      <td>0</td>\n",
       "      <td>1</td>\n",
       "      <td>1</td>\n",
       "      <td>0</td>\n",
       "      <td>0</td>\n",
       "      <td>0</td>\n",
       "      <td>No</td>\n",
       "    </tr>\n",
       "  </tbody>\n",
       "</table>\n",
       "</div>"
      ],
      "text/plain": [
       "      PatientId  AppointmentID Gender          ScheduledDay  \\\n",
       "0  2.987250e+13        5642903      F  2016-04-29T18:38:08Z   \n",
       "1  5.589978e+14        5642503      M  2016-04-29T16:08:27Z   \n",
       "2  4.262962e+12        5642549      F  2016-04-29T16:19:04Z   \n",
       "3  8.679512e+11        5642828      F  2016-04-29T17:29:31Z   \n",
       "4  8.841186e+12        5642494      F  2016-04-29T16:07:23Z   \n",
       "\n",
       "         AppointmentDay  Age      Neighbourhood  Scholarship  Hipertension  \\\n",
       "0  2016-04-29T00:00:00Z   62    JARDIM DA PENHA            0             1   \n",
       "1  2016-04-29T00:00:00Z   56    JARDIM DA PENHA            0             0   \n",
       "2  2016-04-29T00:00:00Z   62      MATA DA PRAIA            0             0   \n",
       "3  2016-04-29T00:00:00Z    8  PONTAL DE CAMBURI            0             0   \n",
       "4  2016-04-29T00:00:00Z   56    JARDIM DA PENHA            0             1   \n",
       "\n",
       "   Diabetes  Alcoholism  Handcap  SMS_received No-show  \n",
       "0         0           0        0             0      No  \n",
       "1         0           0        0             0      No  \n",
       "2         0           0        0             0      No  \n",
       "3         0           0        0             0      No  \n",
       "4         1           0        0             0      No  "
      ]
     },
     "execution_count": 5,
     "metadata": {},
     "output_type": "execute_result"
    }
   ],
   "source": [
    "# Quick first glance on top 5 records\n",
    "df.head()"
   ]
  },
  {
   "cell_type": "code",
   "execution_count": 6,
   "metadata": {},
   "outputs": [
    {
     "data": {
      "text/plain": [
       "(110527, 14)"
      ]
     },
     "execution_count": 6,
     "metadata": {},
     "output_type": "execute_result"
    }
   ],
   "source": [
    "# Check size of the dataset\n",
    "df.shape"
   ]
  },
  {
   "cell_type": "code",
   "execution_count": 7,
   "metadata": {},
   "outputs": [
    {
     "data": {
      "text/plain": [
       "Index(['PatientId', 'AppointmentID', 'Gender', 'ScheduledDay',\n",
       "       'AppointmentDay', 'Age', 'Neighbourhood', 'Scholarship', 'Hipertension',\n",
       "       'Diabetes', 'Alcoholism', 'Handcap', 'SMS_received', 'No-show'],\n",
       "      dtype='object')"
      ]
     },
     "execution_count": 7,
     "metadata": {},
     "output_type": "execute_result"
    }
   ],
   "source": [
    "# Check available columns\n",
    "df.columns"
   ]
  },
  {
   "cell_type": "code",
   "execution_count": 8,
   "metadata": {},
   "outputs": [
    {
     "name": "stdout",
     "output_type": "stream",
     "text": [
      "<class 'pandas.core.frame.DataFrame'>\n",
      "RangeIndex: 110527 entries, 0 to 110526\n",
      "Data columns (total 14 columns):\n",
      "PatientId         110527 non-null float64\n",
      "AppointmentID     110527 non-null int64\n",
      "Gender            110527 non-null object\n",
      "ScheduledDay      110527 non-null object\n",
      "AppointmentDay    110527 non-null object\n",
      "Age               110527 non-null int64\n",
      "Neighbourhood     110527 non-null object\n",
      "Scholarship       110527 non-null int64\n",
      "Hipertension      110527 non-null int64\n",
      "Diabetes          110527 non-null int64\n",
      "Alcoholism        110527 non-null int64\n",
      "Handcap           110527 non-null int64\n",
      "SMS_received      110527 non-null int64\n",
      "No-show           110527 non-null object\n",
      "dtypes: float64(1), int64(8), object(5)\n",
      "memory usage: 11.8+ MB\n"
     ]
    }
   ],
   "source": [
    "# Quick check on datatypes and NAN records per variable\n",
    "df.info()"
   ]
  },
  {
   "cell_type": "code",
   "execution_count": 9,
   "metadata": {},
   "outputs": [
    {
     "data": {
      "text/plain": [
       "(0, 14)"
      ]
     },
     "execution_count": 9,
     "metadata": {},
     "output_type": "execute_result"
    }
   ],
   "source": [
    "# Checking for duplicated values\n",
    "df[df.duplicated(keep=\"first\")].shape"
   ]
  },
  {
   "cell_type": "markdown",
   "metadata": {},
   "source": [
    "- The dataset contains 110527 historical records of patients with 14 columns. \n",
    "\n",
    "- It seems there are no NAN values in the dataset\n",
    "\n",
    "- It seems there are no duplicated rows in the dataset\n",
    "\n",
    "- Each column holds different type of information: \n",
    "    - **ID's:**\n",
    "        - total: 2\n",
    "        - pandas dtype: float & int\n",
    "    - **categorical:**\n",
    "        - total: 3\n",
    "        - pandas dtype: object\n",
    "    - **numerical:**\n",
    "        - total: 7\n",
    "        - pandas dtype: int\n",
    "    - **datetime:** \n",
    "        - total: 2\n",
    "        - pandas dtype: object\n",
    "\n",
    "- The datetime variables will have to be casted from object type to datetime64[ns]\n",
    "\n",
    "- The target variable *\"No-show\"* is unbalanced (80% of negative samples for 20% of positive samples). In addition, the pandas datetype is object so it'd be interesting to do binary encoding for advanced tasks such as Machine Learning."
   ]
  },
  {
   "cell_type": "markdown",
   "metadata": {},
   "source": [
    "\n",
    "### Data Cleaning\n",
    "Here we seek this kind of questions:\n",
    "    - How are we going to deal with NAN values (impute mean/median, drop...)?\n",
    "    - Do we have any date type variables? Are they clean?\n",
    "    - Do we have any text/categorical variables? Are they clean?\n",
    "    - Any additional variable we could come up with (i.e. for ML purposes)?\n"
   ]
  },
  {
   "cell_type": "markdown",
   "metadata": {},
   "source": [
    "#### Casting\n",
    "- I consider that some of the datatypes are not appropariate for some of the variables. Therefore I've decided to cast them to a different type:\n",
    "    - **ScheduledDay:** From string to datetime\n",
    "    - **AppointmentDay:** From string to datetime\n",
    "    - **PatientId:** From float to int "
   ]
  },
  {
   "cell_type": "code",
   "execution_count": 10,
   "metadata": {},
   "outputs": [
    {
     "data": {
      "text/plain": [
       "datetime64[ns, UTC]"
      ]
     },
     "execution_count": 10,
     "metadata": {},
     "output_type": "execute_result"
    }
   ],
   "source": [
    "# Clean both datetime columns by casting to appropriate format\n",
    "# From '2016-04-29T00:00:00Z' string type to '2020-01-06 00:00:00+00:00' datetime[ns, UTC]\n",
    "df['ScheduledDay'] = pd.to_datetime(df['ScheduledDay'])\n",
    "df['AppointmentDay']= pd.to_datetime(df['AppointmentDay'])\n",
    "df['ScheduledDay'].dtypes"
   ]
  },
  {
   "cell_type": "code",
   "execution_count": 11,
   "metadata": {},
   "outputs": [
    {
     "data": {
      "text/plain": [
       "dtype('int64')"
      ]
     },
     "execution_count": 11,
     "metadata": {},
     "output_type": "execute_result"
    }
   ],
   "source": [
    "# Cast PatientID to int type\n",
    "df[\"PatientId\"] = df[\"PatientId\"].astype(\"int\")\n",
    "df[\"PatientId\"].dtypes"
   ]
  },
  {
   "cell_type": "markdown",
   "metadata": {},
   "source": [
    "#### Encoding\n",
    "- I've decided to binary encode the target variable (No-show):\n",
    "    - **BEFORE:**\n",
    "        - Yes: The patient did not showed up\n",
    "        - No: The patient showed up\n",
    "    - **AFTER:**\n",
    "        - 1: The patient did not showed up\n",
    "        - 0: The patient showed up"
   ]
  },
  {
   "cell_type": "code",
   "execution_count": 12,
   "metadata": {},
   "outputs": [
    {
     "data": {
      "text/plain": [
       "0    0.798067\n",
       "1    0.201933\n",
       "Name: No-show, dtype: float64"
      ]
     },
     "execution_count": 12,
     "metadata": {},
     "output_type": "execute_result"
    }
   ],
   "source": [
    "# Encode the target variable (\"No-show\")\n",
    "target_mapping = {\n",
    "    \"Yes\": 1,\n",
    "    \"No\": 0\n",
    "}\n",
    "df[\"No-show\"] = df[\"No-show\"].apply(lambda x: target_mapping[x])\n",
    "\n",
    "# Check the distribution\n",
    "df[\"No-show\"].value_counts(normalize=True)"
   ]
  },
  {
   "cell_type": "markdown",
   "metadata": {},
   "source": [
    "#### Feature engineering\n",
    "- I'll be creating 6 new variables:\n",
    "    - **AppointmentYear:** The year of the scheduled visit \n",
    "    - **AppointmentMonth:** The month of the scheduled visit\n",
    "    - **PatientLifeStage:** The group life stage the patient belongs to (infant, toddler, child, adult...)\n",
    "    - **IsUnderAge:** If the patient is under 18 years old\n",
    "    - **DaysBetweenScheduledAndAppointment:** The days between when the appointment was settled up and the date of the appointment \n",
    "    - **DistanceBetweenScheduledAndAppointmentBinGroup**: Three different groups distinguishing between those patients with less or equal than 15 days value for DaysBetweenScheduledAndAppointment, those between 16 and 30 and those with more than 30 days."
   ]
  },
  {
   "cell_type": "code",
   "execution_count": 13,
   "metadata": {},
   "outputs": [
    {
     "data": {
      "text/html": [
       "<div>\n",
       "<style scoped>\n",
       "    .dataframe tbody tr th:only-of-type {\n",
       "        vertical-align: middle;\n",
       "    }\n",
       "\n",
       "    .dataframe tbody tr th {\n",
       "        vertical-align: top;\n",
       "    }\n",
       "\n",
       "    .dataframe thead th {\n",
       "        text-align: right;\n",
       "    }\n",
       "</style>\n",
       "<table border=\"1\" class=\"dataframe\">\n",
       "  <thead>\n",
       "    <tr style=\"text-align: right;\">\n",
       "      <th></th>\n",
       "      <th>PatientId</th>\n",
       "      <th>AppointmentID</th>\n",
       "      <th>Gender</th>\n",
       "      <th>ScheduledDay</th>\n",
       "      <th>AppointmentDay</th>\n",
       "      <th>Age</th>\n",
       "      <th>Neighbourhood</th>\n",
       "      <th>Scholarship</th>\n",
       "      <th>Hipertension</th>\n",
       "      <th>Diabetes</th>\n",
       "      <th>Alcoholism</th>\n",
       "      <th>Handcap</th>\n",
       "      <th>SMS_received</th>\n",
       "      <th>No-show</th>\n",
       "    </tr>\n",
       "  </thead>\n",
       "  <tbody>\n",
       "    <tr>\n",
       "      <th>0</th>\n",
       "      <td>29872499824296</td>\n",
       "      <td>5642903</td>\n",
       "      <td>F</td>\n",
       "      <td>2016-04-29 18:38:08+00:00</td>\n",
       "      <td>2016-04-29 00:00:00+00:00</td>\n",
       "      <td>62</td>\n",
       "      <td>JARDIM DA PENHA</td>\n",
       "      <td>0</td>\n",
       "      <td>1</td>\n",
       "      <td>0</td>\n",
       "      <td>0</td>\n",
       "      <td>0</td>\n",
       "      <td>0</td>\n",
       "      <td>0</td>\n",
       "    </tr>\n",
       "    <tr>\n",
       "      <th>2151</th>\n",
       "      <td>725775968562</td>\n",
       "      <td>5521232</td>\n",
       "      <td>M</td>\n",
       "      <td>2016-03-29 11:09:08+00:00</td>\n",
       "      <td>2016-04-29 00:00:00+00:00</td>\n",
       "      <td>33</td>\n",
       "      <td>MARIA ORTIZ</td>\n",
       "      <td>0</td>\n",
       "      <td>0</td>\n",
       "      <td>0</td>\n",
       "      <td>0</td>\n",
       "      <td>0</td>\n",
       "      <td>1</td>\n",
       "      <td>0</td>\n",
       "    </tr>\n",
       "    <tr>\n",
       "      <th>2152</th>\n",
       "      <td>94755722517728</td>\n",
       "      <td>5521230</td>\n",
       "      <td>F</td>\n",
       "      <td>2016-03-29 11:08:52+00:00</td>\n",
       "      <td>2016-04-29 00:00:00+00:00</td>\n",
       "      <td>50</td>\n",
       "      <td>MARIA ORTIZ</td>\n",
       "      <td>0</td>\n",
       "      <td>0</td>\n",
       "      <td>0</td>\n",
       "      <td>0</td>\n",
       "      <td>0</td>\n",
       "      <td>0</td>\n",
       "      <td>0</td>\n",
       "    </tr>\n",
       "    <tr>\n",
       "      <th>2153</th>\n",
       "      <td>35387553979251</td>\n",
       "      <td>5523393</td>\n",
       "      <td>F</td>\n",
       "      <td>2016-03-29 17:04:40+00:00</td>\n",
       "      <td>2016-04-29 00:00:00+00:00</td>\n",
       "      <td>69</td>\n",
       "      <td>MARIA ORTIZ</td>\n",
       "      <td>0</td>\n",
       "      <td>0</td>\n",
       "      <td>0</td>\n",
       "      <td>0</td>\n",
       "      <td>0</td>\n",
       "      <td>1</td>\n",
       "      <td>0</td>\n",
       "    </tr>\n",
       "    <tr>\n",
       "      <th>2154</th>\n",
       "      <td>732498986588399</td>\n",
       "      <td>5642808</td>\n",
       "      <td>F</td>\n",
       "      <td>2016-04-29 17:21:24+00:00</td>\n",
       "      <td>2016-04-29 00:00:00+00:00</td>\n",
       "      <td>65</td>\n",
       "      <td>MARIA ORTIZ</td>\n",
       "      <td>0</td>\n",
       "      <td>0</td>\n",
       "      <td>0</td>\n",
       "      <td>0</td>\n",
       "      <td>0</td>\n",
       "      <td>0</td>\n",
       "      <td>0</td>\n",
       "    </tr>\n",
       "  </tbody>\n",
       "</table>\n",
       "</div>"
      ],
      "text/plain": [
       "            PatientId  AppointmentID Gender              ScheduledDay  \\\n",
       "0      29872499824296        5642903      F 2016-04-29 18:38:08+00:00   \n",
       "2151     725775968562        5521232      M 2016-03-29 11:09:08+00:00   \n",
       "2152   94755722517728        5521230      F 2016-03-29 11:08:52+00:00   \n",
       "2153   35387553979251        5523393      F 2016-03-29 17:04:40+00:00   \n",
       "2154  732498986588399        5642808      F 2016-04-29 17:21:24+00:00   \n",
       "\n",
       "                AppointmentDay  Age    Neighbourhood  Scholarship  \\\n",
       "0    2016-04-29 00:00:00+00:00   62  JARDIM DA PENHA            0   \n",
       "2151 2016-04-29 00:00:00+00:00   33      MARIA ORTIZ            0   \n",
       "2152 2016-04-29 00:00:00+00:00   50      MARIA ORTIZ            0   \n",
       "2153 2016-04-29 00:00:00+00:00   69      MARIA ORTIZ            0   \n",
       "2154 2016-04-29 00:00:00+00:00   65      MARIA ORTIZ            0   \n",
       "\n",
       "      Hipertension  Diabetes  Alcoholism  Handcap  SMS_received  No-show  \n",
       "0                1         0           0        0             0        0  \n",
       "2151             0         0           0        0             1        0  \n",
       "2152             0         0           0        0             0        0  \n",
       "2153             0         0           0        0             1        0  \n",
       "2154             0         0           0        0             0        0  "
      ]
     },
     "execution_count": 13,
     "metadata": {},
     "output_type": "execute_result"
    }
   ],
   "source": [
    "# Sort records by date\n",
    "df.sort_values(\"AppointmentDay\", inplace=True)\n",
    "df.head(5)"
   ]
  },
  {
   "cell_type": "code",
   "execution_count": 14,
   "metadata": {},
   "outputs": [],
   "source": [
    "# Create new columns from ScheduledDay variable\n",
    "df[\"AppointmentYear\"] = df[\"AppointmentDay\"].apply(lambda x: x.year)\n",
    "df[\"AppointmentMonth\"] = df[\"AppointmentDay\"].apply(lambda x: x.month)"
   ]
  },
  {
   "cell_type": "code",
   "execution_count": 15,
   "metadata": {},
   "outputs": [],
   "source": [
    "def get_life_stage(age: int) -> str:\n",
    "    \"\"\"\n",
    "    Returns the associated life stage string.\n",
    "    \n",
    "    Parameters\n",
    "    ----------\n",
    "    age int:\n",
    "        The age that we want to convert\n",
    "            \n",
    "    Returns\n",
    "    -------\n",
    "    One of the available string stages:\n",
    "            - \"INFANT\": 0-1 years\n",
    "            - \"TODDLER\": 2-4 years\n",
    "            - \"CHILD\": 5-12 years\n",
    "            - \"TEEN\": 13-19 years\n",
    "            - \"ADULT\": 20-39 years\n",
    "            - \"MIDDLE_ADULT\": 40-59 years\n",
    "            - \"SENIOR_ADULT\": >60 years\n",
    "            - \"UNKOWN\": <0 years\n",
    "    \"\"\"\n",
    "    if 0 <= age <= 1:\n",
    "        return \"INFANT\"\n",
    "    \n",
    "    elif 2 <= age <= 4:\n",
    "        return \"TODDLER\"\n",
    "    \n",
    "    elif 5 <= age <= 12:\n",
    "        return \"CHILD\"\n",
    "    \n",
    "    elif 13 <= age <= 19:\n",
    "        return \"TEEN\"\n",
    "    \n",
    "    elif 20 <= age <= 39:\n",
    "        return \"ADULT\"\n",
    "    \n",
    "    elif 40 <= age <= 59:\n",
    "        return \"MIDDLE_ADULT\"\n",
    "    \n",
    "    elif age >= 60:\n",
    "        return \"SENIOR_ADULT\"\n",
    "    \n",
    "    else :\n",
    "        return \"UNKOWN\"\n",
    "\n",
    "    \n",
    "def is_underage(age: int) -> int:\n",
    "    \"\"\"\n",
    "    Indicates if the individual has less than 18 years or not.\n",
    "    \n",
    "    Parameters\n",
    "    ----------\n",
    "    age int:\n",
    "        The age that we want to convert\n",
    "            \n",
    "    Returns\n",
    "    -------\n",
    "    1 if less than 18 years, 0 if not and -1 if negative ages\n",
    "    \"\"\"\n",
    "    if 0 <= age < 18:\n",
    "        return 1\n",
    "    \n",
    "    elif age >= 18:\n",
    "        return 0\n",
    "    \n",
    "    else:\n",
    "        return -1"
   ]
  },
  {
   "cell_type": "code",
   "execution_count": 16,
   "metadata": {},
   "outputs": [],
   "source": [
    "# Create new variable with the individuals life stage label\n",
    "df[\"PatientLifeStage\"] = df[\"Age\"].apply(lambda x: get_life_stage(x))\n",
    "\n",
    "# Create new variables indicating if is underage or not (possible values)\n",
    "df[\"IsUnderAge\"] = df[\"Age\"].apply(lambda x: is_underage(x))\n",
    "\n",
    "## Create new variable with the difference expressed in days between the AppointmentDay and the ScheduledDay\n",
    "df[\"DaysBetweenScheduledAndAppointment\"] = df.apply(\n",
    "    lambda x: (x[\"AppointmentDay\"].date()-x[\"ScheduledDay\"].date()).days,\n",
    "    axis=1\n",
    ")\n",
    "\n",
    "# Create a new variable with bin groups for DaysBetweenScheduledAndAppointment\n",
    "# Bins (INTERVAL: LABEL ): (-inf, 15]: \"0_TO_15_DAYS\" , (15, 30]: \"16_TO_30_DAYS\", (30, +inf]: \"31_TO_INF_DAYS\"\n",
    "df[\"DistanceBetweenScheduledAndAppointmentBinGroup\"] = pd.cut(\n",
    "    x = df[\"DaysBetweenScheduledAndAppointment\"],\n",
    "    bins = [-np.inf, 15, 30, np.inf],\n",
    "    labels = [\"0_TO_15_DAYS\", \"16_TO_30_DAYS\", \"31_TO_INF_DAYS\"]\n",
    ")"
   ]
  },
  {
   "cell_type": "code",
   "execution_count": 17,
   "metadata": {},
   "outputs": [
    {
     "data": {
      "text/plain": [
       " 0    83147\n",
       " 1    27379\n",
       "-1        1\n",
       "Name: IsUnderAge, dtype: int64"
      ]
     },
     "execution_count": 17,
     "metadata": {},
     "output_type": "execute_result"
    }
   ],
   "source": [
    "df[\"IsUnderAge\"].value_counts()"
   ]
  },
  {
   "cell_type": "code",
   "execution_count": 18,
   "metadata": {
    "scrolled": true
   },
   "outputs": [
    {
     "data": {
      "text/plain": [
       "(5, 20)"
      ]
     },
     "execution_count": 18,
     "metadata": {},
     "output_type": "execute_result"
    }
   ],
   "source": [
    "df[df[\"DaysBetweenScheduledAndAppointment\"]<0].shape"
   ]
  },
  {
   "cell_type": "code",
   "execution_count": 19,
   "metadata": {},
   "outputs": [
    {
     "data": {
      "text/plain": [
       "0    0.348901\n",
       "2    0.060845\n",
       "4    0.047862\n",
       "1    0.047165\n",
       "7    0.044387\n",
       "Name: DaysBetweenScheduledAndAppointment, dtype: float64"
      ]
     },
     "execution_count": 19,
     "metadata": {},
     "output_type": "execute_result"
    }
   ],
   "source": [
    "df[\"DaysBetweenScheduledAndAppointment\"].value_counts(normalize=True).head()"
   ]
  },
  {
   "cell_type": "code",
   "execution_count": 20,
   "metadata": {},
   "outputs": [
    {
     "data": {
      "text/plain": [
       "0_TO_15_DAYS      0.762538\n",
       "16_TO_30_DAYS     0.143567\n",
       "31_TO_INF_DAYS    0.093896\n",
       "Name: DistanceBetweenScheduledAndAppointmentBinGroup, dtype: float64"
      ]
     },
     "execution_count": 20,
     "metadata": {},
     "output_type": "execute_result"
    }
   ],
   "source": [
    "df[\"DistanceBetweenScheduledAndAppointmentBinGroup\"].value_counts(normalize=True)"
   ]
  },
  {
   "cell_type": "code",
   "execution_count": 21,
   "metadata": {},
   "outputs": [
    {
     "data": {
      "text/plain": [
       "(10378, 20)"
      ]
     },
     "execution_count": 21,
     "metadata": {},
     "output_type": "execute_result"
    }
   ],
   "source": [
    "df[df[\"DaysBetweenScheduledAndAppointment\"]>30].shape"
   ]
  },
  {
   "cell_type": "code",
   "execution_count": 22,
   "metadata": {},
   "outputs": [
    {
     "data": {
      "text/plain": [
       "(110527, 20)"
      ]
     },
     "execution_count": 22,
     "metadata": {},
     "output_type": "execute_result"
    }
   ],
   "source": [
    "df.shape"
   ]
  },
  {
   "cell_type": "markdown",
   "metadata": {},
   "source": [
    "#### Discarding invalid samples"
   ]
  },
  {
   "cell_type": "markdown",
   "metadata": {},
   "source": [
    "- There are some records (5) where the **AppointmentDay** is before the **ScheduledDay**. Since this phenom is weird (not a clear explanation why this happens and the percentage of samples is extremely low), I've decided to drop all records with negative value of **DaysBetweenScheduledAndAppointment** assuming this is due to an error. \n",
    "\n",
    "- There is only one record where the **Age** is negative (impossible). This could indicate that the patients age is not known. Since this is extremely rare Ive decided to drop this records as well."
   ]
  },
  {
   "cell_type": "code",
   "execution_count": 23,
   "metadata": {},
   "outputs": [
    {
     "data": {
      "text/plain": [
       "(110521, 20)"
      ]
     },
     "execution_count": 23,
     "metadata": {},
     "output_type": "execute_result"
    }
   ],
   "source": [
    "# Filter out records where \"AppointmentDay\" comes before \"ScheduledDay\"\n",
    "# Filter out records with impossible age (negative values)\n",
    "df = df[(df[\"DaysBetweenScheduledAndAppointment\"]>=0) & (df[\"Age\"]>=0)]\n",
    "df.shape"
   ]
  },
  {
   "cell_type": "markdown",
   "metadata": {},
   "source": [
    "#### Drop columns\n",
    "- Each record correspond to a unique **AppointmentID**. Since it does not provide any relevant information for our analysis I've decided to discard the entire column. "
   ]
  },
  {
   "cell_type": "code",
   "execution_count": 24,
   "metadata": {},
   "outputs": [],
   "source": [
    "assert(df[\"AppointmentID\"].nunique()==len(df))"
   ]
  },
  {
   "cell_type": "code",
   "execution_count": 25,
   "metadata": {},
   "outputs": [],
   "source": [
    "df.drop(columns=[\"AppointmentID\"], inplace=True)"
   ]
  },
  {
   "cell_type": "code",
   "execution_count": 26,
   "metadata": {
    "scrolled": true
   },
   "outputs": [
    {
     "data": {
      "text/html": [
       "<div>\n",
       "<style scoped>\n",
       "    .dataframe tbody tr th:only-of-type {\n",
       "        vertical-align: middle;\n",
       "    }\n",
       "\n",
       "    .dataframe tbody tr th {\n",
       "        vertical-align: top;\n",
       "    }\n",
       "\n",
       "    .dataframe thead th {\n",
       "        text-align: right;\n",
       "    }\n",
       "</style>\n",
       "<table border=\"1\" class=\"dataframe\">\n",
       "  <thead>\n",
       "    <tr style=\"text-align: right;\">\n",
       "      <th></th>\n",
       "      <th>PatientId</th>\n",
       "      <th>Gender</th>\n",
       "      <th>ScheduledDay</th>\n",
       "      <th>AppointmentDay</th>\n",
       "      <th>Age</th>\n",
       "      <th>Neighbourhood</th>\n",
       "      <th>Scholarship</th>\n",
       "      <th>Hipertension</th>\n",
       "      <th>Diabetes</th>\n",
       "      <th>Alcoholism</th>\n",
       "      <th>Handcap</th>\n",
       "      <th>SMS_received</th>\n",
       "      <th>No-show</th>\n",
       "      <th>AppointmentYear</th>\n",
       "      <th>AppointmentMonth</th>\n",
       "      <th>PatientLifeStage</th>\n",
       "      <th>IsUnderAge</th>\n",
       "      <th>DaysBetweenScheduledAndAppointment</th>\n",
       "      <th>DistanceBetweenScheduledAndAppointmentBinGroup</th>\n",
       "    </tr>\n",
       "  </thead>\n",
       "  <tbody>\n",
       "    <tr>\n",
       "      <th>0</th>\n",
       "      <td>29872499824296</td>\n",
       "      <td>F</td>\n",
       "      <td>2016-04-29 18:38:08+00:00</td>\n",
       "      <td>2016-04-29 00:00:00+00:00</td>\n",
       "      <td>62</td>\n",
       "      <td>JARDIM DA PENHA</td>\n",
       "      <td>0</td>\n",
       "      <td>1</td>\n",
       "      <td>0</td>\n",
       "      <td>0</td>\n",
       "      <td>0</td>\n",
       "      <td>0</td>\n",
       "      <td>0</td>\n",
       "      <td>2016</td>\n",
       "      <td>4</td>\n",
       "      <td>SENIOR_ADULT</td>\n",
       "      <td>0</td>\n",
       "      <td>0</td>\n",
       "      <td>0_TO_15_DAYS</td>\n",
       "    </tr>\n",
       "    <tr>\n",
       "      <th>2151</th>\n",
       "      <td>725775968562</td>\n",
       "      <td>M</td>\n",
       "      <td>2016-03-29 11:09:08+00:00</td>\n",
       "      <td>2016-04-29 00:00:00+00:00</td>\n",
       "      <td>33</td>\n",
       "      <td>MARIA ORTIZ</td>\n",
       "      <td>0</td>\n",
       "      <td>0</td>\n",
       "      <td>0</td>\n",
       "      <td>0</td>\n",
       "      <td>0</td>\n",
       "      <td>1</td>\n",
       "      <td>0</td>\n",
       "      <td>2016</td>\n",
       "      <td>4</td>\n",
       "      <td>ADULT</td>\n",
       "      <td>0</td>\n",
       "      <td>31</td>\n",
       "      <td>31_TO_INF_DAYS</td>\n",
       "    </tr>\n",
       "    <tr>\n",
       "      <th>2152</th>\n",
       "      <td>94755722517728</td>\n",
       "      <td>F</td>\n",
       "      <td>2016-03-29 11:08:52+00:00</td>\n",
       "      <td>2016-04-29 00:00:00+00:00</td>\n",
       "      <td>50</td>\n",
       "      <td>MARIA ORTIZ</td>\n",
       "      <td>0</td>\n",
       "      <td>0</td>\n",
       "      <td>0</td>\n",
       "      <td>0</td>\n",
       "      <td>0</td>\n",
       "      <td>0</td>\n",
       "      <td>0</td>\n",
       "      <td>2016</td>\n",
       "      <td>4</td>\n",
       "      <td>MIDDLE_ADULT</td>\n",
       "      <td>0</td>\n",
       "      <td>31</td>\n",
       "      <td>31_TO_INF_DAYS</td>\n",
       "    </tr>\n",
       "    <tr>\n",
       "      <th>2153</th>\n",
       "      <td>35387553979251</td>\n",
       "      <td>F</td>\n",
       "      <td>2016-03-29 17:04:40+00:00</td>\n",
       "      <td>2016-04-29 00:00:00+00:00</td>\n",
       "      <td>69</td>\n",
       "      <td>MARIA ORTIZ</td>\n",
       "      <td>0</td>\n",
       "      <td>0</td>\n",
       "      <td>0</td>\n",
       "      <td>0</td>\n",
       "      <td>0</td>\n",
       "      <td>1</td>\n",
       "      <td>0</td>\n",
       "      <td>2016</td>\n",
       "      <td>4</td>\n",
       "      <td>SENIOR_ADULT</td>\n",
       "      <td>0</td>\n",
       "      <td>31</td>\n",
       "      <td>31_TO_INF_DAYS</td>\n",
       "    </tr>\n",
       "    <tr>\n",
       "      <th>2154</th>\n",
       "      <td>732498986588399</td>\n",
       "      <td>F</td>\n",
       "      <td>2016-04-29 17:21:24+00:00</td>\n",
       "      <td>2016-04-29 00:00:00+00:00</td>\n",
       "      <td>65</td>\n",
       "      <td>MARIA ORTIZ</td>\n",
       "      <td>0</td>\n",
       "      <td>0</td>\n",
       "      <td>0</td>\n",
       "      <td>0</td>\n",
       "      <td>0</td>\n",
       "      <td>0</td>\n",
       "      <td>0</td>\n",
       "      <td>2016</td>\n",
       "      <td>4</td>\n",
       "      <td>SENIOR_ADULT</td>\n",
       "      <td>0</td>\n",
       "      <td>0</td>\n",
       "      <td>0_TO_15_DAYS</td>\n",
       "    </tr>\n",
       "  </tbody>\n",
       "</table>\n",
       "</div>"
      ],
      "text/plain": [
       "            PatientId Gender              ScheduledDay  \\\n",
       "0      29872499824296      F 2016-04-29 18:38:08+00:00   \n",
       "2151     725775968562      M 2016-03-29 11:09:08+00:00   \n",
       "2152   94755722517728      F 2016-03-29 11:08:52+00:00   \n",
       "2153   35387553979251      F 2016-03-29 17:04:40+00:00   \n",
       "2154  732498986588399      F 2016-04-29 17:21:24+00:00   \n",
       "\n",
       "                AppointmentDay  Age    Neighbourhood  Scholarship  \\\n",
       "0    2016-04-29 00:00:00+00:00   62  JARDIM DA PENHA            0   \n",
       "2151 2016-04-29 00:00:00+00:00   33      MARIA ORTIZ            0   \n",
       "2152 2016-04-29 00:00:00+00:00   50      MARIA ORTIZ            0   \n",
       "2153 2016-04-29 00:00:00+00:00   69      MARIA ORTIZ            0   \n",
       "2154 2016-04-29 00:00:00+00:00   65      MARIA ORTIZ            0   \n",
       "\n",
       "      Hipertension  Diabetes  Alcoholism  Handcap  SMS_received  No-show  \\\n",
       "0                1         0           0        0             0        0   \n",
       "2151             0         0           0        0             1        0   \n",
       "2152             0         0           0        0             0        0   \n",
       "2153             0         0           0        0             1        0   \n",
       "2154             0         0           0        0             0        0   \n",
       "\n",
       "      AppointmentYear  AppointmentMonth PatientLifeStage  IsUnderAge  \\\n",
       "0                2016                 4     SENIOR_ADULT           0   \n",
       "2151             2016                 4            ADULT           0   \n",
       "2152             2016                 4     MIDDLE_ADULT           0   \n",
       "2153             2016                 4     SENIOR_ADULT           0   \n",
       "2154             2016                 4     SENIOR_ADULT           0   \n",
       "\n",
       "      DaysBetweenScheduledAndAppointment  \\\n",
       "0                                      0   \n",
       "2151                                  31   \n",
       "2152                                  31   \n",
       "2153                                  31   \n",
       "2154                                   0   \n",
       "\n",
       "     DistanceBetweenScheduledAndAppointmentBinGroup  \n",
       "0                                      0_TO_15_DAYS  \n",
       "2151                                 31_TO_INF_DAYS  \n",
       "2152                                 31_TO_INF_DAYS  \n",
       "2153                                 31_TO_INF_DAYS  \n",
       "2154                                   0_TO_15_DAYS  "
      ]
     },
     "execution_count": 26,
     "metadata": {},
     "output_type": "execute_result"
    }
   ],
   "source": [
    "df.head()"
   ]
  },
  {
   "cell_type": "markdown",
   "metadata": {},
   "source": [
    "<a id='eda'></a>\n",
    "## Exploratory Data Analysis\n",
    "\n",
    "### From when is the oldest and latest medical appointment?\n",
    "- We only have samples corresponding to appointments during a short period in 2016. The most recent appointment corresponds to 2016-06-08 while the oldest appointment corresponds to 2016-04-29. There is a difference of 40 days between both samples."
   ]
  },
  {
   "cell_type": "code",
   "execution_count": 27,
   "metadata": {},
   "outputs": [
    {
     "data": {
      "text/plain": [
       "Timestamp('2016-06-08 00:00:00+0000', tz='UTC')"
      ]
     },
     "execution_count": 27,
     "metadata": {},
     "output_type": "execute_result"
    }
   ],
   "source": [
    "df[\"AppointmentDay\"].max()"
   ]
  },
  {
   "cell_type": "code",
   "execution_count": 28,
   "metadata": {},
   "outputs": [
    {
     "data": {
      "text/plain": [
       "Timestamp('2016-04-29 00:00:00+0000', tz='UTC')"
      ]
     },
     "execution_count": 28,
     "metadata": {},
     "output_type": "execute_result"
    }
   ],
   "source": [
    "df[\"AppointmentDay\"].min()"
   ]
  },
  {
   "cell_type": "code",
   "execution_count": 29,
   "metadata": {},
   "outputs": [
    {
     "name": "stdout",
     "output_type": "stream",
     "text": [
      "Days between oldest and most recent sample: 40 days\n"
     ]
    }
   ],
   "source": [
    "print(f\"Days between oldest and most recent sample: {(df['AppointmentDay'].max().date()-df['AppointmentDay'].min().date()).days} days\")"
   ]
  },
  {
   "cell_type": "markdown",
   "metadata": {},
   "source": [
    "### Do we have daily records?\n",
    "- We don't have daily records. As mentioned before there is a difference of 40 days between the latest and oldest appointment. However, we only have appointments for 27 different days. Therefore, there are 13 days for which there are no appointment records in our dataset. "
   ]
  },
  {
   "cell_type": "code",
   "execution_count": 30,
   "metadata": {},
   "outputs": [
    {
     "name": "stdout",
     "output_type": "stream",
     "text": [
      "Unique sample days: 27 different days\n"
     ]
    }
   ],
   "source": [
    "unique_days = set([timestamp.date() for timestamp in df['AppointmentDay']])\n",
    "print(f\"Unique sample days: {len(unique_days)} different days\")"
   ]
  },
  {
   "cell_type": "markdown",
   "metadata": {},
   "source": [
    "### What are the ranges of the different numerical variables?\n",
    "- Most of the variables correspond to binary flags (0's and 1's) or categories (case for **Handcap**). Variables **Age** and **DaysBetweenScheduledAndAppointment** correspond to discrete numerical values with a wider range.\n",
    "- In the case of the **Age** there are a couple of details that stand out:\n",
    "    - There are patients with ages ranging from 0 to 115 years\n",
    "    - Mean and median values are around 37 years old.\n",
    "    - 75% of the samples correspond to patients with less or equal age to 55 years.\n",
    "    \n",
    "- In the case of the **DaysBetweenScheduledAndAppointment** we observe that:\n",
    "    - There was at least one patient that scheduled the appointment 179 days before the appointment itself.\n",
    "    - On average, the patients in our sample showed up to the appointment 10 days after scheduling it.\n",
    "    - Mean and median deviate a little, which could indicate higher spread and existance of outliers. It could be worth to check this out in more detail when plotting the histograms."
   ]
  },
  {
   "cell_type": "code",
   "execution_count": 31,
   "metadata": {},
   "outputs": [
    {
     "data": {
      "text/html": [
       "<div>\n",
       "<style scoped>\n",
       "    .dataframe tbody tr th:only-of-type {\n",
       "        vertical-align: middle;\n",
       "    }\n",
       "\n",
       "    .dataframe tbody tr th {\n",
       "        vertical-align: top;\n",
       "    }\n",
       "\n",
       "    .dataframe thead th {\n",
       "        text-align: right;\n",
       "    }\n",
       "</style>\n",
       "<table border=\"1\" class=\"dataframe\">\n",
       "  <thead>\n",
       "    <tr style=\"text-align: right;\">\n",
       "      <th></th>\n",
       "      <th>Age</th>\n",
       "      <th>DaysBetweenScheduledAndAppointment</th>\n",
       "    </tr>\n",
       "  </thead>\n",
       "  <tbody>\n",
       "    <tr>\n",
       "      <th>count</th>\n",
       "      <td>110521.000000</td>\n",
       "      <td>110521.000000</td>\n",
       "    </tr>\n",
       "    <tr>\n",
       "      <th>mean</th>\n",
       "      <td>37.089386</td>\n",
       "      <td>10.184345</td>\n",
       "    </tr>\n",
       "    <tr>\n",
       "      <th>std</th>\n",
       "      <td>23.109885</td>\n",
       "      <td>15.255153</td>\n",
       "    </tr>\n",
       "    <tr>\n",
       "      <th>min</th>\n",
       "      <td>0.000000</td>\n",
       "      <td>0.000000</td>\n",
       "    </tr>\n",
       "    <tr>\n",
       "      <th>0%</th>\n",
       "      <td>0.000000</td>\n",
       "      <td>0.000000</td>\n",
       "    </tr>\n",
       "    <tr>\n",
       "      <th>25%</th>\n",
       "      <td>18.000000</td>\n",
       "      <td>0.000000</td>\n",
       "    </tr>\n",
       "    <tr>\n",
       "      <th>50%</th>\n",
       "      <td>37.000000</td>\n",
       "      <td>4.000000</td>\n",
       "    </tr>\n",
       "    <tr>\n",
       "      <th>75%</th>\n",
       "      <td>55.000000</td>\n",
       "      <td>15.000000</td>\n",
       "    </tr>\n",
       "    <tr>\n",
       "      <th>max</th>\n",
       "      <td>115.000000</td>\n",
       "      <td>179.000000</td>\n",
       "    </tr>\n",
       "  </tbody>\n",
       "</table>\n",
       "</div>"
      ],
      "text/plain": [
       "                 Age  DaysBetweenScheduledAndAppointment\n",
       "count  110521.000000                       110521.000000\n",
       "mean       37.089386                           10.184345\n",
       "std        23.109885                           15.255153\n",
       "min         0.000000                            0.000000\n",
       "0%          0.000000                            0.000000\n",
       "25%        18.000000                            0.000000\n",
       "50%        37.000000                            4.000000\n",
       "75%        55.000000                           15.000000\n",
       "max       115.000000                          179.000000"
      ]
     },
     "execution_count": 31,
     "metadata": {},
     "output_type": "execute_result"
    }
   ],
   "source": [
    "# Brief summary on general statistics for numerical variables\n",
    "columns_to_describe = [\"Age\", \"DaysBetweenScheduledAndAppointment\"]\n",
    "df[columns_to_describe].describe(percentiles = np.arange(0, 1, 0.25))"
   ]
  },
  {
   "cell_type": "markdown",
   "metadata": {},
   "source": [
    "### What is the distribution of each numerical variable?\n",
    "- Plotting the histogram for the numerical variables reveals certain interesting aspects (some of them already anticipated in the previous section):\n",
    "    - Most of the variables correspond to binary flag indicating that the patient has a disease (**Diabetes**, **Hipertension**) or addiction (**Alcoholism**). The distribution of positive and negative samples is unbalanced with higher proportion of negative (no affection).\n",
    "    - The **Handcap** variable provides a number between 0 and 4 indicating whether the patient has some degree of handicap or not. \n",
    "    - We only have samples of appointments that meant to take place in 2016 between April, May (most of the samples) and June.\n",
    "    - Most of the samples in our dataset correspond to adults (people above 18 years old)."
   ]
  },
  {
   "cell_type": "code",
   "execution_count": 32,
   "metadata": {},
   "outputs": [
    {
     "data": {
      "text/plain": [
       "0    108282\n",
       "1      2040\n",
       "2       183\n",
       "3        13\n",
       "4         3\n",
       "Name: Handcap, dtype: int64"
      ]
     },
     "execution_count": 32,
     "metadata": {},
     "output_type": "execute_result"
    }
   ],
   "source": [
    "df[\"Handcap\"].value_counts()"
   ]
  },
  {
   "cell_type": "code",
   "execution_count": 33,
   "metadata": {},
   "outputs": [
    {
     "data": {
      "image/png": "[encoded data removed]",
      "text/plain": [
       "<matplotlib.figure.Figure at 0x7f6fe1a661d0>"
      ]
     },
     "metadata": {
      "needs_background": "light"
     },
     "output_type": "display_data"
    }
   ],
   "source": [
    "columns_for_distribution = [\"Age\", \"Scholarship\", \"Hipertension\", \"Diabetes\", \"Alcoholism\", \"Handcap\", \"SMS_received\", \"AppointmentYear\", \"AppointmentMonth\", \"IsUnderAge\", \"DaysBetweenScheduledAndAppointment\"]\n",
    "df[columns_for_distribution].hist(bins=20, figsize=(20, 15))\n",
    "plt.show()"
   ]
  },
  {
   "cell_type": "markdown",
   "metadata": {},
   "source": [
    "### How is the correlation between variables? Are they correlated with the dependant variable?\n",
    "\n",
    "- Slight correltions between independent variables:\n",
    "    - **Diabetes** and **Hipertension** have a slight positive correlation which means that high values of one indicator happen when there are high values of the other **in this particular sample**. This does not mean that it will always happen (*causality*), since there are numerous factors that could be driving this behavior and the sample size and span is reduced.\n",
    "    - **Age** has also a positively correlated with **Hipertension** and **Diabetes**.\n",
    "    - There is also some positive correlation between **SMS_received** and **DaysBetweenScheduledAndAppointment**. Further analysis on the relationship between these two variables could lead us to a better understanding of the former variable: Is the SMS service automatic or does it have to be requested? Is it only meant for people with an appointment far away in time? \n",
    "    \n",
    "- Slight correlation between independant and dependant variables: \n",
    "    -  The only variables that show some linear dependency with the target variable **No-show** are the **SMS_received** and the **DaysBetweenScheduledAndAppointment**. Although it is not a strong relationship and correlation is not enough to write a conclusion. It could be interesting to study the effect of **DaysBetweenScheduledAndAppointment** and the appointment default rate."
   ]
  },
  {
   "cell_type": "code",
   "execution_count": 34,
   "metadata": {},
   "outputs": [
    {
     "data": {
      "text/html": [
       "<style  type=\"text/css\" >\n",
       "    #T_61a5d52e_0600_11ed_a5b9_0242ac120002row0_col0 {\n",
       "            background-color:  #b40426;\n",
       "            color:  #f1f1f1;\n",
       "        }    #T_61a5d52e_0600_11ed_a5b9_0242ac120002row0_col1 {\n",
       "            background-color:  #3b4cc0;\n",
       "            color:  #f1f1f1;\n",
       "        }    #T_61a5d52e_0600_11ed_a5b9_0242ac120002row0_col2 {\n",
       "            background-color:  #f3c7b1;\n",
       "            color:  #000000;\n",
       "        }    #T_61a5d52e_0600_11ed_a5b9_0242ac120002row0_col3 {\n",
       "            background-color:  #bcd2f7;\n",
       "            color:  #000000;\n",
       "        }    #T_61a5d52e_0600_11ed_a5b9_0242ac120002row0_col4 {\n",
       "            background-color:  #7396f5;\n",
       "            color:  #000000;\n",
       "        }    #T_61a5d52e_0600_11ed_a5b9_0242ac120002row0_col5 {\n",
       "            background-color:  #5e7de7;\n",
       "            color:  #000000;\n",
       "        }    #T_61a5d52e_0600_11ed_a5b9_0242ac120002row0_col6 {\n",
       "            background-color:  #485fd1;\n",
       "            color:  #f1f1f1;\n",
       "        }    #T_61a5d52e_0600_11ed_a5b9_0242ac120002row0_col7 {\n",
       "            background-color:  #3b4cc0;\n",
       "            color:  #f1f1f1;\n",
       "        }    #T_61a5d52e_0600_11ed_a5b9_0242ac120002row0_col8 {\n",
       "            background-color:  #506bda;\n",
       "            color:  #000000;\n",
       "        }    #T_61a5d52e_0600_11ed_a5b9_0242ac120002row0_col9 {\n",
       "            background-color:  #3b4cc0;\n",
       "            color:  #f1f1f1;\n",
       "        }    #T_61a5d52e_0600_11ed_a5b9_0242ac120002row1_col0 {\n",
       "            background-color:  #b7cff9;\n",
       "            color:  #000000;\n",
       "        }    #T_61a5d52e_0600_11ed_a5b9_0242ac120002row1_col1 {\n",
       "            background-color:  #b40426;\n",
       "            color:  #f1f1f1;\n",
       "        }    #T_61a5d52e_0600_11ed_a5b9_0242ac120002row1_col2 {\n",
       "            background-color:  #7da0f9;\n",
       "            color:  #000000;\n",
       "        }    #T_61a5d52e_0600_11ed_a5b9_0242ac120002row1_col3 {\n",
       "            background-color:  #5d7ce6;\n",
       "            color:  #000000;\n",
       "        }    #T_61a5d52e_0600_11ed_a5b9_0242ac120002row1_col4 {\n",
       "            background-color:  #6180e9;\n",
       "            color:  #000000;\n",
       "        }    #T_61a5d52e_0600_11ed_a5b9_0242ac120002row1_col5 {\n",
       "            background-color:  #445acc;\n",
       "            color:  #f1f1f1;\n",
       "        }    #T_61a5d52e_0600_11ed_a5b9_0242ac120002row1_col6 {\n",
       "            background-color:  #445acc;\n",
       "            color:  #f1f1f1;\n",
       "        }    #T_61a5d52e_0600_11ed_a5b9_0242ac120002row1_col7 {\n",
       "            background-color:  #ccd9ed;\n",
       "            color:  #000000;\n",
       "        }    #T_61a5d52e_0600_11ed_a5b9_0242ac120002row1_col8 {\n",
       "            background-color:  #3c4ec2;\n",
       "            color:  #f1f1f1;\n",
       "        }    #T_61a5d52e_0600_11ed_a5b9_0242ac120002row1_col9 {\n",
       "            background-color:  #5470de;\n",
       "            color:  #000000;\n",
       "        }    #T_61a5d52e_0600_11ed_a5b9_0242ac120002row2_col0 {\n",
       "            background-color:  #f7a688;\n",
       "            color:  #000000;\n",
       "        }    #T_61a5d52e_0600_11ed_a5b9_0242ac120002row2_col1 {\n",
       "            background-color:  #4f69d9;\n",
       "            color:  #000000;\n",
       "        }    #T_61a5d52e_0600_11ed_a5b9_0242ac120002row2_col2 {\n",
       "            background-color:  #b40426;\n",
       "            color:  #f1f1f1;\n",
       "        }    #T_61a5d52e_0600_11ed_a5b9_0242ac120002row2_col3 {\n",
       "            background-color:  #dfdbd9;\n",
       "            color:  #000000;\n",
       "        }    #T_61a5d52e_0600_11ed_a5b9_0242ac120002row2_col4 {\n",
       "            background-color:  #7093f3;\n",
       "            color:  #000000;\n",
       "        }    #T_61a5d52e_0600_11ed_a5b9_0242ac120002row2_col5 {\n",
       "            background-color:  #5e7de7;\n",
       "            color:  #000000;\n",
       "        }    #T_61a5d52e_0600_11ed_a5b9_0242ac120002row2_col6 {\n",
       "            background-color:  #4257c9;\n",
       "            color:  #f1f1f1;\n",
       "        }    #T_61a5d52e_0600_11ed_a5b9_0242ac120002row2_col7 {\n",
       "            background-color:  #92b4fe;\n",
       "            color:  #000000;\n",
       "        }    #T_61a5d52e_0600_11ed_a5b9_0242ac120002row2_col8 {\n",
       "            background-color:  #4055c8;\n",
       "            color:  #f1f1f1;\n",
       "        }    #T_61a5d52e_0600_11ed_a5b9_0242ac120002row2_col9 {\n",
       "            background-color:  #4055c8;\n",
       "            color:  #f1f1f1;\n",
       "        }    #T_61a5d52e_0600_11ed_a5b9_0242ac120002row3_col0 {\n",
       "            background-color:  #f1cdba;\n",
       "            color:  #000000;\n",
       "        }    #T_61a5d52e_0600_11ed_a5b9_0242ac120002row3_col1 {\n",
       "            background-color:  #4c66d6;\n",
       "            color:  #000000;\n",
       "        }    #T_61a5d52e_0600_11ed_a5b9_0242ac120002row3_col2 {\n",
       "            background-color:  #ead4c8;\n",
       "            color:  #000000;\n",
       "        }    #T_61a5d52e_0600_11ed_a5b9_0242ac120002row3_col3 {\n",
       "            background-color:  #b40426;\n",
       "            color:  #f1f1f1;\n",
       "        }    #T_61a5d52e_0600_11ed_a5b9_0242ac120002row3_col4 {\n",
       "            background-color:  #5b7ae5;\n",
       "            color:  #000000;\n",
       "        }    #T_61a5d52e_0600_11ed_a5b9_0242ac120002row3_col5 {\n",
       "            background-color:  #5875e1;\n",
       "            color:  #000000;\n",
       "        }    #T_61a5d52e_0600_11ed_a5b9_0242ac120002row3_col6 {\n",
       "            background-color:  #3f53c6;\n",
       "            color:  #f1f1f1;\n",
       "        }    #T_61a5d52e_0600_11ed_a5b9_0242ac120002row3_col7 {\n",
       "            background-color:  #aac7fd;\n",
       "            color:  #000000;\n",
       "        }    #T_61a5d52e_0600_11ed_a5b9_0242ac120002row3_col8 {\n",
       "            background-color:  #3d50c3;\n",
       "            color:  #f1f1f1;\n",
       "        }    #T_61a5d52e_0600_11ed_a5b9_0242ac120002row3_col9 {\n",
       "            background-color:  #465ecf;\n",
       "            color:  #f1f1f1;\n",
       "        }    #T_61a5d52e_0600_11ed_a5b9_0242ac120002row4_col0 {\n",
       "            background-color:  #d7dce3;\n",
       "            color:  #000000;\n",
       "        }    #T_61a5d52e_0600_11ed_a5b9_0242ac120002row4_col1 {\n",
       "            background-color:  #5e7de7;\n",
       "            color:  #000000;\n",
       "        }    #T_61a5d52e_0600_11ed_a5b9_0242ac120002row4_col2 {\n",
       "            background-color:  #9abbff;\n",
       "            color:  #000000;\n",
       "        }    #T_61a5d52e_0600_11ed_a5b9_0242ac120002row4_col3 {\n",
       "            background-color:  #6a8bef;\n",
       "            color:  #000000;\n",
       "        }    #T_61a5d52e_0600_11ed_a5b9_0242ac120002row4_col4 {\n",
       "            background-color:  #b40426;\n",
       "            color:  #f1f1f1;\n",
       "        }    #T_61a5d52e_0600_11ed_a5b9_0242ac120002row4_col5 {\n",
       "            background-color:  #485fd1;\n",
       "            color:  #f1f1f1;\n",
       "        }    #T_61a5d52e_0600_11ed_a5b9_0242ac120002row4_col6 {\n",
       "            background-color:  #3d50c3;\n",
       "            color:  #f1f1f1;\n",
       "        }    #T_61a5d52e_0600_11ed_a5b9_0242ac120002row4_col7 {\n",
       "            background-color:  #b6cefa;\n",
       "            color:  #000000;\n",
       "        }    #T_61a5d52e_0600_11ed_a5b9_0242ac120002row4_col8 {\n",
       "            background-color:  #3b4cc0;\n",
       "            color:  #f1f1f1;\n",
       "        }    #T_61a5d52e_0600_11ed_a5b9_0242ac120002row4_col9 {\n",
       "            background-color:  #4b64d5;\n",
       "            color:  #f1f1f1;\n",
       "        }    #T_61a5d52e_0600_11ed_a5b9_0242ac120002row5_col0 {\n",
       "            background-color:  #d5dbe5;\n",
       "            color:  #000000;\n",
       "        }    #T_61a5d52e_0600_11ed_a5b9_0242ac120002row5_col1 {\n",
       "            background-color:  #516ddb;\n",
       "            color:  #000000;\n",
       "        }    #T_61a5d52e_0600_11ed_a5b9_0242ac120002row5_col2 {\n",
       "            background-color:  #98b9ff;\n",
       "            color:  #000000;\n",
       "        }    #T_61a5d52e_0600_11ed_a5b9_0242ac120002row5_col3 {\n",
       "            background-color:  #7699f6;\n",
       "            color:  #000000;\n",
       "        }    #T_61a5d52e_0600_11ed_a5b9_0242ac120002row5_col4 {\n",
       "            background-color:  #5875e1;\n",
       "            color:  #000000;\n",
       "        }    #T_61a5d52e_0600_11ed_a5b9_0242ac120002row5_col5 {\n",
       "            background-color:  #b40426;\n",
       "            color:  #f1f1f1;\n",
       "        }    #T_61a5d52e_0600_11ed_a5b9_0242ac120002row5_col6 {\n",
       "            background-color:  #3d50c3;\n",
       "            color:  #f1f1f1;\n",
       "        }    #T_61a5d52e_0600_11ed_a5b9_0242ac120002row5_col7 {\n",
       "            background-color:  #c0d4f5;\n",
       "            color:  #000000;\n",
       "        }    #T_61a5d52e_0600_11ed_a5b9_0242ac120002row5_col8 {\n",
       "            background-color:  #3f53c6;\n",
       "            color:  #f1f1f1;\n",
       "        }    #T_61a5d52e_0600_11ed_a5b9_0242ac120002row5_col9 {\n",
       "            background-color:  #4a63d3;\n",
       "            color:  #f1f1f1;\n",
       "        }    #T_61a5d52e_0600_11ed_a5b9_0242ac120002row6_col0 {\n",
       "            background-color:  #cad8ef;\n",
       "            color:  #000000;\n",
       "        }    #T_61a5d52e_0600_11ed_a5b9_0242ac120002row6_col1 {\n",
       "            background-color:  #5470de;\n",
       "            color:  #000000;\n",
       "        }    #T_61a5d52e_0600_11ed_a5b9_0242ac120002row6_col2 {\n",
       "            background-color:  #81a4fb;\n",
       "            color:  #000000;\n",
       "        }    #T_61a5d52e_0600_11ed_a5b9_0242ac120002row6_col3 {\n",
       "            background-color:  #6180e9;\n",
       "            color:  #000000;\n",
       "        }    #T_61a5d52e_0600_11ed_a5b9_0242ac120002row6_col4 {\n",
       "            background-color:  #4e68d8;\n",
       "            color:  #000000;\n",
       "        }    #T_61a5d52e_0600_11ed_a5b9_0242ac120002row6_col5 {\n",
       "            background-color:  #3f53c6;\n",
       "            color:  #f1f1f1;\n",
       "        }    #T_61a5d52e_0600_11ed_a5b9_0242ac120002row6_col6 {\n",
       "            background-color:  #b40426;\n",
       "            color:  #f1f1f1;\n",
       "        }    #T_61a5d52e_0600_11ed_a5b9_0242ac120002row6_col7 {\n",
       "            background-color:  #c1d4f4;\n",
       "            color:  #000000;\n",
       "        }    #T_61a5d52e_0600_11ed_a5b9_0242ac120002row6_col8 {\n",
       "            background-color:  #c6d6f1;\n",
       "            color:  #000000;\n",
       "        }    #T_61a5d52e_0600_11ed_a5b9_0242ac120002row6_col9 {\n",
       "            background-color:  #7396f5;\n",
       "            color:  #000000;\n",
       "        }    #T_61a5d52e_0600_11ed_a5b9_0242ac120002row7_col0 {\n",
       "            background-color:  #3b4cc0;\n",
       "            color:  #f1f1f1;\n",
       "        }    #T_61a5d52e_0600_11ed_a5b9_0242ac120002row7_col1 {\n",
       "            background-color:  #5b7ae5;\n",
       "            color:  #000000;\n",
       "        }    #T_61a5d52e_0600_11ed_a5b9_0242ac120002row7_col2 {\n",
       "            background-color:  #3b4cc0;\n",
       "            color:  #f1f1f1;\n",
       "        }    #T_61a5d52e_0600_11ed_a5b9_0242ac120002row7_col3 {\n",
       "            background-color:  #3b4cc0;\n",
       "            color:  #f1f1f1;\n",
       "        }    #T_61a5d52e_0600_11ed_a5b9_0242ac120002row7_col4 {\n",
       "            background-color:  #3b4cc0;\n",
       "            color:  #f1f1f1;\n",
       "        }    #T_61a5d52e_0600_11ed_a5b9_0242ac120002row7_col5 {\n",
       "            background-color:  #3b4cc0;\n",
       "            color:  #f1f1f1;\n",
       "        }    #T_61a5d52e_0600_11ed_a5b9_0242ac120002row7_col6 {\n",
       "            background-color:  #3b4cc0;\n",
       "            color:  #f1f1f1;\n",
       "        }    #T_61a5d52e_0600_11ed_a5b9_0242ac120002row7_col7 {\n",
       "            background-color:  #b40426;\n",
       "            color:  #f1f1f1;\n",
       "        }    #T_61a5d52e_0600_11ed_a5b9_0242ac120002row7_col8 {\n",
       "            background-color:  #3f53c6;\n",
       "            color:  #f1f1f1;\n",
       "        }    #T_61a5d52e_0600_11ed_a5b9_0242ac120002row7_col9 {\n",
       "            background-color:  #536edd;\n",
       "            color:  #000000;\n",
       "        }    #T_61a5d52e_0600_11ed_a5b9_0242ac120002row8_col0 {\n",
       "            background-color:  #cdd9ec;\n",
       "            color:  #000000;\n",
       "        }    #T_61a5d52e_0600_11ed_a5b9_0242ac120002row8_col1 {\n",
       "            background-color:  #4b64d5;\n",
       "            color:  #f1f1f1;\n",
       "        }    #T_61a5d52e_0600_11ed_a5b9_0242ac120002row8_col2 {\n",
       "            background-color:  #7da0f9;\n",
       "            color:  #000000;\n",
       "        }    #T_61a5d52e_0600_11ed_a5b9_0242ac120002row8_col3 {\n",
       "            background-color:  #5d7ce6;\n",
       "            color:  #000000;\n",
       "        }    #T_61a5d52e_0600_11ed_a5b9_0242ac120002row8_col4 {\n",
       "            background-color:  #4b64d5;\n",
       "            color:  #f1f1f1;\n",
       "        }    #T_61a5d52e_0600_11ed_a5b9_0242ac120002row8_col5 {\n",
       "            background-color:  #4055c8;\n",
       "            color:  #f1f1f1;\n",
       "        }    #T_61a5d52e_0600_11ed_a5b9_0242ac120002row8_col6 {\n",
       "            background-color:  #c6d6f1;\n",
       "            color:  #000000;\n",
       "        }    #T_61a5d52e_0600_11ed_a5b9_0242ac120002row8_col7 {\n",
       "            background-color:  #c4d5f3;\n",
       "            color:  #000000;\n",
       "        }    #T_61a5d52e_0600_11ed_a5b9_0242ac120002row8_col8 {\n",
       "            background-color:  #b40426;\n",
       "            color:  #f1f1f1;\n",
       "        }    #T_61a5d52e_0600_11ed_a5b9_0242ac120002row8_col9 {\n",
       "            background-color:  #86a9fc;\n",
       "            color:  #000000;\n",
       "        }    #T_61a5d52e_0600_11ed_a5b9_0242ac120002row9_col0 {\n",
       "            background-color:  #bcd2f7;\n",
       "            color:  #000000;\n",
       "        }    #T_61a5d52e_0600_11ed_a5b9_0242ac120002row9_col1 {\n",
       "            background-color:  #5d7ce6;\n",
       "            color:  #000000;\n",
       "        }    #T_61a5d52e_0600_11ed_a5b9_0242ac120002row9_col2 {\n",
       "            background-color:  #799cf8;\n",
       "            color:  #000000;\n",
       "        }    #T_61a5d52e_0600_11ed_a5b9_0242ac120002row9_col3 {\n",
       "            background-color:  #6180e9;\n",
       "            color:  #000000;\n",
       "        }    #T_61a5d52e_0600_11ed_a5b9_0242ac120002row9_col4 {\n",
       "            background-color:  #5572df;\n",
       "            color:  #000000;\n",
       "        }    #T_61a5d52e_0600_11ed_a5b9_0242ac120002row9_col5 {\n",
       "            background-color:  #445acc;\n",
       "            color:  #f1f1f1;\n",
       "        }    #T_61a5d52e_0600_11ed_a5b9_0242ac120002row9_col6 {\n",
       "            background-color:  #6b8df0;\n",
       "            color:  #000000;\n",
       "        }    #T_61a5d52e_0600_11ed_a5b9_0242ac120002row9_col7 {\n",
       "            background-color:  #ccd9ed;\n",
       "            color:  #000000;\n",
       "        }    #T_61a5d52e_0600_11ed_a5b9_0242ac120002row9_col8 {\n",
       "            background-color:  #81a4fb;\n",
       "            color:  #000000;\n",
       "        }    #T_61a5d52e_0600_11ed_a5b9_0242ac120002row9_col9 {\n",
       "            background-color:  #b40426;\n",
       "            color:  #f1f1f1;\n",
       "        }</style><table id=\"T_61a5d52e_0600_11ed_a5b9_0242ac120002\" ><thead>    <tr>        <th class=\"blank level0\" ></th>        <th class=\"col_heading level0 col0\" >Age</th>        <th class=\"col_heading level0 col1\" >Scholarship</th>        <th class=\"col_heading level0 col2\" >Hipertension</th>        <th class=\"col_heading level0 col3\" >Diabetes</th>        <th class=\"col_heading level0 col4\" >Alcoholism</th>        <th class=\"col_heading level0 col5\" >Handcap</th>        <th class=\"col_heading level0 col6\" >SMS_received</th>        <th class=\"col_heading level0 col7\" >IsUnderAge</th>        <th class=\"col_heading level0 col8\" >DaysBetweenScheduledAndAppointment</th>        <th class=\"col_heading level0 col9\" >No-show</th>    </tr></thead><tbody>\n",
       "                <tr>\n",
       "                        <th id=\"T_61a5d52e_0600_11ed_a5b9_0242ac120002level0_row0\" class=\"row_heading level0 row0\" >Age</th>\n",
       "                        <td id=\"T_61a5d52e_0600_11ed_a5b9_0242ac120002row0_col0\" class=\"data row0 col0\" >1</td>\n",
       "                        <td id=\"T_61a5d52e_0600_11ed_a5b9_0242ac120002row0_col1\" class=\"data row0 col1\" >-0.092</td>\n",
       "                        <td id=\"T_61a5d52e_0600_11ed_a5b9_0242ac120002row0_col2\" class=\"data row0 col2\" >0.5</td>\n",
       "                        <td id=\"T_61a5d52e_0600_11ed_a5b9_0242ac120002row0_col3\" class=\"data row0 col3\" >0.29</td>\n",
       "                        <td id=\"T_61a5d52e_0600_11ed_a5b9_0242ac120002row0_col4\" class=\"data row0 col4\" >0.096</td>\n",
       "                        <td id=\"T_61a5d52e_0600_11ed_a5b9_0242ac120002row0_col5\" class=\"data row0 col5\" >0.078</td>\n",
       "                        <td id=\"T_61a5d52e_0600_11ed_a5b9_0242ac120002row0_col6\" class=\"data row0 col6\" >0.013</td>\n",
       "                        <td id=\"T_61a5d52e_0600_11ed_a5b9_0242ac120002row0_col7\" class=\"data row0 col7\" >-0.74</td>\n",
       "                        <td id=\"T_61a5d52e_0600_11ed_a5b9_0242ac120002row0_col8\" class=\"data row0 col8\" >0.035</td>\n",
       "                        <td id=\"T_61a5d52e_0600_11ed_a5b9_0242ac120002row0_col9\" class=\"data row0 col9\" >-0.06</td>\n",
       "            </tr>\n",
       "            <tr>\n",
       "                        <th id=\"T_61a5d52e_0600_11ed_a5b9_0242ac120002level0_row1\" class=\"row_heading level0 row1\" >Scholarship</th>\n",
       "                        <td id=\"T_61a5d52e_0600_11ed_a5b9_0242ac120002row1_col0\" class=\"data row1 col0\" >-0.092</td>\n",
       "                        <td id=\"T_61a5d52e_0600_11ed_a5b9_0242ac120002row1_col1\" class=\"data row1 col1\" >1</td>\n",
       "                        <td id=\"T_61a5d52e_0600_11ed_a5b9_0242ac120002row1_col2\" class=\"data row1 col2\" >-0.02</td>\n",
       "                        <td id=\"T_61a5d52e_0600_11ed_a5b9_0242ac120002row1_col3\" class=\"data row1 col3\" >-0.025</td>\n",
       "                        <td id=\"T_61a5d52e_0600_11ed_a5b9_0242ac120002row1_col4\" class=\"data row1 col4\" >0.035</td>\n",
       "                        <td id=\"T_61a5d52e_0600_11ed_a5b9_0242ac120002row1_col5\" class=\"data row1 col5\" >-0.0086</td>\n",
       "                        <td id=\"T_61a5d52e_0600_11ed_a5b9_0242ac120002row1_col6\" class=\"data row1 col6\" >0.0012</td>\n",
       "                        <td id=\"T_61a5d52e_0600_11ed_a5b9_0242ac120002row1_col7\" class=\"data row1 col7\" >0.026</td>\n",
       "                        <td id=\"T_61a5d52e_0600_11ed_a5b9_0242ac120002row1_col8\" class=\"data row1 col8\" >-0.03</td>\n",
       "                        <td id=\"T_61a5d52e_0600_11ed_a5b9_0242ac120002row1_col9\" class=\"data row1 col9\" >0.029</td>\n",
       "            </tr>\n",
       "            <tr>\n",
       "                        <th id=\"T_61a5d52e_0600_11ed_a5b9_0242ac120002level0_row2\" class=\"row_heading level0 row2\" >Hipertension</th>\n",
       "                        <td id=\"T_61a5d52e_0600_11ed_a5b9_0242ac120002row2_col0\" class=\"data row2 col0\" >0.5</td>\n",
       "                        <td id=\"T_61a5d52e_0600_11ed_a5b9_0242ac120002row2_col1\" class=\"data row2 col1\" >-0.02</td>\n",
       "                        <td id=\"T_61a5d52e_0600_11ed_a5b9_0242ac120002row2_col2\" class=\"data row2 col2\" >1</td>\n",
       "                        <td id=\"T_61a5d52e_0600_11ed_a5b9_0242ac120002row2_col3\" class=\"data row2 col3\" >0.43</td>\n",
       "                        <td id=\"T_61a5d52e_0600_11ed_a5b9_0242ac120002row2_col4\" class=\"data row2 col4\" >0.088</td>\n",
       "                        <td id=\"T_61a5d52e_0600_11ed_a5b9_0242ac120002row2_col5\" class=\"data row2 col5\" >0.08</td>\n",
       "                        <td id=\"T_61a5d52e_0600_11ed_a5b9_0242ac120002row2_col6\" class=\"data row2 col6\" >-0.0063</td>\n",
       "                        <td id=\"T_61a5d52e_0600_11ed_a5b9_0242ac120002row2_col7\" class=\"data row2 col7\" >-0.28</td>\n",
       "                        <td id=\"T_61a5d52e_0600_11ed_a5b9_0242ac120002row2_col8\" class=\"data row2 col8\" >-0.017</td>\n",
       "                        <td id=\"T_61a5d52e_0600_11ed_a5b9_0242ac120002row2_col9\" class=\"data row2 col9\" >-0.036</td>\n",
       "            </tr>\n",
       "            <tr>\n",
       "                        <th id=\"T_61a5d52e_0600_11ed_a5b9_0242ac120002level0_row3\" class=\"row_heading level0 row3\" >Diabetes</th>\n",
       "                        <td id=\"T_61a5d52e_0600_11ed_a5b9_0242ac120002row3_col0\" class=\"data row3 col0\" >0.29</td>\n",
       "                        <td id=\"T_61a5d52e_0600_11ed_a5b9_0242ac120002row3_col1\" class=\"data row3 col1\" >-0.025</td>\n",
       "                        <td id=\"T_61a5d52e_0600_11ed_a5b9_0242ac120002row3_col2\" class=\"data row3 col2\" >0.43</td>\n",
       "                        <td id=\"T_61a5d52e_0600_11ed_a5b9_0242ac120002row3_col3\" class=\"data row3 col3\" >1</td>\n",
       "                        <td id=\"T_61a5d52e_0600_11ed_a5b9_0242ac120002row3_col4\" class=\"data row3 col4\" >0.018</td>\n",
       "                        <td id=\"T_61a5d52e_0600_11ed_a5b9_0242ac120002row3_col5\" class=\"data row3 col5\" >0.058</td>\n",
       "                        <td id=\"T_61a5d52e_0600_11ed_a5b9_0242ac120002row3_col6\" class=\"data row3 col6\" >-0.015</td>\n",
       "                        <td id=\"T_61a5d52e_0600_11ed_a5b9_0242ac120002row3_col7\" class=\"data row3 col7\" >-0.16</td>\n",
       "                        <td id=\"T_61a5d52e_0600_11ed_a5b9_0242ac120002row3_col8\" class=\"data row3 col8\" >-0.027</td>\n",
       "                        <td id=\"T_61a5d52e_0600_11ed_a5b9_0242ac120002row3_col9\" class=\"data row3 col9\" >-0.015</td>\n",
       "            </tr>\n",
       "            <tr>\n",
       "                        <th id=\"T_61a5d52e_0600_11ed_a5b9_0242ac120002level0_row4\" class=\"row_heading level0 row4\" >Alcoholism</th>\n",
       "                        <td id=\"T_61a5d52e_0600_11ed_a5b9_0242ac120002row4_col0\" class=\"data row4 col0\" >0.096</td>\n",
       "                        <td id=\"T_61a5d52e_0600_11ed_a5b9_0242ac120002row4_col1\" class=\"data row4 col1\" >0.035</td>\n",
       "                        <td id=\"T_61a5d52e_0600_11ed_a5b9_0242ac120002row4_col2\" class=\"data row4 col2\" >0.088</td>\n",
       "                        <td id=\"T_61a5d52e_0600_11ed_a5b9_0242ac120002row4_col3\" class=\"data row4 col3\" >0.018</td>\n",
       "                        <td id=\"T_61a5d52e_0600_11ed_a5b9_0242ac120002row4_col4\" class=\"data row4 col4\" >1</td>\n",
       "                        <td id=\"T_61a5d52e_0600_11ed_a5b9_0242ac120002row4_col5\" class=\"data row4 col5\" >0.0047</td>\n",
       "                        <td id=\"T_61a5d52e_0600_11ed_a5b9_0242ac120002row4_col6\" class=\"data row4 col6\" >-0.026</td>\n",
       "                        <td id=\"T_61a5d52e_0600_11ed_a5b9_0242ac120002row4_col7\" class=\"data row4 col7\" >-0.099</td>\n",
       "                        <td id=\"T_61a5d52e_0600_11ed_a5b9_0242ac120002row4_col8\" class=\"data row4 col8\" >-0.039</td>\n",
       "                        <td id=\"T_61a5d52e_0600_11ed_a5b9_0242ac120002row4_col9\" class=\"data row4 col9\" >-0.00018</td>\n",
       "            </tr>\n",
       "            <tr>\n",
       "                        <th id=\"T_61a5d52e_0600_11ed_a5b9_0242ac120002level0_row5\" class=\"row_heading level0 row5\" >Handcap</th>\n",
       "                        <td id=\"T_61a5d52e_0600_11ed_a5b9_0242ac120002row5_col0\" class=\"data row5 col0\" >0.078</td>\n",
       "                        <td id=\"T_61a5d52e_0600_11ed_a5b9_0242ac120002row5_col1\" class=\"data row5 col1\" >-0.0086</td>\n",
       "                        <td id=\"T_61a5d52e_0600_11ed_a5b9_0242ac120002row5_col2\" class=\"data row5 col2\" >0.08</td>\n",
       "                        <td id=\"T_61a5d52e_0600_11ed_a5b9_0242ac120002row5_col3\" class=\"data row5 col3\" >0.058</td>\n",
       "                        <td id=\"T_61a5d52e_0600_11ed_a5b9_0242ac120002row5_col4\" class=\"data row5 col4\" >0.0047</td>\n",
       "                        <td id=\"T_61a5d52e_0600_11ed_a5b9_0242ac120002row5_col5\" class=\"data row5 col5\" >1</td>\n",
       "                        <td id=\"T_61a5d52e_0600_11ed_a5b9_0242ac120002row5_col6\" class=\"data row5 col6\" >-0.024</td>\n",
       "                        <td id=\"T_61a5d52e_0600_11ed_a5b9_0242ac120002row5_col7\" class=\"data row5 col7\" >-0.042</td>\n",
       "                        <td id=\"T_61a5d52e_0600_11ed_a5b9_0242ac120002row5_col8\" class=\"data row5 col8\" >-0.02</td>\n",
       "                        <td id=\"T_61a5d52e_0600_11ed_a5b9_0242ac120002row5_col9\" class=\"data row5 col9\" >-0.0063</td>\n",
       "            </tr>\n",
       "            <tr>\n",
       "                        <th id=\"T_61a5d52e_0600_11ed_a5b9_0242ac120002level0_row6\" class=\"row_heading level0 row6\" >SMS_received</th>\n",
       "                        <td id=\"T_61a5d52e_0600_11ed_a5b9_0242ac120002row6_col0\" class=\"data row6 col0\" >0.013</td>\n",
       "                        <td id=\"T_61a5d52e_0600_11ed_a5b9_0242ac120002row6_col1\" class=\"data row6 col1\" >0.0012</td>\n",
       "                        <td id=\"T_61a5d52e_0600_11ed_a5b9_0242ac120002row6_col2\" class=\"data row6 col2\" >-0.0063</td>\n",
       "                        <td id=\"T_61a5d52e_0600_11ed_a5b9_0242ac120002row6_col3\" class=\"data row6 col3\" >-0.015</td>\n",
       "                        <td id=\"T_61a5d52e_0600_11ed_a5b9_0242ac120002row6_col4\" class=\"data row6 col4\" >-0.026</td>\n",
       "                        <td id=\"T_61a5d52e_0600_11ed_a5b9_0242ac120002row6_col5\" class=\"data row6 col5\" >-0.024</td>\n",
       "                        <td id=\"T_61a5d52e_0600_11ed_a5b9_0242ac120002row6_col6\" class=\"data row6 col6\" >1</td>\n",
       "                        <td id=\"T_61a5d52e_0600_11ed_a5b9_0242ac120002row6_col7\" class=\"data row6 col7\" >-0.035</td>\n",
       "                        <td id=\"T_61a5d52e_0600_11ed_a5b9_0242ac120002row6_col8\" class=\"data row6 col8\" >0.4</td>\n",
       "                        <td id=\"T_61a5d52e_0600_11ed_a5b9_0242ac120002row6_col9\" class=\"data row6 col9\" >0.13</td>\n",
       "            </tr>\n",
       "            <tr>\n",
       "                        <th id=\"T_61a5d52e_0600_11ed_a5b9_0242ac120002level0_row7\" class=\"row_heading level0 row7\" >IsUnderAge</th>\n",
       "                        <td id=\"T_61a5d52e_0600_11ed_a5b9_0242ac120002row7_col0\" class=\"data row7 col0\" >-0.74</td>\n",
       "                        <td id=\"T_61a5d52e_0600_11ed_a5b9_0242ac120002row7_col1\" class=\"data row7 col1\" >0.026</td>\n",
       "                        <td id=\"T_61a5d52e_0600_11ed_a5b9_0242ac120002row7_col2\" class=\"data row7 col2\" >-0.28</td>\n",
       "                        <td id=\"T_61a5d52e_0600_11ed_a5b9_0242ac120002row7_col3\" class=\"data row7 col3\" >-0.16</td>\n",
       "                        <td id=\"T_61a5d52e_0600_11ed_a5b9_0242ac120002row7_col4\" class=\"data row7 col4\" >-0.099</td>\n",
       "                        <td id=\"T_61a5d52e_0600_11ed_a5b9_0242ac120002row7_col5\" class=\"data row7 col5\" >-0.042</td>\n",
       "                        <td id=\"T_61a5d52e_0600_11ed_a5b9_0242ac120002row7_col6\" class=\"data row7 col6\" >-0.035</td>\n",
       "                        <td id=\"T_61a5d52e_0600_11ed_a5b9_0242ac120002row7_col7\" class=\"data row7 col7\" >1</td>\n",
       "                        <td id=\"T_61a5d52e_0600_11ed_a5b9_0242ac120002row7_col8\" class=\"data row7 col8\" >-0.022</td>\n",
       "                        <td id=\"T_61a5d52e_0600_11ed_a5b9_0242ac120002row7_col9\" class=\"data row7 col9\" >0.024</td>\n",
       "            </tr>\n",
       "            <tr>\n",
       "                        <th id=\"T_61a5d52e_0600_11ed_a5b9_0242ac120002level0_row8\" class=\"row_heading level0 row8\" >DaysBetweenScheduledAndAppointment</th>\n",
       "                        <td id=\"T_61a5d52e_0600_11ed_a5b9_0242ac120002row8_col0\" class=\"data row8 col0\" >0.035</td>\n",
       "                        <td id=\"T_61a5d52e_0600_11ed_a5b9_0242ac120002row8_col1\" class=\"data row8 col1\" >-0.03</td>\n",
       "                        <td id=\"T_61a5d52e_0600_11ed_a5b9_0242ac120002row8_col2\" class=\"data row8 col2\" >-0.017</td>\n",
       "                        <td id=\"T_61a5d52e_0600_11ed_a5b9_0242ac120002row8_col3\" class=\"data row8 col3\" >-0.027</td>\n",
       "                        <td id=\"T_61a5d52e_0600_11ed_a5b9_0242ac120002row8_col4\" class=\"data row8 col4\" >-0.039</td>\n",
       "                        <td id=\"T_61a5d52e_0600_11ed_a5b9_0242ac120002row8_col5\" class=\"data row8 col5\" >-0.02</td>\n",
       "                        <td id=\"T_61a5d52e_0600_11ed_a5b9_0242ac120002row8_col6\" class=\"data row8 col6\" >0.4</td>\n",
       "                        <td id=\"T_61a5d52e_0600_11ed_a5b9_0242ac120002row8_col7\" class=\"data row8 col7\" >-0.022</td>\n",
       "                        <td id=\"T_61a5d52e_0600_11ed_a5b9_0242ac120002row8_col8\" class=\"data row8 col8\" >1</td>\n",
       "                        <td id=\"T_61a5d52e_0600_11ed_a5b9_0242ac120002row8_col9\" class=\"data row8 col9\" >0.19</td>\n",
       "            </tr>\n",
       "            <tr>\n",
       "                        <th id=\"T_61a5d52e_0600_11ed_a5b9_0242ac120002level0_row9\" class=\"row_heading level0 row9\" >No-show</th>\n",
       "                        <td id=\"T_61a5d52e_0600_11ed_a5b9_0242ac120002row9_col0\" class=\"data row9 col0\" >-0.06</td>\n",
       "                        <td id=\"T_61a5d52e_0600_11ed_a5b9_0242ac120002row9_col1\" class=\"data row9 col1\" >0.029</td>\n",
       "                        <td id=\"T_61a5d52e_0600_11ed_a5b9_0242ac120002row9_col2\" class=\"data row9 col2\" >-0.036</td>\n",
       "                        <td id=\"T_61a5d52e_0600_11ed_a5b9_0242ac120002row9_col3\" class=\"data row9 col3\" >-0.015</td>\n",
       "                        <td id=\"T_61a5d52e_0600_11ed_a5b9_0242ac120002row9_col4\" class=\"data row9 col4\" >-0.00018</td>\n",
       "                        <td id=\"T_61a5d52e_0600_11ed_a5b9_0242ac120002row9_col5\" class=\"data row9 col5\" >-0.0063</td>\n",
       "                        <td id=\"T_61a5d52e_0600_11ed_a5b9_0242ac120002row9_col6\" class=\"data row9 col6\" >0.13</td>\n",
       "                        <td id=\"T_61a5d52e_0600_11ed_a5b9_0242ac120002row9_col7\" class=\"data row9 col7\" >0.024</td>\n",
       "                        <td id=\"T_61a5d52e_0600_11ed_a5b9_0242ac120002row9_col8\" class=\"data row9 col8\" >0.19</td>\n",
       "                        <td id=\"T_61a5d52e_0600_11ed_a5b9_0242ac120002row9_col9\" class=\"data row9 col9\" >1</td>\n",
       "            </tr>\n",
       "    </tbody></table>"
      ],
      "text/plain": [
       "<pandas.io.formats.style.Styler at 0x7f6fe0010588>"
      ]
     },
     "execution_count": 34,
     "metadata": {},
     "output_type": "execute_result"
    }
   ],
   "source": [
    "columns_for_correlation = [\"Age\", \"Scholarship\", \"Hipertension\", \"Diabetes\", \"Alcoholism\", \"Handcap\", \"SMS_received\", \"IsUnderAge\", \"DaysBetweenScheduledAndAppointment\", \"No-show\"]\n",
    "\n",
    "correlation = df[columns_for_correlation].corr()\n",
    "correlation.style.background_gradient(cmap='coolwarm')\n",
    "correlation.style.background_gradient(cmap='coolwarm').set_precision(2)"
   ]
  },
  {
   "cell_type": "markdown",
   "metadata": {},
   "source": [
    "### Is the number of samples balanced for negative and positive values of the dependant variable?\n",
    "- The target variable is unbalanced. In this case, the proportion of people showing up to the appointment is higher to the opposite case in our sample dataset."
   ]
  },
  {
   "cell_type": "code",
   "execution_count": 35,
   "metadata": {},
   "outputs": [
    {
     "data": {
      "text/plain": [
       "0    0.798102\n",
       "1    0.201898\n",
       "Name: No-show, dtype: float64"
      ]
     },
     "execution_count": 35,
     "metadata": {},
     "output_type": "execute_result"
    }
   ],
   "source": [
    "df[\"No-show\"].value_counts(normalize=True)"
   ]
  },
  {
   "cell_type": "code",
   "execution_count": 36,
   "metadata": {},
   "outputs": [
    {
     "data": {
      "image/png": "[encoded data removed]",
      "text/plain": [
       "<matplotlib.figure.Figure at 0x7f6fe1abf908>"
      ]
     },
     "metadata": {
      "needs_background": "light"
     },
     "output_type": "display_data"
    }
   ],
   "source": [
    "df[\"No-show\"].hist()\n",
    "plt.show()"
   ]
  },
  {
   "cell_type": "markdown",
   "metadata": {},
   "source": [
    "### Is there any seasonality (daily, monthly) associated with not showing up to the consultation?\n",
    "- The time span of our sample is limited with only 27 days between 3 different months in 2016.\n",
    "- We dont have the same amount of samples for each month so we need to normalize by group\n",
    "- After normalizing the positive count for each month (dividing agains the overall number of samples belonging to that month) there are no big differences between each of them."
   ]
  },
  {
   "cell_type": "code",
   "execution_count": 37,
   "metadata": {
    "scrolled": false
   },
   "outputs": [
    {
     "data": {
      "image/png": "[encoded data removed]",
      "text/plain": [
       "<matplotlib.figure.Figure at 0x7f6fddc94320>"
      ]
     },
     "metadata": {
      "needs_background": "light"
     },
     "output_type": "display_data"
    }
   ],
   "source": [
    "negative_samples_df = df[df[\"No-show\"]==0]\n",
    "positive_samples_df = df[df[\"No-show\"]==1]\n",
    "\n",
    "fig, ax = plt.subplots(1, 1, figsize=(15, 10))\n",
    "\n",
    "ax.plot(\n",
    "    negative_samples_df[[\"PatientId\", \"AppointmentDay\"]].groupby(\"AppointmentDay\").count().index,\n",
    "    negative_samples_df[[\"PatientId\", \"AppointmentDay\"]].groupby(\"AppointmentDay\").count().values,\n",
    "    marker='.', color='g', label= 'negative_samples'\n",
    ")\n",
    "ax.plot(\n",
    "    positive_samples_df[[\"PatientId\", \"AppointmentDay\"]].groupby(\"AppointmentDay\").count().index,\n",
    "    positive_samples_df[[\"PatientId\", \"AppointmentDay\"]].groupby(\"AppointmentDay\").count().values,\n",
    "    marker='+', color='r', label= 'positive samples')\n",
    "\n",
    "ax.plot(\n",
    "    df[[\"PatientId\", \"AppointmentDay\"]].groupby(\"AppointmentDay\").count().index,\n",
    "    df[[\"PatientId\", \"AppointmentDay\"]].groupby(\"AppointmentDay\").count().values,\n",
    "    marker='+', color='b', label= 'overall samples')\n",
    "\n",
    "ax.set_title(\"Daily medical appointments\")\n",
    "\n",
    "ax.set_xlabel(\"Date (YYYY-MM-DD)\")\n",
    "\n",
    "ax.set_ylabel(\"Number of appointments (N)\")\n",
    "\n",
    "plt.legend()\n",
    "\n",
    "plt.show()"
   ]
  },
  {
   "cell_type": "code",
   "execution_count": 38,
   "metadata": {},
   "outputs": [],
   "source": [
    "def get_normalized_value_counts(df: pd.DataFrame, column: str, target: str) -> pd.DataFrame:\n",
    "    \"\"\"\n",
    "    This function returns an extended version of a DataFrame value_counts,\n",
    "    which includes not only the overall number of samples per variable class\n",
    "    but also the amount of positive samples assigned to each class, based on\n",
    "    a target column and the percentage of positive samples.\n",
    "    \n",
    "    Parameters\n",
    "    ----------\n",
    "    df pd.DataFrame:\n",
    "        Input data\n",
    "        \n",
    "    column str:\n",
    "        A string indicating the column under analysis\n",
    "        \n",
    "    target str:\n",
    "        A string indicating the name of the target column\n",
    "        \n",
    "    Returns\n",
    "    -------\n",
    "    A DataFrame with information about the amount of samples per class and\n",
    "    the relative percentages where columns indicate:\n",
    "        - COLUMN_CLASS: all the column classes\n",
    "        - ocurrences_positive: the number of positive samples (for the target) \n",
    "        belonging to that class\n",
    "        - ocurrences_overall: the number of samples belonging to that class\n",
    "        - positive_percentage: The percentage of positive samples for samples \n",
    "        belonging to that class, computed as: ocurrences_positive/ocurrences_overall*100\n",
    "    \n",
    "    Example\n",
    "    -------\n",
    "      COLUMN_CLASSES    ocurrences_positive    ocurrences_overall    positive_percentage\n",
    "    ----------------    -------------------    ------------------    -------------------\n",
    "                   5                 16799                  80836              20.781582\n",
    "                   4                   633                   3235              19.567233\n",
    "                   6                  4882                  26450              18.457467\n",
    "    \"\"\"\n",
    "    positive = {\n",
    "        f'{column}': df[df[target]==1][column].value_counts().index,\n",
    "        'ocurrences': df[df[target]==1][column].value_counts().values\n",
    "    }\n",
    "    positive_df = pd.DataFrame(positive)\n",
    "\n",
    "    # Storing the ocurrences per neighborhood for all classes\n",
    "    overall = {\n",
    "        f'{column}': df[column].value_counts().index,\n",
    "        'ocurrences': df[column].value_counts().values\n",
    "    }\n",
    "    overall_df = pd.DataFrame(overall)\n",
    "\n",
    "    # Inner join between positive counts and overall counts\n",
    "    normalized_counts = positive_df.merge(\n",
    "        overall_df, how=\"inner\", on=column, suffixes=(\"_positive\", \"_overall\")\n",
    "    )\n",
    "\n",
    "    # Compute marginal probabilities (positive count / overall count)\n",
    "    normalized_counts[\"positive_percentage\"] = (\n",
    "        normalized_counts[\"ocurrences_positive\"]*100 / normalized_counts[\"ocurrences_overall\"]\n",
    "    )\n",
    "\n",
    "    # Sort by probability\n",
    "    normalized_counts.sort_values(\n",
    "        \"positive_percentage\", ascending=False, inplace=True\n",
    "    )\n",
    "    \n",
    "    return normalized_counts"
   ]
  },
  {
   "cell_type": "code",
   "execution_count": 39,
   "metadata": {},
   "outputs": [
    {
     "data": {
      "text/html": [
       "<div>\n",
       "<style scoped>\n",
       "    .dataframe tbody tr th:only-of-type {\n",
       "        vertical-align: middle;\n",
       "    }\n",
       "\n",
       "    .dataframe tbody tr th {\n",
       "        vertical-align: top;\n",
       "    }\n",
       "\n",
       "    .dataframe thead th {\n",
       "        text-align: right;\n",
       "    }\n",
       "</style>\n",
       "<table border=\"1\" class=\"dataframe\">\n",
       "  <thead>\n",
       "    <tr style=\"text-align: right;\">\n",
       "      <th></th>\n",
       "      <th>AppointmentMonth</th>\n",
       "      <th>ocurrences_positive</th>\n",
       "      <th>ocurrences_overall</th>\n",
       "      <th>positive_percentage</th>\n",
       "    </tr>\n",
       "  </thead>\n",
       "  <tbody>\n",
       "    <tr>\n",
       "      <th>0</th>\n",
       "      <td>5</td>\n",
       "      <td>16799</td>\n",
       "      <td>80836</td>\n",
       "      <td>20.781582</td>\n",
       "    </tr>\n",
       "    <tr>\n",
       "      <th>2</th>\n",
       "      <td>4</td>\n",
       "      <td>633</td>\n",
       "      <td>3235</td>\n",
       "      <td>19.567233</td>\n",
       "    </tr>\n",
       "    <tr>\n",
       "      <th>1</th>\n",
       "      <td>6</td>\n",
       "      <td>4882</td>\n",
       "      <td>26450</td>\n",
       "      <td>18.457467</td>\n",
       "    </tr>\n",
       "  </tbody>\n",
       "</table>\n",
       "</div>"
      ],
      "text/plain": [
       "   AppointmentMonth  ocurrences_positive  ocurrences_overall  \\\n",
       "0                 5                16799               80836   \n",
       "2                 4                  633                3235   \n",
       "1                 6                 4882               26450   \n",
       "\n",
       "   positive_percentage  \n",
       "0            20.781582  \n",
       "2            19.567233  \n",
       "1            18.457467  "
      ]
     },
     "execution_count": 39,
     "metadata": {},
     "output_type": "execute_result"
    }
   ],
   "source": [
    "get_normalized_value_counts(df, \"AppointmentMonth\", \"No-show\")"
   ]
  },
  {
   "cell_type": "markdown",
   "metadata": {},
   "source": [
    "### Does the number of days between schedule and actual appointment impact on the probability of showing up to the consultation?\n",
    "- We dont have the same amount of samples for each group within **DistanceBetweenScheduledAndAppointmentBinGroup** so we need to normalize by group\n",
    "- After normalizing the positive count for each group (dividing agains the overall number of samples belonging to that month) it seems that the relative % of positive samples is higher when the distance in days between the day the appointment was scheduled and the appointment day grows. \n",
    "- Why is this happening? Are these kind of appointment only for revision and not urgent? It could be worth to dive deeper into this phenom."
   ]
  },
  {
   "cell_type": "code",
   "execution_count": 40,
   "metadata": {},
   "outputs": [
    {
     "data": {
      "text/html": [
       "<div>\n",
       "<style scoped>\n",
       "    .dataframe tbody tr th:only-of-type {\n",
       "        vertical-align: middle;\n",
       "    }\n",
       "\n",
       "    .dataframe tbody tr th {\n",
       "        vertical-align: top;\n",
       "    }\n",
       "\n",
       "    .dataframe thead th {\n",
       "        text-align: right;\n",
       "    }\n",
       "</style>\n",
       "<table border=\"1\" class=\"dataframe\">\n",
       "  <thead>\n",
       "    <tr style=\"text-align: right;\">\n",
       "      <th></th>\n",
       "      <th>DistanceBetweenScheduledAndAppointmentBinGroup</th>\n",
       "      <th>ocurrences_positive</th>\n",
       "      <th>ocurrences_overall</th>\n",
       "      <th>positive_percentage</th>\n",
       "    </tr>\n",
       "  </thead>\n",
       "  <tbody>\n",
       "    <tr>\n",
       "      <th>2</th>\n",
       "      <td>31_TO_INF_DAYS</td>\n",
       "      <td>3425</td>\n",
       "      <td>10378</td>\n",
       "      <td>33.002505</td>\n",
       "    </tr>\n",
       "    <tr>\n",
       "      <th>1</th>\n",
       "      <td>16_TO_30_DAYS</td>\n",
       "      <td>5159</td>\n",
       "      <td>15868</td>\n",
       "      <td>32.511974</td>\n",
       "    </tr>\n",
       "    <tr>\n",
       "      <th>0</th>\n",
       "      <td>0_TO_15_DAYS</td>\n",
       "      <td>13730</td>\n",
       "      <td>84275</td>\n",
       "      <td>16.291902</td>\n",
       "    </tr>\n",
       "  </tbody>\n",
       "</table>\n",
       "</div>"
      ],
      "text/plain": [
       "  DistanceBetweenScheduledAndAppointmentBinGroup  ocurrences_positive  \\\n",
       "2                                 31_TO_INF_DAYS                 3425   \n",
       "1                                  16_TO_30_DAYS                 5159   \n",
       "0                                   0_TO_15_DAYS                13730   \n",
       "\n",
       "   ocurrences_overall  positive_percentage  \n",
       "2               10378            33.002505  \n",
       "1               15868            32.511974  \n",
       "0               84275            16.291902  "
      ]
     },
     "execution_count": 40,
     "metadata": {},
     "output_type": "execute_result"
    }
   ],
   "source": [
    "get_normalized_value_counts(df, \"DistanceBetweenScheduledAndAppointmentBinGroup\", \"No-show\")"
   ]
  },
  {
   "cell_type": "markdown",
   "metadata": {},
   "source": [
    "### Does age group or gender impact on the probability of showing up to the consultation?\n",
    "- We dont have the same amount of samples for each group within **PatientLifeStage** so we need to normalize by group\n",
    "- After normalizing the positive count for each group (dividing agains the overall number of samples belonging to that group) it seems that there is not much spread between groups in terms of the relative % of positive samples.\n",
    "- However, that % is higher in teens than in senior adults, which makes a lot of sense\n",
    "- No differences were spotted when running the same analysis between male and female patients\n"
   ]
  },
  {
   "cell_type": "code",
   "execution_count": 41,
   "metadata": {},
   "outputs": [
    {
     "data": {
      "text/html": [
       "<div>\n",
       "<style scoped>\n",
       "    .dataframe tbody tr th:only-of-type {\n",
       "        vertical-align: middle;\n",
       "    }\n",
       "\n",
       "    .dataframe tbody tr th {\n",
       "        vertical-align: top;\n",
       "    }\n",
       "\n",
       "    .dataframe thead th {\n",
       "        text-align: right;\n",
       "    }\n",
       "</style>\n",
       "<table border=\"1\" class=\"dataframe\">\n",
       "  <thead>\n",
       "    <tr style=\"text-align: right;\">\n",
       "      <th></th>\n",
       "      <th>PatientLifeStage</th>\n",
       "      <th>ocurrences_positive</th>\n",
       "      <th>ocurrences_overall</th>\n",
       "      <th>positive_percentage</th>\n",
       "    </tr>\n",
       "  </thead>\n",
       "  <tbody>\n",
       "    <tr>\n",
       "      <th>4</th>\n",
       "      <td>TEEN</td>\n",
       "      <td>2433</td>\n",
       "      <td>9374</td>\n",
       "      <td>25.954769</td>\n",
       "    </tr>\n",
       "    <tr>\n",
       "      <th>0</th>\n",
       "      <td>ADULT</td>\n",
       "      <td>6678</td>\n",
       "      <td>28868</td>\n",
       "      <td>23.132881</td>\n",
       "    </tr>\n",
       "    <tr>\n",
       "      <th>3</th>\n",
       "      <td>CHILD</td>\n",
       "      <td>2441</td>\n",
       "      <td>10793</td>\n",
       "      <td>22.616511</td>\n",
       "    </tr>\n",
       "    <tr>\n",
       "      <th>1</th>\n",
       "      <td>MIDDLE_ADULT</td>\n",
       "      <td>5656</td>\n",
       "      <td>30072</td>\n",
       "      <td>18.808194</td>\n",
       "    </tr>\n",
       "    <tr>\n",
       "      <th>6</th>\n",
       "      <td>TODDLER</td>\n",
       "      <td>811</td>\n",
       "      <td>4430</td>\n",
       "      <td>18.306998</td>\n",
       "    </tr>\n",
       "    <tr>\n",
       "      <th>5</th>\n",
       "      <td>INFANT</td>\n",
       "      <td>1054</td>\n",
       "      <td>5812</td>\n",
       "      <td>18.134893</td>\n",
       "    </tr>\n",
       "    <tr>\n",
       "      <th>2</th>\n",
       "      <td>SENIOR_ADULT</td>\n",
       "      <td>3241</td>\n",
       "      <td>21172</td>\n",
       "      <td>15.307954</td>\n",
       "    </tr>\n",
       "  </tbody>\n",
       "</table>\n",
       "</div>"
      ],
      "text/plain": [
       "  PatientLifeStage  ocurrences_positive  ocurrences_overall  \\\n",
       "4             TEEN                 2433                9374   \n",
       "0            ADULT                 6678               28868   \n",
       "3            CHILD                 2441               10793   \n",
       "1     MIDDLE_ADULT                 5656               30072   \n",
       "6          TODDLER                  811                4430   \n",
       "5           INFANT                 1054                5812   \n",
       "2     SENIOR_ADULT                 3241               21172   \n",
       "\n",
       "   positive_percentage  \n",
       "4            25.954769  \n",
       "0            23.132881  \n",
       "3            22.616511  \n",
       "1            18.808194  \n",
       "6            18.306998  \n",
       "5            18.134893  \n",
       "2            15.307954  "
      ]
     },
     "execution_count": 41,
     "metadata": {},
     "output_type": "execute_result"
    }
   ],
   "source": [
    "get_normalized_value_counts(df, \"PatientLifeStage\", \"No-show\")"
   ]
  },
  {
   "cell_type": "code",
   "execution_count": 42,
   "metadata": {},
   "outputs": [
    {
     "data": {
      "text/html": [
       "<div>\n",
       "<style scoped>\n",
       "    .dataframe tbody tr th:only-of-type {\n",
       "        vertical-align: middle;\n",
       "    }\n",
       "\n",
       "    .dataframe tbody tr th {\n",
       "        vertical-align: top;\n",
       "    }\n",
       "\n",
       "    .dataframe thead th {\n",
       "        text-align: right;\n",
       "    }\n",
       "</style>\n",
       "<table border=\"1\" class=\"dataframe\">\n",
       "  <thead>\n",
       "    <tr style=\"text-align: right;\">\n",
       "      <th></th>\n",
       "      <th>Gender</th>\n",
       "      <th>ocurrences_positive</th>\n",
       "      <th>ocurrences_overall</th>\n",
       "      <th>positive_percentage</th>\n",
       "    </tr>\n",
       "  </thead>\n",
       "  <tbody>\n",
       "    <tr>\n",
       "      <th>0</th>\n",
       "      <td>F</td>\n",
       "      <td>14591</td>\n",
       "      <td>71836</td>\n",
       "      <td>20.311543</td>\n",
       "    </tr>\n",
       "    <tr>\n",
       "      <th>1</th>\n",
       "      <td>M</td>\n",
       "      <td>7723</td>\n",
       "      <td>38685</td>\n",
       "      <td>19.963810</td>\n",
       "    </tr>\n",
       "  </tbody>\n",
       "</table>\n",
       "</div>"
      ],
      "text/plain": [
       "  Gender  ocurrences_positive  ocurrences_overall  positive_percentage\n",
       "0      F                14591               71836            20.311543\n",
       "1      M                 7723               38685            19.963810"
      ]
     },
     "execution_count": 42,
     "metadata": {},
     "output_type": "execute_result"
    }
   ],
   "source": [
    "get_normalized_value_counts(df, \"Gender\", \"No-show\")"
   ]
  },
  {
   "cell_type": "markdown",
   "metadata": {},
   "source": [
    "### In which places there is a higher probability to not to show up to the doctor?\n",
    "- We dont have the same amount of samples for each neighbourhood so we need to normalize dividing the number of positive samples by the number of samples belonging to that neighbourhood\n",
    "- We only have 2 samples for ILHAS OCEÂNICAS DE TRINDADE and the 2 of them are positive.\n",
    "- SANTOS DUMONT has the highest positive_percentage amongst their samples with 28.918495% while ILHA DO BOI has the lowest with only 8.571429%."
   ]
  },
  {
   "cell_type": "code",
   "execution_count": 43,
   "metadata": {},
   "outputs": [
    {
     "data": {
      "text/html": [
       "<div>\n",
       "<style scoped>\n",
       "    .dataframe tbody tr th:only-of-type {\n",
       "        vertical-align: middle;\n",
       "    }\n",
       "\n",
       "    .dataframe tbody tr th {\n",
       "        vertical-align: top;\n",
       "    }\n",
       "\n",
       "    .dataframe thead th {\n",
       "        text-align: right;\n",
       "    }\n",
       "</style>\n",
       "<table border=\"1\" class=\"dataframe\">\n",
       "  <thead>\n",
       "    <tr style=\"text-align: right;\">\n",
       "      <th></th>\n",
       "      <th>Neighbourhood</th>\n",
       "      <th>ocurrences_positive</th>\n",
       "      <th>ocurrences_overall</th>\n",
       "      <th>positive_percentage</th>\n",
       "    </tr>\n",
       "  </thead>\n",
       "  <tbody>\n",
       "    <tr>\n",
       "      <th>77</th>\n",
       "      <td>ILHAS OCEÂNICAS DE TRINDADE</td>\n",
       "      <td>2</td>\n",
       "      <td>2</td>\n",
       "      <td>100.000000</td>\n",
       "    </tr>\n",
       "    <tr>\n",
       "      <th>24</th>\n",
       "      <td>SANTOS DUMONT</td>\n",
       "      <td>369</td>\n",
       "      <td>1276</td>\n",
       "      <td>28.918495</td>\n",
       "    </tr>\n",
       "    <tr>\n",
       "      <th>50</th>\n",
       "      <td>SANTA CECÍLIA</td>\n",
       "      <td>123</td>\n",
       "      <td>448</td>\n",
       "      <td>27.455357</td>\n",
       "    </tr>\n",
       "    <tr>\n",
       "      <th>48</th>\n",
       "      <td>SANTA CLARA</td>\n",
       "      <td>134</td>\n",
       "      <td>506</td>\n",
       "      <td>26.482213</td>\n",
       "    </tr>\n",
       "    <tr>\n",
       "      <th>2</th>\n",
       "      <td>ITARARÉ</td>\n",
       "      <td>923</td>\n",
       "      <td>3514</td>\n",
       "      <td>26.266363</td>\n",
       "    </tr>\n",
       "    <tr>\n",
       "      <th>5</th>\n",
       "      <td>JESUS DE NAZARETH</td>\n",
       "      <td>696</td>\n",
       "      <td>2853</td>\n",
       "      <td>24.395373</td>\n",
       "    </tr>\n",
       "    <tr>\n",
       "      <th>69</th>\n",
       "      <td>HORTO</td>\n",
       "      <td>42</td>\n",
       "      <td>175</td>\n",
       "      <td>24.000000</td>\n",
       "    </tr>\n",
       "    <tr>\n",
       "      <th>10</th>\n",
       "      <td>ILHA DO PRÍNCIPE</td>\n",
       "      <td>532</td>\n",
       "      <td>2266</td>\n",
       "      <td>23.477493</td>\n",
       "    </tr>\n",
       "    <tr>\n",
       "      <th>7</th>\n",
       "      <td>CARATOÍRA</td>\n",
       "      <td>591</td>\n",
       "      <td>2565</td>\n",
       "      <td>23.040936</td>\n",
       "    </tr>\n",
       "    <tr>\n",
       "      <th>11</th>\n",
       "      <td>ANDORINHAS</td>\n",
       "      <td>521</td>\n",
       "      <td>2262</td>\n",
       "      <td>23.032714</td>\n",
       "    </tr>\n",
       "  </tbody>\n",
       "</table>\n",
       "</div>"
      ],
      "text/plain": [
       "                  Neighbourhood  ocurrences_positive  ocurrences_overall  \\\n",
       "77  ILHAS OCEÂNICAS DE TRINDADE                    2                   2   \n",
       "24                SANTOS DUMONT                  369                1276   \n",
       "50                SANTA CECÍLIA                  123                 448   \n",
       "48                  SANTA CLARA                  134                 506   \n",
       "2                       ITARARÉ                  923                3514   \n",
       "5             JESUS DE NAZARETH                  696                2853   \n",
       "69                        HORTO                   42                 175   \n",
       "10             ILHA DO PRÍNCIPE                  532                2266   \n",
       "7                     CARATOÍRA                  591                2565   \n",
       "11                   ANDORINHAS                  521                2262   \n",
       "\n",
       "    positive_percentage  \n",
       "77           100.000000  \n",
       "24            28.918495  \n",
       "50            27.455357  \n",
       "48            26.482213  \n",
       "2             26.266363  \n",
       "5             24.395373  \n",
       "69            24.000000  \n",
       "10            23.477493  \n",
       "7             23.040936  \n",
       "11            23.032714  "
      ]
     },
     "execution_count": 43,
     "metadata": {},
     "output_type": "execute_result"
    }
   ],
   "source": [
    "neighbourhood_df = get_normalized_value_counts(df, \"Neighbourhood\", \"No-show\")\n",
    "neighbourhood_df.head(10)"
   ]
  },
  {
   "cell_type": "code",
   "execution_count": 44,
   "metadata": {},
   "outputs": [
    {
     "data": {
      "text/html": [
       "<div>\n",
       "<style scoped>\n",
       "    .dataframe tbody tr th:only-of-type {\n",
       "        vertical-align: middle;\n",
       "    }\n",
       "\n",
       "    .dataframe tbody tr th {\n",
       "        vertical-align: top;\n",
       "    }\n",
       "\n",
       "    .dataframe thead th {\n",
       "        text-align: right;\n",
       "    }\n",
       "</style>\n",
       "<table border=\"1\" class=\"dataframe\">\n",
       "  <thead>\n",
       "    <tr style=\"text-align: right;\">\n",
       "      <th></th>\n",
       "      <th>Neighbourhood</th>\n",
       "      <th>ocurrences_positive</th>\n",
       "      <th>ocurrences_overall</th>\n",
       "      <th>positive_percentage</th>\n",
       "    </tr>\n",
       "  </thead>\n",
       "  <tbody>\n",
       "    <tr>\n",
       "      <th>68</th>\n",
       "      <td>DE LOURDES</td>\n",
       "      <td>47</td>\n",
       "      <td>305</td>\n",
       "      <td>15.409836</td>\n",
       "    </tr>\n",
       "    <tr>\n",
       "      <th>60</th>\n",
       "      <td>SOLON BORGES</td>\n",
       "      <td>69</td>\n",
       "      <td>469</td>\n",
       "      <td>14.712154</td>\n",
       "    </tr>\n",
       "    <tr>\n",
       "      <th>64</th>\n",
       "      <td>MÁRIO CYPRESTE</td>\n",
       "      <td>54</td>\n",
       "      <td>371</td>\n",
       "      <td>14.555256</td>\n",
       "    </tr>\n",
       "    <tr>\n",
       "      <th>79</th>\n",
       "      <td>AEROPORTO</td>\n",
       "      <td>1</td>\n",
       "      <td>8</td>\n",
       "      <td>12.500000</td>\n",
       "    </tr>\n",
       "    <tr>\n",
       "      <th>76</th>\n",
       "      <td>ILHA DO BOI</td>\n",
       "      <td>3</td>\n",
       "      <td>35</td>\n",
       "      <td>8.571429</td>\n",
       "    </tr>\n",
       "  </tbody>\n",
       "</table>\n",
       "</div>"
      ],
      "text/plain": [
       "     Neighbourhood  ocurrences_positive  ocurrences_overall  \\\n",
       "68      DE LOURDES                   47                 305   \n",
       "60    SOLON BORGES                   69                 469   \n",
       "64  MÁRIO CYPRESTE                   54                 371   \n",
       "79       AEROPORTO                    1                   8   \n",
       "76     ILHA DO BOI                    3                  35   \n",
       "\n",
       "    positive_percentage  \n",
       "68            15.409836  \n",
       "60            14.712154  \n",
       "64            14.555256  \n",
       "79            12.500000  \n",
       "76             8.571429  "
      ]
     },
     "execution_count": 44,
     "metadata": {},
     "output_type": "execute_result"
    }
   ],
   "source": [
    "neighbourhood_df.tail()"
   ]
  },
  {
   "cell_type": "code",
   "execution_count": 45,
   "metadata": {},
   "outputs": [
    {
     "data": {
      "image/png": "[encoded data removed]",
      "text/plain": [
       "<matplotlib.figure.Figure at 0x7f6fddc8ccf8>"
      ]
     },
     "metadata": {
      "needs_background": "light"
     },
     "output_type": "display_data"
    }
   ],
   "source": [
    "fig, ax = plt.subplots(1, 1, figsize=(25, 20))\n",
    "\n",
    "ax = sns.barplot(x=\"positive_percentage\", y=\"Neighbourhood\", data=neighbourhood_df)\n",
    "plt.show()"
   ]
  },
  {
   "attachments": {},
   "cell_type": "markdown",
   "metadata": {},
   "source": [
    "<a id='conclusions'></a>\n",
    "## Conclusions\n",
    "During the Exploratory Data Analysis stage I've had the chance to dive into these medical appointments dataset. First things first, the dataset is, in terms of temporal range, limited. More than 110K samples distributed in 27 different days between end of April 2016 and beginning of June 2016. Therefore, no appropriate seasonality/temporal analysis could be driven.\n",
    "\n",
    "The dataset contained patients from different age groups from 0 to 115 years old that had medical appointment the same day or several days from the day scheduling day. The main purpose was to investigate what sort of factors drived those patients to not to show up to their appointments. \n",
    "\n",
    "Along the way I've noticed slightly interesting linear relationships between variables such as the age of the patient and the existance of diseases such as Diabetes or Hipertension or the amount of days between the scheduling and appointment date with whether or not the patient recceived an SMS alert, which, if further analyzed, could lead us to a better understanding of how this system works (Currently, I'm not sure if this is an automatic system available for any patient requesting it or just for a particular group of patients). Some correlation was also spotted between the dependant variable and the amount of days between the scheduling and the appointment. Obviously, none of these relationships are enough to state any sort of causality but they are interesing to get a grasp on the particularities of our sample and come up with questions to further analyze the data. \n",
    "\n",
    "I normalized the data to obtain relative percentage of positive samples per age groups, distance between scheduling and appointment days groups as well as gender. I found out that, in this particular sample, the relative percentage of positive samples nearly doubles once the number of days between the scheduling day and the appointment day is bigger than 15 days (from ~15% to ~30%). No remarkable differences were spotted between gender groups nor age groups, except between teenagers and senior adults, with higher relative percentage of positive samples for the former. It is obvious that the potential risk of not showing to a medical appointment is higher for older people than for teenagers. \n",
    "\n",
    "Finally, I included the same relative percentage study for different neighbourhoods. For example,the percentage of positive samples in SANTOS DUMONT is much higher (~30%) than in other neighbourhoods such as ILHA DO BOI (~8%). It could be interesting to understand if this has something to do with the demographics in each neighbourhood.\n",
    "\n",
    "## Submitting your Project \n",
    "\n",
    "> **Tip**: Before you submit your project, you need to create a .html or .pdf version of this notebook in the workspace here. To do that, run the code cell below. If it worked correctly, you should get a return code of 0, and you should see the generated .html file in the workspace directory (click on the orange Jupyter icon in the upper left).\n",
    "\n",
    "> **Tip**: Alternatively, you can download this report as .html via the **File** > **Download as** submenu, and then manually upload it into the workspace directory by clicking on the orange Jupyter icon in the upper left, then using the Upload button.\n",
    "\n",
    "> **Tip**: Once you've done this, you can submit your project by clicking on the \"Submit Project\" button in the lower right here. This will create and submit a zip file with this .ipynb doc and the .html or .pdf version you created. Congratulations!"
   ]
  },
  {
   "cell_type": "code",
   "execution_count": 46,
   "metadata": {},
   "outputs": [
    {
     "data": {
      "text/plain": [
       "0"
      ]
     },
     "execution_count": 46,
     "metadata": {},
     "output_type": "execute_result"
    }
   ],
   "source": [
    "from subprocess import call\n",
    "call(['python', '-m', 'nbconvert', 'Investigate_a_Dataset.ipynb'])"
   ]
  }
 ],
 "metadata": {
  "kernelspec": {
   "display_name": "Python 3",
   "language": "python",
   "name": "python3"
  },
  "language_info": {
   "codemirror_mode": {
    "name": "ipython",
    "version": 3
   },
   "file_extension": ".py",
   "mimetype": "text/x-python",
   "name": "python",
   "nbconvert_exporter": "python",
   "pygments_lexer": "ipython3",
   "version": "3.6.3"
  }
 },
 "nbformat": 4,
 "nbformat_minor": 2
}
