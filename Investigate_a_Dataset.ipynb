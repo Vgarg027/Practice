{
 "cells": [
  {
   "cell_type": "markdown",
   "metadata": {},
   "source": [
    "> **Tip**: Welcome to the Investigate a Dataset project! You will find tips in quoted sections like this to help organize your approach to your investigation. Once you complete this project, remove these **Tip** sections from your report before submission. First things first, you might want to double-click this Markdown cell and change the title so that it reflects your dataset and investigation.\n",
    "\n",
    "# Project: Investigate a Dataset - [NO_SHOW-APP]\n",
    "\n",
    "## Table of Contents\n",
    "<ul>\n",
    "<li><a href=\"#intro\">Introduction</a></li>\n",
    "<li><a href=\"#wrangling\">Data Wrangling</a></li>\n",
    "<li><a href=\"#eda\">Exploratory Data Analysis</a></li>\n",
    "<li><a href=\"#conclusions\">Conclusions</a></li>\n",
    "</ul>"
   ]
  },
  {
   "cell_type": "markdown",
   "metadata": {},
   "source": [
    "## No show up dataset\n",
    "\n",
    "### Introduction\n",
    "\n",
    "This dataset collects information from 100k medical appointments in Brazil and is focused on the question of whether or not patients show up for their appointment. A number of characteristics about the patient are included in each row of dataset.\n",
    "\n",
    "List of No-show appointments data set columns\n",
    "\n",
    "PatientId\n",
    "AppointmentID\n",
    "Gender\t\n",
    "ScheduledDay\t\n",
    "AppointmentDay\t\n",
    "Age\t\n",
    "Neighbourhood\t\n",
    "Scholarship\t\n",
    "Hipertension\t\n",
    "Diabetes\t\n",
    "Alcoholism\t\n",
    "Handcap\t\n",
    "SMS_received\t\n",
    "No-show\n",
    "\n",
    "\n",
    "## Questions\n",
    "\n",
    "### Question 1: \n",
    "    What's the rate of showing by genders?\n",
    "### Question 2\n",
    "    What's the rate of showing for patients who has scolarships?\n",
    "### Question 3\n",
    "    What's the rate of showing up by Neighbourhood?\n",
    "### Question 4\n",
    "    What's the rate of showing up for patients who has Diabetes?\n",
    "### Question 5\n",
    "     What's the rate of showing up for patients who has Diabetes and over age?\n",
    "### Question 6\n",
    "     What's the rate of showing up for patients who has not recieved SMS?\n"
   ]
  },
  {
   "cell_type": "code",
   "execution_count": 4,
   "metadata": {},
   "outputs": [],
   "source": [
    "# Use this cell to set up import statements for all of the packages that you\n",
    "#   plan to use.\n",
    "\n",
    "# Remember to include a 'magic word' so that your visualizations are plotted\n",
    "#   inline with the notebook. See this page for more:\n",
    "#   http://ipython.readthedocs.io/en/stable/interactive/magics.html\n",
    "\n",
    "# NOUR OMAR: 1. Read dataset\n",
    "#            2. remove unused columns (PatientId,AppointmentID ,Handcap,Hipertension,ScheduledDay,AppointmentDay)\n",
    "\n",
    "            \n",
    "\n",
    "\n",
    "import numpy as np\n",
    "import pandas as pd\n",
    "import matplotlib.pyplot as plt\n",
    "import seaborn as sns\n",
    "% matplotlib inline\n",
    "\n",
    "# Use this cell to set up import statements for all of the packages that you\n",
    "#   plan to use.\n",
    "\n",
    "# Remember to include a 'magic word' so that your visualizations are plotted\n",
    "#   inline with the notebook. See this page for more:\n",
    "#   http://ipython.readthedocs.io/en/stable/interactive/magics.html\n"
   ]
  },
  {
   "cell_type": "code",
   "execution_count": null,
   "metadata": {},
   "outputs": [],
   "source": []
  },
  {
   "cell_type": "code",
   "execution_count": 274,
   "metadata": {},
   "outputs": [
    {
     "name": "stdout",
     "output_type": "stream",
     "text": [
      "Requirement already up-to-date: pandas==0.25.0 in /opt/conda/lib/python3.6/site-packages (0.25.0)\n",
      "Requirement already satisfied, skipping upgrade: pytz>=2017.2 in /opt/conda/lib/python3.6/site-packages (from pandas==0.25.0) (2017.3)\n",
      "Requirement already satisfied, skipping upgrade: python-dateutil>=2.6.1 in /opt/conda/lib/python3.6/site-packages (from pandas==0.25.0) (2.6.1)\n",
      "Requirement already satisfied, skipping upgrade: numpy>=1.13.3 in /opt/conda/lib/python3.6/site-packages (from pandas==0.25.0) (1.19.5)\n",
      "Requirement already satisfied, skipping upgrade: six>=1.5 in /opt/conda/lib/python3.6/site-packages (from python-dateutil>=2.6.1->pandas==0.25.0) (1.11.0)\n"
     ]
    }
   ],
   "source": [
    "# Upgrade pandas to use dataframe.explode() function. \n",
    "!pip install --upgrade pandas==0.25.0"
   ]
  },
  {
   "cell_type": "markdown",
   "metadata": {},
   "source": [
    "<a id='wrangling'></a>\n",
    "## Data Wrangling\n",
    "\n",
    "> **Tip**: In this section of the report, you will load in the data, check for cleanliness, and then trim and clean your dataset for analysis. Make sure that you **document your data cleaning steps in mark-down cells precisely and justify your cleaning decisions.**\n",
    "\n",
    "\n",
    "### General Properties\n",
    "> **Tip**: You should _not_ perform too many operations in each cell. Create cells freely to explore your data. One option that you can take with this project is to do a lot of explorations in an initial notebook. These don't have to be organized, but make sure you use enough comments to understand the purpose of each code cell. Then, after you're done with your analysis, create a duplicate notebook where you will trim the excess and organize your steps so that you have a flowing, cohesive report.\n"
   ]
  },
  {
   "cell_type": "code",
   "execution_count": 5,
   "metadata": {},
   "outputs": [
    {
     "data": {
      "text/html": [
       "<div>\n",
       "<style scoped>\n",
       "    .dataframe tbody tr th:only-of-type {\n",
       "        vertical-align: middle;\n",
       "    }\n",
       "\n",
       "    .dataframe tbody tr th {\n",
       "        vertical-align: top;\n",
       "    }\n",
       "\n",
       "    .dataframe thead th {\n",
       "        text-align: right;\n",
       "    }\n",
       "</style>\n",
       "<table border=\"1\" class=\"dataframe\">\n",
       "  <thead>\n",
       "    <tr style=\"text-align: right;\">\n",
       "      <th></th>\n",
       "      <th>PatientId</th>\n",
       "      <th>AppointmentID</th>\n",
       "      <th>Gender</th>\n",
       "      <th>ScheduledDay</th>\n",
       "      <th>AppointmentDay</th>\n",
       "      <th>Age</th>\n",
       "      <th>Neighbourhood</th>\n",
       "      <th>Scholarship</th>\n",
       "      <th>Hipertension</th>\n",
       "      <th>Diabetes</th>\n",
       "      <th>Alcoholism</th>\n",
       "      <th>Handcap</th>\n",
       "      <th>SMS_received</th>\n",
       "      <th>No-show</th>\n",
       "    </tr>\n",
       "  </thead>\n",
       "  <tbody>\n",
       "    <tr>\n",
       "      <th>0</th>\n",
       "      <td>2.987250e+13</td>\n",
       "      <td>5642903</td>\n",
       "      <td>F</td>\n",
       "      <td>2016-04-29T18:38:08Z</td>\n",
       "      <td>2016-04-29T00:00:00Z</td>\n",
       "      <td>62</td>\n",
       "      <td>JARDIM DA PENHA</td>\n",
       "      <td>0</td>\n",
       "      <td>1</td>\n",
       "      <td>0</td>\n",
       "      <td>0</td>\n",
       "      <td>0</td>\n",
       "      <td>0</td>\n",
       "      <td>No</td>\n",
       "    </tr>\n",
       "    <tr>\n",
       "      <th>1</th>\n",
       "      <td>5.589978e+14</td>\n",
       "      <td>5642503</td>\n",
       "      <td>M</td>\n",
       "      <td>2016-04-29T16:08:27Z</td>\n",
       "      <td>2016-04-29T00:00:00Z</td>\n",
       "      <td>56</td>\n",
       "      <td>JARDIM DA PENHA</td>\n",
       "      <td>0</td>\n",
       "      <td>0</td>\n",
       "      <td>0</td>\n",
       "      <td>0</td>\n",
       "      <td>0</td>\n",
       "      <td>0</td>\n",
       "      <td>No</td>\n",
       "    </tr>\n",
       "    <tr>\n",
       "      <th>2</th>\n",
       "      <td>4.262962e+12</td>\n",
       "      <td>5642549</td>\n",
       "      <td>F</td>\n",
       "      <td>2016-04-29T16:19:04Z</td>\n",
       "      <td>2016-04-29T00:00:00Z</td>\n",
       "      <td>62</td>\n",
       "      <td>MATA DA PRAIA</td>\n",
       "      <td>0</td>\n",
       "      <td>0</td>\n",
       "      <td>0</td>\n",
       "      <td>0</td>\n",
       "      <td>0</td>\n",
       "      <td>0</td>\n",
       "      <td>No</td>\n",
       "    </tr>\n",
       "    <tr>\n",
       "      <th>3</th>\n",
       "      <td>8.679512e+11</td>\n",
       "      <td>5642828</td>\n",
       "      <td>F</td>\n",
       "      <td>2016-04-29T17:29:31Z</td>\n",
       "      <td>2016-04-29T00:00:00Z</td>\n",
       "      <td>8</td>\n",
       "      <td>PONTAL DE CAMBURI</td>\n",
       "      <td>0</td>\n",
       "      <td>0</td>\n",
       "      <td>0</td>\n",
       "      <td>0</td>\n",
       "      <td>0</td>\n",
       "      <td>0</td>\n",
       "      <td>No</td>\n",
       "    </tr>\n",
       "    <tr>\n",
       "      <th>4</th>\n",
       "      <td>8.841186e+12</td>\n",
       "      <td>5642494</td>\n",
       "      <td>F</td>\n",
       "      <td>2016-04-29T16:07:23Z</td>\n",
       "      <td>2016-04-29T00:00:00Z</td>\n",
       "      <td>56</td>\n",
       "      <td>JARDIM DA PENHA</td>\n",
       "      <td>0</td>\n",
       "      <td>1</td>\n",
       "      <td>1</td>\n",
       "      <td>0</td>\n",
       "      <td>0</td>\n",
       "      <td>0</td>\n",
       "      <td>No</td>\n",
       "    </tr>\n",
       "  </tbody>\n",
       "</table>\n",
       "</div>"
      ],
      "text/plain": [
       "      PatientId  AppointmentID Gender          ScheduledDay  \\\n",
       "0  2.987250e+13        5642903      F  2016-04-29T18:38:08Z   \n",
       "1  5.589978e+14        5642503      M  2016-04-29T16:08:27Z   \n",
       "2  4.262962e+12        5642549      F  2016-04-29T16:19:04Z   \n",
       "3  8.679512e+11        5642828      F  2016-04-29T17:29:31Z   \n",
       "4  8.841186e+12        5642494      F  2016-04-29T16:07:23Z   \n",
       "\n",
       "         AppointmentDay  Age      Neighbourhood  Scholarship  Hipertension  \\\n",
       "0  2016-04-29T00:00:00Z   62    JARDIM DA PENHA            0             1   \n",
       "1  2016-04-29T00:00:00Z   56    JARDIM DA PENHA            0             0   \n",
       "2  2016-04-29T00:00:00Z   62      MATA DA PRAIA            0             0   \n",
       "3  2016-04-29T00:00:00Z    8  PONTAL DE CAMBURI            0             0   \n",
       "4  2016-04-29T00:00:00Z   56    JARDIM DA PENHA            0             1   \n",
       "\n",
       "   Diabetes  Alcoholism  Handcap  SMS_received No-show  \n",
       "0         0           0        0             0      No  \n",
       "1         0           0        0             0      No  \n",
       "2         0           0        0             0      No  \n",
       "3         0           0        0             0      No  \n",
       "4         1           0        0             0      No  "
      ]
     },
     "execution_count": 5,
     "metadata": {},
     "output_type": "execute_result"
    }
   ],
   "source": [
    "# NOUR OMAR: 1. Read dataset\n",
    "#            2. remove unused columns (PatientId,AppointmentID ,Handcap,Hipertension,ScheduledDay,AppointmentDay)\n",
    "#            3. Change column name \"No-show\" to \"No_show\"\n",
    "#            4. Change No_show column values to lower case\n",
    "\n",
    "df = pd.read_csv('noshowappointments-kagglev2-may-2016.csv')\n",
    "df.head()\n"
   ]
  },
  {
   "cell_type": "code",
   "execution_count": 6,
   "metadata": {},
   "outputs": [
    {
     "data": {
      "text/html": [
       "<div>\n",
       "<style scoped>\n",
       "    .dataframe tbody tr th:only-of-type {\n",
       "        vertical-align: middle;\n",
       "    }\n",
       "\n",
       "    .dataframe tbody tr th {\n",
       "        vertical-align: top;\n",
       "    }\n",
       "\n",
       "    .dataframe thead th {\n",
       "        text-align: right;\n",
       "    }\n",
       "</style>\n",
       "<table border=\"1\" class=\"dataframe\">\n",
       "  <thead>\n",
       "    <tr style=\"text-align: right;\">\n",
       "      <th></th>\n",
       "      <th>Gender</th>\n",
       "      <th>Age</th>\n",
       "      <th>Scholarship</th>\n",
       "      <th>Diabetes</th>\n",
       "      <th>Alcoholism</th>\n",
       "      <th>SMS_received</th>\n",
       "      <th>No-show</th>\n",
       "    </tr>\n",
       "  </thead>\n",
       "  <tbody>\n",
       "    <tr>\n",
       "      <th>0</th>\n",
       "      <td>F</td>\n",
       "      <td>62</td>\n",
       "      <td>0</td>\n",
       "      <td>0</td>\n",
       "      <td>0</td>\n",
       "      <td>0</td>\n",
       "      <td>No</td>\n",
       "    </tr>\n",
       "    <tr>\n",
       "      <th>1</th>\n",
       "      <td>M</td>\n",
       "      <td>56</td>\n",
       "      <td>0</td>\n",
       "      <td>0</td>\n",
       "      <td>0</td>\n",
       "      <td>0</td>\n",
       "      <td>No</td>\n",
       "    </tr>\n",
       "    <tr>\n",
       "      <th>2</th>\n",
       "      <td>F</td>\n",
       "      <td>62</td>\n",
       "      <td>0</td>\n",
       "      <td>0</td>\n",
       "      <td>0</td>\n",
       "      <td>0</td>\n",
       "      <td>No</td>\n",
       "    </tr>\n",
       "    <tr>\n",
       "      <th>3</th>\n",
       "      <td>F</td>\n",
       "      <td>8</td>\n",
       "      <td>0</td>\n",
       "      <td>0</td>\n",
       "      <td>0</td>\n",
       "      <td>0</td>\n",
       "      <td>No</td>\n",
       "    </tr>\n",
       "    <tr>\n",
       "      <th>4</th>\n",
       "      <td>F</td>\n",
       "      <td>56</td>\n",
       "      <td>0</td>\n",
       "      <td>1</td>\n",
       "      <td>0</td>\n",
       "      <td>0</td>\n",
       "      <td>No</td>\n",
       "    </tr>\n",
       "  </tbody>\n",
       "</table>\n",
       "</div>"
      ],
      "text/plain": [
       "  Gender  Age  Scholarship  Diabetes  Alcoholism  SMS_received No-show\n",
       "0      F   62            0         0           0             0      No\n",
       "1      M   56            0         0           0             0      No\n",
       "2      F   62            0         0           0             0      No\n",
       "3      F    8            0         0           0             0      No\n",
       "4      F   56            0         1           0             0      No"
      ]
     },
     "execution_count": 6,
     "metadata": {},
     "output_type": "execute_result"
    }
   ],
   "source": [
    "\n",
    "df.drop(['PatientId', 'AppointmentID', 'Handcap', 'Hipertension','ScheduledDay','AppointmentDay'], axis = 1, inplace = True)\n",
    "df.drop(['Neighbourhood'], axis = 1, inplace = True)\n",
    "df.head()\n"
   ]
  },
  {
   "cell_type": "code",
   "execution_count": 7,
   "metadata": {},
   "outputs": [
    {
     "data": {
      "text/html": [
       "<div>\n",
       "<style scoped>\n",
       "    .dataframe tbody tr th:only-of-type {\n",
       "        vertical-align: middle;\n",
       "    }\n",
       "\n",
       "    .dataframe tbody tr th {\n",
       "        vertical-align: top;\n",
       "    }\n",
       "\n",
       "    .dataframe thead th {\n",
       "        text-align: right;\n",
       "    }\n",
       "</style>\n",
       "<table border=\"1\" class=\"dataframe\">\n",
       "  <thead>\n",
       "    <tr style=\"text-align: right;\">\n",
       "      <th></th>\n",
       "      <th>Gender</th>\n",
       "      <th>Age</th>\n",
       "      <th>Scholarship</th>\n",
       "      <th>Diabetes</th>\n",
       "      <th>Alcoholism</th>\n",
       "      <th>SMS_received</th>\n",
       "      <th>No_show</th>\n",
       "    </tr>\n",
       "  </thead>\n",
       "  <tbody>\n",
       "    <tr>\n",
       "      <th>0</th>\n",
       "      <td>F</td>\n",
       "      <td>62</td>\n",
       "      <td>0</td>\n",
       "      <td>0</td>\n",
       "      <td>0</td>\n",
       "      <td>0</td>\n",
       "      <td>no</td>\n",
       "    </tr>\n",
       "    <tr>\n",
       "      <th>1</th>\n",
       "      <td>M</td>\n",
       "      <td>56</td>\n",
       "      <td>0</td>\n",
       "      <td>0</td>\n",
       "      <td>0</td>\n",
       "      <td>0</td>\n",
       "      <td>no</td>\n",
       "    </tr>\n",
       "    <tr>\n",
       "      <th>2</th>\n",
       "      <td>F</td>\n",
       "      <td>62</td>\n",
       "      <td>0</td>\n",
       "      <td>0</td>\n",
       "      <td>0</td>\n",
       "      <td>0</td>\n",
       "      <td>no</td>\n",
       "    </tr>\n",
       "    <tr>\n",
       "      <th>3</th>\n",
       "      <td>F</td>\n",
       "      <td>8</td>\n",
       "      <td>0</td>\n",
       "      <td>0</td>\n",
       "      <td>0</td>\n",
       "      <td>0</td>\n",
       "      <td>no</td>\n",
       "    </tr>\n",
       "    <tr>\n",
       "      <th>4</th>\n",
       "      <td>F</td>\n",
       "      <td>56</td>\n",
       "      <td>0</td>\n",
       "      <td>1</td>\n",
       "      <td>0</td>\n",
       "      <td>0</td>\n",
       "      <td>no</td>\n",
       "    </tr>\n",
       "  </tbody>\n",
       "</table>\n",
       "</div>"
      ],
      "text/plain": [
       "  Gender  Age  Scholarship  Diabetes  Alcoholism  SMS_received No_show\n",
       "0      F   62            0         0           0             0      no\n",
       "1      M   56            0         0           0             0      no\n",
       "2      F   62            0         0           0             0      no\n",
       "3      F    8            0         0           0             0      no\n",
       "4      F   56            0         1           0             0      no"
      ]
     },
     "execution_count": 7,
     "metadata": {},
     "output_type": "execute_result"
    }
   ],
   "source": [
    "\n",
    "df.head()\n",
    "df.rename(columns={'No-show': 'No_show'}, inplace = True)\n",
    "df.head()\n",
    "df['No_show'] = df['No_show'].str.lower()\n",
    "df.head()"
   ]
  },
  {
   "cell_type": "markdown",
   "metadata": {},
   "source": [
    "<a id='eda'></a>\n",
    "## Exploratory Data Analysis\n",
    "### Research Question 1 What's the rate of showing for genders?"
   ]
  },
  {
   "cell_type": "code",
   "execution_count": 8,
   "metadata": {},
   "outputs": [
    {
     "data": {
      "image/png": "[encoded data removed]",
      "text/plain": [
       "<matplotlib.figure.Figure at 0x7f2e1a7c8e10>"
      ]
     },
     "metadata": {},
     "output_type": "display_data"
    }
   ],
   "source": [
    "# Use this, and more code cells, to explore your data. Don't forget to add\n",
    "#   Markdown cells to document your observations and findings.\n",
    "\n",
    "# NOUR OMAR: Solve Q1: Whhat's the rate of showing/non showing by genders?\n",
    "#                      Will draw pie chart with showed up to non showed up rate\n",
    "#                      Will calculate the non showed up males / total males reservations\n",
    "#                      Will calculate the non showed up females / total females reservations\n",
    "\n",
    "# Will calculate the non showed up / total reservations\n",
    "\n",
    "tot = df.shape\n",
    "tot = int(tot[0])\n",
    "\n",
    "tot_non_show = df.query('No_show == \"no\"').shape\n",
    "tot_non_show = int(tot_non_show[0])\n",
    "tot_show  = tot -tot_non_show \n",
    "\n",
    "\n",
    "y = np.array([tot_show,tot_non_show])\n",
    "mylabels = [\"Total show\",\"Total non show\"]\n",
    "\n",
    "plt.pie(y, labels = mylabels, startangle = 90)\n",
    "\n",
    "plt.show()"
   ]
  },
  {
   "cell_type": "code",
   "execution_count": 9,
   "metadata": {},
   "outputs": [
    {
     "data": {
      "image/png": "[encoded data removed]",
      "text/plain": [
       "<matplotlib.figure.Figure at 0x7f2e19fef320>"
      ]
     },
     "metadata": {
      "needs_background": "light"
     },
     "output_type": "display_data"
    }
   ],
   "source": [
    "\n",
    "\n",
    "# Will calculate the non showed up males / total males reservations\n",
    "\n",
    "tot_m = df.query('Gender == \"M\"').shape\n",
    "tot_m = int(tot_m[0])\n",
    "\n",
    "tot_non_m = df.query('Gender == \"M\" and No_show == \"no\"' ).shape\n",
    "tot_non_m = int(tot_non_m[0])\n",
    "\n",
    "tot_ratio_m = tot_non_m / tot_m\n",
    "\n",
    "\n",
    "# Will calculate the non showed up females / total females reservations\n",
    "\n",
    "\n",
    "tot_f = df.query('Gender == \"F\"').shape\n",
    "tot_f = int(tot_f[0])\n",
    "\n",
    "tot_non_f = df.query('Gender == \"F\" and No_show == \"no\"' ).shape\n",
    "tot_non_f = int(tot_non_f[0])\n",
    "tot_ratio_f = tot_non_f / tot_f\n",
    "\n",
    "\n",
    "# creating the bar plot\n",
    "\n",
    "x = [tot_ratio_f,tot_ratio_m]\n",
    "y = ['Female','Male']\n",
    "\n",
    "plt.bar(y,x)\n",
    " \n",
    "plt.title(\"Non showing patients\")\n",
    "plt.show()"
   ]
  },
  {
   "cell_type": "markdown",
   "metadata": {},
   "source": [
    "### Research Question 2   What's the rate of showing for patients who has scolarships?"
   ]
  },
  {
   "cell_type": "code",
   "execution_count": 10,
   "metadata": {},
   "outputs": [
    {
     "data": {
      "image/png": "[encoded data removed]",
      "text/plain": [
       "<matplotlib.figure.Figure at 0x7f2e19fbe748>"
      ]
     },
     "metadata": {
      "needs_background": "light"
     },
     "output_type": "display_data"
    }
   ],
   "source": [
    "# Continue to explore the data to address your additional research\n",
    "#   questions. Add more headers as needed if you have more questions to\n",
    "#   investigate.\n",
    "\n",
    "# NOUR OMAR: Solve Q2: What's the rate of showing for patients who has scolarships?\n",
    "\n",
    "df.query('Scholarship == \"1\"')['No_show'].hist();\n"
   ]
  },
  {
   "cell_type": "markdown",
   "metadata": {},
   "source": [
    "### Research Question 3  What's the rate of showing up for patients who has Diabetes by gender?"
   ]
  },
  {
   "cell_type": "code",
   "execution_count": 11,
   "metadata": {},
   "outputs": [
    {
     "data": {
      "image/png": "[encoded data removed]",
      "text/plain": [
       "<matplotlib.figure.Figure at 0x7f2e19e93c88>"
      ]
     },
     "metadata": {
      "needs_background": "light"
     },
     "output_type": "display_data"
    }
   ],
   "source": [
    "\n",
    "# Will calculate the non showed up males / total males reservations\n",
    "\n",
    "tot_m = df.query('Gender == \"M\"').shape\n",
    "tot_m = int(tot_m[0])\n",
    "\n",
    "# Will calculate the non showed up males with Diabetes / total males reservations\n",
    "\n",
    "tot_non_m = df.query('Gender == \"M\" and Diabetes == \"1\" and No_show == \"no\"').shape\n",
    "tot_non_m = int(tot_non_m[0])\n",
    "\n",
    "tot_ratio_m = tot_non_m / tot_m\n",
    "\n",
    "\n",
    "# Will calculate the non showed up females / total females reservations\n",
    "\n",
    "\n",
    "tot_f = df.query('Gender == \"F\"').shape\n",
    "tot_f = int(tot_f[0])\n",
    "\n",
    "\n",
    "\n",
    "tot_non_f = df.query('Gender == \"F\" and Diabetes == \"1\" and No_show == \"no\"').shape\n",
    "tot_non_f = int(tot_non_f[0])\n",
    "tot_ratio_f = tot_non_f / tot_f\n",
    "\n",
    "\n",
    "# creating the bar plot\n",
    "\n",
    "x = [tot_ratio_f,tot_ratio_m]\n",
    "y = ['Female','Male']\n",
    "\n",
    "plt.bar(y,x)\n",
    " \n",
    "plt.title(\"Non showing patients with Diabetes\");"
   ]
  },
  {
   "cell_type": "markdown",
   "metadata": {},
   "source": [
    "### Research Question 4  What's the rate of non - showing up for patients whose over mid age by gender?"
   ]
  },
  {
   "cell_type": "code",
   "execution_count": 12,
   "metadata": {},
   "outputs": [
    {
     "name": "stdout",
     "output_type": "stream",
     "text": [
      "38.893986637\n",
      "(29563, 7)\n"
     ]
    },
    {
     "data": {
      "image/png": "[encoded data removed]",
      "text/plain": [
       "<matplotlib.figure.Figure at 0x7f2e19e00fd0>"
      ]
     },
     "metadata": {
      "needs_background": "light"
     },
     "output_type": "display_data"
    }
   ],
   "source": [
    "\n",
    "# Will calculate the non showed up males / total males reservations\n",
    "\n",
    "tot_m = df.query('Gender == \"M\"').shape\n",
    "tot_m = int(tot_m[0])\n",
    "\n",
    "# Will calculate mean of age on males\n",
    "\n",
    "m_mean = df.query('Gender == \"M\"')['Age'].mean()\n",
    "m_mean = str(m_mean)\n",
    "# Will calculate the non showed up males / total males reservations\n",
    "\n",
    "tot_non_m = df.query('Gender == \"M\" and No_show == \"no\"')\n",
    "\n",
    "\n",
    "tot_non_m = tot_non_m.query('Age > '+m_mean).shape\n",
    "tot_non_m = int(tot_non_m[0])\n",
    "\n",
    "\n",
    "# Will calculate the non showed up females / total females reservations\n",
    "\n",
    "tot_f = df.query('Gender == \"F\"').shape\n",
    "tot_f = int(tot_f[0])\n",
    "\n",
    "# Will calculate mean of age on females\n",
    "\n",
    "f_mean = df.query('Gender == \"F\"')['Age'].mean()\n",
    "f_mean = str(f_mean)\n",
    "print(f_mean)\n",
    "\n",
    "\n",
    "# Will calculate the non showed up females / total females reservations\n",
    "\n",
    "tot_non_m = df.query('Gender == \"F\" and No_show == \"no\"')\n",
    "\n",
    "\n",
    "tot_non_m = tot_non_m.query('Age > '+f_mean).shape\n",
    "print(tot_non_m)\n",
    "tot_non_m = int(tot_non_m[0])\n",
    "\n",
    "#creating the bar plot\n",
    "\n",
    "x = [tot_non_f,tot_non_m]\n",
    "y = ['Female','Male']\n",
    "\n",
    "plt.bar(y,x)\n",
    " \n",
    "plt.title(\"Non showing patients over mid-age \");\n",
    "\n"
   ]
  },
  {
   "cell_type": "markdown",
   "metadata": {},
   "source": [
    "### Research Question 5 What's the rate of showing up for patients who has not recieved SMS?"
   ]
  },
  {
   "cell_type": "code",
   "execution_count": 13,
   "metadata": {},
   "outputs": [
    {
     "data": {
      "image/png": "[encoded data removed]",
      "text/plain": [
       "<matplotlib.figure.Figure at 0x7f2e19e69f28>"
      ]
     },
     "metadata": {
      "needs_background": "light"
     },
     "output_type": "display_data"
    }
   ],
   "source": [
    "\n",
    "# Will calculate the non showed up males / total males reservations\n",
    "\n",
    "tot_m = df.query('Gender == \"M\"').shape\n",
    "tot_m = int(tot_m[0])\n",
    "\n",
    "# Will calculate the non showed up males with Diabetes / total males reservations\n",
    "\n",
    "tot_non_m = df.query('Gender == \"M\" and SMS_received == \"1\" and No_show == \"no\"' ).shape\n",
    "tot_non_m = int(tot_non_m[0])\n",
    "\n",
    "tot_ratio_m = tot_non_m / tot_m\n",
    "\n",
    "\n",
    "# Will calculate the non showed up females / total females reservations\n",
    "\n",
    "\n",
    "tot_f = df.query('Gender == \"F\"').shape\n",
    "tot_f = int(tot_f[0])\n",
    "\n",
    "\n",
    "\n",
    "tot_non_f = df.query('Gender == \"F\" and SMS_received == \"1\" and No_show == \"no\"').shape\n",
    "tot_non_f = int(tot_non_f[0])\n",
    "tot_ratio_f = tot_non_f / tot_f\n",
    "\n",
    "\n",
    "# creating the bar plot\n",
    "\n",
    "x = [tot_ratio_f,tot_ratio_m]\n",
    "y = ['Female','Male']\n",
    "\n",
    "plt.bar(y,x)\n",
    " \n",
    "plt.title(\"Non showing patients Not received SMS \");"
   ]
  },
  {
   "cell_type": "markdown",
   "metadata": {},
   "source": [
    "<a id='conclusions'></a>\n",
    "## Conclusions\n",
    "\n",
    "Ratio for males who not showing up from total reserved men so close to the ratio of non showing females to total reserved females\n",
    "\n",
    "Patients who has no Scholarship not showing more than the patients who has Scholarship \n",
    "\n",
    "Females patients who has diabetes showing less than the males who has diabetes\n",
    "\n",
    "Males over age showing less than women that over age \n",
    "\n",
    "Females who not received SMS showing less than the men\n",
    "\n",
    "\n",
    "### Limitations\n",
    "\n",
    "Need to have more data of patients in order to have better analysis\n",
    "\n",
    "\n",
    "## Submitting your Project \n",
    "\n",
    "> **Tip**: Before you submit your project, you need to create a .html or .pdf version of this notebook in the workspace here. To do that, run the code cell below. If it worked correctly, you should get a return code of 0, and you should see the generated .html file in the workspace directory (click on the orange Jupyter icon in the upper left).\n",
    "\n",
    "> **Tip**: Alternatively, you can download this report as .html via the **File** > **Download as** submenu, and then manually upload it into the workspace directory by clicking on the orange Jupyter icon in the upper left, then using the Upload button.\n",
    "\n",
    "> **Tip**: Once you've done this, you can submit your project by clicking on the \"Submit Project\" button in the lower right here. This will create and submit a zip file with this .ipynb doc and the .html or .pdf version you created. Congratulations!"
   ]
  },
  {
   "cell_type": "code",
   "execution_count": 14,
   "metadata": {},
   "outputs": [
    {
     "data": {
      "text/plain": [
       "0"
      ]
     },
     "execution_count": 14,
     "metadata": {},
     "output_type": "execute_result"
    }
   ],
   "source": [
    "from subprocess import call\n",
    "call(['python', '-m', 'nbconvert', 'Investigate_a_Dataset.ipynb'])"
   ]
  },
  {
   "cell_type": "code",
   "execution_count": null,
   "metadata": {},
   "outputs": [],
   "source": []
  }
 ],
 "metadata": {
  "kernelspec": {
   "display_name": "Python 3",
   "language": "python",
   "name": "python3"
  },
  "language_info": {
   "codemirror_mode": {
    "name": "ipython",
    "version": 3
   },
   "file_extension": ".py",
   "mimetype": "text/x-python",
   "name": "python",
   "nbconvert_exporter": "python",
   "pygments_lexer": "ipython3",
   "version": "3.6.3"
  }
 },
 "nbformat": 4,
 "nbformat_minor": 2
}
