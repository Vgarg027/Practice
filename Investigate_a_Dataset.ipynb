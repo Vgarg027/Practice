{
 "cells": [
  {
   "cell_type": "markdown",
   "metadata": {},
   "source": [
    "> **Tip**: Welcome to the Investigate a Dataset project! You will find tips in quoted sections like this to help organize your approach to your investigation. Once you complete this project, remove these **Tip** sections from your report before submission. First things first, you might want to double-click this Markdown cell and change the title so that it reflects your dataset and investigation.\n",
    "\n",
    "# Project: Investigate the TMDb Movie Data\n",
    "\n",
    "## Table of Contents\n",
    "<ul>\n",
    "<li><a href=\"#intro\">Introduction</a></li>\n",
    "<li><a href=\"#wrangling\">Data Wrangling</a></li>\n",
    "<li><a href=\"#eda\">Exploratory Data Analysis</a></li>\n",
    "<li><a href=\"#conclusions\">Conclusions</a></li>\n",
    "</ul>"
   ]
  },
  {
   "cell_type": "markdown",
   "metadata": {},
   "source": [
    "<a id='intro'></a>\n",
    "## Introduction\n",
    "This analysis looks into the relations that genre, release year, and budget (adjusted for inflation) have with a movies' overall rating and profit based on the data from The Movie Database (TMDb), which includes information, classifications, and statistics about nearly 11,000 movies.\n",
    "### Dataset Description \n",
    "\n",
    "\n",
    "### Question(s) for Analysis\n",
    "The questions to be answered are:\n",
    "\n",
    "1-What is the most highly rated movie genre in each year?\n",
    "2-Which movie genre is the most profitable on average by year?\n",
    "3-How much did the average budget of the genres' movies appear to influence the ratings of the movies?\n",
    "Please note that the explanations for the executed code will precede the code itself throughout the report.\n",
    "\n",
    "Begin by importing the libraries for needed for analysis and set inline plotting.\n",
    "\n"
   ]
  },
  {
   "cell_type": "code",
   "execution_count": null,
   "metadata": {
    "collapsed": true
   },
   "outputs": [],
   "source": [
    "# Use this cell to set up import statements for all of the packages that you\n",
    "#   plan to use.\n",
    "import pandas as pd\n",
    "import numpy as np\n",
    "import matplotlib.pyplot as plt\n",
    "import seaborn as sns\n",
    "import ast\n",
    "\n",
    "%matplotlib inline\n",
    "# Remember to include a 'magic word' so that your visualizations are plotted\n",
    "#   inline with the notebook. See this page for more:\n",
    "#   http://ipython.readthedocs.io/en/stable/interactive/magics.html\n"
   ]
  },
  {
   "cell_type": "code",
   "execution_count": null,
   "metadata": {},
   "outputs": [],
   "source": [
    "# Upgrade pandas to use dataframe.explode() function. \n",
    "!pip install --upgrade pandas==0.25.0"
   ]
  },
  {
   "cell_type": "markdown",
   "metadata": {},
   "source": [
    "<a id='wrangling'></a>\n",
    "## Data Wrangling\n",
    "\n",
    "> **Tip**: In this section of the report, you will load in the data, check for cleanliness, and then trim and clean your dataset for analysis. Make sure that you **document your data cleaning steps in mark-down cells precisely and justify your cleaning decisions.**\n",
    "\n",
    "\n",
    "### General Properties\n",
    "Read the .csv file into a pandas dataframe.\n",
    "\n"
   ]
  },
  {
   "cell_type": "code",
   "execution_count": null,
   "metadata": {
    "collapsed": true
   },
   "outputs": [],
   "source": [
    "# Load your data and print out a few lines. Perform operations to inspect data\n",
    "#   types and look for instances of missing or possibly errant data.\n",
    "df = pd.read_csv('tmdb-movies.csv')\n",
    "df.head()\n"
   ]
  },
  {
   "cell_type": "markdown",
   "metadata": {},
   "source": [
    "\n",
    "### Data Cleaning\n",
    "Drop the columns that are not useful for this analysis. Budget may help account for higher ratings, and revenue allows us to calculate profit. The release_year, genres, budget_adj, and vote_average columns are the main columns of information we need to answer the questions posed.\n",
    "\n",
    " "
   ]
  },
  {
   "cell_type": "code",
   "execution_count": null,
   "metadata": {
    "collapsed": true
   },
   "outputs": [],
   "source": [
    "# After discussing the structure of the data and any problems that need to be\n",
    "#   cleaned, perform those cleaning steps in the second part of this section.\n",
    "df.drop(['id', 'imdb_id', 'popularity', 'original_title', 'cast', 'homepage', 'director', 'tagline', 'keywords', 'overview', 'runtime', 'production_companies', 'release_date', 'vote_count'], axis = 1, inplace = True)\n",
    "df.info()\n",
    "df.dropna(axis = 0, inplace = True, subset = ['genres'])\n",
    "df.info()\n",
    "\n"
   ]
  },
  {
   "cell_type": "markdown",
   "metadata": {},
   "source": [
    "<a id='eda'></a>\n",
    "## Exploratory Data Analysis\n",
    "\n",
    "\n",
    "\n",
    "\n",
    "What is the most popular movie genre for each year?\n",
    "The genre column in this dataframe is made up of a string of genre names separated by pipes, or the | character.\n",
    "\n",
    "To explore the genres, we need to divide the movies into groups based on genres. Since each movie can have multiple genres, the simplest way to analyze genre information is to include a movie in the group for each genre it has, even if that means that a movie is included in multiple dataframes.\n",
    "\n",
    "This does limit the report because it will not look at every combination of genre as separate groups. .nunique() shows us that there are 2,039 different combinations of genres in this dataset; far too many to analyze each combination separately in this report.\n",
    "\n"
   ]
  },
  {
   "cell_type": "code",
   "execution_count": 1,
   "metadata": {},
   "outputs": [
    {
     "ename": "SyntaxError",
     "evalue": "invalid syntax (<ipython-input-1-d97f083b6531>, line 153)",
     "output_type": "error",
     "traceback": [
      "\u001b[0;36m  File \u001b[0;32m\"<ipython-input-1-d97f083b6531>\"\u001b[0;36m, line \u001b[0;32m153\u001b[0m\n\u001b[0;31m    Use [1:] to avoid counting the overall mean in the graphs.\u001b[0m\n\u001b[0m              ^\u001b[0m\n\u001b[0;31mSyntaxError\u001b[0m\u001b[0;31m:\u001b[0m invalid syntax\n"
     ]
    }
   ],
   "source": [
    "# Use this, and more code cells, to explore your data. Don't forget to add\n",
    "#   Markdown cells to document your observations and findings.\n",
    "df.genres.nunique()\n",
    "genre_array = df.genres.values\n",
    "genre_array = genre_array.astype('U')\n",
    "print(genre_array.dtype)\n",
    "split_genre_array = np.core.defchararray.split(a = genre_array, sep = '|')\n",
    "print(split_genre_array.dtype)\n",
    "print(split_genre_array)\n",
    "total_words = 0\n",
    "max_length = 0\n",
    "\n",
    "for index, row in enumerate(split_genre_array):\n",
    "    for word in split_genre_array[index]:\n",
    "        total_words += 1\n",
    "        if len(word) > max_length:\n",
    "            max_length = len(word)\n",
    "        \n",
    "print('total_words: ' + str(total_words))\n",
    "print('max_length: ' + str(max_length))\n",
    "combined_genre_array = np.empty((1, total_words), dtype = ('U' + str(max_length)))\n",
    "combined_genre_array.shape\n",
    "count = 0\n",
    "\n",
    "for index, row in enumerate(split_genre_array):\n",
    "    row_list = ast.literal_eval(str(row))\n",
    "    \n",
    "    for word in row_list:\n",
    "        combined_genre_array[0, count] = word\n",
    "        count += 1\n",
    "        \n",
    "print(combined_genre_array)\n",
    "genre_list = np.unique(combined_genre_array)\n",
    "print(genre_list)\n",
    "genre_count = []\n",
    "for genre in genre_list:\n",
    "    temp = genre.lower() + \"_df\"\n",
    "    temp = temp.replace(\" \", \"_\")\n",
    "    number = len(eval(temp + '.index'))\n",
    "    \n",
    "    genre_count.append([temp[:-3], number])\n",
    "    \n",
    "genre_count.sort(key = lambda x:x[1], reverse = True)\n",
    "\n",
    "for index, genre in enumerate(genre_count):\n",
    "    genre_count[index] = [genre[0].title().replace(\"_\", \" \"), genre[1]]\n",
    "\n",
    "print(genre_count)\n",
    "plt.figure(figsize=(20, 10))\n",
    "x, y = [*zip(*genre_count)]\n",
    "graph = plt.bar(x, y)\n",
    "plt.xticks(rotation = 'vertical')\n",
    "plt.xlabel('Genres')\n",
    "plt.ylabel('Number of Movies')\n",
    "\n",
    "\n",
    "# Place the values above the bars.\n",
    "for p in graph.patches:\n",
    "    plt.annotate(p.get_height(), (p.get_x() + p.get_width() / 2, p.get_height()), ha = 'center', va = 'center', fontsize = 11, xytext = (0, 10), textcoords = 'offset points')\n",
    "\n",
    "plt.show()\n",
    "genre, amount = [*zip(*genre_count)]\n",
    "plt.figure(figsize = (10, 10))\n",
    "plt.title('Proportion of the Total Number of Movies in Each Genre')\n",
    "plt.pie(amount, labels = genre, textprops = {'fontsize': 10})\n",
    "\n",
    "plt.show()\n",
    "years = df['release_year'].unique()\n",
    "years.sort()\n",
    "print(years)\n",
    "result_rows = ['vote_average_mean', 'budget_adj_mean', 'revenue_adj_mean', 'profit_adj_mean']\n",
    "\n",
    "for year in years:\n",
    "    result_rows.append(str(year) + '_vote_average')\n",
    "    result_rows.append(str(year) + '_budget_adj')\n",
    "    result_rows.append(str(year) + '_revenue_adj')\n",
    "    result_rows.append(str(year) + '_profit_adj')\n",
    "    \n",
    "    \n",
    "results_df = pd.DataFrame(index = result_rows, columns = genre_list)\n",
    "for genre in genre_list:\n",
    "    # Create the string to eval the dataframe of the current genre's movies.\n",
    "    genre_df = genre.lower().replace(' ', '_') + '_df'\n",
    "    \n",
    "    # Set the overall means for the vote_average, budget_adj, and the revenure_adj columns, and calculate the overall profit mean.\n",
    "    results_df.at['vote_average_mean', str(genre)] = eval(genre_df)['vote_average'].mean()\n",
    "    results_df.at['budget_adj_mean', str(genre)] = eval(genre_df)['budget_adj'].mean()\n",
    "    results_df.at['revenue_adj_mean', str(genre)] = eval(genre_df)['revenue_adj'].mean()\n",
    "    results_df.at['profit_adj_mean', str(genre)] = (eval(genre_df)['revenue_adj'].mean() - eval(genre_df)['budget_adj'].mean())\n",
    "    \n",
    "    # Set these four values for each year.\n",
    "    for year in years:\n",
    "        temp_year_df = eval(genre_df).loc[eval(genre_df)['release_year'] == year]\n",
    "        results_df.at[str(year) + '_vote_average', str(genre)] = temp_year_df['vote_average'].mean()\n",
    "        results_df.at[str(year) + '_budget_adj', str(genre)] = temp_year_df['budget_adj'].mean()\n",
    "        results_df.at[str(year) + '_revenue_adj', str(genre)] = temp_year_df['revenue_adj'].mean()\n",
    "        results_df.at[str(year) + '_profit_adj', str(genre)] = (temp_year_df['revenue_adj'].mean() - temp_year_df['budget_adj'].mean())\n",
    "    \n",
    "results_df.info()\n",
    "results_df = results_df.apply(pd.to_numeric, axis = 1, errors = 'coerce')\n",
    "results_df.info()\n",
    "results_df\n",
    "results_max = results_df.idxmax(axis = 1)\n",
    "vote_average_max = results_max[0::4]\n",
    "budget_average_max = results_max[1::4]\n",
    "revenue_average_max = results_max[2::4]\n",
    "profit_average_max = results_max[3::4]\n",
    "print(vote_average_max)\n",
    "# Use [1:] to avoid counting the overall mean in the graphs.\n",
    "vote_x = vote_average_max[1:].value_counts().index.values.tolist()\n",
    "vote_y = vote_average_max[1:].value_counts().tolist()\n",
    "graph = plt.bar(vote_x, vote_y)\n",
    "\n",
    "plt.title('Number of Years Genres Have the Highest Vote Average')\n",
    "plt.xticks(rotation = 'vertical')\n",
    "plt.yticks([0, 5, 10, 15, 20, 25, 30, 35])\n",
    "plt.xlabel('Movie Genres')\n",
    "plt.ylabel('Number of Years')\n",
    "\n",
    "# Place the values above the bars.\n",
    "for p in graph.patches:\n",
    "    plt.annotate(p.get_height(), (p.get_x() + p.get_width() / 2, p.get_height()), ha = 'center', va = 'center', fontsize = 11, xytext = (0, 10), textcoords = 'offset points')\n",
    "\n",
    "plt.show()\n",
    "plt.figure(figsize = (10, 10))\n",
    "plt.title('Proportion of Years Genres Have the Highest Vote Average')\n",
    "plt.pie(vote_y, labels = vote_x, textprops = {'fontsize': 10})\n",
    "\n",
    "plt.show()\n",
    "print(budget_average_max)\n",
    "# Use [1:] to avoid counting the overall mean in the graphs.\n",
    "budget_x = budget_average_max[1:].value_counts().index.values.tolist()\n",
    "budget_y = budget_average_max[1:].value_counts().tolist()\n",
    "graph = plt.bar(budget_x, budget_y)\n",
    "\n",
    "plt.title('Number of Years Genres Have the Highest Average Budget')\n",
    "plt.xticks(rotation = 'vertical')\n",
    "plt.yticks([0, 5, 10, 15])\n",
    "plt.xlabel('Movie Genres')\n",
    "plt.ylabel('Number of Years')\n",
    "\n",
    "# Place the values above the bars.\n",
    "for p in graph.patches:\n",
    "    plt.annotate(p.get_height(), (p.get_x() + p.get_width() / 2, p.get_height()), ha = 'center', va = 'center', fontsize = 11, xytext = (0, 6), textcoords = 'offset points')\n",
    "\n",
    "plt.show()\n",
    "plt.figure(figsize = (10, 10))\n",
    "plt.title('Proportion of Years Genres Have the Highest Average Budget')\n",
    "plt.pie(budget_y, labels = budget_x, textprops = {'fontsize': 10})\n",
    "\n",
    "plt.show()\n",
    "print(revenue_average_max)\n",
    "Use [1:] to avoid counting the overall mean in the graphs.\n",
    "revenue_x = revenue_average_max[1:].value_counts().index.values.tolist()\n",
    "revenue_y = revenue_average_max[1:].value_counts().tolist()\n",
    "graph = plt.bar(revenue_x, revenue_y)\n",
    "\n",
    "plt.title('Number of Years Genres Have the Highest Average Revenue')\n",
    "plt.xticks(rotation = 'vertical')\n",
    "plt.yticks([0, 5, 10, 15, 20])\n",
    "plt.xlabel('Movie Genres')\n",
    "plt.ylabel('Number of Years')\n",
    "\n",
    "# Place the values above the bars.\n",
    "for p in graph.patches:\n",
    "    plt.annotate(p.get_height(), (p.get_x() + p.get_width() / 2, p.get_height()), ha = 'center', va = 'center', fontsize = 11, xytext = (0, 10), textcoords = 'offset points')\n",
    "\n",
    "plt.show()\n",
    "plt.figure(figsize = (10, 10))\n",
    "plt.title('Proportion of Years Genres Have the Highest Average Revenue')\n",
    "plt.pie(revenue_y, labels = revenue_x, textprops = {'fontsize': 10})\n",
    "\n",
    "plt.show()"
   ]
  },
  {
   "cell_type": "markdown",
   "metadata": {},
   "source": [
    "What is the most profitable movie genre for each year?¶\n"
   ]
  },
  {
   "cell_type": "code",
   "execution_count": null,
   "metadata": {
    "collapsed": true
   },
   "outputs": [],
   "source": [
    "# Continue to explore the data to address your additional research\n",
    "#   questions. Add more headers as needed if you have more questions to\n",
    "#   investigate.\n",
    "print(profit_average_max)\n",
    "# Use [1:] to avoid counting the overall mean in the graphs.\n",
    "profit_x = profit_average_max[1:].value_counts().index.values.tolist()\n",
    "profit_y = profit_average_max[1:].value_counts().tolist()\n",
    "graph = plt.bar(profit_x, profit_y)\n",
    "\n",
    "plt.title('Number of Years Genres Have the Highest Average Profit')\n",
    "plt.xticks(rotation = 'vertical')\n",
    "plt.yticks([0, 5, 10, 15, 20])\n",
    "plt.xlabel('Movie Genres')\n",
    "plt.ylabel('Number of Years')\n",
    "\n",
    "# Place the values above the bars.\n",
    "for p in graph.patches:\n",
    "    plt.annotate(p.get_height(), (p.get_x() + p.get_width() / 2, p.get_height()), ha = 'center', va = 'center', fontsize = 11, xytext = (0, 10), textcoords = 'offset points')\n",
    "\n",
    "plt.show()\n",
    "plt.figure(figsize = (10, 10))\n",
    "plt.title('Proportion of Years Genres Have the Highest Average Profit')\n",
    "plt.pie(profit_y, labels = profit_x, textprops = {'fontsize': 10})\n",
    "\n",
    "plt.show()\n"
   ]
  },
  {
   "cell_type": "markdown",
   "metadata": {},
   "source": [
    "<a id='conclusions'></a>\n",
    "## Conclusions\n",
    "\n",
    "This report has analyzed the The Movie Database (TMDb) to determine the answers to these three questions.\n",
    "\n",
    "What is the most highly rated movie genre in each year?\n",
    "Which movie genre is the most profitable on average by year?\n",
    "How much did the average budget of the genres' movies appear to influence the ratings of the movies?\n",
    "The most highly rated movie genre by year varied, but the Documentary genre was the genre that had the highest average rating across the most years. This may be because documentaries are more serious productions that tend to be polished and because less of them are produced.\n",
    "\n",
    "The most profitible movie genre by year varied as well, but the Adventure genre was the genre that had the highest average profit across the most years. This may be because this genre also tended to have the highest budget, but also because it is one of the more popular movie genres that have a wider audience.\n",
    "\n",
    "Finally, a higher average budget does appear to have a very slight association with a higher average vote rating, but more statistical analysis will need to be performed to prove anything. Additionally, the highest and lowest vote ratings of all the dataset were with lower budget movies.\n",
    "\n",
    "With this information it can be determined that in order to make a more successful movie measured by voted ratings, one should make a documentary with the highest budget possible, and that to make a more successful movie by profit or revenue, one should make adventure movies with higher budgets when able.\n",
    "\n",
    "Further analysis would be beneficial by factoring the vote_count values into the calculations to eliminate bias or statistical outliers in movies with very high or very low vote_average values but low vote_count values. Additionally, this analysis is limited because of how the averages of each year and overall were divided and compared by individual genre. Doing the same for genre pairs would give more insightful information into the nuances of genre popularity and success.\n",
    "\n",
    "\n",
    "\n"
   ]
  },
  {
   "cell_type": "code",
   "execution_count": 2,
   "metadata": {},
   "outputs": [
    {
     "data": {
      "text/plain": [
       "0"
      ]
     },
     "execution_count": 2,
     "metadata": {},
     "output_type": "execute_result"
    }
   ],
   "source": [
    "from subprocess import call\n",
    "call(['python', '-m', 'nbconvert', 'Investigate_a_Dataset.ipynb'])"
   ]
  },
  {
   "cell_type": "code",
   "execution_count": null,
   "metadata": {},
   "outputs": [],
   "source": []
  }
 ],
 "metadata": {
  "kernelspec": {
   "display_name": "Python 3",
   "language": "python",
   "name": "python3"
  },
  "language_info": {
   "codemirror_mode": {
    "name": "ipython",
    "version": 3
   },
   "file_extension": ".py",
   "mimetype": "text/x-python",
   "name": "python",
   "nbconvert_exporter": "python",
   "pygments_lexer": "ipython3",
   "version": "3.6.3"
  }
 },
 "nbformat": 4,
 "nbformat_minor": 2
}
