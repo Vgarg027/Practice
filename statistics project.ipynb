{
 "cells": [
  {
   "cell_type": "code",
   "execution_count": 1,
   "id": "5957c09f",
   "metadata": {},
   "outputs": [],
   "source": [
    "import pandas as pd\n",
    "import numpy as np\n",
    "import random\n",
    "import matplotlib.pyplot as plt\n",
    "%matplotlib inline\n",
    "#We are setting the seed to assure you get the same answers on quizzes as we set up\n",
    "random.seed(42)"
   ]
  },
  {
   "cell_type": "code",
   "execution_count": 2,
   "id": "dd3d53f1",
   "metadata": {},
   "outputs": [],
   "source": [
    "#Read in the dataset from the ab_data.csv file and take a look at the top few rows here:\n",
    "df = pd.read_csv('ab_data.csv')"
   ]
  },
  {
   "cell_type": "code",
   "execution_count": 3,
   "id": "f6d7d10b",
   "metadata": {},
   "outputs": [
    {
     "name": "stdout",
     "output_type": "stream",
     "text": [
      "<class 'pandas.core.frame.DataFrame'>\n",
      "RangeIndex: 294478 entries, 0 to 294477\n",
      "Data columns (total 5 columns):\n",
      " #   Column        Non-Null Count   Dtype \n",
      "---  ------        --------------   ----- \n",
      " 0   user_id       294478 non-null  int64 \n",
      " 1   timestamp     294478 non-null  object\n",
      " 2   group         294478 non-null  object\n",
      " 3   landing_page  294478 non-null  object\n",
      " 4   converted     294478 non-null  int64 \n",
      "dtypes: int64(2), object(3)\n",
      "memory usage: 11.2+ MB\n"
     ]
    }
   ],
   "source": [
    "#Use the cell below to find the number of rows in the dataset.\n",
    "df.info()"
   ]
  },
  {
   "cell_type": "code",
   "execution_count": 4,
   "id": "ce600f91",
   "metadata": {},
   "outputs": [
    {
     "data": {
      "text/plain": [
       "290584"
      ]
     },
     "execution_count": 4,
     "metadata": {},
     "output_type": "execute_result"
    }
   ],
   "source": [
    "#The number of unique users in the dataset\n",
    "df['user_id'].nunique()"
   ]
  },
  {
   "cell_type": "code",
   "execution_count": 5,
   "id": "c117ab15",
   "metadata": {},
   "outputs": [
    {
     "data": {
      "text/plain": [
       "0.11965919355605512"
      ]
     },
     "execution_count": 5,
     "metadata": {},
     "output_type": "execute_result"
    }
   ],
   "source": [
    "#The proportion of users converted\n",
    "df['converted'].mean()"
   ]
  },
  {
   "cell_type": "code",
   "execution_count": 6,
   "id": "0d4088b9",
   "metadata": {},
   "outputs": [
    {
     "data": {
      "text/plain": [
       "1965"
      ]
     },
     "execution_count": 6,
     "metadata": {},
     "output_type": "execute_result"
    }
   ],
   "source": [
    "#The number of times when the \"group\" is treatment but \"landing_page\" is not a new_page.\n",
    "len(df[(df['group'] == 'treatment') & (df['landing_page'] != 'new_page')])"
   ]
  },
  {
   "cell_type": "code",
   "execution_count": 7,
   "id": "38831c9f",
   "metadata": {},
   "outputs": [
    {
     "data": {
      "text/plain": [
       "user_id         0\n",
       "timestamp       0\n",
       "group           0\n",
       "landing_page    0\n",
       "converted       0\n",
       "dtype: int64"
      ]
     },
     "execution_count": 7,
     "metadata": {},
     "output_type": "execute_result"
    }
   ],
   "source": [
    "#Do any of the rows have missing values?\n",
    "(df.isnull()).sum()"
   ]
  },
  {
   "cell_type": "code",
   "execution_count": 8,
   "id": "c3caf6a8",
   "metadata": {},
   "outputs": [],
   "source": [
    "# Remove the inaccurate rows, and store the result in a new dataframe df2\n",
    "df2 = df.drop((df[(df['group'] == 'treatment') & (df['landing_page'] != 'new_page')]).index)\n",
    "df2 = df2.drop((df[(df['group'] == 'control') & (df['landing_page'] != 'old_page')]).index)"
   ]
  },
  {
   "cell_type": "code",
   "execution_count": 9,
   "id": "18bccbc3",
   "metadata": {},
   "outputs": [
    {
     "data": {
      "text/plain": [
       "0"
      ]
     },
     "execution_count": 9,
     "metadata": {},
     "output_type": "execute_result"
    }
   ],
   "source": [
    "# Double Check all of the incorrect rows were removed from df2 - \n",
    "# Output of the statement below should be 0\n",
    "df2[((df2['group'] == 'treatment') == (df2['landing_page'] == 'new_page')) == False].shape[0]"
   ]
  },
  {
   "cell_type": "code",
   "execution_count": 10,
   "id": "b86e3828",
   "metadata": {},
   "outputs": [
    {
     "data": {
      "text/plain": [
       "290584"
      ]
     },
     "execution_count": 10,
     "metadata": {},
     "output_type": "execute_result"
    }
   ],
   "source": [
    "#How many unique user_ids are in df2?\n",
    "df2['user_id'].nunique()"
   ]
  },
  {
   "cell_type": "code",
   "execution_count": 11,
   "id": "170979d5",
   "metadata": {},
   "outputs": [
    {
     "data": {
      "text/html": [
       "<div>\n",
       "<style scoped>\n",
       "    .dataframe tbody tr th:only-of-type {\n",
       "        vertical-align: middle;\n",
       "    }\n",
       "\n",
       "    .dataframe tbody tr th {\n",
       "        vertical-align: top;\n",
       "    }\n",
       "\n",
       "    .dataframe thead th {\n",
       "        text-align: right;\n",
       "    }\n",
       "</style>\n",
       "<table border=\"1\" class=\"dataframe\">\n",
       "  <thead>\n",
       "    <tr style=\"text-align: right;\">\n",
       "      <th></th>\n",
       "      <th>user_id</th>\n",
       "      <th>timestamp</th>\n",
       "      <th>group</th>\n",
       "      <th>landing_page</th>\n",
       "      <th>converted</th>\n",
       "    </tr>\n",
       "  </thead>\n",
       "  <tbody>\n",
       "    <tr>\n",
       "      <th>2893</th>\n",
       "      <td>773192</td>\n",
       "      <td>2017-01-14 02:55:59.590927</td>\n",
       "      <td>treatment</td>\n",
       "      <td>new_page</td>\n",
       "      <td>0</td>\n",
       "    </tr>\n",
       "  </tbody>\n",
       "</table>\n",
       "</div>"
      ],
      "text/plain": [
       "      user_id                   timestamp      group landing_page  converted\n",
       "2893   773192  2017-01-14 02:55:59.590927  treatment     new_page          0"
      ]
     },
     "execution_count": 11,
     "metadata": {},
     "output_type": "execute_result"
    }
   ],
   "source": [
    "#There is one user_id repeated in df2. What is it?\n",
    "duplicated_rows = df2[df2['user_id'].duplicated()]\n",
    "duplicated_rows"
   ]
  },
  {
   "cell_type": "code",
   "execution_count": 12,
   "id": "7280ab4d",
   "metadata": {},
   "outputs": [
    {
     "data": {
      "text/html": [
       "<div>\n",
       "<style scoped>\n",
       "    .dataframe tbody tr th:only-of-type {\n",
       "        vertical-align: middle;\n",
       "    }\n",
       "\n",
       "    .dataframe tbody tr th {\n",
       "        vertical-align: top;\n",
       "    }\n",
       "\n",
       "    .dataframe thead th {\n",
       "        text-align: right;\n",
       "    }\n",
       "</style>\n",
       "<table border=\"1\" class=\"dataframe\">\n",
       "  <thead>\n",
       "    <tr style=\"text-align: right;\">\n",
       "      <th></th>\n",
       "      <th>user_id</th>\n",
       "      <th>timestamp</th>\n",
       "      <th>group</th>\n",
       "      <th>landing_page</th>\n",
       "      <th>converted</th>\n",
       "    </tr>\n",
       "  </thead>\n",
       "  <tbody>\n",
       "  </tbody>\n",
       "</table>\n",
       "</div>"
      ],
      "text/plain": [
       "Empty DataFrame\n",
       "Columns: [user_id, timestamp, group, landing_page, converted]\n",
       "Index: []"
      ]
     },
     "execution_count": 12,
     "metadata": {},
     "output_type": "execute_result"
    }
   ],
   "source": [
    "# Remove one of the rows with a duplicate user_id..\n",
    "# Hint: The dataframe.drop_duplicates() may not work in this case because the rows with duplicate user_id are not entirely identical. \n",
    "nnew = (df['group'] == 'treatment') & (df['landing_page'] != 'new_page')\n",
    "df2 = df.drop(df[nnew].index)\n",
    "\n",
    "nold = (df2['group'] == 'control') & (df2['landing_page'] != 'old_page')\n",
    "df2 = df2.drop(df2[nold].index)\n",
    "\n",
    "df2.drop_duplicates(subset=['user_id'], keep='first', inplace=True)\n",
    "# Check again if the row with a duplicate user_id is deleted or not\n",
    "duplicated_rows = df2[df2['user_id'].duplicated()]\n",
    "duplicated_rows"
   ]
  },
  {
   "cell_type": "code",
   "execution_count": 13,
   "id": "70b3b0e3",
   "metadata": {},
   "outputs": [
    {
     "data": {
      "text/plain": [
       "0.11965919355605512"
      ]
     },
     "execution_count": 13,
     "metadata": {},
     "output_type": "execute_result"
    }
   ],
   "source": [
    "#What is the probability of an individual converting regardless of the page they receive?\n",
    "df['converted'].mean()"
   ]
  },
  {
   "cell_type": "code",
   "execution_count": 14,
   "id": "474ac0ac",
   "metadata": {},
   "outputs": [
    {
     "data": {
      "text/plain": [
       "0.1203863045004612"
      ]
     },
     "execution_count": 14,
     "metadata": {},
     "output_type": "execute_result"
    }
   ],
   "source": [
    "#Given that an individual was in the control group, what is the probability they converted?\n",
    "converted_control = df2.query('group==\"control\"')\n",
    "convert_con =converted_control.query('converted ==True').user_id.nunique()/converted_control.user_id.nunique()\n",
    "convert_con"
   ]
  },
  {
   "cell_type": "code",
   "execution_count": 15,
   "id": "774246c7",
   "metadata": {},
   "outputs": [
    {
     "data": {
      "text/plain": [
       "0.11880806551510564"
      ]
     },
     "execution_count": 15,
     "metadata": {},
     "output_type": "execute_result"
    }
   ],
   "source": [
    "#Given that an individual was in the treatment group, what is the probability they converted?\n",
    "converted_treatment= df2.query('group ==\"treatment\"')\n",
    "convert_treat = converted_treatment.query('converted==True').user_id.nunique()/converted_treatment.user_id.nunique()\n",
    "convert_treat"
   ]
  },
  {
   "cell_type": "code",
   "execution_count": 16,
   "id": "22aa5520",
   "metadata": {},
   "outputs": [
    {
     "data": {
      "text/plain": [
       "-0.0015782389853555567"
      ]
     },
     "execution_count": 16,
     "metadata": {},
     "output_type": "execute_result"
    }
   ],
   "source": [
    "# Calculate the actual difference (obs_diff) between the conversion rates for the two groups.\n",
    "obs_diff = (convert_treat-convert_con)\n",
    "obs_diff"
   ]
  },
  {
   "cell_type": "code",
   "execution_count": 17,
   "id": "4a24dea6",
   "metadata": {},
   "outputs": [
    {
     "data": {
      "text/plain": [
       "0.5000619442226688"
      ]
     },
     "execution_count": 17,
     "metadata": {},
     "output_type": "execute_result"
    }
   ],
   "source": [
    "#What is the probability that an individual received the new page?\n",
    "(df2['landing_page']=='new_page').mean()"
   ]
  },
  {
   "cell_type": "code",
   "execution_count": 67,
   "id": "65b98aec",
   "metadata": {},
   "outputs": [
    {
     "data": {
      "text/plain": [
       "0.11880806551510564"
      ]
     },
     "execution_count": 67,
     "metadata": {},
     "output_type": "execute_result"
    }
   ],
   "source": [
    "#What is the conversion rate for  𝑝𝑛𝑒𝑤 under the null hypothesis?\n",
    "m=len(df2[(df2['landing_page']=='new_page')&(df2['converted'])])\n",
    "r=len(df2[df2['landing_page']=='new_page'])\n",
    "p_new =m/r\n",
    "p_new"
   ]
  },
  {
   "cell_type": "code",
   "execution_count": 68,
   "id": "3cbab912",
   "metadata": {},
   "outputs": [
    {
     "data": {
      "text/plain": [
       "0.1203863045004612"
      ]
     },
     "execution_count": 68,
     "metadata": {},
     "output_type": "execute_result"
    }
   ],
   "source": [
    "#What is the conversion rate for  𝑝𝑜𝑙𝑑 under the null hypothesis?\n",
    "t=len(df2[(df2['landing_page']=='old_page')&(df2['converted'])])\n",
    "f=len(df2[df2['landing_page']=='old_page'])\n",
    "p_old = t/f\n",
    "p_old"
   ]
  },
  {
   "cell_type": "code",
   "execution_count": 70,
   "id": "6c76c552",
   "metadata": {},
   "outputs": [
    {
     "data": {
      "text/plain": [
       "145310"
      ]
     },
     "execution_count": 70,
     "metadata": {},
     "output_type": "execute_result"
    }
   ],
   "source": [
    "#What is  𝑛𝑛𝑒𝑤, the number of individuals in the treatment group?\n",
    "n_new =(df2['group']=='treatment').sum()\n",
    "n_new"
   ]
  },
  {
   "cell_type": "code",
   "execution_count": 71,
   "id": "fcaac90a",
   "metadata": {},
   "outputs": [
    {
     "data": {
      "text/plain": [
       "145274"
      ]
     },
     "execution_count": 71,
     "metadata": {},
     "output_type": "execute_result"
    }
   ],
   "source": [
    "#What is  𝑛𝑜𝑙𝑑, the number of individuals in the control group?\n",
    "n_old = (df2['group']=='control').sum()\n",
    "n_old"
   ]
  },
  {
   "cell_type": "code",
   "execution_count": 22,
   "id": "4645e66d",
   "metadata": {},
   "outputs": [
    {
     "data": {
      "text/plain": [
       "array([1, 1, 1, ..., 1, 1, 0])"
      ]
     },
     "execution_count": 22,
     "metadata": {},
     "output_type": "execute_result"
    }
   ],
   "source": [
    "# Simulate a Sample for the treatment Group\n",
    "results_treatment = np.random.choice(2,(df2['group']=='treatment').sum(),p=[m/r,1-m/r])\n",
    "results_treatment"
   ]
  },
  {
   "cell_type": "code",
   "execution_count": 72,
   "id": "33dddaa5",
   "metadata": {},
   "outputs": [
    {
     "data": {
      "text/plain": [
       "array([1, 1, 1, ..., 1, 1, 1])"
      ]
     },
     "execution_count": 72,
     "metadata": {},
     "output_type": "execute_result"
    }
   ],
   "source": [
    "# Simulate a Sample for the control Group\n",
    "results_control = np.random.choice(2,(df2['group']=='control').sum(),p=[t/f,1-t/f])\n",
    "results_control"
   ]
  },
  {
   "cell_type": "code",
   "execution_count": 24,
   "id": "69414d31",
   "metadata": {},
   "outputs": [
    {
     "data": {
      "text/plain": [
       "8.77385421049759e-06"
      ]
     },
     "execution_count": 24,
     "metadata": {},
     "output_type": "execute_result"
    }
   ],
   "source": [
    "#Find the difference in the \"converted\" probability  (𝑝′𝑛𝑒𝑤 -  𝑝′𝑜𝑙𝑑) for your simulated samples from the parts above.\n",
    "results_treatment.mean()-results_control.mean()"
   ]
  },
  {
   "cell_type": "code",
   "execution_count": 25,
   "id": "12dfc4c1",
   "metadata": {},
   "outputs": [],
   "source": [
    "p_diffs = []\n",
    "for _ in range(10000):\n",
    "    boot = df2.sample(df2.shape[0],replace=True)\n",
    "    converted_control = boot.query('group==\"control\"')\n",
    "    converted_treatment= boot.query('group ==\"treatment\"')\n",
    "    control_converted_mean = converted_control.query('converted ==True').user_id.nunique()/converted_control.user_id.nunique()\n",
    "    treatment_converted_mean = converted_treatment.query('converted==True').user_id.nunique()/converted_treatment.user_id.nunique()\n",
    "    p_diffs.append(treatment_converted_mean - control_converted_mean)"
   ]
  },
  {
   "cell_type": "code",
   "execution_count": 26,
   "id": "da2afcba",
   "metadata": {},
   "outputs": [
    {
     "data": {
      "text/plain": [
       "(array([   5.,   50.,  319., 1230., 2566., 2965., 1983.,  709.,  158.,\n",
       "          15.]),\n",
       " array([-0.00531312, -0.00460099, -0.00388886, -0.00317673, -0.0024646 ,\n",
       "        -0.00175248, -0.00104035, -0.00032822,  0.00038391,  0.00109604,\n",
       "         0.00180817]),\n",
       " <BarContainer object of 10 artists>)"
      ]
     },
     "execution_count": 26,
     "metadata": {},
     "output_type": "execute_result"
    },
    {
     "data": {
      "image/png": "[encoded data removed]",
      "text/plain": [
       "<Figure size 640x480 with 1 Axes>"
      ]
     },
     "metadata": {},
     "output_type": "display_data"
    }
   ],
   "source": [
    "plt.hist(p_diffs)\n",
    "plt.axvline(x=obs_diff,color='red')"
   ]
  },
  {
   "cell_type": "code",
   "execution_count": 32,
   "id": "b65b0bf0",
   "metadata": {},
   "outputs": [
    {
     "data": {
      "text/plain": [
       "0.9566"
      ]
     },
     "execution_count": 32,
     "metadata": {},
     "output_type": "execute_result"
    }
   ],
   "source": [
    "p_diffs = np.array(p_diffs)\n",
    "null_vals = np.random.normal(0,p_diffs.std(),p_diffs.size)\n",
    "(null_vals>obs_diff).mean()"
   ]
  },
  {
   "cell_type": "code",
   "execution_count": 33,
   "id": "fcc858ff",
   "metadata": {},
   "outputs": [],
   "source": [
    "import statsmodels.api as sm\n",
    "\n",
    "# number of conversions with the old_page\n",
    "convert_old = ((df2['converted'])&(df2['group']=='control')).sum()\n",
    "\n",
    "# number of conversions with the new_page\n",
    "convert_new = ((df2['converted'])&(df2['group']=='treatment ')).sum()\n",
    "\n",
    "# number of individuals who were shown the old_page\n",
    "n_old = (df['landing_page']=='old_page').sum()\n",
    "\n",
    "# number of individuals who received new_page\n",
    "n_new = (df['landing_page']=='new_page').sum()\n"
   ]
  },
  {
   "cell_type": "code",
   "execution_count": 65,
   "id": "227c7eed",
   "metadata": {},
   "outputs": [
    {
     "name": "stdout",
     "output_type": "stream",
     "text": [
      "-452.14128922534223 1.0\n"
     ]
    }
   ],
   "source": [
    "import statsmodels.api as sm\n",
    "# ToDo: Complete the sm.stats.proportions_ztest() method arguments\n",
    "z_score, p_value = sm.stats.proportions_ztest(convert_old,n_old,alternative='larger',value=0.5)\n",
    "print(z_score, p_value)"
   ]
  },
  {
   "cell_type": "code",
   "execution_count": 64,
   "id": "36de1478",
   "metadata": {},
   "outputs": [
    {
     "name": "stdout",
     "output_type": "stream",
     "text": [
      "-inf 1.0\n"
     ]
    }
   ],
   "source": [
    "import statsmodels.api as sm\n",
    "# ToDo: Complete the sm.stats.proportions_ztest() method arguments\n",
    "z_score, p_value = sm.stats.proportions_ztest(convert_new,n_new,alternative='larger',value = 0.5)\n",
    "print(z_score, p_value)"
   ]
  },
  {
   "cell_type": "code",
   "execution_count": 40,
   "id": "a35064e3",
   "metadata": {},
   "outputs": [
    {
     "name": "stderr",
     "output_type": "stream",
     "text": [
      "C:\\Users\\moham\\AppData\\Local\\Temp\\ipykernel_19004\\3467355521.py:3: SettingWithCopyWarning: \n",
      "A value is trying to be set on a copy of a slice from a DataFrame.\n",
      "Try using .loc[row_indexer,col_indexer] = value instead\n",
      "\n",
      "See the caveats in the documentation: https://pandas.pydata.org/pandas-docs/stable/user_guide/indexing.html#returning-a-view-versus-a-copy\n",
      "  ab_page['intercept']=1\n"
     ]
    },
    {
     "data": {
      "text/html": [
       "<div>\n",
       "<style scoped>\n",
       "    .dataframe tbody tr th:only-of-type {\n",
       "        vertical-align: middle;\n",
       "    }\n",
       "\n",
       "    .dataframe tbody tr th {\n",
       "        vertical-align: top;\n",
       "    }\n",
       "\n",
       "    .dataframe thead th {\n",
       "        text-align: right;\n",
       "    }\n",
       "</style>\n",
       "<table border=\"1\" class=\"dataframe\">\n",
       "  <thead>\n",
       "    <tr style=\"text-align: right;\">\n",
       "      <th></th>\n",
       "      <th>treatment</th>\n",
       "      <th>control</th>\n",
       "      <th>intercept</th>\n",
       "    </tr>\n",
       "  </thead>\n",
       "  <tbody>\n",
       "    <tr>\n",
       "      <th>0</th>\n",
       "      <td>1</td>\n",
       "      <td>0</td>\n",
       "      <td>1</td>\n",
       "    </tr>\n",
       "    <tr>\n",
       "      <th>1</th>\n",
       "      <td>1</td>\n",
       "      <td>0</td>\n",
       "      <td>1</td>\n",
       "    </tr>\n",
       "    <tr>\n",
       "      <th>2</th>\n",
       "      <td>0</td>\n",
       "      <td>1</td>\n",
       "      <td>1</td>\n",
       "    </tr>\n",
       "    <tr>\n",
       "      <th>3</th>\n",
       "      <td>0</td>\n",
       "      <td>1</td>\n",
       "      <td>1</td>\n",
       "    </tr>\n",
       "    <tr>\n",
       "      <th>4</th>\n",
       "      <td>1</td>\n",
       "      <td>0</td>\n",
       "      <td>1</td>\n",
       "    </tr>\n",
       "  </tbody>\n",
       "</table>\n",
       "</div>"
      ],
      "text/plain": [
       "   treatment  control  intercept\n",
       "0          1        0          1\n",
       "1          1        0          1\n",
       "2          0        1          1\n",
       "3          0        1          1\n",
       "4          1        0          1"
      ]
     },
     "execution_count": 40,
     "metadata": {},
     "output_type": "execute_result"
    }
   ],
   "source": [
    "df2[['treatment','control']] = pd.get_dummies(df2[['group']])\n",
    "ab_page = df2[['treatment','control']]\n",
    "ab_page['intercept']=1\n",
    "ab_page.head()"
   ]
  },
  {
   "cell_type": "code",
   "execution_count": 41,
   "id": "2de548b3",
   "metadata": {},
   "outputs": [],
   "source": [
    "lm =sm.OLS(ab_page['control'],ab_page[['treatment','intercept']])\n",
    "results = lm.fit()"
   ]
  },
  {
   "cell_type": "code",
   "execution_count": 42,
   "id": "d0f78a1c",
   "metadata": {},
   "outputs": [
    {
     "data": {
      "text/html": [
       "<table class=\"simpletable\">\n",
       "<caption>OLS Regression Results</caption>\n",
       "<tr>\n",
       "  <th>Dep. Variable:</th>         <td>control</td>     <th>  R-squared:         </th>  <td>   1.000</td> \n",
       "</tr>\n",
       "<tr>\n",
       "  <th>Model:</th>                   <td>OLS</td>       <th>  Adj. R-squared:    </th>  <td>   1.000</td> \n",
       "</tr>\n",
       "<tr>\n",
       "  <th>Method:</th>             <td>Least Squares</td>  <th>  F-statistic:       </th>  <td>5.845e+32</td>\n",
       "</tr>\n",
       "<tr>\n",
       "  <th>Date:</th>             <td>Fri, 30 Jun 2023</td> <th>  Prob (F-statistic):</th>   <td>  0.00</td>  \n",
       "</tr>\n",
       "<tr>\n",
       "  <th>Time:</th>                 <td>15:18:03</td>     <th>  Log-Likelihood:    </th> <td>8.9234e+06</td>\n",
       "</tr>\n",
       "<tr>\n",
       "  <th>No. Observations:</th>      <td>290584</td>      <th>  AIC:               </th> <td>-1.785e+07</td>\n",
       "</tr>\n",
       "<tr>\n",
       "  <th>Df Residuals:</th>          <td>290582</td>      <th>  BIC:               </th> <td>-1.785e+07</td>\n",
       "</tr>\n",
       "<tr>\n",
       "  <th>Df Model:</th>              <td>     1</td>      <th>                     </th>      <td> </td>    \n",
       "</tr>\n",
       "<tr>\n",
       "  <th>Covariance Type:</th>      <td>nonrobust</td>    <th>                     </th>      <td> </td>    \n",
       "</tr>\n",
       "</table>\n",
       "<table class=\"simpletable\">\n",
       "<tr>\n",
       "      <td></td>         <th>coef</th>     <th>std err</th>      <th>t</th>      <th>P>|t|</th>  <th>[0.025</th>    <th>0.975]</th>  \n",
       "</tr>\n",
       "<tr>\n",
       "  <th>treatment</th> <td>   -1.0000</td> <td> 4.14e-17</td> <td>-2.42e+16</td> <td> 0.000</td> <td>   -1.000</td> <td>   -1.000</td>\n",
       "</tr>\n",
       "<tr>\n",
       "  <th>intercept</th> <td>    1.0000</td> <td> 2.92e-17</td> <td> 3.42e+16</td> <td> 0.000</td> <td>    1.000</td> <td>    1.000</td>\n",
       "</tr>\n",
       "</table>\n",
       "<table class=\"simpletable\">\n",
       "<tr>\n",
       "  <th>Omnibus:</th>       <td>989739.041</td> <th>  Durbin-Watson:     </th> <td>   1.002</td> \n",
       "</tr>\n",
       "<tr>\n",
       "  <th>Prob(Omnibus):</th>   <td> 0.000</td>   <th>  Jarque-Bera (JB):  </th> <td>48430.667</td>\n",
       "</tr>\n",
       "<tr>\n",
       "  <th>Skew:</th>            <td>-0.000</td>   <th>  Prob(JB):          </th> <td>    0.00</td> \n",
       "</tr>\n",
       "<tr>\n",
       "  <th>Kurtosis:</th>        <td> 1.000</td>   <th>  Cond. No.          </th> <td>    2.62</td> \n",
       "</tr>\n",
       "</table><br/><br/>Notes:<br/>[1] Standard Errors assume that the covariance matrix of the errors is correctly specified."
      ],
      "text/plain": [
       "<class 'statsmodels.iolib.summary.Summary'>\n",
       "\"\"\"\n",
       "                            OLS Regression Results                            \n",
       "==============================================================================\n",
       "Dep. Variable:                control   R-squared:                       1.000\n",
       "Model:                            OLS   Adj. R-squared:                  1.000\n",
       "Method:                 Least Squares   F-statistic:                 5.845e+32\n",
       "Date:                Fri, 30 Jun 2023   Prob (F-statistic):               0.00\n",
       "Time:                        15:18:03   Log-Likelihood:             8.9234e+06\n",
       "No. Observations:              290584   AIC:                        -1.785e+07\n",
       "Df Residuals:                  290582   BIC:                        -1.785e+07\n",
       "Df Model:                           1                                         \n",
       "Covariance Type:            nonrobust                                         \n",
       "==============================================================================\n",
       "                 coef    std err          t      P>|t|      [0.025      0.975]\n",
       "------------------------------------------------------------------------------\n",
       "treatment     -1.0000   4.14e-17  -2.42e+16      0.000      -1.000      -1.000\n",
       "intercept      1.0000   2.92e-17   3.42e+16      0.000       1.000       1.000\n",
       "==============================================================================\n",
       "Omnibus:                   989739.041   Durbin-Watson:                   1.002\n",
       "Prob(Omnibus):                  0.000   Jarque-Bera (JB):            48430.667\n",
       "Skew:                          -0.000   Prob(JB):                         0.00\n",
       "Kurtosis:                       1.000   Cond. No.                         2.62\n",
       "==============================================================================\n",
       "\n",
       "Notes:\n",
       "[1] Standard Errors assume that the covariance matrix of the errors is correctly specified.\n",
       "\"\"\""
      ]
     },
     "execution_count": 42,
     "metadata": {},
     "output_type": "execute_result"
    }
   ],
   "source": [
    "results.summary()"
   ]
  },
  {
   "cell_type": "code",
   "execution_count": 43,
   "id": "6e43e132",
   "metadata": {},
   "outputs": [],
   "source": [
    "countries = pd.read_csv('countries.csv')"
   ]
  },
  {
   "cell_type": "code",
   "execution_count": 44,
   "id": "f5f3b099",
   "metadata": {},
   "outputs": [],
   "source": [
    "df_merged = df2.join(countries,lsuffix='_caller', rsuffix='_other')"
   ]
  },
  {
   "cell_type": "code",
   "execution_count": 45,
   "id": "7a0373f8",
   "metadata": {},
   "outputs": [],
   "source": [
    "df_merged[['CA','UK','US']] = pd.get_dummies(df_merged['country'])\n",
    "df_merged[['old_page','new_page']] = pd.get_dummies(df_merged['landing_page'])"
   ]
  },
  {
   "cell_type": "code",
   "execution_count": 46,
   "id": "4a15489b",
   "metadata": {},
   "outputs": [
    {
     "data": {
      "text/html": [
       "<table class=\"simpletable\">\n",
       "<caption>OLS Regression Results</caption>\n",
       "<tr>\n",
       "  <th>Dep. Variable:</th>        <td>converted</td>    <th>  R-squared (uncentered):</th>      <td>   0.118</td> \n",
       "</tr>\n",
       "<tr>\n",
       "  <th>Model:</th>                   <td>OLS</td>       <th>  Adj. R-squared (uncentered):</th> <td>   0.118</td> \n",
       "</tr>\n",
       "<tr>\n",
       "  <th>Method:</th>             <td>Least Squares</td>  <th>  F-statistic:       </th>          <td>1.297e+04</td>\n",
       "</tr>\n",
       "<tr>\n",
       "  <th>Date:</th>             <td>Fri, 30 Jun 2023</td> <th>  Prob (F-statistic):</th>           <td>  0.00</td>  \n",
       "</tr>\n",
       "<tr>\n",
       "  <th>Time:</th>                 <td>15:20:35</td>     <th>  Log-Likelihood:    </th>          <td> -85522.</td> \n",
       "</tr>\n",
       "<tr>\n",
       "  <th>No. Observations:</th>      <td>290584</td>      <th>  AIC:               </th>          <td>1.711e+05</td>\n",
       "</tr>\n",
       "<tr>\n",
       "  <th>Df Residuals:</th>          <td>290581</td>      <th>  BIC:               </th>          <td>1.711e+05</td>\n",
       "</tr>\n",
       "<tr>\n",
       "  <th>Df Model:</th>              <td>     3</td>      <th>                     </th>              <td> </td>    \n",
       "</tr>\n",
       "<tr>\n",
       "  <th>Covariance Type:</th>      <td>nonrobust</td>    <th>                     </th>              <td> </td>    \n",
       "</tr>\n",
       "</table>\n",
       "<table class=\"simpletable\">\n",
       "<tr>\n",
       "   <td></td>     <th>coef</th>     <th>std err</th>      <th>t</th>      <th>P>|t|</th>  <th>[0.025</th>    <th>0.975]</th>  \n",
       "</tr>\n",
       "<tr>\n",
       "  <th>CA</th> <td>    0.1169</td> <td>    0.003</td> <td>   43.054</td> <td> 0.000</td> <td>    0.112</td> <td>    0.122</td>\n",
       "</tr>\n",
       "<tr>\n",
       "  <th>UK</th> <td>    0.1203</td> <td>    0.001</td> <td>   99.005</td> <td> 0.000</td> <td>    0.118</td> <td>    0.123</td>\n",
       "</tr>\n",
       "<tr>\n",
       "  <th>US</th> <td>    0.1196</td> <td>    0.001</td> <td>  165.051</td> <td> 0.000</td> <td>    0.118</td> <td>    0.121</td>\n",
       "</tr>\n",
       "</table>\n",
       "<table class=\"simpletable\">\n",
       "<tr>\n",
       "  <th>Omnibus:</th>       <td>125219.738</td> <th>  Durbin-Watson:     </th>  <td>   1.992</td> \n",
       "</tr>\n",
       "<tr>\n",
       "  <th>Prob(Omnibus):</th>   <td> 0.000</td>   <th>  Jarque-Bera (JB):  </th> <td>412005.949</td>\n",
       "</tr>\n",
       "<tr>\n",
       "  <th>Skew:</th>            <td> 2.339</td>   <th>  Prob(JB):          </th>  <td>    0.00</td> \n",
       "</tr>\n",
       "<tr>\n",
       "  <th>Kurtosis:</th>        <td> 6.485</td>   <th>  Cond. No.          </th>  <td>    3.75</td> \n",
       "</tr>\n",
       "</table><br/><br/>Notes:<br/>[1] R² is computed without centering (uncentered) since the model does not contain a constant.<br/>[2] Standard Errors assume that the covariance matrix of the errors is correctly specified."
      ],
      "text/plain": [
       "<class 'statsmodels.iolib.summary.Summary'>\n",
       "\"\"\"\n",
       "                                 OLS Regression Results                                \n",
       "=======================================================================================\n",
       "Dep. Variable:              converted   R-squared (uncentered):                   0.118\n",
       "Model:                            OLS   Adj. R-squared (uncentered):              0.118\n",
       "Method:                 Least Squares   F-statistic:                          1.297e+04\n",
       "Date:                Fri, 30 Jun 2023   Prob (F-statistic):                        0.00\n",
       "Time:                        15:20:35   Log-Likelihood:                         -85522.\n",
       "No. Observations:              290584   AIC:                                  1.711e+05\n",
       "Df Residuals:                  290581   BIC:                                  1.711e+05\n",
       "Df Model:                           3                                                  \n",
       "Covariance Type:            nonrobust                                                  \n",
       "==============================================================================\n",
       "                 coef    std err          t      P>|t|      [0.025      0.975]\n",
       "------------------------------------------------------------------------------\n",
       "CA             0.1169      0.003     43.054      0.000       0.112       0.122\n",
       "UK             0.1203      0.001     99.005      0.000       0.118       0.123\n",
       "US             0.1196      0.001    165.051      0.000       0.118       0.121\n",
       "==============================================================================\n",
       "Omnibus:                   125219.738   Durbin-Watson:                   1.992\n",
       "Prob(Omnibus):                  0.000   Jarque-Bera (JB):           412005.949\n",
       "Skew:                           2.339   Prob(JB):                         0.00\n",
       "Kurtosis:                       6.485   Cond. No.                         3.75\n",
       "==============================================================================\n",
       "\n",
       "Notes:\n",
       "[1] R² is computed without centering (uncentered) since the model does not contain a constant.\n",
       "[2] Standard Errors assume that the covariance matrix of the errors is correctly specified.\n",
       "\"\"\""
      ]
     },
     "execution_count": 46,
     "metadata": {},
     "output_type": "execute_result"
    }
   ],
   "source": [
    "df_merged['intercept']=1\n",
    "lm = sm.OLS(df_merged['converted'],df_merged[['CA','UK','US']])\n",
    "results = lm.fit()\n",
    "results.summary()"
   ]
  },
  {
   "cell_type": "code",
   "execution_count": null,
   "id": "fe3a9186",
   "metadata": {},
   "outputs": [],
   "source": []
  },
  {
   "cell_type": "code",
   "execution_count": null,
   "id": "70d270da",
   "metadata": {},
   "outputs": [],
   "source": []
  }
 ],
 "metadata": {
  "kernelspec": {
   "display_name": "Python 3 (ipykernel)",
   "language": "python",
   "name": "python3"
  },
  "language_info": {
   "codemirror_mode": {
    "name": "ipython",
    "version": 3
   },
   "file_extension": ".py",
   "mimetype": "text/x-python",
   "name": "python",
   "nbconvert_exporter": "python",
   "pygments_lexer": "ipython3",
   "version": "3.10.9"
  }
 },
 "nbformat": 4,
 "nbformat_minor": 5
}
