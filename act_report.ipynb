{
 "cells": [
  {
   "cell_type": "markdown",
   "metadata": {},
   "source": [
    "## Report: act_report\n",
    "* Create a **250-word-minimum written report** called \"act_report.pdf\" or \"act_report.html\" that communicates the insights and displays the visualization(s) produced from your wrangled data. This is to be framed as an external document, like a blog post or magazine article, for example."
   ]
  },
  {
   "attachments": {
    "charts.png": {
     "image/png": "[encoded data removed]"
    }
   },
   "cell_type": "markdown",
   "metadata": {},
   "source": [
    "### Introduction\n",
    "\n",
    "This is the report on the insights and visualization from the dataset extracted from the *@WeRateDogs* twitter handle. The dataset was cleaned by ensuring there are no missing data, data values are valid, complete and consistent across rows. I also ensured that each variable has its own column, each observation has its own row and each observational unit has its own table to ensure data tidiness.\n",
    "\n",
    "### Analysis and Insights\n",
    "The three insights extracted from the data are as follows:\n",
    "\n",
    "1) Determine the Dog type with their average ratings, arranged in descending order\n",
    "\n",
    "This insight is useful because it will enable users to know which dogs are rated most highly by dog lovers on the @WeRateDogs twitter handle. This can also influence their decision on acquiring new dogs or selling one.\n",
    "After analysis, the result showed that the pupper breed has the highest total average ratings of 238.1, doggo came second with cumulative ratings of 94.9, followed by the ratings of 28.9 and 9.5 for puppo and floofer breeds respectively.\n",
    "\n",
    "\n",
    "2) Determine the type or breed of dog that has the highest retweets\n",
    "This data is motivated by the need for users to know which dog type was shared the most on social media, portraying their popularity. After analysis, the result showed that the doggo breed was shared the most. Meaning its safe to say that doggo is the most popular breed on the channel.\n",
    "\n",
    "3) Determine the type or breed of dog with the highest favorites/likes\n",
    "It is useful for users to know which dog type was liked the most on twitter, portraying their sweetness. After analysis, it does not come as a surprise that the pupper breed was like the most on the platform, given that oyit also has the highest ratings.\n",
    "\n",
    "### Visualization\n",
    " - Plot a bar chart to show the absolute frequency of dog types.\n",
    " \n",
    " -  The explanatory data visualization as shown in the image below shows that pupper breed dominated the dataset with over 200 records, while floofer comes last with 8 records\n",
    "\n",
    " ![charts.png](attachment:charts.png)"
   ]
  },
  {
   "cell_type": "markdown",
   "metadata": {},
   "source": [
    "## APPENDIX"
   ]
  },
  {
   "cell_type": "code",
   "execution_count": 1,
   "metadata": {},
   "outputs": [],
   "source": [
    "# Importing necessary modules\n",
    "import pandas as pd\n",
    "import matplotlib.pyplot as plt\n",
    "% matplotlib inline"
   ]
  },
  {
   "cell_type": "code",
   "execution_count": 2,
   "metadata": {},
   "outputs": [],
   "source": [
    "twitter_archive_master = pd.read_csv(\"twitter_archive_master.csv\")"
   ]
  },
  {
   "cell_type": "markdown",
   "metadata": {},
   "source": [
    "### Insights\n",
    "\n",
    "The three insights extracted from the data are as follows:\n",
    "\n",
    "1. Determine the Dog type with their average ratings, arranged in descending order\n",
    "\n",
    "2. Determine the type or breed of dog that has the highest retweets\n",
    "\n",
    "3. Determine the type or breed of dog with the highest favorites/likes "
   ]
  },
  {
   "cell_type": "markdown",
   "metadata": {},
   "source": [
    "### Visualizations\n",
    "\n",
    "1. Plot a bar chart to show the absolute frequency of dog types"
   ]
  },
  {
   "cell_type": "markdown",
   "metadata": {},
   "source": [
    "### Issue 1:\n",
    "Determine the Dog type with their average ratings, arranged in descending order"
   ]
  },
  {
   "cell_type": "markdown",
   "metadata": {},
   "source": [
    "### Motivation: \n",
    "This will enable users to know which dogs are rated most highly by dog lovers on the *@WeRateDogs* twitter handle. This can influence their decision on acquiring new dogs or selling one."
   ]
  },
  {
   "cell_type": "code",
   "execution_count": 3,
   "metadata": {},
   "outputs": [],
   "source": [
    "# Find the` ratings average for fair analysis\n",
    "twitter_archive_master[\"rating_average\"] = twitter_archive_master[\"rating_numerator\"] / twitter_archive_master[\"rating_denominator\"]"
   ]
  },
  {
   "cell_type": "markdown",
   "metadata": {},
   "source": [
    "Code:"
   ]
  },
  {
   "cell_type": "code",
   "execution_count": 4,
   "metadata": {},
   "outputs": [
    {
     "data": {
      "text/plain": [
       "type\n",
       "pupper     238.1\n",
       "doggo       94.9\n",
       "puppo       28.9\n",
       "floofer      9.5\n",
       "Name: rating_average, dtype: float64"
      ]
     },
     "execution_count": 4,
     "metadata": {},
     "output_type": "execute_result"
    }
   ],
   "source": [
    "### Code:\n",
    "twitter_archive_master.groupby(\"type\")[\"rating_average\"].sum().sort_values(ascending=False)"
   ]
  },
  {
   "cell_type": "markdown",
   "metadata": {},
   "source": [
    "### Result and Discussion:\n",
    "The result showed that the pupper breed has the highest total average ratings of 238.1, doggo came second with cumulative ratings of 94.9, followed by the ratings of 28.9 and 9.5 for puppo and floofer breeds respectively.\n"
   ]
  },
  {
   "cell_type": "markdown",
   "metadata": {},
   "source": [
    "### Issue 2:\n",
    "Determine the type or breed of dog that has the highest retweets"
   ]
  },
  {
   "cell_type": "markdown",
   "metadata": {},
   "source": [
    "### Motivation: \n",
    "This will enable users to know which dog type was shared the most on social media, portraying their popularity"
   ]
  },
  {
   "cell_type": "code",
   "execution_count": 5,
   "metadata": {},
   "outputs": [
    {
     "data": {
      "text/plain": [
       "'doggo'"
      ]
     },
     "execution_count": 5,
     "metadata": {},
     "output_type": "execute_result"
    }
   ],
   "source": [
    "twitter_archive_master.groupby(\"type\")[\"retweet_count\"].sum().sort_values(ascending=False).index[0]"
   ]
  },
  {
   "cell_type": "markdown",
   "metadata": {},
   "source": [
    "### Result and Discussion:\n",
    "The result showed that the doggo breed was shared the most. Meaning its safe to say that doggo is the most popular breed on the channel"
   ]
  },
  {
   "cell_type": "markdown",
   "metadata": {},
   "source": [
    "### Issue 3:\n",
    "Determine the type or breed of dog with the highest favorites/likes"
   ]
  },
  {
   "cell_type": "markdown",
   "metadata": {},
   "source": [
    "### Motivation: \n",
    "This will enable users to know which dog type was liked the most on twitter, portraying their sweetness"
   ]
  },
  {
   "cell_type": "code",
   "execution_count": 6,
   "metadata": {},
   "outputs": [
    {
     "data": {
      "text/plain": [
       "'pupper'"
      ]
     },
     "execution_count": 6,
     "metadata": {},
     "output_type": "execute_result"
    }
   ],
   "source": [
    "twitter_archive_master.groupby(\"type\")[\"favorite_count\"].sum().sort_values(ascending=False).index[0]"
   ]
  },
  {
   "cell_type": "markdown",
   "metadata": {},
   "source": [
    "### Result and Discussion:\n",
    "It does not come as a surprise that the pupper breed was like the most on the platform, given that oyit also has the highest ratings."
   ]
  },
  {
   "cell_type": "markdown",
   "metadata": {},
   "source": [
    "### Visualizations"
   ]
  },
  {
   "cell_type": "code",
   "execution_count": 7,
   "metadata": {},
   "outputs": [
    {
     "data": {
      "image/png": "[encoded data removed]",
      "text/plain": [
       "<matplotlib.figure.Figure at 0x7f6f0cb16cc0>"
      ]
     },
     "metadata": {
      "needs_background": "light"
     },
     "output_type": "display_data"
    },
    {
     "data": {
      "text/html": [
       "<div>\n",
       "<style scoped>\n",
       "    .dataframe tbody tr th:only-of-type {\n",
       "        vertical-align: middle;\n",
       "    }\n",
       "\n",
       "    .dataframe tbody tr th {\n",
       "        vertical-align: top;\n",
       "    }\n",
       "\n",
       "    .dataframe thead th {\n",
       "        text-align: right;\n",
       "    }\n",
       "</style>\n",
       "<table border=\"1\" class=\"dataframe\">\n",
       "  <thead>\n",
       "    <tr style=\"text-align: right;\">\n",
       "      <th></th>\n",
       "      <th>type</th>\n",
       "    </tr>\n",
       "  </thead>\n",
       "  <tbody>\n",
       "    <tr>\n",
       "      <th>doggo</th>\n",
       "      <td>80</td>\n",
       "    </tr>\n",
       "    <tr>\n",
       "      <th>floofer</th>\n",
       "      <td>8</td>\n",
       "    </tr>\n",
       "    <tr>\n",
       "      <th>pupper</th>\n",
       "      <td>221</td>\n",
       "    </tr>\n",
       "    <tr>\n",
       "      <th>puppo</th>\n",
       "      <td>24</td>\n",
       "    </tr>\n",
       "  </tbody>\n",
       "</table>\n",
       "</div>"
      ],
      "text/plain": [
       "         type\n",
       "doggo      80\n",
       "floofer     8\n",
       "pupper    221\n",
       "puppo      24"
      ]
     },
     "execution_count": 7,
     "metadata": {},
     "output_type": "execute_result"
    }
   ],
   "source": [
    "# Plot bar chart for to show the absolute frequency of dog types\n",
    "\n",
    "# Return the wunique values of dog type\n",
    "x = sorted(twitter_archive_master[\"type\"].unique())\n",
    "\n",
    "# Return the type with frequency count of each unique value\n",
    "y = twitter_archive_master[\"type\"].value_counts().sort_index()\n",
    "\n",
    "# Plot the graph\n",
    "plt.bar(x, y)\n",
    "\n",
    "# Labeling the axes\n",
    "plt.ylabel(\"Frequency of dog types\");\n",
    "plt.xlabel(\"Dog types\");\n",
    "plt.title(\"Plot showing graph of absolute frequency of dog types in the dataset\")\n",
    "\n",
    "# Display the plot\n",
    "plt.show()\n",
    "\n",
    "\n",
    "pd.DataFrame(twitter_archive_master[\"type\"].value_counts().sort_index())\n"
   ]
  },
  {
   "cell_type": "code",
   "execution_count": null,
   "metadata": {},
   "outputs": [],
   "source": []
  }
 ],
 "metadata": {
  "kernelspec": {
   "display_name": "Python 3",
   "language": "python",
   "name": "python3"
  },
  "language_info": {
   "codemirror_mode": {
    "name": "ipython",
    "version": 3
   },
   "file_extension": ".py",
   "mimetype": "text/x-python",
   "name": "python",
   "nbconvert_exporter": "python",
   "pygments_lexer": "ipython3",
   "version": "3.6.3"
  }
 },
 "nbformat": 4,
 "nbformat_minor": 2
}
