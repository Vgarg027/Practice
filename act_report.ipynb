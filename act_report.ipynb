{
 "cells": [
  {
   "cell_type": "markdown",
   "metadata": {},
   "source": [
    "## Report: act_report\n",
    "* Create a **250-word-minimum written report** called \"act_report.pdf\" or \"act_report.html\" that communicates the insights and displays the visualization(s) produced from your wrangled data. This is to be framed as an external document, like a blog post or magazine article, for example."
   ]
  },
  {
   "cell_type": "markdown",
   "metadata": {},
   "source": [
    "Decoding Dog Popularity: A Twitter Analysis\n",
    "Unveiling the Most Talked-About Breeds on Social Media\n",
    "\n",
    "In the digital age, social media platforms serve as vast reservoirs of public sentiment and interest. For dog enthusiasts and data scientists alike, Twitter offers a unique lens into the collective adoration for our canine companions. Our recent analysis delved into a rich dataset of dog-related tweets, meticulously gathered and cleaned, to uncover a fascinating insight: which dog breeds capture the most attention on this bustling platform?\n",
    "\n",
    "The journey began with robust data wrangling, transforming raw data from Twitter archives, image prediction models, and the Twitter API into a cohesive and clean master dataset. This crucial phase involved tackling missing values, standardizing data types, consolidating redundant columns, and diligently filtering out irrelevant entries such as retweets or non-dog predictions. The result is a refined dataset ready to reveal compelling patterns about our furry friends.\n",
    "\n",
    "Our primary objective was to identify the dog breeds that generated the highest volume of tweets. The hypothesis was that breeds often associated with high \"favorite\" counts might also dominate tweet conversations. To test this, we aggregated tweet counts by predicted dog breed, sorting the results to highlight the most frequently mentioned.\n",
    "\n",
    "The findings were quite illuminating. As visualized in the chart below, the Golden Retriever unequivocally stands out as the most tweeted-about dog breed, accumulating a remarkable 158 mentions in our dataset. Following behind, but still highly popular, are the Labrador Retriever with 108 tweets, and the ever-charming Pembroke (likely Pembroke Welsh Corgi) with 95 tweets. The adorable Chihuahua garnered 91 tweets, and the distinctive Pug rounded out the top five with 62 tweets.\n",
    "\n",
    "This analysis not only confirms the enduring popularity of certain breeds but also demonstrates the power of data in understanding public engagement. Future explorations could delve into the sentiment surrounding these tweets, geographical trends, or even the correlation between tweet volume and actual adoption rates. For now, it's clear that Golden Retrievers continue to reign supreme in the hearts and tweets of many!\n",
    "\n",
    "Bar chart showing the top 5 dog breeds by tweet count.\n",
    "Figure 1: Top 5 Dog Breeds by Tweet Count on Twitter"
   ]
  }
 ],
 "metadata": {
  "kernelspec": {
   "display_name": "Python 3",
   "language": "python",
   "name": "python3"
  },
  "language_info": {
   "codemirror_mode": {
    "name": "ipython",
    "version": 3
   },
   "file_extension": ".py",
   "mimetype": "text/x-python",
   "name": "python",
   "nbconvert_exporter": "python",
   "pygments_lexer": "ipython3",
   "version": "3.6.3"
  }
 },
 "nbformat": 4,
 "nbformat_minor": 2
}
