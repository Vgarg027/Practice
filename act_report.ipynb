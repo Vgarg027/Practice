{
 "cells": [
  {
   "cell_type": "markdown",
   "metadata": {},
   "source": [
    "## Report: act_report\n",
    "* Create a **250-word-minimum written report** called \"act_report.pdf\" or \"act_report.html\" that communicates the insights and displays the visualization(s) produced from your wrangled data. This is to be framed as an external document, like a blog post or magazine article, for example."
   ]
  },
  {
   "cell_type": "markdown",
   "metadata": {},
   "source": [
    "I've looked at the dataset 'tweet archive of Twitter user @dog_rates' also known as WeRateDogs. WeRateDogs is a Twitter account that rates people's dogs with a humorous comment about the dog. After gathering, assessing and cleaning the data, I saved the cleaned version to a csv file. Namely in the twitter_archive_master.csv file. I then visualized and observed the cleaned version. I have thought about what observations and conclusions I can draw. In total I found three observations. The first question I looked at is 'Which race appears the most in the dataframe?'. After running through some codes and illustrating visualizations, I closed the result 'The most race which appears in the dataframe is the golden retriever'. All breeds are arranged very nicely according to the series and the viewer recognizes the order very well. The golden retriever is first, the labrador retriever second, the pembroke third, the chihuahua fourth, and the pug last in the visualization. The second question is 'Which source is used the most?'. The code results spoke for themselves and the result 'The most used source is Twitter on IPhone' emerged. That means the most user are Iphone user. The last question is 'Which different stages of the dog are most common in the dataframe?'. I did the same process. The end result is 'The most common stage of the dog in the dataframe is 'None''. However, the visualization clearly shows that the dog stage 'pupper' covers the entire area and is therefore the largest dog stage."
   ]
  }
 ],
 "metadata": {
  "kernelspec": {
   "display_name": "Python 3",
   "language": "python",
   "name": "python3"
  },
  "language_info": {
   "codemirror_mode": {
    "name": "ipython",
    "version": 3
   },
   "file_extension": ".py",
   "mimetype": "text/x-python",
   "name": "python",
   "nbconvert_exporter": "python",
   "pygments_lexer": "ipython3",
   "version": "3.6.3"
  }
 },
 "nbformat": 4,
 "nbformat_minor": 2
}
