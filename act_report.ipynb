{
 "cells": [
  {
   "cell_type": "markdown",
   "id": "87e4c76d",
   "metadata": {},
   "source": [
    "I had three insights from my analysis after wrangling and storing my data. The insights were based on the correlation and causation i looked for during the analysis\n",
    "## - ` The Insights were`:\n",
    "\n",
    "1.  It can be clearly seen that there were more ratings in the year 2016,therefore the year the rating were done had an effect on the ratings\n",
    "2. It can also be inferred that the dogs without stated dog stages even got the most reviews,but among the dogs with stated stages, the dogs at the doggo stage had more reviews than the others\n",
    "3.  There was no relationship bewtween the sources(that is,the devices these tweets were made from,all tweets were from an iphone, so there is no valid relationship between the source and the rating numerators.\n",
    "\n",
    "I was able to come to the above insights by duely analysing these columns and using the groupby pandas function to analyse the target which is the ratings numerator,alongside some features which seemingly had significant correlations. I created a separate column for the ratings years after extracting the year string from the timestamp "
   ]
  },
  {
   "cell_type": "markdown",
   "id": "ba9cfb2c",
   "metadata": {},
   "source": [
    "My visualization is a plot of insight 2, which shows the insight visually, a plot of the dog stages and the rating_numerators"
   ]
  },
  {
   "cell_type": "code",
   "execution_count": 1,
   "id": "24ea6f75",
   "metadata": {
    "collapsed": true
   },
   "outputs": [
    {
     "ename": "NameError",
     "evalue": "name 'twitter_archive' is not defined",
     "output_type": "error",
     "traceback": [
      "\u001b[1;31m---------------------------------------------------------------------------\u001b[0m",
      "\u001b[1;31mNameError\u001b[0m                                 Traceback (most recent call last)",
      "Input \u001b[1;32mIn [1]\u001b[0m, in \u001b[0;36m<cell line: 1>\u001b[1;34m()\u001b[0m\n\u001b[1;32m----> 1\u001b[0m x \u001b[38;5;241m=\u001b[39m \u001b[43mtwitter_archive\u001b[49m\u001b[38;5;241m.\u001b[39mDog_stages\u001b[38;5;241m.\u001b[39mvalues\n\u001b[0;32m      2\u001b[0m y \u001b[38;5;241m=\u001b[39m twitter_archive\u001b[38;5;241m.\u001b[39mrating_numerator\u001b[38;5;241m.\u001b[39mvalues\n\u001b[0;32m      3\u001b[0m plt\u001b[38;5;241m.\u001b[39mfigure(figsize\u001b[38;5;241m=\u001b[39m(\u001b[38;5;241m15\u001b[39m,\u001b[38;5;241m10\u001b[39m))\n",
      "\u001b[1;31mNameError\u001b[0m: name 'twitter_archive' is not defined"
     ]
    }
   ],
   "source": [
    "x = twitter_archive.Dog_stages.values\n",
    "y = twitter_archive.rating_numerator.values\n",
    "plt.figure(figsize=(15,10))\n",
    "plt.title('Rating Numerator Vs Dog stages')\n",
    "plt.xlabel('Dog_Stages')\n",
    "plt.ylabel('Rating numerator')\n",
    "plt.bar(x,y,color = 'maroon')\n",
    "plt.grid()"
   ]
  },
  {
   "cell_type": "code",
   "execution_count": null,
   "id": "006098cb",
   "metadata": {},
   "outputs": [],
   "source": []
  }
 ],
 "metadata": {
  "kernelspec": {
   "display_name": "Python 3 (ipykernel)",
   "language": "python",
   "name": "python3"
  },
  "language_info": {
   "codemirror_mode": {
    "name": "ipython",
    "version": 3
   },
   "file_extension": ".py",
   "mimetype": "text/x-python",
   "name": "python",
   "nbconvert_exporter": "python",
   "pygments_lexer": "ipython3",
   "version": "3.9.12"
  }
 },
 "nbformat": 4,
 "nbformat_minor": 5
}
