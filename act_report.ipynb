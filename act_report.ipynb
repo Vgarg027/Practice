{
 "cells": [
  {
   "cell_type": "markdown",
   "metadata": {},
   "source": [
    "# Analysis\n",
    "This data contains twitter archives for dog ratings. The clean dataset is stored in csv format in file named twitter_archive_master.csv. It also has the analysis done by 3 algorithms which detect the type of dog as per different accuracy.\n",
    "- On calculatin rating in decimal as rating_numerator/rating_denominator, the maximum rating comes out to be 7.5 which is under the tweet id: 786709082849828864, and as per the first algorithm (which has highest accuracy for this row, it is a Pomeranian\n",
    "- On sorting the data as per the favorite count, the most favorite dog type comes out to be Lakeland terrier which is in puppo stage. It has count of 132810. Also, on checking the top five records when sorted by favorite count, the top four dog types are Labrador retriever, English springer, Chihuahua,French bulldog\n",
    "- I have looked at the percentage count of different type of values present in each column for the dog types- p1, p2 and p3. As per the p1 algorithm, maximum number of dogs are golden retriever, as per p2, it is Labrador retriever. As per p3 also, it is Labrador retriever. Also, looking at the confidence of different algorithms, p1 seems to be most accurate. \n",
    "\n",
    "# Visual Display\n",
    "I have plotted a pie chart using matplotlib library and the final dataframe which is created, displaying different dog stages. From the graph, it shows that dog stage is not present for most of the entries. FOr the ones where it is specified, puppo comes out to be the most common dog stage amongest this data. Visual plot is available in thw wrangle_act.ipynb jupyter notebook."
   ]
  },
  {
   "cell_type": "code",
   "execution_count": null,
   "metadata": {},
   "outputs": [],
   "source": []
  }
 ],
 "metadata": {
  "kernelspec": {
   "display_name": "Python 3",
   "language": "python",
   "name": "python3"
  },
  "language_info": {
   "codemirror_mode": {
    "name": "ipython",
    "version": 3
   },
   "file_extension": ".py",
   "mimetype": "text/x-python",
   "name": "python",
   "nbconvert_exporter": "python",
   "pygments_lexer": "ipython3",
   "version": "3.6.3"
  }
 },
 "nbformat": 4,
 "nbformat_minor": 2
}
