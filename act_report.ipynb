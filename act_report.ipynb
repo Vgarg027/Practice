{
 "cells": [
  {
   "cell_type": "markdown",
   "metadata": {},
   "source": [
    "## Report: act_report\n",
    "* Create a **250-word-minimum written report** called \"act_report.pdf\" or \"act_report.html\" that communicates the insights and displays the visualization(s) produced from your wrangled data. This is to be framed as an external document, like a blog post or magazine article, for example."
   ]
  },
  {
   "cell_type": "markdown",
   "metadata": {},
   "source": [
    "### The analysis and visualizations on the dogs data was intersting, we found different insights and visualizations regarding:\n",
    "\n",
    "- <b> what dog types people tend to like more in average. </b>\n",
    "- <b> What dogs names are more famous. </b>\n",
    "- <b> The relationship between likes and retweets in dogs tweets. </b>"
   ]
  },
  {
   "cell_type": "markdown",
   "metadata": {},
   "source": [
    "### 1 - Top favorites dogs types"
   ]
  },
  {
   "cell_type": "markdown",
   "metadata": {},
   "source": [
    "<b> We used a bar chart to view the dog type and the average tweet likes. </b>"
   ]
  },
  {
   "cell_type": "markdown",
   "metadata": {},
   "source": [
    "<img src=\"dog_types_favs.png\"> "
   ]
  },
  {
   "cell_type": "markdown",
   "metadata": {},
   "source": [
    "<b> According to our data, the most dog types that people tend to like the tweet of are: </b>\n",
    " - Saluki    \n",
    " - French bulldog  \n",
    " - Afghan hound  \n",
    " - Black and tan coonhound    \n",
    " - Flat coated retriever \n",
    " - Irish water spaniel   \n",
    " - Standard poodle    \n",
    " - English springer \n",
    " - Cardigan              \n",
    " - Leonberg               \n",
    "     "
   ]
  },
  {
   "cell_type": "markdown",
   "metadata": {},
   "source": [
    "### 2 - Top common dogs names"
   ]
  },
  {
   "cell_type": "markdown",
   "metadata": {},
   "source": [
    "<b> We used a word cloud chart to view the most common dogs names, the bigger the name, the most common it is. </b>"
   ]
  },
  {
   "cell_type": "markdown",
   "metadata": {},
   "source": [
    "<img src=\"dogs_names.png\"> "
   ]
  },
  {
   "cell_type": "markdown",
   "metadata": {},
   "source": [
    "<b> We can see in the word cloud chart that the most common dog names are: </b>\n",
    " - bella      \n",
    " - Cooper     \n",
    " - Charlie     \n",
    " - Oliver       \n",
    " - Lucy         \n",
    " - Tucker      \n",
    " - Daisy        \n",
    " - Sadie        \n",
    " - Penny        \n",
    " - Jax   \n",
    " <br>\n",
    "However, the name bella is most common because it was choosen randomly by our code in cleaning data section, the actual most common starts descending down from the name Cooper."
   ]
  },
  {
   "cell_type": "markdown",
   "metadata": {},
   "source": [
    "### 3 - Top relationship between likes and retweets in dogs tweets"
   ]
  },
  {
   "cell_type": "markdown",
   "metadata": {},
   "source": [
    "<b>A scatter plot is an excellent choice to plot the relationship between two variables, so we used it to compare the likes and retweets counts and the results was excatly as expected! </b>"
   ]
  },
  {
   "cell_type": "markdown",
   "metadata": {},
   "source": [
    "<img src=\"likes_rets.png\"> "
   ]
  },
  {
   "cell_type": "markdown",
   "metadata": {},
   "source": [
    "<b>There's a strong relationship between favorites and retweets for a tweet with a value of 0.91. </b>"
   ]
  }
 ],
 "metadata": {
  "kernelspec": {
   "display_name": "Python 3",
   "language": "python",
   "name": "python3"
  },
  "language_info": {
   "codemirror_mode": {
    "name": "ipython",
    "version": 3
   },
   "file_extension": ".py",
   "mimetype": "text/x-python",
   "name": "python",
   "nbconvert_exporter": "python",
   "pygments_lexer": "ipython3",
   "version": "3.6.3"
  }
 },
 "nbformat": 4,
 "nbformat_minor": 2
}
