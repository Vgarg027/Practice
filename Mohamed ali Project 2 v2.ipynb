{
 "cells": [
  {
   "cell_type": "markdown",
   "id": "afaab399",
   "metadata": {},
   "source": [
    "# introduction "
   ]
  },
  {
   "cell_type": "markdown",
   "id": "311e807b",
   "metadata": {},
   "source": [
    "- We will ask some important questions about database to know what is the factors affect on patient's showing up or not"
   ]
  },
  {
   "cell_type": "markdown",
   "id": "d57cd84e",
   "metadata": {},
   "source": [
    "---"
   ]
  },
  {
   "cell_type": "markdown",
   "id": "067f83ef",
   "metadata": {},
   "source": [
    "# Questions \n",
    "\n",
    "### Is Show up affected by Gender ?\n",
    "### There is a relation between people that have scholarship and people which show up ? \n",
    "### There is a relation between people that recevie SMS and people which show up ?\n",
    "### How is age affecting the patient's absence ?\n",
    "### After this questions we will know what is the factors predict if a patient will show up or not "
   ]
  },
  {
   "cell_type": "code",
   "execution_count": 91,
   "id": "3b83c21a",
   "metadata": {},
   "outputs": [],
   "source": [
    "#import liberaries\n",
    "import numpy as np\n",
    "import pandas as pd\n",
    "import matplotlib.pyplot as plt\n",
    "import seaborn as sn\n",
    "%matplotlib inline"
   ]
  },
  {
   "cell_type": "code",
   "execution_count": 92,
   "id": "a70eb7c9",
   "metadata": {},
   "outputs": [],
   "source": [
    "# functions \n",
    "def piechart (x,y,z,n):\n",
    "    plt.pie(x, labels = [y, z], autopct='%1.3f%%', );\n",
    "    plt.title(n);"
   ]
  },
  {
   "cell_type": "code",
   "execution_count": 93,
   "id": "ad73e7bc",
   "metadata": {},
   "outputs": [
    {
     "data": {
      "text/html": [
       "<div>\n",
       "<style scoped>\n",
       "    .dataframe tbody tr th:only-of-type {\n",
       "        vertical-align: middle;\n",
       "    }\n",
       "\n",
       "    .dataframe tbody tr th {\n",
       "        vertical-align: top;\n",
       "    }\n",
       "\n",
       "    .dataframe thead th {\n",
       "        text-align: right;\n",
       "    }\n",
       "</style>\n",
       "<table border=\"1\" class=\"dataframe\">\n",
       "  <thead>\n",
       "    <tr style=\"text-align: right;\">\n",
       "      <th></th>\n",
       "      <th>PatientId</th>\n",
       "      <th>AppointmentID</th>\n",
       "      <th>Gender</th>\n",
       "      <th>ScheduledDay</th>\n",
       "      <th>AppointmentDay</th>\n",
       "      <th>Age</th>\n",
       "      <th>Neighbourhood</th>\n",
       "      <th>Scholarship</th>\n",
       "      <th>Hipertension</th>\n",
       "      <th>Diabetes</th>\n",
       "      <th>Alcoholism</th>\n",
       "      <th>Handcap</th>\n",
       "      <th>SMS_received</th>\n",
       "      <th>No-show</th>\n",
       "    </tr>\n",
       "  </thead>\n",
       "  <tbody>\n",
       "    <tr>\n",
       "      <th>0</th>\n",
       "      <td>2.987250e+13</td>\n",
       "      <td>5642903</td>\n",
       "      <td>F</td>\n",
       "      <td>2016-04-29T18:38:08Z</td>\n",
       "      <td>2016-04-29T00:00:00Z</td>\n",
       "      <td>62</td>\n",
       "      <td>JARDIM DA PENHA</td>\n",
       "      <td>0</td>\n",
       "      <td>1</td>\n",
       "      <td>0</td>\n",
       "      <td>0</td>\n",
       "      <td>0</td>\n",
       "      <td>0</td>\n",
       "      <td>No</td>\n",
       "    </tr>\n",
       "    <tr>\n",
       "      <th>1</th>\n",
       "      <td>5.589978e+14</td>\n",
       "      <td>5642503</td>\n",
       "      <td>M</td>\n",
       "      <td>2016-04-29T16:08:27Z</td>\n",
       "      <td>2016-04-29T00:00:00Z</td>\n",
       "      <td>56</td>\n",
       "      <td>JARDIM DA PENHA</td>\n",
       "      <td>0</td>\n",
       "      <td>0</td>\n",
       "      <td>0</td>\n",
       "      <td>0</td>\n",
       "      <td>0</td>\n",
       "      <td>0</td>\n",
       "      <td>No</td>\n",
       "    </tr>\n",
       "    <tr>\n",
       "      <th>2</th>\n",
       "      <td>4.262962e+12</td>\n",
       "      <td>5642549</td>\n",
       "      <td>F</td>\n",
       "      <td>2016-04-29T16:19:04Z</td>\n",
       "      <td>2016-04-29T00:00:00Z</td>\n",
       "      <td>62</td>\n",
       "      <td>MATA DA PRAIA</td>\n",
       "      <td>0</td>\n",
       "      <td>0</td>\n",
       "      <td>0</td>\n",
       "      <td>0</td>\n",
       "      <td>0</td>\n",
       "      <td>0</td>\n",
       "      <td>No</td>\n",
       "    </tr>\n",
       "    <tr>\n",
       "      <th>3</th>\n",
       "      <td>8.679512e+11</td>\n",
       "      <td>5642828</td>\n",
       "      <td>F</td>\n",
       "      <td>2016-04-29T17:29:31Z</td>\n",
       "      <td>2016-04-29T00:00:00Z</td>\n",
       "      <td>8</td>\n",
       "      <td>PONTAL DE CAMBURI</td>\n",
       "      <td>0</td>\n",
       "      <td>0</td>\n",
       "      <td>0</td>\n",
       "      <td>0</td>\n",
       "      <td>0</td>\n",
       "      <td>0</td>\n",
       "      <td>No</td>\n",
       "    </tr>\n",
       "    <tr>\n",
       "      <th>4</th>\n",
       "      <td>8.841186e+12</td>\n",
       "      <td>5642494</td>\n",
       "      <td>F</td>\n",
       "      <td>2016-04-29T16:07:23Z</td>\n",
       "      <td>2016-04-29T00:00:00Z</td>\n",
       "      <td>56</td>\n",
       "      <td>JARDIM DA PENHA</td>\n",
       "      <td>0</td>\n",
       "      <td>1</td>\n",
       "      <td>1</td>\n",
       "      <td>0</td>\n",
       "      <td>0</td>\n",
       "      <td>0</td>\n",
       "      <td>No</td>\n",
       "    </tr>\n",
       "    <tr>\n",
       "      <th>5</th>\n",
       "      <td>9.598513e+13</td>\n",
       "      <td>5626772</td>\n",
       "      <td>F</td>\n",
       "      <td>2016-04-27T08:36:51Z</td>\n",
       "      <td>2016-04-29T00:00:00Z</td>\n",
       "      <td>76</td>\n",
       "      <td>REPÚBLICA</td>\n",
       "      <td>0</td>\n",
       "      <td>1</td>\n",
       "      <td>0</td>\n",
       "      <td>0</td>\n",
       "      <td>0</td>\n",
       "      <td>0</td>\n",
       "      <td>No</td>\n",
       "    </tr>\n",
       "    <tr>\n",
       "      <th>6</th>\n",
       "      <td>7.336882e+14</td>\n",
       "      <td>5630279</td>\n",
       "      <td>F</td>\n",
       "      <td>2016-04-27T15:05:12Z</td>\n",
       "      <td>2016-04-29T00:00:00Z</td>\n",
       "      <td>23</td>\n",
       "      <td>GOIABEIRAS</td>\n",
       "      <td>0</td>\n",
       "      <td>0</td>\n",
       "      <td>0</td>\n",
       "      <td>0</td>\n",
       "      <td>0</td>\n",
       "      <td>0</td>\n",
       "      <td>Yes</td>\n",
       "    </tr>\n",
       "    <tr>\n",
       "      <th>7</th>\n",
       "      <td>3.449833e+12</td>\n",
       "      <td>5630575</td>\n",
       "      <td>F</td>\n",
       "      <td>2016-04-27T15:39:58Z</td>\n",
       "      <td>2016-04-29T00:00:00Z</td>\n",
       "      <td>39</td>\n",
       "      <td>GOIABEIRAS</td>\n",
       "      <td>0</td>\n",
       "      <td>0</td>\n",
       "      <td>0</td>\n",
       "      <td>0</td>\n",
       "      <td>0</td>\n",
       "      <td>0</td>\n",
       "      <td>Yes</td>\n",
       "    </tr>\n",
       "    <tr>\n",
       "      <th>8</th>\n",
       "      <td>5.639473e+13</td>\n",
       "      <td>5638447</td>\n",
       "      <td>F</td>\n",
       "      <td>2016-04-29T08:02:16Z</td>\n",
       "      <td>2016-04-29T00:00:00Z</td>\n",
       "      <td>21</td>\n",
       "      <td>ANDORINHAS</td>\n",
       "      <td>0</td>\n",
       "      <td>0</td>\n",
       "      <td>0</td>\n",
       "      <td>0</td>\n",
       "      <td>0</td>\n",
       "      <td>0</td>\n",
       "      <td>No</td>\n",
       "    </tr>\n",
       "    <tr>\n",
       "      <th>9</th>\n",
       "      <td>7.812456e+13</td>\n",
       "      <td>5629123</td>\n",
       "      <td>F</td>\n",
       "      <td>2016-04-27T12:48:25Z</td>\n",
       "      <td>2016-04-29T00:00:00Z</td>\n",
       "      <td>19</td>\n",
       "      <td>CONQUISTA</td>\n",
       "      <td>0</td>\n",
       "      <td>0</td>\n",
       "      <td>0</td>\n",
       "      <td>0</td>\n",
       "      <td>0</td>\n",
       "      <td>0</td>\n",
       "      <td>No</td>\n",
       "    </tr>\n",
       "  </tbody>\n",
       "</table>\n",
       "</div>"
      ],
      "text/plain": [
       "      PatientId  AppointmentID Gender          ScheduledDay  \\\n",
       "0  2.987250e+13        5642903      F  2016-04-29T18:38:08Z   \n",
       "1  5.589978e+14        5642503      M  2016-04-29T16:08:27Z   \n",
       "2  4.262962e+12        5642549      F  2016-04-29T16:19:04Z   \n",
       "3  8.679512e+11        5642828      F  2016-04-29T17:29:31Z   \n",
       "4  8.841186e+12        5642494      F  2016-04-29T16:07:23Z   \n",
       "5  9.598513e+13        5626772      F  2016-04-27T08:36:51Z   \n",
       "6  7.336882e+14        5630279      F  2016-04-27T15:05:12Z   \n",
       "7  3.449833e+12        5630575      F  2016-04-27T15:39:58Z   \n",
       "8  5.639473e+13        5638447      F  2016-04-29T08:02:16Z   \n",
       "9  7.812456e+13        5629123      F  2016-04-27T12:48:25Z   \n",
       "\n",
       "         AppointmentDay  Age      Neighbourhood  Scholarship  Hipertension  \\\n",
       "0  2016-04-29T00:00:00Z   62    JARDIM DA PENHA            0             1   \n",
       "1  2016-04-29T00:00:00Z   56    JARDIM DA PENHA            0             0   \n",
       "2  2016-04-29T00:00:00Z   62      MATA DA PRAIA            0             0   \n",
       "3  2016-04-29T00:00:00Z    8  PONTAL DE CAMBURI            0             0   \n",
       "4  2016-04-29T00:00:00Z   56    JARDIM DA PENHA            0             1   \n",
       "5  2016-04-29T00:00:00Z   76          REPÚBLICA            0             1   \n",
       "6  2016-04-29T00:00:00Z   23         GOIABEIRAS            0             0   \n",
       "7  2016-04-29T00:00:00Z   39         GOIABEIRAS            0             0   \n",
       "8  2016-04-29T00:00:00Z   21         ANDORINHAS            0             0   \n",
       "9  2016-04-29T00:00:00Z   19          CONQUISTA            0             0   \n",
       "\n",
       "   Diabetes  Alcoholism  Handcap  SMS_received No-show  \n",
       "0         0           0        0             0      No  \n",
       "1         0           0        0             0      No  \n",
       "2         0           0        0             0      No  \n",
       "3         0           0        0             0      No  \n",
       "4         1           0        0             0      No  \n",
       "5         0           0        0             0      No  \n",
       "6         0           0        0             0     Yes  \n",
       "7         0           0        0             0     Yes  \n",
       "8         0           0        0             0      No  \n",
       "9         0           0        0             0      No  "
      ]
     },
     "execution_count": 93,
     "metadata": {},
     "output_type": "execute_result"
    }
   ],
   "source": [
    "#load data\n",
    "df = pd.read_csv('noshowappointments-kagglev2-may-2016.csv')\n",
    "#view head of data\n",
    "df.head(10)"
   ]
  },
  {
   "cell_type": "markdown",
   "id": "03def2ba",
   "metadata": {},
   "source": [
    "# Clean Data"
   ]
  },
  {
   "cell_type": "code",
   "execution_count": 94,
   "id": "11a0b07c",
   "metadata": {},
   "outputs": [
    {
     "name": "stdout",
     "output_type": "stream",
     "text": [
      "<class 'pandas.core.frame.DataFrame'>\n",
      "RangeIndex: 110527 entries, 0 to 110526\n",
      "Data columns (total 14 columns):\n",
      " #   Column          Non-Null Count   Dtype  \n",
      "---  ------          --------------   -----  \n",
      " 0   PatientId       110527 non-null  float64\n",
      " 1   AppointmentID   110527 non-null  int64  \n",
      " 2   Gender          110527 non-null  object \n",
      " 3   ScheduledDay    110527 non-null  object \n",
      " 4   AppointmentDay  110527 non-null  object \n",
      " 5   Age             110527 non-null  int64  \n",
      " 6   Neighbourhood   110527 non-null  object \n",
      " 7   Scholarship     110527 non-null  int64  \n",
      " 8   Hipertension    110527 non-null  int64  \n",
      " 9   Diabetes        110527 non-null  int64  \n",
      " 10  Alcoholism      110527 non-null  int64  \n",
      " 11  Handcap         110527 non-null  int64  \n",
      " 12  SMS_received    110527 non-null  int64  \n",
      " 13  No-show         110527 non-null  object \n",
      "dtypes: float64(1), int64(8), object(5)\n",
      "memory usage: 11.8+ MB\n"
     ]
    }
   ],
   "source": [
    "# info of data\n",
    "df.info()"
   ]
  },
  {
   "cell_type": "code",
   "execution_count": 95,
   "id": "6f8e99f8",
   "metadata": {},
   "outputs": [
    {
     "data": {
      "text/plain": [
       "0"
      ]
     },
     "execution_count": 95,
     "metadata": {},
     "output_type": "execute_result"
    }
   ],
   "source": [
    "#check for null\n",
    "df.isnull().sum().sum()\n",
    "#after check >> no null data\n",
    "#data is clean"
   ]
  },
  {
   "cell_type": "code",
   "execution_count": 96,
   "id": "8105ccd1",
   "metadata": {},
   "outputs": [
    {
     "data": {
      "text/html": [
       "<div>\n",
       "<style scoped>\n",
       "    .dataframe tbody tr th:only-of-type {\n",
       "        vertical-align: middle;\n",
       "    }\n",
       "\n",
       "    .dataframe tbody tr th {\n",
       "        vertical-align: top;\n",
       "    }\n",
       "\n",
       "    .dataframe thead th {\n",
       "        text-align: right;\n",
       "    }\n",
       "</style>\n",
       "<table border=\"1\" class=\"dataframe\">\n",
       "  <thead>\n",
       "    <tr style=\"text-align: right;\">\n",
       "      <th></th>\n",
       "      <th>PatientId</th>\n",
       "      <th>AppointmentID</th>\n",
       "      <th>Gender</th>\n",
       "      <th>ScheduledDay</th>\n",
       "      <th>AppointmentDay</th>\n",
       "      <th>Age</th>\n",
       "      <th>Neighbourhood</th>\n",
       "      <th>Scholarship</th>\n",
       "      <th>Hipertension</th>\n",
       "      <th>Diabetes</th>\n",
       "      <th>Alcoholism</th>\n",
       "      <th>Handcap</th>\n",
       "      <th>SMS_received</th>\n",
       "      <th>No-show</th>\n",
       "    </tr>\n",
       "  </thead>\n",
       "  <tbody>\n",
       "    <tr>\n",
       "      <th>99832</th>\n",
       "      <td>4.659432e+14</td>\n",
       "      <td>5775010</td>\n",
       "      <td>F</td>\n",
       "      <td>2016-06-06T08:58:13Z</td>\n",
       "      <td>2016-06-06T00:00:00Z</td>\n",
       "      <td>-1</td>\n",
       "      <td>ROMÃO</td>\n",
       "      <td>0</td>\n",
       "      <td>0</td>\n",
       "      <td>0</td>\n",
       "      <td>0</td>\n",
       "      <td>0</td>\n",
       "      <td>0</td>\n",
       "      <td>No</td>\n",
       "    </tr>\n",
       "  </tbody>\n",
       "</table>\n",
       "</div>"
      ],
      "text/plain": [
       "          PatientId  AppointmentID Gender          ScheduledDay  \\\n",
       "99832  4.659432e+14        5775010      F  2016-06-06T08:58:13Z   \n",
       "\n",
       "             AppointmentDay  Age Neighbourhood  Scholarship  Hipertension  \\\n",
       "99832  2016-06-06T00:00:00Z   -1         ROMÃO            0             0   \n",
       "\n",
       "       Diabetes  Alcoholism  Handcap  SMS_received No-show  \n",
       "99832         0           0        0             0      No  "
      ]
     },
     "execution_count": 96,
     "metadata": {},
     "output_type": "execute_result"
    }
   ],
   "source": [
    "#check for row\n",
    "df.loc[df['Age'] == -1]"
   ]
  },
  {
   "cell_type": "code",
   "execution_count": 97,
   "id": "5ff1fb2f",
   "metadata": {},
   "outputs": [],
   "source": [
    "# we found a age with -1 so we will clean it\n",
    "df.drop(labels=99832,axis=0,inplace=True)"
   ]
  },
  {
   "cell_type": "code",
   "execution_count": 98,
   "id": "4fe3edfd",
   "metadata": {},
   "outputs": [
    {
     "data": {
      "text/html": [
       "<div>\n",
       "<style scoped>\n",
       "    .dataframe tbody tr th:only-of-type {\n",
       "        vertical-align: middle;\n",
       "    }\n",
       "\n",
       "    .dataframe tbody tr th {\n",
       "        vertical-align: top;\n",
       "    }\n",
       "\n",
       "    .dataframe thead th {\n",
       "        text-align: right;\n",
       "    }\n",
       "</style>\n",
       "<table border=\"1\" class=\"dataframe\">\n",
       "  <thead>\n",
       "    <tr style=\"text-align: right;\">\n",
       "      <th></th>\n",
       "      <th>PatientId</th>\n",
       "      <th>AppointmentID</th>\n",
       "      <th>Gender</th>\n",
       "      <th>ScheduledDay</th>\n",
       "      <th>AppointmentDay</th>\n",
       "      <th>Age</th>\n",
       "      <th>Neighbourhood</th>\n",
       "      <th>Scholarship</th>\n",
       "      <th>Hipertension</th>\n",
       "      <th>Diabetes</th>\n",
       "      <th>Alcoholism</th>\n",
       "      <th>Handcap</th>\n",
       "      <th>SMS_received</th>\n",
       "      <th>No-show</th>\n",
       "    </tr>\n",
       "  </thead>\n",
       "  <tbody>\n",
       "  </tbody>\n",
       "</table>\n",
       "</div>"
      ],
      "text/plain": [
       "Empty DataFrame\n",
       "Columns: [PatientId, AppointmentID, Gender, ScheduledDay, AppointmentDay, Age, Neighbourhood, Scholarship, Hipertension, Diabetes, Alcoholism, Handcap, SMS_received, No-show]\n",
       "Index: []"
      ]
     },
     "execution_count": 98,
     "metadata": {},
     "output_type": "execute_result"
    }
   ],
   "source": [
    "#check for row again\n",
    "df.loc[df['Age'] == -1]"
   ]
  },
  {
   "cell_type": "markdown",
   "id": "0db85c21",
   "metadata": {},
   "source": [
    "----"
   ]
  },
  {
   "cell_type": "markdown",
   "id": "6823b4bc",
   "metadata": {},
   "source": [
    "# Is Show up affected by Gender ?"
   ]
  },
  {
   "cell_type": "code",
   "execution_count": 99,
   "id": "ec72d92d",
   "metadata": {},
   "outputs": [
    {
     "name": "stdout",
     "output_type": "stream",
     "text": [
      "No. of Females is 71839 and No. of Males is 38687\n"
     ]
    }
   ],
   "source": [
    "#number of males and females\n",
    "\n",
    "groupby_male_female = df.groupby('Gender').count()\n",
    "groupby_male_female_age = groupby_male_female['PatientId'].to_numpy()\n",
    "no_males_females = groupby_male_female_age[0],groupby_male_female_age[1]\n",
    "\n",
    "print('No. of Females is {} and No. of Males is {}'.format(no_males_females[0],no_males_females[1]))\n"
   ]
  },
  {
   "cell_type": "code",
   "execution_count": 100,
   "id": "d77bfe88",
   "metadata": {},
   "outputs": [
    {
     "data": {
      "image/png": "[encoded data removed]",
      "text/plain": [
       "<Figure size 432x288 with 1 Axes>"
      ]
     },
     "metadata": {},
     "output_type": "display_data"
    }
   ],
   "source": [
    "#visualize number of males and females in percentage\n",
    "\n",
    "piechart(no_males_females,'Females','Males','Total Males and Females Percentage')\n"
   ]
  },
  {
   "cell_type": "code",
   "execution_count": 101,
   "id": "d8ccc102",
   "metadata": {},
   "outputs": [
    {
     "name": "stdout",
     "output_type": "stream",
     "text": [
      "Total males and females is 110526\n"
     ]
    }
   ],
   "source": [
    "total_people = no_males_females[0] + no_males_females[1]\n",
    "\n",
    "print('Total males and females is {}'.format(total_people));"
   ]
  },
  {
   "cell_type": "code",
   "execution_count": 102,
   "id": "640ecaa5",
   "metadata": {},
   "outputs": [
    {
     "data": {
      "text/html": [
       "<div>\n",
       "<style scoped>\n",
       "    .dataframe tbody tr th:only-of-type {\n",
       "        vertical-align: middle;\n",
       "    }\n",
       "\n",
       "    .dataframe tbody tr th {\n",
       "        vertical-align: top;\n",
       "    }\n",
       "\n",
       "    .dataframe thead th {\n",
       "        text-align: right;\n",
       "    }\n",
       "</style>\n",
       "<table border=\"1\" class=\"dataframe\">\n",
       "  <thead>\n",
       "    <tr style=\"text-align: right;\">\n",
       "      <th></th>\n",
       "      <th></th>\n",
       "      <th>PatientId</th>\n",
       "      <th>AppointmentID</th>\n",
       "      <th>ScheduledDay</th>\n",
       "      <th>AppointmentDay</th>\n",
       "      <th>Age</th>\n",
       "      <th>Neighbourhood</th>\n",
       "      <th>Scholarship</th>\n",
       "      <th>Hipertension</th>\n",
       "      <th>Diabetes</th>\n",
       "      <th>Alcoholism</th>\n",
       "      <th>Handcap</th>\n",
       "      <th>SMS_received</th>\n",
       "    </tr>\n",
       "    <tr>\n",
       "      <th>Gender</th>\n",
       "      <th>No-show</th>\n",
       "      <th></th>\n",
       "      <th></th>\n",
       "      <th></th>\n",
       "      <th></th>\n",
       "      <th></th>\n",
       "      <th></th>\n",
       "      <th></th>\n",
       "      <th></th>\n",
       "      <th></th>\n",
       "      <th></th>\n",
       "      <th></th>\n",
       "      <th></th>\n",
       "    </tr>\n",
       "  </thead>\n",
       "  <tbody>\n",
       "    <tr>\n",
       "      <th rowspan=\"2\" valign=\"top\">F</th>\n",
       "      <th>No</th>\n",
       "      <td>57245</td>\n",
       "      <td>57245</td>\n",
       "      <td>57245</td>\n",
       "      <td>57245</td>\n",
       "      <td>57245</td>\n",
       "      <td>57245</td>\n",
       "      <td>57245</td>\n",
       "      <td>57245</td>\n",
       "      <td>57245</td>\n",
       "      <td>57245</td>\n",
       "      <td>57245</td>\n",
       "      <td>57245</td>\n",
       "    </tr>\n",
       "    <tr>\n",
       "      <th>Yes</th>\n",
       "      <td>14594</td>\n",
       "      <td>14594</td>\n",
       "      <td>14594</td>\n",
       "      <td>14594</td>\n",
       "      <td>14594</td>\n",
       "      <td>14594</td>\n",
       "      <td>14594</td>\n",
       "      <td>14594</td>\n",
       "      <td>14594</td>\n",
       "      <td>14594</td>\n",
       "      <td>14594</td>\n",
       "      <td>14594</td>\n",
       "    </tr>\n",
       "    <tr>\n",
       "      <th rowspan=\"2\" valign=\"top\">M</th>\n",
       "      <th>No</th>\n",
       "      <td>30962</td>\n",
       "      <td>30962</td>\n",
       "      <td>30962</td>\n",
       "      <td>30962</td>\n",
       "      <td>30962</td>\n",
       "      <td>30962</td>\n",
       "      <td>30962</td>\n",
       "      <td>30962</td>\n",
       "      <td>30962</td>\n",
       "      <td>30962</td>\n",
       "      <td>30962</td>\n",
       "      <td>30962</td>\n",
       "    </tr>\n",
       "    <tr>\n",
       "      <th>Yes</th>\n",
       "      <td>7725</td>\n",
       "      <td>7725</td>\n",
       "      <td>7725</td>\n",
       "      <td>7725</td>\n",
       "      <td>7725</td>\n",
       "      <td>7725</td>\n",
       "      <td>7725</td>\n",
       "      <td>7725</td>\n",
       "      <td>7725</td>\n",
       "      <td>7725</td>\n",
       "      <td>7725</td>\n",
       "      <td>7725</td>\n",
       "    </tr>\n",
       "  </tbody>\n",
       "</table>\n",
       "</div>"
      ],
      "text/plain": [
       "                PatientId  AppointmentID  ScheduledDay  AppointmentDay    Age  \\\n",
       "Gender No-show                                                                  \n",
       "F      No           57245          57245         57245           57245  57245   \n",
       "       Yes          14594          14594         14594           14594  14594   \n",
       "M      No           30962          30962         30962           30962  30962   \n",
       "       Yes           7725           7725          7725            7725   7725   \n",
       "\n",
       "                Neighbourhood  Scholarship  Hipertension  Diabetes  \\\n",
       "Gender No-show                                                       \n",
       "F      No               57245        57245         57245     57245   \n",
       "       Yes              14594        14594         14594     14594   \n",
       "M      No               30962        30962         30962     30962   \n",
       "       Yes               7725         7725          7725      7725   \n",
       "\n",
       "                Alcoholism  Handcap  SMS_received  \n",
       "Gender No-show                                     \n",
       "F      No            57245    57245         57245  \n",
       "       Yes           14594    14594         14594  \n",
       "M      No            30962    30962         30962  \n",
       "       Yes            7725     7725          7725  "
      ]
     },
     "execution_count": 102,
     "metadata": {},
     "output_type": "execute_result"
    }
   ],
   "source": [
    "# How many of males and females are show up \n",
    "male_female_showup = df.groupby(['Gender','No-show']).count()\n",
    "male_female_showup"
   ]
  },
  {
   "cell_type": "code",
   "execution_count": 103,
   "id": "17bc8128",
   "metadata": {},
   "outputs": [
    {
     "data": {
      "text/plain": [
       "array([57245, 14594, 30962,  7725], dtype=int64)"
      ]
     },
     "execution_count": 103,
     "metadata": {},
     "output_type": "execute_result"
    }
   ],
   "source": [
    "male_female_showup_array = male_female_showup['PatientId'].to_numpy()\n",
    "male_female_showup_array"
   ]
  },
  {
   "cell_type": "code",
   "execution_count": 104,
   "id": "ce797ecc",
   "metadata": {},
   "outputs": [
    {
     "data": {
      "image/png": "[encoded data removed]",
      "text/plain": [
       "<Figure size 432x288 with 1 Axes>"
      ]
     },
     "metadata": {},
     "output_type": "display_data"
    }
   ],
   "source": [
    "piechart([male_female_showup_array[0],male_female_showup_array[1]],'Not Show up','Show up','Female Percentage show up and not show up') "
   ]
  },
  {
   "cell_type": "code",
   "execution_count": 105,
   "id": "727c5232",
   "metadata": {},
   "outputs": [
    {
     "data": {
      "image/png": "[encoded data removed]",
      "text/plain": [
       "<Figure size 432x288 with 1 Axes>"
      ]
     },
     "metadata": {},
     "output_type": "display_data"
    }
   ],
   "source": [
    "piechart([male_female_showup_array[2],male_female_showup_array[3]],'Not Show up','Show up','Males Percentage show up and not show up')"
   ]
  },
  {
   "cell_type": "code",
   "execution_count": 106,
   "id": "976fcc50",
   "metadata": {},
   "outputs": [
    {
     "data": {
      "image/png": "[encoded data removed]",
      "text/plain": [
       "<Figure size 432x288 with 1 Axes>"
      ]
     },
     "metadata": {},
     "output_type": "display_data"
    }
   ],
   "source": [
    "piechart([male_female_showup_array[1],male_female_showup_array[3]],'Females Show up','Males Show up','Males and Females show up Percentage ')"
   ]
  },
  {
   "cell_type": "markdown",
   "id": "56a203d1",
   "metadata": {},
   "source": [
    "# Answer"
   ]
  },
  {
   "cell_type": "markdown",
   "id": "7ee7b0ff",
   "metadata": {},
   "source": [
    "##### We see that the gender not affect on show up percentage\n",
    "##### we show that the number of Females is more than Males\n",
    "##### but the percentage of every gender in show up same so there is no difference and show up percentage not affected by gender"
   ]
  },
  {
   "cell_type": "markdown",
   "id": "2b358570",
   "metadata": {},
   "source": [
    "----"
   ]
  },
  {
   "cell_type": "markdown",
   "id": "097c1e44",
   "metadata": {},
   "source": [
    "# There is a relation between people that have scholarship and people which show up ?"
   ]
  },
  {
   "cell_type": "code",
   "execution_count": 107,
   "id": "efec3e58",
   "metadata": {},
   "outputs": [
    {
     "data": {
      "text/html": [
       "<div>\n",
       "<style scoped>\n",
       "    .dataframe tbody tr th:only-of-type {\n",
       "        vertical-align: middle;\n",
       "    }\n",
       "\n",
       "    .dataframe tbody tr th {\n",
       "        vertical-align: top;\n",
       "    }\n",
       "\n",
       "    .dataframe thead th {\n",
       "        text-align: right;\n",
       "    }\n",
       "</style>\n",
       "<table border=\"1\" class=\"dataframe\">\n",
       "  <thead>\n",
       "    <tr style=\"text-align: right;\">\n",
       "      <th></th>\n",
       "      <th></th>\n",
       "      <th>PatientId</th>\n",
       "      <th>AppointmentID</th>\n",
       "      <th>Gender</th>\n",
       "      <th>ScheduledDay</th>\n",
       "      <th>AppointmentDay</th>\n",
       "      <th>Age</th>\n",
       "      <th>Neighbourhood</th>\n",
       "      <th>Hipertension</th>\n",
       "      <th>Diabetes</th>\n",
       "      <th>Alcoholism</th>\n",
       "      <th>Handcap</th>\n",
       "      <th>SMS_received</th>\n",
       "    </tr>\n",
       "    <tr>\n",
       "      <th>Scholarship</th>\n",
       "      <th>No-show</th>\n",
       "      <th></th>\n",
       "      <th></th>\n",
       "      <th></th>\n",
       "      <th></th>\n",
       "      <th></th>\n",
       "      <th></th>\n",
       "      <th></th>\n",
       "      <th></th>\n",
       "      <th></th>\n",
       "      <th></th>\n",
       "      <th></th>\n",
       "      <th></th>\n",
       "    </tr>\n",
       "  </thead>\n",
       "  <tbody>\n",
       "    <tr>\n",
       "      <th rowspan=\"2\" valign=\"top\">0</th>\n",
       "      <th>No</th>\n",
       "      <td>79924</td>\n",
       "      <td>79924</td>\n",
       "      <td>79924</td>\n",
       "      <td>79924</td>\n",
       "      <td>79924</td>\n",
       "      <td>79924</td>\n",
       "      <td>79924</td>\n",
       "      <td>79924</td>\n",
       "      <td>79924</td>\n",
       "      <td>79924</td>\n",
       "      <td>79924</td>\n",
       "      <td>79924</td>\n",
       "    </tr>\n",
       "    <tr>\n",
       "      <th>Yes</th>\n",
       "      <td>19741</td>\n",
       "      <td>19741</td>\n",
       "      <td>19741</td>\n",
       "      <td>19741</td>\n",
       "      <td>19741</td>\n",
       "      <td>19741</td>\n",
       "      <td>19741</td>\n",
       "      <td>19741</td>\n",
       "      <td>19741</td>\n",
       "      <td>19741</td>\n",
       "      <td>19741</td>\n",
       "      <td>19741</td>\n",
       "    </tr>\n",
       "    <tr>\n",
       "      <th rowspan=\"2\" valign=\"top\">1</th>\n",
       "      <th>No</th>\n",
       "      <td>8283</td>\n",
       "      <td>8283</td>\n",
       "      <td>8283</td>\n",
       "      <td>8283</td>\n",
       "      <td>8283</td>\n",
       "      <td>8283</td>\n",
       "      <td>8283</td>\n",
       "      <td>8283</td>\n",
       "      <td>8283</td>\n",
       "      <td>8283</td>\n",
       "      <td>8283</td>\n",
       "      <td>8283</td>\n",
       "    </tr>\n",
       "    <tr>\n",
       "      <th>Yes</th>\n",
       "      <td>2578</td>\n",
       "      <td>2578</td>\n",
       "      <td>2578</td>\n",
       "      <td>2578</td>\n",
       "      <td>2578</td>\n",
       "      <td>2578</td>\n",
       "      <td>2578</td>\n",
       "      <td>2578</td>\n",
       "      <td>2578</td>\n",
       "      <td>2578</td>\n",
       "      <td>2578</td>\n",
       "      <td>2578</td>\n",
       "    </tr>\n",
       "  </tbody>\n",
       "</table>\n",
       "</div>"
      ],
      "text/plain": [
       "                     PatientId  AppointmentID  Gender  ScheduledDay  \\\n",
       "Scholarship No-show                                                   \n",
       "0           No           79924          79924   79924         79924   \n",
       "            Yes          19741          19741   19741         19741   \n",
       "1           No            8283           8283    8283          8283   \n",
       "            Yes           2578           2578    2578          2578   \n",
       "\n",
       "                     AppointmentDay    Age  Neighbourhood  Hipertension  \\\n",
       "Scholarship No-show                                                       \n",
       "0           No                79924  79924          79924         79924   \n",
       "            Yes               19741  19741          19741         19741   \n",
       "1           No                 8283   8283           8283          8283   \n",
       "            Yes                2578   2578           2578          2578   \n",
       "\n",
       "                     Diabetes  Alcoholism  Handcap  SMS_received  \n",
       "Scholarship No-show                                               \n",
       "0           No          79924       79924    79924         79924  \n",
       "            Yes         19741       19741    19741         19741  \n",
       "1           No           8283        8283     8283          8283  \n",
       "            Yes          2578        2578     2578          2578  "
      ]
     },
     "execution_count": 107,
     "metadata": {},
     "output_type": "execute_result"
    }
   ],
   "source": [
    "groupby_scholarship_showup = df.groupby(['Scholarship','No-show']).count()\n",
    "groupby_scholarship_showup"
   ]
  },
  {
   "cell_type": "code",
   "execution_count": 108,
   "id": "d42d9754",
   "metadata": {},
   "outputs": [
    {
     "data": {
      "text/plain": [
       "array([79924, 19741,  8283,  2578], dtype=int64)"
      ]
     },
     "execution_count": 108,
     "metadata": {},
     "output_type": "execute_result"
    }
   ],
   "source": [
    "groupby_scholarship_showup_array = groupby_scholarship_showup['PatientId'].to_numpy()\n",
    "groupby_scholarship_showup_array\n"
   ]
  },
  {
   "cell_type": "code",
   "execution_count": 109,
   "id": "f092154c",
   "metadata": {},
   "outputs": [
    {
     "data": {
      "image/png": "[encoded data removed]",
      "text/plain": [
       "<Figure size 432x288 with 1 Axes>"
      ]
     },
     "metadata": {},
     "output_type": "display_data"
    }
   ],
   "source": [
    "piechart([groupby_scholarship_showup_array[0],groupby_scholarship_showup_array[1]],'No show up','show up','Patients that have no scholarship')"
   ]
  },
  {
   "cell_type": "code",
   "execution_count": 110,
   "id": "db95dbb2",
   "metadata": {},
   "outputs": [
    {
     "data": {
      "image/png": "[encoded data removed]",
      "text/plain": [
       "<Figure size 432x288 with 1 Axes>"
      ]
     },
     "metadata": {},
     "output_type": "display_data"
    }
   ],
   "source": [
    "piechart([groupby_scholarship_showup_array[2],groupby_scholarship_showup_array[3]],'No show up','show up','Patients that have scholarship')"
   ]
  },
  {
   "cell_type": "code",
   "execution_count": 111,
   "id": "87c5494b",
   "metadata": {},
   "outputs": [
    {
     "data": {
      "image/png": "[encoded data removed]",
      "text/plain": [
       "<Figure size 432x288 with 1 Axes>"
      ]
     },
     "metadata": {},
     "output_type": "display_data"
    }
   ],
   "source": [
    "piechart([groupby_scholarship_showup_array[1],groupby_scholarship_showup_array[3]],'No scholarship','scholarship','Patients that show up')"
   ]
  },
  {
   "cell_type": "markdown",
   "id": "b7db0c79",
   "metadata": {},
   "source": [
    "# Answer"
   ]
  },
  {
   "cell_type": "markdown",
   "id": "5df7259a",
   "metadata": {},
   "source": [
    "##### we found that 88.5% of people which show up has no scholarship\n",
    "##### and just only 11.5% of people has scholarship \n",
    "##### so we conclude that most paitents which show up has no scholarship and that make us concert our work on scholarship people because\n",
    "##### response rate are more than non scholarship people"
   ]
  },
  {
   "cell_type": "markdown",
   "id": "22d7ab34",
   "metadata": {},
   "source": [
    "---"
   ]
  },
  {
   "cell_type": "markdown",
   "id": "c5c543b4",
   "metadata": {},
   "source": [
    "## There is a relation between people that recevie SMS and people which show up ?"
   ]
  },
  {
   "cell_type": "code",
   "execution_count": 112,
   "id": "47df0e6d",
   "metadata": {},
   "outputs": [
    {
     "data": {
      "text/html": [
       "<div>\n",
       "<style scoped>\n",
       "    .dataframe tbody tr th:only-of-type {\n",
       "        vertical-align: middle;\n",
       "    }\n",
       "\n",
       "    .dataframe tbody tr th {\n",
       "        vertical-align: top;\n",
       "    }\n",
       "\n",
       "    .dataframe thead th {\n",
       "        text-align: right;\n",
       "    }\n",
       "</style>\n",
       "<table border=\"1\" class=\"dataframe\">\n",
       "  <thead>\n",
       "    <tr style=\"text-align: right;\">\n",
       "      <th></th>\n",
       "      <th></th>\n",
       "      <th>PatientId</th>\n",
       "      <th>AppointmentID</th>\n",
       "      <th>Gender</th>\n",
       "      <th>ScheduledDay</th>\n",
       "      <th>AppointmentDay</th>\n",
       "      <th>Age</th>\n",
       "      <th>Neighbourhood</th>\n",
       "      <th>Scholarship</th>\n",
       "      <th>Hipertension</th>\n",
       "      <th>Diabetes</th>\n",
       "      <th>Alcoholism</th>\n",
       "      <th>Handcap</th>\n",
       "    </tr>\n",
       "    <tr>\n",
       "      <th>SMS_received</th>\n",
       "      <th>No-show</th>\n",
       "      <th></th>\n",
       "      <th></th>\n",
       "      <th></th>\n",
       "      <th></th>\n",
       "      <th></th>\n",
       "      <th></th>\n",
       "      <th></th>\n",
       "      <th></th>\n",
       "      <th></th>\n",
       "      <th></th>\n",
       "      <th></th>\n",
       "      <th></th>\n",
       "    </tr>\n",
       "  </thead>\n",
       "  <tbody>\n",
       "    <tr>\n",
       "      <th rowspan=\"2\" valign=\"top\">0</th>\n",
       "      <th>No</th>\n",
       "      <td>62509</td>\n",
       "      <td>62509</td>\n",
       "      <td>62509</td>\n",
       "      <td>62509</td>\n",
       "      <td>62509</td>\n",
       "      <td>62509</td>\n",
       "      <td>62509</td>\n",
       "      <td>62509</td>\n",
       "      <td>62509</td>\n",
       "      <td>62509</td>\n",
       "      <td>62509</td>\n",
       "      <td>62509</td>\n",
       "    </tr>\n",
       "    <tr>\n",
       "      <th>Yes</th>\n",
       "      <td>12535</td>\n",
       "      <td>12535</td>\n",
       "      <td>12535</td>\n",
       "      <td>12535</td>\n",
       "      <td>12535</td>\n",
       "      <td>12535</td>\n",
       "      <td>12535</td>\n",
       "      <td>12535</td>\n",
       "      <td>12535</td>\n",
       "      <td>12535</td>\n",
       "      <td>12535</td>\n",
       "      <td>12535</td>\n",
       "    </tr>\n",
       "    <tr>\n",
       "      <th rowspan=\"2\" valign=\"top\">1</th>\n",
       "      <th>No</th>\n",
       "      <td>25698</td>\n",
       "      <td>25698</td>\n",
       "      <td>25698</td>\n",
       "      <td>25698</td>\n",
       "      <td>25698</td>\n",
       "      <td>25698</td>\n",
       "      <td>25698</td>\n",
       "      <td>25698</td>\n",
       "      <td>25698</td>\n",
       "      <td>25698</td>\n",
       "      <td>25698</td>\n",
       "      <td>25698</td>\n",
       "    </tr>\n",
       "    <tr>\n",
       "      <th>Yes</th>\n",
       "      <td>9784</td>\n",
       "      <td>9784</td>\n",
       "      <td>9784</td>\n",
       "      <td>9784</td>\n",
       "      <td>9784</td>\n",
       "      <td>9784</td>\n",
       "      <td>9784</td>\n",
       "      <td>9784</td>\n",
       "      <td>9784</td>\n",
       "      <td>9784</td>\n",
       "      <td>9784</td>\n",
       "      <td>9784</td>\n",
       "    </tr>\n",
       "  </tbody>\n",
       "</table>\n",
       "</div>"
      ],
      "text/plain": [
       "                      PatientId  AppointmentID  Gender  ScheduledDay  \\\n",
       "SMS_received No-show                                                   \n",
       "0            No           62509          62509   62509         62509   \n",
       "             Yes          12535          12535   12535         12535   \n",
       "1            No           25698          25698   25698         25698   \n",
       "             Yes           9784           9784    9784          9784   \n",
       "\n",
       "                      AppointmentDay    Age  Neighbourhood  Scholarship  \\\n",
       "SMS_received No-show                                                      \n",
       "0            No                62509  62509          62509        62509   \n",
       "             Yes               12535  12535          12535        12535   \n",
       "1            No                25698  25698          25698        25698   \n",
       "             Yes                9784   9784           9784         9784   \n",
       "\n",
       "                      Hipertension  Diabetes  Alcoholism  Handcap  \n",
       "SMS_received No-show                                               \n",
       "0            No              62509     62509       62509    62509  \n",
       "             Yes             12535     12535       12535    12535  \n",
       "1            No              25698     25698       25698    25698  \n",
       "             Yes              9784      9784        9784     9784  "
      ]
     },
     "execution_count": 112,
     "metadata": {},
     "output_type": "execute_result"
    }
   ],
   "source": [
    "groupby_SMS_showup = df.groupby(['SMS_received','No-show']).count()\n",
    "groupby_SMS_showup"
   ]
  },
  {
   "cell_type": "code",
   "execution_count": 113,
   "id": "500aef02",
   "metadata": {},
   "outputs": [
    {
     "data": {
      "text/plain": [
       "array([62509, 12535, 25698,  9784], dtype=int64)"
      ]
     },
     "execution_count": 113,
     "metadata": {},
     "output_type": "execute_result"
    }
   ],
   "source": [
    "groupby_SMS_showup_array = groupby_SMS_showup['PatientId'].to_numpy()\n",
    "groupby_SMS_showup_array"
   ]
  },
  {
   "cell_type": "code",
   "execution_count": 114,
   "id": "d94df1ee",
   "metadata": {},
   "outputs": [
    {
     "data": {
      "image/png": "[encoded data removed]",
      "text/plain": [
       "<Figure size 432x288 with 1 Axes>"
      ]
     },
     "metadata": {},
     "output_type": "display_data"
    }
   ],
   "source": [
    "piechart([groupby_SMS_showup_array[0],groupby_SMS_showup_array[1]],'Not Show up','Show up','People that not receive an SMS')"
   ]
  },
  {
   "cell_type": "code",
   "execution_count": 115,
   "id": "b1183e7c",
   "metadata": {},
   "outputs": [
    {
     "data": {
      "image/png": "[encoded data removed]",
      "text/plain": [
       "<Figure size 432x288 with 1 Axes>"
      ]
     },
     "metadata": {},
     "output_type": "display_data"
    }
   ],
   "source": [
    "piechart([groupby_SMS_showup_array[2],groupby_SMS_showup_array[3]],'Not Show up','Show up','People that received an SMS')"
   ]
  },
  {
   "cell_type": "markdown",
   "id": "a8701fdf",
   "metadata": {},
   "source": [
    "# Answer"
   ]
  },
  {
   "cell_type": "markdown",
   "id": "13fd8837",
   "metadata": {},
   "source": [
    "##### We found that people which we send to them SMS respose with 27.5% compared by 16.7% for people not recevied any SMS \n",
    "##### So we can see a good relation between show up and SMS's so we should send more SMS's to all our patients to increase show up rate"
   ]
  },
  {
   "cell_type": "markdown",
   "id": "e82bc190",
   "metadata": {},
   "source": [
    "---"
   ]
  },
  {
   "cell_type": "markdown",
   "id": "962c3ae2",
   "metadata": {},
   "source": [
    "## How is age affecting the patient's absence?"
   ]
  },
  {
   "cell_type": "code",
   "execution_count": 116,
   "id": "5fa352ad",
   "metadata": {
    "scrolled": true
   },
   "outputs": [],
   "source": [
    "# get all people said yes and no in No-show coulumn\n",
    "ages = {}\n",
    "for patientRecord in df.values:\n",
    "    patientAge = patientRecord[5]\n",
    "    patientVote = patientRecord[13]\n",
    "    yesNoRecordsOfPatient = ages.get(patientAge, [0,0])\n",
    "    if patientVote != 'Yes':\n",
    "        yesNoRecordsOfPatient[0]+=1\n",
    "    else:\n",
    "        yesNoRecordsOfPatient[1]+=1\n",
    "    ages[patientAge] = yesNoRecordsOfPatient\n",
    "\n",
    "# group_by_location = df.groupby(['Age','No-show']).count()\n",
    "# group_by_location"
   ]
  },
  {
   "cell_type": "code",
   "execution_count": 117,
   "id": "15bbce40",
   "metadata": {},
   "outputs": [
    {
     "data": {
      "image/png": "[encoded data removed]",
      "text/plain": [
       "<Figure size 2160x2160 with 1 Axes>"
      ]
     },
     "metadata": {
      "needs_background": "light"
     },
     "output_type": "display_data"
    }
   ],
   "source": [
    "# sort records and convert it to a percentage to compare with different ages\n",
    "agesPercentages = []\n",
    "sortedAges = dict(sorted(ages.items()))\n",
    "for x in sortedAges.items():\n",
    "    agesPercentages.append((x[1][1] / (x[1][0] + x[1][1])))\n",
    "x = pd.DataFrame(agesPercentages, index=sortedAges)\n",
    "x.plot(kind=\"bar\", figsize=(30,30))\n",
    "plt.title('Age for people that not apcence', fontsize=50)\n",
    "plt.xlabel('Ages', fontsize=50)\n",
    "plt.ylabel('Percentage', fontsize=50);"
   ]
  },
  {
   "cell_type": "code",
   "execution_count": 118,
   "id": "6d80ad8e",
   "metadata": {},
   "outputs": [
    {
     "data": {
      "text/html": [
       "<div>\n",
       "<style scoped>\n",
       "    .dataframe tbody tr th:only-of-type {\n",
       "        vertical-align: middle;\n",
       "    }\n",
       "\n",
       "    .dataframe tbody tr th {\n",
       "        vertical-align: top;\n",
       "    }\n",
       "\n",
       "    .dataframe thead th {\n",
       "        text-align: right;\n",
       "    }\n",
       "</style>\n",
       "<table border=\"1\" class=\"dataframe\">\n",
       "  <thead>\n",
       "    <tr style=\"text-align: right;\">\n",
       "      <th></th>\n",
       "      <th>PatientId</th>\n",
       "      <th>AppointmentID</th>\n",
       "      <th>Gender</th>\n",
       "      <th>ScheduledDay</th>\n",
       "      <th>AppointmentDay</th>\n",
       "      <th>Neighbourhood</th>\n",
       "      <th>Scholarship</th>\n",
       "      <th>Hipertension</th>\n",
       "      <th>Diabetes</th>\n",
       "      <th>Alcoholism</th>\n",
       "      <th>Handcap</th>\n",
       "      <th>SMS_received</th>\n",
       "      <th>No-show</th>\n",
       "    </tr>\n",
       "    <tr>\n",
       "      <th>Age</th>\n",
       "      <th></th>\n",
       "      <th></th>\n",
       "      <th></th>\n",
       "      <th></th>\n",
       "      <th></th>\n",
       "      <th></th>\n",
       "      <th></th>\n",
       "      <th></th>\n",
       "      <th></th>\n",
       "      <th></th>\n",
       "      <th></th>\n",
       "      <th></th>\n",
       "      <th></th>\n",
       "    </tr>\n",
       "  </thead>\n",
       "  <tbody>\n",
       "    <tr>\n",
       "      <th>0</th>\n",
       "      <td>3539</td>\n",
       "      <td>3539</td>\n",
       "      <td>3539</td>\n",
       "      <td>3539</td>\n",
       "      <td>3539</td>\n",
       "      <td>3539</td>\n",
       "      <td>3539</td>\n",
       "      <td>3539</td>\n",
       "      <td>3539</td>\n",
       "      <td>3539</td>\n",
       "      <td>3539</td>\n",
       "      <td>3539</td>\n",
       "      <td>3539</td>\n",
       "    </tr>\n",
       "    <tr>\n",
       "      <th>1</th>\n",
       "      <td>2273</td>\n",
       "      <td>2273</td>\n",
       "      <td>2273</td>\n",
       "      <td>2273</td>\n",
       "      <td>2273</td>\n",
       "      <td>2273</td>\n",
       "      <td>2273</td>\n",
       "      <td>2273</td>\n",
       "      <td>2273</td>\n",
       "      <td>2273</td>\n",
       "      <td>2273</td>\n",
       "      <td>2273</td>\n",
       "      <td>2273</td>\n",
       "    </tr>\n",
       "    <tr>\n",
       "      <th>2</th>\n",
       "      <td>1618</td>\n",
       "      <td>1618</td>\n",
       "      <td>1618</td>\n",
       "      <td>1618</td>\n",
       "      <td>1618</td>\n",
       "      <td>1618</td>\n",
       "      <td>1618</td>\n",
       "      <td>1618</td>\n",
       "      <td>1618</td>\n",
       "      <td>1618</td>\n",
       "      <td>1618</td>\n",
       "      <td>1618</td>\n",
       "      <td>1618</td>\n",
       "    </tr>\n",
       "    <tr>\n",
       "      <th>3</th>\n",
       "      <td>1513</td>\n",
       "      <td>1513</td>\n",
       "      <td>1513</td>\n",
       "      <td>1513</td>\n",
       "      <td>1513</td>\n",
       "      <td>1513</td>\n",
       "      <td>1513</td>\n",
       "      <td>1513</td>\n",
       "      <td>1513</td>\n",
       "      <td>1513</td>\n",
       "      <td>1513</td>\n",
       "      <td>1513</td>\n",
       "      <td>1513</td>\n",
       "    </tr>\n",
       "    <tr>\n",
       "      <th>4</th>\n",
       "      <td>1299</td>\n",
       "      <td>1299</td>\n",
       "      <td>1299</td>\n",
       "      <td>1299</td>\n",
       "      <td>1299</td>\n",
       "      <td>1299</td>\n",
       "      <td>1299</td>\n",
       "      <td>1299</td>\n",
       "      <td>1299</td>\n",
       "      <td>1299</td>\n",
       "      <td>1299</td>\n",
       "      <td>1299</td>\n",
       "      <td>1299</td>\n",
       "    </tr>\n",
       "    <tr>\n",
       "      <th>...</th>\n",
       "      <td>...</td>\n",
       "      <td>...</td>\n",
       "      <td>...</td>\n",
       "      <td>...</td>\n",
       "      <td>...</td>\n",
       "      <td>...</td>\n",
       "      <td>...</td>\n",
       "      <td>...</td>\n",
       "      <td>...</td>\n",
       "      <td>...</td>\n",
       "      <td>...</td>\n",
       "      <td>...</td>\n",
       "      <td>...</td>\n",
       "    </tr>\n",
       "    <tr>\n",
       "      <th>98</th>\n",
       "      <td>6</td>\n",
       "      <td>6</td>\n",
       "      <td>6</td>\n",
       "      <td>6</td>\n",
       "      <td>6</td>\n",
       "      <td>6</td>\n",
       "      <td>6</td>\n",
       "      <td>6</td>\n",
       "      <td>6</td>\n",
       "      <td>6</td>\n",
       "      <td>6</td>\n",
       "      <td>6</td>\n",
       "      <td>6</td>\n",
       "    </tr>\n",
       "    <tr>\n",
       "      <th>99</th>\n",
       "      <td>1</td>\n",
       "      <td>1</td>\n",
       "      <td>1</td>\n",
       "      <td>1</td>\n",
       "      <td>1</td>\n",
       "      <td>1</td>\n",
       "      <td>1</td>\n",
       "      <td>1</td>\n",
       "      <td>1</td>\n",
       "      <td>1</td>\n",
       "      <td>1</td>\n",
       "      <td>1</td>\n",
       "      <td>1</td>\n",
       "    </tr>\n",
       "    <tr>\n",
       "      <th>100</th>\n",
       "      <td>4</td>\n",
       "      <td>4</td>\n",
       "      <td>4</td>\n",
       "      <td>4</td>\n",
       "      <td>4</td>\n",
       "      <td>4</td>\n",
       "      <td>4</td>\n",
       "      <td>4</td>\n",
       "      <td>4</td>\n",
       "      <td>4</td>\n",
       "      <td>4</td>\n",
       "      <td>4</td>\n",
       "      <td>4</td>\n",
       "    </tr>\n",
       "    <tr>\n",
       "      <th>102</th>\n",
       "      <td>2</td>\n",
       "      <td>2</td>\n",
       "      <td>2</td>\n",
       "      <td>2</td>\n",
       "      <td>2</td>\n",
       "      <td>2</td>\n",
       "      <td>2</td>\n",
       "      <td>2</td>\n",
       "      <td>2</td>\n",
       "      <td>2</td>\n",
       "      <td>2</td>\n",
       "      <td>2</td>\n",
       "      <td>2</td>\n",
       "    </tr>\n",
       "    <tr>\n",
       "      <th>115</th>\n",
       "      <td>5</td>\n",
       "      <td>5</td>\n",
       "      <td>5</td>\n",
       "      <td>5</td>\n",
       "      <td>5</td>\n",
       "      <td>5</td>\n",
       "      <td>5</td>\n",
       "      <td>5</td>\n",
       "      <td>5</td>\n",
       "      <td>5</td>\n",
       "      <td>5</td>\n",
       "      <td>5</td>\n",
       "      <td>5</td>\n",
       "    </tr>\n",
       "  </tbody>\n",
       "</table>\n",
       "<p>103 rows × 13 columns</p>\n",
       "</div>"
      ],
      "text/plain": [
       "     PatientId  AppointmentID  Gender  ScheduledDay  AppointmentDay  \\\n",
       "Age                                                                   \n",
       "0         3539           3539    3539          3539            3539   \n",
       "1         2273           2273    2273          2273            2273   \n",
       "2         1618           1618    1618          1618            1618   \n",
       "3         1513           1513    1513          1513            1513   \n",
       "4         1299           1299    1299          1299            1299   \n",
       "..         ...            ...     ...           ...             ...   \n",
       "98           6              6       6             6               6   \n",
       "99           1              1       1             1               1   \n",
       "100          4              4       4             4               4   \n",
       "102          2              2       2             2               2   \n",
       "115          5              5       5             5               5   \n",
       "\n",
       "     Neighbourhood  Scholarship  Hipertension  Diabetes  Alcoholism  Handcap  \\\n",
       "Age                                                                            \n",
       "0             3539         3539          3539      3539        3539     3539   \n",
       "1             2273         2273          2273      2273        2273     2273   \n",
       "2             1618         1618          1618      1618        1618     1618   \n",
       "3             1513         1513          1513      1513        1513     1513   \n",
       "4             1299         1299          1299      1299        1299     1299   \n",
       "..             ...          ...           ...       ...         ...      ...   \n",
       "98               6            6             6         6           6        6   \n",
       "99               1            1             1         1           1        1   \n",
       "100              4            4             4         4           4        4   \n",
       "102              2            2             2         2           2        2   \n",
       "115              5            5             5         5           5        5   \n",
       "\n",
       "     SMS_received  No-show  \n",
       "Age                         \n",
       "0            3539     3539  \n",
       "1            2273     2273  \n",
       "2            1618     1618  \n",
       "3            1513     1513  \n",
       "4            1299     1299  \n",
       "..            ...      ...  \n",
       "98              6        6  \n",
       "99              1        1  \n",
       "100             4        4  \n",
       "102             2        2  \n",
       "115             5        5  \n",
       "\n",
       "[103 rows x 13 columns]"
      ]
     },
     "execution_count": 118,
     "metadata": {},
     "output_type": "execute_result"
    }
   ],
   "source": [
    "# how many people have 115 years\n",
    "df.groupby('Age').count()"
   ]
  },
  {
   "cell_type": "markdown",
   "id": "dea38c10",
   "metadata": {},
   "source": [
    "# Answer"
   ]
  },
  {
   "cell_type": "markdown",
   "id": "ca1030b2",
   "metadata": {},
   "source": [
    "##### We see That ages between 11 to 30 is the most people that not apcence after they Scheduled to a visit \n",
    "##### Yes people which has 115 years are have more percentage but when we show number of this people they are just 5 so they are few people"
   ]
  },
  {
   "cell_type": "markdown",
   "id": "3443a976",
   "metadata": {},
   "source": [
    "---"
   ]
  },
  {
   "cell_type": "code",
   "execution_count": 119,
   "id": "08d0e9e7",
   "metadata": {},
   "outputs": [
    {
     "data": {
      "image/png": "[encoded data removed]",
      "text/plain": [
       "<Figure size 1080x576 with 2 Axes>"
      ]
     },
     "metadata": {
      "needs_background": "light"
     },
     "output_type": "display_data"
    }
   ],
   "source": [
    "# Data frame correlation between variables \n",
    "plt.figure(figsize = (15,8))\n",
    "sn.heatmap(df[['Age','Scholarship','Hipertension','Diabetes','Alcoholism','Handcap','SMS_received']].corr(), annot=True);\n"
   ]
  },
  {
   "cell_type": "markdown",
   "id": "f59978d8",
   "metadata": {},
   "source": [
    "# Conclusions\n"
   ]
  },
  {
   "cell_type": "markdown",
   "id": "341bc59f",
   "metadata": {},
   "source": [
    "### Results"
   ]
  },
  {
   "cell_type": "markdown",
   "id": "32cc7efb",
   "metadata": {},
   "source": [
    "- We found that Gender not affect on Show up of Patients the percentage are same approxmitly\n",
    "\n",
    "- We found that people has scholarship are show up more in percentage than not have but number of people which not have\n",
    "scholarship are very huge compared by people which have scholarship so we should work more on people not have scholarship\n",
    "\n",
    "- We found that people which we send to them SMS respose with 27.5% compared by 16.7% for people not recevied any SMS\n",
    "So we can see a good relation between show up and SMS's so we should send more SMS's to all our patients to increase show up rate\n",
    "\n",
    "- We found That ages between 11 to 30 is the most people that not apcence after they Scheduled to a visit\n",
    "Yes people which has 115 years are have more percentage but when we show number of this people they are just 5 so they are few people and this record will be as outliner"
   ]
  },
  {
   "cell_type": "markdown",
   "id": "b48aacaf",
   "metadata": {},
   "source": [
    "### Limitations"
   ]
  },
  {
   "cell_type": "markdown",
   "id": "03628e24",
   "metadata": {},
   "source": [
    "- Database have proplem in ages there is alot of records have 0 age\n",
    "- Database not say to us how far is the location of patients to hospital that may be affect also analysis\n",
    "- We found an age with -1 that also say to us data not done well \n"
   ]
  },
  {
   "cell_type": "code",
   "execution_count": null,
   "id": "ee13f415",
   "metadata": {},
   "outputs": [],
   "source": []
  }
 ],
 "metadata": {
  "kernelspec": {
   "display_name": "Python 3",
   "language": "python",
   "name": "python3"
  },
  "language_info": {
   "codemirror_mode": {
    "name": "ipython",
    "version": 3
   },
   "file_extension": ".py",
   "mimetype": "text/x-python",
   "name": "python",
   "nbconvert_exporter": "python",
   "pygments_lexer": "ipython3",
   "version": "3.8.8"
  }
 },
 "nbformat": 4,
 "nbformat_minor": 5
}
