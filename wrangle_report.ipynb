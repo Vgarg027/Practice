{
 "cells": [
  {
   "cell_type": "markdown",
   "metadata": {},
   "source": [
    "## Reporting: wragle_report\n",
    "* Create a **300-600 word written report** called \"wrangle_report.pdf\" or \"wrangle_report.html\" that briefly describes your wrangling efforts. This is to be framed as an internal document."
   ]
  },
  {
   "cell_type": "markdown",
   "metadata": {},
   "source": [
    "### Wrangle Report:\n",
    "\n",
    "This wrangle report is about the tweet archive of WeRateDogs, which rates the dog picture of its followers.  \n",
    "\n",
    "The following things have been done:\n",
    "    - Data Gathering:\n",
    "        o The Data has been gathered from three sources:\n",
    "            1. The twitter_archive_enhanced.csv file, which has been \n",
    "               provided to Udacity Students\n",
    "            2. Tweet Image Projections, which Udacity provided as well\n",
    "            3. Tweepy's Twitter API to gather the retweet & like count \n",
    "    - Data Assessment\n",
    "        o Data has been assessed for its quality & tidiness\n",
    "        o It was checked, whether columns were redudant, contained the \n",
    "            right information, contained NaN values, etc.\n",
    "    - Data Cleaning:\n",
    "        o The following things were cleaned:\n",
    "        o Quality mistakes:\n",
    "            1. Incorrect data types were changed\n",
    "            2. Retweet_count & favorite_count were converted to int\n",
    "            3. Tweets that did not contain a dog were removed\n",
    "            4. Retweets were dropped\n",
    "            5. Unnecessary colums were dropped\n",
    "            6. Name Cells that did not contain names were changed to None\n",
    "            7. In some cases, the wrong rating were extracted. This has been cleaned.\n",
    "        o Tidiness mistakes:\n",
    "            1. Converge dog stages in one column\n",
    "            2. Concatenation of all three data sets\n",
    "            \n",
    "    - Data Analysis:\n",
    "        o The effect on year, saisonality & the ratings score on retweet count and favorite count has been assessed\n",
    "        o It was concluded that 2016 has been the most successfull year so far. The rating score is uncorrelated to reweets & likes. The clear efffect of saisonality could be shown\n",
    "\n",
    "\n",
    "\n"
   ]
  },
  {
   "cell_type": "code",
   "execution_count": null,
   "metadata": {},
   "outputs": [],
   "source": []
  }
 ],
 "metadata": {
  "kernelspec": {
   "display_name": "Python 3",
   "language": "python",
   "name": "python3"
  },
  "language_info": {
   "codemirror_mode": {
    "name": "ipython",
    "version": 3
   },
   "file_extension": ".py",
   "mimetype": "text/x-python",
   "name": "python",
   "nbconvert_exporter": "python",
   "pygments_lexer": "ipython3",
   "version": "3.6.3"
  }
 },
 "nbformat": 4,
 "nbformat_minor": 2
}
