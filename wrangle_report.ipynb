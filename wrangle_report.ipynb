{
 "cells": [
  {
   "cell_type": "markdown",
   "metadata": {},
   "source": [
    "## Reporting: wragle_report\n",
    "* Create a **300-600 word written report** called \"wrangle_report.pdf\" or \"wrangle_report.html\" that briefly describes your wrangling efforts. This is to be framed as an internal document."
   ]
  },
  {
   "cell_type": "markdown",
   "metadata": {},
   "source": [
    "# Objective"
   ]
  },
  {
   "cell_type": "markdown",
   "metadata": {},
   "source": [
    "The aim of this study was;\n",
    "- Gathering data from 3 different sources\n",
    "- Assessing the data, identifying the quality and tidiness issues within the datasets\n",
    "- Cleaining the data, applying the solutions to the identifying issues and create a clean and tidy dataset in order to \n",
    "increase the accuracy of the analysis that will be carried out\n",
    "- Storing the new dataset\n",
    "- Analyzing and visualising the new dataset. Draw conlusions and gather insights from the data"
   ]
  },
  {
   "cell_type": "markdown",
   "metadata": {},
   "source": [
    "## Gathering Data"
   ]
  },
  {
   "cell_type": "markdown",
   "metadata": {},
   "source": [
    "After importing the necessary libraries, I imported the 3 dataset from the given datasources\n",
    "1. I used the pandas read_csv function to import the twitter-archive-enhanced.csv file\n",
    "2. Using the Requests library I imported the image_predictions.tsv \n",
    "3. My application for a developer account wasn't approved by twitter although I wrote a very similar description to the one suggested in the project document.Therefore I had to use the csv file instead to get the favorite and retweet statistics, reading the file line by line\n"
   ]
  },
  {
   "cell_type": "markdown",
   "metadata": {},
   "source": [
    "## Assessing Data"
   ]
  },
  {
   "cell_type": "markdown",
   "metadata": {},
   "source": [
    "While inspecting the data both visually and programmatically,I identified the following issues:\n",
    "__Quality issues__\n",
    "1.Timestamp formats should be datetime instead of strings.\n",
    "\n",
    "2.tweetid is integer in the datasets instead it should be string\n",
    "\n",
    "3.Some denominators aren't equal to 10\n",
    "\n",
    "4.Some dog names are invalid such as 'a', 'an', 'the'\n",
    "\n",
    "5.The numerator values that are out of [10-14] range is probably inaccurate\n",
    "\n",
    "6.There are retweet rows in predictions data that we don't need\n",
    "\n",
    "7.There are rows in predictions data that none of the predictions outcomes are dogs\n",
    "\n",
    "8.There are duplicate jpg_urls in image predictions data\n",
    "\n",
    "__Tidiness issues__\n",
    "1.Dog categories can be combined in 1 column instead of 4 different columns\n",
    "\n",
    "2.3 datasets should be merged into a single table"
   ]
  },
  {
   "cell_type": "markdown",
   "metadata": {},
   "source": [
    "## Cleaning Data\n",
    "\n",
    "After copying the datasets , I used methods such as converting data types, removing the outliers and invalid data, eliminating the duplicates and merging the 3 datasets to form a single, clean and tidy dataset"
   ]
  },
  {
   "cell_type": "markdown",
   "metadata": {},
   "source": [
    "## Storing Data\n",
    "\n",
    "I used to_csv function to store the new dataset "
   ]
  },
  {
   "cell_type": "markdown",
   "metadata": {},
   "source": [
    "## Analyzing and visualising\n",
    "\n",
    "In this section I tried to gather meaningful insight from the dataset. I summarized the data based on dog stages .\n",
    "I drew the descriptive statistics of the popularity by breeds I visualised the trend of the  interaction with the account.\n"
   ]
  },
  {
   "cell_type": "code",
   "execution_count": null,
   "metadata": {},
   "outputs": [],
   "source": []
  }
 ],
 "metadata": {
  "kernelspec": {
   "display_name": "Python 3",
   "language": "python",
   "name": "python3"
  },
  "language_info": {
   "codemirror_mode": {
    "name": "ipython",
    "version": 3
   },
   "file_extension": ".py",
   "mimetype": "text/x-python",
   "name": "python",
   "nbconvert_exporter": "python",
   "pygments_lexer": "ipython3",
   "version": "3.6.3"
  }
 },
 "nbformat": 4,
 "nbformat_minor": 2
}
