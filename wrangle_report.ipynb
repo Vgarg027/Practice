{
 "cells": [
  {
   "cell_type": "markdown",
   "metadata": {},
   "source": [
    "## Reporting: wragle_report\n",
    "* Create a **300-600 word written report** called \"wrangle_report.pdf\" or \"wrangle_report.html\" that briefly describes your wrangling efforts. This is to be framed as an internal document."
   ]
  },
  {
   "cell_type": "markdown",
   "metadata": {},
   "source": [
    "This project was proceeded by gathering 3 data in different sources which are csv file, url image file and API. Some packages were used for this project as pandas, numpy, matplotlib.pyplot.\n",
    "\n",
    "Regarding assessing data, eight quality issues and two tidiness issues had been detected and solved which was listed below:\n",
    "Eight quality issues\n",
    "- tweets are retweets\n",
    "- tweets are reply of tweets\n",
    "- columns named in_reply_to_status_id, in_reply_to_user_id, retweeted_status_id, retweeted_status_user_id, retweeted_status_timestamp contain NaN value mostly. columns named source, text, expanded_urls are not really useful to analysis.\n",
    "- timestamp is a string not a datetime\n",
    "- name column contains inaccurate value\n",
    "- p1, p2, p3 values are unconsistent between capitaled or uncapitaled\n",
    "- number of records is less than number of records in twitter_df and tweet_df tables\n",
    "- columns named jpg_url and img_num are not useful to analysis anymore\n",
    "Two tidiness issues\n",
    "- Merging 3 datasource into 1 dataframe\n",
    "- pivot 4 columns in `twitter_df` into 1 column\n",
    "\n",
    "After I assessed issues that exsited in dataframe, I cleaned data by 3 steps as: \n",
    "Step 1. Define - define the way the data should be cleaned\n",
    "Step 2. Code - execute the coding part\n",
    "Step 3. Test - test the data to ensure the code in precious step was implemented correctly\n",
    "\n",
    "Once all issues that I listed out were cleaned, I stored data to a CSV file named \"twitter_archive_master.csv\"\n",
    "\n",
    "In the wrangling period, I decided to delete rows and columns that are not really useful to my analysis. i believe that also means to be a limitation. I also conceived that there are more issues in data but I haven't listed out and solved."
   ]
  }
 ],
 "metadata": {
  "kernelspec": {
   "display_name": "Python 3",
   "language": "python",
   "name": "python3"
  },
  "language_info": {
   "codemirror_mode": {
    "name": "ipython",
    "version": 3
   },
   "file_extension": ".py",
   "mimetype": "text/x-python",
   "name": "python",
   "nbconvert_exporter": "python",
   "pygments_lexer": "ipython3",
   "version": "3.6.3"
  }
 },
 "nbformat": 4,
 "nbformat_minor": 2
}
