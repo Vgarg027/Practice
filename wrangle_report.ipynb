{
 "cells": [
  {
   "cell_type": "markdown",
   "metadata": {},
   "source": [
    "## Reporting: wragle_report\n",
    "* Create a **300-600 word written report** called \"wrangle_report.pdf\" or \"wrangle_report.html\" that briefly describes your wrangling efforts. This is to be framed as an internal document."
   ]
  },
  {
   "cell_type": "markdown",
   "metadata": {},
   "source": [
    "The dataset that i was wrangling (and analyzing and visualizing) is the tweet archive of Twitter user @dog_rates, also known as WeRateDogs. WeRateDogs is a Twitter account that rates people's dogs with a humorous comment about the dog. These ratings almost always have a denominator of 10. The numerators, though? Almost always greater than 10. 11/10, 12/10, 13/10, etc. Why? Because \"they're good dogs Brent.\" WeRateDogs has over 4 million followers and has received international media coverage.\n",
    "this project is on Udacity workspace, while reports are exported as PDFs.\n",
    "The steps:\n",
    "1_Gathering data.\n",
    "2_Assessing data.\n",
    "3_Cleaning data.\n",
    "\n",
    "I will take every step in detail\n",
    "\n",
    "1_Gathering data\n",
    "we get data from three resources \n",
    "\n",
    "a_ enhanced Twitter archive.\n",
    "the file was downloaded manually from the given URL and uploaded to the Udacity workspace.\n",
    "\n",
    "b_Image prediction file\n",
    "the file is on Udacity servers and downloaded programmatically using the requests library from the given URL.\n",
    "\n",
    "c_twitter APIs\n",
    "a ready version of the file is on the Udacity website without a Twitter developer account\n",
    "\n",
    "2_Assessing data.\n",
    "after gathering data, I assess the data visually and programmatically for tidiness and quality issues.\n",
    "following issues\n",
    "\n",
    "Quality issues\n",
    "\n",
    "(enhanced Twitter archive)\n",
    "\n",
    "1.  there are 181 retweets as indicated by retweeted_status_id\n",
    "2.  many dogs' names are invalid like none, a, an, instead of name\n",
    "3.  invalid tweet_id data type, integer instead of string\n",
    "4. invalid timestamp datatype (string not datatime)\n",
    "5. 440 rating numerators less than 10\n",
    "6. rows 313 has a 0 denominator\n",
    "7. 23 rating denominator, not equal to 10\n",
    "\n",
    "(tweet image predictions)\n",
    "\n",
    "8. missing photos for some ids, 2075 rows instead of 2356\n",
    "9. underscores are used in multi-word names in columns p1, p2, and p3 instead of spaces\n",
    "10. many p names start with uppercase letters while others with lowercase\n",
    "\n",
    "(tweet API)\n",
    "\n",
    "11. missing entries, 2354 entries instead of 2356\n",
    "\n",
    "Tidiness issues\n",
    "\n",
    "1. dog stage data is separated into 4 columns.\n",
    "\n",
    "2. all data is related but divided into 3 separate departments.\n",
    "\n",
    "3_Cleaning data.\n",
    "the previous issue is cleaned in high quality with a panda data frame\n",
    "\n",
    "Storing Data\n",
    "data was stored as a twitter_arhcive_master.csv file."
   ]
  }
 ],
 "metadata": {
  "kernelspec": {
   "display_name": "Python 3",
   "language": "python",
   "name": "python3"
  },
  "language_info": {
   "codemirror_mode": {
    "name": "ipython",
    "version": 3
   },
   "file_extension": ".py",
   "mimetype": "text/x-python",
   "name": "python",
   "nbconvert_exporter": "python",
   "pygments_lexer": "ipython3",
   "version": "3.6.3"
  }
 },
 "nbformat": 4,
 "nbformat_minor": 2
}
