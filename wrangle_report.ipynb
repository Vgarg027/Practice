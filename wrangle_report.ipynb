{
 "cells": [
  {
   "cell_type": "markdown",
   "metadata": {},
   "source": [
    "# Wrangle details\n",
    "The three tables display the relevent information for dog twitter archives. There are many columns whose data is not relevent for the analysis and extraction of insights from the data. \n",
    "As part of tidiness of the data, \n",
    "- three data frames are merged based on twitter ID. It created a combined dataframe with all the columns from whch the relvent columns are extracted as part of one of the quality issue.\n",
    "- Also, there were some issues with the data type of the columns, eg- in_reply_to_user_id should be an object type since it would be ID of the user.\n",
    "\n",
    "As part of the quality, below issues are identified and cleaned-\n",
    "- Rating denominator cannot be 0 - the denominator value cannot be 0, since it would lead to infinite, so it has been corrected to 10\n",
    "- Incorrect dog names extracted- eg- rows 2345, 2346 etc in d1 - the dog names extracted contains values like 'a', 'an' for some of the data. These column values are replaced with 'No name' for all the rows, so that all dogs with no name captured can be segregated ogether.\n",
    "- Removal of retweets\n",
    "- Remove Non Dog tweets - From the prediction dataset, for some of the rows, it says Flase by all the three algorithms - p1, p2 and p3. Those rows are assumed to be non dog tweets and have been filtered out to clean the dataset\n",
    "- Null Values in expanded_urls in d1 - Expanded URLs column contains the URL for the twitter post, for some of the data, this value was not present, so those rows have been removed, so that all the data has a reference URL present.\n",
    "- Merge dog stages columns - for the four different dog types, 4 columns were present which is merged to a single column named 'stage' and it stores the stage of the dog. For some of the dogs, there were multiple stages, which are clubbed together.\n",
    "- replace _ with space in dog types - The dog type specified by the algorithms in p1, p2 and p3 columns contain '_' as the separater in the dog type which is replaced with space in all the names, to make it more relevent.\n",
    "- Capture relevent columns after merging the data - After making the data tidy by merging them into a single dataframe, the relevent columns are extracted which can be analysed easily."
   ]
  },
  {
   "cell_type": "code",
   "execution_count": null,
   "metadata": {},
   "outputs": [],
   "source": []
  }
 ],
 "metadata": {
  "kernelspec": {
   "display_name": "Python 3",
   "language": "python",
   "name": "python3"
  },
  "language_info": {
   "codemirror_mode": {
    "name": "ipython",
    "version": 3
   },
   "file_extension": ".py",
   "mimetype": "text/x-python",
   "name": "python",
   "nbconvert_exporter": "python",
   "pygments_lexer": "ipython3",
   "version": "3.6.3"
  }
 },
 "nbformat": 4,
 "nbformat_minor": 2
}
