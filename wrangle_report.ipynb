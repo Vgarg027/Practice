{
 "cells": [
  {
   "cell_type": "markdown",
   "metadata": {},
   "source": [
    "## Reporting: wragle_report\n",
    "* Create a **300-600 word written report** called \"wrangle_report.pdf\" or \"wrangle_report.html\" that briefly describes your wrangling efforts. This is to be framed as an internal document."
   ]
  },
  {
   "cell_type": "markdown",
   "metadata": {},
   "source": [
    "# Data Gathering"
   ]
  },
  {
   "cell_type": "markdown",
   "metadata": {},
   "source": [
    "The analysis was performed by extracting data from 3 sources:\n",
    "1. WeRateDogs Twitter archive which was available for direct download\n",
    "2. The tweet image predictions data which was downloaded from the website directly and\n",
    "3. Data from Twitter API"
   ]
  },
  {
   "cell_type": "markdown",
   "metadata": {},
   "source": [
    "# Data Accessing"
   ]
  },
  {
   "cell_type": "markdown",
   "metadata": {
    "collapsed": true
   },
   "source": [
    "Both Visual and programmatic asessment was done to assess the data and note the changes\n",
    "Few of the Quality issues which was noted from the assessment was:\n",
    "1. Name column in archive has names like 'a', 'an', 'the', 'my', 'not', 'None' which could be removed or can be grouped into a diff category like 'unknown'\n",
    "2. Presence of HTML parameters in the source column like '<a href=\"http://twitter.com/download/iphone\" rel=\"nofollow\">Twitter for iPhone</a>'. These parameters has to be removed by extracting only the Titles.\n",
    "3. jpg_url contains duplicate rows which has to be removed\n",
    "4. Prediction table has values which contains p1_dog,p2_dog,p3_dog as False. i.e. these are not predicted as dogs.\n",
    "5. img_num is not required and can be removed\n",
    "6. Finding the max confidence score for each prediction and selecting the breed name from the confidence\n",
    "7. Rating Denominator consist of 0 in  archive dataframe\n",
    "8. Selecting the best result from p1_conf, p2_conf and p3_conf in the prediction dataframe\n",
    "9. Timestamp and retweeted_status_timestamp must be datetime instead of the object type\n",
    "\n",
    "Few Tidiness issues noted were:\n",
    "1. Archive is the main dataframe but there are other informations present in other dataframes. So we need to merge all the files which has relevant data.\n",
    "2. Combining the dog stage in to single column\n",
    "\n",
    "All these issues were removed programatically and the cleaned dataset was merged into a master dataframe for further analysis"
   ]
  },
  {
   "cell_type": "markdown",
   "metadata": {},
   "source": [
    "# Insights Generation and Data Visualization"
   ]
  },
  {
   "cell_type": "markdown",
   "metadata": {},
   "source": [
    "The master dataset was analysed and was used for generating insights.\n",
    "Few insights generated were:\n",
    "1. Lucy and Charlie are the most common name for the dog with a count of 11 when compared with all the dog names followed by Cooper, Oliver with a count of 10.\n",
    "2. Golden Retriever is the most common dog breed followed by Labrador Retriever and Pembroke\n",
    "3. pupper is the favourite as well as most retweeted dog stage"
   ]
  },
  {
   "cell_type": "code",
   "execution_count": null,
   "metadata": {},
   "outputs": [],
   "source": []
  }
 ],
 "metadata": {
  "kernelspec": {
   "display_name": "Python 3",
   "language": "python",
   "name": "python3"
  },
  "language_info": {
   "codemirror_mode": {
    "name": "ipython",
    "version": 3
   },
   "file_extension": ".py",
   "mimetype": "text/x-python",
   "name": "python",
   "nbconvert_exporter": "python",
   "pygments_lexer": "ipython3",
   "version": "3.6.3"
  }
 },
 "nbformat": 4,
 "nbformat_minor": 2
}
