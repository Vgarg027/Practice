{
 "cells": [
  {
   "cell_type": "markdown",
   "metadata": {},
   "source": [
    "# Project: Investigate a Dataset - No Show Appointments \n",
    "\n",
    "## Table of Contents\n",
    "<ul>\n",
    "<li><a href=\"#intro\">Introduction</a></li>\n",
    "<li><a href=\"#wrangling\">Data Wrangling</a></li>\n",
    "<li><a href=\"#eda\">Exploratory Data Analysis</a></li>\n",
    "<li><a href=\"#conclusions\">Conclusions</a></li>\n",
    "</ul>"
   ]
  },
  {
   "cell_type": "markdown",
   "metadata": {},
   "source": [
    "<a id='intro'></a>\n",
    "## Introduction\n",
    "\n",
    "### Dataset Description \n",
    "\n",
    "\n",
    "The dataset **No Show Appointments** collects information from more than 100.000 medical appointments in Brazil. A number of characteristics about the patients are included in each row. Below you'll find a list of all columns of the dataset.\n",
    "\n",
    "1. **PatientId**: Identification of a patient\n",
    "2. **AppointmentID**: Identification of an appointment\n",
    "3. **Gender**: Male or female \n",
    "4. **SchedueledDay**: The day the patient sets up their doctors appointment\n",
    "5. **ApointmentDay**: The day the patient has to attend the doctors appointment \n",
    "6. **Age**: The age of the patient\n",
    "7. **Neighbourhood**: The location where the appointment takes place\n",
    "8. **Scholarship**: True of false, whether the patient receives financial aid from the social welfare program \"Bolsa Família\", which is provided by the Brazilian government. You'll find further information [here](https://en.wikipedia.org/wiki/Bolsa_Fam%C3%ADlia)\n",
    "9. **Hipertension**: 1 (true) or 0 (false), whether the patient suffers from illness \"Hipertension\"\n",
    "10. **Diabetes**: 1 (true) or 0 (false), whether the patient suffers from illness \"Diabetes\"\n",
    "11. **Alcoholism**: 1 (true) or 0 (false), whether the patient suffers from illness \"Alcoholism\"\n",
    "12. **Handcap**: Number of disabilities a patient has, stated from 0 to 4. \n",
    "13. **SMS_received**: 1 (true) or 0 (false), whether the patient received a reminder for the doctors appointment via SMS. \n",
    "14. **No-show**: Yes (not attended) or No (attended), whether the patient attended the doctors appointment. \n",
    "\n",
    "\n",
    "\n",
    "\n",
    "### Question(s) for Analysis\n",
    "\n",
    "In this project we'll focus on the question of whether or not patients show up for their doctors appointment. In particular, we'll be interested in finding trends among the patients who attended and how they differed from the patients who didn't attend.\n",
    "\n",
    "For this porpose, we'll answer the following sub-questions: \n",
    "- How many patients of the dataset attended their appointment in total?\n",
    "- Does the attendence depend on gender and age? \n",
    "- Does the attendence depend on a particular illness?\n",
    "- Does the attendence depend on the receipt of the financial aid from \"Bolsa Família\"?\n",
    "- Are there more correlations between those variables - for example between illness and age? \n",
    "- Does the attendence depend on a the timeframe between scheduling and the actual appointment date?"
   ]
  },
  {
   "cell_type": "code",
   "execution_count": 1,
   "metadata": {},
   "outputs": [
    {
     "name": "stderr",
     "output_type": "stream",
     "text": [
      "UsageError: Line magic function `%` not found.\n"
     ]
    }
   ],
   "source": [
    "# First we are using this cell to set up import statements for all of the packages that we\n",
    "#   plan to use.\n",
    "\n",
    "import numpy as np\n",
    "import pandas as pd\n",
    "import matplotlib.pyplot as plt\n",
    "import seaborn as sns\n",
    "% matplotlib inline"
   ]
  },
  {
   "cell_type": "markdown",
   "metadata": {},
   "source": [
    "<a id='wrangling'></a>\n",
    "## Data Wrangling\n",
    "\n",
    "In the following section we will explore and clean the dataset. This is necessary to make our analysis and visualizations work and subsequently to answer the questions for our analysis. \n",
    "\n",
    "\n",
    "### General Properties\n",
    "First we'll asses our data to build intuition about the data set and to analyse which cleaning steps are necessary to make the dataset for the analysis work. \n",
    "\n",
    "Therefore we'll load our data and print a few lines in the first place. Afterwards we perform operations to inspect the data, the data types and look for instances of missing or possibly errant data."
   ]
  },
  {
   "cell_type": "code",
   "execution_count": 2,
   "metadata": {},
   "outputs": [
    {
     "data": {
      "text/html": [
       "<div>\n",
       "<style scoped>\n",
       "    .dataframe tbody tr th:only-of-type {\n",
       "        vertical-align: middle;\n",
       "    }\n",
       "\n",
       "    .dataframe tbody tr th {\n",
       "        vertical-align: top;\n",
       "    }\n",
       "\n",
       "    .dataframe thead th {\n",
       "        text-align: right;\n",
       "    }\n",
       "</style>\n",
       "<table border=\"1\" class=\"dataframe\">\n",
       "  <thead>\n",
       "    <tr style=\"text-align: right;\">\n",
       "      <th></th>\n",
       "      <th>PatientId</th>\n",
       "      <th>AppointmentID</th>\n",
       "      <th>Gender</th>\n",
       "      <th>ScheduledDay</th>\n",
       "      <th>AppointmentDay</th>\n",
       "      <th>Age</th>\n",
       "      <th>Neighbourhood</th>\n",
       "      <th>Scholarship</th>\n",
       "      <th>Hipertension</th>\n",
       "      <th>Diabetes</th>\n",
       "      <th>Alcoholism</th>\n",
       "      <th>Handcap</th>\n",
       "      <th>SMS_received</th>\n",
       "      <th>No-show</th>\n",
       "    </tr>\n",
       "  </thead>\n",
       "  <tbody>\n",
       "    <tr>\n",
       "      <td>0</td>\n",
       "      <td>2.987250e+13</td>\n",
       "      <td>5642903</td>\n",
       "      <td>F</td>\n",
       "      <td>2016-04-29T18:38:08Z</td>\n",
       "      <td>2016-04-29T00:00:00Z</td>\n",
       "      <td>62</td>\n",
       "      <td>JARDIM DA PENHA</td>\n",
       "      <td>0</td>\n",
       "      <td>1</td>\n",
       "      <td>0</td>\n",
       "      <td>0</td>\n",
       "      <td>0</td>\n",
       "      <td>0</td>\n",
       "      <td>No</td>\n",
       "    </tr>\n",
       "    <tr>\n",
       "      <td>1</td>\n",
       "      <td>5.589978e+14</td>\n",
       "      <td>5642503</td>\n",
       "      <td>M</td>\n",
       "      <td>2016-04-29T16:08:27Z</td>\n",
       "      <td>2016-04-29T00:00:00Z</td>\n",
       "      <td>56</td>\n",
       "      <td>JARDIM DA PENHA</td>\n",
       "      <td>0</td>\n",
       "      <td>0</td>\n",
       "      <td>0</td>\n",
       "      <td>0</td>\n",
       "      <td>0</td>\n",
       "      <td>0</td>\n",
       "      <td>No</td>\n",
       "    </tr>\n",
       "    <tr>\n",
       "      <td>2</td>\n",
       "      <td>4.262962e+12</td>\n",
       "      <td>5642549</td>\n",
       "      <td>F</td>\n",
       "      <td>2016-04-29T16:19:04Z</td>\n",
       "      <td>2016-04-29T00:00:00Z</td>\n",
       "      <td>62</td>\n",
       "      <td>MATA DA PRAIA</td>\n",
       "      <td>0</td>\n",
       "      <td>0</td>\n",
       "      <td>0</td>\n",
       "      <td>0</td>\n",
       "      <td>0</td>\n",
       "      <td>0</td>\n",
       "      <td>No</td>\n",
       "    </tr>\n",
       "    <tr>\n",
       "      <td>3</td>\n",
       "      <td>8.679512e+11</td>\n",
       "      <td>5642828</td>\n",
       "      <td>F</td>\n",
       "      <td>2016-04-29T17:29:31Z</td>\n",
       "      <td>2016-04-29T00:00:00Z</td>\n",
       "      <td>8</td>\n",
       "      <td>PONTAL DE CAMBURI</td>\n",
       "      <td>0</td>\n",
       "      <td>0</td>\n",
       "      <td>0</td>\n",
       "      <td>0</td>\n",
       "      <td>0</td>\n",
       "      <td>0</td>\n",
       "      <td>No</td>\n",
       "    </tr>\n",
       "    <tr>\n",
       "      <td>4</td>\n",
       "      <td>8.841186e+12</td>\n",
       "      <td>5642494</td>\n",
       "      <td>F</td>\n",
       "      <td>2016-04-29T16:07:23Z</td>\n",
       "      <td>2016-04-29T00:00:00Z</td>\n",
       "      <td>56</td>\n",
       "      <td>JARDIM DA PENHA</td>\n",
       "      <td>0</td>\n",
       "      <td>1</td>\n",
       "      <td>1</td>\n",
       "      <td>0</td>\n",
       "      <td>0</td>\n",
       "      <td>0</td>\n",
       "      <td>No</td>\n",
       "    </tr>\n",
       "  </tbody>\n",
       "</table>\n",
       "</div>"
      ],
      "text/plain": [
       "      PatientId  AppointmentID Gender          ScheduledDay  \\\n",
       "0  2.987250e+13        5642903      F  2016-04-29T18:38:08Z   \n",
       "1  5.589978e+14        5642503      M  2016-04-29T16:08:27Z   \n",
       "2  4.262962e+12        5642549      F  2016-04-29T16:19:04Z   \n",
       "3  8.679512e+11        5642828      F  2016-04-29T17:29:31Z   \n",
       "4  8.841186e+12        5642494      F  2016-04-29T16:07:23Z   \n",
       "\n",
       "         AppointmentDay  Age      Neighbourhood  Scholarship  Hipertension  \\\n",
       "0  2016-04-29T00:00:00Z   62    JARDIM DA PENHA            0             1   \n",
       "1  2016-04-29T00:00:00Z   56    JARDIM DA PENHA            0             0   \n",
       "2  2016-04-29T00:00:00Z   62      MATA DA PRAIA            0             0   \n",
       "3  2016-04-29T00:00:00Z    8  PONTAL DE CAMBURI            0             0   \n",
       "4  2016-04-29T00:00:00Z   56    JARDIM DA PENHA            0             1   \n",
       "\n",
       "   Diabetes  Alcoholism  Handcap  SMS_received No-show  \n",
       "0         0           0        0             0      No  \n",
       "1         0           0        0             0      No  \n",
       "2         0           0        0             0      No  \n",
       "3         0           0        0             0      No  \n",
       "4         1           0        0             0      No  "
      ]
     },
     "execution_count": 2,
     "metadata": {},
     "output_type": "execute_result"
    }
   ],
   "source": [
    "# Load data and print out a few lines. \n",
    "df = pd.read_csv('noshowappointments-kagglev2-may-2016.csv')\n",
    "df.head()"
   ]
  },
  {
   "cell_type": "code",
   "execution_count": 3,
   "metadata": {},
   "outputs": [
    {
     "data": {
      "text/plain": [
       "(110527, 14)"
      ]
     },
     "execution_count": 3,
     "metadata": {},
     "output_type": "execute_result"
    }
   ],
   "source": [
    "# Get feeling for the size/shape of the dataframe\n",
    "df.shape"
   ]
  },
  {
   "cell_type": "code",
   "execution_count": 4,
   "metadata": {},
   "outputs": [
    {
     "name": "stdout",
     "output_type": "stream",
     "text": [
      "<class 'pandas.core.frame.DataFrame'>\n",
      "RangeIndex: 110527 entries, 0 to 110526\n",
      "Data columns (total 14 columns):\n",
      "PatientId         110527 non-null float64\n",
      "AppointmentID     110527 non-null int64\n",
      "Gender            110527 non-null object\n",
      "ScheduledDay      110527 non-null object\n",
      "AppointmentDay    110527 non-null object\n",
      "Age               110527 non-null int64\n",
      "Neighbourhood     110527 non-null object\n",
      "Scholarship       110527 non-null int64\n",
      "Hipertension      110527 non-null int64\n",
      "Diabetes          110527 non-null int64\n",
      "Alcoholism        110527 non-null int64\n",
      "Handcap           110527 non-null int64\n",
      "SMS_received      110527 non-null int64\n",
      "No-show           110527 non-null object\n",
      "dtypes: float64(1), int64(8), object(5)\n",
      "memory usage: 11.8+ MB\n"
     ]
    }
   ],
   "source": [
    "#Inspection of datatypes and missing data \n",
    "df.info()"
   ]
  },
  {
   "cell_type": "code",
   "execution_count": 5,
   "metadata": {},
   "outputs": [
    {
     "data": {
      "text/html": [
       "<div>\n",
       "<style scoped>\n",
       "    .dataframe tbody tr th:only-of-type {\n",
       "        vertical-align: middle;\n",
       "    }\n",
       "\n",
       "    .dataframe tbody tr th {\n",
       "        vertical-align: top;\n",
       "    }\n",
       "\n",
       "    .dataframe thead th {\n",
       "        text-align: right;\n",
       "    }\n",
       "</style>\n",
       "<table border=\"1\" class=\"dataframe\">\n",
       "  <thead>\n",
       "    <tr style=\"text-align: right;\">\n",
       "      <th></th>\n",
       "      <th>PatientId</th>\n",
       "      <th>AppointmentID</th>\n",
       "      <th>Age</th>\n",
       "      <th>Scholarship</th>\n",
       "      <th>Hipertension</th>\n",
       "      <th>Diabetes</th>\n",
       "      <th>Alcoholism</th>\n",
       "      <th>Handcap</th>\n",
       "      <th>SMS_received</th>\n",
       "    </tr>\n",
       "  </thead>\n",
       "  <tbody>\n",
       "    <tr>\n",
       "      <td>count</td>\n",
       "      <td>1.105270e+05</td>\n",
       "      <td>1.105270e+05</td>\n",
       "      <td>110527.000000</td>\n",
       "      <td>110527.000000</td>\n",
       "      <td>110527.000000</td>\n",
       "      <td>110527.000000</td>\n",
       "      <td>110527.000000</td>\n",
       "      <td>110527.000000</td>\n",
       "      <td>110527.000000</td>\n",
       "    </tr>\n",
       "    <tr>\n",
       "      <td>mean</td>\n",
       "      <td>1.474963e+14</td>\n",
       "      <td>5.675305e+06</td>\n",
       "      <td>37.088874</td>\n",
       "      <td>0.098266</td>\n",
       "      <td>0.197246</td>\n",
       "      <td>0.071865</td>\n",
       "      <td>0.030400</td>\n",
       "      <td>0.022248</td>\n",
       "      <td>0.321026</td>\n",
       "    </tr>\n",
       "    <tr>\n",
       "      <td>std</td>\n",
       "      <td>2.560949e+14</td>\n",
       "      <td>7.129575e+04</td>\n",
       "      <td>23.110205</td>\n",
       "      <td>0.297675</td>\n",
       "      <td>0.397921</td>\n",
       "      <td>0.258265</td>\n",
       "      <td>0.171686</td>\n",
       "      <td>0.161543</td>\n",
       "      <td>0.466873</td>\n",
       "    </tr>\n",
       "    <tr>\n",
       "      <td>min</td>\n",
       "      <td>3.921784e+04</td>\n",
       "      <td>5.030230e+06</td>\n",
       "      <td>-1.000000</td>\n",
       "      <td>0.000000</td>\n",
       "      <td>0.000000</td>\n",
       "      <td>0.000000</td>\n",
       "      <td>0.000000</td>\n",
       "      <td>0.000000</td>\n",
       "      <td>0.000000</td>\n",
       "    </tr>\n",
       "    <tr>\n",
       "      <td>25%</td>\n",
       "      <td>4.172614e+12</td>\n",
       "      <td>5.640286e+06</td>\n",
       "      <td>18.000000</td>\n",
       "      <td>0.000000</td>\n",
       "      <td>0.000000</td>\n",
       "      <td>0.000000</td>\n",
       "      <td>0.000000</td>\n",
       "      <td>0.000000</td>\n",
       "      <td>0.000000</td>\n",
       "    </tr>\n",
       "    <tr>\n",
       "      <td>50%</td>\n",
       "      <td>3.173184e+13</td>\n",
       "      <td>5.680573e+06</td>\n",
       "      <td>37.000000</td>\n",
       "      <td>0.000000</td>\n",
       "      <td>0.000000</td>\n",
       "      <td>0.000000</td>\n",
       "      <td>0.000000</td>\n",
       "      <td>0.000000</td>\n",
       "      <td>0.000000</td>\n",
       "    </tr>\n",
       "    <tr>\n",
       "      <td>75%</td>\n",
       "      <td>9.439172e+13</td>\n",
       "      <td>5.725524e+06</td>\n",
       "      <td>55.000000</td>\n",
       "      <td>0.000000</td>\n",
       "      <td>0.000000</td>\n",
       "      <td>0.000000</td>\n",
       "      <td>0.000000</td>\n",
       "      <td>0.000000</td>\n",
       "      <td>1.000000</td>\n",
       "    </tr>\n",
       "    <tr>\n",
       "      <td>max</td>\n",
       "      <td>9.999816e+14</td>\n",
       "      <td>5.790484e+06</td>\n",
       "      <td>115.000000</td>\n",
       "      <td>1.000000</td>\n",
       "      <td>1.000000</td>\n",
       "      <td>1.000000</td>\n",
       "      <td>1.000000</td>\n",
       "      <td>4.000000</td>\n",
       "      <td>1.000000</td>\n",
       "    </tr>\n",
       "  </tbody>\n",
       "</table>\n",
       "</div>"
      ],
      "text/plain": [
       "          PatientId  AppointmentID            Age    Scholarship  \\\n",
       "count  1.105270e+05   1.105270e+05  110527.000000  110527.000000   \n",
       "mean   1.474963e+14   5.675305e+06      37.088874       0.098266   \n",
       "std    2.560949e+14   7.129575e+04      23.110205       0.297675   \n",
       "min    3.921784e+04   5.030230e+06      -1.000000       0.000000   \n",
       "25%    4.172614e+12   5.640286e+06      18.000000       0.000000   \n",
       "50%    3.173184e+13   5.680573e+06      37.000000       0.000000   \n",
       "75%    9.439172e+13   5.725524e+06      55.000000       0.000000   \n",
       "max    9.999816e+14   5.790484e+06     115.000000       1.000000   \n",
       "\n",
       "        Hipertension       Diabetes     Alcoholism        Handcap  \\\n",
       "count  110527.000000  110527.000000  110527.000000  110527.000000   \n",
       "mean        0.197246       0.071865       0.030400       0.022248   \n",
       "std         0.397921       0.258265       0.171686       0.161543   \n",
       "min         0.000000       0.000000       0.000000       0.000000   \n",
       "25%         0.000000       0.000000       0.000000       0.000000   \n",
       "50%         0.000000       0.000000       0.000000       0.000000   \n",
       "75%         0.000000       0.000000       0.000000       0.000000   \n",
       "max         1.000000       1.000000       1.000000       4.000000   \n",
       "\n",
       "        SMS_received  \n",
       "count  110527.000000  \n",
       "mean        0.321026  \n",
       "std         0.466873  \n",
       "min         0.000000  \n",
       "25%         0.000000  \n",
       "50%         0.000000  \n",
       "75%         1.000000  \n",
       "max         1.000000  "
      ]
     },
     "execution_count": 5,
     "metadata": {},
     "output_type": "execute_result"
    }
   ],
   "source": [
    "#Inspection of values of the dataset \n",
    "df.describe()"
   ]
  },
  {
   "cell_type": "code",
   "execution_count": 6,
   "metadata": {},
   "outputs": [
    {
     "data": {
      "text/plain": [
       "PatientId          62299\n",
       "AppointmentID     110527\n",
       "Gender                 2\n",
       "ScheduledDay      103549\n",
       "AppointmentDay        27\n",
       "Age                  104\n",
       "Neighbourhood         81\n",
       "Scholarship            2\n",
       "Hipertension           2\n",
       "Diabetes               2\n",
       "Alcoholism             2\n",
       "Handcap                5\n",
       "SMS_received           2\n",
       "No-show                2\n",
       "dtype: int64"
      ]
     },
     "execution_count": 6,
     "metadata": {},
     "output_type": "execute_result"
    }
   ],
   "source": [
    "#Inspect amount of unique values for each column\n",
    "df.nunique()"
   ]
  },
  {
   "cell_type": "code",
   "execution_count": 7,
   "metadata": {},
   "outputs": [
    {
     "data": {
      "text/plain": [
       "48228"
      ]
     },
     "execution_count": 7,
     "metadata": {},
     "output_type": "execute_result"
    }
   ],
   "source": [
    "#How many duplicates contain PatientID? Do some patients schedule more than one appointment?\n",
    "df['PatientId'].duplicated().sum()"
   ]
  },
  {
   "cell_type": "code",
   "execution_count": 8,
   "metadata": {},
   "outputs": [
    {
     "data": {
      "text/plain": [
       "0"
      ]
     },
     "execution_count": 8,
     "metadata": {},
     "output_type": "execute_result"
    }
   ],
   "source": [
    "#How many duplicates contain AppointmentID? Do we get any important imformation from this column?\n",
    "df['AppointmentID'].duplicated().sum()"
   ]
  },
  {
   "cell_type": "code",
   "execution_count": 9,
   "metadata": {},
   "outputs": [
    {
     "data": {
      "image/png": "[encoded data removed]",
      "text/plain": [
       "<Figure size 1152x576 with 9 Axes>"
      ]
     },
     "metadata": {
      "needs_background": "light"
     },
     "output_type": "display_data"
    }
   ],
   "source": [
    "#Finally we let us show the histograms of the columns with numeric values to get an idea of the distribution of data\n",
    "df.hist(figsize = (16, 8));"
   ]
  },
  {
   "cell_type": "markdown",
   "metadata": {},
   "source": [
    "### Summary General Properties\n",
    "\n",
    "- The dataframe contains 14 columns & 110527 rows\n",
    "- It doesn't have missing data\n",
    "- The data is gathered for a time frame of 26 days \n",
    "- The oldest person in the data frame is 115 years old\n",
    "- PatientID contains duplicates: Same patients can schedule more than one appointment\n",
    "- Each appointment has an unique ID\n",
    "- ScheduledDay contains data about time, AppointmentDay doesn't\n",
    "- \"Age\" has negative values\n",
    "- \"0\" is generally used for \"false\" and \"1\" for \"true\"\n",
    "- \"Handicap is spelled wrongly and differs from the other illnesses. Instead of true and false values, it counts the number of disabilities. \n",
    "- The values in 'no-show' can have a missleading interpretation. \"Yes\"  means not attended and \"no\" means attended.The hyphen inside the name \"No-show\" can cause problems during the analysis. **Update: We'll rename our column to \"Attendance\" and convert our values to boolean datatypes.**\n",
    "- Age and neighborhoud are containing a lot of unique values. Age can be easily clusted into groups, neighborhoud doesn't\n",
    "\n",
    "\n",
    "#### Data Types\n",
    "- String: Gender, ScheduledDay, AppointmentDay, Neighbourhood, No-show    \n",
    "- Integer: AppointmentID, Age, Scholarship, Hipertension, Diabetes, Alcoholism, Handcap, SMS_received       \n",
    "- Float: PatientId\n"
   ]
  },
  {
   "cell_type": "markdown",
   "metadata": {},
   "source": [
    "\n",
    "### Data Cleaning\n",
    "\n",
    " After discussing the structure of the data and any problems that need to be cleaned, perform those cleaning steps in the second part of this section.\n",
    "\n",
    "Based on our summary of the general data assesment we can draw conclusinons for our data cleaning steps we would like to perform:\n",
    "\n",
    "1. Drop negative values in column \"Age\". Age has to be >= 0. \n",
    "\n",
    "2. Drop col~umns, we don't need for the analysis \n",
    "    - AppointmentID:  This column contains insignificant data. \n",
    "    - PatientID: This column contains significant data, which we won't use in the analysis. \n",
    "    - Neighbourhood: Too many unique neighborhoods and not enough information about each neighborhoods to cluster them into groups with same characteristics, won't be part of this analysis. \n",
    "    \n",
    "3. Rename values within columns \n",
    "    - Handcap:\n",
    "        - From 0 to 0(false) \n",
    "        - From 1 - 4 to 1(true)\n",
    "    \n",
    "4. Convert Data types in columns to make them useable for the analysis \n",
    "    - String to Datetime: ScheduledDay, AppointmentDay\n",
    "    - Integer to Boolean: Scholarship, Hipertension, Diabetes, Alcoholism, Handcap, SMS_received \n",
    "    - **Update: String to Boolean: No-show**\n",
    "    \n",
    "5. Rename Columns \n",
    "    - From Handcap to Handicap\n",
    "    - **Update: From No-show to Attendance** \n",
    "   \n",
    "6. Create new columns for further conclusions \n",
    "    - \"WaitingTime\": Period of time between 'ScheduledDay'and 'AppointmentDay' can give indication wether waiting time has impact on no show rate. \n",
    "    - \"WaitGroup\": Puts different appointments into groups based on the timeframe of waiting between 'ScheduledDay'and 'AppointmentDay'\n",
    "    - \"AgeGroup\": Puts different appointments into groups based on the patients age\n",
    "    - \"Illness\": Puts different appointments into groups based wether the patient has an illness or not; based on the four illnesses we have data for \n",
    "    \n",
    "7. Further changes of the dataset witch appear as neccessary during the analysis \n",
    "    - Drop negative \"WaitingTime\"\n"
   ]
  },
  {
   "cell_type": "markdown",
   "metadata": {},
   "source": [
    "#### 1. Drop negative values in column \"Age\""
   ]
  },
  {
   "cell_type": "code",
   "execution_count": 10,
   "metadata": {},
   "outputs": [
    {
     "data": {
      "text/html": [
       "<div>\n",
       "<style scoped>\n",
       "    .dataframe tbody tr th:only-of-type {\n",
       "        vertical-align: middle;\n",
       "    }\n",
       "\n",
       "    .dataframe tbody tr th {\n",
       "        vertical-align: top;\n",
       "    }\n",
       "\n",
       "    .dataframe thead th {\n",
       "        text-align: right;\n",
       "    }\n",
       "</style>\n",
       "<table border=\"1\" class=\"dataframe\">\n",
       "  <thead>\n",
       "    <tr style=\"text-align: right;\">\n",
       "      <th></th>\n",
       "      <th>PatientId</th>\n",
       "      <th>AppointmentID</th>\n",
       "      <th>Gender</th>\n",
       "      <th>ScheduledDay</th>\n",
       "      <th>AppointmentDay</th>\n",
       "      <th>Age</th>\n",
       "      <th>Neighbourhood</th>\n",
       "      <th>Scholarship</th>\n",
       "      <th>Hipertension</th>\n",
       "      <th>Diabetes</th>\n",
       "      <th>Alcoholism</th>\n",
       "      <th>Handcap</th>\n",
       "      <th>SMS_received</th>\n",
       "      <th>No-show</th>\n",
       "    </tr>\n",
       "  </thead>\n",
       "  <tbody>\n",
       "    <tr>\n",
       "      <td>99832</td>\n",
       "      <td>4.659432e+14</td>\n",
       "      <td>5775010</td>\n",
       "      <td>F</td>\n",
       "      <td>2016-06-06T08:58:13Z</td>\n",
       "      <td>2016-06-06T00:00:00Z</td>\n",
       "      <td>-1</td>\n",
       "      <td>ROMÃO</td>\n",
       "      <td>0</td>\n",
       "      <td>0</td>\n",
       "      <td>0</td>\n",
       "      <td>0</td>\n",
       "      <td>0</td>\n",
       "      <td>0</td>\n",
       "      <td>No</td>\n",
       "    </tr>\n",
       "  </tbody>\n",
       "</table>\n",
       "</div>"
      ],
      "text/plain": [
       "          PatientId  AppointmentID Gender          ScheduledDay  \\\n",
       "99832  4.659432e+14        5775010      F  2016-06-06T08:58:13Z   \n",
       "\n",
       "             AppointmentDay  Age Neighbourhood  Scholarship  Hipertension  \\\n",
       "99832  2016-06-06T00:00:00Z   -1         ROMÃO            0             0   \n",
       "\n",
       "       Diabetes  Alcoholism  Handcap  SMS_received No-show  \n",
       "99832         0           0        0             0      No  "
      ]
     },
     "execution_count": 10,
     "metadata": {},
     "output_type": "execute_result"
    }
   ],
   "source": [
    "#Identify negative values in column \"Age\"\n",
    "neg_age = df.query('Age < 0')\n",
    "neg_age"
   ]
  },
  {
   "cell_type": "code",
   "execution_count": 11,
   "metadata": {},
   "outputs": [
    {
     "data": {
      "text/html": [
       "<div>\n",
       "<style scoped>\n",
       "    .dataframe tbody tr th:only-of-type {\n",
       "        vertical-align: middle;\n",
       "    }\n",
       "\n",
       "    .dataframe tbody tr th {\n",
       "        vertical-align: top;\n",
       "    }\n",
       "\n",
       "    .dataframe thead th {\n",
       "        text-align: right;\n",
       "    }\n",
       "</style>\n",
       "<table border=\"1\" class=\"dataframe\">\n",
       "  <thead>\n",
       "    <tr style=\"text-align: right;\">\n",
       "      <th></th>\n",
       "      <th>PatientId</th>\n",
       "      <th>AppointmentID</th>\n",
       "      <th>Gender</th>\n",
       "      <th>ScheduledDay</th>\n",
       "      <th>AppointmentDay</th>\n",
       "      <th>Age</th>\n",
       "      <th>Neighbourhood</th>\n",
       "      <th>Scholarship</th>\n",
       "      <th>Hipertension</th>\n",
       "      <th>Diabetes</th>\n",
       "      <th>Alcoholism</th>\n",
       "      <th>Handcap</th>\n",
       "      <th>SMS_received</th>\n",
       "      <th>No-show</th>\n",
       "    </tr>\n",
       "  </thead>\n",
       "  <tbody>\n",
       "  </tbody>\n",
       "</table>\n",
       "</div>"
      ],
      "text/plain": [
       "Empty DataFrame\n",
       "Columns: [PatientId, AppointmentID, Gender, ScheduledDay, AppointmentDay, Age, Neighbourhood, Scholarship, Hipertension, Diabetes, Alcoholism, Handcap, SMS_received, No-show]\n",
       "Index: []"
      ]
     },
     "execution_count": 11,
     "metadata": {},
     "output_type": "execute_result"
    }
   ],
   "source": [
    "#Drop negative values in column \"Age\" & test if negative values in column \"Age\" are still remaining \n",
    "df.drop(neg_age.index,inplace = True)\n",
    "df.query('Age < 0')"
   ]
  },
  {
   "cell_type": "markdown",
   "metadata": {},
   "source": [
    "#### 2. Drop columns, we don't need for the analysis "
   ]
  },
  {
   "cell_type": "code",
   "execution_count": 12,
   "metadata": {},
   "outputs": [
    {
     "data": {
      "text/html": [
       "<div>\n",
       "<style scoped>\n",
       "    .dataframe tbody tr th:only-of-type {\n",
       "        vertical-align: middle;\n",
       "    }\n",
       "\n",
       "    .dataframe tbody tr th {\n",
       "        vertical-align: top;\n",
       "    }\n",
       "\n",
       "    .dataframe thead th {\n",
       "        text-align: right;\n",
       "    }\n",
       "</style>\n",
       "<table border=\"1\" class=\"dataframe\">\n",
       "  <thead>\n",
       "    <tr style=\"text-align: right;\">\n",
       "      <th></th>\n",
       "      <th>Gender</th>\n",
       "      <th>ScheduledDay</th>\n",
       "      <th>AppointmentDay</th>\n",
       "      <th>Age</th>\n",
       "      <th>Scholarship</th>\n",
       "      <th>Hipertension</th>\n",
       "      <th>Diabetes</th>\n",
       "      <th>Alcoholism</th>\n",
       "      <th>Handcap</th>\n",
       "      <th>SMS_received</th>\n",
       "      <th>No-show</th>\n",
       "    </tr>\n",
       "  </thead>\n",
       "  <tbody>\n",
       "  </tbody>\n",
       "</table>\n",
       "</div>"
      ],
      "text/plain": [
       "Empty DataFrame\n",
       "Columns: [Gender, ScheduledDay, AppointmentDay, Age, Scholarship, Hipertension, Diabetes, Alcoholism, Handcap, SMS_received, No-show]\n",
       "Index: []"
      ]
     },
     "execution_count": 12,
     "metadata": {},
     "output_type": "execute_result"
    }
   ],
   "source": [
    "#Drop column AppointmentID & Neighbourhood\n",
    "df.drop(['PatientId','AppointmentID','Neighbourhood'],axis = 1, inplace = True)\n",
    "df.head(0)"
   ]
  },
  {
   "cell_type": "markdown",
   "metadata": {},
   "source": [
    "#### 3. Rename values within columns "
   ]
  },
  {
   "cell_type": "code",
   "execution_count": 13,
   "metadata": {},
   "outputs": [
    {
     "data": {
      "text/html": [
       "<div>\n",
       "<style scoped>\n",
       "    .dataframe tbody tr th:only-of-type {\n",
       "        vertical-align: middle;\n",
       "    }\n",
       "\n",
       "    .dataframe tbody tr th {\n",
       "        vertical-align: top;\n",
       "    }\n",
       "\n",
       "    .dataframe thead th {\n",
       "        text-align: right;\n",
       "    }\n",
       "</style>\n",
       "<table border=\"1\" class=\"dataframe\">\n",
       "  <thead>\n",
       "    <tr style=\"text-align: right;\">\n",
       "      <th></th>\n",
       "      <th>Gender</th>\n",
       "      <th>ScheduledDay</th>\n",
       "      <th>AppointmentDay</th>\n",
       "      <th>Age</th>\n",
       "      <th>Scholarship</th>\n",
       "      <th>Hipertension</th>\n",
       "      <th>Diabetes</th>\n",
       "      <th>Alcoholism</th>\n",
       "      <th>Handcap</th>\n",
       "      <th>SMS_received</th>\n",
       "      <th>No-show</th>\n",
       "    </tr>\n",
       "  </thead>\n",
       "  <tbody>\n",
       "  </tbody>\n",
       "</table>\n",
       "</div>"
      ],
      "text/plain": [
       "Empty DataFrame\n",
       "Columns: [Gender, ScheduledDay, AppointmentDay, Age, Scholarship, Hipertension, Diabetes, Alcoholism, Handcap, SMS_received, No-show]\n",
       "Index: []"
      ]
     },
     "execution_count": 13,
     "metadata": {},
     "output_type": "execute_result"
    }
   ],
   "source": [
    "#Rename values in column \"Handicap\" & test if  values greater 1 are still remaining in column \"Handicap\" \n",
    "df['Handcap']= pd.cut(df['Handcap'],[-1,1,5], labels=[0,1])\n",
    "df.query('Handcap > 1')"
   ]
  },
  {
   "cell_type": "markdown",
   "metadata": {},
   "source": [
    "#### 4. Convert Data types in columns to make them useable for the analysis "
   ]
  },
  {
   "cell_type": "code",
   "execution_count": 14,
   "metadata": {},
   "outputs": [],
   "source": [
    "#Convert ScheduledDay, AppointmentDay from String to Datetime without information about time \n",
    "df['ScheduledDay']= pd.to_datetime(df['ScheduledDay']).dt.date\n",
    "df['AppointmentDay']= pd.to_datetime(df['AppointmentDay']).dt.date"
   ]
  },
  {
   "cell_type": "code",
   "execution_count": 15,
   "metadata": {},
   "outputs": [],
   "source": [
    "#Convert Scholarship, Hipertension, Diabetes, Alcoholism, Handcap, SMS_received from Integer to Boolean\n",
    "boollist = ['Scholarship','Hipertension','Diabetes', 'Alcoholism','Handcap','SMS_received']\n",
    "for a in boollist:\n",
    "    df[a] = df[a].astype(bool)"
   ]
  },
  {
   "cell_type": "code",
   "execution_count": 16,
   "metadata": {},
   "outputs": [],
   "source": [
    "#Update: Convert No-show from Sting to Boolean\n",
    "#Remark: in the following steps will rename \"No-show\" to \"Attendance\"\n",
    "df['No-show'].replace ({'Yes': False, 'No': True}, inplace = True )"
   ]
  },
  {
   "cell_type": "code",
   "execution_count": 17,
   "metadata": {},
   "outputs": [
    {
     "name": "stdout",
     "output_type": "stream",
     "text": [
      "<class 'pandas.core.frame.DataFrame'>\n",
      "Int64Index: 110526 entries, 0 to 110526\n",
      "Data columns (total 11 columns):\n",
      "Gender            110526 non-null object\n",
      "ScheduledDay      110526 non-null object\n",
      "AppointmentDay    110526 non-null object\n",
      "Age               110526 non-null int64\n",
      "Scholarship       110526 non-null bool\n",
      "Hipertension      110526 non-null bool\n",
      "Diabetes          110526 non-null bool\n",
      "Alcoholism        110526 non-null bool\n",
      "Handcap           110526 non-null bool\n",
      "SMS_received      110526 non-null bool\n",
      "No-show           110526 non-null bool\n",
      "dtypes: bool(7), int64(1), object(3)\n",
      "memory usage: 5.0+ MB\n"
     ]
    }
   ],
   "source": [
    "#Test if converting was successfull \n",
    "df.info()"
   ]
  },
  {
   "cell_type": "markdown",
   "metadata": {},
   "source": [
    "#### 5. Rename columns "
   ]
  },
  {
   "cell_type": "code",
   "execution_count": 18,
   "metadata": {},
   "outputs": [
    {
     "data": {
      "text/html": [
       "<div>\n",
       "<style scoped>\n",
       "    .dataframe tbody tr th:only-of-type {\n",
       "        vertical-align: middle;\n",
       "    }\n",
       "\n",
       "    .dataframe tbody tr th {\n",
       "        vertical-align: top;\n",
       "    }\n",
       "\n",
       "    .dataframe thead th {\n",
       "        text-align: right;\n",
       "    }\n",
       "</style>\n",
       "<table border=\"1\" class=\"dataframe\">\n",
       "  <thead>\n",
       "    <tr style=\"text-align: right;\">\n",
       "      <th></th>\n",
       "      <th>Gender</th>\n",
       "      <th>ScheduledDay</th>\n",
       "      <th>AppointmentDay</th>\n",
       "      <th>Age</th>\n",
       "      <th>Scholarship</th>\n",
       "      <th>Hipertension</th>\n",
       "      <th>Diabetes</th>\n",
       "      <th>Alcoholism</th>\n",
       "      <th>Handicap</th>\n",
       "      <th>SMS_received</th>\n",
       "      <th>Attendance</th>\n",
       "    </tr>\n",
       "  </thead>\n",
       "  <tbody>\n",
       "  </tbody>\n",
       "</table>\n",
       "</div>"
      ],
      "text/plain": [
       "Empty DataFrame\n",
       "Columns: [Gender, ScheduledDay, AppointmentDay, Age, Scholarship, Hipertension, Diabetes, Alcoholism, Handicap, SMS_received, Attendance]\n",
       "Index: []"
      ]
     },
     "execution_count": 18,
     "metadata": {},
     "output_type": "execute_result"
    }
   ],
   "source": [
    "#Rename columns and test changes\n",
    "df = df.rename(columns = {'Handcap':'Handicap','No-show':'Attendance'})\n",
    "df.head(0)"
   ]
  },
  {
   "cell_type": "markdown",
   "metadata": {},
   "source": [
    "#### 6. Create new columns \n",
    "**Waiting Time** "
   ]
  },
  {
   "cell_type": "code",
   "execution_count": 19,
   "metadata": {},
   "outputs": [
    {
     "data": {
      "text/html": [
       "<div>\n",
       "<style scoped>\n",
       "    .dataframe tbody tr th:only-of-type {\n",
       "        vertical-align: middle;\n",
       "    }\n",
       "\n",
       "    .dataframe tbody tr th {\n",
       "        vertical-align: top;\n",
       "    }\n",
       "\n",
       "    .dataframe thead th {\n",
       "        text-align: right;\n",
       "    }\n",
       "</style>\n",
       "<table border=\"1\" class=\"dataframe\">\n",
       "  <thead>\n",
       "    <tr style=\"text-align: right;\">\n",
       "      <th></th>\n",
       "      <th>Age</th>\n",
       "      <th>WaitingTime</th>\n",
       "    </tr>\n",
       "  </thead>\n",
       "  <tbody>\n",
       "    <tr>\n",
       "      <td>count</td>\n",
       "      <td>110526.000000</td>\n",
       "      <td>110526.000000</td>\n",
       "    </tr>\n",
       "    <tr>\n",
       "      <td>mean</td>\n",
       "      <td>37.089219</td>\n",
       "      <td>10.183794</td>\n",
       "    </tr>\n",
       "    <tr>\n",
       "      <td>std</td>\n",
       "      <td>23.110026</td>\n",
       "      <td>15.255034</td>\n",
       "    </tr>\n",
       "    <tr>\n",
       "      <td>min</td>\n",
       "      <td>0.000000</td>\n",
       "      <td>-6.000000</td>\n",
       "    </tr>\n",
       "    <tr>\n",
       "      <td>25%</td>\n",
       "      <td>18.000000</td>\n",
       "      <td>0.000000</td>\n",
       "    </tr>\n",
       "    <tr>\n",
       "      <td>50%</td>\n",
       "      <td>37.000000</td>\n",
       "      <td>4.000000</td>\n",
       "    </tr>\n",
       "    <tr>\n",
       "      <td>75%</td>\n",
       "      <td>55.000000</td>\n",
       "      <td>15.000000</td>\n",
       "    </tr>\n",
       "    <tr>\n",
       "      <td>max</td>\n",
       "      <td>115.000000</td>\n",
       "      <td>179.000000</td>\n",
       "    </tr>\n",
       "  </tbody>\n",
       "</table>\n",
       "</div>"
      ],
      "text/plain": [
       "                 Age    WaitingTime\n",
       "count  110526.000000  110526.000000\n",
       "mean       37.089219      10.183794\n",
       "std        23.110026      15.255034\n",
       "min         0.000000      -6.000000\n",
       "25%        18.000000       0.000000\n",
       "50%        37.000000       4.000000\n",
       "75%        55.000000      15.000000\n",
       "max       115.000000     179.000000"
      ]
     },
     "execution_count": 19,
     "metadata": {},
     "output_type": "execute_result"
    }
   ],
   "source": [
    " # Create new Column \"WaitingTime\" as Integer\n",
    "df['WaitingTime'] = df['AppointmentDay']-df['ScheduledDay']\n",
    "df['WaitingTime']=df['WaitingTime'].dt.days\n",
    "df.describe()"
   ]
  },
  {
   "cell_type": "markdown",
   "metadata": {},
   "source": [
    "As we see, we have negative values for waiting time. We will drop them from our data frame "
   ]
  },
  {
   "cell_type": "code",
   "execution_count": 20,
   "metadata": {},
   "outputs": [
    {
     "data": {
      "text/html": [
       "<div>\n",
       "<style scoped>\n",
       "    .dataframe tbody tr th:only-of-type {\n",
       "        vertical-align: middle;\n",
       "    }\n",
       "\n",
       "    .dataframe tbody tr th {\n",
       "        vertical-align: top;\n",
       "    }\n",
       "\n",
       "    .dataframe thead th {\n",
       "        text-align: right;\n",
       "    }\n",
       "</style>\n",
       "<table border=\"1\" class=\"dataframe\">\n",
       "  <thead>\n",
       "    <tr style=\"text-align: right;\">\n",
       "      <th></th>\n",
       "      <th>Gender</th>\n",
       "      <th>ScheduledDay</th>\n",
       "      <th>AppointmentDay</th>\n",
       "      <th>Age</th>\n",
       "      <th>Scholarship</th>\n",
       "      <th>Hipertension</th>\n",
       "      <th>Diabetes</th>\n",
       "      <th>Alcoholism</th>\n",
       "      <th>Handicap</th>\n",
       "      <th>SMS_received</th>\n",
       "      <th>Attendance</th>\n",
       "      <th>WaitingTime</th>\n",
       "    </tr>\n",
       "  </thead>\n",
       "  <tbody>\n",
       "    <tr>\n",
       "      <td>27033</td>\n",
       "      <td>M</td>\n",
       "      <td>2016-05-10</td>\n",
       "      <td>2016-05-09</td>\n",
       "      <td>38</td>\n",
       "      <td>False</td>\n",
       "      <td>False</td>\n",
       "      <td>False</td>\n",
       "      <td>False</td>\n",
       "      <td>False</td>\n",
       "      <td>False</td>\n",
       "      <td>False</td>\n",
       "      <td>-1</td>\n",
       "    </tr>\n",
       "    <tr>\n",
       "      <td>55226</td>\n",
       "      <td>F</td>\n",
       "      <td>2016-05-18</td>\n",
       "      <td>2016-05-17</td>\n",
       "      <td>19</td>\n",
       "      <td>False</td>\n",
       "      <td>False</td>\n",
       "      <td>False</td>\n",
       "      <td>False</td>\n",
       "      <td>False</td>\n",
       "      <td>False</td>\n",
       "      <td>False</td>\n",
       "      <td>-1</td>\n",
       "    </tr>\n",
       "    <tr>\n",
       "      <td>64175</td>\n",
       "      <td>F</td>\n",
       "      <td>2016-05-05</td>\n",
       "      <td>2016-05-04</td>\n",
       "      <td>22</td>\n",
       "      <td>False</td>\n",
       "      <td>False</td>\n",
       "      <td>False</td>\n",
       "      <td>False</td>\n",
       "      <td>False</td>\n",
       "      <td>False</td>\n",
       "      <td>False</td>\n",
       "      <td>-1</td>\n",
       "    </tr>\n",
       "    <tr>\n",
       "      <td>71533</td>\n",
       "      <td>F</td>\n",
       "      <td>2016-05-11</td>\n",
       "      <td>2016-05-05</td>\n",
       "      <td>81</td>\n",
       "      <td>False</td>\n",
       "      <td>False</td>\n",
       "      <td>False</td>\n",
       "      <td>False</td>\n",
       "      <td>False</td>\n",
       "      <td>False</td>\n",
       "      <td>False</td>\n",
       "      <td>-6</td>\n",
       "    </tr>\n",
       "    <tr>\n",
       "      <td>72362</td>\n",
       "      <td>M</td>\n",
       "      <td>2016-05-04</td>\n",
       "      <td>2016-05-03</td>\n",
       "      <td>7</td>\n",
       "      <td>False</td>\n",
       "      <td>False</td>\n",
       "      <td>False</td>\n",
       "      <td>False</td>\n",
       "      <td>False</td>\n",
       "      <td>False</td>\n",
       "      <td>False</td>\n",
       "      <td>-1</td>\n",
       "    </tr>\n",
       "  </tbody>\n",
       "</table>\n",
       "</div>"
      ],
      "text/plain": [
       "      Gender ScheduledDay AppointmentDay  Age  Scholarship  Hipertension  \\\n",
       "27033      M   2016-05-10     2016-05-09   38        False         False   \n",
       "55226      F   2016-05-18     2016-05-17   19        False         False   \n",
       "64175      F   2016-05-05     2016-05-04   22        False         False   \n",
       "71533      F   2016-05-11     2016-05-05   81        False         False   \n",
       "72362      M   2016-05-04     2016-05-03    7        False         False   \n",
       "\n",
       "       Diabetes  Alcoholism  Handicap  SMS_received  Attendance  WaitingTime  \n",
       "27033     False       False     False         False       False           -1  \n",
       "55226     False       False     False         False       False           -1  \n",
       "64175     False       False     False         False       False           -1  \n",
       "71533     False       False     False         False       False           -6  \n",
       "72362     False       False     False         False       False           -1  "
      ]
     },
     "execution_count": 20,
     "metadata": {},
     "output_type": "execute_result"
    }
   ],
   "source": [
    "#New Dataframe for negative waiting time \"neg_waiting_time\" -> 5 rows\n",
    "neg_waiting_time = df.query('WaitingTime<0')\n",
    "neg_waiting_time"
   ]
  },
  {
   "cell_type": "code",
   "execution_count": 21,
   "metadata": {},
   "outputs": [
    {
     "data": {
      "text/html": [
       "<div>\n",
       "<style scoped>\n",
       "    .dataframe tbody tr th:only-of-type {\n",
       "        vertical-align: middle;\n",
       "    }\n",
       "\n",
       "    .dataframe tbody tr th {\n",
       "        vertical-align: top;\n",
       "    }\n",
       "\n",
       "    .dataframe thead th {\n",
       "        text-align: right;\n",
       "    }\n",
       "</style>\n",
       "<table border=\"1\" class=\"dataframe\">\n",
       "  <thead>\n",
       "    <tr style=\"text-align: right;\">\n",
       "      <th></th>\n",
       "      <th>Gender</th>\n",
       "      <th>ScheduledDay</th>\n",
       "      <th>AppointmentDay</th>\n",
       "      <th>Age</th>\n",
       "      <th>Scholarship</th>\n",
       "      <th>Hipertension</th>\n",
       "      <th>Diabetes</th>\n",
       "      <th>Alcoholism</th>\n",
       "      <th>Handicap</th>\n",
       "      <th>SMS_received</th>\n",
       "      <th>Attendance</th>\n",
       "      <th>WaitingTime</th>\n",
       "    </tr>\n",
       "  </thead>\n",
       "  <tbody>\n",
       "  </tbody>\n",
       "</table>\n",
       "</div>"
      ],
      "text/plain": [
       "Empty DataFrame\n",
       "Columns: [Gender, ScheduledDay, AppointmentDay, Age, Scholarship, Hipertension, Diabetes, Alcoholism, Handicap, SMS_received, Attendance, WaitingTime]\n",
       "Index: []"
      ]
     },
     "execution_count": 21,
     "metadata": {},
     "output_type": "execute_result"
    }
   ],
   "source": [
    "#Drop values with negative waiting time from dataframe and test changes\n",
    "df.drop(neg_waiting_time.index,inplace = True)\n",
    "df.query('WaitingTime<0')"
   ]
  },
  {
   "cell_type": "markdown",
   "metadata": {},
   "source": [
    "**Wait_Group** "
   ]
  },
  {
   "cell_type": "markdown",
   "metadata": {},
   "source": [
    "Since we have so many different values for WaitingTime (see unique values  above), we will cluster the appointments based on this column into groups to make them more comparable\n",
    "\n",
    "We'll have 11 differnet groups: \n",
    "- 01_same day: WaitingTime = 0 days\n",
    "- 02_one day: WaitingTime = 1 day\n",
    "- 03_two days: WaitingTime = 2 days\n",
    "- 04_three days: WaitingTime = 3 days\n",
    "- 05_one week: WaitingTime = 4-7 days\n",
    "- 06_two weeks: WaitingTime = 8-14 days\n",
    "- 07_three weeks: WaitingTime = 15-21 days\n",
    "- 08_one month: WaitingTime = 22-30 days\n",
    "- 09_two months: WaitingTime = 31-60 days\n",
    "- 10_three months: WaitingTime = 61-90 days\n",
    "- 11_>three months: WaitingTime = >90 days"
   ]
  },
  {
   "cell_type": "code",
   "execution_count": 22,
   "metadata": {},
   "outputs": [],
   "source": [
    " # Create new Column \"Wait_group\" with the groups we defined above\n",
    "wait_edges = [-1,0,1,2,3,7,14,21,30,60,90,200]\n",
    "wait_names = ['01_same day','02_one day','03_two days','04_three days','05_one week','06_two weeks','07_three weeks','08_one month','09_two months','10_three months','11_>three months']\n",
    "df['Wait_group']= pd.cut(df['WaitingTime'],wait_edges, labels = wait_names)"
   ]
  },
  {
   "cell_type": "markdown",
   "metadata": {},
   "source": [
    "**Age_Group** \n",
    "\n",
    "Since we have so many different values for \"Age\" (see unique values above), we will cluster the appointments based on this column into groups to make them more comparable.\n",
    "\n",
    "We'll have 11 differnet groups: \n",
    "- 0-12: Age = 0 -12 years\n",
    "- 13-19: Age = 13-19 years\n",
    "- 20-29: Age = 20-29 years\n",
    "- 30-39: Age = 30-39 years\n",
    "- 40-49: Age = 40-49 years\n",
    "- 50-59: Age = 50-59 years\n",
    "- 60-69: Age = 60-69 years\n",
    "- 70-79: Age = 70-79 years\n",
    "- 80-89: Age = 80-89 years\n",
    "- 90-99: Age = 90-99 years\n",
    "- '>100': Age = >100 years"
   ]
  },
  {
   "cell_type": "code",
   "execution_count": 23,
   "metadata": {},
   "outputs": [],
   "source": [
    "# Create new Column \"Age_group\" with the groups we defined above\n",
    "bin_edges = [-1,12,19,29,39,49,59,69,79,89,99,119]\n",
    "bin_names = ['0-12','13-19','20-29','30-39','40-49','50-59','60-69','70-79','80-89','90-99','>100']\n",
    "df['Age_group']= pd.cut(df['Age'],bin_edges, labels = bin_names)"
   ]
  },
  {
   "cell_type": "markdown",
   "metadata": {},
   "source": [
    "**Illness**\n",
    "\n",
    "We create a new column and are puting different appointments into groups based wether the patient has an illness or not (Condition: The value of one illness has to be \"True\")"
   ]
  },
  {
   "cell_type": "code",
   "execution_count": 24,
   "metadata": {},
   "outputs": [],
   "source": [
    "# Create new column \"Illness\" with function np.select. \n",
    "#One of the illnesses needs the value \"True\". If non is True the output for the new column will be \"false\"\n",
    "\n",
    "conditions = [\n",
    "    df['Hipertension']== True, \n",
    "    df['Diabetes']== True, \n",
    "    df['Alcoholism'] == True,\n",
    "    df ['Handicap']== True\n",
    "             ]\n",
    "output = [True,True,True,True] \n",
    "\n",
    "Ill = np.select(conditions,output,False)\n",
    "df['Illness']= pd.Series(Ill)\n",
    "df['Illness']= df['Illness'].astype(bool)"
   ]
  },
  {
   "cell_type": "code",
   "execution_count": 25,
   "metadata": {},
   "outputs": [
    {
     "data": {
      "text/html": [
       "<div>\n",
       "<style scoped>\n",
       "    .dataframe tbody tr th:only-of-type {\n",
       "        vertical-align: middle;\n",
       "    }\n",
       "\n",
       "    .dataframe tbody tr th {\n",
       "        vertical-align: top;\n",
       "    }\n",
       "\n",
       "    .dataframe thead th {\n",
       "        text-align: right;\n",
       "    }\n",
       "</style>\n",
       "<table border=\"1\" class=\"dataframe\">\n",
       "  <thead>\n",
       "    <tr style=\"text-align: right;\">\n",
       "      <th></th>\n",
       "      <th>Gender</th>\n",
       "      <th>ScheduledDay</th>\n",
       "      <th>AppointmentDay</th>\n",
       "      <th>Age</th>\n",
       "      <th>Scholarship</th>\n",
       "      <th>Hipertension</th>\n",
       "      <th>Diabetes</th>\n",
       "      <th>Alcoholism</th>\n",
       "      <th>Handicap</th>\n",
       "      <th>SMS_received</th>\n",
       "      <th>Attendance</th>\n",
       "      <th>WaitingTime</th>\n",
       "      <th>Wait_group</th>\n",
       "      <th>Age_group</th>\n",
       "      <th>Illness</th>\n",
       "    </tr>\n",
       "  </thead>\n",
       "  <tbody>\n",
       "    <tr>\n",
       "      <td>0</td>\n",
       "      <td>F</td>\n",
       "      <td>2016-04-29</td>\n",
       "      <td>2016-04-29</td>\n",
       "      <td>62</td>\n",
       "      <td>False</td>\n",
       "      <td>True</td>\n",
       "      <td>False</td>\n",
       "      <td>False</td>\n",
       "      <td>False</td>\n",
       "      <td>False</td>\n",
       "      <td>True</td>\n",
       "      <td>0</td>\n",
       "      <td>01_same day</td>\n",
       "      <td>60-69</td>\n",
       "      <td>True</td>\n",
       "    </tr>\n",
       "    <tr>\n",
       "      <td>1</td>\n",
       "      <td>M</td>\n",
       "      <td>2016-04-29</td>\n",
       "      <td>2016-04-29</td>\n",
       "      <td>56</td>\n",
       "      <td>False</td>\n",
       "      <td>False</td>\n",
       "      <td>False</td>\n",
       "      <td>False</td>\n",
       "      <td>False</td>\n",
       "      <td>False</td>\n",
       "      <td>True</td>\n",
       "      <td>0</td>\n",
       "      <td>01_same day</td>\n",
       "      <td>50-59</td>\n",
       "      <td>False</td>\n",
       "    </tr>\n",
       "    <tr>\n",
       "      <td>2</td>\n",
       "      <td>F</td>\n",
       "      <td>2016-04-29</td>\n",
       "      <td>2016-04-29</td>\n",
       "      <td>62</td>\n",
       "      <td>False</td>\n",
       "      <td>False</td>\n",
       "      <td>False</td>\n",
       "      <td>False</td>\n",
       "      <td>False</td>\n",
       "      <td>False</td>\n",
       "      <td>True</td>\n",
       "      <td>0</td>\n",
       "      <td>01_same day</td>\n",
       "      <td>60-69</td>\n",
       "      <td>False</td>\n",
       "    </tr>\n",
       "    <tr>\n",
       "      <td>3</td>\n",
       "      <td>F</td>\n",
       "      <td>2016-04-29</td>\n",
       "      <td>2016-04-29</td>\n",
       "      <td>8</td>\n",
       "      <td>False</td>\n",
       "      <td>False</td>\n",
       "      <td>False</td>\n",
       "      <td>False</td>\n",
       "      <td>False</td>\n",
       "      <td>False</td>\n",
       "      <td>True</td>\n",
       "      <td>0</td>\n",
       "      <td>01_same day</td>\n",
       "      <td>0-12</td>\n",
       "      <td>False</td>\n",
       "    </tr>\n",
       "    <tr>\n",
       "      <td>4</td>\n",
       "      <td>F</td>\n",
       "      <td>2016-04-29</td>\n",
       "      <td>2016-04-29</td>\n",
       "      <td>56</td>\n",
       "      <td>False</td>\n",
       "      <td>True</td>\n",
       "      <td>True</td>\n",
       "      <td>False</td>\n",
       "      <td>False</td>\n",
       "      <td>False</td>\n",
       "      <td>True</td>\n",
       "      <td>0</td>\n",
       "      <td>01_same day</td>\n",
       "      <td>50-59</td>\n",
       "      <td>True</td>\n",
       "    </tr>\n",
       "    <tr>\n",
       "      <td>5</td>\n",
       "      <td>F</td>\n",
       "      <td>2016-04-27</td>\n",
       "      <td>2016-04-29</td>\n",
       "      <td>76</td>\n",
       "      <td>False</td>\n",
       "      <td>True</td>\n",
       "      <td>False</td>\n",
       "      <td>False</td>\n",
       "      <td>False</td>\n",
       "      <td>False</td>\n",
       "      <td>True</td>\n",
       "      <td>2</td>\n",
       "      <td>03_two days</td>\n",
       "      <td>70-79</td>\n",
       "      <td>True</td>\n",
       "    </tr>\n",
       "    <tr>\n",
       "      <td>6</td>\n",
       "      <td>F</td>\n",
       "      <td>2016-04-27</td>\n",
       "      <td>2016-04-29</td>\n",
       "      <td>23</td>\n",
       "      <td>False</td>\n",
       "      <td>False</td>\n",
       "      <td>False</td>\n",
       "      <td>False</td>\n",
       "      <td>False</td>\n",
       "      <td>False</td>\n",
       "      <td>False</td>\n",
       "      <td>2</td>\n",
       "      <td>03_two days</td>\n",
       "      <td>20-29</td>\n",
       "      <td>False</td>\n",
       "    </tr>\n",
       "    <tr>\n",
       "      <td>7</td>\n",
       "      <td>F</td>\n",
       "      <td>2016-04-27</td>\n",
       "      <td>2016-04-29</td>\n",
       "      <td>39</td>\n",
       "      <td>False</td>\n",
       "      <td>False</td>\n",
       "      <td>False</td>\n",
       "      <td>False</td>\n",
       "      <td>False</td>\n",
       "      <td>False</td>\n",
       "      <td>False</td>\n",
       "      <td>2</td>\n",
       "      <td>03_two days</td>\n",
       "      <td>30-39</td>\n",
       "      <td>False</td>\n",
       "    </tr>\n",
       "    <tr>\n",
       "      <td>8</td>\n",
       "      <td>F</td>\n",
       "      <td>2016-04-29</td>\n",
       "      <td>2016-04-29</td>\n",
       "      <td>21</td>\n",
       "      <td>False</td>\n",
       "      <td>False</td>\n",
       "      <td>False</td>\n",
       "      <td>False</td>\n",
       "      <td>False</td>\n",
       "      <td>False</td>\n",
       "      <td>True</td>\n",
       "      <td>0</td>\n",
       "      <td>01_same day</td>\n",
       "      <td>20-29</td>\n",
       "      <td>False</td>\n",
       "    </tr>\n",
       "    <tr>\n",
       "      <td>9</td>\n",
       "      <td>F</td>\n",
       "      <td>2016-04-27</td>\n",
       "      <td>2016-04-29</td>\n",
       "      <td>19</td>\n",
       "      <td>False</td>\n",
       "      <td>False</td>\n",
       "      <td>False</td>\n",
       "      <td>False</td>\n",
       "      <td>False</td>\n",
       "      <td>False</td>\n",
       "      <td>True</td>\n",
       "      <td>2</td>\n",
       "      <td>03_two days</td>\n",
       "      <td>13-19</td>\n",
       "      <td>False</td>\n",
       "    </tr>\n",
       "    <tr>\n",
       "      <td>10</td>\n",
       "      <td>F</td>\n",
       "      <td>2016-04-27</td>\n",
       "      <td>2016-04-29</td>\n",
       "      <td>30</td>\n",
       "      <td>False</td>\n",
       "      <td>False</td>\n",
       "      <td>False</td>\n",
       "      <td>False</td>\n",
       "      <td>False</td>\n",
       "      <td>False</td>\n",
       "      <td>True</td>\n",
       "      <td>2</td>\n",
       "      <td>03_two days</td>\n",
       "      <td>30-39</td>\n",
       "      <td>False</td>\n",
       "    </tr>\n",
       "    <tr>\n",
       "      <td>11</td>\n",
       "      <td>M</td>\n",
       "      <td>2016-04-26</td>\n",
       "      <td>2016-04-29</td>\n",
       "      <td>29</td>\n",
       "      <td>False</td>\n",
       "      <td>False</td>\n",
       "      <td>False</td>\n",
       "      <td>False</td>\n",
       "      <td>False</td>\n",
       "      <td>True</td>\n",
       "      <td>False</td>\n",
       "      <td>3</td>\n",
       "      <td>04_three days</td>\n",
       "      <td>20-29</td>\n",
       "      <td>False</td>\n",
       "    </tr>\n",
       "    <tr>\n",
       "      <td>12</td>\n",
       "      <td>F</td>\n",
       "      <td>2016-04-28</td>\n",
       "      <td>2016-04-29</td>\n",
       "      <td>22</td>\n",
       "      <td>True</td>\n",
       "      <td>False</td>\n",
       "      <td>False</td>\n",
       "      <td>False</td>\n",
       "      <td>False</td>\n",
       "      <td>False</td>\n",
       "      <td>True</td>\n",
       "      <td>1</td>\n",
       "      <td>02_one day</td>\n",
       "      <td>20-29</td>\n",
       "      <td>False</td>\n",
       "    </tr>\n",
       "    <tr>\n",
       "      <td>13</td>\n",
       "      <td>M</td>\n",
       "      <td>2016-04-28</td>\n",
       "      <td>2016-04-29</td>\n",
       "      <td>28</td>\n",
       "      <td>False</td>\n",
       "      <td>False</td>\n",
       "      <td>False</td>\n",
       "      <td>False</td>\n",
       "      <td>False</td>\n",
       "      <td>False</td>\n",
       "      <td>True</td>\n",
       "      <td>1</td>\n",
       "      <td>02_one day</td>\n",
       "      <td>20-29</td>\n",
       "      <td>False</td>\n",
       "    </tr>\n",
       "    <tr>\n",
       "      <td>14</td>\n",
       "      <td>F</td>\n",
       "      <td>2016-04-28</td>\n",
       "      <td>2016-04-29</td>\n",
       "      <td>54</td>\n",
       "      <td>False</td>\n",
       "      <td>False</td>\n",
       "      <td>False</td>\n",
       "      <td>False</td>\n",
       "      <td>False</td>\n",
       "      <td>False</td>\n",
       "      <td>True</td>\n",
       "      <td>1</td>\n",
       "      <td>02_one day</td>\n",
       "      <td>50-59</td>\n",
       "      <td>False</td>\n",
       "    </tr>\n",
       "    <tr>\n",
       "      <td>15</td>\n",
       "      <td>F</td>\n",
       "      <td>2016-04-26</td>\n",
       "      <td>2016-04-29</td>\n",
       "      <td>15</td>\n",
       "      <td>False</td>\n",
       "      <td>False</td>\n",
       "      <td>False</td>\n",
       "      <td>False</td>\n",
       "      <td>False</td>\n",
       "      <td>True</td>\n",
       "      <td>True</td>\n",
       "      <td>3</td>\n",
       "      <td>04_three days</td>\n",
       "      <td>13-19</td>\n",
       "      <td>False</td>\n",
       "    </tr>\n",
       "    <tr>\n",
       "      <td>16</td>\n",
       "      <td>M</td>\n",
       "      <td>2016-04-28</td>\n",
       "      <td>2016-04-29</td>\n",
       "      <td>50</td>\n",
       "      <td>False</td>\n",
       "      <td>False</td>\n",
       "      <td>False</td>\n",
       "      <td>False</td>\n",
       "      <td>False</td>\n",
       "      <td>False</td>\n",
       "      <td>True</td>\n",
       "      <td>1</td>\n",
       "      <td>02_one day</td>\n",
       "      <td>50-59</td>\n",
       "      <td>False</td>\n",
       "    </tr>\n",
       "    <tr>\n",
       "      <td>17</td>\n",
       "      <td>F</td>\n",
       "      <td>2016-04-28</td>\n",
       "      <td>2016-04-29</td>\n",
       "      <td>40</td>\n",
       "      <td>True</td>\n",
       "      <td>False</td>\n",
       "      <td>False</td>\n",
       "      <td>False</td>\n",
       "      <td>False</td>\n",
       "      <td>False</td>\n",
       "      <td>False</td>\n",
       "      <td>1</td>\n",
       "      <td>02_one day</td>\n",
       "      <td>40-49</td>\n",
       "      <td>False</td>\n",
       "    </tr>\n",
       "    <tr>\n",
       "      <td>18</td>\n",
       "      <td>F</td>\n",
       "      <td>2016-04-26</td>\n",
       "      <td>2016-04-29</td>\n",
       "      <td>30</td>\n",
       "      <td>True</td>\n",
       "      <td>False</td>\n",
       "      <td>False</td>\n",
       "      <td>False</td>\n",
       "      <td>False</td>\n",
       "      <td>True</td>\n",
       "      <td>True</td>\n",
       "      <td>3</td>\n",
       "      <td>04_three days</td>\n",
       "      <td>30-39</td>\n",
       "      <td>False</td>\n",
       "    </tr>\n",
       "    <tr>\n",
       "      <td>19</td>\n",
       "      <td>F</td>\n",
       "      <td>2016-04-29</td>\n",
       "      <td>2016-04-29</td>\n",
       "      <td>46</td>\n",
       "      <td>False</td>\n",
       "      <td>False</td>\n",
       "      <td>False</td>\n",
       "      <td>False</td>\n",
       "      <td>False</td>\n",
       "      <td>False</td>\n",
       "      <td>True</td>\n",
       "      <td>0</td>\n",
       "      <td>01_same day</td>\n",
       "      <td>40-49</td>\n",
       "      <td>False</td>\n",
       "    </tr>\n",
       "  </tbody>\n",
       "</table>\n",
       "</div>"
      ],
      "text/plain": [
       "   Gender ScheduledDay AppointmentDay  Age  Scholarship  Hipertension  \\\n",
       "0       F   2016-04-29     2016-04-29   62        False          True   \n",
       "1       M   2016-04-29     2016-04-29   56        False         False   \n",
       "2       F   2016-04-29     2016-04-29   62        False         False   \n",
       "3       F   2016-04-29     2016-04-29    8        False         False   \n",
       "4       F   2016-04-29     2016-04-29   56        False          True   \n",
       "5       F   2016-04-27     2016-04-29   76        False          True   \n",
       "6       F   2016-04-27     2016-04-29   23        False         False   \n",
       "7       F   2016-04-27     2016-04-29   39        False         False   \n",
       "8       F   2016-04-29     2016-04-29   21        False         False   \n",
       "9       F   2016-04-27     2016-04-29   19        False         False   \n",
       "10      F   2016-04-27     2016-04-29   30        False         False   \n",
       "11      M   2016-04-26     2016-04-29   29        False         False   \n",
       "12      F   2016-04-28     2016-04-29   22         True         False   \n",
       "13      M   2016-04-28     2016-04-29   28        False         False   \n",
       "14      F   2016-04-28     2016-04-29   54        False         False   \n",
       "15      F   2016-04-26     2016-04-29   15        False         False   \n",
       "16      M   2016-04-28     2016-04-29   50        False         False   \n",
       "17      F   2016-04-28     2016-04-29   40         True         False   \n",
       "18      F   2016-04-26     2016-04-29   30         True         False   \n",
       "19      F   2016-04-29     2016-04-29   46        False         False   \n",
       "\n",
       "    Diabetes  Alcoholism  Handicap  SMS_received  Attendance  WaitingTime  \\\n",
       "0      False       False     False         False        True            0   \n",
       "1      False       False     False         False        True            0   \n",
       "2      False       False     False         False        True            0   \n",
       "3      False       False     False         False        True            0   \n",
       "4       True       False     False         False        True            0   \n",
       "5      False       False     False         False        True            2   \n",
       "6      False       False     False         False       False            2   \n",
       "7      False       False     False         False       False            2   \n",
       "8      False       False     False         False        True            0   \n",
       "9      False       False     False         False        True            2   \n",
       "10     False       False     False         False        True            2   \n",
       "11     False       False     False          True       False            3   \n",
       "12     False       False     False         False        True            1   \n",
       "13     False       False     False         False        True            1   \n",
       "14     False       False     False         False        True            1   \n",
       "15     False       False     False          True        True            3   \n",
       "16     False       False     False         False        True            1   \n",
       "17     False       False     False         False       False            1   \n",
       "18     False       False     False          True        True            3   \n",
       "19     False       False     False         False        True            0   \n",
       "\n",
       "       Wait_group Age_group  Illness  \n",
       "0     01_same day     60-69     True  \n",
       "1     01_same day     50-59    False  \n",
       "2     01_same day     60-69    False  \n",
       "3     01_same day      0-12    False  \n",
       "4     01_same day     50-59     True  \n",
       "5     03_two days     70-79     True  \n",
       "6     03_two days     20-29    False  \n",
       "7     03_two days     30-39    False  \n",
       "8     01_same day     20-29    False  \n",
       "9     03_two days     13-19    False  \n",
       "10    03_two days     30-39    False  \n",
       "11  04_three days     20-29    False  \n",
       "12     02_one day     20-29    False  \n",
       "13     02_one day     20-29    False  \n",
       "14     02_one day     50-59    False  \n",
       "15  04_three days     13-19    False  \n",
       "16     02_one day     50-59    False  \n",
       "17     02_one day     40-49    False  \n",
       "18  04_three days     30-39    False  \n",
       "19    01_same day     40-49    False  "
      ]
     },
     "execution_count": 25,
     "metadata": {},
     "output_type": "execute_result"
    }
   ],
   "source": [
    "#Test success of changes\n",
    "df.head(20)"
   ]
  },
  {
   "cell_type": "code",
   "execution_count": 26,
   "metadata": {},
   "outputs": [
    {
     "name": "stdout",
     "output_type": "stream",
     "text": [
      "<class 'pandas.core.frame.DataFrame'>\n",
      "Int64Index: 110521 entries, 0 to 110526\n",
      "Data columns (total 15 columns):\n",
      "Gender            110521 non-null object\n",
      "ScheduledDay      110521 non-null object\n",
      "AppointmentDay    110521 non-null object\n",
      "Age               110521 non-null int64\n",
      "Scholarship       110521 non-null bool\n",
      "Hipertension      110521 non-null bool\n",
      "Diabetes          110521 non-null bool\n",
      "Alcoholism        110521 non-null bool\n",
      "Handicap          110521 non-null bool\n",
      "SMS_received      110521 non-null bool\n",
      "Attendance        110521 non-null bool\n",
      "WaitingTime       110521 non-null int64\n",
      "Wait_group        110521 non-null category\n",
      "Age_group         110521 non-null category\n",
      "Illness           110521 non-null bool\n",
      "dtypes: bool(8), category(2), int64(2), object(3)\n",
      "memory usage: 6.1+ MB\n"
     ]
    }
   ],
   "source": [
    "#Test success of changes\n",
    "df.info()"
   ]
  },
  {
   "cell_type": "markdown",
   "metadata": {},
   "source": [
    "<a id='eda'></a>\n",
    "## Exploratory Data Analysis\n",
    "\n",
    "Now that we have cleaned our data, we can beginn with the exploratory data analysis. Here we're going to answer our research questions defined aboth. \n",
    "\n",
    "**Update: To answers this questions we'll programe a modul for the attendence ratio depending on specific variables**"
   ]
  },
  {
   "cell_type": "code",
   "execution_count": 27,
   "metadata": {},
   "outputs": [],
   "source": [
    "# Update: Fullfillment of the requirements of the first project \n",
    "# Aim: The function calculates the attendance ratio for a specific variable\n",
    "# Inputs: dataframe, one or two variables (column names) for which we want to calculate the \n",
    "# attendence-ratio, and the column attendance (argument is optional, since default is \n",
    "# already set)\n",
    "# Output: Returns the attendance ratio depending on \"grpVar\". In case of two variables, we will\n",
    "# use unstack() to move row indices to column indices to make our plotting easier. \n",
    "# Remark: \"len(grpVar)== 2\" can be missleading in case that we use one variable with only \n",
    "# 2 letters. We don't have this case in our investigation - that's why it will stay as it is \n",
    "# with this remark. \n",
    "\n",
    "def attendanceRatio(df, grpVar, attendance = 'Attendance'):\n",
    "    # Use unstack() in case of 2 variables (see remark above)\n",
    "    if len(grpVar)== 2:\n",
    "        return df.groupby(grpVar)[attendance].mean().mul(100).unstack()\n",
    "    # In case of one variable, we won't need unstack()\n",
    "    else:        \n",
    "        return df.groupby(grpVar)[attendance].mean().mul(100)"
   ]
  },
  {
   "cell_type": "markdown",
   "metadata": {},
   "source": [
    "### 1. How many patients of the dataset attended their appointment in total?"
   ]
  },
  {
   "cell_type": "code",
   "execution_count": 28,
   "metadata": {},
   "outputs": [
    {
     "data": {
      "text/plain": [
       "True     88207\n",
       "False    22314\n",
       "Name: Attendance, dtype: int64"
      ]
     },
     "execution_count": 28,
     "metadata": {},
     "output_type": "execute_result"
    }
   ],
   "source": [
    "#Count values of column \"No_show\"\n",
    "df['Attendance'].value_counts()"
   ]
  },
  {
   "cell_type": "code",
   "execution_count": 29,
   "metadata": {},
   "outputs": [
    {
     "data": {
      "image/png": "[encoded data removed]",
      "text/plain": [
       "<Figure size 504x504 with 1 Axes>"
      ]
     },
     "metadata": {},
     "output_type": "display_data"
    }
   ],
   "source": [
    "#Visualize result in pie chart\n",
    "df['Attendance'].value_counts().plot(kind='pie', figsize = (7,7), fontsize = 12)\n",
    "plt.title(\"Attendence Distribution\", fontsize = 15)\n",
    "plt.ylabel('', fontsize = 12)\n",
    "sns.set_style(\"whitegrid\");"
   ]
  },
  {
   "cell_type": "markdown",
   "metadata": {},
   "source": [
    "**Result:** \n",
    "The patients of the dataset showed up on 88.207 appointments and didn't attend in 22.314 cases.\n",
    "\n",
    "### 2.  Does the attendence depend on gender and age?\n",
    "First we'll have a look on the question, whether men or women attend in more cases on doctor appointments:"
   ]
  },
  {
   "cell_type": "code",
   "execution_count": 30,
   "metadata": {},
   "outputs": [
    {
     "data": {
      "text/plain": [
       "F    57245\n",
       "M    30962\n",
       "Name: Gender, dtype: int64"
      ]
     },
     "execution_count": 30,
     "metadata": {},
     "output_type": "execute_result"
    }
   ],
   "source": [
    "#create a new dataset \"df_attend\" for all attended appointments and count values for men and women\n",
    "#In the following we'll use this dataset for many research questions\n",
    "df_attend = df.query('Attendance == True')\n",
    "df_attend['Gender'].value_counts()"
   ]
  },
  {
   "cell_type": "code",
   "execution_count": 31,
   "metadata": {},
   "outputs": [
    {
     "data": {
      "image/png": "[encoded data removed]",
      "text/plain": [
       "<Figure size 504x504 with 1 Axes>"
      ]
     },
     "metadata": {},
     "output_type": "display_data"
    }
   ],
   "source": [
    "##Visualize result in bar chart\n",
    "df_attend['Gender'].value_counts().plot(kind='bar', figsize = (7,7), color = ['red','blue'])\n",
    "plt.title(\"Appointments by Gender\", fontsize = 15)\n",
    "plt.xlabel('Gender', fontsize = 12)\n",
    "plt.ylabel('No. of appointments', fontsize = 12)\n",
    "sns.set_style(\"whitegrid\");"
   ]
  },
  {
   "cell_type": "markdown",
   "metadata": {},
   "source": [
    "57.245 women showed up on their appointments. This is the vast majority in comparison to men, who attended in 30.962 cases.\n",
    "\n",
    "To attain a better understanding of this finding, we will compare the ratio of the attended groups in comparison to all appointments in the following. Moreover we will cluster the patients into groups depending on their age. For this we'll use the new column Age Group. "
   ]
  },
  {
   "cell_type": "code",
   "execution_count": 32,
   "metadata": {},
   "outputs": [
    {
     "data": {
      "text/plain": [
       "Gender\n",
       "F    79.688457\n",
       "M    80.036190\n",
       "Name: Attendance, dtype: float64"
      ]
     },
     "execution_count": 32,
     "metadata": {},
     "output_type": "execute_result"
    }
   ],
   "source": [
    "# Use modul attendanceRatio for the column \"Gender\" to receive the attendance ratio \n",
    "# of it's values\n",
    "genderRatio = attendanceRatio (df,'Gender')\n",
    "genderRatio"
   ]
  },
  {
   "cell_type": "markdown",
   "metadata": {},
   "source": [
    "The attendance ratio for men and women are almost equal. The Gender doesn't seem to have an impact on the attendance."
   ]
  },
  {
   "cell_type": "code",
   "execution_count": 33,
   "metadata": {},
   "outputs": [
    {
     "data": {
      "text/html": [
       "<div>\n",
       "<style scoped>\n",
       "    .dataframe tbody tr th:only-of-type {\n",
       "        vertical-align: middle;\n",
       "    }\n",
       "\n",
       "    .dataframe tbody tr th {\n",
       "        vertical-align: top;\n",
       "    }\n",
       "\n",
       "    .dataframe thead th {\n",
       "        text-align: right;\n",
       "    }\n",
       "</style>\n",
       "<table border=\"1\" class=\"dataframe\">\n",
       "  <thead>\n",
       "    <tr style=\"text-align: right;\">\n",
       "      <th>Gender</th>\n",
       "      <th>F</th>\n",
       "      <th>M</th>\n",
       "    </tr>\n",
       "    <tr>\n",
       "      <th>Age_group</th>\n",
       "      <th></th>\n",
       "      <th></th>\n",
       "    </tr>\n",
       "  </thead>\n",
       "  <tbody>\n",
       "    <tr>\n",
       "      <td>0-12</td>\n",
       "      <td>79.545001</td>\n",
       "      <td>79.515118</td>\n",
       "    </tr>\n",
       "    <tr>\n",
       "      <td>13-19</td>\n",
       "      <td>74.578791</td>\n",
       "      <td>73.072289</td>\n",
       "    </tr>\n",
       "    <tr>\n",
       "      <td>20-29</td>\n",
       "      <td>75.081449</td>\n",
       "      <td>76.043710</td>\n",
       "    </tr>\n",
       "    <tr>\n",
       "      <td>30-39</td>\n",
       "      <td>78.406241</td>\n",
       "      <td>77.878719</td>\n",
       "    </tr>\n",
       "    <tr>\n",
       "      <td>40-49</td>\n",
       "      <td>79.308581</td>\n",
       "      <td>80.663357</td>\n",
       "    </tr>\n",
       "    <tr>\n",
       "      <td>50-59</td>\n",
       "      <td>82.492362</td>\n",
       "      <td>82.516792</td>\n",
       "    </tr>\n",
       "    <tr>\n",
       "      <td>60-69</td>\n",
       "      <td>84.313725</td>\n",
       "      <td>86.223153</td>\n",
       "    </tr>\n",
       "    <tr>\n",
       "      <td>70-79</td>\n",
       "      <td>84.613435</td>\n",
       "      <td>85.168426</td>\n",
       "    </tr>\n",
       "    <tr>\n",
       "      <td>80-89</td>\n",
       "      <td>84.723618</td>\n",
       "      <td>83.246073</td>\n",
       "    </tr>\n",
       "    <tr>\n",
       "      <td>90-99</td>\n",
       "      <td>78.521127</td>\n",
       "      <td>82.786885</td>\n",
       "    </tr>\n",
       "    <tr>\n",
       "      <td>&gt;100</td>\n",
       "      <td>66.666667</td>\n",
       "      <td>100.000000</td>\n",
       "    </tr>\n",
       "  </tbody>\n",
       "</table>\n",
       "</div>"
      ],
      "text/plain": [
       "Gender             F           M\n",
       "Age_group                       \n",
       "0-12       79.545001   79.515118\n",
       "13-19      74.578791   73.072289\n",
       "20-29      75.081449   76.043710\n",
       "30-39      78.406241   77.878719\n",
       "40-49      79.308581   80.663357\n",
       "50-59      82.492362   82.516792\n",
       "60-69      84.313725   86.223153\n",
       "70-79      84.613435   85.168426\n",
       "80-89      84.723618   83.246073\n",
       "90-99      78.521127   82.786885\n",
       ">100       66.666667  100.000000"
      ]
     },
     "execution_count": 33,
     "metadata": {},
     "output_type": "execute_result"
    }
   ],
   "source": [
    "# Use modul attendanceRatio for the column \"Age_Group\" and \"Gender\"  to receive the attendance ratio \n",
    "# of it's values \n",
    "genderAgeRatio = attendanceRatio (df,['Age_group','Gender'])\n",
    "genderAgeRatio"
   ]
  },
  {
   "cell_type": "code",
   "execution_count": 34,
   "metadata": {},
   "outputs": [
    {
     "data": {
      "image/png": "[encoded data removed]",
      "text/plain": [
       "<Figure size 1440x576 with 1 Axes>"
      ]
     },
     "metadata": {},
     "output_type": "display_data"
    }
   ],
   "source": [
    "#Visualize results in bar chart\n",
    "genderAgeRatio.plot.bar(edgecolor = 'black', figsize = [20,8],width = 0.7, rot = 0, color = ['r','b'])\n",
    "plt.title('Appointment-Attendance by Gender & Age', fontsize = 15)\n",
    "plt.xlabel('Age Group', fontsize = 12)\n",
    "plt.ylabel ('Attendence in Percentage', fontsize = 12)\n",
    "plt.legend(['Female','Male'], fontsize = 12)\n",
    "sns.set_style(\"whitegrid\");"
   ]
  },
  {
   "cell_type": "markdown",
   "metadata": {},
   "source": [
    "**Result:** \n",
    "In comparison to our result, that a lot more women attend in doctor appointments then men, we found that the no show ratio for both gender is more or less the same. \n",
    "\n",
    "Since we only have 11 persons in the age group \">100\", our results can become inconclusive for this group. We would need a larger sample.\n",
    "\n",
    "In contrast to this result, our data shows that age has an impact on the attendence rate. Young children (age group 0-12) and adults have a greater attendence ratio than young adults.\n",
    "\n",
    "\n",
    "### 3.  Does the attendence depend on a particular illness?"
   ]
  },
  {
   "cell_type": "code",
   "execution_count": 35,
   "metadata": {},
   "outputs": [
    {
     "data": {
      "text/plain": [
       "Illness\n",
       "False    79.324350\n",
       "True     81.444194\n",
       "Name: Attendance, dtype: float64"
      ]
     },
     "execution_count": 35,
     "metadata": {},
     "output_type": "execute_result"
    }
   ],
   "source": [
    "# Use modul attendanceRatio for the column \"Illness\" to receive the attendance ratio \n",
    "# of it's values\n",
    "illnessRatio = attendanceRatio (df,'Illness')\n",
    "illnessRatio"
   ]
  },
  {
   "cell_type": "markdown",
   "metadata": {},
   "source": [
    "Ill people of this dataset have an attandence ratio of 81,44%, healthy people of 79,32%. \n",
    "\n",
    "In the following we will have a look, if a higher attendence is linked to a particular illness and will visualize \n",
    "the results. "
   ]
  },
  {
   "cell_type": "code",
   "execution_count": 36,
   "metadata": {},
   "outputs": [
    {
     "data": {
      "image/png": "[encoded data removed]",
      "text/plain": [
       "<Figure size 1080x360 with 5 Axes>"
      ]
     },
     "metadata": {},
     "output_type": "display_data"
    }
   ],
   "source": [
    "#Visualisation of results: We'll plot 5 bar charts next to each other. \n",
    "# The first chart in red will show the overall attendence ratio for ill and healthy people (Ill = 1, healthy = 0)\n",
    "# Chart 2-5 will visualize the attendence rate based on a particular illness(Ill = 1, healthy = 0)\n",
    "\n",
    "#Plot of 5 charts next to each other \n",
    "fig, axs = plt.subplots(1, 5, figsize=(15, 5), sharey=True)\n",
    "fig.suptitle('Attendence by Illness', fontsize = 15)\n",
    "\n",
    "#Plot first chart in red -> Overall attendence ratio for ill and healthy people\n",
    "axs[0].bar([False,True], illnessRatio, color = 'r')\n",
    "axs[0].title.set_text('Illness')\n",
    "axs[0].set_ylabel('Attendence in Percentage')\n",
    "\n",
    "\n",
    "#loop for plotting chart 2-5 - same procedure as for \"illness overall\" (-> Use of modul attendanceRatio) )\n",
    "Illlist = ['Hipertension','Diabetes','Alcoholism','Handicap']\n",
    "b = 1\n",
    "for a in Illlist:\n",
    "    illlistRatio = attendanceRatio (df, a)\n",
    "    axs[b].bar([False,True], illlistRatio, color = 'b')\n",
    "    axs[b].title.set_text(a)\n",
    "    b = b+1\n",
    "    sns.set_style(\"whitegrid\");"
   ]
  },
  {
   "cell_type": "markdown",
   "metadata": {},
   "source": [
    "**Result:** \n",
    "In this data set ill people generally attend more often doctor appointments than healthy ones. This is caused by a higher attendence of people with hypertension and diabetes. Alocoholism and handicaps don't have an impact on the attendance ratio in this dataset.\n",
    "\n",
    "Unfortunatly we don't have any further information about acute illnesses of the patients in this data set. Usually we would expect that mainly ill people go to the doctors. In this dataset only four chronic diseases were documentated.\n",
    "\n",
    "\n",
    "### 4. Does the attendence depend on the receipt of the financial aid from \"Bolsa Família\"?"
   ]
  },
  {
   "cell_type": "code",
   "execution_count": 37,
   "metadata": {},
   "outputs": [
    {
     "data": {
      "image/png": "[encoded data removed]",
      "text/plain": [
       "<Figure size 504x504 with 1 Axes>"
      ]
     },
     "metadata": {},
     "output_type": "display_data"
    }
   ],
   "source": [
    "# Use modul attendanceRatio for the column \"Scholarship\" to receive the attendance ratio \n",
    "# of it's values \n",
    "# people with (=true) and without (=false) social aid \"Bolsa Familia\"\n",
    "#Visualize results in bar chart\n",
    "\n",
    "attendanceRatio (df, 'Scholarship').plot(kind='bar', figsize = (7,7), rot= 0)\n",
    "plt.title('Appointment-Attendance by Scholarship', fontsize = 15)\n",
    "plt.xlabel('Scholarship', fontsize = 12)\n",
    "plt.ylabel ('Attendence in Percentage', fontsize = 12)\n",
    "sns.set_style(\"whitegrid\");"
   ]
  },
  {
   "cell_type": "markdown",
   "metadata": {},
   "source": [
    "**Result:** \n",
    "In this dataset people without financial aid generally attend more often doctor appointments (=80,2%) than people who aren't part of \"Bolsa Familia\" (=76,26%). That doesn't imply that people who receive financial aid, would go more often to their appointment if they didn´t receive it. "
   ]
  },
  {
   "cell_type": "markdown",
   "metadata": {},
   "source": [
    "### 5. Does the attendence depend on a the timeframe between scheduling and the actual appointment date?"
   ]
  },
  {
   "cell_type": "markdown",
   "metadata": {},
   "source": [
    "To answer the question we'll display the mean waiting time for people who attendend and not attended their appointment. "
   ]
  },
  {
   "cell_type": "code",
   "execution_count": 38,
   "metadata": {},
   "outputs": [
    {
     "data": {
      "image/png": "[encoded data removed]",
      "text/plain": [
       "<Figure size 504x504 with 1 Axes>"
      ]
     },
     "metadata": {},
     "output_type": "display_data"
    }
   ],
   "source": [
    "#Group the data frame by the column no_show and plot the mean waiting time\n",
    "# Visualize the result in a bar chart \n",
    "\n",
    "df.groupby('Attendance')['WaitingTime'].mean().plot(kind = 'bar',figsize = (7,7), color = ['g','r'], rot = 0 )\n",
    "plt.title('Mean Waiting Time by Attendence', fontsize = 15)\n",
    "plt.xlabel('Attendence in Percentage', fontsize = 12)\n",
    "plt.ylabel ('Mean Waiting Time', fontsize = 12)\n",
    "sns.set_style(\"whitegrid\");"
   ]
  },
  {
   "cell_type": "markdown",
   "metadata": {},
   "source": [
    "**Result**: The mean waiting time for people who attended their meeting is approx. 9 days, for people who didn't is aprox. 16 days, which is compared one week longer. The time frame between scheduling and the actual appointment date has a big impact on the attendance rate. \n",
    "\n",
    "### 6. Does the receiving of a SMS prior to the appointment has a positive effect on the attendence rate?\n",
    "\n",
    "Before we answer this question we want to get familiar with the quantity structure of the time frame when SMS were send. "
   ]
  },
  {
   "cell_type": "code",
   "execution_count": 39,
   "metadata": {},
   "outputs": [
    {
     "data": {
      "text/plain": [
       "01_same day         0.000000\n",
       "02_one day          0.000000\n",
       "03_two days         0.000000\n",
       "04_three days       0.331019\n",
       "05_one week         0.607767\n",
       "06_two weeks        0.582453\n",
       "07_three weeks      0.589475\n",
       "08_one month        0.622455\n",
       "09_two months       0.610769\n",
       "10_three months     0.645367\n",
       "11_>three months    0.640553\n",
       "Name: Wait_group, dtype: float64"
      ]
     },
     "execution_count": 39,
     "metadata": {},
     "output_type": "execute_result"
    }
   ],
   "source": [
    "# Create a new dataset \"df_SMS\" for all appointments where a reminder was sended via SMS \n",
    "# and count values for the waitgroup\n",
    "#count values for waitgroup in df\n",
    "#count values for all persons who were ill and were not ill in df\n",
    "#Divide the counts for the people who received a sms with the counts of all people to receive the SMS-receive-ratio \n",
    "\n",
    "df_SMS = df.query('SMS_received == True')\n",
    "totals_SMS = df_SMS['Wait_group'].value_counts()\n",
    "wait_total = df['Wait_group'].value_counts()\n",
    "prop_SMS_received = totals_SMS/wait_total\n",
    "prop_SMS_received"
   ]
  },
  {
   "cell_type": "code",
   "execution_count": 40,
   "metadata": {},
   "outputs": [
    {
     "data": {
      "image/png": "[encoded data removed]",
      "text/plain": [
       "<Figure size 432x288 with 1 Axes>"
      ]
     },
     "metadata": {},
     "output_type": "display_data"
    }
   ],
   "source": [
    "# Visualize the result in a bar chart \n",
    "prop_SMS_received.plot(kind= 'bar', rot = 0)\n",
    "plt.title('Sended SMS by Waiting Time', fontsize = 15)\n",
    "plt.ylabel('Sended SMS', fontsize = 12)\n",
    "plt.xlabel ('Wait Group', fontsize = 12)\n",
    "sns.set_style(\"whitegrid\");"
   ]
  },
  {
   "cell_type": "markdown",
   "metadata": {},
   "source": [
    "**Result**: The first SMS were send after three days between scheduling und attending an apointment. After 4 days the send-ratio is between 58% and 65%. Now we will focus on the effect of attendence by sending SMS."
   ]
  },
  {
   "cell_type": "code",
   "execution_count": 41,
   "metadata": {},
   "outputs": [
    {
     "data": {
      "text/html": [
       "<div>\n",
       "<style scoped>\n",
       "    .dataframe tbody tr th:only-of-type {\n",
       "        vertical-align: middle;\n",
       "    }\n",
       "\n",
       "    .dataframe tbody tr th {\n",
       "        vertical-align: top;\n",
       "    }\n",
       "\n",
       "    .dataframe thead th {\n",
       "        text-align: right;\n",
       "    }\n",
       "</style>\n",
       "<table border=\"1\" class=\"dataframe\">\n",
       "  <thead>\n",
       "    <tr style=\"text-align: right;\">\n",
       "      <th>SMS_received</th>\n",
       "      <th>False</th>\n",
       "      <th>True</th>\n",
       "    </tr>\n",
       "    <tr>\n",
       "      <th>Wait_group</th>\n",
       "      <th></th>\n",
       "      <th></th>\n",
       "    </tr>\n",
       "  </thead>\n",
       "  <tbody>\n",
       "    <tr>\n",
       "      <td>01_same day</td>\n",
       "      <td>95.352938</td>\n",
       "      <td>NaN</td>\n",
       "    </tr>\n",
       "    <tr>\n",
       "      <td>02_one day</td>\n",
       "      <td>78.649530</td>\n",
       "      <td>NaN</td>\n",
       "    </tr>\n",
       "    <tr>\n",
       "      <td>03_two days</td>\n",
       "      <td>76.178439</td>\n",
       "      <td>NaN</td>\n",
       "    </tr>\n",
       "    <tr>\n",
       "      <td>04_three days</td>\n",
       "      <td>75.368651</td>\n",
       "      <td>78.697572</td>\n",
       "    </tr>\n",
       "    <tr>\n",
       "      <td>05_one week</td>\n",
       "      <td>72.888759</td>\n",
       "      <td>76.028942</td>\n",
       "    </tr>\n",
       "    <tr>\n",
       "      <td>06_two weeks</td>\n",
       "      <td>66.241785</td>\n",
       "      <td>71.887493</td>\n",
       "    </tr>\n",
       "    <tr>\n",
       "      <td>07_three weeks</td>\n",
       "      <td>64.068076</td>\n",
       "      <td>70.330721</td>\n",
       "    </tr>\n",
       "    <tr>\n",
       "      <td>08_one month</td>\n",
       "      <td>62.063591</td>\n",
       "      <td>70.069957</td>\n",
       "    </tr>\n",
       "    <tr>\n",
       "      <td>09_two months</td>\n",
       "      <td>61.631514</td>\n",
       "      <td>68.531330</td>\n",
       "    </tr>\n",
       "    <tr>\n",
       "      <td>10_three months</td>\n",
       "      <td>65.015015</td>\n",
       "      <td>74.669967</td>\n",
       "    </tr>\n",
       "    <tr>\n",
       "      <td>11_&gt;three months</td>\n",
       "      <td>75.641026</td>\n",
       "      <td>73.381295</td>\n",
       "    </tr>\n",
       "  </tbody>\n",
       "</table>\n",
       "</div>"
      ],
      "text/plain": [
       "SMS_received          False      True \n",
       "Wait_group                            \n",
       "01_same day       95.352938        NaN\n",
       "02_one day        78.649530        NaN\n",
       "03_two days       76.178439        NaN\n",
       "04_three days     75.368651  78.697572\n",
       "05_one week       72.888759  76.028942\n",
       "06_two weeks      66.241785  71.887493\n",
       "07_three weeks    64.068076  70.330721\n",
       "08_one month      62.063591  70.069957\n",
       "09_two months     61.631514  68.531330\n",
       "10_three months   65.015015  74.669967\n",
       "11_>three months  75.641026  73.381295"
      ]
     },
     "execution_count": 41,
     "metadata": {},
     "output_type": "execute_result"
    }
   ],
   "source": [
    "# Use modul attendanceRatio for the columns \"Wait_Group\" & \"SMS_received\" to receive the attendance ratio \n",
    "# of it's values\n",
    "smsWaitRatio = attendanceRatio (df, ['Wait_group','SMS_received'])\n",
    "smsWaitRatio"
   ]
  },
  {
   "cell_type": "code",
   "execution_count": 42,
   "metadata": {},
   "outputs": [
    {
     "data": {
      "image/png": "[encoded data removed]",
      "text/plain": [
       "<Figure size 1440x576 with 1 Axes>"
      ]
     },
     "metadata": {},
     "output_type": "display_data"
    }
   ],
   "source": [
    "# Visualize the result in a bar chart \n",
    "\n",
    "smsWaitRatio.plot.bar(edgecolor = 'black', figsize = [20,8],width = 0.7, rot = 0, color = ['r','g'])\n",
    "plt.title('Appointment-Attendance by Waiting Time & SMS Received', fontsize = 15)\n",
    "plt.xlabel('Wait_Group', fontsize = 12)\n",
    "plt.ylabel ('Attendence', fontsize = 12)\n",
    "plt.legend(['No SMS received', 'SMS received'])\n",
    "plt.rcParams[\"figure.figsize\"] = (20,5)\n",
    "sns.set_style(\"whitegrid\");"
   ]
  },
  {
   "cell_type": "markdown",
   "metadata": {},
   "source": [
    "**Result**: \n",
    "The bigger the time frame between scheduling and the actual meeting, the lower the attendence ratio, exept for group \"10_three months\" and \"11_>three months\". In the following we will examine if the sample for those groups is big enough for this conclusion. \n",
    "\n",
    "More over we see, that sending SMS has a posive effect on the attendence ratio (Exeption: \"11_>three months\" )."
   ]
  },
  {
   "cell_type": "code",
   "execution_count": 43,
   "metadata": {},
   "outputs": [
    {
     "data": {
      "text/plain": [
       "01_same day         38562\n",
       "05_one week         17510\n",
       "06_two weeks        12025\n",
       "07_three weeks       8874\n",
       "08_one month         8497\n",
       "09_two months        8283\n",
       "03_two days          6725\n",
       "02_one day           5213\n",
       "04_three days        2737\n",
       "10_three months      1878\n",
       "11_>three months      217\n",
       "Name: Wait_group, dtype: int64"
      ]
     },
     "execution_count": 43,
     "metadata": {},
     "output_type": "execute_result"
    }
   ],
   "source": [
    "# Count values for the waitgroup for the whole data frame\n",
    "WaitingTotal = df['Wait_group'].value_counts()\n",
    "WaitingTotal"
   ]
  },
  {
   "cell_type": "markdown",
   "metadata": {},
   "source": [
    "The bigger the time frame between scheduling and the actual appointment the smaler the sample. This means that our data and our result becomes less significant.  "
   ]
  },
  {
   "cell_type": "markdown",
   "metadata": {},
   "source": [
    "<a id='conclusions'></a>\n",
    "## Conclusions\n",
    "\n",
    "Now we have seen a lot variables that can effect the attendance rate. Nethertheless, our variables might display some correlations, which don't imply any causation between those. In the following section we'll summarize our findings and the results and point out limitations, where additional research can be done or where additional information could be useful:\n",
    "\n",
    "- **How many patients of the dataset attended their appointment in total?**\n",
    "\n",
    "The patients of the dataset showed up on 88.207 appointments and didn't attend in 22.314 cases, with is approx. in 25% of the cases. Same patients could be count several times. This is a limit we also have to point out for the further questions. The same patient could have been counted several times for age group, illness or attendence in \"Bolsa Familia\". We just analyzed the number of appointments.\n",
    "\n",
    "- **Does the attendence depend on gender and age?** \n",
    "\n",
    "57.245 women showed up on their appointments. This is the vast majority in comparison to men, who attended in 30.962 cases.\n",
    "\n",
    "In comparison to our result, that a lot more women attend in doctor appointments then men, we found that the no show ratio for both gender is more or less the same. \n",
    "\n",
    "In contrast to this result, our data shows that age has an impact on the attendence rate. Young children  (age group 0-12) and adults have a greater attendence ratio than young adults. \n",
    "\n",
    "We don't know if age is cause for the attendence ratio. it could be an explenation, that a higher-attendence rate by older people is caused by their maturity or just because of the fact, that older people do have more illnesses and need more urgent appraisals by doctors. Young children could be accompanied by their parants. Moreover we don't know why woman schedule more often appointments, if they take more care of their health or if they are more ill. These questions would need further investigations.\n",
    "\n",
    "The data for the age group \">100\" is inconclusive because of the small sample. \n",
    "\n",
    "- **Does the attendence depend on a particular illness?**\n",
    "\n",
    "Ill people of this dataset have an attandence ratio of 81,61%, healthy people of 79,27%. This is no big difference. \n",
    "\n",
    "Unfortunatly we don't have any further information about acute illnesses of the patients in this data set. Usually we would expect that mainly ill people go to the doctors. In this dataset only four chronic diseases were documentated.\n",
    "\n",
    "Patients with hypertension and diabetes attend more often in appointments. Alocoholism and handicaps don't have an impact on the attendance ratio in this dataset.\n",
    "\n",
    "- **Does the attendence depend on the receipt of the financial aid from \"Bolsa Família\"?**\n",
    " \n",
    "In this dataset people without financial aid generally attend more often doctor appointments (=80,2%) than people who aren't part of \"Bolsa Familia\" (=76,26%). That doesn't imply that people who receive financial aid, would go more often to their appointment if they didn´t receive it. \n",
    "\n",
    "- **Does the attendence depend on a the timeframe between scheduling and the actual appointment date?**\n",
    "\n",
    "The mean waiting time for people who attended their meeting is approx. 9 days, for people who didn't is aprox. 16 days, which is compared one week longer. The time frame between scheduling and the actual appointment date has a big impact on the attendance rate. \n",
    "\n",
    "\n",
    "- **Does the receiving of a SMS prior to the appointment has a positive effect on the attendence rate?**\n",
    "\n",
    "The first SMS were send after three days between scheduling und attending an apointment. After 4 days the send-ratio is between 58% and 65%. The bigger the time frame between scheduling and the actual meeting, the lower the attendence ratio, exept for group \"10_three months\" and \"11_>three months\".\n",
    "\n",
    "More over we see, that sending SMS has a posive effect on the attendence ratio (Exeption: \"11_>three months\").\n",
    "\n",
    "\n",
    "> Finally we can say, that a higher age (adulthood) and the presence of illnesses have a positive effect on the attendence rate, in case of hipertension and diabetes. Woman schedule and attend more appointments in general, nethertheless is the attendece ration for women and men more or less equal. The attendence in the financial aid programm has a negetive effect on the attendence rate. Alcoholism and handicaps don't have any impact on the rate. \n",
    "\n",
    "> In our investigation, we always looked for correlations between a varible and the attendence. Of course it's also possible that those varibales have also correlations with each other. It would be logical, if older people or people with low income (who need financial aid) had more illnesses, or if woman needed more often financial aid. Moreover we could have used the colomns \"PatientID\" and \"Neighbourhood\" for futher research topics. But these are questions for another investigation. "
   ]
  },
  {
   "cell_type": "code",
   "execution_count": 45,
   "metadata": {},
   "outputs": [
    {
     "data": {
      "text/plain": [
       "0"
      ]
     },
     "execution_count": 45,
     "metadata": {},
     "output_type": "execute_result"
    }
   ],
   "source": [
    "from subprocess import call\n",
    "call(['python', '-m', 'nbconvert', 'Investigate_a_Dataset.ipynb'])"
   ]
  },
  {
   "cell_type": "code",
   "execution_count": null,
   "metadata": {},
   "outputs": [],
   "source": []
  }
 ],
 "metadata": {
  "kernelspec": {
   "display_name": "Python 3",
   "language": "python",
   "name": "python3"
  },
  "language_info": {
   "codemirror_mode": {
    "name": "ipython",
    "version": 3
   },
   "file_extension": ".py",
   "mimetype": "text/x-python",
   "name": "python",
   "nbconvert_exporter": "python",
   "pygments_lexer": "ipython3",
   "version": "3.7.4"
  }
 },
 "nbformat": 4,
 "nbformat_minor": 2
}
