{
 "cells": [
  {
   "cell_type": "markdown",
   "metadata": {
    "extensions": {
     "jupyter_dashboards": {
      "version": 1,
      "views": {
       "grid_default": {
        "col": 0,
        "height": 4,
        "hidden": false,
        "row": 0,
        "width": 4
       },
       "report_default": {
        "hidden": false
       }
      }
     }
    }
   },
   "source": [
    "# Project: Wrangling and Analyze Data"
   ]
  },
  {
   "cell_type": "markdown",
   "metadata": {},
   "source": [
    "# Table of Contents\n",
    "\n",
    "1. [Data Gathering](#gather)\n",
    "2. [Assessing Data](#assess)\n",
    "3. [Cleaning Data](#clean)\n",
    "4. [Storing Data](#store)\n",
    "5. [Analyzing and Visualizing Data](#analyze)"
   ]
  },
  {
   "cell_type": "markdown",
   "metadata": {},
   "source": [
    "## Data Gathering\n",
    "<a id=\"gather\"></a>\n",
    "In the cell below, gather **all** three pieces of data for this project and load them in the notebook. **Note:** the methods required to gather each data are different.\n",
    "1. Directly download the WeRateDogs Twitter archive data (twitter_archive_enhanced.csv)"
   ]
  },
  {
   "cell_type": "code",
   "execution_count": 1,
   "metadata": {},
   "outputs": [],
   "source": [
    "import pandas as pd\n",
    "import numpy as np\n",
    "import requests\n",
    "import tweepy\n",
    "import json\n",
    "import matplotlib.pyplot as plt\n",
    "%matplotlib inline"
   ]
  },
  {
   "cell_type": "code",
   "execution_count": 2,
   "metadata": {
    "extensions": {
     "jupyter_dashboards": {
      "version": 1,
      "views": {
       "grid_default": {
        "hidden": true
       },
       "report_default": {
        "hidden": true
       }
      }
     }
    }
   },
   "outputs": [],
   "source": [
    "archive = pd.read_csv('twitter-archive-enhanced.csv')"
   ]
  },
  {
   "cell_type": "code",
   "execution_count": 3,
   "metadata": {},
   "outputs": [
    {
     "data": {
      "text/html": [
       "<div>\n",
       "<style scoped>\n",
       "    .dataframe tbody tr th:only-of-type {\n",
       "        vertical-align: middle;\n",
       "    }\n",
       "\n",
       "    .dataframe tbody tr th {\n",
       "        vertical-align: top;\n",
       "    }\n",
       "\n",
       "    .dataframe thead th {\n",
       "        text-align: right;\n",
       "    }\n",
       "</style>\n",
       "<table border=\"1\" class=\"dataframe\">\n",
       "  <thead>\n",
       "    <tr style=\"text-align: right;\">\n",
       "      <th></th>\n",
       "      <th>tweet_id</th>\n",
       "      <th>in_reply_to_status_id</th>\n",
       "      <th>in_reply_to_user_id</th>\n",
       "      <th>timestamp</th>\n",
       "      <th>source</th>\n",
       "      <th>text</th>\n",
       "      <th>retweeted_status_id</th>\n",
       "      <th>retweeted_status_user_id</th>\n",
       "      <th>retweeted_status_timestamp</th>\n",
       "      <th>expanded_urls</th>\n",
       "      <th>rating_numerator</th>\n",
       "      <th>rating_denominator</th>\n",
       "      <th>name</th>\n",
       "      <th>doggo</th>\n",
       "      <th>floofer</th>\n",
       "      <th>pupper</th>\n",
       "      <th>puppo</th>\n",
       "    </tr>\n",
       "  </thead>\n",
       "  <tbody>\n",
       "    <tr>\n",
       "      <th>0</th>\n",
       "      <td>892420643555336193</td>\n",
       "      <td>NaN</td>\n",
       "      <td>NaN</td>\n",
       "      <td>2017-08-01 16:23:56 +0000</td>\n",
       "      <td>&lt;a href=\"http://twitter.com/download/iphone\" r...</td>\n",
       "      <td>This is Phineas. He's a mystical boy. Only eve...</td>\n",
       "      <td>NaN</td>\n",
       "      <td>NaN</td>\n",
       "      <td>NaN</td>\n",
       "      <td>https://twitter.com/dog_rates/status/892420643...</td>\n",
       "      <td>13</td>\n",
       "      <td>10</td>\n",
       "      <td>Phineas</td>\n",
       "      <td>None</td>\n",
       "      <td>None</td>\n",
       "      <td>None</td>\n",
       "      <td>None</td>\n",
       "    </tr>\n",
       "    <tr>\n",
       "      <th>1</th>\n",
       "      <td>892177421306343426</td>\n",
       "      <td>NaN</td>\n",
       "      <td>NaN</td>\n",
       "      <td>2017-08-01 00:17:27 +0000</td>\n",
       "      <td>&lt;a href=\"http://twitter.com/download/iphone\" r...</td>\n",
       "      <td>This is Tilly. She's just checking pup on you....</td>\n",
       "      <td>NaN</td>\n",
       "      <td>NaN</td>\n",
       "      <td>NaN</td>\n",
       "      <td>https://twitter.com/dog_rates/status/892177421...</td>\n",
       "      <td>13</td>\n",
       "      <td>10</td>\n",
       "      <td>Tilly</td>\n",
       "      <td>None</td>\n",
       "      <td>None</td>\n",
       "      <td>None</td>\n",
       "      <td>None</td>\n",
       "    </tr>\n",
       "    <tr>\n",
       "      <th>2</th>\n",
       "      <td>891815181378084864</td>\n",
       "      <td>NaN</td>\n",
       "      <td>NaN</td>\n",
       "      <td>2017-07-31 00:18:03 +0000</td>\n",
       "      <td>&lt;a href=\"http://twitter.com/download/iphone\" r...</td>\n",
       "      <td>This is Archie. He is a rare Norwegian Pouncin...</td>\n",
       "      <td>NaN</td>\n",
       "      <td>NaN</td>\n",
       "      <td>NaN</td>\n",
       "      <td>https://twitter.com/dog_rates/status/891815181...</td>\n",
       "      <td>12</td>\n",
       "      <td>10</td>\n",
       "      <td>Archie</td>\n",
       "      <td>None</td>\n",
       "      <td>None</td>\n",
       "      <td>None</td>\n",
       "      <td>None</td>\n",
       "    </tr>\n",
       "    <tr>\n",
       "      <th>3</th>\n",
       "      <td>891689557279858688</td>\n",
       "      <td>NaN</td>\n",
       "      <td>NaN</td>\n",
       "      <td>2017-07-30 15:58:51 +0000</td>\n",
       "      <td>&lt;a href=\"http://twitter.com/download/iphone\" r...</td>\n",
       "      <td>This is Darla. She commenced a snooze mid meal...</td>\n",
       "      <td>NaN</td>\n",
       "      <td>NaN</td>\n",
       "      <td>NaN</td>\n",
       "      <td>https://twitter.com/dog_rates/status/891689557...</td>\n",
       "      <td>13</td>\n",
       "      <td>10</td>\n",
       "      <td>Darla</td>\n",
       "      <td>None</td>\n",
       "      <td>None</td>\n",
       "      <td>None</td>\n",
       "      <td>None</td>\n",
       "    </tr>\n",
       "    <tr>\n",
       "      <th>4</th>\n",
       "      <td>891327558926688256</td>\n",
       "      <td>NaN</td>\n",
       "      <td>NaN</td>\n",
       "      <td>2017-07-29 16:00:24 +0000</td>\n",
       "      <td>&lt;a href=\"http://twitter.com/download/iphone\" r...</td>\n",
       "      <td>This is Franklin. He would like you to stop ca...</td>\n",
       "      <td>NaN</td>\n",
       "      <td>NaN</td>\n",
       "      <td>NaN</td>\n",
       "      <td>https://twitter.com/dog_rates/status/891327558...</td>\n",
       "      <td>12</td>\n",
       "      <td>10</td>\n",
       "      <td>Franklin</td>\n",
       "      <td>None</td>\n",
       "      <td>None</td>\n",
       "      <td>None</td>\n",
       "      <td>None</td>\n",
       "    </tr>\n",
       "  </tbody>\n",
       "</table>\n",
       "</div>"
      ],
      "text/plain": [
       "             tweet_id  in_reply_to_status_id  in_reply_to_user_id  \\\n",
       "0  892420643555336193                    NaN                  NaN   \n",
       "1  892177421306343426                    NaN                  NaN   \n",
       "2  891815181378084864                    NaN                  NaN   \n",
       "3  891689557279858688                    NaN                  NaN   \n",
       "4  891327558926688256                    NaN                  NaN   \n",
       "\n",
       "                   timestamp  \\\n",
       "0  2017-08-01 16:23:56 +0000   \n",
       "1  2017-08-01 00:17:27 +0000   \n",
       "2  2017-07-31 00:18:03 +0000   \n",
       "3  2017-07-30 15:58:51 +0000   \n",
       "4  2017-07-29 16:00:24 +0000   \n",
       "\n",
       "                                              source  \\\n",
       "0  <a href=\"http://twitter.com/download/iphone\" r...   \n",
       "1  <a href=\"http://twitter.com/download/iphone\" r...   \n",
       "2  <a href=\"http://twitter.com/download/iphone\" r...   \n",
       "3  <a href=\"http://twitter.com/download/iphone\" r...   \n",
       "4  <a href=\"http://twitter.com/download/iphone\" r...   \n",
       "\n",
       "                                                text  retweeted_status_id  \\\n",
       "0  This is Phineas. He's a mystical boy. Only eve...                  NaN   \n",
       "1  This is Tilly. She's just checking pup on you....                  NaN   \n",
       "2  This is Archie. He is a rare Norwegian Pouncin...                  NaN   \n",
       "3  This is Darla. She commenced a snooze mid meal...                  NaN   \n",
       "4  This is Franklin. He would like you to stop ca...                  NaN   \n",
       "\n",
       "   retweeted_status_user_id retweeted_status_timestamp  \\\n",
       "0                       NaN                        NaN   \n",
       "1                       NaN                        NaN   \n",
       "2                       NaN                        NaN   \n",
       "3                       NaN                        NaN   \n",
       "4                       NaN                        NaN   \n",
       "\n",
       "                                       expanded_urls  rating_numerator  \\\n",
       "0  https://twitter.com/dog_rates/status/892420643...                13   \n",
       "1  https://twitter.com/dog_rates/status/892177421...                13   \n",
       "2  https://twitter.com/dog_rates/status/891815181...                12   \n",
       "3  https://twitter.com/dog_rates/status/891689557...                13   \n",
       "4  https://twitter.com/dog_rates/status/891327558...                12   \n",
       "\n",
       "   rating_denominator      name doggo floofer pupper puppo  \n",
       "0                  10   Phineas  None    None   None  None  \n",
       "1                  10     Tilly  None    None   None  None  \n",
       "2                  10    Archie  None    None   None  None  \n",
       "3                  10     Darla  None    None   None  None  \n",
       "4                  10  Franklin  None    None   None  None  "
      ]
     },
     "execution_count": 3,
     "metadata": {},
     "output_type": "execute_result"
    }
   ],
   "source": [
    "archive.head()"
   ]
  },
  {
   "cell_type": "markdown",
   "metadata": {},
   "source": [
    "2. Use the Requests library to download the tweet image prediction (image_predictions.tsv)"
   ]
  },
  {
   "cell_type": "code",
   "execution_count": 4,
   "metadata": {},
   "outputs": [],
   "source": [
    "url = \"https://d17h27t6h515a5.cloudfront.net/topher/2017/August/599fd2ad_image-predictions/image-predictions.tsv\"\n",
    "r = requests.get(url)\n",
    "with open(\"image_predictions.tsv\", \"wb\") as f:\n",
    "    f.write(r.content)"
   ]
  },
  {
   "cell_type": "code",
   "execution_count": 5,
   "metadata": {},
   "outputs": [],
   "source": [
    "image_predictions = pd.read_csv('image_predictions.tsv', sep = '\\t')"
   ]
  },
  {
   "cell_type": "code",
   "execution_count": 6,
   "metadata": {
    "scrolled": true
   },
   "outputs": [
    {
     "data": {
      "text/html": [
       "<div>\n",
       "<style scoped>\n",
       "    .dataframe tbody tr th:only-of-type {\n",
       "        vertical-align: middle;\n",
       "    }\n",
       "\n",
       "    .dataframe tbody tr th {\n",
       "        vertical-align: top;\n",
       "    }\n",
       "\n",
       "    .dataframe thead th {\n",
       "        text-align: right;\n",
       "    }\n",
       "</style>\n",
       "<table border=\"1\" class=\"dataframe\">\n",
       "  <thead>\n",
       "    <tr style=\"text-align: right;\">\n",
       "      <th></th>\n",
       "      <th>tweet_id</th>\n",
       "      <th>jpg_url</th>\n",
       "      <th>img_num</th>\n",
       "      <th>p1</th>\n",
       "      <th>p1_conf</th>\n",
       "      <th>p1_dog</th>\n",
       "      <th>p2</th>\n",
       "      <th>p2_conf</th>\n",
       "      <th>p2_dog</th>\n",
       "      <th>p3</th>\n",
       "      <th>p3_conf</th>\n",
       "      <th>p3_dog</th>\n",
       "    </tr>\n",
       "  </thead>\n",
       "  <tbody>\n",
       "    <tr>\n",
       "      <th>1924</th>\n",
       "      <td>857263160327368704</td>\n",
       "      <td>https://pbs.twimg.com/media/C-WcS4MXoAADrBU.jpg</td>\n",
       "      <td>1</td>\n",
       "      <td>Samoyed</td>\n",
       "      <td>0.998021</td>\n",
       "      <td>True</td>\n",
       "      <td>Pomeranian</td>\n",
       "      <td>0.000922</td>\n",
       "      <td>True</td>\n",
       "      <td>keeshond</td>\n",
       "      <td>0.000311</td>\n",
       "      <td>True</td>\n",
       "    </tr>\n",
       "    <tr>\n",
       "      <th>1417</th>\n",
       "      <td>771171053431250945</td>\n",
       "      <td>https://pbs.twimg.com/media/CVgdFjNWEAAxmbq.jpg</td>\n",
       "      <td>3</td>\n",
       "      <td>Samoyed</td>\n",
       "      <td>0.978833</td>\n",
       "      <td>True</td>\n",
       "      <td>Pomeranian</td>\n",
       "      <td>0.012763</td>\n",
       "      <td>True</td>\n",
       "      <td>Eskimo_dog</td>\n",
       "      <td>0.001853</td>\n",
       "      <td>True</td>\n",
       "    </tr>\n",
       "    <tr>\n",
       "      <th>1807</th>\n",
       "      <td>832397543355072512</td>\n",
       "      <td>https://pbs.twimg.com/media/C41FIiAW8AA7lMr.jpg</td>\n",
       "      <td>1</td>\n",
       "      <td>Pekinese</td>\n",
       "      <td>0.988916</td>\n",
       "      <td>True</td>\n",
       "      <td>Brabancon_griffon</td>\n",
       "      <td>0.001677</td>\n",
       "      <td>True</td>\n",
       "      <td>Siamese_cat</td>\n",
       "      <td>0.001126</td>\n",
       "      <td>False</td>\n",
       "    </tr>\n",
       "    <tr>\n",
       "      <th>1793</th>\n",
       "      <td>831262627380748289</td>\n",
       "      <td>https://pbs.twimg.com/media/C4k88lGVMAEKNzb.jpg</td>\n",
       "      <td>1</td>\n",
       "      <td>cocker_spaniel</td>\n",
       "      <td>0.263323</td>\n",
       "      <td>True</td>\n",
       "      <td>Brittany_spaniel</td>\n",
       "      <td>0.200550</td>\n",
       "      <td>True</td>\n",
       "      <td>doormat</td>\n",
       "      <td>0.193414</td>\n",
       "      <td>False</td>\n",
       "    </tr>\n",
       "    <tr>\n",
       "      <th>1027</th>\n",
       "      <td>710844581445812225</td>\n",
       "      <td>https://pbs.twimg.com/media/Cd1tYGmXIAAoW5b.jpg</td>\n",
       "      <td>1</td>\n",
       "      <td>dingo</td>\n",
       "      <td>0.536593</td>\n",
       "      <td>False</td>\n",
       "      <td>Pembroke</td>\n",
       "      <td>0.200407</td>\n",
       "      <td>True</td>\n",
       "      <td>basenji</td>\n",
       "      <td>0.060734</td>\n",
       "      <td>True</td>\n",
       "    </tr>\n",
       "  </tbody>\n",
       "</table>\n",
       "</div>"
      ],
      "text/plain": [
       "                tweet_id                                          jpg_url  \\\n",
       "1924  857263160327368704  https://pbs.twimg.com/media/C-WcS4MXoAADrBU.jpg   \n",
       "1417  771171053431250945  https://pbs.twimg.com/media/CVgdFjNWEAAxmbq.jpg   \n",
       "1807  832397543355072512  https://pbs.twimg.com/media/C41FIiAW8AA7lMr.jpg   \n",
       "1793  831262627380748289  https://pbs.twimg.com/media/C4k88lGVMAEKNzb.jpg   \n",
       "1027  710844581445812225  https://pbs.twimg.com/media/Cd1tYGmXIAAoW5b.jpg   \n",
       "\n",
       "      img_num              p1   p1_conf  p1_dog                 p2   p2_conf  \\\n",
       "1924        1         Samoyed  0.998021    True         Pomeranian  0.000922   \n",
       "1417        3         Samoyed  0.978833    True         Pomeranian  0.012763   \n",
       "1807        1        Pekinese  0.988916    True  Brabancon_griffon  0.001677   \n",
       "1793        1  cocker_spaniel  0.263323    True   Brittany_spaniel  0.200550   \n",
       "1027        1           dingo  0.536593   False           Pembroke  0.200407   \n",
       "\n",
       "      p2_dog           p3   p3_conf  p3_dog  \n",
       "1924    True     keeshond  0.000311    True  \n",
       "1417    True   Eskimo_dog  0.001853    True  \n",
       "1807    True  Siamese_cat  0.001126   False  \n",
       "1793    True      doormat  0.193414   False  \n",
       "1027    True      basenji  0.060734    True  "
      ]
     },
     "execution_count": 6,
     "metadata": {},
     "output_type": "execute_result"
    }
   ],
   "source": [
    "image_predictions.sample(5)"
   ]
  },
  {
   "cell_type": "markdown",
   "metadata": {},
   "source": [
    "3. Use the Tweepy library to query additional data via the Twitter API (tweet_json.txt)"
   ]
  },
  {
   "cell_type": "code",
   "execution_count": 7,
   "metadata": {},
   "outputs": [],
   "source": [
    "consumer_key ='CONSUMER_KEY'\n",
    "consumer_secret = 'CONSUMER_SECRET'\n",
    "access_token = 'ACCESS_TOKEN'\n",
    "access_token_secret = 'ACCESS_TOKEN_SECRET'\n",
    "\n",
    "auth = tweepy.OAuthHandler(consumer_key, consumer_secret)\n",
    "auth.set_access_token(access_token, access_token_secret)\n",
    "\n",
    "api = tweepy.API(auth, parser = tweepy.parsers.JSONParser(), wait_on_rate_limit=True, wait_on_rate_limit_notify=True)"
   ]
  },
  {
   "cell_type": "code",
   "execution_count": 8,
   "metadata": {},
   "outputs": [],
   "source": [
    "#Retrieve the tweet ids\n",
    "tweet_id = archive['tweet_id']\n",
    "#create an empty list for the tweets\n",
    "tweet_list = []"
   ]
  },
  {
   "cell_type": "code",
   "execution_count": 26,
   "metadata": {},
   "outputs": [
    {
     "name": "stdout",
     "output_type": "stream",
     "text": [
      "Twitter ID 888202515573088257 Failed\n",
      "Twitter ID 873697596434513921 Failed\n",
      "Twitter ID 872668790621863937 Failed\n",
      "Twitter ID 872261713294495745 Failed\n",
      "Twitter ID 869988702071779329 Failed\n",
      "Twitter ID 866816280283807744 Failed\n",
      "Twitter ID 861769973181624320 Failed\n",
      "Twitter ID 856602993587888130 Failed\n",
      "Twitter ID 856330835276025856 Failed\n",
      "Twitter ID 851953902622658560 Failed\n",
      "Twitter ID 851861385021730816 Failed\n",
      "Twitter ID 845459076796616705 Failed\n",
      "Twitter ID 844704788403113984 Failed\n",
      "Twitter ID 842892208864923648 Failed\n",
      "Twitter ID 837366284874571778 Failed\n",
      "Twitter ID 837012587749474308 Failed\n",
      "Twitter ID 829374341691346946 Failed\n",
      "Twitter ID 827228250799742977 Failed\n",
      "Twitter ID 812747805718642688 Failed\n",
      "Twitter ID 802247111496568832 Failed\n",
      "Twitter ID 779123168116150273 Failed\n",
      "Twitter ID 775096608509886464 Failed\n",
      "Rate limit reached. Sleeping for: 359\n",
      "Twitter ID 771004394259247104 Failed\n",
      "Twitter ID 770743923962707968 Failed\n",
      "Twitter ID 766864461642756096 Failed\n",
      "Twitter ID 759923798737051648 Failed\n",
      "Twitter ID 759566828574212096 Failed\n",
      "Twitter ID 754011816964026368 Failed\n",
      "Rate limit reached. Sleeping for: 732\n",
      "Twitter ID 680055455951884288 Failed\n"
     ]
    }
   ],
   "source": [
    "for id in tweet_id:\n",
    "    #get the tweet retweets and likes corresponding to the id\n",
    "    try:\n",
    "        tweet = api.get_status(id, tweet_mode = 'extended')\n",
    "        retweets = tweet['retweet_count']\n",
    "        likes = tweet['favorite_count']\n",
    "        #Append to the list\n",
    "        tweet_list.append({'tweet_id': id, 'retweets':retweets, 'likes':likes})\n",
    "    except Exception as e:\n",
    "        print(f'Twitter ID {id} Failed')"
   ]
  },
  {
   "cell_type": "code",
   "execution_count": 27,
   "metadata": {},
   "outputs": [],
   "source": [
    "#Convert to a dataframe\n",
    "tweets_count = pd.DataFrame(tweet_list, columns = ['tweet_id', 'retweets', 'likes'])\n",
    "tweets_count.to_csv('tweet_json.csv', encoding = 'utf-8')"
   ]
  },
  {
   "cell_type": "code",
   "execution_count": 7,
   "metadata": {},
   "outputs": [],
   "source": [
    "tweets_count = pd.read_csv('tweet_json.csv')"
   ]
  },
  {
   "cell_type": "code",
   "execution_count": 8,
   "metadata": {},
   "outputs": [
    {
     "data": {
      "text/html": [
       "<div>\n",
       "<style scoped>\n",
       "    .dataframe tbody tr th:only-of-type {\n",
       "        vertical-align: middle;\n",
       "    }\n",
       "\n",
       "    .dataframe tbody tr th {\n",
       "        vertical-align: top;\n",
       "    }\n",
       "\n",
       "    .dataframe thead th {\n",
       "        text-align: right;\n",
       "    }\n",
       "</style>\n",
       "<table border=\"1\" class=\"dataframe\">\n",
       "  <thead>\n",
       "    <tr style=\"text-align: right;\">\n",
       "      <th></th>\n",
       "      <th>Unnamed: 0</th>\n",
       "      <th>tweet_id</th>\n",
       "      <th>retweets</th>\n",
       "      <th>likes</th>\n",
       "    </tr>\n",
       "  </thead>\n",
       "  <tbody>\n",
       "    <tr>\n",
       "      <th>0</th>\n",
       "      <td>0</td>\n",
       "      <td>892420643555336193</td>\n",
       "      <td>7009</td>\n",
       "      <td>33812</td>\n",
       "    </tr>\n",
       "    <tr>\n",
       "      <th>1</th>\n",
       "      <td>1</td>\n",
       "      <td>892177421306343426</td>\n",
       "      <td>5301</td>\n",
       "      <td>29330</td>\n",
       "    </tr>\n",
       "    <tr>\n",
       "      <th>2</th>\n",
       "      <td>2</td>\n",
       "      <td>891815181378084864</td>\n",
       "      <td>3481</td>\n",
       "      <td>22050</td>\n",
       "    </tr>\n",
       "    <tr>\n",
       "      <th>3</th>\n",
       "      <td>3</td>\n",
       "      <td>891689557279858688</td>\n",
       "      <td>7225</td>\n",
       "      <td>36937</td>\n",
       "    </tr>\n",
       "    <tr>\n",
       "      <th>4</th>\n",
       "      <td>4</td>\n",
       "      <td>891327558926688256</td>\n",
       "      <td>7760</td>\n",
       "      <td>35310</td>\n",
       "    </tr>\n",
       "    <tr>\n",
       "      <th>5</th>\n",
       "      <td>5</td>\n",
       "      <td>891087950875897856</td>\n",
       "      <td>2602</td>\n",
       "      <td>17812</td>\n",
       "    </tr>\n",
       "    <tr>\n",
       "      <th>6</th>\n",
       "      <td>6</td>\n",
       "      <td>890971913173991426</td>\n",
       "      <td>1663</td>\n",
       "      <td>10363</td>\n",
       "    </tr>\n",
       "    <tr>\n",
       "      <th>7</th>\n",
       "      <td>7</td>\n",
       "      <td>890729181411237888</td>\n",
       "      <td>15752</td>\n",
       "      <td>56861</td>\n",
       "    </tr>\n",
       "    <tr>\n",
       "      <th>8</th>\n",
       "      <td>8</td>\n",
       "      <td>890609185150312448</td>\n",
       "      <td>3620</td>\n",
       "      <td>24524</td>\n",
       "    </tr>\n",
       "    <tr>\n",
       "      <th>9</th>\n",
       "      <td>9</td>\n",
       "      <td>890240255349198849</td>\n",
       "      <td>6098</td>\n",
       "      <td>27959</td>\n",
       "    </tr>\n",
       "    <tr>\n",
       "      <th>10</th>\n",
       "      <td>10</td>\n",
       "      <td>890006608113172480</td>\n",
       "      <td>6153</td>\n",
       "      <td>27029</td>\n",
       "    </tr>\n",
       "    <tr>\n",
       "      <th>11</th>\n",
       "      <td>11</td>\n",
       "      <td>889880896479866881</td>\n",
       "      <td>4166</td>\n",
       "      <td>24566</td>\n",
       "    </tr>\n",
       "    <tr>\n",
       "      <th>12</th>\n",
       "      <td>12</td>\n",
       "      <td>889665388333682689</td>\n",
       "      <td>8349</td>\n",
       "      <td>42058</td>\n",
       "    </tr>\n",
       "    <tr>\n",
       "      <th>13</th>\n",
       "      <td>13</td>\n",
       "      <td>889638837579907072</td>\n",
       "      <td>3715</td>\n",
       "      <td>23670</td>\n",
       "    </tr>\n",
       "    <tr>\n",
       "      <th>14</th>\n",
       "      <td>14</td>\n",
       "      <td>889531135344209921</td>\n",
       "      <td>1881</td>\n",
       "      <td>13351</td>\n",
       "    </tr>\n",
       "    <tr>\n",
       "      <th>15</th>\n",
       "      <td>15</td>\n",
       "      <td>889278841981685760</td>\n",
       "      <td>4443</td>\n",
       "      <td>22115</td>\n",
       "    </tr>\n",
       "    <tr>\n",
       "      <th>16</th>\n",
       "      <td>16</td>\n",
       "      <td>888917238123831296</td>\n",
       "      <td>3761</td>\n",
       "      <td>25637</td>\n",
       "    </tr>\n",
       "    <tr>\n",
       "      <th>17</th>\n",
       "      <td>17</td>\n",
       "      <td>888804989199671297</td>\n",
       "      <td>3535</td>\n",
       "      <td>22462</td>\n",
       "    </tr>\n",
       "    <tr>\n",
       "      <th>18</th>\n",
       "      <td>18</td>\n",
       "      <td>888554962724278272</td>\n",
       "      <td>2877</td>\n",
       "      <td>17316</td>\n",
       "    </tr>\n",
       "    <tr>\n",
       "      <th>19</th>\n",
       "      <td>19</td>\n",
       "      <td>888078434458587136</td>\n",
       "      <td>2892</td>\n",
       "      <td>19151</td>\n",
       "    </tr>\n",
       "    <tr>\n",
       "      <th>20</th>\n",
       "      <td>20</td>\n",
       "      <td>887705289381826560</td>\n",
       "      <td>4533</td>\n",
       "      <td>26625</td>\n",
       "    </tr>\n",
       "    <tr>\n",
       "      <th>21</th>\n",
       "      <td>21</td>\n",
       "      <td>887517139158093824</td>\n",
       "      <td>9851</td>\n",
       "      <td>40717</td>\n",
       "    </tr>\n",
       "    <tr>\n",
       "      <th>22</th>\n",
       "      <td>22</td>\n",
       "      <td>887473957103951883</td>\n",
       "      <td>15025</td>\n",
       "      <td>60190</td>\n",
       "    </tr>\n",
       "    <tr>\n",
       "      <th>23</th>\n",
       "      <td>23</td>\n",
       "      <td>887343217045368832</td>\n",
       "      <td>8815</td>\n",
       "      <td>29588</td>\n",
       "    </tr>\n",
       "    <tr>\n",
       "      <th>24</th>\n",
       "      <td>24</td>\n",
       "      <td>887101392804085760</td>\n",
       "      <td>4990</td>\n",
       "      <td>26981</td>\n",
       "    </tr>\n",
       "    <tr>\n",
       "      <th>25</th>\n",
       "      <td>25</td>\n",
       "      <td>886983233522544640</td>\n",
       "      <td>6318</td>\n",
       "      <td>30384</td>\n",
       "    </tr>\n",
       "    <tr>\n",
       "      <th>26</th>\n",
       "      <td>26</td>\n",
       "      <td>886736880519319552</td>\n",
       "      <td>2631</td>\n",
       "      <td>10501</td>\n",
       "    </tr>\n",
       "    <tr>\n",
       "      <th>27</th>\n",
       "      <td>27</td>\n",
       "      <td>886680336477933568</td>\n",
       "      <td>3735</td>\n",
       "      <td>19737</td>\n",
       "    </tr>\n",
       "    <tr>\n",
       "      <th>28</th>\n",
       "      <td>28</td>\n",
       "      <td>886366144734445568</td>\n",
       "      <td>2629</td>\n",
       "      <td>18547</td>\n",
       "    </tr>\n",
       "    <tr>\n",
       "      <th>29</th>\n",
       "      <td>29</td>\n",
       "      <td>886267009285017600</td>\n",
       "      <td>4</td>\n",
       "      <td>105</td>\n",
       "    </tr>\n",
       "    <tr>\n",
       "      <th>...</th>\n",
       "      <td>...</td>\n",
       "      <td>...</td>\n",
       "      <td>...</td>\n",
       "      <td>...</td>\n",
       "    </tr>\n",
       "    <tr>\n",
       "      <th>2297</th>\n",
       "      <td>2297</td>\n",
       "      <td>666411507551481857</td>\n",
       "      <td>262</td>\n",
       "      <td>371</td>\n",
       "    </tr>\n",
       "    <tr>\n",
       "      <th>2298</th>\n",
       "      <td>2298</td>\n",
       "      <td>666407126856765440</td>\n",
       "      <td>30</td>\n",
       "      <td>93</td>\n",
       "    </tr>\n",
       "    <tr>\n",
       "      <th>2299</th>\n",
       "      <td>2299</td>\n",
       "      <td>666396247373291520</td>\n",
       "      <td>69</td>\n",
       "      <td>147</td>\n",
       "    </tr>\n",
       "    <tr>\n",
       "      <th>2300</th>\n",
       "      <td>2300</td>\n",
       "      <td>666373753744588802</td>\n",
       "      <td>73</td>\n",
       "      <td>163</td>\n",
       "    </tr>\n",
       "    <tr>\n",
       "      <th>2301</th>\n",
       "      <td>2301</td>\n",
       "      <td>666362758909284353</td>\n",
       "      <td>469</td>\n",
       "      <td>648</td>\n",
       "    </tr>\n",
       "    <tr>\n",
       "      <th>2302</th>\n",
       "      <td>2302</td>\n",
       "      <td>666353288456101888</td>\n",
       "      <td>58</td>\n",
       "      <td>179</td>\n",
       "    </tr>\n",
       "    <tr>\n",
       "      <th>2303</th>\n",
       "      <td>2303</td>\n",
       "      <td>666345417576210432</td>\n",
       "      <td>124</td>\n",
       "      <td>244</td>\n",
       "    </tr>\n",
       "    <tr>\n",
       "      <th>2304</th>\n",
       "      <td>2304</td>\n",
       "      <td>666337882303524864</td>\n",
       "      <td>79</td>\n",
       "      <td>168</td>\n",
       "    </tr>\n",
       "    <tr>\n",
       "      <th>2305</th>\n",
       "      <td>2305</td>\n",
       "      <td>666293911632134144</td>\n",
       "      <td>290</td>\n",
       "      <td>426</td>\n",
       "    </tr>\n",
       "    <tr>\n",
       "      <th>2306</th>\n",
       "      <td>2306</td>\n",
       "      <td>666287406224695296</td>\n",
       "      <td>57</td>\n",
       "      <td>123</td>\n",
       "    </tr>\n",
       "    <tr>\n",
       "      <th>2307</th>\n",
       "      <td>2307</td>\n",
       "      <td>666273097616637952</td>\n",
       "      <td>68</td>\n",
       "      <td>152</td>\n",
       "    </tr>\n",
       "    <tr>\n",
       "      <th>2308</th>\n",
       "      <td>2308</td>\n",
       "      <td>666268910803644416</td>\n",
       "      <td>38</td>\n",
       "      <td>100</td>\n",
       "    </tr>\n",
       "    <tr>\n",
       "      <th>2309</th>\n",
       "      <td>2309</td>\n",
       "      <td>666104133288665088</td>\n",
       "      <td>5488</td>\n",
       "      <td>12898</td>\n",
       "    </tr>\n",
       "    <tr>\n",
       "      <th>2310</th>\n",
       "      <td>2310</td>\n",
       "      <td>666102155909144576</td>\n",
       "      <td>11</td>\n",
       "      <td>66</td>\n",
       "    </tr>\n",
       "    <tr>\n",
       "      <th>2311</th>\n",
       "      <td>2311</td>\n",
       "      <td>666099513787052032</td>\n",
       "      <td>53</td>\n",
       "      <td>134</td>\n",
       "    </tr>\n",
       "    <tr>\n",
       "      <th>2312</th>\n",
       "      <td>2312</td>\n",
       "      <td>666094000022159362</td>\n",
       "      <td>63</td>\n",
       "      <td>143</td>\n",
       "    </tr>\n",
       "    <tr>\n",
       "      <th>2313</th>\n",
       "      <td>2313</td>\n",
       "      <td>666082916733198337</td>\n",
       "      <td>37</td>\n",
       "      <td>93</td>\n",
       "    </tr>\n",
       "    <tr>\n",
       "      <th>2314</th>\n",
       "      <td>2314</td>\n",
       "      <td>666073100786774016</td>\n",
       "      <td>132</td>\n",
       "      <td>274</td>\n",
       "    </tr>\n",
       "    <tr>\n",
       "      <th>2315</th>\n",
       "      <td>2315</td>\n",
       "      <td>666071193221509120</td>\n",
       "      <td>51</td>\n",
       "      <td>127</td>\n",
       "    </tr>\n",
       "    <tr>\n",
       "      <th>2316</th>\n",
       "      <td>2316</td>\n",
       "      <td>666063827256086533</td>\n",
       "      <td>180</td>\n",
       "      <td>399</td>\n",
       "    </tr>\n",
       "    <tr>\n",
       "      <th>2317</th>\n",
       "      <td>2317</td>\n",
       "      <td>666058600524156928</td>\n",
       "      <td>47</td>\n",
       "      <td>99</td>\n",
       "    </tr>\n",
       "    <tr>\n",
       "      <th>2318</th>\n",
       "      <td>2318</td>\n",
       "      <td>666057090499244032</td>\n",
       "      <td>112</td>\n",
       "      <td>247</td>\n",
       "    </tr>\n",
       "    <tr>\n",
       "      <th>2319</th>\n",
       "      <td>2319</td>\n",
       "      <td>666055525042405380</td>\n",
       "      <td>196</td>\n",
       "      <td>367</td>\n",
       "    </tr>\n",
       "    <tr>\n",
       "      <th>2320</th>\n",
       "      <td>2320</td>\n",
       "      <td>666051853826850816</td>\n",
       "      <td>704</td>\n",
       "      <td>1027</td>\n",
       "    </tr>\n",
       "    <tr>\n",
       "      <th>2321</th>\n",
       "      <td>2321</td>\n",
       "      <td>666050758794694657</td>\n",
       "      <td>50</td>\n",
       "      <td>115</td>\n",
       "    </tr>\n",
       "    <tr>\n",
       "      <th>2322</th>\n",
       "      <td>2322</td>\n",
       "      <td>666049248165822465</td>\n",
       "      <td>37</td>\n",
       "      <td>89</td>\n",
       "    </tr>\n",
       "    <tr>\n",
       "      <th>2323</th>\n",
       "      <td>2323</td>\n",
       "      <td>666044226329800704</td>\n",
       "      <td>115</td>\n",
       "      <td>247</td>\n",
       "    </tr>\n",
       "    <tr>\n",
       "      <th>2324</th>\n",
       "      <td>2324</td>\n",
       "      <td>666033412701032449</td>\n",
       "      <td>36</td>\n",
       "      <td>100</td>\n",
       "    </tr>\n",
       "    <tr>\n",
       "      <th>2325</th>\n",
       "      <td>2325</td>\n",
       "      <td>666029285002620928</td>\n",
       "      <td>39</td>\n",
       "      <td>112</td>\n",
       "    </tr>\n",
       "    <tr>\n",
       "      <th>2326</th>\n",
       "      <td>2326</td>\n",
       "      <td>666020888022790149</td>\n",
       "      <td>423</td>\n",
       "      <td>2293</td>\n",
       "    </tr>\n",
       "  </tbody>\n",
       "</table>\n",
       "<p>2327 rows × 4 columns</p>\n",
       "</div>"
      ],
      "text/plain": [
       "      Unnamed: 0            tweet_id  retweets  likes\n",
       "0              0  892420643555336193      7009  33812\n",
       "1              1  892177421306343426      5301  29330\n",
       "2              2  891815181378084864      3481  22050\n",
       "3              3  891689557279858688      7225  36937\n",
       "4              4  891327558926688256      7760  35310\n",
       "5              5  891087950875897856      2602  17812\n",
       "6              6  890971913173991426      1663  10363\n",
       "7              7  890729181411237888     15752  56861\n",
       "8              8  890609185150312448      3620  24524\n",
       "9              9  890240255349198849      6098  27959\n",
       "10            10  890006608113172480      6153  27029\n",
       "11            11  889880896479866881      4166  24566\n",
       "12            12  889665388333682689      8349  42058\n",
       "13            13  889638837579907072      3715  23670\n",
       "14            14  889531135344209921      1881  13351\n",
       "15            15  889278841981685760      4443  22115\n",
       "16            16  888917238123831296      3761  25637\n",
       "17            17  888804989199671297      3535  22462\n",
       "18            18  888554962724278272      2877  17316\n",
       "19            19  888078434458587136      2892  19151\n",
       "20            20  887705289381826560      4533  26625\n",
       "21            21  887517139158093824      9851  40717\n",
       "22            22  887473957103951883     15025  60190\n",
       "23            23  887343217045368832      8815  29588\n",
       "24            24  887101392804085760      4990  26981\n",
       "25            25  886983233522544640      6318  30384\n",
       "26            26  886736880519319552      2631  10501\n",
       "27            27  886680336477933568      3735  19737\n",
       "28            28  886366144734445568      2629  18547\n",
       "29            29  886267009285017600         4    105\n",
       "...          ...                 ...       ...    ...\n",
       "2297        2297  666411507551481857       262    371\n",
       "2298        2298  666407126856765440        30     93\n",
       "2299        2299  666396247373291520        69    147\n",
       "2300        2300  666373753744588802        73    163\n",
       "2301        2301  666362758909284353       469    648\n",
       "2302        2302  666353288456101888        58    179\n",
       "2303        2303  666345417576210432       124    244\n",
       "2304        2304  666337882303524864        79    168\n",
       "2305        2305  666293911632134144       290    426\n",
       "2306        2306  666287406224695296        57    123\n",
       "2307        2307  666273097616637952        68    152\n",
       "2308        2308  666268910803644416        38    100\n",
       "2309        2309  666104133288665088      5488  12898\n",
       "2310        2310  666102155909144576        11     66\n",
       "2311        2311  666099513787052032        53    134\n",
       "2312        2312  666094000022159362        63    143\n",
       "2313        2313  666082916733198337        37     93\n",
       "2314        2314  666073100786774016       132    274\n",
       "2315        2315  666071193221509120        51    127\n",
       "2316        2316  666063827256086533       180    399\n",
       "2317        2317  666058600524156928        47     99\n",
       "2318        2318  666057090499244032       112    247\n",
       "2319        2319  666055525042405380       196    367\n",
       "2320        2320  666051853826850816       704   1027\n",
       "2321        2321  666050758794694657        50    115\n",
       "2322        2322  666049248165822465        37     89\n",
       "2323        2323  666044226329800704       115    247\n",
       "2324        2324  666033412701032449        36    100\n",
       "2325        2325  666029285002620928        39    112\n",
       "2326        2326  666020888022790149       423   2293\n",
       "\n",
       "[2327 rows x 4 columns]"
      ]
     },
     "execution_count": 8,
     "metadata": {},
     "output_type": "execute_result"
    }
   ],
   "source": [
    "tweets_count"
   ]
  },
  {
   "cell_type": "markdown",
   "metadata": {
    "extensions": {
     "jupyter_dashboards": {
      "version": 1,
      "views": {
       "grid_default": {
        "col": 4,
        "height": 4,
        "hidden": false,
        "row": 28,
        "width": 4
       },
       "report_default": {
        "hidden": false
       }
      }
     }
    }
   },
   "source": [
    "## Assessing Data\n",
    "<a id=\"assess\"></a>"
   ]
  },
  {
   "cell_type": "markdown",
   "metadata": {},
   "source": [
    "### Assess the dataframes visually"
   ]
  },
  {
   "cell_type": "code",
   "execution_count": 9,
   "metadata": {},
   "outputs": [
    {
     "data": {
      "text/html": [
       "<div>\n",
       "<style scoped>\n",
       "    .dataframe tbody tr th:only-of-type {\n",
       "        vertical-align: middle;\n",
       "    }\n",
       "\n",
       "    .dataframe tbody tr th {\n",
       "        vertical-align: top;\n",
       "    }\n",
       "\n",
       "    .dataframe thead th {\n",
       "        text-align: right;\n",
       "    }\n",
       "</style>\n",
       "<table border=\"1\" class=\"dataframe\">\n",
       "  <thead>\n",
       "    <tr style=\"text-align: right;\">\n",
       "      <th></th>\n",
       "      <th>tweet_id</th>\n",
       "      <th>in_reply_to_status_id</th>\n",
       "      <th>in_reply_to_user_id</th>\n",
       "      <th>timestamp</th>\n",
       "      <th>source</th>\n",
       "      <th>text</th>\n",
       "      <th>retweeted_status_id</th>\n",
       "      <th>retweeted_status_user_id</th>\n",
       "      <th>retweeted_status_timestamp</th>\n",
       "      <th>expanded_urls</th>\n",
       "      <th>rating_numerator</th>\n",
       "      <th>rating_denominator</th>\n",
       "      <th>name</th>\n",
       "      <th>doggo</th>\n",
       "      <th>floofer</th>\n",
       "      <th>pupper</th>\n",
       "      <th>puppo</th>\n",
       "    </tr>\n",
       "  </thead>\n",
       "  <tbody>\n",
       "    <tr>\n",
       "      <th>1014</th>\n",
       "      <td>747204161125646336</td>\n",
       "      <td>NaN</td>\n",
       "      <td>NaN</td>\n",
       "      <td>2016-06-26 23:05:29 +0000</td>\n",
       "      <td>&lt;a href=\"http://twitter.com/download/iphone\" r...</td>\n",
       "      <td>This is Clark. He's deadly af. Clearly part sh...</td>\n",
       "      <td>NaN</td>\n",
       "      <td>NaN</td>\n",
       "      <td>NaN</td>\n",
       "      <td>https://twitter.com/dog_rates/status/747204161...</td>\n",
       "      <td>10</td>\n",
       "      <td>10</td>\n",
       "      <td>Clark</td>\n",
       "      <td>None</td>\n",
       "      <td>None</td>\n",
       "      <td>None</td>\n",
       "      <td>None</td>\n",
       "    </tr>\n",
       "    <tr>\n",
       "      <th>843</th>\n",
       "      <td>766714921925144576</td>\n",
       "      <td>7.667118e+17</td>\n",
       "      <td>4.196984e+09</td>\n",
       "      <td>2016-08-19 19:14:16 +0000</td>\n",
       "      <td>&lt;a href=\"http://twitter.com/download/iphone\" r...</td>\n",
       "      <td>His name is Charley and he already has a new s...</td>\n",
       "      <td>NaN</td>\n",
       "      <td>NaN</td>\n",
       "      <td>NaN</td>\n",
       "      <td>NaN</td>\n",
       "      <td>13</td>\n",
       "      <td>10</td>\n",
       "      <td>None</td>\n",
       "      <td>None</td>\n",
       "      <td>None</td>\n",
       "      <td>None</td>\n",
       "      <td>None</td>\n",
       "    </tr>\n",
       "    <tr>\n",
       "      <th>1300</th>\n",
       "      <td>707693576495472641</td>\n",
       "      <td>NaN</td>\n",
       "      <td>NaN</td>\n",
       "      <td>2016-03-09 22:24:31 +0000</td>\n",
       "      <td>&lt;a href=\"http://twitter.com/download/iphone\" r...</td>\n",
       "      <td>This is Jiminus. He's in a tub for some reason...</td>\n",
       "      <td>NaN</td>\n",
       "      <td>NaN</td>\n",
       "      <td>NaN</td>\n",
       "      <td>https://twitter.com/dog_rates/status/707693576...</td>\n",
       "      <td>7</td>\n",
       "      <td>10</td>\n",
       "      <td>Jiminus</td>\n",
       "      <td>None</td>\n",
       "      <td>None</td>\n",
       "      <td>None</td>\n",
       "      <td>None</td>\n",
       "    </tr>\n",
       "    <tr>\n",
       "      <th>2288</th>\n",
       "      <td>667176164155375616</td>\n",
       "      <td>NaN</td>\n",
       "      <td>NaN</td>\n",
       "      <td>2015-11-19 03:02:47 +0000</td>\n",
       "      <td>&lt;a href=\"http://twitter.com/download/iphone\" r...</td>\n",
       "      <td>These are strange dogs. All have toupees. Long...</td>\n",
       "      <td>NaN</td>\n",
       "      <td>NaN</td>\n",
       "      <td>NaN</td>\n",
       "      <td>https://twitter.com/dog_rates/status/667176164...</td>\n",
       "      <td>4</td>\n",
       "      <td>10</td>\n",
       "      <td>None</td>\n",
       "      <td>None</td>\n",
       "      <td>None</td>\n",
       "      <td>None</td>\n",
       "      <td>None</td>\n",
       "    </tr>\n",
       "    <tr>\n",
       "      <th>472</th>\n",
       "      <td>816450570814898180</td>\n",
       "      <td>NaN</td>\n",
       "      <td>NaN</td>\n",
       "      <td>2017-01-04 01:05:59 +0000</td>\n",
       "      <td>&lt;a href=\"http://twitter.com/download/iphone\" r...</td>\n",
       "      <td>Meet Moose. He doesn't want his friend to go b...</td>\n",
       "      <td>NaN</td>\n",
       "      <td>NaN</td>\n",
       "      <td>NaN</td>\n",
       "      <td>https://twitter.com/dog_rates/status/816450570...</td>\n",
       "      <td>13</td>\n",
       "      <td>10</td>\n",
       "      <td>Moose</td>\n",
       "      <td>None</td>\n",
       "      <td>None</td>\n",
       "      <td>None</td>\n",
       "      <td>None</td>\n",
       "    </tr>\n",
       "  </tbody>\n",
       "</table>\n",
       "</div>"
      ],
      "text/plain": [
       "                tweet_id  in_reply_to_status_id  in_reply_to_user_id  \\\n",
       "1014  747204161125646336                    NaN                  NaN   \n",
       "843   766714921925144576           7.667118e+17         4.196984e+09   \n",
       "1300  707693576495472641                    NaN                  NaN   \n",
       "2288  667176164155375616                    NaN                  NaN   \n",
       "472   816450570814898180                    NaN                  NaN   \n",
       "\n",
       "                      timestamp  \\\n",
       "1014  2016-06-26 23:05:29 +0000   \n",
       "843   2016-08-19 19:14:16 +0000   \n",
       "1300  2016-03-09 22:24:31 +0000   \n",
       "2288  2015-11-19 03:02:47 +0000   \n",
       "472   2017-01-04 01:05:59 +0000   \n",
       "\n",
       "                                                 source  \\\n",
       "1014  <a href=\"http://twitter.com/download/iphone\" r...   \n",
       "843   <a href=\"http://twitter.com/download/iphone\" r...   \n",
       "1300  <a href=\"http://twitter.com/download/iphone\" r...   \n",
       "2288  <a href=\"http://twitter.com/download/iphone\" r...   \n",
       "472   <a href=\"http://twitter.com/download/iphone\" r...   \n",
       "\n",
       "                                                   text  retweeted_status_id  \\\n",
       "1014  This is Clark. He's deadly af. Clearly part sh...                  NaN   \n",
       "843   His name is Charley and he already has a new s...                  NaN   \n",
       "1300  This is Jiminus. He's in a tub for some reason...                  NaN   \n",
       "2288  These are strange dogs. All have toupees. Long...                  NaN   \n",
       "472   Meet Moose. He doesn't want his friend to go b...                  NaN   \n",
       "\n",
       "      retweeted_status_user_id retweeted_status_timestamp  \\\n",
       "1014                       NaN                        NaN   \n",
       "843                        NaN                        NaN   \n",
       "1300                       NaN                        NaN   \n",
       "2288                       NaN                        NaN   \n",
       "472                        NaN                        NaN   \n",
       "\n",
       "                                          expanded_urls  rating_numerator  \\\n",
       "1014  https://twitter.com/dog_rates/status/747204161...                10   \n",
       "843                                                 NaN                13   \n",
       "1300  https://twitter.com/dog_rates/status/707693576...                 7   \n",
       "2288  https://twitter.com/dog_rates/status/667176164...                 4   \n",
       "472   https://twitter.com/dog_rates/status/816450570...                13   \n",
       "\n",
       "      rating_denominator     name doggo floofer pupper puppo  \n",
       "1014                  10    Clark  None    None   None  None  \n",
       "843                   10     None  None    None   None  None  \n",
       "1300                  10  Jiminus  None    None   None  None  \n",
       "2288                  10     None  None    None   None  None  \n",
       "472                   10    Moose  None    None   None  None  "
      ]
     },
     "execution_count": 9,
     "metadata": {},
     "output_type": "execute_result"
    }
   ],
   "source": [
    "archive.sample(5)"
   ]
  },
  {
   "cell_type": "code",
   "execution_count": 10,
   "metadata": {},
   "outputs": [
    {
     "data": {
      "text/html": [
       "<div>\n",
       "<style scoped>\n",
       "    .dataframe tbody tr th:only-of-type {\n",
       "        vertical-align: middle;\n",
       "    }\n",
       "\n",
       "    .dataframe tbody tr th {\n",
       "        vertical-align: top;\n",
       "    }\n",
       "\n",
       "    .dataframe thead th {\n",
       "        text-align: right;\n",
       "    }\n",
       "</style>\n",
       "<table border=\"1\" class=\"dataframe\">\n",
       "  <thead>\n",
       "    <tr style=\"text-align: right;\">\n",
       "      <th></th>\n",
       "      <th>tweet_id</th>\n",
       "      <th>jpg_url</th>\n",
       "      <th>img_num</th>\n",
       "      <th>p1</th>\n",
       "      <th>p1_conf</th>\n",
       "      <th>p1_dog</th>\n",
       "      <th>p2</th>\n",
       "      <th>p2_conf</th>\n",
       "      <th>p2_dog</th>\n",
       "      <th>p3</th>\n",
       "      <th>p3_conf</th>\n",
       "      <th>p3_dog</th>\n",
       "    </tr>\n",
       "  </thead>\n",
       "  <tbody>\n",
       "    <tr>\n",
       "      <th>354</th>\n",
       "      <td>672591762242805761</td>\n",
       "      <td>https://pbs.twimg.com/media/CVWGotpXAAMRfGq.jpg</td>\n",
       "      <td>1</td>\n",
       "      <td>kuvasz</td>\n",
       "      <td>0.777659</td>\n",
       "      <td>True</td>\n",
       "      <td>Great_Pyrenees</td>\n",
       "      <td>0.112517</td>\n",
       "      <td>True</td>\n",
       "      <td>golden_retriever</td>\n",
       "      <td>0.038351</td>\n",
       "      <td>True</td>\n",
       "    </tr>\n",
       "    <tr>\n",
       "      <th>441</th>\n",
       "      <td>674468880899788800</td>\n",
       "      <td>https://pbs.twimg.com/media/CVwx3dQXAAA0ksL.jpg</td>\n",
       "      <td>2</td>\n",
       "      <td>chow</td>\n",
       "      <td>0.526230</td>\n",
       "      <td>True</td>\n",
       "      <td>Pomeranian</td>\n",
       "      <td>0.283647</td>\n",
       "      <td>True</td>\n",
       "      <td>toy_poodle</td>\n",
       "      <td>0.067665</td>\n",
       "      <td>True</td>\n",
       "    </tr>\n",
       "    <tr>\n",
       "      <th>2016</th>\n",
       "      <td>879862464715927552</td>\n",
       "      <td>https://pbs.twimg.com/media/DDXmPrbWAAEKMvy.jpg</td>\n",
       "      <td>3</td>\n",
       "      <td>basset</td>\n",
       "      <td>0.813507</td>\n",
       "      <td>True</td>\n",
       "      <td>beagle</td>\n",
       "      <td>0.146654</td>\n",
       "      <td>True</td>\n",
       "      <td>cocker_spaniel</td>\n",
       "      <td>0.009485</td>\n",
       "      <td>True</td>\n",
       "    </tr>\n",
       "    <tr>\n",
       "      <th>1087</th>\n",
       "      <td>718939241951195136</td>\n",
       "      <td>https://pbs.twimg.com/media/CfovbK4WIAAkTn3.jpg</td>\n",
       "      <td>1</td>\n",
       "      <td>Pembroke</td>\n",
       "      <td>0.766327</td>\n",
       "      <td>True</td>\n",
       "      <td>Cardigan</td>\n",
       "      <td>0.222126</td>\n",
       "      <td>True</td>\n",
       "      <td>toilet_tissue</td>\n",
       "      <td>0.006757</td>\n",
       "      <td>False</td>\n",
       "    </tr>\n",
       "    <tr>\n",
       "      <th>1086</th>\n",
       "      <td>718631497683582976</td>\n",
       "      <td>https://pbs.twimg.com/media/CfkXiX6W4AAmICF.jpg</td>\n",
       "      <td>1</td>\n",
       "      <td>Pomeranian</td>\n",
       "      <td>0.993718</td>\n",
       "      <td>True</td>\n",
       "      <td>Pekinese</td>\n",
       "      <td>0.003611</td>\n",
       "      <td>True</td>\n",
       "      <td>Persian_cat</td>\n",
       "      <td>0.000525</td>\n",
       "      <td>False</td>\n",
       "    </tr>\n",
       "  </tbody>\n",
       "</table>\n",
       "</div>"
      ],
      "text/plain": [
       "                tweet_id                                          jpg_url  \\\n",
       "354   672591762242805761  https://pbs.twimg.com/media/CVWGotpXAAMRfGq.jpg   \n",
       "441   674468880899788800  https://pbs.twimg.com/media/CVwx3dQXAAA0ksL.jpg   \n",
       "2016  879862464715927552  https://pbs.twimg.com/media/DDXmPrbWAAEKMvy.jpg   \n",
       "1087  718939241951195136  https://pbs.twimg.com/media/CfovbK4WIAAkTn3.jpg   \n",
       "1086  718631497683582976  https://pbs.twimg.com/media/CfkXiX6W4AAmICF.jpg   \n",
       "\n",
       "      img_num          p1   p1_conf  p1_dog              p2   p2_conf  p2_dog  \\\n",
       "354         1      kuvasz  0.777659    True  Great_Pyrenees  0.112517    True   \n",
       "441         2        chow  0.526230    True      Pomeranian  0.283647    True   \n",
       "2016        3      basset  0.813507    True          beagle  0.146654    True   \n",
       "1087        1    Pembroke  0.766327    True        Cardigan  0.222126    True   \n",
       "1086        1  Pomeranian  0.993718    True        Pekinese  0.003611    True   \n",
       "\n",
       "                    p3   p3_conf  p3_dog  \n",
       "354   golden_retriever  0.038351    True  \n",
       "441         toy_poodle  0.067665    True  \n",
       "2016    cocker_spaniel  0.009485    True  \n",
       "1087     toilet_tissue  0.006757   False  \n",
       "1086       Persian_cat  0.000525   False  "
      ]
     },
     "execution_count": 10,
     "metadata": {},
     "output_type": "execute_result"
    }
   ],
   "source": [
    "image_predictions.sample(5)"
   ]
  },
  {
   "cell_type": "code",
   "execution_count": 11,
   "metadata": {},
   "outputs": [],
   "source": [
    "tweets_count = tweets_count.drop('Unnamed: 0', axis=1)"
   ]
  },
  {
   "cell_type": "code",
   "execution_count": 12,
   "metadata": {},
   "outputs": [
    {
     "data": {
      "text/html": [
       "<div>\n",
       "<style scoped>\n",
       "    .dataframe tbody tr th:only-of-type {\n",
       "        vertical-align: middle;\n",
       "    }\n",
       "\n",
       "    .dataframe tbody tr th {\n",
       "        vertical-align: top;\n",
       "    }\n",
       "\n",
       "    .dataframe thead th {\n",
       "        text-align: right;\n",
       "    }\n",
       "</style>\n",
       "<table border=\"1\" class=\"dataframe\">\n",
       "  <thead>\n",
       "    <tr style=\"text-align: right;\">\n",
       "      <th></th>\n",
       "      <th>tweet_id</th>\n",
       "      <th>retweets</th>\n",
       "      <th>likes</th>\n",
       "    </tr>\n",
       "  </thead>\n",
       "  <tbody>\n",
       "    <tr>\n",
       "      <th>2246</th>\n",
       "      <td>667453023279554560</td>\n",
       "      <td>74</td>\n",
       "      <td>279</td>\n",
       "    </tr>\n",
       "    <tr>\n",
       "      <th>182</th>\n",
       "      <td>855851453814013952</td>\n",
       "      <td>16140</td>\n",
       "      <td>41915</td>\n",
       "    </tr>\n",
       "    <tr>\n",
       "      <th>9</th>\n",
       "      <td>890240255349198849</td>\n",
       "      <td>6098</td>\n",
       "      <td>27959</td>\n",
       "    </tr>\n",
       "    <tr>\n",
       "      <th>1431</th>\n",
       "      <td>695064344191721472</td>\n",
       "      <td>530</td>\n",
       "      <td>1481</td>\n",
       "    </tr>\n",
       "    <tr>\n",
       "      <th>1515</th>\n",
       "      <td>689557536375177216</td>\n",
       "      <td>405</td>\n",
       "      <td>1906</td>\n",
       "    </tr>\n",
       "  </tbody>\n",
       "</table>\n",
       "</div>"
      ],
      "text/plain": [
       "                tweet_id  retweets  likes\n",
       "2246  667453023279554560        74    279\n",
       "182   855851453814013952     16140  41915\n",
       "9     890240255349198849      6098  27959\n",
       "1431  695064344191721472       530   1481\n",
       "1515  689557536375177216       405   1906"
      ]
     },
     "execution_count": 12,
     "metadata": {},
     "output_type": "execute_result"
    }
   ],
   "source": [
    "tweets_count.sample(5)"
   ]
  },
  {
   "cell_type": "markdown",
   "metadata": {},
   "source": [
    "### Assess the dataframe programmatically"
   ]
  },
  {
   "cell_type": "code",
   "execution_count": 13,
   "metadata": {},
   "outputs": [
    {
     "name": "stdout",
     "output_type": "stream",
     "text": [
      "<class 'pandas.core.frame.DataFrame'>\n",
      "RangeIndex: 2356 entries, 0 to 2355\n",
      "Data columns (total 17 columns):\n",
      "tweet_id                      2356 non-null int64\n",
      "in_reply_to_status_id         78 non-null float64\n",
      "in_reply_to_user_id           78 non-null float64\n",
      "timestamp                     2356 non-null object\n",
      "source                        2356 non-null object\n",
      "text                          2356 non-null object\n",
      "retweeted_status_id           181 non-null float64\n",
      "retweeted_status_user_id      181 non-null float64\n",
      "retweeted_status_timestamp    181 non-null object\n",
      "expanded_urls                 2297 non-null object\n",
      "rating_numerator              2356 non-null int64\n",
      "rating_denominator            2356 non-null int64\n",
      "name                          2356 non-null object\n",
      "doggo                         2356 non-null object\n",
      "floofer                       2356 non-null object\n",
      "pupper                        2356 non-null object\n",
      "puppo                         2356 non-null object\n",
      "dtypes: float64(4), int64(3), object(10)\n",
      "memory usage: 313.0+ KB\n"
     ]
    }
   ],
   "source": [
    "#assess the archive dataframe\n",
    "archive.info()"
   ]
  },
  {
   "cell_type": "code",
   "execution_count": 14,
   "metadata": {},
   "outputs": [
    {
     "name": "stdout",
     "output_type": "stream",
     "text": [
      "<class 'pandas.core.frame.DataFrame'>\n",
      "RangeIndex: 2075 entries, 0 to 2074\n",
      "Data columns (total 12 columns):\n",
      "tweet_id    2075 non-null int64\n",
      "jpg_url     2075 non-null object\n",
      "img_num     2075 non-null int64\n",
      "p1          2075 non-null object\n",
      "p1_conf     2075 non-null float64\n",
      "p1_dog      2075 non-null bool\n",
      "p2          2075 non-null object\n",
      "p2_conf     2075 non-null float64\n",
      "p2_dog      2075 non-null bool\n",
      "p3          2075 non-null object\n",
      "p3_conf     2075 non-null float64\n",
      "p3_dog      2075 non-null bool\n",
      "dtypes: bool(3), float64(3), int64(2), object(4)\n",
      "memory usage: 152.1+ KB\n"
     ]
    }
   ],
   "source": [
    "#assess the image predictions dataframe\n",
    "image_predictions.info()"
   ]
  },
  {
   "cell_type": "code",
   "execution_count": 15,
   "metadata": {},
   "outputs": [
    {
     "name": "stdout",
     "output_type": "stream",
     "text": [
      "<class 'pandas.core.frame.DataFrame'>\n",
      "RangeIndex: 2327 entries, 0 to 2326\n",
      "Data columns (total 3 columns):\n",
      "tweet_id    2327 non-null int64\n",
      "retweets    2327 non-null int64\n",
      "likes       2327 non-null int64\n",
      "dtypes: int64(3)\n",
      "memory usage: 54.6 KB\n"
     ]
    }
   ],
   "source": [
    "#assess the tweets count dataframe\n",
    "tweets_count.info()"
   ]
  },
  {
   "cell_type": "code",
   "execution_count": 16,
   "metadata": {},
   "outputs": [
    {
     "data": {
      "text/html": [
       "<div>\n",
       "<style scoped>\n",
       "    .dataframe tbody tr th:only-of-type {\n",
       "        vertical-align: middle;\n",
       "    }\n",
       "\n",
       "    .dataframe tbody tr th {\n",
       "        vertical-align: top;\n",
       "    }\n",
       "\n",
       "    .dataframe thead th {\n",
       "        text-align: right;\n",
       "    }\n",
       "</style>\n",
       "<table border=\"1\" class=\"dataframe\">\n",
       "  <thead>\n",
       "    <tr style=\"text-align: right;\">\n",
       "      <th></th>\n",
       "      <th>tweet_id</th>\n",
       "      <th>in_reply_to_status_id</th>\n",
       "      <th>in_reply_to_user_id</th>\n",
       "      <th>retweeted_status_id</th>\n",
       "      <th>retweeted_status_user_id</th>\n",
       "      <th>rating_numerator</th>\n",
       "      <th>rating_denominator</th>\n",
       "    </tr>\n",
       "  </thead>\n",
       "  <tbody>\n",
       "    <tr>\n",
       "      <th>count</th>\n",
       "      <td>2.356000e+03</td>\n",
       "      <td>7.800000e+01</td>\n",
       "      <td>7.800000e+01</td>\n",
       "      <td>1.810000e+02</td>\n",
       "      <td>1.810000e+02</td>\n",
       "      <td>2356.000000</td>\n",
       "      <td>2356.000000</td>\n",
       "    </tr>\n",
       "    <tr>\n",
       "      <th>mean</th>\n",
       "      <td>7.427716e+17</td>\n",
       "      <td>7.455079e+17</td>\n",
       "      <td>2.014171e+16</td>\n",
       "      <td>7.720400e+17</td>\n",
       "      <td>1.241698e+16</td>\n",
       "      <td>13.126486</td>\n",
       "      <td>10.455433</td>\n",
       "    </tr>\n",
       "    <tr>\n",
       "      <th>std</th>\n",
       "      <td>6.856705e+16</td>\n",
       "      <td>7.582492e+16</td>\n",
       "      <td>1.252797e+17</td>\n",
       "      <td>6.236928e+16</td>\n",
       "      <td>9.599254e+16</td>\n",
       "      <td>45.876648</td>\n",
       "      <td>6.745237</td>\n",
       "    </tr>\n",
       "    <tr>\n",
       "      <th>min</th>\n",
       "      <td>6.660209e+17</td>\n",
       "      <td>6.658147e+17</td>\n",
       "      <td>1.185634e+07</td>\n",
       "      <td>6.661041e+17</td>\n",
       "      <td>7.832140e+05</td>\n",
       "      <td>0.000000</td>\n",
       "      <td>0.000000</td>\n",
       "    </tr>\n",
       "    <tr>\n",
       "      <th>25%</th>\n",
       "      <td>6.783989e+17</td>\n",
       "      <td>6.757419e+17</td>\n",
       "      <td>3.086374e+08</td>\n",
       "      <td>7.186315e+17</td>\n",
       "      <td>4.196984e+09</td>\n",
       "      <td>10.000000</td>\n",
       "      <td>10.000000</td>\n",
       "    </tr>\n",
       "    <tr>\n",
       "      <th>50%</th>\n",
       "      <td>7.196279e+17</td>\n",
       "      <td>7.038708e+17</td>\n",
       "      <td>4.196984e+09</td>\n",
       "      <td>7.804657e+17</td>\n",
       "      <td>4.196984e+09</td>\n",
       "      <td>11.000000</td>\n",
       "      <td>10.000000</td>\n",
       "    </tr>\n",
       "    <tr>\n",
       "      <th>75%</th>\n",
       "      <td>7.993373e+17</td>\n",
       "      <td>8.257804e+17</td>\n",
       "      <td>4.196984e+09</td>\n",
       "      <td>8.203146e+17</td>\n",
       "      <td>4.196984e+09</td>\n",
       "      <td>12.000000</td>\n",
       "      <td>10.000000</td>\n",
       "    </tr>\n",
       "    <tr>\n",
       "      <th>max</th>\n",
       "      <td>8.924206e+17</td>\n",
       "      <td>8.862664e+17</td>\n",
       "      <td>8.405479e+17</td>\n",
       "      <td>8.874740e+17</td>\n",
       "      <td>7.874618e+17</td>\n",
       "      <td>1776.000000</td>\n",
       "      <td>170.000000</td>\n",
       "    </tr>\n",
       "  </tbody>\n",
       "</table>\n",
       "</div>"
      ],
      "text/plain": [
       "           tweet_id  in_reply_to_status_id  in_reply_to_user_id  \\\n",
       "count  2.356000e+03           7.800000e+01         7.800000e+01   \n",
       "mean   7.427716e+17           7.455079e+17         2.014171e+16   \n",
       "std    6.856705e+16           7.582492e+16         1.252797e+17   \n",
       "min    6.660209e+17           6.658147e+17         1.185634e+07   \n",
       "25%    6.783989e+17           6.757419e+17         3.086374e+08   \n",
       "50%    7.196279e+17           7.038708e+17         4.196984e+09   \n",
       "75%    7.993373e+17           8.257804e+17         4.196984e+09   \n",
       "max    8.924206e+17           8.862664e+17         8.405479e+17   \n",
       "\n",
       "       retweeted_status_id  retweeted_status_user_id  rating_numerator  \\\n",
       "count         1.810000e+02              1.810000e+02       2356.000000   \n",
       "mean          7.720400e+17              1.241698e+16         13.126486   \n",
       "std           6.236928e+16              9.599254e+16         45.876648   \n",
       "min           6.661041e+17              7.832140e+05          0.000000   \n",
       "25%           7.186315e+17              4.196984e+09         10.000000   \n",
       "50%           7.804657e+17              4.196984e+09         11.000000   \n",
       "75%           8.203146e+17              4.196984e+09         12.000000   \n",
       "max           8.874740e+17              7.874618e+17       1776.000000   \n",
       "\n",
       "       rating_denominator  \n",
       "count         2356.000000  \n",
       "mean            10.455433  \n",
       "std              6.745237  \n",
       "min              0.000000  \n",
       "25%             10.000000  \n",
       "50%             10.000000  \n",
       "75%             10.000000  \n",
       "max            170.000000  "
      ]
     },
     "execution_count": 16,
     "metadata": {},
     "output_type": "execute_result"
    }
   ],
   "source": [
    "archive.describe()"
   ]
  },
  {
   "cell_type": "code",
   "execution_count": 17,
   "metadata": {},
   "outputs": [
    {
     "data": {
      "text/html": [
       "<div>\n",
       "<style scoped>\n",
       "    .dataframe tbody tr th:only-of-type {\n",
       "        vertical-align: middle;\n",
       "    }\n",
       "\n",
       "    .dataframe tbody tr th {\n",
       "        vertical-align: top;\n",
       "    }\n",
       "\n",
       "    .dataframe thead th {\n",
       "        text-align: right;\n",
       "    }\n",
       "</style>\n",
       "<table border=\"1\" class=\"dataframe\">\n",
       "  <thead>\n",
       "    <tr style=\"text-align: right;\">\n",
       "      <th></th>\n",
       "      <th>tweet_id</th>\n",
       "      <th>img_num</th>\n",
       "      <th>p1_conf</th>\n",
       "      <th>p2_conf</th>\n",
       "      <th>p3_conf</th>\n",
       "    </tr>\n",
       "  </thead>\n",
       "  <tbody>\n",
       "    <tr>\n",
       "      <th>count</th>\n",
       "      <td>2.075000e+03</td>\n",
       "      <td>2075.000000</td>\n",
       "      <td>2075.000000</td>\n",
       "      <td>2.075000e+03</td>\n",
       "      <td>2.075000e+03</td>\n",
       "    </tr>\n",
       "    <tr>\n",
       "      <th>mean</th>\n",
       "      <td>7.384514e+17</td>\n",
       "      <td>1.203855</td>\n",
       "      <td>0.594548</td>\n",
       "      <td>1.345886e-01</td>\n",
       "      <td>6.032417e-02</td>\n",
       "    </tr>\n",
       "    <tr>\n",
       "      <th>std</th>\n",
       "      <td>6.785203e+16</td>\n",
       "      <td>0.561875</td>\n",
       "      <td>0.271174</td>\n",
       "      <td>1.006657e-01</td>\n",
       "      <td>5.090593e-02</td>\n",
       "    </tr>\n",
       "    <tr>\n",
       "      <th>min</th>\n",
       "      <td>6.660209e+17</td>\n",
       "      <td>1.000000</td>\n",
       "      <td>0.044333</td>\n",
       "      <td>1.011300e-08</td>\n",
       "      <td>1.740170e-10</td>\n",
       "    </tr>\n",
       "    <tr>\n",
       "      <th>25%</th>\n",
       "      <td>6.764835e+17</td>\n",
       "      <td>1.000000</td>\n",
       "      <td>0.364412</td>\n",
       "      <td>5.388625e-02</td>\n",
       "      <td>1.622240e-02</td>\n",
       "    </tr>\n",
       "    <tr>\n",
       "      <th>50%</th>\n",
       "      <td>7.119988e+17</td>\n",
       "      <td>1.000000</td>\n",
       "      <td>0.588230</td>\n",
       "      <td>1.181810e-01</td>\n",
       "      <td>4.944380e-02</td>\n",
       "    </tr>\n",
       "    <tr>\n",
       "      <th>75%</th>\n",
       "      <td>7.932034e+17</td>\n",
       "      <td>1.000000</td>\n",
       "      <td>0.843855</td>\n",
       "      <td>1.955655e-01</td>\n",
       "      <td>9.180755e-02</td>\n",
       "    </tr>\n",
       "    <tr>\n",
       "      <th>max</th>\n",
       "      <td>8.924206e+17</td>\n",
       "      <td>4.000000</td>\n",
       "      <td>1.000000</td>\n",
       "      <td>4.880140e-01</td>\n",
       "      <td>2.734190e-01</td>\n",
       "    </tr>\n",
       "  </tbody>\n",
       "</table>\n",
       "</div>"
      ],
      "text/plain": [
       "           tweet_id      img_num      p1_conf       p2_conf       p3_conf\n",
       "count  2.075000e+03  2075.000000  2075.000000  2.075000e+03  2.075000e+03\n",
       "mean   7.384514e+17     1.203855     0.594548  1.345886e-01  6.032417e-02\n",
       "std    6.785203e+16     0.561875     0.271174  1.006657e-01  5.090593e-02\n",
       "min    6.660209e+17     1.000000     0.044333  1.011300e-08  1.740170e-10\n",
       "25%    6.764835e+17     1.000000     0.364412  5.388625e-02  1.622240e-02\n",
       "50%    7.119988e+17     1.000000     0.588230  1.181810e-01  4.944380e-02\n",
       "75%    7.932034e+17     1.000000     0.843855  1.955655e-01  9.180755e-02\n",
       "max    8.924206e+17     4.000000     1.000000  4.880140e-01  2.734190e-01"
      ]
     },
     "execution_count": 17,
     "metadata": {},
     "output_type": "execute_result"
    }
   ],
   "source": [
    "image_predictions.describe()"
   ]
  },
  {
   "cell_type": "code",
   "execution_count": 18,
   "metadata": {},
   "outputs": [
    {
     "data": {
      "text/html": [
       "<div>\n",
       "<style scoped>\n",
       "    .dataframe tbody tr th:only-of-type {\n",
       "        vertical-align: middle;\n",
       "    }\n",
       "\n",
       "    .dataframe tbody tr th {\n",
       "        vertical-align: top;\n",
       "    }\n",
       "\n",
       "    .dataframe thead th {\n",
       "        text-align: right;\n",
       "    }\n",
       "</style>\n",
       "<table border=\"1\" class=\"dataframe\">\n",
       "  <thead>\n",
       "    <tr style=\"text-align: right;\">\n",
       "      <th></th>\n",
       "      <th>tweet_id</th>\n",
       "      <th>retweets</th>\n",
       "      <th>likes</th>\n",
       "    </tr>\n",
       "  </thead>\n",
       "  <tbody>\n",
       "    <tr>\n",
       "      <th>count</th>\n",
       "      <td>2.327000e+03</td>\n",
       "      <td>2327.000000</td>\n",
       "      <td>2327.000000</td>\n",
       "    </tr>\n",
       "    <tr>\n",
       "      <th>mean</th>\n",
       "      <td>7.417930e+17</td>\n",
       "      <td>2471.020627</td>\n",
       "      <td>7053.946283</td>\n",
       "    </tr>\n",
       "    <tr>\n",
       "      <th>std</th>\n",
       "      <td>6.820795e+16</td>\n",
       "      <td>4184.805285</td>\n",
       "      <td>10961.969691</td>\n",
       "    </tr>\n",
       "    <tr>\n",
       "      <th>min</th>\n",
       "      <td>6.660209e+17</td>\n",
       "      <td>1.000000</td>\n",
       "      <td>0.000000</td>\n",
       "    </tr>\n",
       "    <tr>\n",
       "      <th>25%</th>\n",
       "      <td>6.781394e+17</td>\n",
       "      <td>494.500000</td>\n",
       "      <td>1225.000000</td>\n",
       "    </tr>\n",
       "    <tr>\n",
       "      <th>50%</th>\n",
       "      <td>7.178418e+17</td>\n",
       "      <td>1148.000000</td>\n",
       "      <td>3051.000000</td>\n",
       "    </tr>\n",
       "    <tr>\n",
       "      <th>75%</th>\n",
       "      <td>7.986547e+17</td>\n",
       "      <td>2860.500000</td>\n",
       "      <td>8604.000000</td>\n",
       "    </tr>\n",
       "    <tr>\n",
       "      <th>max</th>\n",
       "      <td>8.924206e+17</td>\n",
       "      <td>70733.000000</td>\n",
       "      <td>144877.000000</td>\n",
       "    </tr>\n",
       "  </tbody>\n",
       "</table>\n",
       "</div>"
      ],
      "text/plain": [
       "           tweet_id      retweets          likes\n",
       "count  2.327000e+03   2327.000000    2327.000000\n",
       "mean   7.417930e+17   2471.020627    7053.946283\n",
       "std    6.820795e+16   4184.805285   10961.969691\n",
       "min    6.660209e+17      1.000000       0.000000\n",
       "25%    6.781394e+17    494.500000    1225.000000\n",
       "50%    7.178418e+17   1148.000000    3051.000000\n",
       "75%    7.986547e+17   2860.500000    8604.000000\n",
       "max    8.924206e+17  70733.000000  144877.000000"
      ]
     },
     "execution_count": 18,
     "metadata": {},
     "output_type": "execute_result"
    }
   ],
   "source": [
    "tweets_count.describe()"
   ]
  },
  {
   "cell_type": "markdown",
   "metadata": {},
   "source": [
    "### Quality issues\n",
    "1. Image_predictions table: Some column names are not descriptive\n",
    "\n",
    "2. Image_predictions table: Some items in the P1 column are separated with underscores\n",
    "\n",
    "3. All tables: Tweet ID datatypes should be string\n",
    "\n",
    "4. Archive table: Missing values in in_reply_to_status_id, retweeted_status_id, retweeted_status_user_id (cannot be cleaned/not needed)\n",
    "\n",
    "5. Archive table: Missing values in expanded urls column (cannot be cleaned)\n",
    "\n",
    "6. Archive table: Missing values in retweeted status time stamp (not to be cleaned)\n",
    "\n",
    "7. Image_prediction: img_num should be string datatype instead of int\n",
    "\n",
    "8. Doggo, Floofer, Pupper and Puppo datatypes should be category instead of object\n",
    "\n",
    "9. Archive table: The minimum rating_denominator seems wrong. Zero values\n",
    "\n",
    "10. Archive table: Carry out some cleaning to find the source of the tweet"
   ]
  },
  {
   "cell_type": "markdown",
   "metadata": {
    "extensions": {
     "jupyter_dashboards": {
      "version": 1,
      "views": {
       "grid_default": {
        "col": 0,
        "height": 7,
        "hidden": false,
        "row": 40,
        "width": 12
       },
       "report_default": {
        "hidden": false
       }
      }
     }
    }
   },
   "source": [
    "### Tidiness issues\n",
    "1. Archive table: Doggo, Floofer, Pupper and Puppo should be one column\n",
    "\n",
    "2. Tweets_count should be part of the Archive table"
   ]
  },
  {
   "cell_type": "markdown",
   "metadata": {
    "extensions": {
     "jupyter_dashboards": {
      "version": 1,
      "views": {
       "grid_default": {
        "col": 4,
        "height": 4,
        "hidden": false,
        "row": 32,
        "width": 4
       },
       "report_default": {
        "hidden": false
       }
      }
     }
    }
   },
   "source": [
    "## Cleaning Data\n",
    "<a id=\"clean\"></a>"
   ]
  },
  {
   "cell_type": "code",
   "execution_count": 33,
   "metadata": {},
   "outputs": [],
   "source": [
    "# Make copies of original pieces of data\n",
    "archive_clean = archive.copy()\n",
    "image_predictions_clean = image_predictions.copy()\n",
    "tweets_count_clean = tweets_count.copy()"
   ]
  },
  {
   "cell_type": "markdown",
   "metadata": {},
   "source": [
    "### Issue #1: Image_predictions table: Some column names are not descriptive"
   ]
  },
  {
   "cell_type": "markdown",
   "metadata": {},
   "source": [
    "#### Define: Rename the columns with more descriptive names using pandas rename() "
   ]
  },
  {
   "cell_type": "markdown",
   "metadata": {},
   "source": [
    "#### Code"
   ]
  },
  {
   "cell_type": "code",
   "execution_count": 34,
   "metadata": {},
   "outputs": [
    {
     "data": {
      "text/html": [
       "<div>\n",
       "<style scoped>\n",
       "    .dataframe tbody tr th:only-of-type {\n",
       "        vertical-align: middle;\n",
       "    }\n",
       "\n",
       "    .dataframe tbody tr th {\n",
       "        vertical-align: top;\n",
       "    }\n",
       "\n",
       "    .dataframe thead th {\n",
       "        text-align: right;\n",
       "    }\n",
       "</style>\n",
       "<table border=\"1\" class=\"dataframe\">\n",
       "  <thead>\n",
       "    <tr style=\"text-align: right;\">\n",
       "      <th></th>\n",
       "      <th>tweet_id</th>\n",
       "      <th>jpg_url</th>\n",
       "      <th>img_num</th>\n",
       "      <th>p1</th>\n",
       "      <th>p1_conf</th>\n",
       "      <th>p1_dog</th>\n",
       "      <th>p2</th>\n",
       "      <th>p2_conf</th>\n",
       "      <th>p2_dog</th>\n",
       "      <th>p3</th>\n",
       "      <th>p3_conf</th>\n",
       "      <th>p3_dog</th>\n",
       "    </tr>\n",
       "  </thead>\n",
       "  <tbody>\n",
       "    <tr>\n",
       "      <th>1514</th>\n",
       "      <td>786664955043049472</td>\n",
       "      <td>https://pbs.twimg.com/media/CurLmoqXgAEPoJ-.jpg</td>\n",
       "      <td>1</td>\n",
       "      <td>Leonberg</td>\n",
       "      <td>0.512034</td>\n",
       "      <td>True</td>\n",
       "      <td>keeshond</td>\n",
       "      <td>0.464816</td>\n",
       "      <td>True</td>\n",
       "      <td>Pomeranian</td>\n",
       "      <td>0.007812</td>\n",
       "      <td>True</td>\n",
       "    </tr>\n",
       "  </tbody>\n",
       "</table>\n",
       "</div>"
      ],
      "text/plain": [
       "                tweet_id                                          jpg_url  \\\n",
       "1514  786664955043049472  https://pbs.twimg.com/media/CurLmoqXgAEPoJ-.jpg   \n",
       "\n",
       "      img_num        p1   p1_conf  p1_dog        p2   p2_conf  p2_dog  \\\n",
       "1514        1  Leonberg  0.512034    True  keeshond  0.464816    True   \n",
       "\n",
       "              p3   p3_conf  p3_dog  \n",
       "1514  Pomeranian  0.007812    True  "
      ]
     },
     "execution_count": 34,
     "metadata": {},
     "output_type": "execute_result"
    }
   ],
   "source": [
    "image_predictions.sample()"
   ]
  },
  {
   "cell_type": "code",
   "execution_count": 35,
   "metadata": {},
   "outputs": [],
   "source": [
    "#Rename the columns\n",
    "image_predictions_clean.rename(columns = {'p1':'first_prediction', \n",
    "                                         'p1_conf':'confidence_1',\n",
    "                                        'p1_dog':'is_dog_1',\n",
    "                                        'p2':'second_prediction', \n",
    "                                         'p2_conf':'confidence_2',\n",
    "                                        'p2_dog':'is_dog_2',\n",
    "                                        'p3':'third_prediction', \n",
    "                                         'p3_conf':'confidence_3',\n",
    "                                        'p3_dog':'is_dog_3'}, inplace=True)"
   ]
  },
  {
   "cell_type": "markdown",
   "metadata": {},
   "source": [
    "#### Test"
   ]
  },
  {
   "cell_type": "code",
   "execution_count": 36,
   "metadata": {},
   "outputs": [
    {
     "data": {
      "text/html": [
       "<div>\n",
       "<style scoped>\n",
       "    .dataframe tbody tr th:only-of-type {\n",
       "        vertical-align: middle;\n",
       "    }\n",
       "\n",
       "    .dataframe tbody tr th {\n",
       "        vertical-align: top;\n",
       "    }\n",
       "\n",
       "    .dataframe thead th {\n",
       "        text-align: right;\n",
       "    }\n",
       "</style>\n",
       "<table border=\"1\" class=\"dataframe\">\n",
       "  <thead>\n",
       "    <tr style=\"text-align: right;\">\n",
       "      <th></th>\n",
       "      <th>tweet_id</th>\n",
       "      <th>jpg_url</th>\n",
       "      <th>img_num</th>\n",
       "      <th>first_prediction</th>\n",
       "      <th>confidence_1</th>\n",
       "      <th>is_dog_1</th>\n",
       "      <th>second_prediction</th>\n",
       "      <th>confidence_2</th>\n",
       "      <th>is_dog_2</th>\n",
       "      <th>third_prediction</th>\n",
       "      <th>confidence_3</th>\n",
       "      <th>is_dog_3</th>\n",
       "    </tr>\n",
       "  </thead>\n",
       "  <tbody>\n",
       "    <tr>\n",
       "      <th>773</th>\n",
       "      <td>689599056876867584</td>\n",
       "      <td>https://pbs.twimg.com/media/CZHyrvOXEAEin-A.jpg</td>\n",
       "      <td>1</td>\n",
       "      <td>dogsled</td>\n",
       "      <td>0.426494</td>\n",
       "      <td>False</td>\n",
       "      <td>cocker_spaniel</td>\n",
       "      <td>0.073101</td>\n",
       "      <td>True</td>\n",
       "      <td>Chihuahua</td>\n",
       "      <td>0.070323</td>\n",
       "      <td>True</td>\n",
       "    </tr>\n",
       "  </tbody>\n",
       "</table>\n",
       "</div>"
      ],
      "text/plain": [
       "               tweet_id                                          jpg_url  \\\n",
       "773  689599056876867584  https://pbs.twimg.com/media/CZHyrvOXEAEin-A.jpg   \n",
       "\n",
       "     img_num first_prediction  confidence_1  is_dog_1 second_prediction  \\\n",
       "773        1          dogsled      0.426494     False    cocker_spaniel   \n",
       "\n",
       "     confidence_2  is_dog_2 third_prediction  confidence_3  is_dog_3  \n",
       "773      0.073101      True        Chihuahua      0.070323      True  "
      ]
     },
     "execution_count": 36,
     "metadata": {},
     "output_type": "execute_result"
    }
   ],
   "source": [
    "image_predictions_clean.sample()"
   ]
  },
  {
   "cell_type": "markdown",
   "metadata": {},
   "source": [
    "### Issue #2: Image_predictions table: Some items in the P1, P2 and P3 columns are separated with underscores"
   ]
  },
  {
   "cell_type": "markdown",
   "metadata": {
    "collapsed": true,
    "extensions": {
     "jupyter_dashboards": {
      "version": 1,
      "views": {
       "grid_default": {
        "hidden": true
       },
       "report_default": {
        "hidden": true
       }
      }
     }
    }
   },
   "source": [
    "#### Define: Replace the underscores in the P1, P2, P3 columns with spaces using the pandas replace() function and capitalize using upper"
   ]
  },
  {
   "cell_type": "markdown",
   "metadata": {},
   "source": [
    "#### Code"
   ]
  },
  {
   "cell_type": "code",
   "execution_count": 37,
   "metadata": {},
   "outputs": [],
   "source": [
    "#Replace underscores with spaces and capitalize\n",
    "image_predictions_clean.first_prediction = image_predictions_clean.first_prediction.str.replace('_', \" \").str.capitalize()\n",
    "image_predictions_clean.second_prediction = image_predictions_clean.second_prediction.str.replace('_', \" \").str.capitalize()\n",
    "image_predictions_clean.third_prediction = image_predictions_clean.third_prediction.str.replace('_', \" \").str.capitalize()"
   ]
  },
  {
   "cell_type": "markdown",
   "metadata": {},
   "source": [
    "#### Test"
   ]
  },
  {
   "cell_type": "code",
   "execution_count": 38,
   "metadata": {},
   "outputs": [
    {
     "data": {
      "text/html": [
       "<div>\n",
       "<style scoped>\n",
       "    .dataframe tbody tr th:only-of-type {\n",
       "        vertical-align: middle;\n",
       "    }\n",
       "\n",
       "    .dataframe tbody tr th {\n",
       "        vertical-align: top;\n",
       "    }\n",
       "\n",
       "    .dataframe thead th {\n",
       "        text-align: right;\n",
       "    }\n",
       "</style>\n",
       "<table border=\"1\" class=\"dataframe\">\n",
       "  <thead>\n",
       "    <tr style=\"text-align: right;\">\n",
       "      <th></th>\n",
       "      <th>tweet_id</th>\n",
       "      <th>jpg_url</th>\n",
       "      <th>img_num</th>\n",
       "      <th>first_prediction</th>\n",
       "      <th>confidence_1</th>\n",
       "      <th>is_dog_1</th>\n",
       "      <th>second_prediction</th>\n",
       "      <th>confidence_2</th>\n",
       "      <th>is_dog_2</th>\n",
       "      <th>third_prediction</th>\n",
       "      <th>confidence_3</th>\n",
       "      <th>is_dog_3</th>\n",
       "    </tr>\n",
       "  </thead>\n",
       "  <tbody>\n",
       "    <tr>\n",
       "      <th>1315</th>\n",
       "      <td>754874841593970688</td>\n",
       "      <td>https://pbs.twimg.com/media/CWza7kpWcAAdYLc.jpg</td>\n",
       "      <td>1</td>\n",
       "      <td>Pug</td>\n",
       "      <td>0.272205</td>\n",
       "      <td>True</td>\n",
       "      <td>Bull mastiff</td>\n",
       "      <td>0.251530</td>\n",
       "      <td>True</td>\n",
       "      <td>Bath towel</td>\n",
       "      <td>0.116806</td>\n",
       "      <td>False</td>\n",
       "    </tr>\n",
       "    <tr>\n",
       "      <th>587</th>\n",
       "      <td>679062614270468097</td>\n",
       "      <td>https://pbs.twimg.com/media/CWyD2HGUYAQ1Xa7.jpg</td>\n",
       "      <td>2</td>\n",
       "      <td>Cash machine</td>\n",
       "      <td>0.802333</td>\n",
       "      <td>False</td>\n",
       "      <td>Schipperke</td>\n",
       "      <td>0.045519</td>\n",
       "      <td>True</td>\n",
       "      <td>German shepherd</td>\n",
       "      <td>0.023353</td>\n",
       "      <td>True</td>\n",
       "    </tr>\n",
       "    <tr>\n",
       "      <th>1247</th>\n",
       "      <td>747600769478692864</td>\n",
       "      <td>https://pbs.twimg.com/media/CmAC7ehXEAAqSuW.jpg</td>\n",
       "      <td>1</td>\n",
       "      <td>Chesapeake bay retriever</td>\n",
       "      <td>0.804363</td>\n",
       "      <td>True</td>\n",
       "      <td>Weimaraner</td>\n",
       "      <td>0.054431</td>\n",
       "      <td>True</td>\n",
       "      <td>Labrador retriever</td>\n",
       "      <td>0.043268</td>\n",
       "      <td>True</td>\n",
       "    </tr>\n",
       "    <tr>\n",
       "      <th>1922</th>\n",
       "      <td>856543823941562368</td>\n",
       "      <td>https://pbs.twimg.com/media/C-MOEDCXYAEjp7o.jpg</td>\n",
       "      <td>1</td>\n",
       "      <td>Boston bull</td>\n",
       "      <td>0.306910</td>\n",
       "      <td>True</td>\n",
       "      <td>Siamese cat</td>\n",
       "      <td>0.191218</td>\n",
       "      <td>False</td>\n",
       "      <td>Chihuahua</td>\n",
       "      <td>0.189288</td>\n",
       "      <td>True</td>\n",
       "    </tr>\n",
       "    <tr>\n",
       "      <th>287</th>\n",
       "      <td>671154572044468225</td>\n",
       "      <td>https://pbs.twimg.com/media/CVBrhXoWIAAox_C.jpg</td>\n",
       "      <td>1</td>\n",
       "      <td>Labrador retriever</td>\n",
       "      <td>0.495047</td>\n",
       "      <td>True</td>\n",
       "      <td>Chesapeake bay retriever</td>\n",
       "      <td>0.350188</td>\n",
       "      <td>True</td>\n",
       "      <td>Golden retriever</td>\n",
       "      <td>0.142400</td>\n",
       "      <td>True</td>\n",
       "    </tr>\n",
       "  </tbody>\n",
       "</table>\n",
       "</div>"
      ],
      "text/plain": [
       "                tweet_id                                          jpg_url  \\\n",
       "1315  754874841593970688  https://pbs.twimg.com/media/CWza7kpWcAAdYLc.jpg   \n",
       "587   679062614270468097  https://pbs.twimg.com/media/CWyD2HGUYAQ1Xa7.jpg   \n",
       "1247  747600769478692864  https://pbs.twimg.com/media/CmAC7ehXEAAqSuW.jpg   \n",
       "1922  856543823941562368  https://pbs.twimg.com/media/C-MOEDCXYAEjp7o.jpg   \n",
       "287   671154572044468225  https://pbs.twimg.com/media/CVBrhXoWIAAox_C.jpg   \n",
       "\n",
       "      img_num          first_prediction  confidence_1  is_dog_1  \\\n",
       "1315        1                       Pug      0.272205      True   \n",
       "587         2              Cash machine      0.802333     False   \n",
       "1247        1  Chesapeake bay retriever      0.804363      True   \n",
       "1922        1               Boston bull      0.306910      True   \n",
       "287         1        Labrador retriever      0.495047      True   \n",
       "\n",
       "             second_prediction  confidence_2  is_dog_2    third_prediction  \\\n",
       "1315              Bull mastiff      0.251530      True          Bath towel   \n",
       "587                 Schipperke      0.045519      True     German shepherd   \n",
       "1247                Weimaraner      0.054431      True  Labrador retriever   \n",
       "1922               Siamese cat      0.191218     False           Chihuahua   \n",
       "287   Chesapeake bay retriever      0.350188      True    Golden retriever   \n",
       "\n",
       "      confidence_3  is_dog_3  \n",
       "1315      0.116806     False  \n",
       "587       0.023353      True  \n",
       "1247      0.043268      True  \n",
       "1922      0.189288      True  \n",
       "287       0.142400      True  "
      ]
     },
     "execution_count": 38,
     "metadata": {},
     "output_type": "execute_result"
    }
   ],
   "source": [
    "image_predictions_clean.sample(5)"
   ]
  },
  {
   "cell_type": "markdown",
   "metadata": {},
   "source": [
    "### Issue #3: All tables: tweet_id datatype should be string"
   ]
  },
  {
   "cell_type": "markdown",
   "metadata": {},
   "source": [
    "#### Define: Convert tweet_id on all tables from integer to string using pandas astype() function"
   ]
  },
  {
   "cell_type": "markdown",
   "metadata": {},
   "source": [
    "#### Code"
   ]
  },
  {
   "cell_type": "code",
   "execution_count": 91,
   "metadata": {},
   "outputs": [],
   "source": [
    "#Convert the tweet_id on all tables to strings\n",
    "archive_clean.tweet_id = archive_clean.tweet_id.astype('str')\n",
    "image_predictions_clean.tweet_id = image_predictions_clean.tweet_id.astype('str')\n",
    "tweets_count_clean.tweet_id = tweets_count_clean.tweet_id.astype('str')"
   ]
  },
  {
   "cell_type": "markdown",
   "metadata": {},
   "source": [
    "#### Test"
   ]
  },
  {
   "cell_type": "code",
   "execution_count": 40,
   "metadata": {},
   "outputs": [
    {
     "name": "stdout",
     "output_type": "stream",
     "text": [
      " for archive table, dtype is object\n",
      "for image_prediction table, dtype is object\n",
      "for tweets_count table, dtype is object\n"
     ]
    }
   ],
   "source": [
    "print(f' for archive table, dtype is {archive_clean.tweet_id.dtypes}\\nfor image_prediction table, dtype is {image_predictions_clean.tweet_id.dtypes}\\nfor tweets_count table, dtype is {tweets_count_clean.tweet_id.dtypes}')"
   ]
  },
  {
   "cell_type": "markdown",
   "metadata": {},
   "source": [
    "### Issue #4: Image_predictions table: Img num should be strings instead of integers"
   ]
  },
  {
   "cell_type": "markdown",
   "metadata": {},
   "source": [
    "#### Define: Convert the img_num datatype to string using pandas astype() function"
   ]
  },
  {
   "cell_type": "markdown",
   "metadata": {},
   "source": [
    "#### Code"
   ]
  },
  {
   "cell_type": "code",
   "execution_count": 41,
   "metadata": {},
   "outputs": [
    {
     "name": "stdout",
     "output_type": "stream",
     "text": [
      "<class 'pandas.core.frame.DataFrame'>\n",
      "RangeIndex: 2075 entries, 0 to 2074\n",
      "Data columns (total 12 columns):\n",
      "tweet_id             2075 non-null object\n",
      "jpg_url              2075 non-null object\n",
      "img_num              2075 non-null int64\n",
      "first_prediction     2075 non-null object\n",
      "confidence_1         2075 non-null float64\n",
      "is_dog_1             2075 non-null bool\n",
      "second_prediction    2075 non-null object\n",
      "confidence_2         2075 non-null float64\n",
      "is_dog_2             2075 non-null bool\n",
      "third_prediction     2075 non-null object\n",
      "confidence_3         2075 non-null float64\n",
      "is_dog_3             2075 non-null bool\n",
      "dtypes: bool(3), float64(3), int64(1), object(5)\n",
      "memory usage: 152.1+ KB\n"
     ]
    }
   ],
   "source": [
    "image_predictions_clean.info()"
   ]
  },
  {
   "cell_type": "code",
   "execution_count": 42,
   "metadata": {},
   "outputs": [],
   "source": [
    "image_predictions_clean.img_num = image_predictions_clean.img_num.astype('str')"
   ]
  },
  {
   "cell_type": "markdown",
   "metadata": {},
   "source": [
    "#### Test"
   ]
  },
  {
   "cell_type": "code",
   "execution_count": 43,
   "metadata": {},
   "outputs": [
    {
     "data": {
      "text/plain": [
       "dtype('O')"
      ]
     },
     "execution_count": 43,
     "metadata": {},
     "output_type": "execute_result"
    }
   ],
   "source": [
    "image_predictions_clean.img_num.dtypes"
   ]
  },
  {
   "cell_type": "markdown",
   "metadata": {},
   "source": [
    "### Issue #5: Archive table: Doggo, Floofer, Pupper and Puppo should be one column\n",
    "#### Also remove columns having more than optimal missing values"
   ]
  },
  {
   "cell_type": "markdown",
   "metadata": {},
   "source": [
    "#### Define: Use the pandas drop() function to remove the columns with lots of missing values and pandas melt() function to merge the dog stages together"
   ]
  },
  {
   "cell_type": "markdown",
   "metadata": {},
   "source": [
    "#### Code"
   ]
  },
  {
   "cell_type": "code",
   "execution_count": 65,
   "metadata": {},
   "outputs": [
    {
     "name": "stdout",
     "output_type": "stream",
     "text": [
      "<class 'pandas.core.frame.DataFrame'>\n",
      "RangeIndex: 2356 entries, 0 to 2355\n",
      "Data columns (total 17 columns):\n",
      "tweet_id                      2356 non-null int64\n",
      "in_reply_to_status_id         78 non-null float64\n",
      "in_reply_to_user_id           78 non-null float64\n",
      "timestamp                     2356 non-null object\n",
      "source                        2356 non-null object\n",
      "text                          2356 non-null object\n",
      "retweeted_status_id           181 non-null float64\n",
      "retweeted_status_user_id      181 non-null float64\n",
      "retweeted_status_timestamp    181 non-null object\n",
      "expanded_urls                 2297 non-null object\n",
      "rating_numerator              2356 non-null int64\n",
      "rating_denominator            2356 non-null int64\n",
      "name                          2356 non-null object\n",
      "doggo                         2356 non-null object\n",
      "floofer                       2356 non-null object\n",
      "pupper                        2356 non-null object\n",
      "puppo                         2356 non-null object\n",
      "dtypes: float64(4), int64(3), object(10)\n",
      "memory usage: 313.0+ KB\n"
     ]
    }
   ],
   "source": [
    "archive_clean = archive.copy()\n",
    "archive_clean.info()"
   ]
  },
  {
   "cell_type": "code",
   "execution_count": 66,
   "metadata": {},
   "outputs": [],
   "source": [
    "#First select only rows that are not retweets\n",
    "archive_clean = archive_clean[archive_clean.retweeted_status_user_id.isnull()]\n",
    "archive_clean = archive_clean[archive_clean.retweeted_status_timestamp.isnull()]\n",
    "archive_clean = archive_clean[archive_clean.retweeted_status_id.isnull()]"
   ]
  },
  {
   "cell_type": "code",
   "execution_count": 67,
   "metadata": {},
   "outputs": [],
   "source": [
    "#First, drop all the rows that we would not be using\n",
    "archive_clean = archive_clean.drop(['in_reply_to_status_id', 'in_reply_to_user_id', 'retweeted_status_id', 'retweeted_status_user_id', 'retweeted_status_timestamp'], axis = 1)"
   ]
  },
  {
   "cell_type": "code",
   "execution_count": 68,
   "metadata": {},
   "outputs": [
    {
     "name": "stdout",
     "output_type": "stream",
     "text": [
      "<class 'pandas.core.frame.DataFrame'>\n",
      "RangeIndex: 8700 entries, 0 to 8699\n",
      "Data columns (total 10 columns):\n",
      "tweet_id              8700 non-null int64\n",
      "timestamp             8700 non-null object\n",
      "source                8700 non-null object\n",
      "text                  8700 non-null object\n",
      "expanded_urls         8468 non-null object\n",
      "rating_numerator      8700 non-null int64\n",
      "rating_denominator    8700 non-null int64\n",
      "name                  8700 non-null object\n",
      "dog_stages            8700 non-null object\n",
      "stage                 8700 non-null object\n",
      "dtypes: int64(3), object(7)\n",
      "memory usage: 679.8+ KB\n"
     ]
    }
   ],
   "source": [
    "#Use the melted function to merge four columns into one\n",
    "archive_clean = pd.melt(archive_clean, id_vars=['tweet_id', 'timestamp', 'source', 'text', 'expanded_urls', 'rating_numerator', 'rating_denominator',\n",
    "                                  'name'], var_name = 'dog_stages', value_name=\"stage\")\n",
    "archive_clean.info()"
   ]
  },
  {
   "cell_type": "code",
   "execution_count": 69,
   "metadata": {},
   "outputs": [
    {
     "data": {
      "text/html": [
       "<div>\n",
       "<style scoped>\n",
       "    .dataframe tbody tr th:only-of-type {\n",
       "        vertical-align: middle;\n",
       "    }\n",
       "\n",
       "    .dataframe tbody tr th {\n",
       "        vertical-align: top;\n",
       "    }\n",
       "\n",
       "    .dataframe thead th {\n",
       "        text-align: right;\n",
       "    }\n",
       "</style>\n",
       "<table border=\"1\" class=\"dataframe\">\n",
       "  <thead>\n",
       "    <tr style=\"text-align: right;\">\n",
       "      <th></th>\n",
       "      <th>tweet_id</th>\n",
       "      <th>timestamp</th>\n",
       "      <th>source</th>\n",
       "      <th>text</th>\n",
       "      <th>expanded_urls</th>\n",
       "      <th>rating_numerator</th>\n",
       "      <th>rating_denominator</th>\n",
       "      <th>name</th>\n",
       "      <th>dog_stages</th>\n",
       "      <th>stage</th>\n",
       "    </tr>\n",
       "  </thead>\n",
       "  <tbody>\n",
       "    <tr>\n",
       "      <th>0</th>\n",
       "      <td>892420643555336193</td>\n",
       "      <td>2017-08-01 16:23:56 +0000</td>\n",
       "      <td>&lt;a href=\"http://twitter.com/download/iphone\" r...</td>\n",
       "      <td>This is Phineas. He's a mystical boy. Only eve...</td>\n",
       "      <td>https://twitter.com/dog_rates/status/892420643...</td>\n",
       "      <td>13</td>\n",
       "      <td>10</td>\n",
       "      <td>Phineas</td>\n",
       "      <td>doggo</td>\n",
       "      <td>None</td>\n",
       "    </tr>\n",
       "    <tr>\n",
       "      <th>5790</th>\n",
       "      <td>684959798585110529</td>\n",
       "      <td>2016-01-07 04:48:36 +0000</td>\n",
       "      <td>&lt;a href=\"http://twitter.com/download/iphone\" r...</td>\n",
       "      <td>This is Jerry. He's a neat dog. No legs (tragi...</td>\n",
       "      <td>https://twitter.com/dog_rates/status/684959798...</td>\n",
       "      <td>5</td>\n",
       "      <td>10</td>\n",
       "      <td>Jerry</td>\n",
       "      <td>pupper</td>\n",
       "      <td>None</td>\n",
       "    </tr>\n",
       "    <tr>\n",
       "      <th>5789</th>\n",
       "      <td>684969860808454144</td>\n",
       "      <td>2016-01-07 05:28:35 +0000</td>\n",
       "      <td>&lt;a href=\"http://twitter.com/download/iphone\" r...</td>\n",
       "      <td>For those who claim this is a goat, u are wron...</td>\n",
       "      <td>NaN</td>\n",
       "      <td>5</td>\n",
       "      <td>10</td>\n",
       "      <td>None</td>\n",
       "      <td>pupper</td>\n",
       "      <td>None</td>\n",
       "    </tr>\n",
       "    <tr>\n",
       "      <th>5787</th>\n",
       "      <td>685198997565345792</td>\n",
       "      <td>2016-01-07 20:39:06 +0000</td>\n",
       "      <td>&lt;a href=\"http://twitter.com/download/iphone\" r...</td>\n",
       "      <td>This is Alfie. That is his time machine. He's ...</td>\n",
       "      <td>https://twitter.com/dog_rates/status/685198997...</td>\n",
       "      <td>11</td>\n",
       "      <td>10</td>\n",
       "      <td>Alfie</td>\n",
       "      <td>pupper</td>\n",
       "      <td>None</td>\n",
       "    </tr>\n",
       "    <tr>\n",
       "      <th>5785</th>\n",
       "      <td>685307451701334016</td>\n",
       "      <td>2016-01-08 03:50:03 +0000</td>\n",
       "      <td>&lt;a href=\"http://twitter.com/download/iphone\" r...</td>\n",
       "      <td>Say hello to Petrick. He's an Altostratus Floo...</td>\n",
       "      <td>https://twitter.com/dog_rates/status/685307451...</td>\n",
       "      <td>11</td>\n",
       "      <td>10</td>\n",
       "      <td>Petrick</td>\n",
       "      <td>pupper</td>\n",
       "      <td>None</td>\n",
       "    </tr>\n",
       "  </tbody>\n",
       "</table>\n",
       "</div>"
      ],
      "text/plain": [
       "                tweet_id                  timestamp  \\\n",
       "0     892420643555336193  2017-08-01 16:23:56 +0000   \n",
       "5790  684959798585110529  2016-01-07 04:48:36 +0000   \n",
       "5789  684969860808454144  2016-01-07 05:28:35 +0000   \n",
       "5787  685198997565345792  2016-01-07 20:39:06 +0000   \n",
       "5785  685307451701334016  2016-01-08 03:50:03 +0000   \n",
       "\n",
       "                                                 source  \\\n",
       "0     <a href=\"http://twitter.com/download/iphone\" r...   \n",
       "5790  <a href=\"http://twitter.com/download/iphone\" r...   \n",
       "5789  <a href=\"http://twitter.com/download/iphone\" r...   \n",
       "5787  <a href=\"http://twitter.com/download/iphone\" r...   \n",
       "5785  <a href=\"http://twitter.com/download/iphone\" r...   \n",
       "\n",
       "                                                   text  \\\n",
       "0     This is Phineas. He's a mystical boy. Only eve...   \n",
       "5790  This is Jerry. He's a neat dog. No legs (tragi...   \n",
       "5789  For those who claim this is a goat, u are wron...   \n",
       "5787  This is Alfie. That is his time machine. He's ...   \n",
       "5785  Say hello to Petrick. He's an Altostratus Floo...   \n",
       "\n",
       "                                          expanded_urls  rating_numerator  \\\n",
       "0     https://twitter.com/dog_rates/status/892420643...                13   \n",
       "5790  https://twitter.com/dog_rates/status/684959798...                 5   \n",
       "5789                                                NaN                 5   \n",
       "5787  https://twitter.com/dog_rates/status/685198997...                11   \n",
       "5785  https://twitter.com/dog_rates/status/685307451...                11   \n",
       "\n",
       "      rating_denominator     name dog_stages stage  \n",
       "0                     10  Phineas      doggo  None  \n",
       "5790                  10    Jerry     pupper  None  \n",
       "5789                  10     None     pupper  None  \n",
       "5787                  10    Alfie     pupper  None  \n",
       "5785                  10  Petrick     pupper  None  "
      ]
     },
     "execution_count": 69,
     "metadata": {},
     "output_type": "execute_result"
    }
   ],
   "source": [
    "archive_clean.sort_values('stage').head()"
   ]
  },
  {
   "cell_type": "code",
   "execution_count": 70,
   "metadata": {},
   "outputs": [],
   "source": [
    "#It looks like there are lots of duplicates. Remove the duplicates\n",
    "archive_clean = archive_clean.sort_values('stage').drop_duplicates('tweet_id', keep ='last')"
   ]
  },
  {
   "cell_type": "code",
   "execution_count": 71,
   "metadata": {},
   "outputs": [
    {
     "data": {
      "text/html": [
       "<div>\n",
       "<style scoped>\n",
       "    .dataframe tbody tr th:only-of-type {\n",
       "        vertical-align: middle;\n",
       "    }\n",
       "\n",
       "    .dataframe tbody tr th {\n",
       "        vertical-align: top;\n",
       "    }\n",
       "\n",
       "    .dataframe thead th {\n",
       "        text-align: right;\n",
       "    }\n",
       "</style>\n",
       "<table border=\"1\" class=\"dataframe\">\n",
       "  <thead>\n",
       "    <tr style=\"text-align: right;\">\n",
       "      <th></th>\n",
       "      <th>tweet_id</th>\n",
       "      <th>timestamp</th>\n",
       "      <th>source</th>\n",
       "      <th>text</th>\n",
       "      <th>expanded_urls</th>\n",
       "      <th>rating_numerator</th>\n",
       "      <th>rating_denominator</th>\n",
       "      <th>name</th>\n",
       "      <th>dog_stages</th>\n",
       "      <th>stage</th>\n",
       "    </tr>\n",
       "  </thead>\n",
       "  <tbody>\n",
       "    <tr>\n",
       "      <th>4038</th>\n",
       "      <td>671538301157904385</td>\n",
       "      <td>2015-12-01 03:56:22 +0000</td>\n",
       "      <td>&lt;a href=\"http://twitter.com/download/iphone\" r...</td>\n",
       "      <td>This is Baxter. He's very calm. Hasn't eaten i...</td>\n",
       "      <td>https://twitter.com/dog_rates/status/671538301...</td>\n",
       "      <td>8</td>\n",
       "      <td>10</td>\n",
       "      <td>Baxter</td>\n",
       "      <td>floofer</td>\n",
       "      <td>None</td>\n",
       "    </tr>\n",
       "  </tbody>\n",
       "</table>\n",
       "</div>"
      ],
      "text/plain": [
       "                tweet_id                  timestamp  \\\n",
       "4038  671538301157904385  2015-12-01 03:56:22 +0000   \n",
       "\n",
       "                                                 source  \\\n",
       "4038  <a href=\"http://twitter.com/download/iphone\" r...   \n",
       "\n",
       "                                                   text  \\\n",
       "4038  This is Baxter. He's very calm. Hasn't eaten i...   \n",
       "\n",
       "                                          expanded_urls  rating_numerator  \\\n",
       "4038  https://twitter.com/dog_rates/status/671538301...                 8   \n",
       "\n",
       "      rating_denominator    name dog_stages stage  \n",
       "4038                  10  Baxter    floofer  None  "
      ]
     },
     "execution_count": 71,
     "metadata": {},
     "output_type": "execute_result"
    }
   ],
   "source": [
    "archive_clean.sample()"
   ]
  },
  {
   "cell_type": "markdown",
   "metadata": {},
   "source": [
    "#### Test"
   ]
  },
  {
   "cell_type": "code",
   "execution_count": 72,
   "metadata": {},
   "outputs": [
    {
     "data": {
      "text/plain": [
       "floofer    1633\n",
       "doggo       282\n",
       "pupper      234\n",
       "puppo        26\n",
       "Name: dog_stages, dtype: int64"
      ]
     },
     "execution_count": 72,
     "metadata": {},
     "output_type": "execute_result"
    }
   ],
   "source": [
    "archive_clean.dog_stages.value_counts()"
   ]
  },
  {
   "cell_type": "markdown",
   "metadata": {},
   "source": [
    "### Issue #6: Archive table: Denominator values that are equal to zero"
   ]
  },
  {
   "cell_type": "markdown",
   "metadata": {},
   "source": [
    "#### Define: Replace the zero denominator value with the mode value"
   ]
  },
  {
   "cell_type": "markdown",
   "metadata": {},
   "source": [
    "#### Code"
   ]
  },
  {
   "cell_type": "code",
   "execution_count": 73,
   "metadata": {},
   "outputs": [
    {
     "data": {
      "text/plain": [
       "10     2153\n",
       "50        3\n",
       "80        2\n",
       "11        2\n",
       "20        2\n",
       "2         1\n",
       "16        1\n",
       "40        1\n",
       "70        1\n",
       "15        1\n",
       "90        1\n",
       "110       1\n",
       "120       1\n",
       "130       1\n",
       "150       1\n",
       "170       1\n",
       "7         1\n",
       "0         1\n",
       "Name: rating_denominator, dtype: int64"
      ]
     },
     "execution_count": 73,
     "metadata": {},
     "output_type": "execute_result"
    }
   ],
   "source": [
    "#Find the mode denominator\n",
    "archive_clean.rating_denominator.value_counts()"
   ]
  },
  {
   "cell_type": "code",
   "execution_count": 74,
   "metadata": {},
   "outputs": [
    {
     "data": {
      "text/html": [
       "<div>\n",
       "<style scoped>\n",
       "    .dataframe tbody tr th:only-of-type {\n",
       "        vertical-align: middle;\n",
       "    }\n",
       "\n",
       "    .dataframe tbody tr th {\n",
       "        vertical-align: top;\n",
       "    }\n",
       "\n",
       "    .dataframe thead th {\n",
       "        text-align: right;\n",
       "    }\n",
       "</style>\n",
       "<table border=\"1\" class=\"dataframe\">\n",
       "  <thead>\n",
       "    <tr style=\"text-align: right;\">\n",
       "      <th></th>\n",
       "      <th>tweet_id</th>\n",
       "      <th>timestamp</th>\n",
       "      <th>source</th>\n",
       "      <th>text</th>\n",
       "      <th>expanded_urls</th>\n",
       "      <th>rating_numerator</th>\n",
       "      <th>rating_denominator</th>\n",
       "      <th>name</th>\n",
       "      <th>dog_stages</th>\n",
       "      <th>stage</th>\n",
       "    </tr>\n",
       "  </thead>\n",
       "  <tbody>\n",
       "    <tr>\n",
       "      <th>2438</th>\n",
       "      <td>835246439529840640</td>\n",
       "      <td>2017-02-24 21:54:03 +0000</td>\n",
       "      <td>&lt;a href=\"http://twitter.com/download/iphone\" r...</td>\n",
       "      <td>@jonnysun @Lin_Manuel ok jomny I know you're e...</td>\n",
       "      <td>NaN</td>\n",
       "      <td>960</td>\n",
       "      <td>0</td>\n",
       "      <td>None</td>\n",
       "      <td>floofer</td>\n",
       "      <td>None</td>\n",
       "    </tr>\n",
       "  </tbody>\n",
       "</table>\n",
       "</div>"
      ],
      "text/plain": [
       "                tweet_id                  timestamp  \\\n",
       "2438  835246439529840640  2017-02-24 21:54:03 +0000   \n",
       "\n",
       "                                                 source  \\\n",
       "2438  <a href=\"http://twitter.com/download/iphone\" r...   \n",
       "\n",
       "                                                   text expanded_urls  \\\n",
       "2438  @jonnysun @Lin_Manuel ok jomny I know you're e...           NaN   \n",
       "\n",
       "      rating_numerator  rating_denominator  name dog_stages stage  \n",
       "2438               960                   0  None    floofer  None  "
      ]
     },
     "execution_count": 74,
     "metadata": {},
     "output_type": "execute_result"
    }
   ],
   "source": [
    "archive_clean[archive_clean.rating_denominator == 0]"
   ]
  },
  {
   "cell_type": "code",
   "execution_count": 75,
   "metadata": {},
   "outputs": [],
   "source": [
    "archive_clean.rating_denominator = archive_clean.rating_denominator.replace(0, 10)"
   ]
  },
  {
   "cell_type": "markdown",
   "metadata": {},
   "source": [
    "#### Test"
   ]
  },
  {
   "cell_type": "code",
   "execution_count": 76,
   "metadata": {},
   "outputs": [
    {
     "data": {
      "text/html": [
       "<div>\n",
       "<style scoped>\n",
       "    .dataframe tbody tr th:only-of-type {\n",
       "        vertical-align: middle;\n",
       "    }\n",
       "\n",
       "    .dataframe tbody tr th {\n",
       "        vertical-align: top;\n",
       "    }\n",
       "\n",
       "    .dataframe thead th {\n",
       "        text-align: right;\n",
       "    }\n",
       "</style>\n",
       "<table border=\"1\" class=\"dataframe\">\n",
       "  <thead>\n",
       "    <tr style=\"text-align: right;\">\n",
       "      <th></th>\n",
       "      <th>tweet_id</th>\n",
       "      <th>timestamp</th>\n",
       "      <th>source</th>\n",
       "      <th>text</th>\n",
       "      <th>expanded_urls</th>\n",
       "      <th>rating_numerator</th>\n",
       "      <th>rating_denominator</th>\n",
       "      <th>name</th>\n",
       "      <th>dog_stages</th>\n",
       "      <th>stage</th>\n",
       "    </tr>\n",
       "  </thead>\n",
       "  <tbody>\n",
       "  </tbody>\n",
       "</table>\n",
       "</div>"
      ],
      "text/plain": [
       "Empty DataFrame\n",
       "Columns: [tweet_id, timestamp, source, text, expanded_urls, rating_numerator, rating_denominator, name, dog_stages, stage]\n",
       "Index: []"
      ]
     },
     "execution_count": 76,
     "metadata": {},
     "output_type": "execute_result"
    }
   ],
   "source": [
    "archive_clean[archive_clean.rating_denominator == 0]"
   ]
  },
  {
   "cell_type": "markdown",
   "metadata": {},
   "source": [
    "### Issue #7: Archive table: Carry out some cleaning to find the source of the tweet"
   ]
  },
  {
   "cell_type": "markdown",
   "metadata": {},
   "source": [
    "#### Define: Use the extract function with regular expressions to extract the source of the tweet"
   ]
  },
  {
   "cell_type": "markdown",
   "metadata": {},
   "source": [
    "#### Code"
   ]
  },
  {
   "cell_type": "code",
   "execution_count": 77,
   "metadata": {},
   "outputs": [
    {
     "data": {
      "text/plain": [
       "'<a href=\"http://twitter.com/download/iphone\" rel=\"nofollow\">Twitter for iPhone</a>'"
      ]
     },
     "execution_count": 77,
     "metadata": {},
     "output_type": "execute_result"
    }
   ],
   "source": [
    "#View the full length of the field content\n",
    "archive_clean.source[1]"
   ]
  },
  {
   "cell_type": "code",
   "execution_count": 78,
   "metadata": {},
   "outputs": [],
   "source": [
    "archive_clean['phone'] = archive_clean.source.str.extract(r'>(.+)<')"
   ]
  },
  {
   "cell_type": "markdown",
   "metadata": {},
   "source": [
    "#### Test"
   ]
  },
  {
   "cell_type": "code",
   "execution_count": 79,
   "metadata": {},
   "outputs": [
    {
     "data": {
      "text/plain": [
       "2690    Twitter for iPhone\n",
       "3499    Twitter for iPhone\n",
       "2687    Twitter for iPhone\n",
       "2114    Twitter for iPhone\n",
       "3385    Twitter for iPhone\n",
       "Name: phone, dtype: object"
      ]
     },
     "execution_count": 79,
     "metadata": {},
     "output_type": "execute_result"
    }
   ],
   "source": [
    "archive_clean['phone'].sample(5)"
   ]
  },
  {
   "cell_type": "markdown",
   "metadata": {},
   "source": [
    "### Issue #8: Combine the tables and remove unnecessary columns"
   ]
  },
  {
   "cell_type": "markdown",
   "metadata": {},
   "source": [
    "#### Define: Convert the None to NaN in the Stage column and Use the pandas merge() function to combine the tables with the tweet_id"
   ]
  },
  {
   "cell_type": "markdown",
   "metadata": {},
   "source": [
    "#### Code"
   ]
  },
  {
   "cell_type": "code",
   "execution_count": 87,
   "metadata": {},
   "outputs": [],
   "source": [
    "#Firstly, convert the None to NaN\n",
    "archive_clean.stage = archive_clean.stage.replace('None', np.NaN)"
   ]
  },
  {
   "cell_type": "code",
   "execution_count": 88,
   "metadata": {},
   "outputs": [],
   "source": [
    "archive_clean.stage = archive_clean.stage.replace(\"\", np.NaN)"
   ]
  },
  {
   "cell_type": "code",
   "execution_count": 89,
   "metadata": {},
   "outputs": [
    {
     "data": {
      "text/plain": [
       "pupper     234\n",
       "doggo       75\n",
       "puppo       25\n",
       "floofer     10\n",
       "Name: stage, dtype: int64"
      ]
     },
     "execution_count": 89,
     "metadata": {},
     "output_type": "execute_result"
    }
   ],
   "source": [
    "archive_clean.stage.value_counts()"
   ]
  },
  {
   "cell_type": "code",
   "execution_count": 92,
   "metadata": {},
   "outputs": [],
   "source": [
    "combi = pd.merge(pd.merge(archive_clean, image_predictions_clean, on='tweet_id', how='left'), tweets_count_clean, on='tweet_id', how='left')"
   ]
  },
  {
   "cell_type": "code",
   "execution_count": 93,
   "metadata": {},
   "outputs": [
    {
     "name": "stdout",
     "output_type": "stream",
     "text": [
      "<class 'pandas.core.frame.DataFrame'>\n",
      "Int64Index: 2175 entries, 0 to 2174\n",
      "Data columns (total 24 columns):\n",
      "tweet_id              2175 non-null object\n",
      "timestamp             2175 non-null object\n",
      "source                2175 non-null object\n",
      "text                  2175 non-null object\n",
      "expanded_urls         2117 non-null object\n",
      "rating_numerator      2175 non-null int64\n",
      "rating_denominator    2175 non-null int64\n",
      "name                  2175 non-null object\n",
      "dog_stages            2175 non-null object\n",
      "stage                 344 non-null object\n",
      "phone                 2175 non-null object\n",
      "jpg_url               1994 non-null object\n",
      "img_num               1994 non-null object\n",
      "first_prediction      1994 non-null object\n",
      "confidence_1          1994 non-null float64\n",
      "is_dog_1              1994 non-null object\n",
      "second_prediction     1994 non-null object\n",
      "confidence_2          1994 non-null float64\n",
      "is_dog_2              1994 non-null object\n",
      "third_prediction      1994 non-null object\n",
      "confidence_3          1994 non-null float64\n",
      "is_dog_3              1994 non-null object\n",
      "retweets              2167 non-null float64\n",
      "likes                 2167 non-null float64\n",
      "dtypes: float64(5), int64(2), object(17)\n",
      "memory usage: 424.8+ KB\n"
     ]
    }
   ],
   "source": [
    "combi.info()"
   ]
  },
  {
   "cell_type": "code",
   "execution_count": 94,
   "metadata": {},
   "outputs": [
    {
     "data": {
      "text/plain": [
       "11"
      ]
     },
     "execution_count": 94,
     "metadata": {},
     "output_type": "execute_result"
    }
   ],
   "source": [
    "combi.rating_numerator[1]"
   ]
  },
  {
   "cell_type": "code",
   "execution_count": 95,
   "metadata": {},
   "outputs": [],
   "source": [
    "combi = combi.drop(['source', 'expanded_urls', 'img_num', 'jpg_url'], axis=1)"
   ]
  },
  {
   "cell_type": "code",
   "execution_count": 96,
   "metadata": {},
   "outputs": [
    {
     "data": {
      "text/html": [
       "<div>\n",
       "<style scoped>\n",
       "    .dataframe tbody tr th:only-of-type {\n",
       "        vertical-align: middle;\n",
       "    }\n",
       "\n",
       "    .dataframe tbody tr th {\n",
       "        vertical-align: top;\n",
       "    }\n",
       "\n",
       "    .dataframe thead th {\n",
       "        text-align: right;\n",
       "    }\n",
       "</style>\n",
       "<table border=\"1\" class=\"dataframe\">\n",
       "  <thead>\n",
       "    <tr style=\"text-align: right;\">\n",
       "      <th></th>\n",
       "      <th>tweet_id</th>\n",
       "      <th>timestamp</th>\n",
       "      <th>text</th>\n",
       "      <th>rating_numerator</th>\n",
       "      <th>rating_denominator</th>\n",
       "      <th>name</th>\n",
       "      <th>dog_stages</th>\n",
       "      <th>stage</th>\n",
       "      <th>phone</th>\n",
       "      <th>first_prediction</th>\n",
       "      <th>confidence_1</th>\n",
       "      <th>is_dog_1</th>\n",
       "      <th>second_prediction</th>\n",
       "      <th>confidence_2</th>\n",
       "      <th>is_dog_2</th>\n",
       "      <th>third_prediction</th>\n",
       "      <th>confidence_3</th>\n",
       "      <th>is_dog_3</th>\n",
       "      <th>retweets</th>\n",
       "      <th>likes</th>\n",
       "    </tr>\n",
       "  </thead>\n",
       "  <tbody>\n",
       "    <tr>\n",
       "      <th>1373</th>\n",
       "      <td>846042936437604353</td>\n",
       "      <td>2017-03-26 16:55:29 +0000</td>\n",
       "      <td>Meet Jarvis. The snow pupsets him. Officially ...</td>\n",
       "      <td>12</td>\n",
       "      <td>10</td>\n",
       "      <td>Jarvis</td>\n",
       "      <td>floofer</td>\n",
       "      <td>NaN</td>\n",
       "      <td>Twitter for iPhone</td>\n",
       "      <td>Golden retriever</td>\n",
       "      <td>0.96111</td>\n",
       "      <td>True</td>\n",
       "      <td>Labrador retriever</td>\n",
       "      <td>0.016695</td>\n",
       "      <td>True</td>\n",
       "      <td>Tibetan mastiff</td>\n",
       "      <td>0.009082</td>\n",
       "      <td>True</td>\n",
       "      <td>2593.0</td>\n",
       "      <td>14834.0</td>\n",
       "    </tr>\n",
       "  </tbody>\n",
       "</table>\n",
       "</div>"
      ],
      "text/plain": [
       "                tweet_id                  timestamp  \\\n",
       "1373  846042936437604353  2017-03-26 16:55:29 +0000   \n",
       "\n",
       "                                                   text  rating_numerator  \\\n",
       "1373  Meet Jarvis. The snow pupsets him. Officially ...                12   \n",
       "\n",
       "      rating_denominator    name dog_stages stage               phone  \\\n",
       "1373                  10  Jarvis    floofer   NaN  Twitter for iPhone   \n",
       "\n",
       "      first_prediction  confidence_1 is_dog_1   second_prediction  \\\n",
       "1373  Golden retriever       0.96111     True  Labrador retriever   \n",
       "\n",
       "      confidence_2 is_dog_2 third_prediction  confidence_3 is_dog_3  retweets  \\\n",
       "1373      0.016695     True  Tibetan mastiff      0.009082     True    2593.0   \n",
       "\n",
       "        likes  \n",
       "1373  14834.0  "
      ]
     },
     "execution_count": 96,
     "metadata": {},
     "output_type": "execute_result"
    }
   ],
   "source": [
    "combi.sample()"
   ]
  },
  {
   "cell_type": "markdown",
   "metadata": {},
   "source": [
    "## Storing Data\n",
    "<a id=\"store\"></a>\n",
    "Save gathered, assessed, and cleaned master dataset to a CSV file named \"twitter_archive_master.csv\"."
   ]
  },
  {
   "cell_type": "code",
   "execution_count": 97,
   "metadata": {},
   "outputs": [],
   "source": [
    "combi.to_csv('twitter_archive_master.csv', index=False, encoding='utf-8')"
   ]
  },
  {
   "cell_type": "markdown",
   "metadata": {},
   "source": [
    "## Analyzing and Visualizing Data\n",
    "<a id=\"analyze\"></a>\n",
    "In this section, analyze and visualize your wrangled data. You must produce at least **three (3) insights and one (1) visualization.**"
   ]
  },
  {
   "cell_type": "code",
   "execution_count": 98,
   "metadata": {},
   "outputs": [
    {
     "data": {
      "text/plain": [
       "Twitter for iPhone     2042\n",
       "Vine - Make a Scene      91\n",
       "Twitter Web Client       31\n",
       "TweetDeck                11\n",
       "Name: phone, dtype: int64"
      ]
     },
     "execution_count": 98,
     "metadata": {},
     "output_type": "execute_result"
    }
   ],
   "source": [
    "combi.phone.value_counts()"
   ]
  },
  {
   "cell_type": "code",
   "execution_count": 99,
   "metadata": {},
   "outputs": [
    {
     "data": {
      "text/plain": [
       "pupper     234\n",
       "doggo       75\n",
       "puppo       25\n",
       "floofer     10\n",
       "Name: stage, dtype: int64"
      ]
     },
     "execution_count": 99,
     "metadata": {},
     "output_type": "execute_result"
    }
   ],
   "source": [
    "combi.stage.value_counts()"
   ]
  },
  {
   "cell_type": "code",
   "execution_count": 100,
   "metadata": {},
   "outputs": [],
   "source": [
    "top_10_dogs = combi.first_prediction.value_counts().head(10)"
   ]
  },
  {
   "cell_type": "code",
   "execution_count": 101,
   "metadata": {},
   "outputs": [
    {
     "data": {
      "text/plain": [
       "Labrador retriever          96\n",
       "Golden retriever            82\n",
       "Cardigan                    73\n",
       "Chihuahua                   43\n",
       "Chesapeake bay retriever    40\n",
       "French bulldog              39\n",
       "Pomeranian                  39\n",
       "Toy poodle                  36\n",
       "Siberian husky              33\n",
       "Cocker spaniel              32\n",
       "Name: second_prediction, dtype: int64"
      ]
     },
     "execution_count": 101,
     "metadata": {},
     "output_type": "execute_result"
    }
   ],
   "source": [
    "combi.second_prediction.value_counts().head(10)"
   ]
  },
  {
   "cell_type": "code",
   "execution_count": 102,
   "metadata": {},
   "outputs": [
    {
     "data": {
      "text/html": [
       "<div>\n",
       "<style scoped>\n",
       "    .dataframe tbody tr th:only-of-type {\n",
       "        vertical-align: middle;\n",
       "    }\n",
       "\n",
       "    .dataframe tbody tr th {\n",
       "        vertical-align: top;\n",
       "    }\n",
       "\n",
       "    .dataframe thead th {\n",
       "        text-align: right;\n",
       "    }\n",
       "</style>\n",
       "<table border=\"1\" class=\"dataframe\">\n",
       "  <thead>\n",
       "    <tr style=\"text-align: right;\">\n",
       "      <th></th>\n",
       "      <th>tweet_id</th>\n",
       "      <th>timestamp</th>\n",
       "      <th>text</th>\n",
       "      <th>rating_numerator</th>\n",
       "      <th>rating_denominator</th>\n",
       "      <th>name</th>\n",
       "      <th>dog_stages</th>\n",
       "      <th>stage</th>\n",
       "      <th>phone</th>\n",
       "      <th>first_prediction</th>\n",
       "      <th>confidence_1</th>\n",
       "      <th>is_dog_1</th>\n",
       "      <th>second_prediction</th>\n",
       "      <th>confidence_2</th>\n",
       "      <th>is_dog_2</th>\n",
       "      <th>third_prediction</th>\n",
       "      <th>confidence_3</th>\n",
       "      <th>is_dog_3</th>\n",
       "      <th>retweets</th>\n",
       "      <th>likes</th>\n",
       "    </tr>\n",
       "  </thead>\n",
       "  <tbody>\n",
       "    <tr>\n",
       "      <th>1876</th>\n",
       "      <td>744234799360020481</td>\n",
       "      <td>2016-06-18 18:26:18 +0000</td>\n",
       "      <td>Here's a doggo realizing you can stand in a po...</td>\n",
       "      <td>13</td>\n",
       "      <td>10</td>\n",
       "      <td>None</td>\n",
       "      <td>doggo</td>\n",
       "      <td>doggo</td>\n",
       "      <td>Twitter for iPhone</td>\n",
       "      <td>Labrador retriever</td>\n",
       "      <td>0.825333</td>\n",
       "      <td>True</td>\n",
       "      <td>Ice bear</td>\n",
       "      <td>0.044681</td>\n",
       "      <td>False</td>\n",
       "      <td>Whippet</td>\n",
       "      <td>0.018442</td>\n",
       "      <td>True</td>\n",
       "      <td>70733.0</td>\n",
       "      <td>144877.0</td>\n",
       "    </tr>\n",
       "  </tbody>\n",
       "</table>\n",
       "</div>"
      ],
      "text/plain": [
       "                tweet_id                  timestamp  \\\n",
       "1876  744234799360020481  2016-06-18 18:26:18 +0000   \n",
       "\n",
       "                                                   text  rating_numerator  \\\n",
       "1876  Here's a doggo realizing you can stand in a po...                13   \n",
       "\n",
       "      rating_denominator  name dog_stages  stage               phone  \\\n",
       "1876                  10  None      doggo  doggo  Twitter for iPhone   \n",
       "\n",
       "        first_prediction  confidence_1 is_dog_1 second_prediction  \\\n",
       "1876  Labrador retriever      0.825333     True          Ice bear   \n",
       "\n",
       "      confidence_2 is_dog_2 third_prediction  confidence_3 is_dog_3  retweets  \\\n",
       "1876      0.044681    False          Whippet      0.018442     True   70733.0   \n",
       "\n",
       "         likes  \n",
       "1876  144877.0  "
      ]
     },
     "execution_count": 102,
     "metadata": {},
     "output_type": "execute_result"
    }
   ],
   "source": [
    "combi[combi.likes == combi.likes.max()]"
   ]
  },
  {
   "cell_type": "code",
   "execution_count": 103,
   "metadata": {},
   "outputs": [
    {
     "name": "stdout",
     "output_type": "stream",
     "text": [
      "The maximum retweets is \u001b[1m70733.0\u001b[0m and the maximum number of likes is \u001b[1m144877.0\u001b[0m\n"
     ]
    }
   ],
   "source": [
    "#Get the values for the maximum retweets and likes\n",
    "print(f'The maximum retweets is \\033[1m{combi.retweets.max()}\\033[0m and the maximum number of likes is \\033[1m{combi.likes.max()}\\033[0m')"
   ]
  },
  {
   "cell_type": "markdown",
   "metadata": {},
   "source": [
    "### Insights:\n",
    "1. The most popular dogs, according to first and second predictions are the Golden Retriever and the Labrador Retriever\n",
    "\n",
    "2. The maximum retweets and maximum likes were given to the tweet with tweet ID: 744234799360020481\n",
    "\n",
    "3. Twitter for iPhone is by far the most common source of tweets"
   ]
  },
  {
   "cell_type": "markdown",
   "metadata": {
    "collapsed": true
   },
   "source": [
    "### Visualization"
   ]
  },
  {
   "cell_type": "code",
   "execution_count": 104,
   "metadata": {},
   "outputs": [
    {
     "data": {
      "text/plain": [
       "Text(0,0.5,'Dog breeds')"
      ]
     },
     "execution_count": 104,
     "metadata": {},
     "output_type": "execute_result"
    },
    {
     "data": {
      "image/png": "[encoded data removed]",
      "text/plain": [
       "<matplotlib.figure.Figure at 0x7fdbab948978>"
      ]
     },
     "metadata": {
      "needs_background": "light"
     },
     "output_type": "display_data"
    }
   ],
   "source": [
    "top_10_dogs.plot(kind=\"barh\")\n",
    "plt.title(\"Most Popular Dogs (according to first prediction)\")\n",
    "plt.xlabel(\"Number of predictions\")\n",
    "plt.ylabel(\"Dog breeds\")"
   ]
  },
  {
   "cell_type": "code",
   "execution_count": null,
   "metadata": {},
   "outputs": [],
   "source": []
  }
 ],
 "metadata": {
  "extensions": {
   "jupyter_dashboards": {
    "activeView": "report_default",
    "version": 1,
    "views": {
     "grid_default": {
      "cellMargin": 10,
      "defaultCellHeight": 20,
      "maxColumns": 12,
      "name": "grid",
      "type": "grid"
     },
     "report_default": {
      "name": "report",
      "type": "report"
     }
    }
   }
  },
  "kernelspec": {
   "display_name": "Python 3",
   "language": "python",
   "name": "python3"
  },
  "language_info": {
   "codemirror_mode": {
    "name": "ipython",
    "version": 3
   },
   "file_extension": ".py",
   "mimetype": "text/x-python",
   "name": "python",
   "nbconvert_exporter": "python",
   "pygments_lexer": "ipython3",
   "version": "3.6.3"
  }
 },
 "nbformat": 4,
 "nbformat_minor": 2
}
