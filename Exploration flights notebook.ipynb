{
 "cells": [
  {
   "cell_type": "code",
   "execution_count": 1,
   "metadata": {},
   "outputs": [],
   "source": [
    "# import libraries\n",
    "import pandas as pd\n",
    "import numpy as np\n",
    "import matplotlib.pyplot as plt\n",
    "import seaborn as sb\n",
    "\n",
    "%matplotlib inline"
   ]
  },
  {
   "cell_type": "code",
   "execution_count": 2,
   "metadata": {},
   "outputs": [],
   "source": [
    "#read data\n",
    "df = pd.read_csv('flights2017-2020 Dataset')\n"
   ]
  },
  {
   "cell_type": "code",
   "execution_count": 3,
   "metadata": {},
   "outputs": [
    {
     "name": "stdout",
     "output_type": "stream",
     "text": [
      "Shape of flights data is:\n",
      " (60587, 22)\n",
      "\n",
      "\n",
      "Type of each feature is:\n",
      " year                     int64\n",
      " month                   int64\n",
      "carrier                 object\n",
      "carrier_name            object\n",
      "airport                 object\n",
      "airport_name            object\n",
      "arr_flights            float64\n",
      "arr_del15              float64\n",
      "carrier_ct             float64\n",
      " weather_ct            float64\n",
      "nas_ct                 float64\n",
      "security_ct            float64\n",
      "late_aircraft_ct       float64\n",
      "arr_cancelled          float64\n",
      "arr_diverted           float64\n",
      " arr_delay             float64\n",
      " carrier_delay         float64\n",
      "weather_delay          float64\n",
      "nas_delay              float64\n",
      "security_delay         float64\n",
      "late_aircraft_delay    float64\n",
      "Unnamed: 21            float64\n",
      "dtype: object\n",
      "\n",
      "\n",
      "Glimpse on a data    year   month carrier carrier_name airport  \\\n",
      "0  2019       1      MQ    Envoy Air     SAV   \n",
      "1  2019       1      MQ    Envoy Air     SDF   \n",
      "2  2019       1      MQ    Envoy Air     SGF   \n",
      "3  2019       1      MQ    Envoy Air     SHV   \n",
      "4  2019       1      MQ    Envoy Air     SJT   \n",
      "\n",
      "                                        airport_name  arr_flights  arr_del15  \\\n",
      "0   Savannah, GA: Savannah/Hilton Head International         65.0       15.0   \n",
      "1  Louisville, KY: Louisville Muhammad Ali Intern...         61.0       18.0   \n",
      "2      Springfield, MO: Springfield-Branson National        428.0       80.0   \n",
      "3                Shreveport, LA: Shreveport Regional        174.0       28.0   \n",
      "4   San Angelo, TX: San Angelo Regional/Mathis Field        135.0       23.0   \n",
      "\n",
      "   carrier_ct   weather_ct  ...  late_aircraft_ct  arr_cancelled  \\\n",
      "0        3.41         0.71  ...              6.56            1.0   \n",
      "1        2.70         1.01  ...              5.37            1.0   \n",
      "2       13.31         5.18  ...             34.09           15.0   \n",
      "3        5.97         1.17  ...              9.72            0.0   \n",
      "4       10.78         0.35  ...              5.33            2.0   \n",
      "\n",
      "   arr_diverted   arr_delay   carrier_delay  weather_delay  nas_delay  \\\n",
      "0           1.0       601.0           180.0           29.0      129.0   \n",
      "1           0.0       890.0           180.0           36.0      383.0   \n",
      "2           0.0      3954.0           705.0          213.0      982.0   \n",
      "3           0.0      1655.0           360.0           55.0      268.0   \n",
      "4           0.0       835.0           320.0           27.0      192.0   \n",
      "\n",
      "   security_delay  late_aircraft_delay  Unnamed: 21  \n",
      "0             0.0                263.0          NaN  \n",
      "1             0.0                291.0          NaN  \n",
      "2             0.0               2054.0          NaN  \n",
      "3             0.0                972.0          NaN  \n",
      "4             0.0                296.0          NaN  \n",
      "\n",
      "[5 rows x 22 columns]\n"
     ]
    }
   ],
   "source": [
    "#shape of our data\n",
    "print(f'Shape of flights data is:\\n {df.shape}\\n\\n')\n",
    "print(f'Type of each feature is:\\n {df.dtypes}\\n\\n')\n",
    "print(f'Glimpse on a data {df.head(5)}')"
   ]
  },
  {
   "cell_type": "markdown",
   "metadata": {},
   "source": [
    "* we have 60587 rows and 22 columns"
   ]
  },
  {
   "cell_type": "code",
   "execution_count": 4,
   "metadata": {},
   "outputs": [
    {
     "data": {
      "text/plain": [
       "Index(['year', ' month', 'carrier', 'carrier_name', 'airport', 'airport_name',\n",
       "       'arr_flights', 'arr_del15', 'carrier_ct', ' weather_ct', 'nas_ct',\n",
       "       'security_ct', 'late_aircraft_ct', 'arr_cancelled', 'arr_diverted',\n",
       "       ' arr_delay', ' carrier_delay', 'weather_delay', 'nas_delay',\n",
       "       'security_delay', 'late_aircraft_delay', 'Unnamed: 21'],\n",
       "      dtype='object')"
      ]
     },
     "execution_count": 4,
     "metadata": {},
     "output_type": "execute_result"
    }
   ],
   "source": [
    "df.columns"
   ]
  },
  {
   "cell_type": "code",
   "execution_count": 5,
   "metadata": {},
   "outputs": [
    {
     "name": "stdout",
     "output_type": "stream",
     "text": [
      "number of years 4 and they are [2019 2020 2017 2018] \n"
     ]
    }
   ],
   "source": [
    "no = df.year.nunique()\n",
    "name = df.year.unique()\n",
    "print(f\"number of years {no} and they are {name} \")"
   ]
  },
  {
   "cell_type": "code",
   "execution_count": 6,
   "metadata": {},
   "outputs": [
    {
     "data": {
      "text/plain": [
       "year                       4\n",
       " month                    12\n",
       "carrier                   18\n",
       "carrier_name              19\n",
       "airport                  373\n",
       "airport_name             373\n",
       "arr_flights             3465\n",
       "arr_del15               1198\n",
       "carrier_ct              7805\n",
       " weather_ct             2443\n",
       "nas_ct                  7877\n",
       "security_ct              552\n",
       "late_aircraft_ct        8388\n",
       "arr_cancelled            465\n",
       "arr_diverted              83\n",
       " arr_delay             11178\n",
       " carrier_delay          6546\n",
       "weather_delay           2636\n",
       "nas_delay               5462\n",
       "security_delay           384\n",
       "late_aircraft_delay     7251\n",
       "Unnamed: 21                0\n",
       "dtype: int64"
      ]
     },
     "execution_count": 6,
     "metadata": {},
     "output_type": "execute_result"
    }
   ],
   "source": [
    "df.nunique()"
   ]
  },
  {
   "cell_type": "code",
   "execution_count": 7,
   "metadata": {},
   "outputs": [
    {
     "name": "stdout",
     "output_type": "stream",
     "text": [
      "<class 'pandas.core.frame.DataFrame'>\n",
      "RangeIndex: 60587 entries, 0 to 60586\n",
      "Data columns (total 22 columns):\n",
      " #   Column               Non-Null Count  Dtype  \n",
      "---  ------               --------------  -----  \n",
      " 0   year                 60587 non-null  int64  \n",
      " 1   month                60587 non-null  int64  \n",
      " 2   carrier              60587 non-null  object \n",
      " 3   carrier_name         60587 non-null  object \n",
      " 4   airport              60587 non-null  object \n",
      " 5   airport_name         60587 non-null  object \n",
      " 6   arr_flights          60471 non-null  float64\n",
      " 7   arr_del15            60293 non-null  float64\n",
      " 8   carrier_ct           60471 non-null  float64\n",
      " 9    weather_ct          60471 non-null  float64\n",
      " 10  nas_ct               60471 non-null  float64\n",
      " 11  security_ct          60471 non-null  float64\n",
      " 12  late_aircraft_ct     60471 non-null  float64\n",
      " 13  arr_cancelled        60471 non-null  float64\n",
      " 14  arr_diverted         60471 non-null  float64\n",
      " 15   arr_delay           60471 non-null  float64\n",
      " 16   carrier_delay       60471 non-null  float64\n",
      " 17  weather_delay        60471 non-null  float64\n",
      " 18  nas_delay            60471 non-null  float64\n",
      " 19  security_delay       60471 non-null  float64\n",
      " 20  late_aircraft_delay  60471 non-null  float64\n",
      " 21  Unnamed: 21          0 non-null      float64\n",
      "dtypes: float64(16), int64(2), object(4)\n",
      "memory usage: 10.2+ MB\n"
     ]
    }
   ],
   "source": [
    "#rename column \" month\" to \"month\" without space\n",
    "df = df.rename(columns={\" month\": \"month\"})\n",
    "df.info()"
   ]
  },
  {
   "cell_type": "markdown",
   "metadata": {},
   "source": [
    "## Questions\n",
    "### what are the airports have delays?\n",
    "### what are the reasons of delays?\n",
    "### which month has the most delay?\n",
    "\n",
    "**select the desired features according to questions**\n",
    "interested features are: \n",
    "* year\n",
    "* month\n",
    "* airport\n",
    "* airport name\n",
    "* arr delay\n",
    "* carrier_delay\n",
    "* weather_delay\n",
    "* nas_delay\n",
    "* security_delay\n",
    "* late_aircraft_delay\n",
    "\n"
   ]
  },
  {
   "cell_type": "code",
   "execution_count": 8,
   "metadata": {},
   "outputs": [
    {
     "data": {
      "text/html": [
       "<div>\n",
       "<style scoped>\n",
       "    .dataframe tbody tr th:only-of-type {\n",
       "        vertical-align: middle;\n",
       "    }\n",
       "\n",
       "    .dataframe tbody tr th {\n",
       "        vertical-align: top;\n",
       "    }\n",
       "\n",
       "    .dataframe thead th {\n",
       "        text-align: right;\n",
       "    }\n",
       "</style>\n",
       "<table border=\"1\" class=\"dataframe\">\n",
       "  <thead>\n",
       "    <tr style=\"text-align: right;\">\n",
       "      <th></th>\n",
       "      <th>year</th>\n",
       "      <th>month</th>\n",
       "      <th>carrier</th>\n",
       "      <th>carrier_name</th>\n",
       "      <th>airport</th>\n",
       "      <th>airport_name</th>\n",
       "      <th>arr_flights</th>\n",
       "      <th>arr_del15</th>\n",
       "      <th>carrier_ct</th>\n",
       "      <th>weather_ct</th>\n",
       "      <th>...</th>\n",
       "      <th>late_aircraft_ct</th>\n",
       "      <th>arr_cancelled</th>\n",
       "      <th>arr_diverted</th>\n",
       "      <th>arr_delay</th>\n",
       "      <th>carrier_delay</th>\n",
       "      <th>weather_delay</th>\n",
       "      <th>nas_delay</th>\n",
       "      <th>security_delay</th>\n",
       "      <th>late_aircraft_delay</th>\n",
       "      <th>Unnamed: 21</th>\n",
       "    </tr>\n",
       "  </thead>\n",
       "  <tbody>\n",
       "    <tr>\n",
       "      <th>0</th>\n",
       "      <td>2019</td>\n",
       "      <td>1</td>\n",
       "      <td>MQ</td>\n",
       "      <td>Envoy Air</td>\n",
       "      <td>SAV</td>\n",
       "      <td>Savannah, GA: Savannah/Hilton Head International</td>\n",
       "      <td>65.0</td>\n",
       "      <td>15.0</td>\n",
       "      <td>3.41</td>\n",
       "      <td>0.71</td>\n",
       "      <td>...</td>\n",
       "      <td>6.56</td>\n",
       "      <td>1.0</td>\n",
       "      <td>1.0</td>\n",
       "      <td>601.0</td>\n",
       "      <td>180.0</td>\n",
       "      <td>29.0</td>\n",
       "      <td>129.0</td>\n",
       "      <td>0.0</td>\n",
       "      <td>263.0</td>\n",
       "      <td>NaN</td>\n",
       "    </tr>\n",
       "    <tr>\n",
       "      <th>1</th>\n",
       "      <td>2019</td>\n",
       "      <td>1</td>\n",
       "      <td>MQ</td>\n",
       "      <td>Envoy Air</td>\n",
       "      <td>SDF</td>\n",
       "      <td>Louisville, KY: Louisville Muhammad Ali Intern...</td>\n",
       "      <td>61.0</td>\n",
       "      <td>18.0</td>\n",
       "      <td>2.70</td>\n",
       "      <td>1.01</td>\n",
       "      <td>...</td>\n",
       "      <td>5.37</td>\n",
       "      <td>1.0</td>\n",
       "      <td>0.0</td>\n",
       "      <td>890.0</td>\n",
       "      <td>180.0</td>\n",
       "      <td>36.0</td>\n",
       "      <td>383.0</td>\n",
       "      <td>0.0</td>\n",
       "      <td>291.0</td>\n",
       "      <td>NaN</td>\n",
       "    </tr>\n",
       "    <tr>\n",
       "      <th>2</th>\n",
       "      <td>2019</td>\n",
       "      <td>1</td>\n",
       "      <td>MQ</td>\n",
       "      <td>Envoy Air</td>\n",
       "      <td>SGF</td>\n",
       "      <td>Springfield, MO: Springfield-Branson National</td>\n",
       "      <td>428.0</td>\n",
       "      <td>80.0</td>\n",
       "      <td>13.31</td>\n",
       "      <td>5.18</td>\n",
       "      <td>...</td>\n",
       "      <td>34.09</td>\n",
       "      <td>15.0</td>\n",
       "      <td>0.0</td>\n",
       "      <td>3954.0</td>\n",
       "      <td>705.0</td>\n",
       "      <td>213.0</td>\n",
       "      <td>982.0</td>\n",
       "      <td>0.0</td>\n",
       "      <td>2054.0</td>\n",
       "      <td>NaN</td>\n",
       "    </tr>\n",
       "    <tr>\n",
       "      <th>3</th>\n",
       "      <td>2019</td>\n",
       "      <td>1</td>\n",
       "      <td>MQ</td>\n",
       "      <td>Envoy Air</td>\n",
       "      <td>SHV</td>\n",
       "      <td>Shreveport, LA: Shreveport Regional</td>\n",
       "      <td>174.0</td>\n",
       "      <td>28.0</td>\n",
       "      <td>5.97</td>\n",
       "      <td>1.17</td>\n",
       "      <td>...</td>\n",
       "      <td>9.72</td>\n",
       "      <td>0.0</td>\n",
       "      <td>0.0</td>\n",
       "      <td>1655.0</td>\n",
       "      <td>360.0</td>\n",
       "      <td>55.0</td>\n",
       "      <td>268.0</td>\n",
       "      <td>0.0</td>\n",
       "      <td>972.0</td>\n",
       "      <td>NaN</td>\n",
       "    </tr>\n",
       "    <tr>\n",
       "      <th>4</th>\n",
       "      <td>2019</td>\n",
       "      <td>1</td>\n",
       "      <td>MQ</td>\n",
       "      <td>Envoy Air</td>\n",
       "      <td>SJT</td>\n",
       "      <td>San Angelo, TX: San Angelo Regional/Mathis Field</td>\n",
       "      <td>135.0</td>\n",
       "      <td>23.0</td>\n",
       "      <td>10.78</td>\n",
       "      <td>0.35</td>\n",
       "      <td>...</td>\n",
       "      <td>5.33</td>\n",
       "      <td>2.0</td>\n",
       "      <td>0.0</td>\n",
       "      <td>835.0</td>\n",
       "      <td>320.0</td>\n",
       "      <td>27.0</td>\n",
       "      <td>192.0</td>\n",
       "      <td>0.0</td>\n",
       "      <td>296.0</td>\n",
       "      <td>NaN</td>\n",
       "    </tr>\n",
       "    <tr>\n",
       "      <th>...</th>\n",
       "      <td>...</td>\n",
       "      <td>...</td>\n",
       "      <td>...</td>\n",
       "      <td>...</td>\n",
       "      <td>...</td>\n",
       "      <td>...</td>\n",
       "      <td>...</td>\n",
       "      <td>...</td>\n",
       "      <td>...</td>\n",
       "      <td>...</td>\n",
       "      <td>...</td>\n",
       "      <td>...</td>\n",
       "      <td>...</td>\n",
       "      <td>...</td>\n",
       "      <td>...</td>\n",
       "      <td>...</td>\n",
       "      <td>...</td>\n",
       "      <td>...</td>\n",
       "      <td>...</td>\n",
       "      <td>...</td>\n",
       "      <td>...</td>\n",
       "    </tr>\n",
       "    <tr>\n",
       "      <th>60582</th>\n",
       "      <td>2019</td>\n",
       "      <td>1</td>\n",
       "      <td>MQ</td>\n",
       "      <td>Envoy Air</td>\n",
       "      <td>RIC</td>\n",
       "      <td>Richmond, VA: Richmond International</td>\n",
       "      <td>195.0</td>\n",
       "      <td>68.0</td>\n",
       "      <td>12.12</td>\n",
       "      <td>1.87</td>\n",
       "      <td>...</td>\n",
       "      <td>36.04</td>\n",
       "      <td>22.0</td>\n",
       "      <td>0.0</td>\n",
       "      <td>4138.0</td>\n",
       "      <td>603.0</td>\n",
       "      <td>196.0</td>\n",
       "      <td>780.0</td>\n",
       "      <td>0.0</td>\n",
       "      <td>2559.0</td>\n",
       "      <td>NaN</td>\n",
       "    </tr>\n",
       "    <tr>\n",
       "      <th>60583</th>\n",
       "      <td>2019</td>\n",
       "      <td>1</td>\n",
       "      <td>MQ</td>\n",
       "      <td>Envoy Air</td>\n",
       "      <td>ROA</td>\n",
       "      <td>Roanoke, VA: Roanoke Blacksburg Regional Woodr...</td>\n",
       "      <td>52.0</td>\n",
       "      <td>14.0</td>\n",
       "      <td>2.74</td>\n",
       "      <td>0.69</td>\n",
       "      <td>...</td>\n",
       "      <td>8.11</td>\n",
       "      <td>2.0</td>\n",
       "      <td>1.0</td>\n",
       "      <td>726.0</td>\n",
       "      <td>323.0</td>\n",
       "      <td>31.0</td>\n",
       "      <td>112.0</td>\n",
       "      <td>0.0</td>\n",
       "      <td>260.0</td>\n",
       "      <td>NaN</td>\n",
       "    </tr>\n",
       "    <tr>\n",
       "      <th>60584</th>\n",
       "      <td>2019</td>\n",
       "      <td>1</td>\n",
       "      <td>MQ</td>\n",
       "      <td>Envoy Air</td>\n",
       "      <td>ROC</td>\n",
       "      <td>Rochester, NY: Greater Rochester International</td>\n",
       "      <td>106.0</td>\n",
       "      <td>26.0</td>\n",
       "      <td>4.67</td>\n",
       "      <td>2.26</td>\n",
       "      <td>...</td>\n",
       "      <td>7.26</td>\n",
       "      <td>17.0</td>\n",
       "      <td>0.0</td>\n",
       "      <td>1259.0</td>\n",
       "      <td>313.0</td>\n",
       "      <td>99.0</td>\n",
       "      <td>484.0</td>\n",
       "      <td>0.0</td>\n",
       "      <td>363.0</td>\n",
       "      <td>NaN</td>\n",
       "    </tr>\n",
       "    <tr>\n",
       "      <th>60585</th>\n",
       "      <td>2019</td>\n",
       "      <td>1</td>\n",
       "      <td>MQ</td>\n",
       "      <td>Envoy Air</td>\n",
       "      <td>RST</td>\n",
       "      <td>Rochester, MN: Rochester International</td>\n",
       "      <td>116.0</td>\n",
       "      <td>35.0</td>\n",
       "      <td>6.83</td>\n",
       "      <td>6.92</td>\n",
       "      <td>...</td>\n",
       "      <td>9.75</td>\n",
       "      <td>22.0</td>\n",
       "      <td>0.0</td>\n",
       "      <td>2307.0</td>\n",
       "      <td>474.0</td>\n",
       "      <td>633.0</td>\n",
       "      <td>523.0</td>\n",
       "      <td>0.0</td>\n",
       "      <td>677.0</td>\n",
       "      <td>NaN</td>\n",
       "    </tr>\n",
       "    <tr>\n",
       "      <th>60586</th>\n",
       "      <td>2019</td>\n",
       "      <td>1</td>\n",
       "      <td>MQ</td>\n",
       "      <td>Envoy Air</td>\n",
       "      <td>SAT</td>\n",
       "      <td>San Antonio, TX: San Antonio International</td>\n",
       "      <td>26.0</td>\n",
       "      <td>4.0</td>\n",
       "      <td>1.16</td>\n",
       "      <td>0.64</td>\n",
       "      <td>...</td>\n",
       "      <td>0.29</td>\n",
       "      <td>5.0</td>\n",
       "      <td>0.0</td>\n",
       "      <td>120.0</td>\n",
       "      <td>50.0</td>\n",
       "      <td>14.0</td>\n",
       "      <td>41.0</td>\n",
       "      <td>0.0</td>\n",
       "      <td>15.0</td>\n",
       "      <td>NaN</td>\n",
       "    </tr>\n",
       "  </tbody>\n",
       "</table>\n",
       "<p>5205 rows × 22 columns</p>\n",
       "</div>"
      ],
      "text/plain": [
       "       year  month carrier carrier_name airport  \\\n",
       "0      2019      1      MQ    Envoy Air     SAV   \n",
       "1      2019      1      MQ    Envoy Air     SDF   \n",
       "2      2019      1      MQ    Envoy Air     SGF   \n",
       "3      2019      1      MQ    Envoy Air     SHV   \n",
       "4      2019      1      MQ    Envoy Air     SJT   \n",
       "...     ...    ...     ...          ...     ...   \n",
       "60582  2019      1      MQ    Envoy Air     RIC   \n",
       "60583  2019      1      MQ    Envoy Air     ROA   \n",
       "60584  2019      1      MQ    Envoy Air     ROC   \n",
       "60585  2019      1      MQ    Envoy Air     RST   \n",
       "60586  2019      1      MQ    Envoy Air     SAT   \n",
       "\n",
       "                                            airport_name  arr_flights  \\\n",
       "0       Savannah, GA: Savannah/Hilton Head International         65.0   \n",
       "1      Louisville, KY: Louisville Muhammad Ali Intern...         61.0   \n",
       "2          Springfield, MO: Springfield-Branson National        428.0   \n",
       "3                    Shreveport, LA: Shreveport Regional        174.0   \n",
       "4       San Angelo, TX: San Angelo Regional/Mathis Field        135.0   \n",
       "...                                                  ...          ...   \n",
       "60582               Richmond, VA: Richmond International        195.0   \n",
       "60583  Roanoke, VA: Roanoke Blacksburg Regional Woodr...         52.0   \n",
       "60584     Rochester, NY: Greater Rochester International        106.0   \n",
       "60585             Rochester, MN: Rochester International        116.0   \n",
       "60586         San Antonio, TX: San Antonio International         26.0   \n",
       "\n",
       "       arr_del15  carrier_ct   weather_ct  ...  late_aircraft_ct  \\\n",
       "0           15.0        3.41         0.71  ...              6.56   \n",
       "1           18.0        2.70         1.01  ...              5.37   \n",
       "2           80.0       13.31         5.18  ...             34.09   \n",
       "3           28.0        5.97         1.17  ...              9.72   \n",
       "4           23.0       10.78         0.35  ...              5.33   \n",
       "...          ...         ...          ...  ...               ...   \n",
       "60582       68.0       12.12         1.87  ...             36.04   \n",
       "60583       14.0        2.74         0.69  ...              8.11   \n",
       "60584       26.0        4.67         2.26  ...              7.26   \n",
       "60585       35.0        6.83         6.92  ...              9.75   \n",
       "60586        4.0        1.16         0.64  ...              0.29   \n",
       "\n",
       "       arr_cancelled  arr_diverted   arr_delay   carrier_delay  weather_delay  \\\n",
       "0                1.0           1.0       601.0           180.0           29.0   \n",
       "1                1.0           0.0       890.0           180.0           36.0   \n",
       "2               15.0           0.0      3954.0           705.0          213.0   \n",
       "3                0.0           0.0      1655.0           360.0           55.0   \n",
       "4                2.0           0.0       835.0           320.0           27.0   \n",
       "...              ...           ...         ...             ...            ...   \n",
       "60582           22.0           0.0      4138.0           603.0          196.0   \n",
       "60583            2.0           1.0       726.0           323.0           31.0   \n",
       "60584           17.0           0.0      1259.0           313.0           99.0   \n",
       "60585           22.0           0.0      2307.0           474.0          633.0   \n",
       "60586            5.0           0.0       120.0            50.0           14.0   \n",
       "\n",
       "       nas_delay  security_delay  late_aircraft_delay  Unnamed: 21  \n",
       "0          129.0             0.0                263.0          NaN  \n",
       "1          383.0             0.0                291.0          NaN  \n",
       "2          982.0             0.0               2054.0          NaN  \n",
       "3          268.0             0.0                972.0          NaN  \n",
       "4          192.0             0.0                296.0          NaN  \n",
       "...          ...             ...                  ...          ...  \n",
       "60582      780.0             0.0               2559.0          NaN  \n",
       "60583      112.0             0.0                260.0          NaN  \n",
       "60584      484.0             0.0                363.0          NaN  \n",
       "60585      523.0             0.0                677.0          NaN  \n",
       "60586       41.0             0.0                 15.0          NaN  \n",
       "\n",
       "[5205 rows x 22 columns]"
      ]
     },
     "execution_count": 8,
     "metadata": {},
     "output_type": "execute_result"
    }
   ],
   "source": [
    "df.query('month == 1')\n"
   ]
  },
  {
   "cell_type": "code",
   "execution_count": 9,
   "metadata": {},
   "outputs": [
    {
     "data": {
      "text/html": [
       "<div>\n",
       "<style scoped>\n",
       "    .dataframe tbody tr th:only-of-type {\n",
       "        vertical-align: middle;\n",
       "    }\n",
       "\n",
       "    .dataframe tbody tr th {\n",
       "        vertical-align: top;\n",
       "    }\n",
       "\n",
       "    .dataframe thead th {\n",
       "        text-align: right;\n",
       "    }\n",
       "</style>\n",
       "<table border=\"1\" class=\"dataframe\">\n",
       "  <thead>\n",
       "    <tr style=\"text-align: right;\">\n",
       "      <th></th>\n",
       "      <th>year</th>\n",
       "      <th>month</th>\n",
       "      <th>airport</th>\n",
       "      <th>airport_name</th>\n",
       "      <th>arr_delay</th>\n",
       "      <th>carrier_delay</th>\n",
       "      <th>weather_delay</th>\n",
       "      <th>nas_delay</th>\n",
       "      <th>security_delay</th>\n",
       "      <th>late_aircraft_delay</th>\n",
       "    </tr>\n",
       "  </thead>\n",
       "  <tbody>\n",
       "    <tr>\n",
       "      <th>0</th>\n",
       "      <td>2019</td>\n",
       "      <td>1</td>\n",
       "      <td>SAV</td>\n",
       "      <td>Savannah, GA: Savannah/Hilton Head International</td>\n",
       "      <td>601.0</td>\n",
       "      <td>180.0</td>\n",
       "      <td>29.0</td>\n",
       "      <td>129.0</td>\n",
       "      <td>0.0</td>\n",
       "      <td>263.0</td>\n",
       "    </tr>\n",
       "    <tr>\n",
       "      <th>1</th>\n",
       "      <td>2019</td>\n",
       "      <td>1</td>\n",
       "      <td>SDF</td>\n",
       "      <td>Louisville, KY: Louisville Muhammad Ali Intern...</td>\n",
       "      <td>890.0</td>\n",
       "      <td>180.0</td>\n",
       "      <td>36.0</td>\n",
       "      <td>383.0</td>\n",
       "      <td>0.0</td>\n",
       "      <td>291.0</td>\n",
       "    </tr>\n",
       "    <tr>\n",
       "      <th>2</th>\n",
       "      <td>2019</td>\n",
       "      <td>1</td>\n",
       "      <td>SGF</td>\n",
       "      <td>Springfield, MO: Springfield-Branson National</td>\n",
       "      <td>3954.0</td>\n",
       "      <td>705.0</td>\n",
       "      <td>213.0</td>\n",
       "      <td>982.0</td>\n",
       "      <td>0.0</td>\n",
       "      <td>2054.0</td>\n",
       "    </tr>\n",
       "    <tr>\n",
       "      <th>3</th>\n",
       "      <td>2019</td>\n",
       "      <td>1</td>\n",
       "      <td>SHV</td>\n",
       "      <td>Shreveport, LA: Shreveport Regional</td>\n",
       "      <td>1655.0</td>\n",
       "      <td>360.0</td>\n",
       "      <td>55.0</td>\n",
       "      <td>268.0</td>\n",
       "      <td>0.0</td>\n",
       "      <td>972.0</td>\n",
       "    </tr>\n",
       "    <tr>\n",
       "      <th>4</th>\n",
       "      <td>2019</td>\n",
       "      <td>1</td>\n",
       "      <td>SJT</td>\n",
       "      <td>San Angelo, TX: San Angelo Regional/Mathis Field</td>\n",
       "      <td>835.0</td>\n",
       "      <td>320.0</td>\n",
       "      <td>27.0</td>\n",
       "      <td>192.0</td>\n",
       "      <td>0.0</td>\n",
       "      <td>296.0</td>\n",
       "    </tr>\n",
       "    <tr>\n",
       "      <th>...</th>\n",
       "      <td>...</td>\n",
       "      <td>...</td>\n",
       "      <td>...</td>\n",
       "      <td>...</td>\n",
       "      <td>...</td>\n",
       "      <td>...</td>\n",
       "      <td>...</td>\n",
       "      <td>...</td>\n",
       "      <td>...</td>\n",
       "      <td>...</td>\n",
       "    </tr>\n",
       "    <tr>\n",
       "      <th>60582</th>\n",
       "      <td>2019</td>\n",
       "      <td>1</td>\n",
       "      <td>RIC</td>\n",
       "      <td>Richmond, VA: Richmond International</td>\n",
       "      <td>4138.0</td>\n",
       "      <td>603.0</td>\n",
       "      <td>196.0</td>\n",
       "      <td>780.0</td>\n",
       "      <td>0.0</td>\n",
       "      <td>2559.0</td>\n",
       "    </tr>\n",
       "    <tr>\n",
       "      <th>60583</th>\n",
       "      <td>2019</td>\n",
       "      <td>1</td>\n",
       "      <td>ROA</td>\n",
       "      <td>Roanoke, VA: Roanoke Blacksburg Regional Woodr...</td>\n",
       "      <td>726.0</td>\n",
       "      <td>323.0</td>\n",
       "      <td>31.0</td>\n",
       "      <td>112.0</td>\n",
       "      <td>0.0</td>\n",
       "      <td>260.0</td>\n",
       "    </tr>\n",
       "    <tr>\n",
       "      <th>60584</th>\n",
       "      <td>2019</td>\n",
       "      <td>1</td>\n",
       "      <td>ROC</td>\n",
       "      <td>Rochester, NY: Greater Rochester International</td>\n",
       "      <td>1259.0</td>\n",
       "      <td>313.0</td>\n",
       "      <td>99.0</td>\n",
       "      <td>484.0</td>\n",
       "      <td>0.0</td>\n",
       "      <td>363.0</td>\n",
       "    </tr>\n",
       "    <tr>\n",
       "      <th>60585</th>\n",
       "      <td>2019</td>\n",
       "      <td>1</td>\n",
       "      <td>RST</td>\n",
       "      <td>Rochester, MN: Rochester International</td>\n",
       "      <td>2307.0</td>\n",
       "      <td>474.0</td>\n",
       "      <td>633.0</td>\n",
       "      <td>523.0</td>\n",
       "      <td>0.0</td>\n",
       "      <td>677.0</td>\n",
       "    </tr>\n",
       "    <tr>\n",
       "      <th>60586</th>\n",
       "      <td>2019</td>\n",
       "      <td>1</td>\n",
       "      <td>SAT</td>\n",
       "      <td>San Antonio, TX: San Antonio International</td>\n",
       "      <td>120.0</td>\n",
       "      <td>50.0</td>\n",
       "      <td>14.0</td>\n",
       "      <td>41.0</td>\n",
       "      <td>0.0</td>\n",
       "      <td>15.0</td>\n",
       "    </tr>\n",
       "  </tbody>\n",
       "</table>\n",
       "<p>60587 rows × 10 columns</p>\n",
       "</div>"
      ],
      "text/plain": [
       "       year  month airport                                       airport_name  \\\n",
       "0      2019      1     SAV   Savannah, GA: Savannah/Hilton Head International   \n",
       "1      2019      1     SDF  Louisville, KY: Louisville Muhammad Ali Intern...   \n",
       "2      2019      1     SGF      Springfield, MO: Springfield-Branson National   \n",
       "3      2019      1     SHV                Shreveport, LA: Shreveport Regional   \n",
       "4      2019      1     SJT   San Angelo, TX: San Angelo Regional/Mathis Field   \n",
       "...     ...    ...     ...                                                ...   \n",
       "60582  2019      1     RIC               Richmond, VA: Richmond International   \n",
       "60583  2019      1     ROA  Roanoke, VA: Roanoke Blacksburg Regional Woodr...   \n",
       "60584  2019      1     ROC     Rochester, NY: Greater Rochester International   \n",
       "60585  2019      1     RST             Rochester, MN: Rochester International   \n",
       "60586  2019      1     SAT         San Antonio, TX: San Antonio International   \n",
       "\n",
       "        arr_delay   carrier_delay  weather_delay  nas_delay  security_delay  \\\n",
       "0           601.0           180.0           29.0      129.0             0.0   \n",
       "1           890.0           180.0           36.0      383.0             0.0   \n",
       "2          3954.0           705.0          213.0      982.0             0.0   \n",
       "3          1655.0           360.0           55.0      268.0             0.0   \n",
       "4           835.0           320.0           27.0      192.0             0.0   \n",
       "...           ...             ...            ...        ...             ...   \n",
       "60582      4138.0           603.0          196.0      780.0             0.0   \n",
       "60583       726.0           323.0           31.0      112.0             0.0   \n",
       "60584      1259.0           313.0           99.0      484.0             0.0   \n",
       "60585      2307.0           474.0          633.0      523.0             0.0   \n",
       "60586       120.0            50.0           14.0       41.0             0.0   \n",
       "\n",
       "       late_aircraft_delay  \n",
       "0                    263.0  \n",
       "1                    291.0  \n",
       "2                   2054.0  \n",
       "3                    972.0  \n",
       "4                    296.0  \n",
       "...                    ...  \n",
       "60582               2559.0  \n",
       "60583                260.0  \n",
       "60584                363.0  \n",
       "60585                677.0  \n",
       "60586                 15.0  \n",
       "\n",
       "[60587 rows x 10 columns]"
      ]
     },
     "execution_count": 9,
     "metadata": {},
     "output_type": "execute_result"
    }
   ],
   "source": [
    "# Create new dataframe for intersting features \n",
    "df1 = df[['year', 'month','airport', 'airport_name', ' arr_delay', ' carrier_delay', 'weather_delay', 'nas_delay', 'security_delay', 'late_aircraft_delay']]\n",
    "df1"
   ]
  },
  {
   "cell_type": "code",
   "execution_count": 10,
   "metadata": {},
   "outputs": [
    {
     "data": {
      "text/html": [
       "<div>\n",
       "<style scoped>\n",
       "    .dataframe tbody tr th:only-of-type {\n",
       "        vertical-align: middle;\n",
       "    }\n",
       "\n",
       "    .dataframe tbody tr th {\n",
       "        vertical-align: top;\n",
       "    }\n",
       "\n",
       "    .dataframe thead th {\n",
       "        text-align: right;\n",
       "    }\n",
       "</style>\n",
       "<table border=\"1\" class=\"dataframe\">\n",
       "  <thead>\n",
       "    <tr style=\"text-align: right;\">\n",
       "      <th></th>\n",
       "      <th>year</th>\n",
       "      <th>month</th>\n",
       "      <th>arr_delay</th>\n",
       "      <th>carrier_delay</th>\n",
       "      <th>weather_delay</th>\n",
       "      <th>nas_delay</th>\n",
       "      <th>security_delay</th>\n",
       "      <th>late_aircraft_delay</th>\n",
       "    </tr>\n",
       "  </thead>\n",
       "  <tbody>\n",
       "    <tr>\n",
       "      <th>count</th>\n",
       "      <td>60587.000000</td>\n",
       "      <td>60587.000000</td>\n",
       "      <td>60471.000000</td>\n",
       "      <td>60471.000000</td>\n",
       "      <td>60471.000000</td>\n",
       "      <td>60471.000000</td>\n",
       "      <td>60471.000000</td>\n",
       "      <td>60471.000000</td>\n",
       "    </tr>\n",
       "    <tr>\n",
       "      <th>mean</th>\n",
       "      <td>2018.882962</td>\n",
       "      <td>6.498539</td>\n",
       "      <td>3573.697243</td>\n",
       "      <td>1135.240595</td>\n",
       "      <td>203.382779</td>\n",
       "      <td>854.345438</td>\n",
       "      <td>5.689752</td>\n",
       "      <td>1375.030262</td>\n",
       "    </tr>\n",
       "    <tr>\n",
       "      <th>std</th>\n",
       "      <td>0.862603</td>\n",
       "      <td>3.476308</td>\n",
       "      <td>11265.538107</td>\n",
       "      <td>3339.238086</td>\n",
       "      <td>772.604183</td>\n",
       "      <td>3534.148325</td>\n",
       "      <td>36.920099</td>\n",
       "      <td>4465.926646</td>\n",
       "    </tr>\n",
       "    <tr>\n",
       "      <th>min</th>\n",
       "      <td>2017.000000</td>\n",
       "      <td>1.000000</td>\n",
       "      <td>0.000000</td>\n",
       "      <td>0.000000</td>\n",
       "      <td>0.000000</td>\n",
       "      <td>0.000000</td>\n",
       "      <td>0.000000</td>\n",
       "      <td>0.000000</td>\n",
       "    </tr>\n",
       "    <tr>\n",
       "      <th>25%</th>\n",
       "      <td>2018.000000</td>\n",
       "      <td>3.000000</td>\n",
       "      <td>236.000000</td>\n",
       "      <td>73.000000</td>\n",
       "      <td>0.000000</td>\n",
       "      <td>26.000000</td>\n",
       "      <td>0.000000</td>\n",
       "      <td>37.000000</td>\n",
       "    </tr>\n",
       "    <tr>\n",
       "      <th>50%</th>\n",
       "      <td>2019.000000</td>\n",
       "      <td>7.000000</td>\n",
       "      <td>815.000000</td>\n",
       "      <td>281.000000</td>\n",
       "      <td>12.000000</td>\n",
       "      <td>123.000000</td>\n",
       "      <td>0.000000</td>\n",
       "      <td>254.000000</td>\n",
       "    </tr>\n",
       "    <tr>\n",
       "      <th>75%</th>\n",
       "      <td>2020.000000</td>\n",
       "      <td>10.000000</td>\n",
       "      <td>2357.000000</td>\n",
       "      <td>865.000000</td>\n",
       "      <td>129.000000</td>\n",
       "      <td>404.000000</td>\n",
       "      <td>0.000000</td>\n",
       "      <td>896.500000</td>\n",
       "    </tr>\n",
       "    <tr>\n",
       "      <th>max</th>\n",
       "      <td>2020.000000</td>\n",
       "      <td>12.000000</td>\n",
       "      <td>370937.000000</td>\n",
       "      <td>108068.000000</td>\n",
       "      <td>28294.000000</td>\n",
       "      <td>112018.000000</td>\n",
       "      <td>3194.000000</td>\n",
       "      <td>131666.000000</td>\n",
       "    </tr>\n",
       "  </tbody>\n",
       "</table>\n",
       "</div>"
      ],
      "text/plain": [
       "               year         month      arr_delay   carrier_delay  \\\n",
       "count  60587.000000  60587.000000   60471.000000    60471.000000   \n",
       "mean    2018.882962      6.498539    3573.697243     1135.240595   \n",
       "std        0.862603      3.476308   11265.538107     3339.238086   \n",
       "min     2017.000000      1.000000       0.000000        0.000000   \n",
       "25%     2018.000000      3.000000     236.000000       73.000000   \n",
       "50%     2019.000000      7.000000     815.000000      281.000000   \n",
       "75%     2020.000000     10.000000    2357.000000      865.000000   \n",
       "max     2020.000000     12.000000  370937.000000   108068.000000   \n",
       "\n",
       "       weather_delay      nas_delay  security_delay  late_aircraft_delay  \n",
       "count   60471.000000   60471.000000    60471.000000         60471.000000  \n",
       "mean      203.382779     854.345438        5.689752          1375.030262  \n",
       "std       772.604183    3534.148325       36.920099          4465.926646  \n",
       "min         0.000000       0.000000        0.000000             0.000000  \n",
       "25%         0.000000      26.000000        0.000000            37.000000  \n",
       "50%        12.000000     123.000000        0.000000           254.000000  \n",
       "75%       129.000000     404.000000        0.000000           896.500000  \n",
       "max     28294.000000  112018.000000     3194.000000        131666.000000  "
      ]
     },
     "execution_count": 10,
     "metadata": {},
     "output_type": "execute_result"
    }
   ],
   "source": [
    "# describe our data\n",
    "df1.describe()"
   ]
  },
  {
   "cell_type": "markdown",
   "metadata": {},
   "source": [
    "> We found out that some flights have no delay and most delays come from aircraft"
   ]
  },
  {
   "cell_type": "code",
   "execution_count": 11,
   "metadata": {},
   "outputs": [
    {
     "data": {
      "text/plain": [
       "year                     0\n",
       "month                    0\n",
       "airport                  0\n",
       "airport_name             0\n",
       " arr_delay             116\n",
       " carrier_delay         116\n",
       "weather_delay          116\n",
       "nas_delay              116\n",
       "security_delay         116\n",
       "late_aircraft_delay    116\n",
       "dtype: int64"
      ]
     },
     "execution_count": 11,
     "metadata": {},
     "output_type": "execute_result"
    }
   ],
   "source": [
    "df1.isna().sum()"
   ]
  },
  {
   "cell_type": "markdown",
   "metadata": {},
   "source": [
    "> we have null values in some features so will drop null rows "
   ]
  },
  {
   "cell_type": "code",
   "execution_count": 12,
   "metadata": {},
   "outputs": [],
   "source": [
    "df1 = df1.dropna()"
   ]
  },
  {
   "cell_type": "code",
   "execution_count": 13,
   "metadata": {},
   "outputs": [
    {
     "data": {
      "text/plain": [
       "year                   False\n",
       "month                  False\n",
       "airport                False\n",
       "airport_name           False\n",
       " arr_delay             False\n",
       " carrier_delay         False\n",
       "weather_delay          False\n",
       "nas_delay              False\n",
       "security_delay         False\n",
       "late_aircraft_delay    False\n",
       "dtype: bool"
      ]
     },
     "execution_count": 13,
     "metadata": {},
     "output_type": "execute_result"
    }
   ],
   "source": [
    "df1.isna().any()"
   ]
  },
  {
   "cell_type": "markdown",
   "metadata": {},
   "source": [
    "> We dropped all null values"
   ]
  },
  {
   "cell_type": "code",
   "execution_count": 14,
   "metadata": {},
   "outputs": [
    {
     "data": {
      "text/plain": [
       "Index(['year', 'month', 'airport', 'airport_name', ' arr_delay',\n",
       "       ' carrier_delay', 'weather_delay', 'nas_delay', 'security_delay',\n",
       "       'late_aircraft_delay'],\n",
       "      dtype='object')"
      ]
     },
     "execution_count": 14,
     "metadata": {},
     "output_type": "execute_result"
    }
   ],
   "source": [
    "#clumns name\n",
    "df1.columns"
   ]
  },
  {
   "cell_type": "code",
   "execution_count": 15,
   "metadata": {},
   "outputs": [
    {
     "data": {
      "text/plain": [
       "Index(['year', 'month', 'airport', 'airport_name', 'arr_delay',\n",
       "       'carrier_delay', 'weather_delay', 'nas_delay', 'security_delay',\n",
       "       'late_aircraft_delay'],\n",
       "      dtype='object')"
      ]
     },
     "execution_count": 15,
     "metadata": {},
     "output_type": "execute_result"
    }
   ],
   "source": [
    "#Rename features names\n",
    "df1 = df1.rename(columns={' arr_delay': 'arr_delay', ' carrier_delay': 'carrier_delay'})\n",
    "df1.columns"
   ]
  },
  {
   "cell_type": "code",
   "execution_count": 16,
   "metadata": {},
   "outputs": [
    {
     "data": {
      "text/plain": [
       "year                    object\n",
       "month                    int64\n",
       "airport                 object\n",
       "airport_name            object\n",
       "arr_delay              float64\n",
       "carrier_delay          float64\n",
       "weather_delay          float64\n",
       "nas_delay              float64\n",
       "security_delay         float64\n",
       "late_aircraft_delay    float64\n",
       "dtype: object"
      ]
     },
     "execution_count": 16,
     "metadata": {},
     "output_type": "execute_result"
    }
   ],
   "source": [
    "#change type of year column to be categorical\n",
    "df1 = df1.astype({\"year\": str})\n",
    "df1.dtypes"
   ]
  },
  {
   "cell_type": "markdown",
   "metadata": {},
   "source": [
    "## Univariate Exploration\n"
   ]
  },
  {
   "cell_type": "markdown",
   "metadata": {},
   "source": [
    "### Question:1\n",
    "#### what is the number of flights per year?"
   ]
  },
  {
   "cell_type": "code",
   "execution_count": 17,
   "metadata": {},
   "outputs": [
    {
     "data": {
      "image/png": "[encoded data removed]",
      "text/plain": [
       "<Figure size 432x288 with 1 Axes>"
      ]
     },
     "metadata": {
      "needs_background": "light"
     },
     "output_type": "display_data"
    }
   ],
   "source": [
    "# visualize year and how many data points in each year  \n",
    "palate_color = sb.color_palette()[0]\n",
    "sb.countplot(data=df1, x=\"year\", color=palate_color)\n",
    "plt.xlabel('Year')\n",
    "plt.ylabel('no. of Flights per Year')\n",
    "\n",
    "plt.title(\"Data points gathared from each year\");"
   ]
  },
  {
   "cell_type": "markdown",
   "metadata": {},
   "source": [
    "> Due to last visual we have a little number of data points gathered from year 2017\n",
    "- 2019 has the most number of flights \n",
    "- then 2018\n",
    "- finally 2020 and that's logical because COVID happend in 2020 as flights stopped"
   ]
  },
  {
   "cell_type": "markdown",
   "metadata": {},
   "source": [
    "### Question: 2 \n",
    "#### What is the month has the late flights? need to track the reason \"when\" the problem happend\n",
    "#### Explore which month over 3 years has late flights"
   ]
  },
  {
   "cell_type": "code",
   "execution_count": 18,
   "metadata": {},
   "outputs": [
    {
     "data": {
      "image/png": "[encoded data removed]",
      "text/plain": [
       "<Figure size 432x288 with 1 Axes>"
      ]
     },
     "metadata": {
      "needs_background": "light"
     },
     "output_type": "display_data"
    }
   ],
   "source": [
    "# creating new data has flights arrived after 2 hours from excpected time \n",
    "# drop 2017 from calculation\n",
    "# Visualizing output\n",
    "df_a = df1[df1['arr_delay'] > 120.0]\n",
    "df_a = df_a.astype({\"year\": int})\n",
    "f = df_a[df_a['year'] > 2017]\n",
    "plt.hist(data = f, x='month')\n",
    "plt.xlabel('Month')\n",
    "plt.ylabel('count')\n",
    "plt.title(\"flights over each month from 2018 to 2020 \");"
   ]
  },
  {
   "cell_type": "markdown",
   "metadata": {},
   "source": [
    "> January and December have late flights may be cause of weather "
   ]
  },
  {
   "cell_type": "code",
   "execution_count": 19,
   "metadata": {},
   "outputs": [
    {
     "name": "stdout",
     "output_type": "stream",
     "text": [
      "The number of delay more than 1 hour flights over 3 years is: 6634\n"
     ]
    }
   ],
   "source": [
    "original = df1.query('year in [ \"2018\", \"2019\", \"2020\"]').shape\n",
    "new = df1.query('year in [ \"2018\", \"2019\", \"2020\"]  & arr_delay > 60.0').shape\n",
    "\n",
    "print(f'The number of delay more than 1 hour flights over 3 years is: {original[0] - new[0]}')\n"
   ]
  },
  {
   "cell_type": "code",
   "execution_count": 20,
   "metadata": {},
   "outputs": [],
   "source": [
    "# delayed flights over 2018 \n",
    "original18 = df1.query('year == \"2018\"').shape\n",
    "new18 = df1.query('year == \"2018\" & arr_delay > 60.0').shape\n",
    "\n",
    "per18 = new18[0]/original18[0]  * 100\n",
    "\n",
    "# delayed flights over 2019 \n",
    "original19 = df1.query('year == \"2019\"').shape\n",
    "new19 = df1.query('year == \"2019\" & arr_delay > 60.0').shape\n",
    "\n",
    "per19 = new19[0]/original19[0]  * 100\n",
    "\n",
    "# delayed flights over 2020\n",
    "original20 = df1.query('year == \"2020\"').shape\n",
    "new20 = df1.query('year == \"2020\" & arr_delay > 60.0').shape\n",
    "\n",
    "per20 = new20[0]/original20[0]  * 100\n"
   ]
  },
  {
   "cell_type": "code",
   "execution_count": 21,
   "metadata": {},
   "outputs": [
    {
     "name": "stdout",
     "output_type": "stream",
     "text": [
      "The number of late flights over 2018 year is: 18885\n",
      "The number of late flights over 2019 year is: 19566\n",
      "The number of late flights over 2020 year is: 13298\n",
      "the percentage of late flights during 2018: 93.43 \n",
      "the percentage of delay during 2019:93.47 \n",
      "the percentage of delay during 2020:77.15\n"
     ]
    }
   ],
   "source": [
    "#Print\n",
    "print(f'The number of late flights over 2018 year is: {new18[0]}')\n",
    "print(f'The number of late flights over 2019 year is: {new19[0]}')\n",
    "print(f'The number of late flights over 2020 year is: {new20[0]}')\n",
    "print(f'the percentage of late flights during 2018: {round(per18, 2)} \\nthe percentage of delay during 2019:{round(per19,2)} \\nthe percentage of delay during 2020:{round(per20, 2)}')"
   ]
  },
  {
   "cell_type": "markdown",
   "metadata": {},
   "source": [
    "> Here number of late flights are different from year 2018 to 2019 by around 1000 but actually the difference in percentage is not significant in order to total flights in the related year"
   ]
  },
  {
   "cell_type": "markdown",
   "metadata": {},
   "source": [
    "* The highest year has late flights is **2019**\n",
    "* But actually the percentage of late flights in 2018 and 2019 are close to the same value\n",
    "* In 2018 and 2019 have the percentage close to 93%\n",
    "* 2020 has the less percentage over 3 years"
   ]
  },
  {
   "cell_type": "markdown",
   "metadata": {},
   "source": [
    "#### Explore number of late flights per year"
   ]
  },
  {
   "cell_type": "code",
   "execution_count": 22,
   "metadata": {},
   "outputs": [
    {
     "data": {
      "image/png": "[encoded data removed]",
      "text/plain": [
       "<Figure size 432x288 with 1 Axes>"
      ]
     },
     "metadata": {
      "needs_background": "light"
     },
     "output_type": "display_data"
    }
   ],
   "source": [
    "x = df1.query('year in [\"2018\", \"2019\", \"2020\"]  & arr_delay > 60.0')\n",
    "\n",
    "sb.countplot(data=x, x = 'year', color=palate_color)\n",
    "plt.xlabel('Year')\n",
    "plt.ylabel('count of flights')\n",
    "plt.title('late flights for each year');\n"
   ]
  },
  {
   "cell_type": "markdown",
   "metadata": {},
   "source": [
    "#### 2019, 2018, and 2020 have late flights respectively "
   ]
  },
  {
   "cell_type": "code",
   "execution_count": 23,
   "metadata": {},
   "outputs": [
    {
     "data": {
      "text/plain": [
       "0        True\n",
       "1        True\n",
       "2        True\n",
       "3        True\n",
       "4        True\n",
       "         ... \n",
       "60582    True\n",
       "60583    True\n",
       "60584    True\n",
       "60585    True\n",
       "60586    True\n",
       "Name: arr_delay, Length: 60471, dtype: bool"
      ]
     },
     "execution_count": 23,
     "metadata": {},
     "output_type": "execute_result"
    }
   ],
   "source": [
    "# Display the flights arrived late\n",
    "df2 = df1['arr_delay'] > 60.0\n",
    "df2"
   ]
  },
  {
   "cell_type": "markdown",
   "metadata": {},
   "source": [
    "## Bivariate Exploration"
   ]
  },
  {
   "cell_type": "code",
   "execution_count": 24,
   "metadata": {},
   "outputs": [],
   "source": [
    "numeric_vars = ['month', 'arr_delay', 'weather_delay', 'nas_delay', 'security_delay', 'late_aircraft_delay']"
   ]
  },
  {
   "cell_type": "markdown",
   "metadata": {},
   "source": [
    "### Question:3\n",
    "#### What's the relationship between arrived late and reasons"
   ]
  },
  {
   "cell_type": "code",
   "execution_count": 25,
   "metadata": {},
   "outputs": [
    {
     "data": {
      "image/png": "[encoded data removed]",
      "text/plain": [
       "<Figure size 576x360 with 2 Axes>"
      ]
     },
     "metadata": {
      "needs_background": "light"
     },
     "output_type": "display_data"
    }
   ],
   "source": [
    "plt.figure(figsize = [8, 5])\n",
    "sb.heatmap(df1[numeric_vars].corr(), annot = True, fmt = '.3f', cmap = 'vlag_r', center = 0)\n",
    "plt.title('Realationsip between all numeric values')\n",
    "plt.show()"
   ]
  },
  {
   "cell_type": "markdown",
   "metadata": {},
   "source": [
    "> As we see, we found the relationship between arrive delay and late_aircraft_delay so that's the main reason to delay the flights, then nas_delay and last reason is weather delay"
   ]
  },
  {
   "cell_type": "code",
   "execution_count": 26,
   "metadata": {},
   "outputs": [
    {
     "data": {
      "text/plain": [
       "year  month\n",
       "2017  11       1026\n",
       "      12       1062\n",
       "2018  1        1677\n",
       "      2        1632\n",
       "      3        1647\n",
       "      4        1671\n",
       "      5        1626\n",
       "      6        1731\n",
       "      7        1685\n",
       "      8        1732\n",
       "      9        1675\n",
       "      10       1699\n",
       "      11       1713\n",
       "      12       1726\n",
       "2019  1        1727\n",
       "      2        1690\n",
       "      3        1737\n",
       "      4        1695\n",
       "      5        1714\n",
       "      6        1778\n",
       "      7        1748\n",
       "      8        1783\n",
       "      9        1738\n",
       "      10       1749\n",
       "      11       1762\n",
       "      12       1811\n",
       "2020  1        1792\n",
       "      2        1769\n",
       "      3        1807\n",
       "      4        1622\n",
       "      5        1501\n",
       "      6        1323\n",
       "      7        1487\n",
       "      8        1467\n",
       "      9        1521\n",
       "      10       1466\n",
       "      11       1482\n",
       "Name: arr_delay, dtype: int64"
      ]
     },
     "execution_count": 26,
     "metadata": {},
     "output_type": "execute_result"
    }
   ],
   "source": [
    "df1.groupby([(df1.year), (df1.month)])['arr_delay'].count()"
   ]
  },
  {
   "cell_type": "markdown",
   "metadata": {},
   "source": [
    "### Question: 4\n",
    "#### what is the city having the great number of late flights?"
   ]
  },
  {
   "cell_type": "code",
   "execution_count": 27,
   "metadata": {},
   "outputs": [
    {
     "name": "stderr",
     "output_type": "stream",
     "text": [
      "C:\\Users\\dell\\anaconda3\\lib\\site-packages\\seaborn\\categorical.py:3669: UserWarning: The `factorplot` function has been renamed to `catplot`. The original name will be removed in a future release. Please update your code. Note that the default `kind` in `factorplot` (`'point'`) has changed `'strip'` in `catplot`.\n",
      "  warnings.warn(msg)\n"
     ]
    },
    {
     "data": {
      "image/png": "[encoded data removed]",
      "text/plain": [
       "<Figure size 360x360 with 1 Axes>"
      ]
     },
     "metadata": {
      "needs_background": "light"
     },
     "output_type": "display_data"
    }
   ],
   "source": [
    "df['city'] = df['airport_name'].str.split(',').str[-1].str.split(':').str[0]\n",
    "city_delays = df[['city','weather_delay']].groupby('city').sum().reset_index().sort_values('weather_delay',ascending=False)\n",
    "\n",
    "city_delays = city_delays.iloc[ :20]\n",
    "\n",
    "city_delays = pd.melt(city_delays, id_vars='city', value_vars=['weather_delay'])\n",
    "\n",
    "sb.factorplot(x='value', y='city', data=city_delays, kind='bar', color = palate_color)\n",
    "plt.xticks(rotation=45)\n",
    "plt.ylabel('Weather Delay in minutes')\n",
    "plt.title('Weather delays per city')\n",
    "plt.show()\n"
   ]
  },
  {
   "cell_type": "markdown",
   "metadata": {},
   "source": [
    "> The most flights are arrived in TX air"
   ]
  },
  {
   "cell_type": "code",
   "execution_count": 28,
   "metadata": {},
   "outputs": [
    {
     "name": "stdout",
     "output_type": "stream",
     "text": [
      "5196 10182 15573 19952 24205 28992 34440 39856 44406 49140 65813 55188\n"
     ]
    }
   ],
   "source": [
    "A= df1[df1['month'] == 1]\n",
    "a = A['month'].sum()\n",
    "\n",
    "B= df1[df1['month'] == 2]\n",
    "b = B['month'].sum()\n",
    "\n",
    "C= df1[df1['month'] == 3]\n",
    "c = C['month'].sum()\n",
    "\n",
    "D= df1[df1['month'] == 4]\n",
    "d = D['month'].sum()\n",
    "\n",
    "E = df1[df1['month'] == 5]\n",
    "e = E['month'].sum()\n",
    "\n",
    "F= df1[df1['month'] == 6]\n",
    "ff = F['month'].sum()\n",
    "\n",
    "G= df1[df1['month'] == 7]\n",
    "g = G['month'].sum()\n",
    "\n",
    "H= df1[df1['month'] == 8]\n",
    "h = H['month'].sum()\n",
    "\n",
    "I= df1[df1['month'] == 9]\n",
    "i = I['month'].sum()\n",
    "\n",
    "J = df1[df1['month'] == 10]\n",
    "j = J['month'].sum()\n",
    "\n",
    "K= df1[df1['month'] == 11]\n",
    "k = K['month'].sum()\n",
    "\n",
    "L= df1[df1['month'] == 12]\n",
    "l = L['month'].sum()\n",
    "\n",
    "#ff = pd.DataFrame([[a , b, c, d, e, f, g, h, i, j,k,l]], columns=['1','2','3','4','5','6','7','8','9','10','11','12'])\n",
    "\n",
    "#df5 = df1.append(ff, ignore_index = True)\n",
    "print(a , b, c, d, e, ff, g, h, i, j,k,l)"
   ]
  },
  {
   "cell_type": "markdown",
   "metadata": {},
   "source": [
    "### Multivariate Exploration"
   ]
  },
  {
   "cell_type": "markdown",
   "metadata": {},
   "source": [
    "### Question:5\n",
    "- What are late flights per year grouped by month?\n",
    " - Is the month playing a key role in late flights?"
   ]
  },
  {
   "cell_type": "code",
   "execution_count": 29,
   "metadata": {},
   "outputs": [
    {
     "data": {
      "image/png": "[encoded data removed]",
      "text/plain": [
       "<Figure size 576x432 with 1 Axes>"
      ]
     },
     "metadata": {
      "needs_background": "light"
     },
     "output_type": "display_data"
    }
   ],
   "source": [
    "flights_delay = (df1['month'] >= 5) & (df1['month'] <12) & (df1['arr_delay'] <= 60.0) & (df1['year'] > '2017')\n",
    "flight_1 = df1.loc[flights_delay,:]\n",
    "\n",
    "fig = plt.figure(figsize = [8,6])\n",
    "ax = sb.pointplot(data = flight_1, x = 'month', y = 'arr_delay', hue = 'year',\n",
    "           palette = 'Blues', linestyles = '', dodge = 0.4)\n",
    "plt.title('Delay for each month grouped by year')\n",
    "plt.ylabel('Delay in minutes')\n",
    "y = [5,10,15,20,25,30]\n",
    "plt.yticks(y)\n",
    "plt.show();"
   ]
  },
  {
   "cell_type": "markdown",
   "metadata": {},
   "source": [
    "> on june 2019 the most late flights occured then october and november \n",
    "> on july 2018 the most late flights occured then september and october\n",
    "> on october 2020 has a high number of late flights \n",
    "\n",
    "- Based on last insights we can say that october over 3 years from 2018 to 2020 has the significant problem across three year and want to figure out why this happed and work to solve it"
   ]
  },
  {
   "cell_type": "code",
   "execution_count": 30,
   "metadata": {},
   "outputs": [
    {
     "data": {
      "image/png": "[encoded data removed]",
      "text/plain": [
       "<Figure size 720x360 with 1 Axes>"
      ]
     },
     "metadata": {
      "needs_background": "light"
     },
     "output_type": "display_data"
    }
   ],
   "source": [
    "\n",
    "delays_over_time= f.groupby(['year','month']).sum().reset_index()\n",
    "delays_over_time = pd.melt(delays_over_time, id_vars=['year','month'], value_vars=['arr_delay'])\n",
    "\n",
    "delays_over_time['date'] = delays_over_time['year'] \n",
    "delays_over_time['mon'] = delays_over_time['month'] \n",
    "#+\"_\" + delays_over_time['month'].astype(str)\n",
    "delays_over_time = delays_over_time.drop(['year','month'], axis=1)\n",
    "\n",
    "plt.figure(figsize=(10,5))\n",
    "plt.title('Delay type trends over time')\n",
    "l =[2018, 2019, 2020]\n",
    "plt.xticks(l)\n",
    "sb.lineplot(x='date', y='mon', hue='variable', data=delays_over_time)\n",
    "plt.ylabel('month')\n",
    "plt.show()\n",
    "\n",
    "\n"
   ]
  },
  {
   "cell_type": "markdown",
   "metadata": {},
   "source": [
    "It's clear from the visaul 2019 has the peak point of lat flights "
   ]
  },
  {
   "cell_type": "markdown",
   "metadata": {},
   "source": [
    "### Question: 6 \n",
    "> What is the effect of each reason over months and years"
   ]
  },
  {
   "cell_type": "code",
   "execution_count": 31,
   "metadata": {},
   "outputs": [
    {
     "data": {
      "image/png": "[encoded data removed]",
      "text/plain": [
       "<Figure size 720x360 with 1 Axes>"
      ]
     },
     "metadata": {
      "needs_background": "light"
     },
     "output_type": "display_data"
    }
   ],
   "source": [
    "\n",
    "delays_over_time= df1.groupby(['year','month']).sum().reset_index()\n",
    "delays_over_time = pd.melt(delays_over_time, id_vars=['year','month'], value_vars=['weather_delay', 'nas_delay', 'security_delay', 'late_aircraft_delay'])\n",
    "\n",
    "delays_over_time['date'] = delays_over_time['year'].astype(str) +\"_\" + delays_over_time['month'].astype(str)\n",
    "delays_over_time = delays_over_time.drop(['year','month'], axis=1)\n",
    "\n",
    "plt.figure(figsize=(10,5))\n",
    "plt.title('Delay type trends over time')\n",
    "plt.xticks(rotation=90)\n",
    "sb.lineplot(x='date', y='value', hue='variable', data=delays_over_time)\n",
    "plt.show()"
   ]
  },
  {
   "cell_type": "markdown",
   "metadata": {},
   "source": [
    "> - Late aircraft has the main reason for delaying the flihgts \n",
    "- All reasons are decreasing on November, March in 2019\n",
    "- Febraury 2020 has a peak point of late flights\n",
    "- NAS Delay is playing very important role in delay flights"
   ]
  },
  {
   "cell_type": "markdown",
   "metadata": {},
   "source": [
    "# Refrences \n",
    "\n",
    "* https://stackoverflow.com/questions/15891038/change-column-type-in-pandas#:~:text=The%20best%20way%20to%20convert%20one%20or%20more%20columns%20of,floating%20point%20numbers%20as%20appropriate.\n",
    "\n",
    "* https://stackoverflow.com/questions/15670957/sort-the-values-in-a-histogram-in-python-and-plot-them\n",
    "\n",
    "* https://stackoverflow.com/questions/43401903/python-order-dataframe-alphabetically\n"
   ]
  },
  {
   "cell_type": "code",
   "execution_count": null,
   "metadata": {},
   "outputs": [],
   "source": [
    "!jupyter nbconvert slides.ipynb --to slides --post serve --no-input --no-prompt"
   ]
  },
  {
   "cell_type": "code",
   "execution_count": null,
   "metadata": {},
   "outputs": [],
   "source": []
  }
 ],
 "metadata": {
  "kernelspec": {
   "display_name": "Python 3",
   "language": "python",
   "name": "python3"
  },
  "language_info": {
   "codemirror_mode": {
    "name": "ipython",
    "version": 3
   },
   "file_extension": ".py",
   "mimetype": "text/x-python",
   "name": "python",
   "nbconvert_exporter": "python",
   "pygments_lexer": "ipython3",
   "version": "3.7.6"
  }
 },
 "nbformat": 4,
 "nbformat_minor": 4
}
