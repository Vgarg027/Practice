{
 "cells": [
  {
   "cell_type": "markdown",
   "metadata": {},
   "source": [
    "# Project: No-show appointments\n",
    "#### Welcome to 'No-show appointments' analysis file. Here we are about to dip into the data related to number of appointments made by anonymous patients, dates of these appointments and other charactaristics related to those patients.\n",
    "\n",
    "#### Our target is to predict the adherence of patients to these appointments and the factors affecting it.\n",
    "\n",
    "## Table of Contents\n",
    "<ul>\n",
    "<li><a href=\"#intro\">Introduction</a></li>\n",
    "<li><a href=\"#wrangling\">Data Wrangling</a></li>\n",
    "<li><a href=\"#eda\">Exploratory Data Analysis</a></li>\n",
    "<li><a href=\"#conclusions\">Conclusions</a></li>\n",
    "</ul>"
   ]
  },
  {
   "cell_type": "markdown",
   "metadata": {},
   "source": [
    "<a id='intro'></a>\n",
    "## Introduction\n",
    "\n",
    "The dataset in our hands here is about the **patients missing their scheduled appointments** in different hospitals in Brazil.  \n",
    "- What is their **ratio**?   <br>\n",
    "- What are the **variables** affecting this ratio, and to what **extent**?   <br>\n",
    "- Are these variables related just to the patients **charactaristics** or demographics, the **hospitals**, or the **date and time** of the appointments?   <br>\n",
    "\n",
    "This dataset includes 14 variables (columns):\n",
    "\n",
    "1- PatientId  \n",
    "2- AppointmentID  \n",
    "3- Gender  \n",
    "4- Scheduled Day  \n",
    "5- Appointment Day  \n",
    "6- Age  \n",
    "7- Neighbourhood (the place at which the appointment takes place)  \n",
    "8- Scholarship (relates to enrollment in **Bolsa Família**, which was a social welfare program of the Government of Brazil for poor Brazilian families.)  \n",
    "9- Hypertension (if the patient is hypertensive)  \n",
    "10- Diabetes (if the patient is diabetic)  \n",
    "11- Alcoholism (if the patient is alcoholic)  \n",
    "12- Handcap (if the patient suffered any type of disability)  \n",
    "13- SMS_received (if the patient recieved at least one SMS for the appointment)  \n",
    "14- No-show ('No' if the patient attended the appointment, 'Yes' if not)"
   ]
  },
  {
   "cell_type": "code",
   "execution_count": 2,
   "metadata": {},
   "outputs": [],
   "source": [
    "import pandas as pd\n",
    "import numpy as np\n",
    "import matplotlib.pyplot as plt\n",
    "%matplotlib inline\n",
    "import seaborn as sns"
   ]
  },
  {
   "cell_type": "code",
   "execution_count": 3,
   "metadata": {
    "scrolled": false
   },
   "outputs": [
    {
     "data": {
      "text/html": [
       "<div>\n",
       "<style scoped>\n",
       "    .dataframe tbody tr th:only-of-type {\n",
       "        vertical-align: middle;\n",
       "    }\n",
       "\n",
       "    .dataframe tbody tr th {\n",
       "        vertical-align: top;\n",
       "    }\n",
       "\n",
       "    .dataframe thead th {\n",
       "        text-align: right;\n",
       "    }\n",
       "</style>\n",
       "<table border=\"1\" class=\"dataframe\">\n",
       "  <thead>\n",
       "    <tr style=\"text-align: right;\">\n",
       "      <th></th>\n",
       "      <th>PatientId</th>\n",
       "      <th>AppointmentID</th>\n",
       "      <th>Gender</th>\n",
       "      <th>ScheduledDay</th>\n",
       "      <th>AppointmentDay</th>\n",
       "      <th>Age</th>\n",
       "      <th>Neighbourhood</th>\n",
       "      <th>Scholarship</th>\n",
       "      <th>Hipertension</th>\n",
       "      <th>Diabetes</th>\n",
       "      <th>Alcoholism</th>\n",
       "      <th>Handcap</th>\n",
       "      <th>SMS_received</th>\n",
       "      <th>No-show</th>\n",
       "    </tr>\n",
       "  </thead>\n",
       "  <tbody>\n",
       "    <tr>\n",
       "      <th>0</th>\n",
       "      <td>2.987250e+13</td>\n",
       "      <td>5642903</td>\n",
       "      <td>F</td>\n",
       "      <td>2016-04-29T18:38:08Z</td>\n",
       "      <td>2016-04-29T00:00:00Z</td>\n",
       "      <td>62</td>\n",
       "      <td>JARDIM DA PENHA</td>\n",
       "      <td>0</td>\n",
       "      <td>1</td>\n",
       "      <td>0</td>\n",
       "      <td>0</td>\n",
       "      <td>0</td>\n",
       "      <td>0</td>\n",
       "      <td>No</td>\n",
       "    </tr>\n",
       "    <tr>\n",
       "      <th>1</th>\n",
       "      <td>5.589978e+14</td>\n",
       "      <td>5642503</td>\n",
       "      <td>M</td>\n",
       "      <td>2016-04-29T16:08:27Z</td>\n",
       "      <td>2016-04-29T00:00:00Z</td>\n",
       "      <td>56</td>\n",
       "      <td>JARDIM DA PENHA</td>\n",
       "      <td>0</td>\n",
       "      <td>0</td>\n",
       "      <td>0</td>\n",
       "      <td>0</td>\n",
       "      <td>0</td>\n",
       "      <td>0</td>\n",
       "      <td>No</td>\n",
       "    </tr>\n",
       "    <tr>\n",
       "      <th>2</th>\n",
       "      <td>4.262962e+12</td>\n",
       "      <td>5642549</td>\n",
       "      <td>F</td>\n",
       "      <td>2016-04-29T16:19:04Z</td>\n",
       "      <td>2016-04-29T00:00:00Z</td>\n",
       "      <td>62</td>\n",
       "      <td>MATA DA PRAIA</td>\n",
       "      <td>0</td>\n",
       "      <td>0</td>\n",
       "      <td>0</td>\n",
       "      <td>0</td>\n",
       "      <td>0</td>\n",
       "      <td>0</td>\n",
       "      <td>No</td>\n",
       "    </tr>\n",
       "    <tr>\n",
       "      <th>3</th>\n",
       "      <td>8.679512e+11</td>\n",
       "      <td>5642828</td>\n",
       "      <td>F</td>\n",
       "      <td>2016-04-29T17:29:31Z</td>\n",
       "      <td>2016-04-29T00:00:00Z</td>\n",
       "      <td>8</td>\n",
       "      <td>PONTAL DE CAMBURI</td>\n",
       "      <td>0</td>\n",
       "      <td>0</td>\n",
       "      <td>0</td>\n",
       "      <td>0</td>\n",
       "      <td>0</td>\n",
       "      <td>0</td>\n",
       "      <td>No</td>\n",
       "    </tr>\n",
       "    <tr>\n",
       "      <th>4</th>\n",
       "      <td>8.841186e+12</td>\n",
       "      <td>5642494</td>\n",
       "      <td>F</td>\n",
       "      <td>2016-04-29T16:07:23Z</td>\n",
       "      <td>2016-04-29T00:00:00Z</td>\n",
       "      <td>56</td>\n",
       "      <td>JARDIM DA PENHA</td>\n",
       "      <td>0</td>\n",
       "      <td>1</td>\n",
       "      <td>1</td>\n",
       "      <td>0</td>\n",
       "      <td>0</td>\n",
       "      <td>0</td>\n",
       "      <td>No</td>\n",
       "    </tr>\n",
       "  </tbody>\n",
       "</table>\n",
       "</div>"
      ],
      "text/plain": [
       "      PatientId  AppointmentID Gender          ScheduledDay  \\\n",
       "0  2.987250e+13        5642903      F  2016-04-29T18:38:08Z   \n",
       "1  5.589978e+14        5642503      M  2016-04-29T16:08:27Z   \n",
       "2  4.262962e+12        5642549      F  2016-04-29T16:19:04Z   \n",
       "3  8.679512e+11        5642828      F  2016-04-29T17:29:31Z   \n",
       "4  8.841186e+12        5642494      F  2016-04-29T16:07:23Z   \n",
       "\n",
       "         AppointmentDay  Age      Neighbourhood  Scholarship  Hipertension  \\\n",
       "0  2016-04-29T00:00:00Z   62    JARDIM DA PENHA            0             1   \n",
       "1  2016-04-29T00:00:00Z   56    JARDIM DA PENHA            0             0   \n",
       "2  2016-04-29T00:00:00Z   62      MATA DA PRAIA            0             0   \n",
       "3  2016-04-29T00:00:00Z    8  PONTAL DE CAMBURI            0             0   \n",
       "4  2016-04-29T00:00:00Z   56    JARDIM DA PENHA            0             1   \n",
       "\n",
       "   Diabetes  Alcoholism  Handcap  SMS_received No-show  \n",
       "0         0           0        0             0      No  \n",
       "1         0           0        0             0      No  \n",
       "2         0           0        0             0      No  \n",
       "3         0           0        0             0      No  \n",
       "4         1           0        0             0      No  "
      ]
     },
     "execution_count": 3,
     "metadata": {},
     "output_type": "execute_result"
    }
   ],
   "source": [
    "df = pd.read_csv('C:\\\\Users\\\\ElBasha\\\\Desktop\\\\AIPND\\\\2nd project\\\\work files\\\\noshowappointments-kagglev2-may-2016.csv')\n",
    "df.head()"
   ]
  },
  {
   "cell_type": "markdown",
   "metadata": {},
   "source": [
    "#### The column labels will be set to lower case to reduce errors."
   ]
  },
  {
   "cell_type": "code",
   "execution_count": 4,
   "metadata": {},
   "outputs": [],
   "source": [
    "df.columns= df.columns.str.lower()"
   ]
  },
  {
   "cell_type": "markdown",
   "metadata": {},
   "source": [
    "<a id='wrangling'></a>\n",
    "## Data Wrangling\n",
    "\n",
    "### General Properties"
   ]
  },
  {
   "cell_type": "markdown",
   "metadata": {},
   "source": [
    "#### The columns 'patientid' and 'appointmentid' are to be dropped, as they are useless in the analysis process."
   ]
  },
  {
   "cell_type": "code",
   "execution_count": 5,
   "metadata": {
    "scrolled": true
   },
   "outputs": [
    {
     "data": {
      "text/html": [
       "<div>\n",
       "<style scoped>\n",
       "    .dataframe tbody tr th:only-of-type {\n",
       "        vertical-align: middle;\n",
       "    }\n",
       "\n",
       "    .dataframe tbody tr th {\n",
       "        vertical-align: top;\n",
       "    }\n",
       "\n",
       "    .dataframe thead th {\n",
       "        text-align: right;\n",
       "    }\n",
       "</style>\n",
       "<table border=\"1\" class=\"dataframe\">\n",
       "  <thead>\n",
       "    <tr style=\"text-align: right;\">\n",
       "      <th></th>\n",
       "      <th>gender</th>\n",
       "      <th>scheduledday</th>\n",
       "      <th>appointmentday</th>\n",
       "      <th>age</th>\n",
       "      <th>neighbourhood</th>\n",
       "      <th>scholarship</th>\n",
       "      <th>hipertension</th>\n",
       "      <th>diabetes</th>\n",
       "      <th>alcoholism</th>\n",
       "      <th>handcap</th>\n",
       "      <th>sms_received</th>\n",
       "      <th>no-show</th>\n",
       "    </tr>\n",
       "  </thead>\n",
       "  <tbody>\n",
       "    <tr>\n",
       "      <th>0</th>\n",
       "      <td>F</td>\n",
       "      <td>2016-04-29T18:38:08Z</td>\n",
       "      <td>2016-04-29T00:00:00Z</td>\n",
       "      <td>62</td>\n",
       "      <td>JARDIM DA PENHA</td>\n",
       "      <td>0</td>\n",
       "      <td>1</td>\n",
       "      <td>0</td>\n",
       "      <td>0</td>\n",
       "      <td>0</td>\n",
       "      <td>0</td>\n",
       "      <td>No</td>\n",
       "    </tr>\n",
       "    <tr>\n",
       "      <th>1</th>\n",
       "      <td>M</td>\n",
       "      <td>2016-04-29T16:08:27Z</td>\n",
       "      <td>2016-04-29T00:00:00Z</td>\n",
       "      <td>56</td>\n",
       "      <td>JARDIM DA PENHA</td>\n",
       "      <td>0</td>\n",
       "      <td>0</td>\n",
       "      <td>0</td>\n",
       "      <td>0</td>\n",
       "      <td>0</td>\n",
       "      <td>0</td>\n",
       "      <td>No</td>\n",
       "    </tr>\n",
       "    <tr>\n",
       "      <th>2</th>\n",
       "      <td>F</td>\n",
       "      <td>2016-04-29T16:19:04Z</td>\n",
       "      <td>2016-04-29T00:00:00Z</td>\n",
       "      <td>62</td>\n",
       "      <td>MATA DA PRAIA</td>\n",
       "      <td>0</td>\n",
       "      <td>0</td>\n",
       "      <td>0</td>\n",
       "      <td>0</td>\n",
       "      <td>0</td>\n",
       "      <td>0</td>\n",
       "      <td>No</td>\n",
       "    </tr>\n",
       "    <tr>\n",
       "      <th>3</th>\n",
       "      <td>F</td>\n",
       "      <td>2016-04-29T17:29:31Z</td>\n",
       "      <td>2016-04-29T00:00:00Z</td>\n",
       "      <td>8</td>\n",
       "      <td>PONTAL DE CAMBURI</td>\n",
       "      <td>0</td>\n",
       "      <td>0</td>\n",
       "      <td>0</td>\n",
       "      <td>0</td>\n",
       "      <td>0</td>\n",
       "      <td>0</td>\n",
       "      <td>No</td>\n",
       "    </tr>\n",
       "    <tr>\n",
       "      <th>4</th>\n",
       "      <td>F</td>\n",
       "      <td>2016-04-29T16:07:23Z</td>\n",
       "      <td>2016-04-29T00:00:00Z</td>\n",
       "      <td>56</td>\n",
       "      <td>JARDIM DA PENHA</td>\n",
       "      <td>0</td>\n",
       "      <td>1</td>\n",
       "      <td>1</td>\n",
       "      <td>0</td>\n",
       "      <td>0</td>\n",
       "      <td>0</td>\n",
       "      <td>No</td>\n",
       "    </tr>\n",
       "  </tbody>\n",
       "</table>\n",
       "</div>"
      ],
      "text/plain": [
       "  gender          scheduledday        appointmentday  age      neighbourhood  \\\n",
       "0      F  2016-04-29T18:38:08Z  2016-04-29T00:00:00Z   62    JARDIM DA PENHA   \n",
       "1      M  2016-04-29T16:08:27Z  2016-04-29T00:00:00Z   56    JARDIM DA PENHA   \n",
       "2      F  2016-04-29T16:19:04Z  2016-04-29T00:00:00Z   62      MATA DA PRAIA   \n",
       "3      F  2016-04-29T17:29:31Z  2016-04-29T00:00:00Z    8  PONTAL DE CAMBURI   \n",
       "4      F  2016-04-29T16:07:23Z  2016-04-29T00:00:00Z   56    JARDIM DA PENHA   \n",
       "\n",
       "   scholarship  hipertension  diabetes  alcoholism  handcap  sms_received  \\\n",
       "0            0             1         0           0        0             0   \n",
       "1            0             0         0           0        0             0   \n",
       "2            0             0         0           0        0             0   \n",
       "3            0             0         0           0        0             0   \n",
       "4            0             1         1           0        0             0   \n",
       "\n",
       "  no-show  \n",
       "0      No  \n",
       "1      No  \n",
       "2      No  \n",
       "3      No  \n",
       "4      No  "
      ]
     },
     "execution_count": 5,
     "metadata": {},
     "output_type": "execute_result"
    }
   ],
   "source": [
    "df.drop(['patientid','appointmentid'], axis = 1, inplace = True)\n",
    "df.head()"
   ]
  },
  {
   "cell_type": "markdown",
   "metadata": {},
   "source": [
    "#### Here we will highlight general information related to the shape and description of the data.<br>\n",
    "Note: the data types of  **'scheduledday'** and  **'appointmentday'** need some adjustments.<br>\n",
    "##### Good news: No null values !"
   ]
  },
  {
   "cell_type": "code",
   "execution_count": 6,
   "metadata": {},
   "outputs": [
    {
     "name": "stdout",
     "output_type": "stream",
     "text": [
      "<class 'pandas.core.frame.DataFrame'>\n",
      "RangeIndex: 110527 entries, 0 to 110526\n",
      "Data columns (total 12 columns):\n",
      " #   Column          Non-Null Count   Dtype \n",
      "---  ------          --------------   ----- \n",
      " 0   gender          110527 non-null  object\n",
      " 1   scheduledday    110527 non-null  object\n",
      " 2   appointmentday  110527 non-null  object\n",
      " 3   age             110527 non-null  int64 \n",
      " 4   neighbourhood   110527 non-null  object\n",
      " 5   scholarship     110527 non-null  int64 \n",
      " 6   hipertension    110527 non-null  int64 \n",
      " 7   diabetes        110527 non-null  int64 \n",
      " 8   alcoholism      110527 non-null  int64 \n",
      " 9   handcap         110527 non-null  int64 \n",
      " 10  sms_received    110527 non-null  int64 \n",
      " 11  no-show         110527 non-null  object\n",
      "dtypes: int64(7), object(5)\n",
      "memory usage: 10.1+ MB\n"
     ]
    }
   ],
   "source": [
    "df.info()"
   ]
  },
  {
   "cell_type": "markdown",
   "metadata": {},
   "source": [
    "#### Lets pose a general view on the data."
   ]
  },
  {
   "cell_type": "code",
   "execution_count": 7,
   "metadata": {},
   "outputs": [
    {
     "data": {
      "text/html": [
       "<div>\n",
       "<style scoped>\n",
       "    .dataframe tbody tr th:only-of-type {\n",
       "        vertical-align: middle;\n",
       "    }\n",
       "\n",
       "    .dataframe tbody tr th {\n",
       "        vertical-align: top;\n",
       "    }\n",
       "\n",
       "    .dataframe thead th {\n",
       "        text-align: right;\n",
       "    }\n",
       "</style>\n",
       "<table border=\"1\" class=\"dataframe\">\n",
       "  <thead>\n",
       "    <tr style=\"text-align: right;\">\n",
       "      <th></th>\n",
       "      <th>age</th>\n",
       "      <th>scholarship</th>\n",
       "      <th>hipertension</th>\n",
       "      <th>diabetes</th>\n",
       "      <th>alcoholism</th>\n",
       "      <th>handcap</th>\n",
       "      <th>sms_received</th>\n",
       "    </tr>\n",
       "  </thead>\n",
       "  <tbody>\n",
       "    <tr>\n",
       "      <th>count</th>\n",
       "      <td>110527.000000</td>\n",
       "      <td>110527.000000</td>\n",
       "      <td>110527.000000</td>\n",
       "      <td>110527.000000</td>\n",
       "      <td>110527.000000</td>\n",
       "      <td>110527.000000</td>\n",
       "      <td>110527.000000</td>\n",
       "    </tr>\n",
       "    <tr>\n",
       "      <th>mean</th>\n",
       "      <td>37.088874</td>\n",
       "      <td>0.098266</td>\n",
       "      <td>0.197246</td>\n",
       "      <td>0.071865</td>\n",
       "      <td>0.030400</td>\n",
       "      <td>0.022248</td>\n",
       "      <td>0.321026</td>\n",
       "    </tr>\n",
       "    <tr>\n",
       "      <th>std</th>\n",
       "      <td>23.110205</td>\n",
       "      <td>0.297675</td>\n",
       "      <td>0.397921</td>\n",
       "      <td>0.258265</td>\n",
       "      <td>0.171686</td>\n",
       "      <td>0.161543</td>\n",
       "      <td>0.466873</td>\n",
       "    </tr>\n",
       "    <tr>\n",
       "      <th>min</th>\n",
       "      <td>-1.000000</td>\n",
       "      <td>0.000000</td>\n",
       "      <td>0.000000</td>\n",
       "      <td>0.000000</td>\n",
       "      <td>0.000000</td>\n",
       "      <td>0.000000</td>\n",
       "      <td>0.000000</td>\n",
       "    </tr>\n",
       "    <tr>\n",
       "      <th>25%</th>\n",
       "      <td>18.000000</td>\n",
       "      <td>0.000000</td>\n",
       "      <td>0.000000</td>\n",
       "      <td>0.000000</td>\n",
       "      <td>0.000000</td>\n",
       "      <td>0.000000</td>\n",
       "      <td>0.000000</td>\n",
       "    </tr>\n",
       "    <tr>\n",
       "      <th>50%</th>\n",
       "      <td>37.000000</td>\n",
       "      <td>0.000000</td>\n",
       "      <td>0.000000</td>\n",
       "      <td>0.000000</td>\n",
       "      <td>0.000000</td>\n",
       "      <td>0.000000</td>\n",
       "      <td>0.000000</td>\n",
       "    </tr>\n",
       "    <tr>\n",
       "      <th>75%</th>\n",
       "      <td>55.000000</td>\n",
       "      <td>0.000000</td>\n",
       "      <td>0.000000</td>\n",
       "      <td>0.000000</td>\n",
       "      <td>0.000000</td>\n",
       "      <td>0.000000</td>\n",
       "      <td>1.000000</td>\n",
       "    </tr>\n",
       "    <tr>\n",
       "      <th>max</th>\n",
       "      <td>115.000000</td>\n",
       "      <td>1.000000</td>\n",
       "      <td>1.000000</td>\n",
       "      <td>1.000000</td>\n",
       "      <td>1.000000</td>\n",
       "      <td>4.000000</td>\n",
       "      <td>1.000000</td>\n",
       "    </tr>\n",
       "  </tbody>\n",
       "</table>\n",
       "</div>"
      ],
      "text/plain": [
       "                 age    scholarship   hipertension       diabetes  \\\n",
       "count  110527.000000  110527.000000  110527.000000  110527.000000   \n",
       "mean       37.088874       0.098266       0.197246       0.071865   \n",
       "std        23.110205       0.297675       0.397921       0.258265   \n",
       "min        -1.000000       0.000000       0.000000       0.000000   \n",
       "25%        18.000000       0.000000       0.000000       0.000000   \n",
       "50%        37.000000       0.000000       0.000000       0.000000   \n",
       "75%        55.000000       0.000000       0.000000       0.000000   \n",
       "max       115.000000       1.000000       1.000000       1.000000   \n",
       "\n",
       "          alcoholism        handcap   sms_received  \n",
       "count  110527.000000  110527.000000  110527.000000  \n",
       "mean        0.030400       0.022248       0.321026  \n",
       "std         0.171686       0.161543       0.466873  \n",
       "min         0.000000       0.000000       0.000000  \n",
       "25%         0.000000       0.000000       0.000000  \n",
       "50%         0.000000       0.000000       0.000000  \n",
       "75%         0.000000       0.000000       1.000000  \n",
       "max         1.000000       4.000000       1.000000  "
      ]
     },
     "execution_count": 7,
     "metadata": {},
     "output_type": "execute_result"
    }
   ],
   "source": [
    "df.describe()"
   ]
  },
  {
   "cell_type": "code",
   "execution_count": 8,
   "metadata": {},
   "outputs": [
    {
     "data": {
      "text/plain": [
       "(110527, 12)"
      ]
     },
     "execution_count": 8,
     "metadata": {},
     "output_type": "execute_result"
    }
   ],
   "source": [
    "df.shape"
   ]
  },
  {
   "cell_type": "markdown",
   "metadata": {},
   "source": [
    "### Data Cleaning"
   ]
  },
  {
   "cell_type": "markdown",
   "metadata": {},
   "source": [
    "#### 1- Fixing (or removing) errors and adjusting data types"
   ]
  },
  {
   "cell_type": "markdown",
   "metadata": {
    "collapsed": true
   },
   "source": [
    "From the table above, we notice the **'min'** variable indicating presence of **'age' of value -1**, which is impossible of course"
   ]
  },
  {
   "cell_type": "code",
   "execution_count": 9,
   "metadata": {},
   "outputs": [
    {
     "data": {
      "text/plain": [
       "Int64Index([99832], dtype='int64')"
      ]
     },
     "execution_count": 9,
     "metadata": {},
     "output_type": "execute_result"
    }
   ],
   "source": [
    "df_agez = df[df['age']< 0].index\n",
    "df_agez"
   ]
  },
  {
   "cell_type": "markdown",
   "metadata": {},
   "source": [
    "Fortunately, only one row has a negative value of **'age'**, so its preferable to be removed."
   ]
  },
  {
   "cell_type": "code",
   "execution_count": 10,
   "metadata": {},
   "outputs": [
    {
     "name": "stdout",
     "output_type": "stream",
     "text": [
      "<class 'pandas.core.frame.DataFrame'>\n",
      "Int64Index: 110526 entries, 0 to 110526\n",
      "Data columns (total 12 columns):\n",
      " #   Column          Non-Null Count   Dtype \n",
      "---  ------          --------------   ----- \n",
      " 0   gender          110526 non-null  object\n",
      " 1   scheduledday    110526 non-null  object\n",
      " 2   appointmentday  110526 non-null  object\n",
      " 3   age             110526 non-null  int64 \n",
      " 4   neighbourhood   110526 non-null  object\n",
      " 5   scholarship     110526 non-null  int64 \n",
      " 6   hipertension    110526 non-null  int64 \n",
      " 7   diabetes        110526 non-null  int64 \n",
      " 8   alcoholism      110526 non-null  int64 \n",
      " 9   handcap         110526 non-null  int64 \n",
      " 10  sms_received    110526 non-null  int64 \n",
      " 11  no-show         110526 non-null  object\n",
      "dtypes: int64(7), object(5)\n",
      "memory usage: 11.0+ MB\n"
     ]
    }
   ],
   "source": [
    "df.drop(df_agez, inplace = True)\n",
    "df.info()"
   ]
  },
  {
   "cell_type": "markdown",
   "metadata": {},
   "source": [
    "#### 2- Convert **'scheduledday'** and **'appointmentday'** data type to timestamp"
   ]
  },
  {
   "cell_type": "code",
   "execution_count": 11,
   "metadata": {},
   "outputs": [],
   "source": [
    "import datetime\n",
    "df['appointmentday'] = df['appointmentday'].str.replace('T', ' ').str.replace('Z', '')\n",
    "df['scheduledday'] = df['scheduledday'].str.replace('T', ' ').str.replace('Z', '')\n",
    "df['scheduledday'] = pd.to_datetime(df['scheduledday'])\n",
    "df['appointmentday'] = pd.to_datetime(df['appointmentday'])"
   ]
  },
  {
   "cell_type": "markdown",
   "metadata": {},
   "source": [
    "#### 3- Removal of inappropriate values in 'handcap' column\n",
    "Values in this column should de True or False only."
   ]
  },
  {
   "cell_type": "code",
   "execution_count": 30,
   "metadata": {},
   "outputs": [
    {
     "name": "stdout",
     "output_type": "stream",
     "text": [
      "<class 'pandas.core.frame.DataFrame'>\n",
      "Int64Index: 110327 entries, 0 to 110526\n",
      "Data columns (total 12 columns):\n",
      " #   Column          Non-Null Count   Dtype         \n",
      "---  ------          --------------   -----         \n",
      " 0   gender          110327 non-null  object        \n",
      " 1   scheduledday    110327 non-null  datetime64[ns]\n",
      " 2   appointmentday  110327 non-null  datetime64[ns]\n",
      " 3   age             110327 non-null  int64         \n",
      " 4   neighbourhood   110327 non-null  object        \n",
      " 5   scholarship     110327 non-null  int64         \n",
      " 6   hipertension    110327 non-null  int64         \n",
      " 7   diabetes        110327 non-null  int64         \n",
      " 8   alcoholism      110327 non-null  int64         \n",
      " 9   handcap         110327 non-null  int64         \n",
      " 10  sms_received    110327 non-null  int64         \n",
      " 11  no-show         110327 non-null  object        \n",
      "dtypes: datetime64[ns](2), int64(7), object(3)\n",
      "memory usage: 10.9+ MB\n",
      "None\n"
     ]
    }
   ],
   "source": [
    "hnd_err = df[df['handcap']>1].index\n",
    "df.drop(hnd_err, inplace = True)\n",
    "print(df.info())"
   ]
  },
  {
   "cell_type": "markdown",
   "metadata": {},
   "source": [
    "<a id='eda'></a>\n",
    "## Exploratory Data Analysis\n",
    "\n",
    "\n",
    "### Q1: What's the attendance percntage?"
   ]
  },
  {
   "cell_type": "code",
   "execution_count": 13,
   "metadata": {},
   "outputs": [
    {
     "name": "stdout",
     "output_type": "stream",
     "text": [
      "79.81% of patients attended the appointments,\n",
      "while 20.19% didnt.\n"
     ]
    },
    {
     "data": {
      "image/png": "[encoded data removed]",
      "text/plain": [
       "<Figure size 432x288 with 1 Axes>"
      ]
     },
     "metadata": {
      "needs_background": "light"
     },
     "output_type": "display_data"
    }
   ],
   "source": [
    "attd = df['no-show'].value_counts()[0]\n",
    "not_att = df['no-show'].value_counts()[1]\n",
    "totl_pt = df['no-show'].value_counts().sum()\n",
    "df['no-show'].value_counts().plot(kind='bar',alpha=0.5, color= 'red', label='Who attended and who didnt')\n",
    "print('{}% of patients attended the appointments,\\nwhile {}% didnt.'.format(round(attd/totl_pt*100,2), round(not_att/totl_pt*100,2)))"
   ]
  },
  {
   "cell_type": "markdown",
   "metadata": {},
   "source": [
    "We will divide the data to 2 dataframes: Who attended the appointments and who didn't, for future use."
   ]
  },
  {
   "cell_type": "code",
   "execution_count": 14,
   "metadata": {},
   "outputs": [],
   "source": [
    "no_df = df[df['no-show']=='No']\n",
    "yes_df = df[df['no-show']=='Yes']"
   ]
  },
  {
   "cell_type": "markdown",
   "metadata": {},
   "source": [
    "### Q2: Does the attendance of the appointments related to gender? and what is the ratio of attendance of each gender?\n",
    "\n",
    "The data will be divided again to 2 dataframes: Female patients and male patients."
   ]
  },
  {
   "cell_type": "code",
   "execution_count": 15,
   "metadata": {},
   "outputs": [],
   "source": [
    "fem_df = df[df['gender']=='F']\n",
    "male_df = df[df['gender']=='M']"
   ]
  },
  {
   "cell_type": "markdown",
   "metadata": {},
   "source": [
    "Next, we will estimate the percentage of female patients generally, then attendance percentage of each gender."
   ]
  },
  {
   "cell_type": "code",
   "execution_count": 16,
   "metadata": {},
   "outputs": [
    {
     "name": "stdout",
     "output_type": "stream",
     "text": [
      "65.02% of patients are females, while 34.98% are males.\n",
      "79.69% of total females attended their appointments, while 80.02% of total male patients attended theirs.\n"
     ]
    },
    {
     "data": {
      "image/png": "[encoded data removed]",
      "text/plain": [
       "<Figure size 432x288 with 1 Axes>"
      ]
     },
     "metadata": {
      "needs_background": "light"
     },
     "output_type": "display_data"
    }
   ],
   "source": [
    "fem_p = round(df.gender.value_counts()[0]/df.gender.value_counts().sum()*100,2)\n",
    "male_p = round(df.gender.value_counts()[1]/df.gender.value_counts().sum()*100,2)\n",
    "fem_att = round(no_df.gender.value_counts()[0]/df.gender.value_counts()[0]*100,2)\n",
    "male_att = round(no_df.gender.value_counts()[1]/df.gender.value_counts()[1]*100,2)\n",
    "\n",
    "yes_df.groupby(['gender'])['age'].count().plot(kind='bar',alpha=0.5, color= 'blue', label='Didnt show')\n",
    "no_df.groupby(['gender'])['age'].count().plot(kind='bar',alpha=0.5, color= 'orange', label='Showed')\n",
    "plt.legend();\n",
    "print('{}% of patients are females, while {}% are males.'.format(fem_p,male_p))\n",
    "print('{}% of total females attended their appointments, while {}% of total male patients attended theirs.'.format(fem_att,male_att))"
   ]
  },
  {
   "cell_type": "markdown",
   "metadata": {},
   "source": [
    "Females represent more than 65% of total patients, but the attendance precentage is nearly the same in both genders"
   ]
  },
  {
   "cell_type": "markdown",
   "metadata": {},
   "source": [
    "### Q3: Is there any difference in mean of ages between showed and no-showed patients? Did this difference impact the attendance percentage? Is there any difference between mean of ages of males and females?"
   ]
  },
  {
   "cell_type": "code",
   "execution_count": 17,
   "metadata": {},
   "outputs": [
    {
     "name": "stdout",
     "output_type": "stream",
     "text": [
      "The mean of ages of attended people is 37.78 years, while 34.28 years in case of who didn't.\n"
     ]
    },
    {
     "data": {
      "image/png": "[encoded data removed]",
      "text/plain": [
       "<Figure size 432x288 with 1 Axes>"
      ]
     },
     "metadata": {
      "needs_background": "light"
     },
     "output_type": "display_data"
    }
   ],
   "source": [
    "m_age_n = no_df.age.mean()\n",
    "m_age_y = yes_df.age.mean()\n",
    "plt.bar(['Mean age of showed','Mean age of no-showed'],[m_age_n,m_age_y]);\n",
    "plt.title('Comparison between the mean of ages of people who attended the appointments against who didnt');\n",
    "plt.xlabel('Age');\n",
    "plt.ylabel('Number of people');\n",
    "print(\"The mean of ages of attended people is {} years, while {} years in case of who didn't.\".format(round(m_age_n,2),round(m_age_y,2)))"
   ]
  },
  {
   "cell_type": "markdown",
   "metadata": {},
   "source": [
    "#### The next graph shows the comparison between mean of ages of males and females in both cases: the show and the no-show."
   ]
  },
  {
   "cell_type": "code",
   "execution_count": 18,
   "metadata": {},
   "outputs": [
    {
     "data": {
      "image/png": "[encoded data removed]",
      "text/plain": [
       "<Figure size 720x432 with 2 Axes>"
      ]
     },
     "metadata": {
      "needs_background": "light"
     },
     "output_type": "display_data"
    }
   ],
   "source": [
    "mean_shd = no_df.groupby(['gender']).age.mean()\n",
    "mean_notshd = yes_df.groupby(['gender']).age.mean()\n",
    "fig, (ms, mn) = plt.subplots(1, 2, figsize=(10, 6))\n",
    "ms.bar(['Females','Males'],mean_shd,\n",
    "       color = 'cyan')\n",
    "ms.set(title = \"Comparison between Mean of ages\\nbetween attendant females and males\",\n",
    "       xlabel = \"Gender\",\n",
    "       ylabel = \"Mean of ages\");\n",
    "ms.set_ylim([0, 45])\n",
    "mn.bar(['Females','Males'],mean_notshd,\n",
    "        color = 'red')\n",
    "mn.set(title = \"Comparison between Mean of ages\\nbetween non-attendant females and males\",\n",
    "       xlabel = \"Gender\",\n",
    "       ylabel = \"Mean of ages\");\n",
    "mn.set_ylim([0, 45])\n",
    "for ax in fig.get_axes():\n",
    "    ax.label_outer()\n",
    "plt.show()"
   ]
  },
  {
   "cell_type": "markdown",
   "metadata": {},
   "source": [
    "We notice the slight increase in mean of ages in case of attendant patients more than non-attendant. We also notice increase in mean of ages for females in both cases.\n",
    "\n",
    "#### Lets plot the age against the number of appointments to see if there is any correlation between those variables."
   ]
  },
  {
   "cell_type": "code",
   "execution_count": 19,
   "metadata": {
    "scrolled": true
   },
   "outputs": [
    {
     "data": {
      "image/png": "[encoded data removed]",
      "text/plain": [
       "<Figure size 432x288 with 1 Axes>"
      ]
     },
     "metadata": {
      "needs_background": "light"
     },
     "output_type": "display_data"
    }
   ],
   "source": [
    "age_f = round(df['age'].value_counts().sort_index()/df['age'].value_counts().sum()*100,3)\n",
    "age_fyp = round(yes_df['age'].value_counts().sort_index()/yes_df['age'].value_counts().sum()*100,3)\n",
    "age_fnp = round(no_df['age'].value_counts().sort_index()/no_df['age'].value_counts().sum()*100,3)\n",
    "plt.plot(age_f.index, age_f);\n",
    "plt.title('Percentage of scheduled appointments per age');\n",
    "plt.xlabel('Age (years)');\n",
    "plt.ylabel('Percentage of scheduled appointment(%)');\n",
    "plt.xticks(ticks=range(0,120,10));\n"
   ]
  },
  {
   "cell_type": "code",
   "execution_count": 20,
   "metadata": {},
   "outputs": [
    {
     "data": {
      "image/png": "[encoded data removed]",
      "text/plain": [
       "<Figure size 1080x432 with 2 Axes>"
      ]
     },
     "metadata": {
      "needs_background": "light"
     },
     "output_type": "display_data"
    }
   ],
   "source": [
    "fig, (yp, np) = plt.subplots(1, 2, figsize=(15, 6))\n",
    "yp.plot(age_fyp,\n",
    "       color = 'cyan')\n",
    "yp.set(title = \"Non-attendance percentage against age '%'\",\n",
    "       xlabel = \"Age\",\n",
    "       ylabel = \"Percentage of non-attendance\");\n",
    "yp.set_ylim([0, 4])\n",
    "np.plot(age_fnp,\n",
    "       color = 'orange')\n",
    "np.set(title = \"Attendance percentage against age '%'\",\n",
    "       xlabel = \"Age\",\n",
    "       ylabel = \"Percentage of attendance\");\n",
    "np.set_ylim([0, 4])\n",
    "\n",
    "plt.show()"
   ]
  },
  {
   "cell_type": "markdown",
   "metadata": {},
   "source": [
    "### Q4: Does receiving SMSs for the appointments impact the attendance of patients?"
   ]
  },
  {
   "cell_type": "markdown",
   "metadata": {},
   "source": [
    "#### First, a function should be done for the next variable assessments to avoid code repetition:"
   ]
  },
  {
   "cell_type": "code",
   "execution_count": 21,
   "metadata": {},
   "outputs": [],
   "source": [
    "def comp_data(vcol):\n",
    "    if vcol == 'sms_received':\n",
    "        v1 = 'Recieved SMSs'\n",
    "        v2 = 'Didnt recieve'\n",
    "    elif vcol == 'scholarship':\n",
    "        v1 = 'Recieved Bolsa Família'\n",
    "        v2 = 'Didnt recieve Bolsa Família'\n",
    "    elif vcol == 'hipertension':\n",
    "        v1 = 'Hypertensive'\n",
    "        v2 = 'Not Hypertensive'\n",
    "    elif vcol == 'diabetes':\n",
    "        v1 = 'Diabetic'\n",
    "        v2 = 'Not Diabetic'\n",
    "    elif vcol == 'alcoholism':\n",
    "        v1 = 'ALcoholic'\n",
    "        v2 = 'Not ALcoholic'\n",
    "    elif vcol == 'handcap':\n",
    "        v1 = 'Handicapped'\n",
    "        v2 = 'Not Handicapped'\n",
    "            \n",
    "    no_r = no_df[vcol].value_counts()/no_df[vcol].value_counts().sum()\n",
    "    yes_r = yes_df[vcol].value_counts()/yes_df[vcol].value_counts().sum()\n",
    "    \n",
    "    no_r.plot(kind='bar',alpha=0.5, color= 'blue', label='showed');\n",
    "    yes_r.plot(kind='bar',alpha=0.5, color= 'orange', label='Didnt show').set_xticklabels([v2, v1], rotation='horizontal');\n",
    "    plt.legend()\n",
    "    \n",
    "    print('People who attended: \\n {}: {}%\\n {}: {}%'.format(v1,round(no_r[1]*100,2),v2,round(no_r[0]*100,2)))\n",
    "    print('\\n')\n",
    "    print('People who didnt attend: \\n {}: {}%\\n {}: {}%'.format(v1,round(yes_r[1]*100,2),v2,round(yes_r[0]*100,2)))\n",
    "    print('\\n')\n",
    "    print('{}% of patients overall {}.'.format(round(df[vcol].value_counts()[1]/df[vcol].value_counts().sum()*100,2),v1))"
   ]
  },
  {
   "cell_type": "markdown",
   "metadata": {},
   "source": [
    "Lets see the graph below:"
   ]
  },
  {
   "cell_type": "code",
   "execution_count": 22,
   "metadata": {},
   "outputs": [
    {
     "name": "stdout",
     "output_type": "stream",
     "text": [
      "People who attended: \n",
      " Recieved SMSs: 29.14%\n",
      " Didnt recieve: 70.86%\n",
      "\n",
      "\n",
      "People who didnt attend: \n",
      " Recieved SMSs: 43.88%\n",
      " Didnt recieve: 56.12%\n",
      "\n",
      "\n",
      "32.12% of patients overall Recieved SMSs.\n"
     ]
    },
    {
     "data": {
      "image/png": "[encoded data removed]",
      "text/plain": [
       "<Figure size 432x288 with 1 Axes>"
      ]
     },
     "metadata": {
      "needs_background": "light"
     },
     "output_type": "display_data"
    }
   ],
   "source": [
    "comp_data('sms_received')"
   ]
  },
  {
   "cell_type": "markdown",
   "metadata": {},
   "source": [
    "### Q5: What is the impact of receiving Bolsa Família on attending the appointments?"
   ]
  },
  {
   "cell_type": "code",
   "execution_count": 23,
   "metadata": {},
   "outputs": [
    {
     "name": "stdout",
     "output_type": "stream",
     "text": [
      "People who attended: \n",
      " Recieved Bolsa Família: 9.39%\n",
      " Didnt recieve Bolsa Família: 90.61%\n",
      "\n",
      "\n",
      "People who didnt attend: \n",
      " Recieved Bolsa Família: 11.57%\n",
      " Didnt recieve Bolsa Família: 88.43%\n",
      "\n",
      "\n",
      "9.83% of patients overall Recieved Bolsa Família.\n"
     ]
    },
    {
     "data": {
      "image/png": "[encoded data removed]",
      "text/plain": [
       "<Figure size 432x288 with 1 Axes>"
      ]
     },
     "metadata": {
      "needs_background": "light"
     },
     "output_type": "display_data"
    }
   ],
   "source": [
    "comp_data('scholarship')"
   ]
  },
  {
   "cell_type": "markdown",
   "metadata": {},
   "source": [
    "### Q6: What is the impact of being handicapped on attendance of appointments?"
   ]
  },
  {
   "cell_type": "code",
   "execution_count": 24,
   "metadata": {},
   "outputs": [
    {
     "name": "stdout",
     "output_type": "stream",
     "text": [
      "People who attended: \n",
      " Handicapped: 1.9%\n",
      " Not Handicapped: 98.1%\n",
      "\n",
      "\n",
      "People who didnt attend: \n",
      " Handicapped: 1.64%\n",
      " Not Handicapped: 98.36%\n",
      "\n",
      "\n",
      "1.85% of patients overall Handicapped.\n"
     ]
    },
    {
     "data": {
      "image/png": "[encoded data removed]",
      "text/plain": [
       "<Figure size 432x288 with 1 Axes>"
      ]
     },
     "metadata": {
      "needs_background": "light"
     },
     "output_type": "display_data"
    }
   ],
   "source": [
    "comp_data('handcap')"
   ]
  },
  {
   "cell_type": "markdown",
   "metadata": {},
   "source": [
    "### Q7: What is the impact of being hypertensive on patients attendance?"
   ]
  },
  {
   "cell_type": "code",
   "execution_count": 25,
   "metadata": {},
   "outputs": [
    {
     "name": "stdout",
     "output_type": "stream",
     "text": [
      "People who attended: \n",
      " Hypertensive: 20.41%\n",
      " Not Hypertensive: 79.59%\n",
      "\n",
      "\n",
      "People who didnt attend: \n",
      " Hypertensive: 16.82%\n",
      " Not Hypertensive: 83.18%\n",
      "\n",
      "\n",
      "19.68% of patients overall Hypertensive.\n"
     ]
    },
    {
     "data": {
      "image/png": "[encoded data removed]",
      "text/plain": [
       "<Figure size 432x288 with 1 Axes>"
      ]
     },
     "metadata": {
      "needs_background": "light"
     },
     "output_type": "display_data"
    }
   ],
   "source": [
    "comp_data('hipertension')"
   ]
  },
  {
   "cell_type": "markdown",
   "metadata": {},
   "source": [
    "### Q8: What is the impact of being Diabetic on patients attendance?"
   ]
  },
  {
   "cell_type": "code",
   "execution_count": 26,
   "metadata": {},
   "outputs": [
    {
     "name": "stdout",
     "output_type": "stream",
     "text": [
      "People who attended: \n",
      " Diabetic: 7.36%\n",
      " Not Diabetic: 92.64%\n",
      "\n",
      "\n",
      "People who didnt attend: \n",
      " Diabetic: 6.38%\n",
      " Not Diabetic: 93.62%\n",
      "\n",
      "\n",
      "7.16% of patients overall Diabetic.\n"
     ]
    },
    {
     "data": {
      "image/png": "[encoded data removed]",
      "text/plain": [
       "<Figure size 432x288 with 1 Axes>"
      ]
     },
     "metadata": {
      "needs_background": "light"
     },
     "output_type": "display_data"
    }
   ],
   "source": [
    "comp_data('diabetes')"
   ]
  },
  {
   "cell_type": "markdown",
   "metadata": {},
   "source": [
    "### Q9: What is the impact of being Alcoholic on patients attendance?"
   ]
  },
  {
   "cell_type": "code",
   "execution_count": 27,
   "metadata": {},
   "outputs": [
    {
     "name": "stdout",
     "output_type": "stream",
     "text": [
      "People who attended: \n",
      " ALcoholic: 3.04%\n",
      " Not ALcoholic: 96.96%\n",
      "\n",
      "\n",
      "People who didnt attend: \n",
      " ALcoholic: 3.03%\n",
      " Not ALcoholic: 96.97%\n",
      "\n",
      "\n",
      "3.04% of patients overall ALcoholic.\n"
     ]
    },
    {
     "data": {
      "image/png": "[encoded data removed]",
      "text/plain": [
       "<Figure size 432x288 with 1 Axes>"
      ]
     },
     "metadata": {
      "needs_background": "light"
     },
     "output_type": "display_data"
    }
   ],
   "source": [
    "comp_data('alcoholism')"
   ]
  },
  {
   "cell_type": "markdown",
   "metadata": {},
   "source": [
    "### Q10: Does the appointment day affect the attendance?"
   ]
  },
  {
   "cell_type": "code",
   "execution_count": 28,
   "metadata": {},
   "outputs": [
    {
     "data": {
      "image/png": "[encoded data removed]",
      "text/plain": [
       "<Figure size 1440x432 with 2 Axes>"
      ]
     },
     "metadata": {
      "needs_background": "light"
     },
     "output_type": "display_data"
    }
   ],
   "source": [
    "yes_d = yes_df.appointmentday.dt.day.value_counts().sort_index()\n",
    "no_d = no_df.appointmentday.dt.day.value_counts().sort_index()\n",
    "fig, (yd, nd) = plt.subplots(1, 2, figsize=(20, 6))\n",
    "yd.plot(yes_d.index,yes_d,\n",
    "       color = 'blue')\n",
    "yd.set(title = \"Appointment days of non-attending\",\n",
    "       xlabel = \"Day\",\n",
    "       ylabel = \"Number of patients\");\n",
    "\n",
    "nd.plot(no_d.index,no_d,\n",
    "       color = 'orange')\n",
    "nd.set(title = \"Appointment days of attending\",\n",
    "       xlabel = \"Day\",\n",
    "       ylabel = \"Number of patients\");\n",
    "\n",
    "\n",
    "plt.show()"
   ]
  },
  {
   "cell_type": "markdown",
   "metadata": {},
   "source": [
    "<a id='conclusions'></a>\n",
    "## Conclusions\n",
    "\n",
    "1- Nearly **80%** of patients **attended** their appointments, which is considered a good indication of **high concern about health** and keen to maintain healthy life.\n",
    "\n",
    "2- **Females** represent more than **65%** of **total number** of patients, which may be indicative of **higher concern about health in females** more than males. However, the attendance percentage of both genders are nearly equal.\n",
    "\n",
    "3- **Attended** patients have **higher mean of ages** than who didn't attend. We may conclude that people of higher age are more willing to attend their appointments. We found also than mean of ages of females is slightly higher than males, but the significance of these findings needs more data about ages of general population in Brazil.\n",
    "\n",
    "4- **Higher percentage of attendance** was noticed at patients whose **ages below 2 years**, which indicates more concern about the health of children below 2 years old.\n",
    "\n",
    "5- **Receiving SMSs** appears to **negatively correlates** with the **attendance** percentage! Only 29% of patient received SMSs attended their appointments, while nearly 44% of those who didn't receive SMSs attended theirs.\n",
    "\n",
    "6- Only 9.39% of attended patients received Bolsa Família, while 11.57% of non-attendant patients received it. Although there is a slight difference, but there may be a **low negative correlation** between **receiving Bolsa Família** and **attendance**.\n",
    "\n",
    "7- 20.41% of attendant patients are hypertensive, while 16.82% in non-attendants. This may be indicative of a **positive correlation** between being **hypertensive** and **attendance** of the appointmanets.\n",
    "\n",
    "8- **No or minimal correlation** found between being **diabetic, alcoholic, or handicapped** and **attendance** of the appointments.\n",
    "\n",
    "9- **No relative difference** between the ratio of **attended** appointments **and non attended** appointments **per each day** of the month. So, it's probable than there is no correlation between the appointment day and attendance.\n",
    "\n",
    "#### limitations noticed in the data:\n",
    "\n",
    "Not showing at the appointment is usually dependant on other not mentioned factors, like the distance between the residence and the appointment location, denisty of patients at the location (which may hinder the patient from attending or make them consider not to come), or their actual financial status (not known if receiving Bolsa Familia is a reflection of it). So, while those variables in the dataset may affect attendance, there are more prominant factors of more effect on 'No-show'."
   ]
  },
  {
   "cell_type": "code",
   "execution_count": null,
   "metadata": {},
   "outputs": [],
   "source": []
  }
 ],
 "metadata": {
  "kernelspec": {
   "display_name": "Python 3 (ipykernel)",
   "language": "python",
   "name": "python3"
  },
  "language_info": {
   "codemirror_mode": {
    "name": "ipython",
    "version": 3
   },
   "file_extension": ".py",
   "mimetype": "text/x-python",
   "name": "python",
   "nbconvert_exporter": "python",
   "pygments_lexer": "ipython3",
   "version": "3.9.12"
  }
 },
 "nbformat": 4,
 "nbformat_minor": 2
}
