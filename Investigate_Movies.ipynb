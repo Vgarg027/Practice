{
 "cells": [
  {
   "cell_type": "markdown",
   "id": "3bf3bf5f",
   "metadata": {},
   "source": [
    "# Investigate _ Imdb movies dataset"
   ]
  },
  {
   "cell_type": "markdown",
   "id": "7a070039",
   "metadata": {},
   "source": [
    "## Introduction:\n",
    "##### In this project we will go to explore what factors have an effect on vote average ,and descripe relationships between variables\n",
    "\n",
    "#### This project aims to answer some questions to explain and discover the relationships between variables and to find out what \n",
    "#### factors affect voting some of these questions are :\n",
    "#### Q1: Does the budget factor have an effect on the vote average?\n",
    "#### َََQ2: Do high-rated movies have more revenue than low-rated movies?\n",
    "#### Q3: Does the popularity factor have an effect on vote average and vote count ?\n",
    "#### Q4: Is there a relationship between (Vote average & Popularity) (vote average & vote count) ( popularity & vote count) ?\n",
    "#### Q5: Which company  has the most movies in high rate and low rate movies?\n",
    "#### Q6: Which director has the most movies in high rate and low rate movies?\n",
    "#### Q7: Which genre has the most movies in high rate movies ?\n",
    "#### Showing a relationship between the genres of movies and vote average over the decades"
   ]
  },
  {
   "cell_type": "code",
   "execution_count": 1,
   "id": "e50e5b45",
   "metadata": {},
   "outputs": [],
   "source": [
    "import numpy as np\n",
    "import pandas as pd\n",
    "import matplotlib.pyplot as plt\n",
    "%matplotlib inline\n",
    "import seaborn as sns\n"
   ]
  },
  {
   "cell_type": "code",
   "execution_count": 2,
   "id": "424f4bad",
   "metadata": {},
   "outputs": [],
   "source": [
    "df=pd.read_csv('tmdb-movies.csv')"
   ]
  },
  {
   "cell_type": "markdown",
   "id": "600196ea",
   "metadata": {},
   "source": [
    "## Data Wrangling"
   ]
  },
  {
   "cell_type": "code",
   "execution_count": 3,
   "id": "14a05529",
   "metadata": {},
   "outputs": [],
   "source": [
    "#to make revenue , budget and profit look easy to read \n",
    "pd.options.display.float_format = '{:,.2f}'.format"
   ]
  },
  {
   "cell_type": "code",
   "execution_count": 4,
   "id": "f74d9e10",
   "metadata": {},
   "outputs": [],
   "source": [
    "# dorp duplicated rows \n",
    "df.drop_duplicates(inplace=True)"
   ]
  },
  {
   "cell_type": "code",
   "execution_count": 5,
   "id": "0db4a06a",
   "metadata": {},
   "outputs": [],
   "source": [
    "# create a new column instead of the release date column to make the data more general and easy to exploration\n",
    "season=[]\n",
    "for x in df['release_date']:\n",
    "    m,d,y=x.split(\"/\")\n",
    "    m=int(m)\n",
    "    if m <= 3 :\n",
    "        season.append(\"Winter\")\n",
    "    elif m <=6 :\n",
    "        season.append(\"Spring\")\n",
    "    elif  m <=9 :\n",
    "        season.append(\"Summer\")\n",
    "    elif m <=12 :\n",
    "        season.append(\"Autumn\")\n",
    "df['season']=season"
   ]
  },
  {
   "cell_type": "code",
   "execution_count": 6,
   "id": "3e840d58",
   "metadata": {},
   "outputs": [],
   "source": [
    "#drop columns we dont need \n",
    "df.drop(['id','imdb_id','homepage','tagline','budget','revenue','overview','release_date'],axis=1,inplace=True)"
   ]
  },
  {
   "cell_type": "code",
   "execution_count": 7,
   "id": "3d7085f7",
   "metadata": {},
   "outputs": [],
   "source": [
    "# create a profit column to calculate relations between vote average \n",
    "df['profit'] = df.revenue_adj - df.budget_adj"
   ]
  },
  {
   "cell_type": "code",
   "execution_count": 8,
   "id": "7d168696",
   "metadata": {},
   "outputs": [],
   "source": [
    "# create a subset with revenue and budget above 0\n",
    "movies_with_rev_and_bud=df[(df['revenue_adj']>0)&(df['budget_adj']>0)]"
   ]
  },
  {
   "cell_type": "code",
   "execution_count": 9,
   "id": "6950ff7f",
   "metadata": {},
   "outputs": [],
   "source": [
    "#create subset movies with low rate\n",
    "movies_with_low_rate=df[df['vote_average']<=df['vote_average'].mean()]"
   ]
  },
  {
   "cell_type": "code",
   "execution_count": 10,
   "id": "b7646947",
   "metadata": {},
   "outputs": [],
   "source": [
    "#create a subset movies with high rate \n",
    "movies_with_high_rate=df[df['vote_average']>df['vote_average'].mean()]"
   ]
  },
  {
   "cell_type": "code",
   "execution_count": 11,
   "id": "7e3cd4ab",
   "metadata": {},
   "outputs": [],
   "source": [
    "# make 60's decade\n",
    "movies60s=df[df['release_year']<1970]"
   ]
  },
  {
   "cell_type": "code",
   "execution_count": 12,
   "id": "7002a638",
   "metadata": {},
   "outputs": [],
   "source": [
    "# make 70's decade\n",
    "movies70s=df[(df['release_year']>=1970)&(df['release_year']<1980)]"
   ]
  },
  {
   "cell_type": "code",
   "execution_count": 13,
   "id": "a6f41674",
   "metadata": {},
   "outputs": [],
   "source": [
    "# make 80's decade\n",
    "movies80s=df[(df['release_year']>=1980)&(df['release_year']<1990)]"
   ]
  },
  {
   "cell_type": "code",
   "execution_count": 14,
   "id": "020d9fa9",
   "metadata": {},
   "outputs": [],
   "source": [
    "# make 90's decade\n",
    "movies90s=df[(df['release_year']>=1990)&(df['release_year']<2000)]"
   ]
  },
  {
   "cell_type": "code",
   "execution_count": 15,
   "id": "835e42a5",
   "metadata": {},
   "outputs": [],
   "source": [
    "# make 2000-2015\n",
    "movies2000s=df[(df['release_year']>=2000)&(df['release_year']<2020)]"
   ]
  },
  {
   "cell_type": "code",
   "execution_count": 16,
   "id": "8785cf42",
   "metadata": {},
   "outputs": [],
   "source": [
    "def visualize_mean_line_shape(Group_column,mean_column):\n",
    "    df.groupby(Group_column)[mean_column].mean().plot(legend=True);"
   ]
  },
  {
   "cell_type": "markdown",
   "id": "ff75174a",
   "metadata": {},
   "source": [
    "# Questions to answer"
   ]
  },
  {
   "cell_type": "markdown",
   "id": "9d81ea71",
   "metadata": {},
   "source": [
    "\n",
    "## Are high-rated movies very popular?"
   ]
  },
  {
   "cell_type": "code",
   "execution_count": 17,
   "id": "b1c930c2",
   "metadata": {},
   "outputs": [],
   "source": [
    "def comprison(comparative1,comparative2,labelx,labely,title):\n",
    "    locations = [1, 2]\n",
    "    heights = [comparative1, comparative2]\n",
    "    labels = ['Low rate movies', 'High rate movies']\n",
    "    plt.bar(locations, heights, tick_label=labels)\n",
    "    plt.title(title)\n",
    "    plt.xlabel(labelx)\n",
    "    plt.ylabel(labely);"
   ]
  },
  {
   "cell_type": "code",
   "execution_count": 18,
   "id": "84da0ee8",
   "metadata": {},
   "outputs": [],
   "source": [
    "lowp=movies_with_low_rate['popularity'].mean()\n",
    "highp=movies_with_high_rate['popularity'].mean()\n"
   ]
  },
  {
   "cell_type": "code",
   "execution_count": null,
   "id": "c3839e6e",
   "metadata": {},
   "outputs": [],
   "source": [
    "comprison(lowp,highp,'Popularity averag','popularity','Average Ratings by Popularity')"
   ]
  },
  {
   "cell_type": "markdown",
   "id": "31f5b0d9",
   "metadata": {},
   "source": [
    "###### In this figure, it shows us that films with high ratings are more popular than other films"
   ]
  },
  {
   "cell_type": "markdown",
   "id": "80bd3646",
   "metadata": {},
   "source": [
    "## Do films with more vote counts have more ratings than others?"
   ]
  },
  {
   "cell_type": "code",
   "execution_count": null,
   "id": "ef8c7a30",
   "metadata": {},
   "outputs": [],
   "source": [
    "lowc=movies_with_low_rate['vote_count'].mean()\n",
    "highc=movies_with_high_rate['vote_count'].mean()\n"
   ]
  },
  {
   "cell_type": "code",
   "execution_count": null,
   "id": "9a65ae99",
   "metadata": {},
   "outputs": [],
   "source": [
    "comprison(lowc,highc,'vote count average',' vote count ','Average  Ratings by vote count')"
   ]
  },
  {
   "cell_type": "markdown",
   "id": "81d572ce",
   "metadata": {},
   "source": [
    "#### In this figure, it shows us that films with high ratings are more votes than other films"
   ]
  },
  {
   "cell_type": "markdown",
   "id": "a0b40dfc",
   "metadata": {},
   "source": [
    "## What is the relationship between movies with a high or lower rating with(budget , revenue, profit)"
   ]
  },
  {
   "cell_type": "code",
   "execution_count": null,
   "id": "18f1337b",
   "metadata": {},
   "outputs": [],
   "source": [
    "low_budget=movies_with_rev_and_bud[movies_with_rev_and_bud['budget_adj']<= movies_with_rev_and_bud['budget_adj'].mean()]\n",
    "high_budget=movies_with_rev_and_bud[movies_with_rev_and_bud['budget_adj'] >movies_with_rev_and_bud['budget_adj'].mean()]"
   ]
  },
  {
   "cell_type": "code",
   "execution_count": null,
   "id": "58340bf0",
   "metadata": {
    "scrolled": true
   },
   "outputs": [],
   "source": [
    "low_budget_rate_mean=low_budget['vote_average'].mean()\n",
    "high_budget_rate_mean=high_budget['vote_average'].mean()"
   ]
  },
  {
   "cell_type": "code",
   "execution_count": null,
   "id": "a48b1fa5",
   "metadata": {
    "scrolled": true
   },
   "outputs": [],
   "source": [
    "comprison(low_budget_rate_mean,high_budget_rate_mean,'budget ',' vote average ','Average  Ratings by budget')"
   ]
  },
  {
   "cell_type": "markdown",
   "id": "55135af4",
   "metadata": {},
   "source": [
    "#### in this figure, it shows us that there is no relationship between budget and high or low rated movies and budget factor has no effect on rate"
   ]
  },
  {
   "cell_type": "code",
   "execution_count": null,
   "id": "a5083942",
   "metadata": {},
   "outputs": [],
   "source": [
    "low_revenue=movies_with_rev_and_bud[movies_with_rev_and_bud['revenue_adj']<= movies_with_rev_and_bud['revenue_adj'].mean()]\n",
    "high_revenue=movies_with_rev_and_bud[movies_with_rev_and_bud['revenue_adj'] >movies_with_rev_and_bud['revenue_adj'].mean()]"
   ]
  },
  {
   "cell_type": "code",
   "execution_count": null,
   "id": "dcf934ab",
   "metadata": {},
   "outputs": [],
   "source": [
    "low_revenue_rate_mean=low_budget['vote_average'].mean()\n",
    "high_revenue_rate_mean=high_budget['vote_average'].mean()"
   ]
  },
  {
   "cell_type": "code",
   "execution_count": null,
   "id": "5359e254",
   "metadata": {},
   "outputs": [],
   "source": [
    "comprison(low_revenue_rate_mean,high_revenue_rate_mean,'revenue',' vote average ','Average  Ratings by revenue')"
   ]
  },
  {
   "cell_type": "markdown",
   "id": "3a4ac481",
   "metadata": {},
   "source": [
    "#### In this figure, it shows us that there is no relationship between revenue and vote average "
   ]
  },
  {
   "cell_type": "code",
   "execution_count": null,
   "id": "8e56b074",
   "metadata": {},
   "outputs": [],
   "source": [
    "profit_mean=movies_with_rev_and_bud['profit'].mean()\n",
    "low_profit=movies_with_rev_and_bud.query('profit < {}'.format(profit_mean))\n",
    "high_profit=movies_with_rev_and_bud.query('profit >= {}'.format(profit_mean))\n",
    "low_profit_mean=low_profit['vote_average'].mean()\n",
    "high_profit_mean=high_profit['vote_average'].mean()"
   ]
  },
  {
   "cell_type": "code",
   "execution_count": null,
   "id": "bd724039",
   "metadata": {},
   "outputs": [],
   "source": [
    "comprison(low_profit_mean,high_profit_mean,'Profit','Average vote Rate','Average  Ratings by Profit')"
   ]
  },
  {
   "cell_type": "markdown",
   "id": "05b8831b",
   "metadata": {},
   "source": [
    "#### In this figure, it shows us that high rate movies have more profit than low rate movies"
   ]
  },
  {
   "cell_type": "markdown",
   "id": "4d2caac2",
   "metadata": {},
   "source": [
    "## Film ratings over the decades"
   ]
  },
  {
   "cell_type": "code",
   "execution_count": null,
   "id": "17004432",
   "metadata": {},
   "outputs": [],
   "source": [
    "moives60_vote_mean=movies60s['vote_average'].mean()\n",
    "movies70_vote_mean=movies70s['vote_average'].mean()\n",
    "movies80_vote_mean=movies80s['vote_average'].mean()\n",
    "movies90_vote_mean=movies90s['vote_average'].mean()\n",
    "movies2000_vote_mean=movies2000s['vote_average'].mean()"
   ]
  },
  {
   "cell_type": "code",
   "execution_count": null,
   "id": "aad9dbf4",
   "metadata": {},
   "outputs": [],
   "source": [
    "df.groupby('release_year')['vote_average'].mean().plot(legend=True);"
   ]
  },
  {
   "cell_type": "markdown",
   "id": "61ea8c20",
   "metadata": {},
   "source": [
    "#### In this figure, you will see that films in the early seventies have a high average rating and then the indicator begins to decline"
   ]
  },
  {
   "cell_type": "markdown",
   "id": "c3d83f44",
   "metadata": {},
   "source": [
    "## Film ratings by season"
   ]
  },
  {
   "cell_type": "code",
   "execution_count": null,
   "id": "c3657c52",
   "metadata": {},
   "outputs": [],
   "source": [
    "winter_movies=df[df['season'] =='Winter']\n",
    "spring_movies=df[df['season'] =='Spring']\n",
    "summer_movies=df[df['season'] =='Summer']\n",
    "autumn_movies=df[df['season'] =='Autumn']"
   ]
  },
  {
   "cell_type": "code",
   "execution_count": null,
   "id": "0501c6c5",
   "metadata": {},
   "outputs": [],
   "source": [
    "winter_movies_rate_mean=winter_movies['vote_average'].mean()\n",
    "spring_movies_rate_mean=spring_movies['vote_average'].mean()\n",
    "summer_movies_rate_mean=summer_movies['vote_average'].mean()\n",
    "autumn_movies_rate_mean=autumn_movies['vote_average'].mean()"
   ]
  },
  {
   "cell_type": "code",
   "execution_count": null,
   "id": "d9a8662d",
   "metadata": {},
   "outputs": [],
   "source": [
    "visualize_mean_line_shape('season','vote_average')"
   ]
  },
  {
   "cell_type": "markdown",
   "id": "cb1faed5",
   "metadata": {},
   "source": [
    "#### In this figure, it show us that autumn's movies have  the most average rate than others and winter's movies have the less average rate"
   ]
  },
  {
   "cell_type": "code",
   "execution_count": null,
   "id": "e1aeab1c",
   "metadata": {},
   "outputs": [],
   "source": [
    "movies_with_rev_and_bud.groupby(\"season\")['profit'].mean().plot(kind='bar',legend=True);"
   ]
  },
  {
   "cell_type": "markdown",
   "id": "d83c953c",
   "metadata": {},
   "source": [
    "#### in this figure , you will see that spring and autumn movies have more profit than other"
   ]
  },
  {
   "cell_type": "markdown",
   "id": "0d4a017e",
   "metadata": {},
   "source": [
    "## Which company has the most movies in high rate and low rate ?"
   ]
  },
  {
   "cell_type": "code",
   "execution_count": null,
   "id": "1d0f075c",
   "metadata": {},
   "outputs": [],
   "source": [
    "movies_with_high_rate['production_companies'].value_counts().idxmax()"
   ]
  },
  {
   "cell_type": "code",
   "execution_count": null,
   "id": "79bb0a2a",
   "metadata": {},
   "outputs": [],
   "source": [
    "movies_with_low_rate['production_companies'].value_counts().idxmax()"
   ]
  },
  {
   "cell_type": "markdown",
   "id": "d26fc888",
   "metadata": {},
   "source": [
    "## Which director has the most movies in high rate and low rate movies?"
   ]
  },
  {
   "cell_type": "code",
   "execution_count": null,
   "id": "bff240b2",
   "metadata": {},
   "outputs": [],
   "source": [
    "movies_with_high_rate['director'].value_counts().idxmax()"
   ]
  },
  {
   "cell_type": "markdown",
   "id": "fef391a1",
   "metadata": {},
   "source": [
    "#### Woody Allen has 35 movies  in high rated movies"
   ]
  },
  {
   "cell_type": "code",
   "execution_count": null,
   "id": "8435f829",
   "metadata": {},
   "outputs": [],
   "source": [
    "movies_with_low_rate['director'].value_counts().idxmax()"
   ]
  },
  {
   "cell_type": "markdown",
   "id": "380091de",
   "metadata": {},
   "source": [
    "#### Uwe Boll has 15 movies in low rated movies"
   ]
  },
  {
   "cell_type": "markdown",
   "id": "759b8814",
   "metadata": {},
   "source": [
    "## Which genre has the most movies in high rate movies ?"
   ]
  },
  {
   "cell_type": "code",
   "execution_count": null,
   "id": "12dd7fd4",
   "metadata": {},
   "outputs": [],
   "source": [
    "# make some sets with more specific genres\n",
    "drama_movies=movies_with_high_rate[movies_with_high_rate['genres'].str.contains('Drama',na=False)].value_counts().sum()\n",
    "action_movies=movies_with_high_rate[movies_with_high_rate['genres'].str.contains('Action',na=False)].value_counts().sum()\n",
    "comedy_movies=movies_with_high_rate[movies_with_high_rate['genres'].str.contains('Comedy',na=False)].value_counts().sum()\n",
    "thriller_movie=movies_with_high_rate[movies_with_high_rate['genres'].str.contains('Thriller',na=False)].value_counts().sum()\n",
    "romance_movie=movies_with_high_rate[movies_with_high_rate['genres'].str.contains('Romance',na=False)].value_counts().sum()\n",
    "adventure_movie=movies_with_high_rate[movies_with_high_rate['genres'].str.contains('Adventure',na=False)].value_counts().sum()\n",
    "crime_movie=movies_with_high_rate[movies_with_high_rate['genres'].str.contains('Crime',na=False)].value_counts().sum()\n",
    "family_movie=movies_with_high_rate[movies_with_high_rate['genres'].str.contains('Family',na=False)].value_counts().sum()\n",
    "scific_movie=movies_with_high_rate[movies_with_high_rate['genres'].str.contains('Science Fiction',na=False)].value_counts().sum()\n",
    "fantasy_movie=movies_with_high_rate[movies_with_high_rate['genres'].str.contains('Fantasy',na=False)].value_counts().sum()\n",
    "documentary_movie=movies_with_high_rate[movies_with_high_rate['genres'].str.contains('Documentary',na=False)].value_counts().sum()\n",
    "mystery_movie=movies_with_high_rate[movies_with_high_rate['genres'].str.contains('Mystery',na=False)].value_counts().sum()\n",
    "animation_movie=movies_with_high_rate[movies_with_high_rate['genres'].str.contains('Animation',na=False)].value_counts().sum()"
   ]
  },
  {
   "cell_type": "code",
   "execution_count": null,
   "id": "76e3da99",
   "metadata": {},
   "outputs": [],
   "source": [
    "locations = [1, 2,3,4,5,6,7,8,9,10,11,12,13]\n",
    "heights = [drama_movies,action_movies,comedy_movies,thriller_movie,romance_movie,adventure_movie,crime_movie,family_movie,fantasy_movie,scific_movie,documentary_movie,mystery_movie,animation_movie]\n",
    "labels = ['drama','action','comedy','thriller','romance','adventure','crime','family','fantasy','sci-fic','documentary','mystery','animation']\n",
    "plt.bar(locations, heights, tick_label=labels)\n",
    "plt.title('most geners in high rate movies ')\n",
    "plt.xlabel('geners')\n",
    "plt.ylabel('counts');\n",
    "plt.rcParams[\"figure.figsize\"] = (10,15)"
   ]
  },
  {
   "cell_type": "markdown",
   "id": "fbef7e63",
   "metadata": {},
   "source": [
    "#### In this figure ,  Drama genre has the most movies in the high rated movie list and documentary genre has the less movies in the this  list"
   ]
  },
  {
   "cell_type": "markdown",
   "id": "de487b57",
   "metadata": {},
   "source": [
    "## More info over time"
   ]
  },
  {
   "cell_type": "code",
   "execution_count": null,
   "id": "f66d8072",
   "metadata": {},
   "outputs": [],
   "source": [
    "def visualize_mean_line_shape(Group_column,mean_column):\n",
    "    df.groupby(Group_column)[mean_column].mean().plot(legend=True);"
   ]
  },
  {
   "cell_type": "code",
   "execution_count": null,
   "id": "64bab318",
   "metadata": {},
   "outputs": [],
   "source": [
    "visualize_mean_line_shape('release_year','vote_count')"
   ]
  },
  {
   "cell_type": "markdown",
   "id": "c4e77d62",
   "metadata": {},
   "source": [
    "#### You will see that the number of votes indicator is increasing"
   ]
  },
  {
   "cell_type": "code",
   "execution_count": null,
   "id": "d5ba73f3",
   "metadata": {},
   "outputs": [],
   "source": [
    "visualize_mean_line_shape('release_year','popularity')"
   ]
  },
  {
   "cell_type": "markdown",
   "id": "cf15839c",
   "metadata": {},
   "source": [
    "#### In this figure, you see that the more recent the film, the more popular it is than the older films"
   ]
  },
  {
   "cell_type": "code",
   "execution_count": null,
   "id": "ad1232e4",
   "metadata": {},
   "outputs": [],
   "source": [
    "movies_with_rev_and_bud.groupby('release_year')['budget_adj'].mean().plot(legend=True);"
   ]
  },
  {
   "cell_type": "markdown",
   "id": "b63fc1cf",
   "metadata": {},
   "source": [
    "#### In this figure, you will see that the films of the sixties have the largest budget, then the films of the mid-nineties and the millennium films, and the films of the seventies have the lowest budget"
   ]
  },
  {
   "cell_type": "code",
   "execution_count": null,
   "id": "9272a8c7",
   "metadata": {},
   "outputs": [],
   "source": [
    "movies_with_rev_and_bud.groupby('release_year')['revenue_adj'].mean().plot(legend=True);"
   ]
  },
  {
   "cell_type": "markdown",
   "id": "132f8fa8",
   "metadata": {},
   "source": [
    "#### In this figure , you will see that the mid of  sixties movies have the higher revenue  than other and the early eighties to millennium movies have lower revenue "
   ]
  },
  {
   "cell_type": "code",
   "execution_count": null,
   "id": "ee479e41",
   "metadata": {
    "scrolled": true
   },
   "outputs": [],
   "source": [
    "movies_with_high_rate.corr()"
   ]
  },
  {
   "cell_type": "markdown",
   "id": "90345d81",
   "metadata": {},
   "source": [
    "#### here you will see that  popularity has a strong positive relationship with (vote count and revenue ) and positive with (budget , profit , vote average), and vote average has positive relationship with vote count \n"
   ]
  },
  {
   "cell_type": "markdown",
   "id": "6a83dcc1",
   "metadata": {},
   "source": [
    "## conclusion\n",
    "#### In the end, films with a high rating have a higher popularity than other films and profits as well, and most of them are films of a dramatic and comedic genre.\n",
    "#### And we conclude that the more popular the film has, the greater the number of votes, as well as profits, because the relationship between popularity and profits and the number of votes is a strong positive relationship\n",
    "#### And the films of the sixties had the highest budget, highest revenue, and less popularity than others\n",
    "#### And the films of the seventies have the highest rating than others and the lowest budget than others, and the second highest revenue films\n",
    "#### And the millennium films have the lowest ratings and the lowest revenues with their large budgets\n",
    "#### we conclude from this that the films of the seventies are better than the others and the films of the new millennium are the worst"
   ]
  },
  {
   "cell_type": "markdown",
   "id": "b34314b5",
   "metadata": {},
   "source": [
    "## Limitations\n",
    "##### One of the most important obstacles is that many films do not have a budget or revenue, which makes any analysis regarding profitability or budget less accurate.\n",
    "#### Another obstacle is that many films consist of more than one genre, which makes it more difficult to identify a popular genre\n",
    "#### In addition to that, there are external factors that affect the success and popularity of films, such as if an important person with a high impact dies and a documentary film is released for him, it will make people want to see that film or a high-profile crime event that will motivate people to see crime movies"
   ]
  }
 ],
 "metadata": {
  "kernelspec": {
   "display_name": "Python 3 (ipykernel)",
   "language": "python",
   "name": "python3"
  },
  "language_info": {
   "codemirror_mode": {
    "name": "ipython",
    "version": 3
   },
   "file_extension": ".py",
   "mimetype": "text/x-python",
   "name": "python",
   "nbconvert_exporter": "python",
   "pygments_lexer": "ipython3",
   "version": "3.9.12"
  }
 },
 "nbformat": 4,
 "nbformat_minor": 5
}
