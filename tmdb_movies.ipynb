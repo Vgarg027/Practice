{
 "cells": [
  {
   "cell_type": "code",
   "execution_count": 74,
   "id": "93275be5-54d0-4b24-a5c2-72e12edab3bc",
   "metadata": {},
   "outputs": [],
   "source": [
    "# Investigate adataset [TMDB]"
   ]
  },
  {
   "cell_type": "code",
   "execution_count": 75,
   "id": "7ed160c4-9563-42bc-b706-8f395fe269e4",
   "metadata": {},
   "outputs": [],
   "source": [
    "##•\t Introduction :\n",
    "\n",
    "#This study is based on data taken from the Kaggle website, and contains information for more than 10,000 films and 21 columns containing the name of the film, revenue, budget, and more information that will help us show results that will help us know the following:\n",
    "\n",
    "#1 found in all year the best vote_average and profit and popularity?\n",
    "\n",
    "#2 Which actors,genres,cast,production company have big number of movies ?\n",
    "\n",
    "#3 What is type of  movies have big number in this dataset?\n",
    "\n",
    "#4 What times are suitable for showing the movie?\n",
    "\n",
    "#5 found average popularity ratings by vote average content?\n",
    "\n",
    "\n",
    "#  Link data source:\n",
    "#https://d17h27t6h515a5.cloudfront.net/topher/2017/October/59dd1c4c_tmdb-movies/tmdb-movies.csv\n"
   ]
  },
  {
   "cell_type": "code",
   "execution_count": 76,
   "id": "d03458cb-dcd3-4f23-99f0-dcb425f0b419",
   "metadata": {},
   "outputs": [],
   "source": [
    "#Wrangling data(gather and assess and clean data)\n",
    "#Load data :\n",
    "\n",
    "#To collect, load, read and display data through the Python language, we will use the following libraries: \n"
   ]
  },
  {
   "cell_type": "code",
   "execution_count": 77,
   "id": "e292dbcd-ed58-4479-aade-9066aa2e9eea",
   "metadata": {
    "tags": []
   },
   "outputs": [
    {
     "data": {
      "text/html": [
       "<div>\n",
       "<style scoped>\n",
       "    .dataframe tbody tr th:only-of-type {\n",
       "        vertical-align: middle;\n",
       "    }\n",
       "\n",
       "    .dataframe tbody tr th {\n",
       "        vertical-align: top;\n",
       "    }\n",
       "\n",
       "    .dataframe thead th {\n",
       "        text-align: right;\n",
       "    }\n",
       "</style>\n",
       "<table border=\"1\" class=\"dataframe\">\n",
       "  <thead>\n",
       "    <tr style=\"text-align: right;\">\n",
       "      <th></th>\n",
       "      <th>id</th>\n",
       "      <th>imdb_id</th>\n",
       "      <th>popularity</th>\n",
       "      <th>budget</th>\n",
       "      <th>revenue</th>\n",
       "      <th>original_title</th>\n",
       "      <th>cast</th>\n",
       "      <th>homepage</th>\n",
       "      <th>director</th>\n",
       "      <th>tagline</th>\n",
       "      <th>...</th>\n",
       "      <th>overview</th>\n",
       "      <th>runtime</th>\n",
       "      <th>genres</th>\n",
       "      <th>production_companies</th>\n",
       "      <th>release_date</th>\n",
       "      <th>vote_count</th>\n",
       "      <th>vote_average</th>\n",
       "      <th>release_year</th>\n",
       "      <th>budget_adj</th>\n",
       "      <th>revenue_adj</th>\n",
       "    </tr>\n",
       "  </thead>\n",
       "  <tbody>\n",
       "    <tr>\n",
       "      <th>0</th>\n",
       "      <td>135397</td>\n",
       "      <td>tt0369610</td>\n",
       "      <td>32.985763</td>\n",
       "      <td>150000000</td>\n",
       "      <td>1513528810</td>\n",
       "      <td>Jurassic World</td>\n",
       "      <td>Chris Pratt|Bryce Dallas Howard|Irrfan Khan|Vi...</td>\n",
       "      <td>http://www.jurassicworld.com/</td>\n",
       "      <td>Colin Trevorrow</td>\n",
       "      <td>The park is open.</td>\n",
       "      <td>...</td>\n",
       "      <td>Twenty-two years after the events of Jurassic ...</td>\n",
       "      <td>124</td>\n",
       "      <td>Action|Adventure|Science Fiction|Thriller</td>\n",
       "      <td>Universal Studios|Amblin Entertainment|Legenda...</td>\n",
       "      <td>6/9/15</td>\n",
       "      <td>5562</td>\n",
       "      <td>6.5</td>\n",
       "      <td>2015</td>\n",
       "      <td>1.379999e+08</td>\n",
       "      <td>1.392446e+09</td>\n",
       "    </tr>\n",
       "    <tr>\n",
       "      <th>1</th>\n",
       "      <td>76341</td>\n",
       "      <td>tt1392190</td>\n",
       "      <td>28.419936</td>\n",
       "      <td>150000000</td>\n",
       "      <td>378436354</td>\n",
       "      <td>Mad Max: Fury Road</td>\n",
       "      <td>Tom Hardy|Charlize Theron|Hugh Keays-Byrne|Nic...</td>\n",
       "      <td>http://www.madmaxmovie.com/</td>\n",
       "      <td>George Miller</td>\n",
       "      <td>What a Lovely Day.</td>\n",
       "      <td>...</td>\n",
       "      <td>An apocalyptic story set in the furthest reach...</td>\n",
       "      <td>120</td>\n",
       "      <td>Action|Adventure|Science Fiction|Thriller</td>\n",
       "      <td>Village Roadshow Pictures|Kennedy Miller Produ...</td>\n",
       "      <td>5/13/15</td>\n",
       "      <td>6185</td>\n",
       "      <td>7.1</td>\n",
       "      <td>2015</td>\n",
       "      <td>1.379999e+08</td>\n",
       "      <td>3.481613e+08</td>\n",
       "    </tr>\n",
       "    <tr>\n",
       "      <th>2</th>\n",
       "      <td>262500</td>\n",
       "      <td>tt2908446</td>\n",
       "      <td>13.112507</td>\n",
       "      <td>110000000</td>\n",
       "      <td>295238201</td>\n",
       "      <td>Insurgent</td>\n",
       "      <td>Shailene Woodley|Theo James|Kate Winslet|Ansel...</td>\n",
       "      <td>http://www.thedivergentseries.movie/#insurgent</td>\n",
       "      <td>Robert Schwentke</td>\n",
       "      <td>One Choice Can Destroy You</td>\n",
       "      <td>...</td>\n",
       "      <td>Beatrice Prior must confront her inner demons ...</td>\n",
       "      <td>119</td>\n",
       "      <td>Adventure|Science Fiction|Thriller</td>\n",
       "      <td>Summit Entertainment|Mandeville Films|Red Wago...</td>\n",
       "      <td>3/18/15</td>\n",
       "      <td>2480</td>\n",
       "      <td>6.3</td>\n",
       "      <td>2015</td>\n",
       "      <td>1.012000e+08</td>\n",
       "      <td>2.716190e+08</td>\n",
       "    </tr>\n",
       "    <tr>\n",
       "      <th>3</th>\n",
       "      <td>140607</td>\n",
       "      <td>tt2488496</td>\n",
       "      <td>11.173104</td>\n",
       "      <td>200000000</td>\n",
       "      <td>2068178225</td>\n",
       "      <td>Star Wars: The Force Awakens</td>\n",
       "      <td>Harrison Ford|Mark Hamill|Carrie Fisher|Adam D...</td>\n",
       "      <td>http://www.starwars.com/films/star-wars-episod...</td>\n",
       "      <td>J.J. Abrams</td>\n",
       "      <td>Every generation has a story.</td>\n",
       "      <td>...</td>\n",
       "      <td>Thirty years after defeating the Galactic Empi...</td>\n",
       "      <td>136</td>\n",
       "      <td>Action|Adventure|Science Fiction|Fantasy</td>\n",
       "      <td>Lucasfilm|Truenorth Productions|Bad Robot</td>\n",
       "      <td>12/15/15</td>\n",
       "      <td>5292</td>\n",
       "      <td>7.5</td>\n",
       "      <td>2015</td>\n",
       "      <td>1.839999e+08</td>\n",
       "      <td>1.902723e+09</td>\n",
       "    </tr>\n",
       "  </tbody>\n",
       "</table>\n",
       "<p>4 rows × 21 columns</p>\n",
       "</div>"
      ],
      "text/plain": [
       "       id    imdb_id  popularity     budget     revenue  \\\n",
       "0  135397  tt0369610   32.985763  150000000  1513528810   \n",
       "1   76341  tt1392190   28.419936  150000000   378436354   \n",
       "2  262500  tt2908446   13.112507  110000000   295238201   \n",
       "3  140607  tt2488496   11.173104  200000000  2068178225   \n",
       "\n",
       "                 original_title  \\\n",
       "0                Jurassic World   \n",
       "1            Mad Max: Fury Road   \n",
       "2                     Insurgent   \n",
       "3  Star Wars: The Force Awakens   \n",
       "\n",
       "                                                cast  \\\n",
       "0  Chris Pratt|Bryce Dallas Howard|Irrfan Khan|Vi...   \n",
       "1  Tom Hardy|Charlize Theron|Hugh Keays-Byrne|Nic...   \n",
       "2  Shailene Woodley|Theo James|Kate Winslet|Ansel...   \n",
       "3  Harrison Ford|Mark Hamill|Carrie Fisher|Adam D...   \n",
       "\n",
       "                                            homepage          director  \\\n",
       "0                      http://www.jurassicworld.com/   Colin Trevorrow   \n",
       "1                        http://www.madmaxmovie.com/     George Miller   \n",
       "2     http://www.thedivergentseries.movie/#insurgent  Robert Schwentke   \n",
       "3  http://www.starwars.com/films/star-wars-episod...       J.J. Abrams   \n",
       "\n",
       "                         tagline  ...  \\\n",
       "0              The park is open.  ...   \n",
       "1             What a Lovely Day.  ...   \n",
       "2     One Choice Can Destroy You  ...   \n",
       "3  Every generation has a story.  ...   \n",
       "\n",
       "                                            overview runtime  \\\n",
       "0  Twenty-two years after the events of Jurassic ...     124   \n",
       "1  An apocalyptic story set in the furthest reach...     120   \n",
       "2  Beatrice Prior must confront her inner demons ...     119   \n",
       "3  Thirty years after defeating the Galactic Empi...     136   \n",
       "\n",
       "                                      genres  \\\n",
       "0  Action|Adventure|Science Fiction|Thriller   \n",
       "1  Action|Adventure|Science Fiction|Thriller   \n",
       "2         Adventure|Science Fiction|Thriller   \n",
       "3   Action|Adventure|Science Fiction|Fantasy   \n",
       "\n",
       "                                production_companies release_date vote_count  \\\n",
       "0  Universal Studios|Amblin Entertainment|Legenda...       6/9/15       5562   \n",
       "1  Village Roadshow Pictures|Kennedy Miller Produ...      5/13/15       6185   \n",
       "2  Summit Entertainment|Mandeville Films|Red Wago...      3/18/15       2480   \n",
       "3          Lucasfilm|Truenorth Productions|Bad Robot     12/15/15       5292   \n",
       "\n",
       "   vote_average  release_year    budget_adj   revenue_adj  \n",
       "0           6.5          2015  1.379999e+08  1.392446e+09  \n",
       "1           7.1          2015  1.379999e+08  3.481613e+08  \n",
       "2           6.3          2015  1.012000e+08  2.716190e+08  \n",
       "3           7.5          2015  1.839999e+08  1.902723e+09  \n",
       "\n",
       "[4 rows x 21 columns]"
      ]
     },
     "execution_count": 77,
     "metadata": {},
     "output_type": "execute_result"
    }
   ],
   "source": [
    "import pandas as pd\n",
    "import numpy as np\n",
    "import matplotlib.pyplot as plt\n",
    "%matplotlib inline\n",
    "import seaborn as sns\n",
    "df = pd.read_csv('tmdb_movies.csv')\n",
    "df.head(4)"
   ]
  },
  {
   "cell_type": "code",
   "execution_count": 78,
   "id": "950fa848-dd40-4982-818a-98303a6c8150",
   "metadata": {},
   "outputs": [],
   "source": [
    "#Show structure of table "
   ]
  },
  {
   "cell_type": "code",
   "execution_count": 79,
   "id": "c4fa6d5d-0051-4ee0-bb63-6a1ebc96b1be",
   "metadata": {},
   "outputs": [
    {
     "data": {
      "text/plain": [
       "(10866, 21)"
      ]
     },
     "execution_count": 79,
     "metadata": {},
     "output_type": "execute_result"
    }
   ],
   "source": [
    "df.shape"
   ]
  },
  {
   "cell_type": "code",
   "execution_count": 80,
   "id": "3c6aa77f-0d9e-4197-9f44-fd94f3e6a4da",
   "metadata": {},
   "outputs": [],
   "source": [
    "#Type of data"
   ]
  },
  {
   "cell_type": "code",
   "execution_count": 81,
   "id": "1bb3ba5a-abe8-4a3e-b480-900e63873ef2",
   "metadata": {},
   "outputs": [
    {
     "data": {
      "text/plain": [
       "id                        int64\n",
       "imdb_id                  object\n",
       "popularity              float64\n",
       "budget                    int64\n",
       "revenue                   int64\n",
       "original_title           object\n",
       "cast                     object\n",
       "homepage                 object\n",
       "director                 object\n",
       "tagline                  object\n",
       "keywords                 object\n",
       "overview                 object\n",
       "runtime                   int64\n",
       "genres                   object\n",
       "production_companies     object\n",
       "release_date             object\n",
       "vote_count                int64\n",
       "vote_average            float64\n",
       "release_year              int64\n",
       "budget_adj              float64\n",
       "revenue_adj             float64\n",
       "dtype: object"
      ]
     },
     "execution_count": 81,
     "metadata": {},
     "output_type": "execute_result"
    }
   ],
   "source": [
    "df.dtypes"
   ]
  },
  {
   "cell_type": "code",
   "execution_count": 82,
   "id": "ab071781-e8c5-499e-83e3-a23c5e5eaab0",
   "metadata": {},
   "outputs": [],
   "source": [
    "#Information about data "
   ]
  },
  {
   "cell_type": "code",
   "execution_count": 83,
   "id": "77b11eba-d68f-4440-8170-bdc5e611eef7",
   "metadata": {},
   "outputs": [
    {
     "name": "stdout",
     "output_type": "stream",
     "text": [
      "<class 'pandas.core.frame.DataFrame'>\n",
      "RangeIndex: 10866 entries, 0 to 10865\n",
      "Data columns (total 21 columns):\n",
      " #   Column                Non-Null Count  Dtype  \n",
      "---  ------                --------------  -----  \n",
      " 0   id                    10866 non-null  int64  \n",
      " 1   imdb_id               10856 non-null  object \n",
      " 2   popularity            10866 non-null  float64\n",
      " 3   budget                10866 non-null  int64  \n",
      " 4   revenue               10866 non-null  int64  \n",
      " 5   original_title        10866 non-null  object \n",
      " 6   cast                  10790 non-null  object \n",
      " 7   homepage              2936 non-null   object \n",
      " 8   director              10822 non-null  object \n",
      " 9   tagline               8042 non-null   object \n",
      " 10  keywords              9373 non-null   object \n",
      " 11  overview              10862 non-null  object \n",
      " 12  runtime               10866 non-null  int64  \n",
      " 13  genres                10843 non-null  object \n",
      " 14  production_companies  9836 non-null   object \n",
      " 15  release_date          10866 non-null  object \n",
      " 16  vote_count            10866 non-null  int64  \n",
      " 17  vote_average          10866 non-null  float64\n",
      " 18  release_year          10866 non-null  int64  \n",
      " 19  budget_adj            10866 non-null  float64\n",
      " 20  revenue_adj           10866 non-null  float64\n",
      "dtypes: float64(4), int64(6), object(11)\n",
      "memory usage: 1.7+ MB\n"
     ]
    }
   ],
   "source": [
    "df.info()"
   ]
  },
  {
   "cell_type": "code",
   "execution_count": 84,
   "id": "1bc9ed44-f0c7-4994-888a-1c35fbcbcb9c",
   "metadata": {},
   "outputs": [],
   "source": [
    "#Describe about data "
   ]
  },
  {
   "cell_type": "code",
   "execution_count": 85,
   "id": "5e804593-128a-4cf3-9d1d-9c0bd9e23ee1",
   "metadata": {},
   "outputs": [
    {
     "data": {
      "text/html": [
       "<div>\n",
       "<style scoped>\n",
       "    .dataframe tbody tr th:only-of-type {\n",
       "        vertical-align: middle;\n",
       "    }\n",
       "\n",
       "    .dataframe tbody tr th {\n",
       "        vertical-align: top;\n",
       "    }\n",
       "\n",
       "    .dataframe thead th {\n",
       "        text-align: right;\n",
       "    }\n",
       "</style>\n",
       "<table border=\"1\" class=\"dataframe\">\n",
       "  <thead>\n",
       "    <tr style=\"text-align: right;\">\n",
       "      <th></th>\n",
       "      <th>id</th>\n",
       "      <th>popularity</th>\n",
       "      <th>budget</th>\n",
       "      <th>revenue</th>\n",
       "      <th>runtime</th>\n",
       "      <th>vote_count</th>\n",
       "      <th>vote_average</th>\n",
       "      <th>release_year</th>\n",
       "      <th>budget_adj</th>\n",
       "      <th>revenue_adj</th>\n",
       "    </tr>\n",
       "  </thead>\n",
       "  <tbody>\n",
       "    <tr>\n",
       "      <th>count</th>\n",
       "      <td>10866.000000</td>\n",
       "      <td>10866.000000</td>\n",
       "      <td>1.086600e+04</td>\n",
       "      <td>1.086600e+04</td>\n",
       "      <td>10866.000000</td>\n",
       "      <td>10866.000000</td>\n",
       "      <td>10866.000000</td>\n",
       "      <td>10866.000000</td>\n",
       "      <td>1.086600e+04</td>\n",
       "      <td>1.086600e+04</td>\n",
       "    </tr>\n",
       "    <tr>\n",
       "      <th>mean</th>\n",
       "      <td>66064.177434</td>\n",
       "      <td>0.646441</td>\n",
       "      <td>1.462570e+07</td>\n",
       "      <td>3.982332e+07</td>\n",
       "      <td>102.070863</td>\n",
       "      <td>217.389748</td>\n",
       "      <td>5.974922</td>\n",
       "      <td>2001.322658</td>\n",
       "      <td>1.755104e+07</td>\n",
       "      <td>5.136436e+07</td>\n",
       "    </tr>\n",
       "    <tr>\n",
       "      <th>std</th>\n",
       "      <td>92130.136561</td>\n",
       "      <td>1.000185</td>\n",
       "      <td>3.091321e+07</td>\n",
       "      <td>1.170035e+08</td>\n",
       "      <td>31.381405</td>\n",
       "      <td>575.619058</td>\n",
       "      <td>0.935142</td>\n",
       "      <td>12.812941</td>\n",
       "      <td>3.430616e+07</td>\n",
       "      <td>1.446325e+08</td>\n",
       "    </tr>\n",
       "    <tr>\n",
       "      <th>min</th>\n",
       "      <td>5.000000</td>\n",
       "      <td>0.000065</td>\n",
       "      <td>0.000000e+00</td>\n",
       "      <td>0.000000e+00</td>\n",
       "      <td>0.000000</td>\n",
       "      <td>10.000000</td>\n",
       "      <td>1.500000</td>\n",
       "      <td>1960.000000</td>\n",
       "      <td>0.000000e+00</td>\n",
       "      <td>0.000000e+00</td>\n",
       "    </tr>\n",
       "    <tr>\n",
       "      <th>25%</th>\n",
       "      <td>10596.250000</td>\n",
       "      <td>0.207583</td>\n",
       "      <td>0.000000e+00</td>\n",
       "      <td>0.000000e+00</td>\n",
       "      <td>90.000000</td>\n",
       "      <td>17.000000</td>\n",
       "      <td>5.400000</td>\n",
       "      <td>1995.000000</td>\n",
       "      <td>0.000000e+00</td>\n",
       "      <td>0.000000e+00</td>\n",
       "    </tr>\n",
       "    <tr>\n",
       "      <th>50%</th>\n",
       "      <td>20669.000000</td>\n",
       "      <td>0.383856</td>\n",
       "      <td>0.000000e+00</td>\n",
       "      <td>0.000000e+00</td>\n",
       "      <td>99.000000</td>\n",
       "      <td>38.000000</td>\n",
       "      <td>6.000000</td>\n",
       "      <td>2006.000000</td>\n",
       "      <td>0.000000e+00</td>\n",
       "      <td>0.000000e+00</td>\n",
       "    </tr>\n",
       "    <tr>\n",
       "      <th>75%</th>\n",
       "      <td>75610.000000</td>\n",
       "      <td>0.713817</td>\n",
       "      <td>1.500000e+07</td>\n",
       "      <td>2.400000e+07</td>\n",
       "      <td>111.000000</td>\n",
       "      <td>145.750000</td>\n",
       "      <td>6.600000</td>\n",
       "      <td>2011.000000</td>\n",
       "      <td>2.085325e+07</td>\n",
       "      <td>3.369710e+07</td>\n",
       "    </tr>\n",
       "    <tr>\n",
       "      <th>max</th>\n",
       "      <td>417859.000000</td>\n",
       "      <td>32.985763</td>\n",
       "      <td>4.250000e+08</td>\n",
       "      <td>2.781506e+09</td>\n",
       "      <td>900.000000</td>\n",
       "      <td>9767.000000</td>\n",
       "      <td>9.200000</td>\n",
       "      <td>2015.000000</td>\n",
       "      <td>4.250000e+08</td>\n",
       "      <td>2.827124e+09</td>\n",
       "    </tr>\n",
       "  </tbody>\n",
       "</table>\n",
       "</div>"
      ],
      "text/plain": [
       "                  id    popularity        budget       revenue       runtime  \\\n",
       "count   10866.000000  10866.000000  1.086600e+04  1.086600e+04  10866.000000   \n",
       "mean    66064.177434      0.646441  1.462570e+07  3.982332e+07    102.070863   \n",
       "std     92130.136561      1.000185  3.091321e+07  1.170035e+08     31.381405   \n",
       "min         5.000000      0.000065  0.000000e+00  0.000000e+00      0.000000   \n",
       "25%     10596.250000      0.207583  0.000000e+00  0.000000e+00     90.000000   \n",
       "50%     20669.000000      0.383856  0.000000e+00  0.000000e+00     99.000000   \n",
       "75%     75610.000000      0.713817  1.500000e+07  2.400000e+07    111.000000   \n",
       "max    417859.000000     32.985763  4.250000e+08  2.781506e+09    900.000000   \n",
       "\n",
       "         vote_count  vote_average  release_year    budget_adj   revenue_adj  \n",
       "count  10866.000000  10866.000000  10866.000000  1.086600e+04  1.086600e+04  \n",
       "mean     217.389748      5.974922   2001.322658  1.755104e+07  5.136436e+07  \n",
       "std      575.619058      0.935142     12.812941  3.430616e+07  1.446325e+08  \n",
       "min       10.000000      1.500000   1960.000000  0.000000e+00  0.000000e+00  \n",
       "25%       17.000000      5.400000   1995.000000  0.000000e+00  0.000000e+00  \n",
       "50%       38.000000      6.000000   2006.000000  0.000000e+00  0.000000e+00  \n",
       "75%      145.750000      6.600000   2011.000000  2.085325e+07  3.369710e+07  \n",
       "max     9767.000000      9.200000   2015.000000  4.250000e+08  2.827124e+09  "
      ]
     },
     "execution_count": 85,
     "metadata": {},
     "output_type": "execute_result"
    }
   ],
   "source": [
    "df.describe()"
   ]
  },
  {
   "cell_type": "code",
   "execution_count": 86,
   "id": "d1dd06ac-a15e-4c3a-b071-3a9ea2f0e055",
   "metadata": {},
   "outputs": [],
   "source": [
    "#Number of unique value "
   ]
  },
  {
   "cell_type": "code",
   "execution_count": 87,
   "id": "3917f930-95e7-4d34-9f5b-8f9ad3563d22",
   "metadata": {},
   "outputs": [
    {
     "data": {
      "text/plain": [
       "id                      10865\n",
       "imdb_id                 10855\n",
       "popularity              10814\n",
       "budget                    557\n",
       "revenue                  4702\n",
       "original_title          10571\n",
       "cast                    10719\n",
       "homepage                 2896\n",
       "director                 5067\n",
       "tagline                  7997\n",
       "keywords                 8804\n",
       "overview                10847\n",
       "runtime                   247\n",
       "genres                   2039\n",
       "production_companies     7445\n",
       "release_date             5909\n",
       "vote_count               1289\n",
       "vote_average               72\n",
       "release_year               56\n",
       "budget_adj               2614\n",
       "revenue_adj              4840\n",
       "dtype: int64"
      ]
     },
     "execution_count": 87,
     "metadata": {},
     "output_type": "execute_result"
    }
   ],
   "source": [
    "df.nunique()"
   ]
  },
  {
   "cell_type": "code",
   "execution_count": 88,
   "id": "a723cd92-92d0-41ca-a4be-93cc18a6d314",
   "metadata": {},
   "outputs": [],
   "source": [
    "#Duplicated rows "
   ]
  },
  {
   "cell_type": "code",
   "execution_count": 89,
   "id": "9c35fd70-1ada-4aa9-ad16-3b70beaeb99c",
   "metadata": {},
   "outputs": [
    {
     "data": {
      "text/plain": [
       "1"
      ]
     },
     "execution_count": 89,
     "metadata": {},
     "output_type": "execute_result"
    }
   ],
   "source": [
    "sum(df.duplicated())"
   ]
  },
  {
   "cell_type": "code",
   "execution_count": 90,
   "id": "df778da1-93f0-417c-be31-c0c1f4d5cb63",
   "metadata": {},
   "outputs": [],
   "source": [
    "#Number of rows is null"
   ]
  },
  {
   "cell_type": "code",
   "execution_count": 91,
   "id": "15930642-0863-40c1-a235-cc8d0945c057",
   "metadata": {},
   "outputs": [
    {
     "data": {
      "text/plain": [
       "id                         0\n",
       "imdb_id                   10\n",
       "popularity                 0\n",
       "budget                     0\n",
       "revenue                    0\n",
       "original_title             0\n",
       "cast                      76\n",
       "homepage                7930\n",
       "director                  44\n",
       "tagline                 2824\n",
       "keywords                1493\n",
       "overview                   4\n",
       "runtime                    0\n",
       "genres                    23\n",
       "production_companies    1030\n",
       "release_date               0\n",
       "vote_count                 0\n",
       "vote_average               0\n",
       "release_year               0\n",
       "budget_adj                 0\n",
       "revenue_adj                0\n",
       "dtype: int64"
      ]
     },
     "execution_count": 91,
     "metadata": {},
     "output_type": "execute_result"
    }
   ],
   "source": [
    "df.isnull().sum()"
   ]
  },
  {
   "cell_type": "code",
   "execution_count": 92,
   "id": "221bb2e3-2fac-4981-8447-4b1fe7f1615d",
   "metadata": {},
   "outputs": [],
   "source": [
    "##Summary of gathering and assessing data :\n",
    "\n",
    "#After show this  information about this data  you  can say the data need  cleaning , when  you focus in this  information some column you don’t need for you study this information can drop this columns [‘id’,‘imdb_id’,’home page’,’tagline’,’keyword’,’overview’,’vote_count’]\n",
    "#And another step you need convert type of columns as same as release_date to convert datetime from object.\n",
    "#when you see the information about the number of unique value and the number of rows there is a difference in the number of rows (you can say there is a value or duplicate rows or a duplicate value\n",
    "#there's a massive zero look the describe of data there's  min and 25% and 50% number zero in runtime and budget_adj and revenue_adj\n",
    "#but emphatic columns like \"cast\" and \"genres\" have multiple values separated by pipe characters (|). \n"
   ]
  },
  {
   "cell_type": "code",
   "execution_count": 93,
   "id": "e9cbe366-0a30-4ff7-b696-147e9c13633a",
   "metadata": {},
   "outputs": [],
   "source": [
    "#Cleaning data:\n",
    "#After know the structure of data set you will do this:\n",
    "#Drop all columns you don’t need for your process\n",
    "#Convert datatype, take the true result\n",
    "#Process the missing value for null or zero value \n",
    "#Add some column when you need this.\n"
   ]
  },
  {
   "cell_type": "code",
   "execution_count": 94,
   "id": "bc051049-fd7a-4f9d-94e0-06ef00c9df17",
   "metadata": {},
   "outputs": [],
   "source": [
    "#Drop all columns you don’t need for you process "
   ]
  },
  {
   "cell_type": "code",
   "execution_count": 95,
   "id": "c2e73cf1-fa29-4264-9b85-d15a9f478532",
   "metadata": {},
   "outputs": [],
   "source": [
    "df.drop(['id', 'imdb_id','homepage','tagline','keywords','overview','vote_count'],axis =1 ,inplace =True)"
   ]
  },
  {
   "cell_type": "code",
   "execution_count": 96,
   "id": "02b8b7ef-276d-4f82-bd32-dc258df4e5e4",
   "metadata": {},
   "outputs": [],
   "source": [
    "##show result "
   ]
  },
  {
   "cell_type": "code",
   "execution_count": 97,
   "id": "8723ce0b-1395-485b-8786-3a11c11980db",
   "metadata": {},
   "outputs": [
    {
     "data": {
      "text/html": [
       "<div>\n",
       "<style scoped>\n",
       "    .dataframe tbody tr th:only-of-type {\n",
       "        vertical-align: middle;\n",
       "    }\n",
       "\n",
       "    .dataframe tbody tr th {\n",
       "        vertical-align: top;\n",
       "    }\n",
       "\n",
       "    .dataframe thead th {\n",
       "        text-align: right;\n",
       "    }\n",
       "</style>\n",
       "<table border=\"1\" class=\"dataframe\">\n",
       "  <thead>\n",
       "    <tr style=\"text-align: right;\">\n",
       "      <th></th>\n",
       "      <th>popularity</th>\n",
       "      <th>budget</th>\n",
       "      <th>revenue</th>\n",
       "      <th>original_title</th>\n",
       "      <th>cast</th>\n",
       "      <th>director</th>\n",
       "      <th>runtime</th>\n",
       "      <th>genres</th>\n",
       "      <th>production_companies</th>\n",
       "      <th>release_date</th>\n",
       "      <th>vote_average</th>\n",
       "      <th>release_year</th>\n",
       "      <th>budget_adj</th>\n",
       "      <th>revenue_adj</th>\n",
       "    </tr>\n",
       "  </thead>\n",
       "  <tbody>\n",
       "    <tr>\n",
       "      <th>0</th>\n",
       "      <td>32.985763</td>\n",
       "      <td>150000000</td>\n",
       "      <td>1513528810</td>\n",
       "      <td>Jurassic World</td>\n",
       "      <td>Chris Pratt|Bryce Dallas Howard|Irrfan Khan|Vi...</td>\n",
       "      <td>Colin Trevorrow</td>\n",
       "      <td>124</td>\n",
       "      <td>Action|Adventure|Science Fiction|Thriller</td>\n",
       "      <td>Universal Studios|Amblin Entertainment|Legenda...</td>\n",
       "      <td>6/9/15</td>\n",
       "      <td>6.5</td>\n",
       "      <td>2015</td>\n",
       "      <td>1.379999e+08</td>\n",
       "      <td>1.392446e+09</td>\n",
       "    </tr>\n",
       "    <tr>\n",
       "      <th>1</th>\n",
       "      <td>28.419936</td>\n",
       "      <td>150000000</td>\n",
       "      <td>378436354</td>\n",
       "      <td>Mad Max: Fury Road</td>\n",
       "      <td>Tom Hardy|Charlize Theron|Hugh Keays-Byrne|Nic...</td>\n",
       "      <td>George Miller</td>\n",
       "      <td>120</td>\n",
       "      <td>Action|Adventure|Science Fiction|Thriller</td>\n",
       "      <td>Village Roadshow Pictures|Kennedy Miller Produ...</td>\n",
       "      <td>5/13/15</td>\n",
       "      <td>7.1</td>\n",
       "      <td>2015</td>\n",
       "      <td>1.379999e+08</td>\n",
       "      <td>3.481613e+08</td>\n",
       "    </tr>\n",
       "    <tr>\n",
       "      <th>2</th>\n",
       "      <td>13.112507</td>\n",
       "      <td>110000000</td>\n",
       "      <td>295238201</td>\n",
       "      <td>Insurgent</td>\n",
       "      <td>Shailene Woodley|Theo James|Kate Winslet|Ansel...</td>\n",
       "      <td>Robert Schwentke</td>\n",
       "      <td>119</td>\n",
       "      <td>Adventure|Science Fiction|Thriller</td>\n",
       "      <td>Summit Entertainment|Mandeville Films|Red Wago...</td>\n",
       "      <td>3/18/15</td>\n",
       "      <td>6.3</td>\n",
       "      <td>2015</td>\n",
       "      <td>1.012000e+08</td>\n",
       "      <td>2.716190e+08</td>\n",
       "    </tr>\n",
       "  </tbody>\n",
       "</table>\n",
       "</div>"
      ],
      "text/plain": [
       "   popularity     budget     revenue      original_title  \\\n",
       "0   32.985763  150000000  1513528810      Jurassic World   \n",
       "1   28.419936  150000000   378436354  Mad Max: Fury Road   \n",
       "2   13.112507  110000000   295238201           Insurgent   \n",
       "\n",
       "                                                cast          director  \\\n",
       "0  Chris Pratt|Bryce Dallas Howard|Irrfan Khan|Vi...   Colin Trevorrow   \n",
       "1  Tom Hardy|Charlize Theron|Hugh Keays-Byrne|Nic...     George Miller   \n",
       "2  Shailene Woodley|Theo James|Kate Winslet|Ansel...  Robert Schwentke   \n",
       "\n",
       "   runtime                                     genres  \\\n",
       "0      124  Action|Adventure|Science Fiction|Thriller   \n",
       "1      120  Action|Adventure|Science Fiction|Thriller   \n",
       "2      119         Adventure|Science Fiction|Thriller   \n",
       "\n",
       "                                production_companies release_date  \\\n",
       "0  Universal Studios|Amblin Entertainment|Legenda...       6/9/15   \n",
       "1  Village Roadshow Pictures|Kennedy Miller Produ...      5/13/15   \n",
       "2  Summit Entertainment|Mandeville Films|Red Wago...      3/18/15   \n",
       "\n",
       "   vote_average  release_year    budget_adj   revenue_adj  \n",
       "0           6.5          2015  1.379999e+08  1.392446e+09  \n",
       "1           7.1          2015  1.379999e+08  3.481613e+08  \n",
       "2           6.3          2015  1.012000e+08  2.716190e+08  "
      ]
     },
     "execution_count": 97,
     "metadata": {},
     "output_type": "execute_result"
    }
   ],
   "source": [
    "df.head(3)"
   ]
  },
  {
   "cell_type": "code",
   "execution_count": 98,
   "id": "cae8aed5-3a80-454d-a0f0-bdbc698fd74b",
   "metadata": {},
   "outputs": [],
   "source": [
    "#now you show the id and imdb_id and another columns are drop "
   ]
  },
  {
   "cell_type": "code",
   "execution_count": 99,
   "id": "c1c4eb26-f276-435b-9a11-0215496c01a9",
   "metadata": {},
   "outputs": [],
   "source": [
    "#now i will convert data type column release_date from object to datetime "
   ]
  },
  {
   "cell_type": "code",
   "execution_count": 100,
   "id": "aa3f4cb1-004a-4b92-ada2-b7c41e559c78",
   "metadata": {},
   "outputs": [
    {
     "data": {
      "text/plain": [
       "popularity              float64\n",
       "budget                    int64\n",
       "revenue                   int64\n",
       "original_title           object\n",
       "cast                     object\n",
       "director                 object\n",
       "runtime                   int64\n",
       "genres                   object\n",
       "production_companies     object\n",
       "release_date             object\n",
       "vote_average            float64\n",
       "release_year              int64\n",
       "budget_adj              float64\n",
       "revenue_adj             float64\n",
       "dtype: object"
      ]
     },
     "execution_count": 100,
     "metadata": {},
     "output_type": "execute_result"
    }
   ],
   "source": [
    "df.dtypes"
   ]
  },
  {
   "cell_type": "code",
   "execution_count": 101,
   "id": "6717b549-3a54-4f05-8ac0-43e4c2b4c0d7",
   "metadata": {},
   "outputs": [],
   "source": [
    "df['release_date'] = pd.to_datetime(df['release_date'])"
   ]
  },
  {
   "cell_type": "code",
   "execution_count": 102,
   "id": "67aff377-a99d-4a54-8b4f-595143da182f",
   "metadata": {},
   "outputs": [],
   "source": [
    "# show result"
   ]
  },
  {
   "cell_type": "code",
   "execution_count": 103,
   "id": "7bb8cc14-c5bb-445b-96c3-c5747d16662a",
   "metadata": {},
   "outputs": [],
   "source": [
    "# third problem missing data or duplicated data or zeroo value ( not all zero value is problem when Irrational value)\n",
    "# example  runtime and budget_adj and revenue_adj there is irrational value when =zero"
   ]
  },
  {
   "cell_type": "code",
   "execution_count": 104,
   "id": "46d1d4e8-425c-452e-8840-ce6bb5b9edcd",
   "metadata": {},
   "outputs": [],
   "source": [
    "# before do missing data you should back see the column why there is 2 column budget and 2 column revenue you need just one column of them\n",
    "# Referring to the information given by the data source, budget_adj and revenue_adj it is based on inflation rates and the price of the dollar in 2010, while revenue and budget there is no information about it, so we adopt the budget_adj and revenue_adj."
   ]
  },
  {
   "cell_type": "code",
   "execution_count": 105,
   "id": "fda67498-fb9a-4b1f-985a-c3062f194180",
   "metadata": {},
   "outputs": [],
   "source": [
    "df.drop(['budget','revenue'],axis =1,inplace =True)"
   ]
  },
  {
   "cell_type": "code",
   "execution_count": 106,
   "id": "088f035d-65e9-45cd-b317-7dd2630407a6",
   "metadata": {},
   "outputs": [
    {
     "data": {
      "text/html": [
       "<div>\n",
       "<style scoped>\n",
       "    .dataframe tbody tr th:only-of-type {\n",
       "        vertical-align: middle;\n",
       "    }\n",
       "\n",
       "    .dataframe tbody tr th {\n",
       "        vertical-align: top;\n",
       "    }\n",
       "\n",
       "    .dataframe thead th {\n",
       "        text-align: right;\n",
       "    }\n",
       "</style>\n",
       "<table border=\"1\" class=\"dataframe\">\n",
       "  <thead>\n",
       "    <tr style=\"text-align: right;\">\n",
       "      <th></th>\n",
       "      <th>popularity</th>\n",
       "      <th>original_title</th>\n",
       "      <th>cast</th>\n",
       "      <th>director</th>\n",
       "      <th>runtime</th>\n",
       "      <th>genres</th>\n",
       "      <th>production_companies</th>\n",
       "      <th>release_date</th>\n",
       "      <th>vote_average</th>\n",
       "      <th>release_year</th>\n",
       "      <th>budget_adj</th>\n",
       "      <th>revenue_adj</th>\n",
       "    </tr>\n",
       "  </thead>\n",
       "  <tbody>\n",
       "    <tr>\n",
       "      <th>0</th>\n",
       "      <td>32.985763</td>\n",
       "      <td>Jurassic World</td>\n",
       "      <td>Chris Pratt|Bryce Dallas Howard|Irrfan Khan|Vi...</td>\n",
       "      <td>Colin Trevorrow</td>\n",
       "      <td>124</td>\n",
       "      <td>Action|Adventure|Science Fiction|Thriller</td>\n",
       "      <td>Universal Studios|Amblin Entertainment|Legenda...</td>\n",
       "      <td>2015-06-09</td>\n",
       "      <td>6.5</td>\n",
       "      <td>2015</td>\n",
       "      <td>1.379999e+08</td>\n",
       "      <td>1.392446e+09</td>\n",
       "    </tr>\n",
       "    <tr>\n",
       "      <th>1</th>\n",
       "      <td>28.419936</td>\n",
       "      <td>Mad Max: Fury Road</td>\n",
       "      <td>Tom Hardy|Charlize Theron|Hugh Keays-Byrne|Nic...</td>\n",
       "      <td>George Miller</td>\n",
       "      <td>120</td>\n",
       "      <td>Action|Adventure|Science Fiction|Thriller</td>\n",
       "      <td>Village Roadshow Pictures|Kennedy Miller Produ...</td>\n",
       "      <td>2015-05-13</td>\n",
       "      <td>7.1</td>\n",
       "      <td>2015</td>\n",
       "      <td>1.379999e+08</td>\n",
       "      <td>3.481613e+08</td>\n",
       "    </tr>\n",
       "  </tbody>\n",
       "</table>\n",
       "</div>"
      ],
      "text/plain": [
       "   popularity      original_title  \\\n",
       "0   32.985763      Jurassic World   \n",
       "1   28.419936  Mad Max: Fury Road   \n",
       "\n",
       "                                                cast         director  \\\n",
       "0  Chris Pratt|Bryce Dallas Howard|Irrfan Khan|Vi...  Colin Trevorrow   \n",
       "1  Tom Hardy|Charlize Theron|Hugh Keays-Byrne|Nic...    George Miller   \n",
       "\n",
       "   runtime                                     genres  \\\n",
       "0      124  Action|Adventure|Science Fiction|Thriller   \n",
       "1      120  Action|Adventure|Science Fiction|Thriller   \n",
       "\n",
       "                                production_companies release_date  \\\n",
       "0  Universal Studios|Amblin Entertainment|Legenda...   2015-06-09   \n",
       "1  Village Roadshow Pictures|Kennedy Miller Produ...   2015-05-13   \n",
       "\n",
       "   vote_average  release_year    budget_adj   revenue_adj  \n",
       "0           6.5          2015  1.379999e+08  1.392446e+09  \n",
       "1           7.1          2015  1.379999e+08  3.481613e+08  "
      ]
     },
     "execution_count": 106,
     "metadata": {},
     "output_type": "execute_result"
    }
   ],
   "source": [
    "df.head(2)"
   ]
  },
  {
   "cell_type": "code",
   "execution_count": 107,
   "id": "5f8d0556-c78a-4737-8fb5-bda283961696",
   "metadata": {},
   "outputs": [
    {
     "data": {
      "text/plain": [
       "(10866, 12)"
      ]
     },
     "execution_count": 107,
     "metadata": {},
     "output_type": "execute_result"
    }
   ],
   "source": [
    "df.shape"
   ]
  },
  {
   "cell_type": "markdown",
   "id": "a1f6cda0-57fe-4b51-95c7-71ab6967de2a",
   "metadata": {
    "tags": []
   },
   "source": [
    "# drop duplicated "
   ]
  },
  {
   "cell_type": "code",
   "execution_count": 108,
   "id": "b07e29bd-4804-41c4-a8fc-ec0df37d3f13",
   "metadata": {},
   "outputs": [
    {
     "data": {
      "text/plain": [
       "1"
      ]
     },
     "execution_count": 108,
     "metadata": {},
     "output_type": "execute_result"
    }
   ],
   "source": [
    "sum(df.duplicated())"
   ]
  },
  {
   "cell_type": "code",
   "execution_count": 109,
   "id": "65f11402-7bc8-4f96-8b43-4fe736914d12",
   "metadata": {},
   "outputs": [],
   "source": [
    "df.drop_duplicates(inplace =True)"
   ]
  },
  {
   "cell_type": "code",
   "execution_count": 110,
   "id": "fde3edcd-da0e-47f3-9d97-d1a85e53091d",
   "metadata": {},
   "outputs": [
    {
     "data": {
      "text/html": [
       "<div>\n",
       "<style scoped>\n",
       "    .dataframe tbody tr th:only-of-type {\n",
       "        vertical-align: middle;\n",
       "    }\n",
       "\n",
       "    .dataframe tbody tr th {\n",
       "        vertical-align: top;\n",
       "    }\n",
       "\n",
       "    .dataframe thead th {\n",
       "        text-align: right;\n",
       "    }\n",
       "</style>\n",
       "<table border=\"1\" class=\"dataframe\">\n",
       "  <thead>\n",
       "    <tr style=\"text-align: right;\">\n",
       "      <th></th>\n",
       "      <th>popularity</th>\n",
       "      <th>original_title</th>\n",
       "      <th>cast</th>\n",
       "      <th>director</th>\n",
       "      <th>runtime</th>\n",
       "      <th>genres</th>\n",
       "      <th>production_companies</th>\n",
       "      <th>release_date</th>\n",
       "      <th>vote_average</th>\n",
       "      <th>release_year</th>\n",
       "      <th>budget_adj</th>\n",
       "      <th>revenue_adj</th>\n",
       "    </tr>\n",
       "  </thead>\n",
       "  <tbody>\n",
       "    <tr>\n",
       "      <th>0</th>\n",
       "      <td>32.985763</td>\n",
       "      <td>Jurassic World</td>\n",
       "      <td>Chris Pratt|Bryce Dallas Howard|Irrfan Khan|Vi...</td>\n",
       "      <td>Colin Trevorrow</td>\n",
       "      <td>124</td>\n",
       "      <td>Action|Adventure|Science Fiction|Thriller</td>\n",
       "      <td>Universal Studios|Amblin Entertainment|Legenda...</td>\n",
       "      <td>2015-06-09</td>\n",
       "      <td>6.5</td>\n",
       "      <td>2015</td>\n",
       "      <td>1.379999e+08</td>\n",
       "      <td>1.392446e+09</td>\n",
       "    </tr>\n",
       "    <tr>\n",
       "      <th>1</th>\n",
       "      <td>28.419936</td>\n",
       "      <td>Mad Max: Fury Road</td>\n",
       "      <td>Tom Hardy|Charlize Theron|Hugh Keays-Byrne|Nic...</td>\n",
       "      <td>George Miller</td>\n",
       "      <td>120</td>\n",
       "      <td>Action|Adventure|Science Fiction|Thriller</td>\n",
       "      <td>Village Roadshow Pictures|Kennedy Miller Produ...</td>\n",
       "      <td>2015-05-13</td>\n",
       "      <td>7.1</td>\n",
       "      <td>2015</td>\n",
       "      <td>1.379999e+08</td>\n",
       "      <td>3.481613e+08</td>\n",
       "    </tr>\n",
       "    <tr>\n",
       "      <th>2</th>\n",
       "      <td>13.112507</td>\n",
       "      <td>Insurgent</td>\n",
       "      <td>Shailene Woodley|Theo James|Kate Winslet|Ansel...</td>\n",
       "      <td>Robert Schwentke</td>\n",
       "      <td>119</td>\n",
       "      <td>Adventure|Science Fiction|Thriller</td>\n",
       "      <td>Summit Entertainment|Mandeville Films|Red Wago...</td>\n",
       "      <td>2015-03-18</td>\n",
       "      <td>6.3</td>\n",
       "      <td>2015</td>\n",
       "      <td>1.012000e+08</td>\n",
       "      <td>2.716190e+08</td>\n",
       "    </tr>\n",
       "    <tr>\n",
       "      <th>3</th>\n",
       "      <td>11.173104</td>\n",
       "      <td>Star Wars: The Force Awakens</td>\n",
       "      <td>Harrison Ford|Mark Hamill|Carrie Fisher|Adam D...</td>\n",
       "      <td>J.J. Abrams</td>\n",
       "      <td>136</td>\n",
       "      <td>Action|Adventure|Science Fiction|Fantasy</td>\n",
       "      <td>Lucasfilm|Truenorth Productions|Bad Robot</td>\n",
       "      <td>2015-12-15</td>\n",
       "      <td>7.5</td>\n",
       "      <td>2015</td>\n",
       "      <td>1.839999e+08</td>\n",
       "      <td>1.902723e+09</td>\n",
       "    </tr>\n",
       "    <tr>\n",
       "      <th>4</th>\n",
       "      <td>9.335014</td>\n",
       "      <td>Furious 7</td>\n",
       "      <td>Vin Diesel|Paul Walker|Jason Statham|Michelle ...</td>\n",
       "      <td>James Wan</td>\n",
       "      <td>137</td>\n",
       "      <td>Action|Crime|Thriller</td>\n",
       "      <td>Universal Pictures|Original Film|Media Rights ...</td>\n",
       "      <td>2015-04-01</td>\n",
       "      <td>7.3</td>\n",
       "      <td>2015</td>\n",
       "      <td>1.747999e+08</td>\n",
       "      <td>1.385749e+09</td>\n",
       "    </tr>\n",
       "  </tbody>\n",
       "</table>\n",
       "</div>"
      ],
      "text/plain": [
       "   popularity                original_title  \\\n",
       "0   32.985763                Jurassic World   \n",
       "1   28.419936            Mad Max: Fury Road   \n",
       "2   13.112507                     Insurgent   \n",
       "3   11.173104  Star Wars: The Force Awakens   \n",
       "4    9.335014                     Furious 7   \n",
       "\n",
       "                                                cast          director  \\\n",
       "0  Chris Pratt|Bryce Dallas Howard|Irrfan Khan|Vi...   Colin Trevorrow   \n",
       "1  Tom Hardy|Charlize Theron|Hugh Keays-Byrne|Nic...     George Miller   \n",
       "2  Shailene Woodley|Theo James|Kate Winslet|Ansel...  Robert Schwentke   \n",
       "3  Harrison Ford|Mark Hamill|Carrie Fisher|Adam D...       J.J. Abrams   \n",
       "4  Vin Diesel|Paul Walker|Jason Statham|Michelle ...         James Wan   \n",
       "\n",
       "   runtime                                     genres  \\\n",
       "0      124  Action|Adventure|Science Fiction|Thriller   \n",
       "1      120  Action|Adventure|Science Fiction|Thriller   \n",
       "2      119         Adventure|Science Fiction|Thriller   \n",
       "3      136   Action|Adventure|Science Fiction|Fantasy   \n",
       "4      137                      Action|Crime|Thriller   \n",
       "\n",
       "                                production_companies release_date  \\\n",
       "0  Universal Studios|Amblin Entertainment|Legenda...   2015-06-09   \n",
       "1  Village Roadshow Pictures|Kennedy Miller Produ...   2015-05-13   \n",
       "2  Summit Entertainment|Mandeville Films|Red Wago...   2015-03-18   \n",
       "3          Lucasfilm|Truenorth Productions|Bad Robot   2015-12-15   \n",
       "4  Universal Pictures|Original Film|Media Rights ...   2015-04-01   \n",
       "\n",
       "   vote_average  release_year    budget_adj   revenue_adj  \n",
       "0           6.5          2015  1.379999e+08  1.392446e+09  \n",
       "1           7.1          2015  1.379999e+08  3.481613e+08  \n",
       "2           6.3          2015  1.012000e+08  2.716190e+08  \n",
       "3           7.5          2015  1.839999e+08  1.902723e+09  \n",
       "4           7.3          2015  1.747999e+08  1.385749e+09  "
      ]
     },
     "execution_count": 110,
     "metadata": {},
     "output_type": "execute_result"
    }
   ],
   "source": [
    "df.head()"
   ]
  },
  {
   "cell_type": "code",
   "execution_count": 111,
   "id": "b885b00b-524b-4579-8c3b-36a3d2dfa71f",
   "metadata": {},
   "outputs": [],
   "source": [
    "# i will count how many zero in this columns ['runtime','budget_adj','revenuo_adj']"
   ]
  },
  {
   "cell_type": "code",
   "execution_count": 112,
   "id": "303690f3-575c-45a6-a9ea-962baf61af73",
   "metadata": {},
   "outputs": [],
   "source": [
    "dfz=df[df['runtime']==0]"
   ]
  },
  {
   "cell_type": "code",
   "execution_count": 113,
   "id": "c9486c75-ea6e-4f27-89a8-283e910acc0b",
   "metadata": {},
   "outputs": [
    {
     "data": {
      "text/plain": [
       "31"
      ]
     },
     "execution_count": 113,
     "metadata": {},
     "output_type": "execute_result"
    }
   ],
   "source": [
    "dfz['runtime'].count()"
   ]
  },
  {
   "cell_type": "code",
   "execution_count": 114,
   "id": "7de1d49e-de76-41f4-9c3b-fe78c5dc3b12",
   "metadata": {},
   "outputs": [
    {
     "data": {
      "text/plain": [
       "5696"
      ]
     },
     "execution_count": 114,
     "metadata": {},
     "output_type": "execute_result"
    }
   ],
   "source": [
    "dfz=df[df['budget_adj']==0]\n",
    "dfz['budget_adj'].count()"
   ]
  },
  {
   "cell_type": "code",
   "execution_count": 115,
   "id": "1816aacd-f264-4c22-bd0a-b55b2aa4c689",
   "metadata": {},
   "outputs": [
    {
     "data": {
      "text/plain": [
       "6016"
      ]
     },
     "execution_count": 115,
     "metadata": {},
     "output_type": "execute_result"
    }
   ],
   "source": [
    "dfz=df[df['revenue_adj']==0]\n",
    "dfz['revenue_adj'].count()"
   ]
  },
  {
   "cell_type": "code",
   "execution_count": 116,
   "id": "93049e3d-8ec2-4f42-bf6c-5e57ea26db3d",
   "metadata": {},
   "outputs": [],
   "source": [
    "#Now knowing the number of zero value when take a result before process this data you can’t take correct result \n",
    "#can process this problem convert  to null value  and take it mean value .\n",
    "# after back to udacity GPT to know how convert value to null"
   ]
  },
  {
   "cell_type": "code",
   "execution_count": 117,
   "id": "d2db2b8f-386d-4e45-aa3a-0333ca87ce70",
   "metadata": {},
   "outputs": [],
   "source": [
    "df=df.replace(0,np.NAN)"
   ]
  },
  {
   "cell_type": "code",
   "execution_count": 118,
   "id": "c108cb43-e2bf-42f7-9d33-50f53d769c58",
   "metadata": {},
   "outputs": [
    {
     "data": {
      "text/html": [
       "<div>\n",
       "<style scoped>\n",
       "    .dataframe tbody tr th:only-of-type {\n",
       "        vertical-align: middle;\n",
       "    }\n",
       "\n",
       "    .dataframe tbody tr th {\n",
       "        vertical-align: top;\n",
       "    }\n",
       "\n",
       "    .dataframe thead th {\n",
       "        text-align: right;\n",
       "    }\n",
       "</style>\n",
       "<table border=\"1\" class=\"dataframe\">\n",
       "  <thead>\n",
       "    <tr style=\"text-align: right;\">\n",
       "      <th></th>\n",
       "      <th>popularity</th>\n",
       "      <th>runtime</th>\n",
       "      <th>vote_average</th>\n",
       "      <th>release_year</th>\n",
       "      <th>budget_adj</th>\n",
       "      <th>revenue_adj</th>\n",
       "    </tr>\n",
       "  </thead>\n",
       "  <tbody>\n",
       "    <tr>\n",
       "      <th>count</th>\n",
       "      <td>10865.000000</td>\n",
       "      <td>10834.000000</td>\n",
       "      <td>10865.000000</td>\n",
       "      <td>10865.000000</td>\n",
       "      <td>5.169000e+03</td>\n",
       "      <td>4.849000e+03</td>\n",
       "    </tr>\n",
       "    <tr>\n",
       "      <th>mean</th>\n",
       "      <td>0.646446</td>\n",
       "      <td>102.363855</td>\n",
       "      <td>5.975012</td>\n",
       "      <td>2001.321859</td>\n",
       "      <td>3.688907e+07</td>\n",
       "      <td>1.151009e+08</td>\n",
       "    </tr>\n",
       "    <tr>\n",
       "      <th>std</th>\n",
       "      <td>1.000231</td>\n",
       "      <td>30.948225</td>\n",
       "      <td>0.935138</td>\n",
       "      <td>12.813260</td>\n",
       "      <td>4.196096e+07</td>\n",
       "      <td>1.988557e+08</td>\n",
       "    </tr>\n",
       "    <tr>\n",
       "      <th>min</th>\n",
       "      <td>0.000065</td>\n",
       "      <td>2.000000</td>\n",
       "      <td>1.500000</td>\n",
       "      <td>1960.000000</td>\n",
       "      <td>9.210911e-01</td>\n",
       "      <td>2.370705e+00</td>\n",
       "    </tr>\n",
       "    <tr>\n",
       "      <th>25%</th>\n",
       "      <td>0.207575</td>\n",
       "      <td>90.000000</td>\n",
       "      <td>5.400000</td>\n",
       "      <td>1995.000000</td>\n",
       "      <td>8.102293e+06</td>\n",
       "      <td>1.046585e+07</td>\n",
       "    </tr>\n",
       "    <tr>\n",
       "      <th>50%</th>\n",
       "      <td>0.383831</td>\n",
       "      <td>99.000000</td>\n",
       "      <td>6.000000</td>\n",
       "      <td>2006.000000</td>\n",
       "      <td>2.271505e+07</td>\n",
       "      <td>4.395666e+07</td>\n",
       "    </tr>\n",
       "    <tr>\n",
       "      <th>75%</th>\n",
       "      <td>0.713857</td>\n",
       "      <td>112.000000</td>\n",
       "      <td>6.600000</td>\n",
       "      <td>2011.000000</td>\n",
       "      <td>5.008384e+07</td>\n",
       "      <td>1.316482e+08</td>\n",
       "    </tr>\n",
       "    <tr>\n",
       "      <th>max</th>\n",
       "      <td>32.985763</td>\n",
       "      <td>900.000000</td>\n",
       "      <td>9.200000</td>\n",
       "      <td>2015.000000</td>\n",
       "      <td>4.250000e+08</td>\n",
       "      <td>2.827124e+09</td>\n",
       "    </tr>\n",
       "  </tbody>\n",
       "</table>\n",
       "</div>"
      ],
      "text/plain": [
       "         popularity       runtime  vote_average  release_year    budget_adj  \\\n",
       "count  10865.000000  10834.000000  10865.000000  10865.000000  5.169000e+03   \n",
       "mean       0.646446    102.363855      5.975012   2001.321859  3.688907e+07   \n",
       "std        1.000231     30.948225      0.935138     12.813260  4.196096e+07   \n",
       "min        0.000065      2.000000      1.500000   1960.000000  9.210911e-01   \n",
       "25%        0.207575     90.000000      5.400000   1995.000000  8.102293e+06   \n",
       "50%        0.383831     99.000000      6.000000   2006.000000  2.271505e+07   \n",
       "75%        0.713857    112.000000      6.600000   2011.000000  5.008384e+07   \n",
       "max       32.985763    900.000000      9.200000   2015.000000  4.250000e+08   \n",
       "\n",
       "        revenue_adj  \n",
       "count  4.849000e+03  \n",
       "mean   1.151009e+08  \n",
       "std    1.988557e+08  \n",
       "min    2.370705e+00  \n",
       "25%    1.046585e+07  \n",
       "50%    4.395666e+07  \n",
       "75%    1.316482e+08  \n",
       "max    2.827124e+09  "
      ]
     },
     "execution_count": 118,
     "metadata": {},
     "output_type": "execute_result"
    }
   ],
   "source": [
    "df.describe()"
   ]
  },
  {
   "cell_type": "code",
   "execution_count": 119,
   "id": "f76e43ae-cfdc-4f97-b702-d7f767656341",
   "metadata": {},
   "outputs": [],
   "source": [
    "#looking at these values, there is a difference between them now, but we did not solve the problem, we need to give an empty value to the mean value of each column"
   ]
  },
  {
   "cell_type": "code",
   "execution_count": 120,
   "id": "af4a5afe-72b1-4db5-ac19-08db348d98ae",
   "metadata": {},
   "outputs": [],
   "source": [
    "mean =df['runtime'].mean()\n",
    "df['runtime'].fillna(mean,inplace=True)\n",
    "mean =df['budget_adj'].mean()\n",
    "df['budget_adj'].fillna(mean,inplace=True)\n",
    "mean =df['revenue_adj'].mean()\n",
    "df['revenue_adj'].fillna(mean,inplace=True)"
   ]
  },
  {
   "cell_type": "code",
   "execution_count": 121,
   "id": "3749e649-7471-43b9-b0be-75107b2b9abf",
   "metadata": {},
   "outputs": [
    {
     "data": {
      "text/plain": [
       "0"
      ]
     },
     "execution_count": 121,
     "metadata": {},
     "output_type": "execute_result"
    }
   ],
   "source": [
    "dfz=df[df['budget_adj']==0]\n",
    "dfz['budget_adj'].count()"
   ]
  },
  {
   "cell_type": "code",
   "execution_count": 122,
   "id": "30626d5b-bd70-4d76-a7b9-821f9cff4b0b",
   "metadata": {},
   "outputs": [],
   "source": [
    "#add columns "
   ]
  },
  {
   "cell_type": "code",
   "execution_count": 123,
   "id": "52bbd896-b58c-4724-92cf-9a23dd8619cf",
   "metadata": {
    "tags": []
   },
   "outputs": [],
   "source": [
    "#add columns \n",
    "#there’s two columns can used to get you profit\n",
    "#df[‘profit’] =df[‘revenue_adj’]  - df[‘budget_adj’]\n"
   ]
  },
  {
   "cell_type": "code",
   "execution_count": 124,
   "id": "818fa35d-dcc7-441c-ac91-a8240fa922b4",
   "metadata": {
    "tags": []
   },
   "outputs": [],
   "source": [
    "df['profit'] =df['revenue_adj']-df['budget_adj']"
   ]
  },
  {
   "cell_type": "code",
   "execution_count": 125,
   "id": "89e1b86f-05be-4611-864f-2c1566b45f63",
   "metadata": {
    "tags": []
   },
   "outputs": [
    {
     "data": {
      "text/plain": [
       "popularity                     float64\n",
       "original_title                  object\n",
       "cast                            object\n",
       "director                        object\n",
       "runtime                        float64\n",
       "genres                          object\n",
       "production_companies            object\n",
       "release_date            datetime64[ns]\n",
       "vote_average                   float64\n",
       "release_year                     int64\n",
       "budget_adj                     float64\n",
       "revenue_adj                    float64\n",
       "profit                         float64\n",
       "dtype: object"
      ]
     },
     "execution_count": 125,
     "metadata": {},
     "output_type": "execute_result"
    }
   ],
   "source": [
    "df.dtypes"
   ]
  },
  {
   "cell_type": "code",
   "execution_count": 127,
   "id": "b90af223-ace8-4d05-90af-ac2b80565e0f",
   "metadata": {},
   "outputs": [],
   "source": [
    "#•Exploratory Data Analysis:\n",
    "\n",
    "#After do cleaning data process, now time to exploratory data and visualization, you are ready to find result about the main questions\n",
    "#show describe after add profit column :"
   ]
  },
  {
   "cell_type": "code",
   "execution_count": null,
   "id": "b5bc7157-e166-472e-85ec-81f052104764",
   "metadata": {},
   "outputs": [],
   "source": [
    "df.describe()"
   ]
  },
  {
   "cell_type": "code",
   "execution_count": null,
   "id": "2bf5e322-dcc9-4f57-b474-97e85ecc94d7",
   "metadata": {},
   "outputs": [],
   "source": [
    "#Description fig (19):\n",
    "#The count of popularity is 10865 and the max value is 32.985763 and the profit column the count is 1.086500e+04 but the max value is2.750137e+09 and you can see mean for each column.\n",
    "\n"
   ]
  },
  {
   "cell_type": "code",
   "execution_count": null,
   "id": "00e854ac-90a2-4ecc-aaa4-e1eba26625db",
   "metadata": {},
   "outputs": [],
   "source": [
    "#Show scatter _matrix \n",
    "\n",
    "#Scatter matrix describe the relationship between all column\n"
   ]
  },
  {
   "cell_type": "code",
   "execution_count": null,
   "id": "cb2c7ea4-cf39-46d2-931d-fcce048fead7",
   "metadata": {},
   "outputs": [],
   "source": [
    "pd.plotting.scatter_matrix(df,figsize=(20,20))\n"
   ]
  },
  {
   "cell_type": "code",
   "execution_count": null,
   "id": "a109d83c-5ff1-41b2-ac92-e36c183607a9",
   "metadata": {},
   "outputs": [],
   "source": [
    "-#Average popularity rating by vote average rating :\n",
    "#We show which movies are popularity vs vote average rating , but we make vote average median the standard of this process.\n",
    "#We will calculate the median of average first and filtering  the vote average low or high after that and filtering the popularity low or high to make mean popularity is standard .\n",
    "\n"
   ]
  },
  {
   "cell_type": "code",
   "execution_count": 128,
   "id": "89afe360-ebcd-44b7-b282-b62bcae71e3d",
   "metadata": {},
   "outputs": [
    {
     "data": {
      "text/plain": [
       "Text(0, 0.5, 'average popularity rating')"
      ]
     },
     "execution_count": 128,
     "metadata": {},
     "output_type": "execute_result"
    },
    {
     "data": {
      "image/png": "[encoded data removed]",
      "text/plain": [
       "<Figure size 640x480 with 1 Axes>"
      ]
     },
     "metadata": {},
     "output_type": "display_data"
    }
   ],
   "source": [
    "median = df['vote_average'].median()\n",
    "low =df.query('vote_average < {}'.format(median))\n",
    "high =df.query('vote_average >={}' . format(median))\n",
    "mean_popularity_low = low['popularity'].mean()\n",
    "mean_popularity_high = high['popularity'].mean()\n",
    "location = [1,2]\n",
    "height = [mean_popularity_low,mean_popularity_high]\n",
    "labels = ['low','high']\n",
    "plt.bar(location,height,tick_label = labels)\n",
    "plt.title =('avarage popularity ratings by vote average contant')\n",
    "plt.xlabel('vote_average')\n",
    "plt.ylabel('average popularity rating')\n"
   ]
  },
  {
   "cell_type": "code",
   "execution_count": null,
   "id": "d88e7fd6-f29a-4a26-987b-4482a11623db",
   "metadata": {},
   "outputs": [],
   "source": [
    "#The most low average when mean of popularity less 0.4 but the high vote average when mean of popularity more than that"
   ]
  },
  {
   "cell_type": "code",
   "execution_count": null,
   "id": "ba520063-d9b7-4191-93cb-7a1d786f9474",
   "metadata": {},
   "outputs": [],
   "source": [
    "#Now , will be filtering data to make max value every year from(profit,vote_average,popularity).\n",
    "\n",
    "\n"
   ]
  },
  {
   "cell_type": "code",
   "execution_count": null,
   "id": "2ba2d812-4f8c-43b7-b11b-7ccb038f2465",
   "metadata": {},
   "outputs": [],
   "source": [
    "df_m=df.groupby(['release_year'],as_index=True)['popularity','profit','vote_average'].max()\n",
    "df_m"
   ]
  },
  {
   "cell_type": "code",
   "execution_count": null,
   "id": "f57c3a72-96d4-40e2-9ad3-1e488b4f9b57",
   "metadata": {},
   "outputs": [],
   "source": [
    "# used plot chart to show which year have max profit "
   ]
  },
  {
   "cell_type": "code",
   "execution_count": null,
   "id": "0badfd40-733e-46db-b907-3b4f4bcc1d3e",
   "metadata": {},
   "outputs": [],
   "source": [
    "df_m['profit'].plot(kind='bar')\n"
   ]
  },
  {
   "cell_type": "code",
   "execution_count": null,
   "id": "53e2cd10-7897-4041-8fba-3db8a81a1ba4",
   "metadata": {},
   "outputs": [],
   "source": [
    "# Used pie chat to show which year have max popularity"
   ]
  },
  {
   "cell_type": "code",
   "execution_count": null,
   "id": "c4365973-e6a2-453f-8e16-b603f384d036",
   "metadata": {},
   "outputs": [],
   "source": [
    "df_m['popularity'].plot(kind ='pie',figsize=(8,8))"
   ]
  },
  {
   "cell_type": "code",
   "execution_count": null,
   "id": "385054b7-d1a9-4c34-98dc-693c96f644c5",
   "metadata": {},
   "outputs": [],
   "source": [
    "# now show  which month have max profit \n",
    "# this code take from sparkbyexample "
   ]
  },
  {
   "cell_type": "code",
   "execution_count": null,
   "id": "0eaa451c-3583-4b6a-a42f-744bc620fd6c",
   "metadata": {},
   "outputs": [],
   "source": [
    "df['month'] = df['release_date'].dt.strftime('%m')"
   ]
  },
  {
   "cell_type": "code",
   "execution_count": null,
   "id": "b54d1a90-0621-46f5-ac73-c6509fd2fe04",
   "metadata": {},
   "outputs": [],
   "source": [
    "df.groupby(['month'],as_index=True)['profit'].max()"
   ]
  },
  {
   "cell_type": "code",
   "execution_count": null,
   "id": "93719e2d-71ce-472d-979b-13bcdfd55466",
   "metadata": {},
   "outputs": [],
   "source": [
    "# in this information month 12 is max value and second one is 5 month"
   ]
  },
  {
   "cell_type": "code",
   "execution_count": null,
   "id": "8bd0d240-b6ad-4df4-9cb6-6108d125d19c",
   "metadata": {},
   "outputs": [],
   "source": [
    "#There’s last problem in genres, cast ,director and production_companies have ‘|’  , we must split this : (code to split ‘|’ and fount count for each column).\n",
    "#column = cast,genres, director, production companies\n",
    "# you can used  def function  to work in one code  not write code for eatch column \n",
    "\n"
   ]
  },
  {
   "cell_type": "code",
   "execution_count": null,
   "id": "35256c2b-bb73-45dd-aa57-f746a685123e",
   "metadata": {},
   "outputs": [],
   "source": [
    "    def split_col(df,col,n):\n",
    "        \n",
    "        records = df[col].str.cat(sep = '|')\n",
    "        records_series = pd.Series(records.split('|'))  \n",
    "        records_freq = records_series.value_counts()\n",
    "        return records_freq.head(n)\n"
   ]
  },
  {
   "cell_type": "code",
   "execution_count": null,
   "id": "b9600975-1b60-4471-8b0e-bbf65c05cd48",
   "metadata": {},
   "outputs": [],
   "source": [
    "# now we call eatch column  example ( df , 'cast', 10)  df : is dataset name ,  col : name of column , n : number of row in  head \n"
   ]
  },
  {
   "cell_type": "code",
   "execution_count": null,
   "id": "55388913-afba-4085-91d6-3da3b5c078d0",
   "metadata": {},
   "outputs": [],
   "source": [
    "split_col(df,'genres',15)"
   ]
  },
  {
   "cell_type": "code",
   "execution_count": null,
   "id": "233e06d0-530c-4b4c-9ca5-411b1185b30c",
   "metadata": {},
   "outputs": [],
   "source": [
    "#cast columnthe same genrest"
   ]
  },
  {
   "cell_type": "code",
   "execution_count": null,
   "id": "4d6e7caa-5ef0-4233-942a-bec7bee2becf",
   "metadata": {},
   "outputs": [],
   "source": [
    "split_col(df,'cast',10)"
   ]
  },
  {
   "cell_type": "code",
   "execution_count": null,
   "id": "54d43be7-a98b-450d-bc66-2d785c5064a6",
   "metadata": {},
   "outputs": [],
   "source": [
    "#director"
   ]
  },
  {
   "cell_type": "code",
   "execution_count": null,
   "id": "f6f71b0b-18fd-4b51-8aea-e08b7efb8a85",
   "metadata": {},
   "outputs": [],
   "source": [
    "split_col(df,'director',10)"
   ]
  },
  {
   "cell_type": "code",
   "execution_count": null,
   "id": "8c62847e-67f5-4da1-97f6-71a8eb65b78d",
   "metadata": {},
   "outputs": [],
   "source": [
    "#production_companies"
   ]
  },
  {
   "cell_type": "code",
   "execution_count": null,
   "id": "5826dc25-ed7e-43ad-a4db-04e359998dff",
   "metadata": {},
   "outputs": [],
   "source": [
    "split_col(df,'production_companies',10)"
   ]
  },
  {
   "cell_type": "code",
   "execution_count": null,
   "id": "7cd30645-dd25-4f7d-bdd5-b23b7ff6131f",
   "metadata": {},
   "outputs": [],
   "source": [
    "# Conclusions\n",
    "#  This study was done to find out the extent of interest in films from one year to the next, so that all numbers were taken and there was no interest in a specific category in this study, and it was found that every year the interest in films increases so that in recent years they have become huge profits and their popularity has become greatly increased ."
   ]
  },
  {
   "cell_type": "code",
   "execution_count": null,
   "id": "4fa72198-bd19-4943-9b6d-b2c6a55997f5",
   "metadata": {},
   "outputs": [],
   "source": [
    "#summary\n",
    "#when the popularity is increased the vote_ average is increased \n",
    "#-\tThe best months for film production are the month of May and December, as it has the highest voting rate\n",
    "#-\tThe number of popularity is incress year by year ex 2014and 2015\n",
    "#-\t The best production_companies and director is universal pictures ,woody allen \n",
    "#-\tThe cast is working very hard have big number of movies Robert de Niro.\n"
   ]
  },
  {
   "cell_type": "code",
   "execution_count": 129,
   "id": "f89715fe-0d58-43fe-928d-0afa2d53cb2e",
   "metadata": {},
   "outputs": [],
   "source": [
    "#limtation :\n",
    "# 1- The data obtained from 1968 to the period of 2015, where after this period it does not apply to this study due to the presence of a large discrepancy in the numbers as shown in the years 2014 and 2015 and the arrival of modern technology and the expenditure of huge budgets on business\n",
    "#2-After this period, many actors appeared who had a strong influence on the rate of popularity and profits."
   ]
  },
  {
   "cell_type": "code",
   "execution_count": null,
   "id": "7a1abf29-201d-4298-934c-93425650d488",
   "metadata": {},
   "outputs": [],
   "source": []
  }
 ],
 "metadata": {
  "kernelspec": {
   "display_name": "anaconda-panel-2023.05-py310",
   "language": "python",
   "name": "conda-env-anaconda-panel-2023.05-py310-py"
  },
  "language_info": {
   "codemirror_mode": {
    "name": "ipython",
    "version": 3
   },
   "file_extension": ".py",
   "mimetype": "text/x-python",
   "name": "python",
   "nbconvert_exporter": "python",
   "pygments_lexer": "ipython3",
   "version": "3.11.3"
  }
 },
 "nbformat": 4,
 "nbformat_minor": 5
}
