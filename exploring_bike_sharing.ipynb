{
 "cells": [
  {
   "cell_type": "markdown",
   "metadata": {
    "toc": true
   },
   "source": [
    "<h1>Table of Contents<span class=\"tocSkip\"></span></h1>\n",
    "<div class=\"toc\"><ul class=\"toc-item\"><li><span><a href=\"#Bike-sharing-exploration\" data-toc-modified-id=\"Bike-sharing-exploration-1\"><span class=\"toc-item-num\">1&nbsp;&nbsp;</span>Bike sharing exploration</a></span><ul class=\"toc-item\"><li><span><a href=\"#me\" data-toc-modified-id=\"me-1.1\"><span class=\"toc-item-num\">1.1&nbsp;&nbsp;</span>me</a></span></li><li><span><a href=\"#Preliminary-Wrangling\" data-toc-modified-id=\"Preliminary-Wrangling-1.2\"><span class=\"toc-item-num\">1.2&nbsp;&nbsp;</span>Preliminary Wrangling</a></span><ul class=\"toc-item\"><li><span><a href=\"#What-is-the-structure-of-your-dataset?\" data-toc-modified-id=\"What-is-the-structure-of-your-dataset?-1.2.1\"><span class=\"toc-item-num\">1.2.1&nbsp;&nbsp;</span>What is the structure of your dataset?</a></span></li><li><span><a href=\"#What-is/are-the-main-feature(s)-of-interest-in-your-dataset?\" data-toc-modified-id=\"What-is/are-the-main-feature(s)-of-interest-in-your-dataset?-1.2.2\"><span class=\"toc-item-num\">1.2.2&nbsp;&nbsp;</span>What is/are the main feature(s) of interest in your dataset?</a></span></li><li><span><a href=\"#What-features-in-the-dataset-do-you-think-will-help-support-your-investigation-into-your-feature(s)-of-interest?\" data-toc-modified-id=\"What-features-in-the-dataset-do-you-think-will-help-support-your-investigation-into-your-feature(s)-of-interest?-1.2.3\"><span class=\"toc-item-num\">1.2.3&nbsp;&nbsp;</span>What features in the dataset do you think will help support your investigation into your feature(s) of interest?</a></span></li></ul></li><li><span><a href=\"#Univariate-Exploration\" data-toc-modified-id=\"Univariate-Exploration-1.3\"><span class=\"toc-item-num\">1.3&nbsp;&nbsp;</span>Univariate Exploration</a></span><ul class=\"toc-item\"><li><span><a href=\"#Discuss-the-distribution(s)-of-your-variable(s)-of-interest.-Were-there-any-unusual-points?-Did-you-need-to-perform-any-transformations?\" data-toc-modified-id=\"Discuss-the-distribution(s)-of-your-variable(s)-of-interest.-Were-there-any-unusual-points?-Did-you-need-to-perform-any-transformations?-1.3.1\"><span class=\"toc-item-num\">1.3.1&nbsp;&nbsp;</span>Discuss the distribution(s) of your variable(s) of interest. Were there any unusual points? Did you need to perform any transformations?</a></span></li><li><span><a href=\"#Of-the-features-you-investigated,-were-there-any-unusual-distributions?-Did-you-perform-any-operations-on-the-data-to-tidy,-adjust,-or-change-the-form-of-the-data?-If-so,-why-did-you-do-this?\" data-toc-modified-id=\"Of-the-features-you-investigated,-were-there-any-unusual-distributions?-Did-you-perform-any-operations-on-the-data-to-tidy,-adjust,-or-change-the-form-of-the-data?-If-so,-why-did-you-do-this?-1.3.2\"><span class=\"toc-item-num\">1.3.2&nbsp;&nbsp;</span>Of the features you investigated, were there any unusual distributions? Did you perform any operations on the data to tidy, adjust, or change the form of the data? If so, why did you do this?</a></span></li></ul></li><li><span><a href=\"#Bivariate-Exploration\" data-toc-modified-id=\"Bivariate-Exploration-1.4\"><span class=\"toc-item-num\">1.4&nbsp;&nbsp;</span>Bivariate Exploration</a></span><ul class=\"toc-item\"><li><span><a href=\"#Talk-about-some-of-the-relationships-you-observed-in-this-part-of-the-investigation.-How-did-the-feature(s)-of-interest-vary-with-other-features-in-the-dataset?\" data-toc-modified-id=\"Talk-about-some-of-the-relationships-you-observed-in-this-part-of-the-investigation.-How-did-the-feature(s)-of-interest-vary-with-other-features-in-the-dataset?-1.4.1\"><span class=\"toc-item-num\">1.4.1&nbsp;&nbsp;</span>Talk about some of the relationships you observed in this part of the investigation. How did the feature(s) of interest vary with other features in the dataset?</a></span></li><li><span><a href=\"#Did-you-observe-any-interesting-relationships-between-the-other-features-(not-the-main-feature(s)-of-interest)?\" data-toc-modified-id=\"Did-you-observe-any-interesting-relationships-between-the-other-features-(not-the-main-feature(s)-of-interest)?-1.4.2\"><span class=\"toc-item-num\">1.4.2&nbsp;&nbsp;</span>Did you observe any interesting relationships between the other features (not the main feature(s) of interest)?</a></span></li></ul></li><li><span><a href=\"#Multivariate-Exploration\" data-toc-modified-id=\"Multivariate-Exploration-1.5\"><span class=\"toc-item-num\">1.5&nbsp;&nbsp;</span>Multivariate Exploration</a></span><ul class=\"toc-item\"><li><span><a href=\"#Talk-about-some-of-the-relationships-you-observed-in-this-part-of-the-investigation.-Were-there-features-that-strengthened-each-other-in-terms-of-looking-at-your-feature(s)-of-interest?\" data-toc-modified-id=\"Talk-about-some-of-the-relationships-you-observed-in-this-part-of-the-investigation.-Were-there-features-that-strengthened-each-other-in-terms-of-looking-at-your-feature(s)-of-interest?-1.5.1\"><span class=\"toc-item-num\">1.5.1&nbsp;&nbsp;</span>Talk about some of the relationships you observed in this part of the investigation. Were there features that strengthened each other in terms of looking at your feature(s) of interest?</a></span></li><li><span><a href=\"#Were-there-any-interesting-or-surprising-interactions-between-features?\" data-toc-modified-id=\"Were-there-any-interesting-or-surprising-interactions-between-features?-1.5.2\"><span class=\"toc-item-num\">1.5.2&nbsp;&nbsp;</span>Were there any interesting or surprising interactions between features?</a></span></li></ul></li></ul></li></ul></div>"
   ]
  },
  {
   "cell_type": "markdown",
   "metadata": {},
   "source": [
    "# Bike sharing exploration\n",
    "## me\n",
    "\n",
    "## Preliminary Wrangling\n",
    "\n",
    "This documents explores the ford bike sharing dataset, which comprises the data of 2506983 individual bike trips."
   ]
  },
  {
   "cell_type": "code",
   "execution_count": 2,
   "metadata": {},
   "outputs": [],
   "source": [
    "# import all packages and set plots to be embedded inline\n",
    "import numpy as np\n",
    "import pandas as pd\n",
    "import os\n",
    "import platform\n",
    "import matplotlib.pyplot as plt\n",
    "import seaborn as sb\n",
    "\n",
    "%matplotlib inline"
   ]
  },
  {
   "cell_type": "code",
   "execution_count": 3,
   "metadata": {},
   "outputs": [
    {
     "data": {
      "text/plain": [
       "['201901-fordgobike-tripdata.csv',\n",
       " '201902-fordgobike-tripdata.csv',\n",
       " '201903-fordgobike-tripdata.csv',\n",
       " '201904-fordgobike-tripdata.csv',\n",
       " '201905-baywheels-tripdata.csv',\n",
       " '201906-baywheels-tripdata.csv',\n",
       " '201907-baywheels-tripdata.csv',\n",
       " '201908-baywheels-tripdata.csv',\n",
       " '201909-baywheels-tripdata.csv',\n",
       " '201910-baywheels-tripdata.csv',\n",
       " '201911-baywheels-tripdata.csv',\n",
       " '201912-baywheels-tripdata.csv']"
      ]
     },
     "execution_count": 3,
     "metadata": {},
     "output_type": "execute_result"
    }
   ],
   "source": [
    "files = [x for x in os.listdir() if x.endswith(\"csv\") and x.startswith(\"data\")==False]\n",
    "files"
   ]
  },
  {
   "cell_type": "code",
   "execution_count": 4,
   "metadata": {},
   "outputs": [
    {
     "name": "stdout",
     "output_type": "stream",
     "text": [
      "201901-fordgobike-tripdata.csv (192082, 14)\n",
      "201902-fordgobike-tripdata.csv (183412, 14)\n",
      "201903-fordgobike-tripdata.csv (256299, 14)\n",
      "201904-fordgobike-tripdata.csv (239111, 14)\n",
      "201905-baywheels-tripdata.csv (182163, 14)\n",
      "201906-baywheels-tripdata.csv (191772, 15)\n",
      "201907-baywheels-tripdata.csv (258102, 15)\n",
      "201908-baywheels-tripdata.csv (210563, 14)\n",
      "201909-baywheels-tripdata.csv (217986, 14)\n",
      "201910-baywheels-tripdata.csv (239895, 14)\n",
      "201911-baywheels-tripdata.csv (185496, 15)\n",
      "201912-baywheels-tripdata.csv (150102, 14)\n"
     ]
    },
    {
     "data": {
      "text/plain": [
       "(2506983, 15)"
      ]
     },
     "execution_count": 4,
     "metadata": {},
     "output_type": "execute_result"
    }
   ],
   "source": [
    "df = pd.DataFrame()\n",
    "\n",
    "for file in files:\n",
    "    df_temp = pd.read_csv(file,low_memory=False,float_precision='round_trip',parse_dates=['start_time',\"end_time\"])\n",
    "    print(file, df_temp.shape)\n",
    "    df = df.append(df_temp)\n",
    "df.shape\n"
   ]
  },
  {
   "cell_type": "code",
   "execution_count": 6,
   "metadata": {},
   "outputs": [
    {
     "data": {
      "text/html": [
       "<div>\n",
       "<style scoped>\n",
       "    .dataframe tbody tr th:only-of-type {\n",
       "        vertical-align: middle;\n",
       "    }\n",
       "\n",
       "    .dataframe tbody tr th {\n",
       "        vertical-align: top;\n",
       "    }\n",
       "\n",
       "    .dataframe thead th {\n",
       "        text-align: right;\n",
       "    }\n",
       "</style>\n",
       "<table border=\"1\" class=\"dataframe\">\n",
       "  <thead>\n",
       "    <tr style=\"text-align: right;\">\n",
       "      <th></th>\n",
       "      <th>duration_sec</th>\n",
       "      <th>start_time</th>\n",
       "      <th>end_time</th>\n",
       "      <th>start_station_id</th>\n",
       "      <th>start_station_name</th>\n",
       "      <th>start_station_latitude</th>\n",
       "      <th>start_station_longitude</th>\n",
       "      <th>end_station_id</th>\n",
       "      <th>end_station_name</th>\n",
       "      <th>end_station_latitude</th>\n",
       "      <th>end_station_longitude</th>\n",
       "      <th>bike_id</th>\n",
       "      <th>user_type</th>\n",
       "      <th>bike_share_for_all_trip</th>\n",
       "      <th>rental_access_method</th>\n",
       "    </tr>\n",
       "  </thead>\n",
       "  <tbody>\n",
       "    <tr>\n",
       "      <th>0</th>\n",
       "      <td>80825</td>\n",
       "      <td>2019-01-31 17:57:44.613</td>\n",
       "      <td>2019-02-01 16:24:49.864</td>\n",
       "      <td>229.0</td>\n",
       "      <td>Foothill Blvd at 42nd Ave</td>\n",
       "      <td>37.775745</td>\n",
       "      <td>-122.213037</td>\n",
       "      <td>196.0</td>\n",
       "      <td>Grand Ave at Perkins St</td>\n",
       "      <td>37.808894</td>\n",
       "      <td>-122.256460</td>\n",
       "      <td>4861</td>\n",
       "      <td>Subscriber</td>\n",
       "      <td>No</td>\n",
       "      <td>NaN</td>\n",
       "    </tr>\n",
       "    <tr>\n",
       "      <th>1</th>\n",
       "      <td>65900</td>\n",
       "      <td>2019-01-31 20:58:33.886</td>\n",
       "      <td>2019-02-01 15:16:54.173</td>\n",
       "      <td>4.0</td>\n",
       "      <td>Cyril Magnin St at Ellis St</td>\n",
       "      <td>37.785881</td>\n",
       "      <td>-122.408915</td>\n",
       "      <td>134.0</td>\n",
       "      <td>Valencia St at 24th St</td>\n",
       "      <td>37.752428</td>\n",
       "      <td>-122.420628</td>\n",
       "      <td>5506</td>\n",
       "      <td>Subscriber</td>\n",
       "      <td>No</td>\n",
       "      <td>NaN</td>\n",
       "    </tr>\n",
       "    <tr>\n",
       "      <th>2</th>\n",
       "      <td>62633</td>\n",
       "      <td>2019-01-31 18:06:52.924</td>\n",
       "      <td>2019-02-01 11:30:46.530</td>\n",
       "      <td>245.0</td>\n",
       "      <td>Downtown Berkeley BART</td>\n",
       "      <td>37.870139</td>\n",
       "      <td>-122.268422</td>\n",
       "      <td>157.0</td>\n",
       "      <td>65th St at Hollis St</td>\n",
       "      <td>37.846784</td>\n",
       "      <td>-122.291376</td>\n",
       "      <td>2717</td>\n",
       "      <td>Customer</td>\n",
       "      <td>No</td>\n",
       "      <td>NaN</td>\n",
       "    </tr>\n",
       "    <tr>\n",
       "      <th>3</th>\n",
       "      <td>44680</td>\n",
       "      <td>2019-01-31 19:46:09.719</td>\n",
       "      <td>2019-02-01 08:10:50.318</td>\n",
       "      <td>85.0</td>\n",
       "      <td>Church St at Duboce Ave</td>\n",
       "      <td>37.770083</td>\n",
       "      <td>-122.429156</td>\n",
       "      <td>53.0</td>\n",
       "      <td>Grove St at Divisadero</td>\n",
       "      <td>37.775946</td>\n",
       "      <td>-122.437777</td>\n",
       "      <td>4557</td>\n",
       "      <td>Customer</td>\n",
       "      <td>No</td>\n",
       "      <td>NaN</td>\n",
       "    </tr>\n",
       "    <tr>\n",
       "      <th>4</th>\n",
       "      <td>60709</td>\n",
       "      <td>2019-01-31 14:19:01.541</td>\n",
       "      <td>2019-02-01 07:10:51.065</td>\n",
       "      <td>16.0</td>\n",
       "      <td>Steuart St at Market St</td>\n",
       "      <td>37.794130</td>\n",
       "      <td>-122.394430</td>\n",
       "      <td>28.0</td>\n",
       "      <td>The Embarcadero at Bryant St</td>\n",
       "      <td>37.787168</td>\n",
       "      <td>-122.388098</td>\n",
       "      <td>2100</td>\n",
       "      <td>Customer</td>\n",
       "      <td>No</td>\n",
       "      <td>NaN</td>\n",
       "    </tr>\n",
       "  </tbody>\n",
       "</table>\n",
       "</div>"
      ],
      "text/plain": [
       "   duration_sec              start_time                end_time  \\\n",
       "0         80825 2019-01-31 17:57:44.613 2019-02-01 16:24:49.864   \n",
       "1         65900 2019-01-31 20:58:33.886 2019-02-01 15:16:54.173   \n",
       "2         62633 2019-01-31 18:06:52.924 2019-02-01 11:30:46.530   \n",
       "3         44680 2019-01-31 19:46:09.719 2019-02-01 08:10:50.318   \n",
       "4         60709 2019-01-31 14:19:01.541 2019-02-01 07:10:51.065   \n",
       "\n",
       "   start_station_id           start_station_name  start_station_latitude  \\\n",
       "0             229.0    Foothill Blvd at 42nd Ave               37.775745   \n",
       "1               4.0  Cyril Magnin St at Ellis St               37.785881   \n",
       "2             245.0       Downtown Berkeley BART               37.870139   \n",
       "3              85.0      Church St at Duboce Ave               37.770083   \n",
       "4              16.0      Steuart St at Market St               37.794130   \n",
       "\n",
       "   start_station_longitude  end_station_id              end_station_name  \\\n",
       "0              -122.213037           196.0       Grand Ave at Perkins St   \n",
       "1              -122.408915           134.0        Valencia St at 24th St   \n",
       "2              -122.268422           157.0          65th St at Hollis St   \n",
       "3              -122.429156            53.0        Grove St at Divisadero   \n",
       "4              -122.394430            28.0  The Embarcadero at Bryant St   \n",
       "\n",
       "   end_station_latitude  end_station_longitude  bike_id   user_type  \\\n",
       "0             37.808894            -122.256460     4861  Subscriber   \n",
       "1             37.752428            -122.420628     5506  Subscriber   \n",
       "2             37.846784            -122.291376     2717    Customer   \n",
       "3             37.775946            -122.437777     4557    Customer   \n",
       "4             37.787168            -122.388098     2100    Customer   \n",
       "\n",
       "  bike_share_for_all_trip rental_access_method  \n",
       "0                      No                  NaN  \n",
       "1                      No                  NaN  \n",
       "2                      No                  NaN  \n",
       "3                      No                  NaN  \n",
       "4                      No                  NaN  "
      ]
     },
     "execution_count": 6,
     "metadata": {},
     "output_type": "execute_result"
    }
   ],
   "source": [
    "df.head()"
   ]
  },
  {
   "cell_type": "code",
   "execution_count": 7,
   "metadata": {},
   "outputs": [
    {
     "name": "stdout",
     "output_type": "stream",
     "text": [
      "<class 'pandas.core.frame.DataFrame'>\n",
      "Int64Index: 2506983 entries, 0 to 150101\n",
      "Data columns (total 15 columns):\n",
      " #   Column                   Dtype         \n",
      "---  ------                   -----         \n",
      " 0   duration_sec             int64         \n",
      " 1   start_time               datetime64[ns]\n",
      " 2   end_time                 datetime64[ns]\n",
      " 3   start_station_id         float64       \n",
      " 4   start_station_name       object        \n",
      " 5   start_station_latitude   float64       \n",
      " 6   start_station_longitude  float64       \n",
      " 7   end_station_id           float64       \n",
      " 8   end_station_name         object        \n",
      " 9   end_station_latitude     float64       \n",
      " 10  end_station_longitude    float64       \n",
      " 11  bike_id                  int64         \n",
      " 12  user_type                object        \n",
      " 13  bike_share_for_all_trip  object        \n",
      " 14  rental_access_method     object        \n",
      "dtypes: datetime64[ns](2), float64(6), int64(2), object(5)\n",
      "memory usage: 306.0+ MB\n"
     ]
    }
   ],
   "source": [
    "df.info()"
   ]
  },
  {
   "cell_type": "code",
   "execution_count": 8,
   "metadata": {},
   "outputs": [
    {
     "data": {
      "text/html": [
       "<div>\n",
       "<style scoped>\n",
       "    .dataframe tbody tr th:only-of-type {\n",
       "        vertical-align: middle;\n",
       "    }\n",
       "\n",
       "    .dataframe tbody tr th {\n",
       "        vertical-align: top;\n",
       "    }\n",
       "\n",
       "    .dataframe thead th {\n",
       "        text-align: right;\n",
       "    }\n",
       "</style>\n",
       "<table border=\"1\" class=\"dataframe\">\n",
       "  <thead>\n",
       "    <tr style=\"text-align: right;\">\n",
       "      <th></th>\n",
       "      <th>duration_sec</th>\n",
       "      <th>start_station_id</th>\n",
       "      <th>start_station_latitude</th>\n",
       "      <th>start_station_longitude</th>\n",
       "      <th>end_station_id</th>\n",
       "      <th>end_station_latitude</th>\n",
       "      <th>end_station_longitude</th>\n",
       "      <th>bike_id</th>\n",
       "    </tr>\n",
       "  </thead>\n",
       "  <tbody>\n",
       "    <tr>\n",
       "      <th>count</th>\n",
       "      <td>2.506983e+06</td>\n",
       "      <td>2.426249e+06</td>\n",
       "      <td>2.506983e+06</td>\n",
       "      <td>2.506983e+06</td>\n",
       "      <td>2.424081e+06</td>\n",
       "      <td>2.506983e+06</td>\n",
       "      <td>2.506983e+06</td>\n",
       "      <td>2.506983e+06</td>\n",
       "    </tr>\n",
       "    <tr>\n",
       "      <th>mean</th>\n",
       "      <td>8.076483e+02</td>\n",
       "      <td>1.465047e+02</td>\n",
       "      <td>3.776506e+01</td>\n",
       "      <td>-1.223499e+02</td>\n",
       "      <td>1.427044e+02</td>\n",
       "      <td>3.776422e+01</td>\n",
       "      <td>-1.223459e+02</td>\n",
       "      <td>2.789833e+04</td>\n",
       "    </tr>\n",
       "    <tr>\n",
       "      <th>std</th>\n",
       "      <td>1.974714e+03</td>\n",
       "      <td>1.223171e+02</td>\n",
       "      <td>1.363698e-01</td>\n",
       "      <td>3.089648e-01</td>\n",
       "      <td>1.214296e+02</td>\n",
       "      <td>2.392885e-01</td>\n",
       "      <td>7.080417e-01</td>\n",
       "      <td>1.146067e+05</td>\n",
       "    </tr>\n",
       "    <tr>\n",
       "      <th>min</th>\n",
       "      <td>6.000000e+01</td>\n",
       "      <td>3.000000e+00</td>\n",
       "      <td>0.000000e+00</td>\n",
       "      <td>-1.225143e+02</td>\n",
       "      <td>3.000000e+00</td>\n",
       "      <td>0.000000e+00</td>\n",
       "      <td>-1.225143e+02</td>\n",
       "      <td>4.000000e+00</td>\n",
       "    </tr>\n",
       "    <tr>\n",
       "      <th>25%</th>\n",
       "      <td>3.590000e+02</td>\n",
       "      <td>4.700000e+01</td>\n",
       "      <td>3.776931e+01</td>\n",
       "      <td>-1.224130e+02</td>\n",
       "      <td>4.300000e+01</td>\n",
       "      <td>3.777003e+01</td>\n",
       "      <td>-1.224117e+02</td>\n",
       "      <td>1.952000e+03</td>\n",
       "    </tr>\n",
       "    <tr>\n",
       "      <th>50%</th>\n",
       "      <td>5.710000e+02</td>\n",
       "      <td>1.050000e+02</td>\n",
       "      <td>3.778053e+01</td>\n",
       "      <td>-1.223983e+02</td>\n",
       "      <td>1.010000e+02</td>\n",
       "      <td>3.778076e+01</td>\n",
       "      <td>-1.223981e+02</td>\n",
       "      <td>4.420000e+03</td>\n",
       "    </tr>\n",
       "    <tr>\n",
       "      <th>75%</th>\n",
       "      <td>8.870000e+02</td>\n",
       "      <td>2.430000e+02</td>\n",
       "      <td>3.779539e+01</td>\n",
       "      <td>-1.222914e+02</td>\n",
       "      <td>2.390000e+02</td>\n",
       "      <td>3.779587e+01</td>\n",
       "      <td>-1.222934e+02</td>\n",
       "      <td>9.682000e+03</td>\n",
       "    </tr>\n",
       "    <tr>\n",
       "      <th>max</th>\n",
       "      <td>9.121100e+05</td>\n",
       "      <td>4.980000e+02</td>\n",
       "      <td>4.551000e+01</td>\n",
       "      <td>0.000000e+00</td>\n",
       "      <td>4.980000e+02</td>\n",
       "      <td>4.551000e+01</td>\n",
       "      <td>0.000000e+00</td>\n",
       "      <td>9.999410e+05</td>\n",
       "    </tr>\n",
       "  </tbody>\n",
       "</table>\n",
       "</div>"
      ],
      "text/plain": [
       "       duration_sec  start_station_id  start_station_latitude  \\\n",
       "count  2.506983e+06      2.426249e+06            2.506983e+06   \n",
       "mean   8.076483e+02      1.465047e+02            3.776506e+01   \n",
       "std    1.974714e+03      1.223171e+02            1.363698e-01   \n",
       "min    6.000000e+01      3.000000e+00            0.000000e+00   \n",
       "25%    3.590000e+02      4.700000e+01            3.776931e+01   \n",
       "50%    5.710000e+02      1.050000e+02            3.778053e+01   \n",
       "75%    8.870000e+02      2.430000e+02            3.779539e+01   \n",
       "max    9.121100e+05      4.980000e+02            4.551000e+01   \n",
       "\n",
       "       start_station_longitude  end_station_id  end_station_latitude  \\\n",
       "count             2.506983e+06    2.424081e+06          2.506983e+06   \n",
       "mean             -1.223499e+02    1.427044e+02          3.776422e+01   \n",
       "std               3.089648e-01    1.214296e+02          2.392885e-01   \n",
       "min              -1.225143e+02    3.000000e+00          0.000000e+00   \n",
       "25%              -1.224130e+02    4.300000e+01          3.777003e+01   \n",
       "50%              -1.223983e+02    1.010000e+02          3.778076e+01   \n",
       "75%              -1.222914e+02    2.390000e+02          3.779587e+01   \n",
       "max               0.000000e+00    4.980000e+02          4.551000e+01   \n",
       "\n",
       "       end_station_longitude       bike_id  \n",
       "count           2.506983e+06  2.506983e+06  \n",
       "mean           -1.223459e+02  2.789833e+04  \n",
       "std             7.080417e-01  1.146067e+05  \n",
       "min            -1.225143e+02  4.000000e+00  \n",
       "25%            -1.224117e+02  1.952000e+03  \n",
       "50%            -1.223981e+02  4.420000e+03  \n",
       "75%            -1.222934e+02  9.682000e+03  \n",
       "max             0.000000e+00  9.999410e+05  "
      ]
     },
     "execution_count": 8,
     "metadata": {},
     "output_type": "execute_result"
    }
   ],
   "source": [
    "df.describe()"
   ]
  },
  {
   "cell_type": "code",
   "execution_count": 9,
   "metadata": {},
   "outputs": [
    {
     "name": "stdout",
     "output_type": "stream",
     "text": [
      "(2506983, 15)\n"
     ]
    }
   ],
   "source": [
    "print(df.shape)\n"
   ]
  },
  {
   "cell_type": "code",
   "execution_count": 10,
   "metadata": {},
   "outputs": [
    {
     "data": {
      "text/plain": [
       "array(['Subscriber', 'Customer'], dtype=object)"
      ]
     },
     "execution_count": 10,
     "metadata": {},
     "output_type": "execute_result"
    }
   ],
   "source": [
    "df[\"user_type\"].unique()"
   ]
  },
  {
   "cell_type": "code",
   "execution_count": 11,
   "metadata": {},
   "outputs": [],
   "source": [
    "df[\"user_type\"] =  [\"Non_subscriber\" if x==\"Customer\" else x for x in df[\"user_type\"] ]\n"
   ]
  },
  {
   "cell_type": "markdown",
   "metadata": {},
   "source": [
    "**which time intervall is covered by the data?**"
   ]
  },
  {
   "cell_type": "code",
   "execution_count": 12,
   "metadata": {},
   "outputs": [
    {
     "name": "stdout",
     "output_type": "stream",
     "text": [
      "2019-01-01 00:07:10.576000\n",
      "2019-12-31 23:59:41\n",
      "364 days 23:52:30.424000\n"
     ]
    }
   ],
   "source": [
    "print(df[\"start_time\"].min())\n",
    "print(df[\"start_time\"].max())\n",
    "print(df[\"start_time\"].max()-df[\"start_time\"].min())"
   ]
  },
  {
   "cell_type": "markdown",
   "metadata": {},
   "source": [
    "**extract month of start time for easy grouping**"
   ]
  },
  {
   "cell_type": "code",
   "execution_count": 13,
   "metadata": {},
   "outputs": [],
   "source": [
    "df['month'] = pd.DatetimeIndex(df['start_time']).month"
   ]
  },
  {
   "cell_type": "code",
   "execution_count": 14,
   "metadata": {},
   "outputs": [
    {
     "data": {
      "text/plain": [
       "[1, 2, 3, 4, 5, 6, 7, 8, 9, 10, 11, 12]"
      ]
     },
     "execution_count": 14,
     "metadata": {},
     "output_type": "execute_result"
    }
   ],
   "source": [
    "sorted(df[\"month\"].unique())"
   ]
  },
  {
   "cell_type": "markdown",
   "metadata": {},
   "source": [
    "**Check for missing data**"
   ]
  },
  {
   "cell_type": "code",
   "execution_count": 15,
   "metadata": {},
   "outputs": [
    {
     "data": {
      "text/plain": [
       "duration_sec               False\n",
       "start_time                 False\n",
       "end_time                   False\n",
       "start_station_id            True\n",
       "start_station_name          True\n",
       "start_station_latitude     False\n",
       "start_station_longitude    False\n",
       "end_station_id              True\n",
       "end_station_name            True\n",
       "end_station_latitude       False\n",
       "end_station_longitude      False\n",
       "bike_id                    False\n",
       "user_type                  False\n",
       "bike_share_for_all_trip     True\n",
       "rental_access_method        True\n",
       "month                      False\n",
       "dtype: bool"
      ]
     },
     "execution_count": 15,
     "metadata": {},
     "output_type": "execute_result"
    }
   ],
   "source": [
    "df.isnull().any()\n"
   ]
  },
  {
   "cell_type": "code",
   "execution_count": 16,
   "metadata": {},
   "outputs": [
    {
     "name": "stdout",
     "output_type": "stream",
     "text": [
      "(2506983, 16)\n"
     ]
    }
   ],
   "source": [
    "print(df.shape)"
   ]
  },
  {
   "cell_type": "markdown",
   "metadata": {},
   "source": [
    "**bike share for all trip data is missing for december**\n",
    "\n",
    "I keep the column but have to be careful later in the interpretation"
   ]
  },
  {
   "cell_type": "code",
   "execution_count": 17,
   "metadata": {},
   "outputs": [
    {
     "name": "stdout",
     "output_type": "stream",
     "text": [
      "(2263724, 16)\n",
      "2019-01-01 00:07:10.576000\n",
      "2019-11-30 23:54:47.297000\n",
      "missing entries:  -243259\n",
      "month were data is there:  [1, 2, 3, 4, 5, 6, 7, 8, 9, 10, 11]\n"
     ]
    }
   ],
   "source": [
    "print(df[pd.notna(df[\"bike_share_for_all_trip\"])].shape)\n",
    "print(df[pd.notna(df[\"bike_share_for_all_trip\"])][\"start_time\"].min())\n",
    "print(df[pd.notna(df[\"bike_share_for_all_trip\"])][\"start_time\"].max())\n",
    "print(\"missing entries: \",df[pd.notna(df[\"bike_share_for_all_trip\"])].shape[0] - df.shape[0])\n",
    "print(\"month were data is there: \",sorted(df[pd.notna(df[\"bike_share_for_all_trip\"])][\"month\"].unique()))\n"
   ]
  },
  {
   "cell_type": "markdown",
   "metadata": {},
   "source": [
    "**rental access method is only logged in 4 months**\n",
    "\n",
    "I drop the column since i cant do anything with only a third of the data"
   ]
  },
  {
   "cell_type": "code",
   "execution_count": 18,
   "metadata": {},
   "outputs": [
    {
     "name": "stdout",
     "output_type": "stream",
     "text": [
      "(120838, 16)\n",
      "2019-06-10 11:13:10\n",
      "2019-12-31 23:59:41\n",
      "missing entries:  -2386145\n",
      "month were data is there:  [6, 7, 11, 12]\n"
     ]
    }
   ],
   "source": [
    "print(df[pd.notna(df[\"rental_access_method\"])].shape)\n",
    "print(df[pd.notna(df[\"rental_access_method\"])][\"start_time\"].min())\n",
    "print(df[pd.notna(df[\"rental_access_method\"])][\"start_time\"].max())\n",
    "print(\"missing entries: \",df[pd.notna(df[\"rental_access_method\"])].shape[0] - df.shape[0])\n",
    "print(\"month were data is there: \",sorted(df[pd.notna(df[\"rental_access_method\"])][\"month\"].unique()))\n",
    "\n"
   ]
  },
  {
   "cell_type": "code",
   "execution_count": 19,
   "metadata": {},
   "outputs": [],
   "source": [
    "df = df.drop(\"rental_access_method\",axis = 1)"
   ]
  },
  {
   "cell_type": "markdown",
   "metadata": {},
   "source": [
    "**drop data were start or end station id is missing**"
   ]
  },
  {
   "cell_type": "code",
   "execution_count": 20,
   "metadata": {},
   "outputs": [
    {
     "name": "stdout",
     "output_type": "stream",
     "text": [
      "(2506983, 15)\n",
      "(2407259, 15)\n"
     ]
    }
   ],
   "source": [
    "#drop rows with missing data\n",
    "print(df.shape)\n",
    "df[\"start_station_id\"] = pd.to_numeric(df[\"start_station_id\"],errors=\"coerce\")\n",
    "df = df.dropna(subset=[\"start_station_id\"])\n",
    "df[\"end_station_id\"] = pd.to_numeric(df[\"end_station_id\"],errors=\"coerce\")\n",
    "df = df.dropna(subset=[\"end_station_id\"])\n",
    "\n",
    "print(df.shape)"
   ]
  },
  {
   "cell_type": "code",
   "execution_count": 21,
   "metadata": {},
   "outputs": [
    {
     "data": {
      "text/plain": [
       "duration_sec               False\n",
       "start_time                 False\n",
       "end_time                   False\n",
       "start_station_id           False\n",
       "start_station_name         False\n",
       "start_station_latitude     False\n",
       "start_station_longitude    False\n",
       "end_station_id             False\n",
       "end_station_name           False\n",
       "end_station_latitude       False\n",
       "end_station_longitude      False\n",
       "bike_id                    False\n",
       "user_type                  False\n",
       "bike_share_for_all_trip     True\n",
       "month                      False\n",
       "dtype: bool"
      ]
     },
     "execution_count": 21,
     "metadata": {},
     "output_type": "execute_result"
    }
   ],
   "source": [
    "df.isnull().any()"
   ]
  },
  {
   "cell_type": "markdown",
   "metadata": {},
   "source": [
    "**station_ids are floats**\n",
    "\n",
    "type should be int"
   ]
  },
  {
   "cell_type": "code",
   "execution_count": 22,
   "metadata": {},
   "outputs": [],
   "source": [
    "#convert station id to int\n",
    "df[\"start_station_id\"] = df[\"start_station_id\"].astype(\"int\")\n",
    "df[\"end_station_id\"] = df[\"end_station_id\"].astype(\"int\")\n"
   ]
  },
  {
   "cell_type": "markdown",
   "metadata": {},
   "source": [
    "**make duration_sec in minutes, so it is more easy to understand**"
   ]
  },
  {
   "cell_type": "code",
   "execution_count": 23,
   "metadata": {},
   "outputs": [],
   "source": [
    "df[\"duration_min\"] = (df[\"duration_sec\"]/60).astype(\"int\")"
   ]
  },
  {
   "cell_type": "markdown",
   "metadata": {},
   "source": [
    "**Extract the weekday from the start time**"
   ]
  },
  {
   "cell_type": "code",
   "execution_count": 24,
   "metadata": {},
   "outputs": [],
   "source": [
    "df['weekday'] = df['start_time'].dt.dayofweek"
   ]
  },
  {
   "cell_type": "code",
   "execution_count": 25,
   "metadata": {},
   "outputs": [
    {
     "data": {
      "text/plain": [
       "array([3, 2, 1, 0, 6, 5, 4], dtype=int64)"
      ]
     },
     "execution_count": 25,
     "metadata": {},
     "output_type": "execute_result"
    }
   ],
   "source": [
    "df['weekday'].unique()"
   ]
  },
  {
   "cell_type": "markdown",
   "metadata": {},
   "source": [
    "**Extract the hour from the start time**"
   ]
  },
  {
   "cell_type": "code",
   "execution_count": 26,
   "metadata": {},
   "outputs": [],
   "source": [
    "df['hour'] = df['start_time'].dt.hour"
   ]
  },
  {
   "cell_type": "code",
   "execution_count": 27,
   "metadata": {},
   "outputs": [
    {
     "name": "stdout",
     "output_type": "stream",
     "text": [
      "[17 20 18 19 14 22 23 21 16 11 12 15  9 13  8 10  7  6  5  4  3  2  1  0]\n",
      "24\n"
     ]
    }
   ],
   "source": [
    "print(df[\"hour\"].unique())\n",
    "print(len(df[\"hour\"].unique()))"
   ]
  },
  {
   "cell_type": "code",
   "execution_count": 28,
   "metadata": {},
   "outputs": [
    {
     "data": {
      "text/plain": [
       "(2407259, 18)"
      ]
     },
     "execution_count": 28,
     "metadata": {},
     "output_type": "execute_result"
    }
   ],
   "source": [
    "df.shape"
   ]
  },
  {
   "cell_type": "code",
   "execution_count": 29,
   "metadata": {},
   "outputs": [
    {
     "data": {
      "text/html": [
       "<div>\n",
       "<style scoped>\n",
       "    .dataframe tbody tr th:only-of-type {\n",
       "        vertical-align: middle;\n",
       "    }\n",
       "\n",
       "    .dataframe tbody tr th {\n",
       "        vertical-align: top;\n",
       "    }\n",
       "\n",
       "    .dataframe thead th {\n",
       "        text-align: right;\n",
       "    }\n",
       "</style>\n",
       "<table border=\"1\" class=\"dataframe\">\n",
       "  <thead>\n",
       "    <tr style=\"text-align: right;\">\n",
       "      <th></th>\n",
       "      <th>duration_sec</th>\n",
       "      <th>start_time</th>\n",
       "      <th>end_time</th>\n",
       "      <th>start_station_id</th>\n",
       "      <th>start_station_name</th>\n",
       "      <th>start_station_latitude</th>\n",
       "      <th>start_station_longitude</th>\n",
       "      <th>end_station_id</th>\n",
       "      <th>end_station_name</th>\n",
       "      <th>end_station_latitude</th>\n",
       "      <th>end_station_longitude</th>\n",
       "      <th>bike_id</th>\n",
       "      <th>user_type</th>\n",
       "      <th>bike_share_for_all_trip</th>\n",
       "      <th>month</th>\n",
       "      <th>duration_min</th>\n",
       "      <th>weekday</th>\n",
       "      <th>hour</th>\n",
       "    </tr>\n",
       "  </thead>\n",
       "  <tbody>\n",
       "    <tr>\n",
       "      <th>0</th>\n",
       "      <td>80825</td>\n",
       "      <td>2019-01-31 17:57:44.613</td>\n",
       "      <td>2019-02-01 16:24:49.864</td>\n",
       "      <td>229</td>\n",
       "      <td>Foothill Blvd at 42nd Ave</td>\n",
       "      <td>37.775745</td>\n",
       "      <td>-122.213037</td>\n",
       "      <td>196</td>\n",
       "      <td>Grand Ave at Perkins St</td>\n",
       "      <td>37.808894</td>\n",
       "      <td>-122.256460</td>\n",
       "      <td>4861</td>\n",
       "      <td>Subscriber</td>\n",
       "      <td>No</td>\n",
       "      <td>1</td>\n",
       "      <td>1347</td>\n",
       "      <td>3</td>\n",
       "      <td>17</td>\n",
       "    </tr>\n",
       "    <tr>\n",
       "      <th>1</th>\n",
       "      <td>65900</td>\n",
       "      <td>2019-01-31 20:58:33.886</td>\n",
       "      <td>2019-02-01 15:16:54.173</td>\n",
       "      <td>4</td>\n",
       "      <td>Cyril Magnin St at Ellis St</td>\n",
       "      <td>37.785881</td>\n",
       "      <td>-122.408915</td>\n",
       "      <td>134</td>\n",
       "      <td>Valencia St at 24th St</td>\n",
       "      <td>37.752428</td>\n",
       "      <td>-122.420628</td>\n",
       "      <td>5506</td>\n",
       "      <td>Subscriber</td>\n",
       "      <td>No</td>\n",
       "      <td>1</td>\n",
       "      <td>1098</td>\n",
       "      <td>3</td>\n",
       "      <td>20</td>\n",
       "    </tr>\n",
       "    <tr>\n",
       "      <th>2</th>\n",
       "      <td>62633</td>\n",
       "      <td>2019-01-31 18:06:52.924</td>\n",
       "      <td>2019-02-01 11:30:46.530</td>\n",
       "      <td>245</td>\n",
       "      <td>Downtown Berkeley BART</td>\n",
       "      <td>37.870139</td>\n",
       "      <td>-122.268422</td>\n",
       "      <td>157</td>\n",
       "      <td>65th St at Hollis St</td>\n",
       "      <td>37.846784</td>\n",
       "      <td>-122.291376</td>\n",
       "      <td>2717</td>\n",
       "      <td>Non_subscriber</td>\n",
       "      <td>No</td>\n",
       "      <td>1</td>\n",
       "      <td>1043</td>\n",
       "      <td>3</td>\n",
       "      <td>18</td>\n",
       "    </tr>\n",
       "    <tr>\n",
       "      <th>3</th>\n",
       "      <td>44680</td>\n",
       "      <td>2019-01-31 19:46:09.719</td>\n",
       "      <td>2019-02-01 08:10:50.318</td>\n",
       "      <td>85</td>\n",
       "      <td>Church St at Duboce Ave</td>\n",
       "      <td>37.770083</td>\n",
       "      <td>-122.429156</td>\n",
       "      <td>53</td>\n",
       "      <td>Grove St at Divisadero</td>\n",
       "      <td>37.775946</td>\n",
       "      <td>-122.437777</td>\n",
       "      <td>4557</td>\n",
       "      <td>Non_subscriber</td>\n",
       "      <td>No</td>\n",
       "      <td>1</td>\n",
       "      <td>744</td>\n",
       "      <td>3</td>\n",
       "      <td>19</td>\n",
       "    </tr>\n",
       "    <tr>\n",
       "      <th>4</th>\n",
       "      <td>60709</td>\n",
       "      <td>2019-01-31 14:19:01.541</td>\n",
       "      <td>2019-02-01 07:10:51.065</td>\n",
       "      <td>16</td>\n",
       "      <td>Steuart St at Market St</td>\n",
       "      <td>37.794130</td>\n",
       "      <td>-122.394430</td>\n",
       "      <td>28</td>\n",
       "      <td>The Embarcadero at Bryant St</td>\n",
       "      <td>37.787168</td>\n",
       "      <td>-122.388098</td>\n",
       "      <td>2100</td>\n",
       "      <td>Non_subscriber</td>\n",
       "      <td>No</td>\n",
       "      <td>1</td>\n",
       "      <td>1011</td>\n",
       "      <td>3</td>\n",
       "      <td>14</td>\n",
       "    </tr>\n",
       "  </tbody>\n",
       "</table>\n",
       "</div>"
      ],
      "text/plain": [
       "   duration_sec              start_time                end_time  \\\n",
       "0         80825 2019-01-31 17:57:44.613 2019-02-01 16:24:49.864   \n",
       "1         65900 2019-01-31 20:58:33.886 2019-02-01 15:16:54.173   \n",
       "2         62633 2019-01-31 18:06:52.924 2019-02-01 11:30:46.530   \n",
       "3         44680 2019-01-31 19:46:09.719 2019-02-01 08:10:50.318   \n",
       "4         60709 2019-01-31 14:19:01.541 2019-02-01 07:10:51.065   \n",
       "\n",
       "   start_station_id           start_station_name  start_station_latitude  \\\n",
       "0               229    Foothill Blvd at 42nd Ave               37.775745   \n",
       "1                 4  Cyril Magnin St at Ellis St               37.785881   \n",
       "2               245       Downtown Berkeley BART               37.870139   \n",
       "3                85      Church St at Duboce Ave               37.770083   \n",
       "4                16      Steuart St at Market St               37.794130   \n",
       "\n",
       "   start_station_longitude  end_station_id              end_station_name  \\\n",
       "0              -122.213037             196       Grand Ave at Perkins St   \n",
       "1              -122.408915             134        Valencia St at 24th St   \n",
       "2              -122.268422             157          65th St at Hollis St   \n",
       "3              -122.429156              53        Grove St at Divisadero   \n",
       "4              -122.394430              28  The Embarcadero at Bryant St   \n",
       "\n",
       "   end_station_latitude  end_station_longitude  bike_id       user_type  \\\n",
       "0             37.808894            -122.256460     4861      Subscriber   \n",
       "1             37.752428            -122.420628     5506      Subscriber   \n",
       "2             37.846784            -122.291376     2717  Non_subscriber   \n",
       "3             37.775946            -122.437777     4557  Non_subscriber   \n",
       "4             37.787168            -122.388098     2100  Non_subscriber   \n",
       "\n",
       "  bike_share_for_all_trip  month  duration_min  weekday  hour  \n",
       "0                      No      1          1347        3    17  \n",
       "1                      No      1          1098        3    20  \n",
       "2                      No      1          1043        3    18  \n",
       "3                      No      1           744        3    19  \n",
       "4                      No      1          1011        3    14  "
      ]
     },
     "execution_count": 29,
     "metadata": {},
     "output_type": "execute_result"
    }
   ],
   "source": [
    "df.head()"
   ]
  },
  {
   "cell_type": "code",
   "execution_count": 30,
   "metadata": {},
   "outputs": [],
   "source": [
    "df['weekday'] = df['weekday'].replace({0: 'Monday',1:\"Tuesday\",2:\"Wednesday\",3:\"Thursday\",4:\"Friday\",5:\"Saturday\",6:\"Sunday\"})"
   ]
  },
  {
   "cell_type": "markdown",
   "metadata": {},
   "source": [
    "**saving the wrangled dataframe**"
   ]
  },
  {
   "cell_type": "code",
   "execution_count": 68,
   "metadata": {},
   "outputs": [],
   "source": [
    "df.to_csv(r\"dataCompilation.csv\", index = False, header=True)\n"
   ]
  },
  {
   "cell_type": "markdown",
   "metadata": {},
   "source": [
    "### What is the structure of your dataset?\n",
    "\n",
    "The dataset contains 2,407,259 individual bike rents for 2019 in San Francisco. Specifically it contains the start and end rent station with lat and long data, as well as the duration of the rent and the start and end time of the bike ride. \n",
    "\n",
    "Furthermore it contains data about the renting method (e.g subscriber or one time payment)\n",
    "\n",
    "### What is/are the main feature(s) of interest in your dataset?\n",
    "\n",
    "differences in length of renting? like only short periods for people riding to work and people using it for a daytrip or longer.\n",
    "and if so is this correlated with user_type (customer/subscriber).\n",
    "\n",
    "When are most trips taken in terms of time of day, day of the week, or month of the year?\n",
    "How long does the average trip take?\n",
    "Does the above depend on if a user is a subscriber or customer?\n",
    "\n",
    "### What features in the dataset do you think will help support your investigation into your feature(s) of interest?\n",
    "\n",
    "The duration and the timing of the renting as well as the information about the user payment method"
   ]
  },
  {
   "cell_type": "markdown",
   "metadata": {},
   "source": [
    "## Univariate Exploration\n"
   ]
  },
  {
   "cell_type": "markdown",
   "metadata": {},
   "source": [
    "**what is the most used bike**"
   ]
  },
  {
   "cell_type": "code",
   "execution_count": 32,
   "metadata": {},
   "outputs": [
    {
     "data": {
      "text/plain": [
       "3135      912\n",
       "3146      911\n",
       "3569      889\n",
       "1502      882\n",
       "3249      882\n",
       "         ... \n",
       "684640      1\n",
       "371057      1\n",
       "639300      1\n",
       "811449      1\n",
       "110386      1\n",
       "Name: bike_id, Length: 10766, dtype: int64"
      ]
     },
     "execution_count": 32,
     "metadata": {},
     "output_type": "execute_result"
    }
   ],
   "source": [
    "df[\"bike_id\"].value_counts()"
   ]
  },
  {
   "cell_type": "code",
   "execution_count": 33,
   "metadata": {},
   "outputs": [
    {
     "data": {
      "image/png": "[encoded data removed]",
      "text/plain": [
       "<Figure size 432x288 with 1 Axes>"
      ]
     },
     "metadata": {
      "needs_background": "light"
     },
     "output_type": "display_data"
    }
   ],
   "source": [
    "df[\"bike_id\"].value_counts().hist();"
   ]
  },
  {
   "cell_type": "code",
   "execution_count": 34,
   "metadata": {},
   "outputs": [],
   "source": [
    "#define a base color for mono color plots\n",
    "base_color=sb.color_palette()[0]"
   ]
  },
  {
   "cell_type": "markdown",
   "metadata": {},
   "source": [
    "**Histogram for the duration of individual bike trips**"
   ]
  },
  {
   "cell_type": "code",
   "execution_count": 35,
   "metadata": {},
   "outputs": [
    {
     "data": {
      "image/png": "[encoded data removed]",
      "text/plain": [
       "<Figure size 864x576 with 1 Axes>"
      ]
     },
     "metadata": {
      "needs_background": "light"
     },
     "output_type": "display_data"
    }
   ],
   "source": [
    "# bins are wider at higher values\n",
    "plt.figure(figsize=(12,8))\n",
    "tick = [0.1,1,10,100,1000]\n",
    "binsize=0.2\n",
    "bins_ = 10**np.arange(0, np.log10(df[\"duration_min\"].max())+binsize,binsize)\n",
    "plt.hist( x=df[\"duration_min\"],bins=bins_,color=base_color);\n",
    "plt.xscale(\"log\");\n",
    "plt.xticks(tick,tick);\n",
    "plt.ylabel(\"count\");\n",
    "plt.xlabel(\"rent duration in min (logscale)\");"
   ]
  },
  {
   "cell_type": "code",
   "execution_count": 36,
   "metadata": {},
   "outputs": [
    {
     "data": {
      "text/plain": [
       "count    2.407259e+06\n",
       "mean     1.292218e+01\n",
       "std      3.184651e+01\n",
       "min      1.000000e+00\n",
       "25%      5.000000e+00\n",
       "50%      9.000000e+00\n",
       "75%      1.400000e+01\n",
       "max      1.437000e+03\n",
       "Name: duration_min, dtype: float64"
      ]
     },
     "execution_count": 36,
     "metadata": {},
     "output_type": "execute_result"
    }
   ],
   "source": [
    "df[\"duration_min\"].describe()"
   ]
  },
  {
   "cell_type": "code",
   "execution_count": 37,
   "metadata": {},
   "outputs": [
    {
     "name": "stdout",
     "output_type": "stream",
     "text": [
      "9.0\n",
      "12.922182449001125\n"
     ]
    }
   ],
   "source": [
    "print(np.median(df[\"duration_min\"]))\n",
    "print(np.mean(df[\"duration_min\"]))"
   ]
  },
  {
   "cell_type": "markdown",
   "metadata": {},
   "source": [
    "the distribution of rent duration peaks at around 10 min, but has also entries above 1000 min."
   ]
  },
  {
   "cell_type": "markdown",
   "metadata": {},
   "source": [
    "**usage per month**"
   ]
  },
  {
   "cell_type": "code",
   "execution_count": 38,
   "metadata": {},
   "outputs": [
    {
     "data": {
      "image/png": "[encoded data removed]",
      "text/plain": [
       "<Figure size 864x576 with 1 Axes>"
      ]
     },
     "metadata": {
      "needs_background": "light"
     },
     "output_type": "display_data"
    }
   ],
   "source": [
    "plt.figure(figsize=(12,8))\n",
    "sb.countplot(data= df, x=\"month\",color = base_color);"
   ]
  },
  {
   "cell_type": "markdown",
   "metadata": {},
   "source": [
    "Bikes are most used in march, april and october.\n",
    "December has the least amount of bikes rented."
   ]
  },
  {
   "cell_type": "markdown",
   "metadata": {},
   "source": [
    "**usage per weekday**"
   ]
  },
  {
   "cell_type": "code",
   "execution_count": 39,
   "metadata": {},
   "outputs": [
    {
     "data": {
      "image/png": "[encoded data removed]",
      "text/plain": [
       "<Figure size 864x576 with 1 Axes>"
      ]
     },
     "metadata": {
      "needs_background": "light"
     },
     "output_type": "display_data"
    }
   ],
   "source": [
    "plt.figure(figsize=(12,8))\n",
    "sb.countplot(data= df, x=\"weekday\",color = base_color);"
   ]
  },
  {
   "cell_type": "raw",
   "metadata": {},
   "source": [
    "Bikes are more frequently used on workdays than on the weekend"
   ]
  },
  {
   "cell_type": "markdown",
   "metadata": {},
   "source": [
    "**usage per hour**"
   ]
  },
  {
   "cell_type": "code",
   "execution_count": 40,
   "metadata": {},
   "outputs": [
    {
     "data": {
      "image/png": "[encoded data removed]",
      "text/plain": [
       "<Figure size 864x576 with 1 Axes>"
      ]
     },
     "metadata": {
      "needs_background": "light"
     },
     "output_type": "display_data"
    }
   ],
   "source": [
    "plt.figure(figsize=(12,8))\n",
    "sb.countplot(data= df, x=\"hour\",color = base_color);"
   ]
  },
  {
   "cell_type": "markdown",
   "metadata": {},
   "source": [
    "Bikes are rarely rented at night.\n",
    "Most user rent a bike around 8 and 17 o'clock. Probably on their way from or to work. "
   ]
  },
  {
   "cell_type": "markdown",
   "metadata": {},
   "source": [
    "**Comparing the Distribution of customer vs subscriber**"
   ]
  },
  {
   "cell_type": "code",
   "execution_count": 41,
   "metadata": {},
   "outputs": [
    {
     "data": {
      "image/png": "[encoded data removed]",
      "text/plain": [
       "<Figure size 864x576 with 1 Axes>"
      ]
     },
     "metadata": {
      "needs_background": "light"
     },
     "output_type": "display_data"
    }
   ],
   "source": [
    "plt.figure(figsize=(12,8))\n",
    "sb.countplot(data= df, x=\"user_type\",color = base_color);"
   ]
  },
  {
   "cell_type": "code",
   "execution_count": 42,
   "metadata": {},
   "outputs": [
    {
     "name": "stdout",
     "output_type": "stream",
     "text": [
      "amount of Non_subscriber (%):  19.616376966500074\n",
      "amount of Subscriber (%):  80.38362303349993\n"
     ]
    }
   ],
   "source": [
    "print(\"amount of Non_subscriber (%): \" ,(df[\"user_type\"]==\"Non_subscriber\").mean()*100)\n",
    "print(\"amount of Subscriber (%): \" ,(df[\"user_type\"]==\"Subscriber\").mean()*100)"
   ]
  },
  {
   "cell_type": "markdown",
   "metadata": {},
   "source": [
    "Most people using the bike renting service subscribed to it, only a minority pays every trip individually."
   ]
  },
  {
   "cell_type": "markdown",
   "metadata": {},
   "source": [
    "**Histograms of start and end station usage**"
   ]
  },
  {
   "cell_type": "code",
   "execution_count": 43,
   "metadata": {},
   "outputs": [
    {
     "data": {
      "image/png": "[encoded data removed]",
      "text/plain": [
       "<Figure size 1080x864 with 2 Axes>"
      ]
     },
     "metadata": {
      "needs_background": "light"
     },
     "output_type": "display_data"
    }
   ],
   "source": [
    "plt.figure(figsize=(15,12))\n",
    "plt.subplot(221)\n",
    "plt.hist(data=df,x=\"start_station_id\",color=base_color);\n",
    "plt.ylabel(\"count\");\n",
    "plt.xlabel(\"start_staton_id\");\n",
    "plt.subplot(222)\n",
    "plt.hist(data=df,x=\"end_station_id\",color=base_color);\n",
    "plt.ylabel(\"count\");\n",
    "plt.xlabel(\"end_staton_id\");"
   ]
  },
  {
   "cell_type": "code",
   "execution_count": 44,
   "metadata": {},
   "outputs": [
    {
     "data": {
      "text/html": [
       "<div>\n",
       "<style scoped>\n",
       "    .dataframe tbody tr th:only-of-type {\n",
       "        vertical-align: middle;\n",
       "    }\n",
       "\n",
       "    .dataframe tbody tr th {\n",
       "        vertical-align: top;\n",
       "    }\n",
       "\n",
       "    .dataframe thead th {\n",
       "        text-align: right;\n",
       "    }\n",
       "</style>\n",
       "<table border=\"1\" class=\"dataframe\">\n",
       "  <thead>\n",
       "    <tr style=\"text-align: right;\">\n",
       "      <th></th>\n",
       "      <th>start_station</th>\n",
       "      <th>end_station</th>\n",
       "    </tr>\n",
       "  </thead>\n",
       "  <tbody>\n",
       "    <tr>\n",
       "      <th>count</th>\n",
       "      <td>2.407259e+06</td>\n",
       "      <td>2.407259e+06</td>\n",
       "    </tr>\n",
       "    <tr>\n",
       "      <th>mean</th>\n",
       "      <td>1.462493e+02</td>\n",
       "      <td>1.424856e+02</td>\n",
       "    </tr>\n",
       "    <tr>\n",
       "      <th>std</th>\n",
       "      <td>1.221971e+02</td>\n",
       "      <td>1.213367e+02</td>\n",
       "    </tr>\n",
       "    <tr>\n",
       "      <th>min</th>\n",
       "      <td>3.000000e+00</td>\n",
       "      <td>3.000000e+00</td>\n",
       "    </tr>\n",
       "    <tr>\n",
       "      <th>25%</th>\n",
       "      <td>4.700000e+01</td>\n",
       "      <td>4.200000e+01</td>\n",
       "    </tr>\n",
       "    <tr>\n",
       "      <th>50%</th>\n",
       "      <td>1.040000e+02</td>\n",
       "      <td>1.010000e+02</td>\n",
       "    </tr>\n",
       "    <tr>\n",
       "      <th>75%</th>\n",
       "      <td>2.420000e+02</td>\n",
       "      <td>2.390000e+02</td>\n",
       "    </tr>\n",
       "    <tr>\n",
       "      <th>max</th>\n",
       "      <td>4.980000e+02</td>\n",
       "      <td>4.980000e+02</td>\n",
       "    </tr>\n",
       "  </tbody>\n",
       "</table>\n",
       "</div>"
      ],
      "text/plain": [
       "       start_station   end_station\n",
       "count   2.407259e+06  2.407259e+06\n",
       "mean    1.462493e+02  1.424856e+02\n",
       "std     1.221971e+02  1.213367e+02\n",
       "min     3.000000e+00  3.000000e+00\n",
       "25%     4.700000e+01  4.200000e+01\n",
       "50%     1.040000e+02  1.010000e+02\n",
       "75%     2.420000e+02  2.390000e+02\n",
       "max     4.980000e+02  4.980000e+02"
      ]
     },
     "execution_count": 44,
     "metadata": {},
     "output_type": "execute_result"
    }
   ],
   "source": [
    "df_temp=pd.DataFrame({\"start_station\": df[\"start_station_id\"].describe(),\"end_station\": df[\"end_station_id\"].describe()})\n",
    "df_temp"
   ]
  },
  {
   "cell_type": "markdown",
   "metadata": {},
   "source": [
    "Distribution of start and end station usage are very similar. It looks like most frequent start stations are also most frequent end stations, would be interesting to see if the same people use often the same start and end station or if different people are compensating this.\n",
    "\n",
    "Also, the station with id number up to 150 seem to be way more often used as the later ones. I guess the company first put their bikes at positions where they knew they would have a lot of customers and later added more points in regions were less people are using the service."
   ]
  },
  {
   "cell_type": "markdown",
   "metadata": {},
   "source": [
    "### Discuss the distribution(s) of your variable(s) of interest. Were there any unusual points? Did you need to perform any transformations?\n",
    "\n",
    "\n",
    "- The most used bike is number 3135 with 912 times rented. almost made it to 1000...\n",
    "\n",
    "\n",
    "- rent duration has an average of 12 min (sd=27) with outliers above 1000, so I used a log scale. The high outliers influence  the statistics, so average and sd are maybe not the best statistics to describe this distribution. Maybe it would  better to say the median is 9 and 75% of all bike trips are below 14 min.\n",
    "\n",
    "- Bikes are most often used in March, April and October.\n",
    "\n",
    "\n",
    "- Bikes are more often rented within the workweek as on the weekend\n",
    "\n",
    "\n",
    "- Most user rent a bike around 8 and 17 o'clock. Probably on their way from or to work. \n",
    "\n",
    "\n",
    "- The service is mostly used by subscribern (90%) and only a minority (10%) uses it as Customer. subscription means here that one of the three possible subscription is used (daily, monthly or yearly), while customer means a single ride for 2-3$ below 45 min.\n",
    "\n",
    "\n",
    "- distribution of start and end station seems to be very similar. so stations where a lot of bikes are rented are also stations were a lot of bikes are given back.\n",
    "\n",
    "### Of the features you investigated, were there any unusual distributions? Did you perform any operations on the data to tidy, adjust, or change the form of the data? If so, why did you do this?\n",
    "\n",
    "- I changed the user_type for users that have no subscription to non_subscription, since both user_types are customers of the bike renting company.\n",
    "\n",
    "\n",
    "- the duration of an individual bike ride was given in seconds, I changed that to minutes to make more easy to relate to."
   ]
  },
  {
   "cell_type": "markdown",
   "metadata": {},
   "source": [
    "## Bivariate Exploration\n"
   ]
  },
  {
   "cell_type": "markdown",
   "metadata": {},
   "source": [
    "**user_type vs duration**"
   ]
  },
  {
   "cell_type": "code",
   "execution_count": 45,
   "metadata": {},
   "outputs": [],
   "source": [
    "#make grouped dataframe, groupby user_type\n",
    "df2 = pd.DataFrame( df.groupby(\"user_type\")[[\"duration_min\"]].mean())"
   ]
  },
  {
   "cell_type": "code",
   "execution_count": 46,
   "metadata": {},
   "outputs": [
    {
     "data": {
      "image/png": "[encoded data removed]",
      "text/plain": [
       "<Figure size 432x288 with 1 Axes>"
      ]
     },
     "metadata": {
      "needs_background": "light"
     },
     "output_type": "display_data"
    }
   ],
   "source": [
    "sb.barplot(data=df2,x= df2.index,y=\"duration_min\",color=base_color);"
   ]
  },
  {
   "cell_type": "markdown",
   "metadata": {},
   "source": [
    "Interestingly non_subscriber are using the bikes for a longer duration on average as subscriber."
   ]
  },
  {
   "cell_type": "markdown",
   "metadata": {},
   "source": [
    "**average duration of trip per month**"
   ]
  },
  {
   "cell_type": "code",
   "execution_count": 47,
   "metadata": {},
   "outputs": [],
   "source": [
    "df2 = pd.DataFrame( df.groupby(\"month\")[\"duration_min\"].mean())\n",
    "df2[\"month\"] = df2.index"
   ]
  },
  {
   "cell_type": "code",
   "execution_count": 48,
   "metadata": {},
   "outputs": [
    {
     "data": {
      "image/png": "[encoded data removed]",
      "text/plain": [
       "<Figure size 720x288 with 1 Axes>"
      ]
     },
     "metadata": {
      "needs_background": "light"
     },
     "output_type": "display_data"
    }
   ],
   "source": [
    "df2.plot.bar(x=\"month\",y=\"duration_min\",color=base_color,figsize=(10,4));\n",
    "\n",
    "plt.ylabel(\"duration\");\n",
    "plt.xlabel(\"month\");\n",
    "plt.xticks(rotation=0);"
   ]
  },
  {
   "cell_type": "markdown",
   "metadata": {},
   "source": [
    "average usage time is higher in the summer month."
   ]
  },
  {
   "cell_type": "markdown",
   "metadata": {},
   "source": [
    "**average duration of trip per weekday**"
   ]
  },
  {
   "cell_type": "code",
   "execution_count": 49,
   "metadata": {},
   "outputs": [],
   "source": [
    "df3 = pd.DataFrame( df.groupby(\"weekday\")[\"duration_min\"].mean())\n",
    "df3[\"weekday\"] = df3.index"
   ]
  },
  {
   "cell_type": "code",
   "execution_count": 50,
   "metadata": {},
   "outputs": [
    {
     "data": {
      "image/png": "[encoded data removed]",
      "text/plain": [
       "<Figure size 720x288 with 1 Axes>"
      ]
     },
     "metadata": {
      "needs_background": "light"
     },
     "output_type": "display_data"
    }
   ],
   "source": [
    "df3.plot.bar(x=\"weekday\",y=\"duration_min\",color=base_color,figsize=(10,4));\n",
    "\n",
    "plt.ylabel(\"duration\");\n",
    "plt.xlabel(\"weekday\");\n",
    "plt.xticks(rotation=0);"
   ]
  },
  {
   "cell_type": "markdown",
   "metadata": {},
   "source": [
    "average "
   ]
  },
  {
   "cell_type": "markdown",
   "metadata": {},
   "source": [
    "**average duration of trip per hour**"
   ]
  },
  {
   "cell_type": "code",
   "execution_count": 51,
   "metadata": {},
   "outputs": [],
   "source": [
    "df4 = pd.DataFrame( df.groupby(\"hour\")[\"duration_min\"].mean())\n",
    "df4[\"hour\"] = df4.index"
   ]
  },
  {
   "cell_type": "code",
   "execution_count": 52,
   "metadata": {},
   "outputs": [
    {
     "data": {
      "image/png": "[encoded data removed]",
      "text/plain": [
       "<Figure size 720x288 with 1 Axes>"
      ]
     },
     "metadata": {
      "needs_background": "light"
     },
     "output_type": "display_data"
    }
   ],
   "source": [
    "df4.plot.bar(x=\"hour\",y=\"duration_min\",color=base_color,figsize=(10,4));\n",
    "\n",
    "plt.ylabel(\"duration\");\n",
    "plt.xlabel(\"hour\");\n",
    "plt.xticks(rotation=0);"
   ]
  },
  {
   "cell_type": "markdown",
   "metadata": {},
   "source": [
    "The distribution is inversly correlated with the amount of bike trips per hour. There is a bias of small sample size at nighttime, where almost no one rents a bike, so the average is hihger compared to midday where people rent a bike also for very small amounts of time."
   ]
  },
  {
   "cell_type": "markdown",
   "metadata": {},
   "source": [
    "**duration of bike rides from individual start_stations** "
   ]
  },
  {
   "cell_type": "code",
   "execution_count": 53,
   "metadata": {},
   "outputs": [
    {
     "data": {
      "text/plain": [
       "(0, 45)"
      ]
     },
     "execution_count": 53,
     "metadata": {},
     "output_type": "execute_result"
    },
    {
     "data": {
      "image/png": "[encoded data removed]",
      "text/plain": [
       "<Figure size 1152x576 with 1 Axes>"
      ]
     },
     "metadata": {
      "needs_background": "light"
     },
     "output_type": "display_data"
    }
   ],
   "source": [
    "df4 =pd.DataFrame( df.groupby(\"start_station_id\")[[\"duration_min\"]].mean())\n",
    "plt.figure(figsize=(16,8))\n",
    "sb.lineplot(data = df4, x=df4.index,y=\"duration_min\");\n",
    "plt.ylim(0,45)"
   ]
  },
  {
   "cell_type": "markdown",
   "metadata": {},
   "source": [
    "It appears that there are stations from where more often longer bike trips are started."
   ]
  },
  {
   "cell_type": "code",
   "execution_count": 54,
   "metadata": {},
   "outputs": [
    {
     "data": {
      "image/png": "[encoded data removed]",
      "text/plain": [
       "<Figure size 1152x576 with 1 Axes>"
      ]
     },
     "metadata": {
      "needs_background": "light"
     },
     "output_type": "display_data"
    }
   ],
   "source": [
    "plt.figure(figsize=(16,8))\n",
    "sb.scatterplot(data = df4, x=df4.index,y=\"duration_min\",alpha=0.7);"
   ]
  },
  {
   "cell_type": "markdown",
   "metadata": {},
   "source": [
    "long bike trips starting form a station with an id below 150 seems to be an exception. While longer trips become more frequent at stations with higer id number.\n",
    "This could be due to the position of the stations. Maybe the higher id number stations are farther away from the city center, while the lower id numbers are for stations within the city center.\n",
    "\n"
   ]
  },
  {
   "cell_type": "code",
   "execution_count": 55,
   "metadata": {},
   "outputs": [
    {
     "data": {
      "image/png": "[encoded data removed]",
      "text/plain": [
       "<Figure size 1152x576 with 1 Axes>"
      ]
     },
     "metadata": {
      "needs_background": "light"
     },
     "output_type": "display_data"
    }
   ],
   "source": [
    "plt.figure(figsize=(16,8))\n",
    "sb.regplot(data = df4, x=df4.index,y=\"duration_min\");"
   ]
  },
  {
   "cell_type": "markdown",
   "metadata": {},
   "source": [
    "Also, it seems that the shortest duration for renting is higher in the first 150 station id numbers, while it is longer in the higher number stations."
   ]
  },
  {
   "cell_type": "code",
   "execution_count": 56,
   "metadata": {},
   "outputs": [
    {
     "data": {
      "text/html": [
       "<div>\n",
       "<style scoped>\n",
       "    .dataframe tbody tr th:only-of-type {\n",
       "        vertical-align: middle;\n",
       "    }\n",
       "\n",
       "    .dataframe tbody tr th {\n",
       "        vertical-align: top;\n",
       "    }\n",
       "\n",
       "    .dataframe thead th {\n",
       "        text-align: right;\n",
       "    }\n",
       "</style>\n",
       "<table border=\"1\" class=\"dataframe\">\n",
       "  <thead>\n",
       "    <tr style=\"text-align: right;\">\n",
       "      <th></th>\n",
       "      <th>duration_min</th>\n",
       "    </tr>\n",
       "  </thead>\n",
       "  <tbody>\n",
       "    <tr>\n",
       "      <th>count</th>\n",
       "      <td>434.000000</td>\n",
       "    </tr>\n",
       "    <tr>\n",
       "      <th>mean</th>\n",
       "      <td>15.095849</td>\n",
       "    </tr>\n",
       "    <tr>\n",
       "      <th>std</th>\n",
       "      <td>6.750392</td>\n",
       "    </tr>\n",
       "    <tr>\n",
       "      <th>min</th>\n",
       "      <td>1.000000</td>\n",
       "    </tr>\n",
       "    <tr>\n",
       "      <th>25%</th>\n",
       "      <td>10.972401</td>\n",
       "    </tr>\n",
       "    <tr>\n",
       "      <th>50%</th>\n",
       "      <td>12.989508</td>\n",
       "    </tr>\n",
       "    <tr>\n",
       "      <th>75%</th>\n",
       "      <td>16.782126</td>\n",
       "    </tr>\n",
       "    <tr>\n",
       "      <th>max</th>\n",
       "      <td>62.730769</td>\n",
       "    </tr>\n",
       "  </tbody>\n",
       "</table>\n",
       "</div>"
      ],
      "text/plain": [
       "       duration_min\n",
       "count    434.000000\n",
       "mean      15.095849\n",
       "std        6.750392\n",
       "min        1.000000\n",
       "25%       10.972401\n",
       "50%       12.989508\n",
       "75%       16.782126\n",
       "max       62.730769"
      ]
     },
     "execution_count": 56,
     "metadata": {},
     "output_type": "execute_result"
    }
   ],
   "source": [
    "df4.describe()"
   ]
  },
  {
   "cell_type": "markdown",
   "metadata": {},
   "source": []
  },
  {
   "cell_type": "markdown",
   "metadata": {},
   "source": [
    "### Talk about some of the relationships you observed in this part of the investigation. How did the feature(s) of interest vary with other features in the dataset?\n",
    "\n",
    "- The types of customer (non_subscribers/subscribers) differ in the average length of a bike ride. Non subscribers rent the bike longer on average.\n",
    "\n",
    "- average trip duration seems to be a little higher in the summer month compared to the winter month.\n",
    "\n",
    "- average trip duration is higher on the weekends. So it appears that on weekends less people rent a bike, but those that do take longer trips.\n",
    "\n",
    "- Stations with higher id numbers seem to be more frequent the start point for trips above 20 min, while the lower station id numbers are mostly restricted to trips below 20 min. An exception to that is one outlier with the max length of 1400 min.\n",
    "\n",
    "\n",
    "### Did you observe any interesting relationships between the other features (not the main feature(s) of interest)?\n",
    "\n",
    "\n",
    "I thought it is quite interesting that the lenght of a trip varies with the station_id number where the bike was rented. It is probably due to the location of the station and how close they are to the city center. but still it is interesting that you can find out these kind of things through looking at the data."
   ]
  },
  {
   "cell_type": "markdown",
   "metadata": {},
   "source": [
    "## Multivariate Exploration\n",
    "\n",
    "> Create plots of three or more variables to investigate your data even\n",
    "further. Make sure that your investigations are justified, and follow from\n",
    "your work in the previous sections."
   ]
  },
  {
   "cell_type": "markdown",
   "metadata": {},
   "source": [
    "**usage of bikes per weekday compared within the year**\n",
    "\n",
    "looking specifically at average amount of time a bike is rented. "
   ]
  },
  {
   "cell_type": "code",
   "execution_count": 57,
   "metadata": {},
   "outputs": [],
   "source": [
    "df5 = pd.DataFrame( df.groupby([\"month\",\"weekday\"])[\"duration_min\"].mean())\n",
    "df5[\"temp\"] = df5.index\n",
    "df5[\"month\"] = [x[0] for x in df5[\"temp\"]]\n",
    "df5[\"weekday\"] = [x[1] for x in df5[\"temp\"]]\n"
   ]
  },
  {
   "cell_type": "code",
   "execution_count": 58,
   "metadata": {},
   "outputs": [
    {
     "data": {
      "image/png": "[encoded data removed]",
      "text/plain": [
       "<Figure size 1152x576 with 1 Axes>"
      ]
     },
     "metadata": {
      "needs_background": "light"
     },
     "output_type": "display_data"
    }
   ],
   "source": [
    "plt.figure(figsize=(16,8)) \n",
    "ax = sb.barplot(x=\"month\", y=\"duration_min\", hue=\"weekday\", data=df5)\n",
    "plt.ylabel(\"average trip duration (min)\");"
   ]
  },
  {
   "cell_type": "markdown",
   "metadata": {},
   "source": [
    "The average usage time in the workweek does not change throughout the year, but the average usage time at the weekend decreases on weekends.\n",
    "This shows again that the bikes are within the workweek mostly used to got to work, which is obviously also done in winter months. Bike trips on the weekend it seems are somewhat depended on the weather."
   ]
  },
  {
   "cell_type": "markdown",
   "metadata": {},
   "source": [
    "**usage of bikes per weekday compared within the year**\n",
    "\n",
    "looking specifically at the total amount of time bikes are rented. "
   ]
  },
  {
   "cell_type": "code",
   "execution_count": 59,
   "metadata": {},
   "outputs": [
    {
     "data": {
      "text/html": [
       "<div>\n",
       "<style scoped>\n",
       "    .dataframe tbody tr th:only-of-type {\n",
       "        vertical-align: middle;\n",
       "    }\n",
       "\n",
       "    .dataframe tbody tr th {\n",
       "        vertical-align: top;\n",
       "    }\n",
       "\n",
       "    .dataframe thead th {\n",
       "        text-align: right;\n",
       "    }\n",
       "</style>\n",
       "<table border=\"1\" class=\"dataframe\">\n",
       "  <thead>\n",
       "    <tr style=\"text-align: right;\">\n",
       "      <th></th>\n",
       "      <th></th>\n",
       "      <th>duration_min</th>\n",
       "      <th>temp</th>\n",
       "      <th>month</th>\n",
       "      <th>weekday</th>\n",
       "    </tr>\n",
       "    <tr>\n",
       "      <th>month</th>\n",
       "      <th>weekday</th>\n",
       "      <th></th>\n",
       "      <th></th>\n",
       "      <th></th>\n",
       "      <th></th>\n",
       "    </tr>\n",
       "  </thead>\n",
       "  <tbody>\n",
       "    <tr>\n",
       "      <th rowspan=\"5\" valign=\"top\">1</th>\n",
       "      <th>Friday</th>\n",
       "      <td>337397</td>\n",
       "      <td>(1, Friday)</td>\n",
       "      <td>1</td>\n",
       "      <td>Friday</td>\n",
       "    </tr>\n",
       "    <tr>\n",
       "      <th>Monday</th>\n",
       "      <td>330561</td>\n",
       "      <td>(1, Monday)</td>\n",
       "      <td>1</td>\n",
       "      <td>Monday</td>\n",
       "    </tr>\n",
       "    <tr>\n",
       "      <th>Saturday</th>\n",
       "      <td>277063</td>\n",
       "      <td>(1, Saturday)</td>\n",
       "      <td>1</td>\n",
       "      <td>Saturday</td>\n",
       "    </tr>\n",
       "    <tr>\n",
       "      <th>Sunday</th>\n",
       "      <td>181669</td>\n",
       "      <td>(1, Sunday)</td>\n",
       "      <td>1</td>\n",
       "      <td>Sunday</td>\n",
       "    </tr>\n",
       "    <tr>\n",
       "      <th>Thursday</th>\n",
       "      <td>425870</td>\n",
       "      <td>(1, Thursday)</td>\n",
       "      <td>1</td>\n",
       "      <td>Thursday</td>\n",
       "    </tr>\n",
       "    <tr>\n",
       "      <th>...</th>\n",
       "      <th>...</th>\n",
       "      <td>...</td>\n",
       "      <td>...</td>\n",
       "      <td>...</td>\n",
       "      <td>...</td>\n",
       "    </tr>\n",
       "    <tr>\n",
       "      <th rowspan=\"5\" valign=\"top\">12</th>\n",
       "      <th>Saturday</th>\n",
       "      <td>141297</td>\n",
       "      <td>(12, Saturday)</td>\n",
       "      <td>12</td>\n",
       "      <td>Saturday</td>\n",
       "    </tr>\n",
       "    <tr>\n",
       "      <th>Sunday</th>\n",
       "      <td>133310</td>\n",
       "      <td>(12, Sunday)</td>\n",
       "      <td>12</td>\n",
       "      <td>Sunday</td>\n",
       "    </tr>\n",
       "    <tr>\n",
       "      <th>Thursday</th>\n",
       "      <td>259949</td>\n",
       "      <td>(12, Thursday)</td>\n",
       "      <td>12</td>\n",
       "      <td>Thursday</td>\n",
       "    </tr>\n",
       "    <tr>\n",
       "      <th>Tuesday</th>\n",
       "      <td>298901</td>\n",
       "      <td>(12, Tuesday)</td>\n",
       "      <td>12</td>\n",
       "      <td>Tuesday</td>\n",
       "    </tr>\n",
       "    <tr>\n",
       "      <th>Wednesday</th>\n",
       "      <td>199888</td>\n",
       "      <td>(12, Wednesday)</td>\n",
       "      <td>12</td>\n",
       "      <td>Wednesday</td>\n",
       "    </tr>\n",
       "  </tbody>\n",
       "</table>\n",
       "<p>84 rows × 4 columns</p>\n",
       "</div>"
      ],
      "text/plain": [
       "                 duration_min             temp  month    weekday\n",
       "month weekday                                                   \n",
       "1     Friday           337397      (1, Friday)      1     Friday\n",
       "      Monday           330561      (1, Monday)      1     Monday\n",
       "      Saturday         277063    (1, Saturday)      1   Saturday\n",
       "      Sunday           181669      (1, Sunday)      1     Sunday\n",
       "      Thursday         425870    (1, Thursday)      1   Thursday\n",
       "...                       ...              ...    ...        ...\n",
       "12    Saturday         141297   (12, Saturday)     12   Saturday\n",
       "      Sunday           133310     (12, Sunday)     12     Sunday\n",
       "      Thursday         259949   (12, Thursday)     12   Thursday\n",
       "      Tuesday          298901    (12, Tuesday)     12    Tuesday\n",
       "      Wednesday        199888  (12, Wednesday)     12  Wednesday\n",
       "\n",
       "[84 rows x 4 columns]"
      ]
     },
     "execution_count": 59,
     "metadata": {},
     "output_type": "execute_result"
    }
   ],
   "source": [
    "df6 = pd.DataFrame( df.groupby([\"month\",\"weekday\"])[\"duration_min\"].sum())\n",
    "df6[\"temp\"] = df5.index\n",
    "df6[\"month\"] = [x[0] for x in df6[\"temp\"]]\n",
    "df6[\"weekday\"] = [x[1] for x in df6[\"temp\"]]\n",
    "df6"
   ]
  },
  {
   "cell_type": "code",
   "execution_count": 60,
   "metadata": {},
   "outputs": [
    {
     "data": {
      "image/png": "[encoded data removed]",
      "text/plain": [
       "<Figure size 1152x576 with 1 Axes>"
      ]
     },
     "metadata": {
      "needs_background": "light"
     },
     "output_type": "display_data"
    }
   ],
   "source": [
    "plt.figure(figsize=(16,8)) \n",
    "ax = sb.barplot(x=\"month\", y=\"duration_min\", hue=\"weekday\", data=df6)\n",
    "plt.ylabel(\"total renting duration (min)\");"
   ]
  },
  {
   "cell_type": "markdown",
   "metadata": {},
   "source": [
    "The amount of time bikes are rented within the workweek seems to be different from month to month.\n",
    "But it is always true that bikes are less long rented on the weekend.\n",
    "I would also have assumes that in the summer month bikes were rented longer compared to the winter, but the opposite appears to be true..."
   ]
  },
  {
   "cell_type": "markdown",
   "metadata": {},
   "source": [
    "**usage of bikes within a week compared between subscribers and non subscribers**\n",
    "\n",
    "especially looking at the average amount of time a bike is rented for."
   ]
  },
  {
   "cell_type": "code",
   "execution_count": 61,
   "metadata": {},
   "outputs": [
    {
     "data": {
      "text/html": [
       "<div>\n",
       "<style scoped>\n",
       "    .dataframe tbody tr th:only-of-type {\n",
       "        vertical-align: middle;\n",
       "    }\n",
       "\n",
       "    .dataframe tbody tr th {\n",
       "        vertical-align: top;\n",
       "    }\n",
       "\n",
       "    .dataframe thead th {\n",
       "        text-align: right;\n",
       "    }\n",
       "</style>\n",
       "<table border=\"1\" class=\"dataframe\">\n",
       "  <thead>\n",
       "    <tr style=\"text-align: right;\">\n",
       "      <th></th>\n",
       "      <th></th>\n",
       "      <th>duration_min</th>\n",
       "      <th>weekday</th>\n",
       "      <th>user_type</th>\n",
       "    </tr>\n",
       "    <tr>\n",
       "      <th>weekday</th>\n",
       "      <th>user_type</th>\n",
       "      <th></th>\n",
       "      <th></th>\n",
       "      <th></th>\n",
       "    </tr>\n",
       "  </thead>\n",
       "  <tbody>\n",
       "    <tr>\n",
       "      <th rowspan=\"2\" valign=\"top\">Friday</th>\n",
       "      <th>Non_subscriber</th>\n",
       "      <td>20.345834</td>\n",
       "      <td>Friday</td>\n",
       "      <td>Non_subscriber</td>\n",
       "    </tr>\n",
       "    <tr>\n",
       "      <th>Subscriber</th>\n",
       "      <td>10.592598</td>\n",
       "      <td>Friday</td>\n",
       "      <td>Subscriber</td>\n",
       "    </tr>\n",
       "    <tr>\n",
       "      <th rowspan=\"2\" valign=\"top\">Monday</th>\n",
       "      <th>Non_subscriber</th>\n",
       "      <td>20.297432</td>\n",
       "      <td>Monday</td>\n",
       "      <td>Non_subscriber</td>\n",
       "    </tr>\n",
       "    <tr>\n",
       "      <th>Subscriber</th>\n",
       "      <td>10.466507</td>\n",
       "      <td>Monday</td>\n",
       "      <td>Subscriber</td>\n",
       "    </tr>\n",
       "    <tr>\n",
       "      <th rowspan=\"2\" valign=\"top\">Saturday</th>\n",
       "      <th>Non_subscriber</th>\n",
       "      <td>28.263910</td>\n",
       "      <td>Saturday</td>\n",
       "      <td>Non_subscriber</td>\n",
       "    </tr>\n",
       "    <tr>\n",
       "      <th>Subscriber</th>\n",
       "      <td>12.010860</td>\n",
       "      <td>Saturday</td>\n",
       "      <td>Subscriber</td>\n",
       "    </tr>\n",
       "    <tr>\n",
       "      <th rowspan=\"2\" valign=\"top\">Sunday</th>\n",
       "      <th>Non_subscriber</th>\n",
       "      <td>28.130757</td>\n",
       "      <td>Sunday</td>\n",
       "      <td>Non_subscriber</td>\n",
       "    </tr>\n",
       "    <tr>\n",
       "      <th>Subscriber</th>\n",
       "      <td>12.017141</td>\n",
       "      <td>Sunday</td>\n",
       "      <td>Subscriber</td>\n",
       "    </tr>\n",
       "    <tr>\n",
       "      <th rowspan=\"2\" valign=\"top\">Thursday</th>\n",
       "      <th>Non_subscriber</th>\n",
       "      <td>19.530302</td>\n",
       "      <td>Thursday</td>\n",
       "      <td>Non_subscriber</td>\n",
       "    </tr>\n",
       "    <tr>\n",
       "      <th>Subscriber</th>\n",
       "      <td>10.395826</td>\n",
       "      <td>Thursday</td>\n",
       "      <td>Subscriber</td>\n",
       "    </tr>\n",
       "    <tr>\n",
       "      <th rowspan=\"2\" valign=\"top\">Tuesday</th>\n",
       "      <th>Non_subscriber</th>\n",
       "      <td>19.181587</td>\n",
       "      <td>Tuesday</td>\n",
       "      <td>Non_subscriber</td>\n",
       "    </tr>\n",
       "    <tr>\n",
       "      <th>Subscriber</th>\n",
       "      <td>10.373993</td>\n",
       "      <td>Tuesday</td>\n",
       "      <td>Subscriber</td>\n",
       "    </tr>\n",
       "    <tr>\n",
       "      <th rowspan=\"2\" valign=\"top\">Wednesday</th>\n",
       "      <th>Non_subscriber</th>\n",
       "      <td>19.033637</td>\n",
       "      <td>Wednesday</td>\n",
       "      <td>Non_subscriber</td>\n",
       "    </tr>\n",
       "    <tr>\n",
       "      <th>Subscriber</th>\n",
       "      <td>10.450174</td>\n",
       "      <td>Wednesday</td>\n",
       "      <td>Subscriber</td>\n",
       "    </tr>\n",
       "  </tbody>\n",
       "</table>\n",
       "</div>"
      ],
      "text/plain": [
       "                          duration_min    weekday       user_type\n",
       "weekday   user_type                                              \n",
       "Friday    Non_subscriber     20.345834     Friday  Non_subscriber\n",
       "          Subscriber         10.592598     Friday      Subscriber\n",
       "Monday    Non_subscriber     20.297432     Monday  Non_subscriber\n",
       "          Subscriber         10.466507     Monday      Subscriber\n",
       "Saturday  Non_subscriber     28.263910   Saturday  Non_subscriber\n",
       "          Subscriber         12.010860   Saturday      Subscriber\n",
       "Sunday    Non_subscriber     28.130757     Sunday  Non_subscriber\n",
       "          Subscriber         12.017141     Sunday      Subscriber\n",
       "Thursday  Non_subscriber     19.530302   Thursday  Non_subscriber\n",
       "          Subscriber         10.395826   Thursday      Subscriber\n",
       "Tuesday   Non_subscriber     19.181587    Tuesday  Non_subscriber\n",
       "          Subscriber         10.373993    Tuesday      Subscriber\n",
       "Wednesday Non_subscriber     19.033637  Wednesday  Non_subscriber\n",
       "          Subscriber         10.450174  Wednesday      Subscriber"
      ]
     },
     "execution_count": 61,
     "metadata": {},
     "output_type": "execute_result"
    }
   ],
   "source": [
    "df7 = pd.DataFrame( df.groupby([\"weekday\",\"user_type\"])[\"duration_min\"].mean())\n",
    "df7[\"temp\"] = df7.index\n",
    "df7[\"weekday\"] = [x[0] for x in df7[\"temp\"]]\n",
    "df7[\"user_type\"] = [x[1] for x in df7[\"temp\"]]\n",
    "df7 = df7.drop(\"temp\", axis =1)\n",
    "df7"
   ]
  },
  {
   "cell_type": "code",
   "execution_count": 62,
   "metadata": {},
   "outputs": [
    {
     "data": {
      "image/png": "[encoded data removed]",
      "text/plain": [
       "<Figure size 1152x576 with 1 Axes>"
      ]
     },
     "metadata": {
      "needs_background": "light"
     },
     "output_type": "display_data"
    }
   ],
   "source": [
    "plt.figure(figsize=(16,8)) \n",
    "ax = sb.barplot(x=\"weekday\", y=\"duration_min\", hue=\"user_type\", data=df7)\n",
    "plt.ylabel(\"average trip duration (min)\");"
   ]
  },
  {
   "cell_type": "code",
   "execution_count": 63,
   "metadata": {},
   "outputs": [
    {
     "name": "stdout",
     "output_type": "stream",
     "text": [
      "1.4736842105263157\n",
      "1.2\n"
     ]
    }
   ],
   "source": [
    "print(28/19)\n",
    "print(12/10)"
   ]
  },
  {
   "cell_type": "markdown",
   "metadata": {},
   "source": [
    "For both user type the average usage time increases on the weekend. \n",
    "\n",
    "But it increases 1.4 times for subscriber and only 1.2 times for non-subscribers."
   ]
  },
  {
   "cell_type": "markdown",
   "metadata": {},
   "source": [
    "**usage of bikes within a week compared between subscribers and non subscribers**\n",
    "\n",
    "especially looking at the amount of times a bike is rented."
   ]
  },
  {
   "cell_type": "code",
   "execution_count": 64,
   "metadata": {},
   "outputs": [
    {
     "data": {
      "text/html": [
       "<div>\n",
       "<style scoped>\n",
       "    .dataframe tbody tr th:only-of-type {\n",
       "        vertical-align: middle;\n",
       "    }\n",
       "\n",
       "    .dataframe tbody tr th {\n",
       "        vertical-align: top;\n",
       "    }\n",
       "\n",
       "    .dataframe thead th {\n",
       "        text-align: right;\n",
       "    }\n",
       "</style>\n",
       "<table border=\"1\" class=\"dataframe\">\n",
       "  <thead>\n",
       "    <tr style=\"text-align: right;\">\n",
       "      <th></th>\n",
       "      <th></th>\n",
       "      <th>duration_min</th>\n",
       "      <th>weekday</th>\n",
       "      <th>user_type</th>\n",
       "    </tr>\n",
       "    <tr>\n",
       "      <th>weekday</th>\n",
       "      <th>user_type</th>\n",
       "      <th></th>\n",
       "      <th></th>\n",
       "      <th></th>\n",
       "    </tr>\n",
       "  </thead>\n",
       "  <tbody>\n",
       "    <tr>\n",
       "      <th rowspan=\"2\" valign=\"top\">Friday</th>\n",
       "      <th>Non_subscriber</th>\n",
       "      <td>1505551</td>\n",
       "      <td>Friday</td>\n",
       "      <td>Non_subscriber</td>\n",
       "    </tr>\n",
       "    <tr>\n",
       "      <th>Subscriber</th>\n",
       "      <td>3267700</td>\n",
       "      <td>Friday</td>\n",
       "      <td>Subscriber</td>\n",
       "    </tr>\n",
       "    <tr>\n",
       "      <th rowspan=\"2\" valign=\"top\">Monday</th>\n",
       "      <th>Non_subscriber</th>\n",
       "      <td>1312229</td>\n",
       "      <td>Monday</td>\n",
       "      <td>Non_subscriber</td>\n",
       "    </tr>\n",
       "    <tr>\n",
       "      <th>Subscriber</th>\n",
       "      <td>3303219</td>\n",
       "      <td>Monday</td>\n",
       "      <td>Subscriber</td>\n",
       "    </tr>\n",
       "    <tr>\n",
       "      <th rowspan=\"2\" valign=\"top\">Saturday</th>\n",
       "      <th>Non_subscriber</th>\n",
       "      <td>1990288</td>\n",
       "      <td>Saturday</td>\n",
       "      <td>Non_subscriber</td>\n",
       "    </tr>\n",
       "    <tr>\n",
       "      <th>Subscriber</th>\n",
       "      <td>1810457</td>\n",
       "      <td>Saturday</td>\n",
       "      <td>Subscriber</td>\n",
       "    </tr>\n",
       "    <tr>\n",
       "      <th rowspan=\"2\" valign=\"top\">Sunday</th>\n",
       "      <th>Non_subscriber</th>\n",
       "      <td>1761548</td>\n",
       "      <td>Sunday</td>\n",
       "      <td>Non_subscriber</td>\n",
       "    </tr>\n",
       "    <tr>\n",
       "      <th>Subscriber</th>\n",
       "      <td>1652405</td>\n",
       "      <td>Sunday</td>\n",
       "      <td>Subscriber</td>\n",
       "    </tr>\n",
       "    <tr>\n",
       "      <th rowspan=\"2\" valign=\"top\">Thursday</th>\n",
       "      <th>Non_subscriber</th>\n",
       "      <td>1342845</td>\n",
       "      <td>Thursday</td>\n",
       "      <td>Non_subscriber</td>\n",
       "    </tr>\n",
       "    <tr>\n",
       "      <th>Subscriber</th>\n",
       "      <td>3566361</td>\n",
       "      <td>Thursday</td>\n",
       "      <td>Subscriber</td>\n",
       "    </tr>\n",
       "    <tr>\n",
       "      <th rowspan=\"2\" valign=\"top\">Tuesday</th>\n",
       "      <th>Non_subscriber</th>\n",
       "      <td>1284495</td>\n",
       "      <td>Tuesday</td>\n",
       "      <td>Non_subscriber</td>\n",
       "    </tr>\n",
       "    <tr>\n",
       "      <th>Subscriber</th>\n",
       "      <td>3561454</td>\n",
       "      <td>Tuesday</td>\n",
       "      <td>Subscriber</td>\n",
       "    </tr>\n",
       "    <tr>\n",
       "      <th rowspan=\"2\" valign=\"top\">Wednesday</th>\n",
       "      <th>Non_subscriber</th>\n",
       "      <td>1233551</td>\n",
       "      <td>Wednesday</td>\n",
       "      <td>Non_subscriber</td>\n",
       "    </tr>\n",
       "    <tr>\n",
       "      <th>Subscriber</th>\n",
       "      <td>3514937</td>\n",
       "      <td>Wednesday</td>\n",
       "      <td>Subscriber</td>\n",
       "    </tr>\n",
       "  </tbody>\n",
       "</table>\n",
       "</div>"
      ],
      "text/plain": [
       "                          duration_min    weekday       user_type\n",
       "weekday   user_type                                              \n",
       "Friday    Non_subscriber       1505551     Friday  Non_subscriber\n",
       "          Subscriber           3267700     Friday      Subscriber\n",
       "Monday    Non_subscriber       1312229     Monday  Non_subscriber\n",
       "          Subscriber           3303219     Monday      Subscriber\n",
       "Saturday  Non_subscriber       1990288   Saturday  Non_subscriber\n",
       "          Subscriber           1810457   Saturday      Subscriber\n",
       "Sunday    Non_subscriber       1761548     Sunday  Non_subscriber\n",
       "          Subscriber           1652405     Sunday      Subscriber\n",
       "Thursday  Non_subscriber       1342845   Thursday  Non_subscriber\n",
       "          Subscriber           3566361   Thursday      Subscriber\n",
       "Tuesday   Non_subscriber       1284495    Tuesday  Non_subscriber\n",
       "          Subscriber           3561454    Tuesday      Subscriber\n",
       "Wednesday Non_subscriber       1233551  Wednesday  Non_subscriber\n",
       "          Subscriber           3514937  Wednesday      Subscriber"
      ]
     },
     "execution_count": 64,
     "metadata": {},
     "output_type": "execute_result"
    }
   ],
   "source": [
    "df8 = pd.DataFrame( df.groupby([\"weekday\",\"user_type\"])[\"duration_min\"].sum())\n",
    "df8[\"temp\"] = df8.index\n",
    "df8[\"weekday\"] = [x[0] for x in df8[\"temp\"]]\n",
    "df8[\"user_type\"] = [x[1] for x in df8[\"temp\"]]\n",
    "df8 = df8.drop(\"temp\", axis =1)\n",
    "df8"
   ]
  },
  {
   "cell_type": "code",
   "execution_count": 65,
   "metadata": {},
   "outputs": [
    {
     "data": {
      "image/png": "[encoded data removed]",
      "text/plain": [
       "<Figure size 1152x576 with 1 Axes>"
      ]
     },
     "metadata": {
      "needs_background": "light"
     },
     "output_type": "display_data"
    }
   ],
   "source": [
    "plt.figure(figsize=(16,8)) \n",
    "ax = sb.barplot(x=\"weekday\", y=\"duration_min\", hue=\"user_type\", data=df8)\n",
    "plt.ylabel(\"total renting duration (min)\");"
   ]
  },
  {
   "cell_type": "markdown",
   "metadata": {},
   "source": [
    "Within the workweek Subscribers are the most important group for renting bikes, whole on the weekend both subscriber and non-subscriber are similar important for the bike sharing company."
   ]
  },
  {
   "cell_type": "code",
   "execution_count": 66,
   "metadata": {},
   "outputs": [
    {
     "data": {
      "image/png": "[encoded data removed]",
      "text/plain": [
       "<Figure size 1152x576 with 1 Axes>"
      ]
     },
     "metadata": {
      "needs_background": "light"
     },
     "output_type": "display_data"
    }
   ],
   "source": [
    "plt.figure(figsize=(16,8)) \n",
    "ax = sb.countplot(x=\"weekday\",  hue=\"user_type\", data=df)\n",
    "plt.ylabel(\"number of individual bike trips\");"
   ]
  },
  {
   "cell_type": "markdown",
   "metadata": {},
   "source": [
    "**usage per hour for customer type**"
   ]
  },
  {
   "cell_type": "code",
   "execution_count": 67,
   "metadata": {},
   "outputs": [
    {
     "data": {
      "image/png": "[encoded data removed]",
      "text/plain": [
       "<Figure size 864x576 with 1 Axes>"
      ]
     },
     "metadata": {
      "needs_background": "light"
     },
     "output_type": "display_data"
    }
   ],
   "source": [
    "plt.figure(figsize=(12,8))\n",
    "sb.countplot(data= df, x=\"hour\",hue= \"user_type\");"
   ]
  },
  {
   "cell_type": "markdown",
   "metadata": {},
   "source": [
    "looks like both user types show the same pattern just in a different scale."
   ]
  },
  {
   "cell_type": "markdown",
   "metadata": {},
   "source": [
    "### Talk about some of the relationships you observed in this part of the investigation. Were there features that strengthened each other in terms of looking at your feature(s) of interest?\n",
    "\n",
    "The two multivarainte plots show that:\n",
    "(1) The average amount of renting time stays the same through out the year. with longer average renting times at the weekend compared to the workweek.\n",
    "\n",
    "(2) The number of times bikes are rented is changing from month to month throughout the year. My initial assumption was that this feature was controlled by the seasons (more bike renting in the summer months), but this is apparently not true.\n",
    "    \n",
    "But it can be shown that on weekends less bikes are rentend compared to the workweek\n",
    "\n",
    "(3) A closer look at the user type shows that both subscriber and non-subscriber are renting the bikes longer on the weekend, with 1.4 and 1.2 times longer renting times, respectively.\n",
    "\n",
    "(4) The frequency which with the bikes are rented in the workweek is around 3 times higher for subscribers compared to non-subscribers.\n",
    "\n",
    "But on weekends the numbers are roughly the same.\n",
    "\n",
    "\n",
    "### Were there any interesting or surprising interactions between features?\n",
    "\n",
    "I kind of expected that the frequency with which the bikes are rentend is higher in the summer month when there is better weather.\n",
    "But I assumes that most of the customers are using the bikes to get from or to work. This would explain why the weather is not correlated with this feature."
   ]
  }
 ],
 "metadata": {
  "hide_input": false,
  "kernelspec": {
   "display_name": "Python 3",
   "language": "python",
   "name": "python3"
  },
  "language_info": {
   "codemirror_mode": {
    "name": "ipython",
    "version": 3
   },
   "file_extension": ".py",
   "mimetype": "text/x-python",
   "name": "python",
   "nbconvert_exporter": "python",
   "pygments_lexer": "ipython3",
   "version": "3.7.6"
  },
  "toc": {
   "base_numbering": 1,
   "nav_menu": {},
   "number_sections": true,
   "sideBar": true,
   "skip_h1_title": false,
   "title_cell": "Table of Contents",
   "title_sidebar": "Contents",
   "toc_cell": true,
   "toc_position": {},
   "toc_section_display": true,
   "toc_window_display": true
  }
 },
 "nbformat": 4,
 "nbformat_minor": 2
}
