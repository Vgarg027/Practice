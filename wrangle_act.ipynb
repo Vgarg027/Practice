{
 "cells": [
  {
   "cell_type": "markdown",
   "metadata": {
    "extensions": {
     "jupyter_dashboards": {
      "version": 1,
      "views": {
       "grid_default": {
        "col": 0,
        "height": 4,
        "hidden": false,
        "row": 0,
        "width": 4
       },
       "report_default": {
        "hidden": false
       }
      }
     }
    }
   },
   "source": [
    "# Project: Wrangling and Analyze Data"
   ]
  },
  {
   "cell_type": "markdown",
   "metadata": {},
   "source": [
    "## Data Gathering\n",
    "In the cell below, gather **all** three pieces of data for this project and load them in the notebook. **Note:** the methods required to gather each data are different.\n",
    "1. Directly download the WeRateDogs Twitter archive data (twitter_archive_enhanced.csv)"
   ]
  },
  {
   "cell_type": "code",
   "execution_count": 1,
   "metadata": {},
   "outputs": [],
   "source": [
    "#import necessary libraries to be used for this data analysis\n",
    "import numpy as np\n",
    "import pandas as pd\n",
    "import matplotlib.pyplot as plt\n",
    "import seaborn as sns\n",
    "import json\n",
    "import requests\n",
    "import tweepy\n",
    "import re\n",
    "import datetime\n",
    "import random\n",
    "import os\n",
    "from matplotlib import cm\n",
    "%matplotlib inline"
   ]
  },
  {
   "cell_type": "code",
   "execution_count": 2,
   "metadata": {},
   "outputs": [],
   "source": [
    "# load the the provided enhanced archive data into Dataframe\n",
    "df_tae = pd.read_csv('twitter-archive-enhanced.csv')"
   ]
  },
  {
   "cell_type": "code",
   "execution_count": 3,
   "metadata": {},
   "outputs": [
    {
     "data": {
      "text/html": [
       "<div>\n",
       "<style scoped>\n",
       "    .dataframe tbody tr th:only-of-type {\n",
       "        vertical-align: middle;\n",
       "    }\n",
       "\n",
       "    .dataframe tbody tr th {\n",
       "        vertical-align: top;\n",
       "    }\n",
       "\n",
       "    .dataframe thead th {\n",
       "        text-align: right;\n",
       "    }\n",
       "</style>\n",
       "<table border=\"1\" class=\"dataframe\">\n",
       "  <thead>\n",
       "    <tr style=\"text-align: right;\">\n",
       "      <th></th>\n",
       "      <th>tweet_id</th>\n",
       "      <th>in_reply_to_status_id</th>\n",
       "      <th>in_reply_to_user_id</th>\n",
       "      <th>timestamp</th>\n",
       "      <th>source</th>\n",
       "      <th>text</th>\n",
       "      <th>retweeted_status_id</th>\n",
       "      <th>retweeted_status_user_id</th>\n",
       "      <th>retweeted_status_timestamp</th>\n",
       "      <th>expanded_urls</th>\n",
       "      <th>rating_numerator</th>\n",
       "      <th>rating_denominator</th>\n",
       "      <th>name</th>\n",
       "      <th>doggo</th>\n",
       "      <th>floofer</th>\n",
       "      <th>pupper</th>\n",
       "      <th>puppo</th>\n",
       "    </tr>\n",
       "  </thead>\n",
       "  <tbody>\n",
       "    <tr>\n",
       "      <th>0</th>\n",
       "      <td>892420643555336193</td>\n",
       "      <td>NaN</td>\n",
       "      <td>NaN</td>\n",
       "      <td>2017-08-01 16:23:56 +0000</td>\n",
       "      <td>&lt;a href=\"http://twitter.com/download/iphone\" r...</td>\n",
       "      <td>This is Phineas. He's a mystical boy. Only eve...</td>\n",
       "      <td>NaN</td>\n",
       "      <td>NaN</td>\n",
       "      <td>NaN</td>\n",
       "      <td>https://twitter.com/dog_rates/status/892420643...</td>\n",
       "      <td>13</td>\n",
       "      <td>10</td>\n",
       "      <td>Phineas</td>\n",
       "      <td>None</td>\n",
       "      <td>None</td>\n",
       "      <td>None</td>\n",
       "      <td>None</td>\n",
       "    </tr>\n",
       "    <tr>\n",
       "      <th>1</th>\n",
       "      <td>892177421306343426</td>\n",
       "      <td>NaN</td>\n",
       "      <td>NaN</td>\n",
       "      <td>2017-08-01 00:17:27 +0000</td>\n",
       "      <td>&lt;a href=\"http://twitter.com/download/iphone\" r...</td>\n",
       "      <td>This is Tilly. She's just checking pup on you....</td>\n",
       "      <td>NaN</td>\n",
       "      <td>NaN</td>\n",
       "      <td>NaN</td>\n",
       "      <td>https://twitter.com/dog_rates/status/892177421...</td>\n",
       "      <td>13</td>\n",
       "      <td>10</td>\n",
       "      <td>Tilly</td>\n",
       "      <td>None</td>\n",
       "      <td>None</td>\n",
       "      <td>None</td>\n",
       "      <td>None</td>\n",
       "    </tr>\n",
       "    <tr>\n",
       "      <th>2</th>\n",
       "      <td>891815181378084864</td>\n",
       "      <td>NaN</td>\n",
       "      <td>NaN</td>\n",
       "      <td>2017-07-31 00:18:03 +0000</td>\n",
       "      <td>&lt;a href=\"http://twitter.com/download/iphone\" r...</td>\n",
       "      <td>This is Archie. He is a rare Norwegian Pouncin...</td>\n",
       "      <td>NaN</td>\n",
       "      <td>NaN</td>\n",
       "      <td>NaN</td>\n",
       "      <td>https://twitter.com/dog_rates/status/891815181...</td>\n",
       "      <td>12</td>\n",
       "      <td>10</td>\n",
       "      <td>Archie</td>\n",
       "      <td>None</td>\n",
       "      <td>None</td>\n",
       "      <td>None</td>\n",
       "      <td>None</td>\n",
       "    </tr>\n",
       "    <tr>\n",
       "      <th>3</th>\n",
       "      <td>891689557279858688</td>\n",
       "      <td>NaN</td>\n",
       "      <td>NaN</td>\n",
       "      <td>2017-07-30 15:58:51 +0000</td>\n",
       "      <td>&lt;a href=\"http://twitter.com/download/iphone\" r...</td>\n",
       "      <td>This is Darla. She commenced a snooze mid meal...</td>\n",
       "      <td>NaN</td>\n",
       "      <td>NaN</td>\n",
       "      <td>NaN</td>\n",
       "      <td>https://twitter.com/dog_rates/status/891689557...</td>\n",
       "      <td>13</td>\n",
       "      <td>10</td>\n",
       "      <td>Darla</td>\n",
       "      <td>None</td>\n",
       "      <td>None</td>\n",
       "      <td>None</td>\n",
       "      <td>None</td>\n",
       "    </tr>\n",
       "    <tr>\n",
       "      <th>4</th>\n",
       "      <td>891327558926688256</td>\n",
       "      <td>NaN</td>\n",
       "      <td>NaN</td>\n",
       "      <td>2017-07-29 16:00:24 +0000</td>\n",
       "      <td>&lt;a href=\"http://twitter.com/download/iphone\" r...</td>\n",
       "      <td>This is Franklin. He would like you to stop ca...</td>\n",
       "      <td>NaN</td>\n",
       "      <td>NaN</td>\n",
       "      <td>NaN</td>\n",
       "      <td>https://twitter.com/dog_rates/status/891327558...</td>\n",
       "      <td>12</td>\n",
       "      <td>10</td>\n",
       "      <td>Franklin</td>\n",
       "      <td>None</td>\n",
       "      <td>None</td>\n",
       "      <td>None</td>\n",
       "      <td>None</td>\n",
       "    </tr>\n",
       "  </tbody>\n",
       "</table>\n",
       "</div>"
      ],
      "text/plain": [
       "             tweet_id  in_reply_to_status_id  in_reply_to_user_id  \\\n",
       "0  892420643555336193                    NaN                  NaN   \n",
       "1  892177421306343426                    NaN                  NaN   \n",
       "2  891815181378084864                    NaN                  NaN   \n",
       "3  891689557279858688                    NaN                  NaN   \n",
       "4  891327558926688256                    NaN                  NaN   \n",
       "\n",
       "                   timestamp  \\\n",
       "0  2017-08-01 16:23:56 +0000   \n",
       "1  2017-08-01 00:17:27 +0000   \n",
       "2  2017-07-31 00:18:03 +0000   \n",
       "3  2017-07-30 15:58:51 +0000   \n",
       "4  2017-07-29 16:00:24 +0000   \n",
       "\n",
       "                                              source  \\\n",
       "0  <a href=\"http://twitter.com/download/iphone\" r...   \n",
       "1  <a href=\"http://twitter.com/download/iphone\" r...   \n",
       "2  <a href=\"http://twitter.com/download/iphone\" r...   \n",
       "3  <a href=\"http://twitter.com/download/iphone\" r...   \n",
       "4  <a href=\"http://twitter.com/download/iphone\" r...   \n",
       "\n",
       "                                                text  retweeted_status_id  \\\n",
       "0  This is Phineas. He's a mystical boy. Only eve...                  NaN   \n",
       "1  This is Tilly. She's just checking pup on you....                  NaN   \n",
       "2  This is Archie. He is a rare Norwegian Pouncin...                  NaN   \n",
       "3  This is Darla. She commenced a snooze mid meal...                  NaN   \n",
       "4  This is Franklin. He would like you to stop ca...                  NaN   \n",
       "\n",
       "   retweeted_status_user_id retweeted_status_timestamp  \\\n",
       "0                       NaN                        NaN   \n",
       "1                       NaN                        NaN   \n",
       "2                       NaN                        NaN   \n",
       "3                       NaN                        NaN   \n",
       "4                       NaN                        NaN   \n",
       "\n",
       "                                       expanded_urls  rating_numerator  \\\n",
       "0  https://twitter.com/dog_rates/status/892420643...                13   \n",
       "1  https://twitter.com/dog_rates/status/892177421...                13   \n",
       "2  https://twitter.com/dog_rates/status/891815181...                12   \n",
       "3  https://twitter.com/dog_rates/status/891689557...                13   \n",
       "4  https://twitter.com/dog_rates/status/891327558...                12   \n",
       "\n",
       "   rating_denominator      name doggo floofer pupper puppo  \n",
       "0                  10   Phineas  None    None   None  None  \n",
       "1                  10     Tilly  None    None   None  None  \n",
       "2                  10    Archie  None    None   None  None  \n",
       "3                  10     Darla  None    None   None  None  \n",
       "4                  10  Franklin  None    None   None  None  "
      ]
     },
     "execution_count": 3,
     "metadata": {},
     "output_type": "execute_result"
    }
   ],
   "source": [
    "#display the first row of the data\n",
    "#inspect the data\n",
    "df_tae.head()"
   ]
  },
  {
   "cell_type": "code",
   "execution_count": 4,
   "metadata": {},
   "outputs": [
    {
     "data": {
      "text/plain": [
       "(2356, 17)"
      ]
     },
     "execution_count": 4,
     "metadata": {},
     "output_type": "execute_result"
    }
   ],
   "source": [
    "#display the number of rows and columns in the archive tweets data\n",
    "df_tae.shape"
   ]
  },
  {
   "cell_type": "code",
   "execution_count": 5,
   "metadata": {},
   "outputs": [
    {
     "data": {
      "text/plain": [
       "tweet_id                                                     891087950875897856\n",
       "in_reply_to_status_id                                                       NaN\n",
       "in_reply_to_user_id                                                         NaN\n",
       "timestamp                                             2017-07-29 00:08:17 +0000\n",
       "source                        <a href=\"http://twitter.com/download/iphone\" r...\n",
       "text                          Here we have a majestic great white breaching ...\n",
       "retweeted_status_id                                                         NaN\n",
       "retweeted_status_user_id                                                    NaN\n",
       "retweeted_status_timestamp                                                  NaN\n",
       "expanded_urls                 https://twitter.com/dog_rates/status/891087950...\n",
       "rating_numerator                                                             13\n",
       "rating_denominator                                                           10\n",
       "name                                                                       None\n",
       "doggo                                                                      None\n",
       "floofer                                                                    None\n",
       "pupper                                                                     None\n",
       "puppo                                                                      None\n",
       "Name: 5, dtype: object"
      ]
     },
     "execution_count": 5,
     "metadata": {},
     "output_type": "execute_result"
    }
   ],
   "source": [
    "#display sample of the data in the dataframe\n",
    "sample_tweet = df_tae.iloc[5]\n",
    "sample_tweet"
   ]
  },
  {
   "cell_type": "markdown",
   "metadata": {},
   "source": [
    "2. Use the Requests library to download the tweet image prediction (image_predictions.tsv)"
   ]
  },
  {
   "cell_type": "code",
   "execution_count": 6,
   "metadata": {},
   "outputs": [
    {
     "data": {
      "text/plain": [
       "<Response [200]>"
      ]
     },
     "execution_count": 6,
     "metadata": {},
     "output_type": "execute_result"
    }
   ],
   "source": [
    "# use the request library to download the image prediction file using the link provided in the documentation\n",
    "predict_url = 'https://d17h27t6h515a5.cloudfront.net/topher/2017/August/599fd2ad_image-predictions/image-predictions.tsv'\n",
    "#download the data behind the url\n",
    "response = requests.get(predict_url)\n",
    "response\n"
   ]
  },
  {
   "cell_type": "code",
   "execution_count": 7,
   "metadata": {},
   "outputs": [],
   "source": [
    "#open the response into a new name called predict_url\n",
    "with open(predict_url.split('/')[-1], mode = 'wb') as file:\n",
    "    file.write(response.content)"
   ]
  },
  {
   "cell_type": "code",
   "execution_count": 8,
   "metadata": {},
   "outputs": [
    {
     "name": "stdout",
     "output_type": "stream",
     "text": [
      "image-predictions.tsv\r\n"
     ]
    }
   ],
   "source": [
    "ls *.tsv"
   ]
  },
  {
   "cell_type": "code",
   "execution_count": 9,
   "metadata": {},
   "outputs": [],
   "source": [
    "# read image prediction file into DataFrame\n",
    "df_prediction = pd.read_csv('image-predictions.tsv', sep = '\\t')"
   ]
  },
  {
   "cell_type": "code",
   "execution_count": 10,
   "metadata": {},
   "outputs": [
    {
     "data": {
      "text/html": [
       "<div>\n",
       "<style scoped>\n",
       "    .dataframe tbody tr th:only-of-type {\n",
       "        vertical-align: middle;\n",
       "    }\n",
       "\n",
       "    .dataframe tbody tr th {\n",
       "        vertical-align: top;\n",
       "    }\n",
       "\n",
       "    .dataframe thead th {\n",
       "        text-align: right;\n",
       "    }\n",
       "</style>\n",
       "<table border=\"1\" class=\"dataframe\">\n",
       "  <thead>\n",
       "    <tr style=\"text-align: right;\">\n",
       "      <th></th>\n",
       "      <th>tweet_id</th>\n",
       "      <th>jpg_url</th>\n",
       "      <th>img_num</th>\n",
       "      <th>p1</th>\n",
       "      <th>p1_conf</th>\n",
       "      <th>p1_dog</th>\n",
       "      <th>p2</th>\n",
       "      <th>p2_conf</th>\n",
       "      <th>p2_dog</th>\n",
       "      <th>p3</th>\n",
       "      <th>p3_conf</th>\n",
       "      <th>p3_dog</th>\n",
       "    </tr>\n",
       "  </thead>\n",
       "  <tbody>\n",
       "    <tr>\n",
       "      <th>0</th>\n",
       "      <td>666020888022790149</td>\n",
       "      <td>https://pbs.twimg.com/media/CT4udn0WwAA0aMy.jpg</td>\n",
       "      <td>1</td>\n",
       "      <td>Welsh_springer_spaniel</td>\n",
       "      <td>0.465074</td>\n",
       "      <td>True</td>\n",
       "      <td>collie</td>\n",
       "      <td>0.156665</td>\n",
       "      <td>True</td>\n",
       "      <td>Shetland_sheepdog</td>\n",
       "      <td>0.061428</td>\n",
       "      <td>True</td>\n",
       "    </tr>\n",
       "    <tr>\n",
       "      <th>1</th>\n",
       "      <td>666029285002620928</td>\n",
       "      <td>https://pbs.twimg.com/media/CT42GRgUYAA5iDo.jpg</td>\n",
       "      <td>1</td>\n",
       "      <td>redbone</td>\n",
       "      <td>0.506826</td>\n",
       "      <td>True</td>\n",
       "      <td>miniature_pinscher</td>\n",
       "      <td>0.074192</td>\n",
       "      <td>True</td>\n",
       "      <td>Rhodesian_ridgeback</td>\n",
       "      <td>0.072010</td>\n",
       "      <td>True</td>\n",
       "    </tr>\n",
       "    <tr>\n",
       "      <th>2</th>\n",
       "      <td>666033412701032449</td>\n",
       "      <td>https://pbs.twimg.com/media/CT4521TWwAEvMyu.jpg</td>\n",
       "      <td>1</td>\n",
       "      <td>German_shepherd</td>\n",
       "      <td>0.596461</td>\n",
       "      <td>True</td>\n",
       "      <td>malinois</td>\n",
       "      <td>0.138584</td>\n",
       "      <td>True</td>\n",
       "      <td>bloodhound</td>\n",
       "      <td>0.116197</td>\n",
       "      <td>True</td>\n",
       "    </tr>\n",
       "    <tr>\n",
       "      <th>3</th>\n",
       "      <td>666044226329800704</td>\n",
       "      <td>https://pbs.twimg.com/media/CT5Dr8HUEAA-lEu.jpg</td>\n",
       "      <td>1</td>\n",
       "      <td>Rhodesian_ridgeback</td>\n",
       "      <td>0.408143</td>\n",
       "      <td>True</td>\n",
       "      <td>redbone</td>\n",
       "      <td>0.360687</td>\n",
       "      <td>True</td>\n",
       "      <td>miniature_pinscher</td>\n",
       "      <td>0.222752</td>\n",
       "      <td>True</td>\n",
       "    </tr>\n",
       "    <tr>\n",
       "      <th>4</th>\n",
       "      <td>666049248165822465</td>\n",
       "      <td>https://pbs.twimg.com/media/CT5IQmsXIAAKY4A.jpg</td>\n",
       "      <td>1</td>\n",
       "      <td>miniature_pinscher</td>\n",
       "      <td>0.560311</td>\n",
       "      <td>True</td>\n",
       "      <td>Rottweiler</td>\n",
       "      <td>0.243682</td>\n",
       "      <td>True</td>\n",
       "      <td>Doberman</td>\n",
       "      <td>0.154629</td>\n",
       "      <td>True</td>\n",
       "    </tr>\n",
       "  </tbody>\n",
       "</table>\n",
       "</div>"
      ],
      "text/plain": [
       "             tweet_id                                          jpg_url  \\\n",
       "0  666020888022790149  https://pbs.twimg.com/media/CT4udn0WwAA0aMy.jpg   \n",
       "1  666029285002620928  https://pbs.twimg.com/media/CT42GRgUYAA5iDo.jpg   \n",
       "2  666033412701032449  https://pbs.twimg.com/media/CT4521TWwAEvMyu.jpg   \n",
       "3  666044226329800704  https://pbs.twimg.com/media/CT5Dr8HUEAA-lEu.jpg   \n",
       "4  666049248165822465  https://pbs.twimg.com/media/CT5IQmsXIAAKY4A.jpg   \n",
       "\n",
       "   img_num                      p1   p1_conf  p1_dog                  p2  \\\n",
       "0        1  Welsh_springer_spaniel  0.465074    True              collie   \n",
       "1        1                 redbone  0.506826    True  miniature_pinscher   \n",
       "2        1         German_shepherd  0.596461    True            malinois   \n",
       "3        1     Rhodesian_ridgeback  0.408143    True             redbone   \n",
       "4        1      miniature_pinscher  0.560311    True          Rottweiler   \n",
       "\n",
       "    p2_conf  p2_dog                   p3   p3_conf  p3_dog  \n",
       "0  0.156665    True    Shetland_sheepdog  0.061428    True  \n",
       "1  0.074192    True  Rhodesian_ridgeback  0.072010    True  \n",
       "2  0.138584    True           bloodhound  0.116197    True  \n",
       "3  0.360687    True   miniature_pinscher  0.222752    True  \n",
       "4  0.243682    True             Doberman  0.154629    True  "
      ]
     },
     "execution_count": 10,
     "metadata": {},
     "output_type": "execute_result"
    }
   ],
   "source": [
    "# display the first 5 rows of the image prediction file \n",
    "#inspect the data\n",
    "df_prediction.head()"
   ]
  },
  {
   "cell_type": "code",
   "execution_count": 11,
   "metadata": {},
   "outputs": [
    {
     "data": {
      "text/plain": [
       "2075"
      ]
     },
     "execution_count": 11,
     "metadata": {},
     "output_type": "execute_result"
    }
   ],
   "source": [
    "# count tweets from image-predictions.tsv (number of tweets with images)\n",
    "df_prediction.shape[0]"
   ]
  },
  {
   "cell_type": "markdown",
   "metadata": {},
   "source": [
    "3. Use the Tweepy library to query additional data via the Twitter API (tweet_json.txt)"
   ]
  },
  {
   "cell_type": "code",
   "execution_count": 12,
   "metadata": {},
   "outputs": [],
   "source": [
    "\n",
    "consumer_key = 'Confidential'\n",
    "consumer_secret = 'Confidential'\n",
    "access_token = 'Confidential'\n",
    "access_secret = 'Confidential'\n",
    "\n",
    "# configure connection (http://docs.tweepy.org/en/v3.5.0/auth_tutorial.html)\n",
    "auth = tweepy.OAuthHandler(consumer_key, consumer_secret)\n",
    "auth.set_access_token(access_token, access_secret)\n",
    "\n",
    "# create an API object \n",
    "api = tweepy.API(auth, wait_on_rate_limit=True)"
   ]
  },
  {
   "cell_type": "code",
   "execution_count": 13,
   "metadata": {},
   "outputs": [],
   "source": [
    "import time\n",
    "\n",
    "start_time = time.time()\n",
    "end_time = time.time()"
   ]
  },
  {
   "cell_type": "code",
   "execution_count": 14,
   "metadata": {},
   "outputs": [
    {
     "name": "stdout",
     "output_type": "stream",
     "text": [
      "# of tweet_ids: 2356\n",
      "\n",
      "TweepError for id:  888202515573088257\n",
      "TweepError for id:  873697596434513921\n",
      "loop # 100\n",
      "TweepError for id:  872668790621863937\n",
      "TweepError for id:  872261713294495745\n",
      "TweepError for id:  869988702071779329\n",
      "TweepError for id:  866816280283807744\n",
      "TweepError for id:  861769973181624320\n",
      "TweepError for id:  856602993587888130\n",
      "TweepError for id:  856330835276025856\n",
      "loop # 200\n",
      "TweepError for id:  851953902622658560\n",
      "TweepError for id:  851861385021730816\n",
      "TweepError for id:  845459076796616705\n",
      "TweepError for id:  844704788403113984\n",
      "TweepError for id:  842892208864923648\n",
      "TweepError for id:  837366284874571778\n",
      "TweepError for id:  837012587749474308\n",
      "loop # 300\n",
      "TweepError for id:  829374341691346946\n",
      "TweepError for id:  827228250799742977\n",
      "loop # 400\n",
      "loop # 500\n",
      "TweepError for id:  812747805718642688\n",
      "TweepError for id:  802247111496568832\n",
      "loop # 600\n",
      "loop # 700\n",
      "TweepError for id:  779123168116150273\n",
      "TweepError for id:  775096608509886464\n",
      "loop # 800\n",
      "TweepError for id:  771004394259247104\n",
      "TweepError for id:  770743923962707968\n",
      "TweepError for id:  766864461642756096\n",
      "TweepError for id:  759923798737051648\n",
      "TweepError for id:  759566828574212096\n",
      "loop # 900\n",
      "TweepError for id:  754011816964026368\n",
      "loop # 1000\n",
      "loop # 1100\n",
      "loop # 1200\n",
      "loop # 1300\n",
      "loop # 1400\n",
      "loop # 1500\n",
      "loop # 1600\n",
      "loop # 1700\n",
      "TweepError for id:  680055455951884288\n",
      "loop # 1800\n",
      "loop # 1900\n",
      "loop # 2000\n",
      "loop # 2100\n",
      "loop # 2200\n",
      "loop # 2300\n",
      "\n",
      "Time elapsed (HH:MM:SS):  00:37:37\n",
      "\n",
      "Number of TweepErrors:  29\n",
      "\n",
      "888202515573088257 [{'code': 144, 'message': 'No status found with that ID.'}]\n",
      "873697596434513921 [{'code': 144, 'message': 'No status found with that ID.'}]\n",
      "872668790621863937 [{'code': 144, 'message': 'No status found with that ID.'}]\n",
      "872261713294495745 [{'code': 144, 'message': 'No status found with that ID.'}]\n",
      "869988702071779329 [{'code': 144, 'message': 'No status found with that ID.'}]\n",
      "866816280283807744 [{'code': 144, 'message': 'No status found with that ID.'}]\n",
      "861769973181624320 [{'code': 144, 'message': 'No status found with that ID.'}]\n",
      "856602993587888130 [{'code': 144, 'message': 'No status found with that ID.'}]\n",
      "856330835276025856 [{'code': 34, 'message': 'Sorry, that page does not exist.'}]\n",
      "851953902622658560 [{'code': 144, 'message': 'No status found with that ID.'}]\n",
      "851861385021730816 [{'code': 144, 'message': 'No status found with that ID.'}]\n",
      "845459076796616705 [{'code': 144, 'message': 'No status found with that ID.'}]\n",
      "844704788403113984 [{'code': 144, 'message': 'No status found with that ID.'}]\n",
      "842892208864923648 [{'code': 144, 'message': 'No status found with that ID.'}]\n",
      "837366284874571778 [{'code': 144, 'message': 'No status found with that ID.'}]\n",
      "837012587749474308 [{'code': 144, 'message': 'No status found with that ID.'}]\n",
      "829374341691346946 [{'code': 144, 'message': 'No status found with that ID.'}]\n",
      "827228250799742977 [{'code': 144, 'message': 'No status found with that ID.'}]\n",
      "812747805718642688 [{'code': 144, 'message': 'No status found with that ID.'}]\n",
      "802247111496568832 [{'code': 144, 'message': 'No status found with that ID.'}]\n",
      "779123168116150273 [{'code': 144, 'message': 'No status found with that ID.'}]\n",
      "775096608509886464 [{'code': 144, 'message': 'No status found with that ID.'}]\n",
      "771004394259247104 [{'code': 179, 'message': 'Sorry, you are not authorized to see this status.'}]\n",
      "770743923962707968 [{'code': 144, 'message': 'No status found with that ID.'}]\n",
      "766864461642756096 [{'code': 144, 'message': 'No status found with that ID.'}]\n",
      "759923798737051648 [{'code': 144, 'message': 'No status found with that ID.'}]\n",
      "759566828574212096 [{'code': 144, 'message': 'No status found with that ID.'}]\n",
      "754011816964026368 [{'code': 144, 'message': 'No status found with that ID.'}]\n",
      "680055455951884288 [{'code': 144, 'message': 'No status found with that ID.'}]\n"
     ]
    }
   ],
   "source": [
    "# Get a list of tweet_ids from the enhanced twitter archive to use for \n",
    "# downloading with the Twitter API\n",
    "\n",
    "tweet_ids = df_tae.tweet_id.values\n",
    "print(\"# of tweet_ids: \" + str(len(tweet_ids)) + \"\\n\")\n",
    "\n",
    "count = 0\n",
    "tweet_json_list = []\n",
    "fails_dict = {}\n",
    "\n",
    "start_time = time.time()\n",
    "\n",
    "for tweet_id in tweet_ids:\n",
    "    count += 1\n",
    "    try:\n",
    "        # attempt to get the tweet's JSON data and append to the tweet JSON list\n",
    "        tweet = api.get_status(tweet_id, tweet_mode = 'extended')\n",
    "        tweet_json_list.append(tweet._json)\n",
    "    except tweepy.TweepError as err:\n",
    "        # save the error to the fail dictionary for review\n",
    "        print(\"TweepError for id:  \" + str(tweet_id))\n",
    "        fails_dict[tweet_id] = err\n",
    "        pass\n",
    "    # To save space, only print out loop/tweet id for every 100th tweet\n",
    "    if count % 100 == 0:\n",
    "        print(\"loop # \" + str(count))\n",
    "\n",
    "elapsed_time = time.time() - start_time\n",
    "\n",
    "elapsed_time_str = time.strftime(\"%H:%M:%S\", time.gmtime(elapsed_time))\n",
    "print(\"\\nTime elapsed (HH:MM:SS):  \" + elapsed_time_str + \"\\n\")\n",
    "\n",
    "# display list of tweets with errors\n",
    "print(\"Number of TweepErrors:  {}\\n\".format(len(fails_dict)))\n",
    "for tweet_id in fails_dict:\n",
    "    print(tweet_id, fails_dict[tweet_id])"
   ]
  },
  {
   "cell_type": "code",
   "execution_count": 15,
   "metadata": {},
   "outputs": [],
   "source": [
    "tweet_json_file = 'tweet_json.txt'"
   ]
  },
  {
   "cell_type": "code",
   "execution_count": 16,
   "metadata": {},
   "outputs": [],
   "source": [
    "# save the JSON data in the list to the output file\n",
    "with open(tweet_json_file, 'w') as file:\n",
    "    for tweet_json in tweet_json_list:\n",
    "        json.dump(tweet_json, file)\n",
    "        file.write('\\n')"
   ]
  },
  {
   "cell_type": "code",
   "execution_count": 17,
   "metadata": {},
   "outputs": [
    {
     "data": {
      "text/html": [
       "<div>\n",
       "<style scoped>\n",
       "    .dataframe tbody tr th:only-of-type {\n",
       "        vertical-align: middle;\n",
       "    }\n",
       "\n",
       "    .dataframe tbody tr th {\n",
       "        vertical-align: top;\n",
       "    }\n",
       "\n",
       "    .dataframe thead th {\n",
       "        text-align: right;\n",
       "    }\n",
       "</style>\n",
       "<table border=\"1\" class=\"dataframe\">\n",
       "  <thead>\n",
       "    <tr style=\"text-align: right;\">\n",
       "      <th></th>\n",
       "      <th>tweet_id</th>\n",
       "      <th>retweet_count</th>\n",
       "      <th>favorite_count</th>\n",
       "    </tr>\n",
       "  </thead>\n",
       "  <tbody>\n",
       "    <tr>\n",
       "      <th>0</th>\n",
       "      <td>892420643555336193</td>\n",
       "      <td>7009</td>\n",
       "      <td>33801</td>\n",
       "    </tr>\n",
       "    <tr>\n",
       "      <th>1</th>\n",
       "      <td>892177421306343426</td>\n",
       "      <td>5301</td>\n",
       "      <td>29336</td>\n",
       "    </tr>\n",
       "    <tr>\n",
       "      <th>2</th>\n",
       "      <td>891815181378084864</td>\n",
       "      <td>3481</td>\n",
       "      <td>22060</td>\n",
       "    </tr>\n",
       "    <tr>\n",
       "      <th>3</th>\n",
       "      <td>891689557279858688</td>\n",
       "      <td>7219</td>\n",
       "      <td>36903</td>\n",
       "    </tr>\n",
       "    <tr>\n",
       "      <th>4</th>\n",
       "      <td>891327558926688256</td>\n",
       "      <td>7762</td>\n",
       "      <td>35314</td>\n",
       "    </tr>\n",
       "    <tr>\n",
       "      <th>5</th>\n",
       "      <td>891087950875897856</td>\n",
       "      <td>2602</td>\n",
       "      <td>17815</td>\n",
       "    </tr>\n",
       "    <tr>\n",
       "      <th>6</th>\n",
       "      <td>890971913173991426</td>\n",
       "      <td>1664</td>\n",
       "      <td>10354</td>\n",
       "    </tr>\n",
       "    <tr>\n",
       "      <th>7</th>\n",
       "      <td>890729181411237888</td>\n",
       "      <td>15756</td>\n",
       "      <td>56822</td>\n",
       "    </tr>\n",
       "    <tr>\n",
       "      <th>8</th>\n",
       "      <td>890609185150312448</td>\n",
       "      <td>3622</td>\n",
       "      <td>24518</td>\n",
       "    </tr>\n",
       "    <tr>\n",
       "      <th>9</th>\n",
       "      <td>890240255349198849</td>\n",
       "      <td>6101</td>\n",
       "      <td>27945</td>\n",
       "    </tr>\n",
       "  </tbody>\n",
       "</table>\n",
       "</div>"
      ],
      "text/plain": [
       "             tweet_id  retweet_count  favorite_count\n",
       "0  892420643555336193           7009           33801\n",
       "1  892177421306343426           5301           29336\n",
       "2  891815181378084864           3481           22060\n",
       "3  891689557279858688           7219           36903\n",
       "4  891327558926688256           7762           35314\n",
       "5  891087950875897856           2602           17815\n",
       "6  890971913173991426           1664           10354\n",
       "7  890729181411237888          15756           56822\n",
       "8  890609185150312448           3622           24518\n",
       "9  890240255349198849           6101           27945"
      ]
     },
     "execution_count": 17,
     "metadata": {},
     "output_type": "execute_result"
    }
   ],
   "source": [
    "# read in the JSON data from the text file, and save to a DataFrame\n",
    "tweet_json_data = []\n",
    "\n",
    "with open(tweet_json_file, 'r') as json_file:\n",
    "    # read the first line to start the loop\n",
    "    line = json_file.readline()\n",
    "    while line:\n",
    "        data = json.loads(line)\n",
    "\n",
    "        # extract variables from the JSON data\n",
    "        data_id = data['id']\n",
    "        data_retweet_count = data['retweet_count']\n",
    "        data_favorite_count = data['favorite_count']\n",
    "        \n",
    "        # create a dictionary with the JSON data, then add to a list\n",
    "        json_data = {'tweet_id': data_id, \n",
    "                     'retweet_count': data_retweet_count, \n",
    "                     'favorite_count': data_favorite_count\n",
    "                    }\n",
    "        tweet_json_data.append(json_data)\n",
    "\n",
    "        # read the next line of JSON data\n",
    "        line = json_file.readline()\n",
    "        # ----- while -----\n",
    "\n",
    "# convert the tweet JSON data dictionary list to a DataFrame\n",
    "df_tweet = pd.DataFrame(tweet_json_data, \n",
    "                                   columns = ['tweet_id',\n",
    "                                              'retweet_count',\n",
    "                                              'favorite_count'])\n",
    "\n",
    "df_tweet.head(10)"
   ]
  },
  {
   "cell_type": "code",
   "execution_count": 18,
   "metadata": {},
   "outputs": [
    {
     "data": {
      "text/html": [
       "<div>\n",
       "<style scoped>\n",
       "    .dataframe tbody tr th:only-of-type {\n",
       "        vertical-align: middle;\n",
       "    }\n",
       "\n",
       "    .dataframe tbody tr th {\n",
       "        vertical-align: top;\n",
       "    }\n",
       "\n",
       "    .dataframe thead th {\n",
       "        text-align: right;\n",
       "    }\n",
       "</style>\n",
       "<table border=\"1\" class=\"dataframe\">\n",
       "  <thead>\n",
       "    <tr style=\"text-align: right;\">\n",
       "      <th></th>\n",
       "      <th>tweet_id</th>\n",
       "      <th>in_reply_to_status_id</th>\n",
       "      <th>in_reply_to_user_id</th>\n",
       "      <th>timestamp</th>\n",
       "      <th>source</th>\n",
       "      <th>text</th>\n",
       "      <th>retweeted_status_id</th>\n",
       "      <th>retweeted_status_user_id</th>\n",
       "      <th>retweeted_status_timestamp</th>\n",
       "      <th>expanded_urls</th>\n",
       "      <th>rating_numerator</th>\n",
       "      <th>rating_denominator</th>\n",
       "      <th>name</th>\n",
       "      <th>doggo</th>\n",
       "      <th>floofer</th>\n",
       "      <th>pupper</th>\n",
       "      <th>puppo</th>\n",
       "    </tr>\n",
       "  </thead>\n",
       "  <tbody>\n",
       "    <tr>\n",
       "      <th>887</th>\n",
       "      <td>759923798737051648</td>\n",
       "      <td>NaN</td>\n",
       "      <td>NaN</td>\n",
       "      <td>2016-08-01 01:28:46 +0000</td>\n",
       "      <td>&lt;a href=\"http://twitter.com/download/iphone\" r...</td>\n",
       "      <td>We only rate dogs... this is a Taiwanese Guide...</td>\n",
       "      <td>NaN</td>\n",
       "      <td>NaN</td>\n",
       "      <td>NaN</td>\n",
       "      <td>https://twitter.com/dog_rates/status/759923798...</td>\n",
       "      <td>10</td>\n",
       "      <td>10</td>\n",
       "      <td>None</td>\n",
       "      <td>None</td>\n",
       "      <td>None</td>\n",
       "      <td>None</td>\n",
       "      <td>None</td>\n",
       "    </tr>\n",
       "  </tbody>\n",
       "</table>\n",
       "</div>"
      ],
      "text/plain": [
       "               tweet_id  in_reply_to_status_id  in_reply_to_user_id  \\\n",
       "887  759923798737051648                    NaN                  NaN   \n",
       "\n",
       "                     timestamp  \\\n",
       "887  2016-08-01 01:28:46 +0000   \n",
       "\n",
       "                                                source  \\\n",
       "887  <a href=\"http://twitter.com/download/iphone\" r...   \n",
       "\n",
       "                                                  text  retweeted_status_id  \\\n",
       "887  We only rate dogs... this is a Taiwanese Guide...                  NaN   \n",
       "\n",
       "     retweeted_status_user_id retweeted_status_timestamp  \\\n",
       "887                       NaN                        NaN   \n",
       "\n",
       "                                         expanded_urls  rating_numerator  \\\n",
       "887  https://twitter.com/dog_rates/status/759923798...                10   \n",
       "\n",
       "     rating_denominator  name doggo floofer pupper puppo  \n",
       "887                  10  None  None    None   None  None  "
      ]
     },
     "execution_count": 18,
     "metadata": {},
     "output_type": "execute_result"
    }
   ],
   "source": [
    "# display row with tweet id 759923798737051648 for data inspection\n",
    "df_tae[df_tae.tweet_id==759923798737051648]"
   ]
  },
  {
   "cell_type": "code",
   "execution_count": 19,
   "metadata": {},
   "outputs": [
    {
     "name": "stdout",
     "output_type": "stream",
     "text": [
      "<class 'pandas.core.frame.DataFrame'>\n",
      "RangeIndex: 2327 entries, 0 to 2326\n",
      "Data columns (total 3 columns):\n",
      "tweet_id          2327 non-null int64\n",
      "retweet_count     2327 non-null int64\n",
      "favorite_count    2327 non-null int64\n",
      "dtypes: int64(3)\n",
      "memory usage: 54.6 KB\n"
     ]
    }
   ],
   "source": [
    "#inspect the data \n",
    "df_tweet.info()"
   ]
  },
  {
   "cell_type": "code",
   "execution_count": 20,
   "metadata": {},
   "outputs": [],
   "source": [
    "#convert tweet data to csv file\n",
    "df_tweet.to_csv('tweet_data_extra.csv', index = False)"
   ]
  },
  {
   "cell_type": "markdown",
   "metadata": {
    "extensions": {
     "jupyter_dashboards": {
      "version": 1,
      "views": {
       "grid_default": {
        "col": 4,
        "height": 4,
        "hidden": false,
        "row": 28,
        "width": 4
       },
       "report_default": {
        "hidden": false
       }
      }
     }
    }
   },
   "source": [
    "## Assessing Data\n",
    "In this section, detect and document at least **eight (8) quality issues and two (2) tidiness issue**. You must use **both** visual assessment\n",
    "programmatic assessement to assess the data.\n",
    "\n",
    "**Note:** pay attention to the following key points when you access the data.\n",
    "\n",
    "* You only want original ratings (no retweets) that have images. Though there are 5000+ tweets in the dataset, not all are dog ratings and some are retweets.\n",
    "* Assessing and cleaning the entire dataset completely would require a lot of time, and is not necessary to practice and demonstrate your skills in data wrangling. Therefore, the requirements of this project are only to assess and clean at least 8 quality issues and at least 2 tidiness issues in this dataset.\n",
    "* The fact that the rating numerators are greater than the denominators does not need to be cleaned. This [unique rating system](http://knowyourmeme.com/memes/theyre-good-dogs-brent) is a big part of the popularity of WeRateDogs.\n",
    "* You do not need to gather the tweets beyond August 1st, 2017. You can, but note that you won't be able to gather the image predictions for these tweets since you don't have access to the algorithm used.\n",
    "\n"
   ]
  },
  {
   "cell_type": "code",
   "execution_count": 21,
   "metadata": {},
   "outputs": [],
   "source": [
    "# Load the data gathered data files\n",
    "df_tae = pd.read_csv('twitter-archive-enhanced.csv')\n",
    "df_prediction = pd.read_csv('image-predictions.tsv', sep = '\\\\t', engine = 'python')\n",
    "df_tweet = pd.read_csv('tweet_data_extra.csv')"
   ]
  },
  {
   "cell_type": "markdown",
   "metadata": {},
   "source": [
    "**Twitter enhanced archive data**"
   ]
  },
  {
   "cell_type": "code",
   "execution_count": 22,
   "metadata": {},
   "outputs": [
    {
     "data": {
      "text/html": [
       "<div>\n",
       "<style scoped>\n",
       "    .dataframe tbody tr th:only-of-type {\n",
       "        vertical-align: middle;\n",
       "    }\n",
       "\n",
       "    .dataframe tbody tr th {\n",
       "        vertical-align: top;\n",
       "    }\n",
       "\n",
       "    .dataframe thead th {\n",
       "        text-align: right;\n",
       "    }\n",
       "</style>\n",
       "<table border=\"1\" class=\"dataframe\">\n",
       "  <thead>\n",
       "    <tr style=\"text-align: right;\">\n",
       "      <th></th>\n",
       "      <th>tweet_id</th>\n",
       "      <th>in_reply_to_status_id</th>\n",
       "      <th>in_reply_to_user_id</th>\n",
       "      <th>timestamp</th>\n",
       "      <th>source</th>\n",
       "      <th>text</th>\n",
       "      <th>retweeted_status_id</th>\n",
       "      <th>retweeted_status_user_id</th>\n",
       "      <th>retweeted_status_timestamp</th>\n",
       "      <th>expanded_urls</th>\n",
       "      <th>rating_numerator</th>\n",
       "      <th>rating_denominator</th>\n",
       "      <th>name</th>\n",
       "      <th>doggo</th>\n",
       "      <th>floofer</th>\n",
       "      <th>pupper</th>\n",
       "      <th>puppo</th>\n",
       "    </tr>\n",
       "  </thead>\n",
       "  <tbody>\n",
       "    <tr>\n",
       "      <th>0</th>\n",
       "      <td>892420643555336193</td>\n",
       "      <td>NaN</td>\n",
       "      <td>NaN</td>\n",
       "      <td>2017-08-01 16:23:56 +0000</td>\n",
       "      <td>&lt;a href=\"http://twitter.com/download/iphone\" r...</td>\n",
       "      <td>This is Phineas. He's a mystical boy. Only eve...</td>\n",
       "      <td>NaN</td>\n",
       "      <td>NaN</td>\n",
       "      <td>NaN</td>\n",
       "      <td>https://twitter.com/dog_rates/status/892420643...</td>\n",
       "      <td>13</td>\n",
       "      <td>10</td>\n",
       "      <td>Phineas</td>\n",
       "      <td>None</td>\n",
       "      <td>None</td>\n",
       "      <td>None</td>\n",
       "      <td>None</td>\n",
       "    </tr>\n",
       "    <tr>\n",
       "      <th>1</th>\n",
       "      <td>892177421306343426</td>\n",
       "      <td>NaN</td>\n",
       "      <td>NaN</td>\n",
       "      <td>2017-08-01 00:17:27 +0000</td>\n",
       "      <td>&lt;a href=\"http://twitter.com/download/iphone\" r...</td>\n",
       "      <td>This is Tilly. She's just checking pup on you....</td>\n",
       "      <td>NaN</td>\n",
       "      <td>NaN</td>\n",
       "      <td>NaN</td>\n",
       "      <td>https://twitter.com/dog_rates/status/892177421...</td>\n",
       "      <td>13</td>\n",
       "      <td>10</td>\n",
       "      <td>Tilly</td>\n",
       "      <td>None</td>\n",
       "      <td>None</td>\n",
       "      <td>None</td>\n",
       "      <td>None</td>\n",
       "    </tr>\n",
       "    <tr>\n",
       "      <th>2</th>\n",
       "      <td>891815181378084864</td>\n",
       "      <td>NaN</td>\n",
       "      <td>NaN</td>\n",
       "      <td>2017-07-31 00:18:03 +0000</td>\n",
       "      <td>&lt;a href=\"http://twitter.com/download/iphone\" r...</td>\n",
       "      <td>This is Archie. He is a rare Norwegian Pouncin...</td>\n",
       "      <td>NaN</td>\n",
       "      <td>NaN</td>\n",
       "      <td>NaN</td>\n",
       "      <td>https://twitter.com/dog_rates/status/891815181...</td>\n",
       "      <td>12</td>\n",
       "      <td>10</td>\n",
       "      <td>Archie</td>\n",
       "      <td>None</td>\n",
       "      <td>None</td>\n",
       "      <td>None</td>\n",
       "      <td>None</td>\n",
       "    </tr>\n",
       "    <tr>\n",
       "      <th>3</th>\n",
       "      <td>891689557279858688</td>\n",
       "      <td>NaN</td>\n",
       "      <td>NaN</td>\n",
       "      <td>2017-07-30 15:58:51 +0000</td>\n",
       "      <td>&lt;a href=\"http://twitter.com/download/iphone\" r...</td>\n",
       "      <td>This is Darla. She commenced a snooze mid meal...</td>\n",
       "      <td>NaN</td>\n",
       "      <td>NaN</td>\n",
       "      <td>NaN</td>\n",
       "      <td>https://twitter.com/dog_rates/status/891689557...</td>\n",
       "      <td>13</td>\n",
       "      <td>10</td>\n",
       "      <td>Darla</td>\n",
       "      <td>None</td>\n",
       "      <td>None</td>\n",
       "      <td>None</td>\n",
       "      <td>None</td>\n",
       "    </tr>\n",
       "    <tr>\n",
       "      <th>4</th>\n",
       "      <td>891327558926688256</td>\n",
       "      <td>NaN</td>\n",
       "      <td>NaN</td>\n",
       "      <td>2017-07-29 16:00:24 +0000</td>\n",
       "      <td>&lt;a href=\"http://twitter.com/download/iphone\" r...</td>\n",
       "      <td>This is Franklin. He would like you to stop ca...</td>\n",
       "      <td>NaN</td>\n",
       "      <td>NaN</td>\n",
       "      <td>NaN</td>\n",
       "      <td>https://twitter.com/dog_rates/status/891327558...</td>\n",
       "      <td>12</td>\n",
       "      <td>10</td>\n",
       "      <td>Franklin</td>\n",
       "      <td>None</td>\n",
       "      <td>None</td>\n",
       "      <td>None</td>\n",
       "      <td>None</td>\n",
       "    </tr>\n",
       "  </tbody>\n",
       "</table>\n",
       "</div>"
      ],
      "text/plain": [
       "             tweet_id  in_reply_to_status_id  in_reply_to_user_id  \\\n",
       "0  892420643555336193                    NaN                  NaN   \n",
       "1  892177421306343426                    NaN                  NaN   \n",
       "2  891815181378084864                    NaN                  NaN   \n",
       "3  891689557279858688                    NaN                  NaN   \n",
       "4  891327558926688256                    NaN                  NaN   \n",
       "\n",
       "                   timestamp  \\\n",
       "0  2017-08-01 16:23:56 +0000   \n",
       "1  2017-08-01 00:17:27 +0000   \n",
       "2  2017-07-31 00:18:03 +0000   \n",
       "3  2017-07-30 15:58:51 +0000   \n",
       "4  2017-07-29 16:00:24 +0000   \n",
       "\n",
       "                                              source  \\\n",
       "0  <a href=\"http://twitter.com/download/iphone\" r...   \n",
       "1  <a href=\"http://twitter.com/download/iphone\" r...   \n",
       "2  <a href=\"http://twitter.com/download/iphone\" r...   \n",
       "3  <a href=\"http://twitter.com/download/iphone\" r...   \n",
       "4  <a href=\"http://twitter.com/download/iphone\" r...   \n",
       "\n",
       "                                                text  retweeted_status_id  \\\n",
       "0  This is Phineas. He's a mystical boy. Only eve...                  NaN   \n",
       "1  This is Tilly. She's just checking pup on you....                  NaN   \n",
       "2  This is Archie. He is a rare Norwegian Pouncin...                  NaN   \n",
       "3  This is Darla. She commenced a snooze mid meal...                  NaN   \n",
       "4  This is Franklin. He would like you to stop ca...                  NaN   \n",
       "\n",
       "   retweeted_status_user_id retweeted_status_timestamp  \\\n",
       "0                       NaN                        NaN   \n",
       "1                       NaN                        NaN   \n",
       "2                       NaN                        NaN   \n",
       "3                       NaN                        NaN   \n",
       "4                       NaN                        NaN   \n",
       "\n",
       "                                       expanded_urls  rating_numerator  \\\n",
       "0  https://twitter.com/dog_rates/status/892420643...                13   \n",
       "1  https://twitter.com/dog_rates/status/892177421...                13   \n",
       "2  https://twitter.com/dog_rates/status/891815181...                12   \n",
       "3  https://twitter.com/dog_rates/status/891689557...                13   \n",
       "4  https://twitter.com/dog_rates/status/891327558...                12   \n",
       "\n",
       "   rating_denominator      name doggo floofer pupper puppo  \n",
       "0                  10   Phineas  None    None   None  None  \n",
       "1                  10     Tilly  None    None   None  None  \n",
       "2                  10    Archie  None    None   None  None  \n",
       "3                  10     Darla  None    None   None  None  \n",
       "4                  10  Franklin  None    None   None  None  "
      ]
     },
     "execution_count": 22,
     "metadata": {},
     "output_type": "execute_result"
    }
   ],
   "source": [
    "df_tae.head()"
   ]
  },
  {
   "cell_type": "code",
   "execution_count": 23,
   "metadata": {},
   "outputs": [
    {
     "data": {
      "text/html": [
       "<div>\n",
       "<style scoped>\n",
       "    .dataframe tbody tr th:only-of-type {\n",
       "        vertical-align: middle;\n",
       "    }\n",
       "\n",
       "    .dataframe tbody tr th {\n",
       "        vertical-align: top;\n",
       "    }\n",
       "\n",
       "    .dataframe thead th {\n",
       "        text-align: right;\n",
       "    }\n",
       "</style>\n",
       "<table border=\"1\" class=\"dataframe\">\n",
       "  <thead>\n",
       "    <tr style=\"text-align: right;\">\n",
       "      <th></th>\n",
       "      <th>tweet_id</th>\n",
       "      <th>in_reply_to_status_id</th>\n",
       "      <th>in_reply_to_user_id</th>\n",
       "      <th>timestamp</th>\n",
       "      <th>source</th>\n",
       "      <th>text</th>\n",
       "      <th>retweeted_status_id</th>\n",
       "      <th>retweeted_status_user_id</th>\n",
       "      <th>retweeted_status_timestamp</th>\n",
       "      <th>expanded_urls</th>\n",
       "      <th>rating_numerator</th>\n",
       "      <th>rating_denominator</th>\n",
       "      <th>name</th>\n",
       "      <th>doggo</th>\n",
       "      <th>floofer</th>\n",
       "      <th>pupper</th>\n",
       "      <th>puppo</th>\n",
       "    </tr>\n",
       "  </thead>\n",
       "  <tbody>\n",
       "    <tr>\n",
       "      <th>2351</th>\n",
       "      <td>666049248165822465</td>\n",
       "      <td>NaN</td>\n",
       "      <td>NaN</td>\n",
       "      <td>2015-11-16 00:24:50 +0000</td>\n",
       "      <td>&lt;a href=\"http://twitter.com/download/iphone\" r...</td>\n",
       "      <td>Here we have a 1949 1st generation vulpix. Enj...</td>\n",
       "      <td>NaN</td>\n",
       "      <td>NaN</td>\n",
       "      <td>NaN</td>\n",
       "      <td>https://twitter.com/dog_rates/status/666049248...</td>\n",
       "      <td>5</td>\n",
       "      <td>10</td>\n",
       "      <td>None</td>\n",
       "      <td>None</td>\n",
       "      <td>None</td>\n",
       "      <td>None</td>\n",
       "      <td>None</td>\n",
       "    </tr>\n",
       "    <tr>\n",
       "      <th>2352</th>\n",
       "      <td>666044226329800704</td>\n",
       "      <td>NaN</td>\n",
       "      <td>NaN</td>\n",
       "      <td>2015-11-16 00:04:52 +0000</td>\n",
       "      <td>&lt;a href=\"http://twitter.com/download/iphone\" r...</td>\n",
       "      <td>This is a purebred Piers Morgan. Loves to Netf...</td>\n",
       "      <td>NaN</td>\n",
       "      <td>NaN</td>\n",
       "      <td>NaN</td>\n",
       "      <td>https://twitter.com/dog_rates/status/666044226...</td>\n",
       "      <td>6</td>\n",
       "      <td>10</td>\n",
       "      <td>a</td>\n",
       "      <td>None</td>\n",
       "      <td>None</td>\n",
       "      <td>None</td>\n",
       "      <td>None</td>\n",
       "    </tr>\n",
       "    <tr>\n",
       "      <th>2353</th>\n",
       "      <td>666033412701032449</td>\n",
       "      <td>NaN</td>\n",
       "      <td>NaN</td>\n",
       "      <td>2015-11-15 23:21:54 +0000</td>\n",
       "      <td>&lt;a href=\"http://twitter.com/download/iphone\" r...</td>\n",
       "      <td>Here is a very happy pup. Big fan of well-main...</td>\n",
       "      <td>NaN</td>\n",
       "      <td>NaN</td>\n",
       "      <td>NaN</td>\n",
       "      <td>https://twitter.com/dog_rates/status/666033412...</td>\n",
       "      <td>9</td>\n",
       "      <td>10</td>\n",
       "      <td>a</td>\n",
       "      <td>None</td>\n",
       "      <td>None</td>\n",
       "      <td>None</td>\n",
       "      <td>None</td>\n",
       "    </tr>\n",
       "    <tr>\n",
       "      <th>2354</th>\n",
       "      <td>666029285002620928</td>\n",
       "      <td>NaN</td>\n",
       "      <td>NaN</td>\n",
       "      <td>2015-11-15 23:05:30 +0000</td>\n",
       "      <td>&lt;a href=\"http://twitter.com/download/iphone\" r...</td>\n",
       "      <td>This is a western brown Mitsubishi terrier. Up...</td>\n",
       "      <td>NaN</td>\n",
       "      <td>NaN</td>\n",
       "      <td>NaN</td>\n",
       "      <td>https://twitter.com/dog_rates/status/666029285...</td>\n",
       "      <td>7</td>\n",
       "      <td>10</td>\n",
       "      <td>a</td>\n",
       "      <td>None</td>\n",
       "      <td>None</td>\n",
       "      <td>None</td>\n",
       "      <td>None</td>\n",
       "    </tr>\n",
       "    <tr>\n",
       "      <th>2355</th>\n",
       "      <td>666020888022790149</td>\n",
       "      <td>NaN</td>\n",
       "      <td>NaN</td>\n",
       "      <td>2015-11-15 22:32:08 +0000</td>\n",
       "      <td>&lt;a href=\"http://twitter.com/download/iphone\" r...</td>\n",
       "      <td>Here we have a Japanese Irish Setter. Lost eye...</td>\n",
       "      <td>NaN</td>\n",
       "      <td>NaN</td>\n",
       "      <td>NaN</td>\n",
       "      <td>https://twitter.com/dog_rates/status/666020888...</td>\n",
       "      <td>8</td>\n",
       "      <td>10</td>\n",
       "      <td>None</td>\n",
       "      <td>None</td>\n",
       "      <td>None</td>\n",
       "      <td>None</td>\n",
       "      <td>None</td>\n",
       "    </tr>\n",
       "  </tbody>\n",
       "</table>\n",
       "</div>"
      ],
      "text/plain": [
       "                tweet_id  in_reply_to_status_id  in_reply_to_user_id  \\\n",
       "2351  666049248165822465                    NaN                  NaN   \n",
       "2352  666044226329800704                    NaN                  NaN   \n",
       "2353  666033412701032449                    NaN                  NaN   \n",
       "2354  666029285002620928                    NaN                  NaN   \n",
       "2355  666020888022790149                    NaN                  NaN   \n",
       "\n",
       "                      timestamp  \\\n",
       "2351  2015-11-16 00:24:50 +0000   \n",
       "2352  2015-11-16 00:04:52 +0000   \n",
       "2353  2015-11-15 23:21:54 +0000   \n",
       "2354  2015-11-15 23:05:30 +0000   \n",
       "2355  2015-11-15 22:32:08 +0000   \n",
       "\n",
       "                                                 source  \\\n",
       "2351  <a href=\"http://twitter.com/download/iphone\" r...   \n",
       "2352  <a href=\"http://twitter.com/download/iphone\" r...   \n",
       "2353  <a href=\"http://twitter.com/download/iphone\" r...   \n",
       "2354  <a href=\"http://twitter.com/download/iphone\" r...   \n",
       "2355  <a href=\"http://twitter.com/download/iphone\" r...   \n",
       "\n",
       "                                                   text  retweeted_status_id  \\\n",
       "2351  Here we have a 1949 1st generation vulpix. Enj...                  NaN   \n",
       "2352  This is a purebred Piers Morgan. Loves to Netf...                  NaN   \n",
       "2353  Here is a very happy pup. Big fan of well-main...                  NaN   \n",
       "2354  This is a western brown Mitsubishi terrier. Up...                  NaN   \n",
       "2355  Here we have a Japanese Irish Setter. Lost eye...                  NaN   \n",
       "\n",
       "      retweeted_status_user_id retweeted_status_timestamp  \\\n",
       "2351                       NaN                        NaN   \n",
       "2352                       NaN                        NaN   \n",
       "2353                       NaN                        NaN   \n",
       "2354                       NaN                        NaN   \n",
       "2355                       NaN                        NaN   \n",
       "\n",
       "                                          expanded_urls  rating_numerator  \\\n",
       "2351  https://twitter.com/dog_rates/status/666049248...                 5   \n",
       "2352  https://twitter.com/dog_rates/status/666044226...                 6   \n",
       "2353  https://twitter.com/dog_rates/status/666033412...                 9   \n",
       "2354  https://twitter.com/dog_rates/status/666029285...                 7   \n",
       "2355  https://twitter.com/dog_rates/status/666020888...                 8   \n",
       "\n",
       "      rating_denominator  name doggo floofer pupper puppo  \n",
       "2351                  10  None  None    None   None  None  \n",
       "2352                  10     a  None    None   None  None  \n",
       "2353                  10     a  None    None   None  None  \n",
       "2354                  10     a  None    None   None  None  \n",
       "2355                  10  None  None    None   None  None  "
      ]
     },
     "execution_count": 23,
     "metadata": {},
     "output_type": "execute_result"
    }
   ],
   "source": [
    "df_tae.tail()"
   ]
  },
  {
   "cell_type": "code",
   "execution_count": 24,
   "metadata": {},
   "outputs": [
    {
     "name": "stdout",
     "output_type": "stream",
     "text": [
      "<class 'pandas.core.frame.DataFrame'>\n",
      "RangeIndex: 2356 entries, 0 to 2355\n",
      "Data columns (total 17 columns):\n",
      "tweet_id                      2356 non-null int64\n",
      "in_reply_to_status_id         78 non-null float64\n",
      "in_reply_to_user_id           78 non-null float64\n",
      "timestamp                     2356 non-null object\n",
      "source                        2356 non-null object\n",
      "text                          2356 non-null object\n",
      "retweeted_status_id           181 non-null float64\n",
      "retweeted_status_user_id      181 non-null float64\n",
      "retweeted_status_timestamp    181 non-null object\n",
      "expanded_urls                 2297 non-null object\n",
      "rating_numerator              2356 non-null int64\n",
      "rating_denominator            2356 non-null int64\n",
      "name                          2356 non-null object\n",
      "doggo                         2356 non-null object\n",
      "floofer                       2356 non-null object\n",
      "pupper                        2356 non-null object\n",
      "puppo                         2356 non-null object\n",
      "dtypes: float64(4), int64(3), object(10)\n",
      "memory usage: 313.0+ KB\n"
     ]
    }
   ],
   "source": [
    "df_tae.info()"
   ]
  },
  {
   "cell_type": "code",
   "execution_count": 25,
   "metadata": {},
   "outputs": [
    {
     "data": {
      "text/plain": [
       "str"
      ]
     },
     "execution_count": 25,
     "metadata": {},
     "output_type": "execute_result"
    }
   ],
   "source": [
    "# check timestamp column type\n",
    "type(df_tae.timestamp[0])"
   ]
  },
  {
   "cell_type": "code",
   "execution_count": 26,
   "metadata": {},
   "outputs": [
    {
     "name": "stdout",
     "output_type": "stream",
     "text": [
      "Data type for timestamp:  <class 'str'>\n"
     ]
    }
   ],
   "source": [
    "\n",
    "print(\"Data type for timestamp:  \" + str(type(df_tae.timestamp[0])))"
   ]
  },
  {
   "cell_type": "code",
   "execution_count": 27,
   "metadata": {},
   "outputs": [
    {
     "name": "stdout",
     "output_type": "stream",
     "text": [
      "Duplicated:  0\n"
     ]
    }
   ],
   "source": [
    "print(\"Duplicated:  {}\".format(sum(df_tae.duplicated())))"
   ]
  },
  {
   "cell_type": "code",
   "execution_count": 28,
   "metadata": {},
   "outputs": [
    {
     "data": {
      "text/plain": [
       "None       745\n",
       "a           55\n",
       "Charlie     12\n",
       "Cooper      11\n",
       "Lucy        11\n",
       "Oliver      11\n",
       "Tucker      10\n",
       "Penny       10\n",
       "Lola        10\n",
       "Winston      9\n",
       "Bo           9\n",
       "the          8\n",
       "Sadie        8\n",
       "Bailey       7\n",
       "Daisy        7\n",
       "Buddy        7\n",
       "an           7\n",
       "Toby         7\n",
       "Jax          6\n",
       "Oscar        6\n",
       "Leo          6\n",
       "Bella        6\n",
       "Stanley      6\n",
       "Dave         6\n",
       "Rusty        6\n",
       "Koda         6\n",
       "Jack         6\n",
       "Scout        6\n",
       "Milo         6\n",
       "Larry        5\n",
       "Chester      5\n",
       "Oakley       5\n",
       "George       5\n",
       "Finn         5\n",
       "Gus          5\n",
       "Bentley      5\n",
       "Alfie        5\n",
       "Phil         5\n",
       "Sunny        5\n",
       "very         5\n",
       "Sammy        5\n",
       "Louis        5\n",
       "Winnie       4\n",
       "Jeffrey      4\n",
       "Gary         4\n",
       "Scooter      4\n",
       "Walter       4\n",
       "Boomer       4\n",
       "Derek        4\n",
       "Maggie       4\n",
       "Name: name, dtype: int64"
      ]
     },
     "execution_count": 28,
     "metadata": {},
     "output_type": "execute_result"
    }
   ],
   "source": [
    "df_tae.name.value_counts().head(50)"
   ]
  },
  {
   "cell_type": "code",
   "execution_count": 29,
   "metadata": {},
   "outputs": [
    {
     "data": {
      "text/plain": [
       "a               55\n",
       "actually         2\n",
       "all              1\n",
       "an               7\n",
       "by               1\n",
       "getting          2\n",
       "his              1\n",
       "incredibly       1\n",
       "infuriating      1\n",
       "just             4\n",
       "life             1\n",
       "light            1\n",
       "mad              2\n",
       "my               1\n",
       "not              2\n",
       "officially       1\n",
       "old              1\n",
       "one              4\n",
       "quite            4\n",
       "space            1\n",
       "such             1\n",
       "the              8\n",
       "this             1\n",
       "unacceptable     1\n",
       "very             5\n",
       "Name: name, dtype: int64"
      ]
     },
     "execution_count": 29,
     "metadata": {},
     "output_type": "execute_result"
    }
   ],
   "source": [
    "# list all names that are NOT capitalized\n",
    "err_names_mask = df_tae.name.str.contains('^[a-z]', regex = True)\n",
    "df_tae[err_names_mask].name.value_counts().sort_index()"
   ]
  },
  {
   "cell_type": "code",
   "execution_count": 30,
   "metadata": {},
   "outputs": [
    {
     "data": {
      "text/plain": [
       "109"
      ]
     },
     "execution_count": 30,
     "metadata": {},
     "output_type": "execute_result"
    }
   ],
   "source": [
    "len(df_tae[err_names_mask])"
   ]
  },
  {
   "cell_type": "code",
   "execution_count": 31,
   "metadata": {},
   "outputs": [
    {
     "data": {
      "text/plain": [
       "59"
      ]
     },
     "execution_count": 31,
     "metadata": {},
     "output_type": "execute_result"
    }
   ],
   "source": [
    "# number of tweets with missing urls\n",
    "sum(df_tae.expanded_urls.isnull())"
   ]
  },
  {
   "cell_type": "code",
   "execution_count": 32,
   "metadata": {},
   "outputs": [
    {
     "data": {
      "text/plain": [
       "56"
      ]
     },
     "execution_count": 32,
     "metadata": {},
     "output_type": "execute_result"
    }
   ],
   "source": [
    "# how many tweets with missing urls are replies or retweets?\n",
    "sum(df_tae.expanded_urls.isnull() & \\\n",
    "    (df_tae.in_reply_to_status_id.notnull() | \\\n",
    "     df_tae.retweeted_status_id.notnull()))"
   ]
  },
  {
   "cell_type": "code",
   "execution_count": 33,
   "metadata": {},
   "outputs": [
    {
     "data": {
      "text/html": [
       "<div>\n",
       "<style scoped>\n",
       "    .dataframe tbody tr th:only-of-type {\n",
       "        vertical-align: middle;\n",
       "    }\n",
       "\n",
       "    .dataframe tbody tr th {\n",
       "        vertical-align: top;\n",
       "    }\n",
       "\n",
       "    .dataframe thead th {\n",
       "        text-align: right;\n",
       "    }\n",
       "</style>\n",
       "<table border=\"1\" class=\"dataframe\">\n",
       "  <thead>\n",
       "    <tr style=\"text-align: right;\">\n",
       "      <th></th>\n",
       "      <th>tweet_id</th>\n",
       "      <th>text</th>\n",
       "      <th>expanded_urls</th>\n",
       "    </tr>\n",
       "  </thead>\n",
       "  <tbody>\n",
       "    <tr>\n",
       "      <th>375</th>\n",
       "      <td>828361771580813312</td>\n",
       "      <td>Beebop and Doobert should start a band 12/10 w...</td>\n",
       "      <td>NaN</td>\n",
       "    </tr>\n",
       "    <tr>\n",
       "      <th>707</th>\n",
       "      <td>785515384317313025</td>\n",
       "      <td>Today, 10/10, should be National Dog Rates Day</td>\n",
       "      <td>NaN</td>\n",
       "    </tr>\n",
       "    <tr>\n",
       "      <th>1445</th>\n",
       "      <td>696518437233913856</td>\n",
       "      <td>Oh my god 10/10 for every little hot dog pupper</td>\n",
       "      <td>NaN</td>\n",
       "    </tr>\n",
       "  </tbody>\n",
       "</table>\n",
       "</div>"
      ],
      "text/plain": [
       "                tweet_id                                               text  \\\n",
       "375   828361771580813312  Beebop and Doobert should start a band 12/10 w...   \n",
       "707   785515384317313025     Today, 10/10, should be National Dog Rates Day   \n",
       "1445  696518437233913856    Oh my god 10/10 for every little hot dog pupper   \n",
       "\n",
       "     expanded_urls  \n",
       "375            NaN  \n",
       "707            NaN  \n",
       "1445           NaN  "
      ]
     },
     "execution_count": 33,
     "metadata": {},
     "output_type": "execute_result"
    }
   ],
   "source": [
    "# display tweets that are missing urls, and are NOT replies and are NOT retweets\n",
    "mask = df_tae.expanded_urls.isna() & \\\n",
    "       df_tae.in_reply_to_status_id.isna() & \\\n",
    "       df_tae.retweeted_status_id.isna()\n",
    "df_tae[mask][['tweet_id', 'text', 'expanded_urls']]"
   ]
  },
  {
   "cell_type": "code",
   "execution_count": 34,
   "metadata": {},
   "outputs": [
    {
     "data": {
      "text/plain": [
       "0"
      ]
     },
     "execution_count": 34,
     "metadata": {},
     "output_type": "execute_result"
    }
   ],
   "source": [
    "# are any of these tweets in the predictions table?\n",
    "tweet_set = [828361771580813312, 785515384317313025, 696518437233913856]\n",
    "find_tweet_id = df_prediction.tweet_id.isin(tweet_set)\n",
    "sum(find_tweet_id)"
   ]
  },
  {
   "cell_type": "code",
   "execution_count": 35,
   "metadata": {},
   "outputs": [
    {
     "data": {
      "text/html": [
       "<div>\n",
       "<style scoped>\n",
       "    .dataframe tbody tr th:only-of-type {\n",
       "        vertical-align: middle;\n",
       "    }\n",
       "\n",
       "    .dataframe tbody tr th {\n",
       "        vertical-align: top;\n",
       "    }\n",
       "\n",
       "    .dataframe thead th {\n",
       "        text-align: right;\n",
       "    }\n",
       "</style>\n",
       "<table border=\"1\" class=\"dataframe\">\n",
       "  <thead>\n",
       "    <tr style=\"text-align: right;\">\n",
       "      <th></th>\n",
       "      <th>tweet_id</th>\n",
       "      <th>retweet_count</th>\n",
       "      <th>favorite_count</th>\n",
       "    </tr>\n",
       "  </thead>\n",
       "  <tbody>\n",
       "    <tr>\n",
       "      <th>358</th>\n",
       "      <td>828361771580813312</td>\n",
       "      <td>165</td>\n",
       "      <td>2071</td>\n",
       "    </tr>\n",
       "    <tr>\n",
       "      <th>687</th>\n",
       "      <td>785515384317313025</td>\n",
       "      <td>1166</td>\n",
       "      <td>5793</td>\n",
       "    </tr>\n",
       "    <tr>\n",
       "      <th>1417</th>\n",
       "      <td>696518437233913856</td>\n",
       "      <td>1573</td>\n",
       "      <td>3645</td>\n",
       "    </tr>\n",
       "  </tbody>\n",
       "</table>\n",
       "</div>"
      ],
      "text/plain": [
       "                tweet_id  retweet_count  favorite_count\n",
       "358   828361771580813312            165            2071\n",
       "687   785515384317313025           1166            5793\n",
       "1417  696518437233913856           1573            3645"
      ]
     },
     "execution_count": 35,
     "metadata": {},
     "output_type": "execute_result"
    }
   ],
   "source": [
    "# are any of these tweets in the json_data table?\n",
    "tweet_set = [828361771580813312, 785515384317313025, 696518437233913856]\n",
    "find_tweet_id = df_tweet.tweet_id.isin(tweet_set)\n",
    "df_tweet[find_tweet_id]"
   ]
  },
  {
   "cell_type": "code",
   "execution_count": 36,
   "metadata": {},
   "outputs": [
    {
     "data": {
      "text/html": [
       "<div>\n",
       "<style scoped>\n",
       "    .dataframe tbody tr th:only-of-type {\n",
       "        vertical-align: middle;\n",
       "    }\n",
       "\n",
       "    .dataframe tbody tr th {\n",
       "        vertical-align: top;\n",
       "    }\n",
       "\n",
       "    .dataframe thead th {\n",
       "        text-align: right;\n",
       "    }\n",
       "</style>\n",
       "<table border=\"1\" class=\"dataframe\">\n",
       "  <thead>\n",
       "    <tr style=\"text-align: right;\">\n",
       "      <th></th>\n",
       "      <th>rating_numerator</th>\n",
       "      <th>rating_denominator</th>\n",
       "    </tr>\n",
       "  </thead>\n",
       "  <tbody>\n",
       "    <tr>\n",
       "      <th>count</th>\n",
       "      <td>2356.000000</td>\n",
       "      <td>2356.000000</td>\n",
       "    </tr>\n",
       "    <tr>\n",
       "      <th>mean</th>\n",
       "      <td>13.126486</td>\n",
       "      <td>10.455433</td>\n",
       "    </tr>\n",
       "    <tr>\n",
       "      <th>std</th>\n",
       "      <td>45.876648</td>\n",
       "      <td>6.745237</td>\n",
       "    </tr>\n",
       "    <tr>\n",
       "      <th>min</th>\n",
       "      <td>0.000000</td>\n",
       "      <td>0.000000</td>\n",
       "    </tr>\n",
       "    <tr>\n",
       "      <th>25%</th>\n",
       "      <td>10.000000</td>\n",
       "      <td>10.000000</td>\n",
       "    </tr>\n",
       "    <tr>\n",
       "      <th>50%</th>\n",
       "      <td>11.000000</td>\n",
       "      <td>10.000000</td>\n",
       "    </tr>\n",
       "    <tr>\n",
       "      <th>75%</th>\n",
       "      <td>12.000000</td>\n",
       "      <td>10.000000</td>\n",
       "    </tr>\n",
       "    <tr>\n",
       "      <th>max</th>\n",
       "      <td>1776.000000</td>\n",
       "      <td>170.000000</td>\n",
       "    </tr>\n",
       "  </tbody>\n",
       "</table>\n",
       "</div>"
      ],
      "text/plain": [
       "       rating_numerator  rating_denominator\n",
       "count       2356.000000         2356.000000\n",
       "mean          13.126486           10.455433\n",
       "std           45.876648            6.745237\n",
       "min            0.000000            0.000000\n",
       "25%           10.000000           10.000000\n",
       "50%           11.000000           10.000000\n",
       "75%           12.000000           10.000000\n",
       "max         1776.000000          170.000000"
      ]
     },
     "execution_count": 36,
     "metadata": {},
     "output_type": "execute_result"
    }
   ],
   "source": [
    "#display simple statistics for rating numerator and rating denominator\n",
    "df_tae[['rating_numerator', 'rating_denominator']].describe()"
   ]
  },
  {
   "cell_type": "code",
   "execution_count": 37,
   "metadata": {},
   "outputs": [
    {
     "data": {
      "text/plain": [
       "170       1\n",
       "150       1\n",
       "130       1\n",
       "120       1\n",
       "110       1\n",
       "90        1\n",
       "80        2\n",
       "70        1\n",
       "50        3\n",
       "40        1\n",
       "20        2\n",
       "16        1\n",
       "15        1\n",
       "11        3\n",
       "10     2333\n",
       "7         1\n",
       "2         1\n",
       "0         1\n",
       "Name: rating_denominator, dtype: int64"
      ]
     },
     "execution_count": 37,
     "metadata": {},
     "output_type": "execute_result"
    }
   ],
   "source": [
    "#sorting the rating denominator from the largest to the smallest\n",
    "df_tae.rating_denominator.value_counts().sort_index(ascending = False)"
   ]
  },
  {
   "cell_type": "code",
   "execution_count": 38,
   "metadata": {},
   "outputs": [
    {
     "data": {
      "text/plain": [
       "23"
      ]
     },
     "execution_count": 38,
     "metadata": {},
     "output_type": "execute_result"
    }
   ],
   "source": [
    "# display total number of denominator rating that is not equal to 10\n",
    "sum(df_tae.rating_denominator != 10)"
   ]
  },
  {
   "cell_type": "code",
   "execution_count": 39,
   "metadata": {},
   "outputs": [
    {
     "data": {
      "text/html": [
       "<div>\n",
       "<style scoped>\n",
       "    .dataframe tbody tr th:only-of-type {\n",
       "        vertical-align: middle;\n",
       "    }\n",
       "\n",
       "    .dataframe tbody tr th {\n",
       "        vertical-align: top;\n",
       "    }\n",
       "\n",
       "    .dataframe thead th {\n",
       "        text-align: right;\n",
       "    }\n",
       "</style>\n",
       "<table border=\"1\" class=\"dataframe\">\n",
       "  <thead>\n",
       "    <tr style=\"text-align: right;\">\n",
       "      <th></th>\n",
       "      <th>text</th>\n",
       "      <th>tweet_id</th>\n",
       "      <th>rating_numerator</th>\n",
       "      <th>rating_denominator</th>\n",
       "    </tr>\n",
       "  </thead>\n",
       "  <tbody>\n",
       "    <tr>\n",
       "      <th>433</th>\n",
       "      <td>The floofs have been released I repeat the flo...</td>\n",
       "      <td>820690176645140481</td>\n",
       "      <td>84</td>\n",
       "      <td>70</td>\n",
       "    </tr>\n",
       "    <tr>\n",
       "      <th>516</th>\n",
       "      <td>Meet Sam. She smiles 24/7 &amp;amp; secretly aspir...</td>\n",
       "      <td>810984652412424192</td>\n",
       "      <td>24</td>\n",
       "      <td>7</td>\n",
       "    </tr>\n",
       "    <tr>\n",
       "      <th>902</th>\n",
       "      <td>Why does this never happen at my front door......</td>\n",
       "      <td>758467244762497024</td>\n",
       "      <td>165</td>\n",
       "      <td>150</td>\n",
       "    </tr>\n",
       "    <tr>\n",
       "      <th>1068</th>\n",
       "      <td>After so many requests, this is Bretagne. She ...</td>\n",
       "      <td>740373189193256964</td>\n",
       "      <td>9</td>\n",
       "      <td>11</td>\n",
       "    </tr>\n",
       "    <tr>\n",
       "      <th>1120</th>\n",
       "      <td>Say hello to this unbelievably well behaved sq...</td>\n",
       "      <td>731156023742988288</td>\n",
       "      <td>204</td>\n",
       "      <td>170</td>\n",
       "    </tr>\n",
       "    <tr>\n",
       "      <th>1165</th>\n",
       "      <td>Happy 4/20 from the squad! 13/10 for all https...</td>\n",
       "      <td>722974582966214656</td>\n",
       "      <td>4</td>\n",
       "      <td>20</td>\n",
       "    </tr>\n",
       "    <tr>\n",
       "      <th>1202</th>\n",
       "      <td>This is Bluebert. He just saw that both #Final...</td>\n",
       "      <td>716439118184652801</td>\n",
       "      <td>50</td>\n",
       "      <td>50</td>\n",
       "    </tr>\n",
       "    <tr>\n",
       "      <th>1228</th>\n",
       "      <td>Happy Saturday here's 9 puppers on a bench. 99...</td>\n",
       "      <td>713900603437621249</td>\n",
       "      <td>99</td>\n",
       "      <td>90</td>\n",
       "    </tr>\n",
       "    <tr>\n",
       "      <th>1254</th>\n",
       "      <td>Here's a brigade of puppers. All look very pre...</td>\n",
       "      <td>710658690886586372</td>\n",
       "      <td>80</td>\n",
       "      <td>80</td>\n",
       "    </tr>\n",
       "    <tr>\n",
       "      <th>1274</th>\n",
       "      <td>From left to right:\\nCletus, Jerome, Alejandro...</td>\n",
       "      <td>709198395643068416</td>\n",
       "      <td>45</td>\n",
       "      <td>50</td>\n",
       "    </tr>\n",
       "    <tr>\n",
       "      <th>1351</th>\n",
       "      <td>Here is a whole flock of puppers.  60/50 I'll ...</td>\n",
       "      <td>704054845121142784</td>\n",
       "      <td>60</td>\n",
       "      <td>50</td>\n",
       "    </tr>\n",
       "    <tr>\n",
       "      <th>1433</th>\n",
       "      <td>Happy Wednesday here's a bucket of pups. 44/40...</td>\n",
       "      <td>697463031882764288</td>\n",
       "      <td>44</td>\n",
       "      <td>40</td>\n",
       "    </tr>\n",
       "    <tr>\n",
       "      <th>1635</th>\n",
       "      <td>Someone help the girl is being mugged. Several...</td>\n",
       "      <td>684222868335505415</td>\n",
       "      <td>121</td>\n",
       "      <td>110</td>\n",
       "    </tr>\n",
       "    <tr>\n",
       "      <th>1662</th>\n",
       "      <td>This is Darrel. He just robbed a 7/11 and is i...</td>\n",
       "      <td>682962037429899265</td>\n",
       "      <td>7</td>\n",
       "      <td>11</td>\n",
       "    </tr>\n",
       "    <tr>\n",
       "      <th>1779</th>\n",
       "      <td>IT'S PUPPERGEDDON. Total of 144/120 ...I think...</td>\n",
       "      <td>677716515794329600</td>\n",
       "      <td>144</td>\n",
       "      <td>120</td>\n",
       "    </tr>\n",
       "    <tr>\n",
       "      <th>1843</th>\n",
       "      <td>Here we have an entire platoon of puppers. Tot...</td>\n",
       "      <td>675853064436391936</td>\n",
       "      <td>88</td>\n",
       "      <td>80</td>\n",
       "    </tr>\n",
       "    <tr>\n",
       "      <th>2335</th>\n",
       "      <td>This is an Albanian 3 1/2 legged  Episcopalian...</td>\n",
       "      <td>666287406224695296</td>\n",
       "      <td>1</td>\n",
       "      <td>2</td>\n",
       "    </tr>\n",
       "  </tbody>\n",
       "</table>\n",
       "</div>"
      ],
      "text/plain": [
       "                                                   text            tweet_id  \\\n",
       "433   The floofs have been released I repeat the flo...  820690176645140481   \n",
       "516   Meet Sam. She smiles 24/7 &amp; secretly aspir...  810984652412424192   \n",
       "902   Why does this never happen at my front door......  758467244762497024   \n",
       "1068  After so many requests, this is Bretagne. She ...  740373189193256964   \n",
       "1120  Say hello to this unbelievably well behaved sq...  731156023742988288   \n",
       "1165  Happy 4/20 from the squad! 13/10 for all https...  722974582966214656   \n",
       "1202  This is Bluebert. He just saw that both #Final...  716439118184652801   \n",
       "1228  Happy Saturday here's 9 puppers on a bench. 99...  713900603437621249   \n",
       "1254  Here's a brigade of puppers. All look very pre...  710658690886586372   \n",
       "1274  From left to right:\\nCletus, Jerome, Alejandro...  709198395643068416   \n",
       "1351  Here is a whole flock of puppers.  60/50 I'll ...  704054845121142784   \n",
       "1433  Happy Wednesday here's a bucket of pups. 44/40...  697463031882764288   \n",
       "1635  Someone help the girl is being mugged. Several...  684222868335505415   \n",
       "1662  This is Darrel. He just robbed a 7/11 and is i...  682962037429899265   \n",
       "1779  IT'S PUPPERGEDDON. Total of 144/120 ...I think...  677716515794329600   \n",
       "1843  Here we have an entire platoon of puppers. Tot...  675853064436391936   \n",
       "2335  This is an Albanian 3 1/2 legged  Episcopalian...  666287406224695296   \n",
       "\n",
       "      rating_numerator  rating_denominator  \n",
       "433                 84                  70  \n",
       "516                 24                   7  \n",
       "902                165                 150  \n",
       "1068                 9                  11  \n",
       "1120               204                 170  \n",
       "1165                 4                  20  \n",
       "1202                50                  50  \n",
       "1228                99                  90  \n",
       "1254                80                  80  \n",
       "1274                45                  50  \n",
       "1351                60                  50  \n",
       "1433                44                  40  \n",
       "1635               121                 110  \n",
       "1662                 7                  11  \n",
       "1779               144                 120  \n",
       "1843                88                  80  \n",
       "2335                 1                   2  "
      ]
     },
     "execution_count": 39,
     "metadata": {},
     "output_type": "execute_result"
    }
   ],
   "source": [
    "# display tweets that do NOT have denominator of 10,\n",
    "# and are NOT replies and are NOT retweets\n",
    "mask_find = (df_tae.rating_denominator != 10) & \\\n",
    "            df_tae.in_reply_to_status_id.isna() & \\\n",
    "            df_tae.retweeted_status_id.isna()\n",
    "\n",
    "mask_cols = ['text', 'tweet_id', 'rating_numerator', 'rating_denominator']\n",
    "df_tae[mask_find][mask_cols]"
   ]
  },
  {
   "cell_type": "code",
   "execution_count": 40,
   "metadata": {},
   "outputs": [
    {
     "data": {
      "text/plain": [
       "17"
      ]
     },
     "execution_count": 40,
     "metadata": {},
     "output_type": "execute_result"
    }
   ],
   "source": [
    "sum(mask_find)"
   ]
  },
  {
   "cell_type": "code",
   "execution_count": 41,
   "metadata": {},
   "outputs": [
    {
     "data": {
      "text/plain": [
       "1776      1\n",
       "960       1\n",
       "666       1\n",
       "420       2\n",
       "204       1\n",
       "182       1\n",
       "165       1\n",
       "144       1\n",
       "143       1\n",
       "121       1\n",
       "99        1\n",
       "88        1\n",
       "84        1\n",
       "80        1\n",
       "75        2\n",
       "60        1\n",
       "50        1\n",
       "45        1\n",
       "44        1\n",
       "27        1\n",
       "26        1\n",
       "24        1\n",
       "20        1\n",
       "17        1\n",
       "15        2\n",
       "14       54\n",
       "13      351\n",
       "12      558\n",
       "11      464\n",
       "10      461\n",
       "9       158\n",
       "8       102\n",
       "7        55\n",
       "6        32\n",
       "5        37\n",
       "4        17\n",
       "3        19\n",
       "2         9\n",
       "1         9\n",
       "0         2\n",
       "Name: rating_numerator, dtype: int64"
      ]
     },
     "execution_count": 41,
     "metadata": {},
     "output_type": "execute_result"
    }
   ],
   "source": [
    "#sorting the rating numerator from the largest to the smallest\n",
    "df_tae.rating_numerator.value_counts().sort_index(ascending = False)"
   ]
  },
  {
   "cell_type": "code",
   "execution_count": 42,
   "metadata": {},
   "outputs": [
    {
     "data": {
      "text/plain": [
       "1776      1\n",
       "666       1\n",
       "420       2\n",
       "182       1\n",
       "75        2\n",
       "27        1\n",
       "26        1\n",
       "17        1\n",
       "15        2\n",
       "14       54\n",
       "13      351\n",
       "12      558\n",
       "11      463\n",
       "10      461\n",
       "9       156\n",
       "8       102\n",
       "7        54\n",
       "6        32\n",
       "5        37\n",
       "4        15\n",
       "3        19\n",
       "2         9\n",
       "1         8\n",
       "0         2\n",
       "Name: rating_numerator, dtype: int64"
      ]
     },
     "execution_count": 42,
     "metadata": {},
     "output_type": "execute_result"
    }
   ],
   "source": [
    "df_tweets_denom_10 = df_tae[df_tae.rating_denominator == 10]\n",
    "df_tweets_denom_10.rating_numerator.value_counts().sort_index(ascending = False)"
   ]
  },
  {
   "cell_type": "code",
   "execution_count": 43,
   "metadata": {},
   "outputs": [
    {
     "data": {
      "text/plain": [
       "12"
      ]
     },
     "execution_count": 43,
     "metadata": {},
     "output_type": "execute_result"
    }
   ],
   "source": [
    "sum(df_tweets_denom_10.rating_numerator >= 15)"
   ]
  },
  {
   "cell_type": "code",
   "execution_count": 44,
   "metadata": {},
   "outputs": [
    {
     "data": {
      "text/html": [
       "<div>\n",
       "<style scoped>\n",
       "    .dataframe tbody tr th:only-of-type {\n",
       "        vertical-align: middle;\n",
       "    }\n",
       "\n",
       "    .dataframe tbody tr th {\n",
       "        vertical-align: top;\n",
       "    }\n",
       "\n",
       "    .dataframe thead th {\n",
       "        text-align: right;\n",
       "    }\n",
       "</style>\n",
       "<table border=\"1\" class=\"dataframe\">\n",
       "  <thead>\n",
       "    <tr style=\"text-align: right;\">\n",
       "      <th></th>\n",
       "      <th>text</th>\n",
       "      <th>tweet_id</th>\n",
       "      <th>rating_numerator</th>\n",
       "      <th>rating_denominator</th>\n",
       "    </tr>\n",
       "  </thead>\n",
       "  <tbody>\n",
       "    <tr>\n",
       "      <th>695</th>\n",
       "      <td>This is Logan, the Chow who lived. He solemnly...</td>\n",
       "      <td>786709082849828864</td>\n",
       "      <td>75</td>\n",
       "      <td>10</td>\n",
       "    </tr>\n",
       "    <tr>\n",
       "      <th>763</th>\n",
       "      <td>This is Sophie. She's a Jubilant Bush Pupper. ...</td>\n",
       "      <td>778027034220126208</td>\n",
       "      <td>27</td>\n",
       "      <td>10</td>\n",
       "    </tr>\n",
       "    <tr>\n",
       "      <th>979</th>\n",
       "      <td>This is Atticus. He's quite simply America af....</td>\n",
       "      <td>749981277374128128</td>\n",
       "      <td>1776</td>\n",
       "      <td>10</td>\n",
       "    </tr>\n",
       "    <tr>\n",
       "      <th>1712</th>\n",
       "      <td>Here we have uncovered an entire battalion of ...</td>\n",
       "      <td>680494726643068929</td>\n",
       "      <td>26</td>\n",
       "      <td>10</td>\n",
       "    </tr>\n",
       "    <tr>\n",
       "      <th>2074</th>\n",
       "      <td>After so many requests... here you go.\\n\\nGood...</td>\n",
       "      <td>670842764863651840</td>\n",
       "      <td>420</td>\n",
       "      <td>10</td>\n",
       "    </tr>\n",
       "  </tbody>\n",
       "</table>\n",
       "</div>"
      ],
      "text/plain": [
       "                                                   text            tweet_id  \\\n",
       "695   This is Logan, the Chow who lived. He solemnly...  786709082849828864   \n",
       "763   This is Sophie. She's a Jubilant Bush Pupper. ...  778027034220126208   \n",
       "979   This is Atticus. He's quite simply America af....  749981277374128128   \n",
       "1712  Here we have uncovered an entire battalion of ...  680494726643068929   \n",
       "2074  After so many requests... here you go.\\n\\nGood...  670842764863651840   \n",
       "\n",
       "      rating_numerator  rating_denominator  \n",
       "695                 75                  10  \n",
       "763                 27                  10  \n",
       "979               1776                  10  \n",
       "1712                26                  10  \n",
       "2074               420                  10  "
      ]
     },
     "execution_count": 44,
     "metadata": {},
     "output_type": "execute_result"
    }
   ],
   "source": [
    "# display tweets with numerator >= 15 that DO have denominator of 10,\n",
    "# and are NOT replies and are NOT retweets\n",
    "mask_find = (df_tae.rating_denominator == 10) & \\\n",
    "            (df_tae.rating_numerator >= 15) & \\\n",
    "            df_tae.in_reply_to_status_id.isna() & \\\n",
    "            df_tae.retweeted_status_id.isna()\n",
    "\n",
    "mask_cols = ['text', 'tweet_id', 'rating_numerator', 'rating_denominator']\n",
    "df_tae[mask_find][mask_cols]"
   ]
  },
  {
   "cell_type": "code",
   "execution_count": 45,
   "metadata": {},
   "outputs": [
    {
     "data": {
      "text/plain": [
       "<a href=\"http://twitter.com/download/iphone\" rel=\"nofollow\">Twitter for iPhone</a>     2221\n",
       "<a href=\"http://vine.co\" rel=\"nofollow\">Vine - Make a Scene</a>                          91\n",
       "<a href=\"http://twitter.com\" rel=\"nofollow\">Twitter Web Client</a>                       33\n",
       "<a href=\"https://about.twitter.com/products/tweetdeck\" rel=\"nofollow\">TweetDeck</a>      11\n",
       "Name: source, dtype: int64"
      ]
     },
     "execution_count": 45,
     "metadata": {},
     "output_type": "execute_result"
    }
   ],
   "source": [
    "df_tae.source.value_counts()"
   ]
  },
  {
   "cell_type": "code",
   "execution_count": 46,
   "metadata": {},
   "outputs": [
    {
     "data": {
      "text/plain": [
       "None     2259\n",
       "doggo      97\n",
       "Name: doggo, dtype: int64"
      ]
     },
     "execution_count": 46,
     "metadata": {},
     "output_type": "execute_result"
    }
   ],
   "source": [
    "df_tae.doggo.value_counts()"
   ]
  },
  {
   "cell_type": "code",
   "execution_count": 47,
   "metadata": {},
   "outputs": [
    {
     "data": {
      "text/plain": [
       "None       2346\n",
       "floofer      10\n",
       "Name: floofer, dtype: int64"
      ]
     },
     "execution_count": 47,
     "metadata": {},
     "output_type": "execute_result"
    }
   ],
   "source": [
    "df_tae.floofer.value_counts()"
   ]
  },
  {
   "cell_type": "code",
   "execution_count": 48,
   "metadata": {},
   "outputs": [
    {
     "data": {
      "text/plain": [
       "None      2099\n",
       "pupper     257\n",
       "Name: pupper, dtype: int64"
      ]
     },
     "execution_count": 48,
     "metadata": {},
     "output_type": "execute_result"
    }
   ],
   "source": [
    "df_tae.pupper.value_counts()"
   ]
  },
  {
   "cell_type": "code",
   "execution_count": 49,
   "metadata": {},
   "outputs": [
    {
     "data": {
      "text/plain": [
       "None     2326\n",
       "puppo      30\n",
       "Name: puppo, dtype: int64"
      ]
     },
     "execution_count": 49,
     "metadata": {},
     "output_type": "execute_result"
    }
   ],
   "source": [
    "df_tae.puppo.value_counts()"
   ]
  },
  {
   "cell_type": "code",
   "execution_count": 50,
   "metadata": {},
   "outputs": [
    {
     "data": {
      "text/plain": [
       "46      Meet Grizzwald. He may be the floofiest floofe...\n",
       "200     At first I thought this was a shy doggo, but i...\n",
       "582     This is Doc. He takes time out of every day to...\n",
       "774     Atlas rolled around in some chalk and now he's...\n",
       "984     This is Blu. He's a wild bush Floofer. I wish ...\n",
       "1022    Here's a golden floofer helping with the groce...\n",
       "1091    Just wanted to share this super rare Rainbow F...\n",
       "1110    This is Moose. He's a Polynesian Floofer. Dapp...\n",
       "1534    Here we are witnessing a rare High Stepping Al...\n",
       "1614    Say hello to Petrick. He's an Altostratus Floo...\n",
       "Name: text, dtype: object"
      ]
     },
     "execution_count": 50,
     "metadata": {},
     "output_type": "execute_result"
    }
   ],
   "source": [
    "df_tae[df_tae.floofer == 'floofer'].text"
   ]
  },
  {
   "cell_type": "markdown",
   "metadata": {},
   "source": [
    "**Prediction data**"
   ]
  },
  {
   "cell_type": "code",
   "execution_count": 51,
   "metadata": {},
   "outputs": [
    {
     "name": "stdout",
     "output_type": "stream",
     "text": [
      "<class 'pandas.core.frame.DataFrame'>\n",
      "RangeIndex: 2075 entries, 0 to 2074\n",
      "Data columns (total 12 columns):\n",
      "tweet_id    2075 non-null int64\n",
      "jpg_url     2075 non-null object\n",
      "img_num     2075 non-null int64\n",
      "p1          2075 non-null object\n",
      "p1_conf     2075 non-null float64\n",
      "p1_dog      2075 non-null bool\n",
      "p2          2075 non-null object\n",
      "p2_conf     2075 non-null float64\n",
      "p2_dog      2075 non-null bool\n",
      "p3          2075 non-null object\n",
      "p3_conf     2075 non-null float64\n",
      "p3_dog      2075 non-null bool\n",
      "dtypes: bool(3), float64(3), int64(2), object(4)\n",
      "memory usage: 152.1+ KB\n"
     ]
    }
   ],
   "source": [
    "df_prediction.info()"
   ]
  },
  {
   "cell_type": "code",
   "execution_count": 52,
   "metadata": {},
   "outputs": [
    {
     "data": {
      "text/plain": [
       "0"
      ]
     },
     "execution_count": 52,
     "metadata": {},
     "output_type": "execute_result"
    }
   ],
   "source": [
    "df_prediction.duplicated().sum()"
   ]
  },
  {
   "cell_type": "code",
   "execution_count": 53,
   "metadata": {},
   "outputs": [
    {
     "data": {
      "text/html": [
       "<div>\n",
       "<style scoped>\n",
       "    .dataframe tbody tr th:only-of-type {\n",
       "        vertical-align: middle;\n",
       "    }\n",
       "\n",
       "    .dataframe tbody tr th {\n",
       "        vertical-align: top;\n",
       "    }\n",
       "\n",
       "    .dataframe thead th {\n",
       "        text-align: right;\n",
       "    }\n",
       "</style>\n",
       "<table border=\"1\" class=\"dataframe\">\n",
       "  <thead>\n",
       "    <tr style=\"text-align: right;\">\n",
       "      <th></th>\n",
       "      <th>tweet_id</th>\n",
       "      <th>jpg_url</th>\n",
       "      <th>img_num</th>\n",
       "      <th>p1</th>\n",
       "      <th>p1_conf</th>\n",
       "      <th>p1_dog</th>\n",
       "      <th>p2</th>\n",
       "      <th>p2_conf</th>\n",
       "      <th>p2_dog</th>\n",
       "      <th>p3</th>\n",
       "      <th>p3_conf</th>\n",
       "      <th>p3_dog</th>\n",
       "    </tr>\n",
       "  </thead>\n",
       "  <tbody>\n",
       "    <tr>\n",
       "      <th>0</th>\n",
       "      <td>666020888022790149</td>\n",
       "      <td>https://pbs.twimg.com/media/CT4udn0WwAA0aMy.jpg</td>\n",
       "      <td>1</td>\n",
       "      <td>Welsh_springer_spaniel</td>\n",
       "      <td>0.465074</td>\n",
       "      <td>True</td>\n",
       "      <td>collie</td>\n",
       "      <td>0.156665</td>\n",
       "      <td>True</td>\n",
       "      <td>Shetland_sheepdog</td>\n",
       "      <td>0.061428</td>\n",
       "      <td>True</td>\n",
       "    </tr>\n",
       "    <tr>\n",
       "      <th>1</th>\n",
       "      <td>666029285002620928</td>\n",
       "      <td>https://pbs.twimg.com/media/CT42GRgUYAA5iDo.jpg</td>\n",
       "      <td>1</td>\n",
       "      <td>redbone</td>\n",
       "      <td>0.506826</td>\n",
       "      <td>True</td>\n",
       "      <td>miniature_pinscher</td>\n",
       "      <td>0.074192</td>\n",
       "      <td>True</td>\n",
       "      <td>Rhodesian_ridgeback</td>\n",
       "      <td>0.072010</td>\n",
       "      <td>True</td>\n",
       "    </tr>\n",
       "    <tr>\n",
       "      <th>2</th>\n",
       "      <td>666033412701032449</td>\n",
       "      <td>https://pbs.twimg.com/media/CT4521TWwAEvMyu.jpg</td>\n",
       "      <td>1</td>\n",
       "      <td>German_shepherd</td>\n",
       "      <td>0.596461</td>\n",
       "      <td>True</td>\n",
       "      <td>malinois</td>\n",
       "      <td>0.138584</td>\n",
       "      <td>True</td>\n",
       "      <td>bloodhound</td>\n",
       "      <td>0.116197</td>\n",
       "      <td>True</td>\n",
       "    </tr>\n",
       "    <tr>\n",
       "      <th>3</th>\n",
       "      <td>666044226329800704</td>\n",
       "      <td>https://pbs.twimg.com/media/CT5Dr8HUEAA-lEu.jpg</td>\n",
       "      <td>1</td>\n",
       "      <td>Rhodesian_ridgeback</td>\n",
       "      <td>0.408143</td>\n",
       "      <td>True</td>\n",
       "      <td>redbone</td>\n",
       "      <td>0.360687</td>\n",
       "      <td>True</td>\n",
       "      <td>miniature_pinscher</td>\n",
       "      <td>0.222752</td>\n",
       "      <td>True</td>\n",
       "    </tr>\n",
       "    <tr>\n",
       "      <th>4</th>\n",
       "      <td>666049248165822465</td>\n",
       "      <td>https://pbs.twimg.com/media/CT5IQmsXIAAKY4A.jpg</td>\n",
       "      <td>1</td>\n",
       "      <td>miniature_pinscher</td>\n",
       "      <td>0.560311</td>\n",
       "      <td>True</td>\n",
       "      <td>Rottweiler</td>\n",
       "      <td>0.243682</td>\n",
       "      <td>True</td>\n",
       "      <td>Doberman</td>\n",
       "      <td>0.154629</td>\n",
       "      <td>True</td>\n",
       "    </tr>\n",
       "    <tr>\n",
       "      <th>5</th>\n",
       "      <td>666050758794694657</td>\n",
       "      <td>https://pbs.twimg.com/media/CT5Jof1WUAEuVxN.jpg</td>\n",
       "      <td>1</td>\n",
       "      <td>Bernese_mountain_dog</td>\n",
       "      <td>0.651137</td>\n",
       "      <td>True</td>\n",
       "      <td>English_springer</td>\n",
       "      <td>0.263788</td>\n",
       "      <td>True</td>\n",
       "      <td>Greater_Swiss_Mountain_dog</td>\n",
       "      <td>0.016199</td>\n",
       "      <td>True</td>\n",
       "    </tr>\n",
       "    <tr>\n",
       "      <th>6</th>\n",
       "      <td>666051853826850816</td>\n",
       "      <td>https://pbs.twimg.com/media/CT5KoJ1WoAAJash.jpg</td>\n",
       "      <td>1</td>\n",
       "      <td>box_turtle</td>\n",
       "      <td>0.933012</td>\n",
       "      <td>False</td>\n",
       "      <td>mud_turtle</td>\n",
       "      <td>0.045885</td>\n",
       "      <td>False</td>\n",
       "      <td>terrapin</td>\n",
       "      <td>0.017885</td>\n",
       "      <td>False</td>\n",
       "    </tr>\n",
       "    <tr>\n",
       "      <th>7</th>\n",
       "      <td>666055525042405380</td>\n",
       "      <td>https://pbs.twimg.com/media/CT5N9tpXIAAifs1.jpg</td>\n",
       "      <td>1</td>\n",
       "      <td>chow</td>\n",
       "      <td>0.692517</td>\n",
       "      <td>True</td>\n",
       "      <td>Tibetan_mastiff</td>\n",
       "      <td>0.058279</td>\n",
       "      <td>True</td>\n",
       "      <td>fur_coat</td>\n",
       "      <td>0.054449</td>\n",
       "      <td>False</td>\n",
       "    </tr>\n",
       "    <tr>\n",
       "      <th>8</th>\n",
       "      <td>666057090499244032</td>\n",
       "      <td>https://pbs.twimg.com/media/CT5PY90WoAAQGLo.jpg</td>\n",
       "      <td>1</td>\n",
       "      <td>shopping_cart</td>\n",
       "      <td>0.962465</td>\n",
       "      <td>False</td>\n",
       "      <td>shopping_basket</td>\n",
       "      <td>0.014594</td>\n",
       "      <td>False</td>\n",
       "      <td>golden_retriever</td>\n",
       "      <td>0.007959</td>\n",
       "      <td>True</td>\n",
       "    </tr>\n",
       "    <tr>\n",
       "      <th>9</th>\n",
       "      <td>666058600524156928</td>\n",
       "      <td>https://pbs.twimg.com/media/CT5Qw94XAAA_2dP.jpg</td>\n",
       "      <td>1</td>\n",
       "      <td>miniature_poodle</td>\n",
       "      <td>0.201493</td>\n",
       "      <td>True</td>\n",
       "      <td>komondor</td>\n",
       "      <td>0.192305</td>\n",
       "      <td>True</td>\n",
       "      <td>soft-coated_wheaten_terrier</td>\n",
       "      <td>0.082086</td>\n",
       "      <td>True</td>\n",
       "    </tr>\n",
       "  </tbody>\n",
       "</table>\n",
       "</div>"
      ],
      "text/plain": [
       "             tweet_id                                          jpg_url  \\\n",
       "0  666020888022790149  https://pbs.twimg.com/media/CT4udn0WwAA0aMy.jpg   \n",
       "1  666029285002620928  https://pbs.twimg.com/media/CT42GRgUYAA5iDo.jpg   \n",
       "2  666033412701032449  https://pbs.twimg.com/media/CT4521TWwAEvMyu.jpg   \n",
       "3  666044226329800704  https://pbs.twimg.com/media/CT5Dr8HUEAA-lEu.jpg   \n",
       "4  666049248165822465  https://pbs.twimg.com/media/CT5IQmsXIAAKY4A.jpg   \n",
       "5  666050758794694657  https://pbs.twimg.com/media/CT5Jof1WUAEuVxN.jpg   \n",
       "6  666051853826850816  https://pbs.twimg.com/media/CT5KoJ1WoAAJash.jpg   \n",
       "7  666055525042405380  https://pbs.twimg.com/media/CT5N9tpXIAAifs1.jpg   \n",
       "8  666057090499244032  https://pbs.twimg.com/media/CT5PY90WoAAQGLo.jpg   \n",
       "9  666058600524156928  https://pbs.twimg.com/media/CT5Qw94XAAA_2dP.jpg   \n",
       "\n",
       "   img_num                      p1   p1_conf  p1_dog                  p2  \\\n",
       "0        1  Welsh_springer_spaniel  0.465074    True              collie   \n",
       "1        1                 redbone  0.506826    True  miniature_pinscher   \n",
       "2        1         German_shepherd  0.596461    True            malinois   \n",
       "3        1     Rhodesian_ridgeback  0.408143    True             redbone   \n",
       "4        1      miniature_pinscher  0.560311    True          Rottweiler   \n",
       "5        1    Bernese_mountain_dog  0.651137    True    English_springer   \n",
       "6        1              box_turtle  0.933012   False          mud_turtle   \n",
       "7        1                    chow  0.692517    True     Tibetan_mastiff   \n",
       "8        1           shopping_cart  0.962465   False     shopping_basket   \n",
       "9        1        miniature_poodle  0.201493    True            komondor   \n",
       "\n",
       "    p2_conf  p2_dog                           p3   p3_conf  p3_dog  \n",
       "0  0.156665    True            Shetland_sheepdog  0.061428    True  \n",
       "1  0.074192    True          Rhodesian_ridgeback  0.072010    True  \n",
       "2  0.138584    True                   bloodhound  0.116197    True  \n",
       "3  0.360687    True           miniature_pinscher  0.222752    True  \n",
       "4  0.243682    True                     Doberman  0.154629    True  \n",
       "5  0.263788    True   Greater_Swiss_Mountain_dog  0.016199    True  \n",
       "6  0.045885   False                     terrapin  0.017885   False  \n",
       "7  0.058279    True                     fur_coat  0.054449   False  \n",
       "8  0.014594   False             golden_retriever  0.007959    True  \n",
       "9  0.192305    True  soft-coated_wheaten_terrier  0.082086    True  "
      ]
     },
     "execution_count": 53,
     "metadata": {},
     "output_type": "execute_result"
    }
   ],
   "source": [
    "df_prediction.head(10)"
   ]
  },
  {
   "cell_type": "code",
   "execution_count": 54,
   "metadata": {},
   "outputs": [
    {
     "data": {
      "text/plain": [
       "True     1532\n",
       "False     543\n",
       "Name: p1_dog, dtype: int64"
      ]
     },
     "execution_count": 54,
     "metadata": {},
     "output_type": "execute_result"
    }
   ],
   "source": [
    "df_prediction.p1_dog.value_counts()"
   ]
  },
  {
   "cell_type": "code",
   "execution_count": 55,
   "metadata": {},
   "outputs": [
    {
     "data": {
      "text/plain": [
       "True     1553\n",
       "False     522\n",
       "Name: p2_dog, dtype: int64"
      ]
     },
     "execution_count": 55,
     "metadata": {},
     "output_type": "execute_result"
    }
   ],
   "source": [
    "df_prediction.p2_dog.value_counts()"
   ]
  },
  {
   "cell_type": "code",
   "execution_count": 56,
   "metadata": {},
   "outputs": [
    {
     "data": {
      "text/plain": [
       "True     1499\n",
       "False     576\n",
       "Name: p3_dog, dtype: int64"
      ]
     },
     "execution_count": 56,
     "metadata": {},
     "output_type": "execute_result"
    }
   ],
   "source": [
    "df_prediction.p3_dog.value_counts()"
   ]
  },
  {
   "cell_type": "code",
   "execution_count": 57,
   "metadata": {},
   "outputs": [
    {
     "data": {
      "text/html": [
       "<div>\n",
       "<style scoped>\n",
       "    .dataframe tbody tr th:only-of-type {\n",
       "        vertical-align: middle;\n",
       "    }\n",
       "\n",
       "    .dataframe tbody tr th {\n",
       "        vertical-align: top;\n",
       "    }\n",
       "\n",
       "    .dataframe thead th {\n",
       "        text-align: right;\n",
       "    }\n",
       "</style>\n",
       "<table border=\"1\" class=\"dataframe\">\n",
       "  <thead>\n",
       "    <tr style=\"text-align: right;\">\n",
       "      <th></th>\n",
       "      <th>tweet_id</th>\n",
       "      <th>p1</th>\n",
       "      <th>p1_dog</th>\n",
       "      <th>p2</th>\n",
       "      <th>p2_dog</th>\n",
       "      <th>p3</th>\n",
       "      <th>p3_dog</th>\n",
       "    </tr>\n",
       "  </thead>\n",
       "  <tbody>\n",
       "    <tr>\n",
       "      <th>6</th>\n",
       "      <td>666051853826850816</td>\n",
       "      <td>box_turtle</td>\n",
       "      <td>False</td>\n",
       "      <td>mud_turtle</td>\n",
       "      <td>False</td>\n",
       "      <td>terrapin</td>\n",
       "      <td>False</td>\n",
       "    </tr>\n",
       "    <tr>\n",
       "      <th>17</th>\n",
       "      <td>666104133288665088</td>\n",
       "      <td>hen</td>\n",
       "      <td>False</td>\n",
       "      <td>cock</td>\n",
       "      <td>False</td>\n",
       "      <td>partridge</td>\n",
       "      <td>False</td>\n",
       "    </tr>\n",
       "    <tr>\n",
       "      <th>18</th>\n",
       "      <td>666268910803644416</td>\n",
       "      <td>desktop_computer</td>\n",
       "      <td>False</td>\n",
       "      <td>desk</td>\n",
       "      <td>False</td>\n",
       "      <td>bookcase</td>\n",
       "      <td>False</td>\n",
       "    </tr>\n",
       "    <tr>\n",
       "      <th>21</th>\n",
       "      <td>666293911632134144</td>\n",
       "      <td>three-toed_sloth</td>\n",
       "      <td>False</td>\n",
       "      <td>otter</td>\n",
       "      <td>False</td>\n",
       "      <td>great_grey_owl</td>\n",
       "      <td>False</td>\n",
       "    </tr>\n",
       "    <tr>\n",
       "      <th>25</th>\n",
       "      <td>666362758909284353</td>\n",
       "      <td>guinea_pig</td>\n",
       "      <td>False</td>\n",
       "      <td>skunk</td>\n",
       "      <td>False</td>\n",
       "      <td>hamster</td>\n",
       "      <td>False</td>\n",
       "    </tr>\n",
       "    <tr>\n",
       "      <th>29</th>\n",
       "      <td>666411507551481857</td>\n",
       "      <td>coho</td>\n",
       "      <td>False</td>\n",
       "      <td>barracouta</td>\n",
       "      <td>False</td>\n",
       "      <td>gar</td>\n",
       "      <td>False</td>\n",
       "    </tr>\n",
       "    <tr>\n",
       "      <th>45</th>\n",
       "      <td>666786068205871104</td>\n",
       "      <td>snail</td>\n",
       "      <td>False</td>\n",
       "      <td>slug</td>\n",
       "      <td>False</td>\n",
       "      <td>acorn</td>\n",
       "      <td>False</td>\n",
       "    </tr>\n",
       "    <tr>\n",
       "      <th>50</th>\n",
       "      <td>666837028449972224</td>\n",
       "      <td>triceratops</td>\n",
       "      <td>False</td>\n",
       "      <td>armadillo</td>\n",
       "      <td>False</td>\n",
       "      <td>common_iguana</td>\n",
       "      <td>False</td>\n",
       "    </tr>\n",
       "    <tr>\n",
       "      <th>51</th>\n",
       "      <td>666983947667116034</td>\n",
       "      <td>swab</td>\n",
       "      <td>False</td>\n",
       "      <td>chain_saw</td>\n",
       "      <td>False</td>\n",
       "      <td>wig</td>\n",
       "      <td>False</td>\n",
       "    </tr>\n",
       "    <tr>\n",
       "      <th>53</th>\n",
       "      <td>667012601033924608</td>\n",
       "      <td>hyena</td>\n",
       "      <td>False</td>\n",
       "      <td>African_hunting_dog</td>\n",
       "      <td>False</td>\n",
       "      <td>coyote</td>\n",
       "      <td>False</td>\n",
       "    </tr>\n",
       "    <tr>\n",
       "      <th>56</th>\n",
       "      <td>667065535570550784</td>\n",
       "      <td>jigsaw_puzzle</td>\n",
       "      <td>False</td>\n",
       "      <td>doormat</td>\n",
       "      <td>False</td>\n",
       "      <td>space_heater</td>\n",
       "      <td>False</td>\n",
       "    </tr>\n",
       "    <tr>\n",
       "      <th>69</th>\n",
       "      <td>667188689915760640</td>\n",
       "      <td>vacuum</td>\n",
       "      <td>False</td>\n",
       "      <td>swab</td>\n",
       "      <td>False</td>\n",
       "      <td>toilet_tissue</td>\n",
       "      <td>False</td>\n",
       "    </tr>\n",
       "    <tr>\n",
       "      <th>73</th>\n",
       "      <td>667369227918143488</td>\n",
       "      <td>teddy</td>\n",
       "      <td>False</td>\n",
       "      <td>bath_towel</td>\n",
       "      <td>False</td>\n",
       "      <td>Christmas_stocking</td>\n",
       "      <td>False</td>\n",
       "    </tr>\n",
       "    <tr>\n",
       "      <th>77</th>\n",
       "      <td>667437278097252352</td>\n",
       "      <td>porcupine</td>\n",
       "      <td>False</td>\n",
       "      <td>bath_towel</td>\n",
       "      <td>False</td>\n",
       "      <td>badger</td>\n",
       "      <td>False</td>\n",
       "    </tr>\n",
       "    <tr>\n",
       "      <th>78</th>\n",
       "      <td>667443425659232256</td>\n",
       "      <td>goose</td>\n",
       "      <td>False</td>\n",
       "      <td>drake</td>\n",
       "      <td>False</td>\n",
       "      <td>hen</td>\n",
       "      <td>False</td>\n",
       "    </tr>\n",
       "    <tr>\n",
       "      <th>93</th>\n",
       "      <td>667549055577362432</td>\n",
       "      <td>electric_fan</td>\n",
       "      <td>False</td>\n",
       "      <td>spotlight</td>\n",
       "      <td>False</td>\n",
       "      <td>lampshade</td>\n",
       "      <td>False</td>\n",
       "    </tr>\n",
       "    <tr>\n",
       "      <th>94</th>\n",
       "      <td>667550882905632768</td>\n",
       "      <td>web_site</td>\n",
       "      <td>False</td>\n",
       "      <td>dishwasher</td>\n",
       "      <td>False</td>\n",
       "      <td>oscilloscope</td>\n",
       "      <td>False</td>\n",
       "    </tr>\n",
       "    <tr>\n",
       "      <th>96</th>\n",
       "      <td>667724302356258817</td>\n",
       "      <td>ibex</td>\n",
       "      <td>False</td>\n",
       "      <td>bighorn</td>\n",
       "      <td>False</td>\n",
       "      <td>ram</td>\n",
       "      <td>False</td>\n",
       "    </tr>\n",
       "    <tr>\n",
       "      <th>98</th>\n",
       "      <td>667766675769573376</td>\n",
       "      <td>fire_engine</td>\n",
       "      <td>False</td>\n",
       "      <td>tow_truck</td>\n",
       "      <td>False</td>\n",
       "      <td>jeep</td>\n",
       "      <td>False</td>\n",
       "    </tr>\n",
       "    <tr>\n",
       "      <th>100</th>\n",
       "      <td>667782464991965184</td>\n",
       "      <td>lorikeet</td>\n",
       "      <td>False</td>\n",
       "      <td>hummingbird</td>\n",
       "      <td>False</td>\n",
       "      <td>African_grey</td>\n",
       "      <td>False</td>\n",
       "    </tr>\n",
       "  </tbody>\n",
       "</table>\n",
       "</div>"
      ],
      "text/plain": [
       "               tweet_id                p1  p1_dog                   p2  \\\n",
       "6    666051853826850816        box_turtle   False           mud_turtle   \n",
       "17   666104133288665088               hen   False                 cock   \n",
       "18   666268910803644416  desktop_computer   False                 desk   \n",
       "21   666293911632134144  three-toed_sloth   False                otter   \n",
       "25   666362758909284353        guinea_pig   False                skunk   \n",
       "29   666411507551481857              coho   False           barracouta   \n",
       "45   666786068205871104             snail   False                 slug   \n",
       "50   666837028449972224       triceratops   False            armadillo   \n",
       "51   666983947667116034              swab   False            chain_saw   \n",
       "53   667012601033924608             hyena   False  African_hunting_dog   \n",
       "56   667065535570550784     jigsaw_puzzle   False              doormat   \n",
       "69   667188689915760640            vacuum   False                 swab   \n",
       "73   667369227918143488             teddy   False           bath_towel   \n",
       "77   667437278097252352         porcupine   False           bath_towel   \n",
       "78   667443425659232256             goose   False                drake   \n",
       "93   667549055577362432      electric_fan   False            spotlight   \n",
       "94   667550882905632768          web_site   False           dishwasher   \n",
       "96   667724302356258817              ibex   False              bighorn   \n",
       "98   667766675769573376       fire_engine   False            tow_truck   \n",
       "100  667782464991965184          lorikeet   False          hummingbird   \n",
       "\n",
       "     p2_dog                  p3  p3_dog  \n",
       "6     False            terrapin   False  \n",
       "17    False           partridge   False  \n",
       "18    False            bookcase   False  \n",
       "21    False      great_grey_owl   False  \n",
       "25    False             hamster   False  \n",
       "29    False                 gar   False  \n",
       "45    False               acorn   False  \n",
       "50    False       common_iguana   False  \n",
       "51    False                 wig   False  \n",
       "53    False              coyote   False  \n",
       "56    False        space_heater   False  \n",
       "69    False       toilet_tissue   False  \n",
       "73    False  Christmas_stocking   False  \n",
       "77    False              badger   False  \n",
       "78    False                 hen   False  \n",
       "93    False           lampshade   False  \n",
       "94    False        oscilloscope   False  \n",
       "96    False                 ram   False  \n",
       "98    False                jeep   False  \n",
       "100   False        African_grey   False  "
      ]
     },
     "execution_count": 57,
     "metadata": {},
     "output_type": "execute_result"
    }
   ],
   "source": [
    "# check out 20 of the entries that don't predict dogs\n",
    "df_prediction[~df_prediction.p1_dog & \\\n",
    "               ~df_prediction.p2_dog & \\\n",
    "               ~df_prediction.p3_dog][['tweet_id', 'p1', 'p1_dog',\n",
    "                                        'p2', 'p2_dog', 'p3', 'p3_dog']].head(20)"
   ]
  },
  {
   "cell_type": "code",
   "execution_count": 58,
   "metadata": {},
   "outputs": [
    {
     "data": {
      "text/plain": [
       "324"
      ]
     },
     "execution_count": 58,
     "metadata": {},
     "output_type": "execute_result"
    }
   ],
   "source": [
    "sum(~df_prediction.p1_dog & \\\n",
    "               ~df_prediction.p2_dog & \\\n",
    "               ~df_prediction.p3_dog)"
   ]
  },
  {
   "cell_type": "markdown",
   "metadata": {},
   "source": [
    "**Json_tweet data**"
   ]
  },
  {
   "cell_type": "code",
   "execution_count": 59,
   "metadata": {},
   "outputs": [
    {
     "name": "stdout",
     "output_type": "stream",
     "text": [
      "<class 'pandas.core.frame.DataFrame'>\n",
      "RangeIndex: 2327 entries, 0 to 2326\n",
      "Data columns (total 3 columns):\n",
      "tweet_id          2327 non-null int64\n",
      "retweet_count     2327 non-null int64\n",
      "favorite_count    2327 non-null int64\n",
      "dtypes: int64(3)\n",
      "memory usage: 54.6 KB\n"
     ]
    }
   ],
   "source": [
    "df_tweet.info()"
   ]
  },
  {
   "cell_type": "code",
   "execution_count": 60,
   "metadata": {},
   "outputs": [
    {
     "data": {
      "text/html": [
       "<div>\n",
       "<style scoped>\n",
       "    .dataframe tbody tr th:only-of-type {\n",
       "        vertical-align: middle;\n",
       "    }\n",
       "\n",
       "    .dataframe tbody tr th {\n",
       "        vertical-align: top;\n",
       "    }\n",
       "\n",
       "    .dataframe thead th {\n",
       "        text-align: right;\n",
       "    }\n",
       "</style>\n",
       "<table border=\"1\" class=\"dataframe\">\n",
       "  <thead>\n",
       "    <tr style=\"text-align: right;\">\n",
       "      <th></th>\n",
       "      <th>tweet_id</th>\n",
       "      <th>retweet_count</th>\n",
       "      <th>favorite_count</th>\n",
       "    </tr>\n",
       "  </thead>\n",
       "  <tbody>\n",
       "    <tr>\n",
       "      <th>0</th>\n",
       "      <td>892420643555336193</td>\n",
       "      <td>7009</td>\n",
       "      <td>33801</td>\n",
       "    </tr>\n",
       "    <tr>\n",
       "      <th>1</th>\n",
       "      <td>892177421306343426</td>\n",
       "      <td>5301</td>\n",
       "      <td>29336</td>\n",
       "    </tr>\n",
       "    <tr>\n",
       "      <th>2</th>\n",
       "      <td>891815181378084864</td>\n",
       "      <td>3481</td>\n",
       "      <td>22060</td>\n",
       "    </tr>\n",
       "    <tr>\n",
       "      <th>3</th>\n",
       "      <td>891689557279858688</td>\n",
       "      <td>7219</td>\n",
       "      <td>36903</td>\n",
       "    </tr>\n",
       "    <tr>\n",
       "      <th>4</th>\n",
       "      <td>891327558926688256</td>\n",
       "      <td>7762</td>\n",
       "      <td>35314</td>\n",
       "    </tr>\n",
       "  </tbody>\n",
       "</table>\n",
       "</div>"
      ],
      "text/plain": [
       "             tweet_id  retweet_count  favorite_count\n",
       "0  892420643555336193           7009           33801\n",
       "1  892177421306343426           5301           29336\n",
       "2  891815181378084864           3481           22060\n",
       "3  891689557279858688           7219           36903\n",
       "4  891327558926688256           7762           35314"
      ]
     },
     "execution_count": 60,
     "metadata": {},
     "output_type": "execute_result"
    }
   ],
   "source": [
    "df_tweet.head()"
   ]
  },
  {
   "cell_type": "code",
   "execution_count": 61,
   "metadata": {},
   "outputs": [
    {
     "data": {
      "text/html": [
       "<div>\n",
       "<style scoped>\n",
       "    .dataframe tbody tr th:only-of-type {\n",
       "        vertical-align: middle;\n",
       "    }\n",
       "\n",
       "    .dataframe tbody tr th {\n",
       "        vertical-align: top;\n",
       "    }\n",
       "\n",
       "    .dataframe thead th {\n",
       "        text-align: right;\n",
       "    }\n",
       "</style>\n",
       "<table border=\"1\" class=\"dataframe\">\n",
       "  <thead>\n",
       "    <tr style=\"text-align: right;\">\n",
       "      <th></th>\n",
       "      <th>tweet_id</th>\n",
       "      <th>retweet_count</th>\n",
       "      <th>favorite_count</th>\n",
       "    </tr>\n",
       "  </thead>\n",
       "  <tbody>\n",
       "    <tr>\n",
       "      <th>count</th>\n",
       "      <td>2.327000e+03</td>\n",
       "      <td>2327.000000</td>\n",
       "      <td>2327.000000</td>\n",
       "    </tr>\n",
       "    <tr>\n",
       "      <th>mean</th>\n",
       "      <td>7.417930e+17</td>\n",
       "      <td>2471.741728</td>\n",
       "      <td>7054.158573</td>\n",
       "    </tr>\n",
       "    <tr>\n",
       "      <th>std</th>\n",
       "      <td>6.820795e+16</td>\n",
       "      <td>4185.719388</td>\n",
       "      <td>10961.034709</td>\n",
       "    </tr>\n",
       "    <tr>\n",
       "      <th>min</th>\n",
       "      <td>6.660209e+17</td>\n",
       "      <td>1.000000</td>\n",
       "      <td>0.000000</td>\n",
       "    </tr>\n",
       "    <tr>\n",
       "      <th>25%</th>\n",
       "      <td>6.781394e+17</td>\n",
       "      <td>494.500000</td>\n",
       "      <td>1226.000000</td>\n",
       "    </tr>\n",
       "    <tr>\n",
       "      <th>50%</th>\n",
       "      <td>7.178418e+17</td>\n",
       "      <td>1149.000000</td>\n",
       "      <td>3050.000000</td>\n",
       "    </tr>\n",
       "    <tr>\n",
       "      <th>75%</th>\n",
       "      <td>7.986547e+17</td>\n",
       "      <td>2861.500000</td>\n",
       "      <td>8601.500000</td>\n",
       "    </tr>\n",
       "    <tr>\n",
       "      <th>max</th>\n",
       "      <td>8.924206e+17</td>\n",
       "      <td>70759.000000</td>\n",
       "      <td>144926.000000</td>\n",
       "    </tr>\n",
       "  </tbody>\n",
       "</table>\n",
       "</div>"
      ],
      "text/plain": [
       "           tweet_id  retweet_count  favorite_count\n",
       "count  2.327000e+03    2327.000000     2327.000000\n",
       "mean   7.417930e+17    2471.741728     7054.158573\n",
       "std    6.820795e+16    4185.719388    10961.034709\n",
       "min    6.660209e+17       1.000000        0.000000\n",
       "25%    6.781394e+17     494.500000     1226.000000\n",
       "50%    7.178418e+17    1149.000000     3050.000000\n",
       "75%    7.986547e+17    2861.500000     8601.500000\n",
       "max    8.924206e+17   70759.000000   144926.000000"
      ]
     },
     "execution_count": 61,
     "metadata": {},
     "output_type": "execute_result"
    }
   ],
   "source": [
    "df_tweet.describe()"
   ]
  },
  {
   "cell_type": "markdown",
   "metadata": {},
   "source": [
    "**Quality issues**"
   ]
  },
  {
   "cell_type": "markdown",
   "metadata": {},
   "source": [
    "1. 181 of the tweets are retweets\n",
    " - need to remove these 181 rows because they are essentailly duplicates of original "
   ]
  },
  {
   "cell_type": "markdown",
   "metadata": {},
   "source": [
    "2. 78 of the tweets are replies to other tweets\n",
    " - need to remove these 78 rows b/c it doesn't help with our project motivation "
   ]
  },
  {
   "cell_type": "markdown",
   "metadata": {},
   "source": [
    "3. timestamp column is in string format \n",
    "   - needs to be in datetime format"
   ]
  },
  {
   "cell_type": "markdown",
   "metadata": {},
   "source": [
    "    4.Denominator issues"
   ]
  },
  {
   "cell_type": "markdown",
   "metadata": {},
   "source": [
    "5.missing expanded_urls values"
   ]
  },
  {
   "cell_type": "markdown",
   "metadata": {},
   "source": [
    "6.There are 2075 image predictions, 281 less than the number of tweets in the archive, so will be classified as \"missing data\"."
   ]
  },
  {
   "cell_type": "markdown",
   "metadata": {},
   "source": [
    "7.Tweets with invalid names"
   ]
  },
  {
   "cell_type": "markdown",
   "metadata": {},
   "source": [
    "8. Several tweets (16 during this run) from the original archive table have been deleted since the archive was created (TweepErrors were reported)."
   ]
  },
  {
   "cell_type": "markdown",
   "metadata": {
    "extensions": {
     "jupyter_dashboards": {
      "version": 1,
      "views": {
       "grid_default": {
        "col": 0,
        "height": 7,
        "hidden": false,
        "row": 40,
        "width": 12
       },
       "report_default": {
        "hidden": false
       }
      }
     }
    }
   },
   "source": [
    "### Tidiness issues\n",
    "1.Data contains 4 columns for dog stages\n",
    "\n",
    "2.Dataframe needs to be joined with the other two dataframes "
   ]
  },
  {
   "cell_type": "markdown",
   "metadata": {
    "extensions": {
     "jupyter_dashboards": {
      "version": 1,
      "views": {
       "grid_default": {
        "col": 4,
        "height": 4,
        "hidden": false,
        "row": 32,
        "width": 4
       },
       "report_default": {
        "hidden": false
       }
      }
     }
    }
   },
   "source": [
    "## Cleaning Data\n",
    "In this section, clean **all** of the issues you documented while assessing. \n",
    "\n",
    "**Note:** Make a copy of the original data before cleaning. Cleaning includes merging individual pieces of data according to the rules of [tidy data](https://cran.r-project.org/web/packages/tidyr/vignettes/tidy-data.html). The result should be a high-quality and tidy master pandas DataFrame (or DataFrames, if appropriate)."
   ]
  },
  {
   "cell_type": "code",
   "execution_count": 62,
   "metadata": {},
   "outputs": [],
   "source": [
    "# create copies of the dataframes for cleaning\n",
    "df_tae_clean = df_tae.copy()\n",
    "df_prediction_clean = df_prediction.copy()\n",
    "df_tweet_clean = df_tweet.copy()"
   ]
  },
  {
   "cell_type": "code",
   "execution_count": 63,
   "metadata": {},
   "outputs": [
    {
     "data": {
      "text/plain": [
       "2356"
      ]
     },
     "execution_count": 63,
     "metadata": {},
     "output_type": "execute_result"
    }
   ],
   "source": [
    "len_df_tae = df_tae_clean.shape[0]; len_df_tae"
   ]
  },
  {
   "cell_type": "markdown",
   "metadata": {},
   "source": [
    "### Issue #1:"
   ]
  },
  {
   "cell_type": "markdown",
   "metadata": {},
   "source": [
    "#### Define:"
   ]
  },
  {
   "cell_type": "markdown",
   "metadata": {},
   "source": [
    "Drop all rows containing retweets, where these columns will be non-null: retweeted_status_id, retweeted_status_user_id and retweeted_status_timestamp."
   ]
  },
  {
   "cell_type": "markdown",
   "metadata": {},
   "source": [
    "#### Code"
   ]
  },
  {
   "cell_type": "code",
   "execution_count": 64,
   "metadata": {},
   "outputs": [
    {
     "name": "stdout",
     "output_type": "stream",
     "text": [
      "# of retweets:  181\n"
     ]
    }
   ],
   "source": [
    "print(\"# of retweets:  {}\".format(sum(df_tae_clean.retweeted_status_id.notnull())))"
   ]
  },
  {
   "cell_type": "code",
   "execution_count": 65,
   "metadata": {},
   "outputs": [],
   "source": [
    "df_tae_clean = df_tae_clean[df_tae_clean.retweeted_status_id.isnull()]"
   ]
  },
  {
   "cell_type": "markdown",
   "metadata": {},
   "source": [
    "#### Test"
   ]
  },
  {
   "cell_type": "code",
   "execution_count": 66,
   "metadata": {},
   "outputs": [
    {
     "name": "stdout",
     "output_type": "stream",
     "text": [
      "<class 'pandas.core.frame.DataFrame'>\n",
      "Int64Index: 2175 entries, 0 to 2355\n",
      "Data columns (total 17 columns):\n",
      "tweet_id                      2175 non-null int64\n",
      "in_reply_to_status_id         78 non-null float64\n",
      "in_reply_to_user_id           78 non-null float64\n",
      "timestamp                     2175 non-null object\n",
      "source                        2175 non-null object\n",
      "text                          2175 non-null object\n",
      "retweeted_status_id           0 non-null float64\n",
      "retweeted_status_user_id      0 non-null float64\n",
      "retweeted_status_timestamp    0 non-null object\n",
      "expanded_urls                 2117 non-null object\n",
      "rating_numerator              2175 non-null int64\n",
      "rating_denominator            2175 non-null int64\n",
      "name                          2175 non-null object\n",
      "doggo                         2175 non-null object\n",
      "floofer                       2175 non-null object\n",
      "pupper                        2175 non-null object\n",
      "puppo                         2175 non-null object\n",
      "dtypes: float64(4), int64(3), object(10)\n",
      "memory usage: 305.9+ KB\n"
     ]
    }
   ],
   "source": [
    "df_tae_clean.info()"
   ]
  },
  {
   "cell_type": "code",
   "execution_count": 67,
   "metadata": {},
   "outputs": [
    {
     "name": "stdout",
     "output_type": "stream",
     "text": [
      "# of rows dropped:  181\n"
     ]
    }
   ],
   "source": [
    "# confirm the rows are dropped; compare with original table length\n",
    "print(\"# of rows dropped:  {}\".format(len_df_tae - df_tae_clean.shape[0]))\n",
    "# reset the variable for length of the archive\n",
    "len_df_tae = df_tae_clean.shape[0]"
   ]
  },
  {
   "cell_type": "markdown",
   "metadata": {},
   "source": [
    "### Issue #2:"
   ]
  },
  {
   "cell_type": "markdown",
   "metadata": {
    "collapsed": true,
    "extensions": {
     "jupyter_dashboards": {
      "version": 1,
      "views": {
       "grid_default": {
        "hidden": true
       },
       "report_default": {
        "hidden": true
       }
      }
     }
    }
   },
   "source": [
    "#### Define"
   ]
  },
  {
   "cell_type": "markdown",
   "metadata": {},
   "source": [
    "Drop all rows that are replies, those that have non-null values in these columns: in_reply_to_status_id and in_reply_to_user_id"
   ]
  },
  {
   "cell_type": "markdown",
   "metadata": {},
   "source": [
    "#### Code"
   ]
  },
  {
   "cell_type": "code",
   "execution_count": 68,
   "metadata": {},
   "outputs": [
    {
     "name": "stdout",
     "output_type": "stream",
     "text": [
      "# of replies:  78\n"
     ]
    }
   ],
   "source": [
    "print(\"# of replies:  {}\".format(sum(df_tae_clean.in_reply_to_status_id.notnull())))"
   ]
  },
  {
   "cell_type": "code",
   "execution_count": 69,
   "metadata": {},
   "outputs": [],
   "source": [
    "df_tae_clean = df_tae_clean[df_tae_clean.in_reply_to_status_id.isnull()]"
   ]
  },
  {
   "cell_type": "markdown",
   "metadata": {},
   "source": [
    "#### Test"
   ]
  },
  {
   "cell_type": "code",
   "execution_count": 70,
   "metadata": {
    "scrolled": true
   },
   "outputs": [
    {
     "name": "stdout",
     "output_type": "stream",
     "text": [
      "<class 'pandas.core.frame.DataFrame'>\n",
      "Int64Index: 2097 entries, 0 to 2355\n",
      "Data columns (total 17 columns):\n",
      "tweet_id                      2097 non-null int64\n",
      "in_reply_to_status_id         0 non-null float64\n",
      "in_reply_to_user_id           0 non-null float64\n",
      "timestamp                     2097 non-null object\n",
      "source                        2097 non-null object\n",
      "text                          2097 non-null object\n",
      "retweeted_status_id           0 non-null float64\n",
      "retweeted_status_user_id      0 non-null float64\n",
      "retweeted_status_timestamp    0 non-null object\n",
      "expanded_urls                 2094 non-null object\n",
      "rating_numerator              2097 non-null int64\n",
      "rating_denominator            2097 non-null int64\n",
      "name                          2097 non-null object\n",
      "doggo                         2097 non-null object\n",
      "floofer                       2097 non-null object\n",
      "pupper                        2097 non-null object\n",
      "puppo                         2097 non-null object\n",
      "dtypes: float64(4), int64(3), object(10)\n",
      "memory usage: 294.9+ KB\n"
     ]
    }
   ],
   "source": [
    "df_tae_clean.info()"
   ]
  },
  {
   "cell_type": "code",
   "execution_count": 71,
   "metadata": {},
   "outputs": [
    {
     "name": "stdout",
     "output_type": "stream",
     "text": [
      "# of rows dropped:  78\n"
     ]
    }
   ],
   "source": [
    "# confirm the rows are dropped; compare with original table length\n",
    "print(\"# of rows dropped:  {}\".format(len_df_tae - df_tae_clean.shape[0]))\n",
    "# reset the variable for length of the archive\n",
    "len_df_tae = df_tae_clean.shape[0]"
   ]
  },
  {
   "cell_type": "markdown",
   "metadata": {},
   "source": [
    "**Issue #3:**"
   ]
  },
  {
   "cell_type": "markdown",
   "metadata": {},
   "source": [
    "**Define**"
   ]
  },
  {
   "cell_type": "markdown",
   "metadata": {},
   "source": [
    "Since we don't want retweets, we can drop all columns related to retweets: retweeted_status_id, retweeted_status_user_id, retweeted_status_timestamp"
   ]
  },
  {
   "cell_type": "markdown",
   "metadata": {},
   "source": [
    "**Code**"
   ]
  },
  {
   "cell_type": "code",
   "execution_count": 72,
   "metadata": {},
   "outputs": [],
   "source": [
    "df_tae_clean = df_tae_clean.drop(['retweeted_status_id',\n",
    "                                    'retweeted_status_user_id',\n",
    "                                    'retweeted_status_timestamp'], axis = 1)"
   ]
  },
  {
   "cell_type": "markdown",
   "metadata": {},
   "source": [
    "**Test**"
   ]
  },
  {
   "cell_type": "code",
   "execution_count": 73,
   "metadata": {},
   "outputs": [
    {
     "data": {
      "text/plain": [
       "['tweet_id',\n",
       " 'in_reply_to_status_id',\n",
       " 'in_reply_to_user_id',\n",
       " 'timestamp',\n",
       " 'source',\n",
       " 'text',\n",
       " 'expanded_urls',\n",
       " 'rating_numerator',\n",
       " 'rating_denominator',\n",
       " 'name',\n",
       " 'doggo',\n",
       " 'floofer',\n",
       " 'pupper',\n",
       " 'puppo']"
      ]
     },
     "execution_count": 73,
     "metadata": {},
     "output_type": "execute_result"
    }
   ],
   "source": [
    "list(df_tae_clean)"
   ]
  },
  {
   "cell_type": "markdown",
   "metadata": {},
   "source": [
    "**Issue #4:**"
   ]
  },
  {
   "cell_type": "markdown",
   "metadata": {},
   "source": [
    "**Define**"
   ]
  },
  {
   "cell_type": "markdown",
   "metadata": {},
   "source": [
    "Since we don't want retweets, we can drop all columns related to retweets: in_reply_to_status_id',\n",
    "                                    'in_reply_to_user_id"
   ]
  },
  {
   "cell_type": "markdown",
   "metadata": {},
   "source": [
    "**Code**"
   ]
  },
  {
   "cell_type": "code",
   "execution_count": 74,
   "metadata": {},
   "outputs": [],
   "source": [
    "df_tae_clean = df_tae_clean.drop(['in_reply_to_status_id',\n",
    "                                    'in_reply_to_user_id'], axis = 1)"
   ]
  },
  {
   "cell_type": "markdown",
   "metadata": {},
   "source": [
    "**Test**"
   ]
  },
  {
   "cell_type": "code",
   "execution_count": 75,
   "metadata": {},
   "outputs": [
    {
     "data": {
      "text/plain": [
       "['tweet_id',\n",
       " 'timestamp',\n",
       " 'source',\n",
       " 'text',\n",
       " 'expanded_urls',\n",
       " 'rating_numerator',\n",
       " 'rating_denominator',\n",
       " 'name',\n",
       " 'doggo',\n",
       " 'floofer',\n",
       " 'pupper',\n",
       " 'puppo']"
      ]
     },
     "execution_count": 75,
     "metadata": {},
     "output_type": "execute_result"
    }
   ],
   "source": [
    "list(df_tae_clean)"
   ]
  },
  {
   "cell_type": "markdown",
   "metadata": {},
   "source": [
    "**Issue #5:**"
   ]
  },
  {
   "cell_type": "markdown",
   "metadata": {},
   "source": [
    "**Define**"
   ]
  },
  {
   "cell_type": "markdown",
   "metadata": {},
   "source": [
    "Convert timestamp to datetime data type."
   ]
  },
  {
   "cell_type": "markdown",
   "metadata": {},
   "source": [
    "**Code**"
   ]
  },
  {
   "cell_type": "code",
   "execution_count": 76,
   "metadata": {},
   "outputs": [],
   "source": [
    "df_tae_clean['timestamp'] = pd.to_datetime(df_tae_clean.timestamp)\n",
    "df_tae_clean['timestamp'] = df_tae_clean.timestamp.dt.floor('s')"
   ]
  },
  {
   "cell_type": "markdown",
   "metadata": {},
   "source": [
    "**Test**"
   ]
  },
  {
   "cell_type": "code",
   "execution_count": 77,
   "metadata": {},
   "outputs": [
    {
     "name": "stdout",
     "output_type": "stream",
     "text": [
      "<class 'pandas.core.frame.DataFrame'>\n",
      "Int64Index: 2097 entries, 0 to 2355\n",
      "Data columns (total 12 columns):\n",
      "tweet_id              2097 non-null int64\n",
      "timestamp             2097 non-null datetime64[ns]\n",
      "source                2097 non-null object\n",
      "text                  2097 non-null object\n",
      "expanded_urls         2094 non-null object\n",
      "rating_numerator      2097 non-null int64\n",
      "rating_denominator    2097 non-null int64\n",
      "name                  2097 non-null object\n",
      "doggo                 2097 non-null object\n",
      "floofer               2097 non-null object\n",
      "pupper                2097 non-null object\n",
      "puppo                 2097 non-null object\n",
      "dtypes: datetime64[ns](1), int64(3), object(8)\n",
      "memory usage: 213.0+ KB\n"
     ]
    }
   ],
   "source": [
    "df_tae_clean.info()"
   ]
  },
  {
   "cell_type": "markdown",
   "metadata": {},
   "source": [
    "**Issue #6:**"
   ]
  },
  {
   "cell_type": "markdown",
   "metadata": {},
   "source": [
    "**Define**"
   ]
  },
  {
   "cell_type": "markdown",
   "metadata": {},
   "source": [
    "replace the source string with display portion of itself. extract the string between <a href=\"> and </a>\""
   ]
  },
  {
   "cell_type": "markdown",
   "metadata": {},
   "source": [
    "**Code**"
   ]
  },
  {
   "cell_type": "code",
   "execution_count": 78,
   "metadata": {},
   "outputs": [
    {
     "data": {
      "text/plain": [
       "<a href=\"http://twitter.com/download/iphone\" rel=\"nofollow\">Twitter for iPhone</a>     1964\n",
       "<a href=\"http://vine.co\" rel=\"nofollow\">Vine - Make a Scene</a>                          91\n",
       "<a href=\"http://twitter.com\" rel=\"nofollow\">Twitter Web Client</a>                       31\n",
       "<a href=\"https://about.twitter.com/products/tweetdeck\" rel=\"nofollow\">TweetDeck</a>      11\n",
       "Name: source, dtype: int64"
      ]
     },
     "execution_count": 78,
     "metadata": {},
     "output_type": "execute_result"
    }
   ],
   "source": [
    "df_tae_clean.source.value_counts()"
   ]
  },
  {
   "cell_type": "code",
   "execution_count": 79,
   "metadata": {},
   "outputs": [],
   "source": [
    "df_tae_clean['source'] = df_tae_clean['source'].str.extract('^<a.+>(.+)</a>$')"
   ]
  },
  {
   "cell_type": "markdown",
   "metadata": {},
   "source": [
    "**Test**"
   ]
  },
  {
   "cell_type": "code",
   "execution_count": 80,
   "metadata": {},
   "outputs": [
    {
     "data": {
      "text/plain": [
       "Twitter for iPhone     1964\n",
       "Vine - Make a Scene      91\n",
       "Twitter Web Client       31\n",
       "TweetDeck                11\n",
       "Name: source, dtype: int64"
      ]
     },
     "execution_count": 80,
     "metadata": {},
     "output_type": "execute_result"
    }
   ],
   "source": [
    "df_tae_clean.source.value_counts()"
   ]
  },
  {
   "cell_type": "markdown",
   "metadata": {},
   "source": [
    "**Issue #7:**"
   ]
  },
  {
   "cell_type": "markdown",
   "metadata": {},
   "source": [
    "**Define**"
   ]
  },
  {
   "cell_type": "markdown",
   "metadata": {},
   "source": [
    "Drop the remaining tweets with rating_denominator values that are NOT equal to 10."
   ]
  },
  {
   "cell_type": "markdown",
   "metadata": {},
   "source": [
    "**Code**"
   ]
  },
  {
   "cell_type": "code",
   "execution_count": 81,
   "metadata": {},
   "outputs": [
    {
     "data": {
      "text/plain": [
       "170       1\n",
       "150       1\n",
       "120       1\n",
       "110       1\n",
       "90        1\n",
       "80        2\n",
       "70        1\n",
       "50        3\n",
       "40        1\n",
       "20        1\n",
       "11        2\n",
       "10     2080\n",
       "7         1\n",
       "2         1\n",
       "Name: rating_denominator, dtype: int64"
      ]
     },
     "execution_count": 81,
     "metadata": {},
     "output_type": "execute_result"
    }
   ],
   "source": [
    "# display denominators\n",
    "df_tae_clean.rating_denominator.value_counts().sort_index(ascending = False)"
   ]
  },
  {
   "cell_type": "code",
   "execution_count": 82,
   "metadata": {},
   "outputs": [],
   "source": [
    "df_tae_clean = df_tae_clean[df_tae_clean.rating_denominator == 10]"
   ]
  },
  {
   "cell_type": "markdown",
   "metadata": {},
   "source": [
    "**Test**"
   ]
  },
  {
   "cell_type": "code",
   "execution_count": 83,
   "metadata": {},
   "outputs": [
    {
     "data": {
      "text/plain": [
       "10    2080\n",
       "Name: rating_denominator, dtype: int64"
      ]
     },
     "execution_count": 83,
     "metadata": {},
     "output_type": "execute_result"
    }
   ],
   "source": [
    "# display denominators, should only contain 10\n",
    "df_tae_clean.rating_denominator.value_counts().sort_index(ascending = False)"
   ]
  },
  {
   "cell_type": "markdown",
   "metadata": {},
   "source": [
    "**Issue #8:**"
   ]
  },
  {
   "cell_type": "markdown",
   "metadata": {},
   "source": [
    "**Define**"
   ]
  },
  {
   "cell_type": "markdown",
   "metadata": {},
   "source": [
    "Drop tweets that have rating_numerator >= 15."
   ]
  },
  {
   "cell_type": "markdown",
   "metadata": {},
   "source": [
    "**Code**"
   ]
  },
  {
   "cell_type": "code",
   "execution_count": 84,
   "metadata": {},
   "outputs": [
    {
     "data": {
      "text/plain": [
       "1776    1\n",
       "420     1\n",
       "75      1\n",
       "27      1\n",
       "26      1\n",
       "Name: rating_numerator, dtype: int64"
      ]
     },
     "execution_count": 84,
     "metadata": {},
     "output_type": "execute_result"
    }
   ],
   "source": [
    "# display numerators greater than 15\n",
    "more = df_tae_clean.rating_numerator >= 15\n",
    "df_tae_clean[more].rating_numerator.value_counts().sort_index(ascending = False)"
   ]
  },
  {
   "cell_type": "code",
   "execution_count": 85,
   "metadata": {},
   "outputs": [],
   "source": [
    "df_tae_clean = df_tae_clean[df_tae_clean.rating_numerator < 15]"
   ]
  },
  {
   "cell_type": "markdown",
   "metadata": {},
   "source": [
    "**Test**"
   ]
  },
  {
   "cell_type": "code",
   "execution_count": 86,
   "metadata": {
    "scrolled": true
   },
   "outputs": [
    {
     "data": {
      "text/plain": [
       "14     38\n",
       "13    287\n",
       "12    486\n",
       "11    413\n",
       "10    436\n",
       "9     152\n",
       "8      98\n",
       "7      51\n",
       "6      32\n",
       "5      34\n",
       "4      15\n",
       "3      19\n",
       "2       9\n",
       "1       4\n",
       "0       1\n",
       "Name: rating_numerator, dtype: int64"
      ]
     },
     "execution_count": 86,
     "metadata": {},
     "output_type": "execute_result"
    }
   ],
   "source": [
    "# display ALL numerators\n",
    "df_tae_clean.rating_numerator.value_counts().sort_index(ascending = False)"
   ]
  },
  {
   "cell_type": "markdown",
   "metadata": {},
   "source": [
    "**Issue #9**"
   ]
  },
  {
   "cell_type": "markdown",
   "metadata": {},
   "source": [
    "**Define**"
   ]
  },
  {
   "cell_type": "markdown",
   "metadata": {},
   "source": [
    "Drop tweets with missing data in the expanded_urls"
   ]
  },
  {
   "cell_type": "markdown",
   "metadata": {},
   "source": [
    "**Code**"
   ]
  },
  {
   "cell_type": "code",
   "execution_count": 87,
   "metadata": {},
   "outputs": [
    {
     "name": "stdout",
     "output_type": "stream",
     "text": [
      "<class 'pandas.core.frame.DataFrame'>\n",
      "Int64Index: 2075 entries, 0 to 2355\n",
      "Data columns (total 12 columns):\n",
      "tweet_id              2075 non-null int64\n",
      "timestamp             2075 non-null datetime64[ns]\n",
      "source                2075 non-null object\n",
      "text                  2075 non-null object\n",
      "expanded_urls         2072 non-null object\n",
      "rating_numerator      2075 non-null int64\n",
      "rating_denominator    2075 non-null int64\n",
      "name                  2075 non-null object\n",
      "doggo                 2075 non-null object\n",
      "floofer               2075 non-null object\n",
      "pupper                2075 non-null object\n",
      "puppo                 2075 non-null object\n",
      "dtypes: datetime64[ns](1), int64(3), object(8)\n",
      "memory usage: 210.7+ KB\n"
     ]
    }
   ],
   "source": [
    "df_tae_clean.info()"
   ]
  },
  {
   "cell_type": "code",
   "execution_count": 88,
   "metadata": {},
   "outputs": [],
   "source": [
    "df_tae_clean = df_tae_clean[df_tae_clean.expanded_urls.notnull()]"
   ]
  },
  {
   "cell_type": "markdown",
   "metadata": {},
   "source": [
    "**Test**"
   ]
  },
  {
   "cell_type": "code",
   "execution_count": 89,
   "metadata": {},
   "outputs": [
    {
     "name": "stdout",
     "output_type": "stream",
     "text": [
      "<class 'pandas.core.frame.DataFrame'>\n",
      "Int64Index: 2072 entries, 0 to 2355\n",
      "Data columns (total 12 columns):\n",
      "tweet_id              2072 non-null int64\n",
      "timestamp             2072 non-null datetime64[ns]\n",
      "source                2072 non-null object\n",
      "text                  2072 non-null object\n",
      "expanded_urls         2072 non-null object\n",
      "rating_numerator      2072 non-null int64\n",
      "rating_denominator    2072 non-null int64\n",
      "name                  2072 non-null object\n",
      "doggo                 2072 non-null object\n",
      "floofer               2072 non-null object\n",
      "pupper                2072 non-null object\n",
      "puppo                 2072 non-null object\n",
      "dtypes: datetime64[ns](1), int64(3), object(8)\n",
      "memory usage: 210.4+ KB\n"
     ]
    }
   ],
   "source": [
    "df_tae_clean.info()"
   ]
  },
  {
   "cell_type": "markdown",
   "metadata": {},
   "source": [
    "**Issue #9**"
   ]
  },
  {
   "cell_type": "markdown",
   "metadata": {},
   "source": [
    "**Define**"
   ]
  },
  {
   "cell_type": "markdown",
   "metadata": {},
   "source": [
    "Melt the 4 columns with the dog stages:"
   ]
  },
  {
   "cell_type": "markdown",
   "metadata": {},
   "source": [
    "**Code**"
   ]
  },
  {
   "cell_type": "code",
   "execution_count": 90,
   "metadata": {},
   "outputs": [
    {
     "data": {
      "text/html": [
       "<div>\n",
       "<style scoped>\n",
       "    .dataframe tbody tr th:only-of-type {\n",
       "        vertical-align: middle;\n",
       "    }\n",
       "\n",
       "    .dataframe tbody tr th {\n",
       "        vertical-align: top;\n",
       "    }\n",
       "\n",
       "    .dataframe thead th {\n",
       "        text-align: right;\n",
       "    }\n",
       "</style>\n",
       "<table border=\"1\" class=\"dataframe\">\n",
       "  <thead>\n",
       "    <tr style=\"text-align: right;\">\n",
       "      <th></th>\n",
       "      <th>doggo</th>\n",
       "      <th>floofer</th>\n",
       "      <th>pupper</th>\n",
       "      <th>puppo</th>\n",
       "    </tr>\n",
       "  </thead>\n",
       "  <tbody>\n",
       "    <tr>\n",
       "      <th>count</th>\n",
       "      <td>2072</td>\n",
       "      <td>2072</td>\n",
       "      <td>2072</td>\n",
       "      <td>2072</td>\n",
       "    </tr>\n",
       "    <tr>\n",
       "      <th>unique</th>\n",
       "      <td>2</td>\n",
       "      <td>2</td>\n",
       "      <td>2</td>\n",
       "      <td>2</td>\n",
       "    </tr>\n",
       "    <tr>\n",
       "      <th>top</th>\n",
       "      <td>None</td>\n",
       "      <td>None</td>\n",
       "      <td>None</td>\n",
       "      <td>None</td>\n",
       "    </tr>\n",
       "    <tr>\n",
       "      <th>freq</th>\n",
       "      <td>1989</td>\n",
       "      <td>2062</td>\n",
       "      <td>1844</td>\n",
       "      <td>2048</td>\n",
       "    </tr>\n",
       "  </tbody>\n",
       "</table>\n",
       "</div>"
      ],
      "text/plain": [
       "       doggo floofer pupper puppo\n",
       "count   2072    2072   2072  2072\n",
       "unique     2       2      2     2\n",
       "top     None    None   None  None\n",
       "freq    1989    2062   1844  2048"
      ]
     },
     "execution_count": 90,
     "metadata": {},
     "output_type": "execute_result"
    }
   ],
   "source": [
    "df_tae_clean[['doggo', 'floofer', 'pupper', 'puppo']].describe()"
   ]
  },
  {
   "cell_type": "code",
   "execution_count": 91,
   "metadata": {},
   "outputs": [],
   "source": [
    "# replace the stage name with 1, and 'None' with 0, like a dummy variable\n",
    "make_dummy = lambda x: 0 if x == 'None' else 1\n",
    "\n",
    "df_tae_clean.doggo = df_tae_clean.doggo.apply(make_dummy)\n",
    "df_tae_clean.floofer = df_tae_clean.floofer.apply(make_dummy)\n",
    "df_tae_clean.pupper = df_tae_clean.pupper.apply(make_dummy)\n",
    "df_tae_clean.puppo = df_tae_clean.puppo.apply(make_dummy)\n",
    "\n",
    "# by adding the stage columns, we can see how many are 'none' and how many stages are set\n",
    "df_tae_clean['none'] = df_tae_clean['doggo'] + df_tae_clean['floofer'] + \\\n",
    "                        df_tae_clean['pupper'] + df_tae_clean['puppo']\n"
   ]
  },
  {
   "cell_type": "code",
   "execution_count": 92,
   "metadata": {},
   "outputs": [
    {
     "data": {
      "text/plain": [
       "0    1738\n",
       "1     323\n",
       "2      11\n",
       "Name: none, dtype: int64"
      ]
     },
     "execution_count": 92,
     "metadata": {},
     "output_type": "execute_result"
    }
   ],
   "source": [
    "# have a look at what we have before we continue...\n",
    "df_tae_clean['none'].value_counts()"
   ]
  },
  {
   "cell_type": "code",
   "execution_count": 93,
   "metadata": {},
   "outputs": [],
   "source": [
    "# if there are NO stages specified then set 'None' to 1\n",
    "stage_none = lambda x: 1 if x == 0 else 0\n",
    "\n",
    "# reset values in 'none' \n",
    "df_tae_clean['none'] = df_tae_clean['none'].apply(stage_none)\n",
    "\n",
    "# Order the stages in increasing count order: floofer, puppo, doggo and pupper\n",
    "# set the choice order for dog stage based on count order\n",
    "stage = ['floofer', 'puppo', 'doggo', 'pupper', 'none']\n",
    "\n",
    "# set the conditions for selecting the dog stage based on count order\n",
    "conditions = [\n",
    "    (df_tae_clean[stage[0]] == 1),\n",
    "    (df_tae_clean[stage[1]] == 1),\n",
    "    (df_tae_clean[stage[2]] == 1),\n",
    "    (df_tae_clean[stage[3]] == 1),\n",
    "    (df_tae_clean[stage[4]] == 1)]\n",
    "\n",
    "# select the dog stage based on the first successful condition; stage[4] is 'None'\n",
    "df_tae_clean['stage'] = np.select(conditions, stage, default = stage[4])\n",
    "\n",
    "# now we can drop the original 4 dog stage columns, AND the temporary 'None'\n",
    "df_tae_clean.drop(stage, axis = 1, inplace = True)\n",
    "\n",
    "# set the 'stage' column data type to category\n",
    "df_tae_clean['stage'] = df_tae_clean.stage.astype('category')\n",
    "\n",
    "# Source for algorithm:    https://code.i-harness.com/en/q/19c9fbc"
   ]
  },
  {
   "cell_type": "markdown",
   "metadata": {},
   "source": [
    "**Test**"
   ]
  },
  {
   "cell_type": "code",
   "execution_count": 94,
   "metadata": {},
   "outputs": [
    {
     "name": "stdout",
     "output_type": "stream",
     "text": [
      "<class 'pandas.core.frame.DataFrame'>\n",
      "Int64Index: 2072 entries, 0 to 2355\n",
      "Data columns (total 9 columns):\n",
      "tweet_id              2072 non-null int64\n",
      "timestamp             2072 non-null datetime64[ns]\n",
      "source                2072 non-null object\n",
      "text                  2072 non-null object\n",
      "expanded_urls         2072 non-null object\n",
      "rating_numerator      2072 non-null int64\n",
      "rating_denominator    2072 non-null int64\n",
      "name                  2072 non-null object\n",
      "stage                 2072 non-null category\n",
      "dtypes: category(1), datetime64[ns](1), int64(3), object(4)\n",
      "memory usage: 147.9+ KB\n"
     ]
    }
   ],
   "source": [
    "df_tae_clean.info()"
   ]
  },
  {
   "cell_type": "code",
   "execution_count": 95,
   "metadata": {},
   "outputs": [
    {
     "data": {
      "text/plain": [
       "none       1738\n",
       "pupper      219\n",
       "doggo        81\n",
       "puppo        24\n",
       "floofer      10\n",
       "Name: stage, dtype: int64"
      ]
     },
     "execution_count": 95,
     "metadata": {},
     "output_type": "execute_result"
    }
   ],
   "source": [
    "df_tae_clean.stage.value_counts()"
   ]
  },
  {
   "cell_type": "markdown",
   "metadata": {},
   "source": [
    "**Issue #10**"
   ]
  },
  {
   "cell_type": "markdown",
   "metadata": {},
   "source": [
    "**Define**"
   ]
  },
  {
   "cell_type": "markdown",
   "metadata": {},
   "source": [
    "Merge the retweet_count and favorite_count columns \n",
    "to the archive table, joining on tweet_id"
   ]
  },
  {
   "cell_type": "markdown",
   "metadata": {},
   "source": [
    "**Code**"
   ]
  },
  {
   "cell_type": "code",
   "execution_count": 96,
   "metadata": {},
   "outputs": [
    {
     "name": "stdout",
     "output_type": "stream",
     "text": [
      "<class 'pandas.core.frame.DataFrame'>\n",
      "RangeIndex: 2327 entries, 0 to 2326\n",
      "Data columns (total 3 columns):\n",
      "tweet_id          2327 non-null int64\n",
      "retweet_count     2327 non-null int64\n",
      "favorite_count    2327 non-null int64\n",
      "dtypes: int64(3)\n",
      "memory usage: 54.6 KB\n"
     ]
    }
   ],
   "source": [
    "df_tweet_clean.info()"
   ]
  },
  {
   "cell_type": "code",
   "execution_count": 97,
   "metadata": {},
   "outputs": [],
   "source": [
    "df_tae_clean = pd.merge(df_tae_clean, df_tweet_clean, \n",
    "                         on = 'tweet_id', how = 'left')"
   ]
  },
  {
   "cell_type": "code",
   "execution_count": null,
   "metadata": {},
   "outputs": [],
   "source": []
  },
  {
   "cell_type": "markdown",
   "metadata": {},
   "source": [
    "**Test**"
   ]
  },
  {
   "cell_type": "code",
   "execution_count": 98,
   "metadata": {},
   "outputs": [
    {
     "name": "stdout",
     "output_type": "stream",
     "text": [
      "<class 'pandas.core.frame.DataFrame'>\n",
      "Int64Index: 2072 entries, 0 to 2071\n",
      "Data columns (total 11 columns):\n",
      "tweet_id              2072 non-null int64\n",
      "timestamp             2072 non-null datetime64[ns]\n",
      "source                2072 non-null object\n",
      "text                  2072 non-null object\n",
      "expanded_urls         2072 non-null object\n",
      "rating_numerator      2072 non-null int64\n",
      "rating_denominator    2072 non-null int64\n",
      "name                  2072 non-null object\n",
      "stage                 2072 non-null category\n",
      "retweet_count         2064 non-null float64\n",
      "favorite_count        2064 non-null float64\n",
      "dtypes: category(1), datetime64[ns](1), float64(2), int64(3), object(4)\n",
      "memory usage: 180.3+ KB\n"
     ]
    }
   ],
   "source": [
    "df_tae_clean.info()"
   ]
  },
  {
   "cell_type": "markdown",
   "metadata": {},
   "source": [
    "**Issue #11**"
   ]
  },
  {
   "cell_type": "markdown",
   "metadata": {},
   "source": [
    "**Define**"
   ]
  },
  {
   "cell_type": "markdown",
   "metadata": {},
   "source": [
    "Drop tweets with missing json_data.\n",
    "Change the data type for the retweet_count and favorite_count to be int."
   ]
  },
  {
   "cell_type": "markdown",
   "metadata": {},
   "source": [
    "**Code**"
   ]
  },
  {
   "cell_type": "code",
   "execution_count": 99,
   "metadata": {},
   "outputs": [
    {
     "data": {
      "text/html": [
       "<div>\n",
       "<style scoped>\n",
       "    .dataframe tbody tr th:only-of-type {\n",
       "        vertical-align: middle;\n",
       "    }\n",
       "\n",
       "    .dataframe tbody tr th {\n",
       "        vertical-align: top;\n",
       "    }\n",
       "\n",
       "    .dataframe thead th {\n",
       "        text-align: right;\n",
       "    }\n",
       "</style>\n",
       "<table border=\"1\" class=\"dataframe\">\n",
       "  <thead>\n",
       "    <tr style=\"text-align: right;\">\n",
       "      <th></th>\n",
       "      <th>tweet_id</th>\n",
       "      <th>retweet_count</th>\n",
       "      <th>favorite_count</th>\n",
       "    </tr>\n",
       "  </thead>\n",
       "  <tbody>\n",
       "    <tr>\n",
       "      <th>90</th>\n",
       "      <td>872261713294495745</td>\n",
       "      <td>NaN</td>\n",
       "      <td>NaN</td>\n",
       "    </tr>\n",
       "    <tr>\n",
       "      <th>202</th>\n",
       "      <td>844704788403113984</td>\n",
       "      <td>NaN</td>\n",
       "      <td>NaN</td>\n",
       "    </tr>\n",
       "    <tr>\n",
       "      <th>234</th>\n",
       "      <td>837366284874571778</td>\n",
       "      <td>NaN</td>\n",
       "      <td>NaN</td>\n",
       "    </tr>\n",
       "    <tr>\n",
       "      <th>284</th>\n",
       "      <td>829374341691346946</td>\n",
       "      <td>NaN</td>\n",
       "      <td>NaN</td>\n",
       "    </tr>\n",
       "    <tr>\n",
       "      <th>570</th>\n",
       "      <td>779123168116150273</td>\n",
       "      <td>NaN</td>\n",
       "      <td>NaN</td>\n",
       "    </tr>\n",
       "    <tr>\n",
       "      <th>681</th>\n",
       "      <td>759923798737051648</td>\n",
       "      <td>NaN</td>\n",
       "      <td>NaN</td>\n",
       "    </tr>\n",
       "    <tr>\n",
       "      <th>720</th>\n",
       "      <td>754011816964026368</td>\n",
       "      <td>NaN</td>\n",
       "      <td>NaN</td>\n",
       "    </tr>\n",
       "    <tr>\n",
       "      <th>1467</th>\n",
       "      <td>680055455951884288</td>\n",
       "      <td>NaN</td>\n",
       "      <td>NaN</td>\n",
       "    </tr>\n",
       "  </tbody>\n",
       "</table>\n",
       "</div>"
      ],
      "text/plain": [
       "                tweet_id  retweet_count  favorite_count\n",
       "90    872261713294495745            NaN             NaN\n",
       "202   844704788403113984            NaN             NaN\n",
       "234   837366284874571778            NaN             NaN\n",
       "284   829374341691346946            NaN             NaN\n",
       "570   779123168116150273            NaN             NaN\n",
       "681   759923798737051648            NaN             NaN\n",
       "720   754011816964026368            NaN             NaN\n",
       "1467  680055455951884288            NaN             NaN"
      ]
     },
     "execution_count": 99,
     "metadata": {},
     "output_type": "execute_result"
    }
   ],
   "source": [
    "mask_cols = ['tweet_id', 'retweet_count', 'favorite_count']\n",
    "df_tae_clean[df_tae_clean.retweet_count.isna() | df_tae_clean.favorite_count.isna()][mask_cols]"
   ]
  },
  {
   "cell_type": "code",
   "execution_count": 100,
   "metadata": {},
   "outputs": [],
   "source": [
    "df_tae_clean = df_tae_clean[~(df_tae_clean.retweet_count.isna() | df_tae_clean.favorite_count.isna())]\n",
    "\n",
    "# recast the count columns to int type\n",
    "df_tae_clean.retweet_count = df_tae_clean.retweet_count.astype(int)\n",
    "df_tae_clean.favorite_count = df_tae_clean.favorite_count.astype(int)"
   ]
  },
  {
   "cell_type": "markdown",
   "metadata": {},
   "source": [
    "**Test**"
   ]
  },
  {
   "cell_type": "code",
   "execution_count": 101,
   "metadata": {},
   "outputs": [
    {
     "name": "stdout",
     "output_type": "stream",
     "text": [
      "<class 'pandas.core.frame.DataFrame'>\n",
      "Int64Index: 2064 entries, 0 to 2071\n",
      "Data columns (total 11 columns):\n",
      "tweet_id              2064 non-null int64\n",
      "timestamp             2064 non-null datetime64[ns]\n",
      "source                2064 non-null object\n",
      "text                  2064 non-null object\n",
      "expanded_urls         2064 non-null object\n",
      "rating_numerator      2064 non-null int64\n",
      "rating_denominator    2064 non-null int64\n",
      "name                  2064 non-null object\n",
      "stage                 2064 non-null category\n",
      "retweet_count         2064 non-null int64\n",
      "favorite_count        2064 non-null int64\n",
      "dtypes: category(1), datetime64[ns](1), int64(5), object(4)\n",
      "memory usage: 179.6+ KB\n"
     ]
    }
   ],
   "source": [
    "df_tae_clean.info()"
   ]
  },
  {
   "cell_type": "markdown",
   "metadata": {},
   "source": [
    "**Issue #12**"
   ]
  },
  {
   "cell_type": "markdown",
   "metadata": {},
   "source": [
    "**Define**"
   ]
  },
  {
   "cell_type": "markdown",
   "metadata": {},
   "source": [
    "Replace all lowercase words in the name column with the string \"none\""
   ]
  },
  {
   "cell_type": "markdown",
   "metadata": {},
   "source": [
    "**Code**"
   ]
  },
  {
   "cell_type": "code",
   "execution_count": 102,
   "metadata": {},
   "outputs": [
    {
     "data": {
      "text/plain": [
       "a               54\n",
       "actually         2\n",
       "all              1\n",
       "an               5\n",
       "by               1\n",
       "getting          2\n",
       "his              1\n",
       "incredibly       1\n",
       "infuriating      1\n",
       "just             3\n",
       "life             1\n",
       "light            1\n",
       "mad              1\n",
       "my               1\n",
       "not              2\n",
       "officially       1\n",
       "old              1\n",
       "one              4\n",
       "quite            3\n",
       "space            1\n",
       "such             1\n",
       "the              8\n",
       "unacceptable     1\n",
       "very             4\n",
       "Name: name, dtype: int64"
      ]
     },
     "execution_count": 102,
     "metadata": {},
     "output_type": "execute_result"
    }
   ],
   "source": [
    "names_mask = df_tae_clean.name.str.contains('^[a-z]', regex = True)\n",
    "df_tae_clean[names_mask].name.value_counts().sort_index()"
   ]
  },
  {
   "cell_type": "code",
   "execution_count": 103,
   "metadata": {},
   "outputs": [],
   "source": [
    "df_tae_clean.loc[names_mask, 'name'] = \"none\""
   ]
  },
  {
   "cell_type": "markdown",
   "metadata": {},
   "source": [
    "**Test**"
   ]
  },
  {
   "cell_type": "code",
   "execution_count": 104,
   "metadata": {},
   "outputs": [
    {
     "data": {
      "text/plain": [
       "none    101\n",
       "Name: name, dtype: int64"
      ]
     },
     "execution_count": 104,
     "metadata": {},
     "output_type": "execute_result"
    }
   ],
   "source": [
    "# All these entries were changed to \"none\"\n",
    "df_tae_clean[names_mask].name.value_counts().sort_index()"
   ]
  },
  {
   "cell_type": "markdown",
   "metadata": {},
   "source": [
    "**Issue #13**"
   ]
  },
  {
   "cell_type": "markdown",
   "metadata": {},
   "source": [
    "**Define**"
   ]
  },
  {
   "cell_type": "markdown",
   "metadata": {},
   "source": [
    "This is a 2-step process, first creating the columns in the predictions table, then merging to archive."
   ]
  },
  {
   "cell_type": "markdown",
   "metadata": {},
   "source": [
    "**Code**"
   ]
  },
  {
   "cell_type": "code",
   "execution_count": 105,
   "metadata": {},
   "outputs": [],
   "source": [
    "# Source:    https://code.i-harness.com/en/q/19c9fbc\n",
    "\n",
    "# setup the conditions for selection\n",
    "conditions = [(df_prediction_clean['p1_dog'] == True),\n",
    "              (df_prediction_clean['p2_dog'] == True),\n",
    "              (df_prediction_clean['p3_dog'] == True)]\n",
    "\n",
    "# set the choice order based on the selection conditions for predicted breed\n",
    "choices_breed = [df_prediction_clean['p1'], \n",
    "                 df_prediction_clean['p2'],\n",
    "                 df_prediction_clean['p3']]\n",
    "\n",
    "# set the choice order for confidence level based on the selection conditions\n",
    "choices_confidence = [df_prediction_clean['p1_conf'], \n",
    "                      df_prediction_clean['p2_conf'], \n",
    "                      df_prediction_clean['p3_conf']]\n",
    "\n",
    "# select the predicted breed based on the first successful condition\n",
    "df_prediction_clean['breed'] = np.select(conditions, choices_breed, \n",
    "                                       default = 'none')\n",
    "\n",
    "# select the predicted confidence level based on the first successful condition\n",
    "df_prediction_clean['confidence'] = np.select(conditions, choices_confidence, \n",
    "                                            default = 0)"
   ]
  },
  {
   "cell_type": "markdown",
   "metadata": {},
   "source": [
    "**Test**"
   ]
  },
  {
   "cell_type": "code",
   "execution_count": 106,
   "metadata": {},
   "outputs": [
    {
     "data": {
      "text/html": [
       "<div>\n",
       "<style scoped>\n",
       "    .dataframe tbody tr th:only-of-type {\n",
       "        vertical-align: middle;\n",
       "    }\n",
       "\n",
       "    .dataframe tbody tr th {\n",
       "        vertical-align: top;\n",
       "    }\n",
       "\n",
       "    .dataframe thead th {\n",
       "        text-align: right;\n",
       "    }\n",
       "</style>\n",
       "<table border=\"1\" class=\"dataframe\">\n",
       "  <thead>\n",
       "    <tr style=\"text-align: right;\">\n",
       "      <th></th>\n",
       "      <th>tweet_id</th>\n",
       "      <th>jpg_url</th>\n",
       "      <th>img_num</th>\n",
       "      <th>p1</th>\n",
       "      <th>p1_conf</th>\n",
       "      <th>p1_dog</th>\n",
       "      <th>p2</th>\n",
       "      <th>p2_conf</th>\n",
       "      <th>p2_dog</th>\n",
       "      <th>p3</th>\n",
       "      <th>p3_conf</th>\n",
       "      <th>p3_dog</th>\n",
       "    </tr>\n",
       "  </thead>\n",
       "  <tbody>\n",
       "    <tr>\n",
       "      <th>0</th>\n",
       "      <td>666020888022790149</td>\n",
       "      <td>https://pbs.twimg.com/media/CT4udn0WwAA0aMy.jpg</td>\n",
       "      <td>1</td>\n",
       "      <td>Welsh_springer_spaniel</td>\n",
       "      <td>0.465074</td>\n",
       "      <td>True</td>\n",
       "      <td>collie</td>\n",
       "      <td>0.156665</td>\n",
       "      <td>True</td>\n",
       "      <td>Shetland_sheepdog</td>\n",
       "      <td>0.061428</td>\n",
       "      <td>True</td>\n",
       "    </tr>\n",
       "    <tr>\n",
       "      <th>1</th>\n",
       "      <td>666029285002620928</td>\n",
       "      <td>https://pbs.twimg.com/media/CT42GRgUYAA5iDo.jpg</td>\n",
       "      <td>1</td>\n",
       "      <td>redbone</td>\n",
       "      <td>0.506826</td>\n",
       "      <td>True</td>\n",
       "      <td>miniature_pinscher</td>\n",
       "      <td>0.074192</td>\n",
       "      <td>True</td>\n",
       "      <td>Rhodesian_ridgeback</td>\n",
       "      <td>0.072010</td>\n",
       "      <td>True</td>\n",
       "    </tr>\n",
       "    <tr>\n",
       "      <th>2</th>\n",
       "      <td>666033412701032449</td>\n",
       "      <td>https://pbs.twimg.com/media/CT4521TWwAEvMyu.jpg</td>\n",
       "      <td>1</td>\n",
       "      <td>German_shepherd</td>\n",
       "      <td>0.596461</td>\n",
       "      <td>True</td>\n",
       "      <td>malinois</td>\n",
       "      <td>0.138584</td>\n",
       "      <td>True</td>\n",
       "      <td>bloodhound</td>\n",
       "      <td>0.116197</td>\n",
       "      <td>True</td>\n",
       "    </tr>\n",
       "    <tr>\n",
       "      <th>3</th>\n",
       "      <td>666044226329800704</td>\n",
       "      <td>https://pbs.twimg.com/media/CT5Dr8HUEAA-lEu.jpg</td>\n",
       "      <td>1</td>\n",
       "      <td>Rhodesian_ridgeback</td>\n",
       "      <td>0.408143</td>\n",
       "      <td>True</td>\n",
       "      <td>redbone</td>\n",
       "      <td>0.360687</td>\n",
       "      <td>True</td>\n",
       "      <td>miniature_pinscher</td>\n",
       "      <td>0.222752</td>\n",
       "      <td>True</td>\n",
       "    </tr>\n",
       "    <tr>\n",
       "      <th>4</th>\n",
       "      <td>666049248165822465</td>\n",
       "      <td>https://pbs.twimg.com/media/CT5IQmsXIAAKY4A.jpg</td>\n",
       "      <td>1</td>\n",
       "      <td>miniature_pinscher</td>\n",
       "      <td>0.560311</td>\n",
       "      <td>True</td>\n",
       "      <td>Rottweiler</td>\n",
       "      <td>0.243682</td>\n",
       "      <td>True</td>\n",
       "      <td>Doberman</td>\n",
       "      <td>0.154629</td>\n",
       "      <td>True</td>\n",
       "    </tr>\n",
       "  </tbody>\n",
       "</table>\n",
       "</div>"
      ],
      "text/plain": [
       "             tweet_id                                          jpg_url  \\\n",
       "0  666020888022790149  https://pbs.twimg.com/media/CT4udn0WwAA0aMy.jpg   \n",
       "1  666029285002620928  https://pbs.twimg.com/media/CT42GRgUYAA5iDo.jpg   \n",
       "2  666033412701032449  https://pbs.twimg.com/media/CT4521TWwAEvMyu.jpg   \n",
       "3  666044226329800704  https://pbs.twimg.com/media/CT5Dr8HUEAA-lEu.jpg   \n",
       "4  666049248165822465  https://pbs.twimg.com/media/CT5IQmsXIAAKY4A.jpg   \n",
       "\n",
       "   img_num                      p1   p1_conf  p1_dog                  p2  \\\n",
       "0        1  Welsh_springer_spaniel  0.465074    True              collie   \n",
       "1        1                 redbone  0.506826    True  miniature_pinscher   \n",
       "2        1         German_shepherd  0.596461    True            malinois   \n",
       "3        1     Rhodesian_ridgeback  0.408143    True             redbone   \n",
       "4        1      miniature_pinscher  0.560311    True          Rottweiler   \n",
       "\n",
       "    p2_conf  p2_dog                   p3   p3_conf  p3_dog  \n",
       "0  0.156665    True    Shetland_sheepdog  0.061428    True  \n",
       "1  0.074192    True  Rhodesian_ridgeback  0.072010    True  \n",
       "2  0.138584    True           bloodhound  0.116197    True  \n",
       "3  0.360687    True   miniature_pinscher  0.222752    True  \n",
       "4  0.243682    True             Doberman  0.154629    True  "
      ]
     },
     "execution_count": 106,
     "metadata": {},
     "output_type": "execute_result"
    }
   ],
   "source": [
    "df_prediction.head()"
   ]
  },
  {
   "cell_type": "markdown",
   "metadata": {},
   "source": [
    "**Code**"
   ]
  },
  {
   "cell_type": "code",
   "execution_count": 107,
   "metadata": {},
   "outputs": [],
   "source": [
    "# merge the breed and confidence columns to archive\n",
    "mask_cols = ['tweet_id', 'breed', 'confidence']\n",
    "df_tae_clean = pd.merge(df_tae_clean, df_prediction_clean[mask_cols],\n",
    "                         on = 'tweet_id', how = 'inner')\n",
    "\n",
    "# change data type for the confidence interval to a rounded, whole integer (%)\n",
    "df_tae_clean.confidence = (df_tae_clean.confidence * 100).astype(int)\n",
    "\n",
    "# after the two columns are merged, we can drop them from the 'predictions' table\n",
    "df_prediction_clean.drop(['breed', 'confidence'], axis = 1, inplace = True)"
   ]
  },
  {
   "cell_type": "markdown",
   "metadata": {},
   "source": [
    "**Test**"
   ]
  },
  {
   "cell_type": "code",
   "execution_count": 108,
   "metadata": {},
   "outputs": [
    {
     "data": {
      "text/html": [
       "<div>\n",
       "<style scoped>\n",
       "    .dataframe tbody tr th:only-of-type {\n",
       "        vertical-align: middle;\n",
       "    }\n",
       "\n",
       "    .dataframe tbody tr th {\n",
       "        vertical-align: top;\n",
       "    }\n",
       "\n",
       "    .dataframe thead th {\n",
       "        text-align: right;\n",
       "    }\n",
       "</style>\n",
       "<table border=\"1\" class=\"dataframe\">\n",
       "  <thead>\n",
       "    <tr style=\"text-align: right;\">\n",
       "      <th></th>\n",
       "      <th>tweet_id</th>\n",
       "      <th>timestamp</th>\n",
       "      <th>source</th>\n",
       "      <th>text</th>\n",
       "      <th>expanded_urls</th>\n",
       "      <th>rating_numerator</th>\n",
       "      <th>rating_denominator</th>\n",
       "      <th>name</th>\n",
       "      <th>stage</th>\n",
       "      <th>retweet_count</th>\n",
       "      <th>favorite_count</th>\n",
       "      <th>breed</th>\n",
       "      <th>confidence</th>\n",
       "    </tr>\n",
       "  </thead>\n",
       "  <tbody>\n",
       "    <tr>\n",
       "      <th>0</th>\n",
       "      <td>892420643555336193</td>\n",
       "      <td>2017-08-01 16:23:56</td>\n",
       "      <td>Twitter for iPhone</td>\n",
       "      <td>This is Phineas. He's a mystical boy. Only eve...</td>\n",
       "      <td>https://twitter.com/dog_rates/status/892420643...</td>\n",
       "      <td>13</td>\n",
       "      <td>10</td>\n",
       "      <td>Phineas</td>\n",
       "      <td>none</td>\n",
       "      <td>7009</td>\n",
       "      <td>33801</td>\n",
       "      <td>none</td>\n",
       "      <td>0</td>\n",
       "    </tr>\n",
       "    <tr>\n",
       "      <th>1</th>\n",
       "      <td>892177421306343426</td>\n",
       "      <td>2017-08-01 00:17:27</td>\n",
       "      <td>Twitter for iPhone</td>\n",
       "      <td>This is Tilly. She's just checking pup on you....</td>\n",
       "      <td>https://twitter.com/dog_rates/status/892177421...</td>\n",
       "      <td>13</td>\n",
       "      <td>10</td>\n",
       "      <td>Tilly</td>\n",
       "      <td>none</td>\n",
       "      <td>5301</td>\n",
       "      <td>29336</td>\n",
       "      <td>Chihuahua</td>\n",
       "      <td>32</td>\n",
       "    </tr>\n",
       "    <tr>\n",
       "      <th>2</th>\n",
       "      <td>891815181378084864</td>\n",
       "      <td>2017-07-31 00:18:03</td>\n",
       "      <td>Twitter for iPhone</td>\n",
       "      <td>This is Archie. He is a rare Norwegian Pouncin...</td>\n",
       "      <td>https://twitter.com/dog_rates/status/891815181...</td>\n",
       "      <td>12</td>\n",
       "      <td>10</td>\n",
       "      <td>Archie</td>\n",
       "      <td>none</td>\n",
       "      <td>3481</td>\n",
       "      <td>22060</td>\n",
       "      <td>Chihuahua</td>\n",
       "      <td>71</td>\n",
       "    </tr>\n",
       "    <tr>\n",
       "      <th>3</th>\n",
       "      <td>891689557279858688</td>\n",
       "      <td>2017-07-30 15:58:51</td>\n",
       "      <td>Twitter for iPhone</td>\n",
       "      <td>This is Darla. She commenced a snooze mid meal...</td>\n",
       "      <td>https://twitter.com/dog_rates/status/891689557...</td>\n",
       "      <td>13</td>\n",
       "      <td>10</td>\n",
       "      <td>Darla</td>\n",
       "      <td>none</td>\n",
       "      <td>7219</td>\n",
       "      <td>36903</td>\n",
       "      <td>Labrador_retriever</td>\n",
       "      <td>16</td>\n",
       "    </tr>\n",
       "    <tr>\n",
       "      <th>4</th>\n",
       "      <td>891327558926688256</td>\n",
       "      <td>2017-07-29 16:00:24</td>\n",
       "      <td>Twitter for iPhone</td>\n",
       "      <td>This is Franklin. He would like you to stop ca...</td>\n",
       "      <td>https://twitter.com/dog_rates/status/891327558...</td>\n",
       "      <td>12</td>\n",
       "      <td>10</td>\n",
       "      <td>Franklin</td>\n",
       "      <td>none</td>\n",
       "      <td>7762</td>\n",
       "      <td>35314</td>\n",
       "      <td>basset</td>\n",
       "      <td>55</td>\n",
       "    </tr>\n",
       "  </tbody>\n",
       "</table>\n",
       "</div>"
      ],
      "text/plain": [
       "             tweet_id           timestamp              source  \\\n",
       "0  892420643555336193 2017-08-01 16:23:56  Twitter for iPhone   \n",
       "1  892177421306343426 2017-08-01 00:17:27  Twitter for iPhone   \n",
       "2  891815181378084864 2017-07-31 00:18:03  Twitter for iPhone   \n",
       "3  891689557279858688 2017-07-30 15:58:51  Twitter for iPhone   \n",
       "4  891327558926688256 2017-07-29 16:00:24  Twitter for iPhone   \n",
       "\n",
       "                                                text  \\\n",
       "0  This is Phineas. He's a mystical boy. Only eve...   \n",
       "1  This is Tilly. She's just checking pup on you....   \n",
       "2  This is Archie. He is a rare Norwegian Pouncin...   \n",
       "3  This is Darla. She commenced a snooze mid meal...   \n",
       "4  This is Franklin. He would like you to stop ca...   \n",
       "\n",
       "                                       expanded_urls  rating_numerator  \\\n",
       "0  https://twitter.com/dog_rates/status/892420643...                13   \n",
       "1  https://twitter.com/dog_rates/status/892177421...                13   \n",
       "2  https://twitter.com/dog_rates/status/891815181...                12   \n",
       "3  https://twitter.com/dog_rates/status/891689557...                13   \n",
       "4  https://twitter.com/dog_rates/status/891327558...                12   \n",
       "\n",
       "   rating_denominator      name stage  retweet_count  favorite_count  \\\n",
       "0                  10   Phineas  none           7009           33801   \n",
       "1                  10     Tilly  none           5301           29336   \n",
       "2                  10    Archie  none           3481           22060   \n",
       "3                  10     Darla  none           7219           36903   \n",
       "4                  10  Franklin  none           7762           35314   \n",
       "\n",
       "                breed  confidence  \n",
       "0                none           0  \n",
       "1           Chihuahua          32  \n",
       "2           Chihuahua          71  \n",
       "3  Labrador_retriever          16  \n",
       "4              basset          55  "
      ]
     },
     "execution_count": 108,
     "metadata": {},
     "output_type": "execute_result"
    }
   ],
   "source": [
    "df_tae_clean.head()"
   ]
  },
  {
   "cell_type": "code",
   "execution_count": 109,
   "metadata": {},
   "outputs": [
    {
     "name": "stdout",
     "output_type": "stream",
     "text": [
      "<class 'pandas.core.frame.DataFrame'>\n",
      "Int64Index: 1941 entries, 0 to 1940\n",
      "Data columns (total 13 columns):\n",
      "tweet_id              1941 non-null int64\n",
      "timestamp             1941 non-null datetime64[ns]\n",
      "source                1941 non-null object\n",
      "text                  1941 non-null object\n",
      "expanded_urls         1941 non-null object\n",
      "rating_numerator      1941 non-null int64\n",
      "rating_denominator    1941 non-null int64\n",
      "name                  1941 non-null object\n",
      "stage                 1941 non-null category\n",
      "retweet_count         1941 non-null int64\n",
      "favorite_count        1941 non-null int64\n",
      "breed                 1941 non-null object\n",
      "confidence            1941 non-null int64\n",
      "dtypes: category(1), datetime64[ns](1), int64(6), object(5)\n",
      "memory usage: 199.2+ KB\n"
     ]
    }
   ],
   "source": [
    "df_tae_clean.info()"
   ]
  },
  {
   "cell_type": "code",
   "execution_count": 110,
   "metadata": {},
   "outputs": [
    {
     "data": {
      "text/plain": [
       "['tweet_id',\n",
       " 'jpg_url',\n",
       " 'img_num',\n",
       " 'p1',\n",
       " 'p1_conf',\n",
       " 'p1_dog',\n",
       " 'p2',\n",
       " 'p2_conf',\n",
       " 'p2_dog',\n",
       " 'p3',\n",
       " 'p3_conf',\n",
       " 'p3_dog']"
      ]
     },
     "execution_count": 110,
     "metadata": {},
     "output_type": "execute_result"
    }
   ],
   "source": [
    "list(df_prediction)"
   ]
  },
  {
   "cell_type": "markdown",
   "metadata": {},
   "source": [
    "**Issues #14**"
   ]
  },
  {
   "cell_type": "markdown",
   "metadata": {},
   "source": [
    "**Define**"
   ]
  },
  {
   "cell_type": "markdown",
   "metadata": {},
   "source": [
    "Drop the rating_denominator column.\n",
    "Rename the rating_numerator column to be ratin"
   ]
  },
  {
   "cell_type": "markdown",
   "metadata": {},
   "source": [
    "**Code**"
   ]
  },
  {
   "cell_type": "code",
   "execution_count": 111,
   "metadata": {},
   "outputs": [
    {
     "data": {
      "text/plain": [
       "10    1941\n",
       "Name: rating_denominator, dtype: int64"
      ]
     },
     "execution_count": 111,
     "metadata": {},
     "output_type": "execute_result"
    }
   ],
   "source": [
    "df_tae_clean.rating_denominator.value_counts()"
   ]
  },
  {
   "cell_type": "code",
   "execution_count": 112,
   "metadata": {},
   "outputs": [],
   "source": [
    "df_tae_clean.drop(['rating_denominator'], axis = 1, inplace = True)\n",
    "df_tae_clean.rename(index = str, columns = {'rating_numerator': 'rating'}, inplace = True)"
   ]
  },
  {
   "cell_type": "markdown",
   "metadata": {},
   "source": [
    "**Test**"
   ]
  },
  {
   "cell_type": "code",
   "execution_count": 113,
   "metadata": {},
   "outputs": [
    {
     "data": {
      "text/plain": [
       "['tweet_id',\n",
       " 'timestamp',\n",
       " 'source',\n",
       " 'text',\n",
       " 'expanded_urls',\n",
       " 'rating',\n",
       " 'name',\n",
       " 'stage',\n",
       " 'retweet_count',\n",
       " 'favorite_count',\n",
       " 'breed',\n",
       " 'confidence']"
      ]
     },
     "execution_count": 113,
     "metadata": {},
     "output_type": "execute_result"
    }
   ],
   "source": [
    "list(df_tae_clean)"
   ]
  },
  {
   "cell_type": "markdown",
   "metadata": {},
   "source": [
    "**Issues #14**"
   ]
  },
  {
   "cell_type": "markdown",
   "metadata": {},
   "source": [
    "**Define**"
   ]
  },
  {
   "cell_type": "markdown",
   "metadata": {},
   "source": [
    "Reorder the column placement: bring numerical columns to the left.\n",
    "Drop the expanded_urls column."
   ]
  },
  {
   "cell_type": "markdown",
   "metadata": {},
   "source": [
    "**Code**"
   ]
  },
  {
   "cell_type": "code",
   "execution_count": 114,
   "metadata": {},
   "outputs": [
    {
     "name": "stdout",
     "output_type": "stream",
     "text": [
      "['tweet_id', 'timestamp', 'source', 'text', 'expanded_urls', 'rating', 'name', 'stage', 'retweet_count', 'favorite_count', 'breed', 'confidence']\n"
     ]
    }
   ],
   "source": [
    "col_list = list(df_tae_clean.columns)\n",
    "print(col_list)"
   ]
  },
  {
   "cell_type": "code",
   "execution_count": 115,
   "metadata": {},
   "outputs": [],
   "source": [
    "# set the columns in a new order\n",
    "col_list = ['tweet_id', 'timestamp', 'rating', 'retweet_count', 'favorite_count',\n",
    "            'breed', 'confidence', 'name', 'stage', 'source', 'text']\n",
    "\n",
    "df_tae_clean = df_tae_clean[col_list]"
   ]
  },
  {
   "cell_type": "markdown",
   "metadata": {},
   "source": [
    "**Test**"
   ]
  },
  {
   "cell_type": "code",
   "execution_count": 116,
   "metadata": {},
   "outputs": [
    {
     "data": {
      "text/html": [
       "<div>\n",
       "<style scoped>\n",
       "    .dataframe tbody tr th:only-of-type {\n",
       "        vertical-align: middle;\n",
       "    }\n",
       "\n",
       "    .dataframe tbody tr th {\n",
       "        vertical-align: top;\n",
       "    }\n",
       "\n",
       "    .dataframe thead th {\n",
       "        text-align: right;\n",
       "    }\n",
       "</style>\n",
       "<table border=\"1\" class=\"dataframe\">\n",
       "  <thead>\n",
       "    <tr style=\"text-align: right;\">\n",
       "      <th></th>\n",
       "      <th>tweet_id</th>\n",
       "      <th>timestamp</th>\n",
       "      <th>rating</th>\n",
       "      <th>retweet_count</th>\n",
       "      <th>favorite_count</th>\n",
       "      <th>breed</th>\n",
       "      <th>confidence</th>\n",
       "      <th>name</th>\n",
       "      <th>stage</th>\n",
       "      <th>source</th>\n",
       "      <th>text</th>\n",
       "    </tr>\n",
       "  </thead>\n",
       "  <tbody>\n",
       "    <tr>\n",
       "      <th>0</th>\n",
       "      <td>892420643555336193</td>\n",
       "      <td>2017-08-01 16:23:56</td>\n",
       "      <td>13</td>\n",
       "      <td>7009</td>\n",
       "      <td>33801</td>\n",
       "      <td>none</td>\n",
       "      <td>0</td>\n",
       "      <td>Phineas</td>\n",
       "      <td>none</td>\n",
       "      <td>Twitter for iPhone</td>\n",
       "      <td>This is Phineas. He's a mystical boy. Only eve...</td>\n",
       "    </tr>\n",
       "    <tr>\n",
       "      <th>1</th>\n",
       "      <td>892177421306343426</td>\n",
       "      <td>2017-08-01 00:17:27</td>\n",
       "      <td>13</td>\n",
       "      <td>5301</td>\n",
       "      <td>29336</td>\n",
       "      <td>Chihuahua</td>\n",
       "      <td>32</td>\n",
       "      <td>Tilly</td>\n",
       "      <td>none</td>\n",
       "      <td>Twitter for iPhone</td>\n",
       "      <td>This is Tilly. She's just checking pup on you....</td>\n",
       "    </tr>\n",
       "  </tbody>\n",
       "</table>\n",
       "</div>"
      ],
      "text/plain": [
       "             tweet_id           timestamp  rating  retweet_count  \\\n",
       "0  892420643555336193 2017-08-01 16:23:56      13           7009   \n",
       "1  892177421306343426 2017-08-01 00:17:27      13           5301   \n",
       "\n",
       "   favorite_count      breed  confidence     name stage              source  \\\n",
       "0           33801       none           0  Phineas  none  Twitter for iPhone   \n",
       "1           29336  Chihuahua          32    Tilly  none  Twitter for iPhone   \n",
       "\n",
       "                                                text  \n",
       "0  This is Phineas. He's a mystical boy. Only eve...  \n",
       "1  This is Tilly. She's just checking pup on you....  "
      ]
     },
     "execution_count": 116,
     "metadata": {},
     "output_type": "execute_result"
    }
   ],
   "source": [
    "df_tae_clean.head(2)"
   ]
  },
  {
   "cell_type": "markdown",
   "metadata": {},
   "source": [
    "## Storing Data\n",
    "Save gathered, assessed, and cleaned master dataset to a CSV file named \"twitter_archive_master.csv\"."
   ]
  },
  {
   "cell_type": "code",
   "execution_count": 117,
   "metadata": {},
   "outputs": [],
   "source": [
    "df_tae_clean.to_csv('twitter_archive_master.csv', index = False)"
   ]
  },
  {
   "cell_type": "code",
   "execution_count": 118,
   "metadata": {},
   "outputs": [
    {
     "name": "stdout",
     "output_type": "stream",
     "text": [
      "/twitter_archive_master.csv\n"
     ]
    }
   ],
   "source": [
    "import os\n",
    "print(os.path.join('C:',os.sep, 'twitter_archive_master.csv'))"
   ]
  },
  {
   "cell_type": "markdown",
   "metadata": {},
   "source": [
    "## Analyzing and Visualizing Data\n",
    "In this section, analyze and visualize your wrangled data. You must produce at least **three (3) insights and one (1) visualization.**"
   ]
  },
  {
   "cell_type": "code",
   "execution_count": 119,
   "metadata": {},
   "outputs": [],
   "source": [
    "# Set default display parameter for plots.\n",
    "plt.rcParams['figure.figsize'] = (8, 5)"
   ]
  },
  {
   "cell_type": "code",
   "execution_count": 120,
   "metadata": {},
   "outputs": [
    {
     "name": "stdout",
     "output_type": "stream",
     "text": [
      "<class 'pandas.core.frame.DataFrame'>\n",
      "Index: 1941 entries, 0 to 1940\n",
      "Data columns (total 11 columns):\n",
      "tweet_id          1941 non-null int64\n",
      "timestamp         1941 non-null datetime64[ns]\n",
      "rating            1941 non-null int64\n",
      "retweet_count     1941 non-null int64\n",
      "favorite_count    1941 non-null int64\n",
      "breed             1941 non-null object\n",
      "confidence        1941 non-null int64\n",
      "name              1941 non-null object\n",
      "stage             1941 non-null category\n",
      "source            1941 non-null object\n",
      "text              1941 non-null object\n",
      "dtypes: category(1), datetime64[ns](1), int64(5), object(4)\n",
      "memory usage: 168.9+ KB\n"
     ]
    }
   ],
   "source": [
    "# make a copy of the archive master table for analysis\n",
    "we_rate_dogs = df_tae_clean.copy()\n",
    "we_rate_dogs.info()"
   ]
  },
  {
   "cell_type": "code",
   "execution_count": 121,
   "metadata": {},
   "outputs": [
    {
     "data": {
      "text/plain": [
       "(Timestamp('2015-11-15 22:32:08'), Timestamp('2017-08-01 16:23:56'))"
      ]
     },
     "execution_count": 121,
     "metadata": {},
     "output_type": "execute_result"
    }
   ],
   "source": [
    "# time range for tweets\n",
    "we_rate_dogs.timestamp.min(), we_rate_dogs.timestamp.max()"
   ]
  },
  {
   "cell_type": "code",
   "execution_count": 122,
   "metadata": {},
   "outputs": [
    {
     "data": {
      "text/html": [
       "<div>\n",
       "<style scoped>\n",
       "    .dataframe tbody tr th:only-of-type {\n",
       "        vertical-align: middle;\n",
       "    }\n",
       "\n",
       "    .dataframe tbody tr th {\n",
       "        vertical-align: top;\n",
       "    }\n",
       "\n",
       "    .dataframe thead th {\n",
       "        text-align: right;\n",
       "    }\n",
       "</style>\n",
       "<table border=\"1\" class=\"dataframe\">\n",
       "  <thead>\n",
       "    <tr style=\"text-align: right;\">\n",
       "      <th></th>\n",
       "      <th>rating</th>\n",
       "      <th>retweet_count</th>\n",
       "      <th>favorite_count</th>\n",
       "      <th>confidence</th>\n",
       "    </tr>\n",
       "  </thead>\n",
       "  <tbody>\n",
       "    <tr>\n",
       "      <th>count</th>\n",
       "      <td>1941.00000</td>\n",
       "      <td>1941.000000</td>\n",
       "      <td>1941.000000</td>\n",
       "      <td>1941.000000</td>\n",
       "    </tr>\n",
       "    <tr>\n",
       "      <th>mean</th>\n",
       "      <td>10.53220</td>\n",
       "      <td>2253.034518</td>\n",
       "      <td>7756.922205</td>\n",
       "      <td>46.015971</td>\n",
       "    </tr>\n",
       "    <tr>\n",
       "      <th>std</th>\n",
       "      <td>2.17569</td>\n",
       "      <td>4041.836893</td>\n",
       "      <td>11445.846106</td>\n",
       "      <td>33.827797</td>\n",
       "    </tr>\n",
       "    <tr>\n",
       "      <th>min</th>\n",
       "      <td>0.00000</td>\n",
       "      <td>11.000000</td>\n",
       "      <td>66.000000</td>\n",
       "      <td>0.000000</td>\n",
       "    </tr>\n",
       "    <tr>\n",
       "      <th>25%</th>\n",
       "      <td>10.00000</td>\n",
       "      <td>495.000000</td>\n",
       "      <td>1632.000000</td>\n",
       "      <td>13.000000</td>\n",
       "    </tr>\n",
       "    <tr>\n",
       "      <th>50%</th>\n",
       "      <td>11.00000</td>\n",
       "      <td>1081.000000</td>\n",
       "      <td>3475.000000</td>\n",
       "      <td>45.000000</td>\n",
       "    </tr>\n",
       "    <tr>\n",
       "      <th>75%</th>\n",
       "      <td>12.00000</td>\n",
       "      <td>2585.000000</td>\n",
       "      <td>9649.000000</td>\n",
       "      <td>77.000000</td>\n",
       "    </tr>\n",
       "    <tr>\n",
       "      <th>max</th>\n",
       "      <td>14.00000</td>\n",
       "      <td>70759.000000</td>\n",
       "      <td>144926.000000</td>\n",
       "      <td>99.000000</td>\n",
       "    </tr>\n",
       "  </tbody>\n",
       "</table>\n",
       "</div>"
      ],
      "text/plain": [
       "           rating  retweet_count  favorite_count   confidence\n",
       "count  1941.00000    1941.000000     1941.000000  1941.000000\n",
       "mean     10.53220    2253.034518     7756.922205    46.015971\n",
       "std       2.17569    4041.836893    11445.846106    33.827797\n",
       "min       0.00000      11.000000       66.000000     0.000000\n",
       "25%      10.00000     495.000000     1632.000000    13.000000\n",
       "50%      11.00000    1081.000000     3475.000000    45.000000\n",
       "75%      12.00000    2585.000000     9649.000000    77.000000\n",
       "max      14.00000   70759.000000   144926.000000    99.000000"
      ]
     },
     "execution_count": 122,
     "metadata": {},
     "output_type": "execute_result"
    }
   ],
   "source": [
    "we_rate_dogs[['rating', 'retweet_count', 'favorite_count', 'confidence']].describe()"
   ]
  },
  {
   "cell_type": "code",
   "execution_count": 123,
   "metadata": {},
   "outputs": [
    {
     "data": {
      "image/png": "[encoded data removed]",
      "text/plain": [
       "<matplotlib.figure.Figure at 0x7fce6f9b8fd0>"
      ]
     },
     "metadata": {
      "needs_background": "light"
     },
     "output_type": "display_data"
    }
   ],
   "source": [
    "we_rate_dogs['rating'].plot(kind = 'hist', bins = 15)\n",
    "\n",
    "plt.xlim(0, 14)\n",
    "plt.ylabel('Number of Tweets', fontsize = 12)\n",
    "plt.xlabel('Rating', fontsize = 12)\n",
    "plt.title('Distribution of Ratings', fontsize = 18)\n",
    "plt.show();"
   ]
  },
  {
   "cell_type": "markdown",
   "metadata": {},
   "source": [
    "The distribution of ratings is very skewed to the left. From the descriptive statistics above we see that 75% of all ratings are between 10 and 14"
   ]
  },
  {
   "cell_type": "code",
   "execution_count": 124,
   "metadata": {},
   "outputs": [
    {
     "name": "stdout",
     "output_type": "stream",
     "text": [
      "Number of tweets with rating 10+:  1533\n",
      "Percentage of tweets:                79%\n"
     ]
    }
   ],
   "source": [
    "# Percentage of tweets with rating of 10 and up\n",
    "rating_10up_total = sum(we_rate_dogs.rating >= 10)\n",
    "rating_10up_perc = round(rating_10up_total * 100 / we_rate_dogs.shape[0])\n",
    "print(\"Number of tweets with rating 10+:  {}\".format(rating_10up_total))\n",
    "print(\"Percentage of tweets:                {}%\".format(round(rating_10up_perc, 3)))"
   ]
  },
  {
   "cell_type": "code",
   "execution_count": 125,
   "metadata": {},
   "outputs": [
    {
     "data": {
      "text/plain": [
       "0"
      ]
     },
     "execution_count": 125,
     "metadata": {},
     "output_type": "execute_result"
    }
   ],
   "source": [
    "# How many tweets have favorite count <= retweet count?\n",
    "sum(we_rate_dogs.favorite_count <= we_rate_dogs.retweet_count)"
   ]
  },
  {
   "cell_type": "code",
   "execution_count": 126,
   "metadata": {},
   "outputs": [
    {
     "data": {
      "text/html": [
       "<div>\n",
       "<style scoped>\n",
       "    .dataframe tbody tr th:only-of-type {\n",
       "        vertical-align: middle;\n",
       "    }\n",
       "\n",
       "    .dataframe tbody tr th {\n",
       "        vertical-align: top;\n",
       "    }\n",
       "\n",
       "    .dataframe thead th {\n",
       "        text-align: right;\n",
       "    }\n",
       "</style>\n",
       "<table border=\"1\" class=\"dataframe\">\n",
       "  <thead>\n",
       "    <tr style=\"text-align: right;\">\n",
       "      <th></th>\n",
       "      <th>tweet_id</th>\n",
       "      <th>timestamp</th>\n",
       "      <th>rating</th>\n",
       "      <th>retweet_count</th>\n",
       "      <th>favorite_count</th>\n",
       "      <th>breed</th>\n",
       "      <th>confidence</th>\n",
       "      <th>name</th>\n",
       "      <th>stage</th>\n",
       "      <th>source</th>\n",
       "      <th>text</th>\n",
       "    </tr>\n",
       "  </thead>\n",
       "  <tbody>\n",
       "    <tr>\n",
       "      <th>756</th>\n",
       "      <td>744234799360020481</td>\n",
       "      <td>2016-06-18 18:26:18</td>\n",
       "      <td>13</td>\n",
       "      <td>70759</td>\n",
       "      <td>144926</td>\n",
       "      <td>Labrador_retriever</td>\n",
       "      <td>82</td>\n",
       "      <td>None</td>\n",
       "      <td>doggo</td>\n",
       "      <td>Twitter for iPhone</td>\n",
       "      <td>Here's a doggo realizing you can stand in a po...</td>\n",
       "    </tr>\n",
       "    <tr>\n",
       "      <th>302</th>\n",
       "      <td>822872901745569793</td>\n",
       "      <td>2017-01-21 18:26:02</td>\n",
       "      <td>13</td>\n",
       "      <td>39934</td>\n",
       "      <td>124041</td>\n",
       "      <td>Lakeland_terrier</td>\n",
       "      <td>19</td>\n",
       "      <td>None</td>\n",
       "      <td>puppo</td>\n",
       "      <td>Twitter for iPhone</td>\n",
       "      <td>Here's a super supportive puppo participating ...</td>\n",
       "    </tr>\n",
       "    <tr>\n",
       "      <th>391</th>\n",
       "      <td>807106840509214720</td>\n",
       "      <td>2016-12-09 06:17:20</td>\n",
       "      <td>13</td>\n",
       "      <td>51693</td>\n",
       "      <td>111728</td>\n",
       "      <td>Chihuahua</td>\n",
       "      <td>50</td>\n",
       "      <td>Stephan</td>\n",
       "      <td>none</td>\n",
       "      <td>Twitter for iPhone</td>\n",
       "      <td>This is Stephan. He just wants to help. 13/10 ...</td>\n",
       "    </tr>\n",
       "    <tr>\n",
       "      <th>107</th>\n",
       "      <td>866450705531457537</td>\n",
       "      <td>2017-05-22 00:28:40</td>\n",
       "      <td>13</td>\n",
       "      <td>30215</td>\n",
       "      <td>108940</td>\n",
       "      <td>French_bulldog</td>\n",
       "      <td>90</td>\n",
       "      <td>Jamesy</td>\n",
       "      <td>pupper</td>\n",
       "      <td>Twitter for iPhone</td>\n",
       "      <td>This is Jamesy. He gives a kiss to every other...</td>\n",
       "    </tr>\n",
       "    <tr>\n",
       "      <th>790</th>\n",
       "      <td>739238157791694849</td>\n",
       "      <td>2016-06-04 23:31:25</td>\n",
       "      <td>13</td>\n",
       "      <td>52912</td>\n",
       "      <td>107200</td>\n",
       "      <td>Eskimo_dog</td>\n",
       "      <td>50</td>\n",
       "      <td>None</td>\n",
       "      <td>doggo</td>\n",
       "      <td>Twitter for iPhone</td>\n",
       "      <td>Here's a doggo blowing bubbles. It's downright...</td>\n",
       "    </tr>\n",
       "  </tbody>\n",
       "</table>\n",
       "</div>"
      ],
      "text/plain": [
       "               tweet_id           timestamp  rating  retweet_count  \\\n",
       "756  744234799360020481 2016-06-18 18:26:18      13          70759   \n",
       "302  822872901745569793 2017-01-21 18:26:02      13          39934   \n",
       "391  807106840509214720 2016-12-09 06:17:20      13          51693   \n",
       "107  866450705531457537 2017-05-22 00:28:40      13          30215   \n",
       "790  739238157791694849 2016-06-04 23:31:25      13          52912   \n",
       "\n",
       "     favorite_count               breed  confidence     name   stage  \\\n",
       "756          144926  Labrador_retriever          82     None   doggo   \n",
       "302          124041    Lakeland_terrier          19     None   puppo   \n",
       "391          111728           Chihuahua          50  Stephan    none   \n",
       "107          108940      French_bulldog          90   Jamesy  pupper   \n",
       "790          107200          Eskimo_dog          50     None   doggo   \n",
       "\n",
       "                 source                                               text  \n",
       "756  Twitter for iPhone  Here's a doggo realizing you can stand in a po...  \n",
       "302  Twitter for iPhone  Here's a super supportive puppo participating ...  \n",
       "391  Twitter for iPhone  This is Stephan. He just wants to help. 13/10 ...  \n",
       "107  Twitter for iPhone  This is Jamesy. He gives a kiss to every other...  \n",
       "790  Twitter for iPhone  Here's a doggo blowing bubbles. It's downright...  "
      ]
     },
     "execution_count": 126,
     "metadata": {},
     "output_type": "execute_result"
    }
   ],
   "source": [
    "we_rate_dogs.sort_values(by = 'favorite_count', ascending = False).head(5)"
   ]
  },
  {
   "cell_type": "code",
   "execution_count": 127,
   "metadata": {},
   "outputs": [
    {
     "data": {
      "text/html": [
       "<div>\n",
       "<style scoped>\n",
       "    .dataframe tbody tr th:only-of-type {\n",
       "        vertical-align: middle;\n",
       "    }\n",
       "\n",
       "    .dataframe tbody tr th {\n",
       "        vertical-align: top;\n",
       "    }\n",
       "\n",
       "    .dataframe thead th {\n",
       "        text-align: right;\n",
       "    }\n",
       "</style>\n",
       "<table border=\"1\" class=\"dataframe\">\n",
       "  <thead>\n",
       "    <tr style=\"text-align: right;\">\n",
       "      <th></th>\n",
       "      <th>tweet_id</th>\n",
       "      <th>timestamp</th>\n",
       "      <th>rating</th>\n",
       "      <th>retweet_count</th>\n",
       "      <th>favorite_count</th>\n",
       "      <th>breed</th>\n",
       "      <th>confidence</th>\n",
       "      <th>name</th>\n",
       "      <th>stage</th>\n",
       "      <th>source</th>\n",
       "      <th>text</th>\n",
       "    </tr>\n",
       "  </thead>\n",
       "  <tbody>\n",
       "    <tr>\n",
       "      <th>756</th>\n",
       "      <td>744234799360020481</td>\n",
       "      <td>2016-06-18 18:26:18</td>\n",
       "      <td>13</td>\n",
       "      <td>70759</td>\n",
       "      <td>144926</td>\n",
       "      <td>Labrador_retriever</td>\n",
       "      <td>82</td>\n",
       "      <td>None</td>\n",
       "      <td>doggo</td>\n",
       "      <td>Twitter for iPhone</td>\n",
       "      <td>Here's a doggo realizing you can stand in a po...</td>\n",
       "    </tr>\n",
       "    <tr>\n",
       "      <th>790</th>\n",
       "      <td>739238157791694849</td>\n",
       "      <td>2016-06-04 23:31:25</td>\n",
       "      <td>13</td>\n",
       "      <td>52912</td>\n",
       "      <td>107200</td>\n",
       "      <td>Eskimo_dog</td>\n",
       "      <td>50</td>\n",
       "      <td>None</td>\n",
       "      <td>doggo</td>\n",
       "      <td>Twitter for iPhone</td>\n",
       "      <td>Here's a doggo blowing bubbles. It's downright...</td>\n",
       "    </tr>\n",
       "    <tr>\n",
       "      <th>391</th>\n",
       "      <td>807106840509214720</td>\n",
       "      <td>2016-12-09 06:17:20</td>\n",
       "      <td>13</td>\n",
       "      <td>51693</td>\n",
       "      <td>111728</td>\n",
       "      <td>Chihuahua</td>\n",
       "      <td>50</td>\n",
       "      <td>Stephan</td>\n",
       "      <td>none</td>\n",
       "      <td>Twitter for iPhone</td>\n",
       "      <td>This is Stephan. He just wants to help. 13/10 ...</td>\n",
       "    </tr>\n",
       "    <tr>\n",
       "      <th>302</th>\n",
       "      <td>822872901745569793</td>\n",
       "      <td>2017-01-21 18:26:02</td>\n",
       "      <td>13</td>\n",
       "      <td>39934</td>\n",
       "      <td>124041</td>\n",
       "      <td>Lakeland_terrier</td>\n",
       "      <td>19</td>\n",
       "      <td>None</td>\n",
       "      <td>puppo</td>\n",
       "      <td>Twitter for iPhone</td>\n",
       "      <td>Here's a super supportive puppo participating ...</td>\n",
       "    </tr>\n",
       "    <tr>\n",
       "      <th>58</th>\n",
       "      <td>879415818425184262</td>\n",
       "      <td>2017-06-26 19:07:24</td>\n",
       "      <td>13</td>\n",
       "      <td>37418</td>\n",
       "      <td>92839</td>\n",
       "      <td>English_springer</td>\n",
       "      <td>38</td>\n",
       "      <td>Duddles</td>\n",
       "      <td>none</td>\n",
       "      <td>Twitter for iPhone</td>\n",
       "      <td>This is Duddles. He did an attempt. 13/10 some...</td>\n",
       "    </tr>\n",
       "  </tbody>\n",
       "</table>\n",
       "</div>"
      ],
      "text/plain": [
       "               tweet_id           timestamp  rating  retweet_count  \\\n",
       "756  744234799360020481 2016-06-18 18:26:18      13          70759   \n",
       "790  739238157791694849 2016-06-04 23:31:25      13          52912   \n",
       "391  807106840509214720 2016-12-09 06:17:20      13          51693   \n",
       "302  822872901745569793 2017-01-21 18:26:02      13          39934   \n",
       "58   879415818425184262 2017-06-26 19:07:24      13          37418   \n",
       "\n",
       "     favorite_count               breed  confidence     name  stage  \\\n",
       "756          144926  Labrador_retriever          82     None  doggo   \n",
       "790          107200          Eskimo_dog          50     None  doggo   \n",
       "391          111728           Chihuahua          50  Stephan   none   \n",
       "302          124041    Lakeland_terrier          19     None  puppo   \n",
       "58            92839    English_springer          38  Duddles   none   \n",
       "\n",
       "                 source                                               text  \n",
       "756  Twitter for iPhone  Here's a doggo realizing you can stand in a po...  \n",
       "790  Twitter for iPhone  Here's a doggo blowing bubbles. It's downright...  \n",
       "391  Twitter for iPhone  This is Stephan. He just wants to help. 13/10 ...  \n",
       "302  Twitter for iPhone  Here's a super supportive puppo participating ...  \n",
       "58   Twitter for iPhone  This is Duddles. He did an attempt. 13/10 some...  "
      ]
     },
     "execution_count": 127,
     "metadata": {},
     "output_type": "execute_result"
    }
   ],
   "source": [
    "we_rate_dogs.sort_values(by = 'retweet_count', ascending = False).head(5)"
   ]
  },
  {
   "cell_type": "code",
   "execution_count": 128,
   "metadata": {},
   "outputs": [
    {
     "data": {
      "text/plain": [
       "none       1640\n",
       "pupper      200\n",
       "doggo        70\n",
       "puppo        23\n",
       "floofer       8\n",
       "Name: stage, dtype: int64"
      ]
     },
     "execution_count": 128,
     "metadata": {},
     "output_type": "execute_result"
    }
   ],
   "source": [
    "we_rate_dogs.stage.value_counts()"
   ]
  },
  {
   "cell_type": "code",
   "execution_count": 129,
   "metadata": {},
   "outputs": [
    {
     "name": "stdout",
     "output_type": "stream",
     "text": [
      "Number of tweets WITH stage:  301\n",
      "Percentage of tweets:          16%\n"
     ]
    }
   ],
   "source": [
    "with_stage_sum = sum(we_rate_dogs.stage != 'none')\n",
    "tweets_with_stage = round(with_stage_sum * 100 / we_rate_dogs.shape[0])\n",
    "print(\"Number of tweets WITH stage:  {}\".format(with_stage_sum))\n",
    "print(\"Percentage of tweets:          {}%\".format(round(tweets_with_stage, 3)))"
   ]
  },
  {
   "cell_type": "code",
   "execution_count": 130,
   "metadata": {},
   "outputs": [
    {
     "name": "stdout",
     "output_type": "stream",
     "text": [
      "Dog Breed and number of tweets\n",
      "___________________________\n",
      "golden_retriever      153\n",
      "Labrador_retriever    100\n",
      "Pembroke               94\n",
      "Chihuahua              89\n",
      "pug                    62\n",
      "toy_poodle             49\n",
      "chow                   47\n",
      "Samoyed                41\n",
      "Pomeranian             40\n",
      "malamute               33\n",
      "Name: breed, dtype: int64\n",
      "\n",
      "Top 10 dog breeds make up 36% of all tweets\n"
     ]
    }
   ],
   "source": [
    "top10_breeds_count = \\\n",
    "we_rate_dogs[we_rate_dogs.breed != 'none'].breed.value_counts().head(10)\n",
    "print(\"Dog Breed and number of tweets\")\n",
    "print(\"___________________________\")\n",
    "print(top10_breeds_count)\n",
    "\n",
    "top10_per = round(sum(top10_breeds_count) * 100 / we_rate_dogs.shape[0])\n",
    "print(\"\\nTop 10 dog breeds make up {}% of all tweets\".format(top10_per))"
   ]
  },
  {
   "cell_type": "markdown",
   "metadata": {
    "collapsed": true
   },
   "source": [
    "### Visualization"
   ]
  },
  {
   "cell_type": "code",
   "execution_count": 131,
   "metadata": {},
   "outputs": [
    {
     "data": {
      "image/png": "[encoded data removed]",
      "text/plain": [
       "<matplotlib.figure.Figure at 0x7fce6d6b6898>"
      ]
     },
     "metadata": {
      "needs_background": "light"
     },
     "output_type": "display_data"
    }
   ],
   "source": [
    "plt.barh(top10_breeds_count.index, top10_breeds_count)\n",
    "\n",
    "plt.xlabel('Number of Tweets', fontsize = 14)\n",
    "plt.ylabel('Dog breed', fontsize = 14)\n",
    "plt.title('Top 10 Dog Breeds by Tweet Count', fontsize = 16)\n",
    "plt.gca().invert_yaxis()\n",
    "plt.show();"
   ]
  },
  {
   "cell_type": "code",
   "execution_count": 132,
   "metadata": {},
   "outputs": [
    {
     "data": {
      "text/plain": [
       "breed\n",
       "golden_retriever      1645409\n",
       "Labrador_retriever    1021150\n",
       "Pembroke               905258\n",
       "Chihuahua              633129\n",
       "French_bulldog         526211\n",
       "Samoyed                482196\n",
       "chow                   386716\n",
       "cocker_spaniel         352241\n",
       "pug                    325432\n",
       "malamute               304605\n",
       "Name: favorite_count, dtype: int64"
      ]
     },
     "execution_count": 132,
     "metadata": {},
     "output_type": "execute_result"
    }
   ],
   "source": [
    "fav_counts_breed = we_rate_dogs[we_rate_dogs.breed != 'none']\n",
    "fav_counts_breed = fav_counts_breed.groupby(['breed'])\n",
    "fav_counts_breed = fav_counts_breed['favorite_count'].sum()\n",
    "fav_counts_breed = fav_counts_breed.sort_values(ascending = False)\n",
    "top10_breeds_fav_counts = fav_counts_breed.head(10)\n",
    "top10_breeds_fav_counts"
   ]
  },
  {
   "cell_type": "code",
   "execution_count": 133,
   "metadata": {},
   "outputs": [
    {
     "data": {
      "image/png": "[encoded data removed]",
      "text/plain": [
       "<matplotlib.figure.Figure at 0x7fce6d5ff208>"
      ]
     },
     "metadata": {
      "needs_background": "light"
     },
     "output_type": "display_data"
    }
   ],
   "source": [
    "plt.barh(top10_breeds_fav_counts.index, top10_breeds_fav_counts, color = 'g')\n",
    "\n",
    "plt.xlabel('Aggregate Favorite Count', fontsize = 14)\n",
    "plt.ylabel('Dog Breed', fontsize = 12)\n",
    "plt.title('Top 10 Dog Breeds by Aggregate Favorite Count', fontsize = 16)\n",
    "plt.gca().invert_yaxis()\n",
    "plt.show();"
   ]
  },
  {
   "cell_type": "code",
   "execution_count": 134,
   "metadata": {},
   "outputs": [
    {
     "data": {
      "text/plain": [
       "['Samoyed',\n",
       " 'malamute',\n",
       " 'Labrador_retriever',\n",
       " 'Chihuahua',\n",
       " 'chow',\n",
       " 'golden_retriever',\n",
       " 'pug',\n",
       " 'Pembroke']"
      ]
     },
     "execution_count": 134,
     "metadata": {},
     "output_type": "execute_result"
    }
   ],
   "source": [
    "list(set(top10_breeds_count.index) & set(top10_breeds_fav_counts.index))"
   ]
  },
  {
   "cell_type": "code",
   "execution_count": 135,
   "metadata": {},
   "outputs": [
    {
     "data": {
      "image/png": "[encoded data removed]",
      "text/plain": [
       "<matplotlib.figure.Figure at 0x7fce6d63c668>"
      ]
     },
     "metadata": {
      "needs_background": "light"
     },
     "output_type": "display_data"
    }
   ],
   "source": [
    "plt.figure(figsize = (14, 9))\n",
    "bplot = sns.boxplot(y = 'breed', x = 'rating',\n",
    "                    data = we_rate_dogs,\n",
    "                    orient = 'h',\n",
    "                    width = 0.5,\n",
    "                    palette = \"colorblind\",\n",
    "                    order = top10_breeds_fav_counts.index.tolist())\n",
    "plt.xlim(0, 16)\n",
    "\n",
    "# title and labels\n",
    "plt.suptitle('Ratings for Top 10 Dog Breeds (by Aggregate Favorite Count)', fontsize = 18)\n",
    "plt.title('Distribution within Breeds', fontsize = 16)\n",
    "plt.ylabel(\"Breed\",  fontsize = 14)\n",
    "plt.xlabel('Rating',  fontsize = 14)\n",
    "# plt.yticks(rotation = 60,  fontsize = 12)\n",
    "plt.show()"
   ]
  },
  {
   "cell_type": "code",
   "execution_count": 136,
   "metadata": {},
   "outputs": [],
   "source": [
    "# Add random amount of float between [0.0:0.7) to input x\n",
    "def jitter(x):\n",
    "    random.seed()\n",
    "    return x + random.uniform(0, 0.7)"
   ]
  },
  {
   "cell_type": "code",
   "execution_count": 137,
   "metadata": {},
   "outputs": [],
   "source": [
    "# Return the number of days from a timedelta object x\n",
    "def days_from_start(x):\n",
    "    return x.days\n",
    "\n",
    "# start date\n",
    "first_day = we_rate_dogs.timestamp.min()\n",
    "\n",
    "# array with days corresponding to timestamp\n",
    "we_rate_dogs_days = (we_rate_dogs.timestamp - first_day).apply(days_from_start)"
   ]
  },
  {
   "cell_type": "code",
   "execution_count": 138,
   "metadata": {},
   "outputs": [
    {
     "data": {
      "image/png": "[encoded data removed]",
      "text/plain": [
       "<matplotlib.figure.Figure at 0x7fce6d46d748>"
      ]
     },
     "metadata": {
      "needs_background": "light"
     },
     "output_type": "display_data"
    }
   ],
   "source": [
    "plt.figure(figsize = (14, 9))\n",
    "\n",
    "# add jitter to the rating so it's not so cluttered on each line\n",
    "rating_jitter = we_rate_dogs.rating.apply(jitter)\n",
    "\n",
    "plt.scatter(we_rate_dogs_days, rating_jitter, s = 10, alpha = 0.6)\n",
    "\n",
    "# title and labels\n",
    "plt.suptitle('Daily Tweets by Rating', fontsize = 18)\n",
    "plt.title('(Jitter added to points for clarity)', fontsize = 14)\n",
    "\n",
    "plt.xlabel('Days From Beginning', fontsize = 14)\n",
    "plt.ylabel('Rating', fontsize = 14)\n",
    "\n",
    "# add the line at 10 for reference; ratings are out of 10\n",
    "plt.axhline(y = 10, color = 'r')\n",
    "plt.ylim(0, 16)\n",
    "\n",
    "plt.show();"
   ]
  },
  {
   "cell_type": "code",
   "execution_count": 139,
   "metadata": {},
   "outputs": [
    {
     "data": {
      "image/png": "[encoded data removed]",
      "text/plain": [
       "<matplotlib.figure.Figure at 0x7fce6d53ea58>"
      ]
     },
     "metadata": {
      "needs_background": "light"
     },
     "output_type": "display_data"
    }
   ],
   "source": [
    "\n",
    "df = we_rate_dogs\n",
    "\n",
    "cmap = cm.get_cmap('Spectral') # Colour map (there are many others)\n",
    "plt.figure(figsize = (14, 12))\n",
    "\n",
    "plt.xscale('log')\n",
    "plt.yscale('log')\n",
    "plt.xlim(df['favorite_count'].min() - 10, df['favorite_count'].max() + 100000)\n",
    "plt.ylim(10, df['retweet_count'].max() + 25000)\n",
    "colours = df['rating']\n",
    "markers = 25\n",
    "\n",
    "plt.scatter(df['favorite_count'], df['retweet_count'], \n",
    "            c = colours, s = markers, cmap = cmap, edgecolor = 'None', alpha = 0.6)\n",
    "\n",
    "# title and labels\n",
    "plt.suptitle('Favorite Count vs. Retweet Count (Log10 Scale)', fontsize = 16)\n",
    "plt.title('with Rating for colour of marker', fontsize = 14)\n",
    "plt.xlabel('Favorite Count (log10)', fontsize = 14)\n",
    "plt.ylabel('Retweet Count (log10)', fontsize = 14)\n",
    "\n",
    "# colour bar\n",
    "cbar = plt.colorbar()\n",
    "cbar.set_label('Rating')\n",
    "\n",
    "plt.show();"
   ]
  },
  {
   "cell_type": "code",
   "execution_count": 140,
   "metadata": {},
   "outputs": [
    {
     "data": {
      "image/png": "[encoded data removed]",
      "text/plain": [
       "<matplotlib.figure.Figure at 0x7fce6c3c7a20>"
      ]
     },
     "metadata": {
      "needs_background": "light"
     },
     "output_type": "display_data"
    }
   ],
   "source": [
    "# Adapted from an answer from: \n",
    "# https://stackoverflow.com/questions/25741214/how-to-use-colormaps-to-color-plots-of-pandas-dataframes\n",
    "# -------------------------------------------------------------------------\n",
    "\n",
    "cmap = cm.get_cmap('Spectral') # Colour map (there are many others)\n",
    "plt.figure(figsize = (14, 10))\n",
    "\n",
    "plt.yscale('log')\n",
    "plt.ylim(we_rate_dogs['favorite_count'].min() - 10, \n",
    "         we_rate_dogs['favorite_count'].max() + 100000)\n",
    "colours = we_rate_dogs['rating']\n",
    "markers = 25\n",
    "\n",
    "plt.scatter(we_rate_dogs_days, we_rate_dogs['favorite_count'], \n",
    "            c = colours, s = markers, cmap = cmap, edgecolor = 'None', alpha = 0.7)\n",
    "\n",
    "# title and labels\n",
    "plt.suptitle('Daily Tweets by Favorite Count (Log10 Scale)', fontsize = 16)\n",
    "plt.title('with Rating for colour of marker', fontsize = 14)\n",
    "plt.xlabel('Days From Beginning', fontsize = 14)\n",
    "plt.ylabel('Favorite Count (log10)', fontsize = 14)\n",
    "\n",
    "cbar = plt.colorbar()\n",
    "cbar.set_label('Rating')\n",
    "plt.show();"
   ]
  },
  {
   "cell_type": "markdown",
   "metadata": {},
   "source": [
    "### Insights:\n",
    "1.Higher Ratings Mean Higher Retweets and Favourites\n",
    "\n",
    "2.people Love Retrievers\n",
    "\n",
    "3.Strong Relationship Between Favourite Count And Retweet Count"
   ]
  },
  {
   "cell_type": "code",
   "execution_count": null,
   "metadata": {},
   "outputs": [],
   "source": []
  }
 ],
 "metadata": {
  "extensions": {
   "jupyter_dashboards": {
    "activeView": "report_default",
    "version": 1,
    "views": {
     "grid_default": {
      "cellMargin": 10,
      "defaultCellHeight": 20,
      "maxColumns": 12,
      "name": "grid",
      "type": "grid"
     },
     "report_default": {
      "name": "report",
      "type": "report"
     }
    }
   }
  },
  "kernelspec": {
   "display_name": "Python 3",
   "language": "python",
   "name": "python3"
  },
  "language_info": {
   "codemirror_mode": {
    "name": "ipython",
    "version": 3
   },
   "file_extension": ".py",
   "mimetype": "text/x-python",
   "name": "python",
   "nbconvert_exporter": "python",
   "pygments_lexer": "ipython3",
   "version": "3.6.3"
  }
 },
 "nbformat": 4,
 "nbformat_minor": 2
}
