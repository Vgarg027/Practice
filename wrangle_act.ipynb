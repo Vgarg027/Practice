{
 "cells": [
  {
   "cell_type": "markdown",
   "metadata": {
    "extensions": {
     "jupyter_dashboards": {
      "version": 1,
      "views": {
       "grid_default": {
        "col": 0,
        "height": 4,
        "hidden": false,
        "row": 0,
        "width": 4
       },
       "report_default": {
        "hidden": false
       }
      }
     }
    }
   },
   "source": [
    "# Project: Wrangling and Analyze Data"
   ]
  },
  {
   "cell_type": "markdown",
   "metadata": {},
   "source": [
    "## Data Gathering\n",
    "In the cell below, gather **all** three pieces of data for this project and load them in the notebook. **Note:** the methods required to gather each data are different.\n",
    "1. Directly download the WeRateDogs Twitter archive data (twitter_archive_enhanced.csv)"
   ]
  },
  {
   "cell_type": "code",
   "execution_count": 1,
   "metadata": {
    "extensions": {
     "jupyter_dashboards": {
      "version": 1,
      "views": {
       "grid_default": {
        "hidden": true
       },
       "report_default": {
        "hidden": true
       }
      }
     }
    }
   },
   "outputs": [
    {
     "data": {
      "text/html": [
       "<div>\n",
       "<style scoped>\n",
       "    .dataframe tbody tr th:only-of-type {\n",
       "        vertical-align: middle;\n",
       "    }\n",
       "\n",
       "    .dataframe tbody tr th {\n",
       "        vertical-align: top;\n",
       "    }\n",
       "\n",
       "    .dataframe thead th {\n",
       "        text-align: right;\n",
       "    }\n",
       "</style>\n",
       "<table border=\"1\" class=\"dataframe\">\n",
       "  <thead>\n",
       "    <tr style=\"text-align: right;\">\n",
       "      <th></th>\n",
       "      <th>tweet_id</th>\n",
       "      <th>in_reply_to_status_id</th>\n",
       "      <th>in_reply_to_user_id</th>\n",
       "      <th>timestamp</th>\n",
       "      <th>source</th>\n",
       "      <th>text</th>\n",
       "      <th>retweeted_status_id</th>\n",
       "      <th>retweeted_status_user_id</th>\n",
       "      <th>retweeted_status_timestamp</th>\n",
       "      <th>expanded_urls</th>\n",
       "      <th>rating_numerator</th>\n",
       "      <th>rating_denominator</th>\n",
       "      <th>name</th>\n",
       "      <th>doggo</th>\n",
       "      <th>floofer</th>\n",
       "      <th>pupper</th>\n",
       "      <th>puppo</th>\n",
       "    </tr>\n",
       "  </thead>\n",
       "  <tbody>\n",
       "    <tr>\n",
       "      <th>0</th>\n",
       "      <td>892420643555336193</td>\n",
       "      <td>NaN</td>\n",
       "      <td>NaN</td>\n",
       "      <td>2017-08-01 16:23:56 +0000</td>\n",
       "      <td>&lt;a href=\"http://twitter.com/download/iphone\" r...</td>\n",
       "      <td>This is Phineas. He's a mystical boy. Only eve...</td>\n",
       "      <td>NaN</td>\n",
       "      <td>NaN</td>\n",
       "      <td>NaN</td>\n",
       "      <td>https://twitter.com/dog_rates/status/892420643...</td>\n",
       "      <td>13</td>\n",
       "      <td>10</td>\n",
       "      <td>Phineas</td>\n",
       "      <td>None</td>\n",
       "      <td>None</td>\n",
       "      <td>None</td>\n",
       "      <td>None</td>\n",
       "    </tr>\n",
       "    <tr>\n",
       "      <th>1</th>\n",
       "      <td>892177421306343426</td>\n",
       "      <td>NaN</td>\n",
       "      <td>NaN</td>\n",
       "      <td>2017-08-01 00:17:27 +0000</td>\n",
       "      <td>&lt;a href=\"http://twitter.com/download/iphone\" r...</td>\n",
       "      <td>This is Tilly. She's just checking pup on you....</td>\n",
       "      <td>NaN</td>\n",
       "      <td>NaN</td>\n",
       "      <td>NaN</td>\n",
       "      <td>https://twitter.com/dog_rates/status/892177421...</td>\n",
       "      <td>13</td>\n",
       "      <td>10</td>\n",
       "      <td>Tilly</td>\n",
       "      <td>None</td>\n",
       "      <td>None</td>\n",
       "      <td>None</td>\n",
       "      <td>None</td>\n",
       "    </tr>\n",
       "    <tr>\n",
       "      <th>2</th>\n",
       "      <td>891815181378084864</td>\n",
       "      <td>NaN</td>\n",
       "      <td>NaN</td>\n",
       "      <td>2017-07-31 00:18:03 +0000</td>\n",
       "      <td>&lt;a href=\"http://twitter.com/download/iphone\" r...</td>\n",
       "      <td>This is Archie. He is a rare Norwegian Pouncin...</td>\n",
       "      <td>NaN</td>\n",
       "      <td>NaN</td>\n",
       "      <td>NaN</td>\n",
       "      <td>https://twitter.com/dog_rates/status/891815181...</td>\n",
       "      <td>12</td>\n",
       "      <td>10</td>\n",
       "      <td>Archie</td>\n",
       "      <td>None</td>\n",
       "      <td>None</td>\n",
       "      <td>None</td>\n",
       "      <td>None</td>\n",
       "    </tr>\n",
       "    <tr>\n",
       "      <th>3</th>\n",
       "      <td>891689557279858688</td>\n",
       "      <td>NaN</td>\n",
       "      <td>NaN</td>\n",
       "      <td>2017-07-30 15:58:51 +0000</td>\n",
       "      <td>&lt;a href=\"http://twitter.com/download/iphone\" r...</td>\n",
       "      <td>This is Darla. She commenced a snooze mid meal...</td>\n",
       "      <td>NaN</td>\n",
       "      <td>NaN</td>\n",
       "      <td>NaN</td>\n",
       "      <td>https://twitter.com/dog_rates/status/891689557...</td>\n",
       "      <td>13</td>\n",
       "      <td>10</td>\n",
       "      <td>Darla</td>\n",
       "      <td>None</td>\n",
       "      <td>None</td>\n",
       "      <td>None</td>\n",
       "      <td>None</td>\n",
       "    </tr>\n",
       "    <tr>\n",
       "      <th>4</th>\n",
       "      <td>891327558926688256</td>\n",
       "      <td>NaN</td>\n",
       "      <td>NaN</td>\n",
       "      <td>2017-07-29 16:00:24 +0000</td>\n",
       "      <td>&lt;a href=\"http://twitter.com/download/iphone\" r...</td>\n",
       "      <td>This is Franklin. He would like you to stop ca...</td>\n",
       "      <td>NaN</td>\n",
       "      <td>NaN</td>\n",
       "      <td>NaN</td>\n",
       "      <td>https://twitter.com/dog_rates/status/891327558...</td>\n",
       "      <td>12</td>\n",
       "      <td>10</td>\n",
       "      <td>Franklin</td>\n",
       "      <td>None</td>\n",
       "      <td>None</td>\n",
       "      <td>None</td>\n",
       "      <td>None</td>\n",
       "    </tr>\n",
       "  </tbody>\n",
       "</table>\n",
       "</div>"
      ],
      "text/plain": [
       "             tweet_id  in_reply_to_status_id  in_reply_to_user_id  \\\n",
       "0  892420643555336193                    NaN                  NaN   \n",
       "1  892177421306343426                    NaN                  NaN   \n",
       "2  891815181378084864                    NaN                  NaN   \n",
       "3  891689557279858688                    NaN                  NaN   \n",
       "4  891327558926688256                    NaN                  NaN   \n",
       "\n",
       "                   timestamp  \\\n",
       "0  2017-08-01 16:23:56 +0000   \n",
       "1  2017-08-01 00:17:27 +0000   \n",
       "2  2017-07-31 00:18:03 +0000   \n",
       "3  2017-07-30 15:58:51 +0000   \n",
       "4  2017-07-29 16:00:24 +0000   \n",
       "\n",
       "                                              source  \\\n",
       "0  <a href=\"http://twitter.com/download/iphone\" r...   \n",
       "1  <a href=\"http://twitter.com/download/iphone\" r...   \n",
       "2  <a href=\"http://twitter.com/download/iphone\" r...   \n",
       "3  <a href=\"http://twitter.com/download/iphone\" r...   \n",
       "4  <a href=\"http://twitter.com/download/iphone\" r...   \n",
       "\n",
       "                                                text  retweeted_status_id  \\\n",
       "0  This is Phineas. He's a mystical boy. Only eve...                  NaN   \n",
       "1  This is Tilly. She's just checking pup on you....                  NaN   \n",
       "2  This is Archie. He is a rare Norwegian Pouncin...                  NaN   \n",
       "3  This is Darla. She commenced a snooze mid meal...                  NaN   \n",
       "4  This is Franklin. He would like you to stop ca...                  NaN   \n",
       "\n",
       "   retweeted_status_user_id retweeted_status_timestamp  \\\n",
       "0                       NaN                        NaN   \n",
       "1                       NaN                        NaN   \n",
       "2                       NaN                        NaN   \n",
       "3                       NaN                        NaN   \n",
       "4                       NaN                        NaN   \n",
       "\n",
       "                                       expanded_urls  rating_numerator  \\\n",
       "0  https://twitter.com/dog_rates/status/892420643...                13   \n",
       "1  https://twitter.com/dog_rates/status/892177421...                13   \n",
       "2  https://twitter.com/dog_rates/status/891815181...                12   \n",
       "3  https://twitter.com/dog_rates/status/891689557...                13   \n",
       "4  https://twitter.com/dog_rates/status/891327558...                12   \n",
       "\n",
       "   rating_denominator      name doggo floofer pupper puppo  \n",
       "0                  10   Phineas  None    None   None  None  \n",
       "1                  10     Tilly  None    None   None  None  \n",
       "2                  10    Archie  None    None   None  None  \n",
       "3                  10     Darla  None    None   None  None  \n",
       "4                  10  Franklin  None    None   None  None  "
      ]
     },
     "execution_count": 1,
     "metadata": {},
     "output_type": "execute_result"
    }
   ],
   "source": [
    "import requests\n",
    "import pandas as pd\n",
    "import numpy as np\n",
    "\n",
    "# URL for the WeRateDogs Twitter archive data\n",
    "archive_url = \"https://raw.githubusercontent.com/udacity/new-dand-advanced-china/master/%E6%95%B0%E6%8D%AE%E6%B8%85%E6%B4%97/WeRateDogs%E9%A1%B9%E7%9B%AE/twitter-archive-enhanced.csv\"\n",
    "\n",
    "# Download the Twitter archive data\n",
    "response = requests.get(archive_url)\n",
    "\n",
    "# Save the data to a local file\n",
    "with open('twitter_archive_enhanced.csv', 'wb') as file:\n",
    "    file.write(response.content)\n",
    "\n",
    "# Load the data into a pandas DataFrame\n",
    "archive_df = pd.read_csv('twitter_archive_enhanced.csv')\n",
    "\n",
    "# Display the first few rows of the DataFrame\n",
    "archive_df.head()\n"
   ]
  },
  {
   "cell_type": "markdown",
   "metadata": {},
   "source": [
    "2. Use the Requests library to download the tweet image prediction (image_predictions.tsv)"
   ]
  },
  {
   "cell_type": "code",
   "execution_count": 2,
   "metadata": {},
   "outputs": [
    {
     "name": "stdout",
     "output_type": "stream",
     "text": [
      "200\n",
      "                tweet_id                                            jpg_url  \\\n",
      "0     666020888022790149    https://pbs.twimg.com/media/CT4udn0WwAA0aMy.jpg   \n",
      "1     666029285002620928    https://pbs.twimg.com/media/CT42GRgUYAA5iDo.jpg   \n",
      "2     666033412701032449    https://pbs.twimg.com/media/CT4521TWwAEvMyu.jpg   \n",
      "3     666044226329800704    https://pbs.twimg.com/media/CT5Dr8HUEAA-lEu.jpg   \n",
      "4     666049248165822465    https://pbs.twimg.com/media/CT5IQmsXIAAKY4A.jpg   \n",
      "5     666050758794694657    https://pbs.twimg.com/media/CT5Jof1WUAEuVxN.jpg   \n",
      "6     666051853826850816    https://pbs.twimg.com/media/CT5KoJ1WoAAJash.jpg   \n",
      "7     666055525042405380    https://pbs.twimg.com/media/CT5N9tpXIAAifs1.jpg   \n",
      "8     666057090499244032    https://pbs.twimg.com/media/CT5PY90WoAAQGLo.jpg   \n",
      "9     666058600524156928    https://pbs.twimg.com/media/CT5Qw94XAAA_2dP.jpg   \n",
      "10    666063827256086533    https://pbs.twimg.com/media/CT5Vg_wXIAAXfnj.jpg   \n",
      "11    666071193221509120    https://pbs.twimg.com/media/CT5cN_3WEAAlOoZ.jpg   \n",
      "12    666073100786774016    https://pbs.twimg.com/media/CT5d9DZXAAALcwe.jpg   \n",
      "13    666082916733198337    https://pbs.twimg.com/media/CT5m4VGWEAAtKc8.jpg   \n",
      "14    666094000022159362    https://pbs.twimg.com/media/CT5w9gUW4AAsBNN.jpg   \n",
      "15    666099513787052032    https://pbs.twimg.com/media/CT51-JJUEAA6hV8.jpg   \n",
      "16    666102155909144576    https://pbs.twimg.com/media/CT54YGiWUAEZnoK.jpg   \n",
      "17    666104133288665088    https://pbs.twimg.com/media/CT56LSZWoAAlJj2.jpg   \n",
      "18    666268910803644416    https://pbs.twimg.com/media/CT8QCd1WEAADXws.jpg   \n",
      "19    666273097616637952    https://pbs.twimg.com/media/CT8T1mtUwAA3aqm.jpg   \n",
      "20    666287406224695296    https://pbs.twimg.com/media/CT8g3BpUEAAuFjg.jpg   \n",
      "21    666293911632134144    https://pbs.twimg.com/media/CT8mx7KW4AEQu8N.jpg   \n",
      "22    666337882303524864    https://pbs.twimg.com/media/CT9OwFIWEAMuRje.jpg   \n",
      "23    666345417576210432    https://pbs.twimg.com/media/CT9Vn7PWoAA_ZCM.jpg   \n",
      "24    666353288456101888    https://pbs.twimg.com/media/CT9cx0tUEAAhNN_.jpg   \n",
      "25    666362758909284353    https://pbs.twimg.com/media/CT9lXGsUcAAyUFt.jpg   \n",
      "26    666373753744588802    https://pbs.twimg.com/media/CT9vZEYWUAAlZ05.jpg   \n",
      "27    666396247373291520    https://pbs.twimg.com/media/CT-D2ZHWIAA3gK1.jpg   \n",
      "28    666407126856765440    https://pbs.twimg.com/media/CT-NvwmW4AAugGZ.jpg   \n",
      "29    666411507551481857    https://pbs.twimg.com/media/CT-RugiWIAELEaq.jpg   \n",
      "...                  ...                                                ...   \n",
      "2045  886366144734445568    https://pbs.twimg.com/media/DE0BTnQUwAApKEH.jpg   \n",
      "2046  886680336477933568    https://pbs.twimg.com/media/DE4fEDzWAAAyHMM.jpg   \n",
      "2047  886736880519319552    https://pbs.twimg.com/media/DE5Se8FXcAAJFx4.jpg   \n",
      "2048  886983233522544640    https://pbs.twimg.com/media/DE8yicJW0AAAvBJ.jpg   \n",
      "2049  887101392804085760    https://pbs.twimg.com/media/DE-eAq6UwAA-jaE.jpg   \n",
      "2050  887343217045368832  https://pbs.twimg.com/ext_tw_video_thumb/88734...   \n",
      "2051  887473957103951883    https://pbs.twimg.com/media/DFDw2tyUQAAAFke.jpg   \n",
      "2052  887517139158093824  https://pbs.twimg.com/ext_tw_video_thumb/88751...   \n",
      "2053  887705289381826560    https://pbs.twimg.com/media/DFHDQBbXgAEqY7t.jpg   \n",
      "2054  888078434458587136    https://pbs.twimg.com/media/DFMWn56WsAAkA7B.jpg   \n",
      "2055  888202515573088257    https://pbs.twimg.com/media/DFDw2tyUQAAAFke.jpg   \n",
      "2056  888554962724278272    https://pbs.twimg.com/media/DFTH_O-UQAACu20.jpg   \n",
      "2057  888804989199671297    https://pbs.twimg.com/media/DFWra-3VYAA2piG.jpg   \n",
      "2058  888917238123831296    https://pbs.twimg.com/media/DFYRgsOUQAARGhO.jpg   \n",
      "2059  889278841981685760  https://pbs.twimg.com/ext_tw_video_thumb/88927...   \n",
      "2060  889531135344209921    https://pbs.twimg.com/media/DFg_2PVW0AEHN3p.jpg   \n",
      "2061  889638837579907072    https://pbs.twimg.com/media/DFihzFfXsAYGDPR.jpg   \n",
      "2062  889665388333682689    https://pbs.twimg.com/media/DFi579UWsAAatzw.jpg   \n",
      "2063  889880896479866881    https://pbs.twimg.com/media/DFl99B1WsAITKsg.jpg   \n",
      "2064  890006608113172480    https://pbs.twimg.com/media/DFnwSY4WAAAMliS.jpg   \n",
      "2065  890240255349198849    https://pbs.twimg.com/media/DFrEyVuW0AAO3t9.jpg   \n",
      "2066  890609185150312448    https://pbs.twimg.com/media/DFwUU__XcAEpyXI.jpg   \n",
      "2067  890729181411237888    https://pbs.twimg.com/media/DFyBahAVwAAhUTd.jpg   \n",
      "2068  890971913173991426    https://pbs.twimg.com/media/DF1eOmZXUAALUcq.jpg   \n",
      "2069  891087950875897856    https://pbs.twimg.com/media/DF3HwyEWsAABqE6.jpg   \n",
      "2070  891327558926688256    https://pbs.twimg.com/media/DF6hr6BUMAAzZgT.jpg   \n",
      "2071  891689557279858688    https://pbs.twimg.com/media/DF_q7IAWsAEuuN8.jpg   \n",
      "2072  891815181378084864    https://pbs.twimg.com/media/DGBdLU1WsAANxJ9.jpg   \n",
      "2073  892177421306343426    https://pbs.twimg.com/media/DGGmoV4XsAAUL6n.jpg   \n",
      "2074  892420643555336193    https://pbs.twimg.com/media/DGKD1-bXoAAIAUK.jpg   \n",
      "\n",
      "      img_num                           p1   p1_conf  p1_dog  \\\n",
      "0           1       Welsh_springer_spaniel  0.465074    True   \n",
      "1           1                      redbone  0.506826    True   \n",
      "2           1              German_shepherd  0.596461    True   \n",
      "3           1          Rhodesian_ridgeback  0.408143    True   \n",
      "4           1           miniature_pinscher  0.560311    True   \n",
      "5           1         Bernese_mountain_dog  0.651137    True   \n",
      "6           1                   box_turtle  0.933012   False   \n",
      "7           1                         chow  0.692517    True   \n",
      "8           1                shopping_cart  0.962465   False   \n",
      "9           1             miniature_poodle  0.201493    True   \n",
      "10          1             golden_retriever  0.775930    True   \n",
      "11          1                Gordon_setter  0.503672    True   \n",
      "12          1                 Walker_hound  0.260857    True   \n",
      "13          1                          pug  0.489814    True   \n",
      "14          1                   bloodhound  0.195217    True   \n",
      "15          1                        Lhasa  0.582330    True   \n",
      "16          1               English_setter  0.298617    True   \n",
      "17          1                          hen  0.965932   False   \n",
      "18          1             desktop_computer  0.086502   False   \n",
      "19          1            Italian_greyhound  0.176053    True   \n",
      "20          1                  Maltese_dog  0.857531    True   \n",
      "21          1             three-toed_sloth  0.914671   False   \n",
      "22          1                           ox  0.416669   False   \n",
      "23          1             golden_retriever  0.858744    True   \n",
      "24          1                     malamute  0.336874    True   \n",
      "25          1                   guinea_pig  0.996496   False   \n",
      "26          1  soft-coated_wheaten_terrier  0.326467    True   \n",
      "27          1                    Chihuahua  0.978108    True   \n",
      "28          1      black-and-tan_coonhound  0.529139    True   \n",
      "29          1                         coho  0.404640   False   \n",
      "...       ...                          ...       ...     ...   \n",
      "2045        1               French_bulldog  0.999201    True   \n",
      "2046        1                  convertible  0.738995   False   \n",
      "2047        1                       kuvasz  0.309706    True   \n",
      "2048        2                    Chihuahua  0.793469    True   \n",
      "2049        1                      Samoyed  0.733942    True   \n",
      "2050        1             Mexican_hairless  0.330741    True   \n",
      "2051        2                     Pembroke  0.809197    True   \n",
      "2052        1                    limousine  0.130432   False   \n",
      "2053        1                       basset  0.821664    True   \n",
      "2054        1               French_bulldog  0.995026    True   \n",
      "2055        2                     Pembroke  0.809197    True   \n",
      "2056        3               Siberian_husky  0.700377    True   \n",
      "2057        1             golden_retriever  0.469760    True   \n",
      "2058        1             golden_retriever  0.714719    True   \n",
      "2059        1                      whippet  0.626152    True   \n",
      "2060        1             golden_retriever  0.953442    True   \n",
      "2061        1               French_bulldog  0.991650    True   \n",
      "2062        1                     Pembroke  0.966327    True   \n",
      "2063        1               French_bulldog  0.377417    True   \n",
      "2064        1                      Samoyed  0.957979    True   \n",
      "2065        1                     Pembroke  0.511319    True   \n",
      "2066        1                Irish_terrier  0.487574    True   \n",
      "2067        2                   Pomeranian  0.566142    True   \n",
      "2068        1                  Appenzeller  0.341703    True   \n",
      "2069        1     Chesapeake_Bay_retriever  0.425595    True   \n",
      "2070        2                       basset  0.555712    True   \n",
      "2071        1                  paper_towel  0.170278   False   \n",
      "2072        1                    Chihuahua  0.716012    True   \n",
      "2073        1                    Chihuahua  0.323581    True   \n",
      "2074        1                       orange  0.097049   False   \n",
      "\n",
      "                            p2   p2_conf  p2_dog                           p3  \\\n",
      "0                       collie  0.156665    True            Shetland_sheepdog   \n",
      "1           miniature_pinscher  0.074192    True          Rhodesian_ridgeback   \n",
      "2                     malinois  0.138584    True                   bloodhound   \n",
      "3                      redbone  0.360687    True           miniature_pinscher   \n",
      "4                   Rottweiler  0.243682    True                     Doberman   \n",
      "5             English_springer  0.263788    True   Greater_Swiss_Mountain_dog   \n",
      "6                   mud_turtle  0.045885   False                     terrapin   \n",
      "7              Tibetan_mastiff  0.058279    True                     fur_coat   \n",
      "8              shopping_basket  0.014594   False             golden_retriever   \n",
      "9                     komondor  0.192305    True  soft-coated_wheaten_terrier   \n",
      "10             Tibetan_mastiff  0.093718    True           Labrador_retriever   \n",
      "11           Yorkshire_terrier  0.174201    True                     Pekinese   \n",
      "12            English_foxhound  0.175382    True                 Ibizan_hound   \n",
      "13                bull_mastiff  0.404722    True               French_bulldog   \n",
      "14             German_shepherd  0.078260    True                     malinois   \n",
      "15                    Shih-Tzu  0.166192    True               Dandie_Dinmont   \n",
      "16                Newfoundland  0.149842    True                       borzoi   \n",
      "17                        cock  0.033919   False                    partridge   \n",
      "18                        desk  0.085547   False                     bookcase   \n",
      "19                 toy_terrier  0.111884    True                      basenji   \n",
      "20                  toy_poodle  0.063064    True             miniature_poodle   \n",
      "21                       otter  0.015250   False               great_grey_owl   \n",
      "22                Newfoundland  0.278407    True                  groenendael   \n",
      "23    Chesapeake_Bay_retriever  0.054787    True           Labrador_retriever   \n",
      "24              Siberian_husky  0.147655    True                   Eskimo_dog   \n",
      "25                       skunk  0.002402   False                      hamster   \n",
      "26                Afghan_hound  0.259551    True                       briard   \n",
      "27                 toy_terrier  0.009397    True                     papillon   \n",
      "28                  bloodhound  0.244220    True        flat-coated_retriever   \n",
      "29                  barracouta  0.271485   False                          gar   \n",
      "...                        ...       ...     ...                          ...   \n",
      "2045                 Chihuahua  0.000361    True                  Boston_bull   \n",
      "2046                sports_car  0.139952   False                    car_wheel   \n",
      "2047            Great_Pyrenees  0.186136    True               Dandie_Dinmont   \n",
      "2048               toy_terrier  0.143528    True                   can_opener   \n",
      "2049                Eskimo_dog  0.035029    True    Staffordshire_bullterrier   \n",
      "2050                  sea_lion  0.275645   False                   Weimaraner   \n",
      "2051       Rhodesian_ridgeback  0.054950    True                       beagle   \n",
      "2052                 tow_truck  0.029175   False                shopping_cart   \n",
      "2053                   redbone  0.087582    True                   Weimaraner   \n",
      "2054                       pug  0.000932    True                 bull_mastiff   \n",
      "2055       Rhodesian_ridgeback  0.054950    True                       beagle   \n",
      "2056                Eskimo_dog  0.166511    True                     malamute   \n",
      "2057        Labrador_retriever  0.184172    True               English_setter   \n",
      "2058           Tibetan_mastiff  0.120184    True           Labrador_retriever   \n",
      "2059                    borzoi  0.194742    True                       Saluki   \n",
      "2060        Labrador_retriever  0.013834    True                      redbone   \n",
      "2061                     boxer  0.002129    True    Staffordshire_bullterrier   \n",
      "2062                  Cardigan  0.027356    True                      basenji   \n",
      "2063        Labrador_retriever  0.151317    True                       muzzle   \n",
      "2064                Pomeranian  0.013884    True                         chow   \n",
      "2065                  Cardigan  0.451038    True                    Chihuahua   \n",
      "2066              Irish_setter  0.193054    True     Chesapeake_Bay_retriever   \n",
      "2067                Eskimo_dog  0.178406    True                     Pembroke   \n",
      "2068             Border_collie  0.199287    True                    ice_lolly   \n",
      "2069             Irish_terrier  0.116317    True              Indian_elephant   \n",
      "2070          English_springer  0.225770    True  German_short-haired_pointer   \n",
      "2071        Labrador_retriever  0.168086    True                      spatula   \n",
      "2072                  malamute  0.078253    True                       kelpie   \n",
      "2073                  Pekinese  0.090647    True                     papillon   \n",
      "2074                     bagel  0.085851   False                       banana   \n",
      "\n",
      "       p3_conf  p3_dog  \n",
      "0     0.061428    True  \n",
      "1     0.072010    True  \n",
      "2     0.116197    True  \n",
      "3     0.222752    True  \n",
      "4     0.154629    True  \n",
      "5     0.016199    True  \n",
      "6     0.017885   False  \n",
      "7     0.054449   False  \n",
      "8     0.007959    True  \n",
      "9     0.082086    True  \n",
      "10    0.072427    True  \n",
      "11    0.109454    True  \n",
      "12    0.097471    True  \n",
      "13    0.048960    True  \n",
      "14    0.075628    True  \n",
      "15    0.089688    True  \n",
      "16    0.133649    True  \n",
      "17    0.000052   False  \n",
      "18    0.079480   False  \n",
      "19    0.111152    True  \n",
      "20    0.025581    True  \n",
      "21    0.013207   False  \n",
      "22    0.102643    True  \n",
      "23    0.014241    True  \n",
      "24    0.093412    True  \n",
      "25    0.000461   False  \n",
      "26    0.206803    True  \n",
      "27    0.004577    True  \n",
      "28    0.173810    True  \n",
      "29    0.189945   False  \n",
      "...        ...     ...  \n",
      "2045  0.000076    True  \n",
      "2046  0.044173   False  \n",
      "2047  0.086346    True  \n",
      "2048  0.032253   False  \n",
      "2049  0.029705    True  \n",
      "2050  0.134203    True  \n",
      "2051  0.038915    True  \n",
      "2052  0.026321   False  \n",
      "2053  0.026236    True  \n",
      "2054  0.000903    True  \n",
      "2055  0.038915    True  \n",
      "2056  0.111411    True  \n",
      "2057  0.073482    True  \n",
      "2058  0.105506    True  \n",
      "2059  0.027351    True  \n",
      "2060  0.007958    True  \n",
      "2061  0.001498    True  \n",
      "2062  0.004633    True  \n",
      "2063  0.082981   False  \n",
      "2064  0.008167    True  \n",
      "2065  0.029248    True  \n",
      "2066  0.118184    True  \n",
      "2067  0.076507    True  \n",
      "2068  0.193548   False  \n",
      "2069  0.076902   False  \n",
      "2070  0.175219    True  \n",
      "2071  0.040836   False  \n",
      "2072  0.031379    True  \n",
      "2073  0.068957    True  \n",
      "2074  0.076110   False  \n",
      "\n",
      "[2075 rows x 12 columns]\n"
     ]
    }
   ],
   "source": [
    "import requests\n",
    "import pandas as pd\n",
    "from io import StringIO\n",
    "\n",
    "# URL for the tweet image prediction data\n",
    "image_predictions_url = \"https://d17h27t6h515a5.cloudfront.net/topher/2017/August/599fd2ad_image-predictions/image-predictions.tsv\"\n",
    "\n",
    "# Download the image predictions data\n",
    "response = requests.get(image_predictions_url)\n",
    "print(response.status_code)\n",
    "data = pd.read_csv(StringIO(response.text), sep='\\t')\n",
    "print(data)\n",
    "# Save with a different path and specify a different delimiter (e.g., semicolon)\n",
    "data.to_csv('image-predictions.tsv', index=False, sep=';')"
   ]
  },
  {
   "cell_type": "markdown",
   "metadata": {},
   "source": [
    "3. Use the Tweepy library to query additional data via the Twitter API (tweet_json.txt)"
   ]
  },
  {
   "cell_type": "code",
   "execution_count": null,
   "metadata": {},
   "outputs": [],
   "source": [
    "import tweepy\n",
    "from tweepy import OAuthHandler\n",
    "import json\n",
    "from timeit import default_timer as timer\n",
    "\n",
    "# Query Twitter API for each tweet in the Twitter archive and save JSON in a text file\n",
    "# These are hidden to comply with Twitter's API terms and conditions\n",
    "consumer_key = 'HIDDEN'\n",
    "consumer_secret = 'HIDDEN'\n",
    "access_token = 'HIDDEN'\n",
    "access_secret = 'HIDDEN'\n",
    "\n",
    "auth = OAuthHandler(consumer_key, consumer_secret)\n",
    "auth.set_access_token(access_token, access_secret)\n",
    "\n",
    "api = tweepy.API(auth, wait_on_rate_limit=True)\n",
    "\n",
    "# NOTE TO STUDENT WITH MOBILE VERIFICATION ISSUES:\n",
    "# df_1 is a DataFrame with the twitter_archive_enhanced.csv file. You may have to\n",
    "# change line 17 to match the name of your DataFrame with twitter_archive_enhanced.csv\n",
    "# NOTE TO REVIEWER: this student had mobile verification issues so the following\n",
    "# Twitter API code was sent to this student from a Udacity instructor\n",
    "# Tweet IDs for which to gather additional data via Twitter's API\n",
    "tweet_ids = archive_df.tweet_id.values\n",
    "len(tweet_ids)\n",
    "\n",
    "# Query Twitter's API for JSON data for each tweet ID in the Twitter archive\n",
    "count = 0\n",
    "fails_dict = {}\n",
    "start = timer()\n",
    "# Save each tweet's returned JSON as a new line in a .txt file\n",
    "with open('tweet_json.txt', 'w') as outfile:\n",
    "    # This loop will likely take 20-30 minutes to run because of Twitter's rate limit\n",
    "    for tweet_id in tweet_ids:\n",
    "        count += 1\n",
    "        print(str(count) + \": \" + str(tweet_id))\n",
    "        try:\n",
    "            tweet = api.get_status(tweet_id, tweet_mode='extended')\n",
    "            print(\"Success\")\n",
    "            json.dump(tweet._json, outfile)\n",
    "            outfile.write('\\n')\n",
    "        except tweepy.TweepError as e:\n",
    "            print(\"Fail\")\n",
    "            fails_dict[tweet_id] = e\n",
    "            pass\n",
    "end = timer()\n",
    "print(end - start)\n",
    "print(fails_dict)"
   ]
  },
  {
   "cell_type": "markdown",
   "metadata": {
    "extensions": {
     "jupyter_dashboards": {
      "version": 1,
      "views": {
       "grid_default": {
        "col": 4,
        "height": 4,
        "hidden": false,
        "row": 28,
        "width": 4
       },
       "report_default": {
        "hidden": false
       }
      }
     }
    }
   },
   "source": [
    "## Assessing Data\n",
    "In this section, detect and document at least **eight (8) quality issues and two (2) tidiness issue**. You must use **both** visual assessment\n",
    "programmatic assessement to assess the data.\n",
    "\n",
    "**Note:** pay attention to the following key points when you access the data.\n",
    "\n",
    "* You only want original ratings (no retweets) that have images. Though there are 5000+ tweets in the dataset, not all are dog ratings and some are retweets.\n",
    "* Assessing and cleaning the entire dataset completely would require a lot of time, and is not necessary to practice and demonstrate your skills in data wrangling. Therefore, the requirements of this project are only to assess and clean at least 8 quality issues and at least 2 tidiness issues in this dataset.\n",
    "* The fact that the rating numerators are greater than the denominators does not need to be cleaned. This [unique rating system](http://knowyourmeme.com/memes/theyre-good-dogs-brent) is a big part of the popularity of WeRateDogs.\n",
    "* You do not need to gather the tweets beyond August 1st, 2017. You can, but note that you won't be able to gather the image predictions for these tweets since you don't have access to the algorithm used.\n",
    "\n"
   ]
  },
  {
   "cell_type": "code",
   "execution_count": 3,
   "metadata": {},
   "outputs": [
    {
     "name": "stdout",
     "output_type": "stream",
     "text": [
      "Twitter Archive Info:\n",
      "<class 'pandas.core.frame.DataFrame'>\n",
      "RangeIndex: 2356 entries, 0 to 2355\n",
      "Data columns (total 17 columns):\n",
      "tweet_id                      2356 non-null int64\n",
      "in_reply_to_status_id         78 non-null float64\n",
      "in_reply_to_user_id           78 non-null float64\n",
      "timestamp                     2356 non-null object\n",
      "source                        2356 non-null object\n",
      "text                          2356 non-null object\n",
      "retweeted_status_id           181 non-null float64\n",
      "retweeted_status_user_id      181 non-null float64\n",
      "retweeted_status_timestamp    181 non-null object\n",
      "expanded_urls                 2297 non-null object\n",
      "rating_numerator              2356 non-null int64\n",
      "rating_denominator            2356 non-null int64\n",
      "name                          2356 non-null object\n",
      "doggo                         2356 non-null object\n",
      "floofer                       2356 non-null object\n",
      "pupper                        2356 non-null object\n",
      "puppo                         2356 non-null object\n",
      "dtypes: float64(4), int64(3), object(10)\n",
      "memory usage: 313.0+ KB\n",
      "None\n",
      "\n",
      "Image Predictions Info:\n",
      "<class 'pandas.core.frame.DataFrame'>\n",
      "RangeIndex: 2075 entries, 0 to 2074\n",
      "Data columns (total 12 columns):\n",
      "tweet_id    2075 non-null int64\n",
      "jpg_url     2075 non-null object\n",
      "img_num     2075 non-null int64\n",
      "p1          2075 non-null object\n",
      "p1_conf     2075 non-null float64\n",
      "p1_dog      2075 non-null bool\n",
      "p2          2075 non-null object\n",
      "p2_conf     2075 non-null float64\n",
      "p2_dog      2075 non-null bool\n",
      "p3          2075 non-null object\n",
      "p3_conf     2075 non-null float64\n",
      "p3_dog      2075 non-null bool\n",
      "dtypes: bool(3), float64(3), int64(2), object(4)\n",
      "memory usage: 152.1+ KB\n",
      "None\n",
      "\n",
      "Tweet Data Info:\n",
      "<class 'pandas.core.frame.DataFrame'>\n",
      "RangeIndex: 2354 entries, 0 to 2353\n",
      "Data columns (total 31 columns):\n",
      "contributors                     0 non-null float64\n",
      "coordinates                      0 non-null float64\n",
      "created_at                       2354 non-null datetime64[ns]\n",
      "display_text_range               2354 non-null object\n",
      "entities                         2354 non-null object\n",
      "extended_entities                2073 non-null object\n",
      "favorite_count                   2354 non-null int64\n",
      "favorited                        2354 non-null bool\n",
      "full_text                        2354 non-null object\n",
      "geo                              0 non-null float64\n",
      "id                               2354 non-null int64\n",
      "id_str                           2354 non-null int64\n",
      "in_reply_to_screen_name          78 non-null object\n",
      "in_reply_to_status_id            78 non-null float64\n",
      "in_reply_to_status_id_str        78 non-null float64\n",
      "in_reply_to_user_id              78 non-null float64\n",
      "in_reply_to_user_id_str          78 non-null float64\n",
      "is_quote_status                  2354 non-null bool\n",
      "lang                             2354 non-null object\n",
      "place                            1 non-null object\n",
      "possibly_sensitive               2211 non-null float64\n",
      "possibly_sensitive_appealable    2211 non-null float64\n",
      "quoted_status                    28 non-null object\n",
      "quoted_status_id                 29 non-null float64\n",
      "quoted_status_id_str             29 non-null float64\n",
      "retweet_count                    2354 non-null int64\n",
      "retweeted                        2354 non-null bool\n",
      "retweeted_status                 179 non-null object\n",
      "source                           2354 non-null object\n",
      "truncated                        2354 non-null bool\n",
      "user                             2354 non-null object\n",
      "dtypes: bool(4), datetime64[ns](1), float64(11), int64(4), object(11)\n",
      "memory usage: 505.8+ KB\n",
      "None\n",
      "\n",
      "Twitter Archive Sample:\n",
      "             tweet_id  in_reply_to_status_id  in_reply_to_user_id  \\\n",
      "0  892420643555336193                    NaN                  NaN   \n",
      "1  892177421306343426                    NaN                  NaN   \n",
      "2  891815181378084864                    NaN                  NaN   \n",
      "3  891689557279858688                    NaN                  NaN   \n",
      "4  891327558926688256                    NaN                  NaN   \n",
      "\n",
      "                   timestamp  \\\n",
      "0  2017-08-01 16:23:56 +0000   \n",
      "1  2017-08-01 00:17:27 +0000   \n",
      "2  2017-07-31 00:18:03 +0000   \n",
      "3  2017-07-30 15:58:51 +0000   \n",
      "4  2017-07-29 16:00:24 +0000   \n",
      "\n",
      "                                              source  \\\n",
      "0  <a href=\"http://twitter.com/download/iphone\" r...   \n",
      "1  <a href=\"http://twitter.com/download/iphone\" r...   \n",
      "2  <a href=\"http://twitter.com/download/iphone\" r...   \n",
      "3  <a href=\"http://twitter.com/download/iphone\" r...   \n",
      "4  <a href=\"http://twitter.com/download/iphone\" r...   \n",
      "\n",
      "                                                text  retweeted_status_id  \\\n",
      "0  This is Phineas. He's a mystical boy. Only eve...                  NaN   \n",
      "1  This is Tilly. She's just checking pup on you....                  NaN   \n",
      "2  This is Archie. He is a rare Norwegian Pouncin...                  NaN   \n",
      "3  This is Darla. She commenced a snooze mid meal...                  NaN   \n",
      "4  This is Franklin. He would like you to stop ca...                  NaN   \n",
      "\n",
      "   retweeted_status_user_id retweeted_status_timestamp  \\\n",
      "0                       NaN                        NaN   \n",
      "1                       NaN                        NaN   \n",
      "2                       NaN                        NaN   \n",
      "3                       NaN                        NaN   \n",
      "4                       NaN                        NaN   \n",
      "\n",
      "                                       expanded_urls  rating_numerator  \\\n",
      "0  https://twitter.com/dog_rates/status/892420643...                13   \n",
      "1  https://twitter.com/dog_rates/status/892177421...                13   \n",
      "2  https://twitter.com/dog_rates/status/891815181...                12   \n",
      "3  https://twitter.com/dog_rates/status/891689557...                13   \n",
      "4  https://twitter.com/dog_rates/status/891327558...                12   \n",
      "\n",
      "   rating_denominator      name doggo floofer pupper puppo  \n",
      "0                  10   Phineas  None    None   None  None  \n",
      "1                  10     Tilly  None    None   None  None  \n",
      "2                  10    Archie  None    None   None  None  \n",
      "3                  10     Darla  None    None   None  None  \n",
      "4                  10  Franklin  None    None   None  None  \n",
      "\n",
      "Image Predictions Sample:\n",
      "             tweet_id                                          jpg_url  \\\n",
      "0  666020888022790149  https://pbs.twimg.com/media/CT4udn0WwAA0aMy.jpg   \n",
      "1  666029285002620928  https://pbs.twimg.com/media/CT42GRgUYAA5iDo.jpg   \n",
      "2  666033412701032449  https://pbs.twimg.com/media/CT4521TWwAEvMyu.jpg   \n",
      "3  666044226329800704  https://pbs.twimg.com/media/CT5Dr8HUEAA-lEu.jpg   \n",
      "4  666049248165822465  https://pbs.twimg.com/media/CT5IQmsXIAAKY4A.jpg   \n",
      "\n",
      "   img_num                      p1   p1_conf  p1_dog                  p2  \\\n",
      "0        1  Welsh_springer_spaniel  0.465074    True              collie   \n",
      "1        1                 redbone  0.506826    True  miniature_pinscher   \n",
      "2        1         German_shepherd  0.596461    True            malinois   \n",
      "3        1     Rhodesian_ridgeback  0.408143    True             redbone   \n",
      "4        1      miniature_pinscher  0.560311    True          Rottweiler   \n",
      "\n",
      "    p2_conf  p2_dog                   p3   p3_conf  p3_dog  \n",
      "0  0.156665    True    Shetland_sheepdog  0.061428    True  \n",
      "1  0.074192    True  Rhodesian_ridgeback  0.072010    True  \n",
      "2  0.138584    True           bloodhound  0.116197    True  \n",
      "3  0.360687    True   miniature_pinscher  0.222752    True  \n",
      "4  0.243682    True             Doberman  0.154629    True  \n",
      "\n",
      "Tweet Data Sample:\n",
      "   contributors  coordinates          created_at display_text_range  \\\n",
      "0           NaN          NaN 2017-08-01 16:23:56            [0, 85]   \n",
      "1           NaN          NaN 2017-08-01 00:17:27           [0, 138]   \n",
      "2           NaN          NaN 2017-07-31 00:18:03           [0, 121]   \n",
      "3           NaN          NaN 2017-07-30 15:58:51            [0, 79]   \n",
      "4           NaN          NaN 2017-07-29 16:00:24           [0, 138]   \n",
      "\n",
      "                                            entities  \\\n",
      "0  {'hashtags': [], 'symbols': [], 'user_mentions...   \n",
      "1  {'hashtags': [], 'symbols': [], 'user_mentions...   \n",
      "2  {'hashtags': [], 'symbols': [], 'user_mentions...   \n",
      "3  {'hashtags': [], 'symbols': [], 'user_mentions...   \n",
      "4  {'hashtags': [{'text': 'BarkWeek', 'indices': ...   \n",
      "\n",
      "                                   extended_entities  favorite_count  \\\n",
      "0  {'media': [{'id': 892420639486877696, 'id_str'...           39467   \n",
      "1  {'media': [{'id': 892177413194625024, 'id_str'...           33819   \n",
      "2  {'media': [{'id': 891815175371796480, 'id_str'...           25461   \n",
      "3  {'media': [{'id': 891689552724799489, 'id_str'...           42908   \n",
      "4  {'media': [{'id': 891327551943041024, 'id_str'...           41048   \n",
      "\n",
      "   favorited                                          full_text  geo  \\\n",
      "0      False  This is Phineas. He's a mystical boy. Only eve...  NaN   \n",
      "1      False  This is Tilly. She's just checking pup on you....  NaN   \n",
      "2      False  This is Archie. He is a rare Norwegian Pouncin...  NaN   \n",
      "3      False  This is Darla. She commenced a snooze mid meal...  NaN   \n",
      "4      False  This is Franklin. He would like you to stop ca...  NaN   \n",
      "\n",
      "                         ...                          \\\n",
      "0                        ...                           \n",
      "1                        ...                           \n",
      "2                        ...                           \n",
      "3                        ...                           \n",
      "4                        ...                           \n",
      "\n",
      "   possibly_sensitive_appealable  quoted_status quoted_status_id  \\\n",
      "0                            0.0            NaN              NaN   \n",
      "1                            0.0            NaN              NaN   \n",
      "2                            0.0            NaN              NaN   \n",
      "3                            0.0            NaN              NaN   \n",
      "4                            0.0            NaN              NaN   \n",
      "\n",
      "   quoted_status_id_str  retweet_count  retweeted  retweeted_status  \\\n",
      "0                   NaN           8853      False               NaN   \n",
      "1                   NaN           6514      False               NaN   \n",
      "2                   NaN           4328      False               NaN   \n",
      "3                   NaN           8964      False               NaN   \n",
      "4                   NaN           9774      False               NaN   \n",
      "\n",
      "                                              source truncated  \\\n",
      "0  <a href=\"http://twitter.com/download/iphone\" r...     False   \n",
      "1  <a href=\"http://twitter.com/download/iphone\" r...     False   \n",
      "2  <a href=\"http://twitter.com/download/iphone\" r...     False   \n",
      "3  <a href=\"http://twitter.com/download/iphone\" r...     False   \n",
      "4  <a href=\"http://twitter.com/download/iphone\" r...     False   \n",
      "\n",
      "                                                user  \n",
      "0  {'id': 4196983835, 'id_str': '4196983835', 'na...  \n",
      "1  {'id': 4196983835, 'id_str': '4196983835', 'na...  \n",
      "2  {'id': 4196983835, 'id_str': '4196983835', 'na...  \n",
      "3  {'id': 4196983835, 'id_str': '4196983835', 'na...  \n",
      "4  {'id': 4196983835, 'id_str': '4196983835', 'na...  \n",
      "\n",
      "[5 rows x 31 columns]\n"
     ]
    }
   ],
   "source": [
    "# Load the provided data\n",
    "archive_df = pd.read_csv('twitter_archive_enhanced.csv')\n",
    "image_predictions_df = pd.read_csv('image-predictions.tsv', sep=';')\n",
    "tweet_data_df = pd.read_json('tweet-json.txt', lines=True)\n",
    "\n",
    "# Display the basic information of each dataset\n",
    "print(\"Twitter Archive Info:\")\n",
    "print(archive_df.info())\n",
    "print(\"\\nImage Predictions Info:\")\n",
    "print(image_predictions_df.info())\n",
    "print(\"\\nTweet Data Info:\")\n",
    "print(tweet_data_df.info())\n",
    "\n",
    "# Visual assessment: Display the first few rows of each dataset\n",
    "print(\"\\nTwitter Archive Sample:\")\n",
    "print(archive_df.head())\n",
    "print(\"\\nImage Predictions Sample:\")\n",
    "print(image_predictions_df.head())\n",
    "print(\"\\nTweet Data Sample:\")\n",
    "print(tweet_data_df.head())"
   ]
  },
  {
   "cell_type": "code",
   "execution_count": 4,
   "metadata": {},
   "outputs": [
    {
     "name": "stdout",
     "output_type": "stream",
     "text": [
      "\n",
      "Number of missing values in 'in_reply_to_status_id': 2278\n",
      "Number of missing values in 'in_reply_to_user_id': 2278\n"
     ]
    }
   ],
   "source": [
    "# Quality Issues\n",
    "\n",
    "# Missing Values in 'in_reply_to_status_id' and 'in_reply_to_user_id'\n",
    "print(\"\\nNumber of missing values in 'in_reply_to_status_id':\", archive_df['in_reply_to_status_id'].isnull().sum())\n",
    "print(\"Number of missing values in 'in_reply_to_user_id':\", archive_df['in_reply_to_user_id'].isnull().sum())"
   ]
  },
  {
   "cell_type": "code",
   "execution_count": 5,
   "metadata": {},
   "outputs": [
    {
     "name": "stdout",
     "output_type": "stream",
     "text": [
      "\n",
      "Data type of 'timestamp': object\n"
     ]
    }
   ],
   "source": [
    "# Incorrect Data Type for 'timestamp'\n",
    "print(\"\\nData type of 'timestamp':\", archive_df['timestamp'].dtype)"
   ]
  },
  {
   "cell_type": "code",
   "execution_count": 6,
   "metadata": {},
   "outputs": [
    {
     "name": "stdout",
     "output_type": "stream",
     "text": [
      "\n",
      "Invalid dog names:\n",
      "['such' 'a' 'quite' 'not' 'one' 'incredibly' 'mad' 'an' 'very' 'just' 'my'\n",
      " 'his' 'actually' 'getting' 'this' 'unacceptable' 'all' 'old' 'infuriating'\n",
      " 'the' 'by' 'officially' 'life' 'light' 'space']\n"
     ]
    }
   ],
   "source": [
    "# Invalid Dog Names\n",
    "print(\"\\nInvalid dog names:\")\n",
    "print(archive_df[archive_df['name'].str.islower()]['name'].unique())"
   ]
  },
  {
   "cell_type": "code",
   "execution_count": 7,
   "metadata": {},
   "outputs": [
    {
     "name": "stdout",
     "output_type": "stream",
     "text": [
      "\n",
      "Number of missing 'expanded_urls': 59\n"
     ]
    }
   ],
   "source": [
    "# Missing Expanded URLs\n",
    "print(\"\\nNumber of missing 'expanded_urls':\", archive_df['expanded_urls'].isnull().sum())"
   ]
  },
  {
   "cell_type": "code",
   "execution_count": 8,
   "metadata": {},
   "outputs": [
    {
     "name": "stdout",
     "output_type": "stream",
     "text": [
      "\n",
      "Number of duplicated 'jpg_url' in Image Predictions: 66\n"
     ]
    }
   ],
   "source": [
    "# Duplicated 'jpg_url' in Image Predictions\n",
    "print(\"\\nNumber of duplicated 'jpg_url' in Image Predictions:\", image_predictions_df['jpg_url'].duplicated().sum())"
   ]
  },
  {
   "cell_type": "code",
   "execution_count": 9,
   "metadata": {},
   "outputs": [
    {
     "name": "stdout",
     "output_type": "stream",
     "text": [
      "\n",
      "Inconsistent 'rating_denominator' values:\n",
      "10     2333\n",
      "11        3\n",
      "50        3\n",
      "80        2\n",
      "20        2\n",
      "2         1\n",
      "16        1\n",
      "40        1\n",
      "70        1\n",
      "15        1\n",
      "90        1\n",
      "110       1\n",
      "120       1\n",
      "130       1\n",
      "150       1\n",
      "170       1\n",
      "7         1\n",
      "0         1\n",
      "Name: rating_denominator, dtype: int64\n"
     ]
    }
   ],
   "source": [
    "# Inconsistent Rating Denominator Values\n",
    "print(\"\\nInconsistent 'rating_denominator' values:\")\n",
    "print(archive_df['rating_denominator'].value_counts())"
   ]
  },
  {
   "cell_type": "code",
   "execution_count": 10,
   "metadata": {},
   "outputs": [
    {
     "name": "stdout",
     "output_type": "stream",
     "text": [
      "<class 'pandas.core.frame.DataFrame'>\n",
      "RangeIndex: 2354 entries, 0 to 2353\n",
      "Data columns (total 31 columns):\n",
      "contributors                     0 non-null float64\n",
      "coordinates                      0 non-null float64\n",
      "created_at                       2354 non-null datetime64[ns]\n",
      "display_text_range               2354 non-null object\n",
      "entities                         2354 non-null object\n",
      "extended_entities                2073 non-null object\n",
      "favorite_count                   2354 non-null int64\n",
      "favorited                        2354 non-null bool\n",
      "full_text                        2354 non-null object\n",
      "geo                              0 non-null float64\n",
      "id                               2354 non-null int64\n",
      "id_str                           2354 non-null int64\n",
      "in_reply_to_screen_name          78 non-null object\n",
      "in_reply_to_status_id            78 non-null float64\n",
      "in_reply_to_status_id_str        78 non-null float64\n",
      "in_reply_to_user_id              78 non-null float64\n",
      "in_reply_to_user_id_str          78 non-null float64\n",
      "is_quote_status                  2354 non-null bool\n",
      "lang                             2354 non-null object\n",
      "place                            1 non-null object\n",
      "possibly_sensitive               2211 non-null float64\n",
      "possibly_sensitive_appealable    2211 non-null float64\n",
      "quoted_status                    28 non-null object\n",
      "quoted_status_id                 29 non-null float64\n",
      "quoted_status_id_str             29 non-null float64\n",
      "retweet_count                    2354 non-null int64\n",
      "retweeted                        2354 non-null bool\n",
      "retweeted_status                 179 non-null object\n",
      "source                           2354 non-null object\n",
      "truncated                        2354 non-null bool\n",
      "user                             2354 non-null object\n",
      "dtypes: bool(4), datetime64[ns](1), float64(11), int64(4), object(11)\n",
      "memory usage: 505.8+ KB\n"
     ]
    }
   ],
   "source": [
    "# Column tweet_id is column id in tweet_data_dataframe\n",
    "tweet_data_df.info()"
   ]
  },
  {
   "cell_type": "code",
   "execution_count": 11,
   "metadata": {},
   "outputs": [
    {
     "name": "stdout",
     "output_type": "stream",
     "text": [
      "<class 'pandas.core.frame.DataFrame'>\n",
      "RangeIndex: 2354 entries, 0 to 2353\n",
      "Data columns (total 31 columns):\n",
      "contributors                     0 non-null float64\n",
      "coordinates                      0 non-null float64\n",
      "created_at                       2354 non-null datetime64[ns]\n",
      "display_text_range               2354 non-null object\n",
      "entities                         2354 non-null object\n",
      "extended_entities                2073 non-null object\n",
      "favorite_count                   2354 non-null int64\n",
      "favorited                        2354 non-null bool\n",
      "full_text                        2354 non-null object\n",
      "geo                              0 non-null float64\n",
      "id                               2354 non-null int64\n",
      "id_str                           2354 non-null int64\n",
      "in_reply_to_screen_name          78 non-null object\n",
      "in_reply_to_status_id            78 non-null float64\n",
      "in_reply_to_status_id_str        78 non-null float64\n",
      "in_reply_to_user_id              78 non-null float64\n",
      "in_reply_to_user_id_str          78 non-null float64\n",
      "is_quote_status                  2354 non-null bool\n",
      "lang                             2354 non-null object\n",
      "place                            1 non-null object\n",
      "possibly_sensitive               2211 non-null float64\n",
      "possibly_sensitive_appealable    2211 non-null float64\n",
      "quoted_status                    28 non-null object\n",
      "quoted_status_id                 29 non-null float64\n",
      "quoted_status_id_str             29 non-null float64\n",
      "retweet_count                    2354 non-null int64\n",
      "retweeted                        2354 non-null bool\n",
      "retweeted_status                 179 non-null object\n",
      "source                           2354 non-null object\n",
      "truncated                        2354 non-null bool\n",
      "user                             2354 non-null object\n",
      "dtypes: bool(4), datetime64[ns](1), float64(11), int64(4), object(11)\n",
      "memory usage: 505.8+ KB\n"
     ]
    }
   ],
   "source": [
    "# retweets and replies in the dataset \n",
    "tweet_data_df.info()"
   ]
  },
  {
   "cell_type": "code",
   "execution_count": 12,
   "metadata": {},
   "outputs": [
    {
     "name": "stdout",
     "output_type": "stream",
     "text": [
      "\n",
      "Columns related to dog stages:\n",
      "  doggo floofer pupper puppo\n",
      "0  None    None   None  None\n",
      "1  None    None   None  None\n",
      "2  None    None   None  None\n",
      "3  None    None   None  None\n",
      "4  None    None   None  None\n"
     ]
    }
   ],
   "source": [
    "# Tidiness Issues\n",
    "\n",
    "# Multiple Dog Stages Columns\n",
    "print(\"\\nColumns related to dog stages:\")\n",
    "print(archive_df[['doggo', 'floofer', 'pupper', 'puppo']].head())"
   ]
  },
  {
   "cell_type": "code",
   "execution_count": 13,
   "metadata": {},
   "outputs": [
    {
     "name": "stdout",
     "output_type": "stream",
     "text": [
      "\n",
      "Dog stages counts:\n",
      "None     2259\n",
      "doggo      97\n",
      "Name: doggo, dtype: int64\n",
      "None       2346\n",
      "floofer      10\n",
      "Name: floofer, dtype: int64\n",
      "None      2099\n",
      "pupper     257\n",
      "Name: pupper, dtype: int64\n",
      "None     2326\n",
      "puppo      30\n",
      "Name: puppo, dtype: int64\n"
     ]
    }
   ],
   "source": [
    "# Inconsistent Dog Stages\n",
    "print(\"\\nDog stages counts:\")\n",
    "print(archive_df['doggo'].value_counts())\n",
    "print(archive_df['floofer'].value_counts())\n",
    "print(archive_df['pupper'].value_counts())\n",
    "print(archive_df['puppo'].value_counts())"
   ]
  },
  {
   "cell_type": "code",
   "execution_count": 14,
   "metadata": {},
   "outputs": [],
   "source": [
    "# Merge Tweet Information from Image Predictions"
   ]
  },
  {
   "cell_type": "code",
   "execution_count": 15,
   "metadata": {},
   "outputs": [
    {
     "name": "stdout",
     "output_type": "stream",
     "text": [
      "\n",
      "Tweet IDs not common in both datasets: {888202515573088257, 771004394259247104}\n"
     ]
    }
   ],
   "source": [
    "# Find 'tweet_id' values that are not common in both datasets\n",
    "not_common_tweet_ids = set(archive_df['tweet_id']).symmetric_difference(set(tweet_data_df['id']))\n",
    "\n",
    "# Print the results\n",
    "print(\"\\nTweet IDs not common in both datasets:\", not_common_tweet_ids)"
   ]
  },
  {
   "cell_type": "code",
   "execution_count": 16,
   "metadata": {},
   "outputs": [
    {
     "name": "stdout",
     "output_type": "stream",
     "text": [
      "\n",
      "Tweet IDs not common in both datasets: {747651430853525504, 742534281772302336, 847617282490613760, 843981021012017153, 778774459159379968, 835536468978302976, 710609963652087808, 676916996760600576, 863471782782697472, 712309440758808576, 827228250799742977, 878404777348136964, 717428917016076293, 866720684873056260, 777953400541634568, 746521445350707200, 789903600034189313, 838201503651401729, 769335591808995329, 752568224206688256, 677335745548390400, 683515932363329536, 825120256414846976, 771908950375665664, 678023323247357953, 696490539101908992, 832088576586297345, 835685285446955009, 818307523543449600, 820494788566847489, 789314372632018944, 876537666061221889, 679405845277462528, 685681090388975616, 676590572941893632, 832682457690300417, 828361771580813312, 697516214579523584, 682808988178739200, 693993230313091072, 789280767834746880, 786729988674449408, 696518437233913856, 697630435728322560, 693644216740769793, 689993469801164801, 791784077045166082, 780092040432480260, 673716320723169284, 727155742655025152, 686760001961103360, 845459076796616705, 691793053716221953, 684830982659280897, 748337862848962560, 886054160059072513, 799308762079035393, 847978865427394560, 714485234495041536, 848213670039564288, 699060279947165696, 852936405516943360, 687841446767013888, 692041934689402880, 885518971528720385, 884247878851493888, 681340665377193984, 686286779679375361, 715704790270025728, 696744641916489729, 690607260360429569, 693267061318012928, 881633300179243008, 849668094696017920, 846139713627017216, 708853462201716736, 706169069255446529, 696100768806522880, 879130579576475649, 702899151802126337, 707629649552134146, 693582294167244802, 855857698524602368, 855818117272018944, 855245323840757760, 763167063695355904, 832215909146226688, 704491224099647488, 766714921925144576, 776249906839351296, 820013781606658049, 773336787167145985, 798585098161549313, 752701944171524096, 798701998996647937, 798705661114773508, 790227638568808452, 701805642395348998, 734559631394082816, 760153949710192640, 759446261539934208, 798682547630837760, 706153300320784384, 713909862279876608, 704134088924532736, 780074436359819264, 778764940568104960, 690348396616552449, 801127390143516673, 816062466425819140, 800859414831898624, 784057939640352768, 800188575492947969, 824025158776213504, 858860390427611136, 856330835276025856, 856288084350160898, 855862651834028034, 831926988323639298, 750381685133418496, 826615380357632002, 832645525019123713, 775096608509886464, 709179584944730112, 686035780142297088, 708400866336894977, 806576416489959424, 869988702071779329, 850333567704068097, 791821351946420224, 873337748698140672, 855138241867124737, 787111942498508800, 775350846108426240, 871102520638267392, 875097192612077568, 878316110768087041, 833732339549220864, 860177593139703809, 857062103051644929, 860981674716409858, 675849018447167488, 863427515083354112, 798686750113755136, 766864461642756096, 689255633275777024, 760521673607086080, 838150277551247360, 817908911860748288, 786051337297522688, 878604707211726852, 716447146686459905, 684969860808454144, 763956972077010945, 857214891891077121, 686394059078897668, 815745968457060357, 836648853927522308, 674606911342424069, 836397794269200385, 838831947270979586, 779124354206535695, 680805554198020098, 828801551087042563, 823719002937630720, 746757706116112384, 753039830821511168, 676593408224403456, 744223424764059648, 747242308580548608, 715758151270801409, 707738799544082433, 674307341513269249, 684147889187209216, 682088079302213632, 806620845233815552, 818646164899774465, 796125600683540480, 687399393394311168, 821153421864615936, 838085839343206401, 826598799820865537, 802600418706604034, 741099773336379392, 749075273010798592, 834089966724603904, 747439450712596480, 679872969355714560, 791774931465953280, 786286427768250368, 753298634498793472, 694342028726001664, 738891149612572673, 725458796924002305, 830173239259324417, 770743923962707968, 817502432452313088, 840728873075638272, 752932432744185856, 751793661361422336, 819238181065359361, 789960241177853952, 840698636975636481, 785515384317313025, 739623569819336705, 768554158521745409, 692423280028966913, 835309094223372289, 841320156043304961, 746542875601690625, 674330906434379776, 669684865554620416, 677961670166224897, 667070482143944705, 840761248237133825, 710296729921429505, 745074613265149952, 855860136149123072, 702332542343577600, 714962719905021952, 747648653817413632, 781655249211752448, 835246439529840640, 872668790621863937, 674742531037511680, 684588130326986752, 706904523814649856, 716730379797970944, 687732144991551489, 694925794720792577, 886267009285017600, 846505985330044928, 707983188426153984, 671550332464455680, 668587383441514497, 845098359547420673, 690989312272396288, 758099635764359168, 823333489516937216, 679001094530465792, 800855607700029440, 678708137298427904, 808344865868283904, 801854953262350336, 802185808107208704, 834477809192075265, 804475857670639616, 821421320206483457, 796904159865868288, 796563435802726400, 668967877119254528, 743835915802583040, 736392552031657984, 748220828303695873, 812747805718642688, 811647686436880384, 676121918416756736, 871166179821445120, 870726314365509632, 866094527597207552, 788552643979468800, 784183165795655680, 751950017322246144, 791780927877898241, 781308096455073793, 759943073749200896, 768909767477751808, 797165961484890113, 866816280283807744, 822163064745328640, 798576900688019456, 814578408554463233, 805823200554876929, 803321560782307329, 856602993587888130, 879674319642796034, 874434818259525634, 838952994649550848, 820837357901512704, 813130366689148928, 868639477480148993}\n"
     ]
    }
   ],
   "source": [
    "# Find 'tweet_id' values that are not common in both datasets\n",
    "not_common_tweet_ids = set(archive_df['tweet_id']).symmetric_difference(set(image_predictions_df['tweet_id']))\n",
    "\n",
    "# Print the results\n",
    "print(\"\\nTweet IDs not common in both datasets:\", not_common_tweet_ids)"
   ]
  },
  {
   "cell_type": "markdown",
   "metadata": {
    "extensions": {
     "jupyter_dashboards": {
      "version": 1,
      "views": {
       "grid_default": {
        "col": 4,
        "height": 4,
        "hidden": false,
        "row": 32,
        "width": 4
       },
       "report_default": {
        "hidden": false
       }
      }
     }
    }
   },
   "source": [
    "## Cleaning Data\n",
    "In this section, clean **all** of the issues you documented while assessing. \n",
    "\n",
    "**Note:** Make a copy of the original data before cleaning. Cleaning includes merging individual pieces of data according to the rules of [tidy data](https://cran.r-project.org/web/packages/tidyr/vignettes/tidy-data.html). The result should be a high-quality and tidy master pandas DataFrame (or DataFrames, if appropriate)."
   ]
  },
  {
   "cell_type": "code",
   "execution_count": 17,
   "metadata": {},
   "outputs": [],
   "source": [
    "import pandas as pd\n",
    "\n",
    "# Make copies of the original dataframes\n",
    "cleaned_archive_df = archive_df.copy()\n",
    "cleaned_image_predictions_df = image_predictions_df.copy()\n",
    "cleaned_tweet_data_df = tweet_data_df.copy()"
   ]
  },
  {
   "cell_type": "markdown",
   "metadata": {},
   "source": [
    "# Quality Issues\n",
    "\n",
    "### Issue 1:\n",
    "Define: \n",
    "Missing Values in in_reply_to_status_id and in_reply_to_user_id --> Drop columns, because they do not include any information\n",
    "\n",
    "Code:"
   ]
  },
  {
   "cell_type": "code",
   "execution_count": 18,
   "metadata": {},
   "outputs": [],
   "source": [
    "# Quality Issues\n",
    "\n",
    "# 1. Missing Values in 'in_reply_to_status_id' and 'in_reply_to_user_id'\n",
    "# Assuming df is your DataFrame\n",
    "cleaned_archive_df = cleaned_archive_df.drop(['in_reply_to_status_id', 'in_reply_to_user_id'], axis=1)"
   ]
  },
  {
   "cell_type": "markdown",
   "metadata": {},
   "source": [
    "Test:"
   ]
  },
  {
   "cell_type": "code",
   "execution_count": 19,
   "metadata": {},
   "outputs": [
    {
     "name": "stdout",
     "output_type": "stream",
     "text": [
      "<class 'pandas.core.frame.DataFrame'>\n",
      "RangeIndex: 2356 entries, 0 to 2355\n",
      "Data columns (total 15 columns):\n",
      "tweet_id                      2356 non-null int64\n",
      "timestamp                     2356 non-null object\n",
      "source                        2356 non-null object\n",
      "text                          2356 non-null object\n",
      "retweeted_status_id           181 non-null float64\n",
      "retweeted_status_user_id      181 non-null float64\n",
      "retweeted_status_timestamp    181 non-null object\n",
      "expanded_urls                 2297 non-null object\n",
      "rating_numerator              2356 non-null int64\n",
      "rating_denominator            2356 non-null int64\n",
      "name                          2356 non-null object\n",
      "doggo                         2356 non-null object\n",
      "floofer                       2356 non-null object\n",
      "pupper                        2356 non-null object\n",
      "puppo                         2356 non-null object\n",
      "dtypes: float64(2), int64(3), object(10)\n",
      "memory usage: 276.2+ KB\n"
     ]
    }
   ],
   "source": [
    "# test\n",
    "cleaned_archive_df.info()"
   ]
  },
  {
   "cell_type": "markdown",
   "metadata": {},
   "source": [
    "### Issue 2:\n",
    "\n",
    "Define: Incorrect Data Type for 'timestamp'\n",
    "\n",
    "Code"
   ]
  },
  {
   "cell_type": "code",
   "execution_count": 20,
   "metadata": {},
   "outputs": [],
   "source": [
    "# 2. Incorrect Data Type for 'timestamp'\n",
    "cleaned_archive_df['timestamp'] = pd.to_datetime(cleaned_archive_df['timestamp'])"
   ]
  },
  {
   "cell_type": "markdown",
   "metadata": {},
   "source": [
    "Test:"
   ]
  },
  {
   "cell_type": "code",
   "execution_count": 21,
   "metadata": {},
   "outputs": [
    {
     "name": "stdout",
     "output_type": "stream",
     "text": [
      "\n",
      "Data type of 'timestamp': datetime64[ns]\n"
     ]
    }
   ],
   "source": [
    "# test\n",
    "print(\"\\nData type of 'timestamp':\", cleaned_archive_df['timestamp'].dtype)"
   ]
  },
  {
   "cell_type": "markdown",
   "metadata": {},
   "source": [
    "### Issue 3:\n",
    "\n",
    "Define: Invalid Dog Names\n",
    "\n",
    "Code"
   ]
  },
  {
   "cell_type": "code",
   "execution_count": 22,
   "metadata": {},
   "outputs": [],
   "source": [
    "# 3. Invalid Dog Names\n",
    "cleaned_archive_df['name'].replace(['a', 'an', 'the'], None, inplace=True)"
   ]
  },
  {
   "cell_type": "markdown",
   "metadata": {},
   "source": [
    "Test"
   ]
  },
  {
   "cell_type": "code",
   "execution_count": 23,
   "metadata": {},
   "outputs": [
    {
     "name": "stdout",
     "output_type": "stream",
     "text": [
      "\n",
      "Invalid dog names:\n",
      "['such' 'quite' 'not' 'one' 'incredibly' 'mad' 'very' 'just' 'my' 'his'\n",
      " 'actually' 'getting' 'this' 'unacceptable' 'all' 'old' 'infuriating' 'by'\n",
      " 'officially' 'life' 'light' 'space']\n"
     ]
    }
   ],
   "source": [
    "# test\n",
    "print(\"\\nInvalid dog names:\")\n",
    "print(cleaned_archive_df[cleaned_archive_df['name'].str.islower()]['name'].unique())"
   ]
  },
  {
   "cell_type": "markdown",
   "metadata": {},
   "source": [
    "### Issue 4:\n",
    "\n",
    "Define: retweets and replies in the dataset\n",
    "\n",
    "Code"
   ]
  },
  {
   "cell_type": "code",
   "execution_count": 24,
   "metadata": {},
   "outputs": [],
   "source": [
    "cleaned_tweet_data_df = cleaned_tweet_data_df[cleaned_tweet_data_df['in_reply_to_status_id'].isna()]\n",
    "cleaned_archive_df = cleaned_archive_df[cleaned_archive_df['retweeted_status_id'].isna()]"
   ]
  },
  {
   "cell_type": "markdown",
   "metadata": {},
   "source": [
    "Test"
   ]
  },
  {
   "cell_type": "code",
   "execution_count": 25,
   "metadata": {},
   "outputs": [
    {
     "name": "stdout",
     "output_type": "stream",
     "text": [
      "<class 'pandas.core.frame.DataFrame'>\n",
      "Int64Index: 2276 entries, 0 to 2353\n",
      "Data columns (total 31 columns):\n",
      "contributors                     0 non-null float64\n",
      "coordinates                      0 non-null float64\n",
      "created_at                       2276 non-null datetime64[ns]\n",
      "display_text_range               2276 non-null object\n",
      "entities                         2276 non-null object\n",
      "extended_entities                2050 non-null object\n",
      "favorite_count                   2276 non-null int64\n",
      "favorited                        2276 non-null bool\n",
      "full_text                        2276 non-null object\n",
      "geo                              0 non-null float64\n",
      "id                               2276 non-null int64\n",
      "id_str                           2276 non-null int64\n",
      "in_reply_to_screen_name          0 non-null object\n",
      "in_reply_to_status_id            0 non-null float64\n",
      "in_reply_to_status_id_str        0 non-null float64\n",
      "in_reply_to_user_id              0 non-null float64\n",
      "in_reply_to_user_id_str          0 non-null float64\n",
      "is_quote_status                  2276 non-null bool\n",
      "lang                             2276 non-null object\n",
      "place                            1 non-null object\n",
      "possibly_sensitive               2188 non-null float64\n",
      "possibly_sensitive_appealable    2188 non-null float64\n",
      "quoted_status                    28 non-null object\n",
      "quoted_status_id                 29 non-null float64\n",
      "quoted_status_id_str             29 non-null float64\n",
      "retweet_count                    2276 non-null int64\n",
      "retweeted                        2276 non-null bool\n",
      "retweeted_status                 179 non-null object\n",
      "source                           2276 non-null object\n",
      "truncated                        2276 non-null bool\n",
      "user                             2276 non-null object\n",
      "dtypes: bool(4), datetime64[ns](1), float64(11), int64(4), object(11)\n",
      "memory usage: 506.8+ KB\n",
      "<class 'pandas.core.frame.DataFrame'>\n",
      "Int64Index: 2175 entries, 0 to 2355\n",
      "Data columns (total 15 columns):\n",
      "tweet_id                      2175 non-null int64\n",
      "timestamp                     2175 non-null datetime64[ns]\n",
      "source                        2175 non-null object\n",
      "text                          2175 non-null object\n",
      "retweeted_status_id           0 non-null float64\n",
      "retweeted_status_user_id      0 non-null float64\n",
      "retweeted_status_timestamp    0 non-null object\n",
      "expanded_urls                 2117 non-null object\n",
      "rating_numerator              2175 non-null int64\n",
      "rating_denominator            2175 non-null int64\n",
      "name                          2175 non-null object\n",
      "doggo                         2175 non-null object\n",
      "floofer                       2175 non-null object\n",
      "pupper                        2175 non-null object\n",
      "puppo                         2175 non-null object\n",
      "dtypes: datetime64[ns](1), float64(2), int64(3), object(9)\n",
      "memory usage: 271.9+ KB\n"
     ]
    }
   ],
   "source": [
    "# retweets and replies in the dataset\n",
    "cleaned_tweet_data_df.info()\n",
    "cleaned_archive_df.info()"
   ]
  },
  {
   "cell_type": "markdown",
   "metadata": {},
   "source": [
    "### Issue 5:\n",
    "\n",
    "Define: Missing expanded urls\n",
    "\n",
    "Code"
   ]
  },
  {
   "cell_type": "code",
   "execution_count": 26,
   "metadata": {},
   "outputs": [],
   "source": [
    "# 5. Missing Expanded URLs\n",
    "cleaned_archive_df = cleaned_archive_df[~cleaned_archive_df['expanded_urls'].isnull()]"
   ]
  },
  {
   "cell_type": "markdown",
   "metadata": {},
   "source": [
    "test"
   ]
  },
  {
   "cell_type": "code",
   "execution_count": 27,
   "metadata": {},
   "outputs": [
    {
     "name": "stdout",
     "output_type": "stream",
     "text": [
      "\n",
      "Number of missing 'expanded_urls': 0\n"
     ]
    }
   ],
   "source": [
    "# Missing Expanded URLs\n",
    "print(\"\\nNumber of missing 'expanded_urls':\", cleaned_archive_df['expanded_urls'].isnull().sum())"
   ]
  },
  {
   "cell_type": "markdown",
   "metadata": {},
   "source": [
    "### Issue 6:\n",
    "\n",
    "Define: Duplicated jpg_url in Image predictions\n",
    "\n",
    "Code"
   ]
  },
  {
   "cell_type": "code",
   "execution_count": 28,
   "metadata": {},
   "outputs": [],
   "source": [
    "# 6. Duplicated 'jpg_url' in Image Predictions\n",
    "cleaned_image_predictions_df = cleaned_image_predictions_df.drop_duplicates(subset=['jpg_url'])"
   ]
  },
  {
   "cell_type": "markdown",
   "metadata": {},
   "source": [
    "test"
   ]
  },
  {
   "cell_type": "code",
   "execution_count": 29,
   "metadata": {},
   "outputs": [
    {
     "name": "stdout",
     "output_type": "stream",
     "text": [
      "\n",
      "Number of duplicated 'jpg_url' in Image Predictions: 0\n"
     ]
    }
   ],
   "source": [
    "print(\"\\nNumber of duplicated 'jpg_url' in Image Predictions:\", cleaned_image_predictions_df['jpg_url'].duplicated().sum())"
   ]
  },
  {
   "cell_type": "markdown",
   "metadata": {},
   "source": [
    "### Issue 7:\n",
    "\n",
    "Define: Inconsistent Rating Denominator Values\n",
    "\n",
    "Code"
   ]
  },
  {
   "cell_type": "code",
   "execution_count": 30,
   "metadata": {},
   "outputs": [],
   "source": [
    "# 8. Inconsistent Rating Denominator Values\n",
    "cleaned_archive_df = cleaned_archive_df[cleaned_archive_df['rating_denominator'] == 10]"
   ]
  },
  {
   "cell_type": "markdown",
   "metadata": {},
   "source": [
    "Test"
   ]
  },
  {
   "cell_type": "code",
   "execution_count": 31,
   "metadata": {},
   "outputs": [
    {
     "name": "stdout",
     "output_type": "stream",
     "text": [
      "\n",
      "Inconsistent 'rating_denominator' values:\n",
      "10    2099\n",
      "Name: rating_denominator, dtype: int64\n"
     ]
    }
   ],
   "source": [
    "print(\"\\nInconsistent 'rating_denominator' values:\")\n",
    "print(cleaned_archive_df['rating_denominator'].value_counts())"
   ]
  },
  {
   "cell_type": "markdown",
   "metadata": {},
   "source": [
    "### Issue 8:\n",
    "Define: \n",
    "Column tweet_id is column id in tweet_data_dataframe\n",
    "\n",
    "Code:"
   ]
  },
  {
   "cell_type": "code",
   "execution_count": 32,
   "metadata": {},
   "outputs": [],
   "source": [
    "# Column tweet_id is column id in tweet_data_dataframe\n",
    "cleaned_tweet_data_df = cleaned_tweet_data_df.rename(columns={'id': 'tweet_id'})"
   ]
  },
  {
   "cell_type": "markdown",
   "metadata": {},
   "source": [
    "Test"
   ]
  },
  {
   "cell_type": "code",
   "execution_count": 33,
   "metadata": {},
   "outputs": [
    {
     "name": "stdout",
     "output_type": "stream",
     "text": [
      "<class 'pandas.core.frame.DataFrame'>\n",
      "Int64Index: 2276 entries, 0 to 2353\n",
      "Data columns (total 31 columns):\n",
      "contributors                     0 non-null float64\n",
      "coordinates                      0 non-null float64\n",
      "created_at                       2276 non-null datetime64[ns]\n",
      "display_text_range               2276 non-null object\n",
      "entities                         2276 non-null object\n",
      "extended_entities                2050 non-null object\n",
      "favorite_count                   2276 non-null int64\n",
      "favorited                        2276 non-null bool\n",
      "full_text                        2276 non-null object\n",
      "geo                              0 non-null float64\n",
      "tweet_id                         2276 non-null int64\n",
      "id_str                           2276 non-null int64\n",
      "in_reply_to_screen_name          0 non-null object\n",
      "in_reply_to_status_id            0 non-null float64\n",
      "in_reply_to_status_id_str        0 non-null float64\n",
      "in_reply_to_user_id              0 non-null float64\n",
      "in_reply_to_user_id_str          0 non-null float64\n",
      "is_quote_status                  2276 non-null bool\n",
      "lang                             2276 non-null object\n",
      "place                            1 non-null object\n",
      "possibly_sensitive               2188 non-null float64\n",
      "possibly_sensitive_appealable    2188 non-null float64\n",
      "quoted_status                    28 non-null object\n",
      "quoted_status_id                 29 non-null float64\n",
      "quoted_status_id_str             29 non-null float64\n",
      "retweet_count                    2276 non-null int64\n",
      "retweeted                        2276 non-null bool\n",
      "retweeted_status                 179 non-null object\n",
      "source                           2276 non-null object\n",
      "truncated                        2276 non-null bool\n",
      "user                             2276 non-null object\n",
      "dtypes: bool(4), datetime64[ns](1), float64(11), int64(4), object(11)\n",
      "memory usage: 506.8+ KB\n"
     ]
    }
   ],
   "source": [
    "cleaned_tweet_data_df.info()"
   ]
  },
  {
   "cell_type": "markdown",
   "metadata": {},
   "source": [
    "# Tidiness Issues"
   ]
  },
  {
   "cell_type": "markdown",
   "metadata": {},
   "source": [
    "### Issue 1:\n",
    "\n",
    "Define: Inconsistent Dog Stages\n",
    "\n",
    "Code"
   ]
  },
  {
   "cell_type": "code",
   "execution_count": 34,
   "metadata": {},
   "outputs": [],
   "source": [
    "# 4. Inconsistent Dog Stages\n",
    "cleaned_archive_df['doggo'] = cleaned_archive_df['doggo'].replace('None', '')\n",
    "cleaned_archive_df['floofer'] = cleaned_archive_df['floofer'].replace('None', '')\n",
    "cleaned_archive_df['pupper'] = cleaned_archive_df['pupper'].replace('None', '')\n",
    "cleaned_archive_df['puppo'] = cleaned_archive_df['puppo'].replace('None', '')\n",
    "cleaned_archive_df['dog_stage'] = cleaned_archive_df['doggo'] + cleaned_archive_df['floofer'] + cleaned_archive_df['pupper'] + cleaned_archive_df['puppo']\n",
    "cleaned_archive_df['dog_stage'] = cleaned_archive_df['dog_stage'].replace('', 'None')\n",
    "cleaned_archive_df = cleaned_archive_df.drop(['doggo', 'floofer', 'pupper', 'puppo'], axis=1)\n",
    "\n",
    "# Replace None values with np.nan\n",
    "cleaned_archive_df['dog_stage'] = cleaned_archive_df['dog_stage'].replace({'None': np.nan})"
   ]
  },
  {
   "cell_type": "markdown",
   "metadata": {},
   "source": [
    "Test"
   ]
  },
  {
   "cell_type": "code",
   "execution_count": 35,
   "metadata": {},
   "outputs": [
    {
     "name": "stdout",
     "output_type": "stream",
     "text": [
      "\n",
      "Dog stages counts:\n",
      "pupper          222\n",
      "doggo            72\n",
      "puppo            23\n",
      "doggopupper      10\n",
      "floofer           9\n",
      "doggofloofer      1\n",
      "doggopuppo        1\n",
      "Name: dog_stage, dtype: int64\n"
     ]
    }
   ],
   "source": [
    "# test\n",
    "print(\"\\nDog stages counts:\")\n",
    "print(cleaned_archive_df['dog_stage'].value_counts())"
   ]
  },
  {
   "cell_type": "markdown",
   "metadata": {},
   "source": [
    "### Issue 2:\n",
    "Define: \n",
    "3 dataframes, instead of one --> merge them together\n",
    "\n",
    "Code:"
   ]
  },
  {
   "cell_type": "code",
   "execution_count": 36,
   "metadata": {},
   "outputs": [],
   "source": [
    "# 2. Merge Tweet Information from Image Predictions\n",
    "cleaned_archive_df = pd.merge(cleaned_archive_df, cleaned_image_predictions_df, on='tweet_id', how='inner')\n",
    "cleaned_archive_df = pd.merge(cleaned_archive_df, cleaned_tweet_data_df, on='tweet_id', how='inner')"
   ]
  },
  {
   "cell_type": "markdown",
   "metadata": {},
   "source": [
    "Test"
   ]
  },
  {
   "cell_type": "code",
   "execution_count": 37,
   "metadata": {},
   "outputs": [
    {
     "name": "stdout",
     "output_type": "stream",
     "text": [
      "\n",
      "Columns in Image Predictions:\n",
      "Index(['tweet_id', 'timestamp', 'source_x', 'text', 'retweeted_status_id',\n",
      "       'retweeted_status_user_id', 'retweeted_status_timestamp',\n",
      "       'expanded_urls', 'rating_numerator', 'rating_denominator', 'name',\n",
      "       'dog_stage', 'jpg_url', 'img_num', 'p1', 'p1_conf', 'p1_dog', 'p2',\n",
      "       'p2_conf', 'p2_dog', 'p3', 'p3_conf', 'p3_dog', 'contributors',\n",
      "       'coordinates', 'created_at', 'display_text_range', 'entities',\n",
      "       'extended_entities', 'favorite_count', 'favorited', 'full_text', 'geo',\n",
      "       'id_str', 'in_reply_to_screen_name', 'in_reply_to_status_id',\n",
      "       'in_reply_to_status_id_str', 'in_reply_to_user_id',\n",
      "       'in_reply_to_user_id_str', 'is_quote_status', 'lang', 'place',\n",
      "       'possibly_sensitive', 'possibly_sensitive_appealable', 'quoted_status',\n",
      "       'quoted_status_id', 'quoted_status_id_str', 'retweet_count',\n",
      "       'retweeted', 'retweeted_status', 'source_y', 'truncated', 'user'],\n",
      "      dtype='object')\n"
     ]
    }
   ],
   "source": [
    "print(\"\\nColumns in Image Predictions:\")\n",
    "print(cleaned_archive_df.columns)"
   ]
  },
  {
   "cell_type": "markdown",
   "metadata": {},
   "source": [
    "## Storing Data\n",
    "Save gathered, assessed, and cleaned master dataset to a CSV file named \"twitter_archive_master.csv\"."
   ]
  },
  {
   "cell_type": "code",
   "execution_count": 41,
   "metadata": {},
   "outputs": [],
   "source": [
    "# Save the cleaned dataframes to new CSV files\n",
    "cleaned_archive_df.to_csv('cleaned_twitter_archive.csv', index=False)\n",
    "cleaned_image_predictions_df.to_csv('cleaned_image_predictions.csv', index=False)\n",
    "cleaned_tweet_data_df.to_csv('cleaned_tweet_data.csv', index=False)\n",
    "\n",
    "cleaned_archive_df.to_csv('twitter_archive_master.csv', index=False)"
   ]
  },
  {
   "cell_type": "markdown",
   "metadata": {},
   "source": [
    "## Analyzing and Visualizing Data\n",
    "In this section, analyze and visualize your wrangled data. You must produce at least **three (3) insights and one (1) visualization.**"
   ]
  },
  {
   "cell_type": "code",
   "execution_count": 42,
   "metadata": {},
   "outputs": [
    {
     "data": {
      "image/png": "[encoded data removed]",
      "text/plain": [
       "<matplotlib.figure.Figure at 0x7f78e80a6b70>"
      ]
     },
     "metadata": {
      "needs_background": "light"
     },
     "output_type": "display_data"
    },
    {
     "data": {
      "image/png": "[encoded data removed]",
      "text/plain": [
       "<matplotlib.figure.Figure at 0x7f78e9526518>"
      ]
     },
     "metadata": {
      "needs_background": "light"
     },
     "output_type": "display_data"
    },
    {
     "data": {
      "image/png": "[encoded data removed]",
      "text/plain": [
       "<matplotlib.figure.Figure at 0x7f78e94c09e8>"
      ]
     },
     "metadata": {
      "needs_background": "light"
     },
     "output_type": "display_data"
    }
   ],
   "source": [
    "import pandas as pd\n",
    "import matplotlib.pyplot as plt\n",
    "import seaborn as sns\n",
    "\n",
    "# Load the cleaned data\n",
    "cleaned_archive_df = pd.read_csv('twitter_archive_master.csv')\n",
    "\n",
    "# Insight 1: Distribution of Ratings\n",
    "plt.figure(figsize=(10, 6))\n",
    "sns.distplot(cleaned_archive_df['rating_numerator'], bins=20, kde=True, color='skyblue')\n",
    "plt.title('Distribution of Ratings')\n",
    "plt.xlabel('Rating Numerator')\n",
    "plt.ylabel('Frequency')\n",
    "plt.show()\n",
    "\n",
    "# Insight 2: Popular Dog Stages\n",
    "dog_stage_counts = cleaned_archive_df['dog_stage'].value_counts()\n",
    "plt.figure(figsize=(8, 8))\n",
    "dog_stage_counts.plot(kind='bar', color='lightcoral')\n",
    "plt.title('Distribution of Dog Stages')\n",
    "plt.xlabel('Dog Stage')\n",
    "plt.ylabel('Count')\n",
    "plt.show()\n",
    "\n",
    "# Insight 3: Correlation Between Retweet Count and Favorite Count (using matplotlib)\n",
    "plt.figure(figsize=(10, 6))\n",
    "plt.scatter(cleaned_archive_df['retweet_count'], cleaned_archive_df['favorite_count'], color='salmon')\n",
    "plt.title('Correlation Between Retweet Count and Favorite Count')\n",
    "plt.xlabel('Retweet Count')\n",
    "plt.ylabel('Favorite Count')\n",
    "plt.show()"
   ]
  },
  {
   "cell_type": "markdown",
   "metadata": {},
   "source": [
    "### Insights:\n",
    "Distribution of Ratings:\n",
    "\n",
    "The majority of dog ratings are concentrated around a numerator of 10-14, with a peak around 12. This indicates that WeRateDogs tends to give high ratings to most dogs.\n",
    "Popular Dog Stages:\n",
    "\n",
    "Pupper is the most common dog stage in the dataset, followed by doggo. Floofer and puppo are less common. Understanding the distribution of dog stages can provide insights into the types of dogs posted on WeRateDogs.\n",
    "Correlation Between Retweet Count and Favorite Count:\n",
    "\n",
    "There is a positive correlation between the number of retweets and favorites. This is expected, as tweets that are retweeted more are likely to be favorited more as well."
   ]
  },
  {
   "cell_type": "code",
   "execution_count": null,
   "metadata": {},
   "outputs": [],
   "source": []
  }
 ],
 "metadata": {
  "extensions": {
   "jupyter_dashboards": {
    "activeView": "report_default",
    "version": 1,
    "views": {
     "grid_default": {
      "cellMargin": 10,
      "defaultCellHeight": 20,
      "maxColumns": 12,
      "name": "grid",
      "type": "grid"
     },
     "report_default": {
      "name": "report",
      "type": "report"
     }
    }
   }
  },
  "kernelspec": {
   "display_name": "Python 3",
   "language": "python",
   "name": "python3"
  },
  "language_info": {
   "codemirror_mode": {
    "name": "ipython",
    "version": 3
   },
   "file_extension": ".py",
   "mimetype": "text/x-python",
   "name": "python",
   "nbconvert_exporter": "python",
   "pygments_lexer": "ipython3",
   "version": "3.6.3"
  }
 },
 "nbformat": 4,
 "nbformat_minor": 2
}
