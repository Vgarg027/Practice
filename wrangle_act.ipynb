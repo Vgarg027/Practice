{
  "nbformat": 4,
  "nbformat_minor": 0,
  "metadata": {
    "colab": {
      "name": "FWDP2.ipynb",
      "provenance": [],
      "toc_visible": true
    },
    "kernelspec": {
      "name": "python3",
      "display_name": "Python 3"
    }
  },
  "cells": [
    {
      "cell_type": "markdown",
      "metadata": {
        "id": "_ZzFnGlutKmp"
      },
      "source": [
        "#GATHER DATA"
      ]
    },
    {
      "cell_type": "code",
      "metadata": {
        "id": "N5ob1PssIQz4"
      },
      "source": [
        "#calling important libraries that genraly in need\r\n",
        "import pandas as pd\r\n",
        "import numpy as np\r\n",
        "import seaborn as sns\r\n",
        "import matplotlib.pyplot as plt\r\n",
        "%matplotlib inline\r\n",
        "from datetime import datetime"
      ],
      "execution_count": 1,
      "outputs": []
    },
    {
      "cell_type": "code",
      "metadata": {
        "id": "7XpqD8TOUUeM"
      },
      "source": [
        "#read the files of data in data frames we have three diffrent file in three diffrent format\n",
        "#First file twitter archive enhnced and it was in csv and that is fine for panadas\n",
        "#Second file tweet json also can be read directly in data frame\n",
        "#third file image predections was in tsv foramt and I used excel to convert its format to csv\n",
        " \n",
        "archive=pd.read_csv('/content/twitter-archive-enhanced.csv')\n",
        "tweet=pd.read_json('/content/tweet-json copy.json',lines=True)\n",
        "image=pd.read_csv('/content/image-predictions-3.csv')\n"
      ],
      "execution_count": 2,
      "outputs": []
    },
    {
      "cell_type": "markdown",
      "metadata": {
        "id": "6Ez9935ctQ9e"
      },
      "source": [
        "# Assement"
      ]
    },
    {
      "cell_type": "markdown",
      "metadata": {
        "id": "ZrE8tp5tFXZY"
      },
      "source": [
        "view data"
      ]
    },
    {
      "cell_type": "code",
      "metadata": {
        "colab": {
          "base_uri": "https://localhost:8080/",
          "height": 1000
        },
        "id": "nTEtzgbgd-Nt",
        "outputId": "2d5881d1-ab58-4e91-89a3-9cd1798c5f80"
      },
      "source": [
        "archive"
      ],
      "execution_count": 3,
      "outputs": [
        {
          "output_type": "execute_result",
          "data": {
            "text/html": [
              "<div>\n",
              "<style scoped>\n",
              "    .dataframe tbody tr th:only-of-type {\n",
              "        vertical-align: middle;\n",
              "    }\n",
              "\n",
              "    .dataframe tbody tr th {\n",
              "        vertical-align: top;\n",
              "    }\n",
              "\n",
              "    .dataframe thead th {\n",
              "        text-align: right;\n",
              "    }\n",
              "</style>\n",
              "<table border=\"1\" class=\"dataframe\">\n",
              "  <thead>\n",
              "    <tr style=\"text-align: right;\">\n",
              "      <th></th>\n",
              "      <th>tweet_id</th>\n",
              "      <th>in_reply_to_status_id</th>\n",
              "      <th>in_reply_to_user_id</th>\n",
              "      <th>timestamp</th>\n",
              "      <th>source</th>\n",
              "      <th>text</th>\n",
              "      <th>retweeted_status_id</th>\n",
              "      <th>retweeted_status_user_id</th>\n",
              "      <th>retweeted_status_timestamp</th>\n",
              "      <th>expanded_urls</th>\n",
              "      <th>rating_numerator</th>\n",
              "      <th>rating_denominator</th>\n",
              "      <th>name</th>\n",
              "      <th>doggo</th>\n",
              "      <th>floofer</th>\n",
              "      <th>pupper</th>\n",
              "      <th>puppo</th>\n",
              "    </tr>\n",
              "  </thead>\n",
              "  <tbody>\n",
              "    <tr>\n",
              "      <th>0</th>\n",
              "      <td>892420643555336193</td>\n",
              "      <td>NaN</td>\n",
              "      <td>NaN</td>\n",
              "      <td>2017-08-01 16:23:56 +0000</td>\n",
              "      <td>&lt;a href=\"http://twitter.com/download/iphone\" r...</td>\n",
              "      <td>This is Phineas. He's a mystical boy. Only eve...</td>\n",
              "      <td>NaN</td>\n",
              "      <td>NaN</td>\n",
              "      <td>NaN</td>\n",
              "      <td>https://twitter.com/dog_rates/status/892420643...</td>\n",
              "      <td>13</td>\n",
              "      <td>10</td>\n",
              "      <td>Phineas</td>\n",
              "      <td>None</td>\n",
              "      <td>None</td>\n",
              "      <td>None</td>\n",
              "      <td>None</td>\n",
              "    </tr>\n",
              "    <tr>\n",
              "      <th>1</th>\n",
              "      <td>892177421306343426</td>\n",
              "      <td>NaN</td>\n",
              "      <td>NaN</td>\n",
              "      <td>2017-08-01 00:17:27 +0000</td>\n",
              "      <td>&lt;a href=\"http://twitter.com/download/iphone\" r...</td>\n",
              "      <td>This is Tilly. She's just checking pup on you....</td>\n",
              "      <td>NaN</td>\n",
              "      <td>NaN</td>\n",
              "      <td>NaN</td>\n",
              "      <td>https://twitter.com/dog_rates/status/892177421...</td>\n",
              "      <td>13</td>\n",
              "      <td>10</td>\n",
              "      <td>Tilly</td>\n",
              "      <td>None</td>\n",
              "      <td>None</td>\n",
              "      <td>None</td>\n",
              "      <td>None</td>\n",
              "    </tr>\n",
              "    <tr>\n",
              "      <th>2</th>\n",
              "      <td>891815181378084864</td>\n",
              "      <td>NaN</td>\n",
              "      <td>NaN</td>\n",
              "      <td>2017-07-31 00:18:03 +0000</td>\n",
              "      <td>&lt;a href=\"http://twitter.com/download/iphone\" r...</td>\n",
              "      <td>This is Archie. He is a rare Norwegian Pouncin...</td>\n",
              "      <td>NaN</td>\n",
              "      <td>NaN</td>\n",
              "      <td>NaN</td>\n",
              "      <td>https://twitter.com/dog_rates/status/891815181...</td>\n",
              "      <td>12</td>\n",
              "      <td>10</td>\n",
              "      <td>Archie</td>\n",
              "      <td>None</td>\n",
              "      <td>None</td>\n",
              "      <td>None</td>\n",
              "      <td>None</td>\n",
              "    </tr>\n",
              "    <tr>\n",
              "      <th>3</th>\n",
              "      <td>891689557279858688</td>\n",
              "      <td>NaN</td>\n",
              "      <td>NaN</td>\n",
              "      <td>2017-07-30 15:58:51 +0000</td>\n",
              "      <td>&lt;a href=\"http://twitter.com/download/iphone\" r...</td>\n",
              "      <td>This is Darla. She commenced a snooze mid meal...</td>\n",
              "      <td>NaN</td>\n",
              "      <td>NaN</td>\n",
              "      <td>NaN</td>\n",
              "      <td>https://twitter.com/dog_rates/status/891689557...</td>\n",
              "      <td>13</td>\n",
              "      <td>10</td>\n",
              "      <td>Darla</td>\n",
              "      <td>None</td>\n",
              "      <td>None</td>\n",
              "      <td>None</td>\n",
              "      <td>None</td>\n",
              "    </tr>\n",
              "    <tr>\n",
              "      <th>4</th>\n",
              "      <td>891327558926688256</td>\n",
              "      <td>NaN</td>\n",
              "      <td>NaN</td>\n",
              "      <td>2017-07-29 16:00:24 +0000</td>\n",
              "      <td>&lt;a href=\"http://twitter.com/download/iphone\" r...</td>\n",
              "      <td>This is Franklin. He would like you to stop ca...</td>\n",
              "      <td>NaN</td>\n",
              "      <td>NaN</td>\n",
              "      <td>NaN</td>\n",
              "      <td>https://twitter.com/dog_rates/status/891327558...</td>\n",
              "      <td>12</td>\n",
              "      <td>10</td>\n",
              "      <td>Franklin</td>\n",
              "      <td>None</td>\n",
              "      <td>None</td>\n",
              "      <td>None</td>\n",
              "      <td>None</td>\n",
              "    </tr>\n",
              "    <tr>\n",
              "      <th>...</th>\n",
              "      <td>...</td>\n",
              "      <td>...</td>\n",
              "      <td>...</td>\n",
              "      <td>...</td>\n",
              "      <td>...</td>\n",
              "      <td>...</td>\n",
              "      <td>...</td>\n",
              "      <td>...</td>\n",
              "      <td>...</td>\n",
              "      <td>...</td>\n",
              "      <td>...</td>\n",
              "      <td>...</td>\n",
              "      <td>...</td>\n",
              "      <td>...</td>\n",
              "      <td>...</td>\n",
              "      <td>...</td>\n",
              "      <td>...</td>\n",
              "    </tr>\n",
              "    <tr>\n",
              "      <th>2351</th>\n",
              "      <td>666049248165822465</td>\n",
              "      <td>NaN</td>\n",
              "      <td>NaN</td>\n",
              "      <td>2015-11-16 00:24:50 +0000</td>\n",
              "      <td>&lt;a href=\"http://twitter.com/download/iphone\" r...</td>\n",
              "      <td>Here we have a 1949 1st generation vulpix. Enj...</td>\n",
              "      <td>NaN</td>\n",
              "      <td>NaN</td>\n",
              "      <td>NaN</td>\n",
              "      <td>https://twitter.com/dog_rates/status/666049248...</td>\n",
              "      <td>5</td>\n",
              "      <td>10</td>\n",
              "      <td>None</td>\n",
              "      <td>None</td>\n",
              "      <td>None</td>\n",
              "      <td>None</td>\n",
              "      <td>None</td>\n",
              "    </tr>\n",
              "    <tr>\n",
              "      <th>2352</th>\n",
              "      <td>666044226329800704</td>\n",
              "      <td>NaN</td>\n",
              "      <td>NaN</td>\n",
              "      <td>2015-11-16 00:04:52 +0000</td>\n",
              "      <td>&lt;a href=\"http://twitter.com/download/iphone\" r...</td>\n",
              "      <td>This is a purebred Piers Morgan. Loves to Netf...</td>\n",
              "      <td>NaN</td>\n",
              "      <td>NaN</td>\n",
              "      <td>NaN</td>\n",
              "      <td>https://twitter.com/dog_rates/status/666044226...</td>\n",
              "      <td>6</td>\n",
              "      <td>10</td>\n",
              "      <td>a</td>\n",
              "      <td>None</td>\n",
              "      <td>None</td>\n",
              "      <td>None</td>\n",
              "      <td>None</td>\n",
              "    </tr>\n",
              "    <tr>\n",
              "      <th>2353</th>\n",
              "      <td>666033412701032449</td>\n",
              "      <td>NaN</td>\n",
              "      <td>NaN</td>\n",
              "      <td>2015-11-15 23:21:54 +0000</td>\n",
              "      <td>&lt;a href=\"http://twitter.com/download/iphone\" r...</td>\n",
              "      <td>Here is a very happy pup. Big fan of well-main...</td>\n",
              "      <td>NaN</td>\n",
              "      <td>NaN</td>\n",
              "      <td>NaN</td>\n",
              "      <td>https://twitter.com/dog_rates/status/666033412...</td>\n",
              "      <td>9</td>\n",
              "      <td>10</td>\n",
              "      <td>a</td>\n",
              "      <td>None</td>\n",
              "      <td>None</td>\n",
              "      <td>None</td>\n",
              "      <td>None</td>\n",
              "    </tr>\n",
              "    <tr>\n",
              "      <th>2354</th>\n",
              "      <td>666029285002620928</td>\n",
              "      <td>NaN</td>\n",
              "      <td>NaN</td>\n",
              "      <td>2015-11-15 23:05:30 +0000</td>\n",
              "      <td>&lt;a href=\"http://twitter.com/download/iphone\" r...</td>\n",
              "      <td>This is a western brown Mitsubishi terrier. Up...</td>\n",
              "      <td>NaN</td>\n",
              "      <td>NaN</td>\n",
              "      <td>NaN</td>\n",
              "      <td>https://twitter.com/dog_rates/status/666029285...</td>\n",
              "      <td>7</td>\n",
              "      <td>10</td>\n",
              "      <td>a</td>\n",
              "      <td>None</td>\n",
              "      <td>None</td>\n",
              "      <td>None</td>\n",
              "      <td>None</td>\n",
              "    </tr>\n",
              "    <tr>\n",
              "      <th>2355</th>\n",
              "      <td>666020888022790149</td>\n",
              "      <td>NaN</td>\n",
              "      <td>NaN</td>\n",
              "      <td>2015-11-15 22:32:08 +0000</td>\n",
              "      <td>&lt;a href=\"http://twitter.com/download/iphone\" r...</td>\n",
              "      <td>Here we have a Japanese Irish Setter. Lost eye...</td>\n",
              "      <td>NaN</td>\n",
              "      <td>NaN</td>\n",
              "      <td>NaN</td>\n",
              "      <td>https://twitter.com/dog_rates/status/666020888...</td>\n",
              "      <td>8</td>\n",
              "      <td>10</td>\n",
              "      <td>None</td>\n",
              "      <td>None</td>\n",
              "      <td>None</td>\n",
              "      <td>None</td>\n",
              "      <td>None</td>\n",
              "    </tr>\n",
              "  </tbody>\n",
              "</table>\n",
              "<p>2356 rows × 17 columns</p>\n",
              "</div>"
            ],
            "text/plain": [
              "                tweet_id  in_reply_to_status_id  ...  pupper puppo\n",
              "0     892420643555336193                    NaN  ...    None  None\n",
              "1     892177421306343426                    NaN  ...    None  None\n",
              "2     891815181378084864                    NaN  ...    None  None\n",
              "3     891689557279858688                    NaN  ...    None  None\n",
              "4     891327558926688256                    NaN  ...    None  None\n",
              "...                  ...                    ...  ...     ...   ...\n",
              "2351  666049248165822465                    NaN  ...    None  None\n",
              "2352  666044226329800704                    NaN  ...    None  None\n",
              "2353  666033412701032449                    NaN  ...    None  None\n",
              "2354  666029285002620928                    NaN  ...    None  None\n",
              "2355  666020888022790149                    NaN  ...    None  None\n",
              "\n",
              "[2356 rows x 17 columns]"
            ]
          },
          "metadata": {
            "tags": []
          },
          "execution_count": 3
        }
      ]
    },
    {
      "cell_type": "code",
      "metadata": {
        "colab": {
          "base_uri": "https://localhost:8080/",
          "height": 1000
        },
        "id": "Ac8M252_Vc1S",
        "outputId": "0538e56e-9982-4bff-a07a-f235807157c6"
      },
      "source": [
        "tweet"
      ],
      "execution_count": 4,
      "outputs": [
        {
          "output_type": "execute_result",
          "data": {
            "text/html": [
              "<div>\n",
              "<style scoped>\n",
              "    .dataframe tbody tr th:only-of-type {\n",
              "        vertical-align: middle;\n",
              "    }\n",
              "\n",
              "    .dataframe tbody tr th {\n",
              "        vertical-align: top;\n",
              "    }\n",
              "\n",
              "    .dataframe thead th {\n",
              "        text-align: right;\n",
              "    }\n",
              "</style>\n",
              "<table border=\"1\" class=\"dataframe\">\n",
              "  <thead>\n",
              "    <tr style=\"text-align: right;\">\n",
              "      <th></th>\n",
              "      <th>created_at</th>\n",
              "      <th>id</th>\n",
              "      <th>id_str</th>\n",
              "      <th>full_text</th>\n",
              "      <th>truncated</th>\n",
              "      <th>display_text_range</th>\n",
              "      <th>entities</th>\n",
              "      <th>extended_entities</th>\n",
              "      <th>source</th>\n",
              "      <th>in_reply_to_status_id</th>\n",
              "      <th>in_reply_to_status_id_str</th>\n",
              "      <th>in_reply_to_user_id</th>\n",
              "      <th>in_reply_to_user_id_str</th>\n",
              "      <th>in_reply_to_screen_name</th>\n",
              "      <th>user</th>\n",
              "      <th>geo</th>\n",
              "      <th>coordinates</th>\n",
              "      <th>place</th>\n",
              "      <th>contributors</th>\n",
              "      <th>is_quote_status</th>\n",
              "      <th>retweet_count</th>\n",
              "      <th>favorite_count</th>\n",
              "      <th>favorited</th>\n",
              "      <th>retweeted</th>\n",
              "      <th>possibly_sensitive</th>\n",
              "      <th>possibly_sensitive_appealable</th>\n",
              "      <th>lang</th>\n",
              "      <th>retweeted_status</th>\n",
              "      <th>quoted_status_id</th>\n",
              "      <th>quoted_status_id_str</th>\n",
              "      <th>quoted_status</th>\n",
              "    </tr>\n",
              "  </thead>\n",
              "  <tbody>\n",
              "    <tr>\n",
              "      <th>0</th>\n",
              "      <td>2017-08-01 16:23:56+00:00</td>\n",
              "      <td>892420643555336193</td>\n",
              "      <td>892420643555336192</td>\n",
              "      <td>This is Phineas. He's a mystical boy. Only eve...</td>\n",
              "      <td>False</td>\n",
              "      <td>[0, 85]</td>\n",
              "      <td>{'hashtags': [], 'symbols': [], 'user_mentions...</td>\n",
              "      <td>{'media': [{'id': 892420639486877696, 'id_str'...</td>\n",
              "      <td>&lt;a href=\"http://twitter.com/download/iphone\" r...</td>\n",
              "      <td>NaN</td>\n",
              "      <td>NaN</td>\n",
              "      <td>NaN</td>\n",
              "      <td>NaN</td>\n",
              "      <td>None</td>\n",
              "      <td>{'id': 4196983835, 'id_str': '4196983835', 'na...</td>\n",
              "      <td>NaN</td>\n",
              "      <td>NaN</td>\n",
              "      <td>None</td>\n",
              "      <td>NaN</td>\n",
              "      <td>False</td>\n",
              "      <td>8853</td>\n",
              "      <td>39467</td>\n",
              "      <td>False</td>\n",
              "      <td>False</td>\n",
              "      <td>0.0</td>\n",
              "      <td>0.0</td>\n",
              "      <td>en</td>\n",
              "      <td>NaN</td>\n",
              "      <td>NaN</td>\n",
              "      <td>NaN</td>\n",
              "      <td>NaN</td>\n",
              "    </tr>\n",
              "    <tr>\n",
              "      <th>1</th>\n",
              "      <td>2017-08-01 00:17:27+00:00</td>\n",
              "      <td>892177421306343426</td>\n",
              "      <td>892177421306343424</td>\n",
              "      <td>This is Tilly. She's just checking pup on you....</td>\n",
              "      <td>False</td>\n",
              "      <td>[0, 138]</td>\n",
              "      <td>{'hashtags': [], 'symbols': [], 'user_mentions...</td>\n",
              "      <td>{'media': [{'id': 892177413194625024, 'id_str'...</td>\n",
              "      <td>&lt;a href=\"http://twitter.com/download/iphone\" r...</td>\n",
              "      <td>NaN</td>\n",
              "      <td>NaN</td>\n",
              "      <td>NaN</td>\n",
              "      <td>NaN</td>\n",
              "      <td>None</td>\n",
              "      <td>{'id': 4196983835, 'id_str': '4196983835', 'na...</td>\n",
              "      <td>NaN</td>\n",
              "      <td>NaN</td>\n",
              "      <td>None</td>\n",
              "      <td>NaN</td>\n",
              "      <td>False</td>\n",
              "      <td>6514</td>\n",
              "      <td>33819</td>\n",
              "      <td>False</td>\n",
              "      <td>False</td>\n",
              "      <td>0.0</td>\n",
              "      <td>0.0</td>\n",
              "      <td>en</td>\n",
              "      <td>NaN</td>\n",
              "      <td>NaN</td>\n",
              "      <td>NaN</td>\n",
              "      <td>NaN</td>\n",
              "    </tr>\n",
              "    <tr>\n",
              "      <th>2</th>\n",
              "      <td>2017-07-31 00:18:03+00:00</td>\n",
              "      <td>891815181378084864</td>\n",
              "      <td>891815181378084864</td>\n",
              "      <td>This is Archie. He is a rare Norwegian Pouncin...</td>\n",
              "      <td>False</td>\n",
              "      <td>[0, 121]</td>\n",
              "      <td>{'hashtags': [], 'symbols': [], 'user_mentions...</td>\n",
              "      <td>{'media': [{'id': 891815175371796480, 'id_str'...</td>\n",
              "      <td>&lt;a href=\"http://twitter.com/download/iphone\" r...</td>\n",
              "      <td>NaN</td>\n",
              "      <td>NaN</td>\n",
              "      <td>NaN</td>\n",
              "      <td>NaN</td>\n",
              "      <td>None</td>\n",
              "      <td>{'id': 4196983835, 'id_str': '4196983835', 'na...</td>\n",
              "      <td>NaN</td>\n",
              "      <td>NaN</td>\n",
              "      <td>None</td>\n",
              "      <td>NaN</td>\n",
              "      <td>False</td>\n",
              "      <td>4328</td>\n",
              "      <td>25461</td>\n",
              "      <td>False</td>\n",
              "      <td>False</td>\n",
              "      <td>0.0</td>\n",
              "      <td>0.0</td>\n",
              "      <td>en</td>\n",
              "      <td>NaN</td>\n",
              "      <td>NaN</td>\n",
              "      <td>NaN</td>\n",
              "      <td>NaN</td>\n",
              "    </tr>\n",
              "    <tr>\n",
              "      <th>3</th>\n",
              "      <td>2017-07-30 15:58:51+00:00</td>\n",
              "      <td>891689557279858688</td>\n",
              "      <td>891689557279858688</td>\n",
              "      <td>This is Darla. She commenced a snooze mid meal...</td>\n",
              "      <td>False</td>\n",
              "      <td>[0, 79]</td>\n",
              "      <td>{'hashtags': [], 'symbols': [], 'user_mentions...</td>\n",
              "      <td>{'media': [{'id': 891689552724799489, 'id_str'...</td>\n",
              "      <td>&lt;a href=\"http://twitter.com/download/iphone\" r...</td>\n",
              "      <td>NaN</td>\n",
              "      <td>NaN</td>\n",
              "      <td>NaN</td>\n",
              "      <td>NaN</td>\n",
              "      <td>None</td>\n",
              "      <td>{'id': 4196983835, 'id_str': '4196983835', 'na...</td>\n",
              "      <td>NaN</td>\n",
              "      <td>NaN</td>\n",
              "      <td>None</td>\n",
              "      <td>NaN</td>\n",
              "      <td>False</td>\n",
              "      <td>8964</td>\n",
              "      <td>42908</td>\n",
              "      <td>False</td>\n",
              "      <td>False</td>\n",
              "      <td>0.0</td>\n",
              "      <td>0.0</td>\n",
              "      <td>en</td>\n",
              "      <td>NaN</td>\n",
              "      <td>NaN</td>\n",
              "      <td>NaN</td>\n",
              "      <td>NaN</td>\n",
              "    </tr>\n",
              "    <tr>\n",
              "      <th>4</th>\n",
              "      <td>2017-07-29 16:00:24+00:00</td>\n",
              "      <td>891327558926688256</td>\n",
              "      <td>891327558926688256</td>\n",
              "      <td>This is Franklin. He would like you to stop ca...</td>\n",
              "      <td>False</td>\n",
              "      <td>[0, 138]</td>\n",
              "      <td>{'hashtags': [{'text': 'BarkWeek', 'indices': ...</td>\n",
              "      <td>{'media': [{'id': 891327551943041024, 'id_str'...</td>\n",
              "      <td>&lt;a href=\"http://twitter.com/download/iphone\" r...</td>\n",
              "      <td>NaN</td>\n",
              "      <td>NaN</td>\n",
              "      <td>NaN</td>\n",
              "      <td>NaN</td>\n",
              "      <td>None</td>\n",
              "      <td>{'id': 4196983835, 'id_str': '4196983835', 'na...</td>\n",
              "      <td>NaN</td>\n",
              "      <td>NaN</td>\n",
              "      <td>None</td>\n",
              "      <td>NaN</td>\n",
              "      <td>False</td>\n",
              "      <td>9774</td>\n",
              "      <td>41048</td>\n",
              "      <td>False</td>\n",
              "      <td>False</td>\n",
              "      <td>0.0</td>\n",
              "      <td>0.0</td>\n",
              "      <td>en</td>\n",
              "      <td>NaN</td>\n",
              "      <td>NaN</td>\n",
              "      <td>NaN</td>\n",
              "      <td>NaN</td>\n",
              "    </tr>\n",
              "    <tr>\n",
              "      <th>...</th>\n",
              "      <td>...</td>\n",
              "      <td>...</td>\n",
              "      <td>...</td>\n",
              "      <td>...</td>\n",
              "      <td>...</td>\n",
              "      <td>...</td>\n",
              "      <td>...</td>\n",
              "      <td>...</td>\n",
              "      <td>...</td>\n",
              "      <td>...</td>\n",
              "      <td>...</td>\n",
              "      <td>...</td>\n",
              "      <td>...</td>\n",
              "      <td>...</td>\n",
              "      <td>...</td>\n",
              "      <td>...</td>\n",
              "      <td>...</td>\n",
              "      <td>...</td>\n",
              "      <td>...</td>\n",
              "      <td>...</td>\n",
              "      <td>...</td>\n",
              "      <td>...</td>\n",
              "      <td>...</td>\n",
              "      <td>...</td>\n",
              "      <td>...</td>\n",
              "      <td>...</td>\n",
              "      <td>...</td>\n",
              "      <td>...</td>\n",
              "      <td>...</td>\n",
              "      <td>...</td>\n",
              "      <td>...</td>\n",
              "    </tr>\n",
              "    <tr>\n",
              "      <th>2349</th>\n",
              "      <td>2015-11-16 00:24:50+00:00</td>\n",
              "      <td>666049248165822465</td>\n",
              "      <td>666049248165822464</td>\n",
              "      <td>Here we have a 1949 1st generation vulpix. Enj...</td>\n",
              "      <td>False</td>\n",
              "      <td>[0, 120]</td>\n",
              "      <td>{'hashtags': [], 'symbols': [], 'user_mentions...</td>\n",
              "      <td>{'media': [{'id': 666049244999131136, 'id_str'...</td>\n",
              "      <td>&lt;a href=\"http://twitter.com/download/iphone\" r...</td>\n",
              "      <td>NaN</td>\n",
              "      <td>NaN</td>\n",
              "      <td>NaN</td>\n",
              "      <td>NaN</td>\n",
              "      <td>None</td>\n",
              "      <td>{'id': 4196983835, 'id_str': '4196983835', 'na...</td>\n",
              "      <td>NaN</td>\n",
              "      <td>NaN</td>\n",
              "      <td>None</td>\n",
              "      <td>NaN</td>\n",
              "      <td>False</td>\n",
              "      <td>41</td>\n",
              "      <td>111</td>\n",
              "      <td>False</td>\n",
              "      <td>False</td>\n",
              "      <td>0.0</td>\n",
              "      <td>0.0</td>\n",
              "      <td>en</td>\n",
              "      <td>NaN</td>\n",
              "      <td>NaN</td>\n",
              "      <td>NaN</td>\n",
              "      <td>NaN</td>\n",
              "    </tr>\n",
              "    <tr>\n",
              "      <th>2350</th>\n",
              "      <td>2015-11-16 00:04:52+00:00</td>\n",
              "      <td>666044226329800704</td>\n",
              "      <td>666044226329800704</td>\n",
              "      <td>This is a purebred Piers Morgan. Loves to Netf...</td>\n",
              "      <td>False</td>\n",
              "      <td>[0, 137]</td>\n",
              "      <td>{'hashtags': [], 'symbols': [], 'user_mentions...</td>\n",
              "      <td>{'media': [{'id': 666044217047650304, 'id_str'...</td>\n",
              "      <td>&lt;a href=\"http://twitter.com/download/iphone\" r...</td>\n",
              "      <td>NaN</td>\n",
              "      <td>NaN</td>\n",
              "      <td>NaN</td>\n",
              "      <td>NaN</td>\n",
              "      <td>None</td>\n",
              "      <td>{'id': 4196983835, 'id_str': '4196983835', 'na...</td>\n",
              "      <td>NaN</td>\n",
              "      <td>NaN</td>\n",
              "      <td>None</td>\n",
              "      <td>NaN</td>\n",
              "      <td>False</td>\n",
              "      <td>147</td>\n",
              "      <td>311</td>\n",
              "      <td>False</td>\n",
              "      <td>False</td>\n",
              "      <td>0.0</td>\n",
              "      <td>0.0</td>\n",
              "      <td>en</td>\n",
              "      <td>NaN</td>\n",
              "      <td>NaN</td>\n",
              "      <td>NaN</td>\n",
              "      <td>NaN</td>\n",
              "    </tr>\n",
              "    <tr>\n",
              "      <th>2351</th>\n",
              "      <td>2015-11-15 23:21:54+00:00</td>\n",
              "      <td>666033412701032449</td>\n",
              "      <td>666033412701032448</td>\n",
              "      <td>Here is a very happy pup. Big fan of well-main...</td>\n",
              "      <td>False</td>\n",
              "      <td>[0, 130]</td>\n",
              "      <td>{'hashtags': [], 'symbols': [], 'user_mentions...</td>\n",
              "      <td>{'media': [{'id': 666033409081393153, 'id_str'...</td>\n",
              "      <td>&lt;a href=\"http://twitter.com/download/iphone\" r...</td>\n",
              "      <td>NaN</td>\n",
              "      <td>NaN</td>\n",
              "      <td>NaN</td>\n",
              "      <td>NaN</td>\n",
              "      <td>None</td>\n",
              "      <td>{'id': 4196983835, 'id_str': '4196983835', 'na...</td>\n",
              "      <td>NaN</td>\n",
              "      <td>NaN</td>\n",
              "      <td>None</td>\n",
              "      <td>NaN</td>\n",
              "      <td>False</td>\n",
              "      <td>47</td>\n",
              "      <td>128</td>\n",
              "      <td>False</td>\n",
              "      <td>False</td>\n",
              "      <td>0.0</td>\n",
              "      <td>0.0</td>\n",
              "      <td>en</td>\n",
              "      <td>NaN</td>\n",
              "      <td>NaN</td>\n",
              "      <td>NaN</td>\n",
              "      <td>NaN</td>\n",
              "    </tr>\n",
              "    <tr>\n",
              "      <th>2352</th>\n",
              "      <td>2015-11-15 23:05:30+00:00</td>\n",
              "      <td>666029285002620928</td>\n",
              "      <td>666029285002620928</td>\n",
              "      <td>This is a western brown Mitsubishi terrier. Up...</td>\n",
              "      <td>False</td>\n",
              "      <td>[0, 139]</td>\n",
              "      <td>{'hashtags': [], 'symbols': [], 'user_mentions...</td>\n",
              "      <td>{'media': [{'id': 666029276303482880, 'id_str'...</td>\n",
              "      <td>&lt;a href=\"http://twitter.com/download/iphone\" r...</td>\n",
              "      <td>NaN</td>\n",
              "      <td>NaN</td>\n",
              "      <td>NaN</td>\n",
              "      <td>NaN</td>\n",
              "      <td>None</td>\n",
              "      <td>{'id': 4196983835, 'id_str': '4196983835', 'na...</td>\n",
              "      <td>NaN</td>\n",
              "      <td>NaN</td>\n",
              "      <td>None</td>\n",
              "      <td>NaN</td>\n",
              "      <td>False</td>\n",
              "      <td>48</td>\n",
              "      <td>132</td>\n",
              "      <td>False</td>\n",
              "      <td>False</td>\n",
              "      <td>0.0</td>\n",
              "      <td>0.0</td>\n",
              "      <td>en</td>\n",
              "      <td>NaN</td>\n",
              "      <td>NaN</td>\n",
              "      <td>NaN</td>\n",
              "      <td>NaN</td>\n",
              "    </tr>\n",
              "    <tr>\n",
              "      <th>2353</th>\n",
              "      <td>2015-11-15 22:32:08+00:00</td>\n",
              "      <td>666020888022790149</td>\n",
              "      <td>666020888022790144</td>\n",
              "      <td>Here we have a Japanese Irish Setter. Lost eye...</td>\n",
              "      <td>False</td>\n",
              "      <td>[0, 131]</td>\n",
              "      <td>{'hashtags': [], 'symbols': [], 'user_mentions...</td>\n",
              "      <td>{'media': [{'id': 666020881337073664, 'id_str'...</td>\n",
              "      <td>&lt;a href=\"http://twitter.com/download/iphone\" r...</td>\n",
              "      <td>NaN</td>\n",
              "      <td>NaN</td>\n",
              "      <td>NaN</td>\n",
              "      <td>NaN</td>\n",
              "      <td>None</td>\n",
              "      <td>{'id': 4196983835, 'id_str': '4196983835', 'na...</td>\n",
              "      <td>NaN</td>\n",
              "      <td>NaN</td>\n",
              "      <td>None</td>\n",
              "      <td>NaN</td>\n",
              "      <td>False</td>\n",
              "      <td>532</td>\n",
              "      <td>2535</td>\n",
              "      <td>False</td>\n",
              "      <td>False</td>\n",
              "      <td>0.0</td>\n",
              "      <td>0.0</td>\n",
              "      <td>en</td>\n",
              "      <td>NaN</td>\n",
              "      <td>NaN</td>\n",
              "      <td>NaN</td>\n",
              "      <td>NaN</td>\n",
              "    </tr>\n",
              "  </tbody>\n",
              "</table>\n",
              "<p>2354 rows × 31 columns</p>\n",
              "</div>"
            ],
            "text/plain": [
              "                    created_at  ...  quoted_status\n",
              "0    2017-08-01 16:23:56+00:00  ...            NaN\n",
              "1    2017-08-01 00:17:27+00:00  ...            NaN\n",
              "2    2017-07-31 00:18:03+00:00  ...            NaN\n",
              "3    2017-07-30 15:58:51+00:00  ...            NaN\n",
              "4    2017-07-29 16:00:24+00:00  ...            NaN\n",
              "...                        ...  ...            ...\n",
              "2349 2015-11-16 00:24:50+00:00  ...            NaN\n",
              "2350 2015-11-16 00:04:52+00:00  ...            NaN\n",
              "2351 2015-11-15 23:21:54+00:00  ...            NaN\n",
              "2352 2015-11-15 23:05:30+00:00  ...            NaN\n",
              "2353 2015-11-15 22:32:08+00:00  ...            NaN\n",
              "\n",
              "[2354 rows x 31 columns]"
            ]
          },
          "metadata": {
            "tags": []
          },
          "execution_count": 4
        }
      ]
    },
    {
      "cell_type": "code",
      "metadata": {
        "colab": {
          "base_uri": "https://localhost:8080/",
          "height": 791
        },
        "id": "mtIK5xCpE5vk",
        "outputId": "d55a4284-7c62-4ed8-e133-4d8fff5efdcf"
      },
      "source": [
        "image"
      ],
      "execution_count": 5,
      "outputs": [
        {
          "output_type": "execute_result",
          "data": {
            "text/html": [
              "<div>\n",
              "<style scoped>\n",
              "    .dataframe tbody tr th:only-of-type {\n",
              "        vertical-align: middle;\n",
              "    }\n",
              "\n",
              "    .dataframe tbody tr th {\n",
              "        vertical-align: top;\n",
              "    }\n",
              "\n",
              "    .dataframe thead th {\n",
              "        text-align: right;\n",
              "    }\n",
              "</style>\n",
              "<table border=\"1\" class=\"dataframe\">\n",
              "  <thead>\n",
              "    <tr style=\"text-align: right;\">\n",
              "      <th></th>\n",
              "      <th>tweet_id</th>\n",
              "      <th>jpg_url</th>\n",
              "      <th>img_num</th>\n",
              "      <th>p1</th>\n",
              "      <th>p1_conf</th>\n",
              "      <th>p1_dog</th>\n",
              "      <th>p2</th>\n",
              "      <th>p2_conf</th>\n",
              "      <th>p2_dog</th>\n",
              "      <th>p3</th>\n",
              "      <th>p3_conf</th>\n",
              "      <th>p3_dog</th>\n",
              "    </tr>\n",
              "  </thead>\n",
              "  <tbody>\n",
              "    <tr>\n",
              "      <th>0</th>\n",
              "      <td>6.660210e+17</td>\n",
              "      <td>https://pbs.twimg.com/media/CT4udn0WwAA0aMy.jpg</td>\n",
              "      <td>1</td>\n",
              "      <td>Welsh_springer_spaniel</td>\n",
              "      <td>0.465074</td>\n",
              "      <td>True</td>\n",
              "      <td>collie</td>\n",
              "      <td>0.156665</td>\n",
              "      <td>True</td>\n",
              "      <td>Shetland_sheepdog</td>\n",
              "      <td>0.061428</td>\n",
              "      <td>True</td>\n",
              "    </tr>\n",
              "    <tr>\n",
              "      <th>1</th>\n",
              "      <td>6.660290e+17</td>\n",
              "      <td>https://pbs.twimg.com/media/CT42GRgUYAA5iDo.jpg</td>\n",
              "      <td>1</td>\n",
              "      <td>redbone</td>\n",
              "      <td>0.506826</td>\n",
              "      <td>True</td>\n",
              "      <td>miniature_pinscher</td>\n",
              "      <td>0.074192</td>\n",
              "      <td>True</td>\n",
              "      <td>Rhodesian_ridgeback</td>\n",
              "      <td>0.072010</td>\n",
              "      <td>True</td>\n",
              "    </tr>\n",
              "    <tr>\n",
              "      <th>2</th>\n",
              "      <td>6.660330e+17</td>\n",
              "      <td>https://pbs.twimg.com/media/CT4521TWwAEvMyu.jpg</td>\n",
              "      <td>1</td>\n",
              "      <td>German_shepherd</td>\n",
              "      <td>0.596461</td>\n",
              "      <td>True</td>\n",
              "      <td>malinois</td>\n",
              "      <td>0.138584</td>\n",
              "      <td>True</td>\n",
              "      <td>bloodhound</td>\n",
              "      <td>0.116197</td>\n",
              "      <td>True</td>\n",
              "    </tr>\n",
              "    <tr>\n",
              "      <th>3</th>\n",
              "      <td>6.660440e+17</td>\n",
              "      <td>https://pbs.twimg.com/media/CT5Dr8HUEAA-lEu.jpg</td>\n",
              "      <td>1</td>\n",
              "      <td>Rhodesian_ridgeback</td>\n",
              "      <td>0.408143</td>\n",
              "      <td>True</td>\n",
              "      <td>redbone</td>\n",
              "      <td>0.360687</td>\n",
              "      <td>True</td>\n",
              "      <td>miniature_pinscher</td>\n",
              "      <td>0.222752</td>\n",
              "      <td>True</td>\n",
              "    </tr>\n",
              "    <tr>\n",
              "      <th>4</th>\n",
              "      <td>6.660490e+17</td>\n",
              "      <td>https://pbs.twimg.com/media/CT5IQmsXIAAKY4A.jpg</td>\n",
              "      <td>1</td>\n",
              "      <td>miniature_pinscher</td>\n",
              "      <td>0.560311</td>\n",
              "      <td>True</td>\n",
              "      <td>Rottweiler</td>\n",
              "      <td>0.243682</td>\n",
              "      <td>True</td>\n",
              "      <td>Doberman</td>\n",
              "      <td>0.154629</td>\n",
              "      <td>True</td>\n",
              "    </tr>\n",
              "    <tr>\n",
              "      <th>...</th>\n",
              "      <td>...</td>\n",
              "      <td>...</td>\n",
              "      <td>...</td>\n",
              "      <td>...</td>\n",
              "      <td>...</td>\n",
              "      <td>...</td>\n",
              "      <td>...</td>\n",
              "      <td>...</td>\n",
              "      <td>...</td>\n",
              "      <td>...</td>\n",
              "      <td>...</td>\n",
              "      <td>...</td>\n",
              "    </tr>\n",
              "    <tr>\n",
              "      <th>2070</th>\n",
              "      <td>8.913280e+17</td>\n",
              "      <td>https://pbs.twimg.com/media/DF6hr6BUMAAzZgT.jpg</td>\n",
              "      <td>2</td>\n",
              "      <td>basset</td>\n",
              "      <td>0.555712</td>\n",
              "      <td>True</td>\n",
              "      <td>English_springer</td>\n",
              "      <td>0.225770</td>\n",
              "      <td>True</td>\n",
              "      <td>German_short-haired_pointer</td>\n",
              "      <td>0.175219</td>\n",
              "      <td>True</td>\n",
              "    </tr>\n",
              "    <tr>\n",
              "      <th>2071</th>\n",
              "      <td>8.916900e+17</td>\n",
              "      <td>https://pbs.twimg.com/media/DF_q7IAWsAEuuN8.jpg</td>\n",
              "      <td>1</td>\n",
              "      <td>paper_towel</td>\n",
              "      <td>0.170278</td>\n",
              "      <td>False</td>\n",
              "      <td>Labrador_retriever</td>\n",
              "      <td>0.168086</td>\n",
              "      <td>True</td>\n",
              "      <td>spatula</td>\n",
              "      <td>0.040836</td>\n",
              "      <td>False</td>\n",
              "    </tr>\n",
              "    <tr>\n",
              "      <th>2072</th>\n",
              "      <td>8.918150e+17</td>\n",
              "      <td>https://pbs.twimg.com/media/DGBdLU1WsAANxJ9.jpg</td>\n",
              "      <td>1</td>\n",
              "      <td>Chihuahua</td>\n",
              "      <td>0.716012</td>\n",
              "      <td>True</td>\n",
              "      <td>malamute</td>\n",
              "      <td>0.078253</td>\n",
              "      <td>True</td>\n",
              "      <td>kelpie</td>\n",
              "      <td>0.031379</td>\n",
              "      <td>True</td>\n",
              "    </tr>\n",
              "    <tr>\n",
              "      <th>2073</th>\n",
              "      <td>8.921770e+17</td>\n",
              "      <td>https://pbs.twimg.com/media/DGGmoV4XsAAUL6n.jpg</td>\n",
              "      <td>1</td>\n",
              "      <td>Chihuahua</td>\n",
              "      <td>0.323581</td>\n",
              "      <td>True</td>\n",
              "      <td>Pekinese</td>\n",
              "      <td>0.090647</td>\n",
              "      <td>True</td>\n",
              "      <td>papillon</td>\n",
              "      <td>0.068957</td>\n",
              "      <td>True</td>\n",
              "    </tr>\n",
              "    <tr>\n",
              "      <th>2074</th>\n",
              "      <td>8.924210e+17</td>\n",
              "      <td>https://pbs.twimg.com/media/DGKD1-bXoAAIAUK.jpg</td>\n",
              "      <td>1</td>\n",
              "      <td>orange</td>\n",
              "      <td>0.097049</td>\n",
              "      <td>False</td>\n",
              "      <td>bagel</td>\n",
              "      <td>0.085851</td>\n",
              "      <td>False</td>\n",
              "      <td>banana</td>\n",
              "      <td>0.076110</td>\n",
              "      <td>False</td>\n",
              "    </tr>\n",
              "  </tbody>\n",
              "</table>\n",
              "<p>2075 rows × 12 columns</p>\n",
              "</div>"
            ],
            "text/plain": [
              "          tweet_id  ... p3_dog\n",
              "0     6.660210e+17  ...   True\n",
              "1     6.660290e+17  ...   True\n",
              "2     6.660330e+17  ...   True\n",
              "3     6.660440e+17  ...   True\n",
              "4     6.660490e+17  ...   True\n",
              "...            ...  ...    ...\n",
              "2070  8.913280e+17  ...   True\n",
              "2071  8.916900e+17  ...  False\n",
              "2072  8.918150e+17  ...   True\n",
              "2073  8.921770e+17  ...   True\n",
              "2074  8.924210e+17  ...  False\n",
              "\n",
              "[2075 rows x 12 columns]"
            ]
          },
          "metadata": {
            "tags": []
          },
          "execution_count": 5
        }
      ]
    },
    {
      "cell_type": "markdown",
      "metadata": {
        "id": "DKsVV4GnFiJ1"
      },
      "source": [
        "Shape of data"
      ]
    },
    {
      "cell_type": "code",
      "metadata": {
        "colab": {
          "base_uri": "https://localhost:8080/"
        },
        "id": "BTkpiTHrGQFa",
        "outputId": "81c8ac7f-c1dd-4b88-f2bc-e98f61f49301"
      },
      "source": [
        "archive.shape"
      ],
      "execution_count": 6,
      "outputs": [
        {
          "output_type": "execute_result",
          "data": {
            "text/plain": [
              "(2356, 17)"
            ]
          },
          "metadata": {
            "tags": []
          },
          "execution_count": 6
        }
      ]
    },
    {
      "cell_type": "code",
      "metadata": {
        "colab": {
          "base_uri": "https://localhost:8080/"
        },
        "id": "4RIDT8KJE-Jd",
        "outputId": "e4174bfc-313f-468c-ad03-b738b69a4ee3"
      },
      "source": [
        "tweet.shape"
      ],
      "execution_count": 7,
      "outputs": [
        {
          "output_type": "execute_result",
          "data": {
            "text/plain": [
              "(2354, 31)"
            ]
          },
          "metadata": {
            "tags": []
          },
          "execution_count": 7
        }
      ]
    },
    {
      "cell_type": "code",
      "metadata": {
        "colab": {
          "base_uri": "https://localhost:8080/"
        },
        "id": "QL9zdHZSFDkz",
        "outputId": "846df2f7-8b75-4611-cbf6-79164e12ef1c"
      },
      "source": [
        "image.shape"
      ],
      "execution_count": 8,
      "outputs": [
        {
          "output_type": "execute_result",
          "data": {
            "text/plain": [
              "(2075, 12)"
            ]
          },
          "metadata": {
            "tags": []
          },
          "execution_count": 8
        }
      ]
    },
    {
      "cell_type": "markdown",
      "metadata": {
        "id": "1oJMFmsmF2Wd"
      },
      "source": [
        "names of column\r\n",
        "\r\n",
        "\r\n"
      ]
    },
    {
      "cell_type": "code",
      "metadata": {
        "colab": {
          "base_uri": "https://localhost:8080/"
        },
        "id": "EzG-m6tZN_wZ",
        "outputId": "adf8322b-368e-4142-bee2-446bef83e465"
      },
      "source": [
        "archive.columns"
      ],
      "execution_count": 9,
      "outputs": [
        {
          "output_type": "execute_result",
          "data": {
            "text/plain": [
              "Index(['tweet_id', 'in_reply_to_status_id', 'in_reply_to_user_id', 'timestamp',\n",
              "       'source', 'text', 'retweeted_status_id', 'retweeted_status_user_id',\n",
              "       'retweeted_status_timestamp', 'expanded_urls', 'rating_numerator',\n",
              "       'rating_denominator', 'name', 'doggo', 'floofer', 'pupper', 'puppo'],\n",
              "      dtype='object')"
            ]
          },
          "metadata": {
            "tags": []
          },
          "execution_count": 9
        }
      ]
    },
    {
      "cell_type": "code",
      "metadata": {
        "colab": {
          "base_uri": "https://localhost:8080/"
        },
        "id": "jEZ1jc2FFK1O",
        "outputId": "51db54b3-03d5-4fd9-b551-cd5d4205fa34"
      },
      "source": [
        "tweet.columns"
      ],
      "execution_count": 10,
      "outputs": [
        {
          "output_type": "execute_result",
          "data": {
            "text/plain": [
              "Index(['created_at', 'id', 'id_str', 'full_text', 'truncated',\n",
              "       'display_text_range', 'entities', 'extended_entities', 'source',\n",
              "       'in_reply_to_status_id', 'in_reply_to_status_id_str',\n",
              "       'in_reply_to_user_id', 'in_reply_to_user_id_str',\n",
              "       'in_reply_to_screen_name', 'user', 'geo', 'coordinates', 'place',\n",
              "       'contributors', 'is_quote_status', 'retweet_count', 'favorite_count',\n",
              "       'favorited', 'retweeted', 'possibly_sensitive',\n",
              "       'possibly_sensitive_appealable', 'lang', 'retweeted_status',\n",
              "       'quoted_status_id', 'quoted_status_id_str', 'quoted_status'],\n",
              "      dtype='object')"
            ]
          },
          "metadata": {
            "tags": []
          },
          "execution_count": 10
        }
      ]
    },
    {
      "cell_type": "code",
      "metadata": {
        "colab": {
          "base_uri": "https://localhost:8080/"
        },
        "id": "0gEV8RYuFOpQ",
        "outputId": "ed2f9744-0a27-45ed-8d52-60798c629420"
      },
      "source": [
        "image.columns"
      ],
      "execution_count": 11,
      "outputs": [
        {
          "output_type": "execute_result",
          "data": {
            "text/plain": [
              "Index(['tweet_id', 'jpg_url', 'img_num', 'p1', 'p1_conf', 'p1_dog', 'p2',\n",
              "       'p2_conf', 'p2_dog', 'p3', 'p3_conf', 'p3_dog'],\n",
              "      dtype='object')"
            ]
          },
          "metadata": {
            "tags": []
          },
          "execution_count": 11
        }
      ]
    },
    {
      "cell_type": "markdown",
      "metadata": {
        "id": "t7XzYP_8GBML"
      },
      "source": [
        "\r\n",
        "*   see the info of the data. \r\n",
        "\r\n",
        "*   we can no variable data_type and variable contains null values.\r\n",
        "\r\n",
        "\r\n"
      ]
    },
    {
      "cell_type": "code",
      "metadata": {
        "colab": {
          "base_uri": "https://localhost:8080/"
        },
        "id": "NtYmFACbEHEk",
        "outputId": "6627f31d-10aa-4ef0-8ca7-78fa9e62f3e5"
      },
      "source": [
        "archive.info()"
      ],
      "execution_count": 12,
      "outputs": [
        {
          "output_type": "stream",
          "text": [
            "<class 'pandas.core.frame.DataFrame'>\n",
            "RangeIndex: 2356 entries, 0 to 2355\n",
            "Data columns (total 17 columns):\n",
            " #   Column                      Non-Null Count  Dtype  \n",
            "---  ------                      --------------  -----  \n",
            " 0   tweet_id                    2356 non-null   int64  \n",
            " 1   in_reply_to_status_id       78 non-null     float64\n",
            " 2   in_reply_to_user_id         78 non-null     float64\n",
            " 3   timestamp                   2356 non-null   object \n",
            " 4   source                      2356 non-null   object \n",
            " 5   text                        2356 non-null   object \n",
            " 6   retweeted_status_id         181 non-null    float64\n",
            " 7   retweeted_status_user_id    181 non-null    float64\n",
            " 8   retweeted_status_timestamp  181 non-null    object \n",
            " 9   expanded_urls               2297 non-null   object \n",
            " 10  rating_numerator            2356 non-null   int64  \n",
            " 11  rating_denominator          2356 non-null   int64  \n",
            " 12  name                        2356 non-null   object \n",
            " 13  doggo                       2356 non-null   object \n",
            " 14  floofer                     2356 non-null   object \n",
            " 15  pupper                      2356 non-null   object \n",
            " 16  puppo                       2356 non-null   object \n",
            "dtypes: float64(4), int64(3), object(10)\n",
            "memory usage: 313.0+ KB\n"
          ],
          "name": "stdout"
        }
      ]
    },
    {
      "cell_type": "code",
      "metadata": {
        "colab": {
          "base_uri": "https://localhost:8080/"
        },
        "id": "jXzD-kJ9GZyB",
        "outputId": "8eee74df-2fc4-4b7c-ba94-d81550427056"
      },
      "source": [
        "tweet.info()"
      ],
      "execution_count": 13,
      "outputs": [
        {
          "output_type": "stream",
          "text": [
            "<class 'pandas.core.frame.DataFrame'>\n",
            "RangeIndex: 2354 entries, 0 to 2353\n",
            "Data columns (total 31 columns):\n",
            " #   Column                         Non-Null Count  Dtype              \n",
            "---  ------                         --------------  -----              \n",
            " 0   created_at                     2354 non-null   datetime64[ns, UTC]\n",
            " 1   id                             2354 non-null   int64              \n",
            " 2   id_str                         2354 non-null   int64              \n",
            " 3   full_text                      2354 non-null   object             \n",
            " 4   truncated                      2354 non-null   bool               \n",
            " 5   display_text_range             2354 non-null   object             \n",
            " 6   entities                       2354 non-null   object             \n",
            " 7   extended_entities              2073 non-null   object             \n",
            " 8   source                         2354 non-null   object             \n",
            " 9   in_reply_to_status_id          78 non-null     float64            \n",
            " 10  in_reply_to_status_id_str      78 non-null     float64            \n",
            " 11  in_reply_to_user_id            78 non-null     float64            \n",
            " 12  in_reply_to_user_id_str        78 non-null     float64            \n",
            " 13  in_reply_to_screen_name        78 non-null     object             \n",
            " 14  user                           2354 non-null   object             \n",
            " 15  geo                            0 non-null      float64            \n",
            " 16  coordinates                    0 non-null      float64            \n",
            " 17  place                          1 non-null      object             \n",
            " 18  contributors                   0 non-null      float64            \n",
            " 19  is_quote_status                2354 non-null   bool               \n",
            " 20  retweet_count                  2354 non-null   int64              \n",
            " 21  favorite_count                 2354 non-null   int64              \n",
            " 22  favorited                      2354 non-null   bool               \n",
            " 23  retweeted                      2354 non-null   bool               \n",
            " 24  possibly_sensitive             2211 non-null   float64            \n",
            " 25  possibly_sensitive_appealable  2211 non-null   float64            \n",
            " 26  lang                           2354 non-null   object             \n",
            " 27  retweeted_status               179 non-null    object             \n",
            " 28  quoted_status_id               29 non-null     float64            \n",
            " 29  quoted_status_id_str           29 non-null     float64            \n",
            " 30  quoted_status                  28 non-null     object             \n",
            "dtypes: bool(4), datetime64[ns, UTC](1), float64(11), int64(4), object(11)\n",
            "memory usage: 505.9+ KB\n"
          ],
          "name": "stdout"
        }
      ]
    },
    {
      "cell_type": "code",
      "metadata": {
        "colab": {
          "base_uri": "https://localhost:8080/"
        },
        "id": "VPfQr14lGeTA",
        "outputId": "3062a2c2-3234-408d-b5e8-75944a804a4e"
      },
      "source": [
        "image.info()"
      ],
      "execution_count": 14,
      "outputs": [
        {
          "output_type": "stream",
          "text": [
            "<class 'pandas.core.frame.DataFrame'>\n",
            "RangeIndex: 2075 entries, 0 to 2074\n",
            "Data columns (total 12 columns):\n",
            " #   Column    Non-Null Count  Dtype  \n",
            "---  ------    --------------  -----  \n",
            " 0   tweet_id  2075 non-null   float64\n",
            " 1   jpg_url   2075 non-null   object \n",
            " 2   img_num   2075 non-null   int64  \n",
            " 3   p1        2075 non-null   object \n",
            " 4   p1_conf   2075 non-null   float64\n",
            " 5   p1_dog    2075 non-null   bool   \n",
            " 6   p2        2075 non-null   object \n",
            " 7   p2_conf   2075 non-null   float64\n",
            " 8   p2_dog    2075 non-null   bool   \n",
            " 9   p3        2075 non-null   object \n",
            " 10  p3_conf   2075 non-null   float64\n",
            " 11  p3_dog    2075 non-null   bool   \n",
            "dtypes: bool(3), float64(4), int64(1), object(4)\n",
            "memory usage: 152.1+ KB\n"
          ],
          "name": "stdout"
        }
      ]
    },
    {
      "cell_type": "markdown",
      "metadata": {
        "id": "cH1x7V25Gka5"
      },
      "source": [
        "have a glance over numeric variables' values\r\n"
      ]
    },
    {
      "cell_type": "code",
      "metadata": {
        "colab": {
          "base_uri": "https://localhost:8080/",
          "height": 320
        },
        "id": "Kup99uF_GAVJ",
        "outputId": "89b2bc85-9182-45f7-d79d-542622c580af"
      },
      "source": [
        "archive.describe()"
      ],
      "execution_count": 15,
      "outputs": [
        {
          "output_type": "execute_result",
          "data": {
            "text/html": [
              "<div>\n",
              "<style scoped>\n",
              "    .dataframe tbody tr th:only-of-type {\n",
              "        vertical-align: middle;\n",
              "    }\n",
              "\n",
              "    .dataframe tbody tr th {\n",
              "        vertical-align: top;\n",
              "    }\n",
              "\n",
              "    .dataframe thead th {\n",
              "        text-align: right;\n",
              "    }\n",
              "</style>\n",
              "<table border=\"1\" class=\"dataframe\">\n",
              "  <thead>\n",
              "    <tr style=\"text-align: right;\">\n",
              "      <th></th>\n",
              "      <th>tweet_id</th>\n",
              "      <th>in_reply_to_status_id</th>\n",
              "      <th>in_reply_to_user_id</th>\n",
              "      <th>retweeted_status_id</th>\n",
              "      <th>retweeted_status_user_id</th>\n",
              "      <th>rating_numerator</th>\n",
              "      <th>rating_denominator</th>\n",
              "    </tr>\n",
              "  </thead>\n",
              "  <tbody>\n",
              "    <tr>\n",
              "      <th>count</th>\n",
              "      <td>2.356000e+03</td>\n",
              "      <td>7.800000e+01</td>\n",
              "      <td>7.800000e+01</td>\n",
              "      <td>1.810000e+02</td>\n",
              "      <td>1.810000e+02</td>\n",
              "      <td>2356.000000</td>\n",
              "      <td>2356.000000</td>\n",
              "    </tr>\n",
              "    <tr>\n",
              "      <th>mean</th>\n",
              "      <td>7.427716e+17</td>\n",
              "      <td>7.455079e+17</td>\n",
              "      <td>2.014171e+16</td>\n",
              "      <td>7.720400e+17</td>\n",
              "      <td>1.241698e+16</td>\n",
              "      <td>13.126486</td>\n",
              "      <td>10.455433</td>\n",
              "    </tr>\n",
              "    <tr>\n",
              "      <th>std</th>\n",
              "      <td>6.856705e+16</td>\n",
              "      <td>7.582492e+16</td>\n",
              "      <td>1.252797e+17</td>\n",
              "      <td>6.236928e+16</td>\n",
              "      <td>9.599254e+16</td>\n",
              "      <td>45.876648</td>\n",
              "      <td>6.745237</td>\n",
              "    </tr>\n",
              "    <tr>\n",
              "      <th>min</th>\n",
              "      <td>6.660209e+17</td>\n",
              "      <td>6.658147e+17</td>\n",
              "      <td>1.185634e+07</td>\n",
              "      <td>6.661041e+17</td>\n",
              "      <td>7.832140e+05</td>\n",
              "      <td>0.000000</td>\n",
              "      <td>0.000000</td>\n",
              "    </tr>\n",
              "    <tr>\n",
              "      <th>25%</th>\n",
              "      <td>6.783989e+17</td>\n",
              "      <td>6.757419e+17</td>\n",
              "      <td>3.086374e+08</td>\n",
              "      <td>7.186315e+17</td>\n",
              "      <td>4.196984e+09</td>\n",
              "      <td>10.000000</td>\n",
              "      <td>10.000000</td>\n",
              "    </tr>\n",
              "    <tr>\n",
              "      <th>50%</th>\n",
              "      <td>7.196279e+17</td>\n",
              "      <td>7.038708e+17</td>\n",
              "      <td>4.196984e+09</td>\n",
              "      <td>7.804657e+17</td>\n",
              "      <td>4.196984e+09</td>\n",
              "      <td>11.000000</td>\n",
              "      <td>10.000000</td>\n",
              "    </tr>\n",
              "    <tr>\n",
              "      <th>75%</th>\n",
              "      <td>7.993373e+17</td>\n",
              "      <td>8.257804e+17</td>\n",
              "      <td>4.196984e+09</td>\n",
              "      <td>8.203146e+17</td>\n",
              "      <td>4.196984e+09</td>\n",
              "      <td>12.000000</td>\n",
              "      <td>10.000000</td>\n",
              "    </tr>\n",
              "    <tr>\n",
              "      <th>max</th>\n",
              "      <td>8.924206e+17</td>\n",
              "      <td>8.862664e+17</td>\n",
              "      <td>8.405479e+17</td>\n",
              "      <td>8.874740e+17</td>\n",
              "      <td>7.874618e+17</td>\n",
              "      <td>1776.000000</td>\n",
              "      <td>170.000000</td>\n",
              "    </tr>\n",
              "  </tbody>\n",
              "</table>\n",
              "</div>"
            ],
            "text/plain": [
              "           tweet_id  ...  rating_denominator\n",
              "count  2.356000e+03  ...         2356.000000\n",
              "mean   7.427716e+17  ...           10.455433\n",
              "std    6.856705e+16  ...            6.745237\n",
              "min    6.660209e+17  ...            0.000000\n",
              "25%    6.783989e+17  ...           10.000000\n",
              "50%    7.196279e+17  ...           10.000000\n",
              "75%    7.993373e+17  ...           10.000000\n",
              "max    8.924206e+17  ...          170.000000\n",
              "\n",
              "[8 rows x 7 columns]"
            ]
          },
          "metadata": {
            "tags": []
          },
          "execution_count": 15
        }
      ]
    },
    {
      "cell_type": "code",
      "metadata": {
        "colab": {
          "base_uri": "https://localhost:8080/",
          "height": 320
        },
        "id": "xlYbTXvYGsnO",
        "outputId": "35339a9d-44d4-467e-f985-e949897a2966"
      },
      "source": [
        "tweet.describe()"
      ],
      "execution_count": 16,
      "outputs": [
        {
          "output_type": "execute_result",
          "data": {
            "text/html": [
              "<div>\n",
              "<style scoped>\n",
              "    .dataframe tbody tr th:only-of-type {\n",
              "        vertical-align: middle;\n",
              "    }\n",
              "\n",
              "    .dataframe tbody tr th {\n",
              "        vertical-align: top;\n",
              "    }\n",
              "\n",
              "    .dataframe thead th {\n",
              "        text-align: right;\n",
              "    }\n",
              "</style>\n",
              "<table border=\"1\" class=\"dataframe\">\n",
              "  <thead>\n",
              "    <tr style=\"text-align: right;\">\n",
              "      <th></th>\n",
              "      <th>id</th>\n",
              "      <th>id_str</th>\n",
              "      <th>in_reply_to_status_id</th>\n",
              "      <th>in_reply_to_status_id_str</th>\n",
              "      <th>in_reply_to_user_id</th>\n",
              "      <th>in_reply_to_user_id_str</th>\n",
              "      <th>geo</th>\n",
              "      <th>coordinates</th>\n",
              "      <th>contributors</th>\n",
              "      <th>retweet_count</th>\n",
              "      <th>favorite_count</th>\n",
              "      <th>possibly_sensitive</th>\n",
              "      <th>possibly_sensitive_appealable</th>\n",
              "      <th>quoted_status_id</th>\n",
              "      <th>quoted_status_id_str</th>\n",
              "    </tr>\n",
              "  </thead>\n",
              "  <tbody>\n",
              "    <tr>\n",
              "      <th>count</th>\n",
              "      <td>2.354000e+03</td>\n",
              "      <td>2.354000e+03</td>\n",
              "      <td>7.800000e+01</td>\n",
              "      <td>7.800000e+01</td>\n",
              "      <td>7.800000e+01</td>\n",
              "      <td>7.800000e+01</td>\n",
              "      <td>0.0</td>\n",
              "      <td>0.0</td>\n",
              "      <td>0.0</td>\n",
              "      <td>2354.000000</td>\n",
              "      <td>2354.000000</td>\n",
              "      <td>2211.0</td>\n",
              "      <td>2211.0</td>\n",
              "      <td>2.900000e+01</td>\n",
              "      <td>2.900000e+01</td>\n",
              "    </tr>\n",
              "    <tr>\n",
              "      <th>mean</th>\n",
              "      <td>7.426978e+17</td>\n",
              "      <td>7.426978e+17</td>\n",
              "      <td>7.455079e+17</td>\n",
              "      <td>7.455079e+17</td>\n",
              "      <td>2.014171e+16</td>\n",
              "      <td>2.014171e+16</td>\n",
              "      <td>NaN</td>\n",
              "      <td>NaN</td>\n",
              "      <td>NaN</td>\n",
              "      <td>3164.797366</td>\n",
              "      <td>8080.968564</td>\n",
              "      <td>0.0</td>\n",
              "      <td>0.0</td>\n",
              "      <td>8.162686e+17</td>\n",
              "      <td>8.162686e+17</td>\n",
              "    </tr>\n",
              "    <tr>\n",
              "      <th>std</th>\n",
              "      <td>6.852812e+16</td>\n",
              "      <td>6.852812e+16</td>\n",
              "      <td>7.582492e+16</td>\n",
              "      <td>7.582492e+16</td>\n",
              "      <td>1.252797e+17</td>\n",
              "      <td>1.252797e+17</td>\n",
              "      <td>NaN</td>\n",
              "      <td>NaN</td>\n",
              "      <td>NaN</td>\n",
              "      <td>5284.770364</td>\n",
              "      <td>11814.771334</td>\n",
              "      <td>0.0</td>\n",
              "      <td>0.0</td>\n",
              "      <td>6.164161e+16</td>\n",
              "      <td>6.164161e+16</td>\n",
              "    </tr>\n",
              "    <tr>\n",
              "      <th>min</th>\n",
              "      <td>6.660209e+17</td>\n",
              "      <td>6.660209e+17</td>\n",
              "      <td>6.658147e+17</td>\n",
              "      <td>6.658147e+17</td>\n",
              "      <td>1.185634e+07</td>\n",
              "      <td>1.185634e+07</td>\n",
              "      <td>NaN</td>\n",
              "      <td>NaN</td>\n",
              "      <td>NaN</td>\n",
              "      <td>0.000000</td>\n",
              "      <td>0.000000</td>\n",
              "      <td>0.0</td>\n",
              "      <td>0.0</td>\n",
              "      <td>6.721083e+17</td>\n",
              "      <td>6.721083e+17</td>\n",
              "    </tr>\n",
              "    <tr>\n",
              "      <th>25%</th>\n",
              "      <td>6.783975e+17</td>\n",
              "      <td>6.783975e+17</td>\n",
              "      <td>6.757419e+17</td>\n",
              "      <td>6.757419e+17</td>\n",
              "      <td>3.086374e+08</td>\n",
              "      <td>3.086374e+08</td>\n",
              "      <td>NaN</td>\n",
              "      <td>NaN</td>\n",
              "      <td>NaN</td>\n",
              "      <td>624.500000</td>\n",
              "      <td>1415.000000</td>\n",
              "      <td>0.0</td>\n",
              "      <td>0.0</td>\n",
              "      <td>7.888183e+17</td>\n",
              "      <td>7.888183e+17</td>\n",
              "    </tr>\n",
              "    <tr>\n",
              "      <th>50%</th>\n",
              "      <td>7.194596e+17</td>\n",
              "      <td>7.194596e+17</td>\n",
              "      <td>7.038708e+17</td>\n",
              "      <td>7.038708e+17</td>\n",
              "      <td>4.196984e+09</td>\n",
              "      <td>4.196984e+09</td>\n",
              "      <td>NaN</td>\n",
              "      <td>NaN</td>\n",
              "      <td>NaN</td>\n",
              "      <td>1473.500000</td>\n",
              "      <td>3603.500000</td>\n",
              "      <td>0.0</td>\n",
              "      <td>0.0</td>\n",
              "      <td>8.340867e+17</td>\n",
              "      <td>8.340867e+17</td>\n",
              "    </tr>\n",
              "    <tr>\n",
              "      <th>75%</th>\n",
              "      <td>7.993058e+17</td>\n",
              "      <td>7.993058e+17</td>\n",
              "      <td>8.257804e+17</td>\n",
              "      <td>8.257804e+17</td>\n",
              "      <td>4.196984e+09</td>\n",
              "      <td>4.196984e+09</td>\n",
              "      <td>NaN</td>\n",
              "      <td>NaN</td>\n",
              "      <td>NaN</td>\n",
              "      <td>3652.000000</td>\n",
              "      <td>10122.250000</td>\n",
              "      <td>0.0</td>\n",
              "      <td>0.0</td>\n",
              "      <td>8.664587e+17</td>\n",
              "      <td>8.664587e+17</td>\n",
              "    </tr>\n",
              "    <tr>\n",
              "      <th>max</th>\n",
              "      <td>8.924206e+17</td>\n",
              "      <td>8.924206e+17</td>\n",
              "      <td>8.862664e+17</td>\n",
              "      <td>8.862664e+17</td>\n",
              "      <td>8.405479e+17</td>\n",
              "      <td>8.405479e+17</td>\n",
              "      <td>NaN</td>\n",
              "      <td>NaN</td>\n",
              "      <td>NaN</td>\n",
              "      <td>79515.000000</td>\n",
              "      <td>132810.000000</td>\n",
              "      <td>0.0</td>\n",
              "      <td>0.0</td>\n",
              "      <td>8.860534e+17</td>\n",
              "      <td>8.860534e+17</td>\n",
              "    </tr>\n",
              "  </tbody>\n",
              "</table>\n",
              "</div>"
            ],
            "text/plain": [
              "                 id        id_str  ...  quoted_status_id  quoted_status_id_str\n",
              "count  2.354000e+03  2.354000e+03  ...      2.900000e+01          2.900000e+01\n",
              "mean   7.426978e+17  7.426978e+17  ...      8.162686e+17          8.162686e+17\n",
              "std    6.852812e+16  6.852812e+16  ...      6.164161e+16          6.164161e+16\n",
              "min    6.660209e+17  6.660209e+17  ...      6.721083e+17          6.721083e+17\n",
              "25%    6.783975e+17  6.783975e+17  ...      7.888183e+17          7.888183e+17\n",
              "50%    7.194596e+17  7.194596e+17  ...      8.340867e+17          8.340867e+17\n",
              "75%    7.993058e+17  7.993058e+17  ...      8.664587e+17          8.664587e+17\n",
              "max    8.924206e+17  8.924206e+17  ...      8.860534e+17          8.860534e+17\n",
              "\n",
              "[8 rows x 15 columns]"
            ]
          },
          "metadata": {
            "tags": []
          },
          "execution_count": 16
        }
      ]
    },
    {
      "cell_type": "code",
      "metadata": {
        "colab": {
          "base_uri": "https://localhost:8080/",
          "height": 300
        },
        "id": "FoferMCeGw6R",
        "outputId": "5ed09f57-fa68-4e71-a2ef-a67abec839fd"
      },
      "source": [
        "image.describe()"
      ],
      "execution_count": 17,
      "outputs": [
        {
          "output_type": "execute_result",
          "data": {
            "text/html": [
              "<div>\n",
              "<style scoped>\n",
              "    .dataframe tbody tr th:only-of-type {\n",
              "        vertical-align: middle;\n",
              "    }\n",
              "\n",
              "    .dataframe tbody tr th {\n",
              "        vertical-align: top;\n",
              "    }\n",
              "\n",
              "    .dataframe thead th {\n",
              "        text-align: right;\n",
              "    }\n",
              "</style>\n",
              "<table border=\"1\" class=\"dataframe\">\n",
              "  <thead>\n",
              "    <tr style=\"text-align: right;\">\n",
              "      <th></th>\n",
              "      <th>tweet_id</th>\n",
              "      <th>img_num</th>\n",
              "      <th>p1_conf</th>\n",
              "      <th>p2_conf</th>\n",
              "      <th>p3_conf</th>\n",
              "    </tr>\n",
              "  </thead>\n",
              "  <tbody>\n",
              "    <tr>\n",
              "      <th>count</th>\n",
              "      <td>2.075000e+03</td>\n",
              "      <td>2075.000000</td>\n",
              "      <td>2075.000000</td>\n",
              "      <td>2.075000e+03</td>\n",
              "      <td>2.075000e+03</td>\n",
              "    </tr>\n",
              "    <tr>\n",
              "      <th>mean</th>\n",
              "      <td>7.384514e+17</td>\n",
              "      <td>1.203855</td>\n",
              "      <td>0.594548</td>\n",
              "      <td>1.345886e-01</td>\n",
              "      <td>6.032417e-02</td>\n",
              "    </tr>\n",
              "    <tr>\n",
              "      <th>std</th>\n",
              "      <td>6.785204e+16</td>\n",
              "      <td>0.561875</td>\n",
              "      <td>0.271174</td>\n",
              "      <td>1.006657e-01</td>\n",
              "      <td>5.090593e-02</td>\n",
              "    </tr>\n",
              "    <tr>\n",
              "      <th>min</th>\n",
              "      <td>6.660210e+17</td>\n",
              "      <td>1.000000</td>\n",
              "      <td>0.044333</td>\n",
              "      <td>1.010000e-08</td>\n",
              "      <td>1.740000e-10</td>\n",
              "    </tr>\n",
              "    <tr>\n",
              "      <th>25%</th>\n",
              "      <td>6.764835e+17</td>\n",
              "      <td>1.000000</td>\n",
              "      <td>0.364412</td>\n",
              "      <td>5.388625e-02</td>\n",
              "      <td>1.622240e-02</td>\n",
              "    </tr>\n",
              "    <tr>\n",
              "      <th>50%</th>\n",
              "      <td>7.119990e+17</td>\n",
              "      <td>1.000000</td>\n",
              "      <td>0.588230</td>\n",
              "      <td>1.181810e-01</td>\n",
              "      <td>4.944380e-02</td>\n",
              "    </tr>\n",
              "    <tr>\n",
              "      <th>75%</th>\n",
              "      <td>7.932035e+17</td>\n",
              "      <td>1.000000</td>\n",
              "      <td>0.843855</td>\n",
              "      <td>1.955655e-01</td>\n",
              "      <td>9.180755e-02</td>\n",
              "    </tr>\n",
              "    <tr>\n",
              "      <th>max</th>\n",
              "      <td>8.924210e+17</td>\n",
              "      <td>4.000000</td>\n",
              "      <td>1.000000</td>\n",
              "      <td>4.880140e-01</td>\n",
              "      <td>2.734190e-01</td>\n",
              "    </tr>\n",
              "  </tbody>\n",
              "</table>\n",
              "</div>"
            ],
            "text/plain": [
              "           tweet_id      img_num      p1_conf       p2_conf       p3_conf\n",
              "count  2.075000e+03  2075.000000  2075.000000  2.075000e+03  2.075000e+03\n",
              "mean   7.384514e+17     1.203855     0.594548  1.345886e-01  6.032417e-02\n",
              "std    6.785204e+16     0.561875     0.271174  1.006657e-01  5.090593e-02\n",
              "min    6.660210e+17     1.000000     0.044333  1.010000e-08  1.740000e-10\n",
              "25%    6.764835e+17     1.000000     0.364412  5.388625e-02  1.622240e-02\n",
              "50%    7.119990e+17     1.000000     0.588230  1.181810e-01  4.944380e-02\n",
              "75%    7.932035e+17     1.000000     0.843855  1.955655e-01  9.180755e-02\n",
              "max    8.924210e+17     4.000000     1.000000  4.880140e-01  2.734190e-01"
            ]
          },
          "metadata": {
            "tags": []
          },
          "execution_count": 17
        }
      ]
    },
    {
      "cell_type": "markdown",
      "metadata": {
        "id": "c8tj6wrwLL67"
      },
      "source": [
        "check if there any duplicated data"
      ]
    },
    {
      "cell_type": "code",
      "metadata": {
        "colab": {
          "base_uri": "https://localhost:8080/"
        },
        "id": "VNv_8lyb-DbN",
        "outputId": "1f3f635b-2388-4046-d065-92dc3d116657"
      },
      "source": [
        "archive.duplicated().sum()"
      ],
      "execution_count": 18,
      "outputs": [
        {
          "output_type": "execute_result",
          "data": {
            "text/plain": [
              "0"
            ]
          },
          "metadata": {
            "tags": []
          },
          "execution_count": 18
        }
      ]
    },
    {
      "cell_type": "code",
      "metadata": {
        "colab": {
          "base_uri": "https://localhost:8080/"
        },
        "id": "uiNqd3AnLR7a",
        "outputId": "63950a2b-b224-4005-f5c9-c72e4baca045"
      },
      "source": [
        "archive['tweet_id'].duplicated().sum()"
      ],
      "execution_count": 19,
      "outputs": [
        {
          "output_type": "execute_result",
          "data": {
            "text/plain": [
              "0"
            ]
          },
          "metadata": {
            "tags": []
          },
          "execution_count": 19
        }
      ]
    },
    {
      "cell_type": "code",
      "metadata": {
        "colab": {
          "base_uri": "https://localhost:8080/"
        },
        "id": "7nUO3fLdLfrg",
        "outputId": "4cfe5803-d44c-43dd-9ac6-9aa3368b0dfb"
      },
      "source": [
        "tweet.astype(str).duplicated().sum()"
      ],
      "execution_count": 20,
      "outputs": [
        {
          "output_type": "execute_result",
          "data": {
            "text/plain": [
              "0"
            ]
          },
          "metadata": {
            "tags": []
          },
          "execution_count": 20
        }
      ]
    },
    {
      "cell_type": "code",
      "metadata": {
        "colab": {
          "base_uri": "https://localhost:8080/"
        },
        "id": "MvPZSh0XMJns",
        "outputId": "423d6eb5-5997-4279-f63c-589588fd0918"
      },
      "source": [
        "tweet['id'].astype(str).duplicated().sum()"
      ],
      "execution_count": 21,
      "outputs": [
        {
          "output_type": "execute_result",
          "data": {
            "text/plain": [
              "0"
            ]
          },
          "metadata": {
            "tags": []
          },
          "execution_count": 21
        }
      ]
    },
    {
      "cell_type": "code",
      "metadata": {
        "colab": {
          "base_uri": "https://localhost:8080/"
        },
        "id": "tWSlTuU9Lnwb",
        "outputId": "ff703458-6f61-4ae1-8566-4628bcd0a1ff"
      },
      "source": [
        "image['tweet_id'].duplicated().sum()"
      ],
      "execution_count": 22,
      "outputs": [
        {
          "output_type": "execute_result",
          "data": {
            "text/plain": [
              "4"
            ]
          },
          "metadata": {
            "tags": []
          },
          "execution_count": 22
        }
      ]
    },
    {
      "cell_type": "markdown",
      "metadata": {
        "id": "HHhH-RyRMxFj"
      },
      "source": [
        "check some specific varibles "
      ]
    },
    {
      "cell_type": "code",
      "metadata": {
        "colab": {
          "base_uri": "https://localhost:8080/"
        },
        "id": "FZ49f5QYMqOL",
        "outputId": "bc1075c2-b472-482f-8c55-6ea7b51df3a7"
      },
      "source": [
        "archive.expanded_urls.unique()"
      ],
      "execution_count": 23,
      "outputs": [
        {
          "output_type": "execute_result",
          "data": {
            "text/plain": [
              "array(['https://twitter.com/dog_rates/status/892420643555336193/photo/1',\n",
              "       'https://twitter.com/dog_rates/status/892177421306343426/photo/1',\n",
              "       'https://twitter.com/dog_rates/status/891815181378084864/photo/1',\n",
              "       ...,\n",
              "       'https://twitter.com/dog_rates/status/666033412701032449/photo/1',\n",
              "       'https://twitter.com/dog_rates/status/666029285002620928/photo/1',\n",
              "       'https://twitter.com/dog_rates/status/666020888022790149/photo/1'],\n",
              "      dtype=object)"
            ]
          },
          "metadata": {
            "tags": []
          },
          "execution_count": 23
        }
      ]
    },
    {
      "cell_type": "code",
      "metadata": {
        "colab": {
          "base_uri": "https://localhost:8080/"
        },
        "id": "O2ptdnxn3eYW",
        "outputId": "6c6bb7c2-4dc8-47af-84a1-64ab6b6b84c3"
      },
      "source": [
        "archive.name.value_counts()"
      ],
      "execution_count": 24,
      "outputs": [
        {
          "output_type": "execute_result",
          "data": {
            "text/plain": [
              "None           745\n",
              "a               55\n",
              "Charlie         12\n",
              "Oliver          11\n",
              "Cooper          11\n",
              "              ... \n",
              "Opie             1\n",
              "infuriating      1\n",
              "Leonidas         1\n",
              "Edmund           1\n",
              "Laela            1\n",
              "Name: name, Length: 957, dtype: int64"
            ]
          },
          "metadata": {
            "tags": []
          },
          "execution_count": 24
        }
      ]
    },
    {
      "cell_type": "code",
      "metadata": {
        "colab": {
          "base_uri": "https://localhost:8080/"
        },
        "id": "t0J7JAe6mFg6",
        "outputId": "c515a600-6a4f-4d00-c1bc-3fcca45f0c1e"
      },
      "source": [
        "tweet.lang.value_counts()"
      ],
      "execution_count": 25,
      "outputs": [
        {
          "output_type": "execute_result",
          "data": {
            "text/plain": [
              "en     2336\n",
              "und       7\n",
              "nl        3\n",
              "in        3\n",
              "tl        1\n",
              "es        1\n",
              "ro        1\n",
              "eu        1\n",
              "et        1\n",
              "Name: lang, dtype: int64"
            ]
          },
          "metadata": {
            "tags": []
          },
          "execution_count": 25
        }
      ]
    },
    {
      "cell_type": "code",
      "metadata": {
        "colab": {
          "base_uri": "https://localhost:8080/"
        },
        "id": "JZRXtXydvcgD",
        "outputId": "912e3bc8-e351-4467-c68e-ab9df5ab3027"
      },
      "source": [
        "tweet.possibly_sensitive.value_counts()"
      ],
      "execution_count": 26,
      "outputs": [
        {
          "output_type": "execute_result",
          "data": {
            "text/plain": [
              "0.0    2211\n",
              "Name: possibly_sensitive, dtype: int64"
            ]
          },
          "metadata": {
            "tags": []
          },
          "execution_count": 26
        }
      ]
    },
    {
      "cell_type": "code",
      "metadata": {
        "colab": {
          "base_uri": "https://localhost:8080/"
        },
        "id": "xWGzQn360hwx",
        "outputId": "fecfb4d3-c5d4-4b92-cfe9-5282f05362a0"
      },
      "source": [
        "tweet.source.value_counts()"
      ],
      "execution_count": 27,
      "outputs": [
        {
          "output_type": "execute_result",
          "data": {
            "text/plain": [
              "<a href=\"http://twitter.com/download/iphone\" rel=\"nofollow\">Twitter for iPhone</a>     2219\n",
              "<a href=\"http://vine.co\" rel=\"nofollow\">Vine - Make a Scene</a>                          91\n",
              "<a href=\"http://twitter.com\" rel=\"nofollow\">Twitter Web Client</a>                       33\n",
              "<a href=\"https://about.twitter.com/products/tweetdeck\" rel=\"nofollow\">TweetDeck</a>      11\n",
              "Name: source, dtype: int64"
            ]
          },
          "metadata": {
            "tags": []
          },
          "execution_count": 27
        }
      ]
    },
    {
      "cell_type": "markdown",
      "metadata": {
        "id": "QURNMd0jN80c"
      },
      "source": [
        "null values"
      ]
    },
    {
      "cell_type": "code",
      "metadata": {
        "colab": {
          "base_uri": "https://localhost:8080/"
        },
        "id": "C3o13eTUmPTZ",
        "outputId": "70c6f23a-5e24-4cdc-993d-3d4ed3bb89f9"
      },
      "source": [
        "archive.isnull().sum()"
      ],
      "execution_count": 28,
      "outputs": [
        {
          "output_type": "execute_result",
          "data": {
            "text/plain": [
              "tweet_id                         0\n",
              "in_reply_to_status_id         2278\n",
              "in_reply_to_user_id           2278\n",
              "timestamp                        0\n",
              "source                           0\n",
              "text                             0\n",
              "retweeted_status_id           2175\n",
              "retweeted_status_user_id      2175\n",
              "retweeted_status_timestamp    2175\n",
              "expanded_urls                   59\n",
              "rating_numerator                 0\n",
              "rating_denominator               0\n",
              "name                             0\n",
              "doggo                            0\n",
              "floofer                          0\n",
              "pupper                           0\n",
              "puppo                            0\n",
              "dtype: int64"
            ]
          },
          "metadata": {
            "tags": []
          },
          "execution_count": 28
        }
      ]
    },
    {
      "cell_type": "code",
      "metadata": {
        "colab": {
          "base_uri": "https://localhost:8080/"
        },
        "id": "tp4eY4ofOAuk",
        "outputId": "2d7ff6a3-bb6a-41c3-d6e7-5cd272f36718"
      },
      "source": [
        "tweet.isnull().sum()"
      ],
      "execution_count": 29,
      "outputs": [
        {
          "output_type": "execute_result",
          "data": {
            "text/plain": [
              "created_at                          0\n",
              "id                                  0\n",
              "id_str                              0\n",
              "full_text                           0\n",
              "truncated                           0\n",
              "display_text_range                  0\n",
              "entities                            0\n",
              "extended_entities                 281\n",
              "source                              0\n",
              "in_reply_to_status_id            2276\n",
              "in_reply_to_status_id_str        2276\n",
              "in_reply_to_user_id              2276\n",
              "in_reply_to_user_id_str          2276\n",
              "in_reply_to_screen_name          2276\n",
              "user                                0\n",
              "geo                              2354\n",
              "coordinates                      2354\n",
              "place                            2353\n",
              "contributors                     2354\n",
              "is_quote_status                     0\n",
              "retweet_count                       0\n",
              "favorite_count                      0\n",
              "favorited                           0\n",
              "retweeted                           0\n",
              "possibly_sensitive                143\n",
              "possibly_sensitive_appealable     143\n",
              "lang                                0\n",
              "retweeted_status                 2175\n",
              "quoted_status_id                 2325\n",
              "quoted_status_id_str             2325\n",
              "quoted_status                    2326\n",
              "dtype: int64"
            ]
          },
          "metadata": {
            "tags": []
          },
          "execution_count": 29
        }
      ]
    },
    {
      "cell_type": "code",
      "metadata": {
        "colab": {
          "base_uri": "https://localhost:8080/"
        },
        "id": "ntiRGmLeOE9s",
        "outputId": "7f7354ad-2ea6-44b5-e779-eb298342d84e"
      },
      "source": [
        "image.isnull().sum()"
      ],
      "execution_count": 30,
      "outputs": [
        {
          "output_type": "execute_result",
          "data": {
            "text/plain": [
              "tweet_id    0\n",
              "jpg_url     0\n",
              "img_num     0\n",
              "p1          0\n",
              "p1_conf     0\n",
              "p1_dog      0\n",
              "p2          0\n",
              "p2_conf     0\n",
              "p2_dog      0\n",
              "p3          0\n",
              "p3_conf     0\n",
              "p3_dog      0\n",
              "dtype: int64"
            ]
          },
          "metadata": {
            "tags": []
          },
          "execution_count": 30
        }
      ]
    },
    {
      "cell_type": "markdown",
      "metadata": {
        "id": "r8Cre5z-_v6x"
      },
      "source": [
        "Quality\r\n",
        "- Time stamp is in object format, whcich should be in datetime format.\r\n",
        "- in_reply_to_status_id has just 78 non-null as well as in_reply_to_user_id which not likely to be solved! also retweeted_status_id 181 non-null and   retweeted_status_user_id.\r\n",
        "- numenator is greater than 10 which is maximum rate!\r\n",
        "- some unwanted data are in \r\n",
        "- doggo, pupper,puppo,floofer variables are object data type which should be string.\r\n",
        "-Name column has \"NONE\" as a value which mean it has nulls \"missing data\".\r\n",
        "- predection table has four id dublicates.\r\n",
        "- many null values in tweets table.\r\n",
        "- tweet data id has different name than image and archive whcich should be the same name.\r\n",
        "\r\n",
        "Tidiness: \r\n",
        "*   dog types are in four seprate column which ahould be one column.\r\n",
        "*   full text column is duplicated in the three tabels\r\n",
        "\r\n",
        "\r\n",
        "\r\n",
        "\r\n",
        "\r\n"
      ]
    },
    {
      "cell_type": "markdown",
      "metadata": {
        "id": "Mz8y-lOn_qqX"
      },
      "source": [
        "#clean"
      ]
    },
    {
      "cell_type": "markdown",
      "metadata": {
        "id": "L-hDPHGaNXYh"
      },
      "source": [
        "timestamp data type"
      ]
    },
    {
      "cell_type": "code",
      "metadata": {
        "id": "b4AVLeQGdLwm"
      },
      "source": [
        "archive['timestamp'] = pd.to_datetime(archive['timestamp'])"
      ],
      "execution_count": 31,
      "outputs": []
    },
    {
      "cell_type": "markdown",
      "metadata": {
        "id": "ZAjZj2NtNg2M"
      },
      "source": [
        "drop columns with much null values"
      ]
    },
    {
      "cell_type": "code",
      "metadata": {
        "colab": {
          "base_uri": "https://localhost:8080/"
        },
        "id": "jRYiXqenGheT",
        "outputId": "e64088c4-7074-4295-93fc-56cded55c70a"
      },
      "source": [
        "archive=archive.drop(['in_reply_to_status_id','in_reply_to_user_id','retweeted_status_id','retweeted_status_user_id','retweeted_status_timestamp'],axis=1)\r\n",
        "archive.info()"
      ],
      "execution_count": 32,
      "outputs": [
        {
          "output_type": "stream",
          "text": [
            "<class 'pandas.core.frame.DataFrame'>\n",
            "RangeIndex: 2356 entries, 0 to 2355\n",
            "Data columns (total 12 columns):\n",
            " #   Column              Non-Null Count  Dtype              \n",
            "---  ------              --------------  -----              \n",
            " 0   tweet_id            2356 non-null   int64              \n",
            " 1   timestamp           2356 non-null   datetime64[ns, UTC]\n",
            " 2   source              2356 non-null   object             \n",
            " 3   text                2356 non-null   object             \n",
            " 4   expanded_urls       2297 non-null   object             \n",
            " 5   rating_numerator    2356 non-null   int64              \n",
            " 6   rating_denominator  2356 non-null   int64              \n",
            " 7   name                2356 non-null   object             \n",
            " 8   doggo               2356 non-null   object             \n",
            " 9   floofer             2356 non-null   object             \n",
            " 10  pupper              2356 non-null   object             \n",
            " 11  puppo               2356 non-null   object             \n",
            "dtypes: datetime64[ns, UTC](1), int64(3), object(8)\n",
            "memory usage: 221.0+ KB\n"
          ],
          "name": "stdout"
        }
      ]
    },
    {
      "cell_type": "code",
      "metadata": {
        "colab": {
          "base_uri": "https://localhost:8080/"
        },
        "id": "CQbUbiMPNrQN",
        "outputId": "b3b02097-c2b8-4c1c-9dd7-8c2c0b162adb"
      },
      "source": [
        "tweet=tweet.drop(columns=['in_reply_to_status_id','in_reply_to_status_id_str','in_reply_to_user_id',\r\n",
        "                          'in_reply_to_user_id_str','in_reply_to_screen_name','user','geo' ,                             \r\n",
        "                          'coordinates', 'place','contributors' ,'is_quote_status' ,  'possibly_sensitive',\r\n",
        "                          'possibly_sensitive_appealable','retweeted_status','quoted_status_id',\r\n",
        "                          'quoted_status_id_str','quoted_status'         ])\r\n",
        "tweet.info()"
      ],
      "execution_count": 33,
      "outputs": [
        {
          "output_type": "stream",
          "text": [
            "<class 'pandas.core.frame.DataFrame'>\n",
            "RangeIndex: 2354 entries, 0 to 2353\n",
            "Data columns (total 14 columns):\n",
            " #   Column              Non-Null Count  Dtype              \n",
            "---  ------              --------------  -----              \n",
            " 0   created_at          2354 non-null   datetime64[ns, UTC]\n",
            " 1   id                  2354 non-null   int64              \n",
            " 2   id_str              2354 non-null   int64              \n",
            " 3   full_text           2354 non-null   object             \n",
            " 4   truncated           2354 non-null   bool               \n",
            " 5   display_text_range  2354 non-null   object             \n",
            " 6   entities            2354 non-null   object             \n",
            " 7   extended_entities   2073 non-null   object             \n",
            " 8   source              2354 non-null   object             \n",
            " 9   retweet_count       2354 non-null   int64              \n",
            " 10  favorite_count      2354 non-null   int64              \n",
            " 11  favorited           2354 non-null   bool               \n",
            " 12  retweeted           2354 non-null   bool               \n",
            " 13  lang                2354 non-null   object             \n",
            "dtypes: bool(3), datetime64[ns, UTC](1), int64(4), object(6)\n",
            "memory usage: 209.3+ KB\n"
          ],
          "name": "stdout"
        }
      ]
    },
    {
      "cell_type": "markdown",
      "metadata": {
        "id": "S5YGQ0djQsRm"
      },
      "source": [
        "drop dublicates"
      ]
    },
    {
      "cell_type": "code",
      "metadata": {
        "colab": {
          "base_uri": "https://localhost:8080/"
        },
        "id": "68A4aLLdQw7S",
        "outputId": "0be511ef-2ed1-4b95-dbe3-76e5a6293b3b"
      },
      "source": [
        "image=image.drop_duplicates(subset=['tweet_id'])\r\n",
        "image['tweet_id'].duplicated().sum()\r\n"
      ],
      "execution_count": 34,
      "outputs": [
        {
          "output_type": "execute_result",
          "data": {
            "text/plain": [
              "0"
            ]
          },
          "metadata": {
            "tags": []
          },
          "execution_count": 34
        }
      ]
    },
    {
      "cell_type": "markdown",
      "metadata": {
        "id": "OWbT8cHVRTCz"
      },
      "source": [
        "group dog type in one column \r\n",
        "\r\n",
        " hint the type was not string but used .str method to solve this problem.\r\n",
        "\r\n",
        "\r\n",
        "\r\n"
      ]
    },
    {
      "cell_type": "code",
      "metadata": {
        "colab": {
          "base_uri": "https://localhost:8080/"
        },
        "id": "TdQPXyMJyNLy",
        "outputId": "d4ff2588-ef5e-46c1-fd2e-d25d32ebc674"
      },
      "source": [
        "archive['puppo'].value_counts()"
      ],
      "execution_count": 35,
      "outputs": [
        {
          "output_type": "execute_result",
          "data": {
            "text/plain": [
              "None     2326\n",
              "puppo      30\n",
              "Name: puppo, dtype: int64"
            ]
          },
          "metadata": {
            "tags": []
          },
          "execution_count": 35
        }
      ]
    },
    {
      "cell_type": "code",
      "metadata": {
        "colab": {
          "base_uri": "https://localhost:8080/"
        },
        "id": "5bscRdvaaXc8",
        "outputId": "2be76fdb-1887-43a9-8c0b-4277eee41492"
      },
      "source": [
        "archive['floofer'].value_counts()"
      ],
      "execution_count": 36,
      "outputs": [
        {
          "output_type": "execute_result",
          "data": {
            "text/plain": [
              "None       2346\n",
              "floofer      10\n",
              "Name: floofer, dtype: int64"
            ]
          },
          "metadata": {
            "tags": []
          },
          "execution_count": 36
        }
      ]
    },
    {
      "cell_type": "code",
      "metadata": {
        "colab": {
          "base_uri": "https://localhost:8080/"
        },
        "id": "F7RciVRTcqO4",
        "outputId": "1e1e50b7-5459-494e-823e-3c41715b3a95"
      },
      "source": [
        "archive['pupper'].value_counts()"
      ],
      "execution_count": 37,
      "outputs": [
        {
          "output_type": "execute_result",
          "data": {
            "text/plain": [
              "None      2099\n",
              "pupper     257\n",
              "Name: pupper, dtype: int64"
            ]
          },
          "metadata": {
            "tags": []
          },
          "execution_count": 37
        }
      ]
    },
    {
      "cell_type": "code",
      "metadata": {
        "colab": {
          "base_uri": "https://localhost:8080/"
        },
        "id": "TE-36Retc18C",
        "outputId": "3f696814-9de9-4c43-d970-10a4805a9c4c"
      },
      "source": [
        "archive['doggo'].value_counts()"
      ],
      "execution_count": 38,
      "outputs": [
        {
          "output_type": "execute_result",
          "data": {
            "text/plain": [
              "None     2259\n",
              "doggo      97\n",
              "Name: doggo, dtype: int64"
            ]
          },
          "metadata": {
            "tags": []
          },
          "execution_count": 38
        }
      ]
    },
    {
      "cell_type": "code",
      "metadata": {
        "id": "4uOFQJ5UqHKg"
      },
      "source": [
        "# dog_type=pd.DataFrame(data=[archive['doggo'],archive['floofer'],archive['pupper'],archive['puppo']])\r\n",
        "# dog_type=dog_type.T"
      ],
      "execution_count": 39,
      "outputs": []
    },
    {
      "cell_type": "code",
      "metadata": {
        "id": "Ro5aqDohryso"
      },
      "source": [
        "archive=archive[(archive['doggo']==\"doggo\") | (archive['floofer']==\"floofer\") | (archive['puppo']==\"puppo\" )| (archive['pupper']=='pupper')]    "
      ],
      "execution_count": 40,
      "outputs": []
    },
    {
      "cell_type": "code",
      "metadata": {
        "id": "JOtKNxdMIUaE"
      },
      "source": [
        "archive['type'] =pd.DataFrame( archive['puppo']+archive['floofer']+archive['pupper']+archive['doggo'])"
      ],
      "execution_count": 41,
      "outputs": []
    },
    {
      "cell_type": "code",
      "metadata": {
        "colab": {
          "base_uri": "https://localhost:8080/"
        },
        "id": "tbgWyXGRxzxl",
        "outputId": "6207c239-fc3d-4206-d3d6-e4a8724b16b3"
      },
      "source": [
        "archive.info()"
      ],
      "execution_count": 42,
      "outputs": [
        {
          "output_type": "stream",
          "text": [
            "<class 'pandas.core.frame.DataFrame'>\n",
            "Int64Index: 380 entries, 9 to 2017\n",
            "Data columns (total 13 columns):\n",
            " #   Column              Non-Null Count  Dtype              \n",
            "---  ------              --------------  -----              \n",
            " 0   tweet_id            380 non-null    int64              \n",
            " 1   timestamp           380 non-null    datetime64[ns, UTC]\n",
            " 2   source              380 non-null    object             \n",
            " 3   text                380 non-null    object             \n",
            " 4   expanded_urls       374 non-null    object             \n",
            " 5   rating_numerator    380 non-null    int64              \n",
            " 6   rating_denominator  380 non-null    int64              \n",
            " 7   name                380 non-null    object             \n",
            " 8   doggo               380 non-null    object             \n",
            " 9   floofer             380 non-null    object             \n",
            " 10  pupper              380 non-null    object             \n",
            " 11  puppo               380 non-null    object             \n",
            " 12  type                380 non-null    object             \n",
            "dtypes: datetime64[ns, UTC](1), int64(3), object(9)\n",
            "memory usage: 41.6+ KB\n"
          ],
          "name": "stdout"
        }
      ]
    },
    {
      "cell_type": "code",
      "metadata": {
        "id": "kcDk2jFgKa0n"
      },
      "source": [
        "archive['type']=archive['type'].str.replace(\"None\",\"\")\r\n"
      ],
      "execution_count": 43,
      "outputs": []
    },
    {
      "cell_type": "code",
      "metadata": {
        "colab": {
          "base_uri": "https://localhost:8080/"
        },
        "id": "WNnOWx3gWZng",
        "outputId": "cac3ce25-8d55-4593-c24e-7f34a0847630"
      },
      "source": [
        "archive.type.value_counts()"
      ],
      "execution_count": 44,
      "outputs": [
        {
          "output_type": "execute_result",
          "data": {
            "text/plain": [
              "pupper          245\n",
              "doggo            83\n",
              "puppo            29\n",
              "pupperdoggo      12\n",
              "floofer           9\n",
              "flooferdoggo      1\n",
              "puppodoggo        1\n",
              "Name: type, dtype: int64"
            ]
          },
          "metadata": {
            "tags": []
          },
          "execution_count": 44
        }
      ]
    },
    {
      "cell_type": "code",
      "metadata": {
        "id": "UO-xNFW7XEI7"
      },
      "source": [
        "archive=pd.DataFrame(archive[ archive.type.isin([\"\",\"puppodoggo\",\"pupperdoggo\",\"flooferdoggo\"])==False   ])"
      ],
      "execution_count": 45,
      "outputs": []
    },
    {
      "cell_type": "code",
      "metadata": {
        "colab": {
          "base_uri": "https://localhost:8080/"
        },
        "id": "6TnxvRCJmafk",
        "outputId": "76d73c90-2624-4859-89f2-7d6872ed8c5a"
      },
      "source": [
        "archive.type.value_counts()"
      ],
      "execution_count": 46,
      "outputs": [
        {
          "output_type": "execute_result",
          "data": {
            "text/plain": [
              "pupper     245\n",
              "doggo       83\n",
              "puppo       29\n",
              "floofer      9\n",
              "Name: type, dtype: int64"
            ]
          },
          "metadata": {
            "tags": []
          },
          "execution_count": 46
        }
      ]
    },
    {
      "cell_type": "code",
      "metadata": {
        "colab": {
          "base_uri": "https://localhost:8080/"
        },
        "id": "mZ5OBemLvgAD",
        "outputId": "7904f57b-6bc7-4ca0-af85-56c47ccfad00"
      },
      "source": [
        "archive.info()"
      ],
      "execution_count": 47,
      "outputs": [
        {
          "output_type": "stream",
          "text": [
            "<class 'pandas.core.frame.DataFrame'>\n",
            "Int64Index: 366 entries, 9 to 2017\n",
            "Data columns (total 13 columns):\n",
            " #   Column              Non-Null Count  Dtype              \n",
            "---  ------              --------------  -----              \n",
            " 0   tweet_id            366 non-null    int64              \n",
            " 1   timestamp           366 non-null    datetime64[ns, UTC]\n",
            " 2   source              366 non-null    object             \n",
            " 3   text                366 non-null    object             \n",
            " 4   expanded_urls       360 non-null    object             \n",
            " 5   rating_numerator    366 non-null    int64              \n",
            " 6   rating_denominator  366 non-null    int64              \n",
            " 7   name                366 non-null    object             \n",
            " 8   doggo               366 non-null    object             \n",
            " 9   floofer             366 non-null    object             \n",
            " 10  pupper              366 non-null    object             \n",
            " 11  puppo               366 non-null    object             \n",
            " 12  type                366 non-null    object             \n",
            "dtypes: datetime64[ns, UTC](1), int64(3), object(9)\n",
            "memory usage: 40.0+ KB\n"
          ],
          "name": "stdout"
        }
      ]
    },
    {
      "cell_type": "markdown",
      "metadata": {
        "id": "mzZG3GwzRmxE"
      },
      "source": [
        "drop unwanted columns"
      ]
    },
    {
      "cell_type": "code",
      "metadata": {
        "colab": {
          "base_uri": "https://localhost:8080/"
        },
        "id": "pZCh9RTSvlz8",
        "outputId": "99619511-01e3-4273-b5f8-b3a91159d293"
      },
      "source": [
        "archive=archive.drop(columns=['source','text','expanded_urls','name','doggo','floofer','pupper','puppo'])\r\n",
        "archive.info()"
      ],
      "execution_count": 48,
      "outputs": [
        {
          "output_type": "stream",
          "text": [
            "<class 'pandas.core.frame.DataFrame'>\n",
            "Int64Index: 366 entries, 9 to 2017\n",
            "Data columns (total 5 columns):\n",
            " #   Column              Non-Null Count  Dtype              \n",
            "---  ------              --------------  -----              \n",
            " 0   tweet_id            366 non-null    int64              \n",
            " 1   timestamp           366 non-null    datetime64[ns, UTC]\n",
            " 2   rating_numerator    366 non-null    int64              \n",
            " 3   rating_denominator  366 non-null    int64              \n",
            " 4   type                366 non-null    object             \n",
            "dtypes: datetime64[ns, UTC](1), int64(3), object(1)\n",
            "memory usage: 17.2+ KB\n"
          ],
          "name": "stdout"
        }
      ]
    },
    {
      "cell_type": "code",
      "metadata": {
        "id": "QiEVyOfaU6me",
        "colab": {
          "base_uri": "https://localhost:8080/"
        },
        "outputId": "aa68fa66-2b67-41be-ebdb-3fe0d10dc271"
      },
      "source": [
        "tweet=tweet.drop(columns=['id_str','full_text','truncated','display_text_range','entities','extended_entities','source'])\r\n",
        "tweet.info()\r\n",
        "    "
      ],
      "execution_count": 49,
      "outputs": [
        {
          "output_type": "stream",
          "text": [
            "<class 'pandas.core.frame.DataFrame'>\n",
            "RangeIndex: 2354 entries, 0 to 2353\n",
            "Data columns (total 7 columns):\n",
            " #   Column          Non-Null Count  Dtype              \n",
            "---  ------          --------------  -----              \n",
            " 0   created_at      2354 non-null   datetime64[ns, UTC]\n",
            " 1   id              2354 non-null   int64              \n",
            " 2   retweet_count   2354 non-null   int64              \n",
            " 3   favorite_count  2354 non-null   int64              \n",
            " 4   favorited       2354 non-null   bool               \n",
            " 5   retweeted       2354 non-null   bool               \n",
            " 6   lang            2354 non-null   object             \n",
            "dtypes: bool(2), datetime64[ns, UTC](1), int64(3), object(1)\n",
            "memory usage: 96.7+ KB\n"
          ],
          "name": "stdout"
        }
      ]
    },
    {
      "cell_type": "markdown",
      "metadata": {
        "id": "5nBEMvoCRukw"
      },
      "source": [
        "make maximum nuerator 10"
      ]
    },
    {
      "cell_type": "code",
      "metadata": {
        "colab": {
          "base_uri": "https://localhost:8080/",
          "height": 300
        },
        "id": "dmk4Bq4zyCRm",
        "outputId": "7d778259-5a11-4d84-b73e-147a7f907693"
      },
      "source": [
        "archive.describe()"
      ],
      "execution_count": 50,
      "outputs": [
        {
          "output_type": "execute_result",
          "data": {
            "text/html": [
              "<div>\n",
              "<style scoped>\n",
              "    .dataframe tbody tr th:only-of-type {\n",
              "        vertical-align: middle;\n",
              "    }\n",
              "\n",
              "    .dataframe tbody tr th {\n",
              "        vertical-align: top;\n",
              "    }\n",
              "\n",
              "    .dataframe thead th {\n",
              "        text-align: right;\n",
              "    }\n",
              "</style>\n",
              "<table border=\"1\" class=\"dataframe\">\n",
              "  <thead>\n",
              "    <tr style=\"text-align: right;\">\n",
              "      <th></th>\n",
              "      <th>tweet_id</th>\n",
              "      <th>rating_numerator</th>\n",
              "      <th>rating_denominator</th>\n",
              "    </tr>\n",
              "  </thead>\n",
              "  <tbody>\n",
              "    <tr>\n",
              "      <th>count</th>\n",
              "      <td>3.660000e+02</td>\n",
              "      <td>366.000000</td>\n",
              "      <td>366.0</td>\n",
              "    </tr>\n",
              "    <tr>\n",
              "      <th>mean</th>\n",
              "      <td>7.493634e+17</td>\n",
              "      <td>11.210383</td>\n",
              "      <td>10.0</td>\n",
              "    </tr>\n",
              "    <tr>\n",
              "      <th>std</th>\n",
              "      <td>6.405710e+16</td>\n",
              "      <td>1.896500</td>\n",
              "      <td>0.0</td>\n",
              "    </tr>\n",
              "    <tr>\n",
              "      <th>min</th>\n",
              "      <td>6.721600e+17</td>\n",
              "      <td>3.000000</td>\n",
              "      <td>10.0</td>\n",
              "    </tr>\n",
              "    <tr>\n",
              "      <th>25%</th>\n",
              "      <td>6.873533e+17</td>\n",
              "      <td>10.000000</td>\n",
              "      <td>10.0</td>\n",
              "    </tr>\n",
              "    <tr>\n",
              "      <th>50%</th>\n",
              "      <td>7.425000e+17</td>\n",
              "      <td>11.000000</td>\n",
              "      <td>10.0</td>\n",
              "    </tr>\n",
              "    <tr>\n",
              "      <th>75%</th>\n",
              "      <td>8.010604e+17</td>\n",
              "      <td>12.000000</td>\n",
              "      <td>10.0</td>\n",
              "    </tr>\n",
              "    <tr>\n",
              "      <th>max</th>\n",
              "      <td>8.902403e+17</td>\n",
              "      <td>27.000000</td>\n",
              "      <td>10.0</td>\n",
              "    </tr>\n",
              "  </tbody>\n",
              "</table>\n",
              "</div>"
            ],
            "text/plain": [
              "           tweet_id  rating_numerator  rating_denominator\n",
              "count  3.660000e+02        366.000000               366.0\n",
              "mean   7.493634e+17         11.210383                10.0\n",
              "std    6.405710e+16          1.896500                 0.0\n",
              "min    6.721600e+17          3.000000                10.0\n",
              "25%    6.873533e+17         10.000000                10.0\n",
              "50%    7.425000e+17         11.000000                10.0\n",
              "75%    8.010604e+17         12.000000                10.0\n",
              "max    8.902403e+17         27.000000                10.0"
            ]
          },
          "metadata": {
            "tags": []
          },
          "execution_count": 50
        }
      ]
    },
    {
      "cell_type": "code",
      "metadata": {
        "id": "Du_YHYLsySl5"
      },
      "source": [
        "archive['rating_numerator']=archive['rating_numerator'].where(archive['rating_numerator']<10,10)"
      ],
      "execution_count": 51,
      "outputs": []
    },
    {
      "cell_type": "code",
      "metadata": {
        "colab": {
          "base_uri": "https://localhost:8080/",
          "height": 424
        },
        "id": "QPIVEcclFRQ8",
        "outputId": "29a0205c-4e6d-4eca-cf9e-0f6efc7c63bf"
      },
      "source": [
        "archive"
      ],
      "execution_count": 52,
      "outputs": [
        {
          "output_type": "execute_result",
          "data": {
            "text/html": [
              "<div>\n",
              "<style scoped>\n",
              "    .dataframe tbody tr th:only-of-type {\n",
              "        vertical-align: middle;\n",
              "    }\n",
              "\n",
              "    .dataframe tbody tr th {\n",
              "        vertical-align: top;\n",
              "    }\n",
              "\n",
              "    .dataframe thead th {\n",
              "        text-align: right;\n",
              "    }\n",
              "</style>\n",
              "<table border=\"1\" class=\"dataframe\">\n",
              "  <thead>\n",
              "    <tr style=\"text-align: right;\">\n",
              "      <th></th>\n",
              "      <th>tweet_id</th>\n",
              "      <th>timestamp</th>\n",
              "      <th>rating_numerator</th>\n",
              "      <th>rating_denominator</th>\n",
              "      <th>type</th>\n",
              "    </tr>\n",
              "  </thead>\n",
              "  <tbody>\n",
              "    <tr>\n",
              "      <th>9</th>\n",
              "      <td>890240255349198849</td>\n",
              "      <td>2017-07-26 15:59:51+00:00</td>\n",
              "      <td>10</td>\n",
              "      <td>10</td>\n",
              "      <td>doggo</td>\n",
              "    </tr>\n",
              "    <tr>\n",
              "      <th>12</th>\n",
              "      <td>889665388333682689</td>\n",
              "      <td>2017-07-25 01:55:32+00:00</td>\n",
              "      <td>10</td>\n",
              "      <td>10</td>\n",
              "      <td>puppo</td>\n",
              "    </tr>\n",
              "    <tr>\n",
              "      <th>14</th>\n",
              "      <td>889531135344209921</td>\n",
              "      <td>2017-07-24 17:02:04+00:00</td>\n",
              "      <td>10</td>\n",
              "      <td>10</td>\n",
              "      <td>puppo</td>\n",
              "    </tr>\n",
              "    <tr>\n",
              "      <th>29</th>\n",
              "      <td>886366144734445568</td>\n",
              "      <td>2017-07-15 23:25:31+00:00</td>\n",
              "      <td>10</td>\n",
              "      <td>10</td>\n",
              "      <td>pupper</td>\n",
              "    </tr>\n",
              "    <tr>\n",
              "      <th>43</th>\n",
              "      <td>884162670584377345</td>\n",
              "      <td>2017-07-09 21:29:42+00:00</td>\n",
              "      <td>10</td>\n",
              "      <td>10</td>\n",
              "      <td>doggo</td>\n",
              "    </tr>\n",
              "    <tr>\n",
              "      <th>...</th>\n",
              "      <td>...</td>\n",
              "      <td>...</td>\n",
              "      <td>...</td>\n",
              "      <td>...</td>\n",
              "      <td>...</td>\n",
              "    </tr>\n",
              "    <tr>\n",
              "      <th>1995</th>\n",
              "      <td>672594978741354496</td>\n",
              "      <td>2015-12-04 01:55:13+00:00</td>\n",
              "      <td>9</td>\n",
              "      <td>10</td>\n",
              "      <td>pupper</td>\n",
              "    </tr>\n",
              "    <tr>\n",
              "      <th>2002</th>\n",
              "      <td>672481316919734272</td>\n",
              "      <td>2015-12-03 18:23:34+00:00</td>\n",
              "      <td>10</td>\n",
              "      <td>10</td>\n",
              "      <td>pupper</td>\n",
              "    </tr>\n",
              "    <tr>\n",
              "      <th>2009</th>\n",
              "      <td>672254177670729728</td>\n",
              "      <td>2015-12-03 03:21:00+00:00</td>\n",
              "      <td>10</td>\n",
              "      <td>10</td>\n",
              "      <td>pupper</td>\n",
              "    </tr>\n",
              "    <tr>\n",
              "      <th>2015</th>\n",
              "      <td>672205392827572224</td>\n",
              "      <td>2015-12-03 00:07:09+00:00</td>\n",
              "      <td>9</td>\n",
              "      <td>10</td>\n",
              "      <td>pupper</td>\n",
              "    </tr>\n",
              "    <tr>\n",
              "      <th>2017</th>\n",
              "      <td>672160042234327040</td>\n",
              "      <td>2015-12-02 21:06:56+00:00</td>\n",
              "      <td>8</td>\n",
              "      <td>10</td>\n",
              "      <td>pupper</td>\n",
              "    </tr>\n",
              "  </tbody>\n",
              "</table>\n",
              "<p>366 rows × 5 columns</p>\n",
              "</div>"
            ],
            "text/plain": [
              "                tweet_id                 timestamp  ...  rating_denominator    type\n",
              "9     890240255349198849 2017-07-26 15:59:51+00:00  ...                  10   doggo\n",
              "12    889665388333682689 2017-07-25 01:55:32+00:00  ...                  10   puppo\n",
              "14    889531135344209921 2017-07-24 17:02:04+00:00  ...                  10   puppo\n",
              "29    886366144734445568 2017-07-15 23:25:31+00:00  ...                  10  pupper\n",
              "43    884162670584377345 2017-07-09 21:29:42+00:00  ...                  10   doggo\n",
              "...                  ...                       ...  ...                 ...     ...\n",
              "1995  672594978741354496 2015-12-04 01:55:13+00:00  ...                  10  pupper\n",
              "2002  672481316919734272 2015-12-03 18:23:34+00:00  ...                  10  pupper\n",
              "2009  672254177670729728 2015-12-03 03:21:00+00:00  ...                  10  pupper\n",
              "2015  672205392827572224 2015-12-03 00:07:09+00:00  ...                  10  pupper\n",
              "2017  672160042234327040 2015-12-02 21:06:56+00:00  ...                  10  pupper\n",
              "\n",
              "[366 rows x 5 columns]"
            ]
          },
          "metadata": {
            "tags": []
          },
          "execution_count": 52
        }
      ]
    },
    {
      "cell_type": "code",
      "metadata": {
        "colab": {
          "base_uri": "https://localhost:8080/",
          "height": 300
        },
        "id": "erpvL1gtIK0n",
        "outputId": "752e5990-bbcf-4a2d-ab3c-953339c5b84d"
      },
      "source": [
        "archive.describe()"
      ],
      "execution_count": 53,
      "outputs": [
        {
          "output_type": "execute_result",
          "data": {
            "text/html": [
              "<div>\n",
              "<style scoped>\n",
              "    .dataframe tbody tr th:only-of-type {\n",
              "        vertical-align: middle;\n",
              "    }\n",
              "\n",
              "    .dataframe tbody tr th {\n",
              "        vertical-align: top;\n",
              "    }\n",
              "\n",
              "    .dataframe thead th {\n",
              "        text-align: right;\n",
              "    }\n",
              "</style>\n",
              "<table border=\"1\" class=\"dataframe\">\n",
              "  <thead>\n",
              "    <tr style=\"text-align: right;\">\n",
              "      <th></th>\n",
              "      <th>tweet_id</th>\n",
              "      <th>rating_numerator</th>\n",
              "      <th>rating_denominator</th>\n",
              "    </tr>\n",
              "  </thead>\n",
              "  <tbody>\n",
              "    <tr>\n",
              "      <th>count</th>\n",
              "      <td>3.660000e+02</td>\n",
              "      <td>366.000000</td>\n",
              "      <td>366.0</td>\n",
              "    </tr>\n",
              "    <tr>\n",
              "      <th>mean</th>\n",
              "      <td>7.493634e+17</td>\n",
              "      <td>9.737705</td>\n",
              "      <td>10.0</td>\n",
              "    </tr>\n",
              "    <tr>\n",
              "      <th>std</th>\n",
              "      <td>6.405710e+16</td>\n",
              "      <td>0.802086</td>\n",
              "      <td>0.0</td>\n",
              "    </tr>\n",
              "    <tr>\n",
              "      <th>min</th>\n",
              "      <td>6.721600e+17</td>\n",
              "      <td>3.000000</td>\n",
              "      <td>10.0</td>\n",
              "    </tr>\n",
              "    <tr>\n",
              "      <th>25%</th>\n",
              "      <td>6.873533e+17</td>\n",
              "      <td>10.000000</td>\n",
              "      <td>10.0</td>\n",
              "    </tr>\n",
              "    <tr>\n",
              "      <th>50%</th>\n",
              "      <td>7.425000e+17</td>\n",
              "      <td>10.000000</td>\n",
              "      <td>10.0</td>\n",
              "    </tr>\n",
              "    <tr>\n",
              "      <th>75%</th>\n",
              "      <td>8.010604e+17</td>\n",
              "      <td>10.000000</td>\n",
              "      <td>10.0</td>\n",
              "    </tr>\n",
              "    <tr>\n",
              "      <th>max</th>\n",
              "      <td>8.902403e+17</td>\n",
              "      <td>10.000000</td>\n",
              "      <td>10.0</td>\n",
              "    </tr>\n",
              "  </tbody>\n",
              "</table>\n",
              "</div>"
            ],
            "text/plain": [
              "           tweet_id  rating_numerator  rating_denominator\n",
              "count  3.660000e+02        366.000000               366.0\n",
              "mean   7.493634e+17          9.737705                10.0\n",
              "std    6.405710e+16          0.802086                 0.0\n",
              "min    6.721600e+17          3.000000                10.0\n",
              "25%    6.873533e+17         10.000000                10.0\n",
              "50%    7.425000e+17         10.000000                10.0\n",
              "75%    8.010604e+17         10.000000                10.0\n",
              "max    8.902403e+17         10.000000                10.0"
            ]
          },
          "metadata": {
            "tags": []
          },
          "execution_count": 53
        }
      ]
    },
    {
      "cell_type": "markdown",
      "metadata": {
        "id": "fLg2lqiiTtXO"
      },
      "source": [
        "rename tweet id for tweet dataframe"
      ]
    },
    {
      "cell_type": "code",
      "metadata": {
        "id": "q9PkonGZTswN"
      },
      "source": [
        "tweet=tweet.rename(columns={'id':'tweet_id'})"
      ],
      "execution_count": 54,
      "outputs": []
    },
    {
      "cell_type": "code",
      "metadata": {
        "colab": {
          "base_uri": "https://localhost:8080/"
        },
        "id": "1ywpo4jbUsnp",
        "outputId": "283494e0-da38-4e9e-b1ca-245f48bcec21"
      },
      "source": [
        "tweet.info()"
      ],
      "execution_count": 55,
      "outputs": [
        {
          "output_type": "stream",
          "text": [
            "<class 'pandas.core.frame.DataFrame'>\n",
            "RangeIndex: 2354 entries, 0 to 2353\n",
            "Data columns (total 7 columns):\n",
            " #   Column          Non-Null Count  Dtype              \n",
            "---  ------          --------------  -----              \n",
            " 0   created_at      2354 non-null   datetime64[ns, UTC]\n",
            " 1   tweet_id        2354 non-null   int64              \n",
            " 2   retweet_count   2354 non-null   int64              \n",
            " 3   favorite_count  2354 non-null   int64              \n",
            " 4   favorited       2354 non-null   bool               \n",
            " 5   retweeted       2354 non-null   bool               \n",
            " 6   lang            2354 non-null   object             \n",
            "dtypes: bool(2), datetime64[ns, UTC](1), int64(3), object(1)\n",
            "memory usage: 96.7+ KB\n"
          ],
          "name": "stdout"
        }
      ]
    },
    {
      "cell_type": "markdown",
      "metadata": {
        "id": "RiZf7Hc9WIIV"
      },
      "source": [
        "#storing, analyzing and visualising"
      ]
    },
    {
      "cell_type": "markdown",
      "metadata": {
        "id": "ccb2U4uBWUVw"
      },
      "source": [
        "first group all data in one data frame to store"
      ]
    },
    {
      "cell_type": "code",
      "metadata": {
        "id": "2sfbMy-BWSlH"
      },
      "source": [
        "df = pd.concat([archive,tweet,image],axis=1,join='inner')"
      ],
      "execution_count": 56,
      "outputs": []
    },
    {
      "cell_type": "code",
      "metadata": {
        "colab": {
          "base_uri": "https://localhost:8080/",
          "height": 791
        },
        "id": "7qCsvLKicw0v",
        "outputId": "b03ed180-6bac-464b-b01a-67da868764fe"
      },
      "source": [
        "df"
      ],
      "execution_count": 57,
      "outputs": [
        {
          "output_type": "execute_result",
          "data": {
            "text/html": [
              "<div>\n",
              "<style scoped>\n",
              "    .dataframe tbody tr th:only-of-type {\n",
              "        vertical-align: middle;\n",
              "    }\n",
              "\n",
              "    .dataframe tbody tr th {\n",
              "        vertical-align: top;\n",
              "    }\n",
              "\n",
              "    .dataframe thead th {\n",
              "        text-align: right;\n",
              "    }\n",
              "</style>\n",
              "<table border=\"1\" class=\"dataframe\">\n",
              "  <thead>\n",
              "    <tr style=\"text-align: right;\">\n",
              "      <th></th>\n",
              "      <th>tweet_id</th>\n",
              "      <th>timestamp</th>\n",
              "      <th>rating_numerator</th>\n",
              "      <th>rating_denominator</th>\n",
              "      <th>type</th>\n",
              "      <th>created_at</th>\n",
              "      <th>tweet_id</th>\n",
              "      <th>retweet_count</th>\n",
              "      <th>favorite_count</th>\n",
              "      <th>favorited</th>\n",
              "      <th>retweeted</th>\n",
              "      <th>lang</th>\n",
              "      <th>tweet_id</th>\n",
              "      <th>jpg_url</th>\n",
              "      <th>img_num</th>\n",
              "      <th>p1</th>\n",
              "      <th>p1_conf</th>\n",
              "      <th>p1_dog</th>\n",
              "      <th>p2</th>\n",
              "      <th>p2_conf</th>\n",
              "      <th>p2_dog</th>\n",
              "      <th>p3</th>\n",
              "      <th>p3_conf</th>\n",
              "      <th>p3_dog</th>\n",
              "    </tr>\n",
              "  </thead>\n",
              "  <tbody>\n",
              "    <tr>\n",
              "      <th>9</th>\n",
              "      <td>890240255349198849</td>\n",
              "      <td>2017-07-26 15:59:51+00:00</td>\n",
              "      <td>10</td>\n",
              "      <td>10</td>\n",
              "      <td>doggo</td>\n",
              "      <td>2017-07-26 15:59:51+00:00</td>\n",
              "      <td>890240255349198849</td>\n",
              "      <td>7711</td>\n",
              "      <td>32467</td>\n",
              "      <td>False</td>\n",
              "      <td>False</td>\n",
              "      <td>en</td>\n",
              "      <td>6.660590e+17</td>\n",
              "      <td>https://pbs.twimg.com/media/CT5Qw94XAAA_2dP.jpg</td>\n",
              "      <td>1</td>\n",
              "      <td>miniature_poodle</td>\n",
              "      <td>0.201493</td>\n",
              "      <td>True</td>\n",
              "      <td>komondor</td>\n",
              "      <td>0.192305</td>\n",
              "      <td>True</td>\n",
              "      <td>soft-coated_wheaten_terrier</td>\n",
              "      <td>0.082086</td>\n",
              "      <td>True</td>\n",
              "    </tr>\n",
              "    <tr>\n",
              "      <th>12</th>\n",
              "      <td>889665388333682689</td>\n",
              "      <td>2017-07-25 01:55:32+00:00</td>\n",
              "      <td>10</td>\n",
              "      <td>10</td>\n",
              "      <td>puppo</td>\n",
              "      <td>2017-07-25 01:55:32+00:00</td>\n",
              "      <td>889665388333682689</td>\n",
              "      <td>8538</td>\n",
              "      <td>38818</td>\n",
              "      <td>False</td>\n",
              "      <td>False</td>\n",
              "      <td>en</td>\n",
              "      <td>6.660730e+17</td>\n",
              "      <td>https://pbs.twimg.com/media/CT5d9DZXAAALcwe.jpg</td>\n",
              "      <td>1</td>\n",
              "      <td>Walker_hound</td>\n",
              "      <td>0.260857</td>\n",
              "      <td>True</td>\n",
              "      <td>English_foxhound</td>\n",
              "      <td>0.175382</td>\n",
              "      <td>True</td>\n",
              "      <td>Ibizan_hound</td>\n",
              "      <td>0.097471</td>\n",
              "      <td>True</td>\n",
              "    </tr>\n",
              "    <tr>\n",
              "      <th>14</th>\n",
              "      <td>889531135344209921</td>\n",
              "      <td>2017-07-24 17:02:04+00:00</td>\n",
              "      <td>10</td>\n",
              "      <td>10</td>\n",
              "      <td>puppo</td>\n",
              "      <td>2017-07-24 17:02:04+00:00</td>\n",
              "      <td>889531135344209921</td>\n",
              "      <td>2321</td>\n",
              "      <td>15359</td>\n",
              "      <td>False</td>\n",
              "      <td>False</td>\n",
              "      <td>en</td>\n",
              "      <td>6.660940e+17</td>\n",
              "      <td>https://pbs.twimg.com/media/CT5w9gUW4AAsBNN.jpg</td>\n",
              "      <td>1</td>\n",
              "      <td>bloodhound</td>\n",
              "      <td>0.195217</td>\n",
              "      <td>True</td>\n",
              "      <td>German_shepherd</td>\n",
              "      <td>0.078260</td>\n",
              "      <td>True</td>\n",
              "      <td>malinois</td>\n",
              "      <td>0.075628</td>\n",
              "      <td>True</td>\n",
              "    </tr>\n",
              "    <tr>\n",
              "      <th>29</th>\n",
              "      <td>886366144734445568</td>\n",
              "      <td>2017-07-15 23:25:31+00:00</td>\n",
              "      <td>10</td>\n",
              "      <td>10</td>\n",
              "      <td>pupper</td>\n",
              "      <td>2017-07-15 16:51:35+00:00</td>\n",
              "      <td>886267009285017600</td>\n",
              "      <td>4</td>\n",
              "      <td>117</td>\n",
              "      <td>False</td>\n",
              "      <td>False</td>\n",
              "      <td>en</td>\n",
              "      <td>6.664120e+17</td>\n",
              "      <td>https://pbs.twimg.com/media/CT-RugiWIAELEaq.jpg</td>\n",
              "      <td>1</td>\n",
              "      <td>coho</td>\n",
              "      <td>0.404640</td>\n",
              "      <td>False</td>\n",
              "      <td>barracouta</td>\n",
              "      <td>0.271485</td>\n",
              "      <td>False</td>\n",
              "      <td>gar</td>\n",
              "      <td>0.189945</td>\n",
              "      <td>False</td>\n",
              "    </tr>\n",
              "    <tr>\n",
              "      <th>43</th>\n",
              "      <td>884162670584377345</td>\n",
              "      <td>2017-07-09 21:29:42+00:00</td>\n",
              "      <td>10</td>\n",
              "      <td>10</td>\n",
              "      <td>doggo</td>\n",
              "      <td>2017-07-09 00:00:04+00:00</td>\n",
              "      <td>883838122936631299</td>\n",
              "      <td>3586</td>\n",
              "      <td>22349</td>\n",
              "      <td>False</td>\n",
              "      <td>False</td>\n",
              "      <td>en</td>\n",
              "      <td>6.667770e+17</td>\n",
              "      <td>https://pbs.twimg.com/media/CUDeDoWUYAAD-EM.jpg</td>\n",
              "      <td>1</td>\n",
              "      <td>seat_belt</td>\n",
              "      <td>0.375057</td>\n",
              "      <td>False</td>\n",
              "      <td>miniature_pinscher</td>\n",
              "      <td>0.167175</td>\n",
              "      <td>True</td>\n",
              "      <td>Chihuahua</td>\n",
              "      <td>0.086951</td>\n",
              "      <td>True</td>\n",
              "    </tr>\n",
              "    <tr>\n",
              "      <th>...</th>\n",
              "      <td>...</td>\n",
              "      <td>...</td>\n",
              "      <td>...</td>\n",
              "      <td>...</td>\n",
              "      <td>...</td>\n",
              "      <td>...</td>\n",
              "      <td>...</td>\n",
              "      <td>...</td>\n",
              "      <td>...</td>\n",
              "      <td>...</td>\n",
              "      <td>...</td>\n",
              "      <td>...</td>\n",
              "      <td>...</td>\n",
              "      <td>...</td>\n",
              "      <td>...</td>\n",
              "      <td>...</td>\n",
              "      <td>...</td>\n",
              "      <td>...</td>\n",
              "      <td>...</td>\n",
              "      <td>...</td>\n",
              "      <td>...</td>\n",
              "      <td>...</td>\n",
              "      <td>...</td>\n",
              "      <td>...</td>\n",
              "    </tr>\n",
              "    <tr>\n",
              "      <th>1995</th>\n",
              "      <td>672594978741354496</td>\n",
              "      <td>2015-12-04 01:55:13+00:00</td>\n",
              "      <td>9</td>\n",
              "      <td>10</td>\n",
              "      <td>pupper</td>\n",
              "      <td>2015-12-04 01:40:29+00:00</td>\n",
              "      <td>672591271085670400</td>\n",
              "      <td>207</td>\n",
              "      <td>782</td>\n",
              "      <td>False</td>\n",
              "      <td>False</td>\n",
              "      <td>en</td>\n",
              "      <td>8.742970e+17</td>\n",
              "      <td>https://pbs.twimg.com/media/DCIgSR0XgAANEOY.jpg</td>\n",
              "      <td>1</td>\n",
              "      <td>cocker_spaniel</td>\n",
              "      <td>0.437216</td>\n",
              "      <td>True</td>\n",
              "      <td>miniature_poodle</td>\n",
              "      <td>0.277191</td>\n",
              "      <td>True</td>\n",
              "      <td>toy_poodle</td>\n",
              "      <td>0.157402</td>\n",
              "      <td>True</td>\n",
              "    </tr>\n",
              "    <tr>\n",
              "      <th>2002</th>\n",
              "      <td>672481316919734272</td>\n",
              "      <td>2015-12-03 18:23:34+00:00</td>\n",
              "      <td>10</td>\n",
              "      <td>10</td>\n",
              "      <td>pupper</td>\n",
              "      <td>2015-12-03 17:23:00+00:00</td>\n",
              "      <td>672466075045466113</td>\n",
              "      <td>598</td>\n",
              "      <td>1447</td>\n",
              "      <td>False</td>\n",
              "      <td>False</td>\n",
              "      <td>en</td>\n",
              "      <td>8.768380e+17</td>\n",
              "      <td>https://pbs.twimg.com/media/DCsnnZsVwAEfkyi.jpg</td>\n",
              "      <td>1</td>\n",
              "      <td>bloodhound</td>\n",
              "      <td>0.575751</td>\n",
              "      <td>True</td>\n",
              "      <td>redbone</td>\n",
              "      <td>0.240970</td>\n",
              "      <td>True</td>\n",
              "      <td>Tibetan_mastiff</td>\n",
              "      <td>0.088935</td>\n",
              "      <td>True</td>\n",
              "    </tr>\n",
              "    <tr>\n",
              "      <th>2009</th>\n",
              "      <td>672254177670729728</td>\n",
              "      <td>2015-12-03 03:21:00+00:00</td>\n",
              "      <td>10</td>\n",
              "      <td>10</td>\n",
              "      <td>pupper</td>\n",
              "      <td>2015-12-03 02:45:32+00:00</td>\n",
              "      <td>672245253877968896</td>\n",
              "      <td>169</td>\n",
              "      <td>733</td>\n",
              "      <td>False</td>\n",
              "      <td>False</td>\n",
              "      <td>en</td>\n",
              "      <td>8.782820e+17</td>\n",
              "      <td>https://pbs.twimg.com/media/DDBIX9QVYAAohGa.jpg</td>\n",
              "      <td>1</td>\n",
              "      <td>basset</td>\n",
              "      <td>0.320420</td>\n",
              "      <td>True</td>\n",
              "      <td>collie</td>\n",
              "      <td>0.215975</td>\n",
              "      <td>True</td>\n",
              "      <td>Appenzeller</td>\n",
              "      <td>0.128507</td>\n",
              "      <td>True</td>\n",
              "    </tr>\n",
              "    <tr>\n",
              "      <th>2015</th>\n",
              "      <td>672205392827572224</td>\n",
              "      <td>2015-12-03 00:07:09+00:00</td>\n",
              "      <td>9</td>\n",
              "      <td>10</td>\n",
              "      <td>pupper</td>\n",
              "      <td>2015-12-02 21:06:56+00:00</td>\n",
              "      <td>672160042234327040</td>\n",
              "      <td>395</td>\n",
              "      <td>918</td>\n",
              "      <td>False</td>\n",
              "      <td>False</td>\n",
              "      <td>en</td>\n",
              "      <td>8.794920e+17</td>\n",
              "      <td>https://pbs.twimg.com/media/DDSVWMvXsAEgmMK.jpg</td>\n",
              "      <td>1</td>\n",
              "      <td>German_short-haired_pointer</td>\n",
              "      <td>0.479896</td>\n",
              "      <td>True</td>\n",
              "      <td>vizsla</td>\n",
              "      <td>0.124353</td>\n",
              "      <td>True</td>\n",
              "      <td>bath_towel</td>\n",
              "      <td>0.073320</td>\n",
              "      <td>False</td>\n",
              "    </tr>\n",
              "    <tr>\n",
              "      <th>2017</th>\n",
              "      <td>672160042234327040</td>\n",
              "      <td>2015-12-02 21:06:56+00:00</td>\n",
              "      <td>8</td>\n",
              "      <td>10</td>\n",
              "      <td>pupper</td>\n",
              "      <td>2015-12-02 18:48:47+00:00</td>\n",
              "      <td>672125275208069120</td>\n",
              "      <td>1253</td>\n",
              "      <td>2578</td>\n",
              "      <td>False</td>\n",
              "      <td>False</td>\n",
              "      <td>en</td>\n",
              "      <td>8.800960e+17</td>\n",
              "      <td>https://pbs.twimg.com/media/DDa6ckbXgAAM1vV.jpg</td>\n",
              "      <td>1</td>\n",
              "      <td>miniature_pinscher</td>\n",
              "      <td>0.120298</td>\n",
              "      <td>True</td>\n",
              "      <td>Rhodesian_ridgeback</td>\n",
              "      <td>0.106395</td>\n",
              "      <td>True</td>\n",
              "      <td>beagle</td>\n",
              "      <td>0.106073</td>\n",
              "      <td>True</td>\n",
              "    </tr>\n",
              "  </tbody>\n",
              "</table>\n",
              "<p>364 rows × 24 columns</p>\n",
              "</div>"
            ],
            "text/plain": [
              "                tweet_id                 timestamp  ...   p3_conf  p3_dog\n",
              "9     890240255349198849 2017-07-26 15:59:51+00:00  ...  0.082086    True\n",
              "12    889665388333682689 2017-07-25 01:55:32+00:00  ...  0.097471    True\n",
              "14    889531135344209921 2017-07-24 17:02:04+00:00  ...  0.075628    True\n",
              "29    886366144734445568 2017-07-15 23:25:31+00:00  ...  0.189945   False\n",
              "43    884162670584377345 2017-07-09 21:29:42+00:00  ...  0.086951    True\n",
              "...                  ...                       ...  ...       ...     ...\n",
              "1995  672594978741354496 2015-12-04 01:55:13+00:00  ...  0.157402    True\n",
              "2002  672481316919734272 2015-12-03 18:23:34+00:00  ...  0.088935    True\n",
              "2009  672254177670729728 2015-12-03 03:21:00+00:00  ...  0.128507    True\n",
              "2015  672205392827572224 2015-12-03 00:07:09+00:00  ...  0.073320   False\n",
              "2017  672160042234327040 2015-12-02 21:06:56+00:00  ...  0.106073    True\n",
              "\n",
              "[364 rows x 24 columns]"
            ]
          },
          "metadata": {
            "tags": []
          },
          "execution_count": 57
        }
      ]
    },
    {
      "cell_type": "code",
      "metadata": {
        "colab": {
          "base_uri": "https://localhost:8080/"
        },
        "id": "QMQ_VvfAkI1T",
        "outputId": "8c89bf5c-c2dd-409e-e2ba-d25400a9109d"
      },
      "source": [
        "df.info()"
      ],
      "execution_count": 58,
      "outputs": [
        {
          "output_type": "stream",
          "text": [
            "<class 'pandas.core.frame.DataFrame'>\n",
            "Int64Index: 364 entries, 9 to 2017\n",
            "Data columns (total 24 columns):\n",
            " #   Column              Non-Null Count  Dtype              \n",
            "---  ------              --------------  -----              \n",
            " 0   tweet_id            364 non-null    int64              \n",
            " 1   timestamp           364 non-null    datetime64[ns, UTC]\n",
            " 2   rating_numerator    364 non-null    int64              \n",
            " 3   rating_denominator  364 non-null    int64              \n",
            " 4   type                364 non-null    object             \n",
            " 5   created_at          364 non-null    datetime64[ns, UTC]\n",
            " 6   tweet_id            364 non-null    int64              \n",
            " 7   retweet_count       364 non-null    int64              \n",
            " 8   favorite_count      364 non-null    int64              \n",
            " 9   favorited           364 non-null    bool               \n",
            " 10  retweeted           364 non-null    bool               \n",
            " 11  lang                364 non-null    object             \n",
            " 12  tweet_id            364 non-null    float64            \n",
            " 13  jpg_url             364 non-null    object             \n",
            " 14  img_num             364 non-null    int64              \n",
            " 15  p1                  364 non-null    object             \n",
            " 16  p1_conf             364 non-null    float64            \n",
            " 17  p1_dog              364 non-null    bool               \n",
            " 18  p2                  364 non-null    object             \n",
            " 19  p2_conf             364 non-null    float64            \n",
            " 20  p2_dog              364 non-null    bool               \n",
            " 21  p3                  364 non-null    object             \n",
            " 22  p3_conf             364 non-null    float64            \n",
            " 23  p3_dog              364 non-null    bool               \n",
            "dtypes: bool(5), datetime64[ns, UTC](2), float64(4), int64(7), object(6)\n",
            "memory usage: 58.7+ KB\n"
          ],
          "name": "stdout"
        }
      ]
    },
    {
      "cell_type": "code",
      "metadata": {
        "id": "zHE6Fwh3qspW"
      },
      "source": [
        "df.to_csv('/content/drive/MyDrive/twitter_archive_master.csv')"
      ],
      "execution_count": 59,
      "outputs": []
    },
    {
      "cell_type": "markdown",
      "metadata": {
        "id": "diTFi0Uwd2pg"
      },
      "source": [
        "first inshight \"Which dog type is the most common\""
      ]
    },
    {
      "cell_type": "code",
      "metadata": {
        "colab": {
          "base_uri": "https://localhost:8080/",
          "height": 309
        },
        "id": "D86WivWUdQgy",
        "outputId": "7a995887-7c81-414d-f682-f0cbf9649d90"
      },
      "source": [
        "df['type'].value_counts().plot(kind='bar')"
      ],
      "execution_count": 60,
      "outputs": [
        {
          "output_type": "execute_result",
          "data": {
            "text/plain": [
              "<matplotlib.axes._subplots.AxesSubplot at 0x7f6d6b913ed0>"
            ]
          },
          "metadata": {
            "tags": []
          },
          "execution_count": 60
        },
        {
          "output_type": "display_data",
          "data": {
            "image/png": "[encoded data removed]",
            "text/plain": [
              "<Figure size 432x288 with 1 Axes>"
            ]
          },
          "metadata": {
            "tags": [],
            "needs_background": "light"
          }
        }
      ]
    },
    {
      "cell_type": "markdown",
      "metadata": {
        "id": "XFezJxbRrsKL"
      },
      "source": [
        "second insghit \"which type has maximum retweets\""
      ]
    },
    {
      "cell_type": "code",
      "metadata": {
        "colab": {
          "base_uri": "https://localhost:8080/",
          "height": 206
        },
        "id": "38hQqlspneeB",
        "outputId": "101bc78c-9c02-4d88-9d13-526724c8f223"
      },
      "source": [
        "pd.DataFrame(df.groupby('type')['retweet_count'].sum())\r\n"
      ],
      "execution_count": 61,
      "outputs": [
        {
          "output_type": "execute_result",
          "data": {
            "text/html": [
              "<div>\n",
              "<style scoped>\n",
              "    .dataframe tbody tr th:only-of-type {\n",
              "        vertical-align: middle;\n",
              "    }\n",
              "\n",
              "    .dataframe tbody tr th {\n",
              "        vertical-align: top;\n",
              "    }\n",
              "\n",
              "    .dataframe thead th {\n",
              "        text-align: right;\n",
              "    }\n",
              "</style>\n",
              "<table border=\"1\" class=\"dataframe\">\n",
              "  <thead>\n",
              "    <tr style=\"text-align: right;\">\n",
              "      <th></th>\n",
              "      <th>retweet_count</th>\n",
              "    </tr>\n",
              "    <tr>\n",
              "      <th>type</th>\n",
              "      <th></th>\n",
              "    </tr>\n",
              "  </thead>\n",
              "  <tbody>\n",
              "    <tr>\n",
              "      <th>doggo</th>\n",
              "      <td>441571</td>\n",
              "    </tr>\n",
              "    <tr>\n",
              "      <th>floofer</th>\n",
              "      <td>28720</td>\n",
              "    </tr>\n",
              "    <tr>\n",
              "      <th>pupper</th>\n",
              "      <td>680624</td>\n",
              "    </tr>\n",
              "    <tr>\n",
              "      <th>puppo</th>\n",
              "      <td>162060</td>\n",
              "    </tr>\n",
              "  </tbody>\n",
              "</table>\n",
              "</div>"
            ],
            "text/plain": [
              "         retweet_count\n",
              "type                  \n",
              "doggo           441571\n",
              "floofer          28720\n",
              "pupper          680624\n",
              "puppo           162060"
            ]
          },
          "metadata": {
            "tags": []
          },
          "execution_count": 61
        }
      ]
    },
    {
      "cell_type": "markdown",
      "metadata": {
        "id": "I3Y8v274r2TN"
      },
      "source": [
        "third \"which year has most active\""
      ]
    },
    {
      "cell_type": "code",
      "metadata": {
        "colab": {
          "base_uri": "https://localhost:8080/"
        },
        "id": "g6IF2MizIXGI",
        "outputId": "3a06dfb3-cb02-4c9d-ce9c-7df0b6cee2e9"
      },
      "source": [
        "df['created_at'] = pd.to_datetime(df['created_at'])\r\n",
        "df['Year']=df['created_at'].apply(lambda x: x.year)\r\n",
        "df['Year'].value_counts()"
      ],
      "execution_count": 62,
      "outputs": [
        {
          "output_type": "execute_result",
          "data": {
            "text/plain": [
              "2016    219\n",
              "2017     79\n",
              "2015     66\n",
              "Name: Year, dtype: int64"
            ]
          },
          "metadata": {
            "tags": []
          },
          "execution_count": 62
        }
      ]
    }
  ]
}