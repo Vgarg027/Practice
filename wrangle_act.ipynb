{
 "cells": [
  {
   "cell_type": "markdown",
   "metadata": {
    "extensions": {
     "jupyter_dashboards": {
      "version": 1,
      "views": {
       "grid_default": {
        "col": 0,
        "height": 4,
        "hidden": false,
        "row": 0,
        "width": 4
       },
       "report_default": {
        "hidden": false
       }
      }
     }
    },
    "id": "6xUXt4n_4daH"
   },
   "source": [
    "# Project: Wrangling and Analyze Data"
   ]
  },
  {
   "cell_type": "markdown",
   "metadata": {
    "id": "wklHeueR4daJ"
   },
   "source": [
    "## Data Gathering\n",
    "In the cell below, gather **all** three pieces of data for this project and load them in the notebook. **Note:** the methods required to gather each data are different.\n",
    "1. Directly download the WeRateDogs Twitter archive data (twitter_archive_enhanced.csv)"
   ]
  },
  {
   "cell_type": "code",
   "execution_count": 1,
   "metadata": {
    "id": "9vlmzGIT4oNz"
   },
   "outputs": [],
   "source": [
    "import pandas as pd\n",
    "import numpy as np\n",
    "# Set this option to show all columns in pandas dataframe \n",
    "pd.set_option('display.max_columns', None)\n",
    "pd.set_option('display.max_rows', None)"
   ]
  },
  {
   "cell_type": "code",
   "execution_count": 2,
   "metadata": {
    "colab": {
     "base_uri": "https://localhost:8080/",
     "height": 635
    },
    "executionInfo": {
     "elapsed": 590,
     "status": "ok",
     "timestamp": 1655111195768,
     "user": {
      "displayName": "Xấu Xa Kẻ",
      "userId": "08263153180530503733"
     },
     "user_tz": -420
    },
    "id": "0K12bxV5vkMY",
    "outputId": "84e42278-fd10-4f33-f344-342a8f882b6e"
   },
   "outputs": [
    {
     "data": {
      "text/html": [
       "<div>\n",
       "<style scoped>\n",
       "    .dataframe tbody tr th:only-of-type {\n",
       "        vertical-align: middle;\n",
       "    }\n",
       "\n",
       "    .dataframe tbody tr th {\n",
       "        vertical-align: top;\n",
       "    }\n",
       "\n",
       "    .dataframe thead th {\n",
       "        text-align: right;\n",
       "    }\n",
       "</style>\n",
       "<table border=\"1\" class=\"dataframe\">\n",
       "  <thead>\n",
       "    <tr style=\"text-align: right;\">\n",
       "      <th></th>\n",
       "      <th>tweet_id</th>\n",
       "      <th>in_reply_to_status_id</th>\n",
       "      <th>in_reply_to_user_id</th>\n",
       "      <th>timestamp</th>\n",
       "      <th>source</th>\n",
       "      <th>text</th>\n",
       "      <th>retweeted_status_id</th>\n",
       "      <th>retweeted_status_user_id</th>\n",
       "      <th>retweeted_status_timestamp</th>\n",
       "      <th>expanded_urls</th>\n",
       "      <th>rating_numerator</th>\n",
       "      <th>rating_denominator</th>\n",
       "      <th>name</th>\n",
       "      <th>doggo</th>\n",
       "      <th>floofer</th>\n",
       "      <th>pupper</th>\n",
       "      <th>puppo</th>\n",
       "    </tr>\n",
       "  </thead>\n",
       "  <tbody>\n",
       "    <tr>\n",
       "      <th>0</th>\n",
       "      <td>892420643555336193</td>\n",
       "      <td>NaN</td>\n",
       "      <td>NaN</td>\n",
       "      <td>2017-08-01 16:23:56 +0000</td>\n",
       "      <td>&lt;a href=\"http://twitter.com/download/iphone\" r...</td>\n",
       "      <td>This is Phineas. He's a mystical boy. Only eve...</td>\n",
       "      <td>NaN</td>\n",
       "      <td>NaN</td>\n",
       "      <td>NaN</td>\n",
       "      <td>https://twitter.com/dog_rates/status/892420643...</td>\n",
       "      <td>13</td>\n",
       "      <td>10</td>\n",
       "      <td>Phineas</td>\n",
       "      <td>None</td>\n",
       "      <td>None</td>\n",
       "      <td>None</td>\n",
       "      <td>None</td>\n",
       "    </tr>\n",
       "    <tr>\n",
       "      <th>1</th>\n",
       "      <td>892177421306343426</td>\n",
       "      <td>NaN</td>\n",
       "      <td>NaN</td>\n",
       "      <td>2017-08-01 00:17:27 +0000</td>\n",
       "      <td>&lt;a href=\"http://twitter.com/download/iphone\" r...</td>\n",
       "      <td>This is Tilly. She's just checking pup on you....</td>\n",
       "      <td>NaN</td>\n",
       "      <td>NaN</td>\n",
       "      <td>NaN</td>\n",
       "      <td>https://twitter.com/dog_rates/status/892177421...</td>\n",
       "      <td>13</td>\n",
       "      <td>10</td>\n",
       "      <td>Tilly</td>\n",
       "      <td>None</td>\n",
       "      <td>None</td>\n",
       "      <td>None</td>\n",
       "      <td>None</td>\n",
       "    </tr>\n",
       "    <tr>\n",
       "      <th>2</th>\n",
       "      <td>891815181378084864</td>\n",
       "      <td>NaN</td>\n",
       "      <td>NaN</td>\n",
       "      <td>2017-07-31 00:18:03 +0000</td>\n",
       "      <td>&lt;a href=\"http://twitter.com/download/iphone\" r...</td>\n",
       "      <td>This is Archie. He is a rare Norwegian Pouncin...</td>\n",
       "      <td>NaN</td>\n",
       "      <td>NaN</td>\n",
       "      <td>NaN</td>\n",
       "      <td>https://twitter.com/dog_rates/status/891815181...</td>\n",
       "      <td>12</td>\n",
       "      <td>10</td>\n",
       "      <td>Archie</td>\n",
       "      <td>None</td>\n",
       "      <td>None</td>\n",
       "      <td>None</td>\n",
       "      <td>None</td>\n",
       "    </tr>\n",
       "    <tr>\n",
       "      <th>3</th>\n",
       "      <td>891689557279858688</td>\n",
       "      <td>NaN</td>\n",
       "      <td>NaN</td>\n",
       "      <td>2017-07-30 15:58:51 +0000</td>\n",
       "      <td>&lt;a href=\"http://twitter.com/download/iphone\" r...</td>\n",
       "      <td>This is Darla. She commenced a snooze mid meal...</td>\n",
       "      <td>NaN</td>\n",
       "      <td>NaN</td>\n",
       "      <td>NaN</td>\n",
       "      <td>https://twitter.com/dog_rates/status/891689557...</td>\n",
       "      <td>13</td>\n",
       "      <td>10</td>\n",
       "      <td>Darla</td>\n",
       "      <td>None</td>\n",
       "      <td>None</td>\n",
       "      <td>None</td>\n",
       "      <td>None</td>\n",
       "    </tr>\n",
       "    <tr>\n",
       "      <th>4</th>\n",
       "      <td>891327558926688256</td>\n",
       "      <td>NaN</td>\n",
       "      <td>NaN</td>\n",
       "      <td>2017-07-29 16:00:24 +0000</td>\n",
       "      <td>&lt;a href=\"http://twitter.com/download/iphone\" r...</td>\n",
       "      <td>This is Franklin. He would like you to stop ca...</td>\n",
       "      <td>NaN</td>\n",
       "      <td>NaN</td>\n",
       "      <td>NaN</td>\n",
       "      <td>https://twitter.com/dog_rates/status/891327558...</td>\n",
       "      <td>12</td>\n",
       "      <td>10</td>\n",
       "      <td>Franklin</td>\n",
       "      <td>None</td>\n",
       "      <td>None</td>\n",
       "      <td>None</td>\n",
       "      <td>None</td>\n",
       "    </tr>\n",
       "  </tbody>\n",
       "</table>\n",
       "</div>"
      ],
      "text/plain": [
       "             tweet_id  in_reply_to_status_id  in_reply_to_user_id  \\\n",
       "0  892420643555336193                    NaN                  NaN   \n",
       "1  892177421306343426                    NaN                  NaN   \n",
       "2  891815181378084864                    NaN                  NaN   \n",
       "3  891689557279858688                    NaN                  NaN   \n",
       "4  891327558926688256                    NaN                  NaN   \n",
       "\n",
       "                   timestamp  \\\n",
       "0  2017-08-01 16:23:56 +0000   \n",
       "1  2017-08-01 00:17:27 +0000   \n",
       "2  2017-07-31 00:18:03 +0000   \n",
       "3  2017-07-30 15:58:51 +0000   \n",
       "4  2017-07-29 16:00:24 +0000   \n",
       "\n",
       "                                              source  \\\n",
       "0  <a href=\"http://twitter.com/download/iphone\" r...   \n",
       "1  <a href=\"http://twitter.com/download/iphone\" r...   \n",
       "2  <a href=\"http://twitter.com/download/iphone\" r...   \n",
       "3  <a href=\"http://twitter.com/download/iphone\" r...   \n",
       "4  <a href=\"http://twitter.com/download/iphone\" r...   \n",
       "\n",
       "                                                text  retweeted_status_id  \\\n",
       "0  This is Phineas. He's a mystical boy. Only eve...                  NaN   \n",
       "1  This is Tilly. She's just checking pup on you....                  NaN   \n",
       "2  This is Archie. He is a rare Norwegian Pouncin...                  NaN   \n",
       "3  This is Darla. She commenced a snooze mid meal...                  NaN   \n",
       "4  This is Franklin. He would like you to stop ca...                  NaN   \n",
       "\n",
       "   retweeted_status_user_id retweeted_status_timestamp  \\\n",
       "0                       NaN                        NaN   \n",
       "1                       NaN                        NaN   \n",
       "2                       NaN                        NaN   \n",
       "3                       NaN                        NaN   \n",
       "4                       NaN                        NaN   \n",
       "\n",
       "                                       expanded_urls  rating_numerator  \\\n",
       "0  https://twitter.com/dog_rates/status/892420643...                13   \n",
       "1  https://twitter.com/dog_rates/status/892177421...                13   \n",
       "2  https://twitter.com/dog_rates/status/891815181...                12   \n",
       "3  https://twitter.com/dog_rates/status/891689557...                13   \n",
       "4  https://twitter.com/dog_rates/status/891327558...                12   \n",
       "\n",
       "   rating_denominator      name doggo floofer pupper puppo  \n",
       "0                  10   Phineas  None    None   None  None  \n",
       "1                  10     Tilly  None    None   None  None  \n",
       "2                  10    Archie  None    None   None  None  \n",
       "3                  10     Darla  None    None   None  None  \n",
       "4                  10  Franklin  None    None   None  None  "
      ]
     },
     "execution_count": 2,
     "metadata": {},
     "output_type": "execute_result"
    }
   ],
   "source": [
    "df_tw_enhanced = pd.read_csv(\"twitter-archive-enhanced.csv\")\n",
    "df_tw_enhanced.head()"
   ]
  },
  {
   "cell_type": "code",
   "execution_count": null,
   "metadata": {
    "colab": {
     "base_uri": "https://localhost:8080/"
    },
    "executionInfo": {
     "elapsed": 420,
     "status": "ok",
     "timestamp": 1655111200513,
     "user": {
      "displayName": "Xấu Xa Kẻ",
      "userId": "08263153180530503733"
     },
     "user_tz": -420
    },
    "id": "jM00kEEs_7YU",
    "outputId": "d4f544aa-bc86-4c75-993d-7fd28130daa6"
   },
   "outputs": [
    {
     "data": {
      "text/plain": [
       "(2356, 17)"
      ]
     },
     "execution_count": 4,
     "metadata": {},
     "output_type": "execute_result"
    }
   ],
   "source": [
    "df_tw_enhanced.shape"
   ]
  },
  {
   "cell_type": "code",
   "execution_count": null,
   "metadata": {
    "colab": {
     "base_uri": "https://localhost:8080/"
    },
    "executionInfo": {
     "elapsed": 333,
     "status": "ok",
     "timestamp": 1655111202757,
     "user": {
      "displayName": "Xấu Xa Kẻ",
      "userId": "08263153180530503733"
     },
     "user_tz": -420
    },
    "id": "mqpuHAQ0_Z4y",
    "outputId": "574b922d-9caa-462d-f06e-5cabd5045299"
   },
   "outputs": [
    {
     "data": {
      "text/plain": [
       "(2175, 17)"
      ]
     },
     "execution_count": 5,
     "metadata": {},
     "output_type": "execute_result"
    }
   ],
   "source": [
    "df_tw_enhanced[df_tw_enhanced['retweeted_status_id'].isnull()].shape"
   ]
  },
  {
   "cell_type": "code",
   "execution_count": null,
   "metadata": {
    "colab": {
     "base_uri": "https://localhost:8080/"
    },
    "executionInfo": {
     "elapsed": 351,
     "status": "ok",
     "timestamp": 1655111204824,
     "user": {
      "displayName": "Xấu Xa Kẻ",
      "userId": "08263153180530503733"
     },
     "user_tz": -420
    },
    "id": "9u2j8dDCKFsc",
    "outputId": "8d8eb288-5a88-4840-85f7-0ec5b27bcaaf"
   },
   "outputs": [
    {
     "name": "stdout",
     "output_type": "stream",
     "text": [
      "<class 'pandas.core.frame.DataFrame'>\n",
      "RangeIndex: 2356 entries, 0 to 2355\n",
      "Data columns (total 17 columns):\n",
      " #   Column                      Non-Null Count  Dtype  \n",
      "---  ------                      --------------  -----  \n",
      " 0   tweet_id                    2356 non-null   int64  \n",
      " 1   in_reply_to_status_id       78 non-null     float64\n",
      " 2   in_reply_to_user_id         78 non-null     float64\n",
      " 3   timestamp                   2356 non-null   object \n",
      " 4   source                      2356 non-null   object \n",
      " 5   text                        2356 non-null   object \n",
      " 6   retweeted_status_id         181 non-null    float64\n",
      " 7   retweeted_status_user_id    181 non-null    float64\n",
      " 8   retweeted_status_timestamp  181 non-null    object \n",
      " 9   expanded_urls               2297 non-null   object \n",
      " 10  rating_numerator            2356 non-null   int64  \n",
      " 11  rating_denominator          2356 non-null   int64  \n",
      " 12  name                        2356 non-null   object \n",
      " 13  doggo                       2356 non-null   object \n",
      " 14  floofer                     2356 non-null   object \n",
      " 15  pupper                      2356 non-null   object \n",
      " 16  puppo                       2356 non-null   object \n",
      "dtypes: float64(4), int64(3), object(10)\n",
      "memory usage: 313.0+ KB\n"
     ]
    }
   ],
   "source": [
    "df_tw_enhanced.info()"
   ]
  },
  {
   "cell_type": "code",
   "execution_count": null,
   "metadata": {
    "colab": {
     "base_uri": "https://localhost:8080/",
     "height": 300
    },
    "executionInfo": {
     "elapsed": 376,
     "status": "ok",
     "timestamp": 1655111208184,
     "user": {
      "displayName": "Xấu Xa Kẻ",
      "userId": "08263153180530503733"
     },
     "user_tz": -420
    },
    "id": "O6cjI_WKjbC7",
    "outputId": "c8c1f4c3-0860-4708-a85c-19753a3c128d"
   },
   "outputs": [
    {
     "data": {
      "text/html": [
       "\n",
       "  <div id=\"df-319bde2e-556a-47c3-9d1d-15350b782cae\">\n",
       "    <div class=\"colab-df-container\">\n",
       "      <div>\n",
       "<style scoped>\n",
       "    .dataframe tbody tr th:only-of-type {\n",
       "        vertical-align: middle;\n",
       "    }\n",
       "\n",
       "    .dataframe tbody tr th {\n",
       "        vertical-align: top;\n",
       "    }\n",
       "\n",
       "    .dataframe thead th {\n",
       "        text-align: right;\n",
       "    }\n",
       "</style>\n",
       "<table border=\"1\" class=\"dataframe\">\n",
       "  <thead>\n",
       "    <tr style=\"text-align: right;\">\n",
       "      <th></th>\n",
       "      <th>tweet_id</th>\n",
       "      <th>in_reply_to_status_id</th>\n",
       "      <th>in_reply_to_user_id</th>\n",
       "      <th>retweeted_status_id</th>\n",
       "      <th>retweeted_status_user_id</th>\n",
       "      <th>rating_numerator</th>\n",
       "      <th>rating_denominator</th>\n",
       "    </tr>\n",
       "  </thead>\n",
       "  <tbody>\n",
       "    <tr>\n",
       "      <th>count</th>\n",
       "      <td>2.356000e+03</td>\n",
       "      <td>7.800000e+01</td>\n",
       "      <td>7.800000e+01</td>\n",
       "      <td>1.810000e+02</td>\n",
       "      <td>1.810000e+02</td>\n",
       "      <td>2356.000000</td>\n",
       "      <td>2356.000000</td>\n",
       "    </tr>\n",
       "    <tr>\n",
       "      <th>mean</th>\n",
       "      <td>7.427716e+17</td>\n",
       "      <td>7.455079e+17</td>\n",
       "      <td>2.014171e+16</td>\n",
       "      <td>7.720400e+17</td>\n",
       "      <td>1.241698e+16</td>\n",
       "      <td>13.126486</td>\n",
       "      <td>10.455433</td>\n",
       "    </tr>\n",
       "    <tr>\n",
       "      <th>std</th>\n",
       "      <td>6.856705e+16</td>\n",
       "      <td>7.582492e+16</td>\n",
       "      <td>1.252797e+17</td>\n",
       "      <td>6.236928e+16</td>\n",
       "      <td>9.599254e+16</td>\n",
       "      <td>45.876648</td>\n",
       "      <td>6.745237</td>\n",
       "    </tr>\n",
       "    <tr>\n",
       "      <th>min</th>\n",
       "      <td>6.660209e+17</td>\n",
       "      <td>6.658147e+17</td>\n",
       "      <td>1.185634e+07</td>\n",
       "      <td>6.661041e+17</td>\n",
       "      <td>7.832140e+05</td>\n",
       "      <td>0.000000</td>\n",
       "      <td>0.000000</td>\n",
       "    </tr>\n",
       "    <tr>\n",
       "      <th>25%</th>\n",
       "      <td>6.783989e+17</td>\n",
       "      <td>6.757419e+17</td>\n",
       "      <td>3.086374e+08</td>\n",
       "      <td>7.186315e+17</td>\n",
       "      <td>4.196984e+09</td>\n",
       "      <td>10.000000</td>\n",
       "      <td>10.000000</td>\n",
       "    </tr>\n",
       "    <tr>\n",
       "      <th>50%</th>\n",
       "      <td>7.196279e+17</td>\n",
       "      <td>7.038708e+17</td>\n",
       "      <td>4.196984e+09</td>\n",
       "      <td>7.804657e+17</td>\n",
       "      <td>4.196984e+09</td>\n",
       "      <td>11.000000</td>\n",
       "      <td>10.000000</td>\n",
       "    </tr>\n",
       "    <tr>\n",
       "      <th>75%</th>\n",
       "      <td>7.993373e+17</td>\n",
       "      <td>8.257804e+17</td>\n",
       "      <td>4.196984e+09</td>\n",
       "      <td>8.203146e+17</td>\n",
       "      <td>4.196984e+09</td>\n",
       "      <td>12.000000</td>\n",
       "      <td>10.000000</td>\n",
       "    </tr>\n",
       "    <tr>\n",
       "      <th>max</th>\n",
       "      <td>8.924206e+17</td>\n",
       "      <td>8.862664e+17</td>\n",
       "      <td>8.405479e+17</td>\n",
       "      <td>8.874740e+17</td>\n",
       "      <td>7.874618e+17</td>\n",
       "      <td>1776.000000</td>\n",
       "      <td>170.000000</td>\n",
       "    </tr>\n",
       "  </tbody>\n",
       "</table>\n",
       "</div>\n",
       "      <button class=\"colab-df-convert\" onclick=\"convertToInteractive('df-319bde2e-556a-47c3-9d1d-15350b782cae')\"\n",
       "              title=\"Convert this dataframe to an interactive table.\"\n",
       "              style=\"display:none;\">\n",
       "        \n",
       "  <svg xmlns=\"http://www.w3.org/2000/svg\" height=\"24px\"viewBox=\"0 0 24 24\"\n",
       "       width=\"24px\">\n",
       "    <path d=\"M0 0h24v24H0V0z\" fill=\"none\"/>\n",
       "    <path d=\"M18.56 5.44l.94 2.06.94-2.06 2.06-.94-2.06-.94-.94-2.06-.94 2.06-2.06.94zm-11 1L8.5 8.5l.94-2.06 2.06-.94-2.06-.94L8.5 2.5l-.94 2.06-2.06.94zm10 10l.94 2.06.94-2.06 2.06-.94-2.06-.94-.94-2.06-.94 2.06-2.06.94z\"/><path d=\"M17.41 7.96l-1.37-1.37c-.4-.4-.92-.59-1.43-.59-.52 0-1.04.2-1.43.59L10.3 9.45l-7.72 7.72c-.78.78-.78 2.05 0 2.83L4 21.41c.39.39.9.59 1.41.59.51 0 1.02-.2 1.41-.59l7.78-7.78 2.81-2.81c.8-.78.8-2.07 0-2.86zM5.41 20L4 18.59l7.72-7.72 1.47 1.35L5.41 20z\"/>\n",
       "  </svg>\n",
       "      </button>\n",
       "      \n",
       "  <style>\n",
       "    .colab-df-container {\n",
       "      display:flex;\n",
       "      flex-wrap:wrap;\n",
       "      gap: 12px;\n",
       "    }\n",
       "\n",
       "    .colab-df-convert {\n",
       "      background-color: #E8F0FE;\n",
       "      border: none;\n",
       "      border-radius: 50%;\n",
       "      cursor: pointer;\n",
       "      display: none;\n",
       "      fill: #1967D2;\n",
       "      height: 32px;\n",
       "      padding: 0 0 0 0;\n",
       "      width: 32px;\n",
       "    }\n",
       "\n",
       "    .colab-df-convert:hover {\n",
       "      background-color: #E2EBFA;\n",
       "      box-shadow: 0px 1px 2px rgba(60, 64, 67, 0.3), 0px 1px 3px 1px rgba(60, 64, 67, 0.15);\n",
       "      fill: #174EA6;\n",
       "    }\n",
       "\n",
       "    [theme=dark] .colab-df-convert {\n",
       "      background-color: #3B4455;\n",
       "      fill: #D2E3FC;\n",
       "    }\n",
       "\n",
       "    [theme=dark] .colab-df-convert:hover {\n",
       "      background-color: #434B5C;\n",
       "      box-shadow: 0px 1px 3px 1px rgba(0, 0, 0, 0.15);\n",
       "      filter: drop-shadow(0px 1px 2px rgba(0, 0, 0, 0.3));\n",
       "      fill: #FFFFFF;\n",
       "    }\n",
       "  </style>\n",
       "\n",
       "      <script>\n",
       "        const buttonEl =\n",
       "          document.querySelector('#df-319bde2e-556a-47c3-9d1d-15350b782cae button.colab-df-convert');\n",
       "        buttonEl.style.display =\n",
       "          google.colab.kernel.accessAllowed ? 'block' : 'none';\n",
       "\n",
       "        async function convertToInteractive(key) {\n",
       "          const element = document.querySelector('#df-319bde2e-556a-47c3-9d1d-15350b782cae');\n",
       "          const dataTable =\n",
       "            await google.colab.kernel.invokeFunction('convertToInteractive',\n",
       "                                                     [key], {});\n",
       "          if (!dataTable) return;\n",
       "\n",
       "          const docLinkHtml = 'Like what you see? Visit the ' +\n",
       "            '<a target=\"_blank\" href=https://colab.research.google.com/notebooks/data_table.ipynb>data table notebook</a>'\n",
       "            + ' to learn more about interactive tables.';\n",
       "          element.innerHTML = '';\n",
       "          dataTable['output_type'] = 'display_data';\n",
       "          await google.colab.output.renderOutput(dataTable, element);\n",
       "          const docLink = document.createElement('div');\n",
       "          docLink.innerHTML = docLinkHtml;\n",
       "          element.appendChild(docLink);\n",
       "        }\n",
       "      </script>\n",
       "    </div>\n",
       "  </div>\n",
       "  "
      ],
      "text/plain": [
       "           tweet_id  in_reply_to_status_id  in_reply_to_user_id  \\\n",
       "count  2.356000e+03           7.800000e+01         7.800000e+01   \n",
       "mean   7.427716e+17           7.455079e+17         2.014171e+16   \n",
       "std    6.856705e+16           7.582492e+16         1.252797e+17   \n",
       "min    6.660209e+17           6.658147e+17         1.185634e+07   \n",
       "25%    6.783989e+17           6.757419e+17         3.086374e+08   \n",
       "50%    7.196279e+17           7.038708e+17         4.196984e+09   \n",
       "75%    7.993373e+17           8.257804e+17         4.196984e+09   \n",
       "max    8.924206e+17           8.862664e+17         8.405479e+17   \n",
       "\n",
       "       retweeted_status_id  retweeted_status_user_id  rating_numerator  \\\n",
       "count         1.810000e+02              1.810000e+02       2356.000000   \n",
       "mean          7.720400e+17              1.241698e+16         13.126486   \n",
       "std           6.236928e+16              9.599254e+16         45.876648   \n",
       "min           6.661041e+17              7.832140e+05          0.000000   \n",
       "25%           7.186315e+17              4.196984e+09         10.000000   \n",
       "50%           7.804657e+17              4.196984e+09         11.000000   \n",
       "75%           8.203146e+17              4.196984e+09         12.000000   \n",
       "max           8.874740e+17              7.874618e+17       1776.000000   \n",
       "\n",
       "       rating_denominator  \n",
       "count         2356.000000  \n",
       "mean            10.455433  \n",
       "std              6.745237  \n",
       "min              0.000000  \n",
       "25%             10.000000  \n",
       "50%             10.000000  \n",
       "75%             10.000000  \n",
       "max            170.000000  "
      ]
     },
     "execution_count": 7,
     "metadata": {},
     "output_type": "execute_result"
    }
   ],
   "source": [
    "df_tw_enhanced.describe()"
   ]
  },
  {
   "cell_type": "markdown",
   "metadata": {
    "id": "bAVSg2B-Dawu"
   },
   "source": [
    "- Check if there are any invalid values in the dog stages columns:"
   ]
  },
  {
   "cell_type": "code",
   "execution_count": null,
   "metadata": {
    "colab": {
     "base_uri": "https://localhost:8080/"
    },
    "executionInfo": {
     "elapsed": 340,
     "status": "ok",
     "timestamp": 1655111211209,
     "user": {
      "displayName": "Xấu Xa Kẻ",
      "userId": "08263153180530503733"
     },
     "user_tz": -420
    },
    "id": "ucMajswyq2O1",
    "outputId": "bad6c4d8-3ae0-4271-d8cc-c2a7251a1d82"
   },
   "outputs": [
    {
     "data": {
      "text/plain": [
       "array(['None', 'doggo'], dtype=object)"
      ]
     },
     "execution_count": 8,
     "metadata": {},
     "output_type": "execute_result"
    }
   ],
   "source": [
    "df_tw_enhanced[\"doggo\"].unique()"
   ]
  },
  {
   "cell_type": "code",
   "execution_count": null,
   "metadata": {
    "colab": {
     "base_uri": "https://localhost:8080/"
    },
    "executionInfo": {
     "elapsed": 332,
     "status": "ok",
     "timestamp": 1655111213582,
     "user": {
      "displayName": "Xấu Xa Kẻ",
      "userId": "08263153180530503733"
     },
     "user_tz": -420
    },
    "id": "Y1vY7t0Uq9ZG",
    "outputId": "c3f5f24b-3a95-47b3-cab0-d2e674e3c5ff"
   },
   "outputs": [
    {
     "data": {
      "text/plain": [
       "array(['None', 'floofer'], dtype=object)"
      ]
     },
     "execution_count": 9,
     "metadata": {},
     "output_type": "execute_result"
    }
   ],
   "source": [
    "df_tw_enhanced[\"floofer\"].unique()"
   ]
  },
  {
   "cell_type": "code",
   "execution_count": null,
   "metadata": {
    "colab": {
     "base_uri": "https://localhost:8080/"
    },
    "executionInfo": {
     "elapsed": 495,
     "status": "ok",
     "timestamp": 1655111215672,
     "user": {
      "displayName": "Xấu Xa Kẻ",
      "userId": "08263153180530503733"
     },
     "user_tz": -420
    },
    "id": "I9po5Te3rEQD",
    "outputId": "bfb51903-b5e6-45af-e8a6-c90644d5b4b7"
   },
   "outputs": [
    {
     "data": {
      "text/plain": [
       "array(['None', 'pupper'], dtype=object)"
      ]
     },
     "execution_count": 10,
     "metadata": {},
     "output_type": "execute_result"
    }
   ],
   "source": [
    "df_tw_enhanced[\"pupper\"].unique()"
   ]
  },
  {
   "cell_type": "code",
   "execution_count": null,
   "metadata": {
    "colab": {
     "base_uri": "https://localhost:8080/"
    },
    "executionInfo": {
     "elapsed": 655,
     "status": "ok",
     "timestamp": 1655111217870,
     "user": {
      "displayName": "Xấu Xa Kẻ",
      "userId": "08263153180530503733"
     },
     "user_tz": -420
    },
    "id": "J72x6nnyrJ6z",
    "outputId": "ef79c069-72d0-431a-85a0-e917e3454c0e"
   },
   "outputs": [
    {
     "data": {
      "text/plain": [
       "array(['None', 'puppo'], dtype=object)"
      ]
     },
     "execution_count": 11,
     "metadata": {},
     "output_type": "execute_result"
    }
   ],
   "source": [
    "df_tw_enhanced[\"puppo\"].unique()"
   ]
  },
  {
   "cell_type": "markdown",
   "metadata": {
    "id": "ZchpHv3RDiDF"
   },
   "source": [
    "- Print all values of dog names to have a glance on any abnormal values:"
   ]
  },
  {
   "cell_type": "code",
   "execution_count": null,
   "metadata": {
    "colab": {
     "base_uri": "https://localhost:8080/"
    },
    "executionInfo": {
     "elapsed": 393,
     "status": "ok",
     "timestamp": 1655111220879,
     "user": {
      "displayName": "Xấu Xa Kẻ",
      "userId": "08263153180530503733"
     },
     "user_tz": -420
    },
    "id": "sTPyw13XvGWi",
    "outputId": "b971f0e2-1d07-4146-9cd4-29f248ed7bc3"
   },
   "outputs": [
    {
     "data": {
      "text/plain": [
       "None              745\n",
       "a                  55\n",
       "Charlie            12\n",
       "Cooper             11\n",
       "Lucy               11\n",
       "Oliver             11\n",
       "Tucker             10\n",
       "Penny              10\n",
       "Lola               10\n",
       "Winston             9\n",
       "Bo                  9\n",
       "Sadie               8\n",
       "the                 8\n",
       "Daisy               7\n",
       "Buddy               7\n",
       "Toby                7\n",
       "an                  7\n",
       "Bailey              7\n",
       "Leo                 6\n",
       "Oscar               6\n",
       "Stanley             6\n",
       "Rusty               6\n",
       "Bella               6\n",
       "Dave                6\n",
       "Jack                6\n",
       "Koda                6\n",
       "Scout               6\n",
       "Jax                 6\n",
       "Milo                6\n",
       "Louis               5\n",
       "Phil                5\n",
       "Sammy               5\n",
       "Gus                 5\n",
       "Chester             5\n",
       "Alfie               5\n",
       "Sunny               5\n",
       "Bentley             5\n",
       "very                5\n",
       "Oakley              5\n",
       "Finn                5\n",
       "George              5\n",
       "Larry               5\n",
       "Clarence            4\n",
       "Loki                4\n",
       "Walter              4\n",
       "Reggie              4\n",
       "Hank                4\n",
       "Scooter             4\n",
       "Duke                4\n",
       "quite               4\n",
       "Reginald            4\n",
       "Maggie              4\n",
       "Luna                4\n",
       "Maddie              4\n",
       "Dexter              4\n",
       "Jerry               4\n",
       "Carl                4\n",
       "Ruby                4\n",
       "Riley               4\n",
       "Clark               4\n",
       "Chip                4\n",
       "Brody               4\n",
       "just                4\n",
       "Sophie              4\n",
       "Sampson             4\n",
       "Boomer              4\n",
       "Winnie              4\n",
       "Gary                4\n",
       "Archie              4\n",
       "Jeffrey             4\n",
       "Gerald              4\n",
       "one                 4\n",
       "Cassie              4\n",
       "Maximus             4\n",
       "Moose               4\n",
       "Bear                4\n",
       "Bruce               4\n",
       "Beau                4\n",
       "Derek               4\n",
       "Shadow              4\n",
       "Rory                3\n",
       "Waffles             3\n",
       "Earl                3\n",
       "Nala                3\n",
       "Louie               3\n",
       "Colby               3\n",
       "Otis                3\n",
       "Doug                3\n",
       "Rosie               3\n",
       "Wyatt               3\n",
       "Lily                3\n",
       "Coco                3\n",
       "Kyle                3\n",
       "Olive               3\n",
       "Peaches             3\n",
       "Vincent             3\n",
       "Reese               3\n",
       "Jimothy             3\n",
       "Frankie             3\n",
       "Ted                 3\n",
       "Arnie               3\n",
       "Klevin              3\n",
       "Max                 3\n",
       "Zoey                3\n",
       "Ellie               3\n",
       "Zeke                3\n",
       "Wilson              3\n",
       "Calvin              3\n",
       "Sebastian           3\n",
       "Wallace             3\n",
       "Lorenzo             3\n",
       "Malcolm             3\n",
       "Mia                 3\n",
       "Samson              3\n",
       "Paisley             3\n",
       "Steven              3\n",
       "Gizmo               3\n",
       "Benji               2\n",
       "Philbert            2\n",
       "Django              2\n",
       "Sansa               2\n",
       "Tyr                 2\n",
       "Moe                 2\n",
       "Misty               2\n",
       "Herm                2\n",
       "Cali                2\n",
       "Kenneth             2\n",
       "Chelsea             2\n",
       "Happy               2\n",
       "Ollie               2\n",
       "Leela               2\n",
       "Sam                 2\n",
       "Hunter              2\n",
       "Seamus              2\n",
       "Tyrone              2\n",
       "Atlas               2\n",
       "Rocky               2\n",
       "Oshie               2\n",
       "Olivia              2\n",
       "Davey               2\n",
       "Timison             2\n",
       "Paull               2\n",
       "Titan               2\n",
       "Levi                2\n",
       "Layla               2\n",
       "Stubert             2\n",
       "Rizzy               2\n",
       "Baloo               2\n",
       "Betty               2\n",
       "Herschel            2\n",
       "Butter              2\n",
       "Mister              2\n",
       "Lenny               2\n",
       "Doc                 2\n",
       "Juno                2\n",
       "Anakin              2\n",
       "Bernie              2\n",
       "Marley              2\n",
       "Phineas             2\n",
       "Nollie              2\n",
       "Meyer               2\n",
       "Blitz               2\n",
       "Raymond             2\n",
       "Crystal             2\n",
       "Phred               2\n",
       "Terry               2\n",
       "Axel                2\n",
       "Charles             2\n",
       "Herald              2\n",
       "getting             2\n",
       "Theodore            2\n",
       "Maxaroni            2\n",
       "Kilo                2\n",
       "Brad                2\n",
       "actually            2\n",
       "Sugar               2\n",
       "Percy               2\n",
       "Opal                2\n",
       "Shaggy              2\n",
       "Wally               2\n",
       "Oliviér             2\n",
       "mad                 2\n",
       "Kreggory            2\n",
       "Remington           2\n",
       "Bisquick            2\n",
       "Chuckles            2\n",
       "Thumas              2\n",
       "Curtis              2\n",
       "Calbert             2\n",
       "Chet                2\n",
       "Bubbles             2\n",
       "Coops               2\n",
       "Ozzy                2\n",
       "Smokey              2\n",
       "Flávio              2\n",
       "CeCe                2\n",
       "Pippa               2\n",
       "Panda               2\n",
       "Bob                 2\n",
       "Sarge               2\n",
       "Abby                2\n",
       "Keurig              2\n",
       "Baxter              2\n",
       "Atticus             2\n",
       "Dakota              2\n",
       "Gromit              2\n",
       "Roosevelt           2\n",
       "Fizz                2\n",
       "Penelope            2\n",
       "Finley              2\n",
       "Solomon             2\n",
       "Hurley              2\n",
       "Bell                2\n",
       "Dash                2\n",
       "Linda               2\n",
       "Chipson             2\n",
       "Harper              2\n",
       "Kenny               2\n",
       "Sandy               2\n",
       "Lincoln             2\n",
       "Frank               2\n",
       "Jackson             2\n",
       "Kirby               2\n",
       "Lou                 2\n",
       "Jeph                2\n",
       "Piper               2\n",
       "Hammond             2\n",
       "Fred                2\n",
       "Carly               2\n",
       "Keith               2\n",
       "Rubio               2\n",
       "Watson              2\n",
       "Chompsky            2\n",
       "Rufus               2\n",
       "Jiminy              2\n",
       "Griffin             2\n",
       "Rocco               2\n",
       "Albert              2\n",
       "Patrick             2\n",
       "Kreg                2\n",
       "Eve                 2\n",
       "Luca                2\n",
       "Lennon              2\n",
       "Cupcake             2\n",
       "Emmy                2\n",
       "Ken                 2\n",
       "Pipsy               2\n",
       "Nelly               2\n",
       "Odie                2\n",
       "Ava                 2\n",
       "Ash                 2\n",
       "Terrance            2\n",
       "not                 2\n",
       "Romeo               2\n",
       "Stephan             2\n",
       "Jesse               2\n",
       "Elliot              2\n",
       "Logan               2\n",
       "Moreton             2\n",
       "Klein               2\n",
       "Kyro                2\n",
       "Fiona               2\n",
       "Yogi                2\n",
       "Indie               2\n",
       "Benedict            2\n",
       "Lilly               2\n",
       "Churlie             2\n",
       "Hobbes              2\n",
       "Trooper             2\n",
       "Belle               2\n",
       "Quinn               2\n",
       "Neptune             2\n",
       "Albus               2\n",
       "Alice               2\n",
       "Aspen               2\n",
       "Jamesy              2\n",
       "Bungalo             2\n",
       "Harold              2\n",
       "Astrid              2\n",
       "Gidget              2\n",
       "Cody                2\n",
       "Dawn                2\n",
       "Sierra              2\n",
       "Cash                2\n",
       "Pickles             2\n",
       "Kevin               2\n",
       "Eli                 2\n",
       "Gabe                2\n",
       "Balto               2\n",
       "Pablo               2\n",
       "Franklin            2\n",
       "Jimison             2\n",
       "Hercules            2\n",
       "Canela              2\n",
       "Mattie              2\n",
       "Dotsy               1\n",
       "Marvin              1\n",
       "Lizzie              1\n",
       "Kallie              1\n",
       "Ember               1\n",
       "Frönq               1\n",
       "Blakely             1\n",
       "Jockson             1\n",
       "Ambrose             1\n",
       "Jomathan            1\n",
       "Marq                1\n",
       "Kramer              1\n",
       "Maks                1\n",
       "Derby               1\n",
       "Pubert              1\n",
       "Spark               1\n",
       "Ferg                1\n",
       "Ricky               1\n",
       "Carll               1\n",
       "Ron                 1\n",
       "Torque              1\n",
       "Lucky               1\n",
       "Terrenth            1\n",
       "Trip                1\n",
       "Gordon              1\n",
       "Jareld              1\n",
       "Bode                1\n",
       "DayZ                1\n",
       "Jo                  1\n",
       "Hamrick             1\n",
       "Gòrdón              1\n",
       "Barry               1\n",
       "Horace              1\n",
       "Timofy              1\n",
       "Kulet               1\n",
       "Perry               1\n",
       "Bobby               1\n",
       "Winifred            1\n",
       "Obi                 1\n",
       "Kevon               1\n",
       "Tino                1\n",
       "Sweets              1\n",
       "Bruiser             1\n",
       "Lupe                1\n",
       "Tiger               1\n",
       "Lugan               1\n",
       "Kathmandu           1\n",
       "Banditt             1\n",
       "Banjo               1\n",
       "Katie               1\n",
       "Oreo                1\n",
       "Mona                1\n",
       "Adele               1\n",
       "Fynn                1\n",
       "Zara                1\n",
       "Crimson             1\n",
       "Birf                1\n",
       "Josep               1\n",
       "Zeek                1\n",
       "Lorelei             1\n",
       "Gerbald             1\n",
       "Marty               1\n",
       "Brooks              1\n",
       "Petrick             1\n",
       "Hubertson           1\n",
       "Hanz                1\n",
       "Kara                1\n",
       "Skittles            1\n",
       "Chesterson          1\n",
       "Biden               1\n",
       "Naphaniel           1\n",
       "Ole                 1\n",
       "Pherb               1\n",
       "Blipson             1\n",
       "Genevieve           1\n",
       "Reptar              1\n",
       "Trevith             1\n",
       "Joshwa              1\n",
       "Millie              1\n",
       "Kial                1\n",
       "Berb                1\n",
       "Bradlay             1\n",
       "Colin               1\n",
       "Brian               1\n",
       "Yoda                1\n",
       "Coopson             1\n",
       "Carter              1\n",
       "Dook                1\n",
       "Grady               1\n",
       "Jessiga             1\n",
       "Eazy                1\n",
       "Murphy              1\n",
       "Kaia                1\n",
       "Fillup              1\n",
       "Miley               1\n",
       "Daniel              1\n",
       "Philippe            1\n",
       "Charl               1\n",
       "Reagan              1\n",
       "Yukon               1\n",
       "Crouton             1\n",
       "Hall                1\n",
       "Fwed                1\n",
       "Cuddles             1\n",
       "Claude              1\n",
       "Filup               1\n",
       "Kobe                1\n",
       "Durg                1\n",
       "Vinscent            1\n",
       "Hazel               1\n",
       "Lolo                1\n",
       "Eriq                1\n",
       "Erik                1\n",
       "Rudy                1\n",
       "Rambo               1\n",
       "Cleopatricia        1\n",
       "Oddie               1\n",
       "Socks               1\n",
       "Maxwell             1\n",
       "Ralphson            1\n",
       "Keet                1\n",
       "Geoff               1\n",
       "Covach              1\n",
       "Lucia               1\n",
       "Cedrick             1\n",
       "Stu                 1\n",
       "Bilbo               1\n",
       "Fiji                1\n",
       "Rilo                1\n",
       "Freddery            1\n",
       "Bodie               1\n",
       "Dunkin              1\n",
       "Tedrick             1\n",
       "Tupawc              1\n",
       "Clybe               1\n",
       "Amber               1\n",
       "Edgar               1\n",
       "Teddy               1\n",
       "Kingsley            1\n",
       "Brockly             1\n",
       "Richie              1\n",
       "Brandy              1\n",
       "Molly               1\n",
       "Bobb                1\n",
       "Patch               1\n",
       "Lulu                1\n",
       "Finnegus            1\n",
       "Henry               1\n",
       "Bobbay              1\n",
       "Mitch               1\n",
       "Creg                1\n",
       "Antony              1\n",
       "Trigger             1\n",
       "Kaiya               1\n",
       "Acro                1\n",
       "Mason               1\n",
       "Arnold              1\n",
       "Andy                1\n",
       "Aiden               1\n",
       "Sage                1\n",
       "Obie                1\n",
       "Amy                 1\n",
       "Jett                1\n",
       "Dot                 1\n",
       "Shnuggles           1\n",
       "life                1\n",
       "Chesney             1\n",
       "Traviss             1\n",
       "Jonah               1\n",
       "Damon               1\n",
       "Herb                1\n",
       "Willy               1\n",
       "Mollie              1\n",
       "Edd                 1\n",
       "Laela               1\n",
       "Bloo                1\n",
       "Pluto               1\n",
       "Ester               1\n",
       "Danny               1\n",
       "Tedders             1\n",
       "Jeffrie             1\n",
       "Superpup            1\n",
       "Rufio               1\n",
       "Gin                 1\n",
       "Jeb                 1\n",
       "Rodman              1\n",
       "Kendall             1\n",
       "Holly               1\n",
       "Jeffri              1\n",
       "Norman              1\n",
       "Scott               1\n",
       "Dylan               1\n",
       "Taz                 1\n",
       "Darby               1\n",
       "Jackie              1\n",
       "light               1\n",
       "Jazz                1\n",
       "Franq               1\n",
       "Pippin              1\n",
       "Rolf                1\n",
       "Batdog              1\n",
       "Snickers            1\n",
       "Ridley              1\n",
       "Cal                 1\n",
       "Bradley             1\n",
       "Bubba               1\n",
       "Mojo                1\n",
       "Caryl               1\n",
       "Leonidas            1\n",
       "Steve               1\n",
       "space               1\n",
       "Mac                 1\n",
       "Fletcher            1\n",
       "Anthony             1\n",
       "Kenzie              1\n",
       "Sparky              1\n",
       "Tanner              1\n",
       "Pumpkin             1\n",
       "Julius              1\n",
       "Schnozz             1\n",
       "Gustaf              1\n",
       "Pip                 1\n",
       "Scruffers           1\n",
       "Cheryl              1\n",
       "Alejandro           1\n",
       "JD                  1\n",
       "Ed                  1\n",
       "Mark                1\n",
       "Zuzu                1\n",
       "Buddah              1\n",
       "Darrel              1\n",
       "Kirk                1\n",
       "Cheesy              1\n",
       "Moofasa             1\n",
       "Jaspers             1\n",
       "Hector              1\n",
       "Goliath             1\n",
       "Clarq               1\n",
       "Kawhi               1\n",
       "Ralf                1\n",
       "by                  1\n",
       "Peanut              1\n",
       "Sully               1\n",
       "Emmie               1\n",
       "Tessa               1\n",
       "Willie              1\n",
       "Dug                 1\n",
       "Rinna               1\n",
       "Mike                1\n",
       "William             1\n",
       "Samsom              1\n",
       "Harrison            1\n",
       "Griswold            1\n",
       "Ozzie               1\n",
       "Amélie              1\n",
       "Taco                1\n",
       "Joey                1\n",
       "Ruffles             1\n",
       "Lambeau             1\n",
       "Todo                1\n",
       "Tess                1\n",
       "Ulysses             1\n",
       "Toffee              1\n",
       "Apollo              1\n",
       "Tuco                1\n",
       "Jaycob              1\n",
       "Glacier             1\n",
       "Chuck               1\n",
       "Jeremy              1\n",
       "Champ               1\n",
       "Chaz                1\n",
       "Saydee              1\n",
       "Dwight              1\n",
       "Billl               1\n",
       "Humphrey            1\n",
       "Tommy               1\n",
       "Juckson             1\n",
       "Liam                1\n",
       "Randall             1\n",
       "Chuq                1\n",
       "Tyrus               1\n",
       "Karl                1\n",
       "Godzilla            1\n",
       "Fabio               1\n",
       "Vinnie              1\n",
       "Sandra              1\n",
       "Bert                1\n",
       "Striker             1\n",
       "Donny               1\n",
       "Butters             1\n",
       "Pepper              1\n",
       "Nigel               1\n",
       "Tassy               1\n",
       "Ben                 1\n",
       "Evy                 1\n",
       "Ralph               1\n",
       "officially          1\n",
       "Rascal              1\n",
       "Ronduh              1\n",
       "Kollin              1\n",
       "Skye                1\n",
       "Shawwn              1\n",
       "Kloey               1\n",
       "Andru               1\n",
       "Tug                 1\n",
       "Tango               1\n",
       "Julio               1\n",
       "Grizz               1\n",
       "Jerome              1\n",
       "Crumpet             1\n",
       "Jessifer            1\n",
       "Raphael             1\n",
       "Izzy                1\n",
       "Asher               1\n",
       "Huxley              1\n",
       "Clarkus             1\n",
       "Autumn              1\n",
       "Sundance            1\n",
       "Flash               1\n",
       "Howie               1\n",
       "Jazzy               1\n",
       "Anna                1\n",
       "Wafer               1\n",
       "Tom                 1\n",
       "Florence            1\n",
       "Dido                1\n",
       "Duchess             1\n",
       "Eugene              1\n",
       "Strudel             1\n",
       "Tebow               1\n",
       "Chloe               1\n",
       "Timber              1\n",
       "Binky               1\n",
       "Dudley              1\n",
       "Comet               1\n",
       "Harlso              1\n",
       "Crawford            1\n",
       "Smiley              1\n",
       "Sailer              1\n",
       "Emanuel             1\n",
       "Kuyu                1\n",
       "Dutch               1\n",
       "Pete                1\n",
       "Mutt                1\n",
       "Doobert             1\n",
       "Beebop              1\n",
       "Alexander           1\n",
       "Brutus              1\n",
       "Sweet               1\n",
       "Kona                1\n",
       "Boots               1\n",
       "Ralphie             1\n",
       "Cupid               1\n",
       "Pawnd               1\n",
       "Pilot               1\n",
       "Ike                 1\n",
       "Mo                  1\n",
       "Akumi               1\n",
       "Alf                 1\n",
       "Chubbs              1\n",
       "Dobby               1\n",
       "Sobe                1\n",
       "Longfellow          1\n",
       "Iroh                1\n",
       "Pancake             1\n",
       "Snicku              1\n",
       "Mack                1\n",
       "Nimbus              1\n",
       "Laika               1\n",
       "Maude               1\n",
       "Sky                 1\n",
       "Newt                1\n",
       "Nida                1\n",
       "Robin               1\n",
       "Monster             1\n",
       "BeBe                1\n",
       "Remus               1\n",
       "Mabel               1\n",
       "Mosby               1\n",
       "Chef                1\n",
       "Mauve               1\n",
       "Bones               1\n",
       "Ronnie              1\n",
       "Eleanor             1\n",
       "Baron               1\n",
       "Bauer               1\n",
       "Swagger             1\n",
       "Brandi              1\n",
       "Mary                1\n",
       "Halo                1\n",
       "Augie               1\n",
       "Craig               1\n",
       "Pavlov              1\n",
       "Ito                 1\n",
       "incredibly          1\n",
       "Major               1\n",
       "Shooter             1\n",
       "Diogi               1\n",
       "Sonny               1\n",
       "Severus             1\n",
       "Miguel              1\n",
       "Eevee               1\n",
       "Brownie             1\n",
       "Napolean            1\n",
       "Goose               1\n",
       "Nugget              1\n",
       "Jed                 1\n",
       "Monkey              1\n",
       "Harry               1\n",
       "Kody                1\n",
       "Lassie              1\n",
       "Rover               1\n",
       "Rumble              1\n",
       "Ginger              1\n",
       "Clifford            1\n",
       "Dewey               1\n",
       "Shikha              1\n",
       "Lili                1\n",
       "Meatball            1\n",
       "Zooey               1\n",
       "Jersey              1\n",
       "Burt                1\n",
       "Venti               1\n",
       "Dante               1\n",
       "Orion               1\n",
       "Roscoe              1\n",
       "Darla               1\n",
       "Bruno               1\n",
       "Stuart              1\n",
       "Jim                 1\n",
       "Ralphus             1\n",
       "such                1\n",
       "Maya                1\n",
       "Mingus              1\n",
       "Jimbo               1\n",
       "Aja                 1\n",
       "Maisey              1\n",
       "Noah                1\n",
       "Grizzwald           1\n",
       "Alfy                1\n",
       "Koko                1\n",
       "Rey                 1\n",
       "Duddles             1\n",
       "Snoopy              1\n",
       "Jordy               1\n",
       "Milky               1\n",
       "Thor                1\n",
       "Mookie              1\n",
       "Jarvis              1\n",
       "Mimosa              1\n",
       "Brady               1\n",
       "Margo               1\n",
       "Tycho               1\n",
       "Monty               1\n",
       "Sojourner           1\n",
       "Arlo                1\n",
       "Meera               1\n",
       "Callie              1\n",
       "Tobi                1\n",
       "Sunshine            1\n",
       "Lipton              1\n",
       "Gabby               1\n",
       "Bronte              1\n",
       "Poppy               1\n",
       "Rhino               1\n",
       "Willow              1\n",
       "Vixen               1\n",
       "Barney              1\n",
       "Tuck                1\n",
       "Furzey              1\n",
       "Cermet              1\n",
       "Marlee              1\n",
       "Arya                1\n",
       "Einstein            1\n",
       "Rumpole             1\n",
       "Benny               1\n",
       "Jarod               1\n",
       "Wiggles             1\n",
       "General             1\n",
       "Sailor              1\n",
       "Iggy                1\n",
       "Snoop               1\n",
       "Noosh               1\n",
       "Odin                1\n",
       "Georgie             1\n",
       "Rontu               1\n",
       "Cannon              1\n",
       "Ralphy              1\n",
       "Stella              1\n",
       "Jiminus             1\n",
       "Lillie              1\n",
       "Coleman             1\n",
       "Enchilada           1\n",
       "all                 1\n",
       "Rueben              1\n",
       "Cilantro            1\n",
       "Karll               1\n",
       "Sprout              1\n",
       "Bloop               1\n",
       "Ashleigh            1\n",
       "Puff                1\n",
       "Luther              1\n",
       "Ivar                1\n",
       "Jangle              1\n",
       "Schnitzel           1\n",
       "Berkeley            1\n",
       "Ralphé              1\n",
       "Charleson           1\n",
       "Clyde               1\n",
       "Flurpson            1\n",
       "Pupcasso            1\n",
       "Kayla               1\n",
       "Kellogg             1\n",
       "Aqua                1\n",
       "Chase               1\n",
       "Rorie               1\n",
       "Simba               1\n",
       "Bayley              1\n",
       "Storkson            1\n",
       "Remy                1\n",
       "Chadrick            1\n",
       "Buckley             1\n",
       "Stefan              1\n",
       "Livvie              1\n",
       "Hermione            1\n",
       "Ralpher             1\n",
       "Aldrick             1\n",
       "this                1\n",
       "unacceptable        1\n",
       "Rooney              1\n",
       "Ziva                1\n",
       "Harnold             1\n",
       "Sid                 1\n",
       "Carper              1\n",
       "Vince               1\n",
       "Sora                1\n",
       "Beemo               1\n",
       "Gunner              1\n",
       "infuriating         1\n",
       "Lacy                1\n",
       "Tater               1\n",
       "Olaf                1\n",
       "Cecil               1\n",
       "Karma               1\n",
       "Bowie               1\n",
       "Billy               1\n",
       "Walker              1\n",
       "Rodney              1\n",
       "Malikai             1\n",
       "Bobble              1\n",
       "River               1\n",
       "Jebberson           1\n",
       "Farfle              1\n",
       "Staniel             1\n",
       "Kane                1\n",
       "Opie                1\n",
       "Lance               1\n",
       "Alexanderson        1\n",
       "Suki                1\n",
       "Barclay             1\n",
       "Skittle             1\n",
       "Ebby                1\n",
       "Link                1\n",
       "Jennifur            1\n",
       "Bluebert            1\n",
       "Stephanus           1\n",
       "old                 1\n",
       "Zeus                1\n",
       "Bertson             1\n",
       "Nico                1\n",
       "Michelangelope      1\n",
       "Siba                1\n",
       "Travis              1\n",
       "Kanu                1\n",
       "Edmund              1\n",
       "Beya                1\n",
       "Tonks               1\n",
       "Rupert              1\n",
       "Grey                1\n",
       "Willem              1\n",
       "Dixie               1\n",
       "Al                  1\n",
       "Carbon              1\n",
       "DonDon              1\n",
       "Chevy               1\n",
       "Tito                1\n",
       "Brudge              1\n",
       "Heinrich            1\n",
       "Shadoe              1\n",
       "Angel               1\n",
       "Brat                1\n",
       "Tove                1\n",
       "my                  1\n",
       "Aubie               1\n",
       "Kota                1\n",
       "Glenn               1\n",
       "Shakespeare         1\n",
       "Sprinkles           1\n",
       "Stark               1\n",
       "Godi                1\n",
       "Dale                1\n",
       "Rizzo               1\n",
       "Pinot               1\n",
       "Dallas              1\n",
       "Hero                1\n",
       "Stormy              1\n",
       "Mairi               1\n",
       "Loomis              1\n",
       "Deacon              1\n",
       "Blue                1\n",
       "Timmy               1\n",
       "Combo               1\n",
       "Jay                 1\n",
       "Mya                 1\n",
       "Strider             1\n",
       "Wesley              1\n",
       "Huck                1\n",
       "O                   1\n",
       "Shelby              1\n",
       "Sephie              1\n",
       "Bonaparte           1\n",
       "Tilly               1\n",
       "Spanky              1\n",
       "Jameson             1\n",
       "Blu                 1\n",
       "Dietrich            1\n",
       "Divine              1\n",
       "Tripp               1\n",
       "his                 1\n",
       "Cora                1\n",
       "Bookstore           1\n",
       "Wishes              1\n",
       "Linus               1\n",
       "Shiloh              1\n",
       "Gustav              1\n",
       "Arlen               1\n",
       "Lenox               1\n",
       "Harvey              1\n",
       "Blanket             1\n",
       "Geno                1\n",
       "Lilah               1\n",
       "Stewie              1\n",
       "Zoe                 1\n",
       "Gilbert             1\n",
       "Rose                1\n",
       "Theo                1\n",
       "Fido                1\n",
       "Emma                1\n",
       "Spencer             1\n",
       "Lilli               1\n",
       "Boston              1\n",
       "Brandonald          1\n",
       "Corey               1\n",
       "Leonard             1\n",
       "Beckham             1\n",
       "Devón               1\n",
       "Gert                1\n",
       "Dex                 1\n",
       "Ace                 1\n",
       "Tayzie              1\n",
       "Grizzie             1\n",
       "Christoper          1\n",
       "Name: name, dtype: int64"
      ]
     },
     "execution_count": 12,
     "metadata": {},
     "output_type": "execute_result"
    }
   ],
   "source": [
    "df_tw_enhanced[\"name\"].value_counts()"
   ]
  },
  {
   "cell_type": "markdown",
   "metadata": {
    "id": "E0S52jfDDwo-"
   },
   "source": [
    "- Filter all abnormal names:"
   ]
  },
  {
   "cell_type": "code",
   "execution_count": null,
   "metadata": {
    "colab": {
     "base_uri": "https://localhost:8080/"
    },
    "executionInfo": {
     "elapsed": 336,
     "status": "ok",
     "timestamp": 1655111224981,
     "user": {
      "displayName": "Xấu Xa Kẻ",
      "userId": "08263153180530503733"
     },
     "user_tz": -420
    },
    "id": "kSGaD0i9GzxV",
    "outputId": "0e8bee9d-091a-4cd2-9d9d-e8dc8a0d500f"
   },
   "outputs": [
    {
     "name": "stdout",
     "output_type": "stream",
     "text": [
      "['such', 'a', 'quite', 'quite', 'quite', 'not', 'one', 'incredibly', 'a', 'mad', 'an', 'very', 'a', 'very', 'just', 'my', 'one', 'not', 'his', 'one', 'a', 'a', 'a', 'an', 'very', 'actually', 'a', 'just', 'getting', 'mad', 'very', 'this', 'unacceptable', 'all', 'a', 'old', 'a', 'infuriating', 'a', 'a', 'a', 'an', 'a', 'a', 'very', 'getting', 'just', 'a', 'the', 'the', 'actually', 'by', 'a', 'officially', 'a', 'the', 'the', 'a', 'a', 'a', 'a', 'life', 'a', 'one', 'a', 'a', 'a', 'light', 'just', 'space', 'a', 'the', 'a', 'a', 'a', 'a', 'a', 'a', 'a', 'a', 'a', 'an', 'a', 'the', 'a', 'a', 'a', 'a', 'a', 'a', 'a', 'a', 'a', 'a', 'a', 'quite', 'a', 'an', 'a', 'an', 'the', 'the', 'a', 'a', 'an', 'a', 'a', 'a', 'a']\n",
      "Number of abnormal values: 109\n"
     ]
    }
   ],
   "source": [
    "abnormal_names = df_tw_enhanced[df_tw_enhanced['name'].str.islower()]['name'].tolist()\n",
    "print(abnormal_names)\n",
    "print(\"Number of abnormal values: \" + str(len(abnormal_names)))"
   ]
  },
  {
   "cell_type": "code",
   "execution_count": null,
   "metadata": {
    "colab": {
     "base_uri": "https://localhost:8080/"
    },
    "executionInfo": {
     "elapsed": 316,
     "status": "ok",
     "timestamp": 1655111227736,
     "user": {
      "displayName": "Xấu Xa Kẻ",
      "userId": "08263153180530503733"
     },
     "user_tz": -420
    },
    "id": "f6jyNlaGNbXj",
    "outputId": "cfcc5db8-403b-466a-a7ba-d039f20c7533"
   },
   "outputs": [
    {
     "name": "stdout",
     "output_type": "stream",
     "text": [
      "Number of missing names: 745\n"
     ]
    }
   ],
   "source": [
    "# Check if there are any missing name (=None)\n",
    "missing_name_count = df_tw_enhanced[df_tw_enhanced['name'].str.contains(\"None\")].shape[0]\n",
    "print(\"Number of missing names: \" + str(missing_name_count))"
   ]
  },
  {
   "cell_type": "markdown",
   "metadata": {
    "id": "XNb9K9yDX9oP"
   },
   "source": [
    "- Check if there are any "
   ]
  },
  {
   "cell_type": "code",
   "execution_count": null,
   "metadata": {
    "colab": {
     "base_uri": "https://localhost:8080/"
    },
    "executionInfo": {
     "elapsed": 332,
     "status": "ok",
     "timestamp": 1655111233759,
     "user": {
      "displayName": "Xấu Xa Kẻ",
      "userId": "08263153180530503733"
     },
     "user_tz": -420
    },
    "id": "JLyV9oygg_GD",
    "outputId": "ddb44f83-6a75-433f-a158-d54e1728b386"
   },
   "outputs": [
    {
     "data": {
      "text/plain": [
       "10     2333\n",
       "11        3\n",
       "50        3\n",
       "20        2\n",
       "80        2\n",
       "70        1\n",
       "7         1\n",
       "15        1\n",
       "150       1\n",
       "170       1\n",
       "0         1\n",
       "90        1\n",
       "40        1\n",
       "130       1\n",
       "110       1\n",
       "16        1\n",
       "120       1\n",
       "2         1\n",
       "Name: rating_denominator, dtype: int64"
      ]
     },
     "execution_count": 16,
     "metadata": {},
     "output_type": "execute_result"
    }
   ],
   "source": [
    "df_tw_enhanced['rating_denominator'].value_counts()"
   ]
  },
  {
   "cell_type": "markdown",
   "metadata": {
    "id": "t7ZFV_Uy4daM"
   },
   "source": [
    "2. Use the Requests library to download the tweet image prediction (image_predictions.tsv)"
   ]
  },
  {
   "cell_type": "code",
   "execution_count": null,
   "metadata": {
    "id": "dlc427F24daN"
   },
   "outputs": [],
   "source": [
    "import requests\n",
    "\n",
    "url = 'https://d17h27t6h515a5.cloudfront.net/topher/2017/August/599fd2ad_image-predictions/image-predictions.tsv'\n",
    "r = requests.get(url, allow_redirects=True)\n",
    "\n",
    "with open('image-predictions.tsv', 'wb') as f:\n",
    "    f.write(r.content)"
   ]
  },
  {
   "cell_type": "code",
   "execution_count": null,
   "metadata": {
    "colab": {
     "base_uri": "https://localhost:8080/",
     "height": 206
    },
    "executionInfo": {
     "elapsed": 409,
     "status": "ok",
     "timestamp": 1655111245873,
     "user": {
      "displayName": "Xấu Xa Kẻ",
      "userId": "08263153180530503733"
     },
     "user_tz": -420
    },
    "id": "SJfeZQ2SfQ7g",
    "outputId": "f03eb2d2-695b-4ef9-e894-1a208b2342e3"
   },
   "outputs": [
    {
     "data": {
      "text/html": [
       "\n",
       "  <div id=\"df-5e931915-0393-40a4-9a79-4168c93c466e\">\n",
       "    <div class=\"colab-df-container\">\n",
       "      <div>\n",
       "<style scoped>\n",
       "    .dataframe tbody tr th:only-of-type {\n",
       "        vertical-align: middle;\n",
       "    }\n",
       "\n",
       "    .dataframe tbody tr th {\n",
       "        vertical-align: top;\n",
       "    }\n",
       "\n",
       "    .dataframe thead th {\n",
       "        text-align: right;\n",
       "    }\n",
       "</style>\n",
       "<table border=\"1\" class=\"dataframe\">\n",
       "  <thead>\n",
       "    <tr style=\"text-align: right;\">\n",
       "      <th></th>\n",
       "      <th>tweet_id</th>\n",
       "      <th>jpg_url</th>\n",
       "      <th>img_num</th>\n",
       "      <th>p1</th>\n",
       "      <th>p1_conf</th>\n",
       "      <th>p1_dog</th>\n",
       "      <th>p2</th>\n",
       "      <th>p2_conf</th>\n",
       "      <th>p2_dog</th>\n",
       "      <th>p3</th>\n",
       "      <th>p3_conf</th>\n",
       "      <th>p3_dog</th>\n",
       "    </tr>\n",
       "  </thead>\n",
       "  <tbody>\n",
       "    <tr>\n",
       "      <th>0</th>\n",
       "      <td>666020888022790149</td>\n",
       "      <td>https://pbs.twimg.com/media/CT4udn0WwAA0aMy.jpg</td>\n",
       "      <td>1</td>\n",
       "      <td>Welsh_springer_spaniel</td>\n",
       "      <td>0.465074</td>\n",
       "      <td>True</td>\n",
       "      <td>collie</td>\n",
       "      <td>0.156665</td>\n",
       "      <td>True</td>\n",
       "      <td>Shetland_sheepdog</td>\n",
       "      <td>0.061428</td>\n",
       "      <td>True</td>\n",
       "    </tr>\n",
       "    <tr>\n",
       "      <th>1</th>\n",
       "      <td>666029285002620928</td>\n",
       "      <td>https://pbs.twimg.com/media/CT42GRgUYAA5iDo.jpg</td>\n",
       "      <td>1</td>\n",
       "      <td>redbone</td>\n",
       "      <td>0.506826</td>\n",
       "      <td>True</td>\n",
       "      <td>miniature_pinscher</td>\n",
       "      <td>0.074192</td>\n",
       "      <td>True</td>\n",
       "      <td>Rhodesian_ridgeback</td>\n",
       "      <td>0.072010</td>\n",
       "      <td>True</td>\n",
       "    </tr>\n",
       "    <tr>\n",
       "      <th>2</th>\n",
       "      <td>666033412701032449</td>\n",
       "      <td>https://pbs.twimg.com/media/CT4521TWwAEvMyu.jpg</td>\n",
       "      <td>1</td>\n",
       "      <td>German_shepherd</td>\n",
       "      <td>0.596461</td>\n",
       "      <td>True</td>\n",
       "      <td>malinois</td>\n",
       "      <td>0.138584</td>\n",
       "      <td>True</td>\n",
       "      <td>bloodhound</td>\n",
       "      <td>0.116197</td>\n",
       "      <td>True</td>\n",
       "    </tr>\n",
       "    <tr>\n",
       "      <th>3</th>\n",
       "      <td>666044226329800704</td>\n",
       "      <td>https://pbs.twimg.com/media/CT5Dr8HUEAA-lEu.jpg</td>\n",
       "      <td>1</td>\n",
       "      <td>Rhodesian_ridgeback</td>\n",
       "      <td>0.408143</td>\n",
       "      <td>True</td>\n",
       "      <td>redbone</td>\n",
       "      <td>0.360687</td>\n",
       "      <td>True</td>\n",
       "      <td>miniature_pinscher</td>\n",
       "      <td>0.222752</td>\n",
       "      <td>True</td>\n",
       "    </tr>\n",
       "    <tr>\n",
       "      <th>4</th>\n",
       "      <td>666049248165822465</td>\n",
       "      <td>https://pbs.twimg.com/media/CT5IQmsXIAAKY4A.jpg</td>\n",
       "      <td>1</td>\n",
       "      <td>miniature_pinscher</td>\n",
       "      <td>0.560311</td>\n",
       "      <td>True</td>\n",
       "      <td>Rottweiler</td>\n",
       "      <td>0.243682</td>\n",
       "      <td>True</td>\n",
       "      <td>Doberman</td>\n",
       "      <td>0.154629</td>\n",
       "      <td>True</td>\n",
       "    </tr>\n",
       "  </tbody>\n",
       "</table>\n",
       "</div>\n",
       "      <button class=\"colab-df-convert\" onclick=\"convertToInteractive('df-5e931915-0393-40a4-9a79-4168c93c466e')\"\n",
       "              title=\"Convert this dataframe to an interactive table.\"\n",
       "              style=\"display:none;\">\n",
       "        \n",
       "  <svg xmlns=\"http://www.w3.org/2000/svg\" height=\"24px\"viewBox=\"0 0 24 24\"\n",
       "       width=\"24px\">\n",
       "    <path d=\"M0 0h24v24H0V0z\" fill=\"none\"/>\n",
       "    <path d=\"M18.56 5.44l.94 2.06.94-2.06 2.06-.94-2.06-.94-.94-2.06-.94 2.06-2.06.94zm-11 1L8.5 8.5l.94-2.06 2.06-.94-2.06-.94L8.5 2.5l-.94 2.06-2.06.94zm10 10l.94 2.06.94-2.06 2.06-.94-2.06-.94-.94-2.06-.94 2.06-2.06.94z\"/><path d=\"M17.41 7.96l-1.37-1.37c-.4-.4-.92-.59-1.43-.59-.52 0-1.04.2-1.43.59L10.3 9.45l-7.72 7.72c-.78.78-.78 2.05 0 2.83L4 21.41c.39.39.9.59 1.41.59.51 0 1.02-.2 1.41-.59l7.78-7.78 2.81-2.81c.8-.78.8-2.07 0-2.86zM5.41 20L4 18.59l7.72-7.72 1.47 1.35L5.41 20z\"/>\n",
       "  </svg>\n",
       "      </button>\n",
       "      \n",
       "  <style>\n",
       "    .colab-df-container {\n",
       "      display:flex;\n",
       "      flex-wrap:wrap;\n",
       "      gap: 12px;\n",
       "    }\n",
       "\n",
       "    .colab-df-convert {\n",
       "      background-color: #E8F0FE;\n",
       "      border: none;\n",
       "      border-radius: 50%;\n",
       "      cursor: pointer;\n",
       "      display: none;\n",
       "      fill: #1967D2;\n",
       "      height: 32px;\n",
       "      padding: 0 0 0 0;\n",
       "      width: 32px;\n",
       "    }\n",
       "\n",
       "    .colab-df-convert:hover {\n",
       "      background-color: #E2EBFA;\n",
       "      box-shadow: 0px 1px 2px rgba(60, 64, 67, 0.3), 0px 1px 3px 1px rgba(60, 64, 67, 0.15);\n",
       "      fill: #174EA6;\n",
       "    }\n",
       "\n",
       "    [theme=dark] .colab-df-convert {\n",
       "      background-color: #3B4455;\n",
       "      fill: #D2E3FC;\n",
       "    }\n",
       "\n",
       "    [theme=dark] .colab-df-convert:hover {\n",
       "      background-color: #434B5C;\n",
       "      box-shadow: 0px 1px 3px 1px rgba(0, 0, 0, 0.15);\n",
       "      filter: drop-shadow(0px 1px 2px rgba(0, 0, 0, 0.3));\n",
       "      fill: #FFFFFF;\n",
       "    }\n",
       "  </style>\n",
       "\n",
       "      <script>\n",
       "        const buttonEl =\n",
       "          document.querySelector('#df-5e931915-0393-40a4-9a79-4168c93c466e button.colab-df-convert');\n",
       "        buttonEl.style.display =\n",
       "          google.colab.kernel.accessAllowed ? 'block' : 'none';\n",
       "\n",
       "        async function convertToInteractive(key) {\n",
       "          const element = document.querySelector('#df-5e931915-0393-40a4-9a79-4168c93c466e');\n",
       "          const dataTable =\n",
       "            await google.colab.kernel.invokeFunction('convertToInteractive',\n",
       "                                                     [key], {});\n",
       "          if (!dataTable) return;\n",
       "\n",
       "          const docLinkHtml = 'Like what you see? Visit the ' +\n",
       "            '<a target=\"_blank\" href=https://colab.research.google.com/notebooks/data_table.ipynb>data table notebook</a>'\n",
       "            + ' to learn more about interactive tables.';\n",
       "          element.innerHTML = '';\n",
       "          dataTable['output_type'] = 'display_data';\n",
       "          await google.colab.output.renderOutput(dataTable, element);\n",
       "          const docLink = document.createElement('div');\n",
       "          docLink.innerHTML = docLinkHtml;\n",
       "          element.appendChild(docLink);\n",
       "        }\n",
       "      </script>\n",
       "    </div>\n",
       "  </div>\n",
       "  "
      ],
      "text/plain": [
       "             tweet_id                                          jpg_url  \\\n",
       "0  666020888022790149  https://pbs.twimg.com/media/CT4udn0WwAA0aMy.jpg   \n",
       "1  666029285002620928  https://pbs.twimg.com/media/CT42GRgUYAA5iDo.jpg   \n",
       "2  666033412701032449  https://pbs.twimg.com/media/CT4521TWwAEvMyu.jpg   \n",
       "3  666044226329800704  https://pbs.twimg.com/media/CT5Dr8HUEAA-lEu.jpg   \n",
       "4  666049248165822465  https://pbs.twimg.com/media/CT5IQmsXIAAKY4A.jpg   \n",
       "\n",
       "   img_num                      p1   p1_conf  p1_dog                  p2  \\\n",
       "0        1  Welsh_springer_spaniel  0.465074    True              collie   \n",
       "1        1                 redbone  0.506826    True  miniature_pinscher   \n",
       "2        1         German_shepherd  0.596461    True            malinois   \n",
       "3        1     Rhodesian_ridgeback  0.408143    True             redbone   \n",
       "4        1      miniature_pinscher  0.560311    True          Rottweiler   \n",
       "\n",
       "    p2_conf  p2_dog                   p3   p3_conf  p3_dog  \n",
       "0  0.156665    True    Shetland_sheepdog  0.061428    True  \n",
       "1  0.074192    True  Rhodesian_ridgeback  0.072010    True  \n",
       "2  0.138584    True           bloodhound  0.116197    True  \n",
       "3  0.360687    True   miniature_pinscher  0.222752    True  \n",
       "4  0.243682    True             Doberman  0.154629    True  "
      ]
     },
     "execution_count": 18,
     "metadata": {},
     "output_type": "execute_result"
    }
   ],
   "source": [
    "df_img_pred = pd.read_csv(data_path + 'image-predictions.tsv', delimiter=\"\\t\")\n",
    "df_img_pred.head()"
   ]
  },
  {
   "cell_type": "code",
   "execution_count": null,
   "metadata": {
    "colab": {
     "base_uri": "https://localhost:8080/"
    },
    "executionInfo": {
     "elapsed": 330,
     "status": "ok",
     "timestamp": 1655111252629,
     "user": {
      "displayName": "Xấu Xa Kẻ",
      "userId": "08263153180530503733"
     },
     "user_tz": -420
    },
    "id": "wpn8chsGfhdo",
    "outputId": "e6d7611f-ef1a-4a52-d671-f143f4a5a7b4"
   },
   "outputs": [
    {
     "name": "stdout",
     "output_type": "stream",
     "text": [
      "<class 'pandas.core.frame.DataFrame'>\n",
      "RangeIndex: 2075 entries, 0 to 2074\n",
      "Data columns (total 12 columns):\n",
      " #   Column    Non-Null Count  Dtype  \n",
      "---  ------    --------------  -----  \n",
      " 0   tweet_id  2075 non-null   int64  \n",
      " 1   jpg_url   2075 non-null   object \n",
      " 2   img_num   2075 non-null   int64  \n",
      " 3   p1        2075 non-null   object \n",
      " 4   p1_conf   2075 non-null   float64\n",
      " 5   p1_dog    2075 non-null   bool   \n",
      " 6   p2        2075 non-null   object \n",
      " 7   p2_conf   2075 non-null   float64\n",
      " 8   p2_dog    2075 non-null   bool   \n",
      " 9   p3        2075 non-null   object \n",
      " 10  p3_conf   2075 non-null   float64\n",
      " 11  p3_dog    2075 non-null   bool   \n",
      "dtypes: bool(3), float64(3), int64(2), object(4)\n",
      "memory usage: 152.1+ KB\n"
     ]
    }
   ],
   "source": [
    "df_img_pred.info()"
   ]
  },
  {
   "cell_type": "code",
   "execution_count": null,
   "metadata": {
    "colab": {
     "base_uri": "https://localhost:8080/",
     "height": 300
    },
    "executionInfo": {
     "elapsed": 329,
     "status": "ok",
     "timestamp": 1655111255894,
     "user": {
      "displayName": "Xấu Xa Kẻ",
      "userId": "08263153180530503733"
     },
     "user_tz": -420
    },
    "id": "lsKMdydNoGB3",
    "outputId": "55201c70-118a-45e6-c03a-5272305c2dde"
   },
   "outputs": [
    {
     "data": {
      "text/html": [
       "\n",
       "  <div id=\"df-93d0956c-1ebf-47e7-a9e5-5abae211bc23\">\n",
       "    <div class=\"colab-df-container\">\n",
       "      <div>\n",
       "<style scoped>\n",
       "    .dataframe tbody tr th:only-of-type {\n",
       "        vertical-align: middle;\n",
       "    }\n",
       "\n",
       "    .dataframe tbody tr th {\n",
       "        vertical-align: top;\n",
       "    }\n",
       "\n",
       "    .dataframe thead th {\n",
       "        text-align: right;\n",
       "    }\n",
       "</style>\n",
       "<table border=\"1\" class=\"dataframe\">\n",
       "  <thead>\n",
       "    <tr style=\"text-align: right;\">\n",
       "      <th></th>\n",
       "      <th>tweet_id</th>\n",
       "      <th>img_num</th>\n",
       "      <th>p1_conf</th>\n",
       "      <th>p2_conf</th>\n",
       "      <th>p3_conf</th>\n",
       "    </tr>\n",
       "  </thead>\n",
       "  <tbody>\n",
       "    <tr>\n",
       "      <th>count</th>\n",
       "      <td>2.075000e+03</td>\n",
       "      <td>2075.000000</td>\n",
       "      <td>2075.000000</td>\n",
       "      <td>2.075000e+03</td>\n",
       "      <td>2.075000e+03</td>\n",
       "    </tr>\n",
       "    <tr>\n",
       "      <th>mean</th>\n",
       "      <td>7.384514e+17</td>\n",
       "      <td>1.203855</td>\n",
       "      <td>0.594548</td>\n",
       "      <td>1.345886e-01</td>\n",
       "      <td>6.032417e-02</td>\n",
       "    </tr>\n",
       "    <tr>\n",
       "      <th>std</th>\n",
       "      <td>6.785203e+16</td>\n",
       "      <td>0.561875</td>\n",
       "      <td>0.271174</td>\n",
       "      <td>1.006657e-01</td>\n",
       "      <td>5.090593e-02</td>\n",
       "    </tr>\n",
       "    <tr>\n",
       "      <th>min</th>\n",
       "      <td>6.660209e+17</td>\n",
       "      <td>1.000000</td>\n",
       "      <td>0.044333</td>\n",
       "      <td>1.011300e-08</td>\n",
       "      <td>1.740170e-10</td>\n",
       "    </tr>\n",
       "    <tr>\n",
       "      <th>25%</th>\n",
       "      <td>6.764835e+17</td>\n",
       "      <td>1.000000</td>\n",
       "      <td>0.364412</td>\n",
       "      <td>5.388625e-02</td>\n",
       "      <td>1.622240e-02</td>\n",
       "    </tr>\n",
       "    <tr>\n",
       "      <th>50%</th>\n",
       "      <td>7.119988e+17</td>\n",
       "      <td>1.000000</td>\n",
       "      <td>0.588230</td>\n",
       "      <td>1.181810e-01</td>\n",
       "      <td>4.944380e-02</td>\n",
       "    </tr>\n",
       "    <tr>\n",
       "      <th>75%</th>\n",
       "      <td>7.932034e+17</td>\n",
       "      <td>1.000000</td>\n",
       "      <td>0.843855</td>\n",
       "      <td>1.955655e-01</td>\n",
       "      <td>9.180755e-02</td>\n",
       "    </tr>\n",
       "    <tr>\n",
       "      <th>max</th>\n",
       "      <td>8.924206e+17</td>\n",
       "      <td>4.000000</td>\n",
       "      <td>1.000000</td>\n",
       "      <td>4.880140e-01</td>\n",
       "      <td>2.734190e-01</td>\n",
       "    </tr>\n",
       "  </tbody>\n",
       "</table>\n",
       "</div>\n",
       "      <button class=\"colab-df-convert\" onclick=\"convertToInteractive('df-93d0956c-1ebf-47e7-a9e5-5abae211bc23')\"\n",
       "              title=\"Convert this dataframe to an interactive table.\"\n",
       "              style=\"display:none;\">\n",
       "        \n",
       "  <svg xmlns=\"http://www.w3.org/2000/svg\" height=\"24px\"viewBox=\"0 0 24 24\"\n",
       "       width=\"24px\">\n",
       "    <path d=\"M0 0h24v24H0V0z\" fill=\"none\"/>\n",
       "    <path d=\"M18.56 5.44l.94 2.06.94-2.06 2.06-.94-2.06-.94-.94-2.06-.94 2.06-2.06.94zm-11 1L8.5 8.5l.94-2.06 2.06-.94-2.06-.94L8.5 2.5l-.94 2.06-2.06.94zm10 10l.94 2.06.94-2.06 2.06-.94-2.06-.94-.94-2.06-.94 2.06-2.06.94z\"/><path d=\"M17.41 7.96l-1.37-1.37c-.4-.4-.92-.59-1.43-.59-.52 0-1.04.2-1.43.59L10.3 9.45l-7.72 7.72c-.78.78-.78 2.05 0 2.83L4 21.41c.39.39.9.59 1.41.59.51 0 1.02-.2 1.41-.59l7.78-7.78 2.81-2.81c.8-.78.8-2.07 0-2.86zM5.41 20L4 18.59l7.72-7.72 1.47 1.35L5.41 20z\"/>\n",
       "  </svg>\n",
       "      </button>\n",
       "      \n",
       "  <style>\n",
       "    .colab-df-container {\n",
       "      display:flex;\n",
       "      flex-wrap:wrap;\n",
       "      gap: 12px;\n",
       "    }\n",
       "\n",
       "    .colab-df-convert {\n",
       "      background-color: #E8F0FE;\n",
       "      border: none;\n",
       "      border-radius: 50%;\n",
       "      cursor: pointer;\n",
       "      display: none;\n",
       "      fill: #1967D2;\n",
       "      height: 32px;\n",
       "      padding: 0 0 0 0;\n",
       "      width: 32px;\n",
       "    }\n",
       "\n",
       "    .colab-df-convert:hover {\n",
       "      background-color: #E2EBFA;\n",
       "      box-shadow: 0px 1px 2px rgba(60, 64, 67, 0.3), 0px 1px 3px 1px rgba(60, 64, 67, 0.15);\n",
       "      fill: #174EA6;\n",
       "    }\n",
       "\n",
       "    [theme=dark] .colab-df-convert {\n",
       "      background-color: #3B4455;\n",
       "      fill: #D2E3FC;\n",
       "    }\n",
       "\n",
       "    [theme=dark] .colab-df-convert:hover {\n",
       "      background-color: #434B5C;\n",
       "      box-shadow: 0px 1px 3px 1px rgba(0, 0, 0, 0.15);\n",
       "      filter: drop-shadow(0px 1px 2px rgba(0, 0, 0, 0.3));\n",
       "      fill: #FFFFFF;\n",
       "    }\n",
       "  </style>\n",
       "\n",
       "      <script>\n",
       "        const buttonEl =\n",
       "          document.querySelector('#df-93d0956c-1ebf-47e7-a9e5-5abae211bc23 button.colab-df-convert');\n",
       "        buttonEl.style.display =\n",
       "          google.colab.kernel.accessAllowed ? 'block' : 'none';\n",
       "\n",
       "        async function convertToInteractive(key) {\n",
       "          const element = document.querySelector('#df-93d0956c-1ebf-47e7-a9e5-5abae211bc23');\n",
       "          const dataTable =\n",
       "            await google.colab.kernel.invokeFunction('convertToInteractive',\n",
       "                                                     [key], {});\n",
       "          if (!dataTable) return;\n",
       "\n",
       "          const docLinkHtml = 'Like what you see? Visit the ' +\n",
       "            '<a target=\"_blank\" href=https://colab.research.google.com/notebooks/data_table.ipynb>data table notebook</a>'\n",
       "            + ' to learn more about interactive tables.';\n",
       "          element.innerHTML = '';\n",
       "          dataTable['output_type'] = 'display_data';\n",
       "          await google.colab.output.renderOutput(dataTable, element);\n",
       "          const docLink = document.createElement('div');\n",
       "          docLink.innerHTML = docLinkHtml;\n",
       "          element.appendChild(docLink);\n",
       "        }\n",
       "      </script>\n",
       "    </div>\n",
       "  </div>\n",
       "  "
      ],
      "text/plain": [
       "           tweet_id      img_num      p1_conf       p2_conf       p3_conf\n",
       "count  2.075000e+03  2075.000000  2075.000000  2.075000e+03  2.075000e+03\n",
       "mean   7.384514e+17     1.203855     0.594548  1.345886e-01  6.032417e-02\n",
       "std    6.785203e+16     0.561875     0.271174  1.006657e-01  5.090593e-02\n",
       "min    6.660209e+17     1.000000     0.044333  1.011300e-08  1.740170e-10\n",
       "25%    6.764835e+17     1.000000     0.364412  5.388625e-02  1.622240e-02\n",
       "50%    7.119988e+17     1.000000     0.588230  1.181810e-01  4.944380e-02\n",
       "75%    7.932034e+17     1.000000     0.843855  1.955655e-01  9.180755e-02\n",
       "max    8.924206e+17     4.000000     1.000000  4.880140e-01  2.734190e-01"
      ]
     },
     "execution_count": 20,
     "metadata": {},
     "output_type": "execute_result"
    }
   ],
   "source": [
    "df_img_pred.describe()"
   ]
  },
  {
   "cell_type": "markdown",
   "metadata": {
    "id": "bu3uSfFN4daO"
   },
   "source": [
    "3. Use the Tweepy library to query additional data via the Twitter API (tweet_json.txt)"
   ]
  },
  {
   "cell_type": "code",
   "execution_count": null,
   "metadata": {
    "colab": {
     "base_uri": "https://localhost:8080/",
     "height": 635
    },
    "executionInfo": {
     "elapsed": 1507,
     "status": "ok",
     "timestamp": 1655111260551,
     "user": {
      "displayName": "Xấu Xa Kẻ",
      "userId": "08263153180530503733"
     },
     "user_tz": -420
    },
    "id": "H7AYgMFF4daQ",
    "outputId": "fd78f649-01bf-47e8-c6be-eed60d7938fb"
   },
   "outputs": [
    {
     "data": {
      "text/html": [
       "\n",
       "  <div id=\"df-e224cb77-0346-427b-8213-bbf4d02a9d54\">\n",
       "    <div class=\"colab-df-container\">\n",
       "      <div>\n",
       "<style scoped>\n",
       "    .dataframe tbody tr th:only-of-type {\n",
       "        vertical-align: middle;\n",
       "    }\n",
       "\n",
       "    .dataframe tbody tr th {\n",
       "        vertical-align: top;\n",
       "    }\n",
       "\n",
       "    .dataframe thead th {\n",
       "        text-align: right;\n",
       "    }\n",
       "</style>\n",
       "<table border=\"1\" class=\"dataframe\">\n",
       "  <thead>\n",
       "    <tr style=\"text-align: right;\">\n",
       "      <th></th>\n",
       "      <th>created_at</th>\n",
       "      <th>id</th>\n",
       "      <th>id_str</th>\n",
       "      <th>full_text</th>\n",
       "      <th>truncated</th>\n",
       "      <th>display_text_range</th>\n",
       "      <th>entities</th>\n",
       "      <th>extended_entities</th>\n",
       "      <th>source</th>\n",
       "      <th>in_reply_to_status_id</th>\n",
       "      <th>in_reply_to_status_id_str</th>\n",
       "      <th>in_reply_to_user_id</th>\n",
       "      <th>in_reply_to_user_id_str</th>\n",
       "      <th>in_reply_to_screen_name</th>\n",
       "      <th>user</th>\n",
       "      <th>geo</th>\n",
       "      <th>coordinates</th>\n",
       "      <th>place</th>\n",
       "      <th>contributors</th>\n",
       "      <th>is_quote_status</th>\n",
       "      <th>retweet_count</th>\n",
       "      <th>favorite_count</th>\n",
       "      <th>favorited</th>\n",
       "      <th>retweeted</th>\n",
       "      <th>possibly_sensitive</th>\n",
       "      <th>possibly_sensitive_appealable</th>\n",
       "      <th>lang</th>\n",
       "      <th>retweeted_status</th>\n",
       "      <th>quoted_status_id</th>\n",
       "      <th>quoted_status_id_str</th>\n",
       "      <th>quoted_status</th>\n",
       "    </tr>\n",
       "  </thead>\n",
       "  <tbody>\n",
       "    <tr>\n",
       "      <th>0</th>\n",
       "      <td>2017-08-01 16:23:56+00:00</td>\n",
       "      <td>892420643555336193</td>\n",
       "      <td>892420643555336192</td>\n",
       "      <td>This is Phineas. He's a mystical boy. Only eve...</td>\n",
       "      <td>False</td>\n",
       "      <td>[0, 85]</td>\n",
       "      <td>{'hashtags': [], 'symbols': [], 'user_mentions...</td>\n",
       "      <td>{'media': [{'id': 892420639486877696, 'id_str'...</td>\n",
       "      <td>&lt;a href=\"http://twitter.com/download/iphone\" r...</td>\n",
       "      <td>NaN</td>\n",
       "      <td>NaN</td>\n",
       "      <td>NaN</td>\n",
       "      <td>NaN</td>\n",
       "      <td>None</td>\n",
       "      <td>{'id': 4196983835, 'id_str': '4196983835', 'na...</td>\n",
       "      <td>NaN</td>\n",
       "      <td>NaN</td>\n",
       "      <td>None</td>\n",
       "      <td>NaN</td>\n",
       "      <td>False</td>\n",
       "      <td>8853</td>\n",
       "      <td>39467</td>\n",
       "      <td>False</td>\n",
       "      <td>False</td>\n",
       "      <td>0.0</td>\n",
       "      <td>0.0</td>\n",
       "      <td>en</td>\n",
       "      <td>NaN</td>\n",
       "      <td>NaN</td>\n",
       "      <td>NaN</td>\n",
       "      <td>NaN</td>\n",
       "    </tr>\n",
       "    <tr>\n",
       "      <th>1</th>\n",
       "      <td>2017-08-01 00:17:27+00:00</td>\n",
       "      <td>892177421306343426</td>\n",
       "      <td>892177421306343424</td>\n",
       "      <td>This is Tilly. She's just checking pup on you....</td>\n",
       "      <td>False</td>\n",
       "      <td>[0, 138]</td>\n",
       "      <td>{'hashtags': [], 'symbols': [], 'user_mentions...</td>\n",
       "      <td>{'media': [{'id': 892177413194625024, 'id_str'...</td>\n",
       "      <td>&lt;a href=\"http://twitter.com/download/iphone\" r...</td>\n",
       "      <td>NaN</td>\n",
       "      <td>NaN</td>\n",
       "      <td>NaN</td>\n",
       "      <td>NaN</td>\n",
       "      <td>None</td>\n",
       "      <td>{'id': 4196983835, 'id_str': '4196983835', 'na...</td>\n",
       "      <td>NaN</td>\n",
       "      <td>NaN</td>\n",
       "      <td>None</td>\n",
       "      <td>NaN</td>\n",
       "      <td>False</td>\n",
       "      <td>6514</td>\n",
       "      <td>33819</td>\n",
       "      <td>False</td>\n",
       "      <td>False</td>\n",
       "      <td>0.0</td>\n",
       "      <td>0.0</td>\n",
       "      <td>en</td>\n",
       "      <td>NaN</td>\n",
       "      <td>NaN</td>\n",
       "      <td>NaN</td>\n",
       "      <td>NaN</td>\n",
       "    </tr>\n",
       "    <tr>\n",
       "      <th>2</th>\n",
       "      <td>2017-07-31 00:18:03+00:00</td>\n",
       "      <td>891815181378084864</td>\n",
       "      <td>891815181378084864</td>\n",
       "      <td>This is Archie. He is a rare Norwegian Pouncin...</td>\n",
       "      <td>False</td>\n",
       "      <td>[0, 121]</td>\n",
       "      <td>{'hashtags': [], 'symbols': [], 'user_mentions...</td>\n",
       "      <td>{'media': [{'id': 891815175371796480, 'id_str'...</td>\n",
       "      <td>&lt;a href=\"http://twitter.com/download/iphone\" r...</td>\n",
       "      <td>NaN</td>\n",
       "      <td>NaN</td>\n",
       "      <td>NaN</td>\n",
       "      <td>NaN</td>\n",
       "      <td>None</td>\n",
       "      <td>{'id': 4196983835, 'id_str': '4196983835', 'na...</td>\n",
       "      <td>NaN</td>\n",
       "      <td>NaN</td>\n",
       "      <td>None</td>\n",
       "      <td>NaN</td>\n",
       "      <td>False</td>\n",
       "      <td>4328</td>\n",
       "      <td>25461</td>\n",
       "      <td>False</td>\n",
       "      <td>False</td>\n",
       "      <td>0.0</td>\n",
       "      <td>0.0</td>\n",
       "      <td>en</td>\n",
       "      <td>NaN</td>\n",
       "      <td>NaN</td>\n",
       "      <td>NaN</td>\n",
       "      <td>NaN</td>\n",
       "    </tr>\n",
       "    <tr>\n",
       "      <th>3</th>\n",
       "      <td>2017-07-30 15:58:51+00:00</td>\n",
       "      <td>891689557279858688</td>\n",
       "      <td>891689557279858688</td>\n",
       "      <td>This is Darla. She commenced a snooze mid meal...</td>\n",
       "      <td>False</td>\n",
       "      <td>[0, 79]</td>\n",
       "      <td>{'hashtags': [], 'symbols': [], 'user_mentions...</td>\n",
       "      <td>{'media': [{'id': 891689552724799489, 'id_str'...</td>\n",
       "      <td>&lt;a href=\"http://twitter.com/download/iphone\" r...</td>\n",
       "      <td>NaN</td>\n",
       "      <td>NaN</td>\n",
       "      <td>NaN</td>\n",
       "      <td>NaN</td>\n",
       "      <td>None</td>\n",
       "      <td>{'id': 4196983835, 'id_str': '4196983835', 'na...</td>\n",
       "      <td>NaN</td>\n",
       "      <td>NaN</td>\n",
       "      <td>None</td>\n",
       "      <td>NaN</td>\n",
       "      <td>False</td>\n",
       "      <td>8964</td>\n",
       "      <td>42908</td>\n",
       "      <td>False</td>\n",
       "      <td>False</td>\n",
       "      <td>0.0</td>\n",
       "      <td>0.0</td>\n",
       "      <td>en</td>\n",
       "      <td>NaN</td>\n",
       "      <td>NaN</td>\n",
       "      <td>NaN</td>\n",
       "      <td>NaN</td>\n",
       "    </tr>\n",
       "    <tr>\n",
       "      <th>4</th>\n",
       "      <td>2017-07-29 16:00:24+00:00</td>\n",
       "      <td>891327558926688256</td>\n",
       "      <td>891327558926688256</td>\n",
       "      <td>This is Franklin. He would like you to stop ca...</td>\n",
       "      <td>False</td>\n",
       "      <td>[0, 138]</td>\n",
       "      <td>{'hashtags': [{'text': 'BarkWeek', 'indices': ...</td>\n",
       "      <td>{'media': [{'id': 891327551943041024, 'id_str'...</td>\n",
       "      <td>&lt;a href=\"http://twitter.com/download/iphone\" r...</td>\n",
       "      <td>NaN</td>\n",
       "      <td>NaN</td>\n",
       "      <td>NaN</td>\n",
       "      <td>NaN</td>\n",
       "      <td>None</td>\n",
       "      <td>{'id': 4196983835, 'id_str': '4196983835', 'na...</td>\n",
       "      <td>NaN</td>\n",
       "      <td>NaN</td>\n",
       "      <td>None</td>\n",
       "      <td>NaN</td>\n",
       "      <td>False</td>\n",
       "      <td>9774</td>\n",
       "      <td>41048</td>\n",
       "      <td>False</td>\n",
       "      <td>False</td>\n",
       "      <td>0.0</td>\n",
       "      <td>0.0</td>\n",
       "      <td>en</td>\n",
       "      <td>NaN</td>\n",
       "      <td>NaN</td>\n",
       "      <td>NaN</td>\n",
       "      <td>NaN</td>\n",
       "    </tr>\n",
       "  </tbody>\n",
       "</table>\n",
       "</div>\n",
       "      <button class=\"colab-df-convert\" onclick=\"convertToInteractive('df-e224cb77-0346-427b-8213-bbf4d02a9d54')\"\n",
       "              title=\"Convert this dataframe to an interactive table.\"\n",
       "              style=\"display:none;\">\n",
       "        \n",
       "  <svg xmlns=\"http://www.w3.org/2000/svg\" height=\"24px\"viewBox=\"0 0 24 24\"\n",
       "       width=\"24px\">\n",
       "    <path d=\"M0 0h24v24H0V0z\" fill=\"none\"/>\n",
       "    <path d=\"M18.56 5.44l.94 2.06.94-2.06 2.06-.94-2.06-.94-.94-2.06-.94 2.06-2.06.94zm-11 1L8.5 8.5l.94-2.06 2.06-.94-2.06-.94L8.5 2.5l-.94 2.06-2.06.94zm10 10l.94 2.06.94-2.06 2.06-.94-2.06-.94-.94-2.06-.94 2.06-2.06.94z\"/><path d=\"M17.41 7.96l-1.37-1.37c-.4-.4-.92-.59-1.43-.59-.52 0-1.04.2-1.43.59L10.3 9.45l-7.72 7.72c-.78.78-.78 2.05 0 2.83L4 21.41c.39.39.9.59 1.41.59.51 0 1.02-.2 1.41-.59l7.78-7.78 2.81-2.81c.8-.78.8-2.07 0-2.86zM5.41 20L4 18.59l7.72-7.72 1.47 1.35L5.41 20z\"/>\n",
       "  </svg>\n",
       "      </button>\n",
       "      \n",
       "  <style>\n",
       "    .colab-df-container {\n",
       "      display:flex;\n",
       "      flex-wrap:wrap;\n",
       "      gap: 12px;\n",
       "    }\n",
       "\n",
       "    .colab-df-convert {\n",
       "      background-color: #E8F0FE;\n",
       "      border: none;\n",
       "      border-radius: 50%;\n",
       "      cursor: pointer;\n",
       "      display: none;\n",
       "      fill: #1967D2;\n",
       "      height: 32px;\n",
       "      padding: 0 0 0 0;\n",
       "      width: 32px;\n",
       "    }\n",
       "\n",
       "    .colab-df-convert:hover {\n",
       "      background-color: #E2EBFA;\n",
       "      box-shadow: 0px 1px 2px rgba(60, 64, 67, 0.3), 0px 1px 3px 1px rgba(60, 64, 67, 0.15);\n",
       "      fill: #174EA6;\n",
       "    }\n",
       "\n",
       "    [theme=dark] .colab-df-convert {\n",
       "      background-color: #3B4455;\n",
       "      fill: #D2E3FC;\n",
       "    }\n",
       "\n",
       "    [theme=dark] .colab-df-convert:hover {\n",
       "      background-color: #434B5C;\n",
       "      box-shadow: 0px 1px 3px 1px rgba(0, 0, 0, 0.15);\n",
       "      filter: drop-shadow(0px 1px 2px rgba(0, 0, 0, 0.3));\n",
       "      fill: #FFFFFF;\n",
       "    }\n",
       "  </style>\n",
       "\n",
       "      <script>\n",
       "        const buttonEl =\n",
       "          document.querySelector('#df-e224cb77-0346-427b-8213-bbf4d02a9d54 button.colab-df-convert');\n",
       "        buttonEl.style.display =\n",
       "          google.colab.kernel.accessAllowed ? 'block' : 'none';\n",
       "\n",
       "        async function convertToInteractive(key) {\n",
       "          const element = document.querySelector('#df-e224cb77-0346-427b-8213-bbf4d02a9d54');\n",
       "          const dataTable =\n",
       "            await google.colab.kernel.invokeFunction('convertToInteractive',\n",
       "                                                     [key], {});\n",
       "          if (!dataTable) return;\n",
       "\n",
       "          const docLinkHtml = 'Like what you see? Visit the ' +\n",
       "            '<a target=\"_blank\" href=https://colab.research.google.com/notebooks/data_table.ipynb>data table notebook</a>'\n",
       "            + ' to learn more about interactive tables.';\n",
       "          element.innerHTML = '';\n",
       "          dataTable['output_type'] = 'display_data';\n",
       "          await google.colab.output.renderOutput(dataTable, element);\n",
       "          const docLink = document.createElement('div');\n",
       "          docLink.innerHTML = docLinkHtml;\n",
       "          element.appendChild(docLink);\n",
       "        }\n",
       "      </script>\n",
       "    </div>\n",
       "  </div>\n",
       "  "
      ],
      "text/plain": [
       "                 created_at                  id              id_str  \\\n",
       "0 2017-08-01 16:23:56+00:00  892420643555336193  892420643555336192   \n",
       "1 2017-08-01 00:17:27+00:00  892177421306343426  892177421306343424   \n",
       "2 2017-07-31 00:18:03+00:00  891815181378084864  891815181378084864   \n",
       "3 2017-07-30 15:58:51+00:00  891689557279858688  891689557279858688   \n",
       "4 2017-07-29 16:00:24+00:00  891327558926688256  891327558926688256   \n",
       "\n",
       "                                           full_text  truncated  \\\n",
       "0  This is Phineas. He's a mystical boy. Only eve...      False   \n",
       "1  This is Tilly. She's just checking pup on you....      False   \n",
       "2  This is Archie. He is a rare Norwegian Pouncin...      False   \n",
       "3  This is Darla. She commenced a snooze mid meal...      False   \n",
       "4  This is Franklin. He would like you to stop ca...      False   \n",
       "\n",
       "  display_text_range                                           entities  \\\n",
       "0            [0, 85]  {'hashtags': [], 'symbols': [], 'user_mentions...   \n",
       "1           [0, 138]  {'hashtags': [], 'symbols': [], 'user_mentions...   \n",
       "2           [0, 121]  {'hashtags': [], 'symbols': [], 'user_mentions...   \n",
       "3            [0, 79]  {'hashtags': [], 'symbols': [], 'user_mentions...   \n",
       "4           [0, 138]  {'hashtags': [{'text': 'BarkWeek', 'indices': ...   \n",
       "\n",
       "                                   extended_entities  \\\n",
       "0  {'media': [{'id': 892420639486877696, 'id_str'...   \n",
       "1  {'media': [{'id': 892177413194625024, 'id_str'...   \n",
       "2  {'media': [{'id': 891815175371796480, 'id_str'...   \n",
       "3  {'media': [{'id': 891689552724799489, 'id_str'...   \n",
       "4  {'media': [{'id': 891327551943041024, 'id_str'...   \n",
       "\n",
       "                                              source  in_reply_to_status_id  \\\n",
       "0  <a href=\"http://twitter.com/download/iphone\" r...                    NaN   \n",
       "1  <a href=\"http://twitter.com/download/iphone\" r...                    NaN   \n",
       "2  <a href=\"http://twitter.com/download/iphone\" r...                    NaN   \n",
       "3  <a href=\"http://twitter.com/download/iphone\" r...                    NaN   \n",
       "4  <a href=\"http://twitter.com/download/iphone\" r...                    NaN   \n",
       "\n",
       "   in_reply_to_status_id_str  in_reply_to_user_id  in_reply_to_user_id_str  \\\n",
       "0                        NaN                  NaN                      NaN   \n",
       "1                        NaN                  NaN                      NaN   \n",
       "2                        NaN                  NaN                      NaN   \n",
       "3                        NaN                  NaN                      NaN   \n",
       "4                        NaN                  NaN                      NaN   \n",
       "\n",
       "  in_reply_to_screen_name                                               user  \\\n",
       "0                    None  {'id': 4196983835, 'id_str': '4196983835', 'na...   \n",
       "1                    None  {'id': 4196983835, 'id_str': '4196983835', 'na...   \n",
       "2                    None  {'id': 4196983835, 'id_str': '4196983835', 'na...   \n",
       "3                    None  {'id': 4196983835, 'id_str': '4196983835', 'na...   \n",
       "4                    None  {'id': 4196983835, 'id_str': '4196983835', 'na...   \n",
       "\n",
       "   geo  coordinates place  contributors  is_quote_status  retweet_count  \\\n",
       "0  NaN          NaN  None           NaN            False           8853   \n",
       "1  NaN          NaN  None           NaN            False           6514   \n",
       "2  NaN          NaN  None           NaN            False           4328   \n",
       "3  NaN          NaN  None           NaN            False           8964   \n",
       "4  NaN          NaN  None           NaN            False           9774   \n",
       "\n",
       "   favorite_count  favorited  retweeted  possibly_sensitive  \\\n",
       "0           39467      False      False                 0.0   \n",
       "1           33819      False      False                 0.0   \n",
       "2           25461      False      False                 0.0   \n",
       "3           42908      False      False                 0.0   \n",
       "4           41048      False      False                 0.0   \n",
       "\n",
       "   possibly_sensitive_appealable lang retweeted_status  quoted_status_id  \\\n",
       "0                            0.0   en              NaN               NaN   \n",
       "1                            0.0   en              NaN               NaN   \n",
       "2                            0.0   en              NaN               NaN   \n",
       "3                            0.0   en              NaN               NaN   \n",
       "4                            0.0   en              NaN               NaN   \n",
       "\n",
       "   quoted_status_id_str quoted_status  \n",
       "0                   NaN           NaN  \n",
       "1                   NaN           NaN  \n",
       "2                   NaN           NaN  \n",
       "3                   NaN           NaN  \n",
       "4                   NaN           NaN  "
      ]
     },
     "execution_count": 21,
     "metadata": {},
     "output_type": "execute_result"
    }
   ],
   "source": [
    "# I choose the approach to download the twitter_archive_enhanced.csv file from Udacity server instead of calling Twitter API\n",
    "df_tw_add = pd.read_json(\"tweet.json\", lines=True)\n",
    "df_tw_add.head()"
   ]
  },
  {
   "cell_type": "code",
   "execution_count": null,
   "metadata": {
    "colab": {
     "base_uri": "https://localhost:8080/"
    },
    "executionInfo": {
     "elapsed": 343,
     "status": "ok",
     "timestamp": 1655111265715,
     "user": {
      "displayName": "Xấu Xa Kẻ",
      "userId": "08263153180530503733"
     },
     "user_tz": -420
    },
    "id": "_e-J-77Kc4DM",
    "outputId": "44a7727c-e14d-4ccb-aeed-c2695c55cdd4"
   },
   "outputs": [
    {
     "name": "stdout",
     "output_type": "stream",
     "text": [
      "<class 'pandas.core.frame.DataFrame'>\n",
      "RangeIndex: 2354 entries, 0 to 2353\n",
      "Data columns (total 31 columns):\n",
      " #   Column                         Non-Null Count  Dtype              \n",
      "---  ------                         --------------  -----              \n",
      " 0   created_at                     2354 non-null   datetime64[ns, UTC]\n",
      " 1   id                             2354 non-null   int64              \n",
      " 2   id_str                         2354 non-null   int64              \n",
      " 3   full_text                      2354 non-null   object             \n",
      " 4   truncated                      2354 non-null   bool               \n",
      " 5   display_text_range             2354 non-null   object             \n",
      " 6   entities                       2354 non-null   object             \n",
      " 7   extended_entities              2073 non-null   object             \n",
      " 8   source                         2354 non-null   object             \n",
      " 9   in_reply_to_status_id          78 non-null     float64            \n",
      " 10  in_reply_to_status_id_str      78 non-null     float64            \n",
      " 11  in_reply_to_user_id            78 non-null     float64            \n",
      " 12  in_reply_to_user_id_str        78 non-null     float64            \n",
      " 13  in_reply_to_screen_name        78 non-null     object             \n",
      " 14  user                           2354 non-null   object             \n",
      " 15  geo                            0 non-null      float64            \n",
      " 16  coordinates                    0 non-null      float64            \n",
      " 17  place                          1 non-null      object             \n",
      " 18  contributors                   0 non-null      float64            \n",
      " 19  is_quote_status                2354 non-null   bool               \n",
      " 20  retweet_count                  2354 non-null   int64              \n",
      " 21  favorite_count                 2354 non-null   int64              \n",
      " 22  favorited                      2354 non-null   bool               \n",
      " 23  retweeted                      2354 non-null   bool               \n",
      " 24  possibly_sensitive             2211 non-null   float64            \n",
      " 25  possibly_sensitive_appealable  2211 non-null   float64            \n",
      " 26  lang                           2354 non-null   object             \n",
      " 27  retweeted_status               179 non-null    object             \n",
      " 28  quoted_status_id               29 non-null     float64            \n",
      " 29  quoted_status_id_str           29 non-null     float64            \n",
      " 30  quoted_status                  28 non-null     object             \n",
      "dtypes: bool(4), datetime64[ns, UTC](1), float64(11), int64(4), object(11)\n",
      "memory usage: 505.9+ KB\n"
     ]
    }
   ],
   "source": [
    "df_tw_add.info()"
   ]
  },
  {
   "cell_type": "markdown",
   "metadata": {
    "id": "dCFaSlni-OhZ"
   },
   "source": [
    "- Check the column \"lang\" to see if there are any abnormal values in the language abreviation that need to be fixed or not."
   ]
  },
  {
   "cell_type": "code",
   "execution_count": null,
   "metadata": {
    "colab": {
     "base_uri": "https://localhost:8080/"
    },
    "executionInfo": {
     "elapsed": 331,
     "status": "ok",
     "timestamp": 1655111269334,
     "user": {
      "displayName": "Xấu Xa Kẻ",
      "userId": "08263153180530503733"
     },
     "user_tz": -420
    },
    "id": "1zBxvOhkhO7E",
    "outputId": "6f5e8bf1-b77e-40c1-be02-b496e2a9de1b"
   },
   "outputs": [
    {
     "data": {
      "text/plain": [
       "array(['en', 'und', 'in', 'eu', 'es', 'nl', 'tl', 'ro', 'et'],\n",
       "      dtype=object)"
      ]
     },
     "execution_count": 23,
     "metadata": {},
     "output_type": "execute_result"
    }
   ],
   "source": [
    "df_tw_add['lang'].unique()"
   ]
  },
  {
   "cell_type": "code",
   "execution_count": null,
   "metadata": {
    "colab": {
     "base_uri": "https://localhost:8080/",
     "height": 364
    },
    "executionInfo": {
     "elapsed": 356,
     "status": "ok",
     "timestamp": 1655111272728,
     "user": {
      "displayName": "Xấu Xa Kẻ",
      "userId": "08263153180530503733"
     },
     "user_tz": -420
    },
    "id": "m264G4OxoXf5",
    "outputId": "b7b35716-681e-46d8-d9ee-4f0a71cd8d6f"
   },
   "outputs": [
    {
     "data": {
      "text/html": [
       "\n",
       "  <div id=\"df-fcc450a6-6992-41f6-b132-6d33c4c43270\">\n",
       "    <div class=\"colab-df-container\">\n",
       "      <div>\n",
       "<style scoped>\n",
       "    .dataframe tbody tr th:only-of-type {\n",
       "        vertical-align: middle;\n",
       "    }\n",
       "\n",
       "    .dataframe tbody tr th {\n",
       "        vertical-align: top;\n",
       "    }\n",
       "\n",
       "    .dataframe thead th {\n",
       "        text-align: right;\n",
       "    }\n",
       "</style>\n",
       "<table border=\"1\" class=\"dataframe\">\n",
       "  <thead>\n",
       "    <tr style=\"text-align: right;\">\n",
       "      <th></th>\n",
       "      <th>id</th>\n",
       "      <th>id_str</th>\n",
       "      <th>in_reply_to_status_id</th>\n",
       "      <th>in_reply_to_status_id_str</th>\n",
       "      <th>in_reply_to_user_id</th>\n",
       "      <th>in_reply_to_user_id_str</th>\n",
       "      <th>geo</th>\n",
       "      <th>coordinates</th>\n",
       "      <th>contributors</th>\n",
       "      <th>retweet_count</th>\n",
       "      <th>favorite_count</th>\n",
       "      <th>possibly_sensitive</th>\n",
       "      <th>possibly_sensitive_appealable</th>\n",
       "      <th>quoted_status_id</th>\n",
       "      <th>quoted_status_id_str</th>\n",
       "    </tr>\n",
       "  </thead>\n",
       "  <tbody>\n",
       "    <tr>\n",
       "      <th>count</th>\n",
       "      <td>2.354000e+03</td>\n",
       "      <td>2.354000e+03</td>\n",
       "      <td>7.800000e+01</td>\n",
       "      <td>7.800000e+01</td>\n",
       "      <td>7.800000e+01</td>\n",
       "      <td>7.800000e+01</td>\n",
       "      <td>0.0</td>\n",
       "      <td>0.0</td>\n",
       "      <td>0.0</td>\n",
       "      <td>2354.000000</td>\n",
       "      <td>2354.000000</td>\n",
       "      <td>2211.0</td>\n",
       "      <td>2211.0</td>\n",
       "      <td>2.900000e+01</td>\n",
       "      <td>2.900000e+01</td>\n",
       "    </tr>\n",
       "    <tr>\n",
       "      <th>mean</th>\n",
       "      <td>7.426978e+17</td>\n",
       "      <td>7.426978e+17</td>\n",
       "      <td>7.455079e+17</td>\n",
       "      <td>7.455079e+17</td>\n",
       "      <td>2.014171e+16</td>\n",
       "      <td>2.014171e+16</td>\n",
       "      <td>NaN</td>\n",
       "      <td>NaN</td>\n",
       "      <td>NaN</td>\n",
       "      <td>3164.797366</td>\n",
       "      <td>8080.968564</td>\n",
       "      <td>0.0</td>\n",
       "      <td>0.0</td>\n",
       "      <td>8.162686e+17</td>\n",
       "      <td>8.162686e+17</td>\n",
       "    </tr>\n",
       "    <tr>\n",
       "      <th>std</th>\n",
       "      <td>6.852812e+16</td>\n",
       "      <td>6.852812e+16</td>\n",
       "      <td>7.582492e+16</td>\n",
       "      <td>7.582492e+16</td>\n",
       "      <td>1.252797e+17</td>\n",
       "      <td>1.252797e+17</td>\n",
       "      <td>NaN</td>\n",
       "      <td>NaN</td>\n",
       "      <td>NaN</td>\n",
       "      <td>5284.770364</td>\n",
       "      <td>11814.771334</td>\n",
       "      <td>0.0</td>\n",
       "      <td>0.0</td>\n",
       "      <td>6.164161e+16</td>\n",
       "      <td>6.164161e+16</td>\n",
       "    </tr>\n",
       "    <tr>\n",
       "      <th>min</th>\n",
       "      <td>6.660209e+17</td>\n",
       "      <td>6.660209e+17</td>\n",
       "      <td>6.658147e+17</td>\n",
       "      <td>6.658147e+17</td>\n",
       "      <td>1.185634e+07</td>\n",
       "      <td>1.185634e+07</td>\n",
       "      <td>NaN</td>\n",
       "      <td>NaN</td>\n",
       "      <td>NaN</td>\n",
       "      <td>0.000000</td>\n",
       "      <td>0.000000</td>\n",
       "      <td>0.0</td>\n",
       "      <td>0.0</td>\n",
       "      <td>6.721083e+17</td>\n",
       "      <td>6.721083e+17</td>\n",
       "    </tr>\n",
       "    <tr>\n",
       "      <th>25%</th>\n",
       "      <td>6.783975e+17</td>\n",
       "      <td>6.783975e+17</td>\n",
       "      <td>6.757419e+17</td>\n",
       "      <td>6.757419e+17</td>\n",
       "      <td>3.086374e+08</td>\n",
       "      <td>3.086374e+08</td>\n",
       "      <td>NaN</td>\n",
       "      <td>NaN</td>\n",
       "      <td>NaN</td>\n",
       "      <td>624.500000</td>\n",
       "      <td>1415.000000</td>\n",
       "      <td>0.0</td>\n",
       "      <td>0.0</td>\n",
       "      <td>7.888183e+17</td>\n",
       "      <td>7.888183e+17</td>\n",
       "    </tr>\n",
       "    <tr>\n",
       "      <th>50%</th>\n",
       "      <td>7.194596e+17</td>\n",
       "      <td>7.194596e+17</td>\n",
       "      <td>7.038708e+17</td>\n",
       "      <td>7.038708e+17</td>\n",
       "      <td>4.196984e+09</td>\n",
       "      <td>4.196984e+09</td>\n",
       "      <td>NaN</td>\n",
       "      <td>NaN</td>\n",
       "      <td>NaN</td>\n",
       "      <td>1473.500000</td>\n",
       "      <td>3603.500000</td>\n",
       "      <td>0.0</td>\n",
       "      <td>0.0</td>\n",
       "      <td>8.340867e+17</td>\n",
       "      <td>8.340867e+17</td>\n",
       "    </tr>\n",
       "    <tr>\n",
       "      <th>75%</th>\n",
       "      <td>7.993058e+17</td>\n",
       "      <td>7.993058e+17</td>\n",
       "      <td>8.257804e+17</td>\n",
       "      <td>8.257804e+17</td>\n",
       "      <td>4.196984e+09</td>\n",
       "      <td>4.196984e+09</td>\n",
       "      <td>NaN</td>\n",
       "      <td>NaN</td>\n",
       "      <td>NaN</td>\n",
       "      <td>3652.000000</td>\n",
       "      <td>10122.250000</td>\n",
       "      <td>0.0</td>\n",
       "      <td>0.0</td>\n",
       "      <td>8.664587e+17</td>\n",
       "      <td>8.664587e+17</td>\n",
       "    </tr>\n",
       "    <tr>\n",
       "      <th>max</th>\n",
       "      <td>8.924206e+17</td>\n",
       "      <td>8.924206e+17</td>\n",
       "      <td>8.862664e+17</td>\n",
       "      <td>8.862664e+17</td>\n",
       "      <td>8.405479e+17</td>\n",
       "      <td>8.405479e+17</td>\n",
       "      <td>NaN</td>\n",
       "      <td>NaN</td>\n",
       "      <td>NaN</td>\n",
       "      <td>79515.000000</td>\n",
       "      <td>132810.000000</td>\n",
       "      <td>0.0</td>\n",
       "      <td>0.0</td>\n",
       "      <td>8.860534e+17</td>\n",
       "      <td>8.860534e+17</td>\n",
       "    </tr>\n",
       "  </tbody>\n",
       "</table>\n",
       "</div>\n",
       "      <button class=\"colab-df-convert\" onclick=\"convertToInteractive('df-fcc450a6-6992-41f6-b132-6d33c4c43270')\"\n",
       "              title=\"Convert this dataframe to an interactive table.\"\n",
       "              style=\"display:none;\">\n",
       "        \n",
       "  <svg xmlns=\"http://www.w3.org/2000/svg\" height=\"24px\"viewBox=\"0 0 24 24\"\n",
       "       width=\"24px\">\n",
       "    <path d=\"M0 0h24v24H0V0z\" fill=\"none\"/>\n",
       "    <path d=\"M18.56 5.44l.94 2.06.94-2.06 2.06-.94-2.06-.94-.94-2.06-.94 2.06-2.06.94zm-11 1L8.5 8.5l.94-2.06 2.06-.94-2.06-.94L8.5 2.5l-.94 2.06-2.06.94zm10 10l.94 2.06.94-2.06 2.06-.94-2.06-.94-.94-2.06-.94 2.06-2.06.94z\"/><path d=\"M17.41 7.96l-1.37-1.37c-.4-.4-.92-.59-1.43-.59-.52 0-1.04.2-1.43.59L10.3 9.45l-7.72 7.72c-.78.78-.78 2.05 0 2.83L4 21.41c.39.39.9.59 1.41.59.51 0 1.02-.2 1.41-.59l7.78-7.78 2.81-2.81c.8-.78.8-2.07 0-2.86zM5.41 20L4 18.59l7.72-7.72 1.47 1.35L5.41 20z\"/>\n",
       "  </svg>\n",
       "      </button>\n",
       "      \n",
       "  <style>\n",
       "    .colab-df-container {\n",
       "      display:flex;\n",
       "      flex-wrap:wrap;\n",
       "      gap: 12px;\n",
       "    }\n",
       "\n",
       "    .colab-df-convert {\n",
       "      background-color: #E8F0FE;\n",
       "      border: none;\n",
       "      border-radius: 50%;\n",
       "      cursor: pointer;\n",
       "      display: none;\n",
       "      fill: #1967D2;\n",
       "      height: 32px;\n",
       "      padding: 0 0 0 0;\n",
       "      width: 32px;\n",
       "    }\n",
       "\n",
       "    .colab-df-convert:hover {\n",
       "      background-color: #E2EBFA;\n",
       "      box-shadow: 0px 1px 2px rgba(60, 64, 67, 0.3), 0px 1px 3px 1px rgba(60, 64, 67, 0.15);\n",
       "      fill: #174EA6;\n",
       "    }\n",
       "\n",
       "    [theme=dark] .colab-df-convert {\n",
       "      background-color: #3B4455;\n",
       "      fill: #D2E3FC;\n",
       "    }\n",
       "\n",
       "    [theme=dark] .colab-df-convert:hover {\n",
       "      background-color: #434B5C;\n",
       "      box-shadow: 0px 1px 3px 1px rgba(0, 0, 0, 0.15);\n",
       "      filter: drop-shadow(0px 1px 2px rgba(0, 0, 0, 0.3));\n",
       "      fill: #FFFFFF;\n",
       "    }\n",
       "  </style>\n",
       "\n",
       "      <script>\n",
       "        const buttonEl =\n",
       "          document.querySelector('#df-fcc450a6-6992-41f6-b132-6d33c4c43270 button.colab-df-convert');\n",
       "        buttonEl.style.display =\n",
       "          google.colab.kernel.accessAllowed ? 'block' : 'none';\n",
       "\n",
       "        async function convertToInteractive(key) {\n",
       "          const element = document.querySelector('#df-fcc450a6-6992-41f6-b132-6d33c4c43270');\n",
       "          const dataTable =\n",
       "            await google.colab.kernel.invokeFunction('convertToInteractive',\n",
       "                                                     [key], {});\n",
       "          if (!dataTable) return;\n",
       "\n",
       "          const docLinkHtml = 'Like what you see? Visit the ' +\n",
       "            '<a target=\"_blank\" href=https://colab.research.google.com/notebooks/data_table.ipynb>data table notebook</a>'\n",
       "            + ' to learn more about interactive tables.';\n",
       "          element.innerHTML = '';\n",
       "          dataTable['output_type'] = 'display_data';\n",
       "          await google.colab.output.renderOutput(dataTable, element);\n",
       "          const docLink = document.createElement('div');\n",
       "          docLink.innerHTML = docLinkHtml;\n",
       "          element.appendChild(docLink);\n",
       "        }\n",
       "      </script>\n",
       "    </div>\n",
       "  </div>\n",
       "  "
      ],
      "text/plain": [
       "                 id        id_str  in_reply_to_status_id  \\\n",
       "count  2.354000e+03  2.354000e+03           7.800000e+01   \n",
       "mean   7.426978e+17  7.426978e+17           7.455079e+17   \n",
       "std    6.852812e+16  6.852812e+16           7.582492e+16   \n",
       "min    6.660209e+17  6.660209e+17           6.658147e+17   \n",
       "25%    6.783975e+17  6.783975e+17           6.757419e+17   \n",
       "50%    7.194596e+17  7.194596e+17           7.038708e+17   \n",
       "75%    7.993058e+17  7.993058e+17           8.257804e+17   \n",
       "max    8.924206e+17  8.924206e+17           8.862664e+17   \n",
       "\n",
       "       in_reply_to_status_id_str  in_reply_to_user_id  \\\n",
       "count               7.800000e+01         7.800000e+01   \n",
       "mean                7.455079e+17         2.014171e+16   \n",
       "std                 7.582492e+16         1.252797e+17   \n",
       "min                 6.658147e+17         1.185634e+07   \n",
       "25%                 6.757419e+17         3.086374e+08   \n",
       "50%                 7.038708e+17         4.196984e+09   \n",
       "75%                 8.257804e+17         4.196984e+09   \n",
       "max                 8.862664e+17         8.405479e+17   \n",
       "\n",
       "       in_reply_to_user_id_str  geo  coordinates  contributors  retweet_count  \\\n",
       "count             7.800000e+01  0.0          0.0           0.0    2354.000000   \n",
       "mean              2.014171e+16  NaN          NaN           NaN    3164.797366   \n",
       "std               1.252797e+17  NaN          NaN           NaN    5284.770364   \n",
       "min               1.185634e+07  NaN          NaN           NaN       0.000000   \n",
       "25%               3.086374e+08  NaN          NaN           NaN     624.500000   \n",
       "50%               4.196984e+09  NaN          NaN           NaN    1473.500000   \n",
       "75%               4.196984e+09  NaN          NaN           NaN    3652.000000   \n",
       "max               8.405479e+17  NaN          NaN           NaN   79515.000000   \n",
       "\n",
       "       favorite_count  possibly_sensitive  possibly_sensitive_appealable  \\\n",
       "count     2354.000000              2211.0                         2211.0   \n",
       "mean      8080.968564                 0.0                            0.0   \n",
       "std      11814.771334                 0.0                            0.0   \n",
       "min          0.000000                 0.0                            0.0   \n",
       "25%       1415.000000                 0.0                            0.0   \n",
       "50%       3603.500000                 0.0                            0.0   \n",
       "75%      10122.250000                 0.0                            0.0   \n",
       "max     132810.000000                 0.0                            0.0   \n",
       "\n",
       "       quoted_status_id  quoted_status_id_str  \n",
       "count      2.900000e+01          2.900000e+01  \n",
       "mean       8.162686e+17          8.162686e+17  \n",
       "std        6.164161e+16          6.164161e+16  \n",
       "min        6.721083e+17          6.721083e+17  \n",
       "25%        7.888183e+17          7.888183e+17  \n",
       "50%        8.340867e+17          8.340867e+17  \n",
       "75%        8.664587e+17          8.664587e+17  \n",
       "max        8.860534e+17          8.860534e+17  "
      ]
     },
     "execution_count": 24,
     "metadata": {},
     "output_type": "execute_result"
    }
   ],
   "source": [
    "df_tw_add.describe()"
   ]
  },
  {
   "cell_type": "markdown",
   "metadata": {
    "extensions": {
     "jupyter_dashboards": {
      "version": 1,
      "views": {
       "grid_default": {
        "col": 4,
        "height": 4,
        "hidden": false,
        "row": 28,
        "width": 4
       },
       "report_default": {
        "hidden": false
       }
      }
     }
    },
    "id": "-77OW3DM4daR"
   },
   "source": [
    "## Assessing Data\n",
    "In this section, detect and document at least **eight (8) quality issues and two (2) tidiness issue**. You must use **both** visual assessment\n",
    "programmatic assessement to assess the data.\n",
    "\n",
    "**Note:** pay attention to the following key points when you access the data.\n",
    "\n",
    "* You only want original ratings (no retweets) that have images. Though there are 5000+ tweets in the dataset, not all are dog ratings and some are retweets.\n",
    "* Assessing and cleaning the entire dataset completely would require a lot of time, and is not necessary to practice and demonstrate your skills in data wrangling. Therefore, the requirements of this project are only to assess and clean at least 8 quality issues and at least 2 tidiness issues in this dataset.\n",
    "* The fact that the rating numerators are greater than the denominators does not need to be cleaned. This [unique rating system](http://knowyourmeme.com/memes/theyre-good-dogs-brent) is a big part of the popularity of WeRateDogs.\n",
    "* You do not need to gather the tweets beyond August 1st, 2017. You can, but note that you won't be able to gather the image predictions for these tweets since you don't have access to the algorithm used.\n",
    "\n"
   ]
  },
  {
   "cell_type": "code",
   "execution_count": null,
   "metadata": {
    "id": "EiBcxX_m4daS"
   },
   "outputs": [],
   "source": []
  },
  {
   "cell_type": "markdown",
   "metadata": {
    "id": "Fy05vN_b4daU"
   },
   "source": [
    "### Quality issues\n",
    "1. Column \"timestamp\" of dataframe \"df_tw_enhanced\" (from file \"twitter-archive-enhanced.csv\") is not type of date-time.\n",
    "\n",
    "2. The URL in column \"source\" of \"df_tw_enhanced\" is a HTML \\<a\\> tag, but we only care about the URL itself.\n",
    "\n",
    "3. Columns \"rating_numerator\" of \"df_tw_enhanced\" is having some outliers (For ex: 1776). I will confirm on this later by using a box plot visualization.\n",
    "\n",
    "4. Columns \"rating_denominator\" have values larger than 10.\n",
    "\n",
    "5. Some prediction results in \"df_img_pred\" are not dog (columns \"p1_dog\", \"p2_dog\" and \"p3_dog\" are all \"False\").\n",
    "\n",
    "6. Some dog names are missing and abnormal (names is only one character and/or lowercase)\n",
    "\n",
    "7. The retweet rows in the dataset are not necessary.\n",
    "\n",
    "8. The dog stages columns: \"doggo\", \"floofer\", \"pupper\", \"puppo\" should be converted to numerical to be easy for model training (0 and 1 values).\n",
    "\n",
    "9. The column \"tweet_id\" in \"df_tw_enhanced\" and \"df_img_pred\" should be in string format instead of integer.\n",
    "The column \"id\" and \"id_str\" in \"df_tw_add\" should be in string format instead of integer."
   ]
  },
  {
   "cell_type": "markdown",
   "metadata": {
    "extensions": {
     "jupyter_dashboards": {
      "version": 1,
      "views": {
       "grid_default": {
        "col": 0,
        "height": 7,
        "hidden": false,
        "row": 40,
        "width": 12
       },
       "report_default": {
        "hidden": false
       }
      }
     }
    },
    "id": "jKROmO3L4daV"
   },
   "source": [
    "### Tidiness issues\n",
    "1. \"retweet count\" and \"favorite count\" columns from \"df_tw_add\" should be merged to the dataframe \"df_tw_enhanced\".\n",
    " \n",
    "2. All columns from table \"df_img_pred\" should be merged into the dataframe \"df_tw_enhanced\"."
   ]
  },
  {
   "cell_type": "markdown",
   "metadata": {
    "extensions": {
     "jupyter_dashboards": {
      "version": 1,
      "views": {
       "grid_default": {
        "col": 4,
        "height": 4,
        "hidden": false,
        "row": 32,
        "width": 4
       },
       "report_default": {
        "hidden": false
       }
      }
     }
    },
    "id": "fpPEFliK4daW"
   },
   "source": [
    "## Cleaning Data\n",
    "In this section, clean **all** of the issues you documented while assessing. \n",
    "\n",
    "**Note:** Make a copy of the original data before cleaning. Cleaning includes merging individual pieces of data according to the rules of [tidy data](https://cran.r-project.org/web/packages/tidyr/vignettes/tidy-data.html). The result should be a high-quality and tidy master pandas DataFrame (or DataFrames, if appropriate)."
   ]
  },
  {
   "cell_type": "code",
   "execution_count": null,
   "metadata": {
    "id": "VffyeqC64daX"
   },
   "outputs": [],
   "source": [
    "df_tw_enhanced_cp = df_tw_enhanced\n",
    "df_img_pred_cp = df_img_pred\n",
    "df_tw_add_cp = df_tw_add"
   ]
  },
  {
   "cell_type": "markdown",
   "metadata": {
    "id": "XJiVQr8M4daf"
   },
   "source": [
    "### Issue #1:\n",
    "- Quality: Column \"timestamp\" of dataframe \"df_tw_enhanced\" (from file \"twitter-archive-enhanced.csv\") is not type of date-time."
   ]
  },
  {
   "cell_type": "markdown",
   "metadata": {
    "id": "sxt3_Jhs4daf"
   },
   "source": [
    "#### Define:\n",
    "- Convert column \"timestamp\" to datetime format by using the Pandas.to_datetime() function"
   ]
  },
  {
   "cell_type": "markdown",
   "metadata": {
    "id": "9NtxgMsm4dag"
   },
   "source": [
    "#### Code"
   ]
  },
  {
   "cell_type": "code",
   "execution_count": null,
   "metadata": {
    "id": "Xg-hOkGJ4dag"
   },
   "outputs": [],
   "source": [
    "df_tw_enhanced_cp['timestamp'] =  pd.to_datetime(df_tw_enhanced_cp['timestamp'])"
   ]
  },
  {
   "cell_type": "markdown",
   "metadata": {
    "id": "6Y84m_VO4dah"
   },
   "source": [
    "#### Test"
   ]
  },
  {
   "cell_type": "code",
   "execution_count": null,
   "metadata": {
    "colab": {
     "base_uri": "https://localhost:8080/"
    },
    "executionInfo": {
     "elapsed": 4,
     "status": "ok",
     "timestamp": 1655111290378,
     "user": {
      "displayName": "Xấu Xa Kẻ",
      "userId": "08263153180530503733"
     },
     "user_tz": -420
    },
    "id": "tgZ7n_rYxYtF",
    "outputId": "5f331279-2f00-44ed-c497-681a28556e05"
   },
   "outputs": [
    {
     "data": {
      "text/plain": [
       "0   2017-08-01 16:23:56+00:00\n",
       "1   2017-08-01 00:17:27+00:00\n",
       "2   2017-07-31 00:18:03+00:00\n",
       "3   2017-07-30 15:58:51+00:00\n",
       "4   2017-07-29 16:00:24+00:00\n",
       "Name: timestamp, dtype: datetime64[ns, UTC]"
      ]
     },
     "execution_count": 27,
     "metadata": {},
     "output_type": "execute_result"
    }
   ],
   "source": [
    "df_tw_enhanced_cp['timestamp'].head()"
   ]
  },
  {
   "cell_type": "markdown",
   "metadata": {
    "id": "LajFr63j4dai"
   },
   "source": [
    "### Issue #2:\n",
    "- Quality: The URL in column \"source\" of \"df_tw_enhanced\" is a HTML <a> tag, but we only care about the URL itself."
   ]
  },
  {
   "cell_type": "markdown",
   "metadata": {
    "collapsed": true,
    "extensions": {
     "jupyter_dashboards": {
      "version": 1,
      "views": {
       "grid_default": {
        "hidden": true
       },
       "report_default": {
        "hidden": true
       }
      }
     }
    },
    "id": "jcOWO6f64dai"
   },
   "source": [
    "#### Define\n",
    "- Extract the URL from the HTML tag by using the String.extract(regex_str) function that apply on the column Series."
   ]
  },
  {
   "cell_type": "markdown",
   "metadata": {
    "id": "PRO6sOMa4dai"
   },
   "source": [
    "#### Code"
   ]
  },
  {
   "cell_type": "code",
   "execution_count": null,
   "metadata": {
    "colab": {
     "base_uri": "https://localhost:8080/"
    },
    "executionInfo": {
     "elapsed": 341,
     "status": "ok",
     "timestamp": 1655111298639,
     "user": {
      "displayName": "Xấu Xa Kẻ",
      "userId": "08263153180530503733"
     },
     "user_tz": -420
    },
    "id": "KnS93QtY4daj",
    "outputId": "9f0b1b3c-5407-4fc8-d260-d103cbc57e27"
   },
   "outputs": [
    {
     "data": {
      "text/plain": [
       "0    http://twitter.com/download/iphone\n",
       "1    http://twitter.com/download/iphone\n",
       "2    http://twitter.com/download/iphone\n",
       "3    http://twitter.com/download/iphone\n",
       "4    http://twitter.com/download/iphone\n",
       "Name: source, dtype: object"
      ]
     },
     "execution_count": 28,
     "metadata": {},
     "output_type": "execute_result"
    }
   ],
   "source": [
    "df_tw_enhanced_cp['source'] = df_tw_enhanced_cp['source'].str.extract(r'<a\\s+(?:[^>]*?\\s+)?href=([\"\\'])(.*?)\\1')[1]\n",
    "df_tw_enhanced_cp['source'].head()"
   ]
  },
  {
   "cell_type": "markdown",
   "metadata": {
    "id": "pcGJzTRw4daj"
   },
   "source": [
    "#### Test"
   ]
  },
  {
   "cell_type": "code",
   "execution_count": null,
   "metadata": {
    "colab": {
     "base_uri": "https://localhost:8080/"
    },
    "executionInfo": {
     "elapsed": 336,
     "status": "ok",
     "timestamp": 1655111303772,
     "user": {
      "displayName": "Xấu Xa Kẻ",
      "userId": "08263153180530503733"
     },
     "user_tz": -420
    },
    "id": "aBGL_xFV4daj",
    "outputId": "67b22014-cde0-4b5f-ef55-60b691f58e9b"
   },
   "outputs": [
    {
     "data": {
      "text/plain": [
       "http://twitter.com/download/iphone              2221\n",
       "http://vine.co                                    91\n",
       "http://twitter.com                                33\n",
       "https://about.twitter.com/products/tweetdeck      11\n",
       "Name: source, dtype: int64"
      ]
     },
     "execution_count": 29,
     "metadata": {},
     "output_type": "execute_result"
    }
   ],
   "source": [
    "df_tw_enhanced_cp['source'].value_counts()"
   ]
  },
  {
   "cell_type": "markdown",
   "metadata": {
    "id": "2Psce1lNt7KV"
   },
   "source": [
    "### Issue #3:\n",
    "- Quality: Columns \"rating_numerator\" of \"df_tw_enhanced\" is having some outliers (For ex: 1776). I will confirm on this later by using a box plot visualization."
   ]
  },
  {
   "cell_type": "markdown",
   "metadata": {
    "collapsed": true,
    "extensions": {
     "jupyter_dashboards": {
      "version": 1,
      "views": {
       "grid_default": {
        "hidden": true
       },
       "report_default": {
        "hidden": true
       }
      }
     }
    },
    "id": "uZ5pE_1kt7KW"
   },
   "source": [
    "#### Define\n",
    "- Use a box plot to check the upper whisker, then use Pandas Dataframe filter to remove all rows having \"rating_numerator\" above that."
   ]
  },
  {
   "cell_type": "code",
   "execution_count": null,
   "metadata": {
    "colab": {
     "base_uri": "https://localhost:8080/",
     "height": 517
    },
    "executionInfo": {
     "elapsed": 2126,
     "status": "ok",
     "timestamp": 1655111311983,
     "user": {
      "displayName": "Xấu Xa Kẻ",
      "userId": "08263153180530503733"
     },
     "user_tz": -420
    },
    "id": "A6PnNyx-t7KZ",
    "outputId": "35e4f908-216c-47a8-aecf-2647275d5540"
   },
   "outputs": [
    {
     "data": {
      "text/html": [
       "<html>\n",
       "<head><meta charset=\"utf-8\" /></head>\n",
       "<body>\n",
       "    <div>            <script src=\"https://cdnjs.cloudflare.com/ajax/libs/mathjax/2.7.5/MathJax.js?config=TeX-AMS-MML_SVG\"></script><script type=\"text/javascript\">if (window.MathJax) {MathJax.Hub.Config({SVG: {font: \"STIX-Web\"}});}</script>                <script type=\"text/javascript\">window.PlotlyConfig = {MathJaxConfig: 'local'};</script>\n",
       "        <script src=\"https://cdn.plot.ly/plotly-2.8.3.min.js\"></script>                <div id=\"e66878dd-2fca-42a3-a8c6-1e7d2a08e5bf\" class=\"plotly-graph-div\" style=\"height:500px; width:500px;\"></div>            <script type=\"text/javascript\">                                    window.PLOTLYENV=window.PLOTLYENV || {};                                    if (document.getElementById(\"e66878dd-2fca-42a3-a8c6-1e7d2a08e5bf\")) {                    Plotly.newPlot(                        \"e66878dd-2fca-42a3-a8c6-1e7d2a08e5bf\",                        [{\"alignmentgroup\":\"True\",\"hovertemplate\":\"rating_numerator=%{y}<extra></extra>\",\"legendgroup\":\"\",\"marker\":{\"color\":\"#636efa\"},\"name\":\"\",\"notched\":false,\"offsetgroup\":\"\",\"orientation\":\"v\",\"showlegend\":false,\"x0\":\" \",\"xaxis\":\"x\",\"y\":[13,13,12,13,12,13,13,13,13,14,13,13,13,12,13,13,12,13,13,13,12,13,14,13,13,12,13,13,13,12,12,13,12,12,13,14,13,13,12,13,13,14,13,12,12,5,13,13,13,12,13,13,13,12,13,17,14,12,13,12,12,12,11,13,14,12,13,12,14,11,13,13,13,13,11,13,14,13,14,12,13,12,12,14,13,13,13,13,13,12,12,12,13,12,13,14,13,12,12,12,13,14,13,12,13,12,13,12,12,12,14,13,11,10,13,13,13,14,12,13,13,12,13,14,12,13,12,12,13,12,13,13,13,13,12,13,12,12,13,13,13,14,12,13,13,13,13,12,12,14,13,13,11,13,13,13,13,13,12,13,13,13,13,12,14,10,12,13,13,12,13,12,13,13,12,12,13,13,13,12,13,12,13,12,14,14,14,14,420,666,13,13,13,12,12,14,12,13,13,14,11,12,13,13,13,12,12,13,13,14,12,13,10,11,14,13,11,13,13,11,12,12,12,12,11,13,12,12,11,6,11,13,10,12,13,12,12,11,11,13,13,11,13,13,12,13,12,12,13,12,12,13,12,13,11,12,13,12,11,13,13,13,12,13,12,12,13,12,14,12,13,12,12,12,10,10,12,13,12,13,12,10,13,13,13,15,13,13,13,13,182,15,13,12,13,12,13,13,14,12,12,11,11,13,12,13,13,12,11,12,13,12,12,960,12,0,12,13,13,12,12,12,11,10,12,12,13,12,13,13,12,13,12,13,13,10,12,12,11,14,75,13,11,12,12,12,12,14,13,13,13,12,13,12,12,12,13,12,13,12,12,12,11,13,12,13,12,13,10,14,12,12,14,13,12,12,13,11,12,12,13,12,12,13,12,13,10,7,13,12,11,13,13,11,12,14,13,12,12,11,12,13,13,11,14,12,12,12,11,13,11,11,12,13,12,13,12,13,14,11,11,13,12,13,13,12,14,13,12,11,12,12,13,84,14,13,14,12,13,13,11,11,13,12,10,12,14,14,14,14,11,13,12,11,11,13,12,11,12,13,13,12,7,13,11,13,13,13,11,12,12,12,13,11,12,11,11,11,13,12,11,12,13,11,12,9,12,12,11,11,14,12,13,11,13,12,12,13,12,11,12,11,11,12,13,10,10,12,13,12,13,11,13,11,10,11,24,11,11,13,12,10,12,12,12,11,13,12,12,11,13,12,12,14,13,12,12,13,12,13,11,12,11,10,12,12,12,13,12,12,12,13,13,13,12,13,13,12,11,11,12,12,11,12,13,11,13,12,13,12,11,12,10,13,11,12,11,11,12,11,12,11,12,11,13,11,13,13,12,14,11,11,12,11,11,10,10,12,11,8,13,10,10,12,10,1,11,13,12,12,12,11,11,12,11,13,12,12,11,11,13,11,12,13,13,12,11,12,12,12,12,14,12,13,13,12,12,13,12,12,13,11,10,12,11,12,11,13,11,13,12,12,12,11,13,12,11,14,13,12,12,11,12,12,12,12,11,12,11,11,12,12,13,13,12,12,13,12,10,12,11,12,13,11,13,13,11,12,11,13,11,10,12,12,11,75,12,11,13,12,11,13,11,12,12,10,11,10,12,11,13,11,12,12,12,13,12,12,11,13,11,12,11,12,11,10,11,12,12,11,5,11,12,12,11,10,13,10,11,12,12,12,12,11,11,8,10,11,12,11,12,13,11,13,13,11,10,11,14,10,13,11,12,27,8,3,12,12,12,12,13,12,11,11,13,10,11,10,12,12,11,13,11,12,9,13,12,10,14,11,12,12,10,11,11,12,10,12,11,11,10,10,12,10,12,10,11,13,11,12,11,11,11,12,7,12,10,11,13,11,11,10,12,10,12,13,13,12,12,10,11,10,12,12,11,8,10,11,12,13,13,10,10,13,11,9,12,12,12,11,12,12,13,11,10,12,10,12,11,8,8,10,11,12,12,11,14,12,10,11,10,11,13,10,11,10,11,11,11,12,12,12,13,4,10,11,12,10,11,12,10,10,11,10,12,11,7,11,11,13,12,11,165,10,11,13,9,10,11,11,12,11,4,13,10,8,11,12,11,13,11,12,10,12,14,13,11,11,12,10,11,10,12,10,11,12,8,12,11,13,10,12,11,11,10,10,9,11,8,13,12,13,11,12,11,13,5,10,12,10,12,10,11,12,8,12,9,13,13,11,10,11,12,10,11,13,10,11,12,1776,12,11,10,10,12,11,11,8,10,13,13,11,10,6,12,10,13,11,7,13,10,11,8,11,4,12,12,10,11,10,10,12,13,11,10,11,0,11,13,10,11,12,11,10,10,9,10,11,10,7,10,9,12,11,12,9,12,10,11,13,12,11,10,10,10,7,11,13,10,12,10,11,10,14,12,11,12,8,10,11,9,12,11,12,10,9,8,11,9,10,9,10,12,10,12,12,9,10,6,13,13,11,10,11,10,9,12,10,10,10,11,13,9,13,13,13,11,10,10,11,12,11,11,8,9,10,13,11,10,10,10,10,11,12,12,11,10,11,11,12,204,9,10,11,11,6,11,12,13,13,10,11,13,10,8,10,12,11,12,11,12,13,10,11,9,10,11,12,10,12,9,12,11,12,13,12,11,10,10,10,11,12,12,10,8,4,12,11,11,12,10,10,11,10,9,11,10,12,10,11,10,11,10,12,10,11,10,9,13,3,11,11,10,11,11,9,12,10,10,11,12,13,50,12,11,11,13,10,11,10,12,11,10,10,12,12,9,12,10,4,12,10,10,8,13,10,12,12,99,12,11,10,10,10,10,10,11,12,10,7,11,6,12,10,11,10,13,9,11,3,11,12,10,12,80,12,12,12,11,11,13,11,8,11,12,12,12,12,12,9,10,8,11,11,45,13,10,9,8,9,10,10,11,11,13,11,12,10,11,10,11,9,10,13,12,12,11,11,10,12,7,10,12,4,11,10,9,10,10,11,10,12,11,13,3,12,9,10,11,12,12,12,11,11,12,7,13,10,12,10,11,11,12,12,11,11,9,10,12,12,10,12,7,13,12,13,11,12,10,12,8,60,10,10,11,10,9,10,12,9,12,11,10,6,12,11,10,11,12,13,12,11,9,12,11,11,11,10,9,10,12,11,12,10,7,11,10,12,6,10,11,10,6,10,9,11,12,10,11,5,12,12,10,11,11,10,3,8,12,12,13,13,11,10,10,7,12,9,10,11,11,9,10,11,11,10,10,8,11,11,8,9,11,44,10,8,10,10,12,9,12,9,10,10,9,10,1,12,7,10,11,13,13,8,12,10,10,12,11,4,6,5,10,12,10,10,11,9,10,9,11,12,10,7,10,9,12,10,3,11,11,10,12,11,9,12,11,10,9,10,10,10,12,13,12,10,10,9,7,12,10,13,13,9,8,10,10,10,5,12,12,13,11,11,12,12,11,10,12,13,8,10,11,12,11,10,11,9,12,11,10,12,10,10,12,12,11,9,11,12,8,10,11,12,12,13,9,10,10,10,9,10,11,8,10,7,9,12,8,9,12,12,13,10,10,11,13,12,12,11,11,9,11,7,12,11,10,10,11,7,9,11,11,5,11,11,12,8,12,11,11,10,12,11,10,10,12,11,4,12,11,3,11,8,9,14,9,12,7,14,9,10,10,11,11,10,11,11,5,5,12,11,12,11,5,13,11,10,12,4,12,10,10,12,143,121,6,9,10,10,12,11,10,10,10,5,9,12,9,11,11,11,11,8,10,11,10,9,10,12,9,10,7,20,12,9,12,11,12,8,7,11,9,9,9,11,12,11,10,11,5,12,10,11,7,12,12,8,12,5,9,11,3,12,11,9,10,11,11,9,9,4,10,11,9,12,9,10,6,9,8,12,26,10,11,10,12,11,10,12,10,10,9,11,12,9,10,5,10,11,7,10,13,10,9,8,8,7,11,7,8,9,11,10,11,8,10,12,11,9,11,12,11,12,7,11,8,10,10,6,10,2,10,10,2,10,12,12,11,10,12,10,10,9,13,12,11,10,9,144,10,9,11,9,12,11,10,6,10,12,9,12,9,9,10,10,5,10,11,9,11,10,8,6,12,9,8,10,5,10,11,12,9,10,13,12,12,9,11,7,5,8,8,12,9,11,11,10,10,8,10,9,10,10,8,11,3,9,10,6,10,11,11,88,9,10,10,11,10,11,12,12,11,10,11,10,10,12,13,11,10,5,12,13,12,13,13,12,10,1,12,10,7,9,5,10,8,9,11,10,10,12,13,10,11,13,13,9,8,11,12,10,12,12,10,11,11,10,3,9,10,5,11,12,5,13,13,10,9,12,10,10,8,10,13,8,12,11,10,8,2,9,10,11,11,5,10,10,3,12,12,9,10,10,11,10,10,11,3,10,1,4,10,12,12,10,8,3,8,11,9,11,13,12,10,10,7,11,8,7,11,8,11,12,9,7,11,10,11,10,8,11,6,10,8,12,8,10,9,5,10,7,11,10,9,11,6,8,10,9,9,12,6,9,11,9,10,8,7,10,10,10,12,8,12,11,10,10,8,11,10,12,7,5,9,9,10,8,12,11,9,11,7,10,11,11,5,10,10,8,13,10,9,6,11,11,13,13,1,10,6,10,8,9,6,10,10,9,8,11,11,8,10,11,7,11,9,10,9,10,12,10,8,5,11,12,9,9,10,8,4,6,8,12,420,10,4,7,10,2,12,10,10,10,11,10,10,11,7,9,8,1,5,7,10,10,9,8,10,12,6,8,8,8,10,10,10,7,11,5,10,11,10,11,10,11,9,12,10,6,12,10,10,8,12,9,10,11,9,11,9,10,10,10,5,11,3,11,10,5,10,9,10,10,11,12,10,10,8,11,10,9,8,5,12,10,10,6,10,7,9,10,10,6,10,10,10,11,8,10,10,12,13,11,8,10,9,10,10,12,11,5,8,3,7,9,4,12,11,12,10,10,9,11,11,11,11,10,7,10,11,11,3,10,10,10,5,9,10,10,10,7,13,11,10,10,8,12,10,8,9,11,4,9,10,11,10,10,13,8,10,10,10,8,12,7,9,2,6,3,9,10,5,9,11,10,2,10,10,9,12,10,12,8,9,8,9,11,7,12,5,1,9,10,9,8,10,12,8,12,11,9,7,11,7,11,6,10,12,7,8,10,9,11,12,10,10,8,4,9,10,10,11,12,10,10,7,10,10,8,10,12,9,10,11,3,10,12,9,8,2,10,5,10,8,8,4,9,10,9,7,10,6,7,12,10,2,7,9,11,6,8,10,9,3,1,11,10,1,11,8,9,6,10,9,10,8,9,10,2,10,5,6,9,7,8],\"y0\":\" \",\"yaxis\":\"y\",\"type\":\"box\"}],                        {\"template\":{\"data\":{\"bar\":[{\"error_x\":{\"color\":\"#2a3f5f\"},\"error_y\":{\"color\":\"#2a3f5f\"},\"marker\":{\"line\":{\"color\":\"#E5ECF6\",\"width\":0.5},\"pattern\":{\"fillmode\":\"overlay\",\"size\":10,\"solidity\":0.2}},\"type\":\"bar\"}],\"barpolar\":[{\"marker\":{\"line\":{\"color\":\"#E5ECF6\",\"width\":0.5},\"pattern\":{\"fillmode\":\"overlay\",\"size\":10,\"solidity\":0.2}},\"type\":\"barpolar\"}],\"carpet\":[{\"aaxis\":{\"endlinecolor\":\"#2a3f5f\",\"gridcolor\":\"white\",\"linecolor\":\"white\",\"minorgridcolor\":\"white\",\"startlinecolor\":\"#2a3f5f\"},\"baxis\":{\"endlinecolor\":\"#2a3f5f\",\"gridcolor\":\"white\",\"linecolor\":\"white\",\"minorgridcolor\":\"white\",\"startlinecolor\":\"#2a3f5f\"},\"type\":\"carpet\"}],\"choropleth\":[{\"colorbar\":{\"outlinewidth\":0,\"ticks\":\"\"},\"type\":\"choropleth\"}],\"contour\":[{\"colorbar\":{\"outlinewidth\":0,\"ticks\":\"\"},\"colorscale\":[[0.0,\"#0d0887\"],[0.1111111111111111,\"#46039f\"],[0.2222222222222222,\"#7201a8\"],[0.3333333333333333,\"#9c179e\"],[0.4444444444444444,\"#bd3786\"],[0.5555555555555556,\"#d8576b\"],[0.6666666666666666,\"#ed7953\"],[0.7777777777777778,\"#fb9f3a\"],[0.8888888888888888,\"#fdca26\"],[1.0,\"#f0f921\"]],\"type\":\"contour\"}],\"contourcarpet\":[{\"colorbar\":{\"outlinewidth\":0,\"ticks\":\"\"},\"type\":\"contourcarpet\"}],\"heatmap\":[{\"colorbar\":{\"outlinewidth\":0,\"ticks\":\"\"},\"colorscale\":[[0.0,\"#0d0887\"],[0.1111111111111111,\"#46039f\"],[0.2222222222222222,\"#7201a8\"],[0.3333333333333333,\"#9c179e\"],[0.4444444444444444,\"#bd3786\"],[0.5555555555555556,\"#d8576b\"],[0.6666666666666666,\"#ed7953\"],[0.7777777777777778,\"#fb9f3a\"],[0.8888888888888888,\"#fdca26\"],[1.0,\"#f0f921\"]],\"type\":\"heatmap\"}],\"heatmapgl\":[{\"colorbar\":{\"outlinewidth\":0,\"ticks\":\"\"},\"colorscale\":[[0.0,\"#0d0887\"],[0.1111111111111111,\"#46039f\"],[0.2222222222222222,\"#7201a8\"],[0.3333333333333333,\"#9c179e\"],[0.4444444444444444,\"#bd3786\"],[0.5555555555555556,\"#d8576b\"],[0.6666666666666666,\"#ed7953\"],[0.7777777777777778,\"#fb9f3a\"],[0.8888888888888888,\"#fdca26\"],[1.0,\"#f0f921\"]],\"type\":\"heatmapgl\"}],\"histogram\":[{\"marker\":{\"pattern\":{\"fillmode\":\"overlay\",\"size\":10,\"solidity\":0.2}},\"type\":\"histogram\"}],\"histogram2d\":[{\"colorbar\":{\"outlinewidth\":0,\"ticks\":\"\"},\"colorscale\":[[0.0,\"#0d0887\"],[0.1111111111111111,\"#46039f\"],[0.2222222222222222,\"#7201a8\"],[0.3333333333333333,\"#9c179e\"],[0.4444444444444444,\"#bd3786\"],[0.5555555555555556,\"#d8576b\"],[0.6666666666666666,\"#ed7953\"],[0.7777777777777778,\"#fb9f3a\"],[0.8888888888888888,\"#fdca26\"],[1.0,\"#f0f921\"]],\"type\":\"histogram2d\"}],\"histogram2dcontour\":[{\"colorbar\":{\"outlinewidth\":0,\"ticks\":\"\"},\"colorscale\":[[0.0,\"#0d0887\"],[0.1111111111111111,\"#46039f\"],[0.2222222222222222,\"#7201a8\"],[0.3333333333333333,\"#9c179e\"],[0.4444444444444444,\"#bd3786\"],[0.5555555555555556,\"#d8576b\"],[0.6666666666666666,\"#ed7953\"],[0.7777777777777778,\"#fb9f3a\"],[0.8888888888888888,\"#fdca26\"],[1.0,\"#f0f921\"]],\"type\":\"histogram2dcontour\"}],\"mesh3d\":[{\"colorbar\":{\"outlinewidth\":0,\"ticks\":\"\"},\"type\":\"mesh3d\"}],\"parcoords\":[{\"line\":{\"colorbar\":{\"outlinewidth\":0,\"ticks\":\"\"}},\"type\":\"parcoords\"}],\"pie\":[{\"automargin\":true,\"type\":\"pie\"}],\"scatter\":[{\"marker\":{\"colorbar\":{\"outlinewidth\":0,\"ticks\":\"\"}},\"type\":\"scatter\"}],\"scatter3d\":[{\"line\":{\"colorbar\":{\"outlinewidth\":0,\"ticks\":\"\"}},\"marker\":{\"colorbar\":{\"outlinewidth\":0,\"ticks\":\"\"}},\"type\":\"scatter3d\"}],\"scattercarpet\":[{\"marker\":{\"colorbar\":{\"outlinewidth\":0,\"ticks\":\"\"}},\"type\":\"scattercarpet\"}],\"scattergeo\":[{\"marker\":{\"colorbar\":{\"outlinewidth\":0,\"ticks\":\"\"}},\"type\":\"scattergeo\"}],\"scattergl\":[{\"marker\":{\"colorbar\":{\"outlinewidth\":0,\"ticks\":\"\"}},\"type\":\"scattergl\"}],\"scattermapbox\":[{\"marker\":{\"colorbar\":{\"outlinewidth\":0,\"ticks\":\"\"}},\"type\":\"scattermapbox\"}],\"scatterpolar\":[{\"marker\":{\"colorbar\":{\"outlinewidth\":0,\"ticks\":\"\"}},\"type\":\"scatterpolar\"}],\"scatterpolargl\":[{\"marker\":{\"colorbar\":{\"outlinewidth\":0,\"ticks\":\"\"}},\"type\":\"scatterpolargl\"}],\"scatterternary\":[{\"marker\":{\"colorbar\":{\"outlinewidth\":0,\"ticks\":\"\"}},\"type\":\"scatterternary\"}],\"surface\":[{\"colorbar\":{\"outlinewidth\":0,\"ticks\":\"\"},\"colorscale\":[[0.0,\"#0d0887\"],[0.1111111111111111,\"#46039f\"],[0.2222222222222222,\"#7201a8\"],[0.3333333333333333,\"#9c179e\"],[0.4444444444444444,\"#bd3786\"],[0.5555555555555556,\"#d8576b\"],[0.6666666666666666,\"#ed7953\"],[0.7777777777777778,\"#fb9f3a\"],[0.8888888888888888,\"#fdca26\"],[1.0,\"#f0f921\"]],\"type\":\"surface\"}],\"table\":[{\"cells\":{\"fill\":{\"color\":\"#EBF0F8\"},\"line\":{\"color\":\"white\"}},\"header\":{\"fill\":{\"color\":\"#C8D4E3\"},\"line\":{\"color\":\"white\"}},\"type\":\"table\"}]},\"layout\":{\"annotationdefaults\":{\"arrowcolor\":\"#2a3f5f\",\"arrowhead\":0,\"arrowwidth\":1},\"autotypenumbers\":\"strict\",\"coloraxis\":{\"colorbar\":{\"outlinewidth\":0,\"ticks\":\"\"}},\"colorscale\":{\"diverging\":[[0,\"#8e0152\"],[0.1,\"#c51b7d\"],[0.2,\"#de77ae\"],[0.3,\"#f1b6da\"],[0.4,\"#fde0ef\"],[0.5,\"#f7f7f7\"],[0.6,\"#e6f5d0\"],[0.7,\"#b8e186\"],[0.8,\"#7fbc41\"],[0.9,\"#4d9221\"],[1,\"#276419\"]],\"sequential\":[[0.0,\"#0d0887\"],[0.1111111111111111,\"#46039f\"],[0.2222222222222222,\"#7201a8\"],[0.3333333333333333,\"#9c179e\"],[0.4444444444444444,\"#bd3786\"],[0.5555555555555556,\"#d8576b\"],[0.6666666666666666,\"#ed7953\"],[0.7777777777777778,\"#fb9f3a\"],[0.8888888888888888,\"#fdca26\"],[1.0,\"#f0f921\"]],\"sequentialminus\":[[0.0,\"#0d0887\"],[0.1111111111111111,\"#46039f\"],[0.2222222222222222,\"#7201a8\"],[0.3333333333333333,\"#9c179e\"],[0.4444444444444444,\"#bd3786\"],[0.5555555555555556,\"#d8576b\"],[0.6666666666666666,\"#ed7953\"],[0.7777777777777778,\"#fb9f3a\"],[0.8888888888888888,\"#fdca26\"],[1.0,\"#f0f921\"]]},\"colorway\":[\"#636efa\",\"#EF553B\",\"#00cc96\",\"#ab63fa\",\"#FFA15A\",\"#19d3f3\",\"#FF6692\",\"#B6E880\",\"#FF97FF\",\"#FECB52\"],\"font\":{\"color\":\"#2a3f5f\"},\"geo\":{\"bgcolor\":\"white\",\"lakecolor\":\"white\",\"landcolor\":\"#E5ECF6\",\"showlakes\":true,\"showland\":true,\"subunitcolor\":\"white\"},\"hoverlabel\":{\"align\":\"left\"},\"hovermode\":\"closest\",\"mapbox\":{\"style\":\"light\"},\"paper_bgcolor\":\"white\",\"plot_bgcolor\":\"#E5ECF6\",\"polar\":{\"angularaxis\":{\"gridcolor\":\"white\",\"linecolor\":\"white\",\"ticks\":\"\"},\"bgcolor\":\"#E5ECF6\",\"radialaxis\":{\"gridcolor\":\"white\",\"linecolor\":\"white\",\"ticks\":\"\"}},\"scene\":{\"xaxis\":{\"backgroundcolor\":\"#E5ECF6\",\"gridcolor\":\"white\",\"gridwidth\":2,\"linecolor\":\"white\",\"showbackground\":true,\"ticks\":\"\",\"zerolinecolor\":\"white\"},\"yaxis\":{\"backgroundcolor\":\"#E5ECF6\",\"gridcolor\":\"white\",\"gridwidth\":2,\"linecolor\":\"white\",\"showbackground\":true,\"ticks\":\"\",\"zerolinecolor\":\"white\"},\"zaxis\":{\"backgroundcolor\":\"#E5ECF6\",\"gridcolor\":\"white\",\"gridwidth\":2,\"linecolor\":\"white\",\"showbackground\":true,\"ticks\":\"\",\"zerolinecolor\":\"white\"}},\"shapedefaults\":{\"line\":{\"color\":\"#2a3f5f\"}},\"ternary\":{\"aaxis\":{\"gridcolor\":\"white\",\"linecolor\":\"white\",\"ticks\":\"\"},\"baxis\":{\"gridcolor\":\"white\",\"linecolor\":\"white\",\"ticks\":\"\"},\"bgcolor\":\"#E5ECF6\",\"caxis\":{\"gridcolor\":\"white\",\"linecolor\":\"white\",\"ticks\":\"\"}},\"title\":{\"x\":0.05},\"xaxis\":{\"automargin\":true,\"gridcolor\":\"white\",\"linecolor\":\"white\",\"ticks\":\"\",\"title\":{\"standoff\":15},\"zerolinecolor\":\"white\",\"zerolinewidth\":2},\"yaxis\":{\"automargin\":true,\"gridcolor\":\"white\",\"linecolor\":\"white\",\"ticks\":\"\",\"title\":{\"standoff\":15},\"zerolinecolor\":\"white\",\"zerolinewidth\":2}}},\"xaxis\":{\"anchor\":\"y\",\"domain\":[0.0,1.0],\"range\":[-5,5]},\"yaxis\":{\"anchor\":\"x\",\"domain\":[0.0,1.0],\"title\":{\"text\":\"rating_numerator\"},\"range\":[0,20]},\"legend\":{\"tracegroupgap\":0},\"margin\":{\"t\":60},\"boxmode\":\"group\",\"height\":500,\"width\":500},                        {\"responsive\": true}                    ).then(function(){\n",
       "                            \n",
       "var gd = document.getElementById('e66878dd-2fca-42a3-a8c6-1e7d2a08e5bf');\n",
       "var x = new MutationObserver(function (mutations, observer) {{\n",
       "        var display = window.getComputedStyle(gd).display;\n",
       "        if (!display || display === 'none') {{\n",
       "            console.log([gd, 'removed!']);\n",
       "            Plotly.purge(gd);\n",
       "            observer.disconnect();\n",
       "        }}\n",
       "}});\n",
       "\n",
       "// Listen for the removal of the full notebook cells\n",
       "var notebookContainer = gd.closest('#notebook-container');\n",
       "if (notebookContainer) {{\n",
       "    x.observe(notebookContainer, {childList: true});\n",
       "}}\n",
       "\n",
       "// Listen for the clearing of the current output cell\n",
       "var outputEl = gd.closest('.output');\n",
       "if (outputEl) {{\n",
       "    x.observe(outputEl, {childList: true});\n",
       "}}\n",
       "\n",
       "                        })                };                            </script>        </div>\n",
       "</body>\n",
       "</html>"
      ]
     },
     "metadata": {},
     "output_type": "display_data"
    }
   ],
   "source": [
    "import matplotlib.pyplot as plt\n",
    "import plotly.express as px\n",
    "\n",
    "fig = px.box(df_tw_enhanced_cp[['rating_numerator']], y='rating_numerator', range_x=[-5,5], range_y=[0,20], width=500, height=500)\n",
    "fig.show()"
   ]
  },
  {
   "cell_type": "markdown",
   "metadata": {
    "id": "Qcg1iPtt8Gyr"
   },
   "source": [
    "The upper fence is 15, so we will remove all values of 'rating_numerator' that are larger than 15 (outliers)."
   ]
  },
  {
   "cell_type": "markdown",
   "metadata": {
    "id": "mDMF8Rj8t7KY"
   },
   "source": [
    "#### Code"
   ]
  },
  {
   "cell_type": "code",
   "execution_count": null,
   "metadata": {
    "id": "GLL8ie9qBrdc"
   },
   "outputs": [],
   "source": [
    "df_tw_enhanced_cp = df_tw_enhanced_cp[df_tw_enhanced_cp['rating_numerator'] <= 15]"
   ]
  },
  {
   "cell_type": "code",
   "execution_count": null,
   "metadata": {
    "colab": {
     "base_uri": "https://localhost:8080/"
    },
    "executionInfo": {
     "elapsed": 330,
     "status": "ok",
     "timestamp": 1655111329390,
     "user": {
      "displayName": "Xấu Xa Kẻ",
      "userId": "08263153180530503733"
     },
     "user_tz": -420
    },
    "id": "I51BL9kWB_rB",
    "outputId": "cd490597-a26f-4404-f2c1-505fafe41a2f"
   },
   "outputs": [
    {
     "data": {
      "text/plain": [
       "(2330, 17)"
      ]
     },
     "execution_count": 32,
     "metadata": {},
     "output_type": "execute_result"
    }
   ],
   "source": [
    "df_tw_enhanced_cp.shape"
   ]
  },
  {
   "cell_type": "markdown",
   "metadata": {
    "id": "SzwYeAQLt7Ka"
   },
   "source": [
    "#### Test"
   ]
  },
  {
   "cell_type": "code",
   "execution_count": null,
   "metadata": {
    "colab": {
     "base_uri": "https://localhost:8080/",
     "height": 517
    },
    "executionInfo": {
     "elapsed": 919,
     "status": "ok",
     "timestamp": 1655111332884,
     "user": {
      "displayName": "Xấu Xa Kẻ",
      "userId": "08263153180530503733"
     },
     "user_tz": -420
    },
    "id": "IRprfZ-Bt7Kb",
    "outputId": "e159b070-0815-4931-80f2-c40601183a5c"
   },
   "outputs": [
    {
     "data": {
      "text/html": [
       "<html>\n",
       "<head><meta charset=\"utf-8\" /></head>\n",
       "<body>\n",
       "    <div>            <script src=\"https://cdnjs.cloudflare.com/ajax/libs/mathjax/2.7.5/MathJax.js?config=TeX-AMS-MML_SVG\"></script><script type=\"text/javascript\">if (window.MathJax) {MathJax.Hub.Config({SVG: {font: \"STIX-Web\"}});}</script>                <script type=\"text/javascript\">window.PlotlyConfig = {MathJaxConfig: 'local'};</script>\n",
       "        <script src=\"https://cdn.plot.ly/plotly-2.8.3.min.js\"></script>                <div id=\"be9138d1-082f-43f6-bf5a-37a6128c66ef\" class=\"plotly-graph-div\" style=\"height:500px; width:500px;\"></div>            <script type=\"text/javascript\">                                    window.PLOTLYENV=window.PLOTLYENV || {};                                    if (document.getElementById(\"be9138d1-082f-43f6-bf5a-37a6128c66ef\")) {                    Plotly.newPlot(                        \"be9138d1-082f-43f6-bf5a-37a6128c66ef\",                        [{\"alignmentgroup\":\"True\",\"hovertemplate\":\"rating_numerator=%{y}<extra></extra>\",\"legendgroup\":\"\",\"marker\":{\"color\":\"#636efa\"},\"name\":\"\",\"notched\":false,\"offsetgroup\":\"\",\"orientation\":\"v\",\"showlegend\":false,\"x0\":\" \",\"xaxis\":\"x\",\"y\":[13,13,12,13,12,13,13,13,13,14,13,13,13,12,13,13,12,13,13,13,12,13,14,13,13,12,13,13,13,12,12,13,12,12,13,14,13,13,12,13,13,14,13,12,12,5,13,13,13,12,13,13,13,12,13,14,12,13,12,12,12,11,13,14,12,13,12,14,11,13,13,13,13,11,13,14,13,14,12,13,12,12,14,13,13,13,13,13,12,12,12,13,12,13,14,13,12,12,12,13,14,13,12,13,12,13,12,12,12,14,13,11,10,13,13,13,14,12,13,13,12,13,14,12,13,12,12,13,12,13,13,13,13,12,13,12,12,13,13,13,14,12,13,13,13,13,12,12,14,13,13,11,13,13,13,13,13,12,13,13,13,13,12,14,10,12,13,13,12,13,12,13,13,12,12,13,13,13,12,13,12,13,12,14,14,14,14,13,13,13,12,12,14,12,13,13,14,11,12,13,13,13,12,12,13,13,14,12,13,10,11,14,13,11,13,13,11,12,12,12,12,11,13,12,12,11,6,11,13,10,12,13,12,12,11,11,13,13,11,13,13,12,13,12,12,13,12,12,13,12,13,11,12,13,12,11,13,13,13,12,13,12,12,13,12,14,12,13,12,12,12,10,10,12,13,12,13,12,10,13,13,13,15,13,13,13,13,15,13,12,13,12,13,13,14,12,12,11,11,13,12,13,13,12,11,12,13,12,12,12,0,12,13,13,12,12,12,11,10,12,12,13,12,13,13,12,13,12,13,13,10,12,12,11,14,13,11,12,12,12,12,14,13,13,13,12,13,12,12,12,13,12,13,12,12,12,11,13,12,13,12,13,10,14,12,12,14,13,12,12,13,11,12,12,13,12,12,13,12,13,10,7,13,12,11,13,13,11,12,14,13,12,12,11,12,13,13,11,14,12,12,12,11,13,11,11,12,13,12,13,12,13,14,11,11,13,12,13,13,12,14,13,12,11,12,12,13,14,13,14,12,13,13,11,11,13,12,10,12,14,14,14,14,11,13,12,11,11,13,12,11,12,13,13,12,7,13,11,13,13,13,11,12,12,12,13,11,12,11,11,11,13,12,11,12,13,11,12,9,12,12,11,11,14,12,13,11,13,12,12,13,12,11,12,11,11,12,13,10,10,12,13,12,13,11,13,11,10,11,11,11,13,12,10,12,12,12,11,13,12,12,11,13,12,12,14,13,12,12,13,12,13,11,12,11,10,12,12,12,13,12,12,12,13,13,13,12,13,13,12,11,11,12,12,11,12,13,11,13,12,13,12,11,12,10,13,11,12,11,11,12,11,12,11,12,11,13,11,13,13,12,14,11,11,12,11,11,10,10,12,11,8,13,10,10,12,10,1,11,13,12,12,12,11,11,12,11,13,12,12,11,11,13,11,12,13,13,12,11,12,12,12,12,14,12,13,13,12,12,13,12,12,13,11,10,12,11,12,11,13,11,13,12,12,12,11,13,12,11,14,13,12,12,11,12,12,12,12,11,12,11,11,12,12,13,13,12,12,13,12,10,12,11,12,13,11,13,13,11,12,11,13,11,10,12,12,11,12,11,13,12,11,13,11,12,12,10,11,10,12,11,13,11,12,12,12,13,12,12,11,13,11,12,11,12,11,10,11,12,12,11,5,11,12,12,11,10,13,10,11,12,12,12,12,11,11,8,10,11,12,11,12,13,11,13,13,11,10,11,14,10,13,11,12,8,3,12,12,12,12,13,12,11,11,13,10,11,10,12,12,11,13,11,12,9,13,12,10,14,11,12,12,10,11,11,12,10,12,11,11,10,10,12,10,12,10,11,13,11,12,11,11,11,12,7,12,10,11,13,11,11,10,12,10,12,13,13,12,12,10,11,10,12,12,11,8,10,11,12,13,13,10,10,13,11,9,12,12,12,11,12,12,13,11,10,12,10,12,11,8,8,10,11,12,12,11,14,12,10,11,10,11,13,10,11,10,11,11,11,12,12,12,13,4,10,11,12,10,11,12,10,10,11,10,12,11,7,11,11,13,12,11,10,11,13,9,10,11,11,12,11,4,13,10,8,11,12,11,13,11,12,10,12,14,13,11,11,12,10,11,10,12,10,11,12,8,12,11,13,10,12,11,11,10,10,9,11,8,13,12,13,11,12,11,13,5,10,12,10,12,10,11,12,8,12,9,13,13,11,10,11,12,10,11,13,10,11,12,12,11,10,10,12,11,11,8,10,13,13,11,10,6,12,10,13,11,7,13,10,11,8,11,4,12,12,10,11,10,10,12,13,11,10,11,0,11,13,10,11,12,11,10,10,9,10,11,10,7,10,9,12,11,12,9,12,10,11,13,12,11,10,10,10,7,11,13,10,12,10,11,10,14,12,11,12,8,10,11,9,12,11,12,10,9,8,11,9,10,9,10,12,10,12,12,9,10,6,13,13,11,10,11,10,9,12,10,10,10,11,13,9,13,13,13,11,10,10,11,12,11,11,8,9,10,13,11,10,10,10,10,11,12,12,11,10,11,11,12,9,10,11,11,6,11,12,13,13,10,11,13,10,8,10,12,11,12,11,12,13,10,11,9,10,11,12,10,12,9,12,11,12,13,12,11,10,10,10,11,12,12,10,8,4,12,11,11,12,10,10,11,10,9,11,10,12,10,11,10,11,10,12,10,11,10,9,13,3,11,11,10,11,11,9,12,10,10,11,12,13,12,11,11,13,10,11,10,12,11,10,10,12,12,9,12,10,4,12,10,10,8,13,10,12,12,12,11,10,10,10,10,10,11,12,10,7,11,6,12,10,11,10,13,9,11,3,11,12,10,12,12,12,12,11,11,13,11,8,11,12,12,12,12,12,9,10,8,11,11,13,10,9,8,9,10,10,11,11,13,11,12,10,11,10,11,9,10,13,12,12,11,11,10,12,7,10,12,4,11,10,9,10,10,11,10,12,11,13,3,12,9,10,11,12,12,12,11,11,12,7,13,10,12,10,11,11,12,12,11,11,9,10,12,12,10,12,7,13,12,13,11,12,10,12,8,10,10,11,10,9,10,12,9,12,11,10,6,12,11,10,11,12,13,12,11,9,12,11,11,11,10,9,10,12,11,12,10,7,11,10,12,6,10,11,10,6,10,9,11,12,10,11,5,12,12,10,11,11,10,3,8,12,12,13,13,11,10,10,7,12,9,10,11,11,9,10,11,11,10,10,8,11,11,8,9,11,10,8,10,10,12,9,12,9,10,10,9,10,1,12,7,10,11,13,13,8,12,10,10,12,11,4,6,5,10,12,10,10,11,9,10,9,11,12,10,7,10,9,12,10,3,11,11,10,12,11,9,12,11,10,9,10,10,10,12,13,12,10,10,9,7,12,10,13,13,9,8,10,10,10,5,12,12,13,11,11,12,12,11,10,12,13,8,10,11,12,11,10,11,9,12,11,10,12,10,10,12,12,11,9,11,12,8,10,11,12,12,13,9,10,10,10,9,10,11,8,10,7,9,12,8,9,12,12,13,10,10,11,13,12,12,11,11,9,11,7,12,11,10,10,11,7,9,11,11,5,11,11,12,8,12,11,11,10,12,11,10,10,12,11,4,12,11,3,11,8,9,14,9,12,7,14,9,10,10,11,11,10,11,11,5,5,12,11,12,11,5,13,11,10,12,4,12,10,10,12,6,9,10,10,12,11,10,10,10,5,9,12,9,11,11,11,11,8,10,11,10,9,10,12,9,10,7,12,9,12,11,12,8,7,11,9,9,9,11,12,11,10,11,5,12,10,11,7,12,12,8,12,5,9,11,3,12,11,9,10,11,11,9,9,4,10,11,9,12,9,10,6,9,8,12,10,11,10,12,11,10,12,10,10,9,11,12,9,10,5,10,11,7,10,13,10,9,8,8,7,11,7,8,9,11,10,11,8,10,12,11,9,11,12,11,12,7,11,8,10,10,6,10,2,10,10,2,10,12,12,11,10,12,10,10,9,13,12,11,10,9,10,9,11,9,12,11,10,6,10,12,9,12,9,9,10,10,5,10,11,9,11,10,8,6,12,9,8,10,5,10,11,12,9,10,13,12,12,9,11,7,5,8,8,12,9,11,11,10,10,8,10,9,10,10,8,11,3,9,10,6,10,11,11,9,10,10,11,10,11,12,12,11,10,11,10,10,12,13,11,10,5,12,13,12,13,13,12,10,1,12,10,7,9,5,10,8,9,11,10,10,12,13,10,11,13,13,9,8,11,12,10,12,12,10,11,11,10,3,9,10,5,11,12,5,13,13,10,9,12,10,10,8,10,13,8,12,11,10,8,2,9,10,11,11,5,10,10,3,12,12,9,10,10,11,10,10,11,3,10,1,4,10,12,12,10,8,3,8,11,9,11,13,12,10,10,7,11,8,7,11,8,11,12,9,7,11,10,11,10,8,11,6,10,8,12,8,10,9,5,10,7,11,10,9,11,6,8,10,9,9,12,6,9,11,9,10,8,7,10,10,10,12,8,12,11,10,10,8,11,10,12,7,5,9,9,10,8,12,11,9,11,7,10,11,11,5,10,10,8,13,10,9,6,11,11,13,13,1,10,6,10,8,9,6,10,10,9,8,11,11,8,10,11,7,11,9,10,9,10,12,10,8,5,11,12,9,9,10,8,4,6,8,12,10,4,7,10,2,12,10,10,10,11,10,10,11,7,9,8,1,5,7,10,10,9,8,10,12,6,8,8,8,10,10,10,7,11,5,10,11,10,11,10,11,9,12,10,6,12,10,10,8,12,9,10,11,9,11,9,10,10,10,5,11,3,11,10,5,10,9,10,10,11,12,10,10,8,11,10,9,8,5,12,10,10,6,10,7,9,10,10,6,10,10,10,11,8,10,10,12,13,11,8,10,9,10,10,12,11,5,8,3,7,9,4,12,11,12,10,10,9,11,11,11,11,10,7,10,11,11,3,10,10,10,5,9,10,10,10,7,13,11,10,10,8,12,10,8,9,11,4,9,10,11,10,10,13,8,10,10,10,8,12,7,9,2,6,3,9,10,5,9,11,10,2,10,10,9,12,10,12,8,9,8,9,11,7,12,5,1,9,10,9,8,10,12,8,12,11,9,7,11,7,11,6,10,12,7,8,10,9,11,12,10,10,8,4,9,10,10,11,12,10,10,7,10,10,8,10,12,9,10,11,3,10,12,9,8,2,10,5,10,8,8,4,9,10,9,7,10,6,7,12,10,2,7,9,11,6,8,10,9,3,1,11,10,1,11,8,9,6,10,9,10,8,9,10,2,10,5,6,9,7,8],\"y0\":\" \",\"yaxis\":\"y\",\"type\":\"box\"}],                        {\"template\":{\"data\":{\"bar\":[{\"error_x\":{\"color\":\"#2a3f5f\"},\"error_y\":{\"color\":\"#2a3f5f\"},\"marker\":{\"line\":{\"color\":\"#E5ECF6\",\"width\":0.5},\"pattern\":{\"fillmode\":\"overlay\",\"size\":10,\"solidity\":0.2}},\"type\":\"bar\"}],\"barpolar\":[{\"marker\":{\"line\":{\"color\":\"#E5ECF6\",\"width\":0.5},\"pattern\":{\"fillmode\":\"overlay\",\"size\":10,\"solidity\":0.2}},\"type\":\"barpolar\"}],\"carpet\":[{\"aaxis\":{\"endlinecolor\":\"#2a3f5f\",\"gridcolor\":\"white\",\"linecolor\":\"white\",\"minorgridcolor\":\"white\",\"startlinecolor\":\"#2a3f5f\"},\"baxis\":{\"endlinecolor\":\"#2a3f5f\",\"gridcolor\":\"white\",\"linecolor\":\"white\",\"minorgridcolor\":\"white\",\"startlinecolor\":\"#2a3f5f\"},\"type\":\"carpet\"}],\"choropleth\":[{\"colorbar\":{\"outlinewidth\":0,\"ticks\":\"\"},\"type\":\"choropleth\"}],\"contour\":[{\"colorbar\":{\"outlinewidth\":0,\"ticks\":\"\"},\"colorscale\":[[0.0,\"#0d0887\"],[0.1111111111111111,\"#46039f\"],[0.2222222222222222,\"#7201a8\"],[0.3333333333333333,\"#9c179e\"],[0.4444444444444444,\"#bd3786\"],[0.5555555555555556,\"#d8576b\"],[0.6666666666666666,\"#ed7953\"],[0.7777777777777778,\"#fb9f3a\"],[0.8888888888888888,\"#fdca26\"],[1.0,\"#f0f921\"]],\"type\":\"contour\"}],\"contourcarpet\":[{\"colorbar\":{\"outlinewidth\":0,\"ticks\":\"\"},\"type\":\"contourcarpet\"}],\"heatmap\":[{\"colorbar\":{\"outlinewidth\":0,\"ticks\":\"\"},\"colorscale\":[[0.0,\"#0d0887\"],[0.1111111111111111,\"#46039f\"],[0.2222222222222222,\"#7201a8\"],[0.3333333333333333,\"#9c179e\"],[0.4444444444444444,\"#bd3786\"],[0.5555555555555556,\"#d8576b\"],[0.6666666666666666,\"#ed7953\"],[0.7777777777777778,\"#fb9f3a\"],[0.8888888888888888,\"#fdca26\"],[1.0,\"#f0f921\"]],\"type\":\"heatmap\"}],\"heatmapgl\":[{\"colorbar\":{\"outlinewidth\":0,\"ticks\":\"\"},\"colorscale\":[[0.0,\"#0d0887\"],[0.1111111111111111,\"#46039f\"],[0.2222222222222222,\"#7201a8\"],[0.3333333333333333,\"#9c179e\"],[0.4444444444444444,\"#bd3786\"],[0.5555555555555556,\"#d8576b\"],[0.6666666666666666,\"#ed7953\"],[0.7777777777777778,\"#fb9f3a\"],[0.8888888888888888,\"#fdca26\"],[1.0,\"#f0f921\"]],\"type\":\"heatmapgl\"}],\"histogram\":[{\"marker\":{\"pattern\":{\"fillmode\":\"overlay\",\"size\":10,\"solidity\":0.2}},\"type\":\"histogram\"}],\"histogram2d\":[{\"colorbar\":{\"outlinewidth\":0,\"ticks\":\"\"},\"colorscale\":[[0.0,\"#0d0887\"],[0.1111111111111111,\"#46039f\"],[0.2222222222222222,\"#7201a8\"],[0.3333333333333333,\"#9c179e\"],[0.4444444444444444,\"#bd3786\"],[0.5555555555555556,\"#d8576b\"],[0.6666666666666666,\"#ed7953\"],[0.7777777777777778,\"#fb9f3a\"],[0.8888888888888888,\"#fdca26\"],[1.0,\"#f0f921\"]],\"type\":\"histogram2d\"}],\"histogram2dcontour\":[{\"colorbar\":{\"outlinewidth\":0,\"ticks\":\"\"},\"colorscale\":[[0.0,\"#0d0887\"],[0.1111111111111111,\"#46039f\"],[0.2222222222222222,\"#7201a8\"],[0.3333333333333333,\"#9c179e\"],[0.4444444444444444,\"#bd3786\"],[0.5555555555555556,\"#d8576b\"],[0.6666666666666666,\"#ed7953\"],[0.7777777777777778,\"#fb9f3a\"],[0.8888888888888888,\"#fdca26\"],[1.0,\"#f0f921\"]],\"type\":\"histogram2dcontour\"}],\"mesh3d\":[{\"colorbar\":{\"outlinewidth\":0,\"ticks\":\"\"},\"type\":\"mesh3d\"}],\"parcoords\":[{\"line\":{\"colorbar\":{\"outlinewidth\":0,\"ticks\":\"\"}},\"type\":\"parcoords\"}],\"pie\":[{\"automargin\":true,\"type\":\"pie\"}],\"scatter\":[{\"marker\":{\"colorbar\":{\"outlinewidth\":0,\"ticks\":\"\"}},\"type\":\"scatter\"}],\"scatter3d\":[{\"line\":{\"colorbar\":{\"outlinewidth\":0,\"ticks\":\"\"}},\"marker\":{\"colorbar\":{\"outlinewidth\":0,\"ticks\":\"\"}},\"type\":\"scatter3d\"}],\"scattercarpet\":[{\"marker\":{\"colorbar\":{\"outlinewidth\":0,\"ticks\":\"\"}},\"type\":\"scattercarpet\"}],\"scattergeo\":[{\"marker\":{\"colorbar\":{\"outlinewidth\":0,\"ticks\":\"\"}},\"type\":\"scattergeo\"}],\"scattergl\":[{\"marker\":{\"colorbar\":{\"outlinewidth\":0,\"ticks\":\"\"}},\"type\":\"scattergl\"}],\"scattermapbox\":[{\"marker\":{\"colorbar\":{\"outlinewidth\":0,\"ticks\":\"\"}},\"type\":\"scattermapbox\"}],\"scatterpolar\":[{\"marker\":{\"colorbar\":{\"outlinewidth\":0,\"ticks\":\"\"}},\"type\":\"scatterpolar\"}],\"scatterpolargl\":[{\"marker\":{\"colorbar\":{\"outlinewidth\":0,\"ticks\":\"\"}},\"type\":\"scatterpolargl\"}],\"scatterternary\":[{\"marker\":{\"colorbar\":{\"outlinewidth\":0,\"ticks\":\"\"}},\"type\":\"scatterternary\"}],\"surface\":[{\"colorbar\":{\"outlinewidth\":0,\"ticks\":\"\"},\"colorscale\":[[0.0,\"#0d0887\"],[0.1111111111111111,\"#46039f\"],[0.2222222222222222,\"#7201a8\"],[0.3333333333333333,\"#9c179e\"],[0.4444444444444444,\"#bd3786\"],[0.5555555555555556,\"#d8576b\"],[0.6666666666666666,\"#ed7953\"],[0.7777777777777778,\"#fb9f3a\"],[0.8888888888888888,\"#fdca26\"],[1.0,\"#f0f921\"]],\"type\":\"surface\"}],\"table\":[{\"cells\":{\"fill\":{\"color\":\"#EBF0F8\"},\"line\":{\"color\":\"white\"}},\"header\":{\"fill\":{\"color\":\"#C8D4E3\"},\"line\":{\"color\":\"white\"}},\"type\":\"table\"}]},\"layout\":{\"annotationdefaults\":{\"arrowcolor\":\"#2a3f5f\",\"arrowhead\":0,\"arrowwidth\":1},\"autotypenumbers\":\"strict\",\"coloraxis\":{\"colorbar\":{\"outlinewidth\":0,\"ticks\":\"\"}},\"colorscale\":{\"diverging\":[[0,\"#8e0152\"],[0.1,\"#c51b7d\"],[0.2,\"#de77ae\"],[0.3,\"#f1b6da\"],[0.4,\"#fde0ef\"],[0.5,\"#f7f7f7\"],[0.6,\"#e6f5d0\"],[0.7,\"#b8e186\"],[0.8,\"#7fbc41\"],[0.9,\"#4d9221\"],[1,\"#276419\"]],\"sequential\":[[0.0,\"#0d0887\"],[0.1111111111111111,\"#46039f\"],[0.2222222222222222,\"#7201a8\"],[0.3333333333333333,\"#9c179e\"],[0.4444444444444444,\"#bd3786\"],[0.5555555555555556,\"#d8576b\"],[0.6666666666666666,\"#ed7953\"],[0.7777777777777778,\"#fb9f3a\"],[0.8888888888888888,\"#fdca26\"],[1.0,\"#f0f921\"]],\"sequentialminus\":[[0.0,\"#0d0887\"],[0.1111111111111111,\"#46039f\"],[0.2222222222222222,\"#7201a8\"],[0.3333333333333333,\"#9c179e\"],[0.4444444444444444,\"#bd3786\"],[0.5555555555555556,\"#d8576b\"],[0.6666666666666666,\"#ed7953\"],[0.7777777777777778,\"#fb9f3a\"],[0.8888888888888888,\"#fdca26\"],[1.0,\"#f0f921\"]]},\"colorway\":[\"#636efa\",\"#EF553B\",\"#00cc96\",\"#ab63fa\",\"#FFA15A\",\"#19d3f3\",\"#FF6692\",\"#B6E880\",\"#FF97FF\",\"#FECB52\"],\"font\":{\"color\":\"#2a3f5f\"},\"geo\":{\"bgcolor\":\"white\",\"lakecolor\":\"white\",\"landcolor\":\"#E5ECF6\",\"showlakes\":true,\"showland\":true,\"subunitcolor\":\"white\"},\"hoverlabel\":{\"align\":\"left\"},\"hovermode\":\"closest\",\"mapbox\":{\"style\":\"light\"},\"paper_bgcolor\":\"white\",\"plot_bgcolor\":\"#E5ECF6\",\"polar\":{\"angularaxis\":{\"gridcolor\":\"white\",\"linecolor\":\"white\",\"ticks\":\"\"},\"bgcolor\":\"#E5ECF6\",\"radialaxis\":{\"gridcolor\":\"white\",\"linecolor\":\"white\",\"ticks\":\"\"}},\"scene\":{\"xaxis\":{\"backgroundcolor\":\"#E5ECF6\",\"gridcolor\":\"white\",\"gridwidth\":2,\"linecolor\":\"white\",\"showbackground\":true,\"ticks\":\"\",\"zerolinecolor\":\"white\"},\"yaxis\":{\"backgroundcolor\":\"#E5ECF6\",\"gridcolor\":\"white\",\"gridwidth\":2,\"linecolor\":\"white\",\"showbackground\":true,\"ticks\":\"\",\"zerolinecolor\":\"white\"},\"zaxis\":{\"backgroundcolor\":\"#E5ECF6\",\"gridcolor\":\"white\",\"gridwidth\":2,\"linecolor\":\"white\",\"showbackground\":true,\"ticks\":\"\",\"zerolinecolor\":\"white\"}},\"shapedefaults\":{\"line\":{\"color\":\"#2a3f5f\"}},\"ternary\":{\"aaxis\":{\"gridcolor\":\"white\",\"linecolor\":\"white\",\"ticks\":\"\"},\"baxis\":{\"gridcolor\":\"white\",\"linecolor\":\"white\",\"ticks\":\"\"},\"bgcolor\":\"#E5ECF6\",\"caxis\":{\"gridcolor\":\"white\",\"linecolor\":\"white\",\"ticks\":\"\"}},\"title\":{\"x\":0.05},\"xaxis\":{\"automargin\":true,\"gridcolor\":\"white\",\"linecolor\":\"white\",\"ticks\":\"\",\"title\":{\"standoff\":15},\"zerolinecolor\":\"white\",\"zerolinewidth\":2},\"yaxis\":{\"automargin\":true,\"gridcolor\":\"white\",\"linecolor\":\"white\",\"ticks\":\"\",\"title\":{\"standoff\":15},\"zerolinecolor\":\"white\",\"zerolinewidth\":2}}},\"xaxis\":{\"anchor\":\"y\",\"domain\":[0.0,1.0],\"range\":[-5,5]},\"yaxis\":{\"anchor\":\"x\",\"domain\":[0.0,1.0],\"title\":{\"text\":\"rating_numerator\"},\"range\":[0,20]},\"legend\":{\"tracegroupgap\":0},\"margin\":{\"t\":60},\"boxmode\":\"group\",\"height\":500,\"width\":500},                        {\"responsive\": true}                    ).then(function(){\n",
       "                            \n",
       "var gd = document.getElementById('be9138d1-082f-43f6-bf5a-37a6128c66ef');\n",
       "var x = new MutationObserver(function (mutations, observer) {{\n",
       "        var display = window.getComputedStyle(gd).display;\n",
       "        if (!display || display === 'none') {{\n",
       "            console.log([gd, 'removed!']);\n",
       "            Plotly.purge(gd);\n",
       "            observer.disconnect();\n",
       "        }}\n",
       "}});\n",
       "\n",
       "// Listen for the removal of the full notebook cells\n",
       "var notebookContainer = gd.closest('#notebook-container');\n",
       "if (notebookContainer) {{\n",
       "    x.observe(notebookContainer, {childList: true});\n",
       "}}\n",
       "\n",
       "// Listen for the clearing of the current output cell\n",
       "var outputEl = gd.closest('.output');\n",
       "if (outputEl) {{\n",
       "    x.observe(outputEl, {childList: true});\n",
       "}}\n",
       "\n",
       "                        })                };                            </script>        </div>\n",
       "</body>\n",
       "</html>"
      ]
     },
     "metadata": {},
     "output_type": "display_data"
    }
   ],
   "source": [
    "fig_test = px.box(df_tw_enhanced_cp[['rating_numerator']], y='rating_numerator', range_x=[-5,5], range_y=[0,20], width=500, height=500)\n",
    "fig_test.show()"
   ]
  },
  {
   "cell_type": "markdown",
   "metadata": {
    "id": "ZtS0qUtjt_Bx"
   },
   "source": [
    "### Issue #4:\n",
    "- Quality: Columns \"rating_denominator\" have values larger than 10."
   ]
  },
  {
   "cell_type": "markdown",
   "metadata": {
    "collapsed": true,
    "extensions": {
     "jupyter_dashboards": {
      "version": 1,
      "views": {
       "grid_default": {
        "hidden": true
       },
       "report_default": {
        "hidden": true
       }
      }
     }
    },
    "id": "CzoD2rs5t_By"
   },
   "source": [
    "#### Define\n",
    "- Use filter on the dataframe column 'rating_denominator' for all values  equal to 10"
   ]
  },
  {
   "cell_type": "markdown",
   "metadata": {
    "id": "6_fPa_EPt_By"
   },
   "source": [
    "#### Code"
   ]
  },
  {
   "cell_type": "code",
   "execution_count": null,
   "metadata": {
    "id": "5H9v5mrht_Bz"
   },
   "outputs": [],
   "source": [
    "df_tw_enhanced_cp = df_tw_enhanced_cp[df_tw_enhanced_cp['rating_denominator'] ==10]"
   ]
  },
  {
   "cell_type": "markdown",
   "metadata": {
    "id": "ljN0e6vwt_B0"
   },
   "source": [
    "#### Test"
   ]
  },
  {
   "cell_type": "code",
   "execution_count": null,
   "metadata": {
    "colab": {
     "base_uri": "https://localhost:8080/"
    },
    "executionInfo": {
     "elapsed": 451,
     "status": "ok",
     "timestamp": 1655111341047,
     "user": {
      "displayName": "Xấu Xa Kẻ",
      "userId": "08263153180530503733"
     },
     "user_tz": -420
    },
    "id": "EzwFhcT-t_B0",
    "outputId": "560c3b39-aa4f-44ef-8c27-85895c3c0375"
   },
   "outputs": [
    {
     "data": {
      "text/plain": [
       "10    2323\n",
       "Name: rating_denominator, dtype: int64"
      ]
     },
     "execution_count": 35,
     "metadata": {},
     "output_type": "execute_result"
    }
   ],
   "source": [
    "df_tw_enhanced_cp['rating_denominator'].value_counts()"
   ]
  },
  {
   "cell_type": "markdown",
   "metadata": {
    "id": "0KrIwTlSuApo"
   },
   "source": [
    "### Issue #5:\n",
    "- Quality: Some prediction results in \"df_img_pred\" are not dog (columns \"p1_dog\", \"p2_dog\" and \"p3_dog\" are all \"False\")."
   ]
  },
  {
   "cell_type": "markdown",
   "metadata": {
    "collapsed": true,
    "extensions": {
     "jupyter_dashboards": {
      "version": 1,
      "views": {
       "grid_default": {
        "hidden": true
       },
       "report_default": {
        "hidden": true
       }
      }
     }
    },
    "id": "vmacxQ0GuApp"
   },
   "source": [
    "#### Define\n",
    "- Filter for all rows in the dataset that have at least one field among p1_dog, p2_dog and p3_dog that are True (meaning the image has a dog in it)."
   ]
  },
  {
   "cell_type": "markdown",
   "metadata": {
    "id": "MlRx_uvWuApp"
   },
   "source": [
    "#### Code"
   ]
  },
  {
   "cell_type": "code",
   "execution_count": null,
   "metadata": {
    "id": "1Az4R8z3uApp"
   },
   "outputs": [],
   "source": [
    "df_img_pred_cp = df_img_pred_cp[(df_img_pred_cp['p1_dog'] == True) | (df_img_pred_cp['p2_dog'] == True) | (df_img_pred_cp['p3_dog'] == True)]"
   ]
  },
  {
   "cell_type": "markdown",
   "metadata": {
    "id": "1FJWkOoiuApq"
   },
   "source": [
    "#### Test"
   ]
  },
  {
   "cell_type": "code",
   "execution_count": null,
   "metadata": {
    "colab": {
     "base_uri": "https://localhost:8080/"
    },
    "executionInfo": {
     "elapsed": 2,
     "status": "ok",
     "timestamp": 1655111348240,
     "user": {
      "displayName": "Xấu Xa Kẻ",
      "userId": "08263153180530503733"
     },
     "user_tz": -420
    },
    "id": "x4QkiT6duApq",
    "outputId": "fd570cb8-6110-4bf8-ac4f-e1bf3dd39976"
   },
   "outputs": [
    {
     "data": {
      "text/plain": [
       "(0, 12)"
      ]
     },
     "execution_count": 37,
     "metadata": {},
     "output_type": "execute_result"
    }
   ],
   "source": [
    "df_img_pred_cp[(df_img_pred_cp['p1_dog'] == False) & (df_img_pred_cp['p2_dog'] == False) & (df_img_pred_cp['p3_dog'] == False)].shape"
   ]
  },
  {
   "cell_type": "markdown",
   "metadata": {
    "id": "uiZVlBSOuCNC"
   },
   "source": [
    "### Issue #6:\n",
    "- Quality: Some dog names are missing and abnormal (names is only one character and/or lowercase)."
   ]
  },
  {
   "cell_type": "markdown",
   "metadata": {
    "collapsed": true,
    "extensions": {
     "jupyter_dashboards": {
      "version": 1,
      "views": {
       "grid_default": {
        "hidden": true
       },
       "report_default": {
        "hidden": true
       }
      }
     }
    },
    "id": "83Nl_3HouCNE"
   },
   "source": [
    "#### Define\n",
    "- Get a list of abnormal dog names from the 'name' column in dataframe 'df_tw_enhanced'.\n",
    "- Filter all rows that have the field 'name' that are NOT in that list."
   ]
  },
  {
   "cell_type": "markdown",
   "metadata": {
    "id": "oYxxxSzCuCNE"
   },
   "source": [
    "#### Code"
   ]
  },
  {
   "cell_type": "code",
   "execution_count": null,
   "metadata": {
    "colab": {
     "base_uri": "https://localhost:8080/"
    },
    "executionInfo": {
     "elapsed": 593,
     "status": "ok",
     "timestamp": 1655111352801,
     "user": {
      "displayName": "Xấu Xa Kẻ",
      "userId": "08263153180530503733"
     },
     "user_tz": -420
    },
    "id": "UwgRsLpOuCNE",
    "outputId": "6c52b286-6d17-4734-8b5a-7856a231450e"
   },
   "outputs": [
    {
     "name": "stderr",
     "output_type": "stream",
     "text": [
      "/usr/local/lib/python3.7/dist-packages/ipykernel_launcher.py:1: UserWarning:\n",
      "\n",
      "Boolean Series key will be reindexed to match DataFrame index.\n",
      "\n"
     ]
    }
   ],
   "source": [
    "df_tw_enhanced_cp = df_tw_enhanced_cp[~(df_tw_enhanced_cp['name'].isin(abnormal_names)) & ~(df_tw_enhanced['name'].str.contains(\"None\"))]"
   ]
  },
  {
   "cell_type": "markdown",
   "metadata": {
    "id": "ASo9rrdduCNE"
   },
   "source": [
    "#### Test"
   ]
  },
  {
   "cell_type": "code",
   "execution_count": null,
   "metadata": {
    "colab": {
     "base_uri": "https://localhost:8080/",
     "height": 635
    },
    "executionInfo": {
     "elapsed": 355,
     "status": "ok",
     "timestamp": 1655111524408,
     "user": {
      "displayName": "Xấu Xa Kẻ",
      "userId": "08263153180530503733"
     },
     "user_tz": -420
    },
    "id": "dDsgdJUCuCNF",
    "outputId": "7edc039c-c57f-484c-ff8d-1414205af0e8"
   },
   "outputs": [
    {
     "data": {
      "text/html": [
       "\n",
       "  <div id=\"df-3131a8c2-6759-4b7d-b8c9-6fef43e7c5b4\">\n",
       "    <div class=\"colab-df-container\">\n",
       "      <div>\n",
       "<style scoped>\n",
       "    .dataframe tbody tr th:only-of-type {\n",
       "        vertical-align: middle;\n",
       "    }\n",
       "\n",
       "    .dataframe tbody tr th {\n",
       "        vertical-align: top;\n",
       "    }\n",
       "\n",
       "    .dataframe thead th {\n",
       "        text-align: right;\n",
       "    }\n",
       "</style>\n",
       "<table border=\"1\" class=\"dataframe\">\n",
       "  <thead>\n",
       "    <tr style=\"text-align: right;\">\n",
       "      <th></th>\n",
       "      <th>tweet_id</th>\n",
       "      <th>in_reply_to_status_id</th>\n",
       "      <th>in_reply_to_user_id</th>\n",
       "      <th>timestamp</th>\n",
       "      <th>source</th>\n",
       "      <th>text</th>\n",
       "      <th>retweeted_status_id</th>\n",
       "      <th>retweeted_status_user_id</th>\n",
       "      <th>retweeted_status_timestamp</th>\n",
       "      <th>expanded_urls</th>\n",
       "      <th>rating_numerator</th>\n",
       "      <th>rating_denominator</th>\n",
       "      <th>name</th>\n",
       "      <th>doggo</th>\n",
       "      <th>floofer</th>\n",
       "      <th>pupper</th>\n",
       "      <th>puppo</th>\n",
       "    </tr>\n",
       "  </thead>\n",
       "  <tbody>\n",
       "    <tr>\n",
       "      <th>0</th>\n",
       "      <td>892420643555336193</td>\n",
       "      <td>NaN</td>\n",
       "      <td>NaN</td>\n",
       "      <td>2017-08-01 16:23:56+00:00</td>\n",
       "      <td>http://twitter.com/download/iphone</td>\n",
       "      <td>This is Phineas. He's a mystical boy. Only eve...</td>\n",
       "      <td>NaN</td>\n",
       "      <td>NaN</td>\n",
       "      <td>NaN</td>\n",
       "      <td>https://twitter.com/dog_rates/status/892420643...</td>\n",
       "      <td>13</td>\n",
       "      <td>10</td>\n",
       "      <td>Phineas</td>\n",
       "      <td>None</td>\n",
       "      <td>None</td>\n",
       "      <td>None</td>\n",
       "      <td>None</td>\n",
       "    </tr>\n",
       "    <tr>\n",
       "      <th>1</th>\n",
       "      <td>892177421306343426</td>\n",
       "      <td>NaN</td>\n",
       "      <td>NaN</td>\n",
       "      <td>2017-08-01 00:17:27+00:00</td>\n",
       "      <td>http://twitter.com/download/iphone</td>\n",
       "      <td>This is Tilly. She's just checking pup on you....</td>\n",
       "      <td>NaN</td>\n",
       "      <td>NaN</td>\n",
       "      <td>NaN</td>\n",
       "      <td>https://twitter.com/dog_rates/status/892177421...</td>\n",
       "      <td>13</td>\n",
       "      <td>10</td>\n",
       "      <td>Tilly</td>\n",
       "      <td>None</td>\n",
       "      <td>None</td>\n",
       "      <td>None</td>\n",
       "      <td>None</td>\n",
       "    </tr>\n",
       "    <tr>\n",
       "      <th>2</th>\n",
       "      <td>891815181378084864</td>\n",
       "      <td>NaN</td>\n",
       "      <td>NaN</td>\n",
       "      <td>2017-07-31 00:18:03+00:00</td>\n",
       "      <td>http://twitter.com/download/iphone</td>\n",
       "      <td>This is Archie. He is a rare Norwegian Pouncin...</td>\n",
       "      <td>NaN</td>\n",
       "      <td>NaN</td>\n",
       "      <td>NaN</td>\n",
       "      <td>https://twitter.com/dog_rates/status/891815181...</td>\n",
       "      <td>12</td>\n",
       "      <td>10</td>\n",
       "      <td>Archie</td>\n",
       "      <td>None</td>\n",
       "      <td>None</td>\n",
       "      <td>None</td>\n",
       "      <td>None</td>\n",
       "    </tr>\n",
       "    <tr>\n",
       "      <th>3</th>\n",
       "      <td>891689557279858688</td>\n",
       "      <td>NaN</td>\n",
       "      <td>NaN</td>\n",
       "      <td>2017-07-30 15:58:51+00:00</td>\n",
       "      <td>http://twitter.com/download/iphone</td>\n",
       "      <td>This is Darla. She commenced a snooze mid meal...</td>\n",
       "      <td>NaN</td>\n",
       "      <td>NaN</td>\n",
       "      <td>NaN</td>\n",
       "      <td>https://twitter.com/dog_rates/status/891689557...</td>\n",
       "      <td>13</td>\n",
       "      <td>10</td>\n",
       "      <td>Darla</td>\n",
       "      <td>None</td>\n",
       "      <td>None</td>\n",
       "      <td>None</td>\n",
       "      <td>None</td>\n",
       "    </tr>\n",
       "    <tr>\n",
       "      <th>4</th>\n",
       "      <td>891327558926688256</td>\n",
       "      <td>NaN</td>\n",
       "      <td>NaN</td>\n",
       "      <td>2017-07-29 16:00:24+00:00</td>\n",
       "      <td>http://twitter.com/download/iphone</td>\n",
       "      <td>This is Franklin. He would like you to stop ca...</td>\n",
       "      <td>NaN</td>\n",
       "      <td>NaN</td>\n",
       "      <td>NaN</td>\n",
       "      <td>https://twitter.com/dog_rates/status/891327558...</td>\n",
       "      <td>12</td>\n",
       "      <td>10</td>\n",
       "      <td>Franklin</td>\n",
       "      <td>None</td>\n",
       "      <td>None</td>\n",
       "      <td>None</td>\n",
       "      <td>None</td>\n",
       "    </tr>\n",
       "  </tbody>\n",
       "</table>\n",
       "</div>\n",
       "      <button class=\"colab-df-convert\" onclick=\"convertToInteractive('df-3131a8c2-6759-4b7d-b8c9-6fef43e7c5b4')\"\n",
       "              title=\"Convert this dataframe to an interactive table.\"\n",
       "              style=\"display:none;\">\n",
       "        \n",
       "  <svg xmlns=\"http://www.w3.org/2000/svg\" height=\"24px\"viewBox=\"0 0 24 24\"\n",
       "       width=\"24px\">\n",
       "    <path d=\"M0 0h24v24H0V0z\" fill=\"none\"/>\n",
       "    <path d=\"M18.56 5.44l.94 2.06.94-2.06 2.06-.94-2.06-.94-.94-2.06-.94 2.06-2.06.94zm-11 1L8.5 8.5l.94-2.06 2.06-.94-2.06-.94L8.5 2.5l-.94 2.06-2.06.94zm10 10l.94 2.06.94-2.06 2.06-.94-2.06-.94-.94-2.06-.94 2.06-2.06.94z\"/><path d=\"M17.41 7.96l-1.37-1.37c-.4-.4-.92-.59-1.43-.59-.52 0-1.04.2-1.43.59L10.3 9.45l-7.72 7.72c-.78.78-.78 2.05 0 2.83L4 21.41c.39.39.9.59 1.41.59.51 0 1.02-.2 1.41-.59l7.78-7.78 2.81-2.81c.8-.78.8-2.07 0-2.86zM5.41 20L4 18.59l7.72-7.72 1.47 1.35L5.41 20z\"/>\n",
       "  </svg>\n",
       "      </button>\n",
       "      \n",
       "  <style>\n",
       "    .colab-df-container {\n",
       "      display:flex;\n",
       "      flex-wrap:wrap;\n",
       "      gap: 12px;\n",
       "    }\n",
       "\n",
       "    .colab-df-convert {\n",
       "      background-color: #E8F0FE;\n",
       "      border: none;\n",
       "      border-radius: 50%;\n",
       "      cursor: pointer;\n",
       "      display: none;\n",
       "      fill: #1967D2;\n",
       "      height: 32px;\n",
       "      padding: 0 0 0 0;\n",
       "      width: 32px;\n",
       "    }\n",
       "\n",
       "    .colab-df-convert:hover {\n",
       "      background-color: #E2EBFA;\n",
       "      box-shadow: 0px 1px 2px rgba(60, 64, 67, 0.3), 0px 1px 3px 1px rgba(60, 64, 67, 0.15);\n",
       "      fill: #174EA6;\n",
       "    }\n",
       "\n",
       "    [theme=dark] .colab-df-convert {\n",
       "      background-color: #3B4455;\n",
       "      fill: #D2E3FC;\n",
       "    }\n",
       "\n",
       "    [theme=dark] .colab-df-convert:hover {\n",
       "      background-color: #434B5C;\n",
       "      box-shadow: 0px 1px 3px 1px rgba(0, 0, 0, 0.15);\n",
       "      filter: drop-shadow(0px 1px 2px rgba(0, 0, 0, 0.3));\n",
       "      fill: #FFFFFF;\n",
       "    }\n",
       "  </style>\n",
       "\n",
       "      <script>\n",
       "        const buttonEl =\n",
       "          document.querySelector('#df-3131a8c2-6759-4b7d-b8c9-6fef43e7c5b4 button.colab-df-convert');\n",
       "        buttonEl.style.display =\n",
       "          google.colab.kernel.accessAllowed ? 'block' : 'none';\n",
       "\n",
       "        async function convertToInteractive(key) {\n",
       "          const element = document.querySelector('#df-3131a8c2-6759-4b7d-b8c9-6fef43e7c5b4');\n",
       "          const dataTable =\n",
       "            await google.colab.kernel.invokeFunction('convertToInteractive',\n",
       "                                                     [key], {});\n",
       "          if (!dataTable) return;\n",
       "\n",
       "          const docLinkHtml = 'Like what you see? Visit the ' +\n",
       "            '<a target=\"_blank\" href=https://colab.research.google.com/notebooks/data_table.ipynb>data table notebook</a>'\n",
       "            + ' to learn more about interactive tables.';\n",
       "          element.innerHTML = '';\n",
       "          dataTable['output_type'] = 'display_data';\n",
       "          await google.colab.output.renderOutput(dataTable, element);\n",
       "          const docLink = document.createElement('div');\n",
       "          docLink.innerHTML = docLinkHtml;\n",
       "          element.appendChild(docLink);\n",
       "        }\n",
       "      </script>\n",
       "    </div>\n",
       "  </div>\n",
       "  "
      ],
      "text/plain": [
       "             tweet_id  in_reply_to_status_id  in_reply_to_user_id  \\\n",
       "0  892420643555336193                    NaN                  NaN   \n",
       "1  892177421306343426                    NaN                  NaN   \n",
       "2  891815181378084864                    NaN                  NaN   \n",
       "3  891689557279858688                    NaN                  NaN   \n",
       "4  891327558926688256                    NaN                  NaN   \n",
       "\n",
       "                  timestamp                              source  \\\n",
       "0 2017-08-01 16:23:56+00:00  http://twitter.com/download/iphone   \n",
       "1 2017-08-01 00:17:27+00:00  http://twitter.com/download/iphone   \n",
       "2 2017-07-31 00:18:03+00:00  http://twitter.com/download/iphone   \n",
       "3 2017-07-30 15:58:51+00:00  http://twitter.com/download/iphone   \n",
       "4 2017-07-29 16:00:24+00:00  http://twitter.com/download/iphone   \n",
       "\n",
       "                                                text  retweeted_status_id  \\\n",
       "0  This is Phineas. He's a mystical boy. Only eve...                  NaN   \n",
       "1  This is Tilly. She's just checking pup on you....                  NaN   \n",
       "2  This is Archie. He is a rare Norwegian Pouncin...                  NaN   \n",
       "3  This is Darla. She commenced a snooze mid meal...                  NaN   \n",
       "4  This is Franklin. He would like you to stop ca...                  NaN   \n",
       "\n",
       "   retweeted_status_user_id retweeted_status_timestamp  \\\n",
       "0                       NaN                        NaN   \n",
       "1                       NaN                        NaN   \n",
       "2                       NaN                        NaN   \n",
       "3                       NaN                        NaN   \n",
       "4                       NaN                        NaN   \n",
       "\n",
       "                                       expanded_urls  rating_numerator  \\\n",
       "0  https://twitter.com/dog_rates/status/892420643...                13   \n",
       "1  https://twitter.com/dog_rates/status/892177421...                13   \n",
       "2  https://twitter.com/dog_rates/status/891815181...                12   \n",
       "3  https://twitter.com/dog_rates/status/891689557...                13   \n",
       "4  https://twitter.com/dog_rates/status/891327558...                12   \n",
       "\n",
       "   rating_denominator      name doggo floofer pupper puppo  \n",
       "0                  10   Phineas  None    None   None  None  \n",
       "1                  10     Tilly  None    None   None  None  \n",
       "2                  10    Archie  None    None   None  None  \n",
       "3                  10     Darla  None    None   None  None  \n",
       "4                  10  Franklin  None    None   None  None  "
      ]
     },
     "execution_count": 39,
     "metadata": {},
     "output_type": "execute_result"
    }
   ],
   "source": [
    "df_tw_enhanced_cp.head()"
   ]
  },
  {
   "cell_type": "code",
   "execution_count": null,
   "metadata": {
    "colab": {
     "base_uri": "https://localhost:8080/"
    },
    "executionInfo": {
     "elapsed": 361,
     "status": "ok",
     "timestamp": 1655111528611,
     "user": {
      "displayName": "Xấu Xa Kẻ",
      "userId": "08263153180530503733"
     },
     "user_tz": -420
    },
    "id": "7JktFHhFOdGx",
    "outputId": "e756182b-f2e7-46e0-a0b1-8eea08b24728"
   },
   "outputs": [
    {
     "name": "stderr",
     "output_type": "stream",
     "text": [
      "/usr/local/lib/python3.7/dist-packages/ipykernel_launcher.py:1: UserWarning:\n",
      "\n",
      "Boolean Series key will be reindexed to match DataFrame index.\n",
      "\n"
     ]
    },
    {
     "data": {
      "text/plain": [
       "(0, 17)"
      ]
     },
     "execution_count": 40,
     "metadata": {},
     "output_type": "execute_result"
    }
   ],
   "source": [
    "df_tw_enhanced_cp[(df_tw_enhanced_cp['name'].isin(abnormal_names)) | (df_tw_enhanced['name'].str.contains(\"None\"))].shape"
   ]
  },
  {
   "cell_type": "markdown",
   "metadata": {
    "id": "8xJXnWo3uD19"
   },
   "source": [
    "### Issue #7:\n",
    "- Quality: The retweet rows in the dataset are not necessary."
   ]
  },
  {
   "cell_type": "markdown",
   "metadata": {
    "collapsed": true,
    "extensions": {
     "jupyter_dashboards": {
      "version": 1,
      "views": {
       "grid_default": {
        "hidden": true
       },
       "report_default": {
        "hidden": true
       }
      }
     }
    },
    "id": "oQD_uCJVuD1_"
   },
   "source": [
    "#### Define\n",
    "- Filter all rows in the dataset 'df_tw_enhanced' that the field 'retweeted_status_id' doesn't exist (meaning that tweet is original one)"
   ]
  },
  {
   "cell_type": "markdown",
   "metadata": {
    "id": "UQVyy_JKuD2A"
   },
   "source": [
    "#### Code"
   ]
  },
  {
   "cell_type": "code",
   "execution_count": null,
   "metadata": {
    "id": "Its0Nx18uD2C"
   },
   "outputs": [],
   "source": [
    "df_tw_enhanced_cp = df_tw_enhanced_cp[df_tw_enhanced_cp['retweeted_status_id'].isnull()]"
   ]
  },
  {
   "cell_type": "markdown",
   "metadata": {
    "id": "fsEYNP6huD2D"
   },
   "source": [
    "#### Test"
   ]
  },
  {
   "cell_type": "code",
   "execution_count": null,
   "metadata": {
    "colab": {
     "base_uri": "https://localhost:8080/"
    },
    "executionInfo": {
     "elapsed": 326,
     "status": "ok",
     "timestamp": 1655111534782,
     "user": {
      "displayName": "Xấu Xa Kẻ",
      "userId": "08263153180530503733"
     },
     "user_tz": -420
    },
    "id": "rd79asCZuD2E",
    "outputId": "2c296670-6b74-4904-cffa-5293ca8169dc"
   },
   "outputs": [
    {
     "data": {
      "text/plain": [
       "(0, 17)"
      ]
     },
     "execution_count": 42,
     "metadata": {},
     "output_type": "execute_result"
    }
   ],
   "source": [
    "df_tw_enhanced_cp[~df_tw_enhanced_cp['retweeted_status_id'].isnull()].shape"
   ]
  },
  {
   "cell_type": "markdown",
   "metadata": {
    "id": "RFHa81KauEdY"
   },
   "source": [
    "### Issue #8:\n",
    "- Quality: The dog stages columns: \"doggo\", \"floofer\", \"pupper\", \"puppo\" should be converted to numerical to be easy for model training (0 and 1 values)."
   ]
  },
  {
   "cell_type": "markdown",
   "metadata": {
    "collapsed": true,
    "extensions": {
     "jupyter_dashboards": {
      "version": 1,
      "views": {
       "grid_default": {
        "hidden": true
       },
       "report_default": {
        "hidden": true
       }
      }
     }
    },
    "id": "D7hV4Xj4uEdZ"
   },
   "source": [
    "#### Define\n",
    "- Loop through the 4 columns (\"doggo\", \"floofer\", \"pupper\", \"puppo\") and replace the value that equal column name with 1 and \"None\" value with 0."
   ]
  },
  {
   "cell_type": "markdown",
   "metadata": {
    "id": "-kBQBrkruEda"
   },
   "source": [
    "#### Code"
   ]
  },
  {
   "cell_type": "code",
   "execution_count": null,
   "metadata": {
    "id": "oO54-UpVuEda"
   },
   "outputs": [],
   "source": [
    "for (columnName, columnData) in df_tw_enhanced[[\"doggo\", \"floofer\", \"pupper\", \"puppo\"]].iteritems():\n",
    "    df_tw_enhanced_cp[[columnName]] = df_tw_enhanced[[columnName]].replace(columnName, 1).replace(\"None\", 0)"
   ]
  },
  {
   "cell_type": "markdown",
   "metadata": {
    "id": "rnj7-Jx5uEdb"
   },
   "source": [
    "#### Test"
   ]
  },
  {
   "cell_type": "code",
   "execution_count": null,
   "metadata": {
    "colab": {
     "base_uri": "https://localhost:8080/",
     "height": 206
    },
    "executionInfo": {
     "elapsed": 675,
     "status": "ok",
     "timestamp": 1655111723542,
     "user": {
      "displayName": "Xấu Xa Kẻ",
      "userId": "08263153180530503733"
     },
     "user_tz": -420
    },
    "id": "Cyzjb5n-TRPz",
    "outputId": "2435c63a-1a20-458b-f2f5-cd0de4a22cc2"
   },
   "outputs": [
    {
     "data": {
      "text/html": [
       "\n",
       "  <div id=\"df-7bf2f1a9-ba0d-4d99-a708-e79e7ca7da55\">\n",
       "    <div class=\"colab-df-container\">\n",
       "      <div>\n",
       "<style scoped>\n",
       "    .dataframe tbody tr th:only-of-type {\n",
       "        vertical-align: middle;\n",
       "    }\n",
       "\n",
       "    .dataframe tbody tr th {\n",
       "        vertical-align: top;\n",
       "    }\n",
       "\n",
       "    .dataframe thead th {\n",
       "        text-align: right;\n",
       "    }\n",
       "</style>\n",
       "<table border=\"1\" class=\"dataframe\">\n",
       "  <thead>\n",
       "    <tr style=\"text-align: right;\">\n",
       "      <th></th>\n",
       "      <th>doggo</th>\n",
       "      <th>floofer</th>\n",
       "      <th>pupper</th>\n",
       "      <th>puppo</th>\n",
       "    </tr>\n",
       "  </thead>\n",
       "  <tbody>\n",
       "    <tr>\n",
       "      <th>0</th>\n",
       "      <td>0</td>\n",
       "      <td>0</td>\n",
       "      <td>0</td>\n",
       "      <td>0</td>\n",
       "    </tr>\n",
       "    <tr>\n",
       "      <th>1</th>\n",
       "      <td>0</td>\n",
       "      <td>0</td>\n",
       "      <td>0</td>\n",
       "      <td>0</td>\n",
       "    </tr>\n",
       "    <tr>\n",
       "      <th>2</th>\n",
       "      <td>0</td>\n",
       "      <td>0</td>\n",
       "      <td>0</td>\n",
       "      <td>0</td>\n",
       "    </tr>\n",
       "    <tr>\n",
       "      <th>3</th>\n",
       "      <td>0</td>\n",
       "      <td>0</td>\n",
       "      <td>0</td>\n",
       "      <td>0</td>\n",
       "    </tr>\n",
       "    <tr>\n",
       "      <th>4</th>\n",
       "      <td>0</td>\n",
       "      <td>0</td>\n",
       "      <td>0</td>\n",
       "      <td>0</td>\n",
       "    </tr>\n",
       "  </tbody>\n",
       "</table>\n",
       "</div>\n",
       "      <button class=\"colab-df-convert\" onclick=\"convertToInteractive('df-7bf2f1a9-ba0d-4d99-a708-e79e7ca7da55')\"\n",
       "              title=\"Convert this dataframe to an interactive table.\"\n",
       "              style=\"display:none;\">\n",
       "        \n",
       "  <svg xmlns=\"http://www.w3.org/2000/svg\" height=\"24px\"viewBox=\"0 0 24 24\"\n",
       "       width=\"24px\">\n",
       "    <path d=\"M0 0h24v24H0V0z\" fill=\"none\"/>\n",
       "    <path d=\"M18.56 5.44l.94 2.06.94-2.06 2.06-.94-2.06-.94-.94-2.06-.94 2.06-2.06.94zm-11 1L8.5 8.5l.94-2.06 2.06-.94-2.06-.94L8.5 2.5l-.94 2.06-2.06.94zm10 10l.94 2.06.94-2.06 2.06-.94-2.06-.94-.94-2.06-.94 2.06-2.06.94z\"/><path d=\"M17.41 7.96l-1.37-1.37c-.4-.4-.92-.59-1.43-.59-.52 0-1.04.2-1.43.59L10.3 9.45l-7.72 7.72c-.78.78-.78 2.05 0 2.83L4 21.41c.39.39.9.59 1.41.59.51 0 1.02-.2 1.41-.59l7.78-7.78 2.81-2.81c.8-.78.8-2.07 0-2.86zM5.41 20L4 18.59l7.72-7.72 1.47 1.35L5.41 20z\"/>\n",
       "  </svg>\n",
       "      </button>\n",
       "      \n",
       "  <style>\n",
       "    .colab-df-container {\n",
       "      display:flex;\n",
       "      flex-wrap:wrap;\n",
       "      gap: 12px;\n",
       "    }\n",
       "\n",
       "    .colab-df-convert {\n",
       "      background-color: #E8F0FE;\n",
       "      border: none;\n",
       "      border-radius: 50%;\n",
       "      cursor: pointer;\n",
       "      display: none;\n",
       "      fill: #1967D2;\n",
       "      height: 32px;\n",
       "      padding: 0 0 0 0;\n",
       "      width: 32px;\n",
       "    }\n",
       "\n",
       "    .colab-df-convert:hover {\n",
       "      background-color: #E2EBFA;\n",
       "      box-shadow: 0px 1px 2px rgba(60, 64, 67, 0.3), 0px 1px 3px 1px rgba(60, 64, 67, 0.15);\n",
       "      fill: #174EA6;\n",
       "    }\n",
       "\n",
       "    [theme=dark] .colab-df-convert {\n",
       "      background-color: #3B4455;\n",
       "      fill: #D2E3FC;\n",
       "    }\n",
       "\n",
       "    [theme=dark] .colab-df-convert:hover {\n",
       "      background-color: #434B5C;\n",
       "      box-shadow: 0px 1px 3px 1px rgba(0, 0, 0, 0.15);\n",
       "      filter: drop-shadow(0px 1px 2px rgba(0, 0, 0, 0.3));\n",
       "      fill: #FFFFFF;\n",
       "    }\n",
       "  </style>\n",
       "\n",
       "      <script>\n",
       "        const buttonEl =\n",
       "          document.querySelector('#df-7bf2f1a9-ba0d-4d99-a708-e79e7ca7da55 button.colab-df-convert');\n",
       "        buttonEl.style.display =\n",
       "          google.colab.kernel.accessAllowed ? 'block' : 'none';\n",
       "\n",
       "        async function convertToInteractive(key) {\n",
       "          const element = document.querySelector('#df-7bf2f1a9-ba0d-4d99-a708-e79e7ca7da55');\n",
       "          const dataTable =\n",
       "            await google.colab.kernel.invokeFunction('convertToInteractive',\n",
       "                                                     [key], {});\n",
       "          if (!dataTable) return;\n",
       "\n",
       "          const docLinkHtml = 'Like what you see? Visit the ' +\n",
       "            '<a target=\"_blank\" href=https://colab.research.google.com/notebooks/data_table.ipynb>data table notebook</a>'\n",
       "            + ' to learn more about interactive tables.';\n",
       "          element.innerHTML = '';\n",
       "          dataTable['output_type'] = 'display_data';\n",
       "          await google.colab.output.renderOutput(dataTable, element);\n",
       "          const docLink = document.createElement('div');\n",
       "          docLink.innerHTML = docLinkHtml;\n",
       "          element.appendChild(docLink);\n",
       "        }\n",
       "      </script>\n",
       "    </div>\n",
       "  </div>\n",
       "  "
      ],
      "text/plain": [
       "   doggo  floofer  pupper  puppo\n",
       "0      0        0       0      0\n",
       "1      0        0       0      0\n",
       "2      0        0       0      0\n",
       "3      0        0       0      0\n",
       "4      0        0       0      0"
      ]
     },
     "execution_count": 50,
     "metadata": {},
     "output_type": "execute_result"
    }
   ],
   "source": [
    "df_tw_enhanced_cp[[\"doggo\", \"floofer\", \"pupper\", \"puppo\"]].head()"
   ]
  },
  {
   "cell_type": "code",
   "execution_count": null,
   "metadata": {
    "colab": {
     "base_uri": "https://localhost:8080/"
    },
    "executionInfo": {
     "elapsed": 331,
     "status": "ok",
     "timestamp": 1655111725874,
     "user": {
      "displayName": "Xấu Xa Kẻ",
      "userId": "08263153180530503733"
     },
     "user_tz": -420
    },
    "id": "a4p0DFmCuEdc",
    "outputId": "7369b16e-115b-4cf2-da00-6eddacb1c62a"
   },
   "outputs": [
    {
     "name": "stdout",
     "output_type": "stream",
     "text": [
      "[0 1]\n",
      "[0 1]\n",
      "[0 1]\n",
      "[0 1]\n"
     ]
    }
   ],
   "source": [
    "print(df_tw_enhanced_cp[\"doggo\"].unique())\n",
    "print(df_tw_enhanced_cp[\"floofer\"].unique())\n",
    "print(df_tw_enhanced_cp[\"pupper\"].unique())\n",
    "print(df_tw_enhanced_cp[\"puppo\"].unique())"
   ]
  },
  {
   "cell_type": "markdown",
   "metadata": {
    "id": "sWiH2FQ_uFMf"
   },
   "source": [
    "### Issue #9:\n",
    "- Quality: The column \"tweet_id\" in \"df_tw_enhanced\" and \"df_img_pred\" should be in string format instead of integer.\n",
    "The column \"id\" in \"df_tw_add\" should be in string format instead of integer."
   ]
  },
  {
   "cell_type": "markdown",
   "metadata": {
    "collapsed": true,
    "extensions": {
     "jupyter_dashboards": {
      "version": 1,
      "views": {
       "grid_default": {
        "hidden": true
       },
       "report_default": {
        "hidden": true
       }
      }
     }
    },
    "id": "k2SwxAcvuFMg"
   },
   "source": [
    "#### Define\n",
    "- Use the function astype('int') to convert the tweet_id to integer to remove the decimal zeros and comma, then convert the result again to string format."
   ]
  },
  {
   "cell_type": "markdown",
   "metadata": {
    "id": "w69DdzQ1uFMg"
   },
   "source": [
    "#### Code"
   ]
  },
  {
   "cell_type": "code",
   "execution_count": null,
   "metadata": {
    "colab": {
     "base_uri": "https://localhost:8080/"
    },
    "executionInfo": {
     "elapsed": 419,
     "status": "ok",
     "timestamp": 1655111792839,
     "user": {
      "displayName": "Xấu Xa Kẻ",
      "userId": "08263153180530503733"
     },
     "user_tz": -420
    },
    "id": "GdwymcvPuFMh",
    "outputId": "8b80dc2b-232e-48cf-edef-57652190e8bb"
   },
   "outputs": [
    {
     "name": "stderr",
     "output_type": "stream",
     "text": [
      "/usr/local/lib/python3.7/dist-packages/pandas/core/frame.py:3641: SettingWithCopyWarning:\n",
      "\n",
      "\n",
      "A value is trying to be set on a copy of a slice from a DataFrame.\n",
      "Try using .loc[row_indexer,col_indexer] = value instead\n",
      "\n",
      "See the caveats in the documentation: https://pandas.pydata.org/pandas-docs/stable/user_guide/indexing.html#returning-a-view-versus-a-copy\n",
      "\n"
     ]
    }
   ],
   "source": [
    "df_tw_enhanced_cp[['tweet_id']] = df_tw_enhanced_cp[['tweet_id']].astype('int').astype('str')\n",
    "df_img_pred_cp[['tweet_id']] = df_img_pred_cp[['tweet_id']].astype('int').astype('str')\n",
    "df_tw_add_cp[['id', 'id_str']] = df_tw_add_cp[['id', 'id_str']].astype('int').astype('str')"
   ]
  },
  {
   "cell_type": "markdown",
   "metadata": {
    "id": "qjyEMCEguFMh"
   },
   "source": [
    "#### Test"
   ]
  },
  {
   "cell_type": "code",
   "execution_count": null,
   "metadata": {
    "colab": {
     "base_uri": "https://localhost:8080/",
     "height": 206
    },
    "executionInfo": {
     "elapsed": 337,
     "status": "ok",
     "timestamp": 1655111795493,
     "user": {
      "displayName": "Xấu Xa Kẻ",
      "userId": "08263153180530503733"
     },
     "user_tz": -420
    },
    "id": "12Q7MxBfUlKX",
    "outputId": "491e251a-8bf4-4546-a707-bc739c81df48"
   },
   "outputs": [
    {
     "data": {
      "text/html": [
       "\n",
       "  <div id=\"df-98a9496d-15ad-4e87-bd03-873a1334f590\">\n",
       "    <div class=\"colab-df-container\">\n",
       "      <div>\n",
       "<style scoped>\n",
       "    .dataframe tbody tr th:only-of-type {\n",
       "        vertical-align: middle;\n",
       "    }\n",
       "\n",
       "    .dataframe tbody tr th {\n",
       "        vertical-align: top;\n",
       "    }\n",
       "\n",
       "    .dataframe thead th {\n",
       "        text-align: right;\n",
       "    }\n",
       "</style>\n",
       "<table border=\"1\" class=\"dataframe\">\n",
       "  <thead>\n",
       "    <tr style=\"text-align: right;\">\n",
       "      <th></th>\n",
       "      <th>tweet_id</th>\n",
       "    </tr>\n",
       "  </thead>\n",
       "  <tbody>\n",
       "    <tr>\n",
       "      <th>0</th>\n",
       "      <td>892420643555336193</td>\n",
       "    </tr>\n",
       "    <tr>\n",
       "      <th>1</th>\n",
       "      <td>892177421306343426</td>\n",
       "    </tr>\n",
       "    <tr>\n",
       "      <th>2</th>\n",
       "      <td>891815181378084864</td>\n",
       "    </tr>\n",
       "    <tr>\n",
       "      <th>3</th>\n",
       "      <td>891689557279858688</td>\n",
       "    </tr>\n",
       "    <tr>\n",
       "      <th>4</th>\n",
       "      <td>891327558926688256</td>\n",
       "    </tr>\n",
       "  </tbody>\n",
       "</table>\n",
       "</div>\n",
       "      <button class=\"colab-df-convert\" onclick=\"convertToInteractive('df-98a9496d-15ad-4e87-bd03-873a1334f590')\"\n",
       "              title=\"Convert this dataframe to an interactive table.\"\n",
       "              style=\"display:none;\">\n",
       "        \n",
       "  <svg xmlns=\"http://www.w3.org/2000/svg\" height=\"24px\"viewBox=\"0 0 24 24\"\n",
       "       width=\"24px\">\n",
       "    <path d=\"M0 0h24v24H0V0z\" fill=\"none\"/>\n",
       "    <path d=\"M18.56 5.44l.94 2.06.94-2.06 2.06-.94-2.06-.94-.94-2.06-.94 2.06-2.06.94zm-11 1L8.5 8.5l.94-2.06 2.06-.94-2.06-.94L8.5 2.5l-.94 2.06-2.06.94zm10 10l.94 2.06.94-2.06 2.06-.94-2.06-.94-.94-2.06-.94 2.06-2.06.94z\"/><path d=\"M17.41 7.96l-1.37-1.37c-.4-.4-.92-.59-1.43-.59-.52 0-1.04.2-1.43.59L10.3 9.45l-7.72 7.72c-.78.78-.78 2.05 0 2.83L4 21.41c.39.39.9.59 1.41.59.51 0 1.02-.2 1.41-.59l7.78-7.78 2.81-2.81c.8-.78.8-2.07 0-2.86zM5.41 20L4 18.59l7.72-7.72 1.47 1.35L5.41 20z\"/>\n",
       "  </svg>\n",
       "      </button>\n",
       "      \n",
       "  <style>\n",
       "    .colab-df-container {\n",
       "      display:flex;\n",
       "      flex-wrap:wrap;\n",
       "      gap: 12px;\n",
       "    }\n",
       "\n",
       "    .colab-df-convert {\n",
       "      background-color: #E8F0FE;\n",
       "      border: none;\n",
       "      border-radius: 50%;\n",
       "      cursor: pointer;\n",
       "      display: none;\n",
       "      fill: #1967D2;\n",
       "      height: 32px;\n",
       "      padding: 0 0 0 0;\n",
       "      width: 32px;\n",
       "    }\n",
       "\n",
       "    .colab-df-convert:hover {\n",
       "      background-color: #E2EBFA;\n",
       "      box-shadow: 0px 1px 2px rgba(60, 64, 67, 0.3), 0px 1px 3px 1px rgba(60, 64, 67, 0.15);\n",
       "      fill: #174EA6;\n",
       "    }\n",
       "\n",
       "    [theme=dark] .colab-df-convert {\n",
       "      background-color: #3B4455;\n",
       "      fill: #D2E3FC;\n",
       "    }\n",
       "\n",
       "    [theme=dark] .colab-df-convert:hover {\n",
       "      background-color: #434B5C;\n",
       "      box-shadow: 0px 1px 3px 1px rgba(0, 0, 0, 0.15);\n",
       "      filter: drop-shadow(0px 1px 2px rgba(0, 0, 0, 0.3));\n",
       "      fill: #FFFFFF;\n",
       "    }\n",
       "  </style>\n",
       "\n",
       "      <script>\n",
       "        const buttonEl =\n",
       "          document.querySelector('#df-98a9496d-15ad-4e87-bd03-873a1334f590 button.colab-df-convert');\n",
       "        buttonEl.style.display =\n",
       "          google.colab.kernel.accessAllowed ? 'block' : 'none';\n",
       "\n",
       "        async function convertToInteractive(key) {\n",
       "          const element = document.querySelector('#df-98a9496d-15ad-4e87-bd03-873a1334f590');\n",
       "          const dataTable =\n",
       "            await google.colab.kernel.invokeFunction('convertToInteractive',\n",
       "                                                     [key], {});\n",
       "          if (!dataTable) return;\n",
       "\n",
       "          const docLinkHtml = 'Like what you see? Visit the ' +\n",
       "            '<a target=\"_blank\" href=https://colab.research.google.com/notebooks/data_table.ipynb>data table notebook</a>'\n",
       "            + ' to learn more about interactive tables.';\n",
       "          element.innerHTML = '';\n",
       "          dataTable['output_type'] = 'display_data';\n",
       "          await google.colab.output.renderOutput(dataTable, element);\n",
       "          const docLink = document.createElement('div');\n",
       "          docLink.innerHTML = docLinkHtml;\n",
       "          element.appendChild(docLink);\n",
       "        }\n",
       "      </script>\n",
       "    </div>\n",
       "  </div>\n",
       "  "
      ],
      "text/plain": [
       "             tweet_id\n",
       "0  892420643555336193\n",
       "1  892177421306343426\n",
       "2  891815181378084864\n",
       "3  891689557279858688\n",
       "4  891327558926688256"
      ]
     },
     "execution_count": 53,
     "metadata": {},
     "output_type": "execute_result"
    }
   ],
   "source": [
    "df_tw_enhanced_cp[['tweet_id']].head()"
   ]
  },
  {
   "cell_type": "code",
   "execution_count": null,
   "metadata": {
    "colab": {
     "base_uri": "https://localhost:8080/"
    },
    "executionInfo": {
     "elapsed": 333,
     "status": "ok",
     "timestamp": 1655111798112,
     "user": {
      "displayName": "Xấu Xa Kẻ",
      "userId": "08263153180530503733"
     },
     "user_tz": -420
    },
    "id": "dRqTpcVYuFMh",
    "outputId": "db948e4d-16b4-4583-c32c-5f29b3358662"
   },
   "outputs": [
    {
     "name": "stdout",
     "output_type": "stream",
     "text": [
      "<class 'pandas.core.frame.DataFrame'>\n",
      "Int64Index: 1385 entries, 0 to 2325\n",
      "Data columns (total 1 columns):\n",
      " #   Column    Non-Null Count  Dtype \n",
      "---  ------    --------------  ----- \n",
      " 0   tweet_id  1385 non-null   object\n",
      "dtypes: object(1)\n",
      "memory usage: 21.6+ KB\n"
     ]
    }
   ],
   "source": [
    "df_tw_enhanced_cp[['tweet_id']].info()"
   ]
  },
  {
   "cell_type": "code",
   "execution_count": null,
   "metadata": {
    "colab": {
     "base_uri": "https://localhost:8080/",
     "height": 206
    },
    "executionInfo": {
     "elapsed": 344,
     "status": "ok",
     "timestamp": 1655111800919,
     "user": {
      "displayName": "Xấu Xa Kẻ",
      "userId": "08263153180530503733"
     },
     "user_tz": -420
    },
    "id": "G4kUZUKmUpJW",
    "outputId": "16a1a615-76b4-4262-f2ec-42e8fab4af85"
   },
   "outputs": [
    {
     "data": {
      "text/html": [
       "\n",
       "  <div id=\"df-60434036-cda1-446f-9352-4d8cdc7b5c8a\">\n",
       "    <div class=\"colab-df-container\">\n",
       "      <div>\n",
       "<style scoped>\n",
       "    .dataframe tbody tr th:only-of-type {\n",
       "        vertical-align: middle;\n",
       "    }\n",
       "\n",
       "    .dataframe tbody tr th {\n",
       "        vertical-align: top;\n",
       "    }\n",
       "\n",
       "    .dataframe thead th {\n",
       "        text-align: right;\n",
       "    }\n",
       "</style>\n",
       "<table border=\"1\" class=\"dataframe\">\n",
       "  <thead>\n",
       "    <tr style=\"text-align: right;\">\n",
       "      <th></th>\n",
       "      <th>tweet_id</th>\n",
       "    </tr>\n",
       "  </thead>\n",
       "  <tbody>\n",
       "    <tr>\n",
       "      <th>0</th>\n",
       "      <td>666020888022790149</td>\n",
       "    </tr>\n",
       "    <tr>\n",
       "      <th>1</th>\n",
       "      <td>666029285002620928</td>\n",
       "    </tr>\n",
       "    <tr>\n",
       "      <th>2</th>\n",
       "      <td>666033412701032449</td>\n",
       "    </tr>\n",
       "    <tr>\n",
       "      <th>3</th>\n",
       "      <td>666044226329800704</td>\n",
       "    </tr>\n",
       "    <tr>\n",
       "      <th>4</th>\n",
       "      <td>666049248165822465</td>\n",
       "    </tr>\n",
       "  </tbody>\n",
       "</table>\n",
       "</div>\n",
       "      <button class=\"colab-df-convert\" onclick=\"convertToInteractive('df-60434036-cda1-446f-9352-4d8cdc7b5c8a')\"\n",
       "              title=\"Convert this dataframe to an interactive table.\"\n",
       "              style=\"display:none;\">\n",
       "        \n",
       "  <svg xmlns=\"http://www.w3.org/2000/svg\" height=\"24px\"viewBox=\"0 0 24 24\"\n",
       "       width=\"24px\">\n",
       "    <path d=\"M0 0h24v24H0V0z\" fill=\"none\"/>\n",
       "    <path d=\"M18.56 5.44l.94 2.06.94-2.06 2.06-.94-2.06-.94-.94-2.06-.94 2.06-2.06.94zm-11 1L8.5 8.5l.94-2.06 2.06-.94-2.06-.94L8.5 2.5l-.94 2.06-2.06.94zm10 10l.94 2.06.94-2.06 2.06-.94-2.06-.94-.94-2.06-.94 2.06-2.06.94z\"/><path d=\"M17.41 7.96l-1.37-1.37c-.4-.4-.92-.59-1.43-.59-.52 0-1.04.2-1.43.59L10.3 9.45l-7.72 7.72c-.78.78-.78 2.05 0 2.83L4 21.41c.39.39.9.59 1.41.59.51 0 1.02-.2 1.41-.59l7.78-7.78 2.81-2.81c.8-.78.8-2.07 0-2.86zM5.41 20L4 18.59l7.72-7.72 1.47 1.35L5.41 20z\"/>\n",
       "  </svg>\n",
       "      </button>\n",
       "      \n",
       "  <style>\n",
       "    .colab-df-container {\n",
       "      display:flex;\n",
       "      flex-wrap:wrap;\n",
       "      gap: 12px;\n",
       "    }\n",
       "\n",
       "    .colab-df-convert {\n",
       "      background-color: #E8F0FE;\n",
       "      border: none;\n",
       "      border-radius: 50%;\n",
       "      cursor: pointer;\n",
       "      display: none;\n",
       "      fill: #1967D2;\n",
       "      height: 32px;\n",
       "      padding: 0 0 0 0;\n",
       "      width: 32px;\n",
       "    }\n",
       "\n",
       "    .colab-df-convert:hover {\n",
       "      background-color: #E2EBFA;\n",
       "      box-shadow: 0px 1px 2px rgba(60, 64, 67, 0.3), 0px 1px 3px 1px rgba(60, 64, 67, 0.15);\n",
       "      fill: #174EA6;\n",
       "    }\n",
       "\n",
       "    [theme=dark] .colab-df-convert {\n",
       "      background-color: #3B4455;\n",
       "      fill: #D2E3FC;\n",
       "    }\n",
       "\n",
       "    [theme=dark] .colab-df-convert:hover {\n",
       "      background-color: #434B5C;\n",
       "      box-shadow: 0px 1px 3px 1px rgba(0, 0, 0, 0.15);\n",
       "      filter: drop-shadow(0px 1px 2px rgba(0, 0, 0, 0.3));\n",
       "      fill: #FFFFFF;\n",
       "    }\n",
       "  </style>\n",
       "\n",
       "      <script>\n",
       "        const buttonEl =\n",
       "          document.querySelector('#df-60434036-cda1-446f-9352-4d8cdc7b5c8a button.colab-df-convert');\n",
       "        buttonEl.style.display =\n",
       "          google.colab.kernel.accessAllowed ? 'block' : 'none';\n",
       "\n",
       "        async function convertToInteractive(key) {\n",
       "          const element = document.querySelector('#df-60434036-cda1-446f-9352-4d8cdc7b5c8a');\n",
       "          const dataTable =\n",
       "            await google.colab.kernel.invokeFunction('convertToInteractive',\n",
       "                                                     [key], {});\n",
       "          if (!dataTable) return;\n",
       "\n",
       "          const docLinkHtml = 'Like what you see? Visit the ' +\n",
       "            '<a target=\"_blank\" href=https://colab.research.google.com/notebooks/data_table.ipynb>data table notebook</a>'\n",
       "            + ' to learn more about interactive tables.';\n",
       "          element.innerHTML = '';\n",
       "          dataTable['output_type'] = 'display_data';\n",
       "          await google.colab.output.renderOutput(dataTable, element);\n",
       "          const docLink = document.createElement('div');\n",
       "          docLink.innerHTML = docLinkHtml;\n",
       "          element.appendChild(docLink);\n",
       "        }\n",
       "      </script>\n",
       "    </div>\n",
       "  </div>\n",
       "  "
      ],
      "text/plain": [
       "             tweet_id\n",
       "0  666020888022790149\n",
       "1  666029285002620928\n",
       "2  666033412701032449\n",
       "3  666044226329800704\n",
       "4  666049248165822465"
      ]
     },
     "execution_count": 55,
     "metadata": {},
     "output_type": "execute_result"
    }
   ],
   "source": [
    "df_img_pred_cp[['tweet_id']].head()"
   ]
  },
  {
   "cell_type": "code",
   "execution_count": null,
   "metadata": {
    "colab": {
     "base_uri": "https://localhost:8080/"
    },
    "executionInfo": {
     "elapsed": 4,
     "status": "ok",
     "timestamp": 1655111802856,
     "user": {
      "displayName": "Xấu Xa Kẻ",
      "userId": "08263153180530503733"
     },
     "user_tz": -420
    },
    "id": "wgzdconNUqwm",
    "outputId": "fc940796-69df-43b9-b42a-e4c9ad7cf74e"
   },
   "outputs": [
    {
     "name": "stdout",
     "output_type": "stream",
     "text": [
      "<class 'pandas.core.frame.DataFrame'>\n",
      "Int64Index: 1751 entries, 0 to 2073\n",
      "Data columns (total 1 columns):\n",
      " #   Column    Non-Null Count  Dtype \n",
      "---  ------    --------------  ----- \n",
      " 0   tweet_id  1751 non-null   object\n",
      "dtypes: object(1)\n",
      "memory usage: 27.4+ KB\n"
     ]
    }
   ],
   "source": [
    "df_img_pred_cp[['tweet_id']].info()"
   ]
  },
  {
   "cell_type": "markdown",
   "metadata": {
    "id": "Y1RpNbe5uGDj"
   },
   "source": [
    "### Issue #10:\n",
    "- Tidiness: \"retweet count\" and \"favorite count\" columns from \"df_tw_add\" should be merged to the dataframe \"df_tw_enhanced\"."
   ]
  },
  {
   "cell_type": "markdown",
   "metadata": {
    "collapsed": true,
    "extensions": {
     "jupyter_dashboards": {
      "version": 1,
      "views": {
       "grid_default": {
        "hidden": true
       },
       "report_default": {
        "hidden": true
       }
      }
     }
    },
    "id": "iXwiIdEmuGDk"
   },
   "source": [
    "#### Define\n",
    "- Left join the dataframe 'df_tw_enhanced' with the dataframe 'df_tw_add' on the \"id\" columns. We only take 3 columns 'id', 'retweet_count', 'favorite_count' from the dataframe 'df_tw_add' for the join."
   ]
  },
  {
   "cell_type": "markdown",
   "metadata": {
    "id": "JgXRcC_XuGDk"
   },
   "source": [
    "#### Code"
   ]
  },
  {
   "cell_type": "code",
   "execution_count": null,
   "metadata": {
    "colab": {
     "base_uri": "https://localhost:8080/",
     "height": 635
    },
    "executionInfo": {
     "elapsed": 23,
     "status": "ok",
     "timestamp": 1655111807035,
     "user": {
      "displayName": "Xấu Xa Kẻ",
      "userId": "08263153180530503733"
     },
     "user_tz": -420
    },
    "id": "Aa7op4xcuGDk",
    "outputId": "7bb9df71-9c61-4760-e306-1d403ca636a6"
   },
   "outputs": [
    {
     "data": {
      "text/html": [
       "\n",
       "  <div id=\"df-9cf56bb9-7e3c-45b4-a1fb-c61f309ac076\">\n",
       "    <div class=\"colab-df-container\">\n",
       "      <div>\n",
       "<style scoped>\n",
       "    .dataframe tbody tr th:only-of-type {\n",
       "        vertical-align: middle;\n",
       "    }\n",
       "\n",
       "    .dataframe tbody tr th {\n",
       "        vertical-align: top;\n",
       "    }\n",
       "\n",
       "    .dataframe thead th {\n",
       "        text-align: right;\n",
       "    }\n",
       "</style>\n",
       "<table border=\"1\" class=\"dataframe\">\n",
       "  <thead>\n",
       "    <tr style=\"text-align: right;\">\n",
       "      <th></th>\n",
       "      <th>tweet_id</th>\n",
       "      <th>in_reply_to_status_id</th>\n",
       "      <th>in_reply_to_user_id</th>\n",
       "      <th>timestamp</th>\n",
       "      <th>source</th>\n",
       "      <th>text</th>\n",
       "      <th>retweeted_status_id</th>\n",
       "      <th>retweeted_status_user_id</th>\n",
       "      <th>retweeted_status_timestamp</th>\n",
       "      <th>expanded_urls</th>\n",
       "      <th>rating_numerator</th>\n",
       "      <th>rating_denominator</th>\n",
       "      <th>name</th>\n",
       "      <th>doggo</th>\n",
       "      <th>floofer</th>\n",
       "      <th>pupper</th>\n",
       "      <th>puppo</th>\n",
       "      <th>id</th>\n",
       "      <th>retweet_count</th>\n",
       "      <th>favorite_count</th>\n",
       "    </tr>\n",
       "  </thead>\n",
       "  <tbody>\n",
       "    <tr>\n",
       "      <th>0</th>\n",
       "      <td>892420643555336193</td>\n",
       "      <td>NaN</td>\n",
       "      <td>NaN</td>\n",
       "      <td>2017-08-01 16:23:56+00:00</td>\n",
       "      <td>http://twitter.com/download/iphone</td>\n",
       "      <td>This is Phineas. He's a mystical boy. Only eve...</td>\n",
       "      <td>NaN</td>\n",
       "      <td>NaN</td>\n",
       "      <td>NaN</td>\n",
       "      <td>https://twitter.com/dog_rates/status/892420643...</td>\n",
       "      <td>13</td>\n",
       "      <td>10</td>\n",
       "      <td>Phineas</td>\n",
       "      <td>0</td>\n",
       "      <td>0</td>\n",
       "      <td>0</td>\n",
       "      <td>0</td>\n",
       "      <td>892420643555336193</td>\n",
       "      <td>8853</td>\n",
       "      <td>39467</td>\n",
       "    </tr>\n",
       "    <tr>\n",
       "      <th>1</th>\n",
       "      <td>892177421306343426</td>\n",
       "      <td>NaN</td>\n",
       "      <td>NaN</td>\n",
       "      <td>2017-08-01 00:17:27+00:00</td>\n",
       "      <td>http://twitter.com/download/iphone</td>\n",
       "      <td>This is Tilly. She's just checking pup on you....</td>\n",
       "      <td>NaN</td>\n",
       "      <td>NaN</td>\n",
       "      <td>NaN</td>\n",
       "      <td>https://twitter.com/dog_rates/status/892177421...</td>\n",
       "      <td>13</td>\n",
       "      <td>10</td>\n",
       "      <td>Tilly</td>\n",
       "      <td>0</td>\n",
       "      <td>0</td>\n",
       "      <td>0</td>\n",
       "      <td>0</td>\n",
       "      <td>892177421306343426</td>\n",
       "      <td>6514</td>\n",
       "      <td>33819</td>\n",
       "    </tr>\n",
       "    <tr>\n",
       "      <th>2</th>\n",
       "      <td>891815181378084864</td>\n",
       "      <td>NaN</td>\n",
       "      <td>NaN</td>\n",
       "      <td>2017-07-31 00:18:03+00:00</td>\n",
       "      <td>http://twitter.com/download/iphone</td>\n",
       "      <td>This is Archie. He is a rare Norwegian Pouncin...</td>\n",
       "      <td>NaN</td>\n",
       "      <td>NaN</td>\n",
       "      <td>NaN</td>\n",
       "      <td>https://twitter.com/dog_rates/status/891815181...</td>\n",
       "      <td>12</td>\n",
       "      <td>10</td>\n",
       "      <td>Archie</td>\n",
       "      <td>0</td>\n",
       "      <td>0</td>\n",
       "      <td>0</td>\n",
       "      <td>0</td>\n",
       "      <td>891815181378084864</td>\n",
       "      <td>4328</td>\n",
       "      <td>25461</td>\n",
       "    </tr>\n",
       "    <tr>\n",
       "      <th>3</th>\n",
       "      <td>891689557279858688</td>\n",
       "      <td>NaN</td>\n",
       "      <td>NaN</td>\n",
       "      <td>2017-07-30 15:58:51+00:00</td>\n",
       "      <td>http://twitter.com/download/iphone</td>\n",
       "      <td>This is Darla. She commenced a snooze mid meal...</td>\n",
       "      <td>NaN</td>\n",
       "      <td>NaN</td>\n",
       "      <td>NaN</td>\n",
       "      <td>https://twitter.com/dog_rates/status/891689557...</td>\n",
       "      <td>13</td>\n",
       "      <td>10</td>\n",
       "      <td>Darla</td>\n",
       "      <td>0</td>\n",
       "      <td>0</td>\n",
       "      <td>0</td>\n",
       "      <td>0</td>\n",
       "      <td>891689557279858688</td>\n",
       "      <td>8964</td>\n",
       "      <td>42908</td>\n",
       "    </tr>\n",
       "    <tr>\n",
       "      <th>4</th>\n",
       "      <td>891327558926688256</td>\n",
       "      <td>NaN</td>\n",
       "      <td>NaN</td>\n",
       "      <td>2017-07-29 16:00:24+00:00</td>\n",
       "      <td>http://twitter.com/download/iphone</td>\n",
       "      <td>This is Franklin. He would like you to stop ca...</td>\n",
       "      <td>NaN</td>\n",
       "      <td>NaN</td>\n",
       "      <td>NaN</td>\n",
       "      <td>https://twitter.com/dog_rates/status/891327558...</td>\n",
       "      <td>12</td>\n",
       "      <td>10</td>\n",
       "      <td>Franklin</td>\n",
       "      <td>0</td>\n",
       "      <td>0</td>\n",
       "      <td>0</td>\n",
       "      <td>0</td>\n",
       "      <td>891327558926688256</td>\n",
       "      <td>9774</td>\n",
       "      <td>41048</td>\n",
       "    </tr>\n",
       "  </tbody>\n",
       "</table>\n",
       "</div>\n",
       "      <button class=\"colab-df-convert\" onclick=\"convertToInteractive('df-9cf56bb9-7e3c-45b4-a1fb-c61f309ac076')\"\n",
       "              title=\"Convert this dataframe to an interactive table.\"\n",
       "              style=\"display:none;\">\n",
       "        \n",
       "  <svg xmlns=\"http://www.w3.org/2000/svg\" height=\"24px\"viewBox=\"0 0 24 24\"\n",
       "       width=\"24px\">\n",
       "    <path d=\"M0 0h24v24H0V0z\" fill=\"none\"/>\n",
       "    <path d=\"M18.56 5.44l.94 2.06.94-2.06 2.06-.94-2.06-.94-.94-2.06-.94 2.06-2.06.94zm-11 1L8.5 8.5l.94-2.06 2.06-.94-2.06-.94L8.5 2.5l-.94 2.06-2.06.94zm10 10l.94 2.06.94-2.06 2.06-.94-2.06-.94-.94-2.06-.94 2.06-2.06.94z\"/><path d=\"M17.41 7.96l-1.37-1.37c-.4-.4-.92-.59-1.43-.59-.52 0-1.04.2-1.43.59L10.3 9.45l-7.72 7.72c-.78.78-.78 2.05 0 2.83L4 21.41c.39.39.9.59 1.41.59.51 0 1.02-.2 1.41-.59l7.78-7.78 2.81-2.81c.8-.78.8-2.07 0-2.86zM5.41 20L4 18.59l7.72-7.72 1.47 1.35L5.41 20z\"/>\n",
       "  </svg>\n",
       "      </button>\n",
       "      \n",
       "  <style>\n",
       "    .colab-df-container {\n",
       "      display:flex;\n",
       "      flex-wrap:wrap;\n",
       "      gap: 12px;\n",
       "    }\n",
       "\n",
       "    .colab-df-convert {\n",
       "      background-color: #E8F0FE;\n",
       "      border: none;\n",
       "      border-radius: 50%;\n",
       "      cursor: pointer;\n",
       "      display: none;\n",
       "      fill: #1967D2;\n",
       "      height: 32px;\n",
       "      padding: 0 0 0 0;\n",
       "      width: 32px;\n",
       "    }\n",
       "\n",
       "    .colab-df-convert:hover {\n",
       "      background-color: #E2EBFA;\n",
       "      box-shadow: 0px 1px 2px rgba(60, 64, 67, 0.3), 0px 1px 3px 1px rgba(60, 64, 67, 0.15);\n",
       "      fill: #174EA6;\n",
       "    }\n",
       "\n",
       "    [theme=dark] .colab-df-convert {\n",
       "      background-color: #3B4455;\n",
       "      fill: #D2E3FC;\n",
       "    }\n",
       "\n",
       "    [theme=dark] .colab-df-convert:hover {\n",
       "      background-color: #434B5C;\n",
       "      box-shadow: 0px 1px 3px 1px rgba(0, 0, 0, 0.15);\n",
       "      filter: drop-shadow(0px 1px 2px rgba(0, 0, 0, 0.3));\n",
       "      fill: #FFFFFF;\n",
       "    }\n",
       "  </style>\n",
       "\n",
       "      <script>\n",
       "        const buttonEl =\n",
       "          document.querySelector('#df-9cf56bb9-7e3c-45b4-a1fb-c61f309ac076 button.colab-df-convert');\n",
       "        buttonEl.style.display =\n",
       "          google.colab.kernel.accessAllowed ? 'block' : 'none';\n",
       "\n",
       "        async function convertToInteractive(key) {\n",
       "          const element = document.querySelector('#df-9cf56bb9-7e3c-45b4-a1fb-c61f309ac076');\n",
       "          const dataTable =\n",
       "            await google.colab.kernel.invokeFunction('convertToInteractive',\n",
       "                                                     [key], {});\n",
       "          if (!dataTable) return;\n",
       "\n",
       "          const docLinkHtml = 'Like what you see? Visit the ' +\n",
       "            '<a target=\"_blank\" href=https://colab.research.google.com/notebooks/data_table.ipynb>data table notebook</a>'\n",
       "            + ' to learn more about interactive tables.';\n",
       "          element.innerHTML = '';\n",
       "          dataTable['output_type'] = 'display_data';\n",
       "          await google.colab.output.renderOutput(dataTable, element);\n",
       "          const docLink = document.createElement('div');\n",
       "          docLink.innerHTML = docLinkHtml;\n",
       "          element.appendChild(docLink);\n",
       "        }\n",
       "      </script>\n",
       "    </div>\n",
       "  </div>\n",
       "  "
      ],
      "text/plain": [
       "             tweet_id  in_reply_to_status_id  in_reply_to_user_id  \\\n",
       "0  892420643555336193                    NaN                  NaN   \n",
       "1  892177421306343426                    NaN                  NaN   \n",
       "2  891815181378084864                    NaN                  NaN   \n",
       "3  891689557279858688                    NaN                  NaN   \n",
       "4  891327558926688256                    NaN                  NaN   \n",
       "\n",
       "                  timestamp                              source  \\\n",
       "0 2017-08-01 16:23:56+00:00  http://twitter.com/download/iphone   \n",
       "1 2017-08-01 00:17:27+00:00  http://twitter.com/download/iphone   \n",
       "2 2017-07-31 00:18:03+00:00  http://twitter.com/download/iphone   \n",
       "3 2017-07-30 15:58:51+00:00  http://twitter.com/download/iphone   \n",
       "4 2017-07-29 16:00:24+00:00  http://twitter.com/download/iphone   \n",
       "\n",
       "                                                text  retweeted_status_id  \\\n",
       "0  This is Phineas. He's a mystical boy. Only eve...                  NaN   \n",
       "1  This is Tilly. She's just checking pup on you....                  NaN   \n",
       "2  This is Archie. He is a rare Norwegian Pouncin...                  NaN   \n",
       "3  This is Darla. She commenced a snooze mid meal...                  NaN   \n",
       "4  This is Franklin. He would like you to stop ca...                  NaN   \n",
       "\n",
       "   retweeted_status_user_id retweeted_status_timestamp  \\\n",
       "0                       NaN                        NaN   \n",
       "1                       NaN                        NaN   \n",
       "2                       NaN                        NaN   \n",
       "3                       NaN                        NaN   \n",
       "4                       NaN                        NaN   \n",
       "\n",
       "                                       expanded_urls  rating_numerator  \\\n",
       "0  https://twitter.com/dog_rates/status/892420643...                13   \n",
       "1  https://twitter.com/dog_rates/status/892177421...                13   \n",
       "2  https://twitter.com/dog_rates/status/891815181...                12   \n",
       "3  https://twitter.com/dog_rates/status/891689557...                13   \n",
       "4  https://twitter.com/dog_rates/status/891327558...                12   \n",
       "\n",
       "   rating_denominator      name  doggo  floofer  pupper  puppo  \\\n",
       "0                  10   Phineas      0        0       0      0   \n",
       "1                  10     Tilly      0        0       0      0   \n",
       "2                  10    Archie      0        0       0      0   \n",
       "3                  10     Darla      0        0       0      0   \n",
       "4                  10  Franklin      0        0       0      0   \n",
       "\n",
       "                   id  retweet_count  favorite_count  \n",
       "0  892420643555336193           8853           39467  \n",
       "1  892177421306343426           6514           33819  \n",
       "2  891815181378084864           4328           25461  \n",
       "3  891689557279858688           8964           42908  \n",
       "4  891327558926688256           9774           41048  "
      ]
     },
     "execution_count": 57,
     "metadata": {},
     "output_type": "execute_result"
    }
   ],
   "source": [
    "df_tw_enhanced_merged = df_tw_enhanced_cp.merge(df_tw_add_cp[['id', 'retweet_count', 'favorite_count']], how=\"left\", left_on='tweet_id', right_on='id')\n",
    "df_tw_enhanced_merged.head()"
   ]
  },
  {
   "cell_type": "markdown",
   "metadata": {
    "id": "vu0pRj7FuGDl"
   },
   "source": [
    "#### Test"
   ]
  },
  {
   "cell_type": "code",
   "execution_count": null,
   "metadata": {
    "colab": {
     "base_uri": "https://localhost:8080/"
    },
    "executionInfo": {
     "elapsed": 378,
     "status": "ok",
     "timestamp": 1655111832606,
     "user": {
      "displayName": "Xấu Xa Kẻ",
      "userId": "08263153180530503733"
     },
     "user_tz": -420
    },
    "id": "EfC3MndJuGDl",
    "outputId": "c2080f4b-ae7d-48ad-de4c-0ea0a231cc39"
   },
   "outputs": [
    {
     "data": {
      "text/plain": [
       "(1385, 20)"
      ]
     },
     "execution_count": 58,
     "metadata": {},
     "output_type": "execute_result"
    }
   ],
   "source": [
    "df_tw_enhanced_merged.shape"
   ]
  },
  {
   "cell_type": "markdown",
   "metadata": {
    "id": "2IeP4hlcuGlf"
   },
   "source": [
    "### Issue #11:\n",
    "- Quality: All columns from table \"df_img_pred\" should be merged into the dataframe \"df_tw_enhanced\"."
   ]
  },
  {
   "cell_type": "markdown",
   "metadata": {
    "collapsed": true,
    "extensions": {
     "jupyter_dashboards": {
      "version": 1,
      "views": {
       "grid_default": {
        "hidden": true
       },
       "report_default": {
        "hidden": true
       }
      }
     }
    },
    "id": "2T7RZht2uGlg"
   },
   "source": [
    "#### Define\n",
    "- Left join the dataframe 'df_tw_enhanced' with the dataframe 'df_img_pred' on the \"id\" columns. We only take all columns from the dataframe 'df_img_pred' for the join."
   ]
  },
  {
   "cell_type": "markdown",
   "metadata": {
    "id": "SNe5zqxCuGlg"
   },
   "source": [
    "#### Code"
   ]
  },
  {
   "cell_type": "code",
   "execution_count": null,
   "metadata": {
    "id": "Efq1EigjuGlg"
   },
   "outputs": [],
   "source": [
    "df_tw_enhanced_merged_full = df_tw_enhanced_merged.merge(df_img_pred_cp, how='left', on='tweet_id')"
   ]
  },
  {
   "cell_type": "markdown",
   "metadata": {
    "id": "ZW1m0eT9uGlg"
   },
   "source": [
    "#### Test"
   ]
  },
  {
   "cell_type": "code",
   "execution_count": null,
   "metadata": {
    "colab": {
     "base_uri": "https://localhost:8080/",
     "height": 635
    },
    "executionInfo": {
     "elapsed": 387,
     "status": "ok",
     "timestamp": 1655111838681,
     "user": {
      "displayName": "Xấu Xa Kẻ",
      "userId": "08263153180530503733"
     },
     "user_tz": -420
    },
    "id": "m_xeaq0EuGlh",
    "outputId": "7e04ba2c-75c9-45ec-b0e4-c0adb70a0b8b"
   },
   "outputs": [
    {
     "data": {
      "text/html": [
       "\n",
       "  <div id=\"df-93cc8302-ab2d-48c3-b78c-9ab8b857b50c\">\n",
       "    <div class=\"colab-df-container\">\n",
       "      <div>\n",
       "<style scoped>\n",
       "    .dataframe tbody tr th:only-of-type {\n",
       "        vertical-align: middle;\n",
       "    }\n",
       "\n",
       "    .dataframe tbody tr th {\n",
       "        vertical-align: top;\n",
       "    }\n",
       "\n",
       "    .dataframe thead th {\n",
       "        text-align: right;\n",
       "    }\n",
       "</style>\n",
       "<table border=\"1\" class=\"dataframe\">\n",
       "  <thead>\n",
       "    <tr style=\"text-align: right;\">\n",
       "      <th></th>\n",
       "      <th>tweet_id</th>\n",
       "      <th>in_reply_to_status_id</th>\n",
       "      <th>in_reply_to_user_id</th>\n",
       "      <th>timestamp</th>\n",
       "      <th>source</th>\n",
       "      <th>text</th>\n",
       "      <th>retweeted_status_id</th>\n",
       "      <th>retweeted_status_user_id</th>\n",
       "      <th>retweeted_status_timestamp</th>\n",
       "      <th>expanded_urls</th>\n",
       "      <th>rating_numerator</th>\n",
       "      <th>rating_denominator</th>\n",
       "      <th>name</th>\n",
       "      <th>doggo</th>\n",
       "      <th>floofer</th>\n",
       "      <th>pupper</th>\n",
       "      <th>puppo</th>\n",
       "      <th>id</th>\n",
       "      <th>retweet_count</th>\n",
       "      <th>favorite_count</th>\n",
       "      <th>jpg_url</th>\n",
       "      <th>img_num</th>\n",
       "      <th>p1</th>\n",
       "      <th>p1_conf</th>\n",
       "      <th>p1_dog</th>\n",
       "      <th>p2</th>\n",
       "      <th>p2_conf</th>\n",
       "      <th>p2_dog</th>\n",
       "      <th>p3</th>\n",
       "      <th>p3_conf</th>\n",
       "      <th>p3_dog</th>\n",
       "    </tr>\n",
       "  </thead>\n",
       "  <tbody>\n",
       "    <tr>\n",
       "      <th>0</th>\n",
       "      <td>892420643555336193</td>\n",
       "      <td>NaN</td>\n",
       "      <td>NaN</td>\n",
       "      <td>2017-08-01 16:23:56+00:00</td>\n",
       "      <td>http://twitter.com/download/iphone</td>\n",
       "      <td>This is Phineas. He's a mystical boy. Only eve...</td>\n",
       "      <td>NaN</td>\n",
       "      <td>NaN</td>\n",
       "      <td>NaN</td>\n",
       "      <td>https://twitter.com/dog_rates/status/892420643...</td>\n",
       "      <td>13</td>\n",
       "      <td>10</td>\n",
       "      <td>Phineas</td>\n",
       "      <td>0</td>\n",
       "      <td>0</td>\n",
       "      <td>0</td>\n",
       "      <td>0</td>\n",
       "      <td>892420643555336193</td>\n",
       "      <td>8853</td>\n",
       "      <td>39467</td>\n",
       "      <td>NaN</td>\n",
       "      <td>NaN</td>\n",
       "      <td>NaN</td>\n",
       "      <td>NaN</td>\n",
       "      <td>NaN</td>\n",
       "      <td>NaN</td>\n",
       "      <td>NaN</td>\n",
       "      <td>NaN</td>\n",
       "      <td>NaN</td>\n",
       "      <td>NaN</td>\n",
       "      <td>NaN</td>\n",
       "    </tr>\n",
       "    <tr>\n",
       "      <th>1</th>\n",
       "      <td>892177421306343426</td>\n",
       "      <td>NaN</td>\n",
       "      <td>NaN</td>\n",
       "      <td>2017-08-01 00:17:27+00:00</td>\n",
       "      <td>http://twitter.com/download/iphone</td>\n",
       "      <td>This is Tilly. She's just checking pup on you....</td>\n",
       "      <td>NaN</td>\n",
       "      <td>NaN</td>\n",
       "      <td>NaN</td>\n",
       "      <td>https://twitter.com/dog_rates/status/892177421...</td>\n",
       "      <td>13</td>\n",
       "      <td>10</td>\n",
       "      <td>Tilly</td>\n",
       "      <td>0</td>\n",
       "      <td>0</td>\n",
       "      <td>0</td>\n",
       "      <td>0</td>\n",
       "      <td>892177421306343426</td>\n",
       "      <td>6514</td>\n",
       "      <td>33819</td>\n",
       "      <td>https://pbs.twimg.com/media/DGGmoV4XsAAUL6n.jpg</td>\n",
       "      <td>1.0</td>\n",
       "      <td>Chihuahua</td>\n",
       "      <td>0.323581</td>\n",
       "      <td>True</td>\n",
       "      <td>Pekinese</td>\n",
       "      <td>0.090647</td>\n",
       "      <td>True</td>\n",
       "      <td>papillon</td>\n",
       "      <td>0.068957</td>\n",
       "      <td>True</td>\n",
       "    </tr>\n",
       "    <tr>\n",
       "      <th>2</th>\n",
       "      <td>891815181378084864</td>\n",
       "      <td>NaN</td>\n",
       "      <td>NaN</td>\n",
       "      <td>2017-07-31 00:18:03+00:00</td>\n",
       "      <td>http://twitter.com/download/iphone</td>\n",
       "      <td>This is Archie. He is a rare Norwegian Pouncin...</td>\n",
       "      <td>NaN</td>\n",
       "      <td>NaN</td>\n",
       "      <td>NaN</td>\n",
       "      <td>https://twitter.com/dog_rates/status/891815181...</td>\n",
       "      <td>12</td>\n",
       "      <td>10</td>\n",
       "      <td>Archie</td>\n",
       "      <td>0</td>\n",
       "      <td>0</td>\n",
       "      <td>0</td>\n",
       "      <td>0</td>\n",
       "      <td>891815181378084864</td>\n",
       "      <td>4328</td>\n",
       "      <td>25461</td>\n",
       "      <td>https://pbs.twimg.com/media/DGBdLU1WsAANxJ9.jpg</td>\n",
       "      <td>1.0</td>\n",
       "      <td>Chihuahua</td>\n",
       "      <td>0.716012</td>\n",
       "      <td>True</td>\n",
       "      <td>malamute</td>\n",
       "      <td>0.078253</td>\n",
       "      <td>True</td>\n",
       "      <td>kelpie</td>\n",
       "      <td>0.031379</td>\n",
       "      <td>True</td>\n",
       "    </tr>\n",
       "    <tr>\n",
       "      <th>3</th>\n",
       "      <td>891689557279858688</td>\n",
       "      <td>NaN</td>\n",
       "      <td>NaN</td>\n",
       "      <td>2017-07-30 15:58:51+00:00</td>\n",
       "      <td>http://twitter.com/download/iphone</td>\n",
       "      <td>This is Darla. She commenced a snooze mid meal...</td>\n",
       "      <td>NaN</td>\n",
       "      <td>NaN</td>\n",
       "      <td>NaN</td>\n",
       "      <td>https://twitter.com/dog_rates/status/891689557...</td>\n",
       "      <td>13</td>\n",
       "      <td>10</td>\n",
       "      <td>Darla</td>\n",
       "      <td>0</td>\n",
       "      <td>0</td>\n",
       "      <td>0</td>\n",
       "      <td>0</td>\n",
       "      <td>891689557279858688</td>\n",
       "      <td>8964</td>\n",
       "      <td>42908</td>\n",
       "      <td>https://pbs.twimg.com/media/DF_q7IAWsAEuuN8.jpg</td>\n",
       "      <td>1.0</td>\n",
       "      <td>paper_towel</td>\n",
       "      <td>0.170278</td>\n",
       "      <td>False</td>\n",
       "      <td>Labrador_retriever</td>\n",
       "      <td>0.168086</td>\n",
       "      <td>True</td>\n",
       "      <td>spatula</td>\n",
       "      <td>0.040836</td>\n",
       "      <td>False</td>\n",
       "    </tr>\n",
       "    <tr>\n",
       "      <th>4</th>\n",
       "      <td>891327558926688256</td>\n",
       "      <td>NaN</td>\n",
       "      <td>NaN</td>\n",
       "      <td>2017-07-29 16:00:24+00:00</td>\n",
       "      <td>http://twitter.com/download/iphone</td>\n",
       "      <td>This is Franklin. He would like you to stop ca...</td>\n",
       "      <td>NaN</td>\n",
       "      <td>NaN</td>\n",
       "      <td>NaN</td>\n",
       "      <td>https://twitter.com/dog_rates/status/891327558...</td>\n",
       "      <td>12</td>\n",
       "      <td>10</td>\n",
       "      <td>Franklin</td>\n",
       "      <td>0</td>\n",
       "      <td>0</td>\n",
       "      <td>0</td>\n",
       "      <td>0</td>\n",
       "      <td>891327558926688256</td>\n",
       "      <td>9774</td>\n",
       "      <td>41048</td>\n",
       "      <td>https://pbs.twimg.com/media/DF6hr6BUMAAzZgT.jpg</td>\n",
       "      <td>2.0</td>\n",
       "      <td>basset</td>\n",
       "      <td>0.555712</td>\n",
       "      <td>True</td>\n",
       "      <td>English_springer</td>\n",
       "      <td>0.225770</td>\n",
       "      <td>True</td>\n",
       "      <td>German_short-haired_pointer</td>\n",
       "      <td>0.175219</td>\n",
       "      <td>True</td>\n",
       "    </tr>\n",
       "  </tbody>\n",
       "</table>\n",
       "</div>\n",
       "      <button class=\"colab-df-convert\" onclick=\"convertToInteractive('df-93cc8302-ab2d-48c3-b78c-9ab8b857b50c')\"\n",
       "              title=\"Convert this dataframe to an interactive table.\"\n",
       "              style=\"display:none;\">\n",
       "        \n",
       "  <svg xmlns=\"http://www.w3.org/2000/svg\" height=\"24px\"viewBox=\"0 0 24 24\"\n",
       "       width=\"24px\">\n",
       "    <path d=\"M0 0h24v24H0V0z\" fill=\"none\"/>\n",
       "    <path d=\"M18.56 5.44l.94 2.06.94-2.06 2.06-.94-2.06-.94-.94-2.06-.94 2.06-2.06.94zm-11 1L8.5 8.5l.94-2.06 2.06-.94-2.06-.94L8.5 2.5l-.94 2.06-2.06.94zm10 10l.94 2.06.94-2.06 2.06-.94-2.06-.94-.94-2.06-.94 2.06-2.06.94z\"/><path d=\"M17.41 7.96l-1.37-1.37c-.4-.4-.92-.59-1.43-.59-.52 0-1.04.2-1.43.59L10.3 9.45l-7.72 7.72c-.78.78-.78 2.05 0 2.83L4 21.41c.39.39.9.59 1.41.59.51 0 1.02-.2 1.41-.59l7.78-7.78 2.81-2.81c.8-.78.8-2.07 0-2.86zM5.41 20L4 18.59l7.72-7.72 1.47 1.35L5.41 20z\"/>\n",
       "  </svg>\n",
       "      </button>\n",
       "      \n",
       "  <style>\n",
       "    .colab-df-container {\n",
       "      display:flex;\n",
       "      flex-wrap:wrap;\n",
       "      gap: 12px;\n",
       "    }\n",
       "\n",
       "    .colab-df-convert {\n",
       "      background-color: #E8F0FE;\n",
       "      border: none;\n",
       "      border-radius: 50%;\n",
       "      cursor: pointer;\n",
       "      display: none;\n",
       "      fill: #1967D2;\n",
       "      height: 32px;\n",
       "      padding: 0 0 0 0;\n",
       "      width: 32px;\n",
       "    }\n",
       "\n",
       "    .colab-df-convert:hover {\n",
       "      background-color: #E2EBFA;\n",
       "      box-shadow: 0px 1px 2px rgba(60, 64, 67, 0.3), 0px 1px 3px 1px rgba(60, 64, 67, 0.15);\n",
       "      fill: #174EA6;\n",
       "    }\n",
       "\n",
       "    [theme=dark] .colab-df-convert {\n",
       "      background-color: #3B4455;\n",
       "      fill: #D2E3FC;\n",
       "    }\n",
       "\n",
       "    [theme=dark] .colab-df-convert:hover {\n",
       "      background-color: #434B5C;\n",
       "      box-shadow: 0px 1px 3px 1px rgba(0, 0, 0, 0.15);\n",
       "      filter: drop-shadow(0px 1px 2px rgba(0, 0, 0, 0.3));\n",
       "      fill: #FFFFFF;\n",
       "    }\n",
       "  </style>\n",
       "\n",
       "      <script>\n",
       "        const buttonEl =\n",
       "          document.querySelector('#df-93cc8302-ab2d-48c3-b78c-9ab8b857b50c button.colab-df-convert');\n",
       "        buttonEl.style.display =\n",
       "          google.colab.kernel.accessAllowed ? 'block' : 'none';\n",
       "\n",
       "        async function convertToInteractive(key) {\n",
       "          const element = document.querySelector('#df-93cc8302-ab2d-48c3-b78c-9ab8b857b50c');\n",
       "          const dataTable =\n",
       "            await google.colab.kernel.invokeFunction('convertToInteractive',\n",
       "                                                     [key], {});\n",
       "          if (!dataTable) return;\n",
       "\n",
       "          const docLinkHtml = 'Like what you see? Visit the ' +\n",
       "            '<a target=\"_blank\" href=https://colab.research.google.com/notebooks/data_table.ipynb>data table notebook</a>'\n",
       "            + ' to learn more about interactive tables.';\n",
       "          element.innerHTML = '';\n",
       "          dataTable['output_type'] = 'display_data';\n",
       "          await google.colab.output.renderOutput(dataTable, element);\n",
       "          const docLink = document.createElement('div');\n",
       "          docLink.innerHTML = docLinkHtml;\n",
       "          element.appendChild(docLink);\n",
       "        }\n",
       "      </script>\n",
       "    </div>\n",
       "  </div>\n",
       "  "
      ],
      "text/plain": [
       "             tweet_id  in_reply_to_status_id  in_reply_to_user_id  \\\n",
       "0  892420643555336193                    NaN                  NaN   \n",
       "1  892177421306343426                    NaN                  NaN   \n",
       "2  891815181378084864                    NaN                  NaN   \n",
       "3  891689557279858688                    NaN                  NaN   \n",
       "4  891327558926688256                    NaN                  NaN   \n",
       "\n",
       "                  timestamp                              source  \\\n",
       "0 2017-08-01 16:23:56+00:00  http://twitter.com/download/iphone   \n",
       "1 2017-08-01 00:17:27+00:00  http://twitter.com/download/iphone   \n",
       "2 2017-07-31 00:18:03+00:00  http://twitter.com/download/iphone   \n",
       "3 2017-07-30 15:58:51+00:00  http://twitter.com/download/iphone   \n",
       "4 2017-07-29 16:00:24+00:00  http://twitter.com/download/iphone   \n",
       "\n",
       "                                                text  retweeted_status_id  \\\n",
       "0  This is Phineas. He's a mystical boy. Only eve...                  NaN   \n",
       "1  This is Tilly. She's just checking pup on you....                  NaN   \n",
       "2  This is Archie. He is a rare Norwegian Pouncin...                  NaN   \n",
       "3  This is Darla. She commenced a snooze mid meal...                  NaN   \n",
       "4  This is Franklin. He would like you to stop ca...                  NaN   \n",
       "\n",
       "   retweeted_status_user_id retweeted_status_timestamp  \\\n",
       "0                       NaN                        NaN   \n",
       "1                       NaN                        NaN   \n",
       "2                       NaN                        NaN   \n",
       "3                       NaN                        NaN   \n",
       "4                       NaN                        NaN   \n",
       "\n",
       "                                       expanded_urls  rating_numerator  \\\n",
       "0  https://twitter.com/dog_rates/status/892420643...                13   \n",
       "1  https://twitter.com/dog_rates/status/892177421...                13   \n",
       "2  https://twitter.com/dog_rates/status/891815181...                12   \n",
       "3  https://twitter.com/dog_rates/status/891689557...                13   \n",
       "4  https://twitter.com/dog_rates/status/891327558...                12   \n",
       "\n",
       "   rating_denominator      name  doggo  floofer  pupper  puppo  \\\n",
       "0                  10   Phineas      0        0       0      0   \n",
       "1                  10     Tilly      0        0       0      0   \n",
       "2                  10    Archie      0        0       0      0   \n",
       "3                  10     Darla      0        0       0      0   \n",
       "4                  10  Franklin      0        0       0      0   \n",
       "\n",
       "                   id  retweet_count  favorite_count  \\\n",
       "0  892420643555336193           8853           39467   \n",
       "1  892177421306343426           6514           33819   \n",
       "2  891815181378084864           4328           25461   \n",
       "3  891689557279858688           8964           42908   \n",
       "4  891327558926688256           9774           41048   \n",
       "\n",
       "                                           jpg_url  img_num           p1  \\\n",
       "0                                              NaN      NaN          NaN   \n",
       "1  https://pbs.twimg.com/media/DGGmoV4XsAAUL6n.jpg      1.0    Chihuahua   \n",
       "2  https://pbs.twimg.com/media/DGBdLU1WsAANxJ9.jpg      1.0    Chihuahua   \n",
       "3  https://pbs.twimg.com/media/DF_q7IAWsAEuuN8.jpg      1.0  paper_towel   \n",
       "4  https://pbs.twimg.com/media/DF6hr6BUMAAzZgT.jpg      2.0       basset   \n",
       "\n",
       "    p1_conf p1_dog                  p2   p2_conf p2_dog  \\\n",
       "0       NaN    NaN                 NaN       NaN    NaN   \n",
       "1  0.323581   True            Pekinese  0.090647   True   \n",
       "2  0.716012   True            malamute  0.078253   True   \n",
       "3  0.170278  False  Labrador_retriever  0.168086   True   \n",
       "4  0.555712   True    English_springer  0.225770   True   \n",
       "\n",
       "                            p3   p3_conf p3_dog  \n",
       "0                          NaN       NaN    NaN  \n",
       "1                     papillon  0.068957   True  \n",
       "2                       kelpie  0.031379   True  \n",
       "3                      spatula  0.040836  False  \n",
       "4  German_short-haired_pointer  0.175219   True  "
      ]
     },
     "execution_count": 60,
     "metadata": {},
     "output_type": "execute_result"
    }
   ],
   "source": [
    "df_tw_enhanced_merged_full.head()"
   ]
  },
  {
   "cell_type": "code",
   "execution_count": null,
   "metadata": {
    "colab": {
     "base_uri": "https://localhost:8080/"
    },
    "executionInfo": {
     "elapsed": 2,
     "status": "ok",
     "timestamp": 1655111842117,
     "user": {
      "displayName": "Xấu Xa Kẻ",
      "userId": "08263153180530503733"
     },
     "user_tz": -420
    },
    "id": "-TyBPY26Ylzd",
    "outputId": "0873ea77-069d-4c77-f257-9407416bcfa8"
   },
   "outputs": [
    {
     "data": {
      "text/plain": [
       "(1385, 31)"
      ]
     },
     "execution_count": 61,
     "metadata": {},
     "output_type": "execute_result"
    }
   ],
   "source": [
    "df_tw_enhanced_merged_full.shape"
   ]
  },
  {
   "cell_type": "markdown",
   "metadata": {
    "id": "yNQz1QVj4dak"
   },
   "source": [
    "## Storing Data\n",
    "Save gathered, assessed, and cleaned master dataset to a CSV file named \"twitter_archive_master.csv\"."
   ]
  },
  {
   "cell_type": "code",
   "execution_count": null,
   "metadata": {
    "id": "LJWYby1U4dak"
   },
   "outputs": [],
   "source": [
    "df_tw_enhanced_merged_full.to_csv(data_path + \"twitter_archive_master.csv\")"
   ]
  },
  {
   "cell_type": "markdown",
   "metadata": {
    "id": "qXBCA--84dak"
   },
   "source": [
    "## Analyzing and Visualizing Data\n",
    "In this section, analyze and visualize your wrangled data. You must produce at least **three (3) insights and one (1) visualization.**"
   ]
  },
  {
   "cell_type": "code",
   "execution_count": null,
   "metadata": {
    "colab": {
     "base_uri": "https://localhost:8080/"
    },
    "executionInfo": {
     "elapsed": 312,
     "status": "ok",
     "timestamp": 1655115087037,
     "user": {
      "displayName": "Xấu Xa Kẻ",
      "userId": "08263153180530503733"
     },
     "user_tz": -420
    },
    "id": "_pWDdfvyi8Gw",
    "outputId": "a11bcff3-7627-49b8-884d-25c94da30609"
   },
   "outputs": [
    {
     "data": {
      "text/plain": [
       "doggo       42\n",
       "floofer      5\n",
       "pupper     124\n",
       "puppo       16\n",
       "dtype: int64"
      ]
     },
     "execution_count": 85,
     "metadata": {},
     "output_type": "execute_result"
    }
   ],
   "source": [
    "stages_count = df_tw_enhanced_merged_full[['doggo','floofer','pupper','puppo']].sum()\n",
    "stages_count"
   ]
  },
  {
   "cell_type": "code",
   "execution_count": null,
   "metadata": {
    "colab": {
     "base_uri": "https://localhost:8080/"
    },
    "executionInfo": {
     "elapsed": 491,
     "status": "ok",
     "timestamp": 1655115069240,
     "user": {
      "displayName": "Xấu Xa Kẻ",
      "userId": "08263153180530503733"
     },
     "user_tz": -420
    },
    "id": "UFNyJ8fMi5AK",
    "outputId": "c4270bab-1f44-46f6-dab7-7b752ce16ea0"
   },
   "outputs": [
    {
     "data": {
      "text/plain": [
       "source\n",
       "http://twitter.com                                16\n",
       "http://twitter.com/download/iphone              1320\n",
       "http://vine.co                                    41\n",
       "https://about.twitter.com/products/tweetdeck       8\n",
       "Name: tweet_id, dtype: int64"
      ]
     },
     "execution_count": 84,
     "metadata": {},
     "output_type": "execute_result"
    }
   ],
   "source": [
    "source_count = df_tw_enhanced_merged_full.groupby('source')['tweet_id'].count()\n",
    "source_count"
   ]
  },
  {
   "cell_type": "code",
   "execution_count": null,
   "metadata": {
    "colab": {
     "base_uri": "https://localhost:8080/"
    },
    "executionInfo": {
     "elapsed": 467,
     "status": "ok",
     "timestamp": 1655116880578,
     "user": {
      "displayName": "Xấu Xa Kẻ",
      "userId": "08263153180530503733"
     },
     "user_tz": -420
    },
    "id": "ZSM4jXOykSZ2",
    "outputId": "8a8a5e41-5827-45bd-8571-24c51c2887c6"
   },
   "outputs": [
    {
     "data": {
      "text/plain": [
       "p1\n",
       "French_bulldog        22\n",
       "Samoyed               23\n",
       "Pomeranian            25\n",
       "toy_poodle            28\n",
       "chow                  31\n",
       "pug                   39\n",
       "Chihuahua             59\n",
       "Labrador_retriever    64\n",
       "Pembroke              64\n",
       "golden_retriever      91\n",
       "Name: tweet_id, dtype: int64"
      ]
     },
     "execution_count": 117,
     "metadata": {},
     "output_type": "execute_result"
    }
   ],
   "source": [
    "dog_race_count_top10 = df_tw_enhanced_merged_full.groupby('p1')['tweet_id'].count().nlargest(10).sort_values()\n",
    "dog_race_count_top10"
   ]
  },
  {
   "cell_type": "code",
   "execution_count": null,
   "metadata": {
    "colab": {
     "base_uri": "https://localhost:8080/",
     "height": 300
    },
    "executionInfo": {
     "elapsed": 19,
     "status": "ok",
     "timestamp": 1655117413166,
     "user": {
      "displayName": "Xấu Xa Kẻ",
      "userId": "08263153180530503733"
     },
     "user_tz": -420
    },
    "id": "G_Kfx13urE_y",
    "outputId": "a3c88ff5-a10d-4581-8529-b1e208d54a21"
   },
   "outputs": [
    {
     "data": {
      "text/html": [
       "\n",
       "  <div id=\"df-08b563ba-6b1e-4ab4-a28a-e55415714189\">\n",
       "    <div class=\"colab-df-container\">\n",
       "      <div>\n",
       "<style scoped>\n",
       "    .dataframe tbody tr th:only-of-type {\n",
       "        vertical-align: middle;\n",
       "    }\n",
       "\n",
       "    .dataframe tbody tr th {\n",
       "        vertical-align: top;\n",
       "    }\n",
       "\n",
       "    .dataframe thead th {\n",
       "        text-align: right;\n",
       "    }\n",
       "</style>\n",
       "<table border=\"1\" class=\"dataframe\">\n",
       "  <thead>\n",
       "    <tr style=\"text-align: right;\">\n",
       "      <th></th>\n",
       "      <th>tweet_year</th>\n",
       "    </tr>\n",
       "  </thead>\n",
       "  <tbody>\n",
       "    <tr>\n",
       "      <th>count</th>\n",
       "      <td>1385.000000</td>\n",
       "    </tr>\n",
       "    <tr>\n",
       "      <th>mean</th>\n",
       "      <td>2015.931408</td>\n",
       "    </tr>\n",
       "    <tr>\n",
       "      <th>std</th>\n",
       "      <td>0.688722</td>\n",
       "    </tr>\n",
       "    <tr>\n",
       "      <th>min</th>\n",
       "      <td>2015.000000</td>\n",
       "    </tr>\n",
       "    <tr>\n",
       "      <th>25%</th>\n",
       "      <td>2015.000000</td>\n",
       "    </tr>\n",
       "    <tr>\n",
       "      <th>50%</th>\n",
       "      <td>2016.000000</td>\n",
       "    </tr>\n",
       "    <tr>\n",
       "      <th>75%</th>\n",
       "      <td>2016.000000</td>\n",
       "    </tr>\n",
       "    <tr>\n",
       "      <th>max</th>\n",
       "      <td>2017.000000</td>\n",
       "    </tr>\n",
       "  </tbody>\n",
       "</table>\n",
       "</div>\n",
       "      <button class=\"colab-df-convert\" onclick=\"convertToInteractive('df-08b563ba-6b1e-4ab4-a28a-e55415714189')\"\n",
       "              title=\"Convert this dataframe to an interactive table.\"\n",
       "              style=\"display:none;\">\n",
       "        \n",
       "  <svg xmlns=\"http://www.w3.org/2000/svg\" height=\"24px\"viewBox=\"0 0 24 24\"\n",
       "       width=\"24px\">\n",
       "    <path d=\"M0 0h24v24H0V0z\" fill=\"none\"/>\n",
       "    <path d=\"M18.56 5.44l.94 2.06.94-2.06 2.06-.94-2.06-.94-.94-2.06-.94 2.06-2.06.94zm-11 1L8.5 8.5l.94-2.06 2.06-.94-2.06-.94L8.5 2.5l-.94 2.06-2.06.94zm10 10l.94 2.06.94-2.06 2.06-.94-2.06-.94-.94-2.06-.94 2.06-2.06.94z\"/><path d=\"M17.41 7.96l-1.37-1.37c-.4-.4-.92-.59-1.43-.59-.52 0-1.04.2-1.43.59L10.3 9.45l-7.72 7.72c-.78.78-.78 2.05 0 2.83L4 21.41c.39.39.9.59 1.41.59.51 0 1.02-.2 1.41-.59l7.78-7.78 2.81-2.81c.8-.78.8-2.07 0-2.86zM5.41 20L4 18.59l7.72-7.72 1.47 1.35L5.41 20z\"/>\n",
       "  </svg>\n",
       "      </button>\n",
       "      \n",
       "  <style>\n",
       "    .colab-df-container {\n",
       "      display:flex;\n",
       "      flex-wrap:wrap;\n",
       "      gap: 12px;\n",
       "    }\n",
       "\n",
       "    .colab-df-convert {\n",
       "      background-color: #E8F0FE;\n",
       "      border: none;\n",
       "      border-radius: 50%;\n",
       "      cursor: pointer;\n",
       "      display: none;\n",
       "      fill: #1967D2;\n",
       "      height: 32px;\n",
       "      padding: 0 0 0 0;\n",
       "      width: 32px;\n",
       "    }\n",
       "\n",
       "    .colab-df-convert:hover {\n",
       "      background-color: #E2EBFA;\n",
       "      box-shadow: 0px 1px 2px rgba(60, 64, 67, 0.3), 0px 1px 3px 1px rgba(60, 64, 67, 0.15);\n",
       "      fill: #174EA6;\n",
       "    }\n",
       "\n",
       "    [theme=dark] .colab-df-convert {\n",
       "      background-color: #3B4455;\n",
       "      fill: #D2E3FC;\n",
       "    }\n",
       "\n",
       "    [theme=dark] .colab-df-convert:hover {\n",
       "      background-color: #434B5C;\n",
       "      box-shadow: 0px 1px 3px 1px rgba(0, 0, 0, 0.15);\n",
       "      filter: drop-shadow(0px 1px 2px rgba(0, 0, 0, 0.3));\n",
       "      fill: #FFFFFF;\n",
       "    }\n",
       "  </style>\n",
       "\n",
       "      <script>\n",
       "        const buttonEl =\n",
       "          document.querySelector('#df-08b563ba-6b1e-4ab4-a28a-e55415714189 button.colab-df-convert');\n",
       "        buttonEl.style.display =\n",
       "          google.colab.kernel.accessAllowed ? 'block' : 'none';\n",
       "\n",
       "        async function convertToInteractive(key) {\n",
       "          const element = document.querySelector('#df-08b563ba-6b1e-4ab4-a28a-e55415714189');\n",
       "          const dataTable =\n",
       "            await google.colab.kernel.invokeFunction('convertToInteractive',\n",
       "                                                     [key], {});\n",
       "          if (!dataTable) return;\n",
       "\n",
       "          const docLinkHtml = 'Like what you see? Visit the ' +\n",
       "            '<a target=\"_blank\" href=https://colab.research.google.com/notebooks/data_table.ipynb>data table notebook</a>'\n",
       "            + ' to learn more about interactive tables.';\n",
       "          element.innerHTML = '';\n",
       "          dataTable['output_type'] = 'display_data';\n",
       "          await google.colab.output.renderOutput(dataTable, element);\n",
       "          const docLink = document.createElement('div');\n",
       "          docLink.innerHTML = docLinkHtml;\n",
       "          element.appendChild(docLink);\n",
       "        }\n",
       "      </script>\n",
       "    </div>\n",
       "  </div>\n",
       "  "
      ],
      "text/plain": [
       "        tweet_year\n",
       "count  1385.000000\n",
       "mean   2015.931408\n",
       "std       0.688722\n",
       "min    2015.000000\n",
       "25%    2015.000000\n",
       "50%    2016.000000\n",
       "75%    2016.000000\n",
       "max    2017.000000"
      ]
     },
     "execution_count": 122,
     "metadata": {},
     "output_type": "execute_result"
    }
   ],
   "source": [
    "df_tw_enhanced_merged_full['tweet_year'] = df_tw_enhanced_merged_full['timestamp'].dt.year\n",
    "df_tw_enhanced_merged_full[['tweet_year']].describe()"
   ]
  },
  {
   "cell_type": "code",
   "execution_count": null,
   "metadata": {
    "id": "ZQwkAHvrr97i"
   },
   "outputs": [],
   "source": [
    "df_source_changes = pd.DataFrame(df_tw_enhanced_merged_full.groupby(['tweet_year', 'source'])['tweet_id'].count()).reset_index()"
   ]
  },
  {
   "cell_type": "code",
   "execution_count": null,
   "metadata": {
    "colab": {
     "base_uri": "https://localhost:8080/",
     "height": 363
    },
    "executionInfo": {
     "elapsed": 350,
     "status": "ok",
     "timestamp": 1655118952027,
     "user": {
      "displayName": "Xấu Xa Kẻ",
      "userId": "08263153180530503733"
     },
     "user_tz": -420
    },
    "id": "d7uOFtzfxubc",
    "outputId": "7a221bc8-a559-4869-a5f1-e74baefbe03f"
   },
   "outputs": [
    {
     "data": {
      "text/html": [
       "\n",
       "  <div id=\"df-970f0538-454d-4485-afd2-3de4a3d7ab9a\">\n",
       "    <div class=\"colab-df-container\">\n",
       "      <div>\n",
       "<style scoped>\n",
       "    .dataframe tbody tr th:only-of-type {\n",
       "        vertical-align: middle;\n",
       "    }\n",
       "\n",
       "    .dataframe tbody tr th {\n",
       "        vertical-align: top;\n",
       "    }\n",
       "\n",
       "    .dataframe thead th {\n",
       "        text-align: right;\n",
       "    }\n",
       "</style>\n",
       "<table border=\"1\" class=\"dataframe\">\n",
       "  <thead>\n",
       "    <tr style=\"text-align: right;\">\n",
       "      <th></th>\n",
       "      <th>tweet_year</th>\n",
       "      <th>source</th>\n",
       "      <th>tweet_id</th>\n",
       "    </tr>\n",
       "  </thead>\n",
       "  <tbody>\n",
       "    <tr>\n",
       "      <th>0</th>\n",
       "      <td>2015</td>\n",
       "      <td>http://twitter.com</td>\n",
       "      <td>11</td>\n",
       "    </tr>\n",
       "    <tr>\n",
       "      <th>1</th>\n",
       "      <td>2015</td>\n",
       "      <td>http://twitter.com/download/iphone</td>\n",
       "      <td>363</td>\n",
       "    </tr>\n",
       "    <tr>\n",
       "      <th>2</th>\n",
       "      <td>2015</td>\n",
       "      <td>http://vine.co</td>\n",
       "      <td>3</td>\n",
       "    </tr>\n",
       "    <tr>\n",
       "      <th>3</th>\n",
       "      <td>2015</td>\n",
       "      <td>https://about.twitter.com/products/tweetdeck</td>\n",
       "      <td>2</td>\n",
       "    </tr>\n",
       "    <tr>\n",
       "      <th>4</th>\n",
       "      <td>2016</td>\n",
       "      <td>http://twitter.com</td>\n",
       "      <td>3</td>\n",
       "    </tr>\n",
       "    <tr>\n",
       "      <th>5</th>\n",
       "      <td>2016</td>\n",
       "      <td>http://twitter.com/download/iphone</td>\n",
       "      <td>675</td>\n",
       "    </tr>\n",
       "    <tr>\n",
       "      <th>6</th>\n",
       "      <td>2016</td>\n",
       "      <td>http://vine.co</td>\n",
       "      <td>38</td>\n",
       "    </tr>\n",
       "    <tr>\n",
       "      <th>7</th>\n",
       "      <td>2016</td>\n",
       "      <td>https://about.twitter.com/products/tweetdeck</td>\n",
       "      <td>6</td>\n",
       "    </tr>\n",
       "    <tr>\n",
       "      <th>8</th>\n",
       "      <td>2017</td>\n",
       "      <td>http://twitter.com</td>\n",
       "      <td>2</td>\n",
       "    </tr>\n",
       "    <tr>\n",
       "      <th>9</th>\n",
       "      <td>2017</td>\n",
       "      <td>http://twitter.com/download/iphone</td>\n",
       "      <td>282</td>\n",
       "    </tr>\n",
       "  </tbody>\n",
       "</table>\n",
       "</div>\n",
       "      <button class=\"colab-df-convert\" onclick=\"convertToInteractive('df-970f0538-454d-4485-afd2-3de4a3d7ab9a')\"\n",
       "              title=\"Convert this dataframe to an interactive table.\"\n",
       "              style=\"display:none;\">\n",
       "        \n",
       "  <svg xmlns=\"http://www.w3.org/2000/svg\" height=\"24px\"viewBox=\"0 0 24 24\"\n",
       "       width=\"24px\">\n",
       "    <path d=\"M0 0h24v24H0V0z\" fill=\"none\"/>\n",
       "    <path d=\"M18.56 5.44l.94 2.06.94-2.06 2.06-.94-2.06-.94-.94-2.06-.94 2.06-2.06.94zm-11 1L8.5 8.5l.94-2.06 2.06-.94-2.06-.94L8.5 2.5l-.94 2.06-2.06.94zm10 10l.94 2.06.94-2.06 2.06-.94-2.06-.94-.94-2.06-.94 2.06-2.06.94z\"/><path d=\"M17.41 7.96l-1.37-1.37c-.4-.4-.92-.59-1.43-.59-.52 0-1.04.2-1.43.59L10.3 9.45l-7.72 7.72c-.78.78-.78 2.05 0 2.83L4 21.41c.39.39.9.59 1.41.59.51 0 1.02-.2 1.41-.59l7.78-7.78 2.81-2.81c.8-.78.8-2.07 0-2.86zM5.41 20L4 18.59l7.72-7.72 1.47 1.35L5.41 20z\"/>\n",
       "  </svg>\n",
       "      </button>\n",
       "      \n",
       "  <style>\n",
       "    .colab-df-container {\n",
       "      display:flex;\n",
       "      flex-wrap:wrap;\n",
       "      gap: 12px;\n",
       "    }\n",
       "\n",
       "    .colab-df-convert {\n",
       "      background-color: #E8F0FE;\n",
       "      border: none;\n",
       "      border-radius: 50%;\n",
       "      cursor: pointer;\n",
       "      display: none;\n",
       "      fill: #1967D2;\n",
       "      height: 32px;\n",
       "      padding: 0 0 0 0;\n",
       "      width: 32px;\n",
       "    }\n",
       "\n",
       "    .colab-df-convert:hover {\n",
       "      background-color: #E2EBFA;\n",
       "      box-shadow: 0px 1px 2px rgba(60, 64, 67, 0.3), 0px 1px 3px 1px rgba(60, 64, 67, 0.15);\n",
       "      fill: #174EA6;\n",
       "    }\n",
       "\n",
       "    [theme=dark] .colab-df-convert {\n",
       "      background-color: #3B4455;\n",
       "      fill: #D2E3FC;\n",
       "    }\n",
       "\n",
       "    [theme=dark] .colab-df-convert:hover {\n",
       "      background-color: #434B5C;\n",
       "      box-shadow: 0px 1px 3px 1px rgba(0, 0, 0, 0.15);\n",
       "      filter: drop-shadow(0px 1px 2px rgba(0, 0, 0, 0.3));\n",
       "      fill: #FFFFFF;\n",
       "    }\n",
       "  </style>\n",
       "\n",
       "      <script>\n",
       "        const buttonEl =\n",
       "          document.querySelector('#df-970f0538-454d-4485-afd2-3de4a3d7ab9a button.colab-df-convert');\n",
       "        buttonEl.style.display =\n",
       "          google.colab.kernel.accessAllowed ? 'block' : 'none';\n",
       "\n",
       "        async function convertToInteractive(key) {\n",
       "          const element = document.querySelector('#df-970f0538-454d-4485-afd2-3de4a3d7ab9a');\n",
       "          const dataTable =\n",
       "            await google.colab.kernel.invokeFunction('convertToInteractive',\n",
       "                                                     [key], {});\n",
       "          if (!dataTable) return;\n",
       "\n",
       "          const docLinkHtml = 'Like what you see? Visit the ' +\n",
       "            '<a target=\"_blank\" href=https://colab.research.google.com/notebooks/data_table.ipynb>data table notebook</a>'\n",
       "            + ' to learn more about interactive tables.';\n",
       "          element.innerHTML = '';\n",
       "          dataTable['output_type'] = 'display_data';\n",
       "          await google.colab.output.renderOutput(dataTable, element);\n",
       "          const docLink = document.createElement('div');\n",
       "          docLink.innerHTML = docLinkHtml;\n",
       "          element.appendChild(docLink);\n",
       "        }\n",
       "      </script>\n",
       "    </div>\n",
       "  </div>\n",
       "  "
      ],
      "text/plain": [
       "   tweet_year                                        source  tweet_id\n",
       "0        2015                            http://twitter.com        11\n",
       "1        2015            http://twitter.com/download/iphone       363\n",
       "2        2015                                http://vine.co         3\n",
       "3        2015  https://about.twitter.com/products/tweetdeck         2\n",
       "4        2016                            http://twitter.com         3\n",
       "5        2016            http://twitter.com/download/iphone       675\n",
       "6        2016                                http://vine.co        38\n",
       "7        2016  https://about.twitter.com/products/tweetdeck         6\n",
       "8        2017                            http://twitter.com         2\n",
       "9        2017            http://twitter.com/download/iphone       282"
      ]
     },
     "execution_count": 146,
     "metadata": {},
     "output_type": "execute_result"
    }
   ],
   "source": [
    "df_source_changes"
   ]
  },
  {
   "cell_type": "code",
   "execution_count": null,
   "metadata": {
    "colab": {
     "base_uri": "https://localhost:8080/",
     "height": 175
    },
    "executionInfo": {
     "elapsed": 20,
     "status": "ok",
     "timestamp": 1655119528069,
     "user": {
      "displayName": "Xấu Xa Kẻ",
      "userId": "08263153180530503733"
     },
     "user_tz": -420
    },
    "id": "rso6wsKgxkN-",
    "outputId": "75af66e5-5e65-4a3c-b549-79a9f543b702"
   },
   "outputs": [
    {
     "data": {
      "text/html": [
       "\n",
       "  <div id=\"df-4f46cc82-a1f8-4d5e-b302-7540c32abea9\">\n",
       "    <div class=\"colab-df-container\">\n",
       "      <div>\n",
       "<style scoped>\n",
       "    .dataframe tbody tr th:only-of-type {\n",
       "        vertical-align: middle;\n",
       "    }\n",
       "\n",
       "    .dataframe tbody tr th {\n",
       "        vertical-align: top;\n",
       "    }\n",
       "\n",
       "    .dataframe thead th {\n",
       "        text-align: right;\n",
       "    }\n",
       "</style>\n",
       "<table border=\"1\" class=\"dataframe\">\n",
       "  <thead>\n",
       "    <tr style=\"text-align: right;\">\n",
       "      <th>source</th>\n",
       "      <th>Twitter.com</th>\n",
       "      <th>Iphone</th>\n",
       "      <th>Vine.co</th>\n",
       "      <th>Tweetdeck</th>\n",
       "    </tr>\n",
       "    <tr>\n",
       "      <th>tweet_year</th>\n",
       "      <th></th>\n",
       "      <th></th>\n",
       "      <th></th>\n",
       "      <th></th>\n",
       "    </tr>\n",
       "  </thead>\n",
       "  <tbody>\n",
       "    <tr>\n",
       "      <th>2015</th>\n",
       "      <td>11.0</td>\n",
       "      <td>363.0</td>\n",
       "      <td>3.0</td>\n",
       "      <td>2.0</td>\n",
       "    </tr>\n",
       "    <tr>\n",
       "      <th>2016</th>\n",
       "      <td>3.0</td>\n",
       "      <td>675.0</td>\n",
       "      <td>38.0</td>\n",
       "      <td>6.0</td>\n",
       "    </tr>\n",
       "    <tr>\n",
       "      <th>2017</th>\n",
       "      <td>2.0</td>\n",
       "      <td>282.0</td>\n",
       "      <td>NaN</td>\n",
       "      <td>NaN</td>\n",
       "    </tr>\n",
       "  </tbody>\n",
       "</table>\n",
       "</div>\n",
       "      <button class=\"colab-df-convert\" onclick=\"convertToInteractive('df-4f46cc82-a1f8-4d5e-b302-7540c32abea9')\"\n",
       "              title=\"Convert this dataframe to an interactive table.\"\n",
       "              style=\"display:none;\">\n",
       "        \n",
       "  <svg xmlns=\"http://www.w3.org/2000/svg\" height=\"24px\"viewBox=\"0 0 24 24\"\n",
       "       width=\"24px\">\n",
       "    <path d=\"M0 0h24v24H0V0z\" fill=\"none\"/>\n",
       "    <path d=\"M18.56 5.44l.94 2.06.94-2.06 2.06-.94-2.06-.94-.94-2.06-.94 2.06-2.06.94zm-11 1L8.5 8.5l.94-2.06 2.06-.94-2.06-.94L8.5 2.5l-.94 2.06-2.06.94zm10 10l.94 2.06.94-2.06 2.06-.94-2.06-.94-.94-2.06-.94 2.06-2.06.94z\"/><path d=\"M17.41 7.96l-1.37-1.37c-.4-.4-.92-.59-1.43-.59-.52 0-1.04.2-1.43.59L10.3 9.45l-7.72 7.72c-.78.78-.78 2.05 0 2.83L4 21.41c.39.39.9.59 1.41.59.51 0 1.02-.2 1.41-.59l7.78-7.78 2.81-2.81c.8-.78.8-2.07 0-2.86zM5.41 20L4 18.59l7.72-7.72 1.47 1.35L5.41 20z\"/>\n",
       "  </svg>\n",
       "      </button>\n",
       "      \n",
       "  <style>\n",
       "    .colab-df-container {\n",
       "      display:flex;\n",
       "      flex-wrap:wrap;\n",
       "      gap: 12px;\n",
       "    }\n",
       "\n",
       "    .colab-df-convert {\n",
       "      background-color: #E8F0FE;\n",
       "      border: none;\n",
       "      border-radius: 50%;\n",
       "      cursor: pointer;\n",
       "      display: none;\n",
       "      fill: #1967D2;\n",
       "      height: 32px;\n",
       "      padding: 0 0 0 0;\n",
       "      width: 32px;\n",
       "    }\n",
       "\n",
       "    .colab-df-convert:hover {\n",
       "      background-color: #E2EBFA;\n",
       "      box-shadow: 0px 1px 2px rgba(60, 64, 67, 0.3), 0px 1px 3px 1px rgba(60, 64, 67, 0.15);\n",
       "      fill: #174EA6;\n",
       "    }\n",
       "\n",
       "    [theme=dark] .colab-df-convert {\n",
       "      background-color: #3B4455;\n",
       "      fill: #D2E3FC;\n",
       "    }\n",
       "\n",
       "    [theme=dark] .colab-df-convert:hover {\n",
       "      background-color: #434B5C;\n",
       "      box-shadow: 0px 1px 3px 1px rgba(0, 0, 0, 0.15);\n",
       "      filter: drop-shadow(0px 1px 2px rgba(0, 0, 0, 0.3));\n",
       "      fill: #FFFFFF;\n",
       "    }\n",
       "  </style>\n",
       "\n",
       "      <script>\n",
       "        const buttonEl =\n",
       "          document.querySelector('#df-4f46cc82-a1f8-4d5e-b302-7540c32abea9 button.colab-df-convert');\n",
       "        buttonEl.style.display =\n",
       "          google.colab.kernel.accessAllowed ? 'block' : 'none';\n",
       "\n",
       "        async function convertToInteractive(key) {\n",
       "          const element = document.querySelector('#df-4f46cc82-a1f8-4d5e-b302-7540c32abea9');\n",
       "          const dataTable =\n",
       "            await google.colab.kernel.invokeFunction('convertToInteractive',\n",
       "                                                     [key], {});\n",
       "          if (!dataTable) return;\n",
       "\n",
       "          const docLinkHtml = 'Like what you see? Visit the ' +\n",
       "            '<a target=\"_blank\" href=https://colab.research.google.com/notebooks/data_table.ipynb>data table notebook</a>'\n",
       "            + ' to learn more about interactive tables.';\n",
       "          element.innerHTML = '';\n",
       "          dataTable['output_type'] = 'display_data';\n",
       "          await google.colab.output.renderOutput(dataTable, element);\n",
       "          const docLink = document.createElement('div');\n",
       "          docLink.innerHTML = docLinkHtml;\n",
       "          element.appendChild(docLink);\n",
       "        }\n",
       "      </script>\n",
       "    </div>\n",
       "  </div>\n",
       "  "
      ],
      "text/plain": [
       "source      Twitter.com  Iphone  Vine.co  Tweetdeck\n",
       "tweet_year                                         \n",
       "2015               11.0   363.0      3.0        2.0\n",
       "2016                3.0   675.0     38.0        6.0\n",
       "2017                2.0   282.0      NaN        NaN"
      ]
     },
     "execution_count": 156,
     "metadata": {},
     "output_type": "execute_result"
    }
   ],
   "source": [
    "df_source_changes_unstacked = df_source_changes.set_index([df_source_changes['tweet_year'], 'source'])['tweet_id'].unstack()\n",
    "df_source_changes_unstacked = df_source_changes_unstacked.rename(columns={\"http://twitter.com\":\"Twitter.com\", \"http://twitter.com/download/iphone\":\"Iphone\", \"http://vine.co\":\"Vine.co\", \"https://about.twitter.com/products/tweetdeck\":\"Tweetdeck\"})\n",
    "df_source_changes_unstacked"
   ]
  },
  {
   "cell_type": "markdown",
   "metadata": {
    "id": "RSayZjlA4dak"
   },
   "source": [
    "### Insights:\n",
    "1. The most popular dog stages in the tweets is pupper. It maybe because this is the cutest stage of a dog that people may see.\n",
    "\n",
    "2. The 3 most popular dog breeds in the tweets are Golden Retriever, Pembroke and Labrador Retriever\n",
    "\n",
    "3. During the period of 2015 to 2017, it seems that the number of tweets posted by mobile device (Iphone) has increased, while the number of tweets posted from Twitter official site has dropped, and no one used Vine.co or Tweetdeck to post any more."
   ]
  },
  {
   "cell_type": "markdown",
   "metadata": {
    "collapsed": true,
    "id": "JeF2uot14dal"
   },
   "source": [
    "### Visualization"
   ]
  },
  {
   "cell_type": "markdown",
   "metadata": {
    "id": "v_RR8x5I580M"
   },
   "source": [
    "- As I have converted the dog stages columns to 0 and 1 values, I can count the number of each category by sum the values by columns. I used the merged and cleaned dataset with 4 columns 'doggo', 'floofer', 'pupper', 'puppo' for this task. "
   ]
  },
  {
   "cell_type": "code",
   "execution_count": null,
   "metadata": {
    "colab": {
     "base_uri": "https://localhost:8080/"
    },
    "executionInfo": {
     "elapsed": 540,
     "status": "ok",
     "timestamp": 1655114517945,
     "user": {
      "displayName": "Xấu Xa Kẻ",
      "userId": "08263153180530503733"
     },
     "user_tz": -420
    },
    "id": "oCA-M8UC4dak",
    "outputId": "5d94622a-2134-428b-8f40-27ce686c4d9f"
   },
   "outputs": [
    {
     "data": {
      "text/plain": [
       "Index(['doggo', 'floofer', 'pupper', 'puppo'], dtype='object')"
      ]
     },
     "execution_count": 78,
     "metadata": {},
     "output_type": "execute_result"
    }
   ],
   "source": [
    "df_tw_enhanced_merged_full[['doggo','floofer','pupper','puppo']].sum().keys()"
   ]
  },
  {
   "cell_type": "markdown",
   "metadata": {
    "id": "gQN__p2T6lCr"
   },
   "source": [
    "- To visualize the popularity of each dog stage, I used a pie chart with the proportion is calculated from the tweet counts by each stage."
   ]
  },
  {
   "cell_type": "code",
   "execution_count": null,
   "metadata": {
    "colab": {
     "base_uri": "https://localhost:8080/",
     "height": 438
    },
    "executionInfo": {
     "elapsed": 514,
     "status": "ok",
     "timestamp": 1655115220995,
     "user": {
      "displayName": "Xấu Xa Kẻ",
      "userId": "08263153180530503733"
     },
     "user_tz": -420
    },
    "id": "WOFLZoF1fkTU",
    "outputId": "3d8c9286-4632-4064-8f9c-75c7db1427cc"
   },
   "outputs": [
    {
     "data": {
      "image/png": "[encoded data removed]",
      "text/plain": [
       "<Figure size 432x432 with 1 Axes>"
      ]
     },
     "metadata": {},
     "output_type": "display_data"
    }
   ],
   "source": [
    "fig1, ax1 = plt.subplots(figsize=(6, 6))\n",
    "\n",
    "ax1.pie(stages_count.values, labels=stages_count.keys(), autopct='%.1f%%',\n",
    "       wedgeprops={'linewidth': 3.0, 'edgecolor': 'white'},\n",
    "       textprops={'size': 'x-large'})\n",
    "ax1.set_title('Distribution of tweets by dog stages', fontsize=18)\n",
    "plt.tight_layout()"
   ]
  },
  {
   "cell_type": "markdown",
   "metadata": {
    "id": "W8XCHZ8Y609f"
   },
   "source": [
    "- To visualize the most popular dog breeds, I grouped the dataset by each breed and count the tweet id (which is not duplicated). Then visualize using a horizontal bar chart with sorted descended by count value"
   ]
  },
  {
   "cell_type": "code",
   "execution_count": null,
   "metadata": {
    "colab": {
     "base_uri": "https://localhost:8080/",
     "height": 441
    },
    "executionInfo": {
     "elapsed": 906,
     "status": "ok",
     "timestamp": 1655119866077,
     "user": {
      "displayName": "Xấu Xa Kẻ",
      "userId": "08263153180530503733"
     },
     "user_tz": -420
    },
    "id": "IwMjxeYElAFh",
    "outputId": "bdd1ab8c-8c59-41d8-9584-dc364196e981"
   },
   "outputs": [
    {
     "data": {
      "image/png": "[encoded data removed]",
      "text/plain": [
       "<Figure size 432x432 with 1 Axes>"
      ]
     },
     "metadata": {
      "needs_background": "light"
     },
     "output_type": "display_data"
    }
   ],
   "source": [
    "fig3, ax3 = plt.subplots(figsize=(6, 6))\n",
    "\n",
    "ax3.barh(dog_race_count_top10.keys(), width=dog_race_count_top10.values)\n",
    "ax3.set_title('Top 10 most popular dog breeds', fontsize=18)\n",
    "plt.tight_layout()"
   ]
  },
  {
   "cell_type": "markdown",
   "metadata": {
    "id": "-iYzMavn7T8a"
   },
   "source": [
    "- To visualize the changes of tweets' sources, I have added 1 column for year (derived from timestamp column) to the merged and cleaned dataset and group the data by year and source. Then I use the stacked bar chart to show the changes."
   ]
  },
  {
   "cell_type": "code",
   "execution_count": null,
   "metadata": {
    "colab": {
     "base_uri": "https://localhost:8080/",
     "height": 328
    },
    "executionInfo": {
     "elapsed": 385,
     "status": "ok",
     "timestamp": 1655120148520,
     "user": {
      "displayName": "Xấu Xa Kẻ",
      "userId": "08263153180530503733"
     },
     "user_tz": -420
    },
    "id": "_47WIyY_1tL1",
    "outputId": "d6dba029-90b0-4acf-d1f3-fa367d3aa247"
   },
   "outputs": [
    {
     "data": {
      "text/plain": [
       "<matplotlib.axes._subplots.AxesSubplot at 0x7f7d61880cd0>"
      ]
     },
     "execution_count": 162,
     "metadata": {},
     "output_type": "execute_result"
    },
    {
     "data": {
      "image/png": "[encoded data removed]",
      "text/plain": [
       "<Figure size 432x288 with 1 Axes>"
      ]
     },
     "metadata": {
      "needs_background": "light"
     },
     "output_type": "display_data"
    }
   ],
   "source": [
    "df_source_changes_unstacked.reset_index().plot(x='tweet_year', kind='bar', stacked=True,\n",
    "        title='Distribution of tweets by Source changing over the years')"
   ]
  }
 ],
 "metadata": {
  "colab": {
   "collapsed_sections": [],
   "name": "wrangle_act.ipynb",
   "provenance": []
  },
  "extensions": {
   "jupyter_dashboards": {
    "activeView": "report_default",
    "version": 1,
    "views": {
     "grid_default": {
      "cellMargin": 10,
      "defaultCellHeight": 20,
      "maxColumns": 12,
      "name": "grid",
      "type": "grid"
     },
     "report_default": {
      "name": "report",
      "type": "report"
     }
    }
   }
  },
  "kernelspec": {
   "display_name": "Python 3",
   "language": "python",
   "name": "python3"
  },
  "language_info": {
   "codemirror_mode": {
    "name": "ipython",
    "version": 3
   },
   "file_extension": ".py",
   "mimetype": "text/x-python",
   "name": "python",
   "nbconvert_exporter": "python",
   "pygments_lexer": "ipython3",
   "version": "3.6.3"
  }
 },
 "nbformat": 4,
 "nbformat_minor": 1
}
