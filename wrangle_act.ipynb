{
 "cells": [
  {
   "cell_type": "code",
   "execution_count": 4,
   "metadata": {},
   "outputs": [],
   "source": [
    "import pandas as pd\n",
    "import numpy as np\n",
    "import tweepy\n",
    "from tweepy import OAuthHandler\n",
    "import requests\n",
    "import json\n",
    "import time\n",
    "from timeit import default_timer as timer\n",
    "import math\n",
    "import re\n",
    "import matplotlib.pyplot as plt\n",
    "%matplotlib inline"
   ]
  },
  {
   "cell_type": "markdown",
   "metadata": {},
   "source": [
    "# Gathering Data"
   ]
  },
  {
   "cell_type": "code",
   "execution_count": 5,
   "metadata": {},
   "outputs": [],
   "source": [
    "# Import the Twitter archive CSV file into a DataFrame\n",
    "arc_df = pd.read_csv('twitter-archive-enhanced-2.csv')"
   ]
  },
  {
   "cell_type": "code",
   "execution_count": 6,
   "metadata": {},
   "outputs": [],
   "source": [
    "# Download tweet image predictions TSV using the Requests library and write it to image_predictions.tsv\n",
    "url = 'https://d17h27t6h515a5.cloudfront.net/topher/2017/August/599fd2ad_image-predictions/image-predictions.tsv'\n",
    "response = requests.get(url)\n",
    "with open('image-predictions-3.tsv', mode='wb') as file:\n",
    "    file.write(response.content)\n",
    "    \n",
    "# Import the tweet image predictions TSV file into a DataFrame\n",
    "img_df = pd.read_csv('image-predictions-3.tsv', sep='\\t')"
   ]
  },
  {
   "cell_type": "code",
   "execution_count": null,
   "metadata": {},
   "outputs": [],
   "source": [
    "# Query Twitter API for each tweet in the Twitter archive and save JSON in a text file\n",
    "# These are hidden to comply with Twitter's API terms and conditions\n",
    "consumer_key = 'HIDDEN'\n",
    "consumer_secret = 'HIDDEN'\n",
    "access_token = 'HIDDEN'\n",
    "access_secret = 'HIDDEN'"
   ]
  },
  {
   "cell_type": "code",
   "execution_count": null,
   "metadata": {},
   "outputs": [],
   "source": [
    "auth = OAuthHandler(consumer_key, consumer_secret)\n",
    "auth.set_access_token(access_token, access_secret)"
   ]
  },
  {
   "cell_type": "code",
   "execution_count": null,
   "metadata": {},
   "outputs": [],
   "source": [
    "api = tweepy.API(auth_handler=auth, wait_on_rate_limit=True, wait_on_rate_limit_notify=True)"
   ]
  },
  {
   "cell_type": "code",
   "execution_count": null,
   "metadata": {},
   "outputs": [],
   "source": [
    "# NOTE TO REVIEWER: this student had mobile verification issues so the following\n",
    "# Twitter API code was sent to this student from a Udacity instructor\n",
    "# Tweet IDs for which to gather additional data via Twitter's API\n",
    "tweet_ids = arc_df.tweet_id.values\n",
    "len(tweet_ids)\n",
    "\n",
    "# Query Twitter's API for JSON data for each tweet ID in the Twitter archive\n",
    "count = 0\n",
    "fails_dict = {}\n",
    "start = timer()\n",
    "# Save each tweet's returned JSON as a new line in a .txt file\n",
    "with open('tweet-json.txt', 'w') as outfile:\n",
    "    # This loop will likely take 20-30 minutes to run because of Twitter's rate limit\n",
    "    for tweet_id in tweet_ids:\n",
    "        count += 1\n",
    "        print(str(count) + \": \" + str(tweet_id))\n",
    "        try:\n",
    "            tweet = api.get_status(tweet_id, tweet_mode='extended')\n",
    "            print(\"Success\")\n",
    "            json.dump(tweet._json, outfile)\n",
    "            outfile.write('\\n')\n",
    "        except tweepy.TweepError as e:\n",
    "            print(\"Fail\")\n",
    "            fails_dict[tweet_id] = e\n",
    "            pass\n",
    "end = timer()\n",
    "print(end - start)\n",
    "print(fails_dict)"
   ]
  },
  {
   "cell_type": "code",
   "execution_count": 7,
   "metadata": {},
   "outputs": [],
   "source": [
    "# List of dictionaries to read tweet's JSON data line by line and later convert to a DataFrame\n",
    "df_list = []\n",
    "with open('tweet-json.txt', 'r') as json_file:\n",
    "    for line in json_file:\n",
    "        status = json.loads(line)\n",
    "        \n",
    "        # Append to list of dictionaries\n",
    "        df_list.append({'tweet_id': status['id'],\n",
    "                        'retweet_count': status['retweet_count'],\n",
    "                        'favorite_count': status['favorite_count'],\n",
    "                        'display_text_range': status['display_text_range']\n",
    "                       })\n",
    "\n",
    "# Create a DataFrame with tweet ID, retweet count, favorite count and display_text_range\n",
    "status_df = pd.DataFrame(df_list, columns = ['tweet_id', 'retweet_count', 'favorite_count', 'display_text_range'])"
   ]
  },
  {
   "cell_type": "markdown",
   "metadata": {},
   "source": [
    "# Assessing Data"
   ]
  },
  {
   "cell_type": "code",
   "execution_count": 14,
   "metadata": {},
   "outputs": [
    {
     "data": {
      "text/html": [
       "<div>\n",
       "<style scoped>\n",
       "    .dataframe tbody tr th:only-of-type {\n",
       "        vertical-align: middle;\n",
       "    }\n",
       "\n",
       "    .dataframe tbody tr th {\n",
       "        vertical-align: top;\n",
       "    }\n",
       "\n",
       "    .dataframe thead th {\n",
       "        text-align: right;\n",
       "    }\n",
       "</style>\n",
       "<table border=\"1\" class=\"dataframe\">\n",
       "  <thead>\n",
       "    <tr style=\"text-align: right;\">\n",
       "      <th></th>\n",
       "      <th>tweet_id</th>\n",
       "      <th>in_reply_to_status_id</th>\n",
       "      <th>in_reply_to_user_id</th>\n",
       "      <th>timestamp</th>\n",
       "      <th>source</th>\n",
       "      <th>text</th>\n",
       "      <th>retweeted_status_id</th>\n",
       "      <th>retweeted_status_user_id</th>\n",
       "      <th>retweeted_status_timestamp</th>\n",
       "      <th>expanded_urls</th>\n",
       "      <th>rating_numerator</th>\n",
       "      <th>rating_denominator</th>\n",
       "      <th>name</th>\n",
       "      <th>doggo</th>\n",
       "      <th>floofer</th>\n",
       "      <th>pupper</th>\n",
       "      <th>puppo</th>\n",
       "    </tr>\n",
       "  </thead>\n",
       "  <tbody>\n",
       "    <tr>\n",
       "      <th>0</th>\n",
       "      <td>892420643555336193</td>\n",
       "      <td>NaN</td>\n",
       "      <td>NaN</td>\n",
       "      <td>2017-08-01 16:23:56 +0000</td>\n",
       "      <td>&lt;a href=\"http://twitter.com/download/iphone\" r...</td>\n",
       "      <td>This is Phineas. He's a mystical boy. Only eve...</td>\n",
       "      <td>NaN</td>\n",
       "      <td>NaN</td>\n",
       "      <td>NaN</td>\n",
       "      <td>https://twitter.com/dog_rates/status/892420643...</td>\n",
       "      <td>13</td>\n",
       "      <td>10</td>\n",
       "      <td>Phineas</td>\n",
       "      <td>None</td>\n",
       "      <td>None</td>\n",
       "      <td>None</td>\n",
       "      <td>None</td>\n",
       "    </tr>\n",
       "    <tr>\n",
       "      <th>1</th>\n",
       "      <td>892177421306343426</td>\n",
       "      <td>NaN</td>\n",
       "      <td>NaN</td>\n",
       "      <td>2017-08-01 00:17:27 +0000</td>\n",
       "      <td>&lt;a href=\"http://twitter.com/download/iphone\" r...</td>\n",
       "      <td>This is Tilly. She's just checking pup on you....</td>\n",
       "      <td>NaN</td>\n",
       "      <td>NaN</td>\n",
       "      <td>NaN</td>\n",
       "      <td>https://twitter.com/dog_rates/status/892177421...</td>\n",
       "      <td>13</td>\n",
       "      <td>10</td>\n",
       "      <td>Tilly</td>\n",
       "      <td>None</td>\n",
       "      <td>None</td>\n",
       "      <td>None</td>\n",
       "      <td>None</td>\n",
       "    </tr>\n",
       "    <tr>\n",
       "      <th>2</th>\n",
       "      <td>891815181378084864</td>\n",
       "      <td>NaN</td>\n",
       "      <td>NaN</td>\n",
       "      <td>2017-07-31 00:18:03 +0000</td>\n",
       "      <td>&lt;a href=\"http://twitter.com/download/iphone\" r...</td>\n",
       "      <td>This is Archie. He is a rare Norwegian Pouncin...</td>\n",
       "      <td>NaN</td>\n",
       "      <td>NaN</td>\n",
       "      <td>NaN</td>\n",
       "      <td>https://twitter.com/dog_rates/status/891815181...</td>\n",
       "      <td>12</td>\n",
       "      <td>10</td>\n",
       "      <td>Archie</td>\n",
       "      <td>None</td>\n",
       "      <td>None</td>\n",
       "      <td>None</td>\n",
       "      <td>None</td>\n",
       "    </tr>\n",
       "    <tr>\n",
       "      <th>3</th>\n",
       "      <td>891689557279858688</td>\n",
       "      <td>NaN</td>\n",
       "      <td>NaN</td>\n",
       "      <td>2017-07-30 15:58:51 +0000</td>\n",
       "      <td>&lt;a href=\"http://twitter.com/download/iphone\" r...</td>\n",
       "      <td>This is Darla. She commenced a snooze mid meal...</td>\n",
       "      <td>NaN</td>\n",
       "      <td>NaN</td>\n",
       "      <td>NaN</td>\n",
       "      <td>https://twitter.com/dog_rates/status/891689557...</td>\n",
       "      <td>13</td>\n",
       "      <td>10</td>\n",
       "      <td>Darla</td>\n",
       "      <td>None</td>\n",
       "      <td>None</td>\n",
       "      <td>None</td>\n",
       "      <td>None</td>\n",
       "    </tr>\n",
       "    <tr>\n",
       "      <th>4</th>\n",
       "      <td>891327558926688256</td>\n",
       "      <td>NaN</td>\n",
       "      <td>NaN</td>\n",
       "      <td>2017-07-29 16:00:24 +0000</td>\n",
       "      <td>&lt;a href=\"http://twitter.com/download/iphone\" r...</td>\n",
       "      <td>This is Franklin. He would like you to stop ca...</td>\n",
       "      <td>NaN</td>\n",
       "      <td>NaN</td>\n",
       "      <td>NaN</td>\n",
       "      <td>https://twitter.com/dog_rates/status/891327558...</td>\n",
       "      <td>12</td>\n",
       "      <td>10</td>\n",
       "      <td>Franklin</td>\n",
       "      <td>None</td>\n",
       "      <td>None</td>\n",
       "      <td>None</td>\n",
       "      <td>None</td>\n",
       "    </tr>\n",
       "  </tbody>\n",
       "</table>\n",
       "</div>"
      ],
      "text/plain": [
       "             tweet_id  in_reply_to_status_id  in_reply_to_user_id  \\\n",
       "0  892420643555336193                    NaN                  NaN   \n",
       "1  892177421306343426                    NaN                  NaN   \n",
       "2  891815181378084864                    NaN                  NaN   \n",
       "3  891689557279858688                    NaN                  NaN   \n",
       "4  891327558926688256                    NaN                  NaN   \n",
       "\n",
       "                   timestamp  \\\n",
       "0  2017-08-01 16:23:56 +0000   \n",
       "1  2017-08-01 00:17:27 +0000   \n",
       "2  2017-07-31 00:18:03 +0000   \n",
       "3  2017-07-30 15:58:51 +0000   \n",
       "4  2017-07-29 16:00:24 +0000   \n",
       "\n",
       "                                              source  \\\n",
       "0  <a href=\"http://twitter.com/download/iphone\" r...   \n",
       "1  <a href=\"http://twitter.com/download/iphone\" r...   \n",
       "2  <a href=\"http://twitter.com/download/iphone\" r...   \n",
       "3  <a href=\"http://twitter.com/download/iphone\" r...   \n",
       "4  <a href=\"http://twitter.com/download/iphone\" r...   \n",
       "\n",
       "                                                text  retweeted_status_id  \\\n",
       "0  This is Phineas. He's a mystical boy. Only eve...                  NaN   \n",
       "1  This is Tilly. She's just checking pup on you....                  NaN   \n",
       "2  This is Archie. He is a rare Norwegian Pouncin...                  NaN   \n",
       "3  This is Darla. She commenced a snooze mid meal...                  NaN   \n",
       "4  This is Franklin. He would like you to stop ca...                  NaN   \n",
       "\n",
       "   retweeted_status_user_id retweeted_status_timestamp  \\\n",
       "0                       NaN                        NaN   \n",
       "1                       NaN                        NaN   \n",
       "2                       NaN                        NaN   \n",
       "3                       NaN                        NaN   \n",
       "4                       NaN                        NaN   \n",
       "\n",
       "                                       expanded_urls  rating_numerator  \\\n",
       "0  https://twitter.com/dog_rates/status/892420643...                13   \n",
       "1  https://twitter.com/dog_rates/status/892177421...                13   \n",
       "2  https://twitter.com/dog_rates/status/891815181...                12   \n",
       "3  https://twitter.com/dog_rates/status/891689557...                13   \n",
       "4  https://twitter.com/dog_rates/status/891327558...                12   \n",
       "\n",
       "   rating_denominator      name doggo floofer pupper puppo  \n",
       "0                  10   Phineas  None    None   None  None  \n",
       "1                  10     Tilly  None    None   None  None  \n",
       "2                  10    Archie  None    None   None  None  \n",
       "3                  10     Darla  None    None   None  None  \n",
       "4                  10  Franklin  None    None   None  None  "
      ]
     },
     "execution_count": 14,
     "metadata": {},
     "output_type": "execute_result"
    }
   ],
   "source": [
    "arc_df.head()"
   ]
  },
  {
   "cell_type": "markdown",
   "metadata": {},
   "source": [
    " ***arc_df (Twitter archive) columns:***\n",
    "\n",
    "- **tweet_id:** the unique identifier for each tweet\n",
    "- **in_reply_to_status_id:** if the represented Tweet is a reply, this field will contain the integer representation of the original Tweet’s ID\n",
    "- **in_reply_to_user_id:** if the represented Tweet is a reply, this field will contain the integer representation of the original Tweet’s author ID\n",
    "- **timestamp:** time when this Tweet was created\n",
    "- **source:** utility used to post the Tweet, as an HTML-formatted string. e.g. Twitter for Android, Twitter for iPhone, Twitter Web Client\n",
    "- **text:** actual UTF-8 text of the status update\n",
    "- **retweeted_status_id:** if the represented Tweet is a retweet, this field will contain the integer representation of the original Tweet’s ID\n",
    "- **retweeted_status_user_id:** if the represented Tweet is a retweet, this field will contain the integer representation of the original Tweet’s author ID\n",
    "- **retweeted_status_timestamp:** time of retweet\n",
    "- **expanded_urls:** tweet URL\n",
    "- **rating_numerator:** numerator of the rating of a dog. Note: ratings almost always greater than 10\n",
    "- **rating_denominator:** denominator of the rating of a dog. Note: ratings almost always have a denominator of 10\n",
    "- **name:** name of the dog\n",
    "- **doggo:** one of the 4 dog \"stage\"\n",
    "- **floofer:** one of the 4 dog \"stage\"\n",
    "- **pupper:** one of the 4 dog \"stage\"\n",
    "- **puppo:** one of the 4 dog \"stage\""
   ]
  },
  {
   "cell_type": "code",
   "execution_count": 15,
   "metadata": {},
   "outputs": [
    {
     "name": "stdout",
     "output_type": "stream",
     "text": [
      "<class 'pandas.core.frame.DataFrame'>\n",
      "RangeIndex: 2356 entries, 0 to 2355\n",
      "Data columns (total 17 columns):\n",
      " #   Column                      Non-Null Count  Dtype  \n",
      "---  ------                      --------------  -----  \n",
      " 0   tweet_id                    2356 non-null   int64  \n",
      " 1   in_reply_to_status_id       78 non-null     float64\n",
      " 2   in_reply_to_user_id         78 non-null     float64\n",
      " 3   timestamp                   2356 non-null   object \n",
      " 4   source                      2356 non-null   object \n",
      " 5   text                        2356 non-null   object \n",
      " 6   retweeted_status_id         181 non-null    float64\n",
      " 7   retweeted_status_user_id    181 non-null    float64\n",
      " 8   retweeted_status_timestamp  181 non-null    object \n",
      " 9   expanded_urls               2297 non-null   object \n",
      " 10  rating_numerator            2356 non-null   int64  \n",
      " 11  rating_denominator          2356 non-null   int64  \n",
      " 12  name                        2356 non-null   object \n",
      " 13  doggo                       2356 non-null   object \n",
      " 14  floofer                     2356 non-null   object \n",
      " 15  pupper                      2356 non-null   object \n",
      " 16  puppo                       2356 non-null   object \n",
      "dtypes: float64(4), int64(3), object(10)\n",
      "memory usage: 313.0+ KB\n"
     ]
    }
   ],
   "source": [
    "arc_df.info()"
   ]
  },
  {
   "cell_type": "code",
   "execution_count": 16,
   "metadata": {},
   "outputs": [
    {
     "data": {
      "text/plain": [
       "281"
      ]
     },
     "execution_count": 16,
     "metadata": {},
     "output_type": "execute_result"
    }
   ],
   "source": [
    "# Check how many records in arc_df whose corresponding record with same tweet_id is missing in img_df table\n",
    "len(arc_df[~arc_df.tweet_id.isin(img_df.tweet_id)])"
   ]
  },
  {
   "cell_type": "code",
   "execution_count": 8,
   "metadata": {},
   "outputs": [
    {
     "data": {
      "text/plain": [
       "0         1\n",
       "2         1\n",
       "7         1\n",
       "10     2333\n",
       "11        3\n",
       "15        1\n",
       "16        1\n",
       "20        2\n",
       "40        1\n",
       "50        3\n",
       "70        1\n",
       "80        2\n",
       "90        1\n",
       "110       1\n",
       "120       1\n",
       "130       1\n",
       "150       1\n",
       "170       1\n",
       "Name: rating_denominator, dtype: int64"
      ]
     },
     "execution_count": 8,
     "metadata": {},
     "output_type": "execute_result"
    }
   ],
   "source": [
    "# Sort by rating_denominator values\n",
    "arc_df.rating_denominator.value_counts().sort_index()"
   ]
  },
  {
   "cell_type": "code",
   "execution_count": 18,
   "metadata": {},
   "outputs": [
    {
     "data": {
      "text/plain": [
       "0         2\n",
       "1         9\n",
       "2         9\n",
       "3        19\n",
       "4        17\n",
       "5        37\n",
       "6        32\n",
       "7        55\n",
       "8       102\n",
       "9       158\n",
       "10      461\n",
       "11      464\n",
       "12      558\n",
       "13      351\n",
       "14       54\n",
       "15        2\n",
       "17        1\n",
       "20        1\n",
       "24        1\n",
       "26        1\n",
       "27        1\n",
       "44        1\n",
       "45        1\n",
       "50        1\n",
       "60        1\n",
       "75        2\n",
       "80        1\n",
       "84        1\n",
       "88        1\n",
       "99        1\n",
       "121       1\n",
       "143       1\n",
       "144       1\n",
       "165       1\n",
       "182       1\n",
       "204       1\n",
       "420       2\n",
       "666       1\n",
       "960       1\n",
       "1776      1\n",
       "Name: rating_numerator, dtype: int64"
      ]
     },
     "execution_count": 18,
     "metadata": {},
     "output_type": "execute_result"
    }
   ],
   "source": [
    "# Sort by rating_numerator values\n",
    "arc_df.rating_numerator.value_counts().sort_index()"
   ]
  },
  {
   "cell_type": "code",
   "execution_count": 9,
   "metadata": {},
   "outputs": [
    {
     "data": {
      "text/plain": [
       "very            5\n",
       "unacceptable    1\n",
       "this            1\n",
       "the             8\n",
       "such            1\n",
       "               ..\n",
       "Aiden           1\n",
       "Adele           1\n",
       "Acro            1\n",
       "Ace             1\n",
       "Abby            2\n",
       "Name: name, Length: 957, dtype: int64"
      ]
     },
     "execution_count": 9,
     "metadata": {},
     "output_type": "execute_result"
    }
   ],
   "source": [
    "#sort by name\n",
    "arc_df.name.value_counts().sort_index(ascending=False)"
   ]
  },
  {
   "cell_type": "code",
   "execution_count": 20,
   "metadata": {},
   "outputs": [
    {
     "data": {
      "text/html": [
       "<div>\n",
       "<style scoped>\n",
       "    .dataframe tbody tr th:only-of-type {\n",
       "        vertical-align: middle;\n",
       "    }\n",
       "\n",
       "    .dataframe tbody tr th {\n",
       "        vertical-align: top;\n",
       "    }\n",
       "\n",
       "    .dataframe thead th {\n",
       "        text-align: right;\n",
       "    }\n",
       "</style>\n",
       "<table border=\"1\" class=\"dataframe\">\n",
       "  <thead>\n",
       "    <tr style=\"text-align: right;\">\n",
       "      <th></th>\n",
       "      <th>tweet_id</th>\n",
       "      <th>jpg_url</th>\n",
       "      <th>img_num</th>\n",
       "      <th>p1</th>\n",
       "      <th>p1_conf</th>\n",
       "      <th>p1_dog</th>\n",
       "      <th>p2</th>\n",
       "      <th>p2_conf</th>\n",
       "      <th>p2_dog</th>\n",
       "      <th>p3</th>\n",
       "      <th>p3_conf</th>\n",
       "      <th>p3_dog</th>\n",
       "    </tr>\n",
       "  </thead>\n",
       "  <tbody>\n",
       "    <tr>\n",
       "      <th>157</th>\n",
       "      <td>668852170888998912</td>\n",
       "      <td>https://pbs.twimg.com/media/CUg9gBvWoAAmx-2.jpg</td>\n",
       "      <td>1</td>\n",
       "      <td>golden_retriever</td>\n",
       "      <td>0.903529</td>\n",
       "      <td>True</td>\n",
       "      <td>Tibetan_mastiff</td>\n",
       "      <td>0.041497</td>\n",
       "      <td>True</td>\n",
       "      <td>kuvasz</td>\n",
       "      <td>0.022500</td>\n",
       "      <td>True</td>\n",
       "    </tr>\n",
       "    <tr>\n",
       "      <th>277</th>\n",
       "      <td>670842764863651840</td>\n",
       "      <td>https://pbs.twimg.com/media/CU9P717W4AAOlKx.jpg</td>\n",
       "      <td>1</td>\n",
       "      <td>microphone</td>\n",
       "      <td>0.096063</td>\n",
       "      <td>False</td>\n",
       "      <td>accordion</td>\n",
       "      <td>0.094075</td>\n",
       "      <td>False</td>\n",
       "      <td>drumstick</td>\n",
       "      <td>0.061113</td>\n",
       "      <td>False</td>\n",
       "    </tr>\n",
       "    <tr>\n",
       "      <th>916</th>\n",
       "      <td>701545186879471618</td>\n",
       "      <td>https://pbs.twimg.com/media/CbxjnyOWAAAWLUH.jpg</td>\n",
       "      <td>1</td>\n",
       "      <td>Border_collie</td>\n",
       "      <td>0.280893</td>\n",
       "      <td>True</td>\n",
       "      <td>Cardigan</td>\n",
       "      <td>0.112550</td>\n",
       "      <td>True</td>\n",
       "      <td>toy_terrier</td>\n",
       "      <td>0.053317</td>\n",
       "      <td>True</td>\n",
       "    </tr>\n",
       "    <tr>\n",
       "      <th>2000</th>\n",
       "      <td>876120275196170240</td>\n",
       "      <td>https://pbs.twimg.com/media/DCiavj_UwAAcXep.jpg</td>\n",
       "      <td>1</td>\n",
       "      <td>Bernese_mountain_dog</td>\n",
       "      <td>0.534327</td>\n",
       "      <td>True</td>\n",
       "      <td>Saint_Bernard</td>\n",
       "      <td>0.346312</td>\n",
       "      <td>True</td>\n",
       "      <td>Greater_Swiss_Mountain_dog</td>\n",
       "      <td>0.094933</td>\n",
       "      <td>True</td>\n",
       "    </tr>\n",
       "    <tr>\n",
       "      <th>740</th>\n",
       "      <td>687312378585812992</td>\n",
       "      <td>https://pbs.twimg.com/media/CYnS9VWW8AAeR8m.jpg</td>\n",
       "      <td>1</td>\n",
       "      <td>seat_belt</td>\n",
       "      <td>0.703561</td>\n",
       "      <td>False</td>\n",
       "      <td>Great_Dane</td>\n",
       "      <td>0.139909</td>\n",
       "      <td>True</td>\n",
       "      <td>Weimaraner</td>\n",
       "      <td>0.021112</td>\n",
       "      <td>True</td>\n",
       "    </tr>\n",
       "  </tbody>\n",
       "</table>\n",
       "</div>"
      ],
      "text/plain": [
       "                tweet_id                                          jpg_url  \\\n",
       "157   668852170888998912  https://pbs.twimg.com/media/CUg9gBvWoAAmx-2.jpg   \n",
       "277   670842764863651840  https://pbs.twimg.com/media/CU9P717W4AAOlKx.jpg   \n",
       "916   701545186879471618  https://pbs.twimg.com/media/CbxjnyOWAAAWLUH.jpg   \n",
       "2000  876120275196170240  https://pbs.twimg.com/media/DCiavj_UwAAcXep.jpg   \n",
       "740   687312378585812992  https://pbs.twimg.com/media/CYnS9VWW8AAeR8m.jpg   \n",
       "\n",
       "      img_num                    p1   p1_conf  p1_dog               p2  \\\n",
       "157         1      golden_retriever  0.903529    True  Tibetan_mastiff   \n",
       "277         1            microphone  0.096063   False        accordion   \n",
       "916         1         Border_collie  0.280893    True         Cardigan   \n",
       "2000        1  Bernese_mountain_dog  0.534327    True    Saint_Bernard   \n",
       "740         1             seat_belt  0.703561   False       Great_Dane   \n",
       "\n",
       "       p2_conf  p2_dog                          p3   p3_conf  p3_dog  \n",
       "157   0.041497    True                      kuvasz  0.022500    True  \n",
       "277   0.094075   False                   drumstick  0.061113   False  \n",
       "916   0.112550    True                 toy_terrier  0.053317    True  \n",
       "2000  0.346312    True  Greater_Swiss_Mountain_dog  0.094933    True  \n",
       "740   0.139909    True                  Weimaraner  0.021112    True  "
      ]
     },
     "execution_count": 20,
     "metadata": {},
     "output_type": "execute_result"
    }
   ],
   "source": [
    "img_df.sample(5)"
   ]
  },
  {
   "cell_type": "markdown",
   "metadata": {},
   "source": [
    "***img_df (tweet image predictions) columns:***\n",
    "\n",
    "- **tweet_id:** the unique identifier for each tweet\n",
    "- **jpg_url:** dog's image URL\n",
    "- **img_num:** the image number that corresponded to the most confident prediction (numbered 1 to 4 since tweets can have up to four images)\n",
    "- **p1:** algorithm's #1 prediction for the image in the tweet\n",
    "- **p1_conf:** how confident the algorithm is in its #1 prediction\n",
    "- **p1_dog:** whether or not the #1 prediction is a breed of dog\n",
    "- **p2:** algorithm's #2 prediction for the image in the tweet\n",
    "- **p2_conf:** how confident the algorithm is in its #2 prediction\n",
    "- **p2_dog:** whether or not the #2 prediction is a breed of dog\n",
    "- **p3:** algorithm's #3 prediction for the image in the tweet\n",
    "- **p3_conf:** how confident the algorithm is in its #3 prediction\n",
    "- **p3_dog:** whether or not the #3 prediction is a breed of dog"
   ]
  },
  {
   "cell_type": "code",
   "execution_count": 21,
   "metadata": {},
   "outputs": [
    {
     "name": "stdout",
     "output_type": "stream",
     "text": [
      "<class 'pandas.core.frame.DataFrame'>\n",
      "RangeIndex: 2075 entries, 0 to 2074\n",
      "Data columns (total 12 columns):\n",
      " #   Column    Non-Null Count  Dtype  \n",
      "---  ------    --------------  -----  \n",
      " 0   tweet_id  2075 non-null   int64  \n",
      " 1   jpg_url   2075 non-null   object \n",
      " 2   img_num   2075 non-null   int64  \n",
      " 3   p1        2075 non-null   object \n",
      " 4   p1_conf   2075 non-null   float64\n",
      " 5   p1_dog    2075 non-null   bool   \n",
      " 6   p2        2075 non-null   object \n",
      " 7   p2_conf   2075 non-null   float64\n",
      " 8   p2_dog    2075 non-null   bool   \n",
      " 9   p3        2075 non-null   object \n",
      " 10  p3_conf   2075 non-null   float64\n",
      " 11  p3_dog    2075 non-null   bool   \n",
      "dtypes: bool(3), float64(3), int64(2), object(4)\n",
      "memory usage: 152.1+ KB\n"
     ]
    }
   ],
   "source": [
    "img_df.info()"
   ]
  },
  {
   "cell_type": "code",
   "execution_count": 5,
   "metadata": {},
   "outputs": [
    {
     "data": {
      "text/html": [
       "<div>\n",
       "<style scoped>\n",
       "    .dataframe tbody tr th:only-of-type {\n",
       "        vertical-align: middle;\n",
       "    }\n",
       "\n",
       "    .dataframe tbody tr th {\n",
       "        vertical-align: top;\n",
       "    }\n",
       "\n",
       "    .dataframe thead th {\n",
       "        text-align: right;\n",
       "    }\n",
       "</style>\n",
       "<table border=\"1\" class=\"dataframe\">\n",
       "  <thead>\n",
       "    <tr style=\"text-align: right;\">\n",
       "      <th></th>\n",
       "      <th>tweet_id</th>\n",
       "      <th>retweet_count</th>\n",
       "      <th>favorite_count</th>\n",
       "      <th>display_text_range</th>\n",
       "    </tr>\n",
       "  </thead>\n",
       "  <tbody>\n",
       "    <tr>\n",
       "      <th>2070</th>\n",
       "      <td>671109016219725825</td>\n",
       "      <td>478</td>\n",
       "      <td>1225</td>\n",
       "      <td>[0, 135]</td>\n",
       "    </tr>\n",
       "    <tr>\n",
       "      <th>1929</th>\n",
       "      <td>674036086168010753</td>\n",
       "      <td>240</td>\n",
       "      <td>906</td>\n",
       "      <td>[0, 144]</td>\n",
       "    </tr>\n",
       "    <tr>\n",
       "      <th>452</th>\n",
       "      <td>818588835076603904</td>\n",
       "      <td>7126</td>\n",
       "      <td>0</td>\n",
       "      <td>[0, 107]</td>\n",
       "    </tr>\n",
       "    <tr>\n",
       "      <th>1605</th>\n",
       "      <td>685663452032069632</td>\n",
       "      <td>1656</td>\n",
       "      <td>3557</td>\n",
       "      <td>[0, 109]</td>\n",
       "    </tr>\n",
       "    <tr>\n",
       "      <th>1023</th>\n",
       "      <td>746369468511756288</td>\n",
       "      <td>1854</td>\n",
       "      <td>6637</td>\n",
       "      <td>[0, 114]</td>\n",
       "    </tr>\n",
       "  </tbody>\n",
       "</table>\n",
       "</div>"
      ],
      "text/plain": [
       "                tweet_id  retweet_count  favorite_count display_text_range\n",
       "2070  671109016219725825            478            1225           [0, 135]\n",
       "1929  674036086168010753            240             906           [0, 144]\n",
       "452   818588835076603904           7126               0           [0, 107]\n",
       "1605  685663452032069632           1656            3557           [0, 109]\n",
       "1023  746369468511756288           1854            6637           [0, 114]"
      ]
     },
     "execution_count": 5,
     "metadata": {},
     "output_type": "execute_result"
    }
   ],
   "source": [
    "status_df.sample(5)"
   ]
  },
  {
   "cell_type": "markdown",
   "metadata": {},
   "source": [
    "***status_df (tweet status) columns:***\n",
    "\n",
    "- **id:** the unique identifier for each tweet\n",
    "- **retweet_count:** number of times this Tweet has been retweeted\n",
    "- **favorite_count:** indicates approximately how many times this Tweet has been liked by Twitter users\n",
    "- **display_text_range:** an array of two unicode code point indices, identifying the inclusive start and exclusive end of the displayable content of the Tweet"
   ]
  },
  {
   "cell_type": "code",
   "execution_count": 6,
   "metadata": {},
   "outputs": [
    {
     "name": "stdout",
     "output_type": "stream",
     "text": [
      "<class 'pandas.core.frame.DataFrame'>\n",
      "RangeIndex: 2354 entries, 0 to 2353\n",
      "Data columns (total 4 columns):\n",
      " #   Column              Non-Null Count  Dtype \n",
      "---  ------              --------------  ----- \n",
      " 0   tweet_id            2354 non-null   int64 \n",
      " 1   retweet_count       2354 non-null   int64 \n",
      " 2   favorite_count      2354 non-null   int64 \n",
      " 3   display_text_range  2354 non-null   object\n",
      "dtypes: int64(3), object(1)\n",
      "memory usage: 73.7+ KB\n"
     ]
    }
   ],
   "source": [
    "status_df.info()"
   ]
  },
  {
   "cell_type": "markdown",
   "metadata": {},
   "source": [
    "## Quality\n",
    "***arc_df (Twitter archive) table***\n",
    "- contains retweets and therefore, duplicates\n",
    "- many *tweet_id(s)* of arc_df table are missing in img_df (image predictions) table\n",
    "- erroneous datatypes (*in_reply_to_status_id, in_reply_to_user_id* and *timestamp* columns)\n",
    "- unnecessary html tags in source column in place of utility name e.g. <a href=\"\"http://twitter.com/download/iphone\"\" rel=\"\"nofollow\"\">Twitter for iPhone</a>\n",
    "- text column contains untruncated text instead of displayable text\n",
    "- *rating_numerator* column has values less than 10 as well as some very large numbers (e.g. 1176)\n",
    "- *rating_denominator* column has values other than 10\n",
    "- erroneous dog names starting with lowercase characters (e.g. a, an, actually, by)\n",
    "- some records have more than one dog stage\n",
    "- arc_df without any duplicates (i.e. retweets) will have empty retweeted_status_id, retweeted_status_user_id and retweeted_status_timestamp columns, which can be dropped\n",
    "- *breed* column should be added in arc_df table; its values based on p1_conf and p1_dog columns of img_df (image predictions) table"
   ]
  },
  {
   "cell_type": "markdown",
   "metadata": {},
   "source": [
    "## Tidiness\n",
    "\n",
    "- **combining four dog stages columns into one:** doggo, floofer, pupper and puppo columns in arc_df table should be merged into one column named \"stage\"\n",
    "\n",
    "- **joing the three dataframes:** retweet_count and favorite_count columns from status_df (tweet status) table should be joined with arc_df table"
   ]
  },
  {
   "cell_type": "markdown",
   "metadata": {},
   "source": [
    "# Cleaning Data"
   ]
  },
  {
   "cell_type": "code",
   "execution_count": 10,
   "metadata": {},
   "outputs": [],
   "source": [
    "# Take a copy of arc_df on which the cleaning tasks will be performed\n",
    "archive_clean = arc_df.copy()"
   ]
  },
  {
   "cell_type": "markdown",
   "metadata": {},
   "source": [
    "### Define\n",
    "- Keep only those rows in arc_df table that are original tweets and NOT retweets (i.e. retweeted_status_id column is null).\n",
    "- Keep only those records in arc_df table whose tweet_id exists in img_df table."
   ]
  },
  {
   "cell_type": "markdown",
   "metadata": {},
   "source": [
    "### Code"
   ]
  },
  {
   "cell_type": "code",
   "execution_count": 11,
   "metadata": {},
   "outputs": [],
   "source": [
    "# Keep only those rows in arc_df table that are original tweets and NOT retweets (i.e. retweeted_status_id column is null).\n",
    "archive_clean = archive_clean[archive_clean.retweeted_status_id.isnull()]"
   ]
  },
  {
   "cell_type": "code",
   "execution_count": 12,
   "metadata": {},
   "outputs": [],
   "source": [
    "# Keep only those records in arc_df table whose tweet_id exists in img_df table\n",
    "archive_clean = archive_clean[archive_clean.tweet_id.isin(img_df.tweet_id)]"
   ]
  },
  {
   "cell_type": "markdown",
   "metadata": {},
   "source": [
    "### Test"
   ]
  },
  {
   "cell_type": "code",
   "execution_count": 13,
   "metadata": {},
   "outputs": [
    {
     "data": {
      "text/plain": [
       "0"
      ]
     },
     "execution_count": 13,
     "metadata": {},
     "output_type": "execute_result"
    }
   ],
   "source": [
    "len(archive_clean[archive_clean.retweeted_status_id.isnull() == False])"
   ]
  },
  {
   "cell_type": "code",
   "execution_count": 14,
   "metadata": {},
   "outputs": [
    {
     "data": {
      "text/plain": [
       "0"
      ]
     },
     "execution_count": 14,
     "metadata": {},
     "output_type": "execute_result"
    }
   ],
   "source": [
    "len(archive_clean[~archive_clean.tweet_id.isin(img_df.tweet_id)])"
   ]
  },
  {
   "cell_type": "code",
   "execution_count": 10,
   "metadata": {},
   "outputs": [
    {
     "name": "stdout",
     "output_type": "stream",
     "text": [
      "<class 'pandas.core.frame.DataFrame'>\n",
      "Int64Index: 1994 entries, 0 to 2355\n",
      "Data columns (total 17 columns):\n",
      " #   Column                      Non-Null Count  Dtype  \n",
      "---  ------                      --------------  -----  \n",
      " 0   tweet_id                    1994 non-null   int64  \n",
      " 1   in_reply_to_status_id       23 non-null     float64\n",
      " 2   in_reply_to_user_id         23 non-null     float64\n",
      " 3   timestamp                   1994 non-null   object \n",
      " 4   source                      1994 non-null   object \n",
      " 5   text                        1994 non-null   object \n",
      " 6   retweeted_status_id         0 non-null      float64\n",
      " 7   retweeted_status_user_id    0 non-null      float64\n",
      " 8   retweeted_status_timestamp  0 non-null      object \n",
      " 9   expanded_urls               1994 non-null   object \n",
      " 10  rating_numerator            1994 non-null   int64  \n",
      " 11  rating_denominator          1994 non-null   int64  \n",
      " 12  name                        1994 non-null   object \n",
      " 13  doggo                       1994 non-null   object \n",
      " 14  floofer                     1994 non-null   object \n",
      " 15  pupper                      1994 non-null   object \n",
      " 16  puppo                       1994 non-null   object \n",
      "dtypes: float64(4), int64(3), object(10)\n",
      "memory usage: 280.4+ KB\n"
     ]
    }
   ],
   "source": [
    "archive_clean.info()"
   ]
  },
  {
   "cell_type": "markdown",
   "metadata": {},
   "source": [
    "### Define \n",
    "- Drop retweeted_status_id, retweeted_status_user_id and retweeted_status_timestamp columns from arc_df table.\n",
    "- Convert in_reply_to_status_id and in_reply_to_user_id to data type integer.\n",
    "- Convert timestamp to datetime data type."
   ]
  },
  {
   "cell_type": "markdown",
   "metadata": {},
   "source": [
    "### Code"
   ]
  },
  {
   "cell_type": "code",
   "execution_count": 18,
   "metadata": {},
   "outputs": [],
   "source": [
    "# Drop retweeted_status_id, retweeted_status_user_id and retweeted_status_timestamp columns from arc_df table\n",
    "archive_clean.drop(['retweeted_status_id', 'retweeted_status_user_id', 'retweeted_status_timestamp'], axis=1, inplace=True)"
   ]
  },
  {
   "cell_type": "code",
   "execution_count": 19,
   "metadata": {},
   "outputs": [],
   "source": [
    "# Convert in_reply_to_status_id and in_reply_to_user_id to data type integer.\n",
    "archive_clean.in_reply_to_status_id = archive_clean.in_reply_to_status_id.fillna(0)\n",
    "archive_clean.in_reply_to_user_id = archive_clean.in_reply_to_user_id.fillna(0)\n",
    "\n",
    "archive_clean.in_reply_to_status_id = archive_clean.in_reply_to_status_id.astype(np.int64)\n",
    "archive_clean.in_reply_to_user_id = archive_clean.in_reply_to_user_id.astype(np.int64)\n",
    "\n",
    "# Convert timestamp to datetime data type\n",
    "archive_clean.timestamp = pd.to_datetime(archive_clean.timestamp)"
   ]
  },
  {
   "cell_type": "markdown",
   "metadata": {},
   "source": [
    "### Test"
   ]
  },
  {
   "cell_type": "code",
   "execution_count": 20,
   "metadata": {},
   "outputs": [
    {
     "name": "stdout",
     "output_type": "stream",
     "text": [
      "<class 'pandas.core.frame.DataFrame'>\n",
      "Int64Index: 1994 entries, 0 to 2355\n",
      "Data columns (total 14 columns):\n",
      " #   Column                 Non-Null Count  Dtype              \n",
      "---  ------                 --------------  -----              \n",
      " 0   tweet_id               1994 non-null   int64              \n",
      " 1   in_reply_to_status_id  1994 non-null   int64              \n",
      " 2   in_reply_to_user_id    1994 non-null   int64              \n",
      " 3   timestamp              1994 non-null   datetime64[ns, UTC]\n",
      " 4   source                 1994 non-null   category           \n",
      " 5   text                   1994 non-null   object             \n",
      " 6   expanded_urls          1994 non-null   object             \n",
      " 7   rating_numerator       1994 non-null   int64              \n",
      " 8   rating_denominator     1994 non-null   int64              \n",
      " 9   name                   1994 non-null   object             \n",
      " 10  doggo                  1994 non-null   object             \n",
      " 11  floofer                1994 non-null   object             \n",
      " 12  pupper                 1994 non-null   object             \n",
      " 13  puppo                  1994 non-null   object             \n",
      "dtypes: category(1), datetime64[ns, UTC](1), int64(5), object(7)\n",
      "memory usage: 220.1+ KB\n"
     ]
    }
   ],
   "source": [
    "archive_clean.info()"
   ]
  },
  {
   "cell_type": "markdown",
   "metadata": {},
   "source": [
    "### Define\n",
    "- Strip all html anchor tags (i.e. <a..></a>) in source column and retain just the text in between the tags.\n",
    "- Convert the datatype from string to categorical."
   ]
  },
  {
   "cell_type": "markdown",
   "metadata": {},
   "source": [
    "### Code"
   ]
  },
  {
   "cell_type": "code",
   "execution_count": 16,
   "metadata": {},
   "outputs": [],
   "source": [
    "# Strip all html anchor tags (i.e. <a..></a>) in source column and retain just the text in between the tags.\n",
    "archive_clean.source = archive_clean.source.str.replace(r'<(?:a\\b[^>]*>|/a>)', '')\n",
    "\n",
    "# Convert the datatype from string to categorical.\n",
    "archive_clean.source = archive_clean.source.astype('category')"
   ]
  },
  {
   "cell_type": "markdown",
   "metadata": {},
   "source": [
    "### Test"
   ]
  },
  {
   "cell_type": "code",
   "execution_count": 17,
   "metadata": {},
   "outputs": [
    {
     "data": {
      "text/plain": [
       "Twitter for iPhone    1955\n",
       "Twitter Web Client      28\n",
       "TweetDeck               11\n",
       "Name: source, dtype: int64"
      ]
     },
     "execution_count": 17,
     "metadata": {},
     "output_type": "execute_result"
    }
   ],
   "source": [
    "archive_clean.source.value_counts()"
   ]
  },
  {
   "cell_type": "markdown",
   "metadata": {},
   "source": [
    "### Define\n",
    "- Using the display_text_range of status_df table, extract displayable text from text column"
   ]
  },
  {
   "cell_type": "markdown",
   "metadata": {},
   "source": [
    "### Code"
   ]
  },
  {
   "cell_type": "code",
   "execution_count": 21,
   "metadata": {},
   "outputs": [
    {
     "name": "stdout",
     "output_type": "stream",
     "text": [
      "This is Phineas. He's a mystical boy. Only ever appears in the hole of a donut. 13/10 https://t.co/MgUWQ76dJU\n",
      "This is Tilly. She's just checking pup on you. Hopes you're doing ok. If not, she's available for pats, snugs, boops, the whole bit. 13/10 https://t.co/0Xxu71qeIV\n",
      "This is Archie. He is a rare Norwegian Pouncing Corgo. Lives in the tall grass. You never know when one may strike. 12/10 https://t.co/wUnZnhtVJB\n"
     ]
    }
   ],
   "source": [
    "# Using the display_text_range of status_df table, extract displayable text from text column\n",
    "\n",
    "# Before extraction: untruncated text of first 3 records\n",
    "print(archive_clean.iloc[0].text)\n",
    "print(archive_clean.iloc[1].text)\n",
    "print(archive_clean.iloc[2].text)"
   ]
  },
  {
   "cell_type": "code",
   "execution_count": 22,
   "metadata": {},
   "outputs": [],
   "source": [
    "# merge status_df's display_text_range column to archive_clean to extract text using range values\n",
    "archive_clean = pd.merge(archive_clean, status_df[['tweet_id', 'display_text_range']], on='tweet_id')"
   ]
  },
  {
   "cell_type": "code",
   "execution_count": 23,
   "metadata": {},
   "outputs": [],
   "source": [
    "# using display_text_range of archive_clean, extract displayable text\n",
    "for i, row in archive_clean.iterrows():\n",
    "    text_range = row.display_text_range\n",
    "    display_text = row.text[text_range[0]:text_range[1]]\n",
    "    archive_clean.at[i, 'text'] = display_text"
   ]
  },
  {
   "cell_type": "code",
   "execution_count": 24,
   "metadata": {},
   "outputs": [],
   "source": [
    "# drop display_text_range column\n",
    "archive_clean.drop('display_text_range', axis=1, inplace=True)"
   ]
  },
  {
   "cell_type": "markdown",
   "metadata": {},
   "source": [
    "### Test"
   ]
  },
  {
   "cell_type": "code",
   "execution_count": 25,
   "metadata": {},
   "outputs": [
    {
     "name": "stdout",
     "output_type": "stream",
     "text": [
      "This is Phineas. He's a mystical boy. Only ever appears in the hole of a donut. 13/10\n",
      "This is Tilly. She's just checking pup on you. Hopes you're doing ok. If not, she's available for pats, snugs, boops, the whole bit. 13/10\n",
      "This is Archie. He is a rare Norwegian Pouncing Corgo. Lives in the tall grass. You never know when one may strike. 12/10\n"
     ]
    }
   ],
   "source": [
    "# After extraction: first 3 records now show displayable text\n",
    "print(archive_clean.iloc[0].text)\n",
    "print(archive_clean.iloc[1].text)\n",
    "print(archive_clean.iloc[2].text)"
   ]
  },
  {
   "cell_type": "markdown",
   "metadata": {},
   "source": [
    "### Define\n",
    "- For records whose rating_denominator is greater than 10 and divisible by 10, use the quotient as the divisor to divide the rating_numerator. \n",
    "- If the numerator turns out to be divisible (i.e. remainder=0), assign this quotient as the rating_numerator.\n",
    "- For the remaining records, check if the text column contains any fraction whose denominator is 10.If it does, update the rating_denominator to 10. Additionally, update the rating_numerator with the numerator value of this fraction."
   ]
  },
  {
   "cell_type": "markdown",
   "metadata": {},
   "source": [
    "### Code"
   ]
  },
  {
   "cell_type": "code",
   "execution_count": 26,
   "metadata": {},
   "outputs": [],
   "source": [
    "# regex to match fractions\n",
    "pattern = \"\\s*(\\d+([.]\\d+)?([/]\\d+))\"\n",
    "\n",
    "# function which will match the above pattern and return an array of fractions, if any\n",
    "def tokens(x):\n",
    "  return [m.group(1) for m in re.finditer(pattern, x)]"
   ]
  },
  {
   "cell_type": "code",
   "execution_count": 27,
   "metadata": {},
   "outputs": [],
   "source": [
    "# iterate through all those records whose rating_denominator is not 10\n",
    "for i, row in archive_clean[archive_clean.rating_denominator != 10].iterrows():\n",
    "    d = row.rating_denominator\n",
    "    \n",
    "    # if rating_denominator is greater than 10 and divisible by 10\n",
    "    if d > 10 and d%10 == 0:\n",
    "        # assign divisor as the quotient\n",
    "        divisor = d/10\n",
    "        n = row.rating_numerator\n",
    "        \n",
    "        # if rating_numerator is greater than 10 and divisible by the divisor\n",
    "        if n%divisor == 0:\n",
    "            # reassign rating_denominator as 10\n",
    "            archive_clean.at[i, 'rating_denominator'] = 10\n",
    "            # reassign rating_numerator as the quotient of rating_numerator by divisor\n",
    "            archive_clean.at[i, 'rating_numerator'] = int(n/divisor)\n",
    "    \n",
    "    # for all those records whose rating_denominator is either less than 10 or not divisible by 10\n",
    "    else:\n",
    "        # extract all fractions(ratings) from text using tokens function\n",
    "        ratings = tokens(row.text)\n",
    "        # iterate through all the fractions\n",
    "        for rating in ratings:\n",
    "            # if denominator of any such fraction is equal to 10\n",
    "            if rating.split('/')[1] == '10':\n",
    "                # reassign rating_denominator as 10\n",
    "                archive_clean.at[i, 'rating_denominator'] = 10\n",
    "                # reassign rating_numerator as the numerator value of this fraction\n",
    "                archive_clean.at[i, 'rating_numerator'] = int(round(float(rating.split('/')[0])))\n",
    "                break"
   ]
  },
  {
   "cell_type": "markdown",
   "metadata": {},
   "source": [
    "### Test"
   ]
  },
  {
   "cell_type": "code",
   "execution_count": 28,
   "metadata": {},
   "outputs": [
    {
     "data": {
      "text/plain": [
       "10    1993\n",
       "7        1\n",
       "Name: rating_denominator, dtype: int64"
      ]
     },
     "execution_count": 28,
     "metadata": {},
     "output_type": "execute_result"
    }
   ],
   "source": [
    "archive_clean.rating_denominator.value_counts()"
   ]
  },
  {
   "cell_type": "markdown",
   "metadata": {},
   "source": [
    "### Define\n",
    "- For all those records whose rating numerator is either less than or equal to 10 or greater than 10 but has a very high value,check if the text contains any fraction whose denominator is 10.If it does, update the rating_numerator with the numerator value of this fraction."
   ]
  },
  {
   "cell_type": "markdown",
   "metadata": {},
   "source": [
    "### Code"
   ]
  },
  {
   "cell_type": "code",
   "execution_count": 29,
   "metadata": {},
   "outputs": [
    {
     "data": {
      "text/plain": [
       "0         2\n",
       "1         4\n",
       "2        10\n",
       "3        19\n",
       "4        15\n",
       "5        33\n",
       "6        32\n",
       "7        51\n",
       "8        95\n",
       "9       152\n",
       "10      422\n",
       "24        1\n",
       "26        1\n",
       "27        1\n",
       "75        1\n",
       "420       1\n",
       "1776      1\n",
       "Name: rating_numerator, dtype: int64"
      ]
     },
     "execution_count": 29,
     "metadata": {},
     "output_type": "execute_result"
    }
   ],
   "source": [
    "archive_clean[(archive_clean.rating_numerator <= 10) | (archive_clean.rating_numerator > 14)].rating_numerator.value_counts().sort_index()"
   ]
  },
  {
   "cell_type": "code",
   "execution_count": 30,
   "metadata": {},
   "outputs": [],
   "source": [
    "# for rows whose rating numerator is either less than or equal to 10 OR\n",
    "# greater than 10 but has a very high value (consider greater than 14)\n",
    "for i, row in archive_clean[(archive_clean.rating_numerator <= 10) | (archive_clean.rating_numerator > 14)].iterrows():\n",
    "    ratings = tokens(row.text)\n",
    "    for rating in ratings:        \n",
    "        if rating.split('/')[1] == '10':\n",
    "            n = int(round(float(rating.split('/')[0])))\n",
    "            if (row.rating_numerator == 10 and n > 10) or (row.rating_numerator != 10 and n >= 10):\n",
    "                archive_clean.at[i, 'rating_numerator'] = n\n",
    "                break"
   ]
  },
  {
   "cell_type": "markdown",
   "metadata": {},
   "source": [
    "### Test"
   ]
  },
  {
   "cell_type": "code",
   "execution_count": 31,
   "metadata": {},
   "outputs": [
    {
     "data": {
      "text/plain": [
       "0         2\n",
       "1         4\n",
       "2         9\n",
       "3        19\n",
       "4        14\n",
       "5        31\n",
       "6        32\n",
       "7        51\n",
       "8        94\n",
       "9       152\n",
       "10      421\n",
       "24        1\n",
       "420       1\n",
       "1776      1\n",
       "Name: rating_numerator, dtype: int64"
      ]
     },
     "execution_count": 31,
     "metadata": {},
     "output_type": "execute_result"
    }
   ],
   "source": [
    "archive_clean[(archive_clean.rating_numerator <= 10) | (archive_clean.rating_numerator > 14)].rating_numerator.value_counts().sort_index()"
   ]
  },
  {
   "cell_type": "markdown",
   "metadata": {},
   "source": [
    "### Define\n",
    "- Replace all lowercase values of name column with None."
   ]
  },
  {
   "cell_type": "markdown",
   "metadata": {},
   "source": [
    "### Code"
   ]
  },
  {
   "cell_type": "code",
   "execution_count": 32,
   "metadata": {},
   "outputs": [
    {
     "name": "stderr",
     "output_type": "stream",
     "text": [
      "<ipython-input-32-f1d1f8422bff>:2: SettingWithCopyWarning: \n",
      "A value is trying to be set on a copy of a slice from a DataFrame\n",
      "\n",
      "See the caveats in the documentation: https://pandas.pydata.org/pandas-docs/stable/user_guide/indexing.html#returning-a-view-versus-a-copy\n",
      "  archive_clean['name'][archive_clean['name'].str.match('[a-z]+')] = 'None'\n"
     ]
    }
   ],
   "source": [
    "# Replace all lowercase values of name column with None\n",
    "archive_clean['name'][archive_clean['name'].str.match('[a-z]+')] = 'None'"
   ]
  },
  {
   "cell_type": "markdown",
   "metadata": {},
   "source": [
    "### Test"
   ]
  },
  {
   "cell_type": "code",
   "execution_count": 33,
   "metadata": {},
   "outputs": [
    {
     "data": {
      "text/plain": [
       "None    644\n",
       "Name: name, dtype: int64"
      ]
     },
     "execution_count": 33,
     "metadata": {},
     "output_type": "execute_result"
    }
   ],
   "source": [
    "archive_clean.name[archive_clean.name == 'None'].value_counts()"
   ]
  },
  {
   "cell_type": "code",
   "execution_count": 34,
   "metadata": {},
   "outputs": [
    {
     "data": {
      "text/plain": [
       "Zuzu     1\n",
       "Zooey    1\n",
       "Zoey     3\n",
       "Zoe      1\n",
       "Ziva     1\n",
       "        ..\n",
       "Aiden    1\n",
       "Adele    1\n",
       "Acro     1\n",
       "Ace      1\n",
       "Abby     2\n",
       "Name: name, Length: 914, dtype: int64"
      ]
     },
     "execution_count": 34,
     "metadata": {},
     "output_type": "execute_result"
    }
   ],
   "source": [
    "# Sort ascending by name to check if there are more names starting with a lowercase alphabet\n",
    "archive_clean.name.value_counts().sort_index(ascending=False)"
   ]
  },
  {
   "cell_type": "code",
   "execution_count": 36,
   "metadata": {},
   "outputs": [
    {
     "name": "stdout",
     "output_type": "stream",
     "text": [
      "1\n",
      "1\n",
      "9\n"
     ]
    }
   ],
   "source": [
    "# some records have more than one dog stage\n",
    "print(len(archive_clean[(archive_clean.doggo != 'None') & (archive_clean.floofer != 'None')]))\n",
    "print(len(archive_clean[(archive_clean.doggo != 'None') & (archive_clean.puppo != 'None')]))\n",
    "print(len(archive_clean[(archive_clean.doggo != 'None') & (archive_clean.pupper != 'None')]))"
   ]
  },
  {
   "cell_type": "markdown",
   "metadata": {},
   "source": [
    "### Define\n",
    "- There is one record that has both doggo and floofer and another record that has both doggo and puppo. For these 2 records, take a look at the text manually to decide one dog stage for each of them. For ambiguous texts, set both the column values as None.\n",
    "\n",
    "- There are 9 records which have both doggo and pupper. As per the dogtionary, doggo and pupper are sometimes used interchangeably. Therefore, set pupper column as None for these 9 records."
   ]
  },
  {
   "cell_type": "markdown",
   "metadata": {},
   "source": [
    "### Code"
   ]
  },
  {
   "cell_type": "code",
   "execution_count": 35,
   "metadata": {},
   "outputs": [
    {
     "name": "stdout",
     "output_type": "stream",
     "text": [
      "855851453814013952 Here's a puppo participating in the #ScienceMarch. Cleverly disguising her own doggo agenda. 13/10 would keep the planet habitable for\n",
      "\n",
      "854010172552949760 At first I thought this was a shy doggo, but it's actually a Rare Canadian Floofer Owl. Amateurs would confuse the two. 11/10 only send dogs\n",
      "\n"
     ]
    }
   ],
   "source": [
    "# There is one record that has both doggo and floofer and another record that has both doggo and puppo.set both the column values as None.\n",
    "for i, row in archive_clean[((archive_clean.doggo != 'None') & (archive_clean.floofer != 'None'))\n",
    "                   | ((archive_clean.doggo != 'None') & (archive_clean.puppo != 'None'))].iterrows():\n",
    "    print('%s %s\\n'%(row.tweet_id, row.text))"
   ]
  },
  {
   "cell_type": "code",
   "execution_count": 36,
   "metadata": {},
   "outputs": [
    {
     "name": "stderr",
     "output_type": "stream",
     "text": [
      "<ipython-input-36-17da05be93ac>:2: SettingWithCopyWarning: \n",
      "A value is trying to be set on a copy of a slice from a DataFrame\n",
      "\n",
      "See the caveats in the documentation: https://pandas.pydata.org/pandas-docs/stable/user_guide/indexing.html#returning-a-view-versus-a-copy\n",
      "  archive_clean['doggo'][archive_clean.tweet_id.isin([855851453814013952, 854010172552949760])] = 'None'\n"
     ]
    }
   ],
   "source": [
    "# based on the above texts, doggo should be set as None for both the records\n",
    "archive_clean['doggo'][archive_clean.tweet_id.isin([855851453814013952, 854010172552949760])] = 'None'"
   ]
  },
  {
   "cell_type": "code",
   "execution_count": 37,
   "metadata": {},
   "outputs": [
    {
     "name": "stderr",
     "output_type": "stream",
     "text": [
      "<ipython-input-37-ccaeae47d035>:2: SettingWithCopyWarning: \n",
      "A value is trying to be set on a copy of a slice from a DataFrame\n",
      "\n",
      "See the caveats in the documentation: https://pandas.pydata.org/pandas-docs/stable/user_guide/indexing.html#returning-a-view-versus-a-copy\n",
      "  archive_clean['pupper'][(archive_clean.doggo != 'None') & (archive_clean.pupper != 'None')] = 'None'\n"
     ]
    }
   ],
   "source": [
    "# There are 9 records which have both doggo and pupper.set pupper column as None for these 9 records.\n",
    "archive_clean['pupper'][(archive_clean.doggo != 'None') & (archive_clean.pupper != 'None')] = 'None'"
   ]
  },
  {
   "cell_type": "markdown",
   "metadata": {},
   "source": [
    "### Test"
   ]
  },
  {
   "cell_type": "code",
   "execution_count": 38,
   "metadata": {},
   "outputs": [
    {
     "data": {
      "text/plain": [
       "0"
      ]
     },
     "execution_count": 38,
     "metadata": {},
     "output_type": "execute_result"
    }
   ],
   "source": [
    "len(archive_clean[((archive_clean.doggo != 'None') & (archive_clean.pupper != 'None'))\n",
    "                  | ((archive_clean.doggo != 'None') & (archive_clean.floofer != 'None')) \n",
    "                  | ((archive_clean.doggo != 'None') & (archive_clean.puppo != 'None'))])"
   ]
  },
  {
   "cell_type": "markdown",
   "metadata": {},
   "source": [
    "### Define\n",
    "- Merge the doggo, floofer, pupper and puppo columns to a stage column. Convert the datatype from string to categorical as it helps with analysis and visualization and saves memory on disk.\n",
    "\n",
    "- Drop the doggo, floofer, pupper and puppo columns."
   ]
  },
  {
   "cell_type": "markdown",
   "metadata": {},
   "source": [
    "### Code"
   ]
  },
  {
   "cell_type": "code",
   "execution_count": 39,
   "metadata": {},
   "outputs": [],
   "source": [
    "# Merge the doggo, floofer, pupper and puppo columns to a stage column.\n",
    "archive_clean['stage'] = archive_clean[['doggo', 'floofer', 'pupper', 'puppo']].max(axis=1)"
   ]
  },
  {
   "cell_type": "code",
   "execution_count": 40,
   "metadata": {},
   "outputs": [],
   "source": [
    "# convert the datatype from string to categorical\n",
    "archive_clean.stage = archive_clean.stage.astype('category')"
   ]
  },
  {
   "cell_type": "code",
   "execution_count": 41,
   "metadata": {},
   "outputs": [],
   "source": [
    "# drop the doggo, floofer, pupper and puppo columns\n",
    "archive_clean.drop(['doggo', 'floofer', 'pupper', 'puppo'], axis=1, inplace=True)"
   ]
  },
  {
   "cell_type": "markdown",
   "metadata": {},
   "source": [
    "### Test"
   ]
  },
  {
   "cell_type": "code",
   "execution_count": 42,
   "metadata": {},
   "outputs": [
    {
     "data": {
      "text/plain": [
       "None       1688\n",
       "pupper      203\n",
       "doggo        72\n",
       "puppo        23\n",
       "floofer       8\n",
       "Name: stage, dtype: int64"
      ]
     },
     "execution_count": 42,
     "metadata": {},
     "output_type": "execute_result"
    }
   ],
   "source": [
    "archive_clean.stage.value_counts()"
   ]
  },
  {
   "cell_type": "code",
   "execution_count": 45,
   "metadata": {},
   "outputs": [
    {
     "name": "stdout",
     "output_type": "stream",
     "text": [
      "<class 'pandas.core.frame.DataFrame'>\n",
      "Int64Index: 1994 entries, 0 to 1993\n",
      "Data columns (total 11 columns):\n",
      " #   Column                 Non-Null Count  Dtype              \n",
      "---  ------                 --------------  -----              \n",
      " 0   tweet_id               1994 non-null   int64              \n",
      " 1   in_reply_to_status_id  1994 non-null   int64              \n",
      " 2   in_reply_to_user_id    1994 non-null   int64              \n",
      " 3   timestamp              1994 non-null   datetime64[ns, UTC]\n",
      " 4   source                 1994 non-null   category           \n",
      " 5   text                   1994 non-null   object             \n",
      " 6   expanded_urls          1994 non-null   object             \n",
      " 7   rating_numerator       1994 non-null   int64              \n",
      " 8   rating_denominator     1994 non-null   int64              \n",
      " 9   name                   1994 non-null   object             \n",
      " 10  stage                  1994 non-null   category           \n",
      "dtypes: category(2), datetime64[ns, UTC](1), int64(5), object(3)\n",
      "memory usage: 240.0+ KB\n"
     ]
    }
   ],
   "source": [
    "archive_clean.info()"
   ]
  },
  {
   "cell_type": "markdown",
   "metadata": {},
   "source": [
    "### Define\n",
    "- Create breed, retweet_count and favorite_count columns in arc_df table. For each tweet_id, use the img_df table to check if p1_conf is greater than 0.95 (i.e. 95% confidence interval) and p1_dog is True. If it is, set the value of p1 column in breed column.\n",
    "\n",
    "- Also, fetch the retweet_count and favorite_count columns of status_df table and assign those values to arc_df table"
   ]
  },
  {
   "cell_type": "markdown",
   "metadata": {},
   "source": [
    "### Code"
   ]
  },
  {
   "cell_type": "code",
   "execution_count": 43,
   "metadata": {},
   "outputs": [],
   "source": [
    "# create breed, retweet_count and favorite_count columns\n",
    "archive_clean['breed'] = 'None'\n",
    "archive_clean['retweet_count'] = 0\n",
    "archive_clean['favorite_count'] = 0"
   ]
  },
  {
   "cell_type": "code",
   "execution_count": 44,
   "metadata": {},
   "outputs": [],
   "source": [
    "# iterate through all the rows of archive_clean\n",
    "for i, row in archive_clean.iterrows():\n",
    "    # fetch the retweet_count and favorite_count columns of status_df table and assign those values\n",
    "    archive_clean.at[i, 'retweet_count'] = status_df[status_df.tweet_id == row.tweet_id].retweet_count.iloc[0]\n",
    "    archive_clean.at[i, 'favorite_count'] = status_df[status_df.tweet_id == row.tweet_id].favorite_count.iloc[0]    \n",
    "    \n",
    "    img_prediction = img_df[img_df.tweet_id == row.tweet_id]\n",
    "    p1_conf = img_prediction.p1_conf.iloc[0]\n",
    "    p1_dog = img_prediction.p1_dog.iloc[0]\n",
    "    #  check if p1_conf is greater than 0.95 (i.e. 95% confidence interval) and p1_dog is True\n",
    "    if p1_conf >= 0.95 and p1_dog:\n",
    "        archive_clean.at[i, 'breed'] = img_prediction.p1.iloc[0]"
   ]
  },
  {
   "cell_type": "markdown",
   "metadata": {},
   "source": [
    "### Test"
   ]
  },
  {
   "cell_type": "code",
   "execution_count": 49,
   "metadata": {},
   "outputs": [
    {
     "data": {
      "text/plain": [
       "None                           1808\n",
       "pug                              20\n",
       "Pembroke                         19\n",
       "Samoyed                          19\n",
       "golden_retriever                 16\n",
       "Pomeranian                       13\n",
       "Labrador_retriever                9\n",
       "Chihuahua                         9\n",
       "French_bulldog                    8\n",
       "chow                              7\n",
       "German_shepherd                   4\n",
       "Bernese_mountain_dog              4\n",
       "Shetland_sheepdog                 4\n",
       "beagle                            3\n",
       "Blenheim_spaniel                  3\n",
       "Pekinese                          3\n",
       "Old_English_sheepdog              3\n",
       "malamute                          2\n",
       "keeshond                          2\n",
       "basset                            2\n",
       "Boston_bull                       2\n",
       "bull_mastiff                      2\n",
       "cocker_spaniel                    2\n",
       "vizsla                            2\n",
       "dalmatian                         2\n",
       "Shih-Tzu                          2\n",
       "komondor                          2\n",
       "English_springer                  2\n",
       "Rottweiler                        2\n",
       "Saint_Bernard                     2\n",
       "briard                            1\n",
       "Maltese_dog                       1\n",
       "Tibetan_mastiff                   1\n",
       "Siberian_husky                    1\n",
       "toy_poodle                        1\n",
       "Great_Pyrenees                    1\n",
       "Cardigan                          1\n",
       "schipperke                        1\n",
       "German_short-haired_pointer       1\n",
       "Weimaraner                        1\n",
       "boxer                             1\n",
       "Norwegian_elkhound                1\n",
       "miniature_pinscher                1\n",
       "Brittany_spaniel                  1\n",
       "collie                            1\n",
       "Great_Dane                        1\n",
       "Name: breed, dtype: int64"
      ]
     },
     "execution_count": 49,
     "metadata": {},
     "output_type": "execute_result"
    }
   ],
   "source": [
    "archive_clean.breed.value_counts()"
   ]
  },
  {
   "cell_type": "code",
   "execution_count": 45,
   "metadata": {},
   "outputs": [
    {
     "data": {
      "text/html": [
       "<div>\n",
       "<style scoped>\n",
       "    .dataframe tbody tr th:only-of-type {\n",
       "        vertical-align: middle;\n",
       "    }\n",
       "\n",
       "    .dataframe tbody tr th {\n",
       "        vertical-align: top;\n",
       "    }\n",
       "\n",
       "    .dataframe thead th {\n",
       "        text-align: right;\n",
       "    }\n",
       "</style>\n",
       "<table border=\"1\" class=\"dataframe\">\n",
       "  <thead>\n",
       "    <tr style=\"text-align: right;\">\n",
       "      <th></th>\n",
       "      <th>tweet_id</th>\n",
       "      <th>retweet_count</th>\n",
       "      <th>favorite_count</th>\n",
       "    </tr>\n",
       "  </thead>\n",
       "  <tbody>\n",
       "    <tr>\n",
       "      <th>1080</th>\n",
       "      <td>701214700881756160</td>\n",
       "      <td>5812</td>\n",
       "      <td>13475</td>\n",
       "    </tr>\n",
       "    <tr>\n",
       "      <th>360</th>\n",
       "      <td>814153002265309185</td>\n",
       "      <td>10080</td>\n",
       "      <td>32000</td>\n",
       "    </tr>\n",
       "    <tr>\n",
       "      <th>1863</th>\n",
       "      <td>668466899341221888</td>\n",
       "      <td>560</td>\n",
       "      <td>936</td>\n",
       "    </tr>\n",
       "    <tr>\n",
       "      <th>446</th>\n",
       "      <td>796149749086875649</td>\n",
       "      <td>16628</td>\n",
       "      <td>36177</td>\n",
       "    </tr>\n",
       "    <tr>\n",
       "      <th>171</th>\n",
       "      <td>849776966551130114</td>\n",
       "      <td>8404</td>\n",
       "      <td>32390</td>\n",
       "    </tr>\n",
       "  </tbody>\n",
       "</table>\n",
       "</div>"
      ],
      "text/plain": [
       "                tweet_id  retweet_count  favorite_count\n",
       "1080  701214700881756160           5812           13475\n",
       "360   814153002265309185          10080           32000\n",
       "1863  668466899341221888            560             936\n",
       "446   796149749086875649          16628           36177\n",
       "171   849776966551130114           8404           32390"
      ]
     },
     "execution_count": 45,
     "metadata": {},
     "output_type": "execute_result"
    }
   ],
   "source": [
    "archive_clean[['tweet_id', 'retweet_count', 'favorite_count']].sample(5)"
   ]
  },
  {
   "cell_type": "code",
   "execution_count": 53,
   "metadata": {},
   "outputs": [
    {
     "data": {
      "text/html": [
       "<div>\n",
       "<style scoped>\n",
       "    .dataframe tbody tr th:only-of-type {\n",
       "        vertical-align: middle;\n",
       "    }\n",
       "\n",
       "    .dataframe tbody tr th {\n",
       "        vertical-align: top;\n",
       "    }\n",
       "\n",
       "    .dataframe thead th {\n",
       "        text-align: right;\n",
       "    }\n",
       "</style>\n",
       "<table border=\"1\" class=\"dataframe\">\n",
       "  <thead>\n",
       "    <tr style=\"text-align: right;\">\n",
       "      <th></th>\n",
       "      <th>tweet_id</th>\n",
       "      <th>in_reply_to_status_id</th>\n",
       "      <th>in_reply_to_user_id</th>\n",
       "      <th>timestamp</th>\n",
       "      <th>source</th>\n",
       "      <th>text</th>\n",
       "      <th>expanded_urls</th>\n",
       "      <th>rating_numerator</th>\n",
       "      <th>rating_denominator</th>\n",
       "      <th>name</th>\n",
       "      <th>stage</th>\n",
       "      <th>breed</th>\n",
       "      <th>retweet_count</th>\n",
       "      <th>favorite_count</th>\n",
       "    </tr>\n",
       "  </thead>\n",
       "  <tbody>\n",
       "    <tr>\n",
       "      <th>1020</th>\n",
       "      <td>707014260413456384</td>\n",
       "      <td>0</td>\n",
       "      <td>0</td>\n",
       "      <td>2016-03-08 01:25:10+00:00</td>\n",
       "      <td>Twitter for iPhone</td>\n",
       "      <td>This is Ellie. She requests to be carried arou...</td>\n",
       "      <td>https://twitter.com/dog_rates/status/707014260...</td>\n",
       "      <td>11</td>\n",
       "      <td>10</td>\n",
       "      <td>Ellie</td>\n",
       "      <td></td>\n",
       "      <td>None</td>\n",
       "      <td>664</td>\n",
       "      <td>2502</td>\n",
       "    </tr>\n",
       "    <tr>\n",
       "      <th>463</th>\n",
       "      <td>793241302385262592</td>\n",
       "      <td>0</td>\n",
       "      <td>0</td>\n",
       "      <td>2016-11-01 00:00:38+00:00</td>\n",
       "      <td>Twitter for iPhone</td>\n",
       "      <td>This is Tucker. He's out here bustin h*ckin gh...</td>\n",
       "      <td>https://twitter.com/dog_rates/status/793241302...</td>\n",
       "      <td>13</td>\n",
       "      <td>10</td>\n",
       "      <td>Tucker</td>\n",
       "      <td></td>\n",
       "      <td>None</td>\n",
       "      <td>3812</td>\n",
       "      <td>11780</td>\n",
       "    </tr>\n",
       "    <tr>\n",
       "      <th>902</th>\n",
       "      <td>719991154352222208</td>\n",
       "      <td>0</td>\n",
       "      <td>0</td>\n",
       "      <td>2016-04-12 20:50:42+00:00</td>\n",
       "      <td>Twitter for iPhone</td>\n",
       "      <td>This doggo was initially thrilled when she saw...</td>\n",
       "      <td>https://twitter.com/dog_rates/status/719991154...</td>\n",
       "      <td>10</td>\n",
       "      <td>10</td>\n",
       "      <td>None</td>\n",
       "      <td>doggo</td>\n",
       "      <td>None</td>\n",
       "      <td>1979</td>\n",
       "      <td>5281</td>\n",
       "    </tr>\n",
       "    <tr>\n",
       "      <th>215</th>\n",
       "      <td>839239871831150596</td>\n",
       "      <td>0</td>\n",
       "      <td>0</td>\n",
       "      <td>2017-03-07 22:22:32+00:00</td>\n",
       "      <td>Twitter for iPhone</td>\n",
       "      <td>This is Odie. He's big. 13/10 would attempt to...</td>\n",
       "      <td>https://twitter.com/dog_rates/status/839239871...</td>\n",
       "      <td>13</td>\n",
       "      <td>10</td>\n",
       "      <td>Odie</td>\n",
       "      <td></td>\n",
       "      <td>None</td>\n",
       "      <td>7422</td>\n",
       "      <td>29684</td>\n",
       "    </tr>\n",
       "    <tr>\n",
       "      <th>82</th>\n",
       "      <td>872820683541237760</td>\n",
       "      <td>0</td>\n",
       "      <td>0</td>\n",
       "      <td>2017-06-08 14:20:41+00:00</td>\n",
       "      <td>Twitter for iPhone</td>\n",
       "      <td>Here are my favorite #dogsatpollingstations \\n...</td>\n",
       "      <td>https://twitter.com/dog_rates/status/872820683...</td>\n",
       "      <td>13</td>\n",
       "      <td>10</td>\n",
       "      <td>None</td>\n",
       "      <td></td>\n",
       "      <td>pug</td>\n",
       "      <td>3884</td>\n",
       "      <td>15029</td>\n",
       "    </tr>\n",
       "  </tbody>\n",
       "</table>\n",
       "</div>"
      ],
      "text/plain": [
       "                tweet_id  in_reply_to_status_id  in_reply_to_user_id  \\\n",
       "1020  707014260413456384                      0                    0   \n",
       "463   793241302385262592                      0                    0   \n",
       "902   719991154352222208                      0                    0   \n",
       "215   839239871831150596                      0                    0   \n",
       "82    872820683541237760                      0                    0   \n",
       "\n",
       "                     timestamp              source  \\\n",
       "1020 2016-03-08 01:25:10+00:00  Twitter for iPhone   \n",
       "463  2016-11-01 00:00:38+00:00  Twitter for iPhone   \n",
       "902  2016-04-12 20:50:42+00:00  Twitter for iPhone   \n",
       "215  2017-03-07 22:22:32+00:00  Twitter for iPhone   \n",
       "82   2017-06-08 14:20:41+00:00  Twitter for iPhone   \n",
       "\n",
       "                                                   text  \\\n",
       "1020  This is Ellie. She requests to be carried arou...   \n",
       "463   This is Tucker. He's out here bustin h*ckin gh...   \n",
       "902   This doggo was initially thrilled when she saw...   \n",
       "215   This is Odie. He's big. 13/10 would attempt to...   \n",
       "82    Here are my favorite #dogsatpollingstations \\n...   \n",
       "\n",
       "                                          expanded_urls  rating_numerator  \\\n",
       "1020  https://twitter.com/dog_rates/status/707014260...                11   \n",
       "463   https://twitter.com/dog_rates/status/793241302...                13   \n",
       "902   https://twitter.com/dog_rates/status/719991154...                10   \n",
       "215   https://twitter.com/dog_rates/status/839239871...                13   \n",
       "82    https://twitter.com/dog_rates/status/872820683...                13   \n",
       "\n",
       "      rating_denominator    name  stage breed  retweet_count  favorite_count  \n",
       "1020                  10   Ellie         None            664            2502  \n",
       "463                   10  Tucker         None           3812           11780  \n",
       "902                   10    None  doggo  None           1979            5281  \n",
       "215                   10    Odie         None           7422           29684  \n",
       "82                    10    None          pug           3884           15029  "
      ]
     },
     "execution_count": 53,
     "metadata": {},
     "output_type": "execute_result"
    }
   ],
   "source": [
    "archive_clean.sample(5)"
   ]
  },
  {
   "cell_type": "markdown",
   "metadata": {},
   "source": [
    "# Storing Data"
   ]
  },
  {
   "cell_type": "code",
   "execution_count": 51,
   "metadata": {},
   "outputs": [],
   "source": [
    "archive_clean.to_csv('twitter_archive_master.csv', encoding='utf-8', index=False)"
   ]
  },
  {
   "cell_type": "markdown",
   "metadata": {},
   "source": [
    "# Analyzing Data"
   ]
  },
  {
   "cell_type": "code",
   "execution_count": 52,
   "metadata": {},
   "outputs": [],
   "source": [
    "# For analysis, create a copy of the cleaned twitter archive data\n",
    "df = archive_clean.copy()"
   ]
  },
  {
   "cell_type": "code",
   "execution_count": 53,
   "metadata": {},
   "outputs": [
    {
     "name": "stdout",
     "output_type": "stream",
     "text": [
      "<class 'pandas.core.frame.DataFrame'>\n",
      "Int64Index: 1994 entries, 0 to 1993\n",
      "Data columns (total 14 columns):\n",
      " #   Column                 Non-Null Count  Dtype              \n",
      "---  ------                 --------------  -----              \n",
      " 0   tweet_id               1994 non-null   int64              \n",
      " 1   in_reply_to_status_id  1994 non-null   int64              \n",
      " 2   in_reply_to_user_id    1994 non-null   int64              \n",
      " 3   timestamp              1994 non-null   datetime64[ns, UTC]\n",
      " 4   source                 1994 non-null   category           \n",
      " 5   text                   1994 non-null   object             \n",
      " 6   expanded_urls          1994 non-null   object             \n",
      " 7   rating_numerator       1994 non-null   int64              \n",
      " 8   rating_denominator     1994 non-null   int64              \n",
      " 9   name                   1994 non-null   object             \n",
      " 10  stage                  1994 non-null   category           \n",
      " 11  breed                  1994 non-null   object             \n",
      " 12  retweet_count          1994 non-null   int64              \n",
      " 13  favorite_count         1994 non-null   int64              \n",
      "dtypes: category(2), datetime64[ns, UTC](1), int64(7), object(4)\n",
      "memory usage: 286.7+ KB\n"
     ]
    }
   ],
   "source": [
    "df.info()"
   ]
  },
  {
   "cell_type": "code",
   "execution_count": 54,
   "metadata": {},
   "outputs": [
    {
     "data": {
      "text/plain": [
       "2015-11    296\n",
       "2015-12    367\n",
       "2016-01    169\n",
       "2016-02    111\n",
       "2016-03    120\n",
       "2016-04     54\n",
       "2016-05     57\n",
       "2016-06     81\n",
       "2016-07     88\n",
       "2016-08     59\n",
       "2016-09     63\n",
       "2016-10     65\n",
       "2016-11     53\n",
       "2016-12     54\n",
       "2017-01     66\n",
       "2017-02     64\n",
       "2017-03     48\n",
       "2017-04     41\n",
       "2017-05     43\n",
       "2017-06     44\n",
       "2017-07     49\n",
       "2017-08      2\n",
       "Name: timestamp, dtype: int64"
      ]
     },
     "execution_count": 54,
     "metadata": {},
     "output_type": "execute_result"
    }
   ],
   "source": [
    "# Analyzing number of tweets posted by WeRateDogs' over time\n",
    "df['timestamp'].apply(lambda x: x.strftime('%Y-%m')).value_counts().sort_index()"
   ]
  },
  {
   "cell_type": "code",
   "execution_count": 55,
   "metadata": {},
   "outputs": [
    {
     "data": {
      "text/plain": [
       "Twitter for iPhone    1955\n",
       "Twitter Web Client      28\n",
       "TweetDeck               11\n",
       "Name: source, dtype: int64"
      ]
     },
     "execution_count": 55,
     "metadata": {},
     "output_type": "execute_result"
    }
   ],
   "source": [
    "# Most used Twitter source\n",
    "df['source'].value_counts()"
   ]
  },
  {
   "cell_type": "code",
   "execution_count": 56,
   "metadata": {},
   "outputs": [
    {
     "data": {
      "text/plain": [
       "None    1808\n",
       "Name: breed, dtype: int64"
      ]
     },
     "execution_count": 56,
     "metadata": {},
     "output_type": "execute_result"
    }
   ],
   "source": [
    "# Analysis of dog breed (as identified by image prediction)\n",
    "df['breed'][df['breed'] == 'None'].value_counts()"
   ]
  },
  {
   "cell_type": "markdown",
   "metadata": {},
   "source": [
    "The breed of **1808** dogs out of **1994** (i.e. 90%) couldn't be predicted. So, at 95% confidence interval, the image prediction algorithm was able to predict the breed for **10%** of the dog population of this data set."
   ]
  },
  {
   "cell_type": "code",
   "execution_count": 57,
   "metadata": {},
   "outputs": [
    {
     "name": "stdout",
     "output_type": "stream",
     "text": [
      "Mean Retweet Count\t2767\n",
      "Mean Favorite Count\t8896\n"
     ]
    }
   ],
   "source": [
    "# Analysis of retweet and favorite counts\n",
    "print('%s\\t%s' % ('Mean Retweet Count', round(df.retweet_count.mean())))\n",
    "print('%s\\t%s' % ('Mean Favorite Count', round(df.favorite_count.mean())))"
   ]
  },
  {
   "cell_type": "code",
   "execution_count": 58,
   "metadata": {},
   "outputs": [
    {
     "name": "stdout",
     "output_type": "stream",
     "text": [
      "Mean Retweet Count\t3840\n",
      "Mean Favorite Count\t12779\n"
     ]
    }
   ],
   "source": [
    "# Analysis of retweet and favorite counts When the dog is rated greater than 10\n",
    "print('%s\\t%s' % ('Mean Retweet Count', \n",
    "                  round(df.retweet_count[df.rating_numerator > 10].mean())))\n",
    "print('%s\\t%s' % ('Mean Favorite Count', \n",
    "                  round(df.favorite_count[df.rating_numerator > 10].mean())))"
   ]
  },
  {
   "cell_type": "code",
   "execution_count": 59,
   "metadata": {},
   "outputs": [
    {
     "name": "stdout",
     "output_type": "stream",
     "text": [
      "Doggo\n",
      "Mean Retweet Count\t6745\n",
      "Mean Favorite Count\t18503\n",
      "Floofer\n",
      "Mean Retweet Count\t4777\n",
      "Mean Favorite Count\t13701\n",
      "Pupper\n",
      "Mean Retweet Count\t2364\n",
      "Mean Favorite Count\t7198\n",
      "Puppo\n",
      "Mean Retweet Count\t7027\n",
      "Mean Favorite Count\t22724\n"
     ]
    }
   ],
   "source": [
    "# Analysis of retweet and favorite counts Categorized on dog-stage\n",
    "\n",
    "print('Doggo')\n",
    "print('%s\\t%s' % ('Mean Retweet Count', \n",
    "                  round(df.retweet_count[df.stage == 'doggo'].mean())))\n",
    "print('%s\\t%s' % ('Mean Favorite Count', \n",
    "                  round(df.favorite_count[df.stage == 'doggo'].mean())))\n",
    "\n",
    "print('Floofer')\n",
    "print('%s\\t%s' % ('Mean Retweet Count', \n",
    "                  round(df.retweet_count[df.stage == 'floofer'].mean())))\n",
    "print('%s\\t%s' % ('Mean Favorite Count', \n",
    "                  round(df.favorite_count[df.stage == 'floofer'].mean())))\n",
    "\n",
    "print('Pupper')\n",
    "print('%s\\t%s' % ('Mean Retweet Count', \n",
    "                  round(df.retweet_count[df.stage == 'pupper'].mean())))\n",
    "print('%s\\t%s' % ('Mean Favorite Count', \n",
    "                  round(df.favorite_count[df.stage == 'pupper'].mean())))\n",
    "\n",
    "print('Puppo')\n",
    "print('%s\\t%s' % ('Mean Retweet Count', \n",
    "                  round(df.retweet_count[df.stage == 'puppo'].mean())))\n",
    "print('%s\\t%s' % ('Mean Favorite Count', \n",
    "                  round(df.favorite_count[df.stage == 'puppo'].mean())))"
   ]
  },
  {
   "cell_type": "code",
   "execution_count": 60,
   "metadata": {},
   "outputs": [
    {
     "data": {
      "text/plain": [
       "None       644\n",
       "Charlie     11\n",
       "Cooper      10\n",
       "Lucy        10\n",
       "Oliver      10\n",
       "          ... \n",
       "Duddles      1\n",
       "Nico         1\n",
       "Dante        1\n",
       "General      1\n",
       "Duchess      1\n",
       "Name: name, Length: 914, dtype: int64"
      ]
     },
     "execution_count": 60,
     "metadata": {},
     "output_type": "execute_result"
    }
   ],
   "source": [
    "df.name.value_counts()"
   ]
  },
  {
   "cell_type": "markdown",
   "metadata": {},
   "source": [
    "# Visualizing Data"
   ]
  },
  {
   "cell_type": "code",
   "execution_count": 61,
   "metadata": {},
   "outputs": [],
   "source": [
    "plt.rcParams[\"figure.figsize\"] = [12, 9]"
   ]
  },
  {
   "cell_type": "code",
   "execution_count": 63,
   "metadata": {},
   "outputs": [
    {
     "data": {
      "image/png": "[encoded data removed]",
      "text/plain": [
       "<Figure size 864x648 with 1 Axes>"
      ]
     },
     "metadata": {
      "needs_background": "light"
     },
     "output_type": "display_data"
    }
   ],
   "source": [
    "data = df.tweet_id.groupby([df[\"timestamp\"].dt.year, df[\"timestamp\"].dt.month]).count()\n",
    "ax = data.plot(kind ='line', title='WeRateDogs tweeting trend over time')\n",
    "ax.set_xlabel(\"(Year, Month)\")\n",
    "ax.set_ylabel(\"Number of Tweets\")\n",
    "ax.set_ylim(0, )\n",
    "plt.savefig('tweet_trend')"
   ]
  },
  {
   "cell_type": "code",
   "execution_count": 64,
   "metadata": {},
   "outputs": [
    {
     "data": {
      "image/png": "[encoded data removed]",
      "text/plain": [
       "<Figure size 864x648 with 1 Axes>"
      ]
     },
     "metadata": {
      "needs_background": "light"
     },
     "output_type": "display_data"
    }
   ],
   "source": [
    "ax = df.rating_numerator.value_counts().sort_index().plot(kind ='bar', title = 'Dog Rating distribution')\n",
    "ax.set_xlabel(\"Rating out of 10\")\n",
    "ax.set_ylabel(\"Number of Dogs\")\n",
    "ax.set_yticks([0, 50, 100, 150, 200, 250, 300, 350, 400, 450])\n",
    "plt.savefig('rating_dist')"
   ]
  },
  {
   "cell_type": "code",
   "execution_count": 66,
   "metadata": {},
   "outputs": [
    {
     "data": {
      "image/png": "[encoded data removed]",
      "text/plain": [
       "<Figure size 864x648 with 1 Axes>"
      ]
     },
     "metadata": {
      "needs_background": "light"
     },
     "output_type": "display_data"
    }
   ],
   "source": [
    "plt.subplots(1, sharex=True)\n",
    "df.retweet_count.groupby([df[\"timestamp\"].dt.year, df[\"timestamp\"].dt.month]).mean().plot(kind ='line')\n",
    "df.favorite_count.groupby([df[\"timestamp\"].dt.year, df[\"timestamp\"].dt.month]).mean().plot(kind ='line').set_ylim(0, )\n",
    "plt.title('Retweeting and Favoriting trend over time')\n",
    "plt.ylabel('Count')\n",
    "plt.xlabel('(Year, Month)')\n",
    "plt.legend(('Retweets', 'Favorites'))\n",
    "plt.savefig('ret_fav')"
   ]
  },
  {
   "cell_type": "code",
   "execution_count": 68,
   "metadata": {},
   "outputs": [
    {
     "data": {
      "image/png": "[encoded data removed]",
      "text/plain": [
       "<Figure size 792x360 with 1 Axes>"
      ]
     },
     "metadata": {
      "needs_background": "light"
     },
     "output_type": "display_data"
    }
   ],
   "source": [
    "df['source'].value_counts().plot(kind = 'barh', figsize=(11,5), title='Most used Twitter source').set_xlabel(\"Number of Tweets\")\n",
    "plt.savefig('twitter_source')"
   ]
  },
  {
   "cell_type": "code",
   "execution_count": 70,
   "metadata": {},
   "outputs": [
    {
     "data": {
      "image/png": "[encoded data removed]",
      "text/plain": [
       "<Figure size 792x360 with 1 Axes>"
      ]
     },
     "metadata": {
      "needs_background": "light"
     },
     "output_type": "display_data"
    }
   ],
   "source": [
    "df.name.value_counts()[1:7].plot(kind = 'barh', figsize=(11,5), title='Top 6 common dog names').set_xlabel(\"Number of Dogs\")\n",
    "plt.savefig('dog_names')"
   ]
  },
  {
   "cell_type": "code",
   "execution_count": null,
   "metadata": {},
   "outputs": [],
   "source": []
  }
 ],
 "metadata": {
  "kernelspec": {
   "display_name": "Python 3",
   "language": "python",
   "name": "python3"
  },
  "language_info": {
   "codemirror_mode": {
    "name": "ipython",
    "version": 3
   },
   "file_extension": ".py",
   "mimetype": "text/x-python",
   "name": "python",
   "nbconvert_exporter": "python",
   "pygments_lexer": "ipython3",
   "version": "3.8.5"
  }
 },
 "nbformat": 4,
 "nbformat_minor": 4
}
