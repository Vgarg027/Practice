{
 "cells": [
  {
   "cell_type": "markdown",
   "metadata": {
    "scrolled": true
   },
   "source": [
    "# Data Wrangling - WeRateDogs\n",
    "\n",
    "> Project initiative aims at covering fundamental steps before crunching data: Data wrangling.\n",
    "It emcompasses many tasks, very often tedious ones. But all necessary to carry on with proper data analysis.\n",
    "\n",
    ">Primarly, collecting the data we need from multiple sources and different fashions. Then, assessing it vizually and progammatically to identify potential pitfalls and apply all transformations that would ease the remaining steps of the process.\n",
    ">Finally, go through the different data collected, either via relevant vizualizations and/or programmatic methods to get the essence of it and hopefully find the answers to our initial questions.\n",
    "\n",
    "\n",
    "\n",
    "\n",
    "\n",
    "## Table of Contents\n",
    "\n",
    "* [1.Gather](#gather)\n",
    "    * [1.1 Read original file(.csv)](#readcsv)\n",
    "        \n",
    "    * [1.2 Read from Twitter api](#readapi)\n",
    "        * [1.2.1 Configure credentials for API](#apicredentials)\n",
    "        * [1.2.2 Query Tweeter API & store results (json) in file](#queryapi)\n",
    "        * [1.2.3 Read json file content in a dataframe](#readjson)\n",
    "        \n",
    "    * [1.3 Read from image predictions file](#readimg)\n",
    "        * [1.3.1 Download file & save results as .tsv file](#savetsv)   \n",
    "\n",
    "\n",
    "* [2.Assessment](#assess)\n",
    "    * [2.1 Assess original file(csv)](#assessoriginalecsv)\n",
    "    * [2.2 Report - original file](#reportoriginalcsv)\n",
    "    * [2.3 Assess image predictions file](#assessimgpreds)\n",
    "    * [2.4 Report - image predictions file assesment](#reportimgpreds)\n",
    "    * [2.5 Assess json data in dataframe](#assessjson)\n",
    "    * [2.6 Report - json data assesment](#reportjson)\n",
    "    * [2.7 Summary - assessment report](#finalreport)\n",
    "    \n",
    "\n",
    "    \n",
    "* [3.Cleaning](#clean)\n",
    "    * [3.1 Cleaning tasks - original tweet file](#cleanoriginal)\n",
    "    * [3.2 Cleaning tasks - image predictions](#cleanpreds)\n",
    "    * [3.2 Cleaning tasks - image predictions](#cleanpreds)\n",
    "    \n",
    "    \n",
    "* [4. Storing, Analyzing & Vizualizing wrangled data](#results)\n",
    "    * [4.1 Generate output file(s) after wrangled efforts](#wrangled_files)\n",
    "    * [4.2 Vizualization & Insights on wrangled data](#insights)\n",
    "\n",
    "To get started, let's import our libraries."
   ]
  },
  {
   "cell_type": "code",
   "execution_count": 2,
   "metadata": {},
   "outputs": [],
   "source": [
    "# install dependencies \n",
    "import pandas as pd\n",
    "import numpy as np\n",
    "import requests\n",
    "import os\n",
    "import json\n",
    "import tweepy\n",
    "import datetime as dt\n",
    "from timeit import default_timer as timer\n",
    "import matplotlib.pyplot as plt\n",
    "\n",
    "\n",
    "%matplotlib inline\n",
    "#pip install tweepy"
   ]
  },
  {
   "cell_type": "markdown",
   "metadata": {},
   "source": [
    "<a id='gather'></a>\n",
    "## 1.Gather"
   ]
  },
  {
   "cell_type": "markdown",
   "metadata": {},
   "source": [
    "<a id='readcsv'></a>\n",
    "### 1.1 Read original file (.csv)"
   ]
  },
  {
   "cell_type": "code",
   "execution_count": 3,
   "metadata": {},
   "outputs": [
    {
     "name": "stdout",
     "output_type": "stream",
     "text": [
      "(2356, 17)\n"
     ]
    },
    {
     "data": {
      "text/html": [
       "<div>\n",
       "<style scoped>\n",
       "    .dataframe tbody tr th:only-of-type {\n",
       "        vertical-align: middle;\n",
       "    }\n",
       "\n",
       "    .dataframe tbody tr th {\n",
       "        vertical-align: top;\n",
       "    }\n",
       "\n",
       "    .dataframe thead th {\n",
       "        text-align: right;\n",
       "    }\n",
       "</style>\n",
       "<table border=\"1\" class=\"dataframe\">\n",
       "  <thead>\n",
       "    <tr style=\"text-align: right;\">\n",
       "      <th></th>\n",
       "      <th>tweet_id</th>\n",
       "      <th>in_reply_to_status_id</th>\n",
       "      <th>in_reply_to_user_id</th>\n",
       "      <th>timestamp</th>\n",
       "      <th>source</th>\n",
       "      <th>text</th>\n",
       "      <th>retweeted_status_id</th>\n",
       "      <th>retweeted_status_user_id</th>\n",
       "      <th>retweeted_status_timestamp</th>\n",
       "      <th>expanded_urls</th>\n",
       "      <th>rating_numerator</th>\n",
       "      <th>rating_denominator</th>\n",
       "      <th>name</th>\n",
       "      <th>doggo</th>\n",
       "      <th>floofer</th>\n",
       "      <th>pupper</th>\n",
       "      <th>puppo</th>\n",
       "    </tr>\n",
       "  </thead>\n",
       "  <tbody>\n",
       "    <tr>\n",
       "      <th>0</th>\n",
       "      <td>892420643555336193</td>\n",
       "      <td>NaN</td>\n",
       "      <td>NaN</td>\n",
       "      <td>2017-08-01 16:23:56 +0000</td>\n",
       "      <td>&lt;a href=\"http://twitter.com/download/iphone\" r...</td>\n",
       "      <td>This is Phineas. He's a mystical boy. Only eve...</td>\n",
       "      <td>NaN</td>\n",
       "      <td>NaN</td>\n",
       "      <td>NaN</td>\n",
       "      <td>https://twitter.com/dog_rates/status/892420643...</td>\n",
       "      <td>13</td>\n",
       "      <td>10</td>\n",
       "      <td>Phineas</td>\n",
       "      <td>None</td>\n",
       "      <td>None</td>\n",
       "      <td>None</td>\n",
       "      <td>None</td>\n",
       "    </tr>\n",
       "    <tr>\n",
       "      <th>1</th>\n",
       "      <td>892177421306343426</td>\n",
       "      <td>NaN</td>\n",
       "      <td>NaN</td>\n",
       "      <td>2017-08-01 00:17:27 +0000</td>\n",
       "      <td>&lt;a href=\"http://twitter.com/download/iphone\" r...</td>\n",
       "      <td>This is Tilly. She's just checking pup on you....</td>\n",
       "      <td>NaN</td>\n",
       "      <td>NaN</td>\n",
       "      <td>NaN</td>\n",
       "      <td>https://twitter.com/dog_rates/status/892177421...</td>\n",
       "      <td>13</td>\n",
       "      <td>10</td>\n",
       "      <td>Tilly</td>\n",
       "      <td>None</td>\n",
       "      <td>None</td>\n",
       "      <td>None</td>\n",
       "      <td>None</td>\n",
       "    </tr>\n",
       "  </tbody>\n",
       "</table>\n",
       "</div>"
      ],
      "text/plain": [
       "             tweet_id  in_reply_to_status_id  in_reply_to_user_id  \\\n",
       "0  892420643555336193                    NaN                  NaN   \n",
       "1  892177421306343426                    NaN                  NaN   \n",
       "\n",
       "                   timestamp  \\\n",
       "0  2017-08-01 16:23:56 +0000   \n",
       "1  2017-08-01 00:17:27 +0000   \n",
       "\n",
       "                                              source  \\\n",
       "0  <a href=\"http://twitter.com/download/iphone\" r...   \n",
       "1  <a href=\"http://twitter.com/download/iphone\" r...   \n",
       "\n",
       "                                                text  retweeted_status_id  \\\n",
       "0  This is Phineas. He's a mystical boy. Only eve...                  NaN   \n",
       "1  This is Tilly. She's just checking pup on you....                  NaN   \n",
       "\n",
       "   retweeted_status_user_id retweeted_status_timestamp  \\\n",
       "0                       NaN                        NaN   \n",
       "1                       NaN                        NaN   \n",
       "\n",
       "                                       expanded_urls  rating_numerator  \\\n",
       "0  https://twitter.com/dog_rates/status/892420643...                13   \n",
       "1  https://twitter.com/dog_rates/status/892177421...                13   \n",
       "\n",
       "   rating_denominator     name doggo floofer pupper puppo  \n",
       "0                  10  Phineas  None    None   None  None  \n",
       "1                  10    Tilly  None    None   None  None  "
      ]
     },
     "execution_count": 3,
     "metadata": {},
     "output_type": "execute_result"
    }
   ],
   "source": [
    "df = pd.read_csv('twitter-archive-enhanced.csv')\n",
    "print(df.shape)\n",
    "df.head(2)\n"
   ]
  },
  {
   "cell_type": "code",
   "execution_count": 4,
   "metadata": {},
   "outputs": [
    {
     "name": "stdout",
     "output_type": "stream",
     "text": [
      "<class 'pandas.core.frame.DataFrame'>\n",
      "Int64Index: 2175 entries, 0 to 2355\n",
      "Data columns (total 17 columns):\n",
      " #   Column                      Non-Null Count  Dtype  \n",
      "---  ------                      --------------  -----  \n",
      " 0   tweet_id                    2175 non-null   int64  \n",
      " 1   in_reply_to_status_id       78 non-null     float64\n",
      " 2   in_reply_to_user_id         78 non-null     float64\n",
      " 3   timestamp                   2175 non-null   object \n",
      " 4   source                      2175 non-null   object \n",
      " 5   text                        2175 non-null   object \n",
      " 6   retweeted_status_id         0 non-null      float64\n",
      " 7   retweeted_status_user_id    0 non-null      float64\n",
      " 8   retweeted_status_timestamp  0 non-null      object \n",
      " 9   expanded_urls               2117 non-null   object \n",
      " 10  rating_numerator            2175 non-null   int64  \n",
      " 11  rating_denominator          2175 non-null   int64  \n",
      " 12  name                        2175 non-null   object \n",
      " 13  doggo                       2175 non-null   object \n",
      " 14  floofer                     2175 non-null   object \n",
      " 15  pupper                      2175 non-null   object \n",
      " 16  puppo                       2175 non-null   object \n",
      "dtypes: float64(4), int64(3), object(10)\n",
      "memory usage: 305.9+ KB\n"
     ]
    }
   ],
   "source": [
    "# as required in keypoints - we only need infos for original tweets, retweets have to be removed\n",
    "df_original_tweets = df[df['retweeted_status_id'].isnull()]\n",
    "df_original_tweets.info()"
   ]
  },
  {
   "cell_type": "code",
   "execution_count": null,
   "metadata": {},
   "outputs": [],
   "source": []
  },
  {
   "cell_type": "markdown",
   "metadata": {},
   "source": [
    "<a id='readapi'></a>\n",
    "### 1.2 Read from Twitter API (tweepy)"
   ]
  },
  {
   "cell_type": "markdown",
   "metadata": {},
   "source": [
    "<a id='apicredentials'></a>\n",
    "##### 1.2.1 Configure credentials for API -- (No need to run the code in cell)"
   ]
  },
  {
   "cell_type": "code",
   "execution_count": 5,
   "metadata": {},
   "outputs": [],
   "source": [
    "# credentials to query twitter api (REMOVED BEFORE SUBMISSION)\n",
    "consumer_key = '{user-consumer-key}'\n",
    "consumer_secret = '{user-consumer-secret}'\n",
    "access_token = '{user-access-token}'\n",
    "access_secret = '{user-access-secret}'\n",
    "\n",
    "\n",
    "auth = tweepy.OAuthHandler(consumer_key, consumer_secret)\n",
    "auth.set_access_token(access_token, access_secret)\n",
    "\n",
    "# set the wait on rate limit to avoid cancellation\n",
    "api = tweepy.API(auth,wait_on_rate_limit=True)"
   ]
  },
  {
   "cell_type": "code",
   "execution_count": 6,
   "metadata": {},
   "outputs": [
    {
     "data": {
      "text/plain": [
       "2175"
      ]
     },
     "execution_count": 6,
     "metadata": {},
     "output_type": "execute_result"
    }
   ],
   "source": [
    "#api.get_status(754120377874386944, tweet_mode='extended')\n",
    "len (df_original_tweets) "
   ]
  },
  {
   "cell_type": "markdown",
   "metadata": {},
   "source": [
    "<a id='queryapi'></a>\n",
    "##### 1.2.2 Query Tweeter API & store results (json) in file"
   ]
  },
  {
   "cell_type": "code",
   "execution_count": 10,
   "metadata": {},
   "outputs": [
    {
     "name": "stdout",
     "output_type": "stream",
     "text": [
      "1942.0676191970124\n"
     ]
    }
   ],
   "source": [
    "# def a function that can read from any dataframe and return a list of tweet_id - Input required\n",
    "def get_tweet_id(df_original_tweets):\n",
    "    tweet_id_list = df_original_tweets['tweet_id']\n",
    "    return tweet_id_list\n",
    "\n",
    "\n",
    "# def a function (no input required) that will:\n",
    "#(a) read list of tweet_id\n",
    "#(b) get api data for specific tweet_id \n",
    "#(c) store the result as json in .txt file\n",
    "#(d) store any possible exceptions returned from api (ie.deleted tweets)\n",
    "\n",
    "errors_dict = {}\n",
    "\n",
    "def get_tweetid_content():\n",
    "    tweet_id_list = get_tweet_id(df_original_tweets)\n",
    "    start = timer()\n",
    "    with open('tweet_json.txt', 'w') as file:\n",
    "        for tweet_id in tweet_id_list:\n",
    "            try:\n",
    "                tweet = api.get_status(tweet_id, tweet_mode='extended')\n",
    "                tweet_content = tweet._json\n",
    "                #return tweet_content\n",
    "                json.dump(tweet_content, file)\n",
    "                file.write('\\n')\n",
    "                \n",
    "            except tweepy.TweepError as e:\n",
    "                errors_dict[tweet_id] = e\n",
    "    end = timer()\n",
    "    print(end - start)\n",
    "    #print(errors_dict)\n",
    "\n",
    "get_tweetid_content()"
   ]
  },
  {
   "cell_type": "code",
   "execution_count": 11,
   "metadata": {},
   "outputs": [
    {
     "data": {
      "text/plain": [
       "{872261713294495745: tweepy.error.TweepError([{'code': 144,\n",
       "                           'message': 'No status found with that ID.'}]),\n",
       " 844704788403113984: tweepy.error.TweepError([{'code': 144,\n",
       "                           'message': 'No status found with that ID.'}]),\n",
       " 837366284874571778: tweepy.error.TweepError([{'code': 144,\n",
       "                           'message': 'No status found with that ID.'}]),\n",
       " 829374341691346946: tweepy.error.TweepError([{'code': 144,\n",
       "                           'message': 'No status found with that ID.'}]),\n",
       " 779123168116150273: tweepy.error.TweepError([{'code': 144,\n",
       "                           'message': 'No status found with that ID.'}]),\n",
       " 754011816964026368: tweepy.error.TweepError([{'code': 144,\n",
       "                           'message': 'No status found with that ID.'}]),\n",
       " 680055455951884288: tweepy.error.TweepError([{'code': 144,\n",
       "                           'message': 'No status found with that ID.'}])}"
      ]
     },
     "execution_count": 11,
     "metadata": {},
     "output_type": "execute_result"
    }
   ],
   "source": [
    "# check for errors - missing tweet_id\n",
    "errors_dict"
   ]
  },
  {
   "cell_type": "markdown",
   "metadata": {},
   "source": [
    "<a id='readjson'></a>\n",
    "##### 1.2.3 Read json file content in a dataframe"
   ]
  },
  {
   "cell_type": "code",
   "execution_count": 7,
   "metadata": {},
   "outputs": [
    {
     "data": {
      "text/html": [
       "<div>\n",
       "<style scoped>\n",
       "    .dataframe tbody tr th:only-of-type {\n",
       "        vertical-align: middle;\n",
       "    }\n",
       "\n",
       "    .dataframe tbody tr th {\n",
       "        vertical-align: top;\n",
       "    }\n",
       "\n",
       "    .dataframe thead th {\n",
       "        text-align: right;\n",
       "    }\n",
       "</style>\n",
       "<table border=\"1\" class=\"dataframe\">\n",
       "  <thead>\n",
       "    <tr style=\"text-align: right;\">\n",
       "      <th></th>\n",
       "      <th>created_at</th>\n",
       "      <th>id</th>\n",
       "      <th>id_str</th>\n",
       "      <th>full_text</th>\n",
       "      <th>truncated</th>\n",
       "      <th>display_text_range</th>\n",
       "      <th>entities</th>\n",
       "      <th>extended_entities</th>\n",
       "      <th>source</th>\n",
       "      <th>in_reply_to_status_id</th>\n",
       "      <th>...</th>\n",
       "      <th>favorite_count</th>\n",
       "      <th>favorited</th>\n",
       "      <th>retweeted</th>\n",
       "      <th>possibly_sensitive</th>\n",
       "      <th>possibly_sensitive_appealable</th>\n",
       "      <th>lang</th>\n",
       "      <th>quoted_status_id</th>\n",
       "      <th>quoted_status_id_str</th>\n",
       "      <th>quoted_status_permalink</th>\n",
       "      <th>quoted_status</th>\n",
       "    </tr>\n",
       "  </thead>\n",
       "  <tbody>\n",
       "    <tr>\n",
       "      <th>0</th>\n",
       "      <td>Tue Aug 01 16:23:56 +0000 2017</td>\n",
       "      <td>892420643555336193</td>\n",
       "      <td>892420643555336193</td>\n",
       "      <td>This is Phineas. He's a mystical boy. Only eve...</td>\n",
       "      <td>False</td>\n",
       "      <td>[0, 85]</td>\n",
       "      <td>{'hashtags': [], 'symbols': [], 'user_mentions...</td>\n",
       "      <td>{'media': [{'id': 892420639486877696, 'id_str'...</td>\n",
       "      <td>&lt;a href=\"http://twitter.com/download/iphone\" r...</td>\n",
       "      <td>NaN</td>\n",
       "      <td>...</td>\n",
       "      <td>35155</td>\n",
       "      <td>False</td>\n",
       "      <td>False</td>\n",
       "      <td>False</td>\n",
       "      <td>False</td>\n",
       "      <td>en</td>\n",
       "      <td>NaN</td>\n",
       "      <td>NaN</td>\n",
       "      <td>NaN</td>\n",
       "      <td>NaN</td>\n",
       "    </tr>\n",
       "    <tr>\n",
       "      <th>1</th>\n",
       "      <td>Tue Aug 01 00:17:27 +0000 2017</td>\n",
       "      <td>892177421306343426</td>\n",
       "      <td>892177421306343426</td>\n",
       "      <td>This is Tilly. She's just checking pup on you....</td>\n",
       "      <td>False</td>\n",
       "      <td>[0, 138]</td>\n",
       "      <td>{'hashtags': [], 'symbols': [], 'user_mentions...</td>\n",
       "      <td>{'media': [{'id': 892177413194625024, 'id_str'...</td>\n",
       "      <td>&lt;a href=\"http://twitter.com/download/iphone\" r...</td>\n",
       "      <td>NaN</td>\n",
       "      <td>...</td>\n",
       "      <td>30413</td>\n",
       "      <td>False</td>\n",
       "      <td>False</td>\n",
       "      <td>False</td>\n",
       "      <td>False</td>\n",
       "      <td>en</td>\n",
       "      <td>NaN</td>\n",
       "      <td>NaN</td>\n",
       "      <td>NaN</td>\n",
       "      <td>NaN</td>\n",
       "    </tr>\n",
       "  </tbody>\n",
       "</table>\n",
       "<p>2 rows × 31 columns</p>\n",
       "</div>"
      ],
      "text/plain": [
       "                       created_at                  id              id_str  \\\n",
       "0  Tue Aug 01 16:23:56 +0000 2017  892420643555336193  892420643555336193   \n",
       "1  Tue Aug 01 00:17:27 +0000 2017  892177421306343426  892177421306343426   \n",
       "\n",
       "                                           full_text  truncated  \\\n",
       "0  This is Phineas. He's a mystical boy. Only eve...      False   \n",
       "1  This is Tilly. She's just checking pup on you....      False   \n",
       "\n",
       "  display_text_range                                           entities  \\\n",
       "0            [0, 85]  {'hashtags': [], 'symbols': [], 'user_mentions...   \n",
       "1           [0, 138]  {'hashtags': [], 'symbols': [], 'user_mentions...   \n",
       "\n",
       "                                   extended_entities  \\\n",
       "0  {'media': [{'id': 892420639486877696, 'id_str'...   \n",
       "1  {'media': [{'id': 892177413194625024, 'id_str'...   \n",
       "\n",
       "                                              source  in_reply_to_status_id  \\\n",
       "0  <a href=\"http://twitter.com/download/iphone\" r...                    NaN   \n",
       "1  <a href=\"http://twitter.com/download/iphone\" r...                    NaN   \n",
       "\n",
       "   ... favorite_count  favorited retweeted possibly_sensitive  \\\n",
       "0  ...          35155      False     False              False   \n",
       "1  ...          30413      False     False              False   \n",
       "\n",
       "  possibly_sensitive_appealable lang quoted_status_id quoted_status_id_str  \\\n",
       "0                         False   en              NaN                  NaN   \n",
       "1                         False   en              NaN                  NaN   \n",
       "\n",
       "  quoted_status_permalink  quoted_status  \n",
       "0                     NaN            NaN  \n",
       "1                     NaN            NaN  \n",
       "\n",
       "[2 rows x 31 columns]"
      ]
     },
     "execution_count": 7,
     "metadata": {},
     "output_type": "execute_result"
    }
   ],
   "source": [
    "# open file with content saved as json for - each line corresponding to one tweet\n",
    "with open('tweet_json.txt') as f:\n",
    "    df_tweet_api = pd.DataFrame(json.loads(line) for line in f)\n",
    "    \n",
    "df_tweet_api.head(2)"
   ]
  },
  {
   "cell_type": "code",
   "execution_count": 8,
   "metadata": {},
   "outputs": [
    {
     "data": {
      "text/plain": [
       "(2168, 31)"
      ]
     },
     "execution_count": 8,
     "metadata": {},
     "output_type": "execute_result"
    }
   ],
   "source": [
    "# losing 7 tweets as missing in api response\n",
    "df_tweet_api.shape"
   ]
  },
  {
   "cell_type": "code",
   "execution_count": 9,
   "metadata": {},
   "outputs": [
    {
     "data": {
      "text/plain": [
       "2168"
      ]
     },
     "execution_count": 9,
     "metadata": {},
     "output_type": "execute_result"
    }
   ],
   "source": [
    "# select only the cols we need for our analysis\n",
    "df_tweet_api = df_tweet_api.iloc[:, [0,1,2,3,8,14,20,21,22,23]].copy()\n",
    "\n",
    "\n",
    "# check if subset operation maintain same num of rows\n",
    "len(df_tweet_api)"
   ]
  },
  {
   "cell_type": "code",
   "execution_count": 10,
   "metadata": {},
   "outputs": [
    {
     "data": {
      "text/html": [
       "<div>\n",
       "<style scoped>\n",
       "    .dataframe tbody tr th:only-of-type {\n",
       "        vertical-align: middle;\n",
       "    }\n",
       "\n",
       "    .dataframe tbody tr th {\n",
       "        vertical-align: top;\n",
       "    }\n",
       "\n",
       "    .dataframe thead th {\n",
       "        text-align: right;\n",
       "    }\n",
       "</style>\n",
       "<table border=\"1\" class=\"dataframe\">\n",
       "  <thead>\n",
       "    <tr style=\"text-align: right;\">\n",
       "      <th></th>\n",
       "      <th>created_at</th>\n",
       "      <th>id</th>\n",
       "      <th>id_str</th>\n",
       "      <th>full_text</th>\n",
       "      <th>source</th>\n",
       "      <th>user</th>\n",
       "      <th>retweet_count</th>\n",
       "      <th>favorite_count</th>\n",
       "      <th>favorited</th>\n",
       "      <th>retweeted</th>\n",
       "    </tr>\n",
       "  </thead>\n",
       "  <tbody>\n",
       "    <tr>\n",
       "      <th>0</th>\n",
       "      <td>Tue Aug 01 16:23:56 +0000 2017</td>\n",
       "      <td>892420643555336193</td>\n",
       "      <td>892420643555336193</td>\n",
       "      <td>This is Phineas. He's a mystical boy. Only eve...</td>\n",
       "      <td>&lt;a href=\"http://twitter.com/download/iphone\" r...</td>\n",
       "      <td>{'id': 4196983835, 'id_str': '4196983835', 'na...</td>\n",
       "      <td>7413</td>\n",
       "      <td>35155</td>\n",
       "      <td>False</td>\n",
       "      <td>False</td>\n",
       "    </tr>\n",
       "    <tr>\n",
       "      <th>1</th>\n",
       "      <td>Tue Aug 01 00:17:27 +0000 2017</td>\n",
       "      <td>892177421306343426</td>\n",
       "      <td>892177421306343426</td>\n",
       "      <td>This is Tilly. She's just checking pup on you....</td>\n",
       "      <td>&lt;a href=\"http://twitter.com/download/iphone\" r...</td>\n",
       "      <td>{'id': 4196983835, 'id_str': '4196983835', 'na...</td>\n",
       "      <td>5515</td>\n",
       "      <td>30413</td>\n",
       "      <td>False</td>\n",
       "      <td>False</td>\n",
       "    </tr>\n",
       "    <tr>\n",
       "      <th>2</th>\n",
       "      <td>Mon Jul 31 00:18:03 +0000 2017</td>\n",
       "      <td>891815181378084864</td>\n",
       "      <td>891815181378084864</td>\n",
       "      <td>This is Archie. He is a rare Norwegian Pouncin...</td>\n",
       "      <td>&lt;a href=\"http://twitter.com/download/iphone\" r...</td>\n",
       "      <td>{'id': 4196983835, 'id_str': '4196983835', 'na...</td>\n",
       "      <td>3640</td>\n",
       "      <td>22863</td>\n",
       "      <td>False</td>\n",
       "      <td>False</td>\n",
       "    </tr>\n",
       "    <tr>\n",
       "      <th>3</th>\n",
       "      <td>Sun Jul 30 15:58:51 +0000 2017</td>\n",
       "      <td>891689557279858688</td>\n",
       "      <td>891689557279858688</td>\n",
       "      <td>This is Darla. She commenced a snooze mid meal...</td>\n",
       "      <td>&lt;a href=\"http://twitter.com/download/iphone\" r...</td>\n",
       "      <td>{'id': 4196983835, 'id_str': '4196983835', 'na...</td>\n",
       "      <td>7590</td>\n",
       "      <td>38424</td>\n",
       "      <td>False</td>\n",
       "      <td>False</td>\n",
       "    </tr>\n",
       "    <tr>\n",
       "      <th>4</th>\n",
       "      <td>Sat Jul 29 16:00:24 +0000 2017</td>\n",
       "      <td>891327558926688256</td>\n",
       "      <td>891327558926688256</td>\n",
       "      <td>This is Franklin. He would like you to stop ca...</td>\n",
       "      <td>&lt;a href=\"http://twitter.com/download/iphone\" r...</td>\n",
       "      <td>{'id': 4196983835, 'id_str': '4196983835', 'na...</td>\n",
       "      <td>8161</td>\n",
       "      <td>36679</td>\n",
       "      <td>False</td>\n",
       "      <td>False</td>\n",
       "    </tr>\n",
       "  </tbody>\n",
       "</table>\n",
       "</div>"
      ],
      "text/plain": [
       "                       created_at                  id              id_str  \\\n",
       "0  Tue Aug 01 16:23:56 +0000 2017  892420643555336193  892420643555336193   \n",
       "1  Tue Aug 01 00:17:27 +0000 2017  892177421306343426  892177421306343426   \n",
       "2  Mon Jul 31 00:18:03 +0000 2017  891815181378084864  891815181378084864   \n",
       "3  Sun Jul 30 15:58:51 +0000 2017  891689557279858688  891689557279858688   \n",
       "4  Sat Jul 29 16:00:24 +0000 2017  891327558926688256  891327558926688256   \n",
       "\n",
       "                                           full_text  \\\n",
       "0  This is Phineas. He's a mystical boy. Only eve...   \n",
       "1  This is Tilly. She's just checking pup on you....   \n",
       "2  This is Archie. He is a rare Norwegian Pouncin...   \n",
       "3  This is Darla. She commenced a snooze mid meal...   \n",
       "4  This is Franklin. He would like you to stop ca...   \n",
       "\n",
       "                                              source  \\\n",
       "0  <a href=\"http://twitter.com/download/iphone\" r...   \n",
       "1  <a href=\"http://twitter.com/download/iphone\" r...   \n",
       "2  <a href=\"http://twitter.com/download/iphone\" r...   \n",
       "3  <a href=\"http://twitter.com/download/iphone\" r...   \n",
       "4  <a href=\"http://twitter.com/download/iphone\" r...   \n",
       "\n",
       "                                                user  retweet_count  \\\n",
       "0  {'id': 4196983835, 'id_str': '4196983835', 'na...           7413   \n",
       "1  {'id': 4196983835, 'id_str': '4196983835', 'na...           5515   \n",
       "2  {'id': 4196983835, 'id_str': '4196983835', 'na...           3640   \n",
       "3  {'id': 4196983835, 'id_str': '4196983835', 'na...           7590   \n",
       "4  {'id': 4196983835, 'id_str': '4196983835', 'na...           8161   \n",
       "\n",
       "   favorite_count  favorited  retweeted  \n",
       "0           35155      False      False  \n",
       "1           30413      False      False  \n",
       "2           22863      False      False  \n",
       "3           38424      False      False  \n",
       "4           36679      False      False  "
      ]
     },
     "execution_count": 10,
     "metadata": {},
     "output_type": "execute_result"
    }
   ],
   "source": [
    "df_tweet_api.head()"
   ]
  },
  {
   "cell_type": "markdown",
   "metadata": {},
   "source": [
    "<a id='readimg'></a>\n",
    "### 1.3 Read from image predictions file"
   ]
  },
  {
   "cell_type": "markdown",
   "metadata": {},
   "source": [
    "<a id='savetsv' ></a>\n",
    "##### 1.3.1 Download file & save results as .tsv file"
   ]
  },
  {
   "cell_type": "code",
   "execution_count": 11,
   "metadata": {},
   "outputs": [],
   "source": [
    "# url where file is located was provided - Download file using requets library\n",
    "folder_name='/Users/samy.bencherif/Documents/udacity_courses/ND_data_analyst/ND_data_wrangling'\n",
    "img_preds_url = 'https://d17h27t6h515a5.cloudfront.net/topher/2017/August/599fd2ad_image-predictions/image-predictions.tsv'\n",
    "download_file = requests.get(img_preds_url)\n",
    "file_content = download_file.content\n",
    "\n",
    "with open (os.path.join(folder_name,img_preds_url.split('/')[-1]),mode='wb') as file:\n",
    "    file.write(file_content)\n",
    "    "
   ]
  },
  {
   "cell_type": "code",
   "execution_count": 12,
   "metadata": {},
   "outputs": [
    {
     "data": {
      "text/html": [
       "<div>\n",
       "<style scoped>\n",
       "    .dataframe tbody tr th:only-of-type {\n",
       "        vertical-align: middle;\n",
       "    }\n",
       "\n",
       "    .dataframe tbody tr th {\n",
       "        vertical-align: top;\n",
       "    }\n",
       "\n",
       "    .dataframe thead th {\n",
       "        text-align: right;\n",
       "    }\n",
       "</style>\n",
       "<table border=\"1\" class=\"dataframe\">\n",
       "  <thead>\n",
       "    <tr style=\"text-align: right;\">\n",
       "      <th></th>\n",
       "      <th>tweet_id</th>\n",
       "      <th>jpg_url</th>\n",
       "      <th>img_num</th>\n",
       "      <th>p1</th>\n",
       "      <th>p1_conf</th>\n",
       "      <th>p1_dog</th>\n",
       "      <th>p2</th>\n",
       "      <th>p2_conf</th>\n",
       "      <th>p2_dog</th>\n",
       "      <th>p3</th>\n",
       "      <th>p3_conf</th>\n",
       "      <th>p3_dog</th>\n",
       "    </tr>\n",
       "  </thead>\n",
       "  <tbody>\n",
       "    <tr>\n",
       "      <th>0</th>\n",
       "      <td>666020888022790149</td>\n",
       "      <td>https://pbs.twimg.com/media/CT4udn0WwAA0aMy.jpg</td>\n",
       "      <td>1</td>\n",
       "      <td>Welsh_springer_spaniel</td>\n",
       "      <td>0.465074</td>\n",
       "      <td>True</td>\n",
       "      <td>collie</td>\n",
       "      <td>0.156665</td>\n",
       "      <td>True</td>\n",
       "      <td>Shetland_sheepdog</td>\n",
       "      <td>0.061428</td>\n",
       "      <td>True</td>\n",
       "    </tr>\n",
       "    <tr>\n",
       "      <th>1</th>\n",
       "      <td>666029285002620928</td>\n",
       "      <td>https://pbs.twimg.com/media/CT42GRgUYAA5iDo.jpg</td>\n",
       "      <td>1</td>\n",
       "      <td>redbone</td>\n",
       "      <td>0.506826</td>\n",
       "      <td>True</td>\n",
       "      <td>miniature_pinscher</td>\n",
       "      <td>0.074192</td>\n",
       "      <td>True</td>\n",
       "      <td>Rhodesian_ridgeback</td>\n",
       "      <td>0.072010</td>\n",
       "      <td>True</td>\n",
       "    </tr>\n",
       "    <tr>\n",
       "      <th>2</th>\n",
       "      <td>666033412701032449</td>\n",
       "      <td>https://pbs.twimg.com/media/CT4521TWwAEvMyu.jpg</td>\n",
       "      <td>1</td>\n",
       "      <td>German_shepherd</td>\n",
       "      <td>0.596461</td>\n",
       "      <td>True</td>\n",
       "      <td>malinois</td>\n",
       "      <td>0.138584</td>\n",
       "      <td>True</td>\n",
       "      <td>bloodhound</td>\n",
       "      <td>0.116197</td>\n",
       "      <td>True</td>\n",
       "    </tr>\n",
       "    <tr>\n",
       "      <th>3</th>\n",
       "      <td>666044226329800704</td>\n",
       "      <td>https://pbs.twimg.com/media/CT5Dr8HUEAA-lEu.jpg</td>\n",
       "      <td>1</td>\n",
       "      <td>Rhodesian_ridgeback</td>\n",
       "      <td>0.408143</td>\n",
       "      <td>True</td>\n",
       "      <td>redbone</td>\n",
       "      <td>0.360687</td>\n",
       "      <td>True</td>\n",
       "      <td>miniature_pinscher</td>\n",
       "      <td>0.222752</td>\n",
       "      <td>True</td>\n",
       "    </tr>\n",
       "    <tr>\n",
       "      <th>4</th>\n",
       "      <td>666049248165822465</td>\n",
       "      <td>https://pbs.twimg.com/media/CT5IQmsXIAAKY4A.jpg</td>\n",
       "      <td>1</td>\n",
       "      <td>miniature_pinscher</td>\n",
       "      <td>0.560311</td>\n",
       "      <td>True</td>\n",
       "      <td>Rottweiler</td>\n",
       "      <td>0.243682</td>\n",
       "      <td>True</td>\n",
       "      <td>Doberman</td>\n",
       "      <td>0.154629</td>\n",
       "      <td>True</td>\n",
       "    </tr>\n",
       "  </tbody>\n",
       "</table>\n",
       "</div>"
      ],
      "text/plain": [
       "             tweet_id                                          jpg_url  \\\n",
       "0  666020888022790149  https://pbs.twimg.com/media/CT4udn0WwAA0aMy.jpg   \n",
       "1  666029285002620928  https://pbs.twimg.com/media/CT42GRgUYAA5iDo.jpg   \n",
       "2  666033412701032449  https://pbs.twimg.com/media/CT4521TWwAEvMyu.jpg   \n",
       "3  666044226329800704  https://pbs.twimg.com/media/CT5Dr8HUEAA-lEu.jpg   \n",
       "4  666049248165822465  https://pbs.twimg.com/media/CT5IQmsXIAAKY4A.jpg   \n",
       "\n",
       "   img_num                      p1   p1_conf  p1_dog                  p2  \\\n",
       "0        1  Welsh_springer_spaniel  0.465074    True              collie   \n",
       "1        1                 redbone  0.506826    True  miniature_pinscher   \n",
       "2        1         German_shepherd  0.596461    True            malinois   \n",
       "3        1     Rhodesian_ridgeback  0.408143    True             redbone   \n",
       "4        1      miniature_pinscher  0.560311    True          Rottweiler   \n",
       "\n",
       "    p2_conf  p2_dog                   p3   p3_conf  p3_dog  \n",
       "0  0.156665    True    Shetland_sheepdog  0.061428    True  \n",
       "1  0.074192    True  Rhodesian_ridgeback  0.072010    True  \n",
       "2  0.138584    True           bloodhound  0.116197    True  \n",
       "3  0.360687    True   miniature_pinscher  0.222752    True  \n",
       "4  0.243682    True             Doberman  0.154629    True  "
      ]
     },
     "execution_count": 12,
     "metadata": {},
     "output_type": "execute_result"
    }
   ],
   "source": [
    "df_img_preds = pd.read_csv(\"image-predictions.tsv\",sep='\\t')\n",
    "df_img_preds.head()"
   ]
  },
  {
   "cell_type": "markdown",
   "metadata": {},
   "source": [
    "<a id='assess'></a>\n",
    "# 2. Assessment"
   ]
  },
  {
   "cell_type": "markdown",
   "metadata": {},
   "source": [
    ">3 files have to be assesed:\n",
    ">\n",
    ">1.csv provided initially (df_original_tweets) -- we know this one was extracted via api but was missing some useful infos and contain useless data (retweet)\n",
    ">\n",
    ">2.tsv downloaded from server (df_img_preds)\n",
    ">\n",
    ">3.json obtained with twitter api (df_tweet_api)"
   ]
  },
  {
   "cell_type": "markdown",
   "metadata": {},
   "source": [
    "<a id='assessoriginalecsv'></a>\n",
    "### 2.1 Assess original file ('twitter-archive-enhanced.csv')"
   ]
  },
  {
   "cell_type": "code",
   "execution_count": 346,
   "metadata": {
    "scrolled": true
   },
   "outputs": [
    {
     "data": {
      "text/html": [
       "<div>\n",
       "<style scoped>\n",
       "    .dataframe tbody tr th:only-of-type {\n",
       "        vertical-align: middle;\n",
       "    }\n",
       "\n",
       "    .dataframe tbody tr th {\n",
       "        vertical-align: top;\n",
       "    }\n",
       "\n",
       "    .dataframe thead th {\n",
       "        text-align: right;\n",
       "    }\n",
       "</style>\n",
       "<table border=\"1\" class=\"dataframe\">\n",
       "  <thead>\n",
       "    <tr style=\"text-align: right;\">\n",
       "      <th></th>\n",
       "      <th>tweet_id</th>\n",
       "      <th>in_reply_to_status_id</th>\n",
       "      <th>in_reply_to_user_id</th>\n",
       "      <th>timestamp</th>\n",
       "      <th>source</th>\n",
       "      <th>text</th>\n",
       "      <th>retweeted_status_id</th>\n",
       "      <th>retweeted_status_user_id</th>\n",
       "      <th>retweeted_status_timestamp</th>\n",
       "      <th>expanded_urls</th>\n",
       "      <th>rating_numerator</th>\n",
       "      <th>rating_denominator</th>\n",
       "      <th>name</th>\n",
       "      <th>doggo</th>\n",
       "      <th>floofer</th>\n",
       "      <th>pupper</th>\n",
       "      <th>puppo</th>\n",
       "    </tr>\n",
       "  </thead>\n",
       "  <tbody>\n",
       "    <tr>\n",
       "      <th>563</th>\n",
       "      <td>802572683846291456</td>\n",
       "      <td>NaN</td>\n",
       "      <td>NaN</td>\n",
       "      <td>2016-11-26 18:00:13 +0000</td>\n",
       "      <td>&lt;a href=\"http://twitter.com/download/iphone\" r...</td>\n",
       "      <td>This is Winnie. She's h*ckin ferocious. Dandel...</td>\n",
       "      <td>NaN</td>\n",
       "      <td>NaN</td>\n",
       "      <td>NaN</td>\n",
       "      <td>https://twitter.com/dog_rates/status/802572683...</td>\n",
       "      <td>12</td>\n",
       "      <td>10</td>\n",
       "      <td>Winnie</td>\n",
       "      <td>None</td>\n",
       "      <td>None</td>\n",
       "      <td>None</td>\n",
       "      <td>None</td>\n",
       "    </tr>\n",
       "    <tr>\n",
       "      <th>1090</th>\n",
       "      <td>737678689543020544</td>\n",
       "      <td>NaN</td>\n",
       "      <td>NaN</td>\n",
       "      <td>2016-05-31 16:14:39 +0000</td>\n",
       "      <td>&lt;a href=\"http://twitter.com/download/iphone\" r...</td>\n",
       "      <td>We only rate dogs. Pls stop sending in non-can...</td>\n",
       "      <td>NaN</td>\n",
       "      <td>NaN</td>\n",
       "      <td>NaN</td>\n",
       "      <td>https://twitter.com/dog_rates/status/737678689...</td>\n",
       "      <td>11</td>\n",
       "      <td>10</td>\n",
       "      <td>None</td>\n",
       "      <td>None</td>\n",
       "      <td>None</td>\n",
       "      <td>None</td>\n",
       "      <td>None</td>\n",
       "    </tr>\n",
       "    <tr>\n",
       "      <th>1610</th>\n",
       "      <td>685532292383666176</td>\n",
       "      <td>NaN</td>\n",
       "      <td>NaN</td>\n",
       "      <td>2016-01-08 18:43:29 +0000</td>\n",
       "      <td>&lt;a href=\"http://twitter.com/download/iphone\" r...</td>\n",
       "      <td>For the last time, WE. DO. NOT. RATE. BULBASAU...</td>\n",
       "      <td>NaN</td>\n",
       "      <td>NaN</td>\n",
       "      <td>NaN</td>\n",
       "      <td>https://twitter.com/dog_rates/status/685532292...</td>\n",
       "      <td>9</td>\n",
       "      <td>10</td>\n",
       "      <td>None</td>\n",
       "      <td>None</td>\n",
       "      <td>None</td>\n",
       "      <td>None</td>\n",
       "      <td>None</td>\n",
       "    </tr>\n",
       "    <tr>\n",
       "      <th>916</th>\n",
       "      <td>756998049151549440</td>\n",
       "      <td>NaN</td>\n",
       "      <td>NaN</td>\n",
       "      <td>2016-07-23 23:42:53 +0000</td>\n",
       "      <td>&lt;a href=\"http://twitter.com/download/iphone\" r...</td>\n",
       "      <td>This is Oliver. He's an English Creamschnitzel...</td>\n",
       "      <td>NaN</td>\n",
       "      <td>NaN</td>\n",
       "      <td>NaN</td>\n",
       "      <td>https://twitter.com/dog_rates/status/756998049...</td>\n",
       "      <td>11</td>\n",
       "      <td>10</td>\n",
       "      <td>Oliver</td>\n",
       "      <td>None</td>\n",
       "      <td>None</td>\n",
       "      <td>None</td>\n",
       "      <td>None</td>\n",
       "    </tr>\n",
       "    <tr>\n",
       "      <th>1366</th>\n",
       "      <td>702671118226825216</td>\n",
       "      <td>NaN</td>\n",
       "      <td>NaN</td>\n",
       "      <td>2016-02-25 01:47:04 +0000</td>\n",
       "      <td>&lt;a href=\"http://twitter.com/download/iphone\" r...</td>\n",
       "      <td>Meet Rambo &amp;amp; Kiwi. Rambo's the pup with th...</td>\n",
       "      <td>NaN</td>\n",
       "      <td>NaN</td>\n",
       "      <td>NaN</td>\n",
       "      <td>https://twitter.com/dog_rates/status/702671118...</td>\n",
       "      <td>10</td>\n",
       "      <td>10</td>\n",
       "      <td>Rambo</td>\n",
       "      <td>None</td>\n",
       "      <td>None</td>\n",
       "      <td>None</td>\n",
       "      <td>None</td>\n",
       "    </tr>\n",
       "    <tr>\n",
       "      <th>1969</th>\n",
       "      <td>673317986296586240</td>\n",
       "      <td>NaN</td>\n",
       "      <td>NaN</td>\n",
       "      <td>2015-12-06 01:48:12 +0000</td>\n",
       "      <td>&lt;a href=\"http://twitter.com/download/iphone\" r...</td>\n",
       "      <td>Take a moment and appreciate how these two dog...</td>\n",
       "      <td>NaN</td>\n",
       "      <td>NaN</td>\n",
       "      <td>NaN</td>\n",
       "      <td>https://twitter.com/dog_rates/status/673317986...</td>\n",
       "      <td>10</td>\n",
       "      <td>10</td>\n",
       "      <td>None</td>\n",
       "      <td>None</td>\n",
       "      <td>None</td>\n",
       "      <td>None</td>\n",
       "      <td>None</td>\n",
       "    </tr>\n",
       "    <tr>\n",
       "      <th>1866</th>\n",
       "      <td>675349384339542016</td>\n",
       "      <td>6.749998e+17</td>\n",
       "      <td>4.196984e+09</td>\n",
       "      <td>2015-12-11 16:20:15 +0000</td>\n",
       "      <td>&lt;a href=\"http://twitter.com/download/iphone\" r...</td>\n",
       "      <td>Yea I lied. Here's more. All 13/10 https://t.c...</td>\n",
       "      <td>NaN</td>\n",
       "      <td>NaN</td>\n",
       "      <td>NaN</td>\n",
       "      <td>https://twitter.com/dog_rates/status/675349384...</td>\n",
       "      <td>13</td>\n",
       "      <td>10</td>\n",
       "      <td>None</td>\n",
       "      <td>None</td>\n",
       "      <td>None</td>\n",
       "      <td>None</td>\n",
       "      <td>None</td>\n",
       "    </tr>\n",
       "    <tr>\n",
       "      <th>2134</th>\n",
       "      <td>670069087419133954</td>\n",
       "      <td>NaN</td>\n",
       "      <td>NaN</td>\n",
       "      <td>2015-11-27 02:38:14 +0000</td>\n",
       "      <td>&lt;a href=\"http://twitter.com/download/iphone\" r...</td>\n",
       "      <td>This is Randall. He's from Chernobyl. Built pl...</td>\n",
       "      <td>NaN</td>\n",
       "      <td>NaN</td>\n",
       "      <td>NaN</td>\n",
       "      <td>https://twitter.com/dog_rates/status/670069087...</td>\n",
       "      <td>5</td>\n",
       "      <td>10</td>\n",
       "      <td>Randall</td>\n",
       "      <td>None</td>\n",
       "      <td>None</td>\n",
       "      <td>None</td>\n",
       "      <td>None</td>\n",
       "    </tr>\n",
       "    <tr>\n",
       "      <th>1962</th>\n",
       "      <td>673355879178194945</td>\n",
       "      <td>NaN</td>\n",
       "      <td>NaN</td>\n",
       "      <td>2015-12-06 04:18:46 +0000</td>\n",
       "      <td>&lt;a href=\"http://twitter.com/download/iphone\" r...</td>\n",
       "      <td>This is Koda. She's a boss. Helps shift gears....</td>\n",
       "      <td>NaN</td>\n",
       "      <td>NaN</td>\n",
       "      <td>NaN</td>\n",
       "      <td>https://twitter.com/dog_rates/status/673355879...</td>\n",
       "      <td>11</td>\n",
       "      <td>10</td>\n",
       "      <td>Koda</td>\n",
       "      <td>None</td>\n",
       "      <td>None</td>\n",
       "      <td>None</td>\n",
       "      <td>None</td>\n",
       "    </tr>\n",
       "    <tr>\n",
       "      <th>1540</th>\n",
       "      <td>689659372465688576</td>\n",
       "      <td>NaN</td>\n",
       "      <td>NaN</td>\n",
       "      <td>2016-01-20 04:03:02 +0000</td>\n",
       "      <td>&lt;a href=\"http://twitter.com/download/iphone\" r...</td>\n",
       "      <td>This is Ricky. He's being escorted out of the ...</td>\n",
       "      <td>NaN</td>\n",
       "      <td>NaN</td>\n",
       "      <td>NaN</td>\n",
       "      <td>https://twitter.com/dog_rates/status/689659372...</td>\n",
       "      <td>8</td>\n",
       "      <td>10</td>\n",
       "      <td>Ricky</td>\n",
       "      <td>None</td>\n",
       "      <td>None</td>\n",
       "      <td>None</td>\n",
       "      <td>None</td>\n",
       "    </tr>\n",
       "  </tbody>\n",
       "</table>\n",
       "</div>"
      ],
      "text/plain": [
       "                tweet_id  in_reply_to_status_id  in_reply_to_user_id  \\\n",
       "563   802572683846291456                    NaN                  NaN   \n",
       "1090  737678689543020544                    NaN                  NaN   \n",
       "1610  685532292383666176                    NaN                  NaN   \n",
       "916   756998049151549440                    NaN                  NaN   \n",
       "1366  702671118226825216                    NaN                  NaN   \n",
       "1969  673317986296586240                    NaN                  NaN   \n",
       "1866  675349384339542016           6.749998e+17         4.196984e+09   \n",
       "2134  670069087419133954                    NaN                  NaN   \n",
       "1962  673355879178194945                    NaN                  NaN   \n",
       "1540  689659372465688576                    NaN                  NaN   \n",
       "\n",
       "                      timestamp  \\\n",
       "563   2016-11-26 18:00:13 +0000   \n",
       "1090  2016-05-31 16:14:39 +0000   \n",
       "1610  2016-01-08 18:43:29 +0000   \n",
       "916   2016-07-23 23:42:53 +0000   \n",
       "1366  2016-02-25 01:47:04 +0000   \n",
       "1969  2015-12-06 01:48:12 +0000   \n",
       "1866  2015-12-11 16:20:15 +0000   \n",
       "2134  2015-11-27 02:38:14 +0000   \n",
       "1962  2015-12-06 04:18:46 +0000   \n",
       "1540  2016-01-20 04:03:02 +0000   \n",
       "\n",
       "                                                 source  \\\n",
       "563   <a href=\"http://twitter.com/download/iphone\" r...   \n",
       "1090  <a href=\"http://twitter.com/download/iphone\" r...   \n",
       "1610  <a href=\"http://twitter.com/download/iphone\" r...   \n",
       "916   <a href=\"http://twitter.com/download/iphone\" r...   \n",
       "1366  <a href=\"http://twitter.com/download/iphone\" r...   \n",
       "1969  <a href=\"http://twitter.com/download/iphone\" r...   \n",
       "1866  <a href=\"http://twitter.com/download/iphone\" r...   \n",
       "2134  <a href=\"http://twitter.com/download/iphone\" r...   \n",
       "1962  <a href=\"http://twitter.com/download/iphone\" r...   \n",
       "1540  <a href=\"http://twitter.com/download/iphone\" r...   \n",
       "\n",
       "                                                   text  retweeted_status_id  \\\n",
       "563   This is Winnie. She's h*ckin ferocious. Dandel...                  NaN   \n",
       "1090  We only rate dogs. Pls stop sending in non-can...                  NaN   \n",
       "1610  For the last time, WE. DO. NOT. RATE. BULBASAU...                  NaN   \n",
       "916   This is Oliver. He's an English Creamschnitzel...                  NaN   \n",
       "1366  Meet Rambo &amp; Kiwi. Rambo's the pup with th...                  NaN   \n",
       "1969  Take a moment and appreciate how these two dog...                  NaN   \n",
       "1866  Yea I lied. Here's more. All 13/10 https://t.c...                  NaN   \n",
       "2134  This is Randall. He's from Chernobyl. Built pl...                  NaN   \n",
       "1962  This is Koda. She's a boss. Helps shift gears....                  NaN   \n",
       "1540  This is Ricky. He's being escorted out of the ...                  NaN   \n",
       "\n",
       "      retweeted_status_user_id retweeted_status_timestamp  \\\n",
       "563                        NaN                        NaN   \n",
       "1090                       NaN                        NaN   \n",
       "1610                       NaN                        NaN   \n",
       "916                        NaN                        NaN   \n",
       "1366                       NaN                        NaN   \n",
       "1969                       NaN                        NaN   \n",
       "1866                       NaN                        NaN   \n",
       "2134                       NaN                        NaN   \n",
       "1962                       NaN                        NaN   \n",
       "1540                       NaN                        NaN   \n",
       "\n",
       "                                          expanded_urls  rating_numerator  \\\n",
       "563   https://twitter.com/dog_rates/status/802572683...                12   \n",
       "1090  https://twitter.com/dog_rates/status/737678689...                11   \n",
       "1610  https://twitter.com/dog_rates/status/685532292...                 9   \n",
       "916   https://twitter.com/dog_rates/status/756998049...                11   \n",
       "1366  https://twitter.com/dog_rates/status/702671118...                10   \n",
       "1969  https://twitter.com/dog_rates/status/673317986...                10   \n",
       "1866  https://twitter.com/dog_rates/status/675349384...                13   \n",
       "2134  https://twitter.com/dog_rates/status/670069087...                 5   \n",
       "1962  https://twitter.com/dog_rates/status/673355879...                11   \n",
       "1540  https://twitter.com/dog_rates/status/689659372...                 8   \n",
       "\n",
       "      rating_denominator     name doggo floofer pupper puppo  \n",
       "563                   10   Winnie  None    None   None  None  \n",
       "1090                  10     None  None    None   None  None  \n",
       "1610                  10     None  None    None   None  None  \n",
       "916                   10   Oliver  None    None   None  None  \n",
       "1366                  10    Rambo  None    None   None  None  \n",
       "1969                  10     None  None    None   None  None  \n",
       "1866                  10     None  None    None   None  None  \n",
       "2134                  10  Randall  None    None   None  None  \n",
       "1962                  10     Koda  None    None   None  None  \n",
       "1540                  10    Ricky  None    None   None  None  "
      ]
     },
     "execution_count": 346,
     "metadata": {},
     "output_type": "execute_result"
    }
   ],
   "source": [
    "df_original_tweets.sample(10)"
   ]
  },
  {
   "cell_type": "code",
   "execution_count": 347,
   "metadata": {},
   "outputs": [
    {
     "name": "stdout",
     "output_type": "stream",
     "text": [
      "<class 'pandas.core.frame.DataFrame'>\n",
      "Int64Index: 2175 entries, 0 to 2355\n",
      "Data columns (total 17 columns):\n",
      " #   Column                      Non-Null Count  Dtype  \n",
      "---  ------                      --------------  -----  \n",
      " 0   tweet_id                    2175 non-null   int64  \n",
      " 1   in_reply_to_status_id       78 non-null     float64\n",
      " 2   in_reply_to_user_id         78 non-null     float64\n",
      " 3   timestamp                   2175 non-null   object \n",
      " 4   source                      2175 non-null   object \n",
      " 5   text                        2175 non-null   object \n",
      " 6   retweeted_status_id         0 non-null      float64\n",
      " 7   retweeted_status_user_id    0 non-null      float64\n",
      " 8   retweeted_status_timestamp  0 non-null      object \n",
      " 9   expanded_urls               2117 non-null   object \n",
      " 10  rating_numerator            2175 non-null   int64  \n",
      " 11  rating_denominator          2175 non-null   int64  \n",
      " 12  name                        2175 non-null   object \n",
      " 13  doggo                       2175 non-null   object \n",
      " 14  floofer                     2175 non-null   object \n",
      " 15  pupper                      2175 non-null   object \n",
      " 16  puppo                       2175 non-null   object \n",
      "dtypes: float64(4), int64(3), object(10)\n",
      "memory usage: 385.9+ KB\n"
     ]
    }
   ],
   "source": [
    "df_original_tweets.info()"
   ]
  },
  {
   "cell_type": "code",
   "execution_count": 348,
   "metadata": {},
   "outputs": [
    {
     "data": {
      "text/plain": [
       "None        680\n",
       "a            55\n",
       "Lucy         11\n",
       "Charlie      11\n",
       "Cooper       10\n",
       "           ... \n",
       "Stu           1\n",
       "Glacier       1\n",
       "Pablo         1\n",
       "Josep         1\n",
       "Godzilla      1\n",
       "Name: name, Length: 956, dtype: int64"
      ]
     },
     "execution_count": 348,
     "metadata": {},
     "output_type": "execute_result"
    }
   ],
   "source": [
    "df_original_tweets.name.value_counts()"
   ]
  },
  {
   "cell_type": "code",
   "execution_count": null,
   "metadata": {},
   "outputs": [],
   "source": []
  },
  {
   "cell_type": "markdown",
   "metadata": {},
   "source": [
    "<a id='reportoriginalcsv'></a>\n",
    "### 2.2 Report - original file\n",
    "1. tweet_id datatype sets as integer. Field is not used to perform any calculations hence could be cast as string(object)\n",
    "2. in_reply_to_status_id datatype sets as float. Field is not used to perform any calculations hence could be cast as string(object)\n",
    "3. in_reply_to_user_id datatype sets as float. Field is not used to perform any calculations hence could be cast as string(object)\n",
    "4. doggo,floofer,pupper and puppo columns actually represents the same thing: the dog_growth_stage. We could move these columns into one single column.\n",
    "5. column 'name' returns values for what are probably not dogs (ie.55 dogs named 'a')\n",
    "6. rating numerator and denominator should be saved as float since ratings with decimal can be expected"
   ]
  },
  {
   "cell_type": "markdown",
   "metadata": {},
   "source": [
    "<a id='assessimgpreds'></a>\n",
    "### 2.3 Assess image prediction file ('image-predictions.tsv')"
   ]
  },
  {
   "cell_type": "code",
   "execution_count": 349,
   "metadata": {},
   "outputs": [
    {
     "name": "stdout",
     "output_type": "stream",
     "text": [
      "<class 'pandas.core.frame.DataFrame'>\n",
      "RangeIndex: 2075 entries, 0 to 2074\n",
      "Data columns (total 12 columns):\n",
      " #   Column    Non-Null Count  Dtype  \n",
      "---  ------    --------------  -----  \n",
      " 0   tweet_id  2075 non-null   int64  \n",
      " 1   jpg_url   2075 non-null   object \n",
      " 2   img_num   2075 non-null   int64  \n",
      " 3   p1        2075 non-null   object \n",
      " 4   p1_conf   2075 non-null   float64\n",
      " 5   p1_dog    2075 non-null   bool   \n",
      " 6   p2        2075 non-null   object \n",
      " 7   p2_conf   2075 non-null   float64\n",
      " 8   p2_dog    2075 non-null   bool   \n",
      " 9   p3        2075 non-null   object \n",
      " 10  p3_conf   2075 non-null   float64\n",
      " 11  p3_dog    2075 non-null   bool   \n",
      "dtypes: bool(3), float64(3), int64(2), object(4)\n",
      "memory usage: 152.1+ KB\n"
     ]
    }
   ],
   "source": [
    "df_img_preds.info()"
   ]
  },
  {
   "cell_type": "code",
   "execution_count": 350,
   "metadata": {},
   "outputs": [
    {
     "data": {
      "text/html": [
       "<div>\n",
       "<style scoped>\n",
       "    .dataframe tbody tr th:only-of-type {\n",
       "        vertical-align: middle;\n",
       "    }\n",
       "\n",
       "    .dataframe tbody tr th {\n",
       "        vertical-align: top;\n",
       "    }\n",
       "\n",
       "    .dataframe thead th {\n",
       "        text-align: right;\n",
       "    }\n",
       "</style>\n",
       "<table border=\"1\" class=\"dataframe\">\n",
       "  <thead>\n",
       "    <tr style=\"text-align: right;\">\n",
       "      <th></th>\n",
       "      <th>tweet_id</th>\n",
       "      <th>jpg_url</th>\n",
       "      <th>img_num</th>\n",
       "      <th>p1</th>\n",
       "      <th>p1_conf</th>\n",
       "      <th>p1_dog</th>\n",
       "      <th>p2</th>\n",
       "      <th>p2_conf</th>\n",
       "      <th>p2_dog</th>\n",
       "      <th>p3</th>\n",
       "      <th>p3_conf</th>\n",
       "      <th>p3_dog</th>\n",
       "    </tr>\n",
       "  </thead>\n",
       "  <tbody>\n",
       "    <tr>\n",
       "      <th>1970</th>\n",
       "      <td>868880397819494401</td>\n",
       "      <td>https://pbs.twimg.com/media/DA7iHL5U0AA1OQo.jpg</td>\n",
       "      <td>1</td>\n",
       "      <td>laptop</td>\n",
       "      <td>0.153718</td>\n",
       "      <td>False</td>\n",
       "      <td>French_bulldog</td>\n",
       "      <td>0.099984</td>\n",
       "      <td>True</td>\n",
       "      <td>printer</td>\n",
       "      <td>0.077130</td>\n",
       "      <td>False</td>\n",
       "    </tr>\n",
       "    <tr>\n",
       "      <th>1992</th>\n",
       "      <td>873697596434513921</td>\n",
       "      <td>https://pbs.twimg.com/media/DA7iHL5U0AA1OQo.jpg</td>\n",
       "      <td>1</td>\n",
       "      <td>laptop</td>\n",
       "      <td>0.153718</td>\n",
       "      <td>False</td>\n",
       "      <td>French_bulldog</td>\n",
       "      <td>0.099984</td>\n",
       "      <td>True</td>\n",
       "      <td>printer</td>\n",
       "      <td>0.077130</td>\n",
       "      <td>False</td>\n",
       "    </tr>\n",
       "    <tr>\n",
       "      <th>2041</th>\n",
       "      <td>885311592912609280</td>\n",
       "      <td>https://pbs.twimg.com/media/C4bTH6nWMAAX_bJ.jpg</td>\n",
       "      <td>1</td>\n",
       "      <td>Labrador_retriever</td>\n",
       "      <td>0.908703</td>\n",
       "      <td>True</td>\n",
       "      <td>seat_belt</td>\n",
       "      <td>0.057091</td>\n",
       "      <td>False</td>\n",
       "      <td>pug</td>\n",
       "      <td>0.011933</td>\n",
       "      <td>True</td>\n",
       "    </tr>\n",
       "    <tr>\n",
       "      <th>2051</th>\n",
       "      <td>887473957103951883</td>\n",
       "      <td>https://pbs.twimg.com/media/DFDw2tyUQAAAFke.jpg</td>\n",
       "      <td>2</td>\n",
       "      <td>Pembroke</td>\n",
       "      <td>0.809197</td>\n",
       "      <td>True</td>\n",
       "      <td>Rhodesian_ridgeback</td>\n",
       "      <td>0.054950</td>\n",
       "      <td>True</td>\n",
       "      <td>beagle</td>\n",
       "      <td>0.038915</td>\n",
       "      <td>True</td>\n",
       "    </tr>\n",
       "    <tr>\n",
       "      <th>2055</th>\n",
       "      <td>888202515573088257</td>\n",
       "      <td>https://pbs.twimg.com/media/DFDw2tyUQAAAFke.jpg</td>\n",
       "      <td>2</td>\n",
       "      <td>Pembroke</td>\n",
       "      <td>0.809197</td>\n",
       "      <td>True</td>\n",
       "      <td>Rhodesian_ridgeback</td>\n",
       "      <td>0.054950</td>\n",
       "      <td>True</td>\n",
       "      <td>beagle</td>\n",
       "      <td>0.038915</td>\n",
       "      <td>True</td>\n",
       "    </tr>\n",
       "  </tbody>\n",
       "</table>\n",
       "</div>"
      ],
      "text/plain": [
       "                tweet_id                                          jpg_url  \\\n",
       "1970  868880397819494401  https://pbs.twimg.com/media/DA7iHL5U0AA1OQo.jpg   \n",
       "1992  873697596434513921  https://pbs.twimg.com/media/DA7iHL5U0AA1OQo.jpg   \n",
       "2041  885311592912609280  https://pbs.twimg.com/media/C4bTH6nWMAAX_bJ.jpg   \n",
       "2051  887473957103951883  https://pbs.twimg.com/media/DFDw2tyUQAAAFke.jpg   \n",
       "2055  888202515573088257  https://pbs.twimg.com/media/DFDw2tyUQAAAFke.jpg   \n",
       "\n",
       "      img_num                  p1   p1_conf  p1_dog                   p2  \\\n",
       "1970        1              laptop  0.153718   False       French_bulldog   \n",
       "1992        1              laptop  0.153718   False       French_bulldog   \n",
       "2041        1  Labrador_retriever  0.908703    True            seat_belt   \n",
       "2051        2            Pembroke  0.809197    True  Rhodesian_ridgeback   \n",
       "2055        2            Pembroke  0.809197    True  Rhodesian_ridgeback   \n",
       "\n",
       "       p2_conf  p2_dog       p3   p3_conf  p3_dog  \n",
       "1970  0.099984    True  printer  0.077130   False  \n",
       "1992  0.099984    True  printer  0.077130   False  \n",
       "2041  0.057091   False      pug  0.011933    True  \n",
       "2051  0.054950    True   beagle  0.038915    True  \n",
       "2055  0.054950    True   beagle  0.038915    True  "
      ]
     },
     "execution_count": 350,
     "metadata": {},
     "output_type": "execute_result"
    }
   ],
   "source": [
    "df_img_preds[df_img_preds.duplicated(['jpg_url'], keep=False)].tail()"
   ]
  },
  {
   "cell_type": "markdown",
   "metadata": {},
   "source": [
    "<a id='reportimgpreds'></a>\n",
    "### 2.4 Report - image predictions file assesment\n",
    "1. tweet_id not named the same as in df_api. keep 'tweet_id' as it's clearer. Change made in file retrived via api\n",
    "2. p1,p2,p3 column mixes low and upper case values\n",
    "3. p1 and p2 return inaccurate predictions (paper towel,orange,etc..)\n",
    "4. rename pn, pn_conf and pn_dog for clarity\n",
    "5. algo1,algo2 and algo3 actually represents the same thing: model predictions. Therefore, we could store it as one variable with 3 labels (algo1,algo2,algo3)\n",
    "6. jpg_url returns duplicates for distint tweet_id - need to get clean data from from df_api "
   ]
  },
  {
   "cell_type": "markdown",
   "metadata": {},
   "source": [
    "<a id='assessjson'></a>\n",
    "### 2.5 Assess json data in dataframe"
   ]
  },
  {
   "cell_type": "code",
   "execution_count": 351,
   "metadata": {},
   "outputs": [
    {
     "data": {
      "text/plain": [
       "0       <a href=\"http://twitter.com/download/iphone\" r...\n",
       "1       <a href=\"http://twitter.com/download/iphone\" r...\n",
       "2       <a href=\"http://twitter.com/download/iphone\" r...\n",
       "3       <a href=\"http://twitter.com/download/iphone\" r...\n",
       "4       <a href=\"http://twitter.com/download/iphone\" r...\n",
       "                              ...                        \n",
       "2163    <a href=\"http://twitter.com/download/iphone\" r...\n",
       "2164    <a href=\"http://twitter.com/download/iphone\" r...\n",
       "2165    <a href=\"http://twitter.com/download/iphone\" r...\n",
       "2166    <a href=\"http://twitter.com/download/iphone\" r...\n",
       "2167    <a href=\"http://twitter.com/download/iphone\" r...\n",
       "Name: source, Length: 2168, dtype: object"
      ]
     },
     "execution_count": 351,
     "metadata": {},
     "output_type": "execute_result"
    }
   ],
   "source": [
    "df_tweet_api.source"
   ]
  },
  {
   "cell_type": "code",
   "execution_count": 352,
   "metadata": {},
   "outputs": [
    {
     "data": {
      "text/html": [
       "<div>\n",
       "<style scoped>\n",
       "    .dataframe tbody tr th:only-of-type {\n",
       "        vertical-align: middle;\n",
       "    }\n",
       "\n",
       "    .dataframe tbody tr th {\n",
       "        vertical-align: top;\n",
       "    }\n",
       "\n",
       "    .dataframe thead th {\n",
       "        text-align: right;\n",
       "    }\n",
       "</style>\n",
       "<table border=\"1\" class=\"dataframe\">\n",
       "  <thead>\n",
       "    <tr style=\"text-align: right;\">\n",
       "      <th></th>\n",
       "      <th>created_at</th>\n",
       "      <th>id</th>\n",
       "      <th>id_str</th>\n",
       "      <th>full_text</th>\n",
       "      <th>source</th>\n",
       "      <th>user</th>\n",
       "      <th>retweet_count</th>\n",
       "      <th>favorite_count</th>\n",
       "      <th>favorited</th>\n",
       "      <th>retweeted</th>\n",
       "    </tr>\n",
       "  </thead>\n",
       "  <tbody>\n",
       "    <tr>\n",
       "      <th>0</th>\n",
       "      <td>Tue Aug 01 16:23:56 +0000 2017</td>\n",
       "      <td>892420643555336193</td>\n",
       "      <td>892420643555336193</td>\n",
       "      <td>This is Phineas. He's a mystical boy. Only eve...</td>\n",
       "      <td>&lt;a href=\"http://twitter.com/download/iphone\" r...</td>\n",
       "      <td>{'id': 4196983835, 'id_str': '4196983835', 'na...</td>\n",
       "      <td>7413</td>\n",
       "      <td>35155</td>\n",
       "      <td>False</td>\n",
       "      <td>False</td>\n",
       "    </tr>\n",
       "    <tr>\n",
       "      <th>1</th>\n",
       "      <td>Tue Aug 01 00:17:27 +0000 2017</td>\n",
       "      <td>892177421306343426</td>\n",
       "      <td>892177421306343426</td>\n",
       "      <td>This is Tilly. She's just checking pup on you....</td>\n",
       "      <td>&lt;a href=\"http://twitter.com/download/iphone\" r...</td>\n",
       "      <td>{'id': 4196983835, 'id_str': '4196983835', 'na...</td>\n",
       "      <td>5515</td>\n",
       "      <td>30413</td>\n",
       "      <td>False</td>\n",
       "      <td>False</td>\n",
       "    </tr>\n",
       "    <tr>\n",
       "      <th>2</th>\n",
       "      <td>Mon Jul 31 00:18:03 +0000 2017</td>\n",
       "      <td>891815181378084864</td>\n",
       "      <td>891815181378084864</td>\n",
       "      <td>This is Archie. He is a rare Norwegian Pouncin...</td>\n",
       "      <td>&lt;a href=\"http://twitter.com/download/iphone\" r...</td>\n",
       "      <td>{'id': 4196983835, 'id_str': '4196983835', 'na...</td>\n",
       "      <td>3640</td>\n",
       "      <td>22863</td>\n",
       "      <td>False</td>\n",
       "      <td>False</td>\n",
       "    </tr>\n",
       "    <tr>\n",
       "      <th>3</th>\n",
       "      <td>Sun Jul 30 15:58:51 +0000 2017</td>\n",
       "      <td>891689557279858688</td>\n",
       "      <td>891689557279858688</td>\n",
       "      <td>This is Darla. She commenced a snooze mid meal...</td>\n",
       "      <td>&lt;a href=\"http://twitter.com/download/iphone\" r...</td>\n",
       "      <td>{'id': 4196983835, 'id_str': '4196983835', 'na...</td>\n",
       "      <td>7590</td>\n",
       "      <td>38424</td>\n",
       "      <td>False</td>\n",
       "      <td>False</td>\n",
       "    </tr>\n",
       "    <tr>\n",
       "      <th>4</th>\n",
       "      <td>Sat Jul 29 16:00:24 +0000 2017</td>\n",
       "      <td>891327558926688256</td>\n",
       "      <td>891327558926688256</td>\n",
       "      <td>This is Franklin. He would like you to stop ca...</td>\n",
       "      <td>&lt;a href=\"http://twitter.com/download/iphone\" r...</td>\n",
       "      <td>{'id': 4196983835, 'id_str': '4196983835', 'na...</td>\n",
       "      <td>8161</td>\n",
       "      <td>36679</td>\n",
       "      <td>False</td>\n",
       "      <td>False</td>\n",
       "    </tr>\n",
       "  </tbody>\n",
       "</table>\n",
       "</div>"
      ],
      "text/plain": [
       "                       created_at                  id              id_str  \\\n",
       "0  Tue Aug 01 16:23:56 +0000 2017  892420643555336193  892420643555336193   \n",
       "1  Tue Aug 01 00:17:27 +0000 2017  892177421306343426  892177421306343426   \n",
       "2  Mon Jul 31 00:18:03 +0000 2017  891815181378084864  891815181378084864   \n",
       "3  Sun Jul 30 15:58:51 +0000 2017  891689557279858688  891689557279858688   \n",
       "4  Sat Jul 29 16:00:24 +0000 2017  891327558926688256  891327558926688256   \n",
       "\n",
       "                                           full_text  \\\n",
       "0  This is Phineas. He's a mystical boy. Only eve...   \n",
       "1  This is Tilly. She's just checking pup on you....   \n",
       "2  This is Archie. He is a rare Norwegian Pouncin...   \n",
       "3  This is Darla. She commenced a snooze mid meal...   \n",
       "4  This is Franklin. He would like you to stop ca...   \n",
       "\n",
       "                                              source  \\\n",
       "0  <a href=\"http://twitter.com/download/iphone\" r...   \n",
       "1  <a href=\"http://twitter.com/download/iphone\" r...   \n",
       "2  <a href=\"http://twitter.com/download/iphone\" r...   \n",
       "3  <a href=\"http://twitter.com/download/iphone\" r...   \n",
       "4  <a href=\"http://twitter.com/download/iphone\" r...   \n",
       "\n",
       "                                                user  retweet_count  \\\n",
       "0  {'id': 4196983835, 'id_str': '4196983835', 'na...           7413   \n",
       "1  {'id': 4196983835, 'id_str': '4196983835', 'na...           5515   \n",
       "2  {'id': 4196983835, 'id_str': '4196983835', 'na...           3640   \n",
       "3  {'id': 4196983835, 'id_str': '4196983835', 'na...           7590   \n",
       "4  {'id': 4196983835, 'id_str': '4196983835', 'na...           8161   \n",
       "\n",
       "   favorite_count  favorited  retweeted  \n",
       "0           35155      False      False  \n",
       "1           30413      False      False  \n",
       "2           22863      False      False  \n",
       "3           38424      False      False  \n",
       "4           36679      False      False  "
      ]
     },
     "execution_count": 352,
     "metadata": {},
     "output_type": "execute_result"
    }
   ],
   "source": [
    "df_tweet_api.head()"
   ]
  },
  {
   "cell_type": "code",
   "execution_count": 353,
   "metadata": {},
   "outputs": [
    {
     "name": "stdout",
     "output_type": "stream",
     "text": [
      "<class 'pandas.core.frame.DataFrame'>\n",
      "RangeIndex: 2168 entries, 0 to 2167\n",
      "Data columns (total 10 columns):\n",
      " #   Column          Non-Null Count  Dtype \n",
      "---  ------          --------------  ----- \n",
      " 0   created_at      2168 non-null   object\n",
      " 1   id              2168 non-null   int64 \n",
      " 2   id_str          2168 non-null   object\n",
      " 3   full_text       2168 non-null   object\n",
      " 4   source          2168 non-null   object\n",
      " 5   user            2168 non-null   object\n",
      " 6   retweet_count   2168 non-null   int64 \n",
      " 7   favorite_count  2168 non-null   int64 \n",
      " 8   favorited       2168 non-null   bool  \n",
      " 9   retweeted       2168 non-null   bool  \n",
      "dtypes: bool(2), int64(3), object(5)\n",
      "memory usage: 139.9+ KB\n"
     ]
    }
   ],
   "source": [
    "df_tweet_api.info()"
   ]
  },
  {
   "cell_type": "markdown",
   "metadata": {},
   "source": [
    "<a id='reportjson'></a>\n",
    "### 2.6 Report - json assesment\n",
    "1. created_ad stored as timestamp - need to cast for analysis purpose\n",
    "2. id and id_str columns are duplicates\n",
    "3. rating does not seem accurate - get it from data fetched via api\n",
    "4. rename 'media url' column for consistency with image predictions file and make it clear it refers to image url\n",
    "5. rename 'favorited' to make it clear it's a boolean\n",
    "6. rename 'id' to make it cleat it refers to tweet_id"
   ]
  },
  {
   "cell_type": "markdown",
   "metadata": {},
   "source": [
    "<a id='finalreport'></a>\n",
    "### 2.7 Summary - assessment report"
   ]
  },
  {
   "cell_type": "markdown",
   "metadata": {},
   "source": [
    "\n",
    "> Data quality issues:\n",
    "\n",
    "> 1. In original file (df_original_tweets), **tweet_id** datatype sets as integer. Field is not used to perform any calculations hence could be cast as   string(object)\n",
    ">\n",
    "> 2. In original file (df_original_tweets),**in_reply_to_status_id** datatype sets as float. Field is not used to perform any calculations hence could be cast as string(object)\n",
    ">\n",
    "> 3. In original file (df_original_tweets),**in_reply_to_user_id** datatype sets as float. Field is not used to perform any calculations hence could be cast as string(object)\n",
    ">\n",
    "> 4. In original file (df_original_tweets), **name**  returns values for what are probably not dogs (ie.55 dogs named 'a')\n",
    "> 5. In original file (df_original_tweets),Inacurrate 'ratings' in original file provided\n",
    "> 6. In original file (df_original_tweets), **rating numerator** and **rating denominator** should ideally be stored as float,since one can expect user ratings with decimals.\n",
    "\n",
    "> 6. In image prediction file (df_img_preds), **tweet_id** not named the same as in df_api. keep 'tweet_id' as it's clearer. Change made in file retrived via api\n",
    "> 7. In image prediction file (df_img_preds), **p1,p2,p3** columns mixes low and upper case values\n",
    "> 8. In image prediction file (df_img_preds), **p1 and p2** return inaccurate predictions (paper towel,orange,etc..)\n",
    "> 9. In image prediction file (df_img_preds), **jpg_url** returns duplicates for distinct tweet_id - need to get clean data from from df_api\n",
    "> 10. In image prediction file (df_img_preds), **jpg_url** returns duplicates for distinct tweet_id - need to get clean data from from df_api\n",
    "> 11. In image prediction file (df_img_preds), **tweet_id** is set as integer. change datatype to string to make it consistent with other data sources.\n",
    "\n",
    "> 12. In json file (df_tweet_api), **created_at** is stored as timestamp - need to cast it to datetime for analysis purpose\n",
    "> 13. In json file (df_tweet_api), **id and id_str** columns are duplicates\n",
    "\n",
    "\n",
    "\n",
    "> Tidiness issue:\n",
    "\n",
    "> 1.In original file (df_original_tweets), **doggo,floofer,pupper and puppo** columns actually represents the same thing: the dog_growth_stage. We could move these columns into one single column.\n",
    "\n",
    "\n",
    "> 2.In image prediction file (df_img_preds) **algo1,algo2 and algo3** actually represents the same thing: model predictions. Therefore, we could store it as one variable (algorithm) with 3 labels (algo1,algo2,algo3).\n",
    "\n",
    "> 3.In image prediction file (df_img_preds) **p1,p2 and p3** actually represents the same thing: if prediction made is a dog or not. Therefore, we could store it as one variable (preds_is_dog) returning expected boolean.\n"
   ]
  },
  {
   "cell_type": "markdown",
   "metadata": {},
   "source": [
    "<a id='clean'></a>\n",
    "# 3. Cleaning"
   ]
  },
  {
   "cell_type": "markdown",
   "metadata": {},
   "source": [
    "<a id='cleanoriginal'></a>\n",
    "### 3.1 Cleaning tasks - original tweet file"
   ]
  },
  {
   "cell_type": "code",
   "execution_count": 743,
   "metadata": {
    "scrolled": true
   },
   "outputs": [
    {
     "data": {
      "text/html": [
       "<div>\n",
       "<style scoped>\n",
       "    .dataframe tbody tr th:only-of-type {\n",
       "        vertical-align: middle;\n",
       "    }\n",
       "\n",
       "    .dataframe tbody tr th {\n",
       "        vertical-align: top;\n",
       "    }\n",
       "\n",
       "    .dataframe thead th {\n",
       "        text-align: right;\n",
       "    }\n",
       "</style>\n",
       "<table border=\"1\" class=\"dataframe\">\n",
       "  <thead>\n",
       "    <tr style=\"text-align: right;\">\n",
       "      <th></th>\n",
       "      <th>tweet_id</th>\n",
       "      <th>in_reply_to_status_id</th>\n",
       "      <th>in_reply_to_user_id</th>\n",
       "      <th>timestamp</th>\n",
       "      <th>source</th>\n",
       "      <th>text</th>\n",
       "      <th>retweeted_status_id</th>\n",
       "      <th>retweeted_status_user_id</th>\n",
       "      <th>retweeted_status_timestamp</th>\n",
       "      <th>expanded_urls</th>\n",
       "      <th>rating_numerator</th>\n",
       "      <th>rating_denominator</th>\n",
       "      <th>name</th>\n",
       "      <th>doggo</th>\n",
       "      <th>floofer</th>\n",
       "      <th>pupper</th>\n",
       "      <th>puppo</th>\n",
       "    </tr>\n",
       "  </thead>\n",
       "  <tbody>\n",
       "    <tr>\n",
       "      <th>2284</th>\n",
       "      <td>667192066997374976</td>\n",
       "      <td>NaN</td>\n",
       "      <td>NaN</td>\n",
       "      <td>2015-11-19 04:05:59 +0000</td>\n",
       "      <td>&lt;a href=\"http://twitter.com/download/iphone\" r...</td>\n",
       "      <td>*takes several long deep breaths* omg omg oMG ...</td>\n",
       "      <td>NaN</td>\n",
       "      <td>NaN</td>\n",
       "      <td>NaN</td>\n",
       "      <td>https://twitter.com/dog_rates/status/667192066...</td>\n",
       "      <td>12</td>\n",
       "      <td>10</td>\n",
       "      <td>None</td>\n",
       "      <td>None</td>\n",
       "      <td>None</td>\n",
       "      <td>None</td>\n",
       "      <td>None</td>\n",
       "    </tr>\n",
       "    <tr>\n",
       "      <th>685</th>\n",
       "      <td>788150585577050112</td>\n",
       "      <td>NaN</td>\n",
       "      <td>NaN</td>\n",
       "      <td>2016-10-17 22:51:57 +0000</td>\n",
       "      <td>&lt;a href=\"http://twitter.com/download/iphone\" r...</td>\n",
       "      <td>This is Leo. He's a golden chow. Rather h*ckin...</td>\n",
       "      <td>NaN</td>\n",
       "      <td>NaN</td>\n",
       "      <td>NaN</td>\n",
       "      <td>https://twitter.com/dog_rates/status/788150585...</td>\n",
       "      <td>13</td>\n",
       "      <td>10</td>\n",
       "      <td>Leo</td>\n",
       "      <td>None</td>\n",
       "      <td>None</td>\n",
       "      <td>None</td>\n",
       "      <td>None</td>\n",
       "    </tr>\n",
       "    <tr>\n",
       "      <th>365</th>\n",
       "      <td>829011960981237760</td>\n",
       "      <td>NaN</td>\n",
       "      <td>NaN</td>\n",
       "      <td>2017-02-07 17:00:28 +0000</td>\n",
       "      <td>&lt;a href=\"http://twitter.com/download/iphone\" r...</td>\n",
       "      <td>This is Dexter. He was reunited with his mom y...</td>\n",
       "      <td>NaN</td>\n",
       "      <td>NaN</td>\n",
       "      <td>NaN</td>\n",
       "      <td>https://twitter.com/dog_rates/status/829011960...</td>\n",
       "      <td>13</td>\n",
       "      <td>10</td>\n",
       "      <td>Dexter</td>\n",
       "      <td>None</td>\n",
       "      <td>None</td>\n",
       "      <td>None</td>\n",
       "      <td>None</td>\n",
       "    </tr>\n",
       "    <tr>\n",
       "      <th>2292</th>\n",
       "      <td>667160273090932737</td>\n",
       "      <td>NaN</td>\n",
       "      <td>NaN</td>\n",
       "      <td>2015-11-19 01:59:39 +0000</td>\n",
       "      <td>&lt;a href=\"http://twitter.com/download/iphone\" r...</td>\n",
       "      <td>This is Bradlay. He is a Ronaldinho Matsuyama ...</td>\n",
       "      <td>NaN</td>\n",
       "      <td>NaN</td>\n",
       "      <td>NaN</td>\n",
       "      <td>https://twitter.com/dog_rates/status/667160273...</td>\n",
       "      <td>11</td>\n",
       "      <td>10</td>\n",
       "      <td>Bradlay</td>\n",
       "      <td>None</td>\n",
       "      <td>None</td>\n",
       "      <td>None</td>\n",
       "      <td>None</td>\n",
       "    </tr>\n",
       "    <tr>\n",
       "      <th>457</th>\n",
       "      <td>818145370475810820</td>\n",
       "      <td>NaN</td>\n",
       "      <td>NaN</td>\n",
       "      <td>2017-01-08 17:20:31 +0000</td>\n",
       "      <td>&lt;a href=\"http://twitter.com/download/iphone\" r...</td>\n",
       "      <td>This is Autumn. Her favorite toy is a cheesebu...</td>\n",
       "      <td>NaN</td>\n",
       "      <td>NaN</td>\n",
       "      <td>NaN</td>\n",
       "      <td>https://twitter.com/dog_rates/status/818145370...</td>\n",
       "      <td>11</td>\n",
       "      <td>10</td>\n",
       "      <td>Autumn</td>\n",
       "      <td>None</td>\n",
       "      <td>None</td>\n",
       "      <td>None</td>\n",
       "      <td>None</td>\n",
       "    </tr>\n",
       "  </tbody>\n",
       "</table>\n",
       "</div>"
      ],
      "text/plain": [
       "                tweet_id  in_reply_to_status_id  in_reply_to_user_id  \\\n",
       "2284  667192066997374976                    NaN                  NaN   \n",
       "685   788150585577050112                    NaN                  NaN   \n",
       "365   829011960981237760                    NaN                  NaN   \n",
       "2292  667160273090932737                    NaN                  NaN   \n",
       "457   818145370475810820                    NaN                  NaN   \n",
       "\n",
       "                      timestamp  \\\n",
       "2284  2015-11-19 04:05:59 +0000   \n",
       "685   2016-10-17 22:51:57 +0000   \n",
       "365   2017-02-07 17:00:28 +0000   \n",
       "2292  2015-11-19 01:59:39 +0000   \n",
       "457   2017-01-08 17:20:31 +0000   \n",
       "\n",
       "                                                 source  \\\n",
       "2284  <a href=\"http://twitter.com/download/iphone\" r...   \n",
       "685   <a href=\"http://twitter.com/download/iphone\" r...   \n",
       "365   <a href=\"http://twitter.com/download/iphone\" r...   \n",
       "2292  <a href=\"http://twitter.com/download/iphone\" r...   \n",
       "457   <a href=\"http://twitter.com/download/iphone\" r...   \n",
       "\n",
       "                                                   text  retweeted_status_id  \\\n",
       "2284  *takes several long deep breaths* omg omg oMG ...                  NaN   \n",
       "685   This is Leo. He's a golden chow. Rather h*ckin...                  NaN   \n",
       "365   This is Dexter. He was reunited with his mom y...                  NaN   \n",
       "2292  This is Bradlay. He is a Ronaldinho Matsuyama ...                  NaN   \n",
       "457   This is Autumn. Her favorite toy is a cheesebu...                  NaN   \n",
       "\n",
       "      retweeted_status_user_id retweeted_status_timestamp  \\\n",
       "2284                       NaN                        NaN   \n",
       "685                        NaN                        NaN   \n",
       "365                        NaN                        NaN   \n",
       "2292                       NaN                        NaN   \n",
       "457                        NaN                        NaN   \n",
       "\n",
       "                                          expanded_urls  rating_numerator  \\\n",
       "2284  https://twitter.com/dog_rates/status/667192066...                12   \n",
       "685   https://twitter.com/dog_rates/status/788150585...                13   \n",
       "365   https://twitter.com/dog_rates/status/829011960...                13   \n",
       "2292  https://twitter.com/dog_rates/status/667160273...                11   \n",
       "457   https://twitter.com/dog_rates/status/818145370...                11   \n",
       "\n",
       "      rating_denominator     name doggo floofer pupper puppo  \n",
       "2284                  10     None  None    None   None  None  \n",
       "685                   10      Leo  None    None   None  None  \n",
       "365                   10   Dexter  None    None   None  None  \n",
       "2292                  10  Bradlay  None    None   None  None  \n",
       "457                   10   Autumn  None    None   None  None  "
      ]
     },
     "execution_count": 743,
     "metadata": {},
     "output_type": "execute_result"
    }
   ],
   "source": [
    "df_original_tweets.sample(5)"
   ]
  },
  {
   "cell_type": "markdown",
   "metadata": {},
   "source": [
    "**Tidiness issue #1: doggo,floofer,pupper and puppo columns actually represents the same thing: the dog_growth_stage**"
   ]
  },
  {
   "cell_type": "markdown",
   "metadata": {},
   "source": [
    "#### Define"
   ]
  },
  {
   "cell_type": "markdown",
   "metadata": {},
   "source": [
    "merge the 3 columns into 1 populated with dog growth stage label"
   ]
  },
  {
   "cell_type": "markdown",
   "metadata": {},
   "source": [
    "#### Code"
   ]
  },
  {
   "cell_type": "code",
   "execution_count": 744,
   "metadata": {},
   "outputs": [
    {
     "data": {
      "text/plain": [
       "None       8344\n",
       "pupper      234\n",
       "doggo        87\n",
       "puppo        25\n",
       "floofer      10\n",
       "Name: dog_growth_stage, dtype: int64"
      ]
     },
     "execution_count": 744,
     "metadata": {},
     "output_type": "execute_result"
    }
   ],
   "source": [
    "# Create 1 new col/variable named 'dog_growth_stage' that will return values for p1_dog,p2_dog and p3_dog\n",
    "df_melt_dog_stage = pd.melt(df_original_tweets, id_vars=['tweet_id'],\n",
    "                     value_vars=['doggo','floofer','pupper','puppo'],value_name='dog_growth_stage')\n",
    "df_melt_dog_stage.dog_growth_stage.value_counts()"
   ]
  },
  {
   "cell_type": "code",
   "execution_count": 745,
   "metadata": {},
   "outputs": [
    {
     "data": {
      "text/html": [
       "<div>\n",
       "<style scoped>\n",
       "    .dataframe tbody tr th:only-of-type {\n",
       "        vertical-align: middle;\n",
       "    }\n",
       "\n",
       "    .dataframe tbody tr th {\n",
       "        vertical-align: top;\n",
       "    }\n",
       "\n",
       "    .dataframe thead th {\n",
       "        text-align: right;\n",
       "    }\n",
       "</style>\n",
       "<table border=\"1\" class=\"dataframe\">\n",
       "  <thead>\n",
       "    <tr style=\"text-align: right;\">\n",
       "      <th></th>\n",
       "      <th>tweet_id</th>\n",
       "      <th>variable</th>\n",
       "      <th>dog_growth_stage</th>\n",
       "    </tr>\n",
       "  </thead>\n",
       "  <tbody>\n",
       "    <tr>\n",
       "      <th>0</th>\n",
       "      <td>892420643555336193</td>\n",
       "      <td>doggo</td>\n",
       "      <td>None</td>\n",
       "    </tr>\n",
       "    <tr>\n",
       "      <th>1</th>\n",
       "      <td>892177421306343426</td>\n",
       "      <td>doggo</td>\n",
       "      <td>None</td>\n",
       "    </tr>\n",
       "    <tr>\n",
       "      <th>2</th>\n",
       "      <td>891815181378084864</td>\n",
       "      <td>doggo</td>\n",
       "      <td>None</td>\n",
       "    </tr>\n",
       "    <tr>\n",
       "      <th>3</th>\n",
       "      <td>891689557279858688</td>\n",
       "      <td>doggo</td>\n",
       "      <td>None</td>\n",
       "    </tr>\n",
       "    <tr>\n",
       "      <th>4</th>\n",
       "      <td>891327558926688256</td>\n",
       "      <td>doggo</td>\n",
       "      <td>None</td>\n",
       "    </tr>\n",
       "  </tbody>\n",
       "</table>\n",
       "</div>"
      ],
      "text/plain": [
       "             tweet_id variable dog_growth_stage\n",
       "0  892420643555336193    doggo             None\n",
       "1  892177421306343426    doggo             None\n",
       "2  891815181378084864    doggo             None\n",
       "3  891689557279858688    doggo             None\n",
       "4  891327558926688256    doggo             None"
      ]
     },
     "execution_count": 745,
     "metadata": {},
     "output_type": "execute_result"
    }
   ],
   "source": [
    "df_melt_dog_stage.head()"
   ]
  },
  {
   "cell_type": "code",
   "execution_count": 746,
   "metadata": {},
   "outputs": [],
   "source": [
    "# Merge the 3 subsets into 1 single clean dataframe and remove unnecessary columns\n",
    "df_original_tweets_clean = df_original_tweets.copy()\n",
    "df_original_tweets_clean = pd.merge(df_original_tweets, df_melt_dog_stage , how='inner',on='tweet_id')\n",
    "\n",
    "df_original_tweets_clean = df_original_tweets_clean.drop(['doggo','floofer','pupper','puppo','variable'],axis=1)                                               \n"
   ]
  },
  {
   "cell_type": "markdown",
   "metadata": {},
   "source": [
    "#### Test"
   ]
  },
  {
   "cell_type": "code",
   "execution_count": 747,
   "metadata": {
    "scrolled": true
   },
   "outputs": [
    {
     "data": {
      "text/plain": [
       "None       8344\n",
       "pupper      234\n",
       "doggo        87\n",
       "puppo        25\n",
       "floofer      10\n",
       "Name: dog_growth_stage, dtype: int64"
      ]
     },
     "execution_count": 747,
     "metadata": {},
     "output_type": "execute_result"
    }
   ],
   "source": [
    "df_original_tweets_clean.dog_growth_stage.value_counts()"
   ]
  },
  {
   "cell_type": "markdown",
   "metadata": {},
   "source": [
    "**Data quality issues #1 #2 and #3: tweet_id, reply_to_status_id and reply_to_user_id datatype sets as integer**"
   ]
  },
  {
   "cell_type": "markdown",
   "metadata": {},
   "source": [
    "#### Define"
   ]
  },
  {
   "cell_type": "markdown",
   "metadata": {},
   "source": [
    "change datatype for these 3 variables. from integers to string (object)"
   ]
  },
  {
   "cell_type": "markdown",
   "metadata": {},
   "source": [
    "#### Code"
   ]
  },
  {
   "cell_type": "code",
   "execution_count": 748,
   "metadata": {},
   "outputs": [],
   "source": [
    "df_original_tweets_clean[['tweet_id','in_reply_to_status_id','in_reply_to_user_id']] = df_original_tweets_clean[['tweet_id','in_reply_to_user_id','in_reply_to_user_id']].astype(str)"
   ]
  },
  {
   "cell_type": "markdown",
   "metadata": {},
   "source": [
    "#### Test"
   ]
  },
  {
   "cell_type": "code",
   "execution_count": 749,
   "metadata": {
    "scrolled": true
   },
   "outputs": [
    {
     "name": "stdout",
     "output_type": "stream",
     "text": [
      "<class 'pandas.core.frame.DataFrame'>\n",
      "Int64Index: 8700 entries, 0 to 8699\n",
      "Data columns (total 14 columns):\n",
      " #   Column                      Non-Null Count  Dtype  \n",
      "---  ------                      --------------  -----  \n",
      " 0   tweet_id                    8700 non-null   object \n",
      " 1   in_reply_to_status_id       8700 non-null   object \n",
      " 2   in_reply_to_user_id         8700 non-null   object \n",
      " 3   timestamp                   8700 non-null   object \n",
      " 4   source                      8700 non-null   object \n",
      " 5   text                        8700 non-null   object \n",
      " 6   retweeted_status_id         0 non-null      float64\n",
      " 7   retweeted_status_user_id    0 non-null      float64\n",
      " 8   retweeted_status_timestamp  0 non-null      object \n",
      " 9   expanded_urls               8468 non-null   object \n",
      " 10  rating_numerator            8700 non-null   int64  \n",
      " 11  rating_denominator          8700 non-null   int64  \n",
      " 12  name                        8700 non-null   object \n",
      " 13  dog_growth_stage            8700 non-null   object \n",
      "dtypes: float64(2), int64(2), object(10)\n",
      "memory usage: 1019.5+ KB\n"
     ]
    }
   ],
   "source": [
    "df_original_tweets_clean.info()"
   ]
  },
  {
   "cell_type": "markdown",
   "metadata": {},
   "source": [
    "**Data quality issues #4: 'name' returning unclean values(not dog name)** "
   ]
  },
  {
   "cell_type": "markdown",
   "metadata": {},
   "source": [
    "#### Define"
   ]
  },
  {
   "cell_type": "markdown",
   "metadata": {},
   "source": [
    "all inconsistent dog 'name' seem to be in lowercase. let's simply remove all lower case entries for the name variable"
   ]
  },
  {
   "cell_type": "markdown",
   "metadata": {},
   "source": [
    "#### Code"
   ]
  },
  {
   "cell_type": "code",
   "execution_count": 750,
   "metadata": {},
   "outputs": [],
   "source": [
    "incorrect_dog_name = df_original_tweets_clean[df_original_tweets_clean.name.str.islower()].index"
   ]
  },
  {
   "cell_type": "code",
   "execution_count": 751,
   "metadata": {},
   "outputs": [],
   "source": [
    "df_original_tweets_clean.drop(incorrect_dog_name, inplace=True)"
   ]
  },
  {
   "cell_type": "markdown",
   "metadata": {},
   "source": [
    "#### Test"
   ]
  },
  {
   "cell_type": "code",
   "execution_count": 752,
   "metadata": {},
   "outputs": [
    {
     "data": {
      "text/plain": [
       "(8284, 14)"
      ]
     },
     "execution_count": 752,
     "metadata": {},
     "output_type": "execute_result"
    }
   ],
   "source": [
    "df_original_tweets_clean.shape"
   ]
  },
  {
   "cell_type": "markdown",
   "metadata": {},
   "source": [
    "**Data quality issue #5. Inacurrate 'ratings' in original file provided**"
   ]
  },
  {
   "cell_type": "markdown",
   "metadata": {},
   "source": [
    "#### Define"
   ]
  },
  {
   "cell_type": "markdown",
   "metadata": {},
   "source": [
    "Fetch rating numerator and denominator from 'full_text' data retrived via api"
   ]
  },
  {
   "cell_type": "markdown",
   "metadata": {},
   "source": [
    "#### Code"
   ]
  },
  {
   "cell_type": "code",
   "execution_count": 753,
   "metadata": {},
   "outputs": [],
   "source": [
    "df_rating_clean = df_tweet_api_clean.full_text.str.extract(r'((?:\\d+\\.)?\\d+)\\/(\\d+)',expand=True)\n",
    "df_tweet_api_clean['rating_numerator'] = df_rating_clean[0]\n",
    "df_tweet_api_clean['rating_denominator'] = df_rating_clean[1]"
   ]
  },
  {
   "cell_type": "markdown",
   "metadata": {},
   "source": [
    "#### Test"
   ]
  },
  {
   "cell_type": "code",
   "execution_count": 754,
   "metadata": {},
   "outputs": [
    {
     "data": {
      "text/html": [
       "<div>\n",
       "<style scoped>\n",
       "    .dataframe tbody tr th:only-of-type {\n",
       "        vertical-align: middle;\n",
       "    }\n",
       "\n",
       "    .dataframe tbody tr th {\n",
       "        vertical-align: top;\n",
       "    }\n",
       "\n",
       "    .dataframe thead th {\n",
       "        text-align: right;\n",
       "    }\n",
       "</style>\n",
       "<table border=\"1\" class=\"dataframe\">\n",
       "  <thead>\n",
       "    <tr style=\"text-align: right;\">\n",
       "      <th></th>\n",
       "      <th>tweet_id</th>\n",
       "      <th>full_text</th>\n",
       "      <th>favorites_cnt</th>\n",
       "      <th>retweets_cnt</th>\n",
       "      <th>source</th>\n",
       "      <th>img_url</th>\n",
       "      <th>creation_date</th>\n",
       "      <th>rating_numerator</th>\n",
       "      <th>rating_denominator</th>\n",
       "    </tr>\n",
       "  </thead>\n",
       "  <tbody>\n",
       "    <tr>\n",
       "      <th>0</th>\n",
       "      <td>892420643555336193</td>\n",
       "      <td>This is Phineas. He's a mystical boy. Only eve...</td>\n",
       "      <td>35155</td>\n",
       "      <td>7413</td>\n",
       "      <td>&lt;a href=\"http://twitter.com/download/iphone\" r...</td>\n",
       "      <td>https://twitter.com/dog_rates/status/892420643...</td>\n",
       "      <td>2017-08-01</td>\n",
       "      <td>13</td>\n",
       "      <td>10</td>\n",
       "    </tr>\n",
       "    <tr>\n",
       "      <th>1</th>\n",
       "      <td>892177421306343426</td>\n",
       "      <td>This is Tilly. She's just checking pup on you....</td>\n",
       "      <td>30413</td>\n",
       "      <td>5515</td>\n",
       "      <td>&lt;a href=\"http://twitter.com/download/iphone\" r...</td>\n",
       "      <td>https://twitter.com/dog_rates/status/892177421...</td>\n",
       "      <td>2017-08-01</td>\n",
       "      <td>13</td>\n",
       "      <td>10</td>\n",
       "    </tr>\n",
       "    <tr>\n",
       "      <th>2</th>\n",
       "      <td>891815181378084864</td>\n",
       "      <td>This is Archie. He is a rare Norwegian Pouncin...</td>\n",
       "      <td>22863</td>\n",
       "      <td>3640</td>\n",
       "      <td>&lt;a href=\"http://twitter.com/download/iphone\" r...</td>\n",
       "      <td>https://twitter.com/dog_rates/status/891815181...</td>\n",
       "      <td>2017-07-31</td>\n",
       "      <td>12</td>\n",
       "      <td>10</td>\n",
       "    </tr>\n",
       "    <tr>\n",
       "      <th>3</th>\n",
       "      <td>891689557279858688</td>\n",
       "      <td>This is Darla. She commenced a snooze mid meal...</td>\n",
       "      <td>38424</td>\n",
       "      <td>7590</td>\n",
       "      <td>&lt;a href=\"http://twitter.com/download/iphone\" r...</td>\n",
       "      <td>https://twitter.com/dog_rates/status/891689557...</td>\n",
       "      <td>2017-07-30</td>\n",
       "      <td>13</td>\n",
       "      <td>10</td>\n",
       "    </tr>\n",
       "    <tr>\n",
       "      <th>4</th>\n",
       "      <td>891327558926688256</td>\n",
       "      <td>This is Franklin. He would like you to stop ca...</td>\n",
       "      <td>36679</td>\n",
       "      <td>8161</td>\n",
       "      <td>&lt;a href=\"http://twitter.com/download/iphone\" r...</td>\n",
       "      <td>https://twitter.com/dog_rates/status/891327558...</td>\n",
       "      <td>2017-07-29</td>\n",
       "      <td>12</td>\n",
       "      <td>10</td>\n",
       "    </tr>\n",
       "  </tbody>\n",
       "</table>\n",
       "</div>"
      ],
      "text/plain": [
       "             tweet_id                                          full_text  \\\n",
       "0  892420643555336193  This is Phineas. He's a mystical boy. Only eve...   \n",
       "1  892177421306343426  This is Tilly. She's just checking pup on you....   \n",
       "2  891815181378084864  This is Archie. He is a rare Norwegian Pouncin...   \n",
       "3  891689557279858688  This is Darla. She commenced a snooze mid meal...   \n",
       "4  891327558926688256  This is Franklin. He would like you to stop ca...   \n",
       "\n",
       "   favorites_cnt  retweets_cnt  \\\n",
       "0          35155          7413   \n",
       "1          30413          5515   \n",
       "2          22863          3640   \n",
       "3          38424          7590   \n",
       "4          36679          8161   \n",
       "\n",
       "                                              source  \\\n",
       "0  <a href=\"http://twitter.com/download/iphone\" r...   \n",
       "1  <a href=\"http://twitter.com/download/iphone\" r...   \n",
       "2  <a href=\"http://twitter.com/download/iphone\" r...   \n",
       "3  <a href=\"http://twitter.com/download/iphone\" r...   \n",
       "4  <a href=\"http://twitter.com/download/iphone\" r...   \n",
       "\n",
       "                                             img_url creation_date  \\\n",
       "0  https://twitter.com/dog_rates/status/892420643...    2017-08-01   \n",
       "1  https://twitter.com/dog_rates/status/892177421...    2017-08-01   \n",
       "2  https://twitter.com/dog_rates/status/891815181...    2017-07-31   \n",
       "3  https://twitter.com/dog_rates/status/891689557...    2017-07-30   \n",
       "4  https://twitter.com/dog_rates/status/891327558...    2017-07-29   \n",
       "\n",
       "  rating_numerator rating_denominator  \n",
       "0               13                 10  \n",
       "1               13                 10  \n",
       "2               12                 10  \n",
       "3               13                 10  \n",
       "4               12                 10  "
      ]
     },
     "execution_count": 754,
     "metadata": {},
     "output_type": "execute_result"
    }
   ],
   "source": [
    "df_tweet_api_clean.head()"
   ]
  },
  {
   "cell_type": "markdown",
   "metadata": {},
   "source": [
    "**Data quality issues #6: rating numerator and denominator saved as integers**"
   ]
  },
  {
   "cell_type": "markdown",
   "metadata": {},
   "source": [
    "#### Define"
   ]
  },
  {
   "cell_type": "markdown",
   "metadata": {},
   "source": [
    "change datatype of rating numerator and denominator as float"
   ]
  },
  {
   "cell_type": "markdown",
   "metadata": {},
   "source": [
    "#### Code"
   ]
  },
  {
   "cell_type": "code",
   "execution_count": 755,
   "metadata": {},
   "outputs": [],
   "source": [
    "df_original_tweets_clean[['rating_numerator','rating_denominator']] = df_original_tweets_clean[['rating_numerator','rating_denominator']].astype(float)"
   ]
  },
  {
   "cell_type": "markdown",
   "metadata": {},
   "source": [
    "#### Test"
   ]
  },
  {
   "cell_type": "code",
   "execution_count": 756,
   "metadata": {},
   "outputs": [
    {
     "name": "stdout",
     "output_type": "stream",
     "text": [
      "<class 'pandas.core.frame.DataFrame'>\n",
      "Int64Index: 8284 entries, 0 to 8699\n",
      "Data columns (total 14 columns):\n",
      " #   Column                      Non-Null Count  Dtype  \n",
      "---  ------                      --------------  -----  \n",
      " 0   tweet_id                    8284 non-null   object \n",
      " 1   in_reply_to_status_id       8284 non-null   object \n",
      " 2   in_reply_to_user_id         8284 non-null   object \n",
      " 3   timestamp                   8284 non-null   object \n",
      " 4   source                      8284 non-null   object \n",
      " 5   text                        8284 non-null   object \n",
      " 6   retweeted_status_id         0 non-null      float64\n",
      " 7   retweeted_status_user_id    0 non-null      float64\n",
      " 8   retweeted_status_timestamp  0 non-null      object \n",
      " 9   expanded_urls               8052 non-null   object \n",
      " 10  rating_numerator            8284 non-null   float64\n",
      " 11  rating_denominator          8284 non-null   float64\n",
      " 12  name                        8284 non-null   object \n",
      " 13  dog_growth_stage            8284 non-null   object \n",
      "dtypes: float64(4), object(10)\n",
      "memory usage: 970.8+ KB\n"
     ]
    }
   ],
   "source": [
    "df_original_tweets_clean.info()"
   ]
  },
  {
   "cell_type": "markdown",
   "metadata": {},
   "source": [
    "<a id='cleanpreds'></a>\n",
    "### 3.2 Cleaning tasks - image predictions\n"
   ]
  },
  {
   "cell_type": "code",
   "execution_count": 757,
   "metadata": {},
   "outputs": [
    {
     "data": {
      "text/html": [
       "<div>\n",
       "<style scoped>\n",
       "    .dataframe tbody tr th:only-of-type {\n",
       "        vertical-align: middle;\n",
       "    }\n",
       "\n",
       "    .dataframe tbody tr th {\n",
       "        vertical-align: top;\n",
       "    }\n",
       "\n",
       "    .dataframe thead th {\n",
       "        text-align: right;\n",
       "    }\n",
       "</style>\n",
       "<table border=\"1\" class=\"dataframe\">\n",
       "  <thead>\n",
       "    <tr style=\"text-align: right;\">\n",
       "      <th></th>\n",
       "      <th>tweet_id</th>\n",
       "      <th>jpg_url</th>\n",
       "      <th>img_num</th>\n",
       "      <th>p1</th>\n",
       "      <th>p1_conf</th>\n",
       "      <th>p1_dog</th>\n",
       "      <th>p2</th>\n",
       "      <th>p2_conf</th>\n",
       "      <th>p2_dog</th>\n",
       "      <th>p3</th>\n",
       "      <th>p3_conf</th>\n",
       "      <th>p3_dog</th>\n",
       "    </tr>\n",
       "  </thead>\n",
       "  <tbody>\n",
       "    <tr>\n",
       "      <th>0</th>\n",
       "      <td>666020888022790149</td>\n",
       "      <td>https://pbs.twimg.com/media/CT4udn0WwAA0aMy.jpg</td>\n",
       "      <td>1</td>\n",
       "      <td>Welsh_springer_spaniel</td>\n",
       "      <td>0.465074</td>\n",
       "      <td>True</td>\n",
       "      <td>collie</td>\n",
       "      <td>0.156665</td>\n",
       "      <td>True</td>\n",
       "      <td>Shetland_sheepdog</td>\n",
       "      <td>0.061428</td>\n",
       "      <td>True</td>\n",
       "    </tr>\n",
       "    <tr>\n",
       "      <th>1</th>\n",
       "      <td>666029285002620928</td>\n",
       "      <td>https://pbs.twimg.com/media/CT42GRgUYAA5iDo.jpg</td>\n",
       "      <td>1</td>\n",
       "      <td>redbone</td>\n",
       "      <td>0.506826</td>\n",
       "      <td>True</td>\n",
       "      <td>miniature_pinscher</td>\n",
       "      <td>0.074192</td>\n",
       "      <td>True</td>\n",
       "      <td>Rhodesian_ridgeback</td>\n",
       "      <td>0.072010</td>\n",
       "      <td>True</td>\n",
       "    </tr>\n",
       "    <tr>\n",
       "      <th>2</th>\n",
       "      <td>666033412701032449</td>\n",
       "      <td>https://pbs.twimg.com/media/CT4521TWwAEvMyu.jpg</td>\n",
       "      <td>1</td>\n",
       "      <td>German_shepherd</td>\n",
       "      <td>0.596461</td>\n",
       "      <td>True</td>\n",
       "      <td>malinois</td>\n",
       "      <td>0.138584</td>\n",
       "      <td>True</td>\n",
       "      <td>bloodhound</td>\n",
       "      <td>0.116197</td>\n",
       "      <td>True</td>\n",
       "    </tr>\n",
       "    <tr>\n",
       "      <th>3</th>\n",
       "      <td>666044226329800704</td>\n",
       "      <td>https://pbs.twimg.com/media/CT5Dr8HUEAA-lEu.jpg</td>\n",
       "      <td>1</td>\n",
       "      <td>Rhodesian_ridgeback</td>\n",
       "      <td>0.408143</td>\n",
       "      <td>True</td>\n",
       "      <td>redbone</td>\n",
       "      <td>0.360687</td>\n",
       "      <td>True</td>\n",
       "      <td>miniature_pinscher</td>\n",
       "      <td>0.222752</td>\n",
       "      <td>True</td>\n",
       "    </tr>\n",
       "    <tr>\n",
       "      <th>4</th>\n",
       "      <td>666049248165822465</td>\n",
       "      <td>https://pbs.twimg.com/media/CT5IQmsXIAAKY4A.jpg</td>\n",
       "      <td>1</td>\n",
       "      <td>miniature_pinscher</td>\n",
       "      <td>0.560311</td>\n",
       "      <td>True</td>\n",
       "      <td>Rottweiler</td>\n",
       "      <td>0.243682</td>\n",
       "      <td>True</td>\n",
       "      <td>Doberman</td>\n",
       "      <td>0.154629</td>\n",
       "      <td>True</td>\n",
       "    </tr>\n",
       "  </tbody>\n",
       "</table>\n",
       "</div>"
      ],
      "text/plain": [
       "             tweet_id                                          jpg_url  \\\n",
       "0  666020888022790149  https://pbs.twimg.com/media/CT4udn0WwAA0aMy.jpg   \n",
       "1  666029285002620928  https://pbs.twimg.com/media/CT42GRgUYAA5iDo.jpg   \n",
       "2  666033412701032449  https://pbs.twimg.com/media/CT4521TWwAEvMyu.jpg   \n",
       "3  666044226329800704  https://pbs.twimg.com/media/CT5Dr8HUEAA-lEu.jpg   \n",
       "4  666049248165822465  https://pbs.twimg.com/media/CT5IQmsXIAAKY4A.jpg   \n",
       "\n",
       "   img_num                      p1   p1_conf  p1_dog                  p2  \\\n",
       "0        1  Welsh_springer_spaniel  0.465074    True              collie   \n",
       "1        1                 redbone  0.506826    True  miniature_pinscher   \n",
       "2        1         German_shepherd  0.596461    True            malinois   \n",
       "3        1     Rhodesian_ridgeback  0.408143    True             redbone   \n",
       "4        1      miniature_pinscher  0.560311    True          Rottweiler   \n",
       "\n",
       "    p2_conf  p2_dog                   p3   p3_conf  p3_dog  \n",
       "0  0.156665    True    Shetland_sheepdog  0.061428    True  \n",
       "1  0.074192    True  Rhodesian_ridgeback  0.072010    True  \n",
       "2  0.138584    True           bloodhound  0.116197    True  \n",
       "3  0.360687    True   miniature_pinscher  0.222752    True  \n",
       "4  0.243682    True             Doberman  0.154629    True  "
      ]
     },
     "execution_count": 757,
     "metadata": {},
     "output_type": "execute_result"
    }
   ],
   "source": [
    "# Display preview image prediction file \n",
    "df_img_preds.head()"
   ]
  },
  {
   "cell_type": "code",
   "execution_count": 758,
   "metadata": {},
   "outputs": [
    {
     "data": {
      "text/plain": [
       "2075"
      ]
     },
     "execution_count": 758,
     "metadata": {},
     "output_type": "execute_result"
    }
   ],
   "source": [
    "# Make a copy (clean) where we'll perform cleansing operations\n",
    "df_img_preds_clean = df_img_preds.copy()\n",
    "len(df_img_preds_clean)"
   ]
  },
  {
   "cell_type": "code",
   "execution_count": null,
   "metadata": {},
   "outputs": [],
   "source": []
  },
  {
   "cell_type": "markdown",
   "metadata": {},
   "source": [
    "**Tidiness issue #2: algo1,algo2 and algo3 actually represents the same thing: model predictions.**\n"
   ]
  },
  {
   "cell_type": "markdown",
   "metadata": {},
   "source": [
    "#### Define"
   ]
  },
  {
   "cell_type": "markdown",
   "metadata": {},
   "source": [
    "Store predictions as 1 variable populated with 3 labels (algo1,algo2,algo3)\n"
   ]
  },
  {
   "cell_type": "markdown",
   "metadata": {},
   "source": [
    "#### Code"
   ]
  },
  {
   "cell_type": "code",
   "execution_count": 759,
   "metadata": {},
   "outputs": [
    {
     "data": {
      "text/html": [
       "<div>\n",
       "<style scoped>\n",
       "    .dataframe tbody tr th:only-of-type {\n",
       "        vertical-align: middle;\n",
       "    }\n",
       "\n",
       "    .dataframe tbody tr th {\n",
       "        vertical-align: top;\n",
       "    }\n",
       "\n",
       "    .dataframe thead th {\n",
       "        text-align: right;\n",
       "    }\n",
       "</style>\n",
       "<table border=\"1\" class=\"dataframe\">\n",
       "  <thead>\n",
       "    <tr style=\"text-align: right;\">\n",
       "      <th></th>\n",
       "      <th>tweet_id</th>\n",
       "      <th>jpg_url</th>\n",
       "      <th>img_num</th>\n",
       "      <th>p1_conf</th>\n",
       "      <th>p1_dog</th>\n",
       "      <th>p2_conf</th>\n",
       "      <th>p2_dog</th>\n",
       "      <th>p3_conf</th>\n",
       "      <th>p3_dog</th>\n",
       "      <th>algorithm</th>\n",
       "      <th>predictions</th>\n",
       "    </tr>\n",
       "  </thead>\n",
       "  <tbody>\n",
       "    <tr>\n",
       "      <th>0</th>\n",
       "      <td>666020888022790149</td>\n",
       "      <td>https://pbs.twimg.com/media/CT4udn0WwAA0aMy.jpg</td>\n",
       "      <td>1</td>\n",
       "      <td>0.465074</td>\n",
       "      <td>True</td>\n",
       "      <td>0.156665</td>\n",
       "      <td>True</td>\n",
       "      <td>0.061428</td>\n",
       "      <td>True</td>\n",
       "      <td>p1</td>\n",
       "      <td>Welsh_springer_spaniel</td>\n",
       "    </tr>\n",
       "    <tr>\n",
       "      <th>1</th>\n",
       "      <td>666029285002620928</td>\n",
       "      <td>https://pbs.twimg.com/media/CT42GRgUYAA5iDo.jpg</td>\n",
       "      <td>1</td>\n",
       "      <td>0.506826</td>\n",
       "      <td>True</td>\n",
       "      <td>0.074192</td>\n",
       "      <td>True</td>\n",
       "      <td>0.072010</td>\n",
       "      <td>True</td>\n",
       "      <td>p1</td>\n",
       "      <td>redbone</td>\n",
       "    </tr>\n",
       "    <tr>\n",
       "      <th>2</th>\n",
       "      <td>666033412701032449</td>\n",
       "      <td>https://pbs.twimg.com/media/CT4521TWwAEvMyu.jpg</td>\n",
       "      <td>1</td>\n",
       "      <td>0.596461</td>\n",
       "      <td>True</td>\n",
       "      <td>0.138584</td>\n",
       "      <td>True</td>\n",
       "      <td>0.116197</td>\n",
       "      <td>True</td>\n",
       "      <td>p1</td>\n",
       "      <td>German_shepherd</td>\n",
       "    </tr>\n",
       "    <tr>\n",
       "      <th>3</th>\n",
       "      <td>666044226329800704</td>\n",
       "      <td>https://pbs.twimg.com/media/CT5Dr8HUEAA-lEu.jpg</td>\n",
       "      <td>1</td>\n",
       "      <td>0.408143</td>\n",
       "      <td>True</td>\n",
       "      <td>0.360687</td>\n",
       "      <td>True</td>\n",
       "      <td>0.222752</td>\n",
       "      <td>True</td>\n",
       "      <td>p1</td>\n",
       "      <td>Rhodesian_ridgeback</td>\n",
       "    </tr>\n",
       "    <tr>\n",
       "      <th>4</th>\n",
       "      <td>666049248165822465</td>\n",
       "      <td>https://pbs.twimg.com/media/CT5IQmsXIAAKY4A.jpg</td>\n",
       "      <td>1</td>\n",
       "      <td>0.560311</td>\n",
       "      <td>True</td>\n",
       "      <td>0.243682</td>\n",
       "      <td>True</td>\n",
       "      <td>0.154629</td>\n",
       "      <td>True</td>\n",
       "      <td>p1</td>\n",
       "      <td>miniature_pinscher</td>\n",
       "    </tr>\n",
       "  </tbody>\n",
       "</table>\n",
       "</div>"
      ],
      "text/plain": [
       "             tweet_id                                          jpg_url  \\\n",
       "0  666020888022790149  https://pbs.twimg.com/media/CT4udn0WwAA0aMy.jpg   \n",
       "1  666029285002620928  https://pbs.twimg.com/media/CT42GRgUYAA5iDo.jpg   \n",
       "2  666033412701032449  https://pbs.twimg.com/media/CT4521TWwAEvMyu.jpg   \n",
       "3  666044226329800704  https://pbs.twimg.com/media/CT5Dr8HUEAA-lEu.jpg   \n",
       "4  666049248165822465  https://pbs.twimg.com/media/CT5IQmsXIAAKY4A.jpg   \n",
       "\n",
       "   img_num   p1_conf  p1_dog   p2_conf  p2_dog   p3_conf  p3_dog algorithm  \\\n",
       "0        1  0.465074    True  0.156665    True  0.061428    True        p1   \n",
       "1        1  0.506826    True  0.074192    True  0.072010    True        p1   \n",
       "2        1  0.596461    True  0.138584    True  0.116197    True        p1   \n",
       "3        1  0.408143    True  0.360687    True  0.222752    True        p1   \n",
       "4        1  0.560311    True  0.243682    True  0.154629    True        p1   \n",
       "\n",
       "              predictions  \n",
       "0  Welsh_springer_spaniel  \n",
       "1                 redbone  \n",
       "2         German_shepherd  \n",
       "3     Rhodesian_ridgeback  \n",
       "4      miniature_pinscher  "
      ]
     },
     "execution_count": 759,
     "metadata": {},
     "output_type": "execute_result"
    }
   ],
   "source": [
    "# Create 1 new col/variable named 'algorithm' that will return values for p1,p2 and p3\n",
    "df_melt_algo = pd.melt(df_img_preds_clean, id_vars=['tweet_id', 'jpg_url','img_num','p1_conf','p1_dog'\n",
    "                                                         ,'p2_conf','p2_dog','p3_conf','p3_dog']\n",
    "                    ,var_name='algorithm', value_vars=['p1','p2','p3'],value_name='predictions')\n",
    "\n",
    "df_melt_algo.head()"
   ]
  },
  {
   "cell_type": "code",
   "execution_count": 760,
   "metadata": {},
   "outputs": [],
   "source": [
    "# Create 1 new col/variable named 'algo_confidence' that will return values for p1_conf,p2_conf and p3_conf\n",
    "df_melt_conf = pd.melt(df_img_preds_clean, id_vars=['tweet_id'],\n",
    "                    value_vars=['p1_conf','p2_conf','p3_conf'],value_name='algo_confidence')\n"
   ]
  },
  {
   "cell_type": "markdown",
   "metadata": {},
   "source": [
    "#### Test"
   ]
  },
  {
   "cell_type": "code",
   "execution_count": 761,
   "metadata": {
    "scrolled": false
   },
   "outputs": [
    {
     "data": {
      "text/html": [
       "<div>\n",
       "<style scoped>\n",
       "    .dataframe tbody tr th:only-of-type {\n",
       "        vertical-align: middle;\n",
       "    }\n",
       "\n",
       "    .dataframe tbody tr th {\n",
       "        vertical-align: top;\n",
       "    }\n",
       "\n",
       "    .dataframe thead th {\n",
       "        text-align: right;\n",
       "    }\n",
       "</style>\n",
       "<table border=\"1\" class=\"dataframe\">\n",
       "  <thead>\n",
       "    <tr style=\"text-align: right;\">\n",
       "      <th></th>\n",
       "      <th>tweet_id</th>\n",
       "      <th>variable</th>\n",
       "      <th>algo_confidence</th>\n",
       "    </tr>\n",
       "  </thead>\n",
       "  <tbody>\n",
       "    <tr>\n",
       "      <th>0</th>\n",
       "      <td>666020888022790149</td>\n",
       "      <td>p1_conf</td>\n",
       "      <td>0.465074</td>\n",
       "    </tr>\n",
       "    <tr>\n",
       "      <th>1</th>\n",
       "      <td>666029285002620928</td>\n",
       "      <td>p1_conf</td>\n",
       "      <td>0.506826</td>\n",
       "    </tr>\n",
       "    <tr>\n",
       "      <th>2</th>\n",
       "      <td>666033412701032449</td>\n",
       "      <td>p1_conf</td>\n",
       "      <td>0.596461</td>\n",
       "    </tr>\n",
       "    <tr>\n",
       "      <th>3</th>\n",
       "      <td>666044226329800704</td>\n",
       "      <td>p1_conf</td>\n",
       "      <td>0.408143</td>\n",
       "    </tr>\n",
       "    <tr>\n",
       "      <th>4</th>\n",
       "      <td>666049248165822465</td>\n",
       "      <td>p1_conf</td>\n",
       "      <td>0.560311</td>\n",
       "    </tr>\n",
       "  </tbody>\n",
       "</table>\n",
       "</div>"
      ],
      "text/plain": [
       "             tweet_id variable  algo_confidence\n",
       "0  666020888022790149  p1_conf         0.465074\n",
       "1  666029285002620928  p1_conf         0.506826\n",
       "2  666033412701032449  p1_conf         0.596461\n",
       "3  666044226329800704  p1_conf         0.408143\n",
       "4  666049248165822465  p1_conf         0.560311"
      ]
     },
     "execution_count": 761,
     "metadata": {},
     "output_type": "execute_result"
    }
   ],
   "source": [
    "df_melt_conf.head()"
   ]
  },
  {
   "cell_type": "markdown",
   "metadata": {},
   "source": [
    "**Tidiness issue #3: p1,p2 and p3 actually represents the same thing: if the prediction made is a dog or not.**"
   ]
  },
  {
   "cell_type": "markdown",
   "metadata": {},
   "source": [
    "#### Define"
   ]
  },
  {
   "cell_type": "markdown",
   "metadata": {},
   "source": [
    "Merge p1_dog,p2_dog and p3_dod under one single variable 'preds_is_dog' and return expected boolean"
   ]
  },
  {
   "cell_type": "markdown",
   "metadata": {},
   "source": [
    "#### Code"
   ]
  },
  {
   "cell_type": "code",
   "execution_count": 762,
   "metadata": {},
   "outputs": [],
   "source": [
    "# Create 1 new col/variable named 'preds_is_dog' that will return values for p1_dog,p2_dog and p3_dog\n",
    "df_melt_isdog = pd.melt(df_img_preds_clean, id_vars=['tweet_id'],\n",
    "                     value_vars=['p1_dog','p2_dog','p3_dog'],value_name='preds_is_dog')\n"
   ]
  },
  {
   "cell_type": "markdown",
   "metadata": {},
   "source": [
    "#### Test"
   ]
  },
  {
   "cell_type": "code",
   "execution_count": 763,
   "metadata": {},
   "outputs": [
    {
     "data": {
      "text/html": [
       "<div>\n",
       "<style scoped>\n",
       "    .dataframe tbody tr th:only-of-type {\n",
       "        vertical-align: middle;\n",
       "    }\n",
       "\n",
       "    .dataframe tbody tr th {\n",
       "        vertical-align: top;\n",
       "    }\n",
       "\n",
       "    .dataframe thead th {\n",
       "        text-align: right;\n",
       "    }\n",
       "</style>\n",
       "<table border=\"1\" class=\"dataframe\">\n",
       "  <thead>\n",
       "    <tr style=\"text-align: right;\">\n",
       "      <th></th>\n",
       "      <th>tweet_id</th>\n",
       "      <th>variable</th>\n",
       "      <th>preds_is_dog</th>\n",
       "    </tr>\n",
       "  </thead>\n",
       "  <tbody>\n",
       "    <tr>\n",
       "      <th>0</th>\n",
       "      <td>666020888022790149</td>\n",
       "      <td>p1_dog</td>\n",
       "      <td>True</td>\n",
       "    </tr>\n",
       "    <tr>\n",
       "      <th>1</th>\n",
       "      <td>666029285002620928</td>\n",
       "      <td>p1_dog</td>\n",
       "      <td>True</td>\n",
       "    </tr>\n",
       "    <tr>\n",
       "      <th>2</th>\n",
       "      <td>666033412701032449</td>\n",
       "      <td>p1_dog</td>\n",
       "      <td>True</td>\n",
       "    </tr>\n",
       "    <tr>\n",
       "      <th>3</th>\n",
       "      <td>666044226329800704</td>\n",
       "      <td>p1_dog</td>\n",
       "      <td>True</td>\n",
       "    </tr>\n",
       "    <tr>\n",
       "      <th>4</th>\n",
       "      <td>666049248165822465</td>\n",
       "      <td>p1_dog</td>\n",
       "      <td>True</td>\n",
       "    </tr>\n",
       "  </tbody>\n",
       "</table>\n",
       "</div>"
      ],
      "text/plain": [
       "             tweet_id variable  preds_is_dog\n",
       "0  666020888022790149   p1_dog          True\n",
       "1  666029285002620928   p1_dog          True\n",
       "2  666033412701032449   p1_dog          True\n",
       "3  666044226329800704   p1_dog          True\n",
       "4  666049248165822465   p1_dog          True"
      ]
     },
     "execution_count": 763,
     "metadata": {},
     "output_type": "execute_result"
    }
   ],
   "source": [
    "df_melt_isdog.head()"
   ]
  },
  {
   "cell_type": "code",
   "execution_count": 764,
   "metadata": {},
   "outputs": [],
   "source": [
    "# Merge the 3 subsets into 1 single clean dataframe and remove unnecessary columns\n",
    "df_img_preds_clean = pd.merge(df_melt_algo, df_melt_conf , left_index=True, right_index=True)\n",
    "df_img_preds_clean = pd.merge(df_img_preds_clean,df_melt_isdog, left_index=True, right_index=True)\n",
    "df_img_preds_clean = df_img_preds_clean.drop(['tweet_id_x','p1_conf','p1_dog','p2_conf','p2_dog','p3_dog','p3_conf','tweet_id_y','variable_x'\n",
    "                        ,'variable_y'],axis=1)"
   ]
  },
  {
   "cell_type": "code",
   "execution_count": 765,
   "metadata": {},
   "outputs": [
    {
     "name": "stdout",
     "output_type": "stream",
     "text": [
      "(2075, 12) (6225, 7)\n"
     ]
    }
   ],
   "source": [
    "# Check for new shape of data frame \n",
    "df_img_preds_clean.head()\n",
    "print(df_img_preds.shape,df_img_preds_clean.shape)"
   ]
  },
  {
   "cell_type": "markdown",
   "metadata": {},
   "source": [
    "> As the result of restructuring our data, it is expected to see our number of rows increased by 3x.\n",
    "Indeed, original DataFrame returns 2075 rows to be multiplied by 3 values (p1,p2,p3) that used to be shown as separate columns.\n",
    "Less columns is the result of us dropping unnecessary ones."
   ]
  },
  {
   "cell_type": "markdown",
   "metadata": {},
   "source": [
    "**Data quality issue #7: Format p1,p2,p3 values to fix lower/upper case inconsistency**"
   ]
  },
  {
   "cell_type": "markdown",
   "metadata": {},
   "source": [
    "#### Define"
   ]
  },
  {
   "cell_type": "markdown",
   "metadata": {},
   "source": [
    "reformat values case for p1,p2 and p3 - move to lower case or upper for all "
   ]
  },
  {
   "cell_type": "markdown",
   "metadata": {},
   "source": [
    "#### Code"
   ]
  },
  {
   "cell_type": "code",
   "execution_count": 766,
   "metadata": {},
   "outputs": [],
   "source": [
    "# Cast predictions values to lowercase - before is a mix or low/upper case\n",
    "df_img_preds_clean['predictions'] = df_img_preds_clean['predictions'].str.lower()"
   ]
  },
  {
   "cell_type": "code",
   "execution_count": 767,
   "metadata": {
    "scrolled": true
   },
   "outputs": [
    {
     "data": {
      "text/html": [
       "<div>\n",
       "<style scoped>\n",
       "    .dataframe tbody tr th:only-of-type {\n",
       "        vertical-align: middle;\n",
       "    }\n",
       "\n",
       "    .dataframe tbody tr th {\n",
       "        vertical-align: top;\n",
       "    }\n",
       "\n",
       "    .dataframe thead th {\n",
       "        text-align: right;\n",
       "    }\n",
       "</style>\n",
       "<table border=\"1\" class=\"dataframe\">\n",
       "  <thead>\n",
       "    <tr style=\"text-align: right;\">\n",
       "      <th></th>\n",
       "      <th>jpg_url</th>\n",
       "      <th>img_num</th>\n",
       "      <th>algorithm</th>\n",
       "      <th>predictions</th>\n",
       "      <th>algo_confidence</th>\n",
       "      <th>tweet_id</th>\n",
       "      <th>preds_is_dog</th>\n",
       "    </tr>\n",
       "  </thead>\n",
       "  <tbody>\n",
       "    <tr>\n",
       "      <th>0</th>\n",
       "      <td>https://pbs.twimg.com/media/CT4udn0WwAA0aMy.jpg</td>\n",
       "      <td>1</td>\n",
       "      <td>p1</td>\n",
       "      <td>welsh_springer_spaniel</td>\n",
       "      <td>0.465074</td>\n",
       "      <td>666020888022790149</td>\n",
       "      <td>True</td>\n",
       "    </tr>\n",
       "    <tr>\n",
       "      <th>1</th>\n",
       "      <td>https://pbs.twimg.com/media/CT42GRgUYAA5iDo.jpg</td>\n",
       "      <td>1</td>\n",
       "      <td>p1</td>\n",
       "      <td>redbone</td>\n",
       "      <td>0.506826</td>\n",
       "      <td>666029285002620928</td>\n",
       "      <td>True</td>\n",
       "    </tr>\n",
       "    <tr>\n",
       "      <th>2</th>\n",
       "      <td>https://pbs.twimg.com/media/CT4521TWwAEvMyu.jpg</td>\n",
       "      <td>1</td>\n",
       "      <td>p1</td>\n",
       "      <td>german_shepherd</td>\n",
       "      <td>0.596461</td>\n",
       "      <td>666033412701032449</td>\n",
       "      <td>True</td>\n",
       "    </tr>\n",
       "    <tr>\n",
       "      <th>3</th>\n",
       "      <td>https://pbs.twimg.com/media/CT5Dr8HUEAA-lEu.jpg</td>\n",
       "      <td>1</td>\n",
       "      <td>p1</td>\n",
       "      <td>rhodesian_ridgeback</td>\n",
       "      <td>0.408143</td>\n",
       "      <td>666044226329800704</td>\n",
       "      <td>True</td>\n",
       "    </tr>\n",
       "    <tr>\n",
       "      <th>4</th>\n",
       "      <td>https://pbs.twimg.com/media/CT5IQmsXIAAKY4A.jpg</td>\n",
       "      <td>1</td>\n",
       "      <td>p1</td>\n",
       "      <td>miniature_pinscher</td>\n",
       "      <td>0.560311</td>\n",
       "      <td>666049248165822465</td>\n",
       "      <td>True</td>\n",
       "    </tr>\n",
       "  </tbody>\n",
       "</table>\n",
       "</div>"
      ],
      "text/plain": [
       "                                           jpg_url  img_num algorithm  \\\n",
       "0  https://pbs.twimg.com/media/CT4udn0WwAA0aMy.jpg        1        p1   \n",
       "1  https://pbs.twimg.com/media/CT42GRgUYAA5iDo.jpg        1        p1   \n",
       "2  https://pbs.twimg.com/media/CT4521TWwAEvMyu.jpg        1        p1   \n",
       "3  https://pbs.twimg.com/media/CT5Dr8HUEAA-lEu.jpg        1        p1   \n",
       "4  https://pbs.twimg.com/media/CT5IQmsXIAAKY4A.jpg        1        p1   \n",
       "\n",
       "              predictions  algo_confidence            tweet_id  preds_is_dog  \n",
       "0  welsh_springer_spaniel         0.465074  666020888022790149          True  \n",
       "1                 redbone         0.506826  666029285002620928          True  \n",
       "2         german_shepherd         0.596461  666033412701032449          True  \n",
       "3     rhodesian_ridgeback         0.408143  666044226329800704          True  \n",
       "4      miniature_pinscher         0.560311  666049248165822465          True  "
      ]
     },
     "execution_count": 767,
     "metadata": {},
     "output_type": "execute_result"
    }
   ],
   "source": [
    "df_img_preds_clean.head()"
   ]
  },
  {
   "cell_type": "markdown",
   "metadata": {},
   "source": [
    "**Data quality issue #8: *predictions* return inconsistent predictions** - can't do much here since require to execute the model"
   ]
  },
  {
   "cell_type": "markdown",
   "metadata": {},
   "source": [
    "**Data quality issue #9: *tweet_id* saved as integer in both image predictios and api data file**"
   ]
  },
  {
   "cell_type": "markdown",
   "metadata": {},
   "source": [
    "#### Define"
   ]
  },
  {
   "cell_type": "markdown",
   "metadata": {},
   "source": [
    "change datatype for tweet_id in both files. Store it as string (object)"
   ]
  },
  {
   "cell_type": "markdown",
   "metadata": {},
   "source": [
    "#### Code"
   ]
  },
  {
   "cell_type": "code",
   "execution_count": 768,
   "metadata": {},
   "outputs": [],
   "source": [
    "df_img_preds_clean['tweet_id'] = df_img_preds_clean['tweet_id'].astype(str)"
   ]
  },
  {
   "cell_type": "code",
   "execution_count": 769,
   "metadata": {},
   "outputs": [],
   "source": [
    "df_tweet_api_clean['tweet_id'] = df_tweet_api_clean['tweet_id'].astype(str)"
   ]
  },
  {
   "cell_type": "markdown",
   "metadata": {},
   "source": [
    "#### Test"
   ]
  },
  {
   "cell_type": "code",
   "execution_count": 770,
   "metadata": {},
   "outputs": [
    {
     "name": "stdout",
     "output_type": "stream",
     "text": [
      "<class 'pandas.core.frame.DataFrame'>\n",
      "RangeIndex: 6225 entries, 0 to 6224\n",
      "Data columns (total 7 columns):\n",
      " #   Column           Non-Null Count  Dtype  \n",
      "---  ------           --------------  -----  \n",
      " 0   jpg_url          6225 non-null   object \n",
      " 1   img_num          6225 non-null   int64  \n",
      " 2   algorithm        6225 non-null   object \n",
      " 3   predictions      6225 non-null   object \n",
      " 4   algo_confidence  6225 non-null   float64\n",
      " 5   tweet_id         6225 non-null   object \n",
      " 6   preds_is_dog     6225 non-null   bool   \n",
      "dtypes: bool(1), float64(1), int64(1), object(4)\n",
      "memory usage: 298.0+ KB\n"
     ]
    }
   ],
   "source": [
    "df_img_preds_clean.info()"
   ]
  },
  {
   "cell_type": "markdown",
   "metadata": {},
   "source": [
    "**Data quality issue #10: *jpg_url* informs duplicate urls**"
   ]
  },
  {
   "cell_type": "markdown",
   "metadata": {},
   "source": [
    "#### Define"
   ]
  },
  {
   "cell_type": "markdown",
   "metadata": {},
   "source": [
    "drop jpg_url since it informs duplicates urls and replace it with img_url from api"
   ]
  },
  {
   "cell_type": "markdown",
   "metadata": {},
   "source": [
    "#### Code"
   ]
  },
  {
   "cell_type": "code",
   "execution_count": 771,
   "metadata": {},
   "outputs": [],
   "source": [
    "# Duplicate jpg_url detected for different tweet id\n",
    "df_img_preds_clean = df_img_preds_clean[df_img_preds_clean.duplicated(['jpg_url'], keep=False)]"
   ]
  },
  {
   "cell_type": "code",
   "execution_count": 772,
   "metadata": {},
   "outputs": [],
   "source": [
    "# Merge image prediction file with api data using tweet_id as key to fetch real img url\n",
    "df_tweet_api_clean_img = df_tweet_api_clean[['tweet_id','img_url']]\n",
    "\n",
    "df_img_preds_clean = pd.merge(df_img_preds_clean ,df_tweet_api_clean_img , on=['tweet_id'], how='inner')\n",
    "\n",
    "# Remove old jpg_url column\n",
    "df_img_preds_clean = df_img_preds_clean.drop('jpg_url',axis=1)"
   ]
  },
  {
   "cell_type": "markdown",
   "metadata": {},
   "source": [
    "#### Test"
   ]
  },
  {
   "cell_type": "code",
   "execution_count": 773,
   "metadata": {},
   "outputs": [
    {
     "data": {
      "text/html": [
       "<div>\n",
       "<style scoped>\n",
       "    .dataframe tbody tr th:only-of-type {\n",
       "        vertical-align: middle;\n",
       "    }\n",
       "\n",
       "    .dataframe tbody tr th {\n",
       "        vertical-align: top;\n",
       "    }\n",
       "\n",
       "    .dataframe thead th {\n",
       "        text-align: right;\n",
       "    }\n",
       "</style>\n",
       "<table border=\"1\" class=\"dataframe\">\n",
       "  <thead>\n",
       "    <tr style=\"text-align: right;\">\n",
       "      <th></th>\n",
       "      <th>img_num</th>\n",
       "      <th>algorithm</th>\n",
       "      <th>predictions</th>\n",
       "      <th>algo_confidence</th>\n",
       "      <th>tweet_id</th>\n",
       "      <th>preds_is_dog</th>\n",
       "      <th>img_url</th>\n",
       "    </tr>\n",
       "  </thead>\n",
       "  <tbody>\n",
       "    <tr>\n",
       "      <th>0</th>\n",
       "      <td>1</td>\n",
       "      <td>p1</td>\n",
       "      <td>welsh_springer_spaniel</td>\n",
       "      <td>0.465074</td>\n",
       "      <td>666020888022790149</td>\n",
       "      <td>True</td>\n",
       "      <td>https://twitter.com/dog_rates/status/666020888...</td>\n",
       "    </tr>\n",
       "    <tr>\n",
       "      <th>1</th>\n",
       "      <td>1</td>\n",
       "      <td>p2</td>\n",
       "      <td>collie</td>\n",
       "      <td>0.156665</td>\n",
       "      <td>666020888022790149</td>\n",
       "      <td>True</td>\n",
       "      <td>https://twitter.com/dog_rates/status/666020888...</td>\n",
       "    </tr>\n",
       "    <tr>\n",
       "      <th>2</th>\n",
       "      <td>1</td>\n",
       "      <td>p3</td>\n",
       "      <td>shetland_sheepdog</td>\n",
       "      <td>0.061428</td>\n",
       "      <td>666020888022790149</td>\n",
       "      <td>True</td>\n",
       "      <td>https://twitter.com/dog_rates/status/666020888...</td>\n",
       "    </tr>\n",
       "    <tr>\n",
       "      <th>3</th>\n",
       "      <td>1</td>\n",
       "      <td>p1</td>\n",
       "      <td>redbone</td>\n",
       "      <td>0.506826</td>\n",
       "      <td>666029285002620928</td>\n",
       "      <td>True</td>\n",
       "      <td>https://twitter.com/dog_rates/status/666029285...</td>\n",
       "    </tr>\n",
       "    <tr>\n",
       "      <th>4</th>\n",
       "      <td>1</td>\n",
       "      <td>p2</td>\n",
       "      <td>miniature_pinscher</td>\n",
       "      <td>0.074192</td>\n",
       "      <td>666029285002620928</td>\n",
       "      <td>True</td>\n",
       "      <td>https://twitter.com/dog_rates/status/666029285...</td>\n",
       "    </tr>\n",
       "  </tbody>\n",
       "</table>\n",
       "</div>"
      ],
      "text/plain": [
       "   img_num algorithm             predictions  algo_confidence  \\\n",
       "0        1        p1  welsh_springer_spaniel         0.465074   \n",
       "1        1        p2                  collie         0.156665   \n",
       "2        1        p3       shetland_sheepdog         0.061428   \n",
       "3        1        p1                 redbone         0.506826   \n",
       "4        1        p2      miniature_pinscher         0.074192   \n",
       "\n",
       "             tweet_id  preds_is_dog  \\\n",
       "0  666020888022790149          True   \n",
       "1  666020888022790149          True   \n",
       "2  666020888022790149          True   \n",
       "3  666029285002620928          True   \n",
       "4  666029285002620928          True   \n",
       "\n",
       "                                             img_url  \n",
       "0  https://twitter.com/dog_rates/status/666020888...  \n",
       "1  https://twitter.com/dog_rates/status/666020888...  \n",
       "2  https://twitter.com/dog_rates/status/666020888...  \n",
       "3  https://twitter.com/dog_rates/status/666029285...  \n",
       "4  https://twitter.com/dog_rates/status/666029285...  "
      ]
     },
     "execution_count": 773,
     "metadata": {},
     "output_type": "execute_result"
    }
   ],
   "source": [
    "df_img_preds_clean.head()"
   ]
  },
  {
   "cell_type": "code",
   "execution_count": null,
   "metadata": {},
   "outputs": [],
   "source": []
  },
  {
   "cell_type": "markdown",
   "metadata": {},
   "source": [
    "<a id='cleanjson'></a>\n",
    "### 3.3 Cleaning tasks - tweeter api (json)"
   ]
  },
  {
   "cell_type": "markdown",
   "metadata": {},
   "source": [
    "Clean json - keep only data we will need for analysis"
   ]
  },
  {
   "cell_type": "code",
   "execution_count": 774,
   "metadata": {},
   "outputs": [],
   "source": [
    "df_tweet_api_clean = []\n",
    "with open('tweet_json.txt', 'r') as json_file:\n",
    "    for line in json_file:\n",
    "        json_data = json.loads(line)\n",
    "        \n",
    "        try:\n",
    "          media_url = json_data['entities']['media'][0]['expanded_url']\n",
    "        except Exception as e:\n",
    "          media_url = \"\"\n",
    "        \n",
    "        df_tweet_api_clean.append({ 'created_at': json_data['created_at'],\n",
    "                                    'tweet_id': json_data['id'],\n",
    "                                    'full_text': json_data['full_text'],\n",
    "                                    'favorites_cnt': json_data['favorite_count'],\n",
    "                                    'retweets_cnt' : json_data['retweet_count'],\n",
    "                                    'user_id' : json_data['user']['id'],\n",
    "                                    'source': json_data['source'], \n",
    "                                    'img_url' : media_url,\n",
    "                                    'is_favorite': json_data['favorited']\n",
    "                                  })\n",
    "                        \n",
    "df_tweet_api_clean = pd.DataFrame(df_tweet_api_clean, columns=['created_at','tweet_id','full_text','favorites_cnt',\n",
    "                                                               'retweets_cnt','is_favorited','user_id','source','img_url'])"
   ]
  },
  {
   "cell_type": "code",
   "execution_count": 775,
   "metadata": {},
   "outputs": [
    {
     "data": {
      "text/plain": [
       "2168"
      ]
     },
     "execution_count": 775,
     "metadata": {},
     "output_type": "execute_result"
    }
   ],
   "source": [
    "len(df_tweet_api_clean.is_favorited.isnull())"
   ]
  },
  {
   "cell_type": "code",
   "execution_count": 776,
   "metadata": {},
   "outputs": [
    {
     "data": {
      "text/html": [
       "<div>\n",
       "<style scoped>\n",
       "    .dataframe tbody tr th:only-of-type {\n",
       "        vertical-align: middle;\n",
       "    }\n",
       "\n",
       "    .dataframe tbody tr th {\n",
       "        vertical-align: top;\n",
       "    }\n",
       "\n",
       "    .dataframe thead th {\n",
       "        text-align: right;\n",
       "    }\n",
       "</style>\n",
       "<table border=\"1\" class=\"dataframe\">\n",
       "  <thead>\n",
       "    <tr style=\"text-align: right;\">\n",
       "      <th></th>\n",
       "      <th>created_at</th>\n",
       "      <th>tweet_id</th>\n",
       "      <th>full_text</th>\n",
       "      <th>favorites_cnt</th>\n",
       "      <th>retweets_cnt</th>\n",
       "      <th>is_favorited</th>\n",
       "      <th>user_id</th>\n",
       "      <th>source</th>\n",
       "      <th>img_url</th>\n",
       "    </tr>\n",
       "  </thead>\n",
       "  <tbody>\n",
       "    <tr>\n",
       "      <th>0</th>\n",
       "      <td>Tue Aug 01 16:23:56 +0000 2017</td>\n",
       "      <td>892420643555336193</td>\n",
       "      <td>This is Phineas. He's a mystical boy. Only eve...</td>\n",
       "      <td>35155</td>\n",
       "      <td>7413</td>\n",
       "      <td>NaN</td>\n",
       "      <td>4196983835</td>\n",
       "      <td>&lt;a href=\"http://twitter.com/download/iphone\" r...</td>\n",
       "      <td>https://twitter.com/dog_rates/status/892420643...</td>\n",
       "    </tr>\n",
       "    <tr>\n",
       "      <th>1</th>\n",
       "      <td>Tue Aug 01 00:17:27 +0000 2017</td>\n",
       "      <td>892177421306343426</td>\n",
       "      <td>This is Tilly. She's just checking pup on you....</td>\n",
       "      <td>30413</td>\n",
       "      <td>5515</td>\n",
       "      <td>NaN</td>\n",
       "      <td>4196983835</td>\n",
       "      <td>&lt;a href=\"http://twitter.com/download/iphone\" r...</td>\n",
       "      <td>https://twitter.com/dog_rates/status/892177421...</td>\n",
       "    </tr>\n",
       "    <tr>\n",
       "      <th>2</th>\n",
       "      <td>Mon Jul 31 00:18:03 +0000 2017</td>\n",
       "      <td>891815181378084864</td>\n",
       "      <td>This is Archie. He is a rare Norwegian Pouncin...</td>\n",
       "      <td>22863</td>\n",
       "      <td>3640</td>\n",
       "      <td>NaN</td>\n",
       "      <td>4196983835</td>\n",
       "      <td>&lt;a href=\"http://twitter.com/download/iphone\" r...</td>\n",
       "      <td>https://twitter.com/dog_rates/status/891815181...</td>\n",
       "    </tr>\n",
       "    <tr>\n",
       "      <th>3</th>\n",
       "      <td>Sun Jul 30 15:58:51 +0000 2017</td>\n",
       "      <td>891689557279858688</td>\n",
       "      <td>This is Darla. She commenced a snooze mid meal...</td>\n",
       "      <td>38424</td>\n",
       "      <td>7590</td>\n",
       "      <td>NaN</td>\n",
       "      <td>4196983835</td>\n",
       "      <td>&lt;a href=\"http://twitter.com/download/iphone\" r...</td>\n",
       "      <td>https://twitter.com/dog_rates/status/891689557...</td>\n",
       "    </tr>\n",
       "    <tr>\n",
       "      <th>4</th>\n",
       "      <td>Sat Jul 29 16:00:24 +0000 2017</td>\n",
       "      <td>891327558926688256</td>\n",
       "      <td>This is Franklin. He would like you to stop ca...</td>\n",
       "      <td>36679</td>\n",
       "      <td>8161</td>\n",
       "      <td>NaN</td>\n",
       "      <td>4196983835</td>\n",
       "      <td>&lt;a href=\"http://twitter.com/download/iphone\" r...</td>\n",
       "      <td>https://twitter.com/dog_rates/status/891327558...</td>\n",
       "    </tr>\n",
       "  </tbody>\n",
       "</table>\n",
       "</div>"
      ],
      "text/plain": [
       "                       created_at            tweet_id  \\\n",
       "0  Tue Aug 01 16:23:56 +0000 2017  892420643555336193   \n",
       "1  Tue Aug 01 00:17:27 +0000 2017  892177421306343426   \n",
       "2  Mon Jul 31 00:18:03 +0000 2017  891815181378084864   \n",
       "3  Sun Jul 30 15:58:51 +0000 2017  891689557279858688   \n",
       "4  Sat Jul 29 16:00:24 +0000 2017  891327558926688256   \n",
       "\n",
       "                                           full_text  favorites_cnt  \\\n",
       "0  This is Phineas. He's a mystical boy. Only eve...          35155   \n",
       "1  This is Tilly. She's just checking pup on you....          30413   \n",
       "2  This is Archie. He is a rare Norwegian Pouncin...          22863   \n",
       "3  This is Darla. She commenced a snooze mid meal...          38424   \n",
       "4  This is Franklin. He would like you to stop ca...          36679   \n",
       "\n",
       "   retweets_cnt  is_favorited     user_id  \\\n",
       "0          7413           NaN  4196983835   \n",
       "1          5515           NaN  4196983835   \n",
       "2          3640           NaN  4196983835   \n",
       "3          7590           NaN  4196983835   \n",
       "4          8161           NaN  4196983835   \n",
       "\n",
       "                                              source  \\\n",
       "0  <a href=\"http://twitter.com/download/iphone\" r...   \n",
       "1  <a href=\"http://twitter.com/download/iphone\" r...   \n",
       "2  <a href=\"http://twitter.com/download/iphone\" r...   \n",
       "3  <a href=\"http://twitter.com/download/iphone\" r...   \n",
       "4  <a href=\"http://twitter.com/download/iphone\" r...   \n",
       "\n",
       "                                             img_url  \n",
       "0  https://twitter.com/dog_rates/status/892420643...  \n",
       "1  https://twitter.com/dog_rates/status/892177421...  \n",
       "2  https://twitter.com/dog_rates/status/891815181...  \n",
       "3  https://twitter.com/dog_rates/status/891689557...  \n",
       "4  https://twitter.com/dog_rates/status/891327558...  "
      ]
     },
     "execution_count": 776,
     "metadata": {},
     "output_type": "execute_result"
    }
   ],
   "source": [
    "df_tweet_api_clean.head()"
   ]
  },
  {
   "cell_type": "markdown",
   "metadata": {},
   "source": [
    "**Data quality issue #11. Created_at is stored as timestamp instead of date and tweet_id as integer**"
   ]
  },
  {
   "cell_type": "markdown",
   "metadata": {},
   "source": [
    "#### Define"
   ]
  },
  {
   "cell_type": "markdown",
   "metadata": {},
   "source": [
    "Change format of variables 'created_at' and tweet_id . From timestamp to date and from int to string"
   ]
  },
  {
   "cell_type": "markdown",
   "metadata": {},
   "source": [
    "#### Code "
   ]
  },
  {
   "cell_type": "code",
   "execution_count": 777,
   "metadata": {},
   "outputs": [],
   "source": [
    "df_tweet_api_clean['time'] = pd.to_datetime(df_tweet_api_clean['created_at'])\n",
    "df_tweet_api_clean['creation_date'] = df_tweet_api_clean['time'].dt.date\n",
    "df_tweet_api_clean['tweet_id'] = df_tweet_api_clean['tweet_id'].astype(str)"
   ]
  },
  {
   "cell_type": "markdown",
   "metadata": {},
   "source": [
    "#### Test"
   ]
  },
  {
   "cell_type": "code",
   "execution_count": 778,
   "metadata": {},
   "outputs": [
    {
     "name": "stdout",
     "output_type": "stream",
     "text": [
      "<class 'pandas.core.frame.DataFrame'>\n",
      "RangeIndex: 2168 entries, 0 to 2167\n",
      "Data columns (total 11 columns):\n",
      " #   Column         Non-Null Count  Dtype              \n",
      "---  ------         --------------  -----              \n",
      " 0   created_at     2168 non-null   object             \n",
      " 1   tweet_id       2168 non-null   object             \n",
      " 2   full_text      2168 non-null   object             \n",
      " 3   favorites_cnt  2168 non-null   int64              \n",
      " 4   retweets_cnt   2168 non-null   int64              \n",
      " 5   is_favorited   0 non-null      float64            \n",
      " 6   user_id        2168 non-null   int64              \n",
      " 7   source         2168 non-null   object             \n",
      " 8   img_url        2168 non-null   object             \n",
      " 9   time           2168 non-null   datetime64[ns, UTC]\n",
      " 10  creation_date  2168 non-null   object             \n",
      "dtypes: datetime64[ns, UTC](1), float64(1), int64(3), object(6)\n",
      "memory usage: 186.4+ KB\n"
     ]
    }
   ],
   "source": [
    "df_tweet_api_clean.info(3)"
   ]
  },
  {
   "cell_type": "code",
   "execution_count": 779,
   "metadata": {},
   "outputs": [
    {
     "data": {
      "text/html": [
       "<div>\n",
       "<style scoped>\n",
       "    .dataframe tbody tr th:only-of-type {\n",
       "        vertical-align: middle;\n",
       "    }\n",
       "\n",
       "    .dataframe tbody tr th {\n",
       "        vertical-align: top;\n",
       "    }\n",
       "\n",
       "    .dataframe thead th {\n",
       "        text-align: right;\n",
       "    }\n",
       "</style>\n",
       "<table border=\"1\" class=\"dataframe\">\n",
       "  <thead>\n",
       "    <tr style=\"text-align: right;\">\n",
       "      <th></th>\n",
       "      <th>tweet_id</th>\n",
       "      <th>full_text</th>\n",
       "      <th>favorites_cnt</th>\n",
       "      <th>retweets_cnt</th>\n",
       "      <th>is_favorited</th>\n",
       "      <th>user_id</th>\n",
       "      <th>source</th>\n",
       "      <th>img_url</th>\n",
       "      <th>creation_date</th>\n",
       "    </tr>\n",
       "  </thead>\n",
       "  <tbody>\n",
       "    <tr>\n",
       "      <th>0</th>\n",
       "      <td>892420643555336193</td>\n",
       "      <td>This is Phineas. He's a mystical boy. Only eve...</td>\n",
       "      <td>35155</td>\n",
       "      <td>7413</td>\n",
       "      <td>NaN</td>\n",
       "      <td>4196983835</td>\n",
       "      <td>&lt;a href=\"http://twitter.com/download/iphone\" r...</td>\n",
       "      <td>https://twitter.com/dog_rates/status/892420643...</td>\n",
       "      <td>2017-08-01</td>\n",
       "    </tr>\n",
       "    <tr>\n",
       "      <th>1</th>\n",
       "      <td>892177421306343426</td>\n",
       "      <td>This is Tilly. She's just checking pup on you....</td>\n",
       "      <td>30413</td>\n",
       "      <td>5515</td>\n",
       "      <td>NaN</td>\n",
       "      <td>4196983835</td>\n",
       "      <td>&lt;a href=\"http://twitter.com/download/iphone\" r...</td>\n",
       "      <td>https://twitter.com/dog_rates/status/892177421...</td>\n",
       "      <td>2017-08-01</td>\n",
       "    </tr>\n",
       "    <tr>\n",
       "      <th>2</th>\n",
       "      <td>891815181378084864</td>\n",
       "      <td>This is Archie. He is a rare Norwegian Pouncin...</td>\n",
       "      <td>22863</td>\n",
       "      <td>3640</td>\n",
       "      <td>NaN</td>\n",
       "      <td>4196983835</td>\n",
       "      <td>&lt;a href=\"http://twitter.com/download/iphone\" r...</td>\n",
       "      <td>https://twitter.com/dog_rates/status/891815181...</td>\n",
       "      <td>2017-07-31</td>\n",
       "    </tr>\n",
       "  </tbody>\n",
       "</table>\n",
       "</div>"
      ],
      "text/plain": [
       "             tweet_id                                          full_text  \\\n",
       "0  892420643555336193  This is Phineas. He's a mystical boy. Only eve...   \n",
       "1  892177421306343426  This is Tilly. She's just checking pup on you....   \n",
       "2  891815181378084864  This is Archie. He is a rare Norwegian Pouncin...   \n",
       "\n",
       "   favorites_cnt  retweets_cnt  is_favorited     user_id  \\\n",
       "0          35155          7413           NaN  4196983835   \n",
       "1          30413          5515           NaN  4196983835   \n",
       "2          22863          3640           NaN  4196983835   \n",
       "\n",
       "                                              source  \\\n",
       "0  <a href=\"http://twitter.com/download/iphone\" r...   \n",
       "1  <a href=\"http://twitter.com/download/iphone\" r...   \n",
       "2  <a href=\"http://twitter.com/download/iphone\" r...   \n",
       "\n",
       "                                             img_url creation_date  \n",
       "0  https://twitter.com/dog_rates/status/892420643...    2017-08-01  \n",
       "1  https://twitter.com/dog_rates/status/892177421...    2017-08-01  \n",
       "2  https://twitter.com/dog_rates/status/891815181...    2017-07-31  "
      ]
     },
     "execution_count": 779,
     "metadata": {},
     "output_type": "execute_result"
    }
   ],
   "source": [
    "# remove unused date columns\n",
    "df_tweet_api_clean = df_tweet_api_clean.drop(['time','created_at'],axis=1)\n",
    "df_tweet_api_clean.head(3)"
   ]
  },
  {
   "cell_type": "markdown",
   "metadata": {},
   "source": [
    "**Data quality issue #12. Inacurrate 'ratings' in original file provided**"
   ]
  },
  {
   "cell_type": "markdown",
   "metadata": {},
   "source": [
    "#### Define"
   ]
  },
  {
   "cell_type": "markdown",
   "metadata": {},
   "source": [
    "Fetch rating numerator and denominator from 'full_text' data retrived via api"
   ]
  },
  {
   "cell_type": "markdown",
   "metadata": {},
   "source": [
    "#### Code"
   ]
  },
  {
   "cell_type": "code",
   "execution_count": 780,
   "metadata": {},
   "outputs": [],
   "source": [
    "df_rating_clean = df_tweet_api_clean.full_text.str.extract(r'((?:\\d+\\.)?\\d+)\\/(\\d+)',expand=True)\n",
    "df_tweet_api_clean['rating_numerator'] = df_rating_clean[0]\n",
    "df_tweet_api_clean['rating_denominator'] = df_rating_clean[1]"
   ]
  },
  {
   "cell_type": "markdown",
   "metadata": {},
   "source": [
    "#### Test"
   ]
  },
  {
   "cell_type": "code",
   "execution_count": 781,
   "metadata": {},
   "outputs": [
    {
     "data": {
      "text/html": [
       "<div>\n",
       "<style scoped>\n",
       "    .dataframe tbody tr th:only-of-type {\n",
       "        vertical-align: middle;\n",
       "    }\n",
       "\n",
       "    .dataframe tbody tr th {\n",
       "        vertical-align: top;\n",
       "    }\n",
       "\n",
       "    .dataframe thead th {\n",
       "        text-align: right;\n",
       "    }\n",
       "</style>\n",
       "<table border=\"1\" class=\"dataframe\">\n",
       "  <thead>\n",
       "    <tr style=\"text-align: right;\">\n",
       "      <th></th>\n",
       "      <th>tweet_id</th>\n",
       "      <th>full_text</th>\n",
       "      <th>favorites_cnt</th>\n",
       "      <th>retweets_cnt</th>\n",
       "      <th>is_favorited</th>\n",
       "      <th>user_id</th>\n",
       "      <th>source</th>\n",
       "      <th>img_url</th>\n",
       "      <th>creation_date</th>\n",
       "      <th>rating_numerator</th>\n",
       "      <th>rating_denominator</th>\n",
       "    </tr>\n",
       "  </thead>\n",
       "  <tbody>\n",
       "    <tr>\n",
       "      <th>0</th>\n",
       "      <td>892420643555336193</td>\n",
       "      <td>This is Phineas. He's a mystical boy. Only eve...</td>\n",
       "      <td>35155</td>\n",
       "      <td>7413</td>\n",
       "      <td>NaN</td>\n",
       "      <td>4196983835</td>\n",
       "      <td>&lt;a href=\"http://twitter.com/download/iphone\" r...</td>\n",
       "      <td>https://twitter.com/dog_rates/status/892420643...</td>\n",
       "      <td>2017-08-01</td>\n",
       "      <td>13</td>\n",
       "      <td>10</td>\n",
       "    </tr>\n",
       "    <tr>\n",
       "      <th>1</th>\n",
       "      <td>892177421306343426</td>\n",
       "      <td>This is Tilly. She's just checking pup on you....</td>\n",
       "      <td>30413</td>\n",
       "      <td>5515</td>\n",
       "      <td>NaN</td>\n",
       "      <td>4196983835</td>\n",
       "      <td>&lt;a href=\"http://twitter.com/download/iphone\" r...</td>\n",
       "      <td>https://twitter.com/dog_rates/status/892177421...</td>\n",
       "      <td>2017-08-01</td>\n",
       "      <td>13</td>\n",
       "      <td>10</td>\n",
       "    </tr>\n",
       "    <tr>\n",
       "      <th>2</th>\n",
       "      <td>891815181378084864</td>\n",
       "      <td>This is Archie. He is a rare Norwegian Pouncin...</td>\n",
       "      <td>22863</td>\n",
       "      <td>3640</td>\n",
       "      <td>NaN</td>\n",
       "      <td>4196983835</td>\n",
       "      <td>&lt;a href=\"http://twitter.com/download/iphone\" r...</td>\n",
       "      <td>https://twitter.com/dog_rates/status/891815181...</td>\n",
       "      <td>2017-07-31</td>\n",
       "      <td>12</td>\n",
       "      <td>10</td>\n",
       "    </tr>\n",
       "    <tr>\n",
       "      <th>3</th>\n",
       "      <td>891689557279858688</td>\n",
       "      <td>This is Darla. She commenced a snooze mid meal...</td>\n",
       "      <td>38424</td>\n",
       "      <td>7590</td>\n",
       "      <td>NaN</td>\n",
       "      <td>4196983835</td>\n",
       "      <td>&lt;a href=\"http://twitter.com/download/iphone\" r...</td>\n",
       "      <td>https://twitter.com/dog_rates/status/891689557...</td>\n",
       "      <td>2017-07-30</td>\n",
       "      <td>13</td>\n",
       "      <td>10</td>\n",
       "    </tr>\n",
       "    <tr>\n",
       "      <th>4</th>\n",
       "      <td>891327558926688256</td>\n",
       "      <td>This is Franklin. He would like you to stop ca...</td>\n",
       "      <td>36679</td>\n",
       "      <td>8161</td>\n",
       "      <td>NaN</td>\n",
       "      <td>4196983835</td>\n",
       "      <td>&lt;a href=\"http://twitter.com/download/iphone\" r...</td>\n",
       "      <td>https://twitter.com/dog_rates/status/891327558...</td>\n",
       "      <td>2017-07-29</td>\n",
       "      <td>12</td>\n",
       "      <td>10</td>\n",
       "    </tr>\n",
       "  </tbody>\n",
       "</table>\n",
       "</div>"
      ],
      "text/plain": [
       "             tweet_id                                          full_text  \\\n",
       "0  892420643555336193  This is Phineas. He's a mystical boy. Only eve...   \n",
       "1  892177421306343426  This is Tilly. She's just checking pup on you....   \n",
       "2  891815181378084864  This is Archie. He is a rare Norwegian Pouncin...   \n",
       "3  891689557279858688  This is Darla. She commenced a snooze mid meal...   \n",
       "4  891327558926688256  This is Franklin. He would like you to stop ca...   \n",
       "\n",
       "   favorites_cnt  retweets_cnt  is_favorited     user_id  \\\n",
       "0          35155          7413           NaN  4196983835   \n",
       "1          30413          5515           NaN  4196983835   \n",
       "2          22863          3640           NaN  4196983835   \n",
       "3          38424          7590           NaN  4196983835   \n",
       "4          36679          8161           NaN  4196983835   \n",
       "\n",
       "                                              source  \\\n",
       "0  <a href=\"http://twitter.com/download/iphone\" r...   \n",
       "1  <a href=\"http://twitter.com/download/iphone\" r...   \n",
       "2  <a href=\"http://twitter.com/download/iphone\" r...   \n",
       "3  <a href=\"http://twitter.com/download/iphone\" r...   \n",
       "4  <a href=\"http://twitter.com/download/iphone\" r...   \n",
       "\n",
       "                                             img_url creation_date  \\\n",
       "0  https://twitter.com/dog_rates/status/892420643...    2017-08-01   \n",
       "1  https://twitter.com/dog_rates/status/892177421...    2017-08-01   \n",
       "2  https://twitter.com/dog_rates/status/891815181...    2017-07-31   \n",
       "3  https://twitter.com/dog_rates/status/891689557...    2017-07-30   \n",
       "4  https://twitter.com/dog_rates/status/891327558...    2017-07-29   \n",
       "\n",
       "  rating_numerator rating_denominator  \n",
       "0               13                 10  \n",
       "1               13                 10  \n",
       "2               12                 10  \n",
       "3               13                 10  \n",
       "4               12                 10  "
      ]
     },
     "execution_count": 781,
     "metadata": {},
     "output_type": "execute_result"
    }
   ],
   "source": [
    "df_tweet_api_clean.head()"
   ]
  },
  {
   "cell_type": "code",
   "execution_count": 782,
   "metadata": {},
   "outputs": [
    {
     "name": "stdout",
     "output_type": "stream",
     "text": [
      "<class 'pandas.core.frame.DataFrame'>\n",
      "RangeIndex: 2168 entries, 0 to 2167\n",
      "Data columns (total 11 columns):\n",
      " #   Column              Non-Null Count  Dtype  \n",
      "---  ------              --------------  -----  \n",
      " 0   tweet_id            2168 non-null   object \n",
      " 1   full_text           2168 non-null   object \n",
      " 2   favorites_cnt       2168 non-null   int64  \n",
      " 3   retweets_cnt        2168 non-null   int64  \n",
      " 4   is_favorited        0 non-null      float64\n",
      " 5   user_id             2168 non-null   int64  \n",
      " 6   source              2168 non-null   object \n",
      " 7   img_url             2168 non-null   object \n",
      " 8   creation_date       2168 non-null   object \n",
      " 9   rating_numerator    2168 non-null   object \n",
      " 10  rating_denominator  2168 non-null   object \n",
      "dtypes: float64(1), int64(3), object(7)\n",
      "memory usage: 186.4+ KB\n"
     ]
    }
   ],
   "source": [
    "df_tweet_api_clean.info()"
   ]
  },
  {
   "cell_type": "markdown",
   "metadata": {},
   "source": [
    "### At the end of the cleaning phase, we end up with:\n",
    "> df_tweet_api_clean: fetch tweet infos from tweepy for tweetid provided in original file. Data from api is only for original tweets and filtered for columns only that we ll need for the rest of the analysis.\n",
    "\n",
    "> df_img_preds_clean: that was reshaped to solve tidiness issue and updated with most accurate data fetched we got from twitter api\n",
    "\n",
    "> df_origina_tweet_clean: that was reshaped to solve tidiness issue and quality issues mostly due to incorrect datatypes."
   ]
  },
  {
   "cell_type": "code",
   "execution_count": 783,
   "metadata": {},
   "outputs": [
    {
     "name": "stdout",
     "output_type": "stream",
     "text": [
      "Empty DataFrame\n",
      "Columns: [tweet_id, full_text, favorites_cnt, retweets_cnt, is_favorited, user_id, source, img_url, creation_date, rating_numerator, rating_denominator]\n",
      "Index: []\n",
      "Empty DataFrame\n",
      "Columns: [img_num, algorithm, predictions, algo_confidence, tweet_id, preds_is_dog, img_url]\n",
      "Index: []\n"
     ]
    }
   ],
   "source": [
    "# Check for duplicates in df we are about to merge\n",
    "df_tweet_api_clean_dups = df_tweet_api_clean[df_tweet_api_clean.duplicated()]\n",
    "print(df_tweet_api_clean_dups)\n",
    "\n",
    "df_img_preds_clean_dups = df_img_preds_clean[df_img_preds_clean.duplicated()]\n",
    "print(df_img_preds_clean_dups)"
   ]
  },
  {
   "cell_type": "markdown",
   "metadata": {},
   "source": [
    "<a id='results'></a>\n",
    "# 4. Storing, Analyzing, and Visualizing wrangled data"
   ]
  },
  {
   "cell_type": "markdown",
   "metadata": {},
   "source": [
    "<a id='wrangled_files' ></a>\n",
    "### 4.1 Generate output file(s) after wrangled efforts"
   ]
  },
  {
   "cell_type": "code",
   "execution_count": 784,
   "metadata": {},
   "outputs": [],
   "source": [
    "# Keep only the prediction with best algorithm confidence\n",
    "df_img_preds_clean_algo = df_img_preds_clean.sort_values(by=['tweet_id','algo_confidence'],ascending=True).drop_duplicates(subset=['tweet_id'],keep='last')\n"
   ]
  },
  {
   "cell_type": "code",
   "execution_count": 785,
   "metadata": {
    "scrolled": true
   },
   "outputs": [
    {
     "data": {
      "text/html": [
       "<div>\n",
       "<style scoped>\n",
       "    .dataframe tbody tr th:only-of-type {\n",
       "        vertical-align: middle;\n",
       "    }\n",
       "\n",
       "    .dataframe tbody tr th {\n",
       "        vertical-align: top;\n",
       "    }\n",
       "\n",
       "    .dataframe thead th {\n",
       "        text-align: right;\n",
       "    }\n",
       "</style>\n",
       "<table border=\"1\" class=\"dataframe\">\n",
       "  <thead>\n",
       "    <tr style=\"text-align: right;\">\n",
       "      <th></th>\n",
       "      <th>img_num</th>\n",
       "      <th>algorithm</th>\n",
       "      <th>predictions</th>\n",
       "      <th>algo_confidence</th>\n",
       "      <th>tweet_id</th>\n",
       "      <th>preds_is_dog</th>\n",
       "      <th>img_url</th>\n",
       "    </tr>\n",
       "  </thead>\n",
       "  <tbody>\n",
       "    <tr>\n",
       "      <th>0</th>\n",
       "      <td>1</td>\n",
       "      <td>p1</td>\n",
       "      <td>welsh_springer_spaniel</td>\n",
       "      <td>0.465074</td>\n",
       "      <td>666020888022790149</td>\n",
       "      <td>True</td>\n",
       "      <td>https://twitter.com/dog_rates/status/666020888...</td>\n",
       "    </tr>\n",
       "    <tr>\n",
       "      <th>1</th>\n",
       "      <td>1</td>\n",
       "      <td>p2</td>\n",
       "      <td>collie</td>\n",
       "      <td>0.156665</td>\n",
       "      <td>666020888022790149</td>\n",
       "      <td>True</td>\n",
       "      <td>https://twitter.com/dog_rates/status/666020888...</td>\n",
       "    </tr>\n",
       "    <tr>\n",
       "      <th>2</th>\n",
       "      <td>1</td>\n",
       "      <td>p3</td>\n",
       "      <td>shetland_sheepdog</td>\n",
       "      <td>0.061428</td>\n",
       "      <td>666020888022790149</td>\n",
       "      <td>True</td>\n",
       "      <td>https://twitter.com/dog_rates/status/666020888...</td>\n",
       "    </tr>\n",
       "    <tr>\n",
       "      <th>3</th>\n",
       "      <td>1</td>\n",
       "      <td>p1</td>\n",
       "      <td>redbone</td>\n",
       "      <td>0.506826</td>\n",
       "      <td>666029285002620928</td>\n",
       "      <td>True</td>\n",
       "      <td>https://twitter.com/dog_rates/status/666029285...</td>\n",
       "    </tr>\n",
       "    <tr>\n",
       "      <th>4</th>\n",
       "      <td>1</td>\n",
       "      <td>p2</td>\n",
       "      <td>miniature_pinscher</td>\n",
       "      <td>0.074192</td>\n",
       "      <td>666029285002620928</td>\n",
       "      <td>True</td>\n",
       "      <td>https://twitter.com/dog_rates/status/666029285...</td>\n",
       "    </tr>\n",
       "    <tr>\n",
       "      <th>...</th>\n",
       "      <td>...</td>\n",
       "      <td>...</td>\n",
       "      <td>...</td>\n",
       "      <td>...</td>\n",
       "      <td>...</td>\n",
       "      <td>...</td>\n",
       "      <td>...</td>\n",
       "    </tr>\n",
       "    <tr>\n",
       "      <th>5955</th>\n",
       "      <td>1</td>\n",
       "      <td>p1</td>\n",
       "      <td>chihuahua</td>\n",
       "      <td>0.323581</td>\n",
       "      <td>892177421306343426</td>\n",
       "      <td>True</td>\n",
       "      <td>https://twitter.com/dog_rates/status/892177421...</td>\n",
       "    </tr>\n",
       "    <tr>\n",
       "      <th>5957</th>\n",
       "      <td>1</td>\n",
       "      <td>p3</td>\n",
       "      <td>papillon</td>\n",
       "      <td>0.068957</td>\n",
       "      <td>892177421306343426</td>\n",
       "      <td>True</td>\n",
       "      <td>https://twitter.com/dog_rates/status/892177421...</td>\n",
       "    </tr>\n",
       "    <tr>\n",
       "      <th>5959</th>\n",
       "      <td>1</td>\n",
       "      <td>p2</td>\n",
       "      <td>bagel</td>\n",
       "      <td>0.085851</td>\n",
       "      <td>892420643555336193</td>\n",
       "      <td>False</td>\n",
       "      <td>https://twitter.com/dog_rates/status/892420643...</td>\n",
       "    </tr>\n",
       "    <tr>\n",
       "      <th>5958</th>\n",
       "      <td>1</td>\n",
       "      <td>p1</td>\n",
       "      <td>orange</td>\n",
       "      <td>0.097049</td>\n",
       "      <td>892420643555336193</td>\n",
       "      <td>False</td>\n",
       "      <td>https://twitter.com/dog_rates/status/892420643...</td>\n",
       "    </tr>\n",
       "    <tr>\n",
       "      <th>5960</th>\n",
       "      <td>1</td>\n",
       "      <td>p3</td>\n",
       "      <td>banana</td>\n",
       "      <td>0.076110</td>\n",
       "      <td>892420643555336193</td>\n",
       "      <td>False</td>\n",
       "      <td>https://twitter.com/dog_rates/status/892420643...</td>\n",
       "    </tr>\n",
       "  </tbody>\n",
       "</table>\n",
       "<p>5961 rows × 7 columns</p>\n",
       "</div>"
      ],
      "text/plain": [
       "      img_num algorithm             predictions  algo_confidence  \\\n",
       "0           1        p1  welsh_springer_spaniel         0.465074   \n",
       "1           1        p2                  collie         0.156665   \n",
       "2           1        p3       shetland_sheepdog         0.061428   \n",
       "3           1        p1                 redbone         0.506826   \n",
       "4           1        p2      miniature_pinscher         0.074192   \n",
       "...       ...       ...                     ...              ...   \n",
       "5955        1        p1               chihuahua         0.323581   \n",
       "5957        1        p3                papillon         0.068957   \n",
       "5959        1        p2                   bagel         0.085851   \n",
       "5958        1        p1                  orange         0.097049   \n",
       "5960        1        p3                  banana         0.076110   \n",
       "\n",
       "                tweet_id  preds_is_dog  \\\n",
       "0     666020888022790149          True   \n",
       "1     666020888022790149          True   \n",
       "2     666020888022790149          True   \n",
       "3     666029285002620928          True   \n",
       "4     666029285002620928          True   \n",
       "...                  ...           ...   \n",
       "5955  892177421306343426          True   \n",
       "5957  892177421306343426          True   \n",
       "5959  892420643555336193         False   \n",
       "5958  892420643555336193         False   \n",
       "5960  892420643555336193         False   \n",
       "\n",
       "                                                img_url  \n",
       "0     https://twitter.com/dog_rates/status/666020888...  \n",
       "1     https://twitter.com/dog_rates/status/666020888...  \n",
       "2     https://twitter.com/dog_rates/status/666020888...  \n",
       "3     https://twitter.com/dog_rates/status/666029285...  \n",
       "4     https://twitter.com/dog_rates/status/666029285...  \n",
       "...                                                 ...  \n",
       "5955  https://twitter.com/dog_rates/status/892177421...  \n",
       "5957  https://twitter.com/dog_rates/status/892177421...  \n",
       "5959  https://twitter.com/dog_rates/status/892420643...  \n",
       "5958  https://twitter.com/dog_rates/status/892420643...  \n",
       "5960  https://twitter.com/dog_rates/status/892420643...  \n",
       "\n",
       "[5961 rows x 7 columns]"
      ]
     },
     "execution_count": 785,
     "metadata": {},
     "output_type": "execute_result"
    }
   ],
   "source": [
    "# See the dataset ordered by tweetid - 1 tweet can get up to 3 predictions.\n",
    "df_img_preds_clean.sort_values(by='tweet_id')"
   ]
  },
  {
   "cell_type": "markdown",
   "metadata": {},
   "source": [
    "##### Droping all unnecessary columns before merger"
   ]
  },
  {
   "cell_type": "code",
   "execution_count": 786,
   "metadata": {
    "scrolled": true
   },
   "outputs": [
    {
     "data": {
      "text/html": [
       "<div>\n",
       "<style scoped>\n",
       "    .dataframe tbody tr th:only-of-type {\n",
       "        vertical-align: middle;\n",
       "    }\n",
       "\n",
       "    .dataframe tbody tr th {\n",
       "        vertical-align: top;\n",
       "    }\n",
       "\n",
       "    .dataframe thead th {\n",
       "        text-align: right;\n",
       "    }\n",
       "</style>\n",
       "<table border=\"1\" class=\"dataframe\">\n",
       "  <thead>\n",
       "    <tr style=\"text-align: right;\">\n",
       "      <th></th>\n",
       "      <th>tweet_id</th>\n",
       "      <th>in_reply_to_status_id</th>\n",
       "      <th>in_reply_to_user_id</th>\n",
       "      <th>timestamp</th>\n",
       "      <th>source</th>\n",
       "      <th>text</th>\n",
       "      <th>retweeted_status_id</th>\n",
       "      <th>retweeted_status_user_id</th>\n",
       "      <th>retweeted_status_timestamp</th>\n",
       "      <th>expanded_urls</th>\n",
       "      <th>rating_numerator</th>\n",
       "      <th>rating_denominator</th>\n",
       "      <th>name</th>\n",
       "      <th>dog_growth_stage</th>\n",
       "    </tr>\n",
       "  </thead>\n",
       "  <tbody>\n",
       "    <tr>\n",
       "      <th>4048</th>\n",
       "      <td>718234618122661888</td>\n",
       "      <td>nan</td>\n",
       "      <td>nan</td>\n",
       "      <td>2016-04-08 00:30:51 +0000</td>\n",
       "      <td>&lt;a href=\"http://twitter.com/download/iphone\" r...</td>\n",
       "      <td>This is Suki. She was born with a blurry tail ...</td>\n",
       "      <td>NaN</td>\n",
       "      <td>NaN</td>\n",
       "      <td>NaN</td>\n",
       "      <td>https://twitter.com/dog_rates/status/718234618...</td>\n",
       "      <td>11.0</td>\n",
       "      <td>10.0</td>\n",
       "      <td>Suki</td>\n",
       "      <td>None</td>\n",
       "    </tr>\n",
       "    <tr>\n",
       "      <th>2854</th>\n",
       "      <td>760641137271070720</td>\n",
       "      <td>nan</td>\n",
       "      <td>nan</td>\n",
       "      <td>2016-08-03 00:59:13 +0000</td>\n",
       "      <td>&lt;a href=\"http://twitter.com/download/iphone\" r...</td>\n",
       "      <td>This is Theo. He can walk on water. Still comi...</td>\n",
       "      <td>NaN</td>\n",
       "      <td>NaN</td>\n",
       "      <td>NaN</td>\n",
       "      <td>https://twitter.com/dog_rates/status/760641137...</td>\n",
       "      <td>12.0</td>\n",
       "      <td>10.0</td>\n",
       "      <td>Theo</td>\n",
       "      <td>None</td>\n",
       "    </tr>\n",
       "    <tr>\n",
       "      <th>4611</th>\n",
       "      <td>705591895322394625</td>\n",
       "      <td>nan</td>\n",
       "      <td>nan</td>\n",
       "      <td>2016-03-04 03:13:11 +0000</td>\n",
       "      <td>&lt;a href=\"http://twitter.com/download/iphone\" r...</td>\n",
       "      <td>\"Ma'am, for the last time, I'm not authorized ...</td>\n",
       "      <td>NaN</td>\n",
       "      <td>NaN</td>\n",
       "      <td>NaN</td>\n",
       "      <td>https://twitter.com/dog_rates/status/705591895...</td>\n",
       "      <td>11.0</td>\n",
       "      <td>10.0</td>\n",
       "      <td>None</td>\n",
       "      <td>None</td>\n",
       "    </tr>\n",
       "    <tr>\n",
       "      <th>8471</th>\n",
       "      <td>667070482143944705</td>\n",
       "      <td>4196983835.0</td>\n",
       "      <td>4196983835.0</td>\n",
       "      <td>2015-11-18 20:02:51 +0000</td>\n",
       "      <td>&lt;a href=\"http://twitter.com/download/iphone\" r...</td>\n",
       "      <td>After much debate this dog is being upgraded t...</td>\n",
       "      <td>NaN</td>\n",
       "      <td>NaN</td>\n",
       "      <td>NaN</td>\n",
       "      <td>NaN</td>\n",
       "      <td>10.0</td>\n",
       "      <td>10.0</td>\n",
       "      <td>None</td>\n",
       "      <td>None</td>\n",
       "    </tr>\n",
       "    <tr>\n",
       "      <th>4666</th>\n",
       "      <td>704491224099647488</td>\n",
       "      <td>28785486.0</td>\n",
       "      <td>28785486.0</td>\n",
       "      <td>2016-03-01 02:19:31 +0000</td>\n",
       "      <td>&lt;a href=\"http://twitter.com/download/iphone\" r...</td>\n",
       "      <td>13/10 hero af\\n@ABC</td>\n",
       "      <td>NaN</td>\n",
       "      <td>NaN</td>\n",
       "      <td>NaN</td>\n",
       "      <td>NaN</td>\n",
       "      <td>13.0</td>\n",
       "      <td>10.0</td>\n",
       "      <td>None</td>\n",
       "      <td>None</td>\n",
       "    </tr>\n",
       "  </tbody>\n",
       "</table>\n",
       "</div>"
      ],
      "text/plain": [
       "                tweet_id in_reply_to_status_id in_reply_to_user_id  \\\n",
       "4048  718234618122661888                   nan                 nan   \n",
       "2854  760641137271070720                   nan                 nan   \n",
       "4611  705591895322394625                   nan                 nan   \n",
       "8471  667070482143944705          4196983835.0        4196983835.0   \n",
       "4666  704491224099647488            28785486.0          28785486.0   \n",
       "\n",
       "                      timestamp  \\\n",
       "4048  2016-04-08 00:30:51 +0000   \n",
       "2854  2016-08-03 00:59:13 +0000   \n",
       "4611  2016-03-04 03:13:11 +0000   \n",
       "8471  2015-11-18 20:02:51 +0000   \n",
       "4666  2016-03-01 02:19:31 +0000   \n",
       "\n",
       "                                                 source  \\\n",
       "4048  <a href=\"http://twitter.com/download/iphone\" r...   \n",
       "2854  <a href=\"http://twitter.com/download/iphone\" r...   \n",
       "4611  <a href=\"http://twitter.com/download/iphone\" r...   \n",
       "8471  <a href=\"http://twitter.com/download/iphone\" r...   \n",
       "4666  <a href=\"http://twitter.com/download/iphone\" r...   \n",
       "\n",
       "                                                   text  retweeted_status_id  \\\n",
       "4048  This is Suki. She was born with a blurry tail ...                  NaN   \n",
       "2854  This is Theo. He can walk on water. Still comi...                  NaN   \n",
       "4611  \"Ma'am, for the last time, I'm not authorized ...                  NaN   \n",
       "8471  After much debate this dog is being upgraded t...                  NaN   \n",
       "4666                                13/10 hero af\\n@ABC                  NaN   \n",
       "\n",
       "      retweeted_status_user_id retweeted_status_timestamp  \\\n",
       "4048                       NaN                        NaN   \n",
       "2854                       NaN                        NaN   \n",
       "4611                       NaN                        NaN   \n",
       "8471                       NaN                        NaN   \n",
       "4666                       NaN                        NaN   \n",
       "\n",
       "                                          expanded_urls  rating_numerator  \\\n",
       "4048  https://twitter.com/dog_rates/status/718234618...              11.0   \n",
       "2854  https://twitter.com/dog_rates/status/760641137...              12.0   \n",
       "4611  https://twitter.com/dog_rates/status/705591895...              11.0   \n",
       "8471                                                NaN              10.0   \n",
       "4666                                                NaN              13.0   \n",
       "\n",
       "      rating_denominator  name dog_growth_stage  \n",
       "4048                10.0  Suki             None  \n",
       "2854                10.0  Theo             None  \n",
       "4611                10.0  None             None  \n",
       "8471                10.0  None             None  \n",
       "4666                10.0  None             None  "
      ]
     },
     "execution_count": 786,
     "metadata": {},
     "output_type": "execute_result"
    }
   ],
   "source": [
    "df_original_tweets_clean.sample(5)"
   ]
  },
  {
   "cell_type": "code",
   "execution_count": 787,
   "metadata": {},
   "outputs": [],
   "source": [
    "df_original_tweets_clean = df_original_tweets_clean.drop(['text','in_reply_to_status_id','in_reply_to_user_id',\n",
    "                                                          'timestamp','retweeted_status_id',\n",
    "                                                          'retweeted_status_user_id','retweeted_status_timestamp',\n",
    "                                                          'source','expanded_urls','rating_numerator',\n",
    "                                                          'rating_denominator'],axis=1)"
   ]
  },
  {
   "cell_type": "code",
   "execution_count": 788,
   "metadata": {},
   "outputs": [
    {
     "data": {
      "text/html": [
       "<div>\n",
       "<style scoped>\n",
       "    .dataframe tbody tr th:only-of-type {\n",
       "        vertical-align: middle;\n",
       "    }\n",
       "\n",
       "    .dataframe tbody tr th {\n",
       "        vertical-align: top;\n",
       "    }\n",
       "\n",
       "    .dataframe thead th {\n",
       "        text-align: right;\n",
       "    }\n",
       "</style>\n",
       "<table border=\"1\" class=\"dataframe\">\n",
       "  <thead>\n",
       "    <tr style=\"text-align: right;\">\n",
       "      <th></th>\n",
       "      <th>tweet_id</th>\n",
       "      <th>name</th>\n",
       "      <th>dog_growth_stage</th>\n",
       "    </tr>\n",
       "  </thead>\n",
       "  <tbody>\n",
       "    <tr>\n",
       "      <th>0</th>\n",
       "      <td>892420643555336193</td>\n",
       "      <td>Phineas</td>\n",
       "      <td>None</td>\n",
       "    </tr>\n",
       "    <tr>\n",
       "      <th>1</th>\n",
       "      <td>892420643555336193</td>\n",
       "      <td>Phineas</td>\n",
       "      <td>None</td>\n",
       "    </tr>\n",
       "    <tr>\n",
       "      <th>2</th>\n",
       "      <td>892420643555336193</td>\n",
       "      <td>Phineas</td>\n",
       "      <td>None</td>\n",
       "    </tr>\n",
       "    <tr>\n",
       "      <th>3</th>\n",
       "      <td>892420643555336193</td>\n",
       "      <td>Phineas</td>\n",
       "      <td>None</td>\n",
       "    </tr>\n",
       "    <tr>\n",
       "      <th>4</th>\n",
       "      <td>892177421306343426</td>\n",
       "      <td>Tilly</td>\n",
       "      <td>None</td>\n",
       "    </tr>\n",
       "  </tbody>\n",
       "</table>\n",
       "</div>"
      ],
      "text/plain": [
       "             tweet_id     name dog_growth_stage\n",
       "0  892420643555336193  Phineas             None\n",
       "1  892420643555336193  Phineas             None\n",
       "2  892420643555336193  Phineas             None\n",
       "3  892420643555336193  Phineas             None\n",
       "4  892177421306343426    Tilly             None"
      ]
     },
     "execution_count": 788,
     "metadata": {},
     "output_type": "execute_result"
    }
   ],
   "source": [
    "df_original_tweets_clean.head()"
   ]
  },
  {
   "cell_type": "code",
   "execution_count": 789,
   "metadata": {},
   "outputs": [
    {
     "data": {
      "text/html": [
       "<div>\n",
       "<style scoped>\n",
       "    .dataframe tbody tr th:only-of-type {\n",
       "        vertical-align: middle;\n",
       "    }\n",
       "\n",
       "    .dataframe tbody tr th {\n",
       "        vertical-align: top;\n",
       "    }\n",
       "\n",
       "    .dataframe thead th {\n",
       "        text-align: right;\n",
       "    }\n",
       "</style>\n",
       "<table border=\"1\" class=\"dataframe\">\n",
       "  <thead>\n",
       "    <tr style=\"text-align: right;\">\n",
       "      <th></th>\n",
       "      <th>tweet_id</th>\n",
       "      <th>full_text</th>\n",
       "      <th>favorites_cnt</th>\n",
       "      <th>retweets_cnt</th>\n",
       "      <th>is_favorited</th>\n",
       "      <th>user_id</th>\n",
       "      <th>source</th>\n",
       "      <th>img_url</th>\n",
       "      <th>creation_date</th>\n",
       "      <th>rating_numerator</th>\n",
       "      <th>rating_denominator</th>\n",
       "    </tr>\n",
       "  </thead>\n",
       "  <tbody>\n",
       "    <tr>\n",
       "      <th>0</th>\n",
       "      <td>892420643555336193</td>\n",
       "      <td>This is Phineas. He's a mystical boy. Only eve...</td>\n",
       "      <td>35155</td>\n",
       "      <td>7413</td>\n",
       "      <td>NaN</td>\n",
       "      <td>4196983835</td>\n",
       "      <td>&lt;a href=\"http://twitter.com/download/iphone\" r...</td>\n",
       "      <td>https://twitter.com/dog_rates/status/892420643...</td>\n",
       "      <td>2017-08-01</td>\n",
       "      <td>13</td>\n",
       "      <td>10</td>\n",
       "    </tr>\n",
       "    <tr>\n",
       "      <th>1</th>\n",
       "      <td>892177421306343426</td>\n",
       "      <td>This is Tilly. She's just checking pup on you....</td>\n",
       "      <td>30413</td>\n",
       "      <td>5515</td>\n",
       "      <td>NaN</td>\n",
       "      <td>4196983835</td>\n",
       "      <td>&lt;a href=\"http://twitter.com/download/iphone\" r...</td>\n",
       "      <td>https://twitter.com/dog_rates/status/892177421...</td>\n",
       "      <td>2017-08-01</td>\n",
       "      <td>13</td>\n",
       "      <td>10</td>\n",
       "    </tr>\n",
       "    <tr>\n",
       "      <th>2</th>\n",
       "      <td>891815181378084864</td>\n",
       "      <td>This is Archie. He is a rare Norwegian Pouncin...</td>\n",
       "      <td>22863</td>\n",
       "      <td>3640</td>\n",
       "      <td>NaN</td>\n",
       "      <td>4196983835</td>\n",
       "      <td>&lt;a href=\"http://twitter.com/download/iphone\" r...</td>\n",
       "      <td>https://twitter.com/dog_rates/status/891815181...</td>\n",
       "      <td>2017-07-31</td>\n",
       "      <td>12</td>\n",
       "      <td>10</td>\n",
       "    </tr>\n",
       "    <tr>\n",
       "      <th>3</th>\n",
       "      <td>891689557279858688</td>\n",
       "      <td>This is Darla. She commenced a snooze mid meal...</td>\n",
       "      <td>38424</td>\n",
       "      <td>7590</td>\n",
       "      <td>NaN</td>\n",
       "      <td>4196983835</td>\n",
       "      <td>&lt;a href=\"http://twitter.com/download/iphone\" r...</td>\n",
       "      <td>https://twitter.com/dog_rates/status/891689557...</td>\n",
       "      <td>2017-07-30</td>\n",
       "      <td>13</td>\n",
       "      <td>10</td>\n",
       "    </tr>\n",
       "    <tr>\n",
       "      <th>4</th>\n",
       "      <td>891327558926688256</td>\n",
       "      <td>This is Franklin. He would like you to stop ca...</td>\n",
       "      <td>36679</td>\n",
       "      <td>8161</td>\n",
       "      <td>NaN</td>\n",
       "      <td>4196983835</td>\n",
       "      <td>&lt;a href=\"http://twitter.com/download/iphone\" r...</td>\n",
       "      <td>https://twitter.com/dog_rates/status/891327558...</td>\n",
       "      <td>2017-07-29</td>\n",
       "      <td>12</td>\n",
       "      <td>10</td>\n",
       "    </tr>\n",
       "  </tbody>\n",
       "</table>\n",
       "</div>"
      ],
      "text/plain": [
       "             tweet_id                                          full_text  \\\n",
       "0  892420643555336193  This is Phineas. He's a mystical boy. Only eve...   \n",
       "1  892177421306343426  This is Tilly. She's just checking pup on you....   \n",
       "2  891815181378084864  This is Archie. He is a rare Norwegian Pouncin...   \n",
       "3  891689557279858688  This is Darla. She commenced a snooze mid meal...   \n",
       "4  891327558926688256  This is Franklin. He would like you to stop ca...   \n",
       "\n",
       "   favorites_cnt  retweets_cnt  is_favorited     user_id  \\\n",
       "0          35155          7413           NaN  4196983835   \n",
       "1          30413          5515           NaN  4196983835   \n",
       "2          22863          3640           NaN  4196983835   \n",
       "3          38424          7590           NaN  4196983835   \n",
       "4          36679          8161           NaN  4196983835   \n",
       "\n",
       "                                              source  \\\n",
       "0  <a href=\"http://twitter.com/download/iphone\" r...   \n",
       "1  <a href=\"http://twitter.com/download/iphone\" r...   \n",
       "2  <a href=\"http://twitter.com/download/iphone\" r...   \n",
       "3  <a href=\"http://twitter.com/download/iphone\" r...   \n",
       "4  <a href=\"http://twitter.com/download/iphone\" r...   \n",
       "\n",
       "                                             img_url creation_date  \\\n",
       "0  https://twitter.com/dog_rates/status/892420643...    2017-08-01   \n",
       "1  https://twitter.com/dog_rates/status/892177421...    2017-08-01   \n",
       "2  https://twitter.com/dog_rates/status/891815181...    2017-07-31   \n",
       "3  https://twitter.com/dog_rates/status/891689557...    2017-07-30   \n",
       "4  https://twitter.com/dog_rates/status/891327558...    2017-07-29   \n",
       "\n",
       "  rating_numerator rating_denominator  \n",
       "0               13                 10  \n",
       "1               13                 10  \n",
       "2               12                 10  \n",
       "3               13                 10  \n",
       "4               12                 10  "
      ]
     },
     "execution_count": 789,
     "metadata": {},
     "output_type": "execute_result"
    }
   ],
   "source": [
    "df_tweet_api_clean.head()"
   ]
  },
  {
   "cell_type": "code",
   "execution_count": 790,
   "metadata": {},
   "outputs": [],
   "source": [
    "df_tweet_api_clean = df_tweet_api_clean.drop(['is_favorited','user_id'],axis=1)"
   ]
  },
  {
   "cell_type": "code",
   "execution_count": 791,
   "metadata": {},
   "outputs": [
    {
     "data": {
      "text/html": [
       "<div>\n",
       "<style scoped>\n",
       "    .dataframe tbody tr th:only-of-type {\n",
       "        vertical-align: middle;\n",
       "    }\n",
       "\n",
       "    .dataframe tbody tr th {\n",
       "        vertical-align: top;\n",
       "    }\n",
       "\n",
       "    .dataframe thead th {\n",
       "        text-align: right;\n",
       "    }\n",
       "</style>\n",
       "<table border=\"1\" class=\"dataframe\">\n",
       "  <thead>\n",
       "    <tr style=\"text-align: right;\">\n",
       "      <th></th>\n",
       "      <th>tweet_id</th>\n",
       "      <th>full_text</th>\n",
       "      <th>favorites_cnt</th>\n",
       "      <th>retweets_cnt</th>\n",
       "      <th>source</th>\n",
       "      <th>img_url</th>\n",
       "      <th>creation_date</th>\n",
       "      <th>rating_numerator</th>\n",
       "      <th>rating_denominator</th>\n",
       "    </tr>\n",
       "  </thead>\n",
       "  <tbody>\n",
       "    <tr>\n",
       "      <th>0</th>\n",
       "      <td>892420643555336193</td>\n",
       "      <td>This is Phineas. He's a mystical boy. Only eve...</td>\n",
       "      <td>35155</td>\n",
       "      <td>7413</td>\n",
       "      <td>&lt;a href=\"http://twitter.com/download/iphone\" r...</td>\n",
       "      <td>https://twitter.com/dog_rates/status/892420643...</td>\n",
       "      <td>2017-08-01</td>\n",
       "      <td>13</td>\n",
       "      <td>10</td>\n",
       "    </tr>\n",
       "    <tr>\n",
       "      <th>1</th>\n",
       "      <td>892177421306343426</td>\n",
       "      <td>This is Tilly. She's just checking pup on you....</td>\n",
       "      <td>30413</td>\n",
       "      <td>5515</td>\n",
       "      <td>&lt;a href=\"http://twitter.com/download/iphone\" r...</td>\n",
       "      <td>https://twitter.com/dog_rates/status/892177421...</td>\n",
       "      <td>2017-08-01</td>\n",
       "      <td>13</td>\n",
       "      <td>10</td>\n",
       "    </tr>\n",
       "    <tr>\n",
       "      <th>2</th>\n",
       "      <td>891815181378084864</td>\n",
       "      <td>This is Archie. He is a rare Norwegian Pouncin...</td>\n",
       "      <td>22863</td>\n",
       "      <td>3640</td>\n",
       "      <td>&lt;a href=\"http://twitter.com/download/iphone\" r...</td>\n",
       "      <td>https://twitter.com/dog_rates/status/891815181...</td>\n",
       "      <td>2017-07-31</td>\n",
       "      <td>12</td>\n",
       "      <td>10</td>\n",
       "    </tr>\n",
       "    <tr>\n",
       "      <th>3</th>\n",
       "      <td>891689557279858688</td>\n",
       "      <td>This is Darla. She commenced a snooze mid meal...</td>\n",
       "      <td>38424</td>\n",
       "      <td>7590</td>\n",
       "      <td>&lt;a href=\"http://twitter.com/download/iphone\" r...</td>\n",
       "      <td>https://twitter.com/dog_rates/status/891689557...</td>\n",
       "      <td>2017-07-30</td>\n",
       "      <td>13</td>\n",
       "      <td>10</td>\n",
       "    </tr>\n",
       "    <tr>\n",
       "      <th>4</th>\n",
       "      <td>891327558926688256</td>\n",
       "      <td>This is Franklin. He would like you to stop ca...</td>\n",
       "      <td>36679</td>\n",
       "      <td>8161</td>\n",
       "      <td>&lt;a href=\"http://twitter.com/download/iphone\" r...</td>\n",
       "      <td>https://twitter.com/dog_rates/status/891327558...</td>\n",
       "      <td>2017-07-29</td>\n",
       "      <td>12</td>\n",
       "      <td>10</td>\n",
       "    </tr>\n",
       "  </tbody>\n",
       "</table>\n",
       "</div>"
      ],
      "text/plain": [
       "             tweet_id                                          full_text  \\\n",
       "0  892420643555336193  This is Phineas. He's a mystical boy. Only eve...   \n",
       "1  892177421306343426  This is Tilly. She's just checking pup on you....   \n",
       "2  891815181378084864  This is Archie. He is a rare Norwegian Pouncin...   \n",
       "3  891689557279858688  This is Darla. She commenced a snooze mid meal...   \n",
       "4  891327558926688256  This is Franklin. He would like you to stop ca...   \n",
       "\n",
       "   favorites_cnt  retweets_cnt  \\\n",
       "0          35155          7413   \n",
       "1          30413          5515   \n",
       "2          22863          3640   \n",
       "3          38424          7590   \n",
       "4          36679          8161   \n",
       "\n",
       "                                              source  \\\n",
       "0  <a href=\"http://twitter.com/download/iphone\" r...   \n",
       "1  <a href=\"http://twitter.com/download/iphone\" r...   \n",
       "2  <a href=\"http://twitter.com/download/iphone\" r...   \n",
       "3  <a href=\"http://twitter.com/download/iphone\" r...   \n",
       "4  <a href=\"http://twitter.com/download/iphone\" r...   \n",
       "\n",
       "                                             img_url creation_date  \\\n",
       "0  https://twitter.com/dog_rates/status/892420643...    2017-08-01   \n",
       "1  https://twitter.com/dog_rates/status/892177421...    2017-08-01   \n",
       "2  https://twitter.com/dog_rates/status/891815181...    2017-07-31   \n",
       "3  https://twitter.com/dog_rates/status/891689557...    2017-07-30   \n",
       "4  https://twitter.com/dog_rates/status/891327558...    2017-07-29   \n",
       "\n",
       "  rating_numerator rating_denominator  \n",
       "0               13                 10  \n",
       "1               13                 10  \n",
       "2               12                 10  \n",
       "3               13                 10  \n",
       "4               12                 10  "
      ]
     },
     "execution_count": 791,
     "metadata": {},
     "output_type": "execute_result"
    }
   ],
   "source": [
    "df_tweet_api_clean.head()"
   ]
  },
  {
   "cell_type": "code",
   "execution_count": 792,
   "metadata": {},
   "outputs": [
    {
     "data": {
      "text/html": [
       "<div>\n",
       "<style scoped>\n",
       "    .dataframe tbody tr th:only-of-type {\n",
       "        vertical-align: middle;\n",
       "    }\n",
       "\n",
       "    .dataframe tbody tr th {\n",
       "        vertical-align: top;\n",
       "    }\n",
       "\n",
       "    .dataframe thead th {\n",
       "        text-align: right;\n",
       "    }\n",
       "</style>\n",
       "<table border=\"1\" class=\"dataframe\">\n",
       "  <thead>\n",
       "    <tr style=\"text-align: right;\">\n",
       "      <th></th>\n",
       "      <th>img_num</th>\n",
       "      <th>algorithm</th>\n",
       "      <th>predictions</th>\n",
       "      <th>algo_confidence</th>\n",
       "      <th>tweet_id</th>\n",
       "      <th>preds_is_dog</th>\n",
       "      <th>img_url</th>\n",
       "    </tr>\n",
       "  </thead>\n",
       "  <tbody>\n",
       "    <tr>\n",
       "      <th>0</th>\n",
       "      <td>1</td>\n",
       "      <td>p1</td>\n",
       "      <td>welsh_springer_spaniel</td>\n",
       "      <td>0.465074</td>\n",
       "      <td>666020888022790149</td>\n",
       "      <td>True</td>\n",
       "      <td>https://twitter.com/dog_rates/status/666020888...</td>\n",
       "    </tr>\n",
       "    <tr>\n",
       "      <th>1</th>\n",
       "      <td>1</td>\n",
       "      <td>p2</td>\n",
       "      <td>collie</td>\n",
       "      <td>0.156665</td>\n",
       "      <td>666020888022790149</td>\n",
       "      <td>True</td>\n",
       "      <td>https://twitter.com/dog_rates/status/666020888...</td>\n",
       "    </tr>\n",
       "    <tr>\n",
       "      <th>2</th>\n",
       "      <td>1</td>\n",
       "      <td>p3</td>\n",
       "      <td>shetland_sheepdog</td>\n",
       "      <td>0.061428</td>\n",
       "      <td>666020888022790149</td>\n",
       "      <td>True</td>\n",
       "      <td>https://twitter.com/dog_rates/status/666020888...</td>\n",
       "    </tr>\n",
       "    <tr>\n",
       "      <th>3</th>\n",
       "      <td>1</td>\n",
       "      <td>p1</td>\n",
       "      <td>redbone</td>\n",
       "      <td>0.506826</td>\n",
       "      <td>666029285002620928</td>\n",
       "      <td>True</td>\n",
       "      <td>https://twitter.com/dog_rates/status/666029285...</td>\n",
       "    </tr>\n",
       "    <tr>\n",
       "      <th>4</th>\n",
       "      <td>1</td>\n",
       "      <td>p2</td>\n",
       "      <td>miniature_pinscher</td>\n",
       "      <td>0.074192</td>\n",
       "      <td>666029285002620928</td>\n",
       "      <td>True</td>\n",
       "      <td>https://twitter.com/dog_rates/status/666029285...</td>\n",
       "    </tr>\n",
       "  </tbody>\n",
       "</table>\n",
       "</div>"
      ],
      "text/plain": [
       "   img_num algorithm             predictions  algo_confidence  \\\n",
       "0        1        p1  welsh_springer_spaniel         0.465074   \n",
       "1        1        p2                  collie         0.156665   \n",
       "2        1        p3       shetland_sheepdog         0.061428   \n",
       "3        1        p1                 redbone         0.506826   \n",
       "4        1        p2      miniature_pinscher         0.074192   \n",
       "\n",
       "             tweet_id  preds_is_dog  \\\n",
       "0  666020888022790149          True   \n",
       "1  666020888022790149          True   \n",
       "2  666020888022790149          True   \n",
       "3  666029285002620928          True   \n",
       "4  666029285002620928          True   \n",
       "\n",
       "                                             img_url  \n",
       "0  https://twitter.com/dog_rates/status/666020888...  \n",
       "1  https://twitter.com/dog_rates/status/666020888...  \n",
       "2  https://twitter.com/dog_rates/status/666020888...  \n",
       "3  https://twitter.com/dog_rates/status/666029285...  \n",
       "4  https://twitter.com/dog_rates/status/666029285...  "
      ]
     },
     "execution_count": 792,
     "metadata": {},
     "output_type": "execute_result"
    }
   ],
   "source": [
    "df_img_preds_clean.head()"
   ]
  },
  {
   "cell_type": "code",
   "execution_count": null,
   "metadata": {},
   "outputs": [],
   "source": []
  },
  {
   "cell_type": "code",
   "execution_count": 793,
   "metadata": {
    "scrolled": false
   },
   "outputs": [],
   "source": [
    "# Build final file - merging data from original, api and image predictions files\n",
    "df_twitter_archive_master = pd.merge(df_original_tweets_clean,df_tweet_api_clean, how='inner',on='tweet_id') \n",
    "df_twitter_archive_master = pd.merge(df_twitter_archive_master,df_img_preds_clean,how='inner',on=['tweet_id','img_url'])"
   ]
  },
  {
   "cell_type": "code",
   "execution_count": 794,
   "metadata": {},
   "outputs": [
    {
     "data": {
      "text/html": [
       "<div>\n",
       "<style scoped>\n",
       "    .dataframe tbody tr th:only-of-type {\n",
       "        vertical-align: middle;\n",
       "    }\n",
       "\n",
       "    .dataframe tbody tr th {\n",
       "        vertical-align: top;\n",
       "    }\n",
       "\n",
       "    .dataframe thead th {\n",
       "        text-align: right;\n",
       "    }\n",
       "</style>\n",
       "<table border=\"1\" class=\"dataframe\">\n",
       "  <thead>\n",
       "    <tr style=\"text-align: right;\">\n",
       "      <th></th>\n",
       "      <th>tweet_id</th>\n",
       "      <th>name</th>\n",
       "      <th>dog_growth_stage</th>\n",
       "      <th>full_text</th>\n",
       "      <th>favorites_cnt</th>\n",
       "      <th>retweets_cnt</th>\n",
       "      <th>source</th>\n",
       "      <th>img_url</th>\n",
       "      <th>creation_date</th>\n",
       "      <th>rating_numerator</th>\n",
       "      <th>rating_denominator</th>\n",
       "      <th>img_num</th>\n",
       "      <th>algorithm</th>\n",
       "      <th>predictions</th>\n",
       "      <th>algo_confidence</th>\n",
       "      <th>preds_is_dog</th>\n",
       "    </tr>\n",
       "  </thead>\n",
       "  <tbody>\n",
       "    <tr>\n",
       "      <th>0</th>\n",
       "      <td>892420643555336193</td>\n",
       "      <td>Phineas</td>\n",
       "      <td>None</td>\n",
       "      <td>This is Phineas. He's a mystical boy. Only eve...</td>\n",
       "      <td>35155</td>\n",
       "      <td>7413</td>\n",
       "      <td>&lt;a href=\"http://twitter.com/download/iphone\" r...</td>\n",
       "      <td>https://twitter.com/dog_rates/status/892420643...</td>\n",
       "      <td>2017-08-01</td>\n",
       "      <td>13</td>\n",
       "      <td>10</td>\n",
       "      <td>1</td>\n",
       "      <td>p1</td>\n",
       "      <td>orange</td>\n",
       "      <td>0.097049</td>\n",
       "      <td>False</td>\n",
       "    </tr>\n",
       "    <tr>\n",
       "      <th>1</th>\n",
       "      <td>892420643555336193</td>\n",
       "      <td>Phineas</td>\n",
       "      <td>None</td>\n",
       "      <td>This is Phineas. He's a mystical boy. Only eve...</td>\n",
       "      <td>35155</td>\n",
       "      <td>7413</td>\n",
       "      <td>&lt;a href=\"http://twitter.com/download/iphone\" r...</td>\n",
       "      <td>https://twitter.com/dog_rates/status/892420643...</td>\n",
       "      <td>2017-08-01</td>\n",
       "      <td>13</td>\n",
       "      <td>10</td>\n",
       "      <td>1</td>\n",
       "      <td>p2</td>\n",
       "      <td>bagel</td>\n",
       "      <td>0.085851</td>\n",
       "      <td>False</td>\n",
       "    </tr>\n",
       "    <tr>\n",
       "      <th>2</th>\n",
       "      <td>892420643555336193</td>\n",
       "      <td>Phineas</td>\n",
       "      <td>None</td>\n",
       "      <td>This is Phineas. He's a mystical boy. Only eve...</td>\n",
       "      <td>35155</td>\n",
       "      <td>7413</td>\n",
       "      <td>&lt;a href=\"http://twitter.com/download/iphone\" r...</td>\n",
       "      <td>https://twitter.com/dog_rates/status/892420643...</td>\n",
       "      <td>2017-08-01</td>\n",
       "      <td>13</td>\n",
       "      <td>10</td>\n",
       "      <td>1</td>\n",
       "      <td>p3</td>\n",
       "      <td>banana</td>\n",
       "      <td>0.076110</td>\n",
       "      <td>False</td>\n",
       "    </tr>\n",
       "    <tr>\n",
       "      <th>3</th>\n",
       "      <td>892420643555336193</td>\n",
       "      <td>Phineas</td>\n",
       "      <td>None</td>\n",
       "      <td>This is Phineas. He's a mystical boy. Only eve...</td>\n",
       "      <td>35155</td>\n",
       "      <td>7413</td>\n",
       "      <td>&lt;a href=\"http://twitter.com/download/iphone\" r...</td>\n",
       "      <td>https://twitter.com/dog_rates/status/892420643...</td>\n",
       "      <td>2017-08-01</td>\n",
       "      <td>13</td>\n",
       "      <td>10</td>\n",
       "      <td>1</td>\n",
       "      <td>p1</td>\n",
       "      <td>orange</td>\n",
       "      <td>0.097049</td>\n",
       "      <td>False</td>\n",
       "    </tr>\n",
       "    <tr>\n",
       "      <th>4</th>\n",
       "      <td>892420643555336193</td>\n",
       "      <td>Phineas</td>\n",
       "      <td>None</td>\n",
       "      <td>This is Phineas. He's a mystical boy. Only eve...</td>\n",
       "      <td>35155</td>\n",
       "      <td>7413</td>\n",
       "      <td>&lt;a href=\"http://twitter.com/download/iphone\" r...</td>\n",
       "      <td>https://twitter.com/dog_rates/status/892420643...</td>\n",
       "      <td>2017-08-01</td>\n",
       "      <td>13</td>\n",
       "      <td>10</td>\n",
       "      <td>1</td>\n",
       "      <td>p2</td>\n",
       "      <td>bagel</td>\n",
       "      <td>0.085851</td>\n",
       "      <td>False</td>\n",
       "    </tr>\n",
       "  </tbody>\n",
       "</table>\n",
       "</div>"
      ],
      "text/plain": [
       "             tweet_id     name dog_growth_stage  \\\n",
       "0  892420643555336193  Phineas             None   \n",
       "1  892420643555336193  Phineas             None   \n",
       "2  892420643555336193  Phineas             None   \n",
       "3  892420643555336193  Phineas             None   \n",
       "4  892420643555336193  Phineas             None   \n",
       "\n",
       "                                           full_text  favorites_cnt  \\\n",
       "0  This is Phineas. He's a mystical boy. Only eve...          35155   \n",
       "1  This is Phineas. He's a mystical boy. Only eve...          35155   \n",
       "2  This is Phineas. He's a mystical boy. Only eve...          35155   \n",
       "3  This is Phineas. He's a mystical boy. Only eve...          35155   \n",
       "4  This is Phineas. He's a mystical boy. Only eve...          35155   \n",
       "\n",
       "   retweets_cnt                                             source  \\\n",
       "0          7413  <a href=\"http://twitter.com/download/iphone\" r...   \n",
       "1          7413  <a href=\"http://twitter.com/download/iphone\" r...   \n",
       "2          7413  <a href=\"http://twitter.com/download/iphone\" r...   \n",
       "3          7413  <a href=\"http://twitter.com/download/iphone\" r...   \n",
       "4          7413  <a href=\"http://twitter.com/download/iphone\" r...   \n",
       "\n",
       "                                             img_url creation_date  \\\n",
       "0  https://twitter.com/dog_rates/status/892420643...    2017-08-01   \n",
       "1  https://twitter.com/dog_rates/status/892420643...    2017-08-01   \n",
       "2  https://twitter.com/dog_rates/status/892420643...    2017-08-01   \n",
       "3  https://twitter.com/dog_rates/status/892420643...    2017-08-01   \n",
       "4  https://twitter.com/dog_rates/status/892420643...    2017-08-01   \n",
       "\n",
       "  rating_numerator rating_denominator  img_num algorithm predictions  \\\n",
       "0               13                 10        1        p1      orange   \n",
       "1               13                 10        1        p2       bagel   \n",
       "2               13                 10        1        p3      banana   \n",
       "3               13                 10        1        p1      orange   \n",
       "4               13                 10        1        p2       bagel   \n",
       "\n",
       "   algo_confidence  preds_is_dog  \n",
       "0         0.097049         False  \n",
       "1         0.085851         False  \n",
       "2         0.076110         False  \n",
       "3         0.097049         False  \n",
       "4         0.085851         False  "
      ]
     },
     "execution_count": 794,
     "metadata": {},
     "output_type": "execute_result"
    }
   ],
   "source": [
    "df_twitter_archive_master.head()"
   ]
  },
  {
   "cell_type": "code",
   "execution_count": null,
   "metadata": {},
   "outputs": [],
   "source": []
  },
  {
   "cell_type": "code",
   "execution_count": 795,
   "metadata": {},
   "outputs": [],
   "source": [
    "# Generate csv\n",
    "df_twitter_archive_master.to_csv('twitter_archive_master.csv',index=False)\n",
    "\n",
    "# in case it's necessary - both substets are also available separately\n",
    "\n",
    "df_tweet_api_clean.to_csv('twitter_archive_wrangled.csv')\n",
    "\n",
    "# equivalent to a 'predictions' table - it contains all predictions made. Not just the one with greatest \n",
    "#confidence score, since 1 tweet can have multiple entries\n",
    "\n",
    "df_img_preds_clean.to_csv('image_predictions_wrangled.csv')\n",
    "df_img_preds_clean_algo.to_csv('image_predictions_wrangled_algo.csv')\n",
    "\n"
   ]
  },
  {
   "cell_type": "code",
   "execution_count": 796,
   "metadata": {},
   "outputs": [
    {
     "name": "stdout",
     "output_type": "stream",
     "text": [
      "<class 'pandas.core.frame.DataFrame'>\n",
      "Int64Index: 22668 entries, 0 to 22667\n",
      "Data columns (total 16 columns):\n",
      " #   Column              Non-Null Count  Dtype  \n",
      "---  ------              --------------  -----  \n",
      " 0   tweet_id            22668 non-null  object \n",
      " 1   name                22668 non-null  object \n",
      " 2   dog_growth_stage    22668 non-null  object \n",
      " 3   full_text           22668 non-null  object \n",
      " 4   favorites_cnt       22668 non-null  int64  \n",
      " 5   retweets_cnt        22668 non-null  int64  \n",
      " 6   source              22668 non-null  object \n",
      " 7   img_url             22668 non-null  object \n",
      " 8   creation_date       22668 non-null  object \n",
      " 9   rating_numerator    22668 non-null  object \n",
      " 10  rating_denominator  22668 non-null  object \n",
      " 11  img_num             22668 non-null  int64  \n",
      " 12  algorithm           22668 non-null  object \n",
      " 13  predictions         22668 non-null  object \n",
      " 14  algo_confidence     22668 non-null  float64\n",
      " 15  preds_is_dog        22668 non-null  bool   \n",
      "dtypes: bool(1), float64(1), int64(3), object(11)\n",
      "memory usage: 2.8+ MB\n"
     ]
    }
   ],
   "source": [
    "# Check if wrangled dataset respects wrangling operations\n",
    "df_twitter_archive_master.info()"
   ]
  },
  {
   "cell_type": "markdown",
   "metadata": {},
   "source": [
    "<a id='insights' ></a>\n",
    "### 4.2 Vizualization & Insights on wrangled data"
   ]
  },
  {
   "cell_type": "code",
   "execution_count": 797,
   "metadata": {
    "scrolled": true
   },
   "outputs": [
    {
     "data": {
      "image/png": "[encoded data removed]",
      "text/plain": [
       "<Figure size 720x432 with 1 Axes>"
      ]
     },
     "metadata": {
      "needs_background": "light"
     },
     "output_type": "display_data"
    }
   ],
   "source": [
    "# Scatter plot - is there a relation between favorited tweets and the fact it's retweeted?\n",
    "fig, ax = plt.subplots(figsize=(10, 6))\n",
    "ax.scatter(x = df_twitter_archive_master['favorites_cnt'], y = df_twitter_archive_master['retweets_cnt'])\n",
    "plt.xlabel(\"num of favorites\")\n",
    "plt.ylabel(\"num of retweets\")\n",
    "\n",
    "plt.show()"
   ]
  },
  {
   "cell_type": "code",
   "execution_count": 798,
   "metadata": {},
   "outputs": [
    {
     "data": {
      "image/png": "[encoded data removed]",
      "text/plain": [
       "<Figure size 720x432 with 1 Axes>"
      ]
     },
     "metadata": {
      "needs_background": "light"
     },
     "output_type": "display_data"
    }
   ],
   "source": [
    "# scatter plot - is there a relation between num of images in picture and the fact it's favorited by users?\n",
    "fig, ax = plt.subplots(figsize=(10, 6))\n",
    "ax.scatter(x = df_twitter_archive_master['img_num'], y = df_twitter_archive_master['favorites_cnt'])\n",
    "plt.xlabel(\"num of images\")\n",
    "plt.ylabel(\"num of favorites\")\n",
    "\n",
    "plt.show()"
   ]
  },
  {
   "cell_type": "code",
   "execution_count": 799,
   "metadata": {},
   "outputs": [
    {
     "data": {
      "text/plain": [
       "Text(0, 0.5, 'count of tweets')"
      ]
     },
     "execution_count": 799,
     "metadata": {},
     "output_type": "execute_result"
    },
    {
     "data": {
      "image/png": "[encoded data removed]",
      "text/plain": [
       "<Figure size 1440x720 with 1 Axes>"
      ]
     },
     "metadata": {
      "needs_background": "light"
     },
     "output_type": "display_data"
    }
   ],
   "source": [
    "# Bar chart - plot predictions label for predictions classified as \"not dog\" (might help to improve our model)\n",
    "ax = df_twitter_archive_master[(df_twitter_archive_master.preds_is_dog == False)]['predictions'].value_counts().iloc[:10]\n",
    "\n",
    "ax1= ax.plot(kind='bar',\n",
    "                                    figsize=(20,10),\n",
    "                                    title=\"Top 10 - Predictions classified as 'Not dog'\")\n",
    "\n",
    "\n",
    "ax1.set_xlabel(\"prediction label\")\n",
    "ax1.set_ylabel(\"count of tweets\")"
   ]
  },
  {
   "cell_type": "markdown",
   "metadata": {},
   "source": [
    "#### Main insights:\n",
    ">1. it exists a positive relationship between tweets marked as favorites and retweets \\n\n",
    ">2. there does not seem to be a strong and positive relation between the number of picture in a tweet the number of times it's marked as favorites - having more images to browse does not associate with greater num of favorites 1 \\n\n",
    ">3. analyzing the top 10 labels classified as 'not dog', one can see 'seat_belt' is ranked number one. Picture of dogs taken inside cars probably explain that and must be taken into consideration for ML model tuning."
   ]
  }
 ],
 "metadata": {
  "kernelspec": {
   "display_name": "Python 3",
   "language": "python",
   "name": "python3"
  },
  "language_info": {
   "codemirror_mode": {
    "name": "ipython",
    "version": 3
   },
   "file_extension": ".py",
   "mimetype": "text/x-python",
   "name": "python",
   "nbconvert_exporter": "python",
   "pygments_lexer": "ipython3",
   "version": "3.6.10"
  }
 },
 "nbformat": 4,
 "nbformat_minor": 4
}
