{
 "cells": [
  {
   "cell_type": "code",
   "execution_count": 78,
   "id": "f8ccd767",
   "metadata": {},
   "outputs": [],
   "source": [
    "import numpy as np\n",
    "import pandas as pd\n",
    "import requests\n",
    "import os\n",
    "# !pip install tweepy\n",
    "import tweepy\n",
    "import matplotlib.pyplot as plt\n",
    "from tweepy import OAuthHandler"
   ]
  },
  {
   "cell_type": "markdown",
   "id": "25f24756",
   "metadata": {},
   "source": [
    "### Data Gathering"
   ]
  },
  {
   "cell_type": "code",
   "execution_count": 2,
   "id": "efa34088",
   "metadata": {},
   "outputs": [],
   "source": [
    "twitter_archive = pd.read_csv('twitter-archive-enhanced.csv')"
   ]
  },
  {
   "cell_type": "code",
   "execution_count": 3,
   "id": "22db937e",
   "metadata": {},
   "outputs": [],
   "source": [
    "twitter_archive_copy =twitter_archive.copy()"
   ]
  },
  {
   "cell_type": "code",
   "execution_count": 4,
   "id": "8ef88ea9",
   "metadata": {},
   "outputs": [
    {
     "data": {
      "text/html": [
       "<div>\n",
       "<style scoped>\n",
       "    .dataframe tbody tr th:only-of-type {\n",
       "        vertical-align: middle;\n",
       "    }\n",
       "\n",
       "    .dataframe tbody tr th {\n",
       "        vertical-align: top;\n",
       "    }\n",
       "\n",
       "    .dataframe thead th {\n",
       "        text-align: right;\n",
       "    }\n",
       "</style>\n",
       "<table border=\"1\" class=\"dataframe\">\n",
       "  <thead>\n",
       "    <tr style=\"text-align: right;\">\n",
       "      <th></th>\n",
       "      <th>tweet_id</th>\n",
       "      <th>in_reply_to_status_id</th>\n",
       "      <th>in_reply_to_user_id</th>\n",
       "      <th>timestamp</th>\n",
       "      <th>source</th>\n",
       "      <th>text</th>\n",
       "      <th>retweeted_status_id</th>\n",
       "      <th>retweeted_status_user_id</th>\n",
       "      <th>retweeted_status_timestamp</th>\n",
       "      <th>expanded_urls</th>\n",
       "      <th>rating_numerator</th>\n",
       "      <th>rating_denominator</th>\n",
       "      <th>name</th>\n",
       "      <th>doggo</th>\n",
       "      <th>floofer</th>\n",
       "      <th>pupper</th>\n",
       "      <th>puppo</th>\n",
       "    </tr>\n",
       "  </thead>\n",
       "  <tbody>\n",
       "    <tr>\n",
       "      <th>0</th>\n",
       "      <td>892420643555336193</td>\n",
       "      <td>NaN</td>\n",
       "      <td>NaN</td>\n",
       "      <td>2017-08-01 16:23:56 +0000</td>\n",
       "      <td>&lt;a href=\"http://twitter.com/download/iphone\" r...</td>\n",
       "      <td>This is Phineas. He's a mystical boy. Only eve...</td>\n",
       "      <td>NaN</td>\n",
       "      <td>NaN</td>\n",
       "      <td>NaN</td>\n",
       "      <td>https://twitter.com/dog_rates/status/892420643...</td>\n",
       "      <td>13</td>\n",
       "      <td>10</td>\n",
       "      <td>Phineas</td>\n",
       "      <td>None</td>\n",
       "      <td>None</td>\n",
       "      <td>None</td>\n",
       "      <td>None</td>\n",
       "    </tr>\n",
       "    <tr>\n",
       "      <th>1</th>\n",
       "      <td>892177421306343426</td>\n",
       "      <td>NaN</td>\n",
       "      <td>NaN</td>\n",
       "      <td>2017-08-01 00:17:27 +0000</td>\n",
       "      <td>&lt;a href=\"http://twitter.com/download/iphone\" r...</td>\n",
       "      <td>This is Tilly. She's just checking pup on you....</td>\n",
       "      <td>NaN</td>\n",
       "      <td>NaN</td>\n",
       "      <td>NaN</td>\n",
       "      <td>https://twitter.com/dog_rates/status/892177421...</td>\n",
       "      <td>13</td>\n",
       "      <td>10</td>\n",
       "      <td>Tilly</td>\n",
       "      <td>None</td>\n",
       "      <td>None</td>\n",
       "      <td>None</td>\n",
       "      <td>None</td>\n",
       "    </tr>\n",
       "    <tr>\n",
       "      <th>2</th>\n",
       "      <td>891815181378084864</td>\n",
       "      <td>NaN</td>\n",
       "      <td>NaN</td>\n",
       "      <td>2017-07-31 00:18:03 +0000</td>\n",
       "      <td>&lt;a href=\"http://twitter.com/download/iphone\" r...</td>\n",
       "      <td>This is Archie. He is a rare Norwegian Pouncin...</td>\n",
       "      <td>NaN</td>\n",
       "      <td>NaN</td>\n",
       "      <td>NaN</td>\n",
       "      <td>https://twitter.com/dog_rates/status/891815181...</td>\n",
       "      <td>12</td>\n",
       "      <td>10</td>\n",
       "      <td>Archie</td>\n",
       "      <td>None</td>\n",
       "      <td>None</td>\n",
       "      <td>None</td>\n",
       "      <td>None</td>\n",
       "    </tr>\n",
       "    <tr>\n",
       "      <th>3</th>\n",
       "      <td>891689557279858688</td>\n",
       "      <td>NaN</td>\n",
       "      <td>NaN</td>\n",
       "      <td>2017-07-30 15:58:51 +0000</td>\n",
       "      <td>&lt;a href=\"http://twitter.com/download/iphone\" r...</td>\n",
       "      <td>This is Darla. She commenced a snooze mid meal...</td>\n",
       "      <td>NaN</td>\n",
       "      <td>NaN</td>\n",
       "      <td>NaN</td>\n",
       "      <td>https://twitter.com/dog_rates/status/891689557...</td>\n",
       "      <td>13</td>\n",
       "      <td>10</td>\n",
       "      <td>Darla</td>\n",
       "      <td>None</td>\n",
       "      <td>None</td>\n",
       "      <td>None</td>\n",
       "      <td>None</td>\n",
       "    </tr>\n",
       "    <tr>\n",
       "      <th>4</th>\n",
       "      <td>891327558926688256</td>\n",
       "      <td>NaN</td>\n",
       "      <td>NaN</td>\n",
       "      <td>2017-07-29 16:00:24 +0000</td>\n",
       "      <td>&lt;a href=\"http://twitter.com/download/iphone\" r...</td>\n",
       "      <td>This is Franklin. He would like you to stop ca...</td>\n",
       "      <td>NaN</td>\n",
       "      <td>NaN</td>\n",
       "      <td>NaN</td>\n",
       "      <td>https://twitter.com/dog_rates/status/891327558...</td>\n",
       "      <td>12</td>\n",
       "      <td>10</td>\n",
       "      <td>Franklin</td>\n",
       "      <td>None</td>\n",
       "      <td>None</td>\n",
       "      <td>None</td>\n",
       "      <td>None</td>\n",
       "    </tr>\n",
       "    <tr>\n",
       "      <th>...</th>\n",
       "      <td>...</td>\n",
       "      <td>...</td>\n",
       "      <td>...</td>\n",
       "      <td>...</td>\n",
       "      <td>...</td>\n",
       "      <td>...</td>\n",
       "      <td>...</td>\n",
       "      <td>...</td>\n",
       "      <td>...</td>\n",
       "      <td>...</td>\n",
       "      <td>...</td>\n",
       "      <td>...</td>\n",
       "      <td>...</td>\n",
       "      <td>...</td>\n",
       "      <td>...</td>\n",
       "      <td>...</td>\n",
       "      <td>...</td>\n",
       "    </tr>\n",
       "    <tr>\n",
       "      <th>2351</th>\n",
       "      <td>666049248165822465</td>\n",
       "      <td>NaN</td>\n",
       "      <td>NaN</td>\n",
       "      <td>2015-11-16 00:24:50 +0000</td>\n",
       "      <td>&lt;a href=\"http://twitter.com/download/iphone\" r...</td>\n",
       "      <td>Here we have a 1949 1st generation vulpix. Enj...</td>\n",
       "      <td>NaN</td>\n",
       "      <td>NaN</td>\n",
       "      <td>NaN</td>\n",
       "      <td>https://twitter.com/dog_rates/status/666049248...</td>\n",
       "      <td>5</td>\n",
       "      <td>10</td>\n",
       "      <td>None</td>\n",
       "      <td>None</td>\n",
       "      <td>None</td>\n",
       "      <td>None</td>\n",
       "      <td>None</td>\n",
       "    </tr>\n",
       "    <tr>\n",
       "      <th>2352</th>\n",
       "      <td>666044226329800704</td>\n",
       "      <td>NaN</td>\n",
       "      <td>NaN</td>\n",
       "      <td>2015-11-16 00:04:52 +0000</td>\n",
       "      <td>&lt;a href=\"http://twitter.com/download/iphone\" r...</td>\n",
       "      <td>This is a purebred Piers Morgan. Loves to Netf...</td>\n",
       "      <td>NaN</td>\n",
       "      <td>NaN</td>\n",
       "      <td>NaN</td>\n",
       "      <td>https://twitter.com/dog_rates/status/666044226...</td>\n",
       "      <td>6</td>\n",
       "      <td>10</td>\n",
       "      <td>a</td>\n",
       "      <td>None</td>\n",
       "      <td>None</td>\n",
       "      <td>None</td>\n",
       "      <td>None</td>\n",
       "    </tr>\n",
       "    <tr>\n",
       "      <th>2353</th>\n",
       "      <td>666033412701032449</td>\n",
       "      <td>NaN</td>\n",
       "      <td>NaN</td>\n",
       "      <td>2015-11-15 23:21:54 +0000</td>\n",
       "      <td>&lt;a href=\"http://twitter.com/download/iphone\" r...</td>\n",
       "      <td>Here is a very happy pup. Big fan of well-main...</td>\n",
       "      <td>NaN</td>\n",
       "      <td>NaN</td>\n",
       "      <td>NaN</td>\n",
       "      <td>https://twitter.com/dog_rates/status/666033412...</td>\n",
       "      <td>9</td>\n",
       "      <td>10</td>\n",
       "      <td>a</td>\n",
       "      <td>None</td>\n",
       "      <td>None</td>\n",
       "      <td>None</td>\n",
       "      <td>None</td>\n",
       "    </tr>\n",
       "    <tr>\n",
       "      <th>2354</th>\n",
       "      <td>666029285002620928</td>\n",
       "      <td>NaN</td>\n",
       "      <td>NaN</td>\n",
       "      <td>2015-11-15 23:05:30 +0000</td>\n",
       "      <td>&lt;a href=\"http://twitter.com/download/iphone\" r...</td>\n",
       "      <td>This is a western brown Mitsubishi terrier. Up...</td>\n",
       "      <td>NaN</td>\n",
       "      <td>NaN</td>\n",
       "      <td>NaN</td>\n",
       "      <td>https://twitter.com/dog_rates/status/666029285...</td>\n",
       "      <td>7</td>\n",
       "      <td>10</td>\n",
       "      <td>a</td>\n",
       "      <td>None</td>\n",
       "      <td>None</td>\n",
       "      <td>None</td>\n",
       "      <td>None</td>\n",
       "    </tr>\n",
       "    <tr>\n",
       "      <th>2355</th>\n",
       "      <td>666020888022790149</td>\n",
       "      <td>NaN</td>\n",
       "      <td>NaN</td>\n",
       "      <td>2015-11-15 22:32:08 +0000</td>\n",
       "      <td>&lt;a href=\"http://twitter.com/download/iphone\" r...</td>\n",
       "      <td>Here we have a Japanese Irish Setter. Lost eye...</td>\n",
       "      <td>NaN</td>\n",
       "      <td>NaN</td>\n",
       "      <td>NaN</td>\n",
       "      <td>https://twitter.com/dog_rates/status/666020888...</td>\n",
       "      <td>8</td>\n",
       "      <td>10</td>\n",
       "      <td>None</td>\n",
       "      <td>None</td>\n",
       "      <td>None</td>\n",
       "      <td>None</td>\n",
       "      <td>None</td>\n",
       "    </tr>\n",
       "  </tbody>\n",
       "</table>\n",
       "<p>2356 rows × 17 columns</p>\n",
       "</div>"
      ],
      "text/plain": [
       "                tweet_id  in_reply_to_status_id  in_reply_to_user_id  \\\n",
       "0     892420643555336193                    NaN                  NaN   \n",
       "1     892177421306343426                    NaN                  NaN   \n",
       "2     891815181378084864                    NaN                  NaN   \n",
       "3     891689557279858688                    NaN                  NaN   \n",
       "4     891327558926688256                    NaN                  NaN   \n",
       "...                  ...                    ...                  ...   \n",
       "2351  666049248165822465                    NaN                  NaN   \n",
       "2352  666044226329800704                    NaN                  NaN   \n",
       "2353  666033412701032449                    NaN                  NaN   \n",
       "2354  666029285002620928                    NaN                  NaN   \n",
       "2355  666020888022790149                    NaN                  NaN   \n",
       "\n",
       "                      timestamp  \\\n",
       "0     2017-08-01 16:23:56 +0000   \n",
       "1     2017-08-01 00:17:27 +0000   \n",
       "2     2017-07-31 00:18:03 +0000   \n",
       "3     2017-07-30 15:58:51 +0000   \n",
       "4     2017-07-29 16:00:24 +0000   \n",
       "...                         ...   \n",
       "2351  2015-11-16 00:24:50 +0000   \n",
       "2352  2015-11-16 00:04:52 +0000   \n",
       "2353  2015-11-15 23:21:54 +0000   \n",
       "2354  2015-11-15 23:05:30 +0000   \n",
       "2355  2015-11-15 22:32:08 +0000   \n",
       "\n",
       "                                                 source  \\\n",
       "0     <a href=\"http://twitter.com/download/iphone\" r...   \n",
       "1     <a href=\"http://twitter.com/download/iphone\" r...   \n",
       "2     <a href=\"http://twitter.com/download/iphone\" r...   \n",
       "3     <a href=\"http://twitter.com/download/iphone\" r...   \n",
       "4     <a href=\"http://twitter.com/download/iphone\" r...   \n",
       "...                                                 ...   \n",
       "2351  <a href=\"http://twitter.com/download/iphone\" r...   \n",
       "2352  <a href=\"http://twitter.com/download/iphone\" r...   \n",
       "2353  <a href=\"http://twitter.com/download/iphone\" r...   \n",
       "2354  <a href=\"http://twitter.com/download/iphone\" r...   \n",
       "2355  <a href=\"http://twitter.com/download/iphone\" r...   \n",
       "\n",
       "                                                   text  retweeted_status_id  \\\n",
       "0     This is Phineas. He's a mystical boy. Only eve...                  NaN   \n",
       "1     This is Tilly. She's just checking pup on you....                  NaN   \n",
       "2     This is Archie. He is a rare Norwegian Pouncin...                  NaN   \n",
       "3     This is Darla. She commenced a snooze mid meal...                  NaN   \n",
       "4     This is Franklin. He would like you to stop ca...                  NaN   \n",
       "...                                                 ...                  ...   \n",
       "2351  Here we have a 1949 1st generation vulpix. Enj...                  NaN   \n",
       "2352  This is a purebred Piers Morgan. Loves to Netf...                  NaN   \n",
       "2353  Here is a very happy pup. Big fan of well-main...                  NaN   \n",
       "2354  This is a western brown Mitsubishi terrier. Up...                  NaN   \n",
       "2355  Here we have a Japanese Irish Setter. Lost eye...                  NaN   \n",
       "\n",
       "      retweeted_status_user_id retweeted_status_timestamp  \\\n",
       "0                          NaN                        NaN   \n",
       "1                          NaN                        NaN   \n",
       "2                          NaN                        NaN   \n",
       "3                          NaN                        NaN   \n",
       "4                          NaN                        NaN   \n",
       "...                        ...                        ...   \n",
       "2351                       NaN                        NaN   \n",
       "2352                       NaN                        NaN   \n",
       "2353                       NaN                        NaN   \n",
       "2354                       NaN                        NaN   \n",
       "2355                       NaN                        NaN   \n",
       "\n",
       "                                          expanded_urls  rating_numerator  \\\n",
       "0     https://twitter.com/dog_rates/status/892420643...                13   \n",
       "1     https://twitter.com/dog_rates/status/892177421...                13   \n",
       "2     https://twitter.com/dog_rates/status/891815181...                12   \n",
       "3     https://twitter.com/dog_rates/status/891689557...                13   \n",
       "4     https://twitter.com/dog_rates/status/891327558...                12   \n",
       "...                                                 ...               ...   \n",
       "2351  https://twitter.com/dog_rates/status/666049248...                 5   \n",
       "2352  https://twitter.com/dog_rates/status/666044226...                 6   \n",
       "2353  https://twitter.com/dog_rates/status/666033412...                 9   \n",
       "2354  https://twitter.com/dog_rates/status/666029285...                 7   \n",
       "2355  https://twitter.com/dog_rates/status/666020888...                 8   \n",
       "\n",
       "      rating_denominator      name doggo floofer pupper puppo  \n",
       "0                     10   Phineas  None    None   None  None  \n",
       "1                     10     Tilly  None    None   None  None  \n",
       "2                     10    Archie  None    None   None  None  \n",
       "3                     10     Darla  None    None   None  None  \n",
       "4                     10  Franklin  None    None   None  None  \n",
       "...                  ...       ...   ...     ...    ...   ...  \n",
       "2351                  10      None  None    None   None  None  \n",
       "2352                  10         a  None    None   None  None  \n",
       "2353                  10         a  None    None   None  None  \n",
       "2354                  10         a  None    None   None  None  \n",
       "2355                  10      None  None    None   None  None  \n",
       "\n",
       "[2356 rows x 17 columns]"
      ]
     },
     "execution_count": 4,
     "metadata": {},
     "output_type": "execute_result"
    }
   ],
   "source": [
    "twitter_archive_copy"
   ]
  },
  {
   "cell_type": "code",
   "execution_count": 5,
   "id": "a41819ac",
   "metadata": {},
   "outputs": [
    {
     "name": "stdout",
     "output_type": "stream",
     "text": [
      "<class 'pandas.core.frame.DataFrame'>\n",
      "RangeIndex: 2356 entries, 0 to 2355\n",
      "Data columns (total 17 columns):\n",
      " #   Column                      Non-Null Count  Dtype  \n",
      "---  ------                      --------------  -----  \n",
      " 0   tweet_id                    2356 non-null   int64  \n",
      " 1   in_reply_to_status_id       78 non-null     float64\n",
      " 2   in_reply_to_user_id         78 non-null     float64\n",
      " 3   timestamp                   2356 non-null   object \n",
      " 4   source                      2356 non-null   object \n",
      " 5   text                        2356 non-null   object \n",
      " 6   retweeted_status_id         181 non-null    float64\n",
      " 7   retweeted_status_user_id    181 non-null    float64\n",
      " 8   retweeted_status_timestamp  181 non-null    object \n",
      " 9   expanded_urls               2297 non-null   object \n",
      " 10  rating_numerator            2356 non-null   int64  \n",
      " 11  rating_denominator          2356 non-null   int64  \n",
      " 12  name                        2356 non-null   object \n",
      " 13  doggo                       2356 non-null   object \n",
      " 14  floofer                     2356 non-null   object \n",
      " 15  pupper                      2356 non-null   object \n",
      " 16  puppo                       2356 non-null   object \n",
      "dtypes: float64(4), int64(3), object(10)\n",
      "memory usage: 313.0+ KB\n"
     ]
    }
   ],
   "source": [
    "twitter_archive_copy.info()"
   ]
  },
  {
   "cell_type": "markdown",
   "id": "0b6f1ff5",
   "metadata": {},
   "source": [
    "#### Creating a folder\n"
   ]
  },
  {
   "cell_type": "code",
   "execution_count": 6,
   "id": "58edb400",
   "metadata": {},
   "outputs": [],
   "source": [
    "folder = \"Image_Predictions\"\n",
    "\n",
    "if not os.path.exists(folder):\n",
    "    os.makedirs(folder)"
   ]
  },
  {
   "cell_type": "code",
   "execution_count": 7,
   "id": "67b91edb",
   "metadata": {},
   "outputs": [],
   "source": [
    "url = \"https://d17h27t6h515a5.cloudfront.net/topher/2017/August/599fd2ad_image-predictions/image-predictions.tsv\""
   ]
  },
  {
   "cell_type": "code",
   "execution_count": 8,
   "id": "b36b4cbc",
   "metadata": {},
   "outputs": [],
   "source": [
    "info = requests.get(url)"
   ]
  },
  {
   "cell_type": "code",
   "execution_count": 9,
   "id": "fac97e92",
   "metadata": {},
   "outputs": [],
   "source": [
    "content = info.content"
   ]
  },
  {
   "cell_type": "code",
   "execution_count": 10,
   "id": "bb45d3a1",
   "metadata": {
    "scrolled": false
   },
   "outputs": [],
   "source": [
    "with open(os.path.join(folder, url.split(\"/\")[-1]), mode =\"wb\") as file:\n",
    "    file.write(content)"
   ]
  },
  {
   "cell_type": "code",
   "execution_count": 11,
   "id": "8f6f3abb",
   "metadata": {},
   "outputs": [],
   "source": [
    "image_predictions =pd.read_csv(\"Image_Predictions/image-predictions.tsv\",sep='\\t')\n"
   ]
  },
  {
   "cell_type": "code",
   "execution_count": 12,
   "id": "f7013727",
   "metadata": {},
   "outputs": [],
   "source": [
    "image_predictions_copy = image_predictions.copy()"
   ]
  },
  {
   "cell_type": "code",
   "execution_count": 13,
   "id": "ecb78ec3",
   "metadata": {},
   "outputs": [
    {
     "data": {
      "text/html": [
       "<div>\n",
       "<style scoped>\n",
       "    .dataframe tbody tr th:only-of-type {\n",
       "        vertical-align: middle;\n",
       "    }\n",
       "\n",
       "    .dataframe tbody tr th {\n",
       "        vertical-align: top;\n",
       "    }\n",
       "\n",
       "    .dataframe thead th {\n",
       "        text-align: right;\n",
       "    }\n",
       "</style>\n",
       "<table border=\"1\" class=\"dataframe\">\n",
       "  <thead>\n",
       "    <tr style=\"text-align: right;\">\n",
       "      <th></th>\n",
       "      <th>tweet_id</th>\n",
       "      <th>jpg_url</th>\n",
       "      <th>img_num</th>\n",
       "      <th>p1</th>\n",
       "      <th>p1_conf</th>\n",
       "      <th>p1_dog</th>\n",
       "      <th>p2</th>\n",
       "      <th>p2_conf</th>\n",
       "      <th>p2_dog</th>\n",
       "      <th>p3</th>\n",
       "      <th>p3_conf</th>\n",
       "      <th>p3_dog</th>\n",
       "    </tr>\n",
       "  </thead>\n",
       "  <tbody>\n",
       "    <tr>\n",
       "      <th>0</th>\n",
       "      <td>666020888022790149</td>\n",
       "      <td>https://pbs.twimg.com/media/CT4udn0WwAA0aMy.jpg</td>\n",
       "      <td>1</td>\n",
       "      <td>Welsh_springer_spaniel</td>\n",
       "      <td>0.465074</td>\n",
       "      <td>True</td>\n",
       "      <td>collie</td>\n",
       "      <td>0.156665</td>\n",
       "      <td>True</td>\n",
       "      <td>Shetland_sheepdog</td>\n",
       "      <td>0.061428</td>\n",
       "      <td>True</td>\n",
       "    </tr>\n",
       "    <tr>\n",
       "      <th>1</th>\n",
       "      <td>666029285002620928</td>\n",
       "      <td>https://pbs.twimg.com/media/CT42GRgUYAA5iDo.jpg</td>\n",
       "      <td>1</td>\n",
       "      <td>redbone</td>\n",
       "      <td>0.506826</td>\n",
       "      <td>True</td>\n",
       "      <td>miniature_pinscher</td>\n",
       "      <td>0.074192</td>\n",
       "      <td>True</td>\n",
       "      <td>Rhodesian_ridgeback</td>\n",
       "      <td>0.072010</td>\n",
       "      <td>True</td>\n",
       "    </tr>\n",
       "    <tr>\n",
       "      <th>2</th>\n",
       "      <td>666033412701032449</td>\n",
       "      <td>https://pbs.twimg.com/media/CT4521TWwAEvMyu.jpg</td>\n",
       "      <td>1</td>\n",
       "      <td>German_shepherd</td>\n",
       "      <td>0.596461</td>\n",
       "      <td>True</td>\n",
       "      <td>malinois</td>\n",
       "      <td>0.138584</td>\n",
       "      <td>True</td>\n",
       "      <td>bloodhound</td>\n",
       "      <td>0.116197</td>\n",
       "      <td>True</td>\n",
       "    </tr>\n",
       "    <tr>\n",
       "      <th>3</th>\n",
       "      <td>666044226329800704</td>\n",
       "      <td>https://pbs.twimg.com/media/CT5Dr8HUEAA-lEu.jpg</td>\n",
       "      <td>1</td>\n",
       "      <td>Rhodesian_ridgeback</td>\n",
       "      <td>0.408143</td>\n",
       "      <td>True</td>\n",
       "      <td>redbone</td>\n",
       "      <td>0.360687</td>\n",
       "      <td>True</td>\n",
       "      <td>miniature_pinscher</td>\n",
       "      <td>0.222752</td>\n",
       "      <td>True</td>\n",
       "    </tr>\n",
       "    <tr>\n",
       "      <th>4</th>\n",
       "      <td>666049248165822465</td>\n",
       "      <td>https://pbs.twimg.com/media/CT5IQmsXIAAKY4A.jpg</td>\n",
       "      <td>1</td>\n",
       "      <td>miniature_pinscher</td>\n",
       "      <td>0.560311</td>\n",
       "      <td>True</td>\n",
       "      <td>Rottweiler</td>\n",
       "      <td>0.243682</td>\n",
       "      <td>True</td>\n",
       "      <td>Doberman</td>\n",
       "      <td>0.154629</td>\n",
       "      <td>True</td>\n",
       "    </tr>\n",
       "  </tbody>\n",
       "</table>\n",
       "</div>"
      ],
      "text/plain": [
       "             tweet_id                                          jpg_url  \\\n",
       "0  666020888022790149  https://pbs.twimg.com/media/CT4udn0WwAA0aMy.jpg   \n",
       "1  666029285002620928  https://pbs.twimg.com/media/CT42GRgUYAA5iDo.jpg   \n",
       "2  666033412701032449  https://pbs.twimg.com/media/CT4521TWwAEvMyu.jpg   \n",
       "3  666044226329800704  https://pbs.twimg.com/media/CT5Dr8HUEAA-lEu.jpg   \n",
       "4  666049248165822465  https://pbs.twimg.com/media/CT5IQmsXIAAKY4A.jpg   \n",
       "\n",
       "   img_num                      p1   p1_conf  p1_dog                  p2  \\\n",
       "0        1  Welsh_springer_spaniel  0.465074    True              collie   \n",
       "1        1                 redbone  0.506826    True  miniature_pinscher   \n",
       "2        1         German_shepherd  0.596461    True            malinois   \n",
       "3        1     Rhodesian_ridgeback  0.408143    True             redbone   \n",
       "4        1      miniature_pinscher  0.560311    True          Rottweiler   \n",
       "\n",
       "    p2_conf  p2_dog                   p3   p3_conf  p3_dog  \n",
       "0  0.156665    True    Shetland_sheepdog  0.061428    True  \n",
       "1  0.074192    True  Rhodesian_ridgeback  0.072010    True  \n",
       "2  0.138584    True           bloodhound  0.116197    True  \n",
       "3  0.360687    True   miniature_pinscher  0.222752    True  \n",
       "4  0.243682    True             Doberman  0.154629    True  "
      ]
     },
     "execution_count": 13,
     "metadata": {},
     "output_type": "execute_result"
    }
   ],
   "source": [
    "image_predictions_copy.head()"
   ]
  },
  {
   "cell_type": "code",
   "execution_count": 14,
   "id": "1e5d8e9c",
   "metadata": {},
   "outputs": [
    {
     "name": "stdout",
     "output_type": "stream",
     "text": [
      "<class 'pandas.core.frame.DataFrame'>\n",
      "RangeIndex: 2075 entries, 0 to 2074\n",
      "Data columns (total 12 columns):\n",
      " #   Column    Non-Null Count  Dtype  \n",
      "---  ------    --------------  -----  \n",
      " 0   tweet_id  2075 non-null   int64  \n",
      " 1   jpg_url   2075 non-null   object \n",
      " 2   img_num   2075 non-null   int64  \n",
      " 3   p1        2075 non-null   object \n",
      " 4   p1_conf   2075 non-null   float64\n",
      " 5   p1_dog    2075 non-null   bool   \n",
      " 6   p2        2075 non-null   object \n",
      " 7   p2_conf   2075 non-null   float64\n",
      " 8   p2_dog    2075 non-null   bool   \n",
      " 9   p3        2075 non-null   object \n",
      " 10  p3_conf   2075 non-null   float64\n",
      " 11  p3_dog    2075 non-null   bool   \n",
      "dtypes: bool(3), float64(3), int64(2), object(4)\n",
      "memory usage: 152.1+ KB\n"
     ]
    }
   ],
   "source": [
    "image_predictions_copy.info()"
   ]
  },
  {
   "cell_type": "code",
   "execution_count": 15,
   "id": "636a6f54",
   "metadata": {},
   "outputs": [],
   "source": [
    "consumer_key = ''\n",
    "consumer_secret = ''\n",
    "access_token = ''\n",
    "access_secret = ''\n"
   ]
  },
  {
   "cell_type": "code",
   "execution_count": 16,
   "id": "7c7093ff",
   "metadata": {},
   "outputs": [],
   "source": [
    "\n",
    "auth = OAuthHandler(consumer_key, consumer_secret)\n",
    "auth.set_access_token(access_token, access_secret)"
   ]
  },
  {
   "cell_type": "code",
   "execution_count": 17,
   "id": "4f382d3f",
   "metadata": {},
   "outputs": [],
   "source": [
    "api = tweepy.API(auth)\n"
   ]
  },
  {
   "cell_type": "code",
   "execution_count": 18,
   "id": "4a5dac98",
   "metadata": {},
   "outputs": [],
   "source": [
    "tweet_ids = twitter_archive_copy[\"tweet_id\"].values"
   ]
  },
  {
   "cell_type": "code",
   "execution_count": 19,
   "id": "0bd29ccf",
   "metadata": {},
   "outputs": [],
   "source": [
    "# import json\n",
    "# count = 0\n",
    "# with open('tweet_json.txt', 'w') as outfile:\n",
    "# #     This loop will likely take 20-30 minutes to run because of Twitter's rate limit\n",
    "#    for tweet_id in tweet_ids:\n",
    "#        count += 1\n",
    "#        print(str(count) + \": \" + str(tweet_id))\n",
    "#        try:\n",
    "#            tweet = api.get_status(tweet_id, tweet_mode='extended')\n",
    "#            print(\"Success\")\n",
    "#            json.dump(tweet._json, outfile)\n",
    "#            outfile.write('\\n')\n",
    "#        except:\n",
    "#            print(\"unavailable tweet\")\n",
    "\n",
    "        "
   ]
  },
  {
   "cell_type": "code",
   "execution_count": 20,
   "id": "b64e6e49",
   "metadata": {},
   "outputs": [],
   "source": [
    "# import json\n",
    "# count = 0\n",
    "# dictkeys = {'id','full_text','retweet_count','favorite_count'}\n",
    "\n",
    "# with open('tweet_json.txt', 'w') as outfile:\n",
    "# #     This loop will likely take 20-30 minutes to run because of Twitter's rate limit\n",
    "#    for tweet_id in tweet_ids:\n",
    "#        count += 1\n",
    "#        print(str(count) + \": \" + str(tweet_id))\n",
    "#        try:\n",
    "#            tweet = api.get_status(tweet_id, tweet_mode='extended')\n",
    "#            data = tweet._json\n",
    "            \n",
    "#            dictionary = {key: data[key] for key in data.keys() & dictkeys}\n",
    "#            print(\"Success\")\n",
    "#            json.dump(dictionary._json, outfile)\n",
    "#            outfile.write('\\n')\n",
    "#        except:\n",
    "#            print(\"unavailable tweet\")\n",
    "\n",
    "        "
   ]
  },
  {
   "cell_type": "code",
   "execution_count": 21,
   "id": "b352769b",
   "metadata": {},
   "outputs": [],
   "source": [
    "extra_archive = pd.read_json('tweet_json.txt',  lines = True)\n",
    "extra_archive_data = extra_archive.loc[:,['id','full_text','retweet_count','favorite_count']]"
   ]
  },
  {
   "cell_type": "code",
   "execution_count": 22,
   "id": "201be56a",
   "metadata": {},
   "outputs": [],
   "source": [
    "extra_archive_data_copy = extra_archive_data.copy()"
   ]
  },
  {
   "cell_type": "markdown",
   "id": "a209444e",
   "metadata": {},
   "source": [
    "### Accessing the Data"
   ]
  },
  {
   "cell_type": "markdown",
   "id": "40f5f817",
   "metadata": {},
   "source": [
    "### `Data Quality Issues`"
   ]
  },
  {
   "cell_type": "code",
   "execution_count": 23,
   "id": "436456d8",
   "metadata": {},
   "outputs": [
    {
     "name": "stdout",
     "output_type": "stream",
     "text": [
      "<class 'pandas.core.frame.DataFrame'>\n",
      "RangeIndex: 2356 entries, 0 to 2355\n",
      "Data columns (total 17 columns):\n",
      " #   Column                      Non-Null Count  Dtype  \n",
      "---  ------                      --------------  -----  \n",
      " 0   tweet_id                    2356 non-null   int64  \n",
      " 1   in_reply_to_status_id       78 non-null     float64\n",
      " 2   in_reply_to_user_id         78 non-null     float64\n",
      " 3   timestamp                   2356 non-null   object \n",
      " 4   source                      2356 non-null   object \n",
      " 5   text                        2356 non-null   object \n",
      " 6   retweeted_status_id         181 non-null    float64\n",
      " 7   retweeted_status_user_id    181 non-null    float64\n",
      " 8   retweeted_status_timestamp  181 non-null    object \n",
      " 9   expanded_urls               2297 non-null   object \n",
      " 10  rating_numerator            2356 non-null   int64  \n",
      " 11  rating_denominator          2356 non-null   int64  \n",
      " 12  name                        2356 non-null   object \n",
      " 13  doggo                       2356 non-null   object \n",
      " 14  floofer                     2356 non-null   object \n",
      " 15  pupper                      2356 non-null   object \n",
      " 16  puppo                       2356 non-null   object \n",
      "dtypes: float64(4), int64(3), object(10)\n",
      "memory usage: 313.0+ KB\n"
     ]
    }
   ],
   "source": [
    "twitter_archive_copy.info()"
   ]
  },
  {
   "cell_type": "code",
   "execution_count": 24,
   "id": "199fab5f",
   "metadata": {},
   "outputs": [
    {
     "data": {
      "text/html": [
       "<div>\n",
       "<style scoped>\n",
       "    .dataframe tbody tr th:only-of-type {\n",
       "        vertical-align: middle;\n",
       "    }\n",
       "\n",
       "    .dataframe tbody tr th {\n",
       "        vertical-align: top;\n",
       "    }\n",
       "\n",
       "    .dataframe thead th {\n",
       "        text-align: right;\n",
       "    }\n",
       "</style>\n",
       "<table border=\"1\" class=\"dataframe\">\n",
       "  <thead>\n",
       "    <tr style=\"text-align: right;\">\n",
       "      <th></th>\n",
       "      <th>tweet_id</th>\n",
       "      <th>in_reply_to_status_id</th>\n",
       "      <th>in_reply_to_user_id</th>\n",
       "      <th>timestamp</th>\n",
       "      <th>source</th>\n",
       "      <th>text</th>\n",
       "      <th>retweeted_status_id</th>\n",
       "      <th>retweeted_status_user_id</th>\n",
       "      <th>retweeted_status_timestamp</th>\n",
       "      <th>expanded_urls</th>\n",
       "      <th>rating_numerator</th>\n",
       "      <th>rating_denominator</th>\n",
       "      <th>name</th>\n",
       "      <th>doggo</th>\n",
       "      <th>floofer</th>\n",
       "      <th>pupper</th>\n",
       "      <th>puppo</th>\n",
       "    </tr>\n",
       "  </thead>\n",
       "  <tbody>\n",
       "    <tr>\n",
       "      <th>170</th>\n",
       "      <td>859074603037188101</td>\n",
       "      <td>NaN</td>\n",
       "      <td>NaN</td>\n",
       "      <td>2017-05-01 15:58:40 +0000</td>\n",
       "      <td>&lt;a href=\"http://twitter.com/download/iphone\" r...</td>\n",
       "      <td>Here we have an exotic dog. Good at ukulele. F...</td>\n",
       "      <td>NaN</td>\n",
       "      <td>NaN</td>\n",
       "      <td>NaN</td>\n",
       "      <td>https://twitter.com/dog_rates/status/859074603...</td>\n",
       "      <td>13</td>\n",
       "      <td>10</td>\n",
       "      <td>None</td>\n",
       "      <td>None</td>\n",
       "      <td>None</td>\n",
       "      <td>None</td>\n",
       "      <td>None</td>\n",
       "    </tr>\n",
       "    <tr>\n",
       "      <th>1323</th>\n",
       "      <td>706265994973601792</td>\n",
       "      <td>NaN</td>\n",
       "      <td>NaN</td>\n",
       "      <td>2016-03-05 23:51:49 +0000</td>\n",
       "      <td>&lt;a href=\"http://twitter.com/download/iphone\" r...</td>\n",
       "      <td>This is Kara. She's been trying to solve that ...</td>\n",
       "      <td>NaN</td>\n",
       "      <td>NaN</td>\n",
       "      <td>NaN</td>\n",
       "      <td>https://twitter.com/dog_rates/status/706265994...</td>\n",
       "      <td>11</td>\n",
       "      <td>10</td>\n",
       "      <td>Kara</td>\n",
       "      <td>None</td>\n",
       "      <td>None</td>\n",
       "      <td>None</td>\n",
       "      <td>None</td>\n",
       "    </tr>\n",
       "    <tr>\n",
       "      <th>745</th>\n",
       "      <td>780092040432480260</td>\n",
       "      <td>NaN</td>\n",
       "      <td>NaN</td>\n",
       "      <td>2016-09-25 17:10:10 +0000</td>\n",
       "      <td>&lt;a href=\"http://twitter.com/download/iphone\" r...</td>\n",
       "      <td>RT @dog_rates: This is Hank. He's mischievous ...</td>\n",
       "      <td>7.533757e+17</td>\n",
       "      <td>4.196984e+09</td>\n",
       "      <td>2016-07-13 23:48:51 +0000</td>\n",
       "      <td>https://twitter.com/dog_rates/status/753375668...</td>\n",
       "      <td>8</td>\n",
       "      <td>10</td>\n",
       "      <td>Hank</td>\n",
       "      <td>None</td>\n",
       "      <td>None</td>\n",
       "      <td>None</td>\n",
       "      <td>None</td>\n",
       "    </tr>\n",
       "    <tr>\n",
       "      <th>314</th>\n",
       "      <td>835172783151792128</td>\n",
       "      <td>NaN</td>\n",
       "      <td>NaN</td>\n",
       "      <td>2017-02-24 17:01:22 +0000</td>\n",
       "      <td>&lt;a href=\"http://twitter.com/download/iphone\" r...</td>\n",
       "      <td>We only rate dogs. Please don't send in any no...</td>\n",
       "      <td>NaN</td>\n",
       "      <td>NaN</td>\n",
       "      <td>NaN</td>\n",
       "      <td>https://twitter.com/dog_rates/status/835172783...</td>\n",
       "      <td>12</td>\n",
       "      <td>10</td>\n",
       "      <td>None</td>\n",
       "      <td>None</td>\n",
       "      <td>None</td>\n",
       "      <td>None</td>\n",
       "      <td>None</td>\n",
       "    </tr>\n",
       "    <tr>\n",
       "      <th>2337</th>\n",
       "      <td>666268910803644416</td>\n",
       "      <td>NaN</td>\n",
       "      <td>NaN</td>\n",
       "      <td>2015-11-16 14:57:41 +0000</td>\n",
       "      <td>&lt;a href=\"http://twitter.com/download/iphone\" r...</td>\n",
       "      <td>Very concerned about fellow dog trapped in com...</td>\n",
       "      <td>NaN</td>\n",
       "      <td>NaN</td>\n",
       "      <td>NaN</td>\n",
       "      <td>https://twitter.com/dog_rates/status/666268910...</td>\n",
       "      <td>10</td>\n",
       "      <td>10</td>\n",
       "      <td>None</td>\n",
       "      <td>None</td>\n",
       "      <td>None</td>\n",
       "      <td>None</td>\n",
       "      <td>None</td>\n",
       "    </tr>\n",
       "    <tr>\n",
       "      <th>2171</th>\n",
       "      <td>669328503091937280</td>\n",
       "      <td>NaN</td>\n",
       "      <td>NaN</td>\n",
       "      <td>2015-11-25 01:35:25 +0000</td>\n",
       "      <td>&lt;a href=\"http://twitter.com/download/iphone\" r...</td>\n",
       "      <td>This is Kirk. He just saw a bacon wrapped tenn...</td>\n",
       "      <td>NaN</td>\n",
       "      <td>NaN</td>\n",
       "      <td>NaN</td>\n",
       "      <td>https://twitter.com/dog_rates/status/669328503...</td>\n",
       "      <td>12</td>\n",
       "      <td>10</td>\n",
       "      <td>Kirk</td>\n",
       "      <td>None</td>\n",
       "      <td>None</td>\n",
       "      <td>None</td>\n",
       "      <td>None</td>\n",
       "    </tr>\n",
       "    <tr>\n",
       "      <th>116</th>\n",
       "      <td>870308999962521604</td>\n",
       "      <td>NaN</td>\n",
       "      <td>NaN</td>\n",
       "      <td>2017-06-01 16:00:09 +0000</td>\n",
       "      <td>&lt;a href=\"http://twitter.com/download/iphone\" r...</td>\n",
       "      <td>This is Rumble, but he's not ready to. Would r...</td>\n",
       "      <td>NaN</td>\n",
       "      <td>NaN</td>\n",
       "      <td>NaN</td>\n",
       "      <td>https://twitter.com/dog_rates/status/870308999...</td>\n",
       "      <td>13</td>\n",
       "      <td>10</td>\n",
       "      <td>Rumble</td>\n",
       "      <td>None</td>\n",
       "      <td>None</td>\n",
       "      <td>None</td>\n",
       "      <td>None</td>\n",
       "    </tr>\n",
       "    <tr>\n",
       "      <th>1289</th>\n",
       "      <td>708149363256774660</td>\n",
       "      <td>NaN</td>\n",
       "      <td>NaN</td>\n",
       "      <td>2016-03-11 04:35:39 +0000</td>\n",
       "      <td>&lt;a href=\"http://twitter.com/download/iphone\" r...</td>\n",
       "      <td>This is Jebberson. He's the reigning hide and ...</td>\n",
       "      <td>NaN</td>\n",
       "      <td>NaN</td>\n",
       "      <td>NaN</td>\n",
       "      <td>https://twitter.com/dog_rates/status/708149363...</td>\n",
       "      <td>10</td>\n",
       "      <td>10</td>\n",
       "      <td>Jebberson</td>\n",
       "      <td>None</td>\n",
       "      <td>None</td>\n",
       "      <td>None</td>\n",
       "      <td>None</td>\n",
       "    </tr>\n",
       "    <tr>\n",
       "      <th>613</th>\n",
       "      <td>796865951799083009</td>\n",
       "      <td>NaN</td>\n",
       "      <td>NaN</td>\n",
       "      <td>2016-11-11 00:03:42 +0000</td>\n",
       "      <td>&lt;a href=\"http://twitter.com/download/iphone\" r...</td>\n",
       "      <td>This is Tyr. He's just checking on you. Nifty ...</td>\n",
       "      <td>NaN</td>\n",
       "      <td>NaN</td>\n",
       "      <td>NaN</td>\n",
       "      <td>https://twitter.com/dog_rates/status/796865951...</td>\n",
       "      <td>12</td>\n",
       "      <td>10</td>\n",
       "      <td>Tyr</td>\n",
       "      <td>None</td>\n",
       "      <td>None</td>\n",
       "      <td>None</td>\n",
       "      <td>None</td>\n",
       "    </tr>\n",
       "    <tr>\n",
       "      <th>1871</th>\n",
       "      <td>675147105808306176</td>\n",
       "      <td>NaN</td>\n",
       "      <td>NaN</td>\n",
       "      <td>2015-12-11 02:56:28 +0000</td>\n",
       "      <td>&lt;a href=\"http://twitter.com/download/iphone\" r...</td>\n",
       "      <td>When you're presenting a group project and the...</td>\n",
       "      <td>NaN</td>\n",
       "      <td>NaN</td>\n",
       "      <td>NaN</td>\n",
       "      <td>https://twitter.com/dog_rates/status/675147105...</td>\n",
       "      <td>10</td>\n",
       "      <td>10</td>\n",
       "      <td>None</td>\n",
       "      <td>None</td>\n",
       "      <td>None</td>\n",
       "      <td>None</td>\n",
       "      <td>None</td>\n",
       "    </tr>\n",
       "    <tr>\n",
       "      <th>1620</th>\n",
       "      <td>684940049151070208</td>\n",
       "      <td>NaN</td>\n",
       "      <td>NaN</td>\n",
       "      <td>2016-01-07 03:30:07 +0000</td>\n",
       "      <td>&lt;a href=\"http://twitter.com/download/iphone\" r...</td>\n",
       "      <td>This is Oreo. She's a photographer and a model...</td>\n",
       "      <td>NaN</td>\n",
       "      <td>NaN</td>\n",
       "      <td>NaN</td>\n",
       "      <td>https://twitter.com/dog_rates/status/684940049...</td>\n",
       "      <td>12</td>\n",
       "      <td>10</td>\n",
       "      <td>Oreo</td>\n",
       "      <td>None</td>\n",
       "      <td>None</td>\n",
       "      <td>None</td>\n",
       "      <td>None</td>\n",
       "    </tr>\n",
       "    <tr>\n",
       "      <th>2037</th>\n",
       "      <td>671561002136281088</td>\n",
       "      <td>NaN</td>\n",
       "      <td>NaN</td>\n",
       "      <td>2015-12-01 05:26:34 +0000</td>\n",
       "      <td>&lt;a href=\"http://twitter.com/download/iphone\" r...</td>\n",
       "      <td>This is the best thing I've ever seen so sprea...</td>\n",
       "      <td>NaN</td>\n",
       "      <td>NaN</td>\n",
       "      <td>NaN</td>\n",
       "      <td>https://twitter.com/dog_rates/status/671561002...</td>\n",
       "      <td>13</td>\n",
       "      <td>10</td>\n",
       "      <td>the</td>\n",
       "      <td>None</td>\n",
       "      <td>None</td>\n",
       "      <td>None</td>\n",
       "      <td>None</td>\n",
       "    </tr>\n",
       "    <tr>\n",
       "      <th>845</th>\n",
       "      <td>766423258543644672</td>\n",
       "      <td>NaN</td>\n",
       "      <td>NaN</td>\n",
       "      <td>2016-08-18 23:55:18 +0000</td>\n",
       "      <td>&lt;a href=\"http://twitter.com/download/iphone\" r...</td>\n",
       "      <td>This is Shadoe. Her tongue flies out of her mo...</td>\n",
       "      <td>NaN</td>\n",
       "      <td>NaN</td>\n",
       "      <td>NaN</td>\n",
       "      <td>https://twitter.com/dog_rates/status/766423258...</td>\n",
       "      <td>9</td>\n",
       "      <td>10</td>\n",
       "      <td>Shadoe</td>\n",
       "      <td>None</td>\n",
       "      <td>None</td>\n",
       "      <td>None</td>\n",
       "      <td>None</td>\n",
       "    </tr>\n",
       "    <tr>\n",
       "      <th>1216</th>\n",
       "      <td>714982300363173890</td>\n",
       "      <td>NaN</td>\n",
       "      <td>NaN</td>\n",
       "      <td>2016-03-30 01:07:18 +0000</td>\n",
       "      <td>&lt;a href=\"http://twitter.com/download/iphone\" r...</td>\n",
       "      <td>This is Calbert. He forgot to clear his Google...</td>\n",
       "      <td>NaN</td>\n",
       "      <td>NaN</td>\n",
       "      <td>NaN</td>\n",
       "      <td>https://twitter.com/dog_rates/status/714982300...</td>\n",
       "      <td>9</td>\n",
       "      <td>10</td>\n",
       "      <td>Calbert</td>\n",
       "      <td>None</td>\n",
       "      <td>None</td>\n",
       "      <td>None</td>\n",
       "      <td>None</td>\n",
       "    </tr>\n",
       "    <tr>\n",
       "      <th>1192</th>\n",
       "      <td>717790033953034240</td>\n",
       "      <td>NaN</td>\n",
       "      <td>NaN</td>\n",
       "      <td>2016-04-06 19:04:14 +0000</td>\n",
       "      <td>&lt;a href=\"http://twitter.com/download/iphone\" r...</td>\n",
       "      <td>Here's a badass mystery pupper. You weren't aw...</td>\n",
       "      <td>NaN</td>\n",
       "      <td>NaN</td>\n",
       "      <td>NaN</td>\n",
       "      <td>https://twitter.com/dog_rates/status/717790033...</td>\n",
       "      <td>10</td>\n",
       "      <td>10</td>\n",
       "      <td>None</td>\n",
       "      <td>None</td>\n",
       "      <td>None</td>\n",
       "      <td>pupper</td>\n",
       "      <td>None</td>\n",
       "    </tr>\n",
       "  </tbody>\n",
       "</table>\n",
       "</div>"
      ],
      "text/plain": [
       "                tweet_id  in_reply_to_status_id  in_reply_to_user_id  \\\n",
       "170   859074603037188101                    NaN                  NaN   \n",
       "1323  706265994973601792                    NaN                  NaN   \n",
       "745   780092040432480260                    NaN                  NaN   \n",
       "314   835172783151792128                    NaN                  NaN   \n",
       "2337  666268910803644416                    NaN                  NaN   \n",
       "2171  669328503091937280                    NaN                  NaN   \n",
       "116   870308999962521604                    NaN                  NaN   \n",
       "1289  708149363256774660                    NaN                  NaN   \n",
       "613   796865951799083009                    NaN                  NaN   \n",
       "1871  675147105808306176                    NaN                  NaN   \n",
       "1620  684940049151070208                    NaN                  NaN   \n",
       "2037  671561002136281088                    NaN                  NaN   \n",
       "845   766423258543644672                    NaN                  NaN   \n",
       "1216  714982300363173890                    NaN                  NaN   \n",
       "1192  717790033953034240                    NaN                  NaN   \n",
       "\n",
       "                      timestamp  \\\n",
       "170   2017-05-01 15:58:40 +0000   \n",
       "1323  2016-03-05 23:51:49 +0000   \n",
       "745   2016-09-25 17:10:10 +0000   \n",
       "314   2017-02-24 17:01:22 +0000   \n",
       "2337  2015-11-16 14:57:41 +0000   \n",
       "2171  2015-11-25 01:35:25 +0000   \n",
       "116   2017-06-01 16:00:09 +0000   \n",
       "1289  2016-03-11 04:35:39 +0000   \n",
       "613   2016-11-11 00:03:42 +0000   \n",
       "1871  2015-12-11 02:56:28 +0000   \n",
       "1620  2016-01-07 03:30:07 +0000   \n",
       "2037  2015-12-01 05:26:34 +0000   \n",
       "845   2016-08-18 23:55:18 +0000   \n",
       "1216  2016-03-30 01:07:18 +0000   \n",
       "1192  2016-04-06 19:04:14 +0000   \n",
       "\n",
       "                                                 source  \\\n",
       "170   <a href=\"http://twitter.com/download/iphone\" r...   \n",
       "1323  <a href=\"http://twitter.com/download/iphone\" r...   \n",
       "745   <a href=\"http://twitter.com/download/iphone\" r...   \n",
       "314   <a href=\"http://twitter.com/download/iphone\" r...   \n",
       "2337  <a href=\"http://twitter.com/download/iphone\" r...   \n",
       "2171  <a href=\"http://twitter.com/download/iphone\" r...   \n",
       "116   <a href=\"http://twitter.com/download/iphone\" r...   \n",
       "1289  <a href=\"http://twitter.com/download/iphone\" r...   \n",
       "613   <a href=\"http://twitter.com/download/iphone\" r...   \n",
       "1871  <a href=\"http://twitter.com/download/iphone\" r...   \n",
       "1620  <a href=\"http://twitter.com/download/iphone\" r...   \n",
       "2037  <a href=\"http://twitter.com/download/iphone\" r...   \n",
       "845   <a href=\"http://twitter.com/download/iphone\" r...   \n",
       "1216  <a href=\"http://twitter.com/download/iphone\" r...   \n",
       "1192  <a href=\"http://twitter.com/download/iphone\" r...   \n",
       "\n",
       "                                                   text  retweeted_status_id  \\\n",
       "170   Here we have an exotic dog. Good at ukulele. F...                  NaN   \n",
       "1323  This is Kara. She's been trying to solve that ...                  NaN   \n",
       "745   RT @dog_rates: This is Hank. He's mischievous ...         7.533757e+17   \n",
       "314   We only rate dogs. Please don't send in any no...                  NaN   \n",
       "2337  Very concerned about fellow dog trapped in com...                  NaN   \n",
       "2171  This is Kirk. He just saw a bacon wrapped tenn...                  NaN   \n",
       "116   This is Rumble, but he's not ready to. Would r...                  NaN   \n",
       "1289  This is Jebberson. He's the reigning hide and ...                  NaN   \n",
       "613   This is Tyr. He's just checking on you. Nifty ...                  NaN   \n",
       "1871  When you're presenting a group project and the...                  NaN   \n",
       "1620  This is Oreo. She's a photographer and a model...                  NaN   \n",
       "2037  This is the best thing I've ever seen so sprea...                  NaN   \n",
       "845   This is Shadoe. Her tongue flies out of her mo...                  NaN   \n",
       "1216  This is Calbert. He forgot to clear his Google...                  NaN   \n",
       "1192  Here's a badass mystery pupper. You weren't aw...                  NaN   \n",
       "\n",
       "      retweeted_status_user_id retweeted_status_timestamp  \\\n",
       "170                        NaN                        NaN   \n",
       "1323                       NaN                        NaN   \n",
       "745               4.196984e+09  2016-07-13 23:48:51 +0000   \n",
       "314                        NaN                        NaN   \n",
       "2337                       NaN                        NaN   \n",
       "2171                       NaN                        NaN   \n",
       "116                        NaN                        NaN   \n",
       "1289                       NaN                        NaN   \n",
       "613                        NaN                        NaN   \n",
       "1871                       NaN                        NaN   \n",
       "1620                       NaN                        NaN   \n",
       "2037                       NaN                        NaN   \n",
       "845                        NaN                        NaN   \n",
       "1216                       NaN                        NaN   \n",
       "1192                       NaN                        NaN   \n",
       "\n",
       "                                          expanded_urls  rating_numerator  \\\n",
       "170   https://twitter.com/dog_rates/status/859074603...                13   \n",
       "1323  https://twitter.com/dog_rates/status/706265994...                11   \n",
       "745   https://twitter.com/dog_rates/status/753375668...                 8   \n",
       "314   https://twitter.com/dog_rates/status/835172783...                12   \n",
       "2337  https://twitter.com/dog_rates/status/666268910...                10   \n",
       "2171  https://twitter.com/dog_rates/status/669328503...                12   \n",
       "116   https://twitter.com/dog_rates/status/870308999...                13   \n",
       "1289  https://twitter.com/dog_rates/status/708149363...                10   \n",
       "613   https://twitter.com/dog_rates/status/796865951...                12   \n",
       "1871  https://twitter.com/dog_rates/status/675147105...                10   \n",
       "1620  https://twitter.com/dog_rates/status/684940049...                12   \n",
       "2037  https://twitter.com/dog_rates/status/671561002...                13   \n",
       "845   https://twitter.com/dog_rates/status/766423258...                 9   \n",
       "1216  https://twitter.com/dog_rates/status/714982300...                 9   \n",
       "1192  https://twitter.com/dog_rates/status/717790033...                10   \n",
       "\n",
       "      rating_denominator       name doggo floofer  pupper puppo  \n",
       "170                   10       None  None    None    None  None  \n",
       "1323                  10       Kara  None    None    None  None  \n",
       "745                   10       Hank  None    None    None  None  \n",
       "314                   10       None  None    None    None  None  \n",
       "2337                  10       None  None    None    None  None  \n",
       "2171                  10       Kirk  None    None    None  None  \n",
       "116                   10     Rumble  None    None    None  None  \n",
       "1289                  10  Jebberson  None    None    None  None  \n",
       "613                   10        Tyr  None    None    None  None  \n",
       "1871                  10       None  None    None    None  None  \n",
       "1620                  10       Oreo  None    None    None  None  \n",
       "2037                  10        the  None    None    None  None  \n",
       "845                   10     Shadoe  None    None    None  None  \n",
       "1216                  10    Calbert  None    None    None  None  \n",
       "1192                  10       None  None    None  pupper  None  "
      ]
     },
     "execution_count": 24,
     "metadata": {},
     "output_type": "execute_result"
    }
   ],
   "source": [
    "twitter_archive_copy.sample(15)"
   ]
  },
  {
   "cell_type": "code",
   "execution_count": 25,
   "id": "a355ad27",
   "metadata": {},
   "outputs": [
    {
     "name": "stdout",
     "output_type": "stream",
     "text": [
      "<class 'pandas.core.frame.DataFrame'>\n",
      "RangeIndex: 2075 entries, 0 to 2074\n",
      "Data columns (total 12 columns):\n",
      " #   Column    Non-Null Count  Dtype  \n",
      "---  ------    --------------  -----  \n",
      " 0   tweet_id  2075 non-null   int64  \n",
      " 1   jpg_url   2075 non-null   object \n",
      " 2   img_num   2075 non-null   int64  \n",
      " 3   p1        2075 non-null   object \n",
      " 4   p1_conf   2075 non-null   float64\n",
      " 5   p1_dog    2075 non-null   bool   \n",
      " 6   p2        2075 non-null   object \n",
      " 7   p2_conf   2075 non-null   float64\n",
      " 8   p2_dog    2075 non-null   bool   \n",
      " 9   p3        2075 non-null   object \n",
      " 10  p3_conf   2075 non-null   float64\n",
      " 11  p3_dog    2075 non-null   bool   \n",
      "dtypes: bool(3), float64(3), int64(2), object(4)\n",
      "memory usage: 152.1+ KB\n"
     ]
    }
   ],
   "source": [
    "image_predictions_copy.info()"
   ]
  },
  {
   "cell_type": "code",
   "execution_count": 26,
   "id": "c73ae426",
   "metadata": {},
   "outputs": [
    {
     "data": {
      "text/plain": [
       "0"
      ]
     },
     "execution_count": 26,
     "metadata": {},
     "output_type": "execute_result"
    }
   ],
   "source": [
    "image_predictions_copy.duplicated().sum()"
   ]
  },
  {
   "cell_type": "code",
   "execution_count": 27,
   "id": "51c920fb",
   "metadata": {},
   "outputs": [
    {
     "data": {
      "text/html": [
       "<div>\n",
       "<style scoped>\n",
       "    .dataframe tbody tr th:only-of-type {\n",
       "        vertical-align: middle;\n",
       "    }\n",
       "\n",
       "    .dataframe tbody tr th {\n",
       "        vertical-align: top;\n",
       "    }\n",
       "\n",
       "    .dataframe thead th {\n",
       "        text-align: right;\n",
       "    }\n",
       "</style>\n",
       "<table border=\"1\" class=\"dataframe\">\n",
       "  <thead>\n",
       "    <tr style=\"text-align: right;\">\n",
       "      <th></th>\n",
       "      <th>tweet_id</th>\n",
       "      <th>jpg_url</th>\n",
       "      <th>img_num</th>\n",
       "      <th>p1</th>\n",
       "      <th>p1_conf</th>\n",
       "      <th>p1_dog</th>\n",
       "      <th>p2</th>\n",
       "      <th>p2_conf</th>\n",
       "      <th>p2_dog</th>\n",
       "      <th>p3</th>\n",
       "      <th>p3_conf</th>\n",
       "      <th>p3_dog</th>\n",
       "    </tr>\n",
       "  </thead>\n",
       "  <tbody>\n",
       "    <tr>\n",
       "      <th>1579</th>\n",
       "      <td>796177847564038144</td>\n",
       "      <td>https://pbs.twimg.com/media/Cwx99rpW8AMk_Ie.jpg</td>\n",
       "      <td>1</td>\n",
       "      <td>golden_retriever</td>\n",
       "      <td>0.600276</td>\n",
       "      <td>True</td>\n",
       "      <td>Labrador_retriever</td>\n",
       "      <td>0.140798</td>\n",
       "      <td>True</td>\n",
       "      <td>seat_belt</td>\n",
       "      <td>0.087355</td>\n",
       "      <td>False</td>\n",
       "    </tr>\n",
       "    <tr>\n",
       "      <th>2066</th>\n",
       "      <td>890609185150312448</td>\n",
       "      <td>https://pbs.twimg.com/media/DFwUU__XcAEpyXI.jpg</td>\n",
       "      <td>1</td>\n",
       "      <td>Irish_terrier</td>\n",
       "      <td>0.487574</td>\n",
       "      <td>True</td>\n",
       "      <td>Irish_setter</td>\n",
       "      <td>0.193054</td>\n",
       "      <td>True</td>\n",
       "      <td>Chesapeake_Bay_retriever</td>\n",
       "      <td>0.118184</td>\n",
       "      <td>True</td>\n",
       "    </tr>\n",
       "    <tr>\n",
       "      <th>1215</th>\n",
       "      <td>743510151680958465</td>\n",
       "      <td>https://pbs.twimg.com/ext_tw_video_thumb/74350...</td>\n",
       "      <td>1</td>\n",
       "      <td>sea_lion</td>\n",
       "      <td>0.859046</td>\n",
       "      <td>False</td>\n",
       "      <td>tub</td>\n",
       "      <td>0.020405</td>\n",
       "      <td>False</td>\n",
       "      <td>hippopotamus</td>\n",
       "      <td>0.013095</td>\n",
       "      <td>False</td>\n",
       "    </tr>\n",
       "    <tr>\n",
       "      <th>895</th>\n",
       "      <td>699446877801091073</td>\n",
       "      <td>https://pbs.twimg.com/media/CbTvNpoW0AEemnx.jpg</td>\n",
       "      <td>3</td>\n",
       "      <td>Pembroke</td>\n",
       "      <td>0.969400</td>\n",
       "      <td>True</td>\n",
       "      <td>Cardigan</td>\n",
       "      <td>0.026059</td>\n",
       "      <td>True</td>\n",
       "      <td>Chihuahua</td>\n",
       "      <td>0.003505</td>\n",
       "      <td>True</td>\n",
       "    </tr>\n",
       "    <tr>\n",
       "      <th>1095</th>\n",
       "      <td>720043174954147842</td>\n",
       "      <td>https://pbs.twimg.com/media/Cf4bcm8XEAAX4xV.jpg</td>\n",
       "      <td>1</td>\n",
       "      <td>Samoyed</td>\n",
       "      <td>0.954517</td>\n",
       "      <td>True</td>\n",
       "      <td>Eskimo_dog</td>\n",
       "      <td>0.029130</td>\n",
       "      <td>True</td>\n",
       "      <td>white_wolf</td>\n",
       "      <td>0.004462</td>\n",
       "      <td>False</td>\n",
       "    </tr>\n",
       "    <tr>\n",
       "      <th>843</th>\n",
       "      <td>695064344191721472</td>\n",
       "      <td>https://pbs.twimg.com/ext_tw_video_thumb/69506...</td>\n",
       "      <td>1</td>\n",
       "      <td>seat_belt</td>\n",
       "      <td>0.522211</td>\n",
       "      <td>False</td>\n",
       "      <td>sunglasses</td>\n",
       "      <td>0.077552</td>\n",
       "      <td>False</td>\n",
       "      <td>ice_lolly</td>\n",
       "      <td>0.051774</td>\n",
       "      <td>False</td>\n",
       "    </tr>\n",
       "    <tr>\n",
       "      <th>1792</th>\n",
       "      <td>830956169170665475</td>\n",
       "      <td>https://pbs.twimg.com/ext_tw_video_thumb/83095...</td>\n",
       "      <td>1</td>\n",
       "      <td>kuvasz</td>\n",
       "      <td>0.451516</td>\n",
       "      <td>True</td>\n",
       "      <td>golden_retriever</td>\n",
       "      <td>0.317196</td>\n",
       "      <td>True</td>\n",
       "      <td>English_setter</td>\n",
       "      <td>0.132759</td>\n",
       "      <td>True</td>\n",
       "    </tr>\n",
       "    <tr>\n",
       "      <th>1927</th>\n",
       "      <td>857989990357356544</td>\n",
       "      <td>https://pbs.twimg.com/media/C-gxV9ZXkAIBL-S.jpg</td>\n",
       "      <td>1</td>\n",
       "      <td>French_bulldog</td>\n",
       "      <td>0.432580</td>\n",
       "      <td>True</td>\n",
       "      <td>English_springer</td>\n",
       "      <td>0.325898</td>\n",
       "      <td>True</td>\n",
       "      <td>Lakeland_terrier</td>\n",
       "      <td>0.042618</td>\n",
       "      <td>True</td>\n",
       "    </tr>\n",
       "    <tr>\n",
       "      <th>1093</th>\n",
       "      <td>719704490224398336</td>\n",
       "      <td>https://pbs.twimg.com/media/CfznaXuUsAAH-py.jpg</td>\n",
       "      <td>1</td>\n",
       "      <td>home_theater</td>\n",
       "      <td>0.059033</td>\n",
       "      <td>False</td>\n",
       "      <td>window_shade</td>\n",
       "      <td>0.038299</td>\n",
       "      <td>False</td>\n",
       "      <td>bathtub</td>\n",
       "      <td>0.035528</td>\n",
       "      <td>False</td>\n",
       "    </tr>\n",
       "    <tr>\n",
       "      <th>712</th>\n",
       "      <td>685321586178670592</td>\n",
       "      <td>https://pbs.twimg.com/media/CYLAWFMWMAEcRzb.jpg</td>\n",
       "      <td>1</td>\n",
       "      <td>Boston_bull</td>\n",
       "      <td>0.972483</td>\n",
       "      <td>True</td>\n",
       "      <td>French_bulldog</td>\n",
       "      <td>0.025469</td>\n",
       "      <td>True</td>\n",
       "      <td>boxer</td>\n",
       "      <td>0.000458</td>\n",
       "      <td>True</td>\n",
       "    </tr>\n",
       "    <tr>\n",
       "      <th>673</th>\n",
       "      <td>683357973142474752</td>\n",
       "      <td>https://pbs.twimg.com/media/CXvGbWeWMAcRbyJ.jpg</td>\n",
       "      <td>1</td>\n",
       "      <td>Pembroke</td>\n",
       "      <td>0.406509</td>\n",
       "      <td>True</td>\n",
       "      <td>Cardigan</td>\n",
       "      <td>0.154854</td>\n",
       "      <td>True</td>\n",
       "      <td>Siberian_husky</td>\n",
       "      <td>0.136366</td>\n",
       "      <td>True</td>\n",
       "    </tr>\n",
       "    <tr>\n",
       "      <th>2012</th>\n",
       "      <td>879050749262655488</td>\n",
       "      <td>https://pbs.twimg.com/media/DDMD_phXoAQ1qf0.jpg</td>\n",
       "      <td>1</td>\n",
       "      <td>tabby</td>\n",
       "      <td>0.311861</td>\n",
       "      <td>False</td>\n",
       "      <td>window_screen</td>\n",
       "      <td>0.169123</td>\n",
       "      <td>False</td>\n",
       "      <td>Egyptian_cat</td>\n",
       "      <td>0.132932</td>\n",
       "      <td>False</td>\n",
       "    </tr>\n",
       "    <tr>\n",
       "      <th>1937</th>\n",
       "      <td>860276583193509888</td>\n",
       "      <td>https://pbs.twimg.com/media/C_BQ_NlVwAAgYGD.jpg</td>\n",
       "      <td>1</td>\n",
       "      <td>lakeside</td>\n",
       "      <td>0.312299</td>\n",
       "      <td>False</td>\n",
       "      <td>dock</td>\n",
       "      <td>0.159842</td>\n",
       "      <td>False</td>\n",
       "      <td>canoe</td>\n",
       "      <td>0.070794</td>\n",
       "      <td>False</td>\n",
       "    </tr>\n",
       "    <tr>\n",
       "      <th>144</th>\n",
       "      <td>668623201287675904</td>\n",
       "      <td>https://pbs.twimg.com/media/CUdtP1xUYAIeBnE.jpg</td>\n",
       "      <td>4</td>\n",
       "      <td>Chihuahua</td>\n",
       "      <td>0.708163</td>\n",
       "      <td>True</td>\n",
       "      <td>Pomeranian</td>\n",
       "      <td>0.091372</td>\n",
       "      <td>True</td>\n",
       "      <td>titi</td>\n",
       "      <td>0.067325</td>\n",
       "      <td>False</td>\n",
       "    </tr>\n",
       "    <tr>\n",
       "      <th>67</th>\n",
       "      <td>667177989038297088</td>\n",
       "      <td>https://pbs.twimg.com/media/CUJK18UWEAEg7AR.jpg</td>\n",
       "      <td>1</td>\n",
       "      <td>vizsla</td>\n",
       "      <td>0.259249</td>\n",
       "      <td>True</td>\n",
       "      <td>Chesapeake_Bay_retriever</td>\n",
       "      <td>0.176293</td>\n",
       "      <td>True</td>\n",
       "      <td>Weimaraner</td>\n",
       "      <td>0.112369</td>\n",
       "      <td>True</td>\n",
       "    </tr>\n",
       "  </tbody>\n",
       "</table>\n",
       "</div>"
      ],
      "text/plain": [
       "                tweet_id                                            jpg_url  \\\n",
       "1579  796177847564038144    https://pbs.twimg.com/media/Cwx99rpW8AMk_Ie.jpg   \n",
       "2066  890609185150312448    https://pbs.twimg.com/media/DFwUU__XcAEpyXI.jpg   \n",
       "1215  743510151680958465  https://pbs.twimg.com/ext_tw_video_thumb/74350...   \n",
       "895   699446877801091073    https://pbs.twimg.com/media/CbTvNpoW0AEemnx.jpg   \n",
       "1095  720043174954147842    https://pbs.twimg.com/media/Cf4bcm8XEAAX4xV.jpg   \n",
       "843   695064344191721472  https://pbs.twimg.com/ext_tw_video_thumb/69506...   \n",
       "1792  830956169170665475  https://pbs.twimg.com/ext_tw_video_thumb/83095...   \n",
       "1927  857989990357356544    https://pbs.twimg.com/media/C-gxV9ZXkAIBL-S.jpg   \n",
       "1093  719704490224398336    https://pbs.twimg.com/media/CfznaXuUsAAH-py.jpg   \n",
       "712   685321586178670592    https://pbs.twimg.com/media/CYLAWFMWMAEcRzb.jpg   \n",
       "673   683357973142474752    https://pbs.twimg.com/media/CXvGbWeWMAcRbyJ.jpg   \n",
       "2012  879050749262655488    https://pbs.twimg.com/media/DDMD_phXoAQ1qf0.jpg   \n",
       "1937  860276583193509888    https://pbs.twimg.com/media/C_BQ_NlVwAAgYGD.jpg   \n",
       "144   668623201287675904    https://pbs.twimg.com/media/CUdtP1xUYAIeBnE.jpg   \n",
       "67    667177989038297088    https://pbs.twimg.com/media/CUJK18UWEAEg7AR.jpg   \n",
       "\n",
       "      img_num                p1   p1_conf  p1_dog                        p2  \\\n",
       "1579        1  golden_retriever  0.600276    True        Labrador_retriever   \n",
       "2066        1     Irish_terrier  0.487574    True              Irish_setter   \n",
       "1215        1          sea_lion  0.859046   False                       tub   \n",
       "895         3          Pembroke  0.969400    True                  Cardigan   \n",
       "1095        1           Samoyed  0.954517    True                Eskimo_dog   \n",
       "843         1         seat_belt  0.522211   False                sunglasses   \n",
       "1792        1            kuvasz  0.451516    True          golden_retriever   \n",
       "1927        1    French_bulldog  0.432580    True          English_springer   \n",
       "1093        1      home_theater  0.059033   False              window_shade   \n",
       "712         1       Boston_bull  0.972483    True            French_bulldog   \n",
       "673         1          Pembroke  0.406509    True                  Cardigan   \n",
       "2012        1             tabby  0.311861   False             window_screen   \n",
       "1937        1          lakeside  0.312299   False                      dock   \n",
       "144         4         Chihuahua  0.708163    True                Pomeranian   \n",
       "67          1            vizsla  0.259249    True  Chesapeake_Bay_retriever   \n",
       "\n",
       "       p2_conf  p2_dog                        p3   p3_conf  p3_dog  \n",
       "1579  0.140798    True                 seat_belt  0.087355   False  \n",
       "2066  0.193054    True  Chesapeake_Bay_retriever  0.118184    True  \n",
       "1215  0.020405   False              hippopotamus  0.013095   False  \n",
       "895   0.026059    True                 Chihuahua  0.003505    True  \n",
       "1095  0.029130    True                white_wolf  0.004462   False  \n",
       "843   0.077552   False                 ice_lolly  0.051774   False  \n",
       "1792  0.317196    True            English_setter  0.132759    True  \n",
       "1927  0.325898    True          Lakeland_terrier  0.042618    True  \n",
       "1093  0.038299   False                   bathtub  0.035528   False  \n",
       "712   0.025469    True                     boxer  0.000458    True  \n",
       "673   0.154854    True            Siberian_husky  0.136366    True  \n",
       "2012  0.169123   False              Egyptian_cat  0.132932   False  \n",
       "1937  0.159842   False                     canoe  0.070794   False  \n",
       "144   0.091372    True                      titi  0.067325   False  \n",
       "67    0.176293    True                Weimaraner  0.112369    True  "
      ]
     },
     "execution_count": 27,
     "metadata": {},
     "output_type": "execute_result"
    }
   ],
   "source": [
    "image_predictions_copy.sample(15)"
   ]
  },
  {
   "cell_type": "code",
   "execution_count": 28,
   "id": "ac51b3cd",
   "metadata": {},
   "outputs": [
    {
     "name": "stdout",
     "output_type": "stream",
     "text": [
      "<class 'pandas.core.frame.DataFrame'>\n",
      "RangeIndex: 1772 entries, 0 to 1771\n",
      "Data columns (total 4 columns):\n",
      " #   Column          Non-Null Count  Dtype \n",
      "---  ------          --------------  ----- \n",
      " 0   id              1772 non-null   int64 \n",
      " 1   full_text       1772 non-null   object\n",
      " 2   retweet_count   1772 non-null   int64 \n",
      " 3   favorite_count  1772 non-null   int64 \n",
      "dtypes: int64(3), object(1)\n",
      "memory usage: 55.5+ KB\n"
     ]
    }
   ],
   "source": [
    "extra_archive_data_copy.info()"
   ]
  },
  {
   "cell_type": "code",
   "execution_count": 29,
   "id": "f3db845b",
   "metadata": {},
   "outputs": [
    {
     "data": {
      "text/plain": [
       "0"
      ]
     },
     "execution_count": 29,
     "metadata": {},
     "output_type": "execute_result"
    }
   ],
   "source": [
    "extra_archive_data_copy.duplicated().sum()"
   ]
  },
  {
   "cell_type": "markdown",
   "id": "89ae2e41",
   "metadata": {},
   "source": [
    "### Twitter archive dataset"
   ]
  },
  {
   "cell_type": "markdown",
   "id": "1c7f81d5",
   "metadata": {},
   "source": [
    "- Some columns have incorrect datatype such as the timestamp,retweeted_status_timestamp\n",
    "- The dataset contains missing values\n",
    "- Some tweets are retweets not original tweets\n",
    "- Some numerator and deominator value exceeds 10"
   ]
  },
  {
   "cell_type": "markdown",
   "id": "c150f44e",
   "metadata": {},
   "source": [
    "### Image Predictions dataset"
   ]
  },
  {
   "cell_type": "markdown",
   "id": "07f2eadc",
   "metadata": {},
   "source": [
    "- The prediction contains other animals than dogs"
   ]
  },
  {
   "cell_type": "markdown",
   "id": "0ad6d5b5",
   "metadata": {},
   "source": [
    "### Extra Archive Dataset"
   ]
  },
  {
   "cell_type": "markdown",
   "id": "90a0cd18",
   "metadata": {},
   "source": [
    "- The dataset is cleaned"
   ]
  },
  {
   "cell_type": "markdown",
   "id": "260dc0d8",
   "metadata": {},
   "source": [
    "### `Untidy Issues`"
   ]
  },
  {
   "cell_type": "markdown",
   "id": "685ca09c",
   "metadata": {},
   "source": [
    "### Twitter archive dataset"
   ]
  },
  {
   "cell_type": "markdown",
   "id": "0709a445",
   "metadata": {},
   "source": [
    "- The various type of dogs should be in a single column\n",
    "- The tables should be joined"
   ]
  },
  {
   "cell_type": "markdown",
   "id": "79749483",
   "metadata": {},
   "source": [
    "### Phase 3 :Cleaning"
   ]
  },
  {
   "cell_type": "code",
   "execution_count": 30,
   "id": "3a96656b",
   "metadata": {},
   "outputs": [
    {
     "data": {
      "text/plain": [
       "tweet_id                         0\n",
       "in_reply_to_status_id         2278\n",
       "in_reply_to_user_id           2278\n",
       "timestamp                        0\n",
       "source                           0\n",
       "text                             0\n",
       "retweeted_status_id           2175\n",
       "retweeted_status_user_id      2175\n",
       "retweeted_status_timestamp    2175\n",
       "expanded_urls                   59\n",
       "rating_numerator                 0\n",
       "rating_denominator               0\n",
       "name                             0\n",
       "doggo                            0\n",
       "floofer                          0\n",
       "pupper                           0\n",
       "puppo                            0\n",
       "dtype: int64"
      ]
     },
     "execution_count": 30,
     "metadata": {},
     "output_type": "execute_result"
    }
   ],
   "source": [
    "twitter_archive_copy.isnull().sum()"
   ]
  },
  {
   "cell_type": "markdown",
   "id": "e313391b",
   "metadata": {},
   "source": [
    "### Define"
   ]
  },
  {
   "cell_type": "markdown",
   "id": "fc25ac54",
   "metadata": {},
   "source": [
    "Drop rows with retweeted_status_id"
   ]
  },
  {
   "cell_type": "markdown",
   "id": "8e28d1d9",
   "metadata": {},
   "source": [
    "### Code"
   ]
  },
  {
   "cell_type": "code",
   "execution_count": 31,
   "id": "9cfc90fe",
   "metadata": {},
   "outputs": [],
   "source": [
    "retweeted_tweets = twitter_archive_copy[twitter_archive_copy.retweeted_status_id.notnull()].index.tolist()\n"
   ]
  },
  {
   "cell_type": "code",
   "execution_count": 32,
   "id": "3102412f",
   "metadata": {},
   "outputs": [],
   "source": [
    "twitter_archive_copy.drop(retweeted_tweets, axis=0, inplace=True)"
   ]
  },
  {
   "cell_type": "markdown",
   "id": "b277a793",
   "metadata": {},
   "source": [
    "### Test"
   ]
  },
  {
   "cell_type": "code",
   "execution_count": 33,
   "id": "f6c0c922",
   "metadata": {},
   "outputs": [
    {
     "data": {
      "text/plain": [
       "0"
      ]
     },
     "execution_count": 33,
     "metadata": {},
     "output_type": "execute_result"
    }
   ],
   "source": [
    "twitter_archive_copy[\"retweeted_status_id\"].notnull().sum()"
   ]
  },
  {
   "cell_type": "markdown",
   "id": "3dc96aef",
   "metadata": {},
   "source": [
    "   ### Define"
   ]
  },
  {
   "cell_type": "markdown",
   "id": "1dc97cba",
   "metadata": {},
   "source": [
    "- Drop the columns retweeted_status_id, retweeted_status_user_id, retweeted_status_timestamp,in_reply_to_status_id and in_reply_to_user_id in the twitter_archive_copy dataset  "
   ]
  },
  {
   "cell_type": "markdown",
   "id": "4c94dc63",
   "metadata": {},
   "source": [
    "### Code"
   ]
  },
  {
   "cell_type": "code",
   "execution_count": 34,
   "id": "70093f42",
   "metadata": {},
   "outputs": [],
   "source": [
    "twitter_archive_copy.drop(axis=1,columns=[\"retweeted_status_id\", \"retweeted_status_user_id\", \"retweeted_status_timestamp\",\"in_reply_to_status_id\",\"in_reply_to_user_id\"], inplace=True)"
   ]
  },
  {
   "cell_type": "markdown",
   "id": "8c428276",
   "metadata": {},
   "source": [
    "### Test"
   ]
  },
  {
   "cell_type": "code",
   "execution_count": 35,
   "id": "ffa09be8",
   "metadata": {},
   "outputs": [
    {
     "data": {
      "text/plain": [
       "Index(['tweet_id', 'timestamp', 'source', 'text', 'expanded_urls',\n",
       "       'rating_numerator', 'rating_denominator', 'name', 'doggo', 'floofer',\n",
       "       'pupper', 'puppo'],\n",
       "      dtype='object')"
      ]
     },
     "execution_count": 35,
     "metadata": {},
     "output_type": "execute_result"
    }
   ],
   "source": [
    "twitter_archive_copy.columns"
   ]
  },
  {
   "cell_type": "markdown",
   "id": "5c61a8a6",
   "metadata": {},
   "source": []
  },
  {
   "cell_type": "code",
   "execution_count": 36,
   "id": "b1da951d",
   "metadata": {},
   "outputs": [
    {
     "name": "stdout",
     "output_type": "stream",
     "text": [
      "<class 'pandas.core.frame.DataFrame'>\n",
      "Int64Index: 2175 entries, 0 to 2355\n",
      "Data columns (total 12 columns):\n",
      " #   Column              Non-Null Count  Dtype \n",
      "---  ------              --------------  ----- \n",
      " 0   tweet_id            2175 non-null   int64 \n",
      " 1   timestamp           2175 non-null   object\n",
      " 2   source              2175 non-null   object\n",
      " 3   text                2175 non-null   object\n",
      " 4   expanded_urls       2117 non-null   object\n",
      " 5   rating_numerator    2175 non-null   int64 \n",
      " 6   rating_denominator  2175 non-null   int64 \n",
      " 7   name                2175 non-null   object\n",
      " 8   doggo               2175 non-null   object\n",
      " 9   floofer             2175 non-null   object\n",
      " 10  pupper              2175 non-null   object\n",
      " 11  puppo               2175 non-null   object\n",
      "dtypes: int64(3), object(9)\n",
      "memory usage: 220.9+ KB\n"
     ]
    }
   ],
   "source": [
    "twitter_archive_copy.info()"
   ]
  },
  {
   "cell_type": "markdown",
   "id": "daf327c3",
   "metadata": {},
   "source": [
    "### Define"
   ]
  },
  {
   "cell_type": "markdown",
   "id": "b1811719",
   "metadata": {},
   "source": [
    "- Convert numerators exceeding 14 to 14\n",
    "- Convert denominator to 14"
   ]
  },
  {
   "cell_type": "markdown",
   "id": "b6a2ef1a",
   "metadata": {},
   "source": [
    "### Code"
   ]
  },
  {
   "cell_type": "code",
   "execution_count": 37,
   "id": "7221836e",
   "metadata": {},
   "outputs": [],
   "source": [
    "# twitter_archive_copy[twitter_archive_copy[\"rating_numerator\"] > 14] =14\n",
    "# twitter_archive_copy[\"rating_denominator\"] =14\n",
    "twitter_archive_copy.loc[twitter_archive_copy.rating_numerator > 14,['rating_numerator']] = 14\n",
    "twitter_archive_copy.loc[twitter_archive_copy.rating_numerator > 14,['rating_denominator']] = 14\n"
   ]
  },
  {
   "cell_type": "markdown",
   "id": "89ff9bd9",
   "metadata": {},
   "source": [
    "### Test"
   ]
  },
  {
   "cell_type": "code",
   "execution_count": 38,
   "id": "bab3e563",
   "metadata": {},
   "outputs": [],
   "source": [
    "# twitter_archive_copy[\"rating_numerator\"].max()"
   ]
  },
  {
   "cell_type": "code",
   "execution_count": 39,
   "id": "b799e918",
   "metadata": {},
   "outputs": [
    {
     "name": "stdout",
     "output_type": "stream",
     "text": [
      "<class 'pandas.core.frame.DataFrame'>\n",
      "Int64Index: 2175 entries, 0 to 2355\n",
      "Data columns (total 12 columns):\n",
      " #   Column              Non-Null Count  Dtype \n",
      "---  ------              --------------  ----- \n",
      " 0   tweet_id            2175 non-null   int64 \n",
      " 1   timestamp           2175 non-null   object\n",
      " 2   source              2175 non-null   object\n",
      " 3   text                2175 non-null   object\n",
      " 4   expanded_urls       2117 non-null   object\n",
      " 5   rating_numerator    2175 non-null   int64 \n",
      " 6   rating_denominator  2175 non-null   int64 \n",
      " 7   name                2175 non-null   object\n",
      " 8   doggo               2175 non-null   object\n",
      " 9   floofer             2175 non-null   object\n",
      " 10  pupper              2175 non-null   object\n",
      " 11  puppo               2175 non-null   object\n",
      "dtypes: int64(3), object(9)\n",
      "memory usage: 220.9+ KB\n"
     ]
    }
   ],
   "source": [
    "twitter_archive_copy.info()"
   ]
  },
  {
   "cell_type": "markdown",
   "id": "6f361a04",
   "metadata": {},
   "source": [
    "### Define"
   ]
  },
  {
   "cell_type": "markdown",
   "id": "44172331",
   "metadata": {},
   "source": [
    "- Drop all rows with no data in expanded_urls column"
   ]
  },
  {
   "cell_type": "markdown",
   "id": "6018e933",
   "metadata": {},
   "source": [
    "### Code"
   ]
  },
  {
   "cell_type": "code",
   "execution_count": 40,
   "id": "af405cac",
   "metadata": {},
   "outputs": [],
   "source": [
    "twitter_archive_copy.dropna(inplace=True, subset =[\"expanded_urls\"])"
   ]
  },
  {
   "cell_type": "markdown",
   "id": "00067901",
   "metadata": {},
   "source": [
    "### Test"
   ]
  },
  {
   "cell_type": "code",
   "execution_count": 41,
   "id": "d0c3f941",
   "metadata": {},
   "outputs": [
    {
     "data": {
      "text/plain": [
       "0"
      ]
     },
     "execution_count": 41,
     "metadata": {},
     "output_type": "execute_result"
    }
   ],
   "source": [
    "twitter_archive_copy[\"expanded_urls\"].isnull().sum()"
   ]
  },
  {
   "cell_type": "code",
   "execution_count": 42,
   "id": "0064f131",
   "metadata": {},
   "outputs": [
    {
     "name": "stdout",
     "output_type": "stream",
     "text": [
      "<class 'pandas.core.frame.DataFrame'>\n",
      "Int64Index: 2117 entries, 0 to 2355\n",
      "Data columns (total 12 columns):\n",
      " #   Column              Non-Null Count  Dtype \n",
      "---  ------              --------------  ----- \n",
      " 0   tweet_id            2117 non-null   int64 \n",
      " 1   timestamp           2117 non-null   object\n",
      " 2   source              2117 non-null   object\n",
      " 3   text                2117 non-null   object\n",
      " 4   expanded_urls       2117 non-null   object\n",
      " 5   rating_numerator    2117 non-null   int64 \n",
      " 6   rating_denominator  2117 non-null   int64 \n",
      " 7   name                2117 non-null   object\n",
      " 8   doggo               2117 non-null   object\n",
      " 9   floofer             2117 non-null   object\n",
      " 10  pupper              2117 non-null   object\n",
      " 11  puppo               2117 non-null   object\n",
      "dtypes: int64(3), object(9)\n",
      "memory usage: 215.0+ KB\n"
     ]
    }
   ],
   "source": [
    "twitter_archive_copy.info()"
   ]
  },
  {
   "cell_type": "markdown",
   "id": "91fe2536",
   "metadata": {},
   "source": [
    "### Define"
   ]
  },
  {
   "cell_type": "markdown",
   "id": "f2adae69",
   "metadata": {},
   "source": [
    "- Convert timestamp  to datetime data type"
   ]
  },
  {
   "cell_type": "markdown",
   "id": "71a9acd7",
   "metadata": {},
   "source": [
    "### Code"
   ]
  },
  {
   "cell_type": "code",
   "execution_count": 43,
   "id": "b7a0f5c1",
   "metadata": {},
   "outputs": [],
   "source": [
    "twitter_archive_copy[\"timestamp\"] = pd.to_datetime(twitter_archive_copy[\"timestamp\"])"
   ]
  },
  {
   "cell_type": "markdown",
   "id": "d9538e53",
   "metadata": {},
   "source": [
    "### Test"
   ]
  },
  {
   "cell_type": "code",
   "execution_count": 44,
   "id": "fd95b55a",
   "metadata": {},
   "outputs": [],
   "source": [
    "assert twitter_archive_copy[\"timestamp\"].dtype == \"datetime64[ns, UTC]\""
   ]
  },
  {
   "cell_type": "code",
   "execution_count": 45,
   "id": "18cd84bd",
   "metadata": {},
   "outputs": [
    {
     "name": "stdout",
     "output_type": "stream",
     "text": [
      "<class 'pandas.core.frame.DataFrame'>\n",
      "Int64Index: 2117 entries, 0 to 2355\n",
      "Data columns (total 12 columns):\n",
      " #   Column              Non-Null Count  Dtype              \n",
      "---  ------              --------------  -----              \n",
      " 0   tweet_id            2117 non-null   int64              \n",
      " 1   timestamp           2117 non-null   datetime64[ns, UTC]\n",
      " 2   source              2117 non-null   object             \n",
      " 3   text                2117 non-null   object             \n",
      " 4   expanded_urls       2117 non-null   object             \n",
      " 5   rating_numerator    2117 non-null   int64              \n",
      " 6   rating_denominator  2117 non-null   int64              \n",
      " 7   name                2117 non-null   object             \n",
      " 8   doggo               2117 non-null   object             \n",
      " 9   floofer             2117 non-null   object             \n",
      " 10  pupper              2117 non-null   object             \n",
      " 11  puppo               2117 non-null   object             \n",
      "dtypes: datetime64[ns, UTC](1), int64(3), object(8)\n",
      "memory usage: 215.0+ KB\n"
     ]
    }
   ],
   "source": [
    "twitter_archive_copy.info()"
   ]
  },
  {
   "cell_type": "code",
   "execution_count": 46,
   "id": "d08a3926",
   "metadata": {},
   "outputs": [
    {
     "data": {
      "text/html": [
       "<div>\n",
       "<style scoped>\n",
       "    .dataframe tbody tr th:only-of-type {\n",
       "        vertical-align: middle;\n",
       "    }\n",
       "\n",
       "    .dataframe tbody tr th {\n",
       "        vertical-align: top;\n",
       "    }\n",
       "\n",
       "    .dataframe thead th {\n",
       "        text-align: right;\n",
       "    }\n",
       "</style>\n",
       "<table border=\"1\" class=\"dataframe\">\n",
       "  <thead>\n",
       "    <tr style=\"text-align: right;\">\n",
       "      <th></th>\n",
       "      <th>tweet_id</th>\n",
       "      <th>timestamp</th>\n",
       "      <th>source</th>\n",
       "      <th>text</th>\n",
       "      <th>expanded_urls</th>\n",
       "      <th>rating_numerator</th>\n",
       "      <th>rating_denominator</th>\n",
       "      <th>name</th>\n",
       "      <th>doggo</th>\n",
       "      <th>floofer</th>\n",
       "      <th>pupper</th>\n",
       "      <th>puppo</th>\n",
       "    </tr>\n",
       "  </thead>\n",
       "  <tbody>\n",
       "    <tr>\n",
       "      <th>2112</th>\n",
       "      <td>670435821946826752</td>\n",
       "      <td>2015-11-28 02:55:30+00:00</td>\n",
       "      <td>&lt;a href=\"http://twitter.com/download/iphone\" r...</td>\n",
       "      <td>Two unbelievably athletic dogs here. Great for...</td>\n",
       "      <td>https://twitter.com/dog_rates/status/670435821...</td>\n",
       "      <td>10</td>\n",
       "      <td>10</td>\n",
       "      <td>None</td>\n",
       "      <td>None</td>\n",
       "      <td>None</td>\n",
       "      <td>None</td>\n",
       "      <td>None</td>\n",
       "    </tr>\n",
       "    <tr>\n",
       "      <th>1656</th>\n",
       "      <td>683357973142474752</td>\n",
       "      <td>2016-01-02 18:43:31+00:00</td>\n",
       "      <td>&lt;a href=\"http://twitter.com/download/iphone\" r...</td>\n",
       "      <td>\"Have a seat, son. There are some things we ne...</td>\n",
       "      <td>https://twitter.com/dog_rates/status/683357973...</td>\n",
       "      <td>10</td>\n",
       "      <td>10</td>\n",
       "      <td>None</td>\n",
       "      <td>None</td>\n",
       "      <td>None</td>\n",
       "      <td>None</td>\n",
       "      <td>None</td>\n",
       "    </tr>\n",
       "    <tr>\n",
       "      <th>880</th>\n",
       "      <td>760539183865880579</td>\n",
       "      <td>2016-08-02 18:14:06+00:00</td>\n",
       "      <td>&lt;a href=\"http://twitter.com/download/iphone\" r...</td>\n",
       "      <td>This is Atlas. Swinging is his passion. 12/10 ...</td>\n",
       "      <td>https://twitter.com/dog_rates/status/760539183...</td>\n",
       "      <td>12</td>\n",
       "      <td>10</td>\n",
       "      <td>Atlas</td>\n",
       "      <td>None</td>\n",
       "      <td>None</td>\n",
       "      <td>None</td>\n",
       "      <td>None</td>\n",
       "    </tr>\n",
       "    <tr>\n",
       "      <th>1606</th>\n",
       "      <td>685667379192414208</td>\n",
       "      <td>2016-01-09 03:40:16+00:00</td>\n",
       "      <td>&lt;a href=\"http://twitter.com/download/iphone\" r...</td>\n",
       "      <td>This is Marty. He has no idea what happened he...</td>\n",
       "      <td>https://twitter.com/dog_rates/status/685667379...</td>\n",
       "      <td>9</td>\n",
       "      <td>10</td>\n",
       "      <td>Marty</td>\n",
       "      <td>None</td>\n",
       "      <td>None</td>\n",
       "      <td>pupper</td>\n",
       "      <td>None</td>\n",
       "    </tr>\n",
       "    <tr>\n",
       "      <th>910</th>\n",
       "      <td>757611664640446465</td>\n",
       "      <td>2016-07-25 16:21:11+00:00</td>\n",
       "      <td>&lt;a href=\"http://twitter.com/download/iphone\" r...</td>\n",
       "      <td>This is Cooper. He tries to come across as fei...</td>\n",
       "      <td>https://twitter.com/dog_rates/status/757611664...</td>\n",
       "      <td>12</td>\n",
       "      <td>10</td>\n",
       "      <td>Cooper</td>\n",
       "      <td>None</td>\n",
       "      <td>None</td>\n",
       "      <td>None</td>\n",
       "      <td>None</td>\n",
       "    </tr>\n",
       "    <tr>\n",
       "      <th>1806</th>\n",
       "      <td>676936541936185344</td>\n",
       "      <td>2015-12-16 01:27:03+00:00</td>\n",
       "      <td>&lt;a href=\"http://twitter.com/download/iphone\" r...</td>\n",
       "      <td>Here we see a rare pouched pupper. Ample stora...</td>\n",
       "      <td>https://twitter.com/dog_rates/status/676936541...</td>\n",
       "      <td>8</td>\n",
       "      <td>10</td>\n",
       "      <td>None</td>\n",
       "      <td>None</td>\n",
       "      <td>None</td>\n",
       "      <td>pupper</td>\n",
       "      <td>None</td>\n",
       "    </tr>\n",
       "    <tr>\n",
       "      <th>178</th>\n",
       "      <td>857263160327368704</td>\n",
       "      <td>2017-04-26 16:00:39+00:00</td>\n",
       "      <td>&lt;a href=\"http://twitter.com/download/iphone\" r...</td>\n",
       "      <td>This is Oscar and Oliver. Oliver shrunk Oscar....</td>\n",
       "      <td>https://twitter.com/dog_rates/status/857263160...</td>\n",
       "      <td>13</td>\n",
       "      <td>10</td>\n",
       "      <td>Oscar</td>\n",
       "      <td>None</td>\n",
       "      <td>None</td>\n",
       "      <td>None</td>\n",
       "      <td>None</td>\n",
       "    </tr>\n",
       "    <tr>\n",
       "      <th>2285</th>\n",
       "      <td>667188689915760640</td>\n",
       "      <td>2015-11-19 03:52:34+00:00</td>\n",
       "      <td>&lt;a href=\"http://twitter.com/download/iphone\" r...</td>\n",
       "      <td>Quite an advanced dog here. Impressively dress...</td>\n",
       "      <td>https://twitter.com/dog_rates/status/667188689...</td>\n",
       "      <td>10</td>\n",
       "      <td>10</td>\n",
       "      <td>None</td>\n",
       "      <td>None</td>\n",
       "      <td>None</td>\n",
       "      <td>None</td>\n",
       "      <td>None</td>\n",
       "    </tr>\n",
       "    <tr>\n",
       "      <th>2127</th>\n",
       "      <td>670319130621435904</td>\n",
       "      <td>2015-11-27 19:11:49+00:00</td>\n",
       "      <td>&lt;a href=\"http://twitter.com/download/iphone\" r...</td>\n",
       "      <td>AT DAWN...\\nWE RIDE\\n\\n11/10 https://t.co/QnfO...</td>\n",
       "      <td>https://twitter.com/dog_rates/status/670319130...</td>\n",
       "      <td>11</td>\n",
       "      <td>10</td>\n",
       "      <td>None</td>\n",
       "      <td>None</td>\n",
       "      <td>None</td>\n",
       "      <td>None</td>\n",
       "      <td>None</td>\n",
       "    </tr>\n",
       "    <tr>\n",
       "      <th>129</th>\n",
       "      <td>867421006826221569</td>\n",
       "      <td>2017-05-24 16:44:18+00:00</td>\n",
       "      <td>&lt;a href=\"http://twitter.com/download/iphone\" r...</td>\n",
       "      <td>This is Shikha. She just watched you drop a sk...</td>\n",
       "      <td>https://twitter.com/dog_rates/status/867421006...</td>\n",
       "      <td>12</td>\n",
       "      <td>10</td>\n",
       "      <td>Shikha</td>\n",
       "      <td>None</td>\n",
       "      <td>None</td>\n",
       "      <td>None</td>\n",
       "      <td>puppo</td>\n",
       "    </tr>\n",
       "    <tr>\n",
       "      <th>919</th>\n",
       "      <td>756526248105566208</td>\n",
       "      <td>2016-07-22 16:28:07+00:00</td>\n",
       "      <td>&lt;a href=\"http://twitter.com/download/iphone\" r...</td>\n",
       "      <td>All hail sky doggo. 13/10 would jump super hig...</td>\n",
       "      <td>https://twitter.com/dog_rates/status/756526248...</td>\n",
       "      <td>13</td>\n",
       "      <td>10</td>\n",
       "      <td>None</td>\n",
       "      <td>doggo</td>\n",
       "      <td>None</td>\n",
       "      <td>None</td>\n",
       "      <td>None</td>\n",
       "    </tr>\n",
       "    <tr>\n",
       "      <th>1267</th>\n",
       "      <td>709566166965075968</td>\n",
       "      <td>2016-03-15 02:25:31+00:00</td>\n",
       "      <td>&lt;a href=\"http://twitter.com/download/iphone\" r...</td>\n",
       "      <td>This is Olaf. He's gotta be rare. Seems sturdy...</td>\n",
       "      <td>https://twitter.com/dog_rates/status/709566166...</td>\n",
       "      <td>12</td>\n",
       "      <td>10</td>\n",
       "      <td>Olaf</td>\n",
       "      <td>None</td>\n",
       "      <td>None</td>\n",
       "      <td>None</td>\n",
       "      <td>None</td>\n",
       "    </tr>\n",
       "    <tr>\n",
       "      <th>1836</th>\n",
       "      <td>676098748976615425</td>\n",
       "      <td>2015-12-13 17:57:57+00:00</td>\n",
       "      <td>&lt;a href=\"http://twitter.com/download/iphone\" r...</td>\n",
       "      <td>Extremely rare pup here. Very religious. Alway...</td>\n",
       "      <td>https://twitter.com/dog_rates/status/676098748...</td>\n",
       "      <td>3</td>\n",
       "      <td>10</td>\n",
       "      <td>None</td>\n",
       "      <td>None</td>\n",
       "      <td>None</td>\n",
       "      <td>None</td>\n",
       "      <td>None</td>\n",
       "    </tr>\n",
       "    <tr>\n",
       "      <th>588</th>\n",
       "      <td>799422933579902976</td>\n",
       "      <td>2016-11-18 01:24:14+00:00</td>\n",
       "      <td>&lt;a href=\"http://twitter.com/download/iphone\" r...</td>\n",
       "      <td>This is Longfellow (prolly sophisticated). He'...</td>\n",
       "      <td>https://twitter.com/dog_rates/status/799422933...</td>\n",
       "      <td>12</td>\n",
       "      <td>10</td>\n",
       "      <td>Longfellow</td>\n",
       "      <td>None</td>\n",
       "      <td>None</td>\n",
       "      <td>None</td>\n",
       "      <td>None</td>\n",
       "    </tr>\n",
       "    <tr>\n",
       "      <th>1417</th>\n",
       "      <td>698549713696649216</td>\n",
       "      <td>2016-02-13 16:50:04+00:00</td>\n",
       "      <td>&lt;a href=\"http://twitter.com/download/iphone\" r...</td>\n",
       "      <td>This is Claude. He's trying to be seductive bu...</td>\n",
       "      <td>https://twitter.com/dog_rates/status/698549713...</td>\n",
       "      <td>9</td>\n",
       "      <td>10</td>\n",
       "      <td>Claude</td>\n",
       "      <td>None</td>\n",
       "      <td>None</td>\n",
       "      <td>None</td>\n",
       "      <td>None</td>\n",
       "    </tr>\n",
       "  </tbody>\n",
       "</table>\n",
       "</div>"
      ],
      "text/plain": [
       "                tweet_id                 timestamp  \\\n",
       "2112  670435821946826752 2015-11-28 02:55:30+00:00   \n",
       "1656  683357973142474752 2016-01-02 18:43:31+00:00   \n",
       "880   760539183865880579 2016-08-02 18:14:06+00:00   \n",
       "1606  685667379192414208 2016-01-09 03:40:16+00:00   \n",
       "910   757611664640446465 2016-07-25 16:21:11+00:00   \n",
       "1806  676936541936185344 2015-12-16 01:27:03+00:00   \n",
       "178   857263160327368704 2017-04-26 16:00:39+00:00   \n",
       "2285  667188689915760640 2015-11-19 03:52:34+00:00   \n",
       "2127  670319130621435904 2015-11-27 19:11:49+00:00   \n",
       "129   867421006826221569 2017-05-24 16:44:18+00:00   \n",
       "919   756526248105566208 2016-07-22 16:28:07+00:00   \n",
       "1267  709566166965075968 2016-03-15 02:25:31+00:00   \n",
       "1836  676098748976615425 2015-12-13 17:57:57+00:00   \n",
       "588   799422933579902976 2016-11-18 01:24:14+00:00   \n",
       "1417  698549713696649216 2016-02-13 16:50:04+00:00   \n",
       "\n",
       "                                                 source  \\\n",
       "2112  <a href=\"http://twitter.com/download/iphone\" r...   \n",
       "1656  <a href=\"http://twitter.com/download/iphone\" r...   \n",
       "880   <a href=\"http://twitter.com/download/iphone\" r...   \n",
       "1606  <a href=\"http://twitter.com/download/iphone\" r...   \n",
       "910   <a href=\"http://twitter.com/download/iphone\" r...   \n",
       "1806  <a href=\"http://twitter.com/download/iphone\" r...   \n",
       "178   <a href=\"http://twitter.com/download/iphone\" r...   \n",
       "2285  <a href=\"http://twitter.com/download/iphone\" r...   \n",
       "2127  <a href=\"http://twitter.com/download/iphone\" r...   \n",
       "129   <a href=\"http://twitter.com/download/iphone\" r...   \n",
       "919   <a href=\"http://twitter.com/download/iphone\" r...   \n",
       "1267  <a href=\"http://twitter.com/download/iphone\" r...   \n",
       "1836  <a href=\"http://twitter.com/download/iphone\" r...   \n",
       "588   <a href=\"http://twitter.com/download/iphone\" r...   \n",
       "1417  <a href=\"http://twitter.com/download/iphone\" r...   \n",
       "\n",
       "                                                   text  \\\n",
       "2112  Two unbelievably athletic dogs here. Great for...   \n",
       "1656  \"Have a seat, son. There are some things we ne...   \n",
       "880   This is Atlas. Swinging is his passion. 12/10 ...   \n",
       "1606  This is Marty. He has no idea what happened he...   \n",
       "910   This is Cooper. He tries to come across as fei...   \n",
       "1806  Here we see a rare pouched pupper. Ample stora...   \n",
       "178   This is Oscar and Oliver. Oliver shrunk Oscar....   \n",
       "2285  Quite an advanced dog here. Impressively dress...   \n",
       "2127  AT DAWN...\\nWE RIDE\\n\\n11/10 https://t.co/QnfO...   \n",
       "129   This is Shikha. She just watched you drop a sk...   \n",
       "919   All hail sky doggo. 13/10 would jump super hig...   \n",
       "1267  This is Olaf. He's gotta be rare. Seems sturdy...   \n",
       "1836  Extremely rare pup here. Very religious. Alway...   \n",
       "588   This is Longfellow (prolly sophisticated). He'...   \n",
       "1417  This is Claude. He's trying to be seductive bu...   \n",
       "\n",
       "                                          expanded_urls  rating_numerator  \\\n",
       "2112  https://twitter.com/dog_rates/status/670435821...                10   \n",
       "1656  https://twitter.com/dog_rates/status/683357973...                10   \n",
       "880   https://twitter.com/dog_rates/status/760539183...                12   \n",
       "1606  https://twitter.com/dog_rates/status/685667379...                 9   \n",
       "910   https://twitter.com/dog_rates/status/757611664...                12   \n",
       "1806  https://twitter.com/dog_rates/status/676936541...                 8   \n",
       "178   https://twitter.com/dog_rates/status/857263160...                13   \n",
       "2285  https://twitter.com/dog_rates/status/667188689...                10   \n",
       "2127  https://twitter.com/dog_rates/status/670319130...                11   \n",
       "129   https://twitter.com/dog_rates/status/867421006...                12   \n",
       "919   https://twitter.com/dog_rates/status/756526248...                13   \n",
       "1267  https://twitter.com/dog_rates/status/709566166...                12   \n",
       "1836  https://twitter.com/dog_rates/status/676098748...                 3   \n",
       "588   https://twitter.com/dog_rates/status/799422933...                12   \n",
       "1417  https://twitter.com/dog_rates/status/698549713...                 9   \n",
       "\n",
       "      rating_denominator        name  doggo floofer  pupper  puppo  \n",
       "2112                  10        None   None    None    None   None  \n",
       "1656                  10        None   None    None    None   None  \n",
       "880                   10       Atlas   None    None    None   None  \n",
       "1606                  10       Marty   None    None  pupper   None  \n",
       "910                   10      Cooper   None    None    None   None  \n",
       "1806                  10        None   None    None  pupper   None  \n",
       "178                   10       Oscar   None    None    None   None  \n",
       "2285                  10        None   None    None    None   None  \n",
       "2127                  10        None   None    None    None   None  \n",
       "129                   10      Shikha   None    None    None  puppo  \n",
       "919                   10        None  doggo    None    None   None  \n",
       "1267                  10        Olaf   None    None    None   None  \n",
       "1836                  10        None   None    None    None   None  \n",
       "588                   10  Longfellow   None    None    None   None  \n",
       "1417                  10      Claude   None    None    None   None  "
      ]
     },
     "execution_count": 46,
     "metadata": {},
     "output_type": "execute_result"
    }
   ],
   "source": [
    "twitter_archive_copy.sample(15)"
   ]
  },
  {
   "cell_type": "code",
   "execution_count": null,
   "id": "e50354fc",
   "metadata": {},
   "outputs": [],
   "source": []
  },
  {
   "cell_type": "markdown",
   "id": "9c7ee05d",
   "metadata": {},
   "source": [
    "### Define"
   ]
  },
  {
   "cell_type": "markdown",
   "id": "8f9241c8",
   "metadata": {},
   "source": [
    "- Merge the doggo, floofer, pupper and puppo columns to a dog_stage column.\n",
    "- Convert the dog_stage to a category column\n",
    "- Drop the columns doggo, floofer, pupper and puppo"
   ]
  },
  {
   "cell_type": "markdown",
   "id": "15a5ec9a",
   "metadata": {},
   "source": [
    "### Code"
   ]
  },
  {
   "cell_type": "code",
   "execution_count": 47,
   "id": "2d85e74c",
   "metadata": {},
   "outputs": [],
   "source": [
    "twitter_archive_copy[\"dog_stage\"] = twitter_archive_copy[['doggo', 'floofer', 'pupper', 'puppo']].max(axis=1)"
   ]
  },
  {
   "cell_type": "code",
   "execution_count": 48,
   "id": "50263566",
   "metadata": {},
   "outputs": [],
   "source": [
    "twitter_archive_copy[\"dog_stage\"] =twitter_archive_copy[\"dog_stage\"].astype(\"category\")"
   ]
  },
  {
   "cell_type": "code",
   "execution_count": 49,
   "id": "41203277",
   "metadata": {},
   "outputs": [],
   "source": [
    "twitter_archive_copy.drop(inplace=True, axis=1,columns =[\"doggo\", \"floofer\", \"pupper\", \"puppo\"])"
   ]
  },
  {
   "cell_type": "markdown",
   "id": "dab85952",
   "metadata": {},
   "source": [
    "### Test"
   ]
  },
  {
   "cell_type": "code",
   "execution_count": 50,
   "id": "9cee55bc",
   "metadata": {},
   "outputs": [
    {
     "data": {
      "text/html": [
       "<div>\n",
       "<style scoped>\n",
       "    .dataframe tbody tr th:only-of-type {\n",
       "        vertical-align: middle;\n",
       "    }\n",
       "\n",
       "    .dataframe tbody tr th {\n",
       "        vertical-align: top;\n",
       "    }\n",
       "\n",
       "    .dataframe thead th {\n",
       "        text-align: right;\n",
       "    }\n",
       "</style>\n",
       "<table border=\"1\" class=\"dataframe\">\n",
       "  <thead>\n",
       "    <tr style=\"text-align: right;\">\n",
       "      <th></th>\n",
       "      <th>tweet_id</th>\n",
       "      <th>timestamp</th>\n",
       "      <th>source</th>\n",
       "      <th>text</th>\n",
       "      <th>expanded_urls</th>\n",
       "      <th>rating_numerator</th>\n",
       "      <th>rating_denominator</th>\n",
       "      <th>name</th>\n",
       "      <th>dog_stage</th>\n",
       "    </tr>\n",
       "  </thead>\n",
       "  <tbody>\n",
       "    <tr>\n",
       "      <th>0</th>\n",
       "      <td>892420643555336193</td>\n",
       "      <td>2017-08-01 16:23:56+00:00</td>\n",
       "      <td>&lt;a href=\"http://twitter.com/download/iphone\" r...</td>\n",
       "      <td>This is Phineas. He's a mystical boy. Only eve...</td>\n",
       "      <td>https://twitter.com/dog_rates/status/892420643...</td>\n",
       "      <td>13</td>\n",
       "      <td>10</td>\n",
       "      <td>Phineas</td>\n",
       "      <td>None</td>\n",
       "    </tr>\n",
       "    <tr>\n",
       "      <th>1</th>\n",
       "      <td>892177421306343426</td>\n",
       "      <td>2017-08-01 00:17:27+00:00</td>\n",
       "      <td>&lt;a href=\"http://twitter.com/download/iphone\" r...</td>\n",
       "      <td>This is Tilly. She's just checking pup on you....</td>\n",
       "      <td>https://twitter.com/dog_rates/status/892177421...</td>\n",
       "      <td>13</td>\n",
       "      <td>10</td>\n",
       "      <td>Tilly</td>\n",
       "      <td>None</td>\n",
       "    </tr>\n",
       "    <tr>\n",
       "      <th>2</th>\n",
       "      <td>891815181378084864</td>\n",
       "      <td>2017-07-31 00:18:03+00:00</td>\n",
       "      <td>&lt;a href=\"http://twitter.com/download/iphone\" r...</td>\n",
       "      <td>This is Archie. He is a rare Norwegian Pouncin...</td>\n",
       "      <td>https://twitter.com/dog_rates/status/891815181...</td>\n",
       "      <td>12</td>\n",
       "      <td>10</td>\n",
       "      <td>Archie</td>\n",
       "      <td>None</td>\n",
       "    </tr>\n",
       "    <tr>\n",
       "      <th>3</th>\n",
       "      <td>891689557279858688</td>\n",
       "      <td>2017-07-30 15:58:51+00:00</td>\n",
       "      <td>&lt;a href=\"http://twitter.com/download/iphone\" r...</td>\n",
       "      <td>This is Darla. She commenced a snooze mid meal...</td>\n",
       "      <td>https://twitter.com/dog_rates/status/891689557...</td>\n",
       "      <td>13</td>\n",
       "      <td>10</td>\n",
       "      <td>Darla</td>\n",
       "      <td>None</td>\n",
       "    </tr>\n",
       "    <tr>\n",
       "      <th>4</th>\n",
       "      <td>891327558926688256</td>\n",
       "      <td>2017-07-29 16:00:24+00:00</td>\n",
       "      <td>&lt;a href=\"http://twitter.com/download/iphone\" r...</td>\n",
       "      <td>This is Franklin. He would like you to stop ca...</td>\n",
       "      <td>https://twitter.com/dog_rates/status/891327558...</td>\n",
       "      <td>12</td>\n",
       "      <td>10</td>\n",
       "      <td>Franklin</td>\n",
       "      <td>None</td>\n",
       "    </tr>\n",
       "  </tbody>\n",
       "</table>\n",
       "</div>"
      ],
      "text/plain": [
       "             tweet_id                 timestamp  \\\n",
       "0  892420643555336193 2017-08-01 16:23:56+00:00   \n",
       "1  892177421306343426 2017-08-01 00:17:27+00:00   \n",
       "2  891815181378084864 2017-07-31 00:18:03+00:00   \n",
       "3  891689557279858688 2017-07-30 15:58:51+00:00   \n",
       "4  891327558926688256 2017-07-29 16:00:24+00:00   \n",
       "\n",
       "                                              source  \\\n",
       "0  <a href=\"http://twitter.com/download/iphone\" r...   \n",
       "1  <a href=\"http://twitter.com/download/iphone\" r...   \n",
       "2  <a href=\"http://twitter.com/download/iphone\" r...   \n",
       "3  <a href=\"http://twitter.com/download/iphone\" r...   \n",
       "4  <a href=\"http://twitter.com/download/iphone\" r...   \n",
       "\n",
       "                                                text  \\\n",
       "0  This is Phineas. He's a mystical boy. Only eve...   \n",
       "1  This is Tilly. She's just checking pup on you....   \n",
       "2  This is Archie. He is a rare Norwegian Pouncin...   \n",
       "3  This is Darla. She commenced a snooze mid meal...   \n",
       "4  This is Franklin. He would like you to stop ca...   \n",
       "\n",
       "                                       expanded_urls  rating_numerator  \\\n",
       "0  https://twitter.com/dog_rates/status/892420643...                13   \n",
       "1  https://twitter.com/dog_rates/status/892177421...                13   \n",
       "2  https://twitter.com/dog_rates/status/891815181...                12   \n",
       "3  https://twitter.com/dog_rates/status/891689557...                13   \n",
       "4  https://twitter.com/dog_rates/status/891327558...                12   \n",
       "\n",
       "   rating_denominator      name dog_stage  \n",
       "0                  10   Phineas      None  \n",
       "1                  10     Tilly      None  \n",
       "2                  10    Archie      None  \n",
       "3                  10     Darla      None  \n",
       "4                  10  Franklin      None  "
      ]
     },
     "execution_count": 50,
     "metadata": {},
     "output_type": "execute_result"
    }
   ],
   "source": [
    "twitter_archive_copy.head()"
   ]
  },
  {
   "cell_type": "markdown",
   "id": "a3a2de54",
   "metadata": {},
   "source": [
    "### Define"
   ]
  },
  {
   "cell_type": "markdown",
   "id": "b689db5b",
   "metadata": {},
   "source": [
    "- Replace None value in dog_stage column of twitter_archive_copy by np.nan\n",
    "- Replace None value in name column of twitter_archive_copy by np.nan\n",
    "- Replace \"a\" value in name column of twitter_archive_copy by np.nan\n"
   ]
  },
  {
   "cell_type": "markdown",
   "id": "1f010d25",
   "metadata": {},
   "source": [
    "### Code"
   ]
  },
  {
   "cell_type": "code",
   "execution_count": 51,
   "id": "49ea6499",
   "metadata": {},
   "outputs": [],
   "source": [
    "twitter_archive_copy.dog_stage.replace(to_replace=\"None\",value=np.nan,inplace=True)\n",
    "twitter_archive_copy.name.replace(to_replace=[\"None\",\"a\"],value=np.nan,inplace=True)"
   ]
  },
  {
   "cell_type": "markdown",
   "id": "fbc40563",
   "metadata": {},
   "source": [
    "### Test"
   ]
  },
  {
   "cell_type": "code",
   "execution_count": 52,
   "id": "20cc00fc",
   "metadata": {},
   "outputs": [
    {
     "data": {
      "text/plain": [
       "pupper     232\n",
       "doggo       72\n",
       "puppo       24\n",
       "floofer     10\n",
       "Name: dog_stage, dtype: int64"
      ]
     },
     "execution_count": 52,
     "metadata": {},
     "output_type": "execute_result"
    }
   ],
   "source": [
    "twitter_archive_copy.dog_stage.value_counts()"
   ]
  },
  {
   "cell_type": "code",
   "execution_count": null,
   "id": "35f6a9b0",
   "metadata": {},
   "outputs": [],
   "source": []
  },
  {
   "cell_type": "markdown",
   "id": "fc9ba1c1",
   "metadata": {},
   "source": [
    "### Define"
   ]
  },
  {
   "cell_type": "markdown",
   "id": "013e00e0",
   "metadata": {},
   "source": [
    "- Filter for probability of dogs only"
   ]
  },
  {
   "cell_type": "markdown",
   "id": "7e66b8b8",
   "metadata": {},
   "source": [
    "### Code"
   ]
  },
  {
   "cell_type": "code",
   "execution_count": 53,
   "id": "68bfac4a",
   "metadata": {},
   "outputs": [],
   "source": [
    "dogs_only = image_predictions_copy.query('p1_dog == True | p2_dog == True | p3_dog == True')"
   ]
  },
  {
   "cell_type": "code",
   "execution_count": 54,
   "id": "09979e5f",
   "metadata": {},
   "outputs": [
    {
     "data": {
      "text/html": [
       "<div>\n",
       "<style scoped>\n",
       "    .dataframe tbody tr th:only-of-type {\n",
       "        vertical-align: middle;\n",
       "    }\n",
       "\n",
       "    .dataframe tbody tr th {\n",
       "        vertical-align: top;\n",
       "    }\n",
       "\n",
       "    .dataframe thead th {\n",
       "        text-align: right;\n",
       "    }\n",
       "</style>\n",
       "<table border=\"1\" class=\"dataframe\">\n",
       "  <thead>\n",
       "    <tr style=\"text-align: right;\">\n",
       "      <th></th>\n",
       "      <th>tweet_id</th>\n",
       "      <th>jpg_url</th>\n",
       "      <th>img_num</th>\n",
       "      <th>p1</th>\n",
       "      <th>p1_conf</th>\n",
       "      <th>p1_dog</th>\n",
       "      <th>p2</th>\n",
       "      <th>p2_conf</th>\n",
       "      <th>p2_dog</th>\n",
       "      <th>p3</th>\n",
       "      <th>p3_conf</th>\n",
       "      <th>p3_dog</th>\n",
       "    </tr>\n",
       "  </thead>\n",
       "  <tbody>\n",
       "    <tr>\n",
       "      <th>1672</th>\n",
       "      <td>813112105746448384</td>\n",
       "      <td>https://pbs.twimg.com/media/C0jBJZVWQAA2_-X.jpg</td>\n",
       "      <td>1</td>\n",
       "      <td>dingo</td>\n",
       "      <td>0.287369</td>\n",
       "      <td>False</td>\n",
       "      <td>Pembroke</td>\n",
       "      <td>0.140682</td>\n",
       "      <td>True</td>\n",
       "      <td>basenji</td>\n",
       "      <td>0.090819</td>\n",
       "      <td>True</td>\n",
       "    </tr>\n",
       "    <tr>\n",
       "      <th>392</th>\n",
       "      <td>673580926094458881</td>\n",
       "      <td>https://pbs.twimg.com/media/CVkKRqOXIAEX83-.jpg</td>\n",
       "      <td>1</td>\n",
       "      <td>beagle</td>\n",
       "      <td>0.985062</td>\n",
       "      <td>True</td>\n",
       "      <td>basset</td>\n",
       "      <td>0.006418</td>\n",
       "      <td>True</td>\n",
       "      <td>Walker_hound</td>\n",
       "      <td>0.003533</td>\n",
       "      <td>True</td>\n",
       "    </tr>\n",
       "    <tr>\n",
       "      <th>1080</th>\n",
       "      <td>718234618122661888</td>\n",
       "      <td>https://pbs.twimg.com/media/CfeukpmW4AEGjOE.jpg</td>\n",
       "      <td>1</td>\n",
       "      <td>malamute</td>\n",
       "      <td>0.370152</td>\n",
       "      <td>True</td>\n",
       "      <td>Siberian_husky</td>\n",
       "      <td>0.356398</td>\n",
       "      <td>True</td>\n",
       "      <td>Eskimo_dog</td>\n",
       "      <td>0.271042</td>\n",
       "      <td>True</td>\n",
       "    </tr>\n",
       "    <tr>\n",
       "      <th>1852</th>\n",
       "      <td>840632337062862849</td>\n",
       "      <td>https://pbs.twimg.com/media/C6qGphPV4AEKrdc.jpg</td>\n",
       "      <td>1</td>\n",
       "      <td>golden_retriever</td>\n",
       "      <td>0.711148</td>\n",
       "      <td>True</td>\n",
       "      <td>cocker_spaniel</td>\n",
       "      <td>0.157929</td>\n",
       "      <td>True</td>\n",
       "      <td>Labrador_retriever</td>\n",
       "      <td>0.059582</td>\n",
       "      <td>True</td>\n",
       "    </tr>\n",
       "    <tr>\n",
       "      <th>466</th>\n",
       "      <td>675015141583413248</td>\n",
       "      <td>https://pbs.twimg.com/media/CV4iqh5WcAEV1E6.jpg</td>\n",
       "      <td>1</td>\n",
       "      <td>street_sign</td>\n",
       "      <td>0.290091</td>\n",
       "      <td>False</td>\n",
       "      <td>golden_retriever</td>\n",
       "      <td>0.258372</td>\n",
       "      <td>True</td>\n",
       "      <td>sandbar</td>\n",
       "      <td>0.132173</td>\n",
       "      <td>False</td>\n",
       "    </tr>\n",
       "    <tr>\n",
       "      <th>1901</th>\n",
       "      <td>851591660324737024</td>\n",
       "      <td>https://pbs.twimg.com/media/C9F2FG5WAAAJ0iN.jpg</td>\n",
       "      <td>1</td>\n",
       "      <td>Cardigan</td>\n",
       "      <td>0.394507</td>\n",
       "      <td>True</td>\n",
       "      <td>Chihuahua</td>\n",
       "      <td>0.077254</td>\n",
       "      <td>True</td>\n",
       "      <td>French_bulldog</td>\n",
       "      <td>0.076559</td>\n",
       "      <td>True</td>\n",
       "    </tr>\n",
       "    <tr>\n",
       "      <th>1023</th>\n",
       "      <td>710283270106132480</td>\n",
       "      <td>https://pbs.twimg.com/media/Cdtu3WRUkAAsRVx.jpg</td>\n",
       "      <td>2</td>\n",
       "      <td>Shih-Tzu</td>\n",
       "      <td>0.932401</td>\n",
       "      <td>True</td>\n",
       "      <td>Lhasa</td>\n",
       "      <td>0.030806</td>\n",
       "      <td>True</td>\n",
       "      <td>Tibetan_terrier</td>\n",
       "      <td>0.008974</td>\n",
       "      <td>True</td>\n",
       "    </tr>\n",
       "    <tr>\n",
       "      <th>915</th>\n",
       "      <td>701214700881756160</td>\n",
       "      <td>https://pbs.twimg.com/media/Cbs3DOAXIAAp3Bd.jpg</td>\n",
       "      <td>1</td>\n",
       "      <td>Chihuahua</td>\n",
       "      <td>0.615163</td>\n",
       "      <td>True</td>\n",
       "      <td>Pembroke</td>\n",
       "      <td>0.159509</td>\n",
       "      <td>True</td>\n",
       "      <td>basenji</td>\n",
       "      <td>0.084466</td>\n",
       "      <td>True</td>\n",
       "    </tr>\n",
       "    <tr>\n",
       "      <th>1736</th>\n",
       "      <td>821813639212650496</td>\n",
       "      <td>https://pbs.twimg.com/media/CtVAvX-WIAAcGTf.jpg</td>\n",
       "      <td>1</td>\n",
       "      <td>Saint_Bernard</td>\n",
       "      <td>0.995143</td>\n",
       "      <td>True</td>\n",
       "      <td>Cardigan</td>\n",
       "      <td>0.003044</td>\n",
       "      <td>True</td>\n",
       "      <td>English_springer</td>\n",
       "      <td>0.001050</td>\n",
       "      <td>True</td>\n",
       "    </tr>\n",
       "    <tr>\n",
       "      <th>759</th>\n",
       "      <td>688804835492233216</td>\n",
       "      <td>https://pbs.twimg.com/media/CY8gWFRWUAAm1XL.jpg</td>\n",
       "      <td>3</td>\n",
       "      <td>malinois</td>\n",
       "      <td>0.199512</td>\n",
       "      <td>True</td>\n",
       "      <td>German_shepherd</td>\n",
       "      <td>0.096797</td>\n",
       "      <td>True</td>\n",
       "      <td>Saluki</td>\n",
       "      <td>0.082848</td>\n",
       "      <td>True</td>\n",
       "    </tr>\n",
       "  </tbody>\n",
       "</table>\n",
       "</div>"
      ],
      "text/plain": [
       "                tweet_id                                          jpg_url  \\\n",
       "1672  813112105746448384  https://pbs.twimg.com/media/C0jBJZVWQAA2_-X.jpg   \n",
       "392   673580926094458881  https://pbs.twimg.com/media/CVkKRqOXIAEX83-.jpg   \n",
       "1080  718234618122661888  https://pbs.twimg.com/media/CfeukpmW4AEGjOE.jpg   \n",
       "1852  840632337062862849  https://pbs.twimg.com/media/C6qGphPV4AEKrdc.jpg   \n",
       "466   675015141583413248  https://pbs.twimg.com/media/CV4iqh5WcAEV1E6.jpg   \n",
       "1901  851591660324737024  https://pbs.twimg.com/media/C9F2FG5WAAAJ0iN.jpg   \n",
       "1023  710283270106132480  https://pbs.twimg.com/media/Cdtu3WRUkAAsRVx.jpg   \n",
       "915   701214700881756160  https://pbs.twimg.com/media/Cbs3DOAXIAAp3Bd.jpg   \n",
       "1736  821813639212650496  https://pbs.twimg.com/media/CtVAvX-WIAAcGTf.jpg   \n",
       "759   688804835492233216  https://pbs.twimg.com/media/CY8gWFRWUAAm1XL.jpg   \n",
       "\n",
       "      img_num                p1   p1_conf  p1_dog                p2   p2_conf  \\\n",
       "1672        1             dingo  0.287369   False          Pembroke  0.140682   \n",
       "392         1            beagle  0.985062    True            basset  0.006418   \n",
       "1080        1          malamute  0.370152    True    Siberian_husky  0.356398   \n",
       "1852        1  golden_retriever  0.711148    True    cocker_spaniel  0.157929   \n",
       "466         1       street_sign  0.290091   False  golden_retriever  0.258372   \n",
       "1901        1          Cardigan  0.394507    True         Chihuahua  0.077254   \n",
       "1023        2          Shih-Tzu  0.932401    True             Lhasa  0.030806   \n",
       "915         1         Chihuahua  0.615163    True          Pembroke  0.159509   \n",
       "1736        1     Saint_Bernard  0.995143    True          Cardigan  0.003044   \n",
       "759         3          malinois  0.199512    True   German_shepherd  0.096797   \n",
       "\n",
       "      p2_dog                  p3   p3_conf  p3_dog  \n",
       "1672    True             basenji  0.090819    True  \n",
       "392     True        Walker_hound  0.003533    True  \n",
       "1080    True          Eskimo_dog  0.271042    True  \n",
       "1852    True  Labrador_retriever  0.059582    True  \n",
       "466     True             sandbar  0.132173   False  \n",
       "1901    True      French_bulldog  0.076559    True  \n",
       "1023    True     Tibetan_terrier  0.008974    True  \n",
       "915     True             basenji  0.084466    True  \n",
       "1736    True    English_springer  0.001050    True  \n",
       "759     True              Saluki  0.082848    True  "
      ]
     },
     "execution_count": 54,
     "metadata": {},
     "output_type": "execute_result"
    }
   ],
   "source": [
    "dogs_only.sample(10)"
   ]
  },
  {
   "cell_type": "markdown",
   "id": "a7b18e6f",
   "metadata": {},
   "source": [
    "### Test"
   ]
  },
  {
   "cell_type": "code",
   "execution_count": 55,
   "id": "127cc33c",
   "metadata": {},
   "outputs": [
    {
     "data": {
      "text/html": [
       "<div>\n",
       "<style scoped>\n",
       "    .dataframe tbody tr th:only-of-type {\n",
       "        vertical-align: middle;\n",
       "    }\n",
       "\n",
       "    .dataframe tbody tr th {\n",
       "        vertical-align: top;\n",
       "    }\n",
       "\n",
       "    .dataframe thead th {\n",
       "        text-align: right;\n",
       "    }\n",
       "</style>\n",
       "<table border=\"1\" class=\"dataframe\">\n",
       "  <thead>\n",
       "    <tr style=\"text-align: right;\">\n",
       "      <th></th>\n",
       "      <th>tweet_id</th>\n",
       "      <th>jpg_url</th>\n",
       "      <th>img_num</th>\n",
       "      <th>p1</th>\n",
       "      <th>p1_conf</th>\n",
       "      <th>p1_dog</th>\n",
       "      <th>p2</th>\n",
       "      <th>p2_conf</th>\n",
       "      <th>p2_dog</th>\n",
       "      <th>p3</th>\n",
       "      <th>p3_conf</th>\n",
       "      <th>p3_dog</th>\n",
       "    </tr>\n",
       "  </thead>\n",
       "  <tbody>\n",
       "  </tbody>\n",
       "</table>\n",
       "</div>"
      ],
      "text/plain": [
       "Empty DataFrame\n",
       "Columns: [tweet_id, jpg_url, img_num, p1, p1_conf, p1_dog, p2, p2_conf, p2_dog, p3, p3_conf, p3_dog]\n",
       "Index: []"
      ]
     },
     "execution_count": 55,
     "metadata": {},
     "output_type": "execute_result"
    }
   ],
   "source": [
    "dogs_only.query('p1_conf+p2_conf+p3_conf > 1')\n"
   ]
  },
  {
   "cell_type": "code",
   "execution_count": 56,
   "id": "8fc1abef",
   "metadata": {},
   "outputs": [
    {
     "name": "stdout",
     "output_type": "stream",
     "text": [
      "<class 'pandas.core.frame.DataFrame'>\n",
      "Int64Index: 1751 entries, 0 to 2073\n",
      "Data columns (total 12 columns):\n",
      " #   Column    Non-Null Count  Dtype  \n",
      "---  ------    --------------  -----  \n",
      " 0   tweet_id  1751 non-null   int64  \n",
      " 1   jpg_url   1751 non-null   object \n",
      " 2   img_num   1751 non-null   int64  \n",
      " 3   p1        1751 non-null   object \n",
      " 4   p1_conf   1751 non-null   float64\n",
      " 5   p1_dog    1751 non-null   bool   \n",
      " 6   p2        1751 non-null   object \n",
      " 7   p2_conf   1751 non-null   float64\n",
      " 8   p2_dog    1751 non-null   bool   \n",
      " 9   p3        1751 non-null   object \n",
      " 10  p3_conf   1751 non-null   float64\n",
      " 11  p3_dog    1751 non-null   bool   \n",
      "dtypes: bool(3), float64(3), int64(2), object(4)\n",
      "memory usage: 141.9+ KB\n"
     ]
    }
   ],
   "source": [
    "  dogs_only.info()"
   ]
  },
  {
   "cell_type": "code",
   "execution_count": null,
   "id": "0fba4d72",
   "metadata": {},
   "outputs": [],
   "source": []
  },
  {
   "cell_type": "markdown",
   "id": "263b2517",
   "metadata": {},
   "source": [
    "### Define"
   ]
  },
  {
   "cell_type": "markdown",
   "id": "f5beb939",
   "metadata": {},
   "source": [
    "- Rename id to tweet_id in extra_archive_data dataset"
   ]
  },
  {
   "cell_type": "markdown",
   "id": "305600ed",
   "metadata": {},
   "source": [
    "### Code"
   ]
  },
  {
   "cell_type": "code",
   "execution_count": 57,
   "id": "6eae625f",
   "metadata": {},
   "outputs": [],
   "source": [
    "extra_archive_data_copy.rename({\"id\":\"tweet_id\"},axis=1,inplace=True)"
   ]
  },
  {
   "cell_type": "markdown",
   "id": "02af12d9",
   "metadata": {},
   "source": [
    "### Test"
   ]
  },
  {
   "cell_type": "code",
   "execution_count": 58,
   "id": "062eb186",
   "metadata": {},
   "outputs": [
    {
     "data": {
      "text/plain": [
       "Index(['tweet_id', 'full_text', 'retweet_count', 'favorite_count'], dtype='object')"
      ]
     },
     "execution_count": 58,
     "metadata": {},
     "output_type": "execute_result"
    }
   ],
   "source": [
    "extra_archive_data_copy.columns"
   ]
  },
  {
   "cell_type": "code",
   "execution_count": null,
   "id": "3a02db53",
   "metadata": {},
   "outputs": [],
   "source": []
  },
  {
   "cell_type": "code",
   "execution_count": 59,
   "id": "5875f77a",
   "metadata": {},
   "outputs": [
    {
     "data": {
      "text/plain": [
       "Index(['tweet_id', 'jpg_url', 'img_num', 'p1', 'p1_conf', 'p1_dog', 'p2',\n",
       "       'p2_conf', 'p2_dog', 'p3', 'p3_conf', 'p3_dog'],\n",
       "      dtype='object')"
      ]
     },
     "execution_count": 59,
     "metadata": {},
     "output_type": "execute_result"
    }
   ],
   "source": [
    "dogs_only.columns"
   ]
  },
  {
   "cell_type": "markdown",
   "id": "2a7ca5fc",
   "metadata": {},
   "source": [
    "### Define"
   ]
  },
  {
   "cell_type": "markdown",
   "id": "fb10344c",
   "metadata": {},
   "source": [
    " - Use melt() function to make dogs_only tidy byu ensuring that prediction, confidence, and dog status are all separate variables"
   ]
  },
  {
   "cell_type": "markdown",
   "id": "f279b171",
   "metadata": {},
   "source": [
    "### Code"
   ]
  },
  {
   "cell_type": "code",
   "execution_count": 60,
   "id": "6575d75f",
   "metadata": {},
   "outputs": [],
   "source": [
    "\n",
    "def melting(p1, p2, p3, value_name):\n",
    "    df = dogs_only[['tweet_id', 'jpg_url', 'img_num', p1, p2, p3]]\n",
    "    # change column names so that they do not have to be extracted later\n",
    "    df.rename(columns={p1: 1, p2: 2, p3: 3}, inplace=True)\n",
    "    df = pd.melt(\n",
    "        df,\n",
    "        id_vars=['tweet_id', 'jpg_url', 'img_num'],\n",
    "        value_vars=[1, 2, 3],\n",
    "        var_name='prediction_num',\n",
    "        value_name=value_name\n",
    "    )\n",
    "    return df"
   ]
  },
  {
   "cell_type": "code",
   "execution_count": 61,
   "id": "9839ff42",
   "metadata": {},
   "outputs": [
    {
     "name": "stderr",
     "output_type": "stream",
     "text": [
      "C:\\Users\\SELASI\\AppData\\Local\\Temp\\ipykernel_1012\\3787046391.py:4: SettingWithCopyWarning: \n",
      "A value is trying to be set on a copy of a slice from a DataFrame\n",
      "\n",
      "See the caveats in the documentation: https://pandas.pydata.org/pandas-docs/stable/user_guide/indexing.html#returning-a-view-versus-a-copy\n",
      "  df.rename(columns={p1: 1, p2: 2, p3: 3}, inplace=True)\n"
     ]
    },
    {
     "data": {
      "text/html": [
       "<div>\n",
       "<style scoped>\n",
       "    .dataframe tbody tr th:only-of-type {\n",
       "        vertical-align: middle;\n",
       "    }\n",
       "\n",
       "    .dataframe tbody tr th {\n",
       "        vertical-align: top;\n",
       "    }\n",
       "\n",
       "    .dataframe thead th {\n",
       "        text-align: right;\n",
       "    }\n",
       "</style>\n",
       "<table border=\"1\" class=\"dataframe\">\n",
       "  <thead>\n",
       "    <tr style=\"text-align: right;\">\n",
       "      <th></th>\n",
       "      <th>tweet_id</th>\n",
       "      <th>jpg_url</th>\n",
       "      <th>img_num</th>\n",
       "      <th>prediction_num</th>\n",
       "      <th>prediction</th>\n",
       "    </tr>\n",
       "  </thead>\n",
       "  <tbody>\n",
       "    <tr>\n",
       "      <th>0</th>\n",
       "      <td>666020888022790149</td>\n",
       "      <td>https://pbs.twimg.com/media/CT4udn0WwAA0aMy.jpg</td>\n",
       "      <td>1</td>\n",
       "      <td>1</td>\n",
       "      <td>Welsh_springer_spaniel</td>\n",
       "    </tr>\n",
       "    <tr>\n",
       "      <th>1</th>\n",
       "      <td>666029285002620928</td>\n",
       "      <td>https://pbs.twimg.com/media/CT42GRgUYAA5iDo.jpg</td>\n",
       "      <td>1</td>\n",
       "      <td>1</td>\n",
       "      <td>redbone</td>\n",
       "    </tr>\n",
       "    <tr>\n",
       "      <th>2</th>\n",
       "      <td>666033412701032449</td>\n",
       "      <td>https://pbs.twimg.com/media/CT4521TWwAEvMyu.jpg</td>\n",
       "      <td>1</td>\n",
       "      <td>1</td>\n",
       "      <td>German_shepherd</td>\n",
       "    </tr>\n",
       "    <tr>\n",
       "      <th>3</th>\n",
       "      <td>666044226329800704</td>\n",
       "      <td>https://pbs.twimg.com/media/CT5Dr8HUEAA-lEu.jpg</td>\n",
       "      <td>1</td>\n",
       "      <td>1</td>\n",
       "      <td>Rhodesian_ridgeback</td>\n",
       "    </tr>\n",
       "    <tr>\n",
       "      <th>4</th>\n",
       "      <td>666049248165822465</td>\n",
       "      <td>https://pbs.twimg.com/media/CT5IQmsXIAAKY4A.jpg</td>\n",
       "      <td>1</td>\n",
       "      <td>1</td>\n",
       "      <td>miniature_pinscher</td>\n",
       "    </tr>\n",
       "  </tbody>\n",
       "</table>\n",
       "</div>"
      ],
      "text/plain": [
       "             tweet_id                                          jpg_url  \\\n",
       "0  666020888022790149  https://pbs.twimg.com/media/CT4udn0WwAA0aMy.jpg   \n",
       "1  666029285002620928  https://pbs.twimg.com/media/CT42GRgUYAA5iDo.jpg   \n",
       "2  666033412701032449  https://pbs.twimg.com/media/CT4521TWwAEvMyu.jpg   \n",
       "3  666044226329800704  https://pbs.twimg.com/media/CT5Dr8HUEAA-lEu.jpg   \n",
       "4  666049248165822465  https://pbs.twimg.com/media/CT5IQmsXIAAKY4A.jpg   \n",
       "\n",
       "   img_num prediction_num              prediction  \n",
       "0        1              1  Welsh_springer_spaniel  \n",
       "1        1              1                 redbone  \n",
       "2        1              1         German_shepherd  \n",
       "3        1              1     Rhodesian_ridgeback  \n",
       "4        1              1      miniature_pinscher  "
      ]
     },
     "execution_count": 61,
     "metadata": {},
     "output_type": "execute_result"
    }
   ],
   "source": [
    "pred_names=melting('p1','p2','p3','prediction')\n",
    "pred_names.head()"
   ]
  },
  {
   "cell_type": "code",
   "execution_count": 62,
   "id": "08a61aa1",
   "metadata": {},
   "outputs": [
    {
     "name": "stderr",
     "output_type": "stream",
     "text": [
      "C:\\Users\\SELASI\\AppData\\Local\\Temp\\ipykernel_1012\\3787046391.py:4: SettingWithCopyWarning: \n",
      "A value is trying to be set on a copy of a slice from a DataFrame\n",
      "\n",
      "See the caveats in the documentation: https://pandas.pydata.org/pandas-docs/stable/user_guide/indexing.html#returning-a-view-versus-a-copy\n",
      "  df.rename(columns={p1: 1, p2: 2, p3: 3}, inplace=True)\n"
     ]
    },
    {
     "data": {
      "text/html": [
       "<div>\n",
       "<style scoped>\n",
       "    .dataframe tbody tr th:only-of-type {\n",
       "        vertical-align: middle;\n",
       "    }\n",
       "\n",
       "    .dataframe tbody tr th {\n",
       "        vertical-align: top;\n",
       "    }\n",
       "\n",
       "    .dataframe thead th {\n",
       "        text-align: right;\n",
       "    }\n",
       "</style>\n",
       "<table border=\"1\" class=\"dataframe\">\n",
       "  <thead>\n",
       "    <tr style=\"text-align: right;\">\n",
       "      <th></th>\n",
       "      <th>tweet_id</th>\n",
       "      <th>jpg_url</th>\n",
       "      <th>img_num</th>\n",
       "      <th>prediction_num</th>\n",
       "      <th>confidence</th>\n",
       "    </tr>\n",
       "  </thead>\n",
       "  <tbody>\n",
       "    <tr>\n",
       "      <th>0</th>\n",
       "      <td>666020888022790149</td>\n",
       "      <td>https://pbs.twimg.com/media/CT4udn0WwAA0aMy.jpg</td>\n",
       "      <td>1</td>\n",
       "      <td>1</td>\n",
       "      <td>0.465074</td>\n",
       "    </tr>\n",
       "    <tr>\n",
       "      <th>1</th>\n",
       "      <td>666029285002620928</td>\n",
       "      <td>https://pbs.twimg.com/media/CT42GRgUYAA5iDo.jpg</td>\n",
       "      <td>1</td>\n",
       "      <td>1</td>\n",
       "      <td>0.506826</td>\n",
       "    </tr>\n",
       "    <tr>\n",
       "      <th>2</th>\n",
       "      <td>666033412701032449</td>\n",
       "      <td>https://pbs.twimg.com/media/CT4521TWwAEvMyu.jpg</td>\n",
       "      <td>1</td>\n",
       "      <td>1</td>\n",
       "      <td>0.596461</td>\n",
       "    </tr>\n",
       "    <tr>\n",
       "      <th>3</th>\n",
       "      <td>666044226329800704</td>\n",
       "      <td>https://pbs.twimg.com/media/CT5Dr8HUEAA-lEu.jpg</td>\n",
       "      <td>1</td>\n",
       "      <td>1</td>\n",
       "      <td>0.408143</td>\n",
       "    </tr>\n",
       "    <tr>\n",
       "      <th>4</th>\n",
       "      <td>666049248165822465</td>\n",
       "      <td>https://pbs.twimg.com/media/CT5IQmsXIAAKY4A.jpg</td>\n",
       "      <td>1</td>\n",
       "      <td>1</td>\n",
       "      <td>0.560311</td>\n",
       "    </tr>\n",
       "  </tbody>\n",
       "</table>\n",
       "</div>"
      ],
      "text/plain": [
       "             tweet_id                                          jpg_url  \\\n",
       "0  666020888022790149  https://pbs.twimg.com/media/CT4udn0WwAA0aMy.jpg   \n",
       "1  666029285002620928  https://pbs.twimg.com/media/CT42GRgUYAA5iDo.jpg   \n",
       "2  666033412701032449  https://pbs.twimg.com/media/CT4521TWwAEvMyu.jpg   \n",
       "3  666044226329800704  https://pbs.twimg.com/media/CT5Dr8HUEAA-lEu.jpg   \n",
       "4  666049248165822465  https://pbs.twimg.com/media/CT5IQmsXIAAKY4A.jpg   \n",
       "\n",
       "   img_num prediction_num  confidence  \n",
       "0        1              1    0.465074  \n",
       "1        1              1    0.506826  \n",
       "2        1              1    0.596461  \n",
       "3        1              1    0.408143  \n",
       "4        1              1    0.560311  "
      ]
     },
     "execution_count": 62,
     "metadata": {},
     "output_type": "execute_result"
    }
   ],
   "source": [
    "predictions_conf = melting('p1_conf', 'p2_conf', 'p3_conf', 'confidence')\n",
    "predictions_conf.head()"
   ]
  },
  {
   "cell_type": "code",
   "execution_count": 63,
   "id": "8c6e1f9a",
   "metadata": {},
   "outputs": [],
   "source": [
    "dogs_only_cleaned =pred_names.merge(\n",
    "    predictions_conf,\n",
    "    how='inner',\n",
    "    on=['tweet_id', 'jpg_url', 'img_num', 'prediction_num']\n",
    ")"
   ]
  },
  {
   "cell_type": "markdown",
   "id": "5ceb8347",
   "metadata": {},
   "source": [
    "### Test"
   ]
  },
  {
   "cell_type": "code",
   "execution_count": 64,
   "id": "7786378e",
   "metadata": {},
   "outputs": [
    {
     "data": {
      "text/html": [
       "<div>\n",
       "<style scoped>\n",
       "    .dataframe tbody tr th:only-of-type {\n",
       "        vertical-align: middle;\n",
       "    }\n",
       "\n",
       "    .dataframe tbody tr th {\n",
       "        vertical-align: top;\n",
       "    }\n",
       "\n",
       "    .dataframe thead th {\n",
       "        text-align: right;\n",
       "    }\n",
       "</style>\n",
       "<table border=\"1\" class=\"dataframe\">\n",
       "  <thead>\n",
       "    <tr style=\"text-align: right;\">\n",
       "      <th></th>\n",
       "      <th>tweet_id</th>\n",
       "      <th>jpg_url</th>\n",
       "      <th>img_num</th>\n",
       "      <th>prediction_num</th>\n",
       "      <th>prediction</th>\n",
       "      <th>confidence</th>\n",
       "    </tr>\n",
       "  </thead>\n",
       "  <tbody>\n",
       "    <tr>\n",
       "      <th>0</th>\n",
       "      <td>666020888022790149</td>\n",
       "      <td>https://pbs.twimg.com/media/CT4udn0WwAA0aMy.jpg</td>\n",
       "      <td>1</td>\n",
       "      <td>1</td>\n",
       "      <td>Welsh_springer_spaniel</td>\n",
       "      <td>0.465074</td>\n",
       "    </tr>\n",
       "    <tr>\n",
       "      <th>1</th>\n",
       "      <td>666029285002620928</td>\n",
       "      <td>https://pbs.twimg.com/media/CT42GRgUYAA5iDo.jpg</td>\n",
       "      <td>1</td>\n",
       "      <td>1</td>\n",
       "      <td>redbone</td>\n",
       "      <td>0.506826</td>\n",
       "    </tr>\n",
       "    <tr>\n",
       "      <th>2</th>\n",
       "      <td>666033412701032449</td>\n",
       "      <td>https://pbs.twimg.com/media/CT4521TWwAEvMyu.jpg</td>\n",
       "      <td>1</td>\n",
       "      <td>1</td>\n",
       "      <td>German_shepherd</td>\n",
       "      <td>0.596461</td>\n",
       "    </tr>\n",
       "    <tr>\n",
       "      <th>3</th>\n",
       "      <td>666044226329800704</td>\n",
       "      <td>https://pbs.twimg.com/media/CT5Dr8HUEAA-lEu.jpg</td>\n",
       "      <td>1</td>\n",
       "      <td>1</td>\n",
       "      <td>Rhodesian_ridgeback</td>\n",
       "      <td>0.408143</td>\n",
       "    </tr>\n",
       "    <tr>\n",
       "      <th>4</th>\n",
       "      <td>666049248165822465</td>\n",
       "      <td>https://pbs.twimg.com/media/CT5IQmsXIAAKY4A.jpg</td>\n",
       "      <td>1</td>\n",
       "      <td>1</td>\n",
       "      <td>miniature_pinscher</td>\n",
       "      <td>0.560311</td>\n",
       "    </tr>\n",
       "    <tr>\n",
       "      <th>...</th>\n",
       "      <td>...</td>\n",
       "      <td>...</td>\n",
       "      <td>...</td>\n",
       "      <td>...</td>\n",
       "      <td>...</td>\n",
       "      <td>...</td>\n",
       "    </tr>\n",
       "    <tr>\n",
       "      <th>5248</th>\n",
       "      <td>891087950875897856</td>\n",
       "      <td>https://pbs.twimg.com/media/DF3HwyEWsAABqE6.jpg</td>\n",
       "      <td>1</td>\n",
       "      <td>3</td>\n",
       "      <td>Indian_elephant</td>\n",
       "      <td>0.076902</td>\n",
       "    </tr>\n",
       "    <tr>\n",
       "      <th>5249</th>\n",
       "      <td>891327558926688256</td>\n",
       "      <td>https://pbs.twimg.com/media/DF6hr6BUMAAzZgT.jpg</td>\n",
       "      <td>2</td>\n",
       "      <td>3</td>\n",
       "      <td>German_short-haired_pointer</td>\n",
       "      <td>0.175219</td>\n",
       "    </tr>\n",
       "    <tr>\n",
       "      <th>5250</th>\n",
       "      <td>891689557279858688</td>\n",
       "      <td>https://pbs.twimg.com/media/DF_q7IAWsAEuuN8.jpg</td>\n",
       "      <td>1</td>\n",
       "      <td>3</td>\n",
       "      <td>spatula</td>\n",
       "      <td>0.040836</td>\n",
       "    </tr>\n",
       "    <tr>\n",
       "      <th>5251</th>\n",
       "      <td>891815181378084864</td>\n",
       "      <td>https://pbs.twimg.com/media/DGBdLU1WsAANxJ9.jpg</td>\n",
       "      <td>1</td>\n",
       "      <td>3</td>\n",
       "      <td>kelpie</td>\n",
       "      <td>0.031379</td>\n",
       "    </tr>\n",
       "    <tr>\n",
       "      <th>5252</th>\n",
       "      <td>892177421306343426</td>\n",
       "      <td>https://pbs.twimg.com/media/DGGmoV4XsAAUL6n.jpg</td>\n",
       "      <td>1</td>\n",
       "      <td>3</td>\n",
       "      <td>papillon</td>\n",
       "      <td>0.068957</td>\n",
       "    </tr>\n",
       "  </tbody>\n",
       "</table>\n",
       "<p>5253 rows × 6 columns</p>\n",
       "</div>"
      ],
      "text/plain": [
       "                tweet_id                                          jpg_url  \\\n",
       "0     666020888022790149  https://pbs.twimg.com/media/CT4udn0WwAA0aMy.jpg   \n",
       "1     666029285002620928  https://pbs.twimg.com/media/CT42GRgUYAA5iDo.jpg   \n",
       "2     666033412701032449  https://pbs.twimg.com/media/CT4521TWwAEvMyu.jpg   \n",
       "3     666044226329800704  https://pbs.twimg.com/media/CT5Dr8HUEAA-lEu.jpg   \n",
       "4     666049248165822465  https://pbs.twimg.com/media/CT5IQmsXIAAKY4A.jpg   \n",
       "...                  ...                                              ...   \n",
       "5248  891087950875897856  https://pbs.twimg.com/media/DF3HwyEWsAABqE6.jpg   \n",
       "5249  891327558926688256  https://pbs.twimg.com/media/DF6hr6BUMAAzZgT.jpg   \n",
       "5250  891689557279858688  https://pbs.twimg.com/media/DF_q7IAWsAEuuN8.jpg   \n",
       "5251  891815181378084864  https://pbs.twimg.com/media/DGBdLU1WsAANxJ9.jpg   \n",
       "5252  892177421306343426  https://pbs.twimg.com/media/DGGmoV4XsAAUL6n.jpg   \n",
       "\n",
       "      img_num prediction_num                   prediction  confidence  \n",
       "0           1              1       Welsh_springer_spaniel    0.465074  \n",
       "1           1              1                      redbone    0.506826  \n",
       "2           1              1              German_shepherd    0.596461  \n",
       "3           1              1          Rhodesian_ridgeback    0.408143  \n",
       "4           1              1           miniature_pinscher    0.560311  \n",
       "...       ...            ...                          ...         ...  \n",
       "5248        1              3              Indian_elephant    0.076902  \n",
       "5249        2              3  German_short-haired_pointer    0.175219  \n",
       "5250        1              3                      spatula    0.040836  \n",
       "5251        1              3                       kelpie    0.031379  \n",
       "5252        1              3                     papillon    0.068957  \n",
       "\n",
       "[5253 rows x 6 columns]"
      ]
     },
     "execution_count": 64,
     "metadata": {},
     "output_type": "execute_result"
    }
   ],
   "source": [
    "dogs_only_cleaned"
   ]
  },
  {
   "cell_type": "code",
   "execution_count": null,
   "id": "395c0bf1",
   "metadata": {},
   "outputs": [],
   "source": []
  },
  {
   "cell_type": "markdown",
   "id": "e02c2bf3",
   "metadata": {},
   "source": [
    "### Define"
   ]
  },
  {
   "cell_type": "markdown",
   "id": "7ff84dbc",
   "metadata": {},
   "source": [
    "- Ensure that the column prediction in dogs_only_cleaned are all in lower case"
   ]
  },
  {
   "cell_type": "markdown",
   "id": "82d3d7b3",
   "metadata": {},
   "source": [
    "### Code"
   ]
  },
  {
   "cell_type": "code",
   "execution_count": 65,
   "id": "0dd0db11",
   "metadata": {},
   "outputs": [],
   "source": [
    "dogs_only_cleaned.prediction =dogs_only_cleaned.prediction.str.lower()"
   ]
  },
  {
   "cell_type": "markdown",
   "id": "dc33bd05",
   "metadata": {},
   "source": [
    "### Test"
   ]
  },
  {
   "cell_type": "code",
   "execution_count": 66,
   "id": "5fab9fdb",
   "metadata": {},
   "outputs": [
    {
     "data": {
      "text/html": [
       "<div>\n",
       "<style scoped>\n",
       "    .dataframe tbody tr th:only-of-type {\n",
       "        vertical-align: middle;\n",
       "    }\n",
       "\n",
       "    .dataframe tbody tr th {\n",
       "        vertical-align: top;\n",
       "    }\n",
       "\n",
       "    .dataframe thead th {\n",
       "        text-align: right;\n",
       "    }\n",
       "</style>\n",
       "<table border=\"1\" class=\"dataframe\">\n",
       "  <thead>\n",
       "    <tr style=\"text-align: right;\">\n",
       "      <th></th>\n",
       "      <th>tweet_id</th>\n",
       "      <th>jpg_url</th>\n",
       "      <th>img_num</th>\n",
       "      <th>prediction_num</th>\n",
       "      <th>prediction</th>\n",
       "      <th>confidence</th>\n",
       "    </tr>\n",
       "  </thead>\n",
       "  <tbody>\n",
       "    <tr>\n",
       "      <th>4942</th>\n",
       "      <td>819952236453363712</td>\n",
       "      <td>https://pbs.twimg.com/media/C2EONHNWQAUWxkP.jpg</td>\n",
       "      <td>1</td>\n",
       "      <td>3</td>\n",
       "      <td>italian_greyhound</td>\n",
       "      <td>0.020412</td>\n",
       "    </tr>\n",
       "    <tr>\n",
       "      <th>2586</th>\n",
       "      <td>711743778164514816</td>\n",
       "      <td>https://pbs.twimg.com/media/CeCfMPDW0AAAEUj.jpg</td>\n",
       "      <td>1</td>\n",
       "      <td>2</td>\n",
       "      <td>miniature_poodle</td>\n",
       "      <td>0.219661</td>\n",
       "    </tr>\n",
       "    <tr>\n",
       "      <th>798</th>\n",
       "      <td>708149363256774660</td>\n",
       "      <td>https://pbs.twimg.com/media/CdPaEkHW8AA-Wom.jpg</td>\n",
       "      <td>1</td>\n",
       "      <td>1</td>\n",
       "      <td>cardigan</td>\n",
       "      <td>0.350993</td>\n",
       "    </tr>\n",
       "    <tr>\n",
       "      <th>3861</th>\n",
       "      <td>675149409102012420</td>\n",
       "      <td>https://pbs.twimg.com/media/CV6czeEWEAEdChp.jpg</td>\n",
       "      <td>1</td>\n",
       "      <td>3</td>\n",
       "      <td>tibetan_terrier</td>\n",
       "      <td>0.000029</td>\n",
       "    </tr>\n",
       "    <tr>\n",
       "      <th>2175</th>\n",
       "      <td>677547928504967168</td>\n",
       "      <td>https://pbs.twimg.com/media/CWciPonWEAUOqLD.jpg</td>\n",
       "      <td>1</td>\n",
       "      <td>2</td>\n",
       "      <td>staffordshire_bullterrier</td>\n",
       "      <td>0.084395</td>\n",
       "    </tr>\n",
       "    <tr>\n",
       "      <th>926</th>\n",
       "      <td>728760639972315136</td>\n",
       "      <td>https://pbs.twimg.com/media/Ch0T71OWMAA4yIw.jpg</td>\n",
       "      <td>1</td>\n",
       "      <td>1</td>\n",
       "      <td>pembroke</td>\n",
       "      <td>0.939134</td>\n",
       "    </tr>\n",
       "    <tr>\n",
       "      <th>2281</th>\n",
       "      <td>683773439333797890</td>\n",
       "      <td>https://pbs.twimg.com/media/CX1AUQ2UAAAC6s-.jpg</td>\n",
       "      <td>1</td>\n",
       "      <td>2</td>\n",
       "      <td>labrador_retriever</td>\n",
       "      <td>0.057866</td>\n",
       "    </tr>\n",
       "    <tr>\n",
       "      <th>2094</th>\n",
       "      <td>674774481756377088</td>\n",
       "      <td>https://pbs.twimg.com/media/CV1HztsWoAAuZwo.jpg</td>\n",
       "      <td>1</td>\n",
       "      <td>2</td>\n",
       "      <td>french_bulldog</td>\n",
       "      <td>0.309978</td>\n",
       "    </tr>\n",
       "    <tr>\n",
       "      <th>184</th>\n",
       "      <td>670435821946826752</td>\n",
       "      <td>https://pbs.twimg.com/media/CU3d0azWUAA38FD.jpg</td>\n",
       "      <td>1</td>\n",
       "      <td>1</td>\n",
       "      <td>sorrel</td>\n",
       "      <td>0.460370</td>\n",
       "    </tr>\n",
       "    <tr>\n",
       "      <th>897</th>\n",
       "      <td>723179728551723008</td>\n",
       "      <td>https://pbs.twimg.com/media/CglAHjAUgAAfxcq.jpg</td>\n",
       "      <td>1</td>\n",
       "      <td>1</td>\n",
       "      <td>tennis_ball</td>\n",
       "      <td>0.176495</td>\n",
       "    </tr>\n",
       "  </tbody>\n",
       "</table>\n",
       "</div>"
      ],
      "text/plain": [
       "                tweet_id                                          jpg_url  \\\n",
       "4942  819952236453363712  https://pbs.twimg.com/media/C2EONHNWQAUWxkP.jpg   \n",
       "2586  711743778164514816  https://pbs.twimg.com/media/CeCfMPDW0AAAEUj.jpg   \n",
       "798   708149363256774660  https://pbs.twimg.com/media/CdPaEkHW8AA-Wom.jpg   \n",
       "3861  675149409102012420  https://pbs.twimg.com/media/CV6czeEWEAEdChp.jpg   \n",
       "2175  677547928504967168  https://pbs.twimg.com/media/CWciPonWEAUOqLD.jpg   \n",
       "926   728760639972315136  https://pbs.twimg.com/media/Ch0T71OWMAA4yIw.jpg   \n",
       "2281  683773439333797890  https://pbs.twimg.com/media/CX1AUQ2UAAAC6s-.jpg   \n",
       "2094  674774481756377088  https://pbs.twimg.com/media/CV1HztsWoAAuZwo.jpg   \n",
       "184   670435821946826752  https://pbs.twimg.com/media/CU3d0azWUAA38FD.jpg   \n",
       "897   723179728551723008  https://pbs.twimg.com/media/CglAHjAUgAAfxcq.jpg   \n",
       "\n",
       "      img_num prediction_num                 prediction  confidence  \n",
       "4942        1              3          italian_greyhound    0.020412  \n",
       "2586        1              2           miniature_poodle    0.219661  \n",
       "798         1              1                   cardigan    0.350993  \n",
       "3861        1              3            tibetan_terrier    0.000029  \n",
       "2175        1              2  staffordshire_bullterrier    0.084395  \n",
       "926         1              1                   pembroke    0.939134  \n",
       "2281        1              2         labrador_retriever    0.057866  \n",
       "2094        1              2             french_bulldog    0.309978  \n",
       "184         1              1                     sorrel    0.460370  \n",
       "897         1              1                tennis_ball    0.176495  "
      ]
     },
     "execution_count": 66,
     "metadata": {},
     "output_type": "execute_result"
    }
   ],
   "source": [
    "dogs_only_cleaned.sample(10)"
   ]
  },
  {
   "cell_type": "code",
   "execution_count": null,
   "id": "528d9982",
   "metadata": {},
   "outputs": [],
   "source": []
  },
  {
   "cell_type": "markdown",
   "id": "acf9da96",
   "metadata": {},
   "source": [
    "### Combine all the tables "
   ]
  },
  {
   "cell_type": "code",
   "execution_count": 67,
   "id": "56a5ea66",
   "metadata": {},
   "outputs": [
    {
     "data": {
      "text/plain": [
       "(2117, 9)"
      ]
     },
     "execution_count": 67,
     "metadata": {},
     "output_type": "execute_result"
    }
   ],
   "source": [
    "twitter_archive_copy.shape"
   ]
  },
  {
   "cell_type": "code",
   "execution_count": 68,
   "id": "0e0315d6",
   "metadata": {},
   "outputs": [
    {
     "data": {
      "text/plain": [
       "(1772, 4)"
      ]
     },
     "execution_count": 68,
     "metadata": {},
     "output_type": "execute_result"
    }
   ],
   "source": [
    "extra_archive_data_copy.shape"
   ]
  },
  {
   "cell_type": "code",
   "execution_count": 69,
   "id": "747e696b",
   "metadata": {},
   "outputs": [
    {
     "data": {
      "text/plain": [
       "(5253, 6)"
      ]
     },
     "execution_count": 69,
     "metadata": {},
     "output_type": "execute_result"
    }
   ],
   "source": [
    "dogs_only_cleaned.shape"
   ]
  },
  {
   "cell_type": "code",
   "execution_count": 70,
   "id": "b0c356c2",
   "metadata": {},
   "outputs": [],
   "source": [
    "from functools import reduce\n",
    "dfs = [twitter_archive_copy, extra_archive_data_copy, dogs_only_cleaned]\n",
    "twitter_archive_master = reduce(lambda left,right: pd.merge(left,right,on='tweet_id', how='inner'), dfs)"
   ]
  },
  {
   "cell_type": "code",
   "execution_count": 71,
   "id": "abd12445",
   "metadata": {},
   "outputs": [],
   "source": [
    "twitter_archive_master.to_csv(\"twitter_archive_master.csv\",index=False)"
   ]
  },
  {
   "cell_type": "code",
   "execution_count": 72,
   "id": "3b348bde",
   "metadata": {},
   "outputs": [
    {
     "name": "stdout",
     "output_type": "stream",
     "text": [
      "<class 'pandas.core.frame.DataFrame'>\n",
      "Int64Index: 3759 entries, 0 to 3758\n",
      "Data columns (total 17 columns):\n",
      " #   Column              Non-Null Count  Dtype              \n",
      "---  ------              --------------  -----              \n",
      " 0   tweet_id            3759 non-null   int64              \n",
      " 1   timestamp           3759 non-null   datetime64[ns, UTC]\n",
      " 2   source              3759 non-null   object             \n",
      " 3   text                3759 non-null   object             \n",
      " 4   expanded_urls       3759 non-null   object             \n",
      " 5   rating_numerator    3759 non-null   int64              \n",
      " 6   rating_denominator  3759 non-null   int64              \n",
      " 7   name                2781 non-null   object             \n",
      " 8   dog_stage           594 non-null    category           \n",
      " 9   full_text           3759 non-null   object             \n",
      " 10  retweet_count       3759 non-null   int64              \n",
      " 11  favorite_count      3759 non-null   int64              \n",
      " 12  jpg_url             3759 non-null   object             \n",
      " 13  img_num             3759 non-null   int64              \n",
      " 14  prediction_num      3759 non-null   object             \n",
      " 15  prediction          3759 non-null   object             \n",
      " 16  confidence          3759 non-null   float64            \n",
      "dtypes: category(1), datetime64[ns, UTC](1), float64(1), int64(6), object(8)\n",
      "memory usage: 503.1+ KB\n"
     ]
    }
   ],
   "source": [
    "twitter_archive_master.info()"
   ]
  },
  {
   "cell_type": "markdown",
   "id": "ec38740c",
   "metadata": {},
   "source": [
    "###  Insights and Visualizations"
   ]
  },
  {
   "cell_type": "markdown",
   "id": "bab41ea4",
   "metadata": {},
   "source": [
    "### Top 10 common Name for Dogs"
   ]
  },
  {
   "cell_type": "code",
   "execution_count": 74,
   "id": "4042156f",
   "metadata": {},
   "outputs": [
    {
     "data": {
      "text/plain": [
       "Charlie    27\n",
       "Daisy      21\n",
       "Cooper     21\n",
       "Penny      21\n",
       "Tucker     18\n",
       "           ..\n",
       "Dobby       3\n",
       "Nimbus      3\n",
       "Mack        3\n",
       "Snicku      3\n",
       "Torque      3\n",
       "Name: name, Length: 682, dtype: int64"
      ]
     },
     "execution_count": 74,
     "metadata": {},
     "output_type": "execute_result"
    }
   ],
   "source": [
    "twitter_archive_master.name.value_counts()"
   ]
  },
  {
   "cell_type": "markdown",
   "id": "056d5c97",
   "metadata": {},
   "source": [
    "### Which are the most common dog stage?"
   ]
  },
  {
   "cell_type": "code",
   "execution_count": 73,
   "id": "a51511fa",
   "metadata": {
    "scrolled": true
   },
   "outputs": [
    {
     "data": {
      "text/plain": [
       "pupper     417\n",
       "doggo      114\n",
       "puppo       48\n",
       "floofer     15\n",
       "Name: dog_stage, dtype: int64"
      ]
     },
     "execution_count": 73,
     "metadata": {},
     "output_type": "execute_result"
    }
   ],
   "source": [
    "twitter_archive_master.dog_stage.value_counts()"
   ]
  },
  {
   "cell_type": "markdown",
   "id": "b8bf7b00",
   "metadata": {},
   "source": [
    "The most common dog stage is  **pupper** followed by **doggo**"
   ]
  },
  {
   "cell_type": "code",
   "execution_count": 79,
   "id": "025b2517",
   "metadata": {},
   "outputs": [
    {
     "data": {
      "text/plain": [
       "Text(0.5, 1.0, 'Most Common Dog Stage')"
      ]
     },
     "execution_count": 79,
     "metadata": {},
     "output_type": "execute_result"
    },
    {
     "data": {
      "image/png": "[encoded data removed]",
      "text/plain": [
       "<Figure size 432x288 with 1 Axes>"
      ]
     },
     "metadata": {
      "needs_background": "light"
     },
     "output_type": "display_data"
    }
   ],
   "source": [
    "most_common_dog_stage = twitter_archive_master.dog_stage.value_counts()\n",
    "most_common_dog_stage.plot(kind=\"bar\")\n",
    "plt.title(\"Most Common Dog Stage\")\n",
    "plt.show()"
   ]
  },
  {
   "cell_type": "markdown",
   "id": "2ba4e20c",
   "metadata": {},
   "source": [
    "### What dog stage receives the best ratings?"
   ]
  },
  {
   "cell_type": "code",
   "execution_count": 86,
   "id": "b7bdcccd",
   "metadata": {},
   "outputs": [
    {
     "data": {
      "text/plain": [
       "dog_stage\n",
       "puppo      12.687500\n",
       "doggo      12.342105\n",
       "floofer    12.000000\n",
       "pupper     10.978417\n",
       "Name: rating_numerator, dtype: float64"
      ]
     },
     "execution_count": 86,
     "metadata": {},
     "output_type": "execute_result"
    }
   ],
   "source": [
    "avg_rating= twitter_archive_master.groupby([\"dog_stage\"])[\"rating_numerator\"].mean()\n",
    "avg_rating.sort_values(ascending=False, inplace=True)\n",
    "avg_rating"
   ]
  },
  {
   "cell_type": "code",
   "execution_count": 87,
   "id": "f42fa5ab",
   "metadata": {},
   "outputs": [
    {
     "data": {
      "image/png": "[encoded data removed]",
      "text/plain": [
       "<Figure size 432x288 with 1 Axes>"
      ]
     },
     "metadata": {
      "needs_background": "light"
     },
     "output_type": "display_data"
    }
   ],
   "source": [
    "avg_rating.plot(kind=\"bar\")\n",
    "plt.title(\"Rating of Dog Stage\")\n",
    "plt.show()"
   ]
  },
  {
   "cell_type": "code",
   "execution_count": null,
   "id": "462a1d84",
   "metadata": {},
   "outputs": [],
   "source": []
  }
 ],
 "metadata": {
  "kernelspec": {
   "display_name": "Python 3 (ipykernel)",
   "language": "python",
   "name": "python3"
  },
  "language_info": {
   "codemirror_mode": {
    "name": "ipython",
    "version": 3
   },
   "file_extension": ".py",
   "mimetype": "text/x-python",
   "name": "python",
   "nbconvert_exporter": "python",
   "pygments_lexer": "ipython3",
   "version": "3.9.12"
  }
 },
 "nbformat": 4,
 "nbformat_minor": 5
}
