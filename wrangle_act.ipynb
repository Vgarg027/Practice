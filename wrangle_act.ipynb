{
 "cells": [
  {
   "cell_type": "code",
   "execution_count": 1,
   "metadata": {},
   "outputs": [],
   "source": [
    "import pandas as pd\n",
    "import requests\n",
    "import os\n",
    "import json\n",
    "import linecache\n",
    "import tweepy\n",
    "import copy\n",
    "from PIL import Image, ImageFont, ImageDraw \n",
    "from io import BytesIO\n",
    "import matplotlib.pyplot as plt\n",
    "%matplotlib inline\n"
   ]
  },
  {
   "cell_type": "markdown",
   "metadata": {},
   "source": [
    "# Gathering the data\n",
    "\n",
    "The first step in the project is to gather all the data from the 3 different sources. I start by opening and checking the file that has been handed to me:"
   ]
  },
  {
   "cell_type": "code",
   "execution_count": 2,
   "metadata": {},
   "outputs": [],
   "source": [
    "#Open the already downloaded Twitter archive\n",
    "t_archive = pd.read_csv(\"twitter-archive-enhanced.csv\")\n",
    "\n"
   ]
  },
  {
   "cell_type": "code",
   "execution_count": 3,
   "metadata": {},
   "outputs": [
    {
     "name": "stdout",
     "output_type": "stream",
     "text": [
      "<class 'pandas.core.frame.DataFrame'>\n",
      "RangeIndex: 2356 entries, 0 to 2355\n",
      "Data columns (total 17 columns):\n",
      "tweet_id                      2356 non-null int64\n",
      "in_reply_to_status_id         78 non-null float64\n",
      "in_reply_to_user_id           78 non-null float64\n",
      "timestamp                     2356 non-null object\n",
      "source                        2356 non-null object\n",
      "text                          2356 non-null object\n",
      "retweeted_status_id           181 non-null float64\n",
      "retweeted_status_user_id      181 non-null float64\n",
      "retweeted_status_timestamp    181 non-null object\n",
      "expanded_urls                 2297 non-null object\n",
      "rating_numerator              2356 non-null int64\n",
      "rating_denominator            2356 non-null int64\n",
      "name                          2356 non-null object\n",
      "doggo                         2356 non-null object\n",
      "floofer                       2356 non-null object\n",
      "pupper                        2356 non-null object\n",
      "puppo                         2356 non-null object\n",
      "dtypes: float64(4), int64(3), object(10)\n",
      "memory usage: 313.0+ KB\n"
     ]
    }
   ],
   "source": [
    "t_archive.info()"
   ]
  },
  {
   "cell_type": "markdown",
   "metadata": {},
   "source": [
    "The second file is accesible online. I access it and save the file in csv format."
   ]
  },
  {
   "cell_type": "code",
   "execution_count": 4,
   "metadata": {},
   "outputs": [],
   "source": [
    "#Download the image predictions and save in a file\n",
    "url = \"https://d17h27t6h515a5.cloudfront.net/topher/2017/August/599fd2ad_image-predictions/image-predictions.tsv\"\n",
    "response = requests.get(url)\n",
    "with open (\"image_predictions.tsv\", mode=\"wb\") as file:\n",
    "    file.write(response.content)"
   ]
  },
  {
   "cell_type": "code",
   "execution_count": 5,
   "metadata": {},
   "outputs": [
    {
     "data": {
      "text/html": [
       "<div>\n",
       "<style scoped>\n",
       "    .dataframe tbody tr th:only-of-type {\n",
       "        vertical-align: middle;\n",
       "    }\n",
       "\n",
       "    .dataframe tbody tr th {\n",
       "        vertical-align: top;\n",
       "    }\n",
       "\n",
       "    .dataframe thead th {\n",
       "        text-align: right;\n",
       "    }\n",
       "</style>\n",
       "<table border=\"1\" class=\"dataframe\">\n",
       "  <thead>\n",
       "    <tr style=\"text-align: right;\">\n",
       "      <th></th>\n",
       "      <th>tweet_id</th>\n",
       "      <th>jpg_url</th>\n",
       "      <th>img_num</th>\n",
       "      <th>p1</th>\n",
       "      <th>p1_conf</th>\n",
       "      <th>p1_dog</th>\n",
       "      <th>p2</th>\n",
       "      <th>p2_conf</th>\n",
       "      <th>p2_dog</th>\n",
       "      <th>p3</th>\n",
       "      <th>p3_conf</th>\n",
       "      <th>p3_dog</th>\n",
       "    </tr>\n",
       "  </thead>\n",
       "  <tbody>\n",
       "    <tr>\n",
       "      <th>0</th>\n",
       "      <td>666020888022790149</td>\n",
       "      <td>https://pbs.twimg.com/media/CT4udn0WwAA0aMy.jpg</td>\n",
       "      <td>1</td>\n",
       "      <td>Welsh_springer_spaniel</td>\n",
       "      <td>0.465074</td>\n",
       "      <td>True</td>\n",
       "      <td>collie</td>\n",
       "      <td>0.156665</td>\n",
       "      <td>True</td>\n",
       "      <td>Shetland_sheepdog</td>\n",
       "      <td>0.061428</td>\n",
       "      <td>True</td>\n",
       "    </tr>\n",
       "    <tr>\n",
       "      <th>1</th>\n",
       "      <td>666029285002620928</td>\n",
       "      <td>https://pbs.twimg.com/media/CT42GRgUYAA5iDo.jpg</td>\n",
       "      <td>1</td>\n",
       "      <td>redbone</td>\n",
       "      <td>0.506826</td>\n",
       "      <td>True</td>\n",
       "      <td>miniature_pinscher</td>\n",
       "      <td>0.074192</td>\n",
       "      <td>True</td>\n",
       "      <td>Rhodesian_ridgeback</td>\n",
       "      <td>0.072010</td>\n",
       "      <td>True</td>\n",
       "    </tr>\n",
       "    <tr>\n",
       "      <th>2</th>\n",
       "      <td>666033412701032449</td>\n",
       "      <td>https://pbs.twimg.com/media/CT4521TWwAEvMyu.jpg</td>\n",
       "      <td>1</td>\n",
       "      <td>German_shepherd</td>\n",
       "      <td>0.596461</td>\n",
       "      <td>True</td>\n",
       "      <td>malinois</td>\n",
       "      <td>0.138584</td>\n",
       "      <td>True</td>\n",
       "      <td>bloodhound</td>\n",
       "      <td>0.116197</td>\n",
       "      <td>True</td>\n",
       "    </tr>\n",
       "    <tr>\n",
       "      <th>3</th>\n",
       "      <td>666044226329800704</td>\n",
       "      <td>https://pbs.twimg.com/media/CT5Dr8HUEAA-lEu.jpg</td>\n",
       "      <td>1</td>\n",
       "      <td>Rhodesian_ridgeback</td>\n",
       "      <td>0.408143</td>\n",
       "      <td>True</td>\n",
       "      <td>redbone</td>\n",
       "      <td>0.360687</td>\n",
       "      <td>True</td>\n",
       "      <td>miniature_pinscher</td>\n",
       "      <td>0.222752</td>\n",
       "      <td>True</td>\n",
       "    </tr>\n",
       "    <tr>\n",
       "      <th>4</th>\n",
       "      <td>666049248165822465</td>\n",
       "      <td>https://pbs.twimg.com/media/CT5IQmsXIAAKY4A.jpg</td>\n",
       "      <td>1</td>\n",
       "      <td>miniature_pinscher</td>\n",
       "      <td>0.560311</td>\n",
       "      <td>True</td>\n",
       "      <td>Rottweiler</td>\n",
       "      <td>0.243682</td>\n",
       "      <td>True</td>\n",
       "      <td>Doberman</td>\n",
       "      <td>0.154629</td>\n",
       "      <td>True</td>\n",
       "    </tr>\n",
       "  </tbody>\n",
       "</table>\n",
       "</div>"
      ],
      "text/plain": [
       "             tweet_id                                          jpg_url  \\\n",
       "0  666020888022790149  https://pbs.twimg.com/media/CT4udn0WwAA0aMy.jpg   \n",
       "1  666029285002620928  https://pbs.twimg.com/media/CT42GRgUYAA5iDo.jpg   \n",
       "2  666033412701032449  https://pbs.twimg.com/media/CT4521TWwAEvMyu.jpg   \n",
       "3  666044226329800704  https://pbs.twimg.com/media/CT5Dr8HUEAA-lEu.jpg   \n",
       "4  666049248165822465  https://pbs.twimg.com/media/CT5IQmsXIAAKY4A.jpg   \n",
       "\n",
       "   img_num                      p1   p1_conf  p1_dog                  p2  \\\n",
       "0        1  Welsh_springer_spaniel  0.465074    True              collie   \n",
       "1        1                 redbone  0.506826    True  miniature_pinscher   \n",
       "2        1         German_shepherd  0.596461    True            malinois   \n",
       "3        1     Rhodesian_ridgeback  0.408143    True             redbone   \n",
       "4        1      miniature_pinscher  0.560311    True          Rottweiler   \n",
       "\n",
       "    p2_conf  p2_dog                   p3   p3_conf  p3_dog  \n",
       "0  0.156665    True    Shetland_sheepdog  0.061428    True  \n",
       "1  0.074192    True  Rhodesian_ridgeback  0.072010    True  \n",
       "2  0.138584    True           bloodhound  0.116197    True  \n",
       "3  0.360687    True   miniature_pinscher  0.222752    True  \n",
       "4  0.243682    True             Doberman  0.154629    True  "
      ]
     },
     "execution_count": 5,
     "metadata": {},
     "output_type": "execute_result"
    }
   ],
   "source": [
    "#Open the image predictions\n",
    "im_pred = pd.read_csv(\"image_predictions.tsv\", sep=\"\\t\")\n",
    "im_pred.head()"
   ]
  },
  {
   "cell_type": "code",
   "execution_count": 9,
   "metadata": {},
   "outputs": [
    {
     "name": "stdout",
     "output_type": "stream",
     "text": [
      "<class 'pandas.core.frame.DataFrame'>\n",
      "RangeIndex: 2075 entries, 0 to 2074\n",
      "Data columns (total 12 columns):\n",
      "tweet_id    2075 non-null int64\n",
      "jpg_url     2075 non-null object\n",
      "img_num     2075 non-null int64\n",
      "p1          2075 non-null object\n",
      "p1_conf     2075 non-null float64\n",
      "p1_dog      2075 non-null bool\n",
      "p2          2075 non-null object\n",
      "p2_conf     2075 non-null float64\n",
      "p2_dog      2075 non-null bool\n",
      "p3          2075 non-null object\n",
      "p3_conf     2075 non-null float64\n",
      "p3_dog      2075 non-null bool\n",
      "dtypes: bool(3), float64(3), int64(2), object(4)\n",
      "memory usage: 152.1+ KB\n"
     ]
    }
   ],
   "source": [
    "im_pred.info()"
   ]
  },
  {
   "cell_type": "code",
   "execution_count": 6,
   "metadata": {},
   "outputs": [],
   "source": [
    "#Save the data in a csv file\n",
    "im_pred.to_csv(\"image_predictions.csv\", index=False)"
   ]
  },
  {
   "cell_type": "markdown",
   "metadata": {},
   "source": [
    "To create the third file, where I will store the number of favorites and retweets, I need to access twitter API and download the data using the ID of each tweet."
   ]
  },
  {
   "cell_type": "code",
   "execution_count": 44,
   "metadata": {},
   "outputs": [],
   "source": [
    "#Get the twitter data\n",
    "consumer_key = ''\n",
    "consumer_secret = ''\n",
    "access_token = ''\n",
    "access_secret = ''\n",
    "\n",
    "auth = tweepy.OAuthHandler(consumer_key, consumer_secret)\n",
    "auth.set_access_token(access_token, access_secret)\n",
    "\n",
    "api = tweepy.API(auth, wait_on_rate_limit=True)\n",
    "\n",
    "#Save twitter data to file\n",
    "myfile = open('tweet_json.txt', 'w')\n",
    "for id in im_pred.tweet_id:\n",
    "    try:\n",
    "        tweet = api.get_status(id, tweet_mode = \"extended\")\n",
    "        p = json.dumps(tweet._json)\n",
    "        myfile.write(p+ '\\n')\n",
    "    except:\n",
    "        pass\n",
    "myfile.close()"
   ]
  },
  {
   "cell_type": "code",
   "execution_count": 47,
   "metadata": {},
   "outputs": [
    {
     "name": "stdout",
     "output_type": "stream",
     "text": [
      "2059\n"
     ]
    }
   ],
   "source": [
    "#Check that the file was created by counting lines\n",
    "file = open(\"tweet_json.txt\", \"r\")\n",
    "line_count = 0\n",
    "for line in file:\n",
    "    line_count += 1\n",
    "file.close()\n",
    "\n",
    "print(line_count)"
   ]
  },
  {
   "cell_type": "code",
   "execution_count": 8,
   "metadata": {},
   "outputs": [],
   "source": [
    "#Create a dataframe from the text file\n",
    "list_tweets = []\n",
    "\n",
    "with open(\"tweet_json.txt\", \"r\") as file:\n",
    "    for line in file:\n",
    "        p = json.loads(line)\n",
    "        list_tweets.append({\"tweet_id\": p[\"id\"],\n",
    "                           \"retweet_count\": p[\"retweet_count\"],\n",
    "                           \"favorite_count\": p[\"favorite_count\"]})\n",
    "        \n",
    "tweet_counts = pd.DataFrame(list_tweets, columns = [\"tweet_id\", \"retweet_count\", \"favorite_count\"])\n",
    "\n",
    "#Save the data in a csv file\n",
    "tweet_counts.to_csv(\"tweet_counts.csv\", index=False)"
   ]
  },
  {
   "cell_type": "markdown",
   "metadata": {},
   "source": [
    "# Assesing the data\n",
    "\n",
    "After a visual examination of the three databases and I have found several issues:\n",
    "\n",
    "Tidyness\n",
    "* timestamp column shows time and hour\n",
    "* type of dog could be just one column\n",
    "* the text column contains also an URL\n",
    "\n",
    "Quality\n",
    "* the data contains tweets that are replies\n",
    "* the data contains retweets \n",
    "* source column has extra unuseful info\n",
    "* common nouns identified as names\n",
    "* dogs identified in two different categories\n",
    "* pictures not showing dogs in image prediction file\n",
    "\n",
    "Then I have also checked all the files programatically with .info():"
   ]
  },
  {
   "cell_type": "code",
   "execution_count": 7,
   "metadata": {},
   "outputs": [
    {
     "name": "stdout",
     "output_type": "stream",
     "text": [
      "<class 'pandas.core.frame.DataFrame'>\n",
      "RangeIndex: 2356 entries, 0 to 2355\n",
      "Data columns (total 17 columns):\n",
      "tweet_id                      2356 non-null int64\n",
      "in_reply_to_status_id         78 non-null float64\n",
      "in_reply_to_user_id           78 non-null float64\n",
      "timestamp                     2356 non-null object\n",
      "source                        2356 non-null object\n",
      "text                          2356 non-null object\n",
      "retweeted_status_id           181 non-null float64\n",
      "retweeted_status_user_id      181 non-null float64\n",
      "retweeted_status_timestamp    181 non-null object\n",
      "expanded_urls                 2297 non-null object\n",
      "rating_numerator              2356 non-null int64\n",
      "rating_denominator            2356 non-null int64\n",
      "name                          2356 non-null object\n",
      "doggo                         2356 non-null object\n",
      "floofer                       2356 non-null object\n",
      "pupper                        2356 non-null object\n",
      "puppo                         2356 non-null object\n",
      "dtypes: float64(4), int64(3), object(10)\n",
      "memory usage: 313.0+ KB\n"
     ]
    }
   ],
   "source": [
    "t_archive.info()"
   ]
  },
  {
   "cell_type": "markdown",
   "metadata": {},
   "source": [
    "It seems that not all the URLs are there (expanded_URLs shows missing values). It could have been caused by the pressence of replies and retweets that I have identified previously.  "
   ]
  },
  {
   "cell_type": "code",
   "execution_count": 10,
   "metadata": {},
   "outputs": [
    {
     "name": "stdout",
     "output_type": "stream",
     "text": [
      "<class 'pandas.core.frame.DataFrame'>\n",
      "RangeIndex: 2075 entries, 0 to 2074\n",
      "Data columns (total 12 columns):\n",
      "tweet_id    2075 non-null int64\n",
      "jpg_url     2075 non-null object\n",
      "img_num     2075 non-null int64\n",
      "p1          2075 non-null object\n",
      "p1_conf     2075 non-null float64\n",
      "p1_dog      2075 non-null bool\n",
      "p2          2075 non-null object\n",
      "p2_conf     2075 non-null float64\n",
      "p2_dog      2075 non-null bool\n",
      "p3          2075 non-null object\n",
      "p3_conf     2075 non-null float64\n",
      "p3_dog      2075 non-null bool\n",
      "dtypes: bool(3), float64(3), int64(2), object(4)\n",
      "memory usage: 152.1+ KB\n"
     ]
    }
   ],
   "source": [
    "im_pred.info()"
   ]
  },
  {
   "cell_type": "code",
   "execution_count": 11,
   "metadata": {},
   "outputs": [
    {
     "name": "stdout",
     "output_type": "stream",
     "text": [
      "<class 'pandas.core.frame.DataFrame'>\n",
      "RangeIndex: 2059 entries, 0 to 2058\n",
      "Data columns (total 3 columns):\n",
      "tweet_id          2059 non-null int64\n",
      "retweet_count     2059 non-null int64\n",
      "favorite_count    2059 non-null int64\n",
      "dtypes: int64(3)\n",
      "memory usage: 48.3 KB\n"
     ]
    }
   ],
   "source": [
    "tweet_counts.info()"
   ]
  },
  {
   "cell_type": "markdown",
   "metadata": {},
   "source": [
    "In the t_archive dataframe there are two numerical values extracted from the text, the numerator is the \"rating\" of the dog, which is always higher than 10, while the denominator should always be 10. I check the minimum and maximum of each column."
   ]
  },
  {
   "cell_type": "code",
   "execution_count": 9,
   "metadata": {},
   "outputs": [
    {
     "name": "stdout",
     "output_type": "stream",
     "text": [
      "1776\n",
      "0\n",
      "170\n",
      "0\n"
     ]
    }
   ],
   "source": [
    "print(t_archive.rating_numerator.max())\n",
    "print(t_archive.rating_numerator.min())\n",
    "print(t_archive.rating_denominator.max())\n",
    "print(t_archive.rating_denominator.min())"
   ]
  },
  {
   "cell_type": "markdown",
   "metadata": {},
   "source": [
    "So after the visual and programatic inspection I have found the following issues:\n",
    "\n",
    "Tidiness\n",
    "* timestamp column shows time and hour\n",
    "* type of dog could be just one column\n",
    "* the text column contains also an URL\n",
    "\n",
    "Quality\n",
    "* the data contains tweets that are replies\n",
    "* the data contains retweets \n",
    "* source column has extra unuseful info\n",
    "* common nouns identified as names\n",
    "* dogs identified in two different categories\n",
    "* pictures not showing dogs in image prediction file\n",
    "* missing elements in expanded URLs\n",
    "* wrong numerator rating\n",
    "* wrong denominator rating"
   ]
  },
  {
   "cell_type": "markdown",
   "metadata": {},
   "source": [
    "# Cleaning the data\n",
    "\n",
    "First, I am going to create copies of the 3 databases to perform the cleaning in the copies. In this way I can go back to the original data if I make any unwanted modification during the cleaing phase."
   ]
  },
  {
   "cell_type": "code",
   "execution_count": 13,
   "metadata": {},
   "outputs": [],
   "source": [
    "t_archive_copy = copy.copy(t_archive)\n",
    "im_pred_copy = copy.copy(im_pred)\n",
    "tweet_counts_copy = copy.copy(tweet_counts)"
   ]
  },
  {
   "cell_type": "markdown",
   "metadata": {},
   "source": [
    "Now I am going to address the issues one by one, starting with the tidiness problems. "
   ]
  },
  {
   "cell_type": "markdown",
   "metadata": {},
   "source": [
    "## Timestamp column shows data and hour\n",
    "\n",
    "### Define\n",
    "\n",
    "It is not a good practice to show two pieces of information in the same cell, so it needs to be split in two: date and time.\n",
    "\n",
    "### Code"
   ]
  },
  {
   "cell_type": "code",
   "execution_count": 47,
   "metadata": {},
   "outputs": [],
   "source": [
    "#change timestamp\n",
    "t_archive_copy[[\"date\", \"time\", \"delete\"]] = t_archive_copy[\"timestamp\"].str.split(\" \", expand=True)\n",
    "t_archive_copy.drop([\"timestamp\", \"delete\"], axis=1, inplace=True)\n"
   ]
  },
  {
   "cell_type": "markdown",
   "metadata": {},
   "source": [
    "### Test"
   ]
  },
  {
   "cell_type": "code",
   "execution_count": 48,
   "metadata": {},
   "outputs": [
    {
     "name": "stdout",
     "output_type": "stream",
     "text": [
      "<class 'pandas.core.frame.DataFrame'>\n",
      "RangeIndex: 2356 entries, 0 to 2355\n",
      "Data columns (total 18 columns):\n",
      "tweet_id                      2356 non-null int64\n",
      "in_reply_to_status_id         78 non-null float64\n",
      "in_reply_to_user_id           78 non-null float64\n",
      "source                        2356 non-null object\n",
      "text                          2356 non-null object\n",
      "retweeted_status_id           181 non-null float64\n",
      "retweeted_status_user_id      181 non-null float64\n",
      "retweeted_status_timestamp    181 non-null object\n",
      "expanded_urls                 2297 non-null object\n",
      "rating_numerator              2356 non-null int64\n",
      "rating_denominator            2356 non-null int64\n",
      "name                          2356 non-null object\n",
      "doggo                         2356 non-null object\n",
      "floofer                       2356 non-null object\n",
      "pupper                        2356 non-null object\n",
      "puppo                         2356 non-null object\n",
      "date                          2356 non-null object\n",
      "time                          2356 non-null object\n",
      "dtypes: float64(4), int64(3), object(11)\n",
      "memory usage: 331.4+ KB\n"
     ]
    }
   ],
   "source": [
    "t_archive_copy.info()"
   ]
  },
  {
   "cell_type": "markdown",
   "metadata": {},
   "source": [
    "Ideally now I would address the second tidiness problem, which is that the type of dog is spread in four columns, but this particular problem is also affected by at least of the quality issues, which is that some rows show two different types of dogs. It may also be affected by replies and retweets present in the dataframe. Thus, I will fix the tidiness issue after I have cleaned the other problems. "
   ]
  },
  {
   "cell_type": "markdown",
   "metadata": {},
   "source": [
    "## The text column contains and URL\n",
    "\n",
    "### Define\n",
    "\n",
    "The text column contains also more than one piece of information. It has one or sometimes two shortened URLs. The first one is the URL of the tweet, and in some cases there is a second URL who refers to a differente website. I split this information in different columns."
   ]
  },
  {
   "cell_type": "markdown",
   "metadata": {},
   "source": [
    "### Code"
   ]
  },
  {
   "cell_type": "code",
   "execution_count": 49,
   "metadata": {},
   "outputs": [],
   "source": [
    "#split the URL from the rest of the text\n",
    "t_archive_copy[[\"text\", \"shortened_url\",\"shortened_url_2\"]] = t_archive_copy[\"text\"].str.split(\"https\", expand=True)\n",
    "\n",
    "#add the separator back to the second and third items\n",
    "for i, row in t_archive_copy.iterrows():\n",
    "    if t_archive_copy.loc[i, \"shortened_url\"] != None:\n",
    "        t_archive_copy.loc[i, \"shortened_url\"] = \"https\" + t_archive_copy.loc[i, \"shortened_url\"]\n",
    "    if t_archive_copy.loc[i, \"shortened_url_2\"] != None:\n",
    "        t_archive_copy.loc[i, \"shortened_url_2\"] = \"https\" + t_archive_copy.loc[i, \"shortened_url_2\"]\n"
   ]
  },
  {
   "cell_type": "markdown",
   "metadata": {},
   "source": [
    "### Test"
   ]
  },
  {
   "cell_type": "code",
   "execution_count": 52,
   "metadata": {},
   "outputs": [
    {
     "data": {
      "text/html": [
       "<div>\n",
       "<style scoped>\n",
       "    .dataframe tbody tr th:only-of-type {\n",
       "        vertical-align: middle;\n",
       "    }\n",
       "\n",
       "    .dataframe tbody tr th {\n",
       "        vertical-align: top;\n",
       "    }\n",
       "\n",
       "    .dataframe thead th {\n",
       "        text-align: right;\n",
       "    }\n",
       "</style>\n",
       "<table border=\"1\" class=\"dataframe\">\n",
       "  <thead>\n",
       "    <tr style=\"text-align: right;\">\n",
       "      <th></th>\n",
       "      <th>text</th>\n",
       "      <th>shortened_url</th>\n",
       "      <th>shortened_url_2</th>\n",
       "    </tr>\n",
       "  </thead>\n",
       "  <tbody>\n",
       "    <tr>\n",
       "      <th>0</th>\n",
       "      <td>This is Phineas. He's a mystical boy. Only eve...</td>\n",
       "      <td>https://t.co/MgUWQ76dJU</td>\n",
       "      <td>None</td>\n",
       "    </tr>\n",
       "    <tr>\n",
       "      <th>1</th>\n",
       "      <td>This is Tilly. She's just checking pup on you....</td>\n",
       "      <td>https://t.co/0Xxu71qeIV</td>\n",
       "      <td>None</td>\n",
       "    </tr>\n",
       "    <tr>\n",
       "      <th>2</th>\n",
       "      <td>This is Archie. He is a rare Norwegian Pouncin...</td>\n",
       "      <td>https://t.co/wUnZnhtVJB</td>\n",
       "      <td>None</td>\n",
       "    </tr>\n",
       "    <tr>\n",
       "      <th>3</th>\n",
       "      <td>This is Darla. She commenced a snooze mid meal...</td>\n",
       "      <td>https://t.co/tD36da7qLQ</td>\n",
       "      <td>None</td>\n",
       "    </tr>\n",
       "    <tr>\n",
       "      <th>4</th>\n",
       "      <td>This is Franklin. He would like you to stop ca...</td>\n",
       "      <td>https://t.co/AtUZn91f7f</td>\n",
       "      <td>None</td>\n",
       "    </tr>\n",
       "    <tr>\n",
       "      <th>5</th>\n",
       "      <td>Here we have a majestic great white breaching ...</td>\n",
       "      <td>https://t.co/kQ04fDDRmh</td>\n",
       "      <td>None</td>\n",
       "    </tr>\n",
       "    <tr>\n",
       "      <th>6</th>\n",
       "      <td>Meet Jax. He enjoys ice cream so much he gets ...</td>\n",
       "      <td>https://t.co/Zr4hWfAs1H</td>\n",
       "      <td>https://t.co/tVJBRMnhxl</td>\n",
       "    </tr>\n",
       "    <tr>\n",
       "      <th>7</th>\n",
       "      <td>When you watch your owner call another dog a g...</td>\n",
       "      <td>https://t.co/v0nONBcwxq</td>\n",
       "      <td>None</td>\n",
       "    </tr>\n",
       "    <tr>\n",
       "      <th>8</th>\n",
       "      <td>This is Zoey. She doesn't want to be one of th...</td>\n",
       "      <td>https://t.co/9TwLuAGH0b</td>\n",
       "      <td>None</td>\n",
       "    </tr>\n",
       "    <tr>\n",
       "      <th>9</th>\n",
       "      <td>This is Cassie. She is a college pup. Studying...</td>\n",
       "      <td>https://t.co/t1bfwz5S2A</td>\n",
       "      <td>None</td>\n",
       "    </tr>\n",
       "  </tbody>\n",
       "</table>\n",
       "</div>"
      ],
      "text/plain": [
       "                                                text  \\\n",
       "0  This is Phineas. He's a mystical boy. Only eve...   \n",
       "1  This is Tilly. She's just checking pup on you....   \n",
       "2  This is Archie. He is a rare Norwegian Pouncin...   \n",
       "3  This is Darla. She commenced a snooze mid meal...   \n",
       "4  This is Franklin. He would like you to stop ca...   \n",
       "5  Here we have a majestic great white breaching ...   \n",
       "6  Meet Jax. He enjoys ice cream so much he gets ...   \n",
       "7  When you watch your owner call another dog a g...   \n",
       "8  This is Zoey. She doesn't want to be one of th...   \n",
       "9  This is Cassie. She is a college pup. Studying...   \n",
       "\n",
       "              shortened_url          shortened_url_2  \n",
       "0   https://t.co/MgUWQ76dJU                     None  \n",
       "1   https://t.co/0Xxu71qeIV                     None  \n",
       "2   https://t.co/wUnZnhtVJB                     None  \n",
       "3   https://t.co/tD36da7qLQ                     None  \n",
       "4   https://t.co/AtUZn91f7f                     None  \n",
       "5   https://t.co/kQ04fDDRmh                     None  \n",
       "6  https://t.co/Zr4hWfAs1H   https://t.co/tVJBRMnhxl  \n",
       "7   https://t.co/v0nONBcwxq                     None  \n",
       "8   https://t.co/9TwLuAGH0b                     None  \n",
       "9   https://t.co/t1bfwz5S2A                     None  "
      ]
     },
     "execution_count": 52,
     "metadata": {},
     "output_type": "execute_result"
    }
   ],
   "source": [
    "\n",
    "t_archive_copy[[\"text\", \"shortened_url\", \"shortened_url_2\"]].head(10)"
   ]
  },
  {
   "cell_type": "markdown",
   "metadata": {},
   "source": [
    "## The data contains tweets that are replies\n",
    "\n",
    "### Define\n",
    "\n",
    "The tweets that are replies are not useful for the anlysis. I can easily identify them because there are two columns (\"in_reply_to_status_id\" and \"in_reply_to_user_id\") that are used specifically for replies. I delete all the rows that show a value in one of this columns."
   ]
  },
  {
   "cell_type": "markdown",
   "metadata": {},
   "source": [
    "### Define"
   ]
  },
  {
   "cell_type": "code",
   "execution_count": 53,
   "metadata": {},
   "outputs": [],
   "source": [
    "#eliminate replies\n",
    "t_archive_copy = t_archive_copy[t_archive_copy[\"in_reply_to_status_id\"].isnull()]\n"
   ]
  },
  {
   "cell_type": "markdown",
   "metadata": {},
   "source": [
    "### Test"
   ]
  },
  {
   "cell_type": "code",
   "execution_count": 54,
   "metadata": {},
   "outputs": [
    {
     "name": "stdout",
     "output_type": "stream",
     "text": [
      "<class 'pandas.core.frame.DataFrame'>\n",
      "Int64Index: 2278 entries, 0 to 2355\n",
      "Data columns (total 20 columns):\n",
      "tweet_id                      2278 non-null int64\n",
      "in_reply_to_status_id         0 non-null float64\n",
      "in_reply_to_user_id           0 non-null float64\n",
      "source                        2278 non-null object\n",
      "text                          2278 non-null object\n",
      "retweeted_status_id           181 non-null float64\n",
      "retweeted_status_user_id      181 non-null float64\n",
      "retweeted_status_timestamp    181 non-null object\n",
      "expanded_urls                 2274 non-null object\n",
      "rating_numerator              2278 non-null int64\n",
      "rating_denominator            2278 non-null int64\n",
      "name                          2278 non-null object\n",
      "doggo                         2278 non-null object\n",
      "floofer                       2278 non-null object\n",
      "pupper                        2278 non-null object\n",
      "puppo                         2278 non-null object\n",
      "date                          2278 non-null object\n",
      "time                          2278 non-null object\n",
      "shortened_url                 2263 non-null object\n",
      "shortened_url_2               29 non-null object\n",
      "dtypes: float64(4), int64(3), object(13)\n",
      "memory usage: 373.7+ KB\n"
     ]
    }
   ],
   "source": [
    "t_archive_copy.info()"
   ]
  },
  {
   "cell_type": "code",
   "execution_count": 55,
   "metadata": {},
   "outputs": [],
   "source": [
    "#Remove columns related to replies\n",
    "t_archive_copy.drop([\"in_reply_to_status_id\", \"in_reply_to_user_id\"], axis=1, inplace=True)"
   ]
  },
  {
   "cell_type": "markdown",
   "metadata": {},
   "source": [
    "## The data contains retweets\n",
    "\n",
    "### Define\n",
    "\n",
    "As it happen with the previous issue, some of the columns are specific for retweets, so I can use them to delete all the retweets. "
   ]
  },
  {
   "cell_type": "markdown",
   "metadata": {},
   "source": [
    "### Code"
   ]
  },
  {
   "cell_type": "code",
   "execution_count": 56,
   "metadata": {},
   "outputs": [],
   "source": [
    "#eliminate retweets\n",
    "t_archive_copy = t_archive_copy[t_archive_copy[\"retweeted_status_id\"].isnull()]\n"
   ]
  },
  {
   "cell_type": "markdown",
   "metadata": {},
   "source": [
    "### Test"
   ]
  },
  {
   "cell_type": "code",
   "execution_count": 57,
   "metadata": {},
   "outputs": [
    {
     "name": "stdout",
     "output_type": "stream",
     "text": [
      "<class 'pandas.core.frame.DataFrame'>\n",
      "Int64Index: 2097 entries, 0 to 2355\n",
      "Data columns (total 18 columns):\n",
      "tweet_id                      2097 non-null int64\n",
      "source                        2097 non-null object\n",
      "text                          2097 non-null object\n",
      "retweeted_status_id           0 non-null float64\n",
      "retweeted_status_user_id      0 non-null float64\n",
      "retweeted_status_timestamp    0 non-null object\n",
      "expanded_urls                 2094 non-null object\n",
      "rating_numerator              2097 non-null int64\n",
      "rating_denominator            2097 non-null int64\n",
      "name                          2097 non-null object\n",
      "doggo                         2097 non-null object\n",
      "floofer                       2097 non-null object\n",
      "pupper                        2097 non-null object\n",
      "puppo                         2097 non-null object\n",
      "date                          2097 non-null object\n",
      "time                          2097 non-null object\n",
      "shortened_url                 2094 non-null object\n",
      "shortened_url_2               28 non-null object\n",
      "dtypes: float64(2), int64(3), object(13)\n",
      "memory usage: 311.3+ KB\n"
     ]
    }
   ],
   "source": [
    "t_archive_copy.info()"
   ]
  },
  {
   "cell_type": "code",
   "execution_count": 58,
   "metadata": {},
   "outputs": [],
   "source": [
    "#remove columns related to retweets\n",
    "t_archive_copy.drop([\"retweeted_status_id\", \"retweeted_status_user_id\", \"retweeted_status_timestamp\"], axis=1, inplace=True)"
   ]
  },
  {
   "cell_type": "markdown",
   "metadata": {},
   "source": [
    "## Dogs identified in two different categories\n",
    "\n",
    "### Define\n",
    "\n",
    "There are some rows that have more than one type of dog. To identify them I am going to replace the current values (type of dog or \"None\") with a binary system where 1 means that this is the correct type of dog. Then I can add the values and find all the columns with more than one type of dog."
   ]
  },
  {
   "cell_type": "markdown",
   "metadata": {},
   "source": [
    "### Code"
   ]
  },
  {
   "cell_type": "code",
   "execution_count": 59,
   "metadata": {},
   "outputs": [
    {
     "name": "stdout",
     "output_type": "stream",
     "text": [
      "[0 1]\n",
      "[0 1]\n",
      "[0 1]\n",
      "[0 1]\n"
     ]
    }
   ],
   "source": [
    "t_archive_copy.doggo.replace([\"doggo\", \"None\"], [1, 0], inplace=True)\n",
    "t_archive_copy.floofer.replace([\"floofer\", \"None\"], [1, 0], inplace=True)\n",
    "t_archive_copy.pupper.replace([\"pupper\", \"None\"], [1, 0], inplace=True)\n",
    "t_archive_copy.puppo.replace([\"puppo\", \"None\"], [1, 0], inplace=True)\n",
    "#Check that all the values have been changed to 0 or 1\n",
    "print(t_archive_copy.doggo.unique())\n",
    "print(t_archive_copy.floofer.unique())\n",
    "print(t_archive_copy.pupper.unique())\n",
    "print(t_archive_copy.puppo.unique())"
   ]
  },
  {
   "cell_type": "code",
   "execution_count": 60,
   "metadata": {},
   "outputs": [
    {
     "data": {
      "text/html": [
       "<div>\n",
       "<style scoped>\n",
       "    .dataframe tbody tr th:only-of-type {\n",
       "        vertical-align: middle;\n",
       "    }\n",
       "\n",
       "    .dataframe tbody tr th {\n",
       "        vertical-align: top;\n",
       "    }\n",
       "\n",
       "    .dataframe thead th {\n",
       "        text-align: right;\n",
       "    }\n",
       "</style>\n",
       "<table border=\"1\" class=\"dataframe\">\n",
       "  <thead>\n",
       "    <tr style=\"text-align: right;\">\n",
       "      <th></th>\n",
       "      <th>tweet_id</th>\n",
       "      <th>source</th>\n",
       "      <th>text</th>\n",
       "      <th>expanded_urls</th>\n",
       "      <th>rating_numerator</th>\n",
       "      <th>rating_denominator</th>\n",
       "      <th>name</th>\n",
       "      <th>doggo</th>\n",
       "      <th>floofer</th>\n",
       "      <th>pupper</th>\n",
       "      <th>puppo</th>\n",
       "      <th>date</th>\n",
       "      <th>time</th>\n",
       "      <th>shortened_url</th>\n",
       "      <th>shortened_url_2</th>\n",
       "      <th>number_types</th>\n",
       "    </tr>\n",
       "  </thead>\n",
       "  <tbody>\n",
       "    <tr>\n",
       "      <th>191</th>\n",
       "      <td>855851453814013952</td>\n",
       "      <td>&lt;a href=\"http://twitter.com/download/iphone\" r...</td>\n",
       "      <td>Here's a puppo participating in the #ScienceMa...</td>\n",
       "      <td>https://twitter.com/dog_rates/status/855851453...</td>\n",
       "      <td>13</td>\n",
       "      <td>10</td>\n",
       "      <td>None</td>\n",
       "      <td>1</td>\n",
       "      <td>0</td>\n",
       "      <td>0</td>\n",
       "      <td>1</td>\n",
       "      <td>2017-04-22</td>\n",
       "      <td>18:31:02</td>\n",
       "      <td>https://t.co/cMhq16isel</td>\n",
       "      <td>None</td>\n",
       "      <td>2</td>\n",
       "    </tr>\n",
       "    <tr>\n",
       "      <th>200</th>\n",
       "      <td>854010172552949760</td>\n",
       "      <td>&lt;a href=\"http://twitter.com/download/iphone\" r...</td>\n",
       "      <td>At first I thought this was a shy doggo, but i...</td>\n",
       "      <td>https://twitter.com/dog_rates/status/854010172...</td>\n",
       "      <td>11</td>\n",
       "      <td>10</td>\n",
       "      <td>None</td>\n",
       "      <td>1</td>\n",
       "      <td>1</td>\n",
       "      <td>0</td>\n",
       "      <td>0</td>\n",
       "      <td>2017-04-17</td>\n",
       "      <td>16:34:26</td>\n",
       "      <td>https://t.co/TXdT3tmuYk</td>\n",
       "      <td>None</td>\n",
       "      <td>2</td>\n",
       "    </tr>\n",
       "    <tr>\n",
       "      <th>460</th>\n",
       "      <td>817777686764523521</td>\n",
       "      <td>&lt;a href=\"http://twitter.com/download/iphone\" r...</td>\n",
       "      <td>This is Dido. She's playing the lead role in \"...</td>\n",
       "      <td>https://twitter.com/dog_rates/status/817777686...</td>\n",
       "      <td>13</td>\n",
       "      <td>10</td>\n",
       "      <td>Dido</td>\n",
       "      <td>1</td>\n",
       "      <td>0</td>\n",
       "      <td>1</td>\n",
       "      <td>0</td>\n",
       "      <td>2017-01-07</td>\n",
       "      <td>16:59:28</td>\n",
       "      <td>https://t.co/m7isZrOBX7</td>\n",
       "      <td>None</td>\n",
       "      <td>2</td>\n",
       "    </tr>\n",
       "    <tr>\n",
       "      <th>531</th>\n",
       "      <td>808106460588765185</td>\n",
       "      <td>&lt;a href=\"http://twitter.com/download/iphone\" r...</td>\n",
       "      <td>Here we have Burke (pupper) and Dexter (doggo)...</td>\n",
       "      <td>https://twitter.com/dog_rates/status/808106460...</td>\n",
       "      <td>12</td>\n",
       "      <td>10</td>\n",
       "      <td>None</td>\n",
       "      <td>1</td>\n",
       "      <td>0</td>\n",
       "      <td>1</td>\n",
       "      <td>0</td>\n",
       "      <td>2016-12-12</td>\n",
       "      <td>00:29:28</td>\n",
       "      <td>https://t.co/ANBpEYHaho</td>\n",
       "      <td>None</td>\n",
       "      <td>2</td>\n",
       "    </tr>\n",
       "    <tr>\n",
       "      <th>575</th>\n",
       "      <td>801115127852503040</td>\n",
       "      <td>&lt;a href=\"http://twitter.com/download/iphone\" r...</td>\n",
       "      <td>This is Bones. He's being haunted by another d...</td>\n",
       "      <td>https://twitter.com/dog_rates/status/801115127...</td>\n",
       "      <td>12</td>\n",
       "      <td>10</td>\n",
       "      <td>Bones</td>\n",
       "      <td>1</td>\n",
       "      <td>0</td>\n",
       "      <td>1</td>\n",
       "      <td>0</td>\n",
       "      <td>2016-11-22</td>\n",
       "      <td>17:28:25</td>\n",
       "      <td>https://t.co/55Dqe0SJNj</td>\n",
       "      <td>None</td>\n",
       "      <td>2</td>\n",
       "    </tr>\n",
       "    <tr>\n",
       "      <th>705</th>\n",
       "      <td>785639753186217984</td>\n",
       "      <td>&lt;a href=\"http://twitter.com/download/iphone\" r...</td>\n",
       "      <td>This is Pinot. He's a sophisticated doggo. You...</td>\n",
       "      <td>https://twitter.com/dog_rates/status/785639753...</td>\n",
       "      <td>10</td>\n",
       "      <td>10</td>\n",
       "      <td>Pinot</td>\n",
       "      <td>1</td>\n",
       "      <td>0</td>\n",
       "      <td>1</td>\n",
       "      <td>0</td>\n",
       "      <td>2016-10-11</td>\n",
       "      <td>00:34:48</td>\n",
       "      <td>https://t.co/f2wmLZTPHd</td>\n",
       "      <td>None</td>\n",
       "      <td>2</td>\n",
       "    </tr>\n",
       "    <tr>\n",
       "      <th>733</th>\n",
       "      <td>781308096455073793</td>\n",
       "      <td>&lt;a href=\"http://vine.co\" rel=\"nofollow\"&gt;Vine -...</td>\n",
       "      <td>Pupper butt 1, Doggo 0. Both 12/10</td>\n",
       "      <td>https://vine.co/v/5rgu2Law2ut</td>\n",
       "      <td>12</td>\n",
       "      <td>10</td>\n",
       "      <td>None</td>\n",
       "      <td>1</td>\n",
       "      <td>0</td>\n",
       "      <td>1</td>\n",
       "      <td>0</td>\n",
       "      <td>2016-09-29</td>\n",
       "      <td>01:42:20</td>\n",
       "      <td>https://t.co/WQvcPEpH2u</td>\n",
       "      <td>None</td>\n",
       "      <td>2</td>\n",
       "    </tr>\n",
       "    <tr>\n",
       "      <th>889</th>\n",
       "      <td>759793422261743616</td>\n",
       "      <td>&lt;a href=\"http://twitter.com/download/iphone\" r...</td>\n",
       "      <td>Meet Maggie &amp;amp; Lila. Maggie is the doggo, L...</td>\n",
       "      <td>https://twitter.com/dog_rates/status/759793422...</td>\n",
       "      <td>12</td>\n",
       "      <td>10</td>\n",
       "      <td>Maggie</td>\n",
       "      <td>1</td>\n",
       "      <td>0</td>\n",
       "      <td>1</td>\n",
       "      <td>0</td>\n",
       "      <td>2016-07-31</td>\n",
       "      <td>16:50:42</td>\n",
       "      <td>https://t.co/MYwR4DQKll</td>\n",
       "      <td>None</td>\n",
       "      <td>2</td>\n",
       "    </tr>\n",
       "    <tr>\n",
       "      <th>956</th>\n",
       "      <td>751583847268179968</td>\n",
       "      <td>&lt;a href=\"http://twitter.com/download/iphone\" r...</td>\n",
       "      <td>Please stop sending it pictures that don't eve...</td>\n",
       "      <td>https://twitter.com/dog_rates/status/751583847...</td>\n",
       "      <td>5</td>\n",
       "      <td>10</td>\n",
       "      <td>None</td>\n",
       "      <td>1</td>\n",
       "      <td>0</td>\n",
       "      <td>1</td>\n",
       "      <td>0</td>\n",
       "      <td>2016-07-09</td>\n",
       "      <td>01:08:47</td>\n",
       "      <td>https://t.co/u2c9c7qSg8</td>\n",
       "      <td>None</td>\n",
       "      <td>2</td>\n",
       "    </tr>\n",
       "    <tr>\n",
       "      <th>1063</th>\n",
       "      <td>741067306818797568</td>\n",
       "      <td>&lt;a href=\"http://twitter.com/download/iphone\" r...</td>\n",
       "      <td>This is just downright precious af. 12/10 for ...</td>\n",
       "      <td>https://twitter.com/dog_rates/status/741067306...</td>\n",
       "      <td>12</td>\n",
       "      <td>10</td>\n",
       "      <td>just</td>\n",
       "      <td>1</td>\n",
       "      <td>0</td>\n",
       "      <td>1</td>\n",
       "      <td>0</td>\n",
       "      <td>2016-06-10</td>\n",
       "      <td>00:39:48</td>\n",
       "      <td>https://t.co/o5J479bZUC</td>\n",
       "      <td>None</td>\n",
       "      <td>2</td>\n",
       "    </tr>\n",
       "    <tr>\n",
       "      <th>1113</th>\n",
       "      <td>733109485275860992</td>\n",
       "      <td>&lt;a href=\"http://twitter.com/download/iphone\" r...</td>\n",
       "      <td>Like father (doggo), like son (pupper). Both 1...</td>\n",
       "      <td>https://twitter.com/dog_rates/status/733109485...</td>\n",
       "      <td>12</td>\n",
       "      <td>10</td>\n",
       "      <td>None</td>\n",
       "      <td>1</td>\n",
       "      <td>0</td>\n",
       "      <td>1</td>\n",
       "      <td>0</td>\n",
       "      <td>2016-05-19</td>\n",
       "      <td>01:38:16</td>\n",
       "      <td>https://t.co/pG2inLaOda</td>\n",
       "      <td>None</td>\n",
       "      <td>2</td>\n",
       "    </tr>\n",
       "  </tbody>\n",
       "</table>\n",
       "</div>"
      ],
      "text/plain": [
       "                tweet_id                                             source  \\\n",
       "191   855851453814013952  <a href=\"http://twitter.com/download/iphone\" r...   \n",
       "200   854010172552949760  <a href=\"http://twitter.com/download/iphone\" r...   \n",
       "460   817777686764523521  <a href=\"http://twitter.com/download/iphone\" r...   \n",
       "531   808106460588765185  <a href=\"http://twitter.com/download/iphone\" r...   \n",
       "575   801115127852503040  <a href=\"http://twitter.com/download/iphone\" r...   \n",
       "705   785639753186217984  <a href=\"http://twitter.com/download/iphone\" r...   \n",
       "733   781308096455073793  <a href=\"http://vine.co\" rel=\"nofollow\">Vine -...   \n",
       "889   759793422261743616  <a href=\"http://twitter.com/download/iphone\" r...   \n",
       "956   751583847268179968  <a href=\"http://twitter.com/download/iphone\" r...   \n",
       "1063  741067306818797568  <a href=\"http://twitter.com/download/iphone\" r...   \n",
       "1113  733109485275860992  <a href=\"http://twitter.com/download/iphone\" r...   \n",
       "\n",
       "                                                   text  \\\n",
       "191   Here's a puppo participating in the #ScienceMa...   \n",
       "200   At first I thought this was a shy doggo, but i...   \n",
       "460   This is Dido. She's playing the lead role in \"...   \n",
       "531   Here we have Burke (pupper) and Dexter (doggo)...   \n",
       "575   This is Bones. He's being haunted by another d...   \n",
       "705   This is Pinot. He's a sophisticated doggo. You...   \n",
       "733                 Pupper butt 1, Doggo 0. Both 12/10    \n",
       "889   Meet Maggie &amp; Lila. Maggie is the doggo, L...   \n",
       "956   Please stop sending it pictures that don't eve...   \n",
       "1063  This is just downright precious af. 12/10 for ...   \n",
       "1113  Like father (doggo), like son (pupper). Both 1...   \n",
       "\n",
       "                                          expanded_urls  rating_numerator  \\\n",
       "191   https://twitter.com/dog_rates/status/855851453...                13   \n",
       "200   https://twitter.com/dog_rates/status/854010172...                11   \n",
       "460   https://twitter.com/dog_rates/status/817777686...                13   \n",
       "531   https://twitter.com/dog_rates/status/808106460...                12   \n",
       "575   https://twitter.com/dog_rates/status/801115127...                12   \n",
       "705   https://twitter.com/dog_rates/status/785639753...                10   \n",
       "733                       https://vine.co/v/5rgu2Law2ut                12   \n",
       "889   https://twitter.com/dog_rates/status/759793422...                12   \n",
       "956   https://twitter.com/dog_rates/status/751583847...                 5   \n",
       "1063  https://twitter.com/dog_rates/status/741067306...                12   \n",
       "1113  https://twitter.com/dog_rates/status/733109485...                12   \n",
       "\n",
       "      rating_denominator    name  doggo  floofer  pupper  puppo        date  \\\n",
       "191                   10    None      1        0       0      1  2017-04-22   \n",
       "200                   10    None      1        1       0      0  2017-04-17   \n",
       "460                   10    Dido      1        0       1      0  2017-01-07   \n",
       "531                   10    None      1        0       1      0  2016-12-12   \n",
       "575                   10   Bones      1        0       1      0  2016-11-22   \n",
       "705                   10   Pinot      1        0       1      0  2016-10-11   \n",
       "733                   10    None      1        0       1      0  2016-09-29   \n",
       "889                   10  Maggie      1        0       1      0  2016-07-31   \n",
       "956                   10    None      1        0       1      0  2016-07-09   \n",
       "1063                  10    just      1        0       1      0  2016-06-10   \n",
       "1113                  10    None      1        0       1      0  2016-05-19   \n",
       "\n",
       "          time            shortened_url shortened_url_2  number_types  \n",
       "191   18:31:02  https://t.co/cMhq16isel            None             2  \n",
       "200   16:34:26  https://t.co/TXdT3tmuYk            None             2  \n",
       "460   16:59:28  https://t.co/m7isZrOBX7            None             2  \n",
       "531   00:29:28  https://t.co/ANBpEYHaho            None             2  \n",
       "575   17:28:25  https://t.co/55Dqe0SJNj            None             2  \n",
       "705   00:34:48  https://t.co/f2wmLZTPHd            None             2  \n",
       "733   01:42:20  https://t.co/WQvcPEpH2u            None             2  \n",
       "889   16:50:42  https://t.co/MYwR4DQKll            None             2  \n",
       "956   01:08:47  https://t.co/u2c9c7qSg8            None             2  \n",
       "1063  00:39:48  https://t.co/o5J479bZUC            None             2  \n",
       "1113  01:38:16  https://t.co/pG2inLaOda            None             2  "
      ]
     },
     "execution_count": 60,
     "metadata": {},
     "output_type": "execute_result"
    }
   ],
   "source": [
    "#Find the columns with more than one type of dog\n",
    "t_archive_copy['number_types'] = t_archive_copy['doggo'] + t_archive_copy['floofer'] + t_archive_copy[\"pupper\"] + t_archive_copy[\"puppo\"]\n",
    "t_archive_copy[t_archive_copy.number_types > 1]\n"
   ]
  },
  {
   "cell_type": "markdown",
   "metadata": {},
   "source": [
    "There are 11 instances where I have found this problem. Sometimes the reason is that two different types of dogs are mentioned in the text, althugh only one refers to the actual dog of the tweet, and sometimes there are two dogs in the picture. I have fixed this problem manually. When there are more than one dog I have removed both types from the data, as there are not many instances of this and this information could interfere with future analysis."
   ]
  },
  {
   "cell_type": "code",
   "execution_count": 61,
   "metadata": {},
   "outputs": [],
   "source": [
    "t_archive_copy.loc[191,\"doggo\"] = 0\n",
    "t_archive_copy.loc[200, \"doggo\"] = 0\n",
    "t_archive_copy.loc[460, \"doggo\"] = 0\n",
    "t_archive_copy.loc[531, \"doggo\"] = 0\n",
    "t_archive_copy.loc[531, \"pupper\"] = 0\n",
    "t_archive_copy.loc[575, \"doggo\"] = 0\n",
    "t_archive_copy.loc[705, \"pupper\"] = 0\n",
    "t_archive_copy.loc[733, \"pupper\"] = 0\n",
    "t_archive_copy.loc[733, \"doggo\"] = 0\n",
    "t_archive_copy.loc[889, \"pupper\"] = 0\n",
    "t_archive_copy.loc[889, \"doggo\"] = 0\n",
    "t_archive_copy.loc[956, \"pupper\"] = 0\n",
    "t_archive_copy.loc[956, \"doggo\"] = 0\n",
    "t_archive_copy.loc[1063, \"pupper\"] = 0\n",
    "t_archive_copy.loc[1063, \"doggo\"] = 0\n",
    "t_archive_copy.loc[1113, \"pupper\"] = 0\n",
    "t_archive_copy.loc[1113, \"doggo\"] = 0"
   ]
  },
  {
   "cell_type": "markdown",
   "metadata": {},
   "source": [
    "### Test"
   ]
  },
  {
   "cell_type": "code",
   "execution_count": 62,
   "metadata": {},
   "outputs": [
    {
     "data": {
      "text/html": [
       "<div>\n",
       "<style scoped>\n",
       "    .dataframe tbody tr th:only-of-type {\n",
       "        vertical-align: middle;\n",
       "    }\n",
       "\n",
       "    .dataframe tbody tr th {\n",
       "        vertical-align: top;\n",
       "    }\n",
       "\n",
       "    .dataframe thead th {\n",
       "        text-align: right;\n",
       "    }\n",
       "</style>\n",
       "<table border=\"1\" class=\"dataframe\">\n",
       "  <thead>\n",
       "    <tr style=\"text-align: right;\">\n",
       "      <th></th>\n",
       "      <th>tweet_id</th>\n",
       "      <th>source</th>\n",
       "      <th>text</th>\n",
       "      <th>expanded_urls</th>\n",
       "      <th>rating_numerator</th>\n",
       "      <th>rating_denominator</th>\n",
       "      <th>name</th>\n",
       "      <th>doggo</th>\n",
       "      <th>floofer</th>\n",
       "      <th>pupper</th>\n",
       "      <th>puppo</th>\n",
       "      <th>date</th>\n",
       "      <th>time</th>\n",
       "      <th>shortened_url</th>\n",
       "      <th>shortened_url_2</th>\n",
       "      <th>number_types</th>\n",
       "    </tr>\n",
       "  </thead>\n",
       "  <tbody>\n",
       "  </tbody>\n",
       "</table>\n",
       "</div>"
      ],
      "text/plain": [
       "Empty DataFrame\n",
       "Columns: [tweet_id, source, text, expanded_urls, rating_numerator, rating_denominator, name, doggo, floofer, pupper, puppo, date, time, shortened_url, shortened_url_2, number_types]\n",
       "Index: []"
      ]
     },
     "execution_count": 62,
     "metadata": {},
     "output_type": "execute_result"
    }
   ],
   "source": [
    "#Check that the problem is fixed\n",
    "t_archive_copy['number_types'] = t_archive_copy['doggo'] + t_archive_copy['floofer'] + t_archive_copy[\"pupper\"] + t_archive_copy[\"puppo\"]\n",
    "t_archive_copy[t_archive_copy.number_types > 1]"
   ]
  },
  {
   "cell_type": "markdown",
   "metadata": {},
   "source": [
    "## Type of dog could be just one column\n",
    "\n",
    "### Define\n",
    "\n",
    "Now that I am sure that no row has more than one type of dog, I can create a new column and store in it the information for the type of dog for each row."
   ]
  },
  {
   "cell_type": "markdown",
   "metadata": {},
   "source": [
    "### Code"
   ]
  },
  {
   "cell_type": "code",
   "execution_count": 63,
   "metadata": {},
   "outputs": [],
   "source": [
    "dog_types = t_archive_copy[[\"doggo\", \"floofer\", \"pupper\", \"puppo\"]]\n",
    "type = []\n",
    "#Check if there is one type of dog in the row, then store it in list\n",
    "for i, row in dog_types.iterrows():\n",
    "    if dog_types.loc[i, ].sum() == 0:\n",
    "        type.append(None)\n",
    "    else:\n",
    "        type.append(dog_types.loc[i,].idxmax(axis=1))\n",
    "#Make a new column from the list with the stored values       \n",
    "t_archive_copy[\"type\"] = type\n"
   ]
  },
  {
   "cell_type": "markdown",
   "metadata": {},
   "source": [
    "### Test"
   ]
  },
  {
   "cell_type": "code",
   "execution_count": 64,
   "metadata": {},
   "outputs": [
    {
     "data": {
      "text/plain": [
       "0      None\n",
       "1      None\n",
       "2      None\n",
       "3      None\n",
       "4      None\n",
       "5      None\n",
       "6      None\n",
       "7      None\n",
       "8      None\n",
       "9     doggo\n",
       "10     None\n",
       "11     None\n",
       "12    puppo\n",
       "13     None\n",
       "14    puppo\n",
       "15     None\n",
       "16     None\n",
       "17     None\n",
       "18     None\n",
       "20     None\n",
       "Name: type, dtype: object"
      ]
     },
     "execution_count": 64,
     "metadata": {},
     "output_type": "execute_result"
    }
   ],
   "source": [
    "t_archive_copy[\"type\"].head(20)"
   ]
  },
  {
   "cell_type": "markdown",
   "metadata": {},
   "source": [
    "Now I can remove all the columns I no longer need."
   ]
  },
  {
   "cell_type": "code",
   "execution_count": 65,
   "metadata": {},
   "outputs": [],
   "source": [
    "t_archive_copy.drop([\"doggo\", \"floofer\", \"pupper\", \"puppo\", \"number_types\"], axis=1, inplace=True)\n"
   ]
  },
  {
   "cell_type": "markdown",
   "metadata": {},
   "source": [
    "## Source column has extra unuseful info\n",
    "\n",
    "### Define\n",
    "\n",
    "The column Source have some characters that provide no information. "
   ]
  },
  {
   "cell_type": "markdown",
   "metadata": {},
   "source": [
    "### Code"
   ]
  },
  {
   "cell_type": "code",
   "execution_count": 66,
   "metadata": {},
   "outputs": [
    {
     "data": {
      "text/plain": [
       "array([ '<a href=\"http://twitter.com/download/iphone\" rel=\"nofollow\">Twitter for iPhone</a>',\n",
       "       '<a href=\"http://twitter.com\" rel=\"nofollow\">Twitter Web Client</a>',\n",
       "       '<a href=\"http://vine.co\" rel=\"nofollow\">Vine - Make a Scene</a>',\n",
       "       '<a href=\"https://about.twitter.com/products/tweetdeck\" rel=\"nofollow\">TweetDeck</a>'], dtype=object)"
      ]
     },
     "execution_count": 66,
     "metadata": {},
     "output_type": "execute_result"
    }
   ],
   "source": [
    "#Check all the unique values in the column source\n",
    "t_archive_copy[\"source\"].unique()"
   ]
  },
  {
   "cell_type": "markdown",
   "metadata": {},
   "source": [
    "The information I want to delete is between the \"<\" and \">\" symbols, and the importante text is always in the same position, so I can split the string and keep the part I want:"
   ]
  },
  {
   "cell_type": "code",
   "execution_count": 67,
   "metadata": {},
   "outputs": [],
   "source": [
    "#Make both symbols equal, split by it and keep the important part.\n",
    "t_archive_copy[\"source\"] = t_archive_copy[\"source\"].str.replace(\"<\", \">\").str.split(\">\").str[2]"
   ]
  },
  {
   "cell_type": "markdown",
   "metadata": {},
   "source": [
    "### Test"
   ]
  },
  {
   "cell_type": "code",
   "execution_count": 68,
   "metadata": {},
   "outputs": [
    {
     "data": {
      "text/plain": [
       "0    Twitter for iPhone\n",
       "1    Twitter for iPhone\n",
       "2    Twitter for iPhone\n",
       "3    Twitter for iPhone\n",
       "4    Twitter for iPhone\n",
       "Name: source, dtype: object"
      ]
     },
     "execution_count": 68,
     "metadata": {},
     "output_type": "execute_result"
    }
   ],
   "source": [
    "t_archive_copy[\"source\"].head()"
   ]
  },
  {
   "cell_type": "markdown",
   "metadata": {},
   "source": [
    "# Common nouns identified as names\n",
    "\n",
    "\n",
    "### Define\n",
    "\n",
    "There are some common words in the \"name\" column. I will remove them by keeping only the values that start with a capital letter."
   ]
  },
  {
   "cell_type": "markdown",
   "metadata": {},
   "source": [
    "### Code"
   ]
  },
  {
   "cell_type": "code",
   "execution_count": 69,
   "metadata": {},
   "outputs": [],
   "source": [
    "#Remove values starting with a lower letter\n",
    "for i, row in t_archive_copy.iterrows():\n",
    "    if t_archive_copy.loc[i, \"name\"][0].islower():\n",
    "        t_archive_copy.loc[i, \"name\"] = None\n",
    "\n"
   ]
  },
  {
   "cell_type": "markdown",
   "metadata": {},
   "source": [
    "### Test"
   ]
  },
  {
   "cell_type": "code",
   "execution_count": 70,
   "metadata": {},
   "outputs": [
    {
     "data": {
      "text/plain": [
       "0        Phineas\n",
       "1          Tilly\n",
       "2         Archie\n",
       "3          Darla\n",
       "4       Franklin\n",
       "5           None\n",
       "6            Jax\n",
       "7           None\n",
       "8           Zoey\n",
       "9         Cassie\n",
       "10          Koda\n",
       "11         Bruno\n",
       "12          None\n",
       "13           Ted\n",
       "14        Stuart\n",
       "15        Oliver\n",
       "16           Jim\n",
       "17          Zeke\n",
       "18       Ralphus\n",
       "20        Gerald\n",
       "21       Jeffrey\n",
       "22          None\n",
       "23        Canela\n",
       "24          None\n",
       "25          None\n",
       "26          Maya\n",
       "27        Mingus\n",
       "28         Derek\n",
       "29        Roscoe\n",
       "31       Waffles\n",
       "          ...   \n",
       "2326        None\n",
       "2327        None\n",
       "2328        None\n",
       "2329        None\n",
       "2330        None\n",
       "2331        None\n",
       "2332        None\n",
       "2333        None\n",
       "2334        None\n",
       "2335        None\n",
       "2336        None\n",
       "2337        None\n",
       "2338        None\n",
       "2339        None\n",
       "2340        None\n",
       "2341        None\n",
       "2342        None\n",
       "2343        None\n",
       "2344        None\n",
       "2345        None\n",
       "2346        None\n",
       "2347        None\n",
       "2348        None\n",
       "2349        None\n",
       "2350        None\n",
       "2351        None\n",
       "2352        None\n",
       "2353        None\n",
       "2354        None\n",
       "2355        None\n",
       "Name: name, Length: 2097, dtype: object"
      ]
     },
     "execution_count": 70,
     "metadata": {},
     "output_type": "execute_result"
    }
   ],
   "source": [
    "t_archive_copy.name"
   ]
  },
  {
   "cell_type": "markdown",
   "metadata": {},
   "source": [
    "## Pictures not showing dogs in image prediction file\n",
    "\n",
    "### Define\n",
    "\n",
    "Some of the images in the im_pred file do not correspond to dogs. I am going to use the result from the prediction to delete these rows, keeping only the rows that can identify a dog in one of the 3 first predictions."
   ]
  },
  {
   "cell_type": "code",
   "execution_count": 71,
   "metadata": {},
   "outputs": [],
   "source": [
    "im_pred_copy = im_pred_copy[(im_pred_copy.p1_dog == True) | (im_pred_copy.p2_dog == True) | (im_pred_copy.p3_dog == True)]"
   ]
  },
  {
   "cell_type": "markdown",
   "metadata": {},
   "source": [
    "### Test"
   ]
  },
  {
   "cell_type": "code",
   "execution_count": 72,
   "metadata": {},
   "outputs": [
    {
     "data": {
      "text/html": [
       "<div>\n",
       "<style scoped>\n",
       "    .dataframe tbody tr th:only-of-type {\n",
       "        vertical-align: middle;\n",
       "    }\n",
       "\n",
       "    .dataframe tbody tr th {\n",
       "        vertical-align: top;\n",
       "    }\n",
       "\n",
       "    .dataframe thead th {\n",
       "        text-align: right;\n",
       "    }\n",
       "</style>\n",
       "<table border=\"1\" class=\"dataframe\">\n",
       "  <thead>\n",
       "    <tr style=\"text-align: right;\">\n",
       "      <th></th>\n",
       "      <th>tweet_id</th>\n",
       "      <th>jpg_url</th>\n",
       "      <th>img_num</th>\n",
       "      <th>p1</th>\n",
       "      <th>p1_conf</th>\n",
       "      <th>p1_dog</th>\n",
       "      <th>p2</th>\n",
       "      <th>p2_conf</th>\n",
       "      <th>p2_dog</th>\n",
       "      <th>p3</th>\n",
       "      <th>p3_conf</th>\n",
       "      <th>p3_dog</th>\n",
       "    </tr>\n",
       "  </thead>\n",
       "  <tbody>\n",
       "  </tbody>\n",
       "</table>\n",
       "</div>"
      ],
      "text/plain": [
       "Empty DataFrame\n",
       "Columns: [tweet_id, jpg_url, img_num, p1, p1_conf, p1_dog, p2, p2_conf, p2_dog, p3, p3_conf, p3_dog]\n",
       "Index: []"
      ]
     },
     "execution_count": 72,
     "metadata": {},
     "output_type": "execute_result"
    }
   ],
   "source": [
    "im_pred_copy[(im_pred_copy.p1_dog == False) & (im_pred_copy.p2_dog == False) &(im_pred_copy.p3_dog == False)]"
   ]
  },
  {
   "cell_type": "markdown",
   "metadata": {},
   "source": [
    "## Missing elements in expanded URLs\n",
    "\n",
    "### Define\n",
    "\n",
    "During the asses I saw that some rows were lacking the expanded URL. I check again to see if the previous modifications have affected these rows or they are still in the dataframe."
   ]
  },
  {
   "cell_type": "code",
   "execution_count": 73,
   "metadata": {},
   "outputs": [
    {
     "name": "stdout",
     "output_type": "stream",
     "text": [
      "<class 'pandas.core.frame.DataFrame'>\n",
      "Int64Index: 2097 entries, 0 to 2355\n",
      "Data columns (total 12 columns):\n",
      "tweet_id              2097 non-null int64\n",
      "source                2097 non-null object\n",
      "text                  2097 non-null object\n",
      "expanded_urls         2094 non-null object\n",
      "rating_numerator      2097 non-null int64\n",
      "rating_denominator    2097 non-null int64\n",
      "name                  1993 non-null object\n",
      "date                  2097 non-null object\n",
      "time                  2097 non-null object\n",
      "shortened_url         2094 non-null object\n",
      "shortened_url_2       28 non-null object\n",
      "type                  330 non-null object\n",
      "dtypes: int64(3), object(9)\n",
      "memory usage: 293.0+ KB\n"
     ]
    }
   ],
   "source": [
    "t_archive_copy.info()"
   ]
  },
  {
   "cell_type": "markdown",
   "metadata": {},
   "source": [
    "There are still 3 rows which lack the expanded URL. There are also 3 rows which lack the shortened URL. "
   ]
  },
  {
   "cell_type": "markdown",
   "metadata": {},
   "source": [
    "### Code"
   ]
  },
  {
   "cell_type": "markdown",
   "metadata": {},
   "source": [
    "First I check if these three rows are the same."
   ]
  },
  {
   "cell_type": "code",
   "execution_count": 74,
   "metadata": {},
   "outputs": [
    {
     "name": "stdout",
     "output_type": "stream",
     "text": [
      "375     None\n",
      "707     None\n",
      "1445    None\n",
      "Name: name, dtype: object\n",
      "375     None\n",
      "707     None\n",
      "1445    None\n",
      "Name: name, dtype: object\n"
     ]
    }
   ],
   "source": [
    "print(t_archive_copy.name[t_archive_copy.expanded_urls.isna()])\n",
    "print(t_archive_copy.name[t_archive_copy.shortened_url.isna()])"
   ]
  },
  {
   "cell_type": "markdown",
   "metadata": {},
   "source": [
    "They are indeed the same and it is weird they all lack the name. I have checked them manually and I have seen that the first one looks like a proper one, the reason it lacks the name it that there are actually 2 names in the text. I don't think the other two are legit dog ratings, so I have removed them."
   ]
  },
  {
   "cell_type": "code",
   "execution_count": 75,
   "metadata": {},
   "outputs": [],
   "source": [
    "t_archive_copy.drop([707,1445], axis=\"index\",inplace=True)\n"
   ]
  },
  {
   "cell_type": "markdown",
   "metadata": {},
   "source": [
    "### Test"
   ]
  },
  {
   "cell_type": "code",
   "execution_count": 76,
   "metadata": {},
   "outputs": [
    {
     "data": {
      "text/html": [
       "<div>\n",
       "<style scoped>\n",
       "    .dataframe tbody tr th:only-of-type {\n",
       "        vertical-align: middle;\n",
       "    }\n",
       "\n",
       "    .dataframe tbody tr th {\n",
       "        vertical-align: top;\n",
       "    }\n",
       "\n",
       "    .dataframe thead th {\n",
       "        text-align: right;\n",
       "    }\n",
       "</style>\n",
       "<table border=\"1\" class=\"dataframe\">\n",
       "  <thead>\n",
       "    <tr style=\"text-align: right;\">\n",
       "      <th></th>\n",
       "      <th>tweet_id</th>\n",
       "      <th>source</th>\n",
       "      <th>text</th>\n",
       "      <th>expanded_urls</th>\n",
       "      <th>rating_numerator</th>\n",
       "      <th>rating_denominator</th>\n",
       "      <th>name</th>\n",
       "      <th>date</th>\n",
       "      <th>time</th>\n",
       "      <th>shortened_url</th>\n",
       "      <th>shortened_url_2</th>\n",
       "      <th>type</th>\n",
       "    </tr>\n",
       "  </thead>\n",
       "  <tbody>\n",
       "    <tr>\n",
       "      <th>375</th>\n",
       "      <td>828361771580813312</td>\n",
       "      <td>Twitter Web Client</td>\n",
       "      <td>Beebop and Doobert should start a band 12/10 w...</td>\n",
       "      <td>NaN</td>\n",
       "      <td>12</td>\n",
       "      <td>10</td>\n",
       "      <td>None</td>\n",
       "      <td>2017-02-05</td>\n",
       "      <td>21:56:51</td>\n",
       "      <td>None</td>\n",
       "      <td>None</td>\n",
       "      <td>None</td>\n",
       "    </tr>\n",
       "  </tbody>\n",
       "</table>\n",
       "</div>"
      ],
      "text/plain": [
       "               tweet_id              source  \\\n",
       "375  828361771580813312  Twitter Web Client   \n",
       "\n",
       "                                                  text expanded_urls  \\\n",
       "375  Beebop and Doobert should start a band 12/10 w...           NaN   \n",
       "\n",
       "     rating_numerator  rating_denominator  name        date      time  \\\n",
       "375                12                  10  None  2017-02-05  21:56:51   \n",
       "\n",
       "    shortened_url shortened_url_2  type  \n",
       "375          None            None  None  "
      ]
     },
     "execution_count": 76,
     "metadata": {},
     "output_type": "execute_result"
    }
   ],
   "source": [
    "t_archive_copy[t_archive_copy.expanded_urls.isna()]"
   ]
  },
  {
   "cell_type": "markdown",
   "metadata": {},
   "source": [
    "## Wrong denominator rating\n",
    "\n",
    "### Define\n",
    "\n",
    "We know that the \"rating_denominator\" column should be 10 in all the cases, so it is easy to check how many rows have a problem with this column."
   ]
  },
  {
   "cell_type": "markdown",
   "metadata": {},
   "source": [
    "### Code"
   ]
  },
  {
   "cell_type": "code",
   "execution_count": 77,
   "metadata": {},
   "outputs": [
    {
     "data": {
      "text/plain": [
       "17"
      ]
     },
     "execution_count": 77,
     "metadata": {},
     "output_type": "execute_result"
    }
   ],
   "source": [
    "t_archive_copy[t_archive_copy[\"rating_denominator\"] != 10].shape[0]"
   ]
  },
  {
   "cell_type": "markdown",
   "metadata": {},
   "source": [
    "The only way to see the problem is to check these columns manually. I have seen that in some cases there are several dogs, so they use an aggregated score. In other cases the problems was that in the text there was another instance of \"n/n\" (n means any number), that was misstaken as the rating. \n",
    "If we would want to analyze the rating of the dogs, having aggregated ratings would be a problem, so I have eliminated these. I have also manually inputed the cases where the right rating was missidentified. "
   ]
  },
  {
   "cell_type": "code",
   "execution_count": 78,
   "metadata": {},
   "outputs": [],
   "source": [
    "t_archive_copy.loc[433,[\"rating_numerator\",\"rating_denominator\"]] = None\n",
    "t_archive_copy.loc[516,[\"rating_numerator\",\"rating_denominator\"]] = None\n",
    "t_archive_copy.loc[902,[\"rating_numerator\",\"rating_denominator\"]] = None\n",
    "t_archive_copy.loc[1068,[\"rating_numerator\",\"rating_denominator\"]] = [14,10]\n",
    "t_archive_copy.loc[1120,[\"rating_numerator\",\"rating_denominator\"]] = None\n",
    "t_archive_copy.loc[1165,[\"rating_numerator\",\"rating_denominator\"]] = [14,10]\n",
    "t_archive_copy.loc[1202,[\"rating_numerator\",\"rating_denominator\"]] = [11,10]\n",
    "t_archive_copy.loc[1228,[\"rating_numerator\",\"rating_denominator\"]] = None\n",
    "t_archive_copy.loc[1254,[\"rating_numerator\",\"rating_denominator\"]] = None\n",
    "t_archive_copy.loc[1274,[\"rating_numerator\",\"rating_denominator\"]] = None\n",
    "t_archive_copy.loc[1351,[\"rating_numerator\",\"rating_denominator\"]] = None\n",
    "t_archive_copy.loc[1433,[\"rating_numerator\",\"rating_denominator\"]] = None\n",
    "t_archive_copy.loc[1635,[\"rating_numerator\",\"rating_denominator\"]] = None\n",
    "t_archive_copy.loc[1662,[\"rating_numerator\",\"rating_denominator\"]] = [10,10]\n",
    "t_archive_copy.loc[1779,[\"rating_numerator\",\"rating_denominator\"]] = None\n",
    "t_archive_copy.loc[1843,[\"rating_numerator\",\"rating_denominator\"]] = None\n",
    "t_archive_copy.loc[2335,[\"rating_numerator\",\"rating_denominator\"]] = [9,10]"
   ]
  },
  {
   "cell_type": "markdown",
   "metadata": {},
   "source": [
    "### Test"
   ]
  },
  {
   "cell_type": "code",
   "execution_count": 79,
   "metadata": {},
   "outputs": [
    {
     "data": {
      "text/plain": [
       "array([ 10.,  nan])"
      ]
     },
     "execution_count": 79,
     "metadata": {},
     "output_type": "execute_result"
    }
   ],
   "source": [
    "t_archive_copy[\"rating_denominator\"].unique()"
   ]
  },
  {
   "cell_type": "markdown",
   "metadata": {},
   "source": [
    "## Wrong rating numerator\n",
    "\n",
    "### Define\n",
    "\n",
    "Some of the values in \"rating_numerator\" are higher than 15 or lower than 10, which I didn't expect. I am going to check if there is any issues related to these values."
   ]
  },
  {
   "cell_type": "markdown",
   "metadata": {},
   "source": [
    "### Code"
   ]
  },
  {
   "cell_type": "code",
   "execution_count": 81,
   "metadata": {},
   "outputs": [
    {
     "data": {
      "text/html": [
       "<div>\n",
       "<style scoped>\n",
       "    .dataframe tbody tr th:only-of-type {\n",
       "        vertical-align: middle;\n",
       "    }\n",
       "\n",
       "    .dataframe tbody tr th {\n",
       "        vertical-align: top;\n",
       "    }\n",
       "\n",
       "    .dataframe thead th {\n",
       "        text-align: right;\n",
       "    }\n",
       "</style>\n",
       "<table border=\"1\" class=\"dataframe\">\n",
       "  <thead>\n",
       "    <tr style=\"text-align: right;\">\n",
       "      <th></th>\n",
       "      <th>tweet_id</th>\n",
       "      <th>source</th>\n",
       "      <th>text</th>\n",
       "      <th>expanded_urls</th>\n",
       "      <th>rating_numerator</th>\n",
       "      <th>rating_denominator</th>\n",
       "      <th>name</th>\n",
       "      <th>date</th>\n",
       "      <th>time</th>\n",
       "      <th>shortened_url</th>\n",
       "      <th>shortened_url_2</th>\n",
       "      <th>type</th>\n",
       "    </tr>\n",
       "  </thead>\n",
       "  <tbody>\n",
       "    <tr>\n",
       "      <th>695</th>\n",
       "      <td>786709082849828864</td>\n",
       "      <td>Twitter for iPhone</td>\n",
       "      <td>This is Logan, the Chow who lived. He solemnly...</td>\n",
       "      <td>https://twitter.com/dog_rates/status/786709082...</td>\n",
       "      <td>75.0</td>\n",
       "      <td>10.0</td>\n",
       "      <td>Logan</td>\n",
       "      <td>2016-10-13</td>\n",
       "      <td>23:23:56</td>\n",
       "      <td>https://t.co/yBO5wuqaPS</td>\n",
       "      <td>None</td>\n",
       "      <td>None</td>\n",
       "    </tr>\n",
       "    <tr>\n",
       "      <th>763</th>\n",
       "      <td>778027034220126208</td>\n",
       "      <td>Twitter for iPhone</td>\n",
       "      <td>This is Sophie. She's a Jubilant Bush Pupper. ...</td>\n",
       "      <td>https://twitter.com/dog_rates/status/778027034...</td>\n",
       "      <td>27.0</td>\n",
       "      <td>10.0</td>\n",
       "      <td>Sophie</td>\n",
       "      <td>2016-09-20</td>\n",
       "      <td>00:24:34</td>\n",
       "      <td>https://t.co/QFaUiIHxHq</td>\n",
       "      <td>None</td>\n",
       "      <td>pupper</td>\n",
       "    </tr>\n",
       "    <tr>\n",
       "      <th>979</th>\n",
       "      <td>749981277374128128</td>\n",
       "      <td>TweetDeck</td>\n",
       "      <td>This is Atticus. He's quite simply America af....</td>\n",
       "      <td>https://twitter.com/dog_rates/status/749981277...</td>\n",
       "      <td>1776.0</td>\n",
       "      <td>10.0</td>\n",
       "      <td>Atticus</td>\n",
       "      <td>2016-07-04</td>\n",
       "      <td>15:00:45</td>\n",
       "      <td>https://t.co/GRXwMxLBkh</td>\n",
       "      <td>None</td>\n",
       "      <td>None</td>\n",
       "    </tr>\n",
       "    <tr>\n",
       "      <th>1712</th>\n",
       "      <td>680494726643068929</td>\n",
       "      <td>Twitter for iPhone</td>\n",
       "      <td>Here we have uncovered an entire battalion of ...</td>\n",
       "      <td>https://twitter.com/dog_rates/status/680494726...</td>\n",
       "      <td>26.0</td>\n",
       "      <td>10.0</td>\n",
       "      <td>None</td>\n",
       "      <td>2015-12-25</td>\n",
       "      <td>21:06:00</td>\n",
       "      <td>https://t.co/eNm2S6p9BD</td>\n",
       "      <td>None</td>\n",
       "      <td>None</td>\n",
       "    </tr>\n",
       "    <tr>\n",
       "      <th>2074</th>\n",
       "      <td>670842764863651840</td>\n",
       "      <td>Twitter for iPhone</td>\n",
       "      <td>After so many requests... here you go.\\n\\nGood...</td>\n",
       "      <td>https://twitter.com/dog_rates/status/670842764...</td>\n",
       "      <td>420.0</td>\n",
       "      <td>10.0</td>\n",
       "      <td>None</td>\n",
       "      <td>2015-11-29</td>\n",
       "      <td>05:52:33</td>\n",
       "      <td>https://t.co/yfAAo1gdeY</td>\n",
       "      <td>None</td>\n",
       "      <td>None</td>\n",
       "    </tr>\n",
       "  </tbody>\n",
       "</table>\n",
       "</div>"
      ],
      "text/plain": [
       "                tweet_id              source  \\\n",
       "695   786709082849828864  Twitter for iPhone   \n",
       "763   778027034220126208  Twitter for iPhone   \n",
       "979   749981277374128128           TweetDeck   \n",
       "1712  680494726643068929  Twitter for iPhone   \n",
       "2074  670842764863651840  Twitter for iPhone   \n",
       "\n",
       "                                                   text  \\\n",
       "695   This is Logan, the Chow who lived. He solemnly...   \n",
       "763   This is Sophie. She's a Jubilant Bush Pupper. ...   \n",
       "979   This is Atticus. He's quite simply America af....   \n",
       "1712  Here we have uncovered an entire battalion of ...   \n",
       "2074  After so many requests... here you go.\\n\\nGood...   \n",
       "\n",
       "                                          expanded_urls  rating_numerator  \\\n",
       "695   https://twitter.com/dog_rates/status/786709082...              75.0   \n",
       "763   https://twitter.com/dog_rates/status/778027034...              27.0   \n",
       "979   https://twitter.com/dog_rates/status/749981277...            1776.0   \n",
       "1712  https://twitter.com/dog_rates/status/680494726...              26.0   \n",
       "2074  https://twitter.com/dog_rates/status/670842764...             420.0   \n",
       "\n",
       "      rating_denominator     name        date      time  \\\n",
       "695                 10.0    Logan  2016-10-13  23:23:56   \n",
       "763                 10.0   Sophie  2016-09-20  00:24:34   \n",
       "979                 10.0  Atticus  2016-07-04  15:00:45   \n",
       "1712                10.0     None  2015-12-25  21:06:00   \n",
       "2074                10.0     None  2015-11-29  05:52:33   \n",
       "\n",
       "                shortened_url shortened_url_2    type  \n",
       "695   https://t.co/yBO5wuqaPS            None    None  \n",
       "763   https://t.co/QFaUiIHxHq            None  pupper  \n",
       "979   https://t.co/GRXwMxLBkh            None    None  \n",
       "1712  https://t.co/eNm2S6p9BD            None    None  \n",
       "2074  https://t.co/yfAAo1gdeY            None    None  "
      ]
     },
     "execution_count": 81,
     "metadata": {},
     "output_type": "execute_result"
    }
   ],
   "source": [
    "#Check too high numerators\n",
    "high_numerator = t_archive_copy[t_archive_copy[\"rating_numerator\"] > 15]\n",
    "high_numerator"
   ]
  },
  {
   "cell_type": "markdown",
   "metadata": {},
   "source": [
    "I have checked this 5 issues and I have seen that 3 of them are caused because there has been a problem extracting decimal numbers, only the decimal part has been taking into account. The other two cases are a picture that is not a dog and a picture with several dogs in int. I fix the issue with the decinal numbers and remove the others, which could affect the analysis."
   ]
  },
  {
   "cell_type": "code",
   "execution_count": 82,
   "metadata": {},
   "outputs": [],
   "source": [
    "for i in high_numerator.index:\n",
    "    t_archive_copy.loc[i,\"rating_numerator\"] = float(t_archive_copy.loc[i, \"text\"].split(\"/10\")[0].rsplit(\" \")[-1])\n",
    "#Remove the wrong rows\n",
    "t_archive_copy.drop([979,2074], axis=\"index\",inplace=True)    "
   ]
  },
  {
   "cell_type": "markdown",
   "metadata": {},
   "source": [
    "### Test"
   ]
  },
  {
   "cell_type": "code",
   "execution_count": 83,
   "metadata": {},
   "outputs": [
    {
     "data": {
      "text/html": [
       "<div>\n",
       "<style scoped>\n",
       "    .dataframe tbody tr th:only-of-type {\n",
       "        vertical-align: middle;\n",
       "    }\n",
       "\n",
       "    .dataframe tbody tr th {\n",
       "        vertical-align: top;\n",
       "    }\n",
       "\n",
       "    .dataframe thead th {\n",
       "        text-align: right;\n",
       "    }\n",
       "</style>\n",
       "<table border=\"1\" class=\"dataframe\">\n",
       "  <thead>\n",
       "    <tr style=\"text-align: right;\">\n",
       "      <th></th>\n",
       "      <th>tweet_id</th>\n",
       "      <th>source</th>\n",
       "      <th>text</th>\n",
       "      <th>expanded_urls</th>\n",
       "      <th>rating_numerator</th>\n",
       "      <th>rating_denominator</th>\n",
       "      <th>name</th>\n",
       "      <th>date</th>\n",
       "      <th>time</th>\n",
       "      <th>shortened_url</th>\n",
       "      <th>shortened_url_2</th>\n",
       "      <th>type</th>\n",
       "    </tr>\n",
       "  </thead>\n",
       "  <tbody>\n",
       "  </tbody>\n",
       "</table>\n",
       "</div>"
      ],
      "text/plain": [
       "Empty DataFrame\n",
       "Columns: [tweet_id, source, text, expanded_urls, rating_numerator, rating_denominator, name, date, time, shortened_url, shortened_url_2, type]\n",
       "Index: []"
      ]
     },
     "execution_count": 83,
     "metadata": {},
     "output_type": "execute_result"
    }
   ],
   "source": [
    "t_archive_copy[t_archive_copy[\"rating_numerator\"] > 15]\n"
   ]
  },
  {
   "cell_type": "markdown",
   "metadata": {},
   "source": [
    "### Code"
   ]
  },
  {
   "cell_type": "markdown",
   "metadata": {},
   "source": [
    "The number of cases where the numerator is lower than 10 is quite high:"
   ]
  },
  {
   "cell_type": "code",
   "execution_count": 84,
   "metadata": {},
   "outputs": [
    {
     "data": {
      "text/plain": [
       "165"
      ]
     },
     "execution_count": 84,
     "metadata": {},
     "output_type": "execute_result"
    }
   ],
   "source": [
    "t_archive_copy[t_archive_copy[\"rating_numerator\"] < 8].shape[0]"
   ]
  },
  {
   "cell_type": "markdown",
   "metadata": {},
   "source": [
    "Checking this cases I have seen there are too many reasons: mistakes extracting the numbers, pictures of other animals, jokes... I think that fixing all these issues would involve manually checking all affected rows, which is probably too much hassle for this project. Besides, the fact that this is not a \"serious\" rating system makes it often more complicated than a proper dataset. Thus, I consider this dataframe clean and go to the next step: merging the dataframes."
   ]
  },
  {
   "cell_type": "markdown",
   "metadata": {},
   "source": [
    "## Merging the dataframes\n",
    "\n",
    "I use the \"tweet_id\" column to merge the 3 dataframes into a single one with the rows that appear in all the dataframes."
   ]
  },
  {
   "cell_type": "code",
   "execution_count": 85,
   "metadata": {},
   "outputs": [
    {
     "name": "stdout",
     "output_type": "stream",
     "text": [
      "<class 'pandas.core.frame.DataFrame'>\n",
      "Int64Index: 1659 entries, 0 to 1658\n",
      "Data columns (total 25 columns):\n",
      "tweet_id              1659 non-null int64\n",
      "source                1659 non-null object\n",
      "text                  1659 non-null object\n",
      "expanded_urls         1659 non-null object\n",
      "rating_numerator      1648 non-null float64\n",
      "rating_denominator    1648 non-null float64\n",
      "name                  1579 non-null object\n",
      "date                  1659 non-null object\n",
      "time                  1659 non-null object\n",
      "shortened_url         1659 non-null object\n",
      "shortened_url_2       26 non-null object\n",
      "type                  251 non-null object\n",
      "jpg_url               1659 non-null object\n",
      "img_num               1659 non-null int64\n",
      "p1                    1659 non-null object\n",
      "p1_conf               1659 non-null float64\n",
      "p1_dog                1659 non-null bool\n",
      "p2                    1659 non-null object\n",
      "p2_conf               1659 non-null float64\n",
      "p2_dog                1659 non-null bool\n",
      "p3                    1659 non-null object\n",
      "p3_conf               1659 non-null float64\n",
      "p3_dog                1659 non-null bool\n",
      "retweet_count         1659 non-null int64\n",
      "favorite_count        1659 non-null int64\n",
      "dtypes: bool(3), float64(5), int64(4), object(13)\n",
      "memory usage: 303.0+ KB\n"
     ]
    }
   ],
   "source": [
    "twitter_archive_master = pd.merge(t_archive_copy, im_pred_copy, on='tweet_id')\n",
    "twitter_archive_master = pd.merge(twitter_archive_master, tweet_counts_copy, on='tweet_id')\n",
    "twitter_archive_master.to_csv(\"twitter_archive_master.csv\")\n",
    "twitter_archive_master.info()"
   ]
  },
  {
   "cell_type": "markdown",
   "metadata": {},
   "source": [
    "I have merged them is a way that I only keep the rows that are present in the 3 different dataframes. I can check if I have lost many rows in the way."
   ]
  },
  {
   "cell_type": "code",
   "execution_count": 86,
   "metadata": {},
   "outputs": [
    {
     "name": "stdout",
     "output_type": "stream",
     "text": [
      "t_archive - number of rows:  2093\n",
      "im_pred - number of rows:  1751\n",
      "tweet_counts - number of rows:  2059\n",
      "twitter_archive_master - number of rows:  1659\n"
     ]
    }
   ],
   "source": [
    "print(\"t_archive - number of rows: \", t_archive_copy.shape[0])\n",
    "print(\"im_pred - number of rows: \", im_pred_copy.shape[0])\n",
    "print(\"tweet_counts - number of rows: \", tweet_counts_copy.shape[0])\n",
    "print(\"twitter_archive_master - number of rows: \", twitter_archive_master.shape[0])"
   ]
  },
  {
   "cell_type": "markdown",
   "metadata": {},
   "source": [
    "I can see that I have indeed lost some of the rows. I will continue working with this file anyway, but I will create another one which contains all the information:"
   ]
  },
  {
   "cell_type": "code",
   "execution_count": 87,
   "metadata": {},
   "outputs": [
    {
     "name": "stdout",
     "output_type": "stream",
     "text": [
      "t_archive - number of rows:  2093\n",
      "im_pred - number of rows:  1751\n",
      "tweet_counts - number of rows:  2059\n",
      "twitter_archive_master_complete - number of rows:  2197\n"
     ]
    }
   ],
   "source": [
    "twitter_archive_master_complete = pd.merge(t_archive_copy, im_pred_copy, on='tweet_id', how=\"outer\")\n",
    "twitter_archive_master_complete = pd.merge(twitter_archive_master_complete, tweet_counts_copy, on='tweet_id', how=\"outer\")\n",
    "twitter_archive_master_complete.to_csv(\"twitter_archive_master_complete.csv\")\n",
    "print(\"t_archive - number of rows: \", t_archive_copy.shape[0])\n",
    "print(\"im_pred - number of rows: \", im_pred_copy.shape[0])\n",
    "print(\"tweet_counts - number of rows: \", tweet_counts_copy.shape[0])\n",
    "print(\"twitter_archive_master_complete - number of rows: \", twitter_archive_master_complete.shape[0])"
   ]
  },
  {
   "cell_type": "markdown",
   "metadata": {},
   "source": [
    "# Insights\n",
    "\n",
    "Now that I have the final dataframe, I can get some insights about the data. For example, I could see which type of dog gets a higher rating. This is not an accurate measurement, as most of the dogs types are not identified, but it works as an example of what can be done with this kind of data."
   ]
  },
  {
   "cell_type": "code",
   "execution_count": 38,
   "metadata": {},
   "outputs": [
    {
     "name": "stdout",
     "output_type": "stream",
     "text": [
      "doggo :  12.0\n",
      "puppo :  12.05\n",
      "pupper :  10.9744520548\n",
      "floofer :  11.875\n"
     ]
    }
   ],
   "source": [
    "real_dogs = twitter_archive_master[twitter_archive_master.p1_dog == True]\n",
    "real_dogs = real_dogs[~real_dogs.type.isnull()]\n",
    "\n",
    "for type_dog in real_dogs.type.unique():\n",
    "    print(type_dog, \": \", real_dogs[real_dogs[\"type\"] == type_dog].rating_numerator.mean())"
   ]
  },
  {
   "cell_type": "code",
   "execution_count": 130,
   "metadata": {},
   "outputs": [
    {
     "data": {
      "image/png": "[encoded data removed]",
      "text/plain": [
       "<matplotlib.figure.Figure at 0x7fe063354e48>"
      ]
     },
     "metadata": {
      "needs_background": "light"
     },
     "output_type": "display_data"
    }
   ],
   "source": [
    "identified_dogs = twitter_archive_master[~twitter_archive_master.type.isnull()]\n",
    "\n",
    "rating_by_type = {}\n",
    "\n",
    "for type_dog in identified_dogs.type.unique():\n",
    "    rating_by_type[type_dog] = identified_dogs[identified_dogs[\"type\"] == type_dog].rating_numerator.mean()\n",
    "\n",
    "plt.bar(rating_by_type.keys(), rating_by_type.values());\n",
    "plt.ylim([0,15]);\n",
    "plt.title(\"Mean rating of each kind of dog\", fontsize = 18);\n",
    "plt.ylabel(\"Mean rating\");\n",
    "plt.savefig('rating_by_type.png')"
   ]
  },
  {
   "cell_type": "markdown",
   "metadata": {},
   "source": [
    "Dogs clasiffied as pupper seem to have a lower rating than the other 3 categories. "
   ]
  },
  {
   "cell_type": "markdown",
   "metadata": {},
   "source": [
    "Another interesting insight is whether some types of dogs are more easily recognized by the algorythm. I can check how many dogs are identified as real dog in the first prediction of the algorithm (\"p1_dog\" is True) depending on the type of dog."
   ]
  },
  {
   "cell_type": "code",
   "execution_count": 39,
   "metadata": {},
   "outputs": [
    {
     "name": "stdout",
     "output_type": "stream",
     "text": [
      "doggo \n",
      " True     47\n",
      "False     6\n",
      "Name: p1_dog, dtype: int64\n",
      "puppo \n",
      " True     20\n",
      "False     2\n",
      "Name: p1_dog, dtype: int64\n",
      "pupper \n",
      " True     146\n",
      "False     22\n",
      "Name: p1_dog, dtype: int64\n",
      "floofer \n",
      " True    8\n",
      "Name: p1_dog, dtype: int64\n"
     ]
    }
   ],
   "source": [
    "dogs_by_type = twitter_archive_master[~twitter_archive_master.type.isnull()]\n",
    "for type_dog in dogs_by_type.type.unique():\n",
    "    print (type_dog, \"\\n\", dogs_by_type[dogs_by_type[\"type\"] == type_dog].p1_dog.value_counts())"
   ]
  },
  {
   "cell_type": "markdown",
   "metadata": {},
   "source": [
    "All the floofers have been properly identified, althought there are only 8 dogs in this category. The algorythm works also quite well with puppo."
   ]
  },
  {
   "cell_type": "markdown",
   "metadata": {},
   "source": [
    "We can also see if there is a relationship between how high is the rating of a dog and the number of retweets and likes it gets. I will use a simple scatterplot for that."
   ]
  },
  {
   "cell_type": "code",
   "execution_count": 42,
   "metadata": {},
   "outputs": [
    {
     "data": {
      "image/png": "[encoded data removed]",
      "text/plain": [
       "<matplotlib.figure.Figure at 0x7f1e25b26f28>"
      ]
     },
     "metadata": {
      "needs_background": "light"
     },
     "output_type": "display_data"
    }
   ],
   "source": [
    "scatter_data = twitter_archive_master[~twitter_archive_master.rating_numerator.isnull()]\n",
    "#There are unresolved issues with rating numerator, so I will remove those higher than 20 to get a better view\n",
    "scatter_data = scatter_data[scatter_data.rating_numerator < 20]\n",
    "plt.scatter(scatter_data.rating_numerator, scatter_data.favorite_count);\n",
    "plt.title(\"Favorite vs rating\");\n",
    "plt.xlabel(\"Rating\");\n",
    "plt.ylabel(\"Number of favorites\");"
   ]
  },
  {
   "cell_type": "code",
   "execution_count": 43,
   "metadata": {},
   "outputs": [
    {
     "data": {
      "image/png": "[encoded data removed]",
      "text/plain": [
       "<matplotlib.figure.Figure at 0x7f1e24c45208>"
      ]
     },
     "metadata": {
      "needs_background": "light"
     },
     "output_type": "display_data"
    }
   ],
   "source": [
    "plt.scatter(scatter_data.rating_numerator, scatter_data.retweet_count);\n",
    "plt.title(\"Retweets vs rating\");\n",
    "plt.xlabel(\"Rating\");\n",
    "plt.ylabel(\"Number of retweets\");"
   ]
  },
  {
   "cell_type": "markdown",
   "metadata": {},
   "source": [
    "We can see that both number of favorites and retweets increases for rankings higher than 9. It is interesting that the highest number of favorites and retweets correspond to dog with a rating of 13. It is posible that the reason for this is that there are more dogs with that rating than dogs with a rating of 14."
   ]
  },
  {
   "cell_type": "markdown",
   "metadata": {},
   "source": [
    "# Visualization\n",
    "\n",
    "Now I am going to create a visualization. I am going to make just one image, although the code could be easily applier to the whole dataframe with a for loop. \n",
    "I am going to look for the first dog which has an identifided type and I am going to produce its image with name, type and rating. "
   ]
  },
  {
   "cell_type": "code",
   "execution_count": 45,
   "metadata": {},
   "outputs": [],
   "source": [
    "#Find the first no null value for type\n",
    "first_index = next(i for i, j in enumerate(twitter_archive_master.type) if j)\n",
    "\n",
    "url = twitter_archive_master.jpg_url[first_index]\n",
    "r = requests.get(url)\n",
    "image = Image.open(BytesIO(r.content))\n",
    "width, height = image.size #I will use these values to position the texts in the proper place\n",
    "image_editable = ImageDraw.Draw(image)\n",
    "\n",
    "#Create a string to print the rating\n",
    "numerator = str(twitter_archive_master.rating_numerator[first_index]).split(\".\")[0]\n",
    "denominator = str(twitter_archive_master.rating_denominator[first_index]).split(\".\")[0]\n",
    "rating = numerator + \"/\" + denominator\n",
    "\n",
    "font_name = ImageFont.truetype(\"arial.ttf\", int(height / 10))\n",
    "font2 = ImageFont.truetype(\"arial.ttf\", int(height / 12))\n",
    "image_editable.text((100 ,15), twitter_archive_master.name[first_index], (237, 230, 211),font=font_name)\n",
    "image_editable.text((int(width/10), height - 200), twitter_archive_master.type[first_index] , (0, 0, 0),font=font2)\n",
    "image_editable.text((int(width /2), height - 200), rating , (255, 0, 0),font=font2)\n",
    "\n",
    "image.save(\"picture.jpg\")"
   ]
  }
 ],
 "metadata": {
  "kernelspec": {
   "display_name": "Python 3",
   "language": "python",
   "name": "python3"
  },
  "language_info": {
   "codemirror_mode": {
    "name": "ipython",
    "version": 3
   },
   "file_extension": ".py",
   "mimetype": "text/x-python",
   "name": "python",
   "nbconvert_exporter": "python",
   "pygments_lexer": "ipython3",
   "version": "3.6.3"
  }
 },
 "nbformat": 4,
 "nbformat_minor": 2
}
