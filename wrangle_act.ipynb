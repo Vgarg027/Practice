{
 "cells": [
  {
   "cell_type": "markdown",
   "metadata": {
    "extensions": {
     "jupyter_dashboards": {
      "version": 1,
      "views": {
       "grid_default": {
        "col": 0,
        "height": 4,
        "hidden": false,
        "row": 0,
        "width": 4
       },
       "report_default": {
        "hidden": false
       }
      }
     }
    }
   },
   "source": [
    "# Project: Wrangling and Analyze Data"
   ]
  },
  {
   "cell_type": "markdown",
   "metadata": {},
   "source": [
    "## Data Gathering\n",
    "In the cell below, gather **all** three pieces of data for this project and load them in the notebook. **Note:** the methods required to gather each data are different.\n",
    "1. Directly download the WeRateDogs Twitter archive data (twitter_archive_enhanced.csv)"
   ]
  },
  {
   "cell_type": "code",
   "execution_count": 1,
   "metadata": {
    "extensions": {
     "jupyter_dashboards": {
      "version": 1,
      "views": {
       "grid_default": {
        "hidden": true
       },
       "report_default": {
        "hidden": true
       }
      }
     }
    }
   },
   "outputs": [
    {
     "name": "stdout",
     "output_type": "stream",
     "text": [
      "<class 'pandas.core.frame.DataFrame'>\n",
      "RangeIndex: 2356 entries, 0 to 2355\n",
      "Data columns (total 17 columns):\n",
      "tweet_id                      2356 non-null int64\n",
      "in_reply_to_status_id         78 non-null float64\n",
      "in_reply_to_user_id           78 non-null float64\n",
      "timestamp                     2356 non-null object\n",
      "source                        2356 non-null object\n",
      "text                          2356 non-null object\n",
      "retweeted_status_id           181 non-null float64\n",
      "retweeted_status_user_id      181 non-null float64\n",
      "retweeted_status_timestamp    181 non-null object\n",
      "expanded_urls                 2297 non-null object\n",
      "rating_numerator              2356 non-null int64\n",
      "rating_denominator            2356 non-null int64\n",
      "name                          2356 non-null object\n",
      "doggo                         2356 non-null object\n",
      "floofer                       2356 non-null object\n",
      "pupper                        2356 non-null object\n",
      "puppo                         2356 non-null object\n",
      "dtypes: float64(4), int64(3), object(10)\n",
      "memory usage: 313.0+ KB\n"
     ]
    },
    {
     "data": {
      "text/html": [
       "<div>\n",
       "<style scoped>\n",
       "    .dataframe tbody tr th:only-of-type {\n",
       "        vertical-align: middle;\n",
       "    }\n",
       "\n",
       "    .dataframe tbody tr th {\n",
       "        vertical-align: top;\n",
       "    }\n",
       "\n",
       "    .dataframe thead th {\n",
       "        text-align: right;\n",
       "    }\n",
       "</style>\n",
       "<table border=\"1\" class=\"dataframe\">\n",
       "  <thead>\n",
       "    <tr style=\"text-align: right;\">\n",
       "      <th></th>\n",
       "      <th>tweet_id</th>\n",
       "      <th>in_reply_to_status_id</th>\n",
       "      <th>in_reply_to_user_id</th>\n",
       "      <th>timestamp</th>\n",
       "      <th>source</th>\n",
       "      <th>text</th>\n",
       "      <th>retweeted_status_id</th>\n",
       "      <th>retweeted_status_user_id</th>\n",
       "      <th>retweeted_status_timestamp</th>\n",
       "      <th>expanded_urls</th>\n",
       "      <th>rating_numerator</th>\n",
       "      <th>rating_denominator</th>\n",
       "      <th>name</th>\n",
       "      <th>doggo</th>\n",
       "      <th>floofer</th>\n",
       "      <th>pupper</th>\n",
       "      <th>puppo</th>\n",
       "    </tr>\n",
       "  </thead>\n",
       "  <tbody>\n",
       "    <tr>\n",
       "      <th>0</th>\n",
       "      <td>892420643555336193</td>\n",
       "      <td>NaN</td>\n",
       "      <td>NaN</td>\n",
       "      <td>2017-08-01 16:23:56 +0000</td>\n",
       "      <td>&lt;a href=\"http://twitter.com/download/iphone\" r...</td>\n",
       "      <td>This is Phineas. He's a mystical boy. Only eve...</td>\n",
       "      <td>NaN</td>\n",
       "      <td>NaN</td>\n",
       "      <td>NaN</td>\n",
       "      <td>https://twitter.com/dog_rates/status/892420643...</td>\n",
       "      <td>13</td>\n",
       "      <td>10</td>\n",
       "      <td>Phineas</td>\n",
       "      <td>None</td>\n",
       "      <td>None</td>\n",
       "      <td>None</td>\n",
       "      <td>None</td>\n",
       "    </tr>\n",
       "    <tr>\n",
       "      <th>1</th>\n",
       "      <td>892177421306343426</td>\n",
       "      <td>NaN</td>\n",
       "      <td>NaN</td>\n",
       "      <td>2017-08-01 00:17:27 +0000</td>\n",
       "      <td>&lt;a href=\"http://twitter.com/download/iphone\" r...</td>\n",
       "      <td>This is Tilly. She's just checking pup on you....</td>\n",
       "      <td>NaN</td>\n",
       "      <td>NaN</td>\n",
       "      <td>NaN</td>\n",
       "      <td>https://twitter.com/dog_rates/status/892177421...</td>\n",
       "      <td>13</td>\n",
       "      <td>10</td>\n",
       "      <td>Tilly</td>\n",
       "      <td>None</td>\n",
       "      <td>None</td>\n",
       "      <td>None</td>\n",
       "      <td>None</td>\n",
       "    </tr>\n",
       "    <tr>\n",
       "      <th>2</th>\n",
       "      <td>891815181378084864</td>\n",
       "      <td>NaN</td>\n",
       "      <td>NaN</td>\n",
       "      <td>2017-07-31 00:18:03 +0000</td>\n",
       "      <td>&lt;a href=\"http://twitter.com/download/iphone\" r...</td>\n",
       "      <td>This is Archie. He is a rare Norwegian Pouncin...</td>\n",
       "      <td>NaN</td>\n",
       "      <td>NaN</td>\n",
       "      <td>NaN</td>\n",
       "      <td>https://twitter.com/dog_rates/status/891815181...</td>\n",
       "      <td>12</td>\n",
       "      <td>10</td>\n",
       "      <td>Archie</td>\n",
       "      <td>None</td>\n",
       "      <td>None</td>\n",
       "      <td>None</td>\n",
       "      <td>None</td>\n",
       "    </tr>\n",
       "    <tr>\n",
       "      <th>3</th>\n",
       "      <td>891689557279858688</td>\n",
       "      <td>NaN</td>\n",
       "      <td>NaN</td>\n",
       "      <td>2017-07-30 15:58:51 +0000</td>\n",
       "      <td>&lt;a href=\"http://twitter.com/download/iphone\" r...</td>\n",
       "      <td>This is Darla. She commenced a snooze mid meal...</td>\n",
       "      <td>NaN</td>\n",
       "      <td>NaN</td>\n",
       "      <td>NaN</td>\n",
       "      <td>https://twitter.com/dog_rates/status/891689557...</td>\n",
       "      <td>13</td>\n",
       "      <td>10</td>\n",
       "      <td>Darla</td>\n",
       "      <td>None</td>\n",
       "      <td>None</td>\n",
       "      <td>None</td>\n",
       "      <td>None</td>\n",
       "    </tr>\n",
       "    <tr>\n",
       "      <th>4</th>\n",
       "      <td>891327558926688256</td>\n",
       "      <td>NaN</td>\n",
       "      <td>NaN</td>\n",
       "      <td>2017-07-29 16:00:24 +0000</td>\n",
       "      <td>&lt;a href=\"http://twitter.com/download/iphone\" r...</td>\n",
       "      <td>This is Franklin. He would like you to stop ca...</td>\n",
       "      <td>NaN</td>\n",
       "      <td>NaN</td>\n",
       "      <td>NaN</td>\n",
       "      <td>https://twitter.com/dog_rates/status/891327558...</td>\n",
       "      <td>12</td>\n",
       "      <td>10</td>\n",
       "      <td>Franklin</td>\n",
       "      <td>None</td>\n",
       "      <td>None</td>\n",
       "      <td>None</td>\n",
       "      <td>None</td>\n",
       "    </tr>\n",
       "  </tbody>\n",
       "</table>\n",
       "</div>"
      ],
      "text/plain": [
       "             tweet_id  in_reply_to_status_id  in_reply_to_user_id  \\\n",
       "0  892420643555336193                    NaN                  NaN   \n",
       "1  892177421306343426                    NaN                  NaN   \n",
       "2  891815181378084864                    NaN                  NaN   \n",
       "3  891689557279858688                    NaN                  NaN   \n",
       "4  891327558926688256                    NaN                  NaN   \n",
       "\n",
       "                   timestamp  \\\n",
       "0  2017-08-01 16:23:56 +0000   \n",
       "1  2017-08-01 00:17:27 +0000   \n",
       "2  2017-07-31 00:18:03 +0000   \n",
       "3  2017-07-30 15:58:51 +0000   \n",
       "4  2017-07-29 16:00:24 +0000   \n",
       "\n",
       "                                              source  \\\n",
       "0  <a href=\"http://twitter.com/download/iphone\" r...   \n",
       "1  <a href=\"http://twitter.com/download/iphone\" r...   \n",
       "2  <a href=\"http://twitter.com/download/iphone\" r...   \n",
       "3  <a href=\"http://twitter.com/download/iphone\" r...   \n",
       "4  <a href=\"http://twitter.com/download/iphone\" r...   \n",
       "\n",
       "                                                text  retweeted_status_id  \\\n",
       "0  This is Phineas. He's a mystical boy. Only eve...                  NaN   \n",
       "1  This is Tilly. She's just checking pup on you....                  NaN   \n",
       "2  This is Archie. He is a rare Norwegian Pouncin...                  NaN   \n",
       "3  This is Darla. She commenced a snooze mid meal...                  NaN   \n",
       "4  This is Franklin. He would like you to stop ca...                  NaN   \n",
       "\n",
       "   retweeted_status_user_id retweeted_status_timestamp  \\\n",
       "0                       NaN                        NaN   \n",
       "1                       NaN                        NaN   \n",
       "2                       NaN                        NaN   \n",
       "3                       NaN                        NaN   \n",
       "4                       NaN                        NaN   \n",
       "\n",
       "                                       expanded_urls  rating_numerator  \\\n",
       "0  https://twitter.com/dog_rates/status/892420643...                13   \n",
       "1  https://twitter.com/dog_rates/status/892177421...                13   \n",
       "2  https://twitter.com/dog_rates/status/891815181...                12   \n",
       "3  https://twitter.com/dog_rates/status/891689557...                13   \n",
       "4  https://twitter.com/dog_rates/status/891327558...                12   \n",
       "\n",
       "   rating_denominator      name doggo floofer pupper puppo  \n",
       "0                  10   Phineas  None    None   None  None  \n",
       "1                  10     Tilly  None    None   None  None  \n",
       "2                  10    Archie  None    None   None  None  \n",
       "3                  10     Darla  None    None   None  None  \n",
       "4                  10  Franklin  None    None   None  None  "
      ]
     },
     "execution_count": 1,
     "metadata": {},
     "output_type": "execute_result"
    }
   ],
   "source": [
    "import numpy as np\n",
    "import pandas as pd\n",
    "\n",
    "df = pd.read_csv('twitter-archive-enhanced.csv')\n",
    "df.head()\n",
    "# Twitter ids.\n",
    "ids = df.tweet_id.values\n",
    "# Visual assessment\n",
    "df.head()\n"
   ]
  },
  {
   "cell_type": "markdown",
   "metadata": {},
   "source": [
    "2. Use the Requests library to download the tweet image prediction (image_predictions.tsv)"
   ]
  },
  {
   "cell_type": "code",
   "execution_count": 2,
   "metadata": {},
   "outputs": [
    {
     "name": "stdout",
     "output_type": "stream",
     "text": [
      "<class 'pandas.core.frame.DataFrame'>\n",
      "RangeIndex: 2075 entries, 0 to 2074\n",
      "Data columns (total 12 columns):\n",
      "tweet_id    2075 non-null int64\n",
      "jpg_url     2075 non-null object\n",
      "img_num     2075 non-null object\n",
      "p1          2075 non-null object\n",
      "p1_conf     2075 non-null object\n",
      "p1_dog      2075 non-null object\n",
      "p2          2075 non-null object\n",
      "p2_conf     2075 non-null object\n",
      "p2_dog      2075 non-null object\n",
      "p3          2075 non-null object\n",
      "p3_conf     2075 non-null object\n",
      "p3_dog      2075 non-null object\n",
      "dtypes: int64(1), object(11)\n",
      "memory usage: 194.6+ KB\n"
     ]
    }
   ],
   "source": [
    "import requests\n",
    "\n",
    "r = requests.get(' https://d17h27t6h515a5.cloudfront.net/topher/2017/August/599fd2ad_image-predictions/image-predictions.tsv')\n",
    "# Code which does not work.\n",
    "#df_predictions = pd.read_csv(r.text, sep='\\t')\n",
    "\n",
    "\n",
    "# Uglier code which does work.\n",
    "a = [i.split('\\t') for i in r.text.split('\\n')]\n",
    "a = [item for item in a if len(item) == 12]\n",
    "columns = a[0]\n",
    "data = np.array(a[1:])\n",
    "df_predictions = pd.DataFrame(data=data, columns=columns)\n",
    "\n",
    "\n",
    "\n",
    "# Check for null values.\n",
    "df_predictions.isnull().values.any()\n",
    "\n",
    "# Convert id to integer as merge is done on this column. \n",
    "df_predictions['tweet_id'] = df_predictions['tweet_id'].astype('int64')\n",
    "df_predictions.info()"
   ]
  },
  {
   "cell_type": "markdown",
   "metadata": {},
   "source": [
    "3. Use the Tweepy library to query additional data via the Twitter API (tweet_json.txt)"
   ]
  },
  {
   "cell_type": "code",
   "execution_count": 3,
   "metadata": {},
   "outputs": [
    {
     "name": "stdout",
     "output_type": "stream",
     "text": [
      "number of rows in tweet-json 2354\n"
     ]
    },
    {
     "data": {
      "text/html": [
       "<div>\n",
       "<style scoped>\n",
       "    .dataframe tbody tr th:only-of-type {\n",
       "        vertical-align: middle;\n",
       "    }\n",
       "\n",
       "    .dataframe tbody tr th {\n",
       "        vertical-align: top;\n",
       "    }\n",
       "\n",
       "    .dataframe thead th {\n",
       "        text-align: right;\n",
       "    }\n",
       "</style>\n",
       "<table border=\"1\" class=\"dataframe\">\n",
       "  <thead>\n",
       "    <tr style=\"text-align: right;\">\n",
       "      <th></th>\n",
       "      <th>created_at</th>\n",
       "      <th>id</th>\n",
       "      <th>id_str</th>\n",
       "      <th>full_text</th>\n",
       "      <th>truncated</th>\n",
       "      <th>display_text_range</th>\n",
       "      <th>entities</th>\n",
       "      <th>source</th>\n",
       "      <th>in_reply_to_status_id</th>\n",
       "      <th>in_reply_to_status_id_str</th>\n",
       "      <th>...</th>\n",
       "      <th>geo</th>\n",
       "      <th>coordinates</th>\n",
       "      <th>place</th>\n",
       "      <th>contributors</th>\n",
       "      <th>is_quote_status</th>\n",
       "      <th>retweet_count</th>\n",
       "      <th>favorite_count</th>\n",
       "      <th>favorited</th>\n",
       "      <th>retweeted</th>\n",
       "      <th>lang</th>\n",
       "    </tr>\n",
       "  </thead>\n",
       "  <tbody>\n",
       "    <tr>\n",
       "      <th>0</th>\n",
       "      <td>Tue Aug 01 16:23:56 +0000 2017</td>\n",
       "      <td>892420643555336193</td>\n",
       "      <td>892420643555336193</td>\n",
       "      <td>This is Phineas. He's a mystical boy. Only eve...</td>\n",
       "      <td>False</td>\n",
       "      <td>[0, 85]</td>\n",
       "      <td>{'hashtags': [], 'symbols': [], 'user_mentions...</td>\n",
       "      <td>&lt;a href=\"http://twitter.com/download/iphone\" r...</td>\n",
       "      <td>NaN</td>\n",
       "      <td>None</td>\n",
       "      <td>...</td>\n",
       "      <td>None</td>\n",
       "      <td>None</td>\n",
       "      <td>None</td>\n",
       "      <td>None</td>\n",
       "      <td>False</td>\n",
       "      <td>8853</td>\n",
       "      <td>39467</td>\n",
       "      <td>False</td>\n",
       "      <td>False</td>\n",
       "      <td>en</td>\n",
       "    </tr>\n",
       "    <tr>\n",
       "      <th>1</th>\n",
       "      <td>Tue Aug 01 00:17:27 +0000 2017</td>\n",
       "      <td>892177421306343426</td>\n",
       "      <td>892177421306343426</td>\n",
       "      <td>This is Tilly. She's just checking pup on you....</td>\n",
       "      <td>False</td>\n",
       "      <td>[0, 138]</td>\n",
       "      <td>{'hashtags': [], 'symbols': [], 'user_mentions...</td>\n",
       "      <td>&lt;a href=\"http://twitter.com/download/iphone\" r...</td>\n",
       "      <td>NaN</td>\n",
       "      <td>None</td>\n",
       "      <td>...</td>\n",
       "      <td>None</td>\n",
       "      <td>None</td>\n",
       "      <td>None</td>\n",
       "      <td>None</td>\n",
       "      <td>False</td>\n",
       "      <td>6514</td>\n",
       "      <td>33819</td>\n",
       "      <td>False</td>\n",
       "      <td>False</td>\n",
       "      <td>en</td>\n",
       "    </tr>\n",
       "    <tr>\n",
       "      <th>2</th>\n",
       "      <td>Mon Jul 31 00:18:03 +0000 2017</td>\n",
       "      <td>891815181378084864</td>\n",
       "      <td>891815181378084864</td>\n",
       "      <td>This is Archie. He is a rare Norwegian Pouncin...</td>\n",
       "      <td>False</td>\n",
       "      <td>[0, 121]</td>\n",
       "      <td>{'hashtags': [], 'symbols': [], 'user_mentions...</td>\n",
       "      <td>&lt;a href=\"http://twitter.com/download/iphone\" r...</td>\n",
       "      <td>NaN</td>\n",
       "      <td>None</td>\n",
       "      <td>...</td>\n",
       "      <td>None</td>\n",
       "      <td>None</td>\n",
       "      <td>None</td>\n",
       "      <td>None</td>\n",
       "      <td>False</td>\n",
       "      <td>4328</td>\n",
       "      <td>25461</td>\n",
       "      <td>False</td>\n",
       "      <td>False</td>\n",
       "      <td>en</td>\n",
       "    </tr>\n",
       "    <tr>\n",
       "      <th>3</th>\n",
       "      <td>Sun Jul 30 15:58:51 +0000 2017</td>\n",
       "      <td>891689557279858688</td>\n",
       "      <td>891689557279858688</td>\n",
       "      <td>This is Darla. She commenced a snooze mid meal...</td>\n",
       "      <td>False</td>\n",
       "      <td>[0, 79]</td>\n",
       "      <td>{'hashtags': [], 'symbols': [], 'user_mentions...</td>\n",
       "      <td>&lt;a href=\"http://twitter.com/download/iphone\" r...</td>\n",
       "      <td>NaN</td>\n",
       "      <td>None</td>\n",
       "      <td>...</td>\n",
       "      <td>None</td>\n",
       "      <td>None</td>\n",
       "      <td>None</td>\n",
       "      <td>None</td>\n",
       "      <td>False</td>\n",
       "      <td>8964</td>\n",
       "      <td>42908</td>\n",
       "      <td>False</td>\n",
       "      <td>False</td>\n",
       "      <td>en</td>\n",
       "    </tr>\n",
       "    <tr>\n",
       "      <th>4</th>\n",
       "      <td>Sat Jul 29 16:00:24 +0000 2017</td>\n",
       "      <td>891327558926688256</td>\n",
       "      <td>891327558926688256</td>\n",
       "      <td>This is Franklin. He would like you to stop ca...</td>\n",
       "      <td>False</td>\n",
       "      <td>[0, 138]</td>\n",
       "      <td>{'hashtags': [{'text': 'BarkWeek', 'indices': ...</td>\n",
       "      <td>&lt;a href=\"http://twitter.com/download/iphone\" r...</td>\n",
       "      <td>NaN</td>\n",
       "      <td>None</td>\n",
       "      <td>...</td>\n",
       "      <td>None</td>\n",
       "      <td>None</td>\n",
       "      <td>None</td>\n",
       "      <td>None</td>\n",
       "      <td>False</td>\n",
       "      <td>9774</td>\n",
       "      <td>41048</td>\n",
       "      <td>False</td>\n",
       "      <td>False</td>\n",
       "      <td>en</td>\n",
       "    </tr>\n",
       "  </tbody>\n",
       "</table>\n",
       "<p>5 rows × 24 columns</p>\n",
       "</div>"
      ],
      "text/plain": [
       "                       created_at                  id              id_str  \\\n",
       "0  Tue Aug 01 16:23:56 +0000 2017  892420643555336193  892420643555336193   \n",
       "1  Tue Aug 01 00:17:27 +0000 2017  892177421306343426  892177421306343426   \n",
       "2  Mon Jul 31 00:18:03 +0000 2017  891815181378084864  891815181378084864   \n",
       "3  Sun Jul 30 15:58:51 +0000 2017  891689557279858688  891689557279858688   \n",
       "4  Sat Jul 29 16:00:24 +0000 2017  891327558926688256  891327558926688256   \n",
       "\n",
       "                                           full_text  truncated  \\\n",
       "0  This is Phineas. He's a mystical boy. Only eve...      False   \n",
       "1  This is Tilly. She's just checking pup on you....      False   \n",
       "2  This is Archie. He is a rare Norwegian Pouncin...      False   \n",
       "3  This is Darla. She commenced a snooze mid meal...      False   \n",
       "4  This is Franklin. He would like you to stop ca...      False   \n",
       "\n",
       "  display_text_range                                           entities  \\\n",
       "0            [0, 85]  {'hashtags': [], 'symbols': [], 'user_mentions...   \n",
       "1           [0, 138]  {'hashtags': [], 'symbols': [], 'user_mentions...   \n",
       "2           [0, 121]  {'hashtags': [], 'symbols': [], 'user_mentions...   \n",
       "3            [0, 79]  {'hashtags': [], 'symbols': [], 'user_mentions...   \n",
       "4           [0, 138]  {'hashtags': [{'text': 'BarkWeek', 'indices': ...   \n",
       "\n",
       "                                              source  in_reply_to_status_id  \\\n",
       "0  <a href=\"http://twitter.com/download/iphone\" r...                    NaN   \n",
       "1  <a href=\"http://twitter.com/download/iphone\" r...                    NaN   \n",
       "2  <a href=\"http://twitter.com/download/iphone\" r...                    NaN   \n",
       "3  <a href=\"http://twitter.com/download/iphone\" r...                    NaN   \n",
       "4  <a href=\"http://twitter.com/download/iphone\" r...                    NaN   \n",
       "\n",
       "  in_reply_to_status_id_str  ...    geo coordinates place contributors  \\\n",
       "0                      None  ...   None        None  None         None   \n",
       "1                      None  ...   None        None  None         None   \n",
       "2                      None  ...   None        None  None         None   \n",
       "3                      None  ...   None        None  None         None   \n",
       "4                      None  ...   None        None  None         None   \n",
       "\n",
       "  is_quote_status retweet_count favorite_count favorited  retweeted  lang  \n",
       "0           False          8853          39467     False      False    en  \n",
       "1           False          6514          33819     False      False    en  \n",
       "2           False          4328          25461     False      False    en  \n",
       "3           False          8964          42908     False      False    en  \n",
       "4           False          9774          41048     False      False    en  \n",
       "\n",
       "[5 rows x 24 columns]"
      ]
     },
     "execution_count": 3,
     "metadata": {},
     "output_type": "execute_result"
    }
   ],
   "source": [
    "import tweepy,json\n",
    "\n",
    "# I intented to extraxt the data from twitter but they did require eleveted\n",
    "# account an that takes time. \n",
    "# I decided to use the text file provided by Udacity\n",
    "\n",
    "#ids,favorite_counts, retweet_counts = [],[],[]\n",
    "\n",
    "f = open(\"tweet-json.txt\", \"r\")\n",
    "data = {}\n",
    "i = 0\n",
    "for line in f:\n",
    "    d = json.loads(line)\n",
    "    for key in d.keys():\n",
    "        if key in data:\n",
    "            data[key].append(d[key])\n",
    "        else:\n",
    "            data[key] = [d[key]]\n",
    "    i += 1\n",
    "print('number of rows in tweet-json', i)\n",
    "# Select only data in from all rows.\n",
    "\n",
    "data_reduced = {}\n",
    "for key in data.keys():\n",
    "    if len(data[key])==i:\n",
    "        data_reduced[key] = data[key]\n",
    "\n",
    "\n",
    "        \n",
    "df_tweet = pd.DataFrame(data_reduced)\n",
    "df_tweet.head()"
   ]
  },
  {
   "cell_type": "markdown",
   "metadata": {
    "extensions": {
     "jupyter_dashboards": {
      "version": 1,
      "views": {
       "grid_default": {
        "col": 4,
        "height": 4,
        "hidden": false,
        "row": 28,
        "width": 4
       },
       "report_default": {
        "hidden": false
       }
      }
     }
    }
   },
   "source": [
    "## Assessing Data\n",
    "In this section, detect and document at least **eight (8) quality issues and two (2) tidiness issue**. You must use **both** visual assessment\n",
    "programmatic assessement to assess the data.\n",
    "\n",
    "**Note:** pay attention to the following key points when you access the data.\n",
    "\n",
    "* You only want original ratings (no retweets) that have images. Though there are 5000+ tweets in the dataset, not all are dog ratings and some are retweets.\n",
    "* Assessing and cleaning the entire dataset completely would require a lot of time, and is not necessary to practice and demonstrate your skills in data wrangling. Therefore, the requirements of this project are only to assess and clean at least 8 quality issues and at least 2 tidiness issues in this dataset.\n",
    "* The fact that the rating numerators are greater than the denominators does not need to be cleaned. This [unique rating system](http://knowyourmeme.com/memes/theyre-good-dogs-brent) is a big part of the popularity of WeRateDogs.\n",
    "* You do not need to gather the tweets beyond August 1st, 2017. You can, but note that you won't be able to gather the image predictions for these tweets since you don't have access to the algorithm used.\n",
    "\n"
   ]
  },
  {
   "cell_type": "code",
   "execution_count": 4,
   "metadata": {},
   "outputs": [
    {
     "name": "stdout",
     "output_type": "stream",
     "text": [
      "<class 'pandas.core.frame.DataFrame'>\n",
      "Int64Index: 2073 entries, 0 to 2072\n",
      "Data columns (total 52 columns):\n",
      "tweet_id                      2073 non-null int64\n",
      "in_reply_to_status_id_x       23 non-null float64\n",
      "in_reply_to_user_id_x         23 non-null float64\n",
      "timestamp                     2073 non-null object\n",
      "source_x                      2073 non-null object\n",
      "text                          2073 non-null object\n",
      "retweeted_status_id           79 non-null float64\n",
      "retweeted_status_user_id      79 non-null float64\n",
      "retweeted_status_timestamp    79 non-null object\n",
      "expanded_urls                 2073 non-null object\n",
      "rating_numerator              2073 non-null int64\n",
      "rating_denominator            2073 non-null int64\n",
      "name                          2073 non-null object\n",
      "doggo                         2073 non-null object\n",
      "floofer                       2073 non-null object\n",
      "pupper                        2073 non-null object\n",
      "puppo                         2073 non-null object\n",
      "created_at                    2073 non-null object\n",
      "id                            2073 non-null int64\n",
      "id_str                        2073 non-null object\n",
      "full_text                     2073 non-null object\n",
      "truncated                     2073 non-null bool\n",
      "display_text_range            2073 non-null object\n",
      "entities                      2073 non-null object\n",
      "source_y                      2073 non-null object\n",
      "in_reply_to_status_id_y       23 non-null float64\n",
      "in_reply_to_status_id_str     23 non-null object\n",
      "in_reply_to_user_id_y         23 non-null float64\n",
      "in_reply_to_user_id_str       23 non-null object\n",
      "in_reply_to_screen_name       23 non-null object\n",
      "user                          2073 non-null object\n",
      "geo                           0 non-null object\n",
      "coordinates                   0 non-null object\n",
      "place                         1 non-null object\n",
      "contributors                  0 non-null object\n",
      "is_quote_status               2073 non-null bool\n",
      "retweet_count                 2073 non-null int64\n",
      "favorite_count                2073 non-null int64\n",
      "favorited                     2073 non-null bool\n",
      "retweeted                     2073 non-null bool\n",
      "lang                          2073 non-null object\n",
      "jpg_url                       2073 non-null object\n",
      "img_num                       2073 non-null object\n",
      "p1                            2073 non-null object\n",
      "p1_conf                       2073 non-null object\n",
      "p1_dog                        2073 non-null object\n",
      "p2                            2073 non-null object\n",
      "p2_conf                       2073 non-null object\n",
      "p2_dog                        2073 non-null object\n",
      "p3                            2073 non-null object\n",
      "p3_conf                       2073 non-null object\n",
      "p3_dog                        2073 non-null object\n",
      "dtypes: bool(4), float64(6), int64(6), object(36)\n",
      "memory usage: 801.7+ KB\n"
     ]
    }
   ],
   "source": [
    "# Merge both dataframes.\n",
    "df = df.merge(df_tweet, left_on='tweet_id',right_on='id')\n",
    "df = df.merge(df_predictions, left_on='tweet_id', right_on='tweet_id')\n",
    "df.info()"
   ]
  },
  {
   "cell_type": "markdown",
   "metadata": {},
   "source": [
    "### Quality issues\n",
    "#### Merged Table\n",
    "1. **Completeness issues**. Some columns in the table do have 2356 non-null entries while other have less, down to 78 non-null entries. Some null values are represented as strings instead of NaN. \n",
    "\n",
    "2. **Datatype issue**: The *timestamp* and *retweeted_status_timestamp* columns should be of the type datetime instead of object. \n",
    "\n",
    "3. **Data Consistency**: The *source_x* column should be categorical and contain Twitter for iPhone, Twitter Web Client, Vine and TweetDeck instead of an anchor tag.\n",
    "\n",
    "4. **Data Validity**: The *name* column contains names with lowercase letters. Right names can not be determined from the text column.\n",
    "\n",
    "5. **Datatype issue**: The *doggo*, *floofer*, *pupper* and *puppo* columns should not be of type object. They should be of type boolean. NaN values do not represent missing values. These columsn should also be joined into a single column (tidiness).\n",
    "\n",
    "6. **Datatype issue**: The *lang* column should be of datatype category.\n",
    "\n",
    "7. **Datatype consistency**: Some missing values are represented as None instead of NaN. This is inconsistency and NaN was chosen as it works better with numerical values. \n",
    "\n",
    "8. **Data Validity**: The *display_text_range* holds record of the length of each text. This is better displayed as a length of the text.\n",
    "\n",
    "9. **Datatype issue**: Further proper datatype conversions needed.\n"
   ]
  },
  {
   "cell_type": "markdown",
   "metadata": {
    "extensions": {
     "jupyter_dashboards": {
      "version": 1,
      "views": {
       "grid_default": {
        "col": 0,
        "height": 7,
        "hidden": false,
        "row": 40,
        "width": 12
       },
       "report_default": {
        "hidden": false
       }
      }
     }
    }
   },
   "source": [
    "### Tidiness issues\n",
    "#### Merged Table\n",
    "\n",
    "1. **Each variable should form a column**: Remove columns like *id_str* contains repeated or redundant information.\n",
    "\n",
    "2. **Each variable should form a column**: The *doggo*, *puppy*, *floofer* and *pupper* should be in a single *stage* column with the column names as values.\n",
    "\n",
    "3. **Each variable should form a column**: Remove columns which contain dictionaries. Each dictonary holds multible values. "
   ]
  },
  {
   "cell_type": "markdown",
   "metadata": {
    "extensions": {
     "jupyter_dashboards": {
      "version": 1,
      "views": {
       "grid_default": {
        "col": 4,
        "height": 4,
        "hidden": false,
        "row": 32,
        "width": 4
       },
       "report_default": {
        "hidden": false
       }
      }
     }
    }
   },
   "source": [
    "## Cleaning Data\n",
    "In this section, clean **all** of the issues you documented while assessing. \n",
    "\n",
    "**Note:** Make a copy of the original data before cleaning. Cleaning includes merging individual pieces of data according to the rules of [tidy data](https://cran.r-project.org/web/packages/tidyr/vignettes/tidy-data.html). The result should be a high-quality and tidy master pandas DataFrame (or DataFrames, if appropriate)."
   ]
  },
  {
   "cell_type": "code",
   "execution_count": 5,
   "metadata": {},
   "outputs": [
    {
     "data": {
      "text/html": [
       "<div>\n",
       "<style scoped>\n",
       "    .dataframe tbody tr th:only-of-type {\n",
       "        vertical-align: middle;\n",
       "    }\n",
       "\n",
       "    .dataframe tbody tr th {\n",
       "        vertical-align: top;\n",
       "    }\n",
       "\n",
       "    .dataframe thead th {\n",
       "        text-align: right;\n",
       "    }\n",
       "</style>\n",
       "<table border=\"1\" class=\"dataframe\">\n",
       "  <thead>\n",
       "    <tr style=\"text-align: right;\">\n",
       "      <th></th>\n",
       "      <th>tweet_id</th>\n",
       "      <th>in_reply_to_status_id_x</th>\n",
       "      <th>in_reply_to_user_id_x</th>\n",
       "      <th>timestamp</th>\n",
       "      <th>source_x</th>\n",
       "      <th>text</th>\n",
       "      <th>retweeted_status_id</th>\n",
       "      <th>retweeted_status_user_id</th>\n",
       "      <th>retweeted_status_timestamp</th>\n",
       "      <th>expanded_urls</th>\n",
       "      <th>...</th>\n",
       "      <th>img_num</th>\n",
       "      <th>p1</th>\n",
       "      <th>p1_conf</th>\n",
       "      <th>p1_dog</th>\n",
       "      <th>p2</th>\n",
       "      <th>p2_conf</th>\n",
       "      <th>p2_dog</th>\n",
       "      <th>p3</th>\n",
       "      <th>p3_conf</th>\n",
       "      <th>p3_dog</th>\n",
       "    </tr>\n",
       "  </thead>\n",
       "  <tbody>\n",
       "    <tr>\n",
       "      <th>0</th>\n",
       "      <td>892420643555336193</td>\n",
       "      <td>NaN</td>\n",
       "      <td>NaN</td>\n",
       "      <td>2017-08-01 16:23:56 +0000</td>\n",
       "      <td>&lt;a href=\"http://twitter.com/download/iphone\" r...</td>\n",
       "      <td>This is Phineas. He's a mystical boy. Only eve...</td>\n",
       "      <td>NaN</td>\n",
       "      <td>NaN</td>\n",
       "      <td>NaN</td>\n",
       "      <td>https://twitter.com/dog_rates/status/892420643...</td>\n",
       "      <td>...</td>\n",
       "      <td>1</td>\n",
       "      <td>orange</td>\n",
       "      <td>0.09704860000000001</td>\n",
       "      <td>False</td>\n",
       "      <td>bagel</td>\n",
       "      <td>0.08585110000000001</td>\n",
       "      <td>False</td>\n",
       "      <td>banana</td>\n",
       "      <td>0.07611</td>\n",
       "      <td>False</td>\n",
       "    </tr>\n",
       "    <tr>\n",
       "      <th>1</th>\n",
       "      <td>892177421306343426</td>\n",
       "      <td>NaN</td>\n",
       "      <td>NaN</td>\n",
       "      <td>2017-08-01 00:17:27 +0000</td>\n",
       "      <td>&lt;a href=\"http://twitter.com/download/iphone\" r...</td>\n",
       "      <td>This is Tilly. She's just checking pup on you....</td>\n",
       "      <td>NaN</td>\n",
       "      <td>NaN</td>\n",
       "      <td>NaN</td>\n",
       "      <td>https://twitter.com/dog_rates/status/892177421...</td>\n",
       "      <td>...</td>\n",
       "      <td>1</td>\n",
       "      <td>Chihuahua</td>\n",
       "      <td>0.323581</td>\n",
       "      <td>True</td>\n",
       "      <td>Pekinese</td>\n",
       "      <td>0.0906465</td>\n",
       "      <td>True</td>\n",
       "      <td>papillon</td>\n",
       "      <td>0.0689569</td>\n",
       "      <td>True</td>\n",
       "    </tr>\n",
       "    <tr>\n",
       "      <th>2</th>\n",
       "      <td>891815181378084864</td>\n",
       "      <td>NaN</td>\n",
       "      <td>NaN</td>\n",
       "      <td>2017-07-31 00:18:03 +0000</td>\n",
       "      <td>&lt;a href=\"http://twitter.com/download/iphone\" r...</td>\n",
       "      <td>This is Archie. He is a rare Norwegian Pouncin...</td>\n",
       "      <td>NaN</td>\n",
       "      <td>NaN</td>\n",
       "      <td>NaN</td>\n",
       "      <td>https://twitter.com/dog_rates/status/891815181...</td>\n",
       "      <td>...</td>\n",
       "      <td>1</td>\n",
       "      <td>Chihuahua</td>\n",
       "      <td>0.716012</td>\n",
       "      <td>True</td>\n",
       "      <td>malamute</td>\n",
       "      <td>0.078253</td>\n",
       "      <td>True</td>\n",
       "      <td>kelpie</td>\n",
       "      <td>0.0313789</td>\n",
       "      <td>True</td>\n",
       "    </tr>\n",
       "    <tr>\n",
       "      <th>3</th>\n",
       "      <td>891689557279858688</td>\n",
       "      <td>NaN</td>\n",
       "      <td>NaN</td>\n",
       "      <td>2017-07-30 15:58:51 +0000</td>\n",
       "      <td>&lt;a href=\"http://twitter.com/download/iphone\" r...</td>\n",
       "      <td>This is Darla. She commenced a snooze mid meal...</td>\n",
       "      <td>NaN</td>\n",
       "      <td>NaN</td>\n",
       "      <td>NaN</td>\n",
       "      <td>https://twitter.com/dog_rates/status/891689557...</td>\n",
       "      <td>...</td>\n",
       "      <td>1</td>\n",
       "      <td>paper_towel</td>\n",
       "      <td>0.17027799999999998</td>\n",
       "      <td>False</td>\n",
       "      <td>Labrador_retriever</td>\n",
       "      <td>0.16808599999999999</td>\n",
       "      <td>True</td>\n",
       "      <td>spatula</td>\n",
       "      <td>0.0408359</td>\n",
       "      <td>False</td>\n",
       "    </tr>\n",
       "    <tr>\n",
       "      <th>4</th>\n",
       "      <td>891327558926688256</td>\n",
       "      <td>NaN</td>\n",
       "      <td>NaN</td>\n",
       "      <td>2017-07-29 16:00:24 +0000</td>\n",
       "      <td>&lt;a href=\"http://twitter.com/download/iphone\" r...</td>\n",
       "      <td>This is Franklin. He would like you to stop ca...</td>\n",
       "      <td>NaN</td>\n",
       "      <td>NaN</td>\n",
       "      <td>NaN</td>\n",
       "      <td>https://twitter.com/dog_rates/status/891327558...</td>\n",
       "      <td>...</td>\n",
       "      <td>2</td>\n",
       "      <td>basset</td>\n",
       "      <td>0.555712</td>\n",
       "      <td>True</td>\n",
       "      <td>English_springer</td>\n",
       "      <td>0.22576999999999997</td>\n",
       "      <td>True</td>\n",
       "      <td>German_short-haired_pointer</td>\n",
       "      <td>0.175219</td>\n",
       "      <td>True</td>\n",
       "    </tr>\n",
       "  </tbody>\n",
       "</table>\n",
       "<p>5 rows × 52 columns</p>\n",
       "</div>"
      ],
      "text/plain": [
       "             tweet_id  in_reply_to_status_id_x  in_reply_to_user_id_x  \\\n",
       "0  892420643555336193                      NaN                    NaN   \n",
       "1  892177421306343426                      NaN                    NaN   \n",
       "2  891815181378084864                      NaN                    NaN   \n",
       "3  891689557279858688                      NaN                    NaN   \n",
       "4  891327558926688256                      NaN                    NaN   \n",
       "\n",
       "                   timestamp  \\\n",
       "0  2017-08-01 16:23:56 +0000   \n",
       "1  2017-08-01 00:17:27 +0000   \n",
       "2  2017-07-31 00:18:03 +0000   \n",
       "3  2017-07-30 15:58:51 +0000   \n",
       "4  2017-07-29 16:00:24 +0000   \n",
       "\n",
       "                                            source_x  \\\n",
       "0  <a href=\"http://twitter.com/download/iphone\" r...   \n",
       "1  <a href=\"http://twitter.com/download/iphone\" r...   \n",
       "2  <a href=\"http://twitter.com/download/iphone\" r...   \n",
       "3  <a href=\"http://twitter.com/download/iphone\" r...   \n",
       "4  <a href=\"http://twitter.com/download/iphone\" r...   \n",
       "\n",
       "                                                text  retweeted_status_id  \\\n",
       "0  This is Phineas. He's a mystical boy. Only eve...                  NaN   \n",
       "1  This is Tilly. She's just checking pup on you....                  NaN   \n",
       "2  This is Archie. He is a rare Norwegian Pouncin...                  NaN   \n",
       "3  This is Darla. She commenced a snooze mid meal...                  NaN   \n",
       "4  This is Franklin. He would like you to stop ca...                  NaN   \n",
       "\n",
       "   retweeted_status_user_id retweeted_status_timestamp  \\\n",
       "0                       NaN                        NaN   \n",
       "1                       NaN                        NaN   \n",
       "2                       NaN                        NaN   \n",
       "3                       NaN                        NaN   \n",
       "4                       NaN                        NaN   \n",
       "\n",
       "                                       expanded_urls  ...    img_num  \\\n",
       "0  https://twitter.com/dog_rates/status/892420643...  ...          1   \n",
       "1  https://twitter.com/dog_rates/status/892177421...  ...          1   \n",
       "2  https://twitter.com/dog_rates/status/891815181...  ...          1   \n",
       "3  https://twitter.com/dog_rates/status/891689557...  ...          1   \n",
       "4  https://twitter.com/dog_rates/status/891327558...  ...          2   \n",
       "\n",
       "            p1              p1_conf p1_dog                  p2  \\\n",
       "0       orange  0.09704860000000001  False               bagel   \n",
       "1    Chihuahua             0.323581   True            Pekinese   \n",
       "2    Chihuahua             0.716012   True            malamute   \n",
       "3  paper_towel  0.17027799999999998  False  Labrador_retriever   \n",
       "4       basset             0.555712   True    English_springer   \n",
       "\n",
       "               p2_conf p2_dog                           p3    p3_conf p3_dog  \n",
       "0  0.08585110000000001  False                       banana    0.07611  False  \n",
       "1            0.0906465   True                     papillon  0.0689569   True  \n",
       "2             0.078253   True                       kelpie  0.0313789   True  \n",
       "3  0.16808599999999999   True                      spatula  0.0408359  False  \n",
       "4  0.22576999999999997   True  German_short-haired_pointer   0.175219   True  \n",
       "\n",
       "[5 rows x 52 columns]"
      ]
     },
     "execution_count": 5,
     "metadata": {},
     "output_type": "execute_result"
    }
   ],
   "source": [
    "# Make copies of original pieces of data\n",
    "df_copy = df.copy()\n",
    "df_copy.head()\n"
   ]
  },
  {
   "cell_type": "markdown",
   "metadata": {},
   "source": [
    "### Issue #1:"
   ]
  },
  {
   "cell_type": "markdown",
   "metadata": {},
   "source": [
    "#### Define: Replace all None strings with NaN."
   ]
  },
  {
   "cell_type": "markdown",
   "metadata": {},
   "source": [
    "#### Code"
   ]
  },
  {
   "cell_type": "code",
   "execution_count": 6,
   "metadata": {},
   "outputs": [],
   "source": [
    "df_copy.replace('None',np.nan,inplace=True)\n"
   ]
  },
  {
   "cell_type": "markdown",
   "metadata": {},
   "source": [
    "#### Test"
   ]
  },
  {
   "cell_type": "code",
   "execution_count": 7,
   "metadata": {},
   "outputs": [
    {
     "name": "stdout",
     "output_type": "stream",
     "text": [
      "[nan 'puppo'] [nan 'pupper'] [nan 'floofer'] [nan 'pupper']\n"
     ]
    }
   ],
   "source": [
    "# These columns: doggo, floofer, pupper, puppo should only contain their \n",
    "# column name as a proper value.\n",
    "print(df_copy['puppo'].unique(), df_copy['pupper'].unique(), df_copy['floofer'].unique(),df_copy['pupper'].unique())\n"
   ]
  },
  {
   "cell_type": "markdown",
   "metadata": {},
   "source": [
    "### Issue #2:"
   ]
  },
  {
   "cell_type": "markdown",
   "metadata": {
    "collapsed": true,
    "extensions": {
     "jupyter_dashboards": {
      "version": 1,
      "views": {
       "grid_default": {
        "hidden": true
       },
       "report_default": {
        "hidden": true
       }
      }
     }
    }
   },
   "source": [
    "#### Define\n",
    "The timestamp and retweeted_status_timestamp columns should be of the type datetime instead of object."
   ]
  },
  {
   "cell_type": "markdown",
   "metadata": {},
   "source": [
    "#### Code"
   ]
  },
  {
   "cell_type": "code",
   "execution_count": 8,
   "metadata": {},
   "outputs": [],
   "source": [
    "df_copy['timestamp'] = pd.to_datetime(df_copy['timestamp'])\n",
    "df_copy['retweeted_status_timestamp'] = pd.to_datetime(df_copy['timestamp'])\n"
   ]
  },
  {
   "cell_type": "markdown",
   "metadata": {},
   "source": [
    "#### Test"
   ]
  },
  {
   "cell_type": "code",
   "execution_count": 9,
   "metadata": {},
   "outputs": [
    {
     "data": {
      "text/plain": [
       "tweet_id                               int64\n",
       "in_reply_to_status_id_x              float64\n",
       "in_reply_to_user_id_x                float64\n",
       "timestamp                     datetime64[ns]\n",
       "source_x                              object\n",
       "text                                  object\n",
       "retweeted_status_id                  float64\n",
       "retweeted_status_user_id             float64\n",
       "retweeted_status_timestamp    datetime64[ns]\n",
       "expanded_urls                         object\n",
       "rating_numerator                       int64\n",
       "rating_denominator                     int64\n",
       "name                                  object\n",
       "doggo                                 object\n",
       "floofer                               object\n",
       "pupper                                object\n",
       "puppo                                 object\n",
       "created_at                            object\n",
       "id                                     int64\n",
       "id_str                                object\n",
       "full_text                             object\n",
       "truncated                               bool\n",
       "display_text_range                    object\n",
       "entities                              object\n",
       "source_y                              object\n",
       "in_reply_to_status_id_y              float64\n",
       "in_reply_to_status_id_str             object\n",
       "in_reply_to_user_id_y                float64\n",
       "in_reply_to_user_id_str               object\n",
       "in_reply_to_screen_name               object\n",
       "user                                  object\n",
       "geo                                   object\n",
       "coordinates                           object\n",
       "place                                 object\n",
       "contributors                          object\n",
       "is_quote_status                         bool\n",
       "retweet_count                          int64\n",
       "favorite_count                         int64\n",
       "favorited                               bool\n",
       "retweeted                               bool\n",
       "lang                                  object\n",
       "jpg_url                               object\n",
       "img_num                               object\n",
       "p1                                    object\n",
       "p1_conf                               object\n",
       "p1_dog                                object\n",
       "p2                                    object\n",
       "p2_conf                               object\n",
       "p2_dog                                object\n",
       "p3                                    object\n",
       "p3_conf                               object\n",
       "p3_dog                                object\n",
       "dtype: object"
      ]
     },
     "execution_count": 9,
     "metadata": {},
     "output_type": "execute_result"
    }
   ],
   "source": [
    "# timestamp and retweeted_status_timestamp do have datetype datetime.\n",
    "df_copy.dtypes"
   ]
  },
  {
   "cell_type": "markdown",
   "metadata": {},
   "source": [
    "### Issue #3:"
   ]
  },
  {
   "cell_type": "markdown",
   "metadata": {},
   "source": [
    "#### Define\n",
    "The *source* column should be categorical and contain Twitter for iPhone, Twitter Web Client, Vine and TweetDeck instead of an anchor tag."
   ]
  },
  {
   "cell_type": "markdown",
   "metadata": {},
   "source": [
    "#### Code"
   ]
  },
  {
   "cell_type": "code",
   "execution_count": 10,
   "metadata": {},
   "outputs": [],
   "source": [
    "df_copy['source_x'].unique()\n",
    "df_copy['source_x'].replace(['<a href=\"http://twitter.com/download/iphone\" rel=\"nofollow\">Twitter for iPhone</a>',\n",
    "       '<a href=\"http://twitter.com\" rel=\"nofollow\">Twitter Web Client</a>',\n",
    "       '<a href=\"http://vine.co\" rel=\"nofollow\">Vine - Make a Scene</a>',\n",
    "       '<a href=\"https://about.twitter.com/products/tweetdeck\" rel=\"nofollow\">TweetDeck</a>'], ['Twitter for iphone',\n",
    "                                                                                                'Twitter Web Client',\n",
    "                                                                                               'Vine','TweetDeck'],\n",
    "                          inplace=True)\n",
    "df_copy['source_x']=df_copy['source_x'].astype('category')"
   ]
  },
  {
   "cell_type": "markdown",
   "metadata": {},
   "source": [
    "#### Test"
   ]
  },
  {
   "cell_type": "code",
   "execution_count": 11,
   "metadata": {
    "scrolled": true
   },
   "outputs": [
    {
     "data": {
      "text/plain": [
       "tweet_id                               int64\n",
       "in_reply_to_status_id_x              float64\n",
       "in_reply_to_user_id_x                float64\n",
       "timestamp                     datetime64[ns]\n",
       "source_x                            category\n",
       "text                                  object\n",
       "retweeted_status_id                  float64\n",
       "retweeted_status_user_id             float64\n",
       "retweeted_status_timestamp    datetime64[ns]\n",
       "expanded_urls                         object\n",
       "rating_numerator                       int64\n",
       "rating_denominator                     int64\n",
       "name                                  object\n",
       "doggo                                 object\n",
       "floofer                               object\n",
       "pupper                                object\n",
       "puppo                                 object\n",
       "created_at                            object\n",
       "id                                     int64\n",
       "id_str                                object\n",
       "full_text                             object\n",
       "truncated                               bool\n",
       "display_text_range                    object\n",
       "entities                              object\n",
       "source_y                              object\n",
       "in_reply_to_status_id_y              float64\n",
       "in_reply_to_status_id_str             object\n",
       "in_reply_to_user_id_y                float64\n",
       "in_reply_to_user_id_str               object\n",
       "in_reply_to_screen_name               object\n",
       "user                                  object\n",
       "geo                                   object\n",
       "coordinates                           object\n",
       "place                                 object\n",
       "contributors                          object\n",
       "is_quote_status                         bool\n",
       "retweet_count                          int64\n",
       "favorite_count                         int64\n",
       "favorited                               bool\n",
       "retweeted                               bool\n",
       "lang                                  object\n",
       "jpg_url                               object\n",
       "img_num                               object\n",
       "p1                                    object\n",
       "p1_conf                               object\n",
       "p1_dog                                object\n",
       "p2                                    object\n",
       "p2_conf                               object\n",
       "p2_dog                                object\n",
       "p3                                    object\n",
       "p3_conf                               object\n",
       "p3_dog                                object\n",
       "dtype: object"
      ]
     },
     "execution_count": 11,
     "metadata": {},
     "output_type": "execute_result"
    }
   ],
   "source": [
    "df_copy.dtypes\n",
    "#df_copy.sample(5)"
   ]
  },
  {
   "cell_type": "markdown",
   "metadata": {},
   "source": [
    "### Issue #4:"
   ]
  },
  {
   "cell_type": "markdown",
   "metadata": {},
   "source": [
    "#### Define\n",
    "The *name* column contains names with lowercase letters. Right names can not be determined from the text column. Replace these words with NaN"
   ]
  },
  {
   "cell_type": "markdown",
   "metadata": {},
   "source": [
    "#### Code\n"
   ]
  },
  {
   "cell_type": "code",
   "execution_count": 12,
   "metadata": {},
   "outputs": [
    {
     "name": "stdout",
     "output_type": "stream",
     "text": [
      "['quite', 'one', 'infuriating', 'such', 'just', 'not', 'light', 'all', 'officially', 'the', 'getting', 'his', 'space', 'actually', 'unacceptable', 'a', 'incredibly', 'by', 'very', 'this', 'my', 'an']\n"
     ]
    }
   ],
   "source": [
    "lower_case_names = list(set(df_copy[(df_copy.name != np.nan) & df_copy.name.str.islower()].name))\n",
    "print(lower_case_names)\n",
    "df_copy['name']=df_copy.name.replace(lower_case_names,None)"
   ]
  },
  {
   "cell_type": "markdown",
   "metadata": {},
   "source": [
    "#### Test"
   ]
  },
  {
   "cell_type": "code",
   "execution_count": 13,
   "metadata": {},
   "outputs": [
    {
     "data": {
      "text/plain": [
       "array([False], dtype=bool)"
      ]
     },
     "execution_count": 13,
     "metadata": {},
     "output_type": "execute_result"
    }
   ],
   "source": [
    "# No row contains a name that starts with lower letters.\n",
    "df_copy.name.str.islower().fillna(False).unique()"
   ]
  },
  {
   "cell_type": "markdown",
   "metadata": {},
   "source": [
    "### Issue #5:"
   ]
  },
  {
   "cell_type": "markdown",
   "metadata": {},
   "source": [
    "#### Define\n",
    "\n",
    "\n",
    "The *doggo*, *floofer*, *pupper* and *puppo* columns should be of the type boolean instead of object. NaN values do not represent missing values. These columsn should also be joined into a single column (tidiness)."
   ]
  },
  {
   "cell_type": "code",
   "execution_count": 14,
   "metadata": {},
   "outputs": [],
   "source": [
    "#### Code\n",
    "stages = ['doggo','floofer','pupper','puppo']\n",
    "for i in stages:\n",
    "    df_copy[i] = df_copy[i].fillna(False)\n",
    "    df_copy[i] = df_copy[i].replace(i,True)\n",
    "    df_copy[i] = df_copy[i].astype(bool)"
   ]
  },
  {
   "cell_type": "markdown",
   "metadata": {},
   "source": [
    "#### Test"
   ]
  },
  {
   "cell_type": "code",
   "execution_count": 15,
   "metadata": {},
   "outputs": [
    {
     "name": "stdout",
     "output_type": "stream",
     "text": [
      "[False  True] [False  True] [False  True] [False  True]\n"
     ]
    }
   ],
   "source": [
    "print(df_copy['puppo'].unique(), df_copy['pupper'].unique(), df_copy['floofer'].unique(),df_copy['pupper'].unique())\n"
   ]
  },
  {
   "cell_type": "markdown",
   "metadata": {},
   "source": [
    "### Issue #6:"
   ]
  },
  {
   "cell_type": "markdown",
   "metadata": {},
   "source": [
    "#### Define\n",
    "The *lang* column should be of datatype category."
   ]
  },
  {
   "cell_type": "markdown",
   "metadata": {},
   "source": [
    "#### Code"
   ]
  },
  {
   "cell_type": "code",
   "execution_count": 16,
   "metadata": {},
   "outputs": [],
   "source": [
    "df_copy['lang'] = df_copy.lang.astype('category');"
   ]
  },
  {
   "cell_type": "markdown",
   "metadata": {},
   "source": [
    "#### Test"
   ]
  },
  {
   "cell_type": "code",
   "execution_count": 17,
   "metadata": {},
   "outputs": [
    {
     "data": {
      "text/plain": [
       "CategoricalDtype(categories=['en', 'et', 'eu', 'in', 'nl', 'ro'], ordered=False)"
      ]
     },
     "execution_count": 17,
     "metadata": {},
     "output_type": "execute_result"
    }
   ],
   "source": [
    "df_copy.lang.dtype"
   ]
  },
  {
   "cell_type": "markdown",
   "metadata": {},
   "source": [
    "### Issue #7"
   ]
  },
  {
   "cell_type": "markdown",
   "metadata": {},
   "source": [
    "#### Define\n",
    "\n",
    "Some missing values are represented as None instead of NaN.\n",
    "\n",
    "#### Coding"
   ]
  },
  {
   "cell_type": "code",
   "execution_count": 18,
   "metadata": {},
   "outputs": [],
   "source": [
    "df_copy.fillna(value=np.nan,inplace=True)"
   ]
  },
  {
   "cell_type": "markdown",
   "metadata": {},
   "source": [
    "#### Test"
   ]
  },
  {
   "cell_type": "code",
   "execution_count": 19,
   "metadata": {},
   "outputs": [
    {
     "data": {
      "text/plain": [
       "array([ nan])"
      ]
     },
     "execution_count": 19,
     "metadata": {},
     "output_type": "execute_result"
    }
   ],
   "source": [
    "# The geo column only contains nan value.\n",
    "df_copy.geo.unique()"
   ]
  },
  {
   "cell_type": "markdown",
   "metadata": {},
   "source": [
    "### Issue #8\n",
    "#### Define\n",
    "The *display_text_range* holds record of the length of each text. This is better displayed as a length of the text.\n",
    "#### Coding"
   ]
  },
  {
   "cell_type": "code",
   "execution_count": 20,
   "metadata": {},
   "outputs": [],
   "source": [
    "df_copy['text_length'] = df_copy['display_text_range'].apply(lambda x: x[1]+1)"
   ]
  },
  {
   "cell_type": "markdown",
   "metadata": {},
   "source": [
    "#### Test"
   ]
  },
  {
   "cell_type": "code",
   "execution_count": 21,
   "metadata": {},
   "outputs": [
    {
     "data": {
      "text/plain": [
       "893      55\n",
       "69      138\n",
       "1140     66\n",
       "627      90\n",
       "1408     68\n",
       "Name: text_length, dtype: int64"
      ]
     },
     "execution_count": 21,
     "metadata": {},
     "output_type": "execute_result"
    }
   ],
   "source": [
    "# A new column with the length of each text does exist.\n",
    "df_copy['text_length'].dtype\n",
    "df_copy.text_length.sample(5)"
   ]
  },
  {
   "cell_type": "markdown",
   "metadata": {},
   "source": [
    "### Issue #9\n",
    "#### Define\n",
    "Further proper datatype conversions needed.\n",
    "#### Coding"
   ]
  },
  {
   "cell_type": "code",
   "execution_count": 22,
   "metadata": {},
   "outputs": [],
   "source": [
    "\n",
    "df_copy['img_num'] = df_copy['img_num'].astype('int64')\n",
    "df_copy['p1_conf'] = df_copy['p1_conf'].astype('float64')\n",
    "df_copy['p2_conf'] = df_copy['p2_conf'].astype('float64')\n",
    "df_copy['p3_conf'] = df_copy['p3_conf'].astype('float64')\n",
    "df_copy['p1_dog'] = df_copy['p1_dog'].astype('bool')\n",
    "df_copy['p2_dog'] = df_copy['p2_dog'].astype('bool')\n",
    "df_copy['p3_dog'] = df_copy['p3_dog'].astype('bool')"
   ]
  },
  {
   "cell_type": "markdown",
   "metadata": {},
   "source": [
    "#### Testing"
   ]
  },
  {
   "cell_type": "code",
   "execution_count": 23,
   "metadata": {},
   "outputs": [
    {
     "name": "stdout",
     "output_type": "stream",
     "text": [
      "<class 'pandas.core.frame.DataFrame'>\n",
      "Int64Index: 2073 entries, 0 to 2072\n",
      "Data columns (total 53 columns):\n",
      "tweet_id                      2073 non-null int64\n",
      "in_reply_to_status_id_x       23 non-null float64\n",
      "in_reply_to_user_id_x         23 non-null float64\n",
      "timestamp                     2073 non-null datetime64[ns]\n",
      "source_x                      2073 non-null category\n",
      "text                          2073 non-null object\n",
      "retweeted_status_id           79 non-null float64\n",
      "retweeted_status_user_id      79 non-null float64\n",
      "retweeted_status_timestamp    2073 non-null datetime64[ns]\n",
      "expanded_urls                 2073 non-null object\n",
      "rating_numerator              2073 non-null int64\n",
      "rating_denominator            2073 non-null int64\n",
      "name                          1457 non-null object\n",
      "doggo                         2073 non-null bool\n",
      "floofer                       2073 non-null bool\n",
      "pupper                        2073 non-null bool\n",
      "puppo                         2073 non-null bool\n",
      "created_at                    2073 non-null object\n",
      "id                            2073 non-null int64\n",
      "id_str                        2073 non-null object\n",
      "full_text                     2073 non-null object\n",
      "truncated                     2073 non-null bool\n",
      "display_text_range            2073 non-null object\n",
      "entities                      2073 non-null object\n",
      "source_y                      2073 non-null object\n",
      "in_reply_to_status_id_y       23 non-null float64\n",
      "in_reply_to_status_id_str     23 non-null object\n",
      "in_reply_to_user_id_y         23 non-null float64\n",
      "in_reply_to_user_id_str       23 non-null object\n",
      "in_reply_to_screen_name       23 non-null object\n",
      "user                          2073 non-null object\n",
      "geo                           0 non-null float64\n",
      "coordinates                   0 non-null float64\n",
      "place                         1 non-null object\n",
      "contributors                  0 non-null float64\n",
      "is_quote_status               2073 non-null bool\n",
      "retweet_count                 2073 non-null int64\n",
      "favorite_count                2073 non-null int64\n",
      "favorited                     2073 non-null bool\n",
      "retweeted                     2073 non-null bool\n",
      "lang                          2073 non-null category\n",
      "jpg_url                       2073 non-null object\n",
      "img_num                       2073 non-null int64\n",
      "p1                            2073 non-null object\n",
      "p1_conf                       2073 non-null float64\n",
      "p1_dog                        2073 non-null bool\n",
      "p2                            2073 non-null object\n",
      "p2_conf                       2073 non-null float64\n",
      "p2_dog                        2073 non-null bool\n",
      "p3                            2073 non-null object\n",
      "p3_conf                       2073 non-null float64\n",
      "p3_dog                        2073 non-null bool\n",
      "text_length                   2073 non-null int64\n",
      "dtypes: bool(11), category(2), datetime64[ns](2), float64(12), int64(8), object(18)\n",
      "memory usage: 690.6+ KB\n"
     ]
    }
   ],
   "source": [
    "df_copy.info()"
   ]
  },
  {
   "cell_type": "markdown",
   "metadata": {},
   "source": [
    "## Tidiness issues"
   ]
  },
  {
   "cell_type": "markdown",
   "metadata": {},
   "source": [
    "### Issue #1\n",
    "#### Define\n",
    "Remove columns like id_str contains repeated or redundant information.\n",
    "#### Coding"
   ]
  },
  {
   "cell_type": "code",
   "execution_count": 24,
   "metadata": {},
   "outputs": [],
   "source": [
    "#df_copy.info()\n",
    "#df_copy.source_x.equals(df_copy.source_y)\n",
    "\n",
    "# Drop all columns with repeated information.\n",
    "# Drop all columns which ar string representations of integers.\n",
    "# Drop all columns with zero non-null values.\n",
    "df_copy.text.equals(df_copy.full_text)\n",
    "df_copy.drop(columns=['source_y', \n",
    "                      'in_reply_to_status_id_y',\n",
    "                      'in_reply_to_user_id_y',\n",
    "                     'id',\n",
    "                     'id_str',\n",
    "                     'in_reply_to_status_id_str',\n",
    "                     'in_reply_to_user_id_str',\n",
    "                     'user','geo','contributors',\n",
    "                     'coordinates','created_at','display_text_range',\n",
    "                     'full_text'], axis=1,inplace=True)\n"
   ]
  },
  {
   "cell_type": "markdown",
   "metadata": {},
   "source": [
    "#### Test"
   ]
  },
  {
   "cell_type": "code",
   "execution_count": 25,
   "metadata": {},
   "outputs": [
    {
     "name": "stdout",
     "output_type": "stream",
     "text": [
      "<class 'pandas.core.frame.DataFrame'>\n",
      "Int64Index: 2073 entries, 0 to 2072\n",
      "Data columns (total 39 columns):\n",
      "tweet_id                      2073 non-null int64\n",
      "in_reply_to_status_id_x       23 non-null float64\n",
      "in_reply_to_user_id_x         23 non-null float64\n",
      "timestamp                     2073 non-null datetime64[ns]\n",
      "source_x                      2073 non-null category\n",
      "text                          2073 non-null object\n",
      "retweeted_status_id           79 non-null float64\n",
      "retweeted_status_user_id      79 non-null float64\n",
      "retweeted_status_timestamp    2073 non-null datetime64[ns]\n",
      "expanded_urls                 2073 non-null object\n",
      "rating_numerator              2073 non-null int64\n",
      "rating_denominator            2073 non-null int64\n",
      "name                          1457 non-null object\n",
      "doggo                         2073 non-null bool\n",
      "floofer                       2073 non-null bool\n",
      "pupper                        2073 non-null bool\n",
      "puppo                         2073 non-null bool\n",
      "truncated                     2073 non-null bool\n",
      "entities                      2073 non-null object\n",
      "in_reply_to_screen_name       23 non-null object\n",
      "place                         1 non-null object\n",
      "is_quote_status               2073 non-null bool\n",
      "retweet_count                 2073 non-null int64\n",
      "favorite_count                2073 non-null int64\n",
      "favorited                     2073 non-null bool\n",
      "retweeted                     2073 non-null bool\n",
      "lang                          2073 non-null category\n",
      "jpg_url                       2073 non-null object\n",
      "img_num                       2073 non-null int64\n",
      "p1                            2073 non-null object\n",
      "p1_conf                       2073 non-null float64\n",
      "p1_dog                        2073 non-null bool\n",
      "p2                            2073 non-null object\n",
      "p2_conf                       2073 non-null float64\n",
      "p2_dog                        2073 non-null bool\n",
      "p3                            2073 non-null object\n",
      "p3_conf                       2073 non-null float64\n",
      "p3_dog                        2073 non-null bool\n",
      "text_length                   2073 non-null int64\n",
      "dtypes: bool(11), category(2), datetime64[ns](2), float64(7), int64(7), object(10)\n",
      "memory usage: 463.9+ KB\n"
     ]
    }
   ],
   "source": [
    "df_copy.info()"
   ]
  },
  {
   "cell_type": "markdown",
   "metadata": {},
   "source": [
    "### Issue #2\n",
    "#### Define\n",
    "The doggo, puppy, floofer and pupper should be in a single stage column with the column names as values.\n",
    "#### Coding"
   ]
  },
  {
   "cell_type": "code",
   "execution_count": 26,
   "metadata": {},
   "outputs": [],
   "source": [
    "# Feel free to suggest shorter solution\n",
    "def convert_to_stage(l):\n",
    "    names = ['doggo','floofer','pupper','puppo']\n",
    "    return_list = []\n",
    "    for i in range(len(l)):\n",
    "        if l[i]: \n",
    "            return_list.append(names[i])\n",
    "    return '-'.join(return_list)\n",
    "\n",
    "df_copy['stage'] = df_copy[['doggo','floofer','pupper','puppo']].apply(lambda x: convert_to_stage(list(x.values)),axis=1)\n",
    "df_copy['stage'].replace('',np.nan,inplace=True)\n",
    "df_copy['stage'] = df_copy['stage'].astype('category')\n",
    "df_copy = df_copy.drop(columns=['doggo','floofer','pupper','puppo'])"
   ]
  },
  {
   "cell_type": "code",
   "execution_count": 27,
   "metadata": {},
   "outputs": [
    {
     "data": {
      "text/plain": [
       "[NaN, doggo, puppo, pupper, floofer, doggo-puppo, doggo-floofer, doggo-pupper]\n",
       "Categories (7, object): [doggo, puppo, pupper, floofer, doggo-puppo, doggo-floofer, doggo-pupper]"
      ]
     },
     "execution_count": 27,
     "metadata": {},
     "output_type": "execute_result"
    }
   ],
   "source": [
    "df_copy['stage'].unique()"
   ]
  },
  {
   "cell_type": "markdown",
   "metadata": {},
   "source": [
    "### Issue #3\n",
    "#### Define\n",
    "Remove columns which contain dictionaries. Each dictonary holds multible values.\n",
    "#### Coding"
   ]
  },
  {
   "cell_type": "code",
   "execution_count": 28,
   "metadata": {},
   "outputs": [
    {
     "name": "stdout",
     "output_type": "stream",
     "text": [
      "<class 'pandas.core.frame.DataFrame'>\n",
      "Int64Index: 2073 entries, 0 to 2072\n",
      "Data columns (total 36 columns):\n",
      "tweet_id                      2073 non-null int64\n",
      "in_reply_to_status_id_x       23 non-null float64\n",
      "in_reply_to_user_id_x         23 non-null float64\n",
      "timestamp                     2073 non-null datetime64[ns]\n",
      "source_x                      2073 non-null category\n",
      "text                          2073 non-null object\n",
      "retweeted_status_id           79 non-null float64\n",
      "retweeted_status_user_id      79 non-null float64\n",
      "retweeted_status_timestamp    2073 non-null datetime64[ns]\n",
      "expanded_urls                 2073 non-null object\n",
      "rating_numerator              2073 non-null int64\n",
      "rating_denominator            2073 non-null int64\n",
      "name                          1457 non-null object\n",
      "truncated                     2073 non-null bool\n",
      "entities                      2073 non-null object\n",
      "in_reply_to_screen_name       23 non-null object\n",
      "place                         1 non-null object\n",
      "is_quote_status               2073 non-null bool\n",
      "retweet_count                 2073 non-null int64\n",
      "favorite_count                2073 non-null int64\n",
      "favorited                     2073 non-null bool\n",
      "retweeted                     2073 non-null bool\n",
      "lang                          2073 non-null category\n",
      "jpg_url                       2073 non-null object\n",
      "img_num                       2073 non-null int64\n",
      "p1                            2073 non-null object\n",
      "p1_conf                       2073 non-null float64\n",
      "p1_dog                        2073 non-null bool\n",
      "p2                            2073 non-null object\n",
      "p2_conf                       2073 non-null float64\n",
      "p2_dog                        2073 non-null bool\n",
      "p3                            2073 non-null object\n",
      "p3_conf                       2073 non-null float64\n",
      "p3_dog                        2073 non-null bool\n",
      "text_length                   2073 non-null int64\n",
      "stage                         320 non-null category\n",
      "dtypes: bool(7), category(3), datetime64[ns](2), float64(7), int64(7), object(10)\n",
      "memory usage: 458.2+ KB\n"
     ]
    }
   ],
   "source": [
    "df_copy.info()"
   ]
  },
  {
   "cell_type": "code",
   "execution_count": 29,
   "metadata": {},
   "outputs": [
    {
     "name": "stdout",
     "output_type": "stream",
     "text": [
      "<class 'pandas.core.frame.DataFrame'>\n",
      "Int64Index: 2073 entries, 0 to 2072\n",
      "Data columns (total 34 columns):\n",
      "tweet_id                      2073 non-null int64\n",
      "in_reply_to_status_id_x       23 non-null float64\n",
      "in_reply_to_user_id_x         23 non-null float64\n",
      "timestamp                     2073 non-null datetime64[ns]\n",
      "source_x                      2073 non-null category\n",
      "text                          2073 non-null object\n",
      "retweeted_status_id           79 non-null float64\n",
      "retweeted_status_user_id      79 non-null float64\n",
      "retweeted_status_timestamp    2073 non-null datetime64[ns]\n",
      "expanded_urls                 2073 non-null object\n",
      "rating_numerator              2073 non-null int64\n",
      "rating_denominator            2073 non-null int64\n",
      "name                          1457 non-null object\n",
      "truncated                     2073 non-null bool\n",
      "in_reply_to_screen_name       23 non-null object\n",
      "is_quote_status               2073 non-null bool\n",
      "retweet_count                 2073 non-null int64\n",
      "favorite_count                2073 non-null int64\n",
      "favorited                     2073 non-null bool\n",
      "retweeted                     2073 non-null bool\n",
      "lang                          2073 non-null category\n",
      "jpg_url                       2073 non-null object\n",
      "img_num                       2073 non-null int64\n",
      "p1                            2073 non-null object\n",
      "p1_conf                       2073 non-null float64\n",
      "p1_dog                        2073 non-null bool\n",
      "p2                            2073 non-null object\n",
      "p2_conf                       2073 non-null float64\n",
      "p2_dog                        2073 non-null bool\n",
      "p3                            2073 non-null object\n",
      "p3_conf                       2073 non-null float64\n",
      "p3_dog                        2073 non-null bool\n",
      "text_length                   2073 non-null int64\n",
      "stage                         320 non-null category\n",
      "dtypes: bool(7), category(3), datetime64[ns](2), float64(7), int64(7), object(8)\n",
      "memory usage: 425.8+ KB\n"
     ]
    }
   ],
   "source": [
    "df_copy.drop(columns=['place','entities'],axis=1,inplace=True)\n",
    "df_copy.info()\n"
   ]
  },
  {
   "cell_type": "markdown",
   "metadata": {},
   "source": [
    "## Storing Data\n",
    "Save gathered, assessed, and cleaned master dataset to a CSV file named \"twitter_archive_master.csv\"."
   ]
  },
  {
   "cell_type": "code",
   "execution_count": 30,
   "metadata": {},
   "outputs": [],
   "source": [
    "df_copy.to_csv('twitter_archive_master.csv')"
   ]
  },
  {
   "cell_type": "markdown",
   "metadata": {},
   "source": [
    "## Analyzing and Visualizing Data\n",
    "In this section, analyze and visualize your wrangled data. You must produce at least **three (3) insights and one (1) visualization.**"
   ]
  },
  {
   "cell_type": "code",
   "execution_count": 31,
   "metadata": {},
   "outputs": [
    {
     "name": "stdout",
     "output_type": "stream",
     "text": [
      "<class 'pandas.core.frame.DataFrame'>\n",
      "RangeIndex: 2073 entries, 0 to 2072\n",
      "Data columns (total 34 columns):\n",
      "tweet_id                      2073 non-null int64\n",
      "in_reply_to_status_id_x       23 non-null float64\n",
      "in_reply_to_user_id_x         23 non-null float64\n",
      "timestamp                     2073 non-null object\n",
      "source_x                      2073 non-null object\n",
      "text                          2073 non-null object\n",
      "retweeted_status_id           79 non-null float64\n",
      "retweeted_status_user_id      79 non-null float64\n",
      "retweeted_status_timestamp    2073 non-null object\n",
      "expanded_urls                 2073 non-null object\n",
      "rating_numerator              2073 non-null int64\n",
      "rating_denominator            2073 non-null int64\n",
      "name                          1457 non-null object\n",
      "truncated                     2073 non-null bool\n",
      "in_reply_to_screen_name       23 non-null object\n",
      "is_quote_status               2073 non-null bool\n",
      "retweet_count                 2073 non-null int64\n",
      "favorite_count                2073 non-null int64\n",
      "favorited                     2073 non-null bool\n",
      "retweeted                     2073 non-null bool\n",
      "lang                          2073 non-null object\n",
      "jpg_url                       2073 non-null object\n",
      "img_num                       2073 non-null int64\n",
      "p1                            2073 non-null object\n",
      "p1_conf                       2073 non-null float64\n",
      "p1_dog                        2073 non-null bool\n",
      "p2                            2073 non-null object\n",
      "p2_conf                       2073 non-null float64\n",
      "p2_dog                        2073 non-null bool\n",
      "p3                            2073 non-null object\n",
      "p3_conf                       2073 non-null float64\n",
      "p3_dog                        2073 non-null bool\n",
      "text_length                   2073 non-null int64\n",
      "stage                         320 non-null object\n",
      "dtypes: bool(7), float64(7), int64(7), object(13)\n",
      "memory usage: 451.5+ KB\n"
     ]
    }
   ],
   "source": [
    "df = pd.read_csv('twitter_archive_master.csv')\n",
    "df = df.drop(columns=['Unnamed: 0'],axis=1)\n",
    "df.info()"
   ]
  },
  {
   "cell_type": "code",
   "execution_count": 32,
   "metadata": {},
   "outputs": [
    {
     "data": {
      "text/plain": [
       "source_x\n",
       "TweetDeck               11\n",
       "Twitter Web Client      30\n",
       "Twitter for iphone    2032\n",
       "Name: tweet_id, dtype: int64"
      ]
     },
     "execution_count": 32,
     "metadata": {},
     "output_type": "execute_result"
    }
   ],
   "source": [
    "df.groupby(['source_x']).tweet_id.count()"
   ]
  },
  {
   "cell_type": "code",
   "execution_count": 33,
   "metadata": {},
   "outputs": [
    {
     "data": {
      "text/plain": [
       "lang\n",
       "en    2065\n",
       "et       1\n",
       "eu       1\n",
       "in       2\n",
       "nl       3\n",
       "ro       1\n",
       "Name: tweet_id, dtype: int64"
      ]
     },
     "execution_count": 33,
     "metadata": {},
     "output_type": "execute_result"
    }
   ],
   "source": [
    "df.groupby(['lang']).tweet_id.count()"
   ]
  },
  {
   "cell_type": "code",
   "execution_count": 34,
   "metadata": {},
   "outputs": [
    {
     "data": {
      "text/plain": [
       "count     2073.000000\n",
       "mean      2976.089243\n",
       "std       5054.897526\n",
       "min         16.000000\n",
       "25%        634.000000\n",
       "50%       1408.000000\n",
       "75%       3443.000000\n",
       "max      79515.000000\n",
       "Name: retweet_count, dtype: float64"
      ]
     },
     "execution_count": 34,
     "metadata": {},
     "output_type": "execute_result"
    }
   ],
   "source": [
    "df['retweet_count'].describe()"
   ]
  },
  {
   "cell_type": "code",
   "execution_count": 35,
   "metadata": {},
   "outputs": [
    {
     "data": {
      "text/plain": [
       "59     45849\n",
       "209    56625\n",
       "329    48265\n",
       "355    42228\n",
       "358    42228\n",
       "432    56625\n",
       "851    79515\n",
       "886    52360\n",
       "Name: retweet_count, dtype: int64"
      ]
     },
     "execution_count": 35,
     "metadata": {},
     "output_type": "execute_result"
    }
   ],
   "source": [
    "df['retweet_count'][df['retweet_count'] > 40000]"
   ]
  },
  {
   "cell_type": "code",
   "execution_count": 36,
   "metadata": {},
   "outputs": [
    {
     "data": {
      "text/plain": [
       "0.7134587554269175"
      ]
     },
     "execution_count": 36,
     "metadata": {},
     "output_type": "execute_result"
    }
   ],
   "source": [
    "df['retweet_count'][df['retweet_count'] <= 2976].count()/2073"
   ]
  },
  {
   "cell_type": "code",
   "execution_count": 37,
   "metadata": {},
   "outputs": [
    {
     "data": {
      "text/plain": [
       "count      2073.000000\n",
       "mean       8556.718283\n",
       "std       12098.640994\n",
       "min           0.000000\n",
       "25%        1674.000000\n",
       "50%        3864.000000\n",
       "75%       10937.000000\n",
       "max      132810.000000\n",
       "Name: favorite_count, dtype: float64"
      ]
     },
     "execution_count": 37,
     "metadata": {},
     "output_type": "execute_result"
    }
   ],
   "source": [
    "df['favorite_count'].describe()"
   ]
  },
  {
   "cell_type": "code",
   "execution_count": 38,
   "metadata": {},
   "outputs": [
    {
     "data": {
      "text/plain": [
       "0.69126869271587077"
      ]
     },
     "execution_count": 38,
     "metadata": {},
     "output_type": "execute_result"
    }
   ],
   "source": [
    "df['favorite_count'][df['favorite_count'] <= 8556.718283].count()/2073"
   ]
  },
  {
   "cell_type": "markdown",
   "metadata": {},
   "source": [
    "### Insights:\n",
    "\n",
    "1. Almost all tweets are in english on an Twitter iPhone.\n",
    "\n",
    "2. The retweet_count has a right skew. The mean is more the double the median. This is because realitvely few tweets are retweeted very often.\n",
    "\n",
    "3. The favorite_count has even more right skewed than the retweet count."
   ]
  },
  {
   "cell_type": "markdown",
   "metadata": {
    "collapsed": true
   },
   "source": [
    "### Visualization"
   ]
  },
  {
   "cell_type": "code",
   "execution_count": 39,
   "metadata": {},
   "outputs": [
    {
     "data": {
      "text/plain": [
       "<matplotlib.axes._subplots.AxesSubplot at 0x7fc71479fe48>"
      ]
     },
     "execution_count": 39,
     "metadata": {},
     "output_type": "execute_result"
    }
   ],
   "source": [
    "df.plot.scatter(x='favorite_count',\n",
    "                y='retweet_count',\n",
    "                c='Blue', \n",
    "                title='Relationship between favorite_count and retweet_count',\n",
    "                figsize=(10,4))"
   ]
  },
  {
   "cell_type": "markdown",
   "metadata": {},
   "source": [
    "#### Remarks\n",
    "Some tweets have high retweet count but low favorite count (far left). Apart from the far left tweet that are often retweeted are often favorited."
   ]
  },
  {
   "cell_type": "code",
   "execution_count": 40,
   "metadata": {},
   "outputs": [
    {
     "data": {
      "text/plain": [
       "1.1636145626238581"
      ]
     },
     "execution_count": 40,
     "metadata": {},
     "output_type": "execute_result"
    }
   ],
   "source": [
    "# Pearson Mode Skewness\n",
    "3*(df['favorite_count'].mean()-df['favorite_count'].median())/df['favorite_count'].std()\n"
   ]
  },
  {
   "cell_type": "code",
   "execution_count": 41,
   "metadata": {},
   "outputs": [
    {
     "data": {
      "text/plain": [
       "0.93063562697034541"
      ]
     },
     "execution_count": 41,
     "metadata": {},
     "output_type": "execute_result"
    }
   ],
   "source": [
    "# Pearson Mode Skewness\n",
    "\n",
    "3*(df['retweet_count'].mean()-df['retweet_count'].median())/df['retweet_count'].std()\n",
    "\n"
   ]
  },
  {
   "cell_type": "code",
   "execution_count": 42,
   "metadata": {},
   "outputs": [
    {
     "data": {
      "text/plain": [
       "p1\n",
       "Afghan_hound                 0.017241\n",
       "seat_belt                    0.017241\n",
       "schipperke                   0.017241\n",
       "prison                       0.017241\n",
       "papillon                     0.017241\n",
       "mousetrap                    0.017241\n",
       "miniature_pinscher           0.017241\n",
       "malamute                     0.017241\n",
       "laptop                       0.017241\n",
       "ice_bear                     0.017241\n",
       "hippopotamus                 0.017241\n",
       "gas_pump                     0.017241\n",
       "dough                        0.017241\n",
       "dishwasher                   0.017241\n",
       "standard_poodle              0.017241\n",
       "dalmatian                    0.017241\n",
       "Lakeland_terrier             0.017241\n",
       "Arabian_camel                0.017241\n",
       "English_setter               0.017241\n",
       "Irish_setter                 0.017241\n",
       "Norwegian_elkhound           0.017241\n",
       "Saint_Bernard                0.017241\n",
       "upright                      0.017241\n",
       "Staffordshire_bullterrier    0.017241\n",
       "Tibetan_mastiff              0.017241\n",
       "brown_bear                   0.017241\n",
       "cash_machine                 0.017241\n",
       "pug                          0.034483\n",
       "Cardigan                     0.034483\n",
       "cocker_spaniel               0.034483\n",
       "chow                         0.051724\n",
       "Samoyed                      0.051724\n",
       "Chihuahua                    0.068966\n",
       "Labrador_retriever           0.086207\n",
       "golden_retriever             0.172414\n",
       "Name: tweet_id, dtype: float64"
      ]
     },
     "execution_count": 42,
     "metadata": {},
     "output_type": "execute_result"
    }
   ],
   "source": [
    "#far_left\n",
    "far_left = df_copy[(df_copy['favorite_count']==0) & (df_copy['retweet_count']>3443)]\n",
    "frequency = far_left.groupby('p1').count().tweet_id/far_left.groupby('p1').count().tweet_id.sum()\n",
    "frequency.sort_values()"
   ]
  },
  {
   "cell_type": "code",
   "execution_count": 44,
   "metadata": {},
   "outputs": [
    {
     "data": {
      "text/plain": [
       "p1\n",
       "grey_fox                     0.000482\n",
       "hare                         0.000482\n",
       "harp                         0.000482\n",
       "hay                          0.000482\n",
       "hotdog                       0.000482\n",
       "hummingbird                  0.000482\n",
       "ibex                         0.000482\n",
       "ice_lolly                    0.000482\n",
       "jersey                       0.000482\n",
       "killer_whale                 0.000482\n",
       "king_penguin                 0.000482\n",
       "lacewing                     0.000482\n",
       "lawn_mower                   0.000482\n",
       "leaf_beetle                  0.000482\n",
       "leopard                      0.000482\n",
       "handkerchief                 0.000482\n",
       "limousine                    0.000482\n",
       "long-horned_beetle           0.000482\n",
       "lorikeet                     0.000482\n",
       "loupe                        0.000482\n",
       "lynx                         0.000482\n",
       "mailbox                      0.000482\n",
       "maillot                      0.000482\n",
       "marmot                       0.000482\n",
       "maze                         0.000482\n",
       "microphone                   0.000482\n",
       "microwave                    0.000482\n",
       "military_uniform             0.000482\n",
       "minibus                      0.000482\n",
       "mortarboard                  0.000482\n",
       "                               ...   \n",
       "Italian_greyhound            0.007718\n",
       "kuvasz                       0.007718\n",
       "Shih-Tzu                     0.008201\n",
       "Rottweiler                   0.008201\n",
       "Lakeland_terrier             0.008201\n",
       "teddy                        0.008683\n",
       "Maltese_dog                  0.008683\n",
       "beagle                       0.008683\n",
       "Eskimo_dog                   0.008683\n",
       "Shetland_sheepdog            0.008683\n",
       "web_site                     0.009165\n",
       "Cardigan                     0.009165\n",
       "German_shepherd              0.009648\n",
       "Staffordshire_bullterrier    0.009648\n",
       "Siberian_husky               0.009648\n",
       "seat_belt                    0.010613\n",
       "Chesapeake_Bay_retriever     0.011095\n",
       "miniature_pinscher           0.011095\n",
       "French_bulldog               0.012542\n",
       "cocker_spaniel               0.014472\n",
       "malamute                     0.014472\n",
       "Pomeranian                   0.018331\n",
       "toy_poodle                   0.018813\n",
       "Samoyed                      0.020743\n",
       "chow                         0.021225\n",
       "pug                          0.027496\n",
       "Chihuahua                    0.040039\n",
       "Pembroke                     0.042451\n",
       "Labrador_retriever           0.048239\n",
       "golden_retriever             0.072359\n",
       "Name: tweet_id, Length: 378, dtype: float64"
      ]
     },
     "execution_count": 44,
     "metadata": {},
     "output_type": "execute_result"
    }
   ],
   "source": [
    "frequency = df_copy.groupby('p1').count().tweet_id/df_copy.groupby('p1').count().tweet_id.sum()\n",
    "frequency.sort_values()"
   ]
  },
  {
   "cell_type": "code",
   "execution_count": 45,
   "metadata": {},
   "outputs": [
    {
     "data": {
      "text/plain": [
       "text_length\n",
       "69     0.017241\n",
       "136    0.017241\n",
       "132    0.017241\n",
       "130    0.017241\n",
       "128    0.017241\n",
       "127    0.017241\n",
       "126    0.017241\n",
       "125    0.017241\n",
       "121    0.017241\n",
       "118    0.017241\n",
       "116    0.017241\n",
       "110    0.017241\n",
       "109    0.017241\n",
       "117    0.017241\n",
       "90     0.017241\n",
       "101    0.017241\n",
       "75     0.017241\n",
       "98     0.017241\n",
       "97     0.017241\n",
       "79     0.017241\n",
       "82     0.017241\n",
       "85     0.017241\n",
       "92     0.017241\n",
       "88     0.017241\n",
       "138    0.034483\n",
       "134    0.034483\n",
       "131    0.034483\n",
       "108    0.034483\n",
       "123    0.034483\n",
       "96     0.034483\n",
       "120    0.034483\n",
       "119    0.034483\n",
       "103    0.034483\n",
       "107    0.034483\n",
       "141    0.034483\n",
       "140    0.051724\n",
       "135    0.051724\n",
       "113    0.051724\n",
       "137    0.051724\n",
       "Name: tweet_id, dtype: float64"
      ]
     },
     "execution_count": 45,
     "metadata": {},
     "output_type": "execute_result"
    }
   ],
   "source": [
    "frequency = far_left.groupby('text_length').count().tweet_id/far_left.groupby('text_length').count().tweet_id.sum()\n",
    "frequency.sort_values()"
   ]
  },
  {
   "cell_type": "code",
   "execution_count": 46,
   "metadata": {},
   "outputs": [
    {
     "data": {
      "text/plain": [
       "text_length\n",
       "14     0.000482\n",
       "146    0.000482\n",
       "143    0.000482\n",
       "49     0.000482\n",
       "44     0.000482\n",
       "149    0.000482\n",
       "27     0.000482\n",
       "33     0.000482\n",
       "37     0.000482\n",
       "36     0.000482\n",
       "51     0.000965\n",
       "50     0.000965\n",
       "148    0.000965\n",
       "46     0.000965\n",
       "45     0.000965\n",
       "48     0.001447\n",
       "142    0.001447\n",
       "41     0.001447\n",
       "39     0.001447\n",
       "59     0.001447\n",
       "47     0.001930\n",
       "57     0.001930\n",
       "40     0.001930\n",
       "53     0.001930\n",
       "42     0.001930\n",
       "52     0.002412\n",
       "70     0.002412\n",
       "58     0.002412\n",
       "66     0.002894\n",
       "56     0.002894\n",
       "         ...   \n",
       "100    0.009648\n",
       "110    0.009648\n",
       "121    0.010130\n",
       "105    0.010130\n",
       "118    0.010613\n",
       "119    0.010613\n",
       "112    0.010613\n",
       "94     0.010613\n",
       "132    0.011095\n",
       "103    0.011095\n",
       "128    0.011577\n",
       "107    0.011577\n",
       "111    0.011577\n",
       "109    0.012060\n",
       "108    0.012542\n",
       "115    0.013507\n",
       "99     0.013507\n",
       "131    0.013507\n",
       "134    0.014954\n",
       "114    0.016401\n",
       "113    0.017366\n",
       "136    0.017849\n",
       "135    0.019778\n",
       "137    0.023155\n",
       "116    0.023637\n",
       "117    0.027979\n",
       "138    0.037627\n",
       "139    0.038591\n",
       "140    0.068017\n",
       "141    0.085866\n",
       "Name: tweet_id, Length: 114, dtype: float64"
      ]
     },
     "execution_count": 46,
     "metadata": {},
     "output_type": "execute_result"
    }
   ],
   "source": [
    "frequency = df_copy.groupby('text_length').count().tweet_id/df_copy.groupby('text_length').count().tweet_id.sum()\n",
    "frequency.sort_values()"
   ]
  },
  {
   "cell_type": "code",
   "execution_count": 64,
   "metadata": {},
   "outputs": [
    {
     "data": {
      "text/plain": [
       "is_quote_status\n",
       "False    1.0\n",
       "Name: tweet_id, dtype: float64"
      ]
     },
     "execution_count": 64,
     "metadata": {},
     "output_type": "execute_result"
    }
   ],
   "source": [
    "frequency = far_left.groupby('is_quote_status').count().tweet_id/far_left.groupby('is_quote_status').count().tweet_id.sum()\n",
    "frequency.sort_values()\n"
   ]
  },
  {
   "cell_type": "code",
   "execution_count": 50,
   "metadata": {},
   "outputs": [
    {
     "data": {
      "text/plain": [
       "Index(['tweet_id', 'in_reply_to_status_id_x', 'in_reply_to_user_id_x',\n",
       "       'timestamp', 'source_x', 'text', 'retweeted_status_id',\n",
       "       'retweeted_status_user_id', 'retweeted_status_timestamp',\n",
       "       'expanded_urls', 'rating_numerator', 'rating_denominator', 'name',\n",
       "       'truncated', 'in_reply_to_screen_name', 'is_quote_status',\n",
       "       'retweet_count', 'favorite_count', 'favorited', 'retweeted', 'lang',\n",
       "       'jpg_url', 'img_num', 'p1', 'p1_conf', 'p1_dog', 'p2', 'p2_conf',\n",
       "       'p2_dog', 'p3', 'p3_conf', 'p3_dog', 'text_length', 'stage'],\n",
       "      dtype='object')"
      ]
     },
     "execution_count": 50,
     "metadata": {},
     "output_type": "execute_result"
    }
   ],
   "source": [
    "df_copy.columns"
   ]
  },
  {
   "cell_type": "code",
   "execution_count": 63,
   "metadata": {},
   "outputs": [
    {
     "data": {
      "text/plain": [
       "is_quote_status\n",
       "False    1.0\n",
       "Name: tweet_id, dtype: float64"
      ]
     },
     "execution_count": 63,
     "metadata": {},
     "output_type": "execute_result"
    }
   ],
   "source": [
    "frequency = df_copy.groupby('is_quote_status').count().tweet_id/df_copy.groupby('is_quote_status').count().tweet_id.sum()\n",
    "frequency.sort_values()\n"
   ]
  },
  {
   "cell_type": "code",
   "execution_count": 68,
   "metadata": {},
   "outputs": [
    {
     "data": {
      "text/plain": [
       "count     58.000000\n",
       "mean     116.655172\n",
       "std       19.085727\n",
       "min       69.000000\n",
       "25%      104.000000\n",
       "50%      119.500000\n",
       "75%      134.000000\n",
       "max      141.000000\n",
       "Name: text_length, dtype: float64"
      ]
     },
     "execution_count": 68,
     "metadata": {},
     "output_type": "execute_result"
    }
   ],
   "source": [
    "far_left.text_length.describe()"
   ]
  },
  {
   "cell_type": "code",
   "execution_count": 69,
   "metadata": {},
   "outputs": [
    {
     "data": {
      "text/plain": [
       "count    2073.000000\n",
       "mean      112.586589\n",
       "std        26.261775\n",
       "min        14.000000\n",
       "25%        95.000000\n",
       "50%       117.000000\n",
       "75%       138.000000\n",
       "max       149.000000\n",
       "Name: text_length, dtype: float64"
      ]
     },
     "execution_count": 69,
     "metadata": {},
     "output_type": "execute_result"
    }
   ],
   "source": [
    "df_copy.text_length.describe()\n"
   ]
  },
  {
   "cell_type": "code",
   "execution_count": 71,
   "metadata": {},
   "outputs": [
    {
     "data": {
      "text/html": [
       "<div>\n",
       "<style scoped>\n",
       "    .dataframe tbody tr th:only-of-type {\n",
       "        vertical-align: middle;\n",
       "    }\n",
       "\n",
       "    .dataframe tbody tr th {\n",
       "        vertical-align: top;\n",
       "    }\n",
       "\n",
       "    .dataframe thead th {\n",
       "        text-align: right;\n",
       "    }\n",
       "</style>\n",
       "<table border=\"1\" class=\"dataframe\">\n",
       "  <thead>\n",
       "    <tr style=\"text-align: right;\">\n",
       "      <th></th>\n",
       "      <th>favorite_count</th>\n",
       "      <th>retweet_count</th>\n",
       "    </tr>\n",
       "  </thead>\n",
       "  <tbody>\n",
       "    <tr>\n",
       "      <th>favorite_count</th>\n",
       "      <td>1.000000</td>\n",
       "      <td>0.912328</td>\n",
       "    </tr>\n",
       "    <tr>\n",
       "      <th>retweet_count</th>\n",
       "      <td>0.912328</td>\n",
       "      <td>1.000000</td>\n",
       "    </tr>\n",
       "  </tbody>\n",
       "</table>\n",
       "</div>"
      ],
      "text/plain": [
       "                favorite_count  retweet_count\n",
       "favorite_count        1.000000       0.912328\n",
       "retweet_count         0.912328       1.000000"
      ]
     },
     "execution_count": 71,
     "metadata": {},
     "output_type": "execute_result"
    }
   ],
   "source": [
    "without_far_left = far_left = df_copy[(df_copy['favorite_count']>0) | (df_copy['retweet_count']<=3443)]\n",
    "without_far_left[['favorite_count','retweet_count']].corr()"
   ]
  },
  {
   "cell_type": "code",
   "execution_count": null,
   "metadata": {},
   "outputs": [],
   "source": [
    "df_copy[['favorite_count','retweet_count']].corr()"
   ]
  }
 ],
 "metadata": {
  "extensions": {
   "jupyter_dashboards": {
    "activeView": "report_default",
    "version": 1,
    "views": {
     "grid_default": {
      "cellMargin": 10,
      "defaultCellHeight": 20,
      "maxColumns": 12,
      "name": "grid",
      "type": "grid"
     },
     "report_default": {
      "name": "report",
      "type": "report"
     }
    }
   }
  },
  "kernelspec": {
   "display_name": "Python 3",
   "language": "python",
   "name": "python3"
  },
  "language_info": {
   "codemirror_mode": {
    "name": "ipython",
    "version": 3
   },
   "file_extension": ".py",
   "mimetype": "text/x-python",
   "name": "python",
   "nbconvert_exporter": "python",
   "pygments_lexer": "ipython3",
   "version": "3.6.3"
  }
 },
 "nbformat": 4,
 "nbformat_minor": 2
}
