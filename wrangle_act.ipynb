{
  "nbformat": 4,
  "nbformat_minor": 0,
  "metadata": {
    "colab": {
      "name": "wrangle_act.ipynb",
      "provenance": [],
      "collapsed_sections": []
    },
    "kernelspec": {
      "name": "python3",
      "display_name": "Python 3"
    },
    "language_info": {
      "name": "python"
    }
  },
  "cells": [
    {
      "cell_type": "markdown",
      "source": [
        "# We Rate Dogs Analysis\n",
        "Your goal: wrangle WeRateDogs Twitter data to create interesting and trustworthy analyses and visualizations. The Twitter archive is great, but it only contains very basic tweet information. Additional gathering, then assessing and cleaning is required for \"Wow!\"-worthy analyses and visualizations."
      ],
      "metadata": {
        "id": "HFto9SbGIQI5"
      }
    },
    {
      "cell_type": "markdown",
      "source": [
        "# Import Necessary Libraries\n"
      ],
      "metadata": {
        "id": "vAg79V1BIb5C"
      }
    },
    {
      "cell_type": "code",
      "source": [
        "!pip install --upgrade tweepy\n",
        "\n"
      ],
      "metadata": {
        "colab": {
          "base_uri": "https://localhost:8080/"
        },
        "id": "PN6GVF6tRHEO",
        "outputId": "de0b2983-edc1-4e32-a51d-0a304fa04218"
      },
      "execution_count": 64,
      "outputs": [
        {
          "output_type": "stream",
          "name": "stdout",
          "text": [
            "Looking in indexes: https://pypi.org/simple, https://us-python.pkg.dev/colab-wheels/public/simple/\n",
            "Requirement already satisfied: tweepy in /usr/local/lib/python3.7/dist-packages (4.10.0)\n",
            "Requirement already satisfied: requests-oauthlib<2,>=1.2.0 in /usr/local/lib/python3.7/dist-packages (from tweepy) (1.3.1)\n",
            "Requirement already satisfied: oauthlib<4,>=3.2.0 in /usr/local/lib/python3.7/dist-packages (from tweepy) (3.2.0)\n",
            "Requirement already satisfied: requests<3,>=2.27.0 in /usr/local/lib/python3.7/dist-packages (from tweepy) (2.28.1)\n",
            "Requirement already satisfied: certifi>=2017.4.17 in /usr/local/lib/python3.7/dist-packages (from requests<3,>=2.27.0->tweepy) (2022.6.15)\n",
            "Requirement already satisfied: idna<4,>=2.5 in /usr/local/lib/python3.7/dist-packages (from requests<3,>=2.27.0->tweepy) (2.10)\n",
            "Requirement already satisfied: charset-normalizer<3,>=2 in /usr/local/lib/python3.7/dist-packages (from requests<3,>=2.27.0->tweepy) (2.1.0)\n",
            "Requirement already satisfied: urllib3<1.27,>=1.21.1 in /usr/local/lib/python3.7/dist-packages (from requests<3,>=2.27.0->tweepy) (1.24.3)\n"
          ]
        }
      ]
    },
    {
      "cell_type": "code",
      "execution_count": 65,
      "metadata": {
        "id": "t6RDvI_wHQ7B"
      },
      "outputs": [],
      "source": [
        "# Import necessary libraries\n",
        "import os\n",
        "import requests\n",
        "import tweepy\n",
        "import configparser\n",
        "import pandas as pd \n",
        "import numpy as np\n",
        "import matplotlib.pyplot as plt\n",
        "import seaborn as sns\n",
        "\n",
        "pd.set_option('display.max_colwidth', 1000)"
      ]
    },
    {
      "cell_type": "markdown",
      "source": [
        "# Data Wrangling\n",
        "In this phase, the data is gathered, assessed and cleaned to aid in the exploratory data analysis."
      ],
      "metadata": {
        "id": "EsnA7oY_PbIi"
      }
    },
    {
      "cell_type": "markdown",
      "source": [
        "## Gather Data\n",
        "In this phase, we obtain the data."
      ],
      "metadata": {
        "id": "SfN1FB44PsfB"
      }
    },
    {
      "cell_type": "markdown",
      "source": [
        "**Get existing data**"
      ],
      "metadata": {
        "id": "OHABdeXGTVjB"
      }
    },
    {
      "cell_type": "code",
      "source": [
        "# import current data\n",
        "df = pd.read_csv('/content/twitter-archive-enhanced.csv')\n",
        "df.head()\n"
      ],
      "metadata": {
        "colab": {
          "base_uri": "https://localhost:8080/",
          "height": 721
        },
        "id": "jwiL3mXyPZld",
        "outputId": "75912859-b5a0-4e5c-be95-6f0c71f7b42c"
      },
      "execution_count": 66,
      "outputs": [
        {
          "output_type": "execute_result",
          "data": {
            "text/plain": [
              "             tweet_id  in_reply_to_status_id  in_reply_to_user_id  \\\n",
              "0  892420643555336193                    NaN                  NaN   \n",
              "1  892177421306343426                    NaN                  NaN   \n",
              "2  891815181378084864                    NaN                  NaN   \n",
              "3  891689557279858688                    NaN                  NaN   \n",
              "4  891327558926688256                    NaN                  NaN   \n",
              "\n",
              "                   timestamp  \\\n",
              "0  2017-08-01 16:23:56 +0000   \n",
              "1  2017-08-01 00:17:27 +0000   \n",
              "2  2017-07-31 00:18:03 +0000   \n",
              "3  2017-07-30 15:58:51 +0000   \n",
              "4  2017-07-29 16:00:24 +0000   \n",
              "\n",
              "                                                                               source  \\\n",
              "0  <a href=\"http://twitter.com/download/iphone\" rel=\"nofollow\">Twitter for iPhone</a>   \n",
              "1  <a href=\"http://twitter.com/download/iphone\" rel=\"nofollow\">Twitter for iPhone</a>   \n",
              "2  <a href=\"http://twitter.com/download/iphone\" rel=\"nofollow\">Twitter for iPhone</a>   \n",
              "3  <a href=\"http://twitter.com/download/iphone\" rel=\"nofollow\">Twitter for iPhone</a>   \n",
              "4  <a href=\"http://twitter.com/download/iphone\" rel=\"nofollow\">Twitter for iPhone</a>   \n",
              "\n",
              "                                                                                                                                                                 text  \\\n",
              "0                                                       This is Phineas. He's a mystical boy. Only ever appears in the hole of a donut. 13/10 https://t.co/MgUWQ76dJU   \n",
              "1  This is Tilly. She's just checking pup on you. Hopes you're doing ok. If not, she's available for pats, snugs, boops, the whole bit. 13/10 https://t.co/0Xxu71qeIV   \n",
              "2                   This is Archie. He is a rare Norwegian Pouncing Corgo. Lives in the tall grass. You never know when one may strike. 12/10 https://t.co/wUnZnhtVJB   \n",
              "3                                                             This is Darla. She commenced a snooze mid meal. 13/10 happens to the best of us https://t.co/tD36da7qLQ   \n",
              "4  This is Franklin. He would like you to stop calling him \"cute.\" He is a very fierce shark and should be respected as such. 12/10 #BarkWeek https://t.co/AtUZn91f7f   \n",
              "\n",
              "   retweeted_status_id  retweeted_status_user_id retweeted_status_timestamp  \\\n",
              "0                  NaN                       NaN                        NaN   \n",
              "1                  NaN                       NaN                        NaN   \n",
              "2                  NaN                       NaN                        NaN   \n",
              "3                  NaN                       NaN                        NaN   \n",
              "4                  NaN                       NaN                        NaN   \n",
              "\n",
              "                                                                                                                     expanded_urls  \\\n",
              "0                                                                  https://twitter.com/dog_rates/status/892420643555336193/photo/1   \n",
              "1                                                                  https://twitter.com/dog_rates/status/892177421306343426/photo/1   \n",
              "2                                                                  https://twitter.com/dog_rates/status/891815181378084864/photo/1   \n",
              "3                                                                  https://twitter.com/dog_rates/status/891689557279858688/photo/1   \n",
              "4  https://twitter.com/dog_rates/status/891327558926688256/photo/1,https://twitter.com/dog_rates/status/891327558926688256/photo/1   \n",
              "\n",
              "   rating_numerator  rating_denominator      name doggo floofer pupper puppo  \n",
              "0                13                  10   Phineas  None    None   None  None  \n",
              "1                13                  10     Tilly  None    None   None  None  \n",
              "2                12                  10    Archie  None    None   None  None  \n",
              "3                13                  10     Darla  None    None   None  None  \n",
              "4                12                  10  Franklin  None    None   None  None  "
            ],
            "text/html": [
              "\n",
              "  <div id=\"df-ec51de80-0bee-4c35-b2f2-6c4d568367e6\">\n",
              "    <div class=\"colab-df-container\">\n",
              "      <div>\n",
              "<style scoped>\n",
              "    .dataframe tbody tr th:only-of-type {\n",
              "        vertical-align: middle;\n",
              "    }\n",
              "\n",
              "    .dataframe tbody tr th {\n",
              "        vertical-align: top;\n",
              "    }\n",
              "\n",
              "    .dataframe thead th {\n",
              "        text-align: right;\n",
              "    }\n",
              "</style>\n",
              "<table border=\"1\" class=\"dataframe\">\n",
              "  <thead>\n",
              "    <tr style=\"text-align: right;\">\n",
              "      <th></th>\n",
              "      <th>tweet_id</th>\n",
              "      <th>in_reply_to_status_id</th>\n",
              "      <th>in_reply_to_user_id</th>\n",
              "      <th>timestamp</th>\n",
              "      <th>source</th>\n",
              "      <th>text</th>\n",
              "      <th>retweeted_status_id</th>\n",
              "      <th>retweeted_status_user_id</th>\n",
              "      <th>retweeted_status_timestamp</th>\n",
              "      <th>expanded_urls</th>\n",
              "      <th>rating_numerator</th>\n",
              "      <th>rating_denominator</th>\n",
              "      <th>name</th>\n",
              "      <th>doggo</th>\n",
              "      <th>floofer</th>\n",
              "      <th>pupper</th>\n",
              "      <th>puppo</th>\n",
              "    </tr>\n",
              "  </thead>\n",
              "  <tbody>\n",
              "    <tr>\n",
              "      <th>0</th>\n",
              "      <td>892420643555336193</td>\n",
              "      <td>NaN</td>\n",
              "      <td>NaN</td>\n",
              "      <td>2017-08-01 16:23:56 +0000</td>\n",
              "      <td>&lt;a href=\"http://twitter.com/download/iphone\" rel=\"nofollow\"&gt;Twitter for iPhone&lt;/a&gt;</td>\n",
              "      <td>This is Phineas. He's a mystical boy. Only ever appears in the hole of a donut. 13/10 https://t.co/MgUWQ76dJU</td>\n",
              "      <td>NaN</td>\n",
              "      <td>NaN</td>\n",
              "      <td>NaN</td>\n",
              "      <td>https://twitter.com/dog_rates/status/892420643555336193/photo/1</td>\n",
              "      <td>13</td>\n",
              "      <td>10</td>\n",
              "      <td>Phineas</td>\n",
              "      <td>None</td>\n",
              "      <td>None</td>\n",
              "      <td>None</td>\n",
              "      <td>None</td>\n",
              "    </tr>\n",
              "    <tr>\n",
              "      <th>1</th>\n",
              "      <td>892177421306343426</td>\n",
              "      <td>NaN</td>\n",
              "      <td>NaN</td>\n",
              "      <td>2017-08-01 00:17:27 +0000</td>\n",
              "      <td>&lt;a href=\"http://twitter.com/download/iphone\" rel=\"nofollow\"&gt;Twitter for iPhone&lt;/a&gt;</td>\n",
              "      <td>This is Tilly. She's just checking pup on you. Hopes you're doing ok. If not, she's available for pats, snugs, boops, the whole bit. 13/10 https://t.co/0Xxu71qeIV</td>\n",
              "      <td>NaN</td>\n",
              "      <td>NaN</td>\n",
              "      <td>NaN</td>\n",
              "      <td>https://twitter.com/dog_rates/status/892177421306343426/photo/1</td>\n",
              "      <td>13</td>\n",
              "      <td>10</td>\n",
              "      <td>Tilly</td>\n",
              "      <td>None</td>\n",
              "      <td>None</td>\n",
              "      <td>None</td>\n",
              "      <td>None</td>\n",
              "    </tr>\n",
              "    <tr>\n",
              "      <th>2</th>\n",
              "      <td>891815181378084864</td>\n",
              "      <td>NaN</td>\n",
              "      <td>NaN</td>\n",
              "      <td>2017-07-31 00:18:03 +0000</td>\n",
              "      <td>&lt;a href=\"http://twitter.com/download/iphone\" rel=\"nofollow\"&gt;Twitter for iPhone&lt;/a&gt;</td>\n",
              "      <td>This is Archie. He is a rare Norwegian Pouncing Corgo. Lives in the tall grass. You never know when one may strike. 12/10 https://t.co/wUnZnhtVJB</td>\n",
              "      <td>NaN</td>\n",
              "      <td>NaN</td>\n",
              "      <td>NaN</td>\n",
              "      <td>https://twitter.com/dog_rates/status/891815181378084864/photo/1</td>\n",
              "      <td>12</td>\n",
              "      <td>10</td>\n",
              "      <td>Archie</td>\n",
              "      <td>None</td>\n",
              "      <td>None</td>\n",
              "      <td>None</td>\n",
              "      <td>None</td>\n",
              "    </tr>\n",
              "    <tr>\n",
              "      <th>3</th>\n",
              "      <td>891689557279858688</td>\n",
              "      <td>NaN</td>\n",
              "      <td>NaN</td>\n",
              "      <td>2017-07-30 15:58:51 +0000</td>\n",
              "      <td>&lt;a href=\"http://twitter.com/download/iphone\" rel=\"nofollow\"&gt;Twitter for iPhone&lt;/a&gt;</td>\n",
              "      <td>This is Darla. She commenced a snooze mid meal. 13/10 happens to the best of us https://t.co/tD36da7qLQ</td>\n",
              "      <td>NaN</td>\n",
              "      <td>NaN</td>\n",
              "      <td>NaN</td>\n",
              "      <td>https://twitter.com/dog_rates/status/891689557279858688/photo/1</td>\n",
              "      <td>13</td>\n",
              "      <td>10</td>\n",
              "      <td>Darla</td>\n",
              "      <td>None</td>\n",
              "      <td>None</td>\n",
              "      <td>None</td>\n",
              "      <td>None</td>\n",
              "    </tr>\n",
              "    <tr>\n",
              "      <th>4</th>\n",
              "      <td>891327558926688256</td>\n",
              "      <td>NaN</td>\n",
              "      <td>NaN</td>\n",
              "      <td>2017-07-29 16:00:24 +0000</td>\n",
              "      <td>&lt;a href=\"http://twitter.com/download/iphone\" rel=\"nofollow\"&gt;Twitter for iPhone&lt;/a&gt;</td>\n",
              "      <td>This is Franklin. He would like you to stop calling him \"cute.\" He is a very fierce shark and should be respected as such. 12/10 #BarkWeek https://t.co/AtUZn91f7f</td>\n",
              "      <td>NaN</td>\n",
              "      <td>NaN</td>\n",
              "      <td>NaN</td>\n",
              "      <td>https://twitter.com/dog_rates/status/891327558926688256/photo/1,https://twitter.com/dog_rates/status/891327558926688256/photo/1</td>\n",
              "      <td>12</td>\n",
              "      <td>10</td>\n",
              "      <td>Franklin</td>\n",
              "      <td>None</td>\n",
              "      <td>None</td>\n",
              "      <td>None</td>\n",
              "      <td>None</td>\n",
              "    </tr>\n",
              "  </tbody>\n",
              "</table>\n",
              "</div>\n",
              "      <button class=\"colab-df-convert\" onclick=\"convertToInteractive('df-ec51de80-0bee-4c35-b2f2-6c4d568367e6')\"\n",
              "              title=\"Convert this dataframe to an interactive table.\"\n",
              "              style=\"display:none;\">\n",
              "        \n",
              "  <svg xmlns=\"http://www.w3.org/2000/svg\" height=\"24px\"viewBox=\"0 0 24 24\"\n",
              "       width=\"24px\">\n",
              "    <path d=\"M0 0h24v24H0V0z\" fill=\"none\"/>\n",
              "    <path d=\"M18.56 5.44l.94 2.06.94-2.06 2.06-.94-2.06-.94-.94-2.06-.94 2.06-2.06.94zm-11 1L8.5 8.5l.94-2.06 2.06-.94-2.06-.94L8.5 2.5l-.94 2.06-2.06.94zm10 10l.94 2.06.94-2.06 2.06-.94-2.06-.94-.94-2.06-.94 2.06-2.06.94z\"/><path d=\"M17.41 7.96l-1.37-1.37c-.4-.4-.92-.59-1.43-.59-.52 0-1.04.2-1.43.59L10.3 9.45l-7.72 7.72c-.78.78-.78 2.05 0 2.83L4 21.41c.39.39.9.59 1.41.59.51 0 1.02-.2 1.41-.59l7.78-7.78 2.81-2.81c.8-.78.8-2.07 0-2.86zM5.41 20L4 18.59l7.72-7.72 1.47 1.35L5.41 20z\"/>\n",
              "  </svg>\n",
              "      </button>\n",
              "      \n",
              "  <style>\n",
              "    .colab-df-container {\n",
              "      display:flex;\n",
              "      flex-wrap:wrap;\n",
              "      gap: 12px;\n",
              "    }\n",
              "\n",
              "    .colab-df-convert {\n",
              "      background-color: #E8F0FE;\n",
              "      border: none;\n",
              "      border-radius: 50%;\n",
              "      cursor: pointer;\n",
              "      display: none;\n",
              "      fill: #1967D2;\n",
              "      height: 32px;\n",
              "      padding: 0 0 0 0;\n",
              "      width: 32px;\n",
              "    }\n",
              "\n",
              "    .colab-df-convert:hover {\n",
              "      background-color: #E2EBFA;\n",
              "      box-shadow: 0px 1px 2px rgba(60, 64, 67, 0.3), 0px 1px 3px 1px rgba(60, 64, 67, 0.15);\n",
              "      fill: #174EA6;\n",
              "    }\n",
              "\n",
              "    [theme=dark] .colab-df-convert {\n",
              "      background-color: #3B4455;\n",
              "      fill: #D2E3FC;\n",
              "    }\n",
              "\n",
              "    [theme=dark] .colab-df-convert:hover {\n",
              "      background-color: #434B5C;\n",
              "      box-shadow: 0px 1px 3px 1px rgba(0, 0, 0, 0.15);\n",
              "      filter: drop-shadow(0px 1px 2px rgba(0, 0, 0, 0.3));\n",
              "      fill: #FFFFFF;\n",
              "    }\n",
              "  </style>\n",
              "\n",
              "      <script>\n",
              "        const buttonEl =\n",
              "          document.querySelector('#df-ec51de80-0bee-4c35-b2f2-6c4d568367e6 button.colab-df-convert');\n",
              "        buttonEl.style.display =\n",
              "          google.colab.kernel.accessAllowed ? 'block' : 'none';\n",
              "\n",
              "        async function convertToInteractive(key) {\n",
              "          const element = document.querySelector('#df-ec51de80-0bee-4c35-b2f2-6c4d568367e6');\n",
              "          const dataTable =\n",
              "            await google.colab.kernel.invokeFunction('convertToInteractive',\n",
              "                                                     [key], {});\n",
              "          if (!dataTable) return;\n",
              "\n",
              "          const docLinkHtml = 'Like what you see? Visit the ' +\n",
              "            '<a target=\"_blank\" href=https://colab.research.google.com/notebooks/data_table.ipynb>data table notebook</a>'\n",
              "            + ' to learn more about interactive tables.';\n",
              "          element.innerHTML = '';\n",
              "          dataTable['output_type'] = 'display_data';\n",
              "          await google.colab.output.renderOutput(dataTable, element);\n",
              "          const docLink = document.createElement('div');\n",
              "          docLink.innerHTML = docLinkHtml;\n",
              "          element.appendChild(docLink);\n",
              "        }\n",
              "      </script>\n",
              "    </div>\n",
              "  </div>\n",
              "  "
            ]
          },
          "metadata": {},
          "execution_count": 66
        }
      ]
    },
    {
      "cell_type": "markdown",
      "source": [
        "**Get tweet image predictions**"
      ],
      "metadata": {
        "id": "Taq2F53OTp1m"
      }
    },
    {
      "cell_type": "code",
      "source": [
        "# Image predictions\n",
        "images_url = ' https://d17h27t6h515a5.cloudfront.net/topher/2017/August/599fd2ad_image-predictions/image-predictions.tsv'\n",
        "file_name = 'image_predictions.tsv'\n",
        "\n",
        "# Get response\n",
        "response = requests.get(images_url)\n",
        "\n",
        "# Save data\n",
        "with open(file_name, 'w') as f:\n",
        "  f.write(response.text)\n",
        "  \n",
        "# Read data\n",
        "images_df = pd.read_csv(response.url, sep='\\t')\n",
        "images_df.head()"
      ],
      "metadata": {
        "colab": {
          "base_uri": "https://localhost:8080/",
          "height": 270
        },
        "id": "FgGkgBeHTif9",
        "outputId": "8d7e2152-f5b9-4e59-b676-6b9df9424441"
      },
      "execution_count": 67,
      "outputs": [
        {
          "output_type": "execute_result",
          "data": {
            "text/plain": [
              "             tweet_id                                          jpg_url  \\\n",
              "0  666020888022790149  https://pbs.twimg.com/media/CT4udn0WwAA0aMy.jpg   \n",
              "1  666029285002620928  https://pbs.twimg.com/media/CT42GRgUYAA5iDo.jpg   \n",
              "2  666033412701032449  https://pbs.twimg.com/media/CT4521TWwAEvMyu.jpg   \n",
              "3  666044226329800704  https://pbs.twimg.com/media/CT5Dr8HUEAA-lEu.jpg   \n",
              "4  666049248165822465  https://pbs.twimg.com/media/CT5IQmsXIAAKY4A.jpg   \n",
              "\n",
              "   img_num                      p1   p1_conf  p1_dog                  p2  \\\n",
              "0        1  Welsh_springer_spaniel  0.465074    True              collie   \n",
              "1        1                 redbone  0.506826    True  miniature_pinscher   \n",
              "2        1         German_shepherd  0.596461    True            malinois   \n",
              "3        1     Rhodesian_ridgeback  0.408143    True             redbone   \n",
              "4        1      miniature_pinscher  0.560311    True          Rottweiler   \n",
              "\n",
              "    p2_conf  p2_dog                   p3   p3_conf  p3_dog  \n",
              "0  0.156665    True    Shetland_sheepdog  0.061428    True  \n",
              "1  0.074192    True  Rhodesian_ridgeback  0.072010    True  \n",
              "2  0.138584    True           bloodhound  0.116197    True  \n",
              "3  0.360687    True   miniature_pinscher  0.222752    True  \n",
              "4  0.243682    True             Doberman  0.154629    True  "
            ],
            "text/html": [
              "\n",
              "  <div id=\"df-fc380e45-f482-4c07-a147-a4ac2e0eb5bf\">\n",
              "    <div class=\"colab-df-container\">\n",
              "      <div>\n",
              "<style scoped>\n",
              "    .dataframe tbody tr th:only-of-type {\n",
              "        vertical-align: middle;\n",
              "    }\n",
              "\n",
              "    .dataframe tbody tr th {\n",
              "        vertical-align: top;\n",
              "    }\n",
              "\n",
              "    .dataframe thead th {\n",
              "        text-align: right;\n",
              "    }\n",
              "</style>\n",
              "<table border=\"1\" class=\"dataframe\">\n",
              "  <thead>\n",
              "    <tr style=\"text-align: right;\">\n",
              "      <th></th>\n",
              "      <th>tweet_id</th>\n",
              "      <th>jpg_url</th>\n",
              "      <th>img_num</th>\n",
              "      <th>p1</th>\n",
              "      <th>p1_conf</th>\n",
              "      <th>p1_dog</th>\n",
              "      <th>p2</th>\n",
              "      <th>p2_conf</th>\n",
              "      <th>p2_dog</th>\n",
              "      <th>p3</th>\n",
              "      <th>p3_conf</th>\n",
              "      <th>p3_dog</th>\n",
              "    </tr>\n",
              "  </thead>\n",
              "  <tbody>\n",
              "    <tr>\n",
              "      <th>0</th>\n",
              "      <td>666020888022790149</td>\n",
              "      <td>https://pbs.twimg.com/media/CT4udn0WwAA0aMy.jpg</td>\n",
              "      <td>1</td>\n",
              "      <td>Welsh_springer_spaniel</td>\n",
              "      <td>0.465074</td>\n",
              "      <td>True</td>\n",
              "      <td>collie</td>\n",
              "      <td>0.156665</td>\n",
              "      <td>True</td>\n",
              "      <td>Shetland_sheepdog</td>\n",
              "      <td>0.061428</td>\n",
              "      <td>True</td>\n",
              "    </tr>\n",
              "    <tr>\n",
              "      <th>1</th>\n",
              "      <td>666029285002620928</td>\n",
              "      <td>https://pbs.twimg.com/media/CT42GRgUYAA5iDo.jpg</td>\n",
              "      <td>1</td>\n",
              "      <td>redbone</td>\n",
              "      <td>0.506826</td>\n",
              "      <td>True</td>\n",
              "      <td>miniature_pinscher</td>\n",
              "      <td>0.074192</td>\n",
              "      <td>True</td>\n",
              "      <td>Rhodesian_ridgeback</td>\n",
              "      <td>0.072010</td>\n",
              "      <td>True</td>\n",
              "    </tr>\n",
              "    <tr>\n",
              "      <th>2</th>\n",
              "      <td>666033412701032449</td>\n",
              "      <td>https://pbs.twimg.com/media/CT4521TWwAEvMyu.jpg</td>\n",
              "      <td>1</td>\n",
              "      <td>German_shepherd</td>\n",
              "      <td>0.596461</td>\n",
              "      <td>True</td>\n",
              "      <td>malinois</td>\n",
              "      <td>0.138584</td>\n",
              "      <td>True</td>\n",
              "      <td>bloodhound</td>\n",
              "      <td>0.116197</td>\n",
              "      <td>True</td>\n",
              "    </tr>\n",
              "    <tr>\n",
              "      <th>3</th>\n",
              "      <td>666044226329800704</td>\n",
              "      <td>https://pbs.twimg.com/media/CT5Dr8HUEAA-lEu.jpg</td>\n",
              "      <td>1</td>\n",
              "      <td>Rhodesian_ridgeback</td>\n",
              "      <td>0.408143</td>\n",
              "      <td>True</td>\n",
              "      <td>redbone</td>\n",
              "      <td>0.360687</td>\n",
              "      <td>True</td>\n",
              "      <td>miniature_pinscher</td>\n",
              "      <td>0.222752</td>\n",
              "      <td>True</td>\n",
              "    </tr>\n",
              "    <tr>\n",
              "      <th>4</th>\n",
              "      <td>666049248165822465</td>\n",
              "      <td>https://pbs.twimg.com/media/CT5IQmsXIAAKY4A.jpg</td>\n",
              "      <td>1</td>\n",
              "      <td>miniature_pinscher</td>\n",
              "      <td>0.560311</td>\n",
              "      <td>True</td>\n",
              "      <td>Rottweiler</td>\n",
              "      <td>0.243682</td>\n",
              "      <td>True</td>\n",
              "      <td>Doberman</td>\n",
              "      <td>0.154629</td>\n",
              "      <td>True</td>\n",
              "    </tr>\n",
              "  </tbody>\n",
              "</table>\n",
              "</div>\n",
              "      <button class=\"colab-df-convert\" onclick=\"convertToInteractive('df-fc380e45-f482-4c07-a147-a4ac2e0eb5bf')\"\n",
              "              title=\"Convert this dataframe to an interactive table.\"\n",
              "              style=\"display:none;\">\n",
              "        \n",
              "  <svg xmlns=\"http://www.w3.org/2000/svg\" height=\"24px\"viewBox=\"0 0 24 24\"\n",
              "       width=\"24px\">\n",
              "    <path d=\"M0 0h24v24H0V0z\" fill=\"none\"/>\n",
              "    <path d=\"M18.56 5.44l.94 2.06.94-2.06 2.06-.94-2.06-.94-.94-2.06-.94 2.06-2.06.94zm-11 1L8.5 8.5l.94-2.06 2.06-.94-2.06-.94L8.5 2.5l-.94 2.06-2.06.94zm10 10l.94 2.06.94-2.06 2.06-.94-2.06-.94-.94-2.06-.94 2.06-2.06.94z\"/><path d=\"M17.41 7.96l-1.37-1.37c-.4-.4-.92-.59-1.43-.59-.52 0-1.04.2-1.43.59L10.3 9.45l-7.72 7.72c-.78.78-.78 2.05 0 2.83L4 21.41c.39.39.9.59 1.41.59.51 0 1.02-.2 1.41-.59l7.78-7.78 2.81-2.81c.8-.78.8-2.07 0-2.86zM5.41 20L4 18.59l7.72-7.72 1.47 1.35L5.41 20z\"/>\n",
              "  </svg>\n",
              "      </button>\n",
              "      \n",
              "  <style>\n",
              "    .colab-df-container {\n",
              "      display:flex;\n",
              "      flex-wrap:wrap;\n",
              "      gap: 12px;\n",
              "    }\n",
              "\n",
              "    .colab-df-convert {\n",
              "      background-color: #E8F0FE;\n",
              "      border: none;\n",
              "      border-radius: 50%;\n",
              "      cursor: pointer;\n",
              "      display: none;\n",
              "      fill: #1967D2;\n",
              "      height: 32px;\n",
              "      padding: 0 0 0 0;\n",
              "      width: 32px;\n",
              "    }\n",
              "\n",
              "    .colab-df-convert:hover {\n",
              "      background-color: #E2EBFA;\n",
              "      box-shadow: 0px 1px 2px rgba(60, 64, 67, 0.3), 0px 1px 3px 1px rgba(60, 64, 67, 0.15);\n",
              "      fill: #174EA6;\n",
              "    }\n",
              "\n",
              "    [theme=dark] .colab-df-convert {\n",
              "      background-color: #3B4455;\n",
              "      fill: #D2E3FC;\n",
              "    }\n",
              "\n",
              "    [theme=dark] .colab-df-convert:hover {\n",
              "      background-color: #434B5C;\n",
              "      box-shadow: 0px 1px 3px 1px rgba(0, 0, 0, 0.15);\n",
              "      filter: drop-shadow(0px 1px 2px rgba(0, 0, 0, 0.3));\n",
              "      fill: #FFFFFF;\n",
              "    }\n",
              "  </style>\n",
              "\n",
              "      <script>\n",
              "        const buttonEl =\n",
              "          document.querySelector('#df-fc380e45-f482-4c07-a147-a4ac2e0eb5bf button.colab-df-convert');\n",
              "        buttonEl.style.display =\n",
              "          google.colab.kernel.accessAllowed ? 'block' : 'none';\n",
              "\n",
              "        async function convertToInteractive(key) {\n",
              "          const element = document.querySelector('#df-fc380e45-f482-4c07-a147-a4ac2e0eb5bf');\n",
              "          const dataTable =\n",
              "            await google.colab.kernel.invokeFunction('convertToInteractive',\n",
              "                                                     [key], {});\n",
              "          if (!dataTable) return;\n",
              "\n",
              "          const docLinkHtml = 'Like what you see? Visit the ' +\n",
              "            '<a target=\"_blank\" href=https://colab.research.google.com/notebooks/data_table.ipynb>data table notebook</a>'\n",
              "            + ' to learn more about interactive tables.';\n",
              "          element.innerHTML = '';\n",
              "          dataTable['output_type'] = 'display_data';\n",
              "          await google.colab.output.renderOutput(dataTable, element);\n",
              "          const docLink = document.createElement('div');\n",
              "          docLink.innerHTML = docLinkHtml;\n",
              "          element.appendChild(docLink);\n",
              "        }\n",
              "      </script>\n",
              "    </div>\n",
              "  </div>\n",
              "  "
            ]
          },
          "metadata": {},
          "execution_count": 67
        }
      ]
    },
    {
      "cell_type": "markdown",
      "source": [
        "**Get tweet data from tweepy**"
      ],
      "metadata": {
        "id": "G08klPBoXRww"
      }
    },
    {
      "cell_type": "code",
      "source": [
        "# Set Configurations\n",
        "\n",
        "# Instantiate configparser\n",
        "config = configparser.ConfigParser()\n",
        "config.read('/content/config.ini')\n",
        "\n",
        "# Read api key and token from config file\n",
        "api_key = config['Twitter']['API_KEY']\n",
        "api_key_secret = config['Twitter']['API_KEY_SECRET']\n",
        "access_token = config['Twitter']['ACCESS_TOKEN']\n",
        "access_token_secret = config['Twitter']['ACCESS_TOKEN_SECRET']\n",
        "\n",
        "# Authentication\n",
        "auth = tweepy.OAuthHandler(api_key, api_key_secret)\n",
        "auth.set_access_token(access_token, access_token_secret)\n",
        "\n",
        "api = tweepy.API(auth, wait_on_rate_limit=True)\n"
      ],
      "metadata": {
        "id": "k_LpSEZgVCOO"
      },
      "execution_count": null,
      "outputs": []
    },
    {
      "cell_type": "code",
      "source": [
        "# Function to get tweet data\n",
        "def get_tweet_data(df, tweet_id_column):\n",
        "  tweet_ids = df[tweet_id_column].values\n",
        "  favorites = []\n",
        "  retweets = []\n",
        "  for tweet_id in tweet_ids:\n",
        "    try:\n",
        "      retweets.append(api.get_status(id=tweet_id, tweet_mode='extended').retweet_count)\n",
        "      favorites.append(api.get_status(id=tweet_id, tweet_mode='extended').favorite_count)\n",
        "    except:\n",
        "      retweets.append(np.nan)\n",
        "      favorites.append(np.nan)\n",
        "\n",
        "  \n",
        "  \n",
        "\n",
        "  return favorites, retweets\n",
        "\n",
        "\n",
        "\n"
      ],
      "metadata": {
        "id": "qj8OVMwAqJo7"
      },
      "execution_count": null,
      "outputs": []
    },
    {
      "cell_type": "code",
      "source": [
        "# Get favorites and retweets\n",
        "favs, retweets = get_tweet_data(df, 'tweet_id')"
      ],
      "metadata": {
        "id": "CDdFAacbrxzA",
        "colab": {
          "base_uri": "https://localhost:8080/"
        },
        "outputId": "9925326e-7cc3-4803-c7a6-8443b6ffdc82"
      },
      "execution_count": null,
      "outputs": [
        {
          "output_type": "stream",
          "name": "stderr",
          "text": [
            "WARNING:tweepy.api:Rate limit reached. Sleeping for: 793\n",
            "WARNING:tweepy.api:Rate limit reached. Sleeping for: 795\n",
            "WARNING:tweepy.api:Rate limit reached. Sleeping for: 793\n",
            "WARNING:tweepy.api:Rate limit reached. Sleeping for: 796\n",
            "WARNING:tweepy.api:Rate limit reached. Sleeping for: 795\n"
          ]
        }
      ]
    },
    {
      "cell_type": "code",
      "source": [
        "# Append them to a dataframe\n",
        "favs_rets_df = pd.DataFrame({'tweet_id': df['tweet_id'].values,\n",
        "              'favorites_count':favs,\n",
        "              'retweets_count': retweets})"
      ],
      "metadata": {
        "id": "97MRbcRx6XUg"
      },
      "execution_count": null,
      "outputs": []
    },
    {
      "cell_type": "code",
      "source": [
        "# Save to tweet_json.txt file\n",
        "favs_rets_df.to_json('tweet_json.txt', orient='columns')"
      ],
      "metadata": {
        "id": "9LBI5H_l68ES"
      },
      "execution_count": null,
      "outputs": []
    },
    {
      "cell_type": "code",
      "source": [
        "# Read data from json_file\n",
        "favs_rets_df = pd.read_json('/content/tweet_json.txt', orient='columns')"
      ],
      "metadata": {
        "id": "r4yVP5STanit"
      },
      "execution_count": 68,
      "outputs": []
    },
    {
      "cell_type": "markdown",
      "source": [
        "**Combine datasets**"
      ],
      "metadata": {
        "id": "tyWd2EiUwxiF"
      }
    },
    {
      "cell_type": "code",
      "source": [
        "# Concatenate reweet counts and fav counts to df\n",
        "updated_df = df.merge(favs_rets_df, on='tweet_id')"
      ],
      "metadata": {
        "id": "F1rHJl9gX_ZT"
      },
      "execution_count": 69,
      "outputs": []
    },
    {
      "cell_type": "code",
      "source": [
        "# Concatenate images_df and updated_df\n",
        "updated_df = pd.merge(updated_df , images_df , on= \"tweet_id\" , how=\"left\") "
      ],
      "metadata": {
        "id": "06PFGFeMwwVP"
      },
      "execution_count": 70,
      "outputs": []
    },
    {
      "cell_type": "markdown",
      "source": [
        "## Assess Data"
      ],
      "metadata": {
        "id": "z-NKOCk_Pjmy"
      }
    },
    {
      "cell_type": "markdown",
      "source": [
        "**Assess existing data and Image data**"
      ],
      "metadata": {
        "id": "TCvT-sxtYu0G"
      }
    },
    {
      "cell_type": "code",
      "source": [
        "# View info\n",
        "updated_df.info()"
      ],
      "metadata": {
        "colab": {
          "base_uri": "https://localhost:8080/"
        },
        "id": "YvzD2C1675oC",
        "outputId": "d82c7456-dde7-4864-9bcf-47c5517f6096"
      },
      "execution_count": 71,
      "outputs": [
        {
          "output_type": "stream",
          "name": "stdout",
          "text": [
            "<class 'pandas.core.frame.DataFrame'>\n",
            "Int64Index: 2356 entries, 0 to 2355\n",
            "Data columns (total 30 columns):\n",
            " #   Column                      Non-Null Count  Dtype  \n",
            "---  ------                      --------------  -----  \n",
            " 0   tweet_id                    2356 non-null   int64  \n",
            " 1   in_reply_to_status_id       78 non-null     float64\n",
            " 2   in_reply_to_user_id         78 non-null     float64\n",
            " 3   timestamp                   2356 non-null   object \n",
            " 4   source                      2356 non-null   object \n",
            " 5   text                        2356 non-null   object \n",
            " 6   retweeted_status_id         181 non-null    float64\n",
            " 7   retweeted_status_user_id    181 non-null    float64\n",
            " 8   retweeted_status_timestamp  181 non-null    object \n",
            " 9   expanded_urls               2297 non-null   object \n",
            " 10  rating_numerator            2356 non-null   int64  \n",
            " 11  rating_denominator          2356 non-null   int64  \n",
            " 12  name                        2356 non-null   object \n",
            " 13  doggo                       2356 non-null   object \n",
            " 14  floofer                     2356 non-null   object \n",
            " 15  pupper                      2356 non-null   object \n",
            " 16  puppo                       2356 non-null   object \n",
            " 17  favorites_count             2327 non-null   float64\n",
            " 18  retweets_count              2327 non-null   float64\n",
            " 19  jpg_url                     2075 non-null   object \n",
            " 20  img_num                     2075 non-null   float64\n",
            " 21  p1                          2075 non-null   object \n",
            " 22  p1_conf                     2075 non-null   float64\n",
            " 23  p1_dog                      2075 non-null   object \n",
            " 24  p2                          2075 non-null   object \n",
            " 25  p2_conf                     2075 non-null   float64\n",
            " 26  p2_dog                      2075 non-null   object \n",
            " 27  p3                          2075 non-null   object \n",
            " 28  p3_conf                     2075 non-null   float64\n",
            " 29  p3_dog                      2075 non-null   object \n",
            "dtypes: float64(10), int64(3), object(17)\n",
            "memory usage: 570.6+ KB\n"
          ]
        }
      ]
    },
    {
      "cell_type": "code",
      "source": [
        "# Get missing value columns\n",
        "missing = [column for column in updated_df.columns if updated_df[column].isnull().sum()>0]\n",
        "missing"
      ],
      "metadata": {
        "colab": {
          "base_uri": "https://localhost:8080/"
        },
        "id": "-tPFhKiJY3Ze",
        "outputId": "839b2800-0e74-4f38-d2fd-ed59def78f26"
      },
      "execution_count": 72,
      "outputs": [
        {
          "output_type": "execute_result",
          "data": {
            "text/plain": [
              "['in_reply_to_status_id',\n",
              " 'in_reply_to_user_id',\n",
              " 'retweeted_status_id',\n",
              " 'retweeted_status_user_id',\n",
              " 'retweeted_status_timestamp',\n",
              " 'expanded_urls',\n",
              " 'favorites_count',\n",
              " 'retweets_count',\n",
              " 'jpg_url',\n",
              " 'img_num',\n",
              " 'p1',\n",
              " 'p1_conf',\n",
              " 'p1_dog',\n",
              " 'p2',\n",
              " 'p2_conf',\n",
              " 'p2_dog',\n",
              " 'p3',\n",
              " 'p3_conf',\n",
              " 'p3_dog']"
            ]
          },
          "metadata": {},
          "execution_count": 72
        }
      ]
    },
    {
      "cell_type": "markdown",
      "source": [
        "There are missing values in the following columns:\n",
        "`in_reply_to_status_id`,\n",
        " `in_reply_to_user_id`,\n",
        " `retweeted_status_id`,\n",
        " `retweeted_status_user_id`,\n",
        " `retweeted_status_timestamp`,\n",
        " `expanded_urls`,\n",
        " `favorites_count`,\n",
        " `retweets_count`,`jpg_url`,\n",
        " `img_num`,\n",
        " `p1`,\n",
        " `p1_conf`,\n",
        " `p1_dog`,\n",
        " `p2`,\n",
        " `p2_conf`,\n",
        " `p2_dog`,\n",
        " `p3`,\n",
        " `p3_conf`,\n",
        " `p3_dog`"
      ],
      "metadata": {
        "id": "ODsLcDxWZ0Gn"
      }
    },
    {
      "cell_type": "code",
      "source": [
        "# Check for duplicates\n",
        "updated_df.duplicated().sum()"
      ],
      "metadata": {
        "colab": {
          "base_uri": "https://localhost:8080/"
        },
        "id": "dm_nygpIZooK",
        "outputId": "fffbfad9-ef08-41a7-a6e5-e52aa8815d52"
      },
      "execution_count": 73,
      "outputs": [
        {
          "output_type": "execute_result",
          "data": {
            "text/plain": [
              "0"
            ]
          },
          "metadata": {},
          "execution_count": 73
        }
      ]
    },
    {
      "cell_type": "markdown",
      "source": [
        "There are no duplicates"
      ],
      "metadata": {
        "id": "f7zXO7UQL4Va"
      }
    },
    {
      "cell_type": "code",
      "source": [
        "# View statistics\n",
        "updated_df.describe()"
      ],
      "metadata": {
        "colab": {
          "base_uri": "https://localhost:8080/",
          "height": 364
        },
        "id": "b8sND3DXL3SL",
        "outputId": "9e479168-e5df-45a3-de46-6e432c36d4e0"
      },
      "execution_count": 74,
      "outputs": [
        {
          "output_type": "execute_result",
          "data": {
            "text/plain": [
              "           tweet_id  in_reply_to_status_id  in_reply_to_user_id  \\\n",
              "count  2.356000e+03           7.800000e+01         7.800000e+01   \n",
              "mean   7.427716e+17           7.455079e+17         2.014171e+16   \n",
              "std    6.856705e+16           7.582492e+16         1.252797e+17   \n",
              "min    6.660209e+17           6.658147e+17         1.185634e+07   \n",
              "25%    6.783989e+17           6.757419e+17         3.086374e+08   \n",
              "50%    7.196279e+17           7.038708e+17         4.196984e+09   \n",
              "75%    7.993373e+17           8.257804e+17         4.196984e+09   \n",
              "max    8.924206e+17           8.862664e+17         8.405479e+17   \n",
              "\n",
              "       retweeted_status_id  retweeted_status_user_id  rating_numerator  \\\n",
              "count         1.810000e+02              1.810000e+02       2356.000000   \n",
              "mean          7.720400e+17              1.241698e+16         13.126486   \n",
              "std           6.236928e+16              9.599254e+16         45.876648   \n",
              "min           6.661041e+17              7.832140e+05          0.000000   \n",
              "25%           7.186315e+17              4.196984e+09         10.000000   \n",
              "50%           7.804657e+17              4.196984e+09         11.000000   \n",
              "75%           8.203146e+17              4.196984e+09         12.000000   \n",
              "max           8.874740e+17              7.874618e+17       1776.000000   \n",
              "\n",
              "       rating_denominator  favorites_count  retweets_count      img_num  \\\n",
              "count         2356.000000      2327.000000     2327.000000  2075.000000   \n",
              "mean            10.455433      7031.703051     2461.993554     1.203855   \n",
              "std              6.745237     10925.613904     4169.607446     0.561875   \n",
              "min              0.000000         0.000000        1.000000     1.000000   \n",
              "25%             10.000000      1221.500000      493.000000     1.000000   \n",
              "50%             10.000000      3041.000000     1147.000000     1.000000   \n",
              "75%             10.000000      8571.500000     2848.000000     1.000000   \n",
              "max            170.000000    144365.000000    70452.000000     4.000000   \n",
              "\n",
              "           p1_conf       p2_conf       p3_conf  \n",
              "count  2075.000000  2.075000e+03  2.075000e+03  \n",
              "mean      0.594548  1.345886e-01  6.032417e-02  \n",
              "std       0.271174  1.006657e-01  5.090593e-02  \n",
              "min       0.044333  1.011300e-08  1.740170e-10  \n",
              "25%       0.364412  5.388625e-02  1.622240e-02  \n",
              "50%       0.588230  1.181810e-01  4.944380e-02  \n",
              "75%       0.843855  1.955655e-01  9.180755e-02  \n",
              "max       1.000000  4.880140e-01  2.734190e-01  "
            ],
            "text/html": [
              "\n",
              "  <div id=\"df-3dc832e6-8dac-4d44-8f34-c177a93755de\">\n",
              "    <div class=\"colab-df-container\">\n",
              "      <div>\n",
              "<style scoped>\n",
              "    .dataframe tbody tr th:only-of-type {\n",
              "        vertical-align: middle;\n",
              "    }\n",
              "\n",
              "    .dataframe tbody tr th {\n",
              "        vertical-align: top;\n",
              "    }\n",
              "\n",
              "    .dataframe thead th {\n",
              "        text-align: right;\n",
              "    }\n",
              "</style>\n",
              "<table border=\"1\" class=\"dataframe\">\n",
              "  <thead>\n",
              "    <tr style=\"text-align: right;\">\n",
              "      <th></th>\n",
              "      <th>tweet_id</th>\n",
              "      <th>in_reply_to_status_id</th>\n",
              "      <th>in_reply_to_user_id</th>\n",
              "      <th>retweeted_status_id</th>\n",
              "      <th>retweeted_status_user_id</th>\n",
              "      <th>rating_numerator</th>\n",
              "      <th>rating_denominator</th>\n",
              "      <th>favorites_count</th>\n",
              "      <th>retweets_count</th>\n",
              "      <th>img_num</th>\n",
              "      <th>p1_conf</th>\n",
              "      <th>p2_conf</th>\n",
              "      <th>p3_conf</th>\n",
              "    </tr>\n",
              "  </thead>\n",
              "  <tbody>\n",
              "    <tr>\n",
              "      <th>count</th>\n",
              "      <td>2.356000e+03</td>\n",
              "      <td>7.800000e+01</td>\n",
              "      <td>7.800000e+01</td>\n",
              "      <td>1.810000e+02</td>\n",
              "      <td>1.810000e+02</td>\n",
              "      <td>2356.000000</td>\n",
              "      <td>2356.000000</td>\n",
              "      <td>2327.000000</td>\n",
              "      <td>2327.000000</td>\n",
              "      <td>2075.000000</td>\n",
              "      <td>2075.000000</td>\n",
              "      <td>2.075000e+03</td>\n",
              "      <td>2.075000e+03</td>\n",
              "    </tr>\n",
              "    <tr>\n",
              "      <th>mean</th>\n",
              "      <td>7.427716e+17</td>\n",
              "      <td>7.455079e+17</td>\n",
              "      <td>2.014171e+16</td>\n",
              "      <td>7.720400e+17</td>\n",
              "      <td>1.241698e+16</td>\n",
              "      <td>13.126486</td>\n",
              "      <td>10.455433</td>\n",
              "      <td>7031.703051</td>\n",
              "      <td>2461.993554</td>\n",
              "      <td>1.203855</td>\n",
              "      <td>0.594548</td>\n",
              "      <td>1.345886e-01</td>\n",
              "      <td>6.032417e-02</td>\n",
              "    </tr>\n",
              "    <tr>\n",
              "      <th>std</th>\n",
              "      <td>6.856705e+16</td>\n",
              "      <td>7.582492e+16</td>\n",
              "      <td>1.252797e+17</td>\n",
              "      <td>6.236928e+16</td>\n",
              "      <td>9.599254e+16</td>\n",
              "      <td>45.876648</td>\n",
              "      <td>6.745237</td>\n",
              "      <td>10925.613904</td>\n",
              "      <td>4169.607446</td>\n",
              "      <td>0.561875</td>\n",
              "      <td>0.271174</td>\n",
              "      <td>1.006657e-01</td>\n",
              "      <td>5.090593e-02</td>\n",
              "    </tr>\n",
              "    <tr>\n",
              "      <th>min</th>\n",
              "      <td>6.660209e+17</td>\n",
              "      <td>6.658147e+17</td>\n",
              "      <td>1.185634e+07</td>\n",
              "      <td>6.661041e+17</td>\n",
              "      <td>7.832140e+05</td>\n",
              "      <td>0.000000</td>\n",
              "      <td>0.000000</td>\n",
              "      <td>0.000000</td>\n",
              "      <td>1.000000</td>\n",
              "      <td>1.000000</td>\n",
              "      <td>0.044333</td>\n",
              "      <td>1.011300e-08</td>\n",
              "      <td>1.740170e-10</td>\n",
              "    </tr>\n",
              "    <tr>\n",
              "      <th>25%</th>\n",
              "      <td>6.783989e+17</td>\n",
              "      <td>6.757419e+17</td>\n",
              "      <td>3.086374e+08</td>\n",
              "      <td>7.186315e+17</td>\n",
              "      <td>4.196984e+09</td>\n",
              "      <td>10.000000</td>\n",
              "      <td>10.000000</td>\n",
              "      <td>1221.500000</td>\n",
              "      <td>493.000000</td>\n",
              "      <td>1.000000</td>\n",
              "      <td>0.364412</td>\n",
              "      <td>5.388625e-02</td>\n",
              "      <td>1.622240e-02</td>\n",
              "    </tr>\n",
              "    <tr>\n",
              "      <th>50%</th>\n",
              "      <td>7.196279e+17</td>\n",
              "      <td>7.038708e+17</td>\n",
              "      <td>4.196984e+09</td>\n",
              "      <td>7.804657e+17</td>\n",
              "      <td>4.196984e+09</td>\n",
              "      <td>11.000000</td>\n",
              "      <td>10.000000</td>\n",
              "      <td>3041.000000</td>\n",
              "      <td>1147.000000</td>\n",
              "      <td>1.000000</td>\n",
              "      <td>0.588230</td>\n",
              "      <td>1.181810e-01</td>\n",
              "      <td>4.944380e-02</td>\n",
              "    </tr>\n",
              "    <tr>\n",
              "      <th>75%</th>\n",
              "      <td>7.993373e+17</td>\n",
              "      <td>8.257804e+17</td>\n",
              "      <td>4.196984e+09</td>\n",
              "      <td>8.203146e+17</td>\n",
              "      <td>4.196984e+09</td>\n",
              "      <td>12.000000</td>\n",
              "      <td>10.000000</td>\n",
              "      <td>8571.500000</td>\n",
              "      <td>2848.000000</td>\n",
              "      <td>1.000000</td>\n",
              "      <td>0.843855</td>\n",
              "      <td>1.955655e-01</td>\n",
              "      <td>9.180755e-02</td>\n",
              "    </tr>\n",
              "    <tr>\n",
              "      <th>max</th>\n",
              "      <td>8.924206e+17</td>\n",
              "      <td>8.862664e+17</td>\n",
              "      <td>8.405479e+17</td>\n",
              "      <td>8.874740e+17</td>\n",
              "      <td>7.874618e+17</td>\n",
              "      <td>1776.000000</td>\n",
              "      <td>170.000000</td>\n",
              "      <td>144365.000000</td>\n",
              "      <td>70452.000000</td>\n",
              "      <td>4.000000</td>\n",
              "      <td>1.000000</td>\n",
              "      <td>4.880140e-01</td>\n",
              "      <td>2.734190e-01</td>\n",
              "    </tr>\n",
              "  </tbody>\n",
              "</table>\n",
              "</div>\n",
              "      <button class=\"colab-df-convert\" onclick=\"convertToInteractive('df-3dc832e6-8dac-4d44-8f34-c177a93755de')\"\n",
              "              title=\"Convert this dataframe to an interactive table.\"\n",
              "              style=\"display:none;\">\n",
              "        \n",
              "  <svg xmlns=\"http://www.w3.org/2000/svg\" height=\"24px\"viewBox=\"0 0 24 24\"\n",
              "       width=\"24px\">\n",
              "    <path d=\"M0 0h24v24H0V0z\" fill=\"none\"/>\n",
              "    <path d=\"M18.56 5.44l.94 2.06.94-2.06 2.06-.94-2.06-.94-.94-2.06-.94 2.06-2.06.94zm-11 1L8.5 8.5l.94-2.06 2.06-.94-2.06-.94L8.5 2.5l-.94 2.06-2.06.94zm10 10l.94 2.06.94-2.06 2.06-.94-2.06-.94-.94-2.06-.94 2.06-2.06.94z\"/><path d=\"M17.41 7.96l-1.37-1.37c-.4-.4-.92-.59-1.43-.59-.52 0-1.04.2-1.43.59L10.3 9.45l-7.72 7.72c-.78.78-.78 2.05 0 2.83L4 21.41c.39.39.9.59 1.41.59.51 0 1.02-.2 1.41-.59l7.78-7.78 2.81-2.81c.8-.78.8-2.07 0-2.86zM5.41 20L4 18.59l7.72-7.72 1.47 1.35L5.41 20z\"/>\n",
              "  </svg>\n",
              "      </button>\n",
              "      \n",
              "  <style>\n",
              "    .colab-df-container {\n",
              "      display:flex;\n",
              "      flex-wrap:wrap;\n",
              "      gap: 12px;\n",
              "    }\n",
              "\n",
              "    .colab-df-convert {\n",
              "      background-color: #E8F0FE;\n",
              "      border: none;\n",
              "      border-radius: 50%;\n",
              "      cursor: pointer;\n",
              "      display: none;\n",
              "      fill: #1967D2;\n",
              "      height: 32px;\n",
              "      padding: 0 0 0 0;\n",
              "      width: 32px;\n",
              "    }\n",
              "\n",
              "    .colab-df-convert:hover {\n",
              "      background-color: #E2EBFA;\n",
              "      box-shadow: 0px 1px 2px rgba(60, 64, 67, 0.3), 0px 1px 3px 1px rgba(60, 64, 67, 0.15);\n",
              "      fill: #174EA6;\n",
              "    }\n",
              "\n",
              "    [theme=dark] .colab-df-convert {\n",
              "      background-color: #3B4455;\n",
              "      fill: #D2E3FC;\n",
              "    }\n",
              "\n",
              "    [theme=dark] .colab-df-convert:hover {\n",
              "      background-color: #434B5C;\n",
              "      box-shadow: 0px 1px 3px 1px rgba(0, 0, 0, 0.15);\n",
              "      filter: drop-shadow(0px 1px 2px rgba(0, 0, 0, 0.3));\n",
              "      fill: #FFFFFF;\n",
              "    }\n",
              "  </style>\n",
              "\n",
              "      <script>\n",
              "        const buttonEl =\n",
              "          document.querySelector('#df-3dc832e6-8dac-4d44-8f34-c177a93755de button.colab-df-convert');\n",
              "        buttonEl.style.display =\n",
              "          google.colab.kernel.accessAllowed ? 'block' : 'none';\n",
              "\n",
              "        async function convertToInteractive(key) {\n",
              "          const element = document.querySelector('#df-3dc832e6-8dac-4d44-8f34-c177a93755de');\n",
              "          const dataTable =\n",
              "            await google.colab.kernel.invokeFunction('convertToInteractive',\n",
              "                                                     [key], {});\n",
              "          if (!dataTable) return;\n",
              "\n",
              "          const docLinkHtml = 'Like what you see? Visit the ' +\n",
              "            '<a target=\"_blank\" href=https://colab.research.google.com/notebooks/data_table.ipynb>data table notebook</a>'\n",
              "            + ' to learn more about interactive tables.';\n",
              "          element.innerHTML = '';\n",
              "          dataTable['output_type'] = 'display_data';\n",
              "          await google.colab.output.renderOutput(dataTable, element);\n",
              "          const docLink = document.createElement('div');\n",
              "          docLink.innerHTML = docLinkHtml;\n",
              "          element.appendChild(docLink);\n",
              "        }\n",
              "      </script>\n",
              "    </div>\n",
              "  </div>\n",
              "  "
            ]
          },
          "metadata": {},
          "execution_count": 74
        }
      ]
    },
    {
      "cell_type": "code",
      "source": [
        "# View sample of data\n",
        "updated_df.sample(10)"
      ],
      "metadata": {
        "colab": {
          "base_uri": "https://localhost:8080/",
          "height": 1000
        },
        "id": "jn2p8CkdL9C8",
        "outputId": "7a538bdd-bf99-4efe-c676-eeab51d3c6e4"
      },
      "execution_count": 75,
      "outputs": [
        {
          "output_type": "execute_result",
          "data": {
            "text/plain": [
              "                tweet_id  in_reply_to_status_id  in_reply_to_user_id  \\\n",
              "1116  732585889486888962                    NaN                  NaN   \n",
              "2322  666430724426358785                    NaN                  NaN   \n",
              "1332  705475953783398401                    NaN                  NaN   \n",
              "6     890971913173991426                    NaN                  NaN   \n",
              "67    879376492567855104                    NaN                  NaN   \n",
              "1089  737800304142471168                    NaN                  NaN   \n",
              "1190  718234618122661888                    NaN                  NaN   \n",
              "431   820837357901512704                    NaN                  NaN   \n",
              "378   827933404142436356                    NaN                  NaN   \n",
              "1279  708845821941387268                    NaN                  NaN   \n",
              "\n",
              "                      timestamp  \\\n",
              "1116  2016-05-17 14:57:41 +0000   \n",
              "2322  2015-11-17 01:40:41 +0000   \n",
              "1332  2016-03-03 19:32:29 +0000   \n",
              "6     2017-07-28 16:27:12 +0000   \n",
              "67    2017-06-26 16:31:08 +0000   \n",
              "1089  2016-06-01 00:17:54 +0000   \n",
              "1190  2016-04-08 00:30:51 +0000   \n",
              "431   2017-01-16 03:37:31 +0000   \n",
              "378   2017-02-04 17:34:40 +0000   \n",
              "1279  2016-03-13 02:43:08 +0000   \n",
              "\n",
              "                                                                                  source  \\\n",
              "1116  <a href=\"http://twitter.com/download/iphone\" rel=\"nofollow\">Twitter for iPhone</a>   \n",
              "2322  <a href=\"http://twitter.com/download/iphone\" rel=\"nofollow\">Twitter for iPhone</a>   \n",
              "1332  <a href=\"http://twitter.com/download/iphone\" rel=\"nofollow\">Twitter for iPhone</a>   \n",
              "6     <a href=\"http://twitter.com/download/iphone\" rel=\"nofollow\">Twitter for iPhone</a>   \n",
              "67    <a href=\"http://twitter.com/download/iphone\" rel=\"nofollow\">Twitter for iPhone</a>   \n",
              "1089  <a href=\"http://twitter.com/download/iphone\" rel=\"nofollow\">Twitter for iPhone</a>   \n",
              "1190  <a href=\"http://twitter.com/download/iphone\" rel=\"nofollow\">Twitter for iPhone</a>   \n",
              "431   <a href=\"http://twitter.com/download/iphone\" rel=\"nofollow\">Twitter for iPhone</a>   \n",
              "378   <a href=\"http://twitter.com/download/iphone\" rel=\"nofollow\">Twitter for iPhone</a>   \n",
              "1279  <a href=\"http://twitter.com/download/iphone\" rel=\"nofollow\">Twitter for iPhone</a>   \n",
              "\n",
              "                                                                                                                                                                        text  \\\n",
              "1116                                                When your teacher agreed on 10,000 RTs and no final but after 24 hours you only have 37... 10/10 https://t.co/sVnJfWVjUp   \n",
              "2322                                       Oh boy what a pup! Sunglasses take this one to the next level. Weirdly folds front legs. Pretty big. 6/10 https://t.co/yECbFrSArM   \n",
              "1332                                                                 Say hello to Zara. She found a sandal and couldn't be happier. 12/10 great work https://t.co/zQUuVu812n   \n",
              "6     Meet Jax. He enjoys ice cream so much he gets nervous around it. 13/10 help Jax enjoy more things by clicking below\\n\\nhttps://t.co/Zr4hWfAs1H https://t.co/tVJBRMnhxl   \n",
              "67                     This is Jack AKA Stephen Furry. You're not scoring on him. Unless he slips down the slide. 12/10 would happily get blocked by https://t.co/0gOi601EAa   \n",
              "1089                                                      This is Bella. She's ubering home after a few too many drinks. 10/10 socially conscious af https://t.co/KxkOgq80Xj   \n",
              "1190                                        This is Suki. She was born with a blurry tail (unfortunate). Next level tongue tho. 11/10 nifty hardwood https://t.co/05S8oYztgb   \n",
              "431                             RT @dog_rates: This is Finn. He's wondering if you come here often. Fr*ckin flirtatious af. 12/10 would give number to https://t.co/ii5eNX5…   \n",
              "378           This is Kona. Yesterday she stopped by the department to see what it takes to be a police pupper. 12/10 vest was only a smidge too big https://t.co/j8D3PQJvpJ   \n",
              "1279                               Here's a pupper with magic eyes. Not wearing a seat belt tho (irresponsible af). Very distracting to driver. 9/10 https://t.co/5DLJB4ssvI   \n",
              "\n",
              "      retweeted_status_id  retweeted_status_user_id  \\\n",
              "1116                  NaN                       NaN   \n",
              "2322                  NaN                       NaN   \n",
              "1332                  NaN                       NaN   \n",
              "6                     NaN                       NaN   \n",
              "67                    NaN                       NaN   \n",
              "1089                  NaN                       NaN   \n",
              "1190                  NaN                       NaN   \n",
              "431          8.192277e+17              4.196984e+09   \n",
              "378                   NaN                       NaN   \n",
              "1279                  NaN                       NaN   \n",
              "\n",
              "     retweeted_status_timestamp  \\\n",
              "1116                        NaN   \n",
              "2322                        NaN   \n",
              "1332                        NaN   \n",
              "6                           NaN   \n",
              "67                          NaN   \n",
              "1089                        NaN   \n",
              "1190                        NaN   \n",
              "431   2017-01-11 17:01:16 +0000   \n",
              "378                         NaN   \n",
              "1279                        NaN   \n",
              "\n",
              "                                                                                                                                                                                        expanded_urls  \\\n",
              "1116                                                                  https://twitter.com/dog_rates/status/732585889486888962/photo/1,https://twitter.com/dog_rates/status/732585889486888962/photo/1   \n",
              "2322                                                                                                                                  https://twitter.com/dog_rates/status/666430724426358785/photo/1   \n",
              "1332                                                                  https://twitter.com/dog_rates/status/705475953783398401/photo/1,https://twitter.com/dog_rates/status/705475953783398401/photo/1   \n",
              "6                                                                                         https://gofundme.com/ydvmve-surgery-for-jax,https://twitter.com/dog_rates/status/890971913173991426/photo/1   \n",
              "67                                                                                                                                    https://twitter.com/dog_rates/status/879376492567855104/photo/1   \n",
              "1089                                                                                                                                  https://twitter.com/dog_rates/status/737800304142471168/photo/1   \n",
              "1190                                                                                                                                  https://twitter.com/dog_rates/status/718234618122661888/photo/1   \n",
              "431                                                                                                                                   https://twitter.com/dog_rates/status/819227688460238848/photo/1   \n",
              "378   https://twitter.com/dog_rates/status/827933404142436356/photo/1,https://twitter.com/dog_rates/status/827933404142436356/photo/1,https://twitter.com/dog_rates/status/827933404142436356/photo/1   \n",
              "1279                                                                  https://twitter.com/dog_rates/status/708845821941387268/photo/1,https://twitter.com/dog_rates/status/708845821941387268/photo/1   \n",
              "\n",
              "      ...  img_num                         p1   p1_conf p1_dog  \\\n",
              "1116  ...      2.0  Staffordshire_bullterrier  0.843359   True   \n",
              "2322  ...      1.0                      llama  0.505184  False   \n",
              "1332  ...      1.0           golden_retriever  0.908784   True   \n",
              "6     ...      1.0                Appenzeller  0.341703   True   \n",
              "67    ...      1.0                   tricycle  0.663601  False   \n",
              "1089  ...      1.0                   malamute  0.374682   True   \n",
              "1190  ...      1.0                   malamute  0.370152   True   \n",
              "431   ...      NaN                        NaN       NaN    NaN   \n",
              "378   ...      2.0            German_shepherd  0.806115   True   \n",
              "1279  ...      1.0                 schipperke  0.745640   True   \n",
              "\n",
              "                                  p2   p2_conf p2_dog                  p3  \\\n",
              "1116  American_Staffordshire_terrier  0.028290   True  miniature_pinscher   \n",
              "2322                   Irish_terrier  0.104109   True               dingo   \n",
              "1332              Labrador_retriever  0.030361   True         tennis_ball   \n",
              "6                      Border_collie  0.199287   True           ice_lolly   \n",
              "67                Labrador_retriever  0.033496   True            Pembroke   \n",
              "1089              Norwegian_elkhound  0.334853   True           limousine   \n",
              "1190                  Siberian_husky  0.356398   True          Eskimo_dog   \n",
              "431                              NaN       NaN    NaN                 NaN   \n",
              "378                  Tibetan_mastiff  0.104831   True              kelpie   \n",
              "1279                          kelpie  0.167853   True         Boston_bull   \n",
              "\n",
              "       p3_conf p3_dog  \n",
              "1116  0.016793   True  \n",
              "2322  0.062071  False  \n",
              "1332  0.004996  False  \n",
              "6     0.193548  False  \n",
              "67    0.018827   True  \n",
              "1089  0.068173  False  \n",
              "1190  0.271042   True  \n",
              "431        NaN    NaN  \n",
              "378   0.038148   True  \n",
              "1279  0.014763   True  \n",
              "\n",
              "[10 rows x 30 columns]"
            ],
            "text/html": [
              "\n",
              "  <div id=\"df-fb2ad041-9d5d-451a-9602-a58fb8cb4fd2\">\n",
              "    <div class=\"colab-df-container\">\n",
              "      <div>\n",
              "<style scoped>\n",
              "    .dataframe tbody tr th:only-of-type {\n",
              "        vertical-align: middle;\n",
              "    }\n",
              "\n",
              "    .dataframe tbody tr th {\n",
              "        vertical-align: top;\n",
              "    }\n",
              "\n",
              "    .dataframe thead th {\n",
              "        text-align: right;\n",
              "    }\n",
              "</style>\n",
              "<table border=\"1\" class=\"dataframe\">\n",
              "  <thead>\n",
              "    <tr style=\"text-align: right;\">\n",
              "      <th></th>\n",
              "      <th>tweet_id</th>\n",
              "      <th>in_reply_to_status_id</th>\n",
              "      <th>in_reply_to_user_id</th>\n",
              "      <th>timestamp</th>\n",
              "      <th>source</th>\n",
              "      <th>text</th>\n",
              "      <th>retweeted_status_id</th>\n",
              "      <th>retweeted_status_user_id</th>\n",
              "      <th>retweeted_status_timestamp</th>\n",
              "      <th>expanded_urls</th>\n",
              "      <th>...</th>\n",
              "      <th>img_num</th>\n",
              "      <th>p1</th>\n",
              "      <th>p1_conf</th>\n",
              "      <th>p1_dog</th>\n",
              "      <th>p2</th>\n",
              "      <th>p2_conf</th>\n",
              "      <th>p2_dog</th>\n",
              "      <th>p3</th>\n",
              "      <th>p3_conf</th>\n",
              "      <th>p3_dog</th>\n",
              "    </tr>\n",
              "  </thead>\n",
              "  <tbody>\n",
              "    <tr>\n",
              "      <th>1116</th>\n",
              "      <td>732585889486888962</td>\n",
              "      <td>NaN</td>\n",
              "      <td>NaN</td>\n",
              "      <td>2016-05-17 14:57:41 +0000</td>\n",
              "      <td>&lt;a href=\"http://twitter.com/download/iphone\" rel=\"nofollow\"&gt;Twitter for iPhone&lt;/a&gt;</td>\n",
              "      <td>When your teacher agreed on 10,000 RTs and no final but after 24 hours you only have 37... 10/10 https://t.co/sVnJfWVjUp</td>\n",
              "      <td>NaN</td>\n",
              "      <td>NaN</td>\n",
              "      <td>NaN</td>\n",
              "      <td>https://twitter.com/dog_rates/status/732585889486888962/photo/1,https://twitter.com/dog_rates/status/732585889486888962/photo/1</td>\n",
              "      <td>...</td>\n",
              "      <td>2.0</td>\n",
              "      <td>Staffordshire_bullterrier</td>\n",
              "      <td>0.843359</td>\n",
              "      <td>True</td>\n",
              "      <td>American_Staffordshire_terrier</td>\n",
              "      <td>0.028290</td>\n",
              "      <td>True</td>\n",
              "      <td>miniature_pinscher</td>\n",
              "      <td>0.016793</td>\n",
              "      <td>True</td>\n",
              "    </tr>\n",
              "    <tr>\n",
              "      <th>2322</th>\n",
              "      <td>666430724426358785</td>\n",
              "      <td>NaN</td>\n",
              "      <td>NaN</td>\n",
              "      <td>2015-11-17 01:40:41 +0000</td>\n",
              "      <td>&lt;a href=\"http://twitter.com/download/iphone\" rel=\"nofollow\"&gt;Twitter for iPhone&lt;/a&gt;</td>\n",
              "      <td>Oh boy what a pup! Sunglasses take this one to the next level. Weirdly folds front legs. Pretty big. 6/10 https://t.co/yECbFrSArM</td>\n",
              "      <td>NaN</td>\n",
              "      <td>NaN</td>\n",
              "      <td>NaN</td>\n",
              "      <td>https://twitter.com/dog_rates/status/666430724426358785/photo/1</td>\n",
              "      <td>...</td>\n",
              "      <td>1.0</td>\n",
              "      <td>llama</td>\n",
              "      <td>0.505184</td>\n",
              "      <td>False</td>\n",
              "      <td>Irish_terrier</td>\n",
              "      <td>0.104109</td>\n",
              "      <td>True</td>\n",
              "      <td>dingo</td>\n",
              "      <td>0.062071</td>\n",
              "      <td>False</td>\n",
              "    </tr>\n",
              "    <tr>\n",
              "      <th>1332</th>\n",
              "      <td>705475953783398401</td>\n",
              "      <td>NaN</td>\n",
              "      <td>NaN</td>\n",
              "      <td>2016-03-03 19:32:29 +0000</td>\n",
              "      <td>&lt;a href=\"http://twitter.com/download/iphone\" rel=\"nofollow\"&gt;Twitter for iPhone&lt;/a&gt;</td>\n",
              "      <td>Say hello to Zara. She found a sandal and couldn't be happier. 12/10 great work https://t.co/zQUuVu812n</td>\n",
              "      <td>NaN</td>\n",
              "      <td>NaN</td>\n",
              "      <td>NaN</td>\n",
              "      <td>https://twitter.com/dog_rates/status/705475953783398401/photo/1,https://twitter.com/dog_rates/status/705475953783398401/photo/1</td>\n",
              "      <td>...</td>\n",
              "      <td>1.0</td>\n",
              "      <td>golden_retriever</td>\n",
              "      <td>0.908784</td>\n",
              "      <td>True</td>\n",
              "      <td>Labrador_retriever</td>\n",
              "      <td>0.030361</td>\n",
              "      <td>True</td>\n",
              "      <td>tennis_ball</td>\n",
              "      <td>0.004996</td>\n",
              "      <td>False</td>\n",
              "    </tr>\n",
              "    <tr>\n",
              "      <th>6</th>\n",
              "      <td>890971913173991426</td>\n",
              "      <td>NaN</td>\n",
              "      <td>NaN</td>\n",
              "      <td>2017-07-28 16:27:12 +0000</td>\n",
              "      <td>&lt;a href=\"http://twitter.com/download/iphone\" rel=\"nofollow\"&gt;Twitter for iPhone&lt;/a&gt;</td>\n",
              "      <td>Meet Jax. He enjoys ice cream so much he gets nervous around it. 13/10 help Jax enjoy more things by clicking below\\n\\nhttps://t.co/Zr4hWfAs1H https://t.co/tVJBRMnhxl</td>\n",
              "      <td>NaN</td>\n",
              "      <td>NaN</td>\n",
              "      <td>NaN</td>\n",
              "      <td>https://gofundme.com/ydvmve-surgery-for-jax,https://twitter.com/dog_rates/status/890971913173991426/photo/1</td>\n",
              "      <td>...</td>\n",
              "      <td>1.0</td>\n",
              "      <td>Appenzeller</td>\n",
              "      <td>0.341703</td>\n",
              "      <td>True</td>\n",
              "      <td>Border_collie</td>\n",
              "      <td>0.199287</td>\n",
              "      <td>True</td>\n",
              "      <td>ice_lolly</td>\n",
              "      <td>0.193548</td>\n",
              "      <td>False</td>\n",
              "    </tr>\n",
              "    <tr>\n",
              "      <th>67</th>\n",
              "      <td>879376492567855104</td>\n",
              "      <td>NaN</td>\n",
              "      <td>NaN</td>\n",
              "      <td>2017-06-26 16:31:08 +0000</td>\n",
              "      <td>&lt;a href=\"http://twitter.com/download/iphone\" rel=\"nofollow\"&gt;Twitter for iPhone&lt;/a&gt;</td>\n",
              "      <td>This is Jack AKA Stephen Furry. You're not scoring on him. Unless he slips down the slide. 12/10 would happily get blocked by https://t.co/0gOi601EAa</td>\n",
              "      <td>NaN</td>\n",
              "      <td>NaN</td>\n",
              "      <td>NaN</td>\n",
              "      <td>https://twitter.com/dog_rates/status/879376492567855104/photo/1</td>\n",
              "      <td>...</td>\n",
              "      <td>1.0</td>\n",
              "      <td>tricycle</td>\n",
              "      <td>0.663601</td>\n",
              "      <td>False</td>\n",
              "      <td>Labrador_retriever</td>\n",
              "      <td>0.033496</td>\n",
              "      <td>True</td>\n",
              "      <td>Pembroke</td>\n",
              "      <td>0.018827</td>\n",
              "      <td>True</td>\n",
              "    </tr>\n",
              "    <tr>\n",
              "      <th>1089</th>\n",
              "      <td>737800304142471168</td>\n",
              "      <td>NaN</td>\n",
              "      <td>NaN</td>\n",
              "      <td>2016-06-01 00:17:54 +0000</td>\n",
              "      <td>&lt;a href=\"http://twitter.com/download/iphone\" rel=\"nofollow\"&gt;Twitter for iPhone&lt;/a&gt;</td>\n",
              "      <td>This is Bella. She's ubering home after a few too many drinks. 10/10 socially conscious af https://t.co/KxkOgq80Xj</td>\n",
              "      <td>NaN</td>\n",
              "      <td>NaN</td>\n",
              "      <td>NaN</td>\n",
              "      <td>https://twitter.com/dog_rates/status/737800304142471168/photo/1</td>\n",
              "      <td>...</td>\n",
              "      <td>1.0</td>\n",
              "      <td>malamute</td>\n",
              "      <td>0.374682</td>\n",
              "      <td>True</td>\n",
              "      <td>Norwegian_elkhound</td>\n",
              "      <td>0.334853</td>\n",
              "      <td>True</td>\n",
              "      <td>limousine</td>\n",
              "      <td>0.068173</td>\n",
              "      <td>False</td>\n",
              "    </tr>\n",
              "    <tr>\n",
              "      <th>1190</th>\n",
              "      <td>718234618122661888</td>\n",
              "      <td>NaN</td>\n",
              "      <td>NaN</td>\n",
              "      <td>2016-04-08 00:30:51 +0000</td>\n",
              "      <td>&lt;a href=\"http://twitter.com/download/iphone\" rel=\"nofollow\"&gt;Twitter for iPhone&lt;/a&gt;</td>\n",
              "      <td>This is Suki. She was born with a blurry tail (unfortunate). Next level tongue tho. 11/10 nifty hardwood https://t.co/05S8oYztgb</td>\n",
              "      <td>NaN</td>\n",
              "      <td>NaN</td>\n",
              "      <td>NaN</td>\n",
              "      <td>https://twitter.com/dog_rates/status/718234618122661888/photo/1</td>\n",
              "      <td>...</td>\n",
              "      <td>1.0</td>\n",
              "      <td>malamute</td>\n",
              "      <td>0.370152</td>\n",
              "      <td>True</td>\n",
              "      <td>Siberian_husky</td>\n",
              "      <td>0.356398</td>\n",
              "      <td>True</td>\n",
              "      <td>Eskimo_dog</td>\n",
              "      <td>0.271042</td>\n",
              "      <td>True</td>\n",
              "    </tr>\n",
              "    <tr>\n",
              "      <th>431</th>\n",
              "      <td>820837357901512704</td>\n",
              "      <td>NaN</td>\n",
              "      <td>NaN</td>\n",
              "      <td>2017-01-16 03:37:31 +0000</td>\n",
              "      <td>&lt;a href=\"http://twitter.com/download/iphone\" rel=\"nofollow\"&gt;Twitter for iPhone&lt;/a&gt;</td>\n",
              "      <td>RT @dog_rates: This is Finn. He's wondering if you come here often. Fr*ckin flirtatious af. 12/10 would give number to https://t.co/ii5eNX5…</td>\n",
              "      <td>8.192277e+17</td>\n",
              "      <td>4.196984e+09</td>\n",
              "      <td>2017-01-11 17:01:16 +0000</td>\n",
              "      <td>https://twitter.com/dog_rates/status/819227688460238848/photo/1</td>\n",
              "      <td>...</td>\n",
              "      <td>NaN</td>\n",
              "      <td>NaN</td>\n",
              "      <td>NaN</td>\n",
              "      <td>NaN</td>\n",
              "      <td>NaN</td>\n",
              "      <td>NaN</td>\n",
              "      <td>NaN</td>\n",
              "      <td>NaN</td>\n",
              "      <td>NaN</td>\n",
              "      <td>NaN</td>\n",
              "    </tr>\n",
              "    <tr>\n",
              "      <th>378</th>\n",
              "      <td>827933404142436356</td>\n",
              "      <td>NaN</td>\n",
              "      <td>NaN</td>\n",
              "      <td>2017-02-04 17:34:40 +0000</td>\n",
              "      <td>&lt;a href=\"http://twitter.com/download/iphone\" rel=\"nofollow\"&gt;Twitter for iPhone&lt;/a&gt;</td>\n",
              "      <td>This is Kona. Yesterday she stopped by the department to see what it takes to be a police pupper. 12/10 vest was only a smidge too big https://t.co/j8D3PQJvpJ</td>\n",
              "      <td>NaN</td>\n",
              "      <td>NaN</td>\n",
              "      <td>NaN</td>\n",
              "      <td>https://twitter.com/dog_rates/status/827933404142436356/photo/1,https://twitter.com/dog_rates/status/827933404142436356/photo/1,https://twitter.com/dog_rates/status/827933404142436356/photo/1</td>\n",
              "      <td>...</td>\n",
              "      <td>2.0</td>\n",
              "      <td>German_shepherd</td>\n",
              "      <td>0.806115</td>\n",
              "      <td>True</td>\n",
              "      <td>Tibetan_mastiff</td>\n",
              "      <td>0.104831</td>\n",
              "      <td>True</td>\n",
              "      <td>kelpie</td>\n",
              "      <td>0.038148</td>\n",
              "      <td>True</td>\n",
              "    </tr>\n",
              "    <tr>\n",
              "      <th>1279</th>\n",
              "      <td>708845821941387268</td>\n",
              "      <td>NaN</td>\n",
              "      <td>NaN</td>\n",
              "      <td>2016-03-13 02:43:08 +0000</td>\n",
              "      <td>&lt;a href=\"http://twitter.com/download/iphone\" rel=\"nofollow\"&gt;Twitter for iPhone&lt;/a&gt;</td>\n",
              "      <td>Here's a pupper with magic eyes. Not wearing a seat belt tho (irresponsible af). Very distracting to driver. 9/10 https://t.co/5DLJB4ssvI</td>\n",
              "      <td>NaN</td>\n",
              "      <td>NaN</td>\n",
              "      <td>NaN</td>\n",
              "      <td>https://twitter.com/dog_rates/status/708845821941387268/photo/1,https://twitter.com/dog_rates/status/708845821941387268/photo/1</td>\n",
              "      <td>...</td>\n",
              "      <td>1.0</td>\n",
              "      <td>schipperke</td>\n",
              "      <td>0.745640</td>\n",
              "      <td>True</td>\n",
              "      <td>kelpie</td>\n",
              "      <td>0.167853</td>\n",
              "      <td>True</td>\n",
              "      <td>Boston_bull</td>\n",
              "      <td>0.014763</td>\n",
              "      <td>True</td>\n",
              "    </tr>\n",
              "  </tbody>\n",
              "</table>\n",
              "<p>10 rows × 30 columns</p>\n",
              "</div>\n",
              "      <button class=\"colab-df-convert\" onclick=\"convertToInteractive('df-fb2ad041-9d5d-451a-9602-a58fb8cb4fd2')\"\n",
              "              title=\"Convert this dataframe to an interactive table.\"\n",
              "              style=\"display:none;\">\n",
              "        \n",
              "  <svg xmlns=\"http://www.w3.org/2000/svg\" height=\"24px\"viewBox=\"0 0 24 24\"\n",
              "       width=\"24px\">\n",
              "    <path d=\"M0 0h24v24H0V0z\" fill=\"none\"/>\n",
              "    <path d=\"M18.56 5.44l.94 2.06.94-2.06 2.06-.94-2.06-.94-.94-2.06-.94 2.06-2.06.94zm-11 1L8.5 8.5l.94-2.06 2.06-.94-2.06-.94L8.5 2.5l-.94 2.06-2.06.94zm10 10l.94 2.06.94-2.06 2.06-.94-2.06-.94-.94-2.06-.94 2.06-2.06.94z\"/><path d=\"M17.41 7.96l-1.37-1.37c-.4-.4-.92-.59-1.43-.59-.52 0-1.04.2-1.43.59L10.3 9.45l-7.72 7.72c-.78.78-.78 2.05 0 2.83L4 21.41c.39.39.9.59 1.41.59.51 0 1.02-.2 1.41-.59l7.78-7.78 2.81-2.81c.8-.78.8-2.07 0-2.86zM5.41 20L4 18.59l7.72-7.72 1.47 1.35L5.41 20z\"/>\n",
              "  </svg>\n",
              "      </button>\n",
              "      \n",
              "  <style>\n",
              "    .colab-df-container {\n",
              "      display:flex;\n",
              "      flex-wrap:wrap;\n",
              "      gap: 12px;\n",
              "    }\n",
              "\n",
              "    .colab-df-convert {\n",
              "      background-color: #E8F0FE;\n",
              "      border: none;\n",
              "      border-radius: 50%;\n",
              "      cursor: pointer;\n",
              "      display: none;\n",
              "      fill: #1967D2;\n",
              "      height: 32px;\n",
              "      padding: 0 0 0 0;\n",
              "      width: 32px;\n",
              "    }\n",
              "\n",
              "    .colab-df-convert:hover {\n",
              "      background-color: #E2EBFA;\n",
              "      box-shadow: 0px 1px 2px rgba(60, 64, 67, 0.3), 0px 1px 3px 1px rgba(60, 64, 67, 0.15);\n",
              "      fill: #174EA6;\n",
              "    }\n",
              "\n",
              "    [theme=dark] .colab-df-convert {\n",
              "      background-color: #3B4455;\n",
              "      fill: #D2E3FC;\n",
              "    }\n",
              "\n",
              "    [theme=dark] .colab-df-convert:hover {\n",
              "      background-color: #434B5C;\n",
              "      box-shadow: 0px 1px 3px 1px rgba(0, 0, 0, 0.15);\n",
              "      filter: drop-shadow(0px 1px 2px rgba(0, 0, 0, 0.3));\n",
              "      fill: #FFFFFF;\n",
              "    }\n",
              "  </style>\n",
              "\n",
              "      <script>\n",
              "        const buttonEl =\n",
              "          document.querySelector('#df-fb2ad041-9d5d-451a-9602-a58fb8cb4fd2 button.colab-df-convert');\n",
              "        buttonEl.style.display =\n",
              "          google.colab.kernel.accessAllowed ? 'block' : 'none';\n",
              "\n",
              "        async function convertToInteractive(key) {\n",
              "          const element = document.querySelector('#df-fb2ad041-9d5d-451a-9602-a58fb8cb4fd2');\n",
              "          const dataTable =\n",
              "            await google.colab.kernel.invokeFunction('convertToInteractive',\n",
              "                                                     [key], {});\n",
              "          if (!dataTable) return;\n",
              "\n",
              "          const docLinkHtml = 'Like what you see? Visit the ' +\n",
              "            '<a target=\"_blank\" href=https://colab.research.google.com/notebooks/data_table.ipynb>data table notebook</a>'\n",
              "            + ' to learn more about interactive tables.';\n",
              "          element.innerHTML = '';\n",
              "          dataTable['output_type'] = 'display_data';\n",
              "          await google.colab.output.renderOutput(dataTable, element);\n",
              "          const docLink = document.createElement('div');\n",
              "          docLink.innerHTML = docLinkHtml;\n",
              "          element.appendChild(docLink);\n",
              "        }\n",
              "      </script>\n",
              "    </div>\n",
              "  </div>\n",
              "  "
            ]
          },
          "metadata": {},
          "execution_count": 75
        }
      ]
    },
    {
      "cell_type": "markdown",
      "source": [
        "From this, it is visible that there are some issues:\n",
        "\n",
        "**Tidiness Issues**\n",
        "- `rating_numerator` and `rating_denominator` are different columns representing a similar quality.\n",
        "- The `doggo`,`floofer`,`pupper` and `puppo` are different columns representing a similar dog quality.\n",
        "\n",
        "**Quality Issues**\n",
        "- The timestamp variables have an object datatype.\n",
        "- The `in_reply_to_status_id`, `in_reply_to_user_id`, `favorite_counts` and `retweet_counts` variables are floats.\n",
        "- There are missing values in the following columns:\n",
        "`in_reply_to_status_id`,\n",
        " `in_reply_to_user_id`,\n",
        " `retweeted_status_id`,\n",
        " `retweeted_status_user_id`,\n",
        " `retweeted_status_timestamp`,\n",
        " `expanded_urls`,\n",
        " `favorites_count`,\n",
        " `retweets_count`,`jpg_url`,\n",
        " `img_num`,\n",
        " `p1`,\n",
        " `p1_conf`,\n",
        " `p1_dog`,\n",
        " `p2`,\n",
        " `p2_conf`,\n",
        " `p2_dog`,\n",
        " `p3`,\n",
        " `p3_conf`,\n",
        " `p3_dog`.\n",
        "- Redundancy in the columns `in_reply_to_status_id` and `tweet_id`.\n",
        "- `rating_denominator` has value more than 10.\n",
        "- Presence of columns with data on retweeted.\n",
        "- `fav_rets_df` had duplicate id.\n",
        "- Some images are not classified as dogs in all three categories.\n",
        "- `fav_rets_df` id name not consistent with tweet_id column name that is common for the other datasets."
      ],
      "metadata": {
        "id": "fhcZ0oDdMZ2_"
      }
    },
    {
      "cell_type": "markdown",
      "source": [
        "## Clean Data"
      ],
      "metadata": {
        "id": "Dnc9hPnJcYsH"
      }
    },
    {
      "cell_type": "code",
      "source": [
        "# Make data copy\n",
        "to_clean_df = updated_df.copy()"
      ],
      "metadata": {
        "id": "Q3kUl_j2aTYP"
      },
      "execution_count": 76,
      "outputs": []
    },
    {
      "cell_type": "markdown",
      "source": [
        "### Quality Issues\n",
        "Fix quality issues"
      ],
      "metadata": {
        "id": "_Bgk23_u4aVQ"
      }
    },
    {
      "cell_type": "markdown",
      "source": [
        "#### Inconsistency in fav_rets_df\n",
        "The inconsistency in the favs_rets_df was solved in the **gathering data** phase."
      ],
      "metadata": {
        "id": "TLDUsQRylM5P"
      }
    },
    {
      "cell_type": "markdown",
      "source": [
        "#### Missing Values"
      ],
      "metadata": {
        "id": "JweDhr724c2L"
      }
    },
    {
      "cell_type": "markdown",
      "source": [
        "**Define**\n",
        "- Delete any column that has more than 70% missing data.\n",
        "- Drop any other observations with missing values. \n"
      ],
      "metadata": {
        "id": "2SqieICD4jpk"
      }
    },
    {
      "cell_type": "markdown",
      "source": [
        "**Code**"
      ],
      "metadata": {
        "id": "AO3Akexh4jns"
      }
    },
    {
      "cell_type": "code",
      "source": [
        "# Drop any column that has missing values that are more than 70%\n",
        "\n",
        "## Get columns\n",
        "to_drop = [column for column in to_clean_df.columns if to_clean_df[column].isnull().sum()/len(to_clean_df) > 0.7 ]\n",
        "\n",
        "## Drop them\n",
        "to_clean_df.drop(to_drop, axis=1, inplace=True)"
      ],
      "metadata": {
        "id": "j4OG7PDw5oi8"
      },
      "execution_count": 77,
      "outputs": []
    },
    {
      "cell_type": "code",
      "source": [
        "# Drop missing observations\n",
        "\n",
        "to_clean_df.dropna(axis=0, how='any', inplace=True)\n",
        "to_clean_df.reset_index(drop=True, inplace=True)"
      ],
      "metadata": {
        "id": "Zlf1fTZb6ciM"
      },
      "execution_count": 78,
      "outputs": []
    },
    {
      "cell_type": "markdown",
      "source": [
        "**Test**"
      ],
      "metadata": {
        "id": "0_dywzmB4jl3"
      }
    },
    {
      "cell_type": "code",
      "source": [
        "# Check for missing values\n",
        "to_clean_df.isnull().sum()"
      ],
      "metadata": {
        "colab": {
          "base_uri": "https://localhost:8080/"
        },
        "id": "JulKxm1e4Z7K",
        "outputId": "3e529594-7ddf-49d6-a936-31e0bf739b3d"
      },
      "execution_count": 79,
      "outputs": [
        {
          "output_type": "execute_result",
          "data": {
            "text/plain": [
              "tweet_id              0\n",
              "timestamp             0\n",
              "source                0\n",
              "text                  0\n",
              "expanded_urls         0\n",
              "rating_numerator      0\n",
              "rating_denominator    0\n",
              "name                  0\n",
              "doggo                 0\n",
              "floofer               0\n",
              "pupper                0\n",
              "puppo                 0\n",
              "favorites_count       0\n",
              "retweets_count        0\n",
              "jpg_url               0\n",
              "img_num               0\n",
              "p1                    0\n",
              "p1_conf               0\n",
              "p1_dog                0\n",
              "p2                    0\n",
              "p2_conf               0\n",
              "p2_dog                0\n",
              "p3                    0\n",
              "p3_conf               0\n",
              "p3_dog                0\n",
              "dtype: int64"
            ]
          },
          "metadata": {},
          "execution_count": 79
        }
      ]
    },
    {
      "cell_type": "markdown",
      "source": [
        "The missing values have been dealt with. Observations with retweeted data have also been dealt with via this operation."
      ],
      "metadata": {
        "id": "t_LJ_TVl9LNm"
      }
    },
    {
      "cell_type": "markdown",
      "source": [
        "#### Datatype issues\n"
      ],
      "metadata": {
        "id": "MMbLGUEE9Trb"
      }
    },
    {
      "cell_type": "markdown",
      "source": [
        "**Define**\n",
        "- Convert timestamp to datetime\n",
        "- Convert retweet_count and favorites_count to integer."
      ],
      "metadata": {
        "id": "KBDvlAhS9WrC"
      }
    },
    {
      "cell_type": "markdown",
      "source": [
        "**Code**"
      ],
      "metadata": {
        "id": "torE2C0B95kS"
      }
    },
    {
      "cell_type": "code",
      "source": [
        "# Convert timestamp to datetime\n",
        "to_clean_df['timestamp'] = pd.to_datetime(to_clean_df['timestamp'])"
      ],
      "metadata": {
        "id": "eAObn52j95U9"
      },
      "execution_count": 80,
      "outputs": []
    },
    {
      "cell_type": "code",
      "source": [
        "# Convert retweet_count and favorite_count to integers\n",
        "to_clean_df['favorites_count'] = to_clean_df['favorites_count'].astype(int)\n",
        "to_clean_df['retweets_count'] = to_clean_df['retweets_count'].astype(int)"
      ],
      "metadata": {
        "id": "Xom5SsQL72NP"
      },
      "execution_count": 81,
      "outputs": []
    },
    {
      "cell_type": "markdown",
      "source": [
        "**Test**"
      ],
      "metadata": {
        "id": "-PTjykwE-kHy"
      }
    },
    {
      "cell_type": "code",
      "source": [
        "to_clean_df.info()"
      ],
      "metadata": {
        "colab": {
          "base_uri": "https://localhost:8080/"
        },
        "id": "3LvF7fSC-i95",
        "outputId": "c610b2f1-1ef8-402f-9b0d-e5ed7922b1a2"
      },
      "execution_count": 82,
      "outputs": [
        {
          "output_type": "stream",
          "name": "stdout",
          "text": [
            "<class 'pandas.core.frame.DataFrame'>\n",
            "RangeIndex: 2057 entries, 0 to 2056\n",
            "Data columns (total 25 columns):\n",
            " #   Column              Non-Null Count  Dtype              \n",
            "---  ------              --------------  -----              \n",
            " 0   tweet_id            2057 non-null   int64              \n",
            " 1   timestamp           2057 non-null   datetime64[ns, UTC]\n",
            " 2   source              2057 non-null   object             \n",
            " 3   text                2057 non-null   object             \n",
            " 4   expanded_urls       2057 non-null   object             \n",
            " 5   rating_numerator    2057 non-null   int64              \n",
            " 6   rating_denominator  2057 non-null   int64              \n",
            " 7   name                2057 non-null   object             \n",
            " 8   doggo               2057 non-null   object             \n",
            " 9   floofer             2057 non-null   object             \n",
            " 10  pupper              2057 non-null   object             \n",
            " 11  puppo               2057 non-null   object             \n",
            " 12  favorites_count     2057 non-null   int64              \n",
            " 13  retweets_count      2057 non-null   int64              \n",
            " 14  jpg_url             2057 non-null   object             \n",
            " 15  img_num             2057 non-null   float64            \n",
            " 16  p1                  2057 non-null   object             \n",
            " 17  p1_conf             2057 non-null   float64            \n",
            " 18  p1_dog              2057 non-null   object             \n",
            " 19  p2                  2057 non-null   object             \n",
            " 20  p2_conf             2057 non-null   float64            \n",
            " 21  p2_dog              2057 non-null   object             \n",
            " 22  p3                  2057 non-null   object             \n",
            " 23  p3_conf             2057 non-null   float64            \n",
            " 24  p3_dog              2057 non-null   object             \n",
            "dtypes: datetime64[ns, UTC](1), float64(4), int64(5), object(15)\n",
            "memory usage: 401.9+ KB\n"
          ]
        }
      ]
    },
    {
      "cell_type": "markdown",
      "source": [
        "The datatypes have been correctly changed."
      ],
      "metadata": {
        "id": "8hVQJOfA_JI4"
      }
    },
    {
      "cell_type": "markdown",
      "source": [
        "#### Value Issues"
      ],
      "metadata": {
        "id": "JuI12bPGDrK8"
      }
    },
    {
      "cell_type": "markdown",
      "source": [
        "**Define**\n",
        "- Investigate all values in denominator that are less than 10.\n",
        "- Drop values in denominator greater than 10.\n",
        "- Combine the two ratings into one column called `rating_out_of_ten`."
      ],
      "metadata": {
        "id": "J69eHLnsEF50"
      }
    },
    {
      "cell_type": "markdown",
      "source": [
        "**Code**"
      ],
      "metadata": {
        "id": "l90r6mkoEl5a"
      }
    },
    {
      "cell_type": "code",
      "source": [
        "# Investigate observations with rating denominator more than 10\n",
        "more_than_10 = to_clean_df.query('rating_denominator != 10')\n",
        "more_than_10"
      ],
      "metadata": {
        "colab": {
          "base_uri": "https://localhost:8080/",
          "height": 1000
        },
        "id": "vFJU9qTXm9XW",
        "outputId": "22f7e7d9-14be-4ccc-8353-330d775da588"
      },
      "execution_count": 83,
      "outputs": [
        {
          "output_type": "execute_result",
          "data": {
            "text/plain": [
              "                tweet_id                 timestamp  \\\n",
              "335   820690176645140481 2017-01-15 17:52:40+00:00   \n",
              "405   810984652412424192 2016-12-19 23:06:23+00:00   \n",
              "720   758467244762497024 2016-07-28 01:00:57+00:00   \n",
              "861   740373189193256964 2016-06-08 02:41:38+00:00   \n",
              "909   731156023742988288 2016-05-13 16:15:54+00:00   \n",
              "952   722974582966214656 2016-04-21 02:25:47+00:00   \n",
              "986   716439118184652801 2016-04-03 01:36:11+00:00   \n",
              "1007  713900603437621249 2016-03-27 01:29:02+00:00   \n",
              "1032  710658690886586372 2016-03-18 02:46:49+00:00   \n",
              "1050  709198395643068416 2016-03-14 02:04:08+00:00   \n",
              "1116  704054845121142784 2016-02-28 21:25:30+00:00   \n",
              "1192  697463031882764288 2016-02-10 16:51:59+00:00   \n",
              "1364  684225744407494656 2016-01-05 04:11:44+00:00   \n",
              "1365  684222868335505415 2016-01-05 04:00:18+00:00   \n",
              "1390  682962037429899265 2016-01-01 16:30:13+00:00   \n",
              "1496  677716515794329600 2015-12-18 05:06:23+00:00   \n",
              "1555  675853064436391936 2015-12-13 01:41:41+00:00   \n",
              "2036  666287406224695296 2015-11-16 16:11:11+00:00   \n",
              "\n",
              "                                                                                  source  \\\n",
              "335   <a href=\"http://twitter.com/download/iphone\" rel=\"nofollow\">Twitter for iPhone</a>   \n",
              "405   <a href=\"http://twitter.com/download/iphone\" rel=\"nofollow\">Twitter for iPhone</a>   \n",
              "720   <a href=\"http://twitter.com/download/iphone\" rel=\"nofollow\">Twitter for iPhone</a>   \n",
              "861   <a href=\"http://twitter.com/download/iphone\" rel=\"nofollow\">Twitter for iPhone</a>   \n",
              "909   <a href=\"http://twitter.com/download/iphone\" rel=\"nofollow\">Twitter for iPhone</a>   \n",
              "952   <a href=\"http://twitter.com/download/iphone\" rel=\"nofollow\">Twitter for iPhone</a>   \n",
              "986   <a href=\"http://twitter.com/download/iphone\" rel=\"nofollow\">Twitter for iPhone</a>   \n",
              "1007  <a href=\"http://twitter.com/download/iphone\" rel=\"nofollow\">Twitter for iPhone</a>   \n",
              "1032  <a href=\"http://twitter.com/download/iphone\" rel=\"nofollow\">Twitter for iPhone</a>   \n",
              "1050  <a href=\"http://twitter.com/download/iphone\" rel=\"nofollow\">Twitter for iPhone</a>   \n",
              "1116  <a href=\"http://twitter.com/download/iphone\" rel=\"nofollow\">Twitter for iPhone</a>   \n",
              "1192  <a href=\"http://twitter.com/download/iphone\" rel=\"nofollow\">Twitter for iPhone</a>   \n",
              "1364  <a href=\"http://twitter.com/download/iphone\" rel=\"nofollow\">Twitter for iPhone</a>   \n",
              "1365  <a href=\"http://twitter.com/download/iphone\" rel=\"nofollow\">Twitter for iPhone</a>   \n",
              "1390  <a href=\"http://twitter.com/download/iphone\" rel=\"nofollow\">Twitter for iPhone</a>   \n",
              "1496  <a href=\"http://twitter.com/download/iphone\" rel=\"nofollow\">Twitter for iPhone</a>   \n",
              "1555  <a href=\"http://twitter.com/download/iphone\" rel=\"nofollow\">Twitter for iPhone</a>   \n",
              "2036  <a href=\"http://twitter.com/download/iphone\" rel=\"nofollow\">Twitter for iPhone</a>   \n",
              "\n",
              "                                                                                                                                                                           text  \\\n",
              "335                                                                         The floofs have been released I repeat the floofs have been released. 84/70 https://t.co/NIYC820tmd   \n",
              "405   Meet Sam. She smiles 24/7 &amp; secretly aspires to be a reindeer. \\nKeep Sam smiling by clicking and sharing this link:\\nhttps://t.co/98tB8y7y7t https://t.co/LouL5vdvxx   \n",
              "720                                                                                              Why does this never happen at my front door... 165/150 https://t.co/HmwrdfEfUE   \n",
              "861                                After so many requests, this is Bretagne. She was the last surviving 9/11 search dog, and our second ever 14/10. RIP https://t.co/XAVDNDaVgQ   \n",
              "909                                                   Say hello to this unbelievably well behaved squad of doggos. 204/170 would try to pet all at once https://t.co/yGQI3He3xv   \n",
              "952                                                                                                            Happy 4/20 from the squad! 13/10 for all https://t.co/eV1diwds8a   \n",
              "986                                                       This is Bluebert. He just saw that both #FinalFur match ups are split 50/50. Amazed af. 11/10 https://t.co/Kky1DPG4iq   \n",
              "1007                                                                              Happy Saturday here's 9 puppers on a bench. 99/90 good work everybody https://t.co/mpvaVxKmc1   \n",
              "1032                                                               Here's a brigade of puppers. All look very prepared for whatever happens next. 80/80 https://t.co/0eb7R1Om12   \n",
              "1050                         From left to right:\\nCletus, Jerome, Alejandro, Burp, &amp; Titson\\nNone know where camera is. 45/50 would hug all at once https://t.co/sedre1ivTK   \n",
              "1116                                                                                         Here is a whole flock of puppers.  60/50 I'll take the lot https://t.co/9dpcw6MdWa   \n",
              "1192                                                                               Happy Wednesday here's a bucket of pups. 44/40 would pet all at once https://t.co/HppvrYuamZ   \n",
              "1364                                             Two sneaky puppers were not initially seen, moving the rating to 143/130. Please forgive us. Thank you https://t.co/kRK51Y5ac3   \n",
              "1365                               Someone help the girl is being mugged. Several are distracting her while two steal her shoes. Clever puppers 121/110 https://t.co/1zfnTJLt55   \n",
              "1390                                This is Darrel. He just robbed a 7/11 and is in a high speed police chase. Was just spotted by the helicopter 10/10 https://t.co/7EsP8LmSp5   \n",
              "1496                                                                                                     IT'S PUPPERGEDDON. Total of 144/120 ...I think https://t.co/ZanVtAtvIq   \n",
              "1555                                                                Here we have an entire platoon of puppers. Total score: 88/80 would pet all at once https://t.co/y93p6FLvVw   \n",
              "2036                                   This is an Albanian 3 1/2 legged  Episcopalian. Loves well-polished hardwood flooring. Penis on the collar. 9/10 https://t.co/d9NcXFKwLv   \n",
              "\n",
              "                                                                                                                                                                                                                                                        expanded_urls  \\\n",
              "335                                                                   https://twitter.com/dog_rates/status/820690176645140481/photo/1,https://twitter.com/dog_rates/status/820690176645140481/photo/1,https://twitter.com/dog_rates/status/820690176645140481/photo/1   \n",
              "405                                                                                                                                                               https://www.gofundme.com/sams-smile,https://twitter.com/dog_rates/status/810984652412424192/photo/1   \n",
              "720                                                                                                                                                                                                   https://twitter.com/dog_rates/status/758467244762497024/video/1   \n",
              "861   https://twitter.com/dog_rates/status/740373189193256964/photo/1,https://twitter.com/dog_rates/status/740373189193256964/photo/1,https://twitter.com/dog_rates/status/740373189193256964/photo/1,https://twitter.com/dog_rates/status/740373189193256964/photo/1   \n",
              "909                                                                                                                                                                                                   https://twitter.com/dog_rates/status/731156023742988288/photo/1   \n",
              "952                                                                                                                                                                                                   https://twitter.com/dog_rates/status/722974582966214656/photo/1   \n",
              "986                                                                                                                                                                                                   https://twitter.com/dog_rates/status/716439118184652801/photo/1   \n",
              "1007                                                                                                                                                                                                  https://twitter.com/dog_rates/status/713900603437621249/photo/1   \n",
              "1032                                                                                                                                                                                                  https://twitter.com/dog_rates/status/710658690886586372/photo/1   \n",
              "1050                                                                                                                                                                                                  https://twitter.com/dog_rates/status/709198395643068416/photo/1   \n",
              "1116                                                                                                                                                                                                  https://twitter.com/dog_rates/status/704054845121142784/photo/1   \n",
              "1192                                                                                                                                                                                                  https://twitter.com/dog_rates/status/697463031882764288/photo/1   \n",
              "1364                                                                                                                                  https://twitter.com/dog_rates/status/684225744407494656/photo/1,https://twitter.com/dog_rates/status/684225744407494656/photo/1   \n",
              "1365                                                                                                                                                                                                  https://twitter.com/dog_rates/status/684222868335505415/photo/1   \n",
              "1390                                                                                                                                                                                                  https://twitter.com/dog_rates/status/682962037429899265/photo/1   \n",
              "1496                                                                                                                                                                                                  https://twitter.com/dog_rates/status/677716515794329600/photo/1   \n",
              "1555                                                                                                                                  https://twitter.com/dog_rates/status/675853064436391936/photo/1,https://twitter.com/dog_rates/status/675853064436391936/photo/1   \n",
              "2036                                                                                                                                                                                                  https://twitter.com/dog_rates/status/666287406224695296/photo/1   \n",
              "\n",
              "      rating_numerator  rating_denominator      name doggo floofer  ...  \\\n",
              "335                 84                  70      None  None    None  ...   \n",
              "405                 24                   7       Sam  None    None  ...   \n",
              "720                165                 150      None  None    None  ...   \n",
              "861                  9                  11      None  None    None  ...   \n",
              "909                204                 170      this  None    None  ...   \n",
              "952                  4                  20      None  None    None  ...   \n",
              "986                 50                  50  Bluebert  None    None  ...   \n",
              "1007                99                  90      None  None    None  ...   \n",
              "1032                80                  80      None  None    None  ...   \n",
              "1050                45                  50      None  None    None  ...   \n",
              "1116                60                  50         a  None    None  ...   \n",
              "1192                44                  40      None  None    None  ...   \n",
              "1364               143                 130      None  None    None  ...   \n",
              "1365               121                 110      None  None    None  ...   \n",
              "1390                 7                  11    Darrel  None    None  ...   \n",
              "1496               144                 120      None  None    None  ...   \n",
              "1555                88                  80      None  None    None  ...   \n",
              "2036                 1                   2        an  None    None  ...   \n",
              "\n",
              "     img_num                           p1   p1_conf  p1_dog  \\\n",
              "335      2.0  West_Highland_white_terrier  0.872064    True   \n",
              "405      1.0             golden_retriever  0.871342    True   \n",
              "720      1.0           Labrador_retriever  0.436377    True   \n",
              "861      3.0             golden_retriever  0.807644    True   \n",
              "909      1.0                     lakeside  0.501767   False   \n",
              "952      1.0                   Great_Dane  0.246762    True   \n",
              "986      1.0               Siberian_husky  0.396495    True   \n",
              "1007     1.0             golden_retriever  0.371816    True   \n",
              "1032     1.0  soft-coated_wheaten_terrier  0.948617    True   \n",
              "1050     1.0                       borzoi  0.490783    True   \n",
              "1116     1.0               Great_Pyrenees  0.667939    True   \n",
              "1192     1.0           Labrador_retriever  0.999885    True   \n",
              "1364     2.0             golden_retriever  0.203249    True   \n",
              "1365     1.0  soft-coated_wheaten_terrier  0.791182    True   \n",
              "1390     1.0                        dingo  0.278600   False   \n",
              "1496     1.0                        teddy  0.662908   False   \n",
              "1555     1.0           Labrador_retriever  0.868367    True   \n",
              "2036     1.0                  Maltese_dog  0.857531    True   \n",
              "\n",
              "                              p2   p2_conf p2_dog  \\\n",
              "335                       kuvasz  0.059526   True   \n",
              "405              Tibetan_mastiff  0.036708   True   \n",
              "720                    Chihuahua  0.113956   True   \n",
              "861                       kuvasz  0.101286   True   \n",
              "909                   breakwater  0.051351  False   \n",
              "952   Greater_Swiss_Mountain_dog  0.126131   True   \n",
              "986                     malamute  0.317053   True   \n",
              "1007              cocker_spaniel  0.177413   True   \n",
              "1032              Dandie_Dinmont  0.018664   True   \n",
              "1050     wire-haired_fox_terrier  0.083513   True   \n",
              "1116                      kuvasz  0.228764   True   \n",
              "1192            golden_retriever  0.000098   True   \n",
              "1364                     Samoyed  0.067958   True   \n",
              "1365              cocker_spaniel  0.072444   True   \n",
              "1390                   Chihuahua  0.155207   True   \n",
              "1496                        crib  0.031891  False   \n",
              "1555            golden_retriever  0.043305   True   \n",
              "2036                  toy_poodle  0.063064   True   \n",
              "\n",
              "                                  p3   p3_conf p3_dog  \n",
              "335                          Samoyed  0.037400   True  \n",
              "405               Labrador_retriever  0.025823   True  \n",
              "720   American_Staffordshire_terrier  0.099689   True  \n",
              "861               Labrador_retriever  0.023785   True  \n",
              "909                     king_penguin  0.049444  False  \n",
              "952                       Weimaraner  0.085297   True  \n",
              "986                       Eskimo_dog  0.273419   True  \n",
              "1007                    Irish_setter  0.092725   True  \n",
              "1032                           cairn  0.015943   True  \n",
              "1050                  English_setter  0.083184   True  \n",
              "1116                golden_retriever  0.043885   True  \n",
              "1192                             pug  0.000008   True  \n",
              "1364                  Great_Pyrenees  0.065327   True  \n",
              "1365                           teddy  0.071486  False  \n",
              "1390                           loupe  0.153598  False  \n",
              "1496                            chow  0.025438   True  \n",
              "1555                          vizsla  0.028207   True  \n",
              "2036                miniature_poodle  0.025581   True  \n",
              "\n",
              "[18 rows x 25 columns]"
            ],
            "text/html": [
              "\n",
              "  <div id=\"df-de51dec4-d19b-4eae-98c6-73c47a69dfea\">\n",
              "    <div class=\"colab-df-container\">\n",
              "      <div>\n",
              "<style scoped>\n",
              "    .dataframe tbody tr th:only-of-type {\n",
              "        vertical-align: middle;\n",
              "    }\n",
              "\n",
              "    .dataframe tbody tr th {\n",
              "        vertical-align: top;\n",
              "    }\n",
              "\n",
              "    .dataframe thead th {\n",
              "        text-align: right;\n",
              "    }\n",
              "</style>\n",
              "<table border=\"1\" class=\"dataframe\">\n",
              "  <thead>\n",
              "    <tr style=\"text-align: right;\">\n",
              "      <th></th>\n",
              "      <th>tweet_id</th>\n",
              "      <th>timestamp</th>\n",
              "      <th>source</th>\n",
              "      <th>text</th>\n",
              "      <th>expanded_urls</th>\n",
              "      <th>rating_numerator</th>\n",
              "      <th>rating_denominator</th>\n",
              "      <th>name</th>\n",
              "      <th>doggo</th>\n",
              "      <th>floofer</th>\n",
              "      <th>...</th>\n",
              "      <th>img_num</th>\n",
              "      <th>p1</th>\n",
              "      <th>p1_conf</th>\n",
              "      <th>p1_dog</th>\n",
              "      <th>p2</th>\n",
              "      <th>p2_conf</th>\n",
              "      <th>p2_dog</th>\n",
              "      <th>p3</th>\n",
              "      <th>p3_conf</th>\n",
              "      <th>p3_dog</th>\n",
              "    </tr>\n",
              "  </thead>\n",
              "  <tbody>\n",
              "    <tr>\n",
              "      <th>335</th>\n",
              "      <td>820690176645140481</td>\n",
              "      <td>2017-01-15 17:52:40+00:00</td>\n",
              "      <td>&lt;a href=\"http://twitter.com/download/iphone\" rel=\"nofollow\"&gt;Twitter for iPhone&lt;/a&gt;</td>\n",
              "      <td>The floofs have been released I repeat the floofs have been released. 84/70 https://t.co/NIYC820tmd</td>\n",
              "      <td>https://twitter.com/dog_rates/status/820690176645140481/photo/1,https://twitter.com/dog_rates/status/820690176645140481/photo/1,https://twitter.com/dog_rates/status/820690176645140481/photo/1</td>\n",
              "      <td>84</td>\n",
              "      <td>70</td>\n",
              "      <td>None</td>\n",
              "      <td>None</td>\n",
              "      <td>None</td>\n",
              "      <td>...</td>\n",
              "      <td>2.0</td>\n",
              "      <td>West_Highland_white_terrier</td>\n",
              "      <td>0.872064</td>\n",
              "      <td>True</td>\n",
              "      <td>kuvasz</td>\n",
              "      <td>0.059526</td>\n",
              "      <td>True</td>\n",
              "      <td>Samoyed</td>\n",
              "      <td>0.037400</td>\n",
              "      <td>True</td>\n",
              "    </tr>\n",
              "    <tr>\n",
              "      <th>405</th>\n",
              "      <td>810984652412424192</td>\n",
              "      <td>2016-12-19 23:06:23+00:00</td>\n",
              "      <td>&lt;a href=\"http://twitter.com/download/iphone\" rel=\"nofollow\"&gt;Twitter for iPhone&lt;/a&gt;</td>\n",
              "      <td>Meet Sam. She smiles 24/7 &amp;amp; secretly aspires to be a reindeer. \\nKeep Sam smiling by clicking and sharing this link:\\nhttps://t.co/98tB8y7y7t https://t.co/LouL5vdvxx</td>\n",
              "      <td>https://www.gofundme.com/sams-smile,https://twitter.com/dog_rates/status/810984652412424192/photo/1</td>\n",
              "      <td>24</td>\n",
              "      <td>7</td>\n",
              "      <td>Sam</td>\n",
              "      <td>None</td>\n",
              "      <td>None</td>\n",
              "      <td>...</td>\n",
              "      <td>1.0</td>\n",
              "      <td>golden_retriever</td>\n",
              "      <td>0.871342</td>\n",
              "      <td>True</td>\n",
              "      <td>Tibetan_mastiff</td>\n",
              "      <td>0.036708</td>\n",
              "      <td>True</td>\n",
              "      <td>Labrador_retriever</td>\n",
              "      <td>0.025823</td>\n",
              "      <td>True</td>\n",
              "    </tr>\n",
              "    <tr>\n",
              "      <th>720</th>\n",
              "      <td>758467244762497024</td>\n",
              "      <td>2016-07-28 01:00:57+00:00</td>\n",
              "      <td>&lt;a href=\"http://twitter.com/download/iphone\" rel=\"nofollow\"&gt;Twitter for iPhone&lt;/a&gt;</td>\n",
              "      <td>Why does this never happen at my front door... 165/150 https://t.co/HmwrdfEfUE</td>\n",
              "      <td>https://twitter.com/dog_rates/status/758467244762497024/video/1</td>\n",
              "      <td>165</td>\n",
              "      <td>150</td>\n",
              "      <td>None</td>\n",
              "      <td>None</td>\n",
              "      <td>None</td>\n",
              "      <td>...</td>\n",
              "      <td>1.0</td>\n",
              "      <td>Labrador_retriever</td>\n",
              "      <td>0.436377</td>\n",
              "      <td>True</td>\n",
              "      <td>Chihuahua</td>\n",
              "      <td>0.113956</td>\n",
              "      <td>True</td>\n",
              "      <td>American_Staffordshire_terrier</td>\n",
              "      <td>0.099689</td>\n",
              "      <td>True</td>\n",
              "    </tr>\n",
              "    <tr>\n",
              "      <th>861</th>\n",
              "      <td>740373189193256964</td>\n",
              "      <td>2016-06-08 02:41:38+00:00</td>\n",
              "      <td>&lt;a href=\"http://twitter.com/download/iphone\" rel=\"nofollow\"&gt;Twitter for iPhone&lt;/a&gt;</td>\n",
              "      <td>After so many requests, this is Bretagne. She was the last surviving 9/11 search dog, and our second ever 14/10. RIP https://t.co/XAVDNDaVgQ</td>\n",
              "      <td>https://twitter.com/dog_rates/status/740373189193256964/photo/1,https://twitter.com/dog_rates/status/740373189193256964/photo/1,https://twitter.com/dog_rates/status/740373189193256964/photo/1,https://twitter.com/dog_rates/status/740373189193256964/photo/1</td>\n",
              "      <td>9</td>\n",
              "      <td>11</td>\n",
              "      <td>None</td>\n",
              "      <td>None</td>\n",
              "      <td>None</td>\n",
              "      <td>...</td>\n",
              "      <td>3.0</td>\n",
              "      <td>golden_retriever</td>\n",
              "      <td>0.807644</td>\n",
              "      <td>True</td>\n",
              "      <td>kuvasz</td>\n",
              "      <td>0.101286</td>\n",
              "      <td>True</td>\n",
              "      <td>Labrador_retriever</td>\n",
              "      <td>0.023785</td>\n",
              "      <td>True</td>\n",
              "    </tr>\n",
              "    <tr>\n",
              "      <th>909</th>\n",
              "      <td>731156023742988288</td>\n",
              "      <td>2016-05-13 16:15:54+00:00</td>\n",
              "      <td>&lt;a href=\"http://twitter.com/download/iphone\" rel=\"nofollow\"&gt;Twitter for iPhone&lt;/a&gt;</td>\n",
              "      <td>Say hello to this unbelievably well behaved squad of doggos. 204/170 would try to pet all at once https://t.co/yGQI3He3xv</td>\n",
              "      <td>https://twitter.com/dog_rates/status/731156023742988288/photo/1</td>\n",
              "      <td>204</td>\n",
              "      <td>170</td>\n",
              "      <td>this</td>\n",
              "      <td>None</td>\n",
              "      <td>None</td>\n",
              "      <td>...</td>\n",
              "      <td>1.0</td>\n",
              "      <td>lakeside</td>\n",
              "      <td>0.501767</td>\n",
              "      <td>False</td>\n",
              "      <td>breakwater</td>\n",
              "      <td>0.051351</td>\n",
              "      <td>False</td>\n",
              "      <td>king_penguin</td>\n",
              "      <td>0.049444</td>\n",
              "      <td>False</td>\n",
              "    </tr>\n",
              "    <tr>\n",
              "      <th>952</th>\n",
              "      <td>722974582966214656</td>\n",
              "      <td>2016-04-21 02:25:47+00:00</td>\n",
              "      <td>&lt;a href=\"http://twitter.com/download/iphone\" rel=\"nofollow\"&gt;Twitter for iPhone&lt;/a&gt;</td>\n",
              "      <td>Happy 4/20 from the squad! 13/10 for all https://t.co/eV1diwds8a</td>\n",
              "      <td>https://twitter.com/dog_rates/status/722974582966214656/photo/1</td>\n",
              "      <td>4</td>\n",
              "      <td>20</td>\n",
              "      <td>None</td>\n",
              "      <td>None</td>\n",
              "      <td>None</td>\n",
              "      <td>...</td>\n",
              "      <td>1.0</td>\n",
              "      <td>Great_Dane</td>\n",
              "      <td>0.246762</td>\n",
              "      <td>True</td>\n",
              "      <td>Greater_Swiss_Mountain_dog</td>\n",
              "      <td>0.126131</td>\n",
              "      <td>True</td>\n",
              "      <td>Weimaraner</td>\n",
              "      <td>0.085297</td>\n",
              "      <td>True</td>\n",
              "    </tr>\n",
              "    <tr>\n",
              "      <th>986</th>\n",
              "      <td>716439118184652801</td>\n",
              "      <td>2016-04-03 01:36:11+00:00</td>\n",
              "      <td>&lt;a href=\"http://twitter.com/download/iphone\" rel=\"nofollow\"&gt;Twitter for iPhone&lt;/a&gt;</td>\n",
              "      <td>This is Bluebert. He just saw that both #FinalFur match ups are split 50/50. Amazed af. 11/10 https://t.co/Kky1DPG4iq</td>\n",
              "      <td>https://twitter.com/dog_rates/status/716439118184652801/photo/1</td>\n",
              "      <td>50</td>\n",
              "      <td>50</td>\n",
              "      <td>Bluebert</td>\n",
              "      <td>None</td>\n",
              "      <td>None</td>\n",
              "      <td>...</td>\n",
              "      <td>1.0</td>\n",
              "      <td>Siberian_husky</td>\n",
              "      <td>0.396495</td>\n",
              "      <td>True</td>\n",
              "      <td>malamute</td>\n",
              "      <td>0.317053</td>\n",
              "      <td>True</td>\n",
              "      <td>Eskimo_dog</td>\n",
              "      <td>0.273419</td>\n",
              "      <td>True</td>\n",
              "    </tr>\n",
              "    <tr>\n",
              "      <th>1007</th>\n",
              "      <td>713900603437621249</td>\n",
              "      <td>2016-03-27 01:29:02+00:00</td>\n",
              "      <td>&lt;a href=\"http://twitter.com/download/iphone\" rel=\"nofollow\"&gt;Twitter for iPhone&lt;/a&gt;</td>\n",
              "      <td>Happy Saturday here's 9 puppers on a bench. 99/90 good work everybody https://t.co/mpvaVxKmc1</td>\n",
              "      <td>https://twitter.com/dog_rates/status/713900603437621249/photo/1</td>\n",
              "      <td>99</td>\n",
              "      <td>90</td>\n",
              "      <td>None</td>\n",
              "      <td>None</td>\n",
              "      <td>None</td>\n",
              "      <td>...</td>\n",
              "      <td>1.0</td>\n",
              "      <td>golden_retriever</td>\n",
              "      <td>0.371816</td>\n",
              "      <td>True</td>\n",
              "      <td>cocker_spaniel</td>\n",
              "      <td>0.177413</td>\n",
              "      <td>True</td>\n",
              "      <td>Irish_setter</td>\n",
              "      <td>0.092725</td>\n",
              "      <td>True</td>\n",
              "    </tr>\n",
              "    <tr>\n",
              "      <th>1032</th>\n",
              "      <td>710658690886586372</td>\n",
              "      <td>2016-03-18 02:46:49+00:00</td>\n",
              "      <td>&lt;a href=\"http://twitter.com/download/iphone\" rel=\"nofollow\"&gt;Twitter for iPhone&lt;/a&gt;</td>\n",
              "      <td>Here's a brigade of puppers. All look very prepared for whatever happens next. 80/80 https://t.co/0eb7R1Om12</td>\n",
              "      <td>https://twitter.com/dog_rates/status/710658690886586372/photo/1</td>\n",
              "      <td>80</td>\n",
              "      <td>80</td>\n",
              "      <td>None</td>\n",
              "      <td>None</td>\n",
              "      <td>None</td>\n",
              "      <td>...</td>\n",
              "      <td>1.0</td>\n",
              "      <td>soft-coated_wheaten_terrier</td>\n",
              "      <td>0.948617</td>\n",
              "      <td>True</td>\n",
              "      <td>Dandie_Dinmont</td>\n",
              "      <td>0.018664</td>\n",
              "      <td>True</td>\n",
              "      <td>cairn</td>\n",
              "      <td>0.015943</td>\n",
              "      <td>True</td>\n",
              "    </tr>\n",
              "    <tr>\n",
              "      <th>1050</th>\n",
              "      <td>709198395643068416</td>\n",
              "      <td>2016-03-14 02:04:08+00:00</td>\n",
              "      <td>&lt;a href=\"http://twitter.com/download/iphone\" rel=\"nofollow\"&gt;Twitter for iPhone&lt;/a&gt;</td>\n",
              "      <td>From left to right:\\nCletus, Jerome, Alejandro, Burp, &amp;amp; Titson\\nNone know where camera is. 45/50 would hug all at once https://t.co/sedre1ivTK</td>\n",
              "      <td>https://twitter.com/dog_rates/status/709198395643068416/photo/1</td>\n",
              "      <td>45</td>\n",
              "      <td>50</td>\n",
              "      <td>None</td>\n",
              "      <td>None</td>\n",
              "      <td>None</td>\n",
              "      <td>...</td>\n",
              "      <td>1.0</td>\n",
              "      <td>borzoi</td>\n",
              "      <td>0.490783</td>\n",
              "      <td>True</td>\n",
              "      <td>wire-haired_fox_terrier</td>\n",
              "      <td>0.083513</td>\n",
              "      <td>True</td>\n",
              "      <td>English_setter</td>\n",
              "      <td>0.083184</td>\n",
              "      <td>True</td>\n",
              "    </tr>\n",
              "    <tr>\n",
              "      <th>1116</th>\n",
              "      <td>704054845121142784</td>\n",
              "      <td>2016-02-28 21:25:30+00:00</td>\n",
              "      <td>&lt;a href=\"http://twitter.com/download/iphone\" rel=\"nofollow\"&gt;Twitter for iPhone&lt;/a&gt;</td>\n",
              "      <td>Here is a whole flock of puppers.  60/50 I'll take the lot https://t.co/9dpcw6MdWa</td>\n",
              "      <td>https://twitter.com/dog_rates/status/704054845121142784/photo/1</td>\n",
              "      <td>60</td>\n",
              "      <td>50</td>\n",
              "      <td>a</td>\n",
              "      <td>None</td>\n",
              "      <td>None</td>\n",
              "      <td>...</td>\n",
              "      <td>1.0</td>\n",
              "      <td>Great_Pyrenees</td>\n",
              "      <td>0.667939</td>\n",
              "      <td>True</td>\n",
              "      <td>kuvasz</td>\n",
              "      <td>0.228764</td>\n",
              "      <td>True</td>\n",
              "      <td>golden_retriever</td>\n",
              "      <td>0.043885</td>\n",
              "      <td>True</td>\n",
              "    </tr>\n",
              "    <tr>\n",
              "      <th>1192</th>\n",
              "      <td>697463031882764288</td>\n",
              "      <td>2016-02-10 16:51:59+00:00</td>\n",
              "      <td>&lt;a href=\"http://twitter.com/download/iphone\" rel=\"nofollow\"&gt;Twitter for iPhone&lt;/a&gt;</td>\n",
              "      <td>Happy Wednesday here's a bucket of pups. 44/40 would pet all at once https://t.co/HppvrYuamZ</td>\n",
              "      <td>https://twitter.com/dog_rates/status/697463031882764288/photo/1</td>\n",
              "      <td>44</td>\n",
              "      <td>40</td>\n",
              "      <td>None</td>\n",
              "      <td>None</td>\n",
              "      <td>None</td>\n",
              "      <td>...</td>\n",
              "      <td>1.0</td>\n",
              "      <td>Labrador_retriever</td>\n",
              "      <td>0.999885</td>\n",
              "      <td>True</td>\n",
              "      <td>golden_retriever</td>\n",
              "      <td>0.000098</td>\n",
              "      <td>True</td>\n",
              "      <td>pug</td>\n",
              "      <td>0.000008</td>\n",
              "      <td>True</td>\n",
              "    </tr>\n",
              "    <tr>\n",
              "      <th>1364</th>\n",
              "      <td>684225744407494656</td>\n",
              "      <td>2016-01-05 04:11:44+00:00</td>\n",
              "      <td>&lt;a href=\"http://twitter.com/download/iphone\" rel=\"nofollow\"&gt;Twitter for iPhone&lt;/a&gt;</td>\n",
              "      <td>Two sneaky puppers were not initially seen, moving the rating to 143/130. Please forgive us. Thank you https://t.co/kRK51Y5ac3</td>\n",
              "      <td>https://twitter.com/dog_rates/status/684225744407494656/photo/1,https://twitter.com/dog_rates/status/684225744407494656/photo/1</td>\n",
              "      <td>143</td>\n",
              "      <td>130</td>\n",
              "      <td>None</td>\n",
              "      <td>None</td>\n",
              "      <td>None</td>\n",
              "      <td>...</td>\n",
              "      <td>2.0</td>\n",
              "      <td>golden_retriever</td>\n",
              "      <td>0.203249</td>\n",
              "      <td>True</td>\n",
              "      <td>Samoyed</td>\n",
              "      <td>0.067958</td>\n",
              "      <td>True</td>\n",
              "      <td>Great_Pyrenees</td>\n",
              "      <td>0.065327</td>\n",
              "      <td>True</td>\n",
              "    </tr>\n",
              "    <tr>\n",
              "      <th>1365</th>\n",
              "      <td>684222868335505415</td>\n",
              "      <td>2016-01-05 04:00:18+00:00</td>\n",
              "      <td>&lt;a href=\"http://twitter.com/download/iphone\" rel=\"nofollow\"&gt;Twitter for iPhone&lt;/a&gt;</td>\n",
              "      <td>Someone help the girl is being mugged. Several are distracting her while two steal her shoes. Clever puppers 121/110 https://t.co/1zfnTJLt55</td>\n",
              "      <td>https://twitter.com/dog_rates/status/684222868335505415/photo/1</td>\n",
              "      <td>121</td>\n",
              "      <td>110</td>\n",
              "      <td>None</td>\n",
              "      <td>None</td>\n",
              "      <td>None</td>\n",
              "      <td>...</td>\n",
              "      <td>1.0</td>\n",
              "      <td>soft-coated_wheaten_terrier</td>\n",
              "      <td>0.791182</td>\n",
              "      <td>True</td>\n",
              "      <td>cocker_spaniel</td>\n",
              "      <td>0.072444</td>\n",
              "      <td>True</td>\n",
              "      <td>teddy</td>\n",
              "      <td>0.071486</td>\n",
              "      <td>False</td>\n",
              "    </tr>\n",
              "    <tr>\n",
              "      <th>1390</th>\n",
              "      <td>682962037429899265</td>\n",
              "      <td>2016-01-01 16:30:13+00:00</td>\n",
              "      <td>&lt;a href=\"http://twitter.com/download/iphone\" rel=\"nofollow\"&gt;Twitter for iPhone&lt;/a&gt;</td>\n",
              "      <td>This is Darrel. He just robbed a 7/11 and is in a high speed police chase. Was just spotted by the helicopter 10/10 https://t.co/7EsP8LmSp5</td>\n",
              "      <td>https://twitter.com/dog_rates/status/682962037429899265/photo/1</td>\n",
              "      <td>7</td>\n",
              "      <td>11</td>\n",
              "      <td>Darrel</td>\n",
              "      <td>None</td>\n",
              "      <td>None</td>\n",
              "      <td>...</td>\n",
              "      <td>1.0</td>\n",
              "      <td>dingo</td>\n",
              "      <td>0.278600</td>\n",
              "      <td>False</td>\n",
              "      <td>Chihuahua</td>\n",
              "      <td>0.155207</td>\n",
              "      <td>True</td>\n",
              "      <td>loupe</td>\n",
              "      <td>0.153598</td>\n",
              "      <td>False</td>\n",
              "    </tr>\n",
              "    <tr>\n",
              "      <th>1496</th>\n",
              "      <td>677716515794329600</td>\n",
              "      <td>2015-12-18 05:06:23+00:00</td>\n",
              "      <td>&lt;a href=\"http://twitter.com/download/iphone\" rel=\"nofollow\"&gt;Twitter for iPhone&lt;/a&gt;</td>\n",
              "      <td>IT'S PUPPERGEDDON. Total of 144/120 ...I think https://t.co/ZanVtAtvIq</td>\n",
              "      <td>https://twitter.com/dog_rates/status/677716515794329600/photo/1</td>\n",
              "      <td>144</td>\n",
              "      <td>120</td>\n",
              "      <td>None</td>\n",
              "      <td>None</td>\n",
              "      <td>None</td>\n",
              "      <td>...</td>\n",
              "      <td>1.0</td>\n",
              "      <td>teddy</td>\n",
              "      <td>0.662908</td>\n",
              "      <td>False</td>\n",
              "      <td>crib</td>\n",
              "      <td>0.031891</td>\n",
              "      <td>False</td>\n",
              "      <td>chow</td>\n",
              "      <td>0.025438</td>\n",
              "      <td>True</td>\n",
              "    </tr>\n",
              "    <tr>\n",
              "      <th>1555</th>\n",
              "      <td>675853064436391936</td>\n",
              "      <td>2015-12-13 01:41:41+00:00</td>\n",
              "      <td>&lt;a href=\"http://twitter.com/download/iphone\" rel=\"nofollow\"&gt;Twitter for iPhone&lt;/a&gt;</td>\n",
              "      <td>Here we have an entire platoon of puppers. Total score: 88/80 would pet all at once https://t.co/y93p6FLvVw</td>\n",
              "      <td>https://twitter.com/dog_rates/status/675853064436391936/photo/1,https://twitter.com/dog_rates/status/675853064436391936/photo/1</td>\n",
              "      <td>88</td>\n",
              "      <td>80</td>\n",
              "      <td>None</td>\n",
              "      <td>None</td>\n",
              "      <td>None</td>\n",
              "      <td>...</td>\n",
              "      <td>1.0</td>\n",
              "      <td>Labrador_retriever</td>\n",
              "      <td>0.868367</td>\n",
              "      <td>True</td>\n",
              "      <td>golden_retriever</td>\n",
              "      <td>0.043305</td>\n",
              "      <td>True</td>\n",
              "      <td>vizsla</td>\n",
              "      <td>0.028207</td>\n",
              "      <td>True</td>\n",
              "    </tr>\n",
              "    <tr>\n",
              "      <th>2036</th>\n",
              "      <td>666287406224695296</td>\n",
              "      <td>2015-11-16 16:11:11+00:00</td>\n",
              "      <td>&lt;a href=\"http://twitter.com/download/iphone\" rel=\"nofollow\"&gt;Twitter for iPhone&lt;/a&gt;</td>\n",
              "      <td>This is an Albanian 3 1/2 legged  Episcopalian. Loves well-polished hardwood flooring. Penis on the collar. 9/10 https://t.co/d9NcXFKwLv</td>\n",
              "      <td>https://twitter.com/dog_rates/status/666287406224695296/photo/1</td>\n",
              "      <td>1</td>\n",
              "      <td>2</td>\n",
              "      <td>an</td>\n",
              "      <td>None</td>\n",
              "      <td>None</td>\n",
              "      <td>...</td>\n",
              "      <td>1.0</td>\n",
              "      <td>Maltese_dog</td>\n",
              "      <td>0.857531</td>\n",
              "      <td>True</td>\n",
              "      <td>toy_poodle</td>\n",
              "      <td>0.063064</td>\n",
              "      <td>True</td>\n",
              "      <td>miniature_poodle</td>\n",
              "      <td>0.025581</td>\n",
              "      <td>True</td>\n",
              "    </tr>\n",
              "  </tbody>\n",
              "</table>\n",
              "<p>18 rows × 25 columns</p>\n",
              "</div>\n",
              "      <button class=\"colab-df-convert\" onclick=\"convertToInteractive('df-de51dec4-d19b-4eae-98c6-73c47a69dfea')\"\n",
              "              title=\"Convert this dataframe to an interactive table.\"\n",
              "              style=\"display:none;\">\n",
              "        \n",
              "  <svg xmlns=\"http://www.w3.org/2000/svg\" height=\"24px\"viewBox=\"0 0 24 24\"\n",
              "       width=\"24px\">\n",
              "    <path d=\"M0 0h24v24H0V0z\" fill=\"none\"/>\n",
              "    <path d=\"M18.56 5.44l.94 2.06.94-2.06 2.06-.94-2.06-.94-.94-2.06-.94 2.06-2.06.94zm-11 1L8.5 8.5l.94-2.06 2.06-.94-2.06-.94L8.5 2.5l-.94 2.06-2.06.94zm10 10l.94 2.06.94-2.06 2.06-.94-2.06-.94-.94-2.06-.94 2.06-2.06.94z\"/><path d=\"M17.41 7.96l-1.37-1.37c-.4-.4-.92-.59-1.43-.59-.52 0-1.04.2-1.43.59L10.3 9.45l-7.72 7.72c-.78.78-.78 2.05 0 2.83L4 21.41c.39.39.9.59 1.41.59.51 0 1.02-.2 1.41-.59l7.78-7.78 2.81-2.81c.8-.78.8-2.07 0-2.86zM5.41 20L4 18.59l7.72-7.72 1.47 1.35L5.41 20z\"/>\n",
              "  </svg>\n",
              "      </button>\n",
              "      \n",
              "  <style>\n",
              "    .colab-df-container {\n",
              "      display:flex;\n",
              "      flex-wrap:wrap;\n",
              "      gap: 12px;\n",
              "    }\n",
              "\n",
              "    .colab-df-convert {\n",
              "      background-color: #E8F0FE;\n",
              "      border: none;\n",
              "      border-radius: 50%;\n",
              "      cursor: pointer;\n",
              "      display: none;\n",
              "      fill: #1967D2;\n",
              "      height: 32px;\n",
              "      padding: 0 0 0 0;\n",
              "      width: 32px;\n",
              "    }\n",
              "\n",
              "    .colab-df-convert:hover {\n",
              "      background-color: #E2EBFA;\n",
              "      box-shadow: 0px 1px 2px rgba(60, 64, 67, 0.3), 0px 1px 3px 1px rgba(60, 64, 67, 0.15);\n",
              "      fill: #174EA6;\n",
              "    }\n",
              "\n",
              "    [theme=dark] .colab-df-convert {\n",
              "      background-color: #3B4455;\n",
              "      fill: #D2E3FC;\n",
              "    }\n",
              "\n",
              "    [theme=dark] .colab-df-convert:hover {\n",
              "      background-color: #434B5C;\n",
              "      box-shadow: 0px 1px 3px 1px rgba(0, 0, 0, 0.15);\n",
              "      filter: drop-shadow(0px 1px 2px rgba(0, 0, 0, 0.3));\n",
              "      fill: #FFFFFF;\n",
              "    }\n",
              "  </style>\n",
              "\n",
              "      <script>\n",
              "        const buttonEl =\n",
              "          document.querySelector('#df-de51dec4-d19b-4eae-98c6-73c47a69dfea button.colab-df-convert');\n",
              "        buttonEl.style.display =\n",
              "          google.colab.kernel.accessAllowed ? 'block' : 'none';\n",
              "\n",
              "        async function convertToInteractive(key) {\n",
              "          const element = document.querySelector('#df-de51dec4-d19b-4eae-98c6-73c47a69dfea');\n",
              "          const dataTable =\n",
              "            await google.colab.kernel.invokeFunction('convertToInteractive',\n",
              "                                                     [key], {});\n",
              "          if (!dataTable) return;\n",
              "\n",
              "          const docLinkHtml = 'Like what you see? Visit the ' +\n",
              "            '<a target=\"_blank\" href=https://colab.research.google.com/notebooks/data_table.ipynb>data table notebook</a>'\n",
              "            + ' to learn more about interactive tables.';\n",
              "          element.innerHTML = '';\n",
              "          dataTable['output_type'] = 'display_data';\n",
              "          await google.colab.output.renderOutput(dataTable, element);\n",
              "          const docLink = document.createElement('div');\n",
              "          docLink.innerHTML = docLinkHtml;\n",
              "          element.appendChild(docLink);\n",
              "        }\n",
              "      </script>\n",
              "    </div>\n",
              "  </div>\n",
              "  "
            ]
          },
          "metadata": {},
          "execution_count": 83
        }
      ]
    },
    {
      "cell_type": "code",
      "source": [
        "# Drop these ratings\n",
        "to_clean_df = to_clean_df.query('rating_denominator == 10')"
      ],
      "metadata": {
        "id": "yOqFWhIzElSs"
      },
      "execution_count": 84,
      "outputs": []
    },
    {
      "cell_type": "code",
      "source": [
        "# Drop rating denominator\n",
        "to_clean_df.drop('rating_denominator', axis=1, inplace=True)"
      ],
      "metadata": {
        "id": "h7tCM1FlsyFZ"
      },
      "execution_count": 85,
      "outputs": []
    },
    {
      "cell_type": "code",
      "source": [
        "# Rename rating_numerator column to rating\n",
        "to_clean_df.rename(columns={'rating_numerator': 'rating_out_of_ten'}, inplace=True)"
      ],
      "metadata": {
        "id": "SqRr7Uor8-h-"
      },
      "execution_count": 86,
      "outputs": []
    },
    {
      "cell_type": "markdown",
      "source": [
        "**Test**"
      ],
      "metadata": {
        "id": "qQTq5NAjPCJJ"
      }
    },
    {
      "cell_type": "code",
      "source": [
        "# Check of ratings denominator is there\n",
        "to_clean_df.columns"
      ],
      "metadata": {
        "colab": {
          "base_uri": "https://localhost:8080/"
        },
        "id": "C2CDE4GhKR7c",
        "outputId": "3ed988f8-91c1-4ff2-98a9-28097f985360"
      },
      "execution_count": 87,
      "outputs": [
        {
          "output_type": "execute_result",
          "data": {
            "text/plain": [
              "Index(['tweet_id', 'timestamp', 'source', 'text', 'expanded_urls',\n",
              "       'rating_out_of_ten', 'name', 'doggo', 'floofer', 'pupper', 'puppo',\n",
              "       'favorites_count', 'retweets_count', 'jpg_url', 'img_num', 'p1',\n",
              "       'p1_conf', 'p1_dog', 'p2', 'p2_conf', 'p2_dog', 'p3', 'p3_conf',\n",
              "       'p3_dog'],\n",
              "      dtype='object')"
            ]
          },
          "metadata": {},
          "execution_count": 87
        }
      ]
    },
    {
      "cell_type": "markdown",
      "source": [
        "#### Dog Predictions being all False"
      ],
      "metadata": {
        "id": "1CuQNQqquSeE"
      }
    },
    {
      "cell_type": "markdown",
      "source": [
        "**Define**\n",
        "- Delete all observations with dog predictions being all false."
      ],
      "metadata": {
        "id": "77cZgrUvuWm4"
      }
    },
    {
      "cell_type": "markdown",
      "source": [
        "**Code**"
      ],
      "metadata": {
        "id": "6wg1I5x9ud8l"
      }
    },
    {
      "cell_type": "code",
      "source": [
        "# Delete observations\n",
        "indices = to_clean_df.loc[(to_clean_df['p1_dog'] == False) & (to_clean_df['p2_dog'] == False) & (to_clean_df['p3_dog'] == False)].index\n",
        "to_clean_df.drop(indices, axis=0, inplace=True)"
      ],
      "metadata": {
        "id": "FJnYN4dQudrI"
      },
      "execution_count": 88,
      "outputs": []
    },
    {
      "cell_type": "markdown",
      "source": [
        "**Test**"
      ],
      "metadata": {
        "id": "VRY3aw3kvPfo"
      }
    },
    {
      "cell_type": "code",
      "source": [
        "# Check whether they exist\n",
        "assert len(to_clean_df.loc[(to_clean_df['p1_dog'] == False) & (to_clean_df['p2_dog'] == False) & (to_clean_df['p3_dog'] == False)]) == 0"
      ],
      "metadata": {
        "id": "WN7XWjmjvRcB"
      },
      "execution_count": 89,
      "outputs": []
    },
    {
      "cell_type": "markdown",
      "source": [
        "### Tidiness Issues"
      ],
      "metadata": {
        "id": "nVoW2jnjvIxS"
      }
    },
    {
      "cell_type": "markdown",
      "source": [
        "**Define**\n",
        "- Organize `doggo`, `floofer`,`pupper` & `puppo` into a column called `dog_stage`.\n",
        "-Replace nans with `undefined`"
      ],
      "metadata": {
        "id": "HJGV822mvRfe"
      }
    },
    {
      "cell_type": "markdown",
      "source": [
        "**Code**"
      ],
      "metadata": {
        "id": "o_tsJTirv7HC"
      }
    },
    {
      "cell_type": "code",
      "source": [
        "# Move names to one column\n",
        "to_clean_df.loc[to_clean_df['floofer']=='floofer', 'dog_stage'] = 'floofer'\n",
        "to_clean_df.loc[to_clean_df['doggo']=='doggo', 'dog_stage'] = 'doggo'\n",
        "to_clean_df.loc[to_clean_df['pupper']=='pupper', 'dog_stage'] = 'pupper'\n",
        "to_clean_df.loc[to_clean_df['puppo']=='puppo', 'dog_stage'] = 'puppo'\n",
        "\n",
        "# Fill the missing values with undefined\n",
        "to_clean_df['dog_stage'].fillna('undefined', inplace=True)\n",
        "\n",
        "# Drop the redundant columns\n",
        "to_clean_df.drop(['floofer', 'doggo','pupper', 'puppo'], axis=1, inplace=True)\n"
      ],
      "metadata": {
        "id": "-k3S6q-qhSMc"
      },
      "execution_count": 90,
      "outputs": []
    },
    {
      "cell_type": "markdown",
      "source": [
        "**Test**"
      ],
      "metadata": {
        "id": "oGhngV_Ov9Rw"
      }
    },
    {
      "cell_type": "code",
      "source": [
        "# Check for nulls\n",
        "to_clean_df['dog_stage'].isnull().sum()"
      ],
      "metadata": {
        "colab": {
          "base_uri": "https://localhost:8080/"
        },
        "id": "UMJ0Qpu4kZkT",
        "outputId": "b3fe5593-5c9e-4859-f441-17c7e7ad0ab7"
      },
      "execution_count": 91,
      "outputs": [
        {
          "output_type": "execute_result",
          "data": {
            "text/plain": [
              "0"
            ]
          },
          "metadata": {},
          "execution_count": 91
        }
      ]
    },
    {
      "cell_type": "code",
      "source": [
        " # Check for correct columns\n",
        " to_clean_df.info()"
      ],
      "metadata": {
        "colab": {
          "base_uri": "https://localhost:8080/"
        },
        "id": "GLHQpBwiwBB7",
        "outputId": "8b45f262-a52f-4008-c6da-9c61b5e7ca5e"
      },
      "execution_count": 92,
      "outputs": [
        {
          "output_type": "stream",
          "name": "stdout",
          "text": [
            "<class 'pandas.core.frame.DataFrame'>\n",
            "Int64Index: 1719 entries, 1 to 2056\n",
            "Data columns (total 21 columns):\n",
            " #   Column             Non-Null Count  Dtype              \n",
            "---  ------             --------------  -----              \n",
            " 0   tweet_id           1719 non-null   int64              \n",
            " 1   timestamp          1719 non-null   datetime64[ns, UTC]\n",
            " 2   source             1719 non-null   object             \n",
            " 3   text               1719 non-null   object             \n",
            " 4   expanded_urls      1719 non-null   object             \n",
            " 5   rating_out_of_ten  1719 non-null   int64              \n",
            " 6   name               1719 non-null   object             \n",
            " 7   favorites_count    1719 non-null   int64              \n",
            " 8   retweets_count     1719 non-null   int64              \n",
            " 9   jpg_url            1719 non-null   object             \n",
            " 10  img_num            1719 non-null   float64            \n",
            " 11  p1                 1719 non-null   object             \n",
            " 12  p1_conf            1719 non-null   float64            \n",
            " 13  p1_dog             1719 non-null   object             \n",
            " 14  p2                 1719 non-null   object             \n",
            " 15  p2_conf            1719 non-null   float64            \n",
            " 16  p2_dog             1719 non-null   object             \n",
            " 17  p3                 1719 non-null   object             \n",
            " 18  p3_conf            1719 non-null   float64            \n",
            " 19  p3_dog             1719 non-null   object             \n",
            " 20  dog_stage          1719 non-null   object             \n",
            "dtypes: datetime64[ns, UTC](1), float64(4), int64(4), object(12)\n",
            "memory usage: 295.5+ KB\n"
          ]
        }
      ]
    },
    {
      "cell_type": "code",
      "source": [
        "# Check dog stage value_counts\n",
        "to_clean_df['dog_stage'].value_counts()"
      ],
      "metadata": {
        "colab": {
          "base_uri": "https://localhost:8080/"
        },
        "id": "ntzY3SLmv4Zj",
        "outputId": "7d4dc774-ed53-4086-faed-e4904d7a21e1"
      },
      "execution_count": 93,
      "outputs": [
        {
          "output_type": "execute_result",
          "data": {
            "text/plain": [
              "undefined    1451\n",
              "pupper        182\n",
              "doggo          56\n",
              "puppo          23\n",
              "floofer         7\n",
              "Name: dog_stage, dtype: int64"
            ]
          },
          "metadata": {},
          "execution_count": 93
        }
      ]
    },
    {
      "cell_type": "markdown",
      "source": [
        "The data is now clean and tidy and can be stored"
      ],
      "metadata": {
        "id": "HNHEOzZKl1pB"
      }
    },
    {
      "cell_type": "markdown",
      "source": [
        "### Store Data"
      ],
      "metadata": {
        "id": "6qW3Kdn9l_Ct"
      }
    },
    {
      "cell_type": "code",
      "source": [
        "# Reset index\n",
        "to_clean_df.reset_index(drop=True, inplace=True)"
      ],
      "metadata": {
        "id": "cSVzPX6AvrY2"
      },
      "execution_count": 94,
      "outputs": []
    },
    {
      "cell_type": "code",
      "source": [
        "# Store the data\n",
        "to_clean_df.to_csv('twitter_archive_master.csv', index=False)"
      ],
      "metadata": {
        "id": "I0xV6Gj5lPjL"
      },
      "execution_count": 95,
      "outputs": []
    },
    {
      "cell_type": "markdown",
      "source": [
        "# Exploratory Data Analysis"
      ],
      "metadata": {
        "id": "KQxjEvwQmXkj"
      }
    },
    {
      "cell_type": "markdown",
      "source": [
        "**What is the relationship between retweeted_count, favorites_count and rating?**"
      ],
      "metadata": {
        "id": "QbxL0xzFno0Y"
      }
    },
    {
      "cell_type": "code",
      "source": [
        "# Plot\n",
        "plt.figure(figsize=(12, 8))\n",
        "sns.scatterplot(x='retweets_count', y='favorites_count',\n",
        "                size='rating_out_of_ten', hue='dog_stage',\n",
        "                data=to_clean_df, palette='husl');\n",
        "plt.title('Relationship between retweeted_count, favorites_count and rating');"
      ],
      "metadata": {
        "colab": {
          "base_uri": "https://localhost:8080/",
          "height": 513
        },
        "id": "lGRUYyWmmOpR",
        "outputId": "dc2c3e64-66dd-4e1d-9b88-e017869366c3"
      },
      "execution_count": 97,
      "outputs": [
        {
          "output_type": "display_data",
          "data": {
            "text/plain": [
              "<Figure size 864x576 with 1 Axes>"
            ],
            "image/png": "[encoded data removed]"
          },
          "metadata": {
            "needs_background": "light"
          }
        }
      ]
    },
    {
      "cell_type": "markdown",
      "source": [
        "It seems rating didn't have a huge impact on the favorites and retweets count. However, the retweets counts and favorite counts are highly correlated. Meaning, one was likely to like and retweet a tweet about a dog, if they liked the dog."
      ],
      "metadata": {
        "id": "GOgNo-fqorr4"
      }
    },
    {
      "cell_type": "markdown",
      "source": [
        "**What is the most liked dog stage?**"
      ],
      "metadata": {
        "id": "JavfmekepAoG"
      }
    },
    {
      "cell_type": "code",
      "source": [
        "# Plot\n",
        "plt.figure(figsize=(12, 8))\n",
        "sns.barplot(x='dog_stage', y='favorites_count',\n",
        "            data=to_clean_df, palette='husl');\n",
        "plt.title('Most Liked Dog Stage');"
      ],
      "metadata": {
        "colab": {
          "base_uri": "https://localhost:8080/",
          "height": 514
        },
        "id": "aJ95gAb_oGsg",
        "outputId": "dbf8811c-0a0e-4255-81f6-5b2d72891d56"
      },
      "execution_count": 98,
      "outputs": [
        {
          "output_type": "display_data",
          "data": {
            "text/plain": [
              "<Figure size 864x576 with 1 Axes>"
            ],
            "image/png": "[encoded data removed]"
          },
          "metadata": {
            "needs_background": "light"
          }
        }
      ]
    },
    {
      "cell_type": "markdown",
      "source": [
        "The defined dog stages were liked more compared to the undefined dog stages with puppies gathering the most likes."
      ],
      "metadata": {
        "id": "mnTFWma1tqT-"
      }
    },
    {
      "cell_type": "markdown",
      "source": [
        "**Insights**\n",
        "- When one likes an image, they are highly likely to retweet the image too.\n",
        "- The most liked dog stage is the `puppo` stage.\n",
        "- The `undefined` and `pupper` dog stages were the least liked."
      ],
      "metadata": {
        "id": "JLP2dkU421st"
      }
    }
  ]
}