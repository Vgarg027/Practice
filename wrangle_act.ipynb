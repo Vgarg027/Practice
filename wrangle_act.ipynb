{
 "cells": [
  {
   "cell_type": "markdown",
   "metadata": {},
   "source": [
    "# Gathering"
   ]
  },
  {
   "cell_type": "code",
   "execution_count": 1,
   "metadata": {},
   "outputs": [],
   "source": [
    "import pandas as pd\n",
    "import numpy as np\n",
    "import requests\n",
    "import re\n",
    "import matplotlib.pyplot as plt\n",
    "import json\n",
    "import datetime\n",
    "import os\n",
    "import warnings\n",
    "warnings.filterwarnings('ignore')"
   ]
  },
  {
   "cell_type": "code",
   "execution_count": 2,
   "metadata": {},
   "outputs": [],
   "source": [
    "archive_df = pd.read_csv('twitter-archive-enhanced.csv')"
   ]
  },
  {
   "cell_type": "raw",
   "metadata": {},
   "source": [
    "import tweepy\n",
    "from tweepy import OAuthHandler\n",
    "import json\n",
    "from timeit import default_timer as timer\n",
    "\n",
    "# Query Twitter API for each tweet in the Twitter archive and save JSON in a text file\n",
    "# These are hidden to comply with Twitter's API terms and conditions\n",
    "consumer_key = 'HIDDEN'\n",
    "consumer_secret = 'HIDDEN'\n",
    "access_token = 'HIDDEN'\n",
    "access_secret = 'HIDDEN'\n",
    "\n",
    "auth = OAuthHandler(consumer_key, consumer_secret)\n",
    "auth.set_access_token(access_token, access_secret)\n",
    "\n",
    "api = tweepy.API(auth, wait_on_rate_limit=True)\n",
    "\n",
    "# NOTE TO STUDENT WITH MOBILE VERIFICATION ISSUES:\n",
    "# df_1 is a DataFrame with the twitter_archive_enhanced.csv file. You may have to\n",
    "# change line 17 to match the name of your DataFrame with twitter_archive_enhanced.csv\n",
    "# NOTE TO REVIEWER: this student had mobile verification issues so the following\n",
    "# Twitter API code was sent to this student from a Udacity instructor\n",
    "# Tweet IDs for which to gather additional data via Twitter's API\n",
    "tweet_ids = df_1.tweet_id.values\n",
    "len(tweet_ids)\n",
    "\n",
    "# Query Twitter's API for JSON data for each tweet ID in the Twitter archive\n",
    "count = 0\n",
    "fails_dict = {}\n",
    "start = timer()\n",
    "# Save each tweet's returned JSON as a new line in a .txt file\n",
    "with open('tweet_json.txt', 'w') as outfile:\n",
    "    # This loop will likely take 20-30 minutes to run because of Twitter's rate limit\n",
    "    for tweet_id in tweet_ids:\n",
    "        count += 1\n",
    "        print(str(count) + \": \" + str(tweet_id))\n",
    "        try:\n",
    "            tweet = api.get_status(tweet_id, tweet_mode='extended')\n",
    "            print(\"Success\")\n",
    "            json.dump(tweet._json, outfile)\n",
    "            outfile.write('\\n')\n",
    "        except tweepy.TweepError as e:\n",
    "            print(\"Fail\")\n",
    "            fails_dict[tweet_id] = e\n",
    "            pass\n",
    "end = timer()\n",
    "print(end - start)\n",
    "print(fails_dict)"
   ]
  },
  {
   "cell_type": "code",
   "execution_count": 3,
   "metadata": {},
   "outputs": [
    {
     "data": {
      "text/html": [
       "<div>\n",
       "<style scoped>\n",
       "    .dataframe tbody tr th:only-of-type {\n",
       "        vertical-align: middle;\n",
       "    }\n",
       "\n",
       "    .dataframe tbody tr th {\n",
       "        vertical-align: top;\n",
       "    }\n",
       "\n",
       "    .dataframe thead th {\n",
       "        text-align: right;\n",
       "    }\n",
       "</style>\n",
       "<table border=\"1\" class=\"dataframe\">\n",
       "  <thead>\n",
       "    <tr style=\"text-align: right;\">\n",
       "      <th></th>\n",
       "      <th>tweet_id</th>\n",
       "      <th>retweet_count</th>\n",
       "      <th>favorite_count</th>\n",
       "    </tr>\n",
       "  </thead>\n",
       "  <tbody>\n",
       "    <tr>\n",
       "      <th>0</th>\n",
       "      <td>892420643555336193</td>\n",
       "      <td>8853</td>\n",
       "      <td>39467</td>\n",
       "    </tr>\n",
       "    <tr>\n",
       "      <th>1</th>\n",
       "      <td>892177421306343426</td>\n",
       "      <td>6514</td>\n",
       "      <td>33819</td>\n",
       "    </tr>\n",
       "    <tr>\n",
       "      <th>2</th>\n",
       "      <td>891815181378084864</td>\n",
       "      <td>4328</td>\n",
       "      <td>25461</td>\n",
       "    </tr>\n",
       "    <tr>\n",
       "      <th>3</th>\n",
       "      <td>891689557279858688</td>\n",
       "      <td>8964</td>\n",
       "      <td>42908</td>\n",
       "    </tr>\n",
       "    <tr>\n",
       "      <th>4</th>\n",
       "      <td>891327558926688256</td>\n",
       "      <td>9774</td>\n",
       "      <td>41048</td>\n",
       "    </tr>\n",
       "  </tbody>\n",
       "</table>\n",
       "</div>"
      ],
      "text/plain": [
       "             tweet_id  retweet_count  favorite_count\n",
       "0  892420643555336193           8853           39467\n",
       "1  892177421306343426           6514           33819\n",
       "2  891815181378084864           4328           25461\n",
       "3  891689557279858688           8964           42908\n",
       "4  891327558926688256           9774           41048"
      ]
     },
     "execution_count": 3,
     "metadata": {},
     "output_type": "execute_result"
    }
   ],
   "source": [
    "df_list = []\n",
    "\n",
    "with open('tweet_json.txt', 'r') as file:\n",
    "    for line in file:\n",
    "        tweet = json.loads(line)\n",
    "        tweet_id = tweet['id']\n",
    "        retweet_count = tweet['retweet_count']\n",
    "        fav_count = tweet['favorite_count']\n",
    "        df_list.append({'tweet_id':tweet_id,\n",
    "                       'retweet_count': retweet_count,\n",
    "                       'favorite_count': fav_count})\n",
    "        \n",
    "api_df_now = pd.DataFrame(df_list)\n",
    "api_df_now.head()"
   ]
  },
  {
   "cell_type": "code",
   "execution_count": 4,
   "metadata": {},
   "outputs": [],
   "source": [
    "url = 'https://d17h27t6h515a5.cloudfront.net/topher/2017/August/599fd2ad_image-predictions/image-predictions.tsv'\n",
    "file_name = url.split('/')[-1]\n",
    "response = requests.get(url)\n",
    "if not os.path.isfile(file_name):\n",
    "    with open (file_name,'wb') as f:\n",
    "        f.write(response.content)\n",
    "image_predictions_df = pd.read_csv(file_name, sep = '\\t' )\n"
   ]
  },
  {
   "cell_type": "markdown",
   "metadata": {},
   "source": [
    "# Assessing"
   ]
  },
  {
   "cell_type": "code",
   "execution_count": 5,
   "metadata": {},
   "outputs": [
    {
     "data": {
      "text/html": [
       "<div>\n",
       "<style scoped>\n",
       "    .dataframe tbody tr th:only-of-type {\n",
       "        vertical-align: middle;\n",
       "    }\n",
       "\n",
       "    .dataframe tbody tr th {\n",
       "        vertical-align: top;\n",
       "    }\n",
       "\n",
       "    .dataframe thead th {\n",
       "        text-align: right;\n",
       "    }\n",
       "</style>\n",
       "<table border=\"1\" class=\"dataframe\">\n",
       "  <thead>\n",
       "    <tr style=\"text-align: right;\">\n",
       "      <th></th>\n",
       "      <th>tweet_id</th>\n",
       "      <th>in_reply_to_status_id</th>\n",
       "      <th>in_reply_to_user_id</th>\n",
       "      <th>timestamp</th>\n",
       "      <th>source</th>\n",
       "      <th>text</th>\n",
       "      <th>retweeted_status_id</th>\n",
       "      <th>retweeted_status_user_id</th>\n",
       "      <th>retweeted_status_timestamp</th>\n",
       "      <th>expanded_urls</th>\n",
       "      <th>rating_numerator</th>\n",
       "      <th>rating_denominator</th>\n",
       "      <th>name</th>\n",
       "      <th>doggo</th>\n",
       "      <th>floofer</th>\n",
       "      <th>pupper</th>\n",
       "      <th>puppo</th>\n",
       "    </tr>\n",
       "  </thead>\n",
       "  <tbody>\n",
       "    <tr>\n",
       "      <th>0</th>\n",
       "      <td>892420643555336193</td>\n",
       "      <td>NaN</td>\n",
       "      <td>NaN</td>\n",
       "      <td>2017-08-01 16:23:56 +0000</td>\n",
       "      <td>&lt;a href=\"http://twitter.com/download/iphone\" r...</td>\n",
       "      <td>This is Phineas. He's a mystical boy. Only eve...</td>\n",
       "      <td>NaN</td>\n",
       "      <td>NaN</td>\n",
       "      <td>NaN</td>\n",
       "      <td>https://twitter.com/dog_rates/status/892420643...</td>\n",
       "      <td>13</td>\n",
       "      <td>10</td>\n",
       "      <td>Phineas</td>\n",
       "      <td>None</td>\n",
       "      <td>None</td>\n",
       "      <td>None</td>\n",
       "      <td>None</td>\n",
       "    </tr>\n",
       "    <tr>\n",
       "      <th>1</th>\n",
       "      <td>892177421306343426</td>\n",
       "      <td>NaN</td>\n",
       "      <td>NaN</td>\n",
       "      <td>2017-08-01 00:17:27 +0000</td>\n",
       "      <td>&lt;a href=\"http://twitter.com/download/iphone\" r...</td>\n",
       "      <td>This is Tilly. She's just checking pup on you....</td>\n",
       "      <td>NaN</td>\n",
       "      <td>NaN</td>\n",
       "      <td>NaN</td>\n",
       "      <td>https://twitter.com/dog_rates/status/892177421...</td>\n",
       "      <td>13</td>\n",
       "      <td>10</td>\n",
       "      <td>Tilly</td>\n",
       "      <td>None</td>\n",
       "      <td>None</td>\n",
       "      <td>None</td>\n",
       "      <td>None</td>\n",
       "    </tr>\n",
       "    <tr>\n",
       "      <th>2</th>\n",
       "      <td>891815181378084864</td>\n",
       "      <td>NaN</td>\n",
       "      <td>NaN</td>\n",
       "      <td>2017-07-31 00:18:03 +0000</td>\n",
       "      <td>&lt;a href=\"http://twitter.com/download/iphone\" r...</td>\n",
       "      <td>This is Archie. He is a rare Norwegian Pouncin...</td>\n",
       "      <td>NaN</td>\n",
       "      <td>NaN</td>\n",
       "      <td>NaN</td>\n",
       "      <td>https://twitter.com/dog_rates/status/891815181...</td>\n",
       "      <td>12</td>\n",
       "      <td>10</td>\n",
       "      <td>Archie</td>\n",
       "      <td>None</td>\n",
       "      <td>None</td>\n",
       "      <td>None</td>\n",
       "      <td>None</td>\n",
       "    </tr>\n",
       "    <tr>\n",
       "      <th>3</th>\n",
       "      <td>891689557279858688</td>\n",
       "      <td>NaN</td>\n",
       "      <td>NaN</td>\n",
       "      <td>2017-07-30 15:58:51 +0000</td>\n",
       "      <td>&lt;a href=\"http://twitter.com/download/iphone\" r...</td>\n",
       "      <td>This is Darla. She commenced a snooze mid meal...</td>\n",
       "      <td>NaN</td>\n",
       "      <td>NaN</td>\n",
       "      <td>NaN</td>\n",
       "      <td>https://twitter.com/dog_rates/status/891689557...</td>\n",
       "      <td>13</td>\n",
       "      <td>10</td>\n",
       "      <td>Darla</td>\n",
       "      <td>None</td>\n",
       "      <td>None</td>\n",
       "      <td>None</td>\n",
       "      <td>None</td>\n",
       "    </tr>\n",
       "    <tr>\n",
       "      <th>4</th>\n",
       "      <td>891327558926688256</td>\n",
       "      <td>NaN</td>\n",
       "      <td>NaN</td>\n",
       "      <td>2017-07-29 16:00:24 +0000</td>\n",
       "      <td>&lt;a href=\"http://twitter.com/download/iphone\" r...</td>\n",
       "      <td>This is Franklin. He would like you to stop ca...</td>\n",
       "      <td>NaN</td>\n",
       "      <td>NaN</td>\n",
       "      <td>NaN</td>\n",
       "      <td>https://twitter.com/dog_rates/status/891327558...</td>\n",
       "      <td>12</td>\n",
       "      <td>10</td>\n",
       "      <td>Franklin</td>\n",
       "      <td>None</td>\n",
       "      <td>None</td>\n",
       "      <td>None</td>\n",
       "      <td>None</td>\n",
       "    </tr>\n",
       "    <tr>\n",
       "      <th>...</th>\n",
       "      <td>...</td>\n",
       "      <td>...</td>\n",
       "      <td>...</td>\n",
       "      <td>...</td>\n",
       "      <td>...</td>\n",
       "      <td>...</td>\n",
       "      <td>...</td>\n",
       "      <td>...</td>\n",
       "      <td>...</td>\n",
       "      <td>...</td>\n",
       "      <td>...</td>\n",
       "      <td>...</td>\n",
       "      <td>...</td>\n",
       "      <td>...</td>\n",
       "      <td>...</td>\n",
       "      <td>...</td>\n",
       "      <td>...</td>\n",
       "    </tr>\n",
       "    <tr>\n",
       "      <th>2351</th>\n",
       "      <td>666049248165822465</td>\n",
       "      <td>NaN</td>\n",
       "      <td>NaN</td>\n",
       "      <td>2015-11-16 00:24:50 +0000</td>\n",
       "      <td>&lt;a href=\"http://twitter.com/download/iphone\" r...</td>\n",
       "      <td>Here we have a 1949 1st generation vulpix. Enj...</td>\n",
       "      <td>NaN</td>\n",
       "      <td>NaN</td>\n",
       "      <td>NaN</td>\n",
       "      <td>https://twitter.com/dog_rates/status/666049248...</td>\n",
       "      <td>5</td>\n",
       "      <td>10</td>\n",
       "      <td>None</td>\n",
       "      <td>None</td>\n",
       "      <td>None</td>\n",
       "      <td>None</td>\n",
       "      <td>None</td>\n",
       "    </tr>\n",
       "    <tr>\n",
       "      <th>2352</th>\n",
       "      <td>666044226329800704</td>\n",
       "      <td>NaN</td>\n",
       "      <td>NaN</td>\n",
       "      <td>2015-11-16 00:04:52 +0000</td>\n",
       "      <td>&lt;a href=\"http://twitter.com/download/iphone\" r...</td>\n",
       "      <td>This is a purebred Piers Morgan. Loves to Netf...</td>\n",
       "      <td>NaN</td>\n",
       "      <td>NaN</td>\n",
       "      <td>NaN</td>\n",
       "      <td>https://twitter.com/dog_rates/status/666044226...</td>\n",
       "      <td>6</td>\n",
       "      <td>10</td>\n",
       "      <td>a</td>\n",
       "      <td>None</td>\n",
       "      <td>None</td>\n",
       "      <td>None</td>\n",
       "      <td>None</td>\n",
       "    </tr>\n",
       "    <tr>\n",
       "      <th>2353</th>\n",
       "      <td>666033412701032449</td>\n",
       "      <td>NaN</td>\n",
       "      <td>NaN</td>\n",
       "      <td>2015-11-15 23:21:54 +0000</td>\n",
       "      <td>&lt;a href=\"http://twitter.com/download/iphone\" r...</td>\n",
       "      <td>Here is a very happy pup. Big fan of well-main...</td>\n",
       "      <td>NaN</td>\n",
       "      <td>NaN</td>\n",
       "      <td>NaN</td>\n",
       "      <td>https://twitter.com/dog_rates/status/666033412...</td>\n",
       "      <td>9</td>\n",
       "      <td>10</td>\n",
       "      <td>a</td>\n",
       "      <td>None</td>\n",
       "      <td>None</td>\n",
       "      <td>None</td>\n",
       "      <td>None</td>\n",
       "    </tr>\n",
       "    <tr>\n",
       "      <th>2354</th>\n",
       "      <td>666029285002620928</td>\n",
       "      <td>NaN</td>\n",
       "      <td>NaN</td>\n",
       "      <td>2015-11-15 23:05:30 +0000</td>\n",
       "      <td>&lt;a href=\"http://twitter.com/download/iphone\" r...</td>\n",
       "      <td>This is a western brown Mitsubishi terrier. Up...</td>\n",
       "      <td>NaN</td>\n",
       "      <td>NaN</td>\n",
       "      <td>NaN</td>\n",
       "      <td>https://twitter.com/dog_rates/status/666029285...</td>\n",
       "      <td>7</td>\n",
       "      <td>10</td>\n",
       "      <td>a</td>\n",
       "      <td>None</td>\n",
       "      <td>None</td>\n",
       "      <td>None</td>\n",
       "      <td>None</td>\n",
       "    </tr>\n",
       "    <tr>\n",
       "      <th>2355</th>\n",
       "      <td>666020888022790149</td>\n",
       "      <td>NaN</td>\n",
       "      <td>NaN</td>\n",
       "      <td>2015-11-15 22:32:08 +0000</td>\n",
       "      <td>&lt;a href=\"http://twitter.com/download/iphone\" r...</td>\n",
       "      <td>Here we have a Japanese Irish Setter. Lost eye...</td>\n",
       "      <td>NaN</td>\n",
       "      <td>NaN</td>\n",
       "      <td>NaN</td>\n",
       "      <td>https://twitter.com/dog_rates/status/666020888...</td>\n",
       "      <td>8</td>\n",
       "      <td>10</td>\n",
       "      <td>None</td>\n",
       "      <td>None</td>\n",
       "      <td>None</td>\n",
       "      <td>None</td>\n",
       "      <td>None</td>\n",
       "    </tr>\n",
       "  </tbody>\n",
       "</table>\n",
       "<p>2356 rows × 17 columns</p>\n",
       "</div>"
      ],
      "text/plain": [
       "                tweet_id  in_reply_to_status_id  in_reply_to_user_id  \\\n",
       "0     892420643555336193                    NaN                  NaN   \n",
       "1     892177421306343426                    NaN                  NaN   \n",
       "2     891815181378084864                    NaN                  NaN   \n",
       "3     891689557279858688                    NaN                  NaN   \n",
       "4     891327558926688256                    NaN                  NaN   \n",
       "...                  ...                    ...                  ...   \n",
       "2351  666049248165822465                    NaN                  NaN   \n",
       "2352  666044226329800704                    NaN                  NaN   \n",
       "2353  666033412701032449                    NaN                  NaN   \n",
       "2354  666029285002620928                    NaN                  NaN   \n",
       "2355  666020888022790149                    NaN                  NaN   \n",
       "\n",
       "                      timestamp  \\\n",
       "0     2017-08-01 16:23:56 +0000   \n",
       "1     2017-08-01 00:17:27 +0000   \n",
       "2     2017-07-31 00:18:03 +0000   \n",
       "3     2017-07-30 15:58:51 +0000   \n",
       "4     2017-07-29 16:00:24 +0000   \n",
       "...                         ...   \n",
       "2351  2015-11-16 00:24:50 +0000   \n",
       "2352  2015-11-16 00:04:52 +0000   \n",
       "2353  2015-11-15 23:21:54 +0000   \n",
       "2354  2015-11-15 23:05:30 +0000   \n",
       "2355  2015-11-15 22:32:08 +0000   \n",
       "\n",
       "                                                 source  \\\n",
       "0     <a href=\"http://twitter.com/download/iphone\" r...   \n",
       "1     <a href=\"http://twitter.com/download/iphone\" r...   \n",
       "2     <a href=\"http://twitter.com/download/iphone\" r...   \n",
       "3     <a href=\"http://twitter.com/download/iphone\" r...   \n",
       "4     <a href=\"http://twitter.com/download/iphone\" r...   \n",
       "...                                                 ...   \n",
       "2351  <a href=\"http://twitter.com/download/iphone\" r...   \n",
       "2352  <a href=\"http://twitter.com/download/iphone\" r...   \n",
       "2353  <a href=\"http://twitter.com/download/iphone\" r...   \n",
       "2354  <a href=\"http://twitter.com/download/iphone\" r...   \n",
       "2355  <a href=\"http://twitter.com/download/iphone\" r...   \n",
       "\n",
       "                                                   text  retweeted_status_id  \\\n",
       "0     This is Phineas. He's a mystical boy. Only eve...                  NaN   \n",
       "1     This is Tilly. She's just checking pup on you....                  NaN   \n",
       "2     This is Archie. He is a rare Norwegian Pouncin...                  NaN   \n",
       "3     This is Darla. She commenced a snooze mid meal...                  NaN   \n",
       "4     This is Franklin. He would like you to stop ca...                  NaN   \n",
       "...                                                 ...                  ...   \n",
       "2351  Here we have a 1949 1st generation vulpix. Enj...                  NaN   \n",
       "2352  This is a purebred Piers Morgan. Loves to Netf...                  NaN   \n",
       "2353  Here is a very happy pup. Big fan of well-main...                  NaN   \n",
       "2354  This is a western brown Mitsubishi terrier. Up...                  NaN   \n",
       "2355  Here we have a Japanese Irish Setter. Lost eye...                  NaN   \n",
       "\n",
       "      retweeted_status_user_id retweeted_status_timestamp  \\\n",
       "0                          NaN                        NaN   \n",
       "1                          NaN                        NaN   \n",
       "2                          NaN                        NaN   \n",
       "3                          NaN                        NaN   \n",
       "4                          NaN                        NaN   \n",
       "...                        ...                        ...   \n",
       "2351                       NaN                        NaN   \n",
       "2352                       NaN                        NaN   \n",
       "2353                       NaN                        NaN   \n",
       "2354                       NaN                        NaN   \n",
       "2355                       NaN                        NaN   \n",
       "\n",
       "                                          expanded_urls  rating_numerator  \\\n",
       "0     https://twitter.com/dog_rates/status/892420643...                13   \n",
       "1     https://twitter.com/dog_rates/status/892177421...                13   \n",
       "2     https://twitter.com/dog_rates/status/891815181...                12   \n",
       "3     https://twitter.com/dog_rates/status/891689557...                13   \n",
       "4     https://twitter.com/dog_rates/status/891327558...                12   \n",
       "...                                                 ...               ...   \n",
       "2351  https://twitter.com/dog_rates/status/666049248...                 5   \n",
       "2352  https://twitter.com/dog_rates/status/666044226...                 6   \n",
       "2353  https://twitter.com/dog_rates/status/666033412...                 9   \n",
       "2354  https://twitter.com/dog_rates/status/666029285...                 7   \n",
       "2355  https://twitter.com/dog_rates/status/666020888...                 8   \n",
       "\n",
       "      rating_denominator      name doggo floofer pupper puppo  \n",
       "0                     10   Phineas  None    None   None  None  \n",
       "1                     10     Tilly  None    None   None  None  \n",
       "2                     10    Archie  None    None   None  None  \n",
       "3                     10     Darla  None    None   None  None  \n",
       "4                     10  Franklin  None    None   None  None  \n",
       "...                  ...       ...   ...     ...    ...   ...  \n",
       "2351                  10      None  None    None   None  None  \n",
       "2352                  10         a  None    None   None  None  \n",
       "2353                  10         a  None    None   None  None  \n",
       "2354                  10         a  None    None   None  None  \n",
       "2355                  10      None  None    None   None  None  \n",
       "\n",
       "[2356 rows x 17 columns]"
      ]
     },
     "execution_count": 5,
     "metadata": {},
     "output_type": "execute_result"
    }
   ],
   "source": [
    "archive_df"
   ]
  },
  {
   "cell_type": "code",
   "execution_count": 6,
   "metadata": {
    "scrolled": true
   },
   "outputs": [
    {
     "name": "stdout",
     "output_type": "stream",
     "text": [
      "<class 'pandas.core.frame.DataFrame'>\n",
      "RangeIndex: 2356 entries, 0 to 2355\n",
      "Data columns (total 17 columns):\n",
      " #   Column                      Non-Null Count  Dtype  \n",
      "---  ------                      --------------  -----  \n",
      " 0   tweet_id                    2356 non-null   int64  \n",
      " 1   in_reply_to_status_id       78 non-null     float64\n",
      " 2   in_reply_to_user_id         78 non-null     float64\n",
      " 3   timestamp                   2356 non-null   object \n",
      " 4   source                      2356 non-null   object \n",
      " 5   text                        2356 non-null   object \n",
      " 6   retweeted_status_id         181 non-null    float64\n",
      " 7   retweeted_status_user_id    181 non-null    float64\n",
      " 8   retweeted_status_timestamp  181 non-null    object \n",
      " 9   expanded_urls               2297 non-null   object \n",
      " 10  rating_numerator            2356 non-null   int64  \n",
      " 11  rating_denominator          2356 non-null   int64  \n",
      " 12  name                        2356 non-null   object \n",
      " 13  doggo                       2356 non-null   object \n",
      " 14  floofer                     2356 non-null   object \n",
      " 15  pupper                      2356 non-null   object \n",
      " 16  puppo                       2356 non-null   object \n",
      "dtypes: float64(4), int64(3), object(10)\n",
      "memory usage: 313.0+ KB\n"
     ]
    }
   ],
   "source": [
    "archive_df.info()"
   ]
  },
  {
   "cell_type": "code",
   "execution_count": 7,
   "metadata": {},
   "outputs": [
    {
     "data": {
      "text/plain": [
       "0"
      ]
     },
     "execution_count": 7,
     "metadata": {},
     "output_type": "execute_result"
    }
   ],
   "source": [
    "sum(archive_df['tweet_id'].duplicated())"
   ]
  },
  {
   "cell_type": "code",
   "execution_count": 8,
   "metadata": {},
   "outputs": [
    {
     "data": {
      "text/plain": [
       "None        745\n",
       "a            55\n",
       "Charlie      12\n",
       "Lucy         11\n",
       "Oliver       11\n",
       "           ... \n",
       "Dex           1\n",
       "Hector        1\n",
       "Griswold      1\n",
       "Finnegus      1\n",
       "Pubert        1\n",
       "Name: name, Length: 957, dtype: int64"
      ]
     },
     "execution_count": 8,
     "metadata": {},
     "output_type": "execute_result"
    }
   ],
   "source": [
    "archive_df['name'].value_counts()"
   ]
  },
  {
   "cell_type": "code",
   "execution_count": 9,
   "metadata": {},
   "outputs": [
    {
     "data": {
      "text/plain": [
       "10     2333\n",
       "11        3\n",
       "50        3\n",
       "80        2\n",
       "20        2\n",
       "2         1\n",
       "16        1\n",
       "40        1\n",
       "70        1\n",
       "15        1\n",
       "90        1\n",
       "110       1\n",
       "120       1\n",
       "130       1\n",
       "150       1\n",
       "170       1\n",
       "7         1\n",
       "0         1\n",
       "Name: rating_denominator, dtype: int64"
      ]
     },
     "execution_count": 9,
     "metadata": {},
     "output_type": "execute_result"
    }
   ],
   "source": [
    "archive_df['rating_denominator'].value_counts()"
   ]
  },
  {
   "cell_type": "code",
   "execution_count": 10,
   "metadata": {},
   "outputs": [
    {
     "data": {
      "text/plain": [
       "12      558\n",
       "11      464\n",
       "10      461\n",
       "13      351\n",
       "9       158\n",
       "8       102\n",
       "7        55\n",
       "14       54\n",
       "5        37\n",
       "6        32\n",
       "3        19\n",
       "4        17\n",
       "1         9\n",
       "2         9\n",
       "420       2\n",
       "0         2\n",
       "15        2\n",
       "75        2\n",
       "80        1\n",
       "20        1\n",
       "24        1\n",
       "26        1\n",
       "44        1\n",
       "50        1\n",
       "60        1\n",
       "165       1\n",
       "84        1\n",
       "88        1\n",
       "144       1\n",
       "182       1\n",
       "143       1\n",
       "666       1\n",
       "960       1\n",
       "1776      1\n",
       "17        1\n",
       "27        1\n",
       "45        1\n",
       "99        1\n",
       "121       1\n",
       "204       1\n",
       "Name: rating_numerator, dtype: int64"
      ]
     },
     "execution_count": 10,
     "metadata": {},
     "output_type": "execute_result"
    }
   ],
   "source": [
    "archive_df['rating_numerator'].value_counts()"
   ]
  },
  {
   "cell_type": "code",
   "execution_count": 11,
   "metadata": {},
   "outputs": [
    {
     "data": {
      "text/html": [
       "<div>\n",
       "<style scoped>\n",
       "    .dataframe tbody tr th:only-of-type {\n",
       "        vertical-align: middle;\n",
       "    }\n",
       "\n",
       "    .dataframe tbody tr th {\n",
       "        vertical-align: top;\n",
       "    }\n",
       "\n",
       "    .dataframe thead th {\n",
       "        text-align: right;\n",
       "    }\n",
       "</style>\n",
       "<table border=\"1\" class=\"dataframe\">\n",
       "  <thead>\n",
       "    <tr style=\"text-align: right;\">\n",
       "      <th></th>\n",
       "      <th>tweet_id</th>\n",
       "      <th>jpg_url</th>\n",
       "      <th>img_num</th>\n",
       "      <th>p1</th>\n",
       "      <th>p1_conf</th>\n",
       "      <th>p1_dog</th>\n",
       "      <th>p2</th>\n",
       "      <th>p2_conf</th>\n",
       "      <th>p2_dog</th>\n",
       "      <th>p3</th>\n",
       "      <th>p3_conf</th>\n",
       "      <th>p3_dog</th>\n",
       "    </tr>\n",
       "  </thead>\n",
       "  <tbody>\n",
       "    <tr>\n",
       "      <th>0</th>\n",
       "      <td>666020888022790149</td>\n",
       "      <td>https://pbs.twimg.com/media/CT4udn0WwAA0aMy.jpg</td>\n",
       "      <td>1</td>\n",
       "      <td>Welsh_springer_spaniel</td>\n",
       "      <td>0.465074</td>\n",
       "      <td>True</td>\n",
       "      <td>collie</td>\n",
       "      <td>0.156665</td>\n",
       "      <td>True</td>\n",
       "      <td>Shetland_sheepdog</td>\n",
       "      <td>0.061428</td>\n",
       "      <td>True</td>\n",
       "    </tr>\n",
       "    <tr>\n",
       "      <th>1</th>\n",
       "      <td>666029285002620928</td>\n",
       "      <td>https://pbs.twimg.com/media/CT42GRgUYAA5iDo.jpg</td>\n",
       "      <td>1</td>\n",
       "      <td>redbone</td>\n",
       "      <td>0.506826</td>\n",
       "      <td>True</td>\n",
       "      <td>miniature_pinscher</td>\n",
       "      <td>0.074192</td>\n",
       "      <td>True</td>\n",
       "      <td>Rhodesian_ridgeback</td>\n",
       "      <td>0.072010</td>\n",
       "      <td>True</td>\n",
       "    </tr>\n",
       "    <tr>\n",
       "      <th>2</th>\n",
       "      <td>666033412701032449</td>\n",
       "      <td>https://pbs.twimg.com/media/CT4521TWwAEvMyu.jpg</td>\n",
       "      <td>1</td>\n",
       "      <td>German_shepherd</td>\n",
       "      <td>0.596461</td>\n",
       "      <td>True</td>\n",
       "      <td>malinois</td>\n",
       "      <td>0.138584</td>\n",
       "      <td>True</td>\n",
       "      <td>bloodhound</td>\n",
       "      <td>0.116197</td>\n",
       "      <td>True</td>\n",
       "    </tr>\n",
       "    <tr>\n",
       "      <th>3</th>\n",
       "      <td>666044226329800704</td>\n",
       "      <td>https://pbs.twimg.com/media/CT5Dr8HUEAA-lEu.jpg</td>\n",
       "      <td>1</td>\n",
       "      <td>Rhodesian_ridgeback</td>\n",
       "      <td>0.408143</td>\n",
       "      <td>True</td>\n",
       "      <td>redbone</td>\n",
       "      <td>0.360687</td>\n",
       "      <td>True</td>\n",
       "      <td>miniature_pinscher</td>\n",
       "      <td>0.222752</td>\n",
       "      <td>True</td>\n",
       "    </tr>\n",
       "    <tr>\n",
       "      <th>4</th>\n",
       "      <td>666049248165822465</td>\n",
       "      <td>https://pbs.twimg.com/media/CT5IQmsXIAAKY4A.jpg</td>\n",
       "      <td>1</td>\n",
       "      <td>miniature_pinscher</td>\n",
       "      <td>0.560311</td>\n",
       "      <td>True</td>\n",
       "      <td>Rottweiler</td>\n",
       "      <td>0.243682</td>\n",
       "      <td>True</td>\n",
       "      <td>Doberman</td>\n",
       "      <td>0.154629</td>\n",
       "      <td>True</td>\n",
       "    </tr>\n",
       "    <tr>\n",
       "      <th>...</th>\n",
       "      <td>...</td>\n",
       "      <td>...</td>\n",
       "      <td>...</td>\n",
       "      <td>...</td>\n",
       "      <td>...</td>\n",
       "      <td>...</td>\n",
       "      <td>...</td>\n",
       "      <td>...</td>\n",
       "      <td>...</td>\n",
       "      <td>...</td>\n",
       "      <td>...</td>\n",
       "      <td>...</td>\n",
       "    </tr>\n",
       "    <tr>\n",
       "      <th>2070</th>\n",
       "      <td>891327558926688256</td>\n",
       "      <td>https://pbs.twimg.com/media/DF6hr6BUMAAzZgT.jpg</td>\n",
       "      <td>2</td>\n",
       "      <td>basset</td>\n",
       "      <td>0.555712</td>\n",
       "      <td>True</td>\n",
       "      <td>English_springer</td>\n",
       "      <td>0.225770</td>\n",
       "      <td>True</td>\n",
       "      <td>German_short-haired_pointer</td>\n",
       "      <td>0.175219</td>\n",
       "      <td>True</td>\n",
       "    </tr>\n",
       "    <tr>\n",
       "      <th>2071</th>\n",
       "      <td>891689557279858688</td>\n",
       "      <td>https://pbs.twimg.com/media/DF_q7IAWsAEuuN8.jpg</td>\n",
       "      <td>1</td>\n",
       "      <td>paper_towel</td>\n",
       "      <td>0.170278</td>\n",
       "      <td>False</td>\n",
       "      <td>Labrador_retriever</td>\n",
       "      <td>0.168086</td>\n",
       "      <td>True</td>\n",
       "      <td>spatula</td>\n",
       "      <td>0.040836</td>\n",
       "      <td>False</td>\n",
       "    </tr>\n",
       "    <tr>\n",
       "      <th>2072</th>\n",
       "      <td>891815181378084864</td>\n",
       "      <td>https://pbs.twimg.com/media/DGBdLU1WsAANxJ9.jpg</td>\n",
       "      <td>1</td>\n",
       "      <td>Chihuahua</td>\n",
       "      <td>0.716012</td>\n",
       "      <td>True</td>\n",
       "      <td>malamute</td>\n",
       "      <td>0.078253</td>\n",
       "      <td>True</td>\n",
       "      <td>kelpie</td>\n",
       "      <td>0.031379</td>\n",
       "      <td>True</td>\n",
       "    </tr>\n",
       "    <tr>\n",
       "      <th>2073</th>\n",
       "      <td>892177421306343426</td>\n",
       "      <td>https://pbs.twimg.com/media/DGGmoV4XsAAUL6n.jpg</td>\n",
       "      <td>1</td>\n",
       "      <td>Chihuahua</td>\n",
       "      <td>0.323581</td>\n",
       "      <td>True</td>\n",
       "      <td>Pekinese</td>\n",
       "      <td>0.090647</td>\n",
       "      <td>True</td>\n",
       "      <td>papillon</td>\n",
       "      <td>0.068957</td>\n",
       "      <td>True</td>\n",
       "    </tr>\n",
       "    <tr>\n",
       "      <th>2074</th>\n",
       "      <td>892420643555336193</td>\n",
       "      <td>https://pbs.twimg.com/media/DGKD1-bXoAAIAUK.jpg</td>\n",
       "      <td>1</td>\n",
       "      <td>orange</td>\n",
       "      <td>0.097049</td>\n",
       "      <td>False</td>\n",
       "      <td>bagel</td>\n",
       "      <td>0.085851</td>\n",
       "      <td>False</td>\n",
       "      <td>banana</td>\n",
       "      <td>0.076110</td>\n",
       "      <td>False</td>\n",
       "    </tr>\n",
       "  </tbody>\n",
       "</table>\n",
       "<p>2075 rows × 12 columns</p>\n",
       "</div>"
      ],
      "text/plain": [
       "                tweet_id                                          jpg_url  \\\n",
       "0     666020888022790149  https://pbs.twimg.com/media/CT4udn0WwAA0aMy.jpg   \n",
       "1     666029285002620928  https://pbs.twimg.com/media/CT42GRgUYAA5iDo.jpg   \n",
       "2     666033412701032449  https://pbs.twimg.com/media/CT4521TWwAEvMyu.jpg   \n",
       "3     666044226329800704  https://pbs.twimg.com/media/CT5Dr8HUEAA-lEu.jpg   \n",
       "4     666049248165822465  https://pbs.twimg.com/media/CT5IQmsXIAAKY4A.jpg   \n",
       "...                  ...                                              ...   \n",
       "2070  891327558926688256  https://pbs.twimg.com/media/DF6hr6BUMAAzZgT.jpg   \n",
       "2071  891689557279858688  https://pbs.twimg.com/media/DF_q7IAWsAEuuN8.jpg   \n",
       "2072  891815181378084864  https://pbs.twimg.com/media/DGBdLU1WsAANxJ9.jpg   \n",
       "2073  892177421306343426  https://pbs.twimg.com/media/DGGmoV4XsAAUL6n.jpg   \n",
       "2074  892420643555336193  https://pbs.twimg.com/media/DGKD1-bXoAAIAUK.jpg   \n",
       "\n",
       "      img_num                      p1   p1_conf  p1_dog                  p2  \\\n",
       "0           1  Welsh_springer_spaniel  0.465074    True              collie   \n",
       "1           1                 redbone  0.506826    True  miniature_pinscher   \n",
       "2           1         German_shepherd  0.596461    True            malinois   \n",
       "3           1     Rhodesian_ridgeback  0.408143    True             redbone   \n",
       "4           1      miniature_pinscher  0.560311    True          Rottweiler   \n",
       "...       ...                     ...       ...     ...                 ...   \n",
       "2070        2                  basset  0.555712    True    English_springer   \n",
       "2071        1             paper_towel  0.170278   False  Labrador_retriever   \n",
       "2072        1               Chihuahua  0.716012    True            malamute   \n",
       "2073        1               Chihuahua  0.323581    True            Pekinese   \n",
       "2074        1                  orange  0.097049   False               bagel   \n",
       "\n",
       "       p2_conf  p2_dog                           p3   p3_conf  p3_dog  \n",
       "0     0.156665    True            Shetland_sheepdog  0.061428    True  \n",
       "1     0.074192    True          Rhodesian_ridgeback  0.072010    True  \n",
       "2     0.138584    True                   bloodhound  0.116197    True  \n",
       "3     0.360687    True           miniature_pinscher  0.222752    True  \n",
       "4     0.243682    True                     Doberman  0.154629    True  \n",
       "...        ...     ...                          ...       ...     ...  \n",
       "2070  0.225770    True  German_short-haired_pointer  0.175219    True  \n",
       "2071  0.168086    True                      spatula  0.040836   False  \n",
       "2072  0.078253    True                       kelpie  0.031379    True  \n",
       "2073  0.090647    True                     papillon  0.068957    True  \n",
       "2074  0.085851   False                       banana  0.076110   False  \n",
       "\n",
       "[2075 rows x 12 columns]"
      ]
     },
     "execution_count": 11,
     "metadata": {},
     "output_type": "execute_result"
    }
   ],
   "source": [
    "image_predictions_df"
   ]
  },
  {
   "cell_type": "code",
   "execution_count": 12,
   "metadata": {},
   "outputs": [
    {
     "data": {
      "text/html": [
       "<div>\n",
       "<style scoped>\n",
       "    .dataframe tbody tr th:only-of-type {\n",
       "        vertical-align: middle;\n",
       "    }\n",
       "\n",
       "    .dataframe tbody tr th {\n",
       "        vertical-align: top;\n",
       "    }\n",
       "\n",
       "    .dataframe thead th {\n",
       "        text-align: right;\n",
       "    }\n",
       "</style>\n",
       "<table border=\"1\" class=\"dataframe\">\n",
       "  <thead>\n",
       "    <tr style=\"text-align: right;\">\n",
       "      <th></th>\n",
       "      <th>tweet_id</th>\n",
       "      <th>jpg_url</th>\n",
       "      <th>img_num</th>\n",
       "      <th>p1</th>\n",
       "      <th>p1_conf</th>\n",
       "      <th>p1_dog</th>\n",
       "      <th>p2</th>\n",
       "      <th>p2_conf</th>\n",
       "      <th>p2_dog</th>\n",
       "      <th>p3</th>\n",
       "      <th>p3_conf</th>\n",
       "      <th>p3_dog</th>\n",
       "    </tr>\n",
       "  </thead>\n",
       "  <tbody>\n",
       "    <tr>\n",
       "      <th>0</th>\n",
       "      <td>666020888022790149</td>\n",
       "      <td>https://pbs.twimg.com/media/CT4udn0WwAA0aMy.jpg</td>\n",
       "      <td>1</td>\n",
       "      <td>Welsh_springer_spaniel</td>\n",
       "      <td>0.465074</td>\n",
       "      <td>True</td>\n",
       "      <td>collie</td>\n",
       "      <td>0.156665</td>\n",
       "      <td>True</td>\n",
       "      <td>Shetland_sheepdog</td>\n",
       "      <td>0.061428</td>\n",
       "      <td>True</td>\n",
       "    </tr>\n",
       "    <tr>\n",
       "      <th>1</th>\n",
       "      <td>666029285002620928</td>\n",
       "      <td>https://pbs.twimg.com/media/CT42GRgUYAA5iDo.jpg</td>\n",
       "      <td>1</td>\n",
       "      <td>redbone</td>\n",
       "      <td>0.506826</td>\n",
       "      <td>True</td>\n",
       "      <td>miniature_pinscher</td>\n",
       "      <td>0.074192</td>\n",
       "      <td>True</td>\n",
       "      <td>Rhodesian_ridgeback</td>\n",
       "      <td>0.072010</td>\n",
       "      <td>True</td>\n",
       "    </tr>\n",
       "    <tr>\n",
       "      <th>2</th>\n",
       "      <td>666033412701032449</td>\n",
       "      <td>https://pbs.twimg.com/media/CT4521TWwAEvMyu.jpg</td>\n",
       "      <td>1</td>\n",
       "      <td>German_shepherd</td>\n",
       "      <td>0.596461</td>\n",
       "      <td>True</td>\n",
       "      <td>malinois</td>\n",
       "      <td>0.138584</td>\n",
       "      <td>True</td>\n",
       "      <td>bloodhound</td>\n",
       "      <td>0.116197</td>\n",
       "      <td>True</td>\n",
       "    </tr>\n",
       "    <tr>\n",
       "      <th>3</th>\n",
       "      <td>666044226329800704</td>\n",
       "      <td>https://pbs.twimg.com/media/CT5Dr8HUEAA-lEu.jpg</td>\n",
       "      <td>1</td>\n",
       "      <td>Rhodesian_ridgeback</td>\n",
       "      <td>0.408143</td>\n",
       "      <td>True</td>\n",
       "      <td>redbone</td>\n",
       "      <td>0.360687</td>\n",
       "      <td>True</td>\n",
       "      <td>miniature_pinscher</td>\n",
       "      <td>0.222752</td>\n",
       "      <td>True</td>\n",
       "    </tr>\n",
       "    <tr>\n",
       "      <th>4</th>\n",
       "      <td>666049248165822465</td>\n",
       "      <td>https://pbs.twimg.com/media/CT5IQmsXIAAKY4A.jpg</td>\n",
       "      <td>1</td>\n",
       "      <td>miniature_pinscher</td>\n",
       "      <td>0.560311</td>\n",
       "      <td>True</td>\n",
       "      <td>Rottweiler</td>\n",
       "      <td>0.243682</td>\n",
       "      <td>True</td>\n",
       "      <td>Doberman</td>\n",
       "      <td>0.154629</td>\n",
       "      <td>True</td>\n",
       "    </tr>\n",
       "  </tbody>\n",
       "</table>\n",
       "</div>"
      ],
      "text/plain": [
       "             tweet_id                                          jpg_url  \\\n",
       "0  666020888022790149  https://pbs.twimg.com/media/CT4udn0WwAA0aMy.jpg   \n",
       "1  666029285002620928  https://pbs.twimg.com/media/CT42GRgUYAA5iDo.jpg   \n",
       "2  666033412701032449  https://pbs.twimg.com/media/CT4521TWwAEvMyu.jpg   \n",
       "3  666044226329800704  https://pbs.twimg.com/media/CT5Dr8HUEAA-lEu.jpg   \n",
       "4  666049248165822465  https://pbs.twimg.com/media/CT5IQmsXIAAKY4A.jpg   \n",
       "\n",
       "   img_num                      p1   p1_conf  p1_dog                  p2  \\\n",
       "0        1  Welsh_springer_spaniel  0.465074    True              collie   \n",
       "1        1                 redbone  0.506826    True  miniature_pinscher   \n",
       "2        1         German_shepherd  0.596461    True            malinois   \n",
       "3        1     Rhodesian_ridgeback  0.408143    True             redbone   \n",
       "4        1      miniature_pinscher  0.560311    True          Rottweiler   \n",
       "\n",
       "    p2_conf  p2_dog                   p3   p3_conf  p3_dog  \n",
       "0  0.156665    True    Shetland_sheepdog  0.061428    True  \n",
       "1  0.074192    True  Rhodesian_ridgeback  0.072010    True  \n",
       "2  0.138584    True           bloodhound  0.116197    True  \n",
       "3  0.360687    True   miniature_pinscher  0.222752    True  \n",
       "4  0.243682    True             Doberman  0.154629    True  "
      ]
     },
     "execution_count": 12,
     "metadata": {},
     "output_type": "execute_result"
    }
   ],
   "source": [
    "image_predictions_df.head()"
   ]
  },
  {
   "cell_type": "code",
   "execution_count": 13,
   "metadata": {},
   "outputs": [
    {
     "name": "stdout",
     "output_type": "stream",
     "text": [
      "<class 'pandas.core.frame.DataFrame'>\n",
      "RangeIndex: 2075 entries, 0 to 2074\n",
      "Data columns (total 12 columns):\n",
      " #   Column    Non-Null Count  Dtype  \n",
      "---  ------    --------------  -----  \n",
      " 0   tweet_id  2075 non-null   int64  \n",
      " 1   jpg_url   2075 non-null   object \n",
      " 2   img_num   2075 non-null   int64  \n",
      " 3   p1        2075 non-null   object \n",
      " 4   p1_conf   2075 non-null   float64\n",
      " 5   p1_dog    2075 non-null   bool   \n",
      " 6   p2        2075 non-null   object \n",
      " 7   p2_conf   2075 non-null   float64\n",
      " 8   p2_dog    2075 non-null   bool   \n",
      " 9   p3        2075 non-null   object \n",
      " 10  p3_conf   2075 non-null   float64\n",
      " 11  p3_dog    2075 non-null   bool   \n",
      "dtypes: bool(3), float64(3), int64(2), object(4)\n",
      "memory usage: 152.1+ KB\n"
     ]
    }
   ],
   "source": [
    "image_predictions_df.info()"
   ]
  },
  {
   "cell_type": "code",
   "execution_count": 14,
   "metadata": {},
   "outputs": [
    {
     "data": {
      "text/plain": [
       "66"
      ]
     },
     "execution_count": 14,
     "metadata": {},
     "output_type": "execute_result"
    }
   ],
   "source": [
    "sum(image_predictions_df['jpg_url'].duplicated())"
   ]
  },
  {
   "cell_type": "code",
   "execution_count": 15,
   "metadata": {},
   "outputs": [
    {
     "data": {
      "text/html": [
       "<div>\n",
       "<style scoped>\n",
       "    .dataframe tbody tr th:only-of-type {\n",
       "        vertical-align: middle;\n",
       "    }\n",
       "\n",
       "    .dataframe tbody tr th {\n",
       "        vertical-align: top;\n",
       "    }\n",
       "\n",
       "    .dataframe thead th {\n",
       "        text-align: right;\n",
       "    }\n",
       "</style>\n",
       "<table border=\"1\" class=\"dataframe\">\n",
       "  <thead>\n",
       "    <tr style=\"text-align: right;\">\n",
       "      <th></th>\n",
       "      <th>tweet_id</th>\n",
       "      <th>retweet_count</th>\n",
       "      <th>favorite_count</th>\n",
       "    </tr>\n",
       "  </thead>\n",
       "  <tbody>\n",
       "    <tr>\n",
       "      <th>0</th>\n",
       "      <td>892420643555336193</td>\n",
       "      <td>8853</td>\n",
       "      <td>39467</td>\n",
       "    </tr>\n",
       "    <tr>\n",
       "      <th>1</th>\n",
       "      <td>892177421306343426</td>\n",
       "      <td>6514</td>\n",
       "      <td>33819</td>\n",
       "    </tr>\n",
       "    <tr>\n",
       "      <th>2</th>\n",
       "      <td>891815181378084864</td>\n",
       "      <td>4328</td>\n",
       "      <td>25461</td>\n",
       "    </tr>\n",
       "    <tr>\n",
       "      <th>3</th>\n",
       "      <td>891689557279858688</td>\n",
       "      <td>8964</td>\n",
       "      <td>42908</td>\n",
       "    </tr>\n",
       "    <tr>\n",
       "      <th>4</th>\n",
       "      <td>891327558926688256</td>\n",
       "      <td>9774</td>\n",
       "      <td>41048</td>\n",
       "    </tr>\n",
       "    <tr>\n",
       "      <th>...</th>\n",
       "      <td>...</td>\n",
       "      <td>...</td>\n",
       "      <td>...</td>\n",
       "    </tr>\n",
       "    <tr>\n",
       "      <th>2349</th>\n",
       "      <td>666049248165822465</td>\n",
       "      <td>41</td>\n",
       "      <td>111</td>\n",
       "    </tr>\n",
       "    <tr>\n",
       "      <th>2350</th>\n",
       "      <td>666044226329800704</td>\n",
       "      <td>147</td>\n",
       "      <td>311</td>\n",
       "    </tr>\n",
       "    <tr>\n",
       "      <th>2351</th>\n",
       "      <td>666033412701032449</td>\n",
       "      <td>47</td>\n",
       "      <td>128</td>\n",
       "    </tr>\n",
       "    <tr>\n",
       "      <th>2352</th>\n",
       "      <td>666029285002620928</td>\n",
       "      <td>48</td>\n",
       "      <td>132</td>\n",
       "    </tr>\n",
       "    <tr>\n",
       "      <th>2353</th>\n",
       "      <td>666020888022790149</td>\n",
       "      <td>532</td>\n",
       "      <td>2535</td>\n",
       "    </tr>\n",
       "  </tbody>\n",
       "</table>\n",
       "<p>2354 rows × 3 columns</p>\n",
       "</div>"
      ],
      "text/plain": [
       "                tweet_id  retweet_count  favorite_count\n",
       "0     892420643555336193           8853           39467\n",
       "1     892177421306343426           6514           33819\n",
       "2     891815181378084864           4328           25461\n",
       "3     891689557279858688           8964           42908\n",
       "4     891327558926688256           9774           41048\n",
       "...                  ...            ...             ...\n",
       "2349  666049248165822465             41             111\n",
       "2350  666044226329800704            147             311\n",
       "2351  666033412701032449             47             128\n",
       "2352  666029285002620928             48             132\n",
       "2353  666020888022790149            532            2535\n",
       "\n",
       "[2354 rows x 3 columns]"
      ]
     },
     "execution_count": 15,
     "metadata": {},
     "output_type": "execute_result"
    }
   ],
   "source": [
    "api_df_now"
   ]
  },
  {
   "cell_type": "code",
   "execution_count": 16,
   "metadata": {},
   "outputs": [
    {
     "name": "stdout",
     "output_type": "stream",
     "text": [
      "<class 'pandas.core.frame.DataFrame'>\n",
      "RangeIndex: 2354 entries, 0 to 2353\n",
      "Data columns (total 3 columns):\n",
      " #   Column          Non-Null Count  Dtype\n",
      "---  ------          --------------  -----\n",
      " 0   tweet_id        2354 non-null   int64\n",
      " 1   retweet_count   2354 non-null   int64\n",
      " 2   favorite_count  2354 non-null   int64\n",
      "dtypes: int64(3)\n",
      "memory usage: 55.3 KB\n"
     ]
    }
   ],
   "source": [
    "api_df_now.info()"
   ]
  },
  {
   "cell_type": "raw",
   "metadata": {},
   "source": [
    "For quality:\n",
    "    For archive_df:\n",
    "        1-type of timestamp needs to be changed to datetime\n",
    "        2-for source column, we need to delete the tags and the link \n",
    "        3-we need to unify the denominator value to be 10\n",
    "        4-tweet_ids are integers in all files to be updated\n",
    "        5-remove none value in (doggo, floofer, pupper, puppo)\n",
    "        6-remove retweets without images from archive_df by comparing it with image_prediction_df\n",
    "        7-remove retweets and replies \n",
    "        8-rating numerator doesn't capture decimals\n",
    "    \n",
    "    for image_predictions_df:\n",
    "        8-rename confusing headers \n",
    "\n",
    "For Tidiness:\n",
    "    For archive_df:\n",
    "        9-merge the columns (doggo, floofer, pupper, puppo)  to a new column (dog stage) in image_predictions_df\n",
    "    \n",
    "    General:\n",
    "        10-merge the tables together\n",
    "    "
   ]
  },
  {
   "cell_type": "markdown",
   "metadata": {},
   "source": [
    "# Cleaning"
   ]
  },
  {
   "cell_type": "code",
   "execution_count": 17,
   "metadata": {},
   "outputs": [],
   "source": [
    "archive_df_clean = archive_df.copy()\n",
    "image_predictions_df_clean = image_predictions_df.copy()\n",
    "api_df_now_clean = api_df_now.copy()"
   ]
  },
  {
   "cell_type": "raw",
   "metadata": {},
   "source": [
    "#Define no.1\n",
    "change type of timestamp to datetime"
   ]
  },
  {
   "cell_type": "code",
   "execution_count": 18,
   "metadata": {},
   "outputs": [],
   "source": [
    "#code\n",
    "archive_df_clean['timestamp'] = pd.to_datetime(archive_df_clean['timestamp'])"
   ]
  },
  {
   "cell_type": "code",
   "execution_count": 19,
   "metadata": {},
   "outputs": [
    {
     "name": "stdout",
     "output_type": "stream",
     "text": [
      "<class 'pandas.core.frame.DataFrame'>\n",
      "RangeIndex: 2356 entries, 0 to 2355\n",
      "Data columns (total 17 columns):\n",
      " #   Column                      Non-Null Count  Dtype              \n",
      "---  ------                      --------------  -----              \n",
      " 0   tweet_id                    2356 non-null   int64              \n",
      " 1   in_reply_to_status_id       78 non-null     float64            \n",
      " 2   in_reply_to_user_id         78 non-null     float64            \n",
      " 3   timestamp                   2356 non-null   datetime64[ns, UTC]\n",
      " 4   source                      2356 non-null   object             \n",
      " 5   text                        2356 non-null   object             \n",
      " 6   retweeted_status_id         181 non-null    float64            \n",
      " 7   retweeted_status_user_id    181 non-null    float64            \n",
      " 8   retweeted_status_timestamp  181 non-null    object             \n",
      " 9   expanded_urls               2297 non-null   object             \n",
      " 10  rating_numerator            2356 non-null   int64              \n",
      " 11  rating_denominator          2356 non-null   int64              \n",
      " 12  name                        2356 non-null   object             \n",
      " 13  doggo                       2356 non-null   object             \n",
      " 14  floofer                     2356 non-null   object             \n",
      " 15  pupper                      2356 non-null   object             \n",
      " 16  puppo                       2356 non-null   object             \n",
      "dtypes: datetime64[ns, UTC](1), float64(4), int64(3), object(9)\n",
      "memory usage: 313.0+ KB\n"
     ]
    }
   ],
   "source": [
    "#Test\n",
    "archive_df_clean.info()"
   ]
  },
  {
   "cell_type": "raw",
   "metadata": {},
   "source": [
    "#Define no 2\n",
    "Delete the tags and the link in the source column"
   ]
  },
  {
   "cell_type": "code",
   "execution_count": 20,
   "metadata": {},
   "outputs": [],
   "source": [
    "#code\n",
    "archive_df_clean['source'] = archive_df_clean['source'].str.replace('<a href=\"http://twitter.com/download/iphone\" rel=\"nofollow\">','')\n",
    "archive_df_clean['source'] = archive_df_clean['source'].str.replace('<a href=\"http://twitter.com\" rel=\"nofollow\">','')\n",
    "archive_df_clean['source'] = archive_df_clean['source'].str.replace('<a href=\"https://about.twitter.com/products/tweetdeck\" rel=\"nofollow\">','')\n",
    "archive_df_clean['source'] = archive_df_clean['source'].str.replace('</a>','')"
   ]
  },
  {
   "cell_type": "code",
   "execution_count": 21,
   "metadata": {},
   "outputs": [
    {
     "data": {
      "text/plain": [
       "0    Twitter for iPhone\n",
       "1    Twitter for iPhone\n",
       "2    Twitter for iPhone\n",
       "3    Twitter for iPhone\n",
       "4    Twitter for iPhone\n",
       "Name: source, dtype: object"
      ]
     },
     "execution_count": 21,
     "metadata": {},
     "output_type": "execute_result"
    }
   ],
   "source": [
    "#test\n",
    "archive_df_clean['source'].head()"
   ]
  },
  {
   "cell_type": "raw",
   "metadata": {},
   "source": [
    "#Define no 3\n",
    "unify the denominator value to be 10"
   ]
  },
  {
   "cell_type": "code",
   "execution_count": 22,
   "metadata": {},
   "outputs": [],
   "source": [
    "#code\n",
    "archive_df_clean['rating_denominator'] = 10"
   ]
  },
  {
   "cell_type": "code",
   "execution_count": 23,
   "metadata": {},
   "outputs": [
    {
     "data": {
      "text/plain": [
       "10    2356\n",
       "Name: rating_denominator, dtype: int64"
      ]
     },
     "execution_count": 23,
     "metadata": {},
     "output_type": "execute_result"
    }
   ],
   "source": [
    "#Test\n",
    "archive_df_clean['rating_denominator'].value_counts()"
   ]
  },
  {
   "cell_type": "raw",
   "metadata": {},
   "source": [
    "# Define no 4\n",
    "change tweet_ids to string in all files"
   ]
  },
  {
   "cell_type": "code",
   "execution_count": 24,
   "metadata": {},
   "outputs": [],
   "source": [
    "#code\n",
    "archive_df_clean['tweet_id'] = archive_df_clean['tweet_id'].astype(str)\n",
    "image_predictions_df_clean['tweet_id'] = image_predictions_df_clean['tweet_id'].astype(str)\n",
    "api_df_now_clean['tweet_id'] = api_df_now_clean['tweet_id'].astype(str)"
   ]
  },
  {
   "cell_type": "code",
   "execution_count": 25,
   "metadata": {},
   "outputs": [
    {
     "name": "stdout",
     "output_type": "stream",
     "text": [
      "<class 'pandas.core.frame.DataFrame'>\n",
      "RangeIndex: 2356 entries, 0 to 2355\n",
      "Data columns (total 17 columns):\n",
      " #   Column                      Non-Null Count  Dtype              \n",
      "---  ------                      --------------  -----              \n",
      " 0   tweet_id                    2356 non-null   object             \n",
      " 1   in_reply_to_status_id       78 non-null     float64            \n",
      " 2   in_reply_to_user_id         78 non-null     float64            \n",
      " 3   timestamp                   2356 non-null   datetime64[ns, UTC]\n",
      " 4   source                      2356 non-null   object             \n",
      " 5   text                        2356 non-null   object             \n",
      " 6   retweeted_status_id         181 non-null    float64            \n",
      " 7   retweeted_status_user_id    181 non-null    float64            \n",
      " 8   retweeted_status_timestamp  181 non-null    object             \n",
      " 9   expanded_urls               2297 non-null   object             \n",
      " 10  rating_numerator            2356 non-null   int64              \n",
      " 11  rating_denominator          2356 non-null   int64              \n",
      " 12  name                        2356 non-null   object             \n",
      " 13  doggo                       2356 non-null   object             \n",
      " 14  floofer                     2356 non-null   object             \n",
      " 15  pupper                      2356 non-null   object             \n",
      " 16  puppo                       2356 non-null   object             \n",
      "dtypes: datetime64[ns, UTC](1), float64(4), int64(2), object(10)\n",
      "memory usage: 313.0+ KB\n"
     ]
    }
   ],
   "source": [
    "#test\n",
    "archive_df_clean.info()"
   ]
  },
  {
   "cell_type": "code",
   "execution_count": 26,
   "metadata": {},
   "outputs": [
    {
     "name": "stdout",
     "output_type": "stream",
     "text": [
      "<class 'pandas.core.frame.DataFrame'>\n",
      "RangeIndex: 2075 entries, 0 to 2074\n",
      "Data columns (total 12 columns):\n",
      " #   Column    Non-Null Count  Dtype  \n",
      "---  ------    --------------  -----  \n",
      " 0   tweet_id  2075 non-null   object \n",
      " 1   jpg_url   2075 non-null   object \n",
      " 2   img_num   2075 non-null   int64  \n",
      " 3   p1        2075 non-null   object \n",
      " 4   p1_conf   2075 non-null   float64\n",
      " 5   p1_dog    2075 non-null   bool   \n",
      " 6   p2        2075 non-null   object \n",
      " 7   p2_conf   2075 non-null   float64\n",
      " 8   p2_dog    2075 non-null   bool   \n",
      " 9   p3        2075 non-null   object \n",
      " 10  p3_conf   2075 non-null   float64\n",
      " 11  p3_dog    2075 non-null   bool   \n",
      "dtypes: bool(3), float64(3), int64(1), object(5)\n",
      "memory usage: 152.1+ KB\n"
     ]
    }
   ],
   "source": [
    "image_predictions_df_clean.info()"
   ]
  },
  {
   "cell_type": "code",
   "execution_count": 27,
   "metadata": {},
   "outputs": [
    {
     "name": "stdout",
     "output_type": "stream",
     "text": [
      "<class 'pandas.core.frame.DataFrame'>\n",
      "RangeIndex: 2354 entries, 0 to 2353\n",
      "Data columns (total 3 columns):\n",
      " #   Column          Non-Null Count  Dtype \n",
      "---  ------          --------------  ----- \n",
      " 0   tweet_id        2354 non-null   object\n",
      " 1   retweet_count   2354 non-null   int64 \n",
      " 2   favorite_count  2354 non-null   int64 \n",
      "dtypes: int64(2), object(1)\n",
      "memory usage: 55.3+ KB\n"
     ]
    }
   ],
   "source": [
    "api_df_now_clean.info()"
   ]
  },
  {
   "cell_type": "raw",
   "metadata": {},
   "source": [
    "#define no 5\n",
    "remove none value in (doggo, floofer, pupper, puppo)"
   ]
  },
  {
   "cell_type": "code",
   "execution_count": 28,
   "metadata": {},
   "outputs": [],
   "source": [
    "#code\n",
    "archive_df_clean['doggo'] = archive_df_clean['doggo'].replace('None','')\n",
    "archive_df_clean['floofer'] = archive_df_clean['floofer'].replace('None','')\n",
    "archive_df_clean['pupper'] = archive_df_clean['pupper'].replace('None','')\n",
    "archive_df_clean['puppo'] = archive_df_clean['puppo'].replace('None','')"
   ]
  },
  {
   "cell_type": "code",
   "execution_count": 29,
   "metadata": {},
   "outputs": [
    {
     "data": {
      "text/plain": [
       "         2259\n",
       "doggo      97\n",
       "Name: doggo, dtype: int64"
      ]
     },
     "execution_count": 29,
     "metadata": {},
     "output_type": "execute_result"
    }
   ],
   "source": [
    "#test\n",
    "archive_df_clean['doggo'].value_counts()"
   ]
  },
  {
   "cell_type": "code",
   "execution_count": 30,
   "metadata": {},
   "outputs": [
    {
     "data": {
      "text/plain": [
       "           2346\n",
       "floofer      10\n",
       "Name: floofer, dtype: int64"
      ]
     },
     "execution_count": 30,
     "metadata": {},
     "output_type": "execute_result"
    }
   ],
   "source": [
    "archive_df_clean['floofer'].value_counts()"
   ]
  },
  {
   "cell_type": "code",
   "execution_count": 31,
   "metadata": {},
   "outputs": [
    {
     "data": {
      "text/plain": [
       "          2099\n",
       "pupper     257\n",
       "Name: pupper, dtype: int64"
      ]
     },
     "execution_count": 31,
     "metadata": {},
     "output_type": "execute_result"
    }
   ],
   "source": [
    "archive_df_clean['pupper'].value_counts()"
   ]
  },
  {
   "cell_type": "code",
   "execution_count": 32,
   "metadata": {
    "scrolled": true
   },
   "outputs": [
    {
     "data": {
      "text/plain": [
       "         2326\n",
       "puppo      30\n",
       "Name: puppo, dtype: int64"
      ]
     },
     "execution_count": 32,
     "metadata": {},
     "output_type": "execute_result"
    }
   ],
   "source": [
    "archive_df_clean['puppo'].value_counts()"
   ]
  },
  {
   "cell_type": "code",
   "execution_count": 33,
   "metadata": {},
   "outputs": [
    {
     "name": "stdout",
     "output_type": "stream",
     "text": [
      "<class 'pandas.core.frame.DataFrame'>\n",
      "RangeIndex: 2356 entries, 0 to 2355\n",
      "Data columns (total 17 columns):\n",
      " #   Column                      Non-Null Count  Dtype              \n",
      "---  ------                      --------------  -----              \n",
      " 0   tweet_id                    2356 non-null   object             \n",
      " 1   in_reply_to_status_id       78 non-null     float64            \n",
      " 2   in_reply_to_user_id         78 non-null     float64            \n",
      " 3   timestamp                   2356 non-null   datetime64[ns, UTC]\n",
      " 4   source                      2356 non-null   object             \n",
      " 5   text                        2356 non-null   object             \n",
      " 6   retweeted_status_id         181 non-null    float64            \n",
      " 7   retweeted_status_user_id    181 non-null    float64            \n",
      " 8   retweeted_status_timestamp  181 non-null    object             \n",
      " 9   expanded_urls               2297 non-null   object             \n",
      " 10  rating_numerator            2356 non-null   int64              \n",
      " 11  rating_denominator          2356 non-null   int64              \n",
      " 12  name                        2356 non-null   object             \n",
      " 13  doggo                       2356 non-null   object             \n",
      " 14  floofer                     2356 non-null   object             \n",
      " 15  pupper                      2356 non-null   object             \n",
      " 16  puppo                       2356 non-null   object             \n",
      "dtypes: datetime64[ns, UTC](1), float64(4), int64(2), object(10)\n",
      "memory usage: 313.0+ KB\n"
     ]
    }
   ],
   "source": [
    "archive_df_clean.info()"
   ]
  },
  {
   "cell_type": "raw",
   "metadata": {},
   "source": [
    "#Define no 6\n",
    "remove retweets without images from archive_df by comparing it with image_prediction_df"
   ]
  },
  {
   "cell_type": "code",
   "execution_count": 34,
   "metadata": {},
   "outputs": [
    {
     "data": {
      "text/plain": [
       "True"
      ]
     },
     "execution_count": 34,
     "metadata": {},
     "output_type": "execute_result"
    }
   ],
   "source": [
    "#code\n",
    "tweets_with_image = list(image_predictions_df_clean.tweet_id.unique())\n",
    "len(tweets_with_image) == archive_df_clean.tweet_id.isin(tweets_with_image).sum()"
   ]
  },
  {
   "cell_type": "code",
   "execution_count": 35,
   "metadata": {},
   "outputs": [],
   "source": [
    "archive_df_clean = archive_df_clean[archive_df_clean.tweet_id.isin(tweets_with_image)]"
   ]
  },
  {
   "cell_type": "code",
   "execution_count": 36,
   "metadata": {},
   "outputs": [
    {
     "name": "stdout",
     "output_type": "stream",
     "text": [
      "<class 'pandas.core.frame.DataFrame'>\n",
      "Int64Index: 2075 entries, 0 to 2355\n",
      "Data columns (total 17 columns):\n",
      " #   Column                      Non-Null Count  Dtype              \n",
      "---  ------                      --------------  -----              \n",
      " 0   tweet_id                    2075 non-null   object             \n",
      " 1   in_reply_to_status_id       23 non-null     float64            \n",
      " 2   in_reply_to_user_id         23 non-null     float64            \n",
      " 3   timestamp                   2075 non-null   datetime64[ns, UTC]\n",
      " 4   source                      2075 non-null   object             \n",
      " 5   text                        2075 non-null   object             \n",
      " 6   retweeted_status_id         81 non-null     float64            \n",
      " 7   retweeted_status_user_id    81 non-null     float64            \n",
      " 8   retweeted_status_timestamp  81 non-null     object             \n",
      " 9   expanded_urls               2075 non-null   object             \n",
      " 10  rating_numerator            2075 non-null   int64              \n",
      " 11  rating_denominator          2075 non-null   int64              \n",
      " 12  name                        2075 non-null   object             \n",
      " 13  doggo                       2075 non-null   object             \n",
      " 14  floofer                     2075 non-null   object             \n",
      " 15  pupper                      2075 non-null   object             \n",
      " 16  puppo                       2075 non-null   object             \n",
      "dtypes: datetime64[ns, UTC](1), float64(4), int64(2), object(10)\n",
      "memory usage: 291.8+ KB\n"
     ]
    }
   ],
   "source": [
    "#test\n",
    "archive_df_clean.info()"
   ]
  },
  {
   "cell_type": "raw",
   "metadata": {},
   "source": [
    "#Define no 7\n",
    "remove retweets and replies"
   ]
  },
  {
   "cell_type": "code",
   "execution_count": 37,
   "metadata": {},
   "outputs": [],
   "source": [
    "#code\n",
    "retweet_entries = archive_df_clean.retweeted_status_id.notnull()\n",
    "archive_df_clean[retweet_entries].shape[0]\n",
    "reply_entries = archive_df_clean.in_reply_to_status_id.notnull()\n",
    "archive_df_clean[reply_entries].shape[0]\n",
    "archive_df_clean = archive_df_clean[~retweet_entries]\n",
    "archive_df_clean = archive_df_clean[~reply_entries]\n",
    "#droping unnecessary columns\n",
    "archive_df_clean.drop(columns=['in_reply_to_status_id', \n",
    "                    'in_reply_to_user_id', \n",
    "                    'retweeted_status_id', \n",
    "                    'retweeted_status_user_id', \n",
    "                    'retweeted_status_timestamp'], inplace=True)"
   ]
  },
  {
   "cell_type": "code",
   "execution_count": 38,
   "metadata": {},
   "outputs": [
    {
     "name": "stdout",
     "output_type": "stream",
     "text": [
      "<class 'pandas.core.frame.DataFrame'>\n",
      "Int64Index: 1971 entries, 0 to 2355\n",
      "Data columns (total 12 columns):\n",
      " #   Column              Non-Null Count  Dtype              \n",
      "---  ------              --------------  -----              \n",
      " 0   tweet_id            1971 non-null   object             \n",
      " 1   timestamp           1971 non-null   datetime64[ns, UTC]\n",
      " 2   source              1971 non-null   object             \n",
      " 3   text                1971 non-null   object             \n",
      " 4   expanded_urls       1971 non-null   object             \n",
      " 5   rating_numerator    1971 non-null   int64              \n",
      " 6   rating_denominator  1971 non-null   int64              \n",
      " 7   name                1971 non-null   object             \n",
      " 8   doggo               1971 non-null   object             \n",
      " 9   floofer             1971 non-null   object             \n",
      " 10  pupper              1971 non-null   object             \n",
      " 11  puppo               1971 non-null   object             \n",
      "dtypes: datetime64[ns, UTC](1), int64(2), object(9)\n",
      "memory usage: 200.2+ KB\n"
     ]
    }
   ],
   "source": [
    "#test\n",
    "archive_df_clean.info()"
   ]
  },
  {
   "cell_type": "raw",
   "metadata": {},
   "source": [
    "#cleaning image_predictions_df from extra tweets"
   ]
  },
  {
   "cell_type": "code",
   "execution_count": 39,
   "metadata": {},
   "outputs": [],
   "source": [
    "#code\n",
    "np.logical_not(image_predictions_df_clean.tweet_id.isin(list(archive_df_clean.tweet_id)))\n",
    "image_predictions_df_clean = image_predictions_df_clean[~np.logical_not(image_predictions_df_clean.tweet_id.isin(list(archive_df_clean.tweet_id)))]"
   ]
  },
  {
   "cell_type": "code",
   "execution_count": 40,
   "metadata": {},
   "outputs": [
    {
     "name": "stdout",
     "output_type": "stream",
     "text": [
      "<class 'pandas.core.frame.DataFrame'>\n",
      "Int64Index: 1971 entries, 0 to 2074\n",
      "Data columns (total 12 columns):\n",
      " #   Column    Non-Null Count  Dtype  \n",
      "---  ------    --------------  -----  \n",
      " 0   tweet_id  1971 non-null   object \n",
      " 1   jpg_url   1971 non-null   object \n",
      " 2   img_num   1971 non-null   int64  \n",
      " 3   p1        1971 non-null   object \n",
      " 4   p1_conf   1971 non-null   float64\n",
      " 5   p1_dog    1971 non-null   bool   \n",
      " 6   p2        1971 non-null   object \n",
      " 7   p2_conf   1971 non-null   float64\n",
      " 8   p2_dog    1971 non-null   bool   \n",
      " 9   p3        1971 non-null   object \n",
      " 10  p3_conf   1971 non-null   float64\n",
      " 11  p3_dog    1971 non-null   bool   \n",
      "dtypes: bool(3), float64(3), int64(1), object(5)\n",
      "memory usage: 159.8+ KB\n"
     ]
    }
   ],
   "source": [
    "#test\n",
    "image_predictions_df_clean.info()"
   ]
  },
  {
   "cell_type": "raw",
   "metadata": {},
   "source": [
    "#define no 8\n",
    "rating numerator doesn't capture decimals"
   ]
  },
  {
   "cell_type": "raw",
   "metadata": {},
   "source": [
    "archive_df_clean[archive_df_clean.text.str.contains(r\"(\\d+\\.\\d*\\/\\d+)\")][['text', 'rating_numerator']]"
   ]
  },
  {
   "cell_type": "code",
   "execution_count": 41,
   "metadata": {},
   "outputs": [],
   "source": [
    "archive_df_clean['rating_numerator'] = archive_df_clean['text'].str.extract('(\\d*\\.\\d+|\\d+)', expand=False).astype(float)\n"
   ]
  },
  {
   "cell_type": "code",
   "execution_count": 42,
   "metadata": {},
   "outputs": [
    {
     "data": {
      "text/plain": [
       "12.00      435\n",
       "10.00      397\n",
       "11.00      371\n",
       "13.00      249\n",
       "9.00       138\n",
       "8.00        95\n",
       "7.00        48\n",
       "6.00        34\n",
       "5.00        31\n",
       "14.00       30\n",
       "3.00        26\n",
       "2.00        22\n",
       "4.00        22\n",
       "0.10         9\n",
       "1.00         8\n",
       "0.00         5\n",
       "0.11         4\n",
       "0.90         3\n",
       "80.00        2\n",
       "2015.00      2\n",
       "50.00        2\n",
       "100.00       2\n",
       "31.00        2\n",
       "46.00        1\n",
       "9.75         1\n",
       "98.00        1\n",
       "47.00        1\n",
       "17.00        1\n",
       "84.00        1\n",
       "13.50        1\n",
       "24.00        1\n",
       "0.80         1\n",
       "204.00       1\n",
       "8.98         1\n",
       "92.49        1\n",
       "420.00       1\n",
       "121.00       1\n",
       "97.00        1\n",
       "1776.00      1\n",
       "150.00       1\n",
       "2002.00      1\n",
       "2003.00      1\n",
       "0.30         1\n",
       "0.12         1\n",
       "11.27        1\n",
       "400.00       1\n",
       "165.00       1\n",
       "1949.00      1\n",
       "11.26        1\n",
       "2016.00      1\n",
       "88.00        1\n",
       "144.00       1\n",
       "61.00        1\n",
       "33.00        1\n",
       "44.00        1\n",
       "60.00        1\n",
       "45.00        1\n",
       "Name: rating_numerator, dtype: int64"
      ]
     },
     "execution_count": 42,
     "metadata": {},
     "output_type": "execute_result"
    }
   ],
   "source": [
    "archive_df_clean['rating_numerator'].value_counts()"
   ]
  },
  {
   "cell_type": "raw",
   "metadata": {},
   "source": [
    "# define no 9\n",
    "rename confusing headers in image_predictions_df"
   ]
  },
  {
   "cell_type": "code",
   "execution_count": 43,
   "metadata": {},
   "outputs": [],
   "source": [
    "#code\n",
    "image_predictions_df_clean.rename(columns = {'p1':'prediction_1',\n",
    "                                           'p1_conf':'prediction_reality_1',\n",
    "                                           'p1_dog':'boolean_prediction_dogtype_1',\n",
    "                                           'p2':'prediction_2',\n",
    "                                           'p2_conf':'prediction_reality_2',\n",
    "                                           'p2_dog':'boolean_prediction_dogtype_2',\n",
    "                                            'p3':'prediction_3',\n",
    "                                           'p3_conf':'prediction_reality_3',\n",
    "                                           'p3_dog':'boolean_prediction_dogtype_3'}, inplace = True)"
   ]
  },
  {
   "cell_type": "code",
   "execution_count": 44,
   "metadata": {},
   "outputs": [
    {
     "name": "stdout",
     "output_type": "stream",
     "text": [
      "<class 'pandas.core.frame.DataFrame'>\n",
      "Int64Index: 1971 entries, 0 to 2074\n",
      "Data columns (total 12 columns):\n",
      " #   Column                        Non-Null Count  Dtype  \n",
      "---  ------                        --------------  -----  \n",
      " 0   tweet_id                      1971 non-null   object \n",
      " 1   jpg_url                       1971 non-null   object \n",
      " 2   img_num                       1971 non-null   int64  \n",
      " 3   prediction_1                  1971 non-null   object \n",
      " 4   prediction_reality_1          1971 non-null   float64\n",
      " 5   boolean_prediction_dogtype_1  1971 non-null   bool   \n",
      " 6   prediction_2                  1971 non-null   object \n",
      " 7   prediction_reality_2          1971 non-null   float64\n",
      " 8   boolean_prediction_dogtype_2  1971 non-null   bool   \n",
      " 9   prediction_3                  1971 non-null   object \n",
      " 10  prediction_reality_3          1971 non-null   float64\n",
      " 11  boolean_prediction_dogtype_3  1971 non-null   bool   \n",
      "dtypes: bool(3), float64(3), int64(1), object(5)\n",
      "memory usage: 159.8+ KB\n"
     ]
    }
   ],
   "source": [
    "#test\n",
    "image_predictions_df_clean.info()"
   ]
  },
  {
   "cell_type": "raw",
   "metadata": {},
   "source": [
    "# define no 10\n",
    "merge the columns (doggo, floofer, pupper, puppo)  to a new column (dog stage) in image_predictions_df"
   ]
  },
  {
   "cell_type": "code",
   "execution_count": 45,
   "metadata": {},
   "outputs": [],
   "source": [
    "#code\n",
    "archive_df_clean['dog_stage'] = archive_df_clean['doggo']+archive_df_clean['floofer']+archive_df_clean['pupper']+archive_df_clean['puppo']"
   ]
  },
  {
   "cell_type": "code",
   "execution_count": 46,
   "metadata": {},
   "outputs": [
    {
     "data": {
      "text/plain": [
       "                1668\n",
       "pupper           201\n",
       "doggo             63\n",
       "puppo             22\n",
       "doggopupper        8\n",
       "floofer            7\n",
       "doggofloofer       1\n",
       "doggopuppo         1\n",
       "Name: dog_stage, dtype: int64"
      ]
     },
     "execution_count": 46,
     "metadata": {},
     "output_type": "execute_result"
    }
   ],
   "source": [
    "archive_df_clean['dog_stage'].value_counts()"
   ]
  },
  {
   "cell_type": "code",
   "execution_count": 47,
   "metadata": {},
   "outputs": [],
   "source": [
    "archive_df_clean['dog_stage'].replace('',np.NaN, inplace= True)\n",
    "archive_df_clean['dog_stage'].replace('doggopupper','doggo-pupper',inplace=True)\n",
    "archive_df_clean['dog_stage'].replace('doggopuppo','doggo-puppo',inplace=True)\n",
    "archive_df_clean['dog_stage'].replace('doggofloofer','doggo-floofer',inplace=True)\n",
    "archive_df_clean.drop(columns=['doggo','floofer','puppo','pupper'],inplace= True)"
   ]
  },
  {
   "cell_type": "code",
   "execution_count": 48,
   "metadata": {},
   "outputs": [
    {
     "data": {
      "text/plain": [
       "pupper           201\n",
       "doggo             63\n",
       "puppo             22\n",
       "doggo-pupper       8\n",
       "floofer            7\n",
       "doggo-floofer      1\n",
       "doggo-puppo        1\n",
       "Name: dog_stage, dtype: int64"
      ]
     },
     "execution_count": 48,
     "metadata": {},
     "output_type": "execute_result"
    }
   ],
   "source": [
    "#test\n",
    "archive_df_clean['dog_stage'].value_counts()\n"
   ]
  },
  {
   "cell_type": "code",
   "execution_count": 49,
   "metadata": {},
   "outputs": [
    {
     "name": "stdout",
     "output_type": "stream",
     "text": [
      "<class 'pandas.core.frame.DataFrame'>\n",
      "Int64Index: 1971 entries, 0 to 2355\n",
      "Data columns (total 9 columns):\n",
      " #   Column              Non-Null Count  Dtype              \n",
      "---  ------              --------------  -----              \n",
      " 0   tweet_id            1971 non-null   object             \n",
      " 1   timestamp           1971 non-null   datetime64[ns, UTC]\n",
      " 2   source              1971 non-null   object             \n",
      " 3   text                1971 non-null   object             \n",
      " 4   expanded_urls       1971 non-null   object             \n",
      " 5   rating_numerator    1971 non-null   float64            \n",
      " 6   rating_denominator  1971 non-null   int64              \n",
      " 7   name                1971 non-null   object             \n",
      " 8   dog_stage           303 non-null    object             \n",
      "dtypes: datetime64[ns, UTC](1), float64(1), int64(1), object(6)\n",
      "memory usage: 154.0+ KB\n"
     ]
    }
   ],
   "source": [
    "archive_df_clean.info()"
   ]
  },
  {
   "cell_type": "raw",
   "metadata": {},
   "source": [
    "#define no 11\n",
    "merge the tables together"
   ]
  },
  {
   "cell_type": "code",
   "execution_count": 50,
   "metadata": {},
   "outputs": [],
   "source": [
    "#code\n",
    "data_clean = archive_df_clean\n",
    "data_clean = pd.merge(data_clean, image_predictions_df_clean, on = 'tweet_id', how='left')\n",
    "data_clean = pd.merge(data_clean, api_df_now_clean, on = 'tweet_id', how='left')"
   ]
  },
  {
   "cell_type": "code",
   "execution_count": 51,
   "metadata": {},
   "outputs": [
    {
     "name": "stdout",
     "output_type": "stream",
     "text": [
      "<class 'pandas.core.frame.DataFrame'>\n",
      "Int64Index: 1971 entries, 0 to 1970\n",
      "Data columns (total 22 columns):\n",
      " #   Column                        Non-Null Count  Dtype              \n",
      "---  ------                        --------------  -----              \n",
      " 0   tweet_id                      1971 non-null   object             \n",
      " 1   timestamp                     1971 non-null   datetime64[ns, UTC]\n",
      " 2   source                        1971 non-null   object             \n",
      " 3   text                          1971 non-null   object             \n",
      " 4   expanded_urls                 1971 non-null   object             \n",
      " 5   rating_numerator              1971 non-null   float64            \n",
      " 6   rating_denominator            1971 non-null   int64              \n",
      " 7   name                          1971 non-null   object             \n",
      " 8   dog_stage                     303 non-null    object             \n",
      " 9   jpg_url                       1971 non-null   object             \n",
      " 10  img_num                       1971 non-null   int64              \n",
      " 11  prediction_1                  1971 non-null   object             \n",
      " 12  prediction_reality_1          1971 non-null   float64            \n",
      " 13  boolean_prediction_dogtype_1  1971 non-null   bool               \n",
      " 14  prediction_2                  1971 non-null   object             \n",
      " 15  prediction_reality_2          1971 non-null   float64            \n",
      " 16  boolean_prediction_dogtype_2  1971 non-null   bool               \n",
      " 17  prediction_3                  1971 non-null   object             \n",
      " 18  prediction_reality_3          1971 non-null   float64            \n",
      " 19  boolean_prediction_dogtype_3  1971 non-null   bool               \n",
      " 20  retweet_count                 1971 non-null   int64              \n",
      " 21  favorite_count                1971 non-null   int64              \n",
      "dtypes: bool(3), datetime64[ns, UTC](1), float64(4), int64(4), object(10)\n",
      "memory usage: 313.7+ KB\n"
     ]
    }
   ],
   "source": [
    "#test\n",
    "data_clean.info()"
   ]
  },
  {
   "cell_type": "markdown",
   "metadata": {},
   "source": [
    "# Storage"
   ]
  },
  {
   "cell_type": "code",
   "execution_count": 52,
   "metadata": {},
   "outputs": [],
   "source": [
    "data_clean.to_csv('twitter_archive_master.csv',index=False)"
   ]
  },
  {
   "cell_type": "markdown",
   "metadata": {},
   "source": [
    "# Visualization"
   ]
  },
  {
   "cell_type": "code",
   "execution_count": 53,
   "metadata": {},
   "outputs": [
    {
     "data": {
      "text/plain": [
       "<matplotlib.axes._subplots.AxesSubplot at 0x1dbadffc130>"
      ]
     },
     "execution_count": 53,
     "metadata": {},
     "output_type": "execute_result"
    },
    {
     "data": {
      "image/png": "[encoded data removed]",
      "text/plain": [
       "<Figure size 432x288 with 1 Axes>"
      ]
     },
     "metadata": {
      "needs_background": "light"
     },
     "output_type": "display_data"
    }
   ],
   "source": [
    "data_clean.groupby(['img_num']).retweet_count.mean().plot(kind='barh')"
   ]
  },
  {
   "cell_type": "code",
   "execution_count": 54,
   "metadata": {},
   "outputs": [
    {
     "data": {
      "text/plain": [
       "<matplotlib.axes._subplots.AxesSubplot at 0x1dbae742370>"
      ]
     },
     "execution_count": 54,
     "metadata": {},
     "output_type": "execute_result"
    },
    {
     "data": {
      "image/png": "[encoded data removed]",
      "text/plain": [
       "<Figure size 576x576 with 1 Axes>"
      ]
     },
     "metadata": {
      "needs_background": "light"
     },
     "output_type": "display_data"
    }
   ],
   "source": [
    "\n",
    "data_clean.groupby(['dog_stage']).retweet_count.mean().sort_values(ascending=False)[12::-1].plot(kind='barh', title= 'Dog Stage vs Retweets', figsize=(8,8))"
   ]
  },
  {
   "cell_type": "code",
   "execution_count": 55,
   "metadata": {},
   "outputs": [
    {
     "data": {
      "text/plain": [
       "<matplotlib.axes._subplots.AxesSubplot at 0x1dbae7c5d90>"
      ]
     },
     "execution_count": 55,
     "metadata": {},
     "output_type": "execute_result"
    },
    {
     "data": {
      "image/png": "[encoded data removed]",
      "text/plain": [
       "<Figure size 576x576 with 1 Axes>"
      ]
     },
     "metadata": {
      "needs_background": "light"
     },
     "output_type": "display_data"
    }
   ],
   "source": [
    "data_clean.source.value_counts().plot(kind='bar', title='Used APP',figsize=(8,8))"
   ]
  },
  {
   "cell_type": "code",
   "execution_count": 56,
   "metadata": {},
   "outputs": [
    {
     "data": {
      "text/plain": [
       "<matplotlib.axes._subplots.AxesSubplot at 0x1dbae820160>"
      ]
     },
     "execution_count": 56,
     "metadata": {},
     "output_type": "execute_result"
    },
    {
     "data": {
      "image/png": "[encoded data removed]",
      "text/plain": [
       "<Figure size 576x576 with 1 Axes>"
      ]
     },
     "metadata": {
      "needs_background": "light"
     },
     "output_type": "display_data"
    }
   ],
   "source": [
    "data_clean.plot(x='favorite_count',y='retweet_count',kind='scatter',title='Favorite vs Retweet counts', figsize=(8,8))"
   ]
  },
  {
   "cell_type": "code",
   "execution_count": null,
   "metadata": {},
   "outputs": [],
   "source": []
  }
 ],
 "metadata": {
  "kernelspec": {
   "display_name": "Python 3",
   "language": "python",
   "name": "python3"
  },
  "language_info": {
   "codemirror_mode": {
    "name": "ipython",
    "version": 3
   },
   "file_extension": ".py",
   "mimetype": "text/x-python",
   "name": "python",
   "nbconvert_exporter": "python",
   "pygments_lexer": "ipython3",
   "version": "3.8.3"
  }
 },
 "nbformat": 4,
 "nbformat_minor": 2
}
