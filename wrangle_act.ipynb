{
  "nbformat": 4,
  "nbformat_minor": 0,
  "metadata": {
    "colab": {
      "name": "wrangle_act.ipynb",
      "provenance": [],
      "collapsed_sections": [
        "B7V9tBeeL3vO",
        "Mm9Efww3q7VS",
        "IfJ50C_8qTTu",
        "PUPy3l29qXZK",
        "O1RDHyH2qZN3",
        "1Mh1o-fSl1FN",
        "IqM4u7R10V9Z",
        "PgXBT5pK0R7I",
        "PTBrlrt19KQu",
        "SodgcDRXADNy",
        "MEpzalWvAEdX",
        "XS95-q4iAvt4",
        "EATDKwKNehLm"
      ]
    },
    "kernelspec": {
      "display_name": "Python 3",
      "name": "python3"
    },
    "widgets": {
      "application/vnd.jupyter.widget-state+json": {
        "a6b6e5f1c5314d799c024a16071617d9": {
          "model_module": "@jupyter-widgets/controls",
          "model_name": "HBoxModel",
          "state": {
            "_view_name": "HBoxView",
            "_dom_classes": [],
            "_model_name": "HBoxModel",
            "_view_module": "@jupyter-widgets/controls",
            "_model_module_version": "1.5.0",
            "_view_count": null,
            "_view_module_version": "1.5.0",
            "box_style": "",
            "layout": "IPY_MODEL_8f7a1c1ce18f4571a3d53e7960571725",
            "_model_module": "@jupyter-widgets/controls",
            "children": [
              "IPY_MODEL_4f9544b7bfd4478880a340a8750d8ce4",
              "IPY_MODEL_ab149fe4510247358a775f6bf1383c88"
            ]
          }
        },
        "8f7a1c1ce18f4571a3d53e7960571725": {
          "model_module": "@jupyter-widgets/base",
          "model_name": "LayoutModel",
          "state": {
            "_view_name": "LayoutView",
            "grid_template_rows": null,
            "right": null,
            "justify_content": null,
            "_view_module": "@jupyter-widgets/base",
            "overflow": null,
            "_model_module_version": "1.2.0",
            "_view_count": null,
            "flex_flow": null,
            "width": null,
            "min_width": null,
            "border": null,
            "align_items": null,
            "bottom": null,
            "_model_module": "@jupyter-widgets/base",
            "top": null,
            "grid_column": null,
            "overflow_y": null,
            "overflow_x": null,
            "grid_auto_flow": null,
            "grid_area": null,
            "grid_template_columns": null,
            "flex": null,
            "_model_name": "LayoutModel",
            "justify_items": null,
            "grid_row": null,
            "max_height": null,
            "align_content": null,
            "visibility": null,
            "align_self": null,
            "height": null,
            "min_height": null,
            "padding": null,
            "grid_auto_rows": null,
            "grid_gap": null,
            "max_width": null,
            "order": null,
            "_view_module_version": "1.2.0",
            "grid_template_areas": null,
            "object_position": null,
            "object_fit": null,
            "grid_auto_columns": null,
            "margin": null,
            "display": null,
            "left": null
          }
        },
        "4f9544b7bfd4478880a340a8750d8ce4": {
          "model_module": "@jupyter-widgets/controls",
          "model_name": "FloatProgressModel",
          "state": {
            "_view_name": "ProgressView",
            "style": "IPY_MODEL_51c301c3431a4af5aac46bad1262d2b2",
            "_dom_classes": [],
            "description": "fetching tweets by ID: 100%",
            "_model_name": "FloatProgressModel",
            "bar_style": "",
            "max": 2356,
            "_view_module": "@jupyter-widgets/controls",
            "_model_module_version": "1.5.0",
            "value": 2356,
            "_view_count": null,
            "_view_module_version": "1.5.0",
            "orientation": "horizontal",
            "min": 0,
            "description_tooltip": null,
            "_model_module": "@jupyter-widgets/controls",
            "layout": "IPY_MODEL_e133953cf04f4172a392ce77333dd513"
          }
        },
        "ab149fe4510247358a775f6bf1383c88": {
          "model_module": "@jupyter-widgets/controls",
          "model_name": "HTMLModel",
          "state": {
            "_view_name": "HTMLView",
            "style": "IPY_MODEL_4897391729e04f1aa0184e8b8ee1b6ee",
            "_dom_classes": [],
            "description": "",
            "_model_name": "HTMLModel",
            "placeholder": "​",
            "_view_module": "@jupyter-widgets/controls",
            "_model_module_version": "1.5.0",
            "value": " 2356/2356 [31:20&lt;00:00,  7.52it/s]",
            "_view_count": null,
            "_view_module_version": "1.5.0",
            "description_tooltip": null,
            "_model_module": "@jupyter-widgets/controls",
            "layout": "IPY_MODEL_7a283b4a3d5c4acd9949d32ae25a57bc"
          }
        },
        "51c301c3431a4af5aac46bad1262d2b2": {
          "model_module": "@jupyter-widgets/controls",
          "model_name": "ProgressStyleModel",
          "state": {
            "_view_name": "StyleView",
            "_model_name": "ProgressStyleModel",
            "description_width": "initial",
            "_view_module": "@jupyter-widgets/base",
            "_model_module_version": "1.5.0",
            "_view_count": null,
            "_view_module_version": "1.2.0",
            "bar_color": null,
            "_model_module": "@jupyter-widgets/controls"
          }
        },
        "e133953cf04f4172a392ce77333dd513": {
          "model_module": "@jupyter-widgets/base",
          "model_name": "LayoutModel",
          "state": {
            "_view_name": "LayoutView",
            "grid_template_rows": null,
            "right": null,
            "justify_content": null,
            "_view_module": "@jupyter-widgets/base",
            "overflow": null,
            "_model_module_version": "1.2.0",
            "_view_count": null,
            "flex_flow": null,
            "width": null,
            "min_width": null,
            "border": null,
            "align_items": null,
            "bottom": null,
            "_model_module": "@jupyter-widgets/base",
            "top": null,
            "grid_column": null,
            "overflow_y": null,
            "overflow_x": null,
            "grid_auto_flow": null,
            "grid_area": null,
            "grid_template_columns": null,
            "flex": null,
            "_model_name": "LayoutModel",
            "justify_items": null,
            "grid_row": null,
            "max_height": null,
            "align_content": null,
            "visibility": null,
            "align_self": null,
            "height": null,
            "min_height": null,
            "padding": null,
            "grid_auto_rows": null,
            "grid_gap": null,
            "max_width": null,
            "order": null,
            "_view_module_version": "1.2.0",
            "grid_template_areas": null,
            "object_position": null,
            "object_fit": null,
            "grid_auto_columns": null,
            "margin": null,
            "display": null,
            "left": null
          }
        },
        "4897391729e04f1aa0184e8b8ee1b6ee": {
          "model_module": "@jupyter-widgets/controls",
          "model_name": "DescriptionStyleModel",
          "state": {
            "_view_name": "StyleView",
            "_model_name": "DescriptionStyleModel",
            "description_width": "",
            "_view_module": "@jupyter-widgets/base",
            "_model_module_version": "1.5.0",
            "_view_count": null,
            "_view_module_version": "1.2.0",
            "_model_module": "@jupyter-widgets/controls"
          }
        },
        "7a283b4a3d5c4acd9949d32ae25a57bc": {
          "model_module": "@jupyter-widgets/base",
          "model_name": "LayoutModel",
          "state": {
            "_view_name": "LayoutView",
            "grid_template_rows": null,
            "right": null,
            "justify_content": null,
            "_view_module": "@jupyter-widgets/base",
            "overflow": null,
            "_model_module_version": "1.2.0",
            "_view_count": null,
            "flex_flow": null,
            "width": null,
            "min_width": null,
            "border": null,
            "align_items": null,
            "bottom": null,
            "_model_module": "@jupyter-widgets/base",
            "top": null,
            "grid_column": null,
            "overflow_y": null,
            "overflow_x": null,
            "grid_auto_flow": null,
            "grid_area": null,
            "grid_template_columns": null,
            "flex": null,
            "_model_name": "LayoutModel",
            "justify_items": null,
            "grid_row": null,
            "max_height": null,
            "align_content": null,
            "visibility": null,
            "align_self": null,
            "height": null,
            "min_height": null,
            "padding": null,
            "grid_auto_rows": null,
            "grid_gap": null,
            "max_width": null,
            "order": null,
            "_view_module_version": "1.2.0",
            "grid_template_areas": null,
            "object_position": null,
            "object_fit": null,
            "grid_auto_columns": null,
            "margin": null,
            "display": null,
            "left": null
          }
        }
      }
    }
  },
  "cells": [
    {
      "cell_type": "markdown",
      "metadata": {
        "id": "B7V9tBeeL3vO"
      },
      "source": [
        "# Data Wrangling\n",
        "Will be done in 3 different ways\n",
        "- Manually download data\n",
        "- Use requests API\n",
        "- consume twitter api\n",
        "---"
      ]
    },
    {
      "cell_type": "markdown",
      "metadata": {
        "id": "Mm9Efww3q7VS"
      },
      "source": [
        "### Configure Workspace"
      ]
    },
    {
      "cell_type": "code",
      "metadata": {
        "id": "z6FuiubEK2gG"
      },
      "source": [
        "import pandas as pd, numpy as np"
      ],
      "execution_count": null,
      "outputs": []
    },
    {
      "cell_type": "code",
      "metadata": {
        "id": "Kt8uedQoMHTa"
      },
      "source": [
        "import tweepy\n",
        "import requests\n",
        "from tqdm.auto import tqdm\n",
        "import json"
      ],
      "execution_count": null,
      "outputs": []
    },
    {
      "cell_type": "markdown",
      "metadata": {
        "id": "IfJ50C_8qTTu"
      },
      "source": [
        "### Manually Downloaded\n",
        "\n",
        "- Download the file from udacity \n",
        "- read it using `pd.read_csv()`"
      ]
    },
    {
      "cell_type": "code",
      "metadata": {
        "colab": {
          "base_uri": "https://localhost:8080/",
          "height": 586
        },
        "id": "yFfAZmOOLCCX",
        "outputId": "769c0b57-d79e-43df-8e4a-141891890409"
      },
      "source": [
        "tweets_enhanced = 'twitter-archive-enhanced.csv'\n",
        "df_tweets_archive = pd.read_csv(tweets_enhanced)\n",
        "df_tweets_archive.head()"
      ],
      "execution_count": null,
      "outputs": [
        {
          "output_type": "execute_result",
          "data": {
            "text/html": [
              "<div>\n",
              "<style scoped>\n",
              "    .dataframe tbody tr th:only-of-type {\n",
              "        vertical-align: middle;\n",
              "    }\n",
              "\n",
              "    .dataframe tbody tr th {\n",
              "        vertical-align: top;\n",
              "    }\n",
              "\n",
              "    .dataframe thead th {\n",
              "        text-align: right;\n",
              "    }\n",
              "</style>\n",
              "<table border=\"1\" class=\"dataframe\">\n",
              "  <thead>\n",
              "    <tr style=\"text-align: right;\">\n",
              "      <th></th>\n",
              "      <th>tweet_id</th>\n",
              "      <th>in_reply_to_status_id</th>\n",
              "      <th>in_reply_to_user_id</th>\n",
              "      <th>timestamp</th>\n",
              "      <th>source</th>\n",
              "      <th>text</th>\n",
              "      <th>retweeted_status_id</th>\n",
              "      <th>retweeted_status_user_id</th>\n",
              "      <th>retweeted_status_timestamp</th>\n",
              "      <th>expanded_urls</th>\n",
              "      <th>rating_numerator</th>\n",
              "      <th>rating_denominator</th>\n",
              "      <th>name</th>\n",
              "      <th>doggo</th>\n",
              "      <th>floofer</th>\n",
              "      <th>pupper</th>\n",
              "      <th>puppo</th>\n",
              "    </tr>\n",
              "  </thead>\n",
              "  <tbody>\n",
              "    <tr>\n",
              "      <th>0</th>\n",
              "      <td>892420643555336193</td>\n",
              "      <td>NaN</td>\n",
              "      <td>NaN</td>\n",
              "      <td>2017-08-01 16:23:56 +0000</td>\n",
              "      <td>&lt;a href=\"http://twitter.com/download/iphone\" r...</td>\n",
              "      <td>This is Phineas. He's a mystical boy. Only eve...</td>\n",
              "      <td>NaN</td>\n",
              "      <td>NaN</td>\n",
              "      <td>NaN</td>\n",
              "      <td>https://twitter.com/dog_rates/status/892420643...</td>\n",
              "      <td>13</td>\n",
              "      <td>10</td>\n",
              "      <td>Phineas</td>\n",
              "      <td>None</td>\n",
              "      <td>None</td>\n",
              "      <td>None</td>\n",
              "      <td>None</td>\n",
              "    </tr>\n",
              "    <tr>\n",
              "      <th>1</th>\n",
              "      <td>892177421306343426</td>\n",
              "      <td>NaN</td>\n",
              "      <td>NaN</td>\n",
              "      <td>2017-08-01 00:17:27 +0000</td>\n",
              "      <td>&lt;a href=\"http://twitter.com/download/iphone\" r...</td>\n",
              "      <td>This is Tilly. She's just checking pup on you....</td>\n",
              "      <td>NaN</td>\n",
              "      <td>NaN</td>\n",
              "      <td>NaN</td>\n",
              "      <td>https://twitter.com/dog_rates/status/892177421...</td>\n",
              "      <td>13</td>\n",
              "      <td>10</td>\n",
              "      <td>Tilly</td>\n",
              "      <td>None</td>\n",
              "      <td>None</td>\n",
              "      <td>None</td>\n",
              "      <td>None</td>\n",
              "    </tr>\n",
              "    <tr>\n",
              "      <th>2</th>\n",
              "      <td>891815181378084864</td>\n",
              "      <td>NaN</td>\n",
              "      <td>NaN</td>\n",
              "      <td>2017-07-31 00:18:03 +0000</td>\n",
              "      <td>&lt;a href=\"http://twitter.com/download/iphone\" r...</td>\n",
              "      <td>This is Archie. He is a rare Norwegian Pouncin...</td>\n",
              "      <td>NaN</td>\n",
              "      <td>NaN</td>\n",
              "      <td>NaN</td>\n",
              "      <td>https://twitter.com/dog_rates/status/891815181...</td>\n",
              "      <td>12</td>\n",
              "      <td>10</td>\n",
              "      <td>Archie</td>\n",
              "      <td>None</td>\n",
              "      <td>None</td>\n",
              "      <td>None</td>\n",
              "      <td>None</td>\n",
              "    </tr>\n",
              "    <tr>\n",
              "      <th>3</th>\n",
              "      <td>891689557279858688</td>\n",
              "      <td>NaN</td>\n",
              "      <td>NaN</td>\n",
              "      <td>2017-07-30 15:58:51 +0000</td>\n",
              "      <td>&lt;a href=\"http://twitter.com/download/iphone\" r...</td>\n",
              "      <td>This is Darla. She commenced a snooze mid meal...</td>\n",
              "      <td>NaN</td>\n",
              "      <td>NaN</td>\n",
              "      <td>NaN</td>\n",
              "      <td>https://twitter.com/dog_rates/status/891689557...</td>\n",
              "      <td>13</td>\n",
              "      <td>10</td>\n",
              "      <td>Darla</td>\n",
              "      <td>None</td>\n",
              "      <td>None</td>\n",
              "      <td>None</td>\n",
              "      <td>None</td>\n",
              "    </tr>\n",
              "    <tr>\n",
              "      <th>4</th>\n",
              "      <td>891327558926688256</td>\n",
              "      <td>NaN</td>\n",
              "      <td>NaN</td>\n",
              "      <td>2017-07-29 16:00:24 +0000</td>\n",
              "      <td>&lt;a href=\"http://twitter.com/download/iphone\" r...</td>\n",
              "      <td>This is Franklin. He would like you to stop ca...</td>\n",
              "      <td>NaN</td>\n",
              "      <td>NaN</td>\n",
              "      <td>NaN</td>\n",
              "      <td>https://twitter.com/dog_rates/status/891327558...</td>\n",
              "      <td>12</td>\n",
              "      <td>10</td>\n",
              "      <td>Franklin</td>\n",
              "      <td>None</td>\n",
              "      <td>None</td>\n",
              "      <td>None</td>\n",
              "      <td>None</td>\n",
              "    </tr>\n",
              "  </tbody>\n",
              "</table>\n",
              "</div>"
            ],
            "text/plain": [
              "             tweet_id  in_reply_to_status_id  ...  pupper puppo\n",
              "0  892420643555336193                    NaN  ...    None  None\n",
              "1  892177421306343426                    NaN  ...    None  None\n",
              "2  891815181378084864                    NaN  ...    None  None\n",
              "3  891689557279858688                    NaN  ...    None  None\n",
              "4  891327558926688256                    NaN  ...    None  None\n",
              "\n",
              "[5 rows x 17 columns]"
            ]
          },
          "metadata": {
            "tags": []
          },
          "execution_count": 4
        }
      ]
    },
    {
      "cell_type": "markdown",
      "metadata": {
        "id": "PUPy3l29qXZK"
      },
      "source": [
        "### Using Requests pkg\n",
        "- send a GET HTTP Request\n",
        "- write its content in a file"
      ]
    },
    {
      "cell_type": "code",
      "metadata": {
        "colab": {
          "base_uri": "https://localhost:8080/",
          "height": 222
        },
        "id": "SSWJRVGBLy0G",
        "outputId": "cb021ca5-86b2-4b8e-9119-fd9102546a8e"
      },
      "source": [
        "images_predictions_url = 'https://d17h27t6h515a5.cloudfront.net/topher/2017/August/599fd2ad_image-predictions/image-predictions.tsv'\n",
        "imgs_preds_file = images_predictions_url.split('/')[-1]\n",
        "\n",
        "image_request = requests.get(images_predictions_url)\n",
        "req_content = image_request.content\n",
        "\n",
        "open(file=imgs_preds_file, mode='wb').write(req_content)\n",
        "\n",
        "images_preds_df = pd.read_csv(imgs_preds_file, sep='\\t')\n",
        "images_preds_df.head()"
      ],
      "execution_count": null,
      "outputs": [
        {
          "output_type": "execute_result",
          "data": {
            "text/html": [
              "<div>\n",
              "<style scoped>\n",
              "    .dataframe tbody tr th:only-of-type {\n",
              "        vertical-align: middle;\n",
              "    }\n",
              "\n",
              "    .dataframe tbody tr th {\n",
              "        vertical-align: top;\n",
              "    }\n",
              "\n",
              "    .dataframe thead th {\n",
              "        text-align: right;\n",
              "    }\n",
              "</style>\n",
              "<table border=\"1\" class=\"dataframe\">\n",
              "  <thead>\n",
              "    <tr style=\"text-align: right;\">\n",
              "      <th></th>\n",
              "      <th>tweet_id</th>\n",
              "      <th>jpg_url</th>\n",
              "      <th>img_num</th>\n",
              "      <th>p1</th>\n",
              "      <th>p1_conf</th>\n",
              "      <th>p1_dog</th>\n",
              "      <th>p2</th>\n",
              "      <th>p2_conf</th>\n",
              "      <th>p2_dog</th>\n",
              "      <th>p3</th>\n",
              "      <th>p3_conf</th>\n",
              "      <th>p3_dog</th>\n",
              "    </tr>\n",
              "  </thead>\n",
              "  <tbody>\n",
              "    <tr>\n",
              "      <th>0</th>\n",
              "      <td>666020888022790149</td>\n",
              "      <td>https://pbs.twimg.com/media/CT4udn0WwAA0aMy.jpg</td>\n",
              "      <td>1</td>\n",
              "      <td>Welsh_springer_spaniel</td>\n",
              "      <td>0.465074</td>\n",
              "      <td>True</td>\n",
              "      <td>collie</td>\n",
              "      <td>0.156665</td>\n",
              "      <td>True</td>\n",
              "      <td>Shetland_sheepdog</td>\n",
              "      <td>0.061428</td>\n",
              "      <td>True</td>\n",
              "    </tr>\n",
              "    <tr>\n",
              "      <th>1</th>\n",
              "      <td>666029285002620928</td>\n",
              "      <td>https://pbs.twimg.com/media/CT42GRgUYAA5iDo.jpg</td>\n",
              "      <td>1</td>\n",
              "      <td>redbone</td>\n",
              "      <td>0.506826</td>\n",
              "      <td>True</td>\n",
              "      <td>miniature_pinscher</td>\n",
              "      <td>0.074192</td>\n",
              "      <td>True</td>\n",
              "      <td>Rhodesian_ridgeback</td>\n",
              "      <td>0.072010</td>\n",
              "      <td>True</td>\n",
              "    </tr>\n",
              "    <tr>\n",
              "      <th>2</th>\n",
              "      <td>666033412701032449</td>\n",
              "      <td>https://pbs.twimg.com/media/CT4521TWwAEvMyu.jpg</td>\n",
              "      <td>1</td>\n",
              "      <td>German_shepherd</td>\n",
              "      <td>0.596461</td>\n",
              "      <td>True</td>\n",
              "      <td>malinois</td>\n",
              "      <td>0.138584</td>\n",
              "      <td>True</td>\n",
              "      <td>bloodhound</td>\n",
              "      <td>0.116197</td>\n",
              "      <td>True</td>\n",
              "    </tr>\n",
              "    <tr>\n",
              "      <th>3</th>\n",
              "      <td>666044226329800704</td>\n",
              "      <td>https://pbs.twimg.com/media/CT5Dr8HUEAA-lEu.jpg</td>\n",
              "      <td>1</td>\n",
              "      <td>Rhodesian_ridgeback</td>\n",
              "      <td>0.408143</td>\n",
              "      <td>True</td>\n",
              "      <td>redbone</td>\n",
              "      <td>0.360687</td>\n",
              "      <td>True</td>\n",
              "      <td>miniature_pinscher</td>\n",
              "      <td>0.222752</td>\n",
              "      <td>True</td>\n",
              "    </tr>\n",
              "    <tr>\n",
              "      <th>4</th>\n",
              "      <td>666049248165822465</td>\n",
              "      <td>https://pbs.twimg.com/media/CT5IQmsXIAAKY4A.jpg</td>\n",
              "      <td>1</td>\n",
              "      <td>miniature_pinscher</td>\n",
              "      <td>0.560311</td>\n",
              "      <td>True</td>\n",
              "      <td>Rottweiler</td>\n",
              "      <td>0.243682</td>\n",
              "      <td>True</td>\n",
              "      <td>Doberman</td>\n",
              "      <td>0.154629</td>\n",
              "      <td>True</td>\n",
              "    </tr>\n",
              "  </tbody>\n",
              "</table>\n",
              "</div>"
            ],
            "text/plain": [
              "             tweet_id  ... p3_dog\n",
              "0  666020888022790149  ...   True\n",
              "1  666029285002620928  ...   True\n",
              "2  666033412701032449  ...   True\n",
              "3  666044226329800704  ...   True\n",
              "4  666049248165822465  ...   True\n",
              "\n",
              "[5 rows x 12 columns]"
            ]
          },
          "metadata": {
            "tags": []
          },
          "execution_count": 5
        }
      ]
    },
    {
      "cell_type": "markdown",
      "metadata": {
        "id": "O1RDHyH2qZN3"
      },
      "source": [
        "### Consuming API\n",
        "- Consume Twiiter API fetching the tweets\n",
        "- Fetching tweets from `twitter-archive-enahnced.csv` that exist in fetched tweets from step 01\n"
      ]
    },
    {
      "cell_type": "code",
      "metadata": {
        "id": "A_85j0EKPUkX"
      },
      "source": [
        "CONSUMER_KEY, CONSUMER_SECRET = \"HIDDEN\", \"HIDDEN\"\n",
        "OAUTH_TOKEN, OAUTH_TOKEN_SECRET = \"HIDDEN\", \"HIDDEN\"\n",
        "\n",
        "auth = tweepy.OAuthHandler(CONSUMER_KEY, CONSUMER_SECRET)\n",
        "auth.set_access_token(OAUTH_TOKEN, OAUTH_TOKEN_SECRET)\n",
        "\n",
        "api = tweepy.API(auth, parser=tweepy.parsers.JSONParser(), \n",
        "                 wait_on_rate_limit=True, wait_on_rate_limit_notify=True)"
      ],
      "execution_count": null,
      "outputs": []
    },
    {
      "cell_type": "code",
      "metadata": {
        "colab": {
          "base_uri": "https://localhost:8080/",
          "height": 86,
          "referenced_widgets": [
            "a6b6e5f1c5314d799c024a16071617d9",
            "8f7a1c1ce18f4571a3d53e7960571725",
            "4f9544b7bfd4478880a340a8750d8ce4",
            "ab149fe4510247358a775f6bf1383c88",
            "51c301c3431a4af5aac46bad1262d2b2",
            "e133953cf04f4172a392ce77333dd513",
            "4897391729e04f1aa0184e8b8ee1b6ee",
            "7a283b4a3d5c4acd9949d32ae25a57bc"
          ]
        },
        "id": "E2ECncJkTGxJ",
        "outputId": "2604757a-0934-40bd-9b7b-dc1439e06de4"
      },
      "source": [
        "from tqdm.auto import tqdm\n",
        "\n",
        "\n",
        "tweets_lst, no_tweets_lst = [], []\n",
        "tweets_dict = []\n",
        "\n",
        "for tweet_id in tqdm(df_tweets_archive['tweet_id'], leave=False, \n",
        "                     desc='fetching tweets by ID'):\n",
        "    try:\n",
        "        tweets_lst.append(api.get_status(tweet_id))\n",
        "        tweets_dict.append(tweets_lst[-1])\n",
        "    except:\n",
        "        no_tweets_lst.append(tweet_id)\n",
        "\n",
        "print(f'Length of fetched tweets: {len(tweets_lst)}')\n",
        "print(f'Length of not fetched tweets: {len(no_tweets_lst)}')"
      ],
      "execution_count": null,
      "outputs": [
        {
          "output_type": "display_data",
          "data": {
            "application/vnd.jupyter.widget-view+json": {
              "model_id": "a6b6e5f1c5314d799c024a16071617d9",
              "version_minor": 0,
              "version_major": 2
            },
            "text/plain": [
              "HBox(children=(FloatProgress(value=0.0, description='fetching tweets by ID', max=2356.0, style=ProgressStyle(d…"
            ]
          },
          "metadata": {
            "tags": []
          }
        },
        {
          "output_type": "stream",
          "text": [
            "Rate limit reached. Sleeping for: 784\n",
            "Rate limit reached. Sleeping for: 783\n"
          ],
          "name": "stderr"
        },
        {
          "output_type": "stream",
          "text": [
            "\rLength of fetched tweets: 2331\n",
            "Length of not fetched tweets: 25\n"
          ],
          "name": "stdout"
        }
      ]
    },
    {
      "cell_type": "code",
      "metadata": {
        "colab": {
          "base_uri": "https://localhost:8080/"
        },
        "id": "40va9CxXVMgx",
        "outputId": "0ce624e4-884b-4fd8-d079-46049f46fb36"
      },
      "source": [
        "with open(file='tweepy_response.txt', encoding='utf-8', mode='w') as f:\n",
        "        f.write(json.dumps(tweets_dict, indent=4))\n",
        "\n",
        "tweets = []\n",
        "# with open('tweepy_response.txt', encoding='utf-8', mode='r') as json_:  \n",
        "    # all_tweets = json.loads(json_)\n",
        "for tweet in tweets_dict:\n",
        "    tweet_id = tweet['id']\n",
        "    tweet_ = tweet['text']\n",
        "    url_ = tweet_[tweet_.find('https'):]\n",
        "    favorite_count = tweet['favorite_count']\n",
        "    retweet_count = tweet['retweet_count']\n",
        "    followers_count = tweet['user']['followers_count']\n",
        "    friends_count = tweet['user']['friends_count']\n",
        "    tweet_source = tweet['source']\n",
        "    source = tweet_source[tweet_source.find('rel=\"nofollow\">') + 15:-4]\n",
        "    retweeted_status = tweet['retweeted_status'] = tweet.get('retweeted_status', 'Original tweet')\n",
        "    if retweeted_status == 'Original tweet':\n",
        "        url = url_\n",
        "    else:\n",
        "        retweeted_status = 'This is a retweet'\n",
        "        url = 'This is a retweet'\n",
        "\n",
        "    tweets.append({'tweet_id': str(tweet_id),\n",
        "                    'favorite_count': int(favorite_count),\n",
        "                    'retweet_count': int(retweet_count),\n",
        "                    'followers_count': int(followers_count),\n",
        "                    'friends_count': int(friends_count),\n",
        "                    'url': url,\n",
        "                    'source': source,\n",
        "                    'retweeted_status': retweeted_status})\n",
        "        \n",
        "cols = ['tweet_id', 'favorite_count', 'retweet_count',\n",
        "        'followers_count', 'friends_count','source',\n",
        "        'retweeted_status', 'url']\n",
        "tweet_json = pd.DataFrame(tweets, columns=cols)\n",
        "print(tweet_json.info(), tweet_json.head(), sep='\\n---------------\\n')\n",
        "tweet_json.to_csv('tweets.json.csv')\n"
      ],
      "execution_count": null,
      "outputs": [
        {
          "output_type": "stream",
          "text": [
            "<class 'pandas.core.frame.DataFrame'>\n",
            "RangeIndex: 2331 entries, 0 to 2330\n",
            "Data columns (total 8 columns):\n",
            " #   Column            Non-Null Count  Dtype \n",
            "---  ------            --------------  ----- \n",
            " 0   tweet_id          2331 non-null   object\n",
            " 1   favorite_count    2331 non-null   int64 \n",
            " 2   retweet_count     2331 non-null   int64 \n",
            " 3   followers_count   2331 non-null   int64 \n",
            " 4   friends_count     2331 non-null   int64 \n",
            " 5   source            2331 non-null   object\n",
            " 6   retweeted_status  2331 non-null   object\n",
            " 7   url               2331 non-null   object\n",
            "dtypes: int64(4), object(4)\n",
            "memory usage: 145.8+ KB\n",
            "None\n",
            "---------------\n",
            "             tweet_id  favorite_count  ...  retweeted_status                      url\n",
            "0  892420643555336193           34963  ...    Original tweet  https://t.co/MgUWQ76dJU\n",
            "1  892177421306343426           30279  ...    Original tweet  https://t.co/aQFSeaCu9L\n",
            "2  891815181378084864           22778  ...    Original tweet  https://t.co/r0YlrsGCgy\n",
            "3  891689557279858688           38206  ...    Original tweet  https://t.co/tD36da7qLQ\n",
            "4  891327558926688256           36489  ...    Original tweet  https://t.co/0g0KMIVXZ3\n",
            "\n",
            "[5 rows x 8 columns]\n"
          ],
          "name": "stdout"
        }
      ]
    },
    {
      "cell_type": "code",
      "metadata": {
        "colab": {
          "base_uri": "https://localhost:8080/",
          "height": 202
        },
        "id": "CoM17mcX23jp",
        "outputId": "7999d6e7-0d32-4887-ed81-c6ef8c5f422f"
      },
      "source": [
        "tweet_json.head()"
      ],
      "execution_count": null,
      "outputs": [
        {
          "output_type": "execute_result",
          "data": {
            "text/html": [
              "<div>\n",
              "<style scoped>\n",
              "    .dataframe tbody tr th:only-of-type {\n",
              "        vertical-align: middle;\n",
              "    }\n",
              "\n",
              "    .dataframe tbody tr th {\n",
              "        vertical-align: top;\n",
              "    }\n",
              "\n",
              "    .dataframe thead th {\n",
              "        text-align: right;\n",
              "    }\n",
              "</style>\n",
              "<table border=\"1\" class=\"dataframe\">\n",
              "  <thead>\n",
              "    <tr style=\"text-align: right;\">\n",
              "      <th></th>\n",
              "      <th>tweet_id</th>\n",
              "      <th>favorite_count</th>\n",
              "      <th>retweet_count</th>\n",
              "      <th>followers_count</th>\n",
              "      <th>friends_count</th>\n",
              "      <th>source</th>\n",
              "      <th>retweeted_status</th>\n",
              "      <th>url</th>\n",
              "    </tr>\n",
              "  </thead>\n",
              "  <tbody>\n",
              "    <tr>\n",
              "      <th>0</th>\n",
              "      <td>892420643555336193</td>\n",
              "      <td>34963</td>\n",
              "      <td>7341</td>\n",
              "      <td>8984609</td>\n",
              "      <td>16</td>\n",
              "      <td>Twitter for iPhone</td>\n",
              "      <td>Original tweet</td>\n",
              "      <td>https://t.co/MgUWQ76dJU</td>\n",
              "    </tr>\n",
              "    <tr>\n",
              "      <th>1</th>\n",
              "      <td>892177421306343426</td>\n",
              "      <td>30279</td>\n",
              "      <td>5477</td>\n",
              "      <td>8984609</td>\n",
              "      <td>16</td>\n",
              "      <td>Twitter for iPhone</td>\n",
              "      <td>Original tweet</td>\n",
              "      <td>https://t.co/aQFSeaCu9L</td>\n",
              "    </tr>\n",
              "    <tr>\n",
              "      <th>2</th>\n",
              "      <td>891815181378084864</td>\n",
              "      <td>22778</td>\n",
              "      <td>3621</td>\n",
              "      <td>8984609</td>\n",
              "      <td>16</td>\n",
              "      <td>Twitter for iPhone</td>\n",
              "      <td>Original tweet</td>\n",
              "      <td>https://t.co/r0YlrsGCgy</td>\n",
              "    </tr>\n",
              "    <tr>\n",
              "      <th>3</th>\n",
              "      <td>891689557279858688</td>\n",
              "      <td>38206</td>\n",
              "      <td>7522</td>\n",
              "      <td>8984609</td>\n",
              "      <td>16</td>\n",
              "      <td>Twitter for iPhone</td>\n",
              "      <td>Original tweet</td>\n",
              "      <td>https://t.co/tD36da7qLQ</td>\n",
              "    </tr>\n",
              "    <tr>\n",
              "      <th>4</th>\n",
              "      <td>891327558926688256</td>\n",
              "      <td>36489</td>\n",
              "      <td>8109</td>\n",
              "      <td>8984609</td>\n",
              "      <td>16</td>\n",
              "      <td>Twitter for iPhone</td>\n",
              "      <td>Original tweet</td>\n",
              "      <td>https://t.co/0g0KMIVXZ3</td>\n",
              "    </tr>\n",
              "  </tbody>\n",
              "</table>\n",
              "</div>"
            ],
            "text/plain": [
              "             tweet_id  favorite_count  ...  retweeted_status                      url\n",
              "0  892420643555336193           34963  ...    Original tweet  https://t.co/MgUWQ76dJU\n",
              "1  892177421306343426           30279  ...    Original tweet  https://t.co/aQFSeaCu9L\n",
              "2  891815181378084864           22778  ...    Original tweet  https://t.co/r0YlrsGCgy\n",
              "3  891689557279858688           38206  ...    Original tweet  https://t.co/tD36da7qLQ\n",
              "4  891327558926688256           36489  ...    Original tweet  https://t.co/0g0KMIVXZ3\n",
              "\n",
              "[5 rows x 8 columns]"
            ]
          },
          "metadata": {
            "tags": []
          },
          "execution_count": 9
        }
      ]
    },
    {
      "cell_type": "code",
      "metadata": {
        "colab": {
          "base_uri": "https://localhost:8080/"
        },
        "id": "3yxtyj5R42sH",
        "outputId": "b35e19db-f843-429a-a0a5-2031bfe06228"
      },
      "source": [
        "tweet_json.source.sort_values()"
      ],
      "execution_count": null,
      "outputs": [
        {
          "output_type": "execute_result",
          "data": {
            "text/plain": [
              "1701              TweetDeck\n",
              "948               TweetDeck\n",
              "950               TweetDeck\n",
              "951               TweetDeck\n",
              "953               TweetDeck\n",
              "               ...         \n",
              "1009    Vine - Make a Scene\n",
              "1616    Vine - Make a Scene\n",
              "1289    Vine - Make a Scene\n",
              "1604    Vine - Make a Scene\n",
              "1442    Vine - Make a Scene\n",
              "Name: source, Length: 2331, dtype: object"
            ]
          },
          "metadata": {
            "tags": []
          },
          "execution_count": 10
        }
      ]
    },
    {
      "cell_type": "code",
      "metadata": {
        "colab": {
          "base_uri": "https://localhost:8080/"
        },
        "id": "fC8K59LfEArA",
        "outputId": "5ea4e107-0bef-4b2d-de1d-eed273f48b3d"
      },
      "source": [
        "tweet_json.source.nunique()"
      ],
      "execution_count": null,
      "outputs": [
        {
          "output_type": "execute_result",
          "data": {
            "text/plain": [
              "4"
            ]
          },
          "metadata": {
            "tags": []
          },
          "execution_count": 11
        }
      ]
    },
    {
      "cell_type": "code",
      "metadata": {
        "id": "v7gHoL9zw0ZD"
      },
      "source": [
        "tweet_json = pd.read_csv('tweepy_response.txt', sep='\\t')"
      ],
      "execution_count": null,
      "outputs": []
    },
    {
      "cell_type": "markdown",
      "metadata": {
        "id": "1Mh1o-fSl1FN"
      },
      "source": [
        "# Data Assessment\n",
        "\n",
        "## Visually assessing\n",
        "- display dataframes using EXCEL, `df.head()` to get better insights about how the data looks\n",
        "\n",
        "## Programatically assessing \n",
        "- Displaying dataframes info and first 5 rows from each\n",
        "- displaying number of null values & num of duplicated rows\n",
        "- display statistical data\n",
        "- number of distinct observations\n",
        "- display unique vals\n",
        "\n",
        "Check below this h-line for our fetched observations\n",
        "\n",
        "---\n",
        "\n",
        "#### Twitter Archived CSV issues\n",
        "1. we found that 'in_reply_to_status_id' & 'in_reply_to_user_id' columns had only 78 rows out of 2356, the rest are NaNs\n",
        "2. timestamp is not DateTime but was saved as object(str)\n",
        "3. retweeted_status_timestamp was not DateTime but saved as str\n",
        "4. retweeted_status_id, retweeted_status_user_id & retweeted_status_timestamps are missing data totalling of (181/2356) only available\n",
        "5. doggo, floofer, pupper & puppo columns are mostly filled with Nones and not as empty objectss.\n",
        "6. This df doesn't contain any missing values, however, the date_time field\n",
        "type is an object instead of DateTime, however, it may have duplicates\n",
        "7. No duplicate rows given that there are no unique ids in every table\n",
        "\n",
        "#### Images predictions df from Requests package\n",
        "1. After prefatory assessments, images' table extracted from the requests python pkg. It has no quality issues in terms of data types or missing data\n",
        "2. There are approximatly 70 duplicated URLs as compared to the tweet id col in twitter_archive_enhanced df (2075 ids VS  2009 urls)\n",
        "3. The images predictions df has 3 different predictions {p1, p2, p3} with 3 different accuracies {p1_conf, p2_conf, p3_conf}, so either there are \n",
        "dog breeds not included in 1st and 2nd predictions or they're not written the \n",
        " same way or my best hypothesis is that the authors might have used 3 different NN\n",
        "4. there are no duplicates based on there are no unique ids in every table\n",
        "\n",
        "\n",
        "#### Tweets API data\n",
        "1. nothing to note here\n",
        "2. there are no duplicate rows given that there are no unique ids in every table\n",
        "\n",
        "\n",
        "- At the end, it was decided to merge all the dataframes as an approach to one of the tidiness issues found in the different dataframes, and clean data by dropping extra and duplicate columns as well as duplicate rows. changing cols datatypes to the most fitting datatypes "
      ]
    },
    {
      "cell_type": "markdown",
      "metadata": {
        "id": "IqM4u7R10V9Z"
      },
      "source": [
        "## Visual assessing of dataframes"
      ]
    },
    {
      "cell_type": "code",
      "metadata": {
        "colab": {
          "base_uri": "https://localhost:8080/",
          "height": 1000
        },
        "id": "AhwE344d0DNq",
        "outputId": "72f78986-7f3c-4db2-e73a-67f453ee05ac"
      },
      "source": [
        "df_tweets_archive"
      ],
      "execution_count": null,
      "outputs": [
        {
          "output_type": "execute_result",
          "data": {
            "text/html": [
              "<div>\n",
              "<style scoped>\n",
              "    .dataframe tbody tr th:only-of-type {\n",
              "        vertical-align: middle;\n",
              "    }\n",
              "\n",
              "    .dataframe tbody tr th {\n",
              "        vertical-align: top;\n",
              "    }\n",
              "\n",
              "    .dataframe thead th {\n",
              "        text-align: right;\n",
              "    }\n",
              "</style>\n",
              "<table border=\"1\" class=\"dataframe\">\n",
              "  <thead>\n",
              "    <tr style=\"text-align: right;\">\n",
              "      <th></th>\n",
              "      <th>tweet_id</th>\n",
              "      <th>in_reply_to_status_id</th>\n",
              "      <th>in_reply_to_user_id</th>\n",
              "      <th>timestamp</th>\n",
              "      <th>source</th>\n",
              "      <th>text</th>\n",
              "      <th>retweeted_status_id</th>\n",
              "      <th>retweeted_status_user_id</th>\n",
              "      <th>retweeted_status_timestamp</th>\n",
              "      <th>expanded_urls</th>\n",
              "      <th>rating_numerator</th>\n",
              "      <th>rating_denominator</th>\n",
              "      <th>name</th>\n",
              "      <th>doggo</th>\n",
              "      <th>floofer</th>\n",
              "      <th>pupper</th>\n",
              "      <th>puppo</th>\n",
              "    </tr>\n",
              "  </thead>\n",
              "  <tbody>\n",
              "    <tr>\n",
              "      <th>0</th>\n",
              "      <td>892420643555336193</td>\n",
              "      <td>NaN</td>\n",
              "      <td>NaN</td>\n",
              "      <td>2017-08-01 16:23:56 +0000</td>\n",
              "      <td>&lt;a href=\"http://twitter.com/download/iphone\" r...</td>\n",
              "      <td>This is Phineas. He's a mystical boy. Only eve...</td>\n",
              "      <td>NaN</td>\n",
              "      <td>NaN</td>\n",
              "      <td>NaN</td>\n",
              "      <td>https://twitter.com/dog_rates/status/892420643...</td>\n",
              "      <td>13</td>\n",
              "      <td>10</td>\n",
              "      <td>Phineas</td>\n",
              "      <td>None</td>\n",
              "      <td>None</td>\n",
              "      <td>None</td>\n",
              "      <td>None</td>\n",
              "    </tr>\n",
              "    <tr>\n",
              "      <th>1</th>\n",
              "      <td>892177421306343426</td>\n",
              "      <td>NaN</td>\n",
              "      <td>NaN</td>\n",
              "      <td>2017-08-01 00:17:27 +0000</td>\n",
              "      <td>&lt;a href=\"http://twitter.com/download/iphone\" r...</td>\n",
              "      <td>This is Tilly. She's just checking pup on you....</td>\n",
              "      <td>NaN</td>\n",
              "      <td>NaN</td>\n",
              "      <td>NaN</td>\n",
              "      <td>https://twitter.com/dog_rates/status/892177421...</td>\n",
              "      <td>13</td>\n",
              "      <td>10</td>\n",
              "      <td>Tilly</td>\n",
              "      <td>None</td>\n",
              "      <td>None</td>\n",
              "      <td>None</td>\n",
              "      <td>None</td>\n",
              "    </tr>\n",
              "    <tr>\n",
              "      <th>2</th>\n",
              "      <td>891815181378084864</td>\n",
              "      <td>NaN</td>\n",
              "      <td>NaN</td>\n",
              "      <td>2017-07-31 00:18:03 +0000</td>\n",
              "      <td>&lt;a href=\"http://twitter.com/download/iphone\" r...</td>\n",
              "      <td>This is Archie. He is a rare Norwegian Pouncin...</td>\n",
              "      <td>NaN</td>\n",
              "      <td>NaN</td>\n",
              "      <td>NaN</td>\n",
              "      <td>https://twitter.com/dog_rates/status/891815181...</td>\n",
              "      <td>12</td>\n",
              "      <td>10</td>\n",
              "      <td>Archie</td>\n",
              "      <td>None</td>\n",
              "      <td>None</td>\n",
              "      <td>None</td>\n",
              "      <td>None</td>\n",
              "    </tr>\n",
              "    <tr>\n",
              "      <th>3</th>\n",
              "      <td>891689557279858688</td>\n",
              "      <td>NaN</td>\n",
              "      <td>NaN</td>\n",
              "      <td>2017-07-30 15:58:51 +0000</td>\n",
              "      <td>&lt;a href=\"http://twitter.com/download/iphone\" r...</td>\n",
              "      <td>This is Darla. She commenced a snooze mid meal...</td>\n",
              "      <td>NaN</td>\n",
              "      <td>NaN</td>\n",
              "      <td>NaN</td>\n",
              "      <td>https://twitter.com/dog_rates/status/891689557...</td>\n",
              "      <td>13</td>\n",
              "      <td>10</td>\n",
              "      <td>Darla</td>\n",
              "      <td>None</td>\n",
              "      <td>None</td>\n",
              "      <td>None</td>\n",
              "      <td>None</td>\n",
              "    </tr>\n",
              "    <tr>\n",
              "      <th>4</th>\n",
              "      <td>891327558926688256</td>\n",
              "      <td>NaN</td>\n",
              "      <td>NaN</td>\n",
              "      <td>2017-07-29 16:00:24 +0000</td>\n",
              "      <td>&lt;a href=\"http://twitter.com/download/iphone\" r...</td>\n",
              "      <td>This is Franklin. He would like you to stop ca...</td>\n",
              "      <td>NaN</td>\n",
              "      <td>NaN</td>\n",
              "      <td>NaN</td>\n",
              "      <td>https://twitter.com/dog_rates/status/891327558...</td>\n",
              "      <td>12</td>\n",
              "      <td>10</td>\n",
              "      <td>Franklin</td>\n",
              "      <td>None</td>\n",
              "      <td>None</td>\n",
              "      <td>None</td>\n",
              "      <td>None</td>\n",
              "    </tr>\n",
              "    <tr>\n",
              "      <th>...</th>\n",
              "      <td>...</td>\n",
              "      <td>...</td>\n",
              "      <td>...</td>\n",
              "      <td>...</td>\n",
              "      <td>...</td>\n",
              "      <td>...</td>\n",
              "      <td>...</td>\n",
              "      <td>...</td>\n",
              "      <td>...</td>\n",
              "      <td>...</td>\n",
              "      <td>...</td>\n",
              "      <td>...</td>\n",
              "      <td>...</td>\n",
              "      <td>...</td>\n",
              "      <td>...</td>\n",
              "      <td>...</td>\n",
              "      <td>...</td>\n",
              "    </tr>\n",
              "    <tr>\n",
              "      <th>2351</th>\n",
              "      <td>666049248165822465</td>\n",
              "      <td>NaN</td>\n",
              "      <td>NaN</td>\n",
              "      <td>2015-11-16 00:24:50 +0000</td>\n",
              "      <td>&lt;a href=\"http://twitter.com/download/iphone\" r...</td>\n",
              "      <td>Here we have a 1949 1st generation vulpix. Enj...</td>\n",
              "      <td>NaN</td>\n",
              "      <td>NaN</td>\n",
              "      <td>NaN</td>\n",
              "      <td>https://twitter.com/dog_rates/status/666049248...</td>\n",
              "      <td>5</td>\n",
              "      <td>10</td>\n",
              "      <td>None</td>\n",
              "      <td>None</td>\n",
              "      <td>None</td>\n",
              "      <td>None</td>\n",
              "      <td>None</td>\n",
              "    </tr>\n",
              "    <tr>\n",
              "      <th>2352</th>\n",
              "      <td>666044226329800704</td>\n",
              "      <td>NaN</td>\n",
              "      <td>NaN</td>\n",
              "      <td>2015-11-16 00:04:52 +0000</td>\n",
              "      <td>&lt;a href=\"http://twitter.com/download/iphone\" r...</td>\n",
              "      <td>This is a purebred Piers Morgan. Loves to Netf...</td>\n",
              "      <td>NaN</td>\n",
              "      <td>NaN</td>\n",
              "      <td>NaN</td>\n",
              "      <td>https://twitter.com/dog_rates/status/666044226...</td>\n",
              "      <td>6</td>\n",
              "      <td>10</td>\n",
              "      <td>a</td>\n",
              "      <td>None</td>\n",
              "      <td>None</td>\n",
              "      <td>None</td>\n",
              "      <td>None</td>\n",
              "    </tr>\n",
              "    <tr>\n",
              "      <th>2353</th>\n",
              "      <td>666033412701032449</td>\n",
              "      <td>NaN</td>\n",
              "      <td>NaN</td>\n",
              "      <td>2015-11-15 23:21:54 +0000</td>\n",
              "      <td>&lt;a href=\"http://twitter.com/download/iphone\" r...</td>\n",
              "      <td>Here is a very happy pup. Big fan of well-main...</td>\n",
              "      <td>NaN</td>\n",
              "      <td>NaN</td>\n",
              "      <td>NaN</td>\n",
              "      <td>https://twitter.com/dog_rates/status/666033412...</td>\n",
              "      <td>9</td>\n",
              "      <td>10</td>\n",
              "      <td>a</td>\n",
              "      <td>None</td>\n",
              "      <td>None</td>\n",
              "      <td>None</td>\n",
              "      <td>None</td>\n",
              "    </tr>\n",
              "    <tr>\n",
              "      <th>2354</th>\n",
              "      <td>666029285002620928</td>\n",
              "      <td>NaN</td>\n",
              "      <td>NaN</td>\n",
              "      <td>2015-11-15 23:05:30 +0000</td>\n",
              "      <td>&lt;a href=\"http://twitter.com/download/iphone\" r...</td>\n",
              "      <td>This is a western brown Mitsubishi terrier. Up...</td>\n",
              "      <td>NaN</td>\n",
              "      <td>NaN</td>\n",
              "      <td>NaN</td>\n",
              "      <td>https://twitter.com/dog_rates/status/666029285...</td>\n",
              "      <td>7</td>\n",
              "      <td>10</td>\n",
              "      <td>a</td>\n",
              "      <td>None</td>\n",
              "      <td>None</td>\n",
              "      <td>None</td>\n",
              "      <td>None</td>\n",
              "    </tr>\n",
              "    <tr>\n",
              "      <th>2355</th>\n",
              "      <td>666020888022790149</td>\n",
              "      <td>NaN</td>\n",
              "      <td>NaN</td>\n",
              "      <td>2015-11-15 22:32:08 +0000</td>\n",
              "      <td>&lt;a href=\"http://twitter.com/download/iphone\" r...</td>\n",
              "      <td>Here we have a Japanese Irish Setter. Lost eye...</td>\n",
              "      <td>NaN</td>\n",
              "      <td>NaN</td>\n",
              "      <td>NaN</td>\n",
              "      <td>https://twitter.com/dog_rates/status/666020888...</td>\n",
              "      <td>8</td>\n",
              "      <td>10</td>\n",
              "      <td>None</td>\n",
              "      <td>None</td>\n",
              "      <td>None</td>\n",
              "      <td>None</td>\n",
              "      <td>None</td>\n",
              "    </tr>\n",
              "  </tbody>\n",
              "</table>\n",
              "<p>2356 rows × 17 columns</p>\n",
              "</div>"
            ],
            "text/plain": [
              "                tweet_id  in_reply_to_status_id  ...  pupper puppo\n",
              "0     892420643555336193                    NaN  ...    None  None\n",
              "1     892177421306343426                    NaN  ...    None  None\n",
              "2     891815181378084864                    NaN  ...    None  None\n",
              "3     891689557279858688                    NaN  ...    None  None\n",
              "4     891327558926688256                    NaN  ...    None  None\n",
              "...                  ...                    ...  ...     ...   ...\n",
              "2351  666049248165822465                    NaN  ...    None  None\n",
              "2352  666044226329800704                    NaN  ...    None  None\n",
              "2353  666033412701032449                    NaN  ...    None  None\n",
              "2354  666029285002620928                    NaN  ...    None  None\n",
              "2355  666020888022790149                    NaN  ...    None  None\n",
              "\n",
              "[2356 rows x 17 columns]"
            ]
          },
          "metadata": {
            "tags": []
          },
          "execution_count": 13
        }
      ]
    },
    {
      "cell_type": "code",
      "metadata": {
        "colab": {
          "base_uri": "https://localhost:8080/",
          "height": 453
        },
        "id": "FwNvm18e0OXO",
        "outputId": "7e0298b4-3995-42f3-84e8-4e64cb5a0420"
      },
      "source": [
        "images_preds_df"
      ],
      "execution_count": null,
      "outputs": [
        {
          "output_type": "execute_result",
          "data": {
            "text/html": [
              "<div>\n",
              "<style scoped>\n",
              "    .dataframe tbody tr th:only-of-type {\n",
              "        vertical-align: middle;\n",
              "    }\n",
              "\n",
              "    .dataframe tbody tr th {\n",
              "        vertical-align: top;\n",
              "    }\n",
              "\n",
              "    .dataframe thead th {\n",
              "        text-align: right;\n",
              "    }\n",
              "</style>\n",
              "<table border=\"1\" class=\"dataframe\">\n",
              "  <thead>\n",
              "    <tr style=\"text-align: right;\">\n",
              "      <th></th>\n",
              "      <th>tweet_id</th>\n",
              "      <th>jpg_url</th>\n",
              "      <th>img_num</th>\n",
              "      <th>p1</th>\n",
              "      <th>p1_conf</th>\n",
              "      <th>p1_dog</th>\n",
              "      <th>p2</th>\n",
              "      <th>p2_conf</th>\n",
              "      <th>p2_dog</th>\n",
              "      <th>p3</th>\n",
              "      <th>p3_conf</th>\n",
              "      <th>p3_dog</th>\n",
              "    </tr>\n",
              "  </thead>\n",
              "  <tbody>\n",
              "    <tr>\n",
              "      <th>0</th>\n",
              "      <td>666020888022790149</td>\n",
              "      <td>https://pbs.twimg.com/media/CT4udn0WwAA0aMy.jpg</td>\n",
              "      <td>1</td>\n",
              "      <td>Welsh_springer_spaniel</td>\n",
              "      <td>0.465074</td>\n",
              "      <td>True</td>\n",
              "      <td>collie</td>\n",
              "      <td>0.156665</td>\n",
              "      <td>True</td>\n",
              "      <td>Shetland_sheepdog</td>\n",
              "      <td>0.061428</td>\n",
              "      <td>True</td>\n",
              "    </tr>\n",
              "    <tr>\n",
              "      <th>1</th>\n",
              "      <td>666029285002620928</td>\n",
              "      <td>https://pbs.twimg.com/media/CT42GRgUYAA5iDo.jpg</td>\n",
              "      <td>1</td>\n",
              "      <td>redbone</td>\n",
              "      <td>0.506826</td>\n",
              "      <td>True</td>\n",
              "      <td>miniature_pinscher</td>\n",
              "      <td>0.074192</td>\n",
              "      <td>True</td>\n",
              "      <td>Rhodesian_ridgeback</td>\n",
              "      <td>0.072010</td>\n",
              "      <td>True</td>\n",
              "    </tr>\n",
              "    <tr>\n",
              "      <th>2</th>\n",
              "      <td>666033412701032449</td>\n",
              "      <td>https://pbs.twimg.com/media/CT4521TWwAEvMyu.jpg</td>\n",
              "      <td>1</td>\n",
              "      <td>German_shepherd</td>\n",
              "      <td>0.596461</td>\n",
              "      <td>True</td>\n",
              "      <td>malinois</td>\n",
              "      <td>0.138584</td>\n",
              "      <td>True</td>\n",
              "      <td>bloodhound</td>\n",
              "      <td>0.116197</td>\n",
              "      <td>True</td>\n",
              "    </tr>\n",
              "    <tr>\n",
              "      <th>3</th>\n",
              "      <td>666044226329800704</td>\n",
              "      <td>https://pbs.twimg.com/media/CT5Dr8HUEAA-lEu.jpg</td>\n",
              "      <td>1</td>\n",
              "      <td>Rhodesian_ridgeback</td>\n",
              "      <td>0.408143</td>\n",
              "      <td>True</td>\n",
              "      <td>redbone</td>\n",
              "      <td>0.360687</td>\n",
              "      <td>True</td>\n",
              "      <td>miniature_pinscher</td>\n",
              "      <td>0.222752</td>\n",
              "      <td>True</td>\n",
              "    </tr>\n",
              "    <tr>\n",
              "      <th>4</th>\n",
              "      <td>666049248165822465</td>\n",
              "      <td>https://pbs.twimg.com/media/CT5IQmsXIAAKY4A.jpg</td>\n",
              "      <td>1</td>\n",
              "      <td>miniature_pinscher</td>\n",
              "      <td>0.560311</td>\n",
              "      <td>True</td>\n",
              "      <td>Rottweiler</td>\n",
              "      <td>0.243682</td>\n",
              "      <td>True</td>\n",
              "      <td>Doberman</td>\n",
              "      <td>0.154629</td>\n",
              "      <td>True</td>\n",
              "    </tr>\n",
              "    <tr>\n",
              "      <th>...</th>\n",
              "      <td>...</td>\n",
              "      <td>...</td>\n",
              "      <td>...</td>\n",
              "      <td>...</td>\n",
              "      <td>...</td>\n",
              "      <td>...</td>\n",
              "      <td>...</td>\n",
              "      <td>...</td>\n",
              "      <td>...</td>\n",
              "      <td>...</td>\n",
              "      <td>...</td>\n",
              "      <td>...</td>\n",
              "    </tr>\n",
              "    <tr>\n",
              "      <th>2070</th>\n",
              "      <td>891327558926688256</td>\n",
              "      <td>https://pbs.twimg.com/media/DF6hr6BUMAAzZgT.jpg</td>\n",
              "      <td>2</td>\n",
              "      <td>basset</td>\n",
              "      <td>0.555712</td>\n",
              "      <td>True</td>\n",
              "      <td>English_springer</td>\n",
              "      <td>0.225770</td>\n",
              "      <td>True</td>\n",
              "      <td>German_short-haired_pointer</td>\n",
              "      <td>0.175219</td>\n",
              "      <td>True</td>\n",
              "    </tr>\n",
              "    <tr>\n",
              "      <th>2071</th>\n",
              "      <td>891689557279858688</td>\n",
              "      <td>https://pbs.twimg.com/media/DF_q7IAWsAEuuN8.jpg</td>\n",
              "      <td>1</td>\n",
              "      <td>paper_towel</td>\n",
              "      <td>0.170278</td>\n",
              "      <td>False</td>\n",
              "      <td>Labrador_retriever</td>\n",
              "      <td>0.168086</td>\n",
              "      <td>True</td>\n",
              "      <td>spatula</td>\n",
              "      <td>0.040836</td>\n",
              "      <td>False</td>\n",
              "    </tr>\n",
              "    <tr>\n",
              "      <th>2072</th>\n",
              "      <td>891815181378084864</td>\n",
              "      <td>https://pbs.twimg.com/media/DGBdLU1WsAANxJ9.jpg</td>\n",
              "      <td>1</td>\n",
              "      <td>Chihuahua</td>\n",
              "      <td>0.716012</td>\n",
              "      <td>True</td>\n",
              "      <td>malamute</td>\n",
              "      <td>0.078253</td>\n",
              "      <td>True</td>\n",
              "      <td>kelpie</td>\n",
              "      <td>0.031379</td>\n",
              "      <td>True</td>\n",
              "    </tr>\n",
              "    <tr>\n",
              "      <th>2073</th>\n",
              "      <td>892177421306343426</td>\n",
              "      <td>https://pbs.twimg.com/media/DGGmoV4XsAAUL6n.jpg</td>\n",
              "      <td>1</td>\n",
              "      <td>Chihuahua</td>\n",
              "      <td>0.323581</td>\n",
              "      <td>True</td>\n",
              "      <td>Pekinese</td>\n",
              "      <td>0.090647</td>\n",
              "      <td>True</td>\n",
              "      <td>papillon</td>\n",
              "      <td>0.068957</td>\n",
              "      <td>True</td>\n",
              "    </tr>\n",
              "    <tr>\n",
              "      <th>2074</th>\n",
              "      <td>892420643555336193</td>\n",
              "      <td>https://pbs.twimg.com/media/DGKD1-bXoAAIAUK.jpg</td>\n",
              "      <td>1</td>\n",
              "      <td>orange</td>\n",
              "      <td>0.097049</td>\n",
              "      <td>False</td>\n",
              "      <td>bagel</td>\n",
              "      <td>0.085851</td>\n",
              "      <td>False</td>\n",
              "      <td>banana</td>\n",
              "      <td>0.076110</td>\n",
              "      <td>False</td>\n",
              "    </tr>\n",
              "  </tbody>\n",
              "</table>\n",
              "<p>2075 rows × 12 columns</p>\n",
              "</div>"
            ],
            "text/plain": [
              "                tweet_id  ... p3_dog\n",
              "0     666020888022790149  ...   True\n",
              "1     666029285002620928  ...   True\n",
              "2     666033412701032449  ...   True\n",
              "3     666044226329800704  ...   True\n",
              "4     666049248165822465  ...   True\n",
              "...                  ...  ...    ...\n",
              "2070  891327558926688256  ...   True\n",
              "2071  891689557279858688  ...  False\n",
              "2072  891815181378084864  ...   True\n",
              "2073  892177421306343426  ...   True\n",
              "2074  892420643555336193  ...  False\n",
              "\n",
              "[2075 rows x 12 columns]"
            ]
          },
          "metadata": {
            "tags": []
          },
          "execution_count": 14
        }
      ]
    },
    {
      "cell_type": "code",
      "metadata": {
        "colab": {
          "base_uri": "https://localhost:8080/"
        },
        "id": "f0ZM_g3H0QWu",
        "outputId": "a209afc5-655a-4b07-afa6-74cd0e8f60fa"
      },
      "source": [
        "tweet_json = pd.read_csv('tweets.json.csv')\n",
        "tweet_json"
      ],
      "execution_count": null,
      "outputs": [
        {
          "output_type": "execute_result",
          "data": {
            "text/html": [
              "<div>\n",
              "<style scoped>\n",
              "    .dataframe tbody tr th:only-of-type {\n",
              "        vertical-align: middle;\n",
              "    }\n",
              "\n",
              "    .dataframe tbody tr th {\n",
              "        vertical-align: top;\n",
              "    }\n",
              "\n",
              "    .dataframe thead th {\n",
              "        text-align: right;\n",
              "    }\n",
              "</style>\n",
              "<table border=\"1\" class=\"dataframe\">\n",
              "  <thead>\n",
              "    <tr style=\"text-align: right;\">\n",
              "      <th></th>\n",
              "      <th>Unnamed: 0</th>\n",
              "      <th>tweet_id</th>\n",
              "      <th>favorite_count</th>\n",
              "      <th>retweet_count</th>\n",
              "      <th>followers_count</th>\n",
              "      <th>friends_count</th>\n",
              "      <th>source</th>\n",
              "      <th>retweeted_status</th>\n",
              "      <th>url</th>\n",
              "    </tr>\n",
              "  </thead>\n",
              "  <tbody>\n",
              "    <tr>\n",
              "      <th>0</th>\n",
              "      <td>0</td>\n",
              "      <td>892420643555336193</td>\n",
              "      <td>34963</td>\n",
              "      <td>7341</td>\n",
              "      <td>8984609</td>\n",
              "      <td>16</td>\n",
              "      <td>Twitter for iPhone</td>\n",
              "      <td>Original tweet</td>\n",
              "      <td>https://t.co/MgUWQ76dJU</td>\n",
              "    </tr>\n",
              "    <tr>\n",
              "      <th>1</th>\n",
              "      <td>1</td>\n",
              "      <td>892177421306343426</td>\n",
              "      <td>30279</td>\n",
              "      <td>5477</td>\n",
              "      <td>8984609</td>\n",
              "      <td>16</td>\n",
              "      <td>Twitter for iPhone</td>\n",
              "      <td>Original tweet</td>\n",
              "      <td>https://t.co/aQFSeaCu9L</td>\n",
              "    </tr>\n",
              "    <tr>\n",
              "      <th>2</th>\n",
              "      <td>2</td>\n",
              "      <td>891815181378084864</td>\n",
              "      <td>22778</td>\n",
              "      <td>3621</td>\n",
              "      <td>8984609</td>\n",
              "      <td>16</td>\n",
              "      <td>Twitter for iPhone</td>\n",
              "      <td>Original tweet</td>\n",
              "      <td>https://t.co/r0YlrsGCgy</td>\n",
              "    </tr>\n",
              "    <tr>\n",
              "      <th>3</th>\n",
              "      <td>3</td>\n",
              "      <td>891689557279858688</td>\n",
              "      <td>38206</td>\n",
              "      <td>7522</td>\n",
              "      <td>8984609</td>\n",
              "      <td>16</td>\n",
              "      <td>Twitter for iPhone</td>\n",
              "      <td>Original tweet</td>\n",
              "      <td>https://t.co/tD36da7qLQ</td>\n",
              "    </tr>\n",
              "    <tr>\n",
              "      <th>4</th>\n",
              "      <td>4</td>\n",
              "      <td>891327558926688256</td>\n",
              "      <td>36489</td>\n",
              "      <td>8109</td>\n",
              "      <td>8984609</td>\n",
              "      <td>16</td>\n",
              "      <td>Twitter for iPhone</td>\n",
              "      <td>Original tweet</td>\n",
              "      <td>https://t.co/0g0KMIVXZ3</td>\n",
              "    </tr>\n",
              "    <tr>\n",
              "      <th>...</th>\n",
              "      <td>...</td>\n",
              "      <td>...</td>\n",
              "      <td>...</td>\n",
              "      <td>...</td>\n",
              "      <td>...</td>\n",
              "      <td>...</td>\n",
              "      <td>...</td>\n",
              "      <td>...</td>\n",
              "      <td>...</td>\n",
              "    </tr>\n",
              "    <tr>\n",
              "      <th>2326</th>\n",
              "      <td>2326</td>\n",
              "      <td>666049248165822465</td>\n",
              "      <td>93</td>\n",
              "      <td>38</td>\n",
              "      <td>8984576</td>\n",
              "      <td>16</td>\n",
              "      <td>Twitter for iPhone</td>\n",
              "      <td>Original tweet</td>\n",
              "      <td>https://t.co/4B7cOc1EDq</td>\n",
              "    </tr>\n",
              "    <tr>\n",
              "      <th>2327</th>\n",
              "      <td>2327</td>\n",
              "      <td>666044226329800704</td>\n",
              "      <td>258</td>\n",
              "      <td>122</td>\n",
              "      <td>8984576</td>\n",
              "      <td>16</td>\n",
              "      <td>Twitter for iPhone</td>\n",
              "      <td>Original tweet</td>\n",
              "      <td>https://t.co/DWnyCjf2mx</td>\n",
              "    </tr>\n",
              "    <tr>\n",
              "      <th>2328</th>\n",
              "      <td>2328</td>\n",
              "      <td>666033412701032449</td>\n",
              "      <td>107</td>\n",
              "      <td>39</td>\n",
              "      <td>8984576</td>\n",
              "      <td>16</td>\n",
              "      <td>Twitter for iPhone</td>\n",
              "      <td>Original tweet</td>\n",
              "      <td>https://t.co/y671yMhoiR</td>\n",
              "    </tr>\n",
              "    <tr>\n",
              "      <th>2329</th>\n",
              "      <td>2329</td>\n",
              "      <td>666029285002620928</td>\n",
              "      <td>117</td>\n",
              "      <td>41</td>\n",
              "      <td>8984576</td>\n",
              "      <td>16</td>\n",
              "      <td>Twitter for iPhone</td>\n",
              "      <td>Original tweet</td>\n",
              "      <td>https://t.co/r7mOb2m0UI</td>\n",
              "    </tr>\n",
              "    <tr>\n",
              "      <th>2330</th>\n",
              "      <td>2330</td>\n",
              "      <td>666020888022790149</td>\n",
              "      <td>2342</td>\n",
              "      <td>443</td>\n",
              "      <td>8984576</td>\n",
              "      <td>16</td>\n",
              "      <td>Twitter for iPhone</td>\n",
              "      <td>Original tweet</td>\n",
              "      <td>https://t.co/BLDqew2Ijj</td>\n",
              "    </tr>\n",
              "  </tbody>\n",
              "</table>\n",
              "<p>2331 rows × 9 columns</p>\n",
              "</div>"
            ],
            "text/plain": [
              "      Unnamed: 0            tweet_id  ...  retweeted_status                      url\n",
              "0              0  892420643555336193  ...    Original tweet  https://t.co/MgUWQ76dJU\n",
              "1              1  892177421306343426  ...    Original tweet  https://t.co/aQFSeaCu9L\n",
              "2              2  891815181378084864  ...    Original tweet  https://t.co/r0YlrsGCgy\n",
              "3              3  891689557279858688  ...    Original tweet  https://t.co/tD36da7qLQ\n",
              "4              4  891327558926688256  ...    Original tweet  https://t.co/0g0KMIVXZ3\n",
              "...          ...                 ...  ...               ...                      ...\n",
              "2326        2326  666049248165822465  ...    Original tweet  https://t.co/4B7cOc1EDq\n",
              "2327        2327  666044226329800704  ...    Original tweet  https://t.co/DWnyCjf2mx\n",
              "2328        2328  666033412701032449  ...    Original tweet  https://t.co/y671yMhoiR\n",
              "2329        2329  666029285002620928  ...    Original tweet  https://t.co/r7mOb2m0UI\n",
              "2330        2330  666020888022790149  ...    Original tweet  https://t.co/BLDqew2Ijj\n",
              "\n",
              "[2331 rows x 9 columns]"
            ]
          },
          "metadata": {
            "tags": []
          },
          "execution_count": 15
        }
      ]
    },
    {
      "cell_type": "markdown",
      "metadata": {
        "id": "PgXBT5pK0R7I"
      },
      "source": [
        "## Programatic assessing of dataframes"
      ]
    },
    {
      "cell_type": "markdown",
      "metadata": {
        "id": "9rsbOxrDxd-T"
      },
      "source": [
        "- Tweets archive dataframe"
      ]
    },
    {
      "cell_type": "code",
      "metadata": {
        "colab": {
          "base_uri": "https://localhost:8080/"
        },
        "id": "vu76uFEDl2c1",
        "outputId": "1e73034a-1867-48d2-cd29-b887852316d9"
      },
      "source": [
        "print(df_tweets_archive.info(), df_tweets_archive.head(), sep='\\n----------------------\\n')"
      ],
      "execution_count": null,
      "outputs": [
        {
          "output_type": "stream",
          "text": [
            "<class 'pandas.core.frame.DataFrame'>\n",
            "RangeIndex: 2356 entries, 0 to 2355\n",
            "Data columns (total 17 columns):\n",
            " #   Column                      Non-Null Count  Dtype  \n",
            "---  ------                      --------------  -----  \n",
            " 0   tweet_id                    2356 non-null   int64  \n",
            " 1   in_reply_to_status_id       78 non-null     float64\n",
            " 2   in_reply_to_user_id         78 non-null     float64\n",
            " 3   timestamp                   2356 non-null   object \n",
            " 4   source                      2356 non-null   object \n",
            " 5   text                        2356 non-null   object \n",
            " 6   retweeted_status_id         181 non-null    float64\n",
            " 7   retweeted_status_user_id    181 non-null    float64\n",
            " 8   retweeted_status_timestamp  181 non-null    object \n",
            " 9   expanded_urls               2297 non-null   object \n",
            " 10  rating_numerator            2356 non-null   int64  \n",
            " 11  rating_denominator          2356 non-null   int64  \n",
            " 12  name                        2356 non-null   object \n",
            " 13  doggo                       2356 non-null   object \n",
            " 14  floofer                     2356 non-null   object \n",
            " 15  pupper                      2356 non-null   object \n",
            " 16  puppo                       2356 non-null   object \n",
            "dtypes: float64(4), int64(3), object(10)\n",
            "memory usage: 313.0+ KB\n",
            "None\n",
            "----------------------\n",
            "             tweet_id  in_reply_to_status_id  ...  pupper puppo\n",
            "0  892420643555336193                    NaN  ...    None  None\n",
            "1  892177421306343426                    NaN  ...    None  None\n",
            "2  891815181378084864                    NaN  ...    None  None\n",
            "3  891689557279858688                    NaN  ...    None  None\n",
            "4  891327558926688256                    NaN  ...    None  None\n",
            "\n",
            "[5 rows x 17 columns]\n"
          ],
          "name": "stdout"
        }
      ]
    },
    {
      "cell_type": "code",
      "metadata": {
        "colab": {
          "base_uri": "https://localhost:8080/"
        },
        "id": "-eYhoeeEwPyN",
        "outputId": "f9077a3a-8ed4-4a20-b853-a2b9e9875557"
      },
      "source": [
        "print(f'Null values #: {df_tweets_archive.isnull().sum()}',\n",
        "      f'Duplicated rows #: {sum(df_tweets_archive.duplicated())}')"
      ],
      "execution_count": null,
      "outputs": [
        {
          "output_type": "stream",
          "text": [
            "Null values #: tweet_id                         0\n",
            "in_reply_to_status_id         2278\n",
            "in_reply_to_user_id           2278\n",
            "timestamp                        0\n",
            "source                           0\n",
            "text                             0\n",
            "retweeted_status_id           2175\n",
            "retweeted_status_user_id      2175\n",
            "retweeted_status_timestamp    2175\n",
            "expanded_urls                   59\n",
            "rating_numerator                 0\n",
            "rating_denominator               0\n",
            "name                             0\n",
            "doggo                            0\n",
            "floofer                          0\n",
            "pupper                           0\n",
            "puppo                            0\n",
            "dtype: int64 Duplicated rows #: 0\n"
          ],
          "name": "stdout"
        }
      ]
    },
    {
      "cell_type": "code",
      "metadata": {
        "colab": {
          "base_uri": "https://localhost:8080/"
        },
        "id": "c0JzrdJvw4WY",
        "outputId": "84d56b4d-46b5-43be-efbc-35dcbe9aa2cc"
      },
      "source": [
        "print(df_tweets_archive.describe())"
      ],
      "execution_count": null,
      "outputs": [
        {
          "output_type": "stream",
          "text": [
            "           tweet_id  ...  rating_denominator\n",
            "count  2.356000e+03  ...         2356.000000\n",
            "mean   7.427716e+17  ...           10.455433\n",
            "std    6.856705e+16  ...            6.745237\n",
            "min    6.660209e+17  ...            0.000000\n",
            "25%    6.783989e+17  ...           10.000000\n",
            "50%    7.196279e+17  ...           10.000000\n",
            "75%    7.993373e+17  ...           10.000000\n",
            "max    8.924206e+17  ...          170.000000\n",
            "\n",
            "[8 rows x 7 columns]\n"
          ],
          "name": "stdout"
        }
      ]
    },
    {
      "cell_type": "code",
      "metadata": {
        "colab": {
          "base_uri": "https://localhost:8080/"
        },
        "id": "7PxHl3Ftxv2G",
        "outputId": "7ff85eb5-d750-40ac-f6f7-68f744b6eeea"
      },
      "source": [
        "print(df_tweets_archive.nunique())"
      ],
      "execution_count": null,
      "outputs": [
        {
          "output_type": "stream",
          "text": [
            "tweet_id                      2356\n",
            "in_reply_to_status_id           77\n",
            "in_reply_to_user_id             31\n",
            "timestamp                     2356\n",
            "source                           4\n",
            "text                          2356\n",
            "retweeted_status_id            181\n",
            "retweeted_status_user_id        25\n",
            "retweeted_status_timestamp     181\n",
            "expanded_urls                 2218\n",
            "rating_numerator                40\n",
            "rating_denominator              18\n",
            "name                           957\n",
            "doggo                            2\n",
            "floofer                          2\n",
            "pupper                           2\n",
            "puppo                            2\n",
            "dtype: int64\n"
          ],
          "name": "stdout"
        }
      ]
    },
    {
      "cell_type": "markdown",
      "metadata": {
        "id": "11W8bMwXxbN7"
      },
      "source": [
        "- Image predicitons dataframe"
      ]
    },
    {
      "cell_type": "code",
      "metadata": {
        "colab": {
          "base_uri": "https://localhost:8080/"
        },
        "id": "ZFJb8yN6l74y",
        "outputId": "5326280d-98a7-4168-9fe5-be3de8f35049"
      },
      "source": [
        "print(images_preds_df.info(), images_preds_df.head(), sep='\\n----------------------\\n')"
      ],
      "execution_count": null,
      "outputs": [
        {
          "output_type": "stream",
          "text": [
            "<class 'pandas.core.frame.DataFrame'>\n",
            "RangeIndex: 2075 entries, 0 to 2074\n",
            "Data columns (total 12 columns):\n",
            " #   Column    Non-Null Count  Dtype  \n",
            "---  ------    --------------  -----  \n",
            " 0   tweet_id  2075 non-null   int64  \n",
            " 1   jpg_url   2075 non-null   object \n",
            " 2   img_num   2075 non-null   int64  \n",
            " 3   p1        2075 non-null   object \n",
            " 4   p1_conf   2075 non-null   float64\n",
            " 5   p1_dog    2075 non-null   bool   \n",
            " 6   p2        2075 non-null   object \n",
            " 7   p2_conf   2075 non-null   float64\n",
            " 8   p2_dog    2075 non-null   bool   \n",
            " 9   p3        2075 non-null   object \n",
            " 10  p3_conf   2075 non-null   float64\n",
            " 11  p3_dog    2075 non-null   bool   \n",
            "dtypes: bool(3), float64(3), int64(2), object(4)\n",
            "memory usage: 152.1+ KB\n",
            "None\n",
            "----------------------\n",
            "             tweet_id  ... p3_dog\n",
            "0  666020888022790149  ...   True\n",
            "1  666029285002620928  ...   True\n",
            "2  666033412701032449  ...   True\n",
            "3  666044226329800704  ...   True\n",
            "4  666049248165822465  ...   True\n",
            "\n",
            "[5 rows x 12 columns]\n"
          ],
          "name": "stdout"
        }
      ]
    },
    {
      "cell_type": "code",
      "metadata": {
        "colab": {
          "base_uri": "https://localhost:8080/"
        },
        "id": "-D-_hFpBwkiz",
        "outputId": "afe6c2d4-6838-4d39-a967-d70c252ed077"
      },
      "source": [
        "print(f'Null values #:\\n {images_preds_df.isnull().sum()}',\n",
        "      f'Duplicated rows #: {sum(images_preds_df.duplicated())}')"
      ],
      "execution_count": null,
      "outputs": [
        {
          "output_type": "stream",
          "text": [
            "Null values #:\n",
            " tweet_id    0\n",
            "jpg_url     0\n",
            "img_num     0\n",
            "p1          0\n",
            "p1_conf     0\n",
            "p1_dog      0\n",
            "p2          0\n",
            "p2_conf     0\n",
            "p2_dog      0\n",
            "p3          0\n",
            "p3_conf     0\n",
            "p3_dog      0\n",
            "dtype: int64 Duplicated rows #: 0\n"
          ],
          "name": "stdout"
        }
      ]
    },
    {
      "cell_type": "code",
      "metadata": {
        "colab": {
          "base_uri": "https://localhost:8080/"
        },
        "id": "8ALEHmCYw9Gj",
        "outputId": "dd569334-08e7-42ef-995e-1df340134d04"
      },
      "source": [
        "print(images_preds_df.describe())"
      ],
      "execution_count": null,
      "outputs": [
        {
          "output_type": "stream",
          "text": [
            "           tweet_id      img_num      p1_conf       p2_conf       p3_conf\n",
            "count  2.075000e+03  2075.000000  2075.000000  2.075000e+03  2.075000e+03\n",
            "mean   7.384514e+17     1.203855     0.594548  1.345886e-01  6.032417e-02\n",
            "std    6.785203e+16     0.561875     0.271174  1.006657e-01  5.090593e-02\n",
            "min    6.660209e+17     1.000000     0.044333  1.011300e-08  1.740170e-10\n",
            "25%    6.764835e+17     1.000000     0.364412  5.388625e-02  1.622240e-02\n",
            "50%    7.119988e+17     1.000000     0.588230  1.181810e-01  4.944380e-02\n",
            "75%    7.932034e+17     1.000000     0.843855  1.955655e-01  9.180755e-02\n",
            "max    8.924206e+17     4.000000     1.000000  4.880140e-01  2.734190e-01\n"
          ],
          "name": "stdout"
        }
      ]
    },
    {
      "cell_type": "code",
      "metadata": {
        "colab": {
          "base_uri": "https://localhost:8080/"
        },
        "id": "3eLAWn0mxy_N",
        "outputId": "9a966f33-17f0-4a85-fc4b-b14315da2664"
      },
      "source": [
        "print(images_preds_df.nunique())"
      ],
      "execution_count": null,
      "outputs": [
        {
          "output_type": "stream",
          "text": [
            "tweet_id    2075\n",
            "jpg_url     2009\n",
            "img_num        4\n",
            "p1           378\n",
            "p1_conf     2006\n",
            "p1_dog         2\n",
            "p2           405\n",
            "p2_conf     2004\n",
            "p2_dog         2\n",
            "p3           408\n",
            "p3_conf     2006\n",
            "p3_dog         2\n",
            "dtype: int64\n"
          ],
          "name": "stdout"
        }
      ]
    },
    {
      "cell_type": "markdown",
      "metadata": {
        "id": "MzLK3ub6xiim"
      },
      "source": [
        "- formatted tweets dataframe -from twitter api-"
      ]
    },
    {
      "cell_type": "code",
      "metadata": {
        "colab": {
          "base_uri": "https://localhost:8080/"
        },
        "id": "xc_fiev6l_qa",
        "outputId": "bb6a3631-067d-4f76-8530-f2cd0aa13c83"
      },
      "source": [
        "print(tweet_json.info(), tweet_json.head(), sep='\\n----------------------\\n')"
      ],
      "execution_count": null,
      "outputs": [
        {
          "output_type": "stream",
          "text": [
            "<class 'pandas.core.frame.DataFrame'>\n",
            "RangeIndex: 2331 entries, 0 to 2330\n",
            "Data columns (total 9 columns):\n",
            " #   Column            Non-Null Count  Dtype \n",
            "---  ------            --------------  ----- \n",
            " 0   Unnamed: 0        2331 non-null   int64 \n",
            " 1   tweet_id          2331 non-null   int64 \n",
            " 2   favorite_count    2331 non-null   int64 \n",
            " 3   retweet_count     2331 non-null   int64 \n",
            " 4   followers_count   2331 non-null   int64 \n",
            " 5   friends_count     2331 non-null   int64 \n",
            " 6   source            2331 non-null   object\n",
            " 7   retweeted_status  2331 non-null   object\n",
            " 8   url               2331 non-null   object\n",
            "dtypes: int64(6), object(3)\n",
            "memory usage: 164.0+ KB\n",
            "None\n",
            "----------------------\n",
            "   Unnamed: 0            tweet_id  ...  retweeted_status                      url\n",
            "0           0  892420643555336193  ...    Original tweet  https://t.co/MgUWQ76dJU\n",
            "1           1  892177421306343426  ...    Original tweet  https://t.co/aQFSeaCu9L\n",
            "2           2  891815181378084864  ...    Original tweet  https://t.co/r0YlrsGCgy\n",
            "3           3  891689557279858688  ...    Original tweet  https://t.co/tD36da7qLQ\n",
            "4           4  891327558926688256  ...    Original tweet  https://t.co/0g0KMIVXZ3\n",
            "\n",
            "[5 rows x 9 columns]\n"
          ],
          "name": "stdout"
        }
      ]
    },
    {
      "cell_type": "code",
      "metadata": {
        "colab": {
          "base_uri": "https://localhost:8080/"
        },
        "id": "J-HtZc4HwnYQ",
        "outputId": "622b21ad-1ffe-439b-b179-c1fdfa15e622"
      },
      "source": [
        "print(f'Null values #: \\n{tweet_json.isnull().sum()}',\n",
        "      f'Duplicated rows #: {sum(tweet_json.duplicated())}')"
      ],
      "execution_count": null,
      "outputs": [
        {
          "output_type": "stream",
          "text": [
            "Null values #: \n",
            "Unnamed: 0          0\n",
            "tweet_id            0\n",
            "favorite_count      0\n",
            "retweet_count       0\n",
            "followers_count     0\n",
            "friends_count       0\n",
            "source              0\n",
            "retweeted_status    0\n",
            "url                 0\n",
            "dtype: int64 Duplicated rows #: 0\n"
          ],
          "name": "stdout"
        }
      ]
    },
    {
      "cell_type": "code",
      "metadata": {
        "colab": {
          "base_uri": "https://localhost:8080/"
        },
        "id": "zJibQSHXw_U1",
        "outputId": "c8c911fb-3540-4254-f2a7-d5e579221bea"
      },
      "source": [
        "print(tweet_json.describe())"
      ],
      "execution_count": null,
      "outputs": [
        {
          "output_type": "stream",
          "text": [
            "        Unnamed: 0      tweet_id  ...  followers_count  friends_count\n",
            "count  2331.000000  2.331000e+03  ...     2.331000e+03         2331.0\n",
            "mean   1165.000000  7.419079e+17  ...     8.984578e+06           16.0\n",
            "std     673.046061  6.823170e+16  ...     5.600787e+01            0.0\n",
            "min       0.000000  6.660209e+17  ...     8.984068e+06           16.0\n",
            "25%     582.500000  6.782670e+17  ...     8.984563e+06           16.0\n",
            "50%    1165.000000  7.182469e+17  ...     8.984575e+06           16.0\n",
            "75%    1747.500000  7.986692e+17  ...     8.984610e+06           16.0\n",
            "max    2330.000000  8.924206e+17  ...     8.984610e+06           16.0\n",
            "\n",
            "[8 rows x 6 columns]\n"
          ],
          "name": "stdout"
        }
      ]
    },
    {
      "cell_type": "code",
      "metadata": {
        "colab": {
          "base_uri": "https://localhost:8080/"
        },
        "id": "E3KeLR5dmBgy",
        "outputId": "9a788968-7d67-496f-8b5d-00bfa75e5650"
      },
      "source": [
        "print(tweet_json.nunique())"
      ],
      "execution_count": null,
      "outputs": [
        {
          "output_type": "stream",
          "text": [
            "Unnamed: 0          2331\n",
            "tweet_id            2331\n",
            "favorite_count      1989\n",
            "retweet_count       1664\n",
            "followers_count       19\n",
            "friends_count          1\n",
            "source                 4\n",
            "retweeted_status       2\n",
            "url                 2133\n",
            "dtype: int64\n"
          ],
          "name": "stdout"
        }
      ]
    },
    {
      "cell_type": "markdown",
      "metadata": {
        "id": "oEzy14SBwBYX"
      },
      "source": [
        "- since ratings are based on unconstrained human input, we dig deeper in it"
      ]
    },
    {
      "cell_type": "code",
      "metadata": {
        "colab": {
          "base_uri": "https://localhost:8080/"
        },
        "id": "CTnz3XjrwENr",
        "outputId": "da3ee3cc-c26e-4def-973c-2a3a8c5bea9b"
      },
      "source": [
        "print('Unique rating numerator values')\n",
        "print(np.sort(df_tweets_archive['rating_numerator'].unique()))\n",
        "print('Unique rating numerator value counts')\n",
        "print(df_tweets_archive['rating_numerator'].value_counts())"
      ],
      "execution_count": null,
      "outputs": [
        {
          "output_type": "stream",
          "text": [
            "Unique rating numerator values\n",
            "[   0    1    2    3    4    5    6    7    8    9   10   11   12   13\n",
            "   14   15   17   20   24   26   27   44   45   50   60   75   80   84\n",
            "   88   99  121  143  144  165  182  204  420  666  960 1776]\n",
            "Unique rating numerator value counts\n",
            "12      558\n",
            "11      464\n",
            "10      461\n",
            "13      351\n",
            "9       158\n",
            "8       102\n",
            "7        55\n",
            "14       54\n",
            "5        37\n",
            "6        32\n",
            "3        19\n",
            "4        17\n",
            "1         9\n",
            "2         9\n",
            "420       2\n",
            "0         2\n",
            "15        2\n",
            "75        2\n",
            "80        1\n",
            "20        1\n",
            "24        1\n",
            "26        1\n",
            "44        1\n",
            "50        1\n",
            "60        1\n",
            "165       1\n",
            "84        1\n",
            "88        1\n",
            "144       1\n",
            "182       1\n",
            "143       1\n",
            "666       1\n",
            "960       1\n",
            "1776      1\n",
            "17        1\n",
            "27        1\n",
            "45        1\n",
            "99        1\n",
            "121       1\n",
            "204       1\n",
            "Name: rating_numerator, dtype: int64\n"
          ],
          "name": "stdout"
        }
      ]
    },
    {
      "cell_type": "code",
      "metadata": {
        "colab": {
          "base_uri": "https://localhost:8080/"
        },
        "id": "dFKHCnYOySJC",
        "outputId": "efa6ceb0-db1c-4922-ed6a-c9a2d52c5e48"
      },
      "source": [
        "print('Unique rating denominator values')\n",
        "print(np.sort(df_tweets_archive['rating_denominator'].unique()))\n",
        "print('Unique rating denominator value counts')\n",
        "print(df_tweets_archive['rating_denominator'].value_counts())"
      ],
      "execution_count": null,
      "outputs": [
        {
          "output_type": "stream",
          "text": [
            "Unique rating denominator values\n",
            "[  0   2   7  10  11  15  16  20  40  50  70  80  90 110 120 130 150 170]\n",
            "Unique rating denominator value counts\n",
            "10     2333\n",
            "11        3\n",
            "50        3\n",
            "80        2\n",
            "20        2\n",
            "2         1\n",
            "16        1\n",
            "40        1\n",
            "70        1\n",
            "15        1\n",
            "90        1\n",
            "110       1\n",
            "120       1\n",
            "130       1\n",
            "150       1\n",
            "170       1\n",
            "7         1\n",
            "0         1\n",
            "Name: rating_denominator, dtype: int64\n"
          ],
          "name": "stdout"
        }
      ]
    },
    {
      "cell_type": "markdown",
      "metadata": {
        "id": "vEiv4_GXyR_6"
      },
      "source": [
        "# Data Cleaning\n",
        "\n",
        "## TO WRITE IT LATER\n",
        "- Merge dataframes\n",
        "- Remove cols with missing vals & unrelated cols\n",
        "- fix type of tweet_id and image_num in df\n",
        "- Combine all dog breeds into a `dog_type` col\n"
      ]
    },
    {
      "cell_type": "markdown",
      "metadata": {
        "id": "PTBrlrt19KQu"
      },
      "source": [
        "#### Tidiness Issue\n",
        "- [DEFINE] Merge the dataframe df_twitter_archive, dataframe image_preds_df, and tweet_json dataframes .\n",
        "- [CODE] USING pyhton command CONCAT we can merge out datasets\n"
      ]
    },
    {
      "cell_type": "code",
      "metadata": {
        "id": "xQVQ1lIAx9y3"
      },
      "source": [
        "twitter = df_tweets_archive.copy()\n",
        "image = images_preds_df.copy()\n",
        "json = tweet_json.copy()\n",
        "# Merge dataframes [TIDYNESS]\n",
        "df = pd.concat([twitter, image, json], axis=1)"
      ],
      "execution_count": null,
      "outputs": []
    },
    {
      "cell_type": "markdown",
      "metadata": {
        "id": "5LtiN0VgyA_j"
      },
      "source": [
        "- [TEST] print df.info() & df.head()"
      ]
    },
    {
      "cell_type": "code",
      "metadata": {
        "colab": {
          "base_uri": "https://localhost:8080/"
        },
        "id": "OiOiYEWyylSe",
        "outputId": "652651d6-11e0-4d49-d895-ba4ff44acc8e"
      },
      "source": [
        "print(df.info(), df.head(), sep='\\n-----------------------------\\n')"
      ],
      "execution_count": null,
      "outputs": [
        {
          "output_type": "stream",
          "text": [
            "<class 'pandas.core.frame.DataFrame'>\n",
            "RangeIndex: 2356 entries, 0 to 2355\n",
            "Data columns (total 38 columns):\n",
            " #   Column                      Non-Null Count  Dtype  \n",
            "---  ------                      --------------  -----  \n",
            " 0   tweet_id                    2356 non-null   int64  \n",
            " 1   in_reply_to_status_id       78 non-null     float64\n",
            " 2   in_reply_to_user_id         78 non-null     float64\n",
            " 3   timestamp                   2356 non-null   object \n",
            " 4   source                      2356 non-null   object \n",
            " 5   text                        2356 non-null   object \n",
            " 6   retweeted_status_id         181 non-null    float64\n",
            " 7   retweeted_status_user_id    181 non-null    float64\n",
            " 8   retweeted_status_timestamp  181 non-null    object \n",
            " 9   expanded_urls               2297 non-null   object \n",
            " 10  rating_numerator            2356 non-null   int64  \n",
            " 11  rating_denominator          2356 non-null   int64  \n",
            " 12  name                        2356 non-null   object \n",
            " 13  doggo                       2356 non-null   object \n",
            " 14  floofer                     2356 non-null   object \n",
            " 15  pupper                      2356 non-null   object \n",
            " 16  puppo                       2356 non-null   object \n",
            " 17  tweet_id                    2075 non-null   float64\n",
            " 18  jpg_url                     2075 non-null   object \n",
            " 19  img_num                     2075 non-null   float64\n",
            " 20  p1                          2075 non-null   object \n",
            " 21  p1_conf                     2075 non-null   float64\n",
            " 22  p1_dog                      2075 non-null   object \n",
            " 23  p2                          2075 non-null   object \n",
            " 24  p2_conf                     2075 non-null   float64\n",
            " 25  p2_dog                      2075 non-null   object \n",
            " 26  p3                          2075 non-null   object \n",
            " 27  p3_conf                     2075 non-null   float64\n",
            " 28  p3_dog                      2075 non-null   object \n",
            " 29  Unnamed: 0                  2331 non-null   float64\n",
            " 30  tweet_id                    2331 non-null   float64\n",
            " 31  favorite_count              2331 non-null   float64\n",
            " 32  retweet_count               2331 non-null   float64\n",
            " 33  followers_count             2331 non-null   float64\n",
            " 34  friends_count               2331 non-null   float64\n",
            " 35  source                      2331 non-null   object \n",
            " 36  retweeted_status            2331 non-null   object \n",
            " 37  url                         2331 non-null   object \n",
            "dtypes: float64(15), int64(3), object(20)\n",
            "memory usage: 699.6+ KB\n",
            "None\n",
            "-----------------------------\n",
            "             tweet_id  ...                      url\n",
            "0  892420643555336193  ...  https://t.co/MgUWQ76dJU\n",
            "1  892177421306343426  ...  https://t.co/aQFSeaCu9L\n",
            "2  891815181378084864  ...  https://t.co/r0YlrsGCgy\n",
            "3  891689557279858688  ...  https://t.co/tD36da7qLQ\n",
            "4  891327558926688256  ...  https://t.co/0g0KMIVXZ3\n",
            "\n",
            "[5 rows x 38 columns]\n"
          ],
          "name": "stdout"
        }
      ]
    },
    {
      "cell_type": "markdown",
      "metadata": {
        "id": "vISsPp53_56M"
      },
      "source": [
        "#### QUALITY Issue\n",
        "- [Define] remove retweet columns as well as duplicated cols (if there is any).\n",
        "- [Code] Delete the column using Command DROP , for column Axis =1\n"
      ]
    },
    {
      "cell_type": "code",
      "metadata": {
        "id": "IN8FjCeFyEOK"
      },
      "source": [
        "df.drop(['retweeted_status'], axis=1, inplace=True)\n",
        "df.drop_duplicates(inplace=True)"
      ],
      "execution_count": null,
      "outputs": []
    },
    {
      "cell_type": "markdown",
      "metadata": {
        "id": "5q3G2nSbyHhZ"
      },
      "source": [
        "- [Test] print df.head()"
      ]
    },
    {
      "cell_type": "code",
      "metadata": {
        "colab": {
          "base_uri": "https://localhost:8080/",
          "height": 1000
        },
        "id": "pAJInDHQuCo-",
        "outputId": "4903d3e9-5045-4e8d-e313-4c74ba632933"
      },
      "source": [
        "# drop retweeted data [QUALITY]\n",
        "df.info()\n",
        "# drop duplicates [QUALITY]\n",
        "df.head()"
      ],
      "execution_count": null,
      "outputs": [
        {
          "output_type": "stream",
          "text": [
            "<class 'pandas.core.frame.DataFrame'>\n",
            "RangeIndex: 2356 entries, 0 to 2355\n",
            "Data columns (total 37 columns):\n",
            " #   Column                      Non-Null Count  Dtype  \n",
            "---  ------                      --------------  -----  \n",
            " 0   tweet_id                    2356 non-null   int64  \n",
            " 1   in_reply_to_status_id       78 non-null     float64\n",
            " 2   in_reply_to_user_id         78 non-null     float64\n",
            " 3   timestamp                   2356 non-null   object \n",
            " 4   source                      2356 non-null   object \n",
            " 5   text                        2356 non-null   object \n",
            " 6   retweeted_status_id         181 non-null    float64\n",
            " 7   retweeted_status_user_id    181 non-null    float64\n",
            " 8   retweeted_status_timestamp  181 non-null    object \n",
            " 9   expanded_urls               2297 non-null   object \n",
            " 10  rating_numerator            2356 non-null   int64  \n",
            " 11  rating_denominator          2356 non-null   int64  \n",
            " 12  name                        2356 non-null   object \n",
            " 13  doggo                       2356 non-null   object \n",
            " 14  floofer                     2356 non-null   object \n",
            " 15  pupper                      2356 non-null   object \n",
            " 16  puppo                       2356 non-null   object \n",
            " 17  tweet_id                    2075 non-null   float64\n",
            " 18  jpg_url                     2075 non-null   object \n",
            " 19  img_num                     2075 non-null   float64\n",
            " 20  p1                          2075 non-null   object \n",
            " 21  p1_conf                     2075 non-null   float64\n",
            " 22  p1_dog                      2075 non-null   object \n",
            " 23  p2                          2075 non-null   object \n",
            " 24  p2_conf                     2075 non-null   float64\n",
            " 25  p2_dog                      2075 non-null   object \n",
            " 26  p3                          2075 non-null   object \n",
            " 27  p3_conf                     2075 non-null   float64\n",
            " 28  p3_dog                      2075 non-null   object \n",
            " 29  Unnamed: 0                  2331 non-null   float64\n",
            " 30  tweet_id                    2331 non-null   float64\n",
            " 31  favorite_count              2331 non-null   float64\n",
            " 32  retweet_count               2331 non-null   float64\n",
            " 33  followers_count             2331 non-null   float64\n",
            " 34  friends_count               2331 non-null   float64\n",
            " 35  source                      2331 non-null   object \n",
            " 36  url                         2331 non-null   object \n",
            "dtypes: float64(15), int64(3), object(19)\n",
            "memory usage: 681.2+ KB\n"
          ],
          "name": "stdout"
        },
        {
          "output_type": "execute_result",
          "data": {
            "text/html": [
              "<div>\n",
              "<style scoped>\n",
              "    .dataframe tbody tr th:only-of-type {\n",
              "        vertical-align: middle;\n",
              "    }\n",
              "\n",
              "    .dataframe tbody tr th {\n",
              "        vertical-align: top;\n",
              "    }\n",
              "\n",
              "    .dataframe thead th {\n",
              "        text-align: right;\n",
              "    }\n",
              "</style>\n",
              "<table border=\"1\" class=\"dataframe\">\n",
              "  <thead>\n",
              "    <tr style=\"text-align: right;\">\n",
              "      <th></th>\n",
              "      <th>tweet_id</th>\n",
              "      <th>in_reply_to_status_id</th>\n",
              "      <th>in_reply_to_user_id</th>\n",
              "      <th>timestamp</th>\n",
              "      <th>source</th>\n",
              "      <th>text</th>\n",
              "      <th>retweeted_status_id</th>\n",
              "      <th>retweeted_status_user_id</th>\n",
              "      <th>retweeted_status_timestamp</th>\n",
              "      <th>expanded_urls</th>\n",
              "      <th>rating_numerator</th>\n",
              "      <th>rating_denominator</th>\n",
              "      <th>name</th>\n",
              "      <th>doggo</th>\n",
              "      <th>floofer</th>\n",
              "      <th>pupper</th>\n",
              "      <th>puppo</th>\n",
              "      <th>tweet_id</th>\n",
              "      <th>jpg_url</th>\n",
              "      <th>img_num</th>\n",
              "      <th>p1</th>\n",
              "      <th>p1_conf</th>\n",
              "      <th>p1_dog</th>\n",
              "      <th>p2</th>\n",
              "      <th>p2_conf</th>\n",
              "      <th>p2_dog</th>\n",
              "      <th>p3</th>\n",
              "      <th>p3_conf</th>\n",
              "      <th>p3_dog</th>\n",
              "      <th>Unnamed: 0</th>\n",
              "      <th>tweet_id</th>\n",
              "      <th>favorite_count</th>\n",
              "      <th>retweet_count</th>\n",
              "      <th>followers_count</th>\n",
              "      <th>friends_count</th>\n",
              "      <th>source</th>\n",
              "      <th>url</th>\n",
              "    </tr>\n",
              "  </thead>\n",
              "  <tbody>\n",
              "    <tr>\n",
              "      <th>0</th>\n",
              "      <td>892420643555336193</td>\n",
              "      <td>NaN</td>\n",
              "      <td>NaN</td>\n",
              "      <td>2017-08-01 16:23:56 +0000</td>\n",
              "      <td>&lt;a href=\"http://twitter.com/download/iphone\" r...</td>\n",
              "      <td>This is Phineas. He's a mystical boy. Only eve...</td>\n",
              "      <td>NaN</td>\n",
              "      <td>NaN</td>\n",
              "      <td>NaN</td>\n",
              "      <td>https://twitter.com/dog_rates/status/892420643...</td>\n",
              "      <td>13</td>\n",
              "      <td>10</td>\n",
              "      <td>Phineas</td>\n",
              "      <td>None</td>\n",
              "      <td>None</td>\n",
              "      <td>None</td>\n",
              "      <td>None</td>\n",
              "      <td>6.660209e+17</td>\n",
              "      <td>https://pbs.twimg.com/media/CT4udn0WwAA0aMy.jpg</td>\n",
              "      <td>1.0</td>\n",
              "      <td>Welsh_springer_spaniel</td>\n",
              "      <td>0.465074</td>\n",
              "      <td>True</td>\n",
              "      <td>collie</td>\n",
              "      <td>0.156665</td>\n",
              "      <td>True</td>\n",
              "      <td>Shetland_sheepdog</td>\n",
              "      <td>0.061428</td>\n",
              "      <td>True</td>\n",
              "      <td>0.0</td>\n",
              "      <td>8.924206e+17</td>\n",
              "      <td>34963.0</td>\n",
              "      <td>7341.0</td>\n",
              "      <td>8984609.0</td>\n",
              "      <td>16.0</td>\n",
              "      <td>Twitter for iPhone</td>\n",
              "      <td>https://t.co/MgUWQ76dJU</td>\n",
              "    </tr>\n",
              "    <tr>\n",
              "      <th>1</th>\n",
              "      <td>892177421306343426</td>\n",
              "      <td>NaN</td>\n",
              "      <td>NaN</td>\n",
              "      <td>2017-08-01 00:17:27 +0000</td>\n",
              "      <td>&lt;a href=\"http://twitter.com/download/iphone\" r...</td>\n",
              "      <td>This is Tilly. She's just checking pup on you....</td>\n",
              "      <td>NaN</td>\n",
              "      <td>NaN</td>\n",
              "      <td>NaN</td>\n",
              "      <td>https://twitter.com/dog_rates/status/892177421...</td>\n",
              "      <td>13</td>\n",
              "      <td>10</td>\n",
              "      <td>Tilly</td>\n",
              "      <td>None</td>\n",
              "      <td>None</td>\n",
              "      <td>None</td>\n",
              "      <td>None</td>\n",
              "      <td>6.660293e+17</td>\n",
              "      <td>https://pbs.twimg.com/media/CT42GRgUYAA5iDo.jpg</td>\n",
              "      <td>1.0</td>\n",
              "      <td>redbone</td>\n",
              "      <td>0.506826</td>\n",
              "      <td>True</td>\n",
              "      <td>miniature_pinscher</td>\n",
              "      <td>0.074192</td>\n",
              "      <td>True</td>\n",
              "      <td>Rhodesian_ridgeback</td>\n",
              "      <td>0.072010</td>\n",
              "      <td>True</td>\n",
              "      <td>1.0</td>\n",
              "      <td>8.921774e+17</td>\n",
              "      <td>30279.0</td>\n",
              "      <td>5477.0</td>\n",
              "      <td>8984609.0</td>\n",
              "      <td>16.0</td>\n",
              "      <td>Twitter for iPhone</td>\n",
              "      <td>https://t.co/aQFSeaCu9L</td>\n",
              "    </tr>\n",
              "    <tr>\n",
              "      <th>2</th>\n",
              "      <td>891815181378084864</td>\n",
              "      <td>NaN</td>\n",
              "      <td>NaN</td>\n",
              "      <td>2017-07-31 00:18:03 +0000</td>\n",
              "      <td>&lt;a href=\"http://twitter.com/download/iphone\" r...</td>\n",
              "      <td>This is Archie. He is a rare Norwegian Pouncin...</td>\n",
              "      <td>NaN</td>\n",
              "      <td>NaN</td>\n",
              "      <td>NaN</td>\n",
              "      <td>https://twitter.com/dog_rates/status/891815181...</td>\n",
              "      <td>12</td>\n",
              "      <td>10</td>\n",
              "      <td>Archie</td>\n",
              "      <td>None</td>\n",
              "      <td>None</td>\n",
              "      <td>None</td>\n",
              "      <td>None</td>\n",
              "      <td>6.660334e+17</td>\n",
              "      <td>https://pbs.twimg.com/media/CT4521TWwAEvMyu.jpg</td>\n",
              "      <td>1.0</td>\n",
              "      <td>German_shepherd</td>\n",
              "      <td>0.596461</td>\n",
              "      <td>True</td>\n",
              "      <td>malinois</td>\n",
              "      <td>0.138584</td>\n",
              "      <td>True</td>\n",
              "      <td>bloodhound</td>\n",
              "      <td>0.116197</td>\n",
              "      <td>True</td>\n",
              "      <td>2.0</td>\n",
              "      <td>8.918152e+17</td>\n",
              "      <td>22778.0</td>\n",
              "      <td>3621.0</td>\n",
              "      <td>8984609.0</td>\n",
              "      <td>16.0</td>\n",
              "      <td>Twitter for iPhone</td>\n",
              "      <td>https://t.co/r0YlrsGCgy</td>\n",
              "    </tr>\n",
              "    <tr>\n",
              "      <th>3</th>\n",
              "      <td>891689557279858688</td>\n",
              "      <td>NaN</td>\n",
              "      <td>NaN</td>\n",
              "      <td>2017-07-30 15:58:51 +0000</td>\n",
              "      <td>&lt;a href=\"http://twitter.com/download/iphone\" r...</td>\n",
              "      <td>This is Darla. She commenced a snooze mid meal...</td>\n",
              "      <td>NaN</td>\n",
              "      <td>NaN</td>\n",
              "      <td>NaN</td>\n",
              "      <td>https://twitter.com/dog_rates/status/891689557...</td>\n",
              "      <td>13</td>\n",
              "      <td>10</td>\n",
              "      <td>Darla</td>\n",
              "      <td>None</td>\n",
              "      <td>None</td>\n",
              "      <td>None</td>\n",
              "      <td>None</td>\n",
              "      <td>6.660442e+17</td>\n",
              "      <td>https://pbs.twimg.com/media/CT5Dr8HUEAA-lEu.jpg</td>\n",
              "      <td>1.0</td>\n",
              "      <td>Rhodesian_ridgeback</td>\n",
              "      <td>0.408143</td>\n",
              "      <td>True</td>\n",
              "      <td>redbone</td>\n",
              "      <td>0.360687</td>\n",
              "      <td>True</td>\n",
              "      <td>miniature_pinscher</td>\n",
              "      <td>0.222752</td>\n",
              "      <td>True</td>\n",
              "      <td>3.0</td>\n",
              "      <td>8.916896e+17</td>\n",
              "      <td>38206.0</td>\n",
              "      <td>7522.0</td>\n",
              "      <td>8984609.0</td>\n",
              "      <td>16.0</td>\n",
              "      <td>Twitter for iPhone</td>\n",
              "      <td>https://t.co/tD36da7qLQ</td>\n",
              "    </tr>\n",
              "    <tr>\n",
              "      <th>4</th>\n",
              "      <td>891327558926688256</td>\n",
              "      <td>NaN</td>\n",
              "      <td>NaN</td>\n",
              "      <td>2017-07-29 16:00:24 +0000</td>\n",
              "      <td>&lt;a href=\"http://twitter.com/download/iphone\" r...</td>\n",
              "      <td>This is Franklin. He would like you to stop ca...</td>\n",
              "      <td>NaN</td>\n",
              "      <td>NaN</td>\n",
              "      <td>NaN</td>\n",
              "      <td>https://twitter.com/dog_rates/status/891327558...</td>\n",
              "      <td>12</td>\n",
              "      <td>10</td>\n",
              "      <td>Franklin</td>\n",
              "      <td>None</td>\n",
              "      <td>None</td>\n",
              "      <td>None</td>\n",
              "      <td>None</td>\n",
              "      <td>6.660492e+17</td>\n",
              "      <td>https://pbs.twimg.com/media/CT5IQmsXIAAKY4A.jpg</td>\n",
              "      <td>1.0</td>\n",
              "      <td>miniature_pinscher</td>\n",
              "      <td>0.560311</td>\n",
              "      <td>True</td>\n",
              "      <td>Rottweiler</td>\n",
              "      <td>0.243682</td>\n",
              "      <td>True</td>\n",
              "      <td>Doberman</td>\n",
              "      <td>0.154629</td>\n",
              "      <td>True</td>\n",
              "      <td>4.0</td>\n",
              "      <td>8.913276e+17</td>\n",
              "      <td>36489.0</td>\n",
              "      <td>8109.0</td>\n",
              "      <td>8984609.0</td>\n",
              "      <td>16.0</td>\n",
              "      <td>Twitter for iPhone</td>\n",
              "      <td>https://t.co/0g0KMIVXZ3</td>\n",
              "    </tr>\n",
              "  </tbody>\n",
              "</table>\n",
              "</div>"
            ],
            "text/plain": [
              "             tweet_id  ...                      url\n",
              "0  892420643555336193  ...  https://t.co/MgUWQ76dJU\n",
              "1  892177421306343426  ...  https://t.co/aQFSeaCu9L\n",
              "2  891815181378084864  ...  https://t.co/r0YlrsGCgy\n",
              "3  891689557279858688  ...  https://t.co/tD36da7qLQ\n",
              "4  891327558926688256  ...  https://t.co/0g0KMIVXZ3\n",
              "\n",
              "[5 rows x 37 columns]"
            ]
          },
          "metadata": {
            "tags": []
          },
          "execution_count": 31
        }
      ]
    },
    {
      "cell_type": "markdown",
      "metadata": {
        "id": "TazcrMSDsvea"
      },
      "source": [
        "#### TIDYNESS Issue\n",
        "- [Define] Drop duplicated cols (if there is any).\n",
        "- [Code] Delete the column using Command `df.loc[:, ~]` , for column Axis =1\n"
      ]
    },
    {
      "cell_type": "code",
      "metadata": {
        "id": "gDDBGrtiyP_7"
      },
      "source": [
        "# drop duplicated cols [TIDYNESS]\n",
        "df = df.loc[:,~df.columns.duplicated()]"
      ],
      "execution_count": null,
      "outputs": []
    },
    {
      "cell_type": "markdown",
      "metadata": {
        "id": "EtttWCkeyQen"
      },
      "source": [
        "- [Test] print df.head()"
      ]
    },
    {
      "cell_type": "code",
      "metadata": {
        "id": "iE7eIxBeuOz8",
        "colab": {
          "base_uri": "https://localhost:8080/",
          "height": 604
        },
        "outputId": "9e2b977e-7b38-4d02-aa49-67c413371337"
      },
      "source": [
        "df.head()"
      ],
      "execution_count": null,
      "outputs": [
        {
          "output_type": "execute_result",
          "data": {
            "text/html": [
              "<div>\n",
              "<style scoped>\n",
              "    .dataframe tbody tr th:only-of-type {\n",
              "        vertical-align: middle;\n",
              "    }\n",
              "\n",
              "    .dataframe tbody tr th {\n",
              "        vertical-align: top;\n",
              "    }\n",
              "\n",
              "    .dataframe thead th {\n",
              "        text-align: right;\n",
              "    }\n",
              "</style>\n",
              "<table border=\"1\" class=\"dataframe\">\n",
              "  <thead>\n",
              "    <tr style=\"text-align: right;\">\n",
              "      <th></th>\n",
              "      <th>tweet_id</th>\n",
              "      <th>timestamp</th>\n",
              "      <th>source</th>\n",
              "      <th>text</th>\n",
              "      <th>expanded_urls</th>\n",
              "      <th>rating_numerator</th>\n",
              "      <th>rating_denominator</th>\n",
              "      <th>name</th>\n",
              "      <th>doggo</th>\n",
              "      <th>floofer</th>\n",
              "      <th>pupper</th>\n",
              "      <th>puppo</th>\n",
              "      <th>jpg_url</th>\n",
              "      <th>p1</th>\n",
              "      <th>p1_conf</th>\n",
              "      <th>p1_dog</th>\n",
              "      <th>p2</th>\n",
              "      <th>p2_conf</th>\n",
              "      <th>p2_dog</th>\n",
              "      <th>p3</th>\n",
              "      <th>p3_conf</th>\n",
              "      <th>p3_dog</th>\n",
              "      <th>Unnamed: 0</th>\n",
              "      <th>favorite_count</th>\n",
              "      <th>retweet_count</th>\n",
              "    </tr>\n",
              "  </thead>\n",
              "  <tbody>\n",
              "    <tr>\n",
              "      <th>0</th>\n",
              "      <td>892420643555336193</td>\n",
              "      <td>2017-08-01 16:23:56 +0000</td>\n",
              "      <td>&lt;a href=\"http://twitter.com/download/iphone\" r...</td>\n",
              "      <td>This is Phineas. He's a mystical boy. Only eve...</td>\n",
              "      <td>https://twitter.com/dog_rates/status/892420643...</td>\n",
              "      <td>13</td>\n",
              "      <td>10</td>\n",
              "      <td>Phineas</td>\n",
              "      <td>None</td>\n",
              "      <td>None</td>\n",
              "      <td>None</td>\n",
              "      <td>None</td>\n",
              "      <td>https://pbs.twimg.com/media/CT4udn0WwAA0aMy.jpg</td>\n",
              "      <td>Welsh_springer_spaniel</td>\n",
              "      <td>0.465074</td>\n",
              "      <td>True</td>\n",
              "      <td>collie</td>\n",
              "      <td>0.156665</td>\n",
              "      <td>True</td>\n",
              "      <td>Shetland_sheepdog</td>\n",
              "      <td>0.061428</td>\n",
              "      <td>True</td>\n",
              "      <td>0.0</td>\n",
              "      <td>34963.0</td>\n",
              "      <td>7341.0</td>\n",
              "    </tr>\n",
              "    <tr>\n",
              "      <th>1</th>\n",
              "      <td>892177421306343426</td>\n",
              "      <td>2017-08-01 00:17:27 +0000</td>\n",
              "      <td>&lt;a href=\"http://twitter.com/download/iphone\" r...</td>\n",
              "      <td>This is Tilly. She's just checking pup on you....</td>\n",
              "      <td>https://twitter.com/dog_rates/status/892177421...</td>\n",
              "      <td>13</td>\n",
              "      <td>10</td>\n",
              "      <td>Tilly</td>\n",
              "      <td>None</td>\n",
              "      <td>None</td>\n",
              "      <td>None</td>\n",
              "      <td>None</td>\n",
              "      <td>https://pbs.twimg.com/media/CT42GRgUYAA5iDo.jpg</td>\n",
              "      <td>redbone</td>\n",
              "      <td>0.506826</td>\n",
              "      <td>True</td>\n",
              "      <td>miniature_pinscher</td>\n",
              "      <td>0.074192</td>\n",
              "      <td>True</td>\n",
              "      <td>Rhodesian_ridgeback</td>\n",
              "      <td>0.072010</td>\n",
              "      <td>True</td>\n",
              "      <td>1.0</td>\n",
              "      <td>30279.0</td>\n",
              "      <td>5477.0</td>\n",
              "    </tr>\n",
              "    <tr>\n",
              "      <th>2</th>\n",
              "      <td>891815181378084864</td>\n",
              "      <td>2017-07-31 00:18:03 +0000</td>\n",
              "      <td>&lt;a href=\"http://twitter.com/download/iphone\" r...</td>\n",
              "      <td>This is Archie. He is a rare Norwegian Pouncin...</td>\n",
              "      <td>https://twitter.com/dog_rates/status/891815181...</td>\n",
              "      <td>12</td>\n",
              "      <td>10</td>\n",
              "      <td>Archie</td>\n",
              "      <td>None</td>\n",
              "      <td>None</td>\n",
              "      <td>None</td>\n",
              "      <td>None</td>\n",
              "      <td>https://pbs.twimg.com/media/CT4521TWwAEvMyu.jpg</td>\n",
              "      <td>German_shepherd</td>\n",
              "      <td>0.596461</td>\n",
              "      <td>True</td>\n",
              "      <td>malinois</td>\n",
              "      <td>0.138584</td>\n",
              "      <td>True</td>\n",
              "      <td>bloodhound</td>\n",
              "      <td>0.116197</td>\n",
              "      <td>True</td>\n",
              "      <td>2.0</td>\n",
              "      <td>22778.0</td>\n",
              "      <td>3621.0</td>\n",
              "    </tr>\n",
              "    <tr>\n",
              "      <th>3</th>\n",
              "      <td>891689557279858688</td>\n",
              "      <td>2017-07-30 15:58:51 +0000</td>\n",
              "      <td>&lt;a href=\"http://twitter.com/download/iphone\" r...</td>\n",
              "      <td>This is Darla. She commenced a snooze mid meal...</td>\n",
              "      <td>https://twitter.com/dog_rates/status/891689557...</td>\n",
              "      <td>13</td>\n",
              "      <td>10</td>\n",
              "      <td>Darla</td>\n",
              "      <td>None</td>\n",
              "      <td>None</td>\n",
              "      <td>None</td>\n",
              "      <td>None</td>\n",
              "      <td>https://pbs.twimg.com/media/CT5Dr8HUEAA-lEu.jpg</td>\n",
              "      <td>Rhodesian_ridgeback</td>\n",
              "      <td>0.408143</td>\n",
              "      <td>True</td>\n",
              "      <td>redbone</td>\n",
              "      <td>0.360687</td>\n",
              "      <td>True</td>\n",
              "      <td>miniature_pinscher</td>\n",
              "      <td>0.222752</td>\n",
              "      <td>True</td>\n",
              "      <td>3.0</td>\n",
              "      <td>38206.0</td>\n",
              "      <td>7522.0</td>\n",
              "    </tr>\n",
              "    <tr>\n",
              "      <th>4</th>\n",
              "      <td>891327558926688256</td>\n",
              "      <td>2017-07-29 16:00:24 +0000</td>\n",
              "      <td>&lt;a href=\"http://twitter.com/download/iphone\" r...</td>\n",
              "      <td>This is Franklin. He would like you to stop ca...</td>\n",
              "      <td>https://twitter.com/dog_rates/status/891327558...</td>\n",
              "      <td>12</td>\n",
              "      <td>10</td>\n",
              "      <td>Franklin</td>\n",
              "      <td>None</td>\n",
              "      <td>None</td>\n",
              "      <td>None</td>\n",
              "      <td>None</td>\n",
              "      <td>https://pbs.twimg.com/media/CT5IQmsXIAAKY4A.jpg</td>\n",
              "      <td>miniature_pinscher</td>\n",
              "      <td>0.560311</td>\n",
              "      <td>True</td>\n",
              "      <td>Rottweiler</td>\n",
              "      <td>0.243682</td>\n",
              "      <td>True</td>\n",
              "      <td>Doberman</td>\n",
              "      <td>0.154629</td>\n",
              "      <td>True</td>\n",
              "      <td>4.0</td>\n",
              "      <td>36489.0</td>\n",
              "      <td>8109.0</td>\n",
              "    </tr>\n",
              "  </tbody>\n",
              "</table>\n",
              "</div>"
            ],
            "text/plain": [
              "             tweet_id                  timestamp  ... favorite_count retweet_count\n",
              "0  892420643555336193  2017-08-01 16:23:56 +0000  ...        34963.0        7341.0\n",
              "1  892177421306343426  2017-08-01 00:17:27 +0000  ...        30279.0        5477.0\n",
              "2  891815181378084864  2017-07-31 00:18:03 +0000  ...        22778.0        3621.0\n",
              "3  891689557279858688  2017-07-30 15:58:51 +0000  ...        38206.0        7522.0\n",
              "4  891327558926688256  2017-07-29 16:00:24 +0000  ...        36489.0        8109.0\n",
              "\n",
              "[5 rows x 25 columns]"
            ]
          },
          "metadata": {
            "tags": []
          },
          "execution_count": 33
        }
      ]
    },
    {
      "cell_type": "markdown",
      "metadata": {
        "id": "wz17lcwe_1kP"
      },
      "source": [
        "#### Quality Issue\n",
        "- [Define] remove columns with too many missing values.\n",
        "- [Code] Delete the column using Command DROP , for column Axis =1\n"
      ]
    },
    {
      "cell_type": "code",
      "metadata": {
        "id": "Z8LZXDW1yUpX"
      },
      "source": [
        "# Remove cols with too many missing vals [TIDYNESS]\n",
        "df = df[df.retweeted_status_id.isnull()].copy()\n",
        "cols_to_drop = ['in_reply_to_status_id', 'in_reply_to_user_id',\n",
        "                'img_num', 'friends_count', 'url', 'followers_count',\n",
        "                'in_reply_to_status_id', 'in_reply_to_user_id',\n",
        "                'retweeted_status_user_id',  'retweeted_status_id',\n",
        "                'retweeted_status_timestamp']\n",
        "df.drop(cols_to_drop, axis=1, inplace=True)"
      ],
      "execution_count": null,
      "outputs": []
    },
    {
      "cell_type": "markdown",
      "metadata": {
        "id": "fW4apfXnyU57"
      },
      "source": [
        "- [Test] print `df.head()`"
      ]
    },
    {
      "cell_type": "code",
      "metadata": {
        "id": "KJMAtuQRsFaT",
        "colab": {
          "base_uri": "https://localhost:8080/",
          "height": 604
        },
        "outputId": "87b328da-72e8-4201-a210-94ae0afa091f"
      },
      "source": [
        "df.head()"
      ],
      "execution_count": null,
      "outputs": [
        {
          "output_type": "execute_result",
          "data": {
            "text/html": [
              "<div>\n",
              "<style scoped>\n",
              "    .dataframe tbody tr th:only-of-type {\n",
              "        vertical-align: middle;\n",
              "    }\n",
              "\n",
              "    .dataframe tbody tr th {\n",
              "        vertical-align: top;\n",
              "    }\n",
              "\n",
              "    .dataframe thead th {\n",
              "        text-align: right;\n",
              "    }\n",
              "</style>\n",
              "<table border=\"1\" class=\"dataframe\">\n",
              "  <thead>\n",
              "    <tr style=\"text-align: right;\">\n",
              "      <th></th>\n",
              "      <th>tweet_id</th>\n",
              "      <th>timestamp</th>\n",
              "      <th>source</th>\n",
              "      <th>text</th>\n",
              "      <th>expanded_urls</th>\n",
              "      <th>rating_numerator</th>\n",
              "      <th>rating_denominator</th>\n",
              "      <th>name</th>\n",
              "      <th>doggo</th>\n",
              "      <th>floofer</th>\n",
              "      <th>pupper</th>\n",
              "      <th>puppo</th>\n",
              "      <th>tweet_id</th>\n",
              "      <th>jpg_url</th>\n",
              "      <th>p1</th>\n",
              "      <th>p1_conf</th>\n",
              "      <th>p1_dog</th>\n",
              "      <th>p2</th>\n",
              "      <th>p2_conf</th>\n",
              "      <th>p2_dog</th>\n",
              "      <th>p3</th>\n",
              "      <th>p3_conf</th>\n",
              "      <th>p3_dog</th>\n",
              "      <th>Unnamed: 0</th>\n",
              "      <th>tweet_id</th>\n",
              "      <th>favorite_count</th>\n",
              "      <th>retweet_count</th>\n",
              "      <th>source</th>\n",
              "    </tr>\n",
              "  </thead>\n",
              "  <tbody>\n",
              "    <tr>\n",
              "      <th>0</th>\n",
              "      <td>892420643555336193</td>\n",
              "      <td>2017-08-01 16:23:56 +0000</td>\n",
              "      <td>&lt;a href=\"http://twitter.com/download/iphone\" r...</td>\n",
              "      <td>This is Phineas. He's a mystical boy. Only eve...</td>\n",
              "      <td>https://twitter.com/dog_rates/status/892420643...</td>\n",
              "      <td>13</td>\n",
              "      <td>10</td>\n",
              "      <td>Phineas</td>\n",
              "      <td>None</td>\n",
              "      <td>None</td>\n",
              "      <td>None</td>\n",
              "      <td>None</td>\n",
              "      <td>6.660209e+17</td>\n",
              "      <td>https://pbs.twimg.com/media/CT4udn0WwAA0aMy.jpg</td>\n",
              "      <td>Welsh_springer_spaniel</td>\n",
              "      <td>0.465074</td>\n",
              "      <td>True</td>\n",
              "      <td>collie</td>\n",
              "      <td>0.156665</td>\n",
              "      <td>True</td>\n",
              "      <td>Shetland_sheepdog</td>\n",
              "      <td>0.061428</td>\n",
              "      <td>True</td>\n",
              "      <td>0.0</td>\n",
              "      <td>8.924206e+17</td>\n",
              "      <td>34963.0</td>\n",
              "      <td>7341.0</td>\n",
              "      <td>Twitter for iPhone</td>\n",
              "    </tr>\n",
              "    <tr>\n",
              "      <th>1</th>\n",
              "      <td>892177421306343426</td>\n",
              "      <td>2017-08-01 00:17:27 +0000</td>\n",
              "      <td>&lt;a href=\"http://twitter.com/download/iphone\" r...</td>\n",
              "      <td>This is Tilly. She's just checking pup on you....</td>\n",
              "      <td>https://twitter.com/dog_rates/status/892177421...</td>\n",
              "      <td>13</td>\n",
              "      <td>10</td>\n",
              "      <td>Tilly</td>\n",
              "      <td>None</td>\n",
              "      <td>None</td>\n",
              "      <td>None</td>\n",
              "      <td>None</td>\n",
              "      <td>6.660293e+17</td>\n",
              "      <td>https://pbs.twimg.com/media/CT42GRgUYAA5iDo.jpg</td>\n",
              "      <td>redbone</td>\n",
              "      <td>0.506826</td>\n",
              "      <td>True</td>\n",
              "      <td>miniature_pinscher</td>\n",
              "      <td>0.074192</td>\n",
              "      <td>True</td>\n",
              "      <td>Rhodesian_ridgeback</td>\n",
              "      <td>0.072010</td>\n",
              "      <td>True</td>\n",
              "      <td>1.0</td>\n",
              "      <td>8.921774e+17</td>\n",
              "      <td>30279.0</td>\n",
              "      <td>5477.0</td>\n",
              "      <td>Twitter for iPhone</td>\n",
              "    </tr>\n",
              "    <tr>\n",
              "      <th>2</th>\n",
              "      <td>891815181378084864</td>\n",
              "      <td>2017-07-31 00:18:03 +0000</td>\n",
              "      <td>&lt;a href=\"http://twitter.com/download/iphone\" r...</td>\n",
              "      <td>This is Archie. He is a rare Norwegian Pouncin...</td>\n",
              "      <td>https://twitter.com/dog_rates/status/891815181...</td>\n",
              "      <td>12</td>\n",
              "      <td>10</td>\n",
              "      <td>Archie</td>\n",
              "      <td>None</td>\n",
              "      <td>None</td>\n",
              "      <td>None</td>\n",
              "      <td>None</td>\n",
              "      <td>6.660334e+17</td>\n",
              "      <td>https://pbs.twimg.com/media/CT4521TWwAEvMyu.jpg</td>\n",
              "      <td>German_shepherd</td>\n",
              "      <td>0.596461</td>\n",
              "      <td>True</td>\n",
              "      <td>malinois</td>\n",
              "      <td>0.138584</td>\n",
              "      <td>True</td>\n",
              "      <td>bloodhound</td>\n",
              "      <td>0.116197</td>\n",
              "      <td>True</td>\n",
              "      <td>2.0</td>\n",
              "      <td>8.918152e+17</td>\n",
              "      <td>22778.0</td>\n",
              "      <td>3621.0</td>\n",
              "      <td>Twitter for iPhone</td>\n",
              "    </tr>\n",
              "    <tr>\n",
              "      <th>3</th>\n",
              "      <td>891689557279858688</td>\n",
              "      <td>2017-07-30 15:58:51 +0000</td>\n",
              "      <td>&lt;a href=\"http://twitter.com/download/iphone\" r...</td>\n",
              "      <td>This is Darla. She commenced a snooze mid meal...</td>\n",
              "      <td>https://twitter.com/dog_rates/status/891689557...</td>\n",
              "      <td>13</td>\n",
              "      <td>10</td>\n",
              "      <td>Darla</td>\n",
              "      <td>None</td>\n",
              "      <td>None</td>\n",
              "      <td>None</td>\n",
              "      <td>None</td>\n",
              "      <td>6.660442e+17</td>\n",
              "      <td>https://pbs.twimg.com/media/CT5Dr8HUEAA-lEu.jpg</td>\n",
              "      <td>Rhodesian_ridgeback</td>\n",
              "      <td>0.408143</td>\n",
              "      <td>True</td>\n",
              "      <td>redbone</td>\n",
              "      <td>0.360687</td>\n",
              "      <td>True</td>\n",
              "      <td>miniature_pinscher</td>\n",
              "      <td>0.222752</td>\n",
              "      <td>True</td>\n",
              "      <td>3.0</td>\n",
              "      <td>8.916896e+17</td>\n",
              "      <td>38206.0</td>\n",
              "      <td>7522.0</td>\n",
              "      <td>Twitter for iPhone</td>\n",
              "    </tr>\n",
              "    <tr>\n",
              "      <th>4</th>\n",
              "      <td>891327558926688256</td>\n",
              "      <td>2017-07-29 16:00:24 +0000</td>\n",
              "      <td>&lt;a href=\"http://twitter.com/download/iphone\" r...</td>\n",
              "      <td>This is Franklin. He would like you to stop ca...</td>\n",
              "      <td>https://twitter.com/dog_rates/status/891327558...</td>\n",
              "      <td>12</td>\n",
              "      <td>10</td>\n",
              "      <td>Franklin</td>\n",
              "      <td>None</td>\n",
              "      <td>None</td>\n",
              "      <td>None</td>\n",
              "      <td>None</td>\n",
              "      <td>6.660492e+17</td>\n",
              "      <td>https://pbs.twimg.com/media/CT5IQmsXIAAKY4A.jpg</td>\n",
              "      <td>miniature_pinscher</td>\n",
              "      <td>0.560311</td>\n",
              "      <td>True</td>\n",
              "      <td>Rottweiler</td>\n",
              "      <td>0.243682</td>\n",
              "      <td>True</td>\n",
              "      <td>Doberman</td>\n",
              "      <td>0.154629</td>\n",
              "      <td>True</td>\n",
              "      <td>4.0</td>\n",
              "      <td>8.913276e+17</td>\n",
              "      <td>36489.0</td>\n",
              "      <td>8109.0</td>\n",
              "      <td>Twitter for iPhone</td>\n",
              "    </tr>\n",
              "  </tbody>\n",
              "</table>\n",
              "</div>"
            ],
            "text/plain": [
              "             tweet_id  ...              source\n",
              "0  892420643555336193  ...  Twitter for iPhone\n",
              "1  892177421306343426  ...  Twitter for iPhone\n",
              "2  891815181378084864  ...  Twitter for iPhone\n",
              "3  891689557279858688  ...  Twitter for iPhone\n",
              "4  891327558926688256  ...  Twitter for iPhone\n",
              "\n",
              "[5 rows x 28 columns]"
            ]
          },
          "metadata": {
            "tags": []
          },
          "execution_count": 32
        }
      ]
    },
    {
      "cell_type": "markdown",
      "metadata": {
        "id": "ScOXlkh9ASW_"
      },
      "source": [
        "#### Quality Issue\n",
        "- [Define] Wrong Datatypes should be be corrected \n",
        "    - tweet_id should be an int\n",
        "    - jpg_url should bee str\n",
        "    - src should be category\n",
        "    - Timestamp should be in DateTime format\n",
        "- [Code] we can convert the dataype using .ASTYPE() method\n"
      ]
    },
    {
      "cell_type": "code",
      "metadata": {
        "id": "lSyaazsHtiNb"
      },
      "source": [
        "#Tweet ID (int > str) [QUALITY]\n",
        "df['tweet_id'] = df['tweet_id'].astype(str)\n",
        "# Image (should be str) [QUALITY]\n",
        "df['jpg_url'] = df['jpg_url'].astype(str)\n",
        "# Soures typecasting\n",
        "df['source'] = df['source'].astype('category')\n",
        "# Correct timestamp type in df [QUALITY]\n",
        "df['timestamp'] = df['timestamp'].str.slice(start=0, stop=-6)\n",
        "df['timestamp'] = pd.to_datetime(df['timestamp'], format = \"%Y-%m-%d %H:%M:%S\")"
      ],
      "execution_count": null,
      "outputs": []
    },
    {
      "cell_type": "markdown",
      "metadata": {
        "id": "BhHDsR4eydzg"
      },
      "source": [
        "- [Test] print `df.info()`\n"
      ]
    },
    {
      "cell_type": "code",
      "metadata": {
        "id": "zMad94Kvyapi"
      },
      "source": [
        "df.info()"
      ],
      "execution_count": null,
      "outputs": []
    },
    {
      "cell_type": "markdown",
      "metadata": {
        "id": "r4Sn5dl0tlhY"
      },
      "source": [
        "\n",
        "#### QUALITY Issue\n",
        "- [Define] Some of the dogs names are from stopwords\n",
        "- [Code] Remove Names that belong to the set of stopwords or Nones or Nans\n"
      ]
    },
    {
      "cell_type": "code",
      "metadata": {
        "id": "RBh6FWLvyiiP"
      },
      "source": [
        "# drop invalid dog names [QUALITY]\n",
        "df.name.replace(['None', 'a', 'an', 'very','the', 'not', 'quite', 'actually'], 'None' , inplace = True)\n",
        "mask = df.name.str.islower()\n",
        "df.loc[mask, 'name'] = np.nan\n",
        "df = df[df['name'] != 'None'].copy()"
      ],
      "execution_count": null,
      "outputs": []
    },
    {
      "cell_type": "markdown",
      "metadata": {
        "id": "dzVejPf5yiy-"
      },
      "source": [
        "- [Test] print `df.head()` to print names of the dogs"
      ]
    },
    {
      "cell_type": "code",
      "metadata": {
        "id": "dvKkdqR8teYu",
        "colab": {
          "base_uri": "https://localhost:8080/"
        },
        "outputId": "248ce718-033d-4579-8569-fd946189eed6"
      },
      "source": [
        "print(df.head())"
      ],
      "execution_count": null,
      "outputs": [
        {
          "output_type": "stream",
          "text": [
            "Charlie    12\n",
            "Cooper     11\n",
            "Lucy       11\n",
            "Oliver     11\n",
            "Tucker     10\n",
            "           ..\n",
            "Banditt     1\n",
            "Acro        1\n",
            "Dewey       1\n",
            "Jeffri      1\n",
            "Gunner      1\n",
            "Name: name, Length: 931, dtype: int64\n"
          ],
          "name": "stdout"
        }
      ]
    },
    {
      "cell_type": "markdown",
      "metadata": {
        "id": "SodgcDRXADNy"
      },
      "source": [
        "#### Quality Issue\n",
        "- [Define] Ratings numerators all of them were not consistent, same applies for the denomenators \n",
        "- [Code] standardize ratings of the dogs by just dividing both by each other to have a float values\n"
      ]
    },
    {
      "cell_type": "code",
      "metadata": {
        "id": "caYivJixypkW"
      },
      "source": [
        "# standard dog ratings\n",
        "df['rating_numerator'] = df['rating_numerator'].astype(float)\n",
        "df['rating_denominator'] = df['rating_denominator'].astype(float)\n",
        "df['rating'] = df['rating_numerator'] / df['rating_denominator']"
      ],
      "execution_count": null,
      "outputs": []
    },
    {
      "cell_type": "markdown",
      "metadata": {
        "id": "U62CAybNypzI"
      },
      "source": [
        "- [Test] check printed out values"
      ]
    },
    {
      "cell_type": "code",
      "metadata": {
        "colab": {
          "base_uri": "https://localhost:8080/",
          "height": 604
        },
        "id": "qZeHIGgQVOIz",
        "outputId": "fd3a7993-acba-4f0c-e7e4-48b6a02c19ec"
      },
      "source": [
        "df.head()"
      ],
      "execution_count": null,
      "outputs": [
        {
          "output_type": "execute_result",
          "data": {
            "text/html": [
              "<div>\n",
              "<style scoped>\n",
              "    .dataframe tbody tr th:only-of-type {\n",
              "        vertical-align: middle;\n",
              "    }\n",
              "\n",
              "    .dataframe tbody tr th {\n",
              "        vertical-align: top;\n",
              "    }\n",
              "\n",
              "    .dataframe thead th {\n",
              "        text-align: right;\n",
              "    }\n",
              "</style>\n",
              "<table border=\"1\" class=\"dataframe\">\n",
              "  <thead>\n",
              "    <tr style=\"text-align: right;\">\n",
              "      <th></th>\n",
              "      <th>tweet_id</th>\n",
              "      <th>timestamp</th>\n",
              "      <th>source</th>\n",
              "      <th>text</th>\n",
              "      <th>expanded_urls</th>\n",
              "      <th>rating_numerator</th>\n",
              "      <th>rating_denominator</th>\n",
              "      <th>name</th>\n",
              "      <th>doggo</th>\n",
              "      <th>floofer</th>\n",
              "      <th>pupper</th>\n",
              "      <th>puppo</th>\n",
              "      <th>jpg_url</th>\n",
              "      <th>p1</th>\n",
              "      <th>p1_conf</th>\n",
              "      <th>p1_dog</th>\n",
              "      <th>p2</th>\n",
              "      <th>p2_conf</th>\n",
              "      <th>p2_dog</th>\n",
              "      <th>p3</th>\n",
              "      <th>p3_conf</th>\n",
              "      <th>p3_dog</th>\n",
              "      <th>Unnamed: 0</th>\n",
              "      <th>favorite_count</th>\n",
              "      <th>retweet_count</th>\n",
              "      <th>rating</th>\n",
              "    </tr>\n",
              "  </thead>\n",
              "  <tbody>\n",
              "    <tr>\n",
              "      <th>0</th>\n",
              "      <td>892420643555336193</td>\n",
              "      <td>2017-08-01 16:23:56</td>\n",
              "      <td>&lt;a href=\"http://twitter.com/download/iphone\" r...</td>\n",
              "      <td>This is Phineas. He's a mystical boy. Only eve...</td>\n",
              "      <td>https://twitter.com/dog_rates/status/892420643...</td>\n",
              "      <td>13.0</td>\n",
              "      <td>10.0</td>\n",
              "      <td>Phineas</td>\n",
              "      <td>None</td>\n",
              "      <td>None</td>\n",
              "      <td>None</td>\n",
              "      <td>None</td>\n",
              "      <td>https://pbs.twimg.com/media/CT4udn0WwAA0aMy.jpg</td>\n",
              "      <td>Welsh_springer_spaniel</td>\n",
              "      <td>0.465074</td>\n",
              "      <td>True</td>\n",
              "      <td>collie</td>\n",
              "      <td>0.156665</td>\n",
              "      <td>True</td>\n",
              "      <td>Shetland_sheepdog</td>\n",
              "      <td>0.061428</td>\n",
              "      <td>True</td>\n",
              "      <td>0.0</td>\n",
              "      <td>34963.0</td>\n",
              "      <td>7341.0</td>\n",
              "      <td>1.3</td>\n",
              "    </tr>\n",
              "    <tr>\n",
              "      <th>1</th>\n",
              "      <td>892177421306343426</td>\n",
              "      <td>2017-08-01 00:17:27</td>\n",
              "      <td>&lt;a href=\"http://twitter.com/download/iphone\" r...</td>\n",
              "      <td>This is Tilly. She's just checking pup on you....</td>\n",
              "      <td>https://twitter.com/dog_rates/status/892177421...</td>\n",
              "      <td>13.0</td>\n",
              "      <td>10.0</td>\n",
              "      <td>Tilly</td>\n",
              "      <td>None</td>\n",
              "      <td>None</td>\n",
              "      <td>None</td>\n",
              "      <td>None</td>\n",
              "      <td>https://pbs.twimg.com/media/CT42GRgUYAA5iDo.jpg</td>\n",
              "      <td>redbone</td>\n",
              "      <td>0.506826</td>\n",
              "      <td>True</td>\n",
              "      <td>miniature_pinscher</td>\n",
              "      <td>0.074192</td>\n",
              "      <td>True</td>\n",
              "      <td>Rhodesian_ridgeback</td>\n",
              "      <td>0.072010</td>\n",
              "      <td>True</td>\n",
              "      <td>1.0</td>\n",
              "      <td>30279.0</td>\n",
              "      <td>5477.0</td>\n",
              "      <td>1.3</td>\n",
              "    </tr>\n",
              "    <tr>\n",
              "      <th>2</th>\n",
              "      <td>891815181378084864</td>\n",
              "      <td>2017-07-31 00:18:03</td>\n",
              "      <td>&lt;a href=\"http://twitter.com/download/iphone\" r...</td>\n",
              "      <td>This is Archie. He is a rare Norwegian Pouncin...</td>\n",
              "      <td>https://twitter.com/dog_rates/status/891815181...</td>\n",
              "      <td>12.0</td>\n",
              "      <td>10.0</td>\n",
              "      <td>Archie</td>\n",
              "      <td>None</td>\n",
              "      <td>None</td>\n",
              "      <td>None</td>\n",
              "      <td>None</td>\n",
              "      <td>https://pbs.twimg.com/media/CT4521TWwAEvMyu.jpg</td>\n",
              "      <td>German_shepherd</td>\n",
              "      <td>0.596461</td>\n",
              "      <td>True</td>\n",
              "      <td>malinois</td>\n",
              "      <td>0.138584</td>\n",
              "      <td>True</td>\n",
              "      <td>bloodhound</td>\n",
              "      <td>0.116197</td>\n",
              "      <td>True</td>\n",
              "      <td>2.0</td>\n",
              "      <td>22778.0</td>\n",
              "      <td>3621.0</td>\n",
              "      <td>1.2</td>\n",
              "    </tr>\n",
              "    <tr>\n",
              "      <th>3</th>\n",
              "      <td>891689557279858688</td>\n",
              "      <td>2017-07-30 15:58:51</td>\n",
              "      <td>&lt;a href=\"http://twitter.com/download/iphone\" r...</td>\n",
              "      <td>This is Darla. She commenced a snooze mid meal...</td>\n",
              "      <td>https://twitter.com/dog_rates/status/891689557...</td>\n",
              "      <td>13.0</td>\n",
              "      <td>10.0</td>\n",
              "      <td>Darla</td>\n",
              "      <td>None</td>\n",
              "      <td>None</td>\n",
              "      <td>None</td>\n",
              "      <td>None</td>\n",
              "      <td>https://pbs.twimg.com/media/CT5Dr8HUEAA-lEu.jpg</td>\n",
              "      <td>Rhodesian_ridgeback</td>\n",
              "      <td>0.408143</td>\n",
              "      <td>True</td>\n",
              "      <td>redbone</td>\n",
              "      <td>0.360687</td>\n",
              "      <td>True</td>\n",
              "      <td>miniature_pinscher</td>\n",
              "      <td>0.222752</td>\n",
              "      <td>True</td>\n",
              "      <td>3.0</td>\n",
              "      <td>38206.0</td>\n",
              "      <td>7522.0</td>\n",
              "      <td>1.3</td>\n",
              "    </tr>\n",
              "    <tr>\n",
              "      <th>4</th>\n",
              "      <td>891327558926688256</td>\n",
              "      <td>2017-07-29 16:00:24</td>\n",
              "      <td>&lt;a href=\"http://twitter.com/download/iphone\" r...</td>\n",
              "      <td>This is Franklin. He would like you to stop ca...</td>\n",
              "      <td>https://twitter.com/dog_rates/status/891327558...</td>\n",
              "      <td>12.0</td>\n",
              "      <td>10.0</td>\n",
              "      <td>Franklin</td>\n",
              "      <td>None</td>\n",
              "      <td>None</td>\n",
              "      <td>None</td>\n",
              "      <td>None</td>\n",
              "      <td>https://pbs.twimg.com/media/CT5IQmsXIAAKY4A.jpg</td>\n",
              "      <td>miniature_pinscher</td>\n",
              "      <td>0.560311</td>\n",
              "      <td>True</td>\n",
              "      <td>Rottweiler</td>\n",
              "      <td>0.243682</td>\n",
              "      <td>True</td>\n",
              "      <td>Doberman</td>\n",
              "      <td>0.154629</td>\n",
              "      <td>True</td>\n",
              "      <td>4.0</td>\n",
              "      <td>36489.0</td>\n",
              "      <td>8109.0</td>\n",
              "      <td>1.2</td>\n",
              "    </tr>\n",
              "  </tbody>\n",
              "</table>\n",
              "</div>"
            ],
            "text/plain": [
              "             tweet_id           timestamp  ... retweet_count rating\n",
              "0  892420643555336193 2017-08-01 16:23:56  ...        7341.0    1.3\n",
              "1  892177421306343426 2017-08-01 00:17:27  ...        5477.0    1.3\n",
              "2  891815181378084864 2017-07-31 00:18:03  ...        3621.0    1.2\n",
              "3  891689557279858688 2017-07-30 15:58:51  ...        7522.0    1.3\n",
              "4  891327558926688256 2017-07-29 16:00:24  ...        8109.0    1.2\n",
              "\n",
              "[5 rows x 26 columns]"
            ]
          },
          "metadata": {
            "tags": []
          },
          "execution_count": 35
        }
      ]
    },
    {
      "cell_type": "markdown",
      "metadata": {
        "id": "MEpzalWvAEdX"
      },
      "source": [
        "#### Quality Issue\n",
        "- [Define] doggo, floofer, pupper, puppo these 4 variables shoule be combined into one categorical variable Dog Type.\n",
        "Define\n",
        "- [Code] Extract the data of the column using and add them to dog_type col\n"
      ]
    },
    {
      "cell_type": "code",
      "metadata": {
        "colab": {
          "base_uri": "https://localhost:8080/",
          "height": 233
        },
        "id": "l_JC2_iRapzz",
        "outputId": "40da2eb6-a1ca-4e00-d3db-4edda774bda4"
      },
      "source": [
        "df.groupby([\"doggo\", \"floofer\", \"pupper\", \"puppo\"]).size().reset_index().rename(columns={0: \"count\"})"
      ],
      "execution_count": null,
      "outputs": [
        {
          "output_type": "execute_result",
          "data": {
            "text/html": [
              "<div>\n",
              "<style scoped>\n",
              "    .dataframe tbody tr th:only-of-type {\n",
              "        vertical-align: middle;\n",
              "    }\n",
              "\n",
              "    .dataframe tbody tr th {\n",
              "        vertical-align: top;\n",
              "    }\n",
              "\n",
              "    .dataframe thead th {\n",
              "        text-align: right;\n",
              "    }\n",
              "</style>\n",
              "<table border=\"1\" class=\"dataframe\">\n",
              "  <thead>\n",
              "    <tr style=\"text-align: right;\">\n",
              "      <th></th>\n",
              "      <th>doggo</th>\n",
              "      <th>floofer</th>\n",
              "      <th>pupper</th>\n",
              "      <th>puppo</th>\n",
              "      <th>count</th>\n",
              "    </tr>\n",
              "  </thead>\n",
              "  <tbody>\n",
              "    <tr>\n",
              "      <th>0</th>\n",
              "      <td>None</td>\n",
              "      <td>None</td>\n",
              "      <td>None</td>\n",
              "      <td>None</td>\n",
              "      <td>1315</td>\n",
              "    </tr>\n",
              "    <tr>\n",
              "      <th>1</th>\n",
              "      <td>None</td>\n",
              "      <td>None</td>\n",
              "      <td>None</td>\n",
              "      <td>puppo</td>\n",
              "      <td>20</td>\n",
              "    </tr>\n",
              "    <tr>\n",
              "      <th>2</th>\n",
              "      <td>None</td>\n",
              "      <td>None</td>\n",
              "      <td>pupper</td>\n",
              "      <td>None</td>\n",
              "      <td>135</td>\n",
              "    </tr>\n",
              "    <tr>\n",
              "      <th>3</th>\n",
              "      <td>None</td>\n",
              "      <td>floofer</td>\n",
              "      <td>None</td>\n",
              "      <td>None</td>\n",
              "      <td>5</td>\n",
              "    </tr>\n",
              "    <tr>\n",
              "      <th>4</th>\n",
              "      <td>doggo</td>\n",
              "      <td>None</td>\n",
              "      <td>None</td>\n",
              "      <td>None</td>\n",
              "      <td>47</td>\n",
              "    </tr>\n",
              "    <tr>\n",
              "      <th>5</th>\n",
              "      <td>doggo</td>\n",
              "      <td>None</td>\n",
              "      <td>pupper</td>\n",
              "      <td>None</td>\n",
              "      <td>6</td>\n",
              "    </tr>\n",
              "  </tbody>\n",
              "</table>\n",
              "</div>"
            ],
            "text/plain": [
              "   doggo  floofer  pupper  puppo  count\n",
              "0   None     None    None   None   1315\n",
              "1   None     None    None  puppo     20\n",
              "2   None     None  pupper   None    135\n",
              "3   None  floofer    None   None      5\n",
              "4  doggo     None    None   None     47\n",
              "5  doggo     None  pupper   None      6"
            ]
          },
          "metadata": {
            "tags": []
          },
          "execution_count": 36
        }
      ]
    },
    {
      "cell_type": "code",
      "metadata": {
        "colab": {
          "base_uri": "https://localhost:8080/"
        },
        "id": "f9hJXveockB0",
        "outputId": "bb75d9a5-8b61-4a7a-9422-acca2215af25"
      },
      "source": [
        "df.doggo.replace([np.NaN, 'None'], '', inplace=True)\n",
        "df.puppo.replace([np.NaN, 'None'], '', inplace=True)\n",
        "df.floofer.replace([np.NaN, 'None'], '', inplace=True)\n",
        "df.pupper.replace([np.NaN, 'None'], '', inplace=True)\n",
        "# Place all dog categores n one col\n",
        "df['dogtype'] = df.doggo + df.floofer + df.pupper + df.puppo\n",
        "\n",
        "df.loc[df.dogtype == 'doggopupper', 'dog_type'] = 'doggo, pupper'\n",
        "df.loc[df.dogtype == 'doggopuppo', 'dog_type'] = 'doggo, puppo'\n",
        "df.loc[df.dogtype == 'doggofloofer', 'dog_type'] = 'doggo, floofer'\n",
        "df.dogtype.unique()"
      ],
      "execution_count": null,
      "outputs": [
        {
          "output_type": "execute_result",
          "data": {
            "text/plain": [
              "array(['', 'doggo', 'puppo', 'pupper', 'floofer', 'doggopupper'],\n",
              "      dtype=object)"
            ]
          },
          "metadata": {
            "tags": []
          },
          "execution_count": 37
        }
      ]
    },
    {
      "cell_type": "code",
      "metadata": {
        "colab": {
          "base_uri": "https://localhost:8080/",
          "height": 604
        },
        "id": "pSiUIuW9dHga",
        "outputId": "24b44085-2404-45f1-d1c4-fbf036de59d2"
      },
      "source": [
        "for idx, row in df.iterrows():\n",
        "    if 'doggoNoneNoneNone' in row['dogtype']:\n",
        "        df.loc[idx, 'dog_type'] = 'doggo'\n",
        "    elif 'NoneNoneNonepuppo' in row['dogtype']:\n",
        "        df.loc[idx, 'dog_type'] = 'puppo'\n",
        "    elif 'NoneNonepupperNone' in row['dogtype']:\n",
        "        df.loc[idx, 'dog_type'] = 'pupper'\n",
        "    elif 'NoneflooferNoneNone' in row['dogtype']:\n",
        "        df.loc[idx, 'dog_type'] = 'floofer'\n",
        "    elif 'NoneNoneNoneNone' in row['dogtype']:\n",
        "        df.loc[idx, 'dog_type'] = None\n",
        "    elif 'doggo' in row['dogtype']:\n",
        "        df.loc[idx, 'dog_type'] = 'doggo'\n",
        "    elif 'puppo' in row['dogtype']:\n",
        "        df.loc[idx, 'dog_type'] = 'puppo'\n",
        "    elif 'pupper' in row['dogtype']:\n",
        "        df.loc[idx, 'dog_type'] = 'pupper'\n",
        "    elif 'floofer' in row['dogtype']:\n",
        "        df.loc[idx, 'dog_type'] = 'floofer'\n",
        "    else:\n",
        "        df.loc[idx, 'dog_type'] = 'multiple'\n",
        "df.head()"
      ],
      "execution_count": null,
      "outputs": [
        {
          "output_type": "execute_result",
          "data": {
            "text/html": [
              "<div>\n",
              "<style scoped>\n",
              "    .dataframe tbody tr th:only-of-type {\n",
              "        vertical-align: middle;\n",
              "    }\n",
              "\n",
              "    .dataframe tbody tr th {\n",
              "        vertical-align: top;\n",
              "    }\n",
              "\n",
              "    .dataframe thead th {\n",
              "        text-align: right;\n",
              "    }\n",
              "</style>\n",
              "<table border=\"1\" class=\"dataframe\">\n",
              "  <thead>\n",
              "    <tr style=\"text-align: right;\">\n",
              "      <th></th>\n",
              "      <th>tweet_id</th>\n",
              "      <th>timestamp</th>\n",
              "      <th>source</th>\n",
              "      <th>text</th>\n",
              "      <th>expanded_urls</th>\n",
              "      <th>rating_numerator</th>\n",
              "      <th>rating_denominator</th>\n",
              "      <th>name</th>\n",
              "      <th>doggo</th>\n",
              "      <th>floofer</th>\n",
              "      <th>pupper</th>\n",
              "      <th>puppo</th>\n",
              "      <th>jpg_url</th>\n",
              "      <th>p1</th>\n",
              "      <th>p1_conf</th>\n",
              "      <th>p1_dog</th>\n",
              "      <th>p2</th>\n",
              "      <th>p2_conf</th>\n",
              "      <th>p2_dog</th>\n",
              "      <th>p3</th>\n",
              "      <th>p3_conf</th>\n",
              "      <th>p3_dog</th>\n",
              "      <th>Unnamed: 0</th>\n",
              "      <th>favorite_count</th>\n",
              "      <th>retweet_count</th>\n",
              "      <th>rating</th>\n",
              "      <th>dogtype</th>\n",
              "      <th>dog_type</th>\n",
              "    </tr>\n",
              "  </thead>\n",
              "  <tbody>\n",
              "    <tr>\n",
              "      <th>0</th>\n",
              "      <td>892420643555336193</td>\n",
              "      <td>2017-08-01 16:23:56</td>\n",
              "      <td>&lt;a href=\"http://twitter.com/download/iphone\" r...</td>\n",
              "      <td>This is Phineas. He's a mystical boy. Only eve...</td>\n",
              "      <td>https://twitter.com/dog_rates/status/892420643...</td>\n",
              "      <td>13.0</td>\n",
              "      <td>10.0</td>\n",
              "      <td>Phineas</td>\n",
              "      <td></td>\n",
              "      <td></td>\n",
              "      <td></td>\n",
              "      <td></td>\n",
              "      <td>https://pbs.twimg.com/media/CT4udn0WwAA0aMy.jpg</td>\n",
              "      <td>Welsh_springer_spaniel</td>\n",
              "      <td>0.465074</td>\n",
              "      <td>True</td>\n",
              "      <td>collie</td>\n",
              "      <td>0.156665</td>\n",
              "      <td>True</td>\n",
              "      <td>Shetland_sheepdog</td>\n",
              "      <td>0.061428</td>\n",
              "      <td>True</td>\n",
              "      <td>0.0</td>\n",
              "      <td>34963.0</td>\n",
              "      <td>7341.0</td>\n",
              "      <td>1.3</td>\n",
              "      <td></td>\n",
              "      <td>multiple</td>\n",
              "    </tr>\n",
              "    <tr>\n",
              "      <th>1</th>\n",
              "      <td>892177421306343426</td>\n",
              "      <td>2017-08-01 00:17:27</td>\n",
              "      <td>&lt;a href=\"http://twitter.com/download/iphone\" r...</td>\n",
              "      <td>This is Tilly. She's just checking pup on you....</td>\n",
              "      <td>https://twitter.com/dog_rates/status/892177421...</td>\n",
              "      <td>13.0</td>\n",
              "      <td>10.0</td>\n",
              "      <td>Tilly</td>\n",
              "      <td></td>\n",
              "      <td></td>\n",
              "      <td></td>\n",
              "      <td></td>\n",
              "      <td>https://pbs.twimg.com/media/CT42GRgUYAA5iDo.jpg</td>\n",
              "      <td>redbone</td>\n",
              "      <td>0.506826</td>\n",
              "      <td>True</td>\n",
              "      <td>miniature_pinscher</td>\n",
              "      <td>0.074192</td>\n",
              "      <td>True</td>\n",
              "      <td>Rhodesian_ridgeback</td>\n",
              "      <td>0.072010</td>\n",
              "      <td>True</td>\n",
              "      <td>1.0</td>\n",
              "      <td>30279.0</td>\n",
              "      <td>5477.0</td>\n",
              "      <td>1.3</td>\n",
              "      <td></td>\n",
              "      <td>multiple</td>\n",
              "    </tr>\n",
              "    <tr>\n",
              "      <th>2</th>\n",
              "      <td>891815181378084864</td>\n",
              "      <td>2017-07-31 00:18:03</td>\n",
              "      <td>&lt;a href=\"http://twitter.com/download/iphone\" r...</td>\n",
              "      <td>This is Archie. He is a rare Norwegian Pouncin...</td>\n",
              "      <td>https://twitter.com/dog_rates/status/891815181...</td>\n",
              "      <td>12.0</td>\n",
              "      <td>10.0</td>\n",
              "      <td>Archie</td>\n",
              "      <td></td>\n",
              "      <td></td>\n",
              "      <td></td>\n",
              "      <td></td>\n",
              "      <td>https://pbs.twimg.com/media/CT4521TWwAEvMyu.jpg</td>\n",
              "      <td>German_shepherd</td>\n",
              "      <td>0.596461</td>\n",
              "      <td>True</td>\n",
              "      <td>malinois</td>\n",
              "      <td>0.138584</td>\n",
              "      <td>True</td>\n",
              "      <td>bloodhound</td>\n",
              "      <td>0.116197</td>\n",
              "      <td>True</td>\n",
              "      <td>2.0</td>\n",
              "      <td>22778.0</td>\n",
              "      <td>3621.0</td>\n",
              "      <td>1.2</td>\n",
              "      <td></td>\n",
              "      <td>multiple</td>\n",
              "    </tr>\n",
              "    <tr>\n",
              "      <th>3</th>\n",
              "      <td>891689557279858688</td>\n",
              "      <td>2017-07-30 15:58:51</td>\n",
              "      <td>&lt;a href=\"http://twitter.com/download/iphone\" r...</td>\n",
              "      <td>This is Darla. She commenced a snooze mid meal...</td>\n",
              "      <td>https://twitter.com/dog_rates/status/891689557...</td>\n",
              "      <td>13.0</td>\n",
              "      <td>10.0</td>\n",
              "      <td>Darla</td>\n",
              "      <td></td>\n",
              "      <td></td>\n",
              "      <td></td>\n",
              "      <td></td>\n",
              "      <td>https://pbs.twimg.com/media/CT5Dr8HUEAA-lEu.jpg</td>\n",
              "      <td>Rhodesian_ridgeback</td>\n",
              "      <td>0.408143</td>\n",
              "      <td>True</td>\n",
              "      <td>redbone</td>\n",
              "      <td>0.360687</td>\n",
              "      <td>True</td>\n",
              "      <td>miniature_pinscher</td>\n",
              "      <td>0.222752</td>\n",
              "      <td>True</td>\n",
              "      <td>3.0</td>\n",
              "      <td>38206.0</td>\n",
              "      <td>7522.0</td>\n",
              "      <td>1.3</td>\n",
              "      <td></td>\n",
              "      <td>multiple</td>\n",
              "    </tr>\n",
              "    <tr>\n",
              "      <th>4</th>\n",
              "      <td>891327558926688256</td>\n",
              "      <td>2017-07-29 16:00:24</td>\n",
              "      <td>&lt;a href=\"http://twitter.com/download/iphone\" r...</td>\n",
              "      <td>This is Franklin. He would like you to stop ca...</td>\n",
              "      <td>https://twitter.com/dog_rates/status/891327558...</td>\n",
              "      <td>12.0</td>\n",
              "      <td>10.0</td>\n",
              "      <td>Franklin</td>\n",
              "      <td></td>\n",
              "      <td></td>\n",
              "      <td></td>\n",
              "      <td></td>\n",
              "      <td>https://pbs.twimg.com/media/CT5IQmsXIAAKY4A.jpg</td>\n",
              "      <td>miniature_pinscher</td>\n",
              "      <td>0.560311</td>\n",
              "      <td>True</td>\n",
              "      <td>Rottweiler</td>\n",
              "      <td>0.243682</td>\n",
              "      <td>True</td>\n",
              "      <td>Doberman</td>\n",
              "      <td>0.154629</td>\n",
              "      <td>True</td>\n",
              "      <td>4.0</td>\n",
              "      <td>36489.0</td>\n",
              "      <td>8109.0</td>\n",
              "      <td>1.2</td>\n",
              "      <td></td>\n",
              "      <td>multiple</td>\n",
              "    </tr>\n",
              "  </tbody>\n",
              "</table>\n",
              "</div>"
            ],
            "text/plain": [
              "             tweet_id           timestamp  ... dogtype  dog_type\n",
              "0  892420643555336193 2017-08-01 16:23:56  ...          multiple\n",
              "1  892177421306343426 2017-08-01 00:17:27  ...          multiple\n",
              "2  891815181378084864 2017-07-31 00:18:03  ...          multiple\n",
              "3  891689557279858688 2017-07-30 15:58:51  ...          multiple\n",
              "4  891327558926688256 2017-07-29 16:00:24  ...          multiple\n",
              "\n",
              "[5 rows x 28 columns]"
            ]
          },
          "metadata": {
            "tags": []
          },
          "execution_count": 38
        }
      ]
    },
    {
      "cell_type": "code",
      "metadata": {
        "id": "BtAG4zpMyzZt"
      },
      "source": [
        "df.drop(['dogtype'], axis=1, inplace=True)\n",
        "df.drop(['doggo', 'floofer', 'pupper', 'puppo'], axis=1, inplace=True)"
      ],
      "execution_count": null,
      "outputs": []
    },
    {
      "cell_type": "markdown",
      "metadata": {
        "id": "96eoQHGzy1-O"
      },
      "source": [
        "- [Test] Check out the df after cleaning and removing extra dog stages"
      ]
    },
    {
      "cell_type": "code",
      "metadata": {
        "id": "Fg8mlf9JeROu",
        "colab": {
          "base_uri": "https://localhost:8080/",
          "height": 604
        },
        "outputId": "a13bbe7f-fcca-48e7-d06b-1d891845d447"
      },
      "source": [
        "df.head()\n",
        "# check ['doggo', 'floofer', 'pupper', 'puppo'] cols were dropped"
      ],
      "execution_count": null,
      "outputs": [
        {
          "output_type": "execute_result",
          "data": {
            "text/html": [
              "<div>\n",
              "<style scoped>\n",
              "    .dataframe tbody tr th:only-of-type {\n",
              "        vertical-align: middle;\n",
              "    }\n",
              "\n",
              "    .dataframe tbody tr th {\n",
              "        vertical-align: top;\n",
              "    }\n",
              "\n",
              "    .dataframe thead th {\n",
              "        text-align: right;\n",
              "    }\n",
              "</style>\n",
              "<table border=\"1\" class=\"dataframe\">\n",
              "  <thead>\n",
              "    <tr style=\"text-align: right;\">\n",
              "      <th></th>\n",
              "      <th>tweet_id</th>\n",
              "      <th>timestamp</th>\n",
              "      <th>source</th>\n",
              "      <th>text</th>\n",
              "      <th>expanded_urls</th>\n",
              "      <th>rating_numerator</th>\n",
              "      <th>rating_denominator</th>\n",
              "      <th>name</th>\n",
              "      <th>jpg_url</th>\n",
              "      <th>p1</th>\n",
              "      <th>p1_conf</th>\n",
              "      <th>p1_dog</th>\n",
              "      <th>p2</th>\n",
              "      <th>p2_conf</th>\n",
              "      <th>p2_dog</th>\n",
              "      <th>p3</th>\n",
              "      <th>p3_conf</th>\n",
              "      <th>p3_dog</th>\n",
              "      <th>Unnamed: 0</th>\n",
              "      <th>favorite_count</th>\n",
              "      <th>retweet_count</th>\n",
              "      <th>rating</th>\n",
              "      <th>dog_type</th>\n",
              "    </tr>\n",
              "  </thead>\n",
              "  <tbody>\n",
              "    <tr>\n",
              "      <th>0</th>\n",
              "      <td>892420643555336193</td>\n",
              "      <td>2017-08-01 16:23:56</td>\n",
              "      <td>&lt;a href=\"http://twitter.com/download/iphone\" r...</td>\n",
              "      <td>This is Phineas. He's a mystical boy. Only eve...</td>\n",
              "      <td>https://twitter.com/dog_rates/status/892420643...</td>\n",
              "      <td>13.0</td>\n",
              "      <td>10.0</td>\n",
              "      <td>Phineas</td>\n",
              "      <td>https://pbs.twimg.com/media/CT4udn0WwAA0aMy.jpg</td>\n",
              "      <td>Welsh_springer_spaniel</td>\n",
              "      <td>0.465074</td>\n",
              "      <td>True</td>\n",
              "      <td>collie</td>\n",
              "      <td>0.156665</td>\n",
              "      <td>True</td>\n",
              "      <td>Shetland_sheepdog</td>\n",
              "      <td>0.061428</td>\n",
              "      <td>True</td>\n",
              "      <td>0.0</td>\n",
              "      <td>34963.0</td>\n",
              "      <td>7341.0</td>\n",
              "      <td>1.3</td>\n",
              "      <td>multiple</td>\n",
              "    </tr>\n",
              "    <tr>\n",
              "      <th>1</th>\n",
              "      <td>892177421306343426</td>\n",
              "      <td>2017-08-01 00:17:27</td>\n",
              "      <td>&lt;a href=\"http://twitter.com/download/iphone\" r...</td>\n",
              "      <td>This is Tilly. She's just checking pup on you....</td>\n",
              "      <td>https://twitter.com/dog_rates/status/892177421...</td>\n",
              "      <td>13.0</td>\n",
              "      <td>10.0</td>\n",
              "      <td>Tilly</td>\n",
              "      <td>https://pbs.twimg.com/media/CT42GRgUYAA5iDo.jpg</td>\n",
              "      <td>redbone</td>\n",
              "      <td>0.506826</td>\n",
              "      <td>True</td>\n",
              "      <td>miniature_pinscher</td>\n",
              "      <td>0.074192</td>\n",
              "      <td>True</td>\n",
              "      <td>Rhodesian_ridgeback</td>\n",
              "      <td>0.072010</td>\n",
              "      <td>True</td>\n",
              "      <td>1.0</td>\n",
              "      <td>30279.0</td>\n",
              "      <td>5477.0</td>\n",
              "      <td>1.3</td>\n",
              "      <td>multiple</td>\n",
              "    </tr>\n",
              "    <tr>\n",
              "      <th>2</th>\n",
              "      <td>891815181378084864</td>\n",
              "      <td>2017-07-31 00:18:03</td>\n",
              "      <td>&lt;a href=\"http://twitter.com/download/iphone\" r...</td>\n",
              "      <td>This is Archie. He is a rare Norwegian Pouncin...</td>\n",
              "      <td>https://twitter.com/dog_rates/status/891815181...</td>\n",
              "      <td>12.0</td>\n",
              "      <td>10.0</td>\n",
              "      <td>Archie</td>\n",
              "      <td>https://pbs.twimg.com/media/CT4521TWwAEvMyu.jpg</td>\n",
              "      <td>German_shepherd</td>\n",
              "      <td>0.596461</td>\n",
              "      <td>True</td>\n",
              "      <td>malinois</td>\n",
              "      <td>0.138584</td>\n",
              "      <td>True</td>\n",
              "      <td>bloodhound</td>\n",
              "      <td>0.116197</td>\n",
              "      <td>True</td>\n",
              "      <td>2.0</td>\n",
              "      <td>22778.0</td>\n",
              "      <td>3621.0</td>\n",
              "      <td>1.2</td>\n",
              "      <td>multiple</td>\n",
              "    </tr>\n",
              "    <tr>\n",
              "      <th>3</th>\n",
              "      <td>891689557279858688</td>\n",
              "      <td>2017-07-30 15:58:51</td>\n",
              "      <td>&lt;a href=\"http://twitter.com/download/iphone\" r...</td>\n",
              "      <td>This is Darla. She commenced a snooze mid meal...</td>\n",
              "      <td>https://twitter.com/dog_rates/status/891689557...</td>\n",
              "      <td>13.0</td>\n",
              "      <td>10.0</td>\n",
              "      <td>Darla</td>\n",
              "      <td>https://pbs.twimg.com/media/CT5Dr8HUEAA-lEu.jpg</td>\n",
              "      <td>Rhodesian_ridgeback</td>\n",
              "      <td>0.408143</td>\n",
              "      <td>True</td>\n",
              "      <td>redbone</td>\n",
              "      <td>0.360687</td>\n",
              "      <td>True</td>\n",
              "      <td>miniature_pinscher</td>\n",
              "      <td>0.222752</td>\n",
              "      <td>True</td>\n",
              "      <td>3.0</td>\n",
              "      <td>38206.0</td>\n",
              "      <td>7522.0</td>\n",
              "      <td>1.3</td>\n",
              "      <td>multiple</td>\n",
              "    </tr>\n",
              "    <tr>\n",
              "      <th>4</th>\n",
              "      <td>891327558926688256</td>\n",
              "      <td>2017-07-29 16:00:24</td>\n",
              "      <td>&lt;a href=\"http://twitter.com/download/iphone\" r...</td>\n",
              "      <td>This is Franklin. He would like you to stop ca...</td>\n",
              "      <td>https://twitter.com/dog_rates/status/891327558...</td>\n",
              "      <td>12.0</td>\n",
              "      <td>10.0</td>\n",
              "      <td>Franklin</td>\n",
              "      <td>https://pbs.twimg.com/media/CT5IQmsXIAAKY4A.jpg</td>\n",
              "      <td>miniature_pinscher</td>\n",
              "      <td>0.560311</td>\n",
              "      <td>True</td>\n",
              "      <td>Rottweiler</td>\n",
              "      <td>0.243682</td>\n",
              "      <td>True</td>\n",
              "      <td>Doberman</td>\n",
              "      <td>0.154629</td>\n",
              "      <td>True</td>\n",
              "      <td>4.0</td>\n",
              "      <td>36489.0</td>\n",
              "      <td>8109.0</td>\n",
              "      <td>1.2</td>\n",
              "      <td>multiple</td>\n",
              "    </tr>\n",
              "  </tbody>\n",
              "</table>\n",
              "</div>"
            ],
            "text/plain": [
              "             tweet_id           timestamp  ... rating  dog_type\n",
              "0  892420643555336193 2017-08-01 16:23:56  ...    1.3  multiple\n",
              "1  892177421306343426 2017-08-01 00:17:27  ...    1.3  multiple\n",
              "2  891815181378084864 2017-07-31 00:18:03  ...    1.2  multiple\n",
              "3  891689557279858688 2017-07-30 15:58:51  ...    1.3  multiple\n",
              "4  891327558926688256 2017-07-29 16:00:24  ...    1.2  multiple\n",
              "\n",
              "[5 rows x 23 columns]"
            ]
          },
          "metadata": {
            "tags": []
          },
          "execution_count": 39
        }
      ]
    },
    {
      "cell_type": "markdown",
      "metadata": {
        "id": "XS95-q4iAvt4"
      },
      "source": [
        "#### Store the cleaned dataset"
      ]
    },
    {
      "cell_type": "code",
      "metadata": {
        "id": "d0kIXAbCfEUe"
      },
      "source": [
        "df.to_csv('twitter_cleaned.csv', encoding='utf-8', index=False)"
      ],
      "execution_count": null,
      "outputs": []
    },
    {
      "cell_type": "markdown",
      "metadata": {
        "id": "EATDKwKNehLm"
      },
      "source": [
        "# Visualize and store"
      ]
    },
    {
      "cell_type": "code",
      "metadata": {
        "id": "WXB18t3HZzHO"
      },
      "source": [
        "import matplotlib.pyplot as plt\n",
        "import seaborn as sns\n",
        "import datetime\n",
        "\n",
        "%matplotlib inline"
      ],
      "execution_count": null,
      "outputs": []
    },
    {
      "cell_type": "markdown",
      "metadata": {
        "id": "a3jKH7AYAyzM"
      },
      "source": [
        "#### Insight #01 \n",
        "Dog stages frequency "
      ]
    },
    {
      "cell_type": "code",
      "metadata": {
        "colab": {
          "base_uri": "https://localhost:8080/",
          "height": 366
        },
        "id": "ObIPLijEeijf",
        "outputId": "420577db-9e75-4628-8f24-01c100ab593a"
      },
      "source": [
        "# Count of dog types\n",
        "count=list(df['dog_type'].value_counts().sort_values())\n",
        "label=list(df['dog_type'].value_counts().sort_values().index)\n",
        "fig = plt.figure()\n",
        "ax = fig.add_axes([0,0,1,1])\n",
        "ax.bar(label,count)\n",
        "plt.xlabel(\"Type of Dogs\")\n",
        "plt.ylabel(\"Count\")\n",
        "ax.set_title(\"Count of Type of Dogs\")\n",
        "plt.show()"
      ],
      "execution_count": null,
      "outputs": [
        {
          "output_type": "display_data",
          "data": {
            "image/png": "[encoded data removed]",
            "text/plain": [
              "<Figure size 432x288 with 1 Axes>"
            ]
          },
          "metadata": {
            "tags": [],
            "needs_background": "light"
          }
        }
      ]
    },
    {
      "cell_type": "markdown",
      "metadata": {
        "id": "NniDrixXA4Ls"
      },
      "source": [
        "#### Insight #02\n",
        "\n",
        "The traffic of the number of tweets is declining over time"
      ]
    },
    {
      "cell_type": "code",
      "metadata": {
        "colab": {
          "base_uri": "https://localhost:8080/"
        },
        "id": "kFPjgbqFfYxA",
        "outputId": "9a26654e-9f57-41b0-f909-7c9ec87ca5f1"
      },
      "source": [
        "df.timestamp = pd.to_datetime(df['timestamp'], format='%Y-%m-%d %H:%M:%S.%f')\n",
        "\n",
        "monthly_tweets = df.groupby(pd.Grouper(key = 'timestamp', freq = \"M\")).count().reset_index()\n",
        "monthly_tweets = monthly_tweets[['timestamp', 'tweet_id']]\n",
        "monthly_tweets.head()\n",
        "monthly_tweets.sum()\n",
        "\n",
        "\n",
        "# Plotting time vs. tweets\n",
        "plt.figure(figsize=(10, 10));\n",
        "plt.xlim([datetime.date(2015, 11, 30), datetime.date(2017, 7, 30)]);\n",
        "\n",
        "plt.xlabel('Year and Month')\n",
        "plt.ylabel('Tweets Count')\n",
        "\n",
        "plt.plot(monthly_tweets.timestamp, monthly_tweets.tweet_id);\n",
        "plt.title('We Rate Dogs Tweets over Time');"
      ],
      "execution_count": null,
      "outputs": [
        {
          "output_type": "display_data",
          "data": {
            "image/png": "[encoded data removed]",
            "text/plain": [
              "<Figure size 720x720 with 1 Axes>"
            ]
          },
          "metadata": {
            "tags": [],
            "needs_background": "light"
          }
        }
      ]
    },
    {
      "cell_type": "markdown",
      "metadata": {
        "id": "IFXwsB_GMdpR"
      },
      "source": [
        "##### Insight #03\n",
        "The most common name was Charlie, followeed by 2nd cluster (Oliver, lucy, cooper) followed by the 3rd cluster of (lola, penny, tucker)"
      ]
    },
    {
      "cell_type": "code",
      "metadata": {
        "id": "So0xMTAShsPz",
        "colab": {
          "base_uri": "https://localhost:8080/"
        },
        "outputId": "a201c439-bd32-4f92-a88c-6d647e4108e7"
      },
      "source": [
        "df['name'].value_counts()[0:10].sort_values(ascending=False).plot(kind = 'bar')\n",
        "plt.ylabel('Number of Dogs')\n",
        "plt.title('Top 10 frequent dog names', size=15)\n",
        "plt.xlabel('Dog Names')\n",
        "plt.savefig('most_frequent_names');"
      ],
      "execution_count": null,
      "outputs": [
        {
          "output_type": "display_data",
          "data": {
            "image/png": "[encoded data removed]",
            "text/plain": [
              "<Figure size 432x288 with 1 Axes>"
            ]
          },
          "metadata": {
            "tags": [],
            "needs_background": "light"
          }
        }
      ]
    },
    {
      "cell_type": "markdown",
      "metadata": {
        "id": "7hLelfPgMqNu"
      },
      "source": [
        "##### Insight #04\n",
        "The most used sources for the tweets was from iPhone, followed by web browser, vine and sweetdeck were 3rd and 4th respectively"
      ]
    },
    {
      "cell_type": "code",
      "metadata": {
        "colab": {
          "base_uri": "https://localhost:8080/"
        },
        "id": "ChKRQBICaMWn",
        "outputId": "589dc32e-287b-48ef-aa64-46bbd63ad6dd"
      },
      "source": [
        "# df['source'].value_counts()\n",
        "df['source'] = df['source'].replace(['<a href=\"http://twitter.com/download/iphone\" rel=\"nofollow\">Twitter for iPhone</a>',  '<a href=\"http://vine.co\" rel=\"nofollow\">Vine - Make a Scene</a>', '<a href=\"http://twitter.com\" rel=\"nofollow\">Twitter Web Client</a>', '<a href=\"https://about.twitter.com/products/tweetdeck\" rel=\"nofollow\">TweetDeck</a>'], ['Twitter for iPhone', 'Vine - Make a Scene', 'Twitter Web Client', 'TweetDeck'])\n",
        "# df['source'].value_counts()\n",
        "sns.countplot(data=df, x='source')\n",
        "plt.title('Tweet Sources', size=15)\n",
        "plt.xticks(rotation=45)\n",
        "plt.savefig('most_used_twitter_source');"
      ],
      "execution_count": null,
      "outputs": [
        {
          "output_type": "display_data",
          "data": {
            "image/png": "[encoded data removed]",
            "text/plain": [
              "<Figure size 432x288 with 1 Axes>"
            ]
          },
          "metadata": {
            "tags": [],
            "needs_background": "light"
          }
        }
      ]
    },
    {
      "cell_type": "code",
      "metadata": {
        "id": "9S6wQdhowhq7"
      },
      "source": [
        ""
      ],
      "execution_count": null,
      "outputs": []
    }
  ]
}