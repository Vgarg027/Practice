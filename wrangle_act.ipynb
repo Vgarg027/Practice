{
 "cells": [
  {
   "cell_type": "markdown",
   "metadata": {
    "extensions": {
     "jupyter_dashboards": {
      "version": 1,
      "views": {
       "grid_default": {
        "col": 0,
        "height": 4,
        "hidden": false,
        "row": 0,
        "width": 4
       },
       "report_default": {
        "hidden": false
       }
      }
     }
    }
   },
   "source": [
    "# Project: Wrangling and Analyze Data"
   ]
  },
  {
   "cell_type": "markdown",
   "metadata": {},
   "source": [
    "## Data Gathering\n",
    "In the cell below, gather **all** three pieces of data for this project and load them in the notebook. **Note:** the methods required to gather each data are different.\n",
    "1. Directly download the WeRateDogs Twitter archive data (twitter_archive_enhanced.csv)"
   ]
  },
  {
   "cell_type": "code",
   "execution_count": 2,
   "metadata": {
    "extensions": {
     "jupyter_dashboards": {
      "version": 1,
      "views": {
       "grid_default": {
        "hidden": true
       },
       "report_default": {
        "hidden": true
       }
      }
     }
    }
   },
   "outputs": [],
   "source": [
    "import pandas as pd \n",
    "import requests\n",
    "import os\n",
    "from bs4 import BeautifulSoup\n",
    "import glob\n",
    "import json\n",
    "import matplotlib.pyplot as plt\n",
    "\n",
    "\n",
    "archive= pd.read_csv('twitter-archive-enhanced.csv')"
   ]
  },
  {
   "cell_type": "markdown",
   "metadata": {},
   "source": [
    "2. Use the Requests library to download the tweet image prediction (image_predictions.tsv)"
   ]
  },
  {
   "cell_type": "code",
   "execution_count": 3,
   "metadata": {},
   "outputs": [],
   "source": [
    "image = requests.get('https://d17h27t6h515a5.cloudfront.net/topher/2017/August/599fd2ad_image-predictions/image-predictions.tsv')\n",
    "folder_name = 'image'\n",
    "if not os.path.exists(folder_name):\n",
    "    os.makedirs(folder_name)\n",
    "    \n",
    "url = 'https://d17h27t6h515a5.cloudfront.net/topher/2017/August/599fd2ad_image-predictions/image-predictions.tsv'\n",
    "response = requests.get(url)\n",
    "with open(os.path.join(folder_name, url.split('/')[-1]),mode = 'wb') as file:\n",
    "    file.write(response.content)\n",
    "os.listdir(folder_name)\n",
    "image = pd.read_csv('image-predictions.tsv',sep='\\t')\n"
   ]
  },
  {
   "cell_type": "markdown",
   "metadata": {},
   "source": [
    "3. Use the Tweepy library to query additional data via the Twitter API (tweet_json.txt)"
   ]
  },
  {
   "cell_type": "code",
   "execution_count": 4,
   "metadata": {},
   "outputs": [],
   "source": [
    "df_list = []\n",
    "with open ('tweet-json.txt','r') as file:\n",
    "    for line in file:\n",
    "        data = json.loads(line)\n",
    "        tweet_id = data['id']\n",
    "        retweet_count=data['retweet_count']\n",
    "        favorite_count=data['favorite_count']\n",
    "        df_list.append({'tweet_id':tweet_id,\n",
    "                        'retweet_count':retweet_count,\n",
    "                        'favorite_count':favorite_count})\n",
    "tweet_data = pd.DataFrame(df_list,columns=['tweet_id','retweet_count','favorite_count'])\n"
   ]
  },
  {
   "cell_type": "markdown",
   "metadata": {
    "extensions": {
     "jupyter_dashboards": {
      "version": 1,
      "views": {
       "grid_default": {
        "col": 4,
        "height": 4,
        "hidden": false,
        "row": 28,
        "width": 4
       },
       "report_default": {
        "hidden": false
       }
      }
     }
    }
   },
   "source": [
    "## Assessing Data\n",
    "In this section, detect and document at least **eight (8) quality issues and two (2) tidiness issue**. You must use **both** visual assessment\n",
    "programmatic assessement to assess the data.\n",
    "\n",
    "**Note:** pay attention to the following key points when you access the data.\n",
    "\n",
    "* You only want original ratings (no retweets) that have images. Though there are 5000+ tweets in the dataset, not all are dog ratings and some are retweets.\n",
    "* Assessing and cleaning the entire dataset completely would require a lot of time, and is not necessary to practice and demonstrate your skills in data wrangling. Therefore, the requirements of this project are only to assess and clean at least 8 quality issues and at least 2 tidiness issues in this dataset.\n",
    "* The fact that the rating numerators are greater than the denominators does not need to be cleaned. This [unique rating system](http://knowyourmeme.com/memes/theyre-good-dogs-brent) is a big part of the popularity of WeRateDogs.\n",
    "* You do not need to gather the tweets beyond August 1st, 2017. You can, but note that you won't be able to gather the image predictions for these tweets since you don't have access to the algorithm used.\n",
    "\n"
   ]
  },
  {
   "cell_type": "code",
   "execution_count": 5,
   "metadata": {
    "scrolled": true
   },
   "outputs": [
    {
     "name": "stdout",
     "output_type": "stream",
     "text": [
      "<class 'pandas.core.frame.DataFrame'>\n",
      "RangeIndex: 2356 entries, 0 to 2355\n",
      "Data columns (total 17 columns):\n",
      "tweet_id                      2356 non-null int64\n",
      "in_reply_to_status_id         78 non-null float64\n",
      "in_reply_to_user_id           78 non-null float64\n",
      "timestamp                     2356 non-null object\n",
      "source                        2356 non-null object\n",
      "text                          2356 non-null object\n",
      "retweeted_status_id           181 non-null float64\n",
      "retweeted_status_user_id      181 non-null float64\n",
      "retweeted_status_timestamp    181 non-null object\n",
      "expanded_urls                 2297 non-null object\n",
      "rating_numerator              2356 non-null int64\n",
      "rating_denominator            2356 non-null int64\n",
      "name                          2356 non-null object\n",
      "doggo                         2356 non-null object\n",
      "floofer                       2356 non-null object\n",
      "pupper                        2356 non-null object\n",
      "puppo                         2356 non-null object\n",
      "dtypes: float64(4), int64(3), object(10)\n",
      "memory usage: 313.0+ KB\n"
     ]
    }
   ],
   "source": [
    "archive.info()"
   ]
  },
  {
   "cell_type": "code",
   "execution_count": 6,
   "metadata": {
    "scrolled": true
   },
   "outputs": [
    {
     "name": "stdout",
     "output_type": "stream",
     "text": [
      "<class 'pandas.core.frame.DataFrame'>\n",
      "RangeIndex: 2075 entries, 0 to 2074\n",
      "Data columns (total 12 columns):\n",
      "tweet_id    2075 non-null int64\n",
      "jpg_url     2075 non-null object\n",
      "img_num     2075 non-null int64\n",
      "p1          2075 non-null object\n",
      "p1_conf     2075 non-null float64\n",
      "p1_dog      2075 non-null bool\n",
      "p2          2075 non-null object\n",
      "p2_conf     2075 non-null float64\n",
      "p2_dog      2075 non-null bool\n",
      "p3          2075 non-null object\n",
      "p3_conf     2075 non-null float64\n",
      "p3_dog      2075 non-null bool\n",
      "dtypes: bool(3), float64(3), int64(2), object(4)\n",
      "memory usage: 152.1+ KB\n"
     ]
    }
   ],
   "source": [
    "image.info()"
   ]
  },
  {
   "cell_type": "code",
   "execution_count": 7,
   "metadata": {
    "scrolled": true
   },
   "outputs": [
    {
     "data": {
      "text/html": [
       "<div>\n",
       "<style scoped>\n",
       "    .dataframe tbody tr th:only-of-type {\n",
       "        vertical-align: middle;\n",
       "    }\n",
       "\n",
       "    .dataframe tbody tr th {\n",
       "        vertical-align: top;\n",
       "    }\n",
       "\n",
       "    .dataframe thead th {\n",
       "        text-align: right;\n",
       "    }\n",
       "</style>\n",
       "<table border=\"1\" class=\"dataframe\">\n",
       "  <thead>\n",
       "    <tr style=\"text-align: right;\">\n",
       "      <th></th>\n",
       "      <th>tweet_id</th>\n",
       "      <th>in_reply_to_status_id</th>\n",
       "      <th>in_reply_to_user_id</th>\n",
       "      <th>timestamp</th>\n",
       "      <th>source</th>\n",
       "      <th>text</th>\n",
       "      <th>retweeted_status_id</th>\n",
       "      <th>retweeted_status_user_id</th>\n",
       "      <th>retweeted_status_timestamp</th>\n",
       "      <th>expanded_urls</th>\n",
       "      <th>rating_numerator</th>\n",
       "      <th>rating_denominator</th>\n",
       "      <th>name</th>\n",
       "      <th>doggo</th>\n",
       "      <th>floofer</th>\n",
       "      <th>pupper</th>\n",
       "      <th>puppo</th>\n",
       "    </tr>\n",
       "  </thead>\n",
       "  <tbody>\n",
       "    <tr>\n",
       "      <th>2037</th>\n",
       "      <td>671561002136281088</td>\n",
       "      <td>NaN</td>\n",
       "      <td>NaN</td>\n",
       "      <td>2015-12-01 05:26:34 +0000</td>\n",
       "      <td>&lt;a href=\"http://twitter.com/download/iphone\" r...</td>\n",
       "      <td>This is the best thing I've ever seen so sprea...</td>\n",
       "      <td>NaN</td>\n",
       "      <td>NaN</td>\n",
       "      <td>NaN</td>\n",
       "      <td>https://twitter.com/dog_rates/status/671561002...</td>\n",
       "      <td>13</td>\n",
       "      <td>10</td>\n",
       "      <td>the</td>\n",
       "      <td>None</td>\n",
       "      <td>None</td>\n",
       "      <td>None</td>\n",
       "      <td>None</td>\n",
       "    </tr>\n",
       "    <tr>\n",
       "      <th>2014</th>\n",
       "      <td>672222792075620352</td>\n",
       "      <td>NaN</td>\n",
       "      <td>NaN</td>\n",
       "      <td>2015-12-03 01:16:17 +0000</td>\n",
       "      <td>&lt;a href=\"http://twitter.com/download/iphone\" r...</td>\n",
       "      <td>This is Cal. He's a Swedish Geriatric Cheddar....</td>\n",
       "      <td>NaN</td>\n",
       "      <td>NaN</td>\n",
       "      <td>NaN</td>\n",
       "      <td>https://twitter.com/dog_rates/status/672222792...</td>\n",
       "      <td>9</td>\n",
       "      <td>10</td>\n",
       "      <td>Cal</td>\n",
       "      <td>None</td>\n",
       "      <td>None</td>\n",
       "      <td>None</td>\n",
       "      <td>None</td>\n",
       "    </tr>\n",
       "    <tr>\n",
       "      <th>13</th>\n",
       "      <td>889638837579907072</td>\n",
       "      <td>NaN</td>\n",
       "      <td>NaN</td>\n",
       "      <td>2017-07-25 00:10:02 +0000</td>\n",
       "      <td>&lt;a href=\"http://twitter.com/download/iphone\" r...</td>\n",
       "      <td>This is Ted. He does his best. Sometimes that'...</td>\n",
       "      <td>NaN</td>\n",
       "      <td>NaN</td>\n",
       "      <td>NaN</td>\n",
       "      <td>https://twitter.com/dog_rates/status/889638837...</td>\n",
       "      <td>12</td>\n",
       "      <td>10</td>\n",
       "      <td>Ted</td>\n",
       "      <td>None</td>\n",
       "      <td>None</td>\n",
       "      <td>None</td>\n",
       "      <td>None</td>\n",
       "    </tr>\n",
       "    <tr>\n",
       "      <th>188</th>\n",
       "      <td>855862651834028034</td>\n",
       "      <td>8.558616e+17</td>\n",
       "      <td>194351775.0</td>\n",
       "      <td>2017-04-22 19:15:32 +0000</td>\n",
       "      <td>&lt;a href=\"http://twitter.com/download/iphone\" r...</td>\n",
       "      <td>@dhmontgomery We also gave snoop dogg a 420/10...</td>\n",
       "      <td>NaN</td>\n",
       "      <td>NaN</td>\n",
       "      <td>NaN</td>\n",
       "      <td>NaN</td>\n",
       "      <td>420</td>\n",
       "      <td>10</td>\n",
       "      <td>None</td>\n",
       "      <td>None</td>\n",
       "      <td>None</td>\n",
       "      <td>None</td>\n",
       "      <td>None</td>\n",
       "    </tr>\n",
       "    <tr>\n",
       "      <th>54</th>\n",
       "      <td>881666595344535552</td>\n",
       "      <td>NaN</td>\n",
       "      <td>NaN</td>\n",
       "      <td>2017-07-03 00:11:11 +0000</td>\n",
       "      <td>&lt;a href=\"http://twitter.com/download/iphone\" r...</td>\n",
       "      <td>This is Gary. He couldn't miss this puppertuni...</td>\n",
       "      <td>NaN</td>\n",
       "      <td>NaN</td>\n",
       "      <td>NaN</td>\n",
       "      <td>https://twitter.com/dog_rates/status/881666595...</td>\n",
       "      <td>13</td>\n",
       "      <td>10</td>\n",
       "      <td>Gary</td>\n",
       "      <td>None</td>\n",
       "      <td>None</td>\n",
       "      <td>None</td>\n",
       "      <td>None</td>\n",
       "    </tr>\n",
       "  </tbody>\n",
       "</table>\n",
       "</div>"
      ],
      "text/plain": [
       "                tweet_id  in_reply_to_status_id  in_reply_to_user_id  \\\n",
       "2037  671561002136281088                    NaN                  NaN   \n",
       "2014  672222792075620352                    NaN                  NaN   \n",
       "13    889638837579907072                    NaN                  NaN   \n",
       "188   855862651834028034           8.558616e+17          194351775.0   \n",
       "54    881666595344535552                    NaN                  NaN   \n",
       "\n",
       "                      timestamp  \\\n",
       "2037  2015-12-01 05:26:34 +0000   \n",
       "2014  2015-12-03 01:16:17 +0000   \n",
       "13    2017-07-25 00:10:02 +0000   \n",
       "188   2017-04-22 19:15:32 +0000   \n",
       "54    2017-07-03 00:11:11 +0000   \n",
       "\n",
       "                                                 source  \\\n",
       "2037  <a href=\"http://twitter.com/download/iphone\" r...   \n",
       "2014  <a href=\"http://twitter.com/download/iphone\" r...   \n",
       "13    <a href=\"http://twitter.com/download/iphone\" r...   \n",
       "188   <a href=\"http://twitter.com/download/iphone\" r...   \n",
       "54    <a href=\"http://twitter.com/download/iphone\" r...   \n",
       "\n",
       "                                                   text  retweeted_status_id  \\\n",
       "2037  This is the best thing I've ever seen so sprea...                  NaN   \n",
       "2014  This is Cal. He's a Swedish Geriatric Cheddar....                  NaN   \n",
       "13    This is Ted. He does his best. Sometimes that'...                  NaN   \n",
       "188   @dhmontgomery We also gave snoop dogg a 420/10...                  NaN   \n",
       "54    This is Gary. He couldn't miss this puppertuni...                  NaN   \n",
       "\n",
       "      retweeted_status_user_id retweeted_status_timestamp  \\\n",
       "2037                       NaN                        NaN   \n",
       "2014                       NaN                        NaN   \n",
       "13                         NaN                        NaN   \n",
       "188                        NaN                        NaN   \n",
       "54                         NaN                        NaN   \n",
       "\n",
       "                                          expanded_urls  rating_numerator  \\\n",
       "2037  https://twitter.com/dog_rates/status/671561002...                13   \n",
       "2014  https://twitter.com/dog_rates/status/672222792...                 9   \n",
       "13    https://twitter.com/dog_rates/status/889638837...                12   \n",
       "188                                                 NaN               420   \n",
       "54    https://twitter.com/dog_rates/status/881666595...                13   \n",
       "\n",
       "      rating_denominator  name doggo floofer pupper puppo  \n",
       "2037                  10   the  None    None   None  None  \n",
       "2014                  10   Cal  None    None   None  None  \n",
       "13                    10   Ted  None    None   None  None  \n",
       "188                   10  None  None    None   None  None  \n",
       "54                    10  Gary  None    None   None  None  "
      ]
     },
     "execution_count": 7,
     "metadata": {},
     "output_type": "execute_result"
    }
   ],
   "source": [
    "archive.sample(5)"
   ]
  },
  {
   "cell_type": "code",
   "execution_count": 8,
   "metadata": {},
   "outputs": [
    {
     "data": {
      "text/plain": [
       "10     2333\n",
       "11        3\n",
       "50        3\n",
       "80        2\n",
       "20        2\n",
       "2         1\n",
       "16        1\n",
       "40        1\n",
       "70        1\n",
       "15        1\n",
       "90        1\n",
       "110       1\n",
       "120       1\n",
       "130       1\n",
       "150       1\n",
       "170       1\n",
       "7         1\n",
       "0         1\n",
       "Name: rating_denominator, dtype: int64"
      ]
     },
     "execution_count": 8,
     "metadata": {},
     "output_type": "execute_result"
    }
   ],
   "source": [
    "archive.rating_denominator.value_counts()"
   ]
  },
  {
   "cell_type": "code",
   "execution_count": 9,
   "metadata": {},
   "outputs": [
    {
     "data": {
      "text/plain": [
       "12      558\n",
       "11      464\n",
       "10      461\n",
       "13      351\n",
       "9       158\n",
       "8       102\n",
       "7        55\n",
       "14       54\n",
       "5        37\n",
       "6        32\n",
       "3        19\n",
       "4        17\n",
       "1         9\n",
       "2         9\n",
       "420       2\n",
       "0         2\n",
       "15        2\n",
       "75        2\n",
       "80        1\n",
       "20        1\n",
       "24        1\n",
       "26        1\n",
       "44        1\n",
       "50        1\n",
       "60        1\n",
       "165       1\n",
       "84        1\n",
       "88        1\n",
       "144       1\n",
       "182       1\n",
       "143       1\n",
       "666       1\n",
       "960       1\n",
       "1776      1\n",
       "17        1\n",
       "27        1\n",
       "45        1\n",
       "99        1\n",
       "121       1\n",
       "204       1\n",
       "Name: rating_numerator, dtype: int64"
      ]
     },
     "execution_count": 9,
     "metadata": {},
     "output_type": "execute_result"
    }
   ],
   "source": [
    "archive.rating_numerator.value_counts()"
   ]
  },
  {
   "cell_type": "code",
   "execution_count": 10,
   "metadata": {},
   "outputs": [
    {
     "data": {
      "text/plain": [
       "0        Phineas\n",
       "1          Tilly\n",
       "2         Archie\n",
       "3          Darla\n",
       "4       Franklin\n",
       "5           None\n",
       "6            Jax\n",
       "7           None\n",
       "8           Zoey\n",
       "9         Cassie\n",
       "10          Koda\n",
       "11         Bruno\n",
       "12          None\n",
       "13           Ted\n",
       "14        Stuart\n",
       "15        Oliver\n",
       "16           Jim\n",
       "17          Zeke\n",
       "18       Ralphus\n",
       "19        Canela\n",
       "20        Gerald\n",
       "21       Jeffrey\n",
       "22          such\n",
       "23        Canela\n",
       "24          None\n",
       "25          None\n",
       "26          Maya\n",
       "27        Mingus\n",
       "28         Derek\n",
       "29        Roscoe\n",
       "          ...   \n",
       "2326       quite\n",
       "2327           a\n",
       "2328        None\n",
       "2329        None\n",
       "2330        None\n",
       "2331        None\n",
       "2332        None\n",
       "2333          an\n",
       "2334           a\n",
       "2335          an\n",
       "2336        None\n",
       "2337        None\n",
       "2338        None\n",
       "2339        None\n",
       "2340        None\n",
       "2341        None\n",
       "2342        None\n",
       "2343        None\n",
       "2344        None\n",
       "2345         the\n",
       "2346         the\n",
       "2347           a\n",
       "2348           a\n",
       "2349          an\n",
       "2350           a\n",
       "2351        None\n",
       "2352           a\n",
       "2353           a\n",
       "2354           a\n",
       "2355        None\n",
       "Name: name, Length: 2356, dtype: object"
      ]
     },
     "execution_count": 10,
     "metadata": {},
     "output_type": "execute_result"
    }
   ],
   "source": [
    "archive.name"
   ]
  },
  {
   "cell_type": "code",
   "execution_count": 11,
   "metadata": {},
   "outputs": [
    {
     "data": {
      "text/plain": [
       "None         745\n",
       "a             55\n",
       "Charlie       12\n",
       "Cooper        11\n",
       "Lucy          11\n",
       "Oliver        11\n",
       "Tucker        10\n",
       "Penny         10\n",
       "Lola          10\n",
       "Bo             9\n",
       "Winston        9\n",
       "the            8\n",
       "Sadie          8\n",
       "Buddy          7\n",
       "an             7\n",
       "Bailey         7\n",
       "Toby           7\n",
       "Daisy          7\n",
       "Jax            6\n",
       "Jack           6\n",
       "Bella          6\n",
       "Dave           6\n",
       "Leo            6\n",
       "Milo           6\n",
       "Scout          6\n",
       "Stanley        6\n",
       "Rusty          6\n",
       "Oscar          6\n",
       "Koda           6\n",
       "Finn           5\n",
       "            ... \n",
       "Hubertson      1\n",
       "Ivar           1\n",
       "Erik           1\n",
       "Kenzie         1\n",
       "Trigger        1\n",
       "Jim            1\n",
       "Ember          1\n",
       "Jeremy         1\n",
       "Marvin         1\n",
       "Bluebert       1\n",
       "Andy           1\n",
       "Lenox          1\n",
       "Sobe           1\n",
       "Jameson        1\n",
       "Fido           1\n",
       "Loomis         1\n",
       "Bobb           1\n",
       "Bobble         1\n",
       "life           1\n",
       "Ron            1\n",
       "Noosh          1\n",
       "Skye           1\n",
       "Acro           1\n",
       "Stella         1\n",
       "Kota           1\n",
       "Sid            1\n",
       "Remus          1\n",
       "Dietrich       1\n",
       "Brooks         1\n",
       "Combo          1\n",
       "Name: name, Length: 957, dtype: int64"
      ]
     },
     "execution_count": 11,
     "metadata": {},
     "output_type": "execute_result"
    }
   ],
   "source": [
    "archive.name.value_counts()"
   ]
  },
  {
   "cell_type": "code",
   "execution_count": 12,
   "metadata": {},
   "outputs": [
    {
     "name": "stdout",
     "output_type": "stream",
     "text": [
      "<class 'pandas.core.frame.DataFrame'>\n",
      "RangeIndex: 2354 entries, 0 to 2353\n",
      "Data columns (total 3 columns):\n",
      "tweet_id          2354 non-null int64\n",
      "retweet_count     2354 non-null int64\n",
      "favorite_count    2354 non-null int64\n",
      "dtypes: int64(3)\n",
      "memory usage: 55.2 KB\n"
     ]
    }
   ],
   "source": [
    "tweet_data.info()"
   ]
  },
  {
   "cell_type": "markdown",
   "metadata": {},
   "source": [
    "### Quality issues\n",
    "1. the columns name in the image table\n",
    "\n",
    "2. the dog mya is miss spilled\n",
    "\n",
    "3. ratig denominator that are not equal to ten\n",
    "\n",
    "4. rating numerator that are less than ten \n",
    "\n",
    "5. the null vales \n",
    "\n",
    "6. timestamp of wrong data type\n",
    "\n",
    "7. the dog names with the lower case\n",
    "\n",
    "8. dog names that are (a,an,the,none)\n",
    "\n",
    "\n",
    "\n"
   ]
  },
  {
   "cell_type": "markdown",
   "metadata": {
    "extensions": {
     "jupyter_dashboards": {
      "version": 1,
      "views": {
       "grid_default": {
        "col": 0,
        "height": 7,
        "hidden": false,
        "row": 40,
        "width": 12
       },
       "report_default": {
        "hidden": false
       }
      }
     }
    }
   },
   "source": [
    "### Tidiness issues\n",
    "1. the three seperate columns\n",
    "\n",
    "2. columns that i don't need"
   ]
  },
  {
   "cell_type": "markdown",
   "metadata": {
    "extensions": {
     "jupyter_dashboards": {
      "version": 1,
      "views": {
       "grid_default": {
        "col": 4,
        "height": 4,
        "hidden": false,
        "row": 32,
        "width": 4
       },
       "report_default": {
        "hidden": false
       }
      }
     }
    }
   },
   "source": [
    "## Cleaning Data\n",
    "In this section, clean **all** of the issues you documented while assessing. \n",
    "\n",
    "**Note:** Make a copy of the original data before cleaning. Cleaning includes merging individual pieces of data according to the rules of [tidy data](https://cran.r-project.org/web/packages/tidyr/vignettes/tidy-data.html). The result should be a high-quality and tidy master pandas DataFrame (or DataFrames, if appropriate)."
   ]
  },
  {
   "cell_type": "code",
   "execution_count": 13,
   "metadata": {},
   "outputs": [],
   "source": [
    "# Make copies of original pieces of data\n",
    "archive_copy = archive.copy()\n",
    "image_copy= image.copy()\n",
    "tweet_copy = tweet_data.copy()"
   ]
  },
  {
   "cell_type": "markdown",
   "metadata": {},
   "source": [
    "### Issue #1:"
   ]
  },
  {
   "cell_type": "markdown",
   "metadata": {},
   "source": [
    "#### Define:\n",
    "\n",
    "1. drop the unneeded columns for my analysis from the archive table using the drop function \n",
    "\n",
    "2. merge the coulmn together "
   ]
  },
  {
   "cell_type": "markdown",
   "metadata": {},
   "source": [
    "#### Code"
   ]
  },
  {
   "cell_type": "code",
   "execution_count": 14,
   "metadata": {},
   "outputs": [],
   "source": [
    "not_needed = archive_copy['retweeted_status_id'].value_counts()\n",
    "unique_retweeted_ids = not_needed[not_needed == 1].index\n",
    "archive_copy = archive_copy[~archive_copy['retweeted_status_id'].isin(unique_retweeted_ids)]"
   ]
  },
  {
   "cell_type": "code",
   "execution_count": 15,
   "metadata": {},
   "outputs": [
    {
     "name": "stdout",
     "output_type": "stream",
     "text": [
      "<class 'pandas.core.frame.DataFrame'>\n",
      "Int64Index: 2175 entries, 0 to 2355\n",
      "Data columns (total 17 columns):\n",
      "tweet_id                      2175 non-null int64\n",
      "in_reply_to_status_id         78 non-null float64\n",
      "in_reply_to_user_id           78 non-null float64\n",
      "timestamp                     2175 non-null object\n",
      "source                        2175 non-null object\n",
      "text                          2175 non-null object\n",
      "retweeted_status_id           0 non-null float64\n",
      "retweeted_status_user_id      0 non-null float64\n",
      "retweeted_status_timestamp    0 non-null object\n",
      "expanded_urls                 2117 non-null object\n",
      "rating_numerator              2175 non-null int64\n",
      "rating_denominator            2175 non-null int64\n",
      "name                          2175 non-null object\n",
      "doggo                         2175 non-null object\n",
      "floofer                       2175 non-null object\n",
      "pupper                        2175 non-null object\n",
      "puppo                         2175 non-null object\n",
      "dtypes: float64(4), int64(3), object(10)\n",
      "memory usage: 305.9+ KB\n"
     ]
    }
   ],
   "source": [
    "archive_copy.info()"
   ]
  },
  {
   "cell_type": "code",
   "execution_count": 16,
   "metadata": {},
   "outputs": [],
   "source": [
    "\n",
    "columns_not_needed = ['in_reply_to_status_id','in_reply_to_user_id','retweeted_status_id','retweeted_status_user_id','retweeted_status_timestamp','text']\n",
    "archive_copy.drop(columns_not_needed,axis=1,inplace=True)"
   ]
  },
  {
   "cell_type": "markdown",
   "metadata": {},
   "source": [
    "#### Test"
   ]
  },
  {
   "cell_type": "code",
   "execution_count": 17,
   "metadata": {
    "scrolled": true
   },
   "outputs": [
    {
     "name": "stdout",
     "output_type": "stream",
     "text": [
      "<class 'pandas.core.frame.DataFrame'>\n",
      "Int64Index: 2175 entries, 0 to 2355\n",
      "Data columns (total 11 columns):\n",
      "tweet_id              2175 non-null int64\n",
      "timestamp             2175 non-null object\n",
      "source                2175 non-null object\n",
      "expanded_urls         2117 non-null object\n",
      "rating_numerator      2175 non-null int64\n",
      "rating_denominator    2175 non-null int64\n",
      "name                  2175 non-null object\n",
      "doggo                 2175 non-null object\n",
      "floofer               2175 non-null object\n",
      "pupper                2175 non-null object\n",
      "puppo                 2175 non-null object\n",
      "dtypes: int64(3), object(8)\n",
      "memory usage: 203.9+ KB\n"
     ]
    }
   ],
   "source": [
    "archive_copy.info()"
   ]
  },
  {
   "cell_type": "code",
   "execution_count": 18,
   "metadata": {},
   "outputs": [],
   "source": [
    "archive_tweet_1 = pd.merge(archive_copy,tweet_copy,on='tweet_id',how='left')\n",
    "final_table = pd.merge(archive_tweet_1,image_copy,on='tweet_id',how='inner')"
   ]
  },
  {
   "cell_type": "code",
   "execution_count": 19,
   "metadata": {},
   "outputs": [
    {
     "name": "stdout",
     "output_type": "stream",
     "text": [
      "<class 'pandas.core.frame.DataFrame'>\n",
      "Int64Index: 1994 entries, 0 to 1993\n",
      "Data columns (total 24 columns):\n",
      "tweet_id              1994 non-null int64\n",
      "timestamp             1994 non-null object\n",
      "source                1994 non-null object\n",
      "expanded_urls         1994 non-null object\n",
      "rating_numerator      1994 non-null int64\n",
      "rating_denominator    1994 non-null int64\n",
      "name                  1994 non-null object\n",
      "doggo                 1994 non-null object\n",
      "floofer               1994 non-null object\n",
      "pupper                1994 non-null object\n",
      "puppo                 1994 non-null object\n",
      "retweet_count         1994 non-null int64\n",
      "favorite_count        1994 non-null int64\n",
      "jpg_url               1994 non-null object\n",
      "img_num               1994 non-null int64\n",
      "p1                    1994 non-null object\n",
      "p1_conf               1994 non-null float64\n",
      "p1_dog                1994 non-null bool\n",
      "p2                    1994 non-null object\n",
      "p2_conf               1994 non-null float64\n",
      "p2_dog                1994 non-null bool\n",
      "p3                    1994 non-null object\n",
      "p3_conf               1994 non-null float64\n",
      "p3_dog                1994 non-null bool\n",
      "dtypes: bool(3), float64(3), int64(6), object(12)\n",
      "memory usage: 348.6+ KB\n"
     ]
    }
   ],
   "source": [
    "final_table.info()"
   ]
  },
  {
   "cell_type": "markdown",
   "metadata": {},
   "source": [
    "### Issue #2:"
   ]
  },
  {
   "cell_type": "markdown",
   "metadata": {
    "collapsed": true,
    "extensions": {
     "jupyter_dashboards": {
      "version": 1,
      "views": {
       "grid_default": {
        "hidden": true
       },
       "report_default": {
        "hidden": true
       }
      }
     }
    }
   },
   "source": [
    "#### Define\n",
    "1. correct the mya dog name and convert it to maya\n",
    "2. remove the null values\n",
    "3. remove the dof names that begin with (a,an,the,None)\n",
    "4. capitalize the first litter of the dogs name\n",
    "5. make all the rating ddemonater is equal to 10 \n",
    "6. remove the numorator that are less than 10 \n",
    "7. change the data type of tymestamp to a date time data type \n",
    "8. fix the columns name"
   ]
  },
  {
   "cell_type": "markdown",
   "metadata": {},
   "source": [
    "#### Code"
   ]
  },
  {
   "cell_type": "code",
   "execution_count": 20,
   "metadata": {},
   "outputs": [],
   "source": [
    "final_table.name = final_table.name.replace('mya','Maya')"
   ]
  },
  {
   "cell_type": "markdown",
   "metadata": {},
   "source": [
    "#### Test"
   ]
  },
  {
   "cell_type": "code",
   "execution_count": 21,
   "metadata": {
    "scrolled": true
   },
   "outputs": [
    {
     "data": {
      "text/html": [
       "<div>\n",
       "<style scoped>\n",
       "    .dataframe tbody tr th:only-of-type {\n",
       "        vertical-align: middle;\n",
       "    }\n",
       "\n",
       "    .dataframe tbody tr th {\n",
       "        vertical-align: top;\n",
       "    }\n",
       "\n",
       "    .dataframe thead th {\n",
       "        text-align: right;\n",
       "    }\n",
       "</style>\n",
       "<table border=\"1\" class=\"dataframe\">\n",
       "  <thead>\n",
       "    <tr style=\"text-align: right;\">\n",
       "      <th></th>\n",
       "      <th>tweet_id</th>\n",
       "      <th>timestamp</th>\n",
       "      <th>source</th>\n",
       "      <th>expanded_urls</th>\n",
       "      <th>rating_numerator</th>\n",
       "      <th>rating_denominator</th>\n",
       "      <th>name</th>\n",
       "      <th>doggo</th>\n",
       "      <th>floofer</th>\n",
       "      <th>pupper</th>\n",
       "      <th>...</th>\n",
       "      <th>img_num</th>\n",
       "      <th>p1</th>\n",
       "      <th>p1_conf</th>\n",
       "      <th>p1_dog</th>\n",
       "      <th>p2</th>\n",
       "      <th>p2_conf</th>\n",
       "      <th>p2_dog</th>\n",
       "      <th>p3</th>\n",
       "      <th>p3_conf</th>\n",
       "      <th>p3_dog</th>\n",
       "    </tr>\n",
       "  </thead>\n",
       "  <tbody>\n",
       "    <tr>\n",
       "      <th>25</th>\n",
       "      <td>886983233522544640</td>\n",
       "      <td>2017-07-17 16:17:36 +0000</td>\n",
       "      <td>&lt;a href=\"http://twitter.com/download/iphone\" r...</td>\n",
       "      <td>https://twitter.com/dog_rates/status/886983233...</td>\n",
       "      <td>13</td>\n",
       "      <td>10</td>\n",
       "      <td>Maya</td>\n",
       "      <td>None</td>\n",
       "      <td>None</td>\n",
       "      <td>None</td>\n",
       "      <td>...</td>\n",
       "      <td>2</td>\n",
       "      <td>Chihuahua</td>\n",
       "      <td>0.793469</td>\n",
       "      <td>True</td>\n",
       "      <td>toy_terrier</td>\n",
       "      <td>0.143528</td>\n",
       "      <td>True</td>\n",
       "      <td>can_opener</td>\n",
       "      <td>0.032253</td>\n",
       "      <td>False</td>\n",
       "    </tr>\n",
       "  </tbody>\n",
       "</table>\n",
       "<p>1 rows × 24 columns</p>\n",
       "</div>"
      ],
      "text/plain": [
       "              tweet_id                  timestamp  \\\n",
       "25  886983233522544640  2017-07-17 16:17:36 +0000   \n",
       "\n",
       "                                               source  \\\n",
       "25  <a href=\"http://twitter.com/download/iphone\" r...   \n",
       "\n",
       "                                        expanded_urls  rating_numerator  \\\n",
       "25  https://twitter.com/dog_rates/status/886983233...                13   \n",
       "\n",
       "    rating_denominator  name doggo floofer pupper   ...   img_num         p1  \\\n",
       "25                  10  Maya  None    None   None   ...         2  Chihuahua   \n",
       "\n",
       "     p1_conf p1_dog           p2   p2_conf  p2_dog          p3   p3_conf  \\\n",
       "25  0.793469   True  toy_terrier  0.143528    True  can_opener  0.032253   \n",
       "\n",
       "    p3_dog  \n",
       "25   False  \n",
       "\n",
       "[1 rows x 24 columns]"
      ]
     },
     "execution_count": 21,
     "metadata": {},
     "output_type": "execute_result"
    }
   ],
   "source": [
    "final_table[final_table.name=='Maya']"
   ]
  },
  {
   "cell_type": "code",
   "execution_count": 22,
   "metadata": {},
   "outputs": [],
   "source": [
    "final_table= final_table.dropna()"
   ]
  },
  {
   "cell_type": "code",
   "execution_count": 23,
   "metadata": {},
   "outputs": [
    {
     "name": "stdout",
     "output_type": "stream",
     "text": [
      "<class 'pandas.core.frame.DataFrame'>\n",
      "Int64Index: 1994 entries, 0 to 1993\n",
      "Data columns (total 24 columns):\n",
      "tweet_id              1994 non-null int64\n",
      "timestamp             1994 non-null object\n",
      "source                1994 non-null object\n",
      "expanded_urls         1994 non-null object\n",
      "rating_numerator      1994 non-null int64\n",
      "rating_denominator    1994 non-null int64\n",
      "name                  1994 non-null object\n",
      "doggo                 1994 non-null object\n",
      "floofer               1994 non-null object\n",
      "pupper                1994 non-null object\n",
      "puppo                 1994 non-null object\n",
      "retweet_count         1994 non-null int64\n",
      "favorite_count        1994 non-null int64\n",
      "jpg_url               1994 non-null object\n",
      "img_num               1994 non-null int64\n",
      "p1                    1994 non-null object\n",
      "p1_conf               1994 non-null float64\n",
      "p1_dog                1994 non-null bool\n",
      "p2                    1994 non-null object\n",
      "p2_conf               1994 non-null float64\n",
      "p2_dog                1994 non-null bool\n",
      "p3                    1994 non-null object\n",
      "p3_conf               1994 non-null float64\n",
      "p3_dog                1994 non-null bool\n",
      "dtypes: bool(3), float64(3), int64(6), object(12)\n",
      "memory usage: 348.6+ KB\n"
     ]
    }
   ],
   "source": [
    "final_table.info()"
   ]
  },
  {
   "cell_type": "code",
   "execution_count": 24,
   "metadata": {},
   "outputs": [],
   "source": [
    "final_table = final_table[~final_table['name'].isin(['a', 'the','an','None'])]"
   ]
  },
  {
   "cell_type": "code",
   "execution_count": 25,
   "metadata": {},
   "outputs": [
    {
     "name": "stdout",
     "output_type": "stream",
     "text": [
      "<class 'pandas.core.frame.DataFrame'>\n",
      "Int64Index: 1380 entries, 0 to 1964\n",
      "Data columns (total 24 columns):\n",
      "tweet_id              1380 non-null int64\n",
      "timestamp             1380 non-null object\n",
      "source                1380 non-null object\n",
      "expanded_urls         1380 non-null object\n",
      "rating_numerator      1380 non-null int64\n",
      "rating_denominator    1380 non-null int64\n",
      "name                  1380 non-null object\n",
      "doggo                 1380 non-null object\n",
      "floofer               1380 non-null object\n",
      "pupper                1380 non-null object\n",
      "puppo                 1380 non-null object\n",
      "retweet_count         1380 non-null int64\n",
      "favorite_count        1380 non-null int64\n",
      "jpg_url               1380 non-null object\n",
      "img_num               1380 non-null int64\n",
      "p1                    1380 non-null object\n",
      "p1_conf               1380 non-null float64\n",
      "p1_dog                1380 non-null bool\n",
      "p2                    1380 non-null object\n",
      "p2_conf               1380 non-null float64\n",
      "p2_dog                1380 non-null bool\n",
      "p3                    1380 non-null object\n",
      "p3_conf               1380 non-null float64\n",
      "p3_dog                1380 non-null bool\n",
      "dtypes: bool(3), float64(3), int64(6), object(12)\n",
      "memory usage: 241.2+ KB\n"
     ]
    }
   ],
   "source": [
    "final_table.info()"
   ]
  },
  {
   "cell_type": "code",
   "execution_count": 26,
   "metadata": {},
   "outputs": [],
   "source": [
    "final_table['name'] = final_table['name'].astype(str).str.capitalize()"
   ]
  },
  {
   "cell_type": "code",
   "execution_count": 27,
   "metadata": {},
   "outputs": [
    {
     "data": {
      "text/plain": [
       "0          Phineas\n",
       "1            Tilly\n",
       "2           Archie\n",
       "3            Darla\n",
       "4         Franklin\n",
       "6              Jax\n",
       "8             Zoey\n",
       "9           Cassie\n",
       "10            Koda\n",
       "11           Bruno\n",
       "13             Ted\n",
       "14          Stuart\n",
       "15          Oliver\n",
       "16             Jim\n",
       "17            Zeke\n",
       "18         Ralphus\n",
       "19          Gerald\n",
       "20         Jeffrey\n",
       "21            Such\n",
       "22          Canela\n",
       "25            Maya\n",
       "26          Mingus\n",
       "27           Derek\n",
       "28          Roscoe\n",
       "29         Waffles\n",
       "30           Jimbo\n",
       "31          Maisey\n",
       "33            Earl\n",
       "34            Lola\n",
       "35           Kevin\n",
       "           ...    \n",
       "1909          Hall\n",
       "1910      Philippe\n",
       "1913         Reese\n",
       "1914       Cupcake\n",
       "1918         Biden\n",
       "1919          Fwed\n",
       "1921     Genevieve\n",
       "1922        Joshwa\n",
       "1925       Timison\n",
       "1928      Clarence\n",
       "1929       Kenneth\n",
       "1930       Churlie\n",
       "1931       Bradlay\n",
       "1932         Pipsy\n",
       "1934          Gabe\n",
       "1935         Clybe\n",
       "1936          Dave\n",
       "1938          Keet\n",
       "1940        Klevin\n",
       "1941         Carll\n",
       "1946          Jeph\n",
       "1947       Jockson\n",
       "1950         Josep\n",
       "1951         Lugan\n",
       "1953    Christoper\n",
       "1955       Jimothy\n",
       "1956      Kreggory\n",
       "1957         Scout\n",
       "1963        Walter\n",
       "1964         Quite\n",
       "Name: name, Length: 1380, dtype: object"
      ]
     },
     "execution_count": 27,
     "metadata": {},
     "output_type": "execute_result"
    }
   ],
   "source": [
    "final_table['name']"
   ]
  },
  {
   "cell_type": "code",
   "execution_count": 38,
   "metadata": {},
   "outputs": [],
   "source": [
    "final_table['rating_denominator'] =10"
   ]
  },
  {
   "cell_type": "code",
   "execution_count": 39,
   "metadata": {},
   "outputs": [
    {
     "data": {
      "text/plain": [
       "10    1123\n",
       "Name: rating_denominator, dtype: int64"
      ]
     },
     "execution_count": 39,
     "metadata": {},
     "output_type": "execute_result"
    }
   ],
   "source": [
    "final_table.rating_denominator.value_counts()"
   ]
  },
  {
   "cell_type": "code",
   "execution_count": 40,
   "metadata": {},
   "outputs": [],
   "source": [
    "final_table = final_table[final_table['rating_numerator']>=10]"
   ]
  },
  {
   "cell_type": "code",
   "execution_count": 41,
   "metadata": {},
   "outputs": [
    {
     "data": {
      "text/plain": [
       "12      334\n",
       "11      306\n",
       "10      279\n",
       "13      178\n",
       "14       20\n",
       "1776      1\n",
       "204       1\n",
       "75        1\n",
       "50        1\n",
       "27        1\n",
       "24        1\n",
       "Name: rating_numerator, dtype: int64"
      ]
     },
     "execution_count": 41,
     "metadata": {},
     "output_type": "execute_result"
    }
   ],
   "source": [
    "final_table['rating_numerator'].value_counts()"
   ]
  },
  {
   "cell_type": "code",
   "execution_count": 42,
   "metadata": {},
   "outputs": [],
   "source": [
    "final_table['timestamp'] = pd.to_datetime(final_table['timestamp'])"
   ]
  },
  {
   "cell_type": "code",
   "execution_count": 43,
   "metadata": {},
   "outputs": [
    {
     "name": "stdout",
     "output_type": "stream",
     "text": [
      "<class 'pandas.core.frame.DataFrame'>\n",
      "Int64Index: 1123 entries, 0 to 1963\n",
      "Data columns (total 24 columns):\n",
      "tweet_id                          1123 non-null int64\n",
      "timestamp                         1123 non-null datetime64[ns]\n",
      "source                            1123 non-null object\n",
      "expanded_urls                     1123 non-null object\n",
      "rating_numerator                  1123 non-null int64\n",
      "rating_denominator                1123 non-null int64\n",
      "name                              1123 non-null object\n",
      "doggo                             1123 non-null object\n",
      "floofer                           1123 non-null object\n",
      "pupper                            1123 non-null object\n",
      "puppo                             1123 non-null object\n",
      "retweet_count                     1123 non-null int64\n",
      "favorite_count                    1123 non-null int64\n",
      "jpg_url                           1123 non-null object\n",
      "img_num                           1123 non-null int64\n",
      "primary_prediction                1123 non-null object\n",
      "primary_prediction_confident      1123 non-null float64\n",
      "primary_prediction_result         1123 non-null bool\n",
      "secondary_prediction              1123 non-null object\n",
      "secondary_prediction_confident    1123 non-null float64\n",
      "secondary_prediction_result       1123 non-null bool\n",
      "tertiary_prediction               1123 non-null object\n",
      "tertiary_prediction_confident     1123 non-null float64\n",
      "tertiary_prediction_result        1123 non-null bool\n",
      "dtypes: bool(3), datetime64[ns](1), float64(3), int64(6), object(11)\n",
      "memory usage: 196.3+ KB\n"
     ]
    }
   ],
   "source": [
    "final_table.info()"
   ]
  },
  {
   "cell_type": "code",
   "execution_count": 44,
   "metadata": {},
   "outputs": [],
   "source": [
    "final_table.rename(columns={'p1':'primary_prediction',\n",
    "                          'p2':'secondary_prediction',\n",
    "                          'p3':'tertiary_prediction',\n",
    "                          'p1_conf':'primary_prediction_confident',\n",
    "                          'p2_conf':'secondary_prediction_confident',\n",
    "                          'p3_conf':'tertiary_prediction_confident',\n",
    "                          'p1_dog':'primary_prediction_result',\n",
    "                          'p2_dog':'secondary_prediction_result',\n",
    "                          'p3_dog':'tertiary_prediction_result'},inplace= True)"
   ]
  },
  {
   "cell_type": "code",
   "execution_count": 45,
   "metadata": {},
   "outputs": [
    {
     "name": "stdout",
     "output_type": "stream",
     "text": [
      "<class 'pandas.core.frame.DataFrame'>\n",
      "Int64Index: 1123 entries, 0 to 1963\n",
      "Data columns (total 24 columns):\n",
      "tweet_id                          1123 non-null int64\n",
      "timestamp                         1123 non-null datetime64[ns]\n",
      "source                            1123 non-null object\n",
      "expanded_urls                     1123 non-null object\n",
      "rating_numerator                  1123 non-null int64\n",
      "rating_denominator                1123 non-null int64\n",
      "name                              1123 non-null object\n",
      "doggo                             1123 non-null object\n",
      "floofer                           1123 non-null object\n",
      "pupper                            1123 non-null object\n",
      "puppo                             1123 non-null object\n",
      "retweet_count                     1123 non-null int64\n",
      "favorite_count                    1123 non-null int64\n",
      "jpg_url                           1123 non-null object\n",
      "img_num                           1123 non-null int64\n",
      "primary_prediction                1123 non-null object\n",
      "primary_prediction_confident      1123 non-null float64\n",
      "primary_prediction_result         1123 non-null bool\n",
      "secondary_prediction              1123 non-null object\n",
      "secondary_prediction_confident    1123 non-null float64\n",
      "secondary_prediction_result       1123 non-null bool\n",
      "tertiary_prediction               1123 non-null object\n",
      "tertiary_prediction_confident     1123 non-null float64\n",
      "tertiary_prediction_result        1123 non-null bool\n",
      "dtypes: bool(3), datetime64[ns](1), float64(3), int64(6), object(11)\n",
      "memory usage: 196.3+ KB\n"
     ]
    }
   ],
   "source": [
    "final_table.info()"
   ]
  },
  {
   "cell_type": "markdown",
   "metadata": {},
   "source": [
    "## Storing Data\n",
    "Save gathered, assessed, and cleaned master dataset to a CSV file named \"twitter_archive_master.csv\"."
   ]
  },
  {
   "cell_type": "code",
   "execution_count": 46,
   "metadata": {},
   "outputs": [
    {
     "name": "stdout",
     "output_type": "stream",
     "text": [
      "<class 'pandas.core.frame.DataFrame'>\n",
      "RangeIndex: 1123 entries, 0 to 1122\n",
      "Data columns (total 24 columns):\n",
      "tweet_id                          1123 non-null int64\n",
      "timestamp                         1123 non-null object\n",
      "source                            1123 non-null object\n",
      "expanded_urls                     1123 non-null object\n",
      "rating_numerator                  1123 non-null int64\n",
      "rating_denominator                1123 non-null int64\n",
      "name                              1123 non-null object\n",
      "doggo                             1123 non-null object\n",
      "floofer                           1123 non-null object\n",
      "pupper                            1123 non-null object\n",
      "puppo                             1123 non-null object\n",
      "retweet_count                     1123 non-null int64\n",
      "favorite_count                    1123 non-null int64\n",
      "jpg_url                           1123 non-null object\n",
      "img_num                           1123 non-null int64\n",
      "primary_prediction                1123 non-null object\n",
      "primary_prediction_confident      1123 non-null float64\n",
      "primary_prediction_result         1123 non-null bool\n",
      "secondary_prediction              1123 non-null object\n",
      "secondary_prediction_confident    1123 non-null float64\n",
      "secondary_prediction_result       1123 non-null bool\n",
      "tertiary_prediction               1123 non-null object\n",
      "tertiary_prediction_confident     1123 non-null float64\n",
      "tertiary_prediction_result        1123 non-null bool\n",
      "dtypes: bool(3), float64(3), int64(6), object(12)\n",
      "memory usage: 187.6+ KB\n"
     ]
    }
   ],
   "source": [
    "final_table.to_csv('twitter_archive_master.csv',index = False)\n",
    "df = pd.read_csv('twitter_archive_master.csv')\n",
    "df.info()"
   ]
  },
  {
   "cell_type": "markdown",
   "metadata": {},
   "source": [
    "## Analyzing and Visualizing Data\n",
    "In this section, analyze and visualize your wrangled data. You must produce at least **three (3) insights and one (1) visualization.**"
   ]
  },
  {
   "cell_type": "code",
   "execution_count": 48,
   "metadata": {},
   "outputs": [
    {
     "data": {
      "text/plain": [
       "(array([ 932.,    0.,    0.,  130.,    0.,    0.,   37.,    0.,    0.,   24.]),\n",
       " array([ 1. ,  1.3,  1.6,  1.9,  2.2,  2.5,  2.8,  3.1,  3.4,  3.7,  4. ]),\n",
       " <a list of 10 Patch objects>)"
      ]
     },
     "execution_count": 48,
     "metadata": {},
     "output_type": "execute_result"
    },
    {
     "data": {
      "image/png": "[encoded data removed]",
      "text/plain": [
       "<matplotlib.figure.Figure at 0x7fc31c6d8320>"
      ]
     },
     "metadata": {
      "needs_background": "light"
     },
     "output_type": "display_data"
    }
   ],
   "source": [
    "plt.hist(df['img_num'])"
   ]
  },
  {
   "cell_type": "code",
   "execution_count": 49,
   "metadata": {},
   "outputs": [
    {
     "data": {
      "text/plain": [
       "<matplotlib.axes._subplots.AxesSubplot at 0x7fc31bee3710>"
      ]
     },
     "execution_count": 49,
     "metadata": {},
     "output_type": "execute_result"
    },
    {
     "data": {
      "image/png": "[encoded data removed]",
      "text/plain": [
       "<matplotlib.figure.Figure at 0x7fc31c768d68>"
      ]
     },
     "metadata": {
      "needs_background": "light"
     },
     "output_type": "display_data"
    }
   ],
   "source": [
    "df.plot(kind ='scatter',x='retweet_count',y='favorite_count')"
   ]
  },
  {
   "cell_type": "code",
   "execution_count": 50,
   "metadata": {},
   "outputs": [
    {
     "data": {
      "text/plain": [
       "<matplotlib.axes._subplots.AxesSubplot at 0x7fc31be935f8>"
      ]
     },
     "execution_count": 50,
     "metadata": {},
     "output_type": "execute_result"
    },
    {
     "data": {
      "image/png": "[encoded data removed]",
      "text/plain": [
       "<matplotlib.figure.Figure at 0x7fc31bef1ef0>"
      ]
     },
     "metadata": {
      "needs_background": "light"
     },
     "output_type": "display_data"
    }
   ],
   "source": [
    "df.plot(kind ='scatter',x='img_num',y='retweet_count')"
   ]
  },
  {
   "cell_type": "markdown",
   "metadata": {},
   "source": [
    "### Insights:\n",
    "1. the number of images that was posted was only one image\n",
    "\n",
    "2. the is a positive and a reltively strong assossiation between the number of retweet and the favorite count\n",
    "\n",
    "3. from the second scatter i draw i dont see a significant association between the numbe"
   ]
  },
  {
   "cell_type": "markdown",
   "metadata": {
    "collapsed": true
   },
   "source": [
    "### Visualization"
   ]
  },
  {
   "cell_type": "code",
   "execution_count": null,
   "metadata": {},
   "outputs": [],
   "source": []
  }
 ],
 "metadata": {
  "extensions": {
   "jupyter_dashboards": {
    "activeView": "report_default",
    "version": 1,
    "views": {
     "grid_default": {
      "cellMargin": 10,
      "defaultCellHeight": 20,
      "maxColumns": 12,
      "name": "grid",
      "type": "grid"
     },
     "report_default": {
      "name": "report",
      "type": "report"
     }
    }
   }
  },
  "kernelspec": {
   "display_name": "Python 3",
   "language": "python",
   "name": "python3"
  },
  "language_info": {
   "codemirror_mode": {
    "name": "ipython",
    "version": 3
   },
   "file_extension": ".py",
   "mimetype": "text/x-python",
   "name": "python",
   "nbconvert_exporter": "python",
   "pygments_lexer": "ipython3",
   "version": "3.6.3"
  }
 },
 "nbformat": 4,
 "nbformat_minor": 2
}
