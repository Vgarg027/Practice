{
 "cells": [
  {
   "cell_type": "markdown",
   "metadata": {
    "extensions": {
     "jupyter_dashboards": {
      "version": 1,
      "views": {
       "grid_default": {
        "col": 0,
        "height": 4,
        "hidden": false,
        "row": 0,
        "width": 4
       },
       "report_default": {
        "hidden": false
       }
      }
     }
    }
   },
   "source": [
    "# Project: Wrangling and Analyze Data"
   ]
  },
  {
   "cell_type": "markdown",
   "metadata": {},
   "source": [
    "<a id=\"toc\"></a>\n",
    "## ToC\n",
    "1. [Setting things up](#set_up)\n",
    "2. [Data Gathering](#data_gathering)\n",
    "  1. [archive data](#twitter_archive_enhanced)\n",
    "  2. [image prediction](#image_predictions)\n",
    "  3. [additional data](#tweet_json)\n",
    "3. [Assessing Data](#assessing_data)\n",
    "4. [The issues](#issues)\n",
    "  1. [Quality issues](#quality_issues)\n",
    "  2. [Tidiness issues](#tidiness_issues)\n",
    "5. [Cleaning Data](#cleaning_data)\n",
    "  1. [Quality issues](#cleaning_quality_issues)\n",
    "    1. [in_reply_to_status_id is float](#in_reply_to_status_id)\n",
    "    2. [in_reply_to_user_id is float](#in_reply_to_user_id)\n",
    "    3. [timestamp is string](#timestamp)\n",
    "    4. [retweeted_status_id is float](#retweeted_status_id)\n",
    "    5. [retweeted_status_user_id is float](#retweeted_status_user_id)\n",
    "    6. [retweeted_status_timestamp is string](#retweeted_status_timestamp)\n",
    "    7. [tweet_id is int](#tweet_id)\n",
    "    8. [id is int](#id_)\n",
    "    9. [id_str is int](#id_str)\n",
    "    10. [in_reply_to_status_id_2 is float](#in_reply_to_status_id_2)\n",
    "    11. [in_reply_to_status_id_str is float](#in_reply_to_status_id_str)\n",
    "    12. [in_reply_to_user_id_2 is float](#in_reply_to_user_id_2)\n",
    "    13. [in_reply_to_user_id_str is float](#in_reply_to_user_id_str)\n",
    "    14. [quoted_status_id is float](#quoted_status_id)\n",
    "    15. [quoted_status_id_str is float](#quoted_status_id_str)\n",
    "    16. [possibly_sensitive is always 0](#possibly_sensitive)\n",
    "    17. [possibly_sensitive_appealable is always 0](#possibly_sensitive_appealable)\n",
    "    18. [contributors has no values](#contributors)\n",
    "    19. [coordinates has no values](#coordinates)\n",
    "    20. [geo has no values](#geo)\n",
    "    21. [4 records are not ratings](#not_ratings)\n",
    "    22. [5 records with incorrect ratings](#incorrect_ratings)\n",
    "    23. [1 duplicated record](#duplicated_record)\n",
    "    24. [some of the data is retweets](#retweets)\n",
    "  2. [Tidiness issues](#tidiness_quality_issues)\n",
    "    1. [Nulls represented as None](#name_)\n",
    "    2. [doggo, floofer, pupper, and puppo should be one column](#dog_stage)\n",
    "    3. [in_reply_to_status_id_2 is redundant](#_in_reply_to_status_id_2)\n",
    "    4. [in_reply_to_user_id_2 is redundant](#_in_reply_to_user_id_2)\n",
    "    5. [source_2 is redundant](#_source_2)\n",
    "    6. [id is redundant](#_id)\n",
    "    7. [id_str is redundant](#_id_str)\n",
    "    8. [in_reply_to_status_id_str is redundant](#_in_reply_to_status_id_str)\n",
    "    9. [in_reply_to_user_id_str is redundant](#_in_reply_to_user_id_str)\n",
    "    10. [quoted_status_id_str is redundant](#_quoted_status_id_str)\n",
    "6. [Storing Data](#storing_data)\n",
    "7. [Analyzing and Visualizing](#analyzing_visualizing)\n",
    "  1. [Which are the most common ratings?](#common_ratings)\n",
    "  2. [How often do the AI's agree with one another?](#a_i)\n",
    "  3. [How often does the channel tweet?](#channel_tweets)\n",
    "8. [Insights](#insights)\n",
    "9. [Visualization](#visualization)"
   ]
  },
  {
   "cell_type": "markdown",
   "metadata": {},
   "source": [
    "<a id=\"set_up\"></a>\n",
    "## Setting things up\n",
    "[Back to ToC](#toc)"
   ]
  },
  {
   "cell_type": "code",
   "execution_count": 3,
   "metadata": {},
   "outputs": [],
   "source": [
    "import pandas as pd\n",
    "pd.set_option('display.max_columns', 100)\n",
    "pd.set_option('display.max_colwidth', 1000)\n",
    "\n",
    "#!pip install -U tweepy==4.0\n",
    "import tweepy\n",
    "#tweepy_key = \"xxxxxx\"\n",
    "#tweepy_secret_key =\"xxxxxx\"\n",
    "#tweepy_auth = tweepy.AppAuthHandler(tweepy_key, tweepy_secret_key)\n",
    "#tweepy_api = tweepy.API(tweepy_auth, wait_on_rate_limit=True)\n",
    "\n",
    "import matplotlib.pyplot as plt\n",
    "import numpy as np\n",
    "import json\n",
    "import requests\n",
    "import os\n",
    "import io"
   ]
  },
  {
   "cell_type": "markdown",
   "metadata": {},
   "source": [
    "<a id=\"data_gathering\"></a>\n",
    "## Data Gathering\n",
    "[Back to ToC](#toc)\n",
    "\n",
    "In the cell below, gather **all** three pieces of data for this project and load them in the notebook. **Note:** the methods required to gather each data are different.\n",
    "<a id=\"twitter_archive_enhanced\"></a>\n",
    "1. Directly download the WeRateDogs Twitter archive data (twitter_archive_enhanced.csv)"
   ]
  },
  {
   "cell_type": "code",
   "execution_count": 4,
   "metadata": {
    "extensions": {
     "jupyter_dashboards": {
      "version": 1,
      "views": {
       "grid_default": {
        "hidden": true
       },
       "report_default": {
        "hidden": true
       }
      }
     }
    }
   },
   "outputs": [
    {
     "data": {
      "text/html": [
       "<div>\n",
       "<style scoped>\n",
       "    .dataframe tbody tr th:only-of-type {\n",
       "        vertical-align: middle;\n",
       "    }\n",
       "\n",
       "    .dataframe tbody tr th {\n",
       "        vertical-align: top;\n",
       "    }\n",
       "\n",
       "    .dataframe thead th {\n",
       "        text-align: right;\n",
       "    }\n",
       "</style>\n",
       "<table border=\"1\" class=\"dataframe\">\n",
       "  <thead>\n",
       "    <tr style=\"text-align: right;\">\n",
       "      <th></th>\n",
       "      <th>tweet_id</th>\n",
       "      <th>in_reply_to_status_id</th>\n",
       "      <th>in_reply_to_user_id</th>\n",
       "      <th>timestamp</th>\n",
       "      <th>source</th>\n",
       "      <th>text</th>\n",
       "      <th>retweeted_status_id</th>\n",
       "      <th>retweeted_status_user_id</th>\n",
       "      <th>retweeted_status_timestamp</th>\n",
       "      <th>expanded_urls</th>\n",
       "      <th>rating_numerator</th>\n",
       "      <th>rating_denominator</th>\n",
       "      <th>name</th>\n",
       "      <th>doggo</th>\n",
       "      <th>floofer</th>\n",
       "      <th>pupper</th>\n",
       "      <th>puppo</th>\n",
       "    </tr>\n",
       "  </thead>\n",
       "  <tbody>\n",
       "    <tr>\n",
       "      <th>507</th>\n",
       "      <td>812709060537683968</td>\n",
       "      <td>NaN</td>\n",
       "      <td>NaN</td>\n",
       "      <td>2016-12-24 17:18:34 +0000</td>\n",
       "      <td>&lt;a href=\"http://twitter.com/download/iphone\" rel=\"nofollow\"&gt;Twitter for iPhone&lt;/a&gt;</td>\n",
       "      <td>This is Brandi and Harley. They are practicing their caroling for later. Both 12/10 festive af https://t.co/AbBDuGZUpp</td>\n",
       "      <td>NaN</td>\n",
       "      <td>NaN</td>\n",
       "      <td>NaN</td>\n",
       "      <td>https://twitter.com/dog_rates/status/812709060537683968/photo/1</td>\n",
       "      <td>12</td>\n",
       "      <td>10</td>\n",
       "      <td>Brandi</td>\n",
       "      <td>None</td>\n",
       "      <td>None</td>\n",
       "      <td>None</td>\n",
       "      <td>None</td>\n",
       "    </tr>\n",
       "    <tr>\n",
       "      <th>733</th>\n",
       "      <td>781308096455073793</td>\n",
       "      <td>NaN</td>\n",
       "      <td>NaN</td>\n",
       "      <td>2016-09-29 01:42:20 +0000</td>\n",
       "      <td>&lt;a href=\"http://vine.co\" rel=\"nofollow\"&gt;Vine - Make a Scene&lt;/a&gt;</td>\n",
       "      <td>Pupper butt 1, Doggo 0. Both 12/10 https://t.co/WQvcPEpH2u</td>\n",
       "      <td>NaN</td>\n",
       "      <td>NaN</td>\n",
       "      <td>NaN</td>\n",
       "      <td>https://vine.co/v/5rgu2Law2ut</td>\n",
       "      <td>12</td>\n",
       "      <td>10</td>\n",
       "      <td>None</td>\n",
       "      <td>doggo</td>\n",
       "      <td>None</td>\n",
       "      <td>pupper</td>\n",
       "      <td>None</td>\n",
       "    </tr>\n",
       "    <tr>\n",
       "      <th>17</th>\n",
       "      <td>888804989199671297</td>\n",
       "      <td>NaN</td>\n",
       "      <td>NaN</td>\n",
       "      <td>2017-07-22 16:56:37 +0000</td>\n",
       "      <td>&lt;a href=\"http://twitter.com/download/iphone\" rel=\"nofollow\"&gt;Twitter for iPhone&lt;/a&gt;</td>\n",
       "      <td>This is Zeke. He has a new stick. Very proud of it. Would like you to throw it for him without taking it. 13/10 would do my best https://t.co/HTQ77yNQ5K</td>\n",
       "      <td>NaN</td>\n",
       "      <td>NaN</td>\n",
       "      <td>NaN</td>\n",
       "      <td>https://twitter.com/dog_rates/status/888804989199671297/photo/1,https://twitter.com/dog_rates/status/888804989199671297/photo/1</td>\n",
       "      <td>13</td>\n",
       "      <td>10</td>\n",
       "      <td>Zeke</td>\n",
       "      <td>None</td>\n",
       "      <td>None</td>\n",
       "      <td>None</td>\n",
       "      <td>None</td>\n",
       "    </tr>\n",
       "    <tr>\n",
       "      <th>792</th>\n",
       "      <td>773670353721753600</td>\n",
       "      <td>NaN</td>\n",
       "      <td>NaN</td>\n",
       "      <td>2016-09-07 23:52:41 +0000</td>\n",
       "      <td>&lt;a href=\"http://twitter.com/download/iphone\" rel=\"nofollow\"&gt;Twitter for iPhone&lt;/a&gt;</td>\n",
       "      <td>This is Shakespeare. He appears to be maximum level pettable. Born with no eyes tho (tragic). 10/10 probably wise https://t.co/rA8WUVOLBr</td>\n",
       "      <td>NaN</td>\n",
       "      <td>NaN</td>\n",
       "      <td>NaN</td>\n",
       "      <td>https://twitter.com/dog_rates/status/773670353721753600/photo/1</td>\n",
       "      <td>10</td>\n",
       "      <td>10</td>\n",
       "      <td>Shakespeare</td>\n",
       "      <td>None</td>\n",
       "      <td>None</td>\n",
       "      <td>None</td>\n",
       "      <td>None</td>\n",
       "    </tr>\n",
       "    <tr>\n",
       "      <th>1627</th>\n",
       "      <td>684594889858887680</td>\n",
       "      <td>NaN</td>\n",
       "      <td>NaN</td>\n",
       "      <td>2016-01-06 04:38:35 +0000</td>\n",
       "      <td>&lt;a href=\"http://twitter.com/download/iphone\" rel=\"nofollow\"&gt;Twitter for iPhone&lt;/a&gt;</td>\n",
       "      <td>\"FOR THE LAST TIME I DON'T WANNA PLAY TWISTER ALL THE SPOTS ARE GREY DAMN IT CINDY\" ...10/10 https://t.co/uhQNehTpIu</td>\n",
       "      <td>NaN</td>\n",
       "      <td>NaN</td>\n",
       "      <td>NaN</td>\n",
       "      <td>https://twitter.com/dog_rates/status/684594889858887680/photo/1</td>\n",
       "      <td>10</td>\n",
       "      <td>10</td>\n",
       "      <td>None</td>\n",
       "      <td>None</td>\n",
       "      <td>None</td>\n",
       "      <td>None</td>\n",
       "      <td>None</td>\n",
       "    </tr>\n",
       "    <tr>\n",
       "      <th>1619</th>\n",
       "      <td>684959798585110529</td>\n",
       "      <td>NaN</td>\n",
       "      <td>NaN</td>\n",
       "      <td>2016-01-07 04:48:36 +0000</td>\n",
       "      <td>&lt;a href=\"http://twitter.com/download/iphone\" rel=\"nofollow\"&gt;Twitter for iPhone&lt;/a&gt;</td>\n",
       "      <td>This is Jerry. He's a neat dog. No legs (tragic). Has more horns than a dog usually does. Bark is unique af. 5/10 https://t.co/85q7xlplsJ</td>\n",
       "      <td>NaN</td>\n",
       "      <td>NaN</td>\n",
       "      <td>NaN</td>\n",
       "      <td>https://twitter.com/dog_rates/status/684959798585110529/photo/1</td>\n",
       "      <td>5</td>\n",
       "      <td>10</td>\n",
       "      <td>Jerry</td>\n",
       "      <td>None</td>\n",
       "      <td>None</td>\n",
       "      <td>None</td>\n",
       "      <td>None</td>\n",
       "    </tr>\n",
       "    <tr>\n",
       "      <th>883</th>\n",
       "      <td>760252756032651264</td>\n",
       "      <td>NaN</td>\n",
       "      <td>NaN</td>\n",
       "      <td>2016-08-01 23:15:56 +0000</td>\n",
       "      <td>&lt;a href=\"http://twitter.com/download/iphone\" rel=\"nofollow\"&gt;Twitter for iPhone&lt;/a&gt;</td>\n",
       "      <td>This is Fido. He can tell the weather. Not good at fetch tho. Never comes when called. 4/10 would probably still pet https://t.co/4gOv2Q3iKP</td>\n",
       "      <td>NaN</td>\n",
       "      <td>NaN</td>\n",
       "      <td>NaN</td>\n",
       "      <td>https://twitter.com/dog_rates/status/760252756032651264/photo/1</td>\n",
       "      <td>4</td>\n",
       "      <td>10</td>\n",
       "      <td>Fido</td>\n",
       "      <td>None</td>\n",
       "      <td>None</td>\n",
       "      <td>None</td>\n",
       "      <td>None</td>\n",
       "    </tr>\n",
       "    <tr>\n",
       "      <th>2025</th>\n",
       "      <td>671882082306625538</td>\n",
       "      <td>NaN</td>\n",
       "      <td>NaN</td>\n",
       "      <td>2015-12-02 02:42:26 +0000</td>\n",
       "      <td>&lt;a href=\"http://twitter.com/download/iphone\" rel=\"nofollow\"&gt;Twitter for iPhone&lt;/a&gt;</td>\n",
       "      <td>This is Batdog. He's sleeping now but when he wakes up he'll fight crime and such. Great tongue. 11/10 for Batdog https://t.co/Clg16EVy9O</td>\n",
       "      <td>NaN</td>\n",
       "      <td>NaN</td>\n",
       "      <td>NaN</td>\n",
       "      <td>https://twitter.com/dog_rates/status/671882082306625538/photo/1</td>\n",
       "      <td>11</td>\n",
       "      <td>10</td>\n",
       "      <td>Batdog</td>\n",
       "      <td>None</td>\n",
       "      <td>None</td>\n",
       "      <td>None</td>\n",
       "      <td>None</td>\n",
       "    </tr>\n",
       "    <tr>\n",
       "      <th>2049</th>\n",
       "      <td>671504605491109889</td>\n",
       "      <td>NaN</td>\n",
       "      <td>NaN</td>\n",
       "      <td>2015-12-01 01:42:28 +0000</td>\n",
       "      <td>&lt;a href=\"http://twitter.com/download/iphone\" rel=\"nofollow\"&gt;Twitter for iPhone&lt;/a&gt;</td>\n",
       "      <td>This is Charlie. He was just informed that dogs can't be Jedi. 11/10 https://t.co/mGW5c50mPA</td>\n",
       "      <td>NaN</td>\n",
       "      <td>NaN</td>\n",
       "      <td>NaN</td>\n",
       "      <td>https://twitter.com/dog_rates/status/671504605491109889/photo/1,https://twitter.com/dog_rates/status/671504605491109889/photo/1</td>\n",
       "      <td>11</td>\n",
       "      <td>10</td>\n",
       "      <td>Charlie</td>\n",
       "      <td>None</td>\n",
       "      <td>None</td>\n",
       "      <td>None</td>\n",
       "      <td>None</td>\n",
       "    </tr>\n",
       "    <tr>\n",
       "      <th>122</th>\n",
       "      <td>869227993411051520</td>\n",
       "      <td>NaN</td>\n",
       "      <td>NaN</td>\n",
       "      <td>2017-05-29 16:24:37 +0000</td>\n",
       "      <td>&lt;a href=\"http://twitter.com/download/iphone\" rel=\"nofollow\"&gt;Twitter for iPhone&lt;/a&gt;</td>\n",
       "      <td>This is Gizmo. His favorite thing is standing pupright like a hooman. Sneaky tongue slip status achieved. 13/10 would boop well https://t.co/IoR3n1fiiQ</td>\n",
       "      <td>NaN</td>\n",
       "      <td>NaN</td>\n",
       "      <td>NaN</td>\n",
       "      <td>https://twitter.com/dog_rates/status/869227993411051520/photo/1</td>\n",
       "      <td>13</td>\n",
       "      <td>10</td>\n",
       "      <td>Gizmo</td>\n",
       "      <td>None</td>\n",
       "      <td>None</td>\n",
       "      <td>None</td>\n",
       "      <td>None</td>\n",
       "    </tr>\n",
       "  </tbody>\n",
       "</table>\n",
       "</div>"
      ],
      "text/plain": [
       "                tweet_id  in_reply_to_status_id  in_reply_to_user_id  \\\n",
       "507   812709060537683968                    NaN                  NaN   \n",
       "733   781308096455073793                    NaN                  NaN   \n",
       "17    888804989199671297                    NaN                  NaN   \n",
       "792   773670353721753600                    NaN                  NaN   \n",
       "1627  684594889858887680                    NaN                  NaN   \n",
       "1619  684959798585110529                    NaN                  NaN   \n",
       "883   760252756032651264                    NaN                  NaN   \n",
       "2025  671882082306625538                    NaN                  NaN   \n",
       "2049  671504605491109889                    NaN                  NaN   \n",
       "122   869227993411051520                    NaN                  NaN   \n",
       "\n",
       "                      timestamp  \\\n",
       "507   2016-12-24 17:18:34 +0000   \n",
       "733   2016-09-29 01:42:20 +0000   \n",
       "17    2017-07-22 16:56:37 +0000   \n",
       "792   2016-09-07 23:52:41 +0000   \n",
       "1627  2016-01-06 04:38:35 +0000   \n",
       "1619  2016-01-07 04:48:36 +0000   \n",
       "883   2016-08-01 23:15:56 +0000   \n",
       "2025  2015-12-02 02:42:26 +0000   \n",
       "2049  2015-12-01 01:42:28 +0000   \n",
       "122   2017-05-29 16:24:37 +0000   \n",
       "\n",
       "                                                                                  source  \\\n",
       "507   <a href=\"http://twitter.com/download/iphone\" rel=\"nofollow\">Twitter for iPhone</a>   \n",
       "733                      <a href=\"http://vine.co\" rel=\"nofollow\">Vine - Make a Scene</a>   \n",
       "17    <a href=\"http://twitter.com/download/iphone\" rel=\"nofollow\">Twitter for iPhone</a>   \n",
       "792   <a href=\"http://twitter.com/download/iphone\" rel=\"nofollow\">Twitter for iPhone</a>   \n",
       "1627  <a href=\"http://twitter.com/download/iphone\" rel=\"nofollow\">Twitter for iPhone</a>   \n",
       "1619  <a href=\"http://twitter.com/download/iphone\" rel=\"nofollow\">Twitter for iPhone</a>   \n",
       "883   <a href=\"http://twitter.com/download/iphone\" rel=\"nofollow\">Twitter for iPhone</a>   \n",
       "2025  <a href=\"http://twitter.com/download/iphone\" rel=\"nofollow\">Twitter for iPhone</a>   \n",
       "2049  <a href=\"http://twitter.com/download/iphone\" rel=\"nofollow\">Twitter for iPhone</a>   \n",
       "122   <a href=\"http://twitter.com/download/iphone\" rel=\"nofollow\">Twitter for iPhone</a>   \n",
       "\n",
       "                                                                                                                                                          text  \\\n",
       "507                                     This is Brandi and Harley. They are practicing their caroling for later. Both 12/10 festive af https://t.co/AbBDuGZUpp   \n",
       "733                                                                                                 Pupper butt 1, Doggo 0. Both 12/10 https://t.co/WQvcPEpH2u   \n",
       "17    This is Zeke. He has a new stick. Very proud of it. Would like you to throw it for him without taking it. 13/10 would do my best https://t.co/HTQ77yNQ5K   \n",
       "792                  This is Shakespeare. He appears to be maximum level pettable. Born with no eyes tho (tragic). 10/10 probably wise https://t.co/rA8WUVOLBr   \n",
       "1627                                      \"FOR THE LAST TIME I DON'T WANNA PLAY TWISTER ALL THE SPOTS ARE GREY DAMN IT CINDY\" ...10/10 https://t.co/uhQNehTpIu   \n",
       "1619                 This is Jerry. He's a neat dog. No legs (tragic). Has more horns than a dog usually does. Bark is unique af. 5/10 https://t.co/85q7xlplsJ   \n",
       "883               This is Fido. He can tell the weather. Not good at fetch tho. Never comes when called. 4/10 would probably still pet https://t.co/4gOv2Q3iKP   \n",
       "2025                 This is Batdog. He's sleeping now but when he wakes up he'll fight crime and such. Great tongue. 11/10 for Batdog https://t.co/Clg16EVy9O   \n",
       "2049                                                              This is Charlie. He was just informed that dogs can't be Jedi. 11/10 https://t.co/mGW5c50mPA   \n",
       "122    This is Gizmo. His favorite thing is standing pupright like a hooman. Sneaky tongue slip status achieved. 13/10 would boop well https://t.co/IoR3n1fiiQ   \n",
       "\n",
       "      retweeted_status_id  retweeted_status_user_id  \\\n",
       "507                   NaN                       NaN   \n",
       "733                   NaN                       NaN   \n",
       "17                    NaN                       NaN   \n",
       "792                   NaN                       NaN   \n",
       "1627                  NaN                       NaN   \n",
       "1619                  NaN                       NaN   \n",
       "883                   NaN                       NaN   \n",
       "2025                  NaN                       NaN   \n",
       "2049                  NaN                       NaN   \n",
       "122                   NaN                       NaN   \n",
       "\n",
       "     retweeted_status_timestamp  \\\n",
       "507                         NaN   \n",
       "733                         NaN   \n",
       "17                          NaN   \n",
       "792                         NaN   \n",
       "1627                        NaN   \n",
       "1619                        NaN   \n",
       "883                         NaN   \n",
       "2025                        NaN   \n",
       "2049                        NaN   \n",
       "122                         NaN   \n",
       "\n",
       "                                                                                                                        expanded_urls  \\\n",
       "507                                                                   https://twitter.com/dog_rates/status/812709060537683968/photo/1   \n",
       "733                                                                                                     https://vine.co/v/5rgu2Law2ut   \n",
       "17    https://twitter.com/dog_rates/status/888804989199671297/photo/1,https://twitter.com/dog_rates/status/888804989199671297/photo/1   \n",
       "792                                                                   https://twitter.com/dog_rates/status/773670353721753600/photo/1   \n",
       "1627                                                                  https://twitter.com/dog_rates/status/684594889858887680/photo/1   \n",
       "1619                                                                  https://twitter.com/dog_rates/status/684959798585110529/photo/1   \n",
       "883                                                                   https://twitter.com/dog_rates/status/760252756032651264/photo/1   \n",
       "2025                                                                  https://twitter.com/dog_rates/status/671882082306625538/photo/1   \n",
       "2049  https://twitter.com/dog_rates/status/671504605491109889/photo/1,https://twitter.com/dog_rates/status/671504605491109889/photo/1   \n",
       "122                                                                   https://twitter.com/dog_rates/status/869227993411051520/photo/1   \n",
       "\n",
       "      rating_numerator  rating_denominator         name  doggo floofer  \\\n",
       "507                 12                  10       Brandi   None    None   \n",
       "733                 12                  10         None  doggo    None   \n",
       "17                  13                  10         Zeke   None    None   \n",
       "792                 10                  10  Shakespeare   None    None   \n",
       "1627                10                  10         None   None    None   \n",
       "1619                 5                  10        Jerry   None    None   \n",
       "883                  4                  10         Fido   None    None   \n",
       "2025                11                  10       Batdog   None    None   \n",
       "2049                11                  10      Charlie   None    None   \n",
       "122                 13                  10        Gizmo   None    None   \n",
       "\n",
       "      pupper puppo  \n",
       "507     None  None  \n",
       "733   pupper  None  \n",
       "17      None  None  \n",
       "792     None  None  \n",
       "1627    None  None  \n",
       "1619    None  None  \n",
       "883     None  None  \n",
       "2025    None  None  \n",
       "2049    None  None  \n",
       "122     None  None  "
      ]
     },
     "execution_count": 4,
     "metadata": {},
     "output_type": "execute_result"
    }
   ],
   "source": [
    "df_archive = pd.read_csv(\"twitter-archive-enhanced.csv\")\n",
    "df_archive.sample(10)"
   ]
  },
  {
   "cell_type": "markdown",
   "metadata": {},
   "source": [
    "<a id=\"image_predictions\"></a>\n",
    "2. Use the Requests library to download the tweet image prediction (image_predictions.tsv)"
   ]
  },
  {
   "cell_type": "code",
   "execution_count": 5,
   "metadata": {},
   "outputs": [
    {
     "data": {
      "text/html": [
       "<div>\n",
       "<style scoped>\n",
       "    .dataframe tbody tr th:only-of-type {\n",
       "        vertical-align: middle;\n",
       "    }\n",
       "\n",
       "    .dataframe tbody tr th {\n",
       "        vertical-align: top;\n",
       "    }\n",
       "\n",
       "    .dataframe thead th {\n",
       "        text-align: right;\n",
       "    }\n",
       "</style>\n",
       "<table border=\"1\" class=\"dataframe\">\n",
       "  <thead>\n",
       "    <tr style=\"text-align: right;\">\n",
       "      <th></th>\n",
       "      <th>tweet_id</th>\n",
       "      <th>jpg_url</th>\n",
       "      <th>img_num</th>\n",
       "      <th>p1</th>\n",
       "      <th>p1_conf</th>\n",
       "      <th>p1_dog</th>\n",
       "      <th>p2</th>\n",
       "      <th>p2_conf</th>\n",
       "      <th>p2_dog</th>\n",
       "      <th>p3</th>\n",
       "      <th>p3_conf</th>\n",
       "      <th>p3_dog</th>\n",
       "    </tr>\n",
       "  </thead>\n",
       "  <tbody>\n",
       "    <tr>\n",
       "      <th>859</th>\n",
       "      <td>696894894812565505</td>\n",
       "      <td>https://pbs.twimg.com/media/CaveNQcVIAECyBr.jpg</td>\n",
       "      <td>1</td>\n",
       "      <td>Appenzeller</td>\n",
       "      <td>0.665628</td>\n",
       "      <td>True</td>\n",
       "      <td>beagle</td>\n",
       "      <td>0.104795</td>\n",
       "      <td>True</td>\n",
       "      <td>Greater_Swiss_Mountain_dog</td>\n",
       "      <td>0.067868</td>\n",
       "      <td>True</td>\n",
       "    </tr>\n",
       "    <tr>\n",
       "      <th>979</th>\n",
       "      <td>707297311098011648</td>\n",
       "      <td>https://pbs.twimg.com/media/CdDTJLMW4AEST--.jpg</td>\n",
       "      <td>1</td>\n",
       "      <td>Blenheim_spaniel</td>\n",
       "      <td>0.370717</td>\n",
       "      <td>True</td>\n",
       "      <td>Shih-Tzu</td>\n",
       "      <td>0.201566</td>\n",
       "      <td>True</td>\n",
       "      <td>black-footed_ferret</td>\n",
       "      <td>0.101559</td>\n",
       "      <td>False</td>\n",
       "    </tr>\n",
       "    <tr>\n",
       "      <th>992</th>\n",
       "      <td>708109389455101952</td>\n",
       "      <td>https://pbs.twimg.com/media/CdO1u9vWAAApj2V.jpg</td>\n",
       "      <td>1</td>\n",
       "      <td>Staffordshire_bullterrier</td>\n",
       "      <td>0.516106</td>\n",
       "      <td>True</td>\n",
       "      <td>American_Staffordshire_terrier</td>\n",
       "      <td>0.236075</td>\n",
       "      <td>True</td>\n",
       "      <td>kelpie</td>\n",
       "      <td>0.069750</td>\n",
       "      <td>True</td>\n",
       "    </tr>\n",
       "    <tr>\n",
       "      <th>1213</th>\n",
       "      <td>743222593470234624</td>\n",
       "      <td>https://pbs.twimg.com/media/ClB09z0WYAAA1jz.jpg</td>\n",
       "      <td>1</td>\n",
       "      <td>kuvasz</td>\n",
       "      <td>0.350629</td>\n",
       "      <td>True</td>\n",
       "      <td>soft-coated_wheaten_terrier</td>\n",
       "      <td>0.182782</td>\n",
       "      <td>True</td>\n",
       "      <td>golden_retriever</td>\n",
       "      <td>0.087662</td>\n",
       "      <td>True</td>\n",
       "    </tr>\n",
       "    <tr>\n",
       "      <th>159</th>\n",
       "      <td>668892474547511297</td>\n",
       "      <td>https://pbs.twimg.com/media/CUhiJ63WEAAw2qm.jpg</td>\n",
       "      <td>1</td>\n",
       "      <td>kelpie</td>\n",
       "      <td>0.421979</td>\n",
       "      <td>True</td>\n",
       "      <td>collie</td>\n",
       "      <td>0.227060</td>\n",
       "      <td>True</td>\n",
       "      <td>Cardigan</td>\n",
       "      <td>0.168211</td>\n",
       "      <td>True</td>\n",
       "    </tr>\n",
       "    <tr>\n",
       "      <th>1753</th>\n",
       "      <td>824663926340194305</td>\n",
       "      <td>https://pbs.twimg.com/media/C3HLd0HXUAAUI2b.jpg</td>\n",
       "      <td>1</td>\n",
       "      <td>English_setter</td>\n",
       "      <td>0.526488</td>\n",
       "      <td>True</td>\n",
       "      <td>golden_retriever</td>\n",
       "      <td>0.402815</td>\n",
       "      <td>True</td>\n",
       "      <td>Irish_setter</td>\n",
       "      <td>0.034418</td>\n",
       "      <td>True</td>\n",
       "    </tr>\n",
       "    <tr>\n",
       "      <th>1462</th>\n",
       "      <td>778383385161035776</td>\n",
       "      <td>https://pbs.twimg.com/media/Cs1fjyqWIAE2jop.jpg</td>\n",
       "      <td>1</td>\n",
       "      <td>collie</td>\n",
       "      <td>0.345266</td>\n",
       "      <td>True</td>\n",
       "      <td>borzoi</td>\n",
       "      <td>0.312823</td>\n",
       "      <td>True</td>\n",
       "      <td>Border_collie</td>\n",
       "      <td>0.213011</td>\n",
       "      <td>True</td>\n",
       "    </tr>\n",
       "    <tr>\n",
       "      <th>1522</th>\n",
       "      <td>788070120937619456</td>\n",
       "      <td>https://pbs.twimg.com/media/Co-hmcYXYAASkiG.jpg</td>\n",
       "      <td>1</td>\n",
       "      <td>golden_retriever</td>\n",
       "      <td>0.735163</td>\n",
       "      <td>True</td>\n",
       "      <td>Sussex_spaniel</td>\n",
       "      <td>0.064897</td>\n",
       "      <td>True</td>\n",
       "      <td>Labrador_retriever</td>\n",
       "      <td>0.047704</td>\n",
       "      <td>True</td>\n",
       "    </tr>\n",
       "    <tr>\n",
       "      <th>92</th>\n",
       "      <td>667546741521195010</td>\n",
       "      <td>https://pbs.twimg.com/media/CUOaOWXWcAA0_Jy.jpg</td>\n",
       "      <td>1</td>\n",
       "      <td>toy_poodle</td>\n",
       "      <td>0.787424</td>\n",
       "      <td>True</td>\n",
       "      <td>miniature_poodle</td>\n",
       "      <td>0.202225</td>\n",
       "      <td>True</td>\n",
       "      <td>teddy</td>\n",
       "      <td>0.004047</td>\n",
       "      <td>False</td>\n",
       "    </tr>\n",
       "    <tr>\n",
       "      <th>1986</th>\n",
       "      <td>872486979161796608</td>\n",
       "      <td>https://pbs.twimg.com/media/DBuyRlTUwAAYhG9.jpg</td>\n",
       "      <td>1</td>\n",
       "      <td>Pembroke</td>\n",
       "      <td>0.931861</td>\n",
       "      <td>True</td>\n",
       "      <td>Cardigan</td>\n",
       "      <td>0.037721</td>\n",
       "      <td>True</td>\n",
       "      <td>Chihuahua</td>\n",
       "      <td>0.011967</td>\n",
       "      <td>True</td>\n",
       "    </tr>\n",
       "  </tbody>\n",
       "</table>\n",
       "</div>"
      ],
      "text/plain": [
       "                tweet_id                                          jpg_url  \\\n",
       "859   696894894812565505  https://pbs.twimg.com/media/CaveNQcVIAECyBr.jpg   \n",
       "979   707297311098011648  https://pbs.twimg.com/media/CdDTJLMW4AEST--.jpg   \n",
       "992   708109389455101952  https://pbs.twimg.com/media/CdO1u9vWAAApj2V.jpg   \n",
       "1213  743222593470234624  https://pbs.twimg.com/media/ClB09z0WYAAA1jz.jpg   \n",
       "159   668892474547511297  https://pbs.twimg.com/media/CUhiJ63WEAAw2qm.jpg   \n",
       "1753  824663926340194305  https://pbs.twimg.com/media/C3HLd0HXUAAUI2b.jpg   \n",
       "1462  778383385161035776  https://pbs.twimg.com/media/Cs1fjyqWIAE2jop.jpg   \n",
       "1522  788070120937619456  https://pbs.twimg.com/media/Co-hmcYXYAASkiG.jpg   \n",
       "92    667546741521195010  https://pbs.twimg.com/media/CUOaOWXWcAA0_Jy.jpg   \n",
       "1986  872486979161796608  https://pbs.twimg.com/media/DBuyRlTUwAAYhG9.jpg   \n",
       "\n",
       "      img_num                         p1   p1_conf  p1_dog  \\\n",
       "859         1                Appenzeller  0.665628    True   \n",
       "979         1           Blenheim_spaniel  0.370717    True   \n",
       "992         1  Staffordshire_bullterrier  0.516106    True   \n",
       "1213        1                     kuvasz  0.350629    True   \n",
       "159         1                     kelpie  0.421979    True   \n",
       "1753        1             English_setter  0.526488    True   \n",
       "1462        1                     collie  0.345266    True   \n",
       "1522        1           golden_retriever  0.735163    True   \n",
       "92          1                 toy_poodle  0.787424    True   \n",
       "1986        1                   Pembroke  0.931861    True   \n",
       "\n",
       "                                  p2   p2_conf  p2_dog  \\\n",
       "859                           beagle  0.104795    True   \n",
       "979                         Shih-Tzu  0.201566    True   \n",
       "992   American_Staffordshire_terrier  0.236075    True   \n",
       "1213     soft-coated_wheaten_terrier  0.182782    True   \n",
       "159                           collie  0.227060    True   \n",
       "1753                golden_retriever  0.402815    True   \n",
       "1462                          borzoi  0.312823    True   \n",
       "1522                  Sussex_spaniel  0.064897    True   \n",
       "92                  miniature_poodle  0.202225    True   \n",
       "1986                        Cardigan  0.037721    True   \n",
       "\n",
       "                              p3   p3_conf  p3_dog  \n",
       "859   Greater_Swiss_Mountain_dog  0.067868    True  \n",
       "979          black-footed_ferret  0.101559   False  \n",
       "992                       kelpie  0.069750    True  \n",
       "1213            golden_retriever  0.087662    True  \n",
       "159                     Cardigan  0.168211    True  \n",
       "1753                Irish_setter  0.034418    True  \n",
       "1462               Border_collie  0.213011    True  \n",
       "1522          Labrador_retriever  0.047704    True  \n",
       "92                         teddy  0.004047   False  \n",
       "1986                   Chihuahua  0.011967    True  "
      ]
     },
     "execution_count": 5,
     "metadata": {},
     "output_type": "execute_result"
    }
   ],
   "source": [
    "#just to make sure i dont have 2 diffrent names due to some typo (this is used 2 times)\n",
    "LOCAL_FILENAME = 'image-predictions.tsv'\n",
    "\n",
    "#try fetch file from the web\n",
    "r = requests.get('https://d17h27t6h515a5.cloudfront.net/topher/2017/August/599fd2ad_image-predictions/image-predictions.tsv')\n",
    "if r.status_code<300:\n",
    "    #make backup incase the file is no longer avilable in the future\n",
    "    with open(LOCAL_FILENAME, 'wb') as f:\n",
    "        f.write(r.content)\n",
    "    #load data to dataframe. i assume this is faster then making another hard dirve call\n",
    "    info = io.StringIO(r.content.decode(r.encoding))\n",
    "    df_predictions = pd.read_csv(info, sep='\\t')\n",
    "else:\n",
    "    #if request failed, try backup\n",
    "    df_predictions = pd.read_csv(LOCAL_FILENAME, sep='\\t')\n",
    "\n",
    "df_predictions.sample(10)"
   ]
  },
  {
   "cell_type": "markdown",
   "metadata": {},
   "source": [
    "<a id=\"tweet_json\"></a>\n",
    "3. Use the Tweepy library to query additional data via the Twitter API (tweet_json.txt)"
   ]
  },
  {
   "cell_type": "code",
   "execution_count": 6,
   "metadata": {},
   "outputs": [
    {
     "data": {
      "text/html": [
       "<div>\n",
       "<style scoped>\n",
       "    .dataframe tbody tr th:only-of-type {\n",
       "        vertical-align: middle;\n",
       "    }\n",
       "\n",
       "    .dataframe tbody tr th {\n",
       "        vertical-align: top;\n",
       "    }\n",
       "\n",
       "    .dataframe thead th {\n",
       "        text-align: right;\n",
       "    }\n",
       "</style>\n",
       "<table border=\"1\" class=\"dataframe\">\n",
       "  <thead>\n",
       "    <tr style=\"text-align: right;\">\n",
       "      <th></th>\n",
       "      <th>contributors</th>\n",
       "      <th>coordinates</th>\n",
       "      <th>created_at</th>\n",
       "      <th>display_text_range</th>\n",
       "      <th>entities</th>\n",
       "      <th>extended_entities</th>\n",
       "      <th>favorite_count</th>\n",
       "      <th>favorited</th>\n",
       "      <th>full_text</th>\n",
       "      <th>geo</th>\n",
       "      <th>id</th>\n",
       "      <th>id_str</th>\n",
       "      <th>in_reply_to_screen_name</th>\n",
       "      <th>in_reply_to_status_id</th>\n",
       "      <th>in_reply_to_status_id_str</th>\n",
       "      <th>in_reply_to_user_id</th>\n",
       "      <th>in_reply_to_user_id_str</th>\n",
       "      <th>is_quote_status</th>\n",
       "      <th>lang</th>\n",
       "      <th>place</th>\n",
       "      <th>possibly_sensitive</th>\n",
       "      <th>possibly_sensitive_appealable</th>\n",
       "      <th>quoted_status</th>\n",
       "      <th>quoted_status_id</th>\n",
       "      <th>quoted_status_id_str</th>\n",
       "      <th>quoted_status_permalink</th>\n",
       "      <th>retweet_count</th>\n",
       "      <th>retweeted</th>\n",
       "      <th>retweeted_status</th>\n",
       "      <th>source</th>\n",
       "      <th>truncated</th>\n",
       "      <th>user</th>\n",
       "    </tr>\n",
       "  </thead>\n",
       "  <tbody>\n",
       "    <tr>\n",
       "      <th>0</th>\n",
       "      <td>NaN</td>\n",
       "      <td>NaN</td>\n",
       "      <td>2017-08-01 16:23:56</td>\n",
       "      <td>[0, 85]</td>\n",
       "      <td>{'hashtags': [], 'symbols': [], 'user_mentions': [], 'urls': [], 'media': [{'id': 892420639486877696, 'id_str': '892420639486877696', 'indices': [86, 109], 'media_url': 'http://pbs.twimg.com/media/DGKD1-bXoAAIAUK.jpg', 'media_url_https': 'https://pbs.twimg.com/media/DGKD1-bXoAAIAUK.jpg', 'url': 'https://t.co/MgUWQ76dJU', 'display_url': 'pic.twitter.com/MgUWQ76dJU', 'expanded_url': 'https://twitter.com/dog_rates/status/892420643555336193/photo/1', 'type': 'photo', 'sizes': {'thumb': {'w': 150, 'h': 150, 'resize': 'crop'}, 'medium': {'w': 540, 'h': 528, 'resize': 'fit'}, 'small': {'w': 540, 'h': 528, 'resize': 'fit'}, 'large': {'w': 540, 'h': 528, 'resize': 'fit'}}}]}</td>\n",
       "      <td>{'media': [{'id': 892420639486877696, 'id_str': '892420639486877696', 'indices': [86, 109], 'media_url': 'http://pbs.twimg.com/media/DGKD1-bXoAAIAUK.jpg', 'media_url_https': 'https://pbs.twimg.com/media/DGKD1-bXoAAIAUK.jpg', 'url': 'https://t.co/MgUWQ76dJU', 'display_url': 'pic.twitter.com/MgUWQ76dJU', 'expanded_url': 'https://twitter.com/dog_rates/status/892420643555336193/photo/1', 'type': 'photo', 'sizes': {'thumb': {'w': 150, 'h': 150, 'resize': 'crop'}, 'medium': {'w': 540, 'h': 528, 'resize': 'fit'}, 'small': {'w': 540, 'h': 528, 'resize': 'fit'}, 'large': {'w': 540, 'h': 528, 'resize': 'fit'}}}]}</td>\n",
       "      <td>32945</td>\n",
       "      <td>False</td>\n",
       "      <td>This is Phineas. He's a mystical boy. Only ever appears in the hole of a donut. 13/10 https://t.co/MgUWQ76dJU</td>\n",
       "      <td>NaN</td>\n",
       "      <td>892420643555336193</td>\n",
       "      <td>892420643555336192</td>\n",
       "      <td>None</td>\n",
       "      <td>NaN</td>\n",
       "      <td>NaN</td>\n",
       "      <td>NaN</td>\n",
       "      <td>NaN</td>\n",
       "      <td>False</td>\n",
       "      <td>en</td>\n",
       "      <td>None</td>\n",
       "      <td>0.0</td>\n",
       "      <td>0.0</td>\n",
       "      <td>NaN</td>\n",
       "      <td>NaN</td>\n",
       "      <td>NaN</td>\n",
       "      <td>NaN</td>\n",
       "      <td>6886</td>\n",
       "      <td>False</td>\n",
       "      <td>NaN</td>\n",
       "      <td>&lt;a href=\"http://twitter.com/download/iphone\" rel=\"nofollow\"&gt;Twitter for iPhone&lt;/a&gt;</td>\n",
       "      <td>False</td>\n",
       "      <td>{'id': 4196983835, 'id_str': '4196983835', 'name': 'WeRateDogs®', 'screen_name': 'dog_rates', 'location': 'all our links ➜', 'description': 'Your Only Source For Professional Dog Ratings Instagram and Facebook ➜ WeRateDogs partnerships@weratedogs.com | nonprofit: @15outof10 ⠀⠀⠀⠀⠀⠀⠀⠀⠀⠀⠀⠀', 'url': 'https://t.co/YPc2Xq4Va2', 'entities': {'url': {'urls': [{'url': 'https://t.co/YPc2Xq4Va2', 'expanded_url': 'http://links.weratedogs.com', 'display_url': 'links.weratedogs.com', 'indices': [0, 23]}]}, 'description': {'urls': []}}, 'protected': False, 'followers_count': 9374533, 'friends_count': 20, 'listed_count': 7831, 'created_at': 'Sun Nov 15 21:41:29 +0000 2015', 'favourites_count': 147489, 'utc_offset': None, 'time_zone': None, 'geo_enabled': True, 'verified': True, 'statuses_count': 17466, 'lang': None, 'contributors_enabled': False, 'is_translator': False, 'is_translation_enabled': False, 'profile_background_color': '000000', 'profile_background_image_url': 'http://abs.twimg.com/imag...</td>\n",
       "    </tr>\n",
       "    <tr>\n",
       "      <th>1</th>\n",
       "      <td>NaN</td>\n",
       "      <td>NaN</td>\n",
       "      <td>2017-08-01 00:17:27</td>\n",
       "      <td>[0, 138]</td>\n",
       "      <td>{'hashtags': [], 'symbols': [], 'user_mentions': [], 'urls': [], 'media': [{'id': 892177413194625024, 'id_str': '892177413194625024', 'indices': [139, 162], 'media_url': 'http://pbs.twimg.com/media/DGGmoV4XsAAUL6n.jpg', 'media_url_https': 'https://pbs.twimg.com/media/DGGmoV4XsAAUL6n.jpg', 'url': 'https://t.co/0Xxu71qeIV', 'display_url': 'pic.twitter.com/0Xxu71qeIV', 'expanded_url': 'https://twitter.com/dog_rates/status/892177421306343426/photo/1', 'type': 'photo', 'sizes': {'thumb': {'w': 150, 'h': 150, 'resize': 'crop'}, 'medium': {'w': 1055, 'h': 1200, 'resize': 'fit'}, 'small': {'w': 598, 'h': 680, 'resize': 'fit'}, 'large': {'w': 1407, 'h': 1600, 'resize': 'fit'}}}]}</td>\n",
       "      <td>{'media': [{'id': 892177413194625024, 'id_str': '892177413194625024', 'indices': [139, 162], 'media_url': 'http://pbs.twimg.com/media/DGGmoV4XsAAUL6n.jpg', 'media_url_https': 'https://pbs.twimg.com/media/DGGmoV4XsAAUL6n.jpg', 'url': 'https://t.co/0Xxu71qeIV', 'display_url': 'pic.twitter.com/0Xxu71qeIV', 'expanded_url': 'https://twitter.com/dog_rates/status/892177421306343426/photo/1', 'type': 'photo', 'sizes': {'thumb': {'w': 150, 'h': 150, 'resize': 'crop'}, 'medium': {'w': 1055, 'h': 1200, 'resize': 'fit'}, 'small': {'w': 598, 'h': 680, 'resize': 'fit'}, 'large': {'w': 1407, 'h': 1600, 'resize': 'fit'}}}]}</td>\n",
       "      <td>28479</td>\n",
       "      <td>False</td>\n",
       "      <td>This is Tilly. She's just checking pup on you. Hopes you're doing ok. If not, she's available for pats, snugs, boops, the whole bit. 13/10 https://t.co/0Xxu71qeIV</td>\n",
       "      <td>NaN</td>\n",
       "      <td>892177421306343426</td>\n",
       "      <td>892177421306343424</td>\n",
       "      <td>None</td>\n",
       "      <td>NaN</td>\n",
       "      <td>NaN</td>\n",
       "      <td>NaN</td>\n",
       "      <td>NaN</td>\n",
       "      <td>False</td>\n",
       "      <td>en</td>\n",
       "      <td>None</td>\n",
       "      <td>0.0</td>\n",
       "      <td>0.0</td>\n",
       "      <td>NaN</td>\n",
       "      <td>NaN</td>\n",
       "      <td>NaN</td>\n",
       "      <td>NaN</td>\n",
       "      <td>5190</td>\n",
       "      <td>False</td>\n",
       "      <td>NaN</td>\n",
       "      <td>&lt;a href=\"http://twitter.com/download/iphone\" rel=\"nofollow\"&gt;Twitter for iPhone&lt;/a&gt;</td>\n",
       "      <td>False</td>\n",
       "      <td>{'id': 4196983835, 'id_str': '4196983835', 'name': 'WeRateDogs®', 'screen_name': 'dog_rates', 'location': 'all our links ➜', 'description': 'Your Only Source For Professional Dog Ratings Instagram and Facebook ➜ WeRateDogs partnerships@weratedogs.com | nonprofit: @15outof10 ⠀⠀⠀⠀⠀⠀⠀⠀⠀⠀⠀⠀', 'url': 'https://t.co/YPc2Xq4Va2', 'entities': {'url': {'urls': [{'url': 'https://t.co/YPc2Xq4Va2', 'expanded_url': 'http://links.weratedogs.com', 'display_url': 'links.weratedogs.com', 'indices': [0, 23]}]}, 'description': {'urls': []}}, 'protected': False, 'followers_count': 9374533, 'friends_count': 20, 'listed_count': 7831, 'created_at': 'Sun Nov 15 21:41:29 +0000 2015', 'favourites_count': 147489, 'utc_offset': None, 'time_zone': None, 'geo_enabled': True, 'verified': True, 'statuses_count': 17466, 'lang': None, 'contributors_enabled': False, 'is_translator': False, 'is_translation_enabled': False, 'profile_background_color': '000000', 'profile_background_image_url': 'http://abs.twimg.com/imag...</td>\n",
       "    </tr>\n",
       "    <tr>\n",
       "      <th>2</th>\n",
       "      <td>NaN</td>\n",
       "      <td>NaN</td>\n",
       "      <td>2017-07-31 00:18:03</td>\n",
       "      <td>[0, 121]</td>\n",
       "      <td>{'hashtags': [], 'symbols': [], 'user_mentions': [], 'urls': [], 'media': [{'id': 891815175371796480, 'id_str': '891815175371796480', 'indices': [122, 145], 'media_url': 'http://pbs.twimg.com/media/DGBdLU1WsAANxJ9.jpg', 'media_url_https': 'https://pbs.twimg.com/media/DGBdLU1WsAANxJ9.jpg', 'url': 'https://t.co/wUnZnhtVJB', 'display_url': 'pic.twitter.com/wUnZnhtVJB', 'expanded_url': 'https://twitter.com/dog_rates/status/891815181378084864/photo/1', 'type': 'photo', 'sizes': {'thumb': {'w': 150, 'h': 150, 'resize': 'crop'}, 'small': {'w': 510, 'h': 680, 'resize': 'fit'}, 'medium': {'w': 901, 'h': 1200, 'resize': 'fit'}, 'large': {'w': 1201, 'h': 1600, 'resize': 'fit'}}}]}</td>\n",
       "      <td>{'media': [{'id': 891815175371796480, 'id_str': '891815175371796480', 'indices': [122, 145], 'media_url': 'http://pbs.twimg.com/media/DGBdLU1WsAANxJ9.jpg', 'media_url_https': 'https://pbs.twimg.com/media/DGBdLU1WsAANxJ9.jpg', 'url': 'https://t.co/wUnZnhtVJB', 'display_url': 'pic.twitter.com/wUnZnhtVJB', 'expanded_url': 'https://twitter.com/dog_rates/status/891815181378084864/photo/1', 'type': 'photo', 'sizes': {'thumb': {'w': 150, 'h': 150, 'resize': 'crop'}, 'small': {'w': 510, 'h': 680, 'resize': 'fit'}, 'medium': {'w': 901, 'h': 1200, 'resize': 'fit'}, 'large': {'w': 1201, 'h': 1600, 'resize': 'fit'}}}]}</td>\n",
       "      <td>21397</td>\n",
       "      <td>False</td>\n",
       "      <td>This is Archie. He is a rare Norwegian Pouncing Corgo. Lives in the tall grass. You never know when one may strike. 12/10 https://t.co/wUnZnhtVJB</td>\n",
       "      <td>NaN</td>\n",
       "      <td>891815181378084864</td>\n",
       "      <td>891815181378084864</td>\n",
       "      <td>None</td>\n",
       "      <td>NaN</td>\n",
       "      <td>NaN</td>\n",
       "      <td>NaN</td>\n",
       "      <td>NaN</td>\n",
       "      <td>False</td>\n",
       "      <td>en</td>\n",
       "      <td>None</td>\n",
       "      <td>0.0</td>\n",
       "      <td>0.0</td>\n",
       "      <td>NaN</td>\n",
       "      <td>NaN</td>\n",
       "      <td>NaN</td>\n",
       "      <td>NaN</td>\n",
       "      <td>3425</td>\n",
       "      <td>False</td>\n",
       "      <td>NaN</td>\n",
       "      <td>&lt;a href=\"http://twitter.com/download/iphone\" rel=\"nofollow\"&gt;Twitter for iPhone&lt;/a&gt;</td>\n",
       "      <td>False</td>\n",
       "      <td>{'id': 4196983835, 'id_str': '4196983835', 'name': 'WeRateDogs®', 'screen_name': 'dog_rates', 'location': 'all our links ➜', 'description': 'Your Only Source For Professional Dog Ratings Instagram and Facebook ➜ WeRateDogs partnerships@weratedogs.com | nonprofit: @15outof10 ⠀⠀⠀⠀⠀⠀⠀⠀⠀⠀⠀⠀', 'url': 'https://t.co/YPc2Xq4Va2', 'entities': {'url': {'urls': [{'url': 'https://t.co/YPc2Xq4Va2', 'expanded_url': 'http://links.weratedogs.com', 'display_url': 'links.weratedogs.com', 'indices': [0, 23]}]}, 'description': {'urls': []}}, 'protected': False, 'followers_count': 9374533, 'friends_count': 20, 'listed_count': 7831, 'created_at': 'Sun Nov 15 21:41:29 +0000 2015', 'favourites_count': 147489, 'utc_offset': None, 'time_zone': None, 'geo_enabled': True, 'verified': True, 'statuses_count': 17466, 'lang': None, 'contributors_enabled': False, 'is_translator': False, 'is_translation_enabled': False, 'profile_background_color': '000000', 'profile_background_image_url': 'http://abs.twimg.com/imag...</td>\n",
       "    </tr>\n",
       "    <tr>\n",
       "      <th>3</th>\n",
       "      <td>NaN</td>\n",
       "      <td>NaN</td>\n",
       "      <td>2017-07-30 15:58:51</td>\n",
       "      <td>[0, 79]</td>\n",
       "      <td>{'hashtags': [], 'symbols': [], 'user_mentions': [], 'urls': [], 'media': [{'id': 891689552724799489, 'id_str': '891689552724799489', 'indices': [80, 103], 'media_url': 'http://pbs.twimg.com/media/DF_q7IAWsAEuuN8.jpg', 'media_url_https': 'https://pbs.twimg.com/media/DF_q7IAWsAEuuN8.jpg', 'url': 'https://t.co/tD36da7qLQ', 'display_url': 'pic.twitter.com/tD36da7qLQ', 'expanded_url': 'https://twitter.com/dog_rates/status/891689557279858688/photo/1', 'type': 'photo', 'sizes': {'thumb': {'w': 150, 'h': 150, 'resize': 'crop'}, 'small': {'w': 510, 'h': 680, 'resize': 'fit'}, 'medium': {'w': 901, 'h': 1200, 'resize': 'fit'}, 'large': {'w': 1201, 'h': 1600, 'resize': 'fit'}}}]}</td>\n",
       "      <td>{'media': [{'id': 891689552724799489, 'id_str': '891689552724799489', 'indices': [80, 103], 'media_url': 'http://pbs.twimg.com/media/DF_q7IAWsAEuuN8.jpg', 'media_url_https': 'https://pbs.twimg.com/media/DF_q7IAWsAEuuN8.jpg', 'url': 'https://t.co/tD36da7qLQ', 'display_url': 'pic.twitter.com/tD36da7qLQ', 'expanded_url': 'https://twitter.com/dog_rates/status/891689557279858688/photo/1', 'type': 'photo', 'sizes': {'thumb': {'w': 150, 'h': 150, 'resize': 'crop'}, 'small': {'w': 510, 'h': 680, 'resize': 'fit'}, 'medium': {'w': 901, 'h': 1200, 'resize': 'fit'}, 'large': {'w': 1201, 'h': 1600, 'resize': 'fit'}}}]}</td>\n",
       "      <td>35940</td>\n",
       "      <td>False</td>\n",
       "      <td>This is Darla. She commenced a snooze mid meal. 13/10 happens to the best of us https://t.co/tD36da7qLQ</td>\n",
       "      <td>NaN</td>\n",
       "      <td>891689557279858688</td>\n",
       "      <td>891689557279858688</td>\n",
       "      <td>None</td>\n",
       "      <td>NaN</td>\n",
       "      <td>NaN</td>\n",
       "      <td>NaN</td>\n",
       "      <td>NaN</td>\n",
       "      <td>False</td>\n",
       "      <td>en</td>\n",
       "      <td>None</td>\n",
       "      <td>0.0</td>\n",
       "      <td>0.0</td>\n",
       "      <td>NaN</td>\n",
       "      <td>NaN</td>\n",
       "      <td>NaN</td>\n",
       "      <td>NaN</td>\n",
       "      <td>7099</td>\n",
       "      <td>False</td>\n",
       "      <td>NaN</td>\n",
       "      <td>&lt;a href=\"http://twitter.com/download/iphone\" rel=\"nofollow\"&gt;Twitter for iPhone&lt;/a&gt;</td>\n",
       "      <td>False</td>\n",
       "      <td>{'id': 4196983835, 'id_str': '4196983835', 'name': 'WeRateDogs®', 'screen_name': 'dog_rates', 'location': 'all our links ➜', 'description': 'Your Only Source For Professional Dog Ratings Instagram and Facebook ➜ WeRateDogs partnerships@weratedogs.com | nonprofit: @15outof10 ⠀⠀⠀⠀⠀⠀⠀⠀⠀⠀⠀⠀', 'url': 'https://t.co/YPc2Xq4Va2', 'entities': {'url': {'urls': [{'url': 'https://t.co/YPc2Xq4Va2', 'expanded_url': 'http://links.weratedogs.com', 'display_url': 'links.weratedogs.com', 'indices': [0, 23]}]}, 'description': {'urls': []}}, 'protected': False, 'followers_count': 9374533, 'friends_count': 20, 'listed_count': 7831, 'created_at': 'Sun Nov 15 21:41:29 +0000 2015', 'favourites_count': 147489, 'utc_offset': None, 'time_zone': None, 'geo_enabled': True, 'verified': True, 'statuses_count': 17466, 'lang': None, 'contributors_enabled': False, 'is_translator': False, 'is_translation_enabled': False, 'profile_background_color': '000000', 'profile_background_image_url': 'http://abs.twimg.com/imag...</td>\n",
       "    </tr>\n",
       "    <tr>\n",
       "      <th>4</th>\n",
       "      <td>NaN</td>\n",
       "      <td>NaN</td>\n",
       "      <td>2017-07-29 16:00:24</td>\n",
       "      <td>[0, 138]</td>\n",
       "      <td>{'hashtags': [{'text': 'BarkWeek', 'indices': [129, 138]}], 'symbols': [], 'user_mentions': [], 'urls': [], 'media': [{'id': 891327551943041024, 'id_str': '891327551943041024', 'indices': [139, 162], 'media_url': 'http://pbs.twimg.com/media/DF6hr6AVYAAZ8G8.jpg', 'media_url_https': 'https://pbs.twimg.com/media/DF6hr6AVYAAZ8G8.jpg', 'url': 'https://t.co/AtUZn91f7f', 'display_url': 'pic.twitter.com/AtUZn91f7f', 'expanded_url': 'https://twitter.com/dog_rates/status/891327558926688256/photo/1', 'type': 'photo', 'sizes': {'medium': {'w': 720, 'h': 540, 'resize': 'fit'}, 'large': {'w': 720, 'h': 540, 'resize': 'fit'}, 'thumb': {'w': 150, 'h': 150, 'resize': 'crop'}, 'small': {'w': 680, 'h': 510, 'resize': 'fit'}}}]}</td>\n",
       "      <td>{'media': [{'id': 891327551943041024, 'id_str': '891327551943041024', 'indices': [139, 162], 'media_url': 'http://pbs.twimg.com/media/DF6hr6AVYAAZ8G8.jpg', 'media_url_https': 'https://pbs.twimg.com/media/DF6hr6AVYAAZ8G8.jpg', 'url': 'https://t.co/AtUZn91f7f', 'display_url': 'pic.twitter.com/AtUZn91f7f', 'expanded_url': 'https://twitter.com/dog_rates/status/891327558926688256/photo/1', 'type': 'photo', 'sizes': {'medium': {'w': 720, 'h': 540, 'resize': 'fit'}, 'large': {'w': 720, 'h': 540, 'resize': 'fit'}, 'thumb': {'w': 150, 'h': 150, 'resize': 'crop'}, 'small': {'w': 680, 'h': 510, 'resize': 'fit'}}}, {'id': 891327551947157504, 'id_str': '891327551947157504', 'indices': [139, 162], 'media_url': 'http://pbs.twimg.com/media/DF6hr6BUMAAzZgT.jpg', 'media_url_https': 'https://pbs.twimg.com/media/DF6hr6BUMAAzZgT.jpg', 'url': 'https://t.co/AtUZn91f7f', 'display_url': 'pic.twitter.com/AtUZn91f7f', 'expanded_url': 'https://twitter.com/dog_rates/status/891327558926688256/photo/1', 'type': ...</td>\n",
       "      <td>34356</td>\n",
       "      <td>False</td>\n",
       "      <td>This is Franklin. He would like you to stop calling him \"cute.\" He is a very fierce shark and should be respected as such. 12/10 #BarkWeek https://t.co/AtUZn91f7f</td>\n",
       "      <td>NaN</td>\n",
       "      <td>891327558926688256</td>\n",
       "      <td>891327558926688256</td>\n",
       "      <td>None</td>\n",
       "      <td>NaN</td>\n",
       "      <td>NaN</td>\n",
       "      <td>NaN</td>\n",
       "      <td>NaN</td>\n",
       "      <td>False</td>\n",
       "      <td>en</td>\n",
       "      <td>None</td>\n",
       "      <td>0.0</td>\n",
       "      <td>0.0</td>\n",
       "      <td>NaN</td>\n",
       "      <td>NaN</td>\n",
       "      <td>NaN</td>\n",
       "      <td>NaN</td>\n",
       "      <td>7617</td>\n",
       "      <td>False</td>\n",
       "      <td>NaN</td>\n",
       "      <td>&lt;a href=\"http://twitter.com/download/iphone\" rel=\"nofollow\"&gt;Twitter for iPhone&lt;/a&gt;</td>\n",
       "      <td>False</td>\n",
       "      <td>{'id': 4196983835, 'id_str': '4196983835', 'name': 'WeRateDogs®', 'screen_name': 'dog_rates', 'location': 'all our links ➜', 'description': 'Your Only Source For Professional Dog Ratings Instagram and Facebook ➜ WeRateDogs partnerships@weratedogs.com | nonprofit: @15outof10 ⠀⠀⠀⠀⠀⠀⠀⠀⠀⠀⠀⠀', 'url': 'https://t.co/YPc2Xq4Va2', 'entities': {'url': {'urls': [{'url': 'https://t.co/YPc2Xq4Va2', 'expanded_url': 'http://links.weratedogs.com', 'display_url': 'links.weratedogs.com', 'indices': [0, 23]}]}, 'description': {'urls': []}}, 'protected': False, 'followers_count': 9374533, 'friends_count': 20, 'listed_count': 7831, 'created_at': 'Sun Nov 15 21:41:29 +0000 2015', 'favourites_count': 147489, 'utc_offset': None, 'time_zone': None, 'geo_enabled': True, 'verified': True, 'statuses_count': 17466, 'lang': None, 'contributors_enabled': False, 'is_translator': False, 'is_translation_enabled': False, 'profile_background_color': '000000', 'profile_background_image_url': 'http://abs.twimg.com/imag...</td>\n",
       "    </tr>\n",
       "  </tbody>\n",
       "</table>\n",
       "</div>"
      ],
      "text/plain": [
       "   contributors  coordinates          created_at display_text_range  \\\n",
       "0           NaN          NaN 2017-08-01 16:23:56            [0, 85]   \n",
       "1           NaN          NaN 2017-08-01 00:17:27           [0, 138]   \n",
       "2           NaN          NaN 2017-07-31 00:18:03           [0, 121]   \n",
       "3           NaN          NaN 2017-07-30 15:58:51            [0, 79]   \n",
       "4           NaN          NaN 2017-07-29 16:00:24           [0, 138]   \n",
       "\n",
       "                                                                                                                                                                                                                                                                                                                                                                                                                                                                                                                                                                                                                                                                                                                                         entities  \\\n",
       "0                                              {'hashtags': [], 'symbols': [], 'user_mentions': [], 'urls': [], 'media': [{'id': 892420639486877696, 'id_str': '892420639486877696', 'indices': [86, 109], 'media_url': 'http://pbs.twimg.com/media/DGKD1-bXoAAIAUK.jpg', 'media_url_https': 'https://pbs.twimg.com/media/DGKD1-bXoAAIAUK.jpg', 'url': 'https://t.co/MgUWQ76dJU', 'display_url': 'pic.twitter.com/MgUWQ76dJU', 'expanded_url': 'https://twitter.com/dog_rates/status/892420643555336193/photo/1', 'type': 'photo', 'sizes': {'thumb': {'w': 150, 'h': 150, 'resize': 'crop'}, 'medium': {'w': 540, 'h': 528, 'resize': 'fit'}, 'small': {'w': 540, 'h': 528, 'resize': 'fit'}, 'large': {'w': 540, 'h': 528, 'resize': 'fit'}}}]}   \n",
       "1                                         {'hashtags': [], 'symbols': [], 'user_mentions': [], 'urls': [], 'media': [{'id': 892177413194625024, 'id_str': '892177413194625024', 'indices': [139, 162], 'media_url': 'http://pbs.twimg.com/media/DGGmoV4XsAAUL6n.jpg', 'media_url_https': 'https://pbs.twimg.com/media/DGGmoV4XsAAUL6n.jpg', 'url': 'https://t.co/0Xxu71qeIV', 'display_url': 'pic.twitter.com/0Xxu71qeIV', 'expanded_url': 'https://twitter.com/dog_rates/status/892177421306343426/photo/1', 'type': 'photo', 'sizes': {'thumb': {'w': 150, 'h': 150, 'resize': 'crop'}, 'medium': {'w': 1055, 'h': 1200, 'resize': 'fit'}, 'small': {'w': 598, 'h': 680, 'resize': 'fit'}, 'large': {'w': 1407, 'h': 1600, 'resize': 'fit'}}}]}   \n",
       "2                                          {'hashtags': [], 'symbols': [], 'user_mentions': [], 'urls': [], 'media': [{'id': 891815175371796480, 'id_str': '891815175371796480', 'indices': [122, 145], 'media_url': 'http://pbs.twimg.com/media/DGBdLU1WsAANxJ9.jpg', 'media_url_https': 'https://pbs.twimg.com/media/DGBdLU1WsAANxJ9.jpg', 'url': 'https://t.co/wUnZnhtVJB', 'display_url': 'pic.twitter.com/wUnZnhtVJB', 'expanded_url': 'https://twitter.com/dog_rates/status/891815181378084864/photo/1', 'type': 'photo', 'sizes': {'thumb': {'w': 150, 'h': 150, 'resize': 'crop'}, 'small': {'w': 510, 'h': 680, 'resize': 'fit'}, 'medium': {'w': 901, 'h': 1200, 'resize': 'fit'}, 'large': {'w': 1201, 'h': 1600, 'resize': 'fit'}}}]}   \n",
       "3                                           {'hashtags': [], 'symbols': [], 'user_mentions': [], 'urls': [], 'media': [{'id': 891689552724799489, 'id_str': '891689552724799489', 'indices': [80, 103], 'media_url': 'http://pbs.twimg.com/media/DF_q7IAWsAEuuN8.jpg', 'media_url_https': 'https://pbs.twimg.com/media/DF_q7IAWsAEuuN8.jpg', 'url': 'https://t.co/tD36da7qLQ', 'display_url': 'pic.twitter.com/tD36da7qLQ', 'expanded_url': 'https://twitter.com/dog_rates/status/891689557279858688/photo/1', 'type': 'photo', 'sizes': {'thumb': {'w': 150, 'h': 150, 'resize': 'crop'}, 'small': {'w': 510, 'h': 680, 'resize': 'fit'}, 'medium': {'w': 901, 'h': 1200, 'resize': 'fit'}, 'large': {'w': 1201, 'h': 1600, 'resize': 'fit'}}}]}   \n",
       "4  {'hashtags': [{'text': 'BarkWeek', 'indices': [129, 138]}], 'symbols': [], 'user_mentions': [], 'urls': [], 'media': [{'id': 891327551943041024, 'id_str': '891327551943041024', 'indices': [139, 162], 'media_url': 'http://pbs.twimg.com/media/DF6hr6AVYAAZ8G8.jpg', 'media_url_https': 'https://pbs.twimg.com/media/DF6hr6AVYAAZ8G8.jpg', 'url': 'https://t.co/AtUZn91f7f', 'display_url': 'pic.twitter.com/AtUZn91f7f', 'expanded_url': 'https://twitter.com/dog_rates/status/891327558926688256/photo/1', 'type': 'photo', 'sizes': {'medium': {'w': 720, 'h': 540, 'resize': 'fit'}, 'large': {'w': 720, 'h': 540, 'resize': 'fit'}, 'thumb': {'w': 150, 'h': 150, 'resize': 'crop'}, 'small': {'w': 680, 'h': 510, 'resize': 'fit'}}}]}   \n",
       "\n",
       "                                                                                                                                                                                                                                                                                                                                                                                                                                                                                                                                                                                                                                                                                                                                                                                                                                                                                                                                                                                                                         extended_entities  \\\n",
       "0                                                                                                                                                                                                                                                                                                                                                                                                       {'media': [{'id': 892420639486877696, 'id_str': '892420639486877696', 'indices': [86, 109], 'media_url': 'http://pbs.twimg.com/media/DGKD1-bXoAAIAUK.jpg', 'media_url_https': 'https://pbs.twimg.com/media/DGKD1-bXoAAIAUK.jpg', 'url': 'https://t.co/MgUWQ76dJU', 'display_url': 'pic.twitter.com/MgUWQ76dJU', 'expanded_url': 'https://twitter.com/dog_rates/status/892420643555336193/photo/1', 'type': 'photo', 'sizes': {'thumb': {'w': 150, 'h': 150, 'resize': 'crop'}, 'medium': {'w': 540, 'h': 528, 'resize': 'fit'}, 'small': {'w': 540, 'h': 528, 'resize': 'fit'}, 'large': {'w': 540, 'h': 528, 'resize': 'fit'}}}]}   \n",
       "1                                                                                                                                                                                                                                                                                                                                                                                                  {'media': [{'id': 892177413194625024, 'id_str': '892177413194625024', 'indices': [139, 162], 'media_url': 'http://pbs.twimg.com/media/DGGmoV4XsAAUL6n.jpg', 'media_url_https': 'https://pbs.twimg.com/media/DGGmoV4XsAAUL6n.jpg', 'url': 'https://t.co/0Xxu71qeIV', 'display_url': 'pic.twitter.com/0Xxu71qeIV', 'expanded_url': 'https://twitter.com/dog_rates/status/892177421306343426/photo/1', 'type': 'photo', 'sizes': {'thumb': {'w': 150, 'h': 150, 'resize': 'crop'}, 'medium': {'w': 1055, 'h': 1200, 'resize': 'fit'}, 'small': {'w': 598, 'h': 680, 'resize': 'fit'}, 'large': {'w': 1407, 'h': 1600, 'resize': 'fit'}}}]}   \n",
       "2                                                                                                                                                                                                                                                                                                                                                                                                   {'media': [{'id': 891815175371796480, 'id_str': '891815175371796480', 'indices': [122, 145], 'media_url': 'http://pbs.twimg.com/media/DGBdLU1WsAANxJ9.jpg', 'media_url_https': 'https://pbs.twimg.com/media/DGBdLU1WsAANxJ9.jpg', 'url': 'https://t.co/wUnZnhtVJB', 'display_url': 'pic.twitter.com/wUnZnhtVJB', 'expanded_url': 'https://twitter.com/dog_rates/status/891815181378084864/photo/1', 'type': 'photo', 'sizes': {'thumb': {'w': 150, 'h': 150, 'resize': 'crop'}, 'small': {'w': 510, 'h': 680, 'resize': 'fit'}, 'medium': {'w': 901, 'h': 1200, 'resize': 'fit'}, 'large': {'w': 1201, 'h': 1600, 'resize': 'fit'}}}]}   \n",
       "3                                                                                                                                                                                                                                                                                                                                                                                                    {'media': [{'id': 891689552724799489, 'id_str': '891689552724799489', 'indices': [80, 103], 'media_url': 'http://pbs.twimg.com/media/DF_q7IAWsAEuuN8.jpg', 'media_url_https': 'https://pbs.twimg.com/media/DF_q7IAWsAEuuN8.jpg', 'url': 'https://t.co/tD36da7qLQ', 'display_url': 'pic.twitter.com/tD36da7qLQ', 'expanded_url': 'https://twitter.com/dog_rates/status/891689557279858688/photo/1', 'type': 'photo', 'sizes': {'thumb': {'w': 150, 'h': 150, 'resize': 'crop'}, 'small': {'w': 510, 'h': 680, 'resize': 'fit'}, 'medium': {'w': 901, 'h': 1200, 'resize': 'fit'}, 'large': {'w': 1201, 'h': 1600, 'resize': 'fit'}}}]}   \n",
       "4  {'media': [{'id': 891327551943041024, 'id_str': '891327551943041024', 'indices': [139, 162], 'media_url': 'http://pbs.twimg.com/media/DF6hr6AVYAAZ8G8.jpg', 'media_url_https': 'https://pbs.twimg.com/media/DF6hr6AVYAAZ8G8.jpg', 'url': 'https://t.co/AtUZn91f7f', 'display_url': 'pic.twitter.com/AtUZn91f7f', 'expanded_url': 'https://twitter.com/dog_rates/status/891327558926688256/photo/1', 'type': 'photo', 'sizes': {'medium': {'w': 720, 'h': 540, 'resize': 'fit'}, 'large': {'w': 720, 'h': 540, 'resize': 'fit'}, 'thumb': {'w': 150, 'h': 150, 'resize': 'crop'}, 'small': {'w': 680, 'h': 510, 'resize': 'fit'}}}, {'id': 891327551947157504, 'id_str': '891327551947157504', 'indices': [139, 162], 'media_url': 'http://pbs.twimg.com/media/DF6hr6BUMAAzZgT.jpg', 'media_url_https': 'https://pbs.twimg.com/media/DF6hr6BUMAAzZgT.jpg', 'url': 'https://t.co/AtUZn91f7f', 'display_url': 'pic.twitter.com/AtUZn91f7f', 'expanded_url': 'https://twitter.com/dog_rates/status/891327558926688256/photo/1', 'type': ...   \n",
       "\n",
       "   favorite_count  favorited  \\\n",
       "0           32945      False   \n",
       "1           28479      False   \n",
       "2           21397      False   \n",
       "3           35940      False   \n",
       "4           34356      False   \n",
       "\n",
       "                                                                                                                                                            full_text  \\\n",
       "0                                                       This is Phineas. He's a mystical boy. Only ever appears in the hole of a donut. 13/10 https://t.co/MgUWQ76dJU   \n",
       "1  This is Tilly. She's just checking pup on you. Hopes you're doing ok. If not, she's available for pats, snugs, boops, the whole bit. 13/10 https://t.co/0Xxu71qeIV   \n",
       "2                   This is Archie. He is a rare Norwegian Pouncing Corgo. Lives in the tall grass. You never know when one may strike. 12/10 https://t.co/wUnZnhtVJB   \n",
       "3                                                             This is Darla. She commenced a snooze mid meal. 13/10 happens to the best of us https://t.co/tD36da7qLQ   \n",
       "4  This is Franklin. He would like you to stop calling him \"cute.\" He is a very fierce shark and should be respected as such. 12/10 #BarkWeek https://t.co/AtUZn91f7f   \n",
       "\n",
       "   geo                  id              id_str in_reply_to_screen_name  \\\n",
       "0  NaN  892420643555336193  892420643555336192                    None   \n",
       "1  NaN  892177421306343426  892177421306343424                    None   \n",
       "2  NaN  891815181378084864  891815181378084864                    None   \n",
       "3  NaN  891689557279858688  891689557279858688                    None   \n",
       "4  NaN  891327558926688256  891327558926688256                    None   \n",
       "\n",
       "   in_reply_to_status_id  in_reply_to_status_id_str  in_reply_to_user_id  \\\n",
       "0                    NaN                        NaN                  NaN   \n",
       "1                    NaN                        NaN                  NaN   \n",
       "2                    NaN                        NaN                  NaN   \n",
       "3                    NaN                        NaN                  NaN   \n",
       "4                    NaN                        NaN                  NaN   \n",
       "\n",
       "   in_reply_to_user_id_str  is_quote_status lang place  possibly_sensitive  \\\n",
       "0                      NaN            False   en  None                 0.0   \n",
       "1                      NaN            False   en  None                 0.0   \n",
       "2                      NaN            False   en  None                 0.0   \n",
       "3                      NaN            False   en  None                 0.0   \n",
       "4                      NaN            False   en  None                 0.0   \n",
       "\n",
       "   possibly_sensitive_appealable quoted_status  quoted_status_id  \\\n",
       "0                            0.0           NaN               NaN   \n",
       "1                            0.0           NaN               NaN   \n",
       "2                            0.0           NaN               NaN   \n",
       "3                            0.0           NaN               NaN   \n",
       "4                            0.0           NaN               NaN   \n",
       "\n",
       "   quoted_status_id_str quoted_status_permalink  retweet_count  retweeted  \\\n",
       "0                   NaN                     NaN           6886      False   \n",
       "1                   NaN                     NaN           5190      False   \n",
       "2                   NaN                     NaN           3425      False   \n",
       "3                   NaN                     NaN           7099      False   \n",
       "4                   NaN                     NaN           7617      False   \n",
       "\n",
       "  retweeted_status  \\\n",
       "0              NaN   \n",
       "1              NaN   \n",
       "2              NaN   \n",
       "3              NaN   \n",
       "4              NaN   \n",
       "\n",
       "                                                                               source  \\\n",
       "0  <a href=\"http://twitter.com/download/iphone\" rel=\"nofollow\">Twitter for iPhone</a>   \n",
       "1  <a href=\"http://twitter.com/download/iphone\" rel=\"nofollow\">Twitter for iPhone</a>   \n",
       "2  <a href=\"http://twitter.com/download/iphone\" rel=\"nofollow\">Twitter for iPhone</a>   \n",
       "3  <a href=\"http://twitter.com/download/iphone\" rel=\"nofollow\">Twitter for iPhone</a>   \n",
       "4  <a href=\"http://twitter.com/download/iphone\" rel=\"nofollow\">Twitter for iPhone</a>   \n",
       "\n",
       "   truncated  \\\n",
       "0      False   \n",
       "1      False   \n",
       "2      False   \n",
       "3      False   \n",
       "4      False   \n",
       "\n",
       "                                                                                                                                                                                                                                                                                                                                                                                                                                                                                                                                                                                                                                                                                                                                                                                                                                                                                                                                                                                                                                      user  \n",
       "0  {'id': 4196983835, 'id_str': '4196983835', 'name': 'WeRateDogs®', 'screen_name': 'dog_rates', 'location': 'all our links ➜', 'description': 'Your Only Source For Professional Dog Ratings Instagram and Facebook ➜ WeRateDogs partnerships@weratedogs.com | nonprofit: @15outof10 ⠀⠀⠀⠀⠀⠀⠀⠀⠀⠀⠀⠀', 'url': 'https://t.co/YPc2Xq4Va2', 'entities': {'url': {'urls': [{'url': 'https://t.co/YPc2Xq4Va2', 'expanded_url': 'http://links.weratedogs.com', 'display_url': 'links.weratedogs.com', 'indices': [0, 23]}]}, 'description': {'urls': []}}, 'protected': False, 'followers_count': 9374533, 'friends_count': 20, 'listed_count': 7831, 'created_at': 'Sun Nov 15 21:41:29 +0000 2015', 'favourites_count': 147489, 'utc_offset': None, 'time_zone': None, 'geo_enabled': True, 'verified': True, 'statuses_count': 17466, 'lang': None, 'contributors_enabled': False, 'is_translator': False, 'is_translation_enabled': False, 'profile_background_color': '000000', 'profile_background_image_url': 'http://abs.twimg.com/imag...  \n",
       "1  {'id': 4196983835, 'id_str': '4196983835', 'name': 'WeRateDogs®', 'screen_name': 'dog_rates', 'location': 'all our links ➜', 'description': 'Your Only Source For Professional Dog Ratings Instagram and Facebook ➜ WeRateDogs partnerships@weratedogs.com | nonprofit: @15outof10 ⠀⠀⠀⠀⠀⠀⠀⠀⠀⠀⠀⠀', 'url': 'https://t.co/YPc2Xq4Va2', 'entities': {'url': {'urls': [{'url': 'https://t.co/YPc2Xq4Va2', 'expanded_url': 'http://links.weratedogs.com', 'display_url': 'links.weratedogs.com', 'indices': [0, 23]}]}, 'description': {'urls': []}}, 'protected': False, 'followers_count': 9374533, 'friends_count': 20, 'listed_count': 7831, 'created_at': 'Sun Nov 15 21:41:29 +0000 2015', 'favourites_count': 147489, 'utc_offset': None, 'time_zone': None, 'geo_enabled': True, 'verified': True, 'statuses_count': 17466, 'lang': None, 'contributors_enabled': False, 'is_translator': False, 'is_translation_enabled': False, 'profile_background_color': '000000', 'profile_background_image_url': 'http://abs.twimg.com/imag...  \n",
       "2  {'id': 4196983835, 'id_str': '4196983835', 'name': 'WeRateDogs®', 'screen_name': 'dog_rates', 'location': 'all our links ➜', 'description': 'Your Only Source For Professional Dog Ratings Instagram and Facebook ➜ WeRateDogs partnerships@weratedogs.com | nonprofit: @15outof10 ⠀⠀⠀⠀⠀⠀⠀⠀⠀⠀⠀⠀', 'url': 'https://t.co/YPc2Xq4Va2', 'entities': {'url': {'urls': [{'url': 'https://t.co/YPc2Xq4Va2', 'expanded_url': 'http://links.weratedogs.com', 'display_url': 'links.weratedogs.com', 'indices': [0, 23]}]}, 'description': {'urls': []}}, 'protected': False, 'followers_count': 9374533, 'friends_count': 20, 'listed_count': 7831, 'created_at': 'Sun Nov 15 21:41:29 +0000 2015', 'favourites_count': 147489, 'utc_offset': None, 'time_zone': None, 'geo_enabled': True, 'verified': True, 'statuses_count': 17466, 'lang': None, 'contributors_enabled': False, 'is_translator': False, 'is_translation_enabled': False, 'profile_background_color': '000000', 'profile_background_image_url': 'http://abs.twimg.com/imag...  \n",
       "3  {'id': 4196983835, 'id_str': '4196983835', 'name': 'WeRateDogs®', 'screen_name': 'dog_rates', 'location': 'all our links ➜', 'description': 'Your Only Source For Professional Dog Ratings Instagram and Facebook ➜ WeRateDogs partnerships@weratedogs.com | nonprofit: @15outof10 ⠀⠀⠀⠀⠀⠀⠀⠀⠀⠀⠀⠀', 'url': 'https://t.co/YPc2Xq4Va2', 'entities': {'url': {'urls': [{'url': 'https://t.co/YPc2Xq4Va2', 'expanded_url': 'http://links.weratedogs.com', 'display_url': 'links.weratedogs.com', 'indices': [0, 23]}]}, 'description': {'urls': []}}, 'protected': False, 'followers_count': 9374533, 'friends_count': 20, 'listed_count': 7831, 'created_at': 'Sun Nov 15 21:41:29 +0000 2015', 'favourites_count': 147489, 'utc_offset': None, 'time_zone': None, 'geo_enabled': True, 'verified': True, 'statuses_count': 17466, 'lang': None, 'contributors_enabled': False, 'is_translator': False, 'is_translation_enabled': False, 'profile_background_color': '000000', 'profile_background_image_url': 'http://abs.twimg.com/imag...  \n",
       "4  {'id': 4196983835, 'id_str': '4196983835', 'name': 'WeRateDogs®', 'screen_name': 'dog_rates', 'location': 'all our links ➜', 'description': 'Your Only Source For Professional Dog Ratings Instagram and Facebook ➜ WeRateDogs partnerships@weratedogs.com | nonprofit: @15outof10 ⠀⠀⠀⠀⠀⠀⠀⠀⠀⠀⠀⠀', 'url': 'https://t.co/YPc2Xq4Va2', 'entities': {'url': {'urls': [{'url': 'https://t.co/YPc2Xq4Va2', 'expanded_url': 'http://links.weratedogs.com', 'display_url': 'links.weratedogs.com', 'indices': [0, 23]}]}, 'description': {'urls': []}}, 'protected': False, 'followers_count': 9374533, 'friends_count': 20, 'listed_count': 7831, 'created_at': 'Sun Nov 15 21:41:29 +0000 2015', 'favourites_count': 147489, 'utc_offset': None, 'time_zone': None, 'geo_enabled': True, 'verified': True, 'statuses_count': 17466, 'lang': None, 'contributors_enabled': False, 'is_translator': False, 'is_translation_enabled': False, 'profile_background_color': '000000', 'profile_background_image_url': 'http://abs.twimg.com/imag...  "
      ]
     },
     "execution_count": 6,
     "metadata": {},
     "output_type": "execute_result"
    }
   ],
   "source": [
    "def print_cls(msg, cls):\n",
    "    print(\" \" * cls, end=\"\\r\")\n",
    "    print(msg, end=\"\\r\")\n",
    "    return len(msg)\n",
    "\n",
    "def read_tweets(tweet_ids, save_to, echo_failures=True):\n",
    "    tweet_count = len(tweet_ids)\n",
    "    tweet_pos = 0\n",
    "    cls = 0\n",
    "    failed_ids = {}\n",
    "    with open(save_to, 'w') as outfile:\n",
    "        for tweet_id in tweet_ids:\n",
    "            tweet_pos += 1\n",
    "            p = np.round(tweet_pos/tweet_count*100, 2)\n",
    "            cls = print_cls(str(tweet_id) + \" (\" + str(tweet_pos) + \"/\" + str(tweet_count) + \", \" + str(p) + \"%)\", cls)\n",
    "            try:\n",
    "                tweet = tweepy_api.get_status(tweet_id, tweet_mode='extended')\n",
    "                json.dump(tweet._json, outfile)\n",
    "                outfile.write('\\n')\n",
    "            except Exception as e:\n",
    "                failed_ids[tweet_id] = e\n",
    "                if echo_failures:\n",
    "                    cls = print_cls(\"\", cls)\n",
    "                    print(str(tweet_id) + \" - Failure\")\n",
    "    cls = print_cls(\"Done!\", cls)\n",
    "    return failed_ids\n",
    "\n",
    "fn = 'tweet_json.txt'\n",
    "if not os.path.exists(fn):\n",
    "    fails = read_tweets(df_archive.tweet_id.values, fn)\n",
    "    with open('tweet_errors.tsv', 'w') as errfile:\n",
    "        errfile.write('tweet_id' + '\\t' + 'error' + '\\t' + 'msg' + '\\n')\n",
    "        for tweet_id, error_msg in fails.items():\n",
    "            errfile.write(str(tweet_id) + '\\t' + str(error_msg).replace('\\n','\\t') + '\\n')\n",
    "\n",
    "fails = pd.read_csv('tweet_errors.tsv', sep='\\t')\n",
    "df_json = pd.read_json('tweet_json.txt', lines=True)\n",
    "df_json.head()"
   ]
  },
  {
   "cell_type": "markdown",
   "metadata": {
    "extensions": {
     "jupyter_dashboards": {
      "version": 1,
      "views": {
       "grid_default": {
        "col": 4,
        "height": 4,
        "hidden": false,
        "row": 28,
        "width": 4
       },
       "report_default": {
        "hidden": false
       }
      }
     }
    }
   },
   "source": [
    "<a id=\"assessing_data\"></a>\n",
    "## Assessing Data\n",
    "[Back to ToC](#toc)\n",
    "\n",
    "In this section, detect and document at least **eight (8) quality issues and two (2) tidiness issue**. You must use **both** visual assessment\n",
    "programmatic assessement to assess the data.\n",
    "\n",
    "**Note:** pay attention to the following key points when you access the data.\n",
    "\n",
    "* You only want original ratings (no retweets) that have images. Though there are 5000+ tweets in the dataset, not all are dog ratings and some are retweets.\n",
    "* Assessing and cleaning the entire dataset completely would require a lot of time, and is not necessary to practice and demonstrate your skills in data wrangling. Therefore, the requirements of this project are only to assess and clean at least 8 quality issues and at least 2 tidiness issues in this dataset.\n",
    "* The fact that the rating numerators are greater than the denominators does not need to be cleaned. This [unique rating system](http://knowyourmeme.com/memes/theyre-good-dogs-brent) is a big part of the popularity of WeRateDogs.\n",
    "* You do not need to gather the tweets beyond August 1st, 2017. You can, but note that you won't be able to gather the image predictions for these tweets since you don't have access to the algorithm used."
   ]
  },
  {
   "cell_type": "code",
   "execution_count": 7,
   "metadata": {},
   "outputs": [],
   "source": [
    "# I would rather have it as 2 tables, split predictions by AI 1, 2 & 3, add AI_NUM field and union them...\n",
    "# Oh well, since you asked for just one file:\n",
    "df_all = pd.merge(df_archive, df_predictions, left_on='tweet_id', right_on='tweet_id', how='left')\n",
    "df_all = pd.merge(df_all, df_json, left_on='tweet_id', right_on='id', how='left', suffixes=('', '_2'))"
   ]
  },
  {
   "cell_type": "code",
   "execution_count": 8,
   "metadata": {},
   "outputs": [
    {
     "name": "stdout",
     "output_type": "stream",
     "text": [
      "<class 'pandas.core.frame.DataFrame'>\n",
      "Int64Index: 2356 entries, 0 to 2355\n",
      "Data columns (total 60 columns):\n",
      "tweet_id                         2356 non-null int64\n",
      "in_reply_to_status_id            78 non-null float64\n",
      "in_reply_to_user_id              78 non-null float64\n",
      "timestamp                        2356 non-null object\n",
      "source                           2356 non-null object\n",
      "text                             2356 non-null object\n",
      "retweeted_status_id              181 non-null float64\n",
      "retweeted_status_user_id         181 non-null float64\n",
      "retweeted_status_timestamp       181 non-null object\n",
      "expanded_urls                    2297 non-null object\n",
      "rating_numerator                 2356 non-null int64\n",
      "rating_denominator               2356 non-null int64\n",
      "name                             2356 non-null object\n",
      "doggo                            2356 non-null object\n",
      "floofer                          2356 non-null object\n",
      "pupper                           2356 non-null object\n",
      "puppo                            2356 non-null object\n",
      "jpg_url                          2075 non-null object\n",
      "img_num                          2075 non-null float64\n",
      "p1                               2075 non-null object\n",
      "p1_conf                          2075 non-null float64\n",
      "p1_dog                           2075 non-null object\n",
      "p2                               2075 non-null object\n",
      "p2_conf                          2075 non-null float64\n",
      "p2_dog                           2075 non-null object\n",
      "p3                               2075 non-null object\n",
      "p3_conf                          2075 non-null float64\n",
      "p3_dog                           2075 non-null object\n",
      "contributors                     0 non-null float64\n",
      "coordinates                      0 non-null float64\n",
      "created_at                       2325 non-null datetime64[ns]\n",
      "display_text_range               2325 non-null object\n",
      "entities                         2325 non-null object\n",
      "extended_entities                2055 non-null object\n",
      "favorite_count                   2325 non-null float64\n",
      "favorited                        2325 non-null object\n",
      "full_text                        2325 non-null object\n",
      "geo                              0 non-null float64\n",
      "id                               2325 non-null float64\n",
      "id_str                           2325 non-null float64\n",
      "in_reply_to_screen_name          77 non-null object\n",
      "in_reply_to_status_id_2          77 non-null float64\n",
      "in_reply_to_status_id_str        77 non-null float64\n",
      "in_reply_to_user_id_2            77 non-null float64\n",
      "in_reply_to_user_id_str          77 non-null float64\n",
      "is_quote_status                  2325 non-null object\n",
      "lang                             2325 non-null object\n",
      "place                            1 non-null object\n",
      "possibly_sensitive               2193 non-null float64\n",
      "possibly_sensitive_appealable    2193 non-null float64\n",
      "quoted_status                    23 non-null object\n",
      "quoted_status_id                 26 non-null float64\n",
      "quoted_status_id_str             26 non-null float64\n",
      "quoted_status_permalink          26 non-null object\n",
      "retweet_count                    2325 non-null float64\n",
      "retweeted                        2325 non-null object\n",
      "retweeted_status                 158 non-null object\n",
      "source_2                         2325 non-null object\n",
      "truncated                        2325 non-null object\n",
      "user                             2325 non-null object\n",
      "dtypes: datetime64[ns](1), float64(23), int64(3), object(33)\n",
      "memory usage: 1.1+ MB\n"
     ]
    },
    {
     "data": {
      "text/html": [
       "<div>\n",
       "<style scoped>\n",
       "    .dataframe tbody tr th:only-of-type {\n",
       "        vertical-align: middle;\n",
       "    }\n",
       "\n",
       "    .dataframe tbody tr th {\n",
       "        vertical-align: top;\n",
       "    }\n",
       "\n",
       "    .dataframe thead th {\n",
       "        text-align: right;\n",
       "    }\n",
       "</style>\n",
       "<table border=\"1\" class=\"dataframe\">\n",
       "  <thead>\n",
       "    <tr style=\"text-align: right;\">\n",
       "      <th></th>\n",
       "      <th>tweet_id</th>\n",
       "      <th>in_reply_to_status_id</th>\n",
       "      <th>in_reply_to_user_id</th>\n",
       "      <th>retweeted_status_id</th>\n",
       "      <th>retweeted_status_user_id</th>\n",
       "      <th>rating_numerator</th>\n",
       "      <th>rating_denominator</th>\n",
       "      <th>img_num</th>\n",
       "      <th>p1_conf</th>\n",
       "      <th>p2_conf</th>\n",
       "      <th>p3_conf</th>\n",
       "      <th>contributors</th>\n",
       "      <th>coordinates</th>\n",
       "      <th>favorite_count</th>\n",
       "      <th>geo</th>\n",
       "      <th>id</th>\n",
       "      <th>id_str</th>\n",
       "      <th>in_reply_to_status_id_2</th>\n",
       "      <th>in_reply_to_status_id_str</th>\n",
       "      <th>in_reply_to_user_id_2</th>\n",
       "      <th>in_reply_to_user_id_str</th>\n",
       "      <th>possibly_sensitive</th>\n",
       "      <th>possibly_sensitive_appealable</th>\n",
       "      <th>quoted_status_id</th>\n",
       "      <th>quoted_status_id_str</th>\n",
       "      <th>retweet_count</th>\n",
       "    </tr>\n",
       "  </thead>\n",
       "  <tbody>\n",
       "    <tr>\n",
       "      <th>count</th>\n",
       "      <td>2.356000e+03</td>\n",
       "      <td>7.800000e+01</td>\n",
       "      <td>7.800000e+01</td>\n",
       "      <td>1.810000e+02</td>\n",
       "      <td>1.810000e+02</td>\n",
       "      <td>2356.000000</td>\n",
       "      <td>2356.000000</td>\n",
       "      <td>2075.000000</td>\n",
       "      <td>2075.000000</td>\n",
       "      <td>2.075000e+03</td>\n",
       "      <td>2.075000e+03</td>\n",
       "      <td>0.0</td>\n",
       "      <td>0.0</td>\n",
       "      <td>2325.000000</td>\n",
       "      <td>0.0</td>\n",
       "      <td>2.325000e+03</td>\n",
       "      <td>2.325000e+03</td>\n",
       "      <td>7.700000e+01</td>\n",
       "      <td>7.700000e+01</td>\n",
       "      <td>7.700000e+01</td>\n",
       "      <td>7.700000e+01</td>\n",
       "      <td>2193.0</td>\n",
       "      <td>2193.0</td>\n",
       "      <td>2.600000e+01</td>\n",
       "      <td>2.600000e+01</td>\n",
       "      <td>2325.000000</td>\n",
       "    </tr>\n",
       "    <tr>\n",
       "      <th>mean</th>\n",
       "      <td>7.427716e+17</td>\n",
       "      <td>7.455079e+17</td>\n",
       "      <td>2.014171e+16</td>\n",
       "      <td>7.720400e+17</td>\n",
       "      <td>1.241698e+16</td>\n",
       "      <td>13.126486</td>\n",
       "      <td>10.455433</td>\n",
       "      <td>1.203855</td>\n",
       "      <td>0.594548</td>\n",
       "      <td>1.345886e-01</td>\n",
       "      <td>6.032417e-02</td>\n",
       "      <td>NaN</td>\n",
       "      <td>NaN</td>\n",
       "      <td>6881.092043</td>\n",
       "      <td>NaN</td>\n",
       "      <td>7.416926e+17</td>\n",
       "      <td>7.416926e+17</td>\n",
       "      <td>7.440692e+17</td>\n",
       "      <td>7.440692e+17</td>\n",
       "      <td>2.040329e+16</td>\n",
       "      <td>2.040329e+16</td>\n",
       "      <td>0.0</td>\n",
       "      <td>0.0</td>\n",
       "      <td>8.113972e+17</td>\n",
       "      <td>8.113972e+17</td>\n",
       "      <td>2428.836559</td>\n",
       "    </tr>\n",
       "    <tr>\n",
       "      <th>std</th>\n",
       "      <td>6.856705e+16</td>\n",
       "      <td>7.582492e+16</td>\n",
       "      <td>1.252797e+17</td>\n",
       "      <td>6.236928e+16</td>\n",
       "      <td>9.599254e+16</td>\n",
       "      <td>45.876648</td>\n",
       "      <td>6.745237</td>\n",
       "      <td>0.561875</td>\n",
       "      <td>0.271174</td>\n",
       "      <td>1.006657e-01</td>\n",
       "      <td>5.090593e-02</td>\n",
       "      <td>NaN</td>\n",
       "      <td>NaN</td>\n",
       "      <td>10688.331300</td>\n",
       "      <td>NaN</td>\n",
       "      <td>6.814903e+16</td>\n",
       "      <td>6.814903e+16</td>\n",
       "      <td>7.524295e+16</td>\n",
       "      <td>7.524295e+16</td>\n",
       "      <td>1.260797e+17</td>\n",
       "      <td>1.260797e+17</td>\n",
       "      <td>0.0</td>\n",
       "      <td>0.0</td>\n",
       "      <td>6.295843e+16</td>\n",
       "      <td>6.295843e+16</td>\n",
       "      <td>4111.187764</td>\n",
       "    </tr>\n",
       "    <tr>\n",
       "      <th>min</th>\n",
       "      <td>6.660209e+17</td>\n",
       "      <td>6.658147e+17</td>\n",
       "      <td>1.185634e+07</td>\n",
       "      <td>6.661041e+17</td>\n",
       "      <td>7.832140e+05</td>\n",
       "      <td>0.000000</td>\n",
       "      <td>0.000000</td>\n",
       "      <td>1.000000</td>\n",
       "      <td>0.044333</td>\n",
       "      <td>1.011300e-08</td>\n",
       "      <td>1.740170e-10</td>\n",
       "      <td>NaN</td>\n",
       "      <td>NaN</td>\n",
       "      <td>0.000000</td>\n",
       "      <td>NaN</td>\n",
       "      <td>6.660209e+17</td>\n",
       "      <td>6.660209e+17</td>\n",
       "      <td>6.658147e+17</td>\n",
       "      <td>6.658147e+17</td>\n",
       "      <td>1.185634e+07</td>\n",
       "      <td>1.185634e+07</td>\n",
       "      <td>0.0</td>\n",
       "      <td>0.0</td>\n",
       "      <td>6.721083e+17</td>\n",
       "      <td>6.721083e+17</td>\n",
       "      <td>0.000000</td>\n",
       "    </tr>\n",
       "    <tr>\n",
       "      <th>25%</th>\n",
       "      <td>6.783989e+17</td>\n",
       "      <td>6.757419e+17</td>\n",
       "      <td>3.086374e+08</td>\n",
       "      <td>7.186315e+17</td>\n",
       "      <td>4.196984e+09</td>\n",
       "      <td>10.000000</td>\n",
       "      <td>10.000000</td>\n",
       "      <td>1.000000</td>\n",
       "      <td>0.364412</td>\n",
       "      <td>5.388625e-02</td>\n",
       "      <td>1.622240e-02</td>\n",
       "      <td>NaN</td>\n",
       "      <td>NaN</td>\n",
       "      <td>1197.000000</td>\n",
       "      <td>NaN</td>\n",
       "      <td>6.780233e+17</td>\n",
       "      <td>6.780233e+17</td>\n",
       "      <td>6.757073e+17</td>\n",
       "      <td>6.757073e+17</td>\n",
       "      <td>3.589728e+08</td>\n",
       "      <td>3.589728e+08</td>\n",
       "      <td>0.0</td>\n",
       "      <td>0.0</td>\n",
       "      <td>7.761338e+17</td>\n",
       "      <td>7.761338e+17</td>\n",
       "      <td>489.000000</td>\n",
       "    </tr>\n",
       "    <tr>\n",
       "      <th>50%</th>\n",
       "      <td>7.196279e+17</td>\n",
       "      <td>7.038708e+17</td>\n",
       "      <td>4.196984e+09</td>\n",
       "      <td>7.804657e+17</td>\n",
       "      <td>4.196984e+09</td>\n",
       "      <td>11.000000</td>\n",
       "      <td>10.000000</td>\n",
       "      <td>1.000000</td>\n",
       "      <td>0.588230</td>\n",
       "      <td>1.181810e-01</td>\n",
       "      <td>4.944380e-02</td>\n",
       "      <td>NaN</td>\n",
       "      <td>NaN</td>\n",
       "      <td>2983.000000</td>\n",
       "      <td>NaN</td>\n",
       "      <td>7.177900e+17</td>\n",
       "      <td>7.177900e+17</td>\n",
       "      <td>7.032559e+17</td>\n",
       "      <td>7.032559e+17</td>\n",
       "      <td>4.196984e+09</td>\n",
       "      <td>4.196984e+09</td>\n",
       "      <td>0.0</td>\n",
       "      <td>0.0</td>\n",
       "      <td>8.281173e+17</td>\n",
       "      <td>8.281173e+17</td>\n",
       "      <td>1129.000000</td>\n",
       "    </tr>\n",
       "    <tr>\n",
       "      <th>75%</th>\n",
       "      <td>7.993373e+17</td>\n",
       "      <td>8.257804e+17</td>\n",
       "      <td>4.196984e+09</td>\n",
       "      <td>8.203146e+17</td>\n",
       "      <td>4.196984e+09</td>\n",
       "      <td>12.000000</td>\n",
       "      <td>10.000000</td>\n",
       "      <td>1.000000</td>\n",
       "      <td>0.843855</td>\n",
       "      <td>1.955655e-01</td>\n",
       "      <td>9.180755e-02</td>\n",
       "      <td>NaN</td>\n",
       "      <td>NaN</td>\n",
       "      <td>8412.000000</td>\n",
       "      <td>NaN</td>\n",
       "      <td>7.986285e+17</td>\n",
       "      <td>7.986285e+17</td>\n",
       "      <td>8.233264e+17</td>\n",
       "      <td>8.233264e+17</td>\n",
       "      <td>4.196984e+09</td>\n",
       "      <td>4.196984e+09</td>\n",
       "      <td>0.0</td>\n",
       "      <td>0.0</td>\n",
       "      <td>8.637581e+17</td>\n",
       "      <td>8.637581e+17</td>\n",
       "      <td>2811.000000</td>\n",
       "    </tr>\n",
       "    <tr>\n",
       "      <th>max</th>\n",
       "      <td>8.924206e+17</td>\n",
       "      <td>8.862664e+17</td>\n",
       "      <td>8.405479e+17</td>\n",
       "      <td>8.874740e+17</td>\n",
       "      <td>7.874618e+17</td>\n",
       "      <td>1776.000000</td>\n",
       "      <td>170.000000</td>\n",
       "      <td>4.000000</td>\n",
       "      <td>1.000000</td>\n",
       "      <td>4.880140e-01</td>\n",
       "      <td>2.734190e-01</td>\n",
       "      <td>NaN</td>\n",
       "      <td>NaN</td>\n",
       "      <td>141860.000000</td>\n",
       "      <td>NaN</td>\n",
       "      <td>8.924206e+17</td>\n",
       "      <td>8.924206e+17</td>\n",
       "      <td>8.862664e+17</td>\n",
       "      <td>8.862664e+17</td>\n",
       "      <td>8.405479e+17</td>\n",
       "      <td>8.405479e+17</td>\n",
       "      <td>0.0</td>\n",
       "      <td>0.0</td>\n",
       "      <td>8.860534e+17</td>\n",
       "      <td>8.860534e+17</td>\n",
       "      <td>69485.000000</td>\n",
       "    </tr>\n",
       "  </tbody>\n",
       "</table>\n",
       "</div>"
      ],
      "text/plain": [
       "           tweet_id  in_reply_to_status_id  in_reply_to_user_id  \\\n",
       "count  2.356000e+03           7.800000e+01         7.800000e+01   \n",
       "mean   7.427716e+17           7.455079e+17         2.014171e+16   \n",
       "std    6.856705e+16           7.582492e+16         1.252797e+17   \n",
       "min    6.660209e+17           6.658147e+17         1.185634e+07   \n",
       "25%    6.783989e+17           6.757419e+17         3.086374e+08   \n",
       "50%    7.196279e+17           7.038708e+17         4.196984e+09   \n",
       "75%    7.993373e+17           8.257804e+17         4.196984e+09   \n",
       "max    8.924206e+17           8.862664e+17         8.405479e+17   \n",
       "\n",
       "       retweeted_status_id  retweeted_status_user_id  rating_numerator  \\\n",
       "count         1.810000e+02              1.810000e+02       2356.000000   \n",
       "mean          7.720400e+17              1.241698e+16         13.126486   \n",
       "std           6.236928e+16              9.599254e+16         45.876648   \n",
       "min           6.661041e+17              7.832140e+05          0.000000   \n",
       "25%           7.186315e+17              4.196984e+09         10.000000   \n",
       "50%           7.804657e+17              4.196984e+09         11.000000   \n",
       "75%           8.203146e+17              4.196984e+09         12.000000   \n",
       "max           8.874740e+17              7.874618e+17       1776.000000   \n",
       "\n",
       "       rating_denominator      img_num      p1_conf       p2_conf  \\\n",
       "count         2356.000000  2075.000000  2075.000000  2.075000e+03   \n",
       "mean            10.455433     1.203855     0.594548  1.345886e-01   \n",
       "std              6.745237     0.561875     0.271174  1.006657e-01   \n",
       "min              0.000000     1.000000     0.044333  1.011300e-08   \n",
       "25%             10.000000     1.000000     0.364412  5.388625e-02   \n",
       "50%             10.000000     1.000000     0.588230  1.181810e-01   \n",
       "75%             10.000000     1.000000     0.843855  1.955655e-01   \n",
       "max            170.000000     4.000000     1.000000  4.880140e-01   \n",
       "\n",
       "            p3_conf  contributors  coordinates  favorite_count  geo  \\\n",
       "count  2.075000e+03           0.0          0.0     2325.000000  0.0   \n",
       "mean   6.032417e-02           NaN          NaN     6881.092043  NaN   \n",
       "std    5.090593e-02           NaN          NaN    10688.331300  NaN   \n",
       "min    1.740170e-10           NaN          NaN        0.000000  NaN   \n",
       "25%    1.622240e-02           NaN          NaN     1197.000000  NaN   \n",
       "50%    4.944380e-02           NaN          NaN     2983.000000  NaN   \n",
       "75%    9.180755e-02           NaN          NaN     8412.000000  NaN   \n",
       "max    2.734190e-01           NaN          NaN   141860.000000  NaN   \n",
       "\n",
       "                 id        id_str  in_reply_to_status_id_2  \\\n",
       "count  2.325000e+03  2.325000e+03             7.700000e+01   \n",
       "mean   7.416926e+17  7.416926e+17             7.440692e+17   \n",
       "std    6.814903e+16  6.814903e+16             7.524295e+16   \n",
       "min    6.660209e+17  6.660209e+17             6.658147e+17   \n",
       "25%    6.780233e+17  6.780233e+17             6.757073e+17   \n",
       "50%    7.177900e+17  7.177900e+17             7.032559e+17   \n",
       "75%    7.986285e+17  7.986285e+17             8.233264e+17   \n",
       "max    8.924206e+17  8.924206e+17             8.862664e+17   \n",
       "\n",
       "       in_reply_to_status_id_str  in_reply_to_user_id_2  \\\n",
       "count               7.700000e+01           7.700000e+01   \n",
       "mean                7.440692e+17           2.040329e+16   \n",
       "std                 7.524295e+16           1.260797e+17   \n",
       "min                 6.658147e+17           1.185634e+07   \n",
       "25%                 6.757073e+17           3.589728e+08   \n",
       "50%                 7.032559e+17           4.196984e+09   \n",
       "75%                 8.233264e+17           4.196984e+09   \n",
       "max                 8.862664e+17           8.405479e+17   \n",
       "\n",
       "       in_reply_to_user_id_str  possibly_sensitive  \\\n",
       "count             7.700000e+01              2193.0   \n",
       "mean              2.040329e+16                 0.0   \n",
       "std               1.260797e+17                 0.0   \n",
       "min               1.185634e+07                 0.0   \n",
       "25%               3.589728e+08                 0.0   \n",
       "50%               4.196984e+09                 0.0   \n",
       "75%               4.196984e+09                 0.0   \n",
       "max               8.405479e+17                 0.0   \n",
       "\n",
       "       possibly_sensitive_appealable  quoted_status_id  quoted_status_id_str  \\\n",
       "count                         2193.0      2.600000e+01          2.600000e+01   \n",
       "mean                             0.0      8.113972e+17          8.113972e+17   \n",
       "std                              0.0      6.295843e+16          6.295843e+16   \n",
       "min                              0.0      6.721083e+17          6.721083e+17   \n",
       "25%                              0.0      7.761338e+17          7.761338e+17   \n",
       "50%                              0.0      8.281173e+17          8.281173e+17   \n",
       "75%                              0.0      8.637581e+17          8.637581e+17   \n",
       "max                              0.0      8.860534e+17          8.860534e+17   \n",
       "\n",
       "       retweet_count  \n",
       "count    2325.000000  \n",
       "mean     2428.836559  \n",
       "std      4111.187764  \n",
       "min         0.000000  \n",
       "25%       489.000000  \n",
       "50%      1129.000000  \n",
       "75%      2811.000000  \n",
       "max     69485.000000  "
      ]
     },
     "execution_count": 8,
     "metadata": {},
     "output_type": "execute_result"
    }
   ],
   "source": [
    "df_all.info()\n",
    "df_all.describe()"
   ]
  },
  {
   "cell_type": "code",
   "execution_count": 9,
   "metadata": {},
   "outputs": [
    {
     "data": {
      "text/html": [
       "<div>\n",
       "<style scoped>\n",
       "    .dataframe tbody tr th:only-of-type {\n",
       "        vertical-align: middle;\n",
       "    }\n",
       "\n",
       "    .dataframe tbody tr th {\n",
       "        vertical-align: top;\n",
       "    }\n",
       "\n",
       "    .dataframe thead th {\n",
       "        text-align: right;\n",
       "    }\n",
       "</style>\n",
       "<table border=\"1\" class=\"dataframe\">\n",
       "  <thead>\n",
       "    <tr style=\"text-align: right;\">\n",
       "      <th></th>\n",
       "      <th>tweet_id</th>\n",
       "      <th>text</th>\n",
       "      <th>rating_numerator</th>\n",
       "      <th>rating_denominator</th>\n",
       "    </tr>\n",
       "  </thead>\n",
       "  <tbody>\n",
       "    <tr>\n",
       "      <th>313</th>\n",
       "      <td>835246439529840640</td>\n",
       "      <td>@jonnysun @Lin_Manuel ok jomny I know you're excited but 960/00 isn't a valid rating, 13/10 is tho</td>\n",
       "      <td>960</td>\n",
       "      <td>0</td>\n",
       "    </tr>\n",
       "    <tr>\n",
       "      <th>342</th>\n",
       "      <td>832088576586297345</td>\n",
       "      <td>@docmisterio account started on 11/15/15</td>\n",
       "      <td>11</td>\n",
       "      <td>15</td>\n",
       "    </tr>\n",
       "    <tr>\n",
       "      <th>784</th>\n",
       "      <td>775096608509886464</td>\n",
       "      <td>RT @dog_rates: After so many requests, this is Bretagne. She was the last surviving 9/11 search dog, and our second ever 14/10. RIP https:/…</td>\n",
       "      <td>9</td>\n",
       "      <td>11</td>\n",
       "    </tr>\n",
       "    <tr>\n",
       "      <th>1068</th>\n",
       "      <td>740373189193256964</td>\n",
       "      <td>After so many requests, this is Bretagne. She was the last surviving 9/11 search dog, and our second ever 14/10. RIP https://t.co/XAVDNDaVgQ</td>\n",
       "      <td>9</td>\n",
       "      <td>11</td>\n",
       "    </tr>\n",
       "    <tr>\n",
       "      <th>1165</th>\n",
       "      <td>722974582966214656</td>\n",
       "      <td>Happy 4/20 from the squad! 13/10 for all https://t.co/eV1diwds8a</td>\n",
       "      <td>4</td>\n",
       "      <td>20</td>\n",
       "    </tr>\n",
       "    <tr>\n",
       "      <th>1202</th>\n",
       "      <td>716439118184652801</td>\n",
       "      <td>This is Bluebert. He just saw that both #FinalFur match ups are split 50/50. Amazed af. 11/10 https://t.co/Kky1DPG4iq</td>\n",
       "      <td>50</td>\n",
       "      <td>50</td>\n",
       "    </tr>\n",
       "    <tr>\n",
       "      <th>1662</th>\n",
       "      <td>682962037429899265</td>\n",
       "      <td>This is Darrel. He just robbed a 7/11 and is in a high speed police chase. Was just spotted by the helicopter 10/10 https://t.co/7EsP8LmSp5</td>\n",
       "      <td>7</td>\n",
       "      <td>11</td>\n",
       "    </tr>\n",
       "    <tr>\n",
       "      <th>2335</th>\n",
       "      <td>666287406224695296</td>\n",
       "      <td>This is an Albanian 3 1/2 legged  Episcopalian. Loves well-polished hardwood flooring. Penis on the collar. 9/10 https://t.co/d9NcXFKwLv</td>\n",
       "      <td>1</td>\n",
       "      <td>2</td>\n",
       "    </tr>\n",
       "  </tbody>\n",
       "</table>\n",
       "</div>"
      ],
      "text/plain": [
       "                tweet_id  \\\n",
       "313   835246439529840640   \n",
       "342   832088576586297345   \n",
       "784   775096608509886464   \n",
       "1068  740373189193256964   \n",
       "1165  722974582966214656   \n",
       "1202  716439118184652801   \n",
       "1662  682962037429899265   \n",
       "2335  666287406224695296   \n",
       "\n",
       "                                                                                                                                              text  \\\n",
       "313                                             @jonnysun @Lin_Manuel ok jomny I know you're excited but 960/00 isn't a valid rating, 13/10 is tho   \n",
       "342                                                                                                       @docmisterio account started on 11/15/15   \n",
       "784   RT @dog_rates: After so many requests, this is Bretagne. She was the last surviving 9/11 search dog, and our second ever 14/10. RIP https:/…   \n",
       "1068  After so many requests, this is Bretagne. She was the last surviving 9/11 search dog, and our second ever 14/10. RIP https://t.co/XAVDNDaVgQ   \n",
       "1165                                                                              Happy 4/20 from the squad! 13/10 for all https://t.co/eV1diwds8a   \n",
       "1202                         This is Bluebert. He just saw that both #FinalFur match ups are split 50/50. Amazed af. 11/10 https://t.co/Kky1DPG4iq   \n",
       "1662   This is Darrel. He just robbed a 7/11 and is in a high speed police chase. Was just spotted by the helicopter 10/10 https://t.co/7EsP8LmSp5   \n",
       "2335      This is an Albanian 3 1/2 legged  Episcopalian. Loves well-polished hardwood flooring. Penis on the collar. 9/10 https://t.co/d9NcXFKwLv   \n",
       "\n",
       "      rating_numerator  rating_denominator  \n",
       "313                960                   0  \n",
       "342                 11                  15  \n",
       "784                  9                  11  \n",
       "1068                 9                  11  \n",
       "1165                 4                  20  \n",
       "1202                50                  50  \n",
       "1662                 7                  11  \n",
       "2335                 1                   2  "
      ]
     },
     "execution_count": 9,
     "metadata": {},
     "output_type": "execute_result"
    }
   ],
   "source": [
    "df = df_all[df_archive['rating_denominator']!=10][['tweet_id','text','rating_numerator','rating_denominator']]\n",
    "#check for posts with more then one /\n",
    "df[df['text'].str.replace('https?://[^ ]*','').str.contains('[0-9]/.*/[0-9]')]\n",
    "#to delete:\n",
    "#835246439529840640 - its a comment on a rating not a rating\n",
    "#832088576586297345 - not a rating\n",
    "#775096608509886464 - duplicated and deleted from tweeter\n",
    "#the others should be fixed"
   ]
  },
  {
   "cell_type": "code",
   "execution_count": 10,
   "metadata": {},
   "outputs": [
    {
     "data": {
      "text/html": [
       "<div>\n",
       "<style scoped>\n",
       "    .dataframe tbody tr th:only-of-type {\n",
       "        vertical-align: middle;\n",
       "    }\n",
       "\n",
       "    .dataframe tbody tr th {\n",
       "        vertical-align: top;\n",
       "    }\n",
       "\n",
       "    .dataframe thead th {\n",
       "        text-align: right;\n",
       "    }\n",
       "</style>\n",
       "<table border=\"1\" class=\"dataframe\">\n",
       "  <thead>\n",
       "    <tr style=\"text-align: right;\">\n",
       "      <th></th>\n",
       "      <th>tweet_id</th>\n",
       "      <th>text</th>\n",
       "      <th>rating_numerator</th>\n",
       "      <th>rating_denominator</th>\n",
       "    </tr>\n",
       "  </thead>\n",
       "  <tbody>\n",
       "    <tr>\n",
       "      <th>516</th>\n",
       "      <td>810984652412424192</td>\n",
       "      <td>Meet Sam. She smiles 24/7 &amp;amp; secretly aspires to be a reindeer. \\nKeep Sam smiling by clicking and sharing this link:\\nhttps://t.co/98tB8y7y7t https://t.co/LouL5vdvxx</td>\n",
       "      <td>24</td>\n",
       "      <td>7</td>\n",
       "    </tr>\n",
       "    <tr>\n",
       "      <th>1663</th>\n",
       "      <td>682808988178739200</td>\n",
       "      <td>I'm aware that I could've said 20/16, but here at WeRateDogs we are very professional. An inconsistent rating scale is simply irresponsible</td>\n",
       "      <td>20</td>\n",
       "      <td>16</td>\n",
       "    </tr>\n",
       "  </tbody>\n",
       "</table>\n",
       "</div>"
      ],
      "text/plain": [
       "                tweet_id  \\\n",
       "516   810984652412424192   \n",
       "1663  682808988178739200   \n",
       "\n",
       "                                                                                                                                                                           text  \\\n",
       "516   Meet Sam. She smiles 24/7 &amp; secretly aspires to be a reindeer. \\nKeep Sam smiling by clicking and sharing this link:\\nhttps://t.co/98tB8y7y7t https://t.co/LouL5vdvxx   \n",
       "1663                                I'm aware that I could've said 20/16, but here at WeRateDogs we are very professional. An inconsistent rating scale is simply irresponsible   \n",
       "\n",
       "      rating_numerator  rating_denominator  \n",
       "516                 24                   7  \n",
       "1663                20                  16  "
      ]
     },
     "execution_count": 10,
     "metadata": {},
     "output_type": "execute_result"
    }
   ],
   "source": [
    "df = df[~df['text'].str.replace('https?://[^ ]*','').str.contains('[0-9]/.*/[0-9]')]\n",
    "#WeRateDogs seem to always give a denominator divisible by 10\n",
    "df[df['text'].str.replace('https?://[^ ]*','').str.contains('/[0-9]*[1-9][^0-9]')]"
   ]
  },
  {
   "cell_type": "code",
   "execution_count": 11,
   "metadata": {},
   "outputs": [
    {
     "data": {
      "text/plain": [
       "281"
      ]
     },
     "execution_count": 11,
     "metadata": {},
     "output_type": "execute_result"
    }
   ],
   "source": [
    "len(df_archive[~df_archive['tweet_id'].isin(df_predictions['tweet_id'])])"
   ]
  },
  {
   "cell_type": "code",
   "execution_count": 12,
   "metadata": {},
   "outputs": [
    {
     "data": {
      "text/plain": [
       "None       745\n",
       "a           55\n",
       "Charlie     12\n",
       "Lucy        11\n",
       "Cooper      11\n",
       "Name: name, dtype: int64"
      ]
     },
     "execution_count": 12,
     "metadata": {},
     "output_type": "execute_result"
    }
   ],
   "source": [
    "df_archive['name'].value_counts().head()"
   ]
  },
  {
   "cell_type": "code",
   "execution_count": 13,
   "metadata": {},
   "outputs": [],
   "source": [
    "df = pd.DataFrame()"
   ]
  },
  {
   "cell_type": "code",
   "execution_count": 14,
   "metadata": {},
   "outputs": [
    {
     "data": {
      "text/plain": [
       "True"
      ]
     },
     "execution_count": 14,
     "metadata": {},
     "output_type": "execute_result"
    }
   ],
   "source": [
    "df = df_all[['in_reply_to_status_id','in_reply_to_status_id_2']][df_all['in_reply_to_status_id']!=df_all['in_reply_to_status_id_2']]\n",
    "len(df[df['in_reply_to_status_id_2'].notnull()])==0"
   ]
  },
  {
   "cell_type": "code",
   "execution_count": 15,
   "metadata": {},
   "outputs": [
    {
     "data": {
      "text/plain": [
       "True"
      ]
     },
     "execution_count": 15,
     "metadata": {},
     "output_type": "execute_result"
    }
   ],
   "source": [
    "df = df_all[['in_reply_to_user_id','in_reply_to_user_id_2']][df_all['in_reply_to_user_id']!=df_all['in_reply_to_user_id_2']]\n",
    "len(df[df['in_reply_to_user_id_2'].notnull()])==0"
   ]
  },
  {
   "cell_type": "code",
   "execution_count": 16,
   "metadata": {},
   "outputs": [
    {
     "data": {
      "text/plain": [
       "True"
      ]
     },
     "execution_count": 16,
     "metadata": {},
     "output_type": "execute_result"
    }
   ],
   "source": [
    "df = df_all[['source','source_2']][df_all['source']!=df_all['source_2']]\n",
    "len(df[df['source_2'].notnull()])==0"
   ]
  },
  {
   "cell_type": "code",
   "execution_count": 17,
   "metadata": {},
   "outputs": [
    {
     "data": {
      "text/plain": [
       "None     2259\n",
       "doggo      97\n",
       "Name: doggo, dtype: int64"
      ]
     },
     "execution_count": 17,
     "metadata": {},
     "output_type": "execute_result"
    }
   ],
   "source": [
    "df_archive['doggo'].value_counts()"
   ]
  },
  {
   "cell_type": "code",
   "execution_count": 18,
   "metadata": {},
   "outputs": [
    {
     "data": {
      "text/plain": [
       "None       2346\n",
       "floofer      10\n",
       "Name: floofer, dtype: int64"
      ]
     },
     "execution_count": 18,
     "metadata": {},
     "output_type": "execute_result"
    }
   ],
   "source": [
    "df_archive['floofer'].value_counts()"
   ]
  },
  {
   "cell_type": "code",
   "execution_count": 19,
   "metadata": {},
   "outputs": [
    {
     "data": {
      "text/plain": [
       "None      2099\n",
       "pupper     257\n",
       "Name: pupper, dtype: int64"
      ]
     },
     "execution_count": 19,
     "metadata": {},
     "output_type": "execute_result"
    }
   ],
   "source": [
    "df_archive['pupper'].value_counts()"
   ]
  },
  {
   "cell_type": "code",
   "execution_count": 20,
   "metadata": {
    "scrolled": true
   },
   "outputs": [
    {
     "data": {
      "text/plain": [
       "None     2326\n",
       "puppo      30\n",
       "Name: puppo, dtype: int64"
      ]
     },
     "execution_count": 20,
     "metadata": {},
     "output_type": "execute_result"
    }
   ],
   "source": [
    "df_archive['puppo'].value_counts()"
   ]
  },
  {
   "cell_type": "markdown",
   "metadata": {},
   "source": [
    "<a id=\"issues\"></a>\n",
    "## The issues\n",
    "[Back to ToC](#toc)"
   ]
  },
  {
   "cell_type": "markdown",
   "metadata": {},
   "source": [
    "<a id=\"quality_issues\"></a>\n",
    "### Quality issues\n",
    "1. **in_reply_to_status_id** is *float* instead of string\n",
    "2. **in_reply_to_user_id** is *float* instead of string\n",
    "3. **timestamp** is *string* instead of datetime\n",
    "4. **retweeted_status_id** is *float* instead of string\n",
    "5. **retweeted_status_user_id** is *float* instead of string\n",
    "6. **retweeted_status_timestamp** is *string* instead of datetime\n",
    "7. **tweet_id** is *int* instead of string\n",
    "8. **id** is *int* instead of string\n",
    "9. **id_str** is *int* instead of string\n",
    "10. **in_reply_to_status_id_2** is *float* instead of string\n",
    "11. **in_reply_to_status_id_str** is *float* instead of string\n",
    "12. **in_reply_to_user_id_2** is *float* instead of string\n",
    "13. **in_reply_to_user_id_str** is *float* instead of string\n",
    "14. **quoted_status_id** is *float* instead of string\n",
    "15. **quoted_status_id_str** is *float* instead of string\n",
    "16. **possibly_sensitive** is always 0\n",
    "17. **possibly_sensitive_appealable** is always 0\n",
    "18. **contributors** has no values\n",
    "19. **coordinates** has no values\n",
    "20. **geo** has no values\n",
    "21. 4 records are not ratings\n",
    "22. 5 records with incorrect ratings\n",
    "23. 1 duplicated record\n",
    "24. some of the data is retweets, which we don't want"
   ]
  },
  {
   "cell_type": "markdown",
   "metadata": {
    "extensions": {
     "jupyter_dashboards": {
      "version": 1,
      "views": {
       "grid_default": {
        "col": 0,
        "height": 7,
        "hidden": false,
        "row": 40,
        "width": 12
       },
       "report_default": {
        "hidden": false
       }
      }
     }
    }
   },
   "source": [
    "<a id=\"tidiness_issues\"></a>\n",
    "### Tidiness issues\n",
    "1. Nulls represented as *None* in **name** in ***archive***\n",
    "2. **doggo**, **floofer**, **pupper**, and **puppo** ahould be one column: *dog_stage*\n",
    "3. **in_reply_to_status_id_2** is redundant\n",
    "4. **in_reply_to_user_id_2** is redundant\n",
    "5. **source_2** is redundant\n",
    "6. **id** is redundant\n",
    "7. **id_str** is redundant\n",
    "8. **in_reply_to_status_id_str** is redundant\n",
    "9. **in_reply_to_user_id_str** is redundant\n",
    "10. **quoted_status_id_str** is redundant"
   ]
  },
  {
   "cell_type": "markdown",
   "metadata": {
    "extensions": {
     "jupyter_dashboards": {
      "version": 1,
      "views": {
       "grid_default": {
        "col": 4,
        "height": 4,
        "hidden": false,
        "row": 32,
        "width": 4
       },
       "report_default": {
        "hidden": false
       }
      }
     }
    }
   },
   "source": [
    "<a id=\"cleaning_data\"></a>\n",
    "## Cleaning Data\n",
    "[Back to ToC](#toc)\n",
    "\n",
    "In this section, clean **all** of the issues you documented while assessing. \n",
    "\n",
    "**Note:** Make a copy of the original data before cleaning. Cleaning includes merging individual pieces of data according to the rules of [tidy data](https://cran.r-project.org/web/packages/tidyr/vignettes/tidy-data.html). The result should be a high-quality and tidy master pandas DataFrame (or DataFrames, if appropriate)."
   ]
  },
  {
   "cell_type": "code",
   "execution_count": 21,
   "metadata": {},
   "outputs": [],
   "source": [
    "# Make copies of original data\n",
    "df_all_clean = df_all.copy()"
   ]
  },
  {
   "cell_type": "markdown",
   "metadata": {},
   "source": [
    "<a id=\"cleaning_quality_issues\"></a>\n",
    "<a id=\"in_reply_to_status_id\"></a>\n",
    "### Quality issue 1. **in_reply_to_status_id** is *float* instead of string:\n",
    "[Back to ToC](#toc)"
   ]
  },
  {
   "cell_type": "markdown",
   "metadata": {},
   "source": [
    "#### Define:\n",
    "Change in_reply_to_status_id to string"
   ]
  },
  {
   "cell_type": "markdown",
   "metadata": {},
   "source": [
    "#### Code"
   ]
  },
  {
   "cell_type": "code",
   "execution_count": 22,
   "metadata": {},
   "outputs": [],
   "source": [
    "df_all_clean['in_reply_to_status_id'] = df_all_clean['in_reply_to_status_id'].astype(\"str\")\n",
    "df_all_clean['in_reply_to_status_id'].replace('nan', np.nan, inplace=True)"
   ]
  },
  {
   "cell_type": "markdown",
   "metadata": {},
   "source": [
    "#### Test"
   ]
  },
  {
   "cell_type": "code",
   "execution_count": 23,
   "metadata": {},
   "outputs": [
    {
     "name": "stdout",
     "output_type": "stream",
     "text": [
      "<class 'pandas.core.frame.DataFrame'>\n",
      "Int64Index: 2356 entries, 0 to 2355\n",
      "Data columns (total 60 columns):\n",
      "tweet_id                         2356 non-null int64\n",
      "in_reply_to_status_id            78 non-null object\n",
      "in_reply_to_user_id              78 non-null float64\n",
      "timestamp                        2356 non-null object\n",
      "source                           2356 non-null object\n",
      "text                             2356 non-null object\n",
      "retweeted_status_id              181 non-null float64\n",
      "retweeted_status_user_id         181 non-null float64\n",
      "retweeted_status_timestamp       181 non-null object\n",
      "expanded_urls                    2297 non-null object\n",
      "rating_numerator                 2356 non-null int64\n",
      "rating_denominator               2356 non-null int64\n",
      "name                             2356 non-null object\n",
      "doggo                            2356 non-null object\n",
      "floofer                          2356 non-null object\n",
      "pupper                           2356 non-null object\n",
      "puppo                            2356 non-null object\n",
      "jpg_url                          2075 non-null object\n",
      "img_num                          2075 non-null float64\n",
      "p1                               2075 non-null object\n",
      "p1_conf                          2075 non-null float64\n",
      "p1_dog                           2075 non-null object\n",
      "p2                               2075 non-null object\n",
      "p2_conf                          2075 non-null float64\n",
      "p2_dog                           2075 non-null object\n",
      "p3                               2075 non-null object\n",
      "p3_conf                          2075 non-null float64\n",
      "p3_dog                           2075 non-null object\n",
      "contributors                     0 non-null float64\n",
      "coordinates                      0 non-null float64\n",
      "created_at                       2325 non-null datetime64[ns]\n",
      "display_text_range               2325 non-null object\n",
      "entities                         2325 non-null object\n",
      "extended_entities                2055 non-null object\n",
      "favorite_count                   2325 non-null float64\n",
      "favorited                        2325 non-null object\n",
      "full_text                        2325 non-null object\n",
      "geo                              0 non-null float64\n",
      "id                               2325 non-null float64\n",
      "id_str                           2325 non-null float64\n",
      "in_reply_to_screen_name          77 non-null object\n",
      "in_reply_to_status_id_2          77 non-null float64\n",
      "in_reply_to_status_id_str        77 non-null float64\n",
      "in_reply_to_user_id_2            77 non-null float64\n",
      "in_reply_to_user_id_str          77 non-null float64\n",
      "is_quote_status                  2325 non-null object\n",
      "lang                             2325 non-null object\n",
      "place                            1 non-null object\n",
      "possibly_sensitive               2193 non-null float64\n",
      "possibly_sensitive_appealable    2193 non-null float64\n",
      "quoted_status                    23 non-null object\n",
      "quoted_status_id                 26 non-null float64\n",
      "quoted_status_id_str             26 non-null float64\n",
      "quoted_status_permalink          26 non-null object\n",
      "retweet_count                    2325 non-null float64\n",
      "retweeted                        2325 non-null object\n",
      "retweeted_status                 158 non-null object\n",
      "source_2                         2325 non-null object\n",
      "truncated                        2325 non-null object\n",
      "user                             2325 non-null object\n",
      "dtypes: datetime64[ns](1), float64(22), int64(3), object(34)\n",
      "memory usage: 1.1+ MB\n"
     ]
    }
   ],
   "source": [
    "df_all_clean.info()"
   ]
  },
  {
   "cell_type": "markdown",
   "metadata": {},
   "source": [
    "<a id=\"in_reply_to_user_id\"></a>\n",
    "### Quality issue 2. **in_reply_to_user_id** is *float* instead of string:\n",
    "[Back to ToC](#toc)"
   ]
  },
  {
   "cell_type": "markdown",
   "metadata": {
    "collapsed": true,
    "extensions": {
     "jupyter_dashboards": {
      "version": 1,
      "views": {
       "grid_default": {
        "hidden": true
       },
       "report_default": {
        "hidden": true
       }
      }
     }
    }
   },
   "source": [
    "#### Define\n",
    "Change in_reply_to_user_id to string"
   ]
  },
  {
   "cell_type": "markdown",
   "metadata": {},
   "source": [
    "#### Code"
   ]
  },
  {
   "cell_type": "code",
   "execution_count": 24,
   "metadata": {},
   "outputs": [],
   "source": [
    "df_all_clean['in_reply_to_user_id'] = df_all_clean['in_reply_to_user_id'].astype(\"str\")\n",
    "df_all_clean['in_reply_to_user_id'].replace('nan', np.nan, inplace=True)"
   ]
  },
  {
   "cell_type": "markdown",
   "metadata": {},
   "source": [
    "#### Test"
   ]
  },
  {
   "cell_type": "code",
   "execution_count": 25,
   "metadata": {},
   "outputs": [
    {
     "name": "stdout",
     "output_type": "stream",
     "text": [
      "<class 'pandas.core.frame.DataFrame'>\n",
      "Int64Index: 2356 entries, 0 to 2355\n",
      "Data columns (total 60 columns):\n",
      "tweet_id                         2356 non-null int64\n",
      "in_reply_to_status_id            78 non-null object\n",
      "in_reply_to_user_id              78 non-null object\n",
      "timestamp                        2356 non-null object\n",
      "source                           2356 non-null object\n",
      "text                             2356 non-null object\n",
      "retweeted_status_id              181 non-null float64\n",
      "retweeted_status_user_id         181 non-null float64\n",
      "retweeted_status_timestamp       181 non-null object\n",
      "expanded_urls                    2297 non-null object\n",
      "rating_numerator                 2356 non-null int64\n",
      "rating_denominator               2356 non-null int64\n",
      "name                             2356 non-null object\n",
      "doggo                            2356 non-null object\n",
      "floofer                          2356 non-null object\n",
      "pupper                           2356 non-null object\n",
      "puppo                            2356 non-null object\n",
      "jpg_url                          2075 non-null object\n",
      "img_num                          2075 non-null float64\n",
      "p1                               2075 non-null object\n",
      "p1_conf                          2075 non-null float64\n",
      "p1_dog                           2075 non-null object\n",
      "p2                               2075 non-null object\n",
      "p2_conf                          2075 non-null float64\n",
      "p2_dog                           2075 non-null object\n",
      "p3                               2075 non-null object\n",
      "p3_conf                          2075 non-null float64\n",
      "p3_dog                           2075 non-null object\n",
      "contributors                     0 non-null float64\n",
      "coordinates                      0 non-null float64\n",
      "created_at                       2325 non-null datetime64[ns]\n",
      "display_text_range               2325 non-null object\n",
      "entities                         2325 non-null object\n",
      "extended_entities                2055 non-null object\n",
      "favorite_count                   2325 non-null float64\n",
      "favorited                        2325 non-null object\n",
      "full_text                        2325 non-null object\n",
      "geo                              0 non-null float64\n",
      "id                               2325 non-null float64\n",
      "id_str                           2325 non-null float64\n",
      "in_reply_to_screen_name          77 non-null object\n",
      "in_reply_to_status_id_2          77 non-null float64\n",
      "in_reply_to_status_id_str        77 non-null float64\n",
      "in_reply_to_user_id_2            77 non-null float64\n",
      "in_reply_to_user_id_str          77 non-null float64\n",
      "is_quote_status                  2325 non-null object\n",
      "lang                             2325 non-null object\n",
      "place                            1 non-null object\n",
      "possibly_sensitive               2193 non-null float64\n",
      "possibly_sensitive_appealable    2193 non-null float64\n",
      "quoted_status                    23 non-null object\n",
      "quoted_status_id                 26 non-null float64\n",
      "quoted_status_id_str             26 non-null float64\n",
      "quoted_status_permalink          26 non-null object\n",
      "retweet_count                    2325 non-null float64\n",
      "retweeted                        2325 non-null object\n",
      "retweeted_status                 158 non-null object\n",
      "source_2                         2325 non-null object\n",
      "truncated                        2325 non-null object\n",
      "user                             2325 non-null object\n",
      "dtypes: datetime64[ns](1), float64(21), int64(3), object(35)\n",
      "memory usage: 1.1+ MB\n"
     ]
    }
   ],
   "source": [
    "df_all_clean.info()"
   ]
  },
  {
   "cell_type": "markdown",
   "metadata": {},
   "source": [
    "<a id=\"timestamp\"></a>\n",
    "### Quality issue 3. **timestamp** is *string* instead of datetime:\n",
    "[Back to ToC](#toc)"
   ]
  },
  {
   "cell_type": "markdown",
   "metadata": {
    "collapsed": true,
    "extensions": {
     "jupyter_dashboards": {
      "version": 1,
      "views": {
       "grid_default": {
        "hidden": true
       },
       "report_default": {
        "hidden": true
       }
      }
     }
    }
   },
   "source": [
    "#### Define\n",
    "Change timestamp to datetime"
   ]
  },
  {
   "cell_type": "markdown",
   "metadata": {},
   "source": [
    "#### Code"
   ]
  },
  {
   "cell_type": "code",
   "execution_count": 26,
   "metadata": {},
   "outputs": [],
   "source": [
    "df_all_clean['timestamp'] = pd.to_datetime(df_all_clean['timestamp'])"
   ]
  },
  {
   "cell_type": "markdown",
   "metadata": {},
   "source": [
    "#### Test"
   ]
  },
  {
   "cell_type": "code",
   "execution_count": 27,
   "metadata": {},
   "outputs": [
    {
     "name": "stdout",
     "output_type": "stream",
     "text": [
      "<class 'pandas.core.frame.DataFrame'>\n",
      "Int64Index: 2356 entries, 0 to 2355\n",
      "Data columns (total 60 columns):\n",
      "tweet_id                         2356 non-null int64\n",
      "in_reply_to_status_id            78 non-null object\n",
      "in_reply_to_user_id              78 non-null object\n",
      "timestamp                        2356 non-null datetime64[ns]\n",
      "source                           2356 non-null object\n",
      "text                             2356 non-null object\n",
      "retweeted_status_id              181 non-null float64\n",
      "retweeted_status_user_id         181 non-null float64\n",
      "retweeted_status_timestamp       181 non-null object\n",
      "expanded_urls                    2297 non-null object\n",
      "rating_numerator                 2356 non-null int64\n",
      "rating_denominator               2356 non-null int64\n",
      "name                             2356 non-null object\n",
      "doggo                            2356 non-null object\n",
      "floofer                          2356 non-null object\n",
      "pupper                           2356 non-null object\n",
      "puppo                            2356 non-null object\n",
      "jpg_url                          2075 non-null object\n",
      "img_num                          2075 non-null float64\n",
      "p1                               2075 non-null object\n",
      "p1_conf                          2075 non-null float64\n",
      "p1_dog                           2075 non-null object\n",
      "p2                               2075 non-null object\n",
      "p2_conf                          2075 non-null float64\n",
      "p2_dog                           2075 non-null object\n",
      "p3                               2075 non-null object\n",
      "p3_conf                          2075 non-null float64\n",
      "p3_dog                           2075 non-null object\n",
      "contributors                     0 non-null float64\n",
      "coordinates                      0 non-null float64\n",
      "created_at                       2325 non-null datetime64[ns]\n",
      "display_text_range               2325 non-null object\n",
      "entities                         2325 non-null object\n",
      "extended_entities                2055 non-null object\n",
      "favorite_count                   2325 non-null float64\n",
      "favorited                        2325 non-null object\n",
      "full_text                        2325 non-null object\n",
      "geo                              0 non-null float64\n",
      "id                               2325 non-null float64\n",
      "id_str                           2325 non-null float64\n",
      "in_reply_to_screen_name          77 non-null object\n",
      "in_reply_to_status_id_2          77 non-null float64\n",
      "in_reply_to_status_id_str        77 non-null float64\n",
      "in_reply_to_user_id_2            77 non-null float64\n",
      "in_reply_to_user_id_str          77 non-null float64\n",
      "is_quote_status                  2325 non-null object\n",
      "lang                             2325 non-null object\n",
      "place                            1 non-null object\n",
      "possibly_sensitive               2193 non-null float64\n",
      "possibly_sensitive_appealable    2193 non-null float64\n",
      "quoted_status                    23 non-null object\n",
      "quoted_status_id                 26 non-null float64\n",
      "quoted_status_id_str             26 non-null float64\n",
      "quoted_status_permalink          26 non-null object\n",
      "retweet_count                    2325 non-null float64\n",
      "retweeted                        2325 non-null object\n",
      "retweeted_status                 158 non-null object\n",
      "source_2                         2325 non-null object\n",
      "truncated                        2325 non-null object\n",
      "user                             2325 non-null object\n",
      "dtypes: datetime64[ns](2), float64(21), int64(3), object(34)\n",
      "memory usage: 1.1+ MB\n"
     ]
    }
   ],
   "source": [
    "df_all_clean.info()"
   ]
  },
  {
   "cell_type": "markdown",
   "metadata": {},
   "source": [
    "<a id=\"retweeted_status_id\"></a>\n",
    "### Quality issue 4. **retweeted_status_id** is *float* instead of string:\n",
    "[Back to ToC](#toc)"
   ]
  },
  {
   "cell_type": "markdown",
   "metadata": {
    "collapsed": true,
    "extensions": {
     "jupyter_dashboards": {
      "version": 1,
      "views": {
       "grid_default": {
        "hidden": true
       },
       "report_default": {
        "hidden": true
       }
      }
     }
    }
   },
   "source": [
    "#### Define\n",
    "Change retweeted_status_id to string"
   ]
  },
  {
   "cell_type": "markdown",
   "metadata": {},
   "source": [
    "#### Code"
   ]
  },
  {
   "cell_type": "code",
   "execution_count": 28,
   "metadata": {},
   "outputs": [],
   "source": [
    "df_all_clean['retweeted_status_id'] = df_all_clean['retweeted_status_id'].astype(\"str\")\n",
    "df_all_clean['retweeted_status_id'].replace('nan', np.nan, inplace=True)"
   ]
  },
  {
   "cell_type": "markdown",
   "metadata": {},
   "source": [
    "#### Test"
   ]
  },
  {
   "cell_type": "code",
   "execution_count": 29,
   "metadata": {},
   "outputs": [
    {
     "name": "stdout",
     "output_type": "stream",
     "text": [
      "<class 'pandas.core.frame.DataFrame'>\n",
      "Int64Index: 2356 entries, 0 to 2355\n",
      "Data columns (total 60 columns):\n",
      "tweet_id                         2356 non-null int64\n",
      "in_reply_to_status_id            78 non-null object\n",
      "in_reply_to_user_id              78 non-null object\n",
      "timestamp                        2356 non-null datetime64[ns]\n",
      "source                           2356 non-null object\n",
      "text                             2356 non-null object\n",
      "retweeted_status_id              181 non-null object\n",
      "retweeted_status_user_id         181 non-null float64\n",
      "retweeted_status_timestamp       181 non-null object\n",
      "expanded_urls                    2297 non-null object\n",
      "rating_numerator                 2356 non-null int64\n",
      "rating_denominator               2356 non-null int64\n",
      "name                             2356 non-null object\n",
      "doggo                            2356 non-null object\n",
      "floofer                          2356 non-null object\n",
      "pupper                           2356 non-null object\n",
      "puppo                            2356 non-null object\n",
      "jpg_url                          2075 non-null object\n",
      "img_num                          2075 non-null float64\n",
      "p1                               2075 non-null object\n",
      "p1_conf                          2075 non-null float64\n",
      "p1_dog                           2075 non-null object\n",
      "p2                               2075 non-null object\n",
      "p2_conf                          2075 non-null float64\n",
      "p2_dog                           2075 non-null object\n",
      "p3                               2075 non-null object\n",
      "p3_conf                          2075 non-null float64\n",
      "p3_dog                           2075 non-null object\n",
      "contributors                     0 non-null float64\n",
      "coordinates                      0 non-null float64\n",
      "created_at                       2325 non-null datetime64[ns]\n",
      "display_text_range               2325 non-null object\n",
      "entities                         2325 non-null object\n",
      "extended_entities                2055 non-null object\n",
      "favorite_count                   2325 non-null float64\n",
      "favorited                        2325 non-null object\n",
      "full_text                        2325 non-null object\n",
      "geo                              0 non-null float64\n",
      "id                               2325 non-null float64\n",
      "id_str                           2325 non-null float64\n",
      "in_reply_to_screen_name          77 non-null object\n",
      "in_reply_to_status_id_2          77 non-null float64\n",
      "in_reply_to_status_id_str        77 non-null float64\n",
      "in_reply_to_user_id_2            77 non-null float64\n",
      "in_reply_to_user_id_str          77 non-null float64\n",
      "is_quote_status                  2325 non-null object\n",
      "lang                             2325 non-null object\n",
      "place                            1 non-null object\n",
      "possibly_sensitive               2193 non-null float64\n",
      "possibly_sensitive_appealable    2193 non-null float64\n",
      "quoted_status                    23 non-null object\n",
      "quoted_status_id                 26 non-null float64\n",
      "quoted_status_id_str             26 non-null float64\n",
      "quoted_status_permalink          26 non-null object\n",
      "retweet_count                    2325 non-null float64\n",
      "retweeted                        2325 non-null object\n",
      "retweeted_status                 158 non-null object\n",
      "source_2                         2325 non-null object\n",
      "truncated                        2325 non-null object\n",
      "user                             2325 non-null object\n",
      "dtypes: datetime64[ns](2), float64(20), int64(3), object(35)\n",
      "memory usage: 1.1+ MB\n"
     ]
    }
   ],
   "source": [
    "df_all_clean.info()"
   ]
  },
  {
   "cell_type": "markdown",
   "metadata": {},
   "source": [
    "<a id=\"retweeted_status_user_id\"></a>\n",
    "### Quality issue 5. **retweeted_status_user_id** is *float* instead of string:\n",
    "[Back to ToC](#toc)"
   ]
  },
  {
   "cell_type": "markdown",
   "metadata": {
    "collapsed": true,
    "extensions": {
     "jupyter_dashboards": {
      "version": 1,
      "views": {
       "grid_default": {
        "hidden": true
       },
       "report_default": {
        "hidden": true
       }
      }
     }
    }
   },
   "source": [
    "#### Define\n",
    "Change retweeted_status_user_id to string"
   ]
  },
  {
   "cell_type": "markdown",
   "metadata": {},
   "source": [
    "#### Code"
   ]
  },
  {
   "cell_type": "code",
   "execution_count": 30,
   "metadata": {},
   "outputs": [],
   "source": [
    "df_all_clean['retweeted_status_user_id'] = df_all_clean['retweeted_status_user_id'].astype(\"str\")\n",
    "df_all_clean['retweeted_status_user_id'].replace('nan', np.nan, inplace=True)"
   ]
  },
  {
   "cell_type": "markdown",
   "metadata": {},
   "source": [
    "#### Test"
   ]
  },
  {
   "cell_type": "code",
   "execution_count": 31,
   "metadata": {},
   "outputs": [
    {
     "name": "stdout",
     "output_type": "stream",
     "text": [
      "<class 'pandas.core.frame.DataFrame'>\n",
      "Int64Index: 2356 entries, 0 to 2355\n",
      "Data columns (total 60 columns):\n",
      "tweet_id                         2356 non-null int64\n",
      "in_reply_to_status_id            78 non-null object\n",
      "in_reply_to_user_id              78 non-null object\n",
      "timestamp                        2356 non-null datetime64[ns]\n",
      "source                           2356 non-null object\n",
      "text                             2356 non-null object\n",
      "retweeted_status_id              181 non-null object\n",
      "retweeted_status_user_id         181 non-null object\n",
      "retweeted_status_timestamp       181 non-null object\n",
      "expanded_urls                    2297 non-null object\n",
      "rating_numerator                 2356 non-null int64\n",
      "rating_denominator               2356 non-null int64\n",
      "name                             2356 non-null object\n",
      "doggo                            2356 non-null object\n",
      "floofer                          2356 non-null object\n",
      "pupper                           2356 non-null object\n",
      "puppo                            2356 non-null object\n",
      "jpg_url                          2075 non-null object\n",
      "img_num                          2075 non-null float64\n",
      "p1                               2075 non-null object\n",
      "p1_conf                          2075 non-null float64\n",
      "p1_dog                           2075 non-null object\n",
      "p2                               2075 non-null object\n",
      "p2_conf                          2075 non-null float64\n",
      "p2_dog                           2075 non-null object\n",
      "p3                               2075 non-null object\n",
      "p3_conf                          2075 non-null float64\n",
      "p3_dog                           2075 non-null object\n",
      "contributors                     0 non-null float64\n",
      "coordinates                      0 non-null float64\n",
      "created_at                       2325 non-null datetime64[ns]\n",
      "display_text_range               2325 non-null object\n",
      "entities                         2325 non-null object\n",
      "extended_entities                2055 non-null object\n",
      "favorite_count                   2325 non-null float64\n",
      "favorited                        2325 non-null object\n",
      "full_text                        2325 non-null object\n",
      "geo                              0 non-null float64\n",
      "id                               2325 non-null float64\n",
      "id_str                           2325 non-null float64\n",
      "in_reply_to_screen_name          77 non-null object\n",
      "in_reply_to_status_id_2          77 non-null float64\n",
      "in_reply_to_status_id_str        77 non-null float64\n",
      "in_reply_to_user_id_2            77 non-null float64\n",
      "in_reply_to_user_id_str          77 non-null float64\n",
      "is_quote_status                  2325 non-null object\n",
      "lang                             2325 non-null object\n",
      "place                            1 non-null object\n",
      "possibly_sensitive               2193 non-null float64\n",
      "possibly_sensitive_appealable    2193 non-null float64\n",
      "quoted_status                    23 non-null object\n",
      "quoted_status_id                 26 non-null float64\n",
      "quoted_status_id_str             26 non-null float64\n",
      "quoted_status_permalink          26 non-null object\n",
      "retweet_count                    2325 non-null float64\n",
      "retweeted                        2325 non-null object\n",
      "retweeted_status                 158 non-null object\n",
      "source_2                         2325 non-null object\n",
      "truncated                        2325 non-null object\n",
      "user                             2325 non-null object\n",
      "dtypes: datetime64[ns](2), float64(19), int64(3), object(36)\n",
      "memory usage: 1.1+ MB\n"
     ]
    }
   ],
   "source": [
    "df_all_clean.info()"
   ]
  },
  {
   "cell_type": "markdown",
   "metadata": {},
   "source": [
    "<a id=\"retweeted_status_timestamp\"></a>\n",
    "### Quality issue 6. **retweeted_status_timestamp** is *string* instead of datetime:\n",
    "[Back to ToC](#toc)"
   ]
  },
  {
   "cell_type": "markdown",
   "metadata": {
    "collapsed": true,
    "extensions": {
     "jupyter_dashboards": {
      "version": 1,
      "views": {
       "grid_default": {
        "hidden": true
       },
       "report_default": {
        "hidden": true
       }
      }
     }
    }
   },
   "source": [
    "#### Define\n",
    "Change retweeted_status_timestamp to datetime"
   ]
  },
  {
   "cell_type": "markdown",
   "metadata": {},
   "source": [
    "#### Code"
   ]
  },
  {
   "cell_type": "code",
   "execution_count": 32,
   "metadata": {},
   "outputs": [],
   "source": [
    "df_all_clean['retweeted_status_timestamp'] = pd.to_datetime(df_all_clean['retweeted_status_timestamp'])"
   ]
  },
  {
   "cell_type": "markdown",
   "metadata": {},
   "source": [
    "#### Test"
   ]
  },
  {
   "cell_type": "code",
   "execution_count": 33,
   "metadata": {},
   "outputs": [
    {
     "name": "stdout",
     "output_type": "stream",
     "text": [
      "<class 'pandas.core.frame.DataFrame'>\n",
      "Int64Index: 2356 entries, 0 to 2355\n",
      "Data columns (total 60 columns):\n",
      "tweet_id                         2356 non-null int64\n",
      "in_reply_to_status_id            78 non-null object\n",
      "in_reply_to_user_id              78 non-null object\n",
      "timestamp                        2356 non-null datetime64[ns]\n",
      "source                           2356 non-null object\n",
      "text                             2356 non-null object\n",
      "retweeted_status_id              181 non-null object\n",
      "retweeted_status_user_id         181 non-null object\n",
      "retweeted_status_timestamp       181 non-null datetime64[ns]\n",
      "expanded_urls                    2297 non-null object\n",
      "rating_numerator                 2356 non-null int64\n",
      "rating_denominator               2356 non-null int64\n",
      "name                             2356 non-null object\n",
      "doggo                            2356 non-null object\n",
      "floofer                          2356 non-null object\n",
      "pupper                           2356 non-null object\n",
      "puppo                            2356 non-null object\n",
      "jpg_url                          2075 non-null object\n",
      "img_num                          2075 non-null float64\n",
      "p1                               2075 non-null object\n",
      "p1_conf                          2075 non-null float64\n",
      "p1_dog                           2075 non-null object\n",
      "p2                               2075 non-null object\n",
      "p2_conf                          2075 non-null float64\n",
      "p2_dog                           2075 non-null object\n",
      "p3                               2075 non-null object\n",
      "p3_conf                          2075 non-null float64\n",
      "p3_dog                           2075 non-null object\n",
      "contributors                     0 non-null float64\n",
      "coordinates                      0 non-null float64\n",
      "created_at                       2325 non-null datetime64[ns]\n",
      "display_text_range               2325 non-null object\n",
      "entities                         2325 non-null object\n",
      "extended_entities                2055 non-null object\n",
      "favorite_count                   2325 non-null float64\n",
      "favorited                        2325 non-null object\n",
      "full_text                        2325 non-null object\n",
      "geo                              0 non-null float64\n",
      "id                               2325 non-null float64\n",
      "id_str                           2325 non-null float64\n",
      "in_reply_to_screen_name          77 non-null object\n",
      "in_reply_to_status_id_2          77 non-null float64\n",
      "in_reply_to_status_id_str        77 non-null float64\n",
      "in_reply_to_user_id_2            77 non-null float64\n",
      "in_reply_to_user_id_str          77 non-null float64\n",
      "is_quote_status                  2325 non-null object\n",
      "lang                             2325 non-null object\n",
      "place                            1 non-null object\n",
      "possibly_sensitive               2193 non-null float64\n",
      "possibly_sensitive_appealable    2193 non-null float64\n",
      "quoted_status                    23 non-null object\n",
      "quoted_status_id                 26 non-null float64\n",
      "quoted_status_id_str             26 non-null float64\n",
      "quoted_status_permalink          26 non-null object\n",
      "retweet_count                    2325 non-null float64\n",
      "retweeted                        2325 non-null object\n",
      "retweeted_status                 158 non-null object\n",
      "source_2                         2325 non-null object\n",
      "truncated                        2325 non-null object\n",
      "user                             2325 non-null object\n",
      "dtypes: datetime64[ns](3), float64(19), int64(3), object(35)\n",
      "memory usage: 1.1+ MB\n"
     ]
    }
   ],
   "source": [
    "df_all_clean.info()"
   ]
  },
  {
   "cell_type": "markdown",
   "metadata": {},
   "source": [
    "<a id=\"tweet_id\"></a>\n",
    "### Quality issue 7. **tweet_id** is *int* instead of string\n",
    "[Back to ToC](#toc)"
   ]
  },
  {
   "cell_type": "markdown",
   "metadata": {
    "collapsed": true,
    "extensions": {
     "jupyter_dashboards": {
      "version": 1,
      "views": {
       "grid_default": {
        "hidden": true
       },
       "report_default": {
        "hidden": true
       }
      }
     }
    }
   },
   "source": [
    "#### Define\n",
    "Change tweet_id to string in both tables"
   ]
  },
  {
   "cell_type": "markdown",
   "metadata": {},
   "source": [
    "#### Code"
   ]
  },
  {
   "cell_type": "code",
   "execution_count": 34,
   "metadata": {},
   "outputs": [],
   "source": [
    "df_all_clean['tweet_id'] = df_all_clean['tweet_id'].astype(\"str\")"
   ]
  },
  {
   "cell_type": "markdown",
   "metadata": {},
   "source": [
    "#### Test"
   ]
  },
  {
   "cell_type": "code",
   "execution_count": 35,
   "metadata": {},
   "outputs": [
    {
     "name": "stdout",
     "output_type": "stream",
     "text": [
      "<class 'pandas.core.frame.DataFrame'>\n",
      "Int64Index: 2356 entries, 0 to 2355\n",
      "Data columns (total 60 columns):\n",
      "tweet_id                         2356 non-null object\n",
      "in_reply_to_status_id            78 non-null object\n",
      "in_reply_to_user_id              78 non-null object\n",
      "timestamp                        2356 non-null datetime64[ns]\n",
      "source                           2356 non-null object\n",
      "text                             2356 non-null object\n",
      "retweeted_status_id              181 non-null object\n",
      "retweeted_status_user_id         181 non-null object\n",
      "retweeted_status_timestamp       181 non-null datetime64[ns]\n",
      "expanded_urls                    2297 non-null object\n",
      "rating_numerator                 2356 non-null int64\n",
      "rating_denominator               2356 non-null int64\n",
      "name                             2356 non-null object\n",
      "doggo                            2356 non-null object\n",
      "floofer                          2356 non-null object\n",
      "pupper                           2356 non-null object\n",
      "puppo                            2356 non-null object\n",
      "jpg_url                          2075 non-null object\n",
      "img_num                          2075 non-null float64\n",
      "p1                               2075 non-null object\n",
      "p1_conf                          2075 non-null float64\n",
      "p1_dog                           2075 non-null object\n",
      "p2                               2075 non-null object\n",
      "p2_conf                          2075 non-null float64\n",
      "p2_dog                           2075 non-null object\n",
      "p3                               2075 non-null object\n",
      "p3_conf                          2075 non-null float64\n",
      "p3_dog                           2075 non-null object\n",
      "contributors                     0 non-null float64\n",
      "coordinates                      0 non-null float64\n",
      "created_at                       2325 non-null datetime64[ns]\n",
      "display_text_range               2325 non-null object\n",
      "entities                         2325 non-null object\n",
      "extended_entities                2055 non-null object\n",
      "favorite_count                   2325 non-null float64\n",
      "favorited                        2325 non-null object\n",
      "full_text                        2325 non-null object\n",
      "geo                              0 non-null float64\n",
      "id                               2325 non-null float64\n",
      "id_str                           2325 non-null float64\n",
      "in_reply_to_screen_name          77 non-null object\n",
      "in_reply_to_status_id_2          77 non-null float64\n",
      "in_reply_to_status_id_str        77 non-null float64\n",
      "in_reply_to_user_id_2            77 non-null float64\n",
      "in_reply_to_user_id_str          77 non-null float64\n",
      "is_quote_status                  2325 non-null object\n",
      "lang                             2325 non-null object\n",
      "place                            1 non-null object\n",
      "possibly_sensitive               2193 non-null float64\n",
      "possibly_sensitive_appealable    2193 non-null float64\n",
      "quoted_status                    23 non-null object\n",
      "quoted_status_id                 26 non-null float64\n",
      "quoted_status_id_str             26 non-null float64\n",
      "quoted_status_permalink          26 non-null object\n",
      "retweet_count                    2325 non-null float64\n",
      "retweeted                        2325 non-null object\n",
      "retweeted_status                 158 non-null object\n",
      "source_2                         2325 non-null object\n",
      "truncated                        2325 non-null object\n",
      "user                             2325 non-null object\n",
      "dtypes: datetime64[ns](3), float64(19), int64(2), object(36)\n",
      "memory usage: 1.1+ MB\n"
     ]
    }
   ],
   "source": [
    "df_all_clean.info()"
   ]
  },
  {
   "cell_type": "markdown",
   "metadata": {},
   "source": [
    "<a id=\"id_\"></a>\n",
    "### Quality issue 8. id is int instead of string\n",
    "[Back to ToC](#toc)"
   ]
  },
  {
   "cell_type": "markdown",
   "metadata": {
    "collapsed": true,
    "extensions": {
     "jupyter_dashboards": {
      "version": 1,
      "views": {
       "grid_default": {
        "hidden": true
       },
       "report_default": {
        "hidden": true
       }
      }
     }
    }
   },
   "source": [
    "#### Define\n",
    "Change id to string"
   ]
  },
  {
   "cell_type": "markdown",
   "metadata": {},
   "source": [
    "#### Code"
   ]
  },
  {
   "cell_type": "code",
   "execution_count": 36,
   "metadata": {},
   "outputs": [],
   "source": [
    "df_all_clean['id'] = df_all_clean['id'].astype(\"str\")\n",
    "df_all_clean['id'].replace('nan', np.nan, inplace=True)"
   ]
  },
  {
   "cell_type": "markdown",
   "metadata": {},
   "source": [
    "#### Test"
   ]
  },
  {
   "cell_type": "code",
   "execution_count": 37,
   "metadata": {
    "scrolled": true
   },
   "outputs": [
    {
     "name": "stdout",
     "output_type": "stream",
     "text": [
      "<class 'pandas.core.frame.DataFrame'>\n",
      "Int64Index: 2356 entries, 0 to 2355\n",
      "Data columns (total 60 columns):\n",
      "tweet_id                         2356 non-null object\n",
      "in_reply_to_status_id            78 non-null object\n",
      "in_reply_to_user_id              78 non-null object\n",
      "timestamp                        2356 non-null datetime64[ns]\n",
      "source                           2356 non-null object\n",
      "text                             2356 non-null object\n",
      "retweeted_status_id              181 non-null object\n",
      "retweeted_status_user_id         181 non-null object\n",
      "retweeted_status_timestamp       181 non-null datetime64[ns]\n",
      "expanded_urls                    2297 non-null object\n",
      "rating_numerator                 2356 non-null int64\n",
      "rating_denominator               2356 non-null int64\n",
      "name                             2356 non-null object\n",
      "doggo                            2356 non-null object\n",
      "floofer                          2356 non-null object\n",
      "pupper                           2356 non-null object\n",
      "puppo                            2356 non-null object\n",
      "jpg_url                          2075 non-null object\n",
      "img_num                          2075 non-null float64\n",
      "p1                               2075 non-null object\n",
      "p1_conf                          2075 non-null float64\n",
      "p1_dog                           2075 non-null object\n",
      "p2                               2075 non-null object\n",
      "p2_conf                          2075 non-null float64\n",
      "p2_dog                           2075 non-null object\n",
      "p3                               2075 non-null object\n",
      "p3_conf                          2075 non-null float64\n",
      "p3_dog                           2075 non-null object\n",
      "contributors                     0 non-null float64\n",
      "coordinates                      0 non-null float64\n",
      "created_at                       2325 non-null datetime64[ns]\n",
      "display_text_range               2325 non-null object\n",
      "entities                         2325 non-null object\n",
      "extended_entities                2055 non-null object\n",
      "favorite_count                   2325 non-null float64\n",
      "favorited                        2325 non-null object\n",
      "full_text                        2325 non-null object\n",
      "geo                              0 non-null float64\n",
      "id                               2325 non-null object\n",
      "id_str                           2325 non-null float64\n",
      "in_reply_to_screen_name          77 non-null object\n",
      "in_reply_to_status_id_2          77 non-null float64\n",
      "in_reply_to_status_id_str        77 non-null float64\n",
      "in_reply_to_user_id_2            77 non-null float64\n",
      "in_reply_to_user_id_str          77 non-null float64\n",
      "is_quote_status                  2325 non-null object\n",
      "lang                             2325 non-null object\n",
      "place                            1 non-null object\n",
      "possibly_sensitive               2193 non-null float64\n",
      "possibly_sensitive_appealable    2193 non-null float64\n",
      "quoted_status                    23 non-null object\n",
      "quoted_status_id                 26 non-null float64\n",
      "quoted_status_id_str             26 non-null float64\n",
      "quoted_status_permalink          26 non-null object\n",
      "retweet_count                    2325 non-null float64\n",
      "retweeted                        2325 non-null object\n",
      "retweeted_status                 158 non-null object\n",
      "source_2                         2325 non-null object\n",
      "truncated                        2325 non-null object\n",
      "user                             2325 non-null object\n",
      "dtypes: datetime64[ns](3), float64(18), int64(2), object(37)\n",
      "memory usage: 1.1+ MB\n"
     ]
    }
   ],
   "source": [
    "df_all_clean.info()"
   ]
  },
  {
   "cell_type": "markdown",
   "metadata": {},
   "source": [
    "<a id=\"id_str\"></a>\n",
    "### Quality issue 9. id_str is int instead of string\n",
    "[Back to ToC](#toc)"
   ]
  },
  {
   "cell_type": "markdown",
   "metadata": {
    "collapsed": true,
    "extensions": {
     "jupyter_dashboards": {
      "version": 1,
      "views": {
       "grid_default": {
        "hidden": true
       },
       "report_default": {
        "hidden": true
       }
      }
     }
    }
   },
   "source": [
    "#### Define\n",
    "Change id_str to string"
   ]
  },
  {
   "cell_type": "markdown",
   "metadata": {},
   "source": [
    "#### Code"
   ]
  },
  {
   "cell_type": "code",
   "execution_count": 38,
   "metadata": {},
   "outputs": [],
   "source": [
    "df_all_clean['id_str'] = df_all_clean['id_str'].astype(\"str\")\n",
    "df_all_clean['id_str'].replace('nan', np.nan, inplace=True)"
   ]
  },
  {
   "cell_type": "markdown",
   "metadata": {},
   "source": [
    "#### Test"
   ]
  },
  {
   "cell_type": "code",
   "execution_count": 39,
   "metadata": {
    "scrolled": true
   },
   "outputs": [
    {
     "name": "stdout",
     "output_type": "stream",
     "text": [
      "<class 'pandas.core.frame.DataFrame'>\n",
      "Int64Index: 2356 entries, 0 to 2355\n",
      "Data columns (total 60 columns):\n",
      "tweet_id                         2356 non-null object\n",
      "in_reply_to_status_id            78 non-null object\n",
      "in_reply_to_user_id              78 non-null object\n",
      "timestamp                        2356 non-null datetime64[ns]\n",
      "source                           2356 non-null object\n",
      "text                             2356 non-null object\n",
      "retweeted_status_id              181 non-null object\n",
      "retweeted_status_user_id         181 non-null object\n",
      "retweeted_status_timestamp       181 non-null datetime64[ns]\n",
      "expanded_urls                    2297 non-null object\n",
      "rating_numerator                 2356 non-null int64\n",
      "rating_denominator               2356 non-null int64\n",
      "name                             2356 non-null object\n",
      "doggo                            2356 non-null object\n",
      "floofer                          2356 non-null object\n",
      "pupper                           2356 non-null object\n",
      "puppo                            2356 non-null object\n",
      "jpg_url                          2075 non-null object\n",
      "img_num                          2075 non-null float64\n",
      "p1                               2075 non-null object\n",
      "p1_conf                          2075 non-null float64\n",
      "p1_dog                           2075 non-null object\n",
      "p2                               2075 non-null object\n",
      "p2_conf                          2075 non-null float64\n",
      "p2_dog                           2075 non-null object\n",
      "p3                               2075 non-null object\n",
      "p3_conf                          2075 non-null float64\n",
      "p3_dog                           2075 non-null object\n",
      "contributors                     0 non-null float64\n",
      "coordinates                      0 non-null float64\n",
      "created_at                       2325 non-null datetime64[ns]\n",
      "display_text_range               2325 non-null object\n",
      "entities                         2325 non-null object\n",
      "extended_entities                2055 non-null object\n",
      "favorite_count                   2325 non-null float64\n",
      "favorited                        2325 non-null object\n",
      "full_text                        2325 non-null object\n",
      "geo                              0 non-null float64\n",
      "id                               2325 non-null object\n",
      "id_str                           2325 non-null object\n",
      "in_reply_to_screen_name          77 non-null object\n",
      "in_reply_to_status_id_2          77 non-null float64\n",
      "in_reply_to_status_id_str        77 non-null float64\n",
      "in_reply_to_user_id_2            77 non-null float64\n",
      "in_reply_to_user_id_str          77 non-null float64\n",
      "is_quote_status                  2325 non-null object\n",
      "lang                             2325 non-null object\n",
      "place                            1 non-null object\n",
      "possibly_sensitive               2193 non-null float64\n",
      "possibly_sensitive_appealable    2193 non-null float64\n",
      "quoted_status                    23 non-null object\n",
      "quoted_status_id                 26 non-null float64\n",
      "quoted_status_id_str             26 non-null float64\n",
      "quoted_status_permalink          26 non-null object\n",
      "retweet_count                    2325 non-null float64\n",
      "retweeted                        2325 non-null object\n",
      "retweeted_status                 158 non-null object\n",
      "source_2                         2325 non-null object\n",
      "truncated                        2325 non-null object\n",
      "user                             2325 non-null object\n",
      "dtypes: datetime64[ns](3), float64(17), int64(2), object(38)\n",
      "memory usage: 1.1+ MB\n"
     ]
    }
   ],
   "source": [
    "df_all_clean.info()"
   ]
  },
  {
   "cell_type": "markdown",
   "metadata": {},
   "source": [
    "<a id=\"in_reply_to_status_id_2\"></a>\n",
    "### Quality issue 10. in_reply_to_status_id_2 is float instead of string\n",
    "[Back to ToC](#toc)"
   ]
  },
  {
   "cell_type": "markdown",
   "metadata": {
    "collapsed": true,
    "extensions": {
     "jupyter_dashboards": {
      "version": 1,
      "views": {
       "grid_default": {
        "hidden": true
       },
       "report_default": {
        "hidden": true
       }
      }
     }
    }
   },
   "source": [
    "#### Define\n",
    "Change in_reply_to_status_id_2 to string"
   ]
  },
  {
   "cell_type": "markdown",
   "metadata": {},
   "source": [
    "#### Code"
   ]
  },
  {
   "cell_type": "code",
   "execution_count": 40,
   "metadata": {},
   "outputs": [],
   "source": [
    "df_all_clean['in_reply_to_status_id_2'] = df_all_clean['in_reply_to_status_id_2'].astype(\"str\")\n",
    "df_all_clean['in_reply_to_status_id_2'].replace('nan', np.nan, inplace=True)"
   ]
  },
  {
   "cell_type": "markdown",
   "metadata": {},
   "source": [
    "#### Test"
   ]
  },
  {
   "cell_type": "code",
   "execution_count": 41,
   "metadata": {
    "scrolled": true
   },
   "outputs": [
    {
     "name": "stdout",
     "output_type": "stream",
     "text": [
      "<class 'pandas.core.frame.DataFrame'>\n",
      "Int64Index: 2356 entries, 0 to 2355\n",
      "Data columns (total 60 columns):\n",
      "tweet_id                         2356 non-null object\n",
      "in_reply_to_status_id            78 non-null object\n",
      "in_reply_to_user_id              78 non-null object\n",
      "timestamp                        2356 non-null datetime64[ns]\n",
      "source                           2356 non-null object\n",
      "text                             2356 non-null object\n",
      "retweeted_status_id              181 non-null object\n",
      "retweeted_status_user_id         181 non-null object\n",
      "retweeted_status_timestamp       181 non-null datetime64[ns]\n",
      "expanded_urls                    2297 non-null object\n",
      "rating_numerator                 2356 non-null int64\n",
      "rating_denominator               2356 non-null int64\n",
      "name                             2356 non-null object\n",
      "doggo                            2356 non-null object\n",
      "floofer                          2356 non-null object\n",
      "pupper                           2356 non-null object\n",
      "puppo                            2356 non-null object\n",
      "jpg_url                          2075 non-null object\n",
      "img_num                          2075 non-null float64\n",
      "p1                               2075 non-null object\n",
      "p1_conf                          2075 non-null float64\n",
      "p1_dog                           2075 non-null object\n",
      "p2                               2075 non-null object\n",
      "p2_conf                          2075 non-null float64\n",
      "p2_dog                           2075 non-null object\n",
      "p3                               2075 non-null object\n",
      "p3_conf                          2075 non-null float64\n",
      "p3_dog                           2075 non-null object\n",
      "contributors                     0 non-null float64\n",
      "coordinates                      0 non-null float64\n",
      "created_at                       2325 non-null datetime64[ns]\n",
      "display_text_range               2325 non-null object\n",
      "entities                         2325 non-null object\n",
      "extended_entities                2055 non-null object\n",
      "favorite_count                   2325 non-null float64\n",
      "favorited                        2325 non-null object\n",
      "full_text                        2325 non-null object\n",
      "geo                              0 non-null float64\n",
      "id                               2325 non-null object\n",
      "id_str                           2325 non-null object\n",
      "in_reply_to_screen_name          77 non-null object\n",
      "in_reply_to_status_id_2          77 non-null object\n",
      "in_reply_to_status_id_str        77 non-null float64\n",
      "in_reply_to_user_id_2            77 non-null float64\n",
      "in_reply_to_user_id_str          77 non-null float64\n",
      "is_quote_status                  2325 non-null object\n",
      "lang                             2325 non-null object\n",
      "place                            1 non-null object\n",
      "possibly_sensitive               2193 non-null float64\n",
      "possibly_sensitive_appealable    2193 non-null float64\n",
      "quoted_status                    23 non-null object\n",
      "quoted_status_id                 26 non-null float64\n",
      "quoted_status_id_str             26 non-null float64\n",
      "quoted_status_permalink          26 non-null object\n",
      "retweet_count                    2325 non-null float64\n",
      "retweeted                        2325 non-null object\n",
      "retweeted_status                 158 non-null object\n",
      "source_2                         2325 non-null object\n",
      "truncated                        2325 non-null object\n",
      "user                             2325 non-null object\n",
      "dtypes: datetime64[ns](3), float64(16), int64(2), object(39)\n",
      "memory usage: 1.1+ MB\n"
     ]
    }
   ],
   "source": [
    "df_all_clean.info()"
   ]
  },
  {
   "cell_type": "markdown",
   "metadata": {},
   "source": [
    "<a id=\"in_reply_to_status_id_str\"></a>\n",
    "### Quality issue 11. in_reply_to_status_id_str is float instead of string\n",
    "[Back to ToC](#toc)"
   ]
  },
  {
   "cell_type": "markdown",
   "metadata": {
    "collapsed": true,
    "extensions": {
     "jupyter_dashboards": {
      "version": 1,
      "views": {
       "grid_default": {
        "hidden": true
       },
       "report_default": {
        "hidden": true
       }
      }
     }
    }
   },
   "source": [
    "#### Define\n",
    "Change in_reply_to_status_id_str to string"
   ]
  },
  {
   "cell_type": "markdown",
   "metadata": {},
   "source": [
    "#### Code"
   ]
  },
  {
   "cell_type": "code",
   "execution_count": 42,
   "metadata": {},
   "outputs": [],
   "source": [
    "df_all_clean['in_reply_to_status_id_str'] = df_all_clean['in_reply_to_status_id_str'].astype(\"str\")\n",
    "df_all_clean['in_reply_to_status_id_str'].replace('nan', np.nan, inplace=True)"
   ]
  },
  {
   "cell_type": "markdown",
   "metadata": {},
   "source": [
    "#### Test"
   ]
  },
  {
   "cell_type": "code",
   "execution_count": 43,
   "metadata": {
    "scrolled": true
   },
   "outputs": [
    {
     "name": "stdout",
     "output_type": "stream",
     "text": [
      "<class 'pandas.core.frame.DataFrame'>\n",
      "Int64Index: 2356 entries, 0 to 2355\n",
      "Data columns (total 60 columns):\n",
      "tweet_id                         2356 non-null object\n",
      "in_reply_to_status_id            78 non-null object\n",
      "in_reply_to_user_id              78 non-null object\n",
      "timestamp                        2356 non-null datetime64[ns]\n",
      "source                           2356 non-null object\n",
      "text                             2356 non-null object\n",
      "retweeted_status_id              181 non-null object\n",
      "retweeted_status_user_id         181 non-null object\n",
      "retweeted_status_timestamp       181 non-null datetime64[ns]\n",
      "expanded_urls                    2297 non-null object\n",
      "rating_numerator                 2356 non-null int64\n",
      "rating_denominator               2356 non-null int64\n",
      "name                             2356 non-null object\n",
      "doggo                            2356 non-null object\n",
      "floofer                          2356 non-null object\n",
      "pupper                           2356 non-null object\n",
      "puppo                            2356 non-null object\n",
      "jpg_url                          2075 non-null object\n",
      "img_num                          2075 non-null float64\n",
      "p1                               2075 non-null object\n",
      "p1_conf                          2075 non-null float64\n",
      "p1_dog                           2075 non-null object\n",
      "p2                               2075 non-null object\n",
      "p2_conf                          2075 non-null float64\n",
      "p2_dog                           2075 non-null object\n",
      "p3                               2075 non-null object\n",
      "p3_conf                          2075 non-null float64\n",
      "p3_dog                           2075 non-null object\n",
      "contributors                     0 non-null float64\n",
      "coordinates                      0 non-null float64\n",
      "created_at                       2325 non-null datetime64[ns]\n",
      "display_text_range               2325 non-null object\n",
      "entities                         2325 non-null object\n",
      "extended_entities                2055 non-null object\n",
      "favorite_count                   2325 non-null float64\n",
      "favorited                        2325 non-null object\n",
      "full_text                        2325 non-null object\n",
      "geo                              0 non-null float64\n",
      "id                               2325 non-null object\n",
      "id_str                           2325 non-null object\n",
      "in_reply_to_screen_name          77 non-null object\n",
      "in_reply_to_status_id_2          77 non-null object\n",
      "in_reply_to_status_id_str        77 non-null object\n",
      "in_reply_to_user_id_2            77 non-null float64\n",
      "in_reply_to_user_id_str          77 non-null float64\n",
      "is_quote_status                  2325 non-null object\n",
      "lang                             2325 non-null object\n",
      "place                            1 non-null object\n",
      "possibly_sensitive               2193 non-null float64\n",
      "possibly_sensitive_appealable    2193 non-null float64\n",
      "quoted_status                    23 non-null object\n",
      "quoted_status_id                 26 non-null float64\n",
      "quoted_status_id_str             26 non-null float64\n",
      "quoted_status_permalink          26 non-null object\n",
      "retweet_count                    2325 non-null float64\n",
      "retweeted                        2325 non-null object\n",
      "retweeted_status                 158 non-null object\n",
      "source_2                         2325 non-null object\n",
      "truncated                        2325 non-null object\n",
      "user                             2325 non-null object\n",
      "dtypes: datetime64[ns](3), float64(15), int64(2), object(40)\n",
      "memory usage: 1.1+ MB\n"
     ]
    }
   ],
   "source": [
    "df_all_clean.info()"
   ]
  },
  {
   "cell_type": "markdown",
   "metadata": {},
   "source": [
    "<a id=\"in_reply_to_user_id_2\"></a>\n",
    "### Quality issue 12. in_reply_to_user_id_2 is float instead of string\n",
    "[Back to ToC](#toc)"
   ]
  },
  {
   "cell_type": "markdown",
   "metadata": {
    "collapsed": true,
    "extensions": {
     "jupyter_dashboards": {
      "version": 1,
      "views": {
       "grid_default": {
        "hidden": true
       },
       "report_default": {
        "hidden": true
       }
      }
     }
    }
   },
   "source": [
    "#### Define\n",
    "Change in_reply_to_user_id_2 to string"
   ]
  },
  {
   "cell_type": "markdown",
   "metadata": {},
   "source": [
    "#### Code"
   ]
  },
  {
   "cell_type": "code",
   "execution_count": 44,
   "metadata": {},
   "outputs": [],
   "source": [
    "df_all_clean['in_reply_to_user_id_2'] = df_all_clean['in_reply_to_user_id_2'].astype(\"str\")\n",
    "df_all_clean['in_reply_to_user_id_2'].replace('nan', np.nan, inplace=True)"
   ]
  },
  {
   "cell_type": "markdown",
   "metadata": {},
   "source": [
    "#### Test"
   ]
  },
  {
   "cell_type": "code",
   "execution_count": 45,
   "metadata": {
    "scrolled": true
   },
   "outputs": [
    {
     "name": "stdout",
     "output_type": "stream",
     "text": [
      "<class 'pandas.core.frame.DataFrame'>\n",
      "Int64Index: 2356 entries, 0 to 2355\n",
      "Data columns (total 60 columns):\n",
      "tweet_id                         2356 non-null object\n",
      "in_reply_to_status_id            78 non-null object\n",
      "in_reply_to_user_id              78 non-null object\n",
      "timestamp                        2356 non-null datetime64[ns]\n",
      "source                           2356 non-null object\n",
      "text                             2356 non-null object\n",
      "retweeted_status_id              181 non-null object\n",
      "retweeted_status_user_id         181 non-null object\n",
      "retweeted_status_timestamp       181 non-null datetime64[ns]\n",
      "expanded_urls                    2297 non-null object\n",
      "rating_numerator                 2356 non-null int64\n",
      "rating_denominator               2356 non-null int64\n",
      "name                             2356 non-null object\n",
      "doggo                            2356 non-null object\n",
      "floofer                          2356 non-null object\n",
      "pupper                           2356 non-null object\n",
      "puppo                            2356 non-null object\n",
      "jpg_url                          2075 non-null object\n",
      "img_num                          2075 non-null float64\n",
      "p1                               2075 non-null object\n",
      "p1_conf                          2075 non-null float64\n",
      "p1_dog                           2075 non-null object\n",
      "p2                               2075 non-null object\n",
      "p2_conf                          2075 non-null float64\n",
      "p2_dog                           2075 non-null object\n",
      "p3                               2075 non-null object\n",
      "p3_conf                          2075 non-null float64\n",
      "p3_dog                           2075 non-null object\n",
      "contributors                     0 non-null float64\n",
      "coordinates                      0 non-null float64\n",
      "created_at                       2325 non-null datetime64[ns]\n",
      "display_text_range               2325 non-null object\n",
      "entities                         2325 non-null object\n",
      "extended_entities                2055 non-null object\n",
      "favorite_count                   2325 non-null float64\n",
      "favorited                        2325 non-null object\n",
      "full_text                        2325 non-null object\n",
      "geo                              0 non-null float64\n",
      "id                               2325 non-null object\n",
      "id_str                           2325 non-null object\n",
      "in_reply_to_screen_name          77 non-null object\n",
      "in_reply_to_status_id_2          77 non-null object\n",
      "in_reply_to_status_id_str        77 non-null object\n",
      "in_reply_to_user_id_2            77 non-null object\n",
      "in_reply_to_user_id_str          77 non-null float64\n",
      "is_quote_status                  2325 non-null object\n",
      "lang                             2325 non-null object\n",
      "place                            1 non-null object\n",
      "possibly_sensitive               2193 non-null float64\n",
      "possibly_sensitive_appealable    2193 non-null float64\n",
      "quoted_status                    23 non-null object\n",
      "quoted_status_id                 26 non-null float64\n",
      "quoted_status_id_str             26 non-null float64\n",
      "quoted_status_permalink          26 non-null object\n",
      "retweet_count                    2325 non-null float64\n",
      "retweeted                        2325 non-null object\n",
      "retweeted_status                 158 non-null object\n",
      "source_2                         2325 non-null object\n",
      "truncated                        2325 non-null object\n",
      "user                             2325 non-null object\n",
      "dtypes: datetime64[ns](3), float64(14), int64(2), object(41)\n",
      "memory usage: 1.1+ MB\n"
     ]
    }
   ],
   "source": [
    "df_all_clean.info()"
   ]
  },
  {
   "cell_type": "markdown",
   "metadata": {},
   "source": [
    "<a id=\"in_reply_to_user_id_str\"></a>\n",
    "### Quality issue 13. in_reply_to_user_id_str is float instead of string\n",
    "[Back to ToC](#toc)"
   ]
  },
  {
   "cell_type": "markdown",
   "metadata": {
    "collapsed": true,
    "extensions": {
     "jupyter_dashboards": {
      "version": 1,
      "views": {
       "grid_default": {
        "hidden": true
       },
       "report_default": {
        "hidden": true
       }
      }
     }
    }
   },
   "source": [
    "#### Define\n",
    "Change  in_reply_to_user_id_str to string"
   ]
  },
  {
   "cell_type": "markdown",
   "metadata": {},
   "source": [
    "#### Code"
   ]
  },
  {
   "cell_type": "code",
   "execution_count": 46,
   "metadata": {},
   "outputs": [],
   "source": [
    "df_all_clean['in_reply_to_user_id_str'] = df_all_clean['in_reply_to_user_id_str'].astype(\"str\")\n",
    "df_all_clean['in_reply_to_user_id_str'].replace('nan', np.nan, inplace=True)"
   ]
  },
  {
   "cell_type": "markdown",
   "metadata": {},
   "source": [
    "#### Test"
   ]
  },
  {
   "cell_type": "code",
   "execution_count": 47,
   "metadata": {
    "scrolled": true
   },
   "outputs": [
    {
     "name": "stdout",
     "output_type": "stream",
     "text": [
      "<class 'pandas.core.frame.DataFrame'>\n",
      "Int64Index: 2356 entries, 0 to 2355\n",
      "Data columns (total 60 columns):\n",
      "tweet_id                         2356 non-null object\n",
      "in_reply_to_status_id            78 non-null object\n",
      "in_reply_to_user_id              78 non-null object\n",
      "timestamp                        2356 non-null datetime64[ns]\n",
      "source                           2356 non-null object\n",
      "text                             2356 non-null object\n",
      "retweeted_status_id              181 non-null object\n",
      "retweeted_status_user_id         181 non-null object\n",
      "retweeted_status_timestamp       181 non-null datetime64[ns]\n",
      "expanded_urls                    2297 non-null object\n",
      "rating_numerator                 2356 non-null int64\n",
      "rating_denominator               2356 non-null int64\n",
      "name                             2356 non-null object\n",
      "doggo                            2356 non-null object\n",
      "floofer                          2356 non-null object\n",
      "pupper                           2356 non-null object\n",
      "puppo                            2356 non-null object\n",
      "jpg_url                          2075 non-null object\n",
      "img_num                          2075 non-null float64\n",
      "p1                               2075 non-null object\n",
      "p1_conf                          2075 non-null float64\n",
      "p1_dog                           2075 non-null object\n",
      "p2                               2075 non-null object\n",
      "p2_conf                          2075 non-null float64\n",
      "p2_dog                           2075 non-null object\n",
      "p3                               2075 non-null object\n",
      "p3_conf                          2075 non-null float64\n",
      "p3_dog                           2075 non-null object\n",
      "contributors                     0 non-null float64\n",
      "coordinates                      0 non-null float64\n",
      "created_at                       2325 non-null datetime64[ns]\n",
      "display_text_range               2325 non-null object\n",
      "entities                         2325 non-null object\n",
      "extended_entities                2055 non-null object\n",
      "favorite_count                   2325 non-null float64\n",
      "favorited                        2325 non-null object\n",
      "full_text                        2325 non-null object\n",
      "geo                              0 non-null float64\n",
      "id                               2325 non-null object\n",
      "id_str                           2325 non-null object\n",
      "in_reply_to_screen_name          77 non-null object\n",
      "in_reply_to_status_id_2          77 non-null object\n",
      "in_reply_to_status_id_str        77 non-null object\n",
      "in_reply_to_user_id_2            77 non-null object\n",
      "in_reply_to_user_id_str          77 non-null object\n",
      "is_quote_status                  2325 non-null object\n",
      "lang                             2325 non-null object\n",
      "place                            1 non-null object\n",
      "possibly_sensitive               2193 non-null float64\n",
      "possibly_sensitive_appealable    2193 non-null float64\n",
      "quoted_status                    23 non-null object\n",
      "quoted_status_id                 26 non-null float64\n",
      "quoted_status_id_str             26 non-null float64\n",
      "quoted_status_permalink          26 non-null object\n",
      "retweet_count                    2325 non-null float64\n",
      "retweeted                        2325 non-null object\n",
      "retweeted_status                 158 non-null object\n",
      "source_2                         2325 non-null object\n",
      "truncated                        2325 non-null object\n",
      "user                             2325 non-null object\n",
      "dtypes: datetime64[ns](3), float64(13), int64(2), object(42)\n",
      "memory usage: 1.1+ MB\n"
     ]
    }
   ],
   "source": [
    "df_all_clean.info()"
   ]
  },
  {
   "cell_type": "markdown",
   "metadata": {},
   "source": [
    "<a id=\"quoted_status_id\"></a>\n",
    "### Quality issue 14. quoted_status_id is float instead of string\n",
    "[Back to ToC](#toc)"
   ]
  },
  {
   "cell_type": "markdown",
   "metadata": {
    "collapsed": true,
    "extensions": {
     "jupyter_dashboards": {
      "version": 1,
      "views": {
       "grid_default": {
        "hidden": true
       },
       "report_default": {
        "hidden": true
       }
      }
     }
    }
   },
   "source": [
    "#### Define\n",
    "Change quoted_status_id to string"
   ]
  },
  {
   "cell_type": "markdown",
   "metadata": {},
   "source": [
    "#### Code"
   ]
  },
  {
   "cell_type": "code",
   "execution_count": 48,
   "metadata": {},
   "outputs": [],
   "source": [
    "df_all_clean['quoted_status_id'] = df_all_clean['quoted_status_id'].astype(\"str\")\n",
    "df_all_clean['quoted_status_id'].replace('nan', np.nan, inplace=True)"
   ]
  },
  {
   "cell_type": "markdown",
   "metadata": {},
   "source": [
    "#### Test"
   ]
  },
  {
   "cell_type": "code",
   "execution_count": 49,
   "metadata": {
    "scrolled": true
   },
   "outputs": [
    {
     "name": "stdout",
     "output_type": "stream",
     "text": [
      "<class 'pandas.core.frame.DataFrame'>\n",
      "Int64Index: 2356 entries, 0 to 2355\n",
      "Data columns (total 60 columns):\n",
      "tweet_id                         2356 non-null object\n",
      "in_reply_to_status_id            78 non-null object\n",
      "in_reply_to_user_id              78 non-null object\n",
      "timestamp                        2356 non-null datetime64[ns]\n",
      "source                           2356 non-null object\n",
      "text                             2356 non-null object\n",
      "retweeted_status_id              181 non-null object\n",
      "retweeted_status_user_id         181 non-null object\n",
      "retweeted_status_timestamp       181 non-null datetime64[ns]\n",
      "expanded_urls                    2297 non-null object\n",
      "rating_numerator                 2356 non-null int64\n",
      "rating_denominator               2356 non-null int64\n",
      "name                             2356 non-null object\n",
      "doggo                            2356 non-null object\n",
      "floofer                          2356 non-null object\n",
      "pupper                           2356 non-null object\n",
      "puppo                            2356 non-null object\n",
      "jpg_url                          2075 non-null object\n",
      "img_num                          2075 non-null float64\n",
      "p1                               2075 non-null object\n",
      "p1_conf                          2075 non-null float64\n",
      "p1_dog                           2075 non-null object\n",
      "p2                               2075 non-null object\n",
      "p2_conf                          2075 non-null float64\n",
      "p2_dog                           2075 non-null object\n",
      "p3                               2075 non-null object\n",
      "p3_conf                          2075 non-null float64\n",
      "p3_dog                           2075 non-null object\n",
      "contributors                     0 non-null float64\n",
      "coordinates                      0 non-null float64\n",
      "created_at                       2325 non-null datetime64[ns]\n",
      "display_text_range               2325 non-null object\n",
      "entities                         2325 non-null object\n",
      "extended_entities                2055 non-null object\n",
      "favorite_count                   2325 non-null float64\n",
      "favorited                        2325 non-null object\n",
      "full_text                        2325 non-null object\n",
      "geo                              0 non-null float64\n",
      "id                               2325 non-null object\n",
      "id_str                           2325 non-null object\n",
      "in_reply_to_screen_name          77 non-null object\n",
      "in_reply_to_status_id_2          77 non-null object\n",
      "in_reply_to_status_id_str        77 non-null object\n",
      "in_reply_to_user_id_2            77 non-null object\n",
      "in_reply_to_user_id_str          77 non-null object\n",
      "is_quote_status                  2325 non-null object\n",
      "lang                             2325 non-null object\n",
      "place                            1 non-null object\n",
      "possibly_sensitive               2193 non-null float64\n",
      "possibly_sensitive_appealable    2193 non-null float64\n",
      "quoted_status                    23 non-null object\n",
      "quoted_status_id                 26 non-null object\n",
      "quoted_status_id_str             26 non-null float64\n",
      "quoted_status_permalink          26 non-null object\n",
      "retweet_count                    2325 non-null float64\n",
      "retweeted                        2325 non-null object\n",
      "retweeted_status                 158 non-null object\n",
      "source_2                         2325 non-null object\n",
      "truncated                        2325 non-null object\n",
      "user                             2325 non-null object\n",
      "dtypes: datetime64[ns](3), float64(12), int64(2), object(43)\n",
      "memory usage: 1.1+ MB\n"
     ]
    }
   ],
   "source": [
    "df_all_clean.info()"
   ]
  },
  {
   "cell_type": "markdown",
   "metadata": {},
   "source": [
    "<a id=\"quoted_status_id_str\"></a>\n",
    "### Quality issue 15. quoted_status_id_str is float instead of string\n",
    "[Back to ToC](#toc)"
   ]
  },
  {
   "cell_type": "markdown",
   "metadata": {
    "collapsed": true,
    "extensions": {
     "jupyter_dashboards": {
      "version": 1,
      "views": {
       "grid_default": {
        "hidden": true
       },
       "report_default": {
        "hidden": true
       }
      }
     }
    }
   },
   "source": [
    "#### Define\n",
    "Change quoted_status_id_str to string"
   ]
  },
  {
   "cell_type": "markdown",
   "metadata": {},
   "source": [
    "#### Code"
   ]
  },
  {
   "cell_type": "code",
   "execution_count": 50,
   "metadata": {},
   "outputs": [],
   "source": [
    "df_all_clean['quoted_status_id_str'] = df_all_clean['quoted_status_id_str'].astype(\"str\")\n",
    "df_all_clean['quoted_status_id_str'].replace('nan', np.nan, inplace=True)"
   ]
  },
  {
   "cell_type": "markdown",
   "metadata": {},
   "source": [
    "#### Test"
   ]
  },
  {
   "cell_type": "code",
   "execution_count": 51,
   "metadata": {
    "scrolled": true
   },
   "outputs": [
    {
     "name": "stdout",
     "output_type": "stream",
     "text": [
      "<class 'pandas.core.frame.DataFrame'>\n",
      "Int64Index: 2356 entries, 0 to 2355\n",
      "Data columns (total 60 columns):\n",
      "tweet_id                         2356 non-null object\n",
      "in_reply_to_status_id            78 non-null object\n",
      "in_reply_to_user_id              78 non-null object\n",
      "timestamp                        2356 non-null datetime64[ns]\n",
      "source                           2356 non-null object\n",
      "text                             2356 non-null object\n",
      "retweeted_status_id              181 non-null object\n",
      "retweeted_status_user_id         181 non-null object\n",
      "retweeted_status_timestamp       181 non-null datetime64[ns]\n",
      "expanded_urls                    2297 non-null object\n",
      "rating_numerator                 2356 non-null int64\n",
      "rating_denominator               2356 non-null int64\n",
      "name                             2356 non-null object\n",
      "doggo                            2356 non-null object\n",
      "floofer                          2356 non-null object\n",
      "pupper                           2356 non-null object\n",
      "puppo                            2356 non-null object\n",
      "jpg_url                          2075 non-null object\n",
      "img_num                          2075 non-null float64\n",
      "p1                               2075 non-null object\n",
      "p1_conf                          2075 non-null float64\n",
      "p1_dog                           2075 non-null object\n",
      "p2                               2075 non-null object\n",
      "p2_conf                          2075 non-null float64\n",
      "p2_dog                           2075 non-null object\n",
      "p3                               2075 non-null object\n",
      "p3_conf                          2075 non-null float64\n",
      "p3_dog                           2075 non-null object\n",
      "contributors                     0 non-null float64\n",
      "coordinates                      0 non-null float64\n",
      "created_at                       2325 non-null datetime64[ns]\n",
      "display_text_range               2325 non-null object\n",
      "entities                         2325 non-null object\n",
      "extended_entities                2055 non-null object\n",
      "favorite_count                   2325 non-null float64\n",
      "favorited                        2325 non-null object\n",
      "full_text                        2325 non-null object\n",
      "geo                              0 non-null float64\n",
      "id                               2325 non-null object\n",
      "id_str                           2325 non-null object\n",
      "in_reply_to_screen_name          77 non-null object\n",
      "in_reply_to_status_id_2          77 non-null object\n",
      "in_reply_to_status_id_str        77 non-null object\n",
      "in_reply_to_user_id_2            77 non-null object\n",
      "in_reply_to_user_id_str          77 non-null object\n",
      "is_quote_status                  2325 non-null object\n",
      "lang                             2325 non-null object\n",
      "place                            1 non-null object\n",
      "possibly_sensitive               2193 non-null float64\n",
      "possibly_sensitive_appealable    2193 non-null float64\n",
      "quoted_status                    23 non-null object\n",
      "quoted_status_id                 26 non-null object\n",
      "quoted_status_id_str             26 non-null object\n",
      "quoted_status_permalink          26 non-null object\n",
      "retweet_count                    2325 non-null float64\n",
      "retweeted                        2325 non-null object\n",
      "retweeted_status                 158 non-null object\n",
      "source_2                         2325 non-null object\n",
      "truncated                        2325 non-null object\n",
      "user                             2325 non-null object\n",
      "dtypes: datetime64[ns](3), float64(11), int64(2), object(44)\n",
      "memory usage: 1.1+ MB\n"
     ]
    }
   ],
   "source": [
    "df_all_clean.info()"
   ]
  },
  {
   "cell_type": "markdown",
   "metadata": {},
   "source": [
    "<a id=\"possibly_sensitive\"></a>\n",
    "### Quality issue 16. possibly_sensitive is always 0\n",
    "[Back to ToC](#toc)"
   ]
  },
  {
   "cell_type": "markdown",
   "metadata": {
    "collapsed": true,
    "extensions": {
     "jupyter_dashboards": {
      "version": 1,
      "views": {
       "grid_default": {
        "hidden": true
       },
       "report_default": {
        "hidden": true
       }
      }
     }
    }
   },
   "source": [
    "#### Define\n",
    "Delete possibly_sensitive column"
   ]
  },
  {
   "cell_type": "markdown",
   "metadata": {},
   "source": [
    "#### Code"
   ]
  },
  {
   "cell_type": "code",
   "execution_count": 52,
   "metadata": {},
   "outputs": [],
   "source": [
    "to_delete = 'possibly_sensitive'\n",
    "df_all_clean = df_all_clean.drop('possibly_sensitive', axis=1)"
   ]
  },
  {
   "cell_type": "markdown",
   "metadata": {},
   "source": [
    "#### Test"
   ]
  },
  {
   "cell_type": "code",
   "execution_count": 53,
   "metadata": {
    "scrolled": true
   },
   "outputs": [
    {
     "data": {
      "text/plain": [
       "False"
      ]
     },
     "execution_count": 53,
     "metadata": {},
     "output_type": "execute_result"
    }
   ],
   "source": [
    "to_delete in df_all_clean.columns"
   ]
  },
  {
   "cell_type": "markdown",
   "metadata": {},
   "source": [
    "<a id=\"possibly_sensitive_appealable\"></a>\n",
    "### Quality issue 17. possibly_sensitive_appealable is always 0\n",
    "[Back to ToC](#toc)"
   ]
  },
  {
   "cell_type": "markdown",
   "metadata": {
    "collapsed": true,
    "extensions": {
     "jupyter_dashboards": {
      "version": 1,
      "views": {
       "grid_default": {
        "hidden": true
       },
       "report_default": {
        "hidden": true
       }
      }
     }
    }
   },
   "source": [
    "#### Define\n",
    "Delete possibly_sensitive_appealable column"
   ]
  },
  {
   "cell_type": "markdown",
   "metadata": {},
   "source": [
    "#### Code"
   ]
  },
  {
   "cell_type": "code",
   "execution_count": 54,
   "metadata": {},
   "outputs": [],
   "source": [
    "to_delete = 'possibly_sensitive_appealable'\n",
    "df_all_clean = df_all_clean.drop(to_delete, axis=1)"
   ]
  },
  {
   "cell_type": "markdown",
   "metadata": {},
   "source": [
    "#### Test"
   ]
  },
  {
   "cell_type": "code",
   "execution_count": 55,
   "metadata": {
    "scrolled": true
   },
   "outputs": [
    {
     "data": {
      "text/plain": [
       "False"
      ]
     },
     "execution_count": 55,
     "metadata": {},
     "output_type": "execute_result"
    }
   ],
   "source": [
    "to_delete in df_all_clean.columns"
   ]
  },
  {
   "cell_type": "markdown",
   "metadata": {},
   "source": [
    "<a id=\"contributors\"></a>\n",
    "### Quality issue 18. contributors has no values\n",
    "[Back to ToC](#toc)"
   ]
  },
  {
   "cell_type": "markdown",
   "metadata": {
    "collapsed": true,
    "extensions": {
     "jupyter_dashboards": {
      "version": 1,
      "views": {
       "grid_default": {
        "hidden": true
       },
       "report_default": {
        "hidden": true
       }
      }
     }
    }
   },
   "source": [
    "#### Define\n",
    "Delete contributors column"
   ]
  },
  {
   "cell_type": "markdown",
   "metadata": {},
   "source": [
    "#### Code"
   ]
  },
  {
   "cell_type": "code",
   "execution_count": 56,
   "metadata": {},
   "outputs": [],
   "source": [
    "to_delete = 'contributors'\n",
    "df_all_clean = df_all_clean.drop(to_delete, axis=1)"
   ]
  },
  {
   "cell_type": "markdown",
   "metadata": {},
   "source": [
    "#### Test"
   ]
  },
  {
   "cell_type": "code",
   "execution_count": 57,
   "metadata": {
    "scrolled": true
   },
   "outputs": [
    {
     "data": {
      "text/plain": [
       "False"
      ]
     },
     "execution_count": 57,
     "metadata": {},
     "output_type": "execute_result"
    }
   ],
   "source": [
    "to_delete in df_all_clean.columns"
   ]
  },
  {
   "cell_type": "markdown",
   "metadata": {},
   "source": [
    "<a id=\"coordinates\"></a>\n",
    "### Quality issue 19. coordinates has no values\n",
    "[Back to ToC](#toc)"
   ]
  },
  {
   "cell_type": "markdown",
   "metadata": {
    "collapsed": true,
    "extensions": {
     "jupyter_dashboards": {
      "version": 1,
      "views": {
       "grid_default": {
        "hidden": true
       },
       "report_default": {
        "hidden": true
       }
      }
     }
    }
   },
   "source": [
    "#### Define\n",
    "Delete coordinates column"
   ]
  },
  {
   "cell_type": "markdown",
   "metadata": {},
   "source": [
    "#### Code"
   ]
  },
  {
   "cell_type": "code",
   "execution_count": 58,
   "metadata": {},
   "outputs": [],
   "source": [
    "to_delete = 'coordinates'\n",
    "df_all_clean = df_all_clean.drop(to_delete, axis=1)"
   ]
  },
  {
   "cell_type": "markdown",
   "metadata": {},
   "source": [
    "#### Test"
   ]
  },
  {
   "cell_type": "code",
   "execution_count": 59,
   "metadata": {
    "scrolled": true
   },
   "outputs": [
    {
     "data": {
      "text/plain": [
       "False"
      ]
     },
     "execution_count": 59,
     "metadata": {},
     "output_type": "execute_result"
    }
   ],
   "source": [
    "to_delete in df_all_clean.columns"
   ]
  },
  {
   "cell_type": "markdown",
   "metadata": {},
   "source": [
    "<a id=\"geo\"></a>\n",
    "### Quality issue 20. geo has no values\n",
    "[Back to ToC](#toc)"
   ]
  },
  {
   "cell_type": "markdown",
   "metadata": {
    "collapsed": true,
    "extensions": {
     "jupyter_dashboards": {
      "version": 1,
      "views": {
       "grid_default": {
        "hidden": true
       },
       "report_default": {
        "hidden": true
       }
      }
     }
    }
   },
   "source": [
    "#### Define\n",
    "Delete geo column"
   ]
  },
  {
   "cell_type": "markdown",
   "metadata": {},
   "source": [
    "#### Code"
   ]
  },
  {
   "cell_type": "code",
   "execution_count": 60,
   "metadata": {},
   "outputs": [],
   "source": [
    "to_delete = 'geo'\n",
    "df_all_clean = df_all_clean.drop(to_delete, axis=1)"
   ]
  },
  {
   "cell_type": "markdown",
   "metadata": {},
   "source": [
    "#### Test"
   ]
  },
  {
   "cell_type": "code",
   "execution_count": 61,
   "metadata": {
    "scrolled": true
   },
   "outputs": [
    {
     "data": {
      "text/plain": [
       "False"
      ]
     },
     "execution_count": 61,
     "metadata": {},
     "output_type": "execute_result"
    }
   ],
   "source": [
    "to_delete in df_all_clean.columns"
   ]
  },
  {
   "cell_type": "markdown",
   "metadata": {},
   "source": [
    "<a id=\"not_ratings\"></a>\n",
    "### Quality issue 21. 4 records are not ratings\n",
    "[Back to ToC](#toc)"
   ]
  },
  {
   "cell_type": "markdown",
   "metadata": {
    "collapsed": true,
    "extensions": {
     "jupyter_dashboards": {
      "version": 1,
      "views": {
       "grid_default": {
        "hidden": true
       },
       "report_default": {
        "hidden": true
       }
      }
     }
    }
   },
   "source": [
    "#### Define\n",
    "Delete tweets 835246439529840640, 832088576586297345, 810984652412424192, and 682808988178739200"
   ]
  },
  {
   "cell_type": "markdown",
   "metadata": {},
   "source": [
    "#### Code"
   ]
  },
  {
   "cell_type": "code",
   "execution_count": 62,
   "metadata": {},
   "outputs": [],
   "source": [
    "to_delete = ['835246439529840640', '832088576586297345', '810984652412424192', '682808988178739200']\n",
    "df_all_clean = df_all_clean.drop(df_all_clean[df_all_clean['tweet_id'].isin(to_delete)].index)"
   ]
  },
  {
   "cell_type": "markdown",
   "metadata": {},
   "source": [
    "#### Test"
   ]
  },
  {
   "cell_type": "code",
   "execution_count": 63,
   "metadata": {
    "scrolled": true
   },
   "outputs": [
    {
     "data": {
      "text/plain": [
       "True"
      ]
     },
     "execution_count": 63,
     "metadata": {},
     "output_type": "execute_result"
    }
   ],
   "source": [
    "len(df_all_clean[df_all_clean['tweet_id'].isin(to_delete)]) == 0"
   ]
  },
  {
   "cell_type": "markdown",
   "metadata": {},
   "source": [
    "<a id=\"incorrect_ratings\"></a>\n",
    "### Quality issue 22. 5 records with incorrect ratings\n",
    "[Back to ToC](#toc)"
   ]
  },
  {
   "cell_type": "markdown",
   "metadata": {
    "collapsed": true,
    "extensions": {
     "jupyter_dashboards": {
      "version": 1,
      "views": {
       "grid_default": {
        "hidden": true
       },
       "report_default": {
        "hidden": true
       }
      }
     }
    }
   },
   "source": [
    "#### Define\n",
    "Records with more then one / (ignoring any links) need to ignore the first"
   ]
  },
  {
   "cell_type": "markdown",
   "metadata": {},
   "source": [
    "#### Code"
   ]
  },
  {
   "cell_type": "code",
   "execution_count": 64,
   "metadata": {},
   "outputs": [],
   "source": [
    "df_all_clean[['fixed_rating_numerator','fixed_rating_denominator']] = df_all_clean['text'].str.replace('https?://[^ ]*','').str.extract('[0-9]*/[0-9]*[^0-9]+([0-9]*)/([0-9]*)')\n",
    "df_all_clean['fixed_rating_numerator'].fillna(df_all_clean['rating_numerator'], inplace=True)\n",
    "df_all_clean['fixed_rating_denominator'].fillna(df_all_clean['rating_denominator'], inplace=True)"
   ]
  },
  {
   "cell_type": "markdown",
   "metadata": {},
   "source": [
    "#### Test"
   ]
  },
  {
   "cell_type": "code",
   "execution_count": 65,
   "metadata": {},
   "outputs": [
    {
     "data": {
      "text/html": [
       "<div>\n",
       "<style scoped>\n",
       "    .dataframe tbody tr th:only-of-type {\n",
       "        vertical-align: middle;\n",
       "    }\n",
       "\n",
       "    .dataframe tbody tr th {\n",
       "        vertical-align: top;\n",
       "    }\n",
       "\n",
       "    .dataframe thead th {\n",
       "        text-align: right;\n",
       "    }\n",
       "</style>\n",
       "<table border=\"1\" class=\"dataframe\">\n",
       "  <thead>\n",
       "    <tr style=\"text-align: right;\">\n",
       "      <th></th>\n",
       "      <th>tweet_id</th>\n",
       "      <th>text</th>\n",
       "      <th>rating_numerator</th>\n",
       "      <th>rating_denominator</th>\n",
       "      <th>fixed_rating_numerator</th>\n",
       "      <th>fixed_rating_denominator</th>\n",
       "    </tr>\n",
       "  </thead>\n",
       "  <tbody>\n",
       "    <tr>\n",
       "      <th>0</th>\n",
       "      <td>892420643555336193</td>\n",
       "      <td>This is Phineas. He's a mystical boy. Only ever appears in the hole of a donut. 13/10 https://t.co/MgUWQ76dJU</td>\n",
       "      <td>13</td>\n",
       "      <td>10</td>\n",
       "      <td>13</td>\n",
       "      <td>10</td>\n",
       "    </tr>\n",
       "    <tr>\n",
       "      <th>1</th>\n",
       "      <td>892177421306343426</td>\n",
       "      <td>This is Tilly. She's just checking pup on you. Hopes you're doing ok. If not, she's available for pats, snugs, boops, the whole bit. 13/10 https://t.co/0Xxu71qeIV</td>\n",
       "      <td>13</td>\n",
       "      <td>10</td>\n",
       "      <td>13</td>\n",
       "      <td>10</td>\n",
       "    </tr>\n",
       "    <tr>\n",
       "      <th>2</th>\n",
       "      <td>891815181378084864</td>\n",
       "      <td>This is Archie. He is a rare Norwegian Pouncing Corgo. Lives in the tall grass. You never know when one may strike. 12/10 https://t.co/wUnZnhtVJB</td>\n",
       "      <td>12</td>\n",
       "      <td>10</td>\n",
       "      <td>12</td>\n",
       "      <td>10</td>\n",
       "    </tr>\n",
       "    <tr>\n",
       "      <th>3</th>\n",
       "      <td>891689557279858688</td>\n",
       "      <td>This is Darla. She commenced a snooze mid meal. 13/10 happens to the best of us https://t.co/tD36da7qLQ</td>\n",
       "      <td>13</td>\n",
       "      <td>10</td>\n",
       "      <td>13</td>\n",
       "      <td>10</td>\n",
       "    </tr>\n",
       "    <tr>\n",
       "      <th>4</th>\n",
       "      <td>891327558926688256</td>\n",
       "      <td>This is Franklin. He would like you to stop calling him \"cute.\" He is a very fierce shark and should be respected as such. 12/10 #BarkWeek https://t.co/AtUZn91f7f</td>\n",
       "      <td>12</td>\n",
       "      <td>10</td>\n",
       "      <td>12</td>\n",
       "      <td>10</td>\n",
       "    </tr>\n",
       "  </tbody>\n",
       "</table>\n",
       "</div>"
      ],
      "text/plain": [
       "             tweet_id  \\\n",
       "0  892420643555336193   \n",
       "1  892177421306343426   \n",
       "2  891815181378084864   \n",
       "3  891689557279858688   \n",
       "4  891327558926688256   \n",
       "\n",
       "                                                                                                                                                                 text  \\\n",
       "0                                                       This is Phineas. He's a mystical boy. Only ever appears in the hole of a donut. 13/10 https://t.co/MgUWQ76dJU   \n",
       "1  This is Tilly. She's just checking pup on you. Hopes you're doing ok. If not, she's available for pats, snugs, boops, the whole bit. 13/10 https://t.co/0Xxu71qeIV   \n",
       "2                   This is Archie. He is a rare Norwegian Pouncing Corgo. Lives in the tall grass. You never know when one may strike. 12/10 https://t.co/wUnZnhtVJB   \n",
       "3                                                             This is Darla. She commenced a snooze mid meal. 13/10 happens to the best of us https://t.co/tD36da7qLQ   \n",
       "4  This is Franklin. He would like you to stop calling him \"cute.\" He is a very fierce shark and should be respected as such. 12/10 #BarkWeek https://t.co/AtUZn91f7f   \n",
       "\n",
       "   rating_numerator  rating_denominator fixed_rating_numerator  \\\n",
       "0                13                  10                     13   \n",
       "1                13                  10                     13   \n",
       "2                12                  10                     12   \n",
       "3                13                  10                     13   \n",
       "4                12                  10                     12   \n",
       "\n",
       "  fixed_rating_denominator  \n",
       "0                       10  \n",
       "1                       10  \n",
       "2                       10  \n",
       "3                       10  \n",
       "4                       10  "
      ]
     },
     "execution_count": 65,
     "metadata": {},
     "output_type": "execute_result"
    }
   ],
   "source": [
    "df = df_all_clean[['tweet_id','text','rating_numerator','rating_denominator','fixed_rating_numerator','fixed_rating_denominator']]\n",
    "df.head()"
   ]
  },
  {
   "cell_type": "code",
   "execution_count": 66,
   "metadata": {},
   "outputs": [
    {
     "data": {
      "text/html": [
       "<div>\n",
       "<style scoped>\n",
       "    .dataframe tbody tr th:only-of-type {\n",
       "        vertical-align: middle;\n",
       "    }\n",
       "\n",
       "    .dataframe tbody tr th {\n",
       "        vertical-align: top;\n",
       "    }\n",
       "\n",
       "    .dataframe thead th {\n",
       "        text-align: right;\n",
       "    }\n",
       "</style>\n",
       "<table border=\"1\" class=\"dataframe\">\n",
       "  <thead>\n",
       "    <tr style=\"text-align: right;\">\n",
       "      <th></th>\n",
       "      <th>tweet_id</th>\n",
       "      <th>text</th>\n",
       "      <th>rating_numerator</th>\n",
       "      <th>rating_denominator</th>\n",
       "      <th>fixed_rating_numerator</th>\n",
       "      <th>fixed_rating_denominator</th>\n",
       "    </tr>\n",
       "  </thead>\n",
       "  <tbody>\n",
       "    <tr>\n",
       "      <th>784</th>\n",
       "      <td>775096608509886464</td>\n",
       "      <td>RT @dog_rates: After so many requests, this is Bretagne. She was the last surviving 9/11 search dog, and our second ever 14/10. RIP https:/…</td>\n",
       "      <td>9</td>\n",
       "      <td>11</td>\n",
       "      <td>14</td>\n",
       "      <td>10</td>\n",
       "    </tr>\n",
       "    <tr>\n",
       "      <th>1068</th>\n",
       "      <td>740373189193256964</td>\n",
       "      <td>After so many requests, this is Bretagne. She was the last surviving 9/11 search dog, and our second ever 14/10. RIP https://t.co/XAVDNDaVgQ</td>\n",
       "      <td>9</td>\n",
       "      <td>11</td>\n",
       "      <td>14</td>\n",
       "      <td>10</td>\n",
       "    </tr>\n",
       "    <tr>\n",
       "      <th>1165</th>\n",
       "      <td>722974582966214656</td>\n",
       "      <td>Happy 4/20 from the squad! 13/10 for all https://t.co/eV1diwds8a</td>\n",
       "      <td>4</td>\n",
       "      <td>20</td>\n",
       "      <td>13</td>\n",
       "      <td>10</td>\n",
       "    </tr>\n",
       "    <tr>\n",
       "      <th>1202</th>\n",
       "      <td>716439118184652801</td>\n",
       "      <td>This is Bluebert. He just saw that both #FinalFur match ups are split 50/50. Amazed af. 11/10 https://t.co/Kky1DPG4iq</td>\n",
       "      <td>50</td>\n",
       "      <td>50</td>\n",
       "      <td>11</td>\n",
       "      <td>10</td>\n",
       "    </tr>\n",
       "    <tr>\n",
       "      <th>1662</th>\n",
       "      <td>682962037429899265</td>\n",
       "      <td>This is Darrel. He just robbed a 7/11 and is in a high speed police chase. Was just spotted by the helicopter 10/10 https://t.co/7EsP8LmSp5</td>\n",
       "      <td>7</td>\n",
       "      <td>11</td>\n",
       "      <td>10</td>\n",
       "      <td>10</td>\n",
       "    </tr>\n",
       "    <tr>\n",
       "      <th>2335</th>\n",
       "      <td>666287406224695296</td>\n",
       "      <td>This is an Albanian 3 1/2 legged  Episcopalian. Loves well-polished hardwood flooring. Penis on the collar. 9/10 https://t.co/d9NcXFKwLv</td>\n",
       "      <td>1</td>\n",
       "      <td>2</td>\n",
       "      <td>9</td>\n",
       "      <td>10</td>\n",
       "    </tr>\n",
       "  </tbody>\n",
       "</table>\n",
       "</div>"
      ],
      "text/plain": [
       "                tweet_id  \\\n",
       "784   775096608509886464   \n",
       "1068  740373189193256964   \n",
       "1165  722974582966214656   \n",
       "1202  716439118184652801   \n",
       "1662  682962037429899265   \n",
       "2335  666287406224695296   \n",
       "\n",
       "                                                                                                                                              text  \\\n",
       "784   RT @dog_rates: After so many requests, this is Bretagne. She was the last surviving 9/11 search dog, and our second ever 14/10. RIP https:/…   \n",
       "1068  After so many requests, this is Bretagne. She was the last surviving 9/11 search dog, and our second ever 14/10. RIP https://t.co/XAVDNDaVgQ   \n",
       "1165                                                                              Happy 4/20 from the squad! 13/10 for all https://t.co/eV1diwds8a   \n",
       "1202                         This is Bluebert. He just saw that both #FinalFur match ups are split 50/50. Amazed af. 11/10 https://t.co/Kky1DPG4iq   \n",
       "1662   This is Darrel. He just robbed a 7/11 and is in a high speed police chase. Was just spotted by the helicopter 10/10 https://t.co/7EsP8LmSp5   \n",
       "2335      This is an Albanian 3 1/2 legged  Episcopalian. Loves well-polished hardwood flooring. Penis on the collar. 9/10 https://t.co/d9NcXFKwLv   \n",
       "\n",
       "      rating_numerator  rating_denominator fixed_rating_numerator  \\\n",
       "784                  9                  11                     14   \n",
       "1068                 9                  11                     14   \n",
       "1165                 4                  20                     13   \n",
       "1202                50                  50                     11   \n",
       "1662                 7                  11                     10   \n",
       "2335                 1                   2                      9   \n",
       "\n",
       "     fixed_rating_denominator  \n",
       "784                        10  \n",
       "1068                       10  \n",
       "1165                       10  \n",
       "1202                       10  \n",
       "1662                       10  \n",
       "2335                       10  "
      ]
     },
     "execution_count": 66,
     "metadata": {},
     "output_type": "execute_result"
    }
   ],
   "source": [
    "df = df[df['rating_denominator']!=10]\n",
    "df[df['text'].str.replace('https?://[^ ]*','').str.contains('[0-9]/.*/[0-9]')]"
   ]
  },
  {
   "cell_type": "markdown",
   "metadata": {},
   "source": [
    "<a id=\"duplicated_record\"></a>\n",
    "### Quality issue 23. 1 duplicated record\n",
    "[Back to ToC](#toc)"
   ]
  },
  {
   "cell_type": "markdown",
   "metadata": {
    "collapsed": true,
    "extensions": {
     "jupyter_dashboards": {
      "version": 1,
      "views": {
       "grid_default": {
        "hidden": true
       },
       "report_default": {
        "hidden": true
       }
      }
     }
    }
   },
   "source": [
    "#### Define\n",
    "Delete tweet 775096608509886464"
   ]
  },
  {
   "cell_type": "markdown",
   "metadata": {},
   "source": [
    "#### Code"
   ]
  },
  {
   "cell_type": "code",
   "execution_count": 67,
   "metadata": {},
   "outputs": [],
   "source": [
    "to_delete = ['775096608509886464']\n",
    "df_all_clean = df_all_clean.drop(df_all_clean[df_all_clean['tweet_id'].isin(to_delete)].index)"
   ]
  },
  {
   "cell_type": "markdown",
   "metadata": {},
   "source": [
    "#### Test"
   ]
  },
  {
   "cell_type": "code",
   "execution_count": 68,
   "metadata": {
    "scrolled": true
   },
   "outputs": [
    {
     "data": {
      "text/plain": [
       "True"
      ]
     },
     "execution_count": 68,
     "metadata": {},
     "output_type": "execute_result"
    }
   ],
   "source": [
    "len(df_all_clean[df_all_clean['tweet_id'].isin(to_delete)]) == 0"
   ]
  },
  {
   "cell_type": "markdown",
   "metadata": {},
   "source": [
    "<a id=\"retweets\"></a>\n",
    "### Quality issue 24. some of the data is retweets\n",
    "[Back to ToC](#toc)"
   ]
  },
  {
   "cell_type": "markdown",
   "metadata": {
    "collapsed": true,
    "extensions": {
     "jupyter_dashboards": {
      "version": 1,
      "views": {
       "grid_default": {
        "hidden": true
       },
       "report_default": {
        "hidden": true
       }
      }
     }
    }
   },
   "source": [
    "#### Define\n",
    "Delete retweets"
   ]
  },
  {
   "cell_type": "markdown",
   "metadata": {},
   "source": [
    "#### Code"
   ]
  },
  {
   "cell_type": "code",
   "execution_count": 69,
   "metadata": {},
   "outputs": [],
   "source": [
    "org_len = len(df_all_clean)\n",
    "df_all_clean = df_all_clean.drop(df_all_clean[df_all_clean['retweeted_status_id'].notnull()].index)\n",
    "df_all_clean = df_all_clean.drop(df_all_clean[df_all_clean['retweeted_status_user_id'].notnull()].index)\n",
    "df_all_clean = df_all_clean.drop(df_all_clean[df_all_clean['retweeted_status_timestamp'].notnull()].index)\n",
    "df_all_clean = df_all_clean.drop('retweeted_status_id', axis=1)\n",
    "df_all_clean = df_all_clean.drop('retweeted_status_user_id', axis=1)\n",
    "df_all_clean = df_all_clean.drop('retweeted_status_timestamp', axis=1)"
   ]
  },
  {
   "cell_type": "markdown",
   "metadata": {},
   "source": [
    "#### Test"
   ]
  },
  {
   "cell_type": "code",
   "execution_count": 70,
   "metadata": {
    "scrolled": true
   },
   "outputs": [
    {
     "data": {
      "text/plain": [
       "180"
      ]
     },
     "execution_count": 70,
     "metadata": {},
     "output_type": "execute_result"
    }
   ],
   "source": [
    "org_len-len(df_all_clean)"
   ]
  },
  {
   "cell_type": "markdown",
   "metadata": {},
   "source": [
    "<a id=\"tidiness_quality_issues\"></a>\n",
    "<a id=\"name_\"></a>\n",
    "### Tidiness issue 1. Nulls represented as *None* in **name** in ***archive***:\n",
    "[Back to ToC](#toc)"
   ]
  },
  {
   "cell_type": "markdown",
   "metadata": {
    "collapsed": true,
    "extensions": {
     "jupyter_dashboards": {
      "version": 1,
      "views": {
       "grid_default": {
        "hidden": true
       },
       "report_default": {
        "hidden": true
       }
      }
     }
    }
   },
   "source": [
    "#### Define\n",
    "Replace 'None' with Nan"
   ]
  },
  {
   "cell_type": "markdown",
   "metadata": {},
   "source": [
    "#### Code"
   ]
  },
  {
   "cell_type": "code",
   "execution_count": 71,
   "metadata": {},
   "outputs": [],
   "source": [
    "df_all_clean['name'].replace('None', np.nan, inplace=True)"
   ]
  },
  {
   "cell_type": "markdown",
   "metadata": {},
   "source": [
    "#### Test"
   ]
  },
  {
   "cell_type": "code",
   "execution_count": 72,
   "metadata": {},
   "outputs": [
    {
     "data": {
      "text/plain": [
       "False"
      ]
     },
     "execution_count": 72,
     "metadata": {},
     "output_type": "execute_result"
    }
   ],
   "source": [
    "'None' in df_all_clean['name'].values"
   ]
  },
  {
   "cell_type": "markdown",
   "metadata": {},
   "source": [
    "<a id=\"dog_stage\"></a>\n",
    "### Tidiness issue 2. **doggo**, **floofer**, **pupper**, and **puppo** should be one column: *dog_stage*\n",
    "[Back to ToC](#toc)"
   ]
  },
  {
   "cell_type": "markdown",
   "metadata": {
    "collapsed": true,
    "extensions": {
     "jupyter_dashboards": {
      "version": 1,
      "views": {
       "grid_default": {
        "hidden": true
       },
       "report_default": {
        "hidden": true
       }
      }
     }
    }
   },
   "source": [
    "#### Define\n",
    "Convert doggo to boolean"
   ]
  },
  {
   "cell_type": "markdown",
   "metadata": {},
   "source": [
    "#### Code"
   ]
  },
  {
   "cell_type": "code",
   "execution_count": 73,
   "metadata": {},
   "outputs": [],
   "source": [
    "df_all_clean['doggo'] = df_all_clean['doggo'].replace(\"None\",\"\")\n",
    "df_all_clean['floofer'] = df_all_clean['floofer'].replace(\"None\",\"\")\n",
    "df_all_clean['pupper'] = df_all_clean['pupper'].replace(\"None\",\"\")\n",
    "df_all_clean['puppo'] = df_all_clean['puppo'].replace(\"None\",\"\")\n",
    "df_all_clean['dog_stage'] = \"<>\" + df_all_clean['doggo'] + \"<>\" + df_all_clean['floofer'] + \"<>\" + df_all_clean['pupper'] + \"<>\" + df_all_clean['puppo'] + \"<>\"\n",
    "#I love this trick, it replaces N subsequent repeats of the substring '<>' with just one occurrence\n",
    "#then I just need to trim and replace it with comma\n",
    "df_all_clean['dog_stage'] = df_all_clean['dog_stage'].str.replace(\"><\",\"\").str[2:-2].str.replace(\"<>\",\", \")\n",
    "df_all_clean['dog_stage'] = df_all_clean['dog_stage'].replace(\"\", np.nan)\n",
    "df_all_clean = df_all_clean.drop('doggo', axis=1)\n",
    "df_all_clean = df_all_clean.drop('floofer', axis=1)\n",
    "df_all_clean = df_all_clean.drop('pupper', axis=1)\n",
    "df_all_clean = df_all_clean.drop('puppo', axis=1)"
   ]
  },
  {
   "cell_type": "markdown",
   "metadata": {},
   "source": [
    "#### Test"
   ]
  },
  {
   "cell_type": "code",
   "execution_count": 74,
   "metadata": {},
   "outputs": [
    {
     "data": {
      "text/plain": [
       "pupper            224\n",
       "doggo              75\n",
       "puppo              24\n",
       "doggo, pupper      10\n",
       "floofer             9\n",
       "doggo, floofer      1\n",
       "doggo, puppo        1\n",
       "Name: dog_stage, dtype: int64"
      ]
     },
     "execution_count": 74,
     "metadata": {},
     "output_type": "execute_result"
    }
   ],
   "source": [
    "df_all_clean['dog_stage'].value_counts()"
   ]
  },
  {
   "cell_type": "markdown",
   "metadata": {},
   "source": [
    "<a id=\"_in_reply_to_status_id_2\"></a>\n",
    "### Tidiness issue 3. **in_reply_to_status_id_2** is redundant\n",
    "[Back to ToC](#toc)"
   ]
  },
  {
   "cell_type": "markdown",
   "metadata": {
    "collapsed": true,
    "extensions": {
     "jupyter_dashboards": {
      "version": 1,
      "views": {
       "grid_default": {
        "hidden": true
       },
       "report_default": {
        "hidden": true
       }
      }
     }
    }
   },
   "source": [
    "#### Define\n",
    "Delete column in_reply_to_status_id_2"
   ]
  },
  {
   "cell_type": "markdown",
   "metadata": {},
   "source": [
    "#### Code"
   ]
  },
  {
   "cell_type": "code",
   "execution_count": 75,
   "metadata": {},
   "outputs": [],
   "source": [
    "to_delete = 'in_reply_to_status_id_2'\n",
    "df_all_clean = df_all_clean.drop(to_delete, axis=1)"
   ]
  },
  {
   "cell_type": "markdown",
   "metadata": {},
   "source": [
    "#### Test"
   ]
  },
  {
   "cell_type": "code",
   "execution_count": 76,
   "metadata": {},
   "outputs": [
    {
     "data": {
      "text/plain": [
       "False"
      ]
     },
     "execution_count": 76,
     "metadata": {},
     "output_type": "execute_result"
    }
   ],
   "source": [
    "to_delete in df_all_clean.columns"
   ]
  },
  {
   "cell_type": "markdown",
   "metadata": {},
   "source": [
    "<a id=\"_in_reply_to_user_id_2\"></a>\n",
    "### Tidiness issue 4. **in_reply_to_user_id_2** is redundant\n",
    "[Back to ToC](#toc)"
   ]
  },
  {
   "cell_type": "markdown",
   "metadata": {
    "collapsed": true,
    "extensions": {
     "jupyter_dashboards": {
      "version": 1,
      "views": {
       "grid_default": {
        "hidden": true
       },
       "report_default": {
        "hidden": true
       }
      }
     }
    }
   },
   "source": [
    "#### Define\n",
    "Delete column in_reply_to_user_id_2"
   ]
  },
  {
   "cell_type": "markdown",
   "metadata": {},
   "source": [
    "#### Code"
   ]
  },
  {
   "cell_type": "code",
   "execution_count": 77,
   "metadata": {},
   "outputs": [],
   "source": [
    "to_delete = 'in_reply_to_user_id_2'\n",
    "df_all_clean = df_all_clean.drop(to_delete, axis=1)"
   ]
  },
  {
   "cell_type": "markdown",
   "metadata": {},
   "source": [
    "#### Test"
   ]
  },
  {
   "cell_type": "code",
   "execution_count": 78,
   "metadata": {},
   "outputs": [
    {
     "data": {
      "text/plain": [
       "False"
      ]
     },
     "execution_count": 78,
     "metadata": {},
     "output_type": "execute_result"
    }
   ],
   "source": [
    "to_delete in df_all_clean.columns"
   ]
  },
  {
   "cell_type": "markdown",
   "metadata": {},
   "source": [
    "<a id=\"_source_2\"></a>\n",
    "### Tidiness issue 5. **source_2** is redundant\n",
    "[Back to ToC](#toc)"
   ]
  },
  {
   "cell_type": "markdown",
   "metadata": {
    "collapsed": true,
    "extensions": {
     "jupyter_dashboards": {
      "version": 1,
      "views": {
       "grid_default": {
        "hidden": true
       },
       "report_default": {
        "hidden": true
       }
      }
     }
    }
   },
   "source": [
    "#### Define\n",
    "Delete column source_2"
   ]
  },
  {
   "cell_type": "markdown",
   "metadata": {},
   "source": [
    "#### Code"
   ]
  },
  {
   "cell_type": "code",
   "execution_count": 79,
   "metadata": {},
   "outputs": [],
   "source": [
    "to_delete = 'source_2'\n",
    "df_all_clean = df_all_clean.drop(to_delete, axis=1)"
   ]
  },
  {
   "cell_type": "markdown",
   "metadata": {},
   "source": [
    "#### Test"
   ]
  },
  {
   "cell_type": "code",
   "execution_count": 80,
   "metadata": {},
   "outputs": [
    {
     "data": {
      "text/plain": [
       "False"
      ]
     },
     "execution_count": 80,
     "metadata": {},
     "output_type": "execute_result"
    }
   ],
   "source": [
    "to_delete in df_all_clean.columns"
   ]
  },
  {
   "cell_type": "markdown",
   "metadata": {},
   "source": [
    "<a id=\"_id\"></a>\n",
    "### Tidiness issue 6. **id** is redundant\n",
    "[Back to ToC](#toc)"
   ]
  },
  {
   "cell_type": "markdown",
   "metadata": {
    "collapsed": true,
    "extensions": {
     "jupyter_dashboards": {
      "version": 1,
      "views": {
       "grid_default": {
        "hidden": true
       },
       "report_default": {
        "hidden": true
       }
      }
     }
    }
   },
   "source": [
    "#### Define\n",
    "Delete column id"
   ]
  },
  {
   "cell_type": "markdown",
   "metadata": {},
   "source": [
    "#### Code"
   ]
  },
  {
   "cell_type": "code",
   "execution_count": 81,
   "metadata": {},
   "outputs": [],
   "source": [
    "to_delete = 'id'\n",
    "df_all_clean = df_all_clean.drop(to_delete, axis=1)"
   ]
  },
  {
   "cell_type": "markdown",
   "metadata": {},
   "source": [
    "#### Test"
   ]
  },
  {
   "cell_type": "code",
   "execution_count": 82,
   "metadata": {},
   "outputs": [
    {
     "data": {
      "text/plain": [
       "False"
      ]
     },
     "execution_count": 82,
     "metadata": {},
     "output_type": "execute_result"
    }
   ],
   "source": [
    "to_delete in df_all_clean.columns"
   ]
  },
  {
   "cell_type": "markdown",
   "metadata": {},
   "source": [
    "<a id=\"_id_str\"></a>\n",
    "### Tidiness issue 7. **id_str** is redundant\n",
    "[Back to ToC](#toc)"
   ]
  },
  {
   "cell_type": "markdown",
   "metadata": {
    "collapsed": true,
    "extensions": {
     "jupyter_dashboards": {
      "version": 1,
      "views": {
       "grid_default": {
        "hidden": true
       },
       "report_default": {
        "hidden": true
       }
      }
     }
    }
   },
   "source": [
    "#### Define\n",
    "Delete column id_str"
   ]
  },
  {
   "cell_type": "markdown",
   "metadata": {},
   "source": [
    "#### Code"
   ]
  },
  {
   "cell_type": "code",
   "execution_count": 83,
   "metadata": {},
   "outputs": [],
   "source": [
    "to_delete = 'id_str'\n",
    "df_all_clean = df_all_clean.drop(to_delete, axis=1)"
   ]
  },
  {
   "cell_type": "markdown",
   "metadata": {},
   "source": [
    "#### Test"
   ]
  },
  {
   "cell_type": "code",
   "execution_count": 84,
   "metadata": {},
   "outputs": [
    {
     "data": {
      "text/plain": [
       "False"
      ]
     },
     "execution_count": 84,
     "metadata": {},
     "output_type": "execute_result"
    }
   ],
   "source": [
    "to_delete in df_all_clean.columns"
   ]
  },
  {
   "cell_type": "markdown",
   "metadata": {},
   "source": [
    "<a id=\"_in_reply_to_status_id_str\"></a>\n",
    "### Tidiness issue 8. **in_reply_to_status_id_str** is redundant\n",
    "[Back to ToC](#toc)"
   ]
  },
  {
   "cell_type": "markdown",
   "metadata": {
    "collapsed": true,
    "extensions": {
     "jupyter_dashboards": {
      "version": 1,
      "views": {
       "grid_default": {
        "hidden": true
       },
       "report_default": {
        "hidden": true
       }
      }
     }
    }
   },
   "source": [
    "#### Define\n",
    "Delete column in_reply_to_status_id_str"
   ]
  },
  {
   "cell_type": "markdown",
   "metadata": {},
   "source": [
    "#### Code"
   ]
  },
  {
   "cell_type": "code",
   "execution_count": 85,
   "metadata": {},
   "outputs": [],
   "source": [
    "to_delete = 'in_reply_to_status_id_str'\n",
    "df_all_clean = df_all_clean.drop(to_delete, axis=1)"
   ]
  },
  {
   "cell_type": "markdown",
   "metadata": {},
   "source": [
    "#### Test"
   ]
  },
  {
   "cell_type": "code",
   "execution_count": 86,
   "metadata": {},
   "outputs": [
    {
     "data": {
      "text/plain": [
       "False"
      ]
     },
     "execution_count": 86,
     "metadata": {},
     "output_type": "execute_result"
    }
   ],
   "source": [
    "to_delete in df_all_clean.columns"
   ]
  },
  {
   "cell_type": "markdown",
   "metadata": {},
   "source": [
    "<a id=\"_in_reply_to_user_id_str\"></a>\n",
    "### Tidiness issue 9. **in_reply_to_user_id_str** is redundant\n",
    "[Back to ToC](#toc)"
   ]
  },
  {
   "cell_type": "markdown",
   "metadata": {
    "collapsed": true,
    "extensions": {
     "jupyter_dashboards": {
      "version": 1,
      "views": {
       "grid_default": {
        "hidden": true
       },
       "report_default": {
        "hidden": true
       }
      }
     }
    }
   },
   "source": [
    "#### Define\n",
    "Delete column in_reply_to_user_id_str"
   ]
  },
  {
   "cell_type": "markdown",
   "metadata": {},
   "source": [
    "#### Code"
   ]
  },
  {
   "cell_type": "code",
   "execution_count": 87,
   "metadata": {},
   "outputs": [],
   "source": [
    "to_delete = 'in_reply_to_user_id_str'\n",
    "df_all_clean = df_all_clean.drop(to_delete, axis=1)"
   ]
  },
  {
   "cell_type": "markdown",
   "metadata": {},
   "source": [
    "#### Test"
   ]
  },
  {
   "cell_type": "code",
   "execution_count": 88,
   "metadata": {},
   "outputs": [
    {
     "data": {
      "text/plain": [
       "False"
      ]
     },
     "execution_count": 88,
     "metadata": {},
     "output_type": "execute_result"
    }
   ],
   "source": [
    "to_delete in df_all_clean.columns"
   ]
  },
  {
   "cell_type": "markdown",
   "metadata": {},
   "source": [
    "<a id=\"_quoted_status_id_str\"></a>\n",
    "### Tidiness issue 10. **quoted_status_id_str** is redundant\n",
    "[Back to ToC](#toc)"
   ]
  },
  {
   "cell_type": "markdown",
   "metadata": {
    "collapsed": true,
    "extensions": {
     "jupyter_dashboards": {
      "version": 1,
      "views": {
       "grid_default": {
        "hidden": true
       },
       "report_default": {
        "hidden": true
       }
      }
     }
    }
   },
   "source": [
    "#### Define\n",
    "Delete column quoted_status_id_str"
   ]
  },
  {
   "cell_type": "markdown",
   "metadata": {},
   "source": [
    "#### Code"
   ]
  },
  {
   "cell_type": "code",
   "execution_count": 89,
   "metadata": {},
   "outputs": [],
   "source": [
    "to_delete = 'quoted_status_id_str'\n",
    "df_all_clean = df_all_clean.drop(to_delete, axis=1)"
   ]
  },
  {
   "cell_type": "markdown",
   "metadata": {},
   "source": [
    "#### Test"
   ]
  },
  {
   "cell_type": "code",
   "execution_count": 90,
   "metadata": {},
   "outputs": [
    {
     "data": {
      "text/plain": [
       "False"
      ]
     },
     "execution_count": 90,
     "metadata": {},
     "output_type": "execute_result"
    }
   ],
   "source": [
    "to_delete in df_all_clean.columns"
   ]
  },
  {
   "cell_type": "markdown",
   "metadata": {},
   "source": [
    "<a id=\"storing_data\"></a>\n",
    "## Storing Data\n",
    "[Back to ToC](#toc)\n",
    "\n",
    "Save gathered, assessed, and cleaned master dataset to a CSV file named \"twitter_archive_master.csv\"."
   ]
  },
  {
   "cell_type": "code",
   "execution_count": 91,
   "metadata": {},
   "outputs": [],
   "source": [
    "df_all_clean.to_csv(\"twitter_archive_master.csv\", index=False)"
   ]
  },
  {
   "cell_type": "markdown",
   "metadata": {},
   "source": [
    "<a id=\"analyzing_visualizing\"></a>\n",
    "## Analyzing and Visualizing Data\n",
    "[Back to ToC](#toc)\n",
    "\n",
    "In this section, analyze and visualize your wrangled data. You must produce at least **three (3) insights and one (1) visualization.**"
   ]
  },
  {
   "cell_type": "markdown",
   "metadata": {},
   "source": [
    "<a id=\"common_ratings\"></a>\n",
    "##### Which are the most common ratings?"
   ]
  },
  {
   "cell_type": "code",
   "execution_count": 92,
   "metadata": {},
   "outputs": [
    {
     "name": "stdout",
     "output_type": "stream",
     "text": [
      "12    500\n",
      "10    442\n",
      "11    425\n",
      "13    307\n",
      "9     156\n",
      "Name: rating_numerator, dtype: int64\n"
     ]
    },
    {
     "data": {
      "text/plain": [
       "'Which is 84.29% of total in the first 5 rows'"
      ]
     },
     "execution_count": 92,
     "metadata": {},
     "output_type": "execute_result"
    }
   ],
   "source": [
    "df_head = df_all_clean.rating_numerator.value_counts().head()\n",
    "print(df_head)\n",
    "p = df_head.values.sum()/len(df_all_clean)\n",
    "'Which is '+str(p*100)[:5]+'% of total in the first '+str(len(df_head))+' rows'"
   ]
  },
  {
   "cell_type": "markdown",
   "metadata": {},
   "source": [
    "<a id=\"a_i\"></a>\n",
    "##### How often do the AI's agree with one another?"
   ]
  },
  {
   "cell_type": "code",
   "execution_count": 93,
   "metadata": {
    "scrolled": true
   },
   "outputs": [
    {
     "name": "stdout",
     "output_type": "stream",
     "text": [
      "[1, 0, 0]\n"
     ]
    },
    {
     "data": {
      "text/html": [
       "<div>\n",
       "<style scoped>\n",
       "    .dataframe tbody tr th:only-of-type {\n",
       "        vertical-align: middle;\n",
       "    }\n",
       "\n",
       "    .dataframe tbody tr th {\n",
       "        vertical-align: top;\n",
       "    }\n",
       "\n",
       "    .dataframe thead th {\n",
       "        text-align: right;\n",
       "    }\n",
       "</style>\n",
       "<table border=\"1\" class=\"dataframe\">\n",
       "  <thead>\n",
       "    <tr style=\"text-align: right;\">\n",
       "      <th></th>\n",
       "      <th>tweet_id</th>\n",
       "      <th>in_reply_to_status_id</th>\n",
       "      <th>in_reply_to_user_id</th>\n",
       "      <th>timestamp</th>\n",
       "      <th>source</th>\n",
       "      <th>text</th>\n",
       "      <th>expanded_urls</th>\n",
       "      <th>rating_numerator</th>\n",
       "      <th>rating_denominator</th>\n",
       "      <th>name</th>\n",
       "      <th>jpg_url</th>\n",
       "      <th>img_num</th>\n",
       "      <th>p1</th>\n",
       "      <th>p1_conf</th>\n",
       "      <th>p1_dog</th>\n",
       "      <th>p2</th>\n",
       "      <th>p2_conf</th>\n",
       "      <th>p2_dog</th>\n",
       "      <th>p3</th>\n",
       "      <th>p3_conf</th>\n",
       "      <th>p3_dog</th>\n",
       "      <th>created_at</th>\n",
       "      <th>display_text_range</th>\n",
       "      <th>entities</th>\n",
       "      <th>extended_entities</th>\n",
       "      <th>favorite_count</th>\n",
       "      <th>favorited</th>\n",
       "      <th>full_text</th>\n",
       "      <th>in_reply_to_screen_name</th>\n",
       "      <th>is_quote_status</th>\n",
       "      <th>lang</th>\n",
       "      <th>place</th>\n",
       "      <th>quoted_status</th>\n",
       "      <th>quoted_status_id</th>\n",
       "      <th>quoted_status_permalink</th>\n",
       "      <th>retweet_count</th>\n",
       "      <th>retweeted</th>\n",
       "      <th>retweeted_status</th>\n",
       "      <th>truncated</th>\n",
       "      <th>user</th>\n",
       "      <th>fixed_rating_numerator</th>\n",
       "      <th>fixed_rating_denominator</th>\n",
       "      <th>dog_stage</th>\n",
       "    </tr>\n",
       "  </thead>\n",
       "  <tbody>\n",
       "    <tr>\n",
       "      <th>820</th>\n",
       "      <td>770414278348247044</td>\n",
       "      <td>NaN</td>\n",
       "      <td>NaN</td>\n",
       "      <td>2016-08-30 00:14:12</td>\n",
       "      <td>&lt;a href=\"http://twitter.com/download/iphone\" rel=\"nofollow\"&gt;Twitter for iPhone&lt;/a&gt;</td>\n",
       "      <td>Meet Al Cabone. He's a gangsta puppa. Rather h*ckin ruthless. Shows no mercy sometimes. 11/10 pet w extreme caution https://t.co/OUwWbEKOUV</td>\n",
       "      <td>https://twitter.com/dog_rates/status/770414278348247044/photo/1</td>\n",
       "      <td>11</td>\n",
       "      <td>10</td>\n",
       "      <td>Al</td>\n",
       "      <td>https://pbs.twimg.com/media/CrEPsfWXEAAKvem.jpg</td>\n",
       "      <td>1.0</td>\n",
       "      <td>maillot</td>\n",
       "      <td>0.580528</td>\n",
       "      <td>False</td>\n",
       "      <td>maillot</td>\n",
       "      <td>0.081449</td>\n",
       "      <td>False</td>\n",
       "      <td>golden_retriever</td>\n",
       "      <td>0.05357</td>\n",
       "      <td>True</td>\n",
       "      <td>2016-08-30 00:14:12</td>\n",
       "      <td>[0, 115]</td>\n",
       "      <td>{'hashtags': [], 'symbols': [], 'user_mentions': [], 'urls': [], 'media': [{'id': 770414268261011456, 'id_str': '770414268261011456', 'indices': [116, 139], 'media_url': 'http://pbs.twimg.com/media/CrEPsfWXEAAKvem.jpg', 'media_url_https': 'https://pbs.twimg.com/media/CrEPsfWXEAAKvem.jpg', 'url': 'https://t.co/OUwWbEKOUV', 'display_url': 'pic.twitter.com/OUwWbEKOUV', 'expanded_url': 'https://twitter.com/dog_rates/status/770414278348247044/photo/1', 'type': 'photo', 'sizes': {'thumb': {'w': 150, 'h': 150, 'resize': 'crop'}, 'small': {'w': 680, 'h': 446, 'resize': 'fit'}, 'large': {'w': 1276, 'h': 837, 'resize': 'fit'}, 'medium': {'w': 1200, 'h': 787, 'resize': 'fit'}}}]}</td>\n",
       "      <td>{'media': [{'id': 770414268261011456, 'id_str': '770414268261011456', 'indices': [116, 139], 'media_url': 'http://pbs.twimg.com/media/CrEPsfWXEAAKvem.jpg', 'media_url_https': 'https://pbs.twimg.com/media/CrEPsfWXEAAKvem.jpg', 'url': 'https://t.co/OUwWbEKOUV', 'display_url': 'pic.twitter.com/OUwWbEKOUV', 'expanded_url': 'https://twitter.com/dog_rates/status/770414278348247044/photo/1', 'type': 'photo', 'sizes': {'thumb': {'w': 150, 'h': 150, 'resize': 'crop'}, 'small': {'w': 680, 'h': 446, 'resize': 'fit'}, 'large': {'w': 1276, 'h': 837, 'resize': 'fit'}, 'medium': {'w': 1200, 'h': 787, 'resize': 'fit'}}}]}</td>\n",
       "      <td>5790.0</td>\n",
       "      <td>False</td>\n",
       "      <td>Meet Al Cabone. He's a gangsta puppa. Rather h*ckin ruthless. Shows no mercy sometimes. 11/10 pet w extreme caution https://t.co/OUwWbEKOUV</td>\n",
       "      <td>None</td>\n",
       "      <td>False</td>\n",
       "      <td>en</td>\n",
       "      <td>None</td>\n",
       "      <td>NaN</td>\n",
       "      <td>NaN</td>\n",
       "      <td>NaN</td>\n",
       "      <td>1896.0</td>\n",
       "      <td>False</td>\n",
       "      <td>NaN</td>\n",
       "      <td>False</td>\n",
       "      <td>{'id': 4196983835, 'id_str': '4196983835', 'name': 'WeRateDogs®', 'screen_name': 'dog_rates', 'location': 'all our links ➜', 'description': 'Your Only Source For Professional Dog Ratings Instagram and Facebook ➜ WeRateDogs partnerships@weratedogs.com | nonprofit: @15outof10 ⠀⠀⠀⠀⠀⠀⠀⠀⠀⠀⠀⠀', 'url': 'https://t.co/YPc2Xq4Va2', 'entities': {'url': {'urls': [{'url': 'https://t.co/YPc2Xq4Va2', 'expanded_url': 'http://links.weratedogs.com', 'display_url': 'links.weratedogs.com', 'indices': [0, 23]}]}, 'description': {'urls': []}}, 'protected': False, 'followers_count': 9374535, 'friends_count': 20, 'listed_count': 7831, 'created_at': 'Sun Nov 15 21:41:29 +0000 2015', 'favourites_count': 147489, 'utc_offset': None, 'time_zone': None, 'geo_enabled': True, 'verified': True, 'statuses_count': 17466, 'lang': None, 'contributors_enabled': False, 'is_translator': False, 'is_translation_enabled': False, 'profile_background_color': '000000', 'profile_background_image_url': 'http://abs.twimg.com/imag...</td>\n",
       "      <td>11</td>\n",
       "      <td>10</td>\n",
       "      <td>NaN</td>\n",
       "    </tr>\n",
       "  </tbody>\n",
       "</table>\n",
       "</div>"
      ],
      "text/plain": [
       "               tweet_id in_reply_to_status_id in_reply_to_user_id  \\\n",
       "820  770414278348247044                   NaN                 NaN   \n",
       "\n",
       "              timestamp  \\\n",
       "820 2016-08-30 00:14:12   \n",
       "\n",
       "                                                                                 source  \\\n",
       "820  <a href=\"http://twitter.com/download/iphone\" rel=\"nofollow\">Twitter for iPhone</a>   \n",
       "\n",
       "                                                                                                                                            text  \\\n",
       "820  Meet Al Cabone. He's a gangsta puppa. Rather h*ckin ruthless. Shows no mercy sometimes. 11/10 pet w extreme caution https://t.co/OUwWbEKOUV   \n",
       "\n",
       "                                                       expanded_urls  \\\n",
       "820  https://twitter.com/dog_rates/status/770414278348247044/photo/1   \n",
       "\n",
       "     rating_numerator  rating_denominator name  \\\n",
       "820                11                  10   Al   \n",
       "\n",
       "                                             jpg_url  img_num       p1  \\\n",
       "820  https://pbs.twimg.com/media/CrEPsfWXEAAKvem.jpg      1.0  maillot   \n",
       "\n",
       "      p1_conf p1_dog       p2   p2_conf p2_dog                p3  p3_conf  \\\n",
       "820  0.580528  False  maillot  0.081449  False  golden_retriever  0.05357   \n",
       "\n",
       "    p3_dog          created_at display_text_range  \\\n",
       "820   True 2016-08-30 00:14:12           [0, 115]   \n",
       "\n",
       "                                                                                                                                                                                                                                                                                                                                                                                                                                                                                                                                                                                                                                                                                                  entities  \\\n",
       "820  {'hashtags': [], 'symbols': [], 'user_mentions': [], 'urls': [], 'media': [{'id': 770414268261011456, 'id_str': '770414268261011456', 'indices': [116, 139], 'media_url': 'http://pbs.twimg.com/media/CrEPsfWXEAAKvem.jpg', 'media_url_https': 'https://pbs.twimg.com/media/CrEPsfWXEAAKvem.jpg', 'url': 'https://t.co/OUwWbEKOUV', 'display_url': 'pic.twitter.com/OUwWbEKOUV', 'expanded_url': 'https://twitter.com/dog_rates/status/770414278348247044/photo/1', 'type': 'photo', 'sizes': {'thumb': {'w': 150, 'h': 150, 'resize': 'crop'}, 'small': {'w': 680, 'h': 446, 'resize': 'fit'}, 'large': {'w': 1276, 'h': 837, 'resize': 'fit'}, 'medium': {'w': 1200, 'h': 787, 'resize': 'fit'}}}]}   \n",
       "\n",
       "                                                                                                                                                                                                                                                                                                                                                                                                                                                                                                                                                                                                                         extended_entities  \\\n",
       "820  {'media': [{'id': 770414268261011456, 'id_str': '770414268261011456', 'indices': [116, 139], 'media_url': 'http://pbs.twimg.com/media/CrEPsfWXEAAKvem.jpg', 'media_url_https': 'https://pbs.twimg.com/media/CrEPsfWXEAAKvem.jpg', 'url': 'https://t.co/OUwWbEKOUV', 'display_url': 'pic.twitter.com/OUwWbEKOUV', 'expanded_url': 'https://twitter.com/dog_rates/status/770414278348247044/photo/1', 'type': 'photo', 'sizes': {'thumb': {'w': 150, 'h': 150, 'resize': 'crop'}, 'small': {'w': 680, 'h': 446, 'resize': 'fit'}, 'large': {'w': 1276, 'h': 837, 'resize': 'fit'}, 'medium': {'w': 1200, 'h': 787, 'resize': 'fit'}}}]}   \n",
       "\n",
       "     favorite_count favorited  \\\n",
       "820          5790.0     False   \n",
       "\n",
       "                                                                                                                                       full_text  \\\n",
       "820  Meet Al Cabone. He's a gangsta puppa. Rather h*ckin ruthless. Shows no mercy sometimes. 11/10 pet w extreme caution https://t.co/OUwWbEKOUV   \n",
       "\n",
       "    in_reply_to_screen_name is_quote_status lang place quoted_status  \\\n",
       "820                    None           False   en  None           NaN   \n",
       "\n",
       "    quoted_status_id quoted_status_permalink  retweet_count retweeted  \\\n",
       "820              NaN                     NaN         1896.0     False   \n",
       "\n",
       "    retweeted_status truncated  \\\n",
       "820              NaN     False   \n",
       "\n",
       "                                                                                                                                                                                                                                                                                                                                                                                                                                                                                                                                                                                                                                                                                                                                                                                                                                                                                                                                                                                                                                        user  \\\n",
       "820  {'id': 4196983835, 'id_str': '4196983835', 'name': 'WeRateDogs®', 'screen_name': 'dog_rates', 'location': 'all our links ➜', 'description': 'Your Only Source For Professional Dog Ratings Instagram and Facebook ➜ WeRateDogs partnerships@weratedogs.com | nonprofit: @15outof10 ⠀⠀⠀⠀⠀⠀⠀⠀⠀⠀⠀⠀', 'url': 'https://t.co/YPc2Xq4Va2', 'entities': {'url': {'urls': [{'url': 'https://t.co/YPc2Xq4Va2', 'expanded_url': 'http://links.weratedogs.com', 'display_url': 'links.weratedogs.com', 'indices': [0, 23]}]}, 'description': {'urls': []}}, 'protected': False, 'followers_count': 9374535, 'friends_count': 20, 'listed_count': 7831, 'created_at': 'Sun Nov 15 21:41:29 +0000 2015', 'favourites_count': 147489, 'utc_offset': None, 'time_zone': None, 'geo_enabled': True, 'verified': True, 'statuses_count': 17466, 'lang': None, 'contributors_enabled': False, 'is_translator': False, 'is_translation_enabled': False, 'profile_background_color': '000000', 'profile_background_image_url': 'http://abs.twimg.com/imag...   \n",
       "\n",
       "    fixed_rating_numerator fixed_rating_denominator dog_stage  \n",
       "820                     11                       10       NaN  "
      ]
     },
     "execution_count": 93,
     "metadata": {},
     "output_type": "execute_result"
    }
   ],
   "source": [
    "df = df_all_clean\n",
    "except3 = df[df['p1'] == df['p2']]\n",
    "except2 = df[df['p1'] == df['p3']]\n",
    "except1 = df[df['p2'] == df['p3']]\n",
    "print([len(except3),len(except2),len(except1)])\n",
    "except3"
   ]
  },
  {
   "cell_type": "markdown",
   "metadata": {},
   "source": [
    "<a id=\"insights\"></a>\n",
    "### Insights:\n",
    "[Back to ToC](#toc)\n",
    "1. Most of the ratings between 10 and 13.\n",
    "2. There is only one time that 2 or more AI's agreed on something, and even then they were wrong.\n",
    "3. The channel started with a lot of tweets before settling down, maybe it helped the channel grow when it was new?"
   ]
  },
  {
   "cell_type": "markdown",
   "metadata": {
    "collapsed": true
   },
   "source": [
    "<a id=\"visualization\"></a>\n",
    "### Visualization\n",
    "[Back to ToC](#toc)"
   ]
  },
  {
   "cell_type": "markdown",
   "metadata": {},
   "source": [
    "<a id=\"channel_tweets\"></a>\n",
    "##### How often does the channel tweet?"
   ]
  },
  {
   "cell_type": "code",
   "execution_count": 96,
   "metadata": {
    "scrolled": true
   },
   "outputs": [
    {
     "data": {
      "image/png": "[encoded data removed]",
      "text/plain": [
       "<matplotlib.figure.Figure at 0x7fbf1712d3c8>"
      ]
     },
     "metadata": {
      "needs_background": "light"
     },
     "output_type": "display_data"
    }
   ],
   "source": [
    "#channel activity over time\n",
    "df_all_clean.timestamp.astype('str').str[:10].value_counts().sort_index().plot()\n",
    "plt.title(\"channel activity over time\")\n",
    "plt.xlabel(\"time\")\n",
    "plt.ylabel(\"tweets\")\n",
    "plt.show()"
   ]
  }
 ],
 "metadata": {
  "extensions": {
   "jupyter_dashboards": {
    "activeView": "report_default",
    "version": 1,
    "views": {
     "grid_default": {
      "cellMargin": 10,
      "defaultCellHeight": 20,
      "maxColumns": 12,
      "name": "grid",
      "type": "grid"
     },
     "report_default": {
      "name": "report",
      "type": "report"
     }
    }
   }
  },
  "kernelspec": {
   "display_name": "Python 3",
   "language": "python",
   "name": "python3"
  },
  "language_info": {
   "codemirror_mode": {
    "name": "ipython",
    "version": 3
   },
   "file_extension": ".py",
   "mimetype": "text/x-python",
   "name": "python",
   "nbconvert_exporter": "python",
   "pygments_lexer": "ipython3",
   "version": "3.6.3"
  }
 },
 "nbformat": 4,
 "nbformat_minor": 2
}
