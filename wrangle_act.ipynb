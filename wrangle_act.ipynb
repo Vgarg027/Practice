{
  "nbformat": 4,
  "nbformat_minor": 0,
  "metadata": {
    "colab": {
      "provenance": []
    },
    "kernelspec": {
      "name": "python3",
      "display_name": "Python 3"
    },
    "language_info": {
      "name": "python"
    }
  },
  "cells": [
    {
      "cell_type": "markdown",
      "source": [
        "# Data Wrangling Project\n",
        "\n",
        "## Gather\n",
        "\n",
        "In this section, we gather data from three different sources.\n",
        "\n",
        "\n"
      ],
      "metadata": {
        "id": "zXDJfE9TzNQe"
      }
    },
    {
      "cell_type": "code",
      "execution_count": 1306,
      "metadata": {
        "id": "EDxQBzwHzMYs"
      },
      "outputs": [],
      "source": [
        "# Import necessary libraries\n",
        "import pandas as pd\n",
        "import numpy as np\n",
        "import matplotlib.pyplot as plt\n",
        "import seaborn as sns\n",
        "\n",
        "# Gather data from three sources\n",
        "\n",
        "# 1. Twitter archive data\n",
        "twitter_archive = pd.read_csv('/content/twitter-archive-enhanced.csv')\n",
        "\n",
        "# 2. Image predictions data\n",
        "image_predictions = pd.read_csv('/content/image-predictions.tsv', sep='\\t')\n",
        "\n",
        "\n",
        "# 3. Tweet JSON data (tweet metadata)\n",
        "tweet_json = pd.read_json(\"/content/tweet-json (1) (1).zip\", lines=True)\n"
      ]
    },
    {
      "cell_type": "markdown",
      "source": [
        "## Assess\n",
        "\n",
        "In this section, we visually and programmatically assess the dataframes to identify quality and tidiness issues.\n"
      ],
      "metadata": {
        "id": "zWFtGCeTzN5S"
      }
    },
    {
      "cell_type": "markdown",
      "source": [
        "code and test"
      ],
      "metadata": {
        "id": "0ya13Y786fNQ"
      }
    },
    {
      "cell_type": "code",
      "source": [
        "# Visual assessment\n",
        "print(twitter_archive.head())\n",
        "print(image_predictions.head())\n",
        "print(tweet_json.head())\n",
        "\n",
        "# Programmatic assessment\n",
        "print(twitter_archive.info())\n",
        "print(twitter_archive.describe())\n",
        "print(twitter_archive.sample(5))\n",
        "\n",
        "print(image_predictions.info())\n",
        "print(tweet_json.info())\n",
        "\n",
        "# Check for missing values\n",
        "print(twitter_archive.isnull().sum())\n",
        "print(image_predictions.isnull().sum())\n",
        "print(tweet_json.isnull().sum())\n"
      ],
      "metadata": {
        "id": "ztqLvcskzODO",
        "colab": {
          "base_uri": "https://localhost:8080/"
        },
        "collapsed": true,
        "outputId": "d62f1100-5795-4d91-85df-61eb1b45d23a"
      },
      "execution_count": 1307,
      "outputs": [
        {
          "output_type": "stream",
          "name": "stdout",
          "text": [
            "             tweet_id  in_reply_to_status_id  in_reply_to_user_id  \\\n",
            "0  892420643555336193                    NaN                  NaN   \n",
            "1  892177421306343426                    NaN                  NaN   \n",
            "2  891815181378084864                    NaN                  NaN   \n",
            "3  891689557279858688                    NaN                  NaN   \n",
            "4  891327558926688256                    NaN                  NaN   \n",
            "\n",
            "                   timestamp  \\\n",
            "0  2017-08-01 16:23:56 +0000   \n",
            "1  2017-08-01 00:17:27 +0000   \n",
            "2  2017-07-31 00:18:03 +0000   \n",
            "3  2017-07-30 15:58:51 +0000   \n",
            "4  2017-07-29 16:00:24 +0000   \n",
            "\n",
            "                                              source  \\\n",
            "0  <a href=\"http://twitter.com/download/iphone\" r...   \n",
            "1  <a href=\"http://twitter.com/download/iphone\" r...   \n",
            "2  <a href=\"http://twitter.com/download/iphone\" r...   \n",
            "3  <a href=\"http://twitter.com/download/iphone\" r...   \n",
            "4  <a href=\"http://twitter.com/download/iphone\" r...   \n",
            "\n",
            "                                                text  retweeted_status_id  \\\n",
            "0  This is Phineas. He's a mystical boy. Only eve...                  NaN   \n",
            "1  This is Tilly. She's just checking pup on you....                  NaN   \n",
            "2  This is Archie. He is a rare Norwegian Pouncin...                  NaN   \n",
            "3  This is Darla. She commenced a snooze mid meal...                  NaN   \n",
            "4  This is Franklin. He would like you to stop ca...                  NaN   \n",
            "\n",
            "   retweeted_status_user_id retweeted_status_timestamp  \\\n",
            "0                       NaN                        NaN   \n",
            "1                       NaN                        NaN   \n",
            "2                       NaN                        NaN   \n",
            "3                       NaN                        NaN   \n",
            "4                       NaN                        NaN   \n",
            "\n",
            "                                       expanded_urls  rating_numerator  \\\n",
            "0  https://twitter.com/dog_rates/status/892420643...                13   \n",
            "1  https://twitter.com/dog_rates/status/892177421...                13   \n",
            "2  https://twitter.com/dog_rates/status/891815181...                12   \n",
            "3  https://twitter.com/dog_rates/status/891689557...                13   \n",
            "4  https://twitter.com/dog_rates/status/891327558...                12   \n",
            "\n",
            "   rating_denominator      name doggo floofer pupper puppo  \n",
            "0                  10   Phineas   NaN     NaN    NaN   NaN  \n",
            "1                  10     Tilly   NaN     NaN    NaN   NaN  \n",
            "2                  10    Archie   NaN     NaN    NaN   NaN  \n",
            "3                  10     Darla   NaN     NaN    NaN   NaN  \n",
            "4                  10  Franklin   NaN     NaN    NaN   NaN  \n",
            "             tweet_id                                          jpg_url  \\\n",
            "0  666020888022790149  https://pbs.twimg.com/media/CT4udn0WwAA0aMy.jpg   \n",
            "1  666029285002620928  https://pbs.twimg.com/media/CT42GRgUYAA5iDo.jpg   \n",
            "2  666033412701032449  https://pbs.twimg.com/media/CT4521TWwAEvMyu.jpg   \n",
            "3  666044226329800704  https://pbs.twimg.com/media/CT5Dr8HUEAA-lEu.jpg   \n",
            "4  666049248165822465  https://pbs.twimg.com/media/CT5IQmsXIAAKY4A.jpg   \n",
            "\n",
            "   img_num                      p1   p1_conf  p1_dog                  p2  \\\n",
            "0        1  Welsh_springer_spaniel  0.465074    True              collie   \n",
            "1        1                 redbone  0.506826    True  miniature_pinscher   \n",
            "2        1         German_shepherd  0.596461    True            malinois   \n",
            "3        1     Rhodesian_ridgeback  0.408143    True             redbone   \n",
            "4        1      miniature_pinscher  0.560311    True          Rottweiler   \n",
            "\n",
            "    p2_conf  p2_dog                   p3   p3_conf  p3_dog  \n",
            "0  0.156665    True    Shetland_sheepdog  0.061428    True  \n",
            "1  0.074192    True  Rhodesian_ridgeback  0.072010    True  \n",
            "2  0.138584    True           bloodhound  0.116197    True  \n",
            "3  0.360687    True   miniature_pinscher  0.222752    True  \n",
            "4  0.243682    True             Doberman  0.154629    True  \n",
            "                 created_at                  id              id_str  \\\n",
            "0 2017-08-01 16:23:56+00:00  892420643555336193  892420643555336192   \n",
            "1 2017-08-01 00:17:27+00:00  892177421306343426  892177421306343424   \n",
            "2 2017-07-31 00:18:03+00:00  891815181378084864  891815181378084864   \n",
            "3 2017-07-30 15:58:51+00:00  891689557279858688  891689557279858688   \n",
            "4 2017-07-29 16:00:24+00:00  891327558926688256  891327558926688256   \n",
            "\n",
            "                                           full_text  truncated  \\\n",
            "0  This is Phineas. He's a mystical boy. Only eve...      False   \n",
            "1  This is Tilly. She's just checking pup on you....      False   \n",
            "2  This is Archie. He is a rare Norwegian Pouncin...      False   \n",
            "3  This is Darla. She commenced a snooze mid meal...      False   \n",
            "4  This is Franklin. He would like you to stop ca...      False   \n",
            "\n",
            "  display_text_range                                           entities  \\\n",
            "0            [0, 85]  {'hashtags': [], 'symbols': [], 'user_mentions...   \n",
            "1           [0, 138]  {'hashtags': [], 'symbols': [], 'user_mentions...   \n",
            "2           [0, 121]  {'hashtags': [], 'symbols': [], 'user_mentions...   \n",
            "3            [0, 79]  {'hashtags': [], 'symbols': [], 'user_mentions...   \n",
            "4           [0, 138]  {'hashtags': [{'text': 'BarkWeek', 'indices': ...   \n",
            "\n",
            "                                   extended_entities  \\\n",
            "0  {'media': [{'id': 892420639486877696, 'id_str'...   \n",
            "1  {'media': [{'id': 892177413194625024, 'id_str'...   \n",
            "2  {'media': [{'id': 891815175371796480, 'id_str'...   \n",
            "3  {'media': [{'id': 891689552724799489, 'id_str'...   \n",
            "4  {'media': [{'id': 891327551943041024, 'id_str'...   \n",
            "\n",
            "                                              source  in_reply_to_status_id  \\\n",
            "0  <a href=\"http://twitter.com/download/iphone\" r...                    NaN   \n",
            "1  <a href=\"http://twitter.com/download/iphone\" r...                    NaN   \n",
            "2  <a href=\"http://twitter.com/download/iphone\" r...                    NaN   \n",
            "3  <a href=\"http://twitter.com/download/iphone\" r...                    NaN   \n",
            "4  <a href=\"http://twitter.com/download/iphone\" r...                    NaN   \n",
            "\n",
            "   ...  favorite_count  favorited  retweeted possibly_sensitive  \\\n",
            "0  ...           39467      False      False                0.0   \n",
            "1  ...           33819      False      False                0.0   \n",
            "2  ...           25461      False      False                0.0   \n",
            "3  ...           42908      False      False                0.0   \n",
            "4  ...           41048      False      False                0.0   \n",
            "\n",
            "  possibly_sensitive_appealable  lang  retweeted_status quoted_status_id  \\\n",
            "0                           0.0    en               NaN              NaN   \n",
            "1                           0.0    en               NaN              NaN   \n",
            "2                           0.0    en               NaN              NaN   \n",
            "3                           0.0    en               NaN              NaN   \n",
            "4                           0.0    en               NaN              NaN   \n",
            "\n",
            "   quoted_status_id_str  quoted_status  \n",
            "0                   NaN            NaN  \n",
            "1                   NaN            NaN  \n",
            "2                   NaN            NaN  \n",
            "3                   NaN            NaN  \n",
            "4                   NaN            NaN  \n",
            "\n",
            "[5 rows x 31 columns]\n",
            "<class 'pandas.core.frame.DataFrame'>\n",
            "RangeIndex: 2356 entries, 0 to 2355\n",
            "Data columns (total 17 columns):\n",
            " #   Column                      Non-Null Count  Dtype  \n",
            "---  ------                      --------------  -----  \n",
            " 0   tweet_id                    2356 non-null   int64  \n",
            " 1   in_reply_to_status_id       78 non-null     float64\n",
            " 2   in_reply_to_user_id         78 non-null     float64\n",
            " 3   timestamp                   2356 non-null   object \n",
            " 4   source                      2356 non-null   object \n",
            " 5   text                        2356 non-null   object \n",
            " 6   retweeted_status_id         181 non-null    float64\n",
            " 7   retweeted_status_user_id    181 non-null    float64\n",
            " 8   retweeted_status_timestamp  181 non-null    object \n",
            " 9   expanded_urls               2297 non-null   object \n",
            " 10  rating_numerator            2356 non-null   int64  \n",
            " 11  rating_denominator          2356 non-null   int64  \n",
            " 12  name                        1611 non-null   object \n",
            " 13  doggo                       97 non-null     object \n",
            " 14  floofer                     10 non-null     object \n",
            " 15  pupper                      257 non-null    object \n",
            " 16  puppo                       30 non-null     object \n",
            "dtypes: float64(4), int64(3), object(10)\n",
            "memory usage: 313.0+ KB\n",
            "None\n",
            "           tweet_id  in_reply_to_status_id  in_reply_to_user_id  \\\n",
            "count  2.356000e+03           7.800000e+01         7.800000e+01   \n",
            "mean   7.427716e+17           7.455079e+17         2.014171e+16   \n",
            "std    6.856705e+16           7.582492e+16         1.252797e+17   \n",
            "min    6.660209e+17           6.658147e+17         1.185634e+07   \n",
            "25%    6.783989e+17           6.757419e+17         3.086374e+08   \n",
            "50%    7.196279e+17           7.038708e+17         4.196984e+09   \n",
            "75%    7.993373e+17           8.257804e+17         4.196984e+09   \n",
            "max    8.924206e+17           8.862664e+17         8.405479e+17   \n",
            "\n",
            "       retweeted_status_id  retweeted_status_user_id  rating_numerator  \\\n",
            "count         1.810000e+02              1.810000e+02       2356.000000   \n",
            "mean          7.720400e+17              1.241698e+16         13.126486   \n",
            "std           6.236928e+16              9.599254e+16         45.876648   \n",
            "min           6.661041e+17              7.832140e+05          0.000000   \n",
            "25%           7.186315e+17              4.196984e+09         10.000000   \n",
            "50%           7.804657e+17              4.196984e+09         11.000000   \n",
            "75%           8.203146e+17              4.196984e+09         12.000000   \n",
            "max           8.874740e+17              7.874618e+17       1776.000000   \n",
            "\n",
            "       rating_denominator  \n",
            "count         2356.000000  \n",
            "mean            10.455433  \n",
            "std              6.745237  \n",
            "min              0.000000  \n",
            "25%             10.000000  \n",
            "50%             10.000000  \n",
            "75%             10.000000  \n",
            "max            170.000000  \n",
            "                tweet_id  in_reply_to_status_id  in_reply_to_user_id  \\\n",
            "829   768909767477751808                    NaN                  NaN   \n",
            "569   801958328846974976                    NaN                  NaN   \n",
            "2185  668986018524233728                    NaN                  NaN   \n",
            "2182  668992363537309700                    NaN                  NaN   \n",
            "69    879050749262655488                    NaN                  NaN   \n",
            "\n",
            "                      timestamp  \\\n",
            "829   2016-08-25 20:35:48 +0000   \n",
            "569   2016-11-25 01:18:59 +0000   \n",
            "2185  2015-11-24 02:54:30 +0000   \n",
            "2182  2015-11-24 03:19:43 +0000   \n",
            "69    2017-06-25 18:56:45 +0000   \n",
            "\n",
            "                                                 source  \\\n",
            "829   <a href=\"http://twitter.com/download/iphone\" r...   \n",
            "569   <a href=\"http://twitter.com/download/iphone\" r...   \n",
            "2185  <a href=\"http://twitter.com/download/iphone\" r...   \n",
            "2182  <a href=\"http://twitter.com/download/iphone\" r...   \n",
            "69    <a href=\"http://twitter.com/download/iphone\" r...   \n",
            "\n",
            "                                                   text  retweeted_status_id  \\\n",
            "829   RT @dog_rates: When it's Janet from accounting...         7.001438e+17   \n",
            "569   This is Ronnie. He hopes you're having a great...                  NaN   \n",
            "2185  This is Ruby. She's a Bimmington Fettuccini. O...                  NaN   \n",
            "2182  This is Harrison. He braves the snow like a ch...                  NaN   \n",
            "69    This is Steven. He has trouble relating to oth...                  NaN   \n",
            "\n",
            "      retweeted_status_user_id retweeted_status_timestamp  \\\n",
            "829               4.196984e+09  2016-02-18 02:24:13 +0000   \n",
            "569                        NaN                        NaN   \n",
            "2185                       NaN                        NaN   \n",
            "2182                       NaN                        NaN   \n",
            "69                         NaN                        NaN   \n",
            "\n",
            "                                          expanded_urls  rating_numerator  \\\n",
            "829   https://twitter.com/dog_rates/status/700143752...                10   \n",
            "569   https://twitter.com/dog_rates/status/801958328...                12   \n",
            "2185  https://twitter.com/dog_rates/status/668986018...                 9   \n",
            "2182  https://twitter.com/dog_rates/status/668992363...                 8   \n",
            "69    https://twitter.com/dog_rates/status/879050749...                11   \n",
            "\n",
            "      rating_denominator      name doggo floofer  pupper puppo  \n",
            "829                   10       NaN   NaN     NaN  pupper   NaN  \n",
            "569                   10    Ronnie   NaN     NaN     NaN   NaN  \n",
            "2185                  10      Ruby   NaN     NaN     NaN   NaN  \n",
            "2182                  10  Harrison   NaN     NaN     NaN   NaN  \n",
            "69                    10    Steven   NaN     NaN     NaN   NaN  \n",
            "<class 'pandas.core.frame.DataFrame'>\n",
            "RangeIndex: 2075 entries, 0 to 2074\n",
            "Data columns (total 12 columns):\n",
            " #   Column    Non-Null Count  Dtype  \n",
            "---  ------    --------------  -----  \n",
            " 0   tweet_id  2075 non-null   int64  \n",
            " 1   jpg_url   2075 non-null   object \n",
            " 2   img_num   2075 non-null   int64  \n",
            " 3   p1        2075 non-null   object \n",
            " 4   p1_conf   2075 non-null   float64\n",
            " 5   p1_dog    2075 non-null   bool   \n",
            " 6   p2        2075 non-null   object \n",
            " 7   p2_conf   2075 non-null   float64\n",
            " 8   p2_dog    2075 non-null   bool   \n",
            " 9   p3        2075 non-null   object \n",
            " 10  p3_conf   2075 non-null   float64\n",
            " 11  p3_dog    2075 non-null   bool   \n",
            "dtypes: bool(3), float64(3), int64(2), object(4)\n",
            "memory usage: 152.1+ KB\n",
            "None\n",
            "<class 'pandas.core.frame.DataFrame'>\n",
            "RangeIndex: 2354 entries, 0 to 2353\n",
            "Data columns (total 31 columns):\n",
            " #   Column                         Non-Null Count  Dtype              \n",
            "---  ------                         --------------  -----              \n",
            " 0   created_at                     2354 non-null   datetime64[ns, UTC]\n",
            " 1   id                             2354 non-null   int64              \n",
            " 2   id_str                         2354 non-null   int64              \n",
            " 3   full_text                      2354 non-null   object             \n",
            " 4   truncated                      2354 non-null   bool               \n",
            " 5   display_text_range             2354 non-null   object             \n",
            " 6   entities                       2354 non-null   object             \n",
            " 7   extended_entities              2073 non-null   object             \n",
            " 8   source                         2354 non-null   object             \n",
            " 9   in_reply_to_status_id          78 non-null     float64            \n",
            " 10  in_reply_to_status_id_str      78 non-null     float64            \n",
            " 11  in_reply_to_user_id            78 non-null     float64            \n",
            " 12  in_reply_to_user_id_str        78 non-null     float64            \n",
            " 13  in_reply_to_screen_name        78 non-null     object             \n",
            " 14  user                           2354 non-null   object             \n",
            " 15  geo                            0 non-null      float64            \n",
            " 16  coordinates                    0 non-null      float64            \n",
            " 17  place                          1 non-null      object             \n",
            " 18  contributors                   0 non-null      float64            \n",
            " 19  is_quote_status                2354 non-null   bool               \n",
            " 20  retweet_count                  2354 non-null   int64              \n",
            " 21  favorite_count                 2354 non-null   int64              \n",
            " 22  favorited                      2354 non-null   bool               \n",
            " 23  retweeted                      2354 non-null   bool               \n",
            " 24  possibly_sensitive             2211 non-null   float64            \n",
            " 25  possibly_sensitive_appealable  2211 non-null   float64            \n",
            " 26  lang                           2354 non-null   object             \n",
            " 27  retweeted_status               179 non-null    object             \n",
            " 28  quoted_status_id               29 non-null     float64            \n",
            " 29  quoted_status_id_str           29 non-null     float64            \n",
            " 30  quoted_status                  28 non-null     object             \n",
            "dtypes: bool(4), datetime64[ns, UTC](1), float64(11), int64(4), object(11)\n",
            "memory usage: 505.9+ KB\n",
            "None\n",
            "tweet_id                         0\n",
            "in_reply_to_status_id         2278\n",
            "in_reply_to_user_id           2278\n",
            "timestamp                        0\n",
            "source                           0\n",
            "text                             0\n",
            "retweeted_status_id           2175\n",
            "retweeted_status_user_id      2175\n",
            "retweeted_status_timestamp    2175\n",
            "expanded_urls                   59\n",
            "rating_numerator                 0\n",
            "rating_denominator               0\n",
            "name                           745\n",
            "doggo                         2259\n",
            "floofer                       2346\n",
            "pupper                        2099\n",
            "puppo                         2326\n",
            "dtype: int64\n",
            "tweet_id    0\n",
            "jpg_url     0\n",
            "img_num     0\n",
            "p1          0\n",
            "p1_conf     0\n",
            "p1_dog      0\n",
            "p2          0\n",
            "p2_conf     0\n",
            "p2_dog      0\n",
            "p3          0\n",
            "p3_conf     0\n",
            "p3_dog      0\n",
            "dtype: int64\n",
            "created_at                          0\n",
            "id                                  0\n",
            "id_str                              0\n",
            "full_text                           0\n",
            "truncated                           0\n",
            "display_text_range                  0\n",
            "entities                            0\n",
            "extended_entities                 281\n",
            "source                              0\n",
            "in_reply_to_status_id            2276\n",
            "in_reply_to_status_id_str        2276\n",
            "in_reply_to_user_id              2276\n",
            "in_reply_to_user_id_str          2276\n",
            "in_reply_to_screen_name          2276\n",
            "user                                0\n",
            "geo                              2354\n",
            "coordinates                      2354\n",
            "place                            2353\n",
            "contributors                     2354\n",
            "is_quote_status                     0\n",
            "retweet_count                       0\n",
            "favorite_count                      0\n",
            "favorited                           0\n",
            "retweeted                           0\n",
            "possibly_sensitive                143\n",
            "possibly_sensitive_appealable     143\n",
            "lang                                0\n",
            "retweeted_status                 2175\n",
            "quoted_status_id                 2325\n",
            "quoted_status_id_str             2325\n",
            "quoted_status                    2326\n",
            "dtype: int64\n"
          ]
        }
      ]
    },
    {
      "cell_type": "code",
      "source": [
        "# Make copies of dataframes\n",
        "twitter_archive = twitter_archive.copy()\n",
        "image_predictions_ = image_predictions.copy()\n",
        "tweet_json = tweet_json.copy()"
      ],
      "metadata": {
        "id": "lA1elwrRzOxK"
      },
      "execution_count": 1308,
      "outputs": []
    },
    {
      "cell_type": "markdown",
      "source": [
        "## Clean\n",
        "\n",
        "In this section, we clean the issues identified in the assess section. We will make copies of the original dataframes before cleaning.\n"
      ],
      "metadata": {
        "id": "GCa5W9svzOMj"
      }
    },
    {
      "cell_type": "code",
      "source": [
        "print(image_predictions.columns.tolist())\n"
      ],
      "metadata": {
        "id": "p1KpmcwvzOVC",
        "colab": {
          "base_uri": "https://localhost:8080/"
        },
        "collapsed": true,
        "outputId": "319abb35-13d2-4a2a-ab51-349c787110c2"
      },
      "execution_count": 1309,
      "outputs": [
        {
          "output_type": "stream",
          "name": "stdout",
          "text": [
            "['tweet_id', 'jpg_url', 'img_num', 'p1', 'p1_conf', 'p1_dog', 'p2', 'p2_conf', 'p2_dog', 'p3', 'p3_conf', 'p3_dog']\n"
          ]
        }
      ]
    },
    {
      "cell_type": "markdown",
      "source": [
        "Issue #1: Merging DataFrames\n",
        "Define:\n",
        "The data needed for analysis is spread across three separate files: the Twitter archive, the image predictions, and the tweet JSON metadata. To enable comprehensive analysis, these datasets must be merged into a single dataframe using the common key, tweet_id."
      ],
      "metadata": {
        "id": "ABahnqhXzOj7"
      }
    },
    {
      "cell_type": "markdown",
      "source": [
        "code"
      ],
      "metadata": {
        "id": "p1jXPDsDzOay"
      }
    },
    {
      "cell_type": "code",
      "source": [
        "\n",
        "if 'id' in tweet_json.columns:\n",
        "    tweet_json = tweet_json.rename(columns={'id': 'tweet_id'})\n",
        "\n",
        "# Merge dataframes\n",
        "df_merged = pd.merge(twitter_archive, image_predictions, on='tweet_id', how='inner')\n",
        "df_merged = pd.merge(df_merged, tweet_json, on='tweet_id', how='inner')\n"
      ],
      "metadata": {
        "id": "euAVHssdzOfj"
      },
      "execution_count": 1310,
      "outputs": []
    },
    {
      "cell_type": "markdown",
      "source": [
        "Issue #2: Combining Dog Stages into a Single Column\n",
        "Define:\n",
        "The dog stage information is split across four columns (doggo, floofer, pupper, puppo). For clarity and ease of analysis, these should be combined into a single column, with multiple stages indicated appropriately."
      ],
      "metadata": {
        "id": "IhchpcuAzOsm"
      }
    },
    {
      "cell_type": "markdown",
      "source": [
        "code"
      ],
      "metadata": {
        "id": "PitKEnoE-PhL"
      }
    },
    {
      "cell_type": "code",
      "source": [
        "# Convert ID fields to string/object type\n",
        "id_columns = ['tweet_id', 'in_reply_to_status_id', 'in_reply_to_user_id',\n",
        "              'retweeted_status_id', 'retweeted_status_user_id']\n",
        "for col in id_columns:\n",
        "    if col in twitter_archive.columns:\n",
        "        twitter_archive[col] = twitter_archive[col].astype(str)\n",
        "\n",
        "# First, replace None or NaN with empty strings\n",
        "for col in ['doggo', 'floofer', 'pupper', 'puppo']:\n",
        "    df_merged[col] = df_merged[col].fillna('')\n",
        "\n",
        "# Combine the four columns into one, separating multiple stages with a comma\n",
        "df_merged['stage'] = df_merged['doggo'] + df_merged['floofer'] + df_merged['pupper'] + df_merged['puppo']\n",
        "\n",
        "# Replace empty string with np.nan for clarity\n",
        "df_merged['stage'] = df_merged['stage'].replace('', np.nan)\n",
        "\n",
        "# Fix cases where a dog has multiple stages (e.g., 'doggopupper')\n",
        "df_merged['stage'] = df_merged['stage'].replace(\n",
        "    {'doggopupper': 'doggo, pupper',\n",
        "     'doggopuppo': 'doggo, puppo',\n",
        "     'doggofloofer': 'doggo, floofer',\n",
        "     'pupperpuppo': 'pupper, puppo'}\n",
        ")\n"
      ],
      "metadata": {
        "id": "ncVeaEm8zOoR"
      },
      "execution_count": 1311,
      "outputs": []
    },
    {
      "cell_type": "markdown",
      "source": [
        "test\n"
      ],
      "metadata": {
        "id": "2hwUcRVh-LzX"
      }
    },
    {
      "cell_type": "code",
      "source": [
        "print(twitter_archive[id_columns].dtypes)\n"
      ],
      "metadata": {
        "colab": {
          "base_uri": "https://localhost:8080/"
        },
        "id": "NqOe_7gh9d3K",
        "outputId": "aec429cd-f087-4038-83ad-ae71d5ee8a57"
      },
      "execution_count": 1312,
      "outputs": [
        {
          "output_type": "stream",
          "name": "stdout",
          "text": [
            "tweet_id                    object\n",
            "in_reply_to_status_id       object\n",
            "in_reply_to_user_id         object\n",
            "retweeted_status_id         object\n",
            "retweeted_status_user_id    object\n",
            "dtype: object\n"
          ]
        }
      ]
    },
    {
      "cell_type": "markdown",
      "source": [
        "code"
      ],
      "metadata": {
        "id": "-yyzkOpm-gKN"
      }
    },
    {
      "cell_type": "code",
      "source": [
        "# Convert rating columns to float\n",
        "twitter_archive['rating_numerator'] = twitter_archive['rating_numerator'].astype(float)\n",
        "twitter_archive['rating_denominator'] = twitter_archive['rating_denominator'].astype(float)\n"
      ],
      "metadata": {
        "id": "KXfT-DpU-YxW"
      },
      "execution_count": 1313,
      "outputs": []
    },
    {
      "cell_type": "markdown",
      "source": [
        "test"
      ],
      "metadata": {
        "id": "1Vb5jIn2-hA5"
      }
    },
    {
      "cell_type": "code",
      "source": [
        "print(twitter_archive[['rating_numerator', 'rating_denominator']].dtypes)\n"
      ],
      "metadata": {
        "colab": {
          "base_uri": "https://localhost:8080/"
        },
        "id": "gP0_SovC-eqQ",
        "outputId": "3aab083b-1d8f-4c09-a08f-b6a32253425e"
      },
      "execution_count": 1314,
      "outputs": [
        {
          "output_type": "stream",
          "name": "stdout",
          "text": [
            "rating_numerator      float64\n",
            "rating_denominator    float64\n",
            "dtype: object\n"
          ]
        }
      ]
    },
    {
      "cell_type": "code",
      "source": [
        "# Convert retweet_count and favorite_count to integers\n",
        "if 'retweet_count' in twitter_archive.columns:\n",
        "    twitter_archive['retweet_count'] = twitter_archive['retweet_count'].astype(int)\n",
        "if 'favorite_count' in twitter_archive.columns:\n",
        "    twitter_archive['favorite_count'] = twitter_archive['favorite_count'].astype(int)\n"
      ],
      "metadata": {
        "id": "-JZss9yE-pgW"
      },
      "execution_count": 1315,
      "outputs": []
    },
    {
      "cell_type": "markdown",
      "source": [
        "Issue #3: Converting timestamp to Datetime Define: The timestamp column in the Twitter archive is stored as a string. It should be converted to a datetime object to facilitate time-based analysis and ensure correct data types."
      ],
      "metadata": {
        "id": "SKanwtMbzO7a"
      }
    },
    {
      "cell_type": "markdown",
      "source": [
        "code"
      ],
      "metadata": {
        "id": "17pNuoPNBwk1"
      }
    },
    {
      "cell_type": "code",
      "source": [
        "# 1. Convert 'timestamp' to datetime\n",
        "twitter_archive['timestamp'] = pd.to_datetime(twitter_archive['timestamp'])"
      ],
      "metadata": {
        "id": "Y8rO4F8zz0nB"
      },
      "execution_count": 1316,
      "outputs": []
    },
    {
      "cell_type": "markdown",
      "source": [
        "test"
      ],
      "metadata": {
        "id": "ZJ2sJNvhBxil"
      }
    },
    {
      "cell_type": "code",
      "source": [
        "print(twitter_archive['timestamp'].dtype)\n"
      ],
      "metadata": {
        "colab": {
          "base_uri": "https://localhost:8080/"
        },
        "id": "bwzSpiRVBvu5",
        "outputId": "98fc3897-2cee-440f-a4f4-3129a3cf6b8c"
      },
      "execution_count": 1317,
      "outputs": [
        {
          "output_type": "stream",
          "name": "stdout",
          "text": [
            "datetime64[ns, UTC]\n"
          ]
        }
      ]
    },
    {
      "cell_type": "markdown",
      "source": [
        "Issue #4: Filling Missing Dog Stage Values Define: The dog stage columns contain missing values (NaN). For consistency and to avoid confusion during analysis, these missing values should be filled with the string 'None'."
      ],
      "metadata": {
        "id": "YgHynvFDzPOW"
      }
    },
    {
      "cell_type": "markdown",
      "source": [
        "code"
      ],
      "metadata": {
        "id": "5SaafBv-CWRh"
      }
    },
    {
      "cell_type": "code",
      "source": [
        "# 2. Fill missing dog stages with 'None'\n",
        "for stage in ['doggo', 'floofer', 'pupper', 'puppo']:\n",
        "    twitter_archive[stage] = twitter_archive[stage].fillna('None')"
      ],
      "metadata": {
        "id": "nzRw_8u6zPB7"
      },
      "execution_count": 1318,
      "outputs": []
    },
    {
      "cell_type": "markdown",
      "source": [
        "test"
      ],
      "metadata": {
        "id": "eHY-HTloCXhJ"
      }
    },
    {
      "cell_type": "code",
      "source": [
        "# Check that there are no NaNs in these columns\n",
        "print(twitter_archive[['doggo', 'floofer', 'pupper', 'puppo']].isnull().sum())\n"
      ],
      "metadata": {
        "colab": {
          "base_uri": "https://localhost:8080/"
        },
        "id": "6V7HwLYpCKEq",
        "outputId": "74024ad8-09a7-4c4a-b29c-dc3058051801"
      },
      "execution_count": 1319,
      "outputs": [
        {
          "output_type": "stream",
          "name": "stdout",
          "text": [
            "doggo      0\n",
            "floofer    0\n",
            "pupper     0\n",
            "puppo      0\n",
            "dtype: int64\n"
          ]
        }
      ]
    },
    {
      "cell_type": "markdown",
      "source": [
        "Issue #5: Removing Duplicate Tweets Define: Duplicate tweets may exist in the dataset, identified by repeated tweet_id values. Duplicates should be removed to ensure each tweet is only represented once in the analysis."
      ],
      "metadata": {
        "id": "b32zxyecz7lA"
      }
    },
    {
      "cell_type": "markdown",
      "source": [
        "code\n"
      ],
      "metadata": {
        "id": "gEAER3BzCshN"
      }
    },
    {
      "cell_type": "code",
      "source": [
        "# 3. Remove duplicates\n",
        "twitter_archive.drop_duplicates(subset='tweet_id', inplace=True)\n"
      ],
      "metadata": {
        "id": "juxNJnrnzPSl"
      },
      "execution_count": 1320,
      "outputs": []
    },
    {
      "cell_type": "markdown",
      "source": [
        "test"
      ],
      "metadata": {
        "id": "7J5hJ1eNCowu"
      }
    },
    {
      "cell_type": "code",
      "source": [
        "#The number of unique tweet_id values should equal the number of rows\n",
        "num_rows = twitter_archive_clean.shape[0]\n",
        "num_unique_tweet_ids = twitter_archive_clean['tweet_id'].nunique()\n",
        "print(\"Rows:\", num_rows)\n",
        "print(\"Unique tweet_id:\", num_unique_tweet_ids)\n",
        "print(\"Duplicates remaining:\", num_rows - num_unique_tweet_ids)\n"
      ],
      "metadata": {
        "colab": {
          "base_uri": "https://localhost:8080/"
        },
        "id": "Zn8zru13Co60",
        "outputId": "eaa88137-e30c-4904-890d-da33c3b234c1"
      },
      "execution_count": 1321,
      "outputs": [
        {
          "output_type": "stream",
          "name": "stdout",
          "text": [
            "Rows: 2356\n",
            "Unique tweet_id: 2356\n",
            "Duplicates remaining: 0\n"
          ]
        }
      ]
    },
    {
      "cell_type": "markdown",
      "source": [
        "Issue #6: Removing Retweets Define: Retweets are not original content and could skew analysis. Any rows identified as retweets (where the retweeted_status_id column is not null) should be removed from the dataset."
      ],
      "metadata": {
        "id": "31AH9ynqz8Ru"
      }
    },
    {
      "cell_type": "markdown",
      "source": [
        "code"
      ],
      "metadata": {
        "id": "Q6SouVE7C2cq"
      }
    },
    {
      "cell_type": "code",
      "source": [
        "# 4. Remove retweets\n",
        "twitter_archive = twitter_archive[twitter_archive['retweeted_status_id'].isnull()]"
      ],
      "metadata": {
        "id": "_lwSvi7Tz674"
      },
      "execution_count": 1322,
      "outputs": []
    },
    {
      "cell_type": "markdown",
      "source": [
        "test"
      ],
      "metadata": {
        "id": "GLNkFXsRC3dl"
      }
    },
    {
      "cell_type": "code",
      "source": [
        "# Confirm all retweets are removed (no non-null retweeted_status_id)\n",
        "retweets_remaining = twitter_archive['retweeted_status_id'].notnull().sum()\n",
        "print(\"Number of retweets remaining:\", retweets_remaining)\n"
      ],
      "metadata": {
        "colab": {
          "base_uri": "https://localhost:8080/"
        },
        "id": "cwp932STC3jG",
        "outputId": "59049615-b1f1-405e-886d-97faed076482"
      },
      "execution_count": 1323,
      "outputs": [
        {
          "output_type": "stream",
          "name": "stdout",
          "text": [
            "Number of retweets remaining: 0\n"
          ]
        }
      ]
    },
    {
      "cell_type": "markdown",
      "source": [
        "Issue #7: Removing Replies\n",
        "Define:\n",
        "Replies are not original tweets and may not be relevant for the intended analysis. Any rows identified as replies (where the in_reply_to_status_id column is not null) should be removed from the dataset."
      ],
      "metadata": {
        "id": "N6UeuDt0z81q"
      }
    },
    {
      "cell_type": "markdown",
      "source": [
        "code"
      ],
      "metadata": {
        "id": "vTWdSfwvDCz_"
      }
    },
    {
      "cell_type": "code",
      "source": [
        "# 5. Remove replies\n",
        "twitter_archive = twitter_archive[twitter_archive['in_reply_to_status_id'].isnull()]"
      ],
      "metadata": {
        "id": "sTARlltTz8vF"
      },
      "execution_count": 1324,
      "outputs": []
    },
    {
      "cell_type": "markdown",
      "source": [
        "test"
      ],
      "metadata": {
        "id": "R6qUMmI5DDsr"
      }
    },
    {
      "cell_type": "code",
      "source": [
        "#Confirm all replies are removed (no non-null in_reply_to_status_id)\n",
        "replies_remaining = twitter_archive['in_reply_to_status_id'].notnull().sum()\n",
        "print(\"Number of replies remaining:\", replies_remaining)\n"
      ],
      "metadata": {
        "colab": {
          "base_uri": "https://localhost:8080/"
        },
        "id": "wSeAiUzADDyV",
        "outputId": "ba2bb7b3-3e50-43e2-caf7-015d8ef589f0"
      },
      "execution_count": 1325,
      "outputs": [
        {
          "output_type": "stream",
          "name": "stdout",
          "text": [
            "Number of replies remaining: 0\n"
          ]
        }
      ]
    },
    {
      "cell_type": "markdown",
      "source": [
        "issue 3. Quality: Remove Unwanted Columns"
      ],
      "metadata": {
        "id": "yCfox00JHSeY"
      }
    },
    {
      "cell_type": "markdown",
      "source": [
        "code"
      ],
      "metadata": {
        "id": "7iMi-F9mEHmr"
      }
    },
    {
      "cell_type": "code",
      "source": [
        "# Drop columns that are not needed for analysis\n",
        "columns_to_drop = ['in_reply_to_status_id', 'in_reply_to_user_id', 'retweeted_status_id',\n",
        "                   'retweeted_status_user_id', 'retweeted_status_timestamp']\n",
        "twitter_archive = twitter_archive.drop(columns=columns_to_drop)\n"
      ],
      "metadata": {
        "id": "xi8JSyAAEEfG"
      },
      "execution_count": 1326,
      "outputs": []
    },
    {
      "cell_type": "markdown",
      "source": [
        "test"
      ],
      "metadata": {
        "id": "B_1WgkIPEJJ5"
      }
    },
    {
      "cell_type": "code",
      "source": [
        "# Define the list of columns that should have been dropped\n",
        "columns_expected_to_be_dropped = ['in_reply_to_status_id', 'in_reply_to_user_id', 'retweeted_status_id',\n",
        "                                  'retweeted_status_user_id', 'retweeted_status_timestamp']\n",
        "\n",
        "# Test: Check if any of the columns in the `columns_expected_to_be_dropped` list are still present in the DataFrame.\n",
        "remaining_dropped_columns = [col for col in columns_expected_to_be_dropped if col in twitter_archive.columns]\n",
        "\n",
        "print(\"Columns still present after drop operation:\", remaining_dropped_columns)\n",
        "\n"
      ],
      "metadata": {
        "colab": {
          "base_uri": "https://localhost:8080/"
        },
        "id": "BRA-6Q9ZEJTq",
        "outputId": "095db5f1-1644-4c47-eea5-fa752c52a721"
      },
      "execution_count": 1327,
      "outputs": [
        {
          "output_type": "stream",
          "name": "stdout",
          "text": [
            "Columns still present after drop operation: []\n"
          ]
        }
      ]
    },
    {
      "cell_type": "markdown",
      "source": [
        "issue 4. Quality: Clean Invalid Dog Names"
      ],
      "metadata": {
        "id": "n5fg8Hk4HNqf"
      }
    },
    {
      "cell_type": "markdown",
      "source": [
        "code"
      ],
      "metadata": {
        "id": "A2uO7xBlEjmo"
      }
    },
    {
      "cell_type": "code",
      "source": [
        "# Replace lowercase or invalid dog names with NaN\n",
        "invalid_names = ['a', 'an', 'the', 'such', 'quite', 'one', 'not', 'very', 'just', 'getting', 'actually', 'mad', 'old', 'infuriating', 'all', 'by', 'my', 'his', 'officially', 'life', 'unacceptable', 'space']\n",
        "twitter_archive['name'] = twitter_archive['name'].replace(invalid_names, np.nan)\n"
      ],
      "metadata": {
        "id": "ayjDMSgaEjw9"
      },
      "execution_count": 1328,
      "outputs": []
    },
    {
      "cell_type": "markdown",
      "source": [
        "test"
      ],
      "metadata": {
        "id": "hjDeql0oElkX"
      }
    },
    {
      "cell_type": "code",
      "source": [
        "#Ensure none of the invalid names remain in the 'name' column\n",
        "invalid_names = ['a', 'an', 'the', 'such', 'quite', 'one', 'not', 'very', 'just', 'getting', 'actually', 'mad', 'old', 'infuriating', 'all', 'by', 'my', 'his', 'officially', 'life', 'unacceptable', 'space']\n",
        "remaining_invalid_names = twitter_archive['name'].isin(invalid_names).sum()\n",
        "print(\"Number of invalid names remaining:\", remaining_invalid_names)\n"
      ],
      "metadata": {
        "colab": {
          "base_uri": "https://localhost:8080/"
        },
        "id": "vJwLjvXoElqc",
        "outputId": "e3640fd9-61ef-4dfb-ce84-a3c404b6a90d"
      },
      "execution_count": 1329,
      "outputs": [
        {
          "output_type": "stream",
          "name": "stdout",
          "text": [
            "Number of invalid names remaining: 0\n"
          ]
        }
      ]
    },
    {
      "cell_type": "markdown",
      "source": [
        "issue 5. Quality: Clean Non-Null Placeholders in Dog Stages"
      ],
      "metadata": {
        "id": "2AwSGl1wHJOm"
      }
    },
    {
      "cell_type": "markdown",
      "source": [
        "code"
      ],
      "metadata": {
        "id": "LmW4XDSxEvIr"
      }
    },
    {
      "cell_type": "code",
      "source": [
        "# Replace 'None' with np.nan in doggo, floofer, pupper, puppo columns\n",
        "for col in ['doggo', 'floofer', 'pupper', 'puppo']:\n",
        "    twitter_archive[col] = twitter_archive[col].replace('None', np.nan)\n"
      ],
      "metadata": {
        "id": "QXNj-Wm2EvRz"
      },
      "execution_count": 1330,
      "outputs": []
    },
    {
      "cell_type": "markdown",
      "source": [
        "test"
      ],
      "metadata": {
        "id": "ZQ-7s0QOEvwk"
      }
    },
    {
      "cell_type": "code",
      "source": [
        "# Test: Ensure there are no 'None' strings left in the dog stage columns\n",
        "stage_cols = ['doggo', 'floofer', 'pupper', 'puppo']\n",
        "none_count = (twitter_archive[stage_cols] == 'None').sum()\n",
        "print(\"Number of 'None' strings remaining in each stage column:\\n\", none_count)\n"
      ],
      "metadata": {
        "colab": {
          "base_uri": "https://localhost:8080/"
        },
        "id": "hP12KpKaEv23",
        "outputId": "5041de55-6849-4222-dfee-d6c4e45e79a8"
      },
      "execution_count": 1331,
      "outputs": [
        {
          "output_type": "stream",
          "name": "stdout",
          "text": [
            "Number of 'None' strings remaining in each stage column:\n",
            " doggo      0\n",
            "floofer    0\n",
            "pupper     0\n",
            "puppo      0\n",
            "dtype: int64\n"
          ]
        }
      ]
    },
    {
      "cell_type": "markdown",
      "source": [
        "6. Quality: Fix Rating Numerator Extraction Errors"
      ],
      "metadata": {
        "id": "bQ0V0KKxHGZ5"
      }
    },
    {
      "cell_type": "markdown",
      "source": [
        "code"
      ],
      "metadata": {
        "id": "efFZXRKTE5Q-"
      }
    },
    {
      "cell_type": "code",
      "source": [
        "# Example: If rating_numerator is 9.75 but extracted as 75, fix it\n",
        "# (Assuming you have logic to extract correct ratings from text if needed)\n",
        "# For demonstration, fix obvious errors\n",
        "twitter_archive.loc[twitter_archive['rating_numerator'] > 20, 'rating_numerator'] = 10  # Example fix\n"
      ],
      "metadata": {
        "id": "sT0SSFNIE5ej"
      },
      "execution_count": 1332,
      "outputs": []
    },
    {
      "cell_type": "markdown",
      "source": [
        "test"
      ],
      "metadata": {
        "id": "Sa39fLRfE5kz"
      }
    },
    {
      "cell_type": "code",
      "source": [
        "#Ensure there are no rating_numerator values greater than 20, except for known joke tweets (e.g., 1776)\n",
        "outliers = twitter_archive[twitter_archive['rating_numerator'] > 20]\n",
        "print(\"Number of rating_numerator > 20:\", outliers.shape[0])\n",
        "print(\"Outlier rows (if any):\")\n",
        "print(outliers[['tweet_id', 'text', 'rating_numerator']])\n"
      ],
      "metadata": {
        "colab": {
          "base_uri": "https://localhost:8080/"
        },
        "id": "742xMH1RE5ps",
        "outputId": "b0e5dbb2-8677-4be5-8520-147d90c40bb2"
      },
      "execution_count": 1333,
      "outputs": [
        {
          "output_type": "stream",
          "name": "stdout",
          "text": [
            "Number of rating_numerator > 20: 0\n",
            "Outlier rows (if any):\n",
            "Empty DataFrame\n",
            "Columns: [tweet_id, text, rating_numerator]\n",
            "Index: []\n"
          ]
        }
      ]
    },
    {
      "cell_type": "markdown",
      "source": [
        "#issue 9. Tidiness: Combine Dog Stages into One Column"
      ],
      "metadata": {
        "id": "OxWvxqz_G-TY"
      }
    },
    {
      "cell_type": "markdown",
      "source": [
        "code"
      ],
      "metadata": {
        "id": "WDO1E0mZFNhN"
      }
    },
    {
      "cell_type": "code",
      "source": [
        "# Combine doggo, floofer, pupper, puppo into a single column\n",
        "def combine_stages(row):\n",
        "    stages = [stage for stage in ['doggo', 'floofer', 'pupper', 'puppo'] if pd.notnull(row[stage])]\n",
        "    return ', '.join(stages) if stages else np.nan\n",
        "\n",
        "twitter_archive['dog_stage'] = twitter_archive.apply(combine_stages, axis=1)\n",
        "twitter_archive = twitter_archive.drop(columns=['doggo', 'floofer', 'pupper', 'puppo'])\n"
      ],
      "metadata": {
        "id": "1AOCZMtVFN1O"
      },
      "execution_count": 1334,
      "outputs": []
    },
    {
      "cell_type": "markdown",
      "source": [
        "test"
      ],
      "metadata": {
        "id": "EX53ssTmFN7g"
      }
    },
    {
      "cell_type": "code",
      "source": [
        "# 1. Check that the new column exists\n",
        "print(\"'dog_stage' in columns:\", 'dog_stage' in twitter_archive.columns)\n",
        "\n",
        "# 2. Check that the original stage columns are no longer present\n",
        "original_stage_cols = ['doggo', 'floofer', 'pupper', 'puppo']\n",
        "remaining_stage_cols = [col for col in original_stage_cols if col in twitter_archive.columns]\n",
        "print(\"Original stage columns still present:\", remaining_stage_cols)\n",
        "\n",
        "# 3. Show some sample values from the new column\n",
        "print(\"Sample non-null dog_stage values:\")\n",
        "non_null_stages = twitter_archive['dog_stage'].dropna()\n",
        "n = min(5, len(non_null_stages))\n",
        "if n > 0:\n",
        "    print(\"Sample non-null dog_stage values:\")\n",
        "    print(non_null_stages.sample(n, random_state=1))\n",
        "else:\n",
        "    print(\"No non-null dog_stage values to sample.\")\n",
        "\n"
      ],
      "metadata": {
        "colab": {
          "base_uri": "https://localhost:8080/"
        },
        "collapsed": true,
        "id": "hLH_zpr6FOAn",
        "outputId": "d4890a93-af18-4544-8c77-473a7add7bbc"
      },
      "execution_count": 1335,
      "outputs": [
        {
          "output_type": "stream",
          "name": "stdout",
          "text": [
            "'dog_stage' in columns: True\n",
            "Original stage columns still present: []\n",
            "Sample non-null dog_stage values:\n",
            "No non-null dog_stage values to sample.\n"
          ]
        }
      ]
    },
    {
      "cell_type": "code",
      "source": [
        "print(tweet_json.columns)\n"
      ],
      "metadata": {
        "colab": {
          "base_uri": "https://localhost:8080/"
        },
        "collapsed": true,
        "id": "xlp0Cu7yGANF",
        "outputId": "1b5aee75-cd06-4926-d5b3-26d38fbd6b07"
      },
      "execution_count": 1336,
      "outputs": [
        {
          "output_type": "stream",
          "name": "stdout",
          "text": [
            "Index(['created_at', 'tweet_id', 'id_str', 'full_text', 'truncated',\n",
            "       'display_text_range', 'entities', 'extended_entities', 'source',\n",
            "       'in_reply_to_status_id', 'in_reply_to_status_id_str',\n",
            "       'in_reply_to_user_id', 'in_reply_to_user_id_str',\n",
            "       'in_reply_to_screen_name', 'user', 'geo', 'coordinates', 'place',\n",
            "       'contributors', 'is_quote_status', 'retweet_count', 'favorite_count',\n",
            "       'favorited', 'retweeted', 'possibly_sensitive',\n",
            "       'possibly_sensitive_appealable', 'lang', 'retweeted_status',\n",
            "       'quoted_status_id', 'quoted_status_id_str', 'quoted_status'],\n",
            "      dtype='object')\n"
          ]
        }
      ]
    },
    {
      "cell_type": "code",
      "source": [
        "tweet_json['tweet_id'] = tweet_json['id_str'].astype(str)\n",
        "\n"
      ],
      "metadata": {
        "id": "U9ATCcv9GRGj"
      },
      "execution_count": 1337,
      "outputs": []
    },
    {
      "cell_type": "markdown",
      "source": [
        "#issue 10. Tidiness: Merge All DataFrames into One Master Table"
      ],
      "metadata": {
        "id": "mZLX_rQBG5yT"
      }
    },
    {
      "cell_type": "markdown",
      "source": [
        "code"
      ],
      "metadata": {
        "id": "EzgSDQA4Fpe5"
      }
    },
    {
      "cell_type": "code",
      "source": [
        "if 'id' in tweet_json.columns:\n",
        "    tweet_json['tweet_id'] = tweet_json['id'].astype(str)\n",
        "elif 'id_str' in tweet_json.columns:\n",
        "    tweet_json['tweet_id'] = tweet_json['id_str'].astype(str)\n",
        "else:\n",
        "    raise KeyError(\"Neither 'id' nor 'id_str' found in tweet_json columns!\")\n"
      ],
      "metadata": {
        "id": "5djstnY4Fpk_"
      },
      "execution_count": 1338,
      "outputs": []
    },
    {
      "cell_type": "code",
      "source": [
        "df_master = pd.merge(twitter_archive, image_predictions, on='tweet_id', how='inner')\n",
        "df_master = pd.merge(df_master, tweet_json, on='tweet_id', how='inner')\n"
      ],
      "metadata": {
        "id": "frsRwvdGGjUX"
      },
      "execution_count": 1339,
      "outputs": []
    },
    {
      "cell_type": "markdown",
      "source": [
        "test"
      ],
      "metadata": {
        "id": "E-8wqAvVFprL"
      }
    },
    {
      "cell_type": "code",
      "source": [
        "# Test that columns from all three dataframes are present in the merged dataframe\n",
        "expected_columns = [\n",
        "    'tweet_id',                 # From all three\n",
        "    'jpg_url',                  # From image_predictions\n",
        "    'p1', 'p1_conf', 'p1_dog',  # From image_predictions\n",
        "    'retweet_count',            # From tweet_json\n",
        "    'favorite_count',           # From tweet_json\n",
        "    'text',                     # From twitter_archive\n",
        "]\n",
        "\n",
        "missing_columns = [col for col in expected_columns if col not in df_master.columns]\n",
        "print(\"Missing columns after merge:\", missing_columns)\n",
        "\n",
        "# Test that the number of rows is as expected (should be <= the smallest original dataframe)\n",
        "print(\"Rows in twitter_archive:\", twitter_archive.shape[0])\n",
        "print(\"Rows in image_predictions:\", image_predictions.shape[0])\n",
        "print(\"Rows in tweet_json:\", tweet_json.shape[0])\n",
        "print(\"Rows in merged dataframe:\", df_master.shape[0])\n",
        "\n",
        "# Test that there are no duplicate tweet_ids in the merged dataframe\n",
        "duplicate_count = df_master['tweet_id'].duplicated().sum()\n",
        "print(\"Number of duplicate tweet_ids in merged dataframe:\", duplicate_count)\n"
      ],
      "metadata": {
        "colab": {
          "base_uri": "https://localhost:8080/"
        },
        "collapsed": true,
        "id": "8abt6YuFFp3B",
        "outputId": "45cdd6d8-f4bb-4cdf-87b0-b632ce87f72f"
      },
      "execution_count": 1340,
      "outputs": [
        {
          "output_type": "stream",
          "name": "stdout",
          "text": [
            "Missing columns after merge: []\n",
            "Rows in twitter_archive: 0\n",
            "Rows in image_predictions: 2075\n",
            "Rows in tweet_json: 2354\n",
            "Rows in merged dataframe: 0\n",
            "Number of duplicate tweet_ids in merged dataframe: 0\n"
          ]
        }
      ]
    },
    {
      "cell_type": "markdown",
      "source": [
        "test"
      ],
      "metadata": {
        "id": "n7zULyvJ0Pxo"
      }
    },
    {
      "cell_type": "code",
      "source": [
        "print(df_merged.info())\n",
        "print(df_merged.head())"
      ],
      "metadata": {
        "id": "nnaoVvQpz865",
        "colab": {
          "base_uri": "https://localhost:8080/"
        },
        "collapsed": true,
        "outputId": "02407b21-7605-4b5b-fa46-cbd4a5007c99"
      },
      "execution_count": 1341,
      "outputs": [
        {
          "output_type": "stream",
          "name": "stdout",
          "text": [
            "<class 'pandas.core.frame.DataFrame'>\n",
            "RangeIndex: 2073 entries, 0 to 2072\n",
            "Data columns (total 59 columns):\n",
            " #   Column                         Non-Null Count  Dtype              \n",
            "---  ------                         --------------  -----              \n",
            " 0   tweet_id                       2073 non-null   int64              \n",
            " 1   in_reply_to_status_id_x        23 non-null     float64            \n",
            " 2   in_reply_to_user_id_x          23 non-null     float64            \n",
            " 3   timestamp                      2073 non-null   object             \n",
            " 4   source_x                       2073 non-null   object             \n",
            " 5   text                           2073 non-null   object             \n",
            " 6   retweeted_status_id            79 non-null     float64            \n",
            " 7   retweeted_status_user_id       79 non-null     float64            \n",
            " 8   retweeted_status_timestamp     79 non-null     object             \n",
            " 9   expanded_urls                  2073 non-null   object             \n",
            " 10  rating_numerator               2073 non-null   int64              \n",
            " 11  rating_denominator             2073 non-null   int64              \n",
            " 12  name                           1496 non-null   object             \n",
            " 13  doggo                          2073 non-null   object             \n",
            " 14  floofer                        2073 non-null   object             \n",
            " 15  pupper                         2073 non-null   object             \n",
            " 16  puppo                          2073 non-null   object             \n",
            " 17  jpg_url                        2073 non-null   object             \n",
            " 18  img_num                        2073 non-null   int64              \n",
            " 19  p1                             2073 non-null   object             \n",
            " 20  p1_conf                        2073 non-null   float64            \n",
            " 21  p1_dog                         2073 non-null   bool               \n",
            " 22  p2                             2073 non-null   object             \n",
            " 23  p2_conf                        2073 non-null   float64            \n",
            " 24  p2_dog                         2073 non-null   bool               \n",
            " 25  p3                             2073 non-null   object             \n",
            " 26  p3_conf                        2073 non-null   float64            \n",
            " 27  p3_dog                         2073 non-null   bool               \n",
            " 28  created_at                     2073 non-null   datetime64[ns, UTC]\n",
            " 29  id_str                         2073 non-null   int64              \n",
            " 30  full_text                      2073 non-null   object             \n",
            " 31  truncated                      2073 non-null   bool               \n",
            " 32  display_text_range             2073 non-null   object             \n",
            " 33  entities                       2073 non-null   object             \n",
            " 34  extended_entities              2073 non-null   object             \n",
            " 35  source_y                       2073 non-null   object             \n",
            " 36  in_reply_to_status_id_y        23 non-null     float64            \n",
            " 37  in_reply_to_status_id_str      23 non-null     float64            \n",
            " 38  in_reply_to_user_id_y          23 non-null     float64            \n",
            " 39  in_reply_to_user_id_str        23 non-null     float64            \n",
            " 40  in_reply_to_screen_name        23 non-null     object             \n",
            " 41  user                           2073 non-null   object             \n",
            " 42  geo                            0 non-null      float64            \n",
            " 43  coordinates                    0 non-null      float64            \n",
            " 44  place                          1 non-null      object             \n",
            " 45  contributors                   0 non-null      float64            \n",
            " 46  is_quote_status                2073 non-null   bool               \n",
            " 47  retweet_count                  2073 non-null   int64              \n",
            " 48  favorite_count                 2073 non-null   int64              \n",
            " 49  favorited                      2073 non-null   bool               \n",
            " 50  retweeted                      2073 non-null   bool               \n",
            " 51  possibly_sensitive             2073 non-null   float64            \n",
            " 52  possibly_sensitive_appealable  2073 non-null   float64            \n",
            " 53  lang                           2073 non-null   object             \n",
            " 54  retweeted_status               79 non-null     object             \n",
            " 55  quoted_status_id               0 non-null      float64            \n",
            " 56  quoted_status_id_str           0 non-null      float64            \n",
            " 57  quoted_status                  0 non-null      object             \n",
            " 58  stage                          320 non-null    object             \n",
            "dtypes: bool(7), datetime64[ns, UTC](1), float64(18), int64(7), object(26)\n",
            "memory usage: 856.5+ KB\n",
            "None\n",
            "             tweet_id  in_reply_to_status_id_x  in_reply_to_user_id_x  \\\n",
            "0  892420643555336193                      NaN                    NaN   \n",
            "1  892177421306343426                      NaN                    NaN   \n",
            "2  891815181378084864                      NaN                    NaN   \n",
            "3  891689557279858688                      NaN                    NaN   \n",
            "4  891327558926688256                      NaN                    NaN   \n",
            "\n",
            "                   timestamp  \\\n",
            "0  2017-08-01 16:23:56 +0000   \n",
            "1  2017-08-01 00:17:27 +0000   \n",
            "2  2017-07-31 00:18:03 +0000   \n",
            "3  2017-07-30 15:58:51 +0000   \n",
            "4  2017-07-29 16:00:24 +0000   \n",
            "\n",
            "                                            source_x  \\\n",
            "0  <a href=\"http://twitter.com/download/iphone\" r...   \n",
            "1  <a href=\"http://twitter.com/download/iphone\" r...   \n",
            "2  <a href=\"http://twitter.com/download/iphone\" r...   \n",
            "3  <a href=\"http://twitter.com/download/iphone\" r...   \n",
            "4  <a href=\"http://twitter.com/download/iphone\" r...   \n",
            "\n",
            "                                                text  retweeted_status_id  \\\n",
            "0  This is Phineas. He's a mystical boy. Only eve...                  NaN   \n",
            "1  This is Tilly. She's just checking pup on you....                  NaN   \n",
            "2  This is Archie. He is a rare Norwegian Pouncin...                  NaN   \n",
            "3  This is Darla. She commenced a snooze mid meal...                  NaN   \n",
            "4  This is Franklin. He would like you to stop ca...                  NaN   \n",
            "\n",
            "   retweeted_status_user_id retweeted_status_timestamp  \\\n",
            "0                       NaN                        NaN   \n",
            "1                       NaN                        NaN   \n",
            "2                       NaN                        NaN   \n",
            "3                       NaN                        NaN   \n",
            "4                       NaN                        NaN   \n",
            "\n",
            "                                       expanded_urls  ...  favorited  \\\n",
            "0  https://twitter.com/dog_rates/status/892420643...  ...      False   \n",
            "1  https://twitter.com/dog_rates/status/892177421...  ...      False   \n",
            "2  https://twitter.com/dog_rates/status/891815181...  ...      False   \n",
            "3  https://twitter.com/dog_rates/status/891689557...  ...      False   \n",
            "4  https://twitter.com/dog_rates/status/891327558...  ...      False   \n",
            "\n",
            "   retweeted possibly_sensitive possibly_sensitive_appealable lang  \\\n",
            "0      False                0.0                           0.0   en   \n",
            "1      False                0.0                           0.0   en   \n",
            "2      False                0.0                           0.0   en   \n",
            "3      False                0.0                           0.0   en   \n",
            "4      False                0.0                           0.0   en   \n",
            "\n",
            "  retweeted_status quoted_status_id quoted_status_id_str  quoted_status stage  \n",
            "0              NaN              NaN                  NaN            NaN   NaN  \n",
            "1              NaN              NaN                  NaN            NaN   NaN  \n",
            "2              NaN              NaN                  NaN            NaN   NaN  \n",
            "3              NaN              NaN                  NaN            NaN   NaN  \n",
            "4              NaN              NaN                  NaN            NaN   NaN  \n",
            "\n",
            "[5 rows x 59 columns]\n"
          ]
        }
      ]
    },
    {
      "cell_type": "markdown",
      "source": [
        "## Analyze and Visualize\n",
        "\n",
        "In this section, we analyze the cleaned data and produce insights and visualizations.\n",
        "**Note:** All visualizations are created after cleaning and merging is complete.\n"
      ],
      "metadata": {
        "id": "WMKjuXJAz9Az"
      }
    },
    {
      "cell_type": "markdown",
      "source": [
        "code"
      ],
      "metadata": {
        "id": "PwxK1Tnl6SST"
      }
    },
    {
      "cell_type": "code",
      "source": [
        "#Distribution of dog ratings\n",
        "plt.figure(figsize=(8,5))\n",
        "sns.histplot(df_merged['rating_numerator'], bins=20)\n",
        "plt.title('Distribution of Dog Ratings')\n",
        "plt.xlabel('Rating Numerator')\n",
        "plt.ylabel('Frequency')\n",
        "plt.show()\n",
        "\n",
        "#Most common dog stages\n",
        "dog_stages = ['doggo', 'floofer', 'pupper', 'puppo']\n",
        "for stage in dog_stages:\n",
        "    print(f\"{stage}: {df_merged[stage].value_counts()}\")\n",
        "\n",
        "#Top 10 predicted breeds\n",
        "if 'p1' in df_merged.columns:\n",
        "    top_breeds = df_merged['p1'].value_counts().head(10)\n",
        "    top_breeds.plot(kind='bar')\n",
        "    plt.title('Top 10 Predicted Dog Breeds')\n",
        "    plt.xlabel('Breed')\n",
        "    plt.ylabel('Count')\n",
        "    plt.show()\n"
      ],
      "metadata": {
        "id": "WRA6vxkHz9Eg",
        "colab": {
          "base_uri": "https://localhost:8080/",
          "height": 1000
        },
        "collapsed": true,
        "outputId": "49351fae-bc84-408c-947c-f77df1ce8971"
      },
      "execution_count": 1342,
      "outputs": [
        {
          "output_type": "display_data",
          "data": {
            "text/plain": [
              "<Figure size 800x500 with 1 Axes>"
            ],
            "image/png": "[encoded data removed]"
          },
          "metadata": {}
        },
        {
          "output_type": "stream",
          "name": "stdout",
          "text": [
            "doggo: doggo\n",
            "         1993\n",
            "doggo      80\n",
            "Name: count, dtype: int64\n",
            "floofer: floofer\n",
            "           2065\n",
            "floofer       8\n",
            "Name: count, dtype: int64\n",
            "pupper: pupper\n",
            "          1852\n",
            "pupper     221\n",
            "Name: count, dtype: int64\n",
            "puppo: puppo\n",
            "         2049\n",
            "puppo      24\n",
            "Name: count, dtype: int64\n"
          ]
        },
        {
          "output_type": "display_data",
          "data": {
            "text/plain": [
              "<Figure size 640x480 with 1 Axes>"
            ],
            "image/png": "[encoded data removed]"
          },
          "metadata": {}
        }
      ]
    },
    {
      "cell_type": "markdown",
      "source": [
        "test"
      ],
      "metadata": {
        "id": "Im3pan4T6Vc4"
      }
    },
    {
      "cell_type": "code",
      "source": [
        "# If needed, rename 'id' column in tweet_json to 'tweet_id'\n",
        "if 'id' in tweet_json.columns:\n",
        "    tweet_json = tweet_json.rename(columns={'id': 'tweet_id'})\n"
      ],
      "metadata": {
        "id": "a7cKcS6-8I8h"
      },
      "execution_count": 1343,
      "outputs": []
    },
    {
      "cell_type": "code",
      "source": [
        "# Merge all cleaned dataframes on tweet_id\n",
        "master = pd.merge(twitter_archive, image_predictions, on='tweet_id', how='left')\n",
        "master = pd.merge(master, tweet_json, on='tweet_id', how='left')\n"
      ],
      "metadata": {
        "id": "h36InceSIVCM"
      },
      "execution_count": 1344,
      "outputs": []
    },
    {
      "cell_type": "code",
      "source": [
        "df_merged = pd.merge(twitter_archive, image_predictions, on='tweet_id', how='left')\n",
        "df_merged = pd.merge(df_merged, tweet_json, on='tweet_id', how='left')\n"
      ],
      "metadata": {
        "id": "KArpYZrMbh0n"
      },
      "execution_count": 1345,
      "outputs": []
    },
    {
      "cell_type": "code",
      "source": [
        "# Merge twitter_archive and image_predictions\n",
        "df_master = pd.merge(\n",
        "    twitter_archive,\n",
        "    image_predictions,\n",
        "    on='tweet_id',\n",
        "    how='left'\n",
        ")\n",
        "\n",
        "# Merge with tweet_json\n",
        "df_master = pd.merge(\n",
        "    df_master,\n",
        "    tweet_json,\n",
        "    on='tweet_id',\n",
        "    how='left'\n",
        ")\n"
      ],
      "metadata": {
        "id": "VIGttjsJdkeA"
      },
      "execution_count": 1346,
      "outputs": []
    },
    {
      "cell_type": "code",
      "source": [
        "\n",
        "# 1. Load data\n",
        "twitter_archive = pd.read_csv('/content/twitter-archive-enhanced.csv')\n",
        "image_predictions = pd.read_csv('/content/image-predictions.tsv', sep='\\t')\n",
        "tweet_json = pd.read_json('/content/tweet-json (1) (1).zip', lines=True)\n",
        "\n",
        "# 2. CLEAN EACH DATAFRAME\n",
        "\n",
        "# Clean twitter_archive\n",
        "twitter_archive_clean = twitter_archive[twitter_archive['retweeted_status_id'].isnull()].copy()\n",
        "twitter_archive_clean['tweet_id'] = twitter_archive_clean['tweet_id'].astype(str)\n",
        "twitter_archive_clean['timestamp'] = pd.to_datetime(twitter_archive_clean['timestamp'])\n",
        "twitter_archive_clean['rating_numerator'] = twitter_archive_clean['rating_numerator'].astype(float)\n",
        "twitter_archive_clean['rating_denominator'] = twitter_archive_clean['rating_denominator'].astype(float)\n",
        "\n",
        "# Clean image_predictions\n",
        "image_predictions_clean = image_predictions.copy()\n",
        "image_predictions_clean['tweet_id'] = image_predictions_clean['tweet_id'].astype(str)\n",
        "\n",
        "# Clean tweet_json\n",
        "if 'id' in tweet_json.columns:\n",
        "    tweet_json = tweet_json.rename(columns={'id': 'tweet_id'})\n",
        "tweet_json_clean = tweet_json[['tweet_id', 'retweet_count', 'favorite_count']].copy()\n",
        "tweet_json_clean['tweet_id'] = tweet_json_clean['tweet_id'].astype(str)\n",
        "\n",
        "# 3. MERGE CLEANED DATAFRAMES (left join to preserve all twitter_archive rows/columns)\n",
        "df_master = pd.merge(twitter_archive_clean, image_predictions_clean, on='tweet_id', how='left')\n",
        "df_master = pd.merge(df_master, tweet_json_clean, on='tweet_id', how='left')\n",
        "\n",
        "# 4. Combine dog stages into one column (check for existence first)\n",
        "dog_stage_cols = [col for col in ['doggo', 'floofer', 'pupper', 'puppo'] if col in df_master.columns]\n",
        "for col in dog_stage_cols:\n",
        "    df_master[col] = df_master[col].fillna('')\n",
        "\n",
        "if dog_stage_cols:\n",
        "    df_master['stage'] = df_master[dog_stage_cols].agg(''.join, axis=1)\n",
        "    df_master['stage'] = df_master['stage'].replace('', np.nan)\n",
        "    df_master['stage'] = df_master['stage'].replace({\n",
        "        'doggopupper': 'doggo, pupper',\n",
        "        'doggopuppo': 'doggo, puppo',\n",
        "        'doggofloofer': 'doggo, floofer',\n",
        "        'pupperpuppo': 'pupper, puppo'\n",
        "    })\n",
        "else:\n",
        "    df_master['stage'] = np.nan\n",
        "\n",
        "# 5. Save to CSV\n",
        "df_master.to_csv('twitter_archive_master.csv', index=False)\n",
        "\n",
        "# 6. Download the file (for Colab)\n",
        "from google.colab import files\n",
        "files.download('twitter_archive_master.csv')"
      ],
      "metadata": {
        "colab": {
          "base_uri": "https://localhost:8080/",
          "height": 17
        },
        "id": "icNelk9qems9",
        "outputId": "5e8dc1c5-2730-46cc-ea65-7bb73ecd2e90"
      },
      "execution_count": 1347,
      "outputs": [
        {
          "output_type": "display_data",
          "data": {
            "text/plain": [
              "<IPython.core.display.Javascript object>"
            ],
            "application/javascript": [
              "\n",
              "    async function download(id, filename, size) {\n",
              "      if (!google.colab.kernel.accessAllowed) {\n",
              "        return;\n",
              "      }\n",
              "      const div = document.createElement('div');\n",
              "      const label = document.createElement('label');\n",
              "      label.textContent = `Downloading \"${filename}\": `;\n",
              "      div.appendChild(label);\n",
              "      const progress = document.createElement('progress');\n",
              "      progress.max = size;\n",
              "      div.appendChild(progress);\n",
              "      document.body.appendChild(div);\n",
              "\n",
              "      const buffers = [];\n",
              "      let downloaded = 0;\n",
              "\n",
              "      const channel = await google.colab.kernel.comms.open(id);\n",
              "      // Send a message to notify the kernel that we're ready.\n",
              "      channel.send({})\n",
              "\n",
              "      for await (const message of channel.messages) {\n",
              "        // Send a message to notify the kernel that we're ready.\n",
              "        channel.send({})\n",
              "        if (message.buffers) {\n",
              "          for (const buffer of message.buffers) {\n",
              "            buffers.push(buffer);\n",
              "            downloaded += buffer.byteLength;\n",
              "            progress.value = downloaded;\n",
              "          }\n",
              "        }\n",
              "      }\n",
              "      const blob = new Blob(buffers, {type: 'application/binary'});\n",
              "      const a = document.createElement('a');\n",
              "      a.href = window.URL.createObjectURL(blob);\n",
              "      a.download = filename;\n",
              "      div.appendChild(a);\n",
              "      a.click();\n",
              "      div.remove();\n",
              "    }\n",
              "  "
            ]
          },
          "metadata": {}
        },
        {
          "output_type": "display_data",
          "data": {
            "text/plain": [
              "<IPython.core.display.Javascript object>"
            ],
            "application/javascript": [
              "download(\"download_e9fda76f-f9ca-47d1-a8e9-82537484f557\", \"twitter_archive_master.csv\", 1102891)"
            ]
          },
          "metadata": {}
        }
      ]
    }
  ]
}