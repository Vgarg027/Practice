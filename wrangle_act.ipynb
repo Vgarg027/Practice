{
 "cells": [
  {
   "cell_type": "code",
   "execution_count": 5,
   "metadata": {},
   "outputs": [],
   "source": [
    "import pandas as pd \n",
    "import numpy as np\n",
    "import datetime as dt\n",
    "import requests\n",
    "import matplotlib as mlt\n",
    "import seaborn as sns\n",
    "from scipy import stats\n",
    "import warnings\n",
    "import tweepy\n",
    "from tweepy import OAuthHandler\n",
    "import json\n",
    "import os\n",
    "warnings.filterwarnings('ignore')\n",
    "%matplotlib inline"
   ]
  },
  {
   "cell_type": "code",
   "execution_count": 6,
   "metadata": {},
   "outputs": [
    {
     "data": {
      "text/plain": [
       "(2356, 17)"
      ]
     },
     "execution_count": 6,
     "metadata": {},
     "output_type": "execute_result"
    }
   ],
   "source": [
    "archive_df=pd.read_csv('twitter-archive-enhanced.csv')\n",
    "archive_df.shape"
   ]
  },
  {
   "cell_type": "code",
   "execution_count": null,
   "metadata": {},
   "outputs": [],
   "source": [
    "# Query Twitter API for each tweet in the Twitter archive and save JSON in a text file\n",
    "# These are hidden to comply with Twitter's API terms and conditions\n",
    "consumer_key = 'HIDDEN'\n",
    "consumer_secret = 'HIDDEN'\n",
    "access_token = 'HIDDEN'\n",
    "access_secret = 'HIDDEN'\n",
    "\n",
    "auth = OAuthHandler(consumer_key, consumer_secret)\n",
    "auth.set_access_token(access_token, access_secret)\n",
    "\n",
    "api = tweepy.API(auth, wait_on_rate_limit=True)\n",
    "\n",
    "# NOTE TO REVIEWER: this student had mobile verification issues so the following\n",
    "# Twitter API code was sent to this student from a Udacity instructor\n",
    "# Tweet IDs for which to gather additional data via Twitter's API\n",
    "tweet_ids = archive_df.tweet_id.values\n",
    "len(tweet_ids)\n",
    "\n",
    "# Query Twitter's API for JSON data for each tweet ID in the Twitter archive\n",
    "count = 0\n",
    "fails_dict = {}\n",
    "start = timer()\n",
    "# Save each tweet's returned JSON as a new line in a .txt file\n",
    "with open('tweet-json copy.txt', 'w') as outfile:\n",
    "    # This loop will likely take 20-30 minutes to run because of Twitter's rate limit\n",
    "    for tweet_id in tweet_ids:\n",
    "        count += 1\n",
    "        print(str(count) + \": \" + str(tweet_id))\n",
    "        try:\n",
    "            tweet = api.get_status(tweet_id, tweet_mode='extended')\n",
    "            print(\"Success\")\n",
    "            json.dump(tweet._json, outfile)\n",
    "            outfile.write('\\n')\n",
    "        except tweepy.TweepError as e:\n",
    "            print(\"Fail\")\n",
    "            fails_dict[tweet_id] = e\n",
    "            pass\n",
    "\n",
    "print(fails_dict)\n"
   ]
  },
  {
   "cell_type": "code",
   "execution_count": 8,
   "metadata": {},
   "outputs": [],
   "source": [
    "df_json_list=[]\n",
    "with open('tweet-json copy','r') as tweetjson:\n",
    "    for line in tweetjson:\n",
    "        line = json.loads(line.strip())\n",
    "        id= line[\"id\"]\n",
    "        retweet_count=line[\"retweet_count\"]\n",
    "        favorite_count=line[\"favorite_count\"]\n",
    "        df_json_list.append({'id':id,'retweet_count':retweet_count,'favorite_count':favorite_count })\n",
    "api_df=pd.DataFrame(df_json_list,columns = ['id','retweet_count','favorite_count'])"
   ]
  },
  {
   "cell_type": "code",
   "execution_count": 12,
   "metadata": {},
   "outputs": [
    {
     "data": {
      "text/plain": [
       "(2075, 12)"
      ]
     },
     "execution_count": 12,
     "metadata": {},
     "output_type": "execute_result"
    }
   ],
   "source": [
    "url = 'https://d17h27t6h515a5.cloudfront.net/topher/2017/August/599fd2ad_image-predictions/image-predictions.tsv'\n",
    "image = requests.get(url)\n",
    "folder_name='image_predictions'\n",
    "os.mkdir(folder_name)\n",
    "with open (os.path.join(folder_name,\n",
    "                        url.split('/')[-1]),mode='wb')as file:\n",
    "    file.write(image.content)\n",
    "image_predictions_df = pd.read_csv('image_predictions/image-predictions.tsv',sep='\\t')\n",
    "image_predictions_df.shape"
   ]
  },
  {
   "cell_type": "code",
   "execution_count": 13,
   "metadata": {},
   "outputs": [
    {
     "data": {
      "text/plain": [
       "(2354, 3)"
      ]
     },
     "execution_count": 13,
     "metadata": {},
     "output_type": "execute_result"
    }
   ],
   "source": [
    "api_df.shape"
   ]
  },
  {
   "cell_type": "code",
   "execution_count": 14,
   "metadata": {},
   "outputs": [
    {
     "name": "stdout",
     "output_type": "stream",
     "text": [
      "<class 'pandas.core.frame.DataFrame'>\n",
      "Int64Index: 2097 entries, 0 to 2355\n",
      "Data columns (total 17 columns):\n",
      " #   Column                      Non-Null Count  Dtype  \n",
      "---  ------                      --------------  -----  \n",
      " 0   tweet_id                    2097 non-null   int64  \n",
      " 1   in_reply_to_status_id       0 non-null      float64\n",
      " 2   in_reply_to_user_id         0 non-null      float64\n",
      " 3   timestamp                   2097 non-null   object \n",
      " 4   source                      2097 non-null   object \n",
      " 5   text                        2097 non-null   object \n",
      " 6   retweeted_status_id         0 non-null      float64\n",
      " 7   retweeted_status_user_id    0 non-null      float64\n",
      " 8   retweeted_status_timestamp  0 non-null      object \n",
      " 9   expanded_urls               2094 non-null   object \n",
      " 10  rating_numerator            2097 non-null   int64  \n",
      " 11  rating_denominator          2097 non-null   int64  \n",
      " 12  name                        2097 non-null   object \n",
      " 13  doggo                       2097 non-null   object \n",
      " 14  floofer                     2097 non-null   object \n",
      " 15  pupper                      2097 non-null   object \n",
      " 16  puppo                       2097 non-null   object \n",
      "dtypes: float64(4), int64(3), object(10)\n",
      "memory usage: 294.9+ KB\n"
     ]
    }
   ],
   "source": [
    "dropped_values=archive_df[archive_df['retweeted_status_id'].notnull()|archive_df['in_reply_to_status_id'].notnull()]\n",
    "archive_df_drop=archive_df.drop(dropped_values.index)\n",
    "archive_df_drop.info()"
   ]
  },
  {
   "cell_type": "code",
   "execution_count": 15,
   "metadata": {},
   "outputs": [
    {
     "name": "stdout",
     "output_type": "stream",
     "text": [
      "<class 'pandas.core.frame.DataFrame'>\n",
      "RangeIndex: 2354 entries, 0 to 2353\n",
      "Data columns (total 3 columns):\n",
      " #   Column          Non-Null Count  Dtype\n",
      "---  ------          --------------  -----\n",
      " 0   id              2354 non-null   int64\n",
      " 1   retweet_count   2354 non-null   int64\n",
      " 2   favorite_count  2354 non-null   int64\n",
      "dtypes: int64(3)\n",
      "memory usage: 55.3 KB\n",
      "<class 'pandas.core.frame.DataFrame'>\n",
      "RangeIndex: 2075 entries, 0 to 2074\n",
      "Data columns (total 12 columns):\n",
      " #   Column    Non-Null Count  Dtype  \n",
      "---  ------    --------------  -----  \n",
      " 0   tweet_id  2075 non-null   int64  \n",
      " 1   jpg_url   2075 non-null   object \n",
      " 2   img_num   2075 non-null   int64  \n",
      " 3   p1        2075 non-null   object \n",
      " 4   p1_conf   2075 non-null   float64\n",
      " 5   p1_dog    2075 non-null   bool   \n",
      " 6   p2        2075 non-null   object \n",
      " 7   p2_conf   2075 non-null   float64\n",
      " 8   p2_dog    2075 non-null   bool   \n",
      " 9   p3        2075 non-null   object \n",
      " 10  p3_conf   2075 non-null   float64\n",
      " 11  p3_dog    2075 non-null   bool   \n",
      "dtypes: bool(3), float64(3), int64(2), object(4)\n",
      "memory usage: 152.1+ KB\n",
      "<class 'pandas.core.frame.DataFrame'>\n",
      "Int64Index: 2097 entries, 0 to 2355\n",
      "Data columns (total 17 columns):\n",
      " #   Column                      Non-Null Count  Dtype  \n",
      "---  ------                      --------------  -----  \n",
      " 0   tweet_id                    2097 non-null   int64  \n",
      " 1   in_reply_to_status_id       0 non-null      float64\n",
      " 2   in_reply_to_user_id         0 non-null      float64\n",
      " 3   timestamp                   2097 non-null   object \n",
      " 4   source                      2097 non-null   object \n",
      " 5   text                        2097 non-null   object \n",
      " 6   retweeted_status_id         0 non-null      float64\n",
      " 7   retweeted_status_user_id    0 non-null      float64\n",
      " 8   retweeted_status_timestamp  0 non-null      object \n",
      " 9   expanded_urls               2094 non-null   object \n",
      " 10  rating_numerator            2097 non-null   int64  \n",
      " 11  rating_denominator          2097 non-null   int64  \n",
      " 12  name                        2097 non-null   object \n",
      " 13  doggo                       2097 non-null   object \n",
      " 14  floofer                     2097 non-null   object \n",
      " 15  pupper                      2097 non-null   object \n",
      " 16  puppo                       2097 non-null   object \n",
      "dtypes: float64(4), int64(3), object(10)\n",
      "memory usage: 294.9+ KB\n"
     ]
    }
   ],
   "source": [
    "archive_df_drop.iloc[:, -4: ] = archive_df_drop.iloc[:, -4: ].replace('None','')\n",
    "api_df.info()\n",
    "image_predictions_df.info()\n",
    "archive_df_drop.info()\n"
   ]
  },
  {
   "cell_type": "code",
   "execution_count": 16,
   "metadata": {},
   "outputs": [],
   "source": [
    "archive_df_drop=archive_df_drop.drop(columns=['retweeted_status_id','retweeted_status_timestamp','retweeted_status_user_id'],\n",
    "                                     errors='ignore')\n",
    "archive_df_drop=archive_df_drop.drop(columns=['in_reply_to_status_id','in_reply_to_user_id'],errors='ignore')"
   ]
  },
  {
   "cell_type": "code",
   "execution_count": 17,
   "metadata": {},
   "outputs": [],
   "source": [
    "archive_df_drop['dogs_classification'] = archive_df_drop.apply(lambda row: row['doggo'] + \n",
    "                                                               row['floofer']+row['pupper']+row['puppo'], axis=1)\n",
    "archive_df_drop['dogs_classification'].value_counts()\n",
    "double_class = archive_df_drop[(archive_df_drop['dogs_classification'] =='doggopupper') \n",
    "                               | (archive_df_drop['dogs_classification'] =='doggofloofer')\n",
    "                               |(archive_df_drop['dogs_classification'] =='doggopuppo')]\n",
    "archive_df_drop=archive_df_drop.drop(double_class.index)\n",
    "archive_df_drop['rating_numerator'].value_counts(ascending=False)\n",
    "archive_df_drop['rating_numerator'].describe()\n",
    "archive_df_drop['rating_numerator'].mean()\n",
    "archive_df_drop['rating_denominator'].value_counts(ascending=False)\n",
    "archive_df_drop['rating_denominator'].describe()\n",
    "archive_df_drop['rating_denominator'].mean()\n",
    "denomin_drop = archive_df_drop[archive_df_drop['rating_denominator']!=10]\n",
    "archive_df_drop=archive_df_drop.drop(denomin_drop.index)\n",
    "archive_df_drop['name'].value_counts()\n",
    "archive_df_drop['name'].describe()\n",
    "archive_df_drop.iloc[:, -8: ] = archive_df_drop.iloc[:, -8: ].replace(['None','a'],'null')\n",
    "archive_df_drop['timestamp'] = pd.to_datetime(archive_df_drop['timestamp'])"
   ]
  },
  {
   "cell_type": "code",
   "execution_count": 18,
   "metadata": {},
   "outputs": [
    {
     "data": {
      "text/plain": [
       "False"
      ]
     },
     "execution_count": 18,
     "metadata": {},
     "output_type": "execute_result"
    }
   ],
   "source": [
    "image_predictions_df = image_predictions_df[(image_predictions_df['p1_dog'] ==True) & (image_predictions_df['p2_dog'] ==True)\n",
    "                                            & (image_predictions_df['p3_dog'] ==True)]\n",
    "image_predictions_df=image_predictions_df.rename(columns={\"tweet_id\":\"tweet_id\",\"jpg_url\":\"jpg_url\",\"img_num\":\"img_num\",\n",
    "                                                          \"p1\":\"1st_prediction\",\"p1_conf\":\"1st_prediction_conf\",\n",
    "                                                          \"p1_dog\":\"1st_prediction_dog\",\"p2\":\"2nd_prediction\",\n",
    "                                                          \"p2_conf\":\"2nd_prediction_conf\",\"p2_dog\":\"2nd_prediction_dog\",\n",
    "                                                          \"p3\":\"3rd_prediction\",\"p3_conf\":\"3rd_prediction_conf\",\n",
    "                                                          \"p3_dog\":\"3rd_prediction_dog\"}) \n",
    "image_predictions_df[\"1st_prediction\"].value_counts()\n",
    "image_predictions_df[\"2nd_prediction\"].value_counts()\n",
    "image_predictions_df[\"3rd_prediction\"].value_counts()\n",
    "tweets_with_image = list(image_predictions_df.tweet_id.unique())\n",
    "len(tweets_with_image) == archive_df_drop.tweet_id.isin(tweets_with_image).sum()\n",
    "archive_df_drop = archive_df_drop[archive_df_drop.tweet_id.isin(tweets_with_image)]\n",
    "len(tweets_with_image) == archive_df_drop.tweet_id.isin(tweets_with_image).sum()"
   ]
  },
  {
   "cell_type": "code",
   "execution_count": 19,
   "metadata": {
    "scrolled": true
   },
   "outputs": [],
   "source": [
    "api_df=api_df.rename(columns={\"id\": \"tweet_id\", \"retweet_count\": \"retweet_count\",\"favourite_count\":\"favourite_count\"})\n",
    "tweet_data = pd.merge((archive_df_drop[['tweet_id','timestamp','source','text','expanded_urls']]),\n",
    "                      api_df, on='tweet_id', how='inner')\n",
    "dogs_data=pd.merge(archive_df_drop[['tweet_id','timestamp','rating_numerator','rating_denominator','name','dogs_classification']],\n",
    "                    image_predictions_df,on='tweet_id',how='inner')"
   ]
  },
  {
   "cell_type": "code",
   "execution_count": 20,
   "metadata": {},
   "outputs": [
    {
     "data": {
      "text/plain": [
       "pupper     119\n",
       "doggo       39\n",
       "puppo       18\n",
       "floofer      6\n",
       "Name: dogs_classification, dtype: int64"
      ]
     },
     "execution_count": 20,
     "metadata": {},
     "output_type": "execute_result"
    }
   ],
   "source": [
    "dog_class=archive_df_drop[(archive_df_drop['doggo']=='doggo')+(archive_df_drop['pupper']=='pupper')+(archive_df_drop['puppo']=='puppo')+(archive_df_drop['floofer']=='floofer')]\n",
    "dog_class['dogs_classification'].value_counts()\n"
   ]
  },
  {
   "cell_type": "code",
   "execution_count": 21,
   "metadata": {},
   "outputs": [
    {
     "data": {
      "text/plain": [
       "<matplotlib.axes._subplots.AxesSubplot at 0x184d8d61288>"
      ]
     },
     "execution_count": 21,
     "metadata": {},
     "output_type": "execute_result"
    },
    {
     "data": {
      "image/png": "[encoded data removed]",
      "text/plain": [
       "<Figure size 432x288 with 1 Axes>"
      ]
     },
     "metadata": {
      "needs_background": "light"
     },
     "output_type": "display_data"
    }
   ],
   "source": [
    "dog_class['dogs_classification'].hist()"
   ]
  },
  {
   "cell_type": "code",
   "execution_count": 22,
   "metadata": {},
   "outputs": [
    {
     "data": {
      "text/plain": [
       "count     1174.000000\n",
       "mean      2758.096252\n",
       "std       4535.201131\n",
       "min         16.000000\n",
       "25%        648.500000\n",
       "50%       1418.000000\n",
       "75%       3226.250000\n",
       "max      56625.000000\n",
       "Name: retweet_count, dtype: float64"
      ]
     },
     "execution_count": 22,
     "metadata": {},
     "output_type": "execute_result"
    }
   ],
   "source": [
    "tweet_data[\"retweet_count\"].describe()"
   ]
  },
  {
   "cell_type": "code",
   "execution_count": 23,
   "metadata": {},
   "outputs": [
    {
     "data": {
      "text/plain": [
       "count      1174.000000\n",
       "mean       9332.022147\n",
       "std       12623.379263\n",
       "min          81.000000\n",
       "25%        2219.250000\n",
       "50%        4540.000000\n",
       "75%       11734.750000\n",
       "max      132810.000000\n",
       "Name: favorite_count, dtype: float64"
      ]
     },
     "execution_count": 23,
     "metadata": {},
     "output_type": "execute_result"
    }
   ],
   "source": [
    "tweet_data[\"favorite_count\"].describe()"
   ]
  },
  {
   "cell_type": "code",
   "execution_count": 24,
   "metadata": {},
   "outputs": [],
   "source": [
    "rating_analyze=dogs_data.groupby(['dogs_classification']).describe()[['rating_numerator','rating_denominator']]"
   ]
  },
  {
   "cell_type": "code",
   "execution_count": 25,
   "metadata": {},
   "outputs": [
    {
     "data": {
      "text/plain": [
       "rating_numerator    count    992.000000\n",
       "                    mean      12.055556\n",
       "                    std        1.978628\n",
       "                    min       10.000000\n",
       "                    25%       12.000000\n",
       "                    50%       12.500000\n",
       "                    75%       13.000000\n",
       "                    max       27.000000\n",
       "rating_denominator  count    992.000000\n",
       "                    mean      10.000000\n",
       "                    std        0.000000\n",
       "                    min       10.000000\n",
       "                    25%       10.000000\n",
       "                    50%       10.000000\n",
       "                    75%       10.000000\n",
       "                    max       10.000000\n",
       "dtype: float64"
      ]
     },
     "execution_count": 25,
     "metadata": {},
     "output_type": "execute_result"
    }
   ],
   "source": [
    "rating_analyze.max()"
   ]
  },
  {
   "cell_type": "code",
   "execution_count": 26,
   "metadata": {},
   "outputs": [],
   "source": [
    "prediction_confidence=dogs_data.groupby(['dogs_classification']).describe()[['1st_prediction_conf','2nd_prediction_conf','3rd_prediction_conf']]"
   ]
  },
  {
   "cell_type": "code",
   "execution_count": 27,
   "metadata": {},
   "outputs": [
    {
     "data": {
      "text/plain": [
       "1st_prediction_conf  count    992.000000\n",
       "                     mean       0.702760\n",
       "                     std        0.307513\n",
       "                     min        0.359860\n",
       "                     25%        0.544080\n",
       "                     50%        0.755945\n",
       "                     75%        0.957464\n",
       "                     max        0.999876\n",
       "2nd_prediction_conf  count    992.000000\n",
       "                     mean       0.190693\n",
       "                     std        0.160702\n",
       "                     min        0.008758\n",
       "                     25%        0.114839\n",
       "                     50%        0.168747\n",
       "                     75%        0.297003\n",
       "                     max        0.467678\n",
       "3rd_prediction_conf  count    992.000000\n",
       "                     mean       0.071525\n",
       "                     std        0.058315\n",
       "                     min        0.002140\n",
       "                     25%        0.033726\n",
       "                     50%        0.071732\n",
       "                     75%        0.097503\n",
       "                     max        0.271042\n",
       "dtype: float64"
      ]
     },
     "execution_count": 27,
     "metadata": {},
     "output_type": "execute_result"
    }
   ],
   "source": [
    "prediction_confidence.max()"
   ]
  },
  {
   "cell_type": "code",
   "execution_count": 28,
   "metadata": {},
   "outputs": [
    {
     "data": {
      "text/plain": [
       "<matplotlib.axes._subplots.AxesSubplot at 0x184d95381c8>"
      ]
     },
     "execution_count": 28,
     "metadata": {},
     "output_type": "execute_result"
    },
    {
     "data": {
      "image/png": "[encoded data removed]",
      "text/plain": [
       "<Figure size 432x288 with 1 Axes>"
      ]
     },
     "metadata": {
      "needs_background": "light"
     },
     "output_type": "display_data"
    }
   ],
   "source": [
    "dogs_data['1st_prediction'].value_counts().head(20).plot.bar()"
   ]
  },
  {
   "cell_type": "code",
   "execution_count": 29,
   "metadata": {
    "scrolled": true
   },
   "outputs": [
    {
     "data": {
      "text/plain": [
       "<matplotlib.axes._subplots.AxesSubplot at 0x184d95fed48>"
      ]
     },
     "execution_count": 29,
     "metadata": {},
     "output_type": "execute_result"
    },
    {
     "data": {
      "image/png": "[encoded data removed]",
      "text/plain": [
       "<Figure size 432x288 with 1 Axes>"
      ]
     },
     "metadata": {
      "needs_background": "light"
     },
     "output_type": "display_data"
    }
   ],
   "source": [
    "tweet_data.plot(x=\"favorite_count\",y=\"retweet_count\",kind='scatter')"
   ]
  },
  {
   "cell_type": "code",
   "execution_count": 30,
   "metadata": {},
   "outputs": [
    {
     "data": {
      "text/plain": [
       "<matplotlib.axes._subplots.AxesSubplot at 0x184d96859c8>"
      ]
     },
     "execution_count": 30,
     "metadata": {},
     "output_type": "execute_result"
    },
    {
     "data": {
      "image/png": "[encoded data removed]",
      "text/plain": [
       "<Figure size 432x288 with 1 Axes>"
      ]
     },
     "metadata": {
      "needs_background": "light"
     },
     "output_type": "display_data"
    }
   ],
   "source": [
    "timing=tweet_data['timestamp'].dt.hour\n",
    "timing.hist(bins=30)"
   ]
  },
  {
   "cell_type": "code",
   "execution_count": 31,
   "metadata": {},
   "outputs": [],
   "source": [
    "tweet_data.to_csv('tweet_data.csv',index=False)\n",
    "dogs_data.to_csv('dogs_data.csv',index=False)\n",
    "merge=pd.merge(tweet_data,dogs_data,on='tweet_id',how='inner')\n",
    "merge.to_csv('twitter_archive_master.csv',index=False)"
   ]
  }
 ],
 "metadata": {
  "kernelspec": {
   "display_name": "Python 3",
   "language": "python",
   "name": "python3"
  },
  "language_info": {
   "codemirror_mode": {
    "name": "ipython",
    "version": 3
   },
   "file_extension": ".py",
   "mimetype": "text/x-python",
   "name": "python",
   "nbconvert_exporter": "python",
   "pygments_lexer": "ipython3",
   "version": "3.7.6"
  }
 },
 "nbformat": 4,
 "nbformat_minor": 4
}
