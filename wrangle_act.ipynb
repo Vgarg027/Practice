{
 "cells": [
  {
   "cell_type": "markdown",
   "metadata": {},
   "source": [
    "# 1 Gathering"
   ]
  },
  {
   "cell_type": "code",
   "execution_count": 1,
   "metadata": {},
   "outputs": [],
   "source": [
    "import pandas as pd\n",
    "import requests"
   ]
  },
  {
   "cell_type": "code",
   "execution_count": 2,
   "metadata": {},
   "outputs": [
    {
     "name": "stdout",
     "output_type": "stream",
     "text": [
      "<class 'pandas.core.frame.DataFrame'>\n",
      "RangeIndex: 2356 entries, 0 to 2355\n",
      "Data columns (total 17 columns):\n",
      "tweet_id                      2356 non-null int64\n",
      "in_reply_to_status_id         78 non-null float64\n",
      "in_reply_to_user_id           78 non-null float64\n",
      "timestamp                     2356 non-null object\n",
      "source                        2356 non-null object\n",
      "text                          2356 non-null object\n",
      "retweeted_status_id           181 non-null float64\n",
      "retweeted_status_user_id      181 non-null float64\n",
      "retweeted_status_timestamp    181 non-null object\n",
      "expanded_urls                 2297 non-null object\n",
      "rating_numerator              2356 non-null int64\n",
      "rating_denominator            2356 non-null int64\n",
      "name                          2356 non-null object\n",
      "doggo                         2356 non-null object\n",
      "floofer                       2356 non-null object\n",
      "pupper                        2356 non-null object\n",
      "puppo                         2356 non-null object\n",
      "dtypes: float64(4), int64(3), object(10)\n",
      "memory usage: 313.0+ KB\n"
     ]
    }
   ],
   "source": [
    "twitter_archive = pd.read_csv('twitter-archive-enhanced.csv')\n",
    "twitter_archive.info(3)"
   ]
  },
  {
   "cell_type": "code",
   "execution_count": 3,
   "metadata": {},
   "outputs": [
    {
     "name": "stdout",
     "output_type": "stream",
     "text": [
      "<class 'pandas.core.frame.DataFrame'>\n",
      "RangeIndex: 2075 entries, 0 to 2074\n",
      "Data columns (total 12 columns):\n",
      "tweet_id    2075 non-null int64\n",
      "jpg_url     2075 non-null object\n",
      "img_num     2075 non-null int64\n",
      "p1          2075 non-null object\n",
      "p1_conf     2075 non-null float64\n",
      "p1_dog      2075 non-null bool\n",
      "p2          2075 non-null object\n",
      "p2_conf     2075 non-null float64\n",
      "p2_dog      2075 non-null bool\n",
      "p3          2075 non-null object\n",
      "p3_conf     2075 non-null float64\n",
      "p3_dog      2075 non-null bool\n",
      "dtypes: bool(3), float64(3), int64(2), object(4)\n",
      "memory usage: 152.1+ KB\n"
     ]
    }
   ],
   "source": [
    "url = 'https://d17h27t6h515a5.cloudfront.net/topher/2017/August/599fd2ad_image-predictions/image-predictions.tsv'\n",
    "r = requests.get(url, auth=('user', 'pass'))\n",
    "filename = url.split('/')[-1]\n",
    "with open(filename, mode='wb') as file:\n",
    "        file.write(r.content)\n",
    "predictions = pd.read_csv(filename, sep='\\t')\n",
    "predictions.info()"
   ]
  },
  {
   "cell_type": "code",
   "execution_count": 4,
   "metadata": {},
   "outputs": [],
   "source": [
    "import tweepy\n",
    "import json\n",
    "import os\n",
    "\n",
    "consumer_key = 'xxx'\n",
    "consumer_secret = 'xxx'\n",
    "\n",
    "#auth = tweepy.OAuthHandler(consumer_key, consumer_secret)\n",
    "\n",
    "#api = tweepy.API(auth)\n",
    "\n",
    "filename = 'tweet_json.txt'"
   ]
  },
  {
   "cell_type": "code",
   "execution_count": 5,
   "metadata": {},
   "outputs": [],
   "source": [
    "#os.remove(filename)\n",
    "#fails_list = []\n",
    "#with open(filename, 'w') as file:\n",
    "#    for i,tweet_id in enumerate(twitter_archive.tweet_id):\n",
    "#        print(str(i) + \": \" + str(tweet_id))\n",
    "#        try:\n",
    "#            tweet = api.get_status(tweet_id, tweet_mode='extended')\n",
    "#            print('Yess!')\n",
    "#            json.dump(tweet._json, file)\n",
    "#            file.write('\\n')\n",
    "#        except:\n",
    "#            print('Fail')\n",
    "#            fails_list.append(tweet_id)\n",
    "#print(fails_list)"
   ]
  },
  {
   "cell_type": "code",
   "execution_count": 6,
   "metadata": {},
   "outputs": [],
   "source": [
    "#json to dataframe with tweet ID, retweet count, and favorite count\n",
    "cols = ['id','retweet_count','favorite_count','retweeted']\n",
    "tweets_api = pd.DataFrame(columns = cols)\n",
    "with open(filename) as file:\n",
    "    Lines = file.readlines()\n",
    "    for line in Lines:\n",
    "        data = json.loads(line)\n",
    "        tweets_api = tweets_api.append({s: data[s] for s in cols}, ignore_index=True)"
   ]
  },
  {
   "cell_type": "code",
   "execution_count": 7,
   "metadata": {},
   "outputs": [
    {
     "name": "stdout",
     "output_type": "stream",
     "text": [
      "<class 'pandas.core.frame.DataFrame'>\n",
      "RangeIndex: 877 entries, 0 to 876\n",
      "Data columns (total 4 columns):\n",
      "id                877 non-null object\n",
      "retweet_count     877 non-null object\n",
      "favorite_count    877 non-null object\n",
      "retweeted         877 non-null object\n",
      "dtypes: object(4)\n",
      "memory usage: 27.5+ KB\n"
     ]
    }
   ],
   "source": [
    "tweets_api.info()"
   ]
  },
  {
   "cell_type": "code",
   "execution_count": 8,
   "metadata": {},
   "outputs": [
    {
     "data": {
      "text/html": [
       "<div>\n",
       "<style scoped>\n",
       "    .dataframe tbody tr th:only-of-type {\n",
       "        vertical-align: middle;\n",
       "    }\n",
       "\n",
       "    .dataframe tbody tr th {\n",
       "        vertical-align: top;\n",
       "    }\n",
       "\n",
       "    .dataframe thead th {\n",
       "        text-align: right;\n",
       "    }\n",
       "</style>\n",
       "<table border=\"1\" class=\"dataframe\">\n",
       "  <thead>\n",
       "    <tr style=\"text-align: right;\">\n",
       "      <th></th>\n",
       "      <th>id</th>\n",
       "      <th>retweet_count</th>\n",
       "      <th>favorite_count</th>\n",
       "      <th>retweeted</th>\n",
       "    </tr>\n",
       "  </thead>\n",
       "  <tbody>\n",
       "    <tr>\n",
       "      <th>0</th>\n",
       "      <td>892420643555336193</td>\n",
       "      <td>7426</td>\n",
       "      <td>35170</td>\n",
       "      <td>False</td>\n",
       "    </tr>\n",
       "    <tr>\n",
       "      <th>1</th>\n",
       "      <td>892177421306343426</td>\n",
       "      <td>5519</td>\n",
       "      <td>30446</td>\n",
       "      <td>False</td>\n",
       "    </tr>\n",
       "    <tr>\n",
       "      <th>2</th>\n",
       "      <td>891815181378084864</td>\n",
       "      <td>3645</td>\n",
       "      <td>22896</td>\n",
       "      <td>False</td>\n",
       "    </tr>\n",
       "    <tr>\n",
       "      <th>3</th>\n",
       "      <td>891689557279858688</td>\n",
       "      <td>7597</td>\n",
       "      <td>38465</td>\n",
       "      <td>False</td>\n",
       "    </tr>\n",
       "    <tr>\n",
       "      <th>4</th>\n",
       "      <td>891327558926688256</td>\n",
       "      <td>8179</td>\n",
       "      <td>36733</td>\n",
       "      <td>False</td>\n",
       "    </tr>\n",
       "  </tbody>\n",
       "</table>\n",
       "</div>"
      ],
      "text/plain": [
       "                   id retweet_count favorite_count retweeted\n",
       "0  892420643555336193          7426          35170     False\n",
       "1  892177421306343426          5519          30446     False\n",
       "2  891815181378084864          3645          22896     False\n",
       "3  891689557279858688          7597          38465     False\n",
       "4  891327558926688256          8179          36733     False"
      ]
     },
     "execution_count": 8,
     "metadata": {},
     "output_type": "execute_result"
    }
   ],
   "source": [
    "tweets_api.head()"
   ]
  },
  {
   "cell_type": "markdown",
   "metadata": {},
   "source": [
    "# 2 Assess"
   ]
  },
  {
   "cell_type": "markdown",
   "metadata": {},
   "source": [
    "## 2.1 Tidiness"
   ]
  },
  {
   "cell_type": "markdown",
   "metadata": {},
   "source": [
    "### 2.1.1 dog \"stage\" should be a single column"
   ]
  },
  {
   "cell_type": "code",
   "execution_count": 9,
   "metadata": {},
   "outputs": [
    {
     "name": "stdout",
     "output_type": "stream",
     "text": [
      "<class 'pandas.core.frame.DataFrame'>\n",
      "RangeIndex: 2356 entries, 0 to 2355\n",
      "Data columns (total 17 columns):\n",
      "tweet_id                      2356 non-null int64\n",
      "in_reply_to_status_id         78 non-null float64\n",
      "in_reply_to_user_id           78 non-null float64\n",
      "timestamp                     2356 non-null object\n",
      "source                        2356 non-null object\n",
      "text                          2356 non-null object\n",
      "retweeted_status_id           181 non-null float64\n",
      "retweeted_status_user_id      181 non-null float64\n",
      "retweeted_status_timestamp    181 non-null object\n",
      "expanded_urls                 2297 non-null object\n",
      "rating_numerator              2356 non-null int64\n",
      "rating_denominator            2356 non-null int64\n",
      "name                          2356 non-null object\n",
      "doggo                         2356 non-null object\n",
      "floofer                       2356 non-null object\n",
      "pupper                        2356 non-null object\n",
      "puppo                         2356 non-null object\n",
      "dtypes: float64(4), int64(3), object(10)\n",
      "memory usage: 313.0+ KB\n"
     ]
    }
   ],
   "source": [
    "twitter_archive.info()"
   ]
  },
  {
   "cell_type": "markdown",
   "metadata": {},
   "source": [
    "### 2.1.2 Number of datasets"
   ]
  },
  {
   "cell_type": "markdown",
   "metadata": {},
   "source": [
    "All three frames are orderes by tweet id, therefore it makes sense to combine them into a single dataframe"
   ]
  },
  {
   "cell_type": "markdown",
   "metadata": {},
   "source": [
    "## 2.2 Quality"
   ]
  },
  {
   "cell_type": "markdown",
   "metadata": {},
   "source": [
    "### 2.2.1  Ambiguous dog stage"
   ]
  },
  {
   "cell_type": "code",
   "execution_count": 10,
   "metadata": {},
   "outputs": [
    {
     "data": {
      "text/plain": [
       "0    1976\n",
       "1     366\n",
       "2      14\n",
       "dtype: int64"
      ]
     },
     "execution_count": 10,
     "metadata": {},
     "output_type": "execute_result"
    }
   ],
   "source": [
    "# check how often more than one column is not 'NONE'\n",
    "not_none = twitter_archive[['doggo','floofer','pupper','puppo']] != 'None'\n",
    "not_none = not_none.astype(int)\n",
    "(not_none.doggo + not_none.floofer + not_none.pupper + not_none.puppo).value_counts()"
   ]
  },
  {
   "cell_type": "markdown",
   "metadata": {},
   "source": [
    "So in 14 cases two \"stages\" are set, we could define an order and select the higher \"stage\" in those cases"
   ]
  },
  {
   "cell_type": "code",
   "execution_count": 11,
   "metadata": {},
   "outputs": [
    {
     "data": {
      "text/plain": [
       "dtype('float64')"
      ]
     },
     "execution_count": 11,
     "metadata": {},
     "output_type": "execute_result"
    }
   ],
   "source": [
    "twitter_archive.retweeted_status_id.dtypes"
   ]
  },
  {
   "cell_type": "markdown",
   "metadata": {},
   "source": [
    "### 2.2.2 Only dog ratings\n",
    "We only want dogs, if none of the classifier predictions is dog we drop the tweet"
   ]
  },
  {
   "cell_type": "code",
   "execution_count": 12,
   "metadata": {},
   "outputs": [
    {
     "data": {
      "text/plain": [
       "324"
      ]
     },
     "execution_count": 12,
     "metadata": {},
     "output_type": "execute_result"
    }
   ],
   "source": [
    "predictions[(predictions.p1_dog == False) & (predictions.p2_dog == False) & (predictions.p3_dog == False)].shape[0]"
   ]
  },
  {
   "cell_type": "markdown",
   "metadata": {},
   "source": [
    "### 2.2.3 Expanded URL not from twitter"
   ]
  },
  {
   "cell_type": "code",
   "execution_count": 13,
   "metadata": {},
   "outputs": [
    {
     "data": {
      "text/plain": [
       "6       https://gofundme.com/ydvmve-surgery-for-jax,ht...\n",
       "27      https://www.gofundme.com/mingusneedsus,https:/...\n",
       "73      https://www.gofundme.com/3yd6y1c,https://twitt...\n",
       "75      https://www.gofundme.com/3yd6y1c,https://twitt...\n",
       "97      https://www.gofundme.com/help-my-baby-sierra-g...\n",
       "98      https://www.gofundme.com/help-my-baby-sierra-g...\n",
       "114     https://www.gofundme.com/help-fix-codys-torn-a...\n",
       "124     https://www.gofundme.com/3ti3nps,https://twitt...\n",
       "126     https://www.gofundme.com/3ti3nps,https://twitt...\n",
       "146     https://www.gofundme.com/helpquinny,https://tw...\n",
       "150     https://www.gofundme.com/helpquinny,https://tw...\n",
       "159     https://www.gofundme.com/help-lorenzo-beat-can...\n",
       "161     https://www.gofundme.com/help-lorenzo-beat-can...\n",
       "177     https://www.gofundme.com/meeko-needs-heart-sur...\n",
       "204     http://www.gofundme.com/bluethewhitehusky,http...\n",
       "205     https://www.gofundme.com/bennys-medical-bills,...\n",
       "233     https://www.gofundme.com/help-save-rontu,https...\n",
       "237     https://www.petfinder.com/petdetail/37334596,h...\n",
       "248     https://www.gofundme.com/help-save-a-pup,https...\n",
       "262     https://www.gofundme.com/get-indie-home/,https...\n",
       "272     https://www.gofundme.com/3hgsuu0,https://twitt...\n",
       "276     https://www.gofundme.com/3hgsuu0,https://twitt...\n",
       "309     https://www.gofundme.com/lolas-life-saving-sur...\n",
       "310     https://vine.co/v/5W2Dg3XPX7a,https://vine.co/...\n",
       "312     https://www.gofundme.com/lolas-life-saving-sur...\n",
       "335     http://us.blastingnews.com/news/2017/02/jfk-an...\n",
       "344     https://www.petfinder.com/petdetail/34918210,h...\n",
       "349     http://www.gofundme.com/bluethewhitehusky,http...\n",
       "358     https://www.gofundme.com/sick-baby-samson,http...\n",
       "391     http://us.blastingnews.com/news/2017/01/kentuc...\n",
       "                              ...                        \n",
       "1482                        https://vine.co/v/i5n2irFUYWv\n",
       "1502                        https://vine.co/v/iiI3wmqXYmA\n",
       "1505                        https://vine.co/v/OTTVAKw6YlW\n",
       "1515                        https://vine.co/v/iOZKZEU2nHq\n",
       "1528                        https://vine.co/v/iejBWerY9X2\n",
       "1534                        https://vine.co/v/ienexVMZgi5\n",
       "1549                        https://vine.co/v/iOL792n5hz2\n",
       "1566                        https://vine.co/v/iOWwUPH1hrw\n",
       "1570                        https://vine.co/v/iOuMphL5DBY\n",
       "1577                        https://vine.co/v/iM2hLu9LU5i\n",
       "1586                        https://vine.co/v/iMvubwT260D\n",
       "1592                        https://vine.co/v/iMqBebnOvav\n",
       "1596                        https://vine.co/v/iMZx6aDbExn\n",
       "1625                        https://vine.co/v/eEZXZI1rqxX\n",
       "1628                        https://vine.co/v/ihWIxntjtO7\n",
       "1640                        https://vine.co/v/ib2nTOEuuOI\n",
       "1650                        https://vine.co/v/ibvnzrauFuV\n",
       "1676                        https://vine.co/v/iqMjlxULzbn\n",
       "1706                        https://vine.co/v/iAP0Ugzi2PO\n",
       "1728                        https://vine.co/v/iAAxTbj1UAM\n",
       "1743                        https://vine.co/v/iKVFEigMLxP\n",
       "1750                        https://vine.co/v/iKIwAzEatd6\n",
       "1760                        https://vine.co/v/eQjxxYaQ60K\n",
       "1776                        https://vine.co/v/iKuMDuYV0aZ\n",
       "1791                        https://vine.co/v/hbLbH77Ar67\n",
       "1807                        https://vine.co/v/imJ0BdZOJTw\n",
       "1818                        https://vine.co/v/eEQQaPFbgOY\n",
       "1834                        https://vine.co/v/iZXg7VpeDAv\n",
       "1916                        https://vine.co/v/i7nWzrenw5h\n",
       "2212                        https://vine.co/v/ea0OwvPTx9l\n",
       "Name: expanded_urls, Length: 148, dtype: object"
      ]
     },
     "execution_count": 13,
     "metadata": {},
     "output_type": "execute_result"
    }
   ],
   "source": [
    "matches = twitter_archive.expanded_urls.str.match('https://twitter.com/').values.astype(bool)\n",
    "twitter_archive.expanded_urls[matches != True]"
   ]
  },
  {
   "cell_type": "markdown",
   "metadata": {},
   "source": [
    "### 2.2.4 Name extraction shows errors\n",
    "The names are often 'None', other unexpected names: 'the', 'a', 'an', 'very', 'just'"
   ]
  },
  {
   "cell_type": "code",
   "execution_count": 14,
   "metadata": {},
   "outputs": [
    {
     "data": {
      "text/plain": [
       "None         745\n",
       "a             55\n",
       "Charlie       12\n",
       "Lucy          11\n",
       "Cooper        11\n",
       "Oliver        11\n",
       "Penny         10\n",
       "Tucker        10\n",
       "Lola          10\n",
       "Bo             9\n",
       "Winston        9\n",
       "Sadie          8\n",
       "the            8\n",
       "Toby           7\n",
       "Daisy          7\n",
       "an             7\n",
       "Bailey         7\n",
       "Buddy          7\n",
       "Dave           6\n",
       "Stanley        6\n",
       "Milo           6\n",
       "Koda           6\n",
       "Leo            6\n",
       "Jax            6\n",
       "Rusty          6\n",
       "Jack           6\n",
       "Bella          6\n",
       "Oscar          6\n",
       "Scout          6\n",
       "Louis          5\n",
       "            ... \n",
       "Todo           1\n",
       "Shnuggles      1\n",
       "Jim            1\n",
       "Dotsy          1\n",
       "Ralphy         1\n",
       "Akumi          1\n",
       "Comet          1\n",
       "Socks          1\n",
       "Sonny          1\n",
       "Josep          1\n",
       "Tom            1\n",
       "Danny          1\n",
       "Jimbo          1\n",
       "Glenn          1\n",
       "Godzilla       1\n",
       "Tedders        1\n",
       "Jeb            1\n",
       "Pete           1\n",
       "Yoda           1\n",
       "such           1\n",
       "BeBe           1\n",
       "Bobb           1\n",
       "Aldrick        1\n",
       "Bubba          1\n",
       "Hero           1\n",
       "Bloo           1\n",
       "Anthony        1\n",
       "Huxley         1\n",
       "Monty          1\n",
       "Ralpher        1\n",
       "Name: name, Length: 957, dtype: int64"
      ]
     },
     "execution_count": 14,
     "metadata": {},
     "output_type": "execute_result"
    }
   ],
   "source": [
    "twitter_archive.name.value_counts()"
   ]
  },
  {
   "cell_type": "markdown",
   "metadata": {},
   "source": [
    "### 2.2.5 Properties from json are all strings"
   ]
  },
  {
   "cell_type": "code",
   "execution_count": 15,
   "metadata": {},
   "outputs": [
    {
     "name": "stdout",
     "output_type": "stream",
     "text": [
      "<class 'pandas.core.frame.DataFrame'>\n",
      "RangeIndex: 877 entries, 0 to 876\n",
      "Data columns (total 4 columns):\n",
      "id                877 non-null object\n",
      "retweet_count     877 non-null object\n",
      "favorite_count    877 non-null object\n",
      "retweeted         877 non-null object\n",
      "dtypes: object(4)\n",
      "memory usage: 27.5+ KB\n"
     ]
    }
   ],
   "source": [
    "tweets_api.info()"
   ]
  },
  {
   "cell_type": "markdown",
   "metadata": {},
   "source": [
    "count columns should be int, retweeted bool"
   ]
  },
  {
   "cell_type": "markdown",
   "metadata": {},
   "source": [
    "### 2.2.6 Consistent prediction label format\n",
    "Not all classifications start with a captial letter"
   ]
  },
  {
   "cell_type": "code",
   "execution_count": 16,
   "metadata": {},
   "outputs": [
    {
     "data": {
      "text/plain": [
       "golden_retriever             150\n",
       "Labrador_retriever           100\n",
       "Pembroke                      89\n",
       "Chihuahua                     83\n",
       "pug                           57\n",
       "chow                          44\n",
       "Samoyed                       43\n",
       "toy_poodle                    39\n",
       "Pomeranian                    38\n",
       "cocker_spaniel                30\n",
       "malamute                      30\n",
       "French_bulldog                26\n",
       "miniature_pinscher            23\n",
       "Chesapeake_Bay_retriever      23\n",
       "seat_belt                     22\n",
       "German_shepherd               20\n",
       "Staffordshire_bullterrier     20\n",
       "Siberian_husky                20\n",
       "web_site                      19\n",
       "Cardigan                      19\n",
       "teddy                         18\n",
       "Eskimo_dog                    18\n",
       "beagle                        18\n",
       "Shetland_sheepdog             18\n",
       "Maltese_dog                   18\n",
       "Lakeland_terrier              17\n",
       "Rottweiler                    17\n",
       "Shih-Tzu                      17\n",
       "kuvasz                        16\n",
       "Italian_greyhound             16\n",
       "                            ... \n",
       "orange                         1\n",
       "fire_engine                    1\n",
       "shield                         1\n",
       "rapeseed                       1\n",
       "espresso                       1\n",
       "scorpion                       1\n",
       "groenendael                    1\n",
       "EntleBucher                    1\n",
       "peacock                        1\n",
       "hay                            1\n",
       "hand_blower                    1\n",
       "boathouse                      1\n",
       "snowmobile                     1\n",
       "tick                           1\n",
       "guenon                         1\n",
       "three-toed_sloth               1\n",
       "bearskin                       1\n",
       "robin                          1\n",
       "king_penguin                   1\n",
       "bakery                         1\n",
       "lorikeet                       1\n",
       "revolver                       1\n",
       "tricycle                       1\n",
       "bighorn                        1\n",
       "dining_table                   1\n",
       "African_crocodile              1\n",
       "canoe                          1\n",
       "standard_schnauzer             1\n",
       "black-footed_ferret            1\n",
       "starfish                       1\n",
       "Name: p1, Length: 378, dtype: int64"
      ]
     },
     "execution_count": 16,
     "metadata": {},
     "output_type": "execute_result"
    }
   ],
   "source": [
    "predictions.p1.value_counts()"
   ]
  },
  {
   "cell_type": "markdown",
   "metadata": {},
   "source": [
    "### 2.2.7 Same Denominator\n",
    "Almost all ratings have a denominator of 10, therefore it makes sense to filter the few remaining tweets to have the same basis for all remaining tweets"
   ]
  },
  {
   "cell_type": "code",
   "execution_count": 17,
   "metadata": {},
   "outputs": [
    {
     "data": {
      "text/plain": [
       "10     2333\n",
       "11        3\n",
       "50        3\n",
       "80        2\n",
       "20        2\n",
       "2         1\n",
       "16        1\n",
       "40        1\n",
       "70        1\n",
       "15        1\n",
       "90        1\n",
       "110       1\n",
       "120       1\n",
       "130       1\n",
       "150       1\n",
       "170       1\n",
       "7         1\n",
       "0         1\n",
       "Name: rating_denominator, dtype: int64"
      ]
     },
     "execution_count": 17,
     "metadata": {},
     "output_type": "execute_result"
    }
   ],
   "source": [
    "twitter_archive.rating_denominator.value_counts()"
   ]
  },
  {
   "cell_type": "markdown",
   "metadata": {},
   "source": [
    "### 2.2.8 Source values should be cleaned"
   ]
  },
  {
   "cell_type": "code",
   "execution_count": 18,
   "metadata": {},
   "outputs": [
    {
     "data": {
      "text/plain": [
       "<a href=\"http://twitter.com/download/iphone\" rel=\"nofollow\">Twitter for iPhone</a>     2221\n",
       "<a href=\"http://vine.co\" rel=\"nofollow\">Vine - Make a Scene</a>                          91\n",
       "<a href=\"http://twitter.com\" rel=\"nofollow\">Twitter Web Client</a>                       33\n",
       "<a href=\"https://about.twitter.com/products/tweetdeck\" rel=\"nofollow\">TweetDeck</a>      11\n",
       "Name: source, dtype: int64"
      ]
     },
     "execution_count": 18,
     "metadata": {},
     "output_type": "execute_result"
    }
   ],
   "source": [
    "twitter_archive.source.value_counts()"
   ]
  },
  {
   "cell_type": "markdown",
   "metadata": {},
   "source": [
    "Can be simplified to 'iphone', 'vine', 'web client', 'tweetdeck' for readability"
   ]
  },
  {
   "cell_type": "markdown",
   "metadata": {},
   "source": [
    "Only 2075 images are available"
   ]
  },
  {
   "cell_type": "markdown",
   "metadata": {},
   "source": [
    "# 3 Cleaning"
   ]
  },
  {
   "cell_type": "code",
   "execution_count": 19,
   "metadata": {},
   "outputs": [],
   "source": [
    "# copy the archive to keep the original archice\n",
    "twitter_archive_master = twitter_archive.copy()"
   ]
  },
  {
   "cell_type": "markdown",
   "metadata": {},
   "source": [
    "### 3.1.1 and 2.1.1 dog \"stage\" should be a single unabiguous column"
   ]
  },
  {
   "cell_type": "code",
   "execution_count": 20,
   "metadata": {},
   "outputs": [],
   "source": [
    "%%capture\n",
    "not_none = twitter_archive[['doggo','floofer','pupper','puppo']] != 'None'\n",
    "not_none = not_none.astype(int)\n",
    "# store double categorized to set to None later\n",
    "reset = (not_none.doggo + not_none.floofer + not_none.pupper + not_none.puppo) > 1\n",
    "# concatenate strings and remove None's\n",
    "twitter_archive_master['stage'] = twitter_archive_master.doggo + twitter_archive_master.floofer + twitter_archive_master.pupper + twitter_archive_master.puppo\n",
    "twitter_archive_master.stage = twitter_archive_master.stage.str.replace('None','')\n",
    "# change empty stages to None again\n",
    "twitter_archive_master.stage[twitter_archive_master.stage == ''] = 'None'\n",
    "# now reset the double stages\n",
    "twitter_archive_master.stage[reset] = 'None'"
   ]
  },
  {
   "cell_type": "code",
   "execution_count": 21,
   "metadata": {},
   "outputs": [],
   "source": [
    "# drop individual columns\n",
    "twitter_archive_master.drop(['doggo','floofer','pupper','puppo'], axis=1, inplace=True)"
   ]
  },
  {
   "cell_type": "code",
   "execution_count": 22,
   "metadata": {},
   "outputs": [
    {
     "data": {
      "text/plain": [
       "None       1990\n",
       "pupper      245\n",
       "doggo        83\n",
       "puppo        29\n",
       "floofer       9\n",
       "Name: stage, dtype: int64"
      ]
     },
     "execution_count": 22,
     "metadata": {},
     "output_type": "execute_result"
    }
   ],
   "source": [
    "twitter_archive_master.stage.value_counts()"
   ]
  },
  {
   "cell_type": "code",
   "execution_count": 23,
   "metadata": {},
   "outputs": [
    {
     "name": "stdout",
     "output_type": "stream",
     "text": [
      "<class 'pandas.core.frame.DataFrame'>\n",
      "RangeIndex: 2356 entries, 0 to 2355\n",
      "Data columns (total 14 columns):\n",
      "tweet_id                      2356 non-null int64\n",
      "in_reply_to_status_id         78 non-null float64\n",
      "in_reply_to_user_id           78 non-null float64\n",
      "timestamp                     2356 non-null object\n",
      "source                        2356 non-null object\n",
      "text                          2356 non-null object\n",
      "retweeted_status_id           181 non-null float64\n",
      "retweeted_status_user_id      181 non-null float64\n",
      "retweeted_status_timestamp    181 non-null object\n",
      "expanded_urls                 2297 non-null object\n",
      "rating_numerator              2356 non-null int64\n",
      "rating_denominator            2356 non-null int64\n",
      "name                          2356 non-null object\n",
      "stage                         2356 non-null object\n",
      "dtypes: float64(4), int64(3), object(7)\n",
      "memory usage: 257.8+ KB\n"
     ]
    }
   ],
   "source": [
    "twitter_archive_master.info()"
   ]
  },
  {
   "cell_type": "markdown",
   "metadata": {},
   "source": [
    "### 3.1.2 Number of datasets"
   ]
  },
  {
   "cell_type": "code",
   "execution_count": 24,
   "metadata": {},
   "outputs": [],
   "source": [
    "# join archive with network predictions (so all ids have an image)\n",
    "twitter_archive_master = twitter_archive_master.join(predictions.set_index('tweet_id'),on='tweet_id',how='inner')"
   ]
  },
  {
   "cell_type": "code",
   "execution_count": 25,
   "metadata": {},
   "outputs": [
    {
     "name": "stdout",
     "output_type": "stream",
     "text": [
      "<class 'pandas.core.frame.DataFrame'>\n",
      "Int64Index: 2075 entries, 0 to 2355\n",
      "Data columns (total 25 columns):\n",
      "tweet_id                      2075 non-null int64\n",
      "in_reply_to_status_id         23 non-null float64\n",
      "in_reply_to_user_id           23 non-null float64\n",
      "timestamp                     2075 non-null object\n",
      "source                        2075 non-null object\n",
      "text                          2075 non-null object\n",
      "retweeted_status_id           81 non-null float64\n",
      "retweeted_status_user_id      81 non-null float64\n",
      "retweeted_status_timestamp    81 non-null object\n",
      "expanded_urls                 2075 non-null object\n",
      "rating_numerator              2075 non-null int64\n",
      "rating_denominator            2075 non-null int64\n",
      "name                          2075 non-null object\n",
      "stage                         2075 non-null object\n",
      "jpg_url                       2075 non-null object\n",
      "img_num                       2075 non-null int64\n",
      "p1                            2075 non-null object\n",
      "p1_conf                       2075 non-null float64\n",
      "p1_dog                        2075 non-null bool\n",
      "p2                            2075 non-null object\n",
      "p2_conf                       2075 non-null float64\n",
      "p2_dog                        2075 non-null bool\n",
      "p3                            2075 non-null object\n",
      "p3_conf                       2075 non-null float64\n",
      "p3_dog                        2075 non-null bool\n",
      "dtypes: bool(3), float64(7), int64(4), object(11)\n",
      "memory usage: 378.9+ KB\n"
     ]
    }
   ],
   "source": [
    "twitter_archive_master.info()"
   ]
  },
  {
   "cell_type": "code",
   "execution_count": 26,
   "metadata": {},
   "outputs": [],
   "source": [
    "# merge api information\n",
    "twitter_archive_master.columns\n",
    "twitter_archive_master = twitter_archive_master.join(tweets_api.set_index('id'),on='tweet_id',how='inner')"
   ]
  },
  {
   "cell_type": "markdown",
   "metadata": {},
   "source": [
    "### 3.2.2 Only dog ratings"
   ]
  },
  {
   "cell_type": "code",
   "execution_count": 27,
   "metadata": {},
   "outputs": [],
   "source": [
    "ind = twitter_archive_master[(twitter_archive_master.p1_dog == False) & (twitter_archive_master.p2_dog == False) & (twitter_archive_master.p3_dog == False)].index\n",
    "twitter_archive_master.drop(ind, axis = 0, inplace=True)\n",
    "assert twitter_archive_master[(twitter_archive_master.p1_dog == False) & (twitter_archive_master.p2_dog == False) & (twitter_archive_master.p3_dog == False)].shape[0] == 0"
   ]
  },
  {
   "cell_type": "code",
   "execution_count": 28,
   "metadata": {},
   "outputs": [
    {
     "data": {
      "text/plain": [
       "(dtype('float64'), dtype('float64'))"
      ]
     },
     "execution_count": 28,
     "metadata": {},
     "output_type": "execute_result"
    }
   ],
   "source": [
    "twitter_archive_master.retweeted_status_user_id.dtypes, twitter_archive_master.retweeted_status_id.dtypes"
   ]
  },
  {
   "cell_type": "markdown",
   "metadata": {},
   "source": [
    "### 3.2.3 Expanded URL not from twitter"
   ]
  },
  {
   "cell_type": "code",
   "execution_count": 29,
   "metadata": {},
   "outputs": [
    {
     "name": "stderr",
     "output_type": "stream",
     "text": [
      "/opt/conda/lib/python3.6/site-packages/ipykernel_launcher.py:2: SettingWithCopyWarning: \n",
      "A value is trying to be set on a copy of a slice from a DataFrame\n",
      "\n",
      "See the caveats in the documentation: http://pandas.pydata.org/pandas-docs/stable/indexing.html#indexing-view-versus-copy\n",
      "  \n"
     ]
    }
   ],
   "source": [
    "matches = twitter_archive_master.expanded_urls.str.match('https://twitter.com/').values.astype(bool)\n",
    "twitter_archive_master.expanded_urls[matches != True] = ''"
   ]
  },
  {
   "cell_type": "markdown",
   "metadata": {},
   "source": [
    "### 3.2.4 Name extraction shows errors\n",
    "The names are often 'None', other unexpected names: 'the', 'a', 'an', 'very', 'just'"
   ]
  },
  {
   "cell_type": "code",
   "execution_count": 30,
   "metadata": {},
   "outputs": [
    {
     "data": {
      "text/plain": [
       "0        a\n",
       "1       an\n",
       "2     just\n",
       "3     very\n",
       "4     None\n",
       "5    Lukas\n",
       "6      Bla\n",
       "dtype: object"
      ]
     },
     "execution_count": 30,
     "metadata": {},
     "output_type": "execute_result"
    }
   ],
   "source": [
    "a = pd.Series(['a','an','just','very','None','Lukas','Bla'])\n",
    "a.str.replace('(^None$|^an*$|^just$|^very$|^the$)','',regex=True)\n",
    "a"
   ]
  },
  {
   "cell_type": "code",
   "execution_count": 31,
   "metadata": {},
   "outputs": [],
   "source": [
    "twitter_archive_master.name = twitter_archive_master.name.str.replace('^None$|^[a-z].*$','',regex=True)"
   ]
  },
  {
   "cell_type": "code",
   "execution_count": 32,
   "metadata": {},
   "outputs": [
    {
     "data": {
      "text/plain": [
       "               115\n",
       "Tucker           6\n",
       "Penny            6\n",
       "Charlie          5\n",
       "Bo               5\n",
       "Stanley          4\n",
       "Daisy            4\n",
       "Winston          4\n",
       "Loki             4\n",
       "Dave             4\n",
       "Rusty            4\n",
       "Cooper           4\n",
       "Boomer           3\n",
       "Toby             3\n",
       "Jeffrey          3\n",
       "Jack             3\n",
       "Leo              3\n",
       "Koda             3\n",
       "Paisley          3\n",
       "Finn             3\n",
       "Bruce            3\n",
       "Bear             3\n",
       "Alfie            3\n",
       "Lucy             3\n",
       "Zeke             3\n",
       "Scout            3\n",
       "Oakley           3\n",
       "Clark            3\n",
       "Winnie           3\n",
       "Lola             3\n",
       "              ... \n",
       "Franklin         1\n",
       "Glenn            1\n",
       "Beebop           1\n",
       "Dawn             1\n",
       "Jax              1\n",
       "Binky            1\n",
       "Solomon          1\n",
       "Halo             1\n",
       "Sephie           1\n",
       "Wafer            1\n",
       "Ash              1\n",
       "Monkey           1\n",
       "Chevy            1\n",
       "Mack             1\n",
       "Shikha           1\n",
       "Arya             1\n",
       "Augie            1\n",
       "Kota             1\n",
       "Zooey            1\n",
       "Milky            1\n",
       "Lily             1\n",
       "Chubbs           1\n",
       "Maude            1\n",
       "Carbon           1\n",
       "Mairi            1\n",
       "Shakespeare      1\n",
       "Kyro             1\n",
       "Trooper          1\n",
       "Aspen            1\n",
       "Mary             1\n",
       "Name: name, Length: 391, dtype: int64"
      ]
     },
     "execution_count": 32,
     "metadata": {},
     "output_type": "execute_result"
    }
   ],
   "source": [
    "twitter_archive_master.name.value_counts()"
   ]
  },
  {
   "cell_type": "markdown",
   "metadata": {},
   "source": [
    "### 3.2.5 Properties from json are all strings"
   ]
  },
  {
   "cell_type": "code",
   "execution_count": 33,
   "metadata": {},
   "outputs": [],
   "source": [
    "twitter_archive_master[['retweet_count','favorite_count']] = twitter_archive_master[['retweet_count','favorite_count']].astype(int)"
   ]
  },
  {
   "cell_type": "code",
   "execution_count": 34,
   "metadata": {},
   "outputs": [],
   "source": [
    "twitter_archive_master['retweeted'] = twitter_archive_master['retweeted'].astype(bool)"
   ]
  },
  {
   "cell_type": "code",
   "execution_count": 35,
   "metadata": {},
   "outputs": [
    {
     "data": {
      "text/plain": [
       "retweet_count     int64\n",
       "favorite_count    int64\n",
       "retweeted          bool\n",
       "dtype: object"
      ]
     },
     "execution_count": 35,
     "metadata": {},
     "output_type": "execute_result"
    }
   ],
   "source": [
    "twitter_archive_master[['retweet_count','favorite_count','retweeted']].dtypes"
   ]
  },
  {
   "cell_type": "markdown",
   "metadata": {},
   "source": [
    "### 3.2.6 Consistent prediction label format\n",
    "Not all classifications start with a captial letter"
   ]
  },
  {
   "cell_type": "code",
   "execution_count": 36,
   "metadata": {},
   "outputs": [],
   "source": [
    "twitter_archive_master.p1 = twitter_archive_master.p1.str.capitalize()\n",
    "twitter_archive_master.p2 = twitter_archive_master.p2.str.capitalize()\n",
    "twitter_archive_master.p3 = twitter_archive_master.p3.str.capitalize()"
   ]
  },
  {
   "cell_type": "code",
   "execution_count": 37,
   "metadata": {},
   "outputs": [
    {
     "data": {
      "text/plain": [
       "array(['Chihuahua', 'Chihuahua', 'Paper_towel', 'Basset',\n",
       "       'Chesapeake_bay_retriever', 'Appenzeller', 'Pomeranian',\n",
       "       'Irish_terrier', 'Pembroke', 'Samoyed', 'French_bulldog',\n",
       "       'Pembroke', 'French_bulldog', 'Golden_retriever', 'Whippet',\n",
       "       'Golden_retriever', 'Golden_retriever', 'Siberian_husky',\n",
       "       'French_bulldog', 'Basset', 'Pembroke', 'Mexican_hairless',\n",
       "       'Samoyed', 'Chihuahua', 'Kuvasz', 'French_bulldog', 'Pug',\n",
       "       'Blenheim_spaniel', 'Pug', 'Labrador_retriever', 'Malamute',\n",
       "       'Italian_greyhound', 'Chow', 'Pug', 'Pembroke', 'German_shepherd',\n",
       "       'Doberman', 'Golden_retriever', 'Chow', 'Golden_retriever',\n",
       "       'Eskimo_dog', 'Labrador_retriever', 'Pembroke', 'Golden_retriever',\n",
       "       'Web_site', 'Weimaraner', 'Saluki', 'Samoyed', 'Pembroke',\n",
       "       'Golden_retriever', 'Chihuahua', 'Miniature_pinscher', 'Basset',\n",
       "       'German_short-haired_pointer', 'English_springer', 'Tricycle',\n",
       "       'Vizsla', 'Italian_greyhound', 'Basset', 'French_bulldog',\n",
       "       'Chesapeake_bay_retriever', 'Irish_setter', 'Basset', 'Saluki',\n",
       "       'Pembroke', 'Bloodhound', 'Golden_retriever',\n",
       "       'Bernese_mountain_dog', 'Labrador_retriever', 'Siberian_husky',\n",
       "       'West_highland_white_terrier', 'Labrador_retriever',\n",
       "       'Cocker_spaniel', 'Flat-coated_retriever', 'Cardigan',\n",
       "       'Newfoundland', 'Vizsla', 'Labrador_retriever', 'Pug',\n",
       "       'Cocker_spaniel', 'Pembroke', 'Basketball', 'Shetland_sheepdog',\n",
       "       'Labrador_retriever', 'Komondor', 'Kelpie', 'Pembroke',\n",
       "       'Golden_retriever', 'Greater_swiss_mountain_dog', 'Pembroke',\n",
       "       'Pembroke', 'Chihuahua', 'Pembroke', 'Laptop', 'Labrador_retriever',\n",
       "       'Whippet', 'Labrador_retriever', 'Border_collie', 'Eskimo_dog',\n",
       "       'Blenheim_spaniel', 'Samoyed', 'Flat-coated_retriever',\n",
       "       'French_bulldog', 'Samoyed', 'Golden_retriever',\n",
       "       'Chesapeake_bay_retriever', 'Pembroke', 'Bull_mastiff',\n",
       "       'Golden_retriever', 'Eskimo_dog', 'Staffordshire_bullterrier',\n",
       "       'Lakeland_terrier', 'French_bulldog', 'Australian_terrier',\n",
       "       'Basset', 'Chow', 'Cardigan', 'Syringe', 'German_shepherd',\n",
       "       'Cardigan', 'Bedlington_terrier', 'French_bulldog',\n",
       "       'Labrador_retriever', 'Golden_retriever', 'Angora',\n",
       "       'Golden_retriever', 'Pembroke', 'Golden_retriever',\n",
       "       'French_bulldog', 'Labrador_retriever', 'Malamute', 'Samoyed',\n",
       "       'Golden_retriever', 'Boston_bull', 'Old_english_sheepdog',\n",
       "       'Chihuahua', 'Flat-coated_retriever', 'Blenheim_spaniel',\n",
       "       'Pembroke', 'Chihuahua', 'Pembroke', 'Black-and-tan_coonhound',\n",
       "       'English_springer', 'Miniature_pinscher', 'German_shepherd',\n",
       "       'Great_dane', 'Golden_retriever', 'Bloodhound', 'Barrow',\n",
       "       'Cardigan', 'Car_mirror', 'Pug', 'Yorkshire_terrier', 'Tennis_ball',\n",
       "       'Shetland_sheepdog', 'Chihuahua', 'Schipperke',\n",
       "       'Flat-coated_retriever', 'Malamute', 'Bedlington_terrier',\n",
       "       'Bernese_mountain_dog', 'Cardigan', 'Airedale',\n",
       "       'Staffordshire_bullterrier', 'White_wolf', 'Shetland_sheepdog',\n",
       "       'Golden_retriever', 'Giant_schnauzer', 'Golden_retriever',\n",
       "       'Samoyed', 'Chow', 'Dandie_dinmont', 'Irish_water_spaniel',\n",
       "       'Tennis_ball', 'Labrador_retriever', 'Labrador_retriever',\n",
       "       'Labrador_retriever', 'Labrador_retriever', 'Pembroke',\n",
       "       'Labrador_retriever', 'Tub', 'Pembroke', 'French_bulldog', 'Chow',\n",
       "       'Ice_bear', 'Chihuahua', 'Military_uniform', 'Afghan_hound',\n",
       "       'Brittany_spaniel', 'Golden_retriever', 'Chesapeake_bay_retriever',\n",
       "       'Staffordshire_bullterrier', 'Swing', 'Leonberg', 'Border_terrier',\n",
       "       'Kelpie', 'Great_pyrenees', 'Chow', 'Golden_retriever',\n",
       "       'Norwegian_elkhound', 'Siberian_husky', 'Shopping_cart',\n",
       "       'Mortarboard', 'Borzoi', 'Samoyed', 'Staffordshire_bullterrier',\n",
       "       'Rottweiler', 'Hyena', 'Border_collie', 'Swing', 'Ice_bear',\n",
       "       'Border_terrier', 'Toilet_tissue', 'Rhodesian_ridgeback',\n",
       "       'Golden_retriever', 'Bath_towel', 'Kuvasz', 'Chihuahua',\n",
       "       'West_highland_white_terrier', 'Golden_retriever', 'Cardigan',\n",
       "       'Boxer', 'Cardigan', 'Eskimo_dog', 'Pekinese', 'Kelpie', 'Pembroke',\n",
       "       'Afghan_hound', 'Miniature_pinscher', 'Whippet', 'Pomeranian',\n",
       "       'Bloodhound', 'Pembroke', 'Eskimo_dog', 'Chihuahua',\n",
       "       'Old_english_sheepdog', 'Briard', 'Doberman', 'Cocker_spaniel',\n",
       "       'Kuvasz', 'Labrador_retriever', 'Toy_poodle', 'Golden_retriever',\n",
       "       'Border_terrier', 'French_bulldog', 'Labrador_retriever',\n",
       "       'Golden_retriever', 'Boxer', 'Seat_belt', 'Hippopotamus',\n",
       "       'Golden_retriever', 'Teddy', 'Weimaraner', 'Bedlington_terrier',\n",
       "       'American_staffordshire_terrier', 'Malamute',\n",
       "       'American_staffordshire_terrier', 'German_shepherd', 'Collie',\n",
       "       'Pembroke', 'Golden_retriever', 'Great_dane', 'Golden_retriever',\n",
       "       'Great_pyrenees', 'French_bulldog', 'German_shepherd',\n",
       "       'French_bulldog', 'Labrador_retriever', 'Tennis_ball',\n",
       "       'Great_pyrenees', 'Rottweiler', 'Pekinese', 'Eskimo_dog',\n",
       "       'Border_terrier', 'English_setter', 'Pembroke', 'Schipperke',\n",
       "       'Cairn', 'Dingo', 'Cowboy_boot', 'Samoyed', 'Bathtub',\n",
       "       'Lakeland_terrier', 'Malinois', 'Samoyed', 'Cocker_spaniel',\n",
       "       'Samoyed', 'Pomeranian', 'Samoyed', 'Golden_retriever',\n",
       "       'Saint_bernard', 'Golden_retriever', 'Doberman', 'Irish_setter',\n",
       "       'German_shepherd', 'Pomeranian', 'Old_english_sheepdog',\n",
       "       'Golden_retriever', 'West_highland_white_terrier',\n",
       "       'Golden_retriever', 'Gordon_setter',\n",
       "       'American_staffordshire_terrier', 'Acorn_squash', 'Cardigan',\n",
       "       'Rottweiler', 'Border_terrier', 'Standard_poodle',\n",
       "       'Standard_poodle', 'Labrador_retriever', 'Chihuahua',\n",
       "       'Norwegian_elkhound', 'Swing', 'Miniature_schnauzer',\n",
       "       'Golden_retriever', 'Cocker_spaniel', 'Curly-coated_retriever',\n",
       "       'Pug', 'Ice_bear', 'Doberman', 'Tibetan_mastiff',\n",
       "       'Golden_retriever', 'Saluki', 'Kelpie', 'Dishwasher', 'Malamute',\n",
       "       'Chihuahua', 'Labrador_retriever', 'Pomeranian', 'English_setter',\n",
       "       'Chihuahua', 'Tibetan_mastiff', 'Border_collie', 'German_shepherd',\n",
       "       'Dalmatian', 'Golden_retriever', 'Miniature_poodle',\n",
       "       'Golden_retriever', 'Labrador_retriever', 'Siberian_husky',\n",
       "       'French_bulldog', 'Malamute', 'Samoyed', 'Cocker_spaniel',\n",
       "       'Golden_retriever', 'Doormat', 'Siamese_cat', 'Beagle',\n",
       "       'Norwegian_elkhound', 'Dingo', 'Great_dane', 'Doberman',\n",
       "       'Toy_terrier', 'Golden_retriever', 'Bull_mastiff', 'Irish_setter',\n",
       "       'Bath_towel', 'Golden_retriever', 'Staffordshire_bullterrier',\n",
       "       'Pekinese', 'Beagle', 'Pembroke', 'Golden_retriever',\n",
       "       'Flat-coated_retriever', 'Malamute', 'Malamute',\n",
       "       'Staffordshire_bullterrier', 'Norwich_terrier',\n",
       "       'Labrador_retriever', 'Greater_swiss_mountain_dog', 'Pomeranian',\n",
       "       'Vizsla', 'Rottweiler', 'Seat_belt', 'Airedale', 'Cocker_spaniel',\n",
       "       'Golden_retriever', 'Labrador_retriever', 'Golden_retriever',\n",
       "       'Chihuahua', 'Seat_belt', 'Golden_retriever', 'Arabian_camel',\n",
       "       'Vizsla', 'Cardigan', 'Chow', 'Irish_setter', 'Norwegian_elkhound',\n",
       "       'Siberian_husky', 'Malinois', 'Pembroke', 'Tibetan_mastiff', 'Chow',\n",
       "       'Miniature_pinscher', 'Lakeland_terrier', 'Labrador_retriever',\n",
       "       'Pembroke', 'Chow', 'Cocker_spaniel', 'Golden_retriever',\n",
       "       'Labrador_retriever', 'Eskimo_dog', 'Staffordshire_bullterrier',\n",
       "       'Pembroke', 'Cocker_spaniel', 'Dalmatian', 'Cocker_spaniel',\n",
       "       'Pembroke', 'Golden_retriever', 'Golden_retriever', 'Chow',\n",
       "       'Border_collie', 'Miniature_pinscher', 'Malamute',\n",
       "       'Norfolk_terrier', 'Siberian_husky', 'West_highland_white_terrier',\n",
       "       'Labrador_retriever', 'Chihuahua', 'Chow', 'English_springer',\n",
       "       'Beagle', 'Papillon', 'Pekinese', 'American_staffordshire_terrier',\n",
       "       'Pembroke', 'Collie', 'Cardigan', 'American_staffordshire_terrier',\n",
       "       'Cocker_spaniel', 'Pekinese', 'Golden_retriever',\n",
       "       'Golden_retriever', 'Cardigan', 'Chow', 'Golden_retriever',\n",
       "       'Golden_retriever', 'Golden_retriever', 'Schipperke', 'Teddy',\n",
       "       'Cocker_spaniel', 'Samoyed', 'Labrador_retriever',\n",
       "       'Old_english_sheepdog', 'Golden_retriever', 'Miniature_pinscher',\n",
       "       'Golden_retriever', 'Afghan_hound', 'Siberian_husky', 'Basset',\n",
       "       'Golden_retriever', 'Wire-haired_fox_terrier', 'Doormat',\n",
       "       'Labrador_retriever', 'Lakeland_terrier', 'Golden_retriever',\n",
       "       'Italian_greyhound', 'Labrador_retriever', \"Jack-o'-lantern\",\n",
       "       'Yorkshire_terrier', 'Cocker_spaniel', 'Komondor',\n",
       "       'Golden_retriever', 'Pembroke', 'Miniature_pinscher', 'Malamute',\n",
       "       'Cocker_spaniel', 'Dishwasher', 'Tub', 'Bernese_mountain_dog',\n",
       "       'Refrigerator', 'Pembroke', 'Labrador_retriever', 'Tub', 'Chow',\n",
       "       'Chesapeake_bay_retriever', 'Schipperke', 'Malamute', 'Chihuahua',\n",
       "       'Remote_control', 'Cocker_spaniel', 'Golden_retriever', 'Samoyed',\n",
       "       'Chow', 'Golden_retriever', 'Pug', 'German_shepherd', 'Chihuahua',\n",
       "       'Seat_belt', 'Golden_retriever', 'Pomeranian', 'Leonberg',\n",
       "       'Pembroke', 'Golden_retriever', 'Labrador_retriever',\n",
       "       'Golden_retriever', 'Teddy', 'Great_pyrenees', 'Miniature_pinscher',\n",
       "       'Teddy', 'Seat_belt', 'Chow', 'Malamute', 'Miniature_poodle',\n",
       "       'Lakeland_terrier', 'Chow', 'Chihuahua', 'Norwegian_elkhound',\n",
       "       'Cardigan', 'Cardigan', 'Chesapeake_bay_retriever', 'Seat_belt',\n",
       "       'Golden_retriever', 'Irish_setter', 'Malamute', 'Briard',\n",
       "       'Golden_retriever', 'Pembroke', 'Tennis_ball', 'Mexican_hairless',\n",
       "       'Shetland_sheepdog', 'Chesapeake_bay_retriever', 'Siberian_husky',\n",
       "       'Saint_bernard', 'Golden_retriever', 'Pug', 'Pug', 'Great_dane',\n",
       "       'Vizsla', 'Golden_retriever', 'Chihuahua', 'Cocker_spaniel',\n",
       "       'Staffordshire_bullterrier', 'German_shepherd', 'Airedale',\n",
       "       'Pembroke', 'Collie', 'Boston_bull', 'German_shepherd', 'Clumber',\n",
       "       'Afghan_hound', 'Cocker_spaniel', 'Golden_retriever', 'Chow',\n",
       "       'Chihuahua', 'Chihuahua', 'Toy_poodle', 'Labrador_retriever',\n",
       "       'Samoyed', 'Rottweiler', 'Web_site', 'Golden_retriever', 'Chow',\n",
       "       'Beagle', 'Chow', 'Toy_poodle', 'Walker_hound', 'Eskimo_dog',\n",
       "       'Giant_panda', 'Pomeranian', 'Silky_terrier',\n",
       "       'Old_english_sheepdog', 'Norwegian_elkhound', 'Shopping_cart',\n",
       "       'Seat_belt', 'Blenheim_spaniel', 'Tabby', 'Basset', 'Dalmatian',\n",
       "       'Newfoundland', 'Pembroke', 'Golden_retriever',\n",
       "       'Labrador_retriever', 'Chihuahua', 'Pembroke', 'Papillon',\n",
       "       'Labrador_retriever', 'Collie', 'Samoyed', 'Bathtub',\n",
       "       'Labrador_retriever', 'Bernese_mountain_dog', 'Chow', 'Maillot',\n",
       "       'Italian_greyhound', 'Golden_retriever', 'Boston_bull',\n",
       "       'Miniature_pinscher', 'Pug', 'Golden_retriever', 'Pomeranian',\n",
       "       'Chow', 'Basenji', 'Great_pyrenees', 'Labrador_retriever', 'Vizsla',\n",
       "       'Chow', 'Toy_poodle', 'Beagle', 'Doberman', 'Keeshond',\n",
       "       'Toy_poodle', 'Toy_poodle', 'Redbone', 'Welsh_springer_spaniel',\n",
       "       'Golden_retriever', 'Beagle', 'Pembroke', 'Golden_retriever',\n",
       "       'Dalmatian', 'Bernese_mountain_dog', 'German_shepherd', 'Malamute',\n",
       "       'Miniature_poodle', 'Seat_belt', 'Kelpie', 'Samoyed', 'Chow',\n",
       "       'Labrador_retriever', 'Golden_retriever', 'Gordon_setter',\n",
       "       'Norwegian_elkhound', 'Standard_poodle', 'Cougar',\n",
       "       'Golden_retriever', 'Blenheim_spaniel', 'Golden_retriever',\n",
       "       'Samoyed', 'Old_english_sheepdog', 'Labrador_retriever',\n",
       "       'Sussex_spaniel', 'Golden_retriever', 'Golden_retriever', 'Kuvasz',\n",
       "       'Kuvasz', 'Irish_terrier', 'Shetland_sheepdog',\n",
       "       'Labrador_retriever', 'Barrow', 'Chesapeake_bay_retriever'], dtype=object)"
      ]
     },
     "execution_count": 37,
     "metadata": {},
     "output_type": "execute_result"
    }
   ],
   "source": [
    "twitter_archive_master.p1.values"
   ]
  },
  {
   "cell_type": "markdown",
   "metadata": {},
   "source": [
    "### 3.2.7 Same Denominator\n",
    "Almost all ratings have a denominator of 10, therefore it makes sense to filter the few remaining tweets to have the same basis for all remaining tweets"
   ]
  },
  {
   "cell_type": "code",
   "execution_count": 38,
   "metadata": {},
   "outputs": [],
   "source": [
    "ind = twitter_archive_master.query('rating_denominator != 10').index\n",
    "\n",
    "twitter_archive_master.drop(ind, axis = 0, inplace = True)\n",
    "assert twitter_archive_master.query('rating_denominator != 10').shape[0] == 0"
   ]
  },
  {
   "cell_type": "markdown",
   "metadata": {},
   "source": [
    "### 3.2.8 Source values should be cleaned"
   ]
  },
  {
   "cell_type": "code",
   "execution_count": 39,
   "metadata": {},
   "outputs": [
    {
     "data": {
      "text/plain": [
       "<a href=\"http://twitter.com/download/iphone\" rel=\"nofollow\">Twitter for iPhone</a>    632\n",
       "<a href=\"http://twitter.com\" rel=\"nofollow\">Twitter Web Client</a>                      5\n",
       "Name: source, dtype: int64"
      ]
     },
     "execution_count": 39,
     "metadata": {},
     "output_type": "execute_result"
    }
   ],
   "source": [
    "twitter_archive_master.source.value_counts()"
   ]
  },
  {
   "cell_type": "code",
   "execution_count": 40,
   "metadata": {},
   "outputs": [
    {
     "name": "stderr",
     "output_type": "stream",
     "text": [
      "/opt/conda/lib/python3.6/site-packages/ipykernel_launcher.py:1: SettingWithCopyWarning: \n",
      "A value is trying to be set on a copy of a slice from a DataFrame\n",
      "\n",
      "See the caveats in the documentation: http://pandas.pydata.org/pandas-docs/stable/indexing.html#indexing-view-versus-copy\n",
      "  \"\"\"Entry point for launching an IPython kernel.\n"
     ]
    }
   ],
   "source": [
    "twitter_archive_master.source[twitter_archive_master.source.str.contains('iphone',regex=False)] = 'iphone'"
   ]
  },
  {
   "cell_type": "code",
   "execution_count": 41,
   "metadata": {},
   "outputs": [
    {
     "name": "stderr",
     "output_type": "stream",
     "text": [
      "/opt/conda/lib/python3.6/site-packages/ipykernel_launcher.py:1: SettingWithCopyWarning: \n",
      "A value is trying to be set on a copy of a slice from a DataFrame\n",
      "\n",
      "See the caveats in the documentation: http://pandas.pydata.org/pandas-docs/stable/indexing.html#indexing-view-versus-copy\n",
      "  \"\"\"Entry point for launching an IPython kernel.\n"
     ]
    }
   ],
   "source": [
    "twitter_archive_master.source[twitter_archive_master.source.str.contains('Web Client',regex=False)] = 'web_client'"
   ]
  },
  {
   "cell_type": "code",
   "execution_count": 42,
   "metadata": {},
   "outputs": [
    {
     "data": {
      "text/plain": [
       "iphone        632\n",
       "web_client      5\n",
       "Name: source, dtype: int64"
      ]
     },
     "execution_count": 42,
     "metadata": {},
     "output_type": "execute_result"
    }
   ],
   "source": [
    "twitter_archive_master.source.value_counts()"
   ]
  },
  {
   "cell_type": "code",
   "execution_count": 43,
   "metadata": {},
   "outputs": [],
   "source": [
    "#You only want original ratings (no retweets) that have images"
   ]
  },
  {
   "cell_type": "markdown",
   "metadata": {},
   "source": [
    "# 4 Test"
   ]
  },
  {
   "cell_type": "markdown",
   "metadata": {},
   "source": [
    "We only want original ratings (no retweets) that have images:"
   ]
  },
  {
   "cell_type": "code",
   "execution_count": 44,
   "metadata": {},
   "outputs": [],
   "source": [
    "assert twitter_archive_master.retweeted.any() == False\n",
    "assert (twitter_archive_master.img_num > 0).all()"
   ]
  },
  {
   "cell_type": "code",
   "execution_count": 45,
   "metadata": {},
   "outputs": [],
   "source": [
    "twitter_archive_master.to_csv('twitter_archive_master.csv',index=False)"
   ]
  },
  {
   "cell_type": "code",
   "execution_count": 46,
   "metadata": {},
   "outputs": [
    {
     "name": "stdout",
     "output_type": "stream",
     "text": [
      "<class 'pandas.core.frame.DataFrame'>\n",
      "Int64Index: 637 entries, 1 to 899\n",
      "Data columns (total 28 columns):\n",
      "tweet_id                      637 non-null int64\n",
      "in_reply_to_status_id         4 non-null float64\n",
      "in_reply_to_user_id           4 non-null float64\n",
      "timestamp                     637 non-null object\n",
      "source                        637 non-null object\n",
      "text                          637 non-null object\n",
      "retweeted_status_id           53 non-null float64\n",
      "retweeted_status_user_id      53 non-null float64\n",
      "retweeted_status_timestamp    53 non-null object\n",
      "expanded_urls                 637 non-null object\n",
      "rating_numerator              637 non-null int64\n",
      "rating_denominator            637 non-null int64\n",
      "name                          637 non-null object\n",
      "stage                         637 non-null object\n",
      "jpg_url                       637 non-null object\n",
      "img_num                       637 non-null int64\n",
      "p1                            637 non-null object\n",
      "p1_conf                       637 non-null float64\n",
      "p1_dog                        637 non-null bool\n",
      "p2                            637 non-null object\n",
      "p2_conf                       637 non-null float64\n",
      "p2_dog                        637 non-null bool\n",
      "p3                            637 non-null object\n",
      "p3_conf                       637 non-null float64\n",
      "p3_dog                        637 non-null bool\n",
      "retweet_count                 637 non-null int64\n",
      "favorite_count                637 non-null int64\n",
      "retweeted                     637 non-null bool\n",
      "dtypes: bool(4), float64(7), int64(6), object(11)\n",
      "memory usage: 126.9+ KB\n"
     ]
    }
   ],
   "source": [
    "# properties of the final dataset\n",
    "twitter_archive_master.info()"
   ]
  },
  {
   "cell_type": "markdown",
   "metadata": {},
   "source": [
    "# 5 Insights & Visualization"
   ]
  },
  {
   "cell_type": "markdown",
   "metadata": {},
   "source": [
    "## 5.1 Most of the tweets are uploaded with iphone"
   ]
  },
  {
   "cell_type": "code",
   "execution_count": 47,
   "metadata": {},
   "outputs": [
    {
     "data": {
      "text/plain": [
       "0.9921507064364207"
      ]
     },
     "execution_count": 47,
     "metadata": {},
     "output_type": "execute_result"
    }
   ],
   "source": [
    "twitter_archive_master.query('source == \"iphone\"').shape[0] / twitter_archive_master.shape[0]"
   ]
  },
  {
   "cell_type": "markdown",
   "metadata": {},
   "source": [
    "99% of the tweets are uploaded via iphone"
   ]
  },
  {
   "cell_type": "markdown",
   "metadata": {},
   "source": [
    "## 5.2 Most frequent dog breed "
   ]
  },
  {
   "cell_type": "code",
   "execution_count": 48,
   "metadata": {},
   "outputs": [
    {
     "data": {
      "text/plain": [
       "'Golden_retriever'"
      ]
     },
     "execution_count": 48,
     "metadata": {},
     "output_type": "execute_result"
    }
   ],
   "source": [
    "twitter_archive_master.p1.value_counts().index[0]"
   ]
  },
  {
   "cell_type": "markdown",
   "metadata": {},
   "source": [
    "# 5.3 Favourite Breeds"
   ]
  },
  {
   "cell_type": "code",
   "execution_count": 49,
   "metadata": {},
   "outputs": [],
   "source": [
    "import matplotlib.pyplot as plt"
   ]
  },
  {
   "cell_type": "code",
   "execution_count": 50,
   "metadata": {},
   "outputs": [],
   "source": [
    "# group by classification and calculate retweets & favourites means\n",
    "p1_counts = twitter_archive_master[['p1','retweet_count','favorite_count']].groupby(['p1']).mean()"
   ]
  },
  {
   "cell_type": "code",
   "execution_count": 51,
   "metadata": {},
   "outputs": [],
   "source": [
    "top8_retweet_value = p1_counts.retweet_count.sort_values()[-8]\n",
    "top8_retweet = p1_counts.query('retweet_count >= @top8_retweet_value')"
   ]
  },
  {
   "cell_type": "code",
   "execution_count": 56,
   "metadata": {},
   "outputs": [
    {
     "data": {
      "image/png": "[encoded data removed]",
      "text/plain": [
       "<matplotlib.figure.Figure at 0x7f2fb74b8ba8>"
      ]
     },
     "metadata": {
      "needs_background": "light"
     },
     "output_type": "display_data"
    }
   ],
   "source": [
    "top8_retweet.plot.bar(y='retweet_count');\n",
    "plt.title(\"Top 8 breeds' mean retweet count\");\n",
    "plt.savefig('top8retweet.png', bbox_inches = 'tight')"
   ]
  },
  {
   "cell_type": "code",
   "execution_count": 59,
   "metadata": {},
   "outputs": [],
   "source": [
    "# same plot for favorite count\n",
    "top8_fav_value = p1_counts.favorite_count.sort_values()[-8]\n",
    "top8_fav = p1_counts.query('favorite_count >= @top8_fav_value')"
   ]
  },
  {
   "cell_type": "code",
   "execution_count": 60,
   "metadata": {},
   "outputs": [
    {
     "data": {
      "image/png": "[encoded data removed]",
      "text/plain": [
       "<matplotlib.figure.Figure at 0x7f2fb6e28f98>"
      ]
     },
     "metadata": {
      "needs_background": "light"
     },
     "output_type": "display_data"
    }
   ],
   "source": [
    "#import matplotlib.pyplot as plt\n",
    "top8_fav.plot.bar(y='favorite_count');\n",
    "plt.title(\"Top 8 breeds' mean favorite count\");\n",
    "plt.savefig('top8favorite.png', bbox_inches = 'tight')"
   ]
  },
  {
   "cell_type": "code",
   "execution_count": null,
   "metadata": {},
   "outputs": [],
   "source": []
  }
 ],
 "metadata": {
  "kernelspec": {
   "display_name": "Python 3",
   "language": "python",
   "name": "python3"
  },
  "language_info": {
   "codemirror_mode": {
    "name": "ipython",
    "version": 3
   },
   "file_extension": ".py",
   "mimetype": "text/x-python",
   "name": "python",
   "nbconvert_exporter": "python",
   "pygments_lexer": "ipython3",
   "version": "3.6.3"
  }
 },
 "nbformat": 4,
 "nbformat_minor": 2
}
