{
 "cells": [
  {
   "cell_type": "markdown",
   "id": "9a703475",
   "metadata": {},
   "source": [
    "# Project 2: Wrangle and Analyze Data"
   ]
  },
  {
   "cell_type": "markdown",
   "id": "c2356731",
   "metadata": {},
   "source": [
    "## Data Gathering\n",
    "In the cell below, i'm going to gather **all** three pieces of data for this project and load them in the notebook. **Note:** the methods required to gather each data are different.\n",
    "1. Directly download the WeRateDogs Twitter archive data (twitter_archive_enhanced.csv)"
   ]
  },
  {
   "cell_type": "code",
   "execution_count": 71,
   "id": "62bc4d14",
   "metadata": {},
   "outputs": [],
   "source": [
    "import pandas as pd\n",
    "import numpy as np\n",
    "\n",
    "import tweepy\n",
    "from tweepy import OAuthHandler\n",
    "import json\n",
    "from timeit import default_timer as timer\n",
    "\n",
    "import matplotlib\n",
    "import matplotlib.pyplot as plt\n",
    "plt.style.use('ggplot')\n",
    "%matplotlib inline"
   ]
  },
  {
   "cell_type": "code",
   "execution_count": 72,
   "id": "52cea81f",
   "metadata": {},
   "outputs": [],
   "source": [
    "#read the twitter-archive-enhanced CSV file data into the DataFrame\n",
    "df_1 = pd.read_csv('twitter-archive-enhanced.csv')   \n",
    "#df_1.head()"
   ]
  },
  {
   "cell_type": "markdown",
   "id": "fca6259f",
   "metadata": {},
   "source": [
    "2. Use the Requests library to download the tweet image prediction (image_predictions.tsv)"
   ]
  },
  {
   "cell_type": "code",
   "execution_count": 73,
   "id": "8c572ba5",
   "metadata": {},
   "outputs": [],
   "source": [
    "#import the request library\n",
    "import requests"
   ]
  },
  {
   "cell_type": "code",
   "execution_count": 5,
   "id": "87c3b9f4",
   "metadata": {},
   "outputs": [],
   "source": [
    "url = 'https://d17h27t6h515a5.cloudfront.net/topher/2017/August/599fd2ad_image-predictions/image-predictions.tsv'\n",
    "response = requests.get(url)"
   ]
  },
  {
   "cell_type": "code",
   "execution_count": 8,
   "id": "3879ff8f",
   "metadata": {},
   "outputs": [
    {
     "data": {
      "text/plain": [
       "335079"
      ]
     },
     "execution_count": 8,
     "metadata": {},
     "output_type": "execute_result"
    }
   ],
   "source": [
    "#writing the content in local tsv file\n",
    "open('image-predictions.tsv', 'wb').write(response.content)"
   ]
  },
  {
   "cell_type": "code",
   "execution_count": 74,
   "id": "b6bce6ec",
   "metadata": {},
   "outputs": [],
   "source": [
    "# Import the image predictions TSV file into a DataFrame\n",
    "predictions = pd.read_csv('image-predictions.tsv', sep='\\t')\n",
    "#predictions.head()"
   ]
  },
  {
   "cell_type": "markdown",
   "id": "a54a1872",
   "metadata": {},
   "source": [
    "3. Use the Tweepy library to query additional data via the Twitter API (tweet_json.txt)"
   ]
  },
  {
   "cell_type": "markdown",
   "id": "ebd11464",
   "metadata": {},
   "source": [
    "#### API"
   ]
  },
  {
   "cell_type": "code",
   "execution_count": null,
   "id": "54c6519d",
   "metadata": {},
   "outputs": [],
   "source": [
    "%false_Script%\n",
    "import tweepy\n",
    "from tweepy import OAuthHandler\n",
    "from timeit import default_timer as timer\n",
    "\n",
    "# Query Twitter API for each tweet in the Twitter archive and save JSON in a text file\n",
    "# These are hidden to comply with Twitter's API terms and conditions\n",
    "consumer_key = 'HIDDEN'\n",
    "consumer_secret = 'HIDDEN'\n",
    "access_token = 'HIDDEN'\n",
    "access_secret = 'HIDDEN'\n",
    "\n",
    "auth = OAuthHandler(consumer_key, consumer_secret)\n",
    "auth.set_access_token(access_token, access_secret)\n",
    "\n",
    "api = tweepy.API(auth, wait_on_rate_limit=True)\n",
    "\n",
    "# NOTE TO STUDENT WITH MOBILE VERIFICATION ISSUES:\n",
    "# df_1 is a DataFrame with the twitter_archive_enhanced.csv file. You may have to\n",
    "# change line 17 to match the name of your DataFrame with twitter_archive_enhanced.csv\n",
    "# NOTE TO REVIEWER: this student had mobile verification issues so the following\n",
    "# Twitter API code was sent to this student from a Udacity instructor\n",
    "# Tweet IDs for which to gather additional data via Twitter's API\n",
    "tweet_ids = df_1.tweet_id.values\n",
    "len(tweet_ids)\n",
    "\n",
    "# Query Twitter's API for JSON data for each tweet ID in the Twitter archive\n",
    "count = 0\n",
    "fails_dict = {}\n",
    "start = timer()\n",
    "# Save each tweet's returned JSON as a new line in a .txt file\n",
    "with open('tweet_json.txt', 'w') as outfile:\n",
    "    # This loop will likely take 20-30 minutes to run because of Twitter's rate limit\n",
    "    for tweet_id in tweet_ids:\n",
    "        count += 1\n",
    "        print(str(count) + \": \" + str(tweet_id))\n",
    "        try:\n",
    "            tweet = api.get_status(tweet_id, tweet_mode='extended')\n",
    "            print(\"Success\")\n",
    "            json.dump(tweet._json, outfile)\n",
    "            outfile.write('\\n')\n",
    "        except tweepy.TweepError as e:\n",
    "            print(\"Fail\")\n",
    "            fails_dict[tweet_id] = e\n",
    "            pass\n",
    "end = timer()\n",
    "print(end - start)\n",
    "print(fails_dict)"
   ]
  },
  {
   "cell_type": "markdown",
   "id": "ccbee82e",
   "metadata": {},
   "source": [
    "#### Data to collect:\n",
    "\n",
    "* Retweet count\n",
    "* Favorite (\"like\") count\n",
    "* Hashtags"
   ]
  },
  {
   "cell_type": "code",
   "execution_count": 75,
   "id": "d8fa12df",
   "metadata": {},
   "outputs": [],
   "source": [
    "tweet_json = []\n",
    "\n",
    "# read in the json file line by line into a list\n",
    "with open(\"tweet_json.txt\") as file:\n",
    "    for line in file:\n",
    "        tweet_json.append(json.loads(line))"
   ]
  },
  {
   "cell_type": "code",
   "execution_count": 76,
   "id": "64338379",
   "metadata": {},
   "outputs": [
    {
     "data": {
      "text/plain": [
       "{'created_at': 'Tue Aug 01 16:23:56 +0000 2017',\n",
       " 'id': 892420643555336193,\n",
       " 'id_str': '892420643555336193',\n",
       " 'full_text': \"This is Phineas. He's a mystical boy. Only ever appears in the hole of a donut. 13/10 https://t.co/MgUWQ76dJU\",\n",
       " 'truncated': False,\n",
       " 'display_text_range': [0, 85],\n",
       " 'entities': {'hashtags': [],\n",
       "  'symbols': [],\n",
       "  'user_mentions': [],\n",
       "  'urls': [],\n",
       "  'media': [{'id': 892420639486877696,\n",
       "    'id_str': '892420639486877696',\n",
       "    'indices': [86, 109],\n",
       "    'media_url': 'http://pbs.twimg.com/media/DGKD1-bXoAAIAUK.jpg',\n",
       "    'media_url_https': 'https://pbs.twimg.com/media/DGKD1-bXoAAIAUK.jpg',\n",
       "    'url': 'https://t.co/MgUWQ76dJU',\n",
       "    'display_url': 'pic.twitter.com/MgUWQ76dJU',\n",
       "    'expanded_url': 'https://twitter.com/dog_rates/status/892420643555336193/photo/1',\n",
       "    'type': 'photo',\n",
       "    'sizes': {'large': {'w': 540, 'h': 528, 'resize': 'fit'},\n",
       "     'thumb': {'w': 150, 'h': 150, 'resize': 'crop'},\n",
       "     'small': {'w': 540, 'h': 528, 'resize': 'fit'},\n",
       "     'medium': {'w': 540, 'h': 528, 'resize': 'fit'}}}]},\n",
       " 'extended_entities': {'media': [{'id': 892420639486877696,\n",
       "    'id_str': '892420639486877696',\n",
       "    'indices': [86, 109],\n",
       "    'media_url': 'http://pbs.twimg.com/media/DGKD1-bXoAAIAUK.jpg',\n",
       "    'media_url_https': 'https://pbs.twimg.com/media/DGKD1-bXoAAIAUK.jpg',\n",
       "    'url': 'https://t.co/MgUWQ76dJU',\n",
       "    'display_url': 'pic.twitter.com/MgUWQ76dJU',\n",
       "    'expanded_url': 'https://twitter.com/dog_rates/status/892420643555336193/photo/1',\n",
       "    'type': 'photo',\n",
       "    'sizes': {'large': {'w': 540, 'h': 528, 'resize': 'fit'},\n",
       "     'thumb': {'w': 150, 'h': 150, 'resize': 'crop'},\n",
       "     'small': {'w': 540, 'h': 528, 'resize': 'fit'},\n",
       "     'medium': {'w': 540, 'h': 528, 'resize': 'fit'}}}]},\n",
       " 'source': '<a href=\"http://twitter.com/download/iphone\" rel=\"nofollow\">Twitter for iPhone</a>',\n",
       " 'in_reply_to_status_id': None,\n",
       " 'in_reply_to_status_id_str': None,\n",
       " 'in_reply_to_user_id': None,\n",
       " 'in_reply_to_user_id_str': None,\n",
       " 'in_reply_to_screen_name': None,\n",
       " 'user': {'id': 4196983835,\n",
       "  'id_str': '4196983835',\n",
       "  'name': 'WeRateDogs™ (author)',\n",
       "  'screen_name': 'dog_rates',\n",
       "  'location': 'DM YOUR DOGS, WE WILL RATE',\n",
       "  'description': '#1 Source for Professional Dog Ratings | STORE: @ShopWeRateDogs | IG, FB & SC: WeRateDogs MOBILE APP: @GoodDogsGame | Business: dogratingtwitter@gmail.com',\n",
       "  'url': 'https://t.co/N7sNNHAEXS',\n",
       "  'entities': {'url': {'urls': [{'url': 'https://t.co/N7sNNHAEXS',\n",
       "      'expanded_url': 'http://weratedogs.com',\n",
       "      'display_url': 'weratedogs.com',\n",
       "      'indices': [0, 23]}]},\n",
       "   'description': {'urls': []}},\n",
       "  'protected': False,\n",
       "  'followers_count': 3200889,\n",
       "  'friends_count': 104,\n",
       "  'listed_count': 2784,\n",
       "  'created_at': 'Sun Nov 15 21:41:29 +0000 2015',\n",
       "  'favourites_count': 114031,\n",
       "  'utc_offset': None,\n",
       "  'time_zone': None,\n",
       "  'geo_enabled': True,\n",
       "  'verified': True,\n",
       "  'statuses_count': 5288,\n",
       "  'lang': 'en',\n",
       "  'contributors_enabled': False,\n",
       "  'is_translator': False,\n",
       "  'is_translation_enabled': False,\n",
       "  'profile_background_color': '000000',\n",
       "  'profile_background_image_url': 'http://abs.twimg.com/images/themes/theme1/bg.png',\n",
       "  'profile_background_image_url_https': 'https://abs.twimg.com/images/themes/theme1/bg.png',\n",
       "  'profile_background_tile': False,\n",
       "  'profile_image_url': 'http://pbs.twimg.com/profile_images/861415328504569856/R2xOOfwe_normal.jpg',\n",
       "  'profile_image_url_https': 'https://pbs.twimg.com/profile_images/861415328504569856/R2xOOfwe_normal.jpg',\n",
       "  'profile_banner_url': 'https://pbs.twimg.com/profile_banners/4196983835/1501129017',\n",
       "  'profile_link_color': 'F5ABB5',\n",
       "  'profile_sidebar_border_color': '000000',\n",
       "  'profile_sidebar_fill_color': '000000',\n",
       "  'profile_text_color': '000000',\n",
       "  'profile_use_background_image': False,\n",
       "  'has_extended_profile': True,\n",
       "  'default_profile': False,\n",
       "  'default_profile_image': False,\n",
       "  'following': True,\n",
       "  'follow_request_sent': False,\n",
       "  'notifications': False,\n",
       "  'translator_type': 'none'},\n",
       " 'geo': None,\n",
       " 'coordinates': None,\n",
       " 'place': None,\n",
       " 'contributors': None,\n",
       " 'is_quote_status': False,\n",
       " 'retweet_count': 8853,\n",
       " 'favorite_count': 39467,\n",
       " 'favorited': False,\n",
       " 'retweeted': False,\n",
       " 'possibly_sensitive': False,\n",
       " 'possibly_sensitive_appealable': False,\n",
       " 'lang': 'en'}"
      ]
     },
     "execution_count": 76,
     "metadata": {},
     "output_type": "execute_result"
    }
   ],
   "source": [
    "tweet_json[0]"
   ]
  },
  {
   "cell_type": "code",
   "execution_count": 77,
   "id": "d66706f3",
   "metadata": {},
   "outputs": [],
   "source": [
    "# create a data frame containing the relevant api data\n",
    "api_data = pd.DataFrame({'tweet_id': [i[\"id_str\"] for i in tweet_json], \n",
    "     'retweet_count': [i[\"retweet_count\"] for i in tweet_json], \n",
    "     'favorite_count': [i[\"favorite_count\"] for i in tweet_json], \n",
    "     'hashtags': [i[\"entities\"][\"hashtags\"] for i in tweet_json]})"
   ]
  },
  {
   "cell_type": "markdown",
   "id": "e4cc7855",
   "metadata": {},
   "source": [
    "## Assessing Data: Part 1"
   ]
  },
  {
   "cell_type": "code",
   "execution_count": 78,
   "id": "80187aad",
   "metadata": {},
   "outputs": [
    {
     "data": {
      "text/html": [
       "<div>\n",
       "<style scoped>\n",
       "    .dataframe tbody tr th:only-of-type {\n",
       "        vertical-align: middle;\n",
       "    }\n",
       "\n",
       "    .dataframe tbody tr th {\n",
       "        vertical-align: top;\n",
       "    }\n",
       "\n",
       "    .dataframe thead th {\n",
       "        text-align: right;\n",
       "    }\n",
       "</style>\n",
       "<table border=\"1\" class=\"dataframe\">\n",
       "  <thead>\n",
       "    <tr style=\"text-align: right;\">\n",
       "      <th></th>\n",
       "      <th>tweet_id</th>\n",
       "      <th>in_reply_to_status_id</th>\n",
       "      <th>in_reply_to_user_id</th>\n",
       "      <th>timestamp</th>\n",
       "      <th>source</th>\n",
       "      <th>text</th>\n",
       "      <th>retweeted_status_id</th>\n",
       "      <th>retweeted_status_user_id</th>\n",
       "      <th>retweeted_status_timestamp</th>\n",
       "      <th>expanded_urls</th>\n",
       "      <th>rating_numerator</th>\n",
       "      <th>rating_denominator</th>\n",
       "      <th>name</th>\n",
       "      <th>doggo</th>\n",
       "      <th>floofer</th>\n",
       "      <th>pupper</th>\n",
       "      <th>puppo</th>\n",
       "    </tr>\n",
       "  </thead>\n",
       "  <tbody>\n",
       "    <tr>\n",
       "      <th>0</th>\n",
       "      <td>892420643555336193</td>\n",
       "      <td>NaN</td>\n",
       "      <td>NaN</td>\n",
       "      <td>2017-08-01 16:23:56 +0000</td>\n",
       "      <td>&lt;a href=\"http://twitter.com/download/iphone\" r...</td>\n",
       "      <td>This is Phineas. He's a mystical boy. Only eve...</td>\n",
       "      <td>NaN</td>\n",
       "      <td>NaN</td>\n",
       "      <td>NaN</td>\n",
       "      <td>https://twitter.com/dog_rates/status/892420643...</td>\n",
       "      <td>13</td>\n",
       "      <td>10</td>\n",
       "      <td>Phineas</td>\n",
       "      <td>None</td>\n",
       "      <td>None</td>\n",
       "      <td>None</td>\n",
       "      <td>None</td>\n",
       "    </tr>\n",
       "    <tr>\n",
       "      <th>1</th>\n",
       "      <td>892177421306343426</td>\n",
       "      <td>NaN</td>\n",
       "      <td>NaN</td>\n",
       "      <td>2017-08-01 00:17:27 +0000</td>\n",
       "      <td>&lt;a href=\"http://twitter.com/download/iphone\" r...</td>\n",
       "      <td>This is Tilly. She's just checking pup on you....</td>\n",
       "      <td>NaN</td>\n",
       "      <td>NaN</td>\n",
       "      <td>NaN</td>\n",
       "      <td>https://twitter.com/dog_rates/status/892177421...</td>\n",
       "      <td>13</td>\n",
       "      <td>10</td>\n",
       "      <td>Tilly</td>\n",
       "      <td>None</td>\n",
       "      <td>None</td>\n",
       "      <td>None</td>\n",
       "      <td>None</td>\n",
       "    </tr>\n",
       "    <tr>\n",
       "      <th>2</th>\n",
       "      <td>891815181378084864</td>\n",
       "      <td>NaN</td>\n",
       "      <td>NaN</td>\n",
       "      <td>2017-07-31 00:18:03 +0000</td>\n",
       "      <td>&lt;a href=\"http://twitter.com/download/iphone\" r...</td>\n",
       "      <td>This is Archie. He is a rare Norwegian Pouncin...</td>\n",
       "      <td>NaN</td>\n",
       "      <td>NaN</td>\n",
       "      <td>NaN</td>\n",
       "      <td>https://twitter.com/dog_rates/status/891815181...</td>\n",
       "      <td>12</td>\n",
       "      <td>10</td>\n",
       "      <td>Archie</td>\n",
       "      <td>None</td>\n",
       "      <td>None</td>\n",
       "      <td>None</td>\n",
       "      <td>None</td>\n",
       "    </tr>\n",
       "    <tr>\n",
       "      <th>3</th>\n",
       "      <td>891689557279858688</td>\n",
       "      <td>NaN</td>\n",
       "      <td>NaN</td>\n",
       "      <td>2017-07-30 15:58:51 +0000</td>\n",
       "      <td>&lt;a href=\"http://twitter.com/download/iphone\" r...</td>\n",
       "      <td>This is Darla. She commenced a snooze mid meal...</td>\n",
       "      <td>NaN</td>\n",
       "      <td>NaN</td>\n",
       "      <td>NaN</td>\n",
       "      <td>https://twitter.com/dog_rates/status/891689557...</td>\n",
       "      <td>13</td>\n",
       "      <td>10</td>\n",
       "      <td>Darla</td>\n",
       "      <td>None</td>\n",
       "      <td>None</td>\n",
       "      <td>None</td>\n",
       "      <td>None</td>\n",
       "    </tr>\n",
       "    <tr>\n",
       "      <th>4</th>\n",
       "      <td>891327558926688256</td>\n",
       "      <td>NaN</td>\n",
       "      <td>NaN</td>\n",
       "      <td>2017-07-29 16:00:24 +0000</td>\n",
       "      <td>&lt;a href=\"http://twitter.com/download/iphone\" r...</td>\n",
       "      <td>This is Franklin. He would like you to stop ca...</td>\n",
       "      <td>NaN</td>\n",
       "      <td>NaN</td>\n",
       "      <td>NaN</td>\n",
       "      <td>https://twitter.com/dog_rates/status/891327558...</td>\n",
       "      <td>12</td>\n",
       "      <td>10</td>\n",
       "      <td>Franklin</td>\n",
       "      <td>None</td>\n",
       "      <td>None</td>\n",
       "      <td>None</td>\n",
       "      <td>None</td>\n",
       "    </tr>\n",
       "    <tr>\n",
       "      <th>5</th>\n",
       "      <td>891087950875897856</td>\n",
       "      <td>NaN</td>\n",
       "      <td>NaN</td>\n",
       "      <td>2017-07-29 00:08:17 +0000</td>\n",
       "      <td>&lt;a href=\"http://twitter.com/download/iphone\" r...</td>\n",
       "      <td>Here we have a majestic great white breaching ...</td>\n",
       "      <td>NaN</td>\n",
       "      <td>NaN</td>\n",
       "      <td>NaN</td>\n",
       "      <td>https://twitter.com/dog_rates/status/891087950...</td>\n",
       "      <td>13</td>\n",
       "      <td>10</td>\n",
       "      <td>None</td>\n",
       "      <td>None</td>\n",
       "      <td>None</td>\n",
       "      <td>None</td>\n",
       "      <td>None</td>\n",
       "    </tr>\n",
       "    <tr>\n",
       "      <th>6</th>\n",
       "      <td>890971913173991426</td>\n",
       "      <td>NaN</td>\n",
       "      <td>NaN</td>\n",
       "      <td>2017-07-28 16:27:12 +0000</td>\n",
       "      <td>&lt;a href=\"http://twitter.com/download/iphone\" r...</td>\n",
       "      <td>Meet Jax. He enjoys ice cream so much he gets ...</td>\n",
       "      <td>NaN</td>\n",
       "      <td>NaN</td>\n",
       "      <td>NaN</td>\n",
       "      <td>https://gofundme.com/ydvmve-surgery-for-jax,ht...</td>\n",
       "      <td>13</td>\n",
       "      <td>10</td>\n",
       "      <td>Jax</td>\n",
       "      <td>None</td>\n",
       "      <td>None</td>\n",
       "      <td>None</td>\n",
       "      <td>None</td>\n",
       "    </tr>\n",
       "    <tr>\n",
       "      <th>7</th>\n",
       "      <td>890729181411237888</td>\n",
       "      <td>NaN</td>\n",
       "      <td>NaN</td>\n",
       "      <td>2017-07-28 00:22:40 +0000</td>\n",
       "      <td>&lt;a href=\"http://twitter.com/download/iphone\" r...</td>\n",
       "      <td>When you watch your owner call another dog a g...</td>\n",
       "      <td>NaN</td>\n",
       "      <td>NaN</td>\n",
       "      <td>NaN</td>\n",
       "      <td>https://twitter.com/dog_rates/status/890729181...</td>\n",
       "      <td>13</td>\n",
       "      <td>10</td>\n",
       "      <td>None</td>\n",
       "      <td>None</td>\n",
       "      <td>None</td>\n",
       "      <td>None</td>\n",
       "      <td>None</td>\n",
       "    </tr>\n",
       "    <tr>\n",
       "      <th>8</th>\n",
       "      <td>890609185150312448</td>\n",
       "      <td>NaN</td>\n",
       "      <td>NaN</td>\n",
       "      <td>2017-07-27 16:25:51 +0000</td>\n",
       "      <td>&lt;a href=\"http://twitter.com/download/iphone\" r...</td>\n",
       "      <td>This is Zoey. She doesn't want to be one of th...</td>\n",
       "      <td>NaN</td>\n",
       "      <td>NaN</td>\n",
       "      <td>NaN</td>\n",
       "      <td>https://twitter.com/dog_rates/status/890609185...</td>\n",
       "      <td>13</td>\n",
       "      <td>10</td>\n",
       "      <td>Zoey</td>\n",
       "      <td>None</td>\n",
       "      <td>None</td>\n",
       "      <td>None</td>\n",
       "      <td>None</td>\n",
       "    </tr>\n",
       "    <tr>\n",
       "      <th>9</th>\n",
       "      <td>890240255349198849</td>\n",
       "      <td>NaN</td>\n",
       "      <td>NaN</td>\n",
       "      <td>2017-07-26 15:59:51 +0000</td>\n",
       "      <td>&lt;a href=\"http://twitter.com/download/iphone\" r...</td>\n",
       "      <td>This is Cassie. She is a college pup. Studying...</td>\n",
       "      <td>NaN</td>\n",
       "      <td>NaN</td>\n",
       "      <td>NaN</td>\n",
       "      <td>https://twitter.com/dog_rates/status/890240255...</td>\n",
       "      <td>14</td>\n",
       "      <td>10</td>\n",
       "      <td>Cassie</td>\n",
       "      <td>doggo</td>\n",
       "      <td>None</td>\n",
       "      <td>None</td>\n",
       "      <td>None</td>\n",
       "    </tr>\n",
       "  </tbody>\n",
       "</table>\n",
       "</div>"
      ],
      "text/plain": [
       "             tweet_id  in_reply_to_status_id  in_reply_to_user_id  \\\n",
       "0  892420643555336193                    NaN                  NaN   \n",
       "1  892177421306343426                    NaN                  NaN   \n",
       "2  891815181378084864                    NaN                  NaN   \n",
       "3  891689557279858688                    NaN                  NaN   \n",
       "4  891327558926688256                    NaN                  NaN   \n",
       "5  891087950875897856                    NaN                  NaN   \n",
       "6  890971913173991426                    NaN                  NaN   \n",
       "7  890729181411237888                    NaN                  NaN   \n",
       "8  890609185150312448                    NaN                  NaN   \n",
       "9  890240255349198849                    NaN                  NaN   \n",
       "\n",
       "                   timestamp  \\\n",
       "0  2017-08-01 16:23:56 +0000   \n",
       "1  2017-08-01 00:17:27 +0000   \n",
       "2  2017-07-31 00:18:03 +0000   \n",
       "3  2017-07-30 15:58:51 +0000   \n",
       "4  2017-07-29 16:00:24 +0000   \n",
       "5  2017-07-29 00:08:17 +0000   \n",
       "6  2017-07-28 16:27:12 +0000   \n",
       "7  2017-07-28 00:22:40 +0000   \n",
       "8  2017-07-27 16:25:51 +0000   \n",
       "9  2017-07-26 15:59:51 +0000   \n",
       "\n",
       "                                              source  \\\n",
       "0  <a href=\"http://twitter.com/download/iphone\" r...   \n",
       "1  <a href=\"http://twitter.com/download/iphone\" r...   \n",
       "2  <a href=\"http://twitter.com/download/iphone\" r...   \n",
       "3  <a href=\"http://twitter.com/download/iphone\" r...   \n",
       "4  <a href=\"http://twitter.com/download/iphone\" r...   \n",
       "5  <a href=\"http://twitter.com/download/iphone\" r...   \n",
       "6  <a href=\"http://twitter.com/download/iphone\" r...   \n",
       "7  <a href=\"http://twitter.com/download/iphone\" r...   \n",
       "8  <a href=\"http://twitter.com/download/iphone\" r...   \n",
       "9  <a href=\"http://twitter.com/download/iphone\" r...   \n",
       "\n",
       "                                                text  retweeted_status_id  \\\n",
       "0  This is Phineas. He's a mystical boy. Only eve...                  NaN   \n",
       "1  This is Tilly. She's just checking pup on you....                  NaN   \n",
       "2  This is Archie. He is a rare Norwegian Pouncin...                  NaN   \n",
       "3  This is Darla. She commenced a snooze mid meal...                  NaN   \n",
       "4  This is Franklin. He would like you to stop ca...                  NaN   \n",
       "5  Here we have a majestic great white breaching ...                  NaN   \n",
       "6  Meet Jax. He enjoys ice cream so much he gets ...                  NaN   \n",
       "7  When you watch your owner call another dog a g...                  NaN   \n",
       "8  This is Zoey. She doesn't want to be one of th...                  NaN   \n",
       "9  This is Cassie. She is a college pup. Studying...                  NaN   \n",
       "\n",
       "   retweeted_status_user_id retweeted_status_timestamp  \\\n",
       "0                       NaN                        NaN   \n",
       "1                       NaN                        NaN   \n",
       "2                       NaN                        NaN   \n",
       "3                       NaN                        NaN   \n",
       "4                       NaN                        NaN   \n",
       "5                       NaN                        NaN   \n",
       "6                       NaN                        NaN   \n",
       "7                       NaN                        NaN   \n",
       "8                       NaN                        NaN   \n",
       "9                       NaN                        NaN   \n",
       "\n",
       "                                       expanded_urls  rating_numerator  \\\n",
       "0  https://twitter.com/dog_rates/status/892420643...                13   \n",
       "1  https://twitter.com/dog_rates/status/892177421...                13   \n",
       "2  https://twitter.com/dog_rates/status/891815181...                12   \n",
       "3  https://twitter.com/dog_rates/status/891689557...                13   \n",
       "4  https://twitter.com/dog_rates/status/891327558...                12   \n",
       "5  https://twitter.com/dog_rates/status/891087950...                13   \n",
       "6  https://gofundme.com/ydvmve-surgery-for-jax,ht...                13   \n",
       "7  https://twitter.com/dog_rates/status/890729181...                13   \n",
       "8  https://twitter.com/dog_rates/status/890609185...                13   \n",
       "9  https://twitter.com/dog_rates/status/890240255...                14   \n",
       "\n",
       "   rating_denominator      name  doggo floofer pupper puppo  \n",
       "0                  10   Phineas   None    None   None  None  \n",
       "1                  10     Tilly   None    None   None  None  \n",
       "2                  10    Archie   None    None   None  None  \n",
       "3                  10     Darla   None    None   None  None  \n",
       "4                  10  Franklin   None    None   None  None  \n",
       "5                  10      None   None    None   None  None  \n",
       "6                  10       Jax   None    None   None  None  \n",
       "7                  10      None   None    None   None  None  \n",
       "8                  10      Zoey   None    None   None  None  \n",
       "9                  10    Cassie  doggo    None   None  None  "
      ]
     },
     "execution_count": 78,
     "metadata": {},
     "output_type": "execute_result"
    }
   ],
   "source": [
    "# Display the first 10 rows of the twitter-archive-enhanced DataFrame using .head\n",
    "df_1.head(10)"
   ]
  },
  {
   "cell_type": "code",
   "execution_count": 9,
   "id": "d9702ea4",
   "metadata": {},
   "outputs": [
    {
     "data": {
      "text/html": [
       "<div>\n",
       "<style scoped>\n",
       "    .dataframe tbody tr th:only-of-type {\n",
       "        vertical-align: middle;\n",
       "    }\n",
       "\n",
       "    .dataframe tbody tr th {\n",
       "        vertical-align: top;\n",
       "    }\n",
       "\n",
       "    .dataframe thead th {\n",
       "        text-align: right;\n",
       "    }\n",
       "</style>\n",
       "<table border=\"1\" class=\"dataframe\">\n",
       "  <thead>\n",
       "    <tr style=\"text-align: right;\">\n",
       "      <th></th>\n",
       "      <th>tweet_id</th>\n",
       "      <th>jpg_url</th>\n",
       "      <th>img_num</th>\n",
       "      <th>p1</th>\n",
       "      <th>p1_conf</th>\n",
       "      <th>p1_dog</th>\n",
       "      <th>p2</th>\n",
       "      <th>p2_conf</th>\n",
       "      <th>p2_dog</th>\n",
       "      <th>p3</th>\n",
       "      <th>p3_conf</th>\n",
       "      <th>p3_dog</th>\n",
       "    </tr>\n",
       "  </thead>\n",
       "  <tbody>\n",
       "    <tr>\n",
       "      <th>0</th>\n",
       "      <td>666020888022790149</td>\n",
       "      <td>https://pbs.twimg.com/media/CT4udn0WwAA0aMy.jpg</td>\n",
       "      <td>1</td>\n",
       "      <td>Welsh_springer_spaniel</td>\n",
       "      <td>0.465074</td>\n",
       "      <td>True</td>\n",
       "      <td>collie</td>\n",
       "      <td>0.156665</td>\n",
       "      <td>True</td>\n",
       "      <td>Shetland_sheepdog</td>\n",
       "      <td>0.061428</td>\n",
       "      <td>True</td>\n",
       "    </tr>\n",
       "    <tr>\n",
       "      <th>1</th>\n",
       "      <td>666029285002620928</td>\n",
       "      <td>https://pbs.twimg.com/media/CT42GRgUYAA5iDo.jpg</td>\n",
       "      <td>1</td>\n",
       "      <td>redbone</td>\n",
       "      <td>0.506826</td>\n",
       "      <td>True</td>\n",
       "      <td>miniature_pinscher</td>\n",
       "      <td>0.074192</td>\n",
       "      <td>True</td>\n",
       "      <td>Rhodesian_ridgeback</td>\n",
       "      <td>0.072010</td>\n",
       "      <td>True</td>\n",
       "    </tr>\n",
       "    <tr>\n",
       "      <th>2</th>\n",
       "      <td>666033412701032449</td>\n",
       "      <td>https://pbs.twimg.com/media/CT4521TWwAEvMyu.jpg</td>\n",
       "      <td>1</td>\n",
       "      <td>German_shepherd</td>\n",
       "      <td>0.596461</td>\n",
       "      <td>True</td>\n",
       "      <td>malinois</td>\n",
       "      <td>0.138584</td>\n",
       "      <td>True</td>\n",
       "      <td>bloodhound</td>\n",
       "      <td>0.116197</td>\n",
       "      <td>True</td>\n",
       "    </tr>\n",
       "    <tr>\n",
       "      <th>3</th>\n",
       "      <td>666044226329800704</td>\n",
       "      <td>https://pbs.twimg.com/media/CT5Dr8HUEAA-lEu.jpg</td>\n",
       "      <td>1</td>\n",
       "      <td>Rhodesian_ridgeback</td>\n",
       "      <td>0.408143</td>\n",
       "      <td>True</td>\n",
       "      <td>redbone</td>\n",
       "      <td>0.360687</td>\n",
       "      <td>True</td>\n",
       "      <td>miniature_pinscher</td>\n",
       "      <td>0.222752</td>\n",
       "      <td>True</td>\n",
       "    </tr>\n",
       "    <tr>\n",
       "      <th>4</th>\n",
       "      <td>666049248165822465</td>\n",
       "      <td>https://pbs.twimg.com/media/CT5IQmsXIAAKY4A.jpg</td>\n",
       "      <td>1</td>\n",
       "      <td>miniature_pinscher</td>\n",
       "      <td>0.560311</td>\n",
       "      <td>True</td>\n",
       "      <td>Rottweiler</td>\n",
       "      <td>0.243682</td>\n",
       "      <td>True</td>\n",
       "      <td>Doberman</td>\n",
       "      <td>0.154629</td>\n",
       "      <td>True</td>\n",
       "    </tr>\n",
       "    <tr>\n",
       "      <th>5</th>\n",
       "      <td>666050758794694657</td>\n",
       "      <td>https://pbs.twimg.com/media/CT5Jof1WUAEuVxN.jpg</td>\n",
       "      <td>1</td>\n",
       "      <td>Bernese_mountain_dog</td>\n",
       "      <td>0.651137</td>\n",
       "      <td>True</td>\n",
       "      <td>English_springer</td>\n",
       "      <td>0.263788</td>\n",
       "      <td>True</td>\n",
       "      <td>Greater_Swiss_Mountain_dog</td>\n",
       "      <td>0.016199</td>\n",
       "      <td>True</td>\n",
       "    </tr>\n",
       "    <tr>\n",
       "      <th>6</th>\n",
       "      <td>666051853826850816</td>\n",
       "      <td>https://pbs.twimg.com/media/CT5KoJ1WoAAJash.jpg</td>\n",
       "      <td>1</td>\n",
       "      <td>box_turtle</td>\n",
       "      <td>0.933012</td>\n",
       "      <td>False</td>\n",
       "      <td>mud_turtle</td>\n",
       "      <td>0.045885</td>\n",
       "      <td>False</td>\n",
       "      <td>terrapin</td>\n",
       "      <td>0.017885</td>\n",
       "      <td>False</td>\n",
       "    </tr>\n",
       "    <tr>\n",
       "      <th>7</th>\n",
       "      <td>666055525042405380</td>\n",
       "      <td>https://pbs.twimg.com/media/CT5N9tpXIAAifs1.jpg</td>\n",
       "      <td>1</td>\n",
       "      <td>chow</td>\n",
       "      <td>0.692517</td>\n",
       "      <td>True</td>\n",
       "      <td>Tibetan_mastiff</td>\n",
       "      <td>0.058279</td>\n",
       "      <td>True</td>\n",
       "      <td>fur_coat</td>\n",
       "      <td>0.054449</td>\n",
       "      <td>False</td>\n",
       "    </tr>\n",
       "    <tr>\n",
       "      <th>8</th>\n",
       "      <td>666057090499244032</td>\n",
       "      <td>https://pbs.twimg.com/media/CT5PY90WoAAQGLo.jpg</td>\n",
       "      <td>1</td>\n",
       "      <td>shopping_cart</td>\n",
       "      <td>0.962465</td>\n",
       "      <td>False</td>\n",
       "      <td>shopping_basket</td>\n",
       "      <td>0.014594</td>\n",
       "      <td>False</td>\n",
       "      <td>golden_retriever</td>\n",
       "      <td>0.007959</td>\n",
       "      <td>True</td>\n",
       "    </tr>\n",
       "    <tr>\n",
       "      <th>9</th>\n",
       "      <td>666058600524156928</td>\n",
       "      <td>https://pbs.twimg.com/media/CT5Qw94XAAA_2dP.jpg</td>\n",
       "      <td>1</td>\n",
       "      <td>miniature_poodle</td>\n",
       "      <td>0.201493</td>\n",
       "      <td>True</td>\n",
       "      <td>komondor</td>\n",
       "      <td>0.192305</td>\n",
       "      <td>True</td>\n",
       "      <td>soft-coated_wheaten_terrier</td>\n",
       "      <td>0.082086</td>\n",
       "      <td>True</td>\n",
       "    </tr>\n",
       "  </tbody>\n",
       "</table>\n",
       "</div>"
      ],
      "text/plain": [
       "             tweet_id                                          jpg_url  \\\n",
       "0  666020888022790149  https://pbs.twimg.com/media/CT4udn0WwAA0aMy.jpg   \n",
       "1  666029285002620928  https://pbs.twimg.com/media/CT42GRgUYAA5iDo.jpg   \n",
       "2  666033412701032449  https://pbs.twimg.com/media/CT4521TWwAEvMyu.jpg   \n",
       "3  666044226329800704  https://pbs.twimg.com/media/CT5Dr8HUEAA-lEu.jpg   \n",
       "4  666049248165822465  https://pbs.twimg.com/media/CT5IQmsXIAAKY4A.jpg   \n",
       "5  666050758794694657  https://pbs.twimg.com/media/CT5Jof1WUAEuVxN.jpg   \n",
       "6  666051853826850816  https://pbs.twimg.com/media/CT5KoJ1WoAAJash.jpg   \n",
       "7  666055525042405380  https://pbs.twimg.com/media/CT5N9tpXIAAifs1.jpg   \n",
       "8  666057090499244032  https://pbs.twimg.com/media/CT5PY90WoAAQGLo.jpg   \n",
       "9  666058600524156928  https://pbs.twimg.com/media/CT5Qw94XAAA_2dP.jpg   \n",
       "\n",
       "   img_num                      p1   p1_conf  p1_dog                  p2  \\\n",
       "0        1  Welsh_springer_spaniel  0.465074    True              collie   \n",
       "1        1                 redbone  0.506826    True  miniature_pinscher   \n",
       "2        1         German_shepherd  0.596461    True            malinois   \n",
       "3        1     Rhodesian_ridgeback  0.408143    True             redbone   \n",
       "4        1      miniature_pinscher  0.560311    True          Rottweiler   \n",
       "5        1    Bernese_mountain_dog  0.651137    True    English_springer   \n",
       "6        1              box_turtle  0.933012   False          mud_turtle   \n",
       "7        1                    chow  0.692517    True     Tibetan_mastiff   \n",
       "8        1           shopping_cart  0.962465   False     shopping_basket   \n",
       "9        1        miniature_poodle  0.201493    True            komondor   \n",
       "\n",
       "    p2_conf  p2_dog                           p3   p3_conf  p3_dog  \n",
       "0  0.156665    True            Shetland_sheepdog  0.061428    True  \n",
       "1  0.074192    True          Rhodesian_ridgeback  0.072010    True  \n",
       "2  0.138584    True                   bloodhound  0.116197    True  \n",
       "3  0.360687    True           miniature_pinscher  0.222752    True  \n",
       "4  0.243682    True                     Doberman  0.154629    True  \n",
       "5  0.263788    True   Greater_Swiss_Mountain_dog  0.016199    True  \n",
       "6  0.045885   False                     terrapin  0.017885   False  \n",
       "7  0.058279    True                     fur_coat  0.054449   False  \n",
       "8  0.014594   False             golden_retriever  0.007959    True  \n",
       "9  0.192305    True  soft-coated_wheaten_terrier  0.082086    True  "
      ]
     },
     "execution_count": 9,
     "metadata": {},
     "output_type": "execute_result"
    }
   ],
   "source": [
    "# Display the first 10 rows of the image predictions DataFrame\n",
    "predictions.head(10)"
   ]
  },
  {
   "cell_type": "code",
   "execution_count": 10,
   "id": "8204bb9e",
   "metadata": {},
   "outputs": [
    {
     "data": {
      "text/html": [
       "<div>\n",
       "<style scoped>\n",
       "    .dataframe tbody tr th:only-of-type {\n",
       "        vertical-align: middle;\n",
       "    }\n",
       "\n",
       "    .dataframe tbody tr th {\n",
       "        vertical-align: top;\n",
       "    }\n",
       "\n",
       "    .dataframe thead th {\n",
       "        text-align: right;\n",
       "    }\n",
       "</style>\n",
       "<table border=\"1\" class=\"dataframe\">\n",
       "  <thead>\n",
       "    <tr style=\"text-align: right;\">\n",
       "      <th></th>\n",
       "      <th>tweet_id</th>\n",
       "      <th>retweet_count</th>\n",
       "      <th>favorite_count</th>\n",
       "      <th>hashtags</th>\n",
       "    </tr>\n",
       "  </thead>\n",
       "  <tbody>\n",
       "    <tr>\n",
       "      <th>0</th>\n",
       "      <td>892420643555336193</td>\n",
       "      <td>8853</td>\n",
       "      <td>39467</td>\n",
       "      <td>[]</td>\n",
       "    </tr>\n",
       "    <tr>\n",
       "      <th>1</th>\n",
       "      <td>892177421306343426</td>\n",
       "      <td>6514</td>\n",
       "      <td>33819</td>\n",
       "      <td>[]</td>\n",
       "    </tr>\n",
       "    <tr>\n",
       "      <th>2</th>\n",
       "      <td>891815181378084864</td>\n",
       "      <td>4328</td>\n",
       "      <td>25461</td>\n",
       "      <td>[]</td>\n",
       "    </tr>\n",
       "    <tr>\n",
       "      <th>3</th>\n",
       "      <td>891689557279858688</td>\n",
       "      <td>8964</td>\n",
       "      <td>42908</td>\n",
       "      <td>[]</td>\n",
       "    </tr>\n",
       "    <tr>\n",
       "      <th>4</th>\n",
       "      <td>891327558926688256</td>\n",
       "      <td>9774</td>\n",
       "      <td>41048</td>\n",
       "      <td>[{'text': 'BarkWeek', 'indices': [129, 138]}]</td>\n",
       "    </tr>\n",
       "    <tr>\n",
       "      <th>5</th>\n",
       "      <td>891087950875897856</td>\n",
       "      <td>3261</td>\n",
       "      <td>20562</td>\n",
       "      <td>[{'text': 'BarkWeek', 'indices': [129, 138]}]</td>\n",
       "    </tr>\n",
       "    <tr>\n",
       "      <th>6</th>\n",
       "      <td>890971913173991426</td>\n",
       "      <td>2158</td>\n",
       "      <td>12041</td>\n",
       "      <td>[]</td>\n",
       "    </tr>\n",
       "    <tr>\n",
       "      <th>7</th>\n",
       "      <td>890729181411237888</td>\n",
       "      <td>16716</td>\n",
       "      <td>56848</td>\n",
       "      <td>[]</td>\n",
       "    </tr>\n",
       "    <tr>\n",
       "      <th>8</th>\n",
       "      <td>890609185150312448</td>\n",
       "      <td>4429</td>\n",
       "      <td>28226</td>\n",
       "      <td>[{'text': 'BarkWeek', 'indices': [113, 122]}]</td>\n",
       "    </tr>\n",
       "    <tr>\n",
       "      <th>9</th>\n",
       "      <td>890240255349198849</td>\n",
       "      <td>7711</td>\n",
       "      <td>32467</td>\n",
       "      <td>[]</td>\n",
       "    </tr>\n",
       "  </tbody>\n",
       "</table>\n",
       "</div>"
      ],
      "text/plain": [
       "             tweet_id  retweet_count  favorite_count  \\\n",
       "0  892420643555336193           8853           39467   \n",
       "1  892177421306343426           6514           33819   \n",
       "2  891815181378084864           4328           25461   \n",
       "3  891689557279858688           8964           42908   \n",
       "4  891327558926688256           9774           41048   \n",
       "5  891087950875897856           3261           20562   \n",
       "6  890971913173991426           2158           12041   \n",
       "7  890729181411237888          16716           56848   \n",
       "8  890609185150312448           4429           28226   \n",
       "9  890240255349198849           7711           32467   \n",
       "\n",
       "                                        hashtags  \n",
       "0                                             []  \n",
       "1                                             []  \n",
       "2                                             []  \n",
       "3                                             []  \n",
       "4  [{'text': 'BarkWeek', 'indices': [129, 138]}]  \n",
       "5  [{'text': 'BarkWeek', 'indices': [129, 138]}]  \n",
       "6                                             []  \n",
       "7                                             []  \n",
       "8  [{'text': 'BarkWeek', 'indices': [113, 122]}]  \n",
       "9                                             []  "
      ]
     },
     "execution_count": 10,
     "metadata": {},
     "output_type": "execute_result"
    }
   ],
   "source": [
    "# Display the first 10 rows of the additional data DataFrame\n",
    "api_data.head(10)"
   ]
  },
  {
   "cell_type": "markdown",
   "id": "67a0b6bc",
   "metadata": {},
   "source": [
    "### <font color='red'>Quality Issues:</font>\n",
    "\n",
    "##### `archive and api data`\n",
    "- both datasets still contain non-original tweets and tweets without images\n",
    "- There are unneeded issues in the datasets\n",
    "- expanded_urls sometimes contains multiple urls, which in at least some cases are identical\n",
    "- hashtags column contains multiple hashtags\n",
    "- wrong column type (timestamp should be date/time, some numerous columns need to be string, not numeric, and Hashtags column   will be better as boolean).\n",
    "- no overall 'rating' for purposes of looking at which dogs rated highest (considering not all denominators are 10)\n",
    "- name colum has too many values\n",
    "\n",
    "#####  `predictions data`\n",
    "- pictures are sometimes repeated; some appear to correspond to old retweets\n",
    "\n",
    "##### `hashtags data`\n",
    "- hashtags column includes bad formatting or irrelevant data\n",
    "\n",
    "### <font color='red'>Tidiness Issues:</font>\n",
    "\n",
    "- Tables must be joined at the end\n",
    "\n",
    "##### `archive data & predictions Data`\n",
    "- Type of dog [doggo, floofer, pupper, puppo] should be one column.\n",
    "\n"
   ]
  },
  {
   "cell_type": "markdown",
   "id": "9a720248",
   "metadata": {},
   "source": [
    "## Cleaning Data: Part 1"
   ]
  },
  {
   "cell_type": "markdown",
   "id": "87855f4a",
   "metadata": {},
   "source": [
    "#### Making a copy of the original data before cleaning"
   ]
  },
  {
   "cell_type": "code",
   "execution_count": 79,
   "id": "4334ed6d",
   "metadata": {},
   "outputs": [],
   "source": [
    "archive_clean = df_1.copy()\n",
    "predictions_clean = predictions.copy()\n",
    "api_data_clean = api_data.copy()"
   ]
  },
  {
   "cell_type": "code",
   "execution_count": 80,
   "id": "d08996df",
   "metadata": {},
   "outputs": [
    {
     "data": {
      "text/html": [
       "<div>\n",
       "<style scoped>\n",
       "    .dataframe tbody tr th:only-of-type {\n",
       "        vertical-align: middle;\n",
       "    }\n",
       "\n",
       "    .dataframe tbody tr th {\n",
       "        vertical-align: top;\n",
       "    }\n",
       "\n",
       "    .dataframe thead th {\n",
       "        text-align: right;\n",
       "    }\n",
       "</style>\n",
       "<table border=\"1\" class=\"dataframe\">\n",
       "  <thead>\n",
       "    <tr style=\"text-align: right;\">\n",
       "      <th></th>\n",
       "      <th>tweet_id</th>\n",
       "      <th>in_reply_to_status_id</th>\n",
       "      <th>in_reply_to_user_id</th>\n",
       "      <th>timestamp</th>\n",
       "      <th>source</th>\n",
       "      <th>text</th>\n",
       "      <th>retweeted_status_id</th>\n",
       "      <th>retweeted_status_user_id</th>\n",
       "      <th>retweeted_status_timestamp</th>\n",
       "      <th>expanded_urls</th>\n",
       "      <th>rating_numerator</th>\n",
       "      <th>rating_denominator</th>\n",
       "      <th>name</th>\n",
       "      <th>doggo</th>\n",
       "      <th>floofer</th>\n",
       "      <th>pupper</th>\n",
       "      <th>puppo</th>\n",
       "    </tr>\n",
       "  </thead>\n",
       "  <tbody>\n",
       "    <tr>\n",
       "      <th>0</th>\n",
       "      <td>892420643555336193</td>\n",
       "      <td>NaN</td>\n",
       "      <td>NaN</td>\n",
       "      <td>2017-08-01 16:23:56 +0000</td>\n",
       "      <td>&lt;a href=\"http://twitter.com/download/iphone\" r...</td>\n",
       "      <td>This is Phineas. He's a mystical boy. Only eve...</td>\n",
       "      <td>NaN</td>\n",
       "      <td>NaN</td>\n",
       "      <td>NaN</td>\n",
       "      <td>https://twitter.com/dog_rates/status/892420643...</td>\n",
       "      <td>13</td>\n",
       "      <td>10</td>\n",
       "      <td>Phineas</td>\n",
       "      <td>None</td>\n",
       "      <td>None</td>\n",
       "      <td>None</td>\n",
       "      <td>None</td>\n",
       "    </tr>\n",
       "    <tr>\n",
       "      <th>1</th>\n",
       "      <td>892177421306343426</td>\n",
       "      <td>NaN</td>\n",
       "      <td>NaN</td>\n",
       "      <td>2017-08-01 00:17:27 +0000</td>\n",
       "      <td>&lt;a href=\"http://twitter.com/download/iphone\" r...</td>\n",
       "      <td>This is Tilly. She's just checking pup on you....</td>\n",
       "      <td>NaN</td>\n",
       "      <td>NaN</td>\n",
       "      <td>NaN</td>\n",
       "      <td>https://twitter.com/dog_rates/status/892177421...</td>\n",
       "      <td>13</td>\n",
       "      <td>10</td>\n",
       "      <td>Tilly</td>\n",
       "      <td>None</td>\n",
       "      <td>None</td>\n",
       "      <td>None</td>\n",
       "      <td>None</td>\n",
       "    </tr>\n",
       "    <tr>\n",
       "      <th>2</th>\n",
       "      <td>891815181378084864</td>\n",
       "      <td>NaN</td>\n",
       "      <td>NaN</td>\n",
       "      <td>2017-07-31 00:18:03 +0000</td>\n",
       "      <td>&lt;a href=\"http://twitter.com/download/iphone\" r...</td>\n",
       "      <td>This is Archie. He is a rare Norwegian Pouncin...</td>\n",
       "      <td>NaN</td>\n",
       "      <td>NaN</td>\n",
       "      <td>NaN</td>\n",
       "      <td>https://twitter.com/dog_rates/status/891815181...</td>\n",
       "      <td>12</td>\n",
       "      <td>10</td>\n",
       "      <td>Archie</td>\n",
       "      <td>None</td>\n",
       "      <td>None</td>\n",
       "      <td>None</td>\n",
       "      <td>None</td>\n",
       "    </tr>\n",
       "    <tr>\n",
       "      <th>3</th>\n",
       "      <td>891689557279858688</td>\n",
       "      <td>NaN</td>\n",
       "      <td>NaN</td>\n",
       "      <td>2017-07-30 15:58:51 +0000</td>\n",
       "      <td>&lt;a href=\"http://twitter.com/download/iphone\" r...</td>\n",
       "      <td>This is Darla. She commenced a snooze mid meal...</td>\n",
       "      <td>NaN</td>\n",
       "      <td>NaN</td>\n",
       "      <td>NaN</td>\n",
       "      <td>https://twitter.com/dog_rates/status/891689557...</td>\n",
       "      <td>13</td>\n",
       "      <td>10</td>\n",
       "      <td>Darla</td>\n",
       "      <td>None</td>\n",
       "      <td>None</td>\n",
       "      <td>None</td>\n",
       "      <td>None</td>\n",
       "    </tr>\n",
       "    <tr>\n",
       "      <th>4</th>\n",
       "      <td>891327558926688256</td>\n",
       "      <td>NaN</td>\n",
       "      <td>NaN</td>\n",
       "      <td>2017-07-29 16:00:24 +0000</td>\n",
       "      <td>&lt;a href=\"http://twitter.com/download/iphone\" r...</td>\n",
       "      <td>This is Franklin. He would like you to stop ca...</td>\n",
       "      <td>NaN</td>\n",
       "      <td>NaN</td>\n",
       "      <td>NaN</td>\n",
       "      <td>https://twitter.com/dog_rates/status/891327558...</td>\n",
       "      <td>12</td>\n",
       "      <td>10</td>\n",
       "      <td>Franklin</td>\n",
       "      <td>None</td>\n",
       "      <td>None</td>\n",
       "      <td>None</td>\n",
       "      <td>None</td>\n",
       "    </tr>\n",
       "    <tr>\n",
       "      <th>5</th>\n",
       "      <td>891087950875897856</td>\n",
       "      <td>NaN</td>\n",
       "      <td>NaN</td>\n",
       "      <td>2017-07-29 00:08:17 +0000</td>\n",
       "      <td>&lt;a href=\"http://twitter.com/download/iphone\" r...</td>\n",
       "      <td>Here we have a majestic great white breaching ...</td>\n",
       "      <td>NaN</td>\n",
       "      <td>NaN</td>\n",
       "      <td>NaN</td>\n",
       "      <td>https://twitter.com/dog_rates/status/891087950...</td>\n",
       "      <td>13</td>\n",
       "      <td>10</td>\n",
       "      <td>None</td>\n",
       "      <td>None</td>\n",
       "      <td>None</td>\n",
       "      <td>None</td>\n",
       "      <td>None</td>\n",
       "    </tr>\n",
       "    <tr>\n",
       "      <th>6</th>\n",
       "      <td>890971913173991426</td>\n",
       "      <td>NaN</td>\n",
       "      <td>NaN</td>\n",
       "      <td>2017-07-28 16:27:12 +0000</td>\n",
       "      <td>&lt;a href=\"http://twitter.com/download/iphone\" r...</td>\n",
       "      <td>Meet Jax. He enjoys ice cream so much he gets ...</td>\n",
       "      <td>NaN</td>\n",
       "      <td>NaN</td>\n",
       "      <td>NaN</td>\n",
       "      <td>https://gofundme.com/ydvmve-surgery-for-jax,ht...</td>\n",
       "      <td>13</td>\n",
       "      <td>10</td>\n",
       "      <td>Jax</td>\n",
       "      <td>None</td>\n",
       "      <td>None</td>\n",
       "      <td>None</td>\n",
       "      <td>None</td>\n",
       "    </tr>\n",
       "    <tr>\n",
       "      <th>7</th>\n",
       "      <td>890729181411237888</td>\n",
       "      <td>NaN</td>\n",
       "      <td>NaN</td>\n",
       "      <td>2017-07-28 00:22:40 +0000</td>\n",
       "      <td>&lt;a href=\"http://twitter.com/download/iphone\" r...</td>\n",
       "      <td>When you watch your owner call another dog a g...</td>\n",
       "      <td>NaN</td>\n",
       "      <td>NaN</td>\n",
       "      <td>NaN</td>\n",
       "      <td>https://twitter.com/dog_rates/status/890729181...</td>\n",
       "      <td>13</td>\n",
       "      <td>10</td>\n",
       "      <td>None</td>\n",
       "      <td>None</td>\n",
       "      <td>None</td>\n",
       "      <td>None</td>\n",
       "      <td>None</td>\n",
       "    </tr>\n",
       "    <tr>\n",
       "      <th>8</th>\n",
       "      <td>890609185150312448</td>\n",
       "      <td>NaN</td>\n",
       "      <td>NaN</td>\n",
       "      <td>2017-07-27 16:25:51 +0000</td>\n",
       "      <td>&lt;a href=\"http://twitter.com/download/iphone\" r...</td>\n",
       "      <td>This is Zoey. She doesn't want to be one of th...</td>\n",
       "      <td>NaN</td>\n",
       "      <td>NaN</td>\n",
       "      <td>NaN</td>\n",
       "      <td>https://twitter.com/dog_rates/status/890609185...</td>\n",
       "      <td>13</td>\n",
       "      <td>10</td>\n",
       "      <td>Zoey</td>\n",
       "      <td>None</td>\n",
       "      <td>None</td>\n",
       "      <td>None</td>\n",
       "      <td>None</td>\n",
       "    </tr>\n",
       "    <tr>\n",
       "      <th>9</th>\n",
       "      <td>890240255349198849</td>\n",
       "      <td>NaN</td>\n",
       "      <td>NaN</td>\n",
       "      <td>2017-07-26 15:59:51 +0000</td>\n",
       "      <td>&lt;a href=\"http://twitter.com/download/iphone\" r...</td>\n",
       "      <td>This is Cassie. She is a college pup. Studying...</td>\n",
       "      <td>NaN</td>\n",
       "      <td>NaN</td>\n",
       "      <td>NaN</td>\n",
       "      <td>https://twitter.com/dog_rates/status/890240255...</td>\n",
       "      <td>14</td>\n",
       "      <td>10</td>\n",
       "      <td>Cassie</td>\n",
       "      <td>doggo</td>\n",
       "      <td>None</td>\n",
       "      <td>None</td>\n",
       "      <td>None</td>\n",
       "    </tr>\n",
       "  </tbody>\n",
       "</table>\n",
       "</div>"
      ],
      "text/plain": [
       "             tweet_id  in_reply_to_status_id  in_reply_to_user_id  \\\n",
       "0  892420643555336193                    NaN                  NaN   \n",
       "1  892177421306343426                    NaN                  NaN   \n",
       "2  891815181378084864                    NaN                  NaN   \n",
       "3  891689557279858688                    NaN                  NaN   \n",
       "4  891327558926688256                    NaN                  NaN   \n",
       "5  891087950875897856                    NaN                  NaN   \n",
       "6  890971913173991426                    NaN                  NaN   \n",
       "7  890729181411237888                    NaN                  NaN   \n",
       "8  890609185150312448                    NaN                  NaN   \n",
       "9  890240255349198849                    NaN                  NaN   \n",
       "\n",
       "                   timestamp  \\\n",
       "0  2017-08-01 16:23:56 +0000   \n",
       "1  2017-08-01 00:17:27 +0000   \n",
       "2  2017-07-31 00:18:03 +0000   \n",
       "3  2017-07-30 15:58:51 +0000   \n",
       "4  2017-07-29 16:00:24 +0000   \n",
       "5  2017-07-29 00:08:17 +0000   \n",
       "6  2017-07-28 16:27:12 +0000   \n",
       "7  2017-07-28 00:22:40 +0000   \n",
       "8  2017-07-27 16:25:51 +0000   \n",
       "9  2017-07-26 15:59:51 +0000   \n",
       "\n",
       "                                              source  \\\n",
       "0  <a href=\"http://twitter.com/download/iphone\" r...   \n",
       "1  <a href=\"http://twitter.com/download/iphone\" r...   \n",
       "2  <a href=\"http://twitter.com/download/iphone\" r...   \n",
       "3  <a href=\"http://twitter.com/download/iphone\" r...   \n",
       "4  <a href=\"http://twitter.com/download/iphone\" r...   \n",
       "5  <a href=\"http://twitter.com/download/iphone\" r...   \n",
       "6  <a href=\"http://twitter.com/download/iphone\" r...   \n",
       "7  <a href=\"http://twitter.com/download/iphone\" r...   \n",
       "8  <a href=\"http://twitter.com/download/iphone\" r...   \n",
       "9  <a href=\"http://twitter.com/download/iphone\" r...   \n",
       "\n",
       "                                                text  retweeted_status_id  \\\n",
       "0  This is Phineas. He's a mystical boy. Only eve...                  NaN   \n",
       "1  This is Tilly. She's just checking pup on you....                  NaN   \n",
       "2  This is Archie. He is a rare Norwegian Pouncin...                  NaN   \n",
       "3  This is Darla. She commenced a snooze mid meal...                  NaN   \n",
       "4  This is Franklin. He would like you to stop ca...                  NaN   \n",
       "5  Here we have a majestic great white breaching ...                  NaN   \n",
       "6  Meet Jax. He enjoys ice cream so much he gets ...                  NaN   \n",
       "7  When you watch your owner call another dog a g...                  NaN   \n",
       "8  This is Zoey. She doesn't want to be one of th...                  NaN   \n",
       "9  This is Cassie. She is a college pup. Studying...                  NaN   \n",
       "\n",
       "   retweeted_status_user_id retweeted_status_timestamp  \\\n",
       "0                       NaN                        NaN   \n",
       "1                       NaN                        NaN   \n",
       "2                       NaN                        NaN   \n",
       "3                       NaN                        NaN   \n",
       "4                       NaN                        NaN   \n",
       "5                       NaN                        NaN   \n",
       "6                       NaN                        NaN   \n",
       "7                       NaN                        NaN   \n",
       "8                       NaN                        NaN   \n",
       "9                       NaN                        NaN   \n",
       "\n",
       "                                       expanded_urls  rating_numerator  \\\n",
       "0  https://twitter.com/dog_rates/status/892420643...                13   \n",
       "1  https://twitter.com/dog_rates/status/892177421...                13   \n",
       "2  https://twitter.com/dog_rates/status/891815181...                12   \n",
       "3  https://twitter.com/dog_rates/status/891689557...                13   \n",
       "4  https://twitter.com/dog_rates/status/891327558...                12   \n",
       "5  https://twitter.com/dog_rates/status/891087950...                13   \n",
       "6  https://gofundme.com/ydvmve-surgery-for-jax,ht...                13   \n",
       "7  https://twitter.com/dog_rates/status/890729181...                13   \n",
       "8  https://twitter.com/dog_rates/status/890609185...                13   \n",
       "9  https://twitter.com/dog_rates/status/890240255...                14   \n",
       "\n",
       "   rating_denominator      name  doggo floofer pupper puppo  \n",
       "0                  10   Phineas   None    None   None  None  \n",
       "1                  10     Tilly   None    None   None  None  \n",
       "2                  10    Archie   None    None   None  None  \n",
       "3                  10     Darla   None    None   None  None  \n",
       "4                  10  Franklin   None    None   None  None  \n",
       "5                  10      None   None    None   None  None  \n",
       "6                  10       Jax   None    None   None  None  \n",
       "7                  10      None   None    None   None  None  \n",
       "8                  10      Zoey   None    None   None  None  \n",
       "9                  10    Cassie  doggo    None   None  None  "
      ]
     },
     "execution_count": 80,
     "metadata": {},
     "output_type": "execute_result"
    }
   ],
   "source": [
    "archive_clean.head(10)"
   ]
  },
  {
   "cell_type": "code",
   "execution_count": 81,
   "id": "33ca6b29",
   "metadata": {},
   "outputs": [
    {
     "data": {
      "text/html": [
       "<div>\n",
       "<style scoped>\n",
       "    .dataframe tbody tr th:only-of-type {\n",
       "        vertical-align: middle;\n",
       "    }\n",
       "\n",
       "    .dataframe tbody tr th {\n",
       "        vertical-align: top;\n",
       "    }\n",
       "\n",
       "    .dataframe thead th {\n",
       "        text-align: right;\n",
       "    }\n",
       "</style>\n",
       "<table border=\"1\" class=\"dataframe\">\n",
       "  <thead>\n",
       "    <tr style=\"text-align: right;\">\n",
       "      <th></th>\n",
       "      <th>tweet_id</th>\n",
       "      <th>jpg_url</th>\n",
       "      <th>img_num</th>\n",
       "      <th>p1</th>\n",
       "      <th>p1_conf</th>\n",
       "      <th>p1_dog</th>\n",
       "      <th>p2</th>\n",
       "      <th>p2_conf</th>\n",
       "      <th>p2_dog</th>\n",
       "      <th>p3</th>\n",
       "      <th>p3_conf</th>\n",
       "      <th>p3_dog</th>\n",
       "    </tr>\n",
       "  </thead>\n",
       "  <tbody>\n",
       "    <tr>\n",
       "      <th>0</th>\n",
       "      <td>666020888022790149</td>\n",
       "      <td>https://pbs.twimg.com/media/CT4udn0WwAA0aMy.jpg</td>\n",
       "      <td>1</td>\n",
       "      <td>Welsh_springer_spaniel</td>\n",
       "      <td>0.465074</td>\n",
       "      <td>True</td>\n",
       "      <td>collie</td>\n",
       "      <td>0.156665</td>\n",
       "      <td>True</td>\n",
       "      <td>Shetland_sheepdog</td>\n",
       "      <td>0.061428</td>\n",
       "      <td>True</td>\n",
       "    </tr>\n",
       "    <tr>\n",
       "      <th>1</th>\n",
       "      <td>666029285002620928</td>\n",
       "      <td>https://pbs.twimg.com/media/CT42GRgUYAA5iDo.jpg</td>\n",
       "      <td>1</td>\n",
       "      <td>redbone</td>\n",
       "      <td>0.506826</td>\n",
       "      <td>True</td>\n",
       "      <td>miniature_pinscher</td>\n",
       "      <td>0.074192</td>\n",
       "      <td>True</td>\n",
       "      <td>Rhodesian_ridgeback</td>\n",
       "      <td>0.072010</td>\n",
       "      <td>True</td>\n",
       "    </tr>\n",
       "    <tr>\n",
       "      <th>2</th>\n",
       "      <td>666033412701032449</td>\n",
       "      <td>https://pbs.twimg.com/media/CT4521TWwAEvMyu.jpg</td>\n",
       "      <td>1</td>\n",
       "      <td>German_shepherd</td>\n",
       "      <td>0.596461</td>\n",
       "      <td>True</td>\n",
       "      <td>malinois</td>\n",
       "      <td>0.138584</td>\n",
       "      <td>True</td>\n",
       "      <td>bloodhound</td>\n",
       "      <td>0.116197</td>\n",
       "      <td>True</td>\n",
       "    </tr>\n",
       "    <tr>\n",
       "      <th>3</th>\n",
       "      <td>666044226329800704</td>\n",
       "      <td>https://pbs.twimg.com/media/CT5Dr8HUEAA-lEu.jpg</td>\n",
       "      <td>1</td>\n",
       "      <td>Rhodesian_ridgeback</td>\n",
       "      <td>0.408143</td>\n",
       "      <td>True</td>\n",
       "      <td>redbone</td>\n",
       "      <td>0.360687</td>\n",
       "      <td>True</td>\n",
       "      <td>miniature_pinscher</td>\n",
       "      <td>0.222752</td>\n",
       "      <td>True</td>\n",
       "    </tr>\n",
       "    <tr>\n",
       "      <th>4</th>\n",
       "      <td>666049248165822465</td>\n",
       "      <td>https://pbs.twimg.com/media/CT5IQmsXIAAKY4A.jpg</td>\n",
       "      <td>1</td>\n",
       "      <td>miniature_pinscher</td>\n",
       "      <td>0.560311</td>\n",
       "      <td>True</td>\n",
       "      <td>Rottweiler</td>\n",
       "      <td>0.243682</td>\n",
       "      <td>True</td>\n",
       "      <td>Doberman</td>\n",
       "      <td>0.154629</td>\n",
       "      <td>True</td>\n",
       "    </tr>\n",
       "    <tr>\n",
       "      <th>5</th>\n",
       "      <td>666050758794694657</td>\n",
       "      <td>https://pbs.twimg.com/media/CT5Jof1WUAEuVxN.jpg</td>\n",
       "      <td>1</td>\n",
       "      <td>Bernese_mountain_dog</td>\n",
       "      <td>0.651137</td>\n",
       "      <td>True</td>\n",
       "      <td>English_springer</td>\n",
       "      <td>0.263788</td>\n",
       "      <td>True</td>\n",
       "      <td>Greater_Swiss_Mountain_dog</td>\n",
       "      <td>0.016199</td>\n",
       "      <td>True</td>\n",
       "    </tr>\n",
       "    <tr>\n",
       "      <th>6</th>\n",
       "      <td>666051853826850816</td>\n",
       "      <td>https://pbs.twimg.com/media/CT5KoJ1WoAAJash.jpg</td>\n",
       "      <td>1</td>\n",
       "      <td>box_turtle</td>\n",
       "      <td>0.933012</td>\n",
       "      <td>False</td>\n",
       "      <td>mud_turtle</td>\n",
       "      <td>0.045885</td>\n",
       "      <td>False</td>\n",
       "      <td>terrapin</td>\n",
       "      <td>0.017885</td>\n",
       "      <td>False</td>\n",
       "    </tr>\n",
       "    <tr>\n",
       "      <th>7</th>\n",
       "      <td>666055525042405380</td>\n",
       "      <td>https://pbs.twimg.com/media/CT5N9tpXIAAifs1.jpg</td>\n",
       "      <td>1</td>\n",
       "      <td>chow</td>\n",
       "      <td>0.692517</td>\n",
       "      <td>True</td>\n",
       "      <td>Tibetan_mastiff</td>\n",
       "      <td>0.058279</td>\n",
       "      <td>True</td>\n",
       "      <td>fur_coat</td>\n",
       "      <td>0.054449</td>\n",
       "      <td>False</td>\n",
       "    </tr>\n",
       "    <tr>\n",
       "      <th>8</th>\n",
       "      <td>666057090499244032</td>\n",
       "      <td>https://pbs.twimg.com/media/CT5PY90WoAAQGLo.jpg</td>\n",
       "      <td>1</td>\n",
       "      <td>shopping_cart</td>\n",
       "      <td>0.962465</td>\n",
       "      <td>False</td>\n",
       "      <td>shopping_basket</td>\n",
       "      <td>0.014594</td>\n",
       "      <td>False</td>\n",
       "      <td>golden_retriever</td>\n",
       "      <td>0.007959</td>\n",
       "      <td>True</td>\n",
       "    </tr>\n",
       "    <tr>\n",
       "      <th>9</th>\n",
       "      <td>666058600524156928</td>\n",
       "      <td>https://pbs.twimg.com/media/CT5Qw94XAAA_2dP.jpg</td>\n",
       "      <td>1</td>\n",
       "      <td>miniature_poodle</td>\n",
       "      <td>0.201493</td>\n",
       "      <td>True</td>\n",
       "      <td>komondor</td>\n",
       "      <td>0.192305</td>\n",
       "      <td>True</td>\n",
       "      <td>soft-coated_wheaten_terrier</td>\n",
       "      <td>0.082086</td>\n",
       "      <td>True</td>\n",
       "    </tr>\n",
       "  </tbody>\n",
       "</table>\n",
       "</div>"
      ],
      "text/plain": [
       "             tweet_id                                          jpg_url  \\\n",
       "0  666020888022790149  https://pbs.twimg.com/media/CT4udn0WwAA0aMy.jpg   \n",
       "1  666029285002620928  https://pbs.twimg.com/media/CT42GRgUYAA5iDo.jpg   \n",
       "2  666033412701032449  https://pbs.twimg.com/media/CT4521TWwAEvMyu.jpg   \n",
       "3  666044226329800704  https://pbs.twimg.com/media/CT5Dr8HUEAA-lEu.jpg   \n",
       "4  666049248165822465  https://pbs.twimg.com/media/CT5IQmsXIAAKY4A.jpg   \n",
       "5  666050758794694657  https://pbs.twimg.com/media/CT5Jof1WUAEuVxN.jpg   \n",
       "6  666051853826850816  https://pbs.twimg.com/media/CT5KoJ1WoAAJash.jpg   \n",
       "7  666055525042405380  https://pbs.twimg.com/media/CT5N9tpXIAAifs1.jpg   \n",
       "8  666057090499244032  https://pbs.twimg.com/media/CT5PY90WoAAQGLo.jpg   \n",
       "9  666058600524156928  https://pbs.twimg.com/media/CT5Qw94XAAA_2dP.jpg   \n",
       "\n",
       "   img_num                      p1   p1_conf  p1_dog                  p2  \\\n",
       "0        1  Welsh_springer_spaniel  0.465074    True              collie   \n",
       "1        1                 redbone  0.506826    True  miniature_pinscher   \n",
       "2        1         German_shepherd  0.596461    True            malinois   \n",
       "3        1     Rhodesian_ridgeback  0.408143    True             redbone   \n",
       "4        1      miniature_pinscher  0.560311    True          Rottweiler   \n",
       "5        1    Bernese_mountain_dog  0.651137    True    English_springer   \n",
       "6        1              box_turtle  0.933012   False          mud_turtle   \n",
       "7        1                    chow  0.692517    True     Tibetan_mastiff   \n",
       "8        1           shopping_cart  0.962465   False     shopping_basket   \n",
       "9        1        miniature_poodle  0.201493    True            komondor   \n",
       "\n",
       "    p2_conf  p2_dog                           p3   p3_conf  p3_dog  \n",
       "0  0.156665    True            Shetland_sheepdog  0.061428    True  \n",
       "1  0.074192    True          Rhodesian_ridgeback  0.072010    True  \n",
       "2  0.138584    True                   bloodhound  0.116197    True  \n",
       "3  0.360687    True           miniature_pinscher  0.222752    True  \n",
       "4  0.243682    True                     Doberman  0.154629    True  \n",
       "5  0.263788    True   Greater_Swiss_Mountain_dog  0.016199    True  \n",
       "6  0.045885   False                     terrapin  0.017885   False  \n",
       "7  0.058279    True                     fur_coat  0.054449   False  \n",
       "8  0.014594   False             golden_retriever  0.007959    True  \n",
       "9  0.192305    True  soft-coated_wheaten_terrier  0.082086    True  "
      ]
     },
     "execution_count": 81,
     "metadata": {},
     "output_type": "execute_result"
    }
   ],
   "source": [
    "predictions_clean.head(10)\n",
    "# predictions_clean.info()"
   ]
  },
  {
   "cell_type": "code",
   "execution_count": 82,
   "id": "93480eba",
   "metadata": {},
   "outputs": [
    {
     "data": {
      "text/html": [
       "<div>\n",
       "<style scoped>\n",
       "    .dataframe tbody tr th:only-of-type {\n",
       "        vertical-align: middle;\n",
       "    }\n",
       "\n",
       "    .dataframe tbody tr th {\n",
       "        vertical-align: top;\n",
       "    }\n",
       "\n",
       "    .dataframe thead th {\n",
       "        text-align: right;\n",
       "    }\n",
       "</style>\n",
       "<table border=\"1\" class=\"dataframe\">\n",
       "  <thead>\n",
       "    <tr style=\"text-align: right;\">\n",
       "      <th></th>\n",
       "      <th>tweet_id</th>\n",
       "      <th>retweet_count</th>\n",
       "      <th>favorite_count</th>\n",
       "      <th>hashtags</th>\n",
       "    </tr>\n",
       "  </thead>\n",
       "  <tbody>\n",
       "    <tr>\n",
       "      <th>0</th>\n",
       "      <td>892420643555336193</td>\n",
       "      <td>8853</td>\n",
       "      <td>39467</td>\n",
       "      <td>[]</td>\n",
       "    </tr>\n",
       "    <tr>\n",
       "      <th>1</th>\n",
       "      <td>892177421306343426</td>\n",
       "      <td>6514</td>\n",
       "      <td>33819</td>\n",
       "      <td>[]</td>\n",
       "    </tr>\n",
       "    <tr>\n",
       "      <th>2</th>\n",
       "      <td>891815181378084864</td>\n",
       "      <td>4328</td>\n",
       "      <td>25461</td>\n",
       "      <td>[]</td>\n",
       "    </tr>\n",
       "    <tr>\n",
       "      <th>3</th>\n",
       "      <td>891689557279858688</td>\n",
       "      <td>8964</td>\n",
       "      <td>42908</td>\n",
       "      <td>[]</td>\n",
       "    </tr>\n",
       "    <tr>\n",
       "      <th>4</th>\n",
       "      <td>891327558926688256</td>\n",
       "      <td>9774</td>\n",
       "      <td>41048</td>\n",
       "      <td>[{'text': 'BarkWeek', 'indices': [129, 138]}]</td>\n",
       "    </tr>\n",
       "    <tr>\n",
       "      <th>5</th>\n",
       "      <td>891087950875897856</td>\n",
       "      <td>3261</td>\n",
       "      <td>20562</td>\n",
       "      <td>[{'text': 'BarkWeek', 'indices': [129, 138]}]</td>\n",
       "    </tr>\n",
       "    <tr>\n",
       "      <th>6</th>\n",
       "      <td>890971913173991426</td>\n",
       "      <td>2158</td>\n",
       "      <td>12041</td>\n",
       "      <td>[]</td>\n",
       "    </tr>\n",
       "    <tr>\n",
       "      <th>7</th>\n",
       "      <td>890729181411237888</td>\n",
       "      <td>16716</td>\n",
       "      <td>56848</td>\n",
       "      <td>[]</td>\n",
       "    </tr>\n",
       "    <tr>\n",
       "      <th>8</th>\n",
       "      <td>890609185150312448</td>\n",
       "      <td>4429</td>\n",
       "      <td>28226</td>\n",
       "      <td>[{'text': 'BarkWeek', 'indices': [113, 122]}]</td>\n",
       "    </tr>\n",
       "    <tr>\n",
       "      <th>9</th>\n",
       "      <td>890240255349198849</td>\n",
       "      <td>7711</td>\n",
       "      <td>32467</td>\n",
       "      <td>[]</td>\n",
       "    </tr>\n",
       "  </tbody>\n",
       "</table>\n",
       "</div>"
      ],
      "text/plain": [
       "             tweet_id  retweet_count  favorite_count  \\\n",
       "0  892420643555336193           8853           39467   \n",
       "1  892177421306343426           6514           33819   \n",
       "2  891815181378084864           4328           25461   \n",
       "3  891689557279858688           8964           42908   \n",
       "4  891327558926688256           9774           41048   \n",
       "5  891087950875897856           3261           20562   \n",
       "6  890971913173991426           2158           12041   \n",
       "7  890729181411237888          16716           56848   \n",
       "8  890609185150312448           4429           28226   \n",
       "9  890240255349198849           7711           32467   \n",
       "\n",
       "                                        hashtags  \n",
       "0                                             []  \n",
       "1                                             []  \n",
       "2                                             []  \n",
       "3                                             []  \n",
       "4  [{'text': 'BarkWeek', 'indices': [129, 138]}]  \n",
       "5  [{'text': 'BarkWeek', 'indices': [129, 138]}]  \n",
       "6                                             []  \n",
       "7                                             []  \n",
       "8  [{'text': 'BarkWeek', 'indices': [113, 122]}]  \n",
       "9                                             []  "
      ]
     },
     "execution_count": 82,
     "metadata": {},
     "output_type": "execute_result"
    }
   ],
   "source": [
    "api_data_clean.head(10)\n",
    "# api_data_clean.info()"
   ]
  },
  {
   "cell_type": "markdown",
   "id": "c19bcd6e",
   "metadata": {},
   "source": [
    "### Issue #1: Quality issue \"archive and api dataset still contain non-original tweets and tweets without images\""
   ]
  },
  {
   "cell_type": "markdown",
   "id": "1491116e",
   "metadata": {},
   "source": [
    "#### - archive dataset still contains non-original tweets and tweets without images\n",
    "#### Define\n",
    "Remove all retweets and tweets without images from archive Dataset."
   ]
  },
  {
   "cell_type": "markdown",
   "id": "265e304d",
   "metadata": {},
   "source": [
    "#### Code"
   ]
  },
  {
   "cell_type": "code",
   "execution_count": 83,
   "id": "8460a6b9",
   "metadata": {},
   "outputs": [],
   "source": [
    "# keeping only tweets that are not retweets\n",
    "archive_clean = archive_clean[archive_clean.retweeted_status_id.isnull()]"
   ]
  },
  {
   "cell_type": "markdown",
   "id": "6bc897f8",
   "metadata": {},
   "source": [
    "#### Test"
   ]
  },
  {
   "cell_type": "code",
   "execution_count": 84,
   "id": "f680fe28",
   "metadata": {},
   "outputs": [
    {
     "name": "stdout",
     "output_type": "stream",
     "text": [
      "<class 'pandas.core.frame.DataFrame'>\n",
      "Int64Index: 2175 entries, 0 to 2355\n",
      "Data columns (total 17 columns):\n",
      " #   Column                      Non-Null Count  Dtype  \n",
      "---  ------                      --------------  -----  \n",
      " 0   tweet_id                    2175 non-null   int64  \n",
      " 1   in_reply_to_status_id       78 non-null     float64\n",
      " 2   in_reply_to_user_id         78 non-null     float64\n",
      " 3   timestamp                   2175 non-null   object \n",
      " 4   source                      2175 non-null   object \n",
      " 5   text                        2175 non-null   object \n",
      " 6   retweeted_status_id         0 non-null      float64\n",
      " 7   retweeted_status_user_id    0 non-null      float64\n",
      " 8   retweeted_status_timestamp  0 non-null      object \n",
      " 9   expanded_urls               2117 non-null   object \n",
      " 10  rating_numerator            2175 non-null   int64  \n",
      " 11  rating_denominator          2175 non-null   int64  \n",
      " 12  name                        2175 non-null   object \n",
      " 13  doggo                       2175 non-null   object \n",
      " 14  floofer                     2175 non-null   object \n",
      " 15  pupper                      2175 non-null   object \n",
      " 16  puppo                       2175 non-null   object \n",
      "dtypes: float64(4), int64(3), object(10)\n",
      "memory usage: 305.9+ KB\n"
     ]
    }
   ],
   "source": [
    "archive_clean.info()"
   ]
  },
  {
   "cell_type": "code",
   "execution_count": 17,
   "id": "26128bc8",
   "metadata": {},
   "outputs": [
    {
     "data": {
      "text/html": [
       "<div>\n",
       "<style scoped>\n",
       "    .dataframe tbody tr th:only-of-type {\n",
       "        vertical-align: middle;\n",
       "    }\n",
       "\n",
       "    .dataframe tbody tr th {\n",
       "        vertical-align: top;\n",
       "    }\n",
       "\n",
       "    .dataframe thead th {\n",
       "        text-align: right;\n",
       "    }\n",
       "</style>\n",
       "<table border=\"1\" class=\"dataframe\">\n",
       "  <thead>\n",
       "    <tr style=\"text-align: right;\">\n",
       "      <th></th>\n",
       "      <th>tweet_id</th>\n",
       "      <th>in_reply_to_status_id</th>\n",
       "      <th>in_reply_to_user_id</th>\n",
       "      <th>timestamp</th>\n",
       "      <th>source</th>\n",
       "      <th>text</th>\n",
       "      <th>retweeted_status_id</th>\n",
       "      <th>retweeted_status_user_id</th>\n",
       "      <th>retweeted_status_timestamp</th>\n",
       "      <th>expanded_urls</th>\n",
       "      <th>rating_numerator</th>\n",
       "      <th>rating_denominator</th>\n",
       "      <th>name</th>\n",
       "      <th>doggo</th>\n",
       "      <th>floofer</th>\n",
       "      <th>pupper</th>\n",
       "      <th>puppo</th>\n",
       "    </tr>\n",
       "  </thead>\n",
       "  <tbody>\n",
       "    <tr>\n",
       "      <th>750</th>\n",
       "      <td>779123168116150273</td>\n",
       "      <td>NaN</td>\n",
       "      <td>NaN</td>\n",
       "      <td>2016-09-23 01:00:13 +0000</td>\n",
       "      <td>&lt;a href=\"http://twitter.com/download/iphone\" r...</td>\n",
       "      <td>This is Reggie. He hugs everyone he meets. 12/...</td>\n",
       "      <td>NaN</td>\n",
       "      <td>NaN</td>\n",
       "      <td>NaN</td>\n",
       "      <td>https://twitter.com/dog_rates/status/779123168...</td>\n",
       "      <td>12</td>\n",
       "      <td>10</td>\n",
       "      <td>Reggie</td>\n",
       "      <td>None</td>\n",
       "      <td>None</td>\n",
       "      <td>None</td>\n",
       "      <td>None</td>\n",
       "    </tr>\n",
       "    <tr>\n",
       "      <th>508</th>\n",
       "      <td>812503143955202048</td>\n",
       "      <td>NaN</td>\n",
       "      <td>NaN</td>\n",
       "      <td>2016-12-24 03:40:19 +0000</td>\n",
       "      <td>&lt;a href=\"http://twitter.com/download/iphone\" r...</td>\n",
       "      <td>I'm happy to inform you all that Jake is in ex...</td>\n",
       "      <td>NaN</td>\n",
       "      <td>NaN</td>\n",
       "      <td>NaN</td>\n",
       "      <td>https://m.facebook.com/story.php?story_fbid=18...</td>\n",
       "      <td>13</td>\n",
       "      <td>10</td>\n",
       "      <td>None</td>\n",
       "      <td>None</td>\n",
       "      <td>None</td>\n",
       "      <td>None</td>\n",
       "      <td>None</td>\n",
       "    </tr>\n",
       "    <tr>\n",
       "      <th>1172</th>\n",
       "      <td>720389942216527872</td>\n",
       "      <td>NaN</td>\n",
       "      <td>NaN</td>\n",
       "      <td>2016-04-13 23:15:21 +0000</td>\n",
       "      <td>&lt;a href=\"http://twitter.com/download/iphone\" r...</td>\n",
       "      <td>This is Ralphé. He patrols the lake. Looking f...</td>\n",
       "      <td>NaN</td>\n",
       "      <td>NaN</td>\n",
       "      <td>NaN</td>\n",
       "      <td>https://twitter.com/dog_rates/status/720389942...</td>\n",
       "      <td>11</td>\n",
       "      <td>10</td>\n",
       "      <td>Ralphé</td>\n",
       "      <td>None</td>\n",
       "      <td>None</td>\n",
       "      <td>None</td>\n",
       "      <td>None</td>\n",
       "    </tr>\n",
       "    <tr>\n",
       "      <th>329</th>\n",
       "      <td>833479644947025920</td>\n",
       "      <td>NaN</td>\n",
       "      <td>NaN</td>\n",
       "      <td>2017-02-20 00:53:27 +0000</td>\n",
       "      <td>&lt;a href=\"http://twitter.com/download/iphone\" r...</td>\n",
       "      <td>This is Poppy. She just arrived. 13/10 would s...</td>\n",
       "      <td>NaN</td>\n",
       "      <td>NaN</td>\n",
       "      <td>NaN</td>\n",
       "      <td>https://twitter.com/dog_rates/status/833479644...</td>\n",
       "      <td>13</td>\n",
       "      <td>10</td>\n",
       "      <td>Poppy</td>\n",
       "      <td>None</td>\n",
       "      <td>None</td>\n",
       "      <td>None</td>\n",
       "      <td>None</td>\n",
       "    </tr>\n",
       "    <tr>\n",
       "      <th>714</th>\n",
       "      <td>784057939640352768</td>\n",
       "      <td>NaN</td>\n",
       "      <td>NaN</td>\n",
       "      <td>2016-10-06 15:49:14 +0000</td>\n",
       "      <td>&lt;a href=\"http://vine.co\" rel=\"nofollow\"&gt;Vine -...</td>\n",
       "      <td>This is Balto. He's very content. Legendary to...</td>\n",
       "      <td>NaN</td>\n",
       "      <td>NaN</td>\n",
       "      <td>NaN</td>\n",
       "      <td>https://vine.co/v/5gKxeUpuKEr</td>\n",
       "      <td>12</td>\n",
       "      <td>10</td>\n",
       "      <td>Balto</td>\n",
       "      <td>None</td>\n",
       "      <td>None</td>\n",
       "      <td>None</td>\n",
       "      <td>None</td>\n",
       "    </tr>\n",
       "    <tr>\n",
       "      <th>2327</th>\n",
       "      <td>666407126856765440</td>\n",
       "      <td>NaN</td>\n",
       "      <td>NaN</td>\n",
       "      <td>2015-11-17 00:06:54 +0000</td>\n",
       "      <td>&lt;a href=\"http://twitter.com/download/iphone\" r...</td>\n",
       "      <td>This is a southern Vesuvius bumblegruff. Can d...</td>\n",
       "      <td>NaN</td>\n",
       "      <td>NaN</td>\n",
       "      <td>NaN</td>\n",
       "      <td>https://twitter.com/dog_rates/status/666407126...</td>\n",
       "      <td>7</td>\n",
       "      <td>10</td>\n",
       "      <td>a</td>\n",
       "      <td>None</td>\n",
       "      <td>None</td>\n",
       "      <td>None</td>\n",
       "      <td>None</td>\n",
       "    </tr>\n",
       "    <tr>\n",
       "      <th>1725</th>\n",
       "      <td>680070545539371008</td>\n",
       "      <td>NaN</td>\n",
       "      <td>NaN</td>\n",
       "      <td>2015-12-24 17:00:27 +0000</td>\n",
       "      <td>&lt;a href=\"https://about.twitter.com/products/tw...</td>\n",
       "      <td>Say hello to Emmie. She's trapped in an orname...</td>\n",
       "      <td>NaN</td>\n",
       "      <td>NaN</td>\n",
       "      <td>NaN</td>\n",
       "      <td>https://twitter.com/dog_rates/status/680070545...</td>\n",
       "      <td>9</td>\n",
       "      <td>10</td>\n",
       "      <td>Emmie</td>\n",
       "      <td>None</td>\n",
       "      <td>None</td>\n",
       "      <td>None</td>\n",
       "      <td>None</td>\n",
       "    </tr>\n",
       "    <tr>\n",
       "      <th>1566</th>\n",
       "      <td>687841446767013888</td>\n",
       "      <td>NaN</td>\n",
       "      <td>NaN</td>\n",
       "      <td>2016-01-15 03:39:15 +0000</td>\n",
       "      <td>&lt;a href=\"http://vine.co\" rel=\"nofollow\"&gt;Vine -...</td>\n",
       "      <td>13/10 I can't stop watching this (vid by @k8ly...</td>\n",
       "      <td>NaN</td>\n",
       "      <td>NaN</td>\n",
       "      <td>NaN</td>\n",
       "      <td>https://vine.co/v/iOWwUPH1hrw</td>\n",
       "      <td>13</td>\n",
       "      <td>10</td>\n",
       "      <td>None</td>\n",
       "      <td>None</td>\n",
       "      <td>None</td>\n",
       "      <td>None</td>\n",
       "      <td>None</td>\n",
       "    </tr>\n",
       "    <tr>\n",
       "      <th>1489</th>\n",
       "      <td>692905862751522816</td>\n",
       "      <td>NaN</td>\n",
       "      <td>NaN</td>\n",
       "      <td>2016-01-29 03:03:25 +0000</td>\n",
       "      <td>&lt;a href=\"http://twitter.com/download/iphone\" r...</td>\n",
       "      <td>This is Wally. He's being abducted by aliens. ...</td>\n",
       "      <td>NaN</td>\n",
       "      <td>NaN</td>\n",
       "      <td>NaN</td>\n",
       "      <td>https://twitter.com/dog_rates/status/692905862...</td>\n",
       "      <td>10</td>\n",
       "      <td>10</td>\n",
       "      <td>Wally</td>\n",
       "      <td>None</td>\n",
       "      <td>None</td>\n",
       "      <td>pupper</td>\n",
       "      <td>None</td>\n",
       "    </tr>\n",
       "    <tr>\n",
       "      <th>1668</th>\n",
       "      <td>682638830361513985</td>\n",
       "      <td>NaN</td>\n",
       "      <td>NaN</td>\n",
       "      <td>2015-12-31 19:05:54 +0000</td>\n",
       "      <td>&lt;a href=\"http://twitter.com/download/iphone\" r...</td>\n",
       "      <td>I have no words. Just a magnificent pup. 12/10...</td>\n",
       "      <td>NaN</td>\n",
       "      <td>NaN</td>\n",
       "      <td>NaN</td>\n",
       "      <td>https://twitter.com/dog_rates/status/682638830...</td>\n",
       "      <td>12</td>\n",
       "      <td>10</td>\n",
       "      <td>None</td>\n",
       "      <td>None</td>\n",
       "      <td>None</td>\n",
       "      <td>None</td>\n",
       "      <td>None</td>\n",
       "    </tr>\n",
       "  </tbody>\n",
       "</table>\n",
       "</div>"
      ],
      "text/plain": [
       "                tweet_id  in_reply_to_status_id  in_reply_to_user_id  \\\n",
       "750   779123168116150273                    NaN                  NaN   \n",
       "508   812503143955202048                    NaN                  NaN   \n",
       "1172  720389942216527872                    NaN                  NaN   \n",
       "329   833479644947025920                    NaN                  NaN   \n",
       "714   784057939640352768                    NaN                  NaN   \n",
       "2327  666407126856765440                    NaN                  NaN   \n",
       "1725  680070545539371008                    NaN                  NaN   \n",
       "1566  687841446767013888                    NaN                  NaN   \n",
       "1489  692905862751522816                    NaN                  NaN   \n",
       "1668  682638830361513985                    NaN                  NaN   \n",
       "\n",
       "                      timestamp  \\\n",
       "750   2016-09-23 01:00:13 +0000   \n",
       "508   2016-12-24 03:40:19 +0000   \n",
       "1172  2016-04-13 23:15:21 +0000   \n",
       "329   2017-02-20 00:53:27 +0000   \n",
       "714   2016-10-06 15:49:14 +0000   \n",
       "2327  2015-11-17 00:06:54 +0000   \n",
       "1725  2015-12-24 17:00:27 +0000   \n",
       "1566  2016-01-15 03:39:15 +0000   \n",
       "1489  2016-01-29 03:03:25 +0000   \n",
       "1668  2015-12-31 19:05:54 +0000   \n",
       "\n",
       "                                                 source  \\\n",
       "750   <a href=\"http://twitter.com/download/iphone\" r...   \n",
       "508   <a href=\"http://twitter.com/download/iphone\" r...   \n",
       "1172  <a href=\"http://twitter.com/download/iphone\" r...   \n",
       "329   <a href=\"http://twitter.com/download/iphone\" r...   \n",
       "714   <a href=\"http://vine.co\" rel=\"nofollow\">Vine -...   \n",
       "2327  <a href=\"http://twitter.com/download/iphone\" r...   \n",
       "1725  <a href=\"https://about.twitter.com/products/tw...   \n",
       "1566  <a href=\"http://vine.co\" rel=\"nofollow\">Vine -...   \n",
       "1489  <a href=\"http://twitter.com/download/iphone\" r...   \n",
       "1668  <a href=\"http://twitter.com/download/iphone\" r...   \n",
       "\n",
       "                                                   text  retweeted_status_id  \\\n",
       "750   This is Reggie. He hugs everyone he meets. 12/...                  NaN   \n",
       "508   I'm happy to inform you all that Jake is in ex...                  NaN   \n",
       "1172  This is Ralphé. He patrols the lake. Looking f...                  NaN   \n",
       "329   This is Poppy. She just arrived. 13/10 would s...                  NaN   \n",
       "714   This is Balto. He's very content. Legendary to...                  NaN   \n",
       "2327  This is a southern Vesuvius bumblegruff. Can d...                  NaN   \n",
       "1725  Say hello to Emmie. She's trapped in an orname...                  NaN   \n",
       "1566  13/10 I can't stop watching this (vid by @k8ly...                  NaN   \n",
       "1489  This is Wally. He's being abducted by aliens. ...                  NaN   \n",
       "1668  I have no words. Just a magnificent pup. 12/10...                  NaN   \n",
       "\n",
       "      retweeted_status_user_id retweeted_status_timestamp  \\\n",
       "750                        NaN                        NaN   \n",
       "508                        NaN                        NaN   \n",
       "1172                       NaN                        NaN   \n",
       "329                        NaN                        NaN   \n",
       "714                        NaN                        NaN   \n",
       "2327                       NaN                        NaN   \n",
       "1725                       NaN                        NaN   \n",
       "1566                       NaN                        NaN   \n",
       "1489                       NaN                        NaN   \n",
       "1668                       NaN                        NaN   \n",
       "\n",
       "                                          expanded_urls  rating_numerator  \\\n",
       "750   https://twitter.com/dog_rates/status/779123168...                12   \n",
       "508   https://m.facebook.com/story.php?story_fbid=18...                13   \n",
       "1172  https://twitter.com/dog_rates/status/720389942...                11   \n",
       "329   https://twitter.com/dog_rates/status/833479644...                13   \n",
       "714                       https://vine.co/v/5gKxeUpuKEr                12   \n",
       "2327  https://twitter.com/dog_rates/status/666407126...                 7   \n",
       "1725  https://twitter.com/dog_rates/status/680070545...                 9   \n",
       "1566                      https://vine.co/v/iOWwUPH1hrw                13   \n",
       "1489  https://twitter.com/dog_rates/status/692905862...                10   \n",
       "1668  https://twitter.com/dog_rates/status/682638830...                12   \n",
       "\n",
       "      rating_denominator    name doggo floofer  pupper puppo  \n",
       "750                   10  Reggie  None    None    None  None  \n",
       "508                   10    None  None    None    None  None  \n",
       "1172                  10  Ralphé  None    None    None  None  \n",
       "329                   10   Poppy  None    None    None  None  \n",
       "714                   10   Balto  None    None    None  None  \n",
       "2327                  10       a  None    None    None  None  \n",
       "1725                  10   Emmie  None    None    None  None  \n",
       "1566                  10    None  None    None    None  None  \n",
       "1489                  10   Wally  None    None  pupper  None  \n",
       "1668                  10    None  None    None    None  None  "
      ]
     },
     "execution_count": 17,
     "metadata": {},
     "output_type": "execute_result"
    }
   ],
   "source": [
    "archive_clean.sample(10)"
   ]
  },
  {
   "cell_type": "markdown",
   "id": "7d72d992",
   "metadata": {},
   "source": [
    "#### - api dataset still contains non-original tweets and tweets without images"
   ]
  },
  {
   "cell_type": "markdown",
   "id": "2bc38400",
   "metadata": {},
   "source": [
    "##### Define\n",
    "\n",
    "Join api data to archive data, to ensure that it does not contain retweets or tweets without images."
   ]
  },
  {
   "cell_type": "markdown",
   "id": "0b0ec369",
   "metadata": {},
   "source": [
    "##### Code"
   ]
  },
  {
   "cell_type": "code",
   "execution_count": 85,
   "id": "cb2ed93a",
   "metadata": {},
   "outputs": [],
   "source": [
    "archive_clean.tweet_id = archive_clean.tweet_id.astype('str')\n",
    "\n",
    "archive_clean = archive_clean.merge(api_data_clean, on=\"tweet_id\", how=\"left\")"
   ]
  },
  {
   "cell_type": "markdown",
   "id": "b213905d",
   "metadata": {},
   "source": [
    "##### Test"
   ]
  },
  {
   "cell_type": "code",
   "execution_count": 86,
   "id": "6300eca7",
   "metadata": {},
   "outputs": [
    {
     "name": "stdout",
     "output_type": "stream",
     "text": [
      "<class 'pandas.core.frame.DataFrame'>\n",
      "Int64Index: 2175 entries, 0 to 2174\n",
      "Data columns (total 20 columns):\n",
      " #   Column                      Non-Null Count  Dtype  \n",
      "---  ------                      --------------  -----  \n",
      " 0   tweet_id                    2175 non-null   object \n",
      " 1   in_reply_to_status_id       78 non-null     float64\n",
      " 2   in_reply_to_user_id         78 non-null     float64\n",
      " 3   timestamp                   2175 non-null   object \n",
      " 4   source                      2175 non-null   object \n",
      " 5   text                        2175 non-null   object \n",
      " 6   retweeted_status_id         0 non-null      float64\n",
      " 7   retweeted_status_user_id    0 non-null      float64\n",
      " 8   retweeted_status_timestamp  0 non-null      object \n",
      " 9   expanded_urls               2117 non-null   object \n",
      " 10  rating_numerator            2175 non-null   int64  \n",
      " 11  rating_denominator          2175 non-null   int64  \n",
      " 12  name                        2175 non-null   object \n",
      " 13  doggo                       2175 non-null   object \n",
      " 14  floofer                     2175 non-null   object \n",
      " 15  pupper                      2175 non-null   object \n",
      " 16  puppo                       2175 non-null   object \n",
      " 17  retweet_count               2175 non-null   int64  \n",
      " 18  favorite_count              2175 non-null   int64  \n",
      " 19  hashtags                    2175 non-null   object \n",
      "dtypes: float64(4), int64(4), object(12)\n",
      "memory usage: 356.8+ KB\n"
     ]
    }
   ],
   "source": [
    "archive_clean.info()"
   ]
  },
  {
   "cell_type": "markdown",
   "id": "e8e1aaa1",
   "metadata": {},
   "source": [
    "### Issue #2: Quality issue \"There are unneeded issues in the datasets \""
   ]
  },
  {
   "cell_type": "markdown",
   "id": "95470758",
   "metadata": {},
   "source": [
    "#### `Archive Data`"
   ]
  },
  {
   "cell_type": "markdown",
   "id": "8a4aaadf",
   "metadata": {},
   "source": [
    "After removing retweets, the columns on retweet status are not useful anymore, and should be removed as well."
   ]
  },
  {
   "cell_type": "markdown",
   "id": "a50d0c17",
   "metadata": {},
   "source": [
    "**Columns on retweet status are not useful after retweets are removed**"
   ]
  },
  {
   "cell_type": "markdown",
   "id": "62915efe",
   "metadata": {},
   "source": [
    "#### Define\n",
    "Drop empty columns that contained information on retweets."
   ]
  },
  {
   "cell_type": "markdown",
   "id": "f2a38a4a",
   "metadata": {},
   "source": [
    "#### Code"
   ]
  },
  {
   "cell_type": "code",
   "execution_count": 87,
   "id": "f25e5a53",
   "metadata": {},
   "outputs": [],
   "source": [
    "archive_clean = archive_clean.drop([\"retweeted_status_id\",\n",
    "                                    \"retweeted_status_user_id\",\n",
    "                                    \"retweeted_status_timestamp\"], axis=1)"
   ]
  },
  {
   "cell_type": "markdown",
   "id": "5a082dc8",
   "metadata": {},
   "source": [
    "#### Test"
   ]
  },
  {
   "cell_type": "code",
   "execution_count": 88,
   "id": "678598ec",
   "metadata": {},
   "outputs": [
    {
     "name": "stdout",
     "output_type": "stream",
     "text": [
      "<class 'pandas.core.frame.DataFrame'>\n",
      "Int64Index: 2175 entries, 0 to 2174\n",
      "Data columns (total 17 columns):\n",
      " #   Column                 Non-Null Count  Dtype  \n",
      "---  ------                 --------------  -----  \n",
      " 0   tweet_id               2175 non-null   object \n",
      " 1   in_reply_to_status_id  78 non-null     float64\n",
      " 2   in_reply_to_user_id    78 non-null     float64\n",
      " 3   timestamp              2175 non-null   object \n",
      " 4   source                 2175 non-null   object \n",
      " 5   text                   2175 non-null   object \n",
      " 6   expanded_urls          2117 non-null   object \n",
      " 7   rating_numerator       2175 non-null   int64  \n",
      " 8   rating_denominator     2175 non-null   int64  \n",
      " 9   name                   2175 non-null   object \n",
      " 10  doggo                  2175 non-null   object \n",
      " 11  floofer                2175 non-null   object \n",
      " 12  pupper                 2175 non-null   object \n",
      " 13  puppo                  2175 non-null   object \n",
      " 14  retweet_count          2175 non-null   int64  \n",
      " 15  favorite_count         2175 non-null   int64  \n",
      " 16  hashtags               2175 non-null   object \n",
      "dtypes: float64(2), int64(4), object(11)\n",
      "memory usage: 305.9+ KB\n"
     ]
    }
   ],
   "source": [
    "archive_clean.info()"
   ]
  },
  {
   "cell_type": "markdown",
   "id": "1fcb292d",
   "metadata": {},
   "source": [
    "### Issue #3: Quality issue \"archive_expanded_urls sometimes contains multiple urls \""
   ]
  },
  {
   "cell_type": "markdown",
   "id": "1056d9a1",
   "metadata": {},
   "source": [
    "#### Define\n",
    "Check if url's are distinct . If so, then all should be kept. If not, remove duplicates. \n",
    "create additional column(s) to avoid multiple rows for each tweet."
   ]
  },
  {
   "cell_type": "markdown",
   "id": "1af96de8",
   "metadata": {},
   "source": [
    "#### Code"
   ]
  },
  {
   "cell_type": "code",
   "execution_count": 89,
   "id": "3470a9a5",
   "metadata": {},
   "outputs": [],
   "source": [
    "archive_clean[\"expanded_urls\"] = archive_clean[\"expanded_urls\"].astype(str)"
   ]
  },
  {
   "cell_type": "code",
   "execution_count": 90,
   "id": "5203bb85",
   "metadata": {
    "scrolled": true
   },
   "outputs": [
    {
     "data": {
      "text/plain": [
       "0       https://twitter.com/dog_rates/status/892420643...\n",
       "1       https://twitter.com/dog_rates/status/892177421...\n",
       "2       https://twitter.com/dog_rates/status/891815181...\n",
       "3       https://twitter.com/dog_rates/status/891689557...\n",
       "4       https://twitter.com/dog_rates/status/891327558...\n",
       "                              ...                        \n",
       "2170    https://twitter.com/dog_rates/status/666049248...\n",
       "2171    https://twitter.com/dog_rates/status/666044226...\n",
       "2172    https://twitter.com/dog_rates/status/666033412...\n",
       "2173    https://twitter.com/dog_rates/status/666029285...\n",
       "2174    https://twitter.com/dog_rates/status/666020888...\n",
       "Name: expanded_urls, Length: 2175, dtype: object"
      ]
     },
     "execution_count": 90,
     "metadata": {},
     "output_type": "execute_result"
    }
   ],
   "source": [
    "#When the urls are not the same, they lead to external links, I will create a new column to store any external links.\n",
    "\n",
    "archive_clean[[\"tweet_id\",\"expanded_urls\"]][archive_clean.expanded_urls.str.split(',').str.len() > 1]\n",
    "\n",
    "# convert links to list and remove all duplicates\n",
    "archive_clean.expanded_urls = archive_clean.expanded_urls.str.split(',').apply(set,).apply(list).str.join(',')\n",
    "archive_clean.expanded_urls"
   ]
  },
  {
   "cell_type": "code",
   "execution_count": 91,
   "id": "4508fa81",
   "metadata": {},
   "outputs": [],
   "source": [
    "# extract all dog_rates tweets and put the in the local_url column\n",
    "archive_clean[\"local_url\"] = archive_clean.expanded_urls.str.extract(\"(https://twitter.com/dog_rates.+/1)\")\n",
    "# remove dog_rates tweets from what remains, and put that into a external_url column\n",
    "archive_clean[\"external_url\"] = archive_clean.expanded_urls.str.replace(\"(https://twitter.com/dog_rates/status/.+/.+/1)\",\"\", regex=True).str.strip(\",\").replace(\"\", regex=True)"
   ]
  },
  {
   "cell_type": "markdown",
   "id": "8586ba3e",
   "metadata": {},
   "source": [
    "#### Test"
   ]
  },
  {
   "cell_type": "code",
   "execution_count": 92,
   "id": "e6993607",
   "metadata": {},
   "outputs": [
    {
     "name": "stdout",
     "output_type": "stream",
     "text": [
      "<class 'pandas.core.frame.DataFrame'>\n",
      "Int64Index: 2175 entries, 0 to 2174\n",
      "Data columns (total 19 columns):\n",
      " #   Column                 Non-Null Count  Dtype  \n",
      "---  ------                 --------------  -----  \n",
      " 0   tweet_id               2175 non-null   object \n",
      " 1   in_reply_to_status_id  78 non-null     float64\n",
      " 2   in_reply_to_user_id    78 non-null     float64\n",
      " 3   timestamp              2175 non-null   object \n",
      " 4   source                 2175 non-null   object \n",
      " 5   text                   2175 non-null   object \n",
      " 6   expanded_urls          2175 non-null   object \n",
      " 7   rating_numerator       2175 non-null   int64  \n",
      " 8   rating_denominator     2175 non-null   int64  \n",
      " 9   name                   2175 non-null   object \n",
      " 10  doggo                  2175 non-null   object \n",
      " 11  floofer                2175 non-null   object \n",
      " 12  pupper                 2175 non-null   object \n",
      " 13  puppo                  2175 non-null   object \n",
      " 14  retweet_count          2175 non-null   int64  \n",
      " 15  favorite_count         2175 non-null   int64  \n",
      " 16  hashtags               2175 non-null   object \n",
      " 17  local_url              1994 non-null   object \n",
      " 18  external_url           2175 non-null   object \n",
      "dtypes: float64(2), int64(4), object(13)\n",
      "memory usage: 339.8+ KB\n"
     ]
    },
    {
     "data": {
      "text/html": [
       "<div>\n",
       "<style scoped>\n",
       "    .dataframe tbody tr th:only-of-type {\n",
       "        vertical-align: middle;\n",
       "    }\n",
       "\n",
       "    .dataframe tbody tr th {\n",
       "        vertical-align: top;\n",
       "    }\n",
       "\n",
       "    .dataframe thead th {\n",
       "        text-align: right;\n",
       "    }\n",
       "</style>\n",
       "<table border=\"1\" class=\"dataframe\">\n",
       "  <thead>\n",
       "    <tr style=\"text-align: right;\">\n",
       "      <th></th>\n",
       "      <th>expanded_urls</th>\n",
       "      <th>local_url</th>\n",
       "      <th>external_url</th>\n",
       "    </tr>\n",
       "  </thead>\n",
       "  <tbody>\n",
       "    <tr>\n",
       "      <th>208</th>\n",
       "      <td>https://twitter.com/dog_rates/status/846153765...</td>\n",
       "      <td>https://twitter.com/dog_rates/status/846153765...</td>\n",
       "      <td>https://twitter.com/shomaristone/status/846484...</td>\n",
       "    </tr>\n",
       "    <tr>\n",
       "      <th>283</th>\n",
       "      <td>https://twitter.com/dog_rates/status/832636094...</td>\n",
       "      <td>https://twitter.com/dog_rates/status/832636094...</td>\n",
       "      <td>http://us.blastingnews.com/news/2017/02/jfk-an...</td>\n",
       "    </tr>\n",
       "    <tr>\n",
       "      <th>1376</th>\n",
       "      <td>https://twitter.com/dog_rates/status/688894073...</td>\n",
       "      <td>https://twitter.com/dog_rates/status/688894073...</td>\n",
       "      <td>https://vine.co/v/iOL792n5hz2</td>\n",
       "    </tr>\n",
       "    <tr>\n",
       "      <th>800</th>\n",
       "      <td>https://twitter.com/dog_rates/status/750041628...</td>\n",
       "      <td>https://twitter.com/dog_rates/status/750041628...</td>\n",
       "      <td>nan</td>\n",
       "    </tr>\n",
       "    <tr>\n",
       "      <th>124</th>\n",
       "      <td>https://twitter.com/dog_rates/status/864873206...</td>\n",
       "      <td>https://twitter.com/dog_rates/status/864873206...</td>\n",
       "      <td>https://twitter.com/nbcnews/status/86645871888...</td>\n",
       "    </tr>\n",
       "    <tr>\n",
       "      <th>1920</th>\n",
       "      <td>https://twitter.com/dog_rates/status/670717338...</td>\n",
       "      <td>https://twitter.com/dog_rates/status/670717338...</td>\n",
       "      <td>nan</td>\n",
       "    </tr>\n",
       "    <tr>\n",
       "      <th>35</th>\n",
       "      <td>https://twitter.com/dog_rates/status/884925521...</td>\n",
       "      <td>https://twitter.com/dog_rates/status/884925521...</td>\n",
       "      <td>https://twitter.com/4bonds2carbon/status/88551...</td>\n",
       "    </tr>\n",
       "    <tr>\n",
       "      <th>460</th>\n",
       "      <td>https://twitter.com/dog_rates/status/803638050...</td>\n",
       "      <td>https://twitter.com/dog_rates/status/803638050...</td>\n",
       "      <td>https://twitter.com/bvuepd/status/804417859124...</td>\n",
       "    </tr>\n",
       "    <tr>\n",
       "      <th>111</th>\n",
       "      <td>https://twitter.com/dog_rates/status/868622495...</td>\n",
       "      <td>https://twitter.com/dog_rates/status/868622495...</td>\n",
       "      <td>https://www.gofundme.com/help-fix-codys-torn-acl</td>\n",
       "    </tr>\n",
       "    <tr>\n",
       "      <th>1873</th>\n",
       "      <td>https://twitter.com/dog_rates/status/671486386...</td>\n",
       "      <td>https://twitter.com/dog_rates/status/671486386...</td>\n",
       "      <td>nan</td>\n",
       "    </tr>\n",
       "  </tbody>\n",
       "</table>\n",
       "</div>"
      ],
      "text/plain": [
       "                                          expanded_urls  \\\n",
       "208   https://twitter.com/dog_rates/status/846153765...   \n",
       "283   https://twitter.com/dog_rates/status/832636094...   \n",
       "1376  https://twitter.com/dog_rates/status/688894073...   \n",
       "800   https://twitter.com/dog_rates/status/750041628...   \n",
       "124   https://twitter.com/dog_rates/status/864873206...   \n",
       "1920  https://twitter.com/dog_rates/status/670717338...   \n",
       "35    https://twitter.com/dog_rates/status/884925521...   \n",
       "460   https://twitter.com/dog_rates/status/803638050...   \n",
       "111   https://twitter.com/dog_rates/status/868622495...   \n",
       "1873  https://twitter.com/dog_rates/status/671486386...   \n",
       "\n",
       "                                              local_url  \\\n",
       "208   https://twitter.com/dog_rates/status/846153765...   \n",
       "283   https://twitter.com/dog_rates/status/832636094...   \n",
       "1376  https://twitter.com/dog_rates/status/688894073...   \n",
       "800   https://twitter.com/dog_rates/status/750041628...   \n",
       "124   https://twitter.com/dog_rates/status/864873206...   \n",
       "1920  https://twitter.com/dog_rates/status/670717338...   \n",
       "35    https://twitter.com/dog_rates/status/884925521...   \n",
       "460   https://twitter.com/dog_rates/status/803638050...   \n",
       "111   https://twitter.com/dog_rates/status/868622495...   \n",
       "1873  https://twitter.com/dog_rates/status/671486386...   \n",
       "\n",
       "                                           external_url  \n",
       "208   https://twitter.com/shomaristone/status/846484...  \n",
       "283   http://us.blastingnews.com/news/2017/02/jfk-an...  \n",
       "1376                      https://vine.co/v/iOL792n5hz2  \n",
       "800                                                 nan  \n",
       "124   https://twitter.com/nbcnews/status/86645871888...  \n",
       "1920                                                nan  \n",
       "35    https://twitter.com/4bonds2carbon/status/88551...  \n",
       "460   https://twitter.com/bvuepd/status/804417859124...  \n",
       "111    https://www.gofundme.com/help-fix-codys-torn-acl  \n",
       "1873                                                nan  "
      ]
     },
     "execution_count": 92,
     "metadata": {},
     "output_type": "execute_result"
    }
   ],
   "source": [
    "archive_clean.info()\n",
    "archive_clean[[\"expanded_urls\",\"local_url\",\"external_url\"]].sample(10)"
   ]
  },
  {
   "cell_type": "markdown",
   "id": "d7d83aa9",
   "metadata": {},
   "source": [
    "### Issue #4: Quality issue \"hashtags column contains multiple hashtags\""
   ]
  },
  {
   "cell_type": "markdown",
   "id": "4e150d3e",
   "metadata": {},
   "source": [
    "#### `Api_Data`"
   ]
  },
  {
   "cell_type": "markdown",
   "id": "512698ba",
   "metadata": {},
   "source": [
    "##### Define\n",
    "I will check how many hashtags mentioned in a tweet.If they are more than one hashtag, i will create new separate table with hashtags."
   ]
  },
  {
   "cell_type": "markdown",
   "id": "5e23bcce",
   "metadata": {},
   "source": [
    "#### Code"
   ]
  },
  {
   "cell_type": "code",
   "execution_count": 93,
   "id": "88e82028",
   "metadata": {},
   "outputs": [
    {
     "name": "stdout",
     "output_type": "stream",
     "text": [
      "<class 'pandas.core.frame.DataFrame'>\n",
      "Int64Index: 2175 entries, 0 to 2174\n",
      "Data columns (total 19 columns):\n",
      " #   Column                 Non-Null Count  Dtype  \n",
      "---  ------                 --------------  -----  \n",
      " 0   tweet_id               2175 non-null   object \n",
      " 1   in_reply_to_status_id  78 non-null     float64\n",
      " 2   in_reply_to_user_id    78 non-null     float64\n",
      " 3   timestamp              2175 non-null   object \n",
      " 4   source                 2175 non-null   object \n",
      " 5   text                   2175 non-null   object \n",
      " 6   expanded_urls          2175 non-null   object \n",
      " 7   rating_numerator       2175 non-null   int64  \n",
      " 8   rating_denominator     2175 non-null   int64  \n",
      " 9   name                   2175 non-null   object \n",
      " 10  doggo                  2175 non-null   object \n",
      " 11  floofer                2175 non-null   object \n",
      " 12  pupper                 2175 non-null   object \n",
      " 13  puppo                  2175 non-null   object \n",
      " 14  retweet_count          2175 non-null   int64  \n",
      " 15  favorite_count         2175 non-null   int64  \n",
      " 16  hashtags               2175 non-null   object \n",
      " 17  local_url              1994 non-null   object \n",
      " 18  external_url           2175 non-null   object \n",
      "dtypes: float64(2), int64(4), object(13)\n",
      "memory usage: 339.8+ KB\n"
     ]
    }
   ],
   "source": [
    "archive_clean[archive_clean.hashtags.str.len() != 0]\n",
    "archive_clean[archive_clean.hashtags.str.len() > 1]\n",
    "\n",
    "# there are tweets with more than one hashtag, but no tweets with more than two\n",
    "archive_clean[archive_clean.hashtags.str.len() > 2]\n",
    "archive_clean.info()"
   ]
  },
  {
   "cell_type": "code",
   "execution_count": 94,
   "id": "ab1c2e3c",
   "metadata": {},
   "outputs": [],
   "source": [
    "# create new hashtags table containing only tweet ID and hashtag. Only the tweets with hashtags.\n",
    "hashtags = archive_clean[[\"tweet_id\",\"hashtags\"]]\n",
    "hashtags = hashtags[hashtags.hashtags.str.len() > 0]\n",
    "\n",
    "# the hashtags column may has a list of hashtags, now i will put them into multiple rows.\n",
    "hashtags = pd.DataFrame({col:np.repeat(hashtags[col].values, hashtags[\"hashtags\"].str.len())\n",
    "              for col in hashtags.columns.difference([\"hashtags\"])\n",
    "             }).assign(**{\"hashtags\":np.concatenate(hashtags[\"hashtags\"].values)})[hashtags.columns.tolist()]"
   ]
  },
  {
   "cell_type": "markdown",
   "id": "1a53d396",
   "metadata": {},
   "source": [
    "#### Test"
   ]
  },
  {
   "cell_type": "code",
   "execution_count": 95,
   "id": "b62c2810",
   "metadata": {
    "scrolled": true
   },
   "outputs": [
    {
     "data": {
      "text/html": [
       "<div>\n",
       "<style scoped>\n",
       "    .dataframe tbody tr th:only-of-type {\n",
       "        vertical-align: middle;\n",
       "    }\n",
       "\n",
       "    .dataframe tbody tr th {\n",
       "        vertical-align: top;\n",
       "    }\n",
       "\n",
       "    .dataframe thead th {\n",
       "        text-align: right;\n",
       "    }\n",
       "</style>\n",
       "<table border=\"1\" class=\"dataframe\">\n",
       "  <thead>\n",
       "    <tr style=\"text-align: right;\">\n",
       "      <th></th>\n",
       "      <th>tweet_id</th>\n",
       "      <th>hashtags</th>\n",
       "    </tr>\n",
       "  </thead>\n",
       "  <tbody>\n",
       "    <tr>\n",
       "      <th>0</th>\n",
       "      <td>891327558926688256</td>\n",
       "      <td>{'text': 'BarkWeek', 'indices': [129, 138]}</td>\n",
       "    </tr>\n",
       "    <tr>\n",
       "      <th>1</th>\n",
       "      <td>891087950875897856</td>\n",
       "      <td>{'text': 'BarkWeek', 'indices': [129, 138]}</td>\n",
       "    </tr>\n",
       "    <tr>\n",
       "      <th>2</th>\n",
       "      <td>890609185150312448</td>\n",
       "      <td>{'text': 'BarkWeek', 'indices': [113, 122]}</td>\n",
       "    </tr>\n",
       "    <tr>\n",
       "      <th>3</th>\n",
       "      <td>890006608113172480</td>\n",
       "      <td>{'text': 'BarkWeek', 'indices': [121, 130]}</td>\n",
       "    </tr>\n",
       "    <tr>\n",
       "      <th>4</th>\n",
       "      <td>889531135344209921</td>\n",
       "      <td>{'text': 'BarkWeek', 'indices': [109, 118]}</td>\n",
       "    </tr>\n",
       "    <tr>\n",
       "      <th>5</th>\n",
       "      <td>889278841981685760</td>\n",
       "      <td>{'text': 'BarkWeek', 'indices': [129, 138]}</td>\n",
       "    </tr>\n",
       "    <tr>\n",
       "      <th>6</th>\n",
       "      <td>881268444196462592</td>\n",
       "      <td>{'text': 'Canada150', 'indices': [111, 121]}</td>\n",
       "    </tr>\n",
       "    <tr>\n",
       "      <th>7</th>\n",
       "      <td>878776093423087618</td>\n",
       "      <td>{'text': 'PrideMonthPuppo', 'indices': [29, 45]}</td>\n",
       "    </tr>\n",
       "    <tr>\n",
       "      <th>8</th>\n",
       "      <td>878776093423087618</td>\n",
       "      <td>{'text': 'PrideMonth', 'indices': [115, 126]}</td>\n",
       "    </tr>\n",
       "    <tr>\n",
       "      <th>9</th>\n",
       "      <td>874012996292530176</td>\n",
       "      <td>{'text': 'PrideMonth', 'indices': [122, 133]}</td>\n",
       "    </tr>\n",
       "  </tbody>\n",
       "</table>\n",
       "</div>"
      ],
      "text/plain": [
       "             tweet_id                                          hashtags\n",
       "0  891327558926688256       {'text': 'BarkWeek', 'indices': [129, 138]}\n",
       "1  891087950875897856       {'text': 'BarkWeek', 'indices': [129, 138]}\n",
       "2  890609185150312448       {'text': 'BarkWeek', 'indices': [113, 122]}\n",
       "3  890006608113172480       {'text': 'BarkWeek', 'indices': [121, 130]}\n",
       "4  889531135344209921       {'text': 'BarkWeek', 'indices': [109, 118]}\n",
       "5  889278841981685760       {'text': 'BarkWeek', 'indices': [129, 138]}\n",
       "6  881268444196462592      {'text': 'Canada150', 'indices': [111, 121]}\n",
       "7  878776093423087618  {'text': 'PrideMonthPuppo', 'indices': [29, 45]}\n",
       "8  878776093423087618     {'text': 'PrideMonth', 'indices': [115, 126]}\n",
       "9  874012996292530176     {'text': 'PrideMonth', 'indices': [122, 133]}"
      ]
     },
     "execution_count": 95,
     "metadata": {},
     "output_type": "execute_result"
    }
   ],
   "source": [
    "hashtags.head(10)"
   ]
  },
  {
   "cell_type": "markdown",
   "id": "f8fabc86",
   "metadata": {},
   "source": [
    "## Assessing Data: Part 2"
   ]
  },
  {
   "cell_type": "code",
   "execution_count": 29,
   "id": "48fc17bc",
   "metadata": {},
   "outputs": [
    {
     "name": "stdout",
     "output_type": "stream",
     "text": [
      "<class 'pandas.core.frame.DataFrame'>\n",
      "Int64Index: 2175 entries, 0 to 2174\n",
      "Data columns (total 19 columns):\n",
      " #   Column                 Non-Null Count  Dtype  \n",
      "---  ------                 --------------  -----  \n",
      " 0   tweet_id               2175 non-null   object \n",
      " 1   in_reply_to_status_id  78 non-null     float64\n",
      " 2   in_reply_to_user_id    78 non-null     float64\n",
      " 3   timestamp              2175 non-null   object \n",
      " 4   source                 2175 non-null   object \n",
      " 5   text                   2175 non-null   object \n",
      " 6   expanded_urls          2175 non-null   object \n",
      " 7   rating_numerator       2175 non-null   int64  \n",
      " 8   rating_denominator     2175 non-null   int64  \n",
      " 9   name                   2175 non-null   object \n",
      " 10  doggo                  2175 non-null   object \n",
      " 11  floofer                2175 non-null   object \n",
      " 12  pupper                 2175 non-null   object \n",
      " 13  puppo                  2175 non-null   object \n",
      " 14  retweet_count          2175 non-null   int64  \n",
      " 15  favorite_count         2175 non-null   int64  \n",
      " 16  hashtags               2175 non-null   object \n",
      " 17  local_url              1994 non-null   object \n",
      " 18  external_url           2175 non-null   object \n",
      "dtypes: float64(2), int64(4), object(13)\n",
      "memory usage: 339.8+ KB\n"
     ]
    }
   ],
   "source": [
    "archive_clean.info()"
   ]
  },
  {
   "cell_type": "code",
   "execution_count": 30,
   "id": "96b383c0",
   "metadata": {},
   "outputs": [
    {
     "name": "stdout",
     "output_type": "stream",
     "text": [
      "<class 'pandas.core.frame.DataFrame'>\n",
      "RangeIndex: 2075 entries, 0 to 2074\n",
      "Data columns (total 12 columns):\n",
      " #   Column    Non-Null Count  Dtype  \n",
      "---  ------    --------------  -----  \n",
      " 0   tweet_id  2075 non-null   int64  \n",
      " 1   jpg_url   2075 non-null   object \n",
      " 2   img_num   2075 non-null   int64  \n",
      " 3   p1        2075 non-null   object \n",
      " 4   p1_conf   2075 non-null   float64\n",
      " 5   p1_dog    2075 non-null   bool   \n",
      " 6   p2        2075 non-null   object \n",
      " 7   p2_conf   2075 non-null   float64\n",
      " 8   p2_dog    2075 non-null   bool   \n",
      " 9   p3        2075 non-null   object \n",
      " 10  p3_conf   2075 non-null   float64\n",
      " 11  p3_dog    2075 non-null   bool   \n",
      "dtypes: bool(3), float64(3), int64(2), object(4)\n",
      "memory usage: 152.1+ KB\n"
     ]
    }
   ],
   "source": [
    "predictions_clean.info()"
   ]
  },
  {
   "cell_type": "code",
   "execution_count": 31,
   "id": "2be0ea6c",
   "metadata": {},
   "outputs": [
    {
     "name": "stdout",
     "output_type": "stream",
     "text": [
      "<class 'pandas.core.frame.DataFrame'>\n",
      "RangeIndex: 26 entries, 0 to 25\n",
      "Data columns (total 2 columns):\n",
      " #   Column    Non-Null Count  Dtype \n",
      "---  ------    --------------  ----- \n",
      " 0   tweet_id  26 non-null     object\n",
      " 1   hashtags  26 non-null     object\n",
      "dtypes: object(2)\n",
      "memory usage: 544.0+ bytes\n"
     ]
    }
   ],
   "source": [
    "hashtags.info()"
   ]
  },
  {
   "cell_type": "code",
   "execution_count": 96,
   "id": "f9cc81ef",
   "metadata": {},
   "outputs": [
    {
     "data": {
      "text/plain": [
       "0           {'text': 'BarkWeek', 'indices': [129, 138]}\n",
       "1           {'text': 'BarkWeek', 'indices': [129, 138]}\n",
       "2           {'text': 'BarkWeek', 'indices': [113, 122]}\n",
       "3           {'text': 'BarkWeek', 'indices': [121, 130]}\n",
       "4           {'text': 'BarkWeek', 'indices': [109, 118]}\n",
       "5           {'text': 'BarkWeek', 'indices': [129, 138]}\n",
       "6          {'text': 'Canada150', 'indices': [111, 121]}\n",
       "7      {'text': 'PrideMonthPuppo', 'indices': [29, 45]}\n",
       "8         {'text': 'PrideMonth', 'indices': [115, 126]}\n",
       "9         {'text': 'PrideMonth', 'indices': [122, 133]}\n",
       "10    {'text': 'dogsatpollingstations', 'indices': [...\n",
       "11          {'text': 'PrideMonth', 'indices': [66, 77]}\n",
       "12          {'text': 'PrideMonth', 'indices': [39, 50]}\n",
       "13        {'text': 'ScienceMarch', 'indices': [36, 49]}\n",
       "14       {'text': 'K9VeteransDay', 'indices': [40, 54]}\n",
       "15          {'text': 'WKCDogShow', 'indices': [26, 37]}\n",
       "16        {'text': 'BellLetsTalk', 'indices': [42, 55]}\n",
       "17         {'text': 'WomensMarch', 'indices': [62, 74]}\n",
       "18           {'text': 'ImWithThor', 'indices': [0, 11]}\n",
       "19              {'text': 'BarkWeek', 'indices': [0, 9]}\n",
       "20            {'text': 'BarkWeek', 'indices': [33, 42]}\n",
       "21            {'text': 'BarkWeek', 'indices': [32, 41]}\n",
       "22            {'text': 'FinalFur', 'indices': [40, 49]}\n",
       "23     {'text': 'notallpuppers', 'indices': [101, 115]}\n",
       "24          {'text': 'NoDaysOff', 'indices': [98, 108]}\n",
       "25             {'text': 'swole', 'indices': [109, 115]}\n",
       "Name: hashtags, dtype: object"
      ]
     },
     "execution_count": 96,
     "metadata": {},
     "output_type": "execute_result"
    }
   ],
   "source": [
    "hashtags.hashtags"
   ]
  },
  {
   "cell_type": "markdown",
   "id": "f40ce237",
   "metadata": {},
   "source": [
    "## Cleaning Data: Part 2"
   ]
  },
  {
   "cell_type": "markdown",
   "id": "53aa911f",
   "metadata": {},
   "source": [
    "### `Archive Data`"
   ]
  },
  {
   "cell_type": "markdown",
   "id": "90ea43e2",
   "metadata": {},
   "source": [
    "**Time of day tweet sent difficult to analyze, as not in own column**"
   ]
  },
  {
   "cell_type": "markdown",
   "id": "d35ddc92",
   "metadata": {},
   "source": [
    "##### Define\n",
    "Create separate column for time, to make it possible to analyze if time tweet posted matters."
   ]
  },
  {
   "cell_type": "markdown",
   "id": "7e907407",
   "metadata": {},
   "source": [
    "#### Code"
   ]
  },
  {
   "cell_type": "code",
   "execution_count": 97,
   "id": "184d08c2",
   "metadata": {},
   "outputs": [],
   "source": [
    "# it seems that timestamp length is consistent, suggesting there are no obvious data quality issues\n",
    "#archive[archive.timestamp.str.len() != 25]\n",
    "\n",
    "temp = pd.DataFrame(archive_clean.timestamp.str.split(' ').tolist(), columns = ['date','time','offset'])\n",
    "\n",
    "temp.offset.value_counts()\n",
    "#adding the time column\n",
    "archive_clean = archive_clean.join(temp[['time']])"
   ]
  },
  {
   "cell_type": "markdown",
   "id": "11ff0a5e",
   "metadata": {},
   "source": [
    "#### Test"
   ]
  },
  {
   "cell_type": "code",
   "execution_count": 98,
   "id": "74637c76",
   "metadata": {},
   "outputs": [
    {
     "data": {
      "text/html": [
       "<div>\n",
       "<style scoped>\n",
       "    .dataframe tbody tr th:only-of-type {\n",
       "        vertical-align: middle;\n",
       "    }\n",
       "\n",
       "    .dataframe tbody tr th {\n",
       "        vertical-align: top;\n",
       "    }\n",
       "\n",
       "    .dataframe thead th {\n",
       "        text-align: right;\n",
       "    }\n",
       "</style>\n",
       "<table border=\"1\" class=\"dataframe\">\n",
       "  <thead>\n",
       "    <tr style=\"text-align: right;\">\n",
       "      <th></th>\n",
       "      <th>timestamp</th>\n",
       "      <th>time</th>\n",
       "    </tr>\n",
       "  </thead>\n",
       "  <tbody>\n",
       "    <tr>\n",
       "      <th>123</th>\n",
       "      <td>2017-05-18 00:50:50 +0000</td>\n",
       "      <td>00:50:50</td>\n",
       "    </tr>\n",
       "    <tr>\n",
       "      <th>1111</th>\n",
       "      <td>2016-03-11 03:22:23 +0000</td>\n",
       "      <td>03:22:23</td>\n",
       "    </tr>\n",
       "    <tr>\n",
       "      <th>442</th>\n",
       "      <td>2016-12-12 00:29:28 +0000</td>\n",
       "      <td>00:29:28</td>\n",
       "    </tr>\n",
       "    <tr>\n",
       "      <th>282</th>\n",
       "      <td>2017-02-17 17:38:57 +0000</td>\n",
       "      <td>17:38:57</td>\n",
       "    </tr>\n",
       "    <tr>\n",
       "      <th>1231</th>\n",
       "      <td>2016-02-15 01:05:02 +0000</td>\n",
       "      <td>01:05:02</td>\n",
       "    </tr>\n",
       "    <tr>\n",
       "      <th>1758</th>\n",
       "      <td>2015-12-07 17:38:09 +0000</td>\n",
       "      <td>17:38:09</td>\n",
       "    </tr>\n",
       "    <tr>\n",
       "      <th>1759</th>\n",
       "      <td>2015-12-07 16:46:21 +0000</td>\n",
       "      <td>16:46:21</td>\n",
       "    </tr>\n",
       "    <tr>\n",
       "      <th>1061</th>\n",
       "      <td>2016-03-22 01:45:15 +0000</td>\n",
       "      <td>01:45:15</td>\n",
       "    </tr>\n",
       "    <tr>\n",
       "      <th>837</th>\n",
       "      <td>2016-06-27 00:07:44 +0000</td>\n",
       "      <td>00:07:44</td>\n",
       "    </tr>\n",
       "    <tr>\n",
       "      <th>1237</th>\n",
       "      <td>2016-02-13 22:29:29 +0000</td>\n",
       "      <td>22:29:29</td>\n",
       "    </tr>\n",
       "    <tr>\n",
       "      <th>1181</th>\n",
       "      <td>2016-02-26 17:20:56 +0000</td>\n",
       "      <td>17:20:56</td>\n",
       "    </tr>\n",
       "    <tr>\n",
       "      <th>134</th>\n",
       "      <td>2017-05-11 17:34:13 +0000</td>\n",
       "      <td>17:34:13</td>\n",
       "    </tr>\n",
       "    <tr>\n",
       "      <th>34</th>\n",
       "      <td>2017-07-12 16:03:00 +0000</td>\n",
       "      <td>16:03:00</td>\n",
       "    </tr>\n",
       "    <tr>\n",
       "      <th>212</th>\n",
       "      <td>2017-03-25 16:45:08 +0000</td>\n",
       "      <td>16:45:08</td>\n",
       "    </tr>\n",
       "    <tr>\n",
       "      <th>998</th>\n",
       "      <td>2016-04-12 20:50:42 +0000</td>\n",
       "      <td>20:50:42</td>\n",
       "    </tr>\n",
       "    <tr>\n",
       "      <th>2010</th>\n",
       "      <td>2015-11-24 01:42:25 +0000</td>\n",
       "      <td>01:42:25</td>\n",
       "    </tr>\n",
       "    <tr>\n",
       "      <th>2107</th>\n",
       "      <td>2015-11-19 03:02:47 +0000</td>\n",
       "      <td>03:02:47</td>\n",
       "    </tr>\n",
       "    <tr>\n",
       "      <th>615</th>\n",
       "      <td>2016-09-20 17:36:50 +0000</td>\n",
       "      <td>17:36:50</td>\n",
       "    </tr>\n",
       "    <tr>\n",
       "      <th>341</th>\n",
       "      <td>2017-01-24 22:44:42 +0000</td>\n",
       "      <td>22:44:42</td>\n",
       "    </tr>\n",
       "    <tr>\n",
       "      <th>1773</th>\n",
       "      <td>2015-12-07 01:47:30 +0000</td>\n",
       "      <td>01:47:30</td>\n",
       "    </tr>\n",
       "  </tbody>\n",
       "</table>\n",
       "</div>"
      ],
      "text/plain": [
       "                      timestamp      time\n",
       "123   2017-05-18 00:50:50 +0000  00:50:50\n",
       "1111  2016-03-11 03:22:23 +0000  03:22:23\n",
       "442   2016-12-12 00:29:28 +0000  00:29:28\n",
       "282   2017-02-17 17:38:57 +0000  17:38:57\n",
       "1231  2016-02-15 01:05:02 +0000  01:05:02\n",
       "1758  2015-12-07 17:38:09 +0000  17:38:09\n",
       "1759  2015-12-07 16:46:21 +0000  16:46:21\n",
       "1061  2016-03-22 01:45:15 +0000  01:45:15\n",
       "837   2016-06-27 00:07:44 +0000  00:07:44\n",
       "1237  2016-02-13 22:29:29 +0000  22:29:29\n",
       "1181  2016-02-26 17:20:56 +0000  17:20:56\n",
       "134   2017-05-11 17:34:13 +0000  17:34:13\n",
       "34    2017-07-12 16:03:00 +0000  16:03:00\n",
       "212   2017-03-25 16:45:08 +0000  16:45:08\n",
       "998   2016-04-12 20:50:42 +0000  20:50:42\n",
       "2010  2015-11-24 01:42:25 +0000  01:42:25\n",
       "2107  2015-11-19 03:02:47 +0000  03:02:47\n",
       "615   2016-09-20 17:36:50 +0000  17:36:50\n",
       "341   2017-01-24 22:44:42 +0000  22:44:42\n",
       "1773  2015-12-07 01:47:30 +0000  01:47:30"
      ]
     },
     "execution_count": 98,
     "metadata": {},
     "output_type": "execute_result"
    }
   ],
   "source": [
    "archive_clean.head()\n",
    "archive_clean[[\"timestamp\",\"time\"]].sample(20)"
   ]
  },
  {
   "cell_type": "code",
   "execution_count": 18,
   "id": "0e3307a3",
   "metadata": {},
   "outputs": [
    {
     "name": "stdout",
     "output_type": "stream",
     "text": [
      "<class 'pandas.core.frame.DataFrame'>\n",
      "Int64Index: 2175 entries, 0 to 2174\n",
      "Data columns (total 20 columns):\n",
      " #   Column                 Non-Null Count  Dtype  \n",
      "---  ------                 --------------  -----  \n",
      " 0   tweet_id               2175 non-null   object \n",
      " 1   in_reply_to_status_id  78 non-null     float64\n",
      " 2   in_reply_to_user_id    78 non-null     float64\n",
      " 3   timestamp              2175 non-null   object \n",
      " 4   source                 2175 non-null   object \n",
      " 5   text                   2175 non-null   object \n",
      " 6   expanded_urls          2175 non-null   object \n",
      " 7   rating_numerator       2175 non-null   int64  \n",
      " 8   rating_denominator     2175 non-null   int64  \n",
      " 9   name                   2175 non-null   object \n",
      " 10  doggo                  2175 non-null   object \n",
      " 11  floofer                2175 non-null   object \n",
      " 12  pupper                 2175 non-null   object \n",
      " 13  puppo                  2175 non-null   object \n",
      " 14  retweet_count          2175 non-null   int64  \n",
      " 15  favorite_count         2175 non-null   int64  \n",
      " 16  hashtags               2175 non-null   object \n",
      " 17  local_url              1994 non-null   object \n",
      " 18  external_url           2175 non-null   object \n",
      " 19  time                   2175 non-null   object \n",
      "dtypes: float64(2), int64(4), object(14)\n",
      "memory usage: 421.4+ KB\n"
     ]
    }
   ],
   "source": [
    "archive_clean.info()"
   ]
  },
  {
   "cell_type": "markdown",
   "id": "9a822d6a",
   "metadata": {},
   "source": [
    "### Issue #5: Quality issue \"wrong columns type\""
   ]
  },
  {
   "cell_type": "markdown",
   "id": "ee7596be",
   "metadata": {},
   "source": [
    "### `Archive Data`"
   ]
  },
  {
   "cell_type": "markdown",
   "id": "ec22ff19",
   "metadata": {},
   "source": [
    "**<font color=\"green\">timestamp and time columns</font>**"
   ]
  },
  {
   "cell_type": "markdown",
   "id": "48ea9507",
   "metadata": {},
   "source": [
    "##### Define\n",
    "\n",
    "The following columns need to be converted to date/time format:\n",
    "\n",
    "* `timestamp`: change to date/time\n",
    "* `time`: change to time"
   ]
  },
  {
   "cell_type": "markdown",
   "id": "5b3d0c45",
   "metadata": {},
   "source": [
    "##### Code"
   ]
  },
  {
   "cell_type": "code",
   "execution_count": 99,
   "id": "1b420167",
   "metadata": {},
   "outputs": [],
   "source": [
    "archive_clean.timestamp = pd.to_datetime(archive_clean.timestamp, infer_datetime_format=True, utc=True)"
   ]
  },
  {
   "cell_type": "code",
   "execution_count": 100,
   "id": "0cf1d9dd",
   "metadata": {},
   "outputs": [],
   "source": [
    "archive_clean.time = pd.to_datetime(archive_clean.time).dt.time"
   ]
  },
  {
   "cell_type": "markdown",
   "id": "cd50c9d2",
   "metadata": {},
   "source": [
    "#### Test"
   ]
  },
  {
   "cell_type": "code",
   "execution_count": 101,
   "id": "1af1a107",
   "metadata": {},
   "outputs": [
    {
     "name": "stdout",
     "output_type": "stream",
     "text": [
      "<class 'pandas.core.frame.DataFrame'>\n",
      "Int64Index: 2175 entries, 0 to 2174\n",
      "Data columns (total 20 columns):\n",
      " #   Column                 Non-Null Count  Dtype              \n",
      "---  ------                 --------------  -----              \n",
      " 0   tweet_id               2175 non-null   object             \n",
      " 1   in_reply_to_status_id  78 non-null     float64            \n",
      " 2   in_reply_to_user_id    78 non-null     float64            \n",
      " 3   timestamp              2175 non-null   datetime64[ns, UTC]\n",
      " 4   source                 2175 non-null   object             \n",
      " 5   text                   2175 non-null   object             \n",
      " 6   expanded_urls          2175 non-null   object             \n",
      " 7   rating_numerator       2175 non-null   int64              \n",
      " 8   rating_denominator     2175 non-null   int64              \n",
      " 9   name                   2175 non-null   object             \n",
      " 10  doggo                  2175 non-null   object             \n",
      " 11  floofer                2175 non-null   object             \n",
      " 12  pupper                 2175 non-null   object             \n",
      " 13  puppo                  2175 non-null   object             \n",
      " 14  retweet_count          2175 non-null   int64              \n",
      " 15  favorite_count         2175 non-null   int64              \n",
      " 16  hashtags               2175 non-null   object             \n",
      " 17  local_url              1994 non-null   object             \n",
      " 18  external_url           2175 non-null   object             \n",
      " 19  time                   2175 non-null   object             \n",
      "dtypes: datetime64[ns, UTC](1), float64(2), int64(4), object(13)\n",
      "memory usage: 421.4+ KB\n"
     ]
    },
    {
     "data": {
      "text/plain": [
       "datetime.time(16, 23, 56)"
      ]
     },
     "execution_count": 101,
     "metadata": {},
     "output_type": "execute_result"
    }
   ],
   "source": [
    "archive_clean.timestamp[0]\n",
    "archive_clean.timestamp.value_counts()\n",
    "archive_clean.info()\n",
    "archive_clean.time[0]"
   ]
  },
  {
   "cell_type": "markdown",
   "id": "c9f0443a",
   "metadata": {},
   "source": [
    "**<font color=\"green\">in_reply_to_status_id, in_reply_to_user_id, retweet_count and favorite_count columns</font>**"
   ]
  },
  {
   "cell_type": "markdown",
   "id": "a95a4672",
   "metadata": {},
   "source": [
    "##### Define\n",
    "\n",
    "The following columns need to be converted to the following formats:\n",
    "\n",
    "* **in_reply_to_status_id** : change to string\n",
    "* **in_reply_to_user_id**: change to string\n",
    "* **retweet_count**: change to int\n",
    "* **favorite_count**: change to int"
   ]
  },
  {
   "cell_type": "markdown",
   "id": "b1a771b4",
   "metadata": {},
   "source": [
    "##### Code"
   ]
  },
  {
   "cell_type": "code",
   "execution_count": 102,
   "id": "5be7a5f6",
   "metadata": {},
   "outputs": [],
   "source": [
    "archive_clean.in_reply_to_status_id = archive_clean.in_reply_to_status_id.fillna(0).astype('int').astype('str').replace(\"0\", np.nan)\n",
    "archive_clean.in_reply_to_user_id = archive_clean.in_reply_to_user_id.fillna(0).astype('int').astype('str').replace(\"0\", np.nan)\n",
    "archive_clean.retweet_count = archive_clean.retweet_count.fillna(0).astype('int')\n",
    "archive_clean.favorite_count = archive_clean.favorite_count.fillna(0).astype('int')"
   ]
  },
  {
   "cell_type": "markdown",
   "id": "f08039c4",
   "metadata": {},
   "source": [
    "##### Test"
   ]
  },
  {
   "cell_type": "code",
   "execution_count": 103,
   "id": "0d6bf03b",
   "metadata": {},
   "outputs": [
    {
     "name": "stdout",
     "output_type": "stream",
     "text": [
      "<class 'pandas.core.frame.DataFrame'>\n",
      "Int64Index: 2175 entries, 0 to 2174\n",
      "Data columns (total 20 columns):\n",
      " #   Column                 Non-Null Count  Dtype              \n",
      "---  ------                 --------------  -----              \n",
      " 0   tweet_id               2175 non-null   object             \n",
      " 1   in_reply_to_status_id  78 non-null     object             \n",
      " 2   in_reply_to_user_id    78 non-null     object             \n",
      " 3   timestamp              2175 non-null   datetime64[ns, UTC]\n",
      " 4   source                 2175 non-null   object             \n",
      " 5   text                   2175 non-null   object             \n",
      " 6   expanded_urls          2175 non-null   object             \n",
      " 7   rating_numerator       2175 non-null   int64              \n",
      " 8   rating_denominator     2175 non-null   int64              \n",
      " 9   name                   2175 non-null   object             \n",
      " 10  doggo                  2175 non-null   object             \n",
      " 11  floofer                2175 non-null   object             \n",
      " 12  pupper                 2175 non-null   object             \n",
      " 13  puppo                  2175 non-null   object             \n",
      " 14  retweet_count          2175 non-null   int32              \n",
      " 15  favorite_count         2175 non-null   int32              \n",
      " 16  hashtags               2175 non-null   object             \n",
      " 17  local_url              1994 non-null   object             \n",
      " 18  external_url           2175 non-null   object             \n",
      " 19  time                   2175 non-null   object             \n",
      "dtypes: datetime64[ns, UTC](1), int32(2), int64(2), object(15)\n",
      "memory usage: 404.4+ KB\n"
     ]
    }
   ],
   "source": [
    "archive_clean.info()"
   ]
  },
  {
   "cell_type": "markdown",
   "id": "872529b9",
   "metadata": {},
   "source": [
    "**<font color=\"green\">hashtags column</font>**"
   ]
  },
  {
   "cell_type": "markdown",
   "id": "61e21d7d",
   "metadata": {},
   "source": [
    "##### Define\n",
    "\n",
    "Add or convert columns to more straightforward true/false format (does the tweet contain hashtags or not).\n",
    "\n",
    "* **hashtags**: change to boolean"
   ]
  },
  {
   "cell_type": "markdown",
   "id": "e1198c3f",
   "metadata": {},
   "source": [
    "##### Code"
   ]
  },
  {
   "cell_type": "code",
   "execution_count": 104,
   "id": "7292b284",
   "metadata": {},
   "outputs": [],
   "source": [
    "#I will change empty lists in hashtags column to NaN's, then i will change column value to whether it's empty, or not.\n",
    "archive_clean.hashtags = ~archive_clean.hashtags.astype('str').replace(\"[]\",np.nan).isnull()\n",
    "archive_clean.hashtags = archive_clean.hashtags.astype('category')"
   ]
  },
  {
   "cell_type": "markdown",
   "id": "9ad68bdd",
   "metadata": {},
   "source": [
    "##### Test"
   ]
  },
  {
   "cell_type": "code",
   "execution_count": 105,
   "id": "c9318fe8",
   "metadata": {},
   "outputs": [
    {
     "name": "stdout",
     "output_type": "stream",
     "text": [
      "<class 'pandas.core.frame.DataFrame'>\n",
      "Int64Index: 2175 entries, 0 to 2174\n",
      "Data columns (total 20 columns):\n",
      " #   Column                 Non-Null Count  Dtype              \n",
      "---  ------                 --------------  -----              \n",
      " 0   tweet_id               2175 non-null   object             \n",
      " 1   in_reply_to_status_id  78 non-null     object             \n",
      " 2   in_reply_to_user_id    78 non-null     object             \n",
      " 3   timestamp              2175 non-null   datetime64[ns, UTC]\n",
      " 4   source                 2175 non-null   object             \n",
      " 5   text                   2175 non-null   object             \n",
      " 6   expanded_urls          2175 non-null   object             \n",
      " 7   rating_numerator       2175 non-null   int64              \n",
      " 8   rating_denominator     2175 non-null   int64              \n",
      " 9   name                   2175 non-null   object             \n",
      " 10  doggo                  2175 non-null   object             \n",
      " 11  floofer                2175 non-null   object             \n",
      " 12  pupper                 2175 non-null   object             \n",
      " 13  puppo                  2175 non-null   object             \n",
      " 14  retweet_count          2175 non-null   int32              \n",
      " 15  favorite_count         2175 non-null   int32              \n",
      " 16  hashtags               2175 non-null   category           \n",
      " 17  local_url              1994 non-null   object             \n",
      " 18  external_url           2175 non-null   object             \n",
      " 19  time                   2175 non-null   object             \n",
      "dtypes: category(1), datetime64[ns, UTC](1), int32(2), int64(2), object(14)\n",
      "memory usage: 389.6+ KB\n"
     ]
    }
   ],
   "source": [
    "archive_clean.hashtags.value_counts()\n",
    "archive_clean.info()"
   ]
  },
  {
   "cell_type": "markdown",
   "id": "74f650b8",
   "metadata": {},
   "source": [
    "### `predictions Data`"
   ]
  },
  {
   "cell_type": "markdown",
   "id": "7dea4686",
   "metadata": {},
   "source": [
    "**<font color=\"green\">tweet ID column</font>**"
   ]
  },
  {
   "cell_type": "markdown",
   "id": "058c2eb4",
   "metadata": {},
   "source": [
    "##### Define\n",
    "\n",
    "Convert column to string format."
   ]
  },
  {
   "cell_type": "markdown",
   "id": "42866468",
   "metadata": {},
   "source": [
    "##### Code"
   ]
  },
  {
   "cell_type": "code",
   "execution_count": 106,
   "id": "257c0ef4",
   "metadata": {},
   "outputs": [],
   "source": [
    "predictions_clean.tweet_id = predictions_clean.tweet_id.astype('str')"
   ]
  },
  {
   "cell_type": "markdown",
   "id": "916af903",
   "metadata": {},
   "source": [
    "##### Test"
   ]
  },
  {
   "cell_type": "code",
   "execution_count": 107,
   "id": "30419052",
   "metadata": {},
   "outputs": [
    {
     "name": "stdout",
     "output_type": "stream",
     "text": [
      "<class 'pandas.core.frame.DataFrame'>\n",
      "RangeIndex: 2075 entries, 0 to 2074\n",
      "Data columns (total 12 columns):\n",
      " #   Column    Non-Null Count  Dtype  \n",
      "---  ------    --------------  -----  \n",
      " 0   tweet_id  2075 non-null   object \n",
      " 1   jpg_url   2075 non-null   object \n",
      " 2   img_num   2075 non-null   int64  \n",
      " 3   p1        2075 non-null   object \n",
      " 4   p1_conf   2075 non-null   float64\n",
      " 5   p1_dog    2075 non-null   bool   \n",
      " 6   p2        2075 non-null   object \n",
      " 7   p2_conf   2075 non-null   float64\n",
      " 8   p2_dog    2075 non-null   bool   \n",
      " 9   p3        2075 non-null   object \n",
      " 10  p3_conf   2075 non-null   float64\n",
      " 11  p3_dog    2075 non-null   bool   \n",
      "dtypes: bool(3), float64(3), int64(1), object(5)\n",
      "memory usage: 152.1+ KB\n"
     ]
    },
    {
     "data": {
      "text/html": [
       "<div>\n",
       "<style scoped>\n",
       "    .dataframe tbody tr th:only-of-type {\n",
       "        vertical-align: middle;\n",
       "    }\n",
       "\n",
       "    .dataframe tbody tr th {\n",
       "        vertical-align: top;\n",
       "    }\n",
       "\n",
       "    .dataframe thead th {\n",
       "        text-align: right;\n",
       "    }\n",
       "</style>\n",
       "<table border=\"1\" class=\"dataframe\">\n",
       "  <thead>\n",
       "    <tr style=\"text-align: right;\">\n",
       "      <th></th>\n",
       "      <th>tweet_id</th>\n",
       "      <th>jpg_url</th>\n",
       "      <th>img_num</th>\n",
       "      <th>p1</th>\n",
       "      <th>p1_conf</th>\n",
       "      <th>p1_dog</th>\n",
       "      <th>p2</th>\n",
       "      <th>p2_conf</th>\n",
       "      <th>p2_dog</th>\n",
       "      <th>p3</th>\n",
       "      <th>p3_conf</th>\n",
       "      <th>p3_dog</th>\n",
       "    </tr>\n",
       "  </thead>\n",
       "  <tbody>\n",
       "    <tr>\n",
       "      <th>0</th>\n",
       "      <td>666020888022790149</td>\n",
       "      <td>https://pbs.twimg.com/media/CT4udn0WwAA0aMy.jpg</td>\n",
       "      <td>1</td>\n",
       "      <td>Welsh_springer_spaniel</td>\n",
       "      <td>0.465074</td>\n",
       "      <td>True</td>\n",
       "      <td>collie</td>\n",
       "      <td>0.156665</td>\n",
       "      <td>True</td>\n",
       "      <td>Shetland_sheepdog</td>\n",
       "      <td>0.061428</td>\n",
       "      <td>True</td>\n",
       "    </tr>\n",
       "    <tr>\n",
       "      <th>1</th>\n",
       "      <td>666029285002620928</td>\n",
       "      <td>https://pbs.twimg.com/media/CT42GRgUYAA5iDo.jpg</td>\n",
       "      <td>1</td>\n",
       "      <td>redbone</td>\n",
       "      <td>0.506826</td>\n",
       "      <td>True</td>\n",
       "      <td>miniature_pinscher</td>\n",
       "      <td>0.074192</td>\n",
       "      <td>True</td>\n",
       "      <td>Rhodesian_ridgeback</td>\n",
       "      <td>0.072010</td>\n",
       "      <td>True</td>\n",
       "    </tr>\n",
       "    <tr>\n",
       "      <th>2</th>\n",
       "      <td>666033412701032449</td>\n",
       "      <td>https://pbs.twimg.com/media/CT4521TWwAEvMyu.jpg</td>\n",
       "      <td>1</td>\n",
       "      <td>German_shepherd</td>\n",
       "      <td>0.596461</td>\n",
       "      <td>True</td>\n",
       "      <td>malinois</td>\n",
       "      <td>0.138584</td>\n",
       "      <td>True</td>\n",
       "      <td>bloodhound</td>\n",
       "      <td>0.116197</td>\n",
       "      <td>True</td>\n",
       "    </tr>\n",
       "    <tr>\n",
       "      <th>3</th>\n",
       "      <td>666044226329800704</td>\n",
       "      <td>https://pbs.twimg.com/media/CT5Dr8HUEAA-lEu.jpg</td>\n",
       "      <td>1</td>\n",
       "      <td>Rhodesian_ridgeback</td>\n",
       "      <td>0.408143</td>\n",
       "      <td>True</td>\n",
       "      <td>redbone</td>\n",
       "      <td>0.360687</td>\n",
       "      <td>True</td>\n",
       "      <td>miniature_pinscher</td>\n",
       "      <td>0.222752</td>\n",
       "      <td>True</td>\n",
       "    </tr>\n",
       "    <tr>\n",
       "      <th>4</th>\n",
       "      <td>666049248165822465</td>\n",
       "      <td>https://pbs.twimg.com/media/CT5IQmsXIAAKY4A.jpg</td>\n",
       "      <td>1</td>\n",
       "      <td>miniature_pinscher</td>\n",
       "      <td>0.560311</td>\n",
       "      <td>True</td>\n",
       "      <td>Rottweiler</td>\n",
       "      <td>0.243682</td>\n",
       "      <td>True</td>\n",
       "      <td>Doberman</td>\n",
       "      <td>0.154629</td>\n",
       "      <td>True</td>\n",
       "    </tr>\n",
       "  </tbody>\n",
       "</table>\n",
       "</div>"
      ],
      "text/plain": [
       "             tweet_id                                          jpg_url  \\\n",
       "0  666020888022790149  https://pbs.twimg.com/media/CT4udn0WwAA0aMy.jpg   \n",
       "1  666029285002620928  https://pbs.twimg.com/media/CT42GRgUYAA5iDo.jpg   \n",
       "2  666033412701032449  https://pbs.twimg.com/media/CT4521TWwAEvMyu.jpg   \n",
       "3  666044226329800704  https://pbs.twimg.com/media/CT5Dr8HUEAA-lEu.jpg   \n",
       "4  666049248165822465  https://pbs.twimg.com/media/CT5IQmsXIAAKY4A.jpg   \n",
       "\n",
       "   img_num                      p1   p1_conf  p1_dog                  p2  \\\n",
       "0        1  Welsh_springer_spaniel  0.465074    True              collie   \n",
       "1        1                 redbone  0.506826    True  miniature_pinscher   \n",
       "2        1         German_shepherd  0.596461    True            malinois   \n",
       "3        1     Rhodesian_ridgeback  0.408143    True             redbone   \n",
       "4        1      miniature_pinscher  0.560311    True          Rottweiler   \n",
       "\n",
       "    p2_conf  p2_dog                   p3   p3_conf  p3_dog  \n",
       "0  0.156665    True    Shetland_sheepdog  0.061428    True  \n",
       "1  0.074192    True  Rhodesian_ridgeback  0.072010    True  \n",
       "2  0.138584    True           bloodhound  0.116197    True  \n",
       "3  0.360687    True   miniature_pinscher  0.222752    True  \n",
       "4  0.243682    True             Doberman  0.154629    True  "
      ]
     },
     "execution_count": 107,
     "metadata": {},
     "output_type": "execute_result"
    }
   ],
   "source": [
    "predictions_clean.info()\n",
    "predictions_clean.head()"
   ]
  },
  {
   "cell_type": "markdown",
   "id": "10b323b9",
   "metadata": {},
   "source": [
    "### Issue #6: quality issue \"no overall rating to see which dogs rated highest\""
   ]
  },
  {
   "cell_type": "markdown",
   "id": "fefcd910",
   "metadata": {},
   "source": [
    "#### Define\n",
    "- no overall 'rating' for purposes of looking at which dogs rated highest (considering not all denominators are 10)\n",
    "- create column for overall 'rating' of dog"
   ]
  },
  {
   "cell_type": "markdown",
   "id": "4d39ce58",
   "metadata": {},
   "source": [
    "##### Code"
   ]
  },
  {
   "cell_type": "code",
   "execution_count": 108,
   "id": "a9cb118b",
   "metadata": {},
   "outputs": [],
   "source": [
    "archive_clean[\"overall_rating\"] = archive_clean.rating_numerator/archive_clean.rating_denominator"
   ]
  },
  {
   "cell_type": "markdown",
   "id": "55b00a46",
   "metadata": {},
   "source": [
    "##### Test"
   ]
  },
  {
   "cell_type": "code",
   "execution_count": 109,
   "id": "95d40994",
   "metadata": {},
   "outputs": [
    {
     "data": {
      "text/html": [
       "<div>\n",
       "<style scoped>\n",
       "    .dataframe tbody tr th:only-of-type {\n",
       "        vertical-align: middle;\n",
       "    }\n",
       "\n",
       "    .dataframe tbody tr th {\n",
       "        vertical-align: top;\n",
       "    }\n",
       "\n",
       "    .dataframe thead th {\n",
       "        text-align: right;\n",
       "    }\n",
       "</style>\n",
       "<table border=\"1\" class=\"dataframe\">\n",
       "  <thead>\n",
       "    <tr style=\"text-align: right;\">\n",
       "      <th></th>\n",
       "      <th>rating_numerator</th>\n",
       "      <th>rating_denominator</th>\n",
       "      <th>overall_rating</th>\n",
       "    </tr>\n",
       "  </thead>\n",
       "  <tbody>\n",
       "    <tr>\n",
       "      <th>0</th>\n",
       "      <td>13</td>\n",
       "      <td>10</td>\n",
       "      <td>1.3</td>\n",
       "    </tr>\n",
       "    <tr>\n",
       "      <th>1</th>\n",
       "      <td>13</td>\n",
       "      <td>10</td>\n",
       "      <td>1.3</td>\n",
       "    </tr>\n",
       "    <tr>\n",
       "      <th>2</th>\n",
       "      <td>12</td>\n",
       "      <td>10</td>\n",
       "      <td>1.2</td>\n",
       "    </tr>\n",
       "    <tr>\n",
       "      <th>3</th>\n",
       "      <td>13</td>\n",
       "      <td>10</td>\n",
       "      <td>1.3</td>\n",
       "    </tr>\n",
       "    <tr>\n",
       "      <th>4</th>\n",
       "      <td>12</td>\n",
       "      <td>10</td>\n",
       "      <td>1.2</td>\n",
       "    </tr>\n",
       "    <tr>\n",
       "      <th>...</th>\n",
       "      <td>...</td>\n",
       "      <td>...</td>\n",
       "      <td>...</td>\n",
       "    </tr>\n",
       "    <tr>\n",
       "      <th>2170</th>\n",
       "      <td>5</td>\n",
       "      <td>10</td>\n",
       "      <td>0.5</td>\n",
       "    </tr>\n",
       "    <tr>\n",
       "      <th>2171</th>\n",
       "      <td>6</td>\n",
       "      <td>10</td>\n",
       "      <td>0.6</td>\n",
       "    </tr>\n",
       "    <tr>\n",
       "      <th>2172</th>\n",
       "      <td>9</td>\n",
       "      <td>10</td>\n",
       "      <td>0.9</td>\n",
       "    </tr>\n",
       "    <tr>\n",
       "      <th>2173</th>\n",
       "      <td>7</td>\n",
       "      <td>10</td>\n",
       "      <td>0.7</td>\n",
       "    </tr>\n",
       "    <tr>\n",
       "      <th>2174</th>\n",
       "      <td>8</td>\n",
       "      <td>10</td>\n",
       "      <td>0.8</td>\n",
       "    </tr>\n",
       "  </tbody>\n",
       "</table>\n",
       "<p>2175 rows × 3 columns</p>\n",
       "</div>"
      ],
      "text/plain": [
       "      rating_numerator  rating_denominator  overall_rating\n",
       "0                   13                  10             1.3\n",
       "1                   13                  10             1.3\n",
       "2                   12                  10             1.2\n",
       "3                   13                  10             1.3\n",
       "4                   12                  10             1.2\n",
       "...                ...                 ...             ...\n",
       "2170                 5                  10             0.5\n",
       "2171                 6                  10             0.6\n",
       "2172                 9                  10             0.9\n",
       "2173                 7                  10             0.7\n",
       "2174                 8                  10             0.8\n",
       "\n",
       "[2175 rows x 3 columns]"
      ]
     },
     "execution_count": 109,
     "metadata": {},
     "output_type": "execute_result"
    }
   ],
   "source": [
    "archive_clean[[\"rating_numerator\", \"rating_denominator\", \"overall_rating\"]]"
   ]
  },
  {
   "cell_type": "markdown",
   "id": "ca6a519e",
   "metadata": {},
   "source": [
    "### Issue #7: Quality issue \"name column has too many values\""
   ]
  },
  {
   "cell_type": "markdown",
   "id": "75757aa9",
   "metadata": {},
   "source": [
    "##### Define\n",
    "Create new column for whether **name** used at all"
   ]
  },
  {
   "cell_type": "markdown",
   "id": "e4dbde8a",
   "metadata": {},
   "source": [
    "##### Code"
   ]
  },
  {
   "cell_type": "code",
   "execution_count": 110,
   "id": "6f486083",
   "metadata": {},
   "outputs": [],
   "source": [
    "archive_clean[\"name_used\"] = archive_clean.name!=\"None\""
   ]
  },
  {
   "cell_type": "markdown",
   "id": "4e85230f",
   "metadata": {},
   "source": [
    "##### Test"
   ]
  },
  {
   "cell_type": "code",
   "execution_count": 111,
   "id": "84e368a3",
   "metadata": {},
   "outputs": [
    {
     "name": "stdout",
     "output_type": "stream",
     "text": [
      "<class 'pandas.core.frame.DataFrame'>\n",
      "Int64Index: 2175 entries, 0 to 2174\n",
      "Data columns (total 22 columns):\n",
      " #   Column                 Non-Null Count  Dtype              \n",
      "---  ------                 --------------  -----              \n",
      " 0   tweet_id               2175 non-null   object             \n",
      " 1   in_reply_to_status_id  78 non-null     object             \n",
      " 2   in_reply_to_user_id    78 non-null     object             \n",
      " 3   timestamp              2175 non-null   datetime64[ns, UTC]\n",
      " 4   source                 2175 non-null   object             \n",
      " 5   text                   2175 non-null   object             \n",
      " 6   expanded_urls          2175 non-null   object             \n",
      " 7   rating_numerator       2175 non-null   int64              \n",
      " 8   rating_denominator     2175 non-null   int64              \n",
      " 9   name                   2175 non-null   object             \n",
      " 10  doggo                  2175 non-null   object             \n",
      " 11  floofer                2175 non-null   object             \n",
      " 12  pupper                 2175 non-null   object             \n",
      " 13  puppo                  2175 non-null   object             \n",
      " 14  retweet_count          2175 non-null   int32              \n",
      " 15  favorite_count         2175 non-null   int32              \n",
      " 16  hashtags               2175 non-null   category           \n",
      " 17  local_url              1994 non-null   object             \n",
      " 18  external_url           2175 non-null   object             \n",
      " 19  time                   2175 non-null   object             \n",
      " 20  overall_rating         2175 non-null   float64            \n",
      " 21  name_used              2175 non-null   bool               \n",
      "dtypes: bool(1), category(1), datetime64[ns, UTC](1), float64(1), int32(2), int64(2), object(14)\n",
      "memory usage: 408.8+ KB\n"
     ]
    }
   ],
   "source": [
    "archive_clean.name_used.value_counts()\n",
    "archive_clean.info()"
   ]
  },
  {
   "cell_type": "markdown",
   "id": "71812a4d",
   "metadata": {},
   "source": [
    "### Issue #8: Quality issue \"pictures are sometimes repeated; some appear to correspond to old retweets\""
   ]
  },
  {
   "cell_type": "markdown",
   "id": "7936fcb0",
   "metadata": {},
   "source": [
    "#### Define\n",
    "Keep only those tweet ID's which are found in tweet archive."
   ]
  },
  {
   "cell_type": "markdown",
   "id": "a63183ef",
   "metadata": {},
   "source": [
    "##### Code"
   ]
  },
  {
   "cell_type": "code",
   "execution_count": 112,
   "id": "4c975322",
   "metadata": {},
   "outputs": [],
   "source": [
    "predictions_clean = predictions_clean[predictions_clean.tweet_id.isin(archive_clean.tweet_id)]"
   ]
  },
  {
   "cell_type": "markdown",
   "id": "1a3cf10c",
   "metadata": {},
   "source": [
    "##### Test"
   ]
  },
  {
   "cell_type": "code",
   "execution_count": 113,
   "id": "2993830f",
   "metadata": {},
   "outputs": [
    {
     "name": "stdout",
     "output_type": "stream",
     "text": [
      "<class 'pandas.core.frame.DataFrame'>\n",
      "Int64Index: 1994 entries, 0 to 2074\n",
      "Data columns (total 12 columns):\n",
      " #   Column    Non-Null Count  Dtype  \n",
      "---  ------    --------------  -----  \n",
      " 0   tweet_id  1994 non-null   object \n",
      " 1   jpg_url   1994 non-null   object \n",
      " 2   img_num   1994 non-null   int64  \n",
      " 3   p1        1994 non-null   object \n",
      " 4   p1_conf   1994 non-null   float64\n",
      " 5   p1_dog    1994 non-null   bool   \n",
      " 6   p2        1994 non-null   object \n",
      " 7   p2_conf   1994 non-null   float64\n",
      " 8   p2_dog    1994 non-null   bool   \n",
      " 9   p3        1994 non-null   object \n",
      " 10  p3_conf   1994 non-null   float64\n",
      " 11  p3_dog    1994 non-null   bool   \n",
      "dtypes: bool(3), float64(3), int64(1), object(5)\n",
      "memory usage: 161.6+ KB\n"
     ]
    }
   ],
   "source": [
    "predictions_clean.jpg_url.value_counts()\n",
    "predictions_clean.info()"
   ]
  },
  {
   "cell_type": "markdown",
   "id": "55657c1b",
   "metadata": {},
   "source": [
    "### Issue #9: Quality issue \"hashtags column includes bad formatting or irrelevant data\""
   ]
  },
  {
   "cell_type": "markdown",
   "id": "06df555d",
   "metadata": {},
   "source": [
    "#### Define\n",
    "Get rid of irrelevant text in column."
   ]
  },
  {
   "cell_type": "markdown",
   "id": "1b93050c",
   "metadata": {},
   "source": [
    "#### Code"
   ]
  },
  {
   "cell_type": "code",
   "execution_count": 114,
   "id": "6a346cdd",
   "metadata": {},
   "outputs": [],
   "source": [
    "hashtags.hashtags = hashtags.hashtags.astype('str').str.extract(r\"'text': '(.+)', \")"
   ]
  },
  {
   "cell_type": "markdown",
   "id": "4b0adee7",
   "metadata": {},
   "source": [
    "#### Test"
   ]
  },
  {
   "cell_type": "code",
   "execution_count": 115,
   "id": "9aa00f0a",
   "metadata": {},
   "outputs": [
    {
     "name": "stdout",
     "output_type": "stream",
     "text": [
      "<class 'pandas.core.frame.DataFrame'>\n",
      "RangeIndex: 26 entries, 0 to 25\n",
      "Data columns (total 2 columns):\n",
      " #   Column    Non-Null Count  Dtype \n",
      "---  ------    --------------  ----- \n",
      " 0   tweet_id  26 non-null     object\n",
      " 1   hashtags  26 non-null     object\n",
      "dtypes: object(2)\n",
      "memory usage: 544.0+ bytes\n"
     ]
    }
   ],
   "source": [
    "hashtags.hashtags.value_counts()\n",
    "hashtags.info()"
   ]
  },
  {
   "cell_type": "markdown",
   "id": "edbae4bb",
   "metadata": {},
   "source": [
    "### Tidiness Issue #1: \"Dog stages need to be combined into one column\""
   ]
  },
  {
   "cell_type": "markdown",
   "id": "44267a84",
   "metadata": {},
   "source": [
    "#### `archive data & predictions Data`"
   ]
  },
  {
   "cell_type": "markdown",
   "id": "abd0c81a",
   "metadata": {},
   "source": [
    "#### Define"
   ]
  },
  {
   "cell_type": "markdown",
   "id": "43e639e4",
   "metadata": {},
   "source": [
    "Make one column that includes the types of dog."
   ]
  },
  {
   "cell_type": "markdown",
   "id": "877e849d",
   "metadata": {},
   "source": [
    "#### Code"
   ]
  },
  {
   "cell_type": "code",
   "execution_count": 116,
   "id": "4fac97cd",
   "metadata": {},
   "outputs": [
    {
     "data": {
      "text/html": [
       "<div>\n",
       "<style scoped>\n",
       "    .dataframe tbody tr th:only-of-type {\n",
       "        vertical-align: middle;\n",
       "    }\n",
       "\n",
       "    .dataframe tbody tr th {\n",
       "        vertical-align: top;\n",
       "    }\n",
       "\n",
       "    .dataframe thead th {\n",
       "        text-align: right;\n",
       "    }\n",
       "</style>\n",
       "<table border=\"1\" class=\"dataframe\">\n",
       "  <thead>\n",
       "    <tr style=\"text-align: right;\">\n",
       "      <th></th>\n",
       "      <th>tweet_id</th>\n",
       "      <th>in_reply_to_status_id</th>\n",
       "      <th>in_reply_to_user_id</th>\n",
       "      <th>timestamp</th>\n",
       "      <th>source</th>\n",
       "      <th>text</th>\n",
       "      <th>expanded_urls</th>\n",
       "      <th>rating_numerator</th>\n",
       "      <th>rating_denominator</th>\n",
       "      <th>name</th>\n",
       "      <th>...</th>\n",
       "      <th>pupper</th>\n",
       "      <th>puppo</th>\n",
       "      <th>retweet_count</th>\n",
       "      <th>favorite_count</th>\n",
       "      <th>hashtags</th>\n",
       "      <th>local_url</th>\n",
       "      <th>external_url</th>\n",
       "      <th>time</th>\n",
       "      <th>overall_rating</th>\n",
       "      <th>name_used</th>\n",
       "    </tr>\n",
       "  </thead>\n",
       "  <tbody>\n",
       "    <tr>\n",
       "      <th>165</th>\n",
       "      <td>855851453814013952</td>\n",
       "      <td>NaN</td>\n",
       "      <td>NaN</td>\n",
       "      <td>2017-04-22 18:31:02+00:00</td>\n",
       "      <td>&lt;a href=\"http://twitter.com/download/iphone\" r...</td>\n",
       "      <td>Here's a puppo participating in the #ScienceMa...</td>\n",
       "      <td>https://twitter.com/dog_rates/status/855851453...</td>\n",
       "      <td>13</td>\n",
       "      <td>10</td>\n",
       "      <td>None</td>\n",
       "      <td>...</td>\n",
       "      <td>None</td>\n",
       "      <td>puppo</td>\n",
       "      <td>19196</td>\n",
       "      <td>47844</td>\n",
       "      <td>True</td>\n",
       "      <td>https://twitter.com/dog_rates/status/855851453...</td>\n",
       "      <td>https://twitter.com/perfy/status/8558573181681...</td>\n",
       "      <td>18:31:02</td>\n",
       "      <td>1.3</td>\n",
       "      <td>False</td>\n",
       "    </tr>\n",
       "    <tr>\n",
       "      <th>172</th>\n",
       "      <td>854010172552949760</td>\n",
       "      <td>NaN</td>\n",
       "      <td>NaN</td>\n",
       "      <td>2017-04-17 16:34:26+00:00</td>\n",
       "      <td>&lt;a href=\"http://twitter.com/download/iphone\" r...</td>\n",
       "      <td>At first I thought this was a shy doggo, but i...</td>\n",
       "      <td>https://twitter.com/dog_rates/status/854010172...</td>\n",
       "      <td>11</td>\n",
       "      <td>10</td>\n",
       "      <td>None</td>\n",
       "      <td>...</td>\n",
       "      <td>None</td>\n",
       "      <td>None</td>\n",
       "      <td>3433</td>\n",
       "      <td>17169</td>\n",
       "      <td>False</td>\n",
       "      <td>https://twitter.com/dog_rates/status/854010172...</td>\n",
       "      <td>https://twitter.com/markhalperin/status/855656...</td>\n",
       "      <td>16:34:26</td>\n",
       "      <td>1.1</td>\n",
       "      <td>False</td>\n",
       "    </tr>\n",
       "    <tr>\n",
       "      <th>382</th>\n",
       "      <td>817777686764523521</td>\n",
       "      <td>NaN</td>\n",
       "      <td>NaN</td>\n",
       "      <td>2017-01-07 16:59:28+00:00</td>\n",
       "      <td>&lt;a href=\"http://twitter.com/download/iphone\" r...</td>\n",
       "      <td>This is Dido. She's playing the lead role in \"...</td>\n",
       "      <td>https://twitter.com/dog_rates/status/817777686...</td>\n",
       "      <td>13</td>\n",
       "      <td>10</td>\n",
       "      <td>Dido</td>\n",
       "      <td>...</td>\n",
       "      <td>pupper</td>\n",
       "      <td>None</td>\n",
       "      <td>3084</td>\n",
       "      <td>11901</td>\n",
       "      <td>False</td>\n",
       "      <td>https://twitter.com/dog_rates/status/817777686...</td>\n",
       "      <td>https://twitter.com/micahgrimes/status/8179020...</td>\n",
       "      <td>16:59:28</td>\n",
       "      <td>1.3</td>\n",
       "      <td>True</td>\n",
       "    </tr>\n",
       "    <tr>\n",
       "      <th>442</th>\n",
       "      <td>808106460588765185</td>\n",
       "      <td>NaN</td>\n",
       "      <td>NaN</td>\n",
       "      <td>2016-12-12 00:29:28+00:00</td>\n",
       "      <td>&lt;a href=\"http://twitter.com/download/iphone\" r...</td>\n",
       "      <td>Here we have Burke (pupper) and Dexter (doggo)...</td>\n",
       "      <td>https://twitter.com/dog_rates/status/808106460...</td>\n",
       "      <td>12</td>\n",
       "      <td>10</td>\n",
       "      <td>None</td>\n",
       "      <td>...</td>\n",
       "      <td>pupper</td>\n",
       "      <td>None</td>\n",
       "      <td>2525</td>\n",
       "      <td>9701</td>\n",
       "      <td>False</td>\n",
       "      <td>https://twitter.com/dog_rates/status/808106460...</td>\n",
       "      <td>https://vine.co/v/5QWd3LZqXxd</td>\n",
       "      <td>00:29:28</td>\n",
       "      <td>1.2</td>\n",
       "      <td>False</td>\n",
       "    </tr>\n",
       "    <tr>\n",
       "      <th>467</th>\n",
       "      <td>802265048156610565</td>\n",
       "      <td>-2147483648</td>\n",
       "      <td>-2147483648</td>\n",
       "      <td>2016-11-25 21:37:47+00:00</td>\n",
       "      <td>&lt;a href=\"http://twitter.com/download/iphone\" r...</td>\n",
       "      <td>Like doggo, like pupper version 2. Both 11/10 ...</td>\n",
       "      <td>https://twitter.com/dog_rates/status/802265048...</td>\n",
       "      <td>11</td>\n",
       "      <td>10</td>\n",
       "      <td>None</td>\n",
       "      <td>...</td>\n",
       "      <td>pupper</td>\n",
       "      <td>None</td>\n",
       "      <td>1573</td>\n",
       "      <td>7039</td>\n",
       "      <td>False</td>\n",
       "      <td>https://twitter.com/dog_rates/status/802265048...</td>\n",
       "      <td>https://vine.co/v/5FwUWjYaW0Y</td>\n",
       "      <td>21:37:47</td>\n",
       "      <td>1.1</td>\n",
       "      <td>False</td>\n",
       "    </tr>\n",
       "    <tr>\n",
       "      <th>474</th>\n",
       "      <td>801115127852503040</td>\n",
       "      <td>NaN</td>\n",
       "      <td>NaN</td>\n",
       "      <td>2016-11-22 17:28:25+00:00</td>\n",
       "      <td>&lt;a href=\"http://twitter.com/download/iphone\" r...</td>\n",
       "      <td>This is Bones. He's being haunted by another d...</td>\n",
       "      <td>https://twitter.com/dog_rates/status/801115127...</td>\n",
       "      <td>12</td>\n",
       "      <td>10</td>\n",
       "      <td>Bones</td>\n",
       "      <td>...</td>\n",
       "      <td>pupper</td>\n",
       "      <td>None</td>\n",
       "      <td>2429</td>\n",
       "      <td>8992</td>\n",
       "      <td>False</td>\n",
       "      <td>https://twitter.com/dog_rates/status/801115127...</td>\n",
       "      <td>nan</td>\n",
       "      <td>17:28:25</td>\n",
       "      <td>1.2</td>\n",
       "      <td>True</td>\n",
       "    </tr>\n",
       "    <tr>\n",
       "      <th>567</th>\n",
       "      <td>785639753186217984</td>\n",
       "      <td>NaN</td>\n",
       "      <td>NaN</td>\n",
       "      <td>2016-10-11 00:34:48+00:00</td>\n",
       "      <td>&lt;a href=\"http://twitter.com/download/iphone\" r...</td>\n",
       "      <td>This is Pinot. He's a sophisticated doggo. You...</td>\n",
       "      <td>https://twitter.com/dog_rates/status/785639753...</td>\n",
       "      <td>10</td>\n",
       "      <td>10</td>\n",
       "      <td>Pinot</td>\n",
       "      <td>...</td>\n",
       "      <td>pupper</td>\n",
       "      <td>None</td>\n",
       "      <td>2561</td>\n",
       "      <td>8735</td>\n",
       "      <td>False</td>\n",
       "      <td>https://twitter.com/dog_rates/status/785639753...</td>\n",
       "      <td>nan</td>\n",
       "      <td>00:34:48</td>\n",
       "      <td>1.0</td>\n",
       "      <td>True</td>\n",
       "    </tr>\n",
       "    <tr>\n",
       "      <th>593</th>\n",
       "      <td>781308096455073793</td>\n",
       "      <td>NaN</td>\n",
       "      <td>NaN</td>\n",
       "      <td>2016-09-29 01:42:20+00:00</td>\n",
       "      <td>&lt;a href=\"http://vine.co\" rel=\"nofollow\"&gt;Vine -...</td>\n",
       "      <td>Pupper butt 1, Doggo 0. Both 12/10 https://t.c...</td>\n",
       "      <td>https://vine.co/v/5rgu2Law2ut</td>\n",
       "      <td>12</td>\n",
       "      <td>10</td>\n",
       "      <td>None</td>\n",
       "      <td>...</td>\n",
       "      <td>pupper</td>\n",
       "      <td>None</td>\n",
       "      <td>2961</td>\n",
       "      <td>7973</td>\n",
       "      <td>False</td>\n",
       "      <td>NaN</td>\n",
       "      <td>https://vine.co/v/5rgu2Law2ut</td>\n",
       "      <td>01:42:20</td>\n",
       "      <td>1.2</td>\n",
       "      <td>False</td>\n",
       "    </tr>\n",
       "    <tr>\n",
       "      <th>722</th>\n",
       "      <td>759793422261743616</td>\n",
       "      <td>NaN</td>\n",
       "      <td>NaN</td>\n",
       "      <td>2016-07-31 16:50:42+00:00</td>\n",
       "      <td>&lt;a href=\"http://twitter.com/download/iphone\" r...</td>\n",
       "      <td>Meet Maggie &amp;amp; Lila. Maggie is the doggo, L...</td>\n",
       "      <td>https://twitter.com/dog_rates/status/759793422...</td>\n",
       "      <td>12</td>\n",
       "      <td>10</td>\n",
       "      <td>Maggie</td>\n",
       "      <td>...</td>\n",
       "      <td>pupper</td>\n",
       "      <td>None</td>\n",
       "      <td>2173</td>\n",
       "      <td>6620</td>\n",
       "      <td>False</td>\n",
       "      <td>https://twitter.com/dog_rates/status/759793422...</td>\n",
       "      <td>https://vine.co/v/5AJm5pq7Kav</td>\n",
       "      <td>16:50:42</td>\n",
       "      <td>1.2</td>\n",
       "      <td>True</td>\n",
       "    </tr>\n",
       "    <tr>\n",
       "      <th>781</th>\n",
       "      <td>751583847268179968</td>\n",
       "      <td>NaN</td>\n",
       "      <td>NaN</td>\n",
       "      <td>2016-07-09 01:08:47+00:00</td>\n",
       "      <td>&lt;a href=\"http://twitter.com/download/iphone\" r...</td>\n",
       "      <td>Please stop sending it pictures that don't eve...</td>\n",
       "      <td>https://twitter.com/dog_rates/status/751583847...</td>\n",
       "      <td>5</td>\n",
       "      <td>10</td>\n",
       "      <td>None</td>\n",
       "      <td>...</td>\n",
       "      <td>pupper</td>\n",
       "      <td>None</td>\n",
       "      <td>1265</td>\n",
       "      <td>4849</td>\n",
       "      <td>False</td>\n",
       "      <td>https://twitter.com/dog_rates/status/751583847...</td>\n",
       "      <td>https://vine.co/v/5W5YHdTJvaV</td>\n",
       "      <td>01:08:47</td>\n",
       "      <td>0.5</td>\n",
       "      <td>False</td>\n",
       "    </tr>\n",
       "    <tr>\n",
       "      <th>885</th>\n",
       "      <td>741067306818797568</td>\n",
       "      <td>NaN</td>\n",
       "      <td>NaN</td>\n",
       "      <td>2016-06-10 00:39:48+00:00</td>\n",
       "      <td>&lt;a href=\"http://twitter.com/download/iphone\" r...</td>\n",
       "      <td>This is just downright precious af. 12/10 for ...</td>\n",
       "      <td>https://twitter.com/dog_rates/status/741067306...</td>\n",
       "      <td>12</td>\n",
       "      <td>10</td>\n",
       "      <td>just</td>\n",
       "      <td>...</td>\n",
       "      <td>pupper</td>\n",
       "      <td>None</td>\n",
       "      <td>3520</td>\n",
       "      <td>10342</td>\n",
       "      <td>False</td>\n",
       "      <td>https://twitter.com/dog_rates/status/741067306...</td>\n",
       "      <td>https://vine.co/v/ixHYvdxUx1L</td>\n",
       "      <td>00:39:48</td>\n",
       "      <td>1.2</td>\n",
       "      <td>True</td>\n",
       "    </tr>\n",
       "    <tr>\n",
       "      <th>935</th>\n",
       "      <td>733109485275860992</td>\n",
       "      <td>NaN</td>\n",
       "      <td>NaN</td>\n",
       "      <td>2016-05-19 01:38:16+00:00</td>\n",
       "      <td>&lt;a href=\"http://twitter.com/download/iphone\" r...</td>\n",
       "      <td>Like father (doggo), like son (pupper). Both 1...</td>\n",
       "      <td>https://twitter.com/dog_rates/status/733109485...</td>\n",
       "      <td>12</td>\n",
       "      <td>10</td>\n",
       "      <td>None</td>\n",
       "      <td>...</td>\n",
       "      <td>pupper</td>\n",
       "      <td>None</td>\n",
       "      <td>17621</td>\n",
       "      <td>44619</td>\n",
       "      <td>False</td>\n",
       "      <td>https://twitter.com/dog_rates/status/733109485...</td>\n",
       "      <td>https://vine.co/v/iExiLXiiHvX</td>\n",
       "      <td>01:38:16</td>\n",
       "      <td>1.2</td>\n",
       "      <td>False</td>\n",
       "    </tr>\n",
       "  </tbody>\n",
       "</table>\n",
       "<p>12 rows × 22 columns</p>\n",
       "</div>"
      ],
      "text/plain": [
       "               tweet_id in_reply_to_status_id in_reply_to_user_id  \\\n",
       "165  855851453814013952                   NaN                 NaN   \n",
       "172  854010172552949760                   NaN                 NaN   \n",
       "382  817777686764523521                   NaN                 NaN   \n",
       "442  808106460588765185                   NaN                 NaN   \n",
       "467  802265048156610565           -2147483648         -2147483648   \n",
       "474  801115127852503040                   NaN                 NaN   \n",
       "567  785639753186217984                   NaN                 NaN   \n",
       "593  781308096455073793                   NaN                 NaN   \n",
       "722  759793422261743616                   NaN                 NaN   \n",
       "781  751583847268179968                   NaN                 NaN   \n",
       "885  741067306818797568                   NaN                 NaN   \n",
       "935  733109485275860992                   NaN                 NaN   \n",
       "\n",
       "                    timestamp  \\\n",
       "165 2017-04-22 18:31:02+00:00   \n",
       "172 2017-04-17 16:34:26+00:00   \n",
       "382 2017-01-07 16:59:28+00:00   \n",
       "442 2016-12-12 00:29:28+00:00   \n",
       "467 2016-11-25 21:37:47+00:00   \n",
       "474 2016-11-22 17:28:25+00:00   \n",
       "567 2016-10-11 00:34:48+00:00   \n",
       "593 2016-09-29 01:42:20+00:00   \n",
       "722 2016-07-31 16:50:42+00:00   \n",
       "781 2016-07-09 01:08:47+00:00   \n",
       "885 2016-06-10 00:39:48+00:00   \n",
       "935 2016-05-19 01:38:16+00:00   \n",
       "\n",
       "                                                source  \\\n",
       "165  <a href=\"http://twitter.com/download/iphone\" r...   \n",
       "172  <a href=\"http://twitter.com/download/iphone\" r...   \n",
       "382  <a href=\"http://twitter.com/download/iphone\" r...   \n",
       "442  <a href=\"http://twitter.com/download/iphone\" r...   \n",
       "467  <a href=\"http://twitter.com/download/iphone\" r...   \n",
       "474  <a href=\"http://twitter.com/download/iphone\" r...   \n",
       "567  <a href=\"http://twitter.com/download/iphone\" r...   \n",
       "593  <a href=\"http://vine.co\" rel=\"nofollow\">Vine -...   \n",
       "722  <a href=\"http://twitter.com/download/iphone\" r...   \n",
       "781  <a href=\"http://twitter.com/download/iphone\" r...   \n",
       "885  <a href=\"http://twitter.com/download/iphone\" r...   \n",
       "935  <a href=\"http://twitter.com/download/iphone\" r...   \n",
       "\n",
       "                                                  text  \\\n",
       "165  Here's a puppo participating in the #ScienceMa...   \n",
       "172  At first I thought this was a shy doggo, but i...   \n",
       "382  This is Dido. She's playing the lead role in \"...   \n",
       "442  Here we have Burke (pupper) and Dexter (doggo)...   \n",
       "467  Like doggo, like pupper version 2. Both 11/10 ...   \n",
       "474  This is Bones. He's being haunted by another d...   \n",
       "567  This is Pinot. He's a sophisticated doggo. You...   \n",
       "593  Pupper butt 1, Doggo 0. Both 12/10 https://t.c...   \n",
       "722  Meet Maggie &amp; Lila. Maggie is the doggo, L...   \n",
       "781  Please stop sending it pictures that don't eve...   \n",
       "885  This is just downright precious af. 12/10 for ...   \n",
       "935  Like father (doggo), like son (pupper). Both 1...   \n",
       "\n",
       "                                         expanded_urls  rating_numerator  \\\n",
       "165  https://twitter.com/dog_rates/status/855851453...                13   \n",
       "172  https://twitter.com/dog_rates/status/854010172...                11   \n",
       "382  https://twitter.com/dog_rates/status/817777686...                13   \n",
       "442  https://twitter.com/dog_rates/status/808106460...                12   \n",
       "467  https://twitter.com/dog_rates/status/802265048...                11   \n",
       "474  https://twitter.com/dog_rates/status/801115127...                12   \n",
       "567  https://twitter.com/dog_rates/status/785639753...                10   \n",
       "593                      https://vine.co/v/5rgu2Law2ut                12   \n",
       "722  https://twitter.com/dog_rates/status/759793422...                12   \n",
       "781  https://twitter.com/dog_rates/status/751583847...                 5   \n",
       "885  https://twitter.com/dog_rates/status/741067306...                12   \n",
       "935  https://twitter.com/dog_rates/status/733109485...                12   \n",
       "\n",
       "     rating_denominator    name  ...  pupper  puppo retweet_count  \\\n",
       "165                  10    None  ...    None  puppo         19196   \n",
       "172                  10    None  ...    None   None          3433   \n",
       "382                  10    Dido  ...  pupper   None          3084   \n",
       "442                  10    None  ...  pupper   None          2525   \n",
       "467                  10    None  ...  pupper   None          1573   \n",
       "474                  10   Bones  ...  pupper   None          2429   \n",
       "567                  10   Pinot  ...  pupper   None          2561   \n",
       "593                  10    None  ...  pupper   None          2961   \n",
       "722                  10  Maggie  ...  pupper   None          2173   \n",
       "781                  10    None  ...  pupper   None          1265   \n",
       "885                  10    just  ...  pupper   None          3520   \n",
       "935                  10    None  ...  pupper   None         17621   \n",
       "\n",
       "    favorite_count  hashtags  \\\n",
       "165          47844      True   \n",
       "172          17169     False   \n",
       "382          11901     False   \n",
       "442           9701     False   \n",
       "467           7039     False   \n",
       "474           8992     False   \n",
       "567           8735     False   \n",
       "593           7973     False   \n",
       "722           6620     False   \n",
       "781           4849     False   \n",
       "885          10342     False   \n",
       "935          44619     False   \n",
       "\n",
       "                                             local_url  \\\n",
       "165  https://twitter.com/dog_rates/status/855851453...   \n",
       "172  https://twitter.com/dog_rates/status/854010172...   \n",
       "382  https://twitter.com/dog_rates/status/817777686...   \n",
       "442  https://twitter.com/dog_rates/status/808106460...   \n",
       "467  https://twitter.com/dog_rates/status/802265048...   \n",
       "474  https://twitter.com/dog_rates/status/801115127...   \n",
       "567  https://twitter.com/dog_rates/status/785639753...   \n",
       "593                                                NaN   \n",
       "722  https://twitter.com/dog_rates/status/759793422...   \n",
       "781  https://twitter.com/dog_rates/status/751583847...   \n",
       "885  https://twitter.com/dog_rates/status/741067306...   \n",
       "935  https://twitter.com/dog_rates/status/733109485...   \n",
       "\n",
       "                                          external_url      time  \\\n",
       "165  https://twitter.com/perfy/status/8558573181681...  18:31:02   \n",
       "172  https://twitter.com/markhalperin/status/855656...  16:34:26   \n",
       "382  https://twitter.com/micahgrimes/status/8179020...  16:59:28   \n",
       "442                      https://vine.co/v/5QWd3LZqXxd  00:29:28   \n",
       "467                      https://vine.co/v/5FwUWjYaW0Y  21:37:47   \n",
       "474                                                nan  17:28:25   \n",
       "567                                                nan  00:34:48   \n",
       "593                      https://vine.co/v/5rgu2Law2ut  01:42:20   \n",
       "722                      https://vine.co/v/5AJm5pq7Kav  16:50:42   \n",
       "781                      https://vine.co/v/5W5YHdTJvaV  01:08:47   \n",
       "885                      https://vine.co/v/ixHYvdxUx1L  00:39:48   \n",
       "935                      https://vine.co/v/iExiLXiiHvX  01:38:16   \n",
       "\n",
       "    overall_rating name_used  \n",
       "165            1.3     False  \n",
       "172            1.1     False  \n",
       "382            1.3      True  \n",
       "442            1.2     False  \n",
       "467            1.1     False  \n",
       "474            1.2      True  \n",
       "567            1.0      True  \n",
       "593            1.2     False  \n",
       "722            1.2      True  \n",
       "781            0.5     False  \n",
       "885            1.2      True  \n",
       "935            1.2     False  \n",
       "\n",
       "[12 rows x 22 columns]"
      ]
     },
     "execution_count": 116,
     "metadata": {},
     "output_type": "execute_result"
    }
   ],
   "source": [
    "#showing only the rows with multiple dog stages.\n",
    "archive_clean.loc[(archive_clean[['doggo', 'floofer', 'pupper', 'puppo']] != 'None'\n",
    "                 ).sum(axis=1) > 1]"
   ]
  },
  {
   "cell_type": "code",
   "execution_count": 117,
   "id": "a63cc243",
   "metadata": {},
   "outputs": [],
   "source": [
    "archive_clean.doggo.replace('None', '', inplace=True)\n",
    "archive_clean.doggo.replace(np.NaN, '', inplace=True)"
   ]
  },
  {
   "cell_type": "code",
   "execution_count": 118,
   "id": "c635dd7c",
   "metadata": {},
   "outputs": [],
   "source": [
    "archive_clean['stage'] = archive_clean.doggo + archive_clean.floofer + archive_clean.pupper + archive_clean.puppo\n",
    "archive_clean.loc[archive_clean.stage == 'doggopupper', 'stage'] = 'doggo,pupper'\n",
    "archive_clean.loc[archive_clean.stage == 'doggopuppo', 'stage'] = 'doggo,puppo'\n",
    "archive_clean.loc[archive_clean.stage == 'doggofloofer', 'stage'] = 'doggo,floofer'"
   ]
  },
  {
   "cell_type": "markdown",
   "id": "3ab18646",
   "metadata": {},
   "source": [
    "#### Test"
   ]
  },
  {
   "cell_type": "code",
   "execution_count": 119,
   "id": "7cc9d40d",
   "metadata": {},
   "outputs": [
    {
     "data": {
      "text/plain": [
       "NoneNoneNone            1831\n",
       "NonepupperNone           224\n",
       "doggoNoneNoneNone         75\n",
       "NoneNonepuppo             24\n",
       "doggoNonepupperNone       10\n",
       "flooferNoneNone            9\n",
       "doggoNoneNonepuppo         1\n",
       "doggoflooferNoneNone       1\n",
       "Name: stage, dtype: int64"
      ]
     },
     "execution_count": 119,
     "metadata": {},
     "output_type": "execute_result"
    }
   ],
   "source": [
    "archive_clean.stage.value_counts()"
   ]
  },
  {
   "cell_type": "code",
   "execution_count": 120,
   "id": "abd72522",
   "metadata": {},
   "outputs": [
    {
     "name": "stdout",
     "output_type": "stream",
     "text": [
      "<class 'pandas.core.frame.DataFrame'>\n",
      "Int64Index: 2175 entries, 0 to 2174\n",
      "Data columns (total 23 columns):\n",
      " #   Column                 Non-Null Count  Dtype              \n",
      "---  ------                 --------------  -----              \n",
      " 0   tweet_id               2175 non-null   object             \n",
      " 1   in_reply_to_status_id  78 non-null     object             \n",
      " 2   in_reply_to_user_id    78 non-null     object             \n",
      " 3   timestamp              2175 non-null   datetime64[ns, UTC]\n",
      " 4   source                 2175 non-null   object             \n",
      " 5   text                   2175 non-null   object             \n",
      " 6   expanded_urls          2175 non-null   object             \n",
      " 7   rating_numerator       2175 non-null   int64              \n",
      " 8   rating_denominator     2175 non-null   int64              \n",
      " 9   name                   2175 non-null   object             \n",
      " 10  doggo                  2175 non-null   object             \n",
      " 11  floofer                2175 non-null   object             \n",
      " 12  pupper                 2175 non-null   object             \n",
      " 13  puppo                  2175 non-null   object             \n",
      " 14  retweet_count          2175 non-null   int32              \n",
      " 15  favorite_count         2175 non-null   int32              \n",
      " 16  hashtags               2175 non-null   category           \n",
      " 17  local_url              1994 non-null   object             \n",
      " 18  external_url           2175 non-null   object             \n",
      " 19  time                   2175 non-null   object             \n",
      " 20  overall_rating         2175 non-null   float64            \n",
      " 21  name_used              2175 non-null   bool               \n",
      " 22  stage                  2175 non-null   object             \n",
      "dtypes: bool(1), category(1), datetime64[ns, UTC](1), float64(1), int32(2), int64(2), object(15)\n",
      "memory usage: 425.7+ KB\n"
     ]
    }
   ],
   "source": [
    "archive_clean.info()"
   ]
  },
  {
   "cell_type": "markdown",
   "id": "31b8533c",
   "metadata": {},
   "source": [
    "**<font color=\"Red\"><h3>no columns in archive for most likely dog and confidence</h3></font>**\n",
    "##### Define\n",
    "Join `predictions` table to `archive` and create a columns for the most likely dog and confidence."
   ]
  },
  {
   "cell_type": "markdown",
   "id": "7ef17568",
   "metadata": {},
   "source": [
    "#### Code"
   ]
  },
  {
   "cell_type": "code",
   "execution_count": 121,
   "id": "6eefbe3a",
   "metadata": {},
   "outputs": [],
   "source": [
    "archive_clean = archive_clean.merge(predictions_clean[[\"tweet_id\",\"p1\",\"p1_conf\",\"p1_dog\"]], on=\"tweet_id\", how=\"left\")"
   ]
  },
  {
   "cell_type": "markdown",
   "id": "c266061c",
   "metadata": {},
   "source": [
    "#### Test"
   ]
  },
  {
   "cell_type": "code",
   "execution_count": 122,
   "id": "8ec9b288",
   "metadata": {},
   "outputs": [
    {
     "data": {
      "text/plain": [
       "golden_retriever      139\n",
       "Labrador_retriever     95\n",
       "Pembroke               88\n",
       "Chihuahua              79\n",
       "pug                    54\n",
       "                     ... \n",
       "nail                    1\n",
       "timber_wolf             1\n",
       "espresso                1\n",
       "bib                     1\n",
       "desktop_computer        1\n",
       "Name: p1, Length: 374, dtype: int64"
      ]
     },
     "execution_count": 122,
     "metadata": {},
     "output_type": "execute_result"
    }
   ],
   "source": [
    "# archive_clean.info()\n",
    "archive_clean.p1.value_counts()\n",
    "# archive_clean.p1_conf.describe()"
   ]
  },
  {
   "cell_type": "markdown",
   "id": "cc346502",
   "metadata": {},
   "source": [
    "### Tidiness Issue #2: \"join the three tables in one\""
   ]
  },
  {
   "cell_type": "markdown",
   "id": "452d9ad4",
   "metadata": {},
   "source": [
    "## Storing Data\n",
    "Save gathered, assessed, and cleaned master dataset to a CSV file named \"twitter_archive_master.csv\"."
   ]
  },
  {
   "cell_type": "code",
   "execution_count": 124,
   "id": "29df5ed8",
   "metadata": {},
   "outputs": [],
   "source": [
    "archive_clean.to_csv(\"twitter_archive_master.csv\", index=False)\n",
    "predictions_clean.to_csv(\"image_predictions.csv\", index=False)\n",
    "hashtags.to_csv(\"hashtags.csv\", index=False)"
   ]
  },
  {
   "cell_type": "markdown",
   "id": "871f4f6b",
   "metadata": {},
   "source": [
    "## Analyzing and Visualizing Data\n",
    "In this section, I will analyze and visualize my wrangled data."
   ]
  },
  {
   "cell_type": "markdown",
   "id": "a61d5dd2",
   "metadata": {},
   "source": [
    "### Time Series\n",
    "\n",
    "* likes and retweets over time\n",
    "* ratings over time\n",
    "* likes and retweets by time of day"
   ]
  },
  {
   "cell_type": "code",
   "execution_count": 125,
   "id": "0f374474",
   "metadata": {},
   "outputs": [
    {
     "data": {
      "image/png": "[encoded data removed]",
      "text/plain": [
       "<Figure size 432x288 with 1 Axes>"
      ]
     },
     "metadata": {
      "needs_background": "light"
     },
     "output_type": "display_data"
    },
    {
     "data": {
      "image/png": "[encoded data removed]",
      "text/plain": [
       "<Figure size 432x288 with 1 Axes>"
      ]
     },
     "metadata": {
      "needs_background": "light"
     },
     "output_type": "display_data"
    },
    {
     "data": {
      "image/png": "[encoded data removed]",
      "text/plain": [
       "<Figure size 432x288 with 1 Axes>"
      ]
     },
     "metadata": {
      "needs_background": "light"
     },
     "output_type": "display_data"
    },
    {
     "data": {
      "image/png": "[encoded data removed]",
      "text/plain": [
       "<Figure size 432x288 with 1 Axes>"
      ]
     },
     "metadata": {
      "needs_background": "light"
     },
     "output_type": "display_data"
    },
    {
     "data": {
      "image/png": "[encoded data removed]",
      "text/plain": [
       "<Figure size 432x288 with 1 Axes>"
      ]
     },
     "metadata": {
      "needs_background": "light"
     },
     "output_type": "display_data"
    },
    {
     "data": {
      "image/png": "[encoded data removed]",
      "text/plain": [
       "<Figure size 432x288 with 1 Axes>"
      ]
     },
     "metadata": {
      "needs_background": "light"
     },
     "output_type": "display_data"
    }
   ],
   "source": [
    "#above is the line i deleted, fig should be declared.\n",
    "fig, axs = plt.subplots()\n",
    "\n",
    "archive_clean.plot(\"timestamp\", \"favorite_count\")\n",
    "fig.autofmt_xdate()\n",
    "\n",
    "archive_clean.plot(\"timestamp\", \"retweet_count\")\n",
    "fig.autofmt_xdate()\n",
    "### favorites clearly increased over time; retweets may have increased slightly\n",
    "\n",
    "archive_clean[archive_clean.overall_rating<10].plot('timestamp', 'overall_rating')\n",
    "fig.autofmt_xdate()\n",
    "### after filtering out unusually high ratings, ratings have clearly increased over time\n",
    "\n",
    "archive_clean.plot('time', y='favorite_count')\n",
    "fig.autofmt_xdate()\n",
    "\n",
    "archive_clean.plot('time', y='retweet_count')\n",
    "fig.autofmt_xdate()\n",
    "### retweets and favorites may be somewhat higher in the morning and evening, but this is not as interesting."
   ]
  },
  {
   "cell_type": "markdown",
   "id": "33f81a3c",
   "metadata": {},
   "source": [
    "### Bar Plots\n",
    "\n",
    "* likes and retweets by dog\n",
    "* ratings by dog "
   ]
  },
  {
   "cell_type": "code",
   "execution_count": 126,
   "id": "928ce78b",
   "metadata": {},
   "outputs": [
    {
     "data": {
      "text/plain": [
       "<AxesSubplot:title={'center':'overall_rating'}, xlabel='p1'>"
      ]
     },
     "execution_count": 126,
     "metadata": {},
     "output_type": "execute_result"
    },
    {
     "data": {
      "image/png": "[encoded data removed]",
      "text/plain": [
       "<Figure size 1296x360 with 1 Axes>"
      ]
     },
     "metadata": {
      "needs_background": "light"
     },
     "output_type": "display_data"
    },
    {
     "data": {
      "image/png": "[encoded data removed]",
      "text/plain": [
       "<Figure size 1296x360 with 1 Axes>"
      ]
     },
     "metadata": {
      "needs_background": "light"
     },
     "output_type": "display_data"
    },
    {
     "data": {
      "image/png": "[encoded data removed]",
      "text/plain": [
       "<Figure size 1296x360 with 1 Axes>"
      ]
     },
     "metadata": {
      "needs_background": "light"
     },
     "output_type": "display_data"
    }
   ],
   "source": [
    "archive_clean[archive_clean.p1_dog==True].boxplot('favorite_count', 'p1', figsize=(18,  5), rot=90)\n",
    "\n",
    "archive_clean[archive_clean.p1_dog==True].boxplot('retweet_count', 'p1', figsize=(18,  5), rot=90)\n",
    "### there are differences between dogs, but it's not clear if they are particularly significant\n",
    "### in any case, it may be worth seeing which dogs are most highly rated in a sorted bar plot\n",
    "\n",
    "archive_clean[archive_clean.p1_dog==True].boxplot('overall_rating', 'p1', figsize=(18,  5), rot=90)"
   ]
  },
  {
   "cell_type": "markdown",
   "id": "7c6e1ff8",
   "metadata": {},
   "source": [
    "### Scatterplots\n",
    "* likes and retweets by dog rating"
   ]
  },
  {
   "cell_type": "code",
   "execution_count": 127,
   "id": "2282a236",
   "metadata": {},
   "outputs": [
    {
     "data": {
      "text/plain": [
       "<AxesSubplot:xlabel='overall_rating', ylabel='retweet_count'>"
      ]
     },
     "execution_count": 127,
     "metadata": {},
     "output_type": "execute_result"
    },
    {
     "data": {
      "image/png": "[encoded data removed]",
      "text/plain": [
       "<Figure size 432x288 with 1 Axes>"
      ]
     },
     "metadata": {
      "needs_background": "light"
     },
     "output_type": "display_data"
    },
    {
     "data": {
      "image/png": "[encoded data removed]",
      "text/plain": [
       "<Figure size 432x288 with 1 Axes>"
      ]
     },
     "metadata": {
      "needs_background": "light"
     },
     "output_type": "display_data"
    }
   ],
   "source": [
    "archive_clean[archive_clean.overall_rating<10].plot.scatter(x=\"overall_rating\", y=\"favorite_count\")\n",
    "\n",
    "archive_clean[archive_clean.overall_rating<10].plot.scatter(x=\"overall_rating\", y=\"retweet_count\")\n",
    "\n",
    "### the higher the rating, the more retweets and favorites, although this may be confounded by time"
   ]
  },
  {
   "cell_type": "markdown",
   "id": "7c0ec2f5",
   "metadata": {},
   "source": [
    "### Favorites, Retweets, and Ratings over Time"
   ]
  },
  {
   "cell_type": "code",
   "execution_count": 128,
   "id": "190ea047",
   "metadata": {},
   "outputs": [
    {
     "data": {
      "text/plain": [
       "<Figure size 432x288 with 0 Axes>"
      ]
     },
     "metadata": {},
     "output_type": "display_data"
    },
    {
     "data": {
      "image/png": "[encoded data removed]",
      "text/plain": [
       "<Figure size 720x720 with 3 Axes>"
      ]
     },
     "metadata": {
      "needs_background": "light"
     },
     "output_type": "display_data"
    }
   ],
   "source": [
    "plt.clf()\n",
    "\n",
    "# make time stamp index\n",
    "temp = archive_clean[archive_clean.overall_rating<10][[\"timestamp\",\n",
    "                                                       \"retweet_count\",\n",
    "                                                       \"favorite_count\",\n",
    "                                                       \"overall_rating\"]].set_index(\"timestamp\").rename_axis(None)\n",
    "\n",
    "# average out retweets, favorites, and ratings over 10 instances, to get a smoother line\n",
    "time = pd.DataFrame({\"retweets\": temp.retweet_count.rolling(10).mean(), \n",
    "                     \"favorites\": temp.favorite_count.rolling(10).mean(),\n",
    "                     \"rating\": temp.overall_rating.rolling(10).mean()})\n",
    "\n",
    "fig = time.plot(subplots=True, figsize=(10,10), title=\"Retweets, Favorites, and Overall Ratings over Time\")\n",
    "#saving the picture\n",
    "#plt.savefig('plots/time.png', bbox_inches='tight')"
   ]
  },
  {
   "cell_type": "markdown",
   "id": "292bd8a4",
   "metadata": {},
   "source": [
    "### Favorites, Retweets, and Ratings by Dog Breed"
   ]
  },
  {
   "cell_type": "code",
   "execution_count": 129,
   "id": "979b703e",
   "metadata": {},
   "outputs": [
    {
     "data": {
      "text/plain": [
       "Text(0.5, 1.0, 'Most Highly Rated Dogs')"
      ]
     },
     "execution_count": 129,
     "metadata": {},
     "output_type": "execute_result"
    },
    {
     "data": {
      "text/plain": [
       "<Figure size 432x288 with 0 Axes>"
      ]
     },
     "metadata": {},
     "output_type": "display_data"
    },
    {
     "data": {
      "image/png": "[encoded data removed]",
      "text/plain": [
       "<Figure size 360x504 with 1 Axes>"
      ]
     },
     "metadata": {
      "needs_background": "light"
     },
     "output_type": "display_data"
    },
    {
     "data": {
      "image/png": "[encoded data removed]",
      "text/plain": [
       "<Figure size 360x504 with 1 Axes>"
      ]
     },
     "metadata": {
      "needs_background": "light"
     },
     "output_type": "display_data"
    },
    {
     "data": {
      "image/png": "[encoded data removed]",
      "text/plain": [
       "<Figure size 360x504 with 1 Axes>"
      ]
     },
     "metadata": {
      "needs_background": "light"
     },
     "output_type": "display_data"
    }
   ],
   "source": [
    "plt.clf()\n",
    "\n",
    "# see which dog breeds were mentioned more than 5 times.\n",
    "multiple_posts = archive_clean[archive_clean.p1_dog==True].groupby('p1')['tweet_id'].count()\n",
    "multiple_posts = list(multiple_posts[multiple_posts>5].reset_index().p1)\n",
    "\n",
    "# filter out outlier high ratings, non-dogs, very low picture confience, and dog breeds infrequently mentioned\n",
    "dog_breed = archive_clean[(archive_clean.p1_dog==True) & \n",
    "              (archive_clean.overall_rating<10) &\n",
    "              (archive_clean.p1.isin(multiple_posts)) &\n",
    "              (archive_clean.p1_conf>0.3)].groupby('p1')[\"favorite_count\"].mean().reset_index().sort_values('favorite_count', ascending=True).set_index('p1')\n",
    "fig = dog_breed.tail(10).head(10).plot.barh(figsize=(5,7))\n",
    "fig.set_ylabel(\"Dog Breeds\")\n",
    "fig.set_title(\"Most Favorited Dogs\")\n",
    "#plt.savefig('plots/favorited_dogs.png', bbox_inches='tight')\n",
    "\n",
    "dog_breed = archive_clean[(archive_clean.p1_dog==True) & \n",
    "              (archive_clean.overall_rating<10) &\n",
    "              (archive_clean.p1.isin(multiple_posts)) &\n",
    "              (archive_clean.p1_conf>0.3)].groupby('p1')[\"retweet_count\"].mean().reset_index().sort_values('retweet_count', ascending=True).set_index('p1')\n",
    "fig = dog_breed.tail(10).plot.barh(figsize=(5,7))\n",
    "fig.set_ylabel(\"Dog Breeds\")\n",
    "fig.set_title(\"Most Retweeted Dogs\")\n",
    "#plt.savefig('plots/retweeted_dogs.png', bbox_inches='tight')\n",
    "\n",
    "dog_breed = archive_clean[(archive_clean.p1_dog==True) & \n",
    "              (archive_clean.overall_rating<10) &\n",
    "              (archive_clean.p1.isin(multiple_posts)) &\n",
    "              (archive_clean.p1_conf>0.3)].groupby('p1')[\"overall_rating\"].mean().reset_index().sort_values('overall_rating', ascending=True).set_index('p1')\n",
    "fig = dog_breed.tail(10).head(10).plot.barh(figsize=(5,7))\n",
    "fig.set_ylabel(\"Dog Breeds\")\n",
    "fig.set_title(\"Most Highly Rated Dogs\")\n",
    "#plt.savefig('plots/rated_dogs.png', bbox_inches='tight')\n"
   ]
  },
  {
   "cell_type": "markdown",
   "id": "11820095",
   "metadata": {},
   "source": [
    "### Favorites by Dog Rating"
   ]
  },
  {
   "cell_type": "code",
   "execution_count": 132,
   "id": "c0dd2141",
   "metadata": {},
   "outputs": [
    {
     "data": {
      "text/plain": [
       "Text(0.5, 1.0, 'Favorites by Dog Rating')"
      ]
     },
     "execution_count": 132,
     "metadata": {},
     "output_type": "execute_result"
    },
    {
     "data": {
      "text/plain": [
       "<Figure size 432x288 with 0 Axes>"
      ]
     },
     "metadata": {},
     "output_type": "display_data"
    },
    {
     "data": {
      "image/png": "[encoded data removed]",
      "text/plain": [
       "<Figure size 432x288 with 1 Axes>"
      ]
     },
     "metadata": {
      "needs_background": "light"
     },
     "output_type": "display_data"
    }
   ],
   "source": [
    "plt.clf()\n",
    "dog_rating = archive_clean[[\"overall_rating\",\"favorite_count\"]]\n",
    "noise = np.random.normal(1, 0.05, len(dog_rating.overall_rating))\n",
    "\n",
    "# filter out outlier high ratings, outlier high favorites\n",
    "fig = dog_rating[(dog_rating.overall_rating<10) &\n",
    "           (dog_rating.favorite_count<90000)].plot.scatter(\"overall_rating\", \n",
    "                   \"favorite_count\", alpha=0.5, color=\"black\")\n",
    "fig.set_xlabel(\"Overall Dog Rating\")\n",
    "fig.set_ylabel(\"Number of Favorites\")\n",
    "fig.set_title(\"Favorites by Dog Rating\")\n",
    "#plt.savefig('plots/favorites_rating.png', bbox_inches='tight')"
   ]
  }
 ],
 "metadata": {
  "kernelspec": {
   "display_name": "Python 3 (ipykernel)",
   "language": "python",
   "name": "python3"
  },
  "language_info": {
   "codemirror_mode": {
    "name": "ipython",
    "version": 3
   },
   "file_extension": ".py",
   "mimetype": "text/x-python",
   "name": "python",
   "nbconvert_exporter": "python",
   "pygments_lexer": "ipython3",
   "version": "3.9.12"
  }
 },
 "nbformat": 4,
 "nbformat_minor": 5
}
