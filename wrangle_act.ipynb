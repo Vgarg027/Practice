{
 "cells": [
  {
   "cell_type": "markdown",
   "id": "e3532fcd",
   "metadata": {},
   "source": [
    "# Project: Data Analysis of  <i>WeRateDogs</i> Twitter Account Data\n",
    "\n",
    "\n",
    "**Table of Contents:**\n",
    "<ul>\n",
    "    <li><a href='#introduction'> Introduction </a></li>\n",
    "    <li><a href='#data gathering'> Data Gathering </a></li>\n",
    "    <li><a href='#data assessment'> Data Assessment </a></li>\n",
    "    <li><a href='#data cleaning'> Data Cleaning </a></li>\n",
    "    <li><a href='#data storing'> Data Storing </a></li>\n",
    "    <li><a href='#eda'> Exploratory Data Analysis </a></li>\n",
    "</ul>\n"
   ]
  },
  {
   "cell_type": "markdown",
   "id": "4a359f1e",
   "metadata": {},
   "source": [
    "<a id='introduction'></a>\n",
    "\n",
    "# INTRODUCTION\n",
    "\n",
    "> <u>**List of Data Sets:**</u> <ol>\n",
    "    <li>Twitter Archive Enhanced</li>\n",
    "    <li>Image Predictions</li>\n",
    "    <li>tweet Json</li>\n",
    "    \n",
    "    \n",
    "> **1. Twitter Archive Enhanced (.csv):** <ul><li>\n",
    "    **Dataset Source:** [Udacity](https://d17h27t6h515a5.cloudfront.net/topher/2017/August/59a4e958_twitter-archive-enhanced/twitter-archive-enhanced.csv) <li>\n",
    "> **Description of Dataset:**   \n",
    "This data set contains the basic tweet data for all 5000+ of their (WeRateDogs) tweets as of the time it was extracted, but not everything. However, from the first column, records for the rest columns were extracted to make it enhanced.<li>\n",
    "    > **Variable (Column) Information:** <br>\n",
    "> There are seventeen (17) columns in this data set:\n",
    "> <ol>\n",
    "    <li> tweet_id: The last part of the tweet URL after \"status/\"\n",
    "    <li> in_reply_to_status_id: If the represented Tweet is a reply, this field will contain the integer representation of the original Tweet's ID\n",
    "    <li> in_reply_to_user_id: If the represented Tweet is a reply, this field will contain the integer representation of the original Tweet's author ID\n",
    "    <li> timestamp: The time the tweet was posted\n",
    "    <li> source: URL source for each tweet\n",
    "    <li> text: Tweet content\n",
    "    <li> retweeted_status_id: Id of the tweet which was retweeted by this one. Empty if the current tweet is not a retweet. \n",
    "    <li> retweeted_status_user_id: The identity of the author that retweeted\n",
    "    <li> retweeted_status_timestamp: The time the retweeted status was made\n",
    "    <li> expanded_urls: Absolute tweet URL\n",
    "    <li> rating_numerator: Dog rating by users (numerator)\n",
    "    <li> rating_denominator: Dog rating by users (denominator)\n",
    "    <li> name: Name/breed of the dog\n",
    "    <li> doggo: Indicates if the dog stage is doggo\n",
    "    <li> floofer: Indicates if the dog stage is floofer\n",
    "    <li> pupper: Indicates if the dog stage is pupper\n",
    "    <li> puppo: Indicates if the dog stage is puppo\n",
    " </ol> \n",
    "    \n",
    "      \n",
    "> **2. Image Predictions (.tsv):** <ul><li>\n",
    "    **Dataset Source:** [Udacity](https://d17h27t6h515a5.cloudfront.net/topher/2017/August/599fd2ad_image-predictions/image-predictions.tsv) <li>\n",
    "> **Description of Dataset:**   \n",
    "This data set contains a table full of image predictions (the top three only) alongside each tweet ID, image URL, and the image number that corresponded to the most confident prediction (numbered 1 to 4 since tweets can have up to four images). Gotten via a neutral network.<li>\n",
    "    > **Variable (Column) Information:** <br>\n",
    "> There are twelve (12) columns in this data set:\n",
    "> <ol>\n",
    "    <li> jpg_url:  Website address of the image.\n",
    "    <li> img_num:  The image number that corresponded to the most confident prediction (numbered 1 to 4 since tweets can have up to four images).\n",
    "    <li> p1:  The algorithm's prediction for the image in the tweet.\n",
    "    <li> p1_conf:  How confident the algorithm is in its prediction.\n",
    "    <li> p1_dog:  Whether or not the prediction is a breed of dog.\n",
    "    <li> p2:  The algorithm's second most likely prediction.\n",
    "    <li> p2_conf:  How confident the algorithm is in its second prediction.\n",
    "    <li> p2_dog:  Whether or not the second prediction is a breed of dog.\n",
    "    <li> p3:  Algorithm's third most likely prediction.\n",
    "    <li> p3_conf:  How confident the algorithm is in its third prediction.\n",
    "    <li> p3_dog:  Whether or not the third prediction is a breed of dog.\n",
    " </ol> \n",
    "    \n",
    "      \n",
    "> **3. Tweet Json (.txt):** <ul><li>\n",
    "    **Dataset Source:** [WeRateDogs - Twitter](https://twitter.com/dog_rates) <li>\n",
    "> **Description of Dataset:**   \n",
    "This data set contains addtional information related to enhanced twitter data set such as; tweet ID, retweet count, and favorite count which will aid the overall data analysis process.<li>\n",
    "    > **Variable (Column) Information:** <br>\n",
    "> There are three (3) columns in this data set:\n",
    "> <ol>\n",
    "    <li> tweet_id: The last part of the tweet URL after \"status/\" for each tweet\n",
    "    <li> retweet_count: Number of retweets\n",
    "    <li> favourite_count: The number of tweets that given user has marked as favorite\n",
    " </ol> \n",
    "\n",
    "\n",
    "### <u> Analysis Questions: </u>\n",
    "> Which dog had the highest rating and what were the factors responsible? <br> <ul>\n",
    "> <b>supporting questions:</b>\n",
    "> <ul> <li> Which breed of dog had the highest rating (with confidence level)? </li>\n",
    "    <li> The dogs with the highest ratings were in what stage? </li>\n",
    "    <li> Was there a correlation with the dog rating and number of retweeted tweet count and favorite count? </li> </ul>\n",
    "    \n"
   ]
  },
  {
   "cell_type": "code",
   "execution_count": 1,
   "id": "46fc7e2c",
   "metadata": {},
   "outputs": [],
   "source": [
    "# needed modules\n",
    "from bs4 import BeautifulSoup\n",
    "import pandas as pd\n",
    "import numpy as np\n",
    "import matplotlib.pyplot as plt\n",
    "import seaborn as sns\n",
    "import requests as rq\n",
    "import tweepy \n",
    "from tweepy import OAuthHandler\n",
    "import json\n",
    "%matplotlib inline\n"
   ]
  },
  {
   "cell_type": "markdown",
   "id": "70b31ef9",
   "metadata": {},
   "source": [
    "<a id='data gathering'></a>\n",
    "\n",
    "# DATA GATHERING"
   ]
  },
  {
   "cell_type": "markdown",
   "id": "462ce543",
   "metadata": {},
   "source": [
    "<b>1. Twitter Archive Enhanced via Download:</b>"
   ]
  },
  {
   "cell_type": "code",
   "execution_count": 2,
   "id": "bfb747d0",
   "metadata": {},
   "outputs": [
    {
     "data": {
      "text/html": [
       "<div>\n",
       "<style scoped>\n",
       "    .dataframe tbody tr th:only-of-type {\n",
       "        vertical-align: middle;\n",
       "    }\n",
       "\n",
       "    .dataframe tbody tr th {\n",
       "        vertical-align: top;\n",
       "    }\n",
       "\n",
       "    .dataframe thead th {\n",
       "        text-align: right;\n",
       "    }\n",
       "</style>\n",
       "<table border=\"1\" class=\"dataframe\">\n",
       "  <thead>\n",
       "    <tr style=\"text-align: right;\">\n",
       "      <th></th>\n",
       "      <th>tweet_id</th>\n",
       "      <th>in_reply_to_status_id</th>\n",
       "      <th>in_reply_to_user_id</th>\n",
       "      <th>timestamp</th>\n",
       "      <th>source</th>\n",
       "      <th>text</th>\n",
       "      <th>retweeted_status_id</th>\n",
       "      <th>retweeted_status_user_id</th>\n",
       "      <th>retweeted_status_timestamp</th>\n",
       "      <th>expanded_urls</th>\n",
       "      <th>rating_numerator</th>\n",
       "      <th>rating_denominator</th>\n",
       "      <th>name</th>\n",
       "      <th>doggo</th>\n",
       "      <th>floofer</th>\n",
       "      <th>pupper</th>\n",
       "      <th>puppo</th>\n",
       "    </tr>\n",
       "  </thead>\n",
       "  <tbody>\n",
       "    <tr>\n",
       "      <th>0</th>\n",
       "      <td>892420643555336193</td>\n",
       "      <td>NaN</td>\n",
       "      <td>NaN</td>\n",
       "      <td>2017-08-01 16:23:56 +0000</td>\n",
       "      <td>&lt;a href=\"http://twitter.com/download/iphone\" r...</td>\n",
       "      <td>This is Phineas. He's a mystical boy. Only eve...</td>\n",
       "      <td>NaN</td>\n",
       "      <td>NaN</td>\n",
       "      <td>NaN</td>\n",
       "      <td>https://twitter.com/dog_rates/status/892420643...</td>\n",
       "      <td>13</td>\n",
       "      <td>10</td>\n",
       "      <td>Phineas</td>\n",
       "      <td>None</td>\n",
       "      <td>None</td>\n",
       "      <td>None</td>\n",
       "      <td>None</td>\n",
       "    </tr>\n",
       "    <tr>\n",
       "      <th>1</th>\n",
       "      <td>892177421306343426</td>\n",
       "      <td>NaN</td>\n",
       "      <td>NaN</td>\n",
       "      <td>2017-08-01 00:17:27 +0000</td>\n",
       "      <td>&lt;a href=\"http://twitter.com/download/iphone\" r...</td>\n",
       "      <td>This is Tilly. She's just checking pup on you....</td>\n",
       "      <td>NaN</td>\n",
       "      <td>NaN</td>\n",
       "      <td>NaN</td>\n",
       "      <td>https://twitter.com/dog_rates/status/892177421...</td>\n",
       "      <td>13</td>\n",
       "      <td>10</td>\n",
       "      <td>Tilly</td>\n",
       "      <td>None</td>\n",
       "      <td>None</td>\n",
       "      <td>None</td>\n",
       "      <td>None</td>\n",
       "    </tr>\n",
       "  </tbody>\n",
       "</table>\n",
       "</div>"
      ],
      "text/plain": [
       "             tweet_id  in_reply_to_status_id  in_reply_to_user_id  \\\n",
       "0  892420643555336193                    NaN                  NaN   \n",
       "1  892177421306343426                    NaN                  NaN   \n",
       "\n",
       "                   timestamp  \\\n",
       "0  2017-08-01 16:23:56 +0000   \n",
       "1  2017-08-01 00:17:27 +0000   \n",
       "\n",
       "                                              source  \\\n",
       "0  <a href=\"http://twitter.com/download/iphone\" r...   \n",
       "1  <a href=\"http://twitter.com/download/iphone\" r...   \n",
       "\n",
       "                                                text  retweeted_status_id  \\\n",
       "0  This is Phineas. He's a mystical boy. Only eve...                  NaN   \n",
       "1  This is Tilly. She's just checking pup on you....                  NaN   \n",
       "\n",
       "   retweeted_status_user_id retweeted_status_timestamp  \\\n",
       "0                       NaN                        NaN   \n",
       "1                       NaN                        NaN   \n",
       "\n",
       "                                       expanded_urls  rating_numerator  \\\n",
       "0  https://twitter.com/dog_rates/status/892420643...                13   \n",
       "1  https://twitter.com/dog_rates/status/892177421...                13   \n",
       "\n",
       "   rating_denominator     name doggo floofer pupper puppo  \n",
       "0                  10  Phineas  None    None   None  None  \n",
       "1                  10    Tilly  None    None   None  None  "
      ]
     },
     "execution_count": 2,
     "metadata": {},
     "output_type": "execute_result"
    }
   ],
   "source": [
    "# read data set\n",
    "twt_archive = pd.read_csv('twitter-archive-enhanced.csv')\n",
    "\n",
    "# confirm\n",
    "twt_archive.head(2)\n",
    "\n",
    "#confirm length of id/tweet_id record\n",
    "# len(str(twt_archive['tweet_id'][0]))"
   ]
  },
  {
   "cell_type": "markdown",
   "id": "eb322e6e",
   "metadata": {},
   "source": [
    "<b>2. Image Predictions (downloaded programmatically):</b>"
   ]
  },
  {
   "cell_type": "code",
   "execution_count": 3,
   "id": "2d30c3aa",
   "metadata": {},
   "outputs": [
    {
     "data": {
      "text/html": [
       "<div>\n",
       "<style scoped>\n",
       "    .dataframe tbody tr th:only-of-type {\n",
       "        vertical-align: middle;\n",
       "    }\n",
       "\n",
       "    .dataframe tbody tr th {\n",
       "        vertical-align: top;\n",
       "    }\n",
       "\n",
       "    .dataframe thead th {\n",
       "        text-align: right;\n",
       "    }\n",
       "</style>\n",
       "<table border=\"1\" class=\"dataframe\">\n",
       "  <thead>\n",
       "    <tr style=\"text-align: right;\">\n",
       "      <th></th>\n",
       "      <th>tweet_id</th>\n",
       "      <th>jpg_url</th>\n",
       "      <th>img_num</th>\n",
       "      <th>p1</th>\n",
       "      <th>p1_conf</th>\n",
       "      <th>p1_dog</th>\n",
       "      <th>p2</th>\n",
       "      <th>p2_conf</th>\n",
       "      <th>p2_dog</th>\n",
       "      <th>p3</th>\n",
       "      <th>p3_conf</th>\n",
       "      <th>p3_dog</th>\n",
       "    </tr>\n",
       "  </thead>\n",
       "  <tbody>\n",
       "    <tr>\n",
       "      <th>2074</th>\n",
       "      <td>892420643555336193</td>\n",
       "      <td>https://pbs.twimg.com/media/DGKD1-bXoAAIAUK.jpg</td>\n",
       "      <td>1</td>\n",
       "      <td>orange</td>\n",
       "      <td>0.097049</td>\n",
       "      <td>False</td>\n",
       "      <td>bagel</td>\n",
       "      <td>0.085851</td>\n",
       "      <td>False</td>\n",
       "      <td>banana</td>\n",
       "      <td>0.076110</td>\n",
       "      <td>False</td>\n",
       "    </tr>\n",
       "    <tr>\n",
       "      <th>2073</th>\n",
       "      <td>892177421306343426</td>\n",
       "      <td>https://pbs.twimg.com/media/DGGmoV4XsAAUL6n.jpg</td>\n",
       "      <td>1</td>\n",
       "      <td>Chihuahua</td>\n",
       "      <td>0.323581</td>\n",
       "      <td>True</td>\n",
       "      <td>Pekinese</td>\n",
       "      <td>0.090647</td>\n",
       "      <td>True</td>\n",
       "      <td>papillon</td>\n",
       "      <td>0.068957</td>\n",
       "      <td>True</td>\n",
       "    </tr>\n",
       "    <tr>\n",
       "      <th>2072</th>\n",
       "      <td>891815181378084864</td>\n",
       "      <td>https://pbs.twimg.com/media/DGBdLU1WsAANxJ9.jpg</td>\n",
       "      <td>1</td>\n",
       "      <td>Chihuahua</td>\n",
       "      <td>0.716012</td>\n",
       "      <td>True</td>\n",
       "      <td>malamute</td>\n",
       "      <td>0.078253</td>\n",
       "      <td>True</td>\n",
       "      <td>kelpie</td>\n",
       "      <td>0.031379</td>\n",
       "      <td>True</td>\n",
       "    </tr>\n",
       "    <tr>\n",
       "      <th>2071</th>\n",
       "      <td>891689557279858688</td>\n",
       "      <td>https://pbs.twimg.com/media/DF_q7IAWsAEuuN8.jpg</td>\n",
       "      <td>1</td>\n",
       "      <td>paper_towel</td>\n",
       "      <td>0.170278</td>\n",
       "      <td>False</td>\n",
       "      <td>Labrador_retriever</td>\n",
       "      <td>0.168086</td>\n",
       "      <td>True</td>\n",
       "      <td>spatula</td>\n",
       "      <td>0.040836</td>\n",
       "      <td>False</td>\n",
       "    </tr>\n",
       "    <tr>\n",
       "      <th>2070</th>\n",
       "      <td>891327558926688256</td>\n",
       "      <td>https://pbs.twimg.com/media/DF6hr6BUMAAzZgT.jpg</td>\n",
       "      <td>2</td>\n",
       "      <td>basset</td>\n",
       "      <td>0.555712</td>\n",
       "      <td>True</td>\n",
       "      <td>English_springer</td>\n",
       "      <td>0.225770</td>\n",
       "      <td>True</td>\n",
       "      <td>German_short-haired_pointer</td>\n",
       "      <td>0.175219</td>\n",
       "      <td>True</td>\n",
       "    </tr>\n",
       "  </tbody>\n",
       "</table>\n",
       "</div>"
      ],
      "text/plain": [
       "                tweet_id                                          jpg_url  \\\n",
       "2074  892420643555336193  https://pbs.twimg.com/media/DGKD1-bXoAAIAUK.jpg   \n",
       "2073  892177421306343426  https://pbs.twimg.com/media/DGGmoV4XsAAUL6n.jpg   \n",
       "2072  891815181378084864  https://pbs.twimg.com/media/DGBdLU1WsAANxJ9.jpg   \n",
       "2071  891689557279858688  https://pbs.twimg.com/media/DF_q7IAWsAEuuN8.jpg   \n",
       "2070  891327558926688256  https://pbs.twimg.com/media/DF6hr6BUMAAzZgT.jpg   \n",
       "\n",
       "      img_num           p1   p1_conf  p1_dog                  p2   p2_conf  \\\n",
       "2074        1       orange  0.097049   False               bagel  0.085851   \n",
       "2073        1    Chihuahua  0.323581    True            Pekinese  0.090647   \n",
       "2072        1    Chihuahua  0.716012    True            malamute  0.078253   \n",
       "2071        1  paper_towel  0.170278   False  Labrador_retriever  0.168086   \n",
       "2070        2       basset  0.555712    True    English_springer  0.225770   \n",
       "\n",
       "      p2_dog                           p3   p3_conf  p3_dog  \n",
       "2074   False                       banana  0.076110   False  \n",
       "2073    True                     papillon  0.068957    True  \n",
       "2072    True                       kelpie  0.031379    True  \n",
       "2071    True                      spatula  0.040836   False  \n",
       "2070    True  German_short-haired_pointer  0.175219    True  "
      ]
     },
     "execution_count": 3,
     "metadata": {},
     "output_type": "execute_result"
    }
   ],
   "source": [
    "# data set web address\n",
    "url = \"https://d17h27t6h515a5.cloudfront.net/topher/2017/August/599fd2ad_image-predictions/image-predictions.tsv\"\n",
    "\n",
    "# send request for file \n",
    "get_imgfile = rq.get(url)\n",
    "\n",
    "# write recieved file content to flatfile using the context manager\n",
    "with open('image_predictions.tsv', 'wb') as flatfile:\n",
    "    flatfile.write(get_imgfile.content)\n",
    "    \n",
    "# read flatfile as dataframe\n",
    "img_pred = pd.read_csv('image_predictions.tsv', sep='\\t')\n",
    "\n",
    "# inspect\n",
    "img_pred.sort_values('tweet_id', ascending=False).head()\n",
    "\n",
    "#confirm length of id/tweet_id record\n",
    "# len(str(img_pred['tweet_id'][0]))"
   ]
  },
  {
   "cell_type": "markdown",
   "id": "aa5f20c9",
   "metadata": {},
   "source": [
    "<b>3. Additional Tweets Data (downloaded programmatically via API):</b>"
   ]
  },
  {
   "cell_type": "markdown",
   "id": "b05d5c53",
   "metadata": {},
   "source": [
    "<i><b> note: I have comment out the API code below to allow seamless reading and running of this data analysis report since I have already gotten the needed data set </b></i>"
   ]
  },
  {
   "cell_type": "code",
   "execution_count": 4,
   "id": "a42f7853",
   "metadata": {},
   "outputs": [],
   "source": [
    "# Query Twitter API for each tweet in the Twitter archive and save JSON in a text file\n",
    "\n",
    "# These are hidden to comply with Twitter's API terms and conditions\n",
    "consumer_key = 'HIDDEN'\n",
    "consumer_secret = 'HIDDEN'\n",
    "access_token = 'HIDDEN'\n",
    "access_secret = 'HIDDEN'\n",
    "\n",
    "auth = OAuthHandler(consumer_key, consumer_secret)\n",
    "auth.set_access_token(access_token, access_secret)\n",
    "\n",
    "api = tweepy.API(auth, wait_on_rate_limit=True)\n",
    "\n",
    "# NOTE TO REVIEWER: this student had mobile verification issues so the following\n",
    "# Twitter API code was sent to this student from a Udacity instructor\n",
    "\n",
    "#Tweet IDs for which to gather additional data via Twitter's API\n",
    "# tweet_ids = twt_archive.tweet_id.values\n",
    "# len(tweet_ids)\n",
    "\n",
    "# # Query Twitter's API for JSON data for each tweet ID in the Twitter archive\n",
    "# count = 0\n",
    "# fails_dict = {}\n",
    "\n",
    "# # Save each tweet's returned JSON as a new line in a .txt file\n",
    "# with open('tweet_json.txt', 'w') as outfile:\n",
    "#     # This loop will likely take 20-30 minutes to run because of Twitter's rate limit\n",
    "#     for tweet_id in tweet_ids:\n",
    "#         count += 1\n",
    "#         print(str(count) + \": \" + str(tweet_id))\n",
    "#         try:\n",
    "#             tweet = api.get_status(tweet_id, tweet_mode='extended')\n",
    "#             print(\"Success\")\n",
    "#             json.dump(tweet._json, outfile)\n",
    "#             outfile.write('\\n')\n",
    "#         except tweepy.errors.TweepyException as e:\n",
    "#             print(\"Fail\")\n",
    "#             fails_dict[tweet_id] = e\n",
    "#             pass\n",
    "# print(fails_dict)"
   ]
  },
  {
   "cell_type": "code",
   "execution_count": 5,
   "id": "6f1d46d2",
   "metadata": {},
   "outputs": [
    {
     "data": {
      "text/html": [
       "<div>\n",
       "<style scoped>\n",
       "    .dataframe tbody tr th:only-of-type {\n",
       "        vertical-align: middle;\n",
       "    }\n",
       "\n",
       "    .dataframe tbody tr th {\n",
       "        vertical-align: top;\n",
       "    }\n",
       "\n",
       "    .dataframe thead th {\n",
       "        text-align: right;\n",
       "    }\n",
       "</style>\n",
       "<table border=\"1\" class=\"dataframe\">\n",
       "  <thead>\n",
       "    <tr style=\"text-align: right;\">\n",
       "      <th></th>\n",
       "      <th>id</th>\n",
       "      <th>retweet_count</th>\n",
       "      <th>favorite_count</th>\n",
       "    </tr>\n",
       "  </thead>\n",
       "  <tbody>\n",
       "    <tr>\n",
       "      <th>0</th>\n",
       "      <td>892420643555336193</td>\n",
       "      <td>8853</td>\n",
       "      <td>39467</td>\n",
       "    </tr>\n",
       "    <tr>\n",
       "      <th>1</th>\n",
       "      <td>892177421306343426</td>\n",
       "      <td>6514</td>\n",
       "      <td>33819</td>\n",
       "    </tr>\n",
       "    <tr>\n",
       "      <th>2</th>\n",
       "      <td>891815181378084864</td>\n",
       "      <td>4328</td>\n",
       "      <td>25461</td>\n",
       "    </tr>\n",
       "    <tr>\n",
       "      <th>3</th>\n",
       "      <td>891689557279858688</td>\n",
       "      <td>8964</td>\n",
       "      <td>42908</td>\n",
       "    </tr>\n",
       "    <tr>\n",
       "      <th>4</th>\n",
       "      <td>891327558926688256</td>\n",
       "      <td>9774</td>\n",
       "      <td>41048</td>\n",
       "    </tr>\n",
       "  </tbody>\n",
       "</table>\n",
       "</div>"
      ],
      "text/plain": [
       "                   id  retweet_count  favorite_count\n",
       "0  892420643555336193           8853           39467\n",
       "1  892177421306343426           6514           33819\n",
       "2  891815181378084864           4328           25461\n",
       "3  891689557279858688           8964           42908\n",
       "4  891327558926688256           9774           41048"
      ]
     },
     "execution_count": 5,
     "metadata": {},
     "output_type": "execute_result"
    }
   ],
   "source": [
    "# list of needed columns\n",
    "columns_of_interest =['id', 'favorite_count', 'retweet_count']\n",
    "\n",
    "# list to group refined json data\n",
    "list_of_dicts = []\n",
    "\n",
    "# extract needed keys and values from .txt file with json data\n",
    "with open('tweet-json.txt', 'r') as flatfile:\n",
    "    for line in flatfile:\n",
    "        jfile = json.loads(line)\n",
    "        create_dict = {key:value for key, value in jfile.items() if key in columns_of_interest}\n",
    "        list_of_dicts.append(create_dict)\n",
    "        \n",
    "# covert list of dicts to dataframe\n",
    "api_data = pd.DataFrame(list_of_dicts)\n",
    "\n",
    "# inspect\n",
    "api_data.head()\n",
    "\n",
    "#confirm length of id/tweet_id record\n",
    "# len(str(api_data['id'][0]))"
   ]
  },
  {
   "cell_type": "markdown",
   "id": "3792221f",
   "metadata": {},
   "source": [
    "<b> Summary:</b> <br>\n",
    "> We have gathered all three files needed for this analysis and read them in as dataframes using pandas: <ol>\n",
    "    <li> Twitter Archive Enhanced as twt_archive </li>\n",
    "    <li> Image Predictions as img_pred </li>\n",
    "    <li> Additional Twitter Data as api_data</li>"
   ]
  },
  {
   "cell_type": "markdown",
   "id": "95ed7cdc",
   "metadata": {},
   "source": [
    "<a id='data assessment'></a>\n",
    "\n",
    "# DATA ASSESSMENT"
   ]
  },
  {
   "cell_type": "markdown",
   "id": "cb83d6cc",
   "metadata": {},
   "source": [
    "<b>note:</b> <i>this assessment focuses primarily on the columns of interest with respect to the questions this analysis intends to answer</i>"
   ]
  },
  {
   "cell_type": "markdown",
   "id": "1d6de417",
   "metadata": {},
   "source": [
    "<b>1. Twitter Archive Enhanced Dataset:</b>\n",
    "><b> Visual Assessment </b>"
   ]
  },
  {
   "cell_type": "code",
   "execution_count": 6,
   "id": "070e8e5d",
   "metadata": {},
   "outputs": [
    {
     "data": {
      "text/html": [
       "<div>\n",
       "<style scoped>\n",
       "    .dataframe tbody tr th:only-of-type {\n",
       "        vertical-align: middle;\n",
       "    }\n",
       "\n",
       "    .dataframe tbody tr th {\n",
       "        vertical-align: top;\n",
       "    }\n",
       "\n",
       "    .dataframe thead th {\n",
       "        text-align: right;\n",
       "    }\n",
       "</style>\n",
       "<table border=\"1\" class=\"dataframe\">\n",
       "  <thead>\n",
       "    <tr style=\"text-align: right;\">\n",
       "      <th></th>\n",
       "      <th>tweet_id</th>\n",
       "      <th>in_reply_to_status_id</th>\n",
       "      <th>in_reply_to_user_id</th>\n",
       "      <th>timestamp</th>\n",
       "      <th>source</th>\n",
       "      <th>text</th>\n",
       "      <th>retweeted_status_id</th>\n",
       "      <th>retweeted_status_user_id</th>\n",
       "      <th>retweeted_status_timestamp</th>\n",
       "      <th>expanded_urls</th>\n",
       "      <th>rating_numerator</th>\n",
       "      <th>rating_denominator</th>\n",
       "      <th>name</th>\n",
       "      <th>doggo</th>\n",
       "      <th>floofer</th>\n",
       "      <th>pupper</th>\n",
       "      <th>puppo</th>\n",
       "    </tr>\n",
       "  </thead>\n",
       "  <tbody>\n",
       "    <tr>\n",
       "      <th>0</th>\n",
       "      <td>892420643555336193</td>\n",
       "      <td>NaN</td>\n",
       "      <td>NaN</td>\n",
       "      <td>2017-08-01 16:23:56 +0000</td>\n",
       "      <td>&lt;a href=\"http://twitter.com/download/iphone\" r...</td>\n",
       "      <td>This is Phineas. He's a mystical boy. Only eve...</td>\n",
       "      <td>NaN</td>\n",
       "      <td>NaN</td>\n",
       "      <td>NaN</td>\n",
       "      <td>https://twitter.com/dog_rates/status/892420643...</td>\n",
       "      <td>13</td>\n",
       "      <td>10</td>\n",
       "      <td>Phineas</td>\n",
       "      <td>None</td>\n",
       "      <td>None</td>\n",
       "      <td>None</td>\n",
       "      <td>None</td>\n",
       "    </tr>\n",
       "    <tr>\n",
       "      <th>1</th>\n",
       "      <td>892177421306343426</td>\n",
       "      <td>NaN</td>\n",
       "      <td>NaN</td>\n",
       "      <td>2017-08-01 00:17:27 +0000</td>\n",
       "      <td>&lt;a href=\"http://twitter.com/download/iphone\" r...</td>\n",
       "      <td>This is Tilly. She's just checking pup on you....</td>\n",
       "      <td>NaN</td>\n",
       "      <td>NaN</td>\n",
       "      <td>NaN</td>\n",
       "      <td>https://twitter.com/dog_rates/status/892177421...</td>\n",
       "      <td>13</td>\n",
       "      <td>10</td>\n",
       "      <td>Tilly</td>\n",
       "      <td>None</td>\n",
       "      <td>None</td>\n",
       "      <td>None</td>\n",
       "      <td>None</td>\n",
       "    </tr>\n",
       "    <tr>\n",
       "      <th>2</th>\n",
       "      <td>891815181378084864</td>\n",
       "      <td>NaN</td>\n",
       "      <td>NaN</td>\n",
       "      <td>2017-07-31 00:18:03 +0000</td>\n",
       "      <td>&lt;a href=\"http://twitter.com/download/iphone\" r...</td>\n",
       "      <td>This is Archie. He is a rare Norwegian Pouncin...</td>\n",
       "      <td>NaN</td>\n",
       "      <td>NaN</td>\n",
       "      <td>NaN</td>\n",
       "      <td>https://twitter.com/dog_rates/status/891815181...</td>\n",
       "      <td>12</td>\n",
       "      <td>10</td>\n",
       "      <td>Archie</td>\n",
       "      <td>None</td>\n",
       "      <td>None</td>\n",
       "      <td>None</td>\n",
       "      <td>None</td>\n",
       "    </tr>\n",
       "    <tr>\n",
       "      <th>3</th>\n",
       "      <td>891689557279858688</td>\n",
       "      <td>NaN</td>\n",
       "      <td>NaN</td>\n",
       "      <td>2017-07-30 15:58:51 +0000</td>\n",
       "      <td>&lt;a href=\"http://twitter.com/download/iphone\" r...</td>\n",
       "      <td>This is Darla. She commenced a snooze mid meal...</td>\n",
       "      <td>NaN</td>\n",
       "      <td>NaN</td>\n",
       "      <td>NaN</td>\n",
       "      <td>https://twitter.com/dog_rates/status/891689557...</td>\n",
       "      <td>13</td>\n",
       "      <td>10</td>\n",
       "      <td>Darla</td>\n",
       "      <td>None</td>\n",
       "      <td>None</td>\n",
       "      <td>None</td>\n",
       "      <td>None</td>\n",
       "    </tr>\n",
       "    <tr>\n",
       "      <th>4</th>\n",
       "      <td>891327558926688256</td>\n",
       "      <td>NaN</td>\n",
       "      <td>NaN</td>\n",
       "      <td>2017-07-29 16:00:24 +0000</td>\n",
       "      <td>&lt;a href=\"http://twitter.com/download/iphone\" r...</td>\n",
       "      <td>This is Franklin. He would like you to stop ca...</td>\n",
       "      <td>NaN</td>\n",
       "      <td>NaN</td>\n",
       "      <td>NaN</td>\n",
       "      <td>https://twitter.com/dog_rates/status/891327558...</td>\n",
       "      <td>12</td>\n",
       "      <td>10</td>\n",
       "      <td>Franklin</td>\n",
       "      <td>None</td>\n",
       "      <td>None</td>\n",
       "      <td>None</td>\n",
       "      <td>None</td>\n",
       "    </tr>\n",
       "    <tr>\n",
       "      <th>...</th>\n",
       "      <td>...</td>\n",
       "      <td>...</td>\n",
       "      <td>...</td>\n",
       "      <td>...</td>\n",
       "      <td>...</td>\n",
       "      <td>...</td>\n",
       "      <td>...</td>\n",
       "      <td>...</td>\n",
       "      <td>...</td>\n",
       "      <td>...</td>\n",
       "      <td>...</td>\n",
       "      <td>...</td>\n",
       "      <td>...</td>\n",
       "      <td>...</td>\n",
       "      <td>...</td>\n",
       "      <td>...</td>\n",
       "      <td>...</td>\n",
       "    </tr>\n",
       "    <tr>\n",
       "      <th>2351</th>\n",
       "      <td>666049248165822465</td>\n",
       "      <td>NaN</td>\n",
       "      <td>NaN</td>\n",
       "      <td>2015-11-16 00:24:50 +0000</td>\n",
       "      <td>&lt;a href=\"http://twitter.com/download/iphone\" r...</td>\n",
       "      <td>Here we have a 1949 1st generation vulpix. Enj...</td>\n",
       "      <td>NaN</td>\n",
       "      <td>NaN</td>\n",
       "      <td>NaN</td>\n",
       "      <td>https://twitter.com/dog_rates/status/666049248...</td>\n",
       "      <td>5</td>\n",
       "      <td>10</td>\n",
       "      <td>None</td>\n",
       "      <td>None</td>\n",
       "      <td>None</td>\n",
       "      <td>None</td>\n",
       "      <td>None</td>\n",
       "    </tr>\n",
       "    <tr>\n",
       "      <th>2352</th>\n",
       "      <td>666044226329800704</td>\n",
       "      <td>NaN</td>\n",
       "      <td>NaN</td>\n",
       "      <td>2015-11-16 00:04:52 +0000</td>\n",
       "      <td>&lt;a href=\"http://twitter.com/download/iphone\" r...</td>\n",
       "      <td>This is a purebred Piers Morgan. Loves to Netf...</td>\n",
       "      <td>NaN</td>\n",
       "      <td>NaN</td>\n",
       "      <td>NaN</td>\n",
       "      <td>https://twitter.com/dog_rates/status/666044226...</td>\n",
       "      <td>6</td>\n",
       "      <td>10</td>\n",
       "      <td>a</td>\n",
       "      <td>None</td>\n",
       "      <td>None</td>\n",
       "      <td>None</td>\n",
       "      <td>None</td>\n",
       "    </tr>\n",
       "    <tr>\n",
       "      <th>2353</th>\n",
       "      <td>666033412701032449</td>\n",
       "      <td>NaN</td>\n",
       "      <td>NaN</td>\n",
       "      <td>2015-11-15 23:21:54 +0000</td>\n",
       "      <td>&lt;a href=\"http://twitter.com/download/iphone\" r...</td>\n",
       "      <td>Here is a very happy pup. Big fan of well-main...</td>\n",
       "      <td>NaN</td>\n",
       "      <td>NaN</td>\n",
       "      <td>NaN</td>\n",
       "      <td>https://twitter.com/dog_rates/status/666033412...</td>\n",
       "      <td>9</td>\n",
       "      <td>10</td>\n",
       "      <td>a</td>\n",
       "      <td>None</td>\n",
       "      <td>None</td>\n",
       "      <td>None</td>\n",
       "      <td>None</td>\n",
       "    </tr>\n",
       "    <tr>\n",
       "      <th>2354</th>\n",
       "      <td>666029285002620928</td>\n",
       "      <td>NaN</td>\n",
       "      <td>NaN</td>\n",
       "      <td>2015-11-15 23:05:30 +0000</td>\n",
       "      <td>&lt;a href=\"http://twitter.com/download/iphone\" r...</td>\n",
       "      <td>This is a western brown Mitsubishi terrier. Up...</td>\n",
       "      <td>NaN</td>\n",
       "      <td>NaN</td>\n",
       "      <td>NaN</td>\n",
       "      <td>https://twitter.com/dog_rates/status/666029285...</td>\n",
       "      <td>7</td>\n",
       "      <td>10</td>\n",
       "      <td>a</td>\n",
       "      <td>None</td>\n",
       "      <td>None</td>\n",
       "      <td>None</td>\n",
       "      <td>None</td>\n",
       "    </tr>\n",
       "    <tr>\n",
       "      <th>2355</th>\n",
       "      <td>666020888022790149</td>\n",
       "      <td>NaN</td>\n",
       "      <td>NaN</td>\n",
       "      <td>2015-11-15 22:32:08 +0000</td>\n",
       "      <td>&lt;a href=\"http://twitter.com/download/iphone\" r...</td>\n",
       "      <td>Here we have a Japanese Irish Setter. Lost eye...</td>\n",
       "      <td>NaN</td>\n",
       "      <td>NaN</td>\n",
       "      <td>NaN</td>\n",
       "      <td>https://twitter.com/dog_rates/status/666020888...</td>\n",
       "      <td>8</td>\n",
       "      <td>10</td>\n",
       "      <td>None</td>\n",
       "      <td>None</td>\n",
       "      <td>None</td>\n",
       "      <td>None</td>\n",
       "      <td>None</td>\n",
       "    </tr>\n",
       "  </tbody>\n",
       "</table>\n",
       "<p>2356 rows × 17 columns</p>\n",
       "</div>"
      ],
      "text/plain": [
       "                tweet_id  in_reply_to_status_id  in_reply_to_user_id  \\\n",
       "0     892420643555336193                    NaN                  NaN   \n",
       "1     892177421306343426                    NaN                  NaN   \n",
       "2     891815181378084864                    NaN                  NaN   \n",
       "3     891689557279858688                    NaN                  NaN   \n",
       "4     891327558926688256                    NaN                  NaN   \n",
       "...                  ...                    ...                  ...   \n",
       "2351  666049248165822465                    NaN                  NaN   \n",
       "2352  666044226329800704                    NaN                  NaN   \n",
       "2353  666033412701032449                    NaN                  NaN   \n",
       "2354  666029285002620928                    NaN                  NaN   \n",
       "2355  666020888022790149                    NaN                  NaN   \n",
       "\n",
       "                      timestamp  \\\n",
       "0     2017-08-01 16:23:56 +0000   \n",
       "1     2017-08-01 00:17:27 +0000   \n",
       "2     2017-07-31 00:18:03 +0000   \n",
       "3     2017-07-30 15:58:51 +0000   \n",
       "4     2017-07-29 16:00:24 +0000   \n",
       "...                         ...   \n",
       "2351  2015-11-16 00:24:50 +0000   \n",
       "2352  2015-11-16 00:04:52 +0000   \n",
       "2353  2015-11-15 23:21:54 +0000   \n",
       "2354  2015-11-15 23:05:30 +0000   \n",
       "2355  2015-11-15 22:32:08 +0000   \n",
       "\n",
       "                                                 source  \\\n",
       "0     <a href=\"http://twitter.com/download/iphone\" r...   \n",
       "1     <a href=\"http://twitter.com/download/iphone\" r...   \n",
       "2     <a href=\"http://twitter.com/download/iphone\" r...   \n",
       "3     <a href=\"http://twitter.com/download/iphone\" r...   \n",
       "4     <a href=\"http://twitter.com/download/iphone\" r...   \n",
       "...                                                 ...   \n",
       "2351  <a href=\"http://twitter.com/download/iphone\" r...   \n",
       "2352  <a href=\"http://twitter.com/download/iphone\" r...   \n",
       "2353  <a href=\"http://twitter.com/download/iphone\" r...   \n",
       "2354  <a href=\"http://twitter.com/download/iphone\" r...   \n",
       "2355  <a href=\"http://twitter.com/download/iphone\" r...   \n",
       "\n",
       "                                                   text  retweeted_status_id  \\\n",
       "0     This is Phineas. He's a mystical boy. Only eve...                  NaN   \n",
       "1     This is Tilly. She's just checking pup on you....                  NaN   \n",
       "2     This is Archie. He is a rare Norwegian Pouncin...                  NaN   \n",
       "3     This is Darla. She commenced a snooze mid meal...                  NaN   \n",
       "4     This is Franklin. He would like you to stop ca...                  NaN   \n",
       "...                                                 ...                  ...   \n",
       "2351  Here we have a 1949 1st generation vulpix. Enj...                  NaN   \n",
       "2352  This is a purebred Piers Morgan. Loves to Netf...                  NaN   \n",
       "2353  Here is a very happy pup. Big fan of well-main...                  NaN   \n",
       "2354  This is a western brown Mitsubishi terrier. Up...                  NaN   \n",
       "2355  Here we have a Japanese Irish Setter. Lost eye...                  NaN   \n",
       "\n",
       "      retweeted_status_user_id retweeted_status_timestamp  \\\n",
       "0                          NaN                        NaN   \n",
       "1                          NaN                        NaN   \n",
       "2                          NaN                        NaN   \n",
       "3                          NaN                        NaN   \n",
       "4                          NaN                        NaN   \n",
       "...                        ...                        ...   \n",
       "2351                       NaN                        NaN   \n",
       "2352                       NaN                        NaN   \n",
       "2353                       NaN                        NaN   \n",
       "2354                       NaN                        NaN   \n",
       "2355                       NaN                        NaN   \n",
       "\n",
       "                                          expanded_urls  rating_numerator  \\\n",
       "0     https://twitter.com/dog_rates/status/892420643...                13   \n",
       "1     https://twitter.com/dog_rates/status/892177421...                13   \n",
       "2     https://twitter.com/dog_rates/status/891815181...                12   \n",
       "3     https://twitter.com/dog_rates/status/891689557...                13   \n",
       "4     https://twitter.com/dog_rates/status/891327558...                12   \n",
       "...                                                 ...               ...   \n",
       "2351  https://twitter.com/dog_rates/status/666049248...                 5   \n",
       "2352  https://twitter.com/dog_rates/status/666044226...                 6   \n",
       "2353  https://twitter.com/dog_rates/status/666033412...                 9   \n",
       "2354  https://twitter.com/dog_rates/status/666029285...                 7   \n",
       "2355  https://twitter.com/dog_rates/status/666020888...                 8   \n",
       "\n",
       "      rating_denominator      name doggo floofer pupper puppo  \n",
       "0                     10   Phineas  None    None   None  None  \n",
       "1                     10     Tilly  None    None   None  None  \n",
       "2                     10    Archie  None    None   None  None  \n",
       "3                     10     Darla  None    None   None  None  \n",
       "4                     10  Franklin  None    None   None  None  \n",
       "...                  ...       ...   ...     ...    ...   ...  \n",
       "2351                  10      None  None    None   None  None  \n",
       "2352                  10         a  None    None   None  None  \n",
       "2353                  10         a  None    None   None  None  \n",
       "2354                  10         a  None    None   None  None  \n",
       "2355                  10      None  None    None   None  None  \n",
       "\n",
       "[2356 rows x 17 columns]"
      ]
     },
     "execution_count": 6,
     "metadata": {},
     "output_type": "execute_result"
    }
   ],
   "source": [
    "twt_archive"
   ]
  },
  {
   "cell_type": "markdown",
   "id": "62910fc8",
   "metadata": {},
   "source": [
    "- Some cumbersome column names (in_reply_to_status_id, in_reply_to_user_id, retweeted_status_id, retweeted_status_user_id, retweeted_status_id_timestamp, rating_numerator, rating_denominator, expanded_urls). [Quality issue]\n",
    "- Character casing inconsistent in name column. [Quality issue]\n",
    "- Multiple columns for one variable (doggo, floofer, pupper, and puppo are all dog stages). [Tidiness issue]\n",
    "- There should be one variable for rating. [Tidiness issue]"
   ]
  },
  {
   "cell_type": "markdown",
   "id": "a66d1e74",
   "metadata": {},
   "source": [
    "> <b> Programmatic Assessment: </b><br>"
   ]
  },
  {
   "cell_type": "markdown",
   "id": "472927c2",
   "metadata": {},
   "source": [
    "General property of data set"
   ]
  },
  {
   "cell_type": "code",
   "execution_count": 7,
   "id": "3654d908",
   "metadata": {},
   "outputs": [
    {
     "name": "stdout",
     "output_type": "stream",
     "text": [
      "<class 'pandas.core.frame.DataFrame'>\n",
      "RangeIndex: 2356 entries, 0 to 2355\n",
      "Data columns (total 17 columns):\n",
      " #   Column                      Non-Null Count  Dtype  \n",
      "---  ------                      --------------  -----  \n",
      " 0   tweet_id                    2356 non-null   int64  \n",
      " 1   in_reply_to_status_id       78 non-null     float64\n",
      " 2   in_reply_to_user_id         78 non-null     float64\n",
      " 3   timestamp                   2356 non-null   object \n",
      " 4   source                      2356 non-null   object \n",
      " 5   text                        2356 non-null   object \n",
      " 6   retweeted_status_id         181 non-null    float64\n",
      " 7   retweeted_status_user_id    181 non-null    float64\n",
      " 8   retweeted_status_timestamp  181 non-null    object \n",
      " 9   expanded_urls               2297 non-null   object \n",
      " 10  rating_numerator            2356 non-null   int64  \n",
      " 11  rating_denominator          2356 non-null   int64  \n",
      " 12  name                        2356 non-null   object \n",
      " 13  doggo                       2356 non-null   object \n",
      " 14  floofer                     2356 non-null   object \n",
      " 15  pupper                      2356 non-null   object \n",
      " 16  puppo                       2356 non-null   object \n",
      "dtypes: float64(4), int64(3), object(10)\n",
      "memory usage: 313.0+ KB\n"
     ]
    }
   ],
   "source": [
    "# summary of data set\n",
    "twt_archive.info()"
   ]
  },
  {
   "cell_type": "markdown",
   "id": "a6b2673c",
   "metadata": {},
   "source": [
    "Dimension of data set"
   ]
  },
  {
   "cell_type": "code",
   "execution_count": 8,
   "id": "80fa14c6",
   "metadata": {},
   "outputs": [
    {
     "data": {
      "text/plain": [
       "(2356, 17)"
      ]
     },
     "execution_count": 8,
     "metadata": {},
     "output_type": "execute_result"
    }
   ],
   "source": [
    "# get the dimension of the df\n",
    "twt_archive.shape"
   ]
  },
  {
   "cell_type": "code",
   "execution_count": 9,
   "id": "d8e5e8d5",
   "metadata": {},
   "outputs": [
    {
     "data": {
      "text/plain": [
       "tweet_id                         0\n",
       "in_reply_to_status_id         2278\n",
       "in_reply_to_user_id           2278\n",
       "timestamp                        0\n",
       "source                           0\n",
       "text                             0\n",
       "retweeted_status_id           2175\n",
       "retweeted_status_user_id      2175\n",
       "retweeted_status_timestamp    2175\n",
       "expanded_urls                   59\n",
       "rating_numerator                 0\n",
       "rating_denominator               0\n",
       "name                             0\n",
       "doggo                            0\n",
       "floofer                          0\n",
       "pupper                           0\n",
       "puppo                            0\n",
       "dtype: int64"
      ]
     },
     "execution_count": 9,
     "metadata": {},
     "output_type": "execute_result"
    }
   ],
   "source": [
    "# get number of missing values\n",
    "twt_archive.isnull().sum()"
   ]
  },
  {
   "cell_type": "markdown",
   "id": "fccdd916",
   "metadata": {},
   "source": [
    "- Missing values in six (6) columns (in_reply_to_status_id, in_reply_to_user_id, retweeted_status_id, retweeted_status_user_id, retweeted_status_id_timestamp). [Quality issue]\n",
    "- Unideal data types (timestamp, retweeted_status_timestamp). [Quality issue]\n",
    "- Multiple observational units in one table (retweeted_status_id, retweeted_status_user_id, in_reply_to_status_id, in_reply_to_user_id, tweet_id). [Tidiness issue]"
   ]
  },
  {
   "cell_type": "code",
   "execution_count": 10,
   "id": "6aeb5b74",
   "metadata": {},
   "outputs": [
    {
     "data": {
      "text/html": [
       "<div>\n",
       "<style scoped>\n",
       "    .dataframe tbody tr th:only-of-type {\n",
       "        vertical-align: middle;\n",
       "    }\n",
       "\n",
       "    .dataframe tbody tr th {\n",
       "        vertical-align: top;\n",
       "    }\n",
       "\n",
       "    .dataframe thead th {\n",
       "        text-align: right;\n",
       "    }\n",
       "</style>\n",
       "<table border=\"1\" class=\"dataframe\">\n",
       "  <thead>\n",
       "    <tr style=\"text-align: right;\">\n",
       "      <th></th>\n",
       "      <th>tweet_id</th>\n",
       "      <th>in_reply_to_status_id</th>\n",
       "      <th>in_reply_to_user_id</th>\n",
       "      <th>timestamp</th>\n",
       "      <th>source</th>\n",
       "      <th>text</th>\n",
       "      <th>retweeted_status_id</th>\n",
       "      <th>retweeted_status_user_id</th>\n",
       "      <th>retweeted_status_timestamp</th>\n",
       "      <th>expanded_urls</th>\n",
       "      <th>rating_numerator</th>\n",
       "      <th>rating_denominator</th>\n",
       "      <th>name</th>\n",
       "      <th>doggo</th>\n",
       "      <th>floofer</th>\n",
       "      <th>pupper</th>\n",
       "      <th>puppo</th>\n",
       "    </tr>\n",
       "  </thead>\n",
       "  <tbody>\n",
       "    <tr>\n",
       "      <th>19</th>\n",
       "      <td>888202515573088257</td>\n",
       "      <td>NaN</td>\n",
       "      <td>NaN</td>\n",
       "      <td>2017-07-21 01:02:36 +0000</td>\n",
       "      <td>&lt;a href=\"http://twitter.com/download/iphone\" r...</td>\n",
       "      <td>RT @dog_rates: This is Canela. She attempted s...</td>\n",
       "      <td>8.874740e+17</td>\n",
       "      <td>4.196984e+09</td>\n",
       "      <td>2017-07-19 00:47:34 +0000</td>\n",
       "      <td>https://twitter.com/dog_rates/status/887473957...</td>\n",
       "      <td>13</td>\n",
       "      <td>10</td>\n",
       "      <td>Canela</td>\n",
       "      <td>None</td>\n",
       "      <td>None</td>\n",
       "      <td>None</td>\n",
       "      <td>None</td>\n",
       "    </tr>\n",
       "    <tr>\n",
       "      <th>32</th>\n",
       "      <td>886054160059072513</td>\n",
       "      <td>NaN</td>\n",
       "      <td>NaN</td>\n",
       "      <td>2017-07-15 02:45:48 +0000</td>\n",
       "      <td>&lt;a href=\"http://twitter.com/download/iphone\" r...</td>\n",
       "      <td>RT @Athletics: 12/10 #BATP https://t.co/WxwJmv...</td>\n",
       "      <td>8.860537e+17</td>\n",
       "      <td>1.960740e+07</td>\n",
       "      <td>2017-07-15 02:44:07 +0000</td>\n",
       "      <td>https://twitter.com/dog_rates/status/886053434...</td>\n",
       "      <td>12</td>\n",
       "      <td>10</td>\n",
       "      <td>None</td>\n",
       "      <td>None</td>\n",
       "      <td>None</td>\n",
       "      <td>None</td>\n",
       "      <td>None</td>\n",
       "    </tr>\n",
       "    <tr>\n",
       "      <th>36</th>\n",
       "      <td>885311592912609280</td>\n",
       "      <td>NaN</td>\n",
       "      <td>NaN</td>\n",
       "      <td>2017-07-13 01:35:06 +0000</td>\n",
       "      <td>&lt;a href=\"http://twitter.com/download/iphone\" r...</td>\n",
       "      <td>RT @dog_rates: This is Lilly. She just paralle...</td>\n",
       "      <td>8.305833e+17</td>\n",
       "      <td>4.196984e+09</td>\n",
       "      <td>2017-02-12 01:04:29 +0000</td>\n",
       "      <td>https://twitter.com/dog_rates/status/830583320...</td>\n",
       "      <td>13</td>\n",
       "      <td>10</td>\n",
       "      <td>Lilly</td>\n",
       "      <td>None</td>\n",
       "      <td>None</td>\n",
       "      <td>None</td>\n",
       "      <td>None</td>\n",
       "    </tr>\n",
       "    <tr>\n",
       "      <th>68</th>\n",
       "      <td>879130579576475649</td>\n",
       "      <td>NaN</td>\n",
       "      <td>NaN</td>\n",
       "      <td>2017-06-26 00:13:58 +0000</td>\n",
       "      <td>&lt;a href=\"http://twitter.com/download/iphone\" r...</td>\n",
       "      <td>RT @dog_rates: This is Emmy. She was adopted t...</td>\n",
       "      <td>8.780576e+17</td>\n",
       "      <td>4.196984e+09</td>\n",
       "      <td>2017-06-23 01:10:23 +0000</td>\n",
       "      <td>https://twitter.com/dog_rates/status/878057613...</td>\n",
       "      <td>14</td>\n",
       "      <td>10</td>\n",
       "      <td>Emmy</td>\n",
       "      <td>None</td>\n",
       "      <td>None</td>\n",
       "      <td>None</td>\n",
       "      <td>None</td>\n",
       "    </tr>\n",
       "    <tr>\n",
       "      <th>73</th>\n",
       "      <td>878404777348136964</td>\n",
       "      <td>NaN</td>\n",
       "      <td>NaN</td>\n",
       "      <td>2017-06-24 00:09:53 +0000</td>\n",
       "      <td>&lt;a href=\"http://twitter.com/download/iphone\" r...</td>\n",
       "      <td>RT @dog_rates: Meet Shadow. In an attempt to r...</td>\n",
       "      <td>8.782815e+17</td>\n",
       "      <td>4.196984e+09</td>\n",
       "      <td>2017-06-23 16:00:04 +0000</td>\n",
       "      <td>https://www.gofundme.com/3yd6y1c,https://twitt...</td>\n",
       "      <td>13</td>\n",
       "      <td>10</td>\n",
       "      <td>Shadow</td>\n",
       "      <td>None</td>\n",
       "      <td>None</td>\n",
       "      <td>None</td>\n",
       "      <td>None</td>\n",
       "    </tr>\n",
       "    <tr>\n",
       "      <th>74</th>\n",
       "      <td>878316110768087041</td>\n",
       "      <td>NaN</td>\n",
       "      <td>NaN</td>\n",
       "      <td>2017-06-23 18:17:33 +0000</td>\n",
       "      <td>&lt;a href=\"http://twitter.com/download/iphone\" r...</td>\n",
       "      <td>RT @dog_rates: Meet Terrance. He's being yelle...</td>\n",
       "      <td>6.690004e+17</td>\n",
       "      <td>4.196984e+09</td>\n",
       "      <td>2015-11-24 03:51:38 +0000</td>\n",
       "      <td>https://twitter.com/dog_rates/status/669000397...</td>\n",
       "      <td>11</td>\n",
       "      <td>10</td>\n",
       "      <td>Terrance</td>\n",
       "      <td>None</td>\n",
       "      <td>None</td>\n",
       "      <td>None</td>\n",
       "      <td>None</td>\n",
       "    </tr>\n",
       "    <tr>\n",
       "      <th>78</th>\n",
       "      <td>877611172832227328</td>\n",
       "      <td>NaN</td>\n",
       "      <td>NaN</td>\n",
       "      <td>2017-06-21 19:36:23 +0000</td>\n",
       "      <td>&lt;a href=\"http://twitter.com/download/iphone\" r...</td>\n",
       "      <td>RT @rachel2195: @dog_rates the boyfriend and h...</td>\n",
       "      <td>8.768508e+17</td>\n",
       "      <td>5.128045e+08</td>\n",
       "      <td>2017-06-19 17:14:49 +0000</td>\n",
       "      <td>https://twitter.com/rachel2195/status/87685077...</td>\n",
       "      <td>14</td>\n",
       "      <td>10</td>\n",
       "      <td>None</td>\n",
       "      <td>None</td>\n",
       "      <td>None</td>\n",
       "      <td>pupper</td>\n",
       "      <td>None</td>\n",
       "    </tr>\n",
       "    <tr>\n",
       "      <th>91</th>\n",
       "      <td>874434818259525634</td>\n",
       "      <td>NaN</td>\n",
       "      <td>NaN</td>\n",
       "      <td>2017-06-13 01:14:41 +0000</td>\n",
       "      <td>&lt;a href=\"http://twitter.com/download/iphone\" r...</td>\n",
       "      <td>RT @dog_rates: This is Coco. At first I though...</td>\n",
       "      <td>8.663350e+17</td>\n",
       "      <td>4.196984e+09</td>\n",
       "      <td>2017-05-21 16:48:45 +0000</td>\n",
       "      <td>https://twitter.com/dog_rates/status/866334964...</td>\n",
       "      <td>12</td>\n",
       "      <td>10</td>\n",
       "      <td>Coco</td>\n",
       "      <td>None</td>\n",
       "      <td>None</td>\n",
       "      <td>None</td>\n",
       "      <td>None</td>\n",
       "    </tr>\n",
       "    <tr>\n",
       "      <th>95</th>\n",
       "      <td>873697596434513921</td>\n",
       "      <td>NaN</td>\n",
       "      <td>NaN</td>\n",
       "      <td>2017-06-11 00:25:14 +0000</td>\n",
       "      <td>&lt;a href=\"http://twitter.com/download/iphone\" r...</td>\n",
       "      <td>RT @dog_rates: This is Walter. He won't start ...</td>\n",
       "      <td>8.688804e+17</td>\n",
       "      <td>4.196984e+09</td>\n",
       "      <td>2017-05-28 17:23:24 +0000</td>\n",
       "      <td>https://twitter.com/dog_rates/status/868880397...</td>\n",
       "      <td>14</td>\n",
       "      <td>10</td>\n",
       "      <td>Walter</td>\n",
       "      <td>None</td>\n",
       "      <td>None</td>\n",
       "      <td>None</td>\n",
       "      <td>None</td>\n",
       "    </tr>\n",
       "    <tr>\n",
       "      <th>97</th>\n",
       "      <td>873337748698140672</td>\n",
       "      <td>NaN</td>\n",
       "      <td>NaN</td>\n",
       "      <td>2017-06-10 00:35:19 +0000</td>\n",
       "      <td>&lt;a href=\"http://twitter.com/download/iphone\" r...</td>\n",
       "      <td>RT @dog_rates: This is Sierra. She's one preci...</td>\n",
       "      <td>8.732138e+17</td>\n",
       "      <td>4.196984e+09</td>\n",
       "      <td>2017-06-09 16:22:42 +0000</td>\n",
       "      <td>https://www.gofundme.com/help-my-baby-sierra-g...</td>\n",
       "      <td>12</td>\n",
       "      <td>10</td>\n",
       "      <td>Sierra</td>\n",
       "      <td>None</td>\n",
       "      <td>None</td>\n",
       "      <td>pupper</td>\n",
       "      <td>None</td>\n",
       "    </tr>\n",
       "  </tbody>\n",
       "</table>\n",
       "</div>"
      ],
      "text/plain": [
       "              tweet_id  in_reply_to_status_id  in_reply_to_user_id  \\\n",
       "19  888202515573088257                    NaN                  NaN   \n",
       "32  886054160059072513                    NaN                  NaN   \n",
       "36  885311592912609280                    NaN                  NaN   \n",
       "68  879130579576475649                    NaN                  NaN   \n",
       "73  878404777348136964                    NaN                  NaN   \n",
       "74  878316110768087041                    NaN                  NaN   \n",
       "78  877611172832227328                    NaN                  NaN   \n",
       "91  874434818259525634                    NaN                  NaN   \n",
       "95  873697596434513921                    NaN                  NaN   \n",
       "97  873337748698140672                    NaN                  NaN   \n",
       "\n",
       "                    timestamp  \\\n",
       "19  2017-07-21 01:02:36 +0000   \n",
       "32  2017-07-15 02:45:48 +0000   \n",
       "36  2017-07-13 01:35:06 +0000   \n",
       "68  2017-06-26 00:13:58 +0000   \n",
       "73  2017-06-24 00:09:53 +0000   \n",
       "74  2017-06-23 18:17:33 +0000   \n",
       "78  2017-06-21 19:36:23 +0000   \n",
       "91  2017-06-13 01:14:41 +0000   \n",
       "95  2017-06-11 00:25:14 +0000   \n",
       "97  2017-06-10 00:35:19 +0000   \n",
       "\n",
       "                                               source  \\\n",
       "19  <a href=\"http://twitter.com/download/iphone\" r...   \n",
       "32  <a href=\"http://twitter.com/download/iphone\" r...   \n",
       "36  <a href=\"http://twitter.com/download/iphone\" r...   \n",
       "68  <a href=\"http://twitter.com/download/iphone\" r...   \n",
       "73  <a href=\"http://twitter.com/download/iphone\" r...   \n",
       "74  <a href=\"http://twitter.com/download/iphone\" r...   \n",
       "78  <a href=\"http://twitter.com/download/iphone\" r...   \n",
       "91  <a href=\"http://twitter.com/download/iphone\" r...   \n",
       "95  <a href=\"http://twitter.com/download/iphone\" r...   \n",
       "97  <a href=\"http://twitter.com/download/iphone\" r...   \n",
       "\n",
       "                                                 text  retweeted_status_id  \\\n",
       "19  RT @dog_rates: This is Canela. She attempted s...         8.874740e+17   \n",
       "32  RT @Athletics: 12/10 #BATP https://t.co/WxwJmv...         8.860537e+17   \n",
       "36  RT @dog_rates: This is Lilly. She just paralle...         8.305833e+17   \n",
       "68  RT @dog_rates: This is Emmy. She was adopted t...         8.780576e+17   \n",
       "73  RT @dog_rates: Meet Shadow. In an attempt to r...         8.782815e+17   \n",
       "74  RT @dog_rates: Meet Terrance. He's being yelle...         6.690004e+17   \n",
       "78  RT @rachel2195: @dog_rates the boyfriend and h...         8.768508e+17   \n",
       "91  RT @dog_rates: This is Coco. At first I though...         8.663350e+17   \n",
       "95  RT @dog_rates: This is Walter. He won't start ...         8.688804e+17   \n",
       "97  RT @dog_rates: This is Sierra. She's one preci...         8.732138e+17   \n",
       "\n",
       "    retweeted_status_user_id retweeted_status_timestamp  \\\n",
       "19              4.196984e+09  2017-07-19 00:47:34 +0000   \n",
       "32              1.960740e+07  2017-07-15 02:44:07 +0000   \n",
       "36              4.196984e+09  2017-02-12 01:04:29 +0000   \n",
       "68              4.196984e+09  2017-06-23 01:10:23 +0000   \n",
       "73              4.196984e+09  2017-06-23 16:00:04 +0000   \n",
       "74              4.196984e+09  2015-11-24 03:51:38 +0000   \n",
       "78              5.128045e+08  2017-06-19 17:14:49 +0000   \n",
       "91              4.196984e+09  2017-05-21 16:48:45 +0000   \n",
       "95              4.196984e+09  2017-05-28 17:23:24 +0000   \n",
       "97              4.196984e+09  2017-06-09 16:22:42 +0000   \n",
       "\n",
       "                                        expanded_urls  rating_numerator  \\\n",
       "19  https://twitter.com/dog_rates/status/887473957...                13   \n",
       "32  https://twitter.com/dog_rates/status/886053434...                12   \n",
       "36  https://twitter.com/dog_rates/status/830583320...                13   \n",
       "68  https://twitter.com/dog_rates/status/878057613...                14   \n",
       "73  https://www.gofundme.com/3yd6y1c,https://twitt...                13   \n",
       "74  https://twitter.com/dog_rates/status/669000397...                11   \n",
       "78  https://twitter.com/rachel2195/status/87685077...                14   \n",
       "91  https://twitter.com/dog_rates/status/866334964...                12   \n",
       "95  https://twitter.com/dog_rates/status/868880397...                14   \n",
       "97  https://www.gofundme.com/help-my-baby-sierra-g...                12   \n",
       "\n",
       "    rating_denominator      name doggo floofer  pupper puppo  \n",
       "19                  10    Canela  None    None    None  None  \n",
       "32                  10      None  None    None    None  None  \n",
       "36                  10     Lilly  None    None    None  None  \n",
       "68                  10      Emmy  None    None    None  None  \n",
       "73                  10    Shadow  None    None    None  None  \n",
       "74                  10  Terrance  None    None    None  None  \n",
       "78                  10      None  None    None  pupper  None  \n",
       "91                  10      Coco  None    None    None  None  \n",
       "95                  10    Walter  None    None    None  None  \n",
       "97                  10    Sierra  None    None  pupper  None  "
      ]
     },
     "metadata": {},
     "output_type": "display_data"
    },
    {
     "data": {
      "text/html": [
       "<div>\n",
       "<style scoped>\n",
       "    .dataframe tbody tr th:only-of-type {\n",
       "        vertical-align: middle;\n",
       "    }\n",
       "\n",
       "    .dataframe tbody tr th {\n",
       "        vertical-align: top;\n",
       "    }\n",
       "\n",
       "    .dataframe thead th {\n",
       "        text-align: right;\n",
       "    }\n",
       "</style>\n",
       "<table border=\"1\" class=\"dataframe\">\n",
       "  <thead>\n",
       "    <tr style=\"text-align: right;\">\n",
       "      <th></th>\n",
       "      <th>tweet_id</th>\n",
       "      <th>in_reply_to_status_id</th>\n",
       "      <th>in_reply_to_user_id</th>\n",
       "      <th>timestamp</th>\n",
       "      <th>source</th>\n",
       "      <th>text</th>\n",
       "      <th>retweeted_status_id</th>\n",
       "      <th>retweeted_status_user_id</th>\n",
       "      <th>retweeted_status_timestamp</th>\n",
       "      <th>expanded_urls</th>\n",
       "      <th>rating_numerator</th>\n",
       "      <th>rating_denominator</th>\n",
       "      <th>name</th>\n",
       "      <th>doggo</th>\n",
       "      <th>floofer</th>\n",
       "      <th>pupper</th>\n",
       "      <th>puppo</th>\n",
       "    </tr>\n",
       "  </thead>\n",
       "  <tbody>\n",
       "    <tr>\n",
       "      <th>30</th>\n",
       "      <td>886267009285017600</td>\n",
       "      <td>8.862664e+17</td>\n",
       "      <td>2.281182e+09</td>\n",
       "      <td>2017-07-15 16:51:35 +0000</td>\n",
       "      <td>&lt;a href=\"http://twitter.com/download/iphone\" r...</td>\n",
       "      <td>@NonWhiteHat @MayhewMayhem omg hello tanner yo...</td>\n",
       "      <td>NaN</td>\n",
       "      <td>NaN</td>\n",
       "      <td>NaN</td>\n",
       "      <td>NaN</td>\n",
       "      <td>12</td>\n",
       "      <td>10</td>\n",
       "      <td>None</td>\n",
       "      <td>None</td>\n",
       "      <td>None</td>\n",
       "      <td>None</td>\n",
       "      <td>None</td>\n",
       "    </tr>\n",
       "    <tr>\n",
       "      <th>55</th>\n",
       "      <td>881633300179243008</td>\n",
       "      <td>8.816070e+17</td>\n",
       "      <td>4.738443e+07</td>\n",
       "      <td>2017-07-02 21:58:53 +0000</td>\n",
       "      <td>&lt;a href=\"http://twitter.com/download/iphone\" r...</td>\n",
       "      <td>@roushfenway These are good dogs but 17/10 is ...</td>\n",
       "      <td>NaN</td>\n",
       "      <td>NaN</td>\n",
       "      <td>NaN</td>\n",
       "      <td>NaN</td>\n",
       "      <td>17</td>\n",
       "      <td>10</td>\n",
       "      <td>None</td>\n",
       "      <td>None</td>\n",
       "      <td>None</td>\n",
       "      <td>None</td>\n",
       "      <td>None</td>\n",
       "    </tr>\n",
       "    <tr>\n",
       "      <th>64</th>\n",
       "      <td>879674319642796034</td>\n",
       "      <td>8.795538e+17</td>\n",
       "      <td>3.105441e+09</td>\n",
       "      <td>2017-06-27 12:14:36 +0000</td>\n",
       "      <td>&lt;a href=\"http://twitter.com/download/iphone\" r...</td>\n",
       "      <td>@RealKentMurphy 14/10 confirmed</td>\n",
       "      <td>NaN</td>\n",
       "      <td>NaN</td>\n",
       "      <td>NaN</td>\n",
       "      <td>NaN</td>\n",
       "      <td>14</td>\n",
       "      <td>10</td>\n",
       "      <td>None</td>\n",
       "      <td>None</td>\n",
       "      <td>None</td>\n",
       "      <td>None</td>\n",
       "      <td>None</td>\n",
       "    </tr>\n",
       "    <tr>\n",
       "      <th>113</th>\n",
       "      <td>870726314365509632</td>\n",
       "      <td>8.707262e+17</td>\n",
       "      <td>1.648776e+07</td>\n",
       "      <td>2017-06-02 19:38:25 +0000</td>\n",
       "      <td>&lt;a href=\"http://twitter.com/download/iphone\" r...</td>\n",
       "      <td>@ComplicitOwl @ShopWeRateDogs &amp;gt;10/10 is res...</td>\n",
       "      <td>NaN</td>\n",
       "      <td>NaN</td>\n",
       "      <td>NaN</td>\n",
       "      <td>NaN</td>\n",
       "      <td>10</td>\n",
       "      <td>10</td>\n",
       "      <td>None</td>\n",
       "      <td>None</td>\n",
       "      <td>None</td>\n",
       "      <td>None</td>\n",
       "      <td>None</td>\n",
       "    </tr>\n",
       "    <tr>\n",
       "      <th>148</th>\n",
       "      <td>863427515083354112</td>\n",
       "      <td>8.634256e+17</td>\n",
       "      <td>7.759620e+07</td>\n",
       "      <td>2017-05-13 16:15:35 +0000</td>\n",
       "      <td>&lt;a href=\"http://twitter.com/download/iphone\" r...</td>\n",
       "      <td>@Jack_Septic_Eye I'd need a few more pics to p...</td>\n",
       "      <td>NaN</td>\n",
       "      <td>NaN</td>\n",
       "      <td>NaN</td>\n",
       "      <td>NaN</td>\n",
       "      <td>12</td>\n",
       "      <td>10</td>\n",
       "      <td>None</td>\n",
       "      <td>None</td>\n",
       "      <td>None</td>\n",
       "      <td>None</td>\n",
       "      <td>None</td>\n",
       "    </tr>\n",
       "  </tbody>\n",
       "</table>\n",
       "</div>"
      ],
      "text/plain": [
       "               tweet_id  in_reply_to_status_id  in_reply_to_user_id  \\\n",
       "30   886267009285017600           8.862664e+17         2.281182e+09   \n",
       "55   881633300179243008           8.816070e+17         4.738443e+07   \n",
       "64   879674319642796034           8.795538e+17         3.105441e+09   \n",
       "113  870726314365509632           8.707262e+17         1.648776e+07   \n",
       "148  863427515083354112           8.634256e+17         7.759620e+07   \n",
       "\n",
       "                     timestamp  \\\n",
       "30   2017-07-15 16:51:35 +0000   \n",
       "55   2017-07-02 21:58:53 +0000   \n",
       "64   2017-06-27 12:14:36 +0000   \n",
       "113  2017-06-02 19:38:25 +0000   \n",
       "148  2017-05-13 16:15:35 +0000   \n",
       "\n",
       "                                                source  \\\n",
       "30   <a href=\"http://twitter.com/download/iphone\" r...   \n",
       "55   <a href=\"http://twitter.com/download/iphone\" r...   \n",
       "64   <a href=\"http://twitter.com/download/iphone\" r...   \n",
       "113  <a href=\"http://twitter.com/download/iphone\" r...   \n",
       "148  <a href=\"http://twitter.com/download/iphone\" r...   \n",
       "\n",
       "                                                  text  retweeted_status_id  \\\n",
       "30   @NonWhiteHat @MayhewMayhem omg hello tanner yo...                  NaN   \n",
       "55   @roushfenway These are good dogs but 17/10 is ...                  NaN   \n",
       "64                     @RealKentMurphy 14/10 confirmed                  NaN   \n",
       "113  @ComplicitOwl @ShopWeRateDogs &gt;10/10 is res...                  NaN   \n",
       "148  @Jack_Septic_Eye I'd need a few more pics to p...                  NaN   \n",
       "\n",
       "     retweeted_status_user_id retweeted_status_timestamp expanded_urls  \\\n",
       "30                        NaN                        NaN           NaN   \n",
       "55                        NaN                        NaN           NaN   \n",
       "64                        NaN                        NaN           NaN   \n",
       "113                       NaN                        NaN           NaN   \n",
       "148                       NaN                        NaN           NaN   \n",
       "\n",
       "     rating_numerator  rating_denominator  name doggo floofer pupper puppo  \n",
       "30                 12                  10  None  None    None   None  None  \n",
       "55                 17                  10  None  None    None   None  None  \n",
       "64                 14                  10  None  None    None   None  None  \n",
       "113                10                  10  None  None    None   None  None  \n",
       "148                12                  10  None  None    None   None  None  "
      ]
     },
     "metadata": {},
     "output_type": "display_data"
    }
   ],
   "source": [
    "# preview sample records in retweeted_status_id column\n",
    "display(twt_archive[(~twt_archive['retweeted_status_id'].isnull())].head(10))\n",
    "\n",
    "# preview sample records in in_reply_to_status_id column\n",
    "display(twt_archive[(~twt_archive['in_reply_to_status_id'].isnull())].head())"
   ]
  },
  {
   "cell_type": "markdown",
   "id": "9bcd4f9a",
   "metadata": {},
   "source": [
    "- Inconsistent exponential index in (retweeted_status_user_id, and in_reply_to_user_id) columns. [Quality issue]\n",
    "- Extraneous decimal places in (in_reply_to_status_id, in_reply_to_user_id, retweeted_status_id,\tand retweeted_status_user_id) columns. [Qulaity issues]"
   ]
  },
  {
   "cell_type": "markdown",
   "id": "4758377c",
   "metadata": {},
   "source": [
    "Check for duplicates"
   ]
  },
  {
   "cell_type": "code",
   "execution_count": 11,
   "id": "7b5eac95",
   "metadata": {},
   "outputs": [
    {
     "data": {
      "text/plain": [
       "False"
      ]
     },
     "execution_count": 11,
     "metadata": {},
     "output_type": "execute_result"
    }
   ],
   "source": [
    "# Check if there's any duplicate\n",
    "twt_archive.duplicated().any()"
   ]
  },
  {
   "cell_type": "markdown",
   "id": "e644d0c9",
   "metadata": {},
   "source": [
    "<b>Remark:</b> No duplicated records"
   ]
  },
  {
   "cell_type": "markdown",
   "id": "10ed2dd2",
   "metadata": {},
   "source": [
    "Check for count of unique values"
   ]
  },
  {
   "cell_type": "code",
   "execution_count": 12,
   "id": "e1a981c1",
   "metadata": {},
   "outputs": [
    {
     "data": {
      "text/plain": [
       "tweet_id                      2356\n",
       "in_reply_to_status_id           77\n",
       "in_reply_to_user_id             31\n",
       "timestamp                     2356\n",
       "source                           4\n",
       "text                          2356\n",
       "retweeted_status_id            181\n",
       "retweeted_status_user_id        25\n",
       "retweeted_status_timestamp     181\n",
       "expanded_urls                 2218\n",
       "rating_numerator                40\n",
       "rating_denominator              18\n",
       "name                           957\n",
       "doggo                            2\n",
       "floofer                          2\n",
       "pupper                           2\n",
       "puppo                            2\n",
       "dtype: int64"
      ]
     },
     "execution_count": 12,
     "metadata": {},
     "output_type": "execute_result"
    }
   ],
   "source": [
    "twt_archive.nunique()"
   ]
  },
  {
   "cell_type": "markdown",
   "id": "6198b7d8",
   "metadata": {},
   "source": [
    "<b>Remark:</b><br>\n",
    "- There were 40 types of numerator rating scores\n",
    "- There were 18 types of numerator rating scores\n",
    "\n",
    "These could require some unification to aid better exploration"
   ]
  },
  {
   "cell_type": "code",
   "execution_count": 13,
   "id": "a40f98d3",
   "metadata": {},
   "outputs": [
    {
     "data": {
      "text/plain": [
       "False"
      ]
     },
     "execution_count": 13,
     "metadata": {},
     "output_type": "execute_result"
    }
   ],
   "source": [
    "twt_archive.name.isna().any()"
   ]
  },
  {
   "cell_type": "code",
   "execution_count": 14,
   "id": "797de5c7",
   "metadata": {},
   "outputs": [
    {
     "data": {
      "text/plain": [
       "['Al', 'Bo', 'Ed', 'JD', 'Jo', 'Mo', 'O', 'a', 'an', 'by', 'my']"
      ]
     },
     "execution_count": 14,
     "metadata": {},
     "output_type": "execute_result"
    }
   ],
   "source": [
    "# get and sort unique values in name columns\n",
    "a = np.sort(twt_archive.name.unique())\n",
    "\n",
    "# create list of values less than 3\n",
    "b = [i for i in a if len(str(i)) < 3]\n",
    "\n",
    "# check\n",
    "b"
   ]
  },
  {
   "cell_type": "markdown",
   "id": "c8288127",
   "metadata": {},
   "source": [
    "Summary Statistics"
   ]
  },
  {
   "cell_type": "code",
   "execution_count": 15,
   "id": "2f3297fc",
   "metadata": {},
   "outputs": [
    {
     "data": {
      "text/html": [
       "<div>\n",
       "<style scoped>\n",
       "    .dataframe tbody tr th:only-of-type {\n",
       "        vertical-align: middle;\n",
       "    }\n",
       "\n",
       "    .dataframe tbody tr th {\n",
       "        vertical-align: top;\n",
       "    }\n",
       "\n",
       "    .dataframe thead th {\n",
       "        text-align: right;\n",
       "    }\n",
       "</style>\n",
       "<table border=\"1\" class=\"dataframe\">\n",
       "  <thead>\n",
       "    <tr style=\"text-align: right;\">\n",
       "      <th></th>\n",
       "      <th>tweet_id</th>\n",
       "      <th>in_reply_to_status_id</th>\n",
       "      <th>in_reply_to_user_id</th>\n",
       "      <th>retweeted_status_id</th>\n",
       "      <th>retweeted_status_user_id</th>\n",
       "      <th>rating_numerator</th>\n",
       "      <th>rating_denominator</th>\n",
       "    </tr>\n",
       "  </thead>\n",
       "  <tbody>\n",
       "    <tr>\n",
       "      <th>count</th>\n",
       "      <td>2.356000e+03</td>\n",
       "      <td>7.800000e+01</td>\n",
       "      <td>7.800000e+01</td>\n",
       "      <td>1.810000e+02</td>\n",
       "      <td>1.810000e+02</td>\n",
       "      <td>2356.000000</td>\n",
       "      <td>2356.000000</td>\n",
       "    </tr>\n",
       "    <tr>\n",
       "      <th>mean</th>\n",
       "      <td>7.427716e+17</td>\n",
       "      <td>7.455079e+17</td>\n",
       "      <td>2.014171e+16</td>\n",
       "      <td>7.720400e+17</td>\n",
       "      <td>1.241698e+16</td>\n",
       "      <td>13.126486</td>\n",
       "      <td>10.455433</td>\n",
       "    </tr>\n",
       "    <tr>\n",
       "      <th>std</th>\n",
       "      <td>6.856705e+16</td>\n",
       "      <td>7.582492e+16</td>\n",
       "      <td>1.252797e+17</td>\n",
       "      <td>6.236928e+16</td>\n",
       "      <td>9.599254e+16</td>\n",
       "      <td>45.876648</td>\n",
       "      <td>6.745237</td>\n",
       "    </tr>\n",
       "    <tr>\n",
       "      <th>min</th>\n",
       "      <td>6.660209e+17</td>\n",
       "      <td>6.658147e+17</td>\n",
       "      <td>1.185634e+07</td>\n",
       "      <td>6.661041e+17</td>\n",
       "      <td>7.832140e+05</td>\n",
       "      <td>0.000000</td>\n",
       "      <td>0.000000</td>\n",
       "    </tr>\n",
       "    <tr>\n",
       "      <th>25%</th>\n",
       "      <td>6.783989e+17</td>\n",
       "      <td>6.757419e+17</td>\n",
       "      <td>3.086374e+08</td>\n",
       "      <td>7.186315e+17</td>\n",
       "      <td>4.196984e+09</td>\n",
       "      <td>10.000000</td>\n",
       "      <td>10.000000</td>\n",
       "    </tr>\n",
       "    <tr>\n",
       "      <th>50%</th>\n",
       "      <td>7.196279e+17</td>\n",
       "      <td>7.038708e+17</td>\n",
       "      <td>4.196984e+09</td>\n",
       "      <td>7.804657e+17</td>\n",
       "      <td>4.196984e+09</td>\n",
       "      <td>11.000000</td>\n",
       "      <td>10.000000</td>\n",
       "    </tr>\n",
       "    <tr>\n",
       "      <th>75%</th>\n",
       "      <td>7.993373e+17</td>\n",
       "      <td>8.257804e+17</td>\n",
       "      <td>4.196984e+09</td>\n",
       "      <td>8.203146e+17</td>\n",
       "      <td>4.196984e+09</td>\n",
       "      <td>12.000000</td>\n",
       "      <td>10.000000</td>\n",
       "    </tr>\n",
       "    <tr>\n",
       "      <th>max</th>\n",
       "      <td>8.924206e+17</td>\n",
       "      <td>8.862664e+17</td>\n",
       "      <td>8.405479e+17</td>\n",
       "      <td>8.874740e+17</td>\n",
       "      <td>7.874618e+17</td>\n",
       "      <td>1776.000000</td>\n",
       "      <td>170.000000</td>\n",
       "    </tr>\n",
       "  </tbody>\n",
       "</table>\n",
       "</div>"
      ],
      "text/plain": [
       "           tweet_id  in_reply_to_status_id  in_reply_to_user_id  \\\n",
       "count  2.356000e+03           7.800000e+01         7.800000e+01   \n",
       "mean   7.427716e+17           7.455079e+17         2.014171e+16   \n",
       "std    6.856705e+16           7.582492e+16         1.252797e+17   \n",
       "min    6.660209e+17           6.658147e+17         1.185634e+07   \n",
       "25%    6.783989e+17           6.757419e+17         3.086374e+08   \n",
       "50%    7.196279e+17           7.038708e+17         4.196984e+09   \n",
       "75%    7.993373e+17           8.257804e+17         4.196984e+09   \n",
       "max    8.924206e+17           8.862664e+17         8.405479e+17   \n",
       "\n",
       "       retweeted_status_id  retweeted_status_user_id  rating_numerator  \\\n",
       "count         1.810000e+02              1.810000e+02       2356.000000   \n",
       "mean          7.720400e+17              1.241698e+16         13.126486   \n",
       "std           6.236928e+16              9.599254e+16         45.876648   \n",
       "min           6.661041e+17              7.832140e+05          0.000000   \n",
       "25%           7.186315e+17              4.196984e+09         10.000000   \n",
       "50%           7.804657e+17              4.196984e+09         11.000000   \n",
       "75%           8.203146e+17              4.196984e+09         12.000000   \n",
       "max           8.874740e+17              7.874618e+17       1776.000000   \n",
       "\n",
       "       rating_denominator  \n",
       "count         2356.000000  \n",
       "mean            10.455433  \n",
       "std              6.745237  \n",
       "min              0.000000  \n",
       "25%             10.000000  \n",
       "50%             10.000000  \n",
       "75%             10.000000  \n",
       "max            170.000000  "
      ]
     },
     "execution_count": 15,
     "metadata": {},
     "output_type": "execute_result"
    }
   ],
   "source": [
    "twt_archive.describe()"
   ]
  },
  {
   "cell_type": "markdown",
   "id": "39ccb96f",
   "metadata": {},
   "source": [
    "Focusing on the rating columns"
   ]
  },
  {
   "cell_type": "code",
   "execution_count": 16,
   "id": "ffeb2e7e",
   "metadata": {},
   "outputs": [
    {
     "data": {
      "text/html": [
       "<div>\n",
       "<style scoped>\n",
       "    .dataframe tbody tr th:only-of-type {\n",
       "        vertical-align: middle;\n",
       "    }\n",
       "\n",
       "    .dataframe tbody tr th {\n",
       "        vertical-align: top;\n",
       "    }\n",
       "\n",
       "    .dataframe thead th {\n",
       "        text-align: right;\n",
       "    }\n",
       "</style>\n",
       "<table border=\"1\" class=\"dataframe\">\n",
       "  <thead>\n",
       "    <tr style=\"text-align: right;\">\n",
       "      <th></th>\n",
       "      <th>rating_numerator</th>\n",
       "      <th>rating_denominator</th>\n",
       "    </tr>\n",
       "  </thead>\n",
       "  <tbody>\n",
       "    <tr>\n",
       "      <th>count</th>\n",
       "      <td>2356.000000</td>\n",
       "      <td>2356.000000</td>\n",
       "    </tr>\n",
       "    <tr>\n",
       "      <th>mean</th>\n",
       "      <td>13.126486</td>\n",
       "      <td>10.455433</td>\n",
       "    </tr>\n",
       "    <tr>\n",
       "      <th>std</th>\n",
       "      <td>45.876648</td>\n",
       "      <td>6.745237</td>\n",
       "    </tr>\n",
       "    <tr>\n",
       "      <th>min</th>\n",
       "      <td>0.000000</td>\n",
       "      <td>0.000000</td>\n",
       "    </tr>\n",
       "    <tr>\n",
       "      <th>25%</th>\n",
       "      <td>10.000000</td>\n",
       "      <td>10.000000</td>\n",
       "    </tr>\n",
       "    <tr>\n",
       "      <th>50%</th>\n",
       "      <td>11.000000</td>\n",
       "      <td>10.000000</td>\n",
       "    </tr>\n",
       "    <tr>\n",
       "      <th>75%</th>\n",
       "      <td>12.000000</td>\n",
       "      <td>10.000000</td>\n",
       "    </tr>\n",
       "    <tr>\n",
       "      <th>max</th>\n",
       "      <td>1776.000000</td>\n",
       "      <td>170.000000</td>\n",
       "    </tr>\n",
       "  </tbody>\n",
       "</table>\n",
       "</div>"
      ],
      "text/plain": [
       "       rating_numerator  rating_denominator\n",
       "count       2356.000000         2356.000000\n",
       "mean          13.126486           10.455433\n",
       "std           45.876648            6.745237\n",
       "min            0.000000            0.000000\n",
       "25%           10.000000           10.000000\n",
       "50%           11.000000           10.000000\n",
       "75%           12.000000           10.000000\n",
       "max         1776.000000          170.000000"
      ]
     },
     "execution_count": 16,
     "metadata": {},
     "output_type": "execute_result"
    }
   ],
   "source": [
    "# slice columns accordingly\n",
    "twt_archive.iloc[:,np.r_[10,11]].describe()"
   ]
  },
  {
   "cell_type": "markdown",
   "id": "a8cea640",
   "metadata": {},
   "source": [
    "<b>Remark:</b> The value 10 seem to be significantly present in the rating_denominator column. While the values 11 and 12 seem to be significantly present in the rating_numerator."
   ]
  },
  {
   "cell_type": "markdown",
   "id": "0e59a333",
   "metadata": {},
   "source": [
    "Check significance of the value 10 in the rating_denominator"
   ]
  },
  {
   "cell_type": "code",
   "execution_count": 17,
   "id": "7953dffb",
   "metadata": {},
   "outputs": [
    {
     "data": {
      "text/plain": [
       "10     2333\n",
       "11        3\n",
       "50        3\n",
       "20        2\n",
       "80        2\n",
       "70        1\n",
       "7         1\n",
       "15        1\n",
       "150       1\n",
       "170       1\n",
       "0         1\n",
       "90        1\n",
       "40        1\n",
       "130       1\n",
       "110       1\n",
       "16        1\n",
       "120       1\n",
       "2         1\n",
       "Name: rating_denominator, dtype: int64"
      ]
     },
     "execution_count": 17,
     "metadata": {},
     "output_type": "execute_result"
    }
   ],
   "source": [
    "twt_archive['rating_denominator'].value_counts()"
   ]
  },
  {
   "cell_type": "markdown",
   "id": "9c947e3c",
   "metadata": {},
   "source": [
    "<b>Remark:</b> The value 10 seems to be most significant under the rating_denominator column."
   ]
  },
  {
   "cell_type": "markdown",
   "id": "2c1a680d",
   "metadata": {},
   "source": [
    "Check for the significance of the values 11 and 12 for the rating_numerator column"
   ]
  },
  {
   "cell_type": "code",
   "execution_count": 18,
   "id": "cf0c3585",
   "metadata": {},
   "outputs": [
    {
     "data": {
      "text/plain": [
       "12      558\n",
       "11      464\n",
       "10      461\n",
       "13      351\n",
       "9       158\n",
       "8       102\n",
       "7        55\n",
       "14       54\n",
       "5        37\n",
       "6        32\n",
       "3        19\n",
       "4        17\n",
       "2         9\n",
       "1         9\n",
       "75        2\n",
       "15        2\n",
       "420       2\n",
       "0         2\n",
       "80        1\n",
       "144       1\n",
       "17        1\n",
       "26        1\n",
       "20        1\n",
       "121       1\n",
       "143       1\n",
       "44        1\n",
       "60        1\n",
       "45        1\n",
       "50        1\n",
       "99        1\n",
       "204       1\n",
       "1776      1\n",
       "165       1\n",
       "666       1\n",
       "27        1\n",
       "182       1\n",
       "24        1\n",
       "960       1\n",
       "84        1\n",
       "88        1\n",
       "Name: rating_numerator, dtype: int64"
      ]
     },
     "execution_count": 18,
     "metadata": {},
     "output_type": "execute_result"
    }
   ],
   "source": [
    "twt_archive['rating_numerator'].value_counts()"
   ]
  },
  {
   "cell_type": "markdown",
   "id": "b1c08d26",
   "metadata": {},
   "source": [
    "<b>Remark:</b> Values are not significantly spread across the field"
   ]
  },
  {
   "cell_type": "markdown",
   "id": "55703ed1",
   "metadata": {},
   "source": [
    "There seem to be some outliers in the 'rating_numerator' records. Values greater than 14 had insignificant count. It seems reasonble to assign values greater than 14 to 14"
   ]
  },
  {
   "cell_type": "markdown",
   "id": "d3e4c1ae",
   "metadata": {},
   "source": [
    "<b>Remark:</b> Values greater than 14 will be assigned 14."
   ]
  },
  {
   "cell_type": "markdown",
   "id": "9232a0b0",
   "metadata": {},
   "source": [
    "<b>Rationale:</b> Due to the statement below, given as part of the instruction of this project, the numerator and denominator ratings discrepancies will not be addressed.<br>\n",
    "\n",
    "<i>The fact that the rating numerators are greater than the denominators does not need to be cleaned. This unique rating system is a big part of the popularity of WeRateDogs.</i>"
   ]
  },
  {
   "cell_type": "markdown",
   "id": "d88a4bec",
   "metadata": {},
   "source": [
    "<b>2. Image Predictions Dataset:</b>\n",
    "><b> Visual Assessment </b>"
   ]
  },
  {
   "cell_type": "code",
   "execution_count": 19,
   "id": "9e6035d7",
   "metadata": {},
   "outputs": [
    {
     "data": {
      "text/html": [
       "<div>\n",
       "<style scoped>\n",
       "    .dataframe tbody tr th:only-of-type {\n",
       "        vertical-align: middle;\n",
       "    }\n",
       "\n",
       "    .dataframe tbody tr th {\n",
       "        vertical-align: top;\n",
       "    }\n",
       "\n",
       "    .dataframe thead th {\n",
       "        text-align: right;\n",
       "    }\n",
       "</style>\n",
       "<table border=\"1\" class=\"dataframe\">\n",
       "  <thead>\n",
       "    <tr style=\"text-align: right;\">\n",
       "      <th></th>\n",
       "      <th>tweet_id</th>\n",
       "      <th>jpg_url</th>\n",
       "      <th>img_num</th>\n",
       "      <th>p1</th>\n",
       "      <th>p1_conf</th>\n",
       "      <th>p1_dog</th>\n",
       "      <th>p2</th>\n",
       "      <th>p2_conf</th>\n",
       "      <th>p2_dog</th>\n",
       "      <th>p3</th>\n",
       "      <th>p3_conf</th>\n",
       "      <th>p3_dog</th>\n",
       "    </tr>\n",
       "  </thead>\n",
       "  <tbody>\n",
       "    <tr>\n",
       "      <th>0</th>\n",
       "      <td>666020888022790149</td>\n",
       "      <td>https://pbs.twimg.com/media/CT4udn0WwAA0aMy.jpg</td>\n",
       "      <td>1</td>\n",
       "      <td>Welsh_springer_spaniel</td>\n",
       "      <td>0.465074</td>\n",
       "      <td>True</td>\n",
       "      <td>collie</td>\n",
       "      <td>0.156665</td>\n",
       "      <td>True</td>\n",
       "      <td>Shetland_sheepdog</td>\n",
       "      <td>0.061428</td>\n",
       "      <td>True</td>\n",
       "    </tr>\n",
       "    <tr>\n",
       "      <th>1</th>\n",
       "      <td>666029285002620928</td>\n",
       "      <td>https://pbs.twimg.com/media/CT42GRgUYAA5iDo.jpg</td>\n",
       "      <td>1</td>\n",
       "      <td>redbone</td>\n",
       "      <td>0.506826</td>\n",
       "      <td>True</td>\n",
       "      <td>miniature_pinscher</td>\n",
       "      <td>0.074192</td>\n",
       "      <td>True</td>\n",
       "      <td>Rhodesian_ridgeback</td>\n",
       "      <td>0.072010</td>\n",
       "      <td>True</td>\n",
       "    </tr>\n",
       "    <tr>\n",
       "      <th>2</th>\n",
       "      <td>666033412701032449</td>\n",
       "      <td>https://pbs.twimg.com/media/CT4521TWwAEvMyu.jpg</td>\n",
       "      <td>1</td>\n",
       "      <td>German_shepherd</td>\n",
       "      <td>0.596461</td>\n",
       "      <td>True</td>\n",
       "      <td>malinois</td>\n",
       "      <td>0.138584</td>\n",
       "      <td>True</td>\n",
       "      <td>bloodhound</td>\n",
       "      <td>0.116197</td>\n",
       "      <td>True</td>\n",
       "    </tr>\n",
       "    <tr>\n",
       "      <th>3</th>\n",
       "      <td>666044226329800704</td>\n",
       "      <td>https://pbs.twimg.com/media/CT5Dr8HUEAA-lEu.jpg</td>\n",
       "      <td>1</td>\n",
       "      <td>Rhodesian_ridgeback</td>\n",
       "      <td>0.408143</td>\n",
       "      <td>True</td>\n",
       "      <td>redbone</td>\n",
       "      <td>0.360687</td>\n",
       "      <td>True</td>\n",
       "      <td>miniature_pinscher</td>\n",
       "      <td>0.222752</td>\n",
       "      <td>True</td>\n",
       "    </tr>\n",
       "    <tr>\n",
       "      <th>4</th>\n",
       "      <td>666049248165822465</td>\n",
       "      <td>https://pbs.twimg.com/media/CT5IQmsXIAAKY4A.jpg</td>\n",
       "      <td>1</td>\n",
       "      <td>miniature_pinscher</td>\n",
       "      <td>0.560311</td>\n",
       "      <td>True</td>\n",
       "      <td>Rottweiler</td>\n",
       "      <td>0.243682</td>\n",
       "      <td>True</td>\n",
       "      <td>Doberman</td>\n",
       "      <td>0.154629</td>\n",
       "      <td>True</td>\n",
       "    </tr>\n",
       "    <tr>\n",
       "      <th>...</th>\n",
       "      <td>...</td>\n",
       "      <td>...</td>\n",
       "      <td>...</td>\n",
       "      <td>...</td>\n",
       "      <td>...</td>\n",
       "      <td>...</td>\n",
       "      <td>...</td>\n",
       "      <td>...</td>\n",
       "      <td>...</td>\n",
       "      <td>...</td>\n",
       "      <td>...</td>\n",
       "      <td>...</td>\n",
       "    </tr>\n",
       "    <tr>\n",
       "      <th>2070</th>\n",
       "      <td>891327558926688256</td>\n",
       "      <td>https://pbs.twimg.com/media/DF6hr6BUMAAzZgT.jpg</td>\n",
       "      <td>2</td>\n",
       "      <td>basset</td>\n",
       "      <td>0.555712</td>\n",
       "      <td>True</td>\n",
       "      <td>English_springer</td>\n",
       "      <td>0.225770</td>\n",
       "      <td>True</td>\n",
       "      <td>German_short-haired_pointer</td>\n",
       "      <td>0.175219</td>\n",
       "      <td>True</td>\n",
       "    </tr>\n",
       "    <tr>\n",
       "      <th>2071</th>\n",
       "      <td>891689557279858688</td>\n",
       "      <td>https://pbs.twimg.com/media/DF_q7IAWsAEuuN8.jpg</td>\n",
       "      <td>1</td>\n",
       "      <td>paper_towel</td>\n",
       "      <td>0.170278</td>\n",
       "      <td>False</td>\n",
       "      <td>Labrador_retriever</td>\n",
       "      <td>0.168086</td>\n",
       "      <td>True</td>\n",
       "      <td>spatula</td>\n",
       "      <td>0.040836</td>\n",
       "      <td>False</td>\n",
       "    </tr>\n",
       "    <tr>\n",
       "      <th>2072</th>\n",
       "      <td>891815181378084864</td>\n",
       "      <td>https://pbs.twimg.com/media/DGBdLU1WsAANxJ9.jpg</td>\n",
       "      <td>1</td>\n",
       "      <td>Chihuahua</td>\n",
       "      <td>0.716012</td>\n",
       "      <td>True</td>\n",
       "      <td>malamute</td>\n",
       "      <td>0.078253</td>\n",
       "      <td>True</td>\n",
       "      <td>kelpie</td>\n",
       "      <td>0.031379</td>\n",
       "      <td>True</td>\n",
       "    </tr>\n",
       "    <tr>\n",
       "      <th>2073</th>\n",
       "      <td>892177421306343426</td>\n",
       "      <td>https://pbs.twimg.com/media/DGGmoV4XsAAUL6n.jpg</td>\n",
       "      <td>1</td>\n",
       "      <td>Chihuahua</td>\n",
       "      <td>0.323581</td>\n",
       "      <td>True</td>\n",
       "      <td>Pekinese</td>\n",
       "      <td>0.090647</td>\n",
       "      <td>True</td>\n",
       "      <td>papillon</td>\n",
       "      <td>0.068957</td>\n",
       "      <td>True</td>\n",
       "    </tr>\n",
       "    <tr>\n",
       "      <th>2074</th>\n",
       "      <td>892420643555336193</td>\n",
       "      <td>https://pbs.twimg.com/media/DGKD1-bXoAAIAUK.jpg</td>\n",
       "      <td>1</td>\n",
       "      <td>orange</td>\n",
       "      <td>0.097049</td>\n",
       "      <td>False</td>\n",
       "      <td>bagel</td>\n",
       "      <td>0.085851</td>\n",
       "      <td>False</td>\n",
       "      <td>banana</td>\n",
       "      <td>0.076110</td>\n",
       "      <td>False</td>\n",
       "    </tr>\n",
       "  </tbody>\n",
       "</table>\n",
       "<p>2075 rows × 12 columns</p>\n",
       "</div>"
      ],
      "text/plain": [
       "                tweet_id                                          jpg_url  \\\n",
       "0     666020888022790149  https://pbs.twimg.com/media/CT4udn0WwAA0aMy.jpg   \n",
       "1     666029285002620928  https://pbs.twimg.com/media/CT42GRgUYAA5iDo.jpg   \n",
       "2     666033412701032449  https://pbs.twimg.com/media/CT4521TWwAEvMyu.jpg   \n",
       "3     666044226329800704  https://pbs.twimg.com/media/CT5Dr8HUEAA-lEu.jpg   \n",
       "4     666049248165822465  https://pbs.twimg.com/media/CT5IQmsXIAAKY4A.jpg   \n",
       "...                  ...                                              ...   \n",
       "2070  891327558926688256  https://pbs.twimg.com/media/DF6hr6BUMAAzZgT.jpg   \n",
       "2071  891689557279858688  https://pbs.twimg.com/media/DF_q7IAWsAEuuN8.jpg   \n",
       "2072  891815181378084864  https://pbs.twimg.com/media/DGBdLU1WsAANxJ9.jpg   \n",
       "2073  892177421306343426  https://pbs.twimg.com/media/DGGmoV4XsAAUL6n.jpg   \n",
       "2074  892420643555336193  https://pbs.twimg.com/media/DGKD1-bXoAAIAUK.jpg   \n",
       "\n",
       "      img_num                      p1   p1_conf  p1_dog                  p2  \\\n",
       "0           1  Welsh_springer_spaniel  0.465074    True              collie   \n",
       "1           1                 redbone  0.506826    True  miniature_pinscher   \n",
       "2           1         German_shepherd  0.596461    True            malinois   \n",
       "3           1     Rhodesian_ridgeback  0.408143    True             redbone   \n",
       "4           1      miniature_pinscher  0.560311    True          Rottweiler   \n",
       "...       ...                     ...       ...     ...                 ...   \n",
       "2070        2                  basset  0.555712    True    English_springer   \n",
       "2071        1             paper_towel  0.170278   False  Labrador_retriever   \n",
       "2072        1               Chihuahua  0.716012    True            malamute   \n",
       "2073        1               Chihuahua  0.323581    True            Pekinese   \n",
       "2074        1                  orange  0.097049   False               bagel   \n",
       "\n",
       "       p2_conf  p2_dog                           p3   p3_conf  p3_dog  \n",
       "0     0.156665    True            Shetland_sheepdog  0.061428    True  \n",
       "1     0.074192    True          Rhodesian_ridgeback  0.072010    True  \n",
       "2     0.138584    True                   bloodhound  0.116197    True  \n",
       "3     0.360687    True           miniature_pinscher  0.222752    True  \n",
       "4     0.243682    True                     Doberman  0.154629    True  \n",
       "...        ...     ...                          ...       ...     ...  \n",
       "2070  0.225770    True  German_short-haired_pointer  0.175219    True  \n",
       "2071  0.168086    True                      spatula  0.040836   False  \n",
       "2072  0.078253    True                       kelpie  0.031379    True  \n",
       "2073  0.090647    True                     papillon  0.068957    True  \n",
       "2074  0.085851   False                       banana  0.076110   False  \n",
       "\n",
       "[2075 rows x 12 columns]"
      ]
     },
     "execution_count": 19,
     "metadata": {},
     "output_type": "execute_result"
    }
   ],
   "source": [
    "# preview data set\n",
    "img_pred"
   ]
  },
  {
   "cell_type": "markdown",
   "id": "292bc997",
   "metadata": {},
   "source": [
    "- Character casing not consistent in multiple columns (p1, p2, and p3). [Quality issue]\n",
    "- Some records for dog breeds were incorrect. [Quality issue]\n",
    "- Confidence level may be best represented in percentage format. [Quality issue]\n",
    "- There should be one variable for px, px_conf, px_dog. [Tidiness issue]"
   ]
  },
  {
   "cell_type": "markdown",
   "id": "a8beffcd",
   "metadata": {},
   "source": [
    "> <b> Programmatic Assessment: </b>"
   ]
  },
  {
   "cell_type": "code",
   "execution_count": 20,
   "id": "fdc3fa41",
   "metadata": {},
   "outputs": [
    {
     "name": "stdout",
     "output_type": "stream",
     "text": [
      "<class 'pandas.core.frame.DataFrame'>\n",
      "RangeIndex: 2075 entries, 0 to 2074\n",
      "Data columns (total 12 columns):\n",
      " #   Column    Non-Null Count  Dtype  \n",
      "---  ------    --------------  -----  \n",
      " 0   tweet_id  2075 non-null   int64  \n",
      " 1   jpg_url   2075 non-null   object \n",
      " 2   img_num   2075 non-null   int64  \n",
      " 3   p1        2075 non-null   object \n",
      " 4   p1_conf   2075 non-null   float64\n",
      " 5   p1_dog    2075 non-null   bool   \n",
      " 6   p2        2075 non-null   object \n",
      " 7   p2_conf   2075 non-null   float64\n",
      " 8   p2_dog    2075 non-null   bool   \n",
      " 9   p3        2075 non-null   object \n",
      " 10  p3_conf   2075 non-null   float64\n",
      " 11  p3_dog    2075 non-null   bool   \n",
      "dtypes: bool(3), float64(3), int64(2), object(4)\n",
      "memory usage: 152.1+ KB\n"
     ]
    }
   ],
   "source": [
    "# generic overview of data set\n",
    "img_pred.info()"
   ]
  },
  {
   "cell_type": "markdown",
   "id": "99f8051d",
   "metadata": {},
   "source": [
    "<b>Remark:</b> There are no missing values. Data types seem fine."
   ]
  },
  {
   "cell_type": "markdown",
   "id": "fc3e3d15",
   "metadata": {},
   "source": [
    "Check data set dimension"
   ]
  },
  {
   "cell_type": "code",
   "execution_count": 21,
   "id": "8521c832",
   "metadata": {},
   "outputs": [
    {
     "data": {
      "text/plain": [
       "(2075, 12)"
      ]
     },
     "execution_count": 21,
     "metadata": {},
     "output_type": "execute_result"
    }
   ],
   "source": [
    "# get dataframe dimension\n",
    "img_pred.shape"
   ]
  },
  {
   "cell_type": "markdown",
   "id": "7e166e76",
   "metadata": {},
   "source": [
    "Check for duplicates"
   ]
  },
  {
   "cell_type": "code",
   "execution_count": 22,
   "id": "0e973cbe",
   "metadata": {},
   "outputs": [
    {
     "data": {
      "text/plain": [
       "False"
      ]
     },
     "execution_count": 22,
     "metadata": {},
     "output_type": "execute_result"
    }
   ],
   "source": [
    "# Check if there are any duplicates\n",
    "img_pred.duplicated().any()"
   ]
  },
  {
   "cell_type": "markdown",
   "id": "af8555f4",
   "metadata": {},
   "source": [
    "<b>Remark: </b> There are no duplicates"
   ]
  },
  {
   "cell_type": "markdown",
   "id": "f7b96d42",
   "metadata": {},
   "source": [
    "Check for unique values"
   ]
  },
  {
   "cell_type": "code",
   "execution_count": 23,
   "id": "85f57d96",
   "metadata": {},
   "outputs": [
    {
     "data": {
      "text/plain": [
       "tweet_id    2075\n",
       "jpg_url     2009\n",
       "img_num        4\n",
       "p1           378\n",
       "p1_conf     2006\n",
       "p1_dog         2\n",
       "p2           405\n",
       "p2_conf     2004\n",
       "p2_dog         2\n",
       "p3           408\n",
       "p3_conf     2006\n",
       "p3_dog         2\n",
       "dtype: int64"
      ]
     },
     "execution_count": 23,
     "metadata": {},
     "output_type": "execute_result"
    }
   ],
   "source": [
    "img_pred.nunique()"
   ]
  },
  {
   "cell_type": "markdown",
   "id": "a3569ce0",
   "metadata": {},
   "source": [
    "<b>Remark:</b> <br>\n",
    "- Some images were sent/uploaded from a previous URL.\n",
    "- Users had a maximum of four (4) images to uploade."
   ]
  },
  {
   "cell_type": "markdown",
   "id": "d916d49d",
   "metadata": {},
   "source": [
    "Summary Statistics"
   ]
  },
  {
   "cell_type": "code",
   "execution_count": 24,
   "id": "521ce2d9",
   "metadata": {},
   "outputs": [
    {
     "data": {
      "text/html": [
       "<div>\n",
       "<style scoped>\n",
       "    .dataframe tbody tr th:only-of-type {\n",
       "        vertical-align: middle;\n",
       "    }\n",
       "\n",
       "    .dataframe tbody tr th {\n",
       "        vertical-align: top;\n",
       "    }\n",
       "\n",
       "    .dataframe thead th {\n",
       "        text-align: right;\n",
       "    }\n",
       "</style>\n",
       "<table border=\"1\" class=\"dataframe\">\n",
       "  <thead>\n",
       "    <tr style=\"text-align: right;\">\n",
       "      <th></th>\n",
       "      <th>tweet_id</th>\n",
       "      <th>img_num</th>\n",
       "      <th>p1_conf</th>\n",
       "      <th>p2_conf</th>\n",
       "      <th>p3_conf</th>\n",
       "    </tr>\n",
       "  </thead>\n",
       "  <tbody>\n",
       "    <tr>\n",
       "      <th>count</th>\n",
       "      <td>2.075000e+03</td>\n",
       "      <td>2075.000000</td>\n",
       "      <td>2075.000000</td>\n",
       "      <td>2.075000e+03</td>\n",
       "      <td>2.075000e+03</td>\n",
       "    </tr>\n",
       "    <tr>\n",
       "      <th>mean</th>\n",
       "      <td>7.384514e+17</td>\n",
       "      <td>1.203855</td>\n",
       "      <td>0.594548</td>\n",
       "      <td>1.345886e-01</td>\n",
       "      <td>6.032417e-02</td>\n",
       "    </tr>\n",
       "    <tr>\n",
       "      <th>std</th>\n",
       "      <td>6.785203e+16</td>\n",
       "      <td>0.561875</td>\n",
       "      <td>0.271174</td>\n",
       "      <td>1.006657e-01</td>\n",
       "      <td>5.090593e-02</td>\n",
       "    </tr>\n",
       "    <tr>\n",
       "      <th>min</th>\n",
       "      <td>6.660209e+17</td>\n",
       "      <td>1.000000</td>\n",
       "      <td>0.044333</td>\n",
       "      <td>1.011300e-08</td>\n",
       "      <td>1.740170e-10</td>\n",
       "    </tr>\n",
       "    <tr>\n",
       "      <th>25%</th>\n",
       "      <td>6.764835e+17</td>\n",
       "      <td>1.000000</td>\n",
       "      <td>0.364412</td>\n",
       "      <td>5.388625e-02</td>\n",
       "      <td>1.622240e-02</td>\n",
       "    </tr>\n",
       "    <tr>\n",
       "      <th>50%</th>\n",
       "      <td>7.119988e+17</td>\n",
       "      <td>1.000000</td>\n",
       "      <td>0.588230</td>\n",
       "      <td>1.181810e-01</td>\n",
       "      <td>4.944380e-02</td>\n",
       "    </tr>\n",
       "    <tr>\n",
       "      <th>75%</th>\n",
       "      <td>7.932034e+17</td>\n",
       "      <td>1.000000</td>\n",
       "      <td>0.843855</td>\n",
       "      <td>1.955655e-01</td>\n",
       "      <td>9.180755e-02</td>\n",
       "    </tr>\n",
       "    <tr>\n",
       "      <th>max</th>\n",
       "      <td>8.924206e+17</td>\n",
       "      <td>4.000000</td>\n",
       "      <td>1.000000</td>\n",
       "      <td>4.880140e-01</td>\n",
       "      <td>2.734190e-01</td>\n",
       "    </tr>\n",
       "  </tbody>\n",
       "</table>\n",
       "</div>"
      ],
      "text/plain": [
       "           tweet_id      img_num      p1_conf       p2_conf       p3_conf\n",
       "count  2.075000e+03  2075.000000  2075.000000  2.075000e+03  2.075000e+03\n",
       "mean   7.384514e+17     1.203855     0.594548  1.345886e-01  6.032417e-02\n",
       "std    6.785203e+16     0.561875     0.271174  1.006657e-01  5.090593e-02\n",
       "min    6.660209e+17     1.000000     0.044333  1.011300e-08  1.740170e-10\n",
       "25%    6.764835e+17     1.000000     0.364412  5.388625e-02  1.622240e-02\n",
       "50%    7.119988e+17     1.000000     0.588230  1.181810e-01  4.944380e-02\n",
       "75%    7.932034e+17     1.000000     0.843855  1.955655e-01  9.180755e-02\n",
       "max    8.924206e+17     4.000000     1.000000  4.880140e-01  2.734190e-01"
      ]
     },
     "execution_count": 24,
     "metadata": {},
     "output_type": "execute_result"
    }
   ],
   "source": [
    "img_pred.describe()"
   ]
  },
  {
   "cell_type": "markdown",
   "id": "465af043",
   "metadata": {},
   "source": [
    "<b>Remark:<b/><br>\n",
    "- The first image uploaded by the user seem to have the most correct prediction.\n",
    "- Highest confidence level of prediction 2 and 3 were 48% and 27% respectively which is significantly weak in contrast to prediction 1 with 100%.\n",
    "- Over the majority of prediction 2 and 3 fall below the average of 50%. 19% for p2 and 9% for p3, compared to p1."
   ]
  },
  {
   "cell_type": "markdown",
   "id": "89c024ad",
   "metadata": {},
   "source": [
    "<b>3. Additional Twitter Data from API:</b>\n",
    "><b> Visual Assessment </b>"
   ]
  },
  {
   "cell_type": "code",
   "execution_count": 25,
   "id": "d3e11fc5",
   "metadata": {},
   "outputs": [
    {
     "data": {
      "text/html": [
       "<div>\n",
       "<style scoped>\n",
       "    .dataframe tbody tr th:only-of-type {\n",
       "        vertical-align: middle;\n",
       "    }\n",
       "\n",
       "    .dataframe tbody tr th {\n",
       "        vertical-align: top;\n",
       "    }\n",
       "\n",
       "    .dataframe thead th {\n",
       "        text-align: right;\n",
       "    }\n",
       "</style>\n",
       "<table border=\"1\" class=\"dataframe\">\n",
       "  <thead>\n",
       "    <tr style=\"text-align: right;\">\n",
       "      <th></th>\n",
       "      <th>id</th>\n",
       "      <th>retweet_count</th>\n",
       "      <th>favorite_count</th>\n",
       "    </tr>\n",
       "  </thead>\n",
       "  <tbody>\n",
       "    <tr>\n",
       "      <th>0</th>\n",
       "      <td>892420643555336193</td>\n",
       "      <td>8853</td>\n",
       "      <td>39467</td>\n",
       "    </tr>\n",
       "    <tr>\n",
       "      <th>1</th>\n",
       "      <td>892177421306343426</td>\n",
       "      <td>6514</td>\n",
       "      <td>33819</td>\n",
       "    </tr>\n",
       "    <tr>\n",
       "      <th>2</th>\n",
       "      <td>891815181378084864</td>\n",
       "      <td>4328</td>\n",
       "      <td>25461</td>\n",
       "    </tr>\n",
       "    <tr>\n",
       "      <th>3</th>\n",
       "      <td>891689557279858688</td>\n",
       "      <td>8964</td>\n",
       "      <td>42908</td>\n",
       "    </tr>\n",
       "    <tr>\n",
       "      <th>4</th>\n",
       "      <td>891327558926688256</td>\n",
       "      <td>9774</td>\n",
       "      <td>41048</td>\n",
       "    </tr>\n",
       "    <tr>\n",
       "      <th>...</th>\n",
       "      <td>...</td>\n",
       "      <td>...</td>\n",
       "      <td>...</td>\n",
       "    </tr>\n",
       "    <tr>\n",
       "      <th>2349</th>\n",
       "      <td>666049248165822465</td>\n",
       "      <td>41</td>\n",
       "      <td>111</td>\n",
       "    </tr>\n",
       "    <tr>\n",
       "      <th>2350</th>\n",
       "      <td>666044226329800704</td>\n",
       "      <td>147</td>\n",
       "      <td>311</td>\n",
       "    </tr>\n",
       "    <tr>\n",
       "      <th>2351</th>\n",
       "      <td>666033412701032449</td>\n",
       "      <td>47</td>\n",
       "      <td>128</td>\n",
       "    </tr>\n",
       "    <tr>\n",
       "      <th>2352</th>\n",
       "      <td>666029285002620928</td>\n",
       "      <td>48</td>\n",
       "      <td>132</td>\n",
       "    </tr>\n",
       "    <tr>\n",
       "      <th>2353</th>\n",
       "      <td>666020888022790149</td>\n",
       "      <td>532</td>\n",
       "      <td>2535</td>\n",
       "    </tr>\n",
       "  </tbody>\n",
       "</table>\n",
       "<p>2354 rows × 3 columns</p>\n",
       "</div>"
      ],
      "text/plain": [
       "                      id  retweet_count  favorite_count\n",
       "0     892420643555336193           8853           39467\n",
       "1     892177421306343426           6514           33819\n",
       "2     891815181378084864           4328           25461\n",
       "3     891689557279858688           8964           42908\n",
       "4     891327558926688256           9774           41048\n",
       "...                  ...            ...             ...\n",
       "2349  666049248165822465             41             111\n",
       "2350  666044226329800704            147             311\n",
       "2351  666033412701032449             47             128\n",
       "2352  666029285002620928             48             132\n",
       "2353  666020888022790149            532            2535\n",
       "\n",
       "[2354 rows x 3 columns]"
      ]
     },
     "execution_count": 25,
     "metadata": {},
     "output_type": "execute_result"
    }
   ],
   "source": [
    "# dataframe overview\n",
    "api_data"
   ]
  },
  {
   "cell_type": "markdown",
   "id": "d24a1031",
   "metadata": {},
   "source": [
    "- Column name inconsistency ('id' should be 'tweet_id'). [Quality issue]"
   ]
  },
  {
   "cell_type": "markdown",
   "id": "b5c6295f",
   "metadata": {},
   "source": [
    "> <b>Programmatic Assessment</b>"
   ]
  },
  {
   "cell_type": "code",
   "execution_count": 26,
   "id": "240b9914",
   "metadata": {},
   "outputs": [
    {
     "name": "stdout",
     "output_type": "stream",
     "text": [
      "<class 'pandas.core.frame.DataFrame'>\n",
      "RangeIndex: 2354 entries, 0 to 2353\n",
      "Data columns (total 3 columns):\n",
      " #   Column          Non-Null Count  Dtype\n",
      "---  ------          --------------  -----\n",
      " 0   id              2354 non-null   int64\n",
      " 1   retweet_count   2354 non-null   int64\n",
      " 2   favorite_count  2354 non-null   int64\n",
      "dtypes: int64(3)\n",
      "memory usage: 55.3 KB\n"
     ]
    }
   ],
   "source": [
    "api_data.info()"
   ]
  },
  {
   "cell_type": "markdown",
   "id": "11e55c16",
   "metadata": {},
   "source": [
    "<b>Remark:</b> <br>\n",
    "- No missing value\n",
    "- Data type seem right"
   ]
  },
  {
   "cell_type": "markdown",
   "id": "8d424ab8",
   "metadata": {},
   "source": [
    "Check for duplicates"
   ]
  },
  {
   "cell_type": "code",
   "execution_count": 27,
   "id": "34e40446",
   "metadata": {},
   "outputs": [
    {
     "data": {
      "text/plain": [
       "False"
      ]
     },
     "execution_count": 27,
     "metadata": {},
     "output_type": "execute_result"
    }
   ],
   "source": [
    "# check for duplicates\n",
    "api_data.duplicated().any()"
   ]
  },
  {
   "cell_type": "markdown",
   "id": "26c07a19",
   "metadata": {},
   "source": [
    "<b>Remark:</b> There are no duplicate records"
   ]
  },
  {
   "cell_type": "markdown",
   "id": "bca037aa",
   "metadata": {},
   "source": [
    "Check for unique values"
   ]
  },
  {
   "cell_type": "code",
   "execution_count": 28,
   "id": "89be03fb",
   "metadata": {},
   "outputs": [
    {
     "data": {
      "text/plain": [
       "id                2354\n",
       "retweet_count     1724\n",
       "favorite_count    2007\n",
       "dtype: int64"
      ]
     },
     "execution_count": 28,
     "metadata": {},
     "output_type": "execute_result"
    }
   ],
   "source": [
    "# check unique\n",
    "api_data.nunique()"
   ]
  },
  {
   "cell_type": "markdown",
   "id": "de09398e",
   "metadata": {},
   "source": [
    "Summary Statistics"
   ]
  },
  {
   "cell_type": "code",
   "execution_count": 29,
   "id": "d43e882a",
   "metadata": {},
   "outputs": [
    {
     "data": {
      "text/html": [
       "<div>\n",
       "<style scoped>\n",
       "    .dataframe tbody tr th:only-of-type {\n",
       "        vertical-align: middle;\n",
       "    }\n",
       "\n",
       "    .dataframe tbody tr th {\n",
       "        vertical-align: top;\n",
       "    }\n",
       "\n",
       "    .dataframe thead th {\n",
       "        text-align: right;\n",
       "    }\n",
       "</style>\n",
       "<table border=\"1\" class=\"dataframe\">\n",
       "  <thead>\n",
       "    <tr style=\"text-align: right;\">\n",
       "      <th></th>\n",
       "      <th>id</th>\n",
       "      <th>retweet_count</th>\n",
       "      <th>favorite_count</th>\n",
       "    </tr>\n",
       "  </thead>\n",
       "  <tbody>\n",
       "    <tr>\n",
       "      <th>count</th>\n",
       "      <td>2.354000e+03</td>\n",
       "      <td>2354.000000</td>\n",
       "      <td>2354.000000</td>\n",
       "    </tr>\n",
       "    <tr>\n",
       "      <th>mean</th>\n",
       "      <td>7.426978e+17</td>\n",
       "      <td>3164.797366</td>\n",
       "      <td>8080.968564</td>\n",
       "    </tr>\n",
       "    <tr>\n",
       "      <th>std</th>\n",
       "      <td>6.852812e+16</td>\n",
       "      <td>5284.770364</td>\n",
       "      <td>11814.771334</td>\n",
       "    </tr>\n",
       "    <tr>\n",
       "      <th>min</th>\n",
       "      <td>6.660209e+17</td>\n",
       "      <td>0.000000</td>\n",
       "      <td>0.000000</td>\n",
       "    </tr>\n",
       "    <tr>\n",
       "      <th>25%</th>\n",
       "      <td>6.783975e+17</td>\n",
       "      <td>624.500000</td>\n",
       "      <td>1415.000000</td>\n",
       "    </tr>\n",
       "    <tr>\n",
       "      <th>50%</th>\n",
       "      <td>7.194596e+17</td>\n",
       "      <td>1473.500000</td>\n",
       "      <td>3603.500000</td>\n",
       "    </tr>\n",
       "    <tr>\n",
       "      <th>75%</th>\n",
       "      <td>7.993058e+17</td>\n",
       "      <td>3652.000000</td>\n",
       "      <td>10122.250000</td>\n",
       "    </tr>\n",
       "    <tr>\n",
       "      <th>max</th>\n",
       "      <td>8.924206e+17</td>\n",
       "      <td>79515.000000</td>\n",
       "      <td>132810.000000</td>\n",
       "    </tr>\n",
       "  </tbody>\n",
       "</table>\n",
       "</div>"
      ],
      "text/plain": [
       "                 id  retweet_count  favorite_count\n",
       "count  2.354000e+03    2354.000000     2354.000000\n",
       "mean   7.426978e+17    3164.797366     8080.968564\n",
       "std    6.852812e+16    5284.770364    11814.771334\n",
       "min    6.660209e+17       0.000000        0.000000\n",
       "25%    6.783975e+17     624.500000     1415.000000\n",
       "50%    7.194596e+17    1473.500000     3603.500000\n",
       "75%    7.993058e+17    3652.000000    10122.250000\n",
       "max    8.924206e+17   79515.000000   132810.000000"
      ]
     },
     "execution_count": 29,
     "metadata": {},
     "output_type": "execute_result"
    }
   ],
   "source": [
    "# check summary statistics\n",
    "api_data.describe()"
   ]
  },
  {
   "cell_type": "markdown",
   "id": "17f8327c",
   "metadata": {},
   "source": [
    "<b>Remark:</b><br>\n",
    "- favorite count is relatively higher than retweet count"
   ]
  },
  {
   "cell_type": "markdown",
   "id": "b439174a",
   "metadata": {},
   "source": [
    "<b>Summary of Assessment</b><br>\n",
    "> <b>Quality issues:</b><br>\n",
    "Twitter Archive Enhanced: \n",
    "><ol><li> Some cumbersome column names (in_reply_to_status_id, in_reply_to_user_id, retweeted_status_id, retweeted_status_user_id, retweeted_status_id_timestamp, rating_numerator, rating_denominator). </li>\n",
    "    <li> Character casing inconsistent in name column. </li>\n",
    "    <li>Missing values in six (6) columns (in_reply_to_status_id, in_reply_to_user_id, retweeted_status_id, retweeted_status_user_id, retweeted_status_id_timestamp, expanded_urls). </li><li> Unideal data types (timestamp, retweeted_status_timestamp).</li>\n",
    "    <li> Inconsistent exponential index in (retweeted_status_user_id, and in_reply_to_user_id) columns.</li><li> Extraneous decimal places in (in_reply_to_status_id, in_reply_to_user_id, retweeted_status_id, and retweeted_status_user_id) columns.</li></ol>\n",
    "Image Predictions:\n",
    "> <ol>\n",
    "    <li>Character casing not consistent in multiple columns (p1, p2, and p3).</li>\n",
    "    <li>Some records for dog breeds were incorrect. </li>\n",
    "    <li>Confidence level may be best represented in percentage format.</li></ol>\n",
    "Additional Twitter Data form API:\n",
    "> <ol>\n",
    "    <li>Column name inconsistency ('id' should be 'tweet_id'). </li></ol>\n",
    "> <b>Tidiness issues:</b><br>\n",
    "Twitter Archive Enhanced: \n",
    "><ol><li>Multiple columns for one variable (doggo, floofer, pupper, and puppo are all dog stages).</li>\n",
    "    <li>Multiple observational units in one table (retweeted_status_id, retweeted_status_user_id, in_reply_to_status_id, in_reply_to_user_id, tweet_id).</li>\n",
    "    <li>There should be one variable for rating.</li></ol>\n",
    "Image Predictions:\n",
    "><ol><li>There should be one variable for px, px_conf, px_dog. </li></ol>\n",
    "><b>Total:</b> 10 quality and 4 tidiness issues were identified. Making a total of 14 issues.</b>\n",
    "    \n"
   ]
  },
  {
   "cell_type": "markdown",
   "id": "1f98bc03",
   "metadata": {},
   "source": [
    "<a id='data cleaning'></a>\n",
    "\n",
    "# DATA CLEANING\n",
    "\n",
    "> <b>1. Twitter Archive Enhanced:</b>"
   ]
  },
  {
   "cell_type": "markdown",
   "id": "b5744197",
   "metadata": {},
   "source": [
    "<b>Define: </b>"
   ]
  },
  {
   "cell_type": "markdown",
   "id": "eeb9a1d5",
   "metadata": {},
   "source": [
    "1. Rename cumbersome column names (in_reply_to_status_id, in_reply_to_user_id, retweeted_status_id, retweeted_status_user_id, retweeted_status_id_timestamp, rating_numerator, rating_denominator) to (reply_statusID, reply_userID, retweeted_statusID, retweeted_userID, retweeted_timestamp, rating_num, rating_den).\n",
    "2. Capitalize all name column variables.\n",
    "3. Replace and drop missing values accordingly in six (6) columns (in_reply_to_status_id, in_reply_to_user_id, retweeted_status_id, retweeted_status_user_id, retweeted_status_timestamp, expanded_urls).\n",
    "4. Change data types of (timestamp, retweeted_status_timestamp) to datetime.\n",
    "5. Round inconsistent exponential index to 18 in (retweeted_status_user_id, and in_reply_to_user_id) columns.\n",
    "6. Round extraneous decimal places to 18 in (in_reply_to_status_id, in_reply_to_user_id, retweeted_status_id, and retweeted_status_user_id) columns.\n",
    "7. Convert all dog stages variables to one variable/column called dog_stage (doggo, floofer, pupper, and puppo are all dog stages).\n",
    "8. Create separate tables for these observational units (retweeted_status_id, retweeted_status_user_id, in_reply_to_status_id, in_reply_to_user_id, tweet_id).\n",
    "9. Create a single column for rating by dividing rating_denominator by rating_numerator."
   ]
  },
  {
   "cell_type": "markdown",
   "id": "ba2dc0db",
   "metadata": {},
   "source": [
    "<b>Code:</b>"
   ]
  },
  {
   "cell_type": "code",
   "execution_count": 30,
   "id": "851d4c1d",
   "metadata": {},
   "outputs": [],
   "source": [
    "# create duplicate for safe keeping\n",
    "twt_arc = twt_archive.copy()\n",
    "\n",
    "# preview \n",
    "# twt_arc.head(2)"
   ]
  },
  {
   "cell_type": "markdown",
   "id": "ac922474",
   "metadata": {},
   "source": [
    "1. Rename cumbersome column names (in_reply_to_status_id, in_reply_to_user_id, retweeted_status_id, retweeted_status_user_id, retweeted_status_id_timestamp, rating_numerator, rating_denominator) to (reply_statusID, reply_userID, retweeted_statusID, retweeted_userID, retweeted_timestamp, rating_num, rating_den)."
   ]
  },
  {
   "cell_type": "code",
   "execution_count": 31,
   "id": "13b994bf",
   "metadata": {},
   "outputs": [],
   "source": [
    "# rename cumbersome column name\n",
    "twt_arc = twt_arc.rename(columns={'tweet_id':'tweet_ID',\n",
    "                                  'in_reply_to_status_id':'reply_statusID', \n",
    "                                  'in_reply_to_user_id':'reply_userID',\n",
    "                                 'retweeted_status_id':'retweeted_statusID',\n",
    "                                  'retweeted_status_user_id':'retweeted_userID',\n",
    "                                 'retweeted_status_timestamp':'retweeted_timestamp',\n",
    "                                 'rating_numerator':'rating_num',\n",
    "                                 'rating_denominator':'rating_den'})"
   ]
  },
  {
   "cell_type": "markdown",
   "id": "905ae7f0",
   "metadata": {},
   "source": [
    "2. Capitalize all 'name' column variables."
   ]
  },
  {
   "cell_type": "code",
   "execution_count": 32,
   "id": "08722449",
   "metadata": {},
   "outputs": [],
   "source": [
    "# make all first letters of name variable uppercase\n",
    "twt_arc.name = twt_arc.name.str.title()"
   ]
  },
  {
   "cell_type": "markdown",
   "id": "9aa5d92f",
   "metadata": {},
   "source": [
    "3. Replace and drop missing values accordingly in six (6) columns (in_reply_to_status_id, in_reply_to_user_id, retweeted_status_id, retweeted_status_user_id, retweeted_status_id_timestamp, expanded_urls)."
   ]
  },
  {
   "cell_type": "markdown",
   "id": "f9816c6a",
   "metadata": {},
   "source": [
    "ID columns values are expected to be unique. As such, filling them with best guesses or aggregated values will not suffice. Also, there is no way to get research and get these values at the moment. Therefore, I have opted to fill them all with zeros (0). Alternatively, I could drop these columns as they have relatively few records, plus they are irrelevant to my anlysis. But I consider that a bit extreme at this time plus these are unique identifies.  "
   ]
  },
  {
   "cell_type": "code",
   "execution_count": 33,
   "id": "4285f6a6",
   "metadata": {},
   "outputs": [],
   "source": [
    "# fill missing values with zero (0)\n",
    "twt_arc.fillna({'reply_statusID':0, 'reply_userID':0, 'retweeted_statusID':0,\n",
    "               'retweeted_userID':0,}, inplace=True)"
   ]
  },
  {
   "cell_type": "code",
   "execution_count": 34,
   "id": "1519a0b1",
   "metadata": {},
   "outputs": [
    {
     "data": {
      "text/plain": [
       "2175"
      ]
     },
     "execution_count": 34,
     "metadata": {},
     "output_type": "execute_result"
    }
   ],
   "source": [
    "# get total number of missing values in the 'retweeted_timestamp' column\n",
    "twt_arc['retweeted_timestamp'].isna().sum()"
   ]
  },
  {
   "cell_type": "markdown",
   "id": "977fc404",
   "metadata": {},
   "source": [
    "There are over 2000 missing values under the 'retweeted_timestamp' column. I will be dropping this column since the number of missing values is significantly large thereby making its records negligible plus replacing with guesses will not be sufficient and can be considered data fraud since it's related to the time a retweet was made. Also, it will not be useful for my analysis."
   ]
  },
  {
   "cell_type": "code",
   "execution_count": 35,
   "id": "38d61909",
   "metadata": {
    "scrolled": true
   },
   "outputs": [],
   "source": [
    "# drop retweeted_timestamp column\n",
    "twt_arc.drop('retweeted_timestamp', axis=1, inplace=True)"
   ]
  },
  {
   "cell_type": "code",
   "execution_count": 36,
   "id": "57ce521c",
   "metadata": {},
   "outputs": [
    {
     "data": {
      "text/html": [
       "<div>\n",
       "<style scoped>\n",
       "    .dataframe tbody tr th:only-of-type {\n",
       "        vertical-align: middle;\n",
       "    }\n",
       "\n",
       "    .dataframe tbody tr th {\n",
       "        vertical-align: top;\n",
       "    }\n",
       "\n",
       "    .dataframe thead th {\n",
       "        text-align: right;\n",
       "    }\n",
       "</style>\n",
       "<table border=\"1\" class=\"dataframe\">\n",
       "  <thead>\n",
       "    <tr style=\"text-align: right;\">\n",
       "      <th></th>\n",
       "      <th>tweet_ID</th>\n",
       "      <th>reply_statusID</th>\n",
       "      <th>reply_userID</th>\n",
       "      <th>timestamp</th>\n",
       "      <th>source</th>\n",
       "      <th>text</th>\n",
       "      <th>retweeted_statusID</th>\n",
       "      <th>retweeted_userID</th>\n",
       "      <th>expanded_urls</th>\n",
       "      <th>rating_num</th>\n",
       "      <th>rating_den</th>\n",
       "      <th>name</th>\n",
       "      <th>doggo</th>\n",
       "      <th>floofer</th>\n",
       "      <th>pupper</th>\n",
       "      <th>puppo</th>\n",
       "    </tr>\n",
       "  </thead>\n",
       "  <tbody>\n",
       "    <tr>\n",
       "      <th>0</th>\n",
       "      <td>892420643555336193</td>\n",
       "      <td>0.0</td>\n",
       "      <td>0.0</td>\n",
       "      <td>2017-08-01 16:23:56 +0000</td>\n",
       "      <td>&lt;a href=\"http://twitter.com/download/iphone\" r...</td>\n",
       "      <td>This is Phineas. He's a mystical boy. Only eve...</td>\n",
       "      <td>0.0</td>\n",
       "      <td>0.0</td>\n",
       "      <td>https://twitter.com/dog_rates/status/892420643...</td>\n",
       "      <td>13</td>\n",
       "      <td>10</td>\n",
       "      <td>Phineas</td>\n",
       "      <td>None</td>\n",
       "      <td>None</td>\n",
       "      <td>None</td>\n",
       "      <td>None</td>\n",
       "    </tr>\n",
       "  </tbody>\n",
       "</table>\n",
       "</div>"
      ],
      "text/plain": [
       "             tweet_ID  reply_statusID  reply_userID  \\\n",
       "0  892420643555336193             0.0           0.0   \n",
       "\n",
       "                   timestamp  \\\n",
       "0  2017-08-01 16:23:56 +0000   \n",
       "\n",
       "                                              source  \\\n",
       "0  <a href=\"http://twitter.com/download/iphone\" r...   \n",
       "\n",
       "                                                text  retweeted_statusID  \\\n",
       "0  This is Phineas. He's a mystical boy. Only eve...                 0.0   \n",
       "\n",
       "   retweeted_userID                                      expanded_urls  \\\n",
       "0               0.0  https://twitter.com/dog_rates/status/892420643...   \n",
       "\n",
       "   rating_num  rating_den     name doggo floofer pupper puppo  \n",
       "0          13          10  Phineas  None    None   None  None  "
      ]
     },
     "execution_count": 36,
     "metadata": {},
     "output_type": "execute_result"
    }
   ],
   "source": [
    "twt_arc.head(1)"
   ]
  },
  {
   "cell_type": "code",
   "execution_count": 37,
   "id": "de1a2100",
   "metadata": {},
   "outputs": [
    {
     "data": {
      "text/plain": [
       "59"
      ]
     },
     "execution_count": 37,
     "metadata": {},
     "output_type": "execute_result"
    }
   ],
   "source": [
    "# check number of missing values for the 'expanded_urls' column\n",
    "twt_arc['expanded_urls'].isna().sum()"
   ]
  },
  {
   "cell_type": "markdown",
   "id": "08e93eed",
   "metadata": {},
   "source": [
    "There are 59 missing values in the 'expanded_urls' column"
   ]
  },
  {
   "cell_type": "code",
   "execution_count": 38,
   "id": "f3c7f211",
   "metadata": {},
   "outputs": [
    {
     "data": {
      "text/plain": [
       "137"
      ]
     },
     "execution_count": 38,
     "metadata": {},
     "output_type": "execute_result"
    }
   ],
   "source": [
    "# check number of duplicates for the 'expanded_urls' column\n",
    "twt_arc['expanded_urls'].duplicated().sum()"
   ]
  },
  {
   "cell_type": "markdown",
   "id": "760b37d7",
   "metadata": {},
   "source": [
    "There are 137 duplicated values in the 'expanded_urls' column. "
   ]
  },
  {
   "cell_type": "markdown",
   "id": "357580c1",
   "metadata": {},
   "source": [
    "Check indexes of 'expanded_urls' missing values"
   ]
  },
  {
   "cell_type": "code",
   "execution_count": 39,
   "id": "3360ce7b",
   "metadata": {},
   "outputs": [
    {
     "data": {
      "text/html": [
       "<div>\n",
       "<style scoped>\n",
       "    .dataframe tbody tr th:only-of-type {\n",
       "        vertical-align: middle;\n",
       "    }\n",
       "\n",
       "    .dataframe tbody tr th {\n",
       "        vertical-align: top;\n",
       "    }\n",
       "\n",
       "    .dataframe thead th {\n",
       "        text-align: right;\n",
       "    }\n",
       "</style>\n",
       "<table border=\"1\" class=\"dataframe\">\n",
       "  <thead>\n",
       "    <tr style=\"text-align: right;\">\n",
       "      <th></th>\n",
       "      <th>tweet_ID</th>\n",
       "      <th>reply_statusID</th>\n",
       "      <th>reply_userID</th>\n",
       "      <th>timestamp</th>\n",
       "      <th>source</th>\n",
       "      <th>text</th>\n",
       "      <th>retweeted_statusID</th>\n",
       "      <th>retweeted_userID</th>\n",
       "      <th>expanded_urls</th>\n",
       "      <th>rating_num</th>\n",
       "      <th>rating_den</th>\n",
       "      <th>name</th>\n",
       "      <th>doggo</th>\n",
       "      <th>floofer</th>\n",
       "      <th>pupper</th>\n",
       "      <th>puppo</th>\n",
       "    </tr>\n",
       "  </thead>\n",
       "  <tbody>\n",
       "    <tr>\n",
       "      <th>30</th>\n",
       "      <td>886267009285017600</td>\n",
       "      <td>8.862664e+17</td>\n",
       "      <td>2.281182e+09</td>\n",
       "      <td>2017-07-15 16:51:35 +0000</td>\n",
       "      <td>&lt;a href=\"http://twitter.com/download/iphone\" r...</td>\n",
       "      <td>@NonWhiteHat @MayhewMayhem omg hello tanner yo...</td>\n",
       "      <td>0.0</td>\n",
       "      <td>0.0</td>\n",
       "      <td>NaN</td>\n",
       "      <td>12</td>\n",
       "      <td>10</td>\n",
       "      <td>None</td>\n",
       "      <td>None</td>\n",
       "      <td>None</td>\n",
       "      <td>None</td>\n",
       "      <td>None</td>\n",
       "    </tr>\n",
       "    <tr>\n",
       "      <th>55</th>\n",
       "      <td>881633300179243008</td>\n",
       "      <td>8.816070e+17</td>\n",
       "      <td>4.738443e+07</td>\n",
       "      <td>2017-07-02 21:58:53 +0000</td>\n",
       "      <td>&lt;a href=\"http://twitter.com/download/iphone\" r...</td>\n",
       "      <td>@roushfenway These are good dogs but 17/10 is ...</td>\n",
       "      <td>0.0</td>\n",
       "      <td>0.0</td>\n",
       "      <td>NaN</td>\n",
       "      <td>17</td>\n",
       "      <td>10</td>\n",
       "      <td>None</td>\n",
       "      <td>None</td>\n",
       "      <td>None</td>\n",
       "      <td>None</td>\n",
       "      <td>None</td>\n",
       "    </tr>\n",
       "    <tr>\n",
       "      <th>64</th>\n",
       "      <td>879674319642796034</td>\n",
       "      <td>8.795538e+17</td>\n",
       "      <td>3.105441e+09</td>\n",
       "      <td>2017-06-27 12:14:36 +0000</td>\n",
       "      <td>&lt;a href=\"http://twitter.com/download/iphone\" r...</td>\n",
       "      <td>@RealKentMurphy 14/10 confirmed</td>\n",
       "      <td>0.0</td>\n",
       "      <td>0.0</td>\n",
       "      <td>NaN</td>\n",
       "      <td>14</td>\n",
       "      <td>10</td>\n",
       "      <td>None</td>\n",
       "      <td>None</td>\n",
       "      <td>None</td>\n",
       "      <td>None</td>\n",
       "      <td>None</td>\n",
       "    </tr>\n",
       "    <tr>\n",
       "      <th>113</th>\n",
       "      <td>870726314365509632</td>\n",
       "      <td>8.707262e+17</td>\n",
       "      <td>1.648776e+07</td>\n",
       "      <td>2017-06-02 19:38:25 +0000</td>\n",
       "      <td>&lt;a href=\"http://twitter.com/download/iphone\" r...</td>\n",
       "      <td>@ComplicitOwl @ShopWeRateDogs &amp;gt;10/10 is res...</td>\n",
       "      <td>0.0</td>\n",
       "      <td>0.0</td>\n",
       "      <td>NaN</td>\n",
       "      <td>10</td>\n",
       "      <td>10</td>\n",
       "      <td>None</td>\n",
       "      <td>None</td>\n",
       "      <td>None</td>\n",
       "      <td>None</td>\n",
       "      <td>None</td>\n",
       "    </tr>\n",
       "    <tr>\n",
       "      <th>148</th>\n",
       "      <td>863427515083354112</td>\n",
       "      <td>8.634256e+17</td>\n",
       "      <td>7.759620e+07</td>\n",
       "      <td>2017-05-13 16:15:35 +0000</td>\n",
       "      <td>&lt;a href=\"http://twitter.com/download/iphone\" r...</td>\n",
       "      <td>@Jack_Septic_Eye I'd need a few more pics to p...</td>\n",
       "      <td>0.0</td>\n",
       "      <td>0.0</td>\n",
       "      <td>NaN</td>\n",
       "      <td>12</td>\n",
       "      <td>10</td>\n",
       "      <td>None</td>\n",
       "      <td>None</td>\n",
       "      <td>None</td>\n",
       "      <td>None</td>\n",
       "      <td>None</td>\n",
       "    </tr>\n",
       "  </tbody>\n",
       "</table>\n",
       "</div>"
      ],
      "text/plain": [
       "               tweet_ID  reply_statusID  reply_userID  \\\n",
       "30   886267009285017600    8.862664e+17  2.281182e+09   \n",
       "55   881633300179243008    8.816070e+17  4.738443e+07   \n",
       "64   879674319642796034    8.795538e+17  3.105441e+09   \n",
       "113  870726314365509632    8.707262e+17  1.648776e+07   \n",
       "148  863427515083354112    8.634256e+17  7.759620e+07   \n",
       "\n",
       "                     timestamp  \\\n",
       "30   2017-07-15 16:51:35 +0000   \n",
       "55   2017-07-02 21:58:53 +0000   \n",
       "64   2017-06-27 12:14:36 +0000   \n",
       "113  2017-06-02 19:38:25 +0000   \n",
       "148  2017-05-13 16:15:35 +0000   \n",
       "\n",
       "                                                source  \\\n",
       "30   <a href=\"http://twitter.com/download/iphone\" r...   \n",
       "55   <a href=\"http://twitter.com/download/iphone\" r...   \n",
       "64   <a href=\"http://twitter.com/download/iphone\" r...   \n",
       "113  <a href=\"http://twitter.com/download/iphone\" r...   \n",
       "148  <a href=\"http://twitter.com/download/iphone\" r...   \n",
       "\n",
       "                                                  text  retweeted_statusID  \\\n",
       "30   @NonWhiteHat @MayhewMayhem omg hello tanner yo...                 0.0   \n",
       "55   @roushfenway These are good dogs but 17/10 is ...                 0.0   \n",
       "64                     @RealKentMurphy 14/10 confirmed                 0.0   \n",
       "113  @ComplicitOwl @ShopWeRateDogs &gt;10/10 is res...                 0.0   \n",
       "148  @Jack_Septic_Eye I'd need a few more pics to p...                 0.0   \n",
       "\n",
       "     retweeted_userID expanded_urls  rating_num  rating_den  name doggo  \\\n",
       "30                0.0           NaN          12          10  None  None   \n",
       "55                0.0           NaN          17          10  None  None   \n",
       "64                0.0           NaN          14          10  None  None   \n",
       "113               0.0           NaN          10          10  None  None   \n",
       "148               0.0           NaN          12          10  None  None   \n",
       "\n",
       "    floofer pupper puppo  \n",
       "30     None   None  None  \n",
       "55     None   None  None  \n",
       "64     None   None  None  \n",
       "113    None   None  None  \n",
       "148    None   None  None  "
      ]
     },
     "execution_count": 39,
     "metadata": {},
     "output_type": "execute_result"
    }
   ],
   "source": [
    "twt_arc[twt_arc['expanded_urls'].isna()].head()"
   ]
  },
  {
   "cell_type": "markdown",
   "id": "ccf72266",
   "metadata": {},
   "source": [
    "The missing values in 'expanded_urls' are widely distributed. As such, filling them with their closest 'neigbour' will suffice in this case since the missing values are minute in number and there are more duplicate values than missing values for this variable. Also, this variable will not be used in this analysis. "
   ]
  },
  {
   "cell_type": "code",
   "execution_count": 40,
   "id": "8f7459f6",
   "metadata": {},
   "outputs": [],
   "source": [
    "# fill missing values with their nearest 'neighbour'\n",
    "twt_arc['expanded_urls'].fillna(method='ffill', inplace=True)"
   ]
  },
  {
   "cell_type": "markdown",
   "id": "281c8285",
   "metadata": {},
   "source": [
    "4. Change data types of (timestamp, retweeted_status_timestamp) to datetime. "
   ]
  },
  {
   "cell_type": "markdown",
   "id": "f72feae7",
   "metadata": {},
   "source": [
    "<i><b>note:</b>The 'retweeted_status_timestamp' column has been dropped previously as such only the data type of timestamp will be converted.</i>"
   ]
  },
  {
   "cell_type": "code",
   "execution_count": 41,
   "id": "1e434873",
   "metadata": {},
   "outputs": [],
   "source": [
    "# change data type to datetime\n",
    "twt_arc.timestamp=pd.to_datetime(twt_arc.timestamp)"
   ]
  },
  {
   "cell_type": "markdown",
   "id": "af601fbb",
   "metadata": {},
   "source": [
    "5. Round inconsistent exponential index to 18 in (retweeted_status_user_id, and in_reply_to_user_id) columns.\n",
    "\n",
    "6. Round extraneous decimal places to 18 in (in_reply_to_status_id, in_reply_to_user_id, retweeted_status_id, and retweeted_status_user_id) columns."
   ]
  },
  {
   "cell_type": "markdown",
   "id": "f7e63d48",
   "metadata": {},
   "source": [
    "This is because the 'tweet_id' column has 18 characters and I will like to maintain a consistent number of characters for all ID columns. \n",
    "This is not particularly necessary though."
   ]
  },
  {
   "cell_type": "markdown",
   "id": "f2eb0d1d",
   "metadata": {},
   "source": [
    "Check maximum characters for ID variables"
   ]
  },
  {
   "cell_type": "code",
   "execution_count": 42,
   "id": "eac7d6e5",
   "metadata": {},
   "outputs": [
    {
     "data": {
      "text/html": [
       "<div>\n",
       "<style scoped>\n",
       "    .dataframe tbody tr th:only-of-type {\n",
       "        vertical-align: middle;\n",
       "    }\n",
       "\n",
       "    .dataframe tbody tr th {\n",
       "        vertical-align: top;\n",
       "    }\n",
       "\n",
       "    .dataframe thead th {\n",
       "        text-align: right;\n",
       "    }\n",
       "</style>\n",
       "<table border=\"1\" class=\"dataframe\">\n",
       "  <thead>\n",
       "    <tr style=\"text-align: right;\">\n",
       "      <th></th>\n",
       "      <th>tweet_ID</th>\n",
       "      <th>reply_statusID</th>\n",
       "      <th>reply_userID</th>\n",
       "      <th>retweeted_statusID</th>\n",
       "      <th>retweeted_userID</th>\n",
       "      <th>rating_num</th>\n",
       "      <th>rating_den</th>\n",
       "    </tr>\n",
       "  </thead>\n",
       "  <tbody>\n",
       "    <tr>\n",
       "      <th>count</th>\n",
       "      <td>2.356000e+03</td>\n",
       "      <td>2.356000e+03</td>\n",
       "      <td>2.356000e+03</td>\n",
       "      <td>2.356000e+03</td>\n",
       "      <td>2.356000e+03</td>\n",
       "      <td>2356.000000</td>\n",
       "      <td>2356.000000</td>\n",
       "    </tr>\n",
       "    <tr>\n",
       "      <th>mean</th>\n",
       "      <td>7.427716e+17</td>\n",
       "      <td>2.468150e+16</td>\n",
       "      <td>6.668307e+14</td>\n",
       "      <td>5.931207e+16</td>\n",
       "      <td>9.539364e+14</td>\n",
       "      <td>13.126486</td>\n",
       "      <td>10.455433</td>\n",
       "    </tr>\n",
       "    <tr>\n",
       "      <th>std</th>\n",
       "      <td>6.856705e+16</td>\n",
       "      <td>1.341142e+17</td>\n",
       "      <td>2.293821e+16</td>\n",
       "      <td>2.063701e+17</td>\n",
       "      <td>2.674393e+16</td>\n",
       "      <td>45.876648</td>\n",
       "      <td>6.745237</td>\n",
       "    </tr>\n",
       "    <tr>\n",
       "      <th>min</th>\n",
       "      <td>6.660209e+17</td>\n",
       "      <td>0.000000e+00</td>\n",
       "      <td>0.000000e+00</td>\n",
       "      <td>0.000000e+00</td>\n",
       "      <td>0.000000e+00</td>\n",
       "      <td>0.000000</td>\n",
       "      <td>0.000000</td>\n",
       "    </tr>\n",
       "    <tr>\n",
       "      <th>25%</th>\n",
       "      <td>6.783989e+17</td>\n",
       "      <td>0.000000e+00</td>\n",
       "      <td>0.000000e+00</td>\n",
       "      <td>0.000000e+00</td>\n",
       "      <td>0.000000e+00</td>\n",
       "      <td>10.000000</td>\n",
       "      <td>10.000000</td>\n",
       "    </tr>\n",
       "    <tr>\n",
       "      <th>50%</th>\n",
       "      <td>7.196279e+17</td>\n",
       "      <td>0.000000e+00</td>\n",
       "      <td>0.000000e+00</td>\n",
       "      <td>0.000000e+00</td>\n",
       "      <td>0.000000e+00</td>\n",
       "      <td>11.000000</td>\n",
       "      <td>10.000000</td>\n",
       "    </tr>\n",
       "    <tr>\n",
       "      <th>75%</th>\n",
       "      <td>7.993373e+17</td>\n",
       "      <td>0.000000e+00</td>\n",
       "      <td>0.000000e+00</td>\n",
       "      <td>0.000000e+00</td>\n",
       "      <td>0.000000e+00</td>\n",
       "      <td>12.000000</td>\n",
       "      <td>10.000000</td>\n",
       "    </tr>\n",
       "    <tr>\n",
       "      <th>max</th>\n",
       "      <td>8.924206e+17</td>\n",
       "      <td>8.862664e+17</td>\n",
       "      <td>8.405479e+17</td>\n",
       "      <td>8.874740e+17</td>\n",
       "      <td>7.874618e+17</td>\n",
       "      <td>1776.000000</td>\n",
       "      <td>170.000000</td>\n",
       "    </tr>\n",
       "  </tbody>\n",
       "</table>\n",
       "</div>"
      ],
      "text/plain": [
       "           tweet_ID  reply_statusID  reply_userID  retweeted_statusID  \\\n",
       "count  2.356000e+03    2.356000e+03  2.356000e+03        2.356000e+03   \n",
       "mean   7.427716e+17    2.468150e+16  6.668307e+14        5.931207e+16   \n",
       "std    6.856705e+16    1.341142e+17  2.293821e+16        2.063701e+17   \n",
       "min    6.660209e+17    0.000000e+00  0.000000e+00        0.000000e+00   \n",
       "25%    6.783989e+17    0.000000e+00  0.000000e+00        0.000000e+00   \n",
       "50%    7.196279e+17    0.000000e+00  0.000000e+00        0.000000e+00   \n",
       "75%    7.993373e+17    0.000000e+00  0.000000e+00        0.000000e+00   \n",
       "max    8.924206e+17    8.862664e+17  8.405479e+17        8.874740e+17   \n",
       "\n",
       "       retweeted_userID   rating_num   rating_den  \n",
       "count      2.356000e+03  2356.000000  2356.000000  \n",
       "mean       9.539364e+14    13.126486    10.455433  \n",
       "std        2.674393e+16    45.876648     6.745237  \n",
       "min        0.000000e+00     0.000000     0.000000  \n",
       "25%        0.000000e+00    10.000000    10.000000  \n",
       "50%        0.000000e+00    11.000000    10.000000  \n",
       "75%        0.000000e+00    12.000000    10.000000  \n",
       "max        7.874618e+17  1776.000000   170.000000  "
      ]
     },
     "execution_count": 42,
     "metadata": {},
     "output_type": "execute_result"
    }
   ],
   "source": [
    "twt_arc.describe()"
   ]
  },
  {
   "cell_type": "code",
   "execution_count": 43,
   "id": "c8eb6960",
   "metadata": {},
   "outputs": [],
   "source": [
    "# function to truncate and covert values to integer for a series\n",
    "def trunc_value(series, t_number):\n",
    "    ''' \n",
    "    this function takes two arguments; a series and a number (n). \n",
    "    which it use to truncate an extraneous value and convert it to an integer data type.\n",
    "    Inplace.\n",
    "    '''\n",
    "    series = [np.trunc(10**t_number * i)/10**t_number for i in series]\n",
    "    series = [int(i) for i in series]\n",
    "    return series\n",
    "    \n",
    "twt_arc['reply_statusID'] = trunc_value(twt_arc['reply_statusID'], 17)\n",
    "twt_arc['reply_userID'] = trunc_value(twt_arc['reply_userID'], 17)\n",
    "twt_arc['retweeted_statusID'] = trunc_value(twt_arc['retweeted_statusID'], 17)\n",
    "twt_arc['retweeted_userID'] = trunc_value(twt_arc['retweeted_userID'], 17)\n",
    "\n",
    "    "
   ]
  },
  {
   "cell_type": "markdown",
   "id": "2abf0b6b",
   "metadata": {},
   "source": [
    "7. Convert all dog stages variables to one variable/column called dog_stage (doggo, floofer, pupper, and puppo are all dog stages)."
   ]
  },
  {
   "cell_type": "code",
   "execution_count": 44,
   "id": "44569abf",
   "metadata": {},
   "outputs": [],
   "source": [
    "# create default column for dog stage\n",
    "twt_arc['dog_stage'] = twt_arc['name']\n",
    "\n",
    "# function to assign dog stage from multiple columns\n",
    "def assign_val(stg1,stg2,stg3,stg4,r_val):\n",
    "    \n",
    "    # assign conditions\n",
    "    conditions = [\n",
    "        twt_arc.doggo.eq(stg1) \n",
    "        & twt_arc.floofer.eq(stg2) \n",
    "        & twt_arc.pupper.eq(stg3)\n",
    "        & twt_arc.puppo.eq(stg4)\n",
    "    ]\n",
    "    \n",
    "    # list out return values\n",
    "    return_values = [\n",
    "        str(r_val)\n",
    "    ]\n",
    "    \n",
    "    # assign values to column\n",
    "    twt_arc['dog_stage'] = np.select(conditions, return_values, default=twt_arc['dog_stage'])\n",
    "    \n",
    "assign_val('doggo','None','None','None','Doggo')\n",
    "assign_val('doggo','floofer','None','None','Indefinite')\n",
    "assign_val('doggo','None','pupper','None','Indefinite')\n",
    "assign_val('doggo','None','None','puppo','Indefinite')\n",
    "assign_val('None','floofer','None','None','Floofer')\n",
    "assign_val('None','floofer','pupper','None','Indefinite')\n",
    "assign_val('None','floofer','None','puppo','Indefinite')\n",
    "assign_val('None','None','pupper','None','Pupper')\n",
    "assign_val('none','None','pupper','puppo','Indefinite')\n",
    "assign_val('None','None','None','puppo','Puppo')\n",
    "assign_val('None','None','None','None','unclassified')\n"
   ]
  },
  {
   "cell_type": "markdown",
   "id": "9aac6b18",
   "metadata": {},
   "source": [
    "Drop individual dog stages"
   ]
  },
  {
   "cell_type": "code",
   "execution_count": 45,
   "id": "90615d40",
   "metadata": {},
   "outputs": [],
   "source": [
    "twt_arc.drop(['doggo','floofer','pupper','puppo'], axis=1, inplace=True)"
   ]
  },
  {
   "cell_type": "markdown",
   "id": "274870d5",
   "metadata": {},
   "source": [
    "8. Create separate tables for these observational units (retweeted_status_id, retweeted_status_user_id, in_reply_to_status_id, in_reply_to_user_id, tweet_id)."
   ]
  },
  {
   "cell_type": "markdown",
   "id": "39b75541",
   "metadata": {},
   "source": [
    "This may not be necessary at this time. Nevertheless, I will create sub-dataframes for each of these unique observational units"
   ]
  },
  {
   "cell_type": "code",
   "execution_count": 46,
   "id": "13617f9f",
   "metadata": {},
   "outputs": [],
   "source": [
    "# sub-df for 'in_reply_to_status_id'\n",
    "in_reply_to_status_id = twt_arc.iloc[:, np.r_[1,3,4,5,8,9,10,11,12]]\n",
    "\n",
    "# sub-df for 'in_reply_to_user_id'\n",
    "in_reply_to_user_id = twt_arc.iloc[:, np.r_[2,3,4,5,8,9,10,11,12]]\n",
    "\n",
    "# sub-df for 'retweeted_status_id'\n",
    "retweeted_status_id = twt_arc.iloc[:, np.r_[3,4,5,6,8,9,10,11,12]]\n",
    "\n",
    "# sub-df for 'retweeted_status_user_id'\n",
    "retweeted_status_user_id = twt_arc.iloc[:, np.r_[3,4,5,7,8,9,10,11,12]]"
   ]
  },
  {
   "cell_type": "markdown",
   "id": "a4382972",
   "metadata": {},
   "source": [
    "9. Create a single column for rating by dividing rating_denominator by rating_numerator."
   ]
  },
  {
   "cell_type": "code",
   "execution_count": 47,
   "id": "582ba7c0",
   "metadata": {},
   "outputs": [],
   "source": [
    "# create new rating column\n",
    "twt_arc['rating'] = twt_arc['rating_num']/twt_arc['rating_den']"
   ]
  },
  {
   "cell_type": "markdown",
   "id": "f31ce84d",
   "metadata": {},
   "source": [
    "<b>Test</b>"
   ]
  },
  {
   "cell_type": "markdown",
   "id": "523f8dba",
   "metadata": {},
   "source": [
    "1."
   ]
  },
  {
   "cell_type": "code",
   "execution_count": 48,
   "id": "b358d937",
   "metadata": {},
   "outputs": [
    {
     "data": {
      "text/html": [
       "<div>\n",
       "<style scoped>\n",
       "    .dataframe tbody tr th:only-of-type {\n",
       "        vertical-align: middle;\n",
       "    }\n",
       "\n",
       "    .dataframe tbody tr th {\n",
       "        vertical-align: top;\n",
       "    }\n",
       "\n",
       "    .dataframe thead th {\n",
       "        text-align: right;\n",
       "    }\n",
       "</style>\n",
       "<table border=\"1\" class=\"dataframe\">\n",
       "  <thead>\n",
       "    <tr style=\"text-align: right;\">\n",
       "      <th></th>\n",
       "      <th>tweet_ID</th>\n",
       "      <th>reply_statusID</th>\n",
       "      <th>reply_userID</th>\n",
       "      <th>timestamp</th>\n",
       "      <th>source</th>\n",
       "      <th>text</th>\n",
       "      <th>retweeted_statusID</th>\n",
       "      <th>retweeted_userID</th>\n",
       "      <th>expanded_urls</th>\n",
       "      <th>rating_num</th>\n",
       "      <th>rating_den</th>\n",
       "      <th>name</th>\n",
       "      <th>dog_stage</th>\n",
       "      <th>rating</th>\n",
       "    </tr>\n",
       "  </thead>\n",
       "  <tbody>\n",
       "    <tr>\n",
       "      <th>0</th>\n",
       "      <td>892420643555336193</td>\n",
       "      <td>0</td>\n",
       "      <td>0</td>\n",
       "      <td>2017-08-01 16:23:56+00:00</td>\n",
       "      <td>&lt;a href=\"http://twitter.com/download/iphone\" r...</td>\n",
       "      <td>This is Phineas. He's a mystical boy. Only eve...</td>\n",
       "      <td>0</td>\n",
       "      <td>0</td>\n",
       "      <td>https://twitter.com/dog_rates/status/892420643...</td>\n",
       "      <td>13</td>\n",
       "      <td>10</td>\n",
       "      <td>Phineas</td>\n",
       "      <td>unclassified</td>\n",
       "      <td>1.3</td>\n",
       "    </tr>\n",
       "    <tr>\n",
       "      <th>1</th>\n",
       "      <td>892177421306343426</td>\n",
       "      <td>0</td>\n",
       "      <td>0</td>\n",
       "      <td>2017-08-01 00:17:27+00:00</td>\n",
       "      <td>&lt;a href=\"http://twitter.com/download/iphone\" r...</td>\n",
       "      <td>This is Tilly. She's just checking pup on you....</td>\n",
       "      <td>0</td>\n",
       "      <td>0</td>\n",
       "      <td>https://twitter.com/dog_rates/status/892177421...</td>\n",
       "      <td>13</td>\n",
       "      <td>10</td>\n",
       "      <td>Tilly</td>\n",
       "      <td>unclassified</td>\n",
       "      <td>1.3</td>\n",
       "    </tr>\n",
       "  </tbody>\n",
       "</table>\n",
       "</div>"
      ],
      "text/plain": [
       "             tweet_ID  reply_statusID  reply_userID                 timestamp  \\\n",
       "0  892420643555336193               0             0 2017-08-01 16:23:56+00:00   \n",
       "1  892177421306343426               0             0 2017-08-01 00:17:27+00:00   \n",
       "\n",
       "                                              source  \\\n",
       "0  <a href=\"http://twitter.com/download/iphone\" r...   \n",
       "1  <a href=\"http://twitter.com/download/iphone\" r...   \n",
       "\n",
       "                                                text  retweeted_statusID  \\\n",
       "0  This is Phineas. He's a mystical boy. Only eve...                   0   \n",
       "1  This is Tilly. She's just checking pup on you....                   0   \n",
       "\n",
       "   retweeted_userID                                      expanded_urls  \\\n",
       "0                 0  https://twitter.com/dog_rates/status/892420643...   \n",
       "1                 0  https://twitter.com/dog_rates/status/892177421...   \n",
       "\n",
       "   rating_num  rating_den     name     dog_stage  rating  \n",
       "0          13          10  Phineas  unclassified     1.3  \n",
       "1          13          10    Tilly  unclassified     1.3  "
      ]
     },
     "execution_count": 48,
     "metadata": {},
     "output_type": "execute_result"
    }
   ],
   "source": [
    "# print first 2 rows\n",
    "twt_arc.head(2)"
   ]
  },
  {
   "cell_type": "markdown",
   "id": "56b5beb9",
   "metadata": {},
   "source": [
    "2."
   ]
  },
  {
   "cell_type": "code",
   "execution_count": 49,
   "id": "90806428",
   "metadata": {},
   "outputs": [
    {
     "data": {
      "text/html": [
       "<div>\n",
       "<style scoped>\n",
       "    .dataframe tbody tr th:only-of-type {\n",
       "        vertical-align: middle;\n",
       "    }\n",
       "\n",
       "    .dataframe tbody tr th {\n",
       "        vertical-align: top;\n",
       "    }\n",
       "\n",
       "    .dataframe thead th {\n",
       "        text-align: right;\n",
       "    }\n",
       "</style>\n",
       "<table border=\"1\" class=\"dataframe\">\n",
       "  <thead>\n",
       "    <tr style=\"text-align: right;\">\n",
       "      <th></th>\n",
       "      <th>tweet_ID</th>\n",
       "      <th>reply_statusID</th>\n",
       "      <th>reply_userID</th>\n",
       "      <th>timestamp</th>\n",
       "      <th>source</th>\n",
       "      <th>text</th>\n",
       "      <th>retweeted_statusID</th>\n",
       "      <th>retweeted_userID</th>\n",
       "      <th>expanded_urls</th>\n",
       "      <th>rating_num</th>\n",
       "      <th>rating_den</th>\n",
       "      <th>name</th>\n",
       "      <th>dog_stage</th>\n",
       "      <th>rating</th>\n",
       "    </tr>\n",
       "  </thead>\n",
       "  <tbody>\n",
       "    <tr>\n",
       "      <th>5</th>\n",
       "      <td>891087950875897856</td>\n",
       "      <td>0</td>\n",
       "      <td>0</td>\n",
       "      <td>2017-07-29 00:08:17+00:00</td>\n",
       "      <td>&lt;a href=\"http://twitter.com/download/iphone\" r...</td>\n",
       "      <td>Here we have a majestic great white breaching ...</td>\n",
       "      <td>0</td>\n",
       "      <td>0</td>\n",
       "      <td>https://twitter.com/dog_rates/status/891087950...</td>\n",
       "      <td>13</td>\n",
       "      <td>10</td>\n",
       "      <td>None</td>\n",
       "      <td>unclassified</td>\n",
       "      <td>1.3</td>\n",
       "    </tr>\n",
       "    <tr>\n",
       "      <th>7</th>\n",
       "      <td>890729181411237888</td>\n",
       "      <td>0</td>\n",
       "      <td>0</td>\n",
       "      <td>2017-07-28 00:22:40+00:00</td>\n",
       "      <td>&lt;a href=\"http://twitter.com/download/iphone\" r...</td>\n",
       "      <td>When you watch your owner call another dog a g...</td>\n",
       "      <td>0</td>\n",
       "      <td>0</td>\n",
       "      <td>https://twitter.com/dog_rates/status/890729181...</td>\n",
       "      <td>13</td>\n",
       "      <td>10</td>\n",
       "      <td>None</td>\n",
       "      <td>unclassified</td>\n",
       "      <td>1.3</td>\n",
       "    </tr>\n",
       "  </tbody>\n",
       "</table>\n",
       "</div>"
      ],
      "text/plain": [
       "             tweet_ID  reply_statusID  reply_userID                 timestamp  \\\n",
       "5  891087950875897856               0             0 2017-07-29 00:08:17+00:00   \n",
       "7  890729181411237888               0             0 2017-07-28 00:22:40+00:00   \n",
       "\n",
       "                                              source  \\\n",
       "5  <a href=\"http://twitter.com/download/iphone\" r...   \n",
       "7  <a href=\"http://twitter.com/download/iphone\" r...   \n",
       "\n",
       "                                                text  retweeted_statusID  \\\n",
       "5  Here we have a majestic great white breaching ...                   0   \n",
       "7  When you watch your owner call another dog a g...                   0   \n",
       "\n",
       "   retweeted_userID                                      expanded_urls  \\\n",
       "5                 0  https://twitter.com/dog_rates/status/891087950...   \n",
       "7                 0  https://twitter.com/dog_rates/status/890729181...   \n",
       "\n",
       "   rating_num  rating_den  name     dog_stage  rating  \n",
       "5          13          10  None  unclassified     1.3  \n",
       "7          13          10  None  unclassified     1.3  "
      ]
     },
     "execution_count": 49,
     "metadata": {},
     "output_type": "execute_result"
    }
   ],
   "source": [
    "twt_arc.name.unique()\n",
    "\n",
    "twt_arc[twt_arc.name == 'None'].head(2)"
   ]
  },
  {
   "cell_type": "markdown",
   "id": "a0eca223",
   "metadata": {},
   "source": [
    "3."
   ]
  },
  {
   "cell_type": "code",
   "execution_count": 50,
   "id": "fef93bba",
   "metadata": {},
   "outputs": [
    {
     "name": "stdout",
     "output_type": "stream",
     "text": [
      "<class 'pandas.core.frame.DataFrame'>\n",
      "RangeIndex: 2356 entries, 0 to 2355\n",
      "Data columns (total 14 columns):\n",
      " #   Column              Non-Null Count  Dtype              \n",
      "---  ------              --------------  -----              \n",
      " 0   tweet_ID            2356 non-null   int64              \n",
      " 1   reply_statusID      2356 non-null   int64              \n",
      " 2   reply_userID        2356 non-null   int64              \n",
      " 3   timestamp           2356 non-null   datetime64[ns, UTC]\n",
      " 4   source              2356 non-null   object             \n",
      " 5   text                2356 non-null   object             \n",
      " 6   retweeted_statusID  2356 non-null   int64              \n",
      " 7   retweeted_userID    2356 non-null   int64              \n",
      " 8   expanded_urls       2356 non-null   object             \n",
      " 9   rating_num          2356 non-null   int64              \n",
      " 10  rating_den          2356 non-null   int64              \n",
      " 11  name                2356 non-null   object             \n",
      " 12  dog_stage           2356 non-null   object             \n",
      " 13  rating              2356 non-null   float64            \n",
      "dtypes: datetime64[ns, UTC](1), float64(1), int64(7), object(5)\n",
      "memory usage: 257.8+ KB\n"
     ]
    }
   ],
   "source": [
    "# confirm replacement of missing values\n",
    "twt_arc.info()"
   ]
  },
  {
   "cell_type": "markdown",
   "id": "38c4c42d",
   "metadata": {},
   "source": [
    "4."
   ]
  },
  {
   "cell_type": "code",
   "execution_count": 51,
   "id": "1e406142",
   "metadata": {},
   "outputs": [
    {
     "data": {
      "text/plain": [
       "tweet_ID                            int64\n",
       "reply_statusID                      int64\n",
       "reply_userID                        int64\n",
       "timestamp             datetime64[ns, UTC]\n",
       "source                             object\n",
       "text                               object\n",
       "retweeted_statusID                  int64\n",
       "retweeted_userID                    int64\n",
       "expanded_urls                      object\n",
       "rating_num                          int64\n",
       "rating_den                          int64\n",
       "name                               object\n",
       "dog_stage                          object\n",
       "rating                            float64\n",
       "dtype: object"
      ]
     },
     "execution_count": 51,
     "metadata": {},
     "output_type": "execute_result"
    }
   ],
   "source": [
    "# check data type for 'timestamp' column\n",
    "twt_arc.dtypes"
   ]
  },
  {
   "cell_type": "markdown",
   "id": "d4ee9b68",
   "metadata": {},
   "source": [
    "5 & 6"
   ]
  },
  {
   "cell_type": "code",
   "execution_count": 52,
   "id": "1c4d11e7",
   "metadata": {},
   "outputs": [
    {
     "data": {
      "text/html": [
       "<div>\n",
       "<style scoped>\n",
       "    .dataframe tbody tr th:only-of-type {\n",
       "        vertical-align: middle;\n",
       "    }\n",
       "\n",
       "    .dataframe tbody tr th {\n",
       "        vertical-align: top;\n",
       "    }\n",
       "\n",
       "    .dataframe thead th {\n",
       "        text-align: right;\n",
       "    }\n",
       "</style>\n",
       "<table border=\"1\" class=\"dataframe\">\n",
       "  <thead>\n",
       "    <tr style=\"text-align: right;\">\n",
       "      <th></th>\n",
       "      <th>tweet_ID</th>\n",
       "      <th>reply_statusID</th>\n",
       "      <th>reply_userID</th>\n",
       "      <th>timestamp</th>\n",
       "      <th>source</th>\n",
       "      <th>text</th>\n",
       "      <th>retweeted_statusID</th>\n",
       "      <th>retweeted_userID</th>\n",
       "      <th>expanded_urls</th>\n",
       "      <th>rating_num</th>\n",
       "      <th>rating_den</th>\n",
       "      <th>name</th>\n",
       "      <th>dog_stage</th>\n",
       "      <th>rating</th>\n",
       "    </tr>\n",
       "  </thead>\n",
       "  <tbody>\n",
       "    <tr>\n",
       "      <th>19</th>\n",
       "      <td>888202515573088257</td>\n",
       "      <td>0</td>\n",
       "      <td>0</td>\n",
       "      <td>2017-07-21 01:02:36+00:00</td>\n",
       "      <td>&lt;a href=\"http://twitter.com/download/iphone\" r...</td>\n",
       "      <td>RT @dog_rates: This is Canela. She attempted s...</td>\n",
       "      <td>887473957103951872</td>\n",
       "      <td>4196983835</td>\n",
       "      <td>https://twitter.com/dog_rates/status/887473957...</td>\n",
       "      <td>13</td>\n",
       "      <td>10</td>\n",
       "      <td>Canela</td>\n",
       "      <td>unclassified</td>\n",
       "      <td>1.3</td>\n",
       "    </tr>\n",
       "    <tr>\n",
       "      <th>32</th>\n",
       "      <td>886054160059072513</td>\n",
       "      <td>0</td>\n",
       "      <td>0</td>\n",
       "      <td>2017-07-15 02:45:48+00:00</td>\n",
       "      <td>&lt;a href=\"http://twitter.com/download/iphone\" r...</td>\n",
       "      <td>RT @Athletics: 12/10 #BATP https://t.co/WxwJmv...</td>\n",
       "      <td>886053734421102592</td>\n",
       "      <td>19607400</td>\n",
       "      <td>https://twitter.com/dog_rates/status/886053434...</td>\n",
       "      <td>12</td>\n",
       "      <td>10</td>\n",
       "      <td>None</td>\n",
       "      <td>unclassified</td>\n",
       "      <td>1.2</td>\n",
       "    </tr>\n",
       "    <tr>\n",
       "      <th>36</th>\n",
       "      <td>885311592912609280</td>\n",
       "      <td>0</td>\n",
       "      <td>0</td>\n",
       "      <td>2017-07-13 01:35:06+00:00</td>\n",
       "      <td>&lt;a href=\"http://twitter.com/download/iphone\" r...</td>\n",
       "      <td>RT @dog_rates: This is Lilly. She just paralle...</td>\n",
       "      <td>830583320585068544</td>\n",
       "      <td>4196983835</td>\n",
       "      <td>https://twitter.com/dog_rates/status/830583320...</td>\n",
       "      <td>13</td>\n",
       "      <td>10</td>\n",
       "      <td>Lilly</td>\n",
       "      <td>unclassified</td>\n",
       "      <td>1.3</td>\n",
       "    </tr>\n",
       "    <tr>\n",
       "      <th>68</th>\n",
       "      <td>879130579576475649</td>\n",
       "      <td>0</td>\n",
       "      <td>0</td>\n",
       "      <td>2017-06-26 00:13:58+00:00</td>\n",
       "      <td>&lt;a href=\"http://twitter.com/download/iphone\" r...</td>\n",
       "      <td>RT @dog_rates: This is Emmy. She was adopted t...</td>\n",
       "      <td>878057613040115712</td>\n",
       "      <td>4196983835</td>\n",
       "      <td>https://twitter.com/dog_rates/status/878057613...</td>\n",
       "      <td>14</td>\n",
       "      <td>10</td>\n",
       "      <td>Emmy</td>\n",
       "      <td>unclassified</td>\n",
       "      <td>1.4</td>\n",
       "    </tr>\n",
       "    <tr>\n",
       "      <th>73</th>\n",
       "      <td>878404777348136964</td>\n",
       "      <td>0</td>\n",
       "      <td>0</td>\n",
       "      <td>2017-06-24 00:09:53+00:00</td>\n",
       "      <td>&lt;a href=\"http://twitter.com/download/iphone\" r...</td>\n",
       "      <td>RT @dog_rates: Meet Shadow. In an attempt to r...</td>\n",
       "      <td>878281511006478208</td>\n",
       "      <td>4196983835</td>\n",
       "      <td>https://www.gofundme.com/3yd6y1c,https://twitt...</td>\n",
       "      <td>13</td>\n",
       "      <td>10</td>\n",
       "      <td>Shadow</td>\n",
       "      <td>unclassified</td>\n",
       "      <td>1.3</td>\n",
       "    </tr>\n",
       "  </tbody>\n",
       "</table>\n",
       "</div>"
      ],
      "text/plain": [
       "              tweet_ID  reply_statusID  reply_userID  \\\n",
       "19  888202515573088257               0             0   \n",
       "32  886054160059072513               0             0   \n",
       "36  885311592912609280               0             0   \n",
       "68  879130579576475649               0             0   \n",
       "73  878404777348136964               0             0   \n",
       "\n",
       "                   timestamp  \\\n",
       "19 2017-07-21 01:02:36+00:00   \n",
       "32 2017-07-15 02:45:48+00:00   \n",
       "36 2017-07-13 01:35:06+00:00   \n",
       "68 2017-06-26 00:13:58+00:00   \n",
       "73 2017-06-24 00:09:53+00:00   \n",
       "\n",
       "                                               source  \\\n",
       "19  <a href=\"http://twitter.com/download/iphone\" r...   \n",
       "32  <a href=\"http://twitter.com/download/iphone\" r...   \n",
       "36  <a href=\"http://twitter.com/download/iphone\" r...   \n",
       "68  <a href=\"http://twitter.com/download/iphone\" r...   \n",
       "73  <a href=\"http://twitter.com/download/iphone\" r...   \n",
       "\n",
       "                                                 text  retweeted_statusID  \\\n",
       "19  RT @dog_rates: This is Canela. She attempted s...  887473957103951872   \n",
       "32  RT @Athletics: 12/10 #BATP https://t.co/WxwJmv...  886053734421102592   \n",
       "36  RT @dog_rates: This is Lilly. She just paralle...  830583320585068544   \n",
       "68  RT @dog_rates: This is Emmy. She was adopted t...  878057613040115712   \n",
       "73  RT @dog_rates: Meet Shadow. In an attempt to r...  878281511006478208   \n",
       "\n",
       "    retweeted_userID                                      expanded_urls  \\\n",
       "19        4196983835  https://twitter.com/dog_rates/status/887473957...   \n",
       "32          19607400  https://twitter.com/dog_rates/status/886053434...   \n",
       "36        4196983835  https://twitter.com/dog_rates/status/830583320...   \n",
       "68        4196983835  https://twitter.com/dog_rates/status/878057613...   \n",
       "73        4196983835  https://www.gofundme.com/3yd6y1c,https://twitt...   \n",
       "\n",
       "    rating_num  rating_den    name     dog_stage  rating  \n",
       "19          13          10  Canela  unclassified     1.3  \n",
       "32          12          10    None  unclassified     1.2  \n",
       "36          13          10   Lilly  unclassified     1.3  \n",
       "68          14          10    Emmy  unclassified     1.4  \n",
       "73          13          10  Shadow  unclassified     1.3  "
      ]
     },
     "metadata": {},
     "output_type": "display_data"
    },
    {
     "data": {
      "text/html": [
       "<div>\n",
       "<style scoped>\n",
       "    .dataframe tbody tr th:only-of-type {\n",
       "        vertical-align: middle;\n",
       "    }\n",
       "\n",
       "    .dataframe tbody tr th {\n",
       "        vertical-align: top;\n",
       "    }\n",
       "\n",
       "    .dataframe thead th {\n",
       "        text-align: right;\n",
       "    }\n",
       "</style>\n",
       "<table border=\"1\" class=\"dataframe\">\n",
       "  <thead>\n",
       "    <tr style=\"text-align: right;\">\n",
       "      <th></th>\n",
       "      <th>tweet_ID</th>\n",
       "      <th>reply_statusID</th>\n",
       "      <th>reply_userID</th>\n",
       "      <th>timestamp</th>\n",
       "      <th>source</th>\n",
       "      <th>text</th>\n",
       "      <th>retweeted_statusID</th>\n",
       "      <th>retweeted_userID</th>\n",
       "      <th>expanded_urls</th>\n",
       "      <th>rating_num</th>\n",
       "      <th>rating_den</th>\n",
       "      <th>name</th>\n",
       "      <th>dog_stage</th>\n",
       "      <th>rating</th>\n",
       "    </tr>\n",
       "  </thead>\n",
       "  <tbody>\n",
       "    <tr>\n",
       "      <th>19</th>\n",
       "      <td>888202515573088257</td>\n",
       "      <td>0</td>\n",
       "      <td>0</td>\n",
       "      <td>2017-07-21 01:02:36+00:00</td>\n",
       "      <td>&lt;a href=\"http://twitter.com/download/iphone\" r...</td>\n",
       "      <td>RT @dog_rates: This is Canela. She attempted s...</td>\n",
       "      <td>887473957103951872</td>\n",
       "      <td>4196983835</td>\n",
       "      <td>https://twitter.com/dog_rates/status/887473957...</td>\n",
       "      <td>13</td>\n",
       "      <td>10</td>\n",
       "      <td>Canela</td>\n",
       "      <td>unclassified</td>\n",
       "      <td>1.3</td>\n",
       "    </tr>\n",
       "    <tr>\n",
       "      <th>30</th>\n",
       "      <td>886267009285017600</td>\n",
       "      <td>886266357075128320</td>\n",
       "      <td>2281181600</td>\n",
       "      <td>2017-07-15 16:51:35+00:00</td>\n",
       "      <td>&lt;a href=\"http://twitter.com/download/iphone\" r...</td>\n",
       "      <td>@NonWhiteHat @MayhewMayhem omg hello tanner yo...</td>\n",
       "      <td>0</td>\n",
       "      <td>0</td>\n",
       "      <td>https://twitter.com/dog_rates/status/886366144...</td>\n",
       "      <td>12</td>\n",
       "      <td>10</td>\n",
       "      <td>None</td>\n",
       "      <td>unclassified</td>\n",
       "      <td>1.2</td>\n",
       "    </tr>\n",
       "    <tr>\n",
       "      <th>32</th>\n",
       "      <td>886054160059072513</td>\n",
       "      <td>0</td>\n",
       "      <td>0</td>\n",
       "      <td>2017-07-15 02:45:48+00:00</td>\n",
       "      <td>&lt;a href=\"http://twitter.com/download/iphone\" r...</td>\n",
       "      <td>RT @Athletics: 12/10 #BATP https://t.co/WxwJmv...</td>\n",
       "      <td>886053734421102592</td>\n",
       "      <td>19607400</td>\n",
       "      <td>https://twitter.com/dog_rates/status/886053434...</td>\n",
       "      <td>12</td>\n",
       "      <td>10</td>\n",
       "      <td>None</td>\n",
       "      <td>unclassified</td>\n",
       "      <td>1.2</td>\n",
       "    </tr>\n",
       "    <tr>\n",
       "      <th>36</th>\n",
       "      <td>885311592912609280</td>\n",
       "      <td>0</td>\n",
       "      <td>0</td>\n",
       "      <td>2017-07-13 01:35:06+00:00</td>\n",
       "      <td>&lt;a href=\"http://twitter.com/download/iphone\" r...</td>\n",
       "      <td>RT @dog_rates: This is Lilly. She just paralle...</td>\n",
       "      <td>830583320585068544</td>\n",
       "      <td>4196983835</td>\n",
       "      <td>https://twitter.com/dog_rates/status/830583320...</td>\n",
       "      <td>13</td>\n",
       "      <td>10</td>\n",
       "      <td>Lilly</td>\n",
       "      <td>unclassified</td>\n",
       "      <td>1.3</td>\n",
       "    </tr>\n",
       "  </tbody>\n",
       "</table>\n",
       "</div>"
      ],
      "text/plain": [
       "              tweet_ID      reply_statusID  reply_userID  \\\n",
       "19  888202515573088257                   0             0   \n",
       "30  886267009285017600  886266357075128320    2281181600   \n",
       "32  886054160059072513                   0             0   \n",
       "36  885311592912609280                   0             0   \n",
       "\n",
       "                   timestamp  \\\n",
       "19 2017-07-21 01:02:36+00:00   \n",
       "30 2017-07-15 16:51:35+00:00   \n",
       "32 2017-07-15 02:45:48+00:00   \n",
       "36 2017-07-13 01:35:06+00:00   \n",
       "\n",
       "                                               source  \\\n",
       "19  <a href=\"http://twitter.com/download/iphone\" r...   \n",
       "30  <a href=\"http://twitter.com/download/iphone\" r...   \n",
       "32  <a href=\"http://twitter.com/download/iphone\" r...   \n",
       "36  <a href=\"http://twitter.com/download/iphone\" r...   \n",
       "\n",
       "                                                 text  retweeted_statusID  \\\n",
       "19  RT @dog_rates: This is Canela. She attempted s...  887473957103951872   \n",
       "30  @NonWhiteHat @MayhewMayhem omg hello tanner yo...                   0   \n",
       "32  RT @Athletics: 12/10 #BATP https://t.co/WxwJmv...  886053734421102592   \n",
       "36  RT @dog_rates: This is Lilly. She just paralle...  830583320585068544   \n",
       "\n",
       "    retweeted_userID                                      expanded_urls  \\\n",
       "19        4196983835  https://twitter.com/dog_rates/status/887473957...   \n",
       "30                 0  https://twitter.com/dog_rates/status/886366144...   \n",
       "32          19607400  https://twitter.com/dog_rates/status/886053434...   \n",
       "36        4196983835  https://twitter.com/dog_rates/status/830583320...   \n",
       "\n",
       "    rating_num  rating_den    name     dog_stage  rating  \n",
       "19          13          10  Canela  unclassified     1.3  \n",
       "30          12          10    None  unclassified     1.2  \n",
       "32          12          10    None  unclassified     1.2  \n",
       "36          13          10   Lilly  unclassified     1.3  "
      ]
     },
     "metadata": {},
     "output_type": "display_data"
    },
    {
     "data": {
      "text/html": [
       "<div>\n",
       "<style scoped>\n",
       "    .dataframe tbody tr th:only-of-type {\n",
       "        vertical-align: middle;\n",
       "    }\n",
       "\n",
       "    .dataframe tbody tr th {\n",
       "        vertical-align: top;\n",
       "    }\n",
       "\n",
       "    .dataframe thead th {\n",
       "        text-align: right;\n",
       "    }\n",
       "</style>\n",
       "<table border=\"1\" class=\"dataframe\">\n",
       "  <thead>\n",
       "    <tr style=\"text-align: right;\">\n",
       "      <th></th>\n",
       "      <th>tweet_ID</th>\n",
       "      <th>reply_statusID</th>\n",
       "      <th>reply_userID</th>\n",
       "      <th>timestamp</th>\n",
       "      <th>source</th>\n",
       "      <th>text</th>\n",
       "      <th>retweeted_statusID</th>\n",
       "      <th>retweeted_userID</th>\n",
       "      <th>expanded_urls</th>\n",
       "      <th>rating_num</th>\n",
       "      <th>rating_den</th>\n",
       "      <th>name</th>\n",
       "      <th>dog_stage</th>\n",
       "      <th>rating</th>\n",
       "    </tr>\n",
       "  </thead>\n",
       "  <tbody>\n",
       "    <tr>\n",
       "      <th>30</th>\n",
       "      <td>886267009285017600</td>\n",
       "      <td>886266357075128320</td>\n",
       "      <td>2281181600</td>\n",
       "      <td>2017-07-15 16:51:35+00:00</td>\n",
       "      <td>&lt;a href=\"http://twitter.com/download/iphone\" r...</td>\n",
       "      <td>@NonWhiteHat @MayhewMayhem omg hello tanner yo...</td>\n",
       "      <td>0</td>\n",
       "      <td>0</td>\n",
       "      <td>https://twitter.com/dog_rates/status/886366144...</td>\n",
       "      <td>12</td>\n",
       "      <td>10</td>\n",
       "      <td>None</td>\n",
       "      <td>unclassified</td>\n",
       "      <td>1.2</td>\n",
       "    </tr>\n",
       "    <tr>\n",
       "      <th>55</th>\n",
       "      <td>881633300179243008</td>\n",
       "      <td>881607037314052096</td>\n",
       "      <td>47384430</td>\n",
       "      <td>2017-07-02 21:58:53+00:00</td>\n",
       "      <td>&lt;a href=\"http://twitter.com/download/iphone\" r...</td>\n",
       "      <td>@roushfenway These are good dogs but 17/10 is ...</td>\n",
       "      <td>0</td>\n",
       "      <td>0</td>\n",
       "      <td>https://twitter.com/dog_rates/status/881666595...</td>\n",
       "      <td>17</td>\n",
       "      <td>10</td>\n",
       "      <td>None</td>\n",
       "      <td>unclassified</td>\n",
       "      <td>1.7</td>\n",
       "    </tr>\n",
       "    <tr>\n",
       "      <th>64</th>\n",
       "      <td>879674319642796034</td>\n",
       "      <td>879553827334172672</td>\n",
       "      <td>3105440746</td>\n",
       "      <td>2017-06-27 12:14:36+00:00</td>\n",
       "      <td>&lt;a href=\"http://twitter.com/download/iphone\" r...</td>\n",
       "      <td>@RealKentMurphy 14/10 confirmed</td>\n",
       "      <td>0</td>\n",
       "      <td>0</td>\n",
       "      <td>https://twitter.com/dog_rates/status/879862464...</td>\n",
       "      <td>14</td>\n",
       "      <td>10</td>\n",
       "      <td>None</td>\n",
       "      <td>unclassified</td>\n",
       "      <td>1.4</td>\n",
       "    </tr>\n",
       "  </tbody>\n",
       "</table>\n",
       "</div>"
      ],
      "text/plain": [
       "              tweet_ID      reply_statusID  reply_userID  \\\n",
       "30  886267009285017600  886266357075128320    2281181600   \n",
       "55  881633300179243008  881607037314052096      47384430   \n",
       "64  879674319642796034  879553827334172672    3105440746   \n",
       "\n",
       "                   timestamp  \\\n",
       "30 2017-07-15 16:51:35+00:00   \n",
       "55 2017-07-02 21:58:53+00:00   \n",
       "64 2017-06-27 12:14:36+00:00   \n",
       "\n",
       "                                               source  \\\n",
       "30  <a href=\"http://twitter.com/download/iphone\" r...   \n",
       "55  <a href=\"http://twitter.com/download/iphone\" r...   \n",
       "64  <a href=\"http://twitter.com/download/iphone\" r...   \n",
       "\n",
       "                                                 text  retweeted_statusID  \\\n",
       "30  @NonWhiteHat @MayhewMayhem omg hello tanner yo...                   0   \n",
       "55  @roushfenway These are good dogs but 17/10 is ...                   0   \n",
       "64                    @RealKentMurphy 14/10 confirmed                   0   \n",
       "\n",
       "    retweeted_userID                                      expanded_urls  \\\n",
       "30                 0  https://twitter.com/dog_rates/status/886366144...   \n",
       "55                 0  https://twitter.com/dog_rates/status/881666595...   \n",
       "64                 0  https://twitter.com/dog_rates/status/879862464...   \n",
       "\n",
       "    rating_num  rating_den  name     dog_stage  rating  \n",
       "30          12          10  None  unclassified     1.2  \n",
       "55          17          10  None  unclassified     1.7  \n",
       "64          14          10  None  unclassified     1.4  "
      ]
     },
     "metadata": {},
     "output_type": "display_data"
    }
   ],
   "source": [
    "# check for 'retweeted_statusID' column\n",
    "display(twt_arc[twt_arc['retweeted_statusID'] != 0].head(5))\n",
    "\n",
    "# check for all columns concerned\n",
    "display(twt_arc[(twt_arc['reply_statusID'] != 0) | \n",
    "                (twt_arc['retweeted_statusID'] != 0)].head(4))\n",
    "\n",
    "# check for 'reply_statusID'\n",
    "display(twt_arc[twt_arc['reply_statusID'] != 0].head(3))"
   ]
  },
  {
   "cell_type": "markdown",
   "id": "257aea4f",
   "metadata": {},
   "source": [
    "7."
   ]
  },
  {
   "cell_type": "code",
   "execution_count": 53,
   "id": "016647bd",
   "metadata": {},
   "outputs": [
    {
     "data": {
      "text/plain": [
       "array(['unclassified', 'Doggo', 'Puppo', 'Pupper', 'Floofer',\n",
       "       'Indefinite'], dtype=object)"
      ]
     },
     "metadata": {},
     "output_type": "display_data"
    },
    {
     "data": {
      "text/plain": [
       "unclassified    1976\n",
       "Pupper           245\n",
       "Doggo             83\n",
       "Puppo             29\n",
       "Indefinite        14\n",
       "Floofer            9\n",
       "Name: dog_stage, dtype: int64"
      ]
     },
     "metadata": {},
     "output_type": "display_data"
    }
   ],
   "source": [
    "# check unique values\n",
    "display(twt_arc['dog_stage'].unique())\n",
    "\n",
    "#  check value counts\n",
    "display(twt_arc['dog_stage'].value_counts())"
   ]
  },
  {
   "cell_type": "markdown",
   "id": "3df2aa5b",
   "metadata": {},
   "source": [
    "8."
   ]
  },
  {
   "cell_type": "markdown",
   "id": "57357876",
   "metadata": {},
   "source": [
    "<i>This can further be re-arranged but that will not be necessary for now.</i>"
   ]
  },
  {
   "cell_type": "code",
   "execution_count": 54,
   "id": "bfb0a081",
   "metadata": {},
   "outputs": [
    {
     "data": {
      "text/html": [
       "<div>\n",
       "<style scoped>\n",
       "    .dataframe tbody tr th:only-of-type {\n",
       "        vertical-align: middle;\n",
       "    }\n",
       "\n",
       "    .dataframe tbody tr th {\n",
       "        vertical-align: top;\n",
       "    }\n",
       "\n",
       "    .dataframe thead th {\n",
       "        text-align: right;\n",
       "    }\n",
       "</style>\n",
       "<table border=\"1\" class=\"dataframe\">\n",
       "  <thead>\n",
       "    <tr style=\"text-align: right;\">\n",
       "      <th></th>\n",
       "      <th>reply_statusID</th>\n",
       "      <th>timestamp</th>\n",
       "      <th>source</th>\n",
       "      <th>text</th>\n",
       "      <th>expanded_urls</th>\n",
       "      <th>rating_num</th>\n",
       "      <th>rating_den</th>\n",
       "      <th>name</th>\n",
       "      <th>dog_stage</th>\n",
       "    </tr>\n",
       "  </thead>\n",
       "  <tbody>\n",
       "    <tr>\n",
       "      <th>0</th>\n",
       "      <td>0</td>\n",
       "      <td>2017-08-01 16:23:56+00:00</td>\n",
       "      <td>&lt;a href=\"http://twitter.com/download/iphone\" r...</td>\n",
       "      <td>This is Phineas. He's a mystical boy. Only eve...</td>\n",
       "      <td>https://twitter.com/dog_rates/status/892420643...</td>\n",
       "      <td>13</td>\n",
       "      <td>10</td>\n",
       "      <td>Phineas</td>\n",
       "      <td>unclassified</td>\n",
       "    </tr>\n",
       "  </tbody>\n",
       "</table>\n",
       "</div>"
      ],
      "text/plain": [
       "   reply_statusID                 timestamp  \\\n",
       "0               0 2017-08-01 16:23:56+00:00   \n",
       "\n",
       "                                              source  \\\n",
       "0  <a href=\"http://twitter.com/download/iphone\" r...   \n",
       "\n",
       "                                                text  \\\n",
       "0  This is Phineas. He's a mystical boy. Only eve...   \n",
       "\n",
       "                                       expanded_urls  rating_num  rating_den  \\\n",
       "0  https://twitter.com/dog_rates/status/892420643...          13          10   \n",
       "\n",
       "      name     dog_stage  \n",
       "0  Phineas  unclassified  "
      ]
     },
     "metadata": {},
     "output_type": "display_data"
    },
    {
     "data": {
      "text/html": [
       "<div>\n",
       "<style scoped>\n",
       "    .dataframe tbody tr th:only-of-type {\n",
       "        vertical-align: middle;\n",
       "    }\n",
       "\n",
       "    .dataframe tbody tr th {\n",
       "        vertical-align: top;\n",
       "    }\n",
       "\n",
       "    .dataframe thead th {\n",
       "        text-align: right;\n",
       "    }\n",
       "</style>\n",
       "<table border=\"1\" class=\"dataframe\">\n",
       "  <thead>\n",
       "    <tr style=\"text-align: right;\">\n",
       "      <th></th>\n",
       "      <th>reply_userID</th>\n",
       "      <th>timestamp</th>\n",
       "      <th>source</th>\n",
       "      <th>text</th>\n",
       "      <th>expanded_urls</th>\n",
       "      <th>rating_num</th>\n",
       "      <th>rating_den</th>\n",
       "      <th>name</th>\n",
       "      <th>dog_stage</th>\n",
       "    </tr>\n",
       "  </thead>\n",
       "  <tbody>\n",
       "    <tr>\n",
       "      <th>0</th>\n",
       "      <td>0</td>\n",
       "      <td>2017-08-01 16:23:56+00:00</td>\n",
       "      <td>&lt;a href=\"http://twitter.com/download/iphone\" r...</td>\n",
       "      <td>This is Phineas. He's a mystical boy. Only eve...</td>\n",
       "      <td>https://twitter.com/dog_rates/status/892420643...</td>\n",
       "      <td>13</td>\n",
       "      <td>10</td>\n",
       "      <td>Phineas</td>\n",
       "      <td>unclassified</td>\n",
       "    </tr>\n",
       "  </tbody>\n",
       "</table>\n",
       "</div>"
      ],
      "text/plain": [
       "   reply_userID                 timestamp  \\\n",
       "0             0 2017-08-01 16:23:56+00:00   \n",
       "\n",
       "                                              source  \\\n",
       "0  <a href=\"http://twitter.com/download/iphone\" r...   \n",
       "\n",
       "                                                text  \\\n",
       "0  This is Phineas. He's a mystical boy. Only eve...   \n",
       "\n",
       "                                       expanded_urls  rating_num  rating_den  \\\n",
       "0  https://twitter.com/dog_rates/status/892420643...          13          10   \n",
       "\n",
       "      name     dog_stage  \n",
       "0  Phineas  unclassified  "
      ]
     },
     "metadata": {},
     "output_type": "display_data"
    },
    {
     "data": {
      "text/html": [
       "<div>\n",
       "<style scoped>\n",
       "    .dataframe tbody tr th:only-of-type {\n",
       "        vertical-align: middle;\n",
       "    }\n",
       "\n",
       "    .dataframe tbody tr th {\n",
       "        vertical-align: top;\n",
       "    }\n",
       "\n",
       "    .dataframe thead th {\n",
       "        text-align: right;\n",
       "    }\n",
       "</style>\n",
       "<table border=\"1\" class=\"dataframe\">\n",
       "  <thead>\n",
       "    <tr style=\"text-align: right;\">\n",
       "      <th></th>\n",
       "      <th>timestamp</th>\n",
       "      <th>source</th>\n",
       "      <th>text</th>\n",
       "      <th>retweeted_statusID</th>\n",
       "      <th>expanded_urls</th>\n",
       "      <th>rating_num</th>\n",
       "      <th>rating_den</th>\n",
       "      <th>name</th>\n",
       "      <th>dog_stage</th>\n",
       "    </tr>\n",
       "  </thead>\n",
       "  <tbody>\n",
       "    <tr>\n",
       "      <th>0</th>\n",
       "      <td>2017-08-01 16:23:56+00:00</td>\n",
       "      <td>&lt;a href=\"http://twitter.com/download/iphone\" r...</td>\n",
       "      <td>This is Phineas. He's a mystical boy. Only eve...</td>\n",
       "      <td>0</td>\n",
       "      <td>https://twitter.com/dog_rates/status/892420643...</td>\n",
       "      <td>13</td>\n",
       "      <td>10</td>\n",
       "      <td>Phineas</td>\n",
       "      <td>unclassified</td>\n",
       "    </tr>\n",
       "  </tbody>\n",
       "</table>\n",
       "</div>"
      ],
      "text/plain": [
       "                  timestamp  \\\n",
       "0 2017-08-01 16:23:56+00:00   \n",
       "\n",
       "                                              source  \\\n",
       "0  <a href=\"http://twitter.com/download/iphone\" r...   \n",
       "\n",
       "                                                text  retweeted_statusID  \\\n",
       "0  This is Phineas. He's a mystical boy. Only eve...                   0   \n",
       "\n",
       "                                       expanded_urls  rating_num  rating_den  \\\n",
       "0  https://twitter.com/dog_rates/status/892420643...          13          10   \n",
       "\n",
       "      name     dog_stage  \n",
       "0  Phineas  unclassified  "
      ]
     },
     "metadata": {},
     "output_type": "display_data"
    },
    {
     "data": {
      "text/html": [
       "<div>\n",
       "<style scoped>\n",
       "    .dataframe tbody tr th:only-of-type {\n",
       "        vertical-align: middle;\n",
       "    }\n",
       "\n",
       "    .dataframe tbody tr th {\n",
       "        vertical-align: top;\n",
       "    }\n",
       "\n",
       "    .dataframe thead th {\n",
       "        text-align: right;\n",
       "    }\n",
       "</style>\n",
       "<table border=\"1\" class=\"dataframe\">\n",
       "  <thead>\n",
       "    <tr style=\"text-align: right;\">\n",
       "      <th></th>\n",
       "      <th>timestamp</th>\n",
       "      <th>source</th>\n",
       "      <th>text</th>\n",
       "      <th>retweeted_userID</th>\n",
       "      <th>expanded_urls</th>\n",
       "      <th>rating_num</th>\n",
       "      <th>rating_den</th>\n",
       "      <th>name</th>\n",
       "      <th>dog_stage</th>\n",
       "    </tr>\n",
       "  </thead>\n",
       "  <tbody>\n",
       "    <tr>\n",
       "      <th>0</th>\n",
       "      <td>2017-08-01 16:23:56+00:00</td>\n",
       "      <td>&lt;a href=\"http://twitter.com/download/iphone\" r...</td>\n",
       "      <td>This is Phineas. He's a mystical boy. Only eve...</td>\n",
       "      <td>0</td>\n",
       "      <td>https://twitter.com/dog_rates/status/892420643...</td>\n",
       "      <td>13</td>\n",
       "      <td>10</td>\n",
       "      <td>Phineas</td>\n",
       "      <td>unclassified</td>\n",
       "    </tr>\n",
       "  </tbody>\n",
       "</table>\n",
       "</div>"
      ],
      "text/plain": [
       "                  timestamp  \\\n",
       "0 2017-08-01 16:23:56+00:00   \n",
       "\n",
       "                                              source  \\\n",
       "0  <a href=\"http://twitter.com/download/iphone\" r...   \n",
       "\n",
       "                                                text  retweeted_userID  \\\n",
       "0  This is Phineas. He's a mystical boy. Only eve...                 0   \n",
       "\n",
       "                                       expanded_urls  rating_num  rating_den  \\\n",
       "0  https://twitter.com/dog_rates/status/892420643...          13          10   \n",
       "\n",
       "      name     dog_stage  \n",
       "0  Phineas  unclassified  "
      ]
     },
     "metadata": {},
     "output_type": "display_data"
    }
   ],
   "source": [
    "# sub-df for 'in_reply_to_status_id'\n",
    "display(in_reply_to_status_id.head(1))\n",
    "\n",
    "# sub-df for 'in_reply_to_user_id'\n",
    "display(in_reply_to_user_id.head(1))\n",
    "\n",
    "# sub-df for 'retweeted_status_id'\n",
    "display(retweeted_status_id.head(1))\n",
    "\n",
    "# sub-df for 'retweeted_status_user_id'\n",
    "display(retweeted_status_user_id.head(1))"
   ]
  },
  {
   "cell_type": "markdown",
   "id": "a28034fa",
   "metadata": {},
   "source": [
    "9."
   ]
  },
  {
   "cell_type": "code",
   "execution_count": 55,
   "id": "360a4514",
   "metadata": {},
   "outputs": [
    {
     "data": {
      "text/html": [
       "<div>\n",
       "<style scoped>\n",
       "    .dataframe tbody tr th:only-of-type {\n",
       "        vertical-align: middle;\n",
       "    }\n",
       "\n",
       "    .dataframe tbody tr th {\n",
       "        vertical-align: top;\n",
       "    }\n",
       "\n",
       "    .dataframe thead th {\n",
       "        text-align: right;\n",
       "    }\n",
       "</style>\n",
       "<table border=\"1\" class=\"dataframe\">\n",
       "  <thead>\n",
       "    <tr style=\"text-align: right;\">\n",
       "      <th></th>\n",
       "      <th>tweet_ID</th>\n",
       "      <th>reply_statusID</th>\n",
       "      <th>reply_userID</th>\n",
       "      <th>timestamp</th>\n",
       "      <th>source</th>\n",
       "      <th>text</th>\n",
       "      <th>retweeted_statusID</th>\n",
       "      <th>retweeted_userID</th>\n",
       "      <th>expanded_urls</th>\n",
       "      <th>rating_num</th>\n",
       "      <th>rating_den</th>\n",
       "      <th>name</th>\n",
       "      <th>dog_stage</th>\n",
       "      <th>rating</th>\n",
       "    </tr>\n",
       "  </thead>\n",
       "  <tbody>\n",
       "    <tr>\n",
       "      <th>0</th>\n",
       "      <td>892420643555336193</td>\n",
       "      <td>0</td>\n",
       "      <td>0</td>\n",
       "      <td>2017-08-01 16:23:56+00:00</td>\n",
       "      <td>&lt;a href=\"http://twitter.com/download/iphone\" r...</td>\n",
       "      <td>This is Phineas. He's a mystical boy. Only eve...</td>\n",
       "      <td>0</td>\n",
       "      <td>0</td>\n",
       "      <td>https://twitter.com/dog_rates/status/892420643...</td>\n",
       "      <td>13</td>\n",
       "      <td>10</td>\n",
       "      <td>Phineas</td>\n",
       "      <td>unclassified</td>\n",
       "      <td>1.3</td>\n",
       "    </tr>\n",
       "  </tbody>\n",
       "</table>\n",
       "</div>"
      ],
      "text/plain": [
       "             tweet_ID  reply_statusID  reply_userID                 timestamp  \\\n",
       "0  892420643555336193               0             0 2017-08-01 16:23:56+00:00   \n",
       "\n",
       "                                              source  \\\n",
       "0  <a href=\"http://twitter.com/download/iphone\" r...   \n",
       "\n",
       "                                                text  retweeted_statusID  \\\n",
       "0  This is Phineas. He's a mystical boy. Only eve...                   0   \n",
       "\n",
       "   retweeted_userID                                      expanded_urls  \\\n",
       "0                 0  https://twitter.com/dog_rates/status/892420643...   \n",
       "\n",
       "   rating_num  rating_den     name     dog_stage  rating  \n",
       "0          13          10  Phineas  unclassified     1.3  "
      ]
     },
     "execution_count": 55,
     "metadata": {},
     "output_type": "execute_result"
    }
   ],
   "source": [
    "# preview df\n",
    "twt_arc.head(1)"
   ]
  },
  {
   "cell_type": "markdown",
   "id": "483e6e15",
   "metadata": {},
   "source": [
    "> <b>2. Image Predictions</b>"
   ]
  },
  {
   "cell_type": "markdown",
   "id": "861fb117",
   "metadata": {},
   "source": [
    "<b>Define:</b>"
   ]
  },
  {
   "cell_type": "markdown",
   "id": "f79c81a1",
   "metadata": {},
   "source": [
    "1. Capitalize all values in columns (p1, p2, and p3).\n",
    "2. create individual columns with perfect records for p1, p2, and p3.\n",
    "3. represent confidence level in percentage format."
   ]
  },
  {
   "cell_type": "markdown",
   "id": "6c00953f",
   "metadata": {},
   "source": [
    "<b>Code:</b>"
   ]
  },
  {
   "cell_type": "code",
   "execution_count": 56,
   "id": "821e2f6b",
   "metadata": {},
   "outputs": [],
   "source": [
    "# create copy\n",
    "img_prd = img_pred.copy()"
   ]
  },
  {
   "cell_type": "markdown",
   "id": "a5e937b2",
   "metadata": {},
   "source": [
    "1. Capitalize all values in columns (p1, p2, and p3)."
   ]
  },
  {
   "cell_type": "code",
   "execution_count": 57,
   "id": "0a214074",
   "metadata": {},
   "outputs": [],
   "source": [
    "# capitalize column p1 values\n",
    "img_prd.p1 = img_prd.p1.str.title()\n",
    "\n",
    "# capitalize column p2 values\n",
    "img_prd.p2 = img_prd.p2.str.title()\n",
    "\n",
    "# capitalize column p3 values\n",
    "img_prd.p3 = img_prd.p3.str.title()"
   ]
  },
  {
   "cell_type": "markdown",
   "id": "54862390",
   "metadata": {},
   "source": [
    "2. create individual columns with perfect records for p1, p2, and p3. i.e create new columns for dog breed and confidence level with the best predictions."
   ]
  },
  {
   "cell_type": "markdown",
   "id": "cae584a7",
   "metadata": {},
   "source": [
    "Create a dog breed column that compares values from the top 3 predictions and picks the one that is true with precedence set to start from first, second, then third prediction."
   ]
  },
  {
   "cell_type": "code",
   "execution_count": 58,
   "id": "b19ead2b",
   "metadata": {},
   "outputs": [],
   "source": [
    "# create default column \n",
    "img_prd['p11'] = img_prd['p1']\n",
    "\n",
    "# function to assign dog breed from multiple columns condition\n",
    "def assign(stg1,stg2,stg3,r_val):\n",
    "    \n",
    "    # assign conditions\n",
    "    conditions = [\n",
    "        img_prd['p1_dog'].eq(stg1) \n",
    "        &img_prd['p2_dog'].eq(stg2)\n",
    "        &img_prd['p3_dog'].eq(stg3)\n",
    "    ]\n",
    "    \n",
    "    # list out return values\n",
    "    return_values = [\n",
    "        r_val\n",
    "    ]\n",
    "    \n",
    "    # assign values to column\n",
    "    img_prd['p11'] = np.select(conditions, return_values, default=img_prd['p11'])\n",
    "    \n",
    "assign(True,False,False,img_prd['p1'])\n",
    "assign(False,True,True,img_prd['p2'])\n",
    "assign(False,True,False,img_prd['p2'])\n",
    "assign(False,False,True,img_prd['p3'])\n",
    "assign(False,False,False,'Unclassified')"
   ]
  },
  {
   "cell_type": "markdown",
   "id": "e54bb95e",
   "metadata": {},
   "source": [
    "Another function for confidence level"
   ]
  },
  {
   "cell_type": "code",
   "execution_count": 59,
   "id": "274a6a81",
   "metadata": {},
   "outputs": [],
   "source": [
    "# create default column \n",
    "img_prd['conf_level'] = img_prd['p1_conf']\n",
    "\n",
    "# function to assign dog breed from multiple columns condition\n",
    "def conf_assign(stg1,stg2,stg3,r_val):\n",
    "    \n",
    "    # assign conditions\n",
    "    conditions = [\n",
    "        img_prd['p1_dog'].eq(stg1) \n",
    "        &img_prd['p2_dog'].eq(stg2)\n",
    "        &img_prd['p3_dog'].eq(stg3)\n",
    "    ]\n",
    "    \n",
    "    # list out return values\n",
    "    return_values = [\n",
    "        r_val\n",
    "    ]\n",
    "    \n",
    "    # assign values to column\n",
    "    img_prd['conf_level'] = np.select(conditions, return_values, default=img_prd['conf_level'])\n",
    "    \n",
    "conf_assign(True,False,False,img_prd['p1_conf'])\n",
    "conf_assign(False,True,True,img_prd['p2_conf'])\n",
    "conf_assign(False,True,False,img_prd['p2_conf'])\n",
    "conf_assign(False,False,True,img_prd['p3_conf'])\n",
    "conf_assign(False,False,False,img_prd['p1_conf'])"
   ]
  },
  {
   "cell_type": "markdown",
   "id": "da778e22",
   "metadata": {},
   "source": [
    "Rename column"
   ]
  },
  {
   "cell_type": "code",
   "execution_count": 60,
   "id": "3eeb53c3",
   "metadata": {},
   "outputs": [],
   "source": [
    "# rename some columns\n",
    "img_prd = img_prd.rename(columns = {'tweet_id':'tweet_ID',\n",
    "                         'p11':'dog_breed'})"
   ]
  },
  {
   "cell_type": "markdown",
   "id": "c9eb43b4",
   "metadata": {},
   "source": [
    "Drop irrelevant columns"
   ]
  },
  {
   "cell_type": "code",
   "execution_count": 61,
   "id": "366399d4",
   "metadata": {},
   "outputs": [],
   "source": [
    "# drop columns\n",
    "img_prd.drop(['p1','p1_conf','p1_dog','p2','p2_conf','p2_dog',\n",
    "             'p3','p3_conf','p3_dog'], axis=1, inplace=True)"
   ]
  },
  {
   "cell_type": "markdown",
   "id": "15e67423",
   "metadata": {},
   "source": [
    "3. Represent confidence level in percentage format."
   ]
  },
  {
   "cell_type": "code",
   "execution_count": 62,
   "id": "81550da9",
   "metadata": {},
   "outputs": [],
   "source": [
    "# create column for confidence level in percentage\n",
    "img_prd['conf_percentage'] = np.trunc((img_prd['conf_level'] * 100)).astype(int)"
   ]
  },
  {
   "cell_type": "markdown",
   "id": "daa73a7a",
   "metadata": {},
   "source": [
    "<b>Test:</b>"
   ]
  },
  {
   "cell_type": "markdown",
   "id": "8a5ef125",
   "metadata": {},
   "source": [
    "1. "
   ]
  },
  {
   "cell_type": "code",
   "execution_count": 63,
   "id": "9d204cb8",
   "metadata": {},
   "outputs": [
    {
     "data": {
      "text/html": [
       "<div>\n",
       "<style scoped>\n",
       "    .dataframe tbody tr th:only-of-type {\n",
       "        vertical-align: middle;\n",
       "    }\n",
       "\n",
       "    .dataframe tbody tr th {\n",
       "        vertical-align: top;\n",
       "    }\n",
       "\n",
       "    .dataframe thead th {\n",
       "        text-align: right;\n",
       "    }\n",
       "</style>\n",
       "<table border=\"1\" class=\"dataframe\">\n",
       "  <thead>\n",
       "    <tr style=\"text-align: right;\">\n",
       "      <th></th>\n",
       "      <th>tweet_ID</th>\n",
       "      <th>jpg_url</th>\n",
       "      <th>img_num</th>\n",
       "      <th>dog_breed</th>\n",
       "      <th>conf_level</th>\n",
       "      <th>conf_percentage</th>\n",
       "    </tr>\n",
       "  </thead>\n",
       "  <tbody>\n",
       "    <tr>\n",
       "      <th>0</th>\n",
       "      <td>666020888022790149</td>\n",
       "      <td>https://pbs.twimg.com/media/CT4udn0WwAA0aMy.jpg</td>\n",
       "      <td>1</td>\n",
       "      <td>Welsh_Springer_Spaniel</td>\n",
       "      <td>0.465074</td>\n",
       "      <td>46</td>\n",
       "    </tr>\n",
       "    <tr>\n",
       "      <th>1</th>\n",
       "      <td>666029285002620928</td>\n",
       "      <td>https://pbs.twimg.com/media/CT42GRgUYAA5iDo.jpg</td>\n",
       "      <td>1</td>\n",
       "      <td>Redbone</td>\n",
       "      <td>0.506826</td>\n",
       "      <td>50</td>\n",
       "    </tr>\n",
       "    <tr>\n",
       "      <th>2</th>\n",
       "      <td>666033412701032449</td>\n",
       "      <td>https://pbs.twimg.com/media/CT4521TWwAEvMyu.jpg</td>\n",
       "      <td>1</td>\n",
       "      <td>German_Shepherd</td>\n",
       "      <td>0.596461</td>\n",
       "      <td>59</td>\n",
       "    </tr>\n",
       "    <tr>\n",
       "      <th>3</th>\n",
       "      <td>666044226329800704</td>\n",
       "      <td>https://pbs.twimg.com/media/CT5Dr8HUEAA-lEu.jpg</td>\n",
       "      <td>1</td>\n",
       "      <td>Rhodesian_Ridgeback</td>\n",
       "      <td>0.408143</td>\n",
       "      <td>40</td>\n",
       "    </tr>\n",
       "    <tr>\n",
       "      <th>4</th>\n",
       "      <td>666049248165822465</td>\n",
       "      <td>https://pbs.twimg.com/media/CT5IQmsXIAAKY4A.jpg</td>\n",
       "      <td>1</td>\n",
       "      <td>Miniature_Pinscher</td>\n",
       "      <td>0.560311</td>\n",
       "      <td>56</td>\n",
       "    </tr>\n",
       "  </tbody>\n",
       "</table>\n",
       "</div>"
      ],
      "text/plain": [
       "             tweet_ID                                          jpg_url  \\\n",
       "0  666020888022790149  https://pbs.twimg.com/media/CT4udn0WwAA0aMy.jpg   \n",
       "1  666029285002620928  https://pbs.twimg.com/media/CT42GRgUYAA5iDo.jpg   \n",
       "2  666033412701032449  https://pbs.twimg.com/media/CT4521TWwAEvMyu.jpg   \n",
       "3  666044226329800704  https://pbs.twimg.com/media/CT5Dr8HUEAA-lEu.jpg   \n",
       "4  666049248165822465  https://pbs.twimg.com/media/CT5IQmsXIAAKY4A.jpg   \n",
       "\n",
       "   img_num               dog_breed  conf_level  conf_percentage  \n",
       "0        1  Welsh_Springer_Spaniel    0.465074               46  \n",
       "1        1                 Redbone    0.506826               50  \n",
       "2        1         German_Shepherd    0.596461               59  \n",
       "3        1     Rhodesian_Ridgeback    0.408143               40  \n",
       "4        1      Miniature_Pinscher    0.560311               56  "
      ]
     },
     "execution_count": 63,
     "metadata": {},
     "output_type": "execute_result"
    }
   ],
   "source": [
    "# preview df\n",
    "img_prd.head()"
   ]
  },
  {
   "cell_type": "markdown",
   "id": "ec2b6900",
   "metadata": {},
   "source": [
    "2."
   ]
  },
  {
   "cell_type": "code",
   "execution_count": 64,
   "id": "6a08e8ba",
   "metadata": {},
   "outputs": [
    {
     "data": {
      "text/html": [
       "<div>\n",
       "<style scoped>\n",
       "    .dataframe tbody tr th:only-of-type {\n",
       "        vertical-align: middle;\n",
       "    }\n",
       "\n",
       "    .dataframe tbody tr th {\n",
       "        vertical-align: top;\n",
       "    }\n",
       "\n",
       "    .dataframe thead th {\n",
       "        text-align: right;\n",
       "    }\n",
       "</style>\n",
       "<table border=\"1\" class=\"dataframe\">\n",
       "  <thead>\n",
       "    <tr style=\"text-align: right;\">\n",
       "      <th></th>\n",
       "      <th>tweet_ID</th>\n",
       "      <th>jpg_url</th>\n",
       "      <th>img_num</th>\n",
       "      <th>dog_breed</th>\n",
       "      <th>conf_level</th>\n",
       "      <th>conf_percentage</th>\n",
       "    </tr>\n",
       "  </thead>\n",
       "  <tbody>\n",
       "    <tr>\n",
       "      <th>0</th>\n",
       "      <td>666020888022790149</td>\n",
       "      <td>https://pbs.twimg.com/media/CT4udn0WwAA0aMy.jpg</td>\n",
       "      <td>1</td>\n",
       "      <td>Welsh_Springer_Spaniel</td>\n",
       "      <td>0.465074</td>\n",
       "      <td>46</td>\n",
       "    </tr>\n",
       "  </tbody>\n",
       "</table>\n",
       "</div>"
      ],
      "text/plain": [
       "             tweet_ID                                          jpg_url  \\\n",
       "0  666020888022790149  https://pbs.twimg.com/media/CT4udn0WwAA0aMy.jpg   \n",
       "\n",
       "   img_num               dog_breed  conf_level  conf_percentage  \n",
       "0        1  Welsh_Springer_Spaniel    0.465074               46  "
      ]
     },
     "metadata": {},
     "output_type": "display_data"
    },
    {
     "data": {
      "text/plain": [
       "array(['Welsh_Springer_Spaniel', 'Redbone', 'German_Shepherd',\n",
       "       'Rhodesian_Ridgeback', 'Miniature_Pinscher',\n",
       "       'Bernese_Mountain_Dog', 'Unclassified', 'Chow', 'Golden_Retriever',\n",
       "       'Miniature_Poodle', 'Gordon_Setter', 'Walker_Hound', 'Pug',\n",
       "       'Bloodhound', 'Lhasa', 'English_Setter', 'Italian_Greyhound',\n",
       "       'Maltese_Dog', 'Newfoundland', 'Malamute',\n",
       "       'Soft-Coated_Wheaten_Terrier', 'Chihuahua',\n",
       "       'Black-And-Tan_Coonhound', 'Toy_Terrier', 'Blenheim_Spaniel',\n",
       "       'Pembroke', 'Irish_Terrier', 'Chesapeake_Bay_Retriever',\n",
       "       'Curly-Coated_Retriever', 'Dalmatian', 'Ibizan_Hound',\n",
       "       'Border_Collie', 'Labrador_Retriever', 'Miniature_Schnauzer',\n",
       "       'Airedale', 'Rottweiler', 'West_Highland_White_Terrier',\n",
       "       'Toy_Poodle', 'Giant_Schnauzer', 'Vizsla', 'Siberian_Husky',\n",
       "       'Papillon', 'Saint_Bernard', 'Tibetan_Terrier', 'Borzoi', 'Beagle',\n",
       "       'Yorkshire_Terrier', 'Pomeranian', 'Kuvasz',\n",
       "       'Flat-Coated_Retriever', 'Norwegian_Elkhound', 'Boxer',\n",
       "       'Eskimo_Dog', 'Standard_Poodle', 'Staffordshire_Bullterrier',\n",
       "       'Basenji', 'Lakeland_Terrier', 'American_Staffordshire_Terrier',\n",
       "       'Shih-Tzu', 'Groenendael', 'French_Bulldog', 'Pekinese',\n",
       "       'Komondor', 'Malinois', 'Kelpie', 'Brittany_Spaniel',\n",
       "       'Cocker_Spaniel', 'Basset', 'English_Springer', 'Cardigan',\n",
       "       'Brabancon_Griffon', 'German_Short-Haired_Pointer',\n",
       "       'Shetland_Sheepdog', 'Cairn', 'Whippet', 'Sussex_Spaniel',\n",
       "       'Dandie_Dinmont', 'Norwich_Terrier', 'Keeshond', 'Norfolk_Terrier',\n",
       "       'Old_English_Sheepdog', 'Samoyed', 'Scottish_Deerhound',\n",
       "       'Doberman', 'Irish_Wolfhound', 'Great_Pyrenees', 'Schipperke',\n",
       "       'Bull_Mastiff', 'Collie', 'Greater_Swiss_Mountain_Dog',\n",
       "       'Standard_Schnauzer', 'Irish_Water_Spaniel', 'Boston_Bull',\n",
       "       'Japanese_Spaniel', 'Bedlington_Terrier', 'Entlebucher',\n",
       "       'Bluetick', 'Irish_Setter', 'Leonberg', 'Mexican_Hairless',\n",
       "       'Weimaraner', 'Great_Dane', 'Tibetan_Mastiff', 'Scotch_Terrier',\n",
       "       'Australian_Terrier', 'Briard', 'Appenzeller', 'Border_Terrier',\n",
       "       'Wire-Haired_Fox_Terrier', 'Saluki', 'Silky_Terrier',\n",
       "       'Afghan_Hound', 'Clumber', 'Bouvier_Des_Flandres'], dtype=object)"
      ]
     },
     "metadata": {},
     "output_type": "display_data"
    }
   ],
   "source": [
    "# preview\n",
    "display(img_prd.head(1))\n",
    "\n",
    "# preview\n",
    "display(img_prd['dog_breed'].unique())"
   ]
  },
  {
   "cell_type": "markdown",
   "id": "35a801b3",
   "metadata": {},
   "source": [
    "3."
   ]
  },
  {
   "cell_type": "code",
   "execution_count": 65,
   "id": "a0844308",
   "metadata": {},
   "outputs": [
    {
     "data": {
      "text/html": [
       "<div>\n",
       "<style scoped>\n",
       "    .dataframe tbody tr th:only-of-type {\n",
       "        vertical-align: middle;\n",
       "    }\n",
       "\n",
       "    .dataframe tbody tr th {\n",
       "        vertical-align: top;\n",
       "    }\n",
       "\n",
       "    .dataframe thead th {\n",
       "        text-align: right;\n",
       "    }\n",
       "</style>\n",
       "<table border=\"1\" class=\"dataframe\">\n",
       "  <thead>\n",
       "    <tr style=\"text-align: right;\">\n",
       "      <th></th>\n",
       "      <th>tweet_ID</th>\n",
       "      <th>jpg_url</th>\n",
       "      <th>img_num</th>\n",
       "      <th>dog_breed</th>\n",
       "      <th>conf_level</th>\n",
       "      <th>conf_percentage</th>\n",
       "    </tr>\n",
       "  </thead>\n",
       "  <tbody>\n",
       "    <tr>\n",
       "      <th>0</th>\n",
       "      <td>666020888022790149</td>\n",
       "      <td>https://pbs.twimg.com/media/CT4udn0WwAA0aMy.jpg</td>\n",
       "      <td>1</td>\n",
       "      <td>Welsh_Springer_Spaniel</td>\n",
       "      <td>0.465074</td>\n",
       "      <td>46</td>\n",
       "    </tr>\n",
       "    <tr>\n",
       "      <th>1</th>\n",
       "      <td>666029285002620928</td>\n",
       "      <td>https://pbs.twimg.com/media/CT42GRgUYAA5iDo.jpg</td>\n",
       "      <td>1</td>\n",
       "      <td>Redbone</td>\n",
       "      <td>0.506826</td>\n",
       "      <td>50</td>\n",
       "    </tr>\n",
       "    <tr>\n",
       "      <th>2</th>\n",
       "      <td>666033412701032449</td>\n",
       "      <td>https://pbs.twimg.com/media/CT4521TWwAEvMyu.jpg</td>\n",
       "      <td>1</td>\n",
       "      <td>German_Shepherd</td>\n",
       "      <td>0.596461</td>\n",
       "      <td>59</td>\n",
       "    </tr>\n",
       "    <tr>\n",
       "      <th>3</th>\n",
       "      <td>666044226329800704</td>\n",
       "      <td>https://pbs.twimg.com/media/CT5Dr8HUEAA-lEu.jpg</td>\n",
       "      <td>1</td>\n",
       "      <td>Rhodesian_Ridgeback</td>\n",
       "      <td>0.408143</td>\n",
       "      <td>40</td>\n",
       "    </tr>\n",
       "    <tr>\n",
       "      <th>4</th>\n",
       "      <td>666049248165822465</td>\n",
       "      <td>https://pbs.twimg.com/media/CT5IQmsXIAAKY4A.jpg</td>\n",
       "      <td>1</td>\n",
       "      <td>Miniature_Pinscher</td>\n",
       "      <td>0.560311</td>\n",
       "      <td>56</td>\n",
       "    </tr>\n",
       "  </tbody>\n",
       "</table>\n",
       "</div>"
      ],
      "text/plain": [
       "             tweet_ID                                          jpg_url  \\\n",
       "0  666020888022790149  https://pbs.twimg.com/media/CT4udn0WwAA0aMy.jpg   \n",
       "1  666029285002620928  https://pbs.twimg.com/media/CT42GRgUYAA5iDo.jpg   \n",
       "2  666033412701032449  https://pbs.twimg.com/media/CT4521TWwAEvMyu.jpg   \n",
       "3  666044226329800704  https://pbs.twimg.com/media/CT5Dr8HUEAA-lEu.jpg   \n",
       "4  666049248165822465  https://pbs.twimg.com/media/CT5IQmsXIAAKY4A.jpg   \n",
       "\n",
       "   img_num               dog_breed  conf_level  conf_percentage  \n",
       "0        1  Welsh_Springer_Spaniel    0.465074               46  \n",
       "1        1                 Redbone    0.506826               50  \n",
       "2        1         German_Shepherd    0.596461               59  \n",
       "3        1     Rhodesian_Ridgeback    0.408143               40  \n",
       "4        1      Miniature_Pinscher    0.560311               56  "
      ]
     },
     "execution_count": 65,
     "metadata": {},
     "output_type": "execute_result"
    }
   ],
   "source": [
    "# preview\n",
    "img_prd.head()"
   ]
  },
  {
   "cell_type": "markdown",
   "id": "253e62ea",
   "metadata": {},
   "source": [
    "> <b>Additional Twitter Data form API</b>"
   ]
  },
  {
   "cell_type": "markdown",
   "id": "1e2988ed",
   "metadata": {},
   "source": [
    "<b>Define:</b>"
   ]
  },
  {
   "cell_type": "markdown",
   "id": "c5b968dd",
   "metadata": {},
   "source": [
    "1. Column name inconsistency ('id' should be 'tweet_id')."
   ]
  },
  {
   "cell_type": "markdown",
   "id": "bc2edfd4",
   "metadata": {},
   "source": [
    "<b>Code:</b>"
   ]
  },
  {
   "cell_type": "code",
   "execution_count": 66,
   "id": "969aea2e",
   "metadata": {},
   "outputs": [],
   "source": [
    "# duplicate df\n",
    "api = api_data.copy()"
   ]
  },
  {
   "cell_type": "code",
   "execution_count": 67,
   "id": "e65cf4a3",
   "metadata": {},
   "outputs": [],
   "source": [
    "# rename column\n",
    "api = api.rename(columns = {'id':'tweet_ID'})"
   ]
  },
  {
   "cell_type": "markdown",
   "id": "8a9dfd66",
   "metadata": {},
   "source": [
    "<b>Test:</b>"
   ]
  },
  {
   "cell_type": "code",
   "execution_count": 68,
   "id": "82da5fa3",
   "metadata": {},
   "outputs": [
    {
     "data": {
      "text/html": [
       "<div>\n",
       "<style scoped>\n",
       "    .dataframe tbody tr th:only-of-type {\n",
       "        vertical-align: middle;\n",
       "    }\n",
       "\n",
       "    .dataframe tbody tr th {\n",
       "        vertical-align: top;\n",
       "    }\n",
       "\n",
       "    .dataframe thead th {\n",
       "        text-align: right;\n",
       "    }\n",
       "</style>\n",
       "<table border=\"1\" class=\"dataframe\">\n",
       "  <thead>\n",
       "    <tr style=\"text-align: right;\">\n",
       "      <th></th>\n",
       "      <th>tweet_ID</th>\n",
       "      <th>retweet_count</th>\n",
       "      <th>favorite_count</th>\n",
       "    </tr>\n",
       "  </thead>\n",
       "  <tbody>\n",
       "    <tr>\n",
       "      <th>0</th>\n",
       "      <td>892420643555336193</td>\n",
       "      <td>8853</td>\n",
       "      <td>39467</td>\n",
       "    </tr>\n",
       "    <tr>\n",
       "      <th>1</th>\n",
       "      <td>892177421306343426</td>\n",
       "      <td>6514</td>\n",
       "      <td>33819</td>\n",
       "    </tr>\n",
       "    <tr>\n",
       "      <th>2</th>\n",
       "      <td>891815181378084864</td>\n",
       "      <td>4328</td>\n",
       "      <td>25461</td>\n",
       "    </tr>\n",
       "    <tr>\n",
       "      <th>3</th>\n",
       "      <td>891689557279858688</td>\n",
       "      <td>8964</td>\n",
       "      <td>42908</td>\n",
       "    </tr>\n",
       "    <tr>\n",
       "      <th>4</th>\n",
       "      <td>891327558926688256</td>\n",
       "      <td>9774</td>\n",
       "      <td>41048</td>\n",
       "    </tr>\n",
       "  </tbody>\n",
       "</table>\n",
       "</div>"
      ],
      "text/plain": [
       "             tweet_ID  retweet_count  favorite_count\n",
       "0  892420643555336193           8853           39467\n",
       "1  892177421306343426           6514           33819\n",
       "2  891815181378084864           4328           25461\n",
       "3  891689557279858688           8964           42908\n",
       "4  891327558926688256           9774           41048"
      ]
     },
     "execution_count": 68,
     "metadata": {},
     "output_type": "execute_result"
    }
   ],
   "source": [
    "# preview\n",
    "api.head()"
   ]
  },
  {
   "cell_type": "markdown",
   "id": "fd7f4f46",
   "metadata": {},
   "source": [
    "Check dimension of all 3 dataframes"
   ]
  },
  {
   "cell_type": "code",
   "execution_count": 69,
   "id": "d0c55de3",
   "metadata": {},
   "outputs": [
    {
     "data": {
      "text/plain": [
       "(2356, 14)"
      ]
     },
     "metadata": {},
     "output_type": "display_data"
    },
    {
     "data": {
      "text/plain": [
       "(2075, 6)"
      ]
     },
     "metadata": {},
     "output_type": "display_data"
    },
    {
     "data": {
      "text/plain": [
       "(2354, 3)"
      ]
     },
     "metadata": {},
     "output_type": "display_data"
    }
   ],
   "source": [
    "# see dimension of twt_arc\n",
    "display(twt_arc.shape)\n",
    "\n",
    "# see dimension of img_prd\n",
    "display(img_prd.shape)\n",
    "\n",
    "# see dimension of api\n",
    "display(api.shape)"
   ]
  },
  {
   "cell_type": "markdown",
   "id": "0c01d58d",
   "metadata": {},
   "source": [
    "Merge all 3 dataframes together."
   ]
  },
  {
   "cell_type": "code",
   "execution_count": 70,
   "id": "8fc60f20",
   "metadata": {},
   "outputs": [
    {
     "data": {
      "text/plain": [
       "(2073, 21)"
      ]
     },
     "execution_count": 70,
     "metadata": {},
     "output_type": "execute_result"
    }
   ],
   "source": [
    "# merge dfs\n",
    "master = twt_arc.merge(img_prd, on='tweet_ID', how='inner')\\\n",
    "                       .merge(api, on='tweet_ID', how='inner')\n",
    "\n",
    "# check new df dimension\n",
    "master.shape"
   ]
  },
  {
   "cell_type": "code",
   "execution_count": 71,
   "id": "c9614aa1",
   "metadata": {},
   "outputs": [
    {
     "data": {
      "text/html": [
       "<div>\n",
       "<style scoped>\n",
       "    .dataframe tbody tr th:only-of-type {\n",
       "        vertical-align: middle;\n",
       "    }\n",
       "\n",
       "    .dataframe tbody tr th {\n",
       "        vertical-align: top;\n",
       "    }\n",
       "\n",
       "    .dataframe thead th {\n",
       "        text-align: right;\n",
       "    }\n",
       "</style>\n",
       "<table border=\"1\" class=\"dataframe\">\n",
       "  <thead>\n",
       "    <tr style=\"text-align: right;\">\n",
       "      <th></th>\n",
       "      <th>tweet_ID</th>\n",
       "      <th>reply_statusID</th>\n",
       "      <th>reply_userID</th>\n",
       "      <th>timestamp</th>\n",
       "      <th>source</th>\n",
       "      <th>text</th>\n",
       "      <th>retweeted_statusID</th>\n",
       "      <th>retweeted_userID</th>\n",
       "      <th>expanded_urls</th>\n",
       "      <th>rating_num</th>\n",
       "      <th>...</th>\n",
       "      <th>name</th>\n",
       "      <th>dog_stage</th>\n",
       "      <th>rating</th>\n",
       "      <th>jpg_url</th>\n",
       "      <th>img_num</th>\n",
       "      <th>dog_breed</th>\n",
       "      <th>conf_level</th>\n",
       "      <th>conf_percentage</th>\n",
       "      <th>retweet_count</th>\n",
       "      <th>favorite_count</th>\n",
       "    </tr>\n",
       "  </thead>\n",
       "  <tbody>\n",
       "    <tr>\n",
       "      <th>0</th>\n",
       "      <td>892420643555336193</td>\n",
       "      <td>0</td>\n",
       "      <td>0</td>\n",
       "      <td>2017-08-01 16:23:56+00:00</td>\n",
       "      <td>&lt;a href=\"http://twitter.com/download/iphone\" r...</td>\n",
       "      <td>This is Phineas. He's a mystical boy. Only eve...</td>\n",
       "      <td>0</td>\n",
       "      <td>0</td>\n",
       "      <td>https://twitter.com/dog_rates/status/892420643...</td>\n",
       "      <td>13</td>\n",
       "      <td>...</td>\n",
       "      <td>Phineas</td>\n",
       "      <td>unclassified</td>\n",
       "      <td>1.3</td>\n",
       "      <td>https://pbs.twimg.com/media/DGKD1-bXoAAIAUK.jpg</td>\n",
       "      <td>1</td>\n",
       "      <td>Unclassified</td>\n",
       "      <td>0.097049</td>\n",
       "      <td>9</td>\n",
       "      <td>8853</td>\n",
       "      <td>39467</td>\n",
       "    </tr>\n",
       "    <tr>\n",
       "      <th>1</th>\n",
       "      <td>892177421306343426</td>\n",
       "      <td>0</td>\n",
       "      <td>0</td>\n",
       "      <td>2017-08-01 00:17:27+00:00</td>\n",
       "      <td>&lt;a href=\"http://twitter.com/download/iphone\" r...</td>\n",
       "      <td>This is Tilly. She's just checking pup on you....</td>\n",
       "      <td>0</td>\n",
       "      <td>0</td>\n",
       "      <td>https://twitter.com/dog_rates/status/892177421...</td>\n",
       "      <td>13</td>\n",
       "      <td>...</td>\n",
       "      <td>Tilly</td>\n",
       "      <td>unclassified</td>\n",
       "      <td>1.3</td>\n",
       "      <td>https://pbs.twimg.com/media/DGGmoV4XsAAUL6n.jpg</td>\n",
       "      <td>1</td>\n",
       "      <td>Chihuahua</td>\n",
       "      <td>0.323581</td>\n",
       "      <td>32</td>\n",
       "      <td>6514</td>\n",
       "      <td>33819</td>\n",
       "    </tr>\n",
       "    <tr>\n",
       "      <th>2</th>\n",
       "      <td>891815181378084864</td>\n",
       "      <td>0</td>\n",
       "      <td>0</td>\n",
       "      <td>2017-07-31 00:18:03+00:00</td>\n",
       "      <td>&lt;a href=\"http://twitter.com/download/iphone\" r...</td>\n",
       "      <td>This is Archie. He is a rare Norwegian Pouncin...</td>\n",
       "      <td>0</td>\n",
       "      <td>0</td>\n",
       "      <td>https://twitter.com/dog_rates/status/891815181...</td>\n",
       "      <td>12</td>\n",
       "      <td>...</td>\n",
       "      <td>Archie</td>\n",
       "      <td>unclassified</td>\n",
       "      <td>1.2</td>\n",
       "      <td>https://pbs.twimg.com/media/DGBdLU1WsAANxJ9.jpg</td>\n",
       "      <td>1</td>\n",
       "      <td>Chihuahua</td>\n",
       "      <td>0.716012</td>\n",
       "      <td>71</td>\n",
       "      <td>4328</td>\n",
       "      <td>25461</td>\n",
       "    </tr>\n",
       "  </tbody>\n",
       "</table>\n",
       "<p>3 rows × 21 columns</p>\n",
       "</div>"
      ],
      "text/plain": [
       "             tweet_ID  reply_statusID  reply_userID                 timestamp  \\\n",
       "0  892420643555336193               0             0 2017-08-01 16:23:56+00:00   \n",
       "1  892177421306343426               0             0 2017-08-01 00:17:27+00:00   \n",
       "2  891815181378084864               0             0 2017-07-31 00:18:03+00:00   \n",
       "\n",
       "                                              source  \\\n",
       "0  <a href=\"http://twitter.com/download/iphone\" r...   \n",
       "1  <a href=\"http://twitter.com/download/iphone\" r...   \n",
       "2  <a href=\"http://twitter.com/download/iphone\" r...   \n",
       "\n",
       "                                                text  retweeted_statusID  \\\n",
       "0  This is Phineas. He's a mystical boy. Only eve...                   0   \n",
       "1  This is Tilly. She's just checking pup on you....                   0   \n",
       "2  This is Archie. He is a rare Norwegian Pouncin...                   0   \n",
       "\n",
       "   retweeted_userID                                      expanded_urls  \\\n",
       "0                 0  https://twitter.com/dog_rates/status/892420643...   \n",
       "1                 0  https://twitter.com/dog_rates/status/892177421...   \n",
       "2                 0  https://twitter.com/dog_rates/status/891815181...   \n",
       "\n",
       "   rating_num  ...     name     dog_stage rating  \\\n",
       "0          13  ...  Phineas  unclassified    1.3   \n",
       "1          13  ...    Tilly  unclassified    1.3   \n",
       "2          12  ...   Archie  unclassified    1.2   \n",
       "\n",
       "                                           jpg_url img_num     dog_breed  \\\n",
       "0  https://pbs.twimg.com/media/DGKD1-bXoAAIAUK.jpg       1  Unclassified   \n",
       "1  https://pbs.twimg.com/media/DGGmoV4XsAAUL6n.jpg       1     Chihuahua   \n",
       "2  https://pbs.twimg.com/media/DGBdLU1WsAANxJ9.jpg       1     Chihuahua   \n",
       "\n",
       "  conf_level  conf_percentage  retweet_count  favorite_count  \n",
       "0   0.097049                9           8853           39467  \n",
       "1   0.323581               32           6514           33819  \n",
       "2   0.716012               71           4328           25461  \n",
       "\n",
       "[3 rows x 21 columns]"
      ]
     },
     "execution_count": 71,
     "metadata": {},
     "output_type": "execute_result"
    }
   ],
   "source": [
    "# preview data set\n",
    "master.head(3)"
   ]
  },
  {
   "cell_type": "markdown",
   "id": "43aa065a",
   "metadata": {},
   "source": [
    "Brief assessment"
   ]
  },
  {
   "cell_type": "code",
   "execution_count": 72,
   "id": "2eaea11c",
   "metadata": {},
   "outputs": [
    {
     "name": "stdout",
     "output_type": "stream",
     "text": [
      "<class 'pandas.core.frame.DataFrame'>\n",
      "Int64Index: 2073 entries, 0 to 2072\n",
      "Data columns (total 21 columns):\n",
      " #   Column              Non-Null Count  Dtype              \n",
      "---  ------              --------------  -----              \n",
      " 0   tweet_ID            2073 non-null   int64              \n",
      " 1   reply_statusID      2073 non-null   int64              \n",
      " 2   reply_userID        2073 non-null   int64              \n",
      " 3   timestamp           2073 non-null   datetime64[ns, UTC]\n",
      " 4   source              2073 non-null   object             \n",
      " 5   text                2073 non-null   object             \n",
      " 6   retweeted_statusID  2073 non-null   int64              \n",
      " 7   retweeted_userID    2073 non-null   int64              \n",
      " 8   expanded_urls       2073 non-null   object             \n",
      " 9   rating_num          2073 non-null   int64              \n",
      " 10  rating_den          2073 non-null   int64              \n",
      " 11  name                2073 non-null   object             \n",
      " 12  dog_stage           2073 non-null   object             \n",
      " 13  rating              2073 non-null   float64            \n",
      " 14  jpg_url             2073 non-null   object             \n",
      " 15  img_num             2073 non-null   int64              \n",
      " 16  dog_breed           2073 non-null   object             \n",
      " 17  conf_level          2073 non-null   float64            \n",
      " 18  conf_percentage     2073 non-null   int32              \n",
      " 19  retweet_count       2073 non-null   int64              \n",
      " 20  favorite_count      2073 non-null   int64              \n",
      "dtypes: datetime64[ns, UTC](1), float64(2), int32(1), int64(10), object(7)\n",
      "memory usage: 348.2+ KB\n"
     ]
    }
   ],
   "source": [
    "master.info()"
   ]
  },
  {
   "cell_type": "code",
   "execution_count": 73,
   "id": "b2a37496",
   "metadata": {},
   "outputs": [
    {
     "data": {
      "text/html": [
       "<div>\n",
       "<style scoped>\n",
       "    .dataframe tbody tr th:only-of-type {\n",
       "        vertical-align: middle;\n",
       "    }\n",
       "\n",
       "    .dataframe tbody tr th {\n",
       "        vertical-align: top;\n",
       "    }\n",
       "\n",
       "    .dataframe thead th {\n",
       "        text-align: right;\n",
       "    }\n",
       "</style>\n",
       "<table border=\"1\" class=\"dataframe\">\n",
       "  <thead>\n",
       "    <tr style=\"text-align: right;\">\n",
       "      <th></th>\n",
       "      <th>tweet_ID</th>\n",
       "      <th>reply_statusID</th>\n",
       "      <th>reply_userID</th>\n",
       "      <th>retweeted_statusID</th>\n",
       "      <th>retweeted_userID</th>\n",
       "      <th>rating_num</th>\n",
       "      <th>rating_den</th>\n",
       "      <th>rating</th>\n",
       "      <th>img_num</th>\n",
       "      <th>conf_level</th>\n",
       "      <th>conf_percentage</th>\n",
       "      <th>retweet_count</th>\n",
       "      <th>favorite_count</th>\n",
       "    </tr>\n",
       "  </thead>\n",
       "  <tbody>\n",
       "    <tr>\n",
       "      <th>count</th>\n",
       "      <td>2.073000e+03</td>\n",
       "      <td>2.073000e+03</td>\n",
       "      <td>2.073000e+03</td>\n",
       "      <td>2.073000e+03</td>\n",
       "      <td>2.073000e+03</td>\n",
       "      <td>2073.000000</td>\n",
       "      <td>2073.000000</td>\n",
       "      <td>2073.000000</td>\n",
       "      <td>2073.000000</td>\n",
       "      <td>2073.000000</td>\n",
       "      <td>2073.000000</td>\n",
       "      <td>2073.000000</td>\n",
       "      <td>2073.000000</td>\n",
       "    </tr>\n",
       "    <tr>\n",
       "      <th>mean</th>\n",
       "      <td>7.383634e+17</td>\n",
       "      <td>7.742237e+15</td>\n",
       "      <td>4.656567e+07</td>\n",
       "      <td>2.920433e+16</td>\n",
       "      <td>3.798659e+14</td>\n",
       "      <td>12.265798</td>\n",
       "      <td>10.511819</td>\n",
       "      <td>1.169987</td>\n",
       "      <td>1.203570</td>\n",
       "      <td>0.547893</td>\n",
       "      <td>54.278823</td>\n",
       "      <td>2976.089243</td>\n",
       "      <td>8556.718283</td>\n",
       "    </tr>\n",
       "    <tr>\n",
       "      <th>std</th>\n",
       "      <td>6.780118e+16</td>\n",
       "      <td>7.324912e+16</td>\n",
       "      <td>4.397275e+08</td>\n",
       "      <td>1.472009e+17</td>\n",
       "      <td>1.729537e+16</td>\n",
       "      <td>40.699924</td>\n",
       "      <td>7.180517</td>\n",
       "      <td>3.988880</td>\n",
       "      <td>0.561856</td>\n",
       "      <td>0.297916</td>\n",
       "      <td>29.770639</td>\n",
       "      <td>5054.897526</td>\n",
       "      <td>12098.640994</td>\n",
       "    </tr>\n",
       "    <tr>\n",
       "      <th>min</th>\n",
       "      <td>6.660209e+17</td>\n",
       "      <td>0.000000e+00</td>\n",
       "      <td>0.000000e+00</td>\n",
       "      <td>0.000000e+00</td>\n",
       "      <td>0.000000e+00</td>\n",
       "      <td>0.000000</td>\n",
       "      <td>2.000000</td>\n",
       "      <td>0.000000</td>\n",
       "      <td>1.000000</td>\n",
       "      <td>0.000010</td>\n",
       "      <td>0.000000</td>\n",
       "      <td>16.000000</td>\n",
       "      <td>0.000000</td>\n",
       "    </tr>\n",
       "    <tr>\n",
       "      <th>25%</th>\n",
       "      <td>6.764706e+17</td>\n",
       "      <td>0.000000e+00</td>\n",
       "      <td>0.000000e+00</td>\n",
       "      <td>0.000000e+00</td>\n",
       "      <td>0.000000e+00</td>\n",
       "      <td>10.000000</td>\n",
       "      <td>10.000000</td>\n",
       "      <td>1.000000</td>\n",
       "      <td>1.000000</td>\n",
       "      <td>0.298881</td>\n",
       "      <td>29.000000</td>\n",
       "      <td>634.000000</td>\n",
       "      <td>1674.000000</td>\n",
       "    </tr>\n",
       "    <tr>\n",
       "      <th>50%</th>\n",
       "      <td>7.119681e+17</td>\n",
       "      <td>0.000000e+00</td>\n",
       "      <td>0.000000e+00</td>\n",
       "      <td>0.000000e+00</td>\n",
       "      <td>0.000000e+00</td>\n",
       "      <td>11.000000</td>\n",
       "      <td>10.000000</td>\n",
       "      <td>1.100000</td>\n",
       "      <td>1.000000</td>\n",
       "      <td>0.541780</td>\n",
       "      <td>54.000000</td>\n",
       "      <td>1408.000000</td>\n",
       "      <td>3864.000000</td>\n",
       "    </tr>\n",
       "    <tr>\n",
       "      <th>75%</th>\n",
       "      <td>7.931959e+17</td>\n",
       "      <td>0.000000e+00</td>\n",
       "      <td>0.000000e+00</td>\n",
       "      <td>0.000000e+00</td>\n",
       "      <td>0.000000e+00</td>\n",
       "      <td>12.000000</td>\n",
       "      <td>10.000000</td>\n",
       "      <td>1.200000</td>\n",
       "      <td>1.000000</td>\n",
       "      <td>0.821120</td>\n",
       "      <td>82.000000</td>\n",
       "      <td>3443.000000</td>\n",
       "      <td>10937.000000</td>\n",
       "    </tr>\n",
       "    <tr>\n",
       "      <th>max</th>\n",
       "      <td>8.924206e+17</td>\n",
       "      <td>8.558181e+17</td>\n",
       "      <td>4.196984e+09</td>\n",
       "      <td>8.768508e+17</td>\n",
       "      <td>7.874618e+17</td>\n",
       "      <td>1776.000000</td>\n",
       "      <td>170.000000</td>\n",
       "      <td>177.600000</td>\n",
       "      <td>4.000000</td>\n",
       "      <td>1.000000</td>\n",
       "      <td>100.000000</td>\n",
       "      <td>79515.000000</td>\n",
       "      <td>132810.000000</td>\n",
       "    </tr>\n",
       "  </tbody>\n",
       "</table>\n",
       "</div>"
      ],
      "text/plain": [
       "           tweet_ID  reply_statusID  reply_userID  retweeted_statusID  \\\n",
       "count  2.073000e+03    2.073000e+03  2.073000e+03        2.073000e+03   \n",
       "mean   7.383634e+17    7.742237e+15  4.656567e+07        2.920433e+16   \n",
       "std    6.780118e+16    7.324912e+16  4.397275e+08        1.472009e+17   \n",
       "min    6.660209e+17    0.000000e+00  0.000000e+00        0.000000e+00   \n",
       "25%    6.764706e+17    0.000000e+00  0.000000e+00        0.000000e+00   \n",
       "50%    7.119681e+17    0.000000e+00  0.000000e+00        0.000000e+00   \n",
       "75%    7.931959e+17    0.000000e+00  0.000000e+00        0.000000e+00   \n",
       "max    8.924206e+17    8.558181e+17  4.196984e+09        8.768508e+17   \n",
       "\n",
       "       retweeted_userID   rating_num   rating_den       rating      img_num  \\\n",
       "count      2.073000e+03  2073.000000  2073.000000  2073.000000  2073.000000   \n",
       "mean       3.798659e+14    12.265798    10.511819     1.169987     1.203570   \n",
       "std        1.729537e+16    40.699924     7.180517     3.988880     0.561856   \n",
       "min        0.000000e+00     0.000000     2.000000     0.000000     1.000000   \n",
       "25%        0.000000e+00    10.000000    10.000000     1.000000     1.000000   \n",
       "50%        0.000000e+00    11.000000    10.000000     1.100000     1.000000   \n",
       "75%        0.000000e+00    12.000000    10.000000     1.200000     1.000000   \n",
       "max        7.874618e+17  1776.000000   170.000000   177.600000     4.000000   \n",
       "\n",
       "        conf_level  conf_percentage  retweet_count  favorite_count  \n",
       "count  2073.000000      2073.000000    2073.000000     2073.000000  \n",
       "mean      0.547893        54.278823    2976.089243     8556.718283  \n",
       "std       0.297916        29.770639    5054.897526    12098.640994  \n",
       "min       0.000010         0.000000      16.000000        0.000000  \n",
       "25%       0.298881        29.000000     634.000000     1674.000000  \n",
       "50%       0.541780        54.000000    1408.000000     3864.000000  \n",
       "75%       0.821120        82.000000    3443.000000    10937.000000  \n",
       "max       1.000000       100.000000   79515.000000   132810.000000  "
      ]
     },
     "execution_count": 73,
     "metadata": {},
     "output_type": "execute_result"
    }
   ],
   "source": [
    "master.describe()"
   ]
  },
  {
   "cell_type": "code",
   "execution_count": 74,
   "id": "a045f7b0",
   "metadata": {},
   "outputs": [
    {
     "data": {
      "text/plain": [
       "False"
      ]
     },
     "execution_count": 74,
     "metadata": {},
     "output_type": "execute_result"
    }
   ],
   "source": [
    "master.duplicated().any()"
   ]
  },
  {
   "cell_type": "markdown",
   "id": "0e201a21",
   "metadata": {},
   "source": [
    "<a id='data storing'></a>\n",
    "\n",
    "# DATA STORING"
   ]
  },
  {
   "cell_type": "code",
   "execution_count": 75,
   "id": "f95d77e7",
   "metadata": {},
   "outputs": [],
   "source": [
    "# export df as CSV\n",
    "# master.to_csv('twitter_archive_master.csv')"
   ]
  },
  {
   "cell_type": "markdown",
   "id": "26ff3d65",
   "metadata": {},
   "source": [
    "<a id='eda'></a>\n",
    "\n",
    "# EXPLORATORY DATA ANALYSIS"
   ]
  },
  {
   "cell_type": "markdown",
   "id": "b9699c64",
   "metadata": {},
   "source": [
    "<b>Questions to answer:</b><ul>\n",
    "- Which dog had the highest rating (name)?\n",
    "- Which breed of dog had the highest rating (with confidence level)?\n",
    "- The dogs with the highest ratings were in what stage?\n",
    "- Was there a correlation with the dog rating and number of retweeted tweet count and favorite count?</ul>"
   ]
  },
  {
   "cell_type": "markdown",
   "id": "226a6b3f",
   "metadata": {},
   "source": [
    "<b>Question 1. Which dog by name had the highest rating?</b>"
   ]
  },
  {
   "cell_type": "code",
   "execution_count": 76,
   "id": "cd612c84",
   "metadata": {},
   "outputs": [],
   "source": [
    "# create duplicate copy of df\n",
    "df = master.copy()"
   ]
  },
  {
   "cell_type": "markdown",
   "id": "f326754d",
   "metadata": {},
   "source": [
    "Drop columns that are not relevant to my analyis"
   ]
  },
  {
   "cell_type": "code",
   "execution_count": 77,
   "id": "46150fe8",
   "metadata": {},
   "outputs": [],
   "source": [
    "# drop columns\n",
    "df.drop(['reply_statusID',\n",
    "         'reply_userID',\n",
    "         'timestamp',\n",
    "         'source',\n",
    "         'text',\n",
    "         'retweeted_statusID',\n",
    "        'retweeted_userID',\n",
    "        'expanded_urls',\n",
    "        'jpg_url',\n",
    "        ], axis=1, inplace=True)"
   ]
  },
  {
   "cell_type": "code",
   "execution_count": 78,
   "id": "d6572291",
   "metadata": {},
   "outputs": [
    {
     "data": {
      "text/html": [
       "<div>\n",
       "<style scoped>\n",
       "    .dataframe tbody tr th:only-of-type {\n",
       "        vertical-align: middle;\n",
       "    }\n",
       "\n",
       "    .dataframe tbody tr th {\n",
       "        vertical-align: top;\n",
       "    }\n",
       "\n",
       "    .dataframe thead th {\n",
       "        text-align: right;\n",
       "    }\n",
       "</style>\n",
       "<table border=\"1\" class=\"dataframe\">\n",
       "  <thead>\n",
       "    <tr style=\"text-align: right;\">\n",
       "      <th></th>\n",
       "      <th>tweet_ID</th>\n",
       "      <th>rating_num</th>\n",
       "      <th>rating_den</th>\n",
       "      <th>name</th>\n",
       "      <th>dog_stage</th>\n",
       "      <th>rating</th>\n",
       "      <th>img_num</th>\n",
       "      <th>dog_breed</th>\n",
       "      <th>conf_level</th>\n",
       "      <th>conf_percentage</th>\n",
       "      <th>retweet_count</th>\n",
       "      <th>favorite_count</th>\n",
       "    </tr>\n",
       "  </thead>\n",
       "  <tbody>\n",
       "    <tr>\n",
       "      <th>0</th>\n",
       "      <td>892420643555336193</td>\n",
       "      <td>13</td>\n",
       "      <td>10</td>\n",
       "      <td>Phineas</td>\n",
       "      <td>unclassified</td>\n",
       "      <td>1.3</td>\n",
       "      <td>1</td>\n",
       "      <td>Unclassified</td>\n",
       "      <td>0.097049</td>\n",
       "      <td>9</td>\n",
       "      <td>8853</td>\n",
       "      <td>39467</td>\n",
       "    </tr>\n",
       "    <tr>\n",
       "      <th>1</th>\n",
       "      <td>892177421306343426</td>\n",
       "      <td>13</td>\n",
       "      <td>10</td>\n",
       "      <td>Tilly</td>\n",
       "      <td>unclassified</td>\n",
       "      <td>1.3</td>\n",
       "      <td>1</td>\n",
       "      <td>Chihuahua</td>\n",
       "      <td>0.323581</td>\n",
       "      <td>32</td>\n",
       "      <td>6514</td>\n",
       "      <td>33819</td>\n",
       "    </tr>\n",
       "    <tr>\n",
       "      <th>2</th>\n",
       "      <td>891815181378084864</td>\n",
       "      <td>12</td>\n",
       "      <td>10</td>\n",
       "      <td>Archie</td>\n",
       "      <td>unclassified</td>\n",
       "      <td>1.2</td>\n",
       "      <td>1</td>\n",
       "      <td>Chihuahua</td>\n",
       "      <td>0.716012</td>\n",
       "      <td>71</td>\n",
       "      <td>4328</td>\n",
       "      <td>25461</td>\n",
       "    </tr>\n",
       "    <tr>\n",
       "      <th>3</th>\n",
       "      <td>891689557279858688</td>\n",
       "      <td>13</td>\n",
       "      <td>10</td>\n",
       "      <td>Darla</td>\n",
       "      <td>unclassified</td>\n",
       "      <td>1.3</td>\n",
       "      <td>1</td>\n",
       "      <td>Labrador_Retriever</td>\n",
       "      <td>0.168086</td>\n",
       "      <td>16</td>\n",
       "      <td>8964</td>\n",
       "      <td>42908</td>\n",
       "    </tr>\n",
       "    <tr>\n",
       "      <th>4</th>\n",
       "      <td>891327558926688256</td>\n",
       "      <td>12</td>\n",
       "      <td>10</td>\n",
       "      <td>Franklin</td>\n",
       "      <td>unclassified</td>\n",
       "      <td>1.2</td>\n",
       "      <td>2</td>\n",
       "      <td>Basset</td>\n",
       "      <td>0.555712</td>\n",
       "      <td>55</td>\n",
       "      <td>9774</td>\n",
       "      <td>41048</td>\n",
       "    </tr>\n",
       "  </tbody>\n",
       "</table>\n",
       "</div>"
      ],
      "text/plain": [
       "             tweet_ID  rating_num  rating_den      name     dog_stage  rating  \\\n",
       "0  892420643555336193          13          10   Phineas  unclassified     1.3   \n",
       "1  892177421306343426          13          10     Tilly  unclassified     1.3   \n",
       "2  891815181378084864          12          10    Archie  unclassified     1.2   \n",
       "3  891689557279858688          13          10     Darla  unclassified     1.3   \n",
       "4  891327558926688256          12          10  Franklin  unclassified     1.2   \n",
       "\n",
       "   img_num           dog_breed  conf_level  conf_percentage  retweet_count  \\\n",
       "0        1        Unclassified    0.097049                9           8853   \n",
       "1        1           Chihuahua    0.323581               32           6514   \n",
       "2        1           Chihuahua    0.716012               71           4328   \n",
       "3        1  Labrador_Retriever    0.168086               16           8964   \n",
       "4        2              Basset    0.555712               55           9774   \n",
       "\n",
       "   favorite_count  \n",
       "0           39467  \n",
       "1           33819  \n",
       "2           25461  \n",
       "3           42908  \n",
       "4           41048  "
      ]
     },
     "execution_count": 78,
     "metadata": {},
     "output_type": "execute_result"
    }
   ],
   "source": [
    "# confirm dropped columns\n",
    "df.head()"
   ]
  },
  {
   "cell_type": "markdown",
   "id": "60d9b6ec",
   "metadata": {},
   "source": [
    "Check unique values count in ratings column"
   ]
  },
  {
   "cell_type": "code",
   "execution_count": 79,
   "id": "0b0f8fd7",
   "metadata": {},
   "outputs": [
    {
     "data": {
      "text/plain": [
       "1.200000      477\n",
       "1.000000      431\n",
       "1.100000      419\n",
       "1.300000      283\n",
       "0.900000      151\n",
       "0.800000       95\n",
       "0.700000       51\n",
       "1.400000       40\n",
       "0.500000       35\n",
       "0.600000       32\n",
       "0.300000       19\n",
       "0.400000       15\n",
       "0.200000       10\n",
       "0.100000        4\n",
       "0.000000        2\n",
       "2.700000        1\n",
       "7.500000        1\n",
       "3.428571        1\n",
       "1.500000        1\n",
       "177.600000      1\n",
       "0.818182        1\n",
       "0.636364        1\n",
       "2.600000        1\n",
       "42.000000       1\n",
       "Name: rating, dtype: int64"
      ]
     },
     "execution_count": 79,
     "metadata": {},
     "output_type": "execute_result"
    }
   ],
   "source": [
    "df.rating.value_counts()"
   ]
  },
  {
   "cell_type": "markdown",
   "id": "df00b25f",
   "metadata": {},
   "source": [
    "Ratings greater than 2 seems to be outliers"
   ]
  },
  {
   "cell_type": "code",
   "execution_count": 80,
   "id": "097fa113",
   "metadata": {},
   "outputs": [
    {
     "data": {
      "image/png": "[encoded data removed]",
      "text/plain": [
       "<Figure size 432x288 with 1 Axes>"
      ]
     },
     "metadata": {
      "needs_background": "light"
     },
     "output_type": "display_data"
    }
   ],
   "source": [
    "df.rating.plot(kind='box');"
   ]
  },
  {
   "cell_type": "markdown",
   "id": "94f3955f",
   "metadata": {},
   "source": [
    "Check counts of ratings greater than 2"
   ]
  },
  {
   "cell_type": "code",
   "execution_count": 81,
   "id": "78623f5d",
   "metadata": {},
   "outputs": [
    {
     "data": {
      "text/plain": [
       "6"
      ]
     },
     "execution_count": 81,
     "metadata": {},
     "output_type": "execute_result"
    }
   ],
   "source": [
    "# check sum of counts for ratings greater than 2\n",
    "np.sum(df.rating > 2)"
   ]
  },
  {
   "cell_type": "code",
   "execution_count": 193,
   "id": "6e079e4b",
   "metadata": {},
   "outputs": [
    {
     "data": {
      "text/plain": [
       "2067"
      ]
     },
     "execution_count": 193,
     "metadata": {},
     "output_type": "execute_result"
    }
   ],
   "source": [
    "# dimension of df\n",
    "df.shape[0]"
   ]
  },
  {
   "cell_type": "markdown",
   "id": "65b6f103",
   "metadata": {},
   "source": [
    "The number of outlier values for ratings in comparison with records (2067 - 6 = 2061) in the df is negligible, as such, all df.rating > 2 will be dropped."
   ]
  },
  {
   "cell_type": "code",
   "execution_count": 83,
   "id": "7b3d1b87",
   "metadata": {},
   "outputs": [],
   "source": [
    "# Drop outliers in rating columns\n",
    "df.drop(df[df.rating > 2].index, inplace = True)"
   ]
  },
  {
   "cell_type": "markdown",
   "id": "5091e758",
   "metadata": {},
   "source": [
    "Change all 'None' values in 'name' column to 'No_name'"
   ]
  },
  {
   "cell_type": "code",
   "execution_count": 168,
   "id": "a27b1ad6",
   "metadata": {},
   "outputs": [],
   "source": [
    "# change 'None' to 'No_name' in name column\n",
    "df.loc[df.name == 'None', 'name'] = 'No_name'"
   ]
  },
  {
   "cell_type": "markdown",
   "id": "3672f4c8",
   "metadata": {},
   "source": [
    "Check highest rating value"
   ]
  },
  {
   "cell_type": "code",
   "execution_count": 84,
   "id": "566f4e78",
   "metadata": {},
   "outputs": [
    {
     "data": {
      "text/plain": [
       "1.5"
      ]
     },
     "execution_count": 84,
     "metadata": {},
     "output_type": "execute_result"
    }
   ],
   "source": [
    "# get highest rating\n",
    "df.rating.max()"
   ]
  },
  {
   "cell_type": "markdown",
   "id": "22653113",
   "metadata": {},
   "source": [
    "Check counts for dog names with rating of 1.5"
   ]
  },
  {
   "cell_type": "code",
   "execution_count": 251,
   "id": "e2e1a677",
   "metadata": {},
   "outputs": [
    {
     "data": {
      "text/plain": [
       "No_name    1\n",
       "Name: name, dtype: int64"
      ]
     },
     "execution_count": 251,
     "metadata": {},
     "output_type": "execute_result"
    }
   ],
   "source": [
    "df[df.rating == 1.5].name.value_counts()"
   ]
  },
  {
   "cell_type": "markdown",
   "id": "ac962e8b",
   "metadata": {},
   "source": [
    "Theres's only one occurrence and the name of the dog is unknown. The next highest rating is 1.4"
   ]
  },
  {
   "cell_type": "code",
   "execution_count": 221,
   "id": "8382b83b",
   "metadata": {},
   "outputs": [
    {
     "data": {
      "text/plain": [
       "No_name     16\n",
       "One          2\n",
       "Walter       2\n",
       "Sunny        2\n",
       "Bo           2\n",
       "Cassie       1\n",
       "Ollie        1\n",
       "Gary         1\n",
       "Sundance     1\n",
       "Gabe         1\n",
       "Doobert      1\n",
       "Smiley       1\n",
       "Kuyu         1\n",
       "Such         1\n",
       "Iggy         1\n",
       "General      1\n",
       "Cermet       1\n",
       "Clifford     1\n",
       "Emmy         1\n",
       "A            1\n",
       "Laika        1\n",
       "Name: name, dtype: int64"
      ]
     },
     "execution_count": 221,
     "metadata": {},
     "output_type": "execute_result"
    }
   ],
   "source": [
    "df[df.rating == 1.4].name.value_counts()"
   ]
  },
  {
   "cell_type": "markdown",
   "id": "4ca43ca7",
   "metadata": {},
   "source": [
    "There are more dogs with rating of 1.4. So, we use 1.4 as benchmark for dog highest rating."
   ]
  },
  {
   "cell_type": "code",
   "execution_count": null,
   "id": "75031b8a",
   "metadata": {},
   "outputs": [],
   "source": []
  },
  {
   "cell_type": "code",
   "execution_count": 286,
   "id": "ffe2278e",
   "metadata": {},
   "outputs": [
    {
     "data": {
      "image/png": "[encoded data removed]",
      "text/plain": [
       "<Figure size 720x360 with 1 Axes>"
      ]
     },
     "metadata": {
      "needs_background": "light"
     },
     "output_type": "display_data"
    }
   ],
   "source": [
    "# filter dogs such that they have rating 1.4, a given name and known dog breed\n",
    "top_name = df.loc[(df.rating == 1.4) \n",
    "               & (df.name != 'No_name')\n",
    "               & (df['dog_breed'] != 'Unclassified')\n",
    "               & (df['dog_stage'] != 'unclassified'),\n",
    "                  'name']\n",
    "\n",
    "# bar chart of top 5 dogs by name with highest rating.\n",
    "top_name.value_counts()[:5].sort_values(ascending=False).plot(kind='bar',\n",
    "                                                                  ylabel='Number of Counts',\n",
    "                                                                  xlabel='Dog Name',\n",
    "                                                                  title = 'Top 5 Rated Dogs by Name',\n",
    "                                                                   figsize=(10,5),\n",
    "                                                                  rot=0);"
   ]
  },
  {
   "cell_type": "markdown",
   "id": "e866a00f",
   "metadata": {},
   "source": [
    "<b>Rationale:</b> The dog named Bo, had the highest rating and number of counts for with known dog stage and breed"
   ]
  },
  {
   "cell_type": "markdown",
   "id": "350fbd28",
   "metadata": {},
   "source": [
    "<b>Question 2: Which breed of dog had the highest rating? (confidence level)</b>"
   ]
  },
  {
   "cell_type": "code",
   "execution_count": 327,
   "id": "854eb1cc",
   "metadata": {},
   "outputs": [
    {
     "data": {
      "image/png": "[encoded data removed]",
      "text/plain": [
       "<Figure size 720x360 with 1 Axes>"
      ]
     },
     "metadata": {
      "needs_background": "light"
     },
     "output_type": "display_data"
    }
   ],
   "source": [
    "# top breed by value counts\n",
    "top_breed = df.loc[(df.rating == 1.4) \n",
    "               & (df.name != 'No_name') \n",
    "               & (df['dog_stage'] != 'unclassified')\n",
    "               & (df['dog_breed'] != 'Unclassified')]\n",
    "\n",
    "# bar plot for top rated dogs by breed\n",
    "top_breed['dog_breed'].value_counts()[:5].sort_values(ascending=True).plot(kind='barh',\n",
    "                                                                  xlabel='Dog Breed',\n",
    "                                                                  title = 'Top 5 Rated Dogs by Breed',\n",
    "                                                                   figsize=(10,5));                                                                   "
   ]
  },
  {
   "cell_type": "markdown",
   "id": "930be031",
   "metadata": {},
   "source": [
    "Standard_Poodle (1st), Pembroke (2nd) and Pomeranian (3rd) happen to be the top 3 rated dog breeds."
   ]
  },
  {
   "cell_type": "markdown",
   "id": "fa82c671",
   "metadata": {},
   "source": [
    "Dog breeds by confidence level"
   ]
  },
  {
   "cell_type": "code",
   "execution_count": 348,
   "id": "ff6617a2",
   "metadata": {},
   "outputs": [
    {
     "data": {
      "image/png": "[encoded data removed]",
      "text/plain": [
       "<Figure size 720x360 with 1 Axes>"
      ]
     },
     "metadata": {
      "needs_background": "light"
     },
     "output_type": "display_data"
    }
   ],
   "source": [
    "# filter df\n",
    "top_breed = df.loc[(df.rating == 1.4) \n",
    "               & (df.name != 'No_name') \n",
    "               & (df['dog_stage'] != 'unclassified')\n",
    "               & (df['dog_breed'] != 'Unclassified')]\n",
    "\n",
    "# sort top_breed in descending order\n",
    "top_breed_sorted = top_breed.sort_values('conf_percentage', ascending=False)\n",
    "\n",
    "# plot bar chart via seaborn\n",
    "plt.figure(figsize = (10,5))  # set figure size\n",
    "sns.barplot(x='dog_breed',\n",
    "            y='conf_percentage',\n",
    "            data=top_breed_sorted,\n",
    "            capsize=.1).set(title='Dog Breeds vs Confidence levels');\n",
    "\n",
    "degrees = 45  # rotate xticks\n",
    "plt.xticks(rotation=degrees);"
   ]
  },
  {
   "cell_type": "code",
   "execution_count": 347,
   "id": "0dbfefb8",
   "metadata": {},
   "outputs": [
    {
     "data": {
      "image/png": "[encoded data removed]",
      "text/plain": [
       "<Figure size 720x360 with 1 Axes>"
      ]
     },
     "metadata": {
      "needs_background": "light"
     },
     "output_type": "display_data"
    }
   ],
   "source": [
    "# plot histogram to see count distribution among breeds\n",
    "plt.figure(figsize = (10,5))  # set figure size\n",
    "sns.histplot(data=top_breed_sorted, x='dog_breed', kde=True).set(title='Dog breeds vs Counts');\n",
    "degrees = 45  # rotate xticks\n",
    "plt.xticks(rotation=degrees);"
   ]
  },
  {
   "cell_type": "code",
   "execution_count": 333,
   "id": "8f75f50f",
   "metadata": {},
   "outputs": [
    {
     "data": {
      "text/html": [
       "<div>\n",
       "<style scoped>\n",
       "    .dataframe tbody tr th:only-of-type {\n",
       "        vertical-align: middle;\n",
       "    }\n",
       "\n",
       "    .dataframe tbody tr th {\n",
       "        vertical-align: top;\n",
       "    }\n",
       "\n",
       "    .dataframe thead th {\n",
       "        text-align: right;\n",
       "    }\n",
       "</style>\n",
       "<table border=\"1\" class=\"dataframe\">\n",
       "  <thead>\n",
       "    <tr style=\"text-align: right;\">\n",
       "      <th></th>\n",
       "      <th>tweet_ID</th>\n",
       "      <th>rating_num</th>\n",
       "      <th>rating_den</th>\n",
       "      <th>name</th>\n",
       "      <th>dog_stage</th>\n",
       "      <th>rating</th>\n",
       "      <th>img_num</th>\n",
       "      <th>dog_breed</th>\n",
       "      <th>conf_level</th>\n",
       "      <th>conf_percentage</th>\n",
       "      <th>retweet_count</th>\n",
       "      <th>favorite_count</th>\n",
       "    </tr>\n",
       "  </thead>\n",
       "  <tbody>\n",
       "    <tr>\n",
       "      <th>355</th>\n",
       "      <td>819015337530290176</td>\n",
       "      <td>14</td>\n",
       "      <td>10</td>\n",
       "      <td>Bo</td>\n",
       "      <td>Doggo</td>\n",
       "      <td>1.4</td>\n",
       "      <td>1</td>\n",
       "      <td>Standard_Poodle</td>\n",
       "      <td>0.351308</td>\n",
       "      <td>35</td>\n",
       "      <td>42228</td>\n",
       "      <td>0</td>\n",
       "    </tr>\n",
       "    <tr>\n",
       "      <th>358</th>\n",
       "      <td>819004803107983360</td>\n",
       "      <td>14</td>\n",
       "      <td>10</td>\n",
       "      <td>Bo</td>\n",
       "      <td>Doggo</td>\n",
       "      <td>1.4</td>\n",
       "      <td>1</td>\n",
       "      <td>Standard_Poodle</td>\n",
       "      <td>0.351308</td>\n",
       "      <td>35</td>\n",
       "      <td>42228</td>\n",
       "      <td>95450</td>\n",
       "    </tr>\n",
       "  </tbody>\n",
       "</table>\n",
       "</div>"
      ],
      "text/plain": [
       "               tweet_ID  rating_num  rating_den name dog_stage  rating  \\\n",
       "355  819015337530290176          14          10   Bo     Doggo     1.4   \n",
       "358  819004803107983360          14          10   Bo     Doggo     1.4   \n",
       "\n",
       "     img_num        dog_breed  conf_level  conf_percentage  retweet_count  \\\n",
       "355        1  Standard_Poodle    0.351308               35          42228   \n",
       "358        1  Standard_Poodle    0.351308               35          42228   \n",
       "\n",
       "     favorite_count  \n",
       "355               0  \n",
       "358           95450  "
      ]
     },
     "execution_count": 333,
     "metadata": {},
     "output_type": "execute_result"
    }
   ],
   "source": [
    "top_breed_name = df.loc[(df.rating == 1.4) \n",
    "               & (df.name == 'Bo')  # since Bo happens to be the name of the dog with most count\n",
    "               & (df['dog_stage'] != 'unclassified')\n",
    "               & (df['dog_breed'] != 'Unclassified')]\n",
    "\n",
    "\n",
    "top_breed_name.head()"
   ]
  },
  {
   "cell_type": "markdown",
   "id": "76d3331d",
   "metadata": {},
   "source": [
    "<b>Rationale:</b> Though Pomeranian, have the highest confidence level by AI picture prediction to be the top most rated dog breed, the Standard_Poodle, by verifiable data prove to be the top rated breed."
   ]
  },
  {
   "cell_type": "markdown",
   "id": "43c75f86",
   "metadata": {},
   "source": [
    "<b>Question 3: The dogs with the highest ratings were in what stage?</b>"
   ]
  },
  {
   "cell_type": "code",
   "execution_count": 350,
   "id": "bde30006",
   "metadata": {},
   "outputs": [
    {
     "data": {
      "image/png": "[encoded data removed]",
      "text/plain": [
       "<Figure size 720x360 with 1 Axes>"
      ]
     },
     "metadata": {
      "needs_background": "light"
     },
     "output_type": "display_data"
    }
   ],
   "source": [
    "# plot histogram with df\n",
    "plt.figure(figsize = (10,5))  # set figure size\n",
    "sns.histplot(data=df, x='dog_stage', kde=True);"
   ]
  },
  {
   "cell_type": "code",
   "execution_count": 349,
   "id": "d130139c",
   "metadata": {},
   "outputs": [
    {
     "data": {
      "image/png": "[encoded data removed]",
      "text/plain": [
       "<Figure size 720x360 with 1 Axes>"
      ]
     },
     "metadata": {
      "needs_background": "light"
     },
     "output_type": "display_data"
    }
   ],
   "source": [
    "# Plot histogram with top_breed df\n",
    "plt.figure(figsize = (10,5))  # set figure size\n",
    "sns.histplot(data=top_breed, x='dog_stage', kde=True).set(title='Dog Stage vs Counts for Top Rated Dogs');"
   ]
  },
  {
   "cell_type": "markdown",
   "id": "ebf8d8b2",
   "metadata": {},
   "source": [
    "<b>Rationale:</b> Though majority of dogs from the original dataframe were not classified, Doggo, is the most prevalent stage for the top rated dogs."
   ]
  },
  {
   "cell_type": "markdown",
   "id": "ee3f959e",
   "metadata": {},
   "source": [
    "<b>Question 4: Was there a correlation with the dog rating and number of retweeted tweet count and favorite count?</b>"
   ]
  },
  {
   "cell_type": "code",
   "execution_count": 359,
   "id": "ecf448b7",
   "metadata": {},
   "outputs": [
    {
     "data": {
      "image/png": "[encoded data removed]",
      "text/plain": [
       "<Figure size 1080x1080 with 81 Axes>"
      ]
     },
     "metadata": {
      "needs_background": "light"
     },
     "output_type": "display_data"
    }
   ],
   "source": [
    "# General scatter plot preview of all variables in the df\n",
    "pd.plotting.scatter_matrix(df, figsize = (15,15));"
   ]
  },
  {
   "cell_type": "code",
   "execution_count": 369,
   "id": "3842829a",
   "metadata": {},
   "outputs": [
    {
     "data": {
      "image/png": "[encoded data removed]",
      "text/plain": [
       "<Figure size 720x360 with 1 Axes>"
      ]
     },
     "metadata": {
      "needs_background": "light"
     },
     "output_type": "display_data"
    }
   ],
   "source": [
    "# scatter plot of rating as the independent variable against retweet count\n",
    "plt.figure(figsize = (10,5))  # set figure size\n",
    "sns.regplot(x='rating', y='retweet_count', data=df).set(title='Rating vs Retweet_count');"
   ]
  },
  {
   "cell_type": "markdown",
   "id": "4472f722",
   "metadata": {},
   "source": [
    "<b>Rationale:</b> A build up of positive correlation can be observed from rating 0.6 and somewhere \n",
    "    just above zero (0) retweet count, with some outliers."
   ]
  },
  {
   "cell_type": "code",
   "execution_count": 368,
   "id": "d395bb0f",
   "metadata": {},
   "outputs": [
    {
     "data": {
      "image/png": "[encoded data removed]",
      "text/plain": [
       "<Figure size 720x360 with 1 Axes>"
      ]
     },
     "metadata": {
      "needs_background": "light"
     },
     "output_type": "display_data"
    }
   ],
   "source": [
    "# scatter plot of rating as the independent variable against retweet count\n",
    "plt.figure(figsize = (10,5))  # set figure size\n",
    "sns.regplot(x='rating', y='favorite_count', data=df).set(title='Rating vs Favorite_count');"
   ]
  },
  {
   "cell_type": "markdown",
   "id": "b4870727",
   "metadata": {},
   "source": [
    "<b>Rationale:</b> There's a visible progressive positive correlation between the dog ratings and number of favorite counts."
   ]
  },
  {
   "cell_type": "code",
   "execution_count": 367,
   "id": "c9a2c1e1",
   "metadata": {},
   "outputs": [
    {
     "data": {
      "image/png": "[encoded data removed]",
      "text/plain": [
       "<Figure size 720x360 with 1 Axes>"
      ]
     },
     "metadata": {
      "needs_background": "light"
     },
     "output_type": "display_data"
    }
   ],
   "source": [
    "# scatter plot of favorite count against retweet count\n",
    "plt.figure(figsize = (10,5))  # set figure size\n",
    "sns.regplot(x='favorite_count', \n",
    "                y='retweet_count',\n",
    "                data=df).set(title='Retweet_count vs Favorite_count');"
   ]
  },
  {
   "cell_type": "markdown",
   "id": "9214ebd2",
   "metadata": {},
   "source": [
    "<b>Rationale:</b> There seem to be an initial strong positive correlation between retweet and favorite count."
   ]
  },
  {
   "cell_type": "markdown",
   "id": "e0c0e1b6",
   "metadata": {},
   "source": [
    "<i><b>Note:</b>Details of overall insights, conclusions and limitations are contained in the wrangle_report and act_report PDFs attached.</i>"
   ]
  },
  {
   "cell_type": "code",
   "execution_count": null,
   "id": "1871b281",
   "metadata": {},
   "outputs": [],
   "source": []
  }
 ],
 "metadata": {
  "kernelspec": {
   "display_name": "Python 3 (ipykernel)",
   "language": "python",
   "name": "python3"
  },
  "language_info": {
   "codemirror_mode": {
    "name": "ipython",
    "version": 3
   },
   "file_extension": ".py",
   "mimetype": "text/x-python",
   "name": "python",
   "nbconvert_exporter": "python",
   "pygments_lexer": "ipython3",
   "version": "3.9.0"
  }
 },
 "nbformat": 4,
 "nbformat_minor": 5
}
