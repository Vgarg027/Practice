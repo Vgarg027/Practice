{
 "cells": [
  {
   "cell_type": "markdown",
   "metadata": {},
   "source": [
    "# <strong><em> Project n°4: Analysis of \"WeRateDogs\" Twitter data</em></strong> <img src=\"files/doggo.jpg\" width=\"200\" height=\"100\" style=\"float:right\">"
   ]
  },
  {
   "cell_type": "markdown",
   "metadata": {},
   "source": [
    "# Table of Contents\n",
    "1. [Gather data](#gather)\n",
    "\n",
    "\n",
    "2. [Assess data](#assess)\n",
    "    \n",
    "    2.1 [Visual assess](#visual)\n",
    "    \n",
    "    2.2 [Programatic assess](#prog)   \n",
    "    \n",
    "    \n",
    "3. [Cleaning data](#clean)\n",
    "\n",
    "\n",
    "4. [Data Insights](#ins)"
   ]
  },
  {
   "cell_type": "markdown",
   "metadata": {},
   "source": [
    "## 1. Gather data\n",
    "<a id='gather'> </a>"
   ]
  },
  {
   "cell_type": "markdown",
   "metadata": {},
   "source": [
    "We first import all the libraries required for this analysis. "
   ]
  },
  {
   "cell_type": "code",
   "execution_count": 9,
   "metadata": {},
   "outputs": [],
   "source": [
    "import pandas as pd\n",
    "import numpy as np\n",
    "import json\n",
    "import requests\n",
    "import matplotlib.pyplot as plt\n",
    "%matplotlib inline"
   ]
  },
  {
   "cell_type": "markdown",
   "metadata": {},
   "source": [
    "Then we import the data from the different sources"
   ]
  },
  {
   "cell_type": "code",
   "execution_count": 21,
   "metadata": {},
   "outputs": [],
   "source": [
    "twitter_archive = pd.read_csv(\"twitter-archive-enhanced.csv\")"
   ]
  },
  {
   "cell_type": "code",
   "execution_count": 22,
   "metadata": {},
   "outputs": [],
   "source": [
    "tweets_list = []\n",
    "tweets_json = open('tweet.txt',\"r\") \n",
    "for tweet in tweets_json:\n",
    "    tweets_list.append(json.loads(tweet))\n",
    "df_tweets = pd.DataFrame.from_dict(data = tweets_list)"
   ]
  },
  {
   "cell_type": "code",
   "execution_count": 23,
   "metadata": {},
   "outputs": [],
   "source": [
    "im_predict = pd.read_csv(\"image-predictions.tsv\", sep='\\t')"
   ]
  },
  {
   "cell_type": "markdown",
   "metadata": {},
   "source": [
    "## 2. Assess data\n",
    "<a id='assess'> </a>"
   ]
  },
  {
   "cell_type": "markdown",
   "metadata": {},
   "source": [
    "### a) We visualy aseess the data\n",
    "<a id='visual'> </a>"
   ]
  },
  {
   "cell_type": "code",
   "execution_count": 24,
   "metadata": {},
   "outputs": [],
   "source": [
    "# Display the twitter archive table:\n",
    "#twitter_archive"
   ]
  },
  {
   "cell_type": "code",
   "execution_count": 25,
   "metadata": {},
   "outputs": [],
   "source": [
    "# Display the json file table:\n",
    "#df_tweets"
   ]
  },
  {
   "cell_type": "code",
   "execution_count": 26,
   "metadata": {},
   "outputs": [],
   "source": [
    "# Display the twitter prediction table:\n",
    "#im_predict"
   ]
  },
  {
   "cell_type": "markdown",
   "metadata": {},
   "source": [
    "### b) We programatic assess the data\n",
    "<a id='prog'> </a>"
   ]
  },
  {
   "cell_type": "markdown",
   "metadata": {},
   "source": [
    "b.1) Twitter_archive: "
   ]
  },
  {
   "cell_type": "code",
   "execution_count": 27,
   "metadata": {
    "scrolled": true
   },
   "outputs": [],
   "source": [
    "#twitter_archive.head()"
   ]
  },
  {
   "cell_type": "code",
   "execution_count": 28,
   "metadata": {},
   "outputs": [],
   "source": [
    "#twitter_archive.describe()"
   ]
  },
  {
   "cell_type": "code",
   "execution_count": 29,
   "metadata": {
    "scrolled": true
   },
   "outputs": [],
   "source": [
    "#twitter_archive.info()"
   ]
  },
  {
   "cell_type": "markdown",
   "metadata": {},
   "source": [
    "b.2) df_tweets"
   ]
  },
  {
   "cell_type": "code",
   "execution_count": 30,
   "metadata": {},
   "outputs": [
    {
     "name": "stdout",
     "output_type": "stream",
     "text": [
      "<class 'pandas.core.frame.DataFrame'>\n",
      "RangeIndex: 2354 entries, 0 to 2353\n",
      "Data columns (total 31 columns):\n",
      "contributors                     0 non-null object\n",
      "coordinates                      0 non-null object\n",
      "created_at                       2354 non-null object\n",
      "display_text_range               2354 non-null object\n",
      "entities                         2354 non-null object\n",
      "extended_entities                2073 non-null object\n",
      "favorite_count                   2354 non-null int64\n",
      "favorited                        2354 non-null bool\n",
      "full_text                        2354 non-null object\n",
      "geo                              0 non-null object\n",
      "id                               2354 non-null int64\n",
      "id_str                           2354 non-null object\n",
      "in_reply_to_screen_name          78 non-null object\n",
      "in_reply_to_status_id            78 non-null float64\n",
      "in_reply_to_status_id_str        78 non-null object\n",
      "in_reply_to_user_id              78 non-null float64\n",
      "in_reply_to_user_id_str          78 non-null object\n",
      "is_quote_status                  2354 non-null bool\n",
      "lang                             2354 non-null object\n",
      "place                            1 non-null object\n",
      "possibly_sensitive               2211 non-null object\n",
      "possibly_sensitive_appealable    2211 non-null object\n",
      "quoted_status                    28 non-null object\n",
      "quoted_status_id                 29 non-null float64\n",
      "quoted_status_id_str             29 non-null object\n",
      "retweet_count                    2354 non-null int64\n",
      "retweeted                        2354 non-null bool\n",
      "retweeted_status                 179 non-null object\n",
      "source                           2354 non-null object\n",
      "truncated                        2354 non-null bool\n",
      "user                             2354 non-null object\n",
      "dtypes: bool(4), float64(3), int64(3), object(21)\n",
      "memory usage: 505.8+ KB\n"
     ]
    }
   ],
   "source": [
    "df_tweets.info()"
   ]
  },
  {
   "cell_type": "code",
   "execution_count": 31,
   "metadata": {},
   "outputs": [],
   "source": [
    "#df_tweets.info()"
   ]
  },
  {
   "cell_type": "code",
   "execution_count": 32,
   "metadata": {},
   "outputs": [],
   "source": [
    "#df_tweets.describe()"
   ]
  },
  {
   "cell_type": "markdown",
   "metadata": {},
   "source": [
    "b.3) im_predict"
   ]
  },
  {
   "cell_type": "code",
   "execution_count": 33,
   "metadata": {},
   "outputs": [],
   "source": [
    "#im_predict.head()"
   ]
  },
  {
   "cell_type": "code",
   "execution_count": 34,
   "metadata": {},
   "outputs": [],
   "source": [
    "#im_predict.info()"
   ]
  },
  {
   "cell_type": "code",
   "execution_count": 35,
   "metadata": {},
   "outputs": [],
   "source": [
    "#im_predict.describe()"
   ]
  },
  {
   "cell_type": "markdown",
   "metadata": {},
   "source": [
    "#### Quality\n",
    "1) Some rows are retweets so they do not count for the analysis\n",
    "\n",
    "2) The are also some tweets that are replies so they won't be considered in the analysis\n",
    "\n",
    "3) Missing data in the name of the dogs\n",
    "\n",
    "4) In the Twitter_archive some Names have just one letter\n",
    "\n",
    "5) The rating numerator has values over 1000\n",
    "\n",
    "6) The rating denominator has values over 10\n",
    "\n",
    "7) The RTs from the df_tweets data base must be remove for the analysis\n",
    "\n",
    "8) The replies from the df_tweets data base must be remove for the analysis\n",
    "\n",
    "9) Date column in the tweets_df has a different format than the date column in twitter archive\n",
    "\n",
    "\n",
    "\n",
    "#### Tidiness\n",
    "1) Dates columns should be splited in date and time columns\n",
    "\n",
    "2) The twitter archive, predictions and the tweets df should be one table\n",
    "\n",
    "3) The stage of the dogs should be one column instead of 4\n",
    "\n"
   ]
  },
  {
   "cell_type": "markdown",
   "metadata": {},
   "source": [
    "## 3. Cleaning data\n",
    "<a id='clean'> </a>"
   ]
  },
  {
   "cell_type": "markdown",
   "metadata": {},
   "source": [
    "We first create copies of every data set to clean the data\n",
    "##### Quality Issues:"
   ]
  },
  {
   "cell_type": "code",
   "execution_count": 36,
   "metadata": {},
   "outputs": [],
   "source": [
    "twitter_archive_clean = twitter_archive.copy()"
   ]
  },
  {
   "cell_type": "code",
   "execution_count": 37,
   "metadata": {},
   "outputs": [],
   "source": [
    "df_tweets_clean = df_tweets.copy()"
   ]
  },
  {
   "cell_type": "code",
   "execution_count": 38,
   "metadata": {},
   "outputs": [],
   "source": [
    "im_predict_clean = im_predict.copy()"
   ]
  },
  {
   "cell_type": "markdown",
   "metadata": {},
   "source": [
    "1) **Define**: \n",
    "\n",
    "The number of tweets that must be removed from the df because they are RTs is calculated:"
   ]
  },
  {
   "cell_type": "markdown",
   "metadata": {},
   "source": [
    "**Code**"
   ]
  },
  {
   "cell_type": "code",
   "execution_count": 39,
   "metadata": {},
   "outputs": [
    {
     "data": {
      "text/plain": [
       "181"
      ]
     },
     "execution_count": 39,
     "metadata": {},
     "output_type": "execute_result"
    }
   ],
   "source": [
    "sum(twitter_archive_clean.retweeted_status_id.notnull())"
   ]
  },
  {
   "cell_type": "code",
   "execution_count": 40,
   "metadata": {},
   "outputs": [],
   "source": [
    "twitter_archive_clean = twitter_archive_clean[-twitter_archive_clean.retweeted_status_id.notnull()]"
   ]
  },
  {
   "cell_type": "markdown",
   "metadata": {},
   "source": [
    "**Test**"
   ]
  },
  {
   "cell_type": "code",
   "execution_count": 41,
   "metadata": {},
   "outputs": [
    {
     "data": {
      "text/plain": [
       "0"
      ]
     },
     "execution_count": 41,
     "metadata": {},
     "output_type": "execute_result"
    }
   ],
   "source": [
    "sum(twitter_archive_clean.retweeted_status_id.notnull())"
   ]
  },
  {
   "cell_type": "markdown",
   "metadata": {},
   "source": [
    "2) **Define**:\n",
    "\n",
    "The number of tweets that must be removed from the df because they are replies is calculated:"
   ]
  },
  {
   "cell_type": "markdown",
   "metadata": {},
   "source": [
    "**Code**"
   ]
  },
  {
   "cell_type": "code",
   "execution_count": 42,
   "metadata": {},
   "outputs": [
    {
     "data": {
      "text/plain": [
       "78"
      ]
     },
     "execution_count": 42,
     "metadata": {},
     "output_type": "execute_result"
    }
   ],
   "source": [
    "sum(twitter_archive_clean.in_reply_to_status_id.notnull())"
   ]
  },
  {
   "cell_type": "code",
   "execution_count": 43,
   "metadata": {},
   "outputs": [],
   "source": [
    "twitter_archive_clean = twitter_archive_clean[-twitter_archive_clean.in_reply_to_status_id.notnull()]"
   ]
  },
  {
   "cell_type": "markdown",
   "metadata": {},
   "source": [
    "**Test**"
   ]
  },
  {
   "cell_type": "code",
   "execution_count": 44,
   "metadata": {},
   "outputs": [
    {
     "data": {
      "text/plain": [
       "0"
      ]
     },
     "execution_count": 44,
     "metadata": {},
     "output_type": "execute_result"
    }
   ],
   "source": [
    "sum(twitter_archive_clean.in_reply_to_status_id.notnull())"
   ]
  },
  {
   "cell_type": "markdown",
   "metadata": {},
   "source": [
    "3) **Define**: \n",
    "\n",
    "We deal with the tweets with no dogs name"
   ]
  },
  {
   "cell_type": "markdown",
   "metadata": {},
   "source": [
    "**Code**"
   ]
  },
  {
   "cell_type": "code",
   "execution_count": 45,
   "metadata": {},
   "outputs": [
    {
     "data": {
      "text/plain": [
       "2097"
      ]
     },
     "execution_count": 45,
     "metadata": {},
     "output_type": "execute_result"
    }
   ],
   "source": [
    "len(twitter_archive_clean.name)"
   ]
  },
  {
   "cell_type": "code",
   "execution_count": 46,
   "metadata": {},
   "outputs": [
    {
     "data": {
      "text/plain": [
       "1494"
      ]
     },
     "execution_count": 46,
     "metadata": {},
     "output_type": "execute_result"
    }
   ],
   "source": [
    "len(twitter_archive_clean[twitter_archive_clean.name != \"None\"])"
   ]
  },
  {
   "cell_type": "markdown",
   "metadata": {},
   "source": [
    "Since there are too many missing data in this variable, we decided not to use it"
   ]
  },
  {
   "cell_type": "markdown",
   "metadata": {},
   "source": [
    "4) **Define**: \n",
    "\n",
    "We look for tweets with wrong dog's names:"
   ]
  },
  {
   "cell_type": "markdown",
   "metadata": {},
   "source": [
    "**Code**"
   ]
  },
  {
   "cell_type": "code",
   "execution_count": 47,
   "metadata": {},
   "outputs": [],
   "source": [
    "#twitter_archive_clean.groupby(['name']).count()"
   ]
  },
  {
   "cell_type": "markdown",
   "metadata": {},
   "source": [
    "Since it's not possible to fix the problems in the recolection of the names of the dogs, we won't use this column. The names were colected from the tweet if they started with \"This is\" but not all tweets said the name after those words so there are too many errors. "
   ]
  },
  {
   "cell_type": "markdown",
   "metadata": {},
   "source": [
    "5) **Define**: \n",
    "\n",
    "The rating numerator has some values over 1000"
   ]
  },
  {
   "cell_type": "markdown",
   "metadata": {},
   "source": [
    "**Code**"
   ]
  },
  {
   "cell_type": "code",
   "execution_count": 48,
   "metadata": {},
   "outputs": [
    {
     "data": {
      "text/plain": [
       "14.0"
      ]
     },
     "execution_count": 48,
     "metadata": {},
     "output_type": "execute_result"
    }
   ],
   "source": [
    "np.percentile(twitter_archive_clean.rating_numerator, 99)"
   ]
  },
  {
   "cell_type": "code",
   "execution_count": 49,
   "metadata": {},
   "outputs": [],
   "source": [
    "twitter_archive_clean = twitter_archive_clean[twitter_archive_clean.rating_numerator<15]"
   ]
  },
  {
   "cell_type": "markdown",
   "metadata": {},
   "source": [
    "**Test**"
   ]
  },
  {
   "cell_type": "code",
   "execution_count": 50,
   "metadata": {},
   "outputs": [
    {
     "data": {
      "text/plain": [
       "14.0"
      ]
     },
     "execution_count": 50,
     "metadata": {},
     "output_type": "execute_result"
    }
   ],
   "source": [
    "np.percentile(twitter_archive_clean.rating_numerator, 99)"
   ]
  },
  {
   "cell_type": "markdown",
   "metadata": {},
   "source": [
    "6) **Define**: \n",
    "\n",
    "The rating denominator has some values over 10"
   ]
  },
  {
   "cell_type": "markdown",
   "metadata": {},
   "source": [
    "**Code**"
   ]
  },
  {
   "cell_type": "code",
   "execution_count": 51,
   "metadata": {},
   "outputs": [
    {
     "data": {
      "text/plain": [
       "10.0"
      ]
     },
     "execution_count": 51,
     "metadata": {},
     "output_type": "execute_result"
    }
   ],
   "source": [
    "np.percentile(twitter_archive_clean.rating_denominator, 99)"
   ]
  },
  {
   "cell_type": "code",
   "execution_count": 52,
   "metadata": {},
   "outputs": [
    {
     "data": {
      "text/plain": [
       "2.0"
      ]
     },
     "execution_count": 52,
     "metadata": {},
     "output_type": "execute_result"
    }
   ],
   "source": [
    "np.percentile(twitter_archive_clean.rating_denominator, 0)"
   ]
  },
  {
   "cell_type": "code",
   "execution_count": 53,
   "metadata": {},
   "outputs": [],
   "source": [
    "twitter_archive_clean = twitter_archive_clean[twitter_archive_clean.rating_denominator<11]"
   ]
  },
  {
   "cell_type": "code",
   "execution_count": 54,
   "metadata": {},
   "outputs": [],
   "source": [
    "twitter_archive_clean = twitter_archive_clean[twitter_archive_clean.rating_denominator>=10]"
   ]
  },
  {
   "cell_type": "markdown",
   "metadata": {},
   "source": [
    "**Test**"
   ]
  },
  {
   "cell_type": "code",
   "execution_count": 55,
   "metadata": {},
   "outputs": [
    {
     "data": {
      "text/plain": [
       "10.0"
      ]
     },
     "execution_count": 55,
     "metadata": {},
     "output_type": "execute_result"
    }
   ],
   "source": [
    "np.percentile(twitter_archive_clean.rating_denominator, 0)"
   ]
  },
  {
   "cell_type": "markdown",
   "metadata": {},
   "source": [
    "7) **Define**: \n",
    "\n",
    "The number of tweets that must be removed from the df because they are RT is calculated:"
   ]
  },
  {
   "cell_type": "markdown",
   "metadata": {},
   "source": [
    "**Code**"
   ]
  },
  {
   "cell_type": "code",
   "execution_count": 56,
   "metadata": {},
   "outputs": [
    {
     "data": {
      "text/plain": [
       "179"
      ]
     },
     "execution_count": 56,
     "metadata": {},
     "output_type": "execute_result"
    }
   ],
   "source": [
    "sum(df_tweets_clean.retweeted_status.notnull())"
   ]
  },
  {
   "cell_type": "code",
   "execution_count": 57,
   "metadata": {},
   "outputs": [],
   "source": [
    "df_tweets_clean = df_tweets_clean[-df_tweets_clean.retweeted_status.notnull()]"
   ]
  },
  {
   "cell_type": "markdown",
   "metadata": {},
   "source": [
    "**Test**"
   ]
  },
  {
   "cell_type": "code",
   "execution_count": 58,
   "metadata": {},
   "outputs": [
    {
     "data": {
      "text/plain": [
       "0"
      ]
     },
     "execution_count": 58,
     "metadata": {},
     "output_type": "execute_result"
    }
   ],
   "source": [
    "sum(df_tweets_clean.retweeted_status.notnull())"
   ]
  },
  {
   "cell_type": "markdown",
   "metadata": {},
   "source": [
    "8) **Define**: \n",
    "\n",
    "The number of tweets that must be removed from the df because they are replies is calculated:"
   ]
  },
  {
   "cell_type": "markdown",
   "metadata": {},
   "source": [
    "**Code**"
   ]
  },
  {
   "cell_type": "code",
   "execution_count": 59,
   "metadata": {},
   "outputs": [
    {
     "data": {
      "text/plain": [
       "78"
      ]
     },
     "execution_count": 59,
     "metadata": {},
     "output_type": "execute_result"
    }
   ],
   "source": [
    "sum(df_tweets_clean.in_reply_to_status_id.notnull())"
   ]
  },
  {
   "cell_type": "code",
   "execution_count": 60,
   "metadata": {},
   "outputs": [],
   "source": [
    "df_tweets_clean = df_tweets_clean[-df_tweets_clean.in_reply_to_status_id.notnull()]"
   ]
  },
  {
   "cell_type": "markdown",
   "metadata": {},
   "source": [
    "**Test**"
   ]
  },
  {
   "cell_type": "code",
   "execution_count": 61,
   "metadata": {},
   "outputs": [
    {
     "data": {
      "text/plain": [
       "0"
      ]
     },
     "execution_count": 61,
     "metadata": {},
     "output_type": "execute_result"
    }
   ],
   "source": [
    "sum(df_tweets_clean.in_reply_to_status_id.notnull())"
   ]
  },
  {
   "cell_type": "markdown",
   "metadata": {},
   "source": [
    "9) **Define**: \n",
    "\n",
    "We fix the format of the dates"
   ]
  },
  {
   "cell_type": "markdown",
   "metadata": {},
   "source": [
    "**Code**"
   ]
  },
  {
   "cell_type": "code",
   "execution_count": 62,
   "metadata": {},
   "outputs": [],
   "source": [
    "twitter_archive_clean['DateTime'] = pd.to_datetime(twitter_archive_clean['timestamp'])"
   ]
  },
  {
   "cell_type": "code",
   "execution_count": 63,
   "metadata": {},
   "outputs": [],
   "source": [
    "#twitter_archive.head()"
   ]
  },
  {
   "cell_type": "code",
   "execution_count": 64,
   "metadata": {},
   "outputs": [],
   "source": [
    "df_tweets_clean['DateTime'] = pd.to_datetime(df_tweets_clean['created_at'])"
   ]
  },
  {
   "cell_type": "markdown",
   "metadata": {},
   "source": [
    "**Test**"
   ]
  },
  {
   "cell_type": "code",
   "execution_count": 65,
   "metadata": {},
   "outputs": [],
   "source": [
    "#df_tweets_clean.head()"
   ]
  },
  {
   "cell_type": "markdown",
   "metadata": {},
   "source": [
    "##### Tidiness Issues\n",
    "a) **Define**: \n",
    "\n",
    "We take just the year from the date of the tweets for posterior analysis"
   ]
  },
  {
   "cell_type": "markdown",
   "metadata": {},
   "source": [
    "**Code**"
   ]
  },
  {
   "cell_type": "code",
   "execution_count": 66,
   "metadata": {},
   "outputs": [],
   "source": [
    "twitter_archive_clean['year'] = twitter_archive_clean['DateTime'].dt.year"
   ]
  },
  {
   "cell_type": "code",
   "execution_count": 67,
   "metadata": {},
   "outputs": [
    {
     "data": {
      "text/plain": [
       "count    2075.000000\n",
       "mean     2015.860723\n",
       "std         0.693248\n",
       "min      2015.000000\n",
       "25%      2015.000000\n",
       "50%      2016.000000\n",
       "75%      2016.000000\n",
       "max      2017.000000\n",
       "Name: year, dtype: float64"
      ]
     },
     "execution_count": 67,
     "metadata": {},
     "output_type": "execute_result"
    }
   ],
   "source": [
    "twitter_archive_clean.year.describe()"
   ]
  },
  {
   "cell_type": "code",
   "execution_count": 68,
   "metadata": {},
   "outputs": [],
   "source": [
    "df_tweets_clean['year'] = df_tweets_clean['DateTime'].dt.year"
   ]
  },
  {
   "cell_type": "markdown",
   "metadata": {},
   "source": [
    "**Test**"
   ]
  },
  {
   "cell_type": "code",
   "execution_count": 69,
   "metadata": {},
   "outputs": [
    {
     "data": {
      "text/plain": [
       "count    2097.000000\n",
       "mean     2015.860277\n",
       "std         0.691435\n",
       "min      2015.000000\n",
       "25%      2015.000000\n",
       "50%      2016.000000\n",
       "75%      2016.000000\n",
       "max      2017.000000\n",
       "Name: year, dtype: float64"
      ]
     },
     "execution_count": 69,
     "metadata": {},
     "output_type": "execute_result"
    }
   ],
   "source": [
    "df_tweets_clean.year.describe()"
   ]
  },
  {
   "cell_type": "markdown",
   "metadata": {},
   "source": [
    "b) **Define**: \n",
    "\n",
    "We tidy the doggo stage columns since there are 4 and could be one. "
   ]
  },
  {
   "cell_type": "markdown",
   "metadata": {},
   "source": [
    "**Code**"
   ]
  },
  {
   "cell_type": "code",
   "execution_count": 70,
   "metadata": {},
   "outputs": [],
   "source": [
    "twitter_archive_clean.doggo.replace('None', '', inplace = True)"
   ]
  },
  {
   "cell_type": "code",
   "execution_count": 71,
   "metadata": {},
   "outputs": [],
   "source": [
    "twitter_archive_clean.floofer.replace('None', '', inplace = True)"
   ]
  },
  {
   "cell_type": "code",
   "execution_count": 72,
   "metadata": {},
   "outputs": [],
   "source": [
    "twitter_archive_clean.pupper.replace('None', '', inplace = True)"
   ]
  },
  {
   "cell_type": "code",
   "execution_count": 73,
   "metadata": {},
   "outputs": [],
   "source": [
    "twitter_archive_clean.puppo.replace('None', '', inplace = True)"
   ]
  },
  {
   "cell_type": "code",
   "execution_count": 74,
   "metadata": {},
   "outputs": [],
   "source": [
    "twitter_archive_clean['Dog_stage'] = twitter_archive_clean.doggo + twitter_archive_clean.floofer + twitter_archive_clean.pupper + twitter_archive_clean.puppo"
   ]
  },
  {
   "cell_type": "code",
   "execution_count": 75,
   "metadata": {},
   "outputs": [],
   "source": [
    "#twitter_archive_clean['Dog_stage'].head()"
   ]
  },
  {
   "cell_type": "code",
   "execution_count": 76,
   "metadata": {},
   "outputs": [],
   "source": [
    "twitter_archive_clean.loc[twitter_archive_clean.Dog_stage == 'doggopupper', 'Dog_stage'] = 'doggo,pupper'"
   ]
  },
  {
   "cell_type": "code",
   "execution_count": 77,
   "metadata": {},
   "outputs": [],
   "source": [
    "twitter_archive_clean.loc[twitter_archive_clean.Dog_stage == 'doggopuppo', 'Dog_stage'] = 'doggo,puppo'"
   ]
  },
  {
   "cell_type": "code",
   "execution_count": 78,
   "metadata": {},
   "outputs": [],
   "source": [
    "twitter_archive_clean.loc[twitter_archive_clean.Dog_stage == 'doggofloofer', 'Dog_stage'] = 'doggo,floofer'"
   ]
  },
  {
   "cell_type": "markdown",
   "metadata": {},
   "source": [
    "**Test**"
   ]
  },
  {
   "cell_type": "code",
   "execution_count": 79,
   "metadata": {},
   "outputs": [],
   "source": [
    "#twitter_archive_clean['Dog_stage'].head()"
   ]
  },
  {
   "cell_type": "markdown",
   "metadata": {},
   "source": [
    "c) **Define**: \n",
    "\n",
    "We merge the tables that should be together"
   ]
  },
  {
   "cell_type": "markdown",
   "metadata": {},
   "source": [
    "**Code**"
   ]
  },
  {
   "cell_type": "code",
   "execution_count": 80,
   "metadata": {},
   "outputs": [
    {
     "data": {
      "text/plain": [
       "20    tweet_id\n",
       "dtype: object"
      ]
     },
     "execution_count": 80,
     "metadata": {},
     "output_type": "execute_result"
    }
   ],
   "source": [
    "all_columns = pd.Series(list(twitter_archive_clean) + list(im_predict))\n",
    "all_columns[all_columns.duplicated()]"
   ]
  },
  {
   "cell_type": "code",
   "execution_count": 81,
   "metadata": {},
   "outputs": [],
   "source": [
    "twitter_archive_predic = pd.merge(twitter_archive_clean, im_predict_clean, on='tweet_id', how='inner')"
   ]
  },
  {
   "cell_type": "code",
   "execution_count": 82,
   "metadata": {},
   "outputs": [],
   "source": [
    "#twitter_archive_predic.info()"
   ]
  },
  {
   "cell_type": "code",
   "execution_count": 83,
   "metadata": {},
   "outputs": [
    {
     "data": {
      "text/plain": [
       "44    in_reply_to_status_id\n",
       "46      in_reply_to_user_id\n",
       "59                   source\n",
       "62                 DateTime\n",
       "63                     year\n",
       "64                 tweet_id\n",
       "dtype: object"
      ]
     },
     "execution_count": 83,
     "metadata": {},
     "output_type": "execute_result"
    }
   ],
   "source": [
    "df_tweets_clean['tweet_id'] = df_tweets_clean['id']\n",
    "all_columns = pd.Series(list(twitter_archive_predic) + list(df_tweets_clean))\n",
    "all_columns[all_columns.duplicated()]"
   ]
  },
  {
   "cell_type": "code",
   "execution_count": 111,
   "metadata": {},
   "outputs": [],
   "source": [
    "twitter_archive_df= pd.merge(twitter_archive_predic, df_tweets_clean, on='tweet_id', how='inner')"
   ]
  },
  {
   "cell_type": "markdown",
   "metadata": {},
   "source": [
    "**Test**"
   ]
  },
  {
   "cell_type": "code",
   "execution_count": 112,
   "metadata": {},
   "outputs": [],
   "source": [
    "#twitter_archive_df.head()"
   ]
  },
  {
   "cell_type": "code",
   "execution_count": 113,
   "metadata": {},
   "outputs": [
    {
     "data": {
      "text/plain": [
       "(1949, 64)"
      ]
     },
     "execution_count": 113,
     "metadata": {},
     "output_type": "execute_result"
    }
   ],
   "source": [
    "twitter_archive_df.shape"
   ]
  },
  {
   "cell_type": "markdown",
   "metadata": {},
   "source": [
    "We finally save the data in a CSV file"
   ]
  },
  {
   "cell_type": "code",
   "execution_count": 114,
   "metadata": {},
   "outputs": [],
   "source": [
    "twitter_archive_df.to_csv(\"twitter_archive_df.csv\", index=False)"
   ]
  },
  {
   "cell_type": "markdown",
   "metadata": {},
   "source": [
    "## 4. Data Insights\n",
    "<a id='ins'> </a>"
   ]
  },
  {
   "cell_type": "code",
   "execution_count": 115,
   "metadata": {},
   "outputs": [],
   "source": [
    "twitter_data = pd.read_csv(\"twitter_archive_df.csv\")"
   ]
  },
  {
   "cell_type": "code",
   "execution_count": 116,
   "metadata": {},
   "outputs": [],
   "source": [
    "twitter_data['rating'] = twitter_data.rating_numerator/twitter_data.rating_denominator"
   ]
  },
  {
   "cell_type": "code",
   "execution_count": 117,
   "metadata": {},
   "outputs": [
    {
     "data": {
      "text/html": [
       "<div>\n",
       "<style scoped>\n",
       "    .dataframe tbody tr th:only-of-type {\n",
       "        vertical-align: middle;\n",
       "    }\n",
       "\n",
       "    .dataframe tbody tr th {\n",
       "        vertical-align: top;\n",
       "    }\n",
       "\n",
       "    .dataframe thead th {\n",
       "        text-align: right;\n",
       "    }\n",
       "</style>\n",
       "<table border=\"1\" class=\"dataframe\">\n",
       "  <thead>\n",
       "    <tr style=\"text-align: right;\">\n",
       "      <th></th>\n",
       "      <th>tweet_id</th>\n",
       "      <th>in_reply_to_status_id_x</th>\n",
       "      <th>in_reply_to_user_id_x</th>\n",
       "      <th>retweeted_status_id</th>\n",
       "      <th>retweeted_status_user_id</th>\n",
       "      <th>retweeted_status_timestamp</th>\n",
       "      <th>rating_numerator</th>\n",
       "      <th>rating_denominator</th>\n",
       "      <th>year_x</th>\n",
       "      <th>img_num</th>\n",
       "      <th>...</th>\n",
       "      <th>in_reply_to_status_id_str</th>\n",
       "      <th>in_reply_to_user_id_y</th>\n",
       "      <th>in_reply_to_user_id_str</th>\n",
       "      <th>quoted_status</th>\n",
       "      <th>quoted_status_id</th>\n",
       "      <th>quoted_status_id_str</th>\n",
       "      <th>retweet_count</th>\n",
       "      <th>retweeted_status</th>\n",
       "      <th>year_y</th>\n",
       "      <th>rating</th>\n",
       "    </tr>\n",
       "  </thead>\n",
       "  <tbody>\n",
       "    <tr>\n",
       "      <th>count</th>\n",
       "      <td>1.949000e+03</td>\n",
       "      <td>0.0</td>\n",
       "      <td>0.0</td>\n",
       "      <td>0.0</td>\n",
       "      <td>0.0</td>\n",
       "      <td>0.0</td>\n",
       "      <td>1949.000000</td>\n",
       "      <td>1949.0</td>\n",
       "      <td>1949.000000</td>\n",
       "      <td>1949.000000</td>\n",
       "      <td>...</td>\n",
       "      <td>0.0</td>\n",
       "      <td>0.0</td>\n",
       "      <td>0.0</td>\n",
       "      <td>0.0</td>\n",
       "      <td>0.0</td>\n",
       "      <td>0.0</td>\n",
       "      <td>1949.000000</td>\n",
       "      <td>0.0</td>\n",
       "      <td>1949.000000</td>\n",
       "      <td>1949.000000</td>\n",
       "    </tr>\n",
       "    <tr>\n",
       "      <th>mean</th>\n",
       "      <td>7.361975e+17</td>\n",
       "      <td>NaN</td>\n",
       "      <td>NaN</td>\n",
       "      <td>NaN</td>\n",
       "      <td>NaN</td>\n",
       "      <td>NaN</td>\n",
       "      <td>10.538225</td>\n",
       "      <td>10.0</td>\n",
       "      <td>2015.847614</td>\n",
       "      <td>1.202668</td>\n",
       "      <td>...</td>\n",
       "      <td>NaN</td>\n",
       "      <td>NaN</td>\n",
       "      <td>NaN</td>\n",
       "      <td>NaN</td>\n",
       "      <td>NaN</td>\n",
       "      <td>NaN</td>\n",
       "      <td>2784.492560</td>\n",
       "      <td>NaN</td>\n",
       "      <td>2015.847614</td>\n",
       "      <td>1.053822</td>\n",
       "    </tr>\n",
       "    <tr>\n",
       "      <th>std</th>\n",
       "      <td>6.772838e+16</td>\n",
       "      <td>NaN</td>\n",
       "      <td>NaN</td>\n",
       "      <td>NaN</td>\n",
       "      <td>NaN</td>\n",
       "      <td>NaN</td>\n",
       "      <td>2.174663</td>\n",
       "      <td>0.0</td>\n",
       "      <td>0.701180</td>\n",
       "      <td>0.560024</td>\n",
       "      <td>...</td>\n",
       "      <td>NaN</td>\n",
       "      <td>NaN</td>\n",
       "      <td>NaN</td>\n",
       "      <td>NaN</td>\n",
       "      <td>NaN</td>\n",
       "      <td>NaN</td>\n",
       "      <td>4709.940601</td>\n",
       "      <td>NaN</td>\n",
       "      <td>0.701180</td>\n",
       "      <td>0.217466</td>\n",
       "    </tr>\n",
       "    <tr>\n",
       "      <th>min</th>\n",
       "      <td>6.660209e+17</td>\n",
       "      <td>NaN</td>\n",
       "      <td>NaN</td>\n",
       "      <td>NaN</td>\n",
       "      <td>NaN</td>\n",
       "      <td>NaN</td>\n",
       "      <td>0.000000</td>\n",
       "      <td>10.0</td>\n",
       "      <td>2015.000000</td>\n",
       "      <td>1.000000</td>\n",
       "      <td>...</td>\n",
       "      <td>NaN</td>\n",
       "      <td>NaN</td>\n",
       "      <td>NaN</td>\n",
       "      <td>NaN</td>\n",
       "      <td>NaN</td>\n",
       "      <td>NaN</td>\n",
       "      <td>16.000000</td>\n",
       "      <td>NaN</td>\n",
       "      <td>2015.000000</td>\n",
       "      <td>0.000000</td>\n",
       "    </tr>\n",
       "    <tr>\n",
       "      <th>25%</th>\n",
       "      <td>6.758209e+17</td>\n",
       "      <td>NaN</td>\n",
       "      <td>NaN</td>\n",
       "      <td>NaN</td>\n",
       "      <td>NaN</td>\n",
       "      <td>NaN</td>\n",
       "      <td>10.000000</td>\n",
       "      <td>10.0</td>\n",
       "      <td>2015.000000</td>\n",
       "      <td>1.000000</td>\n",
       "      <td>...</td>\n",
       "      <td>NaN</td>\n",
       "      <td>NaN</td>\n",
       "      <td>NaN</td>\n",
       "      <td>NaN</td>\n",
       "      <td>NaN</td>\n",
       "      <td>NaN</td>\n",
       "      <td>624.000000</td>\n",
       "      <td>NaN</td>\n",
       "      <td>2015.000000</td>\n",
       "      <td>1.000000</td>\n",
       "    </tr>\n",
       "    <tr>\n",
       "      <th>50%</th>\n",
       "      <td>7.087381e+17</td>\n",
       "      <td>NaN</td>\n",
       "      <td>NaN</td>\n",
       "      <td>NaN</td>\n",
       "      <td>NaN</td>\n",
       "      <td>NaN</td>\n",
       "      <td>11.000000</td>\n",
       "      <td>10.0</td>\n",
       "      <td>2016.000000</td>\n",
       "      <td>1.000000</td>\n",
       "      <td>...</td>\n",
       "      <td>NaN</td>\n",
       "      <td>NaN</td>\n",
       "      <td>NaN</td>\n",
       "      <td>NaN</td>\n",
       "      <td>NaN</td>\n",
       "      <td>NaN</td>\n",
       "      <td>1360.000000</td>\n",
       "      <td>NaN</td>\n",
       "      <td>2016.000000</td>\n",
       "      <td>1.100000</td>\n",
       "    </tr>\n",
       "    <tr>\n",
       "      <th>75%</th>\n",
       "      <td>7.887659e+17</td>\n",
       "      <td>NaN</td>\n",
       "      <td>NaN</td>\n",
       "      <td>NaN</td>\n",
       "      <td>NaN</td>\n",
       "      <td>NaN</td>\n",
       "      <td>12.000000</td>\n",
       "      <td>10.0</td>\n",
       "      <td>2016.000000</td>\n",
       "      <td>1.000000</td>\n",
       "      <td>...</td>\n",
       "      <td>NaN</td>\n",
       "      <td>NaN</td>\n",
       "      <td>NaN</td>\n",
       "      <td>NaN</td>\n",
       "      <td>NaN</td>\n",
       "      <td>NaN</td>\n",
       "      <td>3240.000000</td>\n",
       "      <td>NaN</td>\n",
       "      <td>2016.000000</td>\n",
       "      <td>1.200000</td>\n",
       "    </tr>\n",
       "    <tr>\n",
       "      <th>max</th>\n",
       "      <td>8.924206e+17</td>\n",
       "      <td>NaN</td>\n",
       "      <td>NaN</td>\n",
       "      <td>NaN</td>\n",
       "      <td>NaN</td>\n",
       "      <td>NaN</td>\n",
       "      <td>14.000000</td>\n",
       "      <td>10.0</td>\n",
       "      <td>2017.000000</td>\n",
       "      <td>4.000000</td>\n",
       "      <td>...</td>\n",
       "      <td>NaN</td>\n",
       "      <td>NaN</td>\n",
       "      <td>NaN</td>\n",
       "      <td>NaN</td>\n",
       "      <td>NaN</td>\n",
       "      <td>NaN</td>\n",
       "      <td>79515.000000</td>\n",
       "      <td>NaN</td>\n",
       "      <td>2017.000000</td>\n",
       "      <td>1.400000</td>\n",
       "    </tr>\n",
       "  </tbody>\n",
       "</table>\n",
       "<p>8 rows × 31 columns</p>\n",
       "</div>"
      ],
      "text/plain": [
       "           tweet_id  in_reply_to_status_id_x  in_reply_to_user_id_x  \\\n",
       "count  1.949000e+03                      0.0                    0.0   \n",
       "mean   7.361975e+17                      NaN                    NaN   \n",
       "std    6.772838e+16                      NaN                    NaN   \n",
       "min    6.660209e+17                      NaN                    NaN   \n",
       "25%    6.758209e+17                      NaN                    NaN   \n",
       "50%    7.087381e+17                      NaN                    NaN   \n",
       "75%    7.887659e+17                      NaN                    NaN   \n",
       "max    8.924206e+17                      NaN                    NaN   \n",
       "\n",
       "       retweeted_status_id  retweeted_status_user_id  \\\n",
       "count                  0.0                       0.0   \n",
       "mean                   NaN                       NaN   \n",
       "std                    NaN                       NaN   \n",
       "min                    NaN                       NaN   \n",
       "25%                    NaN                       NaN   \n",
       "50%                    NaN                       NaN   \n",
       "75%                    NaN                       NaN   \n",
       "max                    NaN                       NaN   \n",
       "\n",
       "       retweeted_status_timestamp  rating_numerator  rating_denominator  \\\n",
       "count                         0.0       1949.000000              1949.0   \n",
       "mean                          NaN         10.538225                10.0   \n",
       "std                           NaN          2.174663                 0.0   \n",
       "min                           NaN          0.000000                10.0   \n",
       "25%                           NaN         10.000000                10.0   \n",
       "50%                           NaN         11.000000                10.0   \n",
       "75%                           NaN         12.000000                10.0   \n",
       "max                           NaN         14.000000                10.0   \n",
       "\n",
       "            year_x      img_num     ...       in_reply_to_status_id_str  \\\n",
       "count  1949.000000  1949.000000     ...                             0.0   \n",
       "mean   2015.847614     1.202668     ...                             NaN   \n",
       "std       0.701180     0.560024     ...                             NaN   \n",
       "min    2015.000000     1.000000     ...                             NaN   \n",
       "25%    2015.000000     1.000000     ...                             NaN   \n",
       "50%    2016.000000     1.000000     ...                             NaN   \n",
       "75%    2016.000000     1.000000     ...                             NaN   \n",
       "max    2017.000000     4.000000     ...                             NaN   \n",
       "\n",
       "       in_reply_to_user_id_y  in_reply_to_user_id_str  quoted_status  \\\n",
       "count                    0.0                      0.0            0.0   \n",
       "mean                     NaN                      NaN            NaN   \n",
       "std                      NaN                      NaN            NaN   \n",
       "min                      NaN                      NaN            NaN   \n",
       "25%                      NaN                      NaN            NaN   \n",
       "50%                      NaN                      NaN            NaN   \n",
       "75%                      NaN                      NaN            NaN   \n",
       "max                      NaN                      NaN            NaN   \n",
       "\n",
       "       quoted_status_id  quoted_status_id_str  retweet_count  \\\n",
       "count               0.0                   0.0    1949.000000   \n",
       "mean                NaN                   NaN    2784.492560   \n",
       "std                 NaN                   NaN    4709.940601   \n",
       "min                 NaN                   NaN      16.000000   \n",
       "25%                 NaN                   NaN     624.000000   \n",
       "50%                 NaN                   NaN    1360.000000   \n",
       "75%                 NaN                   NaN    3240.000000   \n",
       "max                 NaN                   NaN   79515.000000   \n",
       "\n",
       "       retweeted_status       year_y       rating  \n",
       "count               0.0  1949.000000  1949.000000  \n",
       "mean                NaN  2015.847614     1.053822  \n",
       "std                 NaN     0.701180     0.217466  \n",
       "min                 NaN  2015.000000     0.000000  \n",
       "25%                 NaN  2015.000000     1.000000  \n",
       "50%                 NaN  2016.000000     1.100000  \n",
       "75%                 NaN  2016.000000     1.200000  \n",
       "max                 NaN  2017.000000     1.400000  \n",
       "\n",
       "[8 rows x 31 columns]"
      ]
     },
     "execution_count": 117,
     "metadata": {},
     "output_type": "execute_result"
    }
   ],
   "source": [
    "twitter_data.describe()"
   ]
  },
  {
   "cell_type": "code",
   "execution_count": 118,
   "metadata": {},
   "outputs": [],
   "source": [
    "twitter_grouped_breed = twitter_data.groupby(['p1', 'year_x']).mean()"
   ]
  },
  {
   "cell_type": "markdown",
   "metadata": {},
   "source": [
    "#### a) Breeds with the highest rating"
   ]
  },
  {
   "cell_type": "code",
   "execution_count": 119,
   "metadata": {},
   "outputs": [
    {
     "data": {
      "text/html": [
       "<div>\n",
       "<style scoped>\n",
       "    .dataframe tbody tr th:only-of-type {\n",
       "        vertical-align: middle;\n",
       "    }\n",
       "\n",
       "    .dataframe tbody tr th {\n",
       "        vertical-align: top;\n",
       "    }\n",
       "\n",
       "    .dataframe thead th {\n",
       "        text-align: right;\n",
       "    }\n",
       "</style>\n",
       "<table border=\"1\" class=\"dataframe\">\n",
       "  <thead>\n",
       "    <tr style=\"text-align: right;\">\n",
       "      <th></th>\n",
       "      <th></th>\n",
       "      <th>tweet_id</th>\n",
       "      <th>in_reply_to_status_id_x</th>\n",
       "      <th>in_reply_to_user_id_x</th>\n",
       "      <th>retweeted_status_id</th>\n",
       "      <th>retweeted_status_user_id</th>\n",
       "      <th>retweeted_status_timestamp</th>\n",
       "      <th>rating_numerator</th>\n",
       "      <th>rating_denominator</th>\n",
       "      <th>img_num</th>\n",
       "      <th>p1_conf</th>\n",
       "      <th>...</th>\n",
       "      <th>possibly_sensitive_appealable</th>\n",
       "      <th>quoted_status</th>\n",
       "      <th>quoted_status_id</th>\n",
       "      <th>quoted_status_id_str</th>\n",
       "      <th>retweet_count</th>\n",
       "      <th>retweeted</th>\n",
       "      <th>retweeted_status</th>\n",
       "      <th>truncated</th>\n",
       "      <th>year_y</th>\n",
       "      <th>rating</th>\n",
       "    </tr>\n",
       "    <tr>\n",
       "      <th>p1</th>\n",
       "      <th>year_x</th>\n",
       "      <th></th>\n",
       "      <th></th>\n",
       "      <th></th>\n",
       "      <th></th>\n",
       "      <th></th>\n",
       "      <th></th>\n",
       "      <th></th>\n",
       "      <th></th>\n",
       "      <th></th>\n",
       "      <th></th>\n",
       "      <th></th>\n",
       "      <th></th>\n",
       "      <th></th>\n",
       "      <th></th>\n",
       "      <th></th>\n",
       "      <th></th>\n",
       "      <th></th>\n",
       "      <th></th>\n",
       "      <th></th>\n",
       "      <th></th>\n",
       "      <th></th>\n",
       "    </tr>\n",
       "  </thead>\n",
       "  <tbody>\n",
       "    <tr>\n",
       "      <th>Gordon_setter</th>\n",
       "      <th>2017</th>\n",
       "      <td>8.203146e+17</td>\n",
       "      <td>NaN</td>\n",
       "      <td>NaN</td>\n",
       "      <td>NaN</td>\n",
       "      <td>NaN</td>\n",
       "      <td>NaN</td>\n",
       "      <td>14.0</td>\n",
       "      <td>10.0</td>\n",
       "      <td>2.0</td>\n",
       "      <td>0.940724</td>\n",
       "      <td>...</td>\n",
       "      <td>0.0</td>\n",
       "      <td>NaN</td>\n",
       "      <td>NaN</td>\n",
       "      <td>NaN</td>\n",
       "      <td>648.0</td>\n",
       "      <td>0.0</td>\n",
       "      <td>NaN</td>\n",
       "      <td>0.0</td>\n",
       "      <td>2017.0</td>\n",
       "      <td>1.4</td>\n",
       "    </tr>\n",
       "    <tr>\n",
       "      <th>Irish_setter</th>\n",
       "      <th>2017</th>\n",
       "      <td>8.214072e+17</td>\n",
       "      <td>NaN</td>\n",
       "      <td>NaN</td>\n",
       "      <td>NaN</td>\n",
       "      <td>NaN</td>\n",
       "      <td>NaN</td>\n",
       "      <td>14.0</td>\n",
       "      <td>10.0</td>\n",
       "      <td>1.0</td>\n",
       "      <td>0.505496</td>\n",
       "      <td>...</td>\n",
       "      <td>0.0</td>\n",
       "      <td>NaN</td>\n",
       "      <td>NaN</td>\n",
       "      <td>NaN</td>\n",
       "      <td>5053.0</td>\n",
       "      <td>0.0</td>\n",
       "      <td>NaN</td>\n",
       "      <td>0.0</td>\n",
       "      <td>2017.0</td>\n",
       "      <td>1.4</td>\n",
       "    </tr>\n",
       "    <tr>\n",
       "      <th>black-and-tan_coonhound</th>\n",
       "      <th>2017</th>\n",
       "      <td>8.541204e+17</td>\n",
       "      <td>NaN</td>\n",
       "      <td>NaN</td>\n",
       "      <td>NaN</td>\n",
       "      <td>NaN</td>\n",
       "      <td>NaN</td>\n",
       "      <td>14.0</td>\n",
       "      <td>10.0</td>\n",
       "      <td>4.0</td>\n",
       "      <td>0.854861</td>\n",
       "      <td>...</td>\n",
       "      <td>0.0</td>\n",
       "      <td>NaN</td>\n",
       "      <td>NaN</td>\n",
       "      <td>NaN</td>\n",
       "      <td>8285.0</td>\n",
       "      <td>0.0</td>\n",
       "      <td>NaN</td>\n",
       "      <td>0.0</td>\n",
       "      <td>2017.0</td>\n",
       "      <td>1.4</td>\n",
       "    </tr>\n",
       "    <tr>\n",
       "      <th>chimpanzee</th>\n",
       "      <th>2017</th>\n",
       "      <td>8.601848e+17</td>\n",
       "      <td>NaN</td>\n",
       "      <td>NaN</td>\n",
       "      <td>NaN</td>\n",
       "      <td>NaN</td>\n",
       "      <td>NaN</td>\n",
       "      <td>14.0</td>\n",
       "      <td>10.0</td>\n",
       "      <td>1.0</td>\n",
       "      <td>0.267612</td>\n",
       "      <td>...</td>\n",
       "      <td>0.0</td>\n",
       "      <td>NaN</td>\n",
       "      <td>NaN</td>\n",
       "      <td>NaN</td>\n",
       "      <td>6295.0</td>\n",
       "      <td>0.0</td>\n",
       "      <td>NaN</td>\n",
       "      <td>0.0</td>\n",
       "      <td>2017.0</td>\n",
       "      <td>1.4</td>\n",
       "    </tr>\n",
       "    <tr>\n",
       "      <th>comic_book</th>\n",
       "      <th>2017</th>\n",
       "      <td>8.700632e+17</td>\n",
       "      <td>NaN</td>\n",
       "      <td>NaN</td>\n",
       "      <td>NaN</td>\n",
       "      <td>NaN</td>\n",
       "      <td>NaN</td>\n",
       "      <td>14.0</td>\n",
       "      <td>10.0</td>\n",
       "      <td>1.0</td>\n",
       "      <td>0.534409</td>\n",
       "      <td>...</td>\n",
       "      <td>0.0</td>\n",
       "      <td>NaN</td>\n",
       "      <td>NaN</td>\n",
       "      <td>NaN</td>\n",
       "      <td>8840.0</td>\n",
       "      <td>0.0</td>\n",
       "      <td>NaN</td>\n",
       "      <td>0.0</td>\n",
       "      <td>2017.0</td>\n",
       "      <td>1.4</td>\n",
       "    </tr>\n",
       "    <tr>\n",
       "      <th>laptop</th>\n",
       "      <th>2017</th>\n",
       "      <td>8.688804e+17</td>\n",
       "      <td>NaN</td>\n",
       "      <td>NaN</td>\n",
       "      <td>NaN</td>\n",
       "      <td>NaN</td>\n",
       "      <td>NaN</td>\n",
       "      <td>14.0</td>\n",
       "      <td>10.0</td>\n",
       "      <td>1.0</td>\n",
       "      <td>0.153718</td>\n",
       "      <td>...</td>\n",
       "      <td>0.0</td>\n",
       "      <td>NaN</td>\n",
       "      <td>NaN</td>\n",
       "      <td>NaN</td>\n",
       "      <td>12518.0</td>\n",
       "      <td>0.0</td>\n",
       "      <td>NaN</td>\n",
       "      <td>0.0</td>\n",
       "      <td>2017.0</td>\n",
       "      <td>1.4</td>\n",
       "    </tr>\n",
       "    <tr>\n",
       "      <th>limousine</th>\n",
       "      <th>2017</th>\n",
       "      <td>8.875171e+17</td>\n",
       "      <td>NaN</td>\n",
       "      <td>NaN</td>\n",
       "      <td>NaN</td>\n",
       "      <td>NaN</td>\n",
       "      <td>NaN</td>\n",
       "      <td>14.0</td>\n",
       "      <td>10.0</td>\n",
       "      <td>1.0</td>\n",
       "      <td>0.130432</td>\n",
       "      <td>...</td>\n",
       "      <td>0.0</td>\n",
       "      <td>NaN</td>\n",
       "      <td>NaN</td>\n",
       "      <td>NaN</td>\n",
       "      <td>12082.0</td>\n",
       "      <td>0.0</td>\n",
       "      <td>NaN</td>\n",
       "      <td>0.0</td>\n",
       "      <td>2017.0</td>\n",
       "      <td>1.4</td>\n",
       "    </tr>\n",
       "    <tr>\n",
       "      <th>military_uniform</th>\n",
       "      <th>2017</th>\n",
       "      <td>8.414399e+17</td>\n",
       "      <td>NaN</td>\n",
       "      <td>NaN</td>\n",
       "      <td>NaN</td>\n",
       "      <td>NaN</td>\n",
       "      <td>NaN</td>\n",
       "      <td>14.0</td>\n",
       "      <td>10.0</td>\n",
       "      <td>3.0</td>\n",
       "      <td>0.853684</td>\n",
       "      <td>...</td>\n",
       "      <td>0.0</td>\n",
       "      <td>NaN</td>\n",
       "      <td>NaN</td>\n",
       "      <td>NaN</td>\n",
       "      <td>4168.0</td>\n",
       "      <td>0.0</td>\n",
       "      <td>NaN</td>\n",
       "      <td>0.0</td>\n",
       "      <td>2017.0</td>\n",
       "      <td>1.4</td>\n",
       "    </tr>\n",
       "    <tr>\n",
       "      <th>pedestal</th>\n",
       "      <th>2016</th>\n",
       "      <td>7.942053e+17</td>\n",
       "      <td>NaN</td>\n",
       "      <td>NaN</td>\n",
       "      <td>NaN</td>\n",
       "      <td>NaN</td>\n",
       "      <td>NaN</td>\n",
       "      <td>14.0</td>\n",
       "      <td>10.0</td>\n",
       "      <td>3.0</td>\n",
       "      <td>0.662660</td>\n",
       "      <td>...</td>\n",
       "      <td>0.0</td>\n",
       "      <td>NaN</td>\n",
       "      <td>NaN</td>\n",
       "      <td>NaN</td>\n",
       "      <td>3895.0</td>\n",
       "      <td>0.0</td>\n",
       "      <td>NaN</td>\n",
       "      <td>0.0</td>\n",
       "      <td>2016.0</td>\n",
       "      <td>1.4</td>\n",
       "    </tr>\n",
       "    <tr>\n",
       "      <th>pole</th>\n",
       "      <th>2017</th>\n",
       "      <td>8.648732e+17</td>\n",
       "      <td>NaN</td>\n",
       "      <td>NaN</td>\n",
       "      <td>NaN</td>\n",
       "      <td>NaN</td>\n",
       "      <td>NaN</td>\n",
       "      <td>14.0</td>\n",
       "      <td>10.0</td>\n",
       "      <td>2.0</td>\n",
       "      <td>0.478616</td>\n",
       "      <td>...</td>\n",
       "      <td>0.0</td>\n",
       "      <td>NaN</td>\n",
       "      <td>NaN</td>\n",
       "      <td>NaN</td>\n",
       "      <td>9361.0</td>\n",
       "      <td>0.0</td>\n",
       "      <td>NaN</td>\n",
       "      <td>0.0</td>\n",
       "      <td>2017.0</td>\n",
       "      <td>1.4</td>\n",
       "    </tr>\n",
       "    <tr>\n",
       "      <th>prison</th>\n",
       "      <th>2017</th>\n",
       "      <td>8.356162e+17</td>\n",
       "      <td>NaN</td>\n",
       "      <td>NaN</td>\n",
       "      <td>NaN</td>\n",
       "      <td>NaN</td>\n",
       "      <td>NaN</td>\n",
       "      <td>14.0</td>\n",
       "      <td>10.0</td>\n",
       "      <td>2.5</td>\n",
       "      <td>0.629938</td>\n",
       "      <td>...</td>\n",
       "      <td>0.0</td>\n",
       "      <td>NaN</td>\n",
       "      <td>NaN</td>\n",
       "      <td>NaN</td>\n",
       "      <td>14682.0</td>\n",
       "      <td>0.0</td>\n",
       "      <td>NaN</td>\n",
       "      <td>0.0</td>\n",
       "      <td>2017.0</td>\n",
       "      <td>1.4</td>\n",
       "    </tr>\n",
       "    <tr>\n",
       "      <th>standard_poodle</th>\n",
       "      <th>2017</th>\n",
       "      <td>8.190048e+17</td>\n",
       "      <td>NaN</td>\n",
       "      <td>NaN</td>\n",
       "      <td>NaN</td>\n",
       "      <td>NaN</td>\n",
       "      <td>NaN</td>\n",
       "      <td>14.0</td>\n",
       "      <td>10.0</td>\n",
       "      <td>1.0</td>\n",
       "      <td>0.351308</td>\n",
       "      <td>...</td>\n",
       "      <td>0.0</td>\n",
       "      <td>NaN</td>\n",
       "      <td>NaN</td>\n",
       "      <td>NaN</td>\n",
       "      <td>42228.0</td>\n",
       "      <td>0.0</td>\n",
       "      <td>NaN</td>\n",
       "      <td>0.0</td>\n",
       "      <td>2017.0</td>\n",
       "      <td>1.4</td>\n",
       "    </tr>\n",
       "  </tbody>\n",
       "</table>\n",
       "<p>12 rows × 39 columns</p>\n",
       "</div>"
      ],
      "text/plain": [
       "                                    tweet_id  in_reply_to_status_id_x  \\\n",
       "p1                      year_x                                          \n",
       "Gordon_setter           2017    8.203146e+17                      NaN   \n",
       "Irish_setter            2017    8.214072e+17                      NaN   \n",
       "black-and-tan_coonhound 2017    8.541204e+17                      NaN   \n",
       "chimpanzee              2017    8.601848e+17                      NaN   \n",
       "comic_book              2017    8.700632e+17                      NaN   \n",
       "laptop                  2017    8.688804e+17                      NaN   \n",
       "limousine               2017    8.875171e+17                      NaN   \n",
       "military_uniform        2017    8.414399e+17                      NaN   \n",
       "pedestal                2016    7.942053e+17                      NaN   \n",
       "pole                    2017    8.648732e+17                      NaN   \n",
       "prison                  2017    8.356162e+17                      NaN   \n",
       "standard_poodle         2017    8.190048e+17                      NaN   \n",
       "\n",
       "                                in_reply_to_user_id_x  retweeted_status_id  \\\n",
       "p1                      year_x                                               \n",
       "Gordon_setter           2017                      NaN                  NaN   \n",
       "Irish_setter            2017                      NaN                  NaN   \n",
       "black-and-tan_coonhound 2017                      NaN                  NaN   \n",
       "chimpanzee              2017                      NaN                  NaN   \n",
       "comic_book              2017                      NaN                  NaN   \n",
       "laptop                  2017                      NaN                  NaN   \n",
       "limousine               2017                      NaN                  NaN   \n",
       "military_uniform        2017                      NaN                  NaN   \n",
       "pedestal                2016                      NaN                  NaN   \n",
       "pole                    2017                      NaN                  NaN   \n",
       "prison                  2017                      NaN                  NaN   \n",
       "standard_poodle         2017                      NaN                  NaN   \n",
       "\n",
       "                                retweeted_status_user_id  \\\n",
       "p1                      year_x                             \n",
       "Gordon_setter           2017                         NaN   \n",
       "Irish_setter            2017                         NaN   \n",
       "black-and-tan_coonhound 2017                         NaN   \n",
       "chimpanzee              2017                         NaN   \n",
       "comic_book              2017                         NaN   \n",
       "laptop                  2017                         NaN   \n",
       "limousine               2017                         NaN   \n",
       "military_uniform        2017                         NaN   \n",
       "pedestal                2016                         NaN   \n",
       "pole                    2017                         NaN   \n",
       "prison                  2017                         NaN   \n",
       "standard_poodle         2017                         NaN   \n",
       "\n",
       "                                retweeted_status_timestamp  rating_numerator  \\\n",
       "p1                      year_x                                                 \n",
       "Gordon_setter           2017                           NaN              14.0   \n",
       "Irish_setter            2017                           NaN              14.0   \n",
       "black-and-tan_coonhound 2017                           NaN              14.0   \n",
       "chimpanzee              2017                           NaN              14.0   \n",
       "comic_book              2017                           NaN              14.0   \n",
       "laptop                  2017                           NaN              14.0   \n",
       "limousine               2017                           NaN              14.0   \n",
       "military_uniform        2017                           NaN              14.0   \n",
       "pedestal                2016                           NaN              14.0   \n",
       "pole                    2017                           NaN              14.0   \n",
       "prison                  2017                           NaN              14.0   \n",
       "standard_poodle         2017                           NaN              14.0   \n",
       "\n",
       "                                rating_denominator  img_num   p1_conf   ...    \\\n",
       "p1                      year_x                                          ...     \n",
       "Gordon_setter           2017                  10.0      2.0  0.940724   ...     \n",
       "Irish_setter            2017                  10.0      1.0  0.505496   ...     \n",
       "black-and-tan_coonhound 2017                  10.0      4.0  0.854861   ...     \n",
       "chimpanzee              2017                  10.0      1.0  0.267612   ...     \n",
       "comic_book              2017                  10.0      1.0  0.534409   ...     \n",
       "laptop                  2017                  10.0      1.0  0.153718   ...     \n",
       "limousine               2017                  10.0      1.0  0.130432   ...     \n",
       "military_uniform        2017                  10.0      3.0  0.853684   ...     \n",
       "pedestal                2016                  10.0      3.0  0.662660   ...     \n",
       "pole                    2017                  10.0      2.0  0.478616   ...     \n",
       "prison                  2017                  10.0      2.5  0.629938   ...     \n",
       "standard_poodle         2017                  10.0      1.0  0.351308   ...     \n",
       "\n",
       "                                possibly_sensitive_appealable  quoted_status  \\\n",
       "p1                      year_x                                                 \n",
       "Gordon_setter           2017                              0.0            NaN   \n",
       "Irish_setter            2017                              0.0            NaN   \n",
       "black-and-tan_coonhound 2017                              0.0            NaN   \n",
       "chimpanzee              2017                              0.0            NaN   \n",
       "comic_book              2017                              0.0            NaN   \n",
       "laptop                  2017                              0.0            NaN   \n",
       "limousine               2017                              0.0            NaN   \n",
       "military_uniform        2017                              0.0            NaN   \n",
       "pedestal                2016                              0.0            NaN   \n",
       "pole                    2017                              0.0            NaN   \n",
       "prison                  2017                              0.0            NaN   \n",
       "standard_poodle         2017                              0.0            NaN   \n",
       "\n",
       "                                quoted_status_id  quoted_status_id_str  \\\n",
       "p1                      year_x                                           \n",
       "Gordon_setter           2017                 NaN                   NaN   \n",
       "Irish_setter            2017                 NaN                   NaN   \n",
       "black-and-tan_coonhound 2017                 NaN                   NaN   \n",
       "chimpanzee              2017                 NaN                   NaN   \n",
       "comic_book              2017                 NaN                   NaN   \n",
       "laptop                  2017                 NaN                   NaN   \n",
       "limousine               2017                 NaN                   NaN   \n",
       "military_uniform        2017                 NaN                   NaN   \n",
       "pedestal                2016                 NaN                   NaN   \n",
       "pole                    2017                 NaN                   NaN   \n",
       "prison                  2017                 NaN                   NaN   \n",
       "standard_poodle         2017                 NaN                   NaN   \n",
       "\n",
       "                                retweet_count  retweeted  retweeted_status  \\\n",
       "p1                      year_x                                               \n",
       "Gordon_setter           2017            648.0        0.0               NaN   \n",
       "Irish_setter            2017           5053.0        0.0               NaN   \n",
       "black-and-tan_coonhound 2017           8285.0        0.0               NaN   \n",
       "chimpanzee              2017           6295.0        0.0               NaN   \n",
       "comic_book              2017           8840.0        0.0               NaN   \n",
       "laptop                  2017          12518.0        0.0               NaN   \n",
       "limousine               2017          12082.0        0.0               NaN   \n",
       "military_uniform        2017           4168.0        0.0               NaN   \n",
       "pedestal                2016           3895.0        0.0               NaN   \n",
       "pole                    2017           9361.0        0.0               NaN   \n",
       "prison                  2017          14682.0        0.0               NaN   \n",
       "standard_poodle         2017          42228.0        0.0               NaN   \n",
       "\n",
       "                                truncated  year_y  rating  \n",
       "p1                      year_x                             \n",
       "Gordon_setter           2017          0.0  2017.0     1.4  \n",
       "Irish_setter            2017          0.0  2017.0     1.4  \n",
       "black-and-tan_coonhound 2017          0.0  2017.0     1.4  \n",
       "chimpanzee              2017          0.0  2017.0     1.4  \n",
       "comic_book              2017          0.0  2017.0     1.4  \n",
       "laptop                  2017          0.0  2017.0     1.4  \n",
       "limousine               2017          0.0  2017.0     1.4  \n",
       "military_uniform        2017          0.0  2017.0     1.4  \n",
       "pedestal                2016          0.0  2016.0     1.4  \n",
       "pole                    2017          0.0  2017.0     1.4  \n",
       "prison                  2017          0.0  2017.0     1.4  \n",
       "standard_poodle         2017          0.0  2017.0     1.4  \n",
       "\n",
       "[12 rows x 39 columns]"
      ]
     },
     "execution_count": 119,
     "metadata": {},
     "output_type": "execute_result"
    }
   ],
   "source": [
    "twitter_grouped_breed[twitter_grouped_breed.rating == max(twitter_grouped_breed.rating)]"
   ]
  },
  {
   "cell_type": "markdown",
   "metadata": {},
   "source": [
    "#### b) Least favorite breeds"
   ]
  },
  {
   "cell_type": "code",
   "execution_count": 120,
   "metadata": {},
   "outputs": [
    {
     "data": {
      "text/html": [
       "<div>\n",
       "<style scoped>\n",
       "    .dataframe tbody tr th:only-of-type {\n",
       "        vertical-align: middle;\n",
       "    }\n",
       "\n",
       "    .dataframe tbody tr th {\n",
       "        vertical-align: top;\n",
       "    }\n",
       "\n",
       "    .dataframe thead th {\n",
       "        text-align: right;\n",
       "    }\n",
       "</style>\n",
       "<table border=\"1\" class=\"dataframe\">\n",
       "  <thead>\n",
       "    <tr style=\"text-align: right;\">\n",
       "      <th></th>\n",
       "      <th></th>\n",
       "      <th>tweet_id</th>\n",
       "      <th>in_reply_to_status_id_x</th>\n",
       "      <th>in_reply_to_user_id_x</th>\n",
       "      <th>retweeted_status_id</th>\n",
       "      <th>retweeted_status_user_id</th>\n",
       "      <th>retweeted_status_timestamp</th>\n",
       "      <th>rating_numerator</th>\n",
       "      <th>rating_denominator</th>\n",
       "      <th>img_num</th>\n",
       "      <th>p1_conf</th>\n",
       "      <th>...</th>\n",
       "      <th>possibly_sensitive_appealable</th>\n",
       "      <th>quoted_status</th>\n",
       "      <th>quoted_status_id</th>\n",
       "      <th>quoted_status_id_str</th>\n",
       "      <th>retweet_count</th>\n",
       "      <th>retweeted</th>\n",
       "      <th>retweeted_status</th>\n",
       "      <th>truncated</th>\n",
       "      <th>year_y</th>\n",
       "      <th>rating</th>\n",
       "    </tr>\n",
       "    <tr>\n",
       "      <th>p1</th>\n",
       "      <th>year_x</th>\n",
       "      <th></th>\n",
       "      <th></th>\n",
       "      <th></th>\n",
       "      <th></th>\n",
       "      <th></th>\n",
       "      <th></th>\n",
       "      <th></th>\n",
       "      <th></th>\n",
       "      <th></th>\n",
       "      <th></th>\n",
       "      <th></th>\n",
       "      <th></th>\n",
       "      <th></th>\n",
       "      <th></th>\n",
       "      <th></th>\n",
       "      <th></th>\n",
       "      <th></th>\n",
       "      <th></th>\n",
       "      <th></th>\n",
       "      <th></th>\n",
       "      <th></th>\n",
       "    </tr>\n",
       "  </thead>\n",
       "  <tbody>\n",
       "    <tr>\n",
       "      <th>electric_fan</th>\n",
       "      <th>2015</th>\n",
       "      <td>6.675491e+17</td>\n",
       "      <td>NaN</td>\n",
       "      <td>NaN</td>\n",
       "      <td>NaN</td>\n",
       "      <td>NaN</td>\n",
       "      <td>NaN</td>\n",
       "      <td>1.0</td>\n",
       "      <td>10.0</td>\n",
       "      <td>1.0</td>\n",
       "      <td>0.984377</td>\n",
       "      <td>...</td>\n",
       "      <td>0.0</td>\n",
       "      <td>NaN</td>\n",
       "      <td>NaN</td>\n",
       "      <td>NaN</td>\n",
       "      <td>2454.0</td>\n",
       "      <td>0.0</td>\n",
       "      <td>NaN</td>\n",
       "      <td>0.0</td>\n",
       "      <td>2015.0</td>\n",
       "      <td>0.1</td>\n",
       "    </tr>\n",
       "    <tr>\n",
       "      <th>lacewing</th>\n",
       "      <th>2015</th>\n",
       "      <td>6.707834e+17</td>\n",
       "      <td>NaN</td>\n",
       "      <td>NaN</td>\n",
       "      <td>NaN</td>\n",
       "      <td>NaN</td>\n",
       "      <td>NaN</td>\n",
       "      <td>1.0</td>\n",
       "      <td>10.0</td>\n",
       "      <td>1.0</td>\n",
       "      <td>0.381955</td>\n",
       "      <td>...</td>\n",
       "      <td>0.0</td>\n",
       "      <td>NaN</td>\n",
       "      <td>NaN</td>\n",
       "      <td>NaN</td>\n",
       "      <td>431.0</td>\n",
       "      <td>0.0</td>\n",
       "      <td>NaN</td>\n",
       "      <td>0.0</td>\n",
       "      <td>2015.0</td>\n",
       "      <td>0.1</td>\n",
       "    </tr>\n",
       "    <tr>\n",
       "      <th>paper_towel</th>\n",
       "      <th>2015</th>\n",
       "      <td>6.751534e+17</td>\n",
       "      <td>NaN</td>\n",
       "      <td>NaN</td>\n",
       "      <td>NaN</td>\n",
       "      <td>NaN</td>\n",
       "      <td>NaN</td>\n",
       "      <td>1.0</td>\n",
       "      <td>10.0</td>\n",
       "      <td>1.0</td>\n",
       "      <td>0.327957</td>\n",
       "      <td>...</td>\n",
       "      <td>0.0</td>\n",
       "      <td>NaN</td>\n",
       "      <td>NaN</td>\n",
       "      <td>NaN</td>\n",
       "      <td>2734.0</td>\n",
       "      <td>0.0</td>\n",
       "      <td>NaN</td>\n",
       "      <td>0.0</td>\n",
       "      <td>2015.0</td>\n",
       "      <td>0.1</td>\n",
       "    </tr>\n",
       "  </tbody>\n",
       "</table>\n",
       "<p>3 rows × 39 columns</p>\n",
       "</div>"
      ],
      "text/plain": [
       "                         tweet_id  in_reply_to_status_id_x  \\\n",
       "p1           year_x                                          \n",
       "electric_fan 2015    6.675491e+17                      NaN   \n",
       "lacewing     2015    6.707834e+17                      NaN   \n",
       "paper_towel  2015    6.751534e+17                      NaN   \n",
       "\n",
       "                     in_reply_to_user_id_x  retweeted_status_id  \\\n",
       "p1           year_x                                               \n",
       "electric_fan 2015                      NaN                  NaN   \n",
       "lacewing     2015                      NaN                  NaN   \n",
       "paper_towel  2015                      NaN                  NaN   \n",
       "\n",
       "                     retweeted_status_user_id  retweeted_status_timestamp  \\\n",
       "p1           year_x                                                         \n",
       "electric_fan 2015                         NaN                         NaN   \n",
       "lacewing     2015                         NaN                         NaN   \n",
       "paper_towel  2015                         NaN                         NaN   \n",
       "\n",
       "                     rating_numerator  rating_denominator  img_num   p1_conf  \\\n",
       "p1           year_x                                                            \n",
       "electric_fan 2015                 1.0                10.0      1.0  0.984377   \n",
       "lacewing     2015                 1.0                10.0      1.0  0.381955   \n",
       "paper_towel  2015                 1.0                10.0      1.0  0.327957   \n",
       "\n",
       "                      ...    possibly_sensitive_appealable  quoted_status  \\\n",
       "p1           year_x   ...                                                   \n",
       "electric_fan 2015     ...                              0.0            NaN   \n",
       "lacewing     2015     ...                              0.0            NaN   \n",
       "paper_towel  2015     ...                              0.0            NaN   \n",
       "\n",
       "                     quoted_status_id  quoted_status_id_str  retweet_count  \\\n",
       "p1           year_x                                                          \n",
       "electric_fan 2015                 NaN                   NaN         2454.0   \n",
       "lacewing     2015                 NaN                   NaN          431.0   \n",
       "paper_towel  2015                 NaN                   NaN         2734.0   \n",
       "\n",
       "                     retweeted  retweeted_status  truncated  year_y  rating  \n",
       "p1           year_x                                                          \n",
       "electric_fan 2015          0.0               NaN        0.0  2015.0     0.1  \n",
       "lacewing     2015          0.0               NaN        0.0  2015.0     0.1  \n",
       "paper_towel  2015          0.0               NaN        0.0  2015.0     0.1  \n",
       "\n",
       "[3 rows x 39 columns]"
      ]
     },
     "execution_count": 120,
     "metadata": {},
     "output_type": "execute_result"
    }
   ],
   "source": [
    "twitter_grouped_breed[twitter_grouped_breed.rating == min(twitter_grouped_breed.rating)]"
   ]
  },
  {
   "cell_type": "markdown",
   "metadata": {},
   "source": [
    "#### c) What changes if we filter by prediction confidence?"
   ]
  },
  {
   "cell_type": "code",
   "execution_count": 121,
   "metadata": {},
   "outputs": [],
   "source": [
    "twitter_grouped_breed_clean = twitter_data[twitter_data.p1_dog == True]\n",
    "twitter_grouped_breed_clean = twitter_grouped_breed_clean.groupby(['p1', 'year_x']).mean()"
   ]
  },
  {
   "cell_type": "code",
   "execution_count": 98,
   "metadata": {},
   "outputs": [
    {
     "data": {
      "text/html": [
       "<div>\n",
       "<style scoped>\n",
       "    .dataframe tbody tr th:only-of-type {\n",
       "        vertical-align: middle;\n",
       "    }\n",
       "\n",
       "    .dataframe tbody tr th {\n",
       "        vertical-align: top;\n",
       "    }\n",
       "\n",
       "    .dataframe thead th {\n",
       "        text-align: right;\n",
       "    }\n",
       "</style>\n",
       "<table border=\"1\" class=\"dataframe\">\n",
       "  <thead>\n",
       "    <tr style=\"text-align: right;\">\n",
       "      <th></th>\n",
       "      <th>tweet_id</th>\n",
       "      <th>in_reply_to_status_id_x</th>\n",
       "      <th>in_reply_to_user_id_x</th>\n",
       "      <th>timestamp</th>\n",
       "      <th>source_x</th>\n",
       "      <th>text</th>\n",
       "      <th>retweeted_status_id</th>\n",
       "      <th>retweeted_status_user_id</th>\n",
       "      <th>retweeted_status_timestamp</th>\n",
       "      <th>expanded_urls</th>\n",
       "      <th>...</th>\n",
       "      <th>quoted_status_id_str</th>\n",
       "      <th>retweet_count</th>\n",
       "      <th>retweeted</th>\n",
       "      <th>retweeted_status</th>\n",
       "      <th>source_y</th>\n",
       "      <th>truncated</th>\n",
       "      <th>user</th>\n",
       "      <th>DateTime_y</th>\n",
       "      <th>year_y</th>\n",
       "      <th>rating</th>\n",
       "    </tr>\n",
       "  </thead>\n",
       "  <tbody>\n",
       "    <tr>\n",
       "      <th>9</th>\n",
       "      <td>890240255349198849</td>\n",
       "      <td>NaN</td>\n",
       "      <td>NaN</td>\n",
       "      <td>2017-07-26 15:59:51 +0000</td>\n",
       "      <td>&lt;a href=\"http://twitter.com/download/iphone\" r...</td>\n",
       "      <td>This is Cassie. She is a college pup. Studying...</td>\n",
       "      <td>NaN</td>\n",
       "      <td>NaN</td>\n",
       "      <td>NaN</td>\n",
       "      <td>https://twitter.com/dog_rates/status/890240255...</td>\n",
       "      <td>...</td>\n",
       "      <td>NaN</td>\n",
       "      <td>7711</td>\n",
       "      <td>False</td>\n",
       "      <td>NaN</td>\n",
       "      <td>&lt;a href=\"http://twitter.com/download/iphone\" r...</td>\n",
       "      <td>False</td>\n",
       "      <td>{'id': 4196983835, 'id_str': '4196983835', 'na...</td>\n",
       "      <td>2017-07-26 15:59:51</td>\n",
       "      <td>2017</td>\n",
       "      <td>1.4</td>\n",
       "    </tr>\n",
       "    <tr>\n",
       "      <th>36</th>\n",
       "      <td>884441805382717440</td>\n",
       "      <td>NaN</td>\n",
       "      <td>NaN</td>\n",
       "      <td>2017-07-10 15:58:53 +0000</td>\n",
       "      <td>&lt;a href=\"http://twitter.com/download/iphone\" r...</td>\n",
       "      <td>I present to you, Pup in Hat. Pup in Hat is gr...</td>\n",
       "      <td>NaN</td>\n",
       "      <td>NaN</td>\n",
       "      <td>NaN</td>\n",
       "      <td>https://twitter.com/dog_rates/status/884441805...</td>\n",
       "      <td>...</td>\n",
       "      <td>NaN</td>\n",
       "      <td>5856</td>\n",
       "      <td>False</td>\n",
       "      <td>NaN</td>\n",
       "      <td>&lt;a href=\"http://twitter.com/download/iphone\" r...</td>\n",
       "      <td>False</td>\n",
       "      <td>{'id': 4196983835, 'id_str': '4196983835', 'na...</td>\n",
       "      <td>2017-07-10 15:58:53</td>\n",
       "      <td>2017</td>\n",
       "      <td>1.4</td>\n",
       "    </tr>\n",
       "    <tr>\n",
       "      <th>49</th>\n",
       "      <td>881536004380872706</td>\n",
       "      <td>NaN</td>\n",
       "      <td>NaN</td>\n",
       "      <td>2017-07-02 15:32:16 +0000</td>\n",
       "      <td>&lt;a href=\"http://twitter.com/download/iphone\" r...</td>\n",
       "      <td>Here is a pupper approaching maximum borkdrive...</td>\n",
       "      <td>NaN</td>\n",
       "      <td>NaN</td>\n",
       "      <td>NaN</td>\n",
       "      <td>https://twitter.com/dog_rates/status/881536004...</td>\n",
       "      <td>...</td>\n",
       "      <td>NaN</td>\n",
       "      <td>16570</td>\n",
       "      <td>False</td>\n",
       "      <td>NaN</td>\n",
       "      <td>&lt;a href=\"http://twitter.com/download/iphone\" r...</td>\n",
       "      <td>False</td>\n",
       "      <td>{'id': 4196983835, 'id_str': '4196983835', 'na...</td>\n",
       "      <td>2017-07-02 15:32:16</td>\n",
       "      <td>2017</td>\n",
       "      <td>1.4</td>\n",
       "    </tr>\n",
       "    <tr>\n",
       "      <th>64</th>\n",
       "      <td>878057613040115712</td>\n",
       "      <td>NaN</td>\n",
       "      <td>NaN</td>\n",
       "      <td>2017-06-23 01:10:23 +0000</td>\n",
       "      <td>&lt;a href=\"http://twitter.com/download/iphone\" r...</td>\n",
       "      <td>This is Emmy. She was adopted today. Massive r...</td>\n",
       "      <td>NaN</td>\n",
       "      <td>NaN</td>\n",
       "      <td>NaN</td>\n",
       "      <td>https://twitter.com/dog_rates/status/878057613...</td>\n",
       "      <td>...</td>\n",
       "      <td>NaN</td>\n",
       "      <td>7181</td>\n",
       "      <td>False</td>\n",
       "      <td>NaN</td>\n",
       "      <td>&lt;a href=\"http://twitter.com/download/iphone\" r...</td>\n",
       "      <td>False</td>\n",
       "      <td>{'id': 4196983835, 'id_str': '4196983835', 'na...</td>\n",
       "      <td>2017-06-23 01:10:23</td>\n",
       "      <td>2017</td>\n",
       "      <td>1.4</td>\n",
       "    </tr>\n",
       "    <tr>\n",
       "      <th>145</th>\n",
       "      <td>856282028240666624</td>\n",
       "      <td>NaN</td>\n",
       "      <td>NaN</td>\n",
       "      <td>2017-04-23 23:01:59 +0000</td>\n",
       "      <td>&lt;a href=\"http://twitter.com/download/iphone\" r...</td>\n",
       "      <td>This is Cermet, Paesh, and Morple. They are ab...</td>\n",
       "      <td>NaN</td>\n",
       "      <td>NaN</td>\n",
       "      <td>NaN</td>\n",
       "      <td>https://twitter.com/dog_rates/status/856282028...</td>\n",
       "      <td>...</td>\n",
       "      <td>NaN</td>\n",
       "      <td>6841</td>\n",
       "      <td>False</td>\n",
       "      <td>NaN</td>\n",
       "      <td>&lt;a href=\"http://twitter.com/download/iphone\" r...</td>\n",
       "      <td>False</td>\n",
       "      <td>{'id': 4196983835, 'id_str': '4196983835', 'na...</td>\n",
       "      <td>2017-04-23 23:01:59</td>\n",
       "      <td>2017</td>\n",
       "      <td>1.4</td>\n",
       "    </tr>\n",
       "    <tr>\n",
       "      <th>151</th>\n",
       "      <td>854120357044912130</td>\n",
       "      <td>NaN</td>\n",
       "      <td>NaN</td>\n",
       "      <td>2017-04-17 23:52:16 +0000</td>\n",
       "      <td>&lt;a href=\"http://twitter.com/download/iphone\" r...</td>\n",
       "      <td>Sometimes you guys remind me just how impactfu...</td>\n",
       "      <td>NaN</td>\n",
       "      <td>NaN</td>\n",
       "      <td>NaN</td>\n",
       "      <td>https://twitter.com/dog_rates/status/854120357...</td>\n",
       "      <td>...</td>\n",
       "      <td>NaN</td>\n",
       "      <td>8285</td>\n",
       "      <td>False</td>\n",
       "      <td>NaN</td>\n",
       "      <td>&lt;a href=\"http://twitter.com/download/iphone\" r...</td>\n",
       "      <td>False</td>\n",
       "      <td>{'id': 4196983835, 'id_str': '4196983835', 'na...</td>\n",
       "      <td>2017-04-17 23:52:16</td>\n",
       "      <td>2017</td>\n",
       "      <td>1.4</td>\n",
       "    </tr>\n",
       "    <tr>\n",
       "      <th>250</th>\n",
       "      <td>832273440279240704</td>\n",
       "      <td>NaN</td>\n",
       "      <td>NaN</td>\n",
       "      <td>2017-02-16 17:00:25 +0000</td>\n",
       "      <td>&lt;a href=\"http://twitter.com/download/iphone\" r...</td>\n",
       "      <td>Say hello to Smiley. He's a blind therapy dogg...</td>\n",
       "      <td>NaN</td>\n",
       "      <td>NaN</td>\n",
       "      <td>NaN</td>\n",
       "      <td>https://twitter.com/dog_rates/status/832273440...</td>\n",
       "      <td>...</td>\n",
       "      <td>NaN</td>\n",
       "      <td>2673</td>\n",
       "      <td>False</td>\n",
       "      <td>NaN</td>\n",
       "      <td>&lt;a href=\"http://twitter.com/download/iphone\" r...</td>\n",
       "      <td>False</td>\n",
       "      <td>{'id': 4196983835, 'id_str': '4196983835', 'na...</td>\n",
       "      <td>2017-02-16 17:00:25</td>\n",
       "      <td>2017</td>\n",
       "      <td>1.4</td>\n",
       "    </tr>\n",
       "    <tr>\n",
       "      <th>253</th>\n",
       "      <td>831911600680497154</td>\n",
       "      <td>NaN</td>\n",
       "      <td>NaN</td>\n",
       "      <td>2017-02-15 17:02:36 +0000</td>\n",
       "      <td>&lt;a href=\"http://twitter.com/download/iphone\" r...</td>\n",
       "      <td>Meet Kuyu. He was trapped in a well for 10 day...</td>\n",
       "      <td>NaN</td>\n",
       "      <td>NaN</td>\n",
       "      <td>NaN</td>\n",
       "      <td>https://twitter.com/dog_rates/status/831911600...</td>\n",
       "      <td>...</td>\n",
       "      <td>NaN</td>\n",
       "      <td>7458</td>\n",
       "      <td>False</td>\n",
       "      <td>NaN</td>\n",
       "      <td>&lt;a href=\"http://twitter.com/download/iphone\" r...</td>\n",
       "      <td>False</td>\n",
       "      <td>{'id': 4196983835, 'id_str': '4196983835', 'na...</td>\n",
       "      <td>2017-02-15 17:02:36</td>\n",
       "      <td>2017</td>\n",
       "      <td>1.4</td>\n",
       "    </tr>\n",
       "    <tr>\n",
       "      <th>272</th>\n",
       "      <td>828650029636317184</td>\n",
       "      <td>NaN</td>\n",
       "      <td>NaN</td>\n",
       "      <td>2017-02-06 17:02:17 +0000</td>\n",
       "      <td>&lt;a href=\"http://twitter.com/download/iphone\" r...</td>\n",
       "      <td>Occasionally, we're sent fantastic stories. Th...</td>\n",
       "      <td>NaN</td>\n",
       "      <td>NaN</td>\n",
       "      <td>NaN</td>\n",
       "      <td>https://twitter.com/dog_rates/status/828650029...</td>\n",
       "      <td>...</td>\n",
       "      <td>NaN</td>\n",
       "      <td>1544</td>\n",
       "      <td>False</td>\n",
       "      <td>NaN</td>\n",
       "      <td>&lt;a href=\"http://twitter.com/download/iphone\" r...</td>\n",
       "      <td>False</td>\n",
       "      <td>{'id': 4196983835, 'id_str': '4196983835', 'na...</td>\n",
       "      <td>2017-02-06 17:02:17</td>\n",
       "      <td>2017</td>\n",
       "      <td>1.4</td>\n",
       "    </tr>\n",
       "    <tr>\n",
       "      <th>275</th>\n",
       "      <td>828381636999917570</td>\n",
       "      <td>NaN</td>\n",
       "      <td>NaN</td>\n",
       "      <td>2017-02-05 23:15:47 +0000</td>\n",
       "      <td>&lt;a href=\"http://twitter.com/download/iphone\" r...</td>\n",
       "      <td>Meet Doobert. He's a deaf doggo. Didn't stop h...</td>\n",
       "      <td>NaN</td>\n",
       "      <td>NaN</td>\n",
       "      <td>NaN</td>\n",
       "      <td>https://twitter.com/dog_rates/status/828381636...</td>\n",
       "      <td>...</td>\n",
       "      <td>NaN</td>\n",
       "      <td>2554</td>\n",
       "      <td>False</td>\n",
       "      <td>NaN</td>\n",
       "      <td>&lt;a href=\"http://twitter.com/download/iphone\" r...</td>\n",
       "      <td>False</td>\n",
       "      <td>{'id': 4196983835, 'id_str': '4196983835', 'na...</td>\n",
       "      <td>2017-02-05 23:15:47</td>\n",
       "      <td>2017</td>\n",
       "      <td>1.4</td>\n",
       "    </tr>\n",
       "    <tr>\n",
       "      <th>294</th>\n",
       "      <td>825535076884762624</td>\n",
       "      <td>NaN</td>\n",
       "      <td>NaN</td>\n",
       "      <td>2017-01-29 02:44:34 +0000</td>\n",
       "      <td>&lt;a href=\"http://twitter.com/download/iphone\" r...</td>\n",
       "      <td>Here's a very loving and accepting puppo. Appe...</td>\n",
       "      <td>NaN</td>\n",
       "      <td>NaN</td>\n",
       "      <td>NaN</td>\n",
       "      <td>https://twitter.com/dog_rates/status/825535076...</td>\n",
       "      <td>...</td>\n",
       "      <td>NaN</td>\n",
       "      <td>19669</td>\n",
       "      <td>False</td>\n",
       "      <td>NaN</td>\n",
       "      <td>&lt;a href=\"http://twitter.com/download/iphone\" r...</td>\n",
       "      <td>False</td>\n",
       "      <td>{'id': 4196983835, 'id_str': '4196983835', 'na...</td>\n",
       "      <td>2017-01-29 02:44:34</td>\n",
       "      <td>2017</td>\n",
       "      <td>1.4</td>\n",
       "    </tr>\n",
       "    <tr>\n",
       "      <th>310</th>\n",
       "      <td>822462944365645825</td>\n",
       "      <td>NaN</td>\n",
       "      <td>NaN</td>\n",
       "      <td>2017-01-20 15:17:01 +0000</td>\n",
       "      <td>&lt;a href=\"http://twitter.com/download/iphone\" r...</td>\n",
       "      <td>This is Gabe. He was the unequivocal embodimen...</td>\n",
       "      <td>NaN</td>\n",
       "      <td>NaN</td>\n",
       "      <td>NaN</td>\n",
       "      <td>https://twitter.com/dog_rates/status/822462944...</td>\n",
       "      <td>...</td>\n",
       "      <td>NaN</td>\n",
       "      <td>17209</td>\n",
       "      <td>False</td>\n",
       "      <td>NaN</td>\n",
       "      <td>&lt;a href=\"http://twitter.com/download/iphone\" r...</td>\n",
       "      <td>False</td>\n",
       "      <td>{'id': 4196983835, 'id_str': '4196983835', 'na...</td>\n",
       "      <td>2017-01-20 15:17:01</td>\n",
       "      <td>2017</td>\n",
       "      <td>1.4</td>\n",
       "    </tr>\n",
       "    <tr>\n",
       "      <th>315</th>\n",
       "      <td>821407182352777218</td>\n",
       "      <td>NaN</td>\n",
       "      <td>NaN</td>\n",
       "      <td>2017-01-17 17:21:47 +0000</td>\n",
       "      <td>&lt;a href=\"http://twitter.com/download/iphone\" r...</td>\n",
       "      <td>This is Sundance. He's a doggo drummer. Even s...</td>\n",
       "      <td>NaN</td>\n",
       "      <td>NaN</td>\n",
       "      <td>NaN</td>\n",
       "      <td>https://twitter.com/dog_rates/status/821407182...</td>\n",
       "      <td>...</td>\n",
       "      <td>NaN</td>\n",
       "      <td>5053</td>\n",
       "      <td>False</td>\n",
       "      <td>NaN</td>\n",
       "      <td>&lt;a href=\"http://twitter.com/download/iphone\" r...</td>\n",
       "      <td>False</td>\n",
       "      <td>{'id': 4196983835, 'id_str': '4196983835', 'na...</td>\n",
       "      <td>2017-01-17 17:21:47</td>\n",
       "      <td>2017</td>\n",
       "      <td>1.4</td>\n",
       "    </tr>\n",
       "    <tr>\n",
       "      <th>320</th>\n",
       "      <td>820314633777061888</td>\n",
       "      <td>NaN</td>\n",
       "      <td>NaN</td>\n",
       "      <td>2017-01-14 17:00:24 +0000</td>\n",
       "      <td>&lt;a href=\"http://twitter.com/download/iphone\" r...</td>\n",
       "      <td>We are proud to support @LoveYourMelon on thei...</td>\n",
       "      <td>NaN</td>\n",
       "      <td>NaN</td>\n",
       "      <td>NaN</td>\n",
       "      <td>https://www.loveyourmelon.com/pages/ourstory,h...</td>\n",
       "      <td>...</td>\n",
       "      <td>NaN</td>\n",
       "      <td>648</td>\n",
       "      <td>False</td>\n",
       "      <td>NaN</td>\n",
       "      <td>&lt;a href=\"http://twitter.com/download/iphone\" r...</td>\n",
       "      <td>False</td>\n",
       "      <td>{'id': 4196983835, 'id_str': '4196983835', 'na...</td>\n",
       "      <td>2017-01-14 17:00:24</td>\n",
       "      <td>2017</td>\n",
       "      <td>1.4</td>\n",
       "    </tr>\n",
       "    <tr>\n",
       "      <th>329</th>\n",
       "      <td>819004803107983360</td>\n",
       "      <td>NaN</td>\n",
       "      <td>NaN</td>\n",
       "      <td>2017-01-11 02:15:36 +0000</td>\n",
       "      <td>&lt;a href=\"http://twitter.com/download/iphone\" r...</td>\n",
       "      <td>This is Bo. He was a very good First Doggo. 14...</td>\n",
       "      <td>NaN</td>\n",
       "      <td>NaN</td>\n",
       "      <td>NaN</td>\n",
       "      <td>https://twitter.com/dog_rates/status/819004803...</td>\n",
       "      <td>...</td>\n",
       "      <td>NaN</td>\n",
       "      <td>42228</td>\n",
       "      <td>False</td>\n",
       "      <td>NaN</td>\n",
       "      <td>&lt;a href=\"http://twitter.com/download/iphone\" r...</td>\n",
       "      <td>False</td>\n",
       "      <td>{'id': 4196983835, 'id_str': '4196983835', 'na...</td>\n",
       "      <td>2017-01-11 02:15:36</td>\n",
       "      <td>2017</td>\n",
       "      <td>1.4</td>\n",
       "    </tr>\n",
       "    <tr>\n",
       "      <th>358</th>\n",
       "      <td>813812741911748608</td>\n",
       "      <td>NaN</td>\n",
       "      <td>NaN</td>\n",
       "      <td>2016-12-27 18:24:12 +0000</td>\n",
       "      <td>&lt;a href=\"http://twitter.com/download/iphone\" r...</td>\n",
       "      <td>Meet Gary, Carrie Fisher's dog. Idk what I can...</td>\n",
       "      <td>NaN</td>\n",
       "      <td>NaN</td>\n",
       "      <td>NaN</td>\n",
       "      <td>https://twitter.com/dog_rates/status/813812741...</td>\n",
       "      <td>...</td>\n",
       "      <td>NaN</td>\n",
       "      <td>16267</td>\n",
       "      <td>False</td>\n",
       "      <td>NaN</td>\n",
       "      <td>&lt;a href=\"http://twitter.com/download/iphone\" r...</td>\n",
       "      <td>False</td>\n",
       "      <td>{'id': 4196983835, 'id_str': '4196983835', 'na...</td>\n",
       "      <td>2016-12-27 18:24:12</td>\n",
       "      <td>2016</td>\n",
       "      <td>1.4</td>\n",
       "    </tr>\n",
       "    <tr>\n",
       "      <th>394</th>\n",
       "      <td>807621403335917568</td>\n",
       "      <td>NaN</td>\n",
       "      <td>NaN</td>\n",
       "      <td>2016-12-10 16:22:02 +0000</td>\n",
       "      <td>&lt;a href=\"http://twitter.com/download/iphone\" r...</td>\n",
       "      <td>This is Ollie Vue. He was a 3 legged pupper on...</td>\n",
       "      <td>NaN</td>\n",
       "      <td>NaN</td>\n",
       "      <td>NaN</td>\n",
       "      <td>https://twitter.com/dog_rates/status/807621403...</td>\n",
       "      <td>...</td>\n",
       "      <td>NaN</td>\n",
       "      <td>4288</td>\n",
       "      <td>False</td>\n",
       "      <td>NaN</td>\n",
       "      <td>&lt;a href=\"http://twitter.com/download/iphone\" r...</td>\n",
       "      <td>False</td>\n",
       "      <td>{'id': 4196983835, 'id_str': '4196983835', 'na...</td>\n",
       "      <td>2016-12-10 16:22:02</td>\n",
       "      <td>2016</td>\n",
       "      <td>1.4</td>\n",
       "    </tr>\n",
       "    <tr>\n",
       "      <th>542</th>\n",
       "      <td>778408200802557953</td>\n",
       "      <td>NaN</td>\n",
       "      <td>NaN</td>\n",
       "      <td>2016-09-21 01:39:11 +0000</td>\n",
       "      <td>&lt;a href=\"http://twitter.com/download/iphone\" r...</td>\n",
       "      <td>RIP Loki. Thank you for the good times. You wi...</td>\n",
       "      <td>NaN</td>\n",
       "      <td>NaN</td>\n",
       "      <td>NaN</td>\n",
       "      <td>https://twitter.com/dog_rates/status/778408200...</td>\n",
       "      <td>...</td>\n",
       "      <td>NaN</td>\n",
       "      <td>5023</td>\n",
       "      <td>False</td>\n",
       "      <td>NaN</td>\n",
       "      <td>&lt;a href=\"http://twitter.com/download/iphone\" r...</td>\n",
       "      <td>False</td>\n",
       "      <td>{'id': 4196983835, 'id_str': '4196983835', 'na...</td>\n",
       "      <td>2016-09-21 01:39:11</td>\n",
       "      <td>2016</td>\n",
       "      <td>1.4</td>\n",
       "    </tr>\n",
       "    <tr>\n",
       "      <th>563</th>\n",
       "      <td>774314403806253056</td>\n",
       "      <td>NaN</td>\n",
       "      <td>NaN</td>\n",
       "      <td>2016-09-09 18:31:54 +0000</td>\n",
       "      <td>&lt;a href=\"http://twitter.com/download/iphone\" r...</td>\n",
       "      <td>I WAS SENT THE ACTUAL DOG IN THE PROFILE PIC B...</td>\n",
       "      <td>NaN</td>\n",
       "      <td>NaN</td>\n",
       "      <td>NaN</td>\n",
       "      <td>https://twitter.com/dog_rates/status/774314403...</td>\n",
       "      <td>...</td>\n",
       "      <td>NaN</td>\n",
       "      <td>6478</td>\n",
       "      <td>False</td>\n",
       "      <td>NaN</td>\n",
       "      <td>&lt;a href=\"http://twitter.com/download/iphone\" r...</td>\n",
       "      <td>False</td>\n",
       "      <td>{'id': 4196983835, 'id_str': '4196983835', 'na...</td>\n",
       "      <td>2016-09-09 18:31:54</td>\n",
       "      <td>2016</td>\n",
       "      <td>1.4</td>\n",
       "    </tr>\n",
       "  </tbody>\n",
       "</table>\n",
       "<p>19 rows × 65 columns</p>\n",
       "</div>"
      ],
      "text/plain": [
       "               tweet_id  in_reply_to_status_id_x  in_reply_to_user_id_x  \\\n",
       "9    890240255349198849                      NaN                    NaN   \n",
       "36   884441805382717440                      NaN                    NaN   \n",
       "49   881536004380872706                      NaN                    NaN   \n",
       "64   878057613040115712                      NaN                    NaN   \n",
       "145  856282028240666624                      NaN                    NaN   \n",
       "151  854120357044912130                      NaN                    NaN   \n",
       "250  832273440279240704                      NaN                    NaN   \n",
       "253  831911600680497154                      NaN                    NaN   \n",
       "272  828650029636317184                      NaN                    NaN   \n",
       "275  828381636999917570                      NaN                    NaN   \n",
       "294  825535076884762624                      NaN                    NaN   \n",
       "310  822462944365645825                      NaN                    NaN   \n",
       "315  821407182352777218                      NaN                    NaN   \n",
       "320  820314633777061888                      NaN                    NaN   \n",
       "329  819004803107983360                      NaN                    NaN   \n",
       "358  813812741911748608                      NaN                    NaN   \n",
       "394  807621403335917568                      NaN                    NaN   \n",
       "542  778408200802557953                      NaN                    NaN   \n",
       "563  774314403806253056                      NaN                    NaN   \n",
       "\n",
       "                     timestamp  \\\n",
       "9    2017-07-26 15:59:51 +0000   \n",
       "36   2017-07-10 15:58:53 +0000   \n",
       "49   2017-07-02 15:32:16 +0000   \n",
       "64   2017-06-23 01:10:23 +0000   \n",
       "145  2017-04-23 23:01:59 +0000   \n",
       "151  2017-04-17 23:52:16 +0000   \n",
       "250  2017-02-16 17:00:25 +0000   \n",
       "253  2017-02-15 17:02:36 +0000   \n",
       "272  2017-02-06 17:02:17 +0000   \n",
       "275  2017-02-05 23:15:47 +0000   \n",
       "294  2017-01-29 02:44:34 +0000   \n",
       "310  2017-01-20 15:17:01 +0000   \n",
       "315  2017-01-17 17:21:47 +0000   \n",
       "320  2017-01-14 17:00:24 +0000   \n",
       "329  2017-01-11 02:15:36 +0000   \n",
       "358  2016-12-27 18:24:12 +0000   \n",
       "394  2016-12-10 16:22:02 +0000   \n",
       "542  2016-09-21 01:39:11 +0000   \n",
       "563  2016-09-09 18:31:54 +0000   \n",
       "\n",
       "                                              source_x  \\\n",
       "9    <a href=\"http://twitter.com/download/iphone\" r...   \n",
       "36   <a href=\"http://twitter.com/download/iphone\" r...   \n",
       "49   <a href=\"http://twitter.com/download/iphone\" r...   \n",
       "64   <a href=\"http://twitter.com/download/iphone\" r...   \n",
       "145  <a href=\"http://twitter.com/download/iphone\" r...   \n",
       "151  <a href=\"http://twitter.com/download/iphone\" r...   \n",
       "250  <a href=\"http://twitter.com/download/iphone\" r...   \n",
       "253  <a href=\"http://twitter.com/download/iphone\" r...   \n",
       "272  <a href=\"http://twitter.com/download/iphone\" r...   \n",
       "275  <a href=\"http://twitter.com/download/iphone\" r...   \n",
       "294  <a href=\"http://twitter.com/download/iphone\" r...   \n",
       "310  <a href=\"http://twitter.com/download/iphone\" r...   \n",
       "315  <a href=\"http://twitter.com/download/iphone\" r...   \n",
       "320  <a href=\"http://twitter.com/download/iphone\" r...   \n",
       "329  <a href=\"http://twitter.com/download/iphone\" r...   \n",
       "358  <a href=\"http://twitter.com/download/iphone\" r...   \n",
       "394  <a href=\"http://twitter.com/download/iphone\" r...   \n",
       "542  <a href=\"http://twitter.com/download/iphone\" r...   \n",
       "563  <a href=\"http://twitter.com/download/iphone\" r...   \n",
       "\n",
       "                                                  text  retweeted_status_id  \\\n",
       "9    This is Cassie. She is a college pup. Studying...                  NaN   \n",
       "36   I present to you, Pup in Hat. Pup in Hat is gr...                  NaN   \n",
       "49   Here is a pupper approaching maximum borkdrive...                  NaN   \n",
       "64   This is Emmy. She was adopted today. Massive r...                  NaN   \n",
       "145  This is Cermet, Paesh, and Morple. They are ab...                  NaN   \n",
       "151  Sometimes you guys remind me just how impactfu...                  NaN   \n",
       "250  Say hello to Smiley. He's a blind therapy dogg...                  NaN   \n",
       "253  Meet Kuyu. He was trapped in a well for 10 day...                  NaN   \n",
       "272  Occasionally, we're sent fantastic stories. Th...                  NaN   \n",
       "275  Meet Doobert. He's a deaf doggo. Didn't stop h...                  NaN   \n",
       "294  Here's a very loving and accepting puppo. Appe...                  NaN   \n",
       "310  This is Gabe. He was the unequivocal embodimen...                  NaN   \n",
       "315  This is Sundance. He's a doggo drummer. Even s...                  NaN   \n",
       "320  We are proud to support @LoveYourMelon on thei...                  NaN   \n",
       "329  This is Bo. He was a very good First Doggo. 14...                  NaN   \n",
       "358  Meet Gary, Carrie Fisher's dog. Idk what I can...                  NaN   \n",
       "394  This is Ollie Vue. He was a 3 legged pupper on...                  NaN   \n",
       "542  RIP Loki. Thank you for the good times. You wi...                  NaN   \n",
       "563  I WAS SENT THE ACTUAL DOG IN THE PROFILE PIC B...                  NaN   \n",
       "\n",
       "     retweeted_status_user_id  retweeted_status_timestamp  \\\n",
       "9                         NaN                         NaN   \n",
       "36                        NaN                         NaN   \n",
       "49                        NaN                         NaN   \n",
       "64                        NaN                         NaN   \n",
       "145                       NaN                         NaN   \n",
       "151                       NaN                         NaN   \n",
       "250                       NaN                         NaN   \n",
       "253                       NaN                         NaN   \n",
       "272                       NaN                         NaN   \n",
       "275                       NaN                         NaN   \n",
       "294                       NaN                         NaN   \n",
       "310                       NaN                         NaN   \n",
       "315                       NaN                         NaN   \n",
       "320                       NaN                         NaN   \n",
       "329                       NaN                         NaN   \n",
       "358                       NaN                         NaN   \n",
       "394                       NaN                         NaN   \n",
       "542                       NaN                         NaN   \n",
       "563                       NaN                         NaN   \n",
       "\n",
       "                                         expanded_urls  ...    \\\n",
       "9    https://twitter.com/dog_rates/status/890240255...  ...     \n",
       "36   https://twitter.com/dog_rates/status/884441805...  ...     \n",
       "49   https://twitter.com/dog_rates/status/881536004...  ...     \n",
       "64   https://twitter.com/dog_rates/status/878057613...  ...     \n",
       "145  https://twitter.com/dog_rates/status/856282028...  ...     \n",
       "151  https://twitter.com/dog_rates/status/854120357...  ...     \n",
       "250  https://twitter.com/dog_rates/status/832273440...  ...     \n",
       "253  https://twitter.com/dog_rates/status/831911600...  ...     \n",
       "272  https://twitter.com/dog_rates/status/828650029...  ...     \n",
       "275  https://twitter.com/dog_rates/status/828381636...  ...     \n",
       "294  https://twitter.com/dog_rates/status/825535076...  ...     \n",
       "310  https://twitter.com/dog_rates/status/822462944...  ...     \n",
       "315  https://twitter.com/dog_rates/status/821407182...  ...     \n",
       "320  https://www.loveyourmelon.com/pages/ourstory,h...  ...     \n",
       "329  https://twitter.com/dog_rates/status/819004803...  ...     \n",
       "358  https://twitter.com/dog_rates/status/813812741...  ...     \n",
       "394  https://twitter.com/dog_rates/status/807621403...  ...     \n",
       "542  https://twitter.com/dog_rates/status/778408200...  ...     \n",
       "563  https://twitter.com/dog_rates/status/774314403...  ...     \n",
       "\n",
       "     quoted_status_id_str  retweet_count retweeted retweeted_status  \\\n",
       "9                     NaN           7711     False              NaN   \n",
       "36                    NaN           5856     False              NaN   \n",
       "49                    NaN          16570     False              NaN   \n",
       "64                    NaN           7181     False              NaN   \n",
       "145                   NaN           6841     False              NaN   \n",
       "151                   NaN           8285     False              NaN   \n",
       "250                   NaN           2673     False              NaN   \n",
       "253                   NaN           7458     False              NaN   \n",
       "272                   NaN           1544     False              NaN   \n",
       "275                   NaN           2554     False              NaN   \n",
       "294                   NaN          19669     False              NaN   \n",
       "310                   NaN          17209     False              NaN   \n",
       "315                   NaN           5053     False              NaN   \n",
       "320                   NaN            648     False              NaN   \n",
       "329                   NaN          42228     False              NaN   \n",
       "358                   NaN          16267     False              NaN   \n",
       "394                   NaN           4288     False              NaN   \n",
       "542                   NaN           5023     False              NaN   \n",
       "563                   NaN           6478     False              NaN   \n",
       "\n",
       "                                              source_y truncated  \\\n",
       "9    <a href=\"http://twitter.com/download/iphone\" r...     False   \n",
       "36   <a href=\"http://twitter.com/download/iphone\" r...     False   \n",
       "49   <a href=\"http://twitter.com/download/iphone\" r...     False   \n",
       "64   <a href=\"http://twitter.com/download/iphone\" r...     False   \n",
       "145  <a href=\"http://twitter.com/download/iphone\" r...     False   \n",
       "151  <a href=\"http://twitter.com/download/iphone\" r...     False   \n",
       "250  <a href=\"http://twitter.com/download/iphone\" r...     False   \n",
       "253  <a href=\"http://twitter.com/download/iphone\" r...     False   \n",
       "272  <a href=\"http://twitter.com/download/iphone\" r...     False   \n",
       "275  <a href=\"http://twitter.com/download/iphone\" r...     False   \n",
       "294  <a href=\"http://twitter.com/download/iphone\" r...     False   \n",
       "310  <a href=\"http://twitter.com/download/iphone\" r...     False   \n",
       "315  <a href=\"http://twitter.com/download/iphone\" r...     False   \n",
       "320  <a href=\"http://twitter.com/download/iphone\" r...     False   \n",
       "329  <a href=\"http://twitter.com/download/iphone\" r...     False   \n",
       "358  <a href=\"http://twitter.com/download/iphone\" r...     False   \n",
       "394  <a href=\"http://twitter.com/download/iphone\" r...     False   \n",
       "542  <a href=\"http://twitter.com/download/iphone\" r...     False   \n",
       "563  <a href=\"http://twitter.com/download/iphone\" r...     False   \n",
       "\n",
       "                                                  user           DateTime_y  \\\n",
       "9    {'id': 4196983835, 'id_str': '4196983835', 'na...  2017-07-26 15:59:51   \n",
       "36   {'id': 4196983835, 'id_str': '4196983835', 'na...  2017-07-10 15:58:53   \n",
       "49   {'id': 4196983835, 'id_str': '4196983835', 'na...  2017-07-02 15:32:16   \n",
       "64   {'id': 4196983835, 'id_str': '4196983835', 'na...  2017-06-23 01:10:23   \n",
       "145  {'id': 4196983835, 'id_str': '4196983835', 'na...  2017-04-23 23:01:59   \n",
       "151  {'id': 4196983835, 'id_str': '4196983835', 'na...  2017-04-17 23:52:16   \n",
       "250  {'id': 4196983835, 'id_str': '4196983835', 'na...  2017-02-16 17:00:25   \n",
       "253  {'id': 4196983835, 'id_str': '4196983835', 'na...  2017-02-15 17:02:36   \n",
       "272  {'id': 4196983835, 'id_str': '4196983835', 'na...  2017-02-06 17:02:17   \n",
       "275  {'id': 4196983835, 'id_str': '4196983835', 'na...  2017-02-05 23:15:47   \n",
       "294  {'id': 4196983835, 'id_str': '4196983835', 'na...  2017-01-29 02:44:34   \n",
       "310  {'id': 4196983835, 'id_str': '4196983835', 'na...  2017-01-20 15:17:01   \n",
       "315  {'id': 4196983835, 'id_str': '4196983835', 'na...  2017-01-17 17:21:47   \n",
       "320  {'id': 4196983835, 'id_str': '4196983835', 'na...  2017-01-14 17:00:24   \n",
       "329  {'id': 4196983835, 'id_str': '4196983835', 'na...  2017-01-11 02:15:36   \n",
       "358  {'id': 4196983835, 'id_str': '4196983835', 'na...  2016-12-27 18:24:12   \n",
       "394  {'id': 4196983835, 'id_str': '4196983835', 'na...  2016-12-10 16:22:02   \n",
       "542  {'id': 4196983835, 'id_str': '4196983835', 'na...  2016-09-21 01:39:11   \n",
       "563  {'id': 4196983835, 'id_str': '4196983835', 'na...  2016-09-09 18:31:54   \n",
       "\n",
       "     year_y rating  \n",
       "9      2017    1.4  \n",
       "36     2017    1.4  \n",
       "49     2017    1.4  \n",
       "64     2017    1.4  \n",
       "145    2017    1.4  \n",
       "151    2017    1.4  \n",
       "250    2017    1.4  \n",
       "253    2017    1.4  \n",
       "272    2017    1.4  \n",
       "275    2017    1.4  \n",
       "294    2017    1.4  \n",
       "310    2017    1.4  \n",
       "315    2017    1.4  \n",
       "320    2017    1.4  \n",
       "329    2017    1.4  \n",
       "358    2016    1.4  \n",
       "394    2016    1.4  \n",
       "542    2016    1.4  \n",
       "563    2016    1.4  \n",
       "\n",
       "[19 rows x 65 columns]"
      ]
     },
     "execution_count": 98,
     "metadata": {},
     "output_type": "execute_result"
    }
   ],
   "source": [
    "twitter_grouped_breed_clean[twitter_grouped_breed_clean.rating == max(twitter_grouped_breed_clean.rating)]"
   ]
  },
  {
   "cell_type": "code",
   "execution_count": 122,
   "metadata": {},
   "outputs": [
    {
     "data": {
      "text/html": [
       "<div>\n",
       "<style scoped>\n",
       "    .dataframe tbody tr th:only-of-type {\n",
       "        vertical-align: middle;\n",
       "    }\n",
       "\n",
       "    .dataframe tbody tr th {\n",
       "        vertical-align: top;\n",
       "    }\n",
       "\n",
       "    .dataframe thead th {\n",
       "        text-align: right;\n",
       "    }\n",
       "</style>\n",
       "<table border=\"1\" class=\"dataframe\">\n",
       "  <thead>\n",
       "    <tr style=\"text-align: right;\">\n",
       "      <th></th>\n",
       "      <th></th>\n",
       "      <th>tweet_id</th>\n",
       "      <th>in_reply_to_status_id_x</th>\n",
       "      <th>in_reply_to_user_id_x</th>\n",
       "      <th>retweeted_status_id</th>\n",
       "      <th>retweeted_status_user_id</th>\n",
       "      <th>retweeted_status_timestamp</th>\n",
       "      <th>rating_numerator</th>\n",
       "      <th>rating_denominator</th>\n",
       "      <th>img_num</th>\n",
       "      <th>p1_conf</th>\n",
       "      <th>...</th>\n",
       "      <th>possibly_sensitive_appealable</th>\n",
       "      <th>quoted_status</th>\n",
       "      <th>quoted_status_id</th>\n",
       "      <th>quoted_status_id_str</th>\n",
       "      <th>retweet_count</th>\n",
       "      <th>retweeted</th>\n",
       "      <th>retweeted_status</th>\n",
       "      <th>truncated</th>\n",
       "      <th>year_y</th>\n",
       "      <th>rating</th>\n",
       "    </tr>\n",
       "    <tr>\n",
       "      <th>p1</th>\n",
       "      <th>year_x</th>\n",
       "      <th></th>\n",
       "      <th></th>\n",
       "      <th></th>\n",
       "      <th></th>\n",
       "      <th></th>\n",
       "      <th></th>\n",
       "      <th></th>\n",
       "      <th></th>\n",
       "      <th></th>\n",
       "      <th></th>\n",
       "      <th></th>\n",
       "      <th></th>\n",
       "      <th></th>\n",
       "      <th></th>\n",
       "      <th></th>\n",
       "      <th></th>\n",
       "      <th></th>\n",
       "      <th></th>\n",
       "      <th></th>\n",
       "      <th></th>\n",
       "      <th></th>\n",
       "    </tr>\n",
       "  </thead>\n",
       "  <tbody>\n",
       "    <tr>\n",
       "      <th>Boston_bull</th>\n",
       "      <th>2015</th>\n",
       "      <td>6.765883e+17</td>\n",
       "      <td>NaN</td>\n",
       "      <td>NaN</td>\n",
       "      <td>NaN</td>\n",
       "      <td>NaN</td>\n",
       "      <td>NaN</td>\n",
       "      <td>5.0</td>\n",
       "      <td>10.0</td>\n",
       "      <td>1.0</td>\n",
       "      <td>0.976577</td>\n",
       "      <td>...</td>\n",
       "      <td>0.0</td>\n",
       "      <td>NaN</td>\n",
       "      <td>NaN</td>\n",
       "      <td>NaN</td>\n",
       "      <td>896.0</td>\n",
       "      <td>0.0</td>\n",
       "      <td>NaN</td>\n",
       "      <td>0.0</td>\n",
       "      <td>2015.0</td>\n",
       "      <td>0.5</td>\n",
       "    </tr>\n",
       "    <tr>\n",
       "      <th>Japanese_spaniel</th>\n",
       "      <th>2015</th>\n",
       "      <td>6.773010e+17</td>\n",
       "      <td>NaN</td>\n",
       "      <td>NaN</td>\n",
       "      <td>NaN</td>\n",
       "      <td>NaN</td>\n",
       "      <td>NaN</td>\n",
       "      <td>5.0</td>\n",
       "      <td>10.0</td>\n",
       "      <td>1.0</td>\n",
       "      <td>0.661178</td>\n",
       "      <td>...</td>\n",
       "      <td>0.0</td>\n",
       "      <td>NaN</td>\n",
       "      <td>NaN</td>\n",
       "      <td>NaN</td>\n",
       "      <td>471.0</td>\n",
       "      <td>0.0</td>\n",
       "      <td>NaN</td>\n",
       "      <td>0.0</td>\n",
       "      <td>2015.0</td>\n",
       "      <td>0.5</td>\n",
       "    </tr>\n",
       "  </tbody>\n",
       "</table>\n",
       "<p>2 rows × 39 columns</p>\n",
       "</div>"
      ],
      "text/plain": [
       "                             tweet_id  in_reply_to_status_id_x  \\\n",
       "p1               year_x                                          \n",
       "Boston_bull      2015    6.765883e+17                      NaN   \n",
       "Japanese_spaniel 2015    6.773010e+17                      NaN   \n",
       "\n",
       "                         in_reply_to_user_id_x  retweeted_status_id  \\\n",
       "p1               year_x                                               \n",
       "Boston_bull      2015                      NaN                  NaN   \n",
       "Japanese_spaniel 2015                      NaN                  NaN   \n",
       "\n",
       "                         retweeted_status_user_id  retweeted_status_timestamp  \\\n",
       "p1               year_x                                                         \n",
       "Boston_bull      2015                         NaN                         NaN   \n",
       "Japanese_spaniel 2015                         NaN                         NaN   \n",
       "\n",
       "                         rating_numerator  rating_denominator  img_num  \\\n",
       "p1               year_x                                                  \n",
       "Boston_bull      2015                 5.0                10.0      1.0   \n",
       "Japanese_spaniel 2015                 5.0                10.0      1.0   \n",
       "\n",
       "                          p1_conf   ...    possibly_sensitive_appealable  \\\n",
       "p1               year_x             ...                                    \n",
       "Boston_bull      2015    0.976577   ...                              0.0   \n",
       "Japanese_spaniel 2015    0.661178   ...                              0.0   \n",
       "\n",
       "                         quoted_status  quoted_status_id  \\\n",
       "p1               year_x                                    \n",
       "Boston_bull      2015              NaN               NaN   \n",
       "Japanese_spaniel 2015              NaN               NaN   \n",
       "\n",
       "                         quoted_status_id_str  retweet_count  retweeted  \\\n",
       "p1               year_x                                                   \n",
       "Boston_bull      2015                     NaN          896.0        0.0   \n",
       "Japanese_spaniel 2015                     NaN          471.0        0.0   \n",
       "\n",
       "                         retweeted_status  truncated  year_y  rating  \n",
       "p1               year_x                                               \n",
       "Boston_bull      2015                 NaN        0.0  2015.0     0.5  \n",
       "Japanese_spaniel 2015                 NaN        0.0  2015.0     0.5  \n",
       "\n",
       "[2 rows x 39 columns]"
      ]
     },
     "execution_count": 122,
     "metadata": {},
     "output_type": "execute_result"
    }
   ],
   "source": [
    "twitter_grouped_breed_clean[twitter_grouped_breed_clean.rating == min(twitter_grouped_breed_clean.rating)]"
   ]
  },
  {
   "cell_type": "markdown",
   "metadata": {},
   "source": [
    "#### Most popular breeds"
   ]
  },
  {
   "cell_type": "code",
   "execution_count": 125,
   "metadata": {},
   "outputs": [],
   "source": [
    "# twitter_data.info()"
   ]
  },
  {
   "cell_type": "code",
   "execution_count": 126,
   "metadata": {},
   "outputs": [
    {
     "data": {
      "text/plain": [
       "Text(0,0.5,'Number of RTs')"
      ]
     },
     "execution_count": 126,
     "metadata": {},
     "output_type": "execute_result"
    },
    {
     "data": {
      "image/png": "[encoded data removed]",
      "text/plain": [
       "<matplotlib.figure.Figure at 0x7f8e39f45588>"
      ]
     },
     "metadata": {
      "needs_background": "light"
     },
     "output_type": "display_data"
    }
   ],
   "source": [
    "twitter_data.plot.scatter(x='rating', y='retweet_count', c='lightseagreen', title = 'Dog ratings vs number of RTs')\n",
    "plt.xlabel('Dogs ratings')\n",
    "plt.ylabel('Number of RTs')"
   ]
  },
  {
   "cell_type": "markdown",
   "metadata": {},
   "source": [
    "We can see a positive relationship betweet the rating of the dogs and the number of RTs that they get"
   ]
  },
  {
   "cell_type": "markdown",
   "metadata": {},
   "source": [
    "<img src=\"files/pcdoggo.jpg\" width=\"200\" height=\"100\">"
   ]
  }
 ],
 "metadata": {
  "kernelspec": {
   "display_name": "Python 3",
   "language": "python",
   "name": "python3"
  },
  "language_info": {
   "codemirror_mode": {
    "name": "ipython",
    "version": 3
   },
   "file_extension": ".py",
   "mimetype": "text/x-python",
   "name": "python",
   "nbconvert_exporter": "python",
   "pygments_lexer": "ipython3",
   "version": "3.6.3"
  }
 },
 "nbformat": 4,
 "nbformat_minor": 2
}
