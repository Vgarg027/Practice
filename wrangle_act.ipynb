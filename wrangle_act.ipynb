{
 "cells": [
  {
   "cell_type": "code",
   "execution_count": 1,
   "id": "ed979ee5",
   "metadata": {},
   "outputs": [],
   "source": [
    "import pandas as pd\n",
    "import numpy as np\n",
    "import tweepy \n",
    "import json\n",
    "import requests"
   ]
  },
  {
   "cell_type": "markdown",
   "id": "433e28aa",
   "metadata": {},
   "source": [
    "## Data Gathering\n",
    "### WeRateDogs' Twitter Archive"
   ]
  },
  {
   "cell_type": "code",
   "execution_count": 2,
   "id": "f1dcd5f8",
   "metadata": {
    "scrolled": true
   },
   "outputs": [
    {
     "data": {
      "text/html": [
       "<div>\n",
       "<style scoped>\n",
       "    .dataframe tbody tr th:only-of-type {\n",
       "        vertical-align: middle;\n",
       "    }\n",
       "\n",
       "    .dataframe tbody tr th {\n",
       "        vertical-align: top;\n",
       "    }\n",
       "\n",
       "    .dataframe thead th {\n",
       "        text-align: right;\n",
       "    }\n",
       "</style>\n",
       "<table border=\"1\" class=\"dataframe\">\n",
       "  <thead>\n",
       "    <tr style=\"text-align: right;\">\n",
       "      <th></th>\n",
       "      <th>tweet_id</th>\n",
       "      <th>in_reply_to_status_id</th>\n",
       "      <th>in_reply_to_user_id</th>\n",
       "      <th>timestamp</th>\n",
       "      <th>source</th>\n",
       "      <th>text</th>\n",
       "      <th>retweeted_status_id</th>\n",
       "      <th>retweeted_status_user_id</th>\n",
       "      <th>retweeted_status_timestamp</th>\n",
       "      <th>expanded_urls</th>\n",
       "      <th>rating_numerator</th>\n",
       "      <th>rating_denominator</th>\n",
       "      <th>name</th>\n",
       "      <th>doggo</th>\n",
       "      <th>floofer</th>\n",
       "      <th>pupper</th>\n",
       "      <th>puppo</th>\n",
       "    </tr>\n",
       "  </thead>\n",
       "  <tbody>\n",
       "    <tr>\n",
       "      <th>0</th>\n",
       "      <td>892420643555336193</td>\n",
       "      <td>NaN</td>\n",
       "      <td>NaN</td>\n",
       "      <td>2017-08-01 16:23:56 +0000</td>\n",
       "      <td>&lt;a href=\"http://twitter.com/download/iphone\" r...</td>\n",
       "      <td>This is Phineas. He's a mystical boy. Only eve...</td>\n",
       "      <td>NaN</td>\n",
       "      <td>NaN</td>\n",
       "      <td>NaN</td>\n",
       "      <td>https://twitter.com/dog_rates/status/892420643...</td>\n",
       "      <td>13</td>\n",
       "      <td>10</td>\n",
       "      <td>Phineas</td>\n",
       "      <td>None</td>\n",
       "      <td>None</td>\n",
       "      <td>None</td>\n",
       "      <td>None</td>\n",
       "    </tr>\n",
       "    <tr>\n",
       "      <th>1</th>\n",
       "      <td>892177421306343426</td>\n",
       "      <td>NaN</td>\n",
       "      <td>NaN</td>\n",
       "      <td>2017-08-01 00:17:27 +0000</td>\n",
       "      <td>&lt;a href=\"http://twitter.com/download/iphone\" r...</td>\n",
       "      <td>This is Tilly. She's just checking pup on you....</td>\n",
       "      <td>NaN</td>\n",
       "      <td>NaN</td>\n",
       "      <td>NaN</td>\n",
       "      <td>https://twitter.com/dog_rates/status/892177421...</td>\n",
       "      <td>13</td>\n",
       "      <td>10</td>\n",
       "      <td>Tilly</td>\n",
       "      <td>None</td>\n",
       "      <td>None</td>\n",
       "      <td>None</td>\n",
       "      <td>None</td>\n",
       "    </tr>\n",
       "    <tr>\n",
       "      <th>2</th>\n",
       "      <td>891815181378084864</td>\n",
       "      <td>NaN</td>\n",
       "      <td>NaN</td>\n",
       "      <td>2017-07-31 00:18:03 +0000</td>\n",
       "      <td>&lt;a href=\"http://twitter.com/download/iphone\" r...</td>\n",
       "      <td>This is Archie. He is a rare Norwegian Pouncin...</td>\n",
       "      <td>NaN</td>\n",
       "      <td>NaN</td>\n",
       "      <td>NaN</td>\n",
       "      <td>https://twitter.com/dog_rates/status/891815181...</td>\n",
       "      <td>12</td>\n",
       "      <td>10</td>\n",
       "      <td>Archie</td>\n",
       "      <td>None</td>\n",
       "      <td>None</td>\n",
       "      <td>None</td>\n",
       "      <td>None</td>\n",
       "    </tr>\n",
       "    <tr>\n",
       "      <th>3</th>\n",
       "      <td>891689557279858688</td>\n",
       "      <td>NaN</td>\n",
       "      <td>NaN</td>\n",
       "      <td>2017-07-30 15:58:51 +0000</td>\n",
       "      <td>&lt;a href=\"http://twitter.com/download/iphone\" r...</td>\n",
       "      <td>This is Darla. She commenced a snooze mid meal...</td>\n",
       "      <td>NaN</td>\n",
       "      <td>NaN</td>\n",
       "      <td>NaN</td>\n",
       "      <td>https://twitter.com/dog_rates/status/891689557...</td>\n",
       "      <td>13</td>\n",
       "      <td>10</td>\n",
       "      <td>Darla</td>\n",
       "      <td>None</td>\n",
       "      <td>None</td>\n",
       "      <td>None</td>\n",
       "      <td>None</td>\n",
       "    </tr>\n",
       "    <tr>\n",
       "      <th>4</th>\n",
       "      <td>891327558926688256</td>\n",
       "      <td>NaN</td>\n",
       "      <td>NaN</td>\n",
       "      <td>2017-07-29 16:00:24 +0000</td>\n",
       "      <td>&lt;a href=\"http://twitter.com/download/iphone\" r...</td>\n",
       "      <td>This is Franklin. He would like you to stop ca...</td>\n",
       "      <td>NaN</td>\n",
       "      <td>NaN</td>\n",
       "      <td>NaN</td>\n",
       "      <td>https://twitter.com/dog_rates/status/891327558...</td>\n",
       "      <td>12</td>\n",
       "      <td>10</td>\n",
       "      <td>Franklin</td>\n",
       "      <td>None</td>\n",
       "      <td>None</td>\n",
       "      <td>None</td>\n",
       "      <td>None</td>\n",
       "    </tr>\n",
       "  </tbody>\n",
       "</table>\n",
       "</div>"
      ],
      "text/plain": [
       "             tweet_id  in_reply_to_status_id  in_reply_to_user_id  \\\n",
       "0  892420643555336193                    NaN                  NaN   \n",
       "1  892177421306343426                    NaN                  NaN   \n",
       "2  891815181378084864                    NaN                  NaN   \n",
       "3  891689557279858688                    NaN                  NaN   \n",
       "4  891327558926688256                    NaN                  NaN   \n",
       "\n",
       "                   timestamp  \\\n",
       "0  2017-08-01 16:23:56 +0000   \n",
       "1  2017-08-01 00:17:27 +0000   \n",
       "2  2017-07-31 00:18:03 +0000   \n",
       "3  2017-07-30 15:58:51 +0000   \n",
       "4  2017-07-29 16:00:24 +0000   \n",
       "\n",
       "                                              source  \\\n",
       "0  <a href=\"http://twitter.com/download/iphone\" r...   \n",
       "1  <a href=\"http://twitter.com/download/iphone\" r...   \n",
       "2  <a href=\"http://twitter.com/download/iphone\" r...   \n",
       "3  <a href=\"http://twitter.com/download/iphone\" r...   \n",
       "4  <a href=\"http://twitter.com/download/iphone\" r...   \n",
       "\n",
       "                                                text  retweeted_status_id  \\\n",
       "0  This is Phineas. He's a mystical boy. Only eve...                  NaN   \n",
       "1  This is Tilly. She's just checking pup on you....                  NaN   \n",
       "2  This is Archie. He is a rare Norwegian Pouncin...                  NaN   \n",
       "3  This is Darla. She commenced a snooze mid meal...                  NaN   \n",
       "4  This is Franklin. He would like you to stop ca...                  NaN   \n",
       "\n",
       "   retweeted_status_user_id retweeted_status_timestamp  \\\n",
       "0                       NaN                        NaN   \n",
       "1                       NaN                        NaN   \n",
       "2                       NaN                        NaN   \n",
       "3                       NaN                        NaN   \n",
       "4                       NaN                        NaN   \n",
       "\n",
       "                                       expanded_urls  rating_numerator  \\\n",
       "0  https://twitter.com/dog_rates/status/892420643...                13   \n",
       "1  https://twitter.com/dog_rates/status/892177421...                13   \n",
       "2  https://twitter.com/dog_rates/status/891815181...                12   \n",
       "3  https://twitter.com/dog_rates/status/891689557...                13   \n",
       "4  https://twitter.com/dog_rates/status/891327558...                12   \n",
       "\n",
       "   rating_denominator      name doggo floofer pupper puppo  \n",
       "0                  10   Phineas  None    None   None  None  \n",
       "1                  10     Tilly  None    None   None  None  \n",
       "2                  10    Archie  None    None   None  None  \n",
       "3                  10     Darla  None    None   None  None  \n",
       "4                  10  Franklin  None    None   None  None  "
      ]
     },
     "execution_count": 2,
     "metadata": {},
     "output_type": "execute_result"
    }
   ],
   "source": [
    "twitter_archive = pd.read_csv('twitter-archive-enhanced.csv')\n",
    "twitter_archive.head()"
   ]
  },
  {
   "cell_type": "markdown",
   "id": "4f826042",
   "metadata": {},
   "source": [
    "### Image Prediction File"
   ]
  },
  {
   "cell_type": "code",
   "execution_count": 3,
   "id": "c4259abd",
   "metadata": {},
   "outputs": [
    {
     "data": {
      "text/plain": [
       "335079"
      ]
     },
     "execution_count": 3,
     "metadata": {},
     "output_type": "execute_result"
    }
   ],
   "source": [
    "url = 'https://d17h27t6h515a5.cloudfront.net/topher/2017/August/599fd2ad_image-predictions/image-predictions.tsv'\n",
    "image_prediction = requests.get(url, allow_redirects = True) \n",
    "open('image_predictions.tsv', 'wb').write(image_prediction.content)"
   ]
  },
  {
   "cell_type": "code",
   "execution_count": 4,
   "id": "56aff229",
   "metadata": {
    "scrolled": true
   },
   "outputs": [
    {
     "data": {
      "text/html": [
       "<div>\n",
       "<style scoped>\n",
       "    .dataframe tbody tr th:only-of-type {\n",
       "        vertical-align: middle;\n",
       "    }\n",
       "\n",
       "    .dataframe tbody tr th {\n",
       "        vertical-align: top;\n",
       "    }\n",
       "\n",
       "    .dataframe thead th {\n",
       "        text-align: right;\n",
       "    }\n",
       "</style>\n",
       "<table border=\"1\" class=\"dataframe\">\n",
       "  <thead>\n",
       "    <tr style=\"text-align: right;\">\n",
       "      <th></th>\n",
       "      <th>tweet_id</th>\n",
       "      <th>jpg_url</th>\n",
       "      <th>img_num</th>\n",
       "      <th>p1</th>\n",
       "      <th>p1_conf</th>\n",
       "      <th>p1_dog</th>\n",
       "      <th>p2</th>\n",
       "      <th>p2_conf</th>\n",
       "      <th>p2_dog</th>\n",
       "      <th>p3</th>\n",
       "      <th>p3_conf</th>\n",
       "      <th>p3_dog</th>\n",
       "    </tr>\n",
       "  </thead>\n",
       "  <tbody>\n",
       "    <tr>\n",
       "      <th>0</th>\n",
       "      <td>666020888022790149</td>\n",
       "      <td>https://pbs.twimg.com/media/CT4udn0WwAA0aMy.jpg</td>\n",
       "      <td>1</td>\n",
       "      <td>Welsh_springer_spaniel</td>\n",
       "      <td>0.465074</td>\n",
       "      <td>True</td>\n",
       "      <td>collie</td>\n",
       "      <td>0.156665</td>\n",
       "      <td>True</td>\n",
       "      <td>Shetland_sheepdog</td>\n",
       "      <td>0.061428</td>\n",
       "      <td>True</td>\n",
       "    </tr>\n",
       "    <tr>\n",
       "      <th>1</th>\n",
       "      <td>666029285002620928</td>\n",
       "      <td>https://pbs.twimg.com/media/CT42GRgUYAA5iDo.jpg</td>\n",
       "      <td>1</td>\n",
       "      <td>redbone</td>\n",
       "      <td>0.506826</td>\n",
       "      <td>True</td>\n",
       "      <td>miniature_pinscher</td>\n",
       "      <td>0.074192</td>\n",
       "      <td>True</td>\n",
       "      <td>Rhodesian_ridgeback</td>\n",
       "      <td>0.072010</td>\n",
       "      <td>True</td>\n",
       "    </tr>\n",
       "    <tr>\n",
       "      <th>2</th>\n",
       "      <td>666033412701032449</td>\n",
       "      <td>https://pbs.twimg.com/media/CT4521TWwAEvMyu.jpg</td>\n",
       "      <td>1</td>\n",
       "      <td>German_shepherd</td>\n",
       "      <td>0.596461</td>\n",
       "      <td>True</td>\n",
       "      <td>malinois</td>\n",
       "      <td>0.138584</td>\n",
       "      <td>True</td>\n",
       "      <td>bloodhound</td>\n",
       "      <td>0.116197</td>\n",
       "      <td>True</td>\n",
       "    </tr>\n",
       "    <tr>\n",
       "      <th>3</th>\n",
       "      <td>666044226329800704</td>\n",
       "      <td>https://pbs.twimg.com/media/CT5Dr8HUEAA-lEu.jpg</td>\n",
       "      <td>1</td>\n",
       "      <td>Rhodesian_ridgeback</td>\n",
       "      <td>0.408143</td>\n",
       "      <td>True</td>\n",
       "      <td>redbone</td>\n",
       "      <td>0.360687</td>\n",
       "      <td>True</td>\n",
       "      <td>miniature_pinscher</td>\n",
       "      <td>0.222752</td>\n",
       "      <td>True</td>\n",
       "    </tr>\n",
       "    <tr>\n",
       "      <th>4</th>\n",
       "      <td>666049248165822465</td>\n",
       "      <td>https://pbs.twimg.com/media/CT5IQmsXIAAKY4A.jpg</td>\n",
       "      <td>1</td>\n",
       "      <td>miniature_pinscher</td>\n",
       "      <td>0.560311</td>\n",
       "      <td>True</td>\n",
       "      <td>Rottweiler</td>\n",
       "      <td>0.243682</td>\n",
       "      <td>True</td>\n",
       "      <td>Doberman</td>\n",
       "      <td>0.154629</td>\n",
       "      <td>True</td>\n",
       "    </tr>\n",
       "  </tbody>\n",
       "</table>\n",
       "</div>"
      ],
      "text/plain": [
       "             tweet_id                                          jpg_url  \\\n",
       "0  666020888022790149  https://pbs.twimg.com/media/CT4udn0WwAA0aMy.jpg   \n",
       "1  666029285002620928  https://pbs.twimg.com/media/CT42GRgUYAA5iDo.jpg   \n",
       "2  666033412701032449  https://pbs.twimg.com/media/CT4521TWwAEvMyu.jpg   \n",
       "3  666044226329800704  https://pbs.twimg.com/media/CT5Dr8HUEAA-lEu.jpg   \n",
       "4  666049248165822465  https://pbs.twimg.com/media/CT5IQmsXIAAKY4A.jpg   \n",
       "\n",
       "   img_num                      p1   p1_conf  p1_dog                  p2  \\\n",
       "0        1  Welsh_springer_spaniel  0.465074    True              collie   \n",
       "1        1                 redbone  0.506826    True  miniature_pinscher   \n",
       "2        1         German_shepherd  0.596461    True            malinois   \n",
       "3        1     Rhodesian_ridgeback  0.408143    True             redbone   \n",
       "4        1      miniature_pinscher  0.560311    True          Rottweiler   \n",
       "\n",
       "    p2_conf  p2_dog                   p3   p3_conf  p3_dog  \n",
       "0  0.156665    True    Shetland_sheepdog  0.061428    True  \n",
       "1  0.074192    True  Rhodesian_ridgeback  0.072010    True  \n",
       "2  0.138584    True           bloodhound  0.116197    True  \n",
       "3  0.360687    True   miniature_pinscher  0.222752    True  \n",
       "4  0.243682    True             Doberman  0.154629    True  "
      ]
     },
     "execution_count": 4,
     "metadata": {},
     "output_type": "execute_result"
    }
   ],
   "source": [
    "image_prediction = pd.read_csv('image_predictions.tsv', sep = '\\t')\n",
    "image_prediction.head()"
   ]
  },
  {
   "cell_type": "markdown",
   "id": "434a2b24",
   "metadata": {},
   "source": [
    "### Twitter API\n",
    "\n",
    "<i><b>Note:</b>\n",
    "\\\n",
    "I had tried to query the data directly from Twitter API several times using several different techniques, yet none of them worked. Therefore, in this part, I will be using the file provided by Udacity (`tweet-json.txt`).</i>"
   ]
  },
  {
   "cell_type": "code",
   "execution_count": 5,
   "id": "ad69521a",
   "metadata": {
    "scrolled": true
   },
   "outputs": [
    {
     "data": {
      "text/html": [
       "<div>\n",
       "<style scoped>\n",
       "    .dataframe tbody tr th:only-of-type {\n",
       "        vertical-align: middle;\n",
       "    }\n",
       "\n",
       "    .dataframe tbody tr th {\n",
       "        vertical-align: top;\n",
       "    }\n",
       "\n",
       "    .dataframe thead th {\n",
       "        text-align: right;\n",
       "    }\n",
       "</style>\n",
       "<table border=\"1\" class=\"dataframe\">\n",
       "  <thead>\n",
       "    <tr style=\"text-align: right;\">\n",
       "      <th></th>\n",
       "      <th>created_at</th>\n",
       "      <th>id</th>\n",
       "      <th>id_str</th>\n",
       "      <th>full_text</th>\n",
       "      <th>truncated</th>\n",
       "      <th>display_text_range</th>\n",
       "      <th>entities</th>\n",
       "      <th>extended_entities</th>\n",
       "      <th>source</th>\n",
       "      <th>in_reply_to_status_id</th>\n",
       "      <th>...</th>\n",
       "      <th>favorite_count</th>\n",
       "      <th>favorited</th>\n",
       "      <th>retweeted</th>\n",
       "      <th>possibly_sensitive</th>\n",
       "      <th>possibly_sensitive_appealable</th>\n",
       "      <th>lang</th>\n",
       "      <th>retweeted_status</th>\n",
       "      <th>quoted_status_id</th>\n",
       "      <th>quoted_status_id_str</th>\n",
       "      <th>quoted_status</th>\n",
       "    </tr>\n",
       "  </thead>\n",
       "  <tbody>\n",
       "    <tr>\n",
       "      <th>0</th>\n",
       "      <td>2017-08-01 16:23:56+00:00</td>\n",
       "      <td>892420643555336193</td>\n",
       "      <td>892420643555336192</td>\n",
       "      <td>This is Phineas. He's a mystical boy. Only eve...</td>\n",
       "      <td>False</td>\n",
       "      <td>[0, 85]</td>\n",
       "      <td>{'hashtags': [], 'symbols': [], 'user_mentions...</td>\n",
       "      <td>{'media': [{'id': 892420639486877696, 'id_str'...</td>\n",
       "      <td>&lt;a href=\"http://twitter.com/download/iphone\" r...</td>\n",
       "      <td>NaN</td>\n",
       "      <td>...</td>\n",
       "      <td>39467</td>\n",
       "      <td>False</td>\n",
       "      <td>False</td>\n",
       "      <td>0.0</td>\n",
       "      <td>0.0</td>\n",
       "      <td>en</td>\n",
       "      <td>NaN</td>\n",
       "      <td>NaN</td>\n",
       "      <td>NaN</td>\n",
       "      <td>NaN</td>\n",
       "    </tr>\n",
       "    <tr>\n",
       "      <th>1</th>\n",
       "      <td>2017-08-01 00:17:27+00:00</td>\n",
       "      <td>892177421306343426</td>\n",
       "      <td>892177421306343424</td>\n",
       "      <td>This is Tilly. She's just checking pup on you....</td>\n",
       "      <td>False</td>\n",
       "      <td>[0, 138]</td>\n",
       "      <td>{'hashtags': [], 'symbols': [], 'user_mentions...</td>\n",
       "      <td>{'media': [{'id': 892177413194625024, 'id_str'...</td>\n",
       "      <td>&lt;a href=\"http://twitter.com/download/iphone\" r...</td>\n",
       "      <td>NaN</td>\n",
       "      <td>...</td>\n",
       "      <td>33819</td>\n",
       "      <td>False</td>\n",
       "      <td>False</td>\n",
       "      <td>0.0</td>\n",
       "      <td>0.0</td>\n",
       "      <td>en</td>\n",
       "      <td>NaN</td>\n",
       "      <td>NaN</td>\n",
       "      <td>NaN</td>\n",
       "      <td>NaN</td>\n",
       "    </tr>\n",
       "    <tr>\n",
       "      <th>2</th>\n",
       "      <td>2017-07-31 00:18:03+00:00</td>\n",
       "      <td>891815181378084864</td>\n",
       "      <td>891815181378084864</td>\n",
       "      <td>This is Archie. He is a rare Norwegian Pouncin...</td>\n",
       "      <td>False</td>\n",
       "      <td>[0, 121]</td>\n",
       "      <td>{'hashtags': [], 'symbols': [], 'user_mentions...</td>\n",
       "      <td>{'media': [{'id': 891815175371796480, 'id_str'...</td>\n",
       "      <td>&lt;a href=\"http://twitter.com/download/iphone\" r...</td>\n",
       "      <td>NaN</td>\n",
       "      <td>...</td>\n",
       "      <td>25461</td>\n",
       "      <td>False</td>\n",
       "      <td>False</td>\n",
       "      <td>0.0</td>\n",
       "      <td>0.0</td>\n",
       "      <td>en</td>\n",
       "      <td>NaN</td>\n",
       "      <td>NaN</td>\n",
       "      <td>NaN</td>\n",
       "      <td>NaN</td>\n",
       "    </tr>\n",
       "    <tr>\n",
       "      <th>3</th>\n",
       "      <td>2017-07-30 15:58:51+00:00</td>\n",
       "      <td>891689557279858688</td>\n",
       "      <td>891689557279858688</td>\n",
       "      <td>This is Darla. She commenced a snooze mid meal...</td>\n",
       "      <td>False</td>\n",
       "      <td>[0, 79]</td>\n",
       "      <td>{'hashtags': [], 'symbols': [], 'user_mentions...</td>\n",
       "      <td>{'media': [{'id': 891689552724799489, 'id_str'...</td>\n",
       "      <td>&lt;a href=\"http://twitter.com/download/iphone\" r...</td>\n",
       "      <td>NaN</td>\n",
       "      <td>...</td>\n",
       "      <td>42908</td>\n",
       "      <td>False</td>\n",
       "      <td>False</td>\n",
       "      <td>0.0</td>\n",
       "      <td>0.0</td>\n",
       "      <td>en</td>\n",
       "      <td>NaN</td>\n",
       "      <td>NaN</td>\n",
       "      <td>NaN</td>\n",
       "      <td>NaN</td>\n",
       "    </tr>\n",
       "    <tr>\n",
       "      <th>4</th>\n",
       "      <td>2017-07-29 16:00:24+00:00</td>\n",
       "      <td>891327558926688256</td>\n",
       "      <td>891327558926688256</td>\n",
       "      <td>This is Franklin. He would like you to stop ca...</td>\n",
       "      <td>False</td>\n",
       "      <td>[0, 138]</td>\n",
       "      <td>{'hashtags': [{'text': 'BarkWeek', 'indices': ...</td>\n",
       "      <td>{'media': [{'id': 891327551943041024, 'id_str'...</td>\n",
       "      <td>&lt;a href=\"http://twitter.com/download/iphone\" r...</td>\n",
       "      <td>NaN</td>\n",
       "      <td>...</td>\n",
       "      <td>41048</td>\n",
       "      <td>False</td>\n",
       "      <td>False</td>\n",
       "      <td>0.0</td>\n",
       "      <td>0.0</td>\n",
       "      <td>en</td>\n",
       "      <td>NaN</td>\n",
       "      <td>NaN</td>\n",
       "      <td>NaN</td>\n",
       "      <td>NaN</td>\n",
       "    </tr>\n",
       "  </tbody>\n",
       "</table>\n",
       "<p>5 rows × 31 columns</p>\n",
       "</div>"
      ],
      "text/plain": [
       "                 created_at                  id              id_str  \\\n",
       "0 2017-08-01 16:23:56+00:00  892420643555336193  892420643555336192   \n",
       "1 2017-08-01 00:17:27+00:00  892177421306343426  892177421306343424   \n",
       "2 2017-07-31 00:18:03+00:00  891815181378084864  891815181378084864   \n",
       "3 2017-07-30 15:58:51+00:00  891689557279858688  891689557279858688   \n",
       "4 2017-07-29 16:00:24+00:00  891327558926688256  891327558926688256   \n",
       "\n",
       "                                           full_text  truncated  \\\n",
       "0  This is Phineas. He's a mystical boy. Only eve...      False   \n",
       "1  This is Tilly. She's just checking pup on you....      False   \n",
       "2  This is Archie. He is a rare Norwegian Pouncin...      False   \n",
       "3  This is Darla. She commenced a snooze mid meal...      False   \n",
       "4  This is Franklin. He would like you to stop ca...      False   \n",
       "\n",
       "  display_text_range                                           entities  \\\n",
       "0            [0, 85]  {'hashtags': [], 'symbols': [], 'user_mentions...   \n",
       "1           [0, 138]  {'hashtags': [], 'symbols': [], 'user_mentions...   \n",
       "2           [0, 121]  {'hashtags': [], 'symbols': [], 'user_mentions...   \n",
       "3            [0, 79]  {'hashtags': [], 'symbols': [], 'user_mentions...   \n",
       "4           [0, 138]  {'hashtags': [{'text': 'BarkWeek', 'indices': ...   \n",
       "\n",
       "                                   extended_entities  \\\n",
       "0  {'media': [{'id': 892420639486877696, 'id_str'...   \n",
       "1  {'media': [{'id': 892177413194625024, 'id_str'...   \n",
       "2  {'media': [{'id': 891815175371796480, 'id_str'...   \n",
       "3  {'media': [{'id': 891689552724799489, 'id_str'...   \n",
       "4  {'media': [{'id': 891327551943041024, 'id_str'...   \n",
       "\n",
       "                                              source  in_reply_to_status_id  \\\n",
       "0  <a href=\"http://twitter.com/download/iphone\" r...                    NaN   \n",
       "1  <a href=\"http://twitter.com/download/iphone\" r...                    NaN   \n",
       "2  <a href=\"http://twitter.com/download/iphone\" r...                    NaN   \n",
       "3  <a href=\"http://twitter.com/download/iphone\" r...                    NaN   \n",
       "4  <a href=\"http://twitter.com/download/iphone\" r...                    NaN   \n",
       "\n",
       "   ...  favorite_count  favorited  retweeted possibly_sensitive  \\\n",
       "0  ...           39467      False      False                0.0   \n",
       "1  ...           33819      False      False                0.0   \n",
       "2  ...           25461      False      False                0.0   \n",
       "3  ...           42908      False      False                0.0   \n",
       "4  ...           41048      False      False                0.0   \n",
       "\n",
       "  possibly_sensitive_appealable  lang  retweeted_status quoted_status_id  \\\n",
       "0                           0.0    en               NaN              NaN   \n",
       "1                           0.0    en               NaN              NaN   \n",
       "2                           0.0    en               NaN              NaN   \n",
       "3                           0.0    en               NaN              NaN   \n",
       "4                           0.0    en               NaN              NaN   \n",
       "\n",
       "   quoted_status_id_str  quoted_status  \n",
       "0                   NaN            NaN  \n",
       "1                   NaN            NaN  \n",
       "2                   NaN            NaN  \n",
       "3                   NaN            NaN  \n",
       "4                   NaN            NaN  \n",
       "\n",
       "[5 rows x 31 columns]"
      ]
     },
     "execution_count": 5,
     "metadata": {},
     "output_type": "execute_result"
    }
   ],
   "source": [
    "tweet_details = pd.read_json(open(\"tweet-json.txt\", \"r\", encoding = \"utf8\"), lines = True)\n",
    "tweet_details.head()"
   ]
  },
  {
   "cell_type": "code",
   "execution_count": 6,
   "id": "baed000b",
   "metadata": {
    "scrolled": true
   },
   "outputs": [
    {
     "data": {
      "text/html": [
       "<div>\n",
       "<style scoped>\n",
       "    .dataframe tbody tr th:only-of-type {\n",
       "        vertical-align: middle;\n",
       "    }\n",
       "\n",
       "    .dataframe tbody tr th {\n",
       "        vertical-align: top;\n",
       "    }\n",
       "\n",
       "    .dataframe thead th {\n",
       "        text-align: right;\n",
       "    }\n",
       "</style>\n",
       "<table border=\"1\" class=\"dataframe\">\n",
       "  <thead>\n",
       "    <tr style=\"text-align: right;\">\n",
       "      <th></th>\n",
       "      <th>id</th>\n",
       "      <th>retweet_count</th>\n",
       "      <th>favorite_count</th>\n",
       "      <th>retweeted_status</th>\n",
       "    </tr>\n",
       "  </thead>\n",
       "  <tbody>\n",
       "    <tr>\n",
       "      <th>0</th>\n",
       "      <td>892420643555336193</td>\n",
       "      <td>8853</td>\n",
       "      <td>39467</td>\n",
       "      <td>NaN</td>\n",
       "    </tr>\n",
       "    <tr>\n",
       "      <th>1</th>\n",
       "      <td>892177421306343426</td>\n",
       "      <td>6514</td>\n",
       "      <td>33819</td>\n",
       "      <td>NaN</td>\n",
       "    </tr>\n",
       "    <tr>\n",
       "      <th>2</th>\n",
       "      <td>891815181378084864</td>\n",
       "      <td>4328</td>\n",
       "      <td>25461</td>\n",
       "      <td>NaN</td>\n",
       "    </tr>\n",
       "    <tr>\n",
       "      <th>3</th>\n",
       "      <td>891689557279858688</td>\n",
       "      <td>8964</td>\n",
       "      <td>42908</td>\n",
       "      <td>NaN</td>\n",
       "    </tr>\n",
       "    <tr>\n",
       "      <th>4</th>\n",
       "      <td>891327558926688256</td>\n",
       "      <td>9774</td>\n",
       "      <td>41048</td>\n",
       "      <td>NaN</td>\n",
       "    </tr>\n",
       "  </tbody>\n",
       "</table>\n",
       "</div>"
      ],
      "text/plain": [
       "                   id  retweet_count  favorite_count retweeted_status\n",
       "0  892420643555336193           8853           39467              NaN\n",
       "1  892177421306343426           6514           33819              NaN\n",
       "2  891815181378084864           4328           25461              NaN\n",
       "3  891689557279858688           8964           42908              NaN\n",
       "4  891327558926688256           9774           41048              NaN"
      ]
     },
     "execution_count": 6,
     "metadata": {},
     "output_type": "execute_result"
    }
   ],
   "source": [
    "# selecting only the column of the tweet IDs, retweet counts, favorite counts, and tweet type (original or retweet)\n",
    "\n",
    "tweet_info = tweet_details[['id', 'retweet_count', 'favorite_count', 'retweeted_status']]\n",
    "tweet_info.head()"
   ]
  },
  {
   "cell_type": "markdown",
   "id": "62222e8d",
   "metadata": {},
   "source": [
    "## Data Assessment\n",
    "### Visual Assessment\n",
    "#### 1. WeRateDogs' Twitter Archive on `twitter-archive-enhanced.csv`"
   ]
  },
  {
   "cell_type": "code",
   "execution_count": 7,
   "id": "0236013a",
   "metadata": {
    "scrolled": true
   },
   "outputs": [
    {
     "data": {
      "text/html": [
       "<div>\n",
       "<style scoped>\n",
       "    .dataframe tbody tr th:only-of-type {\n",
       "        vertical-align: middle;\n",
       "    }\n",
       "\n",
       "    .dataframe tbody tr th {\n",
       "        vertical-align: top;\n",
       "    }\n",
       "\n",
       "    .dataframe thead th {\n",
       "        text-align: right;\n",
       "    }\n",
       "</style>\n",
       "<table border=\"1\" class=\"dataframe\">\n",
       "  <thead>\n",
       "    <tr style=\"text-align: right;\">\n",
       "      <th></th>\n",
       "      <th>tweet_id</th>\n",
       "      <th>in_reply_to_status_id</th>\n",
       "      <th>in_reply_to_user_id</th>\n",
       "      <th>timestamp</th>\n",
       "      <th>source</th>\n",
       "      <th>text</th>\n",
       "      <th>retweeted_status_id</th>\n",
       "      <th>retweeted_status_user_id</th>\n",
       "      <th>retweeted_status_timestamp</th>\n",
       "      <th>expanded_urls</th>\n",
       "      <th>rating_numerator</th>\n",
       "      <th>rating_denominator</th>\n",
       "      <th>name</th>\n",
       "      <th>doggo</th>\n",
       "      <th>floofer</th>\n",
       "      <th>pupper</th>\n",
       "      <th>puppo</th>\n",
       "    </tr>\n",
       "  </thead>\n",
       "  <tbody>\n",
       "    <tr>\n",
       "      <th>0</th>\n",
       "      <td>892420643555336193</td>\n",
       "      <td>NaN</td>\n",
       "      <td>NaN</td>\n",
       "      <td>2017-08-01 16:23:56 +0000</td>\n",
       "      <td>&lt;a href=\"http://twitter.com/download/iphone\" r...</td>\n",
       "      <td>This is Phineas. He's a mystical boy. Only eve...</td>\n",
       "      <td>NaN</td>\n",
       "      <td>NaN</td>\n",
       "      <td>NaN</td>\n",
       "      <td>https://twitter.com/dog_rates/status/892420643...</td>\n",
       "      <td>13</td>\n",
       "      <td>10</td>\n",
       "      <td>Phineas</td>\n",
       "      <td>None</td>\n",
       "      <td>None</td>\n",
       "      <td>None</td>\n",
       "      <td>None</td>\n",
       "    </tr>\n",
       "    <tr>\n",
       "      <th>1</th>\n",
       "      <td>892177421306343426</td>\n",
       "      <td>NaN</td>\n",
       "      <td>NaN</td>\n",
       "      <td>2017-08-01 00:17:27 +0000</td>\n",
       "      <td>&lt;a href=\"http://twitter.com/download/iphone\" r...</td>\n",
       "      <td>This is Tilly. She's just checking pup on you....</td>\n",
       "      <td>NaN</td>\n",
       "      <td>NaN</td>\n",
       "      <td>NaN</td>\n",
       "      <td>https://twitter.com/dog_rates/status/892177421...</td>\n",
       "      <td>13</td>\n",
       "      <td>10</td>\n",
       "      <td>Tilly</td>\n",
       "      <td>None</td>\n",
       "      <td>None</td>\n",
       "      <td>None</td>\n",
       "      <td>None</td>\n",
       "    </tr>\n",
       "    <tr>\n",
       "      <th>2</th>\n",
       "      <td>891815181378084864</td>\n",
       "      <td>NaN</td>\n",
       "      <td>NaN</td>\n",
       "      <td>2017-07-31 00:18:03 +0000</td>\n",
       "      <td>&lt;a href=\"http://twitter.com/download/iphone\" r...</td>\n",
       "      <td>This is Archie. He is a rare Norwegian Pouncin...</td>\n",
       "      <td>NaN</td>\n",
       "      <td>NaN</td>\n",
       "      <td>NaN</td>\n",
       "      <td>https://twitter.com/dog_rates/status/891815181...</td>\n",
       "      <td>12</td>\n",
       "      <td>10</td>\n",
       "      <td>Archie</td>\n",
       "      <td>None</td>\n",
       "      <td>None</td>\n",
       "      <td>None</td>\n",
       "      <td>None</td>\n",
       "    </tr>\n",
       "    <tr>\n",
       "      <th>3</th>\n",
       "      <td>891689557279858688</td>\n",
       "      <td>NaN</td>\n",
       "      <td>NaN</td>\n",
       "      <td>2017-07-30 15:58:51 +0000</td>\n",
       "      <td>&lt;a href=\"http://twitter.com/download/iphone\" r...</td>\n",
       "      <td>This is Darla. She commenced a snooze mid meal...</td>\n",
       "      <td>NaN</td>\n",
       "      <td>NaN</td>\n",
       "      <td>NaN</td>\n",
       "      <td>https://twitter.com/dog_rates/status/891689557...</td>\n",
       "      <td>13</td>\n",
       "      <td>10</td>\n",
       "      <td>Darla</td>\n",
       "      <td>None</td>\n",
       "      <td>None</td>\n",
       "      <td>None</td>\n",
       "      <td>None</td>\n",
       "    </tr>\n",
       "    <tr>\n",
       "      <th>4</th>\n",
       "      <td>891327558926688256</td>\n",
       "      <td>NaN</td>\n",
       "      <td>NaN</td>\n",
       "      <td>2017-07-29 16:00:24 +0000</td>\n",
       "      <td>&lt;a href=\"http://twitter.com/download/iphone\" r...</td>\n",
       "      <td>This is Franklin. He would like you to stop ca...</td>\n",
       "      <td>NaN</td>\n",
       "      <td>NaN</td>\n",
       "      <td>NaN</td>\n",
       "      <td>https://twitter.com/dog_rates/status/891327558...</td>\n",
       "      <td>12</td>\n",
       "      <td>10</td>\n",
       "      <td>Franklin</td>\n",
       "      <td>None</td>\n",
       "      <td>None</td>\n",
       "      <td>None</td>\n",
       "      <td>None</td>\n",
       "    </tr>\n",
       "    <tr>\n",
       "      <th>...</th>\n",
       "      <td>...</td>\n",
       "      <td>...</td>\n",
       "      <td>...</td>\n",
       "      <td>...</td>\n",
       "      <td>...</td>\n",
       "      <td>...</td>\n",
       "      <td>...</td>\n",
       "      <td>...</td>\n",
       "      <td>...</td>\n",
       "      <td>...</td>\n",
       "      <td>...</td>\n",
       "      <td>...</td>\n",
       "      <td>...</td>\n",
       "      <td>...</td>\n",
       "      <td>...</td>\n",
       "      <td>...</td>\n",
       "      <td>...</td>\n",
       "    </tr>\n",
       "    <tr>\n",
       "      <th>2351</th>\n",
       "      <td>666049248165822465</td>\n",
       "      <td>NaN</td>\n",
       "      <td>NaN</td>\n",
       "      <td>2015-11-16 00:24:50 +0000</td>\n",
       "      <td>&lt;a href=\"http://twitter.com/download/iphone\" r...</td>\n",
       "      <td>Here we have a 1949 1st generation vulpix. Enj...</td>\n",
       "      <td>NaN</td>\n",
       "      <td>NaN</td>\n",
       "      <td>NaN</td>\n",
       "      <td>https://twitter.com/dog_rates/status/666049248...</td>\n",
       "      <td>5</td>\n",
       "      <td>10</td>\n",
       "      <td>None</td>\n",
       "      <td>None</td>\n",
       "      <td>None</td>\n",
       "      <td>None</td>\n",
       "      <td>None</td>\n",
       "    </tr>\n",
       "    <tr>\n",
       "      <th>2352</th>\n",
       "      <td>666044226329800704</td>\n",
       "      <td>NaN</td>\n",
       "      <td>NaN</td>\n",
       "      <td>2015-11-16 00:04:52 +0000</td>\n",
       "      <td>&lt;a href=\"http://twitter.com/download/iphone\" r...</td>\n",
       "      <td>This is a purebred Piers Morgan. Loves to Netf...</td>\n",
       "      <td>NaN</td>\n",
       "      <td>NaN</td>\n",
       "      <td>NaN</td>\n",
       "      <td>https://twitter.com/dog_rates/status/666044226...</td>\n",
       "      <td>6</td>\n",
       "      <td>10</td>\n",
       "      <td>a</td>\n",
       "      <td>None</td>\n",
       "      <td>None</td>\n",
       "      <td>None</td>\n",
       "      <td>None</td>\n",
       "    </tr>\n",
       "    <tr>\n",
       "      <th>2353</th>\n",
       "      <td>666033412701032449</td>\n",
       "      <td>NaN</td>\n",
       "      <td>NaN</td>\n",
       "      <td>2015-11-15 23:21:54 +0000</td>\n",
       "      <td>&lt;a href=\"http://twitter.com/download/iphone\" r...</td>\n",
       "      <td>Here is a very happy pup. Big fan of well-main...</td>\n",
       "      <td>NaN</td>\n",
       "      <td>NaN</td>\n",
       "      <td>NaN</td>\n",
       "      <td>https://twitter.com/dog_rates/status/666033412...</td>\n",
       "      <td>9</td>\n",
       "      <td>10</td>\n",
       "      <td>a</td>\n",
       "      <td>None</td>\n",
       "      <td>None</td>\n",
       "      <td>None</td>\n",
       "      <td>None</td>\n",
       "    </tr>\n",
       "    <tr>\n",
       "      <th>2354</th>\n",
       "      <td>666029285002620928</td>\n",
       "      <td>NaN</td>\n",
       "      <td>NaN</td>\n",
       "      <td>2015-11-15 23:05:30 +0000</td>\n",
       "      <td>&lt;a href=\"http://twitter.com/download/iphone\" r...</td>\n",
       "      <td>This is a western brown Mitsubishi terrier. Up...</td>\n",
       "      <td>NaN</td>\n",
       "      <td>NaN</td>\n",
       "      <td>NaN</td>\n",
       "      <td>https://twitter.com/dog_rates/status/666029285...</td>\n",
       "      <td>7</td>\n",
       "      <td>10</td>\n",
       "      <td>a</td>\n",
       "      <td>None</td>\n",
       "      <td>None</td>\n",
       "      <td>None</td>\n",
       "      <td>None</td>\n",
       "    </tr>\n",
       "    <tr>\n",
       "      <th>2355</th>\n",
       "      <td>666020888022790149</td>\n",
       "      <td>NaN</td>\n",
       "      <td>NaN</td>\n",
       "      <td>2015-11-15 22:32:08 +0000</td>\n",
       "      <td>&lt;a href=\"http://twitter.com/download/iphone\" r...</td>\n",
       "      <td>Here we have a Japanese Irish Setter. Lost eye...</td>\n",
       "      <td>NaN</td>\n",
       "      <td>NaN</td>\n",
       "      <td>NaN</td>\n",
       "      <td>https://twitter.com/dog_rates/status/666020888...</td>\n",
       "      <td>8</td>\n",
       "      <td>10</td>\n",
       "      <td>None</td>\n",
       "      <td>None</td>\n",
       "      <td>None</td>\n",
       "      <td>None</td>\n",
       "      <td>None</td>\n",
       "    </tr>\n",
       "  </tbody>\n",
       "</table>\n",
       "<p>2356 rows × 17 columns</p>\n",
       "</div>"
      ],
      "text/plain": [
       "                tweet_id  in_reply_to_status_id  in_reply_to_user_id  \\\n",
       "0     892420643555336193                    NaN                  NaN   \n",
       "1     892177421306343426                    NaN                  NaN   \n",
       "2     891815181378084864                    NaN                  NaN   \n",
       "3     891689557279858688                    NaN                  NaN   \n",
       "4     891327558926688256                    NaN                  NaN   \n",
       "...                  ...                    ...                  ...   \n",
       "2351  666049248165822465                    NaN                  NaN   \n",
       "2352  666044226329800704                    NaN                  NaN   \n",
       "2353  666033412701032449                    NaN                  NaN   \n",
       "2354  666029285002620928                    NaN                  NaN   \n",
       "2355  666020888022790149                    NaN                  NaN   \n",
       "\n",
       "                      timestamp  \\\n",
       "0     2017-08-01 16:23:56 +0000   \n",
       "1     2017-08-01 00:17:27 +0000   \n",
       "2     2017-07-31 00:18:03 +0000   \n",
       "3     2017-07-30 15:58:51 +0000   \n",
       "4     2017-07-29 16:00:24 +0000   \n",
       "...                         ...   \n",
       "2351  2015-11-16 00:24:50 +0000   \n",
       "2352  2015-11-16 00:04:52 +0000   \n",
       "2353  2015-11-15 23:21:54 +0000   \n",
       "2354  2015-11-15 23:05:30 +0000   \n",
       "2355  2015-11-15 22:32:08 +0000   \n",
       "\n",
       "                                                 source  \\\n",
       "0     <a href=\"http://twitter.com/download/iphone\" r...   \n",
       "1     <a href=\"http://twitter.com/download/iphone\" r...   \n",
       "2     <a href=\"http://twitter.com/download/iphone\" r...   \n",
       "3     <a href=\"http://twitter.com/download/iphone\" r...   \n",
       "4     <a href=\"http://twitter.com/download/iphone\" r...   \n",
       "...                                                 ...   \n",
       "2351  <a href=\"http://twitter.com/download/iphone\" r...   \n",
       "2352  <a href=\"http://twitter.com/download/iphone\" r...   \n",
       "2353  <a href=\"http://twitter.com/download/iphone\" r...   \n",
       "2354  <a href=\"http://twitter.com/download/iphone\" r...   \n",
       "2355  <a href=\"http://twitter.com/download/iphone\" r...   \n",
       "\n",
       "                                                   text  retweeted_status_id  \\\n",
       "0     This is Phineas. He's a mystical boy. Only eve...                  NaN   \n",
       "1     This is Tilly. She's just checking pup on you....                  NaN   \n",
       "2     This is Archie. He is a rare Norwegian Pouncin...                  NaN   \n",
       "3     This is Darla. She commenced a snooze mid meal...                  NaN   \n",
       "4     This is Franklin. He would like you to stop ca...                  NaN   \n",
       "...                                                 ...                  ...   \n",
       "2351  Here we have a 1949 1st generation vulpix. Enj...                  NaN   \n",
       "2352  This is a purebred Piers Morgan. Loves to Netf...                  NaN   \n",
       "2353  Here is a very happy pup. Big fan of well-main...                  NaN   \n",
       "2354  This is a western brown Mitsubishi terrier. Up...                  NaN   \n",
       "2355  Here we have a Japanese Irish Setter. Lost eye...                  NaN   \n",
       "\n",
       "      retweeted_status_user_id retweeted_status_timestamp  \\\n",
       "0                          NaN                        NaN   \n",
       "1                          NaN                        NaN   \n",
       "2                          NaN                        NaN   \n",
       "3                          NaN                        NaN   \n",
       "4                          NaN                        NaN   \n",
       "...                        ...                        ...   \n",
       "2351                       NaN                        NaN   \n",
       "2352                       NaN                        NaN   \n",
       "2353                       NaN                        NaN   \n",
       "2354                       NaN                        NaN   \n",
       "2355                       NaN                        NaN   \n",
       "\n",
       "                                          expanded_urls  rating_numerator  \\\n",
       "0     https://twitter.com/dog_rates/status/892420643...                13   \n",
       "1     https://twitter.com/dog_rates/status/892177421...                13   \n",
       "2     https://twitter.com/dog_rates/status/891815181...                12   \n",
       "3     https://twitter.com/dog_rates/status/891689557...                13   \n",
       "4     https://twitter.com/dog_rates/status/891327558...                12   \n",
       "...                                                 ...               ...   \n",
       "2351  https://twitter.com/dog_rates/status/666049248...                 5   \n",
       "2352  https://twitter.com/dog_rates/status/666044226...                 6   \n",
       "2353  https://twitter.com/dog_rates/status/666033412...                 9   \n",
       "2354  https://twitter.com/dog_rates/status/666029285...                 7   \n",
       "2355  https://twitter.com/dog_rates/status/666020888...                 8   \n",
       "\n",
       "      rating_denominator      name doggo floofer pupper puppo  \n",
       "0                     10   Phineas  None    None   None  None  \n",
       "1                     10     Tilly  None    None   None  None  \n",
       "2                     10    Archie  None    None   None  None  \n",
       "3                     10     Darla  None    None   None  None  \n",
       "4                     10  Franklin  None    None   None  None  \n",
       "...                  ...       ...   ...     ...    ...   ...  \n",
       "2351                  10      None  None    None   None  None  \n",
       "2352                  10         a  None    None   None  None  \n",
       "2353                  10         a  None    None   None  None  \n",
       "2354                  10         a  None    None   None  None  \n",
       "2355                  10      None  None    None   None  None  \n",
       "\n",
       "[2356 rows x 17 columns]"
      ]
     },
     "execution_count": 7,
     "metadata": {},
     "output_type": "execute_result"
    }
   ],
   "source": [
    "twitter_archive"
   ]
  },
  {
   "cell_type": "markdown",
   "id": "320e9e36",
   "metadata": {},
   "source": [
    "The data that would be analyzed was only of tweets that were not retweets, and therefore I had to filter the data based on their retweet status. I found that `retweeted_status_id`, `retweeted_status_user_id`, and `retweeted_status_timestamp` columns in this table were all identifying whether a tweet is an original tweet or a retweet. However, I would not be using these columns as I also had `retweeted_status` column in `tweet_info` table, which I perceived as more straightforward. \n",
    "\\\n",
    "\\\n",
    "`in_reply_to_status_id` and `in_reply_to_user_id` columns were not needed as well since I did not wish to identify whether or not a tweet is a reply to an existing tweet. Also, seeing how I had both the rating numerator and denominator, I thought it would be a good idea to replace these two columns with only one column by calculating the final ratings."
   ]
  },
  {
   "cell_type": "markdown",
   "id": "2be2cf9c",
   "metadata": {},
   "source": [
    "#### 2. Image prediction file on `image_predictions.tsv`"
   ]
  },
  {
   "cell_type": "code",
   "execution_count": 8,
   "id": "b7f87afa",
   "metadata": {
    "scrolled": true
   },
   "outputs": [
    {
     "data": {
      "text/html": [
       "<div>\n",
       "<style scoped>\n",
       "    .dataframe tbody tr th:only-of-type {\n",
       "        vertical-align: middle;\n",
       "    }\n",
       "\n",
       "    .dataframe tbody tr th {\n",
       "        vertical-align: top;\n",
       "    }\n",
       "\n",
       "    .dataframe thead th {\n",
       "        text-align: right;\n",
       "    }\n",
       "</style>\n",
       "<table border=\"1\" class=\"dataframe\">\n",
       "  <thead>\n",
       "    <tr style=\"text-align: right;\">\n",
       "      <th></th>\n",
       "      <th>tweet_id</th>\n",
       "      <th>jpg_url</th>\n",
       "      <th>img_num</th>\n",
       "      <th>p1</th>\n",
       "      <th>p1_conf</th>\n",
       "      <th>p1_dog</th>\n",
       "      <th>p2</th>\n",
       "      <th>p2_conf</th>\n",
       "      <th>p2_dog</th>\n",
       "      <th>p3</th>\n",
       "      <th>p3_conf</th>\n",
       "      <th>p3_dog</th>\n",
       "    </tr>\n",
       "  </thead>\n",
       "  <tbody>\n",
       "    <tr>\n",
       "      <th>0</th>\n",
       "      <td>666020888022790149</td>\n",
       "      <td>https://pbs.twimg.com/media/CT4udn0WwAA0aMy.jpg</td>\n",
       "      <td>1</td>\n",
       "      <td>Welsh_springer_spaniel</td>\n",
       "      <td>0.465074</td>\n",
       "      <td>True</td>\n",
       "      <td>collie</td>\n",
       "      <td>0.156665</td>\n",
       "      <td>True</td>\n",
       "      <td>Shetland_sheepdog</td>\n",
       "      <td>0.061428</td>\n",
       "      <td>True</td>\n",
       "    </tr>\n",
       "    <tr>\n",
       "      <th>1</th>\n",
       "      <td>666029285002620928</td>\n",
       "      <td>https://pbs.twimg.com/media/CT42GRgUYAA5iDo.jpg</td>\n",
       "      <td>1</td>\n",
       "      <td>redbone</td>\n",
       "      <td>0.506826</td>\n",
       "      <td>True</td>\n",
       "      <td>miniature_pinscher</td>\n",
       "      <td>0.074192</td>\n",
       "      <td>True</td>\n",
       "      <td>Rhodesian_ridgeback</td>\n",
       "      <td>0.072010</td>\n",
       "      <td>True</td>\n",
       "    </tr>\n",
       "    <tr>\n",
       "      <th>2</th>\n",
       "      <td>666033412701032449</td>\n",
       "      <td>https://pbs.twimg.com/media/CT4521TWwAEvMyu.jpg</td>\n",
       "      <td>1</td>\n",
       "      <td>German_shepherd</td>\n",
       "      <td>0.596461</td>\n",
       "      <td>True</td>\n",
       "      <td>malinois</td>\n",
       "      <td>0.138584</td>\n",
       "      <td>True</td>\n",
       "      <td>bloodhound</td>\n",
       "      <td>0.116197</td>\n",
       "      <td>True</td>\n",
       "    </tr>\n",
       "    <tr>\n",
       "      <th>3</th>\n",
       "      <td>666044226329800704</td>\n",
       "      <td>https://pbs.twimg.com/media/CT5Dr8HUEAA-lEu.jpg</td>\n",
       "      <td>1</td>\n",
       "      <td>Rhodesian_ridgeback</td>\n",
       "      <td>0.408143</td>\n",
       "      <td>True</td>\n",
       "      <td>redbone</td>\n",
       "      <td>0.360687</td>\n",
       "      <td>True</td>\n",
       "      <td>miniature_pinscher</td>\n",
       "      <td>0.222752</td>\n",
       "      <td>True</td>\n",
       "    </tr>\n",
       "    <tr>\n",
       "      <th>4</th>\n",
       "      <td>666049248165822465</td>\n",
       "      <td>https://pbs.twimg.com/media/CT5IQmsXIAAKY4A.jpg</td>\n",
       "      <td>1</td>\n",
       "      <td>miniature_pinscher</td>\n",
       "      <td>0.560311</td>\n",
       "      <td>True</td>\n",
       "      <td>Rottweiler</td>\n",
       "      <td>0.243682</td>\n",
       "      <td>True</td>\n",
       "      <td>Doberman</td>\n",
       "      <td>0.154629</td>\n",
       "      <td>True</td>\n",
       "    </tr>\n",
       "    <tr>\n",
       "      <th>...</th>\n",
       "      <td>...</td>\n",
       "      <td>...</td>\n",
       "      <td>...</td>\n",
       "      <td>...</td>\n",
       "      <td>...</td>\n",
       "      <td>...</td>\n",
       "      <td>...</td>\n",
       "      <td>...</td>\n",
       "      <td>...</td>\n",
       "      <td>...</td>\n",
       "      <td>...</td>\n",
       "      <td>...</td>\n",
       "    </tr>\n",
       "    <tr>\n",
       "      <th>2070</th>\n",
       "      <td>891327558926688256</td>\n",
       "      <td>https://pbs.twimg.com/media/DF6hr6BUMAAzZgT.jpg</td>\n",
       "      <td>2</td>\n",
       "      <td>basset</td>\n",
       "      <td>0.555712</td>\n",
       "      <td>True</td>\n",
       "      <td>English_springer</td>\n",
       "      <td>0.225770</td>\n",
       "      <td>True</td>\n",
       "      <td>German_short-haired_pointer</td>\n",
       "      <td>0.175219</td>\n",
       "      <td>True</td>\n",
       "    </tr>\n",
       "    <tr>\n",
       "      <th>2071</th>\n",
       "      <td>891689557279858688</td>\n",
       "      <td>https://pbs.twimg.com/media/DF_q7IAWsAEuuN8.jpg</td>\n",
       "      <td>1</td>\n",
       "      <td>paper_towel</td>\n",
       "      <td>0.170278</td>\n",
       "      <td>False</td>\n",
       "      <td>Labrador_retriever</td>\n",
       "      <td>0.168086</td>\n",
       "      <td>True</td>\n",
       "      <td>spatula</td>\n",
       "      <td>0.040836</td>\n",
       "      <td>False</td>\n",
       "    </tr>\n",
       "    <tr>\n",
       "      <th>2072</th>\n",
       "      <td>891815181378084864</td>\n",
       "      <td>https://pbs.twimg.com/media/DGBdLU1WsAANxJ9.jpg</td>\n",
       "      <td>1</td>\n",
       "      <td>Chihuahua</td>\n",
       "      <td>0.716012</td>\n",
       "      <td>True</td>\n",
       "      <td>malamute</td>\n",
       "      <td>0.078253</td>\n",
       "      <td>True</td>\n",
       "      <td>kelpie</td>\n",
       "      <td>0.031379</td>\n",
       "      <td>True</td>\n",
       "    </tr>\n",
       "    <tr>\n",
       "      <th>2073</th>\n",
       "      <td>892177421306343426</td>\n",
       "      <td>https://pbs.twimg.com/media/DGGmoV4XsAAUL6n.jpg</td>\n",
       "      <td>1</td>\n",
       "      <td>Chihuahua</td>\n",
       "      <td>0.323581</td>\n",
       "      <td>True</td>\n",
       "      <td>Pekinese</td>\n",
       "      <td>0.090647</td>\n",
       "      <td>True</td>\n",
       "      <td>papillon</td>\n",
       "      <td>0.068957</td>\n",
       "      <td>True</td>\n",
       "    </tr>\n",
       "    <tr>\n",
       "      <th>2074</th>\n",
       "      <td>892420643555336193</td>\n",
       "      <td>https://pbs.twimg.com/media/DGKD1-bXoAAIAUK.jpg</td>\n",
       "      <td>1</td>\n",
       "      <td>orange</td>\n",
       "      <td>0.097049</td>\n",
       "      <td>False</td>\n",
       "      <td>bagel</td>\n",
       "      <td>0.085851</td>\n",
       "      <td>False</td>\n",
       "      <td>banana</td>\n",
       "      <td>0.076110</td>\n",
       "      <td>False</td>\n",
       "    </tr>\n",
       "  </tbody>\n",
       "</table>\n",
       "<p>2075 rows × 12 columns</p>\n",
       "</div>"
      ],
      "text/plain": [
       "                tweet_id                                          jpg_url  \\\n",
       "0     666020888022790149  https://pbs.twimg.com/media/CT4udn0WwAA0aMy.jpg   \n",
       "1     666029285002620928  https://pbs.twimg.com/media/CT42GRgUYAA5iDo.jpg   \n",
       "2     666033412701032449  https://pbs.twimg.com/media/CT4521TWwAEvMyu.jpg   \n",
       "3     666044226329800704  https://pbs.twimg.com/media/CT5Dr8HUEAA-lEu.jpg   \n",
       "4     666049248165822465  https://pbs.twimg.com/media/CT5IQmsXIAAKY4A.jpg   \n",
       "...                  ...                                              ...   \n",
       "2070  891327558926688256  https://pbs.twimg.com/media/DF6hr6BUMAAzZgT.jpg   \n",
       "2071  891689557279858688  https://pbs.twimg.com/media/DF_q7IAWsAEuuN8.jpg   \n",
       "2072  891815181378084864  https://pbs.twimg.com/media/DGBdLU1WsAANxJ9.jpg   \n",
       "2073  892177421306343426  https://pbs.twimg.com/media/DGGmoV4XsAAUL6n.jpg   \n",
       "2074  892420643555336193  https://pbs.twimg.com/media/DGKD1-bXoAAIAUK.jpg   \n",
       "\n",
       "      img_num                      p1   p1_conf  p1_dog                  p2  \\\n",
       "0           1  Welsh_springer_spaniel  0.465074    True              collie   \n",
       "1           1                 redbone  0.506826    True  miniature_pinscher   \n",
       "2           1         German_shepherd  0.596461    True            malinois   \n",
       "3           1     Rhodesian_ridgeback  0.408143    True             redbone   \n",
       "4           1      miniature_pinscher  0.560311    True          Rottweiler   \n",
       "...       ...                     ...       ...     ...                 ...   \n",
       "2070        2                  basset  0.555712    True    English_springer   \n",
       "2071        1             paper_towel  0.170278   False  Labrador_retriever   \n",
       "2072        1               Chihuahua  0.716012    True            malamute   \n",
       "2073        1               Chihuahua  0.323581    True            Pekinese   \n",
       "2074        1                  orange  0.097049   False               bagel   \n",
       "\n",
       "       p2_conf  p2_dog                           p3   p3_conf  p3_dog  \n",
       "0     0.156665    True            Shetland_sheepdog  0.061428    True  \n",
       "1     0.074192    True          Rhodesian_ridgeback  0.072010    True  \n",
       "2     0.138584    True                   bloodhound  0.116197    True  \n",
       "3     0.360687    True           miniature_pinscher  0.222752    True  \n",
       "4     0.243682    True                     Doberman  0.154629    True  \n",
       "...        ...     ...                          ...       ...     ...  \n",
       "2070  0.225770    True  German_short-haired_pointer  0.175219    True  \n",
       "2071  0.168086    True                      spatula  0.040836   False  \n",
       "2072  0.078253    True                       kelpie  0.031379    True  \n",
       "2073  0.090647    True                     papillon  0.068957    True  \n",
       "2074  0.085851   False                       banana  0.076110   False  \n",
       "\n",
       "[2075 rows x 12 columns]"
      ]
     },
     "execution_count": 8,
     "metadata": {},
     "output_type": "execute_result"
    }
   ],
   "source": [
    "image_prediction"
   ]
  },
  {
   "cell_type": "markdown",
   "id": "1aef205c",
   "metadata": {},
   "source": [
    "From visual assessment alone, it could be seen that the format of the prediction result columns (`p1`, `p2`, and `p3`) were inconsistent as some of the values used sentence case while others used all lowercases. Moreover, these columns could be simplified into a single column by selecting the prediction result with the highest confidence factor. "
   ]
  },
  {
   "cell_type": "markdown",
   "id": "7698557d",
   "metadata": {},
   "source": [
    "#### 3. Tweet details from Twitter API on `tweet-json.txt` "
   ]
  },
  {
   "cell_type": "code",
   "execution_count": 9,
   "id": "a9cbe7c6",
   "metadata": {
    "scrolled": true
   },
   "outputs": [
    {
     "data": {
      "text/html": [
       "<div>\n",
       "<style scoped>\n",
       "    .dataframe tbody tr th:only-of-type {\n",
       "        vertical-align: middle;\n",
       "    }\n",
       "\n",
       "    .dataframe tbody tr th {\n",
       "        vertical-align: top;\n",
       "    }\n",
       "\n",
       "    .dataframe thead th {\n",
       "        text-align: right;\n",
       "    }\n",
       "</style>\n",
       "<table border=\"1\" class=\"dataframe\">\n",
       "  <thead>\n",
       "    <tr style=\"text-align: right;\">\n",
       "      <th></th>\n",
       "      <th>id</th>\n",
       "      <th>retweet_count</th>\n",
       "      <th>favorite_count</th>\n",
       "      <th>retweeted_status</th>\n",
       "    </tr>\n",
       "  </thead>\n",
       "  <tbody>\n",
       "    <tr>\n",
       "      <th>0</th>\n",
       "      <td>892420643555336193</td>\n",
       "      <td>8853</td>\n",
       "      <td>39467</td>\n",
       "      <td>NaN</td>\n",
       "    </tr>\n",
       "    <tr>\n",
       "      <th>1</th>\n",
       "      <td>892177421306343426</td>\n",
       "      <td>6514</td>\n",
       "      <td>33819</td>\n",
       "      <td>NaN</td>\n",
       "    </tr>\n",
       "    <tr>\n",
       "      <th>2</th>\n",
       "      <td>891815181378084864</td>\n",
       "      <td>4328</td>\n",
       "      <td>25461</td>\n",
       "      <td>NaN</td>\n",
       "    </tr>\n",
       "    <tr>\n",
       "      <th>3</th>\n",
       "      <td>891689557279858688</td>\n",
       "      <td>8964</td>\n",
       "      <td>42908</td>\n",
       "      <td>NaN</td>\n",
       "    </tr>\n",
       "    <tr>\n",
       "      <th>4</th>\n",
       "      <td>891327558926688256</td>\n",
       "      <td>9774</td>\n",
       "      <td>41048</td>\n",
       "      <td>NaN</td>\n",
       "    </tr>\n",
       "    <tr>\n",
       "      <th>...</th>\n",
       "      <td>...</td>\n",
       "      <td>...</td>\n",
       "      <td>...</td>\n",
       "      <td>...</td>\n",
       "    </tr>\n",
       "    <tr>\n",
       "      <th>2349</th>\n",
       "      <td>666049248165822465</td>\n",
       "      <td>41</td>\n",
       "      <td>111</td>\n",
       "      <td>NaN</td>\n",
       "    </tr>\n",
       "    <tr>\n",
       "      <th>2350</th>\n",
       "      <td>666044226329800704</td>\n",
       "      <td>147</td>\n",
       "      <td>311</td>\n",
       "      <td>NaN</td>\n",
       "    </tr>\n",
       "    <tr>\n",
       "      <th>2351</th>\n",
       "      <td>666033412701032449</td>\n",
       "      <td>47</td>\n",
       "      <td>128</td>\n",
       "      <td>NaN</td>\n",
       "    </tr>\n",
       "    <tr>\n",
       "      <th>2352</th>\n",
       "      <td>666029285002620928</td>\n",
       "      <td>48</td>\n",
       "      <td>132</td>\n",
       "      <td>NaN</td>\n",
       "    </tr>\n",
       "    <tr>\n",
       "      <th>2353</th>\n",
       "      <td>666020888022790149</td>\n",
       "      <td>532</td>\n",
       "      <td>2535</td>\n",
       "      <td>NaN</td>\n",
       "    </tr>\n",
       "  </tbody>\n",
       "</table>\n",
       "<p>2354 rows × 4 columns</p>\n",
       "</div>"
      ],
      "text/plain": [
       "                      id  retweet_count  favorite_count retweeted_status\n",
       "0     892420643555336193           8853           39467              NaN\n",
       "1     892177421306343426           6514           33819              NaN\n",
       "2     891815181378084864           4328           25461              NaN\n",
       "3     891689557279858688           8964           42908              NaN\n",
       "4     891327558926688256           9774           41048              NaN\n",
       "...                  ...            ...             ...              ...\n",
       "2349  666049248165822465             41             111              NaN\n",
       "2350  666044226329800704            147             311              NaN\n",
       "2351  666033412701032449             47             128              NaN\n",
       "2352  666029285002620928             48             132              NaN\n",
       "2353  666020888022790149            532            2535              NaN\n",
       "\n",
       "[2354 rows x 4 columns]"
      ]
     },
     "execution_count": 9,
     "metadata": {},
     "output_type": "execute_result"
    }
   ],
   "source": [
    "tweet_info"
   ]
  },
  {
   "cell_type": "markdown",
   "id": "b42ea626",
   "metadata": {},
   "source": [
    "\n",
    "\n",
    "### Programmatic Assessment\n",
    "#### 1. WeRateDogs' Twitter Archive on `twitter-archive-enhanced.csv` \n",
    "\n",
    "<b>Checking each column's data type:</b>"
   ]
  },
  {
   "cell_type": "code",
   "execution_count": 10,
   "id": "7da039c4",
   "metadata": {
    "scrolled": true
   },
   "outputs": [
    {
     "name": "stdout",
     "output_type": "stream",
     "text": [
      "<class 'pandas.core.frame.DataFrame'>\n",
      "RangeIndex: 2356 entries, 0 to 2355\n",
      "Data columns (total 17 columns):\n",
      " #   Column                      Non-Null Count  Dtype  \n",
      "---  ------                      --------------  -----  \n",
      " 0   tweet_id                    2356 non-null   int64  \n",
      " 1   in_reply_to_status_id       78 non-null     float64\n",
      " 2   in_reply_to_user_id         78 non-null     float64\n",
      " 3   timestamp                   2356 non-null   object \n",
      " 4   source                      2356 non-null   object \n",
      " 5   text                        2356 non-null   object \n",
      " 6   retweeted_status_id         181 non-null    float64\n",
      " 7   retweeted_status_user_id    181 non-null    float64\n",
      " 8   retweeted_status_timestamp  181 non-null    object \n",
      " 9   expanded_urls               2297 non-null   object \n",
      " 10  rating_numerator            2356 non-null   int64  \n",
      " 11  rating_denominator          2356 non-null   int64  \n",
      " 12  name                        2356 non-null   object \n",
      " 13  doggo                       2356 non-null   object \n",
      " 14  floofer                     2356 non-null   object \n",
      " 15  pupper                      2356 non-null   object \n",
      " 16  puppo                       2356 non-null   object \n",
      "dtypes: float64(4), int64(3), object(10)\n",
      "memory usage: 313.0+ KB\n"
     ]
    }
   ],
   "source": [
    "twitter_archive.info()"
   ]
  },
  {
   "cell_type": "markdown",
   "id": "4dd69dd2",
   "metadata": {},
   "source": [
    "Despite being numeric, subjecting the values of `tweet_id` column to any mathematical operation would not result in anything useful, and therefore I would argue that the better type for these data would be string, not integer.\n",
    "\\\n",
    "\\\n",
    "<b>Checking duplicated values:</b>"
   ]
  },
  {
   "cell_type": "code",
   "execution_count": 11,
   "id": "bacd74b6",
   "metadata": {
    "scrolled": false
   },
   "outputs": [
    {
     "data": {
      "text/plain": [
       "0"
      ]
     },
     "execution_count": 11,
     "metadata": {},
     "output_type": "execute_result"
    }
   ],
   "source": [
    "twitter_archive.duplicated().sum()"
   ]
  },
  {
   "cell_type": "markdown",
   "id": "61cd19e6",
   "metadata": {},
   "source": [
    "<b>Checking the values of the dog stage columns:</b>"
   ]
  },
  {
   "cell_type": "code",
   "execution_count": 12,
   "id": "e1015025",
   "metadata": {
    "scrolled": false
   },
   "outputs": [
    {
     "data": {
      "text/plain": [
       "array(['None', 'doggo', 'floofer', 'pupper', 'puppo'], dtype=object)"
      ]
     },
     "execution_count": 12,
     "metadata": {},
     "output_type": "execute_result"
    }
   ],
   "source": [
    "np.unique(twitter_archive[['doggo', 'floofer', 'pupper', 'puppo']].values)"
   ]
  },
  {
   "cell_type": "markdown",
   "id": "7382dd45",
   "metadata": {},
   "source": [
    "The values of the dog state columns (`doggo`, `floofer`, `pupper`, and `puppo`) were either <i>\"None\"</i> when it was not the dog's stage (or the dog's stage was not recorded) or the stage name itself when it was the right one (e.g., the word <i>\"doggo\"</i> on the `doggo` column when the dog was a doggo), which was quite impractical and made the columns redundant."
   ]
  },
  {
   "cell_type": "code",
   "execution_count": 13,
   "id": "b769d417",
   "metadata": {},
   "outputs": [
    {
     "data": {
      "text/plain": [
       "                1976\n",
       "pupper           245\n",
       "doggo             83\n",
       "puppo             29\n",
       "doggopupper       12\n",
       "floofer            9\n",
       "doggopuppo         1\n",
       "doggofloofer       1\n",
       "dtype: int64"
      ]
     },
     "execution_count": 13,
     "metadata": {},
     "output_type": "execute_result"
    }
   ],
   "source": [
    "# checking records with multiple dog stages \n",
    "\n",
    "stage_check = twitter_archive['doggo'].replace('None', '') + twitter_archive['floofer'].replace('None', '') + twitter_archive['pupper'].replace('None', '') + twitter_archive['puppo'].replace('None', '')\n",
    "stage_check.value_counts()"
   ]
  },
  {
   "cell_type": "markdown",
   "id": "eadcf9bc",
   "metadata": {},
   "source": [
    "<b>Checking the formatting of the `name` column's values:</b>"
   ]
  },
  {
   "cell_type": "code",
   "execution_count": 14,
   "id": "fd3d66b1",
   "metadata": {},
   "outputs": [
    {
     "data": {
      "text/plain": [
       "2241"
      ]
     },
     "execution_count": 14,
     "metadata": {},
     "output_type": "execute_result"
    }
   ],
   "source": [
    "dog_name = []\n",
    "\n",
    "for name in twitter_archive['name']:\n",
    "    lowercase = name.istitle()\n",
    "    dog_name.append(lowercase)\n",
    "    \n",
    "dog_name.count(True)"
   ]
  },
  {
   "cell_type": "markdown",
   "id": "60d06a9d",
   "metadata": {},
   "source": [
    "From my visual assessment, I assumed that the dog names were supposed to be in sentence case. However, it turned out that there were only 2,241 values (out of the total 2,356 values) that were stored in sentence case."
   ]
  },
  {
   "cell_type": "code",
   "execution_count": 15,
   "id": "13104455",
   "metadata": {},
   "outputs": [
    {
     "data": {
      "text/plain": [
       "['O', 'JD']"
      ]
     },
     "execution_count": 15,
     "metadata": {},
     "output_type": "execute_result"
    }
   ],
   "source": [
    "# checking on the values that were in upper case\n",
    "\n",
    "uppercase_name = [y for x in twitter_archive['name'] for y in x.split() if y.isupper()]\n",
    "uppercase_name"
   ]
  },
  {
   "cell_type": "code",
   "execution_count": 16,
   "id": "a7039b18",
   "metadata": {},
   "outputs": [
    {
     "data": {
      "text/plain": [
       "['such',\n",
       " 'a',\n",
       " 'quite',\n",
       " 'quite',\n",
       " 'quite',\n",
       " 'not',\n",
       " 'one',\n",
       " 'incredibly',\n",
       " 'a',\n",
       " 'mad',\n",
       " 'an',\n",
       " 'very',\n",
       " 'a',\n",
       " 'very',\n",
       " 'just',\n",
       " 'my',\n",
       " 'one',\n",
       " 'not',\n",
       " 'his',\n",
       " 'one',\n",
       " 'a',\n",
       " 'a',\n",
       " 'a',\n",
       " 'an',\n",
       " 'very',\n",
       " 'actually',\n",
       " 'a',\n",
       " 'just',\n",
       " 'getting',\n",
       " 'mad',\n",
       " 'very',\n",
       " 'this',\n",
       " 'unacceptable',\n",
       " 'all',\n",
       " 'a',\n",
       " 'old',\n",
       " 'a',\n",
       " 'infuriating',\n",
       " 'a',\n",
       " 'a',\n",
       " 'a',\n",
       " 'an',\n",
       " 'a',\n",
       " 'a',\n",
       " 'very',\n",
       " 'getting',\n",
       " 'just',\n",
       " 'a',\n",
       " 'the',\n",
       " 'the',\n",
       " 'actually',\n",
       " 'by',\n",
       " 'a',\n",
       " 'officially',\n",
       " 'a',\n",
       " 'the',\n",
       " 'the',\n",
       " 'a',\n",
       " 'a',\n",
       " 'a',\n",
       " 'a',\n",
       " 'life',\n",
       " 'a',\n",
       " 'one',\n",
       " 'a',\n",
       " 'a',\n",
       " 'a',\n",
       " 'light',\n",
       " 'just',\n",
       " 'space',\n",
       " 'a',\n",
       " 'the',\n",
       " 'a',\n",
       " 'a',\n",
       " 'a',\n",
       " 'a',\n",
       " 'a',\n",
       " 'a',\n",
       " 'a',\n",
       " 'a',\n",
       " 'a',\n",
       " 'an',\n",
       " 'a',\n",
       " 'the',\n",
       " 'a',\n",
       " 'a',\n",
       " 'a',\n",
       " 'a',\n",
       " 'a',\n",
       " 'a',\n",
       " 'a',\n",
       " 'a',\n",
       " 'a',\n",
       " 'a',\n",
       " 'a',\n",
       " 'quite',\n",
       " 'a',\n",
       " 'an',\n",
       " 'a',\n",
       " 'an',\n",
       " 'the',\n",
       " 'the',\n",
       " 'a',\n",
       " 'a',\n",
       " 'an',\n",
       " 'a',\n",
       " 'a',\n",
       " 'a',\n",
       " 'a']"
      ]
     },
     "execution_count": 16,
     "metadata": {},
     "output_type": "execute_result"
    }
   ],
   "source": [
    "# checking on the values that were in lower case\n",
    "\n",
    "lowercase_name = [y for x in twitter_archive['name'] for y in x.split() if y.islower()]\n",
    "lowercase_name"
   ]
  },
  {
   "cell_type": "markdown",
   "id": "b35ec0e3",
   "metadata": {},
   "source": [
    "<i><b>Note:</b> the code above was referred to [this Stack Overflow thread](https://stackoverflow.com/questions/63358767/how-to-filter-rows-and-words-in-lower-case-in-pandas-dataframe?rq=1).</i>\n",
    "\\\n",
    "\\\n",
    "The names that were in upper case looked normal, but the names that were in lower case did not look like dog names to me--more like parts of the tweets that were accidentally read as the dogs' names in the scraping process. I would considere these cases as the dogs being not named. \n",
    "\\\n",
    "\\\n",
    "<b>Checking the dog rating numerator columns:</b>"
   ]
  },
  {
   "cell_type": "code",
   "execution_count": 17,
   "id": "d10634d5",
   "metadata": {},
   "outputs": [
    {
     "name": "stdout",
     "output_type": "stream",
     "text": [
      "int64 int64\n"
     ]
    }
   ],
   "source": [
    "num = twitter_archive.rating_numerator.dtype\n",
    "denom = twitter_archive.rating_denominator.dtype\n",
    "print (num, denom)"
   ]
  },
  {
   "cell_type": "code",
   "execution_count": 18,
   "id": "66055fec",
   "metadata": {
    "scrolled": true
   },
   "outputs": [
    {
     "data": {
      "text/plain": [
       "12      558\n",
       "11      464\n",
       "10      461\n",
       "13      351\n",
       "9       158\n",
       "8       102\n",
       "7        55\n",
       "14       54\n",
       "5        37\n",
       "6        32\n",
       "3        19\n",
       "4        17\n",
       "2         9\n",
       "1         9\n",
       "75        2\n",
       "15        2\n",
       "420       2\n",
       "0         2\n",
       "80        1\n",
       "144       1\n",
       "17        1\n",
       "26        1\n",
       "20        1\n",
       "121       1\n",
       "143       1\n",
       "44        1\n",
       "60        1\n",
       "45        1\n",
       "50        1\n",
       "99        1\n",
       "204       1\n",
       "1776      1\n",
       "165       1\n",
       "666       1\n",
       "27        1\n",
       "182       1\n",
       "24        1\n",
       "960       1\n",
       "84        1\n",
       "88        1\n",
       "Name: rating_numerator, dtype: int64"
      ]
     },
     "execution_count": 18,
     "metadata": {},
     "output_type": "execute_result"
    }
   ],
   "source": [
    "twitter_archive.rating_numerator.value_counts()"
   ]
  },
  {
   "cell_type": "code",
   "execution_count": 19,
   "id": "ccba3fa2",
   "metadata": {},
   "outputs": [
    {
     "data": {
      "text/plain": [
       "10     2333\n",
       "11        3\n",
       "50        3\n",
       "20        2\n",
       "80        2\n",
       "70        1\n",
       "7         1\n",
       "15        1\n",
       "150       1\n",
       "170       1\n",
       "0         1\n",
       "90        1\n",
       "40        1\n",
       "130       1\n",
       "110       1\n",
       "16        1\n",
       "120       1\n",
       "2         1\n",
       "Name: rating_denominator, dtype: int64"
      ]
     },
     "execution_count": 19,
     "metadata": {},
     "output_type": "execute_result"
    }
   ],
   "source": [
    "twitter_archive.rating_denominator.value_counts()"
   ]
  },
  {
   "cell_type": "markdown",
   "id": "b9547bac",
   "metadata": {},
   "source": [
    "<b> 2. Image prediction file on `image_predictions.tsv` </b>"
   ]
  },
  {
   "cell_type": "code",
   "execution_count": 20,
   "id": "89bee379",
   "metadata": {},
   "outputs": [
    {
     "name": "stdout",
     "output_type": "stream",
     "text": [
      "<class 'pandas.core.frame.DataFrame'>\n",
      "RangeIndex: 2075 entries, 0 to 2074\n",
      "Data columns (total 12 columns):\n",
      " #   Column    Non-Null Count  Dtype  \n",
      "---  ------    --------------  -----  \n",
      " 0   tweet_id  2075 non-null   int64  \n",
      " 1   jpg_url   2075 non-null   object \n",
      " 2   img_num   2075 non-null   int64  \n",
      " 3   p1        2075 non-null   object \n",
      " 4   p1_conf   2075 non-null   float64\n",
      " 5   p1_dog    2075 non-null   bool   \n",
      " 6   p2        2075 non-null   object \n",
      " 7   p2_conf   2075 non-null   float64\n",
      " 8   p2_dog    2075 non-null   bool   \n",
      " 9   p3        2075 non-null   object \n",
      " 10  p3_conf   2075 non-null   float64\n",
      " 11  p3_dog    2075 non-null   bool   \n",
      "dtypes: bool(3), float64(3), int64(2), object(4)\n",
      "memory usage: 152.1+ KB\n"
     ]
    }
   ],
   "source": [
    "image_prediction.info()"
   ]
  },
  {
   "cell_type": "code",
   "execution_count": 21,
   "id": "e5096e40",
   "metadata": {
    "scrolled": true
   },
   "outputs": [
    {
     "data": {
      "text/plain": [
       "0"
      ]
     },
     "execution_count": 21,
     "metadata": {},
     "output_type": "execute_result"
    }
   ],
   "source": [
    "image_prediction.duplicated().sum()"
   ]
  },
  {
   "cell_type": "markdown",
   "id": "6ea2b0de",
   "metadata": {},
   "source": [
    "<b> 3. Tweet details from Twitter API on `tweet-json.txt`</b>"
   ]
  },
  {
   "cell_type": "code",
   "execution_count": 22,
   "id": "cc756dad",
   "metadata": {
    "scrolled": true
   },
   "outputs": [
    {
     "name": "stdout",
     "output_type": "stream",
     "text": [
      "<class 'pandas.core.frame.DataFrame'>\n",
      "RangeIndex: 2354 entries, 0 to 2353\n",
      "Data columns (total 4 columns):\n",
      " #   Column            Non-Null Count  Dtype \n",
      "---  ------            --------------  ----- \n",
      " 0   id                2354 non-null   int64 \n",
      " 1   retweet_count     2354 non-null   int64 \n",
      " 2   favorite_count    2354 non-null   int64 \n",
      " 3   retweeted_status  179 non-null    object\n",
      "dtypes: int64(3), object(1)\n",
      "memory usage: 73.7+ KB\n"
     ]
    }
   ],
   "source": [
    "tweet_info.info()"
   ]
  },
  {
   "cell_type": "markdown",
   "id": "90b57e34",
   "metadata": {},
   "source": [
    "### Assessment Result\n",
    "According to both visual and programmatic assessments I had conducted, below are the issues found in all of the three tables:\n",
    "#### Tidiness \n",
    "\n",
    "1. All of the three datasets contained the details of the same objects, i.e., WeRateDogs' tweets, and therefore could be merged into a single table. However, the number of each table's entries did not match one another, indicating missing data for several records (to be detected once the tables are merged) \n",
    "2. Impractical and redundant data on the dog stage columns (`doggo`, `floofer`, `pupper`, and `puppo`) in `twitter_archive` table\n",
    "\n",
    "\n",
    "#### Quality\n",
    "1. Unnecessary columns in `twitter_archive` table:\n",
    "    - `retweeted_status_id`\n",
    "    - `retweeted_status_user_id`\n",
    "    - `retweeted_status_timestamp`\n",
    "    - `in_reply_to_status_id`\n",
    "    - `in_reply_to_user_id`<br><br>\n",
    "<i>Note: these columns also had incorrect data types as they were stored as integer when they should be strings. However, as I found them unnecessary and would later be dropped, this issue would not be fixed.</i><br><br>\n",
    "2. Records of tweets that were not original tweets (retweets)\n",
    "3. `rating_numerator` and `rating_denominator` columns in `twitter_archive` table could be transformed into a single (new) column by calculating the final ratings\n",
    "4. Erroneous data type: \n",
    "    - `tweet_id` column in `twitter_archive` and `image_prediction` tables and `id` column in `tweet_data` table (integer, should be string)\n",
    "    - `timestamp` column in `twitter_archive` table (object, should be datetime)\n",
    "    - `rating_numerator` and `rating_denominator` in `titter_archive` table (integer, should be float)\n",
    "    - `retweet_count` and `favorite_count` columns in `tweet_info` table (float, should be integer)\n",
    "5. Dog names in `twitter_archive` table (`name` column) consisted of invalid values, particularly the ones that were in all-lowercases \n",
    "6. Records with more than one dog stage data\n",
    "7. Inconsistent formatting: \n",
    "    - `name` column in `twitter_archive` table\n",
    "    - Prediction result columns (`p1`, `p2`, `p3`) in `image_prediction` table\n",
    "8. Multiple data of dog breed prediction results in `image_prediction` table, would need a single column to document the chosen results\n",
    "\n",
    "## Data Cleaning\n",
    "During the cleaning process, I would be using the copies of the uncleaned tables generated using the following code:"
   ]
  },
  {
   "cell_type": "code",
   "execution_count": 23,
   "id": "75fc262e",
   "metadata": {},
   "outputs": [],
   "source": [
    "# copying the uncleaned data \n",
    "\n",
    "df_archive = twitter_archive.copy()\n",
    "df_prediction = image_prediction.copy()\n",
    "df_info = tweet_info.copy()"
   ]
  },
  {
   "cell_type": "markdown",
   "id": "5fc7c2a3",
   "metadata": {},
   "source": [
    "# Define: Cleaning Steps\n",
    "1. Merging all the three tables (Tidiness Issue #1)\n",
    "2. Dropping the records of tweets that were not original tweets (Quality Issue #2)\n",
    "3. Creating a new column for final ratings (Quality Issue #3 and #4)\n",
    "4. Creating a new column for dog stages (Tidiness Issue #2)\n",
    "5. Creating a new column for dog breeds (Quality Issue #8)\n",
    "6. Dropping unnecessary columns (Tidiness Issue #2 and Quality Issue #1 and #8)\n",
    "7. Converting columns with incorrect data types (Quality Issue #4)\n",
    "8. Fixing columns with inconsistent formatting (Quality Issue #7)\n",
    "9. Storing the clean data \n",
    "\n",
    "### Code & Test: Cleaning Process\n",
    "#### 1. Merging all the three tables (Tidiness Issue #1)\n",
    "To merge all the three tables, I would be using `tweet_id` column as the primary key, and therefore had to rename the `id` column in `df_info` table."
   ]
  },
  {
   "cell_type": "code",
   "execution_count": 24,
   "id": "cee458a2",
   "metadata": {},
   "outputs": [],
   "source": [
    "# renaming `id` column\n",
    "\n",
    "df_info = df_info.rename(columns = {'id': 'tweet_id'})"
   ]
  },
  {
   "cell_type": "code",
   "execution_count": 25,
   "id": "a419698b",
   "metadata": {},
   "outputs": [],
   "source": [
    "# merging the tables \n",
    "\n",
    "from functools import reduce\n",
    "\n",
    "tweet_data = [df_archive, df_prediction, df_info]\n",
    "df = reduce(lambda left, right: pd.merge(left, right, on = ['tweet_id'], \n",
    "                                         how = 'outer'), tweet_data)"
   ]
  },
  {
   "cell_type": "markdown",
   "id": "9cbdb45c",
   "metadata": {},
   "source": [
    "<i><b>Note:</b> the codes above was reffered to [this Stack Overflow thread](https://stackoverflow.com/questions/44327999/python-pandas-merge-multiple-dataframes). "
   ]
  },
  {
   "cell_type": "code",
   "execution_count": 26,
   "id": "cc794ddb",
   "metadata": {
    "scrolled": true
   },
   "outputs": [
    {
     "name": "stdout",
     "output_type": "stream",
     "text": [
      "<class 'pandas.core.frame.DataFrame'>\n",
      "Int64Index: 2356 entries, 0 to 2355\n",
      "Data columns (total 31 columns):\n",
      " #   Column                      Non-Null Count  Dtype  \n",
      "---  ------                      --------------  -----  \n",
      " 0   tweet_id                    2356 non-null   int64  \n",
      " 1   in_reply_to_status_id       78 non-null     float64\n",
      " 2   in_reply_to_user_id         78 non-null     float64\n",
      " 3   timestamp                   2356 non-null   object \n",
      " 4   source                      2356 non-null   object \n",
      " 5   text                        2356 non-null   object \n",
      " 6   retweeted_status_id         181 non-null    float64\n",
      " 7   retweeted_status_user_id    181 non-null    float64\n",
      " 8   retweeted_status_timestamp  181 non-null    object \n",
      " 9   expanded_urls               2297 non-null   object \n",
      " 10  rating_numerator            2356 non-null   int64  \n",
      " 11  rating_denominator          2356 non-null   int64  \n",
      " 12  name                        2356 non-null   object \n",
      " 13  doggo                       2356 non-null   object \n",
      " 14  floofer                     2356 non-null   object \n",
      " 15  pupper                      2356 non-null   object \n",
      " 16  puppo                       2356 non-null   object \n",
      " 17  jpg_url                     2075 non-null   object \n",
      " 18  img_num                     2075 non-null   float64\n",
      " 19  p1                          2075 non-null   object \n",
      " 20  p1_conf                     2075 non-null   float64\n",
      " 21  p1_dog                      2075 non-null   object \n",
      " 22  p2                          2075 non-null   object \n",
      " 23  p2_conf                     2075 non-null   float64\n",
      " 24  p2_dog                      2075 non-null   object \n",
      " 25  p3                          2075 non-null   object \n",
      " 26  p3_conf                     2075 non-null   float64\n",
      " 27  p3_dog                      2075 non-null   object \n",
      " 28  retweet_count               2354 non-null   float64\n",
      " 29  favorite_count              2354 non-null   float64\n",
      " 30  retweeted_status            179 non-null    object \n",
      "dtypes: float64(10), int64(3), object(18)\n",
      "memory usage: 589.0+ KB\n"
     ]
    }
   ],
   "source": [
    "df.info()"
   ]
  },
  {
   "cell_type": "code",
   "execution_count": 27,
   "id": "daf17112",
   "metadata": {},
   "outputs": [
    {
     "data": {
      "text/html": [
       "<div>\n",
       "<style scoped>\n",
       "    .dataframe tbody tr th:only-of-type {\n",
       "        vertical-align: middle;\n",
       "    }\n",
       "\n",
       "    .dataframe tbody tr th {\n",
       "        vertical-align: top;\n",
       "    }\n",
       "\n",
       "    .dataframe thead th {\n",
       "        text-align: right;\n",
       "    }\n",
       "</style>\n",
       "<table border=\"1\" class=\"dataframe\">\n",
       "  <thead>\n",
       "    <tr style=\"text-align: right;\">\n",
       "      <th></th>\n",
       "      <th>tweet_id</th>\n",
       "      <th>in_reply_to_status_id</th>\n",
       "      <th>in_reply_to_user_id</th>\n",
       "      <th>timestamp</th>\n",
       "      <th>source</th>\n",
       "      <th>text</th>\n",
       "      <th>retweeted_status_id</th>\n",
       "      <th>retweeted_status_user_id</th>\n",
       "      <th>retweeted_status_timestamp</th>\n",
       "      <th>expanded_urls</th>\n",
       "      <th>...</th>\n",
       "      <th>p1_dog</th>\n",
       "      <th>p2</th>\n",
       "      <th>p2_conf</th>\n",
       "      <th>p2_dog</th>\n",
       "      <th>p3</th>\n",
       "      <th>p3_conf</th>\n",
       "      <th>p3_dog</th>\n",
       "      <th>retweet_count</th>\n",
       "      <th>favorite_count</th>\n",
       "      <th>retweeted_status</th>\n",
       "    </tr>\n",
       "  </thead>\n",
       "  <tbody>\n",
       "    <tr>\n",
       "      <th>0</th>\n",
       "      <td>892420643555336193</td>\n",
       "      <td>NaN</td>\n",
       "      <td>NaN</td>\n",
       "      <td>2017-08-01 16:23:56 +0000</td>\n",
       "      <td>&lt;a href=\"http://twitter.com/download/iphone\" r...</td>\n",
       "      <td>This is Phineas. He's a mystical boy. Only eve...</td>\n",
       "      <td>NaN</td>\n",
       "      <td>NaN</td>\n",
       "      <td>NaN</td>\n",
       "      <td>https://twitter.com/dog_rates/status/892420643...</td>\n",
       "      <td>...</td>\n",
       "      <td>False</td>\n",
       "      <td>bagel</td>\n",
       "      <td>0.085851</td>\n",
       "      <td>False</td>\n",
       "      <td>banana</td>\n",
       "      <td>0.076110</td>\n",
       "      <td>False</td>\n",
       "      <td>8853.0</td>\n",
       "      <td>39467.0</td>\n",
       "      <td>NaN</td>\n",
       "    </tr>\n",
       "    <tr>\n",
       "      <th>1</th>\n",
       "      <td>892177421306343426</td>\n",
       "      <td>NaN</td>\n",
       "      <td>NaN</td>\n",
       "      <td>2017-08-01 00:17:27 +0000</td>\n",
       "      <td>&lt;a href=\"http://twitter.com/download/iphone\" r...</td>\n",
       "      <td>This is Tilly. She's just checking pup on you....</td>\n",
       "      <td>NaN</td>\n",
       "      <td>NaN</td>\n",
       "      <td>NaN</td>\n",
       "      <td>https://twitter.com/dog_rates/status/892177421...</td>\n",
       "      <td>...</td>\n",
       "      <td>True</td>\n",
       "      <td>Pekinese</td>\n",
       "      <td>0.090647</td>\n",
       "      <td>True</td>\n",
       "      <td>papillon</td>\n",
       "      <td>0.068957</td>\n",
       "      <td>True</td>\n",
       "      <td>6514.0</td>\n",
       "      <td>33819.0</td>\n",
       "      <td>NaN</td>\n",
       "    </tr>\n",
       "    <tr>\n",
       "      <th>2</th>\n",
       "      <td>891815181378084864</td>\n",
       "      <td>NaN</td>\n",
       "      <td>NaN</td>\n",
       "      <td>2017-07-31 00:18:03 +0000</td>\n",
       "      <td>&lt;a href=\"http://twitter.com/download/iphone\" r...</td>\n",
       "      <td>This is Archie. He is a rare Norwegian Pouncin...</td>\n",
       "      <td>NaN</td>\n",
       "      <td>NaN</td>\n",
       "      <td>NaN</td>\n",
       "      <td>https://twitter.com/dog_rates/status/891815181...</td>\n",
       "      <td>...</td>\n",
       "      <td>True</td>\n",
       "      <td>malamute</td>\n",
       "      <td>0.078253</td>\n",
       "      <td>True</td>\n",
       "      <td>kelpie</td>\n",
       "      <td>0.031379</td>\n",
       "      <td>True</td>\n",
       "      <td>4328.0</td>\n",
       "      <td>25461.0</td>\n",
       "      <td>NaN</td>\n",
       "    </tr>\n",
       "    <tr>\n",
       "      <th>3</th>\n",
       "      <td>891689557279858688</td>\n",
       "      <td>NaN</td>\n",
       "      <td>NaN</td>\n",
       "      <td>2017-07-30 15:58:51 +0000</td>\n",
       "      <td>&lt;a href=\"http://twitter.com/download/iphone\" r...</td>\n",
       "      <td>This is Darla. She commenced a snooze mid meal...</td>\n",
       "      <td>NaN</td>\n",
       "      <td>NaN</td>\n",
       "      <td>NaN</td>\n",
       "      <td>https://twitter.com/dog_rates/status/891689557...</td>\n",
       "      <td>...</td>\n",
       "      <td>False</td>\n",
       "      <td>Labrador_retriever</td>\n",
       "      <td>0.168086</td>\n",
       "      <td>True</td>\n",
       "      <td>spatula</td>\n",
       "      <td>0.040836</td>\n",
       "      <td>False</td>\n",
       "      <td>8964.0</td>\n",
       "      <td>42908.0</td>\n",
       "      <td>NaN</td>\n",
       "    </tr>\n",
       "    <tr>\n",
       "      <th>4</th>\n",
       "      <td>891327558926688256</td>\n",
       "      <td>NaN</td>\n",
       "      <td>NaN</td>\n",
       "      <td>2017-07-29 16:00:24 +0000</td>\n",
       "      <td>&lt;a href=\"http://twitter.com/download/iphone\" r...</td>\n",
       "      <td>This is Franklin. He would like you to stop ca...</td>\n",
       "      <td>NaN</td>\n",
       "      <td>NaN</td>\n",
       "      <td>NaN</td>\n",
       "      <td>https://twitter.com/dog_rates/status/891327558...</td>\n",
       "      <td>...</td>\n",
       "      <td>True</td>\n",
       "      <td>English_springer</td>\n",
       "      <td>0.225770</td>\n",
       "      <td>True</td>\n",
       "      <td>German_short-haired_pointer</td>\n",
       "      <td>0.175219</td>\n",
       "      <td>True</td>\n",
       "      <td>9774.0</td>\n",
       "      <td>41048.0</td>\n",
       "      <td>NaN</td>\n",
       "    </tr>\n",
       "  </tbody>\n",
       "</table>\n",
       "<p>5 rows × 31 columns</p>\n",
       "</div>"
      ],
      "text/plain": [
       "             tweet_id  in_reply_to_status_id  in_reply_to_user_id  \\\n",
       "0  892420643555336193                    NaN                  NaN   \n",
       "1  892177421306343426                    NaN                  NaN   \n",
       "2  891815181378084864                    NaN                  NaN   \n",
       "3  891689557279858688                    NaN                  NaN   \n",
       "4  891327558926688256                    NaN                  NaN   \n",
       "\n",
       "                   timestamp  \\\n",
       "0  2017-08-01 16:23:56 +0000   \n",
       "1  2017-08-01 00:17:27 +0000   \n",
       "2  2017-07-31 00:18:03 +0000   \n",
       "3  2017-07-30 15:58:51 +0000   \n",
       "4  2017-07-29 16:00:24 +0000   \n",
       "\n",
       "                                              source  \\\n",
       "0  <a href=\"http://twitter.com/download/iphone\" r...   \n",
       "1  <a href=\"http://twitter.com/download/iphone\" r...   \n",
       "2  <a href=\"http://twitter.com/download/iphone\" r...   \n",
       "3  <a href=\"http://twitter.com/download/iphone\" r...   \n",
       "4  <a href=\"http://twitter.com/download/iphone\" r...   \n",
       "\n",
       "                                                text  retweeted_status_id  \\\n",
       "0  This is Phineas. He's a mystical boy. Only eve...                  NaN   \n",
       "1  This is Tilly. She's just checking pup on you....                  NaN   \n",
       "2  This is Archie. He is a rare Norwegian Pouncin...                  NaN   \n",
       "3  This is Darla. She commenced a snooze mid meal...                  NaN   \n",
       "4  This is Franklin. He would like you to stop ca...                  NaN   \n",
       "\n",
       "   retweeted_status_user_id retweeted_status_timestamp  \\\n",
       "0                       NaN                        NaN   \n",
       "1                       NaN                        NaN   \n",
       "2                       NaN                        NaN   \n",
       "3                       NaN                        NaN   \n",
       "4                       NaN                        NaN   \n",
       "\n",
       "                                       expanded_urls  ...  p1_dog  \\\n",
       "0  https://twitter.com/dog_rates/status/892420643...  ...   False   \n",
       "1  https://twitter.com/dog_rates/status/892177421...  ...    True   \n",
       "2  https://twitter.com/dog_rates/status/891815181...  ...    True   \n",
       "3  https://twitter.com/dog_rates/status/891689557...  ...   False   \n",
       "4  https://twitter.com/dog_rates/status/891327558...  ...    True   \n",
       "\n",
       "                   p2   p2_conf p2_dog                           p3   p3_conf  \\\n",
       "0               bagel  0.085851  False                       banana  0.076110   \n",
       "1            Pekinese  0.090647   True                     papillon  0.068957   \n",
       "2            malamute  0.078253   True                       kelpie  0.031379   \n",
       "3  Labrador_retriever  0.168086   True                      spatula  0.040836   \n",
       "4    English_springer  0.225770   True  German_short-haired_pointer  0.175219   \n",
       "\n",
       "  p3_dog retweet_count  favorite_count retweeted_status  \n",
       "0  False        8853.0         39467.0              NaN  \n",
       "1   True        6514.0         33819.0              NaN  \n",
       "2   True        4328.0         25461.0              NaN  \n",
       "3  False        8964.0         42908.0              NaN  \n",
       "4   True        9774.0         41048.0              NaN  \n",
       "\n",
       "[5 rows x 31 columns]"
      ]
     },
     "execution_count": 27,
     "metadata": {},
     "output_type": "execute_result"
    }
   ],
   "source": [
    "df.head()"
   ]
  },
  {
   "cell_type": "markdown",
   "id": "d14e5965",
   "metadata": {},
   "source": [
    "#### 2. Dropping the records of tweets that were not original tweets (Quality Issue #2)"
   ]
  },
  {
   "cell_type": "code",
   "execution_count": 28,
   "id": "36d3e4ee",
   "metadata": {
    "scrolled": true
   },
   "outputs": [
    {
     "name": "stdout",
     "output_type": "stream",
     "text": [
      "<class 'pandas.core.frame.DataFrame'>\n",
      "Int64Index: 2177 entries, 0 to 2355\n",
      "Data columns (total 31 columns):\n",
      " #   Column                      Non-Null Count  Dtype  \n",
      "---  ------                      --------------  -----  \n",
      " 0   tweet_id                    2177 non-null   int64  \n",
      " 1   in_reply_to_status_id       78 non-null     float64\n",
      " 2   in_reply_to_user_id         78 non-null     float64\n",
      " 3   timestamp                   2177 non-null   object \n",
      " 4   source                      2177 non-null   object \n",
      " 5   text                        2177 non-null   object \n",
      " 6   retweeted_status_id         2 non-null      float64\n",
      " 7   retweeted_status_user_id    2 non-null      float64\n",
      " 8   retweeted_status_timestamp  2 non-null      object \n",
      " 9   expanded_urls               2119 non-null   object \n",
      " 10  rating_numerator            2177 non-null   int64  \n",
      " 11  rating_denominator          2177 non-null   int64  \n",
      " 12  name                        2177 non-null   object \n",
      " 13  doggo                       2177 non-null   object \n",
      " 14  floofer                     2177 non-null   object \n",
      " 15  pupper                      2177 non-null   object \n",
      " 16  puppo                       2177 non-null   object \n",
      " 17  jpg_url                     1996 non-null   object \n",
      " 18  img_num                     1996 non-null   float64\n",
      " 19  p1                          1996 non-null   object \n",
      " 20  p1_conf                     1996 non-null   float64\n",
      " 21  p1_dog                      1996 non-null   object \n",
      " 22  p2                          1996 non-null   object \n",
      " 23  p2_conf                     1996 non-null   float64\n",
      " 24  p2_dog                      1996 non-null   object \n",
      " 25  p3                          1996 non-null   object \n",
      " 26  p3_conf                     1996 non-null   float64\n",
      " 27  p3_dog                      1996 non-null   object \n",
      " 28  retweet_count               2175 non-null   float64\n",
      " 29  favorite_count              2175 non-null   float64\n",
      " 30  retweeted_status            0 non-null      object \n",
      "dtypes: float64(10), int64(3), object(18)\n",
      "memory usage: 544.2+ KB\n"
     ]
    }
   ],
   "source": [
    "df = df[df['retweeted_status'].isna()]\n",
    "df.info()"
   ]
  },
  {
   "cell_type": "code",
   "execution_count": 29,
   "id": "080547a1",
   "metadata": {
    "scrolled": false
   },
   "outputs": [
    {
     "data": {
      "text/plain": [
       "array([nan], dtype=object)"
      ]
     },
     "execution_count": 29,
     "metadata": {},
     "output_type": "execute_result"
    }
   ],
   "source": [
    "df.retweeted_status.unique()"
   ]
  },
  {
   "cell_type": "code",
   "execution_count": 30,
   "id": "efbda9a8",
   "metadata": {},
   "outputs": [],
   "source": [
    "values = {'retweeted_status': 'Original Tweet'}\n",
    "df = df.fillna(value = values)"
   ]
  },
  {
   "cell_type": "markdown",
   "id": "18a7c0ff",
   "metadata": {},
   "source": [
    "#### 3. Creating a new column for final ratings (Quality Issue #3 and #4)\n",
    "Before creating a final rating column by dividing the `rating_numerator` values by the `rating_denominator` values, I first converted the data types of these two columns from integer to float."
   ]
  },
  {
   "cell_type": "code",
   "execution_count": 31,
   "id": "e857a584",
   "metadata": {},
   "outputs": [
    {
     "data": {
      "text/plain": [
       "rating_numerator      float64\n",
       "rating_denominator    float64\n",
       "dtype: object"
      ]
     },
     "execution_count": 31,
     "metadata": {},
     "output_type": "execute_result"
    }
   ],
   "source": [
    "df[['rating_numerator', 'rating_denominator']] = df[['rating_numerator', 'rating_denominator']].astype(float)\n",
    "df[['rating_numerator', 'rating_denominator']].dtypes"
   ]
  },
  {
   "cell_type": "code",
   "execution_count": 32,
   "id": "58faa682",
   "metadata": {},
   "outputs": [],
   "source": [
    "df['rating'] = df['rating_numerator'] / df['rating_denominator']"
   ]
  },
  {
   "cell_type": "code",
   "execution_count": 33,
   "id": "8e313d88",
   "metadata": {},
   "outputs": [
    {
     "data": {
      "text/plain": [
       "count    2177.0\n",
       "mean        inf\n",
       "std         NaN\n",
       "min         0.0\n",
       "25%         1.0\n",
       "50%         1.1\n",
       "75%         1.2\n",
       "max         inf\n",
       "Name: rating, dtype: float64"
      ]
     },
     "execution_count": 33,
     "metadata": {},
     "output_type": "execute_result"
    }
   ],
   "source": [
    "df['rating'].describe()"
   ]
  },
  {
   "cell_type": "code",
   "execution_count": 34,
   "id": "34a40946",
   "metadata": {},
   "outputs": [
    {
     "data": {
      "text/plain": [
       "1.200000      505\n",
       "1.000000      444\n",
       "1.100000      431\n",
       "1.300000      308\n",
       "0.900000      156\n",
       "0.800000       98\n",
       "0.700000       53\n",
       "1.400000       43\n",
       "0.500000       37\n",
       "0.600000       32\n",
       "0.300000       19\n",
       "0.400000       15\n",
       "0.200000       11\n",
       "0.100000        7\n",
       "42.000000       2\n",
       "0.000000        2\n",
       "1.250000        1\n",
       "0.636364        1\n",
       "0.818182        1\n",
       "177.600000      1\n",
       "2.700000        1\n",
       "66.600000       1\n",
       "7.500000        1\n",
       "3.428571        1\n",
       "1.700000        1\n",
       "0.733333        1\n",
       "inf             1\n",
       "1.500000        1\n",
       "18.200000       1\n",
       "2.600000        1\n",
       "Name: rating, dtype: int64"
      ]
     },
     "execution_count": 34,
     "metadata": {},
     "output_type": "execute_result"
    }
   ],
   "source": [
    "df['rating'].value_counts()"
   ]
  },
  {
   "cell_type": "markdown",
   "id": "1a7f0aa5",
   "metadata": {},
   "source": [
    "#### 4. Creating a new column for dog stages (Tidiness Issue #2)\n",
    "To add the proper dog stages column, I needed to also deal with the records in which there were more than one dog stage value."
   ]
  },
  {
   "cell_type": "code",
   "execution_count": 35,
   "id": "1ae8bcbc",
   "metadata": {
    "scrolled": true
   },
   "outputs": [
    {
     "data": {
      "text/plain": [
       "doggo       87\n",
       "puppo       25\n",
       "pupper     235\n",
       "floofer     10\n",
       "dtype: int64"
      ]
     },
     "execution_count": 35,
     "metadata": {},
     "output_type": "execute_result"
    }
   ],
   "source": [
    "# checking the initial counts of each dog stage\n",
    "\n",
    "df[df[['doggo', 'puppo', 'pupper', 'floofer']]!='None'][['doggo', 'puppo', 'pupper', 'floofer']].count()"
   ]
  },
  {
   "cell_type": "code",
   "execution_count": 36,
   "id": "5a4d92d5",
   "metadata": {
    "scrolled": false
   },
   "outputs": [
    {
     "data": {
      "text/plain": [
       "                1832\n",
       "pupper           225\n",
       "doggo             75\n",
       "puppo             24\n",
       "doggopupper       10\n",
       "floofer            9\n",
       "doggopuppo         1\n",
       "doggofloofer       1\n",
       "dtype: int64"
      ]
     },
     "execution_count": 36,
     "metadata": {},
     "output_type": "execute_result"
    }
   ],
   "source": [
    "stage_check = df['doggo'].replace('None', '') + df['floofer'].replace('None', '') + df['pupper'].replace('None', '') + df['puppo'].replace('None', '')\n",
    "stage_check.value_counts()"
   ]
  },
  {
   "cell_type": "code",
   "execution_count": 37,
   "id": "33c853ee",
   "metadata": {},
   "outputs": [
    {
     "data": {
      "text/plain": [
       "array([nan, 'doggo', 'puppo', 'pupper', 'floofer'], dtype=object)"
      ]
     },
     "execution_count": 37,
     "metadata": {},
     "output_type": "execute_result"
    }
   ],
   "source": [
    "# creating new column named 'stage'\n",
    "stage = df['doggo'].replace('None', '') + df['floofer'].replace('None', '') + df['pupper'].replace('None', '') + df['puppo'].replace('None', '')\n",
    "df['stage'] = stage.str.extract('(doggo|floofer|pupper|puppo)')\n",
    "df['stage'].unique()"
   ]
  },
  {
   "cell_type": "code",
   "execution_count": 38,
   "id": "b9d49144",
   "metadata": {},
   "outputs": [
    {
     "data": {
      "text/plain": [
       "pupper     225\n",
       "doggo       87\n",
       "puppo       24\n",
       "floofer      9\n",
       "Name: stage, dtype: int64"
      ]
     },
     "execution_count": 38,
     "metadata": {},
     "output_type": "execute_result"
    }
   ],
   "source": [
    "# checking the counts of each dog stage on the new column, before cleaning\n",
    "\n",
    "df['stage'].value_counts()"
   ]
  },
  {
   "cell_type": "markdown",
   "id": "4795497c",
   "metadata": {},
   "source": [
    "In order to define the proper values for records with more than one dog stage, I went through the full tweets to understand why they were recorded as having different stages, then manually input the right value for each tweet. Thank God there were only 12 cases of this issue!"
   ]
  },
  {
   "cell_type": "code",
   "execution_count": 39,
   "id": "6a221266",
   "metadata": {
    "scrolled": true
   },
   "outputs": [
    {
     "data": {
      "text/html": [
       "<div>\n",
       "<style scoped>\n",
       "    .dataframe tbody tr th:only-of-type {\n",
       "        vertical-align: middle;\n",
       "    }\n",
       "\n",
       "    .dataframe tbody tr th {\n",
       "        vertical-align: top;\n",
       "    }\n",
       "\n",
       "    .dataframe thead th {\n",
       "        text-align: right;\n",
       "    }\n",
       "</style>\n",
       "<table border=\"1\" class=\"dataframe\">\n",
       "  <thead>\n",
       "    <tr style=\"text-align: right;\">\n",
       "      <th></th>\n",
       "      <th>tweet_id</th>\n",
       "      <th>text</th>\n",
       "    </tr>\n",
       "  </thead>\n",
       "  <tbody>\n",
       "    <tr>\n",
       "      <th>460</th>\n",
       "      <td>817777686764523521</td>\n",
       "      <td>This is Dido. She's playing the lead role in \"Pupper Stops to Catch Snow Before Resuming Shadow Box with Dried Apple.\" 13/10 (IG: didodoggo) https://t.co/m7isZrOBX7</td>\n",
       "    </tr>\n",
       "    <tr>\n",
       "      <th>531</th>\n",
       "      <td>808106460588765185</td>\n",
       "      <td>Here we have Burke (pupper) and Dexter (doggo). Pupper wants to be exactly like doggo. Both 12/10 would pet at same time https://t.co/ANBpEYHaho</td>\n",
       "    </tr>\n",
       "    <tr>\n",
       "      <th>565</th>\n",
       "      <td>802265048156610565</td>\n",
       "      <td>Like doggo, like pupper version 2. Both 11/10 https://t.co/9IxWAXFqze</td>\n",
       "    </tr>\n",
       "    <tr>\n",
       "      <th>575</th>\n",
       "      <td>801115127852503040</td>\n",
       "      <td>This is Bones. He's being haunted by another doggo of roughly the same size. 12/10 deep breaths pupper everything's fine https://t.co/55Dqe0SJNj</td>\n",
       "    </tr>\n",
       "    <tr>\n",
       "      <th>705</th>\n",
       "      <td>785639753186217984</td>\n",
       "      <td>This is Pinot. He's a sophisticated doggo. You can tell by the hat. Also pointier than your average pupper. Still 10/10 would pet cautiously https://t.co/f2wmLZTPHd</td>\n",
       "    </tr>\n",
       "    <tr>\n",
       "      <th>733</th>\n",
       "      <td>781308096455073793</td>\n",
       "      <td>Pupper butt 1, Doggo 0. Both 12/10 https://t.co/WQvcPEpH2u</td>\n",
       "    </tr>\n",
       "    <tr>\n",
       "      <th>889</th>\n",
       "      <td>759793422261743616</td>\n",
       "      <td>Meet Maggie &amp;amp; Lila. Maggie is the doggo, Lila is the pupper. They are sisters. Both 12/10 would pet at the same time https://t.co/MYwR4DQKll</td>\n",
       "    </tr>\n",
       "    <tr>\n",
       "      <th>956</th>\n",
       "      <td>751583847268179968</td>\n",
       "      <td>Please stop sending it pictures that don't even have a doggo or pupper in them. Churlish af. 5/10 neat couch tho https://t.co/u2c9c7qSg8</td>\n",
       "    </tr>\n",
       "    <tr>\n",
       "      <th>1063</th>\n",
       "      <td>741067306818797568</td>\n",
       "      <td>This is just downright precious af. 12/10 for both pupper and doggo https://t.co/o5J479bZUC</td>\n",
       "    </tr>\n",
       "    <tr>\n",
       "      <th>1113</th>\n",
       "      <td>733109485275860992</td>\n",
       "      <td>Like father (doggo), like son (pupper). Both 12/10 https://t.co/pG2inLaOda</td>\n",
       "    </tr>\n",
       "  </tbody>\n",
       "</table>\n",
       "</div>"
      ],
      "text/plain": [
       "                tweet_id  \\\n",
       "460   817777686764523521   \n",
       "531   808106460588765185   \n",
       "565   802265048156610565   \n",
       "575   801115127852503040   \n",
       "705   785639753186217984   \n",
       "733   781308096455073793   \n",
       "889   759793422261743616   \n",
       "956   751583847268179968   \n",
       "1063  741067306818797568   \n",
       "1113  733109485275860992   \n",
       "\n",
       "                                                                                                                                                                      text  \n",
       "460   This is Dido. She's playing the lead role in \"Pupper Stops to Catch Snow Before Resuming Shadow Box with Dried Apple.\" 13/10 (IG: didodoggo) https://t.co/m7isZrOBX7  \n",
       "531   Here we have Burke (pupper) and Dexter (doggo). Pupper wants to be exactly like doggo. Both 12/10 would pet at same time https://t.co/ANBpEYHaho                      \n",
       "565   Like doggo, like pupper version 2. Both 11/10 https://t.co/9IxWAXFqze                                                                                                 \n",
       "575   This is Bones. He's being haunted by another doggo of roughly the same size. 12/10 deep breaths pupper everything's fine https://t.co/55Dqe0SJNj                      \n",
       "705   This is Pinot. He's a sophisticated doggo. You can tell by the hat. Also pointier than your average pupper. Still 10/10 would pet cautiously https://t.co/f2wmLZTPHd  \n",
       "733   Pupper butt 1, Doggo 0. Both 12/10 https://t.co/WQvcPEpH2u                                                                                                            \n",
       "889   Meet Maggie &amp; Lila. Maggie is the doggo, Lila is the pupper. They are sisters. Both 12/10 would pet at the same time https://t.co/MYwR4DQKll                      \n",
       "956   Please stop sending it pictures that don't even have a doggo or pupper in them. Churlish af. 5/10 neat couch tho https://t.co/u2c9c7qSg8                              \n",
       "1063  This is just downright precious af. 12/10 for both pupper and doggo https://t.co/o5J479bZUC                                                                           \n",
       "1113  Like father (doggo), like son (pupper). Both 12/10 https://t.co/pG2inLaOda                                                                                            "
      ]
     },
     "execution_count": 39,
     "metadata": {},
     "output_type": "execute_result"
    }
   ],
   "source": [
    "# checking records with \"doggo\" and \"pupper\" stages\n",
    "\n",
    "pd.set_option('display.max_colwidth', 0)\n",
    "doggopupper = df[(df['doggo']=='doggo') & (df['pupper']=='pupper')][['tweet_id', 'text']]\n",
    "doggopupper"
   ]
  },
  {
   "cell_type": "markdown",
   "id": "d05e6231",
   "metadata": {},
   "source": [
    "Turned out that I had several tweets that featured more than a single dog, hence the different dog stages. Out of consideration for practicality, I would not be separating these tweets into one tweet per dog. Instead, I would simply take the first stage being mentioned and ignore the rest. This was not ideal, but since there were only a few cases, I decided to go by this rule. "
   ]
  },
  {
   "cell_type": "code",
   "execution_count": 40,
   "id": "47868ba2",
   "metadata": {},
   "outputs": [],
   "source": [
    "df.loc[df['tweet_id'] == 817777686764523521, 'stage'] = 'pupper' #460\n",
    "df.loc[df['tweet_id'] == 808106460588765185, 'stage'] = 'pupper' #531\n",
    "df.loc[df['tweet_id'] == 802265048156610565, 'stage'] = 'doggo' #565\n",
    "df.loc[df['tweet_id'] == 801115127852503040, 'stage'] = 'doggo' #575\n",
    "df.loc[df['tweet_id'] == 785639753186217984, 'stage'] = 'doggo' #705\n",
    "df.loc[df['tweet_id'] == 781308096455073793, 'stage'] = 'pupper' #733\n",
    "df.loc[df['tweet_id'] == 759793422261743616, 'stage'] = 'doggo' #889\n",
    "df.loc[df['tweet_id'] == 751583847268179968, 'stage'] = np.nan #956\n",
    "df.loc[df['tweet_id'] == 741067306818797568, 'stage'] = 'pupper' #1063\n",
    "df.loc[df['tweet_id'] == 733109485275860992, 'stage'] = 'doggo' #1113"
   ]
  },
  {
   "cell_type": "code",
   "execution_count": 41,
   "id": "03dd4448",
   "metadata": {
    "scrolled": true
   },
   "outputs": [
    {
     "data": {
      "text/html": [
       "<div>\n",
       "<style scoped>\n",
       "    .dataframe tbody tr th:only-of-type {\n",
       "        vertical-align: middle;\n",
       "    }\n",
       "\n",
       "    .dataframe tbody tr th {\n",
       "        vertical-align: top;\n",
       "    }\n",
       "\n",
       "    .dataframe thead th {\n",
       "        text-align: right;\n",
       "    }\n",
       "</style>\n",
       "<table border=\"1\" class=\"dataframe\">\n",
       "  <thead>\n",
       "    <tr style=\"text-align: right;\">\n",
       "      <th></th>\n",
       "      <th>tweet_id</th>\n",
       "      <th>text</th>\n",
       "    </tr>\n",
       "  </thead>\n",
       "  <tbody>\n",
       "    <tr>\n",
       "      <th>191</th>\n",
       "      <td>855851453814013952</td>\n",
       "      <td>Here's a puppo participating in the #ScienceMarch. Cleverly disguising her own doggo agenda. 13/10 would keep the planet habitable for https://t.co/cMhq16isel</td>\n",
       "    </tr>\n",
       "  </tbody>\n",
       "</table>\n",
       "</div>"
      ],
      "text/plain": [
       "               tweet_id  \\\n",
       "191  855851453814013952   \n",
       "\n",
       "                                                                                                                                                               text  \n",
       "191  Here's a puppo participating in the #ScienceMarch. Cleverly disguising her own doggo agenda. 13/10 would keep the planet habitable for https://t.co/cMhq16isel  "
      ]
     },
     "execution_count": 41,
     "metadata": {},
     "output_type": "execute_result"
    }
   ],
   "source": [
    "# checking records with \"doggo\" and \"puppo\" stages\n",
    "\n",
    "doggopuppo = df[(df['doggo']=='doggo') & (df['puppo']=='puppo')][['tweet_id', 'text']]\n",
    "doggopuppo"
   ]
  },
  {
   "cell_type": "code",
   "execution_count": 42,
   "id": "14ac492f",
   "metadata": {
    "scrolled": true
   },
   "outputs": [],
   "source": [
    "df.loc[df['tweet_id'] == 855851453814013952, 'stage'] = 'puppo'"
   ]
  },
  {
   "cell_type": "code",
   "execution_count": 43,
   "id": "c1585944",
   "metadata": {},
   "outputs": [
    {
     "data": {
      "text/html": [
       "<div>\n",
       "<style scoped>\n",
       "    .dataframe tbody tr th:only-of-type {\n",
       "        vertical-align: middle;\n",
       "    }\n",
       "\n",
       "    .dataframe tbody tr th {\n",
       "        vertical-align: top;\n",
       "    }\n",
       "\n",
       "    .dataframe thead th {\n",
       "        text-align: right;\n",
       "    }\n",
       "</style>\n",
       "<table border=\"1\" class=\"dataframe\">\n",
       "  <thead>\n",
       "    <tr style=\"text-align: right;\">\n",
       "      <th></th>\n",
       "      <th>tweet_id</th>\n",
       "      <th>text</th>\n",
       "    </tr>\n",
       "  </thead>\n",
       "  <tbody>\n",
       "    <tr>\n",
       "      <th>200</th>\n",
       "      <td>854010172552949760</td>\n",
       "      <td>At first I thought this was a shy doggo, but it's actually a Rare Canadian Floofer Owl. Amateurs would confuse the two. 11/10 only send dogs https://t.co/TXdT3tmuYk</td>\n",
       "    </tr>\n",
       "  </tbody>\n",
       "</table>\n",
       "</div>"
      ],
      "text/plain": [
       "               tweet_id  \\\n",
       "200  854010172552949760   \n",
       "\n",
       "                                                                                                                                                                     text  \n",
       "200  At first I thought this was a shy doggo, but it's actually a Rare Canadian Floofer Owl. Amateurs would confuse the two. 11/10 only send dogs https://t.co/TXdT3tmuYk  "
      ]
     },
     "execution_count": 43,
     "metadata": {},
     "output_type": "execute_result"
    }
   ],
   "source": [
    "# checking records with \"doggo\" and \"puppo\" stages\n",
    "\n",
    "doggofloofer = df[(df['doggo']=='doggo') & (df['floofer']=='floofer')][['tweet_id', 'text']]\n",
    "doggofloofer"
   ]
  },
  {
   "cell_type": "code",
   "execution_count": 44,
   "id": "229747fa",
   "metadata": {},
   "outputs": [],
   "source": [
    "df.loc[df['tweet_id'] == 854010172552949760, 'stage'] = 'floofer'"
   ]
  },
  {
   "cell_type": "code",
   "execution_count": 45,
   "id": "14ed6209",
   "metadata": {},
   "outputs": [
    {
     "data": {
      "text/plain": [
       "pupper     229\n",
       "doggo      80 \n",
       "puppo      25 \n",
       "floofer    10 \n",
       "Name: stage, dtype: int64"
      ]
     },
     "execution_count": 45,
     "metadata": {},
     "output_type": "execute_result"
    }
   ],
   "source": [
    "# checking the counts of each dog stage on the new column, after cleaning\n",
    "\n",
    "df['stage'].value_counts()"
   ]
  },
  {
   "cell_type": "markdown",
   "id": "f68f6570",
   "metadata": {},
   "source": [
    "#### 5. Creating a new column for dog breeds (Tidiness Issue #6)\n",
    "As there were three prediction results for each record, I applied the following conditions to define the dog breed for the new column:\n",
    "- When there was only one true prediction result, that result would be taken as the dog breed\n",
    "- When there were more than one true prediction result, result with the highest confidence would be taken as the dog breed"
   ]
  },
  {
   "cell_type": "code",
   "execution_count": 46,
   "id": "4f9abbdb",
   "metadata": {
    "scrolled": true
   },
   "outputs": [
    {
     "data": {
      "text/plain": [
       "golden_retriever      158\n",
       "Labrador_retriever    108\n",
       "Pembroke              96 \n",
       "Chihuahua             91 \n",
       "pug                   62 \n",
       "                      .. \n",
       "Scotch_terrier        1  \n",
       "EntleBucher           1  \n",
       "Japanese_spaniel      1  \n",
       "standard_schnauzer    1  \n",
       "Irish_wolfhound       1  \n",
       "Name: breed, Length: 113, dtype: int64"
      ]
     },
     "execution_count": 46,
     "metadata": {},
     "output_type": "execute_result"
    }
   ],
   "source": [
    "def breed(df):\n",
    "    \n",
    "    # rule point 1\n",
    "    if (df['p1_dog'] == True) and (df['p2_dog'] == False) and (df['p3_dog'] == False):\n",
    "        return df['p1']\n",
    "    elif (df['p1_dog'] == False) and (df['p2_dog'] == True) and (df['p3_dog'] == False):\n",
    "        return df['p2']\n",
    "    elif (df['p1_dog'] == False) and (df['p2_dog'] == False) and (df['p3_dog'] == True):\n",
    "        return df['p3']\n",
    "    \n",
    "    # rule point 2\n",
    "    # p1 vs. p2\n",
    "    elif (df['p1_dog'] == True) and (df['p2_dog'] == True) and (df['p3_dog'] == False) and (df['p1_conf'] > df['p2_conf']):\n",
    "        return df['p1']\n",
    "    elif (df['p1_dog'] == True) and (df['p2_dog'] == True) and (df['p3_dog'] == False) and (df['p1_conf'] < df['p2_conf']):\n",
    "        return df['p2']\n",
    "    # p1 vs. p3\n",
    "    elif (df['p1_dog'] == True) and (df['p2_dog'] == False) and (df['p3_dog'] == True) and (df['p1_conf'] > df['p3_conf']):\n",
    "        return df['p1']\n",
    "    elif (df['p1_dog'] == True) and (df['p2_dog'] == False) and (df['p3_dog'] == True) and (df['p1_conf'] < df['p3_conf']):\n",
    "        return df['p3']\n",
    "    # p2 vs. p3\n",
    "    elif (df['p1_dog'] == False) and (df['p2_dog'] == True) and (df['p3_dog'] == True) and (df['p2_conf'] < df['p3_conf']):\n",
    "        return df['p3']\n",
    "    elif (df['p1_dog'] == False) and (df['p2_dog'] == True) and (df['p3_dog'] == True) and (df['p2_conf'] > df['p3_conf']):\n",
    "        return df['p2']\n",
    "    # p1 vs. p2 vs. p3\n",
    "    elif (df['p1_dog'] == True) and (df['p2_dog'] == True) and (df['p3_dog'] == True) and (df['p1_conf'] > df['p2_conf']) and (df['p1_conf'] > df['p3_conf']):\n",
    "        return df['p1']\n",
    "    elif (df['p1_dog'] == True) and (df['p2_dog'] == True) and (df['p3_dog'] == True) and (df['p2_conf'] > df['p1_conf']) and (df['p2_conf'] > df['p3_conf']):\n",
    "        return df['p2']\n",
    "    elif (df['p1_dog'] == True) and (df['p2_dog'] == True) and (df['p3_dog'] == True) and (df['p3_conf'] > df['p2_conf']) and (df['p3_conf'] > df['p1_conf']):\n",
    "        return df['p3']\n",
    "    \n",
    "\n",
    "df['breed'] = df.apply(breed, axis = 1)\n",
    "df['breed'].value_counts()"
   ]
  },
  {
   "cell_type": "code",
   "execution_count": 47,
   "id": "03b1f38d",
   "metadata": {
    "scrolled": true
   },
   "outputs": [
    {
     "data": {
      "text/html": [
       "<div>\n",
       "<style scoped>\n",
       "    .dataframe tbody tr th:only-of-type {\n",
       "        vertical-align: middle;\n",
       "    }\n",
       "\n",
       "    .dataframe tbody tr th {\n",
       "        vertical-align: top;\n",
       "    }\n",
       "\n",
       "    .dataframe thead th {\n",
       "        text-align: right;\n",
       "    }\n",
       "</style>\n",
       "<table border=\"1\" class=\"dataframe\">\n",
       "  <thead>\n",
       "    <tr style=\"text-align: right;\">\n",
       "      <th></th>\n",
       "      <th>p1_dog</th>\n",
       "      <th>p2_dog</th>\n",
       "      <th>p3_dog</th>\n",
       "    </tr>\n",
       "  </thead>\n",
       "  <tbody>\n",
       "    <tr>\n",
       "      <th>0</th>\n",
       "      <td>False</td>\n",
       "      <td>False</td>\n",
       "      <td>False</td>\n",
       "    </tr>\n",
       "    <tr>\n",
       "      <th>22</th>\n",
       "      <td>False</td>\n",
       "      <td>False</td>\n",
       "      <td>False</td>\n",
       "    </tr>\n",
       "    <tr>\n",
       "      <th>28</th>\n",
       "      <td>False</td>\n",
       "      <td>False</td>\n",
       "      <td>False</td>\n",
       "    </tr>\n",
       "    <tr>\n",
       "      <th>30</th>\n",
       "      <td>NaN</td>\n",
       "      <td>NaN</td>\n",
       "      <td>NaN</td>\n",
       "    </tr>\n",
       "    <tr>\n",
       "      <th>35</th>\n",
       "      <td>NaN</td>\n",
       "      <td>NaN</td>\n",
       "      <td>NaN</td>\n",
       "    </tr>\n",
       "    <tr>\n",
       "      <th>...</th>\n",
       "      <td>...</td>\n",
       "      <td>...</td>\n",
       "      <td>...</td>\n",
       "    </tr>\n",
       "    <tr>\n",
       "      <th>2330</th>\n",
       "      <td>False</td>\n",
       "      <td>False</td>\n",
       "      <td>False</td>\n",
       "    </tr>\n",
       "    <tr>\n",
       "      <th>2334</th>\n",
       "      <td>False</td>\n",
       "      <td>False</td>\n",
       "      <td>False</td>\n",
       "    </tr>\n",
       "    <tr>\n",
       "      <th>2337</th>\n",
       "      <td>False</td>\n",
       "      <td>False</td>\n",
       "      <td>False</td>\n",
       "    </tr>\n",
       "    <tr>\n",
       "      <th>2338</th>\n",
       "      <td>False</td>\n",
       "      <td>False</td>\n",
       "      <td>False</td>\n",
       "    </tr>\n",
       "    <tr>\n",
       "      <th>2349</th>\n",
       "      <td>False</td>\n",
       "      <td>False</td>\n",
       "      <td>False</td>\n",
       "    </tr>\n",
       "  </tbody>\n",
       "</table>\n",
       "<p>490 rows × 3 columns</p>\n",
       "</div>"
      ],
      "text/plain": [
       "     p1_dog p2_dog p3_dog\n",
       "0     False  False  False\n",
       "22    False  False  False\n",
       "28    False  False  False\n",
       "30    NaN    NaN    NaN  \n",
       "35    NaN    NaN    NaN  \n",
       "...   ...    ...    ...  \n",
       "2330  False  False  False\n",
       "2334  False  False  False\n",
       "2337  False  False  False\n",
       "2338  False  False  False\n",
       "2349  False  False  False\n",
       "\n",
       "[490 rows x 3 columns]"
      ]
     },
     "execution_count": 47,
     "metadata": {},
     "output_type": "execute_result"
    }
   ],
   "source": [
    "# checking on records where the breed column is NaN\n",
    "\n",
    "df[['p1_dog', 'p2_dog', 'p3_dog']][df['breed'].isna()]"
   ]
  },
  {
   "cell_type": "code",
   "execution_count": 48,
   "id": "d2abe2d4",
   "metadata": {},
   "outputs": [
    {
     "name": "stdout",
     "output_type": "stream",
     "text": [
      "<class 'pandas.core.frame.DataFrame'>\n",
      "Int64Index: 2177 entries, 0 to 2355\n",
      "Data columns (total 34 columns):\n",
      " #   Column                      Non-Null Count  Dtype  \n",
      "---  ------                      --------------  -----  \n",
      " 0   tweet_id                    2177 non-null   int64  \n",
      " 1   in_reply_to_status_id       78 non-null     float64\n",
      " 2   in_reply_to_user_id         78 non-null     float64\n",
      " 3   timestamp                   2177 non-null   object \n",
      " 4   source                      2177 non-null   object \n",
      " 5   text                        2177 non-null   object \n",
      " 6   retweeted_status_id         2 non-null      float64\n",
      " 7   retweeted_status_user_id    2 non-null      float64\n",
      " 8   retweeted_status_timestamp  2 non-null      object \n",
      " 9   expanded_urls               2119 non-null   object \n",
      " 10  rating_numerator            2177 non-null   float64\n",
      " 11  rating_denominator          2177 non-null   float64\n",
      " 12  name                        2177 non-null   object \n",
      " 13  doggo                       2177 non-null   object \n",
      " 14  floofer                     2177 non-null   object \n",
      " 15  pupper                      2177 non-null   object \n",
      " 16  puppo                       2177 non-null   object \n",
      " 17  jpg_url                     1996 non-null   object \n",
      " 18  img_num                     1996 non-null   float64\n",
      " 19  p1                          1996 non-null   object \n",
      " 20  p1_conf                     1996 non-null   float64\n",
      " 21  p1_dog                      1996 non-null   object \n",
      " 22  p2                          1996 non-null   object \n",
      " 23  p2_conf                     1996 non-null   float64\n",
      " 24  p2_dog                      1996 non-null   object \n",
      " 25  p3                          1996 non-null   object \n",
      " 26  p3_conf                     1996 non-null   float64\n",
      " 27  p3_dog                      1996 non-null   object \n",
      " 28  retweet_count               2175 non-null   float64\n",
      " 29  favorite_count              2175 non-null   float64\n",
      " 30  retweeted_status            2177 non-null   object \n",
      " 31  rating                      2177 non-null   float64\n",
      " 32  stage                       344 non-null    object \n",
      " 33  breed                       1687 non-null   object \n",
      "dtypes: float64(13), int64(1), object(20)\n",
      "memory usage: 595.3+ KB\n"
     ]
    }
   ],
   "source": [
    "df.info()"
   ]
  },
  {
   "cell_type": "markdown",
   "id": "34b20f94",
   "metadata": {},
   "source": [
    "#### 6. Dropping unnecessary columns (Tidiness Issue #2, #4, #5, #6)\n",
    "Columns to be dropped: \n",
    "- `retweeted_status_id`\n",
    "- `retweeted_status_user_id`\n",
    "- `retweeted_status_timestamp`\n",
    "- `in_reply_to_status_id`\n",
    "- `in_reply_to_user_id`\n",
    "- `rating_numerator`\n",
    "- `rating_denominator`\n",
    "- `doggo`\n",
    "- `floofer`\n",
    "- `pupper`\n",
    "- `puppo`\n",
    "- `p1`\n",
    "- `p1_conf`\n",
    "- `p1_dog`\n",
    "- `p2`\n",
    "- `p2_conf`\n",
    "- `p2_dog`\n",
    "- `p3`\n",
    "- `p3_conf`\n",
    "- `p3_dog`"
   ]
  },
  {
   "cell_type": "code",
   "execution_count": 49,
   "id": "6f33fbc8",
   "metadata": {},
   "outputs": [],
   "source": [
    "columns = ['retweeted_status_id', 'retweeted_status_user_id', 'retweeted_status_timestamp',\n",
    "          'in_reply_to_status_id', 'in_reply_to_user_id',\n",
    "          'rating_numerator', 'rating_denominator',\n",
    "          'doggo', 'floofer', 'pupper', 'puppo',\n",
    "          'p1', 'p1_conf', 'p1_dog', \n",
    "          'p2', 'p2_conf', 'p2_dog',\n",
    "          'p3', 'p3_conf', 'p3_dog']\n",
    "\n",
    "for col in columns:\n",
    "    df = df.drop(columns = col)"
   ]
  },
  {
   "cell_type": "code",
   "execution_count": 50,
   "id": "bcb8fe14",
   "metadata": {},
   "outputs": [
    {
     "name": "stdout",
     "output_type": "stream",
     "text": [
      "<class 'pandas.core.frame.DataFrame'>\n",
      "Int64Index: 2177 entries, 0 to 2355\n",
      "Data columns (total 14 columns):\n",
      " #   Column            Non-Null Count  Dtype  \n",
      "---  ------            --------------  -----  \n",
      " 0   tweet_id          2177 non-null   int64  \n",
      " 1   timestamp         2177 non-null   object \n",
      " 2   source            2177 non-null   object \n",
      " 3   text              2177 non-null   object \n",
      " 4   expanded_urls     2119 non-null   object \n",
      " 5   name              2177 non-null   object \n",
      " 6   jpg_url           1996 non-null   object \n",
      " 7   img_num           1996 non-null   float64\n",
      " 8   retweet_count     2175 non-null   float64\n",
      " 9   favorite_count    2175 non-null   float64\n",
      " 10  retweeted_status  2177 non-null   object \n",
      " 11  rating            2177 non-null   float64\n",
      " 12  stage             344 non-null    object \n",
      " 13  breed             1687 non-null   object \n",
      "dtypes: float64(4), int64(1), object(9)\n",
      "memory usage: 255.1+ KB\n"
     ]
    }
   ],
   "source": [
    "df.info()"
   ]
  },
  {
   "cell_type": "markdown",
   "id": "6c2c15c7",
   "metadata": {},
   "source": [
    "#### 7. Converting columns with incorrect data types (Quality Issue #1)\n",
    "Columns to be converted: \n",
    "- `tweet_id` (integer to string)\n",
    "- `timestamp` (object to datetime)\n",
    "- `retweet_count` (float to integer)\n",
    "- `favorite_count` (float to integer)\n",
    "\n",
    "However, to be able to convert `retweet_count` and `favorite_count` columns into integer, I needed to fill both columns' null values first. "
   ]
  },
  {
   "cell_type": "code",
   "execution_count": 51,
   "id": "9f1b11a7",
   "metadata": {},
   "outputs": [],
   "source": [
    "df[['retweet_count', 'favorite_count']] = df[['retweet_count', 'favorite_count']].fillna(0)"
   ]
  },
  {
   "cell_type": "code",
   "execution_count": 52,
   "id": "d930dc03",
   "metadata": {},
   "outputs": [],
   "source": [
    "# converting tweet_id to string and retweet_count & favorite_count into integer\n",
    "\n",
    "to_convert = {'tweet_id': str, \n",
    "              'retweet_count': int,\n",
    "              'favorite_count': int}\n",
    "\n",
    "df = df.astype(to_convert)"
   ]
  },
  {
   "cell_type": "code",
   "execution_count": 53,
   "id": "9c88435d",
   "metadata": {},
   "outputs": [],
   "source": [
    "# converting timestamp to datetime\n",
    "\n",
    "df['timestamp'] = pd.to_datetime(df['timestamp'])"
   ]
  },
  {
   "cell_type": "code",
   "execution_count": 54,
   "id": "423be2d9",
   "metadata": {},
   "outputs": [
    {
     "name": "stdout",
     "output_type": "stream",
     "text": [
      "<class 'pandas.core.frame.DataFrame'>\n",
      "Int64Index: 2177 entries, 0 to 2355\n",
      "Data columns (total 14 columns):\n",
      " #   Column            Non-Null Count  Dtype              \n",
      "---  ------            --------------  -----              \n",
      " 0   tweet_id          2177 non-null   object             \n",
      " 1   timestamp         2177 non-null   datetime64[ns, UTC]\n",
      " 2   source            2177 non-null   object             \n",
      " 3   text              2177 non-null   object             \n",
      " 4   expanded_urls     2119 non-null   object             \n",
      " 5   name              2177 non-null   object             \n",
      " 6   jpg_url           1996 non-null   object             \n",
      " 7   img_num           1996 non-null   float64            \n",
      " 8   retweet_count     2177 non-null   int64              \n",
      " 9   favorite_count    2177 non-null   int64              \n",
      " 10  retweeted_status  2177 non-null   object             \n",
      " 11  rating            2177 non-null   float64            \n",
      " 12  stage             344 non-null    object             \n",
      " 13  breed             1687 non-null   object             \n",
      "dtypes: datetime64[ns, UTC](1), float64(2), int64(2), object(9)\n",
      "memory usage: 255.1+ KB\n"
     ]
    }
   ],
   "source": [
    "df.info()"
   ]
  },
  {
   "cell_type": "markdown",
   "id": "54fb3f38",
   "metadata": {},
   "source": [
    "#### 8. Fixing columns with inconsistent formatting (Quality Issue #2)\n",
    "Here I would be converting the values of `breed` column into all-lowercase and replace the underscores (\"_\") with spaces."
   ]
  },
  {
   "cell_type": "code",
   "execution_count": 55,
   "id": "ae7eeb35",
   "metadata": {},
   "outputs": [],
   "source": [
    "# converting values to lowercase\n",
    "\n",
    "df['breed'] = df.breed.str.lower()"
   ]
  },
  {
   "cell_type": "code",
   "execution_count": 56,
   "id": "7f02adc7",
   "metadata": {},
   "outputs": [],
   "source": [
    "# replacing underscores with spaces \n",
    "\n",
    "df['breed'] = df.breed.replace('_', ' ', regex = True)"
   ]
  },
  {
   "cell_type": "code",
   "execution_count": 57,
   "id": "461c278c",
   "metadata": {
    "scrolled": true
   },
   "outputs": [
    {
     "data": {
      "text/plain": [
       "1892    None                \n",
       "1684    None                \n",
       "2006    irish terrier       \n",
       "1153    boxer               \n",
       "336     eskimo dog          \n",
       "184     old english sheepdog\n",
       "1670    None                \n",
       "2026    None                \n",
       "1018    ibizan hound        \n",
       "1324    None                \n",
       "Name: breed, dtype: object"
      ]
     },
     "execution_count": 57,
     "metadata": {},
     "output_type": "execute_result"
    }
   ],
   "source": [
    "df['breed'].sample(10)"
   ]
  },
  {
   "cell_type": "code",
   "execution_count": 58,
   "id": "4a265d4b",
   "metadata": {
    "scrolled": true
   },
   "outputs": [
    {
     "data": {
      "text/plain": [
       "array([None, 'chihuahua', 'labrador retriever', 'basset',\n",
       "       'chesapeake bay retriever', 'appenzeller', 'pomeranian',\n",
       "       'irish terrier', 'pembroke', 'samoyed', 'french bulldog',\n",
       "       'golden retriever', 'whippet', 'siberian husky',\n",
       "       'mexican hairless', 'kuvasz', 'pug', 'blenheim spaniel',\n",
       "       'malamute', 'italian greyhound', 'chow', 'german shepherd',\n",
       "       'doberman', 'eskimo dog', 'weimaraner', 'saluki',\n",
       "       'miniature pinscher', 'german short-haired pointer',\n",
       "       'english springer', 'vizsla', 'bloodhound', 'bernese mountain dog',\n",
       "       'west highland white terrier', 'cocker spaniel',\n",
       "       'flat-coated retriever', 'cardigan', 'newfoundland',\n",
       "       'shetland sheepdog', 'komondor', 'kelpie',\n",
       "       'greater swiss mountain dog', 'border collie', 'bull mastiff',\n",
       "       'staffordshire bullterrier', 'lakeland terrier',\n",
       "       'australian terrier', 'bouvier des flandres', 'bedlington terrier',\n",
       "       'boston bull', 'old english sheepdog', 'black-and-tan coonhound',\n",
       "       'great dane', 'standard poodle', 'yorkshire terrier', 'schipperke',\n",
       "       'airedale', 'american staffordshire terrier', 'giant schnauzer',\n",
       "       'dandie dinmont', 'irish water spaniel', 'afghan hound',\n",
       "       'brittany spaniel', 'norwich terrier', 'leonberg',\n",
       "       'border terrier', 'great pyrenees', 'norwegian elkhound',\n",
       "       'toy poodle', 'borzoi', 'rottweiler',\n",
       "       'soft-coated wheaten terrier', 'rhodesian ridgeback', 'boxer',\n",
       "       'pekinese', 'briard', 'collie', 'english setter', 'cairn',\n",
       "       'malinois', 'irish setter', 'gordon setter',\n",
       "       'welsh springer spaniel', 'miniature schnauzer',\n",
       "       'curly-coated retriever', 'tibetan mastiff', 'dalmatian',\n",
       "       'miniature poodle', 'beagle', 'toy terrier', 'norfolk terrier',\n",
       "       'wire-haired fox terrier', 'saint bernard', 'clumber',\n",
       "       'walker hound', 'silky terrier', 'papillon', 'basenji', 'keeshond',\n",
       "       'redbone', 'sussex spaniel', 'bluetick', 'shih-tzu',\n",
       "       'tibetan terrier', 'ibizan hound', 'maltese dog', 'lhasa',\n",
       "       'groenendael', 'scottish deerhound', 'scotch terrier',\n",
       "       'entlebucher', 'japanese spaniel', 'standard schnauzer',\n",
       "       'brabancon griffon', 'irish wolfhound'], dtype=object)"
      ]
     },
     "execution_count": 58,
     "metadata": {},
     "output_type": "execute_result"
    }
   ],
   "source": [
    "df['breed'].unique()"
   ]
  },
  {
   "cell_type": "markdown",
   "id": "585fc05f",
   "metadata": {},
   "source": [
    "#### 9. Storing the clean data"
   ]
  },
  {
   "cell_type": "code",
   "execution_count": 59,
   "id": "f9e193cf",
   "metadata": {},
   "outputs": [],
   "source": [
    "df.to_csv('twitter_archive_master.csv', encoding = 'utf-8', index = False)"
   ]
  },
  {
   "cell_type": "markdown",
   "id": "068e9969",
   "metadata": {},
   "source": [
    "## Data Analysis\n",
    "Having the data in hand, there were several questions I had been meaning to answer. People love WeRateDogs and its tweets, but how many tweets are we really talking about? How many dog breeds were there, and out of all, which one was the most favorite? I would be answering those questions and some others too in this part of the project.\n",
    "\\\n",
    "\\\n",
    "For the heads-up, these were the questions I would be working on: \n",
    "- How many tweets of dogs were there, over time?\n",
    "- How were the engagements of the tweets, over time?\n",
    "- Which dog was the most popular? \n",
    "\n",
    "\n",
    "### 1. How many tweets of dogs were in WeRateDogs' account, over time?"
   ]
  },
  {
   "cell_type": "code",
   "execution_count": 60,
   "id": "f04b7f3a",
   "metadata": {},
   "outputs": [
    {
     "data": {
      "text/plain": [
       "2177"
      ]
     },
     "execution_count": 60,
     "metadata": {},
     "output_type": "execute_result"
    }
   ],
   "source": [
    "# counting all tweets\n",
    "\n",
    "df['tweet_id'].count()"
   ]
  },
  {
   "cell_type": "code",
   "execution_count": 61,
   "id": "33303001",
   "metadata": {
    "scrolled": true
   },
   "outputs": [
    {
     "name": "stdout",
     "output_type": "stream",
     "text": [
      "2015-11-15 22:32:08+00:00 2017-08-01 16:23:56+00:00\n"
     ]
    }
   ],
   "source": [
    "# checking the time frame\n",
    "\n",
    "max_date = df.timestamp.max()\n",
    "min_date = df.timestamp.min()\n",
    "print(min_date, max_date)"
   ]
  },
  {
   "cell_type": "code",
   "execution_count": 62,
   "id": "47270c60",
   "metadata": {},
   "outputs": [],
   "source": [
    "# grouping tweet count by timestamp and converting timestamp into month date \n",
    "\n",
    "monthly_tweet = df.set_index('timestamp').groupby(pd.Grouper(freq = 'M')).count().reset_index()\n",
    "monthly_tweet['timestamp'] = pd.to_datetime(monthly_tweet['timestamp']).dt.date\n",
    "df_monthly_tweet = monthly_tweet[['timestamp', 'tweet_id']]"
   ]
  },
  {
   "cell_type": "code",
   "execution_count": 63,
   "id": "7438681b",
   "metadata": {
    "scrolled": true
   },
   "outputs": [
    {
     "data": {
      "text/html": [
       "<div>\n",
       "<style scoped>\n",
       "    .dataframe tbody tr th:only-of-type {\n",
       "        vertical-align: middle;\n",
       "    }\n",
       "\n",
       "    .dataframe tbody tr th {\n",
       "        vertical-align: top;\n",
       "    }\n",
       "\n",
       "    .dataframe thead th {\n",
       "        text-align: right;\n",
       "    }\n",
       "</style>\n",
       "<table border=\"1\" class=\"dataframe\">\n",
       "  <thead>\n",
       "    <tr style=\"text-align: right;\">\n",
       "      <th></th>\n",
       "      <th>timestamp</th>\n",
       "      <th>tweet_id</th>\n",
       "    </tr>\n",
       "  </thead>\n",
       "  <tbody>\n",
       "    <tr>\n",
       "      <th>0</th>\n",
       "      <td>2015-11-30</td>\n",
       "      <td>300</td>\n",
       "    </tr>\n",
       "    <tr>\n",
       "      <th>1</th>\n",
       "      <td>2015-12-31</td>\n",
       "      <td>388</td>\n",
       "    </tr>\n",
       "    <tr>\n",
       "      <th>2</th>\n",
       "      <td>2016-01-31</td>\n",
       "      <td>194</td>\n",
       "    </tr>\n",
       "    <tr>\n",
       "      <th>3</th>\n",
       "      <td>2016-02-29</td>\n",
       "      <td>125</td>\n",
       "    </tr>\n",
       "    <tr>\n",
       "      <th>4</th>\n",
       "      <td>2016-03-31</td>\n",
       "      <td>136</td>\n",
       "    </tr>\n",
       "    <tr>\n",
       "      <th>5</th>\n",
       "      <td>2016-04-30</td>\n",
       "      <td>60</td>\n",
       "    </tr>\n",
       "    <tr>\n",
       "      <th>6</th>\n",
       "      <td>2016-05-31</td>\n",
       "      <td>60</td>\n",
       "    </tr>\n",
       "    <tr>\n",
       "      <th>7</th>\n",
       "      <td>2016-06-30</td>\n",
       "      <td>94</td>\n",
       "    </tr>\n",
       "    <tr>\n",
       "      <th>8</th>\n",
       "      <td>2016-07-31</td>\n",
       "      <td>97</td>\n",
       "    </tr>\n",
       "    <tr>\n",
       "      <th>9</th>\n",
       "      <td>2016-08-31</td>\n",
       "      <td>64</td>\n",
       "    </tr>\n",
       "    <tr>\n",
       "      <th>10</th>\n",
       "      <td>2016-09-30</td>\n",
       "      <td>69</td>\n",
       "    </tr>\n",
       "    <tr>\n",
       "      <th>11</th>\n",
       "      <td>2016-10-31</td>\n",
       "      <td>73</td>\n",
       "    </tr>\n",
       "    <tr>\n",
       "      <th>12</th>\n",
       "      <td>2016-11-30</td>\n",
       "      <td>58</td>\n",
       "    </tr>\n",
       "    <tr>\n",
       "      <th>13</th>\n",
       "      <td>2016-12-31</td>\n",
       "      <td>59</td>\n",
       "    </tr>\n",
       "    <tr>\n",
       "      <th>14</th>\n",
       "      <td>2017-01-31</td>\n",
       "      <td>71</td>\n",
       "    </tr>\n",
       "    <tr>\n",
       "      <th>15</th>\n",
       "      <td>2017-02-28</td>\n",
       "      <td>72</td>\n",
       "    </tr>\n",
       "    <tr>\n",
       "      <th>16</th>\n",
       "      <td>2017-03-31</td>\n",
       "      <td>57</td>\n",
       "    </tr>\n",
       "    <tr>\n",
       "      <th>17</th>\n",
       "      <td>2017-04-30</td>\n",
       "      <td>49</td>\n",
       "    </tr>\n",
       "    <tr>\n",
       "      <th>18</th>\n",
       "      <td>2017-05-31</td>\n",
       "      <td>45</td>\n",
       "    </tr>\n",
       "    <tr>\n",
       "      <th>19</th>\n",
       "      <td>2017-06-30</td>\n",
       "      <td>50</td>\n",
       "    </tr>\n",
       "    <tr>\n",
       "      <th>20</th>\n",
       "      <td>2017-07-31</td>\n",
       "      <td>54</td>\n",
       "    </tr>\n",
       "    <tr>\n",
       "      <th>21</th>\n",
       "      <td>2017-08-31</td>\n",
       "      <td>2</td>\n",
       "    </tr>\n",
       "  </tbody>\n",
       "</table>\n",
       "</div>"
      ],
      "text/plain": [
       "     timestamp  tweet_id\n",
       "0   2015-11-30  300     \n",
       "1   2015-12-31  388     \n",
       "2   2016-01-31  194     \n",
       "3   2016-02-29  125     \n",
       "4   2016-03-31  136     \n",
       "5   2016-04-30  60      \n",
       "6   2016-05-31  60      \n",
       "7   2016-06-30  94      \n",
       "8   2016-07-31  97      \n",
       "9   2016-08-31  64      \n",
       "10  2016-09-30  69      \n",
       "11  2016-10-31  73      \n",
       "12  2016-11-30  58      \n",
       "13  2016-12-31  59      \n",
       "14  2017-01-31  71      \n",
       "15  2017-02-28  72      \n",
       "16  2017-03-31  57      \n",
       "17  2017-04-30  49      \n",
       "18  2017-05-31  45      \n",
       "19  2017-06-30  50      \n",
       "20  2017-07-31  54      \n",
       "21  2017-08-31  2       "
      ]
     },
     "execution_count": 63,
     "metadata": {},
     "output_type": "execute_result"
    }
   ],
   "source": [
    "df_monthly_tweet"
   ]
  },
  {
   "cell_type": "code",
   "execution_count": 64,
   "id": "0cc1a660",
   "metadata": {
    "scrolled": true
   },
   "outputs": [
    {
     "data": {
      "text/plain": [
       "2177"
      ]
     },
     "execution_count": 64,
     "metadata": {},
     "output_type": "execute_result"
    }
   ],
   "source": [
    "df_monthly_tweet.tweet_id.sum()"
   ]
  },
  {
   "cell_type": "code",
   "execution_count": 65,
   "id": "d715b25c",
   "metadata": {},
   "outputs": [
    {
     "data": {
      "text/plain": [
       "98.95454545454545"
      ]
     },
     "execution_count": 65,
     "metadata": {},
     "output_type": "execute_result"
    }
   ],
   "source": [
    "df_monthly_tweet.tweet_id.mean()"
   ]
  },
  {
   "cell_type": "code",
   "execution_count": 66,
   "id": "41acc1e6",
   "metadata": {},
   "outputs": [
    {
     "data": {
      "image/png": "[encoded data removed]",
      "text/plain": [
       "<Figure size 1080x576 with 1 Axes>"
      ]
     },
     "metadata": {
      "needs_background": "light"
     },
     "output_type": "display_data"
    }
   ],
   "source": [
    "import matplotlib.pyplot as plt\n",
    "\n",
    "x = df_monthly_tweet['timestamp']\n",
    "y = df_monthly_tweet['tweet_id']\n",
    "\n",
    "# creating the plot\n",
    "fig, ax = plt.subplots(figsize = (15, 8))\n",
    "plt.plot(x, y, marker = 'o', color = 'rosybrown')\n",
    "plt.xlabel(\"Month\", size = 12)\n",
    "plt.ylabel(\"No. of Tweets\", size = 12)\n",
    "plt.title(\"NO. OF WERATEDOGS' TWEETS OVER TIME\", size = 20)\n",
    "\n",
    "# generating data labels\n",
    "for index in range(len(x)):\n",
    "  ax.text(x[index], y[index], y[index], size = 12, ha = 'center', va = 'bottom')\n",
    "plt.show()"
   ]
  },
  {
   "cell_type": "markdown",
   "id": "0469f883",
   "metadata": {},
   "source": [
    "<i><b>Note:</b> the code above (on generating data labels) was referred to this [tutorial](https://towardsdatascience.com/how-to-label-the-values-plots-with-matplotlib-c9b7db0fd2e1).</i>\n",
    "### 2. How were the engagements of WeRateDogs' tweets, over time?"
   ]
  },
  {
   "cell_type": "code",
   "execution_count": 67,
   "id": "f9f89832",
   "metadata": {},
   "outputs": [],
   "source": [
    "# grouping favorite & retweet counts by timestamp and converting timestamp into month date \n",
    "\n",
    "monthly_rate = df.set_index('timestamp').groupby(pd.Grouper(freq = 'M')).sum().reset_index()\n",
    "monthly_rate['timestamp'] = pd.to_datetime(monthly_rate['timestamp']).dt.date\n",
    "df_monthly_rate = monthly_rate[['timestamp', 'favorite_count', 'retweet_count']]"
   ]
  },
  {
   "cell_type": "code",
   "execution_count": 68,
   "id": "f32a1535",
   "metadata": {},
   "outputs": [],
   "source": [
    "# merging favorite & retweet counts data with tweet count datab\n",
    "\n",
    "monthly_data = [df_monthly_tweet, df_monthly_rate]\n",
    "df_monthly = reduce(lambda left, right: pd.merge(left, right, on = ['timestamp'], \n",
    "                                         how = 'left'), monthly_data)"
   ]
  },
  {
   "cell_type": "code",
   "execution_count": 69,
   "id": "9b283680",
   "metadata": {},
   "outputs": [
    {
     "data": {
      "text/html": [
       "<div>\n",
       "<style scoped>\n",
       "    .dataframe tbody tr th:only-of-type {\n",
       "        vertical-align: middle;\n",
       "    }\n",
       "\n",
       "    .dataframe tbody tr th {\n",
       "        vertical-align: top;\n",
       "    }\n",
       "\n",
       "    .dataframe thead th {\n",
       "        text-align: right;\n",
       "    }\n",
       "</style>\n",
       "<table border=\"1\" class=\"dataframe\">\n",
       "  <thead>\n",
       "    <tr style=\"text-align: right;\">\n",
       "      <th></th>\n",
       "      <th>timestamp</th>\n",
       "      <th>tweet_id</th>\n",
       "      <th>favorite_count</th>\n",
       "      <th>retweet_count</th>\n",
       "    </tr>\n",
       "  </thead>\n",
       "  <tbody>\n",
       "    <tr>\n",
       "      <th>0</th>\n",
       "      <td>2015-11-30</td>\n",
       "      <td>300</td>\n",
       "      <td>369058</td>\n",
       "      <td>161371</td>\n",
       "    </tr>\n",
       "    <tr>\n",
       "      <th>1</th>\n",
       "      <td>2015-12-31</td>\n",
       "      <td>388</td>\n",
       "      <td>1369106</td>\n",
       "      <td>595698</td>\n",
       "    </tr>\n",
       "    <tr>\n",
       "      <th>2</th>\n",
       "      <td>2016-01-31</td>\n",
       "      <td>194</td>\n",
       "      <td>783806</td>\n",
       "      <td>307950</td>\n",
       "    </tr>\n",
       "    <tr>\n",
       "      <th>3</th>\n",
       "      <td>2016-02-29</td>\n",
       "      <td>125</td>\n",
       "      <td>508954</td>\n",
       "      <td>191096</td>\n",
       "    </tr>\n",
       "    <tr>\n",
       "      <th>4</th>\n",
       "      <td>2016-03-31</td>\n",
       "      <td>136</td>\n",
       "      <td>626981</td>\n",
       "      <td>235355</td>\n",
       "    </tr>\n",
       "  </tbody>\n",
       "</table>\n",
       "</div>"
      ],
      "text/plain": [
       "    timestamp  tweet_id  favorite_count  retweet_count\n",
       "0  2015-11-30  300       369058          161371       \n",
       "1  2015-12-31  388       1369106         595698       \n",
       "2  2016-01-31  194       783806          307950       \n",
       "3  2016-02-29  125       508954          191096       \n",
       "4  2016-03-31  136       626981          235355       "
      ]
     },
     "execution_count": 69,
     "metadata": {},
     "output_type": "execute_result"
    }
   ],
   "source": [
    "df_monthly.head()"
   ]
  },
  {
   "cell_type": "code",
   "execution_count": 70,
   "id": "0231ae3f",
   "metadata": {
    "scrolled": false
   },
   "outputs": [
    {
     "data": {
      "text/html": [
       "<div>\n",
       "<style scoped>\n",
       "    .dataframe tbody tr th:only-of-type {\n",
       "        vertical-align: middle;\n",
       "    }\n",
       "\n",
       "    .dataframe tbody tr th {\n",
       "        vertical-align: top;\n",
       "    }\n",
       "\n",
       "    .dataframe thead th {\n",
       "        text-align: right;\n",
       "    }\n",
       "</style>\n",
       "<table border=\"1\" class=\"dataframe\">\n",
       "  <thead>\n",
       "    <tr style=\"text-align: right;\">\n",
       "      <th></th>\n",
       "      <th>timestamp</th>\n",
       "      <th>tweet_id</th>\n",
       "      <th>favorite_count</th>\n",
       "      <th>retweet_count</th>\n",
       "      <th>favorites_per_tweet</th>\n",
       "      <th>retweets_per_tweet</th>\n",
       "    </tr>\n",
       "  </thead>\n",
       "  <tbody>\n",
       "    <tr>\n",
       "      <th>0</th>\n",
       "      <td>2015-11-30</td>\n",
       "      <td>300</td>\n",
       "      <td>369058</td>\n",
       "      <td>161371</td>\n",
       "      <td>1230.2</td>\n",
       "      <td>537.9</td>\n",
       "    </tr>\n",
       "    <tr>\n",
       "      <th>1</th>\n",
       "      <td>2015-12-31</td>\n",
       "      <td>388</td>\n",
       "      <td>1369106</td>\n",
       "      <td>595698</td>\n",
       "      <td>3528.6</td>\n",
       "      <td>1535.3</td>\n",
       "    </tr>\n",
       "    <tr>\n",
       "      <th>2</th>\n",
       "      <td>2016-01-31</td>\n",
       "      <td>194</td>\n",
       "      <td>783806</td>\n",
       "      <td>307950</td>\n",
       "      <td>4040.2</td>\n",
       "      <td>1587.4</td>\n",
       "    </tr>\n",
       "    <tr>\n",
       "      <th>3</th>\n",
       "      <td>2016-02-29</td>\n",
       "      <td>125</td>\n",
       "      <td>508954</td>\n",
       "      <td>191096</td>\n",
       "      <td>4071.6</td>\n",
       "      <td>1528.8</td>\n",
       "    </tr>\n",
       "    <tr>\n",
       "      <th>4</th>\n",
       "      <td>2016-03-31</td>\n",
       "      <td>136</td>\n",
       "      <td>626981</td>\n",
       "      <td>235355</td>\n",
       "      <td>4610.2</td>\n",
       "      <td>1730.6</td>\n",
       "    </tr>\n",
       "  </tbody>\n",
       "</table>\n",
       "</div>"
      ],
      "text/plain": [
       "    timestamp  tweet_id  favorite_count  retweet_count  favorites_per_tweet  \\\n",
       "0  2015-11-30  300       369058          161371         1230.2                \n",
       "1  2015-12-31  388       1369106         595698         3528.6                \n",
       "2  2016-01-31  194       783806          307950         4040.2                \n",
       "3  2016-02-29  125       508954          191096         4071.6                \n",
       "4  2016-03-31  136       626981          235355         4610.2                \n",
       "\n",
       "   retweets_per_tweet  \n",
       "0  537.9               \n",
       "1  1535.3              \n",
       "2  1587.4              \n",
       "3  1528.8              \n",
       "4  1730.6              "
      ]
     },
     "execution_count": 70,
     "metadata": {},
     "output_type": "execute_result"
    }
   ],
   "source": [
    "# calculating avg. favorites and retweets (favorites & retweets per tweet per month)\n",
    "\n",
    "df_monthly['favorites_per_tweet'] = round((df_monthly['favorite_count'] / df_monthly['tweet_id']), 1)\n",
    "df_monthly['retweets_per_tweet'] = round((df_monthly['retweet_count'] / df_monthly['tweet_id']),1)\n",
    "df_monthly.head()"
   ]
  },
  {
   "cell_type": "code",
   "execution_count": 71,
   "id": "cf68748a",
   "metadata": {},
   "outputs": [
    {
     "name": "stdout",
     "output_type": "stream",
     "text": [
      "favorites_per_tweet    13964.131818\n",
      "retweets_per_tweet     3941.786364 \n",
      "dtype: float64\n",
      "favorites_per_tweet    1230.2\n",
      "retweets_per_tweet     537.9 \n",
      "dtype: float64\n",
      "favorites_per_tweet    36643.0\n",
      "retweets_per_tweet     7683.5 \n",
      "dtype: float64\n"
     ]
    }
   ],
   "source": [
    "mean = df_monthly[['favorites_per_tweet', 'retweets_per_tweet']].mean()\n",
    "min = df_monthly[['favorites_per_tweet', 'retweets_per_tweet']].min()\n",
    "max = df_monthly[['favorites_per_tweet', 'retweets_per_tweet']].max()\n",
    "\n",
    "print (mean)\n",
    "print (min)\n",
    "print (max)"
   ]
  },
  {
   "cell_type": "code",
   "execution_count": 72,
   "id": "3fa42d4a",
   "metadata": {
    "scrolled": true
   },
   "outputs": [
    {
     "data": {
      "image/png": "[encoded data removed]",
      "text/plain": [
       "<Figure size 1080x576 with 1 Axes>"
      ]
     },
     "metadata": {
      "needs_background": "light"
     },
     "output_type": "display_data"
    }
   ],
   "source": [
    "x = df_monthly['timestamp']\n",
    "y = df_monthly['favorites_per_tweet']\n",
    "z = df_monthly['retweets_per_tweet']\n",
    "\n",
    "# creating the plot\n",
    "fig, ax = plt.subplots(figsize = (15, 8))\n",
    "plt.plot(x, y, marker = 'o', label = 'Favorites', color = 'teal')\n",
    "plt.plot(x, z, marker = 'o', label = 'Retweets', color = 'darkkhaki')\n",
    "plt.xlabel(\"Month\", size = 12)\n",
    "plt.ylabel(\"Count\", size = 12)\n",
    "plt.title(\"WERATEDOGS' TWEETS POPULARITY OVER TIME\", size = 20)\n",
    "plt.legend()\n",
    "\n",
    "# generating data labels\n",
    "for index in range(len(x)):\n",
    "    ax.text(x[index], y[index], y[index], size = 10, ha = 'center', va = 'bottom')\n",
    "\n",
    "for index in range(len(x)):\n",
    "    ax.text(x[index], z[index], z[index], size = 10, ha = 'center', va = 'bottom')\n",
    "\n",
    "plt.show()"
   ]
  },
  {
   "cell_type": "markdown",
   "id": "f69b63c6",
   "metadata": {},
   "source": [
    "### 3. Which dog was the most popular?\n",
    "#### 3.1. Dog stage"
   ]
  },
  {
   "cell_type": "code",
   "execution_count": 73,
   "id": "3894a107",
   "metadata": {},
   "outputs": [
    {
     "name": "stdout",
     "output_type": "stream",
     "text": [
      "<class 'pandas.core.frame.DataFrame'>\n",
      "Int64Index: 2177 entries, 0 to 2355\n",
      "Data columns (total 14 columns):\n",
      " #   Column            Non-Null Count  Dtype              \n",
      "---  ------            --------------  -----              \n",
      " 0   tweet_id          2177 non-null   object             \n",
      " 1   timestamp         2177 non-null   datetime64[ns, UTC]\n",
      " 2   source            2177 non-null   object             \n",
      " 3   text              2177 non-null   object             \n",
      " 4   expanded_urls     2119 non-null   object             \n",
      " 5   name              2177 non-null   object             \n",
      " 6   jpg_url           1996 non-null   object             \n",
      " 7   img_num           1996 non-null   float64            \n",
      " 8   retweet_count     2177 non-null   int64              \n",
      " 9   favorite_count    2177 non-null   int64              \n",
      " 10  retweeted_status  2177 non-null   object             \n",
      " 11  rating            2177 non-null   float64            \n",
      " 12  stage             344 non-null    object             \n",
      " 13  breed             1687 non-null   object             \n",
      "dtypes: datetime64[ns, UTC](1), float64(2), int64(2), object(9)\n",
      "memory usage: 255.1+ KB\n"
     ]
    }
   ],
   "source": [
    "df.info()"
   ]
  },
  {
   "cell_type": "code",
   "execution_count": 74,
   "id": "36f9b6ff",
   "metadata": {},
   "outputs": [
    {
     "data": {
      "text/html": [
       "<div>\n",
       "<style scoped>\n",
       "    .dataframe tbody tr th:only-of-type {\n",
       "        vertical-align: middle;\n",
       "    }\n",
       "\n",
       "    .dataframe tbody tr th {\n",
       "        vertical-align: top;\n",
       "    }\n",
       "\n",
       "    .dataframe thead th {\n",
       "        text-align: right;\n",
       "    }\n",
       "</style>\n",
       "<table border=\"1\" class=\"dataframe\">\n",
       "  <thead>\n",
       "    <tr style=\"text-align: right;\">\n",
       "      <th></th>\n",
       "      <th>stage</th>\n",
       "      <th>tweet_id</th>\n",
       "      <th>favorite_count</th>\n",
       "      <th>retweet_count</th>\n",
       "    </tr>\n",
       "  </thead>\n",
       "  <tbody>\n",
       "    <tr>\n",
       "      <th>0</th>\n",
       "      <td>doggo</td>\n",
       "      <td>80</td>\n",
       "      <td>1378687</td>\n",
       "      <td>502516</td>\n",
       "    </tr>\n",
       "    <tr>\n",
       "      <th>1</th>\n",
       "      <td>floofer</td>\n",
       "      <td>10</td>\n",
       "      <td>116749</td>\n",
       "      <td>40836</td>\n",
       "    </tr>\n",
       "    <tr>\n",
       "      <th>2</th>\n",
       "      <td>pupper</td>\n",
       "      <td>229</td>\n",
       "      <td>1647401</td>\n",
       "      <td>562620</td>\n",
       "    </tr>\n",
       "    <tr>\n",
       "      <th>3</th>\n",
       "      <td>puppo</td>\n",
       "      <td>25</td>\n",
       "      <td>546777</td>\n",
       "      <td>171176</td>\n",
       "    </tr>\n",
       "  </tbody>\n",
       "</table>\n",
       "</div>"
      ],
      "text/plain": [
       "     stage  tweet_id  favorite_count  retweet_count\n",
       "0  doggo    80        1378687         502516       \n",
       "1  floofer  10        116749          40836        \n",
       "2  pupper   229       1647401         562620       \n",
       "3  puppo    25        546777          171176       "
      ]
     },
     "execution_count": 74,
     "metadata": {},
     "output_type": "execute_result"
    }
   ],
   "source": [
    "stage_count = df.set_index('stage').groupby(['stage']).count().reset_index()\n",
    "stage_count = stage_count[['stage', 'tweet_id']]\n",
    "\n",
    "stage_rate = df.set_index('stage').groupby(['stage']).sum().reset_index()\n",
    "stage_rate = stage_rate[['stage', 'favorite_count', 'retweet_count']]\n",
    "\n",
    "stage_details = [stage_count, stage_rate]\n",
    "stage_data = reduce(lambda left, right: pd.merge(left, right, on = ['stage'], \n",
    "                                         how = 'left'), stage_details)\n",
    "\n",
    "stage_data"
   ]
  },
  {
   "cell_type": "code",
   "execution_count": 75,
   "id": "f132c9c8",
   "metadata": {
    "scrolled": true
   },
   "outputs": [
    {
     "data": {
      "text/html": [
       "<div>\n",
       "<style scoped>\n",
       "    .dataframe tbody tr th:only-of-type {\n",
       "        vertical-align: middle;\n",
       "    }\n",
       "\n",
       "    .dataframe tbody tr th {\n",
       "        vertical-align: top;\n",
       "    }\n",
       "\n",
       "    .dataframe thead th {\n",
       "        text-align: right;\n",
       "    }\n",
       "</style>\n",
       "<table border=\"1\" class=\"dataframe\">\n",
       "  <thead>\n",
       "    <tr style=\"text-align: right;\">\n",
       "      <th></th>\n",
       "      <th>stage</th>\n",
       "      <th>tweet_id</th>\n",
       "      <th>favorite_count</th>\n",
       "      <th>retweet_count</th>\n",
       "      <th>favorite_per_tweet</th>\n",
       "      <th>retweet_per_tweet</th>\n",
       "    </tr>\n",
       "  </thead>\n",
       "  <tbody>\n",
       "    <tr>\n",
       "      <th>0</th>\n",
       "      <td>doggo</td>\n",
       "      <td>80</td>\n",
       "      <td>1378687</td>\n",
       "      <td>502516</td>\n",
       "      <td>17233.6</td>\n",
       "      <td>6281.4</td>\n",
       "    </tr>\n",
       "    <tr>\n",
       "      <th>1</th>\n",
       "      <td>floofer</td>\n",
       "      <td>10</td>\n",
       "      <td>116749</td>\n",
       "      <td>40836</td>\n",
       "      <td>11674.9</td>\n",
       "      <td>4083.6</td>\n",
       "    </tr>\n",
       "    <tr>\n",
       "      <th>2</th>\n",
       "      <td>pupper</td>\n",
       "      <td>229</td>\n",
       "      <td>1647401</td>\n",
       "      <td>562620</td>\n",
       "      <td>7193.9</td>\n",
       "      <td>2456.9</td>\n",
       "    </tr>\n",
       "    <tr>\n",
       "      <th>3</th>\n",
       "      <td>puppo</td>\n",
       "      <td>25</td>\n",
       "      <td>546777</td>\n",
       "      <td>171176</td>\n",
       "      <td>21871.1</td>\n",
       "      <td>6847.0</td>\n",
       "    </tr>\n",
       "  </tbody>\n",
       "</table>\n",
       "</div>"
      ],
      "text/plain": [
       "     stage  tweet_id  favorite_count  retweet_count  favorite_per_tweet  \\\n",
       "0  doggo    80        1378687         502516         17233.6              \n",
       "1  floofer  10        116749          40836          11674.9              \n",
       "2  pupper   229       1647401         562620         7193.9               \n",
       "3  puppo    25        546777          171176         21871.1              \n",
       "\n",
       "   retweet_per_tweet  \n",
       "0  6281.4             \n",
       "1  4083.6             \n",
       "2  2456.9             \n",
       "3  6847.0             "
      ]
     },
     "execution_count": 75,
     "metadata": {},
     "output_type": "execute_result"
    }
   ],
   "source": [
    "stage_data['favorite_per_tweet'] = round((stage_data['favorite_count'] / stage_data['tweet_id']), 1)\n",
    "stage_data['retweet_per_tweet'] = round((stage_data['retweet_count'] / stage_data['tweet_id']), 1)\n",
    "\n",
    "stage_data"
   ]
  },
  {
   "cell_type": "code",
   "execution_count": 76,
   "id": "f78cd595",
   "metadata": {
    "scrolled": false
   },
   "outputs": [
    {
     "data": {
      "image/png": "[encoded data removed]",
      "text/plain": [
       "<Figure size 1440x360 with 3 Axes>"
      ]
     },
     "metadata": {
      "needs_background": "light"
     },
     "output_type": "display_data"
    }
   ],
   "source": [
    "s = stage_data.stage\n",
    "x = stage_data.tweet_id\n",
    "y = stage_data.favorite_per_tweet\n",
    "z = stage_data.retweet_per_tweet\n",
    "        \n",
    "def labels(x, y):\n",
    "    for i in range(len(x)):\n",
    "        plt.text(i, y[i], y[i], ha = 'center', va = 'bottom')\n",
    "        \n",
    "fig, ax = plt.subplots(figsize = (20, 5))\n",
    " \n",
    "plt.subplot(1,3,1)\n",
    "plt.bar(s, x, color = 'rosybrown')\n",
    "labels(s, x)\n",
    "plt.title('TWEET COUNT')\n",
    "\n",
    "plt.subplot(1,3,2)\n",
    "plt.bar(s, y, color = 'teal')\n",
    "labels(s, y)\n",
    "plt.title('FAVORITE COUNT PER TWEET')\n",
    "\n",
    "plt.subplot(1,3,3)\n",
    "plt.bar(s, z, color = 'darkkhaki')\n",
    "labels(s, z)\n",
    "plt.title('RETWEET COUNT PER TWEET')\n",
    "\n",
    "plt.show()"
   ]
  },
  {
   "cell_type": "code",
   "execution_count": 77,
   "id": "768f94bb",
   "metadata": {
    "scrolled": false
   },
   "outputs": [
    {
     "data": {
      "text/html": [
       "<div>\n",
       "<style scoped>\n",
       "    .dataframe tbody tr th:only-of-type {\n",
       "        vertical-align: middle;\n",
       "    }\n",
       "\n",
       "    .dataframe tbody tr th {\n",
       "        vertical-align: top;\n",
       "    }\n",
       "\n",
       "    .dataframe thead th {\n",
       "        text-align: right;\n",
       "    }\n",
       "</style>\n",
       "<table border=\"1\" class=\"dataframe\">\n",
       "  <thead>\n",
       "    <tr style=\"text-align: right;\">\n",
       "      <th></th>\n",
       "      <th>breed</th>\n",
       "      <th>tweet_id</th>\n",
       "      <th>favorite_count</th>\n",
       "      <th>retweet_count</th>\n",
       "    </tr>\n",
       "  </thead>\n",
       "  <tbody>\n",
       "    <tr>\n",
       "      <th>0</th>\n",
       "      <td>afghan hound</td>\n",
       "      <td>3</td>\n",
       "      <td>51980</td>\n",
       "      <td>17928</td>\n",
       "    </tr>\n",
       "    <tr>\n",
       "      <th>1</th>\n",
       "      <td>airedale</td>\n",
       "      <td>12</td>\n",
       "      <td>63370</td>\n",
       "      <td>16725</td>\n",
       "    </tr>\n",
       "    <tr>\n",
       "      <th>2</th>\n",
       "      <td>american staffordshire terrier</td>\n",
       "      <td>16</td>\n",
       "      <td>150083</td>\n",
       "      <td>36973</td>\n",
       "    </tr>\n",
       "    <tr>\n",
       "      <th>3</th>\n",
       "      <td>appenzeller</td>\n",
       "      <td>2</td>\n",
       "      <td>14635</td>\n",
       "      <td>2916</td>\n",
       "    </tr>\n",
       "    <tr>\n",
       "      <th>4</th>\n",
       "      <td>australian terrier</td>\n",
       "      <td>2</td>\n",
       "      <td>22255</td>\n",
       "      <td>6157</td>\n",
       "    </tr>\n",
       "  </tbody>\n",
       "</table>\n",
       "</div>"
      ],
      "text/plain": [
       "                            breed  tweet_id  favorite_count  retweet_count\n",
       "0  afghan hound                    3         51980           17928        \n",
       "1  airedale                        12        63370           16725        \n",
       "2  american staffordshire terrier  16        150083          36973        \n",
       "3  appenzeller                     2         14635           2916         \n",
       "4  australian terrier              2         22255           6157         "
      ]
     },
     "execution_count": 77,
     "metadata": {},
     "output_type": "execute_result"
    }
   ],
   "source": [
    "breed_count = df.set_index('breed').groupby(['breed']).count().reset_index()\n",
    "breed_count = breed_count[['breed', 'tweet_id']]\n",
    "\n",
    "breed_rate = df.set_index('breed').groupby(['breed']).sum().reset_index()\n",
    "breed_rate = breed_rate[['breed', 'favorite_count', 'retweet_count']]\n",
    "\n",
    "breed_details = [breed_count, breed_rate]\n",
    "breed_data = reduce(lambda left, right: pd.merge(left, right, on = ['breed'], \n",
    "                                         how = 'left'), breed_details)\n",
    "\n",
    "breed_data.head()"
   ]
  },
  {
   "cell_type": "code",
   "execution_count": 78,
   "id": "efbf3e4b",
   "metadata": {
    "scrolled": true
   },
   "outputs": [
    {
     "data": {
      "text/html": [
       "<div>\n",
       "<style scoped>\n",
       "    .dataframe tbody tr th:only-of-type {\n",
       "        vertical-align: middle;\n",
       "    }\n",
       "\n",
       "    .dataframe tbody tr th {\n",
       "        vertical-align: top;\n",
       "    }\n",
       "\n",
       "    .dataframe thead th {\n",
       "        text-align: right;\n",
       "    }\n",
       "</style>\n",
       "<table border=\"1\" class=\"dataframe\">\n",
       "  <thead>\n",
       "    <tr style=\"text-align: right;\">\n",
       "      <th></th>\n",
       "      <th>breed</th>\n",
       "      <th>tweet_id</th>\n",
       "      <th>favorite_count</th>\n",
       "      <th>retweet_count</th>\n",
       "      <th>favorite_per_tweet</th>\n",
       "      <th>retweet_per_tweet</th>\n",
       "    </tr>\n",
       "  </thead>\n",
       "  <tbody>\n",
       "    <tr>\n",
       "      <th>0</th>\n",
       "      <td>afghan hound</td>\n",
       "      <td>3</td>\n",
       "      <td>51980</td>\n",
       "      <td>17928</td>\n",
       "      <td>17326.7</td>\n",
       "      <td>5976.0</td>\n",
       "    </tr>\n",
       "    <tr>\n",
       "      <th>1</th>\n",
       "      <td>airedale</td>\n",
       "      <td>12</td>\n",
       "      <td>63370</td>\n",
       "      <td>16725</td>\n",
       "      <td>5280.8</td>\n",
       "      <td>1393.8</td>\n",
       "    </tr>\n",
       "    <tr>\n",
       "      <th>2</th>\n",
       "      <td>american staffordshire terrier</td>\n",
       "      <td>16</td>\n",
       "      <td>150083</td>\n",
       "      <td>36973</td>\n",
       "      <td>9380.2</td>\n",
       "      <td>2310.8</td>\n",
       "    </tr>\n",
       "    <tr>\n",
       "      <th>3</th>\n",
       "      <td>appenzeller</td>\n",
       "      <td>2</td>\n",
       "      <td>14635</td>\n",
       "      <td>2916</td>\n",
       "      <td>7317.5</td>\n",
       "      <td>1458.0</td>\n",
       "    </tr>\n",
       "    <tr>\n",
       "      <th>4</th>\n",
       "      <td>australian terrier</td>\n",
       "      <td>2</td>\n",
       "      <td>22255</td>\n",
       "      <td>6157</td>\n",
       "      <td>11127.5</td>\n",
       "      <td>3078.5</td>\n",
       "    </tr>\n",
       "    <tr>\n",
       "      <th>...</th>\n",
       "      <td>...</td>\n",
       "      <td>...</td>\n",
       "      <td>...</td>\n",
       "      <td>...</td>\n",
       "      <td>...</td>\n",
       "      <td>...</td>\n",
       "    </tr>\n",
       "    <tr>\n",
       "      <th>108</th>\n",
       "      <td>welsh springer spaniel</td>\n",
       "      <td>4</td>\n",
       "      <td>20224</td>\n",
       "      <td>4424</td>\n",
       "      <td>5056.0</td>\n",
       "      <td>1106.0</td>\n",
       "    </tr>\n",
       "    <tr>\n",
       "      <th>109</th>\n",
       "      <td>west highland white terrier</td>\n",
       "      <td>16</td>\n",
       "      <td>96876</td>\n",
       "      <td>23592</td>\n",
       "      <td>6054.8</td>\n",
       "      <td>1474.5</td>\n",
       "    </tr>\n",
       "    <tr>\n",
       "      <th>110</th>\n",
       "      <td>whippet</td>\n",
       "      <td>11</td>\n",
       "      <td>142026</td>\n",
       "      <td>53243</td>\n",
       "      <td>12911.5</td>\n",
       "      <td>4840.3</td>\n",
       "    </tr>\n",
       "    <tr>\n",
       "      <th>111</th>\n",
       "      <td>wire-haired fox terrier</td>\n",
       "      <td>2</td>\n",
       "      <td>17077</td>\n",
       "      <td>5847</td>\n",
       "      <td>8538.5</td>\n",
       "      <td>2923.5</td>\n",
       "    </tr>\n",
       "    <tr>\n",
       "      <th>112</th>\n",
       "      <td>yorkshire terrier</td>\n",
       "      <td>10</td>\n",
       "      <td>45950</td>\n",
       "      <td>13560</td>\n",
       "      <td>4595.0</td>\n",
       "      <td>1356.0</td>\n",
       "    </tr>\n",
       "  </tbody>\n",
       "</table>\n",
       "<p>113 rows × 6 columns</p>\n",
       "</div>"
      ],
      "text/plain": [
       "                              breed  tweet_id  favorite_count  retweet_count  \\\n",
       "0    afghan hound                    3         51980           17928           \n",
       "1    airedale                        12        63370           16725           \n",
       "2    american staffordshire terrier  16        150083          36973           \n",
       "3    appenzeller                     2         14635           2916            \n",
       "4    australian terrier              2         22255           6157            \n",
       "..                  ...             ..           ...            ...            \n",
       "108  welsh springer spaniel          4         20224           4424            \n",
       "109  west highland white terrier     16        96876           23592           \n",
       "110  whippet                         11        142026          53243           \n",
       "111  wire-haired fox terrier         2         17077           5847            \n",
       "112  yorkshire terrier               10        45950           13560           \n",
       "\n",
       "     favorite_per_tweet  retweet_per_tweet  \n",
       "0    17326.7             5976.0             \n",
       "1    5280.8              1393.8             \n",
       "2    9380.2              2310.8             \n",
       "3    7317.5              1458.0             \n",
       "4    11127.5             3078.5             \n",
       "..       ...                ...             \n",
       "108  5056.0              1106.0             \n",
       "109  6054.8              1474.5             \n",
       "110  12911.5             4840.3             \n",
       "111  8538.5              2923.5             \n",
       "112  4595.0              1356.0             \n",
       "\n",
       "[113 rows x 6 columns]"
      ]
     },
     "execution_count": 78,
     "metadata": {},
     "output_type": "execute_result"
    }
   ],
   "source": [
    "breed_data['favorite_per_tweet'] = round((breed_data['favorite_count'] / breed_data['tweet_id']), 1)\n",
    "breed_data['retweet_per_tweet'] = round((breed_data['retweet_count'] / breed_data['tweet_id']), 1)\n",
    "\n",
    "breed_data"
   ]
  },
  {
   "cell_type": "code",
   "execution_count": 79,
   "id": "3128cadf",
   "metadata": {},
   "outputs": [
    {
     "data": {
      "text/plain": [
       "113"
      ]
     },
     "execution_count": 79,
     "metadata": {},
     "output_type": "execute_result"
    }
   ],
   "source": [
    "breed_data.breed.nunique()"
   ]
  },
  {
   "cell_type": "code",
   "execution_count": 80,
   "id": "063b9fde",
   "metadata": {},
   "outputs": [],
   "source": [
    "tweet_count = breed_data[['breed', 'tweet_id']].sort_values(by = 'tweet_id', ascending = False)[:5]\n",
    "fav_count = breed_data[['breed', 'favorite_per_tweet']].sort_values(by = 'favorite_per_tweet', ascending = False)[:5]\n",
    "rt_count = breed_data[['breed', 'retweet_per_tweet']].sort_values(by = 'retweet_per_tweet', ascending = False)[:5]"
   ]
  },
  {
   "cell_type": "code",
   "execution_count": 81,
   "id": "132df715",
   "metadata": {},
   "outputs": [
    {
     "data": {
      "image/png": "[encoded data removed]",
      "text/plain": [
       "<Figure size 1080x576 with 1 Axes>"
      ]
     },
     "metadata": {
      "needs_background": "light"
     },
     "output_type": "display_data"
    }
   ],
   "source": [
    "xtweet = tweet_count.breed\n",
    "ytweet = tweet_count.tweet_id\n",
    "\n",
    "fig, ax = plt.subplots(figsize = (15, 8))\n",
    "bars = ax.barh(xtweet, ytweet, color = 'rosybrown') \n",
    "\n",
    "for bar in bars:\n",
    "  width = bar.get_width()\n",
    "  label_y_pos = bar.get_y() + bar.get_height() / 2\n",
    "  ax.text(width, label_y_pos, s = f'{width}', va = 'center')\n",
    "\n",
    "plt.xlabel('No. of Tweets', size = 12)\n",
    "plt.title('MOST TWEETED DOG BREED', size = 20);"
   ]
  },
  {
   "cell_type": "code",
   "execution_count": 82,
   "id": "f660238a",
   "metadata": {},
   "outputs": [
    {
     "data": {
      "image/png": "[encoded data removed]",
      "text/plain": [
       "<Figure size 1080x576 with 1 Axes>"
      ]
     },
     "metadata": {
      "needs_background": "light"
     },
     "output_type": "display_data"
    }
   ],
   "source": [
    "xfav = fav_count.breed\n",
    "yfav = fav_count.favorite_per_tweet\n",
    "\n",
    "fig, ax = plt.subplots(figsize = (15, 8))\n",
    "bars = ax.barh(xfav, yfav, color = 'teal')\n",
    "\n",
    "for bar in bars:\n",
    "  width = bar.get_width()\n",
    "  label_y_pos = bar.get_y() + bar.get_height() / 2\n",
    "  ax.text(width, label_y_pos, s = f'{width}', va = 'center')\n",
    "\n",
    "plt.xlabel('Favorites per Tweet', size = 12)\n",
    "plt.title('MOST FAVORITED DOG BREED', size = 20);"
   ]
  },
  {
   "cell_type": "code",
   "execution_count": 83,
   "id": "324c0e46",
   "metadata": {},
   "outputs": [
    {
     "data": {
      "image/png": "[encoded data removed]",
      "text/plain": [
       "<Figure size 1080x576 with 1 Axes>"
      ]
     },
     "metadata": {
      "needs_background": "light"
     },
     "output_type": "display_data"
    }
   ],
   "source": [
    "xrt = rt_count.breed\n",
    "yrt = rt_count.retweet_per_tweet\n",
    "\n",
    "fig, ax = plt.subplots(figsize = (15, 8))\n",
    "bars = ax.barh(xrt, yrt, color = 'darkkhaki')\n",
    "\n",
    "for bar in bars:\n",
    "  width = bar.get_width()\n",
    "  label_y_pos = bar.get_y() + bar.get_height() / 2\n",
    "  ax.text(width, label_y_pos, s = f'{width}', va = 'center')\n",
    "\n",
    "plt.xlabel('Retweets per Tweet', size = 12)\n",
    "plt.title('MOST RETWEETED DOG BREED', size = 20);"
   ]
  },
  {
   "cell_type": "markdown",
   "id": "d908a003",
   "metadata": {},
   "source": [
    "<i><b>Note:</b> the three codes above were referred to this [article](https://towardsdatascience.com/how-to-make-bar-and-hbar-charts-with-labels-using-matplotlib-b701ce70ba9c#9082).</i>"
   ]
  }
 ],
 "metadata": {
  "kernelspec": {
   "display_name": "Python 3 (ipykernel)",
   "language": "python",
   "name": "python3"
  },
  "language_info": {
   "codemirror_mode": {
    "name": "ipython",
    "version": 3
   },
   "file_extension": ".py",
   "mimetype": "text/x-python",
   "name": "python",
   "nbconvert_exporter": "python",
   "pygments_lexer": "ipython3",
   "version": "3.9.7"
  }
 },
 "nbformat": 4,
 "nbformat_minor": 5
}
