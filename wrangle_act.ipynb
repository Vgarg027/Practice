{
 "cells": [
  {
   "cell_type": "markdown",
   "metadata": {},
   "source": [
    "## Project: WeRateDogs Analysis [Wrangling and Analyzing Data]\n",
    "\n",
    "### Note: WeRateDogs is a Twitter account that rates people's dogs with a humorous comment about the dog.\n",
    "\n",
    "The dataset for this project is the tweet archive of Twitter user @dog_rates, also known as WeRateDogs. \n",
    "\n",
    "#### About The Ratings: \n",
    "These ratings almost always have a denominator of 10. \n",
    "The numerators, though? Almost always greater than 10. 11/10, 12/10, 13/10, etc. \n",
    "Why? Because \"they're good dogs Brent.\" WeRateDogs has over 4 million followers and has received international media coverage.\n",
    "\n",
    "#### Project Steps Overview\n",
    "The anlysis of this project will follow these steps:\n",
    "\n",
    "* Step 1: Gathering data\n",
    "* Step 2: Assessing data\n",
    "* Step 3: Cleaning data\n",
    "* Step 4: Storing data\n",
    "* Step 5: Analyzing, and visualizing data\n",
    "* Step 6: Reporting"
   ]
  },
  {
   "cell_type": "markdown",
   "metadata": {},
   "source": []
  },
  {
   "cell_type": "markdown",
   "metadata": {},
   "source": [
    "## STEP 1: Gathering Data\n",
    "\n",
    "Here we will collect our data from all the different sources that stores the data we need."
   ]
  },
  {
   "cell_type": "code",
   "execution_count": 1,
   "metadata": {},
   "outputs": [],
   "source": [
    "# Importing libraries\n",
    "import requests\n",
    "import pandas as pd\n",
    "import numpy as np\n",
    "import re\n",
    "import os\n",
    "import json\n",
    "from timeit import default_timer as timer\n",
    "import matplotlib.pyplot as plt\n",
    "%matplotlib inline"
   ]
  },
  {
   "cell_type": "markdown",
   "metadata": {},
   "source": [
    "#### 1st Data source: \n",
    "CSV File localy downloaded via link below\n",
    "* Content: Tweet Archive\n",
    "\n",
    "`https://d17h27t6h515a5.cloudfront.net/topher/2017/August/59a4e958_twitter-archive-enhanced/twitter-archive-enhanced.csv`"
   ]
  },
  {
   "cell_type": "code",
   "execution_count": 2,
   "metadata": {},
   "outputs": [
    {
     "data": {
      "text/html": [
       "<div>\n",
       "<style scoped>\n",
       "    .dataframe tbody tr th:only-of-type {\n",
       "        vertical-align: middle;\n",
       "    }\n",
       "\n",
       "    .dataframe tbody tr th {\n",
       "        vertical-align: top;\n",
       "    }\n",
       "\n",
       "    .dataframe thead th {\n",
       "        text-align: right;\n",
       "    }\n",
       "</style>\n",
       "<table border=\"1\" class=\"dataframe\">\n",
       "  <thead>\n",
       "    <tr style=\"text-align: right;\">\n",
       "      <th></th>\n",
       "      <th>tweet_id</th>\n",
       "      <th>in_reply_to_status_id</th>\n",
       "      <th>in_reply_to_user_id</th>\n",
       "      <th>timestamp</th>\n",
       "      <th>source</th>\n",
       "      <th>text</th>\n",
       "      <th>retweeted_status_id</th>\n",
       "      <th>retweeted_status_user_id</th>\n",
       "      <th>retweeted_status_timestamp</th>\n",
       "      <th>expanded_urls</th>\n",
       "      <th>rating_numerator</th>\n",
       "      <th>rating_denominator</th>\n",
       "      <th>name</th>\n",
       "      <th>doggo</th>\n",
       "      <th>floofer</th>\n",
       "      <th>pupper</th>\n",
       "      <th>puppo</th>\n",
       "    </tr>\n",
       "  </thead>\n",
       "  <tbody>\n",
       "    <tr>\n",
       "      <th>5</th>\n",
       "      <td>891087950875897856</td>\n",
       "      <td>NaN</td>\n",
       "      <td>NaN</td>\n",
       "      <td>2017-07-29 00:08:17 +0000</td>\n",
       "      <td>&lt;a href=\"http://twitter.com/download/iphone\" r...</td>\n",
       "      <td>Here we have a majestic great white breaching ...</td>\n",
       "      <td>NaN</td>\n",
       "      <td>NaN</td>\n",
       "      <td>NaN</td>\n",
       "      <td>https://twitter.com/dog_rates/status/891087950...</td>\n",
       "      <td>13</td>\n",
       "      <td>10</td>\n",
       "      <td>None</td>\n",
       "      <td>None</td>\n",
       "      <td>None</td>\n",
       "      <td>None</td>\n",
       "      <td>None</td>\n",
       "    </tr>\n",
       "    <tr>\n",
       "      <th>7</th>\n",
       "      <td>890729181411237888</td>\n",
       "      <td>NaN</td>\n",
       "      <td>NaN</td>\n",
       "      <td>2017-07-28 00:22:40 +0000</td>\n",
       "      <td>&lt;a href=\"http://twitter.com/download/iphone\" r...</td>\n",
       "      <td>When you watch your owner call another dog a g...</td>\n",
       "      <td>NaN</td>\n",
       "      <td>NaN</td>\n",
       "      <td>NaN</td>\n",
       "      <td>https://twitter.com/dog_rates/status/890729181...</td>\n",
       "      <td>13</td>\n",
       "      <td>10</td>\n",
       "      <td>None</td>\n",
       "      <td>None</td>\n",
       "      <td>None</td>\n",
       "      <td>None</td>\n",
       "      <td>None</td>\n",
       "    </tr>\n",
       "    <tr>\n",
       "      <th>12</th>\n",
       "      <td>889665388333682689</td>\n",
       "      <td>NaN</td>\n",
       "      <td>NaN</td>\n",
       "      <td>2017-07-25 01:55:32 +0000</td>\n",
       "      <td>&lt;a href=\"http://twitter.com/download/iphone\" r...</td>\n",
       "      <td>Here's a puppo that seems to be on the fence a...</td>\n",
       "      <td>NaN</td>\n",
       "      <td>NaN</td>\n",
       "      <td>NaN</td>\n",
       "      <td>https://twitter.com/dog_rates/status/889665388...</td>\n",
       "      <td>13</td>\n",
       "      <td>10</td>\n",
       "      <td>None</td>\n",
       "      <td>None</td>\n",
       "      <td>None</td>\n",
       "      <td>None</td>\n",
       "      <td>puppo</td>\n",
       "    </tr>\n",
       "    <tr>\n",
       "      <th>24</th>\n",
       "      <td>887343217045368832</td>\n",
       "      <td>NaN</td>\n",
       "      <td>NaN</td>\n",
       "      <td>2017-07-18 16:08:03 +0000</td>\n",
       "      <td>&lt;a href=\"http://twitter.com/download/iphone\" r...</td>\n",
       "      <td>You may not have known you needed to see this ...</td>\n",
       "      <td>NaN</td>\n",
       "      <td>NaN</td>\n",
       "      <td>NaN</td>\n",
       "      <td>https://twitter.com/dog_rates/status/887343217...</td>\n",
       "      <td>13</td>\n",
       "      <td>10</td>\n",
       "      <td>None</td>\n",
       "      <td>None</td>\n",
       "      <td>None</td>\n",
       "      <td>None</td>\n",
       "      <td>None</td>\n",
       "    </tr>\n",
       "    <tr>\n",
       "      <th>25</th>\n",
       "      <td>887101392804085760</td>\n",
       "      <td>NaN</td>\n",
       "      <td>NaN</td>\n",
       "      <td>2017-07-18 00:07:08 +0000</td>\n",
       "      <td>&lt;a href=\"http://twitter.com/download/iphone\" r...</td>\n",
       "      <td>This... is a Jubilant Antarctic House Bear. We...</td>\n",
       "      <td>NaN</td>\n",
       "      <td>NaN</td>\n",
       "      <td>NaN</td>\n",
       "      <td>https://twitter.com/dog_rates/status/887101392...</td>\n",
       "      <td>12</td>\n",
       "      <td>10</td>\n",
       "      <td>None</td>\n",
       "      <td>None</td>\n",
       "      <td>None</td>\n",
       "      <td>None</td>\n",
       "      <td>None</td>\n",
       "    </tr>\n",
       "    <tr>\n",
       "      <th>...</th>\n",
       "      <td>...</td>\n",
       "      <td>...</td>\n",
       "      <td>...</td>\n",
       "      <td>...</td>\n",
       "      <td>...</td>\n",
       "      <td>...</td>\n",
       "      <td>...</td>\n",
       "      <td>...</td>\n",
       "      <td>...</td>\n",
       "      <td>...</td>\n",
       "      <td>...</td>\n",
       "      <td>...</td>\n",
       "      <td>...</td>\n",
       "      <td>...</td>\n",
       "      <td>...</td>\n",
       "      <td>...</td>\n",
       "      <td>...</td>\n",
       "    </tr>\n",
       "    <tr>\n",
       "      <th>2342</th>\n",
       "      <td>666082916733198337</td>\n",
       "      <td>NaN</td>\n",
       "      <td>NaN</td>\n",
       "      <td>2015-11-16 02:38:37 +0000</td>\n",
       "      <td>&lt;a href=\"http://twitter.com/download/iphone\" r...</td>\n",
       "      <td>Here we have a well-established sunblockerspan...</td>\n",
       "      <td>NaN</td>\n",
       "      <td>NaN</td>\n",
       "      <td>NaN</td>\n",
       "      <td>https://twitter.com/dog_rates/status/666082916...</td>\n",
       "      <td>6</td>\n",
       "      <td>10</td>\n",
       "      <td>None</td>\n",
       "      <td>None</td>\n",
       "      <td>None</td>\n",
       "      <td>None</td>\n",
       "      <td>None</td>\n",
       "    </tr>\n",
       "    <tr>\n",
       "      <th>2343</th>\n",
       "      <td>666073100786774016</td>\n",
       "      <td>NaN</td>\n",
       "      <td>NaN</td>\n",
       "      <td>2015-11-16 01:59:36 +0000</td>\n",
       "      <td>&lt;a href=\"http://twitter.com/download/iphone\" r...</td>\n",
       "      <td>Let's hope this flight isn't Malaysian (lol). ...</td>\n",
       "      <td>NaN</td>\n",
       "      <td>NaN</td>\n",
       "      <td>NaN</td>\n",
       "      <td>https://twitter.com/dog_rates/status/666073100...</td>\n",
       "      <td>10</td>\n",
       "      <td>10</td>\n",
       "      <td>None</td>\n",
       "      <td>None</td>\n",
       "      <td>None</td>\n",
       "      <td>None</td>\n",
       "      <td>None</td>\n",
       "    </tr>\n",
       "    <tr>\n",
       "      <th>2344</th>\n",
       "      <td>666071193221509120</td>\n",
       "      <td>NaN</td>\n",
       "      <td>NaN</td>\n",
       "      <td>2015-11-16 01:52:02 +0000</td>\n",
       "      <td>&lt;a href=\"http://twitter.com/download/iphone\" r...</td>\n",
       "      <td>Here we have a northern speckled Rhododendron....</td>\n",
       "      <td>NaN</td>\n",
       "      <td>NaN</td>\n",
       "      <td>NaN</td>\n",
       "      <td>https://twitter.com/dog_rates/status/666071193...</td>\n",
       "      <td>9</td>\n",
       "      <td>10</td>\n",
       "      <td>None</td>\n",
       "      <td>None</td>\n",
       "      <td>None</td>\n",
       "      <td>None</td>\n",
       "      <td>None</td>\n",
       "    </tr>\n",
       "    <tr>\n",
       "      <th>2351</th>\n",
       "      <td>666049248165822465</td>\n",
       "      <td>NaN</td>\n",
       "      <td>NaN</td>\n",
       "      <td>2015-11-16 00:24:50 +0000</td>\n",
       "      <td>&lt;a href=\"http://twitter.com/download/iphone\" r...</td>\n",
       "      <td>Here we have a 1949 1st generation vulpix. Enj...</td>\n",
       "      <td>NaN</td>\n",
       "      <td>NaN</td>\n",
       "      <td>NaN</td>\n",
       "      <td>https://twitter.com/dog_rates/status/666049248...</td>\n",
       "      <td>5</td>\n",
       "      <td>10</td>\n",
       "      <td>None</td>\n",
       "      <td>None</td>\n",
       "      <td>None</td>\n",
       "      <td>None</td>\n",
       "      <td>None</td>\n",
       "    </tr>\n",
       "    <tr>\n",
       "      <th>2355</th>\n",
       "      <td>666020888022790149</td>\n",
       "      <td>NaN</td>\n",
       "      <td>NaN</td>\n",
       "      <td>2015-11-15 22:32:08 +0000</td>\n",
       "      <td>&lt;a href=\"http://twitter.com/download/iphone\" r...</td>\n",
       "      <td>Here we have a Japanese Irish Setter. Lost eye...</td>\n",
       "      <td>NaN</td>\n",
       "      <td>NaN</td>\n",
       "      <td>NaN</td>\n",
       "      <td>https://twitter.com/dog_rates/status/666020888...</td>\n",
       "      <td>8</td>\n",
       "      <td>10</td>\n",
       "      <td>None</td>\n",
       "      <td>None</td>\n",
       "      <td>None</td>\n",
       "      <td>None</td>\n",
       "      <td>None</td>\n",
       "    </tr>\n",
       "  </tbody>\n",
       "</table>\n",
       "<p>745 rows × 17 columns</p>\n",
       "</div>"
      ],
      "text/plain": [
       "                tweet_id  in_reply_to_status_id  in_reply_to_user_id  \\\n",
       "5     891087950875897856                    NaN                  NaN   \n",
       "7     890729181411237888                    NaN                  NaN   \n",
       "12    889665388333682689                    NaN                  NaN   \n",
       "24    887343217045368832                    NaN                  NaN   \n",
       "25    887101392804085760                    NaN                  NaN   \n",
       "...                  ...                    ...                  ...   \n",
       "2342  666082916733198337                    NaN                  NaN   \n",
       "2343  666073100786774016                    NaN                  NaN   \n",
       "2344  666071193221509120                    NaN                  NaN   \n",
       "2351  666049248165822465                    NaN                  NaN   \n",
       "2355  666020888022790149                    NaN                  NaN   \n",
       "\n",
       "                      timestamp  \\\n",
       "5     2017-07-29 00:08:17 +0000   \n",
       "7     2017-07-28 00:22:40 +0000   \n",
       "12    2017-07-25 01:55:32 +0000   \n",
       "24    2017-07-18 16:08:03 +0000   \n",
       "25    2017-07-18 00:07:08 +0000   \n",
       "...                         ...   \n",
       "2342  2015-11-16 02:38:37 +0000   \n",
       "2343  2015-11-16 01:59:36 +0000   \n",
       "2344  2015-11-16 01:52:02 +0000   \n",
       "2351  2015-11-16 00:24:50 +0000   \n",
       "2355  2015-11-15 22:32:08 +0000   \n",
       "\n",
       "                                                 source  \\\n",
       "5     <a href=\"http://twitter.com/download/iphone\" r...   \n",
       "7     <a href=\"http://twitter.com/download/iphone\" r...   \n",
       "12    <a href=\"http://twitter.com/download/iphone\" r...   \n",
       "24    <a href=\"http://twitter.com/download/iphone\" r...   \n",
       "25    <a href=\"http://twitter.com/download/iphone\" r...   \n",
       "...                                                 ...   \n",
       "2342  <a href=\"http://twitter.com/download/iphone\" r...   \n",
       "2343  <a href=\"http://twitter.com/download/iphone\" r...   \n",
       "2344  <a href=\"http://twitter.com/download/iphone\" r...   \n",
       "2351  <a href=\"http://twitter.com/download/iphone\" r...   \n",
       "2355  <a href=\"http://twitter.com/download/iphone\" r...   \n",
       "\n",
       "                                                   text  retweeted_status_id  \\\n",
       "5     Here we have a majestic great white breaching ...                  NaN   \n",
       "7     When you watch your owner call another dog a g...                  NaN   \n",
       "12    Here's a puppo that seems to be on the fence a...                  NaN   \n",
       "24    You may not have known you needed to see this ...                  NaN   \n",
       "25    This... is a Jubilant Antarctic House Bear. We...                  NaN   \n",
       "...                                                 ...                  ...   \n",
       "2342  Here we have a well-established sunblockerspan...                  NaN   \n",
       "2343  Let's hope this flight isn't Malaysian (lol). ...                  NaN   \n",
       "2344  Here we have a northern speckled Rhododendron....                  NaN   \n",
       "2351  Here we have a 1949 1st generation vulpix. Enj...                  NaN   \n",
       "2355  Here we have a Japanese Irish Setter. Lost eye...                  NaN   \n",
       "\n",
       "      retweeted_status_user_id retweeted_status_timestamp  \\\n",
       "5                          NaN                        NaN   \n",
       "7                          NaN                        NaN   \n",
       "12                         NaN                        NaN   \n",
       "24                         NaN                        NaN   \n",
       "25                         NaN                        NaN   \n",
       "...                        ...                        ...   \n",
       "2342                       NaN                        NaN   \n",
       "2343                       NaN                        NaN   \n",
       "2344                       NaN                        NaN   \n",
       "2351                       NaN                        NaN   \n",
       "2355                       NaN                        NaN   \n",
       "\n",
       "                                          expanded_urls  rating_numerator  \\\n",
       "5     https://twitter.com/dog_rates/status/891087950...                13   \n",
       "7     https://twitter.com/dog_rates/status/890729181...                13   \n",
       "12    https://twitter.com/dog_rates/status/889665388...                13   \n",
       "24    https://twitter.com/dog_rates/status/887343217...                13   \n",
       "25    https://twitter.com/dog_rates/status/887101392...                12   \n",
       "...                                                 ...               ...   \n",
       "2342  https://twitter.com/dog_rates/status/666082916...                 6   \n",
       "2343  https://twitter.com/dog_rates/status/666073100...                10   \n",
       "2344  https://twitter.com/dog_rates/status/666071193...                 9   \n",
       "2351  https://twitter.com/dog_rates/status/666049248...                 5   \n",
       "2355  https://twitter.com/dog_rates/status/666020888...                 8   \n",
       "\n",
       "      rating_denominator  name doggo floofer pupper  puppo  \n",
       "5                     10  None  None    None   None   None  \n",
       "7                     10  None  None    None   None   None  \n",
       "12                    10  None  None    None   None  puppo  \n",
       "24                    10  None  None    None   None   None  \n",
       "25                    10  None  None    None   None   None  \n",
       "...                  ...   ...   ...     ...    ...    ...  \n",
       "2342                  10  None  None    None   None   None  \n",
       "2343                  10  None  None    None   None   None  \n",
       "2344                  10  None  None    None   None   None  \n",
       "2351                  10  None  None    None   None   None  \n",
       "2355                  10  None  None    None   None   None  \n",
       "\n",
       "[745 rows x 17 columns]"
      ]
     },
     "execution_count": 2,
     "metadata": {},
     "output_type": "execute_result"
    }
   ],
   "source": [
    "# Reading the data into a pandas DataFrame.\n",
    "tweet_archive = pd.read_csv('twitter-archive.csv')\n",
    "\n",
    "# Getting Information about the dataset\n",
    "tweet_archive[tweet_archive.name == 'None']"
   ]
  },
  {
   "cell_type": "markdown",
   "metadata": {},
   "source": [
    "#### 2nd Data Source: \n",
    "Programmatically downloading files using the Requests library and the following URL below\n",
    "* Content: Tweet Image predictions present in each tweet according to a neural network\n",
    "\n",
    "`https://d17h27t6h515a5.cloudfront.net/topher/2017/August/599fd2ad_image-predictions/image-predictions.tsv`"
   ]
  },
  {
   "cell_type": "code",
   "execution_count": 3,
   "metadata": {},
   "outputs": [],
   "source": [
    "# Using request lib to get file from url\n",
    "url = 'https://d17h27t6h515a5.cloudfront.net/topher/2017/August/599fd2ad_image-predictions/image-predictions.tsv'\n",
    "response = requests.get(url)"
   ]
  },
  {
   "cell_type": "code",
   "execution_count": 4,
   "metadata": {
    "scrolled": true
   },
   "outputs": [
    {
     "name": "stdout",
     "output_type": "stream",
     "text": [
      "<Response [200]>\n"
     ]
    }
   ],
   "source": [
    "# Checking that the response was successfull\n",
    "print(response)"
   ]
  },
  {
   "cell_type": "code",
   "execution_count": 5,
   "metadata": {},
   "outputs": [],
   "source": [
    "# Save tsv file to local machine\n",
    "with open('image-predictions.tsv', mode='wb') as file:\n",
    "    file.write(response.content)"
   ]
  },
  {
   "cell_type": "code",
   "execution_count": 6,
   "metadata": {},
   "outputs": [
    {
     "data": {
      "text/html": [
       "<div>\n",
       "<style scoped>\n",
       "    .dataframe tbody tr th:only-of-type {\n",
       "        vertical-align: middle;\n",
       "    }\n",
       "\n",
       "    .dataframe tbody tr th {\n",
       "        vertical-align: top;\n",
       "    }\n",
       "\n",
       "    .dataframe thead th {\n",
       "        text-align: right;\n",
       "    }\n",
       "</style>\n",
       "<table border=\"1\" class=\"dataframe\">\n",
       "  <thead>\n",
       "    <tr style=\"text-align: right;\">\n",
       "      <th></th>\n",
       "      <th>tweet_id</th>\n",
       "      <th>jpg_url</th>\n",
       "      <th>img_num</th>\n",
       "      <th>p1</th>\n",
       "      <th>p1_conf</th>\n",
       "      <th>p1_dog</th>\n",
       "      <th>p2</th>\n",
       "      <th>p2_conf</th>\n",
       "      <th>p2_dog</th>\n",
       "      <th>p3</th>\n",
       "      <th>p3_conf</th>\n",
       "      <th>p3_dog</th>\n",
       "    </tr>\n",
       "  </thead>\n",
       "  <tbody>\n",
       "    <tr>\n",
       "      <th>0</th>\n",
       "      <td>666020888022790149</td>\n",
       "      <td>https://pbs.twimg.com/media/CT4udn0WwAA0aMy.jpg</td>\n",
       "      <td>1</td>\n",
       "      <td>Welsh_springer_spaniel</td>\n",
       "      <td>0.465074</td>\n",
       "      <td>True</td>\n",
       "      <td>collie</td>\n",
       "      <td>0.156665</td>\n",
       "      <td>True</td>\n",
       "      <td>Shetland_sheepdog</td>\n",
       "      <td>0.061428</td>\n",
       "      <td>True</td>\n",
       "    </tr>\n",
       "    <tr>\n",
       "      <th>1</th>\n",
       "      <td>666029285002620928</td>\n",
       "      <td>https://pbs.twimg.com/media/CT42GRgUYAA5iDo.jpg</td>\n",
       "      <td>1</td>\n",
       "      <td>redbone</td>\n",
       "      <td>0.506826</td>\n",
       "      <td>True</td>\n",
       "      <td>miniature_pinscher</td>\n",
       "      <td>0.074192</td>\n",
       "      <td>True</td>\n",
       "      <td>Rhodesian_ridgeback</td>\n",
       "      <td>0.072010</td>\n",
       "      <td>True</td>\n",
       "    </tr>\n",
       "    <tr>\n",
       "      <th>2</th>\n",
       "      <td>666033412701032449</td>\n",
       "      <td>https://pbs.twimg.com/media/CT4521TWwAEvMyu.jpg</td>\n",
       "      <td>1</td>\n",
       "      <td>German_shepherd</td>\n",
       "      <td>0.596461</td>\n",
       "      <td>True</td>\n",
       "      <td>malinois</td>\n",
       "      <td>0.138584</td>\n",
       "      <td>True</td>\n",
       "      <td>bloodhound</td>\n",
       "      <td>0.116197</td>\n",
       "      <td>True</td>\n",
       "    </tr>\n",
       "    <tr>\n",
       "      <th>3</th>\n",
       "      <td>666044226329800704</td>\n",
       "      <td>https://pbs.twimg.com/media/CT5Dr8HUEAA-lEu.jpg</td>\n",
       "      <td>1</td>\n",
       "      <td>Rhodesian_ridgeback</td>\n",
       "      <td>0.408143</td>\n",
       "      <td>True</td>\n",
       "      <td>redbone</td>\n",
       "      <td>0.360687</td>\n",
       "      <td>True</td>\n",
       "      <td>miniature_pinscher</td>\n",
       "      <td>0.222752</td>\n",
       "      <td>True</td>\n",
       "    </tr>\n",
       "    <tr>\n",
       "      <th>4</th>\n",
       "      <td>666049248165822465</td>\n",
       "      <td>https://pbs.twimg.com/media/CT5IQmsXIAAKY4A.jpg</td>\n",
       "      <td>1</td>\n",
       "      <td>miniature_pinscher</td>\n",
       "      <td>0.560311</td>\n",
       "      <td>True</td>\n",
       "      <td>Rottweiler</td>\n",
       "      <td>0.243682</td>\n",
       "      <td>True</td>\n",
       "      <td>Doberman</td>\n",
       "      <td>0.154629</td>\n",
       "      <td>True</td>\n",
       "    </tr>\n",
       "    <tr>\n",
       "      <th>5</th>\n",
       "      <td>666050758794694657</td>\n",
       "      <td>https://pbs.twimg.com/media/CT5Jof1WUAEuVxN.jpg</td>\n",
       "      <td>1</td>\n",
       "      <td>Bernese_mountain_dog</td>\n",
       "      <td>0.651137</td>\n",
       "      <td>True</td>\n",
       "      <td>English_springer</td>\n",
       "      <td>0.263788</td>\n",
       "      <td>True</td>\n",
       "      <td>Greater_Swiss_Mountain_dog</td>\n",
       "      <td>0.016199</td>\n",
       "      <td>True</td>\n",
       "    </tr>\n",
       "    <tr>\n",
       "      <th>6</th>\n",
       "      <td>666051853826850816</td>\n",
       "      <td>https://pbs.twimg.com/media/CT5KoJ1WoAAJash.jpg</td>\n",
       "      <td>1</td>\n",
       "      <td>box_turtle</td>\n",
       "      <td>0.933012</td>\n",
       "      <td>False</td>\n",
       "      <td>mud_turtle</td>\n",
       "      <td>0.045885</td>\n",
       "      <td>False</td>\n",
       "      <td>terrapin</td>\n",
       "      <td>0.017885</td>\n",
       "      <td>False</td>\n",
       "    </tr>\n",
       "    <tr>\n",
       "      <th>7</th>\n",
       "      <td>666055525042405380</td>\n",
       "      <td>https://pbs.twimg.com/media/CT5N9tpXIAAifs1.jpg</td>\n",
       "      <td>1</td>\n",
       "      <td>chow</td>\n",
       "      <td>0.692517</td>\n",
       "      <td>True</td>\n",
       "      <td>Tibetan_mastiff</td>\n",
       "      <td>0.058279</td>\n",
       "      <td>True</td>\n",
       "      <td>fur_coat</td>\n",
       "      <td>0.054449</td>\n",
       "      <td>False</td>\n",
       "    </tr>\n",
       "    <tr>\n",
       "      <th>8</th>\n",
       "      <td>666057090499244032</td>\n",
       "      <td>https://pbs.twimg.com/media/CT5PY90WoAAQGLo.jpg</td>\n",
       "      <td>1</td>\n",
       "      <td>shopping_cart</td>\n",
       "      <td>0.962465</td>\n",
       "      <td>False</td>\n",
       "      <td>shopping_basket</td>\n",
       "      <td>0.014594</td>\n",
       "      <td>False</td>\n",
       "      <td>golden_retriever</td>\n",
       "      <td>0.007959</td>\n",
       "      <td>True</td>\n",
       "    </tr>\n",
       "    <tr>\n",
       "      <th>9</th>\n",
       "      <td>666058600524156928</td>\n",
       "      <td>https://pbs.twimg.com/media/CT5Qw94XAAA_2dP.jpg</td>\n",
       "      <td>1</td>\n",
       "      <td>miniature_poodle</td>\n",
       "      <td>0.201493</td>\n",
       "      <td>True</td>\n",
       "      <td>komondor</td>\n",
       "      <td>0.192305</td>\n",
       "      <td>True</td>\n",
       "      <td>soft-coated_wheaten_terrier</td>\n",
       "      <td>0.082086</td>\n",
       "      <td>True</td>\n",
       "    </tr>\n",
       "    <tr>\n",
       "      <th>10</th>\n",
       "      <td>666063827256086533</td>\n",
       "      <td>https://pbs.twimg.com/media/CT5Vg_wXIAAXfnj.jpg</td>\n",
       "      <td>1</td>\n",
       "      <td>golden_retriever</td>\n",
       "      <td>0.775930</td>\n",
       "      <td>True</td>\n",
       "      <td>Tibetan_mastiff</td>\n",
       "      <td>0.093718</td>\n",
       "      <td>True</td>\n",
       "      <td>Labrador_retriever</td>\n",
       "      <td>0.072427</td>\n",
       "      <td>True</td>\n",
       "    </tr>\n",
       "    <tr>\n",
       "      <th>11</th>\n",
       "      <td>666071193221509120</td>\n",
       "      <td>https://pbs.twimg.com/media/CT5cN_3WEAAlOoZ.jpg</td>\n",
       "      <td>1</td>\n",
       "      <td>Gordon_setter</td>\n",
       "      <td>0.503672</td>\n",
       "      <td>True</td>\n",
       "      <td>Yorkshire_terrier</td>\n",
       "      <td>0.174201</td>\n",
       "      <td>True</td>\n",
       "      <td>Pekinese</td>\n",
       "      <td>0.109454</td>\n",
       "      <td>True</td>\n",
       "    </tr>\n",
       "    <tr>\n",
       "      <th>12</th>\n",
       "      <td>666073100786774016</td>\n",
       "      <td>https://pbs.twimg.com/media/CT5d9DZXAAALcwe.jpg</td>\n",
       "      <td>1</td>\n",
       "      <td>Walker_hound</td>\n",
       "      <td>0.260857</td>\n",
       "      <td>True</td>\n",
       "      <td>English_foxhound</td>\n",
       "      <td>0.175382</td>\n",
       "      <td>True</td>\n",
       "      <td>Ibizan_hound</td>\n",
       "      <td>0.097471</td>\n",
       "      <td>True</td>\n",
       "    </tr>\n",
       "    <tr>\n",
       "      <th>13</th>\n",
       "      <td>666082916733198337</td>\n",
       "      <td>https://pbs.twimg.com/media/CT5m4VGWEAAtKc8.jpg</td>\n",
       "      <td>1</td>\n",
       "      <td>pug</td>\n",
       "      <td>0.489814</td>\n",
       "      <td>True</td>\n",
       "      <td>bull_mastiff</td>\n",
       "      <td>0.404722</td>\n",
       "      <td>True</td>\n",
       "      <td>French_bulldog</td>\n",
       "      <td>0.048960</td>\n",
       "      <td>True</td>\n",
       "    </tr>\n",
       "    <tr>\n",
       "      <th>14</th>\n",
       "      <td>666094000022159362</td>\n",
       "      <td>https://pbs.twimg.com/media/CT5w9gUW4AAsBNN.jpg</td>\n",
       "      <td>1</td>\n",
       "      <td>bloodhound</td>\n",
       "      <td>0.195217</td>\n",
       "      <td>True</td>\n",
       "      <td>German_shepherd</td>\n",
       "      <td>0.078260</td>\n",
       "      <td>True</td>\n",
       "      <td>malinois</td>\n",
       "      <td>0.075628</td>\n",
       "      <td>True</td>\n",
       "    </tr>\n",
       "    <tr>\n",
       "      <th>15</th>\n",
       "      <td>666099513787052032</td>\n",
       "      <td>https://pbs.twimg.com/media/CT51-JJUEAA6hV8.jpg</td>\n",
       "      <td>1</td>\n",
       "      <td>Lhasa</td>\n",
       "      <td>0.582330</td>\n",
       "      <td>True</td>\n",
       "      <td>Shih-Tzu</td>\n",
       "      <td>0.166192</td>\n",
       "      <td>True</td>\n",
       "      <td>Dandie_Dinmont</td>\n",
       "      <td>0.089688</td>\n",
       "      <td>True</td>\n",
       "    </tr>\n",
       "    <tr>\n",
       "      <th>16</th>\n",
       "      <td>666102155909144576</td>\n",
       "      <td>https://pbs.twimg.com/media/CT54YGiWUAEZnoK.jpg</td>\n",
       "      <td>1</td>\n",
       "      <td>English_setter</td>\n",
       "      <td>0.298617</td>\n",
       "      <td>True</td>\n",
       "      <td>Newfoundland</td>\n",
       "      <td>0.149842</td>\n",
       "      <td>True</td>\n",
       "      <td>borzoi</td>\n",
       "      <td>0.133649</td>\n",
       "      <td>True</td>\n",
       "    </tr>\n",
       "    <tr>\n",
       "      <th>17</th>\n",
       "      <td>666104133288665088</td>\n",
       "      <td>https://pbs.twimg.com/media/CT56LSZWoAAlJj2.jpg</td>\n",
       "      <td>1</td>\n",
       "      <td>hen</td>\n",
       "      <td>0.965932</td>\n",
       "      <td>False</td>\n",
       "      <td>cock</td>\n",
       "      <td>0.033919</td>\n",
       "      <td>False</td>\n",
       "      <td>partridge</td>\n",
       "      <td>0.000052</td>\n",
       "      <td>False</td>\n",
       "    </tr>\n",
       "    <tr>\n",
       "      <th>18</th>\n",
       "      <td>666268910803644416</td>\n",
       "      <td>https://pbs.twimg.com/media/CT8QCd1WEAADXws.jpg</td>\n",
       "      <td>1</td>\n",
       "      <td>desktop_computer</td>\n",
       "      <td>0.086502</td>\n",
       "      <td>False</td>\n",
       "      <td>desk</td>\n",
       "      <td>0.085547</td>\n",
       "      <td>False</td>\n",
       "      <td>bookcase</td>\n",
       "      <td>0.079480</td>\n",
       "      <td>False</td>\n",
       "    </tr>\n",
       "    <tr>\n",
       "      <th>19</th>\n",
       "      <td>666273097616637952</td>\n",
       "      <td>https://pbs.twimg.com/media/CT8T1mtUwAA3aqm.jpg</td>\n",
       "      <td>1</td>\n",
       "      <td>Italian_greyhound</td>\n",
       "      <td>0.176053</td>\n",
       "      <td>True</td>\n",
       "      <td>toy_terrier</td>\n",
       "      <td>0.111884</td>\n",
       "      <td>True</td>\n",
       "      <td>basenji</td>\n",
       "      <td>0.111152</td>\n",
       "      <td>True</td>\n",
       "    </tr>\n",
       "  </tbody>\n",
       "</table>\n",
       "</div>"
      ],
      "text/plain": [
       "              tweet_id                                          jpg_url  \\\n",
       "0   666020888022790149  https://pbs.twimg.com/media/CT4udn0WwAA0aMy.jpg   \n",
       "1   666029285002620928  https://pbs.twimg.com/media/CT42GRgUYAA5iDo.jpg   \n",
       "2   666033412701032449  https://pbs.twimg.com/media/CT4521TWwAEvMyu.jpg   \n",
       "3   666044226329800704  https://pbs.twimg.com/media/CT5Dr8HUEAA-lEu.jpg   \n",
       "4   666049248165822465  https://pbs.twimg.com/media/CT5IQmsXIAAKY4A.jpg   \n",
       "5   666050758794694657  https://pbs.twimg.com/media/CT5Jof1WUAEuVxN.jpg   \n",
       "6   666051853826850816  https://pbs.twimg.com/media/CT5KoJ1WoAAJash.jpg   \n",
       "7   666055525042405380  https://pbs.twimg.com/media/CT5N9tpXIAAifs1.jpg   \n",
       "8   666057090499244032  https://pbs.twimg.com/media/CT5PY90WoAAQGLo.jpg   \n",
       "9   666058600524156928  https://pbs.twimg.com/media/CT5Qw94XAAA_2dP.jpg   \n",
       "10  666063827256086533  https://pbs.twimg.com/media/CT5Vg_wXIAAXfnj.jpg   \n",
       "11  666071193221509120  https://pbs.twimg.com/media/CT5cN_3WEAAlOoZ.jpg   \n",
       "12  666073100786774016  https://pbs.twimg.com/media/CT5d9DZXAAALcwe.jpg   \n",
       "13  666082916733198337  https://pbs.twimg.com/media/CT5m4VGWEAAtKc8.jpg   \n",
       "14  666094000022159362  https://pbs.twimg.com/media/CT5w9gUW4AAsBNN.jpg   \n",
       "15  666099513787052032  https://pbs.twimg.com/media/CT51-JJUEAA6hV8.jpg   \n",
       "16  666102155909144576  https://pbs.twimg.com/media/CT54YGiWUAEZnoK.jpg   \n",
       "17  666104133288665088  https://pbs.twimg.com/media/CT56LSZWoAAlJj2.jpg   \n",
       "18  666268910803644416  https://pbs.twimg.com/media/CT8QCd1WEAADXws.jpg   \n",
       "19  666273097616637952  https://pbs.twimg.com/media/CT8T1mtUwAA3aqm.jpg   \n",
       "\n",
       "    img_num                      p1   p1_conf  p1_dog                  p2  \\\n",
       "0         1  Welsh_springer_spaniel  0.465074    True              collie   \n",
       "1         1                 redbone  0.506826    True  miniature_pinscher   \n",
       "2         1         German_shepherd  0.596461    True            malinois   \n",
       "3         1     Rhodesian_ridgeback  0.408143    True             redbone   \n",
       "4         1      miniature_pinscher  0.560311    True          Rottweiler   \n",
       "5         1    Bernese_mountain_dog  0.651137    True    English_springer   \n",
       "6         1              box_turtle  0.933012   False          mud_turtle   \n",
       "7         1                    chow  0.692517    True     Tibetan_mastiff   \n",
       "8         1           shopping_cart  0.962465   False     shopping_basket   \n",
       "9         1        miniature_poodle  0.201493    True            komondor   \n",
       "10        1        golden_retriever  0.775930    True     Tibetan_mastiff   \n",
       "11        1           Gordon_setter  0.503672    True   Yorkshire_terrier   \n",
       "12        1            Walker_hound  0.260857    True    English_foxhound   \n",
       "13        1                     pug  0.489814    True        bull_mastiff   \n",
       "14        1              bloodhound  0.195217    True     German_shepherd   \n",
       "15        1                   Lhasa  0.582330    True            Shih-Tzu   \n",
       "16        1          English_setter  0.298617    True        Newfoundland   \n",
       "17        1                     hen  0.965932   False                cock   \n",
       "18        1        desktop_computer  0.086502   False                desk   \n",
       "19        1       Italian_greyhound  0.176053    True         toy_terrier   \n",
       "\n",
       "     p2_conf  p2_dog                           p3   p3_conf  p3_dog  \n",
       "0   0.156665    True            Shetland_sheepdog  0.061428    True  \n",
       "1   0.074192    True          Rhodesian_ridgeback  0.072010    True  \n",
       "2   0.138584    True                   bloodhound  0.116197    True  \n",
       "3   0.360687    True           miniature_pinscher  0.222752    True  \n",
       "4   0.243682    True                     Doberman  0.154629    True  \n",
       "5   0.263788    True   Greater_Swiss_Mountain_dog  0.016199    True  \n",
       "6   0.045885   False                     terrapin  0.017885   False  \n",
       "7   0.058279    True                     fur_coat  0.054449   False  \n",
       "8   0.014594   False             golden_retriever  0.007959    True  \n",
       "9   0.192305    True  soft-coated_wheaten_terrier  0.082086    True  \n",
       "10  0.093718    True           Labrador_retriever  0.072427    True  \n",
       "11  0.174201    True                     Pekinese  0.109454    True  \n",
       "12  0.175382    True                 Ibizan_hound  0.097471    True  \n",
       "13  0.404722    True               French_bulldog  0.048960    True  \n",
       "14  0.078260    True                     malinois  0.075628    True  \n",
       "15  0.166192    True               Dandie_Dinmont  0.089688    True  \n",
       "16  0.149842    True                       borzoi  0.133649    True  \n",
       "17  0.033919   False                    partridge  0.000052   False  \n",
       "18  0.085547   False                     bookcase  0.079480   False  \n",
       "19  0.111884    True                      basenji  0.111152    True  "
      ]
     },
     "execution_count": 6,
     "metadata": {},
     "output_type": "execute_result"
    }
   ],
   "source": [
    "# Reading the image-predictions data into a pandas DataFrame\n",
    "img_pd = pd.read_csv('image-predictions.tsv', sep= '\\t')\n",
    "\n",
    "# Getting Information about the dataset\n",
    "img_pd.head(20)"
   ]
  },
  {
   "cell_type": "code",
   "execution_count": 7,
   "metadata": {},
   "outputs": [
    {
     "data": {
      "text/html": [
       "<div>\n",
       "<style scoped>\n",
       "    .dataframe tbody tr th:only-of-type {\n",
       "        vertical-align: middle;\n",
       "    }\n",
       "\n",
       "    .dataframe tbody tr th {\n",
       "        vertical-align: top;\n",
       "    }\n",
       "\n",
       "    .dataframe thead th {\n",
       "        text-align: right;\n",
       "    }\n",
       "</style>\n",
       "<table border=\"1\" class=\"dataframe\">\n",
       "  <thead>\n",
       "    <tr style=\"text-align: right;\">\n",
       "      <th></th>\n",
       "      <th>tweet_id</th>\n",
       "      <th>jpg_url</th>\n",
       "      <th>img_num</th>\n",
       "      <th>p1</th>\n",
       "      <th>p1_conf</th>\n",
       "      <th>p1_dog</th>\n",
       "      <th>p2</th>\n",
       "      <th>p2_conf</th>\n",
       "      <th>p2_dog</th>\n",
       "      <th>p3</th>\n",
       "      <th>p3_conf</th>\n",
       "      <th>p3_dog</th>\n",
       "    </tr>\n",
       "  </thead>\n",
       "  <tbody>\n",
       "    <tr>\n",
       "      <th>6</th>\n",
       "      <td>666051853826850816</td>\n",
       "      <td>https://pbs.twimg.com/media/CT5KoJ1WoAAJash.jpg</td>\n",
       "      <td>1</td>\n",
       "      <td>box_turtle</td>\n",
       "      <td>0.933012</td>\n",
       "      <td>False</td>\n",
       "      <td>mud_turtle</td>\n",
       "      <td>0.045885</td>\n",
       "      <td>False</td>\n",
       "      <td>terrapin</td>\n",
       "      <td>0.017885</td>\n",
       "      <td>False</td>\n",
       "    </tr>\n",
       "    <tr>\n",
       "      <th>8</th>\n",
       "      <td>666057090499244032</td>\n",
       "      <td>https://pbs.twimg.com/media/CT5PY90WoAAQGLo.jpg</td>\n",
       "      <td>1</td>\n",
       "      <td>shopping_cart</td>\n",
       "      <td>0.962465</td>\n",
       "      <td>False</td>\n",
       "      <td>shopping_basket</td>\n",
       "      <td>0.014594</td>\n",
       "      <td>False</td>\n",
       "      <td>golden_retriever</td>\n",
       "      <td>0.007959</td>\n",
       "      <td>True</td>\n",
       "    </tr>\n",
       "    <tr>\n",
       "      <th>17</th>\n",
       "      <td>666104133288665088</td>\n",
       "      <td>https://pbs.twimg.com/media/CT56LSZWoAAlJj2.jpg</td>\n",
       "      <td>1</td>\n",
       "      <td>hen</td>\n",
       "      <td>0.965932</td>\n",
       "      <td>False</td>\n",
       "      <td>cock</td>\n",
       "      <td>0.033919</td>\n",
       "      <td>False</td>\n",
       "      <td>partridge</td>\n",
       "      <td>0.000052</td>\n",
       "      <td>False</td>\n",
       "    </tr>\n",
       "    <tr>\n",
       "      <th>18</th>\n",
       "      <td>666268910803644416</td>\n",
       "      <td>https://pbs.twimg.com/media/CT8QCd1WEAADXws.jpg</td>\n",
       "      <td>1</td>\n",
       "      <td>desktop_computer</td>\n",
       "      <td>0.086502</td>\n",
       "      <td>False</td>\n",
       "      <td>desk</td>\n",
       "      <td>0.085547</td>\n",
       "      <td>False</td>\n",
       "      <td>bookcase</td>\n",
       "      <td>0.079480</td>\n",
       "      <td>False</td>\n",
       "    </tr>\n",
       "    <tr>\n",
       "      <th>21</th>\n",
       "      <td>666293911632134144</td>\n",
       "      <td>https://pbs.twimg.com/media/CT8mx7KW4AEQu8N.jpg</td>\n",
       "      <td>1</td>\n",
       "      <td>three-toed_sloth</td>\n",
       "      <td>0.914671</td>\n",
       "      <td>False</td>\n",
       "      <td>otter</td>\n",
       "      <td>0.015250</td>\n",
       "      <td>False</td>\n",
       "      <td>great_grey_owl</td>\n",
       "      <td>0.013207</td>\n",
       "      <td>False</td>\n",
       "    </tr>\n",
       "    <tr>\n",
       "      <th>...</th>\n",
       "      <td>...</td>\n",
       "      <td>...</td>\n",
       "      <td>...</td>\n",
       "      <td>...</td>\n",
       "      <td>...</td>\n",
       "      <td>...</td>\n",
       "      <td>...</td>\n",
       "      <td>...</td>\n",
       "      <td>...</td>\n",
       "      <td>...</td>\n",
       "      <td>...</td>\n",
       "      <td>...</td>\n",
       "    </tr>\n",
       "    <tr>\n",
       "      <th>2026</th>\n",
       "      <td>882045870035918850</td>\n",
       "      <td>https://pbs.twimg.com/media/DD2oCl2WAAEI_4a.jpg</td>\n",
       "      <td>1</td>\n",
       "      <td>web_site</td>\n",
       "      <td>0.949591</td>\n",
       "      <td>False</td>\n",
       "      <td>dhole</td>\n",
       "      <td>0.017326</td>\n",
       "      <td>False</td>\n",
       "      <td>golden_retriever</td>\n",
       "      <td>0.006941</td>\n",
       "      <td>True</td>\n",
       "    </tr>\n",
       "    <tr>\n",
       "      <th>2046</th>\n",
       "      <td>886680336477933568</td>\n",
       "      <td>https://pbs.twimg.com/media/DE4fEDzWAAAyHMM.jpg</td>\n",
       "      <td>1</td>\n",
       "      <td>convertible</td>\n",
       "      <td>0.738995</td>\n",
       "      <td>False</td>\n",
       "      <td>sports_car</td>\n",
       "      <td>0.139952</td>\n",
       "      <td>False</td>\n",
       "      <td>car_wheel</td>\n",
       "      <td>0.044173</td>\n",
       "      <td>False</td>\n",
       "    </tr>\n",
       "    <tr>\n",
       "      <th>2052</th>\n",
       "      <td>887517139158093824</td>\n",
       "      <td>https://pbs.twimg.com/ext_tw_video_thumb/88751...</td>\n",
       "      <td>1</td>\n",
       "      <td>limousine</td>\n",
       "      <td>0.130432</td>\n",
       "      <td>False</td>\n",
       "      <td>tow_truck</td>\n",
       "      <td>0.029175</td>\n",
       "      <td>False</td>\n",
       "      <td>shopping_cart</td>\n",
       "      <td>0.026321</td>\n",
       "      <td>False</td>\n",
       "    </tr>\n",
       "    <tr>\n",
       "      <th>2071</th>\n",
       "      <td>891689557279858688</td>\n",
       "      <td>https://pbs.twimg.com/media/DF_q7IAWsAEuuN8.jpg</td>\n",
       "      <td>1</td>\n",
       "      <td>paper_towel</td>\n",
       "      <td>0.170278</td>\n",
       "      <td>False</td>\n",
       "      <td>Labrador_retriever</td>\n",
       "      <td>0.168086</td>\n",
       "      <td>True</td>\n",
       "      <td>spatula</td>\n",
       "      <td>0.040836</td>\n",
       "      <td>False</td>\n",
       "    </tr>\n",
       "    <tr>\n",
       "      <th>2074</th>\n",
       "      <td>892420643555336193</td>\n",
       "      <td>https://pbs.twimg.com/media/DGKD1-bXoAAIAUK.jpg</td>\n",
       "      <td>1</td>\n",
       "      <td>orange</td>\n",
       "      <td>0.097049</td>\n",
       "      <td>False</td>\n",
       "      <td>bagel</td>\n",
       "      <td>0.085851</td>\n",
       "      <td>False</td>\n",
       "      <td>banana</td>\n",
       "      <td>0.076110</td>\n",
       "      <td>False</td>\n",
       "    </tr>\n",
       "  </tbody>\n",
       "</table>\n",
       "<p>543 rows × 12 columns</p>\n",
       "</div>"
      ],
      "text/plain": [
       "                tweet_id                                            jpg_url  \\\n",
       "6     666051853826850816    https://pbs.twimg.com/media/CT5KoJ1WoAAJash.jpg   \n",
       "8     666057090499244032    https://pbs.twimg.com/media/CT5PY90WoAAQGLo.jpg   \n",
       "17    666104133288665088    https://pbs.twimg.com/media/CT56LSZWoAAlJj2.jpg   \n",
       "18    666268910803644416    https://pbs.twimg.com/media/CT8QCd1WEAADXws.jpg   \n",
       "21    666293911632134144    https://pbs.twimg.com/media/CT8mx7KW4AEQu8N.jpg   \n",
       "...                  ...                                                ...   \n",
       "2026  882045870035918850    https://pbs.twimg.com/media/DD2oCl2WAAEI_4a.jpg   \n",
       "2046  886680336477933568    https://pbs.twimg.com/media/DE4fEDzWAAAyHMM.jpg   \n",
       "2052  887517139158093824  https://pbs.twimg.com/ext_tw_video_thumb/88751...   \n",
       "2071  891689557279858688    https://pbs.twimg.com/media/DF_q7IAWsAEuuN8.jpg   \n",
       "2074  892420643555336193    https://pbs.twimg.com/media/DGKD1-bXoAAIAUK.jpg   \n",
       "\n",
       "      img_num                p1   p1_conf  p1_dog                  p2  \\\n",
       "6           1        box_turtle  0.933012   False          mud_turtle   \n",
       "8           1     shopping_cart  0.962465   False     shopping_basket   \n",
       "17          1               hen  0.965932   False                cock   \n",
       "18          1  desktop_computer  0.086502   False                desk   \n",
       "21          1  three-toed_sloth  0.914671   False               otter   \n",
       "...       ...               ...       ...     ...                 ...   \n",
       "2026        1          web_site  0.949591   False               dhole   \n",
       "2046        1       convertible  0.738995   False          sports_car   \n",
       "2052        1         limousine  0.130432   False           tow_truck   \n",
       "2071        1       paper_towel  0.170278   False  Labrador_retriever   \n",
       "2074        1            orange  0.097049   False               bagel   \n",
       "\n",
       "       p2_conf  p2_dog                p3   p3_conf  p3_dog  \n",
       "6     0.045885   False          terrapin  0.017885   False  \n",
       "8     0.014594   False  golden_retriever  0.007959    True  \n",
       "17    0.033919   False         partridge  0.000052   False  \n",
       "18    0.085547   False          bookcase  0.079480   False  \n",
       "21    0.015250   False    great_grey_owl  0.013207   False  \n",
       "...        ...     ...               ...       ...     ...  \n",
       "2026  0.017326   False  golden_retriever  0.006941    True  \n",
       "2046  0.139952   False         car_wheel  0.044173   False  \n",
       "2052  0.029175   False     shopping_cart  0.026321   False  \n",
       "2071  0.168086    True           spatula  0.040836   False  \n",
       "2074  0.085851   False            banana  0.076110   False  \n",
       "\n",
       "[543 rows x 12 columns]"
      ]
     },
     "execution_count": 7,
     "metadata": {},
     "output_type": "execute_result"
    }
   ],
   "source": [
    "img_pd[img_pd.p1_dog == False]\n",
    "#img_pd[img_pd.p2_dog == False]\n",
    "#img_pd[img_pd.p3_dog == False]"
   ]
  },
  {
   "cell_type": "code",
   "execution_count": 8,
   "metadata": {},
   "outputs": [
    {
     "name": "stdout",
     "output_type": "stream",
     "text": [
      "tweet_id    543\n",
      "jpg_url     543\n",
      "img_num     543\n",
      "p1          543\n",
      "p1_conf     543\n",
      "p1_dog      543\n",
      "p2          543\n",
      "p2_conf     543\n",
      "p2_dog      543\n",
      "p3          543\n",
      "p3_conf     543\n",
      "p3_dog      543\n",
      "dtype: int64 \n",
      " tweet_id    522\n",
      "jpg_url     522\n",
      "img_num     522\n",
      "p1          522\n",
      "p1_conf     522\n",
      "p1_dog      522\n",
      "p2          522\n",
      "p2_conf     522\n",
      "p2_dog      522\n",
      "p3          522\n",
      "p3_conf     522\n",
      "p3_dog      522\n",
      "dtype: int64 \n",
      " tweet_id    576\n",
      "jpg_url     576\n",
      "img_num     576\n",
      "p1          576\n",
      "p1_conf     576\n",
      "p1_dog      576\n",
      "p2          576\n",
      "p2_conf     576\n",
      "p2_dog      576\n",
      "p3          576\n",
      "p3_conf     576\n",
      "p3_dog      576\n",
      "dtype: int64\n"
     ]
    }
   ],
   "source": [
    "print(img_pd[img_pd['p1_dog'] == False].count(),\n",
    "      '\\n',img_pd[img_pd['p2_dog'] == False].count(),\n",
    "      '\\n',img_pd[img_pd['p3_dog'] == False].count())"
   ]
  },
  {
   "cell_type": "markdown",
   "metadata": {},
   "source": [
    "#### 3rd Data Source: \n",
    "(Using the Tweepy library to query additional data via the Twitter API) Alternatively we are using tweet_json.txt\n",
    "* Content: Twitter ID, Retweet count and favorite count"
   ]
  },
  {
   "cell_type": "code",
   "execution_count": 9,
   "metadata": {},
   "outputs": [],
   "source": [
    "# Converting .TXT to Data Frame\n",
    "# Creating an empty list to contain our data. A list to be converted to a DataFrame\n",
    "tweet_jpd = []\n",
    "with open('tweet_json.txt', 'r') as file:\n",
    "    # Reading each line in the txt file\n",
    "    for line in file:\n",
    "        # Processing each line to a json file object / Python Dictionary\n",
    "        tweets = json.loads(line)\n",
    "        tweet_id = tweets['id']\n",
    "        retweet_count = tweets['retweet_count']\n",
    "        favorite_count = tweets['favorite_count']\n",
    "        # Appending each json obsect to our empty list\n",
    "        tweet_jpd.append({'tweet_id': tweet_id,\n",
    "                        'retweet_count': retweet_count,\n",
    "                        'favorite_count': favorite_count})"
   ]
  },
  {
   "cell_type": "code",
   "execution_count": 10,
   "metadata": {},
   "outputs": [],
   "source": [
    "# Converting the populated list to a Pandas DataFrame\n",
    "tweet_jpd = pd.DataFrame(tweet_jpd)"
   ]
  },
  {
   "cell_type": "code",
   "execution_count": 11,
   "metadata": {},
   "outputs": [
    {
     "data": {
      "text/html": [
       "<div>\n",
       "<style scoped>\n",
       "    .dataframe tbody tr th:only-of-type {\n",
       "        vertical-align: middle;\n",
       "    }\n",
       "\n",
       "    .dataframe tbody tr th {\n",
       "        vertical-align: top;\n",
       "    }\n",
       "\n",
       "    .dataframe thead th {\n",
       "        text-align: right;\n",
       "    }\n",
       "</style>\n",
       "<table border=\"1\" class=\"dataframe\">\n",
       "  <thead>\n",
       "    <tr style=\"text-align: right;\">\n",
       "      <th></th>\n",
       "      <th>tweet_id</th>\n",
       "      <th>retweet_count</th>\n",
       "      <th>favorite_count</th>\n",
       "    </tr>\n",
       "  </thead>\n",
       "  <tbody>\n",
       "    <tr>\n",
       "      <th>0</th>\n",
       "      <td>892420643555336193</td>\n",
       "      <td>8853</td>\n",
       "      <td>39467</td>\n",
       "    </tr>\n",
       "    <tr>\n",
       "      <th>1</th>\n",
       "      <td>892177421306343426</td>\n",
       "      <td>6514</td>\n",
       "      <td>33819</td>\n",
       "    </tr>\n",
       "  </tbody>\n",
       "</table>\n",
       "</div>"
      ],
      "text/plain": [
       "             tweet_id  retweet_count  favorite_count\n",
       "0  892420643555336193           8853           39467\n",
       "1  892177421306343426           6514           33819"
      ]
     },
     "execution_count": 11,
     "metadata": {},
     "output_type": "execute_result"
    }
   ],
   "source": [
    "tweet_jpd.head(2)"
   ]
  },
  {
   "cell_type": "markdown",
   "metadata": {},
   "source": [
    "## STEP 2: Assessing Data\n",
    "In this section, we should detect and document at least **eight (8) quality issues and two (2) tidiness issue**. We must use **both** visual assessment and programmatic assessement to assess the data.\n",
    "\n",
    "**Note:** We should pay attention to the following key points as we access the data.\n",
    "\n",
    "* We only want original ratings (no retweets) that have images. Though there are 5000+ tweets in the dataset, not all are dog ratings and some are retweets.\n",
    "* Assessing and cleaning the entire dataset completely would require a lot of time, and is not necessary to practice and demonstrate your skills in data wrangling. Therefore, the requirements of this project are only to assess and clean at least 8 quality issues and at least 2 tidiness issues in this dataset.\n",
    "* The fact that the rating numerators are greater than the denominators does not need to be cleaned. This [unique rating system](http://knowyourmeme.com/memes/theyre-good-dogs-brent) is a big part of the popularity of WeRateDogs.\n",
    "* We do not need to gather the tweets beyond August 1st, 2017. We can, but note that we won't be able to gather the image predictions for these tweets since we don't have access to the algorithm used.\n"
   ]
  },
  {
   "cell_type": "markdown",
   "metadata": {},
   "source": [
    "### Quality Issues"
   ]
  },
  {
   "cell_type": "code",
   "execution_count": 12,
   "metadata": {},
   "outputs": [
    {
     "name": "stdout",
     "output_type": "stream",
     "text": [
      "<class 'pandas.core.frame.DataFrame'>\n",
      "RangeIndex: 2356 entries, 0 to 2355\n",
      "Data columns (total 17 columns):\n",
      " #   Column                      Non-Null Count  Dtype  \n",
      "---  ------                      --------------  -----  \n",
      " 0   tweet_id                    2356 non-null   int64  \n",
      " 1   in_reply_to_status_id       78 non-null     float64\n",
      " 2   in_reply_to_user_id         78 non-null     float64\n",
      " 3   timestamp                   2356 non-null   object \n",
      " 4   source                      2356 non-null   object \n",
      " 5   text                        2356 non-null   object \n",
      " 6   retweeted_status_id         181 non-null    float64\n",
      " 7   retweeted_status_user_id    181 non-null    float64\n",
      " 8   retweeted_status_timestamp  181 non-null    object \n",
      " 9   expanded_urls               2297 non-null   object \n",
      " 10  rating_numerator            2356 non-null   int64  \n",
      " 11  rating_denominator          2356 non-null   int64  \n",
      " 12  name                        2356 non-null   object \n",
      " 13  doggo                       2356 non-null   object \n",
      " 14  floofer                     2356 non-null   object \n",
      " 15  pupper                      2356 non-null   object \n",
      " 16  puppo                       2356 non-null   object \n",
      "dtypes: float64(4), int64(3), object(10)\n",
      "memory usage: 313.0+ KB\n"
     ]
    }
   ],
   "source": [
    "tweet_archive.info()\n",
    "\n",
    "# tweet_id.sort_values()\n",
    "# in_reply_to_status_id.isnull().value_counts()\n",
    "# describe()\n",
    "# unique()\n",
    "# nunique()\n",
    "# value_counts()\n",
    "# isnull().value_counts()\n",
    "# etc"
   ]
  },
  {
   "cell_type": "code",
   "execution_count": 13,
   "metadata": {},
   "outputs": [
    {
     "data": {
      "text/plain": [
       "array(['<a href=\"http://twitter.com/download/iphone\" rel=\"nofollow\">Twitter for iPhone</a>',\n",
       "       '<a href=\"http://twitter.com\" rel=\"nofollow\">Twitter Web Client</a>',\n",
       "       '<a href=\"http://vine.co\" rel=\"nofollow\">Vine - Make a Scene</a>',\n",
       "       '<a href=\"https://about.twitter.com/products/tweetdeck\" rel=\"nofollow\">TweetDeck</a>'],\n",
       "      dtype=object)"
      ]
     },
     "execution_count": 13,
     "metadata": {},
     "output_type": "execute_result"
    }
   ],
   "source": [
    "tweet_archive['source'].unique()"
   ]
  },
  {
   "cell_type": "markdown",
   "metadata": {},
   "source": [
    "##### Tweeter Archive Data\n",
    "1. The `timestamp` column has both date and time, `+0000` is not relevant\n",
    "2. The `source` column has HTML tags with 4 unique tags, each indicating the source (either from iPhone, Web Client,Vine, Tweet Deck)\n",
    "3. The ratings almost always have a denominator of 10 but `rating_denominator` column has values greater than ten (10)\n",
    "4. The `timestamp` column is in object data type should be converted to datetime format\n",
    "\n",
    "**5A** The `retweeted_status_id` column has 78 values \n",
    "\n",
    "**5B** The `retweeted_status_user_id` column has 78 values\n",
    " \n",
    "**6A** The `in_reply_to_status_id` column has 181 values\n",
    "\n",
    "**6B** The `in_reply_to_user_id` column has 181 values\n",
    "\n",
    "**6C** The `retweeted_status_timestamp`column has 181 values\n",
    "\n",
    "7. The `expanded_urls` has 59 missing values. A Good number of the links seems to have expired\n",
    "8. The name column has `668` values of `None` and `55` values `a` \n",
    "9. The name columns has some strings in all lower case and some in title case\n",
    "\n",
    "##### Image Prediction Data\n",
    "10. Not all image predictions are dogs. some are book cases,shopping cart etc (p1_dog,p2_dog == False) with varying confidence level"
   ]
  },
  {
   "cell_type": "markdown",
   "metadata": {},
   "source": [
    "### Tidyness Issues"
   ]
  },
  {
   "cell_type": "code",
   "execution_count": 14,
   "metadata": {},
   "outputs": [
    {
     "name": "stdout",
     "output_type": "stream",
     "text": [
      "None     2259\n",
      "doggo      97\n",
      "Name: doggo, dtype: int64 \n",
      " \n",
      " None       2346\n",
      "floofer      10\n",
      "Name: floofer, dtype: int64 \n",
      " \n",
      " None      2099\n",
      "pupper     257\n",
      "Name: pupper, dtype: int64 \n",
      " \n",
      " None     2326\n",
      "puppo      30\n",
      "Name: puppo, dtype: int64 \n",
      "\n"
     ]
    }
   ],
   "source": [
    "# doggo\tfloofer\tpupper\tpuppo\n",
    "\n",
    "print(tweet_archive.doggo.value_counts(), '\\n',\n",
    "      '\\n',tweet_archive.floofer.value_counts(), '\\n',\n",
    "      '\\n',tweet_archive.pupper.value_counts(), '\\n',\n",
    "      '\\n',tweet_archive.puppo.value_counts(), '\\n')\n",
    "\n",
    "# tweet_archive[tweet_archive.doggo == 'doggo']"
   ]
  },
  {
   "cell_type": "markdown",
   "metadata": {},
   "source": [
    "##### Tweeter Archive Data\n",
    "1. `doggo`, `floofer` , `pupper` , `puppo` are all classification. Observation fall into just one of these category.\n",
    "\n",
    "##### Image Prediction Data\n",
    "2. The image url should be part of the Tweeter archive data\n"
   ]
  },
  {
   "cell_type": "markdown",
   "metadata": {},
   "source": [
    "## STEP 3: Cleaning Data\n",
    "In this section, clean **all** of the issues you documented while assessing. \n",
    "\n",
    "**Note:** Make a copy of the original data before cleaning. Cleaning includes merging individual pieces of data according to the rules of [tidy data](https://cran.r-project.org/web/packages/tidyr/vignettes/tidy-data.html). The result should be a high-quality and tidy master pandas DataFrame (or DataFrames, if appropriate)."
   ]
  },
  {
   "cell_type": "code",
   "execution_count": 15,
   "metadata": {},
   "outputs": [],
   "source": [
    "# Creating Copies of data\n",
    "tad_copy = tweet_archive.copy()\n",
    "ipd_copy = img_pd.copy()\n",
    "rtc_copy = tweet_jpd.copy()"
   ]
  },
  {
   "cell_type": "markdown",
   "metadata": {},
   "source": [
    "### Issue #1: The `timestamp` column has both date and time, `+0000` is not relevant \n",
    "**(Twitter Archive Data) QUALITY**"
   ]
  },
  {
   "cell_type": "markdown",
   "metadata": {},
   "source": [
    "#### Define: Remove `+0000` from the timestamp column\n",
    "\n",
    "#### Code"
   ]
  },
  {
   "cell_type": "code",
   "execution_count": 16,
   "metadata": {},
   "outputs": [],
   "source": [
    "tad_copy.timestamp = tad_copy['timestamp'].str[:-5]"
   ]
  },
  {
   "cell_type": "markdown",
   "metadata": {},
   "source": [
    "#### Test"
   ]
  },
  {
   "cell_type": "code",
   "execution_count": 17,
   "metadata": {},
   "outputs": [
    {
     "data": {
      "text/plain": [
       "921     2016-07-22 00:43:32 \n",
       "1186    2016-04-08 20:46:50 \n",
       "178     2017-04-26 16:00:39 \n",
       "294     2017-03-03 01:58:22 \n",
       "1835    2015-12-13 18:10:33 \n",
       "561     2016-11-26 21:26:58 \n",
       "1229    2016-03-26 16:15:05 \n",
       "31      2017-07-15 16:17:19 \n",
       "1874    2015-12-11 02:08:58 \n",
       "1784    2015-12-18 01:31:14 \n",
       "Name: timestamp, dtype: object"
      ]
     },
     "execution_count": 17,
     "metadata": {},
     "output_type": "execute_result"
    }
   ],
   "source": [
    "tad_copy.timestamp.sample(10)"
   ]
  },
  {
   "cell_type": "markdown",
   "metadata": {},
   "source": [
    "### Issue #2: The `source` column has HTML tags with 4 unique tags, each indicating the source either from iPhone, WebClient,Vine, TweetDeck \n",
    "**(Twitter Archive Data) QUALITY**"
   ]
  },
  {
   "cell_type": "markdown",
   "metadata": {},
   "source": [
    "#### Define: Replace each HTML tag with the corresponding tag, i.e. either iPhone, WebClient,Vine, TweetDeck\n",
    "#### Code"
   ]
  },
  {
   "cell_type": "code",
   "execution_count": 18,
   "metadata": {},
   "outputs": [],
   "source": [
    "tad_copy.source = tad_copy.source.replace('<a href=\"http://twitter.com/download/iphone\" rel=\"nofollow\">Twitter for iPhone</a>', 'iPhone')\n",
    "tad_copy.source = tad_copy.source.replace('<a href=\"http://twitter.com\" rel=\"nofollow\">Twitter Web Client</a>', 'WebClient')\n",
    "tad_copy.source = tad_copy.source.replace('<a href=\"http://vine.co\" rel=\"nofollow\">Vine - Make a Scene</a>', 'Vine')\n",
    "tad_copy.source = tad_copy.source.replace('<a href=\"https://about.twitter.com/products/tweetdeck\" rel=\"nofollow\">TweetDeck</a>', 'TweetDeck')"
   ]
  },
  {
   "cell_type": "markdown",
   "metadata": {},
   "source": [
    "#### Test"
   ]
  },
  {
   "cell_type": "code",
   "execution_count": 19,
   "metadata": {},
   "outputs": [
    {
     "data": {
      "text/plain": [
       "array(['iPhone', 'WebClient', 'Vine', 'TweetDeck'], dtype=object)"
      ]
     },
     "execution_count": 19,
     "metadata": {},
     "output_type": "execute_result"
    }
   ],
   "source": [
    "tad_copy.source.unique()"
   ]
  },
  {
   "cell_type": "markdown",
   "metadata": {},
   "source": [
    "### Issue #3: The ratings almost always have a denominator of 10 but `rating_denominator` column has values greater than ten (10)\n",
    "**(Twitter Archive Data) QUALITY**"
   ]
  },
  {
   "cell_type": "markdown",
   "metadata": {},
   "source": [
    "#### Define: Replace all values that are outliers with `10`"
   ]
  },
  {
   "cell_type": "markdown",
   "metadata": {},
   "source": [
    "#### Code"
   ]
  },
  {
   "cell_type": "code",
   "execution_count": 20,
   "metadata": {},
   "outputs": [],
   "source": [
    "tad_copy.loc[tad_copy[\"rating_denominator\"] != int(\"10\"), \"rating_denominator\"] = int(\"10\")"
   ]
  },
  {
   "cell_type": "markdown",
   "metadata": {},
   "source": [
    "#### Test"
   ]
  },
  {
   "cell_type": "code",
   "execution_count": 21,
   "metadata": {},
   "outputs": [
    {
     "data": {
      "text/plain": [
       "array([10], dtype=int64)"
      ]
     },
     "execution_count": 21,
     "metadata": {},
     "output_type": "execute_result"
    }
   ],
   "source": [
    "tad_copy[\"rating_denominator\"].unique()"
   ]
  },
  {
   "cell_type": "markdown",
   "metadata": {},
   "source": [
    "### Issue #4: The `timestamp` column is in object data type should be converted to datetime format\n",
    "**(Twitter Archive Data) QUALITY**"
   ]
  },
  {
   "cell_type": "markdown",
   "metadata": {},
   "source": [
    "#### Define: Convert the timestamp colum to Datetime\n",
    "\n",
    "#### Code"
   ]
  },
  {
   "cell_type": "code",
   "execution_count": 22,
   "metadata": {},
   "outputs": [],
   "source": [
    "tad_copy['timestamp'] = tad_copy['timestamp'].apply(pd.to_datetime)"
   ]
  },
  {
   "cell_type": "markdown",
   "metadata": {},
   "source": [
    "#### Test"
   ]
  },
  {
   "cell_type": "code",
   "execution_count": 23,
   "metadata": {},
   "outputs": [
    {
     "name": "stdout",
     "output_type": "stream",
     "text": [
      "<class 'pandas.core.frame.DataFrame'>\n",
      "RangeIndex: 2356 entries, 0 to 2355\n",
      "Data columns (total 17 columns):\n",
      " #   Column                      Non-Null Count  Dtype         \n",
      "---  ------                      --------------  -----         \n",
      " 0   tweet_id                    2356 non-null   int64         \n",
      " 1   in_reply_to_status_id       78 non-null     float64       \n",
      " 2   in_reply_to_user_id         78 non-null     float64       \n",
      " 3   timestamp                   2356 non-null   datetime64[ns]\n",
      " 4   source                      2356 non-null   object        \n",
      " 5   text                        2356 non-null   object        \n",
      " 6   retweeted_status_id         181 non-null    float64       \n",
      " 7   retweeted_status_user_id    181 non-null    float64       \n",
      " 8   retweeted_status_timestamp  181 non-null    object        \n",
      " 9   expanded_urls               2297 non-null   object        \n",
      " 10  rating_numerator            2356 non-null   int64         \n",
      " 11  rating_denominator          2356 non-null   int64         \n",
      " 12  name                        2356 non-null   object        \n",
      " 13  doggo                       2356 non-null   object        \n",
      " 14  floofer                     2356 non-null   object        \n",
      " 15  pupper                      2356 non-null   object        \n",
      " 16  puppo                       2356 non-null   object        \n",
      "dtypes: datetime64[ns](1), float64(4), int64(3), object(9)\n",
      "memory usage: 313.0+ KB\n"
     ]
    }
   ],
   "source": [
    "tad_copy.info()"
   ]
  },
  {
   "cell_type": "markdown",
   "metadata": {},
   "source": [
    "### Issue #5: Since we only want original ratings (no retweets) that have images. we have to remove in_reply_to_status_id,    in_reply_to_user_id\n",
    "**(Twitter Archive Data) QUALITY**"
   ]
  },
  {
   "cell_type": "markdown",
   "metadata": {},
   "source": [
    "#### Define: Drop rows that have values in in_reply_to_status_id, in_reply_to_user_id. Then Drop both columns since there are no values"
   ]
  },
  {
   "cell_type": "markdown",
   "metadata": {},
   "source": [
    "#### Code"
   ]
  },
  {
   "cell_type": "code",
   "execution_count": 24,
   "metadata": {},
   "outputs": [],
   "source": [
    "tad_copy = tad_copy[tad_copy['in_reply_to_status_id'].isnull()]\n",
    "tad_copy.drop(['in_reply_to_status_id', 'in_reply_to_user_id'], axis=1, inplace=True)\n",
    "#tad_copy['in_reply_to_status_id'].isnull().value_counts()\n",
    "# tad_copy['retweeted_status_user_id'].replace('', np.nan, inplace=True)"
   ]
  },
  {
   "cell_type": "markdown",
   "metadata": {},
   "source": [
    "#### Test"
   ]
  },
  {
   "cell_type": "code",
   "execution_count": 25,
   "metadata": {},
   "outputs": [
    {
     "name": "stdout",
     "output_type": "stream",
     "text": [
      "<class 'pandas.core.frame.DataFrame'>\n",
      "Int64Index: 2278 entries, 0 to 2355\n",
      "Data columns (total 15 columns):\n",
      " #   Column                      Non-Null Count  Dtype         \n",
      "---  ------                      --------------  -----         \n",
      " 0   tweet_id                    2278 non-null   int64         \n",
      " 1   timestamp                   2278 non-null   datetime64[ns]\n",
      " 2   source                      2278 non-null   object        \n",
      " 3   text                        2278 non-null   object        \n",
      " 4   retweeted_status_id         181 non-null    float64       \n",
      " 5   retweeted_status_user_id    181 non-null    float64       \n",
      " 6   retweeted_status_timestamp  181 non-null    object        \n",
      " 7   expanded_urls               2274 non-null   object        \n",
      " 8   rating_numerator            2278 non-null   int64         \n",
      " 9   rating_denominator          2278 non-null   int64         \n",
      " 10  name                        2278 non-null   object        \n",
      " 11  doggo                       2278 non-null   object        \n",
      " 12  floofer                     2278 non-null   object        \n",
      " 13  pupper                      2278 non-null   object        \n",
      " 14  puppo                       2278 non-null   object        \n",
      "dtypes: datetime64[ns](1), float64(2), int64(3), object(9)\n",
      "memory usage: 284.8+ KB\n"
     ]
    }
   ],
   "source": [
    "tad_copy.info()"
   ]
  },
  {
   "cell_type": "markdown",
   "metadata": {},
   "source": [
    "### Issue #6: Columns `retweeted_status_timestamp`, `retweeted_status_user_id` and  `retweeted_status_id` have 181 values \n",
    "**(Twitter Archive Data) QUALITY**"
   ]
  },
  {
   "cell_type": "markdown",
   "metadata": {},
   "source": [
    "#### Define: Drop the above named columns"
   ]
  },
  {
   "cell_type": "markdown",
   "metadata": {},
   "source": [
    "#### Code"
   ]
  },
  {
   "cell_type": "code",
   "execution_count": 26,
   "metadata": {},
   "outputs": [],
   "source": [
    "tad_copy.drop(['retweeted_status_timestamp', 'retweeted_status_user_id', 'retweeted_status_id'], axis=1, inplace=True)"
   ]
  },
  {
   "cell_type": "markdown",
   "metadata": {},
   "source": [
    "#### Test"
   ]
  },
  {
   "cell_type": "code",
   "execution_count": 27,
   "metadata": {},
   "outputs": [
    {
     "name": "stdout",
     "output_type": "stream",
     "text": [
      "<class 'pandas.core.frame.DataFrame'>\n",
      "Int64Index: 2278 entries, 0 to 2355\n",
      "Data columns (total 12 columns):\n",
      " #   Column              Non-Null Count  Dtype         \n",
      "---  ------              --------------  -----         \n",
      " 0   tweet_id            2278 non-null   int64         \n",
      " 1   timestamp           2278 non-null   datetime64[ns]\n",
      " 2   source              2278 non-null   object        \n",
      " 3   text                2278 non-null   object        \n",
      " 4   expanded_urls       2274 non-null   object        \n",
      " 5   rating_numerator    2278 non-null   int64         \n",
      " 6   rating_denominator  2278 non-null   int64         \n",
      " 7   name                2278 non-null   object        \n",
      " 8   doggo               2278 non-null   object        \n",
      " 9   floofer             2278 non-null   object        \n",
      " 10  pupper              2278 non-null   object        \n",
      " 11  puppo               2278 non-null   object        \n",
      "dtypes: datetime64[ns](1), int64(3), object(8)\n",
      "memory usage: 231.4+ KB\n"
     ]
    }
   ],
   "source": [
    "tad_copy.info()"
   ]
  },
  {
   "cell_type": "markdown",
   "metadata": {},
   "source": [
    "### Issue #7: The `expanded_urls` has 59 missing values. A Good number of the links seems to have expired.\n",
    "**(Twitter Archive Data) QUALITY**"
   ]
  },
  {
   "cell_type": "markdown",
   "metadata": {},
   "source": [
    "#### Define: Drop The expanded_urls column"
   ]
  },
  {
   "cell_type": "markdown",
   "metadata": {},
   "source": [
    "#### Code"
   ]
  },
  {
   "cell_type": "code",
   "execution_count": 28,
   "metadata": {},
   "outputs": [],
   "source": [
    "from bs4 import BeautifulSoup\n",
    "import requests\n",
    "\n",
    "'''rspn = []\n",
    "\n",
    "for i in tad_copy.expanded_urls:\n",
    "    url = i\n",
    "    response = requests.get(url)\n",
    "    rspn.append(response)\n",
    "    \n",
    "rspn.uniqe()\n",
    "'''\n",
    "\n",
    "tad_copy.drop('expanded_urls', axis=1, inplace=True)"
   ]
  },
  {
   "cell_type": "markdown",
   "metadata": {},
   "source": [
    "#### Test"
   ]
  },
  {
   "cell_type": "code",
   "execution_count": 29,
   "metadata": {},
   "outputs": [
    {
     "data": {
      "text/plain": [
       "None          668\n",
       "a              55\n",
       "Charlie        12\n",
       "Cooper         11\n",
       "Lucy           11\n",
       "             ... \n",
       "Gert            1\n",
       "Dex             1\n",
       "Ace             1\n",
       "Tayzie          1\n",
       "Christoper      1\n",
       "Name: name, Length: 956, dtype: int64"
      ]
     },
     "execution_count": 29,
     "metadata": {},
     "output_type": "execute_result"
    }
   ],
   "source": [
    "tad_copy.name.value_counts()"
   ]
  },
  {
   "cell_type": "markdown",
   "metadata": {},
   "source": [
    "### Issue #8: The name column has `668` values of `None` and `55` values `a` \n",
    "**(Twitter Archive Data) QUALITY**"
   ]
  },
  {
   "cell_type": "markdown",
   "metadata": {},
   "source": [
    "#### Define: Replace \"None\" and \"a\" with numpy nan"
   ]
  },
  {
   "cell_type": "markdown",
   "metadata": {},
   "source": [
    "#### Code"
   ]
  },
  {
   "cell_type": "code",
   "execution_count": 30,
   "metadata": {},
   "outputs": [],
   "source": [
    "tad_copy.name.replace(['None', 'a'], np.nan, inplace=True)\n",
    "#tad_copy.name.value_counts()"
   ]
  },
  {
   "cell_type": "markdown",
   "metadata": {},
   "source": [
    "#### Test"
   ]
  },
  {
   "cell_type": "code",
   "execution_count": 31,
   "metadata": {},
   "outputs": [
    {
     "data": {
      "text/plain": [
       "Charlie    12\n",
       "Cooper     11\n",
       "Lucy       11\n",
       "Oliver     11\n",
       "Tucker     10\n",
       "Penny      10\n",
       "Lola       10\n",
       "Winston     9\n",
       "Bo          9\n",
       "Sadie       8\n",
       "Name: name, dtype: int64"
      ]
     },
     "execution_count": 31,
     "metadata": {},
     "output_type": "execute_result"
    }
   ],
   "source": [
    "tad_copy.name.value_counts().head(10)"
   ]
  },
  {
   "cell_type": "markdown",
   "metadata": {},
   "source": [
    "### Issue #9: doggo, floofer , pupper , puppo are all classification. Observation fall into just one of these category.\n",
    "**(Twitter Archive Data) TIDYNESS**"
   ]
  },
  {
   "cell_type": "markdown",
   "metadata": {},
   "source": [
    "#### Define: \n",
    "1. Replace 'None' with numpy.nan\n",
    "2. Melt the columns - doggo, floofer , pupper , puppo\n",
    "3. Replace 'nan' with 'not categorized'\n",
    "#### Code"
   ]
  },
  {
   "cell_type": "code",
   "execution_count": 32,
   "metadata": {},
   "outputs": [],
   "source": [
    "tad_copy.doggo.replace('None', np.nan, inplace=True)\n",
    "tad_copy.floofer.replace('None', np.nan, inplace=True)\n",
    "tad_copy.pupper.replace('None', np.nan, inplace=True)\n",
    "tad_copy.puppo.replace('None', np.nan, inplace=True)"
   ]
  },
  {
   "cell_type": "code",
   "execution_count": 33,
   "metadata": {},
   "outputs": [
    {
     "data": {
      "text/html": [
       "<div>\n",
       "<style scoped>\n",
       "    .dataframe tbody tr th:only-of-type {\n",
       "        vertical-align: middle;\n",
       "    }\n",
       "\n",
       "    .dataframe tbody tr th {\n",
       "        vertical-align: top;\n",
       "    }\n",
       "\n",
       "    .dataframe thead th {\n",
       "        text-align: right;\n",
       "    }\n",
       "</style>\n",
       "<table border=\"1\" class=\"dataframe\">\n",
       "  <thead>\n",
       "    <tr style=\"text-align: right;\">\n",
       "      <th></th>\n",
       "      <th>tweet_id</th>\n",
       "      <th>timestamp</th>\n",
       "      <th>source</th>\n",
       "      <th>text</th>\n",
       "      <th>rating_numerator</th>\n",
       "      <th>rating_denominator</th>\n",
       "      <th>name</th>\n",
       "      <th>doggo</th>\n",
       "      <th>floofer</th>\n",
       "      <th>pupper</th>\n",
       "      <th>puppo</th>\n",
       "    </tr>\n",
       "  </thead>\n",
       "  <tbody>\n",
       "    <tr>\n",
       "      <th>9</th>\n",
       "      <td>890240255349198849</td>\n",
       "      <td>2017-07-26 15:59:51</td>\n",
       "      <td>iPhone</td>\n",
       "      <td>This is Cassie. She is a college pup. Studying...</td>\n",
       "      <td>14</td>\n",
       "      <td>10</td>\n",
       "      <td>Cassie</td>\n",
       "      <td>doggo</td>\n",
       "      <td>NaN</td>\n",
       "      <td>NaN</td>\n",
       "      <td>NaN</td>\n",
       "    </tr>\n",
       "    <tr>\n",
       "      <th>12</th>\n",
       "      <td>889665388333682689</td>\n",
       "      <td>2017-07-25 01:55:32</td>\n",
       "      <td>iPhone</td>\n",
       "      <td>Here's a puppo that seems to be on the fence a...</td>\n",
       "      <td>13</td>\n",
       "      <td>10</td>\n",
       "      <td>NaN</td>\n",
       "      <td>NaN</td>\n",
       "      <td>NaN</td>\n",
       "      <td>NaN</td>\n",
       "      <td>puppo</td>\n",
       "    </tr>\n",
       "    <tr>\n",
       "      <th>14</th>\n",
       "      <td>889531135344209921</td>\n",
       "      <td>2017-07-24 17:02:04</td>\n",
       "      <td>iPhone</td>\n",
       "      <td>This is Stuart. He's sporting his favorite fan...</td>\n",
       "      <td>13</td>\n",
       "      <td>10</td>\n",
       "      <td>Stuart</td>\n",
       "      <td>NaN</td>\n",
       "      <td>NaN</td>\n",
       "      <td>NaN</td>\n",
       "      <td>puppo</td>\n",
       "    </tr>\n",
       "    <tr>\n",
       "      <th>29</th>\n",
       "      <td>886366144734445568</td>\n",
       "      <td>2017-07-15 23:25:31</td>\n",
       "      <td>iPhone</td>\n",
       "      <td>This is Roscoe. Another pupper fallen victim t...</td>\n",
       "      <td>12</td>\n",
       "      <td>10</td>\n",
       "      <td>Roscoe</td>\n",
       "      <td>NaN</td>\n",
       "      <td>NaN</td>\n",
       "      <td>pupper</td>\n",
       "      <td>NaN</td>\n",
       "    </tr>\n",
       "    <tr>\n",
       "      <th>43</th>\n",
       "      <td>884162670584377345</td>\n",
       "      <td>2017-07-09 21:29:42</td>\n",
       "      <td>iPhone</td>\n",
       "      <td>Meet Yogi. He doesn't have any important dog m...</td>\n",
       "      <td>12</td>\n",
       "      <td>10</td>\n",
       "      <td>Yogi</td>\n",
       "      <td>doggo</td>\n",
       "      <td>NaN</td>\n",
       "      <td>NaN</td>\n",
       "      <td>NaN</td>\n",
       "    </tr>\n",
       "  </tbody>\n",
       "</table>\n",
       "</div>"
      ],
      "text/plain": [
       "              tweet_id           timestamp  source  \\\n",
       "9   890240255349198849 2017-07-26 15:59:51  iPhone   \n",
       "12  889665388333682689 2017-07-25 01:55:32  iPhone   \n",
       "14  889531135344209921 2017-07-24 17:02:04  iPhone   \n",
       "29  886366144734445568 2017-07-15 23:25:31  iPhone   \n",
       "43  884162670584377345 2017-07-09 21:29:42  iPhone   \n",
       "\n",
       "                                                 text  rating_numerator  \\\n",
       "9   This is Cassie. She is a college pup. Studying...                14   \n",
       "12  Here's a puppo that seems to be on the fence a...                13   \n",
       "14  This is Stuart. He's sporting his favorite fan...                13   \n",
       "29  This is Roscoe. Another pupper fallen victim t...                12   \n",
       "43  Meet Yogi. He doesn't have any important dog m...                12   \n",
       "\n",
       "    rating_denominator    name  doggo floofer  pupper  puppo  \n",
       "9                   10  Cassie  doggo     NaN     NaN    NaN  \n",
       "12                  10     NaN    NaN     NaN     NaN  puppo  \n",
       "14                  10  Stuart    NaN     NaN     NaN  puppo  \n",
       "29                  10  Roscoe    NaN     NaN  pupper    NaN  \n",
       "43                  10    Yogi  doggo     NaN     NaN    NaN  "
      ]
     },
     "execution_count": 33,
     "metadata": {},
     "output_type": "execute_result"
    }
   ],
   "source": [
    "tad_melt = tad_copy[~((tad_copy['doggo'] != 'doggo') & (tad_copy['floofer'] != 'floofer') & (tad_copy['pupper'] != 'pupper') & (tad_copy['puppo'] != 'puppo'))]\n",
    "tad_melt.head()"
   ]
  },
  {
   "cell_type": "code",
   "execution_count": 34,
   "metadata": {},
   "outputs": [],
   "source": [
    "tad_melted = pd.melt(tad_melt, \n",
    "                   id_vars= ['tweet_id', 'timestamp', 'source', 'text', 'rating_numerator', 'rating_denominator', 'name'],\n",
    "                   var_name= 'classification', \n",
    "                   value_name='category')"
   ]
  },
  {
   "cell_type": "code",
   "execution_count": 35,
   "metadata": {},
   "outputs": [],
   "source": [
    "tad_melted.drop('classification', axis=1, inplace=True)"
   ]
  },
  {
   "cell_type": "code",
   "execution_count": 36,
   "metadata": {},
   "outputs": [],
   "source": [
    "tad_melted.category.fillna('not categorized', inplace=True)"
   ]
  },
  {
   "cell_type": "markdown",
   "metadata": {},
   "source": [
    "#### Test"
   ]
  },
  {
   "cell_type": "code",
   "execution_count": 37,
   "metadata": {},
   "outputs": [
    {
     "data": {
      "text/html": [
       "<div>\n",
       "<style scoped>\n",
       "    .dataframe tbody tr th:only-of-type {\n",
       "        vertical-align: middle;\n",
       "    }\n",
       "\n",
       "    .dataframe tbody tr th {\n",
       "        vertical-align: top;\n",
       "    }\n",
       "\n",
       "    .dataframe thead th {\n",
       "        text-align: right;\n",
       "    }\n",
       "</style>\n",
       "<table border=\"1\" class=\"dataframe\">\n",
       "  <thead>\n",
       "    <tr style=\"text-align: right;\">\n",
       "      <th></th>\n",
       "      <th>tweet_id</th>\n",
       "      <th>timestamp</th>\n",
       "      <th>source</th>\n",
       "      <th>text</th>\n",
       "      <th>rating_numerator</th>\n",
       "      <th>rating_denominator</th>\n",
       "      <th>name</th>\n",
       "      <th>category</th>\n",
       "    </tr>\n",
       "  </thead>\n",
       "  <tbody>\n",
       "    <tr>\n",
       "      <th>708</th>\n",
       "      <td>676470639084101634</td>\n",
       "      <td>2015-12-14 18:35:43</td>\n",
       "      <td>iPhone</td>\n",
       "      <td>Three generations of pupper. 11/10 for all htt...</td>\n",
       "      <td>11</td>\n",
       "      <td>10</td>\n",
       "      <td>NaN</td>\n",
       "      <td>not categorized</td>\n",
       "    </tr>\n",
       "    <tr>\n",
       "      <th>1449</th>\n",
       "      <td>676603393314578432</td>\n",
       "      <td>2015-12-15 03:23:14</td>\n",
       "      <td>iPhone</td>\n",
       "      <td>This is Godzilla pupper. He had a ruff childho...</td>\n",
       "      <td>9</td>\n",
       "      <td>10</td>\n",
       "      <td>Godzilla</td>\n",
       "      <td>not categorized</td>\n",
       "    </tr>\n",
       "    <tr>\n",
       "      <th>732</th>\n",
       "      <td>673148804208660480</td>\n",
       "      <td>2015-12-05 14:35:56</td>\n",
       "      <td>iPhone</td>\n",
       "      <td>This is Fletcher. He's had a ruff night. No mo...</td>\n",
       "      <td>8</td>\n",
       "      <td>10</td>\n",
       "      <td>Fletcher</td>\n",
       "      <td>not categorized</td>\n",
       "    </tr>\n",
       "    <tr>\n",
       "      <th>175</th>\n",
       "      <td>749075273010798592</td>\n",
       "      <td>2016-07-02 03:00:36</td>\n",
       "      <td>Vine</td>\n",
       "      <td>This is Boomer. He's self-baptizing. Other dog...</td>\n",
       "      <td>11</td>\n",
       "      <td>10</td>\n",
       "      <td>Boomer</td>\n",
       "      <td>doggo</td>\n",
       "    </tr>\n",
       "    <tr>\n",
       "      <th>237</th>\n",
       "      <td>704347321748819968</td>\n",
       "      <td>2016-02-29 16:47:42</td>\n",
       "      <td>iPhone</td>\n",
       "      <td>This is Ralphson. He's very confused. Wonderin...</td>\n",
       "      <td>10</td>\n",
       "      <td>10</td>\n",
       "      <td>Ralphson</td>\n",
       "      <td>not categorized</td>\n",
       "    </tr>\n",
       "    <tr>\n",
       "      <th>333</th>\n",
       "      <td>676603393314578432</td>\n",
       "      <td>2015-12-15 03:23:14</td>\n",
       "      <td>iPhone</td>\n",
       "      <td>This is Godzilla pupper. He had a ruff childho...</td>\n",
       "      <td>9</td>\n",
       "      <td>10</td>\n",
       "      <td>Godzilla</td>\n",
       "      <td>not categorized</td>\n",
       "    </tr>\n",
       "    <tr>\n",
       "      <th>59</th>\n",
       "      <td>825120256414846976</td>\n",
       "      <td>2017-01-27 23:16:13</td>\n",
       "      <td>iPhone</td>\n",
       "      <td>RT @dog_rates: Say hello to Pablo. He's one go...</td>\n",
       "      <td>12</td>\n",
       "      <td>10</td>\n",
       "      <td>Pablo</td>\n",
       "      <td>not categorized</td>\n",
       "    </tr>\n",
       "    <tr>\n",
       "      <th>354</th>\n",
       "      <td>673697980713705472</td>\n",
       "      <td>2015-12-07 02:58:09</td>\n",
       "      <td>iPhone</td>\n",
       "      <td>This is Pickles. She's a tiny pointy pupper. A...</td>\n",
       "      <td>8</td>\n",
       "      <td>10</td>\n",
       "      <td>Pickles</td>\n",
       "      <td>not categorized</td>\n",
       "    </tr>\n",
       "    <tr>\n",
       "      <th>76</th>\n",
       "      <td>818588835076603904</td>\n",
       "      <td>2017-01-09 22:42:41</td>\n",
       "      <td>iPhone</td>\n",
       "      <td>RT @dog_rates: This is Chelsea. She forgot how...</td>\n",
       "      <td>11</td>\n",
       "      <td>10</td>\n",
       "      <td>Chelsea</td>\n",
       "      <td>not categorized</td>\n",
       "    </tr>\n",
       "    <tr>\n",
       "      <th>163</th>\n",
       "      <td>752334515931054080</td>\n",
       "      <td>2016-07-11 02:51:40</td>\n",
       "      <td>iPhone</td>\n",
       "      <td>Here's a doggo trying to catch some fish. 8/10...</td>\n",
       "      <td>8</td>\n",
       "      <td>10</td>\n",
       "      <td>NaN</td>\n",
       "      <td>doggo</td>\n",
       "    </tr>\n",
       "  </tbody>\n",
       "</table>\n",
       "</div>"
      ],
      "text/plain": [
       "                tweet_id           timestamp  source  \\\n",
       "708   676470639084101634 2015-12-14 18:35:43  iPhone   \n",
       "1449  676603393314578432 2015-12-15 03:23:14  iPhone   \n",
       "732   673148804208660480 2015-12-05 14:35:56  iPhone   \n",
       "175   749075273010798592 2016-07-02 03:00:36    Vine   \n",
       "237   704347321748819968 2016-02-29 16:47:42  iPhone   \n",
       "333   676603393314578432 2015-12-15 03:23:14  iPhone   \n",
       "59    825120256414846976 2017-01-27 23:16:13  iPhone   \n",
       "354   673697980713705472 2015-12-07 02:58:09  iPhone   \n",
       "76    818588835076603904 2017-01-09 22:42:41  iPhone   \n",
       "163   752334515931054080 2016-07-11 02:51:40  iPhone   \n",
       "\n",
       "                                                   text  rating_numerator  \\\n",
       "708   Three generations of pupper. 11/10 for all htt...                11   \n",
       "1449  This is Godzilla pupper. He had a ruff childho...                 9   \n",
       "732   This is Fletcher. He's had a ruff night. No mo...                 8   \n",
       "175   This is Boomer. He's self-baptizing. Other dog...                11   \n",
       "237   This is Ralphson. He's very confused. Wonderin...                10   \n",
       "333   This is Godzilla pupper. He had a ruff childho...                 9   \n",
       "59    RT @dog_rates: Say hello to Pablo. He's one go...                12   \n",
       "354   This is Pickles. She's a tiny pointy pupper. A...                 8   \n",
       "76    RT @dog_rates: This is Chelsea. She forgot how...                11   \n",
       "163   Here's a doggo trying to catch some fish. 8/10...                 8   \n",
       "\n",
       "      rating_denominator      name         category  \n",
       "708                   10       NaN  not categorized  \n",
       "1449                  10  Godzilla  not categorized  \n",
       "732                   10  Fletcher  not categorized  \n",
       "175                   10    Boomer            doggo  \n",
       "237                   10  Ralphson  not categorized  \n",
       "333                   10  Godzilla  not categorized  \n",
       "59                    10     Pablo  not categorized  \n",
       "354                   10   Pickles  not categorized  \n",
       "76                    10   Chelsea  not categorized  \n",
       "163                   10       NaN            doggo  "
      ]
     },
     "execution_count": 37,
     "metadata": {},
     "output_type": "execute_result"
    }
   ],
   "source": [
    "tad_melted.sample(10)"
   ]
  },
  {
   "cell_type": "markdown",
   "metadata": {},
   "source": [
    "### Issue #10:  The image url from the image prediction date should be part of the Tweeter archive data\n",
    "**(Image Prediction Data) TTIDYNESS**"
   ]
  },
  {
   "cell_type": "markdown",
   "metadata": {},
   "source": [
    "For us to be able to merge we have to deal with quality issue #9 on the Twitter Archive Data which we have melted"
   ]
  },
  {
   "cell_type": "code",
   "execution_count": 38,
   "metadata": {},
   "outputs": [],
   "source": [
    "tad_melted.name =tad_melted.name.str.title()"
   ]
  },
  {
   "cell_type": "markdown",
   "metadata": {},
   "source": [
    "#### Define: Merge the jpg_url to the teeter archive data melted\n",
    "#### Code"
   ]
  },
  {
   "cell_type": "code",
   "execution_count": 39,
   "metadata": {},
   "outputs": [],
   "source": [
    "ipd_tomerge = ipd_copy.drop(['img_num', 'p1', 'p1_conf', 'p1_dog', 'p2', 'p2_conf', 'p2_dog'], axis=1)\n",
    "ipd_tomerge = ipd_tomerge.drop(['p3', 'p3_conf', 'p3_dog'], axis=1)"
   ]
  },
  {
   "cell_type": "code",
   "execution_count": 40,
   "metadata": {},
   "outputs": [],
   "source": [
    "#ipd_tomerge.head()'\n",
    "tad_melted = pd.merge(tad_melted, ipd_tomerge, on='tweet_id')"
   ]
  },
  {
   "cell_type": "markdown",
   "metadata": {},
   "source": [
    "#### Test"
   ]
  },
  {
   "cell_type": "code",
   "execution_count": 41,
   "metadata": {},
   "outputs": [
    {
     "data": {
      "text/html": [
       "<div>\n",
       "<style scoped>\n",
       "    .dataframe tbody tr th:only-of-type {\n",
       "        vertical-align: middle;\n",
       "    }\n",
       "\n",
       "    .dataframe tbody tr th {\n",
       "        vertical-align: top;\n",
       "    }\n",
       "\n",
       "    .dataframe thead th {\n",
       "        text-align: right;\n",
       "    }\n",
       "</style>\n",
       "<table border=\"1\" class=\"dataframe\">\n",
       "  <thead>\n",
       "    <tr style=\"text-align: right;\">\n",
       "      <th></th>\n",
       "      <th>tweet_id</th>\n",
       "      <th>timestamp</th>\n",
       "      <th>source</th>\n",
       "      <th>text</th>\n",
       "      <th>rating_numerator</th>\n",
       "      <th>rating_denominator</th>\n",
       "      <th>name</th>\n",
       "      <th>category</th>\n",
       "      <th>jpg_url</th>\n",
       "    </tr>\n",
       "  </thead>\n",
       "  <tbody>\n",
       "    <tr>\n",
       "      <th>1174</th>\n",
       "      <td>674447403907457024</td>\n",
       "      <td>2015-12-09 04:36:06</td>\n",
       "      <td>iPhone</td>\n",
       "      <td>This pupper just wants a belly rub. This puppe...</td>\n",
       "      <td>10</td>\n",
       "      <td>10</td>\n",
       "      <td>NaN</td>\n",
       "      <td>pupper</td>\n",
       "      <td>https://pbs.twimg.com/media/CVweVUfW4AACPwI.jpg</td>\n",
       "    </tr>\n",
       "    <tr>\n",
       "      <th>1030</th>\n",
       "      <td>681694085539872773</td>\n",
       "      <td>2015-12-29 04:31:49</td>\n",
       "      <td>iPhone</td>\n",
       "      <td>This is Bo. He's a Benedoop Cumbersnatch. Seem...</td>\n",
       "      <td>11</td>\n",
       "      <td>10</td>\n",
       "      <td>Bo</td>\n",
       "      <td>pupper</td>\n",
       "      <td>https://pbs.twimg.com/media/CXXdJ7CVAAALu23.jpg</td>\n",
       "    </tr>\n",
       "    <tr>\n",
       "      <th>114</th>\n",
       "      <td>845397057150107648</td>\n",
       "      <td>2017-03-24 22:08:59</td>\n",
       "      <td>iPhone</td>\n",
       "      <td>Say hello to Mimosa. She's an emotional suppor...</td>\n",
       "      <td>13</td>\n",
       "      <td>10</td>\n",
       "      <td>Mimosa</td>\n",
       "      <td>not categorized</td>\n",
       "      <td>https://pbs.twimg.com/media/C7t0IzLWkAINoft.jpg</td>\n",
       "    </tr>\n",
       "    <tr>\n",
       "      <th>1033</th>\n",
       "      <td>681679526984871937</td>\n",
       "      <td>2015-12-29 03:33:58</td>\n",
       "      <td>iPhone</td>\n",
       "      <td>Can you spot Toby the guilty pupper? 7/10 woul...</td>\n",
       "      <td>7</td>\n",
       "      <td>10</td>\n",
       "      <td>NaN</td>\n",
       "      <td>not categorized</td>\n",
       "      <td>https://pbs.twimg.com/media/CXXP5O4WEAA4dgS.jpg</td>\n",
       "    </tr>\n",
       "    <tr>\n",
       "      <th>1200</th>\n",
       "      <td>673697980713705472</td>\n",
       "      <td>2015-12-07 02:58:09</td>\n",
       "      <td>iPhone</td>\n",
       "      <td>This is Pickles. She's a tiny pointy pupper. A...</td>\n",
       "      <td>8</td>\n",
       "      <td>10</td>\n",
       "      <td>Pickles</td>\n",
       "      <td>not categorized</td>\n",
       "      <td>https://pbs.twimg.com/media/CVl0vFeWoAAMTfg.jpg</td>\n",
       "    </tr>\n",
       "    <tr>\n",
       "      <th>1031</th>\n",
       "      <td>681694085539872773</td>\n",
       "      <td>2015-12-29 04:31:49</td>\n",
       "      <td>iPhone</td>\n",
       "      <td>This is Bo. He's a Benedoop Cumbersnatch. Seem...</td>\n",
       "      <td>11</td>\n",
       "      <td>10</td>\n",
       "      <td>Bo</td>\n",
       "      <td>not categorized</td>\n",
       "      <td>https://pbs.twimg.com/media/CXXdJ7CVAAALu23.jpg</td>\n",
       "    </tr>\n",
       "    <tr>\n",
       "      <th>272</th>\n",
       "      <td>817181837579653120</td>\n",
       "      <td>2017-01-06 01:31:47</td>\n",
       "      <td>iPhone</td>\n",
       "      <td>RT @dog_rates: Here's a pupper with squeaky hi...</td>\n",
       "      <td>13</td>\n",
       "      <td>10</td>\n",
       "      <td>NaN</td>\n",
       "      <td>not categorized</td>\n",
       "      <td>https://pbs.twimg.com/ext_tw_video_thumb/81596...</td>\n",
       "    </tr>\n",
       "    <tr>\n",
       "      <th>752</th>\n",
       "      <td>707411934438625280</td>\n",
       "      <td>2016-03-09 03:45:22</td>\n",
       "      <td>iPhone</td>\n",
       "      <td>\"I shall trip the big pupper with leash. Big p...</td>\n",
       "      <td>11</td>\n",
       "      <td>10</td>\n",
       "      <td>NaN</td>\n",
       "      <td>not categorized</td>\n",
       "      <td>https://pbs.twimg.com/media/CdE7ZktXIAEiWLj.jpg</td>\n",
       "    </tr>\n",
       "  </tbody>\n",
       "</table>\n",
       "</div>"
      ],
      "text/plain": [
       "                tweet_id           timestamp  source  \\\n",
       "1174  674447403907457024 2015-12-09 04:36:06  iPhone   \n",
       "1030  681694085539872773 2015-12-29 04:31:49  iPhone   \n",
       "114   845397057150107648 2017-03-24 22:08:59  iPhone   \n",
       "1033  681679526984871937 2015-12-29 03:33:58  iPhone   \n",
       "1200  673697980713705472 2015-12-07 02:58:09  iPhone   \n",
       "1031  681694085539872773 2015-12-29 04:31:49  iPhone   \n",
       "272   817181837579653120 2017-01-06 01:31:47  iPhone   \n",
       "752   707411934438625280 2016-03-09 03:45:22  iPhone   \n",
       "\n",
       "                                                   text  rating_numerator  \\\n",
       "1174  This pupper just wants a belly rub. This puppe...                10   \n",
       "1030  This is Bo. He's a Benedoop Cumbersnatch. Seem...                11   \n",
       "114   Say hello to Mimosa. She's an emotional suppor...                13   \n",
       "1033  Can you spot Toby the guilty pupper? 7/10 woul...                 7   \n",
       "1200  This is Pickles. She's a tiny pointy pupper. A...                 8   \n",
       "1031  This is Bo. He's a Benedoop Cumbersnatch. Seem...                11   \n",
       "272   RT @dog_rates: Here's a pupper with squeaky hi...                13   \n",
       "752   \"I shall trip the big pupper with leash. Big p...                11   \n",
       "\n",
       "      rating_denominator     name         category  \\\n",
       "1174                  10      NaN           pupper   \n",
       "1030                  10       Bo           pupper   \n",
       "114                   10   Mimosa  not categorized   \n",
       "1033                  10      NaN  not categorized   \n",
       "1200                  10  Pickles  not categorized   \n",
       "1031                  10       Bo  not categorized   \n",
       "272                   10      NaN  not categorized   \n",
       "752                   10      NaN  not categorized   \n",
       "\n",
       "                                                jpg_url  \n",
       "1174    https://pbs.twimg.com/media/CVweVUfW4AACPwI.jpg  \n",
       "1030    https://pbs.twimg.com/media/CXXdJ7CVAAALu23.jpg  \n",
       "114     https://pbs.twimg.com/media/C7t0IzLWkAINoft.jpg  \n",
       "1033    https://pbs.twimg.com/media/CXXP5O4WEAA4dgS.jpg  \n",
       "1200    https://pbs.twimg.com/media/CVl0vFeWoAAMTfg.jpg  \n",
       "1031    https://pbs.twimg.com/media/CXXdJ7CVAAALu23.jpg  \n",
       "272   https://pbs.twimg.com/ext_tw_video_thumb/81596...  \n",
       "752     https://pbs.twimg.com/media/CdE7ZktXIAEiWLj.jpg  "
      ]
     },
     "execution_count": 41,
     "metadata": {},
     "output_type": "execute_result"
    }
   ],
   "source": [
    "tad_melted.sample(8)"
   ]
  },
  {
   "cell_type": "markdown",
   "metadata": {},
   "source": [
    "## STEP 4: Storing Data\n",
    "Save gathered, assessed, and cleaned master dataset to a CSV file named \"twitter_archive_master.csv\"."
   ]
  },
  {
   "cell_type": "markdown",
   "metadata": {},
   "source": [
    "**Before we store our data we need to merge the `retweet_count` and `favorite_count` from `tweeter api data` to the melted tweeter archive data**"
   ]
  },
  {
   "cell_type": "code",
   "execution_count": 53,
   "metadata": {},
   "outputs": [],
   "source": [
    "tweet_data = pd.merge(tad_melted, rtc_copy, on='tweet_id')"
   ]
  },
  {
   "cell_type": "markdown",
   "metadata": {},
   "source": [
    "#### Additional Cleaning"
   ]
  },
  {
   "cell_type": "code",
   "execution_count": 54,
   "metadata": {},
   "outputs": [],
   "source": [
    "# Re-odering the columns of the dataframe\n",
    "tweet_data = tweet_data[['tweet_id', 'timestamp', 'text', 'source', 'rating_numerator', 'rating_denominator', 'retweet_count', 'favorite_count','name', 'category', 'jpg_url']]\n",
    "\n",
    "#since all denominator are 10, we are dropping the rating_denominator column\n",
    "tweet_data.drop('rating_denominator', axis=1, inplace=True)"
   ]
  },
  {
   "cell_type": "code",
   "execution_count": 55,
   "metadata": {},
   "outputs": [],
   "source": [
    "# Converting tweet_id to string\n",
    "tweet_data.tweet_id = str(tweet_data.tweet_id)"
   ]
  },
  {
   "cell_type": "markdown",
   "metadata": {},
   "source": [
    "#### Storing Data Code "
   ]
  },
  {
   "cell_type": "code",
   "execution_count": 56,
   "metadata": {},
   "outputs": [],
   "source": [
    "tweet_data.to_csv('twitter_archive_master.csv', sep=';', index = False)"
   ]
  },
  {
   "cell_type": "code",
   "execution_count": 57,
   "metadata": {},
   "outputs": [
    {
     "data": {
      "text/html": [
       "<div>\n",
       "<style scoped>\n",
       "    .dataframe tbody tr th:only-of-type {\n",
       "        vertical-align: middle;\n",
       "    }\n",
       "\n",
       "    .dataframe tbody tr th {\n",
       "        vertical-align: top;\n",
       "    }\n",
       "\n",
       "    .dataframe thead th {\n",
       "        text-align: right;\n",
       "    }\n",
       "</style>\n",
       "<table border=\"1\" class=\"dataframe\">\n",
       "  <thead>\n",
       "    <tr style=\"text-align: right;\">\n",
       "      <th></th>\n",
       "      <th>tweet_id</th>\n",
       "      <th>timestamp</th>\n",
       "      <th>text</th>\n",
       "      <th>source</th>\n",
       "      <th>rating_numerator</th>\n",
       "      <th>retweet_count</th>\n",
       "      <th>favorite_count</th>\n",
       "      <th>name</th>\n",
       "      <th>category</th>\n",
       "      <th>jpg_url</th>\n",
       "    </tr>\n",
       "  </thead>\n",
       "  <tbody>\n",
       "    <tr>\n",
       "      <th>0</th>\n",
       "      <td>0       890240255349198849\\n1       8902402553...</td>\n",
       "      <td>2017-07-26 15:59:51</td>\n",
       "      <td>This is Cassie. She is a college pup. Studying...</td>\n",
       "      <td>iPhone</td>\n",
       "      <td>14</td>\n",
       "      <td>7711</td>\n",
       "      <td>32467</td>\n",
       "      <td>Cassie</td>\n",
       "      <td>doggo</td>\n",
       "      <td>https://pbs.twimg.com/media/DFrEyVuW0AAO3t9.jpg</td>\n",
       "    </tr>\n",
       "  </tbody>\n",
       "</table>\n",
       "</div>"
      ],
      "text/plain": [
       "                                            tweet_id           timestamp  \\\n",
       "0  0       890240255349198849\\n1       8902402553... 2017-07-26 15:59:51   \n",
       "\n",
       "                                                text  source  \\\n",
       "0  This is Cassie. She is a college pup. Studying...  iPhone   \n",
       "\n",
       "   rating_numerator  retweet_count  favorite_count    name category  \\\n",
       "0                14           7711           32467  Cassie    doggo   \n",
       "\n",
       "                                           jpg_url  \n",
       "0  https://pbs.twimg.com/media/DFrEyVuW0AAO3t9.jpg  "
      ]
     },
     "execution_count": 57,
     "metadata": {},
     "output_type": "execute_result"
    }
   ],
   "source": [
    "tweet_data.head(1)"
   ]
  },
  {
   "cell_type": "markdown",
   "metadata": {},
   "source": [
    "## STEP 5: Analyzing and Visualizing Data\n",
    "In this section, analyze and visualize your wrangled data. You must produce at least **three (3) insights and one (1) visualization.**"
   ]
  },
  {
   "cell_type": "code",
   "execution_count": 47,
   "metadata": {},
   "outputs": [
    {
     "data": {
      "text/html": [
       "<div>\n",
       "<style scoped>\n",
       "    .dataframe tbody tr th:only-of-type {\n",
       "        vertical-align: middle;\n",
       "    }\n",
       "\n",
       "    .dataframe tbody tr th {\n",
       "        vertical-align: top;\n",
       "    }\n",
       "\n",
       "    .dataframe thead th {\n",
       "        text-align: right;\n",
       "    }\n",
       "</style>\n",
       "<table border=\"1\" class=\"dataframe\">\n",
       "  <thead>\n",
       "    <tr style=\"text-align: right;\">\n",
       "      <th></th>\n",
       "      <th>rating_numerator</th>\n",
       "      <th>retweet_count</th>\n",
       "      <th>favorite_count</th>\n",
       "    </tr>\n",
       "  </thead>\n",
       "  <tbody>\n",
       "    <tr>\n",
       "      <th>count</th>\n",
       "      <td>1268.000000</td>\n",
       "      <td>1268.000000</td>\n",
       "      <td>1268.000000</td>\n",
       "    </tr>\n",
       "    <tr>\n",
       "      <th>mean</th>\n",
       "      <td>11.151420</td>\n",
       "      <td>4127.621451</td>\n",
       "      <td>10772.328076</td>\n",
       "    </tr>\n",
       "    <tr>\n",
       "      <th>std</th>\n",
       "      <td>1.969565</td>\n",
       "      <td>7795.691771</td>\n",
       "      <td>16374.258849</td>\n",
       "    </tr>\n",
       "    <tr>\n",
       "      <th>min</th>\n",
       "      <td>3.000000</td>\n",
       "      <td>83.000000</td>\n",
       "      <td>0.000000</td>\n",
       "    </tr>\n",
       "    <tr>\n",
       "      <th>25%</th>\n",
       "      <td>10.000000</td>\n",
       "      <td>885.000000</td>\n",
       "      <td>2660.000000</td>\n",
       "    </tr>\n",
       "    <tr>\n",
       "      <th>50%</th>\n",
       "      <td>11.000000</td>\n",
       "      <td>1846.000000</td>\n",
       "      <td>5005.000000</td>\n",
       "    </tr>\n",
       "    <tr>\n",
       "      <th>75%</th>\n",
       "      <td>12.000000</td>\n",
       "      <td>3917.000000</td>\n",
       "      <td>12376.000000</td>\n",
       "    </tr>\n",
       "    <tr>\n",
       "      <th>max</th>\n",
       "      <td>27.000000</td>\n",
       "      <td>79515.000000</td>\n",
       "      <td>132810.000000</td>\n",
       "    </tr>\n",
       "  </tbody>\n",
       "</table>\n",
       "</div>"
      ],
      "text/plain": [
       "       rating_numerator  retweet_count  favorite_count\n",
       "count       1268.000000    1268.000000     1268.000000\n",
       "mean          11.151420    4127.621451    10772.328076\n",
       "std            1.969565    7795.691771    16374.258849\n",
       "min            3.000000      83.000000        0.000000\n",
       "25%           10.000000     885.000000     2660.000000\n",
       "50%           11.000000    1846.000000     5005.000000\n",
       "75%           12.000000    3917.000000    12376.000000\n",
       "max           27.000000   79515.000000   132810.000000"
      ]
     },
     "execution_count": 47,
     "metadata": {},
     "output_type": "execute_result"
    }
   ],
   "source": [
    "tweet_data.describe()"
   ]
  },
  {
   "cell_type": "code",
   "execution_count": 48,
   "metadata": {},
   "outputs": [
    {
     "data": {
      "image/png": "[encoded data removed]",
      "text/plain": [
       "<Figure size 936x432 with 1 Axes>"
      ]
     },
     "metadata": {
      "needs_background": "light"
     },
     "output_type": "display_data"
    }
   ],
   "source": [
    "# Plotting a bar chart for the category column\n",
    "tweet_data.category.value_counts().plot(kind= 'bar', figsize = (13,6), fontsize=12, colormap='tab20c')\n",
    "plt.title('Dog rating by category');"
   ]
  },
  {
   "cell_type": "code",
   "execution_count": 49,
   "metadata": {},
   "outputs": [
    {
     "data": {
      "image/png": "[encoded data removed]",
      "text/plain": [
       "<Figure size 936x432 with 1 Axes>"
      ]
     },
     "metadata": {
      "needs_background": "light"
     },
     "output_type": "display_data"
    }
   ],
   "source": [
    "# Plotting a bar chart for the category column excluding those not categorized\n",
    "tweet_data[tweet_data.category != 'not categorized'].category.value_counts().plot(kind= 'bar', figsize = (13,6), fontsize=12, colormap='tab20c')\n",
    "plt.title('Dog rating by category');"
   ]
  },
  {
   "cell_type": "markdown",
   "metadata": {},
   "source": [
    "### Insights:\n",
    "1. Majority of the Dogs are not categorized\n",
    "\n",
    "2. Majority of the Categorized Dogs fall under the `pupper` category\n",
    "\n",
    "3. While there is no correlation between (i)`ratings and retweets`, (ii)`Favorite Count and Rating`. There is positive correlation between the retweet a Dog post gets and the Favorite it also gets"
   ]
  },
  {
   "cell_type": "markdown",
   "metadata": {},
   "source": [
    "### Visualization"
   ]
  },
  {
   "cell_type": "code",
   "execution_count": 50,
   "metadata": {},
   "outputs": [
    {
     "data": {
      "image/png": "[encoded data removed]",
      "text/plain": [
       "<Figure size 1080x360 with 1 Axes>"
      ]
     },
     "metadata": {
      "needs_background": "light"
     },
     "output_type": "display_data"
    }
   ],
   "source": [
    "# Visualizing the correlation between the retweets a dogs get and the number of favorite it gets\n",
    "tweet_data.plot(x= 'retweet_count',y='favorite_count', kind = 'scatter', figsize=(15,5))\n",
    "plt.title('Relationship Retweet and Favorite');"
   ]
  },
  {
   "cell_type": "code",
   "execution_count": 51,
   "metadata": {},
   "outputs": [
    {
     "data": {
      "image/png": "[encoded data removed]",
      "text/plain": [
       "<Figure size 1080x360 with 1 Axes>"
      ]
     },
     "metadata": {
      "needs_background": "light"
     },
     "output_type": "display_data"
    }
   ],
   "source": [
    "# Finding the correlation between the rating a dogs get and the number of favorite it gets\n",
    "tweet_data.plot(x= 'rating_numerator',y='favorite_count', kind = 'scatter', figsize=(15,5))\n",
    "plt.title('Relationship Favorite Count and Rating');"
   ]
  },
  {
   "cell_type": "code",
   "execution_count": 52,
   "metadata": {},
   "outputs": [
    {
     "data": {
      "image/png": "[encoded data removed]",
      "text/plain": [
       "<Figure size 1080x360 with 1 Axes>"
      ]
     },
     "metadata": {
      "needs_background": "light"
     },
     "output_type": "display_data"
    }
   ],
   "source": [
    "# Finding the correlation between the rating a dogs get and the number of retweets it gets\n",
    "tweet_data.plot(x= 'rating_numerator',y='retweet_count', kind = 'scatter', figsize=(15,5))\n",
    "plt.title('Relationship Retweets and Rating');"
   ]
  }
 ],
 "metadata": {
  "kernelspec": {
   "display_name": "Python 3",
   "language": "python",
   "name": "python3"
  },
  "language_info": {
   "codemirror_mode": {
    "name": "ipython",
    "version": 3
   },
   "file_extension": ".py",
   "mimetype": "text/x-python",
   "name": "python",
   "nbconvert_exporter": "python",
   "pygments_lexer": "ipython3",
   "version": "3.6.3"
  }
 },
 "nbformat": 4,
 "nbformat_minor": 5
}
