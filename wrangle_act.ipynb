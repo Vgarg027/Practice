{
 "cells": [
  {
   "cell_type": "markdown",
   "metadata": {},
   "source": [
    "# Importing resources"
   ]
  },
  {
   "cell_type": "code",
   "execution_count": 2,
   "metadata": {},
   "outputs": [
    {
     "name": "stdout",
     "output_type": "stream",
     "text": [
      "Collecting package metadata (current_repodata.json): ...working... done\n",
      "Solving environment: ...working... done\n",
      "\n",
      "# All requested packages already installed.\n",
      "\n",
      "\n",
      "Note: you may need to restart the kernel to use updated packages.\n"
     ]
    }
   ],
   "source": [
    "conda install pip"
   ]
  },
  {
   "cell_type": "code",
   "execution_count": 3,
   "metadata": {},
   "outputs": [
    {
     "name": "stdout",
     "output_type": "stream",
     "text": [
      "Requirement already satisfied: tweepy in c:\\users\\taneg\\anaconda3\\lib\\site-packages (3.10.0)\n",
      "Requirement already satisfied: requests[socks]>=2.11.1 in c:\\users\\taneg\\anaconda3\\lib\\site-packages (from tweepy) (2.24.0)\n",
      "Requirement already satisfied: requests-oauthlib>=0.7.0 in c:\\users\\taneg\\anaconda3\\lib\\site-packages (from tweepy) (1.3.0)\n",
      "Requirement already satisfied: six>=1.10.0 in c:\\users\\taneg\\anaconda3\\lib\\site-packages (from tweepy) (1.15.0)\n",
      "Requirement already satisfied: urllib3!=1.25.0,!=1.25.1,<1.26,>=1.21.1 in c:\\users\\taneg\\anaconda3\\lib\\site-packages (from requests[socks]>=2.11.1->tweepy) (1.25.11)\n",
      "Requirement already satisfied: idna<3,>=2.5 in c:\\users\\taneg\\anaconda3\\lib\\site-packages (from requests[socks]>=2.11.1->tweepy) (2.10)\n",
      "Requirement already satisfied: chardet<4,>=3.0.2 in c:\\users\\taneg\\anaconda3\\lib\\site-packages (from requests[socks]>=2.11.1->tweepy) (3.0.4)\n",
      "Requirement already satisfied: certifi>=2017.4.17 in c:\\users\\taneg\\anaconda3\\lib\\site-packages (from requests[socks]>=2.11.1->tweepy) (2020.6.20)\n",
      "Requirement already satisfied: PySocks!=1.5.7,>=1.5.6; extra == \"socks\" in c:\\users\\taneg\\anaconda3\\lib\\site-packages (from requests[socks]>=2.11.1->tweepy) (1.7.1)\n",
      "Requirement already satisfied: oauthlib>=3.0.0 in c:\\users\\taneg\\anaconda3\\lib\\site-packages (from requests-oauthlib>=0.7.0->tweepy) (3.1.0)\n",
      "Note: you may need to restart the kernel to use updated packages.\n"
     ]
    }
   ],
   "source": [
    "pip install tweepy"
   ]
  },
  {
   "cell_type": "code",
   "execution_count": 4,
   "metadata": {},
   "outputs": [],
   "source": [
    "import pandas as pd\n",
    "import numpy as np\n",
    "import requests\n",
    "import os\n",
    "import tweepy\n",
    "from tweepy import OAuthHandler\n",
    "import json\n",
    "from timeit import default_timer as timer\n",
    "import matplotlib.pyplot as plt"
   ]
  },
  {
   "cell_type": "markdown",
   "metadata": {},
   "source": [
    "# Gather"
   ]
  },
  {
   "cell_type": "markdown",
   "metadata": {},
   "source": [
    "1. The WeRateDogs Twitter archive  "
   ]
  },
  {
   "cell_type": "code",
   "execution_count": 5,
   "metadata": {},
   "outputs": [],
   "source": [
    "#Read the twitter archive file on hand\n",
    "twitter_archive_df=pd.read_csv('twitter-archive-enhanced.csv')"
   ]
  },
  {
   "cell_type": "markdown",
   "metadata": {},
   "source": [
    "2. The tweet image predictions"
   ]
  },
  {
   "cell_type": "code",
   "execution_count": 6,
   "metadata": {},
   "outputs": [],
   "source": [
    "#Download the image predictions file programmatically\n",
    "url= \"https://d17h27t6h515a5.cloudfront.net/topher/2017/August/599fd2ad_image-predictions/image-predictions.tsv\"\n",
    "response=requests.get(url)\n",
    "\n",
    "\n",
    "#Creating a folder titled Image_Predictions\n",
    "folder_name = 'Image_Predictions'\n",
    "if not os.path.exists(folder_name):\n",
    "    os.makedirs(folder_name)\n",
    "    \n",
    "#Locate the file in the project folder\n",
    "with open(os.path.join(url.split('/')[-1]),mode='wb') as file:\n",
    "    file.write(response.content)\n",
    "    \n",
    "#Read TSV file\n",
    "image_prediction_df = pd.read_csv('image-predictions.tsv', sep='\\t' )    "
   ]
  },
  {
   "cell_type": "markdown",
   "metadata": {},
   "source": [
    "3. Each tweet's retweet count and favorite "
   ]
  },
  {
   "cell_type": "code",
   "execution_count": null,
   "metadata": {},
   "outputs": [],
   "source": [
    "# Query Twitter API for each tweet in the Twitter archive and save JSON in a text file\n",
    "# These are hidden to comply with Twitter's API terms and conditions\n",
    "consumer_key = 'HIDDEN'\n",
    "consumer_secret = 'HIDDEN'\n",
    "access_token = 'HIDDEN'\n",
    "access_secret = 'HIDDEN'\n",
    "\n",
    "auth = OAuthHandler(consumer_key, consumer_secret)\n",
    "auth.set_access_token(access_token, access_secret)\n",
    "\n",
    "api = tweepy.API(auth, wait_on_rate_limit=True)\n",
    "\n",
    "# NOTE TO STUDENT WITH MOBILE VERIFICATION ISSUES:t\n",
    "# df_1 is a DataFrame with the twitter_archive_enhanced.csv file. You may have to\n",
    "# change line 17 to match the name of your DataFrame with twitter_archive_enhanced.csv\n",
    "# NOTE TO REVIEWER: this student had mobile verification issues so the following\n",
    "# Twitter API code was sent to this student from a Udacity instructor\n",
    "# Tweet IDs for which to gather additional data via Twitter's API\n",
    "tweet_ids = df.tweet_id.values\n",
    "len(tweet_ids)\n",
    "\n",
    "# Query Twitter's API for JSON data for each tweet ID in the Twitter archive\n",
    "count = 0\n",
    "fails_dict = {}\n",
    "start = timer()\n",
    "# Save each tweet's returned JSON as a new line in a .txt file\n",
    "with open('tweet_json.txt', 'w') as outfile:\n",
    "    # This loop will likely take 20-30 minutes to run because of Twitter's rate limit\n",
    "    for tweet_id in tweet_ids:\n",
    "        count += 1\n",
    "        print(str(count) + \": \" + str(tweet_id))\n",
    "        try:\n",
    "            tweet = api.get_status(tweet_id, tweet_mode='extended')\n",
    "            print(\"Success\")\n",
    "            json.dump(tweet._json, outfile)\n",
    "            outfile.write('\\n')\n",
    "        except tweepy.TweepError as e:\n",
    "            print(\"Fail\")\n",
    "            fails_dict[tweet_id] = e\n",
    "            pass\n",
    "end = timer()\n",
    "print(end - start)\n",
    "print(fails_dict)"
   ]
  },
  {
   "cell_type": "code",
   "execution_count": 7,
   "metadata": {},
   "outputs": [],
   "source": [
    "lines=[]\n",
    "with open('tweet-json.txt','rt') as file:\n",
    "    for line in file:\n",
    "        lines.append(line)\n",
    "\n",
    "# Extracting data from each line.\n",
    "df_list=[]\n",
    "for line in lines:\n",
    "    #tweet ID\n",
    "    x=line.find('id_str')\n",
    "    tweet_id=line[x+10:x+28]\n",
    "    #retweet count\n",
    "    x=line.find(\"retweet_count\")\n",
    "    retweet_count=line[x+16:x+20]\n",
    "    #favorite count\n",
    "    x=line.find('favorite_count')\n",
    "    favorite_count=line[x+17:x+22]\n",
    "    \n",
    "    # Append to list of dictionaries\n",
    "    df_list.append({'tweet_id': tweet_id,'retweet_count': retweet_count,'favorite_count': favorite_count})\n",
    "\n",
    "#Converting to dataframe    \n",
    "tweet_json_df=pd.DataFrame(df_list,columns=['tweet_id','retweet_count','favorite_count'])"
   ]
  },
  {
   "cell_type": "markdown",
   "metadata": {},
   "source": [
    "# Assess"
   ]
  },
  {
   "cell_type": "code",
   "execution_count": 5,
   "metadata": {},
   "outputs": [
    {
     "data": {
      "text/html": [
       "<div>\n",
       "<style scoped>\n",
       "    .dataframe tbody tr th:only-of-type {\n",
       "        vertical-align: middle;\n",
       "    }\n",
       "\n",
       "    .dataframe tbody tr th {\n",
       "        vertical-align: top;\n",
       "    }\n",
       "\n",
       "    .dataframe thead th {\n",
       "        text-align: right;\n",
       "    }\n",
       "</style>\n",
       "<table border=\"1\" class=\"dataframe\">\n",
       "  <thead>\n",
       "    <tr style=\"text-align: right;\">\n",
       "      <th></th>\n",
       "      <th>tweet_id</th>\n",
       "      <th>in_reply_to_status_id</th>\n",
       "      <th>in_reply_to_user_id</th>\n",
       "      <th>timestamp</th>\n",
       "      <th>source</th>\n",
       "      <th>text</th>\n",
       "      <th>retweeted_status_id</th>\n",
       "      <th>retweeted_status_user_id</th>\n",
       "      <th>retweeted_status_timestamp</th>\n",
       "      <th>expanded_urls</th>\n",
       "      <th>rating_numerator</th>\n",
       "      <th>rating_denominator</th>\n",
       "      <th>name</th>\n",
       "      <th>doggo</th>\n",
       "      <th>floofer</th>\n",
       "      <th>pupper</th>\n",
       "      <th>puppo</th>\n",
       "    </tr>\n",
       "  </thead>\n",
       "  <tbody>\n",
       "    <tr>\n",
       "      <th>0</th>\n",
       "      <td>892420643555336193</td>\n",
       "      <td>NaN</td>\n",
       "      <td>NaN</td>\n",
       "      <td>2017-08-01 16:23:56 +0000</td>\n",
       "      <td>&lt;a href=\"http://twitter.com/download/iphone\" r...</td>\n",
       "      <td>This is Phineas. He's a mystical boy. Only eve...</td>\n",
       "      <td>NaN</td>\n",
       "      <td>NaN</td>\n",
       "      <td>NaN</td>\n",
       "      <td>https://twitter.com/dog_rates/status/892420643...</td>\n",
       "      <td>13</td>\n",
       "      <td>10</td>\n",
       "      <td>Phineas</td>\n",
       "      <td>None</td>\n",
       "      <td>None</td>\n",
       "      <td>None</td>\n",
       "      <td>None</td>\n",
       "    </tr>\n",
       "    <tr>\n",
       "      <th>1</th>\n",
       "      <td>892177421306343426</td>\n",
       "      <td>NaN</td>\n",
       "      <td>NaN</td>\n",
       "      <td>2017-08-01 00:17:27 +0000</td>\n",
       "      <td>&lt;a href=\"http://twitter.com/download/iphone\" r...</td>\n",
       "      <td>This is Tilly. She's just checking pup on you....</td>\n",
       "      <td>NaN</td>\n",
       "      <td>NaN</td>\n",
       "      <td>NaN</td>\n",
       "      <td>https://twitter.com/dog_rates/status/892177421...</td>\n",
       "      <td>13</td>\n",
       "      <td>10</td>\n",
       "      <td>Tilly</td>\n",
       "      <td>None</td>\n",
       "      <td>None</td>\n",
       "      <td>None</td>\n",
       "      <td>None</td>\n",
       "    </tr>\n",
       "    <tr>\n",
       "      <th>2</th>\n",
       "      <td>891815181378084864</td>\n",
       "      <td>NaN</td>\n",
       "      <td>NaN</td>\n",
       "      <td>2017-07-31 00:18:03 +0000</td>\n",
       "      <td>&lt;a href=\"http://twitter.com/download/iphone\" r...</td>\n",
       "      <td>This is Archie. He is a rare Norwegian Pouncin...</td>\n",
       "      <td>NaN</td>\n",
       "      <td>NaN</td>\n",
       "      <td>NaN</td>\n",
       "      <td>https://twitter.com/dog_rates/status/891815181...</td>\n",
       "      <td>12</td>\n",
       "      <td>10</td>\n",
       "      <td>Archie</td>\n",
       "      <td>None</td>\n",
       "      <td>None</td>\n",
       "      <td>None</td>\n",
       "      <td>None</td>\n",
       "    </tr>\n",
       "    <tr>\n",
       "      <th>3</th>\n",
       "      <td>891689557279858688</td>\n",
       "      <td>NaN</td>\n",
       "      <td>NaN</td>\n",
       "      <td>2017-07-30 15:58:51 +0000</td>\n",
       "      <td>&lt;a href=\"http://twitter.com/download/iphone\" r...</td>\n",
       "      <td>This is Darla. She commenced a snooze mid meal...</td>\n",
       "      <td>NaN</td>\n",
       "      <td>NaN</td>\n",
       "      <td>NaN</td>\n",
       "      <td>https://twitter.com/dog_rates/status/891689557...</td>\n",
       "      <td>13</td>\n",
       "      <td>10</td>\n",
       "      <td>Darla</td>\n",
       "      <td>None</td>\n",
       "      <td>None</td>\n",
       "      <td>None</td>\n",
       "      <td>None</td>\n",
       "    </tr>\n",
       "    <tr>\n",
       "      <th>4</th>\n",
       "      <td>891327558926688256</td>\n",
       "      <td>NaN</td>\n",
       "      <td>NaN</td>\n",
       "      <td>2017-07-29 16:00:24 +0000</td>\n",
       "      <td>&lt;a href=\"http://twitter.com/download/iphone\" r...</td>\n",
       "      <td>This is Franklin. He would like you to stop ca...</td>\n",
       "      <td>NaN</td>\n",
       "      <td>NaN</td>\n",
       "      <td>NaN</td>\n",
       "      <td>https://twitter.com/dog_rates/status/891327558...</td>\n",
       "      <td>12</td>\n",
       "      <td>10</td>\n",
       "      <td>Franklin</td>\n",
       "      <td>None</td>\n",
       "      <td>None</td>\n",
       "      <td>None</td>\n",
       "      <td>None</td>\n",
       "    </tr>\n",
       "    <tr>\n",
       "      <th>...</th>\n",
       "      <td>...</td>\n",
       "      <td>...</td>\n",
       "      <td>...</td>\n",
       "      <td>...</td>\n",
       "      <td>...</td>\n",
       "      <td>...</td>\n",
       "      <td>...</td>\n",
       "      <td>...</td>\n",
       "      <td>...</td>\n",
       "      <td>...</td>\n",
       "      <td>...</td>\n",
       "      <td>...</td>\n",
       "      <td>...</td>\n",
       "      <td>...</td>\n",
       "      <td>...</td>\n",
       "      <td>...</td>\n",
       "      <td>...</td>\n",
       "    </tr>\n",
       "    <tr>\n",
       "      <th>2351</th>\n",
       "      <td>666049248165822465</td>\n",
       "      <td>NaN</td>\n",
       "      <td>NaN</td>\n",
       "      <td>2015-11-16 00:24:50 +0000</td>\n",
       "      <td>&lt;a href=\"http://twitter.com/download/iphone\" r...</td>\n",
       "      <td>Here we have a 1949 1st generation vulpix. Enj...</td>\n",
       "      <td>NaN</td>\n",
       "      <td>NaN</td>\n",
       "      <td>NaN</td>\n",
       "      <td>https://twitter.com/dog_rates/status/666049248...</td>\n",
       "      <td>5</td>\n",
       "      <td>10</td>\n",
       "      <td>None</td>\n",
       "      <td>None</td>\n",
       "      <td>None</td>\n",
       "      <td>None</td>\n",
       "      <td>None</td>\n",
       "    </tr>\n",
       "    <tr>\n",
       "      <th>2352</th>\n",
       "      <td>666044226329800704</td>\n",
       "      <td>NaN</td>\n",
       "      <td>NaN</td>\n",
       "      <td>2015-11-16 00:04:52 +0000</td>\n",
       "      <td>&lt;a href=\"http://twitter.com/download/iphone\" r...</td>\n",
       "      <td>This is a purebred Piers Morgan. Loves to Netf...</td>\n",
       "      <td>NaN</td>\n",
       "      <td>NaN</td>\n",
       "      <td>NaN</td>\n",
       "      <td>https://twitter.com/dog_rates/status/666044226...</td>\n",
       "      <td>6</td>\n",
       "      <td>10</td>\n",
       "      <td>a</td>\n",
       "      <td>None</td>\n",
       "      <td>None</td>\n",
       "      <td>None</td>\n",
       "      <td>None</td>\n",
       "    </tr>\n",
       "    <tr>\n",
       "      <th>2353</th>\n",
       "      <td>666033412701032449</td>\n",
       "      <td>NaN</td>\n",
       "      <td>NaN</td>\n",
       "      <td>2015-11-15 23:21:54 +0000</td>\n",
       "      <td>&lt;a href=\"http://twitter.com/download/iphone\" r...</td>\n",
       "      <td>Here is a very happy pup. Big fan of well-main...</td>\n",
       "      <td>NaN</td>\n",
       "      <td>NaN</td>\n",
       "      <td>NaN</td>\n",
       "      <td>https://twitter.com/dog_rates/status/666033412...</td>\n",
       "      <td>9</td>\n",
       "      <td>10</td>\n",
       "      <td>a</td>\n",
       "      <td>None</td>\n",
       "      <td>None</td>\n",
       "      <td>None</td>\n",
       "      <td>None</td>\n",
       "    </tr>\n",
       "    <tr>\n",
       "      <th>2354</th>\n",
       "      <td>666029285002620928</td>\n",
       "      <td>NaN</td>\n",
       "      <td>NaN</td>\n",
       "      <td>2015-11-15 23:05:30 +0000</td>\n",
       "      <td>&lt;a href=\"http://twitter.com/download/iphone\" r...</td>\n",
       "      <td>This is a western brown Mitsubishi terrier. Up...</td>\n",
       "      <td>NaN</td>\n",
       "      <td>NaN</td>\n",
       "      <td>NaN</td>\n",
       "      <td>https://twitter.com/dog_rates/status/666029285...</td>\n",
       "      <td>7</td>\n",
       "      <td>10</td>\n",
       "      <td>a</td>\n",
       "      <td>None</td>\n",
       "      <td>None</td>\n",
       "      <td>None</td>\n",
       "      <td>None</td>\n",
       "    </tr>\n",
       "    <tr>\n",
       "      <th>2355</th>\n",
       "      <td>666020888022790149</td>\n",
       "      <td>NaN</td>\n",
       "      <td>NaN</td>\n",
       "      <td>2015-11-15 22:32:08 +0000</td>\n",
       "      <td>&lt;a href=\"http://twitter.com/download/iphone\" r...</td>\n",
       "      <td>Here we have a Japanese Irish Setter. Lost eye...</td>\n",
       "      <td>NaN</td>\n",
       "      <td>NaN</td>\n",
       "      <td>NaN</td>\n",
       "      <td>https://twitter.com/dog_rates/status/666020888...</td>\n",
       "      <td>8</td>\n",
       "      <td>10</td>\n",
       "      <td>None</td>\n",
       "      <td>None</td>\n",
       "      <td>None</td>\n",
       "      <td>None</td>\n",
       "      <td>None</td>\n",
       "    </tr>\n",
       "  </tbody>\n",
       "</table>\n",
       "<p>2356 rows × 17 columns</p>\n",
       "</div>"
      ],
      "text/plain": [
       "                tweet_id  in_reply_to_status_id  in_reply_to_user_id  \\\n",
       "0     892420643555336193                    NaN                  NaN   \n",
       "1     892177421306343426                    NaN                  NaN   \n",
       "2     891815181378084864                    NaN                  NaN   \n",
       "3     891689557279858688                    NaN                  NaN   \n",
       "4     891327558926688256                    NaN                  NaN   \n",
       "...                  ...                    ...                  ...   \n",
       "2351  666049248165822465                    NaN                  NaN   \n",
       "2352  666044226329800704                    NaN                  NaN   \n",
       "2353  666033412701032449                    NaN                  NaN   \n",
       "2354  666029285002620928                    NaN                  NaN   \n",
       "2355  666020888022790149                    NaN                  NaN   \n",
       "\n",
       "                      timestamp  \\\n",
       "0     2017-08-01 16:23:56 +0000   \n",
       "1     2017-08-01 00:17:27 +0000   \n",
       "2     2017-07-31 00:18:03 +0000   \n",
       "3     2017-07-30 15:58:51 +0000   \n",
       "4     2017-07-29 16:00:24 +0000   \n",
       "...                         ...   \n",
       "2351  2015-11-16 00:24:50 +0000   \n",
       "2352  2015-11-16 00:04:52 +0000   \n",
       "2353  2015-11-15 23:21:54 +0000   \n",
       "2354  2015-11-15 23:05:30 +0000   \n",
       "2355  2015-11-15 22:32:08 +0000   \n",
       "\n",
       "                                                 source  \\\n",
       "0     <a href=\"http://twitter.com/download/iphone\" r...   \n",
       "1     <a href=\"http://twitter.com/download/iphone\" r...   \n",
       "2     <a href=\"http://twitter.com/download/iphone\" r...   \n",
       "3     <a href=\"http://twitter.com/download/iphone\" r...   \n",
       "4     <a href=\"http://twitter.com/download/iphone\" r...   \n",
       "...                                                 ...   \n",
       "2351  <a href=\"http://twitter.com/download/iphone\" r...   \n",
       "2352  <a href=\"http://twitter.com/download/iphone\" r...   \n",
       "2353  <a href=\"http://twitter.com/download/iphone\" r...   \n",
       "2354  <a href=\"http://twitter.com/download/iphone\" r...   \n",
       "2355  <a href=\"http://twitter.com/download/iphone\" r...   \n",
       "\n",
       "                                                   text  retweeted_status_id  \\\n",
       "0     This is Phineas. He's a mystical boy. Only eve...                  NaN   \n",
       "1     This is Tilly. She's just checking pup on you....                  NaN   \n",
       "2     This is Archie. He is a rare Norwegian Pouncin...                  NaN   \n",
       "3     This is Darla. She commenced a snooze mid meal...                  NaN   \n",
       "4     This is Franklin. He would like you to stop ca...                  NaN   \n",
       "...                                                 ...                  ...   \n",
       "2351  Here we have a 1949 1st generation vulpix. Enj...                  NaN   \n",
       "2352  This is a purebred Piers Morgan. Loves to Netf...                  NaN   \n",
       "2353  Here is a very happy pup. Big fan of well-main...                  NaN   \n",
       "2354  This is a western brown Mitsubishi terrier. Up...                  NaN   \n",
       "2355  Here we have a Japanese Irish Setter. Lost eye...                  NaN   \n",
       "\n",
       "      retweeted_status_user_id retweeted_status_timestamp  \\\n",
       "0                          NaN                        NaN   \n",
       "1                          NaN                        NaN   \n",
       "2                          NaN                        NaN   \n",
       "3                          NaN                        NaN   \n",
       "4                          NaN                        NaN   \n",
       "...                        ...                        ...   \n",
       "2351                       NaN                        NaN   \n",
       "2352                       NaN                        NaN   \n",
       "2353                       NaN                        NaN   \n",
       "2354                       NaN                        NaN   \n",
       "2355                       NaN                        NaN   \n",
       "\n",
       "                                          expanded_urls  rating_numerator  \\\n",
       "0     https://twitter.com/dog_rates/status/892420643...                13   \n",
       "1     https://twitter.com/dog_rates/status/892177421...                13   \n",
       "2     https://twitter.com/dog_rates/status/891815181...                12   \n",
       "3     https://twitter.com/dog_rates/status/891689557...                13   \n",
       "4     https://twitter.com/dog_rates/status/891327558...                12   \n",
       "...                                                 ...               ...   \n",
       "2351  https://twitter.com/dog_rates/status/666049248...                 5   \n",
       "2352  https://twitter.com/dog_rates/status/666044226...                 6   \n",
       "2353  https://twitter.com/dog_rates/status/666033412...                 9   \n",
       "2354  https://twitter.com/dog_rates/status/666029285...                 7   \n",
       "2355  https://twitter.com/dog_rates/status/666020888...                 8   \n",
       "\n",
       "      rating_denominator      name doggo floofer pupper puppo  \n",
       "0                     10   Phineas  None    None   None  None  \n",
       "1                     10     Tilly  None    None   None  None  \n",
       "2                     10    Archie  None    None   None  None  \n",
       "3                     10     Darla  None    None   None  None  \n",
       "4                     10  Franklin  None    None   None  None  \n",
       "...                  ...       ...   ...     ...    ...   ...  \n",
       "2351                  10      None  None    None   None  None  \n",
       "2352                  10         a  None    None   None  None  \n",
       "2353                  10         a  None    None   None  None  \n",
       "2354                  10         a  None    None   None  None  \n",
       "2355                  10      None  None    None   None  None  \n",
       "\n",
       "[2356 rows x 17 columns]"
      ]
     },
     "execution_count": 5,
     "metadata": {},
     "output_type": "execute_result"
    }
   ],
   "source": [
    "#visually assessing the twitter archive \n",
    "twitter_archive_df"
   ]
  },
  {
   "cell_type": "code",
   "execution_count": 6,
   "metadata": {},
   "outputs": [
    {
     "name": "stdout",
     "output_type": "stream",
     "text": [
      "<class 'pandas.core.frame.DataFrame'>\n",
      "RangeIndex: 2356 entries, 0 to 2355\n",
      "Data columns (total 17 columns):\n",
      " #   Column                      Non-Null Count  Dtype  \n",
      "---  ------                      --------------  -----  \n",
      " 0   tweet_id                    2356 non-null   int64  \n",
      " 1   in_reply_to_status_id       78 non-null     float64\n",
      " 2   in_reply_to_user_id         78 non-null     float64\n",
      " 3   timestamp                   2356 non-null   object \n",
      " 4   source                      2356 non-null   object \n",
      " 5   text                        2356 non-null   object \n",
      " 6   retweeted_status_id         181 non-null    float64\n",
      " 7   retweeted_status_user_id    181 non-null    float64\n",
      " 8   retweeted_status_timestamp  181 non-null    object \n",
      " 9   expanded_urls               2297 non-null   object \n",
      " 10  rating_numerator            2356 non-null   int64  \n",
      " 11  rating_denominator          2356 non-null   int64  \n",
      " 12  name                        2356 non-null   object \n",
      " 13  doggo                       2356 non-null   object \n",
      " 14  floofer                     2356 non-null   object \n",
      " 15  pupper                      2356 non-null   object \n",
      " 16  puppo                       2356 non-null   object \n",
      "dtypes: float64(4), int64(3), object(10)\n",
      "memory usage: 313.0+ KB\n"
     ]
    }
   ],
   "source": [
    "#See sumary of twitter archive dataframe\n",
    "twitter_archive_df.info()"
   ]
  },
  {
   "cell_type": "markdown",
   "metadata": {},
   "source": [
    "Quality issue: NaN values are written None in name, doggo, floofer, pupper & puppo coloumns"
   ]
  },
  {
   "cell_type": "markdown",
   "metadata": {},
   "source": [
    "Quality issue: 181 retweets"
   ]
  },
  {
   "cell_type": "code",
   "execution_count": 7,
   "metadata": {},
   "outputs": [
    {
     "data": {
      "text/plain": [
       "None        745\n",
       "a            55\n",
       "Charlie      12\n",
       "Oliver       11\n",
       "Cooper       11\n",
       "           ... \n",
       "Ashleigh      1\n",
       "Pip           1\n",
       "Wiggles       1\n",
       "Tilly         1\n",
       "Rudy          1\n",
       "Name: name, Length: 957, dtype: int64"
      ]
     },
     "execution_count": 7,
     "metadata": {},
     "output_type": "execute_result"
    }
   ],
   "source": [
    "#count the values in name coloumn\n",
    "twitter_archive_df['name'].value_counts()"
   ]
  },
  {
   "cell_type": "markdown",
   "metadata": {},
   "source": [
    "Quality issue: name \"a\" is  not valid"
   ]
  },
  {
   "cell_type": "code",
   "execution_count": 8,
   "metadata": {},
   "outputs": [
    {
     "data": {
      "text/plain": [
       "0"
      ]
     },
     "execution_count": 8,
     "metadata": {},
     "output_type": "execute_result"
    }
   ],
   "source": [
    "#Check for duplicates \n",
    "sum(twitter_archive_df['tweet_id'].duplicated())"
   ]
  },
  {
   "cell_type": "code",
   "execution_count": 9,
   "metadata": {},
   "outputs": [
    {
     "data": {
      "text/plain": [
       "12      558\n",
       "11      464\n",
       "10      461\n",
       "13      351\n",
       "9       158\n",
       "8       102\n",
       "7        55\n",
       "14       54\n",
       "5        37\n",
       "6        32\n",
       "3        19\n",
       "4        17\n",
       "1         9\n",
       "2         9\n",
       "420       2\n",
       "0         2\n",
       "15        2\n",
       "75        2\n",
       "80        1\n",
       "20        1\n",
       "24        1\n",
       "26        1\n",
       "44        1\n",
       "50        1\n",
       "60        1\n",
       "165       1\n",
       "84        1\n",
       "88        1\n",
       "144       1\n",
       "182       1\n",
       "143       1\n",
       "666       1\n",
       "960       1\n",
       "1776      1\n",
       "17        1\n",
       "27        1\n",
       "45        1\n",
       "99        1\n",
       "121       1\n",
       "204       1\n",
       "Name: rating_numerator, dtype: int64"
      ]
     },
     "execution_count": 9,
     "metadata": {},
     "output_type": "execute_result"
    }
   ],
   "source": [
    "#check numerators values\n",
    "twitter_archive_df.rating_numerator.value_counts()"
   ]
  },
  {
   "cell_type": "code",
   "execution_count": 10,
   "metadata": {},
   "outputs": [
    {
     "name": "stdout",
     "output_type": "stream",
     "text": [
      "315     When you're so blinded by your systematic plag...\n",
      "1016    PUPDATE: can't see any. Even if I could, I cou...\n",
      "Name: text, dtype: object\n"
     ]
    }
   ],
   "source": [
    "#Check the lines including zero in numerator\n",
    "print(twitter_archive_df.loc[twitter_archive_df.rating_numerator == 0, 'text']) "
   ]
  },
  {
   "cell_type": "markdown",
   "metadata": {},
   "source": [
    "Quality issue: There are 2 zero numerators hence no rating in lines 3015 and 1016"
   ]
  },
  {
   "cell_type": "code",
   "execution_count": 11,
   "metadata": {},
   "outputs": [
    {
     "data": {
      "text/plain": [
       "10     2333\n",
       "11        3\n",
       "50        3\n",
       "80        2\n",
       "20        2\n",
       "2         1\n",
       "16        1\n",
       "40        1\n",
       "70        1\n",
       "15        1\n",
       "90        1\n",
       "110       1\n",
       "120       1\n",
       "130       1\n",
       "150       1\n",
       "170       1\n",
       "7         1\n",
       "0         1\n",
       "Name: rating_denominator, dtype: int64"
      ]
     },
     "execution_count": 11,
     "metadata": {},
     "output_type": "execute_result"
    }
   ],
   "source": [
    "#Check denominator values\n",
    "twitter_archive_df.rating_denominator.value_counts()"
   ]
  },
  {
   "cell_type": "code",
   "execution_count": 12,
   "metadata": {},
   "outputs": [
    {
     "name": "stdout",
     "output_type": "stream",
     "text": [
      "784     RT @dog_rates: After so many requests, this is...\n",
      "1068    After so many requests, this is Bretagne. She ...\n",
      "1662    This is Darrel. He just robbed a 7/11 and is i...\n",
      "Name: text, dtype: object\n",
      "1202    This is Bluebert. He just saw that both #Final...\n",
      "1274    From left to right:\\nCletus, Jerome, Alejandro...\n",
      "1351    Here is a whole flock of puppers.  60/50 I'll ...\n",
      "Name: text, dtype: object\n",
      "1254    Here's a brigade of puppers. All look very pre...\n",
      "1843    Here we have an entire platoon of puppers. Tot...\n",
      "Name: text, dtype: object\n",
      "1165    Happy 4/20 from the squad! 13/10 for all https...\n",
      "1598    Yes I do realize a rating of 4/20 would've bee...\n",
      "Name: text, dtype: object\n",
      "2335    This is an Albanian 3 1/2 legged  Episcopalian...\n",
      "Name: text, dtype: object\n",
      "1663    I'm aware that I could've said 20/16, but here...\n",
      "Name: text, dtype: object\n",
      "1433    Happy Wednesday here's a bucket of pups. 44/40...\n",
      "Name: text, dtype: object\n",
      "433    The floofs have been released I repeat the flo...\n",
      "Name: text, dtype: object\n",
      "342    @docmisterio account started on 11/15/15\n",
      "Name: text, dtype: object\n",
      "1228    Happy Saturday here's 9 puppers on a bench. 99...\n",
      "Name: text, dtype: object\n",
      "1635    Someone help the girl is being mugged. Several...\n",
      "Name: text, dtype: object\n",
      "1779    IT'S PUPPERGEDDON. Total of 144/120 ...I think...\n",
      "Name: text, dtype: object\n",
      "1634    Two sneaky puppers were not initially seen, mo...\n",
      "Name: text, dtype: object\n",
      "902    Why does this never happen at my front door......\n",
      "Name: text, dtype: object\n",
      "1120    Say hello to this unbelievably well behaved sq...\n",
      "Name: text, dtype: object\n",
      "516    Meet Sam. She smiles 24/7 &amp; secretly aspir...\n",
      "Name: text, dtype: object\n"
     ]
    }
   ],
   "source": [
    "#Check the non-ten denominator values\n",
    "x=(11,50,80,20,2,16,40,70,15,90,110,120,130,150,170,7)\n",
    "for i in x:\n",
    "    print(twitter_archive_df.loc[twitter_archive_df.rating_denominator == i, 'text'])"
   ]
  },
  {
   "cell_type": "code",
   "execution_count": 13,
   "metadata": {},
   "outputs": [
    {
     "name": "stdout",
     "output_type": "stream",
     "text": [
      "RT @dog_rates: After so many requests, this is Bretagne. She was the last surviving 9/11 search dog, and our second ever 14/10. RIP https:/…\n",
      "After so many requests, this is Bretagne. She was the last surviving 9/11 search dog, and our second ever 14/10. RIP https://t.co/XAVDNDaVgQ\n",
      "This is Darrel. He just robbed a 7/11 and is in a high speed police chase. Was just spotted by the helicopter 10/10 https://t.co/7EsP8LmSp5\n",
      "This is Bluebert. He just saw that both #FinalFur match ups are split 50/50. Amazed af. 11/10 https://t.co/Kky1DPG4iq\n",
      "From left to right:\n",
      "Cletus, Jerome, Alejandro, Burp, &amp; Titson\n",
      "None know where camera is. 45/50 would hug all at once https://t.co/sedre1ivTK\n",
      "Here is a whole flock of puppers.  60/50 I'll take the lot https://t.co/9dpcw6MdWa\n",
      "Here's a brigade of puppers. All look very prepared for whatever happens next. 80/80 https://t.co/0eb7R1Om12\n",
      "Here we have an entire platoon of puppers. Total score: 88/80 would pet all at once https://t.co/y93p6FLvVw\n",
      "Happy 4/20 from the squad! 13/10 for all https://t.co/eV1diwds8a\n",
      "Yes I do realize a rating of 4/20 would've been fitting. However, it would be unjust to give these cooperative pups that low of a rating\n",
      "This is an Albanian 3 1/2 legged  Episcopalian. Loves well-polished hardwood flooring. Penis on the collar. 9/10 https://t.co/d9NcXFKwLv\n",
      "I'm aware that I could've said 20/16, but here at WeRateDogs we are very professional. An inconsistent rating scale is simply irresponsible\n",
      "Happy Wednesday here's a bucket of pups. 44/40 would pet all at once https://t.co/HppvrYuamZ\n",
      "The floofs have been released I repeat the floofs have been released. 84/70 https://t.co/NIYC820tmd\n"
     ]
    }
   ],
   "source": [
    "#checking the full text for the non-ten denominator\n",
    "print(twitter_archive_df['text'][784])#retweet\n",
    "print(twitter_archive_df['text'][1068])#should be 14/10\n",
    "print(twitter_archive_df['text'][1662])#should be 10/10\n",
    "print(twitter_archive_df['text'][1202])#should be 11/10\n",
    "print(twitter_archive_df['text'][1274])#No rating\n",
    "print(twitter_archive_df['text'][1351])#five dogs in photo \n",
    "print(twitter_archive_df['text'][1254])#five dogs in photo\n",
    "print(twitter_archive_df['text'][1843])#Eight dogs in photo \n",
    "print(twitter_archive_df['text'][1165])#shoud be 13/10\n",
    "print(twitter_archive_df['text'][1598])#Not link to post \n",
    "print(twitter_archive_df['text'][2335])#should be 9/10\n",
    "print(twitter_archive_df['text'][1663])#No link to post\n",
    "print(twitter_archive_df['text'][1433])#four dogs\n",
    "print(twitter_archive_df['text'][433])#No idea why!"
   ]
  },
  {
   "cell_type": "markdown",
   "metadata": {},
   "source": [
    "Quality issue: non-ten denominator"
   ]
  },
  {
   "cell_type": "markdown",
   "metadata": {},
   "source": [
    "note: When denominator is greater than 10 there are usualy multiple dogs in the photo. ie: when denominator is 50 there are 5 dogs in the picture"
   ]
  },
  {
   "cell_type": "markdown",
   "metadata": {},
   "source": [
    "Tideness issue: doggo, floofer, pupper and puppo in separate coloumns representing dog stage"
   ]
  },
  {
   "cell_type": "markdown",
   "metadata": {},
   "source": [
    "Tideness issue: Rating coloumn should be there"
   ]
  },
  {
   "cell_type": "code",
   "execution_count": 14,
   "metadata": {},
   "outputs": [
    {
     "data": {
      "text/html": [
       "<div>\n",
       "<style scoped>\n",
       "    .dataframe tbody tr th:only-of-type {\n",
       "        vertical-align: middle;\n",
       "    }\n",
       "\n",
       "    .dataframe tbody tr th {\n",
       "        vertical-align: top;\n",
       "    }\n",
       "\n",
       "    .dataframe thead th {\n",
       "        text-align: right;\n",
       "    }\n",
       "</style>\n",
       "<table border=\"1\" class=\"dataframe\">\n",
       "  <thead>\n",
       "    <tr style=\"text-align: right;\">\n",
       "      <th></th>\n",
       "      <th>tweet_id</th>\n",
       "      <th>jpg_url</th>\n",
       "      <th>img_num</th>\n",
       "      <th>p1</th>\n",
       "      <th>p1_conf</th>\n",
       "      <th>p1_dog</th>\n",
       "      <th>p2</th>\n",
       "      <th>p2_conf</th>\n",
       "      <th>p2_dog</th>\n",
       "      <th>p3</th>\n",
       "      <th>p3_conf</th>\n",
       "      <th>p3_dog</th>\n",
       "    </tr>\n",
       "  </thead>\n",
       "  <tbody>\n",
       "    <tr>\n",
       "      <th>0</th>\n",
       "      <td>666020888022790149</td>\n",
       "      <td>https://pbs.twimg.com/media/CT4udn0WwAA0aMy.jpg</td>\n",
       "      <td>1</td>\n",
       "      <td>Welsh_springer_spaniel</td>\n",
       "      <td>0.465074</td>\n",
       "      <td>True</td>\n",
       "      <td>collie</td>\n",
       "      <td>0.156665</td>\n",
       "      <td>True</td>\n",
       "      <td>Shetland_sheepdog</td>\n",
       "      <td>0.061428</td>\n",
       "      <td>True</td>\n",
       "    </tr>\n",
       "    <tr>\n",
       "      <th>1</th>\n",
       "      <td>666029285002620928</td>\n",
       "      <td>https://pbs.twimg.com/media/CT42GRgUYAA5iDo.jpg</td>\n",
       "      <td>1</td>\n",
       "      <td>redbone</td>\n",
       "      <td>0.506826</td>\n",
       "      <td>True</td>\n",
       "      <td>miniature_pinscher</td>\n",
       "      <td>0.074192</td>\n",
       "      <td>True</td>\n",
       "      <td>Rhodesian_ridgeback</td>\n",
       "      <td>0.072010</td>\n",
       "      <td>True</td>\n",
       "    </tr>\n",
       "    <tr>\n",
       "      <th>2</th>\n",
       "      <td>666033412701032449</td>\n",
       "      <td>https://pbs.twimg.com/media/CT4521TWwAEvMyu.jpg</td>\n",
       "      <td>1</td>\n",
       "      <td>German_shepherd</td>\n",
       "      <td>0.596461</td>\n",
       "      <td>True</td>\n",
       "      <td>malinois</td>\n",
       "      <td>0.138584</td>\n",
       "      <td>True</td>\n",
       "      <td>bloodhound</td>\n",
       "      <td>0.116197</td>\n",
       "      <td>True</td>\n",
       "    </tr>\n",
       "    <tr>\n",
       "      <th>3</th>\n",
       "      <td>666044226329800704</td>\n",
       "      <td>https://pbs.twimg.com/media/CT5Dr8HUEAA-lEu.jpg</td>\n",
       "      <td>1</td>\n",
       "      <td>Rhodesian_ridgeback</td>\n",
       "      <td>0.408143</td>\n",
       "      <td>True</td>\n",
       "      <td>redbone</td>\n",
       "      <td>0.360687</td>\n",
       "      <td>True</td>\n",
       "      <td>miniature_pinscher</td>\n",
       "      <td>0.222752</td>\n",
       "      <td>True</td>\n",
       "    </tr>\n",
       "    <tr>\n",
       "      <th>4</th>\n",
       "      <td>666049248165822465</td>\n",
       "      <td>https://pbs.twimg.com/media/CT5IQmsXIAAKY4A.jpg</td>\n",
       "      <td>1</td>\n",
       "      <td>miniature_pinscher</td>\n",
       "      <td>0.560311</td>\n",
       "      <td>True</td>\n",
       "      <td>Rottweiler</td>\n",
       "      <td>0.243682</td>\n",
       "      <td>True</td>\n",
       "      <td>Doberman</td>\n",
       "      <td>0.154629</td>\n",
       "      <td>True</td>\n",
       "    </tr>\n",
       "    <tr>\n",
       "      <th>...</th>\n",
       "      <td>...</td>\n",
       "      <td>...</td>\n",
       "      <td>...</td>\n",
       "      <td>...</td>\n",
       "      <td>...</td>\n",
       "      <td>...</td>\n",
       "      <td>...</td>\n",
       "      <td>...</td>\n",
       "      <td>...</td>\n",
       "      <td>...</td>\n",
       "      <td>...</td>\n",
       "      <td>...</td>\n",
       "    </tr>\n",
       "    <tr>\n",
       "      <th>2070</th>\n",
       "      <td>891327558926688256</td>\n",
       "      <td>https://pbs.twimg.com/media/DF6hr6BUMAAzZgT.jpg</td>\n",
       "      <td>2</td>\n",
       "      <td>basset</td>\n",
       "      <td>0.555712</td>\n",
       "      <td>True</td>\n",
       "      <td>English_springer</td>\n",
       "      <td>0.225770</td>\n",
       "      <td>True</td>\n",
       "      <td>German_short-haired_pointer</td>\n",
       "      <td>0.175219</td>\n",
       "      <td>True</td>\n",
       "    </tr>\n",
       "    <tr>\n",
       "      <th>2071</th>\n",
       "      <td>891689557279858688</td>\n",
       "      <td>https://pbs.twimg.com/media/DF_q7IAWsAEuuN8.jpg</td>\n",
       "      <td>1</td>\n",
       "      <td>paper_towel</td>\n",
       "      <td>0.170278</td>\n",
       "      <td>False</td>\n",
       "      <td>Labrador_retriever</td>\n",
       "      <td>0.168086</td>\n",
       "      <td>True</td>\n",
       "      <td>spatula</td>\n",
       "      <td>0.040836</td>\n",
       "      <td>False</td>\n",
       "    </tr>\n",
       "    <tr>\n",
       "      <th>2072</th>\n",
       "      <td>891815181378084864</td>\n",
       "      <td>https://pbs.twimg.com/media/DGBdLU1WsAANxJ9.jpg</td>\n",
       "      <td>1</td>\n",
       "      <td>Chihuahua</td>\n",
       "      <td>0.716012</td>\n",
       "      <td>True</td>\n",
       "      <td>malamute</td>\n",
       "      <td>0.078253</td>\n",
       "      <td>True</td>\n",
       "      <td>kelpie</td>\n",
       "      <td>0.031379</td>\n",
       "      <td>True</td>\n",
       "    </tr>\n",
       "    <tr>\n",
       "      <th>2073</th>\n",
       "      <td>892177421306343426</td>\n",
       "      <td>https://pbs.twimg.com/media/DGGmoV4XsAAUL6n.jpg</td>\n",
       "      <td>1</td>\n",
       "      <td>Chihuahua</td>\n",
       "      <td>0.323581</td>\n",
       "      <td>True</td>\n",
       "      <td>Pekinese</td>\n",
       "      <td>0.090647</td>\n",
       "      <td>True</td>\n",
       "      <td>papillon</td>\n",
       "      <td>0.068957</td>\n",
       "      <td>True</td>\n",
       "    </tr>\n",
       "    <tr>\n",
       "      <th>2074</th>\n",
       "      <td>892420643555336193</td>\n",
       "      <td>https://pbs.twimg.com/media/DGKD1-bXoAAIAUK.jpg</td>\n",
       "      <td>1</td>\n",
       "      <td>orange</td>\n",
       "      <td>0.097049</td>\n",
       "      <td>False</td>\n",
       "      <td>bagel</td>\n",
       "      <td>0.085851</td>\n",
       "      <td>False</td>\n",
       "      <td>banana</td>\n",
       "      <td>0.076110</td>\n",
       "      <td>False</td>\n",
       "    </tr>\n",
       "  </tbody>\n",
       "</table>\n",
       "<p>2075 rows × 12 columns</p>\n",
       "</div>"
      ],
      "text/plain": [
       "                tweet_id                                          jpg_url  \\\n",
       "0     666020888022790149  https://pbs.twimg.com/media/CT4udn0WwAA0aMy.jpg   \n",
       "1     666029285002620928  https://pbs.twimg.com/media/CT42GRgUYAA5iDo.jpg   \n",
       "2     666033412701032449  https://pbs.twimg.com/media/CT4521TWwAEvMyu.jpg   \n",
       "3     666044226329800704  https://pbs.twimg.com/media/CT5Dr8HUEAA-lEu.jpg   \n",
       "4     666049248165822465  https://pbs.twimg.com/media/CT5IQmsXIAAKY4A.jpg   \n",
       "...                  ...                                              ...   \n",
       "2070  891327558926688256  https://pbs.twimg.com/media/DF6hr6BUMAAzZgT.jpg   \n",
       "2071  891689557279858688  https://pbs.twimg.com/media/DF_q7IAWsAEuuN8.jpg   \n",
       "2072  891815181378084864  https://pbs.twimg.com/media/DGBdLU1WsAANxJ9.jpg   \n",
       "2073  892177421306343426  https://pbs.twimg.com/media/DGGmoV4XsAAUL6n.jpg   \n",
       "2074  892420643555336193  https://pbs.twimg.com/media/DGKD1-bXoAAIAUK.jpg   \n",
       "\n",
       "      img_num                      p1   p1_conf  p1_dog                  p2  \\\n",
       "0           1  Welsh_springer_spaniel  0.465074    True              collie   \n",
       "1           1                 redbone  0.506826    True  miniature_pinscher   \n",
       "2           1         German_shepherd  0.596461    True            malinois   \n",
       "3           1     Rhodesian_ridgeback  0.408143    True             redbone   \n",
       "4           1      miniature_pinscher  0.560311    True          Rottweiler   \n",
       "...       ...                     ...       ...     ...                 ...   \n",
       "2070        2                  basset  0.555712    True    English_springer   \n",
       "2071        1             paper_towel  0.170278   False  Labrador_retriever   \n",
       "2072        1               Chihuahua  0.716012    True            malamute   \n",
       "2073        1               Chihuahua  0.323581    True            Pekinese   \n",
       "2074        1                  orange  0.097049   False               bagel   \n",
       "\n",
       "       p2_conf  p2_dog                           p3   p3_conf  p3_dog  \n",
       "0     0.156665    True            Shetland_sheepdog  0.061428    True  \n",
       "1     0.074192    True          Rhodesian_ridgeback  0.072010    True  \n",
       "2     0.138584    True                   bloodhound  0.116197    True  \n",
       "3     0.360687    True           miniature_pinscher  0.222752    True  \n",
       "4     0.243682    True                     Doberman  0.154629    True  \n",
       "...        ...     ...                          ...       ...     ...  \n",
       "2070  0.225770    True  German_short-haired_pointer  0.175219    True  \n",
       "2071  0.168086    True                      spatula  0.040836   False  \n",
       "2072  0.078253    True                       kelpie  0.031379    True  \n",
       "2073  0.090647    True                     papillon  0.068957    True  \n",
       "2074  0.085851   False                       banana  0.076110   False  \n",
       "\n",
       "[2075 rows x 12 columns]"
      ]
     },
     "execution_count": 14,
     "metadata": {},
     "output_type": "execute_result"
    }
   ],
   "source": [
    "#visually assessing the image predictions \n",
    "image_prediction_df"
   ]
  },
  {
   "cell_type": "code",
   "execution_count": 15,
   "metadata": {},
   "outputs": [
    {
     "name": "stdout",
     "output_type": "stream",
     "text": [
      "<class 'pandas.core.frame.DataFrame'>\n",
      "RangeIndex: 2075 entries, 0 to 2074\n",
      "Data columns (total 12 columns):\n",
      " #   Column    Non-Null Count  Dtype  \n",
      "---  ------    --------------  -----  \n",
      " 0   tweet_id  2075 non-null   int64  \n",
      " 1   jpg_url   2075 non-null   object \n",
      " 2   img_num   2075 non-null   int64  \n",
      " 3   p1        2075 non-null   object \n",
      " 4   p1_conf   2075 non-null   float64\n",
      " 5   p1_dog    2075 non-null   bool   \n",
      " 6   p2        2075 non-null   object \n",
      " 7   p2_conf   2075 non-null   float64\n",
      " 8   p2_dog    2075 non-null   bool   \n",
      " 9   p3        2075 non-null   object \n",
      " 10  p3_conf   2075 non-null   float64\n",
      " 11  p3_dog    2075 non-null   bool   \n",
      "dtypes: bool(3), float64(3), int64(2), object(4)\n",
      "memory usage: 152.1+ KB\n"
     ]
    }
   ],
   "source": [
    "#See sumary of image predictions dataframe\n",
    "image_prediction_df.info()"
   ]
  },
  {
   "cell_type": "code",
   "execution_count": 16,
   "metadata": {},
   "outputs": [
    {
     "data": {
      "text/plain": [
       "66"
      ]
     },
     "execution_count": 16,
     "metadata": {},
     "output_type": "execute_result"
    }
   ],
   "source": [
    "#Check for duplicates \n",
    "sum(image_prediction_df.jpg_url.duplicated())"
   ]
  },
  {
   "cell_type": "markdown",
   "metadata": {},
   "source": [
    "Quality issue: 66 image duplicates"
   ]
  },
  {
   "cell_type": "markdown",
   "metadata": {},
   "source": [
    "Tidiness issue: multiple couloumns representing image prediction and confidence level"
   ]
  },
  {
   "cell_type": "code",
   "execution_count": 17,
   "metadata": {},
   "outputs": [
    {
     "data": {
      "text/html": [
       "<div>\n",
       "<style scoped>\n",
       "    .dataframe tbody tr th:only-of-type {\n",
       "        vertical-align: middle;\n",
       "    }\n",
       "\n",
       "    .dataframe tbody tr th {\n",
       "        vertical-align: top;\n",
       "    }\n",
       "\n",
       "    .dataframe thead th {\n",
       "        text-align: right;\n",
       "    }\n",
       "</style>\n",
       "<table border=\"1\" class=\"dataframe\">\n",
       "  <thead>\n",
       "    <tr style=\"text-align: right;\">\n",
       "      <th></th>\n",
       "      <th>tweet_id</th>\n",
       "      <th>retweet_count</th>\n",
       "      <th>favorite_count</th>\n",
       "    </tr>\n",
       "  </thead>\n",
       "  <tbody>\n",
       "    <tr>\n",
       "      <th>0</th>\n",
       "      <td>892420643555336193</td>\n",
       "      <td>8853</td>\n",
       "      <td>39467</td>\n",
       "    </tr>\n",
       "    <tr>\n",
       "      <th>1</th>\n",
       "      <td>892177421306343426</td>\n",
       "      <td>6514</td>\n",
       "      <td>33819</td>\n",
       "    </tr>\n",
       "    <tr>\n",
       "      <th>2</th>\n",
       "      <td>891815181378084864</td>\n",
       "      <td>4328</td>\n",
       "      <td>25461</td>\n",
       "    </tr>\n",
       "    <tr>\n",
       "      <th>3</th>\n",
       "      <td>891689557279858688</td>\n",
       "      <td>8964</td>\n",
       "      <td>42908</td>\n",
       "    </tr>\n",
       "    <tr>\n",
       "      <th>4</th>\n",
       "      <td>891327558926688256</td>\n",
       "      <td>9774</td>\n",
       "      <td>41048</td>\n",
       "    </tr>\n",
       "    <tr>\n",
       "      <th>...</th>\n",
       "      <td>...</td>\n",
       "      <td>...</td>\n",
       "      <td>...</td>\n",
       "    </tr>\n",
       "    <tr>\n",
       "      <th>2349</th>\n",
       "      <td>666049248165822465</td>\n",
       "      <td>41,</td>\n",
       "      <td>111,</td>\n",
       "    </tr>\n",
       "    <tr>\n",
       "      <th>2350</th>\n",
       "      <td>666044226329800704</td>\n",
       "      <td>147,</td>\n",
       "      <td>311,</td>\n",
       "    </tr>\n",
       "    <tr>\n",
       "      <th>2351</th>\n",
       "      <td>666033412701032449</td>\n",
       "      <td>47,</td>\n",
       "      <td>128,</td>\n",
       "    </tr>\n",
       "    <tr>\n",
       "      <th>2352</th>\n",
       "      <td>666029285002620928</td>\n",
       "      <td>48,</td>\n",
       "      <td>132,</td>\n",
       "    </tr>\n",
       "    <tr>\n",
       "      <th>2353</th>\n",
       "      <td>666020888022790149</td>\n",
       "      <td>532,</td>\n",
       "      <td>2535,</td>\n",
       "    </tr>\n",
       "  </tbody>\n",
       "</table>\n",
       "<p>2354 rows × 3 columns</p>\n",
       "</div>"
      ],
      "text/plain": [
       "                tweet_id retweet_count favorite_count\n",
       "0     892420643555336193          8853          39467\n",
       "1     892177421306343426          6514          33819\n",
       "2     891815181378084864          4328          25461\n",
       "3     891689557279858688          8964          42908\n",
       "4     891327558926688256          9774          41048\n",
       "...                  ...           ...            ...\n",
       "2349  666049248165822465          41,           111, \n",
       "2350  666044226329800704          147,          311, \n",
       "2351  666033412701032449          47,           128, \n",
       "2352  666029285002620928          48,           132, \n",
       "2353  666020888022790149          532,          2535,\n",
       "\n",
       "[2354 rows x 3 columns]"
      ]
     },
     "execution_count": 17,
     "metadata": {},
     "output_type": "execute_result"
    }
   ],
   "source": [
    "#visually assessing the tweet json \n",
    "tweet_json_df"
   ]
  },
  {
   "cell_type": "code",
   "execution_count": 18,
   "metadata": {},
   "outputs": [
    {
     "name": "stdout",
     "output_type": "stream",
     "text": [
      "<class 'pandas.core.frame.DataFrame'>\n",
      "RangeIndex: 2354 entries, 0 to 2353\n",
      "Data columns (total 3 columns):\n",
      " #   Column          Non-Null Count  Dtype \n",
      "---  ------          --------------  ----- \n",
      " 0   tweet_id        2354 non-null   object\n",
      " 1   retweet_count   2354 non-null   object\n",
      " 2   favorite_count  2354 non-null   object\n",
      "dtypes: object(3)\n",
      "memory usage: 55.3+ KB\n"
     ]
    }
   ],
   "source": [
    "#See sumary of tweet json dataframe\n",
    "tweet_json_df.info()"
   ]
  },
  {
   "cell_type": "markdown",
   "metadata": {},
   "source": [
    "Quality issue: data type for tweet_id is objects not int"
   ]
  },
  {
   "cell_type": "markdown",
   "metadata": {},
   "source": [
    "# Summary of Assessment"
   ]
  },
  {
   "cell_type": "markdown",
   "metadata": {},
   "source": [
    "### Quality Issues"
   ]
  },
  {
   "cell_type": "markdown",
   "metadata": {
    "raw_mimetype": "text/markdown"
   },
   "source": [
    "twitter_archive_df\n",
    "1. 181 retweets \n",
    "2. NaN values are written None in name coloumn\n",
    "3. name \"a\" is  not valid\n",
    "4. NaN values are written None in doggo, floofer, pupper & puppo coloumns\n",
    "5. There are 2 zero numerators hence no rating in lines 3015 and 1016\n",
    "6. non-ten denominator\n",
    "7. Useless coloumns for analysis ('Source','in_reply_to_status_id','in_reply_to_user_id','retweeted_status_id','retweeted_status_user_id','retweeted_status_timestamp','expanded_urls')      \n",
    "\n",
    "image_prediction_df\n",
    "\n",
    "8. 66 image duplicates\n",
    "9. many predection values\n",
    "\n",
    "tweet_json_df\n",
    "\n",
    "10. data type for tweet_id is object not int"
   ]
  },
  {
   "cell_type": "markdown",
   "metadata": {},
   "source": [
    "### Tideness Issues"
   ]
  },
  {
   "cell_type": "markdown",
   "metadata": {},
   "source": [
    "twitter_archive_df\n",
    "1. doggo, floofer, pupper and puppo in separate coloumns representing dog stage\n",
    "2. Overall rating coloumn should be there\n",
    "\n",
    "Overall\n",
    "\n",
    "3. All tables should be part of one dataset\n"
   ]
  },
  {
   "cell_type": "markdown",
   "metadata": {},
   "source": [
    "# Cleaning"
   ]
  },
  {
   "cell_type": "code",
   "execution_count": 8,
   "metadata": {},
   "outputs": [],
   "source": [
    "#Creating copies of dataframes to save cleaned\n",
    "twitter_archive_df_clean = twitter_archive_df.copy()\n",
    "image_prediction_df_clean = image_prediction_df.copy()\n",
    "tweet_json_df_clean = tweet_json_df.copy()"
   ]
  },
  {
   "cell_type": "markdown",
   "metadata": {},
   "source": [
    "### Quality Issues"
   ]
  },
  {
   "cell_type": "markdown",
   "metadata": {},
   "source": [
    "#### twitter_archive_df"
   ]
  },
  {
   "cell_type": "markdown",
   "metadata": {},
   "source": [
    "1. Remove retweets"
   ]
  },
  {
   "cell_type": "code",
   "execution_count": 9,
   "metadata": {},
   "outputs": [
    {
     "name": "stdout",
     "output_type": "stream",
     "text": [
      "0\n"
     ]
    }
   ],
   "source": [
    "#Define\n",
    "#Remove non-NaN retweet_status_user_id rows\n",
    "\n",
    "#Code\n",
    "twitter_archive_df_clean = twitter_archive_df_clean[(twitter_archive_df_clean['retweeted_status_user_id']).isnull()]\n",
    "\n",
    "#Test\n",
    "print(sum(twitter_archive_df_clean.retweeted_status_user_id.value_counts()))"
   ]
  },
  {
   "cell_type": "markdown",
   "metadata": {},
   "source": [
    "2. Replace all none value to NaN"
   ]
  },
  {
   "cell_type": "code",
   "execution_count": 10,
   "metadata": {},
   "outputs": [
    {
     "data": {
      "text/plain": [
       "a          55\n",
       "Lucy       11\n",
       "Charlie    11\n",
       "Cooper     10\n",
       "Oliver     10\n",
       "           ..\n",
       "Sephie      1\n",
       "Tuck        1\n",
       "Rhino       1\n",
       "Batdog      1\n",
       "Thor        1\n",
       "Name: name, Length: 955, dtype: int64"
      ]
     },
     "execution_count": 10,
     "metadata": {},
     "output_type": "execute_result"
    }
   ],
   "source": [
    "#Define\n",
    "# replace none with NaN\n",
    "\n",
    "#Code\n",
    "twitter_archive_df_clean['name'].replace('None', np.nan, inplace=True)\n",
    "\n",
    "#Test\n",
    "twitter_archive_df_clean['name'].value_counts()"
   ]
  },
  {
   "cell_type": "markdown",
   "metadata": {},
   "source": [
    "3. Replace a with NaN "
   ]
  },
  {
   "cell_type": "code",
   "execution_count": 11,
   "metadata": {},
   "outputs": [
    {
     "data": {
      "text/plain": [
       "Charlie    11\n",
       "Lucy       11\n",
       "Oliver     10\n",
       "Cooper     10\n",
       "Tucker      9\n",
       "           ..\n",
       "Tuck        1\n",
       "Rhino       1\n",
       "Batdog      1\n",
       "Vinnie      1\n",
       "Thor        1\n",
       "Name: name, Length: 954, dtype: int64"
      ]
     },
     "execution_count": 11,
     "metadata": {},
     "output_type": "execute_result"
    }
   ],
   "source": [
    "#Define\n",
    "#replace a with NaN\n",
    "\n",
    "#CODE\n",
    "twitter_archive_df_clean['name'].replace('a', np.nan, inplace=True)\n",
    "\n",
    "#Test\n",
    "twitter_archive_df_clean['name'].value_counts()"
   ]
  },
  {
   "cell_type": "markdown",
   "metadata": {},
   "source": [
    "4. Replace \"0\" numerator with NaN"
   ]
  },
  {
   "cell_type": "code",
   "execution_count": 12,
   "metadata": {},
   "outputs": [
    {
     "data": {
      "text/plain": [
       "12      500\n",
       "10      442\n",
       "11      426\n",
       "13      307\n",
       "9       156\n",
       "8        98\n",
       "7        54\n",
       "14       43\n",
       "5        36\n",
       "6        32\n",
       "3        19\n",
       "4        17\n",
       "2         9\n",
       "1         8\n",
       "420       2\n",
       "0         2\n",
       "20        1\n",
       "24        1\n",
       "26        1\n",
       "84        1\n",
       "44        1\n",
       "50        1\n",
       "60        1\n",
       "80        1\n",
       "165       1\n",
       "88        1\n",
       "144       1\n",
       "182       1\n",
       "143       1\n",
       "666       1\n",
       "960       1\n",
       "1776      1\n",
       "15        1\n",
       "17        1\n",
       "27        1\n",
       "45        1\n",
       "75        1\n",
       "99        1\n",
       "121       1\n",
       "204       1\n",
       "Name: rating_numerator, dtype: int64"
      ]
     },
     "execution_count": 12,
     "metadata": {},
     "output_type": "execute_result"
    }
   ],
   "source": [
    "#first check the values in numerator after the cleaning process above\n",
    "twitter_archive_df_clean['rating_numerator'].value_counts()"
   ]
  },
  {
   "cell_type": "code",
   "execution_count": 13,
   "metadata": {},
   "outputs": [
    {
     "data": {
      "text/plain": [
       "12.0      500\n",
       "10.0      442\n",
       "11.0      426\n",
       "13.0      307\n",
       "9.0       156\n",
       "8.0        98\n",
       "7.0        54\n",
       "14.0       43\n",
       "5.0        36\n",
       "6.0        32\n",
       "3.0        19\n",
       "4.0        17\n",
       "2.0         9\n",
       "1.0         8\n",
       "420.0       2\n",
       "17.0        1\n",
       "15.0        1\n",
       "960.0       1\n",
       "84.0        1\n",
       "24.0        1\n",
       "27.0        1\n",
       "143.0       1\n",
       "50.0        1\n",
       "666.0       1\n",
       "121.0       1\n",
       "182.0       1\n",
       "165.0       1\n",
       "45.0        1\n",
       "75.0        1\n",
       "204.0       1\n",
       "1776.0      1\n",
       "99.0        1\n",
       "88.0        1\n",
       "144.0       1\n",
       "26.0        1\n",
       "20.0        1\n",
       "44.0        1\n",
       "60.0        1\n",
       "80.0        1\n",
       "Name: rating_numerator, dtype: int64"
      ]
     },
     "execution_count": 13,
     "metadata": {},
     "output_type": "execute_result"
    }
   ],
   "source": [
    "#Define\n",
    "#Replace 0 with NaN\n",
    "\n",
    "#Code\n",
    "twitter_archive_df_clean['rating_numerator'].replace(0, np.nan, inplace=True)\n",
    "\n",
    "#Test\n",
    "twitter_archive_df_clean['rating_numerator'].value_counts()"
   ]
  },
  {
   "cell_type": "markdown",
   "metadata": {},
   "source": [
    "5. Correct non-ten denominator"
   ]
  },
  {
   "cell_type": "code",
   "execution_count": 14,
   "metadata": {},
   "outputs": [
    {
     "name": "stdout",
     "output_type": "stream",
     "text": [
      "740373189193256964\n",
      "682962037429899265\n",
      "716439118184652801\n",
      "722974582966214656\n",
      "666287406224695296\n"
     ]
    }
   ],
   "source": [
    "#Get tweet_id for correction\n",
    "print(twitter_archive_df['tweet_id'][1068])#should be 14/10\n",
    "print(twitter_archive_df['tweet_id'][1662])#should be 10/10\n",
    "print(twitter_archive_df['tweet_id'][1202])#should be 11/10\n",
    "print(twitter_archive_df['tweet_id'][1165])#shoud be 13/10\n",
    "print(twitter_archive_df['tweet_id'][2335])#should be 9/10"
   ]
  },
  {
   "cell_type": "code",
   "execution_count": 15,
   "metadata": {},
   "outputs": [],
   "source": [
    "#Change data type to float to allow dicemal \n",
    "twitter_archive_df_clean[['rating_numerator', 'rating_denominator']] = twitter_archive_df_clean[['rating_numerator','rating_denominator']].astype(float)"
   ]
  },
  {
   "cell_type": "code",
   "execution_count": 16,
   "metadata": {},
   "outputs": [
    {
     "data": {
      "text/plain": [
       "10.0     2158\n",
       "50.0        2\n",
       "80.0        2\n",
       "150.0       1\n",
       "110.0       1\n",
       "90.0        1\n",
       "130.0       1\n",
       "70.0        1\n",
       "170.0       1\n",
       "120.0       1\n",
       "16.0        1\n",
       "20.0        1\n",
       "40.0        1\n",
       "7.0         1\n",
       "15.0        1\n",
       "0.0         1\n",
       "Name: rating_denominator, dtype: int64"
      ]
     },
     "execution_count": 16,
     "metadata": {},
     "output_type": "execute_result"
    }
   ],
   "source": [
    "#Define\n",
    "#Update the numerator and denominators detected\n",
    "\n",
    "#Code\n",
    "twitter_archive_df_clean.loc[(twitter_archive_df_clean.tweet_id == 740373189193256964), 'rating_numerator'] = 14\n",
    "twitter_archive_df_clean.loc[(twitter_archive_df_clean.tweet_id == 740373189193256964), 'rating_denominator'] = 10\n",
    "\n",
    "twitter_archive_df_clean.loc[(twitter_archive_df_clean.tweet_id == 682962037429899265), 'rating_numerator'] = 10\n",
    "twitter_archive_df_clean.loc[(twitter_archive_df_clean.tweet_id == 682962037429899265), 'rating_denominator'] = 10\n",
    "\n",
    "twitter_archive_df_clean.loc[(twitter_archive_df_clean.tweet_id == 666287406224695296), 'rating_numerator'] = 9\n",
    "twitter_archive_df_clean.loc[(twitter_archive_df_clean.tweet_id == 666287406224695296), 'rating_denominator'] = 10\n",
    "\n",
    "twitter_archive_df_clean.loc[(twitter_archive_df_clean.tweet_id == 722974582966214656), 'rating_numerator'] = 13\n",
    "twitter_archive_df_clean.loc[(twitter_archive_df_clean.tweet_id == 722974582966214656), 'rating_denominator'] = 10\n",
    "\n",
    "twitter_archive_df_clean.loc[(twitter_archive_df_clean.tweet_id == 716439118184652801), 'rating_numerator'] = 11\n",
    "twitter_archive_df_clean.loc[(twitter_archive_df_clean.tweet_id == 716439118184652801), 'rating_denominator'] = 10\n",
    "\n",
    "#Test\n",
    "#Check denominator values\n",
    "twitter_archive_df_clean.rating_denominator.value_counts()"
   ]
  },
  {
   "cell_type": "code",
   "execution_count": 17,
   "metadata": {},
   "outputs": [
    {
     "data": {
      "text/plain": [
       "10.0     2158\n",
       "50.0        2\n",
       "80.0        2\n",
       "150.0       1\n",
       "110.0       1\n",
       "90.0        1\n",
       "130.0       1\n",
       "70.0        1\n",
       "170.0       1\n",
       "120.0       1\n",
       "16.0        1\n",
       "20.0        1\n",
       "40.0        1\n",
       "7.0         1\n",
       "15.0        1\n",
       "Name: rating_denominator, dtype: int64"
      ]
     },
     "execution_count": 17,
     "metadata": {},
     "output_type": "execute_result"
    }
   ],
   "source": [
    "#Define\n",
    "#Replace 0 with NaN\n",
    "\n",
    "#Code\n",
    "twitter_archive_df_clean['rating_denominator'].replace(0, np.nan, inplace=True)\n",
    "\n",
    "#Test\n",
    "twitter_archive_df_clean['rating_denominator'].value_counts()"
   ]
  },
  {
   "cell_type": "code",
   "execution_count": 18,
   "metadata": {},
   "outputs": [
    {
     "name": "stdout",
     "output_type": "stream",
     "text": [
      "               tweet_id  in_reply_to_status_id  in_reply_to_user_id  \\\n",
      "516  810984652412424192                    NaN                  NaN   \n",
      "\n",
      "                     timestamp  \\\n",
      "516  2016-12-19 23:06:23 +0000   \n",
      "\n",
      "                                                source  \\\n",
      "516  <a href=\"http://twitter.com/download/iphone\" r...   \n",
      "\n",
      "                                                  text  retweeted_status_id  \\\n",
      "516  Meet Sam. She smiles 24/7 &amp; secretly aspir...                  NaN   \n",
      "\n",
      "     retweeted_status_user_id retweeted_status_timestamp  \\\n",
      "516                       NaN                        NaN   \n",
      "\n",
      "                                         expanded_urls  rating_numerator  \\\n",
      "516  https://www.gofundme.com/sams-smile,https://tw...              24.0   \n",
      "\n",
      "     rating_denominator name doggo floofer pupper puppo  \n",
      "516                 7.0  Sam  None    None   None  None  \n",
      "               tweet_id  in_reply_to_status_id  in_reply_to_user_id  \\\n",
      "342  832088576586297345           8.320875e+17           30582082.0   \n",
      "\n",
      "                     timestamp  \\\n",
      "342  2017-02-16 04:45:50 +0000   \n",
      "\n",
      "                                                source  \\\n",
      "342  <a href=\"http://twitter.com/download/iphone\" r...   \n",
      "\n",
      "                                         text  retweeted_status_id  \\\n",
      "342  @docmisterio account started on 11/15/15                  NaN   \n",
      "\n",
      "     retweeted_status_user_id retweeted_status_timestamp expanded_urls  \\\n",
      "342                       NaN                        NaN           NaN   \n",
      "\n",
      "     rating_numerator  rating_denominator name doggo floofer pupper puppo  \n",
      "342              11.0                15.0  NaN  None    None   None  None  \n"
     ]
    }
   ],
   "source": [
    "#check the 7 and 15\n",
    "print(twitter_archive_df_clean.loc[twitter_archive_df_clean.rating_denominator == 7])\n",
    "print(twitter_archive_df_clean.loc[twitter_archive_df_clean.rating_denominator == 15])"
   ]
  },
  {
   "cell_type": "code",
   "execution_count": 19,
   "metadata": {},
   "outputs": [
    {
     "name": "stdout",
     "output_type": "stream",
     "text": [
      "Meet Sam. She smiles 24/7 &amp; secretly aspires to be a reindeer. \n",
      "Keep Sam smiling by clicking and sharing this link:\n",
      "https://t.co/98tB8y7y7t https://t.co/LouL5vdvxx\n",
      "@docmisterio account started on 11/15/15\n"
     ]
    }
   ],
   "source": [
    "print(twitter_archive_df['text'][516])\n",
    "print(twitter_archive_df['text'][342])"
   ]
  },
  {
   "cell_type": "markdown",
   "metadata": {},
   "source": [
    "Quality issue: No rating!"
   ]
  },
  {
   "cell_type": "markdown",
   "metadata": {},
   "source": [
    "Replace 7 and 15 with NaN"
   ]
  },
  {
   "cell_type": "code",
   "execution_count": 20,
   "metadata": {},
   "outputs": [
    {
     "data": {
      "text/plain": [
       "10.0     2158\n",
       "50.0        2\n",
       "80.0        2\n",
       "150.0       1\n",
       "110.0       1\n",
       "130.0       1\n",
       "70.0        1\n",
       "170.0       1\n",
       "120.0       1\n",
       "16.0        1\n",
       "20.0        1\n",
       "40.0        1\n",
       "90.0        1\n",
       "Name: rating_denominator, dtype: int64"
      ]
     },
     "execution_count": 20,
     "metadata": {},
     "output_type": "execute_result"
    }
   ],
   "source": [
    "#Define\n",
    "#Replace 7 and 15 with NaN\n",
    "\n",
    "#Code\n",
    "twitter_archive_df_clean['rating_denominator'].replace(7, np.nan, inplace=True)\n",
    "twitter_archive_df_clean['rating_denominator'].replace(15, np.nan, inplace=True)\n",
    "\n",
    "#Test\n",
    "twitter_archive_df_clean['rating_denominator'].value_counts()"
   ]
  },
  {
   "cell_type": "markdown",
   "metadata": {},
   "source": [
    "6. Remove Useless coloumns not useful for analysis"
   ]
  },
  {
   "cell_type": "code",
   "execution_count": 21,
   "metadata": {},
   "outputs": [
    {
     "name": "stdout",
     "output_type": "stream",
     "text": [
      "<class 'pandas.core.frame.DataFrame'>\n",
      "Int64Index: 2175 entries, 0 to 2355\n",
      "Data columns (total 11 columns):\n",
      " #   Column              Non-Null Count  Dtype  \n",
      "---  ------              --------------  -----  \n",
      " 0   tweet_id            2175 non-null   int64  \n",
      " 1   timestamp           2175 non-null   object \n",
      " 2   text                2175 non-null   object \n",
      " 3   expanded_urls       2117 non-null   object \n",
      " 4   rating_numerator    2173 non-null   float64\n",
      " 5   rating_denominator  2172 non-null   float64\n",
      " 6   name                1440 non-null   object \n",
      " 7   doggo               2175 non-null   object \n",
      " 8   floofer             2175 non-null   object \n",
      " 9   pupper              2175 non-null   object \n",
      " 10  puppo               2175 non-null   object \n",
      "dtypes: float64(2), int64(1), object(8)\n",
      "memory usage: 203.9+ KB\n"
     ]
    }
   ],
   "source": [
    "#Define\n",
    "#Remoce columns no needed\n",
    "\n",
    "#Code\n",
    "twitter_archive_df_clean = twitter_archive_df_clean.drop(['source',\n",
    "                                                    'in_reply_to_status_id',\n",
    "                                                    'in_reply_to_user_id',\n",
    "                                                    'retweeted_status_id',\n",
    "                                                    'retweeted_status_user_id', \n",
    "                                                    'retweeted_status_timestamp'], 1)\n",
    "\n",
    "#Test\n",
    "twitter_archive_df_clean.info()"
   ]
  },
  {
   "cell_type": "markdown",
   "metadata": {},
   "source": [
    "#### image_prediction_df"
   ]
  },
  {
   "cell_type": "markdown",
   "metadata": {},
   "source": [
    "7. Remove duplicates"
   ]
  },
  {
   "cell_type": "code",
   "execution_count": 22,
   "metadata": {},
   "outputs": [
    {
     "data": {
      "text/plain": [
       "0"
      ]
     },
     "execution_count": 22,
     "metadata": {},
     "output_type": "execute_result"
    }
   ],
   "source": [
    "#Define\n",
    "#Remove jpg_url duplicates \n",
    "\n",
    "#Code\n",
    "image_prediction_df_clean = image_prediction_df_clean.drop_duplicates(subset=['jpg_url'], keep='last')\n",
    "\n",
    "#Test\n",
    "sum(image_prediction_df_clean['jpg_url'].duplicated())"
   ]
  },
  {
   "cell_type": "markdown",
   "metadata": {},
   "source": [
    "#### tweet_json_df"
   ]
  },
  {
   "cell_type": "markdown",
   "metadata": {},
   "source": [
    "8. Modify data type for tweet_id to be int64 not object"
   ]
  },
  {
   "cell_type": "code",
   "execution_count": 25,
   "metadata": {},
   "outputs": [
    {
     "name": "stdout",
     "output_type": "stream",
     "text": [
      "string\n"
     ]
    }
   ],
   "source": [
    "#Define\n",
    "#Change data type to int\n",
    "\n",
    "#Code\n",
    "tweet_json_df_clean['tweet_id'] = tweet_json_df_clean['tweet_id'].astype(dtype=\"string\")\n",
    "\n",
    "#Test\n",
    "print(tweet_json_df_clean['tweet_id'].dtypes)"
   ]
  },
  {
   "cell_type": "markdown",
   "metadata": {},
   "source": [
    "9. Get the true predection in one colomn and its conf. level in one colomn and remove the others"
   ]
  },
  {
   "cell_type": "code",
   "execution_count": 26,
   "metadata": {},
   "outputs": [
    {
     "name": "stdout",
     "output_type": "stream",
     "text": [
      "<class 'pandas.core.frame.DataFrame'>\n",
      "Int64Index: 1691 entries, 0 to 2073\n",
      "Data columns (total 5 columns):\n",
      " #   Column           Non-Null Count  Dtype \n",
      "---  ------           --------------  ----- \n",
      " 0   tweet_id         1691 non-null   int64 \n",
      " 1   jpg_url          1691 non-null   object\n",
      " 2   img_num          1691 non-null   int64 \n",
      " 3   dog_type         1691 non-null   object\n",
      " 4   confidence_list  1691 non-null   object\n",
      "dtypes: int64(2), object(3)\n",
      "memory usage: 79.3+ KB\n"
     ]
    }
   ],
   "source": [
    "#Define\n",
    "#Create two new lists\n",
    "\n",
    "\n",
    "#Code\n",
    "\n",
    "dog_type = []\n",
    "confidence_list = []\n",
    "\n",
    "#First true predection is taken \n",
    "def image(image_prediction_df_clean):\n",
    "    if image_prediction_df_clean['p1_dog'] == True:\n",
    "        dog_type.append(image_prediction_df_clean['p1'])\n",
    "        confidence_list.append(image_prediction_df_clean['p1_conf'])\n",
    "    elif image_prediction_df_clean['p2_dog'] == True:\n",
    "        dog_type.append(image_prediction_df_clean['p2'])\n",
    "        confidence_list.append(image_prediction_df_clean['p2_conf'])\n",
    "    elif image_prediction_df_clean['p3_dog'] == True:\n",
    "        dog_type.append(image_prediction_df_clean['p3'])\n",
    "        confidence_list.append(image_prediction_df_clean['p3_conf'])\n",
    "    else:\n",
    "        dog_type.append('Error')\n",
    "        confidence_list.append('Error')\n",
    "\n",
    "#series objects having index the image_prediction_clean column.        \n",
    "image_prediction_df_clean.apply(image, axis=1)\n",
    "\n",
    "#create new columns\n",
    "image_prediction_df_clean['dog_type'] = dog_type\n",
    "image_prediction_df_clean['confidence_list'] = confidence_list\n",
    "\n",
    "\n",
    "#remove rows that has prediction_list 'error'\n",
    "image_prediction_df_clean = image_prediction_df_clean[image_prediction_df_clean['dog_type'] != 'Error']\n",
    "\n",
    "#remove the predections colomns\n",
    "image_prediction_df_clean = image_prediction_df_clean.drop(['p1', \n",
    "                                                      'p1_conf', 'p1_dog', \n",
    "                                                      'p2', 'p2_conf', \n",
    "                                                      'p2_dog', 'p3', \n",
    "                                                      'p3_conf', \n",
    "                                                      'p3_dog'], 1)\n",
    "\n",
    "#Test\n",
    "image_prediction_df_clean.info()"
   ]
  },
  {
   "cell_type": "code",
   "execution_count": null,
   "metadata": {},
   "outputs": [],
   "source": []
  },
  {
   "cell_type": "markdown",
   "metadata": {},
   "source": [
    "### Tideness Issues"
   ]
  },
  {
   "cell_type": "markdown",
   "metadata": {},
   "source": [
    "#### twitter_archive_df"
   ]
  },
  {
   "cell_type": "markdown",
   "metadata": {},
   "source": [
    "1. doggo, floofer, pupper and puppo into one coloumn \"dog_stage\""
   ]
  },
  {
   "cell_type": "code",
   "execution_count": 96,
   "metadata": {},
   "outputs": [
    {
     "name": "stdout",
     "output_type": "stream",
     "text": [
      "<class 'pandas.core.frame.DataFrame'>\n",
      "Int64Index: 2175 entries, 0 to 2355\n",
      "Data columns (total 12 columns):\n",
      " #   Column              Non-Null Count  Dtype  \n",
      "---  ------              --------------  -----  \n",
      " 0   tweet_id            2175 non-null   int64  \n",
      " 1   timestamp           2175 non-null   object \n",
      " 2   text                2175 non-null   object \n",
      " 3   expanded_urls       2117 non-null   object \n",
      " 4   rating_numerator    2173 non-null   float64\n",
      " 5   rating_denominator  2172 non-null   float64\n",
      " 6   name                1440 non-null   object \n",
      " 7   doggo               2175 non-null   object \n",
      " 8   floofer             2175 non-null   object \n",
      " 9   pupper              2175 non-null   object \n",
      " 10  puppo               2175 non-null   object \n",
      " 11  dogs_stage          2175 non-null   object \n",
      "dtypes: float64(2), int64(1), object(9)\n",
      "memory usage: 300.9+ KB\n"
     ]
    }
   ],
   "source": [
    "twitter_archive_df_clean.info()"
   ]
  },
  {
   "cell_type": "code",
   "execution_count": 27,
   "metadata": {},
   "outputs": [
    {
     "data": {
      "text/plain": [
       "None       1831\n",
       "pupper      234\n",
       "doggo        75\n",
       "puppo        25\n",
       "floofer      10\n",
       "Name: dogs_stage, dtype: int64"
      ]
     },
     "execution_count": 27,
     "metadata": {},
     "output_type": "execute_result"
    }
   ],
   "source": [
    "#Define\n",
    "#doggo, floofer, pupper and puppo into one coloumn \"dog_stage\"\n",
    "\n",
    "#Code\n",
    "#Combine the doggo, floofer, pupper and puppo columns to dogs and dogs_stage column\n",
    "twitter_archive_df_clean = pd.melt(twitter_archive_df_clean, id_vars=['tweet_id',                                          \n",
    "                                                                'timestamp',\n",
    "                                                                'text', \n",
    "                                                                'expanded_urls',    \n",
    "                                                                'rating_numerator',\n",
    "                                                                'rating_denominator',\n",
    "                                                                'name'],\n",
    "                               var_name='dogs', value_name='dogs_stage')\n",
    "\n",
    "#drop dogs\n",
    "twitter_archive_df_clean = twitter_archive_df_clean.drop('dogs', 1)\n",
    "\n",
    "#change dogs_stage data type to string\n",
    "twitter_archive_df_clean['dogs_stage'] = twitter_archive_df_clean['dogs_stage'].astype(dtype=str)\n",
    "\n",
    "#Sort by dogs_stage then drop duplicated based on tweet_id except the last occurrence\n",
    "twitter_archive_df_clean = twitter_archive_df_clean.sort_values('dogs_stage').drop_duplicates(subset='tweet_id', \n",
    "                                                                                        keep='last')\n",
    "\n",
    "#test\n",
    "twitter_archive_df_clean['dogs_stage'].value_counts()"
   ]
  },
  {
   "cell_type": "code",
   "execution_count": 28,
   "metadata": {},
   "outputs": [
    {
     "name": "stdout",
     "output_type": "stream",
     "text": [
      "<class 'pandas.core.frame.DataFrame'>\n",
      "Int64Index: 2175 entries, 2095 to 7298\n",
      "Data columns (total 8 columns):\n",
      " #   Column              Non-Null Count  Dtype  \n",
      "---  ------              --------------  -----  \n",
      " 0   tweet_id            2175 non-null   int64  \n",
      " 1   timestamp           2175 non-null   object \n",
      " 2   text                2175 non-null   object \n",
      " 3   expanded_urls       2117 non-null   object \n",
      " 4   rating_numerator    2173 non-null   float64\n",
      " 5   rating_denominator  2172 non-null   float64\n",
      " 6   name                1440 non-null   object \n",
      " 7   dogs_stage          2175 non-null   object \n",
      "dtypes: float64(2), int64(1), object(5)\n",
      "memory usage: 152.9+ KB\n"
     ]
    }
   ],
   "source": [
    "twitter_archive_df_clean.info()"
   ]
  },
  {
   "cell_type": "code",
   "execution_count": 29,
   "metadata": {},
   "outputs": [
    {
     "data": {
      "text/plain": [
       "pupper     234\n",
       "doggo       75\n",
       "puppo       25\n",
       "floofer     10\n",
       "Name: dogs_stage, dtype: int64"
      ]
     },
     "execution_count": 29,
     "metadata": {},
     "output_type": "execute_result"
    }
   ],
   "source": [
    "#Define\n",
    "#Replace none with NaN\n",
    "\n",
    "#Code\n",
    "twitter_archive_df_clean['dogs_stage'].replace('None', np.nan, inplace=True)\n",
    "\n",
    "#Test\n",
    "twitter_archive_df_clean['dogs_stage'].value_counts()"
   ]
  },
  {
   "cell_type": "markdown",
   "metadata": {},
   "source": [
    "2. Overall rating coloumn should be there"
   ]
  },
  {
   "cell_type": "code",
   "execution_count": 30,
   "metadata": {},
   "outputs": [
    {
     "data": {
      "text/html": [
       "<div>\n",
       "<style scoped>\n",
       "    .dataframe tbody tr th:only-of-type {\n",
       "        vertical-align: middle;\n",
       "    }\n",
       "\n",
       "    .dataframe tbody tr th {\n",
       "        vertical-align: top;\n",
       "    }\n",
       "\n",
       "    .dataframe thead th {\n",
       "        text-align: right;\n",
       "    }\n",
       "</style>\n",
       "<table border=\"1\" class=\"dataframe\">\n",
       "  <thead>\n",
       "    <tr style=\"text-align: right;\">\n",
       "      <th></th>\n",
       "      <th>tweet_id</th>\n",
       "      <th>timestamp</th>\n",
       "      <th>text</th>\n",
       "      <th>expanded_urls</th>\n",
       "      <th>rating_numerator</th>\n",
       "      <th>rating_denominator</th>\n",
       "      <th>name</th>\n",
       "      <th>dogs_stage</th>\n",
       "      <th>rating</th>\n",
       "    </tr>\n",
       "  </thead>\n",
       "  <tbody>\n",
       "    <tr>\n",
       "      <th>2095</th>\n",
       "      <td>667443425659232256</td>\n",
       "      <td>2015-11-19 20:44:47 +0000</td>\n",
       "      <td>Exotic dog here. Long neck. Weird paws. Obsess...</td>\n",
       "      <td>https://twitter.com/dog_rates/status/667443425...</td>\n",
       "      <td>6.0</td>\n",
       "      <td>10.0</td>\n",
       "      <td>NaN</td>\n",
       "      <td>NaN</td>\n",
       "      <td>6.0</td>\n",
       "    </tr>\n",
       "    <tr>\n",
       "      <th>2094</th>\n",
       "      <td>667453023279554560</td>\n",
       "      <td>2015-11-19 21:22:56 +0000</td>\n",
       "      <td>Meet Cupcake. I would do unspeakable things fo...</td>\n",
       "      <td>https://twitter.com/dog_rates/status/667453023...</td>\n",
       "      <td>11.0</td>\n",
       "      <td>10.0</td>\n",
       "      <td>Cupcake</td>\n",
       "      <td>NaN</td>\n",
       "      <td>11.0</td>\n",
       "    </tr>\n",
       "    <tr>\n",
       "      <th>2093</th>\n",
       "      <td>667455448082227200</td>\n",
       "      <td>2015-11-19 21:32:34 +0000</td>\n",
       "      <td>This is Reese and Twips. Reese protects Twips....</td>\n",
       "      <td>https://twitter.com/dog_rates/status/667455448...</td>\n",
       "      <td>7.0</td>\n",
       "      <td>10.0</td>\n",
       "      <td>Reese</td>\n",
       "      <td>NaN</td>\n",
       "      <td>7.0</td>\n",
       "    </tr>\n",
       "    <tr>\n",
       "      <th>2092</th>\n",
       "      <td>667470559035432960</td>\n",
       "      <td>2015-11-19 22:32:36 +0000</td>\n",
       "      <td>This is a northern Wahoo named Kohl. He runs t...</td>\n",
       "      <td>https://twitter.com/dog_rates/status/667470559...</td>\n",
       "      <td>11.0</td>\n",
       "      <td>10.0</td>\n",
       "      <td>NaN</td>\n",
       "      <td>NaN</td>\n",
       "      <td>11.0</td>\n",
       "    </tr>\n",
       "    <tr>\n",
       "      <th>2091</th>\n",
       "      <td>667491009379606528</td>\n",
       "      <td>2015-11-19 23:53:52 +0000</td>\n",
       "      <td>Two dogs in this one. Both are rare Jujitsu Py...</td>\n",
       "      <td>https://twitter.com/dog_rates/status/667491009...</td>\n",
       "      <td>7.0</td>\n",
       "      <td>10.0</td>\n",
       "      <td>NaN</td>\n",
       "      <td>NaN</td>\n",
       "      <td>7.0</td>\n",
       "    </tr>\n",
       "  </tbody>\n",
       "</table>\n",
       "</div>"
      ],
      "text/plain": [
       "                tweet_id                  timestamp  \\\n",
       "2095  667443425659232256  2015-11-19 20:44:47 +0000   \n",
       "2094  667453023279554560  2015-11-19 21:22:56 +0000   \n",
       "2093  667455448082227200  2015-11-19 21:32:34 +0000   \n",
       "2092  667470559035432960  2015-11-19 22:32:36 +0000   \n",
       "2091  667491009379606528  2015-11-19 23:53:52 +0000   \n",
       "\n",
       "                                                   text  \\\n",
       "2095  Exotic dog here. Long neck. Weird paws. Obsess...   \n",
       "2094  Meet Cupcake. I would do unspeakable things fo...   \n",
       "2093  This is Reese and Twips. Reese protects Twips....   \n",
       "2092  This is a northern Wahoo named Kohl. He runs t...   \n",
       "2091  Two dogs in this one. Both are rare Jujitsu Py...   \n",
       "\n",
       "                                          expanded_urls  rating_numerator  \\\n",
       "2095  https://twitter.com/dog_rates/status/667443425...               6.0   \n",
       "2094  https://twitter.com/dog_rates/status/667453023...              11.0   \n",
       "2093  https://twitter.com/dog_rates/status/667455448...               7.0   \n",
       "2092  https://twitter.com/dog_rates/status/667470559...              11.0   \n",
       "2091  https://twitter.com/dog_rates/status/667491009...               7.0   \n",
       "\n",
       "      rating_denominator     name dogs_stage  rating  \n",
       "2095                10.0      NaN        NaN     6.0  \n",
       "2094                10.0  Cupcake        NaN    11.0  \n",
       "2093                10.0    Reese        NaN     7.0  \n",
       "2092                10.0      NaN        NaN    11.0  \n",
       "2091                10.0      NaN        NaN     7.0  "
      ]
     },
     "execution_count": 30,
     "metadata": {},
     "output_type": "execute_result"
    }
   ],
   "source": [
    "#Define\n",
    "#Overall rating coloumn should be there\n",
    "\n",
    "#Code\n",
    "#A column with rating calculated form 10*(numerator/denominator)\n",
    "twitter_archive_df_clean['rating'] = 10 * twitter_archive_df_clean['rating_numerator'] / twitter_archive_df_clean['rating_denominator'].astype(float)\n",
    "\n",
    "#Test\n",
    "twitter_archive_df_clean.head()"
   ]
  },
  {
   "cell_type": "markdown",
   "metadata": {},
   "source": [
    "3. Collect the 3 dataframes in one dataframe"
   ]
  },
  {
   "cell_type": "code",
   "execution_count": 31,
   "metadata": {},
   "outputs": [
    {
     "name": "stdout",
     "output_type": "stream",
     "text": [
      "<class 'pandas.core.frame.DataFrame'>\n",
      "Int64Index: 1626 entries, 1 to 2174\n",
      "Data columns (total 13 columns):\n",
      " #   Column              Non-Null Count  Dtype  \n",
      "---  ------              --------------  -----  \n",
      " 0   tweet_id            1626 non-null   int64  \n",
      " 1   timestamp           1626 non-null   object \n",
      " 2   text                1626 non-null   object \n",
      " 3   expanded_urls       1626 non-null   object \n",
      " 4   rating_numerator    1625 non-null   float64\n",
      " 5   rating_denominator  1625 non-null   float64\n",
      " 6   name                1176 non-null   object \n",
      " 7   dogs_stage          251 non-null    object \n",
      " 8   rating              1624 non-null   float64\n",
      " 9   jpg_url             1626 non-null   object \n",
      " 10  img_num             1626 non-null   float64\n",
      " 11  dog_type            1626 non-null   object \n",
      " 12  confidence_list     1626 non-null   object \n",
      "dtypes: float64(4), int64(1), object(8)\n",
      "memory usage: 177.8+ KB\n"
     ]
    }
   ],
   "source": [
    "#Define\n",
    "#Collect the 3 dataframes in one dataframe\n",
    "\n",
    "#Code\n",
    "#merging the twitter archive and image predections in the new dataframe\n",
    "twitter_project_df = pd.merge(twitter_archive_df_clean, \n",
    "                      image_prediction_df_clean, \n",
    "                      how = 'left', on = ['tweet_id'])\n",
    "\n",
    "#keep only records with image url\n",
    "twitter_project_df = twitter_project_df[twitter_project_df['jpg_url'].notnull()]\n",
    "\n",
    "#Test\n",
    "twitter_project_df.info()"
   ]
  },
  {
   "cell_type": "code",
   "execution_count": 32,
   "metadata": {},
   "outputs": [
    {
     "name": "stdout",
     "output_type": "stream",
     "text": [
      "<class 'pandas.core.frame.DataFrame'>\n",
      "Int64Index: 1626 entries, 0 to 1625\n",
      "Data columns (total 15 columns):\n",
      " #   Column              Non-Null Count  Dtype  \n",
      "---  ------              --------------  -----  \n",
      " 0   tweet_id            1626 non-null   object \n",
      " 1   timestamp           1626 non-null   object \n",
      " 2   text                1626 non-null   object \n",
      " 3   expanded_urls       1626 non-null   object \n",
      " 4   rating_numerator    1625 non-null   float64\n",
      " 5   rating_denominator  1625 non-null   float64\n",
      " 6   name                1176 non-null   object \n",
      " 7   dogs_stage          251 non-null    object \n",
      " 8   rating              1624 non-null   float64\n",
      " 9   jpg_url             1626 non-null   object \n",
      " 10  img_num             1626 non-null   float64\n",
      " 11  dog_type            1626 non-null   object \n",
      " 12  confidence_list     1626 non-null   object \n",
      " 13  retweet_count       0 non-null      object \n",
      " 14  favorite_count      0 non-null      object \n",
      "dtypes: float64(4), object(11)\n",
      "memory usage: 203.2+ KB\n"
     ]
    }
   ],
   "source": [
    "#Define\n",
    "#Collect the 3 dataframes in one dataframe\n",
    "\n",
    "#Code\n",
    "#merging the twitter json and combined dataframe\n",
    "twitter_project_df = pd.merge(twitter_project_df, tweet_json_df_clean, \n",
    "                      how = 'left', on = ['tweet_id'])\n",
    "\n",
    "#Test\n",
    "twitter_project_df.info()"
   ]
  },
  {
   "cell_type": "code",
   "execution_count": 33,
   "metadata": {},
   "outputs": [
    {
     "data": {
      "text/html": [
       "<div>\n",
       "<style scoped>\n",
       "    .dataframe tbody tr th:only-of-type {\n",
       "        vertical-align: middle;\n",
       "    }\n",
       "\n",
       "    .dataframe tbody tr th {\n",
       "        vertical-align: top;\n",
       "    }\n",
       "\n",
       "    .dataframe thead th {\n",
       "        text-align: right;\n",
       "    }\n",
       "</style>\n",
       "<table border=\"1\" class=\"dataframe\">\n",
       "  <thead>\n",
       "    <tr style=\"text-align: right;\">\n",
       "      <th></th>\n",
       "      <th>tweet_id</th>\n",
       "      <th>timestamp</th>\n",
       "      <th>text</th>\n",
       "      <th>expanded_urls</th>\n",
       "      <th>rating_numerator</th>\n",
       "      <th>rating_denominator</th>\n",
       "      <th>name</th>\n",
       "      <th>dogs_stage</th>\n",
       "      <th>rating</th>\n",
       "      <th>jpg_url</th>\n",
       "      <th>img_num</th>\n",
       "      <th>dog_type</th>\n",
       "      <th>confidence_list</th>\n",
       "      <th>retweet_count</th>\n",
       "      <th>favorite_count</th>\n",
       "    </tr>\n",
       "  </thead>\n",
       "  <tbody>\n",
       "    <tr>\n",
       "      <th>0</th>\n",
       "      <td>667453023279554560</td>\n",
       "      <td>2015-11-19 21:22:56 +0000</td>\n",
       "      <td>Meet Cupcake. I would do unspeakable things fo...</td>\n",
       "      <td>https://twitter.com/dog_rates/status/667453023...</td>\n",
       "      <td>11.0</td>\n",
       "      <td>10.0</td>\n",
       "      <td>Cupcake</td>\n",
       "      <td>NaN</td>\n",
       "      <td>11.0</td>\n",
       "      <td>https://pbs.twimg.com/media/CUNE_OSUwAAdHhX.jpg</td>\n",
       "      <td>1.0</td>\n",
       "      <td>Labrador_retriever</td>\n",
       "      <td>0.82567</td>\n",
       "      <td>NaN</td>\n",
       "      <td>NaN</td>\n",
       "    </tr>\n",
       "    <tr>\n",
       "      <th>1</th>\n",
       "      <td>667455448082227200</td>\n",
       "      <td>2015-11-19 21:32:34 +0000</td>\n",
       "      <td>This is Reese and Twips. Reese protects Twips....</td>\n",
       "      <td>https://twitter.com/dog_rates/status/667455448...</td>\n",
       "      <td>7.0</td>\n",
       "      <td>10.0</td>\n",
       "      <td>Reese</td>\n",
       "      <td>NaN</td>\n",
       "      <td>7.0</td>\n",
       "      <td>https://pbs.twimg.com/media/CUNHMXTU8AAS3HH.jpg</td>\n",
       "      <td>1.0</td>\n",
       "      <td>Tibetan_terrier</td>\n",
       "      <td>0.676376</td>\n",
       "      <td>NaN</td>\n",
       "      <td>NaN</td>\n",
       "    </tr>\n",
       "    <tr>\n",
       "      <th>2</th>\n",
       "      <td>667470559035432960</td>\n",
       "      <td>2015-11-19 22:32:36 +0000</td>\n",
       "      <td>This is a northern Wahoo named Kohl. He runs t...</td>\n",
       "      <td>https://twitter.com/dog_rates/status/667470559...</td>\n",
       "      <td>11.0</td>\n",
       "      <td>10.0</td>\n",
       "      <td>NaN</td>\n",
       "      <td>NaN</td>\n",
       "      <td>11.0</td>\n",
       "      <td>https://pbs.twimg.com/media/CUNU78YWEAECmpB.jpg</td>\n",
       "      <td>1.0</td>\n",
       "      <td>toy_poodle</td>\n",
       "      <td>0.304175</td>\n",
       "      <td>NaN</td>\n",
       "      <td>NaN</td>\n",
       "    </tr>\n",
       "    <tr>\n",
       "      <th>3</th>\n",
       "      <td>667491009379606528</td>\n",
       "      <td>2015-11-19 23:53:52 +0000</td>\n",
       "      <td>Two dogs in this one. Both are rare Jujitsu Py...</td>\n",
       "      <td>https://twitter.com/dog_rates/status/667491009...</td>\n",
       "      <td>7.0</td>\n",
       "      <td>10.0</td>\n",
       "      <td>NaN</td>\n",
       "      <td>NaN</td>\n",
       "      <td>7.0</td>\n",
       "      <td>https://pbs.twimg.com/media/CUNniSlUYAEj1Jl.jpg</td>\n",
       "      <td>1.0</td>\n",
       "      <td>borzoi</td>\n",
       "      <td>0.852088</td>\n",
       "      <td>NaN</td>\n",
       "      <td>NaN</td>\n",
       "    </tr>\n",
       "    <tr>\n",
       "      <th>4</th>\n",
       "      <td>667495797102141441</td>\n",
       "      <td>2015-11-20 00:12:54 +0000</td>\n",
       "      <td>This is Philippe from Soviet Russia. Commandin...</td>\n",
       "      <td>https://twitter.com/dog_rates/status/667495797...</td>\n",
       "      <td>9.0</td>\n",
       "      <td>10.0</td>\n",
       "      <td>Philippe</td>\n",
       "      <td>NaN</td>\n",
       "      <td>9.0</td>\n",
       "      <td>https://pbs.twimg.com/media/CUNr4-7UwAAg2lq.jpg</td>\n",
       "      <td>1.0</td>\n",
       "      <td>Chihuahua</td>\n",
       "      <td>0.143957</td>\n",
       "      <td>NaN</td>\n",
       "      <td>NaN</td>\n",
       "    </tr>\n",
       "  </tbody>\n",
       "</table>\n",
       "</div>"
      ],
      "text/plain": [
       "             tweet_id                  timestamp  \\\n",
       "0  667453023279554560  2015-11-19 21:22:56 +0000   \n",
       "1  667455448082227200  2015-11-19 21:32:34 +0000   \n",
       "2  667470559035432960  2015-11-19 22:32:36 +0000   \n",
       "3  667491009379606528  2015-11-19 23:53:52 +0000   \n",
       "4  667495797102141441  2015-11-20 00:12:54 +0000   \n",
       "\n",
       "                                                text  \\\n",
       "0  Meet Cupcake. I would do unspeakable things fo...   \n",
       "1  This is Reese and Twips. Reese protects Twips....   \n",
       "2  This is a northern Wahoo named Kohl. He runs t...   \n",
       "3  Two dogs in this one. Both are rare Jujitsu Py...   \n",
       "4  This is Philippe from Soviet Russia. Commandin...   \n",
       "\n",
       "                                       expanded_urls  rating_numerator  \\\n",
       "0  https://twitter.com/dog_rates/status/667453023...              11.0   \n",
       "1  https://twitter.com/dog_rates/status/667455448...               7.0   \n",
       "2  https://twitter.com/dog_rates/status/667470559...              11.0   \n",
       "3  https://twitter.com/dog_rates/status/667491009...               7.0   \n",
       "4  https://twitter.com/dog_rates/status/667495797...               9.0   \n",
       "\n",
       "   rating_denominator      name dogs_stage  rating  \\\n",
       "0                10.0   Cupcake        NaN    11.0   \n",
       "1                10.0     Reese        NaN     7.0   \n",
       "2                10.0       NaN        NaN    11.0   \n",
       "3                10.0       NaN        NaN     7.0   \n",
       "4                10.0  Philippe        NaN     9.0   \n",
       "\n",
       "                                           jpg_url  img_num  \\\n",
       "0  https://pbs.twimg.com/media/CUNE_OSUwAAdHhX.jpg      1.0   \n",
       "1  https://pbs.twimg.com/media/CUNHMXTU8AAS3HH.jpg      1.0   \n",
       "2  https://pbs.twimg.com/media/CUNU78YWEAECmpB.jpg      1.0   \n",
       "3  https://pbs.twimg.com/media/CUNniSlUYAEj1Jl.jpg      1.0   \n",
       "4  https://pbs.twimg.com/media/CUNr4-7UwAAg2lq.jpg      1.0   \n",
       "\n",
       "             dog_type confidence_list retweet_count favorite_count  \n",
       "0  Labrador_retriever         0.82567           NaN            NaN  \n",
       "1     Tibetan_terrier        0.676376           NaN            NaN  \n",
       "2          toy_poodle        0.304175           NaN            NaN  \n",
       "3              borzoi        0.852088           NaN            NaN  \n",
       "4           Chihuahua        0.143957           NaN            NaN  "
      ]
     },
     "execution_count": 33,
     "metadata": {},
     "output_type": "execute_result"
    }
   ],
   "source": [
    "twitter_project_df.head()"
   ]
  },
  {
   "cell_type": "markdown",
   "metadata": {},
   "source": [
    "# Storing, Analyzing, and Visualizing"
   ]
  },
  {
   "cell_type": "code",
   "execution_count": 34,
   "metadata": {},
   "outputs": [],
   "source": [
    "#Store the clean DataFrame in a CSV file \n",
    "twitter_project_df.to_csv('twitter_archive_master.csv', \n",
    "                 index=False, encoding = 'utf-8')"
   ]
  },
  {
   "cell_type": "code",
   "execution_count": 35,
   "metadata": {},
   "outputs": [
    {
     "data": {
      "text/plain": [
       "pupper     0.681275\n",
       "doggo      0.203187\n",
       "puppo      0.083665\n",
       "floofer    0.031873\n",
       "Name: dogs_stage, dtype: float64"
      ]
     },
     "execution_count": 35,
     "metadata": {},
     "output_type": "execute_result"
    }
   ],
   "source": [
    "#see the percentage of each dog stage\n",
    "twitter_project_df['dogs_stage'].value_counts('pupper')"
   ]
  },
  {
   "cell_type": "markdown",
   "metadata": {},
   "source": [
    "Insight: around 68% of the dogs are in the pupper stage and around 88% are either pupper or doggo"
   ]
  },
  {
   "cell_type": "code",
   "execution_count": 36,
   "metadata": {},
   "outputs": [
    {
     "data": {
      "text/plain": [
       "golden_retriever        143\n",
       "Labrador_retriever      103\n",
       "Pembroke                 94\n",
       "Chihuahua                87\n",
       "pug                      60\n",
       "                       ... \n",
       "EntleBucher               1\n",
       "Irish_wolfhound           1\n",
       "clumber                   1\n",
       "Japanese_spaniel          1\n",
       "Bouvier_des_Flandres      1\n",
       "Name: dog_type, Length: 113, dtype: int64"
      ]
     },
     "execution_count": 36,
     "metadata": {},
     "output_type": "execute_result"
    }
   ],
   "source": [
    "#See the count of each do type\n",
    "twitter_project_df['dog_type'].value_counts()"
   ]
  },
  {
   "cell_type": "markdown",
   "metadata": {},
   "source": [
    "Insight: The golden_retriever is the most common dog"
   ]
  },
  {
   "cell_type": "code",
   "execution_count": 37,
   "metadata": {},
   "outputs": [
    {
     "data": {
      "text/plain": [
       "dog_type\n",
       "Japanese_spaniel                5.000000\n",
       "Afghan_hound                    8.000000\n",
       "soft-coated_wheaten_terrier     8.800000\n",
       "Walker_hound                    9.000000\n",
       "Scotch_terrier                  9.000000\n",
       "                                 ...    \n",
       "Irish_setter                   12.333333\n",
       "Pomeranian                     12.476190\n",
       "Saluki                         12.500000\n",
       "Bouvier_des_Flandres           13.000000\n",
       "clumber                        27.000000\n",
       "Name: rating, Length: 113, dtype: float64"
      ]
     },
     "execution_count": 37,
     "metadata": {},
     "output_type": "execute_result"
    }
   ],
   "source": [
    "#Sort the dog types according to rating to see which has highist raing\n",
    "\n",
    "#Create a copy of the dataframe to work on\n",
    "twitter_project_df_copy = twitter_project_df.groupby('dog_type').mean()\n",
    "\n",
    "#Sort the data according to rating\n",
    "twitter_project_df_copy = twitter_project_df_copy['rating'].sort_values()\n",
    "\n",
    "twitter_project_df_copy"
   ]
  },
  {
   "cell_type": "markdown",
   "metadata": {},
   "source": [
    "Insight: Japanese_spaniel has the lowest rating and clumber has the highest rating "
   ]
  },
  {
   "cell_type": "code",
   "execution_count": 38,
   "metadata": {},
   "outputs": [],
   "source": [
    "df_dog_type_count = twitter_project_df.groupby('dog_type').count()\n",
    "df_dog_type_mean = twitter_project_df.groupby('dog_type').mean()"
   ]
  },
  {
   "cell_type": "code",
   "execution_count": 39,
   "metadata": {},
   "outputs": [],
   "source": [
    "dog_type_count = df_dog_type_count['rating']\n",
    "dog_type_mean = df_dog_type_mean['rating']"
   ]
  },
  {
   "cell_type": "code",
   "execution_count": 40,
   "metadata": {},
   "outputs": [
    {
     "data": {
      "text/html": [
       "<div>\n",
       "<style scoped>\n",
       "    .dataframe tbody tr th:only-of-type {\n",
       "        vertical-align: middle;\n",
       "    }\n",
       "\n",
       "    .dataframe tbody tr th {\n",
       "        vertical-align: top;\n",
       "    }\n",
       "\n",
       "    .dataframe thead th {\n",
       "        text-align: right;\n",
       "    }\n",
       "</style>\n",
       "<table border=\"1\" class=\"dataframe\">\n",
       "  <thead>\n",
       "    <tr style=\"text-align: right;\">\n",
       "      <th></th>\n",
       "      <th>dog_type_count</th>\n",
       "      <th>dog_type_mean</th>\n",
       "    </tr>\n",
       "    <tr>\n",
       "      <th>dog_type</th>\n",
       "      <th></th>\n",
       "      <th></th>\n",
       "    </tr>\n",
       "  </thead>\n",
       "  <tbody>\n",
       "    <tr>\n",
       "      <th>Afghan_hound</th>\n",
       "      <td>2</td>\n",
       "      <td>8.000000</td>\n",
       "    </tr>\n",
       "    <tr>\n",
       "      <th>Airedale</th>\n",
       "      <td>12</td>\n",
       "      <td>9.833333</td>\n",
       "    </tr>\n",
       "    <tr>\n",
       "      <th>American_Staffordshire_terrier</th>\n",
       "      <td>15</td>\n",
       "      <td>11.000000</td>\n",
       "    </tr>\n",
       "    <tr>\n",
       "      <th>Appenzeller</th>\n",
       "      <td>2</td>\n",
       "      <td>11.000000</td>\n",
       "    </tr>\n",
       "    <tr>\n",
       "      <th>Australian_terrier</th>\n",
       "      <td>2</td>\n",
       "      <td>11.500000</td>\n",
       "    </tr>\n",
       "    <tr>\n",
       "      <th>...</th>\n",
       "      <td>...</td>\n",
       "      <td>...</td>\n",
       "    </tr>\n",
       "    <tr>\n",
       "      <th>toy_poodle</th>\n",
       "      <td>50</td>\n",
       "      <td>11.020000</td>\n",
       "    </tr>\n",
       "    <tr>\n",
       "      <th>toy_terrier</th>\n",
       "      <td>3</td>\n",
       "      <td>10.333333</td>\n",
       "    </tr>\n",
       "    <tr>\n",
       "      <th>vizsla</th>\n",
       "      <td>13</td>\n",
       "      <td>10.846154</td>\n",
       "    </tr>\n",
       "    <tr>\n",
       "      <th>whippet</th>\n",
       "      <td>11</td>\n",
       "      <td>10.181818</td>\n",
       "    </tr>\n",
       "    <tr>\n",
       "      <th>wire-haired_fox_terrier</th>\n",
       "      <td>2</td>\n",
       "      <td>11.500000</td>\n",
       "    </tr>\n",
       "  </tbody>\n",
       "</table>\n",
       "<p>113 rows × 2 columns</p>\n",
       "</div>"
      ],
      "text/plain": [
       "                                dog_type_count  dog_type_mean\n",
       "dog_type                                                     \n",
       "Afghan_hound                                 2       8.000000\n",
       "Airedale                                    12       9.833333\n",
       "American_Staffordshire_terrier              15      11.000000\n",
       "Appenzeller                                  2      11.000000\n",
       "Australian_terrier                           2      11.500000\n",
       "...                                        ...            ...\n",
       "toy_poodle                                  50      11.020000\n",
       "toy_terrier                                  3      10.333333\n",
       "vizsla                                      13      10.846154\n",
       "whippet                                     11      10.181818\n",
       "wire-haired_fox_terrier                      2      11.500000\n",
       "\n",
       "[113 rows x 2 columns]"
      ]
     },
     "execution_count": 40,
     "metadata": {},
     "output_type": "execute_result"
    }
   ],
   "source": [
    "df_plot = pd.DataFrame()\n",
    "df_plot['dog_type_count'] = dog_type_count\n",
    "df_plot['dog_type_mean'] = dog_type_mean\n",
    "df_plot"
   ]
  },
  {
   "cell_type": "code",
   "execution_count": 41,
   "metadata": {},
   "outputs": [
    {
     "data": {
      "image/png": "[encoded data removed]",
      "text/plain": [
       "<Figure size 432x288 with 1 Axes>"
      ]
     },
     "metadata": {
      "needs_background": "light"
     },
     "output_type": "display_data"
    }
   ],
   "source": [
    "\n",
    "df_plot.plot(x='dog_type_count', y='dog_type_mean', kind='scatter')\n",
    "plt.xlabel('Number of Ratings of a Dog Type')\n",
    "plt.ylabel('Average Rating of Dog Type')\n",
    "plt.title('Average Rating of Dog Type by Number of Ratings of a Dog Type Scatter Plot')\n",
    "\n",
    "fig = plt.gcf()\n",
    "#plt.savefig('X:/' + newName + '.png', \n",
    "fig.savefig('output2.png',bbox_inches='tight');"
   ]
  },
  {
   "cell_type": "markdown",
   "metadata": {},
   "source": [
    "Insight: Dog types with low number of ratings show a high variaty of mean ratings."
   ]
  }
 ],
 "metadata": {
  "celltoolbar": "Raw Cell Format",
  "kernelspec": {
   "display_name": "Python 3",
   "language": "python",
   "name": "python3"
  },
  "language_info": {
   "codemirror_mode": {
    "name": "ipython",
    "version": 3
   },
   "file_extension": ".py",
   "mimetype": "text/x-python",
   "name": "python",
   "nbconvert_exporter": "python",
   "pygments_lexer": "ipython3",
   "version": "3.8.5"
  }
 },
 "nbformat": 4,
 "nbformat_minor": 4
}
