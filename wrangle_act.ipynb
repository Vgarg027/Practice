{
 "metadata": {
  "language_info": {
   "codemirror_mode": {
    "name": "ipython",
    "version": 3
   },
   "file_extension": ".py",
   "mimetype": "text/x-python",
   "name": "python",
   "nbconvert_exporter": "python",
   "pygments_lexer": "ipython3",
   "version": "3.8.3-final"
  },
  "orig_nbformat": 2,
  "kernelspec": {
   "name": "python3",
   "display_name": "Python 3.8.3 64-bit ('cassette': conda)",
   "metadata": {
    "interpreter": {
     "hash": "85f4318d8aecebaa69c833009b1cbb6f65c616a2443c354a35a685d07f417ccb"
    }
   }
  }
 },
 "nbformat": 4,
 "nbformat_minor": 2,
 "cells": [
  {
   "source": [
    "# Gathering Data"
   ],
   "cell_type": "markdown",
   "metadata": {}
  },
  {
   "cell_type": "code",
   "execution_count": 3,
   "metadata": {},
   "outputs": [],
   "source": [
    "import pandas as pd\n",
    "import tweepy\n",
    "import numpy as np\n",
    "import requests\n",
    "import re\n",
    "import json\n",
    "import matplotlib.pyplot as plt\n",
    "import datetime\n",
    "import os\n",
    "import scipy as stats\n",
    "import warnings\n",
    "warnings.filterwarnings('ignore')\n",
    "%matplotlib inline"
   ]
  },
  {
   "cell_type": "code",
   "execution_count": 4,
   "metadata": {},
   "outputs": [
    {
     "output_type": "execute_result",
     "data": {
      "text/plain": [
       "             tweet_id  in_reply_to_status_id  in_reply_to_user_id  \\\n",
       "0  892420643555336193                    NaN                  NaN   \n",
       "\n",
       "                   timestamp  \\\n",
       "0  2017-08-01 16:23:56 +0000   \n",
       "\n",
       "                                              source  \\\n",
       "0  <a href=\"http://twitter.com/download/iphone\" r...   \n",
       "\n",
       "                                                text  retweeted_status_id  \\\n",
       "0  This is Phineas. He's a mystical boy. Only eve...                  NaN   \n",
       "\n",
       "   retweeted_status_user_id retweeted_status_timestamp  \\\n",
       "0                       NaN                        NaN   \n",
       "\n",
       "                                       expanded_urls  rating_numerator  \\\n",
       "0  https://twitter.com/dog_rates/status/892420643...                13   \n",
       "\n",
       "   rating_denominator     name doggo floofer pupper puppo  \n",
       "0                  10  Phineas  None    None   None  None  "
      ],
      "text/html": "<div>\n<style scoped>\n    .dataframe tbody tr th:only-of-type {\n        vertical-align: middle;\n    }\n\n    .dataframe tbody tr th {\n        vertical-align: top;\n    }\n\n    .dataframe thead th {\n        text-align: right;\n    }\n</style>\n<table border=\"1\" class=\"dataframe\">\n  <thead>\n    <tr style=\"text-align: right;\">\n      <th></th>\n      <th>tweet_id</th>\n      <th>in_reply_to_status_id</th>\n      <th>in_reply_to_user_id</th>\n      <th>timestamp</th>\n      <th>source</th>\n      <th>text</th>\n      <th>retweeted_status_id</th>\n      <th>retweeted_status_user_id</th>\n      <th>retweeted_status_timestamp</th>\n      <th>expanded_urls</th>\n      <th>rating_numerator</th>\n      <th>rating_denominator</th>\n      <th>name</th>\n      <th>doggo</th>\n      <th>floofer</th>\n      <th>pupper</th>\n      <th>puppo</th>\n    </tr>\n  </thead>\n  <tbody>\n    <tr>\n      <th>0</th>\n      <td>892420643555336193</td>\n      <td>NaN</td>\n      <td>NaN</td>\n      <td>2017-08-01 16:23:56 +0000</td>\n      <td>&lt;a href=\"http://twitter.com/download/iphone\" r...</td>\n      <td>This is Phineas. He's a mystical boy. Only eve...</td>\n      <td>NaN</td>\n      <td>NaN</td>\n      <td>NaN</td>\n      <td>https://twitter.com/dog_rates/status/892420643...</td>\n      <td>13</td>\n      <td>10</td>\n      <td>Phineas</td>\n      <td>None</td>\n      <td>None</td>\n      <td>None</td>\n      <td>None</td>\n    </tr>\n  </tbody>\n</table>\n</div>"
     },
     "metadata": {},
     "execution_count": 4
    }
   ],
   "source": [
    "# twitter archive downloaded manually and read\n",
    "archive_df=pd.read_csv('twitter-archive-enhanced.csv')\n",
    "archive_df.head(1)"
   ]
  },
  {
   "cell_type": "code",
   "execution_count": 5,
   "metadata": {
    "tags": []
   },
   "outputs": [
    {
     "output_type": "execute_result",
     "data": {
      "text/plain": [
       "335079"
      ]
     },
     "metadata": {},
     "execution_count": 5
    }
   ],
   "source": [
    "# images prediction database downloaded automatically and saved as a tsv file\n",
    "link = \"https://d17h27t6h515a5.cloudfront.net/topher/2017/August/599fd2ad_image-predictions/image-predictions.tsv\"\n",
    "images = requests.get(link)\n",
    "file=open('images.tsv', \"w\")\n",
    "file.write(images.text)"
   ]
  },
  {
   "cell_type": "code",
   "execution_count": 6,
   "metadata": {},
   "outputs": [
    {
     "output_type": "execute_result",
     "data": {
      "text/plain": [
       "             tweet_id                                          jpg_url  \\\n",
       "0  666020888022790149  https://pbs.twimg.com/media/CT4udn0WwAA0aMy.jpg   \n",
       "\n",
       "   img_num                      p1   p1_conf  p1_dog      p2   p2_conf  \\\n",
       "0        1  Welsh_springer_spaniel  0.465074    True  collie  0.156665   \n",
       "\n",
       "   p2_dog                 p3   p3_conf  p3_dog  \n",
       "0    True  Shetland_sheepdog  0.061428    True  "
      ],
      "text/html": "<div>\n<style scoped>\n    .dataframe tbody tr th:only-of-type {\n        vertical-align: middle;\n    }\n\n    .dataframe tbody tr th {\n        vertical-align: top;\n    }\n\n    .dataframe thead th {\n        text-align: right;\n    }\n</style>\n<table border=\"1\" class=\"dataframe\">\n  <thead>\n    <tr style=\"text-align: right;\">\n      <th></th>\n      <th>tweet_id</th>\n      <th>jpg_url</th>\n      <th>img_num</th>\n      <th>p1</th>\n      <th>p1_conf</th>\n      <th>p1_dog</th>\n      <th>p2</th>\n      <th>p2_conf</th>\n      <th>p2_dog</th>\n      <th>p3</th>\n      <th>p3_conf</th>\n      <th>p3_dog</th>\n    </tr>\n  </thead>\n  <tbody>\n    <tr>\n      <th>0</th>\n      <td>666020888022790149</td>\n      <td>https://pbs.twimg.com/media/CT4udn0WwAA0aMy.jpg</td>\n      <td>1</td>\n      <td>Welsh_springer_spaniel</td>\n      <td>0.465074</td>\n      <td>True</td>\n      <td>collie</td>\n      <td>0.156665</td>\n      <td>True</td>\n      <td>Shetland_sheepdog</td>\n      <td>0.061428</td>\n      <td>True</td>\n    </tr>\n  </tbody>\n</table>\n</div>"
     },
     "metadata": {},
     "execution_count": 6
    }
   ],
   "source": [
    "# openeing images file\n",
    "images_df = pd.read_csv('images.tsv', sep='\\t')\n",
    "images_df.head(1)"
   ]
  },
  {
   "cell_type": "code",
   "execution_count": 51,
   "metadata": {},
   "outputs": [
    {
     "output_type": "execute_result",
     "data": {
      "text/plain": [
       "2081"
      ]
     },
     "metadata": {},
     "execution_count": 51
    }
   ],
   "source": [
    "# setting up api querying and testing if it works\n",
    "\n",
    "consumer_key = \"XXXX\"\n",
    "consumer_secret = \"XXXX\" \n",
    "access_key = \"XXXX\"\n",
    "access_secret = \"XXXX\"\n",
    "\n",
    "auth = tweepy.OAuthHandler(consumer_key, consumer_secret)\n",
    "auth.set_access_token(access_key, access_secret)\n",
    "\n",
    "api = tweepy.API(auth, wait_on_rate_limit=True, wait_on_rate_limit_notify=True)\n",
    "\n",
    "public_tweet = api.get_status(archive_df.tweet_id[1000], tweet_mode = 'extended')\n",
    "content = public_tweet._json\n",
    "content.keys()\n",
    "content['retweet_count']\n",
    "content['favorite_count']\n",
    "\n",
    "\n"
   ]
  },
  {
   "cell_type": "code",
   "execution_count": 75,
   "metadata": {
    "tags": [
     "outputPrepend"
    ]
   },
   "outputs": [
    {
     "output_type": "stream",
     "name": "stdout",
     "text": [
      "1116out of 2356\n",
      "1117out of 2356\n",
      "1118out of 2356\n",
      "1119out of 2356\n",
      "1120out of 2356\n",
      "1121out of 2356\n",
      "1122out of 2356\n",
      "1123out of 2356\n",
      "1124out of 2356\n",
      "1125out of 2356\n",
      "1126out of 2356\n",
      "1127out of 2356\n",
      "1128out of 2356\n",
      "1129out of 2356\n",
      "1130out of 2356\n",
      "1131out of 2356\n",
      "1132out of 2356\n",
      "1133out of 2356\n",
      "1134out of 2356\n",
      "1135out of 2356\n",
      "1136out of 2356\n",
      "1137out of 2356\n",
      "1138out of 2356\n",
      "1139out of 2356\n",
      "1140out of 2356\n",
      "1141out of 2356\n",
      "1142out of 2356\n",
      "1143out of 2356\n",
      "1144out of 2356\n",
      "1145out of 2356\n",
      "1146out of 2356\n",
      "1147out of 2356\n",
      "1148out of 2356\n",
      "1149out of 2356\n",
      "1150out of 2356\n",
      "1151out of 2356\n",
      "1152out of 2356\n",
      "1153out of 2356\n",
      "1154out of 2356\n",
      "1155out of 2356\n",
      "1156out of 2356\n",
      "1157out of 2356\n",
      "1158out of 2356\n",
      "1159out of 2356\n",
      "1160out of 2356\n",
      "1161out of 2356\n",
      "1162out of 2356\n",
      "1163out of 2356\n",
      "1164out of 2356\n",
      "1165out of 2356\n",
      "1166out of 2356\n",
      "1167out of 2356\n",
      "1168out of 2356\n",
      "1169out of 2356\n",
      "1170out of 2356\n",
      "1171out of 2356\n",
      "1172out of 2356\n",
      "1173out of 2356\n",
      "1174out of 2356\n",
      "1175out of 2356\n",
      "1176out of 2356\n",
      "1177out of 2356\n",
      "1178out of 2356\n",
      "1179out of 2356\n",
      "1180out of 2356\n",
      "1181out of 2356\n",
      "1182out of 2356\n",
      "1183out of 2356\n",
      "1184out of 2356\n",
      "1185out of 2356\n",
      "1186out of 2356\n",
      "1187out of 2356\n",
      "1188out of 2356\n",
      "1189out of 2356\n",
      "1190out of 2356\n",
      "1191out of 2356\n",
      "1192out of 2356\n",
      "1193out of 2356\n",
      "1194out of 2356\n",
      "1195out of 2356\n",
      "1196out of 2356\n",
      "1197out of 2356\n",
      "1198out of 2356\n",
      "1199out of 2356\n",
      "1200out of 2356\n",
      "1201out of 2356\n",
      "1202out of 2356\n",
      "1203out of 2356\n",
      "1204out of 2356\n",
      "1205out of 2356\n",
      "1206out of 2356\n",
      "1207out of 2356\n",
      "1208out of 2356\n",
      "1209out of 2356\n",
      "1210out of 2356\n",
      "1211out of 2356\n",
      "1212out of 2356\n",
      "1213out of 2356\n",
      "1214out of 2356\n",
      "1215out of 2356\n",
      "1216out of 2356\n",
      "1217out of 2356\n",
      "1218out of 2356\n",
      "1219out of 2356\n",
      "1220out of 2356\n",
      "1221out of 2356\n",
      "1222out of 2356\n",
      "1223out of 2356\n",
      "1224out of 2356\n",
      "1225out of 2356\n",
      "1226out of 2356\n",
      "1227out of 2356\n",
      "1228out of 2356\n",
      "1229out of 2356\n",
      "1230out of 2356\n",
      "1231out of 2356\n",
      "1232out of 2356\n",
      "1233out of 2356\n",
      "1234out of 2356\n",
      "1235out of 2356\n",
      "1236out of 2356\n",
      "1237out of 2356\n",
      "1238out of 2356\n",
      "1239out of 2356\n",
      "1240out of 2356\n",
      "1241out of 2356\n",
      "1242out of 2356\n",
      "1243out of 2356\n",
      "1244out of 2356\n",
      "1245out of 2356\n",
      "1246out of 2356\n",
      "1247out of 2356\n",
      "1248out of 2356\n",
      "1249out of 2356\n",
      "1250out of 2356\n",
      "1251out of 2356\n",
      "1252out of 2356\n",
      "1253out of 2356\n",
      "1254out of 2356\n",
      "1255out of 2356\n",
      "1256out of 2356\n",
      "1257out of 2356\n",
      "1258out of 2356\n",
      "1259out of 2356\n",
      "1260out of 2356\n",
      "1261out of 2356\n",
      "1262out of 2356\n",
      "1263out of 2356\n",
      "1264out of 2356\n",
      "1265out of 2356\n",
      "1266out of 2356\n",
      "1267out of 2356\n",
      "1268out of 2356\n",
      "1269out of 2356\n",
      "1270out of 2356\n",
      "1271out of 2356\n",
      "1272out of 2356\n",
      "1273out of 2356\n",
      "1274out of 2356\n",
      "1275out of 2356\n",
      "1276out of 2356\n",
      "1277out of 2356\n",
      "1278out of 2356\n",
      "1279out of 2356\n",
      "1280out of 2356\n",
      "1281out of 2356\n",
      "1282out of 2356\n",
      "1283out of 2356\n",
      "1284out of 2356\n",
      "1285out of 2356\n",
      "1286out of 2356\n",
      "1287out of 2356\n",
      "1288out of 2356\n",
      "1289out of 2356\n",
      "1290out of 2356\n",
      "1291out of 2356\n",
      "1292out of 2356\n",
      "1293out of 2356\n",
      "1294out of 2356\n",
      "1295out of 2356\n",
      "1296out of 2356\n",
      "1297out of 2356\n",
      "1298out of 2356\n",
      "1299out of 2356\n",
      "1300out of 2356\n",
      "1301out of 2356\n",
      "1302out of 2356\n",
      "1303out of 2356\n",
      "1304out of 2356\n",
      "1305out of 2356\n",
      "1306out of 2356\n",
      "1307out of 2356\n",
      "1308out of 2356\n",
      "1309out of 2356\n",
      "1310out of 2356\n",
      "1311out of 2356\n",
      "1312out of 2356\n",
      "1313out of 2356\n",
      "1314out of 2356\n",
      "1315out of 2356\n",
      "1316out of 2356\n",
      "1317out of 2356\n",
      "1318out of 2356\n",
      "1319out of 2356\n",
      "1320out of 2356\n",
      "1321out of 2356\n",
      "1322out of 2356\n",
      "1323out of 2356\n",
      "1324out of 2356\n",
      "1325out of 2356\n",
      "1326out of 2356\n",
      "1327out of 2356\n",
      "1328out of 2356\n",
      "1329out of 2356\n",
      "1330out of 2356\n",
      "1331out of 2356\n",
      "1332out of 2356\n",
      "1333out of 2356\n",
      "1334out of 2356\n",
      "1335out of 2356\n",
      "1336out of 2356\n",
      "1337out of 2356\n",
      "1338out of 2356\n",
      "1339out of 2356\n",
      "1340out of 2356\n",
      "1341out of 2356\n",
      "1342out of 2356\n",
      "1343out of 2356\n",
      "1344out of 2356\n",
      "1345out of 2356\n",
      "1346out of 2356\n",
      "1347out of 2356\n",
      "1348out of 2356\n",
      "1349out of 2356\n",
      "1350out of 2356\n",
      "1351out of 2356\n",
      "1352out of 2356\n",
      "1353out of 2356\n",
      "1354out of 2356\n",
      "1355out of 2356\n",
      "1356out of 2356\n",
      "1357out of 2356\n",
      "1358out of 2356\n",
      "1359out of 2356\n",
      "1360out of 2356\n",
      "1361out of 2356\n",
      "1362out of 2356\n",
      "1363out of 2356\n",
      "1364out of 2356\n",
      "1365out of 2356\n",
      "1366out of 2356\n",
      "1367out of 2356\n",
      "1368out of 2356\n",
      "1369out of 2356\n",
      "1370out of 2356\n",
      "1371out of 2356\n",
      "1372out of 2356\n",
      "1373out of 2356\n",
      "1374out of 2356\n",
      "1375out of 2356\n",
      "1376out of 2356\n",
      "1377out of 2356\n",
      "1378out of 2356\n",
      "1379out of 2356\n",
      "1380out of 2356\n",
      "1381out of 2356\n",
      "1382out of 2356\n",
      "1383out of 2356\n",
      "1384out of 2356\n",
      "1385out of 2356\n",
      "1386out of 2356\n",
      "1387out of 2356\n",
      "1388out of 2356\n",
      "1389out of 2356\n",
      "1390out of 2356\n",
      "1391out of 2356\n",
      "1392out of 2356\n",
      "1393out of 2356\n",
      "1394out of 2356\n",
      "1395out of 2356\n",
      "1396out of 2356\n",
      "1397out of 2356\n",
      "1398out of 2356\n",
      "1399out of 2356\n",
      "1400out of 2356\n",
      "1401out of 2356\n",
      "1402out of 2356\n",
      "1403out of 2356\n",
      "1404out of 2356\n",
      "1405out of 2356\n",
      "1406out of 2356\n",
      "1407out of 2356\n",
      "1408out of 2356\n",
      "1409out of 2356\n",
      "1410out of 2356\n",
      "1411out of 2356\n",
      "1412out of 2356\n",
      "1413out of 2356\n",
      "1414out of 2356\n",
      "1415out of 2356\n",
      "1416out of 2356\n",
      "1417out of 2356\n",
      "1418out of 2356\n",
      "1419out of 2356\n",
      "1420out of 2356\n",
      "1421out of 2356\n",
      "1422out of 2356\n",
      "1423out of 2356\n",
      "1424out of 2356\n",
      "1425out of 2356\n",
      "1426out of 2356\n",
      "1427out of 2356\n",
      "1428out of 2356\n",
      "1429out of 2356\n",
      "1430out of 2356\n",
      "1431out of 2356\n",
      "1432out of 2356\n",
      "1433out of 2356\n",
      "1434out of 2356\n",
      "1435out of 2356\n",
      "1436out of 2356\n",
      "1437out of 2356\n",
      "1438out of 2356\n",
      "1439out of 2356\n",
      "1440out of 2356\n",
      "1441out of 2356\n",
      "1442out of 2356\n",
      "1443out of 2356\n",
      "1444out of 2356\n",
      "1445out of 2356\n",
      "1446out of 2356\n",
      "1447out of 2356\n",
      "1448out of 2356\n",
      "1449out of 2356\n",
      "1450out of 2356\n",
      "1451out of 2356\n",
      "1452out of 2356\n",
      "1453out of 2356\n",
      "1454out of 2356\n",
      "1455out of 2356\n",
      "1456out of 2356\n",
      "1457out of 2356\n",
      "1458out of 2356\n",
      "1459out of 2356\n",
      "1460out of 2356\n",
      "1461out of 2356\n",
      "1462out of 2356\n",
      "1463out of 2356\n",
      "1464out of 2356\n",
      "1465out of 2356\n",
      "1466out of 2356\n",
      "1467out of 2356\n",
      "1468out of 2356\n",
      "1469out of 2356\n",
      "1470out of 2356\n",
      "1471out of 2356\n",
      "1472out of 2356\n",
      "1473out of 2356\n",
      "1474out of 2356\n",
      "1475out of 2356\n",
      "1476out of 2356\n",
      "1477out of 2356\n",
      "1478out of 2356\n",
      "1479out of 2356\n",
      "1480out of 2356\n",
      "1481out of 2356\n",
      "1482out of 2356\n",
      "1483out of 2356\n",
      "1484out of 2356\n",
      "1485out of 2356\n",
      "1486out of 2356\n",
      "1487out of 2356\n",
      "1488out of 2356\n",
      "1489out of 2356\n",
      "1490out of 2356\n",
      "1491out of 2356\n",
      "1492out of 2356\n",
      "1493out of 2356\n",
      "1494out of 2356\n",
      "1495out of 2356\n",
      "1496out of 2356\n",
      "1497out of 2356\n",
      "1498out of 2356\n",
      "1499out of 2356\n",
      "1500out of 2356\n",
      "1501out of 2356\n",
      "1502out of 2356\n",
      "1503out of 2356\n",
      "1504out of 2356\n",
      "1505out of 2356\n",
      "1506out of 2356\n",
      "1507out of 2356\n",
      "1508out of 2356\n",
      "1509out of 2356\n",
      "1510out of 2356\n",
      "1511out of 2356\n",
      "1512out of 2356\n",
      "1513out of 2356\n",
      "1514out of 2356\n",
      "1515out of 2356\n",
      "1516out of 2356\n",
      "1517out of 2356\n",
      "1518out of 2356\n",
      "1519out of 2356\n",
      "1520out of 2356\n",
      "1521out of 2356\n",
      "1522out of 2356\n",
      "1523out of 2356\n",
      "1524out of 2356\n",
      "1525out of 2356\n",
      "1526out of 2356\n",
      "1527out of 2356\n",
      "1528out of 2356\n",
      "1529out of 2356\n",
      "1530out of 2356\n",
      "1531out of 2356\n",
      "1532out of 2356\n",
      "1533out of 2356\n",
      "1534out of 2356\n",
      "1535out of 2356\n",
      "1536out of 2356\n",
      "1537out of 2356\n",
      "1538out of 2356\n",
      "1539out of 2356\n",
      "1540out of 2356\n",
      "1541out of 2356\n",
      "1542out of 2356\n",
      "1543out of 2356\n",
      "1544out of 2356\n",
      "1545out of 2356\n",
      "1546out of 2356\n",
      "1547out of 2356\n",
      "1548out of 2356\n",
      "1549out of 2356\n",
      "1550out of 2356\n",
      "1551out of 2356\n",
      "1552out of 2356\n",
      "1553out of 2356\n",
      "1554out of 2356\n",
      "1555out of 2356\n",
      "1556out of 2356\n",
      "1557out of 2356\n",
      "1558out of 2356\n",
      "1559out of 2356\n",
      "1560out of 2356\n",
      "1561out of 2356\n",
      "1562out of 2356\n",
      "1563out of 2356\n",
      "1564out of 2356\n",
      "1565out of 2356\n",
      "1566out of 2356\n",
      "1567out of 2356\n",
      "1568out of 2356\n",
      "1569out of 2356\n",
      "1570out of 2356\n",
      "1571out of 2356\n",
      "1572out of 2356\n",
      "1573out of 2356\n",
      "1574out of 2356\n",
      "1575out of 2356\n",
      "1576out of 2356\n",
      "1577out of 2356\n",
      "1578out of 2356\n",
      "1579out of 2356\n",
      "1580out of 2356\n",
      "1581out of 2356\n",
      "1582out of 2356\n",
      "1583out of 2356\n",
      "1584out of 2356\n",
      "1585out of 2356\n",
      "1586out of 2356\n",
      "1587out of 2356\n",
      "1588out of 2356\n",
      "1589out of 2356\n",
      "1590out of 2356\n",
      "1591out of 2356\n",
      "1592out of 2356\n",
      "1593out of 2356\n",
      "1594out of 2356\n",
      "1595out of 2356\n",
      "1596out of 2356\n",
      "1597out of 2356\n",
      "1598out of 2356\n",
      "1599out of 2356\n",
      "1600out of 2356\n",
      "1601out of 2356\n",
      "1602out of 2356\n",
      "1603out of 2356\n",
      "1604out of 2356\n",
      "1605out of 2356\n",
      "1606out of 2356\n",
      "1607out of 2356\n",
      "1608out of 2356\n",
      "1609out of 2356\n",
      "1610out of 2356\n",
      "1611out of 2356\n",
      "1612out of 2356\n",
      "1613out of 2356\n",
      "1614out of 2356\n",
      "1615out of 2356\n",
      "1616out of 2356\n",
      "1617out of 2356\n",
      "1618out of 2356\n",
      "1619out of 2356\n",
      "1620out of 2356\n",
      "1621out of 2356\n",
      "1622out of 2356\n",
      "1623out of 2356\n",
      "1624out of 2356\n",
      "1625out of 2356\n",
      "1626out of 2356\n",
      "1627out of 2356\n",
      "1628out of 2356\n",
      "1629out of 2356\n",
      "1630out of 2356\n",
      "1631out of 2356\n",
      "1632out of 2356\n",
      "1633out of 2356\n",
      "1634out of 2356\n",
      "1635out of 2356\n",
      "1636out of 2356\n",
      "1637out of 2356\n",
      "1638out of 2356\n",
      "1639out of 2356\n",
      "1640out of 2356\n",
      "1641out of 2356\n",
      "1642out of 2356\n",
      "1643out of 2356\n",
      "1644out of 2356\n",
      "1645out of 2356\n",
      "1646out of 2356\n",
      "1647out of 2356\n",
      "1648out of 2356\n",
      "1649out of 2356\n",
      "1650out of 2356\n",
      "1651out of 2356\n",
      "1652out of 2356\n",
      "1653out of 2356\n",
      "1654out of 2356\n",
      "1655out of 2356\n",
      "1656out of 2356\n",
      "1657out of 2356\n",
      "1658out of 2356\n",
      "1659out of 2356\n",
      "1660out of 2356\n",
      "1661out of 2356\n",
      "1662out of 2356\n",
      "1663out of 2356\n",
      "1664out of 2356\n",
      "1665out of 2356\n",
      "1666out of 2356\n",
      "1667out of 2356\n",
      "1668out of 2356\n",
      "1669out of 2356\n",
      "1670out of 2356\n",
      "1671out of 2356\n",
      "1672out of 2356\n",
      "1673out of 2356\n",
      "1674out of 2356\n",
      "1675out of 2356\n",
      "1676out of 2356\n",
      "1677out of 2356\n",
      "1678out of 2356\n",
      "1679out of 2356\n",
      "1680out of 2356\n",
      "1681out of 2356\n",
      "1682out of 2356\n",
      "1683out of 2356\n",
      "1684out of 2356\n",
      "1685out of 2356\n",
      "1686out of 2356\n",
      "1687out of 2356\n",
      "1688out of 2356\n",
      "1689out of 2356\n",
      "1690out of 2356\n",
      "1691out of 2356\n",
      "1692out of 2356\n",
      "1693out of 2356\n",
      "1694out of 2356\n",
      "1695out of 2356\n",
      "1696out of 2356\n",
      "1697out of 2356\n",
      "1698out of 2356\n",
      "1699out of 2356\n",
      "1700out of 2356\n",
      "1701out of 2356\n",
      "1702out of 2356\n",
      "1703out of 2356\n",
      "1704out of 2356\n",
      "1705out of 2356\n",
      "1706out of 2356\n",
      "1707out of 2356\n",
      "1708out of 2356\n",
      "1709out of 2356\n",
      "1710out of 2356\n",
      "1711out of 2356\n",
      "1712out of 2356\n",
      "1713out of 2356\n",
      "1714out of 2356\n",
      "1715out of 2356\n",
      "1716out of 2356\n",
      "1717out of 2356\n",
      "1718out of 2356\n",
      "1719out of 2356\n",
      "1720out of 2356\n",
      "1721out of 2356\n",
      "1722out of 2356\n",
      "1723out of 2356\n",
      "1724out of 2356\n",
      "1725out of 2356\n",
      "1726out of 2356\n",
      "1727out of 2356\n",
      "25errors\n",
      "Error on tweet id 680055455951884288;[{'code': 144, 'message': 'No status found with that ID.'}]\n",
      "1728out of 2356\n",
      "1729out of 2356\n",
      "1730out of 2356\n",
      "1731out of 2356\n",
      "1732out of 2356\n",
      "1733out of 2356\n",
      "1734out of 2356\n",
      "1735out of 2356\n",
      "1736out of 2356\n",
      "1737out of 2356\n",
      "1738out of 2356\n",
      "1739out of 2356\n",
      "1740out of 2356\n",
      "1741out of 2356\n",
      "1742out of 2356\n",
      "1743out of 2356\n",
      "1744out of 2356\n",
      "1745out of 2356\n",
      "1746out of 2356\n",
      "1747out of 2356\n",
      "1748out of 2356\n",
      "1749out of 2356\n",
      "1750out of 2356\n",
      "1751out of 2356\n",
      "1752out of 2356\n",
      "1753out of 2356\n",
      "1754out of 2356\n",
      "1755out of 2356\n",
      "1756out of 2356\n",
      "1757out of 2356\n",
      "1758out of 2356\n",
      "1759out of 2356\n",
      "1760out of 2356\n",
      "1761out of 2356\n",
      "1762out of 2356\n",
      "1763out of 2356\n",
      "1764out of 2356\n",
      "1765out of 2356\n",
      "1766out of 2356\n",
      "1767out of 2356\n",
      "1768out of 2356\n",
      "1769out of 2356\n",
      "1770out of 2356\n",
      "1771out of 2356\n",
      "1772out of 2356\n",
      "1773out of 2356\n",
      "1774out of 2356\n",
      "1775out of 2356\n",
      "1776out of 2356\n",
      "1777out of 2356\n",
      "1778out of 2356\n",
      "1779out of 2356\n",
      "1780out of 2356\n",
      "1781out of 2356\n",
      "Rate limit reached. Sleeping for: 266\n",
      "1782out of 2356\n",
      "1783out of 2356\n",
      "1784out of 2356\n",
      "1785out of 2356\n",
      "1786out of 2356\n",
      "1787out of 2356\n",
      "1788out of 2356\n",
      "1789out of 2356\n",
      "1790out of 2356\n",
      "1791out of 2356\n",
      "1792out of 2356\n",
      "1793out of 2356\n",
      "1794out of 2356\n",
      "1795out of 2356\n",
      "1796out of 2356\n",
      "1797out of 2356\n",
      "1798out of 2356\n",
      "1799out of 2356\n",
      "1800out of 2356\n",
      "1801out of 2356\n",
      "1802out of 2356\n",
      "1803out of 2356\n",
      "1804out of 2356\n",
      "1805out of 2356\n",
      "1806out of 2356\n",
      "1807out of 2356\n",
      "1808out of 2356\n",
      "1809out of 2356\n",
      "1810out of 2356\n",
      "1811out of 2356\n",
      "1812out of 2356\n",
      "1813out of 2356\n",
      "1814out of 2356\n",
      "1815out of 2356\n",
      "1816out of 2356\n",
      "1817out of 2356\n",
      "1818out of 2356\n",
      "1819out of 2356\n",
      "1820out of 2356\n",
      "1821out of 2356\n",
      "1822out of 2356\n",
      "1823out of 2356\n",
      "1824out of 2356\n",
      "1825out of 2356\n",
      "1826out of 2356\n",
      "1827out of 2356\n",
      "1828out of 2356\n",
      "1829out of 2356\n",
      "1830out of 2356\n",
      "1831out of 2356\n",
      "1832out of 2356\n",
      "1833out of 2356\n",
      "1834out of 2356\n",
      "1835out of 2356\n",
      "1836out of 2356\n",
      "1837out of 2356\n",
      "1838out of 2356\n",
      "1839out of 2356\n",
      "1840out of 2356\n",
      "1841out of 2356\n",
      "1842out of 2356\n",
      "1843out of 2356\n",
      "1844out of 2356\n",
      "1845out of 2356\n",
      "1846out of 2356\n",
      "1847out of 2356\n",
      "1848out of 2356\n",
      "1849out of 2356\n",
      "1850out of 2356\n",
      "1851out of 2356\n",
      "1852out of 2356\n",
      "1853out of 2356\n",
      "1854out of 2356\n",
      "1855out of 2356\n",
      "1856out of 2356\n",
      "1857out of 2356\n",
      "1858out of 2356\n",
      "1859out of 2356\n",
      "1860out of 2356\n",
      "1861out of 2356\n",
      "1862out of 2356\n",
      "1863out of 2356\n",
      "1864out of 2356\n",
      "1865out of 2356\n",
      "1866out of 2356\n",
      "1867out of 2356\n",
      "1868out of 2356\n",
      "1869out of 2356\n",
      "1870out of 2356\n",
      "1871out of 2356\n",
      "1872out of 2356\n",
      "1873out of 2356\n",
      "1874out of 2356\n",
      "1875out of 2356\n",
      "1876out of 2356\n",
      "1877out of 2356\n",
      "1878out of 2356\n",
      "1879out of 2356\n",
      "1880out of 2356\n",
      "1881out of 2356\n",
      "1882out of 2356\n",
      "1883out of 2356\n",
      "1884out of 2356\n",
      "1885out of 2356\n",
      "1886out of 2356\n",
      "1887out of 2356\n",
      "1888out of 2356\n",
      "1889out of 2356\n",
      "1890out of 2356\n",
      "1891out of 2356\n",
      "1892out of 2356\n",
      "1893out of 2356\n",
      "1894out of 2356\n",
      "1895out of 2356\n",
      "1896out of 2356\n",
      "1897out of 2356\n",
      "1898out of 2356\n",
      "1899out of 2356\n",
      "1900out of 2356\n",
      "1901out of 2356\n",
      "1902out of 2356\n",
      "1903out of 2356\n",
      "1904out of 2356\n",
      "1905out of 2356\n",
      "1906out of 2356\n",
      "1907out of 2356\n",
      "1908out of 2356\n",
      "1909out of 2356\n",
      "1910out of 2356\n",
      "1911out of 2356\n",
      "1912out of 2356\n",
      "1913out of 2356\n",
      "1914out of 2356\n",
      "1915out of 2356\n",
      "1916out of 2356\n",
      "1917out of 2356\n",
      "1918out of 2356\n",
      "1919out of 2356\n",
      "1920out of 2356\n",
      "1921out of 2356\n",
      "1922out of 2356\n",
      "1923out of 2356\n",
      "1924out of 2356\n",
      "1925out of 2356\n",
      "1926out of 2356\n",
      "1927out of 2356\n",
      "1928out of 2356\n",
      "1929out of 2356\n",
      "1930out of 2356\n",
      "1931out of 2356\n",
      "1932out of 2356\n",
      "1933out of 2356\n",
      "1934out of 2356\n",
      "1935out of 2356\n",
      "1936out of 2356\n",
      "1937out of 2356\n",
      "1938out of 2356\n",
      "1939out of 2356\n",
      "1940out of 2356\n",
      "1941out of 2356\n",
      "1942out of 2356\n",
      "1943out of 2356\n",
      "1944out of 2356\n",
      "1945out of 2356\n",
      "1946out of 2356\n",
      "1947out of 2356\n",
      "1948out of 2356\n",
      "1949out of 2356\n",
      "1950out of 2356\n",
      "1951out of 2356\n",
      "1952out of 2356\n",
      "1953out of 2356\n",
      "1954out of 2356\n",
      "1955out of 2356\n",
      "1956out of 2356\n",
      "1957out of 2356\n",
      "1958out of 2356\n",
      "1959out of 2356\n",
      "1960out of 2356\n",
      "1961out of 2356\n",
      "1962out of 2356\n",
      "1963out of 2356\n",
      "1964out of 2356\n",
      "1965out of 2356\n",
      "1966out of 2356\n",
      "1967out of 2356\n",
      "1968out of 2356\n",
      "1969out of 2356\n",
      "1970out of 2356\n",
      "1971out of 2356\n",
      "1972out of 2356\n",
      "1973out of 2356\n",
      "1974out of 2356\n",
      "1975out of 2356\n",
      "1976out of 2356\n",
      "1977out of 2356\n",
      "1978out of 2356\n",
      "1979out of 2356\n",
      "1980out of 2356\n",
      "1981out of 2356\n",
      "1982out of 2356\n",
      "1983out of 2356\n",
      "1984out of 2356\n",
      "1985out of 2356\n",
      "1986out of 2356\n",
      "1987out of 2356\n",
      "1988out of 2356\n",
      "1989out of 2356\n",
      "1990out of 2356\n",
      "1991out of 2356\n",
      "1992out of 2356\n",
      "1993out of 2356\n",
      "1994out of 2356\n",
      "1995out of 2356\n",
      "1996out of 2356\n",
      "1997out of 2356\n",
      "1998out of 2356\n",
      "1999out of 2356\n",
      "2000out of 2356\n",
      "2001out of 2356\n",
      "2002out of 2356\n",
      "2003out of 2356\n",
      "2004out of 2356\n",
      "2005out of 2356\n",
      "2006out of 2356\n",
      "2007out of 2356\n",
      "2008out of 2356\n",
      "2009out of 2356\n",
      "2010out of 2356\n",
      "2011out of 2356\n",
      "2012out of 2356\n",
      "2013out of 2356\n",
      "2014out of 2356\n",
      "2015out of 2356\n",
      "2016out of 2356\n",
      "2017out of 2356\n",
      "2018out of 2356\n",
      "2019out of 2356\n",
      "2020out of 2356\n",
      "2021out of 2356\n",
      "2022out of 2356\n",
      "2023out of 2356\n",
      "2024out of 2356\n",
      "2025out of 2356\n",
      "2026out of 2356\n",
      "2027out of 2356\n",
      "2028out of 2356\n",
      "2029out of 2356\n",
      "2030out of 2356\n",
      "2031out of 2356\n",
      "2032out of 2356\n",
      "2033out of 2356\n",
      "2034out of 2356\n",
      "2035out of 2356\n",
      "2036out of 2356\n",
      "2037out of 2356\n",
      "2038out of 2356\n",
      "2039out of 2356\n",
      "2040out of 2356\n",
      "2041out of 2356\n",
      "2042out of 2356\n",
      "2043out of 2356\n",
      "2044out of 2356\n",
      "2045out of 2356\n",
      "2046out of 2356\n",
      "2047out of 2356\n",
      "2048out of 2356\n",
      "2049out of 2356\n",
      "2050out of 2356\n",
      "2051out of 2356\n",
      "2052out of 2356\n",
      "2053out of 2356\n",
      "2054out of 2356\n",
      "2055out of 2356\n",
      "2056out of 2356\n",
      "2057out of 2356\n",
      "2058out of 2356\n",
      "2059out of 2356\n",
      "2060out of 2356\n",
      "2061out of 2356\n",
      "2062out of 2356\n",
      "2063out of 2356\n",
      "2064out of 2356\n",
      "2065out of 2356\n",
      "2066out of 2356\n",
      "2067out of 2356\n",
      "2068out of 2356\n",
      "2069out of 2356\n",
      "2070out of 2356\n",
      "2071out of 2356\n",
      "2072out of 2356\n",
      "2073out of 2356\n",
      "2074out of 2356\n",
      "2075out of 2356\n",
      "2076out of 2356\n",
      "2077out of 2356\n",
      "2078out of 2356\n",
      "2079out of 2356\n",
      "2080out of 2356\n",
      "2081out of 2356\n",
      "2082out of 2356\n",
      "2083out of 2356\n",
      "2084out of 2356\n",
      "2085out of 2356\n",
      "2086out of 2356\n",
      "2087out of 2356\n",
      "2088out of 2356\n",
      "2089out of 2356\n",
      "2090out of 2356\n",
      "2091out of 2356\n",
      "2092out of 2356\n",
      "2093out of 2356\n",
      "2094out of 2356\n",
      "2095out of 2356\n",
      "2096out of 2356\n",
      "2097out of 2356\n",
      "2098out of 2356\n",
      "2099out of 2356\n",
      "2100out of 2356\n",
      "2101out of 2356\n",
      "2102out of 2356\n",
      "2103out of 2356\n",
      "2104out of 2356\n",
      "2105out of 2356\n",
      "2106out of 2356\n",
      "2107out of 2356\n",
      "2108out of 2356\n",
      "2109out of 2356\n",
      "2110out of 2356\n",
      "2111out of 2356\n",
      "2112out of 2356\n",
      "2113out of 2356\n",
      "2114out of 2356\n",
      "2115out of 2356\n",
      "2116out of 2356\n",
      "2117out of 2356\n",
      "2118out of 2356\n",
      "2119out of 2356\n",
      "2120out of 2356\n",
      "2121out of 2356\n",
      "2122out of 2356\n",
      "2123out of 2356\n",
      "2124out of 2356\n",
      "2125out of 2356\n",
      "2126out of 2356\n",
      "2127out of 2356\n",
      "2128out of 2356\n",
      "2129out of 2356\n",
      "2130out of 2356\n",
      "2131out of 2356\n",
      "2132out of 2356\n",
      "2133out of 2356\n",
      "2134out of 2356\n",
      "2135out of 2356\n",
      "2136out of 2356\n",
      "2137out of 2356\n",
      "2138out of 2356\n",
      "2139out of 2356\n",
      "2140out of 2356\n",
      "2141out of 2356\n",
      "2142out of 2356\n",
      "2143out of 2356\n",
      "2144out of 2356\n",
      "2145out of 2356\n",
      "2146out of 2356\n",
      "2147out of 2356\n",
      "2148out of 2356\n",
      "2149out of 2356\n",
      "2150out of 2356\n",
      "2151out of 2356\n",
      "2152out of 2356\n",
      "2153out of 2356\n",
      "2154out of 2356\n",
      "2155out of 2356\n",
      "2156out of 2356\n",
      "2157out of 2356\n",
      "2158out of 2356\n",
      "2159out of 2356\n",
      "2160out of 2356\n",
      "2161out of 2356\n",
      "2162out of 2356\n",
      "2163out of 2356\n",
      "2164out of 2356\n",
      "2165out of 2356\n",
      "2166out of 2356\n",
      "2167out of 2356\n",
      "2168out of 2356\n",
      "2169out of 2356\n",
      "2170out of 2356\n",
      "2171out of 2356\n",
      "2172out of 2356\n",
      "2173out of 2356\n",
      "2174out of 2356\n",
      "2175out of 2356\n",
      "2176out of 2356\n",
      "2177out of 2356\n",
      "2178out of 2356\n",
      "2179out of 2356\n",
      "2180out of 2356\n",
      "2181out of 2356\n",
      "2182out of 2356\n",
      "2183out of 2356\n",
      "2184out of 2356\n",
      "2185out of 2356\n",
      "2186out of 2356\n",
      "2187out of 2356\n",
      "2188out of 2356\n",
      "2189out of 2356\n",
      "2190out of 2356\n",
      "2191out of 2356\n",
      "2192out of 2356\n",
      "2193out of 2356\n",
      "2194out of 2356\n",
      "2195out of 2356\n",
      "2196out of 2356\n",
      "2197out of 2356\n",
      "2198out of 2356\n",
      "2199out of 2356\n",
      "2200out of 2356\n",
      "2201out of 2356\n",
      "2202out of 2356\n",
      "2203out of 2356\n",
      "2204out of 2356\n",
      "2205out of 2356\n",
      "2206out of 2356\n",
      "2207out of 2356\n",
      "2208out of 2356\n",
      "2209out of 2356\n",
      "2210out of 2356\n",
      "2211out of 2356\n",
      "2212out of 2356\n",
      "2213out of 2356\n",
      "2214out of 2356\n",
      "2215out of 2356\n",
      "2216out of 2356\n",
      "2217out of 2356\n",
      "2218out of 2356\n",
      "2219out of 2356\n",
      "2220out of 2356\n",
      "2221out of 2356\n",
      "2222out of 2356\n",
      "2223out of 2356\n",
      "2224out of 2356\n",
      "2225out of 2356\n",
      "2226out of 2356\n",
      "2227out of 2356\n",
      "2228out of 2356\n",
      "2229out of 2356\n",
      "2230out of 2356\n",
      "2231out of 2356\n",
      "2232out of 2356\n",
      "2233out of 2356\n",
      "2234out of 2356\n",
      "2235out of 2356\n",
      "2236out of 2356\n",
      "2237out of 2356\n",
      "2238out of 2356\n",
      "2239out of 2356\n",
      "2240out of 2356\n",
      "2241out of 2356\n",
      "2242out of 2356\n",
      "2243out of 2356\n",
      "2244out of 2356\n",
      "2245out of 2356\n",
      "2246out of 2356\n",
      "2247out of 2356\n",
      "2248out of 2356\n",
      "2249out of 2356\n",
      "2250out of 2356\n",
      "2251out of 2356\n",
      "2252out of 2356\n",
      "2253out of 2356\n",
      "2254out of 2356\n",
      "2255out of 2356\n",
      "2256out of 2356\n",
      "2257out of 2356\n",
      "2258out of 2356\n",
      "2259out of 2356\n",
      "2260out of 2356\n",
      "2261out of 2356\n",
      "2262out of 2356\n",
      "2263out of 2356\n",
      "2264out of 2356\n",
      "2265out of 2356\n",
      "2266out of 2356\n",
      "2267out of 2356\n",
      "2268out of 2356\n",
      "2269out of 2356\n",
      "2270out of 2356\n",
      "2271out of 2356\n",
      "2272out of 2356\n",
      "2273out of 2356\n",
      "2274out of 2356\n",
      "2275out of 2356\n",
      "2276out of 2356\n",
      "2277out of 2356\n",
      "2278out of 2356\n",
      "2279out of 2356\n",
      "2280out of 2356\n",
      "2281out of 2356\n",
      "2282out of 2356\n",
      "2283out of 2356\n",
      "2284out of 2356\n",
      "2285out of 2356\n",
      "2286out of 2356\n",
      "2287out of 2356\n",
      "2288out of 2356\n",
      "2289out of 2356\n",
      "2290out of 2356\n",
      "2291out of 2356\n",
      "2292out of 2356\n",
      "2293out of 2356\n",
      "2294out of 2356\n",
      "2295out of 2356\n",
      "2296out of 2356\n",
      "2297out of 2356\n",
      "2298out of 2356\n",
      "2299out of 2356\n",
      "2300out of 2356\n",
      "2301out of 2356\n",
      "2302out of 2356\n",
      "2303out of 2356\n",
      "2304out of 2356\n",
      "2305out of 2356\n",
      "2306out of 2356\n",
      "2307out of 2356\n",
      "2308out of 2356\n",
      "2309out of 2356\n",
      "2310out of 2356\n",
      "2311out of 2356\n",
      "2312out of 2356\n",
      "2313out of 2356\n",
      "2314out of 2356\n",
      "2315out of 2356\n",
      "2316out of 2356\n",
      "2317out of 2356\n",
      "2318out of 2356\n",
      "2319out of 2356\n",
      "2320out of 2356\n",
      "2321out of 2356\n",
      "2322out of 2356\n",
      "2323out of 2356\n",
      "2324out of 2356\n",
      "2325out of 2356\n",
      "2326out of 2356\n",
      "2327out of 2356\n",
      "2328out of 2356\n",
      "2329out of 2356\n",
      "2330out of 2356\n",
      "2331out of 2356\n",
      "2332out of 2356\n",
      "2333out of 2356\n",
      "2334out of 2356\n",
      "2335out of 2356\n",
      "2336out of 2356\n",
      "2337out of 2356\n",
      "2338out of 2356\n",
      "2339out of 2356\n",
      "2340out of 2356\n",
      "2341out of 2356\n",
      "2342out of 2356\n",
      "2343out of 2356\n",
      "2344out of 2356\n",
      "2345out of 2356\n",
      "2346out of 2356\n",
      "2347out of 2356\n",
      "2348out of 2356\n",
      "2349out of 2356\n",
      "2350out of 2356\n",
      "2351out of 2356\n",
      "2352out of 2356\n",
      "2353out of 2356\n",
      "2354out of 2356\n",
      "2355out of 2356\n",
      "2356out of 2356\n"
     ]
    }
   ],
   "source": [
    "# creating text file and dumping output of api querying\n",
    "if not os.path.isfile('tweet_json.txt'):\n",
    "    print(\"file created\")\n",
    "    errors = []\n",
    "    count=0\n",
    "    error_no=0\n",
    "    with open ('tweet_json.txt', 'w') as file:\n",
    "            for tweet_id in archive_df['tweet_id']:\n",
    "                count = count + 1\n",
    "                print(str(count) + 'out of ' + str(len(archive_df)))\n",
    "                try:\n",
    "                    status = api.get_status(tweet_id, wait_on_rate_limit=True,  wait_on_rate_limit_notify=True, tweet_mode = 'extended')\n",
    "                    json.dump(status._json, file)\n",
    "                    file.write('\\n')\n",
    "                except Exception as e:\n",
    "                    error_no=error_no + 1\n",
    "                    print(str(error_no) + \"errors\")\n",
    "                    print(\"Error on tweet id {}\".format(tweet_id) + \";\" + str(e))\n",
    "                    errors.append(tweet_id)\n"
   ]
  },
  {
   "cell_type": "code",
   "execution_count": 66,
   "metadata": {},
   "outputs": [
    {
     "output_type": "stream",
     "name": "stdout",
     "text": [
      "2356\n"
     ]
    }
   ],
   "source": [
    "print(len(errors))"
   ]
  },
  {
   "cell_type": "code",
   "execution_count": 7,
   "metadata": {},
   "outputs": [],
   "source": [
    "#reading every line and converting it to a dictionary then saving all those dictionaries in a list\n",
    "tweet_list=[]\n",
    "file=open('tweet_json.txt')\n",
    "for line in file:\n",
    "    tweet = json.loads(line)\n",
    "    tweet_list.append(tweet)"
   ]
  },
  {
   "cell_type": "code",
   "execution_count": 8,
   "metadata": {
    "tags": []
   },
   "outputs": [
    {
     "output_type": "stream",
     "name": "stdout",
     "text": [
      "6478\n"
     ]
    }
   ],
   "source": [
    "#testing the resulting list\n",
    "print(tweet_list[10]['retweet_count'])"
   ]
  },
  {
   "cell_type": "code",
   "execution_count": 9,
   "metadata": {},
   "outputs": [
    {
     "output_type": "execute_result",
     "data": {
      "text/plain": [
       "                   id                                          full_text  \\\n",
       "0  892420643555336193  This is Phineas. He's a mystical boy. Only eve...   \n",
       "1  892177421306343426  This is Tilly. She's just checking pup on you....   \n",
       "2  891815181378084864  This is Archie. He is a rare Norwegian Pouncin...   \n",
       "3  891689557279858688  This is Darla. She commenced a snooze mid meal...   \n",
       "4  891327558926688256  This is Franklin. He would like you to stop ca...   \n",
       "\n",
       "   favorite_count  retweet_count  \n",
       "0           35324           7456  \n",
       "1           30582           5534  \n",
       "2           23007           3660  \n",
       "3           38619           7625  \n",
       "4           36894           8228  "
      ],
      "text/html": "<div>\n<style scoped>\n    .dataframe tbody tr th:only-of-type {\n        vertical-align: middle;\n    }\n\n    .dataframe tbody tr th {\n        vertical-align: top;\n    }\n\n    .dataframe thead th {\n        text-align: right;\n    }\n</style>\n<table border=\"1\" class=\"dataframe\">\n  <thead>\n    <tr style=\"text-align: right;\">\n      <th></th>\n      <th>id</th>\n      <th>full_text</th>\n      <th>favorite_count</th>\n      <th>retweet_count</th>\n    </tr>\n  </thead>\n  <tbody>\n    <tr>\n      <th>0</th>\n      <td>892420643555336193</td>\n      <td>This is Phineas. He's a mystical boy. Only eve...</td>\n      <td>35324</td>\n      <td>7456</td>\n    </tr>\n    <tr>\n      <th>1</th>\n      <td>892177421306343426</td>\n      <td>This is Tilly. She's just checking pup on you....</td>\n      <td>30582</td>\n      <td>5534</td>\n    </tr>\n    <tr>\n      <th>2</th>\n      <td>891815181378084864</td>\n      <td>This is Archie. He is a rare Norwegian Pouncin...</td>\n      <td>23007</td>\n      <td>3660</td>\n    </tr>\n    <tr>\n      <th>3</th>\n      <td>891689557279858688</td>\n      <td>This is Darla. She commenced a snooze mid meal...</td>\n      <td>38619</td>\n      <td>7625</td>\n    </tr>\n    <tr>\n      <th>4</th>\n      <td>891327558926688256</td>\n      <td>This is Franklin. He would like you to stop ca...</td>\n      <td>36894</td>\n      <td>8228</td>\n    </tr>\n  </tbody>\n</table>\n</div>"
     },
     "metadata": {},
     "execution_count": 9
    }
   ],
   "source": [
    "#converting the list to a dataframe\n",
    "tweets_df=pd.DataFrame(tweet_list)\n",
    "api_df = tweets_df[['id', 'full_text', 'favorite_count', 'retweet_count']]\n",
    "api_df.head()"
   ]
  },
  {
   "cell_type": "code",
   "execution_count": 10,
   "metadata": {},
   "outputs": [],
   "source": [
    "\"\"\"\n",
    "Dropping all retweeted and reply tweets and keeping only original tweets in our archive_df dataframe. This is a data cleaning issue that I chose to rectify early on in the assessment phase\n",
    "\"\"\"\n",
    "\n",
    "archive_df.drop(archive_df.loc[archive_df['retweeted_status_id'].notnull()].index, inplace=True)\n",
    "archive_df.drop(archive_df.loc[archive_df['in_reply_to_status_id'].notnull()].index, inplace=True)\n"
   ]
  },
  {
   "cell_type": "code",
   "execution_count": 11,
   "metadata": {},
   "outputs": [
    {
     "output_type": "execute_result",
     "data": {
      "text/plain": [
       "             tweet_id  in_reply_to_status_id  in_reply_to_user_id  \\\n",
       "0  892420643555336193                    NaN                  NaN   \n",
       "1  892177421306343426                    NaN                  NaN   \n",
       "2  891815181378084864                    NaN                  NaN   \n",
       "3  891689557279858688                    NaN                  NaN   \n",
       "4  891327558926688256                    NaN                  NaN   \n",
       "\n",
       "                   timestamp  \\\n",
       "0  2017-08-01 16:23:56 +0000   \n",
       "1  2017-08-01 00:17:27 +0000   \n",
       "2  2017-07-31 00:18:03 +0000   \n",
       "3  2017-07-30 15:58:51 +0000   \n",
       "4  2017-07-29 16:00:24 +0000   \n",
       "\n",
       "                                              source  \\\n",
       "0  <a href=\"http://twitter.com/download/iphone\" r...   \n",
       "1  <a href=\"http://twitter.com/download/iphone\" r...   \n",
       "2  <a href=\"http://twitter.com/download/iphone\" r...   \n",
       "3  <a href=\"http://twitter.com/download/iphone\" r...   \n",
       "4  <a href=\"http://twitter.com/download/iphone\" r...   \n",
       "\n",
       "                                                text  retweeted_status_id  \\\n",
       "0  This is Phineas. He's a mystical boy. Only eve...                  NaN   \n",
       "1  This is Tilly. She's just checking pup on you....                  NaN   \n",
       "2  This is Archie. He is a rare Norwegian Pouncin...                  NaN   \n",
       "3  This is Darla. She commenced a snooze mid meal...                  NaN   \n",
       "4  This is Franklin. He would like you to stop ca...                  NaN   \n",
       "\n",
       "   retweeted_status_user_id retweeted_status_timestamp  \\\n",
       "0                       NaN                        NaN   \n",
       "1                       NaN                        NaN   \n",
       "2                       NaN                        NaN   \n",
       "3                       NaN                        NaN   \n",
       "4                       NaN                        NaN   \n",
       "\n",
       "                                       expanded_urls  rating_numerator  \\\n",
       "0  https://twitter.com/dog_rates/status/892420643...                13   \n",
       "1  https://twitter.com/dog_rates/status/892177421...                13   \n",
       "2  https://twitter.com/dog_rates/status/891815181...                12   \n",
       "3  https://twitter.com/dog_rates/status/891689557...                13   \n",
       "4  https://twitter.com/dog_rates/status/891327558...                12   \n",
       "\n",
       "   rating_denominator      name doggo floofer pupper puppo  \n",
       "0                  10   Phineas  None    None   None  None  \n",
       "1                  10     Tilly  None    None   None  None  \n",
       "2                  10    Archie  None    None   None  None  \n",
       "3                  10     Darla  None    None   None  None  \n",
       "4                  10  Franklin  None    None   None  None  "
      ],
      "text/html": "<div>\n<style scoped>\n    .dataframe tbody tr th:only-of-type {\n        vertical-align: middle;\n    }\n\n    .dataframe tbody tr th {\n        vertical-align: top;\n    }\n\n    .dataframe thead th {\n        text-align: right;\n    }\n</style>\n<table border=\"1\" class=\"dataframe\">\n  <thead>\n    <tr style=\"text-align: right;\">\n      <th></th>\n      <th>tweet_id</th>\n      <th>in_reply_to_status_id</th>\n      <th>in_reply_to_user_id</th>\n      <th>timestamp</th>\n      <th>source</th>\n      <th>text</th>\n      <th>retweeted_status_id</th>\n      <th>retweeted_status_user_id</th>\n      <th>retweeted_status_timestamp</th>\n      <th>expanded_urls</th>\n      <th>rating_numerator</th>\n      <th>rating_denominator</th>\n      <th>name</th>\n      <th>doggo</th>\n      <th>floofer</th>\n      <th>pupper</th>\n      <th>puppo</th>\n    </tr>\n  </thead>\n  <tbody>\n    <tr>\n      <th>0</th>\n      <td>892420643555336193</td>\n      <td>NaN</td>\n      <td>NaN</td>\n      <td>2017-08-01 16:23:56 +0000</td>\n      <td>&lt;a href=\"http://twitter.com/download/iphone\" r...</td>\n      <td>This is Phineas. He's a mystical boy. Only eve...</td>\n      <td>NaN</td>\n      <td>NaN</td>\n      <td>NaN</td>\n      <td>https://twitter.com/dog_rates/status/892420643...</td>\n      <td>13</td>\n      <td>10</td>\n      <td>Phineas</td>\n      <td>None</td>\n      <td>None</td>\n      <td>None</td>\n      <td>None</td>\n    </tr>\n    <tr>\n      <th>1</th>\n      <td>892177421306343426</td>\n      <td>NaN</td>\n      <td>NaN</td>\n      <td>2017-08-01 00:17:27 +0000</td>\n      <td>&lt;a href=\"http://twitter.com/download/iphone\" r...</td>\n      <td>This is Tilly. She's just checking pup on you....</td>\n      <td>NaN</td>\n      <td>NaN</td>\n      <td>NaN</td>\n      <td>https://twitter.com/dog_rates/status/892177421...</td>\n      <td>13</td>\n      <td>10</td>\n      <td>Tilly</td>\n      <td>None</td>\n      <td>None</td>\n      <td>None</td>\n      <td>None</td>\n    </tr>\n    <tr>\n      <th>2</th>\n      <td>891815181378084864</td>\n      <td>NaN</td>\n      <td>NaN</td>\n      <td>2017-07-31 00:18:03 +0000</td>\n      <td>&lt;a href=\"http://twitter.com/download/iphone\" r...</td>\n      <td>This is Archie. He is a rare Norwegian Pouncin...</td>\n      <td>NaN</td>\n      <td>NaN</td>\n      <td>NaN</td>\n      <td>https://twitter.com/dog_rates/status/891815181...</td>\n      <td>12</td>\n      <td>10</td>\n      <td>Archie</td>\n      <td>None</td>\n      <td>None</td>\n      <td>None</td>\n      <td>None</td>\n    </tr>\n    <tr>\n      <th>3</th>\n      <td>891689557279858688</td>\n      <td>NaN</td>\n      <td>NaN</td>\n      <td>2017-07-30 15:58:51 +0000</td>\n      <td>&lt;a href=\"http://twitter.com/download/iphone\" r...</td>\n      <td>This is Darla. She commenced a snooze mid meal...</td>\n      <td>NaN</td>\n      <td>NaN</td>\n      <td>NaN</td>\n      <td>https://twitter.com/dog_rates/status/891689557...</td>\n      <td>13</td>\n      <td>10</td>\n      <td>Darla</td>\n      <td>None</td>\n      <td>None</td>\n      <td>None</td>\n      <td>None</td>\n    </tr>\n    <tr>\n      <th>4</th>\n      <td>891327558926688256</td>\n      <td>NaN</td>\n      <td>NaN</td>\n      <td>2017-07-29 16:00:24 +0000</td>\n      <td>&lt;a href=\"http://twitter.com/download/iphone\" r...</td>\n      <td>This is Franklin. He would like you to stop ca...</td>\n      <td>NaN</td>\n      <td>NaN</td>\n      <td>NaN</td>\n      <td>https://twitter.com/dog_rates/status/891327558...</td>\n      <td>12</td>\n      <td>10</td>\n      <td>Franklin</td>\n      <td>None</td>\n      <td>None</td>\n      <td>None</td>\n      <td>None</td>\n    </tr>\n  </tbody>\n</table>\n</div>"
     },
     "metadata": {},
     "execution_count": 11
    }
   ],
   "source": [
    "archive_df.head()"
   ]
  },
  {
   "cell_type": "code",
   "execution_count": 12,
   "metadata": {},
   "outputs": [
    {
     "output_type": "stream",
     "name": "stdout",
     "text": [
      "<class 'pandas.core.frame.DataFrame'>\nInt64Index: 2097 entries, 0 to 2355\nData columns (total 17 columns):\n #   Column                      Non-Null Count  Dtype  \n---  ------                      --------------  -----  \n 0   tweet_id                    2097 non-null   int64  \n 1   in_reply_to_status_id       0 non-null      float64\n 2   in_reply_to_user_id         0 non-null      float64\n 3   timestamp                   2097 non-null   object \n 4   source                      2097 non-null   object \n 5   text                        2097 non-null   object \n 6   retweeted_status_id         0 non-null      float64\n 7   retweeted_status_user_id    0 non-null      float64\n 8   retweeted_status_timestamp  0 non-null      object \n 9   expanded_urls               2094 non-null   object \n 10  rating_numerator            2097 non-null   int64  \n 11  rating_denominator          2097 non-null   int64  \n 12  name                        2097 non-null   object \n 13  doggo                       2097 non-null   object \n 14  floofer                     2097 non-null   object \n 15  pupper                      2097 non-null   object \n 16  puppo                       2097 non-null   object \ndtypes: float64(4), int64(3), object(10)\nmemory usage: 294.9+ KB\n"
     ]
    }
   ],
   "source": [
    "archive_df.info()"
   ]
  },
  {
   "cell_type": "code",
   "execution_count": 13,
   "metadata": {},
   "outputs": [
    {
     "output_type": "execute_result",
     "data": {
      "text/plain": [
       "                tweet_id  in_reply_to_status_id  in_reply_to_user_id  \\\n",
       "2041  671542985629241344                    NaN                  NaN   \n",
       "704   785872687017132033                    NaN                  NaN   \n",
       "1126  729854734790754305                    NaN                  NaN   \n",
       "2055  671362598324076544                    NaN                  NaN   \n",
       "1188  718454725339934721                    NaN                  NaN   \n",
       "\n",
       "                      timestamp  \\\n",
       "2041  2015-12-01 04:14:59 +0000   \n",
       "704   2016-10-11 16:00:24 +0000   \n",
       "1126  2016-05-10 02:05:03 +0000   \n",
       "2055  2015-11-30 16:18:11 +0000   \n",
       "1188  2016-04-08 15:05:29 +0000   \n",
       "\n",
       "                                                 source  \\\n",
       "2041  <a href=\"http://twitter.com/download/iphone\" r...   \n",
       "704   <a href=\"http://twitter.com/download/iphone\" r...   \n",
       "1126  <a href=\"http://twitter.com/download/iphone\" r...   \n",
       "2055  <a href=\"http://twitter.com/download/iphone\" r...   \n",
       "1188  <a href=\"http://twitter.com/download/iphone\" r...   \n",
       "\n",
       "                                                   text  retweeted_status_id  \\\n",
       "2041  This is JD (stands for \"just dog\"). He's like ...                  NaN   \n",
       "704   Meet Rusty. He appears to be rather h*ckin flu...                  NaN   \n",
       "1126  Say hello to Ollie. He conducts this train. He...                  NaN   \n",
       "2055  This is Tanner. He accidentally dropped all hi...                  NaN   \n",
       "1188  This pic is old but I hadn't seen it until tod...                  NaN   \n",
       "\n",
       "      retweeted_status_user_id retweeted_status_timestamp  \\\n",
       "2041                       NaN                        NaN   \n",
       "704                        NaN                        NaN   \n",
       "1126                       NaN                        NaN   \n",
       "2055                       NaN                        NaN   \n",
       "1188                       NaN                        NaN   \n",
       "\n",
       "                                          expanded_urls  rating_numerator  \\\n",
       "2041  https://twitter.com/dog_rates/status/671542985...                10   \n",
       "704   https://twitter.com/dog_rates/status/785872687...                12   \n",
       "1126  https://twitter.com/dog_rates/status/729854734...                11   \n",
       "2055  https://twitter.com/dog_rates/status/671362598...                11   \n",
       "1188  https://twitter.com/dog_rates/status/718454725...                13   \n",
       "\n",
       "      rating_denominator    name doggo floofer pupper puppo  \n",
       "2041                  10      JD  None    None   None  None  \n",
       "704                   10   Rusty  None    None   None  None  \n",
       "1126                  10   Ollie  None    None   None  None  \n",
       "2055                  10  Tanner  None    None   None  None  \n",
       "1188                  10    None  None    None   None  None  "
      ],
      "text/html": "<div>\n<style scoped>\n    .dataframe tbody tr th:only-of-type {\n        vertical-align: middle;\n    }\n\n    .dataframe tbody tr th {\n        vertical-align: top;\n    }\n\n    .dataframe thead th {\n        text-align: right;\n    }\n</style>\n<table border=\"1\" class=\"dataframe\">\n  <thead>\n    <tr style=\"text-align: right;\">\n      <th></th>\n      <th>tweet_id</th>\n      <th>in_reply_to_status_id</th>\n      <th>in_reply_to_user_id</th>\n      <th>timestamp</th>\n      <th>source</th>\n      <th>text</th>\n      <th>retweeted_status_id</th>\n      <th>retweeted_status_user_id</th>\n      <th>retweeted_status_timestamp</th>\n      <th>expanded_urls</th>\n      <th>rating_numerator</th>\n      <th>rating_denominator</th>\n      <th>name</th>\n      <th>doggo</th>\n      <th>floofer</th>\n      <th>pupper</th>\n      <th>puppo</th>\n    </tr>\n  </thead>\n  <tbody>\n    <tr>\n      <th>2041</th>\n      <td>671542985629241344</td>\n      <td>NaN</td>\n      <td>NaN</td>\n      <td>2015-12-01 04:14:59 +0000</td>\n      <td>&lt;a href=\"http://twitter.com/download/iphone\" r...</td>\n      <td>This is JD (stands for \"just dog\"). He's like ...</td>\n      <td>NaN</td>\n      <td>NaN</td>\n      <td>NaN</td>\n      <td>https://twitter.com/dog_rates/status/671542985...</td>\n      <td>10</td>\n      <td>10</td>\n      <td>JD</td>\n      <td>None</td>\n      <td>None</td>\n      <td>None</td>\n      <td>None</td>\n    </tr>\n    <tr>\n      <th>704</th>\n      <td>785872687017132033</td>\n      <td>NaN</td>\n      <td>NaN</td>\n      <td>2016-10-11 16:00:24 +0000</td>\n      <td>&lt;a href=\"http://twitter.com/download/iphone\" r...</td>\n      <td>Meet Rusty. He appears to be rather h*ckin flu...</td>\n      <td>NaN</td>\n      <td>NaN</td>\n      <td>NaN</td>\n      <td>https://twitter.com/dog_rates/status/785872687...</td>\n      <td>12</td>\n      <td>10</td>\n      <td>Rusty</td>\n      <td>None</td>\n      <td>None</td>\n      <td>None</td>\n      <td>None</td>\n    </tr>\n    <tr>\n      <th>1126</th>\n      <td>729854734790754305</td>\n      <td>NaN</td>\n      <td>NaN</td>\n      <td>2016-05-10 02:05:03 +0000</td>\n      <td>&lt;a href=\"http://twitter.com/download/iphone\" r...</td>\n      <td>Say hello to Ollie. He conducts this train. He...</td>\n      <td>NaN</td>\n      <td>NaN</td>\n      <td>NaN</td>\n      <td>https://twitter.com/dog_rates/status/729854734...</td>\n      <td>11</td>\n      <td>10</td>\n      <td>Ollie</td>\n      <td>None</td>\n      <td>None</td>\n      <td>None</td>\n      <td>None</td>\n    </tr>\n    <tr>\n      <th>2055</th>\n      <td>671362598324076544</td>\n      <td>NaN</td>\n      <td>NaN</td>\n      <td>2015-11-30 16:18:11 +0000</td>\n      <td>&lt;a href=\"http://twitter.com/download/iphone\" r...</td>\n      <td>This is Tanner. He accidentally dropped all hi...</td>\n      <td>NaN</td>\n      <td>NaN</td>\n      <td>NaN</td>\n      <td>https://twitter.com/dog_rates/status/671362598...</td>\n      <td>11</td>\n      <td>10</td>\n      <td>Tanner</td>\n      <td>None</td>\n      <td>None</td>\n      <td>None</td>\n      <td>None</td>\n    </tr>\n    <tr>\n      <th>1188</th>\n      <td>718454725339934721</td>\n      <td>NaN</td>\n      <td>NaN</td>\n      <td>2016-04-08 15:05:29 +0000</td>\n      <td>&lt;a href=\"http://twitter.com/download/iphone\" r...</td>\n      <td>This pic is old but I hadn't seen it until tod...</td>\n      <td>NaN</td>\n      <td>NaN</td>\n      <td>NaN</td>\n      <td>https://twitter.com/dog_rates/status/718454725...</td>\n      <td>13</td>\n      <td>10</td>\n      <td>None</td>\n      <td>None</td>\n      <td>None</td>\n      <td>None</td>\n      <td>None</td>\n    </tr>\n  </tbody>\n</table>\n</div>"
     },
     "metadata": {},
     "execution_count": 13
    }
   ],
   "source": [
    "archive_df.sample(5)"
   ]
  },
  {
   "cell_type": "code",
   "execution_count": 15,
   "metadata": {},
   "outputs": [
    {
     "output_type": "execute_result",
     "data": {
      "text/plain": [
       "None         603\n",
       "a             55\n",
       "Charlie       11\n",
       "Lucy          11\n",
       "Oliver        10\n",
       "            ... \n",
       "Coopson        1\n",
       "Heinrich       1\n",
       "Berkeley       1\n",
       "Snoop          1\n",
       "Alejandro      1\n",
       "Name: name, Length: 955, dtype: int64"
      ]
     },
     "metadata": {},
     "execution_count": 15
    }
   ],
   "source": [
    "#some names seem to be incorrectly parsed\n",
    "archive_df.name.value_counts()"
   ]
  },
  {
   "cell_type": "code",
   "execution_count": 16,
   "metadata": {},
   "outputs": [
    {
     "output_type": "execute_result",
     "data": {
      "text/plain": [
       "'This is a mighty rare blue-tailed hammer sherk. Human almost lost a limb trying to take these. Be careful guys. 8/10 https://t.co/TGenMeXreW'"
      ]
     },
     "metadata": {},
     "execution_count": 16
    }
   ],
   "source": [
    "\"\"\"\n",
    "Through visual assessment it was discovered that a lot of tweets starting with \"This is a\" have had their name incorrectly parsed. I applied variations of the following code to try to identify the reason behind that and if it could be rectified\n",
    "\"\"\"\n",
    "\n",
    "archive_df.text[archive_df['text'].str.contains(\"This is a\")][1002]"
   ]
  },
  {
   "cell_type": "code",
   "execution_count": 17,
   "metadata": {},
   "outputs": [
    {
     "output_type": "execute_result",
     "data": {
      "text/plain": [
       "0    2017-08-01 16:23:56 +0000\n",
       "1    2017-08-01 00:17:27 +0000\n",
       "2    2017-07-31 00:18:03 +0000\n",
       "Name: timestamp, dtype: object"
      ]
     },
     "metadata": {},
     "execution_count": 17
    }
   ],
   "source": [
    "#timestamp column has unnecessary characters\n",
    "archive_df.timestamp.head(3)"
   ]
  },
  {
   "cell_type": "code",
   "execution_count": 18,
   "metadata": {},
   "outputs": [
    {
     "output_type": "execute_result",
     "data": {
      "text/plain": [
       "12      486\n",
       "10      436\n",
       "11      413\n",
       "13      287\n",
       "9       153\n",
       "8        98\n",
       "7        52\n",
       "14       38\n",
       "5        34\n",
       "6        32\n",
       "3        19\n",
       "4        16\n",
       "2         9\n",
       "1         5\n",
       "26        1\n",
       "44        1\n",
       "165       1\n",
       "24        1\n",
       "60        1\n",
       "50        1\n",
       "144       1\n",
       "80        1\n",
       "84        1\n",
       "88        1\n",
       "121       1\n",
       "204       1\n",
       "420       1\n",
       "1776      1\n",
       "27        1\n",
       "45        1\n",
       "75        1\n",
       "99        1\n",
       "0         1\n",
       "Name: rating_numerator, dtype: int64"
      ]
     },
     "metadata": {},
     "execution_count": 18
    }
   ],
   "source": [
    "archive_df.rating_numerator.value_counts()"
   ]
  },
  {
   "cell_type": "code",
   "execution_count": 19,
   "metadata": {},
   "outputs": [
    {
     "output_type": "execute_result",
     "data": {
      "text/plain": [
       "'Here we have uncovered an entire battalion of holiday puppers. Average of 11.26/10 https://t.co/eNm2S6p9BD'"
      ]
     },
     "metadata": {},
     "execution_count": 19
    }
   ],
   "source": [
    "#some numerator rankings don't make sense, the code below was executed to try to identify the root cause\n",
    "archive_df.text[archive_df.rating_numerator ==26][1712]"
   ]
  },
  {
   "cell_type": "code",
   "execution_count": 20,
   "metadata": {},
   "outputs": [
    {
     "output_type": "execute_result",
     "data": {
      "text/plain": [
       "10     2080\n",
       "50        3\n",
       "11        2\n",
       "80        2\n",
       "7         1\n",
       "170       1\n",
       "150       1\n",
       "120       1\n",
       "110       1\n",
       "90        1\n",
       "70        1\n",
       "40        1\n",
       "20        1\n",
       "2         1\n",
       "Name: rating_denominator, dtype: int64"
      ]
     },
     "metadata": {},
     "execution_count": 20
    }
   ],
   "source": [
    "archive_df.rating_denominator.value_counts()"
   ]
  },
  {
   "cell_type": "code",
   "execution_count": 21,
   "metadata": {},
   "outputs": [
    {
     "output_type": "execute_result",
     "data": {
      "text/plain": [
       "17"
      ]
     },
     "metadata": {},
     "execution_count": 21
    }
   ],
   "source": [
    "\"\"\"\n",
    "17 tweets have either had their ratings improperly parsed, have a missing rating or an off-scale rating\n",
    "\"\"\"\n",
    "len(archive_df.text[archive_df.rating_denominator !=10])"
   ]
  },
  {
   "cell_type": "code",
   "execution_count": 22,
   "metadata": {},
   "outputs": [],
   "source": [
    "all_stages = pd.Series(list(archive_df['doggo']) + list(archive_df['floofer']) + list(archive_df['pupper']) + list(archive_df['puppo']))"
   ]
  },
  {
   "cell_type": "code",
   "execution_count": 23,
   "metadata": {},
   "outputs": [
    {
     "output_type": "execute_result",
     "data": {
      "text/plain": [
       "None       8041\n",
       "pupper      230\n",
       "doggo        83\n",
       "puppo        24\n",
       "floofer      10\n",
       "dtype: int64"
      ]
     },
     "metadata": {},
     "execution_count": 23
    }
   ],
   "source": [
    "all_stages.value_counts()"
   ]
  },
  {
   "cell_type": "code",
   "execution_count": 24,
   "metadata": {},
   "outputs": [
    {
     "output_type": "execute_result",
     "data": {
      "text/plain": [
       "Empty DataFrame\n",
       "Columns: [tweet_id, in_reply_to_status_id, in_reply_to_user_id, timestamp, source, text, retweeted_status_id, retweeted_status_user_id, retweeted_status_timestamp, expanded_urls, rating_numerator, rating_denominator, name, doggo, floofer, pupper, puppo]\n",
       "Index: []"
      ],
      "text/html": "<div>\n<style scoped>\n    .dataframe tbody tr th:only-of-type {\n        vertical-align: middle;\n    }\n\n    .dataframe tbody tr th {\n        vertical-align: top;\n    }\n\n    .dataframe thead th {\n        text-align: right;\n    }\n</style>\n<table border=\"1\" class=\"dataframe\">\n  <thead>\n    <tr style=\"text-align: right;\">\n      <th></th>\n      <th>tweet_id</th>\n      <th>in_reply_to_status_id</th>\n      <th>in_reply_to_user_id</th>\n      <th>timestamp</th>\n      <th>source</th>\n      <th>text</th>\n      <th>retweeted_status_id</th>\n      <th>retweeted_status_user_id</th>\n      <th>retweeted_status_timestamp</th>\n      <th>expanded_urls</th>\n      <th>rating_numerator</th>\n      <th>rating_denominator</th>\n      <th>name</th>\n      <th>doggo</th>\n      <th>floofer</th>\n      <th>pupper</th>\n      <th>puppo</th>\n    </tr>\n  </thead>\n  <tbody>\n  </tbody>\n</table>\n</div>"
     },
     "metadata": {},
     "execution_count": 24
    }
   ],
   "source": [
    "archive_df.loc[archive_df.timestamp.duplicated()]"
   ]
  },
  {
   "source": [
    "## images_df data assessment\n",
    "### data quality issues:\n",
    "1. There are 324 tweets with images that don't have dogs (some of these images do have dogs but the algorithm failed to identify them)\n",
    "\n",
    "### data tidiness issues:\n",
    "1. images_df should be merged with archive_df"
   ],
   "cell_type": "markdown",
   "metadata": {}
  },
  {
   "cell_type": "code",
   "execution_count": 25,
   "metadata": {},
   "outputs": [
    {
     "output_type": "stream",
     "name": "stdout",
     "text": [
      "<class 'pandas.core.frame.DataFrame'>\nRangeIndex: 2075 entries, 0 to 2074\nData columns (total 12 columns):\n #   Column    Non-Null Count  Dtype  \n---  ------    --------------  -----  \n 0   tweet_id  2075 non-null   int64  \n 1   jpg_url   2075 non-null   object \n 2   img_num   2075 non-null   int64  \n 3   p1        2075 non-null   object \n 4   p1_conf   2075 non-null   float64\n 5   p1_dog    2075 non-null   bool   \n 6   p2        2075 non-null   object \n 7   p2_conf   2075 non-null   float64\n 8   p2_dog    2075 non-null   bool   \n 9   p3        2075 non-null   object \n 10  p3_conf   2075 non-null   float64\n 11  p3_dog    2075 non-null   bool   \ndtypes: bool(3), float64(3), int64(2), object(4)\nmemory usage: 152.1+ KB\n"
     ]
    }
   ],
   "source": [
    "images_df.info()"
   ]
  },
  {
   "cell_type": "code",
   "execution_count": 67,
   "metadata": {},
   "outputs": [],
   "source": [
    "#images_df.loc[(images_df.p3_dog.notnull())]"
   ]
  },
  {
   "cell_type": "code",
   "execution_count": 26,
   "metadata": {},
   "outputs": [],
   "source": [
    "Not_dogs = images_df.loc[(images_df['p1_dog'] == False) & (images_df['p2_dog'] == False) & (images_df['p3_dog'] == False)]"
   ]
  },
  {
   "cell_type": "code",
   "execution_count": 27,
   "metadata": {},
   "outputs": [
    {
     "output_type": "execute_result",
     "data": {
      "text/plain": [
       "324"
      ]
     },
     "metadata": {},
     "execution_count": 27
    }
   ],
   "source": [
    "len(Not_dogs)"
   ]
  },
  {
   "source": [
    "## Assessment Summary\n",
    "### Data quality issues:\n",
    "1. dataframe includes retweets\n",
    "2. dataframe includes reply tweets\n",
    "3. 680 tweets without names and 55 with an 'a' name or other incorrect 1 or 2 character names\n",
    "4. 22 tweets have rating denominators higher than 10\n",
    "5. a few rating numerators seem to be incorrect\n",
    "6. incorrect datetime column data type\n",
    "7. dataframe includes tweets with no images\n",
    "8. Timestamp column includes (+0000) at the end of the string\n",
    "9. Date column datatype should be datetime\n",
    "### Data tidiness issues:\n",
    "1. Dog stage are over 4 different columns instead of 1 and some tweets have 2 stages\n",
    "2. timestamp column includes date and time and should be split over 2 columns\n",
    "3. Drop columns we don't need\n"
   ],
   "cell_type": "markdown",
   "metadata": {}
  },
  {
   "source": [
    "# Data Cleaning\n",
    "## Tidiness\n",
    "1. timestamp column includes date and time and should be split over 2 columns\n",
    "2. Drop unused columns\n",
    "3. Dog stage are over 4 different columns instead of 1\n",
    "\n",
    "## Quality\n",
    "1. remove the 1 syllable names 'a'\n",
    "2. incorrect datatype for date column\n",
    "3. drop tweets that have no dog images\n",
    "4. tweets have incorrect rating denominators\n",
    "5. some rating numerators are incorrect\n",
    "\n",
    "** Fixed while tidying **\n",
    "\n",
    "6. Some tweets have 2 dog stages\n",
    "7. Datetime column includes unwanted characters (+0000)\n",
    "\n",
    "** Fixed while assessing **\n",
    "\n",
    "8. Dataframe includes retweets\n",
    "9. Dataframe includes replies\n"
   ],
   "cell_type": "markdown",
   "metadata": {}
  },
  {
   "cell_type": "code",
   "execution_count": 28,
   "metadata": {},
   "outputs": [],
   "source": [
    "archive_df_clean=archive_df.copy()\n",
    "images_df_clean = images_df.copy()"
   ]
  },
  {
   "source": [
    "** issue: timestamp column includes date and time and should be split over 2 columns **\n",
    "\n",
    "### Define\n",
    "Splitting timestamp column to reflect date only and add another column for time. Removing unnecessary characters"
   ],
   "cell_type": "markdown",
   "metadata": {}
  },
  {
   "source": [
    "### Code"
   ],
   "cell_type": "markdown",
   "metadata": {}
  },
  {
   "cell_type": "code",
   "execution_count": 29,
   "metadata": {},
   "outputs": [],
   "source": [
    "archive_df_clean['timestamp'] = archive_df_clean['timestamp'].map(lambda x: x.lstrip('+-').rstrip('+0000'))"
   ]
  },
  {
   "cell_type": "code",
   "execution_count": 30,
   "metadata": {},
   "outputs": [],
   "source": [
    "new_timestamp = archive_df_clean['timestamp'].str.split(\" \", n = 1, expand = True) "
   ]
  },
  {
   "cell_type": "code",
   "execution_count": 31,
   "metadata": {},
   "outputs": [],
   "source": [
    "archive_df_clean['date']=new_timestamp[0]\n",
    "archive_df_clean['time']=new_timestamp[1]"
   ]
  },
  {
   "cell_type": "code",
   "execution_count": 32,
   "metadata": {},
   "outputs": [],
   "source": [
    "archive_df_clean.drop(columns=['timestamp'], inplace=True)"
   ]
  },
  {
   "source": [
    "### test"
   ],
   "cell_type": "markdown",
   "metadata": {}
  },
  {
   "cell_type": "code",
   "execution_count": 33,
   "metadata": {},
   "outputs": [
    {
     "output_type": "execute_result",
     "data": {
      "text/plain": [
       "             tweet_id  in_reply_to_status_id  in_reply_to_user_id  \\\n",
       "0  892420643555336193                    NaN                  NaN   \n",
       "1  892177421306343426                    NaN                  NaN   \n",
       "2  891815181378084864                    NaN                  NaN   \n",
       "3  891689557279858688                    NaN                  NaN   \n",
       "4  891327558926688256                    NaN                  NaN   \n",
       "\n",
       "                                              source  \\\n",
       "0  <a href=\"http://twitter.com/download/iphone\" r...   \n",
       "1  <a href=\"http://twitter.com/download/iphone\" r...   \n",
       "2  <a href=\"http://twitter.com/download/iphone\" r...   \n",
       "3  <a href=\"http://twitter.com/download/iphone\" r...   \n",
       "4  <a href=\"http://twitter.com/download/iphone\" r...   \n",
       "\n",
       "                                                text  retweeted_status_id  \\\n",
       "0  This is Phineas. He's a mystical boy. Only eve...                  NaN   \n",
       "1  This is Tilly. She's just checking pup on you....                  NaN   \n",
       "2  This is Archie. He is a rare Norwegian Pouncin...                  NaN   \n",
       "3  This is Darla. She commenced a snooze mid meal...                  NaN   \n",
       "4  This is Franklin. He would like you to stop ca...                  NaN   \n",
       "\n",
       "   retweeted_status_user_id retweeted_status_timestamp  \\\n",
       "0                       NaN                        NaN   \n",
       "1                       NaN                        NaN   \n",
       "2                       NaN                        NaN   \n",
       "3                       NaN                        NaN   \n",
       "4                       NaN                        NaN   \n",
       "\n",
       "                                       expanded_urls  rating_numerator  \\\n",
       "0  https://twitter.com/dog_rates/status/892420643...                13   \n",
       "1  https://twitter.com/dog_rates/status/892177421...                13   \n",
       "2  https://twitter.com/dog_rates/status/891815181...                12   \n",
       "3  https://twitter.com/dog_rates/status/891689557...                13   \n",
       "4  https://twitter.com/dog_rates/status/891327558...                12   \n",
       "\n",
       "   rating_denominator      name doggo floofer pupper puppo        date  \\\n",
       "0                  10   Phineas  None    None   None  None  2017-08-01   \n",
       "1                  10     Tilly  None    None   None  None  2017-08-01   \n",
       "2                  10    Archie  None    None   None  None  2017-07-31   \n",
       "3                  10     Darla  None    None   None  None  2017-07-30   \n",
       "4                  10  Franklin  None    None   None  None  2017-07-29   \n",
       "\n",
       "        time  \n",
       "0  16:23:56   \n",
       "1  00:17:27   \n",
       "2  00:18:03   \n",
       "3  15:58:51   \n",
       "4  16:00:24   "
      ],
      "text/html": "<div>\n<style scoped>\n    .dataframe tbody tr th:only-of-type {\n        vertical-align: middle;\n    }\n\n    .dataframe tbody tr th {\n        vertical-align: top;\n    }\n\n    .dataframe thead th {\n        text-align: right;\n    }\n</style>\n<table border=\"1\" class=\"dataframe\">\n  <thead>\n    <tr style=\"text-align: right;\">\n      <th></th>\n      <th>tweet_id</th>\n      <th>in_reply_to_status_id</th>\n      <th>in_reply_to_user_id</th>\n      <th>source</th>\n      <th>text</th>\n      <th>retweeted_status_id</th>\n      <th>retweeted_status_user_id</th>\n      <th>retweeted_status_timestamp</th>\n      <th>expanded_urls</th>\n      <th>rating_numerator</th>\n      <th>rating_denominator</th>\n      <th>name</th>\n      <th>doggo</th>\n      <th>floofer</th>\n      <th>pupper</th>\n      <th>puppo</th>\n      <th>date</th>\n      <th>time</th>\n    </tr>\n  </thead>\n  <tbody>\n    <tr>\n      <th>0</th>\n      <td>892420643555336193</td>\n      <td>NaN</td>\n      <td>NaN</td>\n      <td>&lt;a href=\"http://twitter.com/download/iphone\" r...</td>\n      <td>This is Phineas. He's a mystical boy. Only eve...</td>\n      <td>NaN</td>\n      <td>NaN</td>\n      <td>NaN</td>\n      <td>https://twitter.com/dog_rates/status/892420643...</td>\n      <td>13</td>\n      <td>10</td>\n      <td>Phineas</td>\n      <td>None</td>\n      <td>None</td>\n      <td>None</td>\n      <td>None</td>\n      <td>2017-08-01</td>\n      <td>16:23:56</td>\n    </tr>\n    <tr>\n      <th>1</th>\n      <td>892177421306343426</td>\n      <td>NaN</td>\n      <td>NaN</td>\n      <td>&lt;a href=\"http://twitter.com/download/iphone\" r...</td>\n      <td>This is Tilly. She's just checking pup on you....</td>\n      <td>NaN</td>\n      <td>NaN</td>\n      <td>NaN</td>\n      <td>https://twitter.com/dog_rates/status/892177421...</td>\n      <td>13</td>\n      <td>10</td>\n      <td>Tilly</td>\n      <td>None</td>\n      <td>None</td>\n      <td>None</td>\n      <td>None</td>\n      <td>2017-08-01</td>\n      <td>00:17:27</td>\n    </tr>\n    <tr>\n      <th>2</th>\n      <td>891815181378084864</td>\n      <td>NaN</td>\n      <td>NaN</td>\n      <td>&lt;a href=\"http://twitter.com/download/iphone\" r...</td>\n      <td>This is Archie. He is a rare Norwegian Pouncin...</td>\n      <td>NaN</td>\n      <td>NaN</td>\n      <td>NaN</td>\n      <td>https://twitter.com/dog_rates/status/891815181...</td>\n      <td>12</td>\n      <td>10</td>\n      <td>Archie</td>\n      <td>None</td>\n      <td>None</td>\n      <td>None</td>\n      <td>None</td>\n      <td>2017-07-31</td>\n      <td>00:18:03</td>\n    </tr>\n    <tr>\n      <th>3</th>\n      <td>891689557279858688</td>\n      <td>NaN</td>\n      <td>NaN</td>\n      <td>&lt;a href=\"http://twitter.com/download/iphone\" r...</td>\n      <td>This is Darla. She commenced a snooze mid meal...</td>\n      <td>NaN</td>\n      <td>NaN</td>\n      <td>NaN</td>\n      <td>https://twitter.com/dog_rates/status/891689557...</td>\n      <td>13</td>\n      <td>10</td>\n      <td>Darla</td>\n      <td>None</td>\n      <td>None</td>\n      <td>None</td>\n      <td>None</td>\n      <td>2017-07-30</td>\n      <td>15:58:51</td>\n    </tr>\n    <tr>\n      <th>4</th>\n      <td>891327558926688256</td>\n      <td>NaN</td>\n      <td>NaN</td>\n      <td>&lt;a href=\"http://twitter.com/download/iphone\" r...</td>\n      <td>This is Franklin. He would like you to stop ca...</td>\n      <td>NaN</td>\n      <td>NaN</td>\n      <td>NaN</td>\n      <td>https://twitter.com/dog_rates/status/891327558...</td>\n      <td>12</td>\n      <td>10</td>\n      <td>Franklin</td>\n      <td>None</td>\n      <td>None</td>\n      <td>None</td>\n      <td>None</td>\n      <td>2017-07-29</td>\n      <td>16:00:24</td>\n    </tr>\n  </tbody>\n</table>\n</div>"
     },
     "metadata": {},
     "execution_count": 33
    }
   ],
   "source": [
    "archive_df_clean.head(5)"
   ]
  },
  {
   "cell_type": "code",
   "execution_count": 34,
   "metadata": {},
   "outputs": [
    {
     "output_type": "execute_result",
     "data": {
      "text/plain": [
       "2097"
      ]
     },
     "metadata": {},
     "execution_count": 34
    }
   ],
   "source": [
    "len(archive_df_clean)"
   ]
  },
  {
   "source": [
    "**Issue: Drop unused columns **\n",
    "### Define\n",
    "Dropping unused columns using the pandas drop method"
   ],
   "cell_type": "markdown",
   "metadata": {}
  },
  {
   "source": [
    "### Code"
   ],
   "cell_type": "markdown",
   "metadata": {}
  },
  {
   "cell_type": "code",
   "execution_count": 36,
   "metadata": {},
   "outputs": [],
   "source": [
    "archive_df_clean = archive_df_clean.drop(['in_reply_to_status_id', 'in_reply_to_user_id', 'retweeted_status_id', 'retweeted_status_user_id', 'retweeted_status_timestamp'], axis=1)"
   ]
  },
  {
   "source": [
    "### Test"
   ],
   "cell_type": "markdown",
   "metadata": {}
  },
  {
   "cell_type": "code",
   "execution_count": 37,
   "metadata": {},
   "outputs": [
    {
     "output_type": "execute_result",
     "data": {
      "text/plain": [
       "Index(['tweet_id', 'source', 'text', 'expanded_urls', 'rating_numerator',\n",
       "       'rating_denominator', 'name', 'doggo', 'floofer', 'pupper', 'puppo',\n",
       "       'date', 'time'],\n",
       "      dtype='object')"
      ]
     },
     "metadata": {},
     "execution_count": 37
    }
   ],
   "source": [
    "archive_df_clean.columns"
   ]
  },
  {
   "source": [
    "**Issue: Dog stage are over 4 different columns instead of 1 ** \n",
    "### Define\n",
    "create 1 dog stage category columns instead of the current 4"
   ],
   "cell_type": "markdown",
   "metadata": {}
  },
  {
   "source": [
    "### Code"
   ],
   "cell_type": "markdown",
   "metadata": {}
  },
  {
   "cell_type": "code",
   "execution_count": 39,
   "metadata": {},
   "outputs": [],
   "source": [
    "#Fix None entries\n",
    "archive_df_clean.doggo.replace('None', '', inplace=True)\n",
    "archive_df_clean.floofer.replace('None', '', inplace=True)\n",
    "archive_df_clean.pupper.replace('None', '', inplace=True)\n",
    "archive_df_clean.puppo.replace('None', '', inplace=True)"
   ]
  },
  {
   "cell_type": "code",
   "execution_count": 40,
   "metadata": {},
   "outputs": [],
   "source": [
    "archive_df_clean['dog_stage'] = archive_df_clean.doggo + archive_df_clean.floofer + archive_df_clean.pupper + archive_df_clean.puppo"
   ]
  },
  {
   "cell_type": "code",
   "execution_count": 42,
   "metadata": {},
   "outputs": [],
   "source": [
    "#handle multiple stages\n",
    "archive_df_clean.loc[archive_df_clean.dog_stage == 'doggopupper', 'dog_stage'] = 'doggo, pupper'\n",
    "archive_df_clean.loc[archive_df_clean.dog_stage == 'doggopuppo', 'dog_stage'] = 'doggo, pupper'\n",
    "archive_df_clean.loc[archive_df_clean.dog_stage == 'doggofloofer', 'dog_stage'] = 'doggo, pupper'\n",
    "\n",
    "# handle missing values\n",
    "archive_df_clean.loc[archive_df_clean.dog_stage == '', 'dog_stage'] = np.nan\n",
    "\n"
   ]
  },
  {
   "cell_type": "code",
   "execution_count": 33,
   "metadata": {},
   "outputs": [],
   "source": [
    "\"\"\"\n",
    "archive_df_clean = pd.melt(archive_df_clean, id_vars=['tweet_id', 'source', 'text', 'expanded_urls', 'rating_numerator',\n",
    "       'rating_denominator', 'name', 'date', 'time'], var_name='stage', value_name='dog_stage')\n",
    "archive_df_clean = archive_df_clean.drop('stage', axis=1)\n",
    "archive_df_clean = archive_df_clean.sort_values(by=['tweet_id'])\n",
    "\"\"\""
   ]
  },
  {
   "source": [
    "### Test"
   ],
   "cell_type": "markdown",
   "metadata": {}
  },
  {
   "cell_type": "code",
   "execution_count": 40,
   "metadata": {},
   "outputs": [
    {
     "output_type": "execute_result",
     "data": {
      "text/plain": [
       "2097"
      ]
     },
     "metadata": {},
     "execution_count": 40
    }
   ],
   "source": [
    "len(archive_df_clean)"
   ]
  },
  {
   "cell_type": "code",
   "execution_count": 44,
   "metadata": {},
   "outputs": [
    {
     "output_type": "stream",
     "name": "stdout",
     "text": [
      "<class 'pandas.core.frame.DataFrame'>\nInt64Index: 2097 entries, 0 to 2355\nData columns (total 14 columns):\n #   Column              Non-Null Count  Dtype \n---  ------              --------------  ----- \n 0   tweet_id            2097 non-null   int64 \n 1   source              2097 non-null   object\n 2   text                2097 non-null   object\n 3   expanded_urls       2094 non-null   object\n 4   rating_numerator    2097 non-null   int64 \n 5   rating_denominator  2097 non-null   int64 \n 6   name                2097 non-null   object\n 7   doggo               2097 non-null   object\n 8   floofer             2097 non-null   object\n 9   pupper              2097 non-null   object\n 10  puppo               2097 non-null   object\n 11  date                2097 non-null   object\n 12  time                2097 non-null   object\n 13  dog_stage           336 non-null    object\ndtypes: int64(3), object(11)\nmemory usage: 325.7+ KB\n"
     ]
    }
   ],
   "source": [
    "archive_df_clean.info()"
   ]
  },
  {
   "source": [
    " ** Extra Issue:  merge the dataframe with archive_df to produce an archive dataframe only containing tweets with that have images **\n",
    "\n",
    "### Define\n",
    "using the merge pandas method to inner join both dataframes on the tweet_id column"
   ],
   "cell_type": "markdown",
   "metadata": {}
  },
  {
   "source": [
    "### Code"
   ],
   "cell_type": "markdown",
   "metadata": {}
  },
  {
   "cell_type": "code",
   "execution_count": 45,
   "metadata": {},
   "outputs": [],
   "source": [
    "#merging all dataframes together, tweets with no images are dropped\n",
    "archive_df_clean = archive_df_clean.merge(images_df_clean, on='tweet_id')\n",
    "archive_df_clean = archive_df_clean.merge(api_df, left_on='tweet_id', right_on='id')"
   ]
  },
  {
   "cell_type": "code",
   "execution_count": 46,
   "metadata": {},
   "outputs": [],
   "source": [
    "#Dropping full text and id columns due to duplication post merger\n",
    "archive_df_clean.drop(['full_text','id'], axis=1, inplace=True)"
   ]
  },
  {
   "source": [
    "### test"
   ],
   "cell_type": "markdown",
   "metadata": {}
  },
  {
   "cell_type": "code",
   "execution_count": 47,
   "metadata": {},
   "outputs": [
    {
     "output_type": "stream",
     "name": "stdout",
     "text": [
      "<class 'pandas.core.frame.DataFrame'>\nInt64Index: 1964 entries, 0 to 1963\nData columns (total 27 columns):\n #   Column              Non-Null Count  Dtype  \n---  ------              --------------  -----  \n 0   tweet_id            1964 non-null   int64  \n 1   source              1964 non-null   object \n 2   text                1964 non-null   object \n 3   expanded_urls       1964 non-null   object \n 4   rating_numerator    1964 non-null   int64  \n 5   rating_denominator  1964 non-null   int64  \n 6   name                1964 non-null   object \n 7   doggo               1964 non-null   object \n 8   floofer             1964 non-null   object \n 9   pupper              1964 non-null   object \n 10  puppo               1964 non-null   object \n 11  date                1964 non-null   object \n 12  time                1964 non-null   object \n 13  dog_stage           302 non-null    object \n 14  jpg_url             1964 non-null   object \n 15  img_num             1964 non-null   int64  \n 16  p1                  1964 non-null   object \n 17  p1_conf             1964 non-null   float64\n 18  p1_dog              1964 non-null   bool   \n 19  p2                  1964 non-null   object \n 20  p2_conf             1964 non-null   float64\n 21  p2_dog              1964 non-null   bool   \n 22  p3                  1964 non-null   object \n 23  p3_conf             1964 non-null   float64\n 24  p3_dog              1964 non-null   bool   \n 25  favorite_count      1964 non-null   int64  \n 26  retweet_count       1964 non-null   int64  \ndtypes: bool(3), float64(3), int64(6), object(15)\nmemory usage: 389.3+ KB\n"
     ]
    }
   ],
   "source": [
    "archive_df_clean.info()"
   ]
  },
  {
   "source": [
    "## Quality issues"
   ],
   "cell_type": "markdown",
   "metadata": {}
  },
  {
   "source": [
    "**issue remove the 1 syllable names 'a' **\n",
    "\n",
    "### Define"
   ],
   "cell_type": "markdown",
   "metadata": {}
  },
  {
   "source": [
    "### Code"
   ],
   "cell_type": "markdown",
   "metadata": {}
  },
  {
   "cell_type": "code",
   "execution_count": 48,
   "metadata": {},
   "outputs": [],
   "source": [
    "archive_df_clean['name']=archive_df_clean['name'].str.replace('a', 'None', case=False)"
   ]
  },
  {
   "source": [
    "### Test"
   ],
   "cell_type": "markdown",
   "metadata": {}
  },
  {
   "cell_type": "code",
   "execution_count": 56,
   "metadata": {},
   "outputs": [
    {
     "output_type": "execute_result",
     "data": {
      "text/plain": [
       "None          446\n",
       "Cooper         10\n",
       "Tucker          9\n",
       "Lucy            9\n",
       "ChNonerlie      9\n",
       "             ... \n",
       "BungNonelo      1\n",
       "Kulet           1\n",
       "Ron             1\n",
       "Obi             1\n",
       "HNonelo         1\n",
       "Name: name, Length: 848, dtype: int64"
      ]
     },
     "metadata": {},
     "execution_count": 56
    }
   ],
   "source": [
    "archive_df_clean.name.value_counts()"
   ]
  },
  {
   "source": [
    "** issue:  incorrect datatype for date column **\n",
    "\n",
    "### Define\n",
    "fix data type with datetime\n"
   ],
   "cell_type": "markdown",
   "metadata": {}
  },
  {
   "source": [
    "### Code"
   ],
   "cell_type": "markdown",
   "metadata": {}
  },
  {
   "cell_type": "code",
   "execution_count": 50,
   "metadata": {},
   "outputs": [],
   "source": [
    "archive_df_clean.date = pd.to_datetime(archive_df_clean.date)"
   ]
  },
  {
   "source": [
    "### Test"
   ],
   "cell_type": "markdown",
   "metadata": {}
  },
  {
   "cell_type": "code",
   "execution_count": 51,
   "metadata": {},
   "outputs": [
    {
     "output_type": "stream",
     "name": "stdout",
     "text": [
      "<class 'pandas.core.frame.DataFrame'>\nInt64Index: 1964 entries, 0 to 1963\nData columns (total 27 columns):\n #   Column              Non-Null Count  Dtype         \n---  ------              --------------  -----         \n 0   tweet_id            1964 non-null   int64         \n 1   source              1964 non-null   object        \n 2   text                1964 non-null   object        \n 3   expanded_urls       1964 non-null   object        \n 4   rating_numerator    1964 non-null   int64         \n 5   rating_denominator  1964 non-null   int64         \n 6   name                1964 non-null   object        \n 7   doggo               1964 non-null   object        \n 8   floofer             1964 non-null   object        \n 9   pupper              1964 non-null   object        \n 10  puppo               1964 non-null   object        \n 11  date                1964 non-null   datetime64[ns]\n 12  time                1964 non-null   object        \n 13  dog_stage           302 non-null    object        \n 14  jpg_url             1964 non-null   object        \n 15  img_num             1964 non-null   int64         \n 16  p1                  1964 non-null   object        \n 17  p1_conf             1964 non-null   float64       \n 18  p1_dog              1964 non-null   bool          \n 19  p2                  1964 non-null   object        \n 20  p2_conf             1964 non-null   float64       \n 21  p2_dog              1964 non-null   bool          \n 22  p3                  1964 non-null   object        \n 23  p3_conf             1964 non-null   float64       \n 24  p3_dog              1964 non-null   bool          \n 25  favorite_count      1964 non-null   int64         \n 26  retweet_count       1964 non-null   int64         \ndtypes: bool(3), datetime64[ns](1), float64(3), int64(6), object(14)\nmemory usage: 389.3+ KB\n"
     ]
    }
   ],
   "source": [
    "archive_df_clean.info()"
   ]
  },
  {
   "source": [
    "** Issue: drop tweets that have no dog images **\n",
    "### Define:\n",
    "Drop tweets with no dog images using pandas loc \n"
   ],
   "cell_type": "markdown",
   "metadata": {}
  },
  {
   "cell_type": "code",
   "execution_count": 52,
   "metadata": {},
   "outputs": [],
   "source": [
    "Not_dogs = archive_df_clean.loc[(archive_df_clean['p1_dog'] == False) & (archive_df_clean['p2_dog'] == False) & (archive_df_clean['p3_dog'] == False)]"
   ]
  },
  {
   "source": [
    "### Code"
   ],
   "cell_type": "markdown",
   "metadata": {}
  },
  {
   "cell_type": "code",
   "execution_count": 53,
   "metadata": {},
   "outputs": [],
   "source": [
    "archive_df_clean.drop(Not_dogs.index, inplace=True)"
   ]
  },
  {
   "source": [
    "### Test"
   ],
   "cell_type": "markdown",
   "metadata": {}
  },
  {
   "cell_type": "code",
   "execution_count": 54,
   "metadata": {},
   "outputs": [
    {
     "output_type": "execute_result",
     "data": {
      "text/plain": [
       "Empty DataFrame\n",
       "Columns: [tweet_id, source, text, expanded_urls, rating_numerator, rating_denominator, name, doggo, floofer, pupper, puppo, date, time, dog_stage, jpg_url, img_num, p1, p1_conf, p1_dog, p2, p2_conf, p2_dog, p3, p3_conf, p3_dog, favorite_count, retweet_count]\n",
       "Index: []\n",
       "\n",
       "[0 rows x 27 columns]"
      ],
      "text/html": "<div>\n<style scoped>\n    .dataframe tbody tr th:only-of-type {\n        vertical-align: middle;\n    }\n\n    .dataframe tbody tr th {\n        vertical-align: top;\n    }\n\n    .dataframe thead th {\n        text-align: right;\n    }\n</style>\n<table border=\"1\" class=\"dataframe\">\n  <thead>\n    <tr style=\"text-align: right;\">\n      <th></th>\n      <th>tweet_id</th>\n      <th>source</th>\n      <th>text</th>\n      <th>expanded_urls</th>\n      <th>rating_numerator</th>\n      <th>rating_denominator</th>\n      <th>name</th>\n      <th>doggo</th>\n      <th>floofer</th>\n      <th>pupper</th>\n      <th>...</th>\n      <th>p1_conf</th>\n      <th>p1_dog</th>\n      <th>p2</th>\n      <th>p2_conf</th>\n      <th>p2_dog</th>\n      <th>p3</th>\n      <th>p3_conf</th>\n      <th>p3_dog</th>\n      <th>favorite_count</th>\n      <th>retweet_count</th>\n    </tr>\n  </thead>\n  <tbody>\n  </tbody>\n</table>\n<p>0 rows × 27 columns</p>\n</div>"
     },
     "metadata": {},
     "execution_count": 54
    }
   ],
   "source": [
    "archive_df_clean.loc[(archive_df_clean['p1_dog'] == False) & (archive_df_clean['p2_dog'] == False) & (archive_df_clean['p3_dog'] == False)]"
   ]
  },
  {
   "cell_type": "code",
   "execution_count": 55,
   "metadata": {},
   "outputs": [
    {
     "output_type": "execute_result",
     "data": {
      "text/plain": [
       "1659"
      ]
     },
     "metadata": {},
     "execution_count": 55
    }
   ],
   "source": [
    "len(archive_df_clean)"
   ]
  },
  {
   "source": [
    "** Issue: tweets have incorrect rating denominators **"
   ],
   "cell_type": "markdown",
   "metadata": {}
  },
  {
   "source": [
    "### Define\n",
    "\n",
    "set any incorrect denominator to 10"
   ],
   "cell_type": "markdown",
   "metadata": {}
  },
  {
   "source": [
    "### Code"
   ],
   "cell_type": "markdown",
   "metadata": {}
  },
  {
   "cell_type": "code",
   "execution_count": 57,
   "metadata": {},
   "outputs": [],
   "source": [
    "archive_df_clean.rating_denominator=np.where((archive_df_clean.rating_denominator!=10),10, archive_df_clean.rating_denominator)"
   ]
  },
  {
   "source": [
    "### Test"
   ],
   "cell_type": "markdown",
   "metadata": {}
  },
  {
   "cell_type": "code",
   "execution_count": 58,
   "metadata": {},
   "outputs": [
    {
     "output_type": "execute_result",
     "data": {
      "text/plain": [
       "Series([], Name: rating_denominator, dtype: int64)"
      ]
     },
     "metadata": {},
     "execution_count": 58
    }
   ],
   "source": [
    "#checking the series for values not equal to 10\n",
    "\n",
    "archive_df_clean.rating_denominator[archive_df_clean.rating_denominator!=10]"
   ]
  },
  {
   "cell_type": "code",
   "execution_count": 59,
   "metadata": {},
   "outputs": [
    {
     "output_type": "execute_result",
     "data": {
      "text/plain": [
       "10    1659\n",
       "Name: rating_denominator, dtype: int64"
      ]
     },
     "metadata": {},
     "execution_count": 59
    }
   ],
   "source": [
    "#double checking by making sure that only values equal to 10 are present in the series\n",
    "archive_df_clean.rating_denominator.value_counts()"
   ]
  },
  {
   "source": [
    "** Issue: some rating numerators are incorrect **"
   ],
   "cell_type": "markdown",
   "metadata": {}
  },
  {
   "source": [
    "### Define\n",
    "\n",
    "Only 1 is fixed for observational purposes"
   ],
   "cell_type": "markdown",
   "metadata": {}
  },
  {
   "source": [
    "### Code"
   ],
   "cell_type": "markdown",
   "metadata": {}
  },
  {
   "cell_type": "code",
   "execution_count": 62,
   "metadata": {},
   "outputs": [
    {
     "output_type": "execute_result",
     "data": {
      "text/plain": [
       "'Here we have uncovered an entire battalion of holiday puppers. Average of 11.26/10 https://t.co/eNm2S6p9BD'"
      ]
     },
     "metadata": {},
     "execution_count": 62
    }
   ],
   "source": [
    "#get index number of tweet highlighted in assessment phase after dataframe was cleaned and merged\n",
    "archive_df_clean.text[archive_df_clean.rating_numerator ==26][1353]"
   ]
  },
  {
   "cell_type": "code",
   "execution_count": 63,
   "metadata": {},
   "outputs": [],
   "source": [
    "\"\"\"\n",
    "replaced 26 with 12\n",
    "\"\"\"\n",
    "\n",
    "archive_df_clean['rating_numerator']=archive_df_clean['rating_numerator'].replace(26, 12)"
   ]
  },
  {
   "source": [
    "### Test"
   ],
   "cell_type": "markdown",
   "metadata": {}
  },
  {
   "cell_type": "code",
   "execution_count": 64,
   "metadata": {},
   "outputs": [
    {
     "output_type": "execute_result",
     "data": {
      "text/plain": [
       "12     420\n",
       "10     357\n",
       "11     352\n",
       "13     217\n",
       "9      132\n",
       "8       68\n",
       "7       32\n",
       "14      21\n",
       "6       16\n",
       "5       14\n",
       "4        7\n",
       "3        5\n",
       "2        2\n",
       "1        1\n",
       "165      1\n",
       "144      1\n",
       "24       1\n",
       "27       1\n",
       "44       1\n",
       "45       1\n",
       "50       1\n",
       "60       1\n",
       "75       1\n",
       "80       1\n",
       "84       1\n",
       "88       1\n",
       "99       1\n",
       "121      1\n",
       "0        1\n",
       "Name: rating_numerator, dtype: int64"
      ]
     },
     "metadata": {},
     "execution_count": 64
    }
   ],
   "source": [
    "archive_df_clean.rating_numerator.value_counts()"
   ]
  },
  {
   "cell_type": "code",
   "execution_count": 65,
   "metadata": {},
   "outputs": [
    {
     "output_type": "execute_result",
     "data": {
      "text/plain": [
       "                tweet_id                                             source  \\\n",
       "1     892177421306343426  <a href=\"http://twitter.com/download/iphone\" r...   \n",
       "2     891815181378084864  <a href=\"http://twitter.com/download/iphone\" r...   \n",
       "3     891689557279858688  <a href=\"http://twitter.com/download/iphone\" r...   \n",
       "4     891327558926688256  <a href=\"http://twitter.com/download/iphone\" r...   \n",
       "5     891087950875897856  <a href=\"http://twitter.com/download/iphone\" r...   \n",
       "...                  ...                                                ...   \n",
       "1959  666049248165822465  <a href=\"http://twitter.com/download/iphone\" r...   \n",
       "1960  666044226329800704  <a href=\"http://twitter.com/download/iphone\" r...   \n",
       "1961  666033412701032449  <a href=\"http://twitter.com/download/iphone\" r...   \n",
       "1962  666029285002620928  <a href=\"http://twitter.com/download/iphone\" r...   \n",
       "1963  666020888022790149  <a href=\"http://twitter.com/download/iphone\" r...   \n",
       "\n",
       "                                                   text  \\\n",
       "1     This is Tilly. She's just checking pup on you....   \n",
       "2     This is Archie. He is a rare Norwegian Pouncin...   \n",
       "3     This is Darla. She commenced a snooze mid meal...   \n",
       "4     This is Franklin. He would like you to stop ca...   \n",
       "5     Here we have a majestic great white breaching ...   \n",
       "...                                                 ...   \n",
       "1959  Here we have a 1949 1st generation vulpix. Enj...   \n",
       "1960  This is a purebred Piers Morgan. Loves to Netf...   \n",
       "1961  Here is a very happy pup. Big fan of well-main...   \n",
       "1962  This is a western brown Mitsubishi terrier. Up...   \n",
       "1963  Here we have a Japanese Irish Setter. Lost eye...   \n",
       "\n",
       "                                          expanded_urls  rating_numerator  \\\n",
       "1     https://twitter.com/dog_rates/status/892177421...                13   \n",
       "2     https://twitter.com/dog_rates/status/891815181...                12   \n",
       "3     https://twitter.com/dog_rates/status/891689557...                13   \n",
       "4     https://twitter.com/dog_rates/status/891327558...                12   \n",
       "5     https://twitter.com/dog_rates/status/891087950...                13   \n",
       "...                                                 ...               ...   \n",
       "1959  https://twitter.com/dog_rates/status/666049248...                 5   \n",
       "1960  https://twitter.com/dog_rates/status/666044226...                 6   \n",
       "1961  https://twitter.com/dog_rates/status/666033412...                 9   \n",
       "1962  https://twitter.com/dog_rates/status/666029285...                 7   \n",
       "1963  https://twitter.com/dog_rates/status/666020888...                 8   \n",
       "\n",
       "      rating_denominator         name doggo floofer pupper  ...   p1_conf  \\\n",
       "1                     10        Tilly                       ...  0.323581   \n",
       "2                     10    Nonerchie                       ...  0.716012   \n",
       "3                     10  DNonerlNone                       ...  0.170278   \n",
       "4                     10  FrNonenklin                       ...  0.555712   \n",
       "5                     10         None                       ...  0.425595   \n",
       "...                  ...          ...   ...     ...    ...  ...       ...   \n",
       "1959                  10         None                       ...  0.560311   \n",
       "1960                  10         None                       ...  0.408143   \n",
       "1961                  10         None                       ...  0.596461   \n",
       "1962                  10         None                       ...  0.506826   \n",
       "1963                  10         None                       ...  0.465074   \n",
       "\n",
       "     p1_dog                  p2   p2_conf p2_dog                           p3  \\\n",
       "1      True            Pekinese  0.090647   True                     papillon   \n",
       "2      True            malamute  0.078253   True                       kelpie   \n",
       "3     False  Labrador_retriever  0.168086   True                      spatula   \n",
       "4      True    English_springer  0.225770   True  German_short-haired_pointer   \n",
       "5      True       Irish_terrier  0.116317   True              Indian_elephant   \n",
       "...     ...                 ...       ...    ...                          ...   \n",
       "1959   True          Rottweiler  0.243682   True                     Doberman   \n",
       "1960   True             redbone  0.360687   True           miniature_pinscher   \n",
       "1961   True            malinois  0.138584   True                   bloodhound   \n",
       "1962   True  miniature_pinscher  0.074192   True          Rhodesian_ridgeback   \n",
       "1963   True              collie  0.156665   True            Shetland_sheepdog   \n",
       "\n",
       "       p3_conf  p3_dog  favorite_count retweet_count  \n",
       "1     0.068957    True           30582          5534  \n",
       "2     0.031379    True           23007          3660  \n",
       "3     0.040836   False           38619          7625  \n",
       "4     0.175219    True           36894          8228  \n",
       "5     0.076902   False           18616          2753  \n",
       "...        ...     ...             ...           ...  \n",
       "1959  0.154629    True              95            39  \n",
       "1960  0.222752    True             263           124  \n",
       "1961  0.116197    True             108            39  \n",
       "1962  0.072010    True             118            41  \n",
       "1963  0.061428    True            2355           447  \n",
       "\n",
       "[1659 rows x 27 columns]"
      ],
      "text/html": "<div>\n<style scoped>\n    .dataframe tbody tr th:only-of-type {\n        vertical-align: middle;\n    }\n\n    .dataframe tbody tr th {\n        vertical-align: top;\n    }\n\n    .dataframe thead th {\n        text-align: right;\n    }\n</style>\n<table border=\"1\" class=\"dataframe\">\n  <thead>\n    <tr style=\"text-align: right;\">\n      <th></th>\n      <th>tweet_id</th>\n      <th>source</th>\n      <th>text</th>\n      <th>expanded_urls</th>\n      <th>rating_numerator</th>\n      <th>rating_denominator</th>\n      <th>name</th>\n      <th>doggo</th>\n      <th>floofer</th>\n      <th>pupper</th>\n      <th>...</th>\n      <th>p1_conf</th>\n      <th>p1_dog</th>\n      <th>p2</th>\n      <th>p2_conf</th>\n      <th>p2_dog</th>\n      <th>p3</th>\n      <th>p3_conf</th>\n      <th>p3_dog</th>\n      <th>favorite_count</th>\n      <th>retweet_count</th>\n    </tr>\n  </thead>\n  <tbody>\n    <tr>\n      <th>1</th>\n      <td>892177421306343426</td>\n      <td>&lt;a href=\"http://twitter.com/download/iphone\" r...</td>\n      <td>This is Tilly. She's just checking pup on you....</td>\n      <td>https://twitter.com/dog_rates/status/892177421...</td>\n      <td>13</td>\n      <td>10</td>\n      <td>Tilly</td>\n      <td></td>\n      <td></td>\n      <td></td>\n      <td>...</td>\n      <td>0.323581</td>\n      <td>True</td>\n      <td>Pekinese</td>\n      <td>0.090647</td>\n      <td>True</td>\n      <td>papillon</td>\n      <td>0.068957</td>\n      <td>True</td>\n      <td>30582</td>\n      <td>5534</td>\n    </tr>\n    <tr>\n      <th>2</th>\n      <td>891815181378084864</td>\n      <td>&lt;a href=\"http://twitter.com/download/iphone\" r...</td>\n      <td>This is Archie. He is a rare Norwegian Pouncin...</td>\n      <td>https://twitter.com/dog_rates/status/891815181...</td>\n      <td>12</td>\n      <td>10</td>\n      <td>Nonerchie</td>\n      <td></td>\n      <td></td>\n      <td></td>\n      <td>...</td>\n      <td>0.716012</td>\n      <td>True</td>\n      <td>malamute</td>\n      <td>0.078253</td>\n      <td>True</td>\n      <td>kelpie</td>\n      <td>0.031379</td>\n      <td>True</td>\n      <td>23007</td>\n      <td>3660</td>\n    </tr>\n    <tr>\n      <th>3</th>\n      <td>891689557279858688</td>\n      <td>&lt;a href=\"http://twitter.com/download/iphone\" r...</td>\n      <td>This is Darla. She commenced a snooze mid meal...</td>\n      <td>https://twitter.com/dog_rates/status/891689557...</td>\n      <td>13</td>\n      <td>10</td>\n      <td>DNonerlNone</td>\n      <td></td>\n      <td></td>\n      <td></td>\n      <td>...</td>\n      <td>0.170278</td>\n      <td>False</td>\n      <td>Labrador_retriever</td>\n      <td>0.168086</td>\n      <td>True</td>\n      <td>spatula</td>\n      <td>0.040836</td>\n      <td>False</td>\n      <td>38619</td>\n      <td>7625</td>\n    </tr>\n    <tr>\n      <th>4</th>\n      <td>891327558926688256</td>\n      <td>&lt;a href=\"http://twitter.com/download/iphone\" r...</td>\n      <td>This is Franklin. He would like you to stop ca...</td>\n      <td>https://twitter.com/dog_rates/status/891327558...</td>\n      <td>12</td>\n      <td>10</td>\n      <td>FrNonenklin</td>\n      <td></td>\n      <td></td>\n      <td></td>\n      <td>...</td>\n      <td>0.555712</td>\n      <td>True</td>\n      <td>English_springer</td>\n      <td>0.225770</td>\n      <td>True</td>\n      <td>German_short-haired_pointer</td>\n      <td>0.175219</td>\n      <td>True</td>\n      <td>36894</td>\n      <td>8228</td>\n    </tr>\n    <tr>\n      <th>5</th>\n      <td>891087950875897856</td>\n      <td>&lt;a href=\"http://twitter.com/download/iphone\" r...</td>\n      <td>Here we have a majestic great white breaching ...</td>\n      <td>https://twitter.com/dog_rates/status/891087950...</td>\n      <td>13</td>\n      <td>10</td>\n      <td>None</td>\n      <td></td>\n      <td></td>\n      <td></td>\n      <td>...</td>\n      <td>0.425595</td>\n      <td>True</td>\n      <td>Irish_terrier</td>\n      <td>0.116317</td>\n      <td>True</td>\n      <td>Indian_elephant</td>\n      <td>0.076902</td>\n      <td>False</td>\n      <td>18616</td>\n      <td>2753</td>\n    </tr>\n    <tr>\n      <th>...</th>\n      <td>...</td>\n      <td>...</td>\n      <td>...</td>\n      <td>...</td>\n      <td>...</td>\n      <td>...</td>\n      <td>...</td>\n      <td>...</td>\n      <td>...</td>\n      <td>...</td>\n      <td>...</td>\n      <td>...</td>\n      <td>...</td>\n      <td>...</td>\n      <td>...</td>\n      <td>...</td>\n      <td>...</td>\n      <td>...</td>\n      <td>...</td>\n      <td>...</td>\n      <td>...</td>\n    </tr>\n    <tr>\n      <th>1959</th>\n      <td>666049248165822465</td>\n      <td>&lt;a href=\"http://twitter.com/download/iphone\" r...</td>\n      <td>Here we have a 1949 1st generation vulpix. Enj...</td>\n      <td>https://twitter.com/dog_rates/status/666049248...</td>\n      <td>5</td>\n      <td>10</td>\n      <td>None</td>\n      <td></td>\n      <td></td>\n      <td></td>\n      <td>...</td>\n      <td>0.560311</td>\n      <td>True</td>\n      <td>Rottweiler</td>\n      <td>0.243682</td>\n      <td>True</td>\n      <td>Doberman</td>\n      <td>0.154629</td>\n      <td>True</td>\n      <td>95</td>\n      <td>39</td>\n    </tr>\n    <tr>\n      <th>1960</th>\n      <td>666044226329800704</td>\n      <td>&lt;a href=\"http://twitter.com/download/iphone\" r...</td>\n      <td>This is a purebred Piers Morgan. Loves to Netf...</td>\n      <td>https://twitter.com/dog_rates/status/666044226...</td>\n      <td>6</td>\n      <td>10</td>\n      <td>None</td>\n      <td></td>\n      <td></td>\n      <td></td>\n      <td>...</td>\n      <td>0.408143</td>\n      <td>True</td>\n      <td>redbone</td>\n      <td>0.360687</td>\n      <td>True</td>\n      <td>miniature_pinscher</td>\n      <td>0.222752</td>\n      <td>True</td>\n      <td>263</td>\n      <td>124</td>\n    </tr>\n    <tr>\n      <th>1961</th>\n      <td>666033412701032449</td>\n      <td>&lt;a href=\"http://twitter.com/download/iphone\" r...</td>\n      <td>Here is a very happy pup. Big fan of well-main...</td>\n      <td>https://twitter.com/dog_rates/status/666033412...</td>\n      <td>9</td>\n      <td>10</td>\n      <td>None</td>\n      <td></td>\n      <td></td>\n      <td></td>\n      <td>...</td>\n      <td>0.596461</td>\n      <td>True</td>\n      <td>malinois</td>\n      <td>0.138584</td>\n      <td>True</td>\n      <td>bloodhound</td>\n      <td>0.116197</td>\n      <td>True</td>\n      <td>108</td>\n      <td>39</td>\n    </tr>\n    <tr>\n      <th>1962</th>\n      <td>666029285002620928</td>\n      <td>&lt;a href=\"http://twitter.com/download/iphone\" r...</td>\n      <td>This is a western brown Mitsubishi terrier. Up...</td>\n      <td>https://twitter.com/dog_rates/status/666029285...</td>\n      <td>7</td>\n      <td>10</td>\n      <td>None</td>\n      <td></td>\n      <td></td>\n      <td></td>\n      <td>...</td>\n      <td>0.506826</td>\n      <td>True</td>\n      <td>miniature_pinscher</td>\n      <td>0.074192</td>\n      <td>True</td>\n      <td>Rhodesian_ridgeback</td>\n      <td>0.072010</td>\n      <td>True</td>\n      <td>118</td>\n      <td>41</td>\n    </tr>\n    <tr>\n      <th>1963</th>\n      <td>666020888022790149</td>\n      <td>&lt;a href=\"http://twitter.com/download/iphone\" r...</td>\n      <td>Here we have a Japanese Irish Setter. Lost eye...</td>\n      <td>https://twitter.com/dog_rates/status/666020888...</td>\n      <td>8</td>\n      <td>10</td>\n      <td>None</td>\n      <td></td>\n      <td></td>\n      <td></td>\n      <td>...</td>\n      <td>0.465074</td>\n      <td>True</td>\n      <td>collie</td>\n      <td>0.156665</td>\n      <td>True</td>\n      <td>Shetland_sheepdog</td>\n      <td>0.061428</td>\n      <td>True</td>\n      <td>2355</td>\n      <td>447</td>\n    </tr>\n  </tbody>\n</table>\n<p>1659 rows × 27 columns</p>\n</div>"
     },
     "metadata": {},
     "execution_count": 65
    }
   ],
   "source": [
    "archive_df_clean"
   ]
  },
  {
   "cell_type": "code",
   "execution_count": 66,
   "metadata": {},
   "outputs": [],
   "source": [
    "archive_df_clean.drop(columns=['doggo','floofer', 'pupper', 'puppo'], inplace=True)"
   ]
  },
  {
   "cell_type": "code",
   "execution_count": 67,
   "metadata": {},
   "outputs": [
    {
     "output_type": "stream",
     "name": "stdout",
     "text": [
      "<class 'pandas.core.frame.DataFrame'>\nInt64Index: 1659 entries, 1 to 1963\nData columns (total 23 columns):\n #   Column              Non-Null Count  Dtype         \n---  ------              --------------  -----         \n 0   tweet_id            1659 non-null   int64         \n 1   source              1659 non-null   object        \n 2   text                1659 non-null   object        \n 3   expanded_urls       1659 non-null   object        \n 4   rating_numerator    1659 non-null   int64         \n 5   rating_denominator  1659 non-null   int64         \n 6   name                1659 non-null   object        \n 7   date                1659 non-null   datetime64[ns]\n 8   time                1659 non-null   object        \n 9   dog_stage           256 non-null    object        \n 10  jpg_url             1659 non-null   object        \n 11  img_num             1659 non-null   int64         \n 12  p1                  1659 non-null   object        \n 13  p1_conf             1659 non-null   float64       \n 14  p1_dog              1659 non-null   bool          \n 15  p2                  1659 non-null   object        \n 16  p2_conf             1659 non-null   float64       \n 17  p2_dog              1659 non-null   bool          \n 18  p3                  1659 non-null   object        \n 19  p3_conf             1659 non-null   float64       \n 20  p3_dog              1659 non-null   bool          \n 21  favorite_count      1659 non-null   int64         \n 22  retweet_count       1659 non-null   int64         \ndtypes: bool(3), datetime64[ns](1), float64(3), int64(6), object(10)\nmemory usage: 357.0+ KB\n"
     ]
    }
   ],
   "source": [
    "archive_df_clean.info()"
   ]
  },
  {
   "cell_type": "code",
   "execution_count": 72,
   "metadata": {},
   "outputs": [
    {
     "output_type": "stream",
     "name": "stdout",
     "text": [
      "conntected to SQL\n"
     ]
    }
   ],
   "source": [
    "# export cleaned dataframe to sqlite database\n",
    "\n",
    "from sqlalchemy import create_engine\n",
    "import sqlite3\n",
    "engine = create_engine('sqlite:///C:\\\\Users\\\\Alykh\\\\OneDrive\\\\Desktop\\\\Dogs.db', echo=False)\n",
    "sqliteconnection = sqlite3.connect('Dogs.db')\n",
    "cursor = sqliteconnection.cursor()\n",
    "print(\"conntected to SQL\")\n",
    "archive_df_clean.to_sql('twitter_archive_master', con=sqliteconnection, if_exists='append')\n",
    "cursor.close()"
   ]
  },
  {
   "source": [
    "# Analysis"
   ],
   "cell_type": "markdown",
   "metadata": {}
  },
  {
   "source": [
    "## First Insight\n",
    "\n",
    "pupper is the most favored dog stage, garnering 1.2mn likes"
   ],
   "cell_type": "markdown",
   "metadata": {}
  },
  {
   "cell_type": "code",
   "execution_count": 73,
   "metadata": {},
   "outputs": [
    {
     "output_type": "execute_result",
     "data": {
      "text/plain": [
       "             tweet_id                                             source  \\\n",
       "1  892177421306343426  <a href=\"http://twitter.com/download/iphone\" r...   \n",
       "2  891815181378084864  <a href=\"http://twitter.com/download/iphone\" r...   \n",
       "3  891689557279858688  <a href=\"http://twitter.com/download/iphone\" r...   \n",
       "4  891327558926688256  <a href=\"http://twitter.com/download/iphone\" r...   \n",
       "5  891087950875897856  <a href=\"http://twitter.com/download/iphone\" r...   \n",
       "\n",
       "                                                text  \\\n",
       "1  This is Tilly. She's just checking pup on you....   \n",
       "2  This is Archie. He is a rare Norwegian Pouncin...   \n",
       "3  This is Darla. She commenced a snooze mid meal...   \n",
       "4  This is Franklin. He would like you to stop ca...   \n",
       "5  Here we have a majestic great white breaching ...   \n",
       "\n",
       "                                       expanded_urls  rating_numerator  \\\n",
       "1  https://twitter.com/dog_rates/status/892177421...                13   \n",
       "2  https://twitter.com/dog_rates/status/891815181...                12   \n",
       "3  https://twitter.com/dog_rates/status/891689557...                13   \n",
       "4  https://twitter.com/dog_rates/status/891327558...                12   \n",
       "5  https://twitter.com/dog_rates/status/891087950...                13   \n",
       "\n",
       "   rating_denominator         name       date       time dog_stage  ...  \\\n",
       "1                  10        Tilly 2017-08-01  00:17:27        NaN  ...   \n",
       "2                  10    Nonerchie 2017-07-31  00:18:03        NaN  ...   \n",
       "3                  10  DNonerlNone 2017-07-30  15:58:51        NaN  ...   \n",
       "4                  10  FrNonenklin 2017-07-29  16:00:24        NaN  ...   \n",
       "5                  10         None 2017-07-29  00:08:17        NaN  ...   \n",
       "\n",
       "    p1_conf  p1_dog                  p2   p2_conf  p2_dog  \\\n",
       "1  0.323581    True            Pekinese  0.090647    True   \n",
       "2  0.716012    True            malamute  0.078253    True   \n",
       "3  0.170278   False  Labrador_retriever  0.168086    True   \n",
       "4  0.555712    True    English_springer  0.225770    True   \n",
       "5  0.425595    True       Irish_terrier  0.116317    True   \n",
       "\n",
       "                            p3   p3_conf  p3_dog favorite_count  retweet_count  \n",
       "1                     papillon  0.068957    True          30582           5534  \n",
       "2                       kelpie  0.031379    True          23007           3660  \n",
       "3                      spatula  0.040836   False          38619           7625  \n",
       "4  German_short-haired_pointer  0.175219    True          36894           8228  \n",
       "5              Indian_elephant  0.076902   False          18616           2753  \n",
       "\n",
       "[5 rows x 23 columns]"
      ],
      "text/html": "<div>\n<style scoped>\n    .dataframe tbody tr th:only-of-type {\n        vertical-align: middle;\n    }\n\n    .dataframe tbody tr th {\n        vertical-align: top;\n    }\n\n    .dataframe thead th {\n        text-align: right;\n    }\n</style>\n<table border=\"1\" class=\"dataframe\">\n  <thead>\n    <tr style=\"text-align: right;\">\n      <th></th>\n      <th>tweet_id</th>\n      <th>source</th>\n      <th>text</th>\n      <th>expanded_urls</th>\n      <th>rating_numerator</th>\n      <th>rating_denominator</th>\n      <th>name</th>\n      <th>date</th>\n      <th>time</th>\n      <th>dog_stage</th>\n      <th>...</th>\n      <th>p1_conf</th>\n      <th>p1_dog</th>\n      <th>p2</th>\n      <th>p2_conf</th>\n      <th>p2_dog</th>\n      <th>p3</th>\n      <th>p3_conf</th>\n      <th>p3_dog</th>\n      <th>favorite_count</th>\n      <th>retweet_count</th>\n    </tr>\n  </thead>\n  <tbody>\n    <tr>\n      <th>1</th>\n      <td>892177421306343426</td>\n      <td>&lt;a href=\"http://twitter.com/download/iphone\" r...</td>\n      <td>This is Tilly. She's just checking pup on you....</td>\n      <td>https://twitter.com/dog_rates/status/892177421...</td>\n      <td>13</td>\n      <td>10</td>\n      <td>Tilly</td>\n      <td>2017-08-01</td>\n      <td>00:17:27</td>\n      <td>NaN</td>\n      <td>...</td>\n      <td>0.323581</td>\n      <td>True</td>\n      <td>Pekinese</td>\n      <td>0.090647</td>\n      <td>True</td>\n      <td>papillon</td>\n      <td>0.068957</td>\n      <td>True</td>\n      <td>30582</td>\n      <td>5534</td>\n    </tr>\n    <tr>\n      <th>2</th>\n      <td>891815181378084864</td>\n      <td>&lt;a href=\"http://twitter.com/download/iphone\" r...</td>\n      <td>This is Archie. He is a rare Norwegian Pouncin...</td>\n      <td>https://twitter.com/dog_rates/status/891815181...</td>\n      <td>12</td>\n      <td>10</td>\n      <td>Nonerchie</td>\n      <td>2017-07-31</td>\n      <td>00:18:03</td>\n      <td>NaN</td>\n      <td>...</td>\n      <td>0.716012</td>\n      <td>True</td>\n      <td>malamute</td>\n      <td>0.078253</td>\n      <td>True</td>\n      <td>kelpie</td>\n      <td>0.031379</td>\n      <td>True</td>\n      <td>23007</td>\n      <td>3660</td>\n    </tr>\n    <tr>\n      <th>3</th>\n      <td>891689557279858688</td>\n      <td>&lt;a href=\"http://twitter.com/download/iphone\" r...</td>\n      <td>This is Darla. She commenced a snooze mid meal...</td>\n      <td>https://twitter.com/dog_rates/status/891689557...</td>\n      <td>13</td>\n      <td>10</td>\n      <td>DNonerlNone</td>\n      <td>2017-07-30</td>\n      <td>15:58:51</td>\n      <td>NaN</td>\n      <td>...</td>\n      <td>0.170278</td>\n      <td>False</td>\n      <td>Labrador_retriever</td>\n      <td>0.168086</td>\n      <td>True</td>\n      <td>spatula</td>\n      <td>0.040836</td>\n      <td>False</td>\n      <td>38619</td>\n      <td>7625</td>\n    </tr>\n    <tr>\n      <th>4</th>\n      <td>891327558926688256</td>\n      <td>&lt;a href=\"http://twitter.com/download/iphone\" r...</td>\n      <td>This is Franklin. He would like you to stop ca...</td>\n      <td>https://twitter.com/dog_rates/status/891327558...</td>\n      <td>12</td>\n      <td>10</td>\n      <td>FrNonenklin</td>\n      <td>2017-07-29</td>\n      <td>16:00:24</td>\n      <td>NaN</td>\n      <td>...</td>\n      <td>0.555712</td>\n      <td>True</td>\n      <td>English_springer</td>\n      <td>0.225770</td>\n      <td>True</td>\n      <td>German_short-haired_pointer</td>\n      <td>0.175219</td>\n      <td>True</td>\n      <td>36894</td>\n      <td>8228</td>\n    </tr>\n    <tr>\n      <th>5</th>\n      <td>891087950875897856</td>\n      <td>&lt;a href=\"http://twitter.com/download/iphone\" r...</td>\n      <td>Here we have a majestic great white breaching ...</td>\n      <td>https://twitter.com/dog_rates/status/891087950...</td>\n      <td>13</td>\n      <td>10</td>\n      <td>None</td>\n      <td>2017-07-29</td>\n      <td>00:08:17</td>\n      <td>NaN</td>\n      <td>...</td>\n      <td>0.425595</td>\n      <td>True</td>\n      <td>Irish_terrier</td>\n      <td>0.116317</td>\n      <td>True</td>\n      <td>Indian_elephant</td>\n      <td>0.076902</td>\n      <td>False</td>\n      <td>18616</td>\n      <td>2753</td>\n    </tr>\n  </tbody>\n</table>\n<p>5 rows × 23 columns</p>\n</div>"
     },
     "metadata": {},
     "execution_count": 73
    }
   ],
   "source": [
    "archive_df_clean.head()"
   ]
  },
  {
   "cell_type": "code",
   "execution_count": 74,
   "metadata": {},
   "outputs": [],
   "source": [
    "dog_stages = archive_df_clean[archive_df_clean.dog_stage.notnull()]"
   ]
  },
  {
   "cell_type": "code",
   "execution_count": 75,
   "metadata": {},
   "outputs": [
    {
     "output_type": "execute_result",
     "data": {
      "text/plain": [
       "pupper           166\n",
       "doggo             53\n",
       "puppo             21\n",
       "doggo, pupper      9\n",
       "floofer            7\n",
       "Name: dog_stage, dtype: int64"
      ]
     },
     "metadata": {},
     "execution_count": 75
    }
   ],
   "source": [
    "dog_stages.dog_stage.value_counts()"
   ]
  },
  {
   "cell_type": "code",
   "execution_count": 76,
   "metadata": {},
   "outputs": [],
   "source": [
    "dog_stages = archive_df_clean.groupby(['dog_stage']).sum()"
   ]
  },
  {
   "cell_type": "code",
   "execution_count": 77,
   "metadata": {},
   "outputs": [
    {
     "output_type": "execute_result",
     "data": {
      "text/plain": [
       "                   tweet_id  rating_numerator  rating_denominator  img_num  \\\n",
       "dog_stage                                                                    \n",
       "doggo          4.240933e+19             631.0               530.0     68.0   \n",
       "doggo, pupper  7.122415e+18             102.0                90.0     10.0   \n",
       "floofer        5.365860e+18              84.0                70.0      8.0   \n",
       "pupper         1.197287e+20            1820.0              1660.0    215.0   \n",
       "puppo          1.701699e+19             251.0               210.0     31.0   \n",
       "\n",
       "                  p1_conf  p1_dog    p2_conf  p2_dog   p3_conf  p3_dog  \\\n",
       "dog_stage                                                                \n",
       "doggo           30.344305    47.0   8.684343    48.0  3.249808    44.0   \n",
       "doggo, pupper    6.302706     9.0   1.015716     8.0  0.461305     7.0   \n",
       "floofer          4.264427     7.0   1.087233     7.0  0.335976     6.0   \n",
       "pupper         105.165137   144.0  21.946712   147.0  9.151349   142.0   \n",
       "puppo           15.158874    19.0   2.914830    20.0  0.924957    21.0   \n",
       "\n",
       "               favorite_count  retweet_count  \n",
       "dog_stage                                     \n",
       "doggo                989852.0       334869.0  \n",
       "doggo, pupper        157751.0        49207.0  \n",
       "floofer               82336.0        29490.0  \n",
       "pupper              1140247.0       347899.0  \n",
       "puppo                428588.0       116930.0  "
      ],
      "text/html": "<div>\n<style scoped>\n    .dataframe tbody tr th:only-of-type {\n        vertical-align: middle;\n    }\n\n    .dataframe tbody tr th {\n        vertical-align: top;\n    }\n\n    .dataframe thead th {\n        text-align: right;\n    }\n</style>\n<table border=\"1\" class=\"dataframe\">\n  <thead>\n    <tr style=\"text-align: right;\">\n      <th></th>\n      <th>tweet_id</th>\n      <th>rating_numerator</th>\n      <th>rating_denominator</th>\n      <th>img_num</th>\n      <th>p1_conf</th>\n      <th>p1_dog</th>\n      <th>p2_conf</th>\n      <th>p2_dog</th>\n      <th>p3_conf</th>\n      <th>p3_dog</th>\n      <th>favorite_count</th>\n      <th>retweet_count</th>\n    </tr>\n    <tr>\n      <th>dog_stage</th>\n      <th></th>\n      <th></th>\n      <th></th>\n      <th></th>\n      <th></th>\n      <th></th>\n      <th></th>\n      <th></th>\n      <th></th>\n      <th></th>\n      <th></th>\n      <th></th>\n    </tr>\n  </thead>\n  <tbody>\n    <tr>\n      <th>doggo</th>\n      <td>4.240933e+19</td>\n      <td>631.0</td>\n      <td>530.0</td>\n      <td>68.0</td>\n      <td>30.344305</td>\n      <td>47.0</td>\n      <td>8.684343</td>\n      <td>48.0</td>\n      <td>3.249808</td>\n      <td>44.0</td>\n      <td>989852.0</td>\n      <td>334869.0</td>\n    </tr>\n    <tr>\n      <th>doggo, pupper</th>\n      <td>7.122415e+18</td>\n      <td>102.0</td>\n      <td>90.0</td>\n      <td>10.0</td>\n      <td>6.302706</td>\n      <td>9.0</td>\n      <td>1.015716</td>\n      <td>8.0</td>\n      <td>0.461305</td>\n      <td>7.0</td>\n      <td>157751.0</td>\n      <td>49207.0</td>\n    </tr>\n    <tr>\n      <th>floofer</th>\n      <td>5.365860e+18</td>\n      <td>84.0</td>\n      <td>70.0</td>\n      <td>8.0</td>\n      <td>4.264427</td>\n      <td>7.0</td>\n      <td>1.087233</td>\n      <td>7.0</td>\n      <td>0.335976</td>\n      <td>6.0</td>\n      <td>82336.0</td>\n      <td>29490.0</td>\n    </tr>\n    <tr>\n      <th>pupper</th>\n      <td>1.197287e+20</td>\n      <td>1820.0</td>\n      <td>1660.0</td>\n      <td>215.0</td>\n      <td>105.165137</td>\n      <td>144.0</td>\n      <td>21.946712</td>\n      <td>147.0</td>\n      <td>9.151349</td>\n      <td>142.0</td>\n      <td>1140247.0</td>\n      <td>347899.0</td>\n    </tr>\n    <tr>\n      <th>puppo</th>\n      <td>1.701699e+19</td>\n      <td>251.0</td>\n      <td>210.0</td>\n      <td>31.0</td>\n      <td>15.158874</td>\n      <td>19.0</td>\n      <td>2.914830</td>\n      <td>20.0</td>\n      <td>0.924957</td>\n      <td>21.0</td>\n      <td>428588.0</td>\n      <td>116930.0</td>\n    </tr>\n  </tbody>\n</table>\n</div>"
     },
     "metadata": {},
     "execution_count": 77
    }
   ],
   "source": [
    "dog_stages"
   ]
  },
  {
   "cell_type": "code",
   "execution_count": 96,
   "metadata": {},
   "outputs": [
    {
     "output_type": "display_data",
     "data": {
      "text/plain": "<Figure size 360x360 with 1 Axes>",
      "image/svg+xml": "<?xml version=\"1.0\" encoding=\"utf-8\" standalone=\"no\"?>\r\n<!DOCTYPE svg PUBLIC \"-//W3C//DTD SVG 1.1//EN\"\r\n  \"http://www.w3.org/Graphics/SVG/1.1/DTD/svg11.dtd\">\r\n<!-- Created with matplotlib (https://matplotlib.org/) -->\r\n<svg height=\"351.984375pt\" version=\"1.1\" viewBox=\"0 0 352.703125 351.984375\" width=\"352.703125pt\" xmlns=\"http://www.w3.org/2000/svg\" xmlns:xlink=\"http://www.w3.org/1999/xlink\">\r\n <defs>\r\n  <style type=\"text/css\">\r\n*{stroke-linecap:butt;stroke-linejoin:round;}\r\n  </style>\r\n </defs>\r\n <g id=\"figure_1\">\r\n  <g id=\"patch_1\">\r\n   <path d=\"M 0 351.984375 \r\nL 352.703125 351.984375 \r\nL 352.703125 0 \r\nL 0 0 \r\nz\r\n\" style=\"fill:none;\"/>\r\n  </g>\r\n  <g id=\"axes_1\">\r\n   <g id=\"patch_2\">\r\n    <path d=\"M 30.103125 250.542187 \r\nL 345.503125 250.542187 \r\nL 345.503125 17.798437 \r\nL 30.103125 17.798437 \r\nz\r\n\" style=\"fill:#ffffff;\"/>\r\n   </g>\r\n   <g id=\"patch_3\">\r\n    <path clip-path=\"url(#p79f1c13040)\" d=\"M 45.873125 250.542187 \r\nL 77.413125 250.542187 \r\nL 77.413125 58.117826 \r\nL 45.873125 58.117826 \r\nz\r\n\" style=\"fill:#008000;\"/>\r\n   </g>\r\n   <g id=\"patch_4\">\r\n    <path clip-path=\"url(#p79f1c13040)\" d=\"M 108.953125 250.542187 \r\nL 140.493125 250.542187 \r\nL 140.493125 219.87585 \r\nL 108.953125 219.87585 \r\nz\r\n\" style=\"fill:#008000;\"/>\r\n   </g>\r\n   <g id=\"patch_5\">\r\n    <path clip-path=\"url(#p79f1c13040)\" d=\"M 172.033125 250.542187 \r\nL 203.573125 250.542187 \r\nL 203.573125 234.536308 \r\nL 172.033125 234.536308 \r\nz\r\n\" style=\"fill:#008000;\"/>\r\n   </g>\r\n   <g id=\"patch_6\">\r\n    <path clip-path=\"url(#p79f1c13040)\" d=\"M 235.113125 250.542187 \r\nL 266.653125 250.542187 \r\nL 266.653125 28.881473 \r\nL 235.113125 28.881473 \r\nz\r\n\" style=\"fill:#008000;\"/>\r\n   </g>\r\n   <g id=\"patch_7\">\r\n    <path clip-path=\"url(#p79f1c13040)\" d=\"M 298.193125 250.542187 \r\nL 329.733125 250.542187 \r\nL 329.733125 167.225922 \r\nL 298.193125 167.225922 \r\nz\r\n\" style=\"fill:#008000;\"/>\r\n   </g>\r\n   <g id=\"matplotlib.axis_1\">\r\n    <g id=\"xtick_1\">\r\n     <g id=\"line2d_1\">\r\n      <defs>\r\n       <path d=\"M 0 0 \r\nL 0 3.5 \r\n\" id=\"m9afdeadb55\" style=\"stroke:#000000;stroke-width:0.8;\"/>\r\n      </defs>\r\n      <g>\r\n       <use style=\"stroke:#000000;stroke-width:0.8;\" x=\"61.643125\" xlink:href=\"#m9afdeadb55\" y=\"250.542187\"/>\r\n      </g>\r\n     </g>\r\n     <g id=\"text_1\">\r\n      <!-- doggo -->\r\n      <defs>\r\n       <path d=\"M 45.40625 46.390625 \r\nL 45.40625 75.984375 \r\nL 54.390625 75.984375 \r\nL 54.390625 0 \r\nL 45.40625 0 \r\nL 45.40625 8.203125 \r\nQ 42.578125 3.328125 38.25 0.953125 \r\nQ 33.9375 -1.421875 27.875 -1.421875 \r\nQ 17.96875 -1.421875 11.734375 6.484375 \r\nQ 5.515625 14.40625 5.515625 27.296875 \r\nQ 5.515625 40.1875 11.734375 48.09375 \r\nQ 17.96875 56 27.875 56 \r\nQ 33.9375 56 38.25 53.625 \r\nQ 42.578125 51.265625 45.40625 46.390625 \r\nz\r\nM 14.796875 27.296875 \r\nQ 14.796875 17.390625 18.875 11.75 \r\nQ 22.953125 6.109375 30.078125 6.109375 \r\nQ 37.203125 6.109375 41.296875 11.75 \r\nQ 45.40625 17.390625 45.40625 27.296875 \r\nQ 45.40625 37.203125 41.296875 42.84375 \r\nQ 37.203125 48.484375 30.078125 48.484375 \r\nQ 22.953125 48.484375 18.875 42.84375 \r\nQ 14.796875 37.203125 14.796875 27.296875 \r\nz\r\n\" id=\"DejaVuSans-100\"/>\r\n       <path d=\"M 30.609375 48.390625 \r\nQ 23.390625 48.390625 19.1875 42.75 \r\nQ 14.984375 37.109375 14.984375 27.296875 \r\nQ 14.984375 17.484375 19.15625 11.84375 \r\nQ 23.34375 6.203125 30.609375 6.203125 \r\nQ 37.796875 6.203125 41.984375 11.859375 \r\nQ 46.1875 17.53125 46.1875 27.296875 \r\nQ 46.1875 37.015625 41.984375 42.703125 \r\nQ 37.796875 48.390625 30.609375 48.390625 \r\nz\r\nM 30.609375 56 \r\nQ 42.328125 56 49.015625 48.375 \r\nQ 55.71875 40.765625 55.71875 27.296875 \r\nQ 55.71875 13.875 49.015625 6.21875 \r\nQ 42.328125 -1.421875 30.609375 -1.421875 \r\nQ 18.84375 -1.421875 12.171875 6.21875 \r\nQ 5.515625 13.875 5.515625 27.296875 \r\nQ 5.515625 40.765625 12.171875 48.375 \r\nQ 18.84375 56 30.609375 56 \r\nz\r\n\" id=\"DejaVuSans-111\"/>\r\n       <path d=\"M 45.40625 27.984375 \r\nQ 45.40625 37.75 41.375 43.109375 \r\nQ 37.359375 48.484375 30.078125 48.484375 \r\nQ 22.859375 48.484375 18.828125 43.109375 \r\nQ 14.796875 37.75 14.796875 27.984375 \r\nQ 14.796875 18.265625 18.828125 12.890625 \r\nQ 22.859375 7.515625 30.078125 7.515625 \r\nQ 37.359375 7.515625 41.375 12.890625 \r\nQ 45.40625 18.265625 45.40625 27.984375 \r\nz\r\nM 54.390625 6.78125 \r\nQ 54.390625 -7.171875 48.1875 -13.984375 \r\nQ 42 -20.796875 29.203125 -20.796875 \r\nQ 24.46875 -20.796875 20.265625 -20.09375 \r\nQ 16.0625 -19.390625 12.109375 -17.921875 \r\nL 12.109375 -9.1875 \r\nQ 16.0625 -11.328125 19.921875 -12.34375 \r\nQ 23.78125 -13.375 27.78125 -13.375 \r\nQ 36.625 -13.375 41.015625 -8.765625 \r\nQ 45.40625 -4.15625 45.40625 5.171875 \r\nL 45.40625 9.625 \r\nQ 42.625 4.78125 38.28125 2.390625 \r\nQ 33.9375 0 27.875 0 \r\nQ 17.828125 0 11.671875 7.65625 \r\nQ 5.515625 15.328125 5.515625 27.984375 \r\nQ 5.515625 40.671875 11.671875 48.328125 \r\nQ 17.828125 56 27.875 56 \r\nQ 33.9375 56 38.28125 53.609375 \r\nQ 42.625 51.21875 45.40625 46.390625 \r\nL 45.40625 54.6875 \r\nL 54.390625 54.6875 \r\nz\r\n\" id=\"DejaVuSans-103\"/>\r\n      </defs>\r\n      <g transform=\"translate(64.4025 288.825)rotate(-90)scale(0.1 -0.1)\">\r\n       <use xlink:href=\"#DejaVuSans-100\"/>\r\n       <use x=\"63.476562\" xlink:href=\"#DejaVuSans-111\"/>\r\n       <use x=\"124.658203\" xlink:href=\"#DejaVuSans-103\"/>\r\n       <use x=\"188.134766\" xlink:href=\"#DejaVuSans-103\"/>\r\n       <use x=\"251.611328\" xlink:href=\"#DejaVuSans-111\"/>\r\n      </g>\r\n     </g>\r\n    </g>\r\n    <g id=\"xtick_2\">\r\n     <g id=\"line2d_2\">\r\n      <g>\r\n       <use style=\"stroke:#000000;stroke-width:0.8;\" x=\"124.723125\" xlink:href=\"#m9afdeadb55\" y=\"250.542187\"/>\r\n      </g>\r\n     </g>\r\n     <g id=\"text_2\">\r\n      <!-- doggo, pupper -->\r\n      <defs>\r\n       <path d=\"M 11.71875 12.40625 \r\nL 22.015625 12.40625 \r\nL 22.015625 4 \r\nL 14.015625 -11.625 \r\nL 7.71875 -11.625 \r\nL 11.71875 4 \r\nz\r\n\" id=\"DejaVuSans-44\"/>\r\n       <path id=\"DejaVuSans-32\"/>\r\n       <path d=\"M 18.109375 8.203125 \r\nL 18.109375 -20.796875 \r\nL 9.078125 -20.796875 \r\nL 9.078125 54.6875 \r\nL 18.109375 54.6875 \r\nL 18.109375 46.390625 \r\nQ 20.953125 51.265625 25.265625 53.625 \r\nQ 29.59375 56 35.59375 56 \r\nQ 45.5625 56 51.78125 48.09375 \r\nQ 58.015625 40.1875 58.015625 27.296875 \r\nQ 58.015625 14.40625 51.78125 6.484375 \r\nQ 45.5625 -1.421875 35.59375 -1.421875 \r\nQ 29.59375 -1.421875 25.265625 0.953125 \r\nQ 20.953125 3.328125 18.109375 8.203125 \r\nz\r\nM 48.6875 27.296875 \r\nQ 48.6875 37.203125 44.609375 42.84375 \r\nQ 40.53125 48.484375 33.40625 48.484375 \r\nQ 26.265625 48.484375 22.1875 42.84375 \r\nQ 18.109375 37.203125 18.109375 27.296875 \r\nQ 18.109375 17.390625 22.1875 11.75 \r\nQ 26.265625 6.109375 33.40625 6.109375 \r\nQ 40.53125 6.109375 44.609375 11.75 \r\nQ 48.6875 17.390625 48.6875 27.296875 \r\nz\r\n\" id=\"DejaVuSans-112\"/>\r\n       <path d=\"M 8.5 21.578125 \r\nL 8.5 54.6875 \r\nL 17.484375 54.6875 \r\nL 17.484375 21.921875 \r\nQ 17.484375 14.15625 20.5 10.265625 \r\nQ 23.53125 6.390625 29.59375 6.390625 \r\nQ 36.859375 6.390625 41.078125 11.03125 \r\nQ 45.3125 15.671875 45.3125 23.6875 \r\nL 45.3125 54.6875 \r\nL 54.296875 54.6875 \r\nL 54.296875 0 \r\nL 45.3125 0 \r\nL 45.3125 8.40625 \r\nQ 42.046875 3.421875 37.71875 1 \r\nQ 33.40625 -1.421875 27.6875 -1.421875 \r\nQ 18.265625 -1.421875 13.375 4.4375 \r\nQ 8.5 10.296875 8.5 21.578125 \r\nz\r\nM 31.109375 56 \r\nz\r\n\" id=\"DejaVuSans-117\"/>\r\n       <path d=\"M 56.203125 29.59375 \r\nL 56.203125 25.203125 \r\nL 14.890625 25.203125 \r\nQ 15.484375 15.921875 20.484375 11.0625 \r\nQ 25.484375 6.203125 34.421875 6.203125 \r\nQ 39.59375 6.203125 44.453125 7.46875 \r\nQ 49.3125 8.734375 54.109375 11.28125 \r\nL 54.109375 2.78125 \r\nQ 49.265625 0.734375 44.1875 -0.34375 \r\nQ 39.109375 -1.421875 33.890625 -1.421875 \r\nQ 20.796875 -1.421875 13.15625 6.1875 \r\nQ 5.515625 13.8125 5.515625 26.8125 \r\nQ 5.515625 40.234375 12.765625 48.109375 \r\nQ 20.015625 56 32.328125 56 \r\nQ 43.359375 56 49.78125 48.890625 \r\nQ 56.203125 41.796875 56.203125 29.59375 \r\nz\r\nM 47.21875 32.234375 \r\nQ 47.125 39.59375 43.09375 43.984375 \r\nQ 39.0625 48.390625 32.421875 48.390625 \r\nQ 24.90625 48.390625 20.390625 44.140625 \r\nQ 15.875 39.890625 15.1875 32.171875 \r\nz\r\n\" id=\"DejaVuSans-101\"/>\r\n       <path d=\"M 41.109375 46.296875 \r\nQ 39.59375 47.171875 37.8125 47.578125 \r\nQ 36.03125 48 33.890625 48 \r\nQ 26.265625 48 22.1875 43.046875 \r\nQ 18.109375 38.09375 18.109375 28.8125 \r\nL 18.109375 0 \r\nL 9.078125 0 \r\nL 9.078125 54.6875 \r\nL 18.109375 54.6875 \r\nL 18.109375 46.1875 \r\nQ 20.953125 51.171875 25.484375 53.578125 \r\nQ 30.03125 56 36.53125 56 \r\nQ 37.453125 56 38.578125 55.875 \r\nQ 39.703125 55.765625 41.0625 55.515625 \r\nz\r\n\" id=\"DejaVuSans-114\"/>\r\n      </defs>\r\n      <g transform=\"translate(127.4825 330.828125)rotate(-90)scale(0.1 -0.1)\">\r\n       <use xlink:href=\"#DejaVuSans-100\"/>\r\n       <use x=\"63.476562\" xlink:href=\"#DejaVuSans-111\"/>\r\n       <use x=\"124.658203\" xlink:href=\"#DejaVuSans-103\"/>\r\n       <use x=\"188.134766\" xlink:href=\"#DejaVuSans-103\"/>\r\n       <use x=\"251.611328\" xlink:href=\"#DejaVuSans-111\"/>\r\n       <use x=\"312.792969\" xlink:href=\"#DejaVuSans-44\"/>\r\n       <use x=\"344.580078\" xlink:href=\"#DejaVuSans-32\"/>\r\n       <use x=\"376.367188\" xlink:href=\"#DejaVuSans-112\"/>\r\n       <use x=\"439.84375\" xlink:href=\"#DejaVuSans-117\"/>\r\n       <use x=\"503.222656\" xlink:href=\"#DejaVuSans-112\"/>\r\n       <use x=\"566.699219\" xlink:href=\"#DejaVuSans-112\"/>\r\n       <use x=\"630.175781\" xlink:href=\"#DejaVuSans-101\"/>\r\n       <use x=\"691.699219\" xlink:href=\"#DejaVuSans-114\"/>\r\n      </g>\r\n     </g>\r\n    </g>\r\n    <g id=\"xtick_3\">\r\n     <g id=\"line2d_3\">\r\n      <g>\r\n       <use style=\"stroke:#000000;stroke-width:0.8;\" x=\"187.803125\" xlink:href=\"#m9afdeadb55\" y=\"250.542187\"/>\r\n      </g>\r\n     </g>\r\n     <g id=\"text_3\">\r\n      <!-- floofer -->\r\n      <defs>\r\n       <path d=\"M 37.109375 75.984375 \r\nL 37.109375 68.5 \r\nL 28.515625 68.5 \r\nQ 23.6875 68.5 21.796875 66.546875 \r\nQ 19.921875 64.59375 19.921875 59.515625 \r\nL 19.921875 54.6875 \r\nL 34.71875 54.6875 \r\nL 34.71875 47.703125 \r\nL 19.921875 47.703125 \r\nL 19.921875 0 \r\nL 10.890625 0 \r\nL 10.890625 47.703125 \r\nL 2.296875 47.703125 \r\nL 2.296875 54.6875 \r\nL 10.890625 54.6875 \r\nL 10.890625 58.5 \r\nQ 10.890625 67.625 15.140625 71.796875 \r\nQ 19.390625 75.984375 28.609375 75.984375 \r\nz\r\n\" id=\"DejaVuSans-102\"/>\r\n       <path d=\"M 9.421875 75.984375 \r\nL 18.40625 75.984375 \r\nL 18.40625 0 \r\nL 9.421875 0 \r\nz\r\n\" id=\"DejaVuSans-108\"/>\r\n      </defs>\r\n      <g transform=\"translate(190.5625 289.8625)rotate(-90)scale(0.1 -0.1)\">\r\n       <use xlink:href=\"#DejaVuSans-102\"/>\r\n       <use x=\"35.205078\" xlink:href=\"#DejaVuSans-108\"/>\r\n       <use x=\"62.988281\" xlink:href=\"#DejaVuSans-111\"/>\r\n       <use x=\"124.169922\" xlink:href=\"#DejaVuSans-111\"/>\r\n       <use x=\"185.351562\" xlink:href=\"#DejaVuSans-102\"/>\r\n       <use x=\"220.556641\" xlink:href=\"#DejaVuSans-101\"/>\r\n       <use x=\"282.080078\" xlink:href=\"#DejaVuSans-114\"/>\r\n      </g>\r\n     </g>\r\n    </g>\r\n    <g id=\"xtick_4\">\r\n     <g id=\"line2d_4\">\r\n      <g>\r\n       <use style=\"stroke:#000000;stroke-width:0.8;\" x=\"250.883125\" xlink:href=\"#m9afdeadb55\" y=\"250.542187\"/>\r\n      </g>\r\n     </g>\r\n     <g id=\"text_4\">\r\n      <!-- pupper -->\r\n      <g transform=\"translate(253.6425 293.189062)rotate(-90)scale(0.1 -0.1)\">\r\n       <use xlink:href=\"#DejaVuSans-112\"/>\r\n       <use x=\"63.476562\" xlink:href=\"#DejaVuSans-117\"/>\r\n       <use x=\"126.855469\" xlink:href=\"#DejaVuSans-112\"/>\r\n       <use x=\"190.332031\" xlink:href=\"#DejaVuSans-112\"/>\r\n       <use x=\"253.808594\" xlink:href=\"#DejaVuSans-101\"/>\r\n       <use x=\"315.332031\" xlink:href=\"#DejaVuSans-114\"/>\r\n      </g>\r\n     </g>\r\n    </g>\r\n    <g id=\"xtick_5\">\r\n     <g id=\"line2d_5\">\r\n      <g>\r\n       <use style=\"stroke:#000000;stroke-width:0.8;\" x=\"313.963125\" xlink:href=\"#m9afdeadb55\" y=\"250.542187\"/>\r\n      </g>\r\n     </g>\r\n     <g id=\"text_5\">\r\n      <!-- puppo -->\r\n      <g transform=\"translate(316.7225 289.04375)rotate(-90)scale(0.1 -0.1)\">\r\n       <use xlink:href=\"#DejaVuSans-112\"/>\r\n       <use x=\"63.476562\" xlink:href=\"#DejaVuSans-117\"/>\r\n       <use x=\"126.855469\" xlink:href=\"#DejaVuSans-112\"/>\r\n       <use x=\"190.332031\" xlink:href=\"#DejaVuSans-112\"/>\r\n       <use x=\"253.808594\" xlink:href=\"#DejaVuSans-111\"/>\r\n      </g>\r\n     </g>\r\n    </g>\r\n    <g id=\"text_6\">\r\n     <!-- dog_stage -->\r\n     <defs>\r\n      <path d=\"M 50.984375 -16.609375 \r\nL 50.984375 -23.578125 \r\nL -0.984375 -23.578125 \r\nL -0.984375 -16.609375 \r\nz\r\n\" id=\"DejaVuSans-95\"/>\r\n      <path d=\"M 44.28125 53.078125 \r\nL 44.28125 44.578125 \r\nQ 40.484375 46.53125 36.375 47.5 \r\nQ 32.28125 48.484375 27.875 48.484375 \r\nQ 21.1875 48.484375 17.84375 46.4375 \r\nQ 14.5 44.390625 14.5 40.28125 \r\nQ 14.5 37.15625 16.890625 35.375 \r\nQ 19.28125 33.59375 26.515625 31.984375 \r\nL 29.59375 31.296875 \r\nQ 39.15625 29.25 43.1875 25.515625 \r\nQ 47.21875 21.78125 47.21875 15.09375 \r\nQ 47.21875 7.46875 41.1875 3.015625 \r\nQ 35.15625 -1.421875 24.609375 -1.421875 \r\nQ 20.21875 -1.421875 15.453125 -0.5625 \r\nQ 10.6875 0.296875 5.421875 2 \r\nL 5.421875 11.28125 \r\nQ 10.40625 8.6875 15.234375 7.390625 \r\nQ 20.0625 6.109375 24.8125 6.109375 \r\nQ 31.15625 6.109375 34.5625 8.28125 \r\nQ 37.984375 10.453125 37.984375 14.40625 \r\nQ 37.984375 18.0625 35.515625 20.015625 \r\nQ 33.0625 21.96875 24.703125 23.78125 \r\nL 21.578125 24.515625 \r\nQ 13.234375 26.265625 9.515625 29.90625 \r\nQ 5.8125 33.546875 5.8125 39.890625 \r\nQ 5.8125 47.609375 11.28125 51.796875 \r\nQ 16.75 56 26.8125 56 \r\nQ 31.78125 56 36.171875 55.265625 \r\nQ 40.578125 54.546875 44.28125 53.078125 \r\nz\r\n\" id=\"DejaVuSans-115\"/>\r\n      <path d=\"M 18.3125 70.21875 \r\nL 18.3125 54.6875 \r\nL 36.8125 54.6875 \r\nL 36.8125 47.703125 \r\nL 18.3125 47.703125 \r\nL 18.3125 18.015625 \r\nQ 18.3125 11.328125 20.140625 9.421875 \r\nQ 21.96875 7.515625 27.59375 7.515625 \r\nL 36.8125 7.515625 \r\nL 36.8125 0 \r\nL 27.59375 0 \r\nQ 17.1875 0 13.234375 3.875 \r\nQ 9.28125 7.765625 9.28125 18.015625 \r\nL 9.28125 47.703125 \r\nL 2.6875 47.703125 \r\nL 2.6875 54.6875 \r\nL 9.28125 54.6875 \r\nL 9.28125 70.21875 \r\nz\r\n\" id=\"DejaVuSans-116\"/>\r\n      <path d=\"M 34.28125 27.484375 \r\nQ 23.390625 27.484375 19.1875 25 \r\nQ 14.984375 22.515625 14.984375 16.5 \r\nQ 14.984375 11.71875 18.140625 8.90625 \r\nQ 21.296875 6.109375 26.703125 6.109375 \r\nQ 34.1875 6.109375 38.703125 11.40625 \r\nQ 43.21875 16.703125 43.21875 25.484375 \r\nL 43.21875 27.484375 \r\nz\r\nM 52.203125 31.203125 \r\nL 52.203125 0 \r\nL 43.21875 0 \r\nL 43.21875 8.296875 \r\nQ 40.140625 3.328125 35.546875 0.953125 \r\nQ 30.953125 -1.421875 24.3125 -1.421875 \r\nQ 15.921875 -1.421875 10.953125 3.296875 \r\nQ 6 8.015625 6 15.921875 \r\nQ 6 25.140625 12.171875 29.828125 \r\nQ 18.359375 34.515625 30.609375 34.515625 \r\nL 43.21875 34.515625 \r\nL 43.21875 35.40625 \r\nQ 43.21875 41.609375 39.140625 45 \r\nQ 35.0625 48.390625 27.6875 48.390625 \r\nQ 23 48.390625 18.546875 47.265625 \r\nQ 14.109375 46.140625 10.015625 43.890625 \r\nL 10.015625 52.203125 \r\nQ 14.9375 54.109375 19.578125 55.046875 \r\nQ 24.21875 56 28.609375 56 \r\nQ 40.484375 56 46.34375 49.84375 \r\nQ 52.203125 43.703125 52.203125 31.203125 \r\nz\r\n\" id=\"DejaVuSans-97\"/>\r\n     </defs>\r\n     <g transform=\"translate(162.015625 342.426562)scale(0.1 -0.1)\">\r\n      <use xlink:href=\"#DejaVuSans-100\"/>\r\n      <use x=\"63.476562\" xlink:href=\"#DejaVuSans-111\"/>\r\n      <use x=\"124.658203\" xlink:href=\"#DejaVuSans-103\"/>\r\n      <use x=\"188.134766\" xlink:href=\"#DejaVuSans-95\"/>\r\n      <use x=\"238.134766\" xlink:href=\"#DejaVuSans-115\"/>\r\n      <use x=\"290.234375\" xlink:href=\"#DejaVuSans-116\"/>\r\n      <use x=\"329.443359\" xlink:href=\"#DejaVuSans-97\"/>\r\n      <use x=\"390.722656\" xlink:href=\"#DejaVuSans-103\"/>\r\n      <use x=\"454.199219\" xlink:href=\"#DejaVuSans-101\"/>\r\n     </g>\r\n    </g>\r\n   </g>\r\n   <g id=\"matplotlib.axis_2\">\r\n    <g id=\"ytick_1\">\r\n     <g id=\"line2d_6\">\r\n      <defs>\r\n       <path d=\"M 0 0 \r\nL -3.5 0 \r\n\" id=\"m7b1bd97acc\" style=\"stroke:#000000;stroke-width:0.8;\"/>\r\n      </defs>\r\n      <g>\r\n       <use style=\"stroke:#000000;stroke-width:0.8;\" x=\"30.103125\" xlink:href=\"#m7b1bd97acc\" y=\"250.542187\"/>\r\n      </g>\r\n     </g>\r\n     <g id=\"text_7\">\r\n      <!-- 0.0 -->\r\n      <defs>\r\n       <path d=\"M 31.78125 66.40625 \r\nQ 24.171875 66.40625 20.328125 58.90625 \r\nQ 16.5 51.421875 16.5 36.375 \r\nQ 16.5 21.390625 20.328125 13.890625 \r\nQ 24.171875 6.390625 31.78125 6.390625 \r\nQ 39.453125 6.390625 43.28125 13.890625 \r\nQ 47.125 21.390625 47.125 36.375 \r\nQ 47.125 51.421875 43.28125 58.90625 \r\nQ 39.453125 66.40625 31.78125 66.40625 \r\nz\r\nM 31.78125 74.21875 \r\nQ 44.046875 74.21875 50.515625 64.515625 \r\nQ 56.984375 54.828125 56.984375 36.375 \r\nQ 56.984375 17.96875 50.515625 8.265625 \r\nQ 44.046875 -1.421875 31.78125 -1.421875 \r\nQ 19.53125 -1.421875 13.0625 8.265625 \r\nQ 6.59375 17.96875 6.59375 36.375 \r\nQ 6.59375 54.828125 13.0625 64.515625 \r\nQ 19.53125 74.21875 31.78125 74.21875 \r\nz\r\n\" id=\"DejaVuSans-48\"/>\r\n       <path d=\"M 10.6875 12.40625 \r\nL 21 12.40625 \r\nL 21 0 \r\nL 10.6875 0 \r\nz\r\n\" id=\"DejaVuSans-46\"/>\r\n      </defs>\r\n      <g transform=\"translate(7.2 254.341406)scale(0.1 -0.1)\">\r\n       <use xlink:href=\"#DejaVuSans-48\"/>\r\n       <use x=\"63.623047\" xlink:href=\"#DejaVuSans-46\"/>\r\n       <use x=\"95.410156\" xlink:href=\"#DejaVuSans-48\"/>\r\n      </g>\r\n     </g>\r\n    </g>\r\n    <g id=\"ytick_2\">\r\n     <g id=\"line2d_7\">\r\n      <g>\r\n       <use style=\"stroke:#000000;stroke-width:0.8;\" x=\"30.103125\" xlink:href=\"#m7b1bd97acc\" y=\"211.662767\"/>\r\n      </g>\r\n     </g>\r\n     <g id=\"text_8\">\r\n      <!-- 0.2 -->\r\n      <defs>\r\n       <path d=\"M 19.1875 8.296875 \r\nL 53.609375 8.296875 \r\nL 53.609375 0 \r\nL 7.328125 0 \r\nL 7.328125 8.296875 \r\nQ 12.9375 14.109375 22.625 23.890625 \r\nQ 32.328125 33.6875 34.8125 36.53125 \r\nQ 39.546875 41.84375 41.421875 45.53125 \r\nQ 43.3125 49.21875 43.3125 52.78125 \r\nQ 43.3125 58.59375 39.234375 62.25 \r\nQ 35.15625 65.921875 28.609375 65.921875 \r\nQ 23.96875 65.921875 18.8125 64.3125 \r\nQ 13.671875 62.703125 7.8125 59.421875 \r\nL 7.8125 69.390625 \r\nQ 13.765625 71.78125 18.9375 73 \r\nQ 24.125 74.21875 28.421875 74.21875 \r\nQ 39.75 74.21875 46.484375 68.546875 \r\nQ 53.21875 62.890625 53.21875 53.421875 \r\nQ 53.21875 48.921875 51.53125 44.890625 \r\nQ 49.859375 40.875 45.40625 35.40625 \r\nQ 44.1875 33.984375 37.640625 27.21875 \r\nQ 31.109375 20.453125 19.1875 8.296875 \r\nz\r\n\" id=\"DejaVuSans-50\"/>\r\n      </defs>\r\n      <g transform=\"translate(7.2 215.461986)scale(0.1 -0.1)\">\r\n       <use xlink:href=\"#DejaVuSans-48\"/>\r\n       <use x=\"63.623047\" xlink:href=\"#DejaVuSans-46\"/>\r\n       <use x=\"95.410156\" xlink:href=\"#DejaVuSans-50\"/>\r\n      </g>\r\n     </g>\r\n    </g>\r\n    <g id=\"ytick_3\">\r\n     <g id=\"line2d_8\">\r\n      <g>\r\n       <use style=\"stroke:#000000;stroke-width:0.8;\" x=\"30.103125\" xlink:href=\"#m7b1bd97acc\" y=\"172.783346\"/>\r\n      </g>\r\n     </g>\r\n     <g id=\"text_9\">\r\n      <!-- 0.4 -->\r\n      <defs>\r\n       <path d=\"M 37.796875 64.3125 \r\nL 12.890625 25.390625 \r\nL 37.796875 25.390625 \r\nz\r\nM 35.203125 72.90625 \r\nL 47.609375 72.90625 \r\nL 47.609375 25.390625 \r\nL 58.015625 25.390625 \r\nL 58.015625 17.1875 \r\nL 47.609375 17.1875 \r\nL 47.609375 0 \r\nL 37.796875 0 \r\nL 37.796875 17.1875 \r\nL 4.890625 17.1875 \r\nL 4.890625 26.703125 \r\nz\r\n\" id=\"DejaVuSans-52\"/>\r\n      </defs>\r\n      <g transform=\"translate(7.2 176.582565)scale(0.1 -0.1)\">\r\n       <use xlink:href=\"#DejaVuSans-48\"/>\r\n       <use x=\"63.623047\" xlink:href=\"#DejaVuSans-46\"/>\r\n       <use x=\"95.410156\" xlink:href=\"#DejaVuSans-52\"/>\r\n      </g>\r\n     </g>\r\n    </g>\r\n    <g id=\"ytick_4\">\r\n     <g id=\"line2d_9\">\r\n      <g>\r\n       <use style=\"stroke:#000000;stroke-width:0.8;\" x=\"30.103125\" xlink:href=\"#m7b1bd97acc\" y=\"133.903925\"/>\r\n      </g>\r\n     </g>\r\n     <g id=\"text_10\">\r\n      <!-- 0.6 -->\r\n      <defs>\r\n       <path d=\"M 33.015625 40.375 \r\nQ 26.375 40.375 22.484375 35.828125 \r\nQ 18.609375 31.296875 18.609375 23.390625 \r\nQ 18.609375 15.53125 22.484375 10.953125 \r\nQ 26.375 6.390625 33.015625 6.390625 \r\nQ 39.65625 6.390625 43.53125 10.953125 \r\nQ 47.40625 15.53125 47.40625 23.390625 \r\nQ 47.40625 31.296875 43.53125 35.828125 \r\nQ 39.65625 40.375 33.015625 40.375 \r\nz\r\nM 52.59375 71.296875 \r\nL 52.59375 62.3125 \r\nQ 48.875 64.0625 45.09375 64.984375 \r\nQ 41.3125 65.921875 37.59375 65.921875 \r\nQ 27.828125 65.921875 22.671875 59.328125 \r\nQ 17.53125 52.734375 16.796875 39.40625 \r\nQ 19.671875 43.65625 24.015625 45.921875 \r\nQ 28.375 48.1875 33.59375 48.1875 \r\nQ 44.578125 48.1875 50.953125 41.515625 \r\nQ 57.328125 34.859375 57.328125 23.390625 \r\nQ 57.328125 12.15625 50.6875 5.359375 \r\nQ 44.046875 -1.421875 33.015625 -1.421875 \r\nQ 20.359375 -1.421875 13.671875 8.265625 \r\nQ 6.984375 17.96875 6.984375 36.375 \r\nQ 6.984375 53.65625 15.1875 63.9375 \r\nQ 23.390625 74.21875 37.203125 74.21875 \r\nQ 40.921875 74.21875 44.703125 73.484375 \r\nQ 48.484375 72.75 52.59375 71.296875 \r\nz\r\n\" id=\"DejaVuSans-54\"/>\r\n      </defs>\r\n      <g transform=\"translate(7.2 137.703144)scale(0.1 -0.1)\">\r\n       <use xlink:href=\"#DejaVuSans-48\"/>\r\n       <use x=\"63.623047\" xlink:href=\"#DejaVuSans-46\"/>\r\n       <use x=\"95.410156\" xlink:href=\"#DejaVuSans-54\"/>\r\n      </g>\r\n     </g>\r\n    </g>\r\n    <g id=\"ytick_5\">\r\n     <g id=\"line2d_10\">\r\n      <g>\r\n       <use style=\"stroke:#000000;stroke-width:0.8;\" x=\"30.103125\" xlink:href=\"#m7b1bd97acc\" y=\"95.024505\"/>\r\n      </g>\r\n     </g>\r\n     <g id=\"text_11\">\r\n      <!-- 0.8 -->\r\n      <defs>\r\n       <path d=\"M 31.78125 34.625 \r\nQ 24.75 34.625 20.71875 30.859375 \r\nQ 16.703125 27.09375 16.703125 20.515625 \r\nQ 16.703125 13.921875 20.71875 10.15625 \r\nQ 24.75 6.390625 31.78125 6.390625 \r\nQ 38.8125 6.390625 42.859375 10.171875 \r\nQ 46.921875 13.96875 46.921875 20.515625 \r\nQ 46.921875 27.09375 42.890625 30.859375 \r\nQ 38.875 34.625 31.78125 34.625 \r\nz\r\nM 21.921875 38.8125 \r\nQ 15.578125 40.375 12.03125 44.71875 \r\nQ 8.5 49.078125 8.5 55.328125 \r\nQ 8.5 64.0625 14.71875 69.140625 \r\nQ 20.953125 74.21875 31.78125 74.21875 \r\nQ 42.671875 74.21875 48.875 69.140625 \r\nQ 55.078125 64.0625 55.078125 55.328125 \r\nQ 55.078125 49.078125 51.53125 44.71875 \r\nQ 48 40.375 41.703125 38.8125 \r\nQ 48.828125 37.15625 52.796875 32.3125 \r\nQ 56.78125 27.484375 56.78125 20.515625 \r\nQ 56.78125 9.90625 50.3125 4.234375 \r\nQ 43.84375 -1.421875 31.78125 -1.421875 \r\nQ 19.734375 -1.421875 13.25 4.234375 \r\nQ 6.78125 9.90625 6.78125 20.515625 \r\nQ 6.78125 27.484375 10.78125 32.3125 \r\nQ 14.796875 37.15625 21.921875 38.8125 \r\nz\r\nM 18.3125 54.390625 \r\nQ 18.3125 48.734375 21.84375 45.5625 \r\nQ 25.390625 42.390625 31.78125 42.390625 \r\nQ 38.140625 42.390625 41.71875 45.5625 \r\nQ 45.3125 48.734375 45.3125 54.390625 \r\nQ 45.3125 60.0625 41.71875 63.234375 \r\nQ 38.140625 66.40625 31.78125 66.40625 \r\nQ 25.390625 66.40625 21.84375 63.234375 \r\nQ 18.3125 60.0625 18.3125 54.390625 \r\nz\r\n\" id=\"DejaVuSans-56\"/>\r\n      </defs>\r\n      <g transform=\"translate(7.2 98.823723)scale(0.1 -0.1)\">\r\n       <use xlink:href=\"#DejaVuSans-48\"/>\r\n       <use x=\"63.623047\" xlink:href=\"#DejaVuSans-46\"/>\r\n       <use x=\"95.410156\" xlink:href=\"#DejaVuSans-56\"/>\r\n      </g>\r\n     </g>\r\n    </g>\r\n    <g id=\"ytick_6\">\r\n     <g id=\"line2d_11\">\r\n      <g>\r\n       <use style=\"stroke:#000000;stroke-width:0.8;\" x=\"30.103125\" xlink:href=\"#m7b1bd97acc\" y=\"56.145084\"/>\r\n      </g>\r\n     </g>\r\n     <g id=\"text_12\">\r\n      <!-- 1.0 -->\r\n      <defs>\r\n       <path d=\"M 12.40625 8.296875 \r\nL 28.515625 8.296875 \r\nL 28.515625 63.921875 \r\nL 10.984375 60.40625 \r\nL 10.984375 69.390625 \r\nL 28.421875 72.90625 \r\nL 38.28125 72.90625 \r\nL 38.28125 8.296875 \r\nL 54.390625 8.296875 \r\nL 54.390625 0 \r\nL 12.40625 0 \r\nz\r\n\" id=\"DejaVuSans-49\"/>\r\n      </defs>\r\n      <g transform=\"translate(7.2 59.944303)scale(0.1 -0.1)\">\r\n       <use xlink:href=\"#DejaVuSans-49\"/>\r\n       <use x=\"63.623047\" xlink:href=\"#DejaVuSans-46\"/>\r\n       <use x=\"95.410156\" xlink:href=\"#DejaVuSans-48\"/>\r\n      </g>\r\n     </g>\r\n    </g>\r\n    <g id=\"text_13\">\r\n     <!-- 1e6 -->\r\n     <g transform=\"translate(30.103125 14.798437)scale(0.1 -0.1)\">\r\n      <use xlink:href=\"#DejaVuSans-49\"/>\r\n      <use x=\"63.623047\" xlink:href=\"#DejaVuSans-101\"/>\r\n      <use x=\"125.146484\" xlink:href=\"#DejaVuSans-54\"/>\r\n     </g>\r\n    </g>\r\n   </g>\r\n   <g id=\"patch_8\">\r\n    <path d=\"M 30.103125 250.542187 \r\nL 30.103125 17.798437 \r\n\" style=\"fill:none;stroke:#000000;stroke-linecap:square;stroke-linejoin:miter;stroke-width:0.8;\"/>\r\n   </g>\r\n   <g id=\"patch_9\">\r\n    <path d=\"M 345.503125 250.542187 \r\nL 345.503125 17.798437 \r\n\" style=\"fill:none;stroke:#000000;stroke-linecap:square;stroke-linejoin:miter;stroke-width:0.8;\"/>\r\n   </g>\r\n   <g id=\"patch_10\">\r\n    <path d=\"M 30.103125 250.542187 \r\nL 345.503125 250.542187 \r\n\" style=\"fill:none;stroke:#000000;stroke-linecap:square;stroke-linejoin:miter;stroke-width:0.8;\"/>\r\n   </g>\r\n   <g id=\"patch_11\">\r\n    <path d=\"M 30.103125 17.798437 \r\nL 345.503125 17.798437 \r\n\" style=\"fill:none;stroke:#000000;stroke-linecap:square;stroke-linejoin:miter;stroke-width:0.8;\"/>\r\n   </g>\r\n   <g id=\"legend_1\">\r\n    <g id=\"patch_12\">\r\n     <path d=\"M 37.103125 40.754687 \r\nL 140.964063 40.754687 \r\nQ 142.964063 40.754687 142.964063 38.754687 \r\nL 142.964063 24.798437 \r\nQ 142.964063 22.798437 140.964063 22.798437 \r\nL 37.103125 22.798437 \r\nQ 35.103125 22.798437 35.103125 24.798437 \r\nL 35.103125 38.754687 \r\nQ 35.103125 40.754687 37.103125 40.754687 \r\nz\r\n\" style=\"fill:#ffffff;opacity:0.8;stroke:#cccccc;stroke-linejoin:miter;\"/>\r\n    </g>\r\n    <g id=\"patch_13\">\r\n     <path d=\"M 39.103125 34.396875 \r\nL 59.103125 34.396875 \r\nL 59.103125 27.396875 \r\nL 39.103125 27.396875 \r\nz\r\n\" style=\"fill:#008000;\"/>\r\n    </g>\r\n    <g id=\"text_14\">\r\n     <!-- favorite_count -->\r\n     <defs>\r\n      <path d=\"M 2.984375 54.6875 \r\nL 12.5 54.6875 \r\nL 29.59375 8.796875 \r\nL 46.6875 54.6875 \r\nL 56.203125 54.6875 \r\nL 35.6875 0 \r\nL 23.484375 0 \r\nz\r\n\" id=\"DejaVuSans-118\"/>\r\n      <path d=\"M 9.421875 54.6875 \r\nL 18.40625 54.6875 \r\nL 18.40625 0 \r\nL 9.421875 0 \r\nz\r\nM 9.421875 75.984375 \r\nL 18.40625 75.984375 \r\nL 18.40625 64.59375 \r\nL 9.421875 64.59375 \r\nz\r\n\" id=\"DejaVuSans-105\"/>\r\n      <path d=\"M 48.78125 52.59375 \r\nL 48.78125 44.1875 \r\nQ 44.96875 46.296875 41.140625 47.34375 \r\nQ 37.3125 48.390625 33.40625 48.390625 \r\nQ 24.65625 48.390625 19.8125 42.84375 \r\nQ 14.984375 37.3125 14.984375 27.296875 \r\nQ 14.984375 17.28125 19.8125 11.734375 \r\nQ 24.65625 6.203125 33.40625 6.203125 \r\nQ 37.3125 6.203125 41.140625 7.25 \r\nQ 44.96875 8.296875 48.78125 10.40625 \r\nL 48.78125 2.09375 \r\nQ 45.015625 0.34375 40.984375 -0.53125 \r\nQ 36.96875 -1.421875 32.421875 -1.421875 \r\nQ 20.0625 -1.421875 12.78125 6.34375 \r\nQ 5.515625 14.109375 5.515625 27.296875 \r\nQ 5.515625 40.671875 12.859375 48.328125 \r\nQ 20.21875 56 33.015625 56 \r\nQ 37.15625 56 41.109375 55.140625 \r\nQ 45.0625 54.296875 48.78125 52.59375 \r\nz\r\n\" id=\"DejaVuSans-99\"/>\r\n      <path d=\"M 54.890625 33.015625 \r\nL 54.890625 0 \r\nL 45.90625 0 \r\nL 45.90625 32.71875 \r\nQ 45.90625 40.484375 42.875 44.328125 \r\nQ 39.84375 48.1875 33.796875 48.1875 \r\nQ 26.515625 48.1875 22.3125 43.546875 \r\nQ 18.109375 38.921875 18.109375 30.90625 \r\nL 18.109375 0 \r\nL 9.078125 0 \r\nL 9.078125 54.6875 \r\nL 18.109375 54.6875 \r\nL 18.109375 46.1875 \r\nQ 21.34375 51.125 25.703125 53.5625 \r\nQ 30.078125 56 35.796875 56 \r\nQ 45.21875 56 50.046875 50.171875 \r\nQ 54.890625 44.34375 54.890625 33.015625 \r\nz\r\n\" id=\"DejaVuSans-110\"/>\r\n     </defs>\r\n     <g transform=\"translate(67.103125 34.396875)scale(0.1 -0.1)\">\r\n      <use xlink:href=\"#DejaVuSans-102\"/>\r\n      <use x=\"35.205078\" xlink:href=\"#DejaVuSans-97\"/>\r\n      <use x=\"96.484375\" xlink:href=\"#DejaVuSans-118\"/>\r\n      <use x=\"155.664062\" xlink:href=\"#DejaVuSans-111\"/>\r\n      <use x=\"216.845703\" xlink:href=\"#DejaVuSans-114\"/>\r\n      <use x=\"257.958984\" xlink:href=\"#DejaVuSans-105\"/>\r\n      <use x=\"285.742188\" xlink:href=\"#DejaVuSans-116\"/>\r\n      <use x=\"324.951172\" xlink:href=\"#DejaVuSans-101\"/>\r\n      <use x=\"386.474609\" xlink:href=\"#DejaVuSans-95\"/>\r\n      <use x=\"436.474609\" xlink:href=\"#DejaVuSans-99\"/>\r\n      <use x=\"491.455078\" xlink:href=\"#DejaVuSans-111\"/>\r\n      <use x=\"552.636719\" xlink:href=\"#DejaVuSans-117\"/>\r\n      <use x=\"616.015625\" xlink:href=\"#DejaVuSans-110\"/>\r\n      <use x=\"679.394531\" xlink:href=\"#DejaVuSans-116\"/>\r\n     </g>\r\n    </g>\r\n   </g>\r\n  </g>\r\n </g>\r\n <defs>\r\n  <clipPath id=\"p79f1c13040\">\r\n   <rect height=\"232.74375\" width=\"315.4\" x=\"30.103125\" y=\"17.798437\"/>\r\n  </clipPath>\r\n </defs>\r\n</svg>\r\n",
      "image/png": "[encoded data removed]"
     },
     "metadata": {
      "needs_background": "light"
     }
    }
   ],
   "source": [
    "insight1 = dog_stages.plot(y='favorite_count', kind='bar', color='g', figsize=(5,5))\n",
    "plt.tight_layout()"
   ]
  },
  {
   "cell_type": "code",
   "execution_count": 97,
   "metadata": {},
   "outputs": [],
   "source": [
    "insight1.figure.savefig('insight1.png')"
   ]
  },
  {
   "source": [
    "## Second Insight\n",
    "Tweets got more popular over time, with more recent tweets garnering a higher number of likes"
   ],
   "cell_type": "markdown",
   "metadata": {}
  },
  {
   "cell_type": "code",
   "execution_count": 80,
   "metadata": {},
   "outputs": [],
   "source": [
    "normalized_favorite_count = archive_df_clean[archive_df_clean['favorite_count'].between(archive_df_clean['favorite_count'].quantile(.15), archive_df_clean['favorite_count'].quantile(.80))]"
   ]
  },
  {
   "cell_type": "code",
   "execution_count": 98,
   "metadata": {},
   "outputs": [
    {
     "output_type": "display_data",
     "data": {
      "text/plain": "<Figure size 504x504 with 1 Axes>",
      "image/svg+xml": "<?xml version=\"1.0\" encoding=\"utf-8\" standalone=\"no\"?>\r\n<!DOCTYPE svg PUBLIC \"-//W3C//DTD SVG 1.1//EN\"\r\n  \"http://www.w3.org/Graphics/SVG/1.1/DTD/svg11.dtd\">\r\n<!-- Created with matplotlib (https://matplotlib.org/) -->\r\n<svg height=\"496.385937pt\" version=\"1.1\" viewBox=\"0 0 495.7875 496.385937\" width=\"495.7875pt\" xmlns=\"http://www.w3.org/2000/svg\" xmlns:xlink=\"http://www.w3.org/1999/xlink\">\r\n <defs>\r\n  <style type=\"text/css\">\r\n*{stroke-linecap:butt;stroke-linejoin:round;}\r\n  </style>\r\n </defs>\r\n <g id=\"figure_1\">\r\n  <g id=\"patch_1\">\r\n   <path d=\"M 0 496.385937 \r\nL 495.7875 496.385937 \r\nL 495.7875 0 \r\nL 0 0 \r\nz\r\n\" style=\"fill:none;\"/>\r\n  </g>\r\n  <g id=\"axes_1\">\r\n   <g id=\"patch_2\">\r\n    <path d=\"M 59.96875 426.725 \r\nL 488.5875 426.725 \r\nL 488.5875 7.2 \r\nL 59.96875 7.2 \r\nz\r\n\" style=\"fill:#ffffff;\"/>\r\n   </g>\r\n   <g id=\"PathCollection_1\">\r\n    <defs>\r\n     <path d=\"M 0 2.236068 \r\nC 0.593012 2.236068 1.161816 2.000462 1.581139 1.581139 \r\nC 2.000462 1.161816 2.236068 0.593012 2.236068 0 \r\nC 2.236068 -0.593012 2.000462 -1.161816 1.581139 -1.581139 \r\nC 1.161816 -2.000462 0.593012 -2.236068 0 -2.236068 \r\nC -0.593012 -2.236068 -1.161816 -2.000462 -1.581139 -1.581139 \r\nC -2.000462 -1.161816 -2.236068 -0.593012 -2.236068 0 \r\nC -2.236068 0.593012 -2.000462 1.161816 -1.581139 1.581139 \r\nC -1.161816 2.000462 -0.593012 2.236068 0 2.236068 \r\nz\r\n\" id=\"m1b36f98a7b\" style=\"stroke:#bfbf00;\"/>\r\n    </defs>\r\n    <g clip-path=\"url(#pe71c65898e)\">\r\n     <use style=\"fill:#bfbf00;stroke:#bfbf00;\" x=\"469.10483\" xlink:href=\"#m1b36f98a7b\" y=\"87.813889\"/>\r\n     <use style=\"fill:#bfbf00;stroke:#bfbf00;\" x=\"461.575295\" xlink:href=\"#m1b36f98a7b\" y=\"82.933558\"/>\r\n     <use style=\"fill:#bfbf00;stroke:#bfbf00;\" x=\"447.143687\" xlink:href=\"#m1b36f98a7b\" y=\"209.592873\"/>\r\n     <use style=\"fill:#bfbf00;stroke:#bfbf00;\" x=\"438.35923\" xlink:href=\"#m1b36f98a7b\" y=\"225.413005\"/>\r\n     <use style=\"fill:#bfbf00;stroke:#bfbf00;\" x=\"433.967002\" xlink:href=\"#m1b36f98a7b\" y=\"68.620106\"/>\r\n     <use style=\"fill:#bfbf00;stroke:#bfbf00;\" x=\"430.202235\" xlink:href=\"#m1b36f98a7b\" y=\"135.536315\"/>\r\n     <use style=\"fill:#bfbf00;stroke:#bfbf00;\" x=\"420.790317\" xlink:href=\"#m1b36f98a7b\" y=\"183.455265\"/>\r\n     <use style=\"fill:#bfbf00;stroke:#bfbf00;\" x=\"416.398088\" xlink:href=\"#m1b36f98a7b\" y=\"211.590861\"/>\r\n     <use style=\"fill:#bfbf00;stroke:#bfbf00;\" x=\"411.378399\" xlink:href=\"#m1b36f98a7b\" y=\"259.575319\"/>\r\n     <use style=\"fill:#bfbf00;stroke:#bfbf00;\" x=\"403.221403\" xlink:href=\"#m1b36f98a7b\" y=\"159.70869\"/>\r\n     <use style=\"fill:#bfbf00;stroke:#bfbf00;\" x=\"401.96648\" xlink:href=\"#m1b36f98a7b\" y=\"81.295863\"/>\r\n     <use style=\"fill:#bfbf00;stroke:#bfbf00;\" x=\"398.829174\" xlink:href=\"#m1b36f98a7b\" y=\"28.398321\"/>\r\n     <use style=\"fill:#bfbf00;stroke:#bfbf00;\" x=\"394.436946\" xlink:href=\"#m1b36f98a7b\" y=\"270.449612\"/>\r\n     <use style=\"fill:#bfbf00;stroke:#bfbf00;\" x=\"390.044718\" xlink:href=\"#m1b36f98a7b\" y=\"200.126998\"/>\r\n     <use style=\"fill:#bfbf00;stroke:#bfbf00;\" x=\"385.652489\" xlink:href=\"#m1b36f98a7b\" y=\"227.574762\"/>\r\n     <use style=\"fill:#bfbf00;stroke:#bfbf00;\" x=\"383.770105\" xlink:href=\"#m1b36f98a7b\" y=\"38.846814\"/>\r\n     <use style=\"fill:#bfbf00;stroke:#bfbf00;\" x=\"381.887722\" xlink:href=\"#m1b36f98a7b\" y=\"154.762852\"/>\r\n     <use style=\"fill:#bfbf00;stroke:#bfbf00;\" x=\"379.377877\" xlink:href=\"#m1b36f98a7b\" y=\"85.619378\"/>\r\n     <use style=\"fill:#bfbf00;stroke:#bfbf00;\" x=\"378.750416\" xlink:href=\"#m1b36f98a7b\" y=\"90.466954\"/>\r\n     <use style=\"fill:#bfbf00;stroke:#bfbf00;\" x=\"376.868032\" xlink:href=\"#m1b36f98a7b\" y=\"31.83748\"/>\r\n     <use style=\"fill:#bfbf00;stroke:#bfbf00;\" x=\"375.61311\" xlink:href=\"#m1b36f98a7b\" y=\"32.787343\"/>\r\n     <use style=\"fill:#bfbf00;stroke:#bfbf00;\" x=\"372.475804\" xlink:href=\"#m1b36f98a7b\" y=\"193.707234\"/>\r\n     <use style=\"fill:#bfbf00;stroke:#bfbf00;\" x=\"372.475804\" xlink:href=\"#m1b36f98a7b\" y=\"95.183515\"/>\r\n     <use style=\"fill:#bfbf00;stroke:#bfbf00;\" x=\"371.220881\" xlink:href=\"#m1b36f98a7b\" y=\"132.162664\"/>\r\n     <use style=\"fill:#bfbf00;stroke:#bfbf00;\" x=\"368.083575\" xlink:href=\"#m1b36f98a7b\" y=\"56.140871\"/>\r\n     <use style=\"fill:#bfbf00;stroke:#bfbf00;\" x=\"367.456114\" xlink:href=\"#m1b36f98a7b\" y=\"76.906841\"/>\r\n     <use style=\"fill:#bfbf00;stroke:#bfbf00;\" x=\"366.828653\" xlink:href=\"#m1b36f98a7b\" y=\"105.959547\"/>\r\n     <use style=\"fill:#bfbf00;stroke:#bfbf00;\" x=\"366.201192\" xlink:href=\"#m1b36f98a7b\" y=\"212.868263\"/>\r\n     <use style=\"fill:#bfbf00;stroke:#bfbf00;\" x=\"366.201192\" xlink:href=\"#m1b36f98a7b\" y=\"152.764864\"/>\r\n     <use style=\"fill:#bfbf00;stroke:#bfbf00;\" x=\"366.201192\" xlink:href=\"#m1b36f98a7b\" y=\"142.774926\"/>\r\n     <use style=\"fill:#bfbf00;stroke:#bfbf00;\" x=\"366.201192\" xlink:href=\"#m1b36f98a7b\" y=\"231.34146\"/>\r\n     <use style=\"fill:#bfbf00;stroke:#bfbf00;\" x=\"366.201192\" xlink:href=\"#m1b36f98a7b\" y=\"62.658897\"/>\r\n     <use style=\"fill:#bfbf00;stroke:#bfbf00;\" x=\"365.573731\" xlink:href=\"#m1b36f98a7b\" y=\"58.171613\"/>\r\n     <use style=\"fill:#bfbf00;stroke:#bfbf00;\" x=\"365.573731\" xlink:href=\"#m1b36f98a7b\" y=\"184.503389\"/>\r\n     <use style=\"fill:#bfbf00;stroke:#bfbf00;\" x=\"363.691347\" xlink:href=\"#m1b36f98a7b\" y=\"126.528993\"/>\r\n     <use style=\"fill:#bfbf00;stroke:#bfbf00;\" x=\"363.691347\" xlink:href=\"#m1b36f98a7b\" y=\"47.068042\"/>\r\n     <use style=\"fill:#bfbf00;stroke:#bfbf00;\" x=\"362.436424\" xlink:href=\"#m1b36f98a7b\" y=\"104.420114\"/>\r\n     <use style=\"fill:#bfbf00;stroke:#bfbf00;\" x=\"361.181502\" xlink:href=\"#m1b36f98a7b\" y=\"135.143268\"/>\r\n     <use style=\"fill:#bfbf00;stroke:#bfbf00;\" x=\"361.181502\" xlink:href=\"#m1b36f98a7b\" y=\"237.171654\"/>\r\n     <use style=\"fill:#bfbf00;stroke:#bfbf00;\" x=\"361.181502\" xlink:href=\"#m1b36f98a7b\" y=\"193.936511\"/>\r\n     <use style=\"fill:#bfbf00;stroke:#bfbf00;\" x=\"360.554041\" xlink:href=\"#m1b36f98a7b\" y=\"35.440409\"/>\r\n     <use style=\"fill:#bfbf00;stroke:#bfbf00;\" x=\"360.554041\" xlink:href=\"#m1b36f98a7b\" y=\"203.795434\"/>\r\n     <use style=\"fill:#bfbf00;stroke:#bfbf00;\" x=\"360.554041\" xlink:href=\"#m1b36f98a7b\" y=\"35.70244\"/>\r\n     <use style=\"fill:#bfbf00;stroke:#bfbf00;\" x=\"359.92658\" xlink:href=\"#m1b36f98a7b\" y=\"107.564488\"/>\r\n     <use style=\"fill:#bfbf00;stroke:#bfbf00;\" x=\"359.299118\" xlink:href=\"#m1b36f98a7b\" y=\"200.65106\"/>\r\n     <use style=\"fill:#bfbf00;stroke:#bfbf00;\" x=\"358.671657\" xlink:href=\"#m1b36f98a7b\" y=\"100.293123\"/>\r\n     <use style=\"fill:#bfbf00;stroke:#bfbf00;\" x=\"358.044196\" xlink:href=\"#m1b36f98a7b\" y=\"118.209504\"/>\r\n     <use style=\"fill:#bfbf00;stroke:#bfbf00;\" x=\"356.789274\" xlink:href=\"#m1b36f98a7b\" y=\"284.30451\"/>\r\n     <use style=\"fill:#bfbf00;stroke:#bfbf00;\" x=\"356.161812\" xlink:href=\"#m1b36f98a7b\" y=\"30.06877\"/>\r\n     <use style=\"fill:#bfbf00;stroke:#bfbf00;\" x=\"354.90689\" xlink:href=\"#m1b36f98a7b\" y=\"238.809349\"/>\r\n     <use style=\"fill:#bfbf00;stroke:#bfbf00;\" x=\"354.279429\" xlink:href=\"#m1b36f98a7b\" y=\"101.374001\"/>\r\n     <use style=\"fill:#bfbf00;stroke:#bfbf00;\" x=\"353.651968\" xlink:href=\"#m1b36f98a7b\" y=\"59.383507\"/>\r\n     <use style=\"fill:#bfbf00;stroke:#bfbf00;\" x=\"353.024506\" xlink:href=\"#m1b36f98a7b\" y=\"97.934842\"/>\r\n     <use style=\"fill:#bfbf00;stroke:#bfbf00;\" x=\"349.8872\" xlink:href=\"#m1b36f98a7b\" y=\"75.3019\"/>\r\n     <use style=\"fill:#bfbf00;stroke:#bfbf00;\" x=\"349.259739\" xlink:href=\"#m1b36f98a7b\" y=\"169.698628\"/>\r\n     <use style=\"fill:#bfbf00;stroke:#bfbf00;\" x=\"349.259739\" xlink:href=\"#m1b36f98a7b\" y=\"181.293507\"/>\r\n     <use style=\"fill:#bfbf00;stroke:#bfbf00;\" x=\"348.632278\" xlink:href=\"#m1b36f98a7b\" y=\"61.217725\"/>\r\n     <use style=\"fill:#bfbf00;stroke:#bfbf00;\" x=\"348.632278\" xlink:href=\"#m1b36f98a7b\" y=\"162.558279\"/>\r\n     <use style=\"fill:#bfbf00;stroke:#bfbf00;\" x=\"348.004817\" xlink:href=\"#m1b36f98a7b\" y=\"130.819754\"/>\r\n     <use style=\"fill:#bfbf00;stroke:#bfbf00;\" x=\"348.004817\" xlink:href=\"#m1b36f98a7b\" y=\"31.149649\"/>\r\n     <use style=\"fill:#bfbf00;stroke:#bfbf00;\" x=\"347.377356\" xlink:href=\"#m1b36f98a7b\" y=\"45.692378\"/>\r\n     <use style=\"fill:#bfbf00;stroke:#bfbf00;\" x=\"346.749894\" xlink:href=\"#m1b36f98a7b\" y=\"333.4026\"/>\r\n     <use style=\"fill:#bfbf00;stroke:#bfbf00;\" x=\"346.122433\" xlink:href=\"#m1b36f98a7b\" y=\"269.270472\"/>\r\n     <use style=\"fill:#bfbf00;stroke:#bfbf00;\" x=\"345.494972\" xlink:href=\"#m1b36f98a7b\" y=\"128.756258\"/>\r\n     <use style=\"fill:#bfbf00;stroke:#bfbf00;\" x=\"345.494972\" xlink:href=\"#m1b36f98a7b\" y=\"207.693147\"/>\r\n     <use style=\"fill:#bfbf00;stroke:#bfbf00;\" x=\"344.240049\" xlink:href=\"#m1b36f98a7b\" y=\"122.63128\"/>\r\n     <use style=\"fill:#bfbf00;stroke:#bfbf00;\" x=\"343.612588\" xlink:href=\"#m1b36f98a7b\" y=\"89.386076\"/>\r\n     <use style=\"fill:#bfbf00;stroke:#bfbf00;\" x=\"343.612588\" xlink:href=\"#m1b36f98a7b\" y=\"84.374729\"/>\r\n     <use style=\"fill:#bfbf00;stroke:#bfbf00;\" x=\"342.985127\" xlink:href=\"#m1b36f98a7b\" y=\"43.923668\"/>\r\n     <use style=\"fill:#bfbf00;stroke:#bfbf00;\" x=\"342.357666\" xlink:href=\"#m1b36f98a7b\" y=\"92.694219\"/>\r\n     <use style=\"fill:#bfbf00;stroke:#bfbf00;\" x=\"342.357666\" xlink:href=\"#m1b36f98a7b\" y=\"59.678292\"/>\r\n     <use style=\"fill:#bfbf00;stroke:#bfbf00;\" x=\"341.730205\" xlink:href=\"#m1b36f98a7b\" y=\"260.033873\"/>\r\n     <use style=\"fill:#bfbf00;stroke:#bfbf00;\" x=\"341.730205\" xlink:href=\"#m1b36f98a7b\" y=\"157.481425\"/>\r\n     <use style=\"fill:#bfbf00;stroke:#bfbf00;\" x=\"341.102743\" xlink:href=\"#m1b36f98a7b\" y=\"45.004547\"/>\r\n     <use style=\"fill:#bfbf00;stroke:#bfbf00;\" x=\"341.102743\" xlink:href=\"#m1b36f98a7b\" y=\"162.98408\"/>\r\n     <use style=\"fill:#bfbf00;stroke:#bfbf00;\" x=\"341.102743\" xlink:href=\"#m1b36f98a7b\" y=\"116.932102\"/>\r\n     <use style=\"fill:#bfbf00;stroke:#bfbf00;\" x=\"340.475282\" xlink:href=\"#m1b36f98a7b\" y=\"124.236221\"/>\r\n     <use style=\"fill:#bfbf00;stroke:#bfbf00;\" x=\"339.847821\" xlink:href=\"#m1b36f98a7b\" y=\"162.329002\"/>\r\n     <use style=\"fill:#bfbf00;stroke:#bfbf00;\" x=\"339.847821\" xlink:href=\"#m1b36f98a7b\" y=\"151.946017\"/>\r\n     <use style=\"fill:#bfbf00;stroke:#bfbf00;\" x=\"339.22036\" xlink:href=\"#m1b36f98a7b\" y=\"281.291152\"/>\r\n     <use style=\"fill:#bfbf00;stroke:#bfbf00;\" x=\"339.22036\" xlink:href=\"#m1b36f98a7b\" y=\"122.074464\"/>\r\n     <use style=\"fill:#bfbf00;stroke:#bfbf00;\" x=\"338.592899\" xlink:href=\"#m1b36f98a7b\" y=\"174.709974\"/>\r\n     <use style=\"fill:#bfbf00;stroke:#bfbf00;\" x=\"337.965437\" xlink:href=\"#m1b36f98a7b\" y=\"192.92114\"/>\r\n     <use style=\"fill:#bfbf00;stroke:#bfbf00;\" x=\"337.337976\" xlink:href=\"#m1b36f98a7b\" y=\"75.924224\"/>\r\n     <use style=\"fill:#bfbf00;stroke:#bfbf00;\" x=\"336.710515\" xlink:href=\"#m1b36f98a7b\" y=\"161.313631\"/>\r\n     <use style=\"fill:#bfbf00;stroke:#bfbf00;\" x=\"336.083054\" xlink:href=\"#m1b36f98a7b\" y=\"139.171997\"/>\r\n     <use style=\"fill:#bfbf00;stroke:#bfbf00;\" x=\"335.455593\" xlink:href=\"#m1b36f98a7b\" y=\"171.336323\"/>\r\n     <use style=\"fill:#bfbf00;stroke:#bfbf00;\" x=\"334.828131\" xlink:href=\"#m1b36f98a7b\" y=\"141.071723\"/>\r\n     <use style=\"fill:#bfbf00;stroke:#bfbf00;\" x=\"334.828131\" xlink:href=\"#m1b36f98a7b\" y=\"140.449399\"/>\r\n     <use style=\"fill:#bfbf00;stroke:#bfbf00;\" x=\"334.20067\" xlink:href=\"#m1b36f98a7b\" y=\"188.826903\"/>\r\n     <use style=\"fill:#bfbf00;stroke:#bfbf00;\" x=\"334.20067\" xlink:href=\"#m1b36f98a7b\" y=\"165.375114\"/>\r\n     <use style=\"fill:#bfbf00;stroke:#bfbf00;\" x=\"334.20067\" xlink:href=\"#m1b36f98a7b\" y=\"56.992473\"/>\r\n     <use style=\"fill:#bfbf00;stroke:#bfbf00;\" x=\"334.20067\" xlink:href=\"#m1b36f98a7b\" y=\"106.352594\"/>\r\n     <use style=\"fill:#bfbf00;stroke:#bfbf00;\" x=\"334.20067\" xlink:href=\"#m1b36f98a7b\" y=\"97.378026\"/>\r\n     <use style=\"fill:#bfbf00;stroke:#bfbf00;\" x=\"334.20067\" xlink:href=\"#m1b36f98a7b\" y=\"119.257629\"/>\r\n     <use style=\"fill:#bfbf00;stroke:#bfbf00;\" x=\"334.20067\" xlink:href=\"#m1b36f98a7b\" y=\"183.160479\"/>\r\n     <use style=\"fill:#bfbf00;stroke:#bfbf00;\" x=\"333.573209\" xlink:href=\"#m1b36f98a7b\" y=\"195.836237\"/>\r\n     <use style=\"fill:#bfbf00;stroke:#bfbf00;\" x=\"333.573209\" xlink:href=\"#m1b36f98a7b\" y=\"226.231853\"/>\r\n     <use style=\"fill:#bfbf00;stroke:#bfbf00;\" x=\"333.573209\" xlink:href=\"#m1b36f98a7b\" y=\"182.079601\"/>\r\n     <use style=\"fill:#bfbf00;stroke:#bfbf00;\" x=\"332.318287\" xlink:href=\"#m1b36f98a7b\" y=\"204.778051\"/>\r\n     <use style=\"fill:#bfbf00;stroke:#bfbf00;\" x=\"332.318287\" xlink:href=\"#m1b36f98a7b\" y=\"196.360299\"/>\r\n     <use style=\"fill:#bfbf00;stroke:#bfbf00;\" x=\"331.690825\" xlink:href=\"#m1b36f98a7b\" y=\"26.269318\"/>\r\n     <use style=\"fill:#bfbf00;stroke:#bfbf00;\" x=\"330.435903\" xlink:href=\"#m1b36f98a7b\" y=\"268.386117\"/>\r\n     <use style=\"fill:#bfbf00;stroke:#bfbf00;\" x=\"330.435903\" xlink:href=\"#m1b36f98a7b\" y=\"148.605119\"/>\r\n     <use style=\"fill:#bfbf00;stroke:#bfbf00;\" x=\"330.435903\" xlink:href=\"#m1b36f98a7b\" y=\"84.472991\"/>\r\n     <use style=\"fill:#bfbf00;stroke:#bfbf00;\" x=\"327.926058\" xlink:href=\"#m1b36f98a7b\" y=\"215.586836\"/>\r\n     <use style=\"fill:#bfbf00;stroke:#bfbf00;\" x=\"327.298597\" xlink:href=\"#m1b36f98a7b\" y=\"112.150033\"/>\r\n     <use style=\"fill:#bfbf00;stroke:#bfbf00;\" x=\"326.671136\" xlink:href=\"#m1b36f98a7b\" y=\"184.405127\"/>\r\n     <use style=\"fill:#bfbf00;stroke:#bfbf00;\" x=\"326.671136\" xlink:href=\"#m1b36f98a7b\" y=\"73.041881\"/>\r\n     <use style=\"fill:#bfbf00;stroke:#bfbf00;\" x=\"326.043675\" xlink:href=\"#m1b36f98a7b\" y=\"154.500821\"/>\r\n     <use style=\"fill:#bfbf00;stroke:#bfbf00;\" x=\"325.416213\" xlink:href=\"#m1b36f98a7b\" y=\"33.18039\"/>\r\n     <use style=\"fill:#bfbf00;stroke:#bfbf00;\" x=\"322.906368\" xlink:href=\"#m1b36f98a7b\" y=\"108.547105\"/>\r\n     <use style=\"fill:#bfbf00;stroke:#bfbf00;\" x=\"322.278907\" xlink:href=\"#m1b36f98a7b\" y=\"231.767261\"/>\r\n     <use style=\"fill:#bfbf00;stroke:#bfbf00;\" x=\"322.278907\" xlink:href=\"#m1b36f98a7b\" y=\"171.532846\"/>\r\n     <use style=\"fill:#bfbf00;stroke:#bfbf00;\" x=\"321.651446\" xlink:href=\"#m1b36f98a7b\" y=\"228.131578\"/>\r\n     <use style=\"fill:#bfbf00;stroke:#bfbf00;\" x=\"321.023985\" xlink:href=\"#m1b36f98a7b\" y=\"254.269187\"/>\r\n     <use style=\"fill:#bfbf00;stroke:#bfbf00;\" x=\"321.023985\" xlink:href=\"#m1b36f98a7b\" y=\"185.911807\"/>\r\n     <use style=\"fill:#bfbf00;stroke:#bfbf00;\" x=\"318.51414\" xlink:href=\"#m1b36f98a7b\" y=\"113.984251\"/>\r\n     <use style=\"fill:#bfbf00;stroke:#bfbf00;\" x=\"317.886679\" xlink:href=\"#m1b36f98a7b\" y=\"84.997053\"/>\r\n     <use style=\"fill:#bfbf00;stroke:#bfbf00;\" x=\"317.259218\" xlink:href=\"#m1b36f98a7b\" y=\"114.639329\"/>\r\n     <use style=\"fill:#bfbf00;stroke:#bfbf00;\" x=\"316.631756\" xlink:href=\"#m1b36f98a7b\" y=\"147.720764\"/>\r\n     <use style=\"fill:#bfbf00;stroke:#bfbf00;\" x=\"316.004295\" xlink:href=\"#m1b36f98a7b\" y=\"149.948029\"/>\r\n     <use style=\"fill:#bfbf00;stroke:#bfbf00;\" x=\"315.376834\" xlink:href=\"#m1b36f98a7b\" y=\"145.493499\"/>\r\n     <use style=\"fill:#bfbf00;stroke:#bfbf00;\" x=\"315.376834\" xlink:href=\"#m1b36f98a7b\" y=\"188.695888\"/>\r\n     <use style=\"fill:#bfbf00;stroke:#bfbf00;\" x=\"314.121912\" xlink:href=\"#m1b36f98a7b\" y=\"173.334311\"/>\r\n     <use style=\"fill:#bfbf00;stroke:#bfbf00;\" x=\"313.49445\" xlink:href=\"#m1b36f98a7b\" y=\"178.54218\"/>\r\n     <use style=\"fill:#bfbf00;stroke:#bfbf00;\" x=\"312.866989\" xlink:href=\"#m1b36f98a7b\" y=\"96.460917\"/>\r\n     <use style=\"fill:#bfbf00;stroke:#bfbf00;\" x=\"312.239528\" xlink:href=\"#m1b36f98a7b\" y=\"77.627427\"/>\r\n     <use style=\"fill:#bfbf00;stroke:#bfbf00;\" x=\"310.984606\" xlink:href=\"#m1b36f98a7b\" y=\"168.02818\"/>\r\n     <use style=\"fill:#bfbf00;stroke:#bfbf00;\" x=\"310.984606\" xlink:href=\"#m1b36f98a7b\" y=\"178.378411\"/>\r\n     <use style=\"fill:#bfbf00;stroke:#bfbf00;\" x=\"310.357144\" xlink:href=\"#m1b36f98a7b\" y=\"119.650675\"/>\r\n     <use style=\"fill:#bfbf00;stroke:#bfbf00;\" x=\"310.357144\" xlink:href=\"#m1b36f98a7b\" y=\"178.378411\"/>\r\n     <use style=\"fill:#bfbf00;stroke:#bfbf00;\" x=\"309.729683\" xlink:href=\"#m1b36f98a7b\" y=\"196.687838\"/>\r\n     <use style=\"fill:#bfbf00;stroke:#bfbf00;\" x=\"308.474761\" xlink:href=\"#m1b36f98a7b\" y=\"101.799802\"/>\r\n     <use style=\"fill:#bfbf00;stroke:#bfbf00;\" x=\"308.474761\" xlink:href=\"#m1b36f98a7b\" y=\"63.838037\"/>\r\n     <use style=\"fill:#bfbf00;stroke:#bfbf00;\" x=\"306.592377\" xlink:href=\"#m1b36f98a7b\" y=\"191.414461\"/>\r\n     <use style=\"fill:#bfbf00;stroke:#bfbf00;\" x=\"305.964916\" xlink:href=\"#m1b36f98a7b\" y=\"56.370148\"/>\r\n     <use style=\"fill:#bfbf00;stroke:#bfbf00;\" x=\"305.337455\" xlink:href=\"#m1b36f98a7b\" y=\"194.755359\"/>\r\n     <use style=\"fill:#bfbf00;stroke:#bfbf00;\" x=\"305.337455\" xlink:href=\"#m1b36f98a7b\" y=\"82.966312\"/>\r\n     <use style=\"fill:#bfbf00;stroke:#bfbf00;\" x=\"304.709994\" xlink:href=\"#m1b36f98a7b\" y=\"145.16596\"/>\r\n     <use style=\"fill:#bfbf00;stroke:#bfbf00;\" x=\"304.709994\" xlink:href=\"#m1b36f98a7b\" y=\"165.833669\"/>\r\n     <use style=\"fill:#bfbf00;stroke:#bfbf00;\" x=\"304.709994\" xlink:href=\"#m1b36f98a7b\" y=\"89.484337\"/>\r\n     <use style=\"fill:#bfbf00;stroke:#bfbf00;\" x=\"303.455071\" xlink:href=\"#m1b36f98a7b\" y=\"114.017005\"/>\r\n     <use style=\"fill:#bfbf00;stroke:#bfbf00;\" x=\"302.82761\" xlink:href=\"#m1b36f98a7b\" y=\"108.023042\"/>\r\n     <use style=\"fill:#bfbf00;stroke:#bfbf00;\" x=\"302.200149\" xlink:href=\"#m1b36f98a7b\" y=\"128.625243\"/>\r\n     <use style=\"fill:#bfbf00;stroke:#bfbf00;\" x=\"300.945226\" xlink:href=\"#m1b36f98a7b\" y=\"141.202739\"/>\r\n     <use style=\"fill:#bfbf00;stroke:#bfbf00;\" x=\"300.317765\" xlink:href=\"#m1b36f98a7b\" y=\"181.588292\"/>\r\n     <use style=\"fill:#bfbf00;stroke:#bfbf00;\" x=\"300.317765\" xlink:href=\"#m1b36f98a7b\" y=\"93.775098\"/>\r\n     <use style=\"fill:#bfbf00;stroke:#bfbf00;\" x=\"300.317765\" xlink:href=\"#m1b36f98a7b\" y=\"158.169257\"/>\r\n     <use style=\"fill:#bfbf00;stroke:#bfbf00;\" x=\"300.317765\" xlink:href=\"#m1b36f98a7b\" y=\"98.982967\"/>\r\n     <use style=\"fill:#bfbf00;stroke:#bfbf00;\" x=\"299.690304\" xlink:href=\"#m1b36f98a7b\" y=\"121.615909\"/>\r\n     <use style=\"fill:#bfbf00;stroke:#bfbf00;\" x=\"299.690304\" xlink:href=\"#m1b36f98a7b\" y=\"150.570353\"/>\r\n     <use style=\"fill:#bfbf00;stroke:#bfbf00;\" x=\"299.690304\" xlink:href=\"#m1b36f98a7b\" y=\"215.881621\"/>\r\n     <use style=\"fill:#bfbf00;stroke:#bfbf00;\" x=\"299.690304\" xlink:href=\"#m1b36f98a7b\" y=\"135.929362\"/>\r\n     <use style=\"fill:#bfbf00;stroke:#bfbf00;\" x=\"299.690304\" xlink:href=\"#m1b36f98a7b\" y=\"240.709075\"/>\r\n     <use style=\"fill:#bfbf00;stroke:#bfbf00;\" x=\"299.690304\" xlink:href=\"#m1b36f98a7b\" y=\"29.380938\"/>\r\n     <use style=\"fill:#bfbf00;stroke:#bfbf00;\" x=\"299.690304\" xlink:href=\"#m1b36f98a7b\" y=\"73.271159\"/>\r\n     <use style=\"fill:#bfbf00;stroke:#bfbf00;\" x=\"299.062843\" xlink:href=\"#m1b36f98a7b\" y=\"201.764692\"/>\r\n     <use style=\"fill:#bfbf00;stroke:#bfbf00;\" x=\"297.80792\" xlink:href=\"#m1b36f98a7b\" y=\"208.872288\"/>\r\n     <use style=\"fill:#bfbf00;stroke:#bfbf00;\" x=\"297.180459\" xlink:href=\"#m1b36f98a7b\" y=\"58.761183\"/>\r\n     <use style=\"fill:#bfbf00;stroke:#bfbf00;\" x=\"296.552998\" xlink:href=\"#m1b36f98a7b\" y=\"156.138515\"/>\r\n     <use style=\"fill:#bfbf00;stroke:#bfbf00;\" x=\"295.925537\" xlink:href=\"#m1b36f98a7b\" y=\"121.648663\"/>\r\n     <use style=\"fill:#bfbf00;stroke:#bfbf00;\" x=\"295.298075\" xlink:href=\"#m1b36f98a7b\" y=\"174.054896\"/>\r\n     <use style=\"fill:#bfbf00;stroke:#bfbf00;\" x=\"294.670614\" xlink:href=\"#m1b36f98a7b\" y=\"186.927177\"/>\r\n     <use style=\"fill:#bfbf00;stroke:#bfbf00;\" x=\"294.670614\" xlink:href=\"#m1b36f98a7b\" y=\"32.623574\"/>\r\n     <use style=\"fill:#bfbf00;stroke:#bfbf00;\" x=\"294.670614\" xlink:href=\"#m1b36f98a7b\" y=\"140.514907\"/>\r\n     <use style=\"fill:#bfbf00;stroke:#bfbf00;\" x=\"294.043153\" xlink:href=\"#m1b36f98a7b\" y=\"197.96524\"/>\r\n     <use style=\"fill:#bfbf00;stroke:#bfbf00;\" x=\"293.415692\" xlink:href=\"#m1b36f98a7b\" y=\"222.170369\"/>\r\n     <use style=\"fill:#bfbf00;stroke:#bfbf00;\" x=\"293.415692\" xlink:href=\"#m1b36f98a7b\" y=\"59.514523\"/>\r\n     <use style=\"fill:#bfbf00;stroke:#bfbf00;\" x=\"293.415692\" xlink:href=\"#m1b36f98a7b\" y=\"144.74016\"/>\r\n     <use style=\"fill:#bfbf00;stroke:#bfbf00;\" x=\"292.788231\" xlink:href=\"#m1b36f98a7b\" y=\"125.186084\"/>\r\n     <use style=\"fill:#bfbf00;stroke:#bfbf00;\" x=\"291.533308\" xlink:href=\"#m1b36f98a7b\" y=\"206.448499\"/>\r\n     <use style=\"fill:#bfbf00;stroke:#bfbf00;\" x=\"290.905847\" xlink:href=\"#m1b36f98a7b\" y=\"242.510539\"/>\r\n     <use style=\"fill:#bfbf00;stroke:#bfbf00;\" x=\"290.905847\" xlink:href=\"#m1b36f98a7b\" y=\"161.280877\"/>\r\n     <use style=\"fill:#bfbf00;stroke:#bfbf00;\" x=\"290.278386\" xlink:href=\"#m1b36f98a7b\" y=\"107.49898\"/>\r\n     <use style=\"fill:#bfbf00;stroke:#bfbf00;\" x=\"289.650925\" xlink:href=\"#m1b36f98a7b\" y=\"87.060549\"/>\r\n     <use style=\"fill:#bfbf00;stroke:#bfbf00;\" x=\"289.650925\" xlink:href=\"#m1b36f98a7b\" y=\"188.63038\"/>\r\n     <use style=\"fill:#bfbf00;stroke:#bfbf00;\" x=\"288.396002\" xlink:href=\"#m1b36f98a7b\" y=\"96.788456\"/>\r\n     <use style=\"fill:#bfbf00;stroke:#bfbf00;\" x=\"288.396002\" xlink:href=\"#m1b36f98a7b\" y=\"134.06239\"/>\r\n     <use style=\"fill:#bfbf00;stroke:#bfbf00;\" x=\"288.396002\" xlink:href=\"#m1b36f98a7b\" y=\"87.388088\"/>\r\n     <use style=\"fill:#bfbf00;stroke:#bfbf00;\" x=\"287.14108\" xlink:href=\"#m1b36f98a7b\" y=\"71.371433\"/>\r\n     <use style=\"fill:#bfbf00;stroke:#bfbf00;\" x=\"287.14108\" xlink:href=\"#m1b36f98a7b\" y=\"224.037342\"/>\r\n     <use style=\"fill:#bfbf00;stroke:#bfbf00;\" x=\"286.513619\" xlink:href=\"#m1b36f98a7b\" y=\"145.722776\"/>\r\n     <use style=\"fill:#bfbf00;stroke:#bfbf00;\" x=\"285.886157\" xlink:href=\"#m1b36f98a7b\" y=\"205.596898\"/>\r\n     <use style=\"fill:#bfbf00;stroke:#bfbf00;\" x=\"285.886157\" xlink:href=\"#m1b36f98a7b\" y=\"50.736478\"/>\r\n     <use style=\"fill:#bfbf00;stroke:#bfbf00;\" x=\"285.258696\" xlink:href=\"#m1b36f98a7b\" y=\"113.034388\"/>\r\n     <use style=\"fill:#bfbf00;stroke:#bfbf00;\" x=\"284.631235\" xlink:href=\"#m1b36f98a7b\" y=\"150.144552\"/>\r\n     <use style=\"fill:#bfbf00;stroke:#bfbf00;\" x=\"284.631235\" xlink:href=\"#m1b36f98a7b\" y=\"255.808621\"/>\r\n     <use style=\"fill:#bfbf00;stroke:#bfbf00;\" x=\"284.003774\" xlink:href=\"#m1b36f98a7b\" y=\"202.58354\"/>\r\n     <use style=\"fill:#bfbf00;stroke:#bfbf00;\" x=\"283.376312\" xlink:href=\"#m1b36f98a7b\" y=\"101.374001\"/>\r\n     <use style=\"fill:#bfbf00;stroke:#bfbf00;\" x=\"283.376312\" xlink:href=\"#m1b36f98a7b\" y=\"166.980055\"/>\r\n     <use style=\"fill:#bfbf00;stroke:#bfbf00;\" x=\"282.12139\" xlink:href=\"#m1b36f98a7b\" y=\"176.6097\"/>\r\n     <use style=\"fill:#bfbf00;stroke:#bfbf00;\" x=\"282.12139\" xlink:href=\"#m1b36f98a7b\" y=\"199.013365\"/>\r\n     <use style=\"fill:#bfbf00;stroke:#bfbf00;\" x=\"281.493929\" xlink:href=\"#m1b36f98a7b\" y=\"188.79415\"/>\r\n     <use style=\"fill:#bfbf00;stroke:#bfbf00;\" x=\"280.239006\" xlink:href=\"#m1b36f98a7b\" y=\"103.175466\"/>\r\n     <use style=\"fill:#bfbf00;stroke:#bfbf00;\" x=\"278.984084\" xlink:href=\"#m1b36f98a7b\" y=\"168.61775\"/>\r\n     <use style=\"fill:#bfbf00;stroke:#bfbf00;\" x=\"278.984084\" xlink:href=\"#m1b36f98a7b\" y=\"123.482881\"/>\r\n     <use style=\"fill:#bfbf00;stroke:#bfbf00;\" x=\"278.356623\" xlink:href=\"#m1b36f98a7b\" y=\"208.64301\"/>\r\n     <use style=\"fill:#bfbf00;stroke:#bfbf00;\" x=\"278.356623\" xlink:href=\"#m1b36f98a7b\" y=\"264.029848\"/>\r\n     <use style=\"fill:#bfbf00;stroke:#bfbf00;\" x=\"278.356623\" xlink:href=\"#m1b36f98a7b\" y=\"49.328061\"/>\r\n     <use style=\"fill:#bfbf00;stroke:#bfbf00;\" x=\"277.729162\" xlink:href=\"#m1b36f98a7b\" y=\"237.761224\"/>\r\n     <use style=\"fill:#bfbf00;stroke:#bfbf00;\" x=\"277.729162\" xlink:href=\"#m1b36f98a7b\" y=\"270.154827\"/>\r\n     <use style=\"fill:#bfbf00;stroke:#bfbf00;\" x=\"277.1017\" xlink:href=\"#m1b36f98a7b\" y=\"159.675936\"/>\r\n     <use style=\"fill:#bfbf00;stroke:#bfbf00;\" x=\"275.219317\" xlink:href=\"#m1b36f98a7b\" y=\"218.665703\"/>\r\n     <use style=\"fill:#bfbf00;stroke:#bfbf00;\" x=\"274.591856\" xlink:href=\"#m1b36f98a7b\" y=\"255.153543\"/>\r\n     <use style=\"fill:#bfbf00;stroke:#bfbf00;\" x=\"274.591856\" xlink:href=\"#m1b36f98a7b\" y=\"291.87066\"/>\r\n     <use style=\"fill:#bfbf00;stroke:#bfbf00;\" x=\"274.591856\" xlink:href=\"#m1b36f98a7b\" y=\"253.155555\"/>\r\n     <use style=\"fill:#bfbf00;stroke:#bfbf00;\" x=\"273.964394\" xlink:href=\"#m1b36f98a7b\" y=\"105.828531\"/>\r\n     <use style=\"fill:#bfbf00;stroke:#bfbf00;\" x=\"273.964394\" xlink:href=\"#m1b36f98a7b\" y=\"166.750778\"/>\r\n     <use style=\"fill:#bfbf00;stroke:#bfbf00;\" x=\"273.964394\" xlink:href=\"#m1b36f98a7b\" y=\"229.539996\"/>\r\n     <use style=\"fill:#bfbf00;stroke:#bfbf00;\" x=\"273.336933\" xlink:href=\"#m1b36f98a7b\" y=\"236.123529\"/>\r\n     <use style=\"fill:#bfbf00;stroke:#bfbf00;\" x=\"273.336933\" xlink:href=\"#m1b36f98a7b\" y=\"77.922212\"/>\r\n     <use style=\"fill:#bfbf00;stroke:#bfbf00;\" x=\"272.709472\" xlink:href=\"#m1b36f98a7b\" y=\"159.086366\"/>\r\n     <use style=\"fill:#bfbf00;stroke:#bfbf00;\" x=\"271.45455\" xlink:href=\"#m1b36f98a7b\" y=\"284.107987\"/>\r\n     <use style=\"fill:#bfbf00;stroke:#bfbf00;\" x=\"270.827088\" xlink:href=\"#m1b36f98a7b\" y=\"156.4333\"/>\r\n     <use style=\"fill:#bfbf00;stroke:#bfbf00;\" x=\"270.199627\" xlink:href=\"#m1b36f98a7b\" y=\"130.950769\"/>\r\n     <use style=\"fill:#bfbf00;stroke:#bfbf00;\" x=\"270.199627\" xlink:href=\"#m1b36f98a7b\" y=\"382.33692\"/>\r\n     <use style=\"fill:#bfbf00;stroke:#bfbf00;\" x=\"269.572166\" xlink:href=\"#m1b36f98a7b\" y=\"63.150205\"/>\r\n     <use style=\"fill:#bfbf00;stroke:#bfbf00;\" x=\"268.944705\" xlink:href=\"#m1b36f98a7b\" y=\"202.812817\"/>\r\n     <use style=\"fill:#bfbf00;stroke:#bfbf00;\" x=\"267.689782\" xlink:href=\"#m1b36f98a7b\" y=\"163.377126\"/>\r\n     <use style=\"fill:#bfbf00;stroke:#bfbf00;\" x=\"267.689782\" xlink:href=\"#m1b36f98a7b\" y=\"224.561404\"/>\r\n     <use style=\"fill:#bfbf00;stroke:#bfbf00;\" x=\"266.43486\" xlink:href=\"#m1b36f98a7b\" y=\"94.659453\"/>\r\n     <use style=\"fill:#bfbf00;stroke:#bfbf00;\" x=\"266.43486\" xlink:href=\"#m1b36f98a7b\" y=\"234.911635\"/>\r\n     <use style=\"fill:#bfbf00;stroke:#bfbf00;\" x=\"266.43486\" xlink:href=\"#m1b36f98a7b\" y=\"228.753903\"/>\r\n     <use style=\"fill:#bfbf00;stroke:#bfbf00;\" x=\"265.807399\" xlink:href=\"#m1b36f98a7b\" y=\"268.779163\"/>\r\n     <use style=\"fill:#bfbf00;stroke:#bfbf00;\" x=\"265.179938\" xlink:href=\"#m1b36f98a7b\" y=\"136.289654\"/>\r\n     <use style=\"fill:#bfbf00;stroke:#bfbf00;\" x=\"265.179938\" xlink:href=\"#m1b36f98a7b\" y=\"119.388644\"/>\r\n     <use style=\"fill:#bfbf00;stroke:#bfbf00;\" x=\"264.552476\" xlink:href=\"#m1b36f98a7b\" y=\"165.637145\"/>\r\n     <use style=\"fill:#bfbf00;stroke:#bfbf00;\" x=\"264.552476\" xlink:href=\"#m1b36f98a7b\" y=\"181.948585\"/>\r\n     <use style=\"fill:#bfbf00;stroke:#bfbf00;\" x=\"263.925015\" xlink:href=\"#m1b36f98a7b\" y=\"232.553354\"/>\r\n     <use style=\"fill:#bfbf00;stroke:#bfbf00;\" x=\"263.297554\" xlink:href=\"#m1b36f98a7b\" y=\"247.06333\"/>\r\n     <use style=\"fill:#bfbf00;stroke:#bfbf00;\" x=\"263.297554\" xlink:href=\"#m1b36f98a7b\" y=\"318.728855\"/>\r\n     <use style=\"fill:#bfbf00;stroke:#bfbf00;\" x=\"263.297554\" xlink:href=\"#m1b36f98a7b\" y=\"320.006256\"/>\r\n     <use style=\"fill:#bfbf00;stroke:#bfbf00;\" x=\"263.297554\" xlink:href=\"#m1b36f98a7b\" y=\"353.710015\"/>\r\n     <use style=\"fill:#bfbf00;stroke:#bfbf00;\" x=\"263.297554\" xlink:href=\"#m1b36f98a7b\" y=\"312.702138\"/>\r\n     <use style=\"fill:#bfbf00;stroke:#bfbf00;\" x=\"262.670093\" xlink:href=\"#m1b36f98a7b\" y=\"54.241145\"/>\r\n     <use style=\"fill:#bfbf00;stroke:#bfbf00;\" x=\"262.670093\" xlink:href=\"#m1b36f98a7b\" y=\"174.939252\"/>\r\n     <use style=\"fill:#bfbf00;stroke:#bfbf00;\" x=\"262.042631\" xlink:href=\"#m1b36f98a7b\" y=\"103.371989\"/>\r\n     <use style=\"fill:#bfbf00;stroke:#bfbf00;\" x=\"262.042631\" xlink:href=\"#m1b36f98a7b\" y=\"146.574378\"/>\r\n     <use style=\"fill:#bfbf00;stroke:#bfbf00;\" x=\"261.41517\" xlink:href=\"#m1b36f98a7b\" y=\"240.676321\"/>\r\n     <use style=\"fill:#bfbf00;stroke:#bfbf00;\" x=\"261.41517\" xlink:href=\"#m1b36f98a7b\" y=\"282.699569\"/>\r\n     <use style=\"fill:#bfbf00;stroke:#bfbf00;\" x=\"260.787709\" xlink:href=\"#m1b36f98a7b\" y=\"274.674865\"/>\r\n     <use style=\"fill:#bfbf00;stroke:#bfbf00;\" x=\"260.787709\" xlink:href=\"#m1b36f98a7b\" y=\"237.531947\"/>\r\n     <use style=\"fill:#bfbf00;stroke:#bfbf00;\" x=\"260.160248\" xlink:href=\"#m1b36f98a7b\" y=\"241.00386\"/>\r\n     <use style=\"fill:#bfbf00;stroke:#bfbf00;\" x=\"260.160248\" xlink:href=\"#m1b36f98a7b\" y=\"196.622331\"/>\r\n     <use style=\"fill:#bfbf00;stroke:#bfbf00;\" x=\"259.532787\" xlink:href=\"#m1b36f98a7b\" y=\"234.518588\"/>\r\n     <use style=\"fill:#bfbf00;stroke:#bfbf00;\" x=\"258.277864\" xlink:href=\"#m1b36f98a7b\" y=\"267.960316\"/>\r\n     <use style=\"fill:#bfbf00;stroke:#bfbf00;\" x=\"257.650403\" xlink:href=\"#m1b36f98a7b\" y=\"307.068468\"/>\r\n     <use style=\"fill:#bfbf00;stroke:#bfbf00;\" x=\"257.650403\" xlink:href=\"#m1b36f98a7b\" y=\"309.000947\"/>\r\n     <use style=\"fill:#bfbf00;stroke:#bfbf00;\" x=\"257.022942\" xlink:href=\"#m1b36f98a7b\" y=\"279.293164\"/>\r\n     <use style=\"fill:#bfbf00;stroke:#bfbf00;\" x=\"255.140558\" xlink:href=\"#m1b36f98a7b\" y=\"199.602935\"/>\r\n     <use style=\"fill:#bfbf00;stroke:#bfbf00;\" x=\"254.513097\" xlink:href=\"#m1b36f98a7b\" y=\"113.263666\"/>\r\n     <use style=\"fill:#bfbf00;stroke:#bfbf00;\" x=\"254.513097\" xlink:href=\"#m1b36f98a7b\" y=\"279.031133\"/>\r\n     <use style=\"fill:#bfbf00;stroke:#bfbf00;\" x=\"253.885636\" xlink:href=\"#m1b36f98a7b\" y=\"312.47286\"/>\r\n     <use style=\"fill:#bfbf00;stroke:#bfbf00;\" x=\"253.258175\" xlink:href=\"#m1b36f98a7b\" y=\"248.57001\"/>\r\n     <use style=\"fill:#bfbf00;stroke:#bfbf00;\" x=\"253.258175\" xlink:href=\"#m1b36f98a7b\" y=\"223.218494\"/>\r\n     <use style=\"fill:#bfbf00;stroke:#bfbf00;\" x=\"253.258175\" xlink:href=\"#m1b36f98a7b\" y=\"305.922081\"/>\r\n     <use style=\"fill:#bfbf00;stroke:#bfbf00;\" x=\"252.630713\" xlink:href=\"#m1b36f98a7b\" y=\"321.054381\"/>\r\n     <use style=\"fill:#bfbf00;stroke:#bfbf00;\" x=\"252.630713\" xlink:href=\"#m1b36f98a7b\" y=\"208.741272\"/>\r\n     <use style=\"fill:#bfbf00;stroke:#bfbf00;\" x=\"252.003252\" xlink:href=\"#m1b36f98a7b\" y=\"274.511095\"/>\r\n     <use style=\"fill:#bfbf00;stroke:#bfbf00;\" x=\"252.003252\" xlink:href=\"#m1b36f98a7b\" y=\"213.949142\"/>\r\n     <use style=\"fill:#bfbf00;stroke:#bfbf00;\" x=\"251.375791\" xlink:href=\"#m1b36f98a7b\" y=\"66.884149\"/>\r\n     <use style=\"fill:#bfbf00;stroke:#bfbf00;\" x=\"250.74833\" xlink:href=\"#m1b36f98a7b\" y=\"233.732495\"/>\r\n     <use style=\"fill:#bfbf00;stroke:#bfbf00;\" x=\"250.120869\" xlink:href=\"#m1b36f98a7b\" y=\"247.882178\"/>\r\n     <use style=\"fill:#bfbf00;stroke:#bfbf00;\" x=\"248.865946\" xlink:href=\"#m1b36f98a7b\" y=\"37.307381\"/>\r\n     <use style=\"fill:#bfbf00;stroke:#bfbf00;\" x=\"248.238485\" xlink:href=\"#m1b36f98a7b\" y=\"268.320609\"/>\r\n     <use style=\"fill:#bfbf00;stroke:#bfbf00;\" x=\"247.611024\" xlink:href=\"#m1b36f98a7b\" y=\"204.319496\"/>\r\n     <use style=\"fill:#bfbf00;stroke:#bfbf00;\" x=\"246.983563\" xlink:href=\"#m1b36f98a7b\" y=\"51.293295\"/>\r\n     <use style=\"fill:#bfbf00;stroke:#bfbf00;\" x=\"246.983563\" xlink:href=\"#m1b36f98a7b\" y=\"80.739047\"/>\r\n     <use style=\"fill:#bfbf00;stroke:#bfbf00;\" x=\"246.983563\" xlink:href=\"#m1b36f98a7b\" y=\"110.053784\"/>\r\n     <use style=\"fill:#bfbf00;stroke:#bfbf00;\" x=\"245.72864\" xlink:href=\"#m1b36f98a7b\" y=\"267.960316\"/>\r\n     <use style=\"fill:#bfbf00;stroke:#bfbf00;\" x=\"245.101179\" xlink:href=\"#m1b36f98a7b\" y=\"309.066455\"/>\r\n     <use style=\"fill:#bfbf00;stroke:#bfbf00;\" x=\"244.473718\" xlink:href=\"#m1b36f98a7b\" y=\"274.609357\"/>\r\n     <use style=\"fill:#bfbf00;stroke:#bfbf00;\" x=\"244.473718\" xlink:href=\"#m1b36f98a7b\" y=\"297.50433\"/>\r\n     <use style=\"fill:#bfbf00;stroke:#bfbf00;\" x=\"244.473718\" xlink:href=\"#m1b36f98a7b\" y=\"270.35135\"/>\r\n     <use style=\"fill:#bfbf00;stroke:#bfbf00;\" x=\"244.473718\" xlink:href=\"#m1b36f98a7b\" y=\"76.874087\"/>\r\n     <use style=\"fill:#bfbf00;stroke:#bfbf00;\" x=\"243.846256\" xlink:href=\"#m1b36f98a7b\" y=\"319.121901\"/>\r\n     <use style=\"fill:#bfbf00;stroke:#bfbf00;\" x=\"243.846256\" xlink:href=\"#m1b36f98a7b\" y=\"229.736519\"/>\r\n     <use style=\"fill:#bfbf00;stroke:#bfbf00;\" x=\"243.218795\" xlink:href=\"#m1b36f98a7b\" y=\"198.358287\"/>\r\n     <use style=\"fill:#bfbf00;stroke:#bfbf00;\" x=\"241.963873\" xlink:href=\"#m1b36f98a7b\" y=\"225.085466\"/>\r\n     <use style=\"fill:#bfbf00;stroke:#bfbf00;\" x=\"241.963873\" xlink:href=\"#m1b36f98a7b\" y=\"250.404228\"/>\r\n     <use style=\"fill:#bfbf00;stroke:#bfbf00;\" x=\"241.963873\" xlink:href=\"#m1b36f98a7b\" y=\"291.215582\"/>\r\n     <use style=\"fill:#bfbf00;stroke:#bfbf00;\" x=\"241.336412\" xlink:href=\"#m1b36f98a7b\" y=\"168.748765\"/>\r\n     <use style=\"fill:#bfbf00;stroke:#bfbf00;\" x=\"241.336412\" xlink:href=\"#m1b36f98a7b\" y=\"246.178975\"/>\r\n     <use style=\"fill:#bfbf00;stroke:#bfbf00;\" x=\"240.70895\" xlink:href=\"#m1b36f98a7b\" y=\"233.27394\"/>\r\n     <use style=\"fill:#bfbf00;stroke:#bfbf00;\" x=\"240.70895\" xlink:href=\"#m1b36f98a7b\" y=\"327.539652\"/>\r\n     <use style=\"fill:#bfbf00;stroke:#bfbf00;\" x=\"240.70895\" xlink:href=\"#m1b36f98a7b\" y=\"81.263109\"/>\r\n     <use style=\"fill:#bfbf00;stroke:#bfbf00;\" x=\"240.081489\" xlink:href=\"#m1b36f98a7b\" y=\"257.348054\"/>\r\n     <use style=\"fill:#bfbf00;stroke:#bfbf00;\" x=\"240.081489\" xlink:href=\"#m1b36f98a7b\" y=\"319.744225\"/>\r\n     <use style=\"fill:#bfbf00;stroke:#bfbf00;\" x=\"240.081489\" xlink:href=\"#m1b36f98a7b\" y=\"287.514392\"/>\r\n     <use style=\"fill:#bfbf00;stroke:#bfbf00;\" x=\"239.454028\" xlink:href=\"#m1b36f98a7b\" y=\"274.314572\"/>\r\n     <use style=\"fill:#bfbf00;stroke:#bfbf00;\" x=\"239.454028\" xlink:href=\"#m1b36f98a7b\" y=\"332.780276\"/>\r\n     <use style=\"fill:#bfbf00;stroke:#bfbf00;\" x=\"238.826567\" xlink:href=\"#m1b36f98a7b\" y=\"355.183941\"/>\r\n     <use style=\"fill:#bfbf00;stroke:#bfbf00;\" x=\"238.826567\" xlink:href=\"#m1b36f98a7b\" y=\"220.892968\"/>\r\n     <use style=\"fill:#bfbf00;stroke:#bfbf00;\" x=\"238.199106\" xlink:href=\"#m1b36f98a7b\" y=\"295.866635\"/>\r\n     <use style=\"fill:#bfbf00;stroke:#bfbf00;\" x=\"238.199106\" xlink:href=\"#m1b36f98a7b\" y=\"295.178803\"/>\r\n     <use style=\"fill:#bfbf00;stroke:#bfbf00;\" x=\"238.199106\" xlink:href=\"#m1b36f98a7b\" y=\"255.513835\"/>\r\n     <use style=\"fill:#bfbf00;stroke:#bfbf00;\" x=\"237.571644\" xlink:href=\"#m1b36f98a7b\" y=\"296.619975\"/>\r\n     <use style=\"fill:#bfbf00;stroke:#bfbf00;\" x=\"236.944183\" xlink:href=\"#m1b36f98a7b\" y=\"240.25052\"/>\r\n     <use style=\"fill:#bfbf00;stroke:#bfbf00;\" x=\"236.944183\" xlink:href=\"#m1b36f98a7b\" y=\"228.491871\"/>\r\n     <use style=\"fill:#bfbf00;stroke:#bfbf00;\" x=\"236.944183\" xlink:href=\"#m1b36f98a7b\" y=\"279.948242\"/>\r\n     <use style=\"fill:#bfbf00;stroke:#bfbf00;\" x=\"236.316722\" xlink:href=\"#m1b36f98a7b\" y=\"315.420711\"/>\r\n     <use style=\"fill:#bfbf00;stroke:#bfbf00;\" x=\"235.689261\" xlink:href=\"#m1b36f98a7b\" y=\"236.320052\"/>\r\n     <use style=\"fill:#bfbf00;stroke:#bfbf00;\" x=\"235.689261\" xlink:href=\"#m1b36f98a7b\" y=\"207.431116\"/>\r\n     <use style=\"fill:#bfbf00;stroke:#bfbf00;\" x=\"233.806877\" xlink:href=\"#m1b36f98a7b\" y=\"220.336151\"/>\r\n     <use style=\"fill:#bfbf00;stroke:#bfbf00;\" x=\"232.551955\" xlink:href=\"#m1b36f98a7b\" y=\"321.709459\"/>\r\n     <use style=\"fill:#bfbf00;stroke:#bfbf00;\" x=\"232.551955\" xlink:href=\"#m1b36f98a7b\" y=\"188.139072\"/>\r\n     <use style=\"fill:#bfbf00;stroke:#bfbf00;\" x=\"231.297032\" xlink:href=\"#m1b36f98a7b\" y=\"254.105418\"/>\r\n     <use style=\"fill:#bfbf00;stroke:#bfbf00;\" x=\"231.297032\" xlink:href=\"#m1b36f98a7b\" y=\"257.15153\"/>\r\n     <use style=\"fill:#bfbf00;stroke:#bfbf00;\" x=\"230.669571\" xlink:href=\"#m1b36f98a7b\" y=\"196.622331\"/>\r\n     <use style=\"fill:#bfbf00;stroke:#bfbf00;\" x=\"230.669571\" xlink:href=\"#m1b36f98a7b\" y=\"333.893908\"/>\r\n     <use style=\"fill:#bfbf00;stroke:#bfbf00;\" x=\"230.669571\" xlink:href=\"#m1b36f98a7b\" y=\"316.043035\"/>\r\n     <use style=\"fill:#bfbf00;stroke:#bfbf00;\" x=\"230.04211\" xlink:href=\"#m1b36f98a7b\" y=\"219.288027\"/>\r\n     <use style=\"fill:#bfbf00;stroke:#bfbf00;\" x=\"230.04211\" xlink:href=\"#m1b36f98a7b\" y=\"248.897548\"/>\r\n     <use style=\"fill:#bfbf00;stroke:#bfbf00;\" x=\"230.04211\" xlink:href=\"#m1b36f98a7b\" y=\"301.500305\"/>\r\n     <use style=\"fill:#bfbf00;stroke:#bfbf00;\" x=\"229.414649\" xlink:href=\"#m1b36f98a7b\" y=\"205.400375\"/>\r\n     <use style=\"fill:#bfbf00;stroke:#bfbf00;\" x=\"229.414649\" xlink:href=\"#m1b36f98a7b\" y=\"319.383932\"/>\r\n     <use style=\"fill:#bfbf00;stroke:#bfbf00;\" x=\"228.787188\" xlink:href=\"#m1b36f98a7b\" y=\"250.764521\"/>\r\n     <use style=\"fill:#bfbf00;stroke:#bfbf00;\" x=\"228.787188\" xlink:href=\"#m1b36f98a7b\" y=\"275.657481\"/>\r\n     <use style=\"fill:#bfbf00;stroke:#bfbf00;\" x=\"228.159726\" xlink:href=\"#m1b36f98a7b\" y=\"255.251804\"/>\r\n     <use style=\"fill:#bfbf00;stroke:#bfbf00;\" x=\"228.159726\" xlink:href=\"#m1b36f98a7b\" y=\"187.320224\"/>\r\n     <use style=\"fill:#bfbf00;stroke:#bfbf00;\" x=\"228.159726\" xlink:href=\"#m1b36f98a7b\" y=\"301.238274\"/>\r\n     <use style=\"fill:#bfbf00;stroke:#bfbf00;\" x=\"227.532265\" xlink:href=\"#m1b36f98a7b\" y=\"280.112011\"/>\r\n     <use style=\"fill:#bfbf00;stroke:#bfbf00;\" x=\"227.532265\" xlink:href=\"#m1b36f98a7b\" y=\"338.708731\"/>\r\n     <use style=\"fill:#bfbf00;stroke:#bfbf00;\" x=\"227.532265\" xlink:href=\"#m1b36f98a7b\" y=\"40.451755\"/>\r\n     <use style=\"fill:#bfbf00;stroke:#bfbf00;\" x=\"227.532265\" xlink:href=\"#m1b36f98a7b\" y=\"239.464426\"/>\r\n     <use style=\"fill:#bfbf00;stroke:#bfbf00;\" x=\"226.904804\" xlink:href=\"#m1b36f98a7b\" y=\"279.817226\"/>\r\n     <use style=\"fill:#bfbf00;stroke:#bfbf00;\" x=\"226.904804\" xlink:href=\"#m1b36f98a7b\" y=\"288.791794\"/>\r\n     <use style=\"fill:#bfbf00;stroke:#bfbf00;\" x=\"225.649882\" xlink:href=\"#m1b36f98a7b\" y=\"295.964897\"/>\r\n     <use style=\"fill:#bfbf00;stroke:#bfbf00;\" x=\"225.649882\" xlink:href=\"#m1b36f98a7b\" y=\"342.704706\"/>\r\n     <use style=\"fill:#bfbf00;stroke:#bfbf00;\" x=\"225.649882\" xlink:href=\"#m1b36f98a7b\" y=\"326.163989\"/>\r\n     <use style=\"fill:#bfbf00;stroke:#bfbf00;\" x=\"225.649882\" xlink:href=\"#m1b36f98a7b\" y=\"302.974231\"/>\r\n     <use style=\"fill:#bfbf00;stroke:#bfbf00;\" x=\"225.02242\" xlink:href=\"#m1b36f98a7b\" y=\"344.473417\"/>\r\n     <use style=\"fill:#bfbf00;stroke:#bfbf00;\" x=\"225.02242\" xlink:href=\"#m1b36f98a7b\" y=\"372.41249\"/>\r\n     <use style=\"fill:#bfbf00;stroke:#bfbf00;\" x=\"225.02242\" xlink:href=\"#m1b36f98a7b\" y=\"190.824891\"/>\r\n     <use style=\"fill:#bfbf00;stroke:#bfbf00;\" x=\"225.02242\" xlink:href=\"#m1b36f98a7b\" y=\"340.575703\"/>\r\n     <use style=\"fill:#bfbf00;stroke:#bfbf00;\" x=\"225.02242\" xlink:href=\"#m1b36f98a7b\" y=\"340.313672\"/>\r\n     <use style=\"fill:#bfbf00;stroke:#bfbf00;\" x=\"225.02242\" xlink:href=\"#m1b36f98a7b\" y=\"354.692632\"/>\r\n     <use style=\"fill:#bfbf00;stroke:#bfbf00;\" x=\"225.02242\" xlink:href=\"#m1b36f98a7b\" y=\"338.151915\"/>\r\n     <use style=\"fill:#bfbf00;stroke:#bfbf00;\" x=\"225.02242\" xlink:href=\"#m1b36f98a7b\" y=\"343.851093\"/>\r\n     <use style=\"fill:#bfbf00;stroke:#bfbf00;\" x=\"225.02242\" xlink:href=\"#m1b36f98a7b\" y=\"292.198199\"/>\r\n     <use style=\"fill:#bfbf00;stroke:#bfbf00;\" x=\"224.394959\" xlink:href=\"#m1b36f98a7b\" y=\"246.47376\"/>\r\n     <use style=\"fill:#bfbf00;stroke:#bfbf00;\" x=\"224.394959\" xlink:href=\"#m1b36f98a7b\" y=\"358.328315\"/>\r\n     <use style=\"fill:#bfbf00;stroke:#bfbf00;\" x=\"224.394959\" xlink:href=\"#m1b36f98a7b\" y=\"167.798902\"/>\r\n     <use style=\"fill:#bfbf00;stroke:#bfbf00;\" x=\"223.767498\" xlink:href=\"#m1b36f98a7b\" y=\"265.831313\"/>\r\n     <use style=\"fill:#bfbf00;stroke:#bfbf00;\" x=\"223.767498\" xlink:href=\"#m1b36f98a7b\" y=\"288.071208\"/>\r\n     <use style=\"fill:#bfbf00;stroke:#bfbf00;\" x=\"223.767498\" xlink:href=\"#m1b36f98a7b\" y=\"342.835722\"/>\r\n     <use style=\"fill:#bfbf00;stroke:#bfbf00;\" x=\"223.140037\" xlink:href=\"#m1b36f98a7b\" y=\"96.722948\"/>\r\n     <use style=\"fill:#bfbf00;stroke:#bfbf00;\" x=\"223.140037\" xlink:href=\"#m1b36f98a7b\" y=\"256.136159\"/>\r\n     <use style=\"fill:#bfbf00;stroke:#bfbf00;\" x=\"223.140037\" xlink:href=\"#m1b36f98a7b\" y=\"289.839918\"/>\r\n     <use style=\"fill:#bfbf00;stroke:#bfbf00;\" x=\"222.512575\" xlink:href=\"#m1b36f98a7b\" y=\"247.751162\"/>\r\n     <use style=\"fill:#bfbf00;stroke:#bfbf00;\" x=\"222.512575\" xlink:href=\"#m1b36f98a7b\" y=\"371.06958\"/>\r\n     <use style=\"fill:#bfbf00;stroke:#bfbf00;\" x=\"222.512575\" xlink:href=\"#m1b36f98a7b\" y=\"274.740372\"/>\r\n     <use style=\"fill:#bfbf00;stroke:#bfbf00;\" x=\"222.512575\" xlink:href=\"#m1b36f98a7b\" y=\"323.609185\"/>\r\n     <use style=\"fill:#bfbf00;stroke:#bfbf00;\" x=\"221.885114\" xlink:href=\"#m1b36f98a7b\" y=\"256.823991\"/>\r\n     <use style=\"fill:#bfbf00;stroke:#bfbf00;\" x=\"221.257653\" xlink:href=\"#m1b36f98a7b\" y=\"230.424351\"/>\r\n     <use style=\"fill:#bfbf00;stroke:#bfbf00;\" x=\"221.257653\" xlink:href=\"#m1b36f98a7b\" y=\"347.94533\"/>\r\n     <use style=\"fill:#bfbf00;stroke:#bfbf00;\" x=\"221.257653\" xlink:href=\"#m1b36f98a7b\" y=\"351.810289\"/>\r\n     <use style=\"fill:#bfbf00;stroke:#bfbf00;\" x=\"221.257653\" xlink:href=\"#m1b36f98a7b\" y=\"286.957575\"/>\r\n     <use style=\"fill:#bfbf00;stroke:#bfbf00;\" x=\"221.257653\" xlink:href=\"#m1b36f98a7b\" y=\"367.20462\"/>\r\n     <use style=\"fill:#bfbf00;stroke:#bfbf00;\" x=\"221.257653\" xlink:href=\"#m1b36f98a7b\" y=\"324.49354\"/>\r\n     <use style=\"fill:#bfbf00;stroke:#bfbf00;\" x=\"220.630192\" xlink:href=\"#m1b36f98a7b\" y=\"265.438266\"/>\r\n     <use style=\"fill:#bfbf00;stroke:#bfbf00;\" x=\"220.630192\" xlink:href=\"#m1b36f98a7b\" y=\"273.954279\"/>\r\n     <use style=\"fill:#bfbf00;stroke:#bfbf00;\" x=\"220.002731\" xlink:href=\"#m1b36f98a7b\" y=\"136.682701\"/>\r\n     <use style=\"fill:#bfbf00;stroke:#bfbf00;\" x=\"220.002731\" xlink:href=\"#m1b36f98a7b\" y=\"250.600751\"/>\r\n     <use style=\"fill:#bfbf00;stroke:#bfbf00;\" x=\"219.375269\" xlink:href=\"#m1b36f98a7b\" y=\"286.23699\"/>\r\n     <use style=\"fill:#bfbf00;stroke:#bfbf00;\" x=\"219.375269\" xlink:href=\"#m1b36f98a7b\" y=\"248.766533\"/>\r\n     <use style=\"fill:#bfbf00;stroke:#bfbf00;\" x=\"219.375269\" xlink:href=\"#m1b36f98a7b\" y=\"292.918785\"/>\r\n     <use style=\"fill:#bfbf00;stroke:#bfbf00;\" x=\"218.747808\" xlink:href=\"#m1b36f98a7b\" y=\"244.148234\"/>\r\n     <use style=\"fill:#bfbf00;stroke:#bfbf00;\" x=\"218.747808\" xlink:href=\"#m1b36f98a7b\" y=\"221.220506\"/>\r\n     <use style=\"fill:#bfbf00;stroke:#bfbf00;\" x=\"218.120347\" xlink:href=\"#m1b36f98a7b\" y=\"327.801684\"/>\r\n     <use style=\"fill:#bfbf00;stroke:#bfbf00;\" x=\"218.120347\" xlink:href=\"#m1b36f98a7b\" y=\"313.520985\"/>\r\n     <use style=\"fill:#bfbf00;stroke:#bfbf00;\" x=\"217.492886\" xlink:href=\"#m1b36f98a7b\" y=\"218.207148\"/>\r\n     <use style=\"fill:#bfbf00;stroke:#bfbf00;\" x=\"217.492886\" xlink:href=\"#m1b36f98a7b\" y=\"215.914375\"/>\r\n     <use style=\"fill:#bfbf00;stroke:#bfbf00;\" x=\"217.492886\" xlink:href=\"#m1b36f98a7b\" y=\"168.126441\"/>\r\n     <use style=\"fill:#bfbf00;stroke:#bfbf00;\" x=\"216.865425\" xlink:href=\"#m1b36f98a7b\" y=\"210.477229\"/>\r\n     <use style=\"fill:#bfbf00;stroke:#bfbf00;\" x=\"216.237963\" xlink:href=\"#m1b36f98a7b\" y=\"346.929959\"/>\r\n     <use style=\"fill:#bfbf00;stroke:#bfbf00;\" x=\"216.237963\" xlink:href=\"#m1b36f98a7b\" y=\"190.333583\"/>\r\n     <use style=\"fill:#bfbf00;stroke:#bfbf00;\" x=\"216.237963\" xlink:href=\"#m1b36f98a7b\" y=\"263.014478\"/>\r\n     <use style=\"fill:#bfbf00;stroke:#bfbf00;\" x=\"215.610502\" xlink:href=\"#m1b36f98a7b\" y=\"225.70779\"/>\r\n     <use style=\"fill:#bfbf00;stroke:#bfbf00;\" x=\"214.983041\" xlink:href=\"#m1b36f98a7b\" y=\"308.509639\"/>\r\n     <use style=\"fill:#bfbf00;stroke:#bfbf00;\" x=\"214.35558\" xlink:href=\"#m1b36f98a7b\" y=\"325.050356\"/>\r\n     <use style=\"fill:#bfbf00;stroke:#bfbf00;\" x=\"214.35558\" xlink:href=\"#m1b36f98a7b\" y=\"299.174779\"/>\r\n     <use style=\"fill:#bfbf00;stroke:#bfbf00;\" x=\"213.728119\" xlink:href=\"#m1b36f98a7b\" y=\"329.144593\"/>\r\n     <use style=\"fill:#bfbf00;stroke:#bfbf00;\" x=\"213.728119\" xlink:href=\"#m1b36f98a7b\" y=\"306.937452\"/>\r\n     <use style=\"fill:#bfbf00;stroke:#bfbf00;\" x=\"213.100657\" xlink:href=\"#m1b36f98a7b\" y=\"244.377511\"/>\r\n     <use style=\"fill:#bfbf00;stroke:#bfbf00;\" x=\"213.100657\" xlink:href=\"#m1b36f98a7b\" y=\"319.416686\"/>\r\n     <use style=\"fill:#bfbf00;stroke:#bfbf00;\" x=\"211.845735\" xlink:href=\"#m1b36f98a7b\" y=\"128.920028\"/>\r\n     <use style=\"fill:#bfbf00;stroke:#bfbf00;\" x=\"211.845735\" xlink:href=\"#m1b36f98a7b\" y=\"225.019958\"/>\r\n     <use style=\"fill:#bfbf00;stroke:#bfbf00;\" x=\"211.845735\" xlink:href=\"#m1b36f98a7b\" y=\"279.129394\"/>\r\n     <use style=\"fill:#bfbf00;stroke:#bfbf00;\" x=\"211.218274\" xlink:href=\"#m1b36f98a7b\" y=\"297.078529\"/>\r\n     <use style=\"fill:#bfbf00;stroke:#bfbf00;\" x=\"210.590813\" xlink:href=\"#m1b36f98a7b\" y=\"181.391769\"/>\r\n     <use style=\"fill:#bfbf00;stroke:#bfbf00;\" x=\"210.590813\" xlink:href=\"#m1b36f98a7b\" y=\"324.264263\"/>\r\n     <use style=\"fill:#bfbf00;stroke:#bfbf00;\" x=\"209.963351\" xlink:href=\"#m1b36f98a7b\" y=\"162.132478\"/>\r\n     <use style=\"fill:#bfbf00;stroke:#bfbf00;\" x=\"209.963351\" xlink:href=\"#m1b36f98a7b\" y=\"138.254888\"/>\r\n     <use style=\"fill:#bfbf00;stroke:#bfbf00;\" x=\"209.33589\" xlink:href=\"#m1b36f98a7b\" y=\"239.824719\"/>\r\n     <use style=\"fill:#bfbf00;stroke:#bfbf00;\" x=\"209.33589\" xlink:href=\"#m1b36f98a7b\" y=\"333.4026\"/>\r\n     <use style=\"fill:#bfbf00;stroke:#bfbf00;\" x=\"208.708429\" xlink:href=\"#m1b36f98a7b\" y=\"336.841759\"/>\r\n     <use style=\"fill:#bfbf00;stroke:#bfbf00;\" x=\"208.080968\" xlink:href=\"#m1b36f98a7b\" y=\"228.557379\"/>\r\n     <use style=\"fill:#bfbf00;stroke:#bfbf00;\" x=\"207.453507\" xlink:href=\"#m1b36f98a7b\" y=\"312.669384\"/>\r\n     <use style=\"fill:#bfbf00;stroke:#bfbf00;\" x=\"207.453507\" xlink:href=\"#m1b36f98a7b\" y=\"320.726842\"/>\r\n     <use style=\"fill:#bfbf00;stroke:#bfbf00;\" x=\"206.826045\" xlink:href=\"#m1b36f98a7b\" y=\"269.827288\"/>\r\n     <use style=\"fill:#bfbf00;stroke:#bfbf00;\" x=\"206.826045\" xlink:href=\"#m1b36f98a7b\" y=\"214.342188\"/>\r\n     <use style=\"fill:#bfbf00;stroke:#bfbf00;\" x=\"206.198584\" xlink:href=\"#m1b36f98a7b\" y=\"321.840475\"/>\r\n     <use style=\"fill:#bfbf00;stroke:#bfbf00;\" x=\"206.198584\" xlink:href=\"#m1b36f98a7b\" y=\"336.645236\"/>\r\n     <use style=\"fill:#bfbf00;stroke:#bfbf00;\" x=\"205.571123\" xlink:href=\"#m1b36f98a7b\" y=\"280.01375\"/>\r\n     <use style=\"fill:#bfbf00;stroke:#bfbf00;\" x=\"204.943662\" xlink:href=\"#m1b36f98a7b\" y=\"338.086407\"/>\r\n     <use style=\"fill:#bfbf00;stroke:#bfbf00;\" x=\"204.943662\" xlink:href=\"#m1b36f98a7b\" y=\"304.153371\"/>\r\n     <use style=\"fill:#bfbf00;stroke:#bfbf00;\" x=\"204.943662\" xlink:href=\"#m1b36f98a7b\" y=\"163.180603\"/>\r\n     <use style=\"fill:#bfbf00;stroke:#bfbf00;\" x=\"204.316201\" xlink:href=\"#m1b36f98a7b\" y=\"362.226028\"/>\r\n     <use style=\"fill:#bfbf00;stroke:#bfbf00;\" x=\"204.316201\" xlink:href=\"#m1b36f98a7b\" y=\"274.380079\"/>\r\n     <use style=\"fill:#bfbf00;stroke:#bfbf00;\" x=\"204.316201\" xlink:href=\"#m1b36f98a7b\" y=\"124.137959\"/>\r\n     <use style=\"fill:#bfbf00;stroke:#bfbf00;\" x=\"203.688739\" xlink:href=\"#m1b36f98a7b\" y=\"281.913476\"/>\r\n     <use style=\"fill:#bfbf00;stroke:#bfbf00;\" x=\"203.688739\" xlink:href=\"#m1b36f98a7b\" y=\"116.277024\"/>\r\n     <use style=\"fill:#bfbf00;stroke:#bfbf00;\" x=\"202.433817\" xlink:href=\"#m1b36f98a7b\" y=\"307.068468\"/>\r\n     <use style=\"fill:#bfbf00;stroke:#bfbf00;\" x=\"201.806356\" xlink:href=\"#m1b36f98a7b\" y=\"315.486219\"/>\r\n     <use style=\"fill:#bfbf00;stroke:#bfbf00;\" x=\"201.178894\" xlink:href=\"#m1b36f98a7b\" y=\"184.503389\"/>\r\n     <use style=\"fill:#bfbf00;stroke:#bfbf00;\" x=\"201.178894\" xlink:href=\"#m1b36f98a7b\" y=\"191.447215\"/>\r\n     <use style=\"fill:#bfbf00;stroke:#bfbf00;\" x=\"201.178894\" xlink:href=\"#m1b36f98a7b\" y=\"327.801684\"/>\r\n     <use style=\"fill:#bfbf00;stroke:#bfbf00;\" x=\"200.551433\" xlink:href=\"#m1b36f98a7b\" y=\"313.357216\"/>\r\n     <use style=\"fill:#bfbf00;stroke:#bfbf00;\" x=\"200.551433\" xlink:href=\"#m1b36f98a7b\" y=\"246.04796\"/>\r\n     <use style=\"fill:#bfbf00;stroke:#bfbf00;\" x=\"199.296511\" xlink:href=\"#m1b36f98a7b\" y=\"336.153927\"/>\r\n     <use style=\"fill:#bfbf00;stroke:#bfbf00;\" x=\"199.296511\" xlink:href=\"#m1b36f98a7b\" y=\"342.409921\"/>\r\n     <use style=\"fill:#bfbf00;stroke:#bfbf00;\" x=\"199.296511\" xlink:href=\"#m1b36f98a7b\" y=\"354.397847\"/>\r\n     <use style=\"fill:#bfbf00;stroke:#bfbf00;\" x=\"198.66905\" xlink:href=\"#m1b36f98a7b\" y=\"43.890914\"/>\r\n     <use style=\"fill:#bfbf00;stroke:#bfbf00;\" x=\"198.66905\" xlink:href=\"#m1b36f98a7b\" y=\"362.455306\"/>\r\n     <use style=\"fill:#bfbf00;stroke:#bfbf00;\" x=\"197.414127\" xlink:href=\"#m1b36f98a7b\" y=\"328.19473\"/>\r\n     <use style=\"fill:#bfbf00;stroke:#bfbf00;\" x=\"197.414127\" xlink:href=\"#m1b36f98a7b\" y=\"325.377895\"/>\r\n     <use style=\"fill:#bfbf00;stroke:#bfbf00;\" x=\"196.786666\" xlink:href=\"#m1b36f98a7b\" y=\"342.540937\"/>\r\n     <use style=\"fill:#bfbf00;stroke:#bfbf00;\" x=\"196.786666\" xlink:href=\"#m1b36f98a7b\" y=\"309.36124\"/>\r\n     <use style=\"fill:#bfbf00;stroke:#bfbf00;\" x=\"195.531744\" xlink:href=\"#m1b36f98a7b\" y=\"364.617063\"/>\r\n     <use style=\"fill:#bfbf00;stroke:#bfbf00;\" x=\"195.531744\" xlink:href=\"#m1b36f98a7b\" y=\"328.817054\"/>\r\n     <use style=\"fill:#bfbf00;stroke:#bfbf00;\" x=\"194.904282\" xlink:href=\"#m1b36f98a7b\" y=\"325.705434\"/>\r\n     <use style=\"fill:#bfbf00;stroke:#bfbf00;\" x=\"194.904282\" xlink:href=\"#m1b36f98a7b\" y=\"185.551514\"/>\r\n     <use style=\"fill:#bfbf00;stroke:#bfbf00;\" x=\"193.021899\" xlink:href=\"#m1b36f98a7b\" y=\"330.684026\"/>\r\n     <use style=\"fill:#bfbf00;stroke:#bfbf00;\" x=\"192.394438\" xlink:href=\"#m1b36f98a7b\" y=\"246.539268\"/>\r\n     <use style=\"fill:#bfbf00;stroke:#bfbf00;\" x=\"191.766976\" xlink:href=\"#m1b36f98a7b\" y=\"286.695544\"/>\r\n     <use style=\"fill:#bfbf00;stroke:#bfbf00;\" x=\"191.139515\" xlink:href=\"#m1b36f98a7b\" y=\"331.306351\"/>\r\n     <use style=\"fill:#bfbf00;stroke:#bfbf00;\" x=\"191.139515\" xlink:href=\"#m1b36f98a7b\" y=\"320.432057\"/>\r\n     <use style=\"fill:#bfbf00;stroke:#bfbf00;\" x=\"190.512054\" xlink:href=\"#m1b36f98a7b\" y=\"315.912019\"/>\r\n     <use style=\"fill:#bfbf00;stroke:#bfbf00;\" x=\"189.884593\" xlink:href=\"#m1b36f98a7b\" y=\"258.265163\"/>\r\n     <use style=\"fill:#bfbf00;stroke:#bfbf00;\" x=\"188.62967\" xlink:href=\"#m1b36f98a7b\" y=\"341.951367\"/>\r\n     <use style=\"fill:#bfbf00;stroke:#bfbf00;\" x=\"188.62967\" xlink:href=\"#m1b36f98a7b\" y=\"293.737632\"/>\r\n     <use style=\"fill:#bfbf00;stroke:#bfbf00;\" x=\"188.62967\" xlink:href=\"#m1b36f98a7b\" y=\"354.234078\"/>\r\n     <use style=\"fill:#bfbf00;stroke:#bfbf00;\" x=\"188.002209\" xlink:href=\"#m1b36f98a7b\" y=\"286.335251\"/>\r\n     <use style=\"fill:#bfbf00;stroke:#bfbf00;\" x=\"188.002209\" xlink:href=\"#m1b36f98a7b\" y=\"324.297017\"/>\r\n     <use style=\"fill:#bfbf00;stroke:#bfbf00;\" x=\"187.374748\" xlink:href=\"#m1b36f98a7b\" y=\"305.856573\"/>\r\n     <use style=\"fill:#bfbf00;stroke:#bfbf00;\" x=\"187.374748\" xlink:href=\"#m1b36f98a7b\" y=\"297.700853\"/>\r\n     <use style=\"fill:#bfbf00;stroke:#bfbf00;\" x=\"187.374748\" xlink:href=\"#m1b36f98a7b\" y=\"311.064443\"/>\r\n     <use style=\"fill:#bfbf00;stroke:#bfbf00;\" x=\"186.747287\" xlink:href=\"#m1b36f98a7b\" y=\"347.94533\"/>\r\n     <use style=\"fill:#bfbf00;stroke:#bfbf00;\" x=\"186.119826\" xlink:href=\"#m1b36f98a7b\" y=\"255.743113\"/>\r\n     <use style=\"fill:#bfbf00;stroke:#bfbf00;\" x=\"186.119826\" xlink:href=\"#m1b36f98a7b\" y=\"300.059134\"/>\r\n     <use style=\"fill:#bfbf00;stroke:#bfbf00;\" x=\"186.119826\" xlink:href=\"#m1b36f98a7b\" y=\"336.121173\"/>\r\n     <use style=\"fill:#bfbf00;stroke:#bfbf00;\" x=\"185.492364\" xlink:href=\"#m1b36f98a7b\" y=\"344.899217\"/>\r\n     <use style=\"fill:#bfbf00;stroke:#bfbf00;\" x=\"185.492364\" xlink:href=\"#m1b36f98a7b\" y=\"317.811745\"/>\r\n     <use style=\"fill:#bfbf00;stroke:#bfbf00;\" x=\"185.492364\" xlink:href=\"#m1b36f98a7b\" y=\"223.873572\"/>\r\n     <use style=\"fill:#bfbf00;stroke:#bfbf00;\" x=\"184.864903\" xlink:href=\"#m1b36f98a7b\" y=\"320.497565\"/>\r\n     <use style=\"fill:#bfbf00;stroke:#bfbf00;\" x=\"184.864903\" xlink:href=\"#m1b36f98a7b\" y=\"328.620531\"/>\r\n     <use style=\"fill:#bfbf00;stroke:#bfbf00;\" x=\"184.237442\" xlink:href=\"#m1b36f98a7b\" y=\"301.631321\"/>\r\n     <use style=\"fill:#bfbf00;stroke:#bfbf00;\" x=\"183.609981\" xlink:href=\"#m1b36f98a7b\" y=\"217.093516\"/>\r\n     <use style=\"fill:#bfbf00;stroke:#bfbf00;\" x=\"182.982519\" xlink:href=\"#m1b36f98a7b\" y=\"309.426748\"/>\r\n     <use style=\"fill:#bfbf00;stroke:#bfbf00;\" x=\"182.982519\" xlink:href=\"#m1b36f98a7b\" y=\"276.541837\"/>\r\n     <use style=\"fill:#bfbf00;stroke:#bfbf00;\" x=\"181.727597\" xlink:href=\"#m1b36f98a7b\" y=\"323.3144\"/>\r\n     <use style=\"fill:#bfbf00;stroke:#bfbf00;\" x=\"181.727597\" xlink:href=\"#m1b36f98a7b\" y=\"367.466652\"/>\r\n     <use style=\"fill:#bfbf00;stroke:#bfbf00;\" x=\"181.100136\" xlink:href=\"#m1b36f98a7b\" y=\"274.249064\"/>\r\n     <use style=\"fill:#bfbf00;stroke:#bfbf00;\" x=\"180.472675\" xlink:href=\"#m1b36f98a7b\" y=\"304.153371\"/>\r\n     <use style=\"fill:#bfbf00;stroke:#bfbf00;\" x=\"180.472675\" xlink:href=\"#m1b36f98a7b\" y=\"357.378452\"/>\r\n     <use style=\"fill:#bfbf00;stroke:#bfbf00;\" x=\"179.845213\" xlink:href=\"#m1b36f98a7b\" y=\"308.738916\"/>\r\n     <use style=\"fill:#bfbf00;stroke:#bfbf00;\" x=\"179.845213\" xlink:href=\"#m1b36f98a7b\" y=\"318.597839\"/>\r\n     <use style=\"fill:#bfbf00;stroke:#bfbf00;\" x=\"179.845213\" xlink:href=\"#m1b36f98a7b\" y=\"198.751334\"/>\r\n     <use style=\"fill:#bfbf00;stroke:#bfbf00;\" x=\"179.845213\" xlink:href=\"#m1b36f98a7b\" y=\"345.980096\"/>\r\n     <use style=\"fill:#bfbf00;stroke:#bfbf00;\" x=\"178.590291\" xlink:href=\"#m1b36f98a7b\" y=\"273.757755\"/>\r\n     <use style=\"fill:#bfbf00;stroke:#bfbf00;\" x=\"178.590291\" xlink:href=\"#m1b36f98a7b\" y=\"311.948798\"/>\r\n     <use style=\"fill:#bfbf00;stroke:#bfbf00;\" x=\"177.96283\" xlink:href=\"#m1b36f98a7b\" y=\"283.71494\"/>\r\n     <use style=\"fill:#bfbf00;stroke:#bfbf00;\" x=\"176.080446\" xlink:href=\"#m1b36f98a7b\" y=\"295.342573\"/>\r\n     <use style=\"fill:#bfbf00;stroke:#bfbf00;\" x=\"174.825524\" xlink:href=\"#m1b36f98a7b\" y=\"361.407181\"/>\r\n     <use style=\"fill:#bfbf00;stroke:#bfbf00;\" x=\"174.825524\" xlink:href=\"#m1b36f98a7b\" y=\"343.228769\"/>\r\n     <use style=\"fill:#bfbf00;stroke:#bfbf00;\" x=\"174.825524\" xlink:href=\"#m1b36f98a7b\" y=\"363.6672\"/>\r\n     <use style=\"fill:#bfbf00;stroke:#bfbf00;\" x=\"174.198063\" xlink:href=\"#m1b36f98a7b\" y=\"310.70415\"/>\r\n     <use style=\"fill:#bfbf00;stroke:#bfbf00;\" x=\"173.570601\" xlink:href=\"#m1b36f98a7b\" y=\"239.922981\"/>\r\n     <use style=\"fill:#bfbf00;stroke:#bfbf00;\" x=\"173.570601\" xlink:href=\"#m1b36f98a7b\" y=\"319.580456\"/>\r\n     <use style=\"fill:#bfbf00;stroke:#bfbf00;\" x=\"173.570601\" xlink:href=\"#m1b36f98a7b\" y=\"285.712927\"/>\r\n     <use style=\"fill:#bfbf00;stroke:#bfbf00;\" x=\"172.94314\" xlink:href=\"#m1b36f98a7b\" y=\"288.59527\"/>\r\n     <use style=\"fill:#bfbf00;stroke:#bfbf00;\" x=\"172.315679\" xlink:href=\"#m1b36f98a7b\" y=\"281.356659\"/>\r\n     <use style=\"fill:#bfbf00;stroke:#bfbf00;\" x=\"172.315679\" xlink:href=\"#m1b36f98a7b\" y=\"353.185953\"/>\r\n     <use style=\"fill:#bfbf00;stroke:#bfbf00;\" x=\"172.315679\" xlink:href=\"#m1b36f98a7b\" y=\"301.041751\"/>\r\n     <use style=\"fill:#bfbf00;stroke:#bfbf00;\" x=\"172.315679\" xlink:href=\"#m1b36f98a7b\" y=\"332.944045\"/>\r\n     <use style=\"fill:#bfbf00;stroke:#bfbf00;\" x=\"171.688218\" xlink:href=\"#m1b36f98a7b\" y=\"331.568382\"/>\r\n     <use style=\"fill:#bfbf00;stroke:#bfbf00;\" x=\"171.060757\" xlink:href=\"#m1b36f98a7b\" y=\"275.264435\"/>\r\n     <use style=\"fill:#bfbf00;stroke:#bfbf00;\" x=\"171.060757\" xlink:href=\"#m1b36f98a7b\" y=\"364.715324\"/>\r\n     <use style=\"fill:#bfbf00;stroke:#bfbf00;\" x=\"170.433295\" xlink:href=\"#m1b36f98a7b\" y=\"364.322278\"/>\r\n     <use style=\"fill:#bfbf00;stroke:#bfbf00;\" x=\"170.433295\" xlink:href=\"#m1b36f98a7b\" y=\"356.559604\"/>\r\n     <use style=\"fill:#bfbf00;stroke:#bfbf00;\" x=\"170.433295\" xlink:href=\"#m1b36f98a7b\" y=\"381.223288\"/>\r\n     <use style=\"fill:#bfbf00;stroke:#bfbf00;\" x=\"170.433295\" xlink:href=\"#m1b36f98a7b\" y=\"319.285671\"/>\r\n     <use style=\"fill:#bfbf00;stroke:#bfbf00;\" x=\"169.178373\" xlink:href=\"#m1b36f98a7b\" y=\"364.027493\"/>\r\n     <use style=\"fill:#bfbf00;stroke:#bfbf00;\" x=\"169.178373\" xlink:href=\"#m1b36f98a7b\" y=\"258.592702\"/>\r\n     <use style=\"fill:#bfbf00;stroke:#bfbf00;\" x=\"168.550912\" xlink:href=\"#m1b36f98a7b\" y=\"341.787597\"/>\r\n     <use style=\"fill:#bfbf00;stroke:#bfbf00;\" x=\"167.923451\" xlink:href=\"#m1b36f98a7b\" y=\"242.674308\"/>\r\n     <use style=\"fill:#bfbf00;stroke:#bfbf00;\" x=\"167.923451\" xlink:href=\"#m1b36f98a7b\" y=\"339.265547\"/>\r\n     <use style=\"fill:#bfbf00;stroke:#bfbf00;\" x=\"167.923451\" xlink:href=\"#m1b36f98a7b\" y=\"305.889327\"/>\r\n     <use style=\"fill:#bfbf00;stroke:#bfbf00;\" x=\"167.923451\" xlink:href=\"#m1b36f98a7b\" y=\"181.621046\"/>\r\n     <use style=\"fill:#bfbf00;stroke:#bfbf00;\" x=\"167.295989\" xlink:href=\"#m1b36f98a7b\" y=\"366.320265\"/>\r\n     <use style=\"fill:#bfbf00;stroke:#bfbf00;\" x=\"166.668528\" xlink:href=\"#m1b36f98a7b\" y=\"353.972046\"/>\r\n     <use style=\"fill:#bfbf00;stroke:#bfbf00;\" x=\"166.668528\" xlink:href=\"#m1b36f98a7b\" y=\"226.821423\"/>\r\n     <use style=\"fill:#bfbf00;stroke:#bfbf00;\" x=\"166.041067\" xlink:href=\"#m1b36f98a7b\" y=\"340.673965\"/>\r\n     <use style=\"fill:#bfbf00;stroke:#bfbf00;\" x=\"166.041067\" xlink:href=\"#m1b36f98a7b\" y=\"293.934155\"/>\r\n     <use style=\"fill:#bfbf00;stroke:#bfbf00;\" x=\"166.041067\" xlink:href=\"#m1b36f98a7b\" y=\"317.844499\"/>\r\n     <use style=\"fill:#bfbf00;stroke:#bfbf00;\" x=\"165.413606\" xlink:href=\"#m1b36f98a7b\" y=\"305.692804\"/>\r\n     <use style=\"fill:#bfbf00;stroke:#bfbf00;\" x=\"165.413606\" xlink:href=\"#m1b36f98a7b\" y=\"345.128495\"/>\r\n     <use style=\"fill:#bfbf00;stroke:#bfbf00;\" x=\"164.786145\" xlink:href=\"#m1b36f98a7b\" y=\"364.977355\"/>\r\n     <use style=\"fill:#bfbf00;stroke:#bfbf00;\" x=\"164.786145\" xlink:href=\"#m1b36f98a7b\" y=\"278.965625\"/>\r\n     <use style=\"fill:#bfbf00;stroke:#bfbf00;\" x=\"164.786145\" xlink:href=\"#m1b36f98a7b\" y=\"310.573134\"/>\r\n     <use style=\"fill:#bfbf00;stroke:#bfbf00;\" x=\"164.786145\" xlink:href=\"#m1b36f98a7b\" y=\"323.969478\"/>\r\n     <use style=\"fill:#bfbf00;stroke:#bfbf00;\" x=\"164.158683\" xlink:href=\"#m1b36f98a7b\" y=\"310.442119\"/>\r\n     <use style=\"fill:#bfbf00;stroke:#bfbf00;\" x=\"164.158683\" xlink:href=\"#m1b36f98a7b\" y=\"326.884575\"/>\r\n     <use style=\"fill:#bfbf00;stroke:#bfbf00;\" x=\"163.531222\" xlink:href=\"#m1b36f98a7b\" y=\"345.619803\"/>\r\n     <use style=\"fill:#bfbf00;stroke:#bfbf00;\" x=\"163.531222\" xlink:href=\"#m1b36f98a7b\" y=\"338.119161\"/>\r\n     <use style=\"fill:#bfbf00;stroke:#bfbf00;\" x=\"162.903761\" xlink:href=\"#m1b36f98a7b\" y=\"369.661163\"/>\r\n     <use style=\"fill:#bfbf00;stroke:#bfbf00;\" x=\"162.903761\" xlink:href=\"#m1b36f98a7b\" y=\"304.808449\"/>\r\n     <use style=\"fill:#bfbf00;stroke:#bfbf00;\" x=\"162.903761\" xlink:href=\"#m1b36f98a7b\" y=\"337.496837\"/>\r\n     <use style=\"fill:#bfbf00;stroke:#bfbf00;\" x=\"162.903761\" xlink:href=\"#m1b36f98a7b\" y=\"351.875797\"/>\r\n     <use style=\"fill:#bfbf00;stroke:#bfbf00;\" x=\"162.2763\" xlink:href=\"#m1b36f98a7b\" y=\"287.940192\"/>\r\n     <use style=\"fill:#bfbf00;stroke:#bfbf00;\" x=\"161.648838\" xlink:href=\"#m1b36f98a7b\" y=\"301.565813\"/>\r\n     <use style=\"fill:#bfbf00;stroke:#bfbf00;\" x=\"161.648838\" xlink:href=\"#m1b36f98a7b\" y=\"213.163048\"/>\r\n     <use style=\"fill:#bfbf00;stroke:#bfbf00;\" x=\"161.648838\" xlink:href=\"#m1b36f98a7b\" y=\"300.648704\"/>\r\n     <use style=\"fill:#bfbf00;stroke:#bfbf00;\" x=\"160.393916\" xlink:href=\"#m1b36f98a7b\" y=\"51.42431\"/>\r\n     <use style=\"fill:#bfbf00;stroke:#bfbf00;\" x=\"160.393916\" xlink:href=\"#m1b36f98a7b\" y=\"309.426748\"/>\r\n     <use style=\"fill:#bfbf00;stroke:#bfbf00;\" x=\"160.393916\" xlink:href=\"#m1b36f98a7b\" y=\"273.135431\"/>\r\n     <use style=\"fill:#bfbf00;stroke:#bfbf00;\" x=\"159.766455\" xlink:href=\"#m1b36f98a7b\" y=\"322.397291\"/>\r\n     <use style=\"fill:#bfbf00;stroke:#bfbf00;\" x=\"159.766455\" xlink:href=\"#m1b36f98a7b\" y=\"338.086407\"/>\r\n     <use style=\"fill:#bfbf00;stroke:#bfbf00;\" x=\"159.138994\" xlink:href=\"#m1b36f98a7b\" y=\"351.810289\"/>\r\n     <use style=\"fill:#bfbf00;stroke:#bfbf00;\" x=\"159.138994\" xlink:href=\"#m1b36f98a7b\" y=\"162.263494\"/>\r\n     <use style=\"fill:#bfbf00;stroke:#bfbf00;\" x=\"158.511532\" xlink:href=\"#m1b36f98a7b\" y=\"326.622543\"/>\r\n     <use style=\"fill:#bfbf00;stroke:#bfbf00;\" x=\"157.884071\" xlink:href=\"#m1b36f98a7b\" y=\"337.169298\"/>\r\n     <use style=\"fill:#bfbf00;stroke:#bfbf00;\" x=\"157.884071\" xlink:href=\"#m1b36f98a7b\" y=\"346.798943\"/>\r\n     <use style=\"fill:#bfbf00;stroke:#bfbf00;\" x=\"157.884071\" xlink:href=\"#m1b36f98a7b\" y=\"296.783744\"/>\r\n     <use style=\"fill:#bfbf00;stroke:#bfbf00;\" x=\"157.25661\" xlink:href=\"#m1b36f98a7b\" y=\"361.14515\"/>\r\n     <use style=\"fill:#bfbf00;stroke:#bfbf00;\" x=\"157.25661\" xlink:href=\"#m1b36f98a7b\" y=\"356.657866\"/>\r\n     <use style=\"fill:#bfbf00;stroke:#bfbf00;\" x=\"157.25661\" xlink:href=\"#m1b36f98a7b\" y=\"368.613038\"/>\r\n     <use style=\"fill:#bfbf00;stroke:#bfbf00;\" x=\"156.629149\" xlink:href=\"#m1b36f98a7b\" y=\"298.028392\"/>\r\n     <use style=\"fill:#bfbf00;stroke:#bfbf00;\" x=\"156.629149\" xlink:href=\"#m1b36f98a7b\" y=\"373.460615\"/>\r\n     <use style=\"fill:#bfbf00;stroke:#bfbf00;\" x=\"156.629149\" xlink:href=\"#m1b36f98a7b\" y=\"298.0939\"/>\r\n     <use style=\"fill:#bfbf00;stroke:#bfbf00;\" x=\"156.629149\" xlink:href=\"#m1b36f98a7b\" y=\"365.894465\"/>\r\n     <use style=\"fill:#bfbf00;stroke:#bfbf00;\" x=\"156.001688\" xlink:href=\"#m1b36f98a7b\" y=\"349.550271\"/>\r\n     <use style=\"fill:#bfbf00;stroke:#bfbf00;\" x=\"156.001688\" xlink:href=\"#m1b36f98a7b\" y=\"354.430601\"/>\r\n     <use style=\"fill:#bfbf00;stroke:#bfbf00;\" x=\"156.001688\" xlink:href=\"#m1b36f98a7b\" y=\"268.484378\"/>\r\n     <use style=\"fill:#bfbf00;stroke:#bfbf00;\" x=\"156.001688\" xlink:href=\"#m1b36f98a7b\" y=\"330.749534\"/>\r\n     <use style=\"fill:#bfbf00;stroke:#bfbf00;\" x=\"155.374226\" xlink:href=\"#m1b36f98a7b\" y=\"330.159964\"/>\r\n     <use style=\"fill:#bfbf00;stroke:#bfbf00;\" x=\"155.374226\" xlink:href=\"#m1b36f98a7b\" y=\"328.915316\"/>\r\n     <use style=\"fill:#bfbf00;stroke:#bfbf00;\" x=\"155.374226\" xlink:href=\"#m1b36f98a7b\" y=\"337.529591\"/>\r\n     <use style=\"fill:#bfbf00;stroke:#bfbf00;\" x=\"154.746765\" xlink:href=\"#m1b36f98a7b\" y=\"394.3576\"/>\r\n     <use style=\"fill:#bfbf00;stroke:#bfbf00;\" x=\"154.746765\" xlink:href=\"#m1b36f98a7b\" y=\"371.82292\"/>\r\n     <use style=\"fill:#bfbf00;stroke:#bfbf00;\" x=\"154.746765\" xlink:href=\"#m1b36f98a7b\" y=\"359.0489\"/>\r\n     <use style=\"fill:#bfbf00;stroke:#bfbf00;\" x=\"154.746765\" xlink:href=\"#m1b36f98a7b\" y=\"365.272141\"/>\r\n     <use style=\"fill:#bfbf00;stroke:#bfbf00;\" x=\"154.746765\" xlink:href=\"#m1b36f98a7b\" y=\"45.233824\"/>\r\n     <use style=\"fill:#bfbf00;stroke:#bfbf00;\" x=\"154.746765\" xlink:href=\"#m1b36f98a7b\" y=\"364.191262\"/>\r\n     <use style=\"fill:#bfbf00;stroke:#bfbf00;\" x=\"154.119304\" xlink:href=\"#m1b36f98a7b\" y=\"377.391082\"/>\r\n     <use style=\"fill:#bfbf00;stroke:#bfbf00;\" x=\"154.119304\" xlink:href=\"#m1b36f98a7b\" y=\"291.674137\"/>\r\n     <use style=\"fill:#bfbf00;stroke:#bfbf00;\" x=\"154.119304\" xlink:href=\"#m1b36f98a7b\" y=\"347.323006\"/>\r\n     <use style=\"fill:#bfbf00;stroke:#bfbf00;\" x=\"154.119304\" xlink:href=\"#m1b36f98a7b\" y=\"388.330883\"/>\r\n     <use style=\"fill:#bfbf00;stroke:#bfbf00;\" x=\"153.491843\" xlink:href=\"#m1b36f98a7b\" y=\"354.234078\"/>\r\n     <use style=\"fill:#bfbf00;stroke:#bfbf00;\" x=\"153.491843\" xlink:href=\"#m1b36f98a7b\" y=\"361.538196\"/>\r\n     <use style=\"fill:#bfbf00;stroke:#bfbf00;\" x=\"153.491843\" xlink:href=\"#m1b36f98a7b\" y=\"361.079642\"/>\r\n     <use style=\"fill:#bfbf00;stroke:#bfbf00;\" x=\"153.491843\" xlink:href=\"#m1b36f98a7b\" y=\"343.196015\"/>\r\n     <use style=\"fill:#bfbf00;stroke:#bfbf00;\" x=\"152.864382\" xlink:href=\"#m1b36f98a7b\" y=\"328.19473\"/>\r\n     <use style=\"fill:#bfbf00;stroke:#bfbf00;\" x=\"152.864382\" xlink:href=\"#m1b36f98a7b\" y=\"367.139113\"/>\r\n     <use style=\"fill:#bfbf00;stroke:#bfbf00;\" x=\"152.864382\" xlink:href=\"#m1b36f98a7b\" y=\"305.365265\"/>\r\n     <use style=\"fill:#bfbf00;stroke:#bfbf00;\" x=\"152.864382\" xlink:href=\"#m1b36f98a7b\" y=\"334.417971\"/>\r\n     <use style=\"fill:#bfbf00;stroke:#bfbf00;\" x=\"152.864382\" xlink:href=\"#m1b36f98a7b\" y=\"356.264819\"/>\r\n     <use style=\"fill:#bfbf00;stroke:#bfbf00;\" x=\"152.864382\" xlink:href=\"#m1b36f98a7b\" y=\"380.011394\"/>\r\n     <use style=\"fill:#bfbf00;stroke:#bfbf00;\" x=\"152.23692\" xlink:href=\"#m1b36f98a7b\" y=\"302.122629\"/>\r\n     <use style=\"fill:#bfbf00;stroke:#bfbf00;\" x=\"152.23692\" xlink:href=\"#m1b36f98a7b\" y=\"356.297573\"/>\r\n     <use style=\"fill:#bfbf00;stroke:#bfbf00;\" x=\"152.23692\" xlink:href=\"#m1b36f98a7b\" y=\"337.889884\"/>\r\n     <use style=\"fill:#bfbf00;stroke:#bfbf00;\" x=\"152.23692\" xlink:href=\"#m1b36f98a7b\" y=\"362.815598\"/>\r\n     <use style=\"fill:#bfbf00;stroke:#bfbf00;\" x=\"151.609459\" xlink:href=\"#m1b36f98a7b\" y=\"370.217979\"/>\r\n     <use style=\"fill:#bfbf00;stroke:#bfbf00;\" x=\"151.609459\" xlink:href=\"#m1b36f98a7b\" y=\"368.875069\"/>\r\n     <use style=\"fill:#bfbf00;stroke:#bfbf00;\" x=\"151.609459\" xlink:href=\"#m1b36f98a7b\" y=\"330.782288\"/>\r\n     <use style=\"fill:#bfbf00;stroke:#bfbf00;\" x=\"151.609459\" xlink:href=\"#m1b36f98a7b\" y=\"337.85713\"/>\r\n     <use style=\"fill:#bfbf00;stroke:#bfbf00;\" x=\"150.981998\" xlink:href=\"#m1b36f98a7b\" y=\"363.175891\"/>\r\n     <use style=\"fill:#bfbf00;stroke:#bfbf00;\" x=\"150.981998\" xlink:href=\"#m1b36f98a7b\" y=\"353.382476\"/>\r\n     <use style=\"fill:#bfbf00;stroke:#bfbf00;\" x=\"150.981998\" xlink:href=\"#m1b36f98a7b\" y=\"359.441947\"/>\r\n     <use style=\"fill:#bfbf00;stroke:#bfbf00;\" x=\"150.981998\" xlink:href=\"#m1b36f98a7b\" y=\"372.346982\"/>\r\n     <use style=\"fill:#bfbf00;stroke:#bfbf00;\" x=\"150.981998\" xlink:href=\"#m1b36f98a7b\" y=\"311.948798\"/>\r\n     <use style=\"fill:#bfbf00;stroke:#bfbf00;\" x=\"150.981998\" xlink:href=\"#m1b36f98a7b\" y=\"368.252745\"/>\r\n     <use style=\"fill:#bfbf00;stroke:#bfbf00;\" x=\"150.354537\" xlink:href=\"#m1b36f98a7b\" y=\"336.972775\"/>\r\n     <use style=\"fill:#bfbf00;stroke:#bfbf00;\" x=\"150.354537\" xlink:href=\"#m1b36f98a7b\" y=\"360.031517\"/>\r\n     <use style=\"fill:#bfbf00;stroke:#bfbf00;\" x=\"149.727076\" xlink:href=\"#m1b36f98a7b\" y=\"331.502874\"/>\r\n     <use style=\"fill:#bfbf00;stroke:#bfbf00;\" x=\"149.727076\" xlink:href=\"#m1b36f98a7b\" y=\"342.835722\"/>\r\n     <use style=\"fill:#bfbf00;stroke:#bfbf00;\" x=\"149.727076\" xlink:href=\"#m1b36f98a7b\" y=\"332.288967\"/>\r\n     <use style=\"fill:#bfbf00;stroke:#bfbf00;\" x=\"149.727076\" xlink:href=\"#m1b36f98a7b\" y=\"387.577544\"/>\r\n     <use style=\"fill:#bfbf00;stroke:#bfbf00;\" x=\"149.099614\" xlink:href=\"#m1b36f98a7b\" y=\"354.790894\"/>\r\n     <use style=\"fill:#bfbf00;stroke:#bfbf00;\" x=\"149.099614\" xlink:href=\"#m1b36f98a7b\" y=\"278.310547\"/>\r\n     <use style=\"fill:#bfbf00;stroke:#bfbf00;\" x=\"149.099614\" xlink:href=\"#m1b36f98a7b\" y=\"343.228769\"/>\r\n     <use style=\"fill:#bfbf00;stroke:#bfbf00;\" x=\"149.099614\" xlink:href=\"#m1b36f98a7b\" y=\"340.673965\"/>\r\n     <use style=\"fill:#bfbf00;stroke:#bfbf00;\" x=\"148.472153\" xlink:href=\"#m1b36f98a7b\" y=\"366.549542\"/>\r\n     <use style=\"fill:#bfbf00;stroke:#bfbf00;\" x=\"148.472153\" xlink:href=\"#m1b36f98a7b\" y=\"340.935996\"/>\r\n     <use style=\"fill:#bfbf00;stroke:#bfbf00;\" x=\"147.844692\" xlink:href=\"#m1b36f98a7b\" y=\"347.585037\"/>\r\n     <use style=\"fill:#bfbf00;stroke:#bfbf00;\" x=\"147.844692\" xlink:href=\"#m1b36f98a7b\" y=\"301.598567\"/>\r\n     <use style=\"fill:#bfbf00;stroke:#bfbf00;\" x=\"147.844692\" xlink:href=\"#m1b36f98a7b\" y=\"321.119889\"/>\r\n     <use style=\"fill:#bfbf00;stroke:#bfbf00;\" x=\"147.844692\" xlink:href=\"#m1b36f98a7b\" y=\"346.766189\"/>\r\n     <use style=\"fill:#bfbf00;stroke:#bfbf00;\" x=\"147.844692\" xlink:href=\"#m1b36f98a7b\" y=\"359.376439\"/>\r\n     <use style=\"fill:#bfbf00;stroke:#bfbf00;\" x=\"147.217231\" xlink:href=\"#m1b36f98a7b\" y=\"373.820907\"/>\r\n     <use style=\"fill:#bfbf00;stroke:#bfbf00;\" x=\"147.217231\" xlink:href=\"#m1b36f98a7b\" y=\"372.281474\"/>\r\n     <use style=\"fill:#bfbf00;stroke:#bfbf00;\" x=\"147.217231\" xlink:href=\"#m1b36f98a7b\" y=\"370.545518\"/>\r\n     <use style=\"fill:#bfbf00;stroke:#bfbf00;\" x=\"147.217231\" xlink:href=\"#m1b36f98a7b\" y=\"280.865351\"/>\r\n     <use style=\"fill:#bfbf00;stroke:#bfbf00;\" x=\"146.58977\" xlink:href=\"#m1b36f98a7b\" y=\"230.686382\"/>\r\n     <use style=\"fill:#bfbf00;stroke:#bfbf00;\" x=\"146.58977\" xlink:href=\"#m1b36f98a7b\" y=\"349.386501\"/>\r\n     <use style=\"fill:#bfbf00;stroke:#bfbf00;\" x=\"146.58977\" xlink:href=\"#m1b36f98a7b\" y=\"333.99217\"/>\r\n     <use style=\"fill:#bfbf00;stroke:#bfbf00;\" x=\"145.962308\" xlink:href=\"#m1b36f98a7b\" y=\"188.106318\"/>\r\n     <use style=\"fill:#bfbf00;stroke:#bfbf00;\" x=\"145.962308\" xlink:href=\"#m1b36f98a7b\" y=\"391.868304\"/>\r\n     <use style=\"fill:#bfbf00;stroke:#bfbf00;\" x=\"145.334847\" xlink:href=\"#m1b36f98a7b\" y=\"348.927947\"/>\r\n     <use style=\"fill:#bfbf00;stroke:#bfbf00;\" x=\"145.334847\" xlink:href=\"#m1b36f98a7b\" y=\"383.319537\"/>\r\n     <use style=\"fill:#bfbf00;stroke:#bfbf00;\" x=\"145.334847\" xlink:href=\"#m1b36f98a7b\" y=\"337.922637\"/>\r\n     <use style=\"fill:#bfbf00;stroke:#bfbf00;\" x=\"144.707386\" xlink:href=\"#m1b36f98a7b\" y=\"320.104518\"/>\r\n     <use style=\"fill:#bfbf00;stroke:#bfbf00;\" x=\"144.707386\" xlink:href=\"#m1b36f98a7b\" y=\"330.389241\"/>\r\n     <use style=\"fill:#bfbf00;stroke:#bfbf00;\" x=\"144.079925\" xlink:href=\"#m1b36f98a7b\" y=\"381.059518\"/>\r\n     <use style=\"fill:#bfbf00;stroke:#bfbf00;\" x=\"144.079925\" xlink:href=\"#m1b36f98a7b\" y=\"378.963269\"/>\r\n     <use style=\"fill:#bfbf00;stroke:#bfbf00;\" x=\"144.079925\" xlink:href=\"#m1b36f98a7b\" y=\"206.579515\"/>\r\n     <use style=\"fill:#bfbf00;stroke:#bfbf00;\" x=\"143.452463\" xlink:href=\"#m1b36f98a7b\" y=\"339.069024\"/>\r\n     <use style=\"fill:#bfbf00;stroke:#bfbf00;\" x=\"143.452463\" xlink:href=\"#m1b36f98a7b\" y=\"372.183213\"/>\r\n     <use style=\"fill:#bfbf00;stroke:#bfbf00;\" x=\"142.825002\" xlink:href=\"#m1b36f98a7b\" y=\"52.636204\"/>\r\n     <use style=\"fill:#bfbf00;stroke:#bfbf00;\" x=\"142.825002\" xlink:href=\"#m1b36f98a7b\" y=\"350.205348\"/>\r\n     <use style=\"fill:#bfbf00;stroke:#bfbf00;\" x=\"142.825002\" xlink:href=\"#m1b36f98a7b\" y=\"337.660606\"/>\r\n     <use style=\"fill:#bfbf00;stroke:#bfbf00;\" x=\"142.197541\" xlink:href=\"#m1b36f98a7b\" y=\"363.339661\"/>\r\n     <use style=\"fill:#bfbf00;stroke:#bfbf00;\" x=\"142.197541\" xlink:href=\"#m1b36f98a7b\" y=\"289.872672\"/>\r\n     <use style=\"fill:#bfbf00;stroke:#bfbf00;\" x=\"142.197541\" xlink:href=\"#m1b36f98a7b\" y=\"332.518245\"/>\r\n     <use style=\"fill:#bfbf00;stroke:#bfbf00;\" x=\"142.197541\" xlink:href=\"#m1b36f98a7b\" y=\"319.580456\"/>\r\n     <use style=\"fill:#bfbf00;stroke:#bfbf00;\" x=\"141.57008\" xlink:href=\"#m1b36f98a7b\" y=\"329.144593\"/>\r\n     <use style=\"fill:#bfbf00;stroke:#bfbf00;\" x=\"141.57008\" xlink:href=\"#m1b36f98a7b\" y=\"375.196571\"/>\r\n     <use style=\"fill:#bfbf00;stroke:#bfbf00;\" x=\"141.57008\" xlink:href=\"#m1b36f98a7b\" y=\"352.367106\"/>\r\n     <use style=\"fill:#bfbf00;stroke:#bfbf00;\" x=\"140.942619\" xlink:href=\"#m1b36f98a7b\" y=\"357.247436\"/>\r\n     <use style=\"fill:#bfbf00;stroke:#bfbf00;\" x=\"140.942619\" xlink:href=\"#m1b36f98a7b\" y=\"54.044622\"/>\r\n     <use style=\"fill:#bfbf00;stroke:#bfbf00;\" x=\"140.315157\" xlink:href=\"#m1b36f98a7b\" y=\"371.298857\"/>\r\n     <use style=\"fill:#bfbf00;stroke:#bfbf00;\" x=\"140.315157\" xlink:href=\"#m1b36f98a7b\" y=\"359.278178\"/>\r\n     <use style=\"fill:#bfbf00;stroke:#bfbf00;\" x=\"140.315157\" xlink:href=\"#m1b36f98a7b\" y=\"363.732707\"/>\r\n     <use style=\"fill:#bfbf00;stroke:#bfbf00;\" x=\"139.687696\" xlink:href=\"#m1b36f98a7b\" y=\"358.885131\"/>\r\n     <use style=\"fill:#bfbf00;stroke:#bfbf00;\" x=\"139.687696\" xlink:href=\"#m1b36f98a7b\" y=\"369.006085\"/>\r\n     <use style=\"fill:#bfbf00;stroke:#bfbf00;\" x=\"139.060235\" xlink:href=\"#m1b36f98a7b\" y=\"310.998935\"/>\r\n     <use style=\"fill:#bfbf00;stroke:#bfbf00;\" x=\"139.060235\" xlink:href=\"#m1b36f98a7b\" y=\"358.066283\"/>\r\n     <use style=\"fill:#bfbf00;stroke:#bfbf00;\" x=\"139.060235\" xlink:href=\"#m1b36f98a7b\" y=\"370.578272\"/>\r\n     <use style=\"fill:#bfbf00;stroke:#bfbf00;\" x=\"139.060235\" xlink:href=\"#m1b36f98a7b\" y=\"202.780063\"/>\r\n     <use style=\"fill:#bfbf00;stroke:#bfbf00;\" x=\"138.432774\" xlink:href=\"#m1b36f98a7b\" y=\"375.949911\"/>\r\n     <use style=\"fill:#bfbf00;stroke:#bfbf00;\" x=\"138.432774\" xlink:href=\"#m1b36f98a7b\" y=\"336.743497\"/>\r\n     <use style=\"fill:#bfbf00;stroke:#bfbf00;\" x=\"138.432774\" xlink:href=\"#m1b36f98a7b\" y=\"345.226756\"/>\r\n     <use style=\"fill:#bfbf00;stroke:#bfbf00;\" x=\"138.432774\" xlink:href=\"#m1b36f98a7b\" y=\"370.840303\"/>\r\n     <use style=\"fill:#bfbf00;stroke:#bfbf00;\" x=\"138.432774\" xlink:href=\"#m1b36f98a7b\" y=\"354.889156\"/>\r\n     <use style=\"fill:#bfbf00;stroke:#bfbf00;\" x=\"138.432774\" xlink:href=\"#m1b36f98a7b\" y=\"379.552839\"/>\r\n     <use style=\"fill:#bfbf00;stroke:#bfbf00;\" x=\"137.805313\" xlink:href=\"#m1b36f98a7b\" y=\"252.467723\"/>\r\n     <use style=\"fill:#bfbf00;stroke:#bfbf00;\" x=\"137.805313\" xlink:href=\"#m1b36f98a7b\" y=\"372.83829\"/>\r\n     <use style=\"fill:#bfbf00;stroke:#bfbf00;\" x=\"137.805313\" xlink:href=\"#m1b36f98a7b\" y=\"398.713868\"/>\r\n     <use style=\"fill:#bfbf00;stroke:#bfbf00;\" x=\"137.805313\" xlink:href=\"#m1b36f98a7b\" y=\"375.425848\"/>\r\n     <use style=\"fill:#bfbf00;stroke:#bfbf00;\" x=\"137.177851\" xlink:href=\"#m1b36f98a7b\" y=\"381.550827\"/>\r\n     <use style=\"fill:#bfbf00;stroke:#bfbf00;\" x=\"137.177851\" xlink:href=\"#m1b36f98a7b\" y=\"341.492812\"/>\r\n     <use style=\"fill:#bfbf00;stroke:#bfbf00;\" x=\"137.177851\" xlink:href=\"#m1b36f98a7b\" y=\"364.060246\"/>\r\n     <use style=\"fill:#bfbf00;stroke:#bfbf00;\" x=\"137.177851\" xlink:href=\"#m1b36f98a7b\" y=\"347.224744\"/>\r\n     <use style=\"fill:#bfbf00;stroke:#bfbf00;\" x=\"137.177851\" xlink:href=\"#m1b36f98a7b\" y=\"358.852377\"/>\r\n     <use style=\"fill:#bfbf00;stroke:#bfbf00;\" x=\"136.55039\" xlink:href=\"#m1b36f98a7b\" y=\"335.531603\"/>\r\n     <use style=\"fill:#bfbf00;stroke:#bfbf00;\" x=\"136.55039\" xlink:href=\"#m1b36f98a7b\" y=\"356.657866\"/>\r\n     <use style=\"fill:#bfbf00;stroke:#bfbf00;\" x=\"136.55039\" xlink:href=\"#m1b36f98a7b\" y=\"361.046888\"/>\r\n     <use style=\"fill:#bfbf00;stroke:#bfbf00;\" x=\"136.55039\" xlink:href=\"#m1b36f98a7b\" y=\"363.339661\"/>\r\n     <use style=\"fill:#bfbf00;stroke:#bfbf00;\" x=\"136.55039\" xlink:href=\"#m1b36f98a7b\" y=\"395.569494\"/>\r\n     <use style=\"fill:#bfbf00;stroke:#bfbf00;\" x=\"135.922929\" xlink:href=\"#m1b36f98a7b\" y=\"400.646348\"/>\r\n     <use style=\"fill:#bfbf00;stroke:#bfbf00;\" x=\"135.922929\" xlink:href=\"#m1b36f98a7b\" y=\"368.056222\"/>\r\n     <use style=\"fill:#bfbf00;stroke:#bfbf00;\" x=\"135.922929\" xlink:href=\"#m1b36f98a7b\" y=\"382.991998\"/>\r\n     <use style=\"fill:#bfbf00;stroke:#bfbf00;\" x=\"135.922929\" xlink:href=\"#m1b36f98a7b\" y=\"369.628409\"/>\r\n     <use style=\"fill:#bfbf00;stroke:#bfbf00;\" x=\"135.295468\" xlink:href=\"#m1b36f98a7b\" y=\"289.872672\"/>\r\n     <use style=\"fill:#bfbf00;stroke:#bfbf00;\" x=\"135.295468\" xlink:href=\"#m1b36f98a7b\" y=\"352.268844\"/>\r\n     <use style=\"fill:#bfbf00;stroke:#bfbf00;\" x=\"135.295468\" xlink:href=\"#m1b36f98a7b\" y=\"393.440491\"/>\r\n     <use style=\"fill:#bfbf00;stroke:#bfbf00;\" x=\"135.295468\" xlink:href=\"#m1b36f98a7b\" y=\"337.365821\"/>\r\n     <use style=\"fill:#bfbf00;stroke:#bfbf00;\" x=\"135.295468\" xlink:href=\"#m1b36f98a7b\" y=\"365.697941\"/>\r\n     <use style=\"fill:#bfbf00;stroke:#bfbf00;\" x=\"134.668007\" xlink:href=\"#m1b36f98a7b\" y=\"341.656582\"/>\r\n     <use style=\"fill:#bfbf00;stroke:#bfbf00;\" x=\"134.668007\" xlink:href=\"#m1b36f98a7b\" y=\"346.045604\"/>\r\n     <use style=\"fill:#bfbf00;stroke:#bfbf00;\" x=\"134.668007\" xlink:href=\"#m1b36f98a7b\" y=\"376.86702\"/>\r\n     <use style=\"fill:#bfbf00;stroke:#bfbf00;\" x=\"134.040545\" xlink:href=\"#m1b36f98a7b\" y=\"332.911291\"/>\r\n     <use style=\"fill:#bfbf00;stroke:#bfbf00;\" x=\"134.040545\" xlink:href=\"#m1b36f98a7b\" y=\"292.165445\"/>\r\n     <use style=\"fill:#bfbf00;stroke:#bfbf00;\" x=\"134.040545\" xlink:href=\"#m1b36f98a7b\" y=\"336.940021\"/>\r\n     <use style=\"fill:#bfbf00;stroke:#bfbf00;\" x=\"134.040545\" xlink:href=\"#m1b36f98a7b\" y=\"344.211385\"/>\r\n     <use style=\"fill:#bfbf00;stroke:#bfbf00;\" x=\"134.040545\" xlink:href=\"#m1b36f98a7b\" y=\"361.505443\"/>\r\n     <use style=\"fill:#bfbf00;stroke:#bfbf00;\" x=\"133.413084\" xlink:href=\"#m1b36f98a7b\" y=\"341.165273\"/>\r\n     <use style=\"fill:#bfbf00;stroke:#bfbf00;\" x=\"133.413084\" xlink:href=\"#m1b36f98a7b\" y=\"367.433898\"/>\r\n     <use style=\"fill:#bfbf00;stroke:#bfbf00;\" x=\"133.413084\" xlink:href=\"#m1b36f98a7b\" y=\"287.481638\"/>\r\n     <use style=\"fill:#bfbf00;stroke:#bfbf00;\" x=\"132.785623\" xlink:href=\"#m1b36f98a7b\" y=\"394.685139\"/>\r\n     <use style=\"fill:#bfbf00;stroke:#bfbf00;\" x=\"132.785623\" xlink:href=\"#m1b36f98a7b\" y=\"366.156496\"/>\r\n     <use style=\"fill:#bfbf00;stroke:#bfbf00;\" x=\"132.785623\" xlink:href=\"#m1b36f98a7b\" y=\"361.767474\"/>\r\n     <use style=\"fill:#bfbf00;stroke:#bfbf00;\" x=\"132.158162\" xlink:href=\"#m1b36f98a7b\" y=\"339.920625\"/>\r\n     <use style=\"fill:#bfbf00;stroke:#bfbf00;\" x=\"131.530701\" xlink:href=\"#m1b36f98a7b\" y=\"345.881834\"/>\r\n     <use style=\"fill:#bfbf00;stroke:#bfbf00;\" x=\"131.530701\" xlink:href=\"#m1b36f98a7b\" y=\"341.329043\"/>\r\n     <use style=\"fill:#bfbf00;stroke:#bfbf00;\" x=\"130.903239\" xlink:href=\"#m1b36f98a7b\" y=\"296.554467\"/>\r\n     <use style=\"fill:#bfbf00;stroke:#bfbf00;\" x=\"130.903239\" xlink:href=\"#m1b36f98a7b\" y=\"301.696829\"/>\r\n     <use style=\"fill:#bfbf00;stroke:#bfbf00;\" x=\"130.903239\" xlink:href=\"#m1b36f98a7b\" y=\"165.637145\"/>\r\n     <use style=\"fill:#bfbf00;stroke:#bfbf00;\" x=\"130.275778\" xlink:href=\"#m1b36f98a7b\" y=\"326.491528\"/>\r\n     <use style=\"fill:#bfbf00;stroke:#bfbf00;\" x=\"130.275778\" xlink:href=\"#m1b36f98a7b\" y=\"357.968022\"/>\r\n     <use style=\"fill:#bfbf00;stroke:#bfbf00;\" x=\"130.275778\" xlink:href=\"#m1b36f98a7b\" y=\"351.417243\"/>\r\n     <use style=\"fill:#bfbf00;stroke:#bfbf00;\" x=\"130.275778\" xlink:href=\"#m1b36f98a7b\" y=\"357.312944\"/>\r\n     <use style=\"fill:#bfbf00;stroke:#bfbf00;\" x=\"129.020856\" xlink:href=\"#m1b36f98a7b\" y=\"377.129051\"/>\r\n     <use style=\"fill:#bfbf00;stroke:#bfbf00;\" x=\"129.020856\" xlink:href=\"#m1b36f98a7b\" y=\"378.373699\"/>\r\n     <use style=\"fill:#bfbf00;stroke:#bfbf00;\" x=\"128.393395\" xlink:href=\"#m1b36f98a7b\" y=\"309.36124\"/>\r\n     <use style=\"fill:#bfbf00;stroke:#bfbf00;\" x=\"128.393395\" xlink:href=\"#m1b36f98a7b\" y=\"348.207361\"/>\r\n     <use style=\"fill:#bfbf00;stroke:#bfbf00;\" x=\"128.393395\" xlink:href=\"#m1b36f98a7b\" y=\"333.500862\"/>\r\n     <use style=\"fill:#bfbf00;stroke:#bfbf00;\" x=\"127.765933\" xlink:href=\"#m1b36f98a7b\" y=\"386.169126\"/>\r\n     <use style=\"fill:#bfbf00;stroke:#bfbf00;\" x=\"127.765933\" xlink:href=\"#m1b36f98a7b\" y=\"360.948626\"/>\r\n     <use style=\"fill:#bfbf00;stroke:#bfbf00;\" x=\"127.765933\" xlink:href=\"#m1b36f98a7b\" y=\"364.027493\"/>\r\n     <use style=\"fill:#bfbf00;stroke:#bfbf00;\" x=\"127.765933\" xlink:href=\"#m1b36f98a7b\" y=\"392.949183\"/>\r\n     <use style=\"fill:#bfbf00;stroke:#bfbf00;\" x=\"127.138472\" xlink:href=\"#m1b36f98a7b\" y=\"335.204064\"/>\r\n     <use style=\"fill:#bfbf00;stroke:#bfbf00;\" x=\"127.138472\" xlink:href=\"#m1b36f98a7b\" y=\"371.495381\"/>\r\n     <use style=\"fill:#bfbf00;stroke:#bfbf00;\" x=\"127.138472\" xlink:href=\"#m1b36f98a7b\" y=\"350.336364\"/>\r\n     <use style=\"fill:#bfbf00;stroke:#bfbf00;\" x=\"126.511011\" xlink:href=\"#m1b36f98a7b\" y=\"190.595614\"/>\r\n     <use style=\"fill:#bfbf00;stroke:#bfbf00;\" x=\"126.511011\" xlink:href=\"#m1b36f98a7b\" y=\"387.512036\"/>\r\n     <use style=\"fill:#bfbf00;stroke:#bfbf00;\" x=\"126.511011\" xlink:href=\"#m1b36f98a7b\" y=\"382.795475\"/>\r\n     <use style=\"fill:#bfbf00;stroke:#bfbf00;\" x=\"126.511011\" xlink:href=\"#m1b36f98a7b\" y=\"356.559604\"/>\r\n     <use style=\"fill:#bfbf00;stroke:#bfbf00;\" x=\"126.511011\" xlink:href=\"#m1b36f98a7b\" y=\"364.68257\"/>\r\n     <use style=\"fill:#bfbf00;stroke:#bfbf00;\" x=\"126.511011\" xlink:href=\"#m1b36f98a7b\" y=\"385.743325\"/>\r\n     <use style=\"fill:#bfbf00;stroke:#bfbf00;\" x=\"126.511011\" xlink:href=\"#m1b36f98a7b\" y=\"369.824932\"/>\r\n     <use style=\"fill:#bfbf00;stroke:#bfbf00;\" x=\"125.88355\" xlink:href=\"#m1b36f98a7b\" y=\"350.46738\"/>\r\n     <use style=\"fill:#bfbf00;stroke:#bfbf00;\" x=\"125.88355\" xlink:href=\"#m1b36f98a7b\" y=\"225.150974\"/>\r\n     <use style=\"fill:#bfbf00;stroke:#bfbf00;\" x=\"125.88355\" xlink:href=\"#m1b36f98a7b\" y=\"303.072492\"/>\r\n     <use style=\"fill:#bfbf00;stroke:#bfbf00;\" x=\"125.88355\" xlink:href=\"#m1b36f98a7b\" y=\"341.55832\"/>\r\n     <use style=\"fill:#bfbf00;stroke:#bfbf00;\" x=\"125.88355\" xlink:href=\"#m1b36f98a7b\" y=\"383.614322\"/>\r\n     <use style=\"fill:#bfbf00;stroke:#bfbf00;\" x=\"125.256089\" xlink:href=\"#m1b36f98a7b\" y=\"361.177904\"/>\r\n     <use style=\"fill:#bfbf00;stroke:#bfbf00;\" x=\"125.256089\" xlink:href=\"#m1b36f98a7b\" y=\"373.558876\"/>\r\n     <use style=\"fill:#bfbf00;stroke:#bfbf00;\" x=\"124.628627\" xlink:href=\"#m1b36f98a7b\" y=\"349.681286\"/>\r\n     <use style=\"fill:#bfbf00;stroke:#bfbf00;\" x=\"124.001166\" xlink:href=\"#m1b36f98a7b\" y=\"351.286227\"/>\r\n     <use style=\"fill:#bfbf00;stroke:#bfbf00;\" x=\"124.001166\" xlink:href=\"#m1b36f98a7b\" y=\"379.716609\"/>\r\n     <use style=\"fill:#bfbf00;stroke:#bfbf00;\" x=\"124.001166\" xlink:href=\"#m1b36f98a7b\" y=\"365.796203\"/>\r\n     <use style=\"fill:#bfbf00;stroke:#bfbf00;\" x=\"124.001166\" xlink:href=\"#m1b36f98a7b\" y=\"312.964169\"/>\r\n     <use style=\"fill:#bfbf00;stroke:#bfbf00;\" x=\"124.001166\" xlink:href=\"#m1b36f98a7b\" y=\"357.738744\"/>\r\n     <use style=\"fill:#bfbf00;stroke:#bfbf00;\" x=\"123.373705\" xlink:href=\"#m1b36f98a7b\" y=\"359.80224\"/>\r\n     <use style=\"fill:#bfbf00;stroke:#bfbf00;\" x=\"123.373705\" xlink:href=\"#m1b36f98a7b\" y=\"347.617791\"/>\r\n     <use style=\"fill:#bfbf00;stroke:#bfbf00;\" x=\"122.746244\" xlink:href=\"#m1b36f98a7b\" y=\"327.965453\"/>\r\n     <use style=\"fill:#bfbf00;stroke:#bfbf00;\" x=\"122.746244\" xlink:href=\"#m1b36f98a7b\" y=\"321.218151\"/>\r\n     <use style=\"fill:#bfbf00;stroke:#bfbf00;\" x=\"122.746244\" xlink:href=\"#m1b36f98a7b\" y=\"372.543505\"/>\r\n     <use style=\"fill:#bfbf00;stroke:#bfbf00;\" x=\"122.746244\" xlink:href=\"#m1b36f98a7b\" y=\"367.925206\"/>\r\n     <use style=\"fill:#bfbf00;stroke:#bfbf00;\" x=\"122.118782\" xlink:href=\"#m1b36f98a7b\" y=\"400.613594\"/>\r\n     <use style=\"fill:#bfbf00;stroke:#bfbf00;\" x=\"122.118782\" xlink:href=\"#m1b36f98a7b\" y=\"379.847624\"/>\r\n     <use style=\"fill:#bfbf00;stroke:#bfbf00;\" x=\"122.118782\" xlink:href=\"#m1b36f98a7b\" y=\"381.845612\"/>\r\n     <use style=\"fill:#bfbf00;stroke:#bfbf00;\" x=\"122.118782\" xlink:href=\"#m1b36f98a7b\" y=\"338.381192\"/>\r\n     <use style=\"fill:#bfbf00;stroke:#bfbf00;\" x=\"122.118782\" xlink:href=\"#m1b36f98a7b\" y=\"357.083667\"/>\r\n     <use style=\"fill:#bfbf00;stroke:#bfbf00;\" x=\"121.491321\" xlink:href=\"#m1b36f98a7b\" y=\"352.923922\"/>\r\n     <use style=\"fill:#bfbf00;stroke:#bfbf00;\" x=\"121.491321\" xlink:href=\"#m1b36f98a7b\" y=\"362.651829\"/>\r\n     <use style=\"fill:#bfbf00;stroke:#bfbf00;\" x=\"121.491321\" xlink:href=\"#m1b36f98a7b\" y=\"325.312388\"/>\r\n     <use style=\"fill:#bfbf00;stroke:#bfbf00;\" x=\"121.491321\" xlink:href=\"#m1b36f98a7b\" y=\"396.846896\"/>\r\n     <use style=\"fill:#bfbf00;stroke:#bfbf00;\" x=\"121.491321\" xlink:href=\"#m1b36f98a7b\" y=\"398.22256\"/>\r\n     <use style=\"fill:#bfbf00;stroke:#bfbf00;\" x=\"120.86386\" xlink:href=\"#m1b36f98a7b\" y=\"363.994739\"/>\r\n     <use style=\"fill:#bfbf00;stroke:#bfbf00;\" x=\"120.86386\" xlink:href=\"#m1b36f98a7b\" y=\"345.062987\"/>\r\n     <use style=\"fill:#bfbf00;stroke:#bfbf00;\" x=\"120.86386\" xlink:href=\"#m1b36f98a7b\" y=\"372.871044\"/>\r\n     <use style=\"fill:#bfbf00;stroke:#bfbf00;\" x=\"120.86386\" xlink:href=\"#m1b36f98a7b\" y=\"338.938008\"/>\r\n     <use style=\"fill:#bfbf00;stroke:#bfbf00;\" x=\"120.86386\" xlink:href=\"#m1b36f98a7b\" y=\"370.840303\"/>\r\n     <use style=\"fill:#bfbf00;stroke:#bfbf00;\" x=\"120.86386\" xlink:href=\"#m1b36f98a7b\" y=\"70.978386\"/>\r\n     <use style=\"fill:#bfbf00;stroke:#bfbf00;\" x=\"120.236399\" xlink:href=\"#m1b36f98a7b\" y=\"376.539481\"/>\r\n     <use style=\"fill:#bfbf00;stroke:#bfbf00;\" x=\"120.236399\" xlink:href=\"#m1b36f98a7b\" y=\"333.566369\"/>\r\n     <use style=\"fill:#bfbf00;stroke:#bfbf00;\" x=\"120.236399\" xlink:href=\"#m1b36f98a7b\" y=\"338.151915\"/>\r\n     <use style=\"fill:#bfbf00;stroke:#bfbf00;\" x=\"120.236399\" xlink:href=\"#m1b36f98a7b\" y=\"378.733992\"/>\r\n     <use style=\"fill:#bfbf00;stroke:#bfbf00;\" x=\"120.236399\" xlink:href=\"#m1b36f98a7b\" y=\"405.395663\"/>\r\n     <use style=\"fill:#bfbf00;stroke:#bfbf00;\" x=\"119.608938\" xlink:href=\"#m1b36f98a7b\" y=\"343.589061\"/>\r\n     <use style=\"fill:#bfbf00;stroke:#bfbf00;\" x=\"119.608938\" xlink:href=\"#m1b36f98a7b\" y=\"377.587605\"/>\r\n     <use style=\"fill:#bfbf00;stroke:#bfbf00;\" x=\"119.608938\" xlink:href=\"#m1b36f98a7b\" y=\"355.51148\"/>\r\n     <use style=\"fill:#bfbf00;stroke:#bfbf00;\" x=\"119.608938\" xlink:href=\"#m1b36f98a7b\" y=\"375.327587\"/>\r\n     <use style=\"fill:#bfbf00;stroke:#bfbf00;\" x=\"118.981476\" xlink:href=\"#m1b36f98a7b\" y=\"397.829513\"/>\r\n     <use style=\"fill:#bfbf00;stroke:#bfbf00;\" x=\"118.981476\" xlink:href=\"#m1b36f98a7b\" y=\"371.06958\"/>\r\n     <use style=\"fill:#bfbf00;stroke:#bfbf00;\" x=\"118.981476\" xlink:href=\"#m1b36f98a7b\" y=\"359.245424\"/>\r\n     <use style=\"fill:#bfbf00;stroke:#bfbf00;\" x=\"118.981476\" xlink:href=\"#m1b36f98a7b\" y=\"367.990714\"/>\r\n     <use style=\"fill:#bfbf00;stroke:#bfbf00;\" x=\"118.354015\" xlink:href=\"#m1b36f98a7b\" y=\"146.410608\"/>\r\n     <use style=\"fill:#bfbf00;stroke:#bfbf00;\" x=\"117.726554\" xlink:href=\"#m1b36f98a7b\" y=\"351.843043\"/>\r\n     <use style=\"fill:#bfbf00;stroke:#bfbf00;\" x=\"117.726554\" xlink:href=\"#m1b36f98a7b\" y=\"386.594927\"/>\r\n     <use style=\"fill:#bfbf00;stroke:#bfbf00;\" x=\"117.726554\" xlink:href=\"#m1b36f98a7b\" y=\"354.365093\"/>\r\n     <use style=\"fill:#bfbf00;stroke:#bfbf00;\" x=\"117.726554\" xlink:href=\"#m1b36f98a7b\" y=\"362.782844\"/>\r\n     <use style=\"fill:#bfbf00;stroke:#bfbf00;\" x=\"117.726554\" xlink:href=\"#m1b36f98a7b\" y=\"365.927218\"/>\r\n     <use style=\"fill:#bfbf00;stroke:#bfbf00;\" x=\"117.099093\" xlink:href=\"#m1b36f98a7b\" y=\"364.25677\"/>\r\n     <use style=\"fill:#bfbf00;stroke:#bfbf00;\" x=\"117.099093\" xlink:href=\"#m1b36f98a7b\" y=\"380.044148\"/>\r\n     <use style=\"fill:#bfbf00;stroke:#bfbf00;\" x=\"117.099093\" xlink:href=\"#m1b36f98a7b\" y=\"381.452565\"/>\r\n     <use style=\"fill:#bfbf00;stroke:#bfbf00;\" x=\"117.099093\" xlink:href=\"#m1b36f98a7b\" y=\"390.689164\"/>\r\n     <use style=\"fill:#bfbf00;stroke:#bfbf00;\" x=\"117.099093\" xlink:href=\"#m1b36f98a7b\" y=\"376.146434\"/>\r\n     <use style=\"fill:#bfbf00;stroke:#bfbf00;\" x=\"116.471632\" xlink:href=\"#m1b36f98a7b\" y=\"302.941477\"/>\r\n     <use style=\"fill:#bfbf00;stroke:#bfbf00;\" x=\"116.471632\" xlink:href=\"#m1b36f98a7b\" y=\"269.041194\"/>\r\n     <use style=\"fill:#bfbf00;stroke:#bfbf00;\" x=\"116.471632\" xlink:href=\"#m1b36f98a7b\" y=\"372.445244\"/>\r\n     <use style=\"fill:#bfbf00;stroke:#bfbf00;\" x=\"116.471632\" xlink:href=\"#m1b36f98a7b\" y=\"256.955007\"/>\r\n     <use style=\"fill:#bfbf00;stroke:#bfbf00;\" x=\"116.471632\" xlink:href=\"#m1b36f98a7b\" y=\"370.611026\"/>\r\n     <use style=\"fill:#bfbf00;stroke:#bfbf00;\" x=\"115.84417\" xlink:href=\"#m1b36f98a7b\" y=\"310.016318\"/>\r\n     <use style=\"fill:#bfbf00;stroke:#bfbf00;\" x=\"115.216709\" xlink:href=\"#m1b36f98a7b\" y=\"351.843043\"/>\r\n     <use style=\"fill:#bfbf00;stroke:#bfbf00;\" x=\"115.216709\" xlink:href=\"#m1b36f98a7b\" y=\"324.133247\"/>\r\n     <use style=\"fill:#bfbf00;stroke:#bfbf00;\" x=\"115.216709\" xlink:href=\"#m1b36f98a7b\" y=\"381.714596\"/>\r\n     <use style=\"fill:#bfbf00;stroke:#bfbf00;\" x=\"115.216709\" xlink:href=\"#m1b36f98a7b\" y=\"338.053653\"/>\r\n     <use style=\"fill:#bfbf00;stroke:#bfbf00;\" x=\"115.216709\" xlink:href=\"#m1b36f98a7b\" y=\"371.560889\"/>\r\n     <use style=\"fill:#bfbf00;stroke:#bfbf00;\" x=\"115.216709\" xlink:href=\"#m1b36f98a7b\" y=\"372.41249\"/>\r\n     <use style=\"fill:#bfbf00;stroke:#bfbf00;\" x=\"114.589248\" xlink:href=\"#m1b36f98a7b\" y=\"371.135088\"/>\r\n     <use style=\"fill:#bfbf00;stroke:#bfbf00;\" x=\"114.589248\" xlink:href=\"#m1b36f98a7b\" y=\"344.014862\"/>\r\n     <use style=\"fill:#bfbf00;stroke:#bfbf00;\" x=\"114.589248\" xlink:href=\"#m1b36f98a7b\" y=\"362.651829\"/>\r\n     <use style=\"fill:#bfbf00;stroke:#bfbf00;\" x=\"113.961787\" xlink:href=\"#m1b36f98a7b\" y=\"375.032802\"/>\r\n     <use style=\"fill:#bfbf00;stroke:#bfbf00;\" x=\"113.961787\" xlink:href=\"#m1b36f98a7b\" y=\"389.90307\"/>\r\n     <use style=\"fill:#bfbf00;stroke:#bfbf00;\" x=\"113.961787\" xlink:href=\"#m1b36f98a7b\" y=\"203.533403\"/>\r\n     <use style=\"fill:#bfbf00;stroke:#bfbf00;\" x=\"113.961787\" xlink:href=\"#m1b36f98a7b\" y=\"339.101778\"/>\r\n     <use style=\"fill:#bfbf00;stroke:#bfbf00;\" x=\"113.961787\" xlink:href=\"#m1b36f98a7b\" y=\"348.731423\"/>\r\n     <use style=\"fill:#bfbf00;stroke:#bfbf00;\" x=\"113.334326\" xlink:href=\"#m1b36f98a7b\" y=\"345.685311\"/>\r\n     <use style=\"fill:#bfbf00;stroke:#bfbf00;\" x=\"113.334326\" xlink:href=\"#m1b36f98a7b\" y=\"141.923325\"/>\r\n     <use style=\"fill:#bfbf00;stroke:#bfbf00;\" x=\"113.334326\" xlink:href=\"#m1b36f98a7b\" y=\"357.673237\"/>\r\n     <use style=\"fill:#bfbf00;stroke:#bfbf00;\" x=\"113.334326\" xlink:href=\"#m1b36f98a7b\" y=\"337.071036\"/>\r\n     <use style=\"fill:#bfbf00;stroke:#bfbf00;\" x=\"113.334326\" xlink:href=\"#m1b36f98a7b\" y=\"375.818895\"/>\r\n     <use style=\"fill:#bfbf00;stroke:#bfbf00;\" x=\"113.334326\" xlink:href=\"#m1b36f98a7b\" y=\"343.228769\"/>\r\n     <use style=\"fill:#bfbf00;stroke:#bfbf00;\" x=\"112.706864\" xlink:href=\"#m1b36f98a7b\" y=\"367.532159\"/>\r\n     <use style=\"fill:#bfbf00;stroke:#bfbf00;\" x=\"112.706864\" xlink:href=\"#m1b36f98a7b\" y=\"310.900673\"/>\r\n     <use style=\"fill:#bfbf00;stroke:#bfbf00;\" x=\"112.706864\" xlink:href=\"#m1b36f98a7b\" y=\"339.724102\"/>\r\n     <use style=\"fill:#bfbf00;stroke:#bfbf00;\" x=\"112.706864\" xlink:href=\"#m1b36f98a7b\" y=\"330.815042\"/>\r\n     <use style=\"fill:#bfbf00;stroke:#bfbf00;\" x=\"112.706864\" xlink:href=\"#m1b36f98a7b\" y=\"330.520257\"/>\r\n     <use style=\"fill:#bfbf00;stroke:#bfbf00;\" x=\"112.706864\" xlink:href=\"#m1b36f98a7b\" y=\"382.598951\"/>\r\n     <use style=\"fill:#bfbf00;stroke:#bfbf00;\" x=\"112.079403\" xlink:href=\"#m1b36f98a7b\" y=\"355.085679\"/>\r\n     <use style=\"fill:#bfbf00;stroke:#bfbf00;\" x=\"112.079403\" xlink:href=\"#m1b36f98a7b\" y=\"158.857089\"/>\r\n     <use style=\"fill:#bfbf00;stroke:#bfbf00;\" x=\"111.451942\" xlink:href=\"#m1b36f98a7b\" y=\"318.303054\"/>\r\n     <use style=\"fill:#bfbf00;stroke:#bfbf00;\" x=\"111.451942\" xlink:href=\"#m1b36f98a7b\" y=\"379.061531\"/>\r\n     <use style=\"fill:#bfbf00;stroke:#bfbf00;\" x=\"111.451942\" xlink:href=\"#m1b36f98a7b\" y=\"183.782803\"/>\r\n     <use style=\"fill:#bfbf00;stroke:#bfbf00;\" x=\"111.451942\" xlink:href=\"#m1b36f98a7b\" y=\"319.907995\"/>\r\n     <use style=\"fill:#bfbf00;stroke:#bfbf00;\" x=\"111.451942\" xlink:href=\"#m1b36f98a7b\" y=\"381.223288\"/>\r\n     <use style=\"fill:#bfbf00;stroke:#bfbf00;\" x=\"111.451942\" xlink:href=\"#m1b36f98a7b\" y=\"330.553011\"/>\r\n     <use style=\"fill:#bfbf00;stroke:#bfbf00;\" x=\"111.451942\" xlink:href=\"#m1b36f98a7b\" y=\"377.653113\"/>\r\n     <use style=\"fill:#bfbf00;stroke:#bfbf00;\" x=\"110.824481\" xlink:href=\"#m1b36f98a7b\" y=\"311.260966\"/>\r\n     <use style=\"fill:#bfbf00;stroke:#bfbf00;\" x=\"110.824481\" xlink:href=\"#m1b36f98a7b\" y=\"320.726842\"/>\r\n     <use style=\"fill:#bfbf00;stroke:#bfbf00;\" x=\"110.824481\" xlink:href=\"#m1b36f98a7b\" y=\"380.044148\"/>\r\n     <use style=\"fill:#bfbf00;stroke:#bfbf00;\" x=\"110.824481\" xlink:href=\"#m1b36f98a7b\" y=\"358.557592\"/>\r\n     <use style=\"fill:#bfbf00;stroke:#bfbf00;\" x=\"110.824481\" xlink:href=\"#m1b36f98a7b\" y=\"358.164545\"/>\r\n     <use style=\"fill:#bfbf00;stroke:#bfbf00;\" x=\"110.824481\" xlink:href=\"#m1b36f98a7b\" y=\"352.82566\"/>\r\n     <use style=\"fill:#bfbf00;stroke:#bfbf00;\" x=\"110.19702\" xlink:href=\"#m1b36f98a7b\" y=\"335.498849\"/>\r\n     <use style=\"fill:#bfbf00;stroke:#bfbf00;\" x=\"110.19702\" xlink:href=\"#m1b36f98a7b\" y=\"236.156283\"/>\r\n     <use style=\"fill:#bfbf00;stroke:#bfbf00;\" x=\"110.19702\" xlink:href=\"#m1b36f98a7b\" y=\"340.903242\"/>\r\n     <use style=\"fill:#bfbf00;stroke:#bfbf00;\" x=\"110.19702\" xlink:href=\"#m1b36f98a7b\" y=\"356.952651\"/>\r\n     <use style=\"fill:#bfbf00;stroke:#bfbf00;\" x=\"110.19702\" xlink:href=\"#m1b36f98a7b\" y=\"364.649817\"/>\r\n     <use style=\"fill:#bfbf00;stroke:#bfbf00;\" x=\"110.19702\" xlink:href=\"#m1b36f98a7b\" y=\"318.597839\"/>\r\n     <use style=\"fill:#bfbf00;stroke:#bfbf00;\" x=\"109.569558\" xlink:href=\"#m1b36f98a7b\" y=\"198.522057\"/>\r\n     <use style=\"fill:#bfbf00;stroke:#bfbf00;\" x=\"109.569558\" xlink:href=\"#m1b36f98a7b\" y=\"349.812302\"/>\r\n     <use style=\"fill:#bfbf00;stroke:#bfbf00;\" x=\"109.569558\" xlink:href=\"#m1b36f98a7b\" y=\"350.500134\"/>\r\n     <use style=\"fill:#bfbf00;stroke:#bfbf00;\" x=\"109.569558\" xlink:href=\"#m1b36f98a7b\" y=\"333.533615\"/>\r\n     <use style=\"fill:#bfbf00;stroke:#bfbf00;\" x=\"109.569558\" xlink:href=\"#m1b36f98a7b\" y=\"372.641767\"/>\r\n     <use style=\"fill:#bfbf00;stroke:#bfbf00;\" x=\"109.569558\" xlink:href=\"#m1b36f98a7b\" y=\"378.144422\"/>\r\n     <use style=\"fill:#bfbf00;stroke:#bfbf00;\" x=\"108.942097\" xlink:href=\"#m1b36f98a7b\" y=\"372.83829\"/>\r\n     <use style=\"fill:#bfbf00;stroke:#bfbf00;\" x=\"108.942097\" xlink:href=\"#m1b36f98a7b\" y=\"393.407737\"/>\r\n     <use style=\"fill:#bfbf00;stroke:#bfbf00;\" x=\"108.314636\" xlink:href=\"#m1b36f98a7b\" y=\"344.800956\"/>\r\n     <use style=\"fill:#bfbf00;stroke:#bfbf00;\" x=\"108.314636\" xlink:href=\"#m1b36f98a7b\" y=\"375.982665\"/>\r\n     <use style=\"fill:#bfbf00;stroke:#bfbf00;\" x=\"108.314636\" xlink:href=\"#m1b36f98a7b\" y=\"332.485491\"/>\r\n     <use style=\"fill:#bfbf00;stroke:#bfbf00;\" x=\"108.314636\" xlink:href=\"#m1b36f98a7b\" y=\"370.873057\"/>\r\n     <use style=\"fill:#bfbf00;stroke:#bfbf00;\" x=\"108.314636\" xlink:href=\"#m1b36f98a7b\" y=\"388.953207\"/>\r\n     <use style=\"fill:#bfbf00;stroke:#bfbf00;\" x=\"107.687175\" xlink:href=\"#m1b36f98a7b\" y=\"344.866463\"/>\r\n     <use style=\"fill:#bfbf00;stroke:#bfbf00;\" x=\"107.687175\" xlink:href=\"#m1b36f98a7b\" y=\"310.507627\"/>\r\n     <use style=\"fill:#bfbf00;stroke:#bfbf00;\" x=\"107.687175\" xlink:href=\"#m1b36f98a7b\" y=\"232.68437\"/>\r\n     <use style=\"fill:#bfbf00;stroke:#bfbf00;\" x=\"107.059714\" xlink:href=\"#m1b36f98a7b\" y=\"352.530875\"/>\r\n     <use style=\"fill:#bfbf00;stroke:#bfbf00;\" x=\"107.059714\" xlink:href=\"#m1b36f98a7b\" y=\"363.470676\"/>\r\n     <use style=\"fill:#bfbf00;stroke:#bfbf00;\" x=\"107.059714\" xlink:href=\"#m1b36f98a7b\" y=\"34.556054\"/>\r\n     <use style=\"fill:#bfbf00;stroke:#bfbf00;\" x=\"107.059714\" xlink:href=\"#m1b36f98a7b\" y=\"357.968022\"/>\r\n     <use style=\"fill:#bfbf00;stroke:#bfbf00;\" x=\"106.432252\" xlink:href=\"#m1b36f98a7b\" y=\"381.616335\"/>\r\n     <use style=\"fill:#bfbf00;stroke:#bfbf00;\" x=\"106.432252\" xlink:href=\"#m1b36f98a7b\" y=\"329.275609\"/>\r\n     <use style=\"fill:#bfbf00;stroke:#bfbf00;\" x=\"106.432252\" xlink:href=\"#m1b36f98a7b\" y=\"146.672639\"/>\r\n     <use style=\"fill:#bfbf00;stroke:#bfbf00;\" x=\"106.432252\" xlink:href=\"#m1b36f98a7b\" y=\"358.000776\"/>\r\n     <use style=\"fill:#bfbf00;stroke:#bfbf00;\" x=\"106.432252\" xlink:href=\"#m1b36f98a7b\" y=\"339.822363\"/>\r\n     <use style=\"fill:#bfbf00;stroke:#bfbf00;\" x=\"106.432252\" xlink:href=\"#m1b36f98a7b\" y=\"339.069024\"/>\r\n     <use style=\"fill:#bfbf00;stroke:#bfbf00;\" x=\"105.804791\" xlink:href=\"#m1b36f98a7b\" y=\"395.569494\"/>\r\n     <use style=\"fill:#bfbf00;stroke:#bfbf00;\" x=\"105.804791\" xlink:href=\"#m1b36f98a7b\" y=\"365.403156\"/>\r\n     <use style=\"fill:#bfbf00;stroke:#bfbf00;\" x=\"105.804791\" xlink:href=\"#m1b36f98a7b\" y=\"324.65731\"/>\r\n     <use style=\"fill:#bfbf00;stroke:#bfbf00;\" x=\"105.804791\" xlink:href=\"#m1b36f98a7b\" y=\"365.173879\"/>\r\n     <use style=\"fill:#bfbf00;stroke:#bfbf00;\" x=\"105.804791\" xlink:href=\"#m1b36f98a7b\" y=\"296.292436\"/>\r\n     <use style=\"fill:#bfbf00;stroke:#bfbf00;\" x=\"105.804791\" xlink:href=\"#m1b36f98a7b\" y=\"340.673965\"/>\r\n     <use style=\"fill:#bfbf00;stroke:#bfbf00;\" x=\"105.804791\" xlink:href=\"#m1b36f98a7b\" y=\"375.425848\"/>\r\n     <use style=\"fill:#bfbf00;stroke:#bfbf00;\" x=\"105.804791\" xlink:href=\"#m1b36f98a7b\" y=\"365.304894\"/>\r\n     <use style=\"fill:#bfbf00;stroke:#bfbf00;\" x=\"105.17733\" xlink:href=\"#m1b36f98a7b\" y=\"385.907095\"/>\r\n     <use style=\"fill:#bfbf00;stroke:#bfbf00;\" x=\"105.17733\" xlink:href=\"#m1b36f98a7b\" y=\"331.994182\"/>\r\n     <use style=\"fill:#bfbf00;stroke:#bfbf00;\" x=\"105.17733\" xlink:href=\"#m1b36f98a7b\" y=\"366.18925\"/>\r\n     <use style=\"fill:#bfbf00;stroke:#bfbf00;\" x=\"105.17733\" xlink:href=\"#m1b36f98a7b\" y=\"358.524838\"/>\r\n     <use style=\"fill:#bfbf00;stroke:#bfbf00;\" x=\"104.549869\" xlink:href=\"#m1b36f98a7b\" y=\"307.396007\"/>\r\n     <use style=\"fill:#bfbf00;stroke:#bfbf00;\" x=\"104.549869\" xlink:href=\"#m1b36f98a7b\" y=\"387.053481\"/>\r\n     <use style=\"fill:#bfbf00;stroke:#bfbf00;\" x=\"104.549869\" xlink:href=\"#m1b36f98a7b\" y=\"361.014134\"/>\r\n     <use style=\"fill:#bfbf00;stroke:#bfbf00;\" x=\"104.549869\" xlink:href=\"#m1b36f98a7b\" y=\"373.689892\"/>\r\n     <use style=\"fill:#bfbf00;stroke:#bfbf00;\" x=\"103.922407\" xlink:href=\"#m1b36f98a7b\" y=\"368.154483\"/>\r\n     <use style=\"fill:#bfbf00;stroke:#bfbf00;\" x=\"103.922407\" xlink:href=\"#m1b36f98a7b\" y=\"327.506899\"/>\r\n     <use style=\"fill:#bfbf00;stroke:#bfbf00;\" x=\"103.922407\" xlink:href=\"#m1b36f98a7b\" y=\"368.940577\"/>\r\n     <use style=\"fill:#bfbf00;stroke:#bfbf00;\" x=\"103.922407\" xlink:href=\"#m1b36f98a7b\" y=\"355.34771\"/>\r\n     <use style=\"fill:#bfbf00;stroke:#bfbf00;\" x=\"103.922407\" xlink:href=\"#m1b36f98a7b\" y=\"327.899945\"/>\r\n     <use style=\"fill:#bfbf00;stroke:#bfbf00;\" x=\"103.922407\" xlink:href=\"#m1b36f98a7b\" y=\"359.867748\"/>\r\n     <use style=\"fill:#bfbf00;stroke:#bfbf00;\" x=\"103.922407\" xlink:href=\"#m1b36f98a7b\" y=\"363.863723\"/>\r\n     <use style=\"fill:#bfbf00;stroke:#bfbf00;\" x=\"103.922407\" xlink:href=\"#m1b36f98a7b\" y=\"351.417243\"/>\r\n     <use style=\"fill:#bfbf00;stroke:#bfbf00;\" x=\"103.922407\" xlink:href=\"#m1b36f98a7b\" y=\"366.877081\"/>\r\n     <use style=\"fill:#bfbf00;stroke:#bfbf00;\" x=\"103.294946\" xlink:href=\"#m1b36f98a7b\" y=\"343.097753\"/>\r\n     <use style=\"fill:#bfbf00;stroke:#bfbf00;\" x=\"103.294946\" xlink:href=\"#m1b36f98a7b\" y=\"375.556864\"/>\r\n     <use style=\"fill:#bfbf00;stroke:#bfbf00;\" x=\"103.294946\" xlink:href=\"#m1b36f98a7b\" y=\"373.198583\"/>\r\n     <use style=\"fill:#bfbf00;stroke:#bfbf00;\" x=\"103.294946\" xlink:href=\"#m1b36f98a7b\" y=\"389.051469\"/>\r\n     <use style=\"fill:#bfbf00;stroke:#bfbf00;\" x=\"103.294946\" xlink:href=\"#m1b36f98a7b\" y=\"290.658766\"/>\r\n     <use style=\"fill:#bfbf00;stroke:#bfbf00;\" x=\"103.294946\" xlink:href=\"#m1b36f98a7b\" y=\"335.269572\"/>\r\n     <use style=\"fill:#bfbf00;stroke:#bfbf00;\" x=\"103.294946\" xlink:href=\"#m1b36f98a7b\" y=\"375.556864\"/>\r\n     <use style=\"fill:#bfbf00;stroke:#bfbf00;\" x=\"102.667485\" xlink:href=\"#m1b36f98a7b\" y=\"353.841031\"/>\r\n     <use style=\"fill:#bfbf00;stroke:#bfbf00;\" x=\"102.667485\" xlink:href=\"#m1b36f98a7b\" y=\"347.454021\"/>\r\n     <use style=\"fill:#bfbf00;stroke:#bfbf00;\" x=\"102.667485\" xlink:href=\"#m1b36f98a7b\" y=\"252.959032\"/>\r\n     <use style=\"fill:#bfbf00;stroke:#bfbf00;\" x=\"102.040024\" xlink:href=\"#m1b36f98a7b\" y=\"370.807549\"/>\r\n     <use style=\"fill:#bfbf00;stroke:#bfbf00;\" x=\"102.040024\" xlink:href=\"#m1b36f98a7b\" y=\"369.693916\"/>\r\n     <use style=\"fill:#bfbf00;stroke:#bfbf00;\" x=\"102.040024\" xlink:href=\"#m1b36f98a7b\" y=\"390.099594\"/>\r\n     <use style=\"fill:#bfbf00;stroke:#bfbf00;\" x=\"102.040024\" xlink:href=\"#m1b36f98a7b\" y=\"360.752103\"/>\r\n     <use style=\"fill:#bfbf00;stroke:#bfbf00;\" x=\"102.040024\" xlink:href=\"#m1b36f98a7b\" y=\"332.64926\"/>\r\n     <use style=\"fill:#bfbf00;stroke:#bfbf00;\" x=\"102.040024\" xlink:href=\"#m1b36f98a7b\" y=\"353.153199\"/>\r\n     <use style=\"fill:#bfbf00;stroke:#bfbf00;\" x=\"102.040024\" xlink:href=\"#m1b36f98a7b\" y=\"390.165101\"/>\r\n     <use style=\"fill:#bfbf00;stroke:#bfbf00;\" x=\"102.040024\" xlink:href=\"#m1b36f98a7b\" y=\"218.436425\"/>\r\n     <use style=\"fill:#bfbf00;stroke:#bfbf00;\" x=\"102.040024\" xlink:href=\"#m1b36f98a7b\" y=\"323.609185\"/>\r\n     <use style=\"fill:#bfbf00;stroke:#bfbf00;\" x=\"101.412563\" xlink:href=\"#m1b36f98a7b\" y=\"377.260066\"/>\r\n     <use style=\"fill:#bfbf00;stroke:#bfbf00;\" x=\"101.412563\" xlink:href=\"#m1b36f98a7b\" y=\"315.518973\"/>\r\n     <use style=\"fill:#bfbf00;stroke:#bfbf00;\" x=\"101.412563\" xlink:href=\"#m1b36f98a7b\" y=\"269.368733\"/>\r\n     <use style=\"fill:#bfbf00;stroke:#bfbf00;\" x=\"101.412563\" xlink:href=\"#m1b36f98a7b\" y=\"309.492256\"/>\r\n     <use style=\"fill:#bfbf00;stroke:#bfbf00;\" x=\"101.412563\" xlink:href=\"#m1b36f98a7b\" y=\"391.508011\"/>\r\n     <use style=\"fill:#bfbf00;stroke:#bfbf00;\" x=\"101.412563\" xlink:href=\"#m1b36f98a7b\" y=\"383.123014\"/>\r\n     <use style=\"fill:#bfbf00;stroke:#bfbf00;\" x=\"101.412563\" xlink:href=\"#m1b36f98a7b\" y=\"365.206633\"/>\r\n     <use style=\"fill:#bfbf00;stroke:#bfbf00;\" x=\"100.785101\" xlink:href=\"#m1b36f98a7b\" y=\"387.315512\"/>\r\n     <use style=\"fill:#bfbf00;stroke:#bfbf00;\" x=\"100.785101\" xlink:href=\"#m1b36f98a7b\" y=\"401.006641\"/>\r\n     <use style=\"fill:#bfbf00;stroke:#bfbf00;\" x=\"100.785101\" xlink:href=\"#m1b36f98a7b\" y=\"81.787172\"/>\r\n     <use style=\"fill:#bfbf00;stroke:#bfbf00;\" x=\"100.785101\" xlink:href=\"#m1b36f98a7b\" y=\"391.770042\"/>\r\n     <use style=\"fill:#bfbf00;stroke:#bfbf00;\" x=\"100.15764\" xlink:href=\"#m1b36f98a7b\" y=\"399.696485\"/>\r\n     <use style=\"fill:#bfbf00;stroke:#bfbf00;\" x=\"100.15764\" xlink:href=\"#m1b36f98a7b\" y=\"290.593258\"/>\r\n     <use style=\"fill:#bfbf00;stroke:#bfbf00;\" x=\"100.15764\" xlink:href=\"#m1b36f98a7b\" y=\"346.209373\"/>\r\n     <use style=\"fill:#bfbf00;stroke:#bfbf00;\" x=\"100.15764\" xlink:href=\"#m1b36f98a7b\" y=\"335.236818\"/>\r\n     <use style=\"fill:#bfbf00;stroke:#bfbf00;\" x=\"100.15764\" xlink:href=\"#m1b36f98a7b\" y=\"403.004629\"/>\r\n     <use style=\"fill:#bfbf00;stroke:#bfbf00;\" x=\"100.15764\" xlink:href=\"#m1b36f98a7b\" y=\"363.339661\"/>\r\n     <use style=\"fill:#bfbf00;stroke:#bfbf00;\" x=\"100.15764\" xlink:href=\"#m1b36f98a7b\" y=\"337.365821\"/>\r\n     <use style=\"fill:#bfbf00;stroke:#bfbf00;\" x=\"100.15764\" xlink:href=\"#m1b36f98a7b\" y=\"383.450553\"/>\r\n     <use style=\"fill:#bfbf00;stroke:#bfbf00;\" x=\"99.530179\" xlink:href=\"#m1b36f98a7b\" y=\"400.875625\"/>\r\n     <use style=\"fill:#bfbf00;stroke:#bfbf00;\" x=\"99.530179\" xlink:href=\"#m1b36f98a7b\" y=\"364.748078\"/>\r\n     <use style=\"fill:#bfbf00;stroke:#bfbf00;\" x=\"99.530179\" xlink:href=\"#m1b36f98a7b\" y=\"224.004588\"/>\r\n     <use style=\"fill:#bfbf00;stroke:#bfbf00;\" x=\"99.530179\" xlink:href=\"#m1b36f98a7b\" y=\"399.729239\"/>\r\n     <use style=\"fill:#bfbf00;stroke:#bfbf00;\" x=\"99.530179\" xlink:href=\"#m1b36f98a7b\" y=\"327.113852\"/>\r\n     <use style=\"fill:#bfbf00;stroke:#bfbf00;\" x=\"99.530179\" xlink:href=\"#m1b36f98a7b\" y=\"390.099594\"/>\r\n     <use style=\"fill:#bfbf00;stroke:#bfbf00;\" x=\"99.530179\" xlink:href=\"#m1b36f98a7b\" y=\"403.201152\"/>\r\n     <use style=\"fill:#bfbf00;stroke:#bfbf00;\" x=\"98.902718\" xlink:href=\"#m1b36f98a7b\" y=\"379.913132\"/>\r\n     <use style=\"fill:#bfbf00;stroke:#bfbf00;\" x=\"98.902718\" xlink:href=\"#m1b36f98a7b\" y=\"356.232065\"/>\r\n     <use style=\"fill:#bfbf00;stroke:#bfbf00;\" x=\"98.902718\" xlink:href=\"#m1b36f98a7b\" y=\"354.987417\"/>\r\n     <use style=\"fill:#bfbf00;stroke:#bfbf00;\" x=\"98.902718\" xlink:href=\"#m1b36f98a7b\" y=\"371.593642\"/>\r\n     <use style=\"fill:#bfbf00;stroke:#bfbf00;\" x=\"98.902718\" xlink:href=\"#m1b36f98a7b\" y=\"400.842871\"/>\r\n     <use style=\"fill:#bfbf00;stroke:#bfbf00;\" x=\"98.902718\" xlink:href=\"#m1b36f98a7b\" y=\"387.38102\"/>\r\n     <use style=\"fill:#bfbf00;stroke:#bfbf00;\" x=\"98.902718\" xlink:href=\"#m1b36f98a7b\" y=\"42.285973\"/>\r\n     <use style=\"fill:#bfbf00;stroke:#bfbf00;\" x=\"98.275257\" xlink:href=\"#m1b36f98a7b\" y=\"376.506727\"/>\r\n     <use style=\"fill:#bfbf00;stroke:#bfbf00;\" x=\"98.275257\" xlink:href=\"#m1b36f98a7b\" y=\"384.760709\"/>\r\n     <use style=\"fill:#bfbf00;stroke:#bfbf00;\" x=\"98.275257\" xlink:href=\"#m1b36f98a7b\" y=\"397.04342\"/>\r\n     <use style=\"fill:#bfbf00;stroke:#bfbf00;\" x=\"98.275257\" xlink:href=\"#m1b36f98a7b\" y=\"351.810289\"/>\r\n     <use style=\"fill:#bfbf00;stroke:#bfbf00;\" x=\"98.275257\" xlink:href=\"#m1b36f98a7b\" y=\"382.402428\"/>\r\n     <use style=\"fill:#bfbf00;stroke:#bfbf00;\" x=\"98.275257\" xlink:href=\"#m1b36f98a7b\" y=\"405.493925\"/>\r\n     <use style=\"fill:#bfbf00;stroke:#bfbf00;\" x=\"98.275257\" xlink:href=\"#m1b36f98a7b\" y=\"369.693916\"/>\r\n     <use style=\"fill:#bfbf00;stroke:#bfbf00;\" x=\"98.275257\" xlink:href=\"#m1b36f98a7b\" y=\"404.544062\"/>\r\n     <use style=\"fill:#bfbf00;stroke:#bfbf00;\" x=\"98.275257\" xlink:href=\"#m1b36f98a7b\" y=\"361.308919\"/>\r\n     <use style=\"fill:#bfbf00;stroke:#bfbf00;\" x=\"97.647795\" xlink:href=\"#m1b36f98a7b\" y=\"383.057506\"/>\r\n     <use style=\"fill:#bfbf00;stroke:#bfbf00;\" x=\"97.647795\" xlink:href=\"#m1b36f98a7b\" y=\"394.193831\"/>\r\n     <use style=\"fill:#bfbf00;stroke:#bfbf00;\" x=\"97.647795\" xlink:href=\"#m1b36f98a7b\" y=\"77.856704\"/>\r\n     <use style=\"fill:#bfbf00;stroke:#bfbf00;\" x=\"97.647795\" xlink:href=\"#m1b36f98a7b\" y=\"387.675805\"/>\r\n     <use style=\"fill:#bfbf00;stroke:#bfbf00;\" x=\"97.647795\" xlink:href=\"#m1b36f98a7b\" y=\"398.026036\"/>\r\n     <use style=\"fill:#bfbf00;stroke:#bfbf00;\" x=\"97.647795\" xlink:href=\"#m1b36f98a7b\" y=\"376.506727\"/>\r\n     <use style=\"fill:#bfbf00;stroke:#bfbf00;\" x=\"97.647795\" xlink:href=\"#m1b36f98a7b\" y=\"404.151015\"/>\r\n     <use style=\"fill:#bfbf00;stroke:#bfbf00;\" x=\"97.647795\" xlink:href=\"#m1b36f98a7b\" y=\"370.774795\"/>\r\n     <use style=\"fill:#bfbf00;stroke:#bfbf00;\" x=\"97.020334\" xlink:href=\"#m1b36f98a7b\" y=\"381.74735\"/>\r\n     <use style=\"fill:#bfbf00;stroke:#bfbf00;\" x=\"97.020334\" xlink:href=\"#m1b36f98a7b\" y=\"353.185953\"/>\r\n     <use style=\"fill:#bfbf00;stroke:#bfbf00;\" x=\"97.020334\" xlink:href=\"#m1b36f98a7b\" y=\"401.006641\"/>\r\n     <use style=\"fill:#bfbf00;stroke:#bfbf00;\" x=\"97.020334\" xlink:href=\"#m1b36f98a7b\" y=\"391.704535\"/>\r\n     <use style=\"fill:#bfbf00;stroke:#bfbf00;\" x=\"97.020334\" xlink:href=\"#m1b36f98a7b\" y=\"375.589618\"/>\r\n     <use style=\"fill:#bfbf00;stroke:#bfbf00;\" x=\"97.020334\" xlink:href=\"#m1b36f98a7b\" y=\"367.630421\"/>\r\n     <use style=\"fill:#bfbf00;stroke:#bfbf00;\" x=\"97.020334\" xlink:href=\"#m1b36f98a7b\" y=\"311.817782\"/>\r\n     <use style=\"fill:#bfbf00;stroke:#bfbf00;\" x=\"97.020334\" xlink:href=\"#m1b36f98a7b\" y=\"357.902514\"/>\r\n     <use style=\"fill:#bfbf00;stroke:#bfbf00;\" x=\"97.020334\" xlink:href=\"#m1b36f98a7b\" y=\"371.266103\"/>\r\n     <use style=\"fill:#bfbf00;stroke:#bfbf00;\" x=\"96.392873\" xlink:href=\"#m1b36f98a7b\" y=\"394.455862\"/>\r\n     <use style=\"fill:#bfbf00;stroke:#bfbf00;\" x=\"96.392873\" xlink:href=\"#m1b36f98a7b\" y=\"122.533018\"/>\r\n     <use style=\"fill:#bfbf00;stroke:#bfbf00;\" x=\"96.392873\" xlink:href=\"#m1b36f98a7b\" y=\"391.376996\"/>\r\n     <use style=\"fill:#bfbf00;stroke:#bfbf00;\" x=\"96.392873\" xlink:href=\"#m1b36f98a7b\" y=\"405.395663\"/>\r\n     <use style=\"fill:#bfbf00;stroke:#bfbf00;\" x=\"96.392873\" xlink:href=\"#m1b36f98a7b\" y=\"383.286783\"/>\r\n     <use style=\"fill:#bfbf00;stroke:#bfbf00;\" x=\"96.392873\" xlink:href=\"#m1b36f98a7b\" y=\"384.662447\"/>\r\n     <use style=\"fill:#bfbf00;stroke:#bfbf00;\" x=\"96.392873\" xlink:href=\"#m1b36f98a7b\" y=\"405.133632\"/>\r\n     <use style=\"fill:#bfbf00;stroke:#bfbf00;\" x=\"96.392873\" xlink:href=\"#m1b36f98a7b\" y=\"401.628965\"/>\r\n     <use style=\"fill:#bfbf00;stroke:#bfbf00;\" x=\"96.392873\" xlink:href=\"#m1b36f98a7b\" y=\"344.178632\"/>\r\n     <use style=\"fill:#bfbf00;stroke:#bfbf00;\" x=\"96.392873\" xlink:href=\"#m1b36f98a7b\" y=\"401.792734\"/>\r\n     <use style=\"fill:#bfbf00;stroke:#bfbf00;\" x=\"95.765412\" xlink:href=\"#m1b36f98a7b\" y=\"394.455862\"/>\r\n     <use style=\"fill:#bfbf00;stroke:#bfbf00;\" x=\"95.765412\" xlink:href=\"#m1b36f98a7b\" y=\"389.3135\"/>\r\n     <use style=\"fill:#bfbf00;stroke:#bfbf00;\" x=\"95.765412\" xlink:href=\"#m1b36f98a7b\" y=\"355.773511\"/>\r\n     <use style=\"fill:#bfbf00;stroke:#bfbf00;\" x=\"95.765412\" xlink:href=\"#m1b36f98a7b\" y=\"331.633889\"/>\r\n     <use style=\"fill:#bfbf00;stroke:#bfbf00;\" x=\"95.765412\" xlink:href=\"#m1b36f98a7b\" y=\"325.869204\"/>\r\n     <use style=\"fill:#bfbf00;stroke:#bfbf00;\" x=\"95.765412\" xlink:href=\"#m1b36f98a7b\" y=\"405.362909\"/>\r\n     <use style=\"fill:#bfbf00;stroke:#bfbf00;\" x=\"95.765412\" xlink:href=\"#m1b36f98a7b\" y=\"375.36034\"/>\r\n     <use style=\"fill:#bfbf00;stroke:#bfbf00;\" x=\"95.765412\" xlink:href=\"#m1b36f98a7b\" y=\"354.725386\"/>\r\n     <use style=\"fill:#bfbf00;stroke:#bfbf00;\" x=\"95.137951\" xlink:href=\"#m1b36f98a7b\" y=\"358.262807\"/>\r\n     <use style=\"fill:#bfbf00;stroke:#bfbf00;\" x=\"95.137951\" xlink:href=\"#m1b36f98a7b\" y=\"393.309475\"/>\r\n     <use style=\"fill:#bfbf00;stroke:#bfbf00;\" x=\"95.137951\" xlink:href=\"#m1b36f98a7b\" y=\"348.469392\"/>\r\n     <use style=\"fill:#bfbf00;stroke:#bfbf00;\" x=\"95.137951\" xlink:href=\"#m1b36f98a7b\" y=\"407.655682\"/>\r\n     <use style=\"fill:#bfbf00;stroke:#bfbf00;\" x=\"95.137951\" xlink:href=\"#m1b36f98a7b\" y=\"396.748634\"/>\r\n     <use style=\"fill:#bfbf00;stroke:#bfbf00;\" x=\"95.137951\" xlink:href=\"#m1b36f98a7b\" y=\"398.81213\"/>\r\n     <use style=\"fill:#bfbf00;stroke:#bfbf00;\" x=\"94.510489\" xlink:href=\"#m1b36f98a7b\" y=\"391.99932\"/>\r\n     <use style=\"fill:#bfbf00;stroke:#bfbf00;\" x=\"94.510489\" xlink:href=\"#m1b36f98a7b\" y=\"397.370959\"/>\r\n     <use style=\"fill:#bfbf00;stroke:#bfbf00;\" x=\"94.510489\" xlink:href=\"#m1b36f98a7b\" y=\"389.575531\"/>\r\n     <use style=\"fill:#bfbf00;stroke:#bfbf00;\" x=\"94.510489\" xlink:href=\"#m1b36f98a7b\" y=\"248.635517\"/>\r\n     <use style=\"fill:#bfbf00;stroke:#bfbf00;\" x=\"94.510489\" xlink:href=\"#m1b36f98a7b\" y=\"407.590174\"/>\r\n     <use style=\"fill:#bfbf00;stroke:#bfbf00;\" x=\"94.510489\" xlink:href=\"#m1b36f98a7b\" y=\"397.665744\"/>\r\n     <use style=\"fill:#bfbf00;stroke:#bfbf00;\" x=\"94.510489\" xlink:href=\"#m1b36f98a7b\" y=\"404.60957\"/>\r\n     <use style=\"fill:#bfbf00;stroke:#bfbf00;\" x=\"94.510489\" xlink:href=\"#m1b36f98a7b\" y=\"394.979924\"/>\r\n     <use style=\"fill:#bfbf00;stroke:#bfbf00;\" x=\"93.883028\" xlink:href=\"#m1b36f98a7b\" y=\"393.735276\"/>\r\n     <use style=\"fill:#bfbf00;stroke:#bfbf00;\" x=\"93.883028\" xlink:href=\"#m1b36f98a7b\" y=\"401.203164\"/>\r\n     <use style=\"fill:#bfbf00;stroke:#bfbf00;\" x=\"93.883028\" xlink:href=\"#m1b36f98a7b\" y=\"396.650373\"/>\r\n     <use style=\"fill:#bfbf00;stroke:#bfbf00;\" x=\"93.883028\" xlink:href=\"#m1b36f98a7b\" y=\"339.986133\"/>\r\n     <use style=\"fill:#bfbf00;stroke:#bfbf00;\" x=\"93.883028\" xlink:href=\"#m1b36f98a7b\" y=\"396.87965\"/>\r\n     <use style=\"fill:#bfbf00;stroke:#bfbf00;\" x=\"93.883028\" xlink:href=\"#m1b36f98a7b\" y=\"386.987974\"/>\r\n     <use style=\"fill:#bfbf00;stroke:#bfbf00;\" x=\"93.883028\" xlink:href=\"#m1b36f98a7b\" y=\"406.96785\"/>\r\n     <use style=\"fill:#bfbf00;stroke:#bfbf00;\" x=\"93.255567\" xlink:href=\"#m1b36f98a7b\" y=\"393.60426\"/>\r\n     <use style=\"fill:#bfbf00;stroke:#bfbf00;\" x=\"93.255567\" xlink:href=\"#m1b36f98a7b\" y=\"381.419811\"/>\r\n     <use style=\"fill:#bfbf00;stroke:#bfbf00;\" x=\"93.255567\" xlink:href=\"#m1b36f98a7b\" y=\"405.62494\"/>\r\n     <use style=\"fill:#bfbf00;stroke:#bfbf00;\" x=\"93.255567\" xlink:href=\"#m1b36f98a7b\" y=\"343.9166\"/>\r\n     <use style=\"fill:#bfbf00;stroke:#bfbf00;\" x=\"93.255567\" xlink:href=\"#m1b36f98a7b\" y=\"402.939121\"/>\r\n     <use style=\"fill:#bfbf00;stroke:#bfbf00;\" x=\"93.255567\" xlink:href=\"#m1b36f98a7b\" y=\"388.13436\"/>\r\n     <use style=\"fill:#bfbf00;stroke:#bfbf00;\" x=\"93.255567\" xlink:href=\"#m1b36f98a7b\" y=\"403.10289\"/>\r\n     <use style=\"fill:#bfbf00;stroke:#bfbf00;\" x=\"93.255567\" xlink:href=\"#m1b36f98a7b\" y=\"397.600236\"/>\r\n     <use style=\"fill:#bfbf00;stroke:#bfbf00;\" x=\"93.255567\" xlink:href=\"#m1b36f98a7b\" y=\"399.532716\"/>\r\n     <use style=\"fill:#bfbf00;stroke:#bfbf00;\" x=\"93.255567\" xlink:href=\"#m1b36f98a7b\" y=\"403.070136\"/>\r\n     <use style=\"fill:#bfbf00;stroke:#bfbf00;\" x=\"92.628106\" xlink:href=\"#m1b36f98a7b\" y=\"392.556136\"/>\r\n     <use style=\"fill:#bfbf00;stroke:#bfbf00;\" x=\"92.628106\" xlink:href=\"#m1b36f98a7b\" y=\"404.969862\"/>\r\n     <use style=\"fill:#bfbf00;stroke:#bfbf00;\" x=\"92.628106\" xlink:href=\"#m1b36f98a7b\" y=\"397.370959\"/>\r\n     <use style=\"fill:#bfbf00;stroke:#bfbf00;\" x=\"92.628106\" xlink:href=\"#m1b36f98a7b\" y=\"395.471233\"/>\r\n     <use style=\"fill:#bfbf00;stroke:#bfbf00;\" x=\"92.628106\" xlink:href=\"#m1b36f98a7b\" y=\"390.328871\"/>\r\n     <use style=\"fill:#bfbf00;stroke:#bfbf00;\" x=\"92.628106\" xlink:href=\"#m1b36f98a7b\" y=\"364.617063\"/>\r\n     <use style=\"fill:#bfbf00;stroke:#bfbf00;\" x=\"92.628106\" xlink:href=\"#m1b36f98a7b\" y=\"402.644336\"/>\r\n     <use style=\"fill:#bfbf00;stroke:#bfbf00;\" x=\"92.628106\" xlink:href=\"#m1b36f98a7b\" y=\"27.481212\"/>\r\n     <use style=\"fill:#bfbf00;stroke:#bfbf00;\" x=\"92.628106\" xlink:href=\"#m1b36f98a7b\" y=\"210.215197\"/>\r\n     <use style=\"fill:#bfbf00;stroke:#bfbf00;\" x=\"92.000645\" xlink:href=\"#m1b36f98a7b\" y=\"397.829513\"/>\r\n     <use style=\"fill:#bfbf00;stroke:#bfbf00;\" x=\"92.000645\" xlink:href=\"#m1b36f98a7b\" y=\"373.231337\"/>\r\n     <use style=\"fill:#bfbf00;stroke:#bfbf00;\" x=\"92.000645\" xlink:href=\"#m1b36f98a7b\" y=\"381.059518\"/>\r\n     <use style=\"fill:#bfbf00;stroke:#bfbf00;\" x=\"92.000645\" xlink:href=\"#m1b36f98a7b\" y=\"385.939849\"/>\r\n     <use style=\"fill:#bfbf00;stroke:#bfbf00;\" x=\"92.000645\" xlink:href=\"#m1b36f98a7b\" y=\"390.296117\"/>\r\n     <use style=\"fill:#bfbf00;stroke:#bfbf00;\" x=\"92.000645\" xlink:href=\"#m1b36f98a7b\" y=\"400.908379\"/>\r\n     <use style=\"fill:#bfbf00;stroke:#bfbf00;\" x=\"92.000645\" xlink:href=\"#m1b36f98a7b\" y=\"398.026036\"/>\r\n     <use style=\"fill:#bfbf00;stroke:#bfbf00;\" x=\"91.373183\" xlink:href=\"#m1b36f98a7b\" y=\"401.432442\"/>\r\n     <use style=\"fill:#bfbf00;stroke:#bfbf00;\" x=\"91.373183\" xlink:href=\"#m1b36f98a7b\" y=\"402.185781\"/>\r\n     <use style=\"fill:#bfbf00;stroke:#bfbf00;\" x=\"91.373183\" xlink:href=\"#m1b36f98a7b\" y=\"400.973887\"/>\r\n     <use style=\"fill:#bfbf00;stroke:#bfbf00;\" x=\"90.745722\" xlink:href=\"#m1b36f98a7b\" y=\"407.590174\"/>\r\n     <use style=\"fill:#bfbf00;stroke:#bfbf00;\" x=\"90.745722\" xlink:href=\"#m1b36f98a7b\" y=\"407.164373\"/>\r\n     <use style=\"fill:#bfbf00;stroke:#bfbf00;\" x=\"90.745722\" xlink:href=\"#m1b36f98a7b\" y=\"400.187794\"/>\r\n     <use style=\"fill:#bfbf00;stroke:#bfbf00;\" x=\"90.745722\" xlink:href=\"#m1b36f98a7b\" y=\"244.11548\"/>\r\n     <use style=\"fill:#bfbf00;stroke:#bfbf00;\" x=\"90.745722\" xlink:href=\"#m1b36f98a7b\" y=\"396.191818\"/>\r\n     <use style=\"fill:#bfbf00;stroke:#bfbf00;\" x=\"90.745722\" xlink:href=\"#m1b36f98a7b\" y=\"407.033358\"/>\r\n     <use style=\"fill:#bfbf00;stroke:#bfbf00;\" x=\"90.745722\" xlink:href=\"#m1b36f98a7b\" y=\"397.698497\"/>\r\n     <use style=\"fill:#bfbf00;stroke:#bfbf00;\" x=\"90.745722\" xlink:href=\"#m1b36f98a7b\" y=\"388.625668\"/>\r\n     <use style=\"fill:#bfbf00;stroke:#bfbf00;\" x=\"90.745722\" xlink:href=\"#m1b36f98a7b\" y=\"372.641767\"/>\r\n     <use style=\"fill:#bfbf00;stroke:#bfbf00;\" x=\"90.118261\" xlink:href=\"#m1b36f98a7b\" y=\"388.232622\"/>\r\n     <use style=\"fill:#bfbf00;stroke:#bfbf00;\" x=\"90.118261\" xlink:href=\"#m1b36f98a7b\" y=\"368.219991\"/>\r\n     <use style=\"fill:#bfbf00;stroke:#bfbf00;\" x=\"90.118261\" xlink:href=\"#m1b36f98a7b\" y=\"402.218535\"/>\r\n     <use style=\"fill:#bfbf00;stroke:#bfbf00;\" x=\"90.118261\" xlink:href=\"#m1b36f98a7b\" y=\"179.852336\"/>\r\n     <use style=\"fill:#bfbf00;stroke:#bfbf00;\" x=\"90.118261\" xlink:href=\"#m1b36f98a7b\" y=\"401.432442\"/>\r\n     <use style=\"fill:#bfbf00;stroke:#bfbf00;\" x=\"90.118261\" xlink:href=\"#m1b36f98a7b\" y=\"407.262635\"/>\r\n     <use style=\"fill:#bfbf00;stroke:#bfbf00;\" x=\"89.4908\" xlink:href=\"#m1b36f98a7b\" y=\"224.397634\"/>\r\n     <use style=\"fill:#bfbf00;stroke:#bfbf00;\" x=\"89.4908\" xlink:href=\"#m1b36f98a7b\" y=\"405.100878\"/>\r\n     <use style=\"fill:#bfbf00;stroke:#bfbf00;\" x=\"89.4908\" xlink:href=\"#m1b36f98a7b\" y=\"397.403712\"/>\r\n     <use style=\"fill:#bfbf00;stroke:#bfbf00;\" x=\"89.4908\" xlink:href=\"#m1b36f98a7b\" y=\"49.197045\"/>\r\n     <use style=\"fill:#bfbf00;stroke:#bfbf00;\" x=\"89.4908\" xlink:href=\"#m1b36f98a7b\" y=\"405.62494\"/>\r\n     <use style=\"fill:#bfbf00;stroke:#bfbf00;\" x=\"89.4908\" xlink:href=\"#m1b36f98a7b\" y=\"398.975899\"/>\r\n     <use style=\"fill:#bfbf00;stroke:#bfbf00;\" x=\"89.4908\" xlink:href=\"#m1b36f98a7b\" y=\"227.476501\"/>\r\n     <use style=\"fill:#bfbf00;stroke:#bfbf00;\" x=\"88.863339\" xlink:href=\"#m1b36f98a7b\" y=\"407.622928\"/>\r\n     <use style=\"fill:#bfbf00;stroke:#bfbf00;\" x=\"88.863339\" xlink:href=\"#m1b36f98a7b\" y=\"391.344242\"/>\r\n     <use style=\"fill:#bfbf00;stroke:#bfbf00;\" x=\"88.863339\" xlink:href=\"#m1b36f98a7b\" y=\"406.312772\"/>\r\n     <use style=\"fill:#bfbf00;stroke:#bfbf00;\" x=\"88.863339\" xlink:href=\"#m1b36f98a7b\" y=\"335.33508\"/>\r\n     <use style=\"fill:#bfbf00;stroke:#bfbf00;\" x=\"88.235877\" xlink:href=\"#m1b36f98a7b\" y=\"399.893008\"/>\r\n     <use style=\"fill:#bfbf00;stroke:#bfbf00;\" x=\"88.235877\" xlink:href=\"#m1b36f98a7b\" y=\"406.738573\"/>\r\n     <use style=\"fill:#bfbf00;stroke:#bfbf00;\" x=\"88.235877\" xlink:href=\"#m1b36f98a7b\" y=\"344.66994\"/>\r\n     <use style=\"fill:#bfbf00;stroke:#bfbf00;\" x=\"88.235877\" xlink:href=\"#m1b36f98a7b\" y=\"407.164373\"/>\r\n     <use style=\"fill:#bfbf00;stroke:#bfbf00;\" x=\"88.235877\" xlink:href=\"#m1b36f98a7b\" y=\"406.149003\"/>\r\n     <use style=\"fill:#bfbf00;stroke:#bfbf00;\" x=\"88.235877\" xlink:href=\"#m1b36f98a7b\" y=\"381.681842\"/>\r\n     <use style=\"fill:#bfbf00;stroke:#bfbf00;\" x=\"88.235877\" xlink:href=\"#m1b36f98a7b\" y=\"394.783401\"/>\r\n     <use style=\"fill:#bfbf00;stroke:#bfbf00;\" x=\"87.608416\" xlink:href=\"#m1b36f98a7b\" y=\"405.362909\"/>\r\n     <use style=\"fill:#bfbf00;stroke:#bfbf00;\" x=\"87.608416\" xlink:href=\"#m1b36f98a7b\" y=\"234.682358\"/>\r\n     <use style=\"fill:#bfbf00;stroke:#bfbf00;\" x=\"87.608416\" xlink:href=\"#m1b36f98a7b\" y=\"398.288068\"/>\r\n     <use style=\"fill:#bfbf00;stroke:#bfbf00;\" x=\"87.608416\" xlink:href=\"#m1b36f98a7b\" y=\"399.106915\"/>\r\n     <use style=\"fill:#bfbf00;stroke:#bfbf00;\" x=\"87.608416\" xlink:href=\"#m1b36f98a7b\" y=\"401.661719\"/>\r\n     <use style=\"fill:#bfbf00;stroke:#bfbf00;\" x=\"87.608416\" xlink:href=\"#m1b36f98a7b\" y=\"379.945886\"/>\r\n     <use style=\"fill:#bfbf00;stroke:#bfbf00;\" x=\"86.980955\" xlink:href=\"#m1b36f98a7b\" y=\"322.200767\"/>\r\n     <use style=\"fill:#bfbf00;stroke:#bfbf00;\" x=\"86.980955\" xlink:href=\"#m1b36f98a7b\" y=\"393.899046\"/>\r\n     <use style=\"fill:#bfbf00;stroke:#bfbf00;\" x=\"85.726033\" xlink:href=\"#m1b36f98a7b\" y=\"334.024924\"/>\r\n     <use style=\"fill:#bfbf00;stroke:#bfbf00;\" x=\"85.726033\" xlink:href=\"#m1b36f98a7b\" y=\"401.366934\"/>\r\n     <use style=\"fill:#bfbf00;stroke:#bfbf00;\" x=\"85.726033\" xlink:href=\"#m1b36f98a7b\" y=\"359.081654\"/>\r\n     <use style=\"fill:#bfbf00;stroke:#bfbf00;\" x=\"85.098571\" xlink:href=\"#m1b36f98a7b\" y=\"405.362909\"/>\r\n     <use style=\"fill:#bfbf00;stroke:#bfbf00;\" x=\"85.098571\" xlink:href=\"#m1b36f98a7b\" y=\"401.92375\"/>\r\n     <use style=\"fill:#bfbf00;stroke:#bfbf00;\" x=\"84.47111\" xlink:href=\"#m1b36f98a7b\" y=\"356.264819\"/>\r\n     <use style=\"fill:#bfbf00;stroke:#bfbf00;\" x=\"84.47111\" xlink:href=\"#m1b36f98a7b\" y=\"398.517345\"/>\r\n     <use style=\"fill:#bfbf00;stroke:#bfbf00;\" x=\"83.843649\" xlink:href=\"#m1b36f98a7b\" y=\"402.284043\"/>\r\n     <use style=\"fill:#bfbf00;stroke:#bfbf00;\" x=\"83.843649\" xlink:href=\"#m1b36f98a7b\" y=\"252.86077\"/>\r\n     <use style=\"fill:#bfbf00;stroke:#bfbf00;\" x=\"83.216188\" xlink:href=\"#m1b36f98a7b\" y=\"384.760709\"/>\r\n     <use style=\"fill:#bfbf00;stroke:#bfbf00;\" x=\"82.588726\" xlink:href=\"#m1b36f98a7b\" y=\"389.935824\"/>\r\n     <use style=\"fill:#bfbf00;stroke:#bfbf00;\" x=\"82.588726\" xlink:href=\"#m1b36f98a7b\" y=\"233.666987\"/>\r\n     <use style=\"fill:#bfbf00;stroke:#bfbf00;\" x=\"81.961265\" xlink:href=\"#m1b36f98a7b\" y=\"359.998763\"/>\r\n     <use style=\"fill:#bfbf00;stroke:#bfbf00;\" x=\"81.961265\" xlink:href=\"#m1b36f98a7b\" y=\"302.712199\"/>\r\n     <use style=\"fill:#bfbf00;stroke:#bfbf00;\" x=\"79.45142\" xlink:href=\"#m1b36f98a7b\" y=\"364.715324\"/>\r\n    </g>\r\n   </g>\r\n   <g id=\"matplotlib.axis_1\">\r\n    <g id=\"xtick_1\">\r\n     <g id=\"line2d_1\">\r\n      <defs>\r\n       <path d=\"M 0 0 \r\nL 0 3.5 \r\n\" id=\"m96e8c2679c\" style=\"stroke:#000000;stroke-width:0.8;\"/>\r\n      </defs>\r\n      <g>\r\n       <use style=\"stroke:#000000;stroke-width:0.8;\" x=\"70.666964\" xlink:href=\"#m96e8c2679c\" y=\"426.725\"/>\r\n      </g>\r\n     </g>\r\n     <g id=\"text_1\">\r\n      <!-- 2015-11 -->\r\n      <defs>\r\n       <path d=\"M 19.1875 8.296875 \r\nL 53.609375 8.296875 \r\nL 53.609375 0 \r\nL 7.328125 0 \r\nL 7.328125 8.296875 \r\nQ 12.9375 14.109375 22.625 23.890625 \r\nQ 32.328125 33.6875 34.8125 36.53125 \r\nQ 39.546875 41.84375 41.421875 45.53125 \r\nQ 43.3125 49.21875 43.3125 52.78125 \r\nQ 43.3125 58.59375 39.234375 62.25 \r\nQ 35.15625 65.921875 28.609375 65.921875 \r\nQ 23.96875 65.921875 18.8125 64.3125 \r\nQ 13.671875 62.703125 7.8125 59.421875 \r\nL 7.8125 69.390625 \r\nQ 13.765625 71.78125 18.9375 73 \r\nQ 24.125 74.21875 28.421875 74.21875 \r\nQ 39.75 74.21875 46.484375 68.546875 \r\nQ 53.21875 62.890625 53.21875 53.421875 \r\nQ 53.21875 48.921875 51.53125 44.890625 \r\nQ 49.859375 40.875 45.40625 35.40625 \r\nQ 44.1875 33.984375 37.640625 27.21875 \r\nQ 31.109375 20.453125 19.1875 8.296875 \r\nz\r\n\" id=\"DejaVuSans-50\"/>\r\n       <path d=\"M 31.78125 66.40625 \r\nQ 24.171875 66.40625 20.328125 58.90625 \r\nQ 16.5 51.421875 16.5 36.375 \r\nQ 16.5 21.390625 20.328125 13.890625 \r\nQ 24.171875 6.390625 31.78125 6.390625 \r\nQ 39.453125 6.390625 43.28125 13.890625 \r\nQ 47.125 21.390625 47.125 36.375 \r\nQ 47.125 51.421875 43.28125 58.90625 \r\nQ 39.453125 66.40625 31.78125 66.40625 \r\nz\r\nM 31.78125 74.21875 \r\nQ 44.046875 74.21875 50.515625 64.515625 \r\nQ 56.984375 54.828125 56.984375 36.375 \r\nQ 56.984375 17.96875 50.515625 8.265625 \r\nQ 44.046875 -1.421875 31.78125 -1.421875 \r\nQ 19.53125 -1.421875 13.0625 8.265625 \r\nQ 6.59375 17.96875 6.59375 36.375 \r\nQ 6.59375 54.828125 13.0625 64.515625 \r\nQ 19.53125 74.21875 31.78125 74.21875 \r\nz\r\n\" id=\"DejaVuSans-48\"/>\r\n       <path d=\"M 12.40625 8.296875 \r\nL 28.515625 8.296875 \r\nL 28.515625 63.921875 \r\nL 10.984375 60.40625 \r\nL 10.984375 69.390625 \r\nL 28.421875 72.90625 \r\nL 38.28125 72.90625 \r\nL 38.28125 8.296875 \r\nL 54.390625 8.296875 \r\nL 54.390625 0 \r\nL 12.40625 0 \r\nz\r\n\" id=\"DejaVuSans-49\"/>\r\n       <path d=\"M 10.796875 72.90625 \r\nL 49.515625 72.90625 \r\nL 49.515625 64.59375 \r\nL 19.828125 64.59375 \r\nL 19.828125 46.734375 \r\nQ 21.96875 47.46875 24.109375 47.828125 \r\nQ 26.265625 48.1875 28.421875 48.1875 \r\nQ 40.625 48.1875 47.75 41.5 \r\nQ 54.890625 34.8125 54.890625 23.390625 \r\nQ 54.890625 11.625 47.5625 5.09375 \r\nQ 40.234375 -1.421875 26.90625 -1.421875 \r\nQ 22.3125 -1.421875 17.546875 -0.640625 \r\nQ 12.796875 0.140625 7.71875 1.703125 \r\nL 7.71875 11.625 \r\nQ 12.109375 9.234375 16.796875 8.0625 \r\nQ 21.484375 6.890625 26.703125 6.890625 \r\nQ 35.15625 6.890625 40.078125 11.328125 \r\nQ 45.015625 15.765625 45.015625 23.390625 \r\nQ 45.015625 31 40.078125 35.4375 \r\nQ 35.15625 39.890625 26.703125 39.890625 \r\nQ 22.75 39.890625 18.8125 39.015625 \r\nQ 14.890625 38.140625 10.796875 36.28125 \r\nz\r\n\" id=\"DejaVuSans-53\"/>\r\n       <path d=\"M 4.890625 31.390625 \r\nL 31.203125 31.390625 \r\nL 31.203125 23.390625 \r\nL 4.890625 23.390625 \r\nz\r\n\" id=\"DejaVuSans-45\"/>\r\n      </defs>\r\n      <g transform=\"translate(73.426339 475.507812)rotate(-90)scale(0.1 -0.1)\">\r\n       <use xlink:href=\"#DejaVuSans-50\"/>\r\n       <use x=\"63.623047\" xlink:href=\"#DejaVuSans-48\"/>\r\n       <use x=\"127.246094\" xlink:href=\"#DejaVuSans-49\"/>\r\n       <use x=\"190.869141\" xlink:href=\"#DejaVuSans-53\"/>\r\n       <use x=\"254.492188\" xlink:href=\"#DejaVuSans-45\"/>\r\n       <use x=\"290.576172\" xlink:href=\"#DejaVuSans-49\"/>\r\n       <use x=\"354.199219\" xlink:href=\"#DejaVuSans-49\"/>\r\n      </g>\r\n     </g>\r\n    </g>\r\n    <g id=\"xtick_2\">\r\n     <g id=\"line2d_2\">\r\n      <g>\r\n       <use style=\"stroke:#000000;stroke-width:0.8;\" x=\"108.942097\" xlink:href=\"#m96e8c2679c\" y=\"426.725\"/>\r\n      </g>\r\n     </g>\r\n     <g id=\"text_2\">\r\n      <!-- 2016-01 -->\r\n      <defs>\r\n       <path d=\"M 33.015625 40.375 \r\nQ 26.375 40.375 22.484375 35.828125 \r\nQ 18.609375 31.296875 18.609375 23.390625 \r\nQ 18.609375 15.53125 22.484375 10.953125 \r\nQ 26.375 6.390625 33.015625 6.390625 \r\nQ 39.65625 6.390625 43.53125 10.953125 \r\nQ 47.40625 15.53125 47.40625 23.390625 \r\nQ 47.40625 31.296875 43.53125 35.828125 \r\nQ 39.65625 40.375 33.015625 40.375 \r\nz\r\nM 52.59375 71.296875 \r\nL 52.59375 62.3125 \r\nQ 48.875 64.0625 45.09375 64.984375 \r\nQ 41.3125 65.921875 37.59375 65.921875 \r\nQ 27.828125 65.921875 22.671875 59.328125 \r\nQ 17.53125 52.734375 16.796875 39.40625 \r\nQ 19.671875 43.65625 24.015625 45.921875 \r\nQ 28.375 48.1875 33.59375 48.1875 \r\nQ 44.578125 48.1875 50.953125 41.515625 \r\nQ 57.328125 34.859375 57.328125 23.390625 \r\nQ 57.328125 12.15625 50.6875 5.359375 \r\nQ 44.046875 -1.421875 33.015625 -1.421875 \r\nQ 20.359375 -1.421875 13.671875 8.265625 \r\nQ 6.984375 17.96875 6.984375 36.375 \r\nQ 6.984375 53.65625 15.1875 63.9375 \r\nQ 23.390625 74.21875 37.203125 74.21875 \r\nQ 40.921875 74.21875 44.703125 73.484375 \r\nQ 48.484375 72.75 52.59375 71.296875 \r\nz\r\n\" id=\"DejaVuSans-54\"/>\r\n      </defs>\r\n      <g transform=\"translate(111.701472 475.507812)rotate(-90)scale(0.1 -0.1)\">\r\n       <use xlink:href=\"#DejaVuSans-50\"/>\r\n       <use x=\"63.623047\" xlink:href=\"#DejaVuSans-48\"/>\r\n       <use x=\"127.246094\" xlink:href=\"#DejaVuSans-49\"/>\r\n       <use x=\"190.869141\" xlink:href=\"#DejaVuSans-54\"/>\r\n       <use x=\"254.492188\" xlink:href=\"#DejaVuSans-45\"/>\r\n       <use x=\"290.576172\" xlink:href=\"#DejaVuSans-48\"/>\r\n       <use x=\"354.199219\" xlink:href=\"#DejaVuSans-49\"/>\r\n      </g>\r\n     </g>\r\n    </g>\r\n    <g id=\"xtick_3\">\r\n     <g id=\"line2d_3\">\r\n      <g>\r\n       <use style=\"stroke:#000000;stroke-width:0.8;\" x=\"146.58977\" xlink:href=\"#m96e8c2679c\" y=\"426.725\"/>\r\n      </g>\r\n     </g>\r\n     <g id=\"text_3\">\r\n      <!-- 2016-03 -->\r\n      <defs>\r\n       <path d=\"M 40.578125 39.3125 \r\nQ 47.65625 37.796875 51.625 33 \r\nQ 55.609375 28.21875 55.609375 21.1875 \r\nQ 55.609375 10.40625 48.1875 4.484375 \r\nQ 40.765625 -1.421875 27.09375 -1.421875 \r\nQ 22.515625 -1.421875 17.65625 -0.515625 \r\nQ 12.796875 0.390625 7.625 2.203125 \r\nL 7.625 11.71875 \r\nQ 11.71875 9.328125 16.59375 8.109375 \r\nQ 21.484375 6.890625 26.8125 6.890625 \r\nQ 36.078125 6.890625 40.9375 10.546875 \r\nQ 45.796875 14.203125 45.796875 21.1875 \r\nQ 45.796875 27.640625 41.28125 31.265625 \r\nQ 36.765625 34.90625 28.71875 34.90625 \r\nL 20.21875 34.90625 \r\nL 20.21875 43.015625 \r\nL 29.109375 43.015625 \r\nQ 36.375 43.015625 40.234375 45.921875 \r\nQ 44.09375 48.828125 44.09375 54.296875 \r\nQ 44.09375 59.90625 40.109375 62.90625 \r\nQ 36.140625 65.921875 28.71875 65.921875 \r\nQ 24.65625 65.921875 20.015625 65.03125 \r\nQ 15.375 64.15625 9.8125 62.3125 \r\nL 9.8125 71.09375 \r\nQ 15.4375 72.65625 20.34375 73.4375 \r\nQ 25.25 74.21875 29.59375 74.21875 \r\nQ 40.828125 74.21875 47.359375 69.109375 \r\nQ 53.90625 64.015625 53.90625 55.328125 \r\nQ 53.90625 49.265625 50.4375 45.09375 \r\nQ 46.96875 40.921875 40.578125 39.3125 \r\nz\r\n\" id=\"DejaVuSans-51\"/>\r\n      </defs>\r\n      <g transform=\"translate(149.349145 475.507812)rotate(-90)scale(0.1 -0.1)\">\r\n       <use xlink:href=\"#DejaVuSans-50\"/>\r\n       <use x=\"63.623047\" xlink:href=\"#DejaVuSans-48\"/>\r\n       <use x=\"127.246094\" xlink:href=\"#DejaVuSans-49\"/>\r\n       <use x=\"190.869141\" xlink:href=\"#DejaVuSans-54\"/>\r\n       <use x=\"254.492188\" xlink:href=\"#DejaVuSans-45\"/>\r\n       <use x=\"290.576172\" xlink:href=\"#DejaVuSans-48\"/>\r\n       <use x=\"354.199219\" xlink:href=\"#DejaVuSans-51\"/>\r\n      </g>\r\n     </g>\r\n    </g>\r\n    <g id=\"xtick_4\">\r\n     <g id=\"line2d_4\">\r\n      <g>\r\n       <use style=\"stroke:#000000;stroke-width:0.8;\" x=\"184.864903\" xlink:href=\"#m96e8c2679c\" y=\"426.725\"/>\r\n      </g>\r\n     </g>\r\n     <g id=\"text_4\">\r\n      <!-- 2016-05 -->\r\n      <g transform=\"translate(187.624278 475.507812)rotate(-90)scale(0.1 -0.1)\">\r\n       <use xlink:href=\"#DejaVuSans-50\"/>\r\n       <use x=\"63.623047\" xlink:href=\"#DejaVuSans-48\"/>\r\n       <use x=\"127.246094\" xlink:href=\"#DejaVuSans-49\"/>\r\n       <use x=\"190.869141\" xlink:href=\"#DejaVuSans-54\"/>\r\n       <use x=\"254.492188\" xlink:href=\"#DejaVuSans-45\"/>\r\n       <use x=\"290.576172\" xlink:href=\"#DejaVuSans-48\"/>\r\n       <use x=\"354.199219\" xlink:href=\"#DejaVuSans-53\"/>\r\n      </g>\r\n     </g>\r\n    </g>\r\n    <g id=\"xtick_5\">\r\n     <g id=\"line2d_5\">\r\n      <g>\r\n       <use style=\"stroke:#000000;stroke-width:0.8;\" x=\"223.140037\" xlink:href=\"#m96e8c2679c\" y=\"426.725\"/>\r\n      </g>\r\n     </g>\r\n     <g id=\"text_5\">\r\n      <!-- 2016-07 -->\r\n      <defs>\r\n       <path d=\"M 8.203125 72.90625 \r\nL 55.078125 72.90625 \r\nL 55.078125 68.703125 \r\nL 28.609375 0 \r\nL 18.3125 0 \r\nL 43.21875 64.59375 \r\nL 8.203125 64.59375 \r\nz\r\n\" id=\"DejaVuSans-55\"/>\r\n      </defs>\r\n      <g transform=\"translate(225.899412 475.507812)rotate(-90)scale(0.1 -0.1)\">\r\n       <use xlink:href=\"#DejaVuSans-50\"/>\r\n       <use x=\"63.623047\" xlink:href=\"#DejaVuSans-48\"/>\r\n       <use x=\"127.246094\" xlink:href=\"#DejaVuSans-49\"/>\r\n       <use x=\"190.869141\" xlink:href=\"#DejaVuSans-54\"/>\r\n       <use x=\"254.492188\" xlink:href=\"#DejaVuSans-45\"/>\r\n       <use x=\"290.576172\" xlink:href=\"#DejaVuSans-48\"/>\r\n       <use x=\"354.199219\" xlink:href=\"#DejaVuSans-55\"/>\r\n      </g>\r\n     </g>\r\n    </g>\r\n    <g id=\"xtick_6\">\r\n     <g id=\"line2d_6\">\r\n      <g>\r\n       <use style=\"stroke:#000000;stroke-width:0.8;\" x=\"262.042631\" xlink:href=\"#m96e8c2679c\" y=\"426.725\"/>\r\n      </g>\r\n     </g>\r\n     <g id=\"text_6\">\r\n      <!-- 2016-09 -->\r\n      <defs>\r\n       <path d=\"M 10.984375 1.515625 \r\nL 10.984375 10.5 \r\nQ 14.703125 8.734375 18.5 7.8125 \r\nQ 22.3125 6.890625 25.984375 6.890625 \r\nQ 35.75 6.890625 40.890625 13.453125 \r\nQ 46.046875 20.015625 46.78125 33.40625 \r\nQ 43.953125 29.203125 39.59375 26.953125 \r\nQ 35.25 24.703125 29.984375 24.703125 \r\nQ 19.046875 24.703125 12.671875 31.3125 \r\nQ 6.296875 37.9375 6.296875 49.421875 \r\nQ 6.296875 60.640625 12.9375 67.421875 \r\nQ 19.578125 74.21875 30.609375 74.21875 \r\nQ 43.265625 74.21875 49.921875 64.515625 \r\nQ 56.59375 54.828125 56.59375 36.375 \r\nQ 56.59375 19.140625 48.40625 8.859375 \r\nQ 40.234375 -1.421875 26.421875 -1.421875 \r\nQ 22.703125 -1.421875 18.890625 -0.6875 \r\nQ 15.09375 0.046875 10.984375 1.515625 \r\nz\r\nM 30.609375 32.421875 \r\nQ 37.25 32.421875 41.125 36.953125 \r\nQ 45.015625 41.5 45.015625 49.421875 \r\nQ 45.015625 57.28125 41.125 61.84375 \r\nQ 37.25 66.40625 30.609375 66.40625 \r\nQ 23.96875 66.40625 20.09375 61.84375 \r\nQ 16.21875 57.28125 16.21875 49.421875 \r\nQ 16.21875 41.5 20.09375 36.953125 \r\nQ 23.96875 32.421875 30.609375 32.421875 \r\nz\r\n\" id=\"DejaVuSans-57\"/>\r\n      </defs>\r\n      <g transform=\"translate(264.802006 475.507812)rotate(-90)scale(0.1 -0.1)\">\r\n       <use xlink:href=\"#DejaVuSans-50\"/>\r\n       <use x=\"63.623047\" xlink:href=\"#DejaVuSans-48\"/>\r\n       <use x=\"127.246094\" xlink:href=\"#DejaVuSans-49\"/>\r\n       <use x=\"190.869141\" xlink:href=\"#DejaVuSans-54\"/>\r\n       <use x=\"254.492188\" xlink:href=\"#DejaVuSans-45\"/>\r\n       <use x=\"290.576172\" xlink:href=\"#DejaVuSans-48\"/>\r\n       <use x=\"354.199219\" xlink:href=\"#DejaVuSans-57\"/>\r\n      </g>\r\n     </g>\r\n    </g>\r\n    <g id=\"xtick_7\">\r\n     <g id=\"line2d_7\">\r\n      <g>\r\n       <use style=\"stroke:#000000;stroke-width:0.8;\" x=\"300.317765\" xlink:href=\"#m96e8c2679c\" y=\"426.725\"/>\r\n      </g>\r\n     </g>\r\n     <g id=\"text_7\">\r\n      <!-- 2016-11 -->\r\n      <g transform=\"translate(303.07714 475.507812)rotate(-90)scale(0.1 -0.1)\">\r\n       <use xlink:href=\"#DejaVuSans-50\"/>\r\n       <use x=\"63.623047\" xlink:href=\"#DejaVuSans-48\"/>\r\n       <use x=\"127.246094\" xlink:href=\"#DejaVuSans-49\"/>\r\n       <use x=\"190.869141\" xlink:href=\"#DejaVuSans-54\"/>\r\n       <use x=\"254.492188\" xlink:href=\"#DejaVuSans-45\"/>\r\n       <use x=\"290.576172\" xlink:href=\"#DejaVuSans-49\"/>\r\n       <use x=\"354.199219\" xlink:href=\"#DejaVuSans-49\"/>\r\n      </g>\r\n     </g>\r\n    </g>\r\n    <g id=\"xtick_8\">\r\n     <g id=\"line2d_8\">\r\n      <g>\r\n       <use style=\"stroke:#000000;stroke-width:0.8;\" x=\"338.592899\" xlink:href=\"#m96e8c2679c\" y=\"426.725\"/>\r\n      </g>\r\n     </g>\r\n     <g id=\"text_8\">\r\n      <!-- 2017-01 -->\r\n      <g transform=\"translate(341.352274 475.507812)rotate(-90)scale(0.1 -0.1)\">\r\n       <use xlink:href=\"#DejaVuSans-50\"/>\r\n       <use x=\"63.623047\" xlink:href=\"#DejaVuSans-48\"/>\r\n       <use x=\"127.246094\" xlink:href=\"#DejaVuSans-49\"/>\r\n       <use x=\"190.869141\" xlink:href=\"#DejaVuSans-55\"/>\r\n       <use x=\"254.492188\" xlink:href=\"#DejaVuSans-45\"/>\r\n       <use x=\"290.576172\" xlink:href=\"#DejaVuSans-48\"/>\r\n       <use x=\"354.199219\" xlink:href=\"#DejaVuSans-49\"/>\r\n      </g>\r\n     </g>\r\n    </g>\r\n    <g id=\"xtick_9\">\r\n     <g id=\"line2d_9\">\r\n      <g>\r\n       <use style=\"stroke:#000000;stroke-width:0.8;\" x=\"375.61311\" xlink:href=\"#m96e8c2679c\" y=\"426.725\"/>\r\n      </g>\r\n     </g>\r\n     <g id=\"text_9\">\r\n      <!-- 2017-03 -->\r\n      <g transform=\"translate(378.372485 475.507812)rotate(-90)scale(0.1 -0.1)\">\r\n       <use xlink:href=\"#DejaVuSans-50\"/>\r\n       <use x=\"63.623047\" xlink:href=\"#DejaVuSans-48\"/>\r\n       <use x=\"127.246094\" xlink:href=\"#DejaVuSans-49\"/>\r\n       <use x=\"190.869141\" xlink:href=\"#DejaVuSans-55\"/>\r\n       <use x=\"254.492188\" xlink:href=\"#DejaVuSans-45\"/>\r\n       <use x=\"290.576172\" xlink:href=\"#DejaVuSans-48\"/>\r\n       <use x=\"354.199219\" xlink:href=\"#DejaVuSans-51\"/>\r\n      </g>\r\n     </g>\r\n    </g>\r\n    <g id=\"xtick_10\">\r\n     <g id=\"line2d_10\">\r\n      <g>\r\n       <use style=\"stroke:#000000;stroke-width:0.8;\" x=\"413.888243\" xlink:href=\"#m96e8c2679c\" y=\"426.725\"/>\r\n      </g>\r\n     </g>\r\n     <g id=\"text_10\">\r\n      <!-- 2017-05 -->\r\n      <g transform=\"translate(416.647618 475.507812)rotate(-90)scale(0.1 -0.1)\">\r\n       <use xlink:href=\"#DejaVuSans-50\"/>\r\n       <use x=\"63.623047\" xlink:href=\"#DejaVuSans-48\"/>\r\n       <use x=\"127.246094\" xlink:href=\"#DejaVuSans-49\"/>\r\n       <use x=\"190.869141\" xlink:href=\"#DejaVuSans-55\"/>\r\n       <use x=\"254.492188\" xlink:href=\"#DejaVuSans-45\"/>\r\n       <use x=\"290.576172\" xlink:href=\"#DejaVuSans-48\"/>\r\n       <use x=\"354.199219\" xlink:href=\"#DejaVuSans-53\"/>\r\n      </g>\r\n     </g>\r\n    </g>\r\n    <g id=\"xtick_11\">\r\n     <g id=\"line2d_11\">\r\n      <g>\r\n       <use style=\"stroke:#000000;stroke-width:0.8;\" x=\"452.163377\" xlink:href=\"#m96e8c2679c\" y=\"426.725\"/>\r\n      </g>\r\n     </g>\r\n     <g id=\"text_11\">\r\n      <!-- 2017-07 -->\r\n      <g transform=\"translate(454.922752 475.507812)rotate(-90)scale(0.1 -0.1)\">\r\n       <use xlink:href=\"#DejaVuSans-50\"/>\r\n       <use x=\"63.623047\" xlink:href=\"#DejaVuSans-48\"/>\r\n       <use x=\"127.246094\" xlink:href=\"#DejaVuSans-49\"/>\r\n       <use x=\"190.869141\" xlink:href=\"#DejaVuSans-55\"/>\r\n       <use x=\"254.492188\" xlink:href=\"#DejaVuSans-45\"/>\r\n       <use x=\"290.576172\" xlink:href=\"#DejaVuSans-48\"/>\r\n       <use x=\"354.199219\" xlink:href=\"#DejaVuSans-55\"/>\r\n      </g>\r\n     </g>\r\n    </g>\r\n    <g id=\"text_12\">\r\n     <!-- date -->\r\n     <defs>\r\n      <path d=\"M 45.40625 46.390625 \r\nL 45.40625 75.984375 \r\nL 54.390625 75.984375 \r\nL 54.390625 0 \r\nL 45.40625 0 \r\nL 45.40625 8.203125 \r\nQ 42.578125 3.328125 38.25 0.953125 \r\nQ 33.9375 -1.421875 27.875 -1.421875 \r\nQ 17.96875 -1.421875 11.734375 6.484375 \r\nQ 5.515625 14.40625 5.515625 27.296875 \r\nQ 5.515625 40.1875 11.734375 48.09375 \r\nQ 17.96875 56 27.875 56 \r\nQ 33.9375 56 38.25 53.625 \r\nQ 42.578125 51.265625 45.40625 46.390625 \r\nz\r\nM 14.796875 27.296875 \r\nQ 14.796875 17.390625 18.875 11.75 \r\nQ 22.953125 6.109375 30.078125 6.109375 \r\nQ 37.203125 6.109375 41.296875 11.75 \r\nQ 45.40625 17.390625 45.40625 27.296875 \r\nQ 45.40625 37.203125 41.296875 42.84375 \r\nQ 37.203125 48.484375 30.078125 48.484375 \r\nQ 22.953125 48.484375 18.875 42.84375 \r\nQ 14.796875 37.203125 14.796875 27.296875 \r\nz\r\n\" id=\"DejaVuSans-100\"/>\r\n      <path d=\"M 34.28125 27.484375 \r\nQ 23.390625 27.484375 19.1875 25 \r\nQ 14.984375 22.515625 14.984375 16.5 \r\nQ 14.984375 11.71875 18.140625 8.90625 \r\nQ 21.296875 6.109375 26.703125 6.109375 \r\nQ 34.1875 6.109375 38.703125 11.40625 \r\nQ 43.21875 16.703125 43.21875 25.484375 \r\nL 43.21875 27.484375 \r\nz\r\nM 52.203125 31.203125 \r\nL 52.203125 0 \r\nL 43.21875 0 \r\nL 43.21875 8.296875 \r\nQ 40.140625 3.328125 35.546875 0.953125 \r\nQ 30.953125 -1.421875 24.3125 -1.421875 \r\nQ 15.921875 -1.421875 10.953125 3.296875 \r\nQ 6 8.015625 6 15.921875 \r\nQ 6 25.140625 12.171875 29.828125 \r\nQ 18.359375 34.515625 30.609375 34.515625 \r\nL 43.21875 34.515625 \r\nL 43.21875 35.40625 \r\nQ 43.21875 41.609375 39.140625 45 \r\nQ 35.0625 48.390625 27.6875 48.390625 \r\nQ 23 48.390625 18.546875 47.265625 \r\nQ 14.109375 46.140625 10.015625 43.890625 \r\nL 10.015625 52.203125 \r\nQ 14.9375 54.109375 19.578125 55.046875 \r\nQ 24.21875 56 28.609375 56 \r\nQ 40.484375 56 46.34375 49.84375 \r\nQ 52.203125 43.703125 52.203125 31.203125 \r\nz\r\n\" id=\"DejaVuSans-97\"/>\r\n      <path d=\"M 18.3125 70.21875 \r\nL 18.3125 54.6875 \r\nL 36.8125 54.6875 \r\nL 36.8125 47.703125 \r\nL 18.3125 47.703125 \r\nL 18.3125 18.015625 \r\nQ 18.3125 11.328125 20.140625 9.421875 \r\nQ 21.96875 7.515625 27.59375 7.515625 \r\nL 36.8125 7.515625 \r\nL 36.8125 0 \r\nL 27.59375 0 \r\nQ 17.1875 0 13.234375 3.875 \r\nQ 9.28125 7.765625 9.28125 18.015625 \r\nL 9.28125 47.703125 \r\nL 2.6875 47.703125 \r\nL 2.6875 54.6875 \r\nL 9.28125 54.6875 \r\nL 9.28125 70.21875 \r\nz\r\n\" id=\"DejaVuSans-116\"/>\r\n      <path d=\"M 56.203125 29.59375 \r\nL 56.203125 25.203125 \r\nL 14.890625 25.203125 \r\nQ 15.484375 15.921875 20.484375 11.0625 \r\nQ 25.484375 6.203125 34.421875 6.203125 \r\nQ 39.59375 6.203125 44.453125 7.46875 \r\nQ 49.3125 8.734375 54.109375 11.28125 \r\nL 54.109375 2.78125 \r\nQ 49.265625 0.734375 44.1875 -0.34375 \r\nQ 39.109375 -1.421875 33.890625 -1.421875 \r\nQ 20.796875 -1.421875 13.15625 6.1875 \r\nQ 5.515625 13.8125 5.515625 26.8125 \r\nQ 5.515625 40.234375 12.765625 48.109375 \r\nQ 20.015625 56 32.328125 56 \r\nQ 43.359375 56 49.78125 48.890625 \r\nQ 56.203125 41.796875 56.203125 29.59375 \r\nz\r\nM 47.21875 32.234375 \r\nQ 47.125 39.59375 43.09375 43.984375 \r\nQ 39.0625 48.390625 32.421875 48.390625 \r\nQ 24.90625 48.390625 20.390625 44.140625 \r\nQ 15.875 39.890625 15.1875 32.171875 \r\nz\r\n\" id=\"DejaVuSans-101\"/>\r\n     </defs>\r\n     <g transform=\"translate(263.003125 487.10625)scale(0.1 -0.1)\">\r\n      <use xlink:href=\"#DejaVuSans-100\"/>\r\n      <use x=\"63.476562\" xlink:href=\"#DejaVuSans-97\"/>\r\n      <use x=\"124.755859\" xlink:href=\"#DejaVuSans-116\"/>\r\n      <use x=\"163.964844\" xlink:href=\"#DejaVuSans-101\"/>\r\n     </g>\r\n    </g>\r\n   </g>\r\n   <g id=\"matplotlib.axis_2\">\r\n    <g id=\"ytick_1\">\r\n     <g id=\"line2d_12\">\r\n      <defs>\r\n       <path d=\"M 0 0 \r\nL -3.5 0 \r\n\" id=\"m373fc255a9\" style=\"stroke:#000000;stroke-width:0.8;\"/>\r\n      </defs>\r\n      <g>\r\n       <use style=\"stroke:#000000;stroke-width:0.8;\" x=\"59.96875\" xlink:href=\"#m373fc255a9\" y=\"376.342957\"/>\r\n      </g>\r\n     </g>\r\n     <g id=\"text_13\">\r\n      <!-- 2000 -->\r\n      <g transform=\"translate(27.51875 380.142176)scale(0.1 -0.1)\">\r\n       <use xlink:href=\"#DejaVuSans-50\"/>\r\n       <use x=\"63.623047\" xlink:href=\"#DejaVuSans-48\"/>\r\n       <use x=\"127.246094\" xlink:href=\"#DejaVuSans-48\"/>\r\n       <use x=\"190.869141\" xlink:href=\"#DejaVuSans-48\"/>\r\n      </g>\r\n     </g>\r\n    </g>\r\n    <g id=\"ytick_2\">\r\n     <g id=\"line2d_13\">\r\n      <g>\r\n       <use style=\"stroke:#000000;stroke-width:0.8;\" x=\"59.96875\" xlink:href=\"#m373fc255a9\" y=\"310.835166\"/>\r\n      </g>\r\n     </g>\r\n     <g id=\"text_14\">\r\n      <!-- 4000 -->\r\n      <defs>\r\n       <path d=\"M 37.796875 64.3125 \r\nL 12.890625 25.390625 \r\nL 37.796875 25.390625 \r\nz\r\nM 35.203125 72.90625 \r\nL 47.609375 72.90625 \r\nL 47.609375 25.390625 \r\nL 58.015625 25.390625 \r\nL 58.015625 17.1875 \r\nL 47.609375 17.1875 \r\nL 47.609375 0 \r\nL 37.796875 0 \r\nL 37.796875 17.1875 \r\nL 4.890625 17.1875 \r\nL 4.890625 26.703125 \r\nz\r\n\" id=\"DejaVuSans-52\"/>\r\n      </defs>\r\n      <g transform=\"translate(27.51875 314.634384)scale(0.1 -0.1)\">\r\n       <use xlink:href=\"#DejaVuSans-52\"/>\r\n       <use x=\"63.623047\" xlink:href=\"#DejaVuSans-48\"/>\r\n       <use x=\"127.246094\" xlink:href=\"#DejaVuSans-48\"/>\r\n       <use x=\"190.869141\" xlink:href=\"#DejaVuSans-48\"/>\r\n      </g>\r\n     </g>\r\n    </g>\r\n    <g id=\"ytick_3\">\r\n     <g id=\"line2d_14\">\r\n      <g>\r\n       <use style=\"stroke:#000000;stroke-width:0.8;\" x=\"59.96875\" xlink:href=\"#m373fc255a9\" y=\"245.327374\"/>\r\n      </g>\r\n     </g>\r\n     <g id=\"text_15\">\r\n      <!-- 6000 -->\r\n      <g transform=\"translate(27.51875 249.126593)scale(0.1 -0.1)\">\r\n       <use xlink:href=\"#DejaVuSans-54\"/>\r\n       <use x=\"63.623047\" xlink:href=\"#DejaVuSans-48\"/>\r\n       <use x=\"127.246094\" xlink:href=\"#DejaVuSans-48\"/>\r\n       <use x=\"190.869141\" xlink:href=\"#DejaVuSans-48\"/>\r\n      </g>\r\n     </g>\r\n    </g>\r\n    <g id=\"ytick_4\">\r\n     <g id=\"line2d_15\">\r\n      <g>\r\n       <use style=\"stroke:#000000;stroke-width:0.8;\" x=\"59.96875\" xlink:href=\"#m373fc255a9\" y=\"179.819582\"/>\r\n      </g>\r\n     </g>\r\n     <g id=\"text_16\">\r\n      <!-- 8000 -->\r\n      <defs>\r\n       <path d=\"M 31.78125 34.625 \r\nQ 24.75 34.625 20.71875 30.859375 \r\nQ 16.703125 27.09375 16.703125 20.515625 \r\nQ 16.703125 13.921875 20.71875 10.15625 \r\nQ 24.75 6.390625 31.78125 6.390625 \r\nQ 38.8125 6.390625 42.859375 10.171875 \r\nQ 46.921875 13.96875 46.921875 20.515625 \r\nQ 46.921875 27.09375 42.890625 30.859375 \r\nQ 38.875 34.625 31.78125 34.625 \r\nz\r\nM 21.921875 38.8125 \r\nQ 15.578125 40.375 12.03125 44.71875 \r\nQ 8.5 49.078125 8.5 55.328125 \r\nQ 8.5 64.0625 14.71875 69.140625 \r\nQ 20.953125 74.21875 31.78125 74.21875 \r\nQ 42.671875 74.21875 48.875 69.140625 \r\nQ 55.078125 64.0625 55.078125 55.328125 \r\nQ 55.078125 49.078125 51.53125 44.71875 \r\nQ 48 40.375 41.703125 38.8125 \r\nQ 48.828125 37.15625 52.796875 32.3125 \r\nQ 56.78125 27.484375 56.78125 20.515625 \r\nQ 56.78125 9.90625 50.3125 4.234375 \r\nQ 43.84375 -1.421875 31.78125 -1.421875 \r\nQ 19.734375 -1.421875 13.25 4.234375 \r\nQ 6.78125 9.90625 6.78125 20.515625 \r\nQ 6.78125 27.484375 10.78125 32.3125 \r\nQ 14.796875 37.15625 21.921875 38.8125 \r\nz\r\nM 18.3125 54.390625 \r\nQ 18.3125 48.734375 21.84375 45.5625 \r\nQ 25.390625 42.390625 31.78125 42.390625 \r\nQ 38.140625 42.390625 41.71875 45.5625 \r\nQ 45.3125 48.734375 45.3125 54.390625 \r\nQ 45.3125 60.0625 41.71875 63.234375 \r\nQ 38.140625 66.40625 31.78125 66.40625 \r\nQ 25.390625 66.40625 21.84375 63.234375 \r\nQ 18.3125 60.0625 18.3125 54.390625 \r\nz\r\n\" id=\"DejaVuSans-56\"/>\r\n      </defs>\r\n      <g transform=\"translate(27.51875 183.618801)scale(0.1 -0.1)\">\r\n       <use xlink:href=\"#DejaVuSans-56\"/>\r\n       <use x=\"63.623047\" xlink:href=\"#DejaVuSans-48\"/>\r\n       <use x=\"127.246094\" xlink:href=\"#DejaVuSans-48\"/>\r\n       <use x=\"190.869141\" xlink:href=\"#DejaVuSans-48\"/>\r\n      </g>\r\n     </g>\r\n    </g>\r\n    <g id=\"ytick_5\">\r\n     <g id=\"line2d_16\">\r\n      <g>\r\n       <use style=\"stroke:#000000;stroke-width:0.8;\" x=\"59.96875\" xlink:href=\"#m373fc255a9\" y=\"114.31179\"/>\r\n      </g>\r\n     </g>\r\n     <g id=\"text_17\">\r\n      <!-- 10000 -->\r\n      <g transform=\"translate(21.15625 118.111009)scale(0.1 -0.1)\">\r\n       <use xlink:href=\"#DejaVuSans-49\"/>\r\n       <use x=\"63.623047\" xlink:href=\"#DejaVuSans-48\"/>\r\n       <use x=\"127.246094\" xlink:href=\"#DejaVuSans-48\"/>\r\n       <use x=\"190.869141\" xlink:href=\"#DejaVuSans-48\"/>\r\n       <use x=\"254.492188\" xlink:href=\"#DejaVuSans-48\"/>\r\n      </g>\r\n     </g>\r\n    </g>\r\n    <g id=\"ytick_6\">\r\n     <g id=\"line2d_17\">\r\n      <g>\r\n       <use style=\"stroke:#000000;stroke-width:0.8;\" x=\"59.96875\" xlink:href=\"#m373fc255a9\" y=\"48.803999\"/>\r\n      </g>\r\n     </g>\r\n     <g id=\"text_18\">\r\n      <!-- 12000 -->\r\n      <g transform=\"translate(21.15625 52.603217)scale(0.1 -0.1)\">\r\n       <use xlink:href=\"#DejaVuSans-49\"/>\r\n       <use x=\"63.623047\" xlink:href=\"#DejaVuSans-50\"/>\r\n       <use x=\"127.246094\" xlink:href=\"#DejaVuSans-48\"/>\r\n       <use x=\"190.869141\" xlink:href=\"#DejaVuSans-48\"/>\r\n       <use x=\"254.492188\" xlink:href=\"#DejaVuSans-48\"/>\r\n      </g>\r\n     </g>\r\n    </g>\r\n    <g id=\"text_19\">\r\n     <!-- favorite_count -->\r\n     <defs>\r\n      <path d=\"M 37.109375 75.984375 \r\nL 37.109375 68.5 \r\nL 28.515625 68.5 \r\nQ 23.6875 68.5 21.796875 66.546875 \r\nQ 19.921875 64.59375 19.921875 59.515625 \r\nL 19.921875 54.6875 \r\nL 34.71875 54.6875 \r\nL 34.71875 47.703125 \r\nL 19.921875 47.703125 \r\nL 19.921875 0 \r\nL 10.890625 0 \r\nL 10.890625 47.703125 \r\nL 2.296875 47.703125 \r\nL 2.296875 54.6875 \r\nL 10.890625 54.6875 \r\nL 10.890625 58.5 \r\nQ 10.890625 67.625 15.140625 71.796875 \r\nQ 19.390625 75.984375 28.609375 75.984375 \r\nz\r\n\" id=\"DejaVuSans-102\"/>\r\n      <path d=\"M 2.984375 54.6875 \r\nL 12.5 54.6875 \r\nL 29.59375 8.796875 \r\nL 46.6875 54.6875 \r\nL 56.203125 54.6875 \r\nL 35.6875 0 \r\nL 23.484375 0 \r\nz\r\n\" id=\"DejaVuSans-118\"/>\r\n      <path d=\"M 30.609375 48.390625 \r\nQ 23.390625 48.390625 19.1875 42.75 \r\nQ 14.984375 37.109375 14.984375 27.296875 \r\nQ 14.984375 17.484375 19.15625 11.84375 \r\nQ 23.34375 6.203125 30.609375 6.203125 \r\nQ 37.796875 6.203125 41.984375 11.859375 \r\nQ 46.1875 17.53125 46.1875 27.296875 \r\nQ 46.1875 37.015625 41.984375 42.703125 \r\nQ 37.796875 48.390625 30.609375 48.390625 \r\nz\r\nM 30.609375 56 \r\nQ 42.328125 56 49.015625 48.375 \r\nQ 55.71875 40.765625 55.71875 27.296875 \r\nQ 55.71875 13.875 49.015625 6.21875 \r\nQ 42.328125 -1.421875 30.609375 -1.421875 \r\nQ 18.84375 -1.421875 12.171875 6.21875 \r\nQ 5.515625 13.875 5.515625 27.296875 \r\nQ 5.515625 40.765625 12.171875 48.375 \r\nQ 18.84375 56 30.609375 56 \r\nz\r\n\" id=\"DejaVuSans-111\"/>\r\n      <path d=\"M 41.109375 46.296875 \r\nQ 39.59375 47.171875 37.8125 47.578125 \r\nQ 36.03125 48 33.890625 48 \r\nQ 26.265625 48 22.1875 43.046875 \r\nQ 18.109375 38.09375 18.109375 28.8125 \r\nL 18.109375 0 \r\nL 9.078125 0 \r\nL 9.078125 54.6875 \r\nL 18.109375 54.6875 \r\nL 18.109375 46.1875 \r\nQ 20.953125 51.171875 25.484375 53.578125 \r\nQ 30.03125 56 36.53125 56 \r\nQ 37.453125 56 38.578125 55.875 \r\nQ 39.703125 55.765625 41.0625 55.515625 \r\nz\r\n\" id=\"DejaVuSans-114\"/>\r\n      <path d=\"M 9.421875 54.6875 \r\nL 18.40625 54.6875 \r\nL 18.40625 0 \r\nL 9.421875 0 \r\nz\r\nM 9.421875 75.984375 \r\nL 18.40625 75.984375 \r\nL 18.40625 64.59375 \r\nL 9.421875 64.59375 \r\nz\r\n\" id=\"DejaVuSans-105\"/>\r\n      <path d=\"M 50.984375 -16.609375 \r\nL 50.984375 -23.578125 \r\nL -0.984375 -23.578125 \r\nL -0.984375 -16.609375 \r\nz\r\n\" id=\"DejaVuSans-95\"/>\r\n      <path d=\"M 48.78125 52.59375 \r\nL 48.78125 44.1875 \r\nQ 44.96875 46.296875 41.140625 47.34375 \r\nQ 37.3125 48.390625 33.40625 48.390625 \r\nQ 24.65625 48.390625 19.8125 42.84375 \r\nQ 14.984375 37.3125 14.984375 27.296875 \r\nQ 14.984375 17.28125 19.8125 11.734375 \r\nQ 24.65625 6.203125 33.40625 6.203125 \r\nQ 37.3125 6.203125 41.140625 7.25 \r\nQ 44.96875 8.296875 48.78125 10.40625 \r\nL 48.78125 2.09375 \r\nQ 45.015625 0.34375 40.984375 -0.53125 \r\nQ 36.96875 -1.421875 32.421875 -1.421875 \r\nQ 20.0625 -1.421875 12.78125 6.34375 \r\nQ 5.515625 14.109375 5.515625 27.296875 \r\nQ 5.515625 40.671875 12.859375 48.328125 \r\nQ 20.21875 56 33.015625 56 \r\nQ 37.15625 56 41.109375 55.140625 \r\nQ 45.0625 54.296875 48.78125 52.59375 \r\nz\r\n\" id=\"DejaVuSans-99\"/>\r\n      <path d=\"M 8.5 21.578125 \r\nL 8.5 54.6875 \r\nL 17.484375 54.6875 \r\nL 17.484375 21.921875 \r\nQ 17.484375 14.15625 20.5 10.265625 \r\nQ 23.53125 6.390625 29.59375 6.390625 \r\nQ 36.859375 6.390625 41.078125 11.03125 \r\nQ 45.3125 15.671875 45.3125 23.6875 \r\nL 45.3125 54.6875 \r\nL 54.296875 54.6875 \r\nL 54.296875 0 \r\nL 45.3125 0 \r\nL 45.3125 8.40625 \r\nQ 42.046875 3.421875 37.71875 1 \r\nQ 33.40625 -1.421875 27.6875 -1.421875 \r\nQ 18.265625 -1.421875 13.375 4.4375 \r\nQ 8.5 10.296875 8.5 21.578125 \r\nz\r\nM 31.109375 56 \r\nz\r\n\" id=\"DejaVuSans-117\"/>\r\n      <path d=\"M 54.890625 33.015625 \r\nL 54.890625 0 \r\nL 45.90625 0 \r\nL 45.90625 32.71875 \r\nQ 45.90625 40.484375 42.875 44.328125 \r\nQ 39.84375 48.1875 33.796875 48.1875 \r\nQ 26.515625 48.1875 22.3125 43.546875 \r\nQ 18.109375 38.921875 18.109375 30.90625 \r\nL 18.109375 0 \r\nL 9.078125 0 \r\nL 9.078125 54.6875 \r\nL 18.109375 54.6875 \r\nL 18.109375 46.1875 \r\nQ 21.34375 51.125 25.703125 53.5625 \r\nQ 30.078125 56 35.796875 56 \r\nQ 45.21875 56 50.046875 50.171875 \r\nQ 54.890625 44.34375 54.890625 33.015625 \r\nz\r\n\" id=\"DejaVuSans-110\"/>\r\n     </defs>\r\n     <g transform=\"translate(14.798437 252.892969)rotate(-90)scale(0.1 -0.1)\">\r\n      <use xlink:href=\"#DejaVuSans-102\"/>\r\n      <use x=\"35.205078\" xlink:href=\"#DejaVuSans-97\"/>\r\n      <use x=\"96.484375\" xlink:href=\"#DejaVuSans-118\"/>\r\n      <use x=\"155.664062\" xlink:href=\"#DejaVuSans-111\"/>\r\n      <use x=\"216.845703\" xlink:href=\"#DejaVuSans-114\"/>\r\n      <use x=\"257.958984\" xlink:href=\"#DejaVuSans-105\"/>\r\n      <use x=\"285.742188\" xlink:href=\"#DejaVuSans-116\"/>\r\n      <use x=\"324.951172\" xlink:href=\"#DejaVuSans-101\"/>\r\n      <use x=\"386.474609\" xlink:href=\"#DejaVuSans-95\"/>\r\n      <use x=\"436.474609\" xlink:href=\"#DejaVuSans-99\"/>\r\n      <use x=\"491.455078\" xlink:href=\"#DejaVuSans-111\"/>\r\n      <use x=\"552.636719\" xlink:href=\"#DejaVuSans-117\"/>\r\n      <use x=\"616.015625\" xlink:href=\"#DejaVuSans-110\"/>\r\n      <use x=\"679.394531\" xlink:href=\"#DejaVuSans-116\"/>\r\n     </g>\r\n    </g>\r\n   </g>\r\n   <g id=\"patch_3\">\r\n    <path d=\"M 59.96875 426.725 \r\nL 59.96875 7.2 \r\n\" style=\"fill:none;stroke:#000000;stroke-linecap:square;stroke-linejoin:miter;stroke-width:0.8;\"/>\r\n   </g>\r\n   <g id=\"patch_4\">\r\n    <path d=\"M 488.5875 426.725 \r\nL 488.5875 7.2 \r\n\" style=\"fill:none;stroke:#000000;stroke-linecap:square;stroke-linejoin:miter;stroke-width:0.8;\"/>\r\n   </g>\r\n   <g id=\"patch_5\">\r\n    <path d=\"M 59.96875 426.725 \r\nL 488.5875 426.725 \r\n\" style=\"fill:none;stroke:#000000;stroke-linecap:square;stroke-linejoin:miter;stroke-width:0.8;\"/>\r\n   </g>\r\n   <g id=\"patch_6\">\r\n    <path d=\"M 59.96875 7.2 \r\nL 488.5875 7.2 \r\n\" style=\"fill:none;stroke:#000000;stroke-linecap:square;stroke-linejoin:miter;stroke-width:0.8;\"/>\r\n   </g>\r\n  </g>\r\n </g>\r\n <defs>\r\n  <clipPath id=\"pe71c65898e\">\r\n   <rect height=\"419.525\" width=\"428.61875\" x=\"59.96875\" y=\"7.2\"/>\r\n  </clipPath>\r\n </defs>\r\n</svg>\r\n",
      "image/png": "[encoded data removed]"
     },
     "metadata": {
      "needs_background": "light"
     }
    }
   ],
   "source": [
    "import matplotlib.pyplot as plt\n",
    "insight2 = normalized_favorite_count.plot(x='date', y='favorite_count', kind='scatter', color='y', figsize=(7,7))\n",
    "plt.xticks(rotation=90)\n",
    "plt.tight_layout()"
   ]
  },
  {
   "cell_type": "code",
   "execution_count": 99,
   "metadata": {},
   "outputs": [],
   "source": [
    "insight2.figure.savefig('insight2.png')"
   ]
  },
  {
   "source": [
    "## Third Insight\n",
    "\n",
    "the Golden retiriever is the most popular breed "
   ],
   "cell_type": "markdown",
   "metadata": {}
  },
  {
   "cell_type": "code",
   "execution_count": 83,
   "metadata": {},
   "outputs": [],
   "source": [
    "popular_breed1 = archive_df_clean.p1.value_counts()\n",
    "popular_breed2 = archive_df_clean.p2.value_counts()\n",
    "popular_breed3 = archive_df_clean.p2.value_counts()"
   ]
  },
  {
   "cell_type": "code",
   "execution_count": 100,
   "metadata": {},
   "outputs": [
    {
     "output_type": "display_data",
     "data": {
      "text/plain": "<Figure size 504x504 with 3 Axes>",
      "image/svg+xml": "<?xml version=\"1.0\" encoding=\"utf-8\" standalone=\"no\"?>\r\n<!DOCTYPE svg PUBLIC \"-//W3C//DTD SVG 1.1//EN\"\r\n  \"http://www.w3.org/Graphics/SVG/1.1/DTD/svg11.dtd\">\r\n<!-- Created with matplotlib (https://matplotlib.org/) -->\r\n<svg height=\"496.478125pt\" version=\"1.1\" viewBox=\"0 0 497.537131 496.478125\" width=\"497.537131pt\" xmlns=\"http://www.w3.org/2000/svg\" xmlns:xlink=\"http://www.w3.org/1999/xlink\">\r\n <defs>\r\n  <style type=\"text/css\">\r\n*{stroke-linecap:butt;stroke-linejoin:round;}\r\n  </style>\r\n </defs>\r\n <g id=\"figure_1\">\r\n  <g id=\"patch_1\">\r\n   <path d=\"M 0 496.478125 \r\nL 497.537131 496.478125 \r\nL 497.537131 0 \r\nL 0 0 \r\nz\r\n\" style=\"fill:none;\"/>\r\n  </g>\r\n  <g id=\"axes_1\">\r\n   <g id=\"patch_2\">\r\n    <path d=\"M 147.314063 143.8 \r\nL 489.964062 143.8 \r\nL 489.964062 7.2 \r\nL 147.314063 7.2 \r\nz\r\n\" style=\"fill:#ffffff;\"/>\r\n   </g>\r\n   <g id=\"patch_3\">\r\n    <path clip-path=\"url(#p8d5099260b)\" d=\"M 147.314063 136.97 \r\nL 473.647396 136.97 \r\nL 473.647396 123.31 \r\nL 147.314063 123.31 \r\nz\r\n\"/>\r\n   </g>\r\n   <g id=\"patch_4\">\r\n    <path clip-path=\"url(#p8d5099260b)\" d=\"M 147.314063 109.65 \r\nL 366.457615 109.65 \r\nL 366.457615 95.99 \r\nL 147.314063 95.99 \r\nz\r\n\"/>\r\n   </g>\r\n   <g id=\"patch_5\">\r\n    <path clip-path=\"url(#p8d5099260b)\" d=\"M 147.314063 82.33 \r\nL 356.929634 82.33 \r\nL 356.929634 68.67 \r\nL 147.314063 68.67 \r\nz\r\n\"/>\r\n   </g>\r\n   <g id=\"patch_6\">\r\n    <path clip-path=\"url(#p8d5099260b)\" d=\"M 147.314063 55.01 \r\nL 333.109683 55.01 \r\nL 333.109683 41.35 \r\nL 147.314063 41.35 \r\nz\r\n\"/>\r\n   </g>\r\n   <g id=\"patch_7\">\r\n    <path clip-path=\"url(#p8d5099260b)\" d=\"M 147.314063 27.69 \r\nL 275.9418 27.69 \r\nL 275.9418 14.03 \r\nL 147.314063 14.03 \r\nz\r\n\"/>\r\n   </g>\r\n   <g id=\"matplotlib.axis_1\">\r\n    <g id=\"xtick_1\">\r\n     <g id=\"line2d_1\">\r\n      <defs>\r\n       <path d=\"M 0 0 \r\nL 0 3.5 \r\n\" id=\"mce916eb2d4\" style=\"stroke:#000000;stroke-width:0.8;\"/>\r\n      </defs>\r\n      <g>\r\n       <use style=\"stroke:#000000;stroke-width:0.8;\" x=\"147.314063\" xlink:href=\"#mce916eb2d4\" y=\"143.8\"/>\r\n      </g>\r\n     </g>\r\n     <g id=\"text_1\">\r\n      <!-- 0 -->\r\n      <defs>\r\n       <path d=\"M 31.78125 66.40625 \r\nQ 24.171875 66.40625 20.328125 58.90625 \r\nQ 16.5 51.421875 16.5 36.375 \r\nQ 16.5 21.390625 20.328125 13.890625 \r\nQ 24.171875 6.390625 31.78125 6.390625 \r\nQ 39.453125 6.390625 43.28125 13.890625 \r\nQ 47.125 21.390625 47.125 36.375 \r\nQ 47.125 51.421875 43.28125 58.90625 \r\nQ 39.453125 66.40625 31.78125 66.40625 \r\nz\r\nM 31.78125 74.21875 \r\nQ 44.046875 74.21875 50.515625 64.515625 \r\nQ 56.984375 54.828125 56.984375 36.375 \r\nQ 56.984375 17.96875 50.515625 8.265625 \r\nQ 44.046875 -1.421875 31.78125 -1.421875 \r\nQ 19.53125 -1.421875 13.0625 8.265625 \r\nQ 6.59375 17.96875 6.59375 36.375 \r\nQ 6.59375 54.828125 13.0625 64.515625 \r\nQ 19.53125 74.21875 31.78125 74.21875 \r\nz\r\n\" id=\"DejaVuSans-48\"/>\r\n      </defs>\r\n      <g transform=\"translate(144.132812 158.398438)scale(0.1 -0.1)\">\r\n       <use xlink:href=\"#DejaVuSans-48\"/>\r\n      </g>\r\n     </g>\r\n    </g>\r\n    <g id=\"xtick_2\">\r\n     <g id=\"line2d_2\">\r\n      <g>\r\n       <use style=\"stroke:#000000;stroke-width:0.8;\" x=\"194.953965\" xlink:href=\"#mce916eb2d4\" y=\"143.8\"/>\r\n      </g>\r\n     </g>\r\n     <g id=\"text_2\">\r\n      <!-- 20 -->\r\n      <defs>\r\n       <path d=\"M 19.1875 8.296875 \r\nL 53.609375 8.296875 \r\nL 53.609375 0 \r\nL 7.328125 0 \r\nL 7.328125 8.296875 \r\nQ 12.9375 14.109375 22.625 23.890625 \r\nQ 32.328125 33.6875 34.8125 36.53125 \r\nQ 39.546875 41.84375 41.421875 45.53125 \r\nQ 43.3125 49.21875 43.3125 52.78125 \r\nQ 43.3125 58.59375 39.234375 62.25 \r\nQ 35.15625 65.921875 28.609375 65.921875 \r\nQ 23.96875 65.921875 18.8125 64.3125 \r\nQ 13.671875 62.703125 7.8125 59.421875 \r\nL 7.8125 69.390625 \r\nQ 13.765625 71.78125 18.9375 73 \r\nQ 24.125 74.21875 28.421875 74.21875 \r\nQ 39.75 74.21875 46.484375 68.546875 \r\nQ 53.21875 62.890625 53.21875 53.421875 \r\nQ 53.21875 48.921875 51.53125 44.890625 \r\nQ 49.859375 40.875 45.40625 35.40625 \r\nQ 44.1875 33.984375 37.640625 27.21875 \r\nQ 31.109375 20.453125 19.1875 8.296875 \r\nz\r\n\" id=\"DejaVuSans-50\"/>\r\n      </defs>\r\n      <g transform=\"translate(188.591465 158.398438)scale(0.1 -0.1)\">\r\n       <use xlink:href=\"#DejaVuSans-50\"/>\r\n       <use x=\"63.623047\" xlink:href=\"#DejaVuSans-48\"/>\r\n      </g>\r\n     </g>\r\n    </g>\r\n    <g id=\"xtick_3\">\r\n     <g id=\"line2d_3\">\r\n      <g>\r\n       <use style=\"stroke:#000000;stroke-width:0.8;\" x=\"242.593868\" xlink:href=\"#mce916eb2d4\" y=\"143.8\"/>\r\n      </g>\r\n     </g>\r\n     <g id=\"text_3\">\r\n      <!-- 40 -->\r\n      <defs>\r\n       <path d=\"M 37.796875 64.3125 \r\nL 12.890625 25.390625 \r\nL 37.796875 25.390625 \r\nz\r\nM 35.203125 72.90625 \r\nL 47.609375 72.90625 \r\nL 47.609375 25.390625 \r\nL 58.015625 25.390625 \r\nL 58.015625 17.1875 \r\nL 47.609375 17.1875 \r\nL 47.609375 0 \r\nL 37.796875 0 \r\nL 37.796875 17.1875 \r\nL 4.890625 17.1875 \r\nL 4.890625 26.703125 \r\nz\r\n\" id=\"DejaVuSans-52\"/>\r\n      </defs>\r\n      <g transform=\"translate(236.231368 158.398438)scale(0.1 -0.1)\">\r\n       <use xlink:href=\"#DejaVuSans-52\"/>\r\n       <use x=\"63.623047\" xlink:href=\"#DejaVuSans-48\"/>\r\n      </g>\r\n     </g>\r\n    </g>\r\n    <g id=\"xtick_4\">\r\n     <g id=\"line2d_4\">\r\n      <g>\r\n       <use style=\"stroke:#000000;stroke-width:0.8;\" x=\"290.233771\" xlink:href=\"#mce916eb2d4\" y=\"143.8\"/>\r\n      </g>\r\n     </g>\r\n     <g id=\"text_4\">\r\n      <!-- 60 -->\r\n      <defs>\r\n       <path d=\"M 33.015625 40.375 \r\nQ 26.375 40.375 22.484375 35.828125 \r\nQ 18.609375 31.296875 18.609375 23.390625 \r\nQ 18.609375 15.53125 22.484375 10.953125 \r\nQ 26.375 6.390625 33.015625 6.390625 \r\nQ 39.65625 6.390625 43.53125 10.953125 \r\nQ 47.40625 15.53125 47.40625 23.390625 \r\nQ 47.40625 31.296875 43.53125 35.828125 \r\nQ 39.65625 40.375 33.015625 40.375 \r\nz\r\nM 52.59375 71.296875 \r\nL 52.59375 62.3125 \r\nQ 48.875 64.0625 45.09375 64.984375 \r\nQ 41.3125 65.921875 37.59375 65.921875 \r\nQ 27.828125 65.921875 22.671875 59.328125 \r\nQ 17.53125 52.734375 16.796875 39.40625 \r\nQ 19.671875 43.65625 24.015625 45.921875 \r\nQ 28.375 48.1875 33.59375 48.1875 \r\nQ 44.578125 48.1875 50.953125 41.515625 \r\nQ 57.328125 34.859375 57.328125 23.390625 \r\nQ 57.328125 12.15625 50.6875 5.359375 \r\nQ 44.046875 -1.421875 33.015625 -1.421875 \r\nQ 20.359375 -1.421875 13.671875 8.265625 \r\nQ 6.984375 17.96875 6.984375 36.375 \r\nQ 6.984375 53.65625 15.1875 63.9375 \r\nQ 23.390625 74.21875 37.203125 74.21875 \r\nQ 40.921875 74.21875 44.703125 73.484375 \r\nQ 48.484375 72.75 52.59375 71.296875 \r\nz\r\n\" id=\"DejaVuSans-54\"/>\r\n      </defs>\r\n      <g transform=\"translate(283.871271 158.398438)scale(0.1 -0.1)\">\r\n       <use xlink:href=\"#DejaVuSans-54\"/>\r\n       <use x=\"63.623047\" xlink:href=\"#DejaVuSans-48\"/>\r\n      </g>\r\n     </g>\r\n    </g>\r\n    <g id=\"xtick_5\">\r\n     <g id=\"line2d_5\">\r\n      <g>\r\n       <use style=\"stroke:#000000;stroke-width:0.8;\" x=\"337.873673\" xlink:href=\"#mce916eb2d4\" y=\"143.8\"/>\r\n      </g>\r\n     </g>\r\n     <g id=\"text_5\">\r\n      <!-- 80 -->\r\n      <defs>\r\n       <path d=\"M 31.78125 34.625 \r\nQ 24.75 34.625 20.71875 30.859375 \r\nQ 16.703125 27.09375 16.703125 20.515625 \r\nQ 16.703125 13.921875 20.71875 10.15625 \r\nQ 24.75 6.390625 31.78125 6.390625 \r\nQ 38.8125 6.390625 42.859375 10.171875 \r\nQ 46.921875 13.96875 46.921875 20.515625 \r\nQ 46.921875 27.09375 42.890625 30.859375 \r\nQ 38.875 34.625 31.78125 34.625 \r\nz\r\nM 21.921875 38.8125 \r\nQ 15.578125 40.375 12.03125 44.71875 \r\nQ 8.5 49.078125 8.5 55.328125 \r\nQ 8.5 64.0625 14.71875 69.140625 \r\nQ 20.953125 74.21875 31.78125 74.21875 \r\nQ 42.671875 74.21875 48.875 69.140625 \r\nQ 55.078125 64.0625 55.078125 55.328125 \r\nQ 55.078125 49.078125 51.53125 44.71875 \r\nQ 48 40.375 41.703125 38.8125 \r\nQ 48.828125 37.15625 52.796875 32.3125 \r\nQ 56.78125 27.484375 56.78125 20.515625 \r\nQ 56.78125 9.90625 50.3125 4.234375 \r\nQ 43.84375 -1.421875 31.78125 -1.421875 \r\nQ 19.734375 -1.421875 13.25 4.234375 \r\nQ 6.78125 9.90625 6.78125 20.515625 \r\nQ 6.78125 27.484375 10.78125 32.3125 \r\nQ 14.796875 37.15625 21.921875 38.8125 \r\nz\r\nM 18.3125 54.390625 \r\nQ 18.3125 48.734375 21.84375 45.5625 \r\nQ 25.390625 42.390625 31.78125 42.390625 \r\nQ 38.140625 42.390625 41.71875 45.5625 \r\nQ 45.3125 48.734375 45.3125 54.390625 \r\nQ 45.3125 60.0625 41.71875 63.234375 \r\nQ 38.140625 66.40625 31.78125 66.40625 \r\nQ 25.390625 66.40625 21.84375 63.234375 \r\nQ 18.3125 60.0625 18.3125 54.390625 \r\nz\r\n\" id=\"DejaVuSans-56\"/>\r\n      </defs>\r\n      <g transform=\"translate(331.511173 158.398438)scale(0.1 -0.1)\">\r\n       <use xlink:href=\"#DejaVuSans-56\"/>\r\n       <use x=\"63.623047\" xlink:href=\"#DejaVuSans-48\"/>\r\n      </g>\r\n     </g>\r\n    </g>\r\n    <g id=\"xtick_6\">\r\n     <g id=\"line2d_6\">\r\n      <g>\r\n       <use style=\"stroke:#000000;stroke-width:0.8;\" x=\"385.513576\" xlink:href=\"#mce916eb2d4\" y=\"143.8\"/>\r\n      </g>\r\n     </g>\r\n     <g id=\"text_6\">\r\n      <!-- 100 -->\r\n      <defs>\r\n       <path d=\"M 12.40625 8.296875 \r\nL 28.515625 8.296875 \r\nL 28.515625 63.921875 \r\nL 10.984375 60.40625 \r\nL 10.984375 69.390625 \r\nL 28.421875 72.90625 \r\nL 38.28125 72.90625 \r\nL 38.28125 8.296875 \r\nL 54.390625 8.296875 \r\nL 54.390625 0 \r\nL 12.40625 0 \r\nz\r\n\" id=\"DejaVuSans-49\"/>\r\n      </defs>\r\n      <g transform=\"translate(375.969826 158.398438)scale(0.1 -0.1)\">\r\n       <use xlink:href=\"#DejaVuSans-49\"/>\r\n       <use x=\"63.623047\" xlink:href=\"#DejaVuSans-48\"/>\r\n       <use x=\"127.246094\" xlink:href=\"#DejaVuSans-48\"/>\r\n      </g>\r\n     </g>\r\n    </g>\r\n    <g id=\"xtick_7\">\r\n     <g id=\"line2d_7\">\r\n      <g>\r\n       <use style=\"stroke:#000000;stroke-width:0.8;\" x=\"433.153479\" xlink:href=\"#mce916eb2d4\" y=\"143.8\"/>\r\n      </g>\r\n     </g>\r\n     <g id=\"text_7\">\r\n      <!-- 120 -->\r\n      <g transform=\"translate(423.609729 158.398438)scale(0.1 -0.1)\">\r\n       <use xlink:href=\"#DejaVuSans-49\"/>\r\n       <use x=\"63.623047\" xlink:href=\"#DejaVuSans-50\"/>\r\n       <use x=\"127.246094\" xlink:href=\"#DejaVuSans-48\"/>\r\n      </g>\r\n     </g>\r\n    </g>\r\n    <g id=\"xtick_8\">\r\n     <g id=\"line2d_8\">\r\n      <g>\r\n       <use style=\"stroke:#000000;stroke-width:0.8;\" x=\"480.793381\" xlink:href=\"#mce916eb2d4\" y=\"143.8\"/>\r\n      </g>\r\n     </g>\r\n     <g id=\"text_8\">\r\n      <!-- 140 -->\r\n      <g transform=\"translate(471.249631 158.398438)scale(0.1 -0.1)\">\r\n       <use xlink:href=\"#DejaVuSans-49\"/>\r\n       <use x=\"63.623047\" xlink:href=\"#DejaVuSans-52\"/>\r\n       <use x=\"127.246094\" xlink:href=\"#DejaVuSans-48\"/>\r\n      </g>\r\n     </g>\r\n    </g>\r\n   </g>\r\n   <g id=\"matplotlib.axis_2\">\r\n    <g id=\"ytick_1\">\r\n     <g id=\"line2d_9\">\r\n      <defs>\r\n       <path d=\"M 0 0 \r\nL -3.5 0 \r\n\" id=\"m128711f60c\" style=\"stroke:#000000;stroke-width:0.8;\"/>\r\n      </defs>\r\n      <g>\r\n       <use style=\"stroke:#000000;stroke-width:0.8;\" x=\"147.314063\" xlink:href=\"#m128711f60c\" y=\"130.14\"/>\r\n      </g>\r\n     </g>\r\n     <g id=\"text_9\">\r\n      <!-- golden_retriever -->\r\n      <defs>\r\n       <path d=\"M 45.40625 27.984375 \r\nQ 45.40625 37.75 41.375 43.109375 \r\nQ 37.359375 48.484375 30.078125 48.484375 \r\nQ 22.859375 48.484375 18.828125 43.109375 \r\nQ 14.796875 37.75 14.796875 27.984375 \r\nQ 14.796875 18.265625 18.828125 12.890625 \r\nQ 22.859375 7.515625 30.078125 7.515625 \r\nQ 37.359375 7.515625 41.375 12.890625 \r\nQ 45.40625 18.265625 45.40625 27.984375 \r\nz\r\nM 54.390625 6.78125 \r\nQ 54.390625 -7.171875 48.1875 -13.984375 \r\nQ 42 -20.796875 29.203125 -20.796875 \r\nQ 24.46875 -20.796875 20.265625 -20.09375 \r\nQ 16.0625 -19.390625 12.109375 -17.921875 \r\nL 12.109375 -9.1875 \r\nQ 16.0625 -11.328125 19.921875 -12.34375 \r\nQ 23.78125 -13.375 27.78125 -13.375 \r\nQ 36.625 -13.375 41.015625 -8.765625 \r\nQ 45.40625 -4.15625 45.40625 5.171875 \r\nL 45.40625 9.625 \r\nQ 42.625 4.78125 38.28125 2.390625 \r\nQ 33.9375 0 27.875 0 \r\nQ 17.828125 0 11.671875 7.65625 \r\nQ 5.515625 15.328125 5.515625 27.984375 \r\nQ 5.515625 40.671875 11.671875 48.328125 \r\nQ 17.828125 56 27.875 56 \r\nQ 33.9375 56 38.28125 53.609375 \r\nQ 42.625 51.21875 45.40625 46.390625 \r\nL 45.40625 54.6875 \r\nL 54.390625 54.6875 \r\nz\r\n\" id=\"DejaVuSans-103\"/>\r\n       <path d=\"M 30.609375 48.390625 \r\nQ 23.390625 48.390625 19.1875 42.75 \r\nQ 14.984375 37.109375 14.984375 27.296875 \r\nQ 14.984375 17.484375 19.15625 11.84375 \r\nQ 23.34375 6.203125 30.609375 6.203125 \r\nQ 37.796875 6.203125 41.984375 11.859375 \r\nQ 46.1875 17.53125 46.1875 27.296875 \r\nQ 46.1875 37.015625 41.984375 42.703125 \r\nQ 37.796875 48.390625 30.609375 48.390625 \r\nz\r\nM 30.609375 56 \r\nQ 42.328125 56 49.015625 48.375 \r\nQ 55.71875 40.765625 55.71875 27.296875 \r\nQ 55.71875 13.875 49.015625 6.21875 \r\nQ 42.328125 -1.421875 30.609375 -1.421875 \r\nQ 18.84375 -1.421875 12.171875 6.21875 \r\nQ 5.515625 13.875 5.515625 27.296875 \r\nQ 5.515625 40.765625 12.171875 48.375 \r\nQ 18.84375 56 30.609375 56 \r\nz\r\n\" id=\"DejaVuSans-111\"/>\r\n       <path d=\"M 9.421875 75.984375 \r\nL 18.40625 75.984375 \r\nL 18.40625 0 \r\nL 9.421875 0 \r\nz\r\n\" id=\"DejaVuSans-108\"/>\r\n       <path d=\"M 45.40625 46.390625 \r\nL 45.40625 75.984375 \r\nL 54.390625 75.984375 \r\nL 54.390625 0 \r\nL 45.40625 0 \r\nL 45.40625 8.203125 \r\nQ 42.578125 3.328125 38.25 0.953125 \r\nQ 33.9375 -1.421875 27.875 -1.421875 \r\nQ 17.96875 -1.421875 11.734375 6.484375 \r\nQ 5.515625 14.40625 5.515625 27.296875 \r\nQ 5.515625 40.1875 11.734375 48.09375 \r\nQ 17.96875 56 27.875 56 \r\nQ 33.9375 56 38.25 53.625 \r\nQ 42.578125 51.265625 45.40625 46.390625 \r\nz\r\nM 14.796875 27.296875 \r\nQ 14.796875 17.390625 18.875 11.75 \r\nQ 22.953125 6.109375 30.078125 6.109375 \r\nQ 37.203125 6.109375 41.296875 11.75 \r\nQ 45.40625 17.390625 45.40625 27.296875 \r\nQ 45.40625 37.203125 41.296875 42.84375 \r\nQ 37.203125 48.484375 30.078125 48.484375 \r\nQ 22.953125 48.484375 18.875 42.84375 \r\nQ 14.796875 37.203125 14.796875 27.296875 \r\nz\r\n\" id=\"DejaVuSans-100\"/>\r\n       <path d=\"M 56.203125 29.59375 \r\nL 56.203125 25.203125 \r\nL 14.890625 25.203125 \r\nQ 15.484375 15.921875 20.484375 11.0625 \r\nQ 25.484375 6.203125 34.421875 6.203125 \r\nQ 39.59375 6.203125 44.453125 7.46875 \r\nQ 49.3125 8.734375 54.109375 11.28125 \r\nL 54.109375 2.78125 \r\nQ 49.265625 0.734375 44.1875 -0.34375 \r\nQ 39.109375 -1.421875 33.890625 -1.421875 \r\nQ 20.796875 -1.421875 13.15625 6.1875 \r\nQ 5.515625 13.8125 5.515625 26.8125 \r\nQ 5.515625 40.234375 12.765625 48.109375 \r\nQ 20.015625 56 32.328125 56 \r\nQ 43.359375 56 49.78125 48.890625 \r\nQ 56.203125 41.796875 56.203125 29.59375 \r\nz\r\nM 47.21875 32.234375 \r\nQ 47.125 39.59375 43.09375 43.984375 \r\nQ 39.0625 48.390625 32.421875 48.390625 \r\nQ 24.90625 48.390625 20.390625 44.140625 \r\nQ 15.875 39.890625 15.1875 32.171875 \r\nz\r\n\" id=\"DejaVuSans-101\"/>\r\n       <path d=\"M 54.890625 33.015625 \r\nL 54.890625 0 \r\nL 45.90625 0 \r\nL 45.90625 32.71875 \r\nQ 45.90625 40.484375 42.875 44.328125 \r\nQ 39.84375 48.1875 33.796875 48.1875 \r\nQ 26.515625 48.1875 22.3125 43.546875 \r\nQ 18.109375 38.921875 18.109375 30.90625 \r\nL 18.109375 0 \r\nL 9.078125 0 \r\nL 9.078125 54.6875 \r\nL 18.109375 54.6875 \r\nL 18.109375 46.1875 \r\nQ 21.34375 51.125 25.703125 53.5625 \r\nQ 30.078125 56 35.796875 56 \r\nQ 45.21875 56 50.046875 50.171875 \r\nQ 54.890625 44.34375 54.890625 33.015625 \r\nz\r\n\" id=\"DejaVuSans-110\"/>\r\n       <path d=\"M 50.984375 -16.609375 \r\nL 50.984375 -23.578125 \r\nL -0.984375 -23.578125 \r\nL -0.984375 -16.609375 \r\nz\r\n\" id=\"DejaVuSans-95\"/>\r\n       <path d=\"M 41.109375 46.296875 \r\nQ 39.59375 47.171875 37.8125 47.578125 \r\nQ 36.03125 48 33.890625 48 \r\nQ 26.265625 48 22.1875 43.046875 \r\nQ 18.109375 38.09375 18.109375 28.8125 \r\nL 18.109375 0 \r\nL 9.078125 0 \r\nL 9.078125 54.6875 \r\nL 18.109375 54.6875 \r\nL 18.109375 46.1875 \r\nQ 20.953125 51.171875 25.484375 53.578125 \r\nQ 30.03125 56 36.53125 56 \r\nQ 37.453125 56 38.578125 55.875 \r\nQ 39.703125 55.765625 41.0625 55.515625 \r\nz\r\n\" id=\"DejaVuSans-114\"/>\r\n       <path d=\"M 18.3125 70.21875 \r\nL 18.3125 54.6875 \r\nL 36.8125 54.6875 \r\nL 36.8125 47.703125 \r\nL 18.3125 47.703125 \r\nL 18.3125 18.015625 \r\nQ 18.3125 11.328125 20.140625 9.421875 \r\nQ 21.96875 7.515625 27.59375 7.515625 \r\nL 36.8125 7.515625 \r\nL 36.8125 0 \r\nL 27.59375 0 \r\nQ 17.1875 0 13.234375 3.875 \r\nQ 9.28125 7.765625 9.28125 18.015625 \r\nL 9.28125 47.703125 \r\nL 2.6875 47.703125 \r\nL 2.6875 54.6875 \r\nL 9.28125 54.6875 \r\nL 9.28125 70.21875 \r\nz\r\n\" id=\"DejaVuSans-116\"/>\r\n       <path d=\"M 9.421875 54.6875 \r\nL 18.40625 54.6875 \r\nL 18.40625 0 \r\nL 9.421875 0 \r\nz\r\nM 9.421875 75.984375 \r\nL 18.40625 75.984375 \r\nL 18.40625 64.59375 \r\nL 9.421875 64.59375 \r\nz\r\n\" id=\"DejaVuSans-105\"/>\r\n       <path d=\"M 2.984375 54.6875 \r\nL 12.5 54.6875 \r\nL 29.59375 8.796875 \r\nL 46.6875 54.6875 \r\nL 56.203125 54.6875 \r\nL 35.6875 0 \r\nL 23.484375 0 \r\nz\r\n\" id=\"DejaVuSans-118\"/>\r\n      </defs>\r\n      <g transform=\"translate(58.045312 133.939219)scale(0.1 -0.1)\">\r\n       <use xlink:href=\"#DejaVuSans-103\"/>\r\n       <use x=\"63.476562\" xlink:href=\"#DejaVuSans-111\"/>\r\n       <use x=\"124.658203\" xlink:href=\"#DejaVuSans-108\"/>\r\n       <use x=\"152.441406\" xlink:href=\"#DejaVuSans-100\"/>\r\n       <use x=\"215.917969\" xlink:href=\"#DejaVuSans-101\"/>\r\n       <use x=\"277.441406\" xlink:href=\"#DejaVuSans-110\"/>\r\n       <use x=\"340.820312\" xlink:href=\"#DejaVuSans-95\"/>\r\n       <use x=\"390.820312\" xlink:href=\"#DejaVuSans-114\"/>\r\n       <use x=\"429.683594\" xlink:href=\"#DejaVuSans-101\"/>\r\n       <use x=\"491.207031\" xlink:href=\"#DejaVuSans-116\"/>\r\n       <use x=\"530.416016\" xlink:href=\"#DejaVuSans-114\"/>\r\n       <use x=\"571.529297\" xlink:href=\"#DejaVuSans-105\"/>\r\n       <use x=\"599.3125\" xlink:href=\"#DejaVuSans-101\"/>\r\n       <use x=\"660.835938\" xlink:href=\"#DejaVuSans-118\"/>\r\n       <use x=\"720.015625\" xlink:href=\"#DejaVuSans-101\"/>\r\n       <use x=\"781.539062\" xlink:href=\"#DejaVuSans-114\"/>\r\n      </g>\r\n     </g>\r\n    </g>\r\n    <g id=\"ytick_2\">\r\n     <g id=\"line2d_10\">\r\n      <g>\r\n       <use style=\"stroke:#000000;stroke-width:0.8;\" x=\"147.314063\" xlink:href=\"#m128711f60c\" y=\"102.82\"/>\r\n      </g>\r\n     </g>\r\n     <g id=\"text_10\">\r\n      <!-- Labrador_retriever -->\r\n      <defs>\r\n       <path d=\"M 9.8125 72.90625 \r\nL 19.671875 72.90625 \r\nL 19.671875 8.296875 \r\nL 55.171875 8.296875 \r\nL 55.171875 0 \r\nL 9.8125 0 \r\nz\r\n\" id=\"DejaVuSans-76\"/>\r\n       <path d=\"M 34.28125 27.484375 \r\nQ 23.390625 27.484375 19.1875 25 \r\nQ 14.984375 22.515625 14.984375 16.5 \r\nQ 14.984375 11.71875 18.140625 8.90625 \r\nQ 21.296875 6.109375 26.703125 6.109375 \r\nQ 34.1875 6.109375 38.703125 11.40625 \r\nQ 43.21875 16.703125 43.21875 25.484375 \r\nL 43.21875 27.484375 \r\nz\r\nM 52.203125 31.203125 \r\nL 52.203125 0 \r\nL 43.21875 0 \r\nL 43.21875 8.296875 \r\nQ 40.140625 3.328125 35.546875 0.953125 \r\nQ 30.953125 -1.421875 24.3125 -1.421875 \r\nQ 15.921875 -1.421875 10.953125 3.296875 \r\nQ 6 8.015625 6 15.921875 \r\nQ 6 25.140625 12.171875 29.828125 \r\nQ 18.359375 34.515625 30.609375 34.515625 \r\nL 43.21875 34.515625 \r\nL 43.21875 35.40625 \r\nQ 43.21875 41.609375 39.140625 45 \r\nQ 35.0625 48.390625 27.6875 48.390625 \r\nQ 23 48.390625 18.546875 47.265625 \r\nQ 14.109375 46.140625 10.015625 43.890625 \r\nL 10.015625 52.203125 \r\nQ 14.9375 54.109375 19.578125 55.046875 \r\nQ 24.21875 56 28.609375 56 \r\nQ 40.484375 56 46.34375 49.84375 \r\nQ 52.203125 43.703125 52.203125 31.203125 \r\nz\r\n\" id=\"DejaVuSans-97\"/>\r\n       <path d=\"M 48.6875 27.296875 \r\nQ 48.6875 37.203125 44.609375 42.84375 \r\nQ 40.53125 48.484375 33.40625 48.484375 \r\nQ 26.265625 48.484375 22.1875 42.84375 \r\nQ 18.109375 37.203125 18.109375 27.296875 \r\nQ 18.109375 17.390625 22.1875 11.75 \r\nQ 26.265625 6.109375 33.40625 6.109375 \r\nQ 40.53125 6.109375 44.609375 11.75 \r\nQ 48.6875 17.390625 48.6875 27.296875 \r\nz\r\nM 18.109375 46.390625 \r\nQ 20.953125 51.265625 25.265625 53.625 \r\nQ 29.59375 56 35.59375 56 \r\nQ 45.5625 56 51.78125 48.09375 \r\nQ 58.015625 40.1875 58.015625 27.296875 \r\nQ 58.015625 14.40625 51.78125 6.484375 \r\nQ 45.5625 -1.421875 35.59375 -1.421875 \r\nQ 29.59375 -1.421875 25.265625 0.953125 \r\nQ 20.953125 3.328125 18.109375 8.203125 \r\nL 18.109375 0 \r\nL 9.078125 0 \r\nL 9.078125 75.984375 \r\nL 18.109375 75.984375 \r\nz\r\n\" id=\"DejaVuSans-98\"/>\r\n      </defs>\r\n      <g transform=\"translate(47.264062 106.619219)scale(0.1 -0.1)\">\r\n       <use xlink:href=\"#DejaVuSans-76\"/>\r\n       <use x=\"55.712891\" xlink:href=\"#DejaVuSans-97\"/>\r\n       <use x=\"116.992188\" xlink:href=\"#DejaVuSans-98\"/>\r\n       <use x=\"180.46875\" xlink:href=\"#DejaVuSans-114\"/>\r\n       <use x=\"221.582031\" xlink:href=\"#DejaVuSans-97\"/>\r\n       <use x=\"282.861328\" xlink:href=\"#DejaVuSans-100\"/>\r\n       <use x=\"346.337891\" xlink:href=\"#DejaVuSans-111\"/>\r\n       <use x=\"407.519531\" xlink:href=\"#DejaVuSans-114\"/>\r\n       <use x=\"448.632812\" xlink:href=\"#DejaVuSans-95\"/>\r\n       <use x=\"498.632812\" xlink:href=\"#DejaVuSans-114\"/>\r\n       <use x=\"537.496094\" xlink:href=\"#DejaVuSans-101\"/>\r\n       <use x=\"599.019531\" xlink:href=\"#DejaVuSans-116\"/>\r\n       <use x=\"638.228516\" xlink:href=\"#DejaVuSans-114\"/>\r\n       <use x=\"679.341797\" xlink:href=\"#DejaVuSans-105\"/>\r\n       <use x=\"707.125\" xlink:href=\"#DejaVuSans-101\"/>\r\n       <use x=\"768.648438\" xlink:href=\"#DejaVuSans-118\"/>\r\n       <use x=\"827.828125\" xlink:href=\"#DejaVuSans-101\"/>\r\n       <use x=\"889.351562\" xlink:href=\"#DejaVuSans-114\"/>\r\n      </g>\r\n     </g>\r\n    </g>\r\n    <g id=\"ytick_3\">\r\n     <g id=\"line2d_11\">\r\n      <g>\r\n       <use style=\"stroke:#000000;stroke-width:0.8;\" x=\"147.314063\" xlink:href=\"#m128711f60c\" y=\"75.5\"/>\r\n      </g>\r\n     </g>\r\n     <g id=\"text_11\">\r\n      <!-- Pembroke -->\r\n      <defs>\r\n       <path d=\"M 19.671875 64.796875 \r\nL 19.671875 37.40625 \r\nL 32.078125 37.40625 \r\nQ 38.96875 37.40625 42.71875 40.96875 \r\nQ 46.484375 44.53125 46.484375 51.125 \r\nQ 46.484375 57.671875 42.71875 61.234375 \r\nQ 38.96875 64.796875 32.078125 64.796875 \r\nz\r\nM 9.8125 72.90625 \r\nL 32.078125 72.90625 \r\nQ 44.34375 72.90625 50.609375 67.359375 \r\nQ 56.890625 61.8125 56.890625 51.125 \r\nQ 56.890625 40.328125 50.609375 34.8125 \r\nQ 44.34375 29.296875 32.078125 29.296875 \r\nL 19.671875 29.296875 \r\nL 19.671875 0 \r\nL 9.8125 0 \r\nz\r\n\" id=\"DejaVuSans-80\"/>\r\n       <path d=\"M 52 44.1875 \r\nQ 55.375 50.25 60.0625 53.125 \r\nQ 64.75 56 71.09375 56 \r\nQ 79.640625 56 84.28125 50.015625 \r\nQ 88.921875 44.046875 88.921875 33.015625 \r\nL 88.921875 0 \r\nL 79.890625 0 \r\nL 79.890625 32.71875 \r\nQ 79.890625 40.578125 77.09375 44.375 \r\nQ 74.3125 48.1875 68.609375 48.1875 \r\nQ 61.625 48.1875 57.5625 43.546875 \r\nQ 53.515625 38.921875 53.515625 30.90625 \r\nL 53.515625 0 \r\nL 44.484375 0 \r\nL 44.484375 32.71875 \r\nQ 44.484375 40.625 41.703125 44.40625 \r\nQ 38.921875 48.1875 33.109375 48.1875 \r\nQ 26.21875 48.1875 22.15625 43.53125 \r\nQ 18.109375 38.875 18.109375 30.90625 \r\nL 18.109375 0 \r\nL 9.078125 0 \r\nL 9.078125 54.6875 \r\nL 18.109375 54.6875 \r\nL 18.109375 46.1875 \r\nQ 21.1875 51.21875 25.484375 53.609375 \r\nQ 29.78125 56 35.6875 56 \r\nQ 41.65625 56 45.828125 52.96875 \r\nQ 50 49.953125 52 44.1875 \r\nz\r\n\" id=\"DejaVuSans-109\"/>\r\n       <path d=\"M 9.078125 75.984375 \r\nL 18.109375 75.984375 \r\nL 18.109375 31.109375 \r\nL 44.921875 54.6875 \r\nL 56.390625 54.6875 \r\nL 27.390625 29.109375 \r\nL 57.625 0 \r\nL 45.90625 0 \r\nL 18.109375 26.703125 \r\nL 18.109375 0 \r\nL 9.078125 0 \r\nz\r\n\" id=\"DejaVuSans-107\"/>\r\n      </defs>\r\n      <g transform=\"translate(90.81875 79.299219)scale(0.1 -0.1)\">\r\n       <use xlink:href=\"#DejaVuSans-80\"/>\r\n       <use x=\"56.677734\" xlink:href=\"#DejaVuSans-101\"/>\r\n       <use x=\"118.201172\" xlink:href=\"#DejaVuSans-109\"/>\r\n       <use x=\"215.613281\" xlink:href=\"#DejaVuSans-98\"/>\r\n       <use x=\"279.089844\" xlink:href=\"#DejaVuSans-114\"/>\r\n       <use x=\"317.953125\" xlink:href=\"#DejaVuSans-111\"/>\r\n       <use x=\"379.134766\" xlink:href=\"#DejaVuSans-107\"/>\r\n       <use x=\"433.419922\" xlink:href=\"#DejaVuSans-101\"/>\r\n      </g>\r\n     </g>\r\n    </g>\r\n    <g id=\"ytick_4\">\r\n     <g id=\"line2d_12\">\r\n      <g>\r\n       <use style=\"stroke:#000000;stroke-width:0.8;\" x=\"147.314063\" xlink:href=\"#m128711f60c\" y=\"48.18\"/>\r\n      </g>\r\n     </g>\r\n     <g id=\"text_12\">\r\n      <!-- Chihuahua -->\r\n      <defs>\r\n       <path d=\"M 64.40625 67.28125 \r\nL 64.40625 56.890625 \r\nQ 59.421875 61.53125 53.78125 63.8125 \r\nQ 48.140625 66.109375 41.796875 66.109375 \r\nQ 29.296875 66.109375 22.65625 58.46875 \r\nQ 16.015625 50.828125 16.015625 36.375 \r\nQ 16.015625 21.96875 22.65625 14.328125 \r\nQ 29.296875 6.6875 41.796875 6.6875 \r\nQ 48.140625 6.6875 53.78125 8.984375 \r\nQ 59.421875 11.28125 64.40625 15.921875 \r\nL 64.40625 5.609375 \r\nQ 59.234375 2.09375 53.4375 0.328125 \r\nQ 47.65625 -1.421875 41.21875 -1.421875 \r\nQ 24.65625 -1.421875 15.125 8.703125 \r\nQ 5.609375 18.84375 5.609375 36.375 \r\nQ 5.609375 53.953125 15.125 64.078125 \r\nQ 24.65625 74.21875 41.21875 74.21875 \r\nQ 47.75 74.21875 53.53125 72.484375 \r\nQ 59.328125 70.75 64.40625 67.28125 \r\nz\r\n\" id=\"DejaVuSans-67\"/>\r\n       <path d=\"M 54.890625 33.015625 \r\nL 54.890625 0 \r\nL 45.90625 0 \r\nL 45.90625 32.71875 \r\nQ 45.90625 40.484375 42.875 44.328125 \r\nQ 39.84375 48.1875 33.796875 48.1875 \r\nQ 26.515625 48.1875 22.3125 43.546875 \r\nQ 18.109375 38.921875 18.109375 30.90625 \r\nL 18.109375 0 \r\nL 9.078125 0 \r\nL 9.078125 75.984375 \r\nL 18.109375 75.984375 \r\nL 18.109375 46.1875 \r\nQ 21.34375 51.125 25.703125 53.5625 \r\nQ 30.078125 56 35.796875 56 \r\nQ 45.21875 56 50.046875 50.171875 \r\nQ 54.890625 44.34375 54.890625 33.015625 \r\nz\r\n\" id=\"DejaVuSans-104\"/>\r\n       <path d=\"M 8.5 21.578125 \r\nL 8.5 54.6875 \r\nL 17.484375 54.6875 \r\nL 17.484375 21.921875 \r\nQ 17.484375 14.15625 20.5 10.265625 \r\nQ 23.53125 6.390625 29.59375 6.390625 \r\nQ 36.859375 6.390625 41.078125 11.03125 \r\nQ 45.3125 15.671875 45.3125 23.6875 \r\nL 45.3125 54.6875 \r\nL 54.296875 54.6875 \r\nL 54.296875 0 \r\nL 45.3125 0 \r\nL 45.3125 8.40625 \r\nQ 42.046875 3.421875 37.71875 1 \r\nQ 33.40625 -1.421875 27.6875 -1.421875 \r\nQ 18.265625 -1.421875 13.375 4.4375 \r\nQ 8.5 10.296875 8.5 21.578125 \r\nz\r\nM 31.109375 56 \r\nz\r\n\" id=\"DejaVuSans-117\"/>\r\n      </defs>\r\n      <g transform=\"translate(86.609375 51.979219)scale(0.1 -0.1)\">\r\n       <use xlink:href=\"#DejaVuSans-67\"/>\r\n       <use x=\"69.824219\" xlink:href=\"#DejaVuSans-104\"/>\r\n       <use x=\"133.203125\" xlink:href=\"#DejaVuSans-105\"/>\r\n       <use x=\"160.986328\" xlink:href=\"#DejaVuSans-104\"/>\r\n       <use x=\"224.365234\" xlink:href=\"#DejaVuSans-117\"/>\r\n       <use x=\"287.744141\" xlink:href=\"#DejaVuSans-97\"/>\r\n       <use x=\"349.023438\" xlink:href=\"#DejaVuSans-104\"/>\r\n       <use x=\"412.402344\" xlink:href=\"#DejaVuSans-117\"/>\r\n       <use x=\"475.78125\" xlink:href=\"#DejaVuSans-97\"/>\r\n      </g>\r\n     </g>\r\n    </g>\r\n    <g id=\"ytick_5\">\r\n     <g id=\"line2d_13\">\r\n      <g>\r\n       <use style=\"stroke:#000000;stroke-width:0.8;\" x=\"147.314063\" xlink:href=\"#m128711f60c\" y=\"20.86\"/>\r\n      </g>\r\n     </g>\r\n     <g id=\"text_13\">\r\n      <!-- pug -->\r\n      <defs>\r\n       <path d=\"M 18.109375 8.203125 \r\nL 18.109375 -20.796875 \r\nL 9.078125 -20.796875 \r\nL 9.078125 54.6875 \r\nL 18.109375 54.6875 \r\nL 18.109375 46.390625 \r\nQ 20.953125 51.265625 25.265625 53.625 \r\nQ 29.59375 56 35.59375 56 \r\nQ 45.5625 56 51.78125 48.09375 \r\nQ 58.015625 40.1875 58.015625 27.296875 \r\nQ 58.015625 14.40625 51.78125 6.484375 \r\nQ 45.5625 -1.421875 35.59375 -1.421875 \r\nQ 29.59375 -1.421875 25.265625 0.953125 \r\nQ 20.953125 3.328125 18.109375 8.203125 \r\nz\r\nM 48.6875 27.296875 \r\nQ 48.6875 37.203125 44.609375 42.84375 \r\nQ 40.53125 48.484375 33.40625 48.484375 \r\nQ 26.265625 48.484375 22.1875 42.84375 \r\nQ 18.109375 37.203125 18.109375 27.296875 \r\nQ 18.109375 17.390625 22.1875 11.75 \r\nQ 26.265625 6.109375 33.40625 6.109375 \r\nQ 40.53125 6.109375 44.609375 11.75 \r\nQ 48.6875 17.390625 48.6875 27.296875 \r\nz\r\n\" id=\"DejaVuSans-112\"/>\r\n      </defs>\r\n      <g transform=\"translate(121.279688 24.659219)scale(0.1 -0.1)\">\r\n       <use xlink:href=\"#DejaVuSans-112\"/>\r\n       <use x=\"63.476562\" xlink:href=\"#DejaVuSans-117\"/>\r\n       <use x=\"126.855469\" xlink:href=\"#DejaVuSans-103\"/>\r\n      </g>\r\n     </g>\r\n    </g>\r\n   </g>\r\n   <g id=\"patch_8\">\r\n    <path d=\"M 147.314063 143.8 \r\nL 147.314063 7.2 \r\n\" style=\"fill:none;stroke:#000000;stroke-linecap:square;stroke-linejoin:miter;stroke-width:0.8;\"/>\r\n   </g>\r\n   <g id=\"patch_9\">\r\n    <path d=\"M 489.964062 143.8 \r\nL 489.964062 7.2 \r\n\" style=\"fill:none;stroke:#000000;stroke-linecap:square;stroke-linejoin:miter;stroke-width:0.8;\"/>\r\n   </g>\r\n   <g id=\"patch_10\">\r\n    <path d=\"M 147.314063 143.8 \r\nL 489.964062 143.8 \r\n\" style=\"fill:none;stroke:#000000;stroke-linecap:square;stroke-linejoin:miter;stroke-width:0.8;\"/>\r\n   </g>\r\n   <g id=\"patch_11\">\r\n    <path d=\"M 147.314063 7.2 \r\nL 489.964062 7.2 \r\n\" style=\"fill:none;stroke:#000000;stroke-linecap:square;stroke-linejoin:miter;stroke-width:0.8;\"/>\r\n   </g>\r\n  </g>\r\n  <g id=\"axes_2\">\r\n   <g id=\"patch_12\">\r\n    <path d=\"M 147.314063 308.2 \r\nL 489.964062 308.2 \r\nL 489.964062 171.6 \r\nL 147.314063 171.6 \r\nz\r\n\" style=\"fill:#ffffff;\"/>\r\n   </g>\r\n   <g id=\"patch_13\">\r\n    <path clip-path=\"url(#p2427ee1a2e)\" d=\"M 147.314063 301.37 \r\nL 473.647396 301.37 \r\nL 473.647396 287.71 \r\nL 147.314063 287.71 \r\nz\r\n\" style=\"fill:#008000;\"/>\r\n   </g>\r\n   <g id=\"patch_14\">\r\n    <path clip-path=\"url(#p2427ee1a2e)\" d=\"M 147.314063 274.05 \r\nL 425.556168 274.05 \r\nL 425.556168 260.39 \r\nL 147.314063 260.39 \r\nz\r\n\" style=\"fill:#008000;\"/>\r\n   </g>\r\n   <g id=\"patch_15\">\r\n    <path clip-path=\"url(#p2427ee1a2e)\" d=\"M 147.314063 246.73 \r\nL 394.640378 246.73 \r\nL 394.640378 233.07 \r\nL 147.314063 233.07 \r\nz\r\n\" style=\"fill:#008000;\"/>\r\n   </g>\r\n   <g id=\"patch_16\">\r\n    <path clip-path=\"url(#p2427ee1a2e)\" d=\"M 147.314063 219.41 \r\nL 295.022834 219.41 \r\nL 295.022834 205.75 \r\nL 147.314063 205.75 \r\nz\r\n\" style=\"fill:#008000;\"/>\r\n   </g>\r\n   <g id=\"patch_17\">\r\n    <path clip-path=\"url(#p2427ee1a2e)\" d=\"M 147.314063 192.09 \r\nL 284.717571 192.09 \r\nL 284.717571 178.43 \r\nL 147.314063 178.43 \r\nz\r\n\" style=\"fill:#008000;\"/>\r\n   </g>\r\n   <g id=\"matplotlib.axis_3\">\r\n    <g id=\"xtick_9\">\r\n     <g id=\"line2d_14\">\r\n      <g>\r\n       <use style=\"stroke:#000000;stroke-width:0.8;\" x=\"147.314063\" xlink:href=\"#mce916eb2d4\" y=\"308.2\"/>\r\n      </g>\r\n     </g>\r\n     <g id=\"text_14\">\r\n      <!-- 0 -->\r\n      <g transform=\"translate(144.132812 322.798438)scale(0.1 -0.1)\">\r\n       <use xlink:href=\"#DejaVuSans-48\"/>\r\n      </g>\r\n     </g>\r\n    </g>\r\n    <g id=\"xtick_10\">\r\n     <g id=\"line2d_15\">\r\n      <g>\r\n       <use style=\"stroke:#000000;stroke-width:0.8;\" x=\"216.015817\" xlink:href=\"#mce916eb2d4\" y=\"308.2\"/>\r\n      </g>\r\n     </g>\r\n     <g id=\"text_15\">\r\n      <!-- 20 -->\r\n      <g transform=\"translate(209.653317 322.798438)scale(0.1 -0.1)\">\r\n       <use xlink:href=\"#DejaVuSans-50\"/>\r\n       <use x=\"63.623047\" xlink:href=\"#DejaVuSans-48\"/>\r\n      </g>\r\n     </g>\r\n    </g>\r\n    <g id=\"xtick_11\">\r\n     <g id=\"line2d_16\">\r\n      <g>\r\n       <use style=\"stroke:#000000;stroke-width:0.8;\" x=\"284.717571\" xlink:href=\"#mce916eb2d4\" y=\"308.2\"/>\r\n      </g>\r\n     </g>\r\n     <g id=\"text_16\">\r\n      <!-- 40 -->\r\n      <g transform=\"translate(278.355071 322.798438)scale(0.1 -0.1)\">\r\n       <use xlink:href=\"#DejaVuSans-52\"/>\r\n       <use x=\"63.623047\" xlink:href=\"#DejaVuSans-48\"/>\r\n      </g>\r\n     </g>\r\n    </g>\r\n    <g id=\"xtick_12\">\r\n     <g id=\"line2d_17\">\r\n      <g>\r\n       <use style=\"stroke:#000000;stroke-width:0.8;\" x=\"353.419326\" xlink:href=\"#mce916eb2d4\" y=\"308.2\"/>\r\n      </g>\r\n     </g>\r\n     <g id=\"text_17\">\r\n      <!-- 60 -->\r\n      <g transform=\"translate(347.056826 322.798438)scale(0.1 -0.1)\">\r\n       <use xlink:href=\"#DejaVuSans-54\"/>\r\n       <use x=\"63.623047\" xlink:href=\"#DejaVuSans-48\"/>\r\n      </g>\r\n     </g>\r\n    </g>\r\n    <g id=\"xtick_13\">\r\n     <g id=\"line2d_18\">\r\n      <g>\r\n       <use style=\"stroke:#000000;stroke-width:0.8;\" x=\"422.12108\" xlink:href=\"#mce916eb2d4\" y=\"308.2\"/>\r\n      </g>\r\n     </g>\r\n     <g id=\"text_18\">\r\n      <!-- 80 -->\r\n      <g transform=\"translate(415.75858 322.798438)scale(0.1 -0.1)\">\r\n       <use xlink:href=\"#DejaVuSans-56\"/>\r\n       <use x=\"63.623047\" xlink:href=\"#DejaVuSans-48\"/>\r\n      </g>\r\n     </g>\r\n    </g>\r\n   </g>\r\n   <g id=\"matplotlib.axis_4\">\r\n    <g id=\"ytick_6\">\r\n     <g id=\"line2d_19\">\r\n      <g>\r\n       <use style=\"stroke:#000000;stroke-width:0.8;\" x=\"147.314063\" xlink:href=\"#m128711f60c\" y=\"294.54\"/>\r\n      </g>\r\n     </g>\r\n     <g id=\"text_19\">\r\n      <!-- Labrador_retriever -->\r\n      <g transform=\"translate(47.264062 298.339219)scale(0.1 -0.1)\">\r\n       <use xlink:href=\"#DejaVuSans-76\"/>\r\n       <use x=\"55.712891\" xlink:href=\"#DejaVuSans-97\"/>\r\n       <use x=\"116.992188\" xlink:href=\"#DejaVuSans-98\"/>\r\n       <use x=\"180.46875\" xlink:href=\"#DejaVuSans-114\"/>\r\n       <use x=\"221.582031\" xlink:href=\"#DejaVuSans-97\"/>\r\n       <use x=\"282.861328\" xlink:href=\"#DejaVuSans-100\"/>\r\n       <use x=\"346.337891\" xlink:href=\"#DejaVuSans-111\"/>\r\n       <use x=\"407.519531\" xlink:href=\"#DejaVuSans-114\"/>\r\n       <use x=\"448.632812\" xlink:href=\"#DejaVuSans-95\"/>\r\n       <use x=\"498.632812\" xlink:href=\"#DejaVuSans-114\"/>\r\n       <use x=\"537.496094\" xlink:href=\"#DejaVuSans-101\"/>\r\n       <use x=\"599.019531\" xlink:href=\"#DejaVuSans-116\"/>\r\n       <use x=\"638.228516\" xlink:href=\"#DejaVuSans-114\"/>\r\n       <use x=\"679.341797\" xlink:href=\"#DejaVuSans-105\"/>\r\n       <use x=\"707.125\" xlink:href=\"#DejaVuSans-101\"/>\r\n       <use x=\"768.648438\" xlink:href=\"#DejaVuSans-118\"/>\r\n       <use x=\"827.828125\" xlink:href=\"#DejaVuSans-101\"/>\r\n       <use x=\"889.351562\" xlink:href=\"#DejaVuSans-114\"/>\r\n      </g>\r\n     </g>\r\n    </g>\r\n    <g id=\"ytick_7\">\r\n     <g id=\"line2d_20\">\r\n      <g>\r\n       <use style=\"stroke:#000000;stroke-width:0.8;\" x=\"147.314063\" xlink:href=\"#m128711f60c\" y=\"267.22\"/>\r\n      </g>\r\n     </g>\r\n     <g id=\"text_20\">\r\n      <!-- golden_retriever -->\r\n      <g transform=\"translate(58.045312 271.019219)scale(0.1 -0.1)\">\r\n       <use xlink:href=\"#DejaVuSans-103\"/>\r\n       <use x=\"63.476562\" xlink:href=\"#DejaVuSans-111\"/>\r\n       <use x=\"124.658203\" xlink:href=\"#DejaVuSans-108\"/>\r\n       <use x=\"152.441406\" xlink:href=\"#DejaVuSans-100\"/>\r\n       <use x=\"215.917969\" xlink:href=\"#DejaVuSans-101\"/>\r\n       <use x=\"277.441406\" xlink:href=\"#DejaVuSans-110\"/>\r\n       <use x=\"340.820312\" xlink:href=\"#DejaVuSans-95\"/>\r\n       <use x=\"390.820312\" xlink:href=\"#DejaVuSans-114\"/>\r\n       <use x=\"429.683594\" xlink:href=\"#DejaVuSans-101\"/>\r\n       <use x=\"491.207031\" xlink:href=\"#DejaVuSans-116\"/>\r\n       <use x=\"530.416016\" xlink:href=\"#DejaVuSans-114\"/>\r\n       <use x=\"571.529297\" xlink:href=\"#DejaVuSans-105\"/>\r\n       <use x=\"599.3125\" xlink:href=\"#DejaVuSans-101\"/>\r\n       <use x=\"660.835938\" xlink:href=\"#DejaVuSans-118\"/>\r\n       <use x=\"720.015625\" xlink:href=\"#DejaVuSans-101\"/>\r\n       <use x=\"781.539062\" xlink:href=\"#DejaVuSans-114\"/>\r\n      </g>\r\n     </g>\r\n    </g>\r\n    <g id=\"ytick_8\">\r\n     <g id=\"line2d_21\">\r\n      <g>\r\n       <use style=\"stroke:#000000;stroke-width:0.8;\" x=\"147.314063\" xlink:href=\"#m128711f60c\" y=\"239.9\"/>\r\n      </g>\r\n     </g>\r\n     <g id=\"text_21\">\r\n      <!-- Cardigan -->\r\n      <g transform=\"translate(95.326562 243.699219)scale(0.1 -0.1)\">\r\n       <use xlink:href=\"#DejaVuSans-67\"/>\r\n       <use x=\"69.824219\" xlink:href=\"#DejaVuSans-97\"/>\r\n       <use x=\"131.103516\" xlink:href=\"#DejaVuSans-114\"/>\r\n       <use x=\"170.466797\" xlink:href=\"#DejaVuSans-100\"/>\r\n       <use x=\"233.943359\" xlink:href=\"#DejaVuSans-105\"/>\r\n       <use x=\"261.726562\" xlink:href=\"#DejaVuSans-103\"/>\r\n       <use x=\"325.203125\" xlink:href=\"#DejaVuSans-97\"/>\r\n       <use x=\"386.482422\" xlink:href=\"#DejaVuSans-110\"/>\r\n      </g>\r\n     </g>\r\n    </g>\r\n    <g id=\"ytick_9\">\r\n     <g id=\"line2d_22\">\r\n      <g>\r\n       <use style=\"stroke:#000000;stroke-width:0.8;\" x=\"147.314063\" xlink:href=\"#m128711f60c\" y=\"212.58\"/>\r\n      </g>\r\n     </g>\r\n     <g id=\"text_22\">\r\n      <!-- Chihuahua -->\r\n      <g transform=\"translate(86.609375 216.379219)scale(0.1 -0.1)\">\r\n       <use xlink:href=\"#DejaVuSans-67\"/>\r\n       <use x=\"69.824219\" xlink:href=\"#DejaVuSans-104\"/>\r\n       <use x=\"133.203125\" xlink:href=\"#DejaVuSans-105\"/>\r\n       <use x=\"160.986328\" xlink:href=\"#DejaVuSans-104\"/>\r\n       <use x=\"224.365234\" xlink:href=\"#DejaVuSans-117\"/>\r\n       <use x=\"287.744141\" xlink:href=\"#DejaVuSans-97\"/>\r\n       <use x=\"349.023438\" xlink:href=\"#DejaVuSans-104\"/>\r\n       <use x=\"412.402344\" xlink:href=\"#DejaVuSans-117\"/>\r\n       <use x=\"475.78125\" xlink:href=\"#DejaVuSans-97\"/>\r\n      </g>\r\n     </g>\r\n    </g>\r\n    <g id=\"ytick_10\">\r\n     <g id=\"line2d_23\">\r\n      <g>\r\n       <use style=\"stroke:#000000;stroke-width:0.8;\" x=\"147.314063\" xlink:href=\"#m128711f60c\" y=\"185.26\"/>\r\n      </g>\r\n     </g>\r\n     <g id=\"text_23\">\r\n      <!-- Chesapeake_Bay_retriever -->\r\n      <defs>\r\n       <path d=\"M 44.28125 53.078125 \r\nL 44.28125 44.578125 \r\nQ 40.484375 46.53125 36.375 47.5 \r\nQ 32.28125 48.484375 27.875 48.484375 \r\nQ 21.1875 48.484375 17.84375 46.4375 \r\nQ 14.5 44.390625 14.5 40.28125 \r\nQ 14.5 37.15625 16.890625 35.375 \r\nQ 19.28125 33.59375 26.515625 31.984375 \r\nL 29.59375 31.296875 \r\nQ 39.15625 29.25 43.1875 25.515625 \r\nQ 47.21875 21.78125 47.21875 15.09375 \r\nQ 47.21875 7.46875 41.1875 3.015625 \r\nQ 35.15625 -1.421875 24.609375 -1.421875 \r\nQ 20.21875 -1.421875 15.453125 -0.5625 \r\nQ 10.6875 0.296875 5.421875 2 \r\nL 5.421875 11.28125 \r\nQ 10.40625 8.6875 15.234375 7.390625 \r\nQ 20.0625 6.109375 24.8125 6.109375 \r\nQ 31.15625 6.109375 34.5625 8.28125 \r\nQ 37.984375 10.453125 37.984375 14.40625 \r\nQ 37.984375 18.0625 35.515625 20.015625 \r\nQ 33.0625 21.96875 24.703125 23.78125 \r\nL 21.578125 24.515625 \r\nQ 13.234375 26.265625 9.515625 29.90625 \r\nQ 5.8125 33.546875 5.8125 39.890625 \r\nQ 5.8125 47.609375 11.28125 51.796875 \r\nQ 16.75 56 26.8125 56 \r\nQ 31.78125 56 36.171875 55.265625 \r\nQ 40.578125 54.546875 44.28125 53.078125 \r\nz\r\n\" id=\"DejaVuSans-115\"/>\r\n       <path d=\"M 19.671875 34.8125 \r\nL 19.671875 8.109375 \r\nL 35.5 8.109375 \r\nQ 43.453125 8.109375 47.28125 11.40625 \r\nQ 51.125 14.703125 51.125 21.484375 \r\nQ 51.125 28.328125 47.28125 31.5625 \r\nQ 43.453125 34.8125 35.5 34.8125 \r\nz\r\nM 19.671875 64.796875 \r\nL 19.671875 42.828125 \r\nL 34.28125 42.828125 \r\nQ 41.5 42.828125 45.03125 45.53125 \r\nQ 48.578125 48.25 48.578125 53.8125 \r\nQ 48.578125 59.328125 45.03125 62.0625 \r\nQ 41.5 64.796875 34.28125 64.796875 \r\nz\r\nM 9.8125 72.90625 \r\nL 35.015625 72.90625 \r\nQ 46.296875 72.90625 52.390625 68.21875 \r\nQ 58.5 63.53125 58.5 54.890625 \r\nQ 58.5 48.1875 55.375 44.234375 \r\nQ 52.25 40.28125 46.1875 39.3125 \r\nQ 53.46875 37.75 57.5 32.78125 \r\nQ 61.53125 27.828125 61.53125 20.40625 \r\nQ 61.53125 10.640625 54.890625 5.3125 \r\nQ 48.25 0 35.984375 0 \r\nL 9.8125 0 \r\nz\r\n\" id=\"DejaVuSans-66\"/>\r\n       <path d=\"M 32.171875 -5.078125 \r\nQ 28.375 -14.84375 24.75 -17.8125 \r\nQ 21.140625 -20.796875 15.09375 -20.796875 \r\nL 7.90625 -20.796875 \r\nL 7.90625 -13.28125 \r\nL 13.1875 -13.28125 \r\nQ 16.890625 -13.28125 18.9375 -11.515625 \r\nQ 21 -9.765625 23.484375 -3.21875 \r\nL 25.09375 0.875 \r\nL 2.984375 54.6875 \r\nL 12.5 54.6875 \r\nL 29.59375 11.921875 \r\nL 46.6875 54.6875 \r\nL 56.203125 54.6875 \r\nz\r\n\" id=\"DejaVuSans-121\"/>\r\n      </defs>\r\n      <g transform=\"translate(7.2 189.059219)scale(0.1 -0.1)\">\r\n       <use xlink:href=\"#DejaVuSans-67\"/>\r\n       <use x=\"69.824219\" xlink:href=\"#DejaVuSans-104\"/>\r\n       <use x=\"133.203125\" xlink:href=\"#DejaVuSans-101\"/>\r\n       <use x=\"194.726562\" xlink:href=\"#DejaVuSans-115\"/>\r\n       <use x=\"246.826172\" xlink:href=\"#DejaVuSans-97\"/>\r\n       <use x=\"308.105469\" xlink:href=\"#DejaVuSans-112\"/>\r\n       <use x=\"371.582031\" xlink:href=\"#DejaVuSans-101\"/>\r\n       <use x=\"433.105469\" xlink:href=\"#DejaVuSans-97\"/>\r\n       <use x=\"494.384766\" xlink:href=\"#DejaVuSans-107\"/>\r\n       <use x=\"548.669922\" xlink:href=\"#DejaVuSans-101\"/>\r\n       <use x=\"610.193359\" xlink:href=\"#DejaVuSans-95\"/>\r\n       <use x=\"660.193359\" xlink:href=\"#DejaVuSans-66\"/>\r\n       <use x=\"728.796875\" xlink:href=\"#DejaVuSans-97\"/>\r\n       <use x=\"790.076172\" xlink:href=\"#DejaVuSans-121\"/>\r\n       <use x=\"849.255859\" xlink:href=\"#DejaVuSans-95\"/>\r\n       <use x=\"899.255859\" xlink:href=\"#DejaVuSans-114\"/>\r\n       <use x=\"938.119141\" xlink:href=\"#DejaVuSans-101\"/>\r\n       <use x=\"999.642578\" xlink:href=\"#DejaVuSans-116\"/>\r\n       <use x=\"1038.851562\" xlink:href=\"#DejaVuSans-114\"/>\r\n       <use x=\"1079.964844\" xlink:href=\"#DejaVuSans-105\"/>\r\n       <use x=\"1107.748047\" xlink:href=\"#DejaVuSans-101\"/>\r\n       <use x=\"1169.271484\" xlink:href=\"#DejaVuSans-118\"/>\r\n       <use x=\"1228.451172\" xlink:href=\"#DejaVuSans-101\"/>\r\n       <use x=\"1289.974609\" xlink:href=\"#DejaVuSans-114\"/>\r\n      </g>\r\n     </g>\r\n    </g>\r\n   </g>\r\n   <g id=\"patch_18\">\r\n    <path d=\"M 147.314063 308.2 \r\nL 147.314063 171.6 \r\n\" style=\"fill:none;stroke:#000000;stroke-linecap:square;stroke-linejoin:miter;stroke-width:0.8;\"/>\r\n   </g>\r\n   <g id=\"patch_19\">\r\n    <path d=\"M 489.964062 308.2 \r\nL 489.964062 171.6 \r\n\" style=\"fill:none;stroke:#000000;stroke-linecap:square;stroke-linejoin:miter;stroke-width:0.8;\"/>\r\n   </g>\r\n   <g id=\"patch_20\">\r\n    <path d=\"M 147.314063 308.2 \r\nL 489.964062 308.2 \r\n\" style=\"fill:none;stroke:#000000;stroke-linecap:square;stroke-linejoin:miter;stroke-width:0.8;\"/>\r\n   </g>\r\n   <g id=\"patch_21\">\r\n    <path d=\"M 147.314063 171.6 \r\nL 489.964062 171.6 \r\n\" style=\"fill:none;stroke:#000000;stroke-linecap:square;stroke-linejoin:miter;stroke-width:0.8;\"/>\r\n   </g>\r\n  </g>\r\n  <g id=\"axes_3\">\r\n   <g id=\"patch_22\">\r\n    <path d=\"M 147.314063 472.6 \r\nL 489.964062 472.6 \r\nL 489.964062 336 \r\nL 147.314063 336 \r\nz\r\n\" style=\"fill:#ffffff;\"/>\r\n   </g>\r\n   <g id=\"patch_23\">\r\n    <path clip-path=\"url(#p316234ecf2)\" d=\"M 147.314063 465.77 \r\nL 473.647396 465.77 \r\nL 473.647396 452.11 \r\nL 147.314063 452.11 \r\nz\r\n\" style=\"fill:#bfbf00;\"/>\r\n   </g>\r\n   <g id=\"patch_24\">\r\n    <path clip-path=\"url(#p316234ecf2)\" d=\"M 147.314063 438.45 \r\nL 425.556168 438.45 \r\nL 425.556168 424.79 \r\nL 147.314063 424.79 \r\nz\r\n\" style=\"fill:#bfbf00;\"/>\r\n   </g>\r\n   <g id=\"patch_25\">\r\n    <path clip-path=\"url(#p316234ecf2)\" d=\"M 147.314063 411.13 \r\nL 394.640378 411.13 \r\nL 394.640378 397.47 \r\nL 147.314063 397.47 \r\nz\r\n\" style=\"fill:#bfbf00;\"/>\r\n   </g>\r\n   <g id=\"patch_26\">\r\n    <path clip-path=\"url(#p316234ecf2)\" d=\"M 147.314063 383.81 \r\nL 295.022834 383.81 \r\nL 295.022834 370.15 \r\nL 147.314063 370.15 \r\nz\r\n\" style=\"fill:#bfbf00;\"/>\r\n   </g>\r\n   <g id=\"patch_27\">\r\n    <path clip-path=\"url(#p316234ecf2)\" d=\"M 147.314063 356.49 \r\nL 284.717571 356.49 \r\nL 284.717571 342.83 \r\nL 147.314063 342.83 \r\nz\r\n\" style=\"fill:#bfbf00;\"/>\r\n   </g>\r\n   <g id=\"matplotlib.axis_5\">\r\n    <g id=\"xtick_14\">\r\n     <g id=\"line2d_24\">\r\n      <g>\r\n       <use style=\"stroke:#000000;stroke-width:0.8;\" x=\"147.314063\" xlink:href=\"#mce916eb2d4\" y=\"472.6\"/>\r\n      </g>\r\n     </g>\r\n     <g id=\"text_24\">\r\n      <!-- 0 -->\r\n      <g transform=\"translate(144.132812 487.198438)scale(0.1 -0.1)\">\r\n       <use xlink:href=\"#DejaVuSans-48\"/>\r\n      </g>\r\n     </g>\r\n    </g>\r\n    <g id=\"xtick_15\">\r\n     <g id=\"line2d_25\">\r\n      <g>\r\n       <use style=\"stroke:#000000;stroke-width:0.8;\" x=\"216.015817\" xlink:href=\"#mce916eb2d4\" y=\"472.6\"/>\r\n      </g>\r\n     </g>\r\n     <g id=\"text_25\">\r\n      <!-- 20 -->\r\n      <g transform=\"translate(209.653317 487.198438)scale(0.1 -0.1)\">\r\n       <use xlink:href=\"#DejaVuSans-50\"/>\r\n       <use x=\"63.623047\" xlink:href=\"#DejaVuSans-48\"/>\r\n      </g>\r\n     </g>\r\n    </g>\r\n    <g id=\"xtick_16\">\r\n     <g id=\"line2d_26\">\r\n      <g>\r\n       <use style=\"stroke:#000000;stroke-width:0.8;\" x=\"284.717571\" xlink:href=\"#mce916eb2d4\" y=\"472.6\"/>\r\n      </g>\r\n     </g>\r\n     <g id=\"text_26\">\r\n      <!-- 40 -->\r\n      <g transform=\"translate(278.355071 487.198438)scale(0.1 -0.1)\">\r\n       <use xlink:href=\"#DejaVuSans-52\"/>\r\n       <use x=\"63.623047\" xlink:href=\"#DejaVuSans-48\"/>\r\n      </g>\r\n     </g>\r\n    </g>\r\n    <g id=\"xtick_17\">\r\n     <g id=\"line2d_27\">\r\n      <g>\r\n       <use style=\"stroke:#000000;stroke-width:0.8;\" x=\"353.419326\" xlink:href=\"#mce916eb2d4\" y=\"472.6\"/>\r\n      </g>\r\n     </g>\r\n     <g id=\"text_27\">\r\n      <!-- 60 -->\r\n      <g transform=\"translate(347.056826 487.198438)scale(0.1 -0.1)\">\r\n       <use xlink:href=\"#DejaVuSans-54\"/>\r\n       <use x=\"63.623047\" xlink:href=\"#DejaVuSans-48\"/>\r\n      </g>\r\n     </g>\r\n    </g>\r\n    <g id=\"xtick_18\">\r\n     <g id=\"line2d_28\">\r\n      <g>\r\n       <use style=\"stroke:#000000;stroke-width:0.8;\" x=\"422.12108\" xlink:href=\"#mce916eb2d4\" y=\"472.6\"/>\r\n      </g>\r\n     </g>\r\n     <g id=\"text_28\">\r\n      <!-- 80 -->\r\n      <g transform=\"translate(415.75858 487.198438)scale(0.1 -0.1)\">\r\n       <use xlink:href=\"#DejaVuSans-56\"/>\r\n       <use x=\"63.623047\" xlink:href=\"#DejaVuSans-48\"/>\r\n      </g>\r\n     </g>\r\n    </g>\r\n   </g>\r\n   <g id=\"matplotlib.axis_6\">\r\n    <g id=\"ytick_11\">\r\n     <g id=\"line2d_29\">\r\n      <g>\r\n       <use style=\"stroke:#000000;stroke-width:0.8;\" x=\"147.314063\" xlink:href=\"#m128711f60c\" y=\"458.94\"/>\r\n      </g>\r\n     </g>\r\n     <g id=\"text_29\">\r\n      <!-- Labrador_retriever -->\r\n      <g transform=\"translate(47.264062 462.739219)scale(0.1 -0.1)\">\r\n       <use xlink:href=\"#DejaVuSans-76\"/>\r\n       <use x=\"55.712891\" xlink:href=\"#DejaVuSans-97\"/>\r\n       <use x=\"116.992188\" xlink:href=\"#DejaVuSans-98\"/>\r\n       <use x=\"180.46875\" xlink:href=\"#DejaVuSans-114\"/>\r\n       <use x=\"221.582031\" xlink:href=\"#DejaVuSans-97\"/>\r\n       <use x=\"282.861328\" xlink:href=\"#DejaVuSans-100\"/>\r\n       <use x=\"346.337891\" xlink:href=\"#DejaVuSans-111\"/>\r\n       <use x=\"407.519531\" xlink:href=\"#DejaVuSans-114\"/>\r\n       <use x=\"448.632812\" xlink:href=\"#DejaVuSans-95\"/>\r\n       <use x=\"498.632812\" xlink:href=\"#DejaVuSans-114\"/>\r\n       <use x=\"537.496094\" xlink:href=\"#DejaVuSans-101\"/>\r\n       <use x=\"599.019531\" xlink:href=\"#DejaVuSans-116\"/>\r\n       <use x=\"638.228516\" xlink:href=\"#DejaVuSans-114\"/>\r\n       <use x=\"679.341797\" xlink:href=\"#DejaVuSans-105\"/>\r\n       <use x=\"707.125\" xlink:href=\"#DejaVuSans-101\"/>\r\n       <use x=\"768.648438\" xlink:href=\"#DejaVuSans-118\"/>\r\n       <use x=\"827.828125\" xlink:href=\"#DejaVuSans-101\"/>\r\n       <use x=\"889.351562\" xlink:href=\"#DejaVuSans-114\"/>\r\n      </g>\r\n     </g>\r\n    </g>\r\n    <g id=\"ytick_12\">\r\n     <g id=\"line2d_30\">\r\n      <g>\r\n       <use style=\"stroke:#000000;stroke-width:0.8;\" x=\"147.314063\" xlink:href=\"#m128711f60c\" y=\"431.62\"/>\r\n      </g>\r\n     </g>\r\n     <g id=\"text_30\">\r\n      <!-- golden_retriever -->\r\n      <g transform=\"translate(58.045312 435.419219)scale(0.1 -0.1)\">\r\n       <use xlink:href=\"#DejaVuSans-103\"/>\r\n       <use x=\"63.476562\" xlink:href=\"#DejaVuSans-111\"/>\r\n       <use x=\"124.658203\" xlink:href=\"#DejaVuSans-108\"/>\r\n       <use x=\"152.441406\" xlink:href=\"#DejaVuSans-100\"/>\r\n       <use x=\"215.917969\" xlink:href=\"#DejaVuSans-101\"/>\r\n       <use x=\"277.441406\" xlink:href=\"#DejaVuSans-110\"/>\r\n       <use x=\"340.820312\" xlink:href=\"#DejaVuSans-95\"/>\r\n       <use x=\"390.820312\" xlink:href=\"#DejaVuSans-114\"/>\r\n       <use x=\"429.683594\" xlink:href=\"#DejaVuSans-101\"/>\r\n       <use x=\"491.207031\" xlink:href=\"#DejaVuSans-116\"/>\r\n       <use x=\"530.416016\" xlink:href=\"#DejaVuSans-114\"/>\r\n       <use x=\"571.529297\" xlink:href=\"#DejaVuSans-105\"/>\r\n       <use x=\"599.3125\" xlink:href=\"#DejaVuSans-101\"/>\r\n       <use x=\"660.835938\" xlink:href=\"#DejaVuSans-118\"/>\r\n       <use x=\"720.015625\" xlink:href=\"#DejaVuSans-101\"/>\r\n       <use x=\"781.539062\" xlink:href=\"#DejaVuSans-114\"/>\r\n      </g>\r\n     </g>\r\n    </g>\r\n    <g id=\"ytick_13\">\r\n     <g id=\"line2d_31\">\r\n      <g>\r\n       <use style=\"stroke:#000000;stroke-width:0.8;\" x=\"147.314063\" xlink:href=\"#m128711f60c\" y=\"404.3\"/>\r\n      </g>\r\n     </g>\r\n     <g id=\"text_31\">\r\n      <!-- Cardigan -->\r\n      <g transform=\"translate(95.326562 408.099219)scale(0.1 -0.1)\">\r\n       <use xlink:href=\"#DejaVuSans-67\"/>\r\n       <use x=\"69.824219\" xlink:href=\"#DejaVuSans-97\"/>\r\n       <use x=\"131.103516\" xlink:href=\"#DejaVuSans-114\"/>\r\n       <use x=\"170.466797\" xlink:href=\"#DejaVuSans-100\"/>\r\n       <use x=\"233.943359\" xlink:href=\"#DejaVuSans-105\"/>\r\n       <use x=\"261.726562\" xlink:href=\"#DejaVuSans-103\"/>\r\n       <use x=\"325.203125\" xlink:href=\"#DejaVuSans-97\"/>\r\n       <use x=\"386.482422\" xlink:href=\"#DejaVuSans-110\"/>\r\n      </g>\r\n     </g>\r\n    </g>\r\n    <g id=\"ytick_14\">\r\n     <g id=\"line2d_32\">\r\n      <g>\r\n       <use style=\"stroke:#000000;stroke-width:0.8;\" x=\"147.314063\" xlink:href=\"#m128711f60c\" y=\"376.98\"/>\r\n      </g>\r\n     </g>\r\n     <g id=\"text_32\">\r\n      <!-- Chihuahua -->\r\n      <g transform=\"translate(86.609375 380.779219)scale(0.1 -0.1)\">\r\n       <use xlink:href=\"#DejaVuSans-67\"/>\r\n       <use x=\"69.824219\" xlink:href=\"#DejaVuSans-104\"/>\r\n       <use x=\"133.203125\" xlink:href=\"#DejaVuSans-105\"/>\r\n       <use x=\"160.986328\" xlink:href=\"#DejaVuSans-104\"/>\r\n       <use x=\"224.365234\" xlink:href=\"#DejaVuSans-117\"/>\r\n       <use x=\"287.744141\" xlink:href=\"#DejaVuSans-97\"/>\r\n       <use x=\"349.023438\" xlink:href=\"#DejaVuSans-104\"/>\r\n       <use x=\"412.402344\" xlink:href=\"#DejaVuSans-117\"/>\r\n       <use x=\"475.78125\" xlink:href=\"#DejaVuSans-97\"/>\r\n      </g>\r\n     </g>\r\n    </g>\r\n    <g id=\"ytick_15\">\r\n     <g id=\"line2d_33\">\r\n      <g>\r\n       <use style=\"stroke:#000000;stroke-width:0.8;\" x=\"147.314063\" xlink:href=\"#m128711f60c\" y=\"349.66\"/>\r\n      </g>\r\n     </g>\r\n     <g id=\"text_33\">\r\n      <!-- Chesapeake_Bay_retriever -->\r\n      <g transform=\"translate(7.2 353.459219)scale(0.1 -0.1)\">\r\n       <use xlink:href=\"#DejaVuSans-67\"/>\r\n       <use x=\"69.824219\" xlink:href=\"#DejaVuSans-104\"/>\r\n       <use x=\"133.203125\" xlink:href=\"#DejaVuSans-101\"/>\r\n       <use x=\"194.726562\" xlink:href=\"#DejaVuSans-115\"/>\r\n       <use x=\"246.826172\" xlink:href=\"#DejaVuSans-97\"/>\r\n       <use x=\"308.105469\" xlink:href=\"#DejaVuSans-112\"/>\r\n       <use x=\"371.582031\" xlink:href=\"#DejaVuSans-101\"/>\r\n       <use x=\"433.105469\" xlink:href=\"#DejaVuSans-97\"/>\r\n       <use x=\"494.384766\" xlink:href=\"#DejaVuSans-107\"/>\r\n       <use x=\"548.669922\" xlink:href=\"#DejaVuSans-101\"/>\r\n       <use x=\"610.193359\" xlink:href=\"#DejaVuSans-95\"/>\r\n       <use x=\"660.193359\" xlink:href=\"#DejaVuSans-66\"/>\r\n       <use x=\"728.796875\" xlink:href=\"#DejaVuSans-97\"/>\r\n       <use x=\"790.076172\" xlink:href=\"#DejaVuSans-121\"/>\r\n       <use x=\"849.255859\" xlink:href=\"#DejaVuSans-95\"/>\r\n       <use x=\"899.255859\" xlink:href=\"#DejaVuSans-114\"/>\r\n       <use x=\"938.119141\" xlink:href=\"#DejaVuSans-101\"/>\r\n       <use x=\"999.642578\" xlink:href=\"#DejaVuSans-116\"/>\r\n       <use x=\"1038.851562\" xlink:href=\"#DejaVuSans-114\"/>\r\n       <use x=\"1079.964844\" xlink:href=\"#DejaVuSans-105\"/>\r\n       <use x=\"1107.748047\" xlink:href=\"#DejaVuSans-101\"/>\r\n       <use x=\"1169.271484\" xlink:href=\"#DejaVuSans-118\"/>\r\n       <use x=\"1228.451172\" xlink:href=\"#DejaVuSans-101\"/>\r\n       <use x=\"1289.974609\" xlink:href=\"#DejaVuSans-114\"/>\r\n      </g>\r\n     </g>\r\n    </g>\r\n   </g>\r\n   <g id=\"patch_28\">\r\n    <path d=\"M 147.314063 472.6 \r\nL 147.314063 336 \r\n\" style=\"fill:none;stroke:#000000;stroke-linecap:square;stroke-linejoin:miter;stroke-width:0.8;\"/>\r\n   </g>\r\n   <g id=\"patch_29\">\r\n    <path d=\"M 489.964062 472.6 \r\nL 489.964062 336 \r\n\" style=\"fill:none;stroke:#000000;stroke-linecap:square;stroke-linejoin:miter;stroke-width:0.8;\"/>\r\n   </g>\r\n   <g id=\"patch_30\">\r\n    <path d=\"M 147.314063 472.6 \r\nL 489.964062 472.6 \r\n\" style=\"fill:none;stroke:#000000;stroke-linecap:square;stroke-linejoin:miter;stroke-width:0.8;\"/>\r\n   </g>\r\n   <g id=\"patch_31\">\r\n    <path d=\"M 147.314063 336 \r\nL 489.964062 336 \r\n\" style=\"fill:none;stroke:#000000;stroke-linecap:square;stroke-linejoin:miter;stroke-width:0.8;\"/>\r\n   </g>\r\n  </g>\r\n </g>\r\n <defs>\r\n  <clipPath id=\"p8d5099260b\">\r\n   <rect height=\"136.6\" width=\"342.65\" x=\"147.314063\" y=\"7.2\"/>\r\n  </clipPath>\r\n  <clipPath id=\"p2427ee1a2e\">\r\n   <rect height=\"136.6\" width=\"342.65\" x=\"147.314063\" y=\"171.6\"/>\r\n  </clipPath>\r\n  <clipPath id=\"p316234ecf2\">\r\n   <rect height=\"136.6\" width=\"342.65\" x=\"147.314063\" y=\"336\"/>\r\n  </clipPath>\r\n </defs>\r\n</svg>\r\n",
      "image/png": "[encoded data removed]"
     },
     "metadata": {
      "needs_background": "light"
     }
    }
   ],
   "source": [
    "figure, axes = plt.subplots(3, 1, figsize=(7,7))\n",
    "popular_breed1.head(5).plot(ax=axes[0], kind='barh', color='k')\n",
    "popular_breed2.head(5).plot(ax=axes[1], kind='barh', color='g')\n",
    "popular_breed3.head(5).plot(ax=axes[2], kind='barh', color='y')\n",
    "plt.tight_layout()"
   ]
  },
  {
   "cell_type": "code",
   "execution_count": 101,
   "metadata": {},
   "outputs": [],
   "source": [
    "figure.savefig('insight3.png')"
   ]
  }
 ]
}