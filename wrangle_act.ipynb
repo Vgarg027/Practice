{
 "cells": [
  {
   "cell_type": "code",
   "execution_count": 381,
   "id": "e4046d7a",
   "metadata": {},
   "outputs": [],
   "source": [
    "import pandas as pd\n",
    "import numpy as np\n",
    "import requests\n",
    "import tweepy\n",
    "import json"
   ]
  },
  {
   "cell_type": "markdown",
   "id": "232f5d5c",
   "metadata": {},
   "source": [
    "# Project Notes\n",
    "\n",
    "For this project, we will collate three different datasets, namely:\n",
    "\n",
    ">1. **Enhanced Twitter Archive**: Which includes basic tweet data for WeRateDogs account tweets. It needs to be checked for correct ratings, dog names, dog stages, and maybe more. Gathered manually as ***twitter_archive_enhanced.csv***.\n",
    ">2. **Image Predictions File**: Which includes a classification of dog breeds based on a neural network run-through of the Twitter Archive tweets. It will show top three image predictions alongside tweet ID, image URL, image number, and confidence rating of the prediction. Gathered programmatically from https://d17h27t6h515a5.cloudfront.net/topher/2017/August/599fd2ad_image-predictions/image-predictions.tsv as ***image_predictions.tsv***.\n",
    ">3. **Additional Data via the Twitter API**: Which should include retweet and favorite counts. Gathered using tweet IDs in the WeRateDogs Twitter archive to query the Twitter API for each tweet's JSON data using Python's Tweepy library, and storing each tweet's entire set of JSON data in a file called ***tweet_json.txt***.\n",
    "\n",
    "For each of these, the three data wrangling steps will be performed:\n",
    "\n",
    ">1. **Gather**\n",
    ">2. **Assess**\n",
    ">3. **Clean**\n",
    "\n",
    "When we assess data, we will try to at least identify 8 quality issues, and 2 tidiness issues, according to the following:\n",
    ">- **Quality**: issues with content. Low quality data is also known as dirty data.\n",
    ">- **Tidiness**: issues with structure that prevent easy analysis. Untidy data is also known as messy data. Tidy data requirements: (a) each variable forms a column, (b) each observation forms a row, (c) each type of observational unit forms a table.\n",
    "\n",
    "After which we will analyze and visualize (with at least 3 insights and 1 visualization).\n",
    "\n",
    "*Additional note: No tweets will be gathered beyond August 1st, 2017.*"
   ]
  },
  {
   "cell_type": "markdown",
   "id": "e0a1fa5d",
   "metadata": {},
   "source": [
    "### Table of contents:\n",
    "\n",
    "1. Data Wrangling\n",
    "\n",
    "$\\;\\;\\;$ 1.1 $\\;\\;\\;\\;\\;\\;$ Enhanced Twitter Archive <br>\n",
    "$\\;\\;\\;\\;$ 1.1.1 $\\;\\;\\;$ Gather <br>\n",
    "$\\;\\;\\;\\;$ 1.1.2 $\\;\\;\\;$ Assess <br>\n",
    "$\\;\\;\\;\\;$ 1.1.3 $\\;\\;\\;$ Clean\n",
    "\n",
    "$\\;\\;\\;$ 1.2 $\\;\\;\\;\\;\\;\\;$ Image Predictions File <br>\n",
    "$\\;\\;\\;\\;$ 1.2.1 $\\;\\;\\;$ Gather <br>\n",
    "$\\;\\;\\;\\;$ 1.2.2 $\\;\\;\\;$ Assess <br>\n",
    "$\\;\\;\\;\\;$ 1.2.3 $\\;\\;\\;$ Clean \n",
    "\n",
    "$\\;\\;\\;$ 1.3 $\\;\\;\\;\\;\\;\\;$ Additional Data via the Twitter API <br>\n",
    "$\\;\\;\\;\\;$ 1.3.1 $\\;\\;\\;$ Gather <br>\n",
    "$\\;\\;\\;\\;$ 1.3.2 $\\;\\;\\;$ Assess <br>\n",
    "$\\;\\;\\;\\;$ 1.3.3 $\\;\\;\\;$ Clean \n",
    "\n",
    "$\\;\\;\\;$ 1.4 $\\;\\;\\;\\;\\;\\;$ Merge datasets and ready for exploration and analysis\n",
    "\n",
    "2. Analysis\n"
   ]
  },
  {
   "cell_type": "markdown",
   "id": "9934910e",
   "metadata": {},
   "source": [
    "# 1. Data Wrangling\n",
    "## 1.1 Enhanced Twitter Archive\n",
    "### 1.1.1 Gather"
   ]
  },
  {
   "cell_type": "code",
   "execution_count": 82,
   "id": "7321f8b6",
   "metadata": {},
   "outputs": [],
   "source": [
    "#X# DEV NOTE: NEEDS TO BE RUN\n",
    "df1 = pd.read_csv('udacity_py/twitter/twitter-archive-enhanced.csv')"
   ]
  },
  {
   "cell_type": "markdown",
   "id": "6be01d21",
   "metadata": {},
   "source": [
    "### 1.1.2 Assess\n",
    "\n",
    "The dataset that we will be wrangling (and analyzing and visualizing) is the tweet archive of Twitter user @dog_rates, also known as WeRateDogs. WeRateDogs is a Twitter account that rates people's dogs with a humorous comment about the dog. These ratings almost always have a denominator of 10. The numerators, though? Almost always greater than 10. 11/10, 12/10, 13/10, etc. Why? Because \"they're good dogs Brent.\" WeRateDogs has over 4 million followers and has received international media coverage.\n",
    "\n",
    "This archive contains basic tweet data (tweet ID, timestamp, text, etc.) for all 5000+ of their tweets as they stood on August 1, 2017. Each tweet's text is used to extract rating, dog name, and dog \"stage\" (i.e. doggo, floofer, pupper, and puppo) to make this Twitter archive \"enhanced.\" Of the 5000+ tweets, filtered tweets with ratings only amount to 2356."
   ]
  },
  {
   "cell_type": "markdown",
   "id": "c31df76e",
   "metadata": {},
   "source": [
    "**Quality Issues**\n",
    "\n",
    "- Ratings:    There are 23 entries where the rating_denominator is not 10\n",
    "\n",
    "- Ratings:    For entries with denominator 10, there are 24 with a 20+ numerator (lowest are 26, 27, and rest is 75 or much higher)\n",
    "\n",
    "- Dog names:  There are 745 \"None\" and 55 \"a\" entries for dog names\n",
    "\n",
    "- Dog names:  There are 54 dog names entries that are non name words starting with lower case letter\n",
    "\n",
    "- Retweets:   181 entries are retweets\n",
    "\n",
    "- Expanded URLs: There are 59 expanded_urls missing (with NaN value), of the valued ones, 79 are duplicated.\n",
    "\n",
    "- Source:     Tweets derive from 4 different tweet sources whose values are enclosed in html script\n",
    "\n",
    "- Timestamp:  Time field includes date and time, as well as a postfix of \" +0000\"\n",
    "\n",
    "- Dog stages: 84% of entries do not have a dog stage identified\n",
    "\n",
    "- Dog stages: The non-identified dog stages are valued as a string 'None' instead of Null (NaN)\n",
    "\n",
    "**Tidiness Issues**\n",
    "\n",
    "- Dog stages: Dog stage observation is provided in 4 seperate columns\n",
    "\n",
    "- Retweets:   Retweets are basically a duplication of an earlier tweet, stored within this same table with added retweet related columns"
   ]
  },
  {
   "cell_type": "code",
   "execution_count": 131,
   "id": "5018f568",
   "metadata": {
    "scrolled": true
   },
   "outputs": [
    {
     "data": {
      "text/html": [
       "<div>\n",
       "<style scoped>\n",
       "    .dataframe tbody tr th:only-of-type {\n",
       "        vertical-align: middle;\n",
       "    }\n",
       "\n",
       "    .dataframe tbody tr th {\n",
       "        vertical-align: top;\n",
       "    }\n",
       "\n",
       "    .dataframe thead th {\n",
       "        text-align: right;\n",
       "    }\n",
       "</style>\n",
       "<table border=\"1\" class=\"dataframe\">\n",
       "  <thead>\n",
       "    <tr style=\"text-align: right;\">\n",
       "      <th></th>\n",
       "      <th>tweet_id</th>\n",
       "      <th>in_reply_to_status_id</th>\n",
       "      <th>in_reply_to_user_id</th>\n",
       "      <th>timestamp</th>\n",
       "      <th>source</th>\n",
       "      <th>text</th>\n",
       "      <th>retweeted_status_id</th>\n",
       "      <th>retweeted_status_user_id</th>\n",
       "      <th>retweeted_status_timestamp</th>\n",
       "      <th>expanded_urls</th>\n",
       "      <th>rating_numerator</th>\n",
       "      <th>rating_denominator</th>\n",
       "      <th>name</th>\n",
       "      <th>doggo</th>\n",
       "      <th>floofer</th>\n",
       "      <th>pupper</th>\n",
       "      <th>puppo</th>\n",
       "    </tr>\n",
       "  </thead>\n",
       "  <tbody>\n",
       "    <tr>\n",
       "      <th>0</th>\n",
       "      <td>892420643555336193</td>\n",
       "      <td>NaN</td>\n",
       "      <td>NaN</td>\n",
       "      <td>2017-08-01 16:23:56 +0000</td>\n",
       "      <td>&lt;a href=\"http://twitter.com/download/iphone\" r...</td>\n",
       "      <td>This is Phineas. He's a mystical boy. Only eve...</td>\n",
       "      <td>NaN</td>\n",
       "      <td>NaN</td>\n",
       "      <td>NaN</td>\n",
       "      <td>https://twitter.com/dog_rates/status/892420643...</td>\n",
       "      <td>13</td>\n",
       "      <td>10</td>\n",
       "      <td>Phineas</td>\n",
       "      <td>None</td>\n",
       "      <td>None</td>\n",
       "      <td>None</td>\n",
       "      <td>None</td>\n",
       "    </tr>\n",
       "    <tr>\n",
       "      <th>1</th>\n",
       "      <td>892177421306343426</td>\n",
       "      <td>NaN</td>\n",
       "      <td>NaN</td>\n",
       "      <td>2017-08-01 00:17:27 +0000</td>\n",
       "      <td>&lt;a href=\"http://twitter.com/download/iphone\" r...</td>\n",
       "      <td>This is Tilly. She's just checking pup on you....</td>\n",
       "      <td>NaN</td>\n",
       "      <td>NaN</td>\n",
       "      <td>NaN</td>\n",
       "      <td>https://twitter.com/dog_rates/status/892177421...</td>\n",
       "      <td>13</td>\n",
       "      <td>10</td>\n",
       "      <td>Tilly</td>\n",
       "      <td>None</td>\n",
       "      <td>None</td>\n",
       "      <td>None</td>\n",
       "      <td>None</td>\n",
       "    </tr>\n",
       "  </tbody>\n",
       "</table>\n",
       "</div>"
      ],
      "text/plain": [
       "             tweet_id  in_reply_to_status_id  in_reply_to_user_id  \\\n",
       "0  892420643555336193                    NaN                  NaN   \n",
       "1  892177421306343426                    NaN                  NaN   \n",
       "\n",
       "                   timestamp  \\\n",
       "0  2017-08-01 16:23:56 +0000   \n",
       "1  2017-08-01 00:17:27 +0000   \n",
       "\n",
       "                                              source  \\\n",
       "0  <a href=\"http://twitter.com/download/iphone\" r...   \n",
       "1  <a href=\"http://twitter.com/download/iphone\" r...   \n",
       "\n",
       "                                                text  retweeted_status_id  \\\n",
       "0  This is Phineas. He's a mystical boy. Only eve...                  NaN   \n",
       "1  This is Tilly. She's just checking pup on you....                  NaN   \n",
       "\n",
       "   retweeted_status_user_id retweeted_status_timestamp  \\\n",
       "0                       NaN                        NaN   \n",
       "1                       NaN                        NaN   \n",
       "\n",
       "                                       expanded_urls  rating_numerator  \\\n",
       "0  https://twitter.com/dog_rates/status/892420643...                13   \n",
       "1  https://twitter.com/dog_rates/status/892177421...                13   \n",
       "\n",
       "   rating_denominator     name doggo floofer pupper puppo  \n",
       "0                  10  Phineas  None    None   None  None  \n",
       "1                  10    Tilly  None    None   None  None  "
      ]
     },
     "execution_count": 131,
     "metadata": {},
     "output_type": "execute_result"
    }
   ],
   "source": [
    "df1.head(2)"
   ]
  },
  {
   "cell_type": "code",
   "execution_count": 139,
   "id": "6c2e7539",
   "metadata": {
    "scrolled": true
   },
   "outputs": [
    {
     "name": "stdout",
     "output_type": "stream",
     "text": [
      "<class 'pandas.core.frame.DataFrame'>\n",
      "RangeIndex: 2356 entries, 0 to 2355\n",
      "Data columns (total 17 columns):\n",
      " #   Column                      Non-Null Count  Dtype  \n",
      "---  ------                      --------------  -----  \n",
      " 0   tweet_id                    2356 non-null   int64  \n",
      " 1   in_reply_to_status_id       78 non-null     float64\n",
      " 2   in_reply_to_user_id         78 non-null     float64\n",
      " 3   timestamp                   2356 non-null   object \n",
      " 4   source                      2356 non-null   object \n",
      " 5   text                        2356 non-null   object \n",
      " 6   retweeted_status_id         181 non-null    float64\n",
      " 7   retweeted_status_user_id    181 non-null    float64\n",
      " 8   retweeted_status_timestamp  181 non-null    object \n",
      " 9   expanded_urls               2297 non-null   object \n",
      " 10  rating_numerator            2356 non-null   int64  \n",
      " 11  rating_denominator          2356 non-null   int64  \n",
      " 12  name                        2356 non-null   object \n",
      " 13  doggo                       2356 non-null   object \n",
      " 14  floofer                     2356 non-null   object \n",
      " 15  pupper                      2356 non-null   object \n",
      " 16  puppo                       2356 non-null   object \n",
      "dtypes: float64(4), int64(3), object(10)\n",
      "memory usage: 313.0+ KB\n"
     ]
    }
   ],
   "source": [
    "df1.info()"
   ]
  },
  {
   "cell_type": "code",
   "execution_count": 132,
   "id": "487cb9f2",
   "metadata": {
    "scrolled": true
   },
   "outputs": [
    {
     "data": {
      "text/plain": [
       "183"
      ]
     },
     "execution_count": 132,
     "metadata": {},
     "output_type": "execute_result"
    }
   ],
   "source": [
    "# checking for retweets\n",
    "df1.query('retweeted_status_id == retweeted_status_id').count()\n",
    "# above returns 181 retweets, and shows those have 'RT' as prefix. Below doublecheck for 'RT' prefix finds 183 retweets.\n",
    "df1[df1['text'].str[:2] == 'RT'].count()[0]"
   ]
  },
  {
   "cell_type": "code",
   "execution_count": 133,
   "id": "092d2fc6",
   "metadata": {},
   "outputs": [
    {
     "data": {
      "text/html": [
       "<div>\n",
       "<style scoped>\n",
       "    .dataframe tbody tr th:only-of-type {\n",
       "        vertical-align: middle;\n",
       "    }\n",
       "\n",
       "    .dataframe tbody tr th {\n",
       "        vertical-align: top;\n",
       "    }\n",
       "\n",
       "    .dataframe thead th {\n",
       "        text-align: right;\n",
       "    }\n",
       "</style>\n",
       "<table border=\"1\" class=\"dataframe\">\n",
       "  <thead>\n",
       "    <tr style=\"text-align: right;\">\n",
       "      <th></th>\n",
       "      <th>tweet_id</th>\n",
       "      <th>in_reply_to_status_id</th>\n",
       "      <th>in_reply_to_user_id</th>\n",
       "      <th>timestamp</th>\n",
       "      <th>source</th>\n",
       "      <th>text</th>\n",
       "      <th>retweeted_status_id</th>\n",
       "      <th>retweeted_status_user_id</th>\n",
       "      <th>retweeted_status_timestamp</th>\n",
       "      <th>expanded_urls</th>\n",
       "      <th>rating_numerator</th>\n",
       "      <th>rating_denominator</th>\n",
       "      <th>name</th>\n",
       "      <th>doggo</th>\n",
       "      <th>floofer</th>\n",
       "      <th>pupper</th>\n",
       "      <th>puppo</th>\n",
       "    </tr>\n",
       "  </thead>\n",
       "  <tbody>\n",
       "    <tr>\n",
       "      <th>1286</th>\n",
       "      <td>708400866336894977</td>\n",
       "      <td>NaN</td>\n",
       "      <td>NaN</td>\n",
       "      <td>2016-03-11 21:15:02 +0000</td>\n",
       "      <td>&lt;a href=\"http://vine.co\" rel=\"nofollow\"&gt;Vine -...</td>\n",
       "      <td>RT if you are as ready for summer as this pup ...</td>\n",
       "      <td>NaN</td>\n",
       "      <td>NaN</td>\n",
       "      <td>NaN</td>\n",
       "      <td>https://vine.co/v/iHFqnjKVbIQ</td>\n",
       "      <td>12</td>\n",
       "      <td>10</td>\n",
       "      <td>None</td>\n",
       "      <td>None</td>\n",
       "      <td>None</td>\n",
       "      <td>None</td>\n",
       "      <td>None</td>\n",
       "    </tr>\n",
       "    <tr>\n",
       "      <th>1860</th>\n",
       "      <td>675489971617296384</td>\n",
       "      <td>NaN</td>\n",
       "      <td>NaN</td>\n",
       "      <td>2015-12-12 01:38:53 +0000</td>\n",
       "      <td>&lt;a href=\"http://twitter.com/download/iphone\" r...</td>\n",
       "      <td>RT until we find this dog. Clearly a cool dog ...</td>\n",
       "      <td>NaN</td>\n",
       "      <td>NaN</td>\n",
       "      <td>NaN</td>\n",
       "      <td>https://twitter.com/dog_rates/status/675489971...</td>\n",
       "      <td>10</td>\n",
       "      <td>10</td>\n",
       "      <td>None</td>\n",
       "      <td>None</td>\n",
       "      <td>None</td>\n",
       "      <td>None</td>\n",
       "      <td>None</td>\n",
       "    </tr>\n",
       "  </tbody>\n",
       "</table>\n",
       "</div>"
      ],
      "text/plain": [
       "                tweet_id  in_reply_to_status_id  in_reply_to_user_id  \\\n",
       "1286  708400866336894977                    NaN                  NaN   \n",
       "1860  675489971617296384                    NaN                  NaN   \n",
       "\n",
       "                      timestamp  \\\n",
       "1286  2016-03-11 21:15:02 +0000   \n",
       "1860  2015-12-12 01:38:53 +0000   \n",
       "\n",
       "                                                 source  \\\n",
       "1286  <a href=\"http://vine.co\" rel=\"nofollow\">Vine -...   \n",
       "1860  <a href=\"http://twitter.com/download/iphone\" r...   \n",
       "\n",
       "                                                   text  retweeted_status_id  \\\n",
       "1286  RT if you are as ready for summer as this pup ...                  NaN   \n",
       "1860  RT until we find this dog. Clearly a cool dog ...                  NaN   \n",
       "\n",
       "      retweeted_status_user_id retweeted_status_timestamp  \\\n",
       "1286                       NaN                        NaN   \n",
       "1860                       NaN                        NaN   \n",
       "\n",
       "                                          expanded_urls  rating_numerator  \\\n",
       "1286                      https://vine.co/v/iHFqnjKVbIQ                12   \n",
       "1860  https://twitter.com/dog_rates/status/675489971...                10   \n",
       "\n",
       "      rating_denominator  name doggo floofer pupper puppo  \n",
       "1286                  10  None  None    None   None  None  \n",
       "1860                  10  None  None    None   None  None  "
      ]
     },
     "execution_count": 133,
     "metadata": {},
     "output_type": "execute_result"
    }
   ],
   "source": [
    "# double check of those two extra entries shows it's a genuine tweet, the prefix is coincidental\n",
    "non_retwt_status = df1[df1['retweeted_status_id'] != df1['retweeted_status_id']]\n",
    "non_retwt_status[non_retwt_status['text'].str[:2] == 'RT']"
   ]
  },
  {
   "cell_type": "code",
   "execution_count": 134,
   "id": "b54ce2c9",
   "metadata": {},
   "outputs": [
    {
     "data": {
      "text/plain": [
       "23"
      ]
     },
     "execution_count": 134,
     "metadata": {},
     "output_type": "execute_result"
    }
   ],
   "source": [
    "# checking for entries where rating denominator is not 10\n",
    "df1.query('rating_denominator != 10').count()[0]"
   ]
  },
  {
   "cell_type": "code",
   "execution_count": 178,
   "id": "231b83ad",
   "metadata": {
    "scrolled": true
   },
   "outputs": [
    {
     "data": {
      "text/plain": [
       "0         2\n",
       "1         8\n",
       "2         9\n",
       "3        19\n",
       "4        15\n",
       "5        37\n",
       "6        32\n",
       "7        54\n",
       "8       102\n",
       "9       156\n",
       "10      461\n",
       "11      463\n",
       "12      558\n",
       "13      351\n",
       "14       54\n",
       "15        2\n",
       "17        1\n",
       "26        1\n",
       "27        1\n",
       "75        2\n",
       "182       1\n",
       "420       2\n",
       "666       1\n",
       "1776      1\n",
       "Name: rating_numerator, dtype: int64"
      ]
     },
     "execution_count": 178,
     "metadata": {},
     "output_type": "execute_result"
    }
   ],
   "source": [
    "# checking for rating numerator outliers where denominator is 10\n",
    "df1.query('rating_denominator == 10')['rating_numerator'].value_counts().sort_index()"
   ]
  },
  {
   "cell_type": "code",
   "execution_count": 136,
   "id": "c99ca802",
   "metadata": {
    "scrolled": true
   },
   "outputs": [
    {
     "data": {
      "text/plain": [
       "24"
      ]
     },
     "execution_count": 136,
     "metadata": {},
     "output_type": "execute_result"
    }
   ],
   "source": [
    "# checking for count of entries with numerator higher than 20\n",
    "df1.query('rating_numerator > 20').shape[0]"
   ]
  },
  {
   "cell_type": "code",
   "execution_count": 203,
   "id": "fde44d78",
   "metadata": {},
   "outputs": [
    {
     "data": {
      "text/plain": [
       "None          745\n",
       "a              55\n",
       "Charlie        12\n",
       "Oliver         11\n",
       "Lucy           11\n",
       "             ... \n",
       "Pawnd           1\n",
       "incredibly      1\n",
       "Sweet           1\n",
       "Brian           1\n",
       "Jerome          1\n",
       "Name: name, Length: 957, dtype: int64"
      ]
     },
     "execution_count": 203,
     "metadata": {},
     "output_type": "execute_result"
    }
   ],
   "source": [
    "# checking dog name values and counts per value\n",
    "df1.name.value_counts()"
   ]
  },
  {
   "cell_type": "code",
   "execution_count": 207,
   "id": "96b6f68c",
   "metadata": {},
   "outputs": [
    {
     "data": {
      "text/plain": [
       "957"
      ]
     },
     "execution_count": 207,
     "metadata": {},
     "output_type": "execute_result"
    }
   ],
   "source": [
    "# check how many unique names\n",
    "df1.nunique()['name']"
   ]
  },
  {
   "cell_type": "code",
   "execution_count": 9,
   "id": "69a77aa7",
   "metadata": {
    "scrolled": true
   },
   "outputs": [
    {
     "data": {
      "text/plain": [
       "the             8\n",
       "an              7\n",
       "very            5\n",
       "just            4\n",
       "quite           4\n",
       "one             4\n",
       "not             2\n",
       "mad             2\n",
       "getting         2\n",
       "actually        2\n",
       "light           1\n",
       "such            1\n",
       "all             1\n",
       "this            1\n",
       "incredibly      1\n",
       "officially      1\n",
       "old             1\n",
       "life            1\n",
       "his             1\n",
       "by              1\n",
       "my              1\n",
       "infuriating     1\n",
       "space           1\n",
       "unacceptable    1\n",
       "Name: name, dtype: int64"
      ]
     },
     "execution_count": 9,
     "metadata": {},
     "output_type": "execute_result"
    }
   ],
   "source": [
    "# check names that start with lower case (excluding names \"a\"), which presumably are not names\n",
    "\n",
    "df_names_lower = df1[df1['name'].str[:1].str.lower() == df1['name'].str[:1]]\n",
    "df_names_lower = df_names_lower.query('name != \"a\"')\n",
    "df_names_lower['name'].value_counts()"
   ]
  },
  {
   "cell_type": "raw",
   "id": "15ebc9c3",
   "metadata": {
    "scrolled": true
   },
   "source": [
    "# checking for proportion of entries without any dog stage\n",
    "df1.query('doggo == \"None\" & floofer == \"None\" & pupper == \"None\" & puppo == \"None\"').count()[0] / df1.shape[0]"
   ]
  },
  {
   "cell_type": "code",
   "execution_count": 140,
   "id": "2fb96ae8",
   "metadata": {},
   "outputs": [
    {
     "data": {
      "text/plain": [
       "tweet_id                      2356\n",
       "in_reply_to_status_id           77\n",
       "in_reply_to_user_id             31\n",
       "timestamp                     2356\n",
       "source                           4\n",
       "text                          2356\n",
       "retweeted_status_id            181\n",
       "retweeted_status_user_id        25\n",
       "retweeted_status_timestamp     181\n",
       "expanded_urls                 2218\n",
       "rating_numerator                40\n",
       "rating_denominator              18\n",
       "name                           957\n",
       "doggo                            2\n",
       "floofer                          2\n",
       "pupper                           2\n",
       "puppo                            2\n",
       "dtype: int64"
      ]
     },
     "execution_count": 140,
     "metadata": {},
     "output_type": "execute_result"
    }
   ],
   "source": [
    "df1.nunique()"
   ]
  },
  {
   "cell_type": "code",
   "execution_count": 156,
   "id": "0970103e",
   "metadata": {},
   "outputs": [
    {
     "data": {
      "text/plain": [
       "59"
      ]
     },
     "execution_count": 156,
     "metadata": {},
     "output_type": "execute_result"
    }
   ],
   "source": [
    "# check how many urls are NaN\n",
    "df1[df1.expanded_urls != df1.expanded_urls].shape[0]"
   ]
  },
  {
   "cell_type": "code",
   "execution_count": 157,
   "id": "4ff5a60a",
   "metadata": {
    "scrolled": true
   },
   "outputs": [
    {
     "data": {
      "text/plain": [
       "79"
      ]
     },
     "execution_count": 157,
     "metadata": {},
     "output_type": "execute_result"
    }
   ],
   "source": [
    "# check how many urls are duplicates\n",
    "df1.expanded_urls[df1.expanded_urls.duplicated()].count()"
   ]
  },
  {
   "cell_type": "code",
   "execution_count": 162,
   "id": "481c2eb4",
   "metadata": {},
   "outputs": [
    {
     "data": {
      "text/plain": [
       "<a href=\"http://twitter.com/download/iphone\" rel=\"nofollow\">Twitter for iPhone</a>     2221\n",
       "<a href=\"http://vine.co\" rel=\"nofollow\">Vine - Make a Scene</a>                          91\n",
       "<a href=\"http://twitter.com\" rel=\"nofollow\">Twitter Web Client</a>                       33\n",
       "<a href=\"https://about.twitter.com/products/tweetdeck\" rel=\"nofollow\">TweetDeck</a>      11\n",
       "Name: source, dtype: int64"
      ]
     },
     "execution_count": 162,
     "metadata": {},
     "output_type": "execute_result"
    }
   ],
   "source": [
    "# check count for each source entry\n",
    "df1.source.value_counts()"
   ]
  },
  {
   "cell_type": "code",
   "execution_count": 172,
   "id": "ae9e3985",
   "metadata": {},
   "outputs": [
    {
     "data": {
      "text/plain": [
       "+0000    2356\n",
       "Name: timestamp, dtype: int64"
      ]
     },
     "execution_count": 172,
     "metadata": {},
     "output_type": "execute_result"
    }
   ],
   "source": [
    "# check if all timestamps have the +0000 postfix\n",
    "df1.timestamp.str[-5:].value_counts()"
   ]
  },
  {
   "cell_type": "markdown",
   "id": "7225fff2",
   "metadata": {},
   "source": [
    "### 1.1.3 Clean\n",
    "\n",
    "the following cleaning actions will be performed for the above assessed issues."
   ]
  },
  {
   "cell_type": "markdown",
   "id": "1d714906",
   "metadata": {},
   "source": [
    "**Quality Issues**\n",
    "\n",
    "- Ratings *[completed]*:    Remove the 23 entries where the rating_denominator is not 10\n",
    "\n",
    "- Ratings *[completed]*:    Remove entries with a 20+ numerator\n",
    "\n",
    "- Dog names *[completed]*:  Replace the 55 \"a\" entries for dog names with NaN\n",
    "\n",
    "- Dog names *[completed]*:  Replace 'None' dog names with NaN\n",
    "\n",
    "- Dog names *[completed]*:  Replace the other 54 dog names entries that are words (starting with lower case letter) with NaN\n",
    "\n",
    "- Retweets *[completed]*:   Remove the 181 retweets records\n",
    "\n",
    "- Expanded URLs *[completed]*: Remove the 59 entries with expanded_urls missing (with NaN value)\n",
    "\n",
    "- Source *[completed]*:     Remove the html pre and postfix to the human language 'source' value\n",
    "\n",
    "- Timestamp *[completed]*:  Change timestamp to date only\n",
    "\n",
    "- Dog stages *[completed]*: Replace 'None' dog stages with Null (NaN)\n",
    "\n",
    "**Tidiness Issues**\n",
    "\n",
    "- Dog stages *[completed]*: Convert the 4 seperate dog stage columns into a single one\n",
    "\n",
    "- Rating *[completed]*:     Add a column to display score based on rating numnerator/denominator to support with analysis (without removing the two rating columns, as those could come in handy for weighted scores in aggregated calculations)\n",
    "\n",
    "- Retweets *[completed]*:   Save retweet entries in a seperate dataset with id 'foreign key' and normalize with only retweet specific variables\n",
    "\n"
   ]
  },
  {
   "cell_type": "code",
   "execution_count": 21,
   "id": "705d7c59",
   "metadata": {
    "scrolled": true
   },
   "outputs": [],
   "source": [
    "# Remove the 23 entries where the rating_denominator is not 10\n",
    "df1v2 = df1.query('rating_denominator == 10')"
   ]
  },
  {
   "cell_type": "code",
   "execution_count": 22,
   "id": "bb92bdaf",
   "metadata": {},
   "outputs": [],
   "source": [
    "# Remove entries with a 20+ numerator\n",
    "df1v2 = df1.query('rating_numerator <= 20')"
   ]
  },
  {
   "cell_type": "code",
   "execution_count": 23,
   "id": "503a3e6a",
   "metadata": {
    "scrolled": true
   },
   "outputs": [
    {
     "name": "stderr",
     "output_type": "stream",
     "text": [
      "<ipython-input-23-1a98b9e905c0>:2: SettingWithCopyWarning: \n",
      "A value is trying to be set on a copy of a slice from a DataFrame.\n",
      "Try using .loc[row_indexer,col_indexer] = value instead\n",
      "\n",
      "See the caveats in the documentation: https://pandas.pydata.org/pandas-docs/stable/user_guide/indexing.html#returning-a-view-versus-a-copy\n",
      "  df1v2['name'] = df1v2['name'].replace('a',None)\n"
     ]
    }
   ],
   "source": [
    "# Replace the 55 \"a\" entries for dog names with NaN\n",
    "df1v2['name'] = df1v2['name'].replace('a',None)"
   ]
  },
  {
   "cell_type": "code",
   "execution_count": 24,
   "id": "9f57d700",
   "metadata": {},
   "outputs": [],
   "source": [
    "# Replace the other 54 dog names entries that are words (starting with lower case letter) with NaN\n",
    "df_names_lower = df1[df1['name'].str[:1].str.lower() == df1['name'].str[:1]]\n",
    "df_names_lower = df_names_lower.query('name != \"a\"')\n",
    "words_list = df_names_lower['name'].value_counts().index.to_list()\n",
    "\n",
    "for phrase in words_list:\n",
    "    df1v2.name.replace(phrase, None, inplace=True)"
   ]
  },
  {
   "cell_type": "code",
   "execution_count": 25,
   "id": "46c82796",
   "metadata": {},
   "outputs": [],
   "source": [
    "# Replace 'None' dog names with actual NaN, so it doesn't appear as a string name 'None' but is treated as Null\n",
    "df1v2.name = df1v2['name'].replace('None', np.nan, regex=True)"
   ]
  },
  {
   "cell_type": "code",
   "execution_count": 26,
   "id": "303a4264",
   "metadata": {},
   "outputs": [],
   "source": [
    "# Remove the 181 retweets records\n",
    "df1v2 = df1v2.query('retweeted_status_id != retweeted_status_id')"
   ]
  },
  {
   "cell_type": "code",
   "execution_count": 27,
   "id": "42bae54c",
   "metadata": {},
   "outputs": [],
   "source": [
    "# Remove entries with expanded_urls missing (with NaN value)\n",
    "\n",
    "# Below code shows that previous actions only left one missing expanded_urls\n",
    "df1v2[df1v2.expanded_urls != df1v2.expanded_urls].shape[0]\n",
    "\n",
    "# Code to remove entries with expanded_urls missing (with NaN value)\n",
    "df1v2 = df1v2[df1v2.expanded_urls == df1v2.expanded_urls]"
   ]
  },
  {
   "cell_type": "code",
   "execution_count": 28,
   "id": "d640e622",
   "metadata": {},
   "outputs": [
    {
     "data": {
      "text/plain": [
       "(2098, 17)"
      ]
     },
     "execution_count": 28,
     "metadata": {},
     "output_type": "execute_result"
    }
   ],
   "source": [
    "# Check new shape\n",
    "df1v2.shape"
   ]
  },
  {
   "cell_type": "code",
   "execution_count": 29,
   "id": "a27e052a",
   "metadata": {},
   "outputs": [],
   "source": [
    "# Reset index to allow for index based loop in next cell (drop True is used to prevent an index column from being added)\n",
    "df1v2.reset_index(inplace=True, drop=True)"
   ]
  },
  {
   "cell_type": "code",
   "execution_count": 30,
   "id": "46327109",
   "metadata": {},
   "outputs": [
    {
     "name": "stderr",
     "output_type": "stream",
     "text": [
      "<ipython-input-30-7704defa2fbd>:5: SettingWithCopyWarning: \n",
      "A value is trying to be set on a copy of a slice from a DataFrame\n",
      "\n",
      "See the caveats in the documentation: https://pandas.pydata.org/pandas-docs/stable/user_guide/indexing.html#returning-a-view-versus-a-copy\n",
      "  df1v2.source[i] = df1v2.source[i][df1v2.source[i].find('>')+1:][:-4]\n"
     ]
    }
   ],
   "source": [
    "# Remove the html pre and postfix to the human language 'source' value\n",
    "\n",
    "for i in range(df1v2.shape[0]):\n",
    "    try:\n",
    "        df1v2.source[i] = df1v2.source[i][df1v2.source[i].find('>')+1:][:-4]\n",
    "    except:\n",
    "        continue"
   ]
  },
  {
   "cell_type": "code",
   "execution_count": 31,
   "id": "ddf54e41",
   "metadata": {},
   "outputs": [
    {
     "data": {
      "text/plain": [
       "Twitter for iPhone     1967\n",
       "Vine - Make a Scene      91\n",
       "Twitter Web Client       30\n",
       "TweetDeck                10\n",
       "Name: source, dtype: int64"
      ]
     },
     "execution_count": 31,
     "metadata": {},
     "output_type": "execute_result"
    }
   ],
   "source": [
    "# Double check new source values\n",
    "df1v2.source.value_counts()"
   ]
  },
  {
   "cell_type": "code",
   "execution_count": 32,
   "id": "7a1ca8a0",
   "metadata": {
    "scrolled": true
   },
   "outputs": [],
   "source": [
    "# Change timestamp to date only and convert to datetime type\n",
    "df1v2.timestamp = pd.to_datetime(df1v2.timestamp.str[:10])"
   ]
  },
  {
   "cell_type": "code",
   "execution_count": 33,
   "id": "53cedfc0",
   "metadata": {},
   "outputs": [],
   "source": [
    "# Convert the 4 seperate dog stage columns into a single one:\n",
    "\n",
    "# Combine the four dog columns\n",
    "dog_stage = df1v2.doggo+df1v2.floofer+df1v2.pupper+df1v2.puppo\n",
    "# Remove all the 'None' values\n",
    "dog_stage = dog_stage.str.replace('None','')\n",
    "# Replace the empty space with NaN\n",
    "dog_stage = dog_stage.replace(r'^\\s*$', np.nan, regex=True)\n",
    "\n",
    "# Drop the four columns and add the resulting single column\n",
    "df1v2.drop(['doggo','floofer','pupper','puppo'], axis=1, inplace=True)\n",
    "df1v2['dog_stage'] = dog_stage"
   ]
  },
  {
   "cell_type": "code",
   "execution_count": 34,
   "id": "40a9a224",
   "metadata": {},
   "outputs": [],
   "source": [
    "# Save retweet entries in a seperate dataset with id 'foreign key' and normalize with only retweet specific variables\n",
    "\n",
    "df1v2['rating'] = df1v2.rating_numerator / df1v2.rating_denominator "
   ]
  },
  {
   "cell_type": "code",
   "execution_count": 83,
   "id": "26b9ec3c",
   "metadata": {},
   "outputs": [
    {
     "name": "stderr",
     "output_type": "stream",
     "text": [
      "<ipython-input-83-a56f3b2df75a>:7: SettingWithCopyWarning: \n",
      "A value is trying to be set on a copy of a slice from a DataFrame.\n",
      "Try using .loc[row_indexer,col_indexer] = value instead\n",
      "\n",
      "See the caveats in the documentation: https://pandas.pydata.org/pandas-docs/stable/user_guide/indexing.html#returning-a-view-versus-a-copy\n",
      "  df1v2['name'] = df1v2['name'].replace('a',None)\n",
      "C:\\Users\\durgun\\Anaconda3\\lib\\site-packages\\pandas\\core\\generic.py:5494: SettingWithCopyWarning: \n",
      "A value is trying to be set on a copy of a slice from a DataFrame.\n",
      "Try using .loc[row_indexer,col_indexer] = value instead\n",
      "\n",
      "See the caveats in the documentation: https://pandas.pydata.org/pandas-docs/stable/user_guide/indexing.html#returning-a-view-versus-a-copy\n",
      "  self[name] = value\n",
      "<ipython-input-83-a56f3b2df75a>:26: SettingWithCopyWarning: \n",
      "A value is trying to be set on a copy of a slice from a DataFrame\n",
      "\n",
      "See the caveats in the documentation: https://pandas.pydata.org/pandas-docs/stable/user_guide/indexing.html#returning-a-view-versus-a-copy\n",
      "  df1v2.source[i] = df1v2.source[i][df1v2.source[i].find('>')+1:][:-4]\n"
     ]
    }
   ],
   "source": [
    "# ONE CELL TO RUN ALL CODE IN THIS SECTION\n",
    "\n",
    "df1v2 = df1.query('rating_denominator == 10')\n",
    "\n",
    "df1v2 = df1.query('rating_numerator <= 20')\n",
    "\n",
    "df1v2['name'] = df1v2['name'].replace('a',None)\n",
    "\n",
    "df_names_lower = df1[df1['name'].str[:1].str.lower() == df1['name'].str[:1]]\n",
    "df_names_lower = df_names_lower.query('name != \"a\"')\n",
    "words_list = df_names_lower['name'].value_counts().index.to_list()\n",
    "for phrase in words_list:\n",
    "    df1v2.name.replace(phrase, None, inplace=True)\n",
    "\n",
    "df1v2.name = df1v2['name'].replace('None', np.nan, regex=True)\n",
    "\n",
    "df1v2 = df1v2.query('retweeted_status_id != retweeted_status_id')\n",
    "\n",
    "df1v2[df1v2.expanded_urls != df1v2.expanded_urls].shape[0]\n",
    "df1v2 = df1v2[df1v2.expanded_urls == df1v2.expanded_urls]\n",
    "\n",
    "df1v2.reset_index(inplace=True, drop=True)\n",
    "\n",
    "for i in range(df1v2.shape[0]):\n",
    "    try:\n",
    "        df1v2.source[i] = df1v2.source[i][df1v2.source[i].find('>')+1:][:-4]\n",
    "    except:\n",
    "        continue\n",
    "        \n",
    "df1v2.timestamp = pd.to_datetime(df1v2.timestamp.str[:10])\n",
    "\n",
    "dog_stage = df1v2.doggo+df1v2.floofer+df1v2.pupper+df1v2.puppo\n",
    "dog_stage = dog_stage.str.replace('None','')\n",
    "dog_stage = dog_stage.replace(r'^\\s*$', np.nan, regex=True)\n",
    "df1v2.drop(['doggo','floofer','pupper','puppo'], axis=1, inplace=True)\n",
    "df1v2['dog_stage'] = dog_stage\n",
    "\n",
    "df1v2['rating'] = df1v2.rating_numerator / df1v2.rating_denominator \n",
    "\n"
   ]
  },
  {
   "cell_type": "markdown",
   "id": "6ba96854",
   "metadata": {},
   "source": [
    "## 1.2 Image Predictions File\n",
    "### 1.2.1 Gather\n"
   ]
  },
  {
   "cell_type": "code",
   "execution_count": 98,
   "id": "98175da6",
   "metadata": {},
   "outputs": [
    {
     "data": {
      "text/plain": [
       "bytes"
      ]
     },
     "execution_count": 98,
     "metadata": {},
     "output_type": "execute_result"
    }
   ],
   "source": [
    "# Get tsv file from url and check type\n",
    "url = 'https://d17h27t6h515a5.cloudfront.net/topher/2017/August/599fd2ad_image-predictions/image-predictions.tsv'\n",
    "req = requests.get(url).content\n",
    "type(req)"
   ]
  },
  {
   "cell_type": "code",
   "execution_count": 99,
   "id": "9b770c3c",
   "metadata": {},
   "outputs": [],
   "source": [
    "# How to read bytes into dataframe, found: https://stackoverflow.com/questions/47379476/how-to-convert-bytes-data-into-a-python-pandas-dataframe\n",
    "from io import StringIO\n",
    "\n",
    "s=str(req,'utf-8')\n",
    "data = StringIO(s) \n",
    "df2 = pd.read_csv(data ,delimiter='\\t')"
   ]
  },
  {
   "cell_type": "markdown",
   "id": "588138c2",
   "metadata": {},
   "source": [
    "### 1.2.2 Assess\n",
    "\n",
    "**Quality Issues**\n",
    "\n",
    "- Dog prediction:    Of all images, 16% could not be predicted as a dog\n",
    "- Dog breed names:   Dog breed predictions have inconsistent name strings, with or without underscores or capital letters\n",
    "\n",
    "**Tidiness Issues**\n",
    "\n",
    "- Dog prediction:    There are three columns for three dog predictions at different confidence levels"
   ]
  },
  {
   "cell_type": "code",
   "execution_count": 100,
   "id": "a7d9426a",
   "metadata": {},
   "outputs": [
    {
     "data": {
      "text/html": [
       "<div>\n",
       "<style scoped>\n",
       "    .dataframe tbody tr th:only-of-type {\n",
       "        vertical-align: middle;\n",
       "    }\n",
       "\n",
       "    .dataframe tbody tr th {\n",
       "        vertical-align: top;\n",
       "    }\n",
       "\n",
       "    .dataframe thead th {\n",
       "        text-align: right;\n",
       "    }\n",
       "</style>\n",
       "<table border=\"1\" class=\"dataframe\">\n",
       "  <thead>\n",
       "    <tr style=\"text-align: right;\">\n",
       "      <th></th>\n",
       "      <th>tweet_id</th>\n",
       "      <th>jpg_url</th>\n",
       "      <th>img_num</th>\n",
       "      <th>p1</th>\n",
       "      <th>p1_conf</th>\n",
       "      <th>p1_dog</th>\n",
       "      <th>p2</th>\n",
       "      <th>p2_conf</th>\n",
       "      <th>p2_dog</th>\n",
       "      <th>p3</th>\n",
       "      <th>p3_conf</th>\n",
       "      <th>p3_dog</th>\n",
       "    </tr>\n",
       "  </thead>\n",
       "  <tbody>\n",
       "    <tr>\n",
       "      <th>0</th>\n",
       "      <td>666020888022790149</td>\n",
       "      <td>https://pbs.twimg.com/media/CT4udn0WwAA0aMy.jpg</td>\n",
       "      <td>1</td>\n",
       "      <td>Welsh_springer_spaniel</td>\n",
       "      <td>0.465074</td>\n",
       "      <td>True</td>\n",
       "      <td>collie</td>\n",
       "      <td>0.156665</td>\n",
       "      <td>True</td>\n",
       "      <td>Shetland_sheepdog</td>\n",
       "      <td>0.061428</td>\n",
       "      <td>True</td>\n",
       "    </tr>\n",
       "    <tr>\n",
       "      <th>1</th>\n",
       "      <td>666029285002620928</td>\n",
       "      <td>https://pbs.twimg.com/media/CT42GRgUYAA5iDo.jpg</td>\n",
       "      <td>1</td>\n",
       "      <td>redbone</td>\n",
       "      <td>0.506826</td>\n",
       "      <td>True</td>\n",
       "      <td>miniature_pinscher</td>\n",
       "      <td>0.074192</td>\n",
       "      <td>True</td>\n",
       "      <td>Rhodesian_ridgeback</td>\n",
       "      <td>0.072010</td>\n",
       "      <td>True</td>\n",
       "    </tr>\n",
       "  </tbody>\n",
       "</table>\n",
       "</div>"
      ],
      "text/plain": [
       "             tweet_id                                          jpg_url  \\\n",
       "0  666020888022790149  https://pbs.twimg.com/media/CT4udn0WwAA0aMy.jpg   \n",
       "1  666029285002620928  https://pbs.twimg.com/media/CT42GRgUYAA5iDo.jpg   \n",
       "\n",
       "   img_num                      p1   p1_conf  p1_dog                  p2  \\\n",
       "0        1  Welsh_springer_spaniel  0.465074    True              collie   \n",
       "1        1                 redbone  0.506826    True  miniature_pinscher   \n",
       "\n",
       "    p2_conf  p2_dog                   p3   p3_conf  p3_dog  \n",
       "0  0.156665    True    Shetland_sheepdog  0.061428    True  \n",
       "1  0.074192    True  Rhodesian_ridgeback  0.072010    True  "
      ]
     },
     "execution_count": 100,
     "metadata": {},
     "output_type": "execute_result"
    }
   ],
   "source": [
    "df2.head(2)"
   ]
  },
  {
   "cell_type": "code",
   "execution_count": 101,
   "id": "db229f99",
   "metadata": {},
   "outputs": [
    {
     "name": "stdout",
     "output_type": "stream",
     "text": [
      "<class 'pandas.core.frame.DataFrame'>\n",
      "RangeIndex: 2075 entries, 0 to 2074\n",
      "Data columns (total 12 columns):\n",
      " #   Column    Non-Null Count  Dtype  \n",
      "---  ------    --------------  -----  \n",
      " 0   tweet_id  2075 non-null   int64  \n",
      " 1   jpg_url   2075 non-null   object \n",
      " 2   img_num   2075 non-null   int64  \n",
      " 3   p1        2075 non-null   object \n",
      " 4   p1_conf   2075 non-null   float64\n",
      " 5   p1_dog    2075 non-null   bool   \n",
      " 6   p2        2075 non-null   object \n",
      " 7   p2_conf   2075 non-null   float64\n",
      " 8   p2_dog    2075 non-null   bool   \n",
      " 9   p3        2075 non-null   object \n",
      " 10  p3_conf   2075 non-null   float64\n",
      " 11  p3_dog    2075 non-null   bool   \n",
      "dtypes: bool(3), float64(3), int64(2), object(4)\n",
      "memory usage: 152.1+ KB\n"
     ]
    }
   ],
   "source": [
    "df2.info()"
   ]
  },
  {
   "cell_type": "code",
   "execution_count": 102,
   "id": "ff386209",
   "metadata": {},
   "outputs": [
    {
     "data": {
      "text/plain": [
       "0.843855421686747"
      ]
     },
     "execution_count": 102,
     "metadata": {},
     "output_type": "execute_result"
    }
   ],
   "source": [
    "# Check proportion of entries where at least one prediction is that of a dog\n",
    "df2.query('p1_dog == True | p2_dog == True | p3_dog == True').shape[0] / df2.shape[0]"
   ]
  },
  {
   "cell_type": "markdown",
   "id": "bdf29535",
   "metadata": {},
   "source": [
    "### 1.2.3 Clean\n",
    "\n",
    "**Quality Issues**\n",
    "\n",
    "- Dog prediction *[completed]*:    Remove the image entries where no dog was predicted\n",
    "- Dog breed names *[completed]*:   Replace underscores with space and have each word start with capital letter for dog breeds\n",
    "\n",
    "**Tidiness Issues**\n",
    "\n",
    "- Dog prediction *[completed]*:    Consolidate dog predictions into one single column"
   ]
  },
  {
   "cell_type": "code",
   "execution_count": 103,
   "id": "c3cd0e0a",
   "metadata": {},
   "outputs": [],
   "source": [
    "# Consolidate dog predictions into one single column\n",
    "\n",
    "# Get the most confident prediction of a dog and list the dog and confidence in seperate lists\n",
    "dog_lst = []\n",
    "conf_lst = []\n",
    "\n",
    "for i in range(df2.shape[0]):\n",
    "    if df2.p1_dog[i] == True:\n",
    "        dog = df2.p1[i]\n",
    "        conf = df2.p1_conf[i]\n",
    "    elif df2.p2_dog[i] == True:\n",
    "        dog = df2.p2[i]\n",
    "        conf = df2.p2_conf[i]\n",
    "    elif df2.p3_dog[i] == True:\n",
    "        dog = df2.p3[i]\n",
    "        conf = df2.p3_conf[i]\n",
    "    else:\n",
    "        dog = np.nan\n",
    "        conf = np.nan\n",
    "        \n",
    "    dog_lst.append(dog)\n",
    "    conf_lst.append(conf)\n",
    "\n",
    "# Merge resulting lists into the dataframe\n",
    "df2v2 = df2.copy()\n",
    "df2v2['dog'] = dog_lst\n",
    "df2v2['conf'] = conf_lst\n",
    "\n",
    "# Remove the other prediction columns\n",
    "df2v2.drop(['p1','p1_conf','p1_dog','p2','p2_conf','p2_dog','p3','p3_conf','p3_dog'], axis=1, inplace=True)"
   ]
  },
  {
   "cell_type": "code",
   "execution_count": 104,
   "id": "0f0fe700",
   "metadata": {},
   "outputs": [
    {
     "data": {
      "text/plain": [
       "(1751, 5)"
      ]
     },
     "execution_count": 104,
     "metadata": {},
     "output_type": "execute_result"
    }
   ],
   "source": [
    "# Remove the entries where no dog was predicted\n",
    "df2v2.dropna(inplace=True)\n",
    "# Check resulting shape\n",
    "df2v2.shape"
   ]
  },
  {
   "cell_type": "code",
   "execution_count": 606,
   "id": "2ea7c6ee",
   "metadata": {},
   "outputs": [],
   "source": [
    "# Replace underscores with space and have each word start with capital letter for dog breeds\n",
    "df2v2['dog'] = df2v2['dog'].str.replace(\"_\",\" \")\n",
    "df2v2['dog'] = df2v2['dog'].str.title()"
   ]
  },
  {
   "cell_type": "markdown",
   "id": "05f3a3f5",
   "metadata": {},
   "source": [
    "## 1.3 Additional Data via the Twitter API\n",
    "### 1.3.1 Gather"
   ]
  },
  {
   "cell_type": "code",
   "execution_count": 91,
   "id": "a526b0cc",
   "metadata": {},
   "outputs": [],
   "source": [
    "import tweepy\n",
    "from tweepy import OAuthHandler\n",
    "import json\n",
    "from timeit import default_timer as timer\n",
    "\n",
    "# Query Twitter API for each tweet in the Twitter archive and save JSON in a text file\n",
    "consumer_key = 'Hidden'\n",
    "consumer_secret = 'Hidden'\n",
    "access_token = 'Hidden'\n",
    "access_secret = 'Hidden'\n",
    "\n",
    "auth = OAuthHandler(consumer_key, consumer_secret)\n",
    "auth.set_access_token(access_token, access_secret)\n",
    "\n",
    "api = tweepy.API(auth, wait_on_rate_limit=True)"
   ]
  },
  {
   "cell_type": "code",
   "execution_count": null,
   "id": "438a8c8d",
   "metadata": {},
   "outputs": [],
   "source": [
    "# NOTE TO REVIEWER: this student had mobile verification issues so the following\n",
    "# Twitter API code was sent to this student from a Udacity instructor\n",
    "# Tweet IDs for which to gather additional data via Twitter's API\n",
    "\n",
    "tweet_ids = df1.tweet_id.values\n",
    "len(tweet_ids)\n",
    "\n",
    "# Query Twitter's API for JSON data for each tweet ID in the Twitter archive\n",
    "count = 0\n",
    "fails_dict = {}\n",
    "start = timer()\n",
    "# Save each tweet's returned JSON as a new line in a .txt file\n",
    "with open('tweet_json.txt', 'w') as outfile:\n",
    "    # This loop will likely take 20-30 minutes to run because of Twitter's rate limit\n",
    "    for tweet_id in tweet_ids:\n",
    "        count += 1\n",
    "        print(str(count) + \": \" + str(tweet_id))\n",
    "        try:\n",
    "            tweet = api.get_status(tweet_id, tweet_mode='extended')\n",
    "            print(\"Success\")\n",
    "            json.dump(tweet._json, outfile)\n",
    "            outfile.write('\\n')\n",
    "        except tweepy.TweepError as e:\n",
    "            print(\"Fail\")\n",
    "            fails_dict[tweet_id] = e\n",
    "            pass\n",
    "end = timer()\n",
    "print(end - start)\n",
    "print(fails_dict)"
   ]
  },
  {
   "cell_type": "code",
   "execution_count": null,
   "id": "262bc086",
   "metadata": {},
   "outputs": [],
   "source": [
    "# Get third dataset\n",
    "df3 = pd.read_csv('udacity_py/twitter/tweet-json.txt', delimiter = \"\\t\", header=None)"
   ]
  },
  {
   "cell_type": "markdown",
   "id": "bc800eef",
   "metadata": {},
   "source": [
    "### 1.3.2 Assess\n",
    "\n",
    "**Quality Issues**\n",
    "\n",
    "- Data comes in with json/dictionary formatted large string for each tweet, currently unreadable for human eye\n",
    "\n",
    "**Tidiness Issues**\n",
    "\n",
    "- Multiple variables in a single column destined to be various data types"
   ]
  },
  {
   "cell_type": "code",
   "execution_count": 139,
   "id": "94e87495",
   "metadata": {},
   "outputs": [
    {
     "name": "stdout",
     "output_type": "stream",
     "text": [
      "<class 'pandas.core.frame.DataFrame'>\n",
      "RangeIndex: 2354 entries, 0 to 2353\n",
      "Data columns (total 1 columns):\n",
      " #   Column  Non-Null Count  Dtype \n",
      "---  ------  --------------  ----- \n",
      " 0   0       2354 non-null   object\n",
      "dtypes: object(1)\n",
      "memory usage: 18.5+ KB\n"
     ]
    }
   ],
   "source": [
    "df3.info()"
   ]
  },
  {
   "cell_type": "code",
   "execution_count": 141,
   "id": "9754cce5",
   "metadata": {
    "scrolled": true
   },
   "outputs": [
    {
     "data": {
      "text/plain": [
       "'{\"created_at\": \"Tue Aug 01 16:23:56 +0000 2017\", \"id\": 892420643555336193, \"id_str\": \"892420643555336193\", \"full_text\": \"This is Phineas. He\\'s a mystical boy. Only ever appears in the hole of a donut. 13/10 https://t.co/MgUWQ76dJU\", \"truncated\": false, \"display_text_range\": [0, 85], \"entities\": {\"hashtags\": [], \"symbols\": [], \"user_mentions\": [], \"urls\": [], \"media\": [{\"id\": 892420639486877696, \"id_str\": \"892420639486877696\", \"indices\": [86, 109], \"media_url\": \"http://pbs.twimg.com/media/DGKD1-bXoAAIAUK.jpg\", \"media_url_https\": \"https://pbs.twimg.com/media/DGKD1-bXoAAIAUK.jpg\", \"url\": \"https://t.co/MgUWQ76dJU\", \"display_url\": \"pic.twitter.com/MgUWQ76dJU\", \"expanded_url\": \"https://twitter.com/dog_rates/status/892420643555336193/photo/1\", \"type\": \"photo\", \"sizes\": {\"large\": {\"w\": 540, \"h\": 528, \"resize\": \"fit\"}, \"thumb\": {\"w\": 150, \"h\": 150, \"resize\": \"crop\"}, \"small\": {\"w\": 540, \"h\": 528, \"resize\": \"fit\"}, \"medium\": {\"w\": 540, \"h\": 528, \"resize\": \"fit\"}}}]}, \"extended_entities\": {\"media\": [{\"id\": 892420639486877696, \"id_str\": \"892420639486877696\", \"indices\": [86, 109], \"media_url\": \"http://pbs.twimg.com/media/DGKD1-bXoAAIAUK.jpg\", \"media_url_https\": \"https://pbs.twimg.com/media/DGKD1-bXoAAIAUK.jpg\", \"url\": \"https://t.co/MgUWQ76dJU\", \"display_url\": \"pic.twitter.com/MgUWQ76dJU\", \"expanded_url\": \"https://twitter.com/dog_rates/status/892420643555336193/photo/1\", \"type\": \"photo\", \"sizes\": {\"large\": {\"w\": 540, \"h\": 528, \"resize\": \"fit\"}, \"thumb\": {\"w\": 150, \"h\": 150, \"resize\": \"crop\"}, \"small\": {\"w\": 540, \"h\": 528, \"resize\": \"fit\"}, \"medium\": {\"w\": 540, \"h\": 528, \"resize\": \"fit\"}}}]}, \"source\": \"<a href=\\\\\"http://twitter.com/download/iphone\\\\\" rel=\\\\\"nofollow\\\\\">Twitter for iPhone</a>\", \"in_reply_to_status_id\": null, \"in_reply_to_status_id_str\": null, \"in_reply_to_user_id\": null, \"in_reply_to_user_id_str\": null, \"in_reply_to_screen_name\": null, \"user\": {\"id\": 4196983835, \"id_str\": \"4196983835\", \"name\": \"WeRateDogs\\\\u2122 (author)\", \"screen_name\": \"dog_rates\", \"location\": \"DM YOUR DOGS, WE WILL RATE\", \"description\": \"#1 Source for Professional Dog Ratings | STORE: @ShopWeRateDogs | IG, FB & SC: WeRateDogs MOBILE APP: @GoodDogsGame | Business: dogratingtwitter@gmail.com\", \"url\": \"https://t.co/N7sNNHAEXS\", \"entities\": {\"url\": {\"urls\": [{\"url\": \"https://t.co/N7sNNHAEXS\", \"expanded_url\": \"http://weratedogs.com\", \"display_url\": \"weratedogs.com\", \"indices\": [0, 23]}]}, \"description\": {\"urls\": []}}, \"protected\": false, \"followers_count\": 3200889, \"friends_count\": 104, \"listed_count\": 2784, \"created_at\": \"Sun Nov 15 21:41:29 +0000 2015\", \"favourites_count\": 114031, \"utc_offset\": null, \"time_zone\": null, \"geo_enabled\": true, \"verified\": true, \"statuses_count\": 5288, \"lang\": \"en\", \"contributors_enabled\": false, \"is_translator\": false, \"is_translation_enabled\": false, \"profile_background_color\": \"000000\", \"profile_background_image_url\": \"http://abs.twimg.com/images/themes/theme1/bg.png\", \"profile_background_image_url_https\": \"https://abs.twimg.com/images/themes/theme1/bg.png\", \"profile_background_tile\": false, \"profile_image_url\": \"http://pbs.twimg.com/profile_images/861415328504569856/R2xOOfwe_normal.jpg\", \"profile_image_url_https\": \"https://pbs.twimg.com/profile_images/861415328504569856/R2xOOfwe_normal.jpg\", \"profile_banner_url\": \"https://pbs.twimg.com/profile_banners/4196983835/1501129017\", \"profile_link_color\": \"F5ABB5\", \"profile_sidebar_border_color\": \"000000\", \"profile_sidebar_fill_color\": \"000000\", \"profile_text_color\": \"000000\", \"profile_use_background_image\": false, \"has_extended_profile\": true, \"default_profile\": false, \"default_profile_image\": false, \"following\": true, \"follow_request_sent\": false, \"notifications\": false, \"translator_type\": \"none\"}, \"geo\": null, \"coordinates\": null, \"place\": null, \"contributors\": null, \"is_quote_status\": false, \"retweet_count\": 8853, \"favorite_count\": 39467, \"favorited\": false, \"retweeted\": false, \"possibly_sensitive\": false, \"possibly_sensitive_appealable\": false, \"lang\": \"en\"}'"
      ]
     },
     "execution_count": 141,
     "metadata": {},
     "output_type": "execute_result"
    }
   ],
   "source": [
    "# Check one cell's string\n",
    "df3[0][0]"
   ]
  },
  {
   "cell_type": "code",
   "execution_count": 144,
   "id": "c0270e56",
   "metadata": {
    "scrolled": true
   },
   "outputs": [
    {
     "data": {
      "text/plain": [
       "{'created_at': 'Sun Nov 15 22:32:08 +0000 2015',\n",
       " 'id': 666020888022790149,\n",
       " 'id_str': '666020888022790149',\n",
       " 'full_text': 'Here we have a Japanese Irish Setter. Lost eye in Vietnam (?). Big fan of relaxing on stair. 8/10 would pet https://t.co/BLDqew2Ijj',\n",
       " 'truncated': False,\n",
       " 'display_text_range': [0, 131],\n",
       " 'entities': {'hashtags': [],\n",
       "  'symbols': [],\n",
       "  'user_mentions': [],\n",
       "  'urls': [],\n",
       "  'media': [{'id': 666020881337073664,\n",
       "    'id_str': '666020881337073664',\n",
       "    'indices': [108, 131],\n",
       "    'media_url': 'http://pbs.twimg.com/media/CT4udn0WwAA0aMy.jpg',\n",
       "    'media_url_https': 'https://pbs.twimg.com/media/CT4udn0WwAA0aMy.jpg',\n",
       "    'url': 'https://t.co/BLDqew2Ijj',\n",
       "    'display_url': 'pic.twitter.com/BLDqew2Ijj',\n",
       "    'expanded_url': 'https://twitter.com/dog_rates/status/666020888022790149/photo/1',\n",
       "    'type': 'photo',\n",
       "    'sizes': {'thumb': {'w': 150, 'h': 150, 'resize': 'crop'},\n",
       "     'small': {'w': 340, 'h': 255, 'resize': 'fit'},\n",
       "     'medium': {'w': 600, 'h': 450, 'resize': 'fit'},\n",
       "     'large': {'w': 960, 'h': 720, 'resize': 'fit'}}}]},\n",
       " 'extended_entities': {'media': [{'id': 666020881337073664,\n",
       "    'id_str': '666020881337073664',\n",
       "    'indices': [108, 131],\n",
       "    'media_url': 'http://pbs.twimg.com/media/CT4udn0WwAA0aMy.jpg',\n",
       "    'media_url_https': 'https://pbs.twimg.com/media/CT4udn0WwAA0aMy.jpg',\n",
       "    'url': 'https://t.co/BLDqew2Ijj',\n",
       "    'display_url': 'pic.twitter.com/BLDqew2Ijj',\n",
       "    'expanded_url': 'https://twitter.com/dog_rates/status/666020888022790149/photo/1',\n",
       "    'type': 'photo',\n",
       "    'sizes': {'thumb': {'w': 150, 'h': 150, 'resize': 'crop'},\n",
       "     'small': {'w': 340, 'h': 255, 'resize': 'fit'},\n",
       "     'medium': {'w': 600, 'h': 450, 'resize': 'fit'},\n",
       "     'large': {'w': 960, 'h': 720, 'resize': 'fit'}}}]},\n",
       " 'source': '<a href=\"http://twitter.com/download/iphone\" rel=\"nofollow\">Twitter for iPhone</a>',\n",
       " 'in_reply_to_status_id': None,\n",
       " 'in_reply_to_status_id_str': None,\n",
       " 'in_reply_to_user_id': None,\n",
       " 'in_reply_to_user_id_str': None,\n",
       " 'in_reply_to_screen_name': None,\n",
       " 'user': {'id': 4196983835,\n",
       "  'id_str': '4196983835',\n",
       "  'name': 'WeRateDogs™ (author)',\n",
       "  'screen_name': 'dog_rates',\n",
       "  'location': 'DM YOUR DOGS, WE WILL RATE',\n",
       "  'description': '#1 Source for Professional Dog Ratings | STORE: @ShopWeRateDogs | IG, FB & SC: WeRateDogs MOBILE APP: @GoodDogsGame | Business: dogratingtwitter@gmail.com',\n",
       "  'url': 'https://t.co/N7sNNHAEXS',\n",
       "  'entities': {'url': {'urls': [{'url': 'https://t.co/N7sNNHAEXS',\n",
       "      'expanded_url': 'http://weratedogs.com',\n",
       "      'display_url': 'weratedogs.com',\n",
       "      'indices': [0, 23]}]},\n",
       "   'description': {'urls': []}},\n",
       "  'protected': False,\n",
       "  'followers_count': 3201018,\n",
       "  'friends_count': 104,\n",
       "  'listed_count': 2812,\n",
       "  'created_at': 'Sun Nov 15 21:41:29 +0000 2015',\n",
       "  'favourites_count': 114031,\n",
       "  'utc_offset': None,\n",
       "  'time_zone': None,\n",
       "  'geo_enabled': True,\n",
       "  'verified': True,\n",
       "  'statuses_count': 5288,\n",
       "  'lang': 'en',\n",
       "  'contributors_enabled': False,\n",
       "  'is_translator': False,\n",
       "  'is_translation_enabled': False,\n",
       "  'profile_background_color': '000000',\n",
       "  'profile_background_image_url': 'http://abs.twimg.com/images/themes/theme1/bg.png',\n",
       "  'profile_background_image_url_https': 'https://abs.twimg.com/images/themes/theme1/bg.png',\n",
       "  'profile_background_tile': False,\n",
       "  'profile_image_url': 'http://pbs.twimg.com/profile_images/861415328504569856/R2xOOfwe_normal.jpg',\n",
       "  'profile_image_url_https': 'https://pbs.twimg.com/profile_images/861415328504569856/R2xOOfwe_normal.jpg',\n",
       "  'profile_banner_url': 'https://pbs.twimg.com/profile_banners/4196983835/1501129017',\n",
       "  'profile_link_color': 'F5ABB5',\n",
       "  'profile_sidebar_border_color': '000000',\n",
       "  'profile_sidebar_fill_color': '000000',\n",
       "  'profile_text_color': '000000',\n",
       "  'profile_use_background_image': False,\n",
       "  'has_extended_profile': True,\n",
       "  'default_profile': False,\n",
       "  'default_profile_image': False,\n",
       "  'following': True,\n",
       "  'follow_request_sent': False,\n",
       "  'notifications': False,\n",
       "  'translator_type': 'none'},\n",
       " 'geo': None,\n",
       " 'coordinates': None,\n",
       " 'place': None,\n",
       " 'contributors': None,\n",
       " 'is_quote_status': False,\n",
       " 'retweet_count': 532,\n",
       " 'favorite_count': 2535,\n",
       " 'favorited': False,\n",
       " 'retweeted': False,\n",
       " 'possibly_sensitive': False,\n",
       " 'possibly_sensitive_appealable': False,\n",
       " 'lang': 'en'}"
      ]
     },
     "execution_count": 144,
     "metadata": {},
     "output_type": "execute_result"
    }
   ],
   "source": [
    "# Parse string into json to see how our desired variables can be captured\n",
    "parsed_json = json.loads(df3.iloc[i,0])\n",
    "parsed_json\n",
    "\n",
    "# Based on that, get desired variables via: parsed_json['id'] , parsed_json['favorite_count'] , parsed_json['retweet_count']"
   ]
  },
  {
   "cell_type": "markdown",
   "id": "8436bc03",
   "metadata": {},
   "source": [
    "### 1.3.3 Clean\n",
    "\n",
    "**Quality Issues**\n",
    "\n",
    "- Parse string values for each cell into json and capture single readable variables seperately\n",
    "\n",
    "**Tidiness Issues**\n",
    "\n",
    "- Make a column for each variable"
   ]
  },
  {
   "cell_type": "code",
   "execution_count": 114,
   "id": "6c7ca5c2",
   "metadata": {},
   "outputs": [],
   "source": [
    "# Create dataframe of captured values from parsed json\n",
    "tweet_id = []\n",
    "fav = []\n",
    "retwt = []\n",
    "\n",
    "for i in range(len(df3)):\n",
    "    parsed_json = json.loads(df3.iloc[i,0])\n",
    "    tweet_id.append(parsed_json['id'])\n",
    "    fav.append(parsed_json['favorite_count'])\n",
    "    retwt.append(parsed_json['retweet_count'])\n",
    "\n",
    "df3v2 = pd.DataFrame({'tweet_id':tweet_id,'fav':fav,'retwt':retwt})"
   ]
  },
  {
   "cell_type": "markdown",
   "id": "31d0f53d",
   "metadata": {},
   "source": [
    "## 1.4 Merge datasets and ready for exploration and analysis\n",
    "\n",
    "The below codes gather and clean the previously individually wrangled datasets into one single dataset."
   ]
  },
  {
   "cell_type": "code",
   "execution_count": 607,
   "id": "632db592",
   "metadata": {},
   "outputs": [],
   "source": [
    "# From each of the three sources, select only columns relevant for analysis based on hypotheses (formed during assess/explore)\n",
    "df1v3 = df1v2[['tweet_id','timestamp','source','rating_numerator','rating_denominator','rating','name','dog_stage']].copy()\n",
    "df2v3 = df2v2[['tweet_id','dog','conf']].copy()"
   ]
  },
  {
   "cell_type": "code",
   "execution_count": 608,
   "id": "231d5542",
   "metadata": {},
   "outputs": [
    {
     "data": {
      "text/html": [
       "<div>\n",
       "<style scoped>\n",
       "    .dataframe tbody tr th:only-of-type {\n",
       "        vertical-align: middle;\n",
       "    }\n",
       "\n",
       "    .dataframe tbody tr th {\n",
       "        vertical-align: top;\n",
       "    }\n",
       "\n",
       "    .dataframe thead th {\n",
       "        text-align: right;\n",
       "    }\n",
       "</style>\n",
       "<table border=\"1\" class=\"dataframe\">\n",
       "  <thead>\n",
       "    <tr style=\"text-align: right;\">\n",
       "      <th></th>\n",
       "      <th>tweet_id</th>\n",
       "      <th>timestamp</th>\n",
       "      <th>source</th>\n",
       "      <th>rating_numerator</th>\n",
       "      <th>rating_denominator</th>\n",
       "      <th>rating</th>\n",
       "      <th>name</th>\n",
       "      <th>dog_stage</th>\n",
       "      <th>dog</th>\n",
       "      <th>conf</th>\n",
       "      <th>fav</th>\n",
       "      <th>retwt</th>\n",
       "    </tr>\n",
       "  </thead>\n",
       "  <tbody>\n",
       "    <tr>\n",
       "      <th>0</th>\n",
       "      <td>892177421306343426</td>\n",
       "      <td>2017-08-01</td>\n",
       "      <td>Twitter for iPhone</td>\n",
       "      <td>13</td>\n",
       "      <td>10</td>\n",
       "      <td>1.3</td>\n",
       "      <td>Tilly</td>\n",
       "      <td>NaN</td>\n",
       "      <td>Chihuahua</td>\n",
       "      <td>0.323581</td>\n",
       "      <td>33819</td>\n",
       "      <td>6514</td>\n",
       "    </tr>\n",
       "    <tr>\n",
       "      <th>1</th>\n",
       "      <td>891815181378084864</td>\n",
       "      <td>2017-07-31</td>\n",
       "      <td>Twitter for iPhone</td>\n",
       "      <td>12</td>\n",
       "      <td>10</td>\n",
       "      <td>1.2</td>\n",
       "      <td>Archie</td>\n",
       "      <td>NaN</td>\n",
       "      <td>Chihuahua</td>\n",
       "      <td>0.716012</td>\n",
       "      <td>25461</td>\n",
       "      <td>4328</td>\n",
       "    </tr>\n",
       "    <tr>\n",
       "      <th>2</th>\n",
       "      <td>891689557279858688</td>\n",
       "      <td>2017-07-30</td>\n",
       "      <td>Twitter for iPhone</td>\n",
       "      <td>13</td>\n",
       "      <td>10</td>\n",
       "      <td>1.3</td>\n",
       "      <td>Darla</td>\n",
       "      <td>NaN</td>\n",
       "      <td>Labrador Retriever</td>\n",
       "      <td>0.168086</td>\n",
       "      <td>42908</td>\n",
       "      <td>8964</td>\n",
       "    </tr>\n",
       "    <tr>\n",
       "      <th>3</th>\n",
       "      <td>891327558926688256</td>\n",
       "      <td>2017-07-29</td>\n",
       "      <td>Twitter for iPhone</td>\n",
       "      <td>12</td>\n",
       "      <td>10</td>\n",
       "      <td>1.2</td>\n",
       "      <td>Franklin</td>\n",
       "      <td>NaN</td>\n",
       "      <td>Basset</td>\n",
       "      <td>0.555712</td>\n",
       "      <td>41048</td>\n",
       "      <td>9774</td>\n",
       "    </tr>\n",
       "  </tbody>\n",
       "</table>\n",
       "</div>"
      ],
      "text/plain": [
       "             tweet_id  timestamp              source  rating_numerator  \\\n",
       "0  892177421306343426 2017-08-01  Twitter for iPhone                13   \n",
       "1  891815181378084864 2017-07-31  Twitter for iPhone                12   \n",
       "2  891689557279858688 2017-07-30  Twitter for iPhone                13   \n",
       "3  891327558926688256 2017-07-29  Twitter for iPhone                12   \n",
       "\n",
       "   rating_denominator  rating      name dog_stage                 dog  \\\n",
       "0                  10     1.3     Tilly       NaN           Chihuahua   \n",
       "1                  10     1.2    Archie       NaN           Chihuahua   \n",
       "2                  10     1.3     Darla       NaN  Labrador Retriever   \n",
       "3                  10     1.2  Franklin       NaN              Basset   \n",
       "\n",
       "       conf    fav  retwt  \n",
       "0  0.323581  33819   6514  \n",
       "1  0.716012  25461   4328  \n",
       "2  0.168086  42908   8964  \n",
       "3  0.555712  41048   9774  "
      ]
     },
     "execution_count": 608,
     "metadata": {},
     "output_type": "execute_result"
    }
   ],
   "source": [
    "# Join the three datasets onto each other for one analysis-ready dataset\n",
    "df = df1v3.merge(df2v3,on='tweet_id',how='inner').merge(df3v2,on='tweet_id',how='inner')\n",
    "df.head(4)"
   ]
  },
  {
   "cell_type": "markdown",
   "id": "179fc795",
   "metadata": {},
   "source": [
    "\n",
    "\n",
    "  \n",
    "\n",
    "# 2 Analysis\n",
    "\n",
    "Explore, hypothesize, and conclude."
   ]
  },
  {
   "cell_type": "code",
   "execution_count": 609,
   "id": "03a58942",
   "metadata": {},
   "outputs": [],
   "source": [
    "import matplotlib.pyplot as plt\n",
    "%matplotlib inline\n",
    "import seaborn as sns"
   ]
  },
  {
   "cell_type": "code",
   "execution_count": 610,
   "id": "561fbf8c",
   "metadata": {},
   "outputs": [
    {
     "data": {
      "image/png": "[encoded data removed]",
      "text/plain": [
       "<Figure size 432x288 with 1 Axes>"
      ]
     },
     "metadata": {
      "needs_background": "light"
     },
     "output_type": "display_data"
    }
   ],
   "source": [
    "# Check whether there is anything noteworthy about tweets by date\n",
    "df_tweets_by_day = pd.DataFrame()\n",
    "\n",
    "df_tweets_by_day['timestamp'] = df.groupby('timestamp').count()['tweet_id'].sort_index().reset_index()['timestamp']\n",
    "df_tweets_by_day['tweet_count'] = df.groupby('timestamp').count()['tweet_id'].sort_index().reset_index()['tweet_id']\n",
    "\n",
    "df_tweets_by_day.set_index('timestamp', inplace=True)\n",
    "\n",
    "df_tweets_by_day.plot();"
   ]
  },
  {
   "cell_type": "code",
   "execution_count": 611,
   "id": "d0a7368e",
   "metadata": {},
   "outputs": [
    {
     "data": {
      "text/plain": [
       "Oliver     11\n",
       "Lucy       10\n",
       "Cooper     10\n",
       "Charlie    10\n",
       "Tucker      9\n",
       "Penny       8\n",
       "Daisy       7\n",
       "Winston     7\n",
       "Sadie       7\n",
       "Toby        6\n",
       "Name: name, dtype: int64"
      ]
     },
     "execution_count": 611,
     "metadata": {},
     "output_type": "execute_result"
    }
   ],
   "source": [
    "# Check top 10 dog names\n",
    "df.name.value_counts().head(10)"
   ]
  },
  {
   "cell_type": "code",
   "execution_count": 612,
   "id": "accb69e4",
   "metadata": {},
   "outputs": [
    {
     "data": {
      "image/png": "[encoded data removed]",
      "text/plain": [
       "<Figure size 432x288 with 1 Axes>"
      ]
     },
     "metadata": {
      "needs_background": "light"
     },
     "output_type": "display_data"
    }
   ],
   "source": [
    "# Most tweeted about dog stages\n",
    "df.groupby('dog_stage').count()['tweet_id'].sort_values(ascending=True).plot(kind='barh');"
   ]
  },
  {
   "cell_type": "code",
   "execution_count": 613,
   "id": "fcaf79bb",
   "metadata": {},
   "outputs": [
    {
     "data": {
      "image/png": "[encoded data removed]",
      "text/plain": [
       "<Figure size 432x288 with 1 Axes>"
      ]
     },
     "metadata": {
      "needs_background": "light"
     },
     "output_type": "display_data"
    }
   ],
   "source": [
    "# Most tweeted about dog breeds\n",
    "df.groupby('dog').count()['tweet_id'].sort_values(ascending=True).tail().plot(kind='barh');"
   ]
  },
  {
   "cell_type": "code",
   "execution_count": 614,
   "id": "d0ec40a5",
   "metadata": {},
   "outputs": [
    {
     "data": {
      "text/plain": [
       "('Pupper: ',\n",
       " dog\n",
       " Golden Retriever      16\n",
       " Pug                   11\n",
       " Labrador Retriever    10\n",
       " Pembroke              10\n",
       " Pomeranian             8\n",
       " Name: tweet_id, dtype: int64)"
      ]
     },
     "execution_count": 614,
     "metadata": {},
     "output_type": "execute_result"
    }
   ],
   "source": [
    "# Use below cells to check the top 5 dog breeds per dog stage (of 4 highest tweeted stages)\n",
    "'Pupper: ' ,df.query('dog_stage == \"pupper\"').groupby('dog').count()['tweet_id'].sort_values(ascending=False)[:5]"
   ]
  },
  {
   "cell_type": "code",
   "execution_count": 615,
   "id": "61acc158",
   "metadata": {},
   "outputs": [
    {
     "data": {
      "text/plain": [
       "('Doggo: ',\n",
       " dog\n",
       " Golden Retriever      10\n",
       " Labrador Retriever     5\n",
       " German Shepherd        3\n",
       " Pomeranian             2\n",
       " Great Pyrenees         2\n",
       " Name: tweet_id, dtype: int64)"
      ]
     },
     "execution_count": 615,
     "metadata": {},
     "output_type": "execute_result"
    }
   ],
   "source": [
    "'Doggo: ' ,df.query('dog_stage == \"doggo\"').groupby('dog').count()['tweet_id'].sort_values(ascending=False)[:5]"
   ]
  },
  {
   "cell_type": "code",
   "execution_count": 616,
   "id": "0e887404",
   "metadata": {},
   "outputs": [
    {
     "data": {
      "text/plain": [
       "('Puppo: ',\n",
       " dog\n",
       " Eskimo Dog                        3\n",
       " Golden Retriever                  3\n",
       " Labrador Retriever                3\n",
       " Airedale                          1\n",
       " American Staffordshire Terrier    1\n",
       " Name: tweet_id, dtype: int64)"
      ]
     },
     "execution_count": 616,
     "metadata": {},
     "output_type": "execute_result"
    }
   ],
   "source": [
    "'Puppo: ' ,df.query('dog_stage == \"puppo\"').groupby('dog').count()['tweet_id'].sort_values(ascending=False)[:5]"
   ]
  },
  {
   "cell_type": "code",
   "execution_count": 617,
   "id": "c0cb23a2",
   "metadata": {},
   "outputs": [
    {
     "data": {
      "text/plain": [
       "('Doggopupper: ',\n",
       " dog\n",
       " Golden Retriever          4\n",
       " Dalmatian                 2\n",
       " Curly-Coated Retriever    1\n",
       " Labrador Retriever        1\n",
       " Name: tweet_id, dtype: int64)"
      ]
     },
     "execution_count": 617,
     "metadata": {},
     "output_type": "execute_result"
    }
   ],
   "source": [
    "'Doggopupper: ' ,df.query('dog_stage == \"doggopupper\"').groupby('dog').count()['tweet_id'].sort_values(ascending=False)[:5]"
   ]
  },
  {
   "cell_type": "code",
   "execution_count": 619,
   "id": "437daca2",
   "metadata": {},
   "outputs": [
    {
     "data": {
      "text/plain": [
       "dog_stage\n",
       "pupper         16\n",
       "doggo          10\n",
       "doggopupper     4\n",
       "puppo           3\n",
       "floofer         1\n",
       "Name: tweet_id, dtype: int64"
      ]
     },
     "execution_count": 619,
     "metadata": {},
     "output_type": "execute_result"
    }
   ],
   "source": [
    "# Use below cells to check the top 5 tweeted dog breeds, and in which stages they are found\n",
    "df.query('dog == \"Golden Retriever\"').groupby('dog_stage').count()['tweet_id'].sort_values(ascending=False)[:5]"
   ]
  },
  {
   "cell_type": "code",
   "execution_count": 620,
   "id": "c675af37",
   "metadata": {},
   "outputs": [
    {
     "data": {
      "text/plain": [
       "dog_stage\n",
       "pupper         10\n",
       "doggo           5\n",
       "puppo           3\n",
       "doggopupper     1\n",
       "Name: tweet_id, dtype: int64"
      ]
     },
     "execution_count": 620,
     "metadata": {},
     "output_type": "execute_result"
    }
   ],
   "source": [
    "df.query('dog == \"Labrador Retriever\"').groupby('dog_stage').count()['tweet_id'].sort_values(ascending=False)[:5]"
   ]
  },
  {
   "cell_type": "code",
   "execution_count": 621,
   "id": "43a93aef",
   "metadata": {},
   "outputs": [
    {
     "data": {
      "text/plain": [
       "dog_stage\n",
       "pupper    10\n",
       "doggo      2\n",
       "puppo      1\n",
       "Name: tweet_id, dtype: int64"
      ]
     },
     "execution_count": 621,
     "metadata": {},
     "output_type": "execute_result"
    }
   ],
   "source": [
    "df.query('dog == \"Pembroke\"').groupby('dog_stage').count()['tweet_id'].sort_values(ascending=False)[:5]"
   ]
  },
  {
   "cell_type": "code",
   "execution_count": 622,
   "id": "9d2fa865",
   "metadata": {},
   "outputs": [
    {
     "data": {
      "text/plain": [
       "dog_stage\n",
       "pupper    8\n",
       "doggo     1\n",
       "Name: tweet_id, dtype: int64"
      ]
     },
     "execution_count": 622,
     "metadata": {},
     "output_type": "execute_result"
    }
   ],
   "source": [
    "df.query('dog == \"Chihuahua\"').groupby('dog_stage').count()['tweet_id'].sort_values(ascending=False)[:5]"
   ]
  },
  {
   "cell_type": "code",
   "execution_count": 624,
   "id": "078d46e2",
   "metadata": {},
   "outputs": [
    {
     "data": {
      "text/plain": [
       "dog_stage\n",
       "pupper    11\n",
       "Name: tweet_id, dtype: int64"
      ]
     },
     "execution_count": 624,
     "metadata": {},
     "output_type": "execute_result"
    }
   ],
   "source": [
    "df.query('dog == \"Pug\"').groupby('dog_stage').count()['tweet_id'].sort_values(ascending=False)[:5]"
   ]
  },
  {
   "cell_type": "markdown",
   "id": "b0727b50",
   "metadata": {},
   "source": [
    "### Insight 1:  Golden Retriever the most tweeted about dog breed!\n",
    "\n",
    "Golden Retrievers are most tweeted about on WeRateDogs. In fact, they consistently show as top tweeted about dog breed for each dog stage (except floofer). Another interesting observation about breeds is that Pugs are the only top5 tweeted about dog breeds that finds itself exclusively in the Pupper stage. "
   ]
  },
  {
   "cell_type": "code",
   "execution_count": 625,
   "id": "c0ec633e",
   "metadata": {},
   "outputs": [
    {
     "data": {
      "text/plain": [
       "112"
      ]
     },
     "execution_count": 625,
     "metadata": {},
     "output_type": "execute_result"
    }
   ],
   "source": [
    "# Check amount of unique dog breeds in dataset\n",
    "df.dog.nunique()"
   ]
  },
  {
   "cell_type": "code",
   "execution_count": 653,
   "id": "b506348e",
   "metadata": {
    "scrolled": true
   },
   "outputs": [
    {
     "data": {
      "text/html": [
       "<div>\n",
       "<style scoped>\n",
       "    .dataframe tbody tr th:only-of-type {\n",
       "        vertical-align: middle;\n",
       "    }\n",
       "\n",
       "    .dataframe tbody tr th {\n",
       "        vertical-align: top;\n",
       "    }\n",
       "\n",
       "    .dataframe thead th {\n",
       "        text-align: right;\n",
       "    }\n",
       "</style>\n",
       "<table border=\"1\" class=\"dataframe\">\n",
       "  <thead>\n",
       "    <tr style=\"text-align: right;\">\n",
       "      <th></th>\n",
       "      <th>tweet_id</th>\n",
       "      <th>rating_numerator</th>\n",
       "      <th>rating_denominator</th>\n",
       "      <th>rating</th>\n",
       "      <th>conf</th>\n",
       "      <th>fav</th>\n",
       "      <th>retwt</th>\n",
       "    </tr>\n",
       "    <tr>\n",
       "      <th>dog</th>\n",
       "      <th></th>\n",
       "      <th></th>\n",
       "      <th></th>\n",
       "      <th></th>\n",
       "      <th></th>\n",
       "      <th></th>\n",
       "      <th></th>\n",
       "    </tr>\n",
       "  </thead>\n",
       "  <tbody>\n",
       "    <tr>\n",
       "      <th>Afghan Hound</th>\n",
       "      <td>8.041621e+17</td>\n",
       "      <td>9.666667</td>\n",
       "      <td>10.0</td>\n",
       "      <td>0.966667</td>\n",
       "      <td>0.433959</td>\n",
       "      <td>17326.666667</td>\n",
       "      <td>5976.000000</td>\n",
       "    </tr>\n",
       "    <tr>\n",
       "      <th>Airedale</th>\n",
       "      <td>7.184489e+17</td>\n",
       "      <td>9.833333</td>\n",
       "      <td>10.0</td>\n",
       "      <td>0.983333</td>\n",
       "      <td>0.583771</td>\n",
       "      <td>5280.833333</td>\n",
       "      <td>1393.750000</td>\n",
       "    </tr>\n",
       "    <tr>\n",
       "      <th>American Staffordshire Terrier</th>\n",
       "      <td>7.597284e+17</td>\n",
       "      <td>10.312500</td>\n",
       "      <td>10.0</td>\n",
       "      <td>1.031250</td>\n",
       "      <td>0.527359</td>\n",
       "      <td>9380.187500</td>\n",
       "      <td>2310.812500</td>\n",
       "    </tr>\n",
       "    <tr>\n",
       "      <th>Appenzeller</th>\n",
       "      <td>7.939334e+17</td>\n",
       "      <td>11.000000</td>\n",
       "      <td>10.0</td>\n",
       "      <td>1.100000</td>\n",
       "      <td>0.503665</td>\n",
       "      <td>7317.500000</td>\n",
       "      <td>1458.000000</td>\n",
       "    </tr>\n",
       "    <tr>\n",
       "      <th>Australian Terrier</th>\n",
       "      <td>7.785921e+17</td>\n",
       "      <td>11.500000</td>\n",
       "      <td>10.0</td>\n",
       "      <td>1.150000</td>\n",
       "      <td>0.307584</td>\n",
       "      <td>11127.500000</td>\n",
       "      <td>3078.500000</td>\n",
       "    </tr>\n",
       "    <tr>\n",
       "      <th>...</th>\n",
       "      <td>...</td>\n",
       "      <td>...</td>\n",
       "      <td>...</td>\n",
       "      <td>...</td>\n",
       "      <td>...</td>\n",
       "      <td>...</td>\n",
       "      <td>...</td>\n",
       "    </tr>\n",
       "    <tr>\n",
       "      <th>Welsh Springer Spaniel</th>\n",
       "      <td>7.318789e+17</td>\n",
       "      <td>9.500000</td>\n",
       "      <td>10.0</td>\n",
       "      <td>0.950000</td>\n",
       "      <td>0.349942</td>\n",
       "      <td>5056.000000</td>\n",
       "      <td>1106.000000</td>\n",
       "    </tr>\n",
       "    <tr>\n",
       "      <th>West Highland White Terrier</th>\n",
       "      <td>7.170550e+17</td>\n",
       "      <td>10.066667</td>\n",
       "      <td>10.0</td>\n",
       "      <td>1.006667</td>\n",
       "      <td>0.529993</td>\n",
       "      <td>5557.200000</td>\n",
       "      <td>1325.066667</td>\n",
       "    </tr>\n",
       "    <tr>\n",
       "      <th>Whippet</th>\n",
       "      <td>7.424905e+17</td>\n",
       "      <td>10.181818</td>\n",
       "      <td>10.0</td>\n",
       "      <td>1.018182</td>\n",
       "      <td>0.455646</td>\n",
       "      <td>12911.454545</td>\n",
       "      <td>4840.272727</td>\n",
       "    </tr>\n",
       "    <tr>\n",
       "      <th>Wire-Haired Fox Terrier</th>\n",
       "      <td>7.712716e+17</td>\n",
       "      <td>11.500000</td>\n",
       "      <td>10.0</td>\n",
       "      <td>1.150000</td>\n",
       "      <td>0.305596</td>\n",
       "      <td>8538.500000</td>\n",
       "      <td>2923.500000</td>\n",
       "    </tr>\n",
       "    <tr>\n",
       "      <th>Yorkshire Terrier</th>\n",
       "      <td>7.141660e+17</td>\n",
       "      <td>10.200000</td>\n",
       "      <td>10.0</td>\n",
       "      <td>1.020000</td>\n",
       "      <td>0.458568</td>\n",
       "      <td>4595.000000</td>\n",
       "      <td>1356.000000</td>\n",
       "    </tr>\n",
       "  </tbody>\n",
       "</table>\n",
       "<p>112 rows × 7 columns</p>\n",
       "</div>"
      ],
      "text/plain": [
       "                                    tweet_id  rating_numerator  \\\n",
       "dog                                                              \n",
       "Afghan Hound                    8.041621e+17          9.666667   \n",
       "Airedale                        7.184489e+17          9.833333   \n",
       "American Staffordshire Terrier  7.597284e+17         10.312500   \n",
       "Appenzeller                     7.939334e+17         11.000000   \n",
       "Australian Terrier              7.785921e+17         11.500000   \n",
       "...                                      ...               ...   \n",
       "Welsh Springer Spaniel          7.318789e+17          9.500000   \n",
       "West Highland White Terrier     7.170550e+17         10.066667   \n",
       "Whippet                         7.424905e+17         10.181818   \n",
       "Wire-Haired Fox Terrier         7.712716e+17         11.500000   \n",
       "Yorkshire Terrier               7.141660e+17         10.200000   \n",
       "\n",
       "                                rating_denominator    rating      conf  \\\n",
       "dog                                                                      \n",
       "Afghan Hound                                  10.0  0.966667  0.433959   \n",
       "Airedale                                      10.0  0.983333  0.583771   \n",
       "American Staffordshire Terrier                10.0  1.031250  0.527359   \n",
       "Appenzeller                                   10.0  1.100000  0.503665   \n",
       "Australian Terrier                            10.0  1.150000  0.307584   \n",
       "...                                            ...       ...       ...   \n",
       "Welsh Springer Spaniel                        10.0  0.950000  0.349942   \n",
       "West Highland White Terrier                   10.0  1.006667  0.529993   \n",
       "Whippet                                       10.0  1.018182  0.455646   \n",
       "Wire-Haired Fox Terrier                       10.0  1.150000  0.305596   \n",
       "Yorkshire Terrier                             10.0  1.020000  0.458568   \n",
       "\n",
       "                                         fav        retwt  \n",
       "dog                                                        \n",
       "Afghan Hound                    17326.666667  5976.000000  \n",
       "Airedale                         5280.833333  1393.750000  \n",
       "American Staffordshire Terrier   9380.187500  2310.812500  \n",
       "Appenzeller                      7317.500000  1458.000000  \n",
       "Australian Terrier              11127.500000  3078.500000  \n",
       "...                                      ...          ...  \n",
       "Welsh Springer Spaniel           5056.000000  1106.000000  \n",
       "West Highland White Terrier      5557.200000  1325.066667  \n",
       "Whippet                         12911.454545  4840.272727  \n",
       "Wire-Haired Fox Terrier          8538.500000  2923.500000  \n",
       "Yorkshire Terrier                4595.000000  1356.000000  \n",
       "\n",
       "[112 rows x 7 columns]"
      ]
     },
     "execution_count": 653,
     "metadata": {},
     "output_type": "execute_result"
    }
   ],
   "source": [
    "# Visual check on dog breed averages\n",
    "df.groupby('dog').mean()"
   ]
  },
  {
   "cell_type": "code",
   "execution_count": 657,
   "id": "a1b09732",
   "metadata": {},
   "outputs": [
    {
     "data": {
      "text/plain": [
       "dog\n",
       "Bouvier Des Flandres           1.300000\n",
       "Saluki                         1.250000\n",
       "Briard                         1.233333\n",
       "Tibetan Mastiff                1.225000\n",
       "Border Terrier                 1.214286\n",
       "                                 ...   \n",
       "Tibetan Terrier                0.925000\n",
       "Scotch Terrier                 0.900000\n",
       "Walker Hound                   0.900000\n",
       "Soft-Coated Wheaten Terrier    0.853846\n",
       "Japanese Spaniel               0.500000\n",
       "Name: rating, Length: 112, dtype: float64"
      ]
     },
     "execution_count": 657,
     "metadata": {},
     "output_type": "execute_result"
    }
   ],
   "source": [
    "df.groupby('dog').mean()['rating'].sort_values(ascending=False)"
   ]
  },
  {
   "cell_type": "code",
   "execution_count": 658,
   "id": "8576dad4",
   "metadata": {
    "scrolled": true
   },
   "outputs": [
    {
     "data": {
      "text/html": [
       "<div>\n",
       "<style scoped>\n",
       "    .dataframe tbody tr th:only-of-type {\n",
       "        vertical-align: middle;\n",
       "    }\n",
       "\n",
       "    .dataframe tbody tr th {\n",
       "        vertical-align: top;\n",
       "    }\n",
       "\n",
       "    .dataframe thead th {\n",
       "        text-align: right;\n",
       "    }\n",
       "</style>\n",
       "<table border=\"1\" class=\"dataframe\">\n",
       "  <thead>\n",
       "    <tr style=\"text-align: right;\">\n",
       "      <th></th>\n",
       "      <th>breed</th>\n",
       "      <th>avg_rating</th>\n",
       "    </tr>\n",
       "  </thead>\n",
       "  <tbody>\n",
       "    <tr>\n",
       "      <th>0</th>\n",
       "      <td>Bouvier Des Flandres</td>\n",
       "      <td>1.300000</td>\n",
       "    </tr>\n",
       "    <tr>\n",
       "      <th>1</th>\n",
       "      <td>Saluki</td>\n",
       "      <td>1.250000</td>\n",
       "    </tr>\n",
       "    <tr>\n",
       "      <th>2</th>\n",
       "      <td>Briard</td>\n",
       "      <td>1.233333</td>\n",
       "    </tr>\n",
       "    <tr>\n",
       "      <th>3</th>\n",
       "      <td>Tibetan Mastiff</td>\n",
       "      <td>1.225000</td>\n",
       "    </tr>\n",
       "    <tr>\n",
       "      <th>4</th>\n",
       "      <td>Border Terrier</td>\n",
       "      <td>1.214286</td>\n",
       "    </tr>\n",
       "    <tr>\n",
       "      <th>...</th>\n",
       "      <td>...</td>\n",
       "      <td>...</td>\n",
       "    </tr>\n",
       "    <tr>\n",
       "      <th>107</th>\n",
       "      <td>Tibetan Terrier</td>\n",
       "      <td>0.925000</td>\n",
       "    </tr>\n",
       "    <tr>\n",
       "      <th>108</th>\n",
       "      <td>Scotch Terrier</td>\n",
       "      <td>0.900000</td>\n",
       "    </tr>\n",
       "    <tr>\n",
       "      <th>109</th>\n",
       "      <td>Walker Hound</td>\n",
       "      <td>0.900000</td>\n",
       "    </tr>\n",
       "    <tr>\n",
       "      <th>110</th>\n",
       "      <td>Soft-Coated Wheaten Terrier</td>\n",
       "      <td>0.853846</td>\n",
       "    </tr>\n",
       "    <tr>\n",
       "      <th>111</th>\n",
       "      <td>Japanese Spaniel</td>\n",
       "      <td>0.500000</td>\n",
       "    </tr>\n",
       "  </tbody>\n",
       "</table>\n",
       "<p>112 rows × 2 columns</p>\n",
       "</div>"
      ],
      "text/plain": [
       "                           breed  avg_rating\n",
       "0           Bouvier Des Flandres    1.300000\n",
       "1                         Saluki    1.250000\n",
       "2                         Briard    1.233333\n",
       "3                Tibetan Mastiff    1.225000\n",
       "4                 Border Terrier    1.214286\n",
       "..                           ...         ...\n",
       "107              Tibetan Terrier    0.925000\n",
       "108               Scotch Terrier    0.900000\n",
       "109                 Walker Hound    0.900000\n",
       "110  Soft-Coated Wheaten Terrier    0.853846\n",
       "111             Japanese Spaniel    0.500000\n",
       "\n",
       "[112 rows x 2 columns]"
      ]
     },
     "execution_count": 658,
     "metadata": {},
     "output_type": "execute_result"
    }
   ],
   "source": [
    "# Create dataframe for analysis on dog breeds and aggregated scores\n",
    "df_dog = pd.DataFrame()\n",
    "\n",
    "df_dog['breed'] = df.groupby('dog').mean()['rating'].sort_values(ascending=False).index.tolist()\n",
    "df_dog['avg_rating'] = df.groupby('dog').mean()['rating'].sort_values(ascending=False).values.tolist()\n",
    "\n",
    "\n",
    "df_dog"
   ]
  },
  {
   "cell_type": "code",
   "execution_count": 659,
   "id": "0fcef1aa",
   "metadata": {},
   "outputs": [],
   "source": [
    "# Create dataframe grouped by dog breeds again to join with the prev\n",
    "df_dog_count = pd.DataFrame()\n",
    "\n",
    "df_dog_count['breed'] = df.groupby('dog').count()['tweet_id'].index.tolist()\n",
    "df_dog_count['tweets'] = df.groupby('dog').count()['tweet_id'].values.tolist()"
   ]
  },
  {
   "cell_type": "code",
   "execution_count": 680,
   "id": "794082dc",
   "metadata": {},
   "outputs": [],
   "source": [
    "# Create dataframe grouped by dog breeds again to join with the prev\n",
    "df_dog_sum = pd.DataFrame()\n",
    "\n",
    "df_dog_sum['breed'] = df.groupby('dog').sum()['fav'].index.tolist()\n",
    "df_dog_sum['total_fav'] = df.groupby('dog').sum()['fav'].values.tolist()\n",
    "df_dog_sum['total_retwt'] = df.groupby('dog').sum()['retwt'].values.tolist()\n",
    "\n",
    "df_dog['avg_fav'] = df.groupby('dog').mean()['fav'].values.tolist()\n",
    "df_dog['avg_retwt'] = df.groupby('dog').mean()['retwt'].values.tolist()"
   ]
  },
  {
   "cell_type": "code",
   "execution_count": 681,
   "id": "36faf53b",
   "metadata": {},
   "outputs": [
    {
     "data": {
      "text/html": [
       "<div>\n",
       "<style scoped>\n",
       "    .dataframe tbody tr th:only-of-type {\n",
       "        vertical-align: middle;\n",
       "    }\n",
       "\n",
       "    .dataframe tbody tr th {\n",
       "        vertical-align: top;\n",
       "    }\n",
       "\n",
       "    .dataframe thead th {\n",
       "        text-align: right;\n",
       "    }\n",
       "</style>\n",
       "<table border=\"1\" class=\"dataframe\">\n",
       "  <thead>\n",
       "    <tr style=\"text-align: right;\">\n",
       "      <th></th>\n",
       "      <th>avg_rating</th>\n",
       "      <th>avg_fav</th>\n",
       "      <th>avg_retwt</th>\n",
       "      <th>tweets</th>\n",
       "      <th>total_fav</th>\n",
       "      <th>total_retwt</th>\n",
       "    </tr>\n",
       "    <tr>\n",
       "      <th>breed</th>\n",
       "      <th></th>\n",
       "      <th></th>\n",
       "      <th></th>\n",
       "      <th></th>\n",
       "      <th></th>\n",
       "      <th></th>\n",
       "    </tr>\n",
       "  </thead>\n",
       "  <tbody>\n",
       "    <tr>\n",
       "      <th>Bouvier Des Flandres</th>\n",
       "      <td>1.300000</td>\n",
       "      <td>17326.666667</td>\n",
       "      <td>5976.0000</td>\n",
       "      <td>1</td>\n",
       "      <td>18032.0</td>\n",
       "      <td>4479.0</td>\n",
       "    </tr>\n",
       "    <tr>\n",
       "      <th>Saluki</th>\n",
       "      <td>1.250000</td>\n",
       "      <td>5280.833333</td>\n",
       "      <td>1393.7500</td>\n",
       "      <td>4</td>\n",
       "      <td>96240.0</td>\n",
       "      <td>20535.0</td>\n",
       "    </tr>\n",
       "    <tr>\n",
       "      <th>Briard</th>\n",
       "      <td>1.233333</td>\n",
       "      <td>9380.187500</td>\n",
       "      <td>2310.8125</td>\n",
       "      <td>3</td>\n",
       "      <td>28535.0</td>\n",
       "      <td>8900.0</td>\n",
       "    </tr>\n",
       "    <tr>\n",
       "      <th>Tibetan Mastiff</th>\n",
       "      <td>1.225000</td>\n",
       "      <td>7317.500000</td>\n",
       "      <td>1458.0000</td>\n",
       "      <td>4</td>\n",
       "      <td>48694.0</td>\n",
       "      <td>16772.0</td>\n",
       "    </tr>\n",
       "  </tbody>\n",
       "</table>\n",
       "</div>"
      ],
      "text/plain": [
       "                      avg_rating       avg_fav  avg_retwt  tweets  total_fav  \\\n",
       "breed                                                                          \n",
       "Bouvier Des Flandres    1.300000  17326.666667  5976.0000       1    18032.0   \n",
       "Saluki                  1.250000   5280.833333  1393.7500       4    96240.0   \n",
       "Briard                  1.233333   9380.187500  2310.8125       3    28535.0   \n",
       "Tibetan Mastiff         1.225000   7317.500000  1458.0000       4    48694.0   \n",
       "\n",
       "                      total_retwt  \n",
       "breed                              \n",
       "Bouvier Des Flandres       4479.0  \n",
       "Saluki                    20535.0  \n",
       "Briard                     8900.0  \n",
       "Tibetan Mastiff           16772.0  "
      ]
     },
     "execution_count": 681,
     "metadata": {},
     "output_type": "execute_result"
    }
   ],
   "source": [
    "# Merge the three datasets\n",
    "df_dog_v2 = df_dog.merge(df_dog_count,how='inner',on='breed').merge(df_dog_sum,how='inner',on='breed')\n",
    "\n",
    "df_dog_v2.set_index('breed',inplace=True)\n",
    "df_dog_v2.head(4)"
   ]
  },
  {
   "cell_type": "code",
   "execution_count": 682,
   "id": "fcd1bff9",
   "metadata": {},
   "outputs": [
    {
     "data": {
      "image/png": "[encoded data removed]",
      "text/plain": [
       "<Figure size 432x288 with 1 Axes>"
      ]
     },
     "metadata": {
      "needs_background": "light"
     },
     "output_type": "display_data"
    }
   ],
   "source": [
    "# Check for top rated dog breeds with min 50 tweets\n",
    "df_dog_v2.query('tweets >= 50')['avg_rating'].sort_values().plot(kind='barh');"
   ]
  },
  {
   "cell_type": "code",
   "execution_count": 666,
   "id": "a48215fb",
   "metadata": {},
   "outputs": [
    {
     "data": {
      "text/plain": [
       "(0.0, 1.5)"
      ]
     },
     "execution_count": 666,
     "metadata": {},
     "output_type": "execute_result"
    },
    {
     "data": {
      "image/png": "[encoded data removed]",
      "text/plain": [
       "<Figure size 432x288 with 1 Axes>"
      ]
     },
     "metadata": {
      "needs_background": "light"
     },
     "output_type": "display_data"
    }
   ],
   "source": [
    "# Check if there's a clear relation between amount of tweets and rating by dog breed\n",
    "plt.scatter(top20_most_tweeted_dogs.tweets,top20_most_tweeted_dogs.avg_rating, color='b');\n",
    "plt.ylabel('Avg Rating')\n",
    "plt.xlabel('Tweet Count')\n",
    "plt.title('Avg Rating per Tweet Count (for each dog breed)')\n",
    "plt.ylim([0, 1.5])"
   ]
  },
  {
   "cell_type": "code",
   "execution_count": 683,
   "id": "6c4a3468",
   "metadata": {},
   "outputs": [
    {
     "data": {
      "text/html": [
       "<div>\n",
       "<style scoped>\n",
       "    .dataframe tbody tr th:only-of-type {\n",
       "        vertical-align: middle;\n",
       "    }\n",
       "\n",
       "    .dataframe tbody tr th {\n",
       "        vertical-align: top;\n",
       "    }\n",
       "\n",
       "    .dataframe thead th {\n",
       "        text-align: right;\n",
       "    }\n",
       "</style>\n",
       "<table border=\"1\" class=\"dataframe\">\n",
       "  <thead>\n",
       "    <tr style=\"text-align: right;\">\n",
       "      <th></th>\n",
       "      <th>avg_rating</th>\n",
       "      <th>avg_fav</th>\n",
       "      <th>avg_retwt</th>\n",
       "      <th>tweets</th>\n",
       "      <th>total_fav</th>\n",
       "      <th>total_retwt</th>\n",
       "    </tr>\n",
       "    <tr>\n",
       "      <th>breed</th>\n",
       "      <th></th>\n",
       "      <th></th>\n",
       "      <th></th>\n",
       "      <th></th>\n",
       "      <th></th>\n",
       "      <th></th>\n",
       "    </tr>\n",
       "  </thead>\n",
       "  <tbody>\n",
       "    <tr>\n",
       "      <th>Samoyed</th>\n",
       "      <td>1.169048</td>\n",
       "      <td>7284.000000</td>\n",
       "      <td>1616.545455</td>\n",
       "      <td>42</td>\n",
       "      <td>583906.0</td>\n",
       "      <td>203446.0</td>\n",
       "    </tr>\n",
       "    <tr>\n",
       "      <th>Golden Retriever</th>\n",
       "      <td>1.153021</td>\n",
       "      <td>17012.000000</td>\n",
       "      <td>4164.500000</td>\n",
       "      <td>155</td>\n",
       "      <td>1936576.0</td>\n",
       "      <td>584805.0</td>\n",
       "    </tr>\n",
       "    <tr>\n",
       "      <th>Great Pyrenees</th>\n",
       "      <td>1.142857</td>\n",
       "      <td>13578.000000</td>\n",
       "      <td>3377.142857</td>\n",
       "      <td>14</td>\n",
       "      <td>183646.0</td>\n",
       "      <td>66980.0</td>\n",
       "    </tr>\n",
       "    <tr>\n",
       "      <th>Pembroke</th>\n",
       "      <td>1.141053</td>\n",
       "      <td>5537.000000</td>\n",
       "      <td>1753.800000</td>\n",
       "      <td>95</td>\n",
       "      <td>1039484.0</td>\n",
       "      <td>292052.0</td>\n",
       "    </tr>\n",
       "    <tr>\n",
       "      <th>Eskimo Dog</th>\n",
       "      <td>1.140909</td>\n",
       "      <td>5289.583333</td>\n",
       "      <td>1446.916667</td>\n",
       "      <td>22</td>\n",
       "      <td>235104.0</td>\n",
       "      <td>93183.0</td>\n",
       "    </tr>\n",
       "  </tbody>\n",
       "</table>\n",
       "</div>"
      ],
      "text/plain": [
       "                  avg_rating       avg_fav    avg_retwt  tweets  total_fav  \\\n",
       "breed                                                                        \n",
       "Samoyed             1.169048   7284.000000  1616.545455      42   583906.0   \n",
       "Golden Retriever    1.153021  17012.000000  4164.500000     155  1936576.0   \n",
       "Great Pyrenees      1.142857  13578.000000  3377.142857      14   183646.0   \n",
       "Pembroke            1.141053   5537.000000  1753.800000      95  1039484.0   \n",
       "Eskimo Dog          1.140909   5289.583333  1446.916667      22   235104.0   \n",
       "\n",
       "                  total_retwt  \n",
       "breed                          \n",
       "Samoyed              203446.0  \n",
       "Golden Retriever     584805.0  \n",
       "Great Pyrenees        66980.0  \n",
       "Pembroke             292052.0  \n",
       "Eskimo Dog            93183.0  "
      ]
     },
     "execution_count": 683,
     "metadata": {},
     "output_type": "execute_result"
    }
   ],
   "source": [
    "# Top 20 rated dogs with min 10 tweets\n",
    "top10_most_tweeted_dogs = df_dog_v2.query('tweets >= 10').sort_values('tweets', ascending=False)\n",
    "top10_most_tweeted_dogs.sort_values('avg_rating', ascending=False).head(5)"
   ]
  },
  {
   "cell_type": "markdown",
   "id": "b74951b9",
   "metadata": {},
   "source": [
    "### Insight 2:  Samoyed is the best rated breed!\n",
    "\n",
    "Of the dog breeds that WeRateDogs has tweeted about at least 10 times, Samoyeds are the top rated."
   ]
  },
  {
   "cell_type": "code",
   "execution_count": 570,
   "id": "00226d3b",
   "metadata": {},
   "outputs": [],
   "source": [
    "# Create new dataframe that shows aggregated variables by rating_numerator \n",
    "df_fav_by_rating = pd.DataFrame()\n",
    "df_fav_by_rating['rating'] = df.groupby('rating_numerator')['fav'].mean().index\n",
    "df_fav_by_rating['avg_fav'] = df.groupby('rating_numerator')['fav'].mean().values.tolist()\n",
    "df_fav_by_rating['avg_retwt'] = df.groupby('rating_numerator')['retwt'].mean().values.tolist()\n",
    "df_fav_by_rating['tweets'] = df.groupby('rating_numerator')['tweet_id'].count().values.tolist()"
   ]
  },
  {
   "cell_type": "code",
   "execution_count": 684,
   "id": "0672028a",
   "metadata": {},
   "outputs": [
    {
     "data": {
      "text/html": [
       "<div>\n",
       "<style scoped>\n",
       "    .dataframe tbody tr th:only-of-type {\n",
       "        vertical-align: middle;\n",
       "    }\n",
       "\n",
       "    .dataframe tbody tr th {\n",
       "        vertical-align: top;\n",
       "    }\n",
       "\n",
       "    .dataframe thead th {\n",
       "        text-align: right;\n",
       "    }\n",
       "</style>\n",
       "<table border=\"1\" class=\"dataframe\">\n",
       "  <thead>\n",
       "    <tr style=\"text-align: right;\">\n",
       "      <th></th>\n",
       "      <th>rating</th>\n",
       "      <th>avg_fav</th>\n",
       "      <th>avg_retwt</th>\n",
       "      <th>tweets</th>\n",
       "    </tr>\n",
       "  </thead>\n",
       "  <tbody>\n",
       "    <tr>\n",
       "      <th>5</th>\n",
       "      <td>5</td>\n",
       "      <td>5686.142857</td>\n",
       "      <td>1519.214286</td>\n",
       "      <td>14</td>\n",
       "    </tr>\n",
       "    <tr>\n",
       "      <th>6</th>\n",
       "      <td>6</td>\n",
       "      <td>3382.312500</td>\n",
       "      <td>1178.500000</td>\n",
       "      <td>16</td>\n",
       "    </tr>\n",
       "    <tr>\n",
       "      <th>7</th>\n",
       "      <td>7</td>\n",
       "      <td>3166.562500</td>\n",
       "      <td>1322.187500</td>\n",
       "      <td>32</td>\n",
       "    </tr>\n",
       "    <tr>\n",
       "      <th>8</th>\n",
       "      <td>8</td>\n",
       "      <td>2233.882353</td>\n",
       "      <td>787.838235</td>\n",
       "      <td>68</td>\n",
       "    </tr>\n",
       "    <tr>\n",
       "      <th>9</th>\n",
       "      <td>9</td>\n",
       "      <td>2678.954887</td>\n",
       "      <td>913.112782</td>\n",
       "      <td>133</td>\n",
       "    </tr>\n",
       "    <tr>\n",
       "      <th>10</th>\n",
       "      <td>10</td>\n",
       "      <td>4062.800000</td>\n",
       "      <td>1465.213889</td>\n",
       "      <td>360</td>\n",
       "    </tr>\n",
       "    <tr>\n",
       "      <th>11</th>\n",
       "      <td>11</td>\n",
       "      <td>6673.297753</td>\n",
       "      <td>2154.918539</td>\n",
       "      <td>356</td>\n",
       "    </tr>\n",
       "    <tr>\n",
       "      <th>12</th>\n",
       "      <td>12</td>\n",
       "      <td>11473.617021</td>\n",
       "      <td>3145.988180</td>\n",
       "      <td>423</td>\n",
       "    </tr>\n",
       "    <tr>\n",
       "      <th>13</th>\n",
       "      <td>13</td>\n",
       "      <td>23184.449782</td>\n",
       "      <td>7055.266376</td>\n",
       "      <td>229</td>\n",
       "    </tr>\n",
       "    <tr>\n",
       "      <th>14</th>\n",
       "      <td>14</td>\n",
       "      <td>29125.652174</td>\n",
       "      <td>8847.173913</td>\n",
       "      <td>23</td>\n",
       "    </tr>\n",
       "  </tbody>\n",
       "</table>\n",
       "</div>"
      ],
      "text/plain": [
       "    rating       avg_fav    avg_retwt  tweets\n",
       "5        5   5686.142857  1519.214286      14\n",
       "6        6   3382.312500  1178.500000      16\n",
       "7        7   3166.562500  1322.187500      32\n",
       "8        8   2233.882353   787.838235      68\n",
       "9        9   2678.954887   913.112782     133\n",
       "10      10   4062.800000  1465.213889     360\n",
       "11      11   6673.297753  2154.918539     356\n",
       "12      12  11473.617021  3145.988180     423\n",
       "13      13  23184.449782  7055.266376     229\n",
       "14      14  29125.652174  8847.173913      23"
      ]
     },
     "execution_count": 684,
     "metadata": {},
     "output_type": "execute_result"
    }
   ],
   "source": [
    "# Filter out outliers (those ratings that have less than 10 tweets)\n",
    "df_fav_by_rating = df_fav_by_rating.query('rating >= 5')\n",
    "df_fav_by_rating"
   ]
  },
  {
   "cell_type": "code",
   "execution_count": 578,
   "id": "77cba8da",
   "metadata": {},
   "outputs": [
    {
     "data": {
      "image/png": "[encoded data removed]",
      "text/plain": [
       "<Figure size 432x288 with 1 Axes>"
      ]
     },
     "metadata": {
      "needs_background": "light"
     },
     "output_type": "display_data"
    }
   ],
   "source": [
    "# Ratings vs Favs\n",
    "plt.scatter(df_fav_by_rating.rating,df_fav_by_rating.avg_fav);"
   ]
  },
  {
   "cell_type": "code",
   "execution_count": 577,
   "id": "1c5de245",
   "metadata": {},
   "outputs": [
    {
     "data": {
      "image/png": "[encoded data removed]",
      "text/plain": [
       "<Figure size 432x288 with 1 Axes>"
      ]
     },
     "metadata": {
      "needs_background": "light"
     },
     "output_type": "display_data"
    }
   ],
   "source": [
    "# Ratings vs Retweets\n",
    "plt.scatter(df_fav_by_rating.rating,df_fav_by_rating.avg_retwt);"
   ]
  },
  {
   "cell_type": "code",
   "execution_count": 580,
   "id": "62e8fa20",
   "metadata": {},
   "outputs": [
    {
     "data": {
      "image/png": "[encoded data removed]",
      "text/plain": [
       "<Figure size 432x288 with 1 Axes>"
      ]
     },
     "metadata": {
      "needs_background": "light"
     },
     "output_type": "display_data"
    }
   ],
   "source": [
    "# Ratings vs Tweet count\n",
    "plt.scatter(df_fav_by_rating.rating,df_fav_by_rating.tweets);"
   ]
  },
  {
   "cell_type": "markdown",
   "id": "c3ac48ac",
   "metadata": {},
   "source": [
    "### Insight 3:  Dog ratings and popularity are aligned\n",
    "\n",
    "Twitter users seem to agree with WeRateDogs ratings. This is seen in the higher favorite and retweet count for dogs that have higher ratings."
   ]
  },
  {
   "cell_type": "markdown",
   "id": "b88b989a",
   "metadata": {},
   "source": [
    "# Visualization and Images"
   ]
  },
  {
   "cell_type": "code",
   "execution_count": 854,
   "id": "c6c66b91",
   "metadata": {},
   "outputs": [
    {
     "data": {
      "text/html": [
       "<div>\n",
       "<style scoped>\n",
       "    .dataframe tbody tr th:only-of-type {\n",
       "        vertical-align: middle;\n",
       "    }\n",
       "\n",
       "    .dataframe tbody tr th {\n",
       "        vertical-align: top;\n",
       "    }\n",
       "\n",
       "    .dataframe thead th {\n",
       "        text-align: right;\n",
       "    }\n",
       "</style>\n",
       "<table border=\"1\" class=\"dataframe\">\n",
       "  <thead>\n",
       "    <tr style=\"text-align: right;\">\n",
       "      <th></th>\n",
       "      <th>tweets</th>\n",
       "      <th>avg_rating</th>\n",
       "      <th>avg_fav</th>\n",
       "    </tr>\n",
       "    <tr>\n",
       "      <th>breed</th>\n",
       "      <th></th>\n",
       "      <th></th>\n",
       "      <th></th>\n",
       "    </tr>\n",
       "  </thead>\n",
       "  <tbody>\n",
       "    <tr>\n",
       "      <th>Samoyed</th>\n",
       "      <td>42</td>\n",
       "      <td>1.169048</td>\n",
       "      <td>7284.000000</td>\n",
       "    </tr>\n",
       "    <tr>\n",
       "      <th>Golden Retriever</th>\n",
       "      <td>155</td>\n",
       "      <td>1.153021</td>\n",
       "      <td>17012.000000</td>\n",
       "    </tr>\n",
       "    <tr>\n",
       "      <th>Great Pyrenees</th>\n",
       "      <td>14</td>\n",
       "      <td>1.142857</td>\n",
       "      <td>13578.000000</td>\n",
       "    </tr>\n",
       "    <tr>\n",
       "      <th>Pembroke</th>\n",
       "      <td>95</td>\n",
       "      <td>1.141053</td>\n",
       "      <td>5537.000000</td>\n",
       "    </tr>\n",
       "    <tr>\n",
       "      <th>Eskimo Dog</th>\n",
       "      <td>22</td>\n",
       "      <td>1.140909</td>\n",
       "      <td>5289.583333</td>\n",
       "    </tr>\n",
       "    <tr>\n",
       "      <th>Chow</th>\n",
       "      <td>47</td>\n",
       "      <td>1.140426</td>\n",
       "      <td>18032.000000</td>\n",
       "    </tr>\n",
       "    <tr>\n",
       "      <th>Cocker Spaniel</th>\n",
       "      <td>30</td>\n",
       "      <td>1.133333</td>\n",
       "      <td>6065.200000</td>\n",
       "    </tr>\n",
       "    <tr>\n",
       "      <th>Siberian Husky</th>\n",
       "      <td>19</td>\n",
       "      <td>1.131579</td>\n",
       "      <td>5443.333333</td>\n",
       "    </tr>\n",
       "    <tr>\n",
       "      <th>Kelpie</th>\n",
       "      <td>13</td>\n",
       "      <td>1.130769</td>\n",
       "      <td>12840.190476</td>\n",
       "    </tr>\n",
       "    <tr>\n",
       "      <th>Bernese Mountain Dog</th>\n",
       "      <td>11</td>\n",
       "      <td>1.127273</td>\n",
       "      <td>9749.870968</td>\n",
       "    </tr>\n",
       "  </tbody>\n",
       "</table>\n",
       "</div>"
      ],
      "text/plain": [
       "                      tweets  avg_rating       avg_fav\n",
       "breed                                                 \n",
       "Samoyed                   42    1.169048   7284.000000\n",
       "Golden Retriever         155    1.153021  17012.000000\n",
       "Great Pyrenees            14    1.142857  13578.000000\n",
       "Pembroke                  95    1.141053   5537.000000\n",
       "Eskimo Dog                22    1.140909   5289.583333\n",
       "Chow                      47    1.140426  18032.000000\n",
       "Cocker Spaniel            30    1.133333   6065.200000\n",
       "Siberian Husky            19    1.131579   5443.333333\n",
       "Kelpie                    13    1.130769  12840.190476\n",
       "Bernese Mountain Dog      11    1.127273   9749.870968"
      ]
     },
     "execution_count": 854,
     "metadata": {},
     "output_type": "execute_result"
    }
   ],
   "source": [
    "# Check top 10 rated dogs (with minimum 10 tweet count) and prepare for visualization\n",
    "top10_rated_dogs = top10_most_tweeted_dogs.sort_values('avg_rating', ascending=False).head(10)[['tweets','avg_rating','avg_fav']]\n",
    "top10_rated_dogs"
   ]
  },
  {
   "cell_type": "code",
   "execution_count": 879,
   "id": "807655dd",
   "metadata": {},
   "outputs": [
    {
     "data": {
      "image/png": "[encoded data removed]",
      "text/plain": [
       "<Figure size 720x432 with 1 Axes>"
      ]
     },
     "metadata": {
      "needs_background": "light"
     },
     "output_type": "display_data"
    }
   ],
   "source": [
    "# Visualize scatter with ratings in x, likes in y, and size of marker weighted by tweet count\n",
    "\n",
    "average_rating = top10_rated_dogs.avg_rating*10\n",
    "average_likes = top10_rated_dogs.avg_fav\n",
    "tweets = top10_rated_dogs.tweets*20\n",
    "\n",
    "np.random.seed(146)\n",
    "colors = np.random.rand(10)\n",
    "\n",
    "plt.scatter(average_rating,average_likes,s=tweets,c=colors, alpha=0.7);\n",
    "\n",
    "for i in range(10):\n",
    "    if average_likes.index[i] == 'Siberian Husky':  \n",
    "        plt.text(x=average_rating[i]-0.05,y=average_likes[i]-1500,s=average_likes.index[i],fontdict=dict(color='brown',size=10),bbox=dict(facecolor='white',alpha=0.25))\n",
    "    elif average_likes.index[i] == 'Eskimo Dog':\n",
    "        plt.text(x=average_rating[i]-0.005,y=average_likes[i]-750,s=average_likes.index[i],fontdict=dict(color='brown',size=10),bbox=dict(facecolor='white',alpha=0.25))\n",
    "    elif average_likes.index[i] == 'Cocker Spaniel':\n",
    "        plt.text(x=average_rating[i]-0.05,y=average_likes[i]+1000,s=average_likes.index[i],fontdict=dict(color='brown',size=10),bbox=dict(facecolor='white',alpha=0.25))\n",
    "    else:\n",
    "        plt.text(x=average_rating[i],y=average_likes[i]+1000,s=average_likes.index[i],fontdict=dict(color='brown',size=10),bbox=dict(facecolor='white',alpha=0.25))\n",
    "\n",
    "plt.title('Top 10 average dog ratings, likes, and size of tweet count',fontsize=18)\n",
    "plt.ylabel('Average Likes Per Tweet')\n",
    "plt.xlabel('Average Rating (out of 10)')\n",
    "\n",
    "plt.ylim(0,20000);\n",
    "\n",
    "fig =plt.gcf()\n",
    "fig.set_size_inches(10, 6)\n",
    "\n",
    "plt.savefig('chart_dogs.png')\n"
   ]
  },
  {
   "cell_type": "code",
   "execution_count": null,
   "id": "36e04196",
   "metadata": {},
   "outputs": [],
   "source": [
    "# Find one dog to talk about\n",
    "df.query('dog == \"Samoyed\" and rating_numerator == 13')[5:6]"
   ]
  },
  {
   "cell_type": "code",
   "execution_count": null,
   "id": "1689b7c5",
   "metadata": {},
   "outputs": [],
   "source": [
    "# Find text about the dog\n",
    "paisley_id = df.query('dog == \"Samoyed\" and rating_numerator == 13')['tweet_id'][281]\n",
    "df1v2[df1v2['tweet_id'] == paisley_id]['text'].tolist()[0][:88]"
   ]
  },
  {
   "cell_type": "code",
   "execution_count": null,
   "id": "1b618e2b",
   "metadata": {},
   "outputs": [],
   "source": [
    "df.query('dog == \"Samoyed\" and rating_numerator == 13')['jpg_url']"
   ]
  },
  {
   "cell_type": "code",
   "execution_count": null,
   "id": "e98f7ced",
   "metadata": {},
   "outputs": [],
   "source": [
    "# Get image of Samoyed\n",
    "from PIL import Image\n",
    "from io import BytesIO\n",
    "\n",
    "url = df.query('dog == \"Samoyed\" and rating_numerator == 13')['jpg_url'][98]\n",
    "r = requests.get(url)\n",
    "Image.open(BytesIO(r.content))"
   ]
  },
  {
   "cell_type": "code",
   "execution_count": null,
   "id": "e82d0f11",
   "metadata": {},
   "outputs": [],
   "source": [
    "# Open chart without more code\n",
    "Image.open('chart_dogs.png')"
   ]
  },
  {
   "cell_type": "code",
   "execution_count": 857,
   "id": "945c2ee7",
   "metadata": {},
   "outputs": [],
   "source": [
    "# Write resulting cleaned up dataframe to csv\n",
    "df.to_csv('weratedogs_clean.csv')"
   ]
  }
 ],
 "metadata": {
  "kernelspec": {
   "display_name": "Python 3",
   "language": "python",
   "name": "python3"
  },
  "language_info": {
   "codemirror_mode": {
    "name": "ipython",
    "version": 3
   },
   "file_extension": ".py",
   "mimetype": "text/x-python",
   "name": "python",
   "nbconvert_exporter": "python",
   "pygments_lexer": "ipython3",
   "version": "3.8.8"
  }
 },
 "nbformat": 4,
 "nbformat_minor": 5
}
