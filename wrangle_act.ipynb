{
 "cells": [
  {
   "cell_type": "code",
   "execution_count": 1,
   "id": "ambient-morrison",
   "metadata": {},
   "outputs": [],
   "source": [
    "import pandas as pd\n",
    "import matplotlib.pyplot as plt\n",
    "import json\n",
    "%matplotlib inline\n",
    "import numpy as np\n",
    "import requests\n"
   ]
  },
  {
   "cell_type": "markdown",
   "id": "dominican-feature",
   "metadata": {},
   "source": [
    "# Gathering "
   ]
  },
  {
   "cell_type": "code",
   "execution_count": 2,
   "id": "impossible-dutch",
   "metadata": {},
   "outputs": [
    {
     "data": {
      "text/html": [
       "<div>\n",
       "<style scoped>\n",
       "    .dataframe tbody tr th:only-of-type {\n",
       "        vertical-align: middle;\n",
       "    }\n",
       "\n",
       "    .dataframe tbody tr th {\n",
       "        vertical-align: top;\n",
       "    }\n",
       "\n",
       "    .dataframe thead th {\n",
       "        text-align: right;\n",
       "    }\n",
       "</style>\n",
       "<table border=\"1\" class=\"dataframe\">\n",
       "  <thead>\n",
       "    <tr style=\"text-align: right;\">\n",
       "      <th></th>\n",
       "      <th>tweet_id</th>\n",
       "      <th>retweet_count</th>\n",
       "      <th>favorite_count</th>\n",
       "    </tr>\n",
       "  </thead>\n",
       "  <tbody>\n",
       "    <tr>\n",
       "      <th>0</th>\n",
       "      <td>892420643555336192</td>\n",
       "      <td>8853</td>\n",
       "      <td>39467</td>\n",
       "    </tr>\n",
       "    <tr>\n",
       "      <th>1</th>\n",
       "      <td>892177421306343424</td>\n",
       "      <td>6514</td>\n",
       "      <td>33819</td>\n",
       "    </tr>\n",
       "    <tr>\n",
       "      <th>2</th>\n",
       "      <td>891815181378084864</td>\n",
       "      <td>4328</td>\n",
       "      <td>25461</td>\n",
       "    </tr>\n",
       "    <tr>\n",
       "      <th>3</th>\n",
       "      <td>891689557279858688</td>\n",
       "      <td>8964</td>\n",
       "      <td>42908</td>\n",
       "    </tr>\n",
       "    <tr>\n",
       "      <th>4</th>\n",
       "      <td>891327558926688256</td>\n",
       "      <td>9774</td>\n",
       "      <td>41048</td>\n",
       "    </tr>\n",
       "    <tr>\n",
       "      <th>...</th>\n",
       "      <td>...</td>\n",
       "      <td>...</td>\n",
       "      <td>...</td>\n",
       "    </tr>\n",
       "    <tr>\n",
       "      <th>2349</th>\n",
       "      <td>666049248165822464</td>\n",
       "      <td>41</td>\n",
       "      <td>111</td>\n",
       "    </tr>\n",
       "    <tr>\n",
       "      <th>2350</th>\n",
       "      <td>666044226329800704</td>\n",
       "      <td>147</td>\n",
       "      <td>311</td>\n",
       "    </tr>\n",
       "    <tr>\n",
       "      <th>2351</th>\n",
       "      <td>666033412701032448</td>\n",
       "      <td>47</td>\n",
       "      <td>128</td>\n",
       "    </tr>\n",
       "    <tr>\n",
       "      <th>2352</th>\n",
       "      <td>666029285002620928</td>\n",
       "      <td>48</td>\n",
       "      <td>132</td>\n",
       "    </tr>\n",
       "    <tr>\n",
       "      <th>2353</th>\n",
       "      <td>666020888022790144</td>\n",
       "      <td>532</td>\n",
       "      <td>2535</td>\n",
       "    </tr>\n",
       "  </tbody>\n",
       "</table>\n",
       "<p>2354 rows × 3 columns</p>\n",
       "</div>"
      ],
      "text/plain": [
       "                tweet_id  retweet_count  favorite_count\n",
       "0     892420643555336192           8853           39467\n",
       "1     892177421306343424           6514           33819\n",
       "2     891815181378084864           4328           25461\n",
       "3     891689557279858688           8964           42908\n",
       "4     891327558926688256           9774           41048\n",
       "...                  ...            ...             ...\n",
       "2349  666049248165822464             41             111\n",
       "2350  666044226329800704            147             311\n",
       "2351  666033412701032448             47             128\n",
       "2352  666029285002620928             48             132\n",
       "2353  666020888022790144            532            2535\n",
       "\n",
       "[2354 rows x 3 columns]"
      ]
     },
     "execution_count": 2,
     "metadata": {},
     "output_type": "execute_result"
    }
   ],
   "source": [
    "r=requests.get('https://video.udacity-data.com/topher/2018/November/5be5fb7d_tweet-json/tweet-json.txt')\n",
    "\n",
    "with open('tweet_json.txt','wb') as f :\n",
    "    f.write(r.content)\n",
    "    f.close()\n",
    "\n",
    "tweets = pd.read_json('tweet_json.txt',lines=True,encoding='utf-8')\n",
    "\n",
    "tweets['created_at'] = pd.to_datetime( tweets['created_at'], errors='coerce',utc=True)\n",
    "tweets.to_csv('tweett.csv',index=False)\n",
    "tweets.drop(['created_at','id','full_text','truncated' ,'display_text_range','entities','extended_entities','source','in_reply_to_status_id','favorited','retweeted','possibly_sensitive','possibly_sensitive_appealable','lang','retweeted_status','quoted_status_id','quoted_status_id_str','quoted_status'],axis=1,inplace=True)\n",
    "tweets.drop([ 'in_reply_to_status_id_str', 'in_reply_to_user_id',\n",
    "       'in_reply_to_user_id_str', 'in_reply_to_screen_name', 'user', 'geo',\n",
    "       'coordinates', 'place', 'contributors', 'is_quote_status'],axis=1,inplace=True)\n",
    "tweets.rename(columns={'id_str':'tweet_id'},inplace=True)\n",
    "tweets.to_csv('tweet_data',index=False)\n",
    "\n",
    "tweets = pd.read_csv('tweet_data')\n",
    "tweets"
   ]
  },
  {
   "cell_type": "code",
   "execution_count": 4,
   "id": "running-savannah",
   "metadata": {},
   "outputs": [],
   "source": [
    "f = requests.get('https://d17h27t6h515a5.cloudfront.net/topher/2017/August/599fd2ad_image-predictions/image-predictions.tsv')\n",
    "with open('image_predictions.tsv','wb') as d :\n",
    "    d.write(f.content)\n",
    "    \n",
    "\n",
    "predictions = pd.read_csv('image_predictions.tsv',sep='\\t')\n"
   ]
  },
  {
   "cell_type": "markdown",
   "id": "pressing-crash",
   "metadata": {},
   "source": [
    "# Assessment"
   ]
  },
  {
   "cell_type": "code",
   "execution_count": 5,
   "id": "special-astronomy",
   "metadata": {},
   "outputs": [
    {
     "name": "stdout",
     "output_type": "stream",
     "text": [
      "<class 'pandas.core.frame.DataFrame'>\n",
      "RangeIndex: 2075 entries, 0 to 2074\n",
      "Data columns (total 12 columns):\n",
      " #   Column    Non-Null Count  Dtype  \n",
      "---  ------    --------------  -----  \n",
      " 0   tweet_id  2075 non-null   int64  \n",
      " 1   jpg_url   2075 non-null   object \n",
      " 2   img_num   2075 non-null   int64  \n",
      " 3   p1        2075 non-null   object \n",
      " 4   p1_conf   2075 non-null   float64\n",
      " 5   p1_dog    2075 non-null   bool   \n",
      " 6   p2        2075 non-null   object \n",
      " 7   p2_conf   2075 non-null   float64\n",
      " 8   p2_dog    2075 non-null   bool   \n",
      " 9   p3        2075 non-null   object \n",
      " 10  p3_conf   2075 non-null   float64\n",
      " 11  p3_dog    2075 non-null   bool   \n",
      "dtypes: bool(3), float64(3), int64(2), object(4)\n",
      "memory usage: 152.1+ KB\n"
     ]
    }
   ],
   "source": [
    "predictions.info()"
   ]
  },
  {
   "cell_type": "code",
   "execution_count": 6,
   "id": "specific-times",
   "metadata": {},
   "outputs": [
    {
     "data": {
      "text/html": [
       "<div>\n",
       "<style scoped>\n",
       "    .dataframe tbody tr th:only-of-type {\n",
       "        vertical-align: middle;\n",
       "    }\n",
       "\n",
       "    .dataframe tbody tr th {\n",
       "        vertical-align: top;\n",
       "    }\n",
       "\n",
       "    .dataframe thead th {\n",
       "        text-align: right;\n",
       "    }\n",
       "</style>\n",
       "<table border=\"1\" class=\"dataframe\">\n",
       "  <thead>\n",
       "    <tr style=\"text-align: right;\">\n",
       "      <th></th>\n",
       "      <th>tweet_id</th>\n",
       "      <th>img_num</th>\n",
       "      <th>p1_conf</th>\n",
       "      <th>p2_conf</th>\n",
       "      <th>p3_conf</th>\n",
       "    </tr>\n",
       "  </thead>\n",
       "  <tbody>\n",
       "    <tr>\n",
       "      <th>count</th>\n",
       "      <td>2.075000e+03</td>\n",
       "      <td>2075.000000</td>\n",
       "      <td>2075.000000</td>\n",
       "      <td>2.075000e+03</td>\n",
       "      <td>2.075000e+03</td>\n",
       "    </tr>\n",
       "    <tr>\n",
       "      <th>mean</th>\n",
       "      <td>7.384514e+17</td>\n",
       "      <td>1.203855</td>\n",
       "      <td>0.594548</td>\n",
       "      <td>1.345886e-01</td>\n",
       "      <td>6.032417e-02</td>\n",
       "    </tr>\n",
       "    <tr>\n",
       "      <th>std</th>\n",
       "      <td>6.785203e+16</td>\n",
       "      <td>0.561875</td>\n",
       "      <td>0.271174</td>\n",
       "      <td>1.006657e-01</td>\n",
       "      <td>5.090593e-02</td>\n",
       "    </tr>\n",
       "    <tr>\n",
       "      <th>min</th>\n",
       "      <td>6.660209e+17</td>\n",
       "      <td>1.000000</td>\n",
       "      <td>0.044333</td>\n",
       "      <td>1.011300e-08</td>\n",
       "      <td>1.740170e-10</td>\n",
       "    </tr>\n",
       "    <tr>\n",
       "      <th>25%</th>\n",
       "      <td>6.764835e+17</td>\n",
       "      <td>1.000000</td>\n",
       "      <td>0.364412</td>\n",
       "      <td>5.388625e-02</td>\n",
       "      <td>1.622240e-02</td>\n",
       "    </tr>\n",
       "    <tr>\n",
       "      <th>50%</th>\n",
       "      <td>7.119988e+17</td>\n",
       "      <td>1.000000</td>\n",
       "      <td>0.588230</td>\n",
       "      <td>1.181810e-01</td>\n",
       "      <td>4.944380e-02</td>\n",
       "    </tr>\n",
       "    <tr>\n",
       "      <th>75%</th>\n",
       "      <td>7.932034e+17</td>\n",
       "      <td>1.000000</td>\n",
       "      <td>0.843855</td>\n",
       "      <td>1.955655e-01</td>\n",
       "      <td>9.180755e-02</td>\n",
       "    </tr>\n",
       "    <tr>\n",
       "      <th>max</th>\n",
       "      <td>8.924206e+17</td>\n",
       "      <td>4.000000</td>\n",
       "      <td>1.000000</td>\n",
       "      <td>4.880140e-01</td>\n",
       "      <td>2.734190e-01</td>\n",
       "    </tr>\n",
       "  </tbody>\n",
       "</table>\n",
       "</div>"
      ],
      "text/plain": [
       "           tweet_id      img_num      p1_conf       p2_conf       p3_conf\n",
       "count  2.075000e+03  2075.000000  2075.000000  2.075000e+03  2.075000e+03\n",
       "mean   7.384514e+17     1.203855     0.594548  1.345886e-01  6.032417e-02\n",
       "std    6.785203e+16     0.561875     0.271174  1.006657e-01  5.090593e-02\n",
       "min    6.660209e+17     1.000000     0.044333  1.011300e-08  1.740170e-10\n",
       "25%    6.764835e+17     1.000000     0.364412  5.388625e-02  1.622240e-02\n",
       "50%    7.119988e+17     1.000000     0.588230  1.181810e-01  4.944380e-02\n",
       "75%    7.932034e+17     1.000000     0.843855  1.955655e-01  9.180755e-02\n",
       "max    8.924206e+17     4.000000     1.000000  4.880140e-01  2.734190e-01"
      ]
     },
     "execution_count": 6,
     "metadata": {},
     "output_type": "execute_result"
    }
   ],
   "source": [
    "\n",
    "predictions.describe()"
   ]
  },
  {
   "cell_type": "code",
   "execution_count": 7,
   "id": "confirmed-recipient",
   "metadata": {},
   "outputs": [
    {
     "data": {
      "text/html": [
       "<div>\n",
       "<style scoped>\n",
       "    .dataframe tbody tr th:only-of-type {\n",
       "        vertical-align: middle;\n",
       "    }\n",
       "\n",
       "    .dataframe tbody tr th {\n",
       "        vertical-align: top;\n",
       "    }\n",
       "\n",
       "    .dataframe thead th {\n",
       "        text-align: right;\n",
       "    }\n",
       "</style>\n",
       "<table border=\"1\" class=\"dataframe\">\n",
       "  <thead>\n",
       "    <tr style=\"text-align: right;\">\n",
       "      <th></th>\n",
       "      <th>tweet_id</th>\n",
       "      <th>in_reply_to_status_id</th>\n",
       "      <th>in_reply_to_user_id</th>\n",
       "      <th>timestamp</th>\n",
       "      <th>source</th>\n",
       "      <th>text</th>\n",
       "      <th>retweeted_status_id</th>\n",
       "      <th>retweeted_status_user_id</th>\n",
       "      <th>retweeted_status_timestamp</th>\n",
       "      <th>expanded_urls</th>\n",
       "      <th>rating_numerator</th>\n",
       "      <th>rating_denominator</th>\n",
       "      <th>name</th>\n",
       "      <th>doggo</th>\n",
       "      <th>floofer</th>\n",
       "      <th>pupper</th>\n",
       "      <th>puppo</th>\n",
       "    </tr>\n",
       "  </thead>\n",
       "  <tbody>\n",
       "    <tr>\n",
       "      <th>0</th>\n",
       "      <td>892420643555336193</td>\n",
       "      <td>NaN</td>\n",
       "      <td>NaN</td>\n",
       "      <td>2017-08-01 16:23:56 +0000</td>\n",
       "      <td>&lt;a href=\"http://twitter.com/download/iphone\" r...</td>\n",
       "      <td>This is Phineas. He's a mystical boy. Only eve...</td>\n",
       "      <td>NaN</td>\n",
       "      <td>NaN</td>\n",
       "      <td>NaN</td>\n",
       "      <td>https://twitter.com/dog_rates/status/892420643...</td>\n",
       "      <td>13</td>\n",
       "      <td>10</td>\n",
       "      <td>Phineas</td>\n",
       "      <td>None</td>\n",
       "      <td>None</td>\n",
       "      <td>None</td>\n",
       "      <td>None</td>\n",
       "    </tr>\n",
       "    <tr>\n",
       "      <th>1</th>\n",
       "      <td>892177421306343426</td>\n",
       "      <td>NaN</td>\n",
       "      <td>NaN</td>\n",
       "      <td>2017-08-01 00:17:27 +0000</td>\n",
       "      <td>&lt;a href=\"http://twitter.com/download/iphone\" r...</td>\n",
       "      <td>This is Tilly. She's just checking pup on you....</td>\n",
       "      <td>NaN</td>\n",
       "      <td>NaN</td>\n",
       "      <td>NaN</td>\n",
       "      <td>https://twitter.com/dog_rates/status/892177421...</td>\n",
       "      <td>13</td>\n",
       "      <td>10</td>\n",
       "      <td>Tilly</td>\n",
       "      <td>None</td>\n",
       "      <td>None</td>\n",
       "      <td>None</td>\n",
       "      <td>None</td>\n",
       "    </tr>\n",
       "    <tr>\n",
       "      <th>2</th>\n",
       "      <td>891815181378084864</td>\n",
       "      <td>NaN</td>\n",
       "      <td>NaN</td>\n",
       "      <td>2017-07-31 00:18:03 +0000</td>\n",
       "      <td>&lt;a href=\"http://twitter.com/download/iphone\" r...</td>\n",
       "      <td>This is Archie. He is a rare Norwegian Pouncin...</td>\n",
       "      <td>NaN</td>\n",
       "      <td>NaN</td>\n",
       "      <td>NaN</td>\n",
       "      <td>https://twitter.com/dog_rates/status/891815181...</td>\n",
       "      <td>12</td>\n",
       "      <td>10</td>\n",
       "      <td>Archie</td>\n",
       "      <td>None</td>\n",
       "      <td>None</td>\n",
       "      <td>None</td>\n",
       "      <td>None</td>\n",
       "    </tr>\n",
       "    <tr>\n",
       "      <th>3</th>\n",
       "      <td>891689557279858688</td>\n",
       "      <td>NaN</td>\n",
       "      <td>NaN</td>\n",
       "      <td>2017-07-30 15:58:51 +0000</td>\n",
       "      <td>&lt;a href=\"http://twitter.com/download/iphone\" r...</td>\n",
       "      <td>This is Darla. She commenced a snooze mid meal...</td>\n",
       "      <td>NaN</td>\n",
       "      <td>NaN</td>\n",
       "      <td>NaN</td>\n",
       "      <td>https://twitter.com/dog_rates/status/891689557...</td>\n",
       "      <td>13</td>\n",
       "      <td>10</td>\n",
       "      <td>Darla</td>\n",
       "      <td>None</td>\n",
       "      <td>None</td>\n",
       "      <td>None</td>\n",
       "      <td>None</td>\n",
       "    </tr>\n",
       "    <tr>\n",
       "      <th>4</th>\n",
       "      <td>891327558926688256</td>\n",
       "      <td>NaN</td>\n",
       "      <td>NaN</td>\n",
       "      <td>2017-07-29 16:00:24 +0000</td>\n",
       "      <td>&lt;a href=\"http://twitter.com/download/iphone\" r...</td>\n",
       "      <td>This is Franklin. He would like you to stop ca...</td>\n",
       "      <td>NaN</td>\n",
       "      <td>NaN</td>\n",
       "      <td>NaN</td>\n",
       "      <td>https://twitter.com/dog_rates/status/891327558...</td>\n",
       "      <td>12</td>\n",
       "      <td>10</td>\n",
       "      <td>Franklin</td>\n",
       "      <td>None</td>\n",
       "      <td>None</td>\n",
       "      <td>None</td>\n",
       "      <td>None</td>\n",
       "    </tr>\n",
       "    <tr>\n",
       "      <th>...</th>\n",
       "      <td>...</td>\n",
       "      <td>...</td>\n",
       "      <td>...</td>\n",
       "      <td>...</td>\n",
       "      <td>...</td>\n",
       "      <td>...</td>\n",
       "      <td>...</td>\n",
       "      <td>...</td>\n",
       "      <td>...</td>\n",
       "      <td>...</td>\n",
       "      <td>...</td>\n",
       "      <td>...</td>\n",
       "      <td>...</td>\n",
       "      <td>...</td>\n",
       "      <td>...</td>\n",
       "      <td>...</td>\n",
       "      <td>...</td>\n",
       "    </tr>\n",
       "    <tr>\n",
       "      <th>2351</th>\n",
       "      <td>666049248165822465</td>\n",
       "      <td>NaN</td>\n",
       "      <td>NaN</td>\n",
       "      <td>2015-11-16 00:24:50 +0000</td>\n",
       "      <td>&lt;a href=\"http://twitter.com/download/iphone\" r...</td>\n",
       "      <td>Here we have a 1949 1st generation vulpix. Enj...</td>\n",
       "      <td>NaN</td>\n",
       "      <td>NaN</td>\n",
       "      <td>NaN</td>\n",
       "      <td>https://twitter.com/dog_rates/status/666049248...</td>\n",
       "      <td>5</td>\n",
       "      <td>10</td>\n",
       "      <td>None</td>\n",
       "      <td>None</td>\n",
       "      <td>None</td>\n",
       "      <td>None</td>\n",
       "      <td>None</td>\n",
       "    </tr>\n",
       "    <tr>\n",
       "      <th>2352</th>\n",
       "      <td>666044226329800704</td>\n",
       "      <td>NaN</td>\n",
       "      <td>NaN</td>\n",
       "      <td>2015-11-16 00:04:52 +0000</td>\n",
       "      <td>&lt;a href=\"http://twitter.com/download/iphone\" r...</td>\n",
       "      <td>This is a purebred Piers Morgan. Loves to Netf...</td>\n",
       "      <td>NaN</td>\n",
       "      <td>NaN</td>\n",
       "      <td>NaN</td>\n",
       "      <td>https://twitter.com/dog_rates/status/666044226...</td>\n",
       "      <td>6</td>\n",
       "      <td>10</td>\n",
       "      <td>a</td>\n",
       "      <td>None</td>\n",
       "      <td>None</td>\n",
       "      <td>None</td>\n",
       "      <td>None</td>\n",
       "    </tr>\n",
       "    <tr>\n",
       "      <th>2353</th>\n",
       "      <td>666033412701032449</td>\n",
       "      <td>NaN</td>\n",
       "      <td>NaN</td>\n",
       "      <td>2015-11-15 23:21:54 +0000</td>\n",
       "      <td>&lt;a href=\"http://twitter.com/download/iphone\" r...</td>\n",
       "      <td>Here is a very happy pup. Big fan of well-main...</td>\n",
       "      <td>NaN</td>\n",
       "      <td>NaN</td>\n",
       "      <td>NaN</td>\n",
       "      <td>https://twitter.com/dog_rates/status/666033412...</td>\n",
       "      <td>9</td>\n",
       "      <td>10</td>\n",
       "      <td>a</td>\n",
       "      <td>None</td>\n",
       "      <td>None</td>\n",
       "      <td>None</td>\n",
       "      <td>None</td>\n",
       "    </tr>\n",
       "    <tr>\n",
       "      <th>2354</th>\n",
       "      <td>666029285002620928</td>\n",
       "      <td>NaN</td>\n",
       "      <td>NaN</td>\n",
       "      <td>2015-11-15 23:05:30 +0000</td>\n",
       "      <td>&lt;a href=\"http://twitter.com/download/iphone\" r...</td>\n",
       "      <td>This is a western brown Mitsubishi terrier. Up...</td>\n",
       "      <td>NaN</td>\n",
       "      <td>NaN</td>\n",
       "      <td>NaN</td>\n",
       "      <td>https://twitter.com/dog_rates/status/666029285...</td>\n",
       "      <td>7</td>\n",
       "      <td>10</td>\n",
       "      <td>a</td>\n",
       "      <td>None</td>\n",
       "      <td>None</td>\n",
       "      <td>None</td>\n",
       "      <td>None</td>\n",
       "    </tr>\n",
       "    <tr>\n",
       "      <th>2355</th>\n",
       "      <td>666020888022790149</td>\n",
       "      <td>NaN</td>\n",
       "      <td>NaN</td>\n",
       "      <td>2015-11-15 22:32:08 +0000</td>\n",
       "      <td>&lt;a href=\"http://twitter.com/download/iphone\" r...</td>\n",
       "      <td>Here we have a Japanese Irish Setter. Lost eye...</td>\n",
       "      <td>NaN</td>\n",
       "      <td>NaN</td>\n",
       "      <td>NaN</td>\n",
       "      <td>https://twitter.com/dog_rates/status/666020888...</td>\n",
       "      <td>8</td>\n",
       "      <td>10</td>\n",
       "      <td>None</td>\n",
       "      <td>None</td>\n",
       "      <td>None</td>\n",
       "      <td>None</td>\n",
       "      <td>None</td>\n",
       "    </tr>\n",
       "  </tbody>\n",
       "</table>\n",
       "<p>2356 rows × 17 columns</p>\n",
       "</div>"
      ],
      "text/plain": [
       "                tweet_id  in_reply_to_status_id  in_reply_to_user_id  \\\n",
       "0     892420643555336193                    NaN                  NaN   \n",
       "1     892177421306343426                    NaN                  NaN   \n",
       "2     891815181378084864                    NaN                  NaN   \n",
       "3     891689557279858688                    NaN                  NaN   \n",
       "4     891327558926688256                    NaN                  NaN   \n",
       "...                  ...                    ...                  ...   \n",
       "2351  666049248165822465                    NaN                  NaN   \n",
       "2352  666044226329800704                    NaN                  NaN   \n",
       "2353  666033412701032449                    NaN                  NaN   \n",
       "2354  666029285002620928                    NaN                  NaN   \n",
       "2355  666020888022790149                    NaN                  NaN   \n",
       "\n",
       "                      timestamp  \\\n",
       "0     2017-08-01 16:23:56 +0000   \n",
       "1     2017-08-01 00:17:27 +0000   \n",
       "2     2017-07-31 00:18:03 +0000   \n",
       "3     2017-07-30 15:58:51 +0000   \n",
       "4     2017-07-29 16:00:24 +0000   \n",
       "...                         ...   \n",
       "2351  2015-11-16 00:24:50 +0000   \n",
       "2352  2015-11-16 00:04:52 +0000   \n",
       "2353  2015-11-15 23:21:54 +0000   \n",
       "2354  2015-11-15 23:05:30 +0000   \n",
       "2355  2015-11-15 22:32:08 +0000   \n",
       "\n",
       "                                                 source  \\\n",
       "0     <a href=\"http://twitter.com/download/iphone\" r...   \n",
       "1     <a href=\"http://twitter.com/download/iphone\" r...   \n",
       "2     <a href=\"http://twitter.com/download/iphone\" r...   \n",
       "3     <a href=\"http://twitter.com/download/iphone\" r...   \n",
       "4     <a href=\"http://twitter.com/download/iphone\" r...   \n",
       "...                                                 ...   \n",
       "2351  <a href=\"http://twitter.com/download/iphone\" r...   \n",
       "2352  <a href=\"http://twitter.com/download/iphone\" r...   \n",
       "2353  <a href=\"http://twitter.com/download/iphone\" r...   \n",
       "2354  <a href=\"http://twitter.com/download/iphone\" r...   \n",
       "2355  <a href=\"http://twitter.com/download/iphone\" r...   \n",
       "\n",
       "                                                   text  retweeted_status_id  \\\n",
       "0     This is Phineas. He's a mystical boy. Only eve...                  NaN   \n",
       "1     This is Tilly. She's just checking pup on you....                  NaN   \n",
       "2     This is Archie. He is a rare Norwegian Pouncin...                  NaN   \n",
       "3     This is Darla. She commenced a snooze mid meal...                  NaN   \n",
       "4     This is Franklin. He would like you to stop ca...                  NaN   \n",
       "...                                                 ...                  ...   \n",
       "2351  Here we have a 1949 1st generation vulpix. Enj...                  NaN   \n",
       "2352  This is a purebred Piers Morgan. Loves to Netf...                  NaN   \n",
       "2353  Here is a very happy pup. Big fan of well-main...                  NaN   \n",
       "2354  This is a western brown Mitsubishi terrier. Up...                  NaN   \n",
       "2355  Here we have a Japanese Irish Setter. Lost eye...                  NaN   \n",
       "\n",
       "      retweeted_status_user_id retweeted_status_timestamp  \\\n",
       "0                          NaN                        NaN   \n",
       "1                          NaN                        NaN   \n",
       "2                          NaN                        NaN   \n",
       "3                          NaN                        NaN   \n",
       "4                          NaN                        NaN   \n",
       "...                        ...                        ...   \n",
       "2351                       NaN                        NaN   \n",
       "2352                       NaN                        NaN   \n",
       "2353                       NaN                        NaN   \n",
       "2354                       NaN                        NaN   \n",
       "2355                       NaN                        NaN   \n",
       "\n",
       "                                          expanded_urls  rating_numerator  \\\n",
       "0     https://twitter.com/dog_rates/status/892420643...                13   \n",
       "1     https://twitter.com/dog_rates/status/892177421...                13   \n",
       "2     https://twitter.com/dog_rates/status/891815181...                12   \n",
       "3     https://twitter.com/dog_rates/status/891689557...                13   \n",
       "4     https://twitter.com/dog_rates/status/891327558...                12   \n",
       "...                                                 ...               ...   \n",
       "2351  https://twitter.com/dog_rates/status/666049248...                 5   \n",
       "2352  https://twitter.com/dog_rates/status/666044226...                 6   \n",
       "2353  https://twitter.com/dog_rates/status/666033412...                 9   \n",
       "2354  https://twitter.com/dog_rates/status/666029285...                 7   \n",
       "2355  https://twitter.com/dog_rates/status/666020888...                 8   \n",
       "\n",
       "      rating_denominator      name doggo floofer pupper puppo  \n",
       "0                     10   Phineas  None    None   None  None  \n",
       "1                     10     Tilly  None    None   None  None  \n",
       "2                     10    Archie  None    None   None  None  \n",
       "3                     10     Darla  None    None   None  None  \n",
       "4                     10  Franklin  None    None   None  None  \n",
       "...                  ...       ...   ...     ...    ...   ...  \n",
       "2351                  10      None  None    None   None  None  \n",
       "2352                  10         a  None    None   None  None  \n",
       "2353                  10         a  None    None   None  None  \n",
       "2354                  10         a  None    None   None  None  \n",
       "2355                  10      None  None    None   None  None  \n",
       "\n",
       "[2356 rows x 17 columns]"
      ]
     },
     "execution_count": 7,
     "metadata": {},
     "output_type": "execute_result"
    }
   ],
   "source": [
    "archieve = pd.read_csv('twitter-archive-enhanced.csv')\n",
    "archieve"
   ]
  },
  {
   "cell_type": "code",
   "execution_count": 8,
   "id": "coated-mailing",
   "metadata": {},
   "outputs": [
    {
     "data": {
      "text/html": [
       "<div>\n",
       "<style scoped>\n",
       "    .dataframe tbody tr th:only-of-type {\n",
       "        vertical-align: middle;\n",
       "    }\n",
       "\n",
       "    .dataframe tbody tr th {\n",
       "        vertical-align: top;\n",
       "    }\n",
       "\n",
       "    .dataframe thead th {\n",
       "        text-align: right;\n",
       "    }\n",
       "</style>\n",
       "<table border=\"1\" class=\"dataframe\">\n",
       "  <thead>\n",
       "    <tr style=\"text-align: right;\">\n",
       "      <th></th>\n",
       "      <th>tweet_id</th>\n",
       "      <th>retweet_count</th>\n",
       "      <th>favorite_count</th>\n",
       "    </tr>\n",
       "  </thead>\n",
       "  <tbody>\n",
       "    <tr>\n",
       "      <th>2201</th>\n",
       "      <td>668641109086707712</td>\n",
       "      <td>573</td>\n",
       "      <td>1145</td>\n",
       "    </tr>\n",
       "    <tr>\n",
       "      <th>1547</th>\n",
       "      <td>689255633275777024</td>\n",
       "      <td>1212</td>\n",
       "      <td>2805</td>\n",
       "    </tr>\n",
       "    <tr>\n",
       "      <th>25</th>\n",
       "      <td>886983233522544640</td>\n",
       "      <td>8084</td>\n",
       "      <td>35859</td>\n",
       "    </tr>\n",
       "    <tr>\n",
       "      <th>330</th>\n",
       "      <td>832998151111966720</td>\n",
       "      <td>2522</td>\n",
       "      <td>14549</td>\n",
       "    </tr>\n",
       "    <tr>\n",
       "      <th>1052</th>\n",
       "      <td>742423170473463808</td>\n",
       "      <td>4319</td>\n",
       "      <td>10812</td>\n",
       "    </tr>\n",
       "    <tr>\n",
       "      <th>1404</th>\n",
       "      <td>699088579889332224</td>\n",
       "      <td>715</td>\n",
       "      <td>2451</td>\n",
       "    </tr>\n",
       "    <tr>\n",
       "      <th>241</th>\n",
       "      <td>846153765933735936</td>\n",
       "      <td>10226</td>\n",
       "      <td>34394</td>\n",
       "    </tr>\n",
       "    <tr>\n",
       "      <th>622</th>\n",
       "      <td>796031486298386432</td>\n",
       "      <td>4284</td>\n",
       "      <td>12071</td>\n",
       "    </tr>\n",
       "    <tr>\n",
       "      <th>126</th>\n",
       "      <td>867900495410671616</td>\n",
       "      <td>4439</td>\n",
       "      <td>24964</td>\n",
       "    </tr>\n",
       "    <tr>\n",
       "      <th>478</th>\n",
       "      <td>815745968457060352</td>\n",
       "      <td>4797</td>\n",
       "      <td>0</td>\n",
       "    </tr>\n",
       "  </tbody>\n",
       "</table>\n",
       "</div>"
      ],
      "text/plain": [
       "                tweet_id  retweet_count  favorite_count\n",
       "2201  668641109086707712            573            1145\n",
       "1547  689255633275777024           1212            2805\n",
       "25    886983233522544640           8084           35859\n",
       "330   832998151111966720           2522           14549\n",
       "1052  742423170473463808           4319           10812\n",
       "1404  699088579889332224            715            2451\n",
       "241   846153765933735936          10226           34394\n",
       "622   796031486298386432           4284           12071\n",
       "126   867900495410671616           4439           24964\n",
       "478   815745968457060352           4797               0"
      ]
     },
     "execution_count": 8,
     "metadata": {},
     "output_type": "execute_result"
    }
   ],
   "source": [
    "tweets.sample(10)"
   ]
  },
  {
   "cell_type": "code",
   "execution_count": 9,
   "id": "important-chosen",
   "metadata": {},
   "outputs": [
    {
     "name": "stdout",
     "output_type": "stream",
     "text": [
      "<class 'pandas.core.frame.DataFrame'>\n",
      "RangeIndex: 2354 entries, 0 to 2353\n",
      "Data columns (total 3 columns):\n",
      " #   Column          Non-Null Count  Dtype\n",
      "---  ------          --------------  -----\n",
      " 0   tweet_id        2354 non-null   int64\n",
      " 1   retweet_count   2354 non-null   int64\n",
      " 2   favorite_count  2354 non-null   int64\n",
      "dtypes: int64(3)\n",
      "memory usage: 55.3 KB\n"
     ]
    }
   ],
   "source": [
    "tweets.info()"
   ]
  },
  {
   "cell_type": "code",
   "execution_count": 10,
   "id": "geological-medline",
   "metadata": {},
   "outputs": [
    {
     "data": {
      "text/html": [
       "<div>\n",
       "<style scoped>\n",
       "    .dataframe tbody tr th:only-of-type {\n",
       "        vertical-align: middle;\n",
       "    }\n",
       "\n",
       "    .dataframe tbody tr th {\n",
       "        vertical-align: top;\n",
       "    }\n",
       "\n",
       "    .dataframe thead th {\n",
       "        text-align: right;\n",
       "    }\n",
       "</style>\n",
       "<table border=\"1\" class=\"dataframe\">\n",
       "  <thead>\n",
       "    <tr style=\"text-align: right;\">\n",
       "      <th></th>\n",
       "      <th>tweet_id</th>\n",
       "      <th>retweet_count</th>\n",
       "      <th>favorite_count</th>\n",
       "    </tr>\n",
       "  </thead>\n",
       "  <tbody>\n",
       "    <tr>\n",
       "      <th>count</th>\n",
       "      <td>2.354000e+03</td>\n",
       "      <td>2354.000000</td>\n",
       "      <td>2354.000000</td>\n",
       "    </tr>\n",
       "    <tr>\n",
       "      <th>mean</th>\n",
       "      <td>7.426978e+17</td>\n",
       "      <td>3164.797366</td>\n",
       "      <td>8080.968564</td>\n",
       "    </tr>\n",
       "    <tr>\n",
       "      <th>std</th>\n",
       "      <td>6.852812e+16</td>\n",
       "      <td>5284.770364</td>\n",
       "      <td>11814.771334</td>\n",
       "    </tr>\n",
       "    <tr>\n",
       "      <th>min</th>\n",
       "      <td>6.660209e+17</td>\n",
       "      <td>0.000000</td>\n",
       "      <td>0.000000</td>\n",
       "    </tr>\n",
       "    <tr>\n",
       "      <th>25%</th>\n",
       "      <td>6.783975e+17</td>\n",
       "      <td>624.500000</td>\n",
       "      <td>1415.000000</td>\n",
       "    </tr>\n",
       "    <tr>\n",
       "      <th>50%</th>\n",
       "      <td>7.194596e+17</td>\n",
       "      <td>1473.500000</td>\n",
       "      <td>3603.500000</td>\n",
       "    </tr>\n",
       "    <tr>\n",
       "      <th>75%</th>\n",
       "      <td>7.993058e+17</td>\n",
       "      <td>3652.000000</td>\n",
       "      <td>10122.250000</td>\n",
       "    </tr>\n",
       "    <tr>\n",
       "      <th>max</th>\n",
       "      <td>8.924206e+17</td>\n",
       "      <td>79515.000000</td>\n",
       "      <td>132810.000000</td>\n",
       "    </tr>\n",
       "  </tbody>\n",
       "</table>\n",
       "</div>"
      ],
      "text/plain": [
       "           tweet_id  retweet_count  favorite_count\n",
       "count  2.354000e+03    2354.000000     2354.000000\n",
       "mean   7.426978e+17    3164.797366     8080.968564\n",
       "std    6.852812e+16    5284.770364    11814.771334\n",
       "min    6.660209e+17       0.000000        0.000000\n",
       "25%    6.783975e+17     624.500000     1415.000000\n",
       "50%    7.194596e+17    1473.500000     3603.500000\n",
       "75%    7.993058e+17    3652.000000    10122.250000\n",
       "max    8.924206e+17   79515.000000   132810.000000"
      ]
     },
     "execution_count": 10,
     "metadata": {},
     "output_type": "execute_result"
    }
   ],
   "source": [
    "tweets.describe()"
   ]
  },
  {
   "cell_type": "code",
   "execution_count": 11,
   "id": "arbitrary-dominican",
   "metadata": {},
   "outputs": [
    {
     "name": "stdout",
     "output_type": "stream",
     "text": [
      "<class 'pandas.core.frame.DataFrame'>\n",
      "RangeIndex: 2356 entries, 0 to 2355\n",
      "Data columns (total 17 columns):\n",
      " #   Column                      Non-Null Count  Dtype  \n",
      "---  ------                      --------------  -----  \n",
      " 0   tweet_id                    2356 non-null   int64  \n",
      " 1   in_reply_to_status_id       78 non-null     float64\n",
      " 2   in_reply_to_user_id         78 non-null     float64\n",
      " 3   timestamp                   2356 non-null   object \n",
      " 4   source                      2356 non-null   object \n",
      " 5   text                        2356 non-null   object \n",
      " 6   retweeted_status_id         181 non-null    float64\n",
      " 7   retweeted_status_user_id    181 non-null    float64\n",
      " 8   retweeted_status_timestamp  181 non-null    object \n",
      " 9   expanded_urls               2297 non-null   object \n",
      " 10  rating_numerator            2356 non-null   int64  \n",
      " 11  rating_denominator          2356 non-null   int64  \n",
      " 12  name                        2356 non-null   object \n",
      " 13  doggo                       2356 non-null   object \n",
      " 14  floofer                     2356 non-null   object \n",
      " 15  pupper                      2356 non-null   object \n",
      " 16  puppo                       2356 non-null   object \n",
      "dtypes: float64(4), int64(3), object(10)\n",
      "memory usage: 313.0+ KB\n"
     ]
    }
   ],
   "source": [
    "archieve.info()"
   ]
  },
  {
   "cell_type": "code",
   "execution_count": 12,
   "id": "latin-telephone",
   "metadata": {},
   "outputs": [
    {
     "data": {
      "text/html": [
       "<div>\n",
       "<style scoped>\n",
       "    .dataframe tbody tr th:only-of-type {\n",
       "        vertical-align: middle;\n",
       "    }\n",
       "\n",
       "    .dataframe tbody tr th {\n",
       "        vertical-align: top;\n",
       "    }\n",
       "\n",
       "    .dataframe thead th {\n",
       "        text-align: right;\n",
       "    }\n",
       "</style>\n",
       "<table border=\"1\" class=\"dataframe\">\n",
       "  <thead>\n",
       "    <tr style=\"text-align: right;\">\n",
       "      <th></th>\n",
       "      <th>tweet_id</th>\n",
       "      <th>in_reply_to_status_id</th>\n",
       "      <th>in_reply_to_user_id</th>\n",
       "      <th>timestamp</th>\n",
       "      <th>source</th>\n",
       "      <th>text</th>\n",
       "      <th>retweeted_status_id</th>\n",
       "      <th>retweeted_status_user_id</th>\n",
       "      <th>retweeted_status_timestamp</th>\n",
       "      <th>expanded_urls</th>\n",
       "      <th>rating_numerator</th>\n",
       "      <th>rating_denominator</th>\n",
       "      <th>name</th>\n",
       "      <th>doggo</th>\n",
       "      <th>floofer</th>\n",
       "      <th>pupper</th>\n",
       "      <th>puppo</th>\n",
       "    </tr>\n",
       "  </thead>\n",
       "  <tbody>\n",
       "    <tr>\n",
       "      <th>0</th>\n",
       "      <td>892420643555336193</td>\n",
       "      <td>NaN</td>\n",
       "      <td>NaN</td>\n",
       "      <td>2017-08-01 16:23:56 +0000</td>\n",
       "      <td>&lt;a href=\"http://twitter.com/download/iphone\" r...</td>\n",
       "      <td>This is Phineas. He's a mystical boy. Only eve...</td>\n",
       "      <td>NaN</td>\n",
       "      <td>NaN</td>\n",
       "      <td>NaN</td>\n",
       "      <td>https://twitter.com/dog_rates/status/892420643...</td>\n",
       "      <td>13</td>\n",
       "      <td>10</td>\n",
       "      <td>Phineas</td>\n",
       "      <td>None</td>\n",
       "      <td>None</td>\n",
       "      <td>None</td>\n",
       "      <td>None</td>\n",
       "    </tr>\n",
       "    <tr>\n",
       "      <th>1</th>\n",
       "      <td>892177421306343426</td>\n",
       "      <td>NaN</td>\n",
       "      <td>NaN</td>\n",
       "      <td>2017-08-01 00:17:27 +0000</td>\n",
       "      <td>&lt;a href=\"http://twitter.com/download/iphone\" r...</td>\n",
       "      <td>This is Tilly. She's just checking pup on you....</td>\n",
       "      <td>NaN</td>\n",
       "      <td>NaN</td>\n",
       "      <td>NaN</td>\n",
       "      <td>https://twitter.com/dog_rates/status/892177421...</td>\n",
       "      <td>13</td>\n",
       "      <td>10</td>\n",
       "      <td>Tilly</td>\n",
       "      <td>None</td>\n",
       "      <td>None</td>\n",
       "      <td>None</td>\n",
       "      <td>None</td>\n",
       "    </tr>\n",
       "    <tr>\n",
       "      <th>2</th>\n",
       "      <td>891815181378084864</td>\n",
       "      <td>NaN</td>\n",
       "      <td>NaN</td>\n",
       "      <td>2017-07-31 00:18:03 +0000</td>\n",
       "      <td>&lt;a href=\"http://twitter.com/download/iphone\" r...</td>\n",
       "      <td>This is Archie. He is a rare Norwegian Pouncin...</td>\n",
       "      <td>NaN</td>\n",
       "      <td>NaN</td>\n",
       "      <td>NaN</td>\n",
       "      <td>https://twitter.com/dog_rates/status/891815181...</td>\n",
       "      <td>12</td>\n",
       "      <td>10</td>\n",
       "      <td>Archie</td>\n",
       "      <td>None</td>\n",
       "      <td>None</td>\n",
       "      <td>None</td>\n",
       "      <td>None</td>\n",
       "    </tr>\n",
       "    <tr>\n",
       "      <th>3</th>\n",
       "      <td>891689557279858688</td>\n",
       "      <td>NaN</td>\n",
       "      <td>NaN</td>\n",
       "      <td>2017-07-30 15:58:51 +0000</td>\n",
       "      <td>&lt;a href=\"http://twitter.com/download/iphone\" r...</td>\n",
       "      <td>This is Darla. She commenced a snooze mid meal...</td>\n",
       "      <td>NaN</td>\n",
       "      <td>NaN</td>\n",
       "      <td>NaN</td>\n",
       "      <td>https://twitter.com/dog_rates/status/891689557...</td>\n",
       "      <td>13</td>\n",
       "      <td>10</td>\n",
       "      <td>Darla</td>\n",
       "      <td>None</td>\n",
       "      <td>None</td>\n",
       "      <td>None</td>\n",
       "      <td>None</td>\n",
       "    </tr>\n",
       "    <tr>\n",
       "      <th>4</th>\n",
       "      <td>891327558926688256</td>\n",
       "      <td>NaN</td>\n",
       "      <td>NaN</td>\n",
       "      <td>2017-07-29 16:00:24 +0000</td>\n",
       "      <td>&lt;a href=\"http://twitter.com/download/iphone\" r...</td>\n",
       "      <td>This is Franklin. He would like you to stop ca...</td>\n",
       "      <td>NaN</td>\n",
       "      <td>NaN</td>\n",
       "      <td>NaN</td>\n",
       "      <td>https://twitter.com/dog_rates/status/891327558...</td>\n",
       "      <td>12</td>\n",
       "      <td>10</td>\n",
       "      <td>Franklin</td>\n",
       "      <td>None</td>\n",
       "      <td>None</td>\n",
       "      <td>None</td>\n",
       "      <td>None</td>\n",
       "    </tr>\n",
       "  </tbody>\n",
       "</table>\n",
       "</div>"
      ],
      "text/plain": [
       "             tweet_id  in_reply_to_status_id  in_reply_to_user_id  \\\n",
       "0  892420643555336193                    NaN                  NaN   \n",
       "1  892177421306343426                    NaN                  NaN   \n",
       "2  891815181378084864                    NaN                  NaN   \n",
       "3  891689557279858688                    NaN                  NaN   \n",
       "4  891327558926688256                    NaN                  NaN   \n",
       "\n",
       "                   timestamp  \\\n",
       "0  2017-08-01 16:23:56 +0000   \n",
       "1  2017-08-01 00:17:27 +0000   \n",
       "2  2017-07-31 00:18:03 +0000   \n",
       "3  2017-07-30 15:58:51 +0000   \n",
       "4  2017-07-29 16:00:24 +0000   \n",
       "\n",
       "                                              source  \\\n",
       "0  <a href=\"http://twitter.com/download/iphone\" r...   \n",
       "1  <a href=\"http://twitter.com/download/iphone\" r...   \n",
       "2  <a href=\"http://twitter.com/download/iphone\" r...   \n",
       "3  <a href=\"http://twitter.com/download/iphone\" r...   \n",
       "4  <a href=\"http://twitter.com/download/iphone\" r...   \n",
       "\n",
       "                                                text  retweeted_status_id  \\\n",
       "0  This is Phineas. He's a mystical boy. Only eve...                  NaN   \n",
       "1  This is Tilly. She's just checking pup on you....                  NaN   \n",
       "2  This is Archie. He is a rare Norwegian Pouncin...                  NaN   \n",
       "3  This is Darla. She commenced a snooze mid meal...                  NaN   \n",
       "4  This is Franklin. He would like you to stop ca...                  NaN   \n",
       "\n",
       "   retweeted_status_user_id retweeted_status_timestamp  \\\n",
       "0                       NaN                        NaN   \n",
       "1                       NaN                        NaN   \n",
       "2                       NaN                        NaN   \n",
       "3                       NaN                        NaN   \n",
       "4                       NaN                        NaN   \n",
       "\n",
       "                                       expanded_urls  rating_numerator  \\\n",
       "0  https://twitter.com/dog_rates/status/892420643...                13   \n",
       "1  https://twitter.com/dog_rates/status/892177421...                13   \n",
       "2  https://twitter.com/dog_rates/status/891815181...                12   \n",
       "3  https://twitter.com/dog_rates/status/891689557...                13   \n",
       "4  https://twitter.com/dog_rates/status/891327558...                12   \n",
       "\n",
       "   rating_denominator      name doggo floofer pupper puppo  \n",
       "0                  10   Phineas  None    None   None  None  \n",
       "1                  10     Tilly  None    None   None  None  \n",
       "2                  10    Archie  None    None   None  None  \n",
       "3                  10     Darla  None    None   None  None  \n",
       "4                  10  Franklin  None    None   None  None  "
      ]
     },
     "execution_count": 12,
     "metadata": {},
     "output_type": "execute_result"
    }
   ],
   "source": [
    "archieve.head()"
   ]
  },
  {
   "cell_type": "code",
   "execution_count": 13,
   "id": "timely-smooth",
   "metadata": {},
   "outputs": [
    {
     "data": {
      "text/html": [
       "<div>\n",
       "<style scoped>\n",
       "    .dataframe tbody tr th:only-of-type {\n",
       "        vertical-align: middle;\n",
       "    }\n",
       "\n",
       "    .dataframe tbody tr th {\n",
       "        vertical-align: top;\n",
       "    }\n",
       "\n",
       "    .dataframe thead th {\n",
       "        text-align: right;\n",
       "    }\n",
       "</style>\n",
       "<table border=\"1\" class=\"dataframe\">\n",
       "  <thead>\n",
       "    <tr style=\"text-align: right;\">\n",
       "      <th></th>\n",
       "      <th>tweet_id</th>\n",
       "      <th>in_reply_to_status_id</th>\n",
       "      <th>in_reply_to_user_id</th>\n",
       "      <th>timestamp</th>\n",
       "      <th>source</th>\n",
       "      <th>text</th>\n",
       "      <th>retweeted_status_id</th>\n",
       "      <th>retweeted_status_user_id</th>\n",
       "      <th>retweeted_status_timestamp</th>\n",
       "      <th>expanded_urls</th>\n",
       "      <th>rating_numerator</th>\n",
       "      <th>rating_denominator</th>\n",
       "      <th>name</th>\n",
       "      <th>doggo</th>\n",
       "      <th>floofer</th>\n",
       "      <th>pupper</th>\n",
       "      <th>puppo</th>\n",
       "    </tr>\n",
       "  </thead>\n",
       "  <tbody>\n",
       "    <tr>\n",
       "      <th>1233</th>\n",
       "      <td>712809025985978368</td>\n",
       "      <td>NaN</td>\n",
       "      <td>NaN</td>\n",
       "      <td>2016-03-24 01:11:29 +0000</td>\n",
       "      <td>&lt;a href=\"http://twitter.com/download/iphone\" r...</td>\n",
       "      <td>This is Stubert. He just arrived. 10/10 https:...</td>\n",
       "      <td>NaN</td>\n",
       "      <td>NaN</td>\n",
       "      <td>NaN</td>\n",
       "      <td>https://twitter.com/dog_rates/status/712809025...</td>\n",
       "      <td>10</td>\n",
       "      <td>10</td>\n",
       "      <td>Stubert</td>\n",
       "      <td>None</td>\n",
       "      <td>None</td>\n",
       "      <td>None</td>\n",
       "      <td>None</td>\n",
       "    </tr>\n",
       "    <tr>\n",
       "      <th>2022</th>\n",
       "      <td>672068090318987265</td>\n",
       "      <td>NaN</td>\n",
       "      <td>NaN</td>\n",
       "      <td>2015-12-02 15:01:33 +0000</td>\n",
       "      <td>&lt;a href=\"http://twitter.com/download/iphone\" r...</td>\n",
       "      <td>Say hello to Gizmo. He's upset because he's no...</td>\n",
       "      <td>NaN</td>\n",
       "      <td>NaN</td>\n",
       "      <td>NaN</td>\n",
       "      <td>https://twitter.com/dog_rates/status/672068090...</td>\n",
       "      <td>7</td>\n",
       "      <td>10</td>\n",
       "      <td>Gizmo</td>\n",
       "      <td>None</td>\n",
       "      <td>None</td>\n",
       "      <td>None</td>\n",
       "      <td>None</td>\n",
       "    </tr>\n",
       "    <tr>\n",
       "      <th>1844</th>\n",
       "      <td>675849018447167488</td>\n",
       "      <td>6.758457e+17</td>\n",
       "      <td>4.196984e+09</td>\n",
       "      <td>2015-12-13 01:25:37 +0000</td>\n",
       "      <td>&lt;a href=\"http://twitter.com/download/iphone\" r...</td>\n",
       "      <td>This dog is being demoted to a 9/10 for not we...</td>\n",
       "      <td>NaN</td>\n",
       "      <td>NaN</td>\n",
       "      <td>NaN</td>\n",
       "      <td>NaN</td>\n",
       "      <td>9</td>\n",
       "      <td>10</td>\n",
       "      <td>None</td>\n",
       "      <td>None</td>\n",
       "      <td>None</td>\n",
       "      <td>None</td>\n",
       "      <td>None</td>\n",
       "    </tr>\n",
       "    <tr>\n",
       "      <th>129</th>\n",
       "      <td>867421006826221569</td>\n",
       "      <td>NaN</td>\n",
       "      <td>NaN</td>\n",
       "      <td>2017-05-24 16:44:18 +0000</td>\n",
       "      <td>&lt;a href=\"http://twitter.com/download/iphone\" r...</td>\n",
       "      <td>This is Shikha. She just watched you drop a sk...</td>\n",
       "      <td>NaN</td>\n",
       "      <td>NaN</td>\n",
       "      <td>NaN</td>\n",
       "      <td>https://twitter.com/dog_rates/status/867421006...</td>\n",
       "      <td>12</td>\n",
       "      <td>10</td>\n",
       "      <td>Shikha</td>\n",
       "      <td>None</td>\n",
       "      <td>None</td>\n",
       "      <td>None</td>\n",
       "      <td>puppo</td>\n",
       "    </tr>\n",
       "    <tr>\n",
       "      <th>2085</th>\n",
       "      <td>670804601705242624</td>\n",
       "      <td>NaN</td>\n",
       "      <td>NaN</td>\n",
       "      <td>2015-11-29 03:20:54 +0000</td>\n",
       "      <td>&lt;a href=\"http://twitter.com/download/iphone\" r...</td>\n",
       "      <td>Meet Mason. He's a total frat boy. Pretends to...</td>\n",
       "      <td>NaN</td>\n",
       "      <td>NaN</td>\n",
       "      <td>NaN</td>\n",
       "      <td>https://twitter.com/dog_rates/status/670804601...</td>\n",
       "      <td>10</td>\n",
       "      <td>10</td>\n",
       "      <td>Mason</td>\n",
       "      <td>None</td>\n",
       "      <td>None</td>\n",
       "      <td>None</td>\n",
       "      <td>None</td>\n",
       "    </tr>\n",
       "    <tr>\n",
       "      <th>395</th>\n",
       "      <td>825535076884762624</td>\n",
       "      <td>NaN</td>\n",
       "      <td>NaN</td>\n",
       "      <td>2017-01-29 02:44:34 +0000</td>\n",
       "      <td>&lt;a href=\"http://twitter.com/download/iphone\" r...</td>\n",
       "      <td>Here's a very loving and accepting puppo. Appe...</td>\n",
       "      <td>NaN</td>\n",
       "      <td>NaN</td>\n",
       "      <td>NaN</td>\n",
       "      <td>https://twitter.com/dog_rates/status/825535076...</td>\n",
       "      <td>14</td>\n",
       "      <td>10</td>\n",
       "      <td>None</td>\n",
       "      <td>None</td>\n",
       "      <td>None</td>\n",
       "      <td>None</td>\n",
       "      <td>puppo</td>\n",
       "    </tr>\n",
       "    <tr>\n",
       "      <th>1968</th>\n",
       "      <td>673320132811366400</td>\n",
       "      <td>NaN</td>\n",
       "      <td>NaN</td>\n",
       "      <td>2015-12-06 01:56:44 +0000</td>\n",
       "      <td>&lt;a href=\"http://twitter.com/download/iphone\" r...</td>\n",
       "      <td>This is Frankie. He's wearing blush. 11/10 rea...</td>\n",
       "      <td>NaN</td>\n",
       "      <td>NaN</td>\n",
       "      <td>NaN</td>\n",
       "      <td>https://twitter.com/dog_rates/status/673320132...</td>\n",
       "      <td>11</td>\n",
       "      <td>10</td>\n",
       "      <td>Frankie</td>\n",
       "      <td>None</td>\n",
       "      <td>None</td>\n",
       "      <td>None</td>\n",
       "      <td>None</td>\n",
       "    </tr>\n",
       "    <tr>\n",
       "      <th>506</th>\n",
       "      <td>812747805718642688</td>\n",
       "      <td>NaN</td>\n",
       "      <td>NaN</td>\n",
       "      <td>2016-12-24 19:52:31 +0000</td>\n",
       "      <td>&lt;a href=\"http://twitter.com/download/iphone\" r...</td>\n",
       "      <td>RT @dog_rates: Meet Sammy. At first I was like...</td>\n",
       "      <td>6.800555e+17</td>\n",
       "      <td>4.196984e+09</td>\n",
       "      <td>2015-12-24 16:00:30 +0000</td>\n",
       "      <td>https://twitter.com/dog_rates/status/680055455...</td>\n",
       "      <td>10</td>\n",
       "      <td>10</td>\n",
       "      <td>Sammy</td>\n",
       "      <td>None</td>\n",
       "      <td>None</td>\n",
       "      <td>None</td>\n",
       "      <td>None</td>\n",
       "    </tr>\n",
       "    <tr>\n",
       "      <th>1307</th>\n",
       "      <td>707315916783140866</td>\n",
       "      <td>NaN</td>\n",
       "      <td>NaN</td>\n",
       "      <td>2016-03-08 21:23:50 +0000</td>\n",
       "      <td>&lt;a href=\"http://twitter.com/download/iphone\" r...</td>\n",
       "      <td>This is Finnegus. He's trapped in a snow globe...</td>\n",
       "      <td>NaN</td>\n",
       "      <td>NaN</td>\n",
       "      <td>NaN</td>\n",
       "      <td>https://twitter.com/dog_rates/status/707315916...</td>\n",
       "      <td>10</td>\n",
       "      <td>10</td>\n",
       "      <td>Finnegus</td>\n",
       "      <td>None</td>\n",
       "      <td>None</td>\n",
       "      <td>pupper</td>\n",
       "      <td>None</td>\n",
       "    </tr>\n",
       "    <tr>\n",
       "      <th>532</th>\n",
       "      <td>808001312164028416</td>\n",
       "      <td>NaN</td>\n",
       "      <td>NaN</td>\n",
       "      <td>2016-12-11 17:31:39 +0000</td>\n",
       "      <td>&lt;a href=\"http://twitter.com/download/iphone\" r...</td>\n",
       "      <td>This is Cooper. He likes to stick his tongue o...</td>\n",
       "      <td>NaN</td>\n",
       "      <td>NaN</td>\n",
       "      <td>NaN</td>\n",
       "      <td>https://twitter.com/dog_rates/status/808001312...</td>\n",
       "      <td>12</td>\n",
       "      <td>10</td>\n",
       "      <td>Cooper</td>\n",
       "      <td>None</td>\n",
       "      <td>None</td>\n",
       "      <td>None</td>\n",
       "      <td>None</td>\n",
       "    </tr>\n",
       "  </tbody>\n",
       "</table>\n",
       "</div>"
      ],
      "text/plain": [
       "                tweet_id  in_reply_to_status_id  in_reply_to_user_id  \\\n",
       "1233  712809025985978368                    NaN                  NaN   \n",
       "2022  672068090318987265                    NaN                  NaN   \n",
       "1844  675849018447167488           6.758457e+17         4.196984e+09   \n",
       "129   867421006826221569                    NaN                  NaN   \n",
       "2085  670804601705242624                    NaN                  NaN   \n",
       "395   825535076884762624                    NaN                  NaN   \n",
       "1968  673320132811366400                    NaN                  NaN   \n",
       "506   812747805718642688                    NaN                  NaN   \n",
       "1307  707315916783140866                    NaN                  NaN   \n",
       "532   808001312164028416                    NaN                  NaN   \n",
       "\n",
       "                      timestamp  \\\n",
       "1233  2016-03-24 01:11:29 +0000   \n",
       "2022  2015-12-02 15:01:33 +0000   \n",
       "1844  2015-12-13 01:25:37 +0000   \n",
       "129   2017-05-24 16:44:18 +0000   \n",
       "2085  2015-11-29 03:20:54 +0000   \n",
       "395   2017-01-29 02:44:34 +0000   \n",
       "1968  2015-12-06 01:56:44 +0000   \n",
       "506   2016-12-24 19:52:31 +0000   \n",
       "1307  2016-03-08 21:23:50 +0000   \n",
       "532   2016-12-11 17:31:39 +0000   \n",
       "\n",
       "                                                 source  \\\n",
       "1233  <a href=\"http://twitter.com/download/iphone\" r...   \n",
       "2022  <a href=\"http://twitter.com/download/iphone\" r...   \n",
       "1844  <a href=\"http://twitter.com/download/iphone\" r...   \n",
       "129   <a href=\"http://twitter.com/download/iphone\" r...   \n",
       "2085  <a href=\"http://twitter.com/download/iphone\" r...   \n",
       "395   <a href=\"http://twitter.com/download/iphone\" r...   \n",
       "1968  <a href=\"http://twitter.com/download/iphone\" r...   \n",
       "506   <a href=\"http://twitter.com/download/iphone\" r...   \n",
       "1307  <a href=\"http://twitter.com/download/iphone\" r...   \n",
       "532   <a href=\"http://twitter.com/download/iphone\" r...   \n",
       "\n",
       "                                                   text  retweeted_status_id  \\\n",
       "1233  This is Stubert. He just arrived. 10/10 https:...                  NaN   \n",
       "2022  Say hello to Gizmo. He's upset because he's no...                  NaN   \n",
       "1844  This dog is being demoted to a 9/10 for not we...                  NaN   \n",
       "129   This is Shikha. She just watched you drop a sk...                  NaN   \n",
       "2085  Meet Mason. He's a total frat boy. Pretends to...                  NaN   \n",
       "395   Here's a very loving and accepting puppo. Appe...                  NaN   \n",
       "1968  This is Frankie. He's wearing blush. 11/10 rea...                  NaN   \n",
       "506   RT @dog_rates: Meet Sammy. At first I was like...         6.800555e+17   \n",
       "1307  This is Finnegus. He's trapped in a snow globe...                  NaN   \n",
       "532   This is Cooper. He likes to stick his tongue o...                  NaN   \n",
       "\n",
       "      retweeted_status_user_id retweeted_status_timestamp  \\\n",
       "1233                       NaN                        NaN   \n",
       "2022                       NaN                        NaN   \n",
       "1844                       NaN                        NaN   \n",
       "129                        NaN                        NaN   \n",
       "2085                       NaN                        NaN   \n",
       "395                        NaN                        NaN   \n",
       "1968                       NaN                        NaN   \n",
       "506               4.196984e+09  2015-12-24 16:00:30 +0000   \n",
       "1307                       NaN                        NaN   \n",
       "532                        NaN                        NaN   \n",
       "\n",
       "                                          expanded_urls  rating_numerator  \\\n",
       "1233  https://twitter.com/dog_rates/status/712809025...                10   \n",
       "2022  https://twitter.com/dog_rates/status/672068090...                 7   \n",
       "1844                                                NaN                 9   \n",
       "129   https://twitter.com/dog_rates/status/867421006...                12   \n",
       "2085  https://twitter.com/dog_rates/status/670804601...                10   \n",
       "395   https://twitter.com/dog_rates/status/825535076...                14   \n",
       "1968  https://twitter.com/dog_rates/status/673320132...                11   \n",
       "506   https://twitter.com/dog_rates/status/680055455...                10   \n",
       "1307  https://twitter.com/dog_rates/status/707315916...                10   \n",
       "532   https://twitter.com/dog_rates/status/808001312...                12   \n",
       "\n",
       "      rating_denominator      name doggo floofer  pupper  puppo  \n",
       "1233                  10   Stubert  None    None    None   None  \n",
       "2022                  10     Gizmo  None    None    None   None  \n",
       "1844                  10      None  None    None    None   None  \n",
       "129                   10    Shikha  None    None    None  puppo  \n",
       "2085                  10     Mason  None    None    None   None  \n",
       "395                   10      None  None    None    None  puppo  \n",
       "1968                  10   Frankie  None    None    None   None  \n",
       "506                   10     Sammy  None    None    None   None  \n",
       "1307                  10  Finnegus  None    None  pupper   None  \n",
       "532                   10    Cooper  None    None    None   None  "
      ]
     },
     "execution_count": 13,
     "metadata": {},
     "output_type": "execute_result"
    }
   ],
   "source": [
    "archieve.sample(10)"
   ]
  },
  {
   "cell_type": "code",
   "execution_count": 14,
   "id": "sophisticated-shade",
   "metadata": {},
   "outputs": [
    {
     "data": {
      "text/html": [
       "<div>\n",
       "<style scoped>\n",
       "    .dataframe tbody tr th:only-of-type {\n",
       "        vertical-align: middle;\n",
       "    }\n",
       "\n",
       "    .dataframe tbody tr th {\n",
       "        vertical-align: top;\n",
       "    }\n",
       "\n",
       "    .dataframe thead th {\n",
       "        text-align: right;\n",
       "    }\n",
       "</style>\n",
       "<table border=\"1\" class=\"dataframe\">\n",
       "  <thead>\n",
       "    <tr style=\"text-align: right;\">\n",
       "      <th></th>\n",
       "      <th>tweet_id</th>\n",
       "      <th>in_reply_to_status_id</th>\n",
       "      <th>in_reply_to_user_id</th>\n",
       "      <th>retweeted_status_id</th>\n",
       "      <th>retweeted_status_user_id</th>\n",
       "      <th>rating_numerator</th>\n",
       "      <th>rating_denominator</th>\n",
       "    </tr>\n",
       "  </thead>\n",
       "  <tbody>\n",
       "    <tr>\n",
       "      <th>count</th>\n",
       "      <td>2.356000e+03</td>\n",
       "      <td>7.800000e+01</td>\n",
       "      <td>7.800000e+01</td>\n",
       "      <td>1.810000e+02</td>\n",
       "      <td>1.810000e+02</td>\n",
       "      <td>2356.000000</td>\n",
       "      <td>2356.000000</td>\n",
       "    </tr>\n",
       "    <tr>\n",
       "      <th>mean</th>\n",
       "      <td>7.427716e+17</td>\n",
       "      <td>7.455079e+17</td>\n",
       "      <td>2.014171e+16</td>\n",
       "      <td>7.720400e+17</td>\n",
       "      <td>1.241698e+16</td>\n",
       "      <td>13.126486</td>\n",
       "      <td>10.455433</td>\n",
       "    </tr>\n",
       "    <tr>\n",
       "      <th>std</th>\n",
       "      <td>6.856705e+16</td>\n",
       "      <td>7.582492e+16</td>\n",
       "      <td>1.252797e+17</td>\n",
       "      <td>6.236928e+16</td>\n",
       "      <td>9.599254e+16</td>\n",
       "      <td>45.876648</td>\n",
       "      <td>6.745237</td>\n",
       "    </tr>\n",
       "    <tr>\n",
       "      <th>min</th>\n",
       "      <td>6.660209e+17</td>\n",
       "      <td>6.658147e+17</td>\n",
       "      <td>1.185634e+07</td>\n",
       "      <td>6.661041e+17</td>\n",
       "      <td>7.832140e+05</td>\n",
       "      <td>0.000000</td>\n",
       "      <td>0.000000</td>\n",
       "    </tr>\n",
       "    <tr>\n",
       "      <th>25%</th>\n",
       "      <td>6.783989e+17</td>\n",
       "      <td>6.757419e+17</td>\n",
       "      <td>3.086374e+08</td>\n",
       "      <td>7.186315e+17</td>\n",
       "      <td>4.196984e+09</td>\n",
       "      <td>10.000000</td>\n",
       "      <td>10.000000</td>\n",
       "    </tr>\n",
       "    <tr>\n",
       "      <th>50%</th>\n",
       "      <td>7.196279e+17</td>\n",
       "      <td>7.038708e+17</td>\n",
       "      <td>4.196984e+09</td>\n",
       "      <td>7.804657e+17</td>\n",
       "      <td>4.196984e+09</td>\n",
       "      <td>11.000000</td>\n",
       "      <td>10.000000</td>\n",
       "    </tr>\n",
       "    <tr>\n",
       "      <th>75%</th>\n",
       "      <td>7.993373e+17</td>\n",
       "      <td>8.257804e+17</td>\n",
       "      <td>4.196984e+09</td>\n",
       "      <td>8.203146e+17</td>\n",
       "      <td>4.196984e+09</td>\n",
       "      <td>12.000000</td>\n",
       "      <td>10.000000</td>\n",
       "    </tr>\n",
       "    <tr>\n",
       "      <th>max</th>\n",
       "      <td>8.924206e+17</td>\n",
       "      <td>8.862664e+17</td>\n",
       "      <td>8.405479e+17</td>\n",
       "      <td>8.874740e+17</td>\n",
       "      <td>7.874618e+17</td>\n",
       "      <td>1776.000000</td>\n",
       "      <td>170.000000</td>\n",
       "    </tr>\n",
       "  </tbody>\n",
       "</table>\n",
       "</div>"
      ],
      "text/plain": [
       "           tweet_id  in_reply_to_status_id  in_reply_to_user_id  \\\n",
       "count  2.356000e+03           7.800000e+01         7.800000e+01   \n",
       "mean   7.427716e+17           7.455079e+17         2.014171e+16   \n",
       "std    6.856705e+16           7.582492e+16         1.252797e+17   \n",
       "min    6.660209e+17           6.658147e+17         1.185634e+07   \n",
       "25%    6.783989e+17           6.757419e+17         3.086374e+08   \n",
       "50%    7.196279e+17           7.038708e+17         4.196984e+09   \n",
       "75%    7.993373e+17           8.257804e+17         4.196984e+09   \n",
       "max    8.924206e+17           8.862664e+17         8.405479e+17   \n",
       "\n",
       "       retweeted_status_id  retweeted_status_user_id  rating_numerator  \\\n",
       "count         1.810000e+02              1.810000e+02       2356.000000   \n",
       "mean          7.720400e+17              1.241698e+16         13.126486   \n",
       "std           6.236928e+16              9.599254e+16         45.876648   \n",
       "min           6.661041e+17              7.832140e+05          0.000000   \n",
       "25%           7.186315e+17              4.196984e+09         10.000000   \n",
       "50%           7.804657e+17              4.196984e+09         11.000000   \n",
       "75%           8.203146e+17              4.196984e+09         12.000000   \n",
       "max           8.874740e+17              7.874618e+17       1776.000000   \n",
       "\n",
       "       rating_denominator  \n",
       "count         2356.000000  \n",
       "mean            10.455433  \n",
       "std              6.745237  \n",
       "min              0.000000  \n",
       "25%             10.000000  \n",
       "50%             10.000000  \n",
       "75%             10.000000  \n",
       "max            170.000000  "
      ]
     },
     "execution_count": 14,
     "metadata": {},
     "output_type": "execute_result"
    }
   ],
   "source": [
    "archieve.describe()"
   ]
  },
  {
   "cell_type": "code",
   "execution_count": 15,
   "id": "immune-treat",
   "metadata": {},
   "outputs": [
    {
     "data": {
      "text/plain": [
       "440"
      ]
     },
     "execution_count": 15,
     "metadata": {},
     "output_type": "execute_result"
    }
   ],
   "source": [
    "archieve[archieve['rating_numerator'] < 10].count()[0]"
   ]
  },
  {
   "cell_type": "code",
   "execution_count": 16,
   "id": "governmental-intention",
   "metadata": {},
   "outputs": [
    {
     "data": {
      "text/plain": [
       "45      883482846933004288\n",
       "229     848212111729840128\n",
       "315     835152434251116546\n",
       "387     826598799820865537\n",
       "462     817502432452313088\n",
       "               ...        \n",
       "2351    666049248165822465\n",
       "2352    666044226329800704\n",
       "2353    666033412701032449\n",
       "2354    666029285002620928\n",
       "2355    666020888022790149\n",
       "Name: tweet_id, Length: 440, dtype: int64"
      ]
     },
     "execution_count": 16,
     "metadata": {},
     "output_type": "execute_result"
    }
   ],
   "source": [
    "archieve[archieve['rating_numerator'] < 10].tweet_id"
   ]
  },
  {
   "cell_type": "code",
   "execution_count": 17,
   "id": "diverse-producer",
   "metadata": {},
   "outputs": [
    {
     "data": {
      "text/plain": [
       "3"
      ]
     },
     "execution_count": 17,
     "metadata": {},
     "output_type": "execute_result"
    }
   ],
   "source": [
    "archieve[archieve['rating_denominator'] < 10].count()[0]"
   ]
  },
  {
   "cell_type": "code",
   "execution_count": 18,
   "id": "nonprofit-croatia",
   "metadata": {},
   "outputs": [
    {
     "data": {
      "text/plain": [
       "313     835246439529840640\n",
       "516     810984652412424192\n",
       "2335    666287406224695296\n",
       "Name: tweet_id, dtype: int64"
      ]
     },
     "execution_count": 18,
     "metadata": {},
     "output_type": "execute_result"
    }
   ],
   "source": [
    "archieve[archieve['rating_denominator'] < 10].tweet_id"
   ]
  },
  {
   "cell_type": "code",
   "execution_count": 19,
   "id": "failing-drawing",
   "metadata": {},
   "outputs": [
    {
     "data": {
      "text/plain": [
       "20"
      ]
     },
     "execution_count": 19,
     "metadata": {},
     "output_type": "execute_result"
    }
   ],
   "source": [
    "archieve[archieve['rating_denominator'] > 10].count()[0]"
   ]
  },
  {
   "cell_type": "code",
   "execution_count": 20,
   "id": "stretch-accounting",
   "metadata": {},
   "outputs": [
    {
     "data": {
      "text/plain": [
       "342     832088576586297345\n",
       "433     820690176645140481\n",
       "784     775096608509886464\n",
       "902     758467244762497024\n",
       "1068    740373189193256964\n",
       "1120    731156023742988288\n",
       "1165    722974582966214656\n",
       "1202    716439118184652801\n",
       "1228    713900603437621249\n",
       "1254    710658690886586372\n",
       "1274    709198395643068416\n",
       "1351    704054845121142784\n",
       "1433    697463031882764288\n",
       "1598    686035780142297088\n",
       "1634    684225744407494656\n",
       "1635    684222868335505415\n",
       "1662    682962037429899265\n",
       "1663    682808988178739200\n",
       "1779    677716515794329600\n",
       "1843    675853064436391936\n",
       "Name: tweet_id, dtype: int64"
      ]
     },
     "execution_count": 20,
     "metadata": {},
     "output_type": "execute_result"
    }
   ],
   "source": [
    "archieve[archieve['rating_denominator'] > 10].tweet_id"
   ]
  },
  {
   "cell_type": "code",
   "execution_count": 21,
   "id": "matched-parks",
   "metadata": {},
   "outputs": [
    {
     "data": {
      "text/plain": [
       "23"
      ]
     },
     "execution_count": 21,
     "metadata": {},
     "output_type": "execute_result"
    }
   ],
   "source": [
    "archieve[archieve['rating_denominator'] != 10].count()[0]"
   ]
  },
  {
   "cell_type": "code",
   "execution_count": 22,
   "id": "broad-central",
   "metadata": {},
   "outputs": [
    {
     "data": {
      "text/plain": [
       "313     835246439529840640\n",
       "342     832088576586297345\n",
       "433     820690176645140481\n",
       "516     810984652412424192\n",
       "784     775096608509886464\n",
       "902     758467244762497024\n",
       "1068    740373189193256964\n",
       "1120    731156023742988288\n",
       "1165    722974582966214656\n",
       "1202    716439118184652801\n",
       "1228    713900603437621249\n",
       "1254    710658690886586372\n",
       "1274    709198395643068416\n",
       "1351    704054845121142784\n",
       "1433    697463031882764288\n",
       "1598    686035780142297088\n",
       "1634    684225744407494656\n",
       "1635    684222868335505415\n",
       "1662    682962037429899265\n",
       "1663    682808988178739200\n",
       "1779    677716515794329600\n",
       "1843    675853064436391936\n",
       "2335    666287406224695296\n",
       "Name: tweet_id, dtype: int64"
      ]
     },
     "execution_count": 22,
     "metadata": {},
     "output_type": "execute_result"
    }
   ],
   "source": [
    "archieve[archieve['rating_denominator'] != 10].tweet_id"
   ]
  },
  {
   "cell_type": "code",
   "execution_count": 23,
   "id": "stylish-suspension",
   "metadata": {},
   "outputs": [
    {
     "data": {
      "text/plain": [
       "None          745\n",
       "a              55\n",
       "Charlie        12\n",
       "Lucy           11\n",
       "Cooper         11\n",
       "             ... \n",
       "Patch           1\n",
       "Rooney          1\n",
       "Chaz            1\n",
       "Christoper      1\n",
       "Chloe           1\n",
       "Name: name, Length: 957, dtype: int64"
      ]
     },
     "execution_count": 23,
     "metadata": {},
     "output_type": "execute_result"
    }
   ],
   "source": [
    "archieve.name.value_counts()"
   ]
  },
  {
   "cell_type": "markdown",
   "id": "driving-jacob",
   "metadata": {},
   "source": [
    "# Assessment issues\n"
   ]
  },
  {
   "cell_type": "markdown",
   "id": "specific-tyler",
   "metadata": {},
   "source": [
    "## quality"
   ]
  },
  {
   "cell_type": "markdown",
   "id": "other-virginia",
   "metadata": {},
   "source": [
    "#### 'archieve' table:"
   ]
  },
  {
   "cell_type": "raw",
   "id": "patent-cornwall",
   "metadata": {},
   "source": [
    "- some dogs name are invalid (like : 'a', 'an' ,'none')\n",
    "- timestamp dtype should be datetime instead of string\n",
    "- tweet_id type should be string instead of integer\n",
    "- 440 rating_numerator less than 10\n",
    "- 23 rating_denominator not equal 10\n",
    "- there are 181 retweets as indicated by retweeted_status_id"
   ]
  },
  {
   "cell_type": "markdown",
   "id": "registered-chicken",
   "metadata": {},
   "source": [
    "#### 'predictions table' "
   ]
  },
  {
   "cell_type": "raw",
   "id": "vanilla-developer",
   "metadata": {},
   "source": [
    "- missing values in jpg_url for some IDS\n",
    "- p-columns, some names start with uppercase some with lowercase \n"
   ]
  },
  {
   "cell_type": "markdown",
   "id": "standing-discretion",
   "metadata": {},
   "source": [
    "#### 'tweets table'"
   ]
  },
  {
   "cell_type": "raw",
   "id": "broad-value",
   "metadata": {},
   "source": [
    "- missing entries (2354 instead of 2356)"
   ]
  },
  {
   "cell_type": "markdown",
   "id": "australian-slope",
   "metadata": {},
   "source": [
    "## tidiness"
   ]
  },
  {
   "cell_type": "raw",
   "id": "smoking-kansas",
   "metadata": {},
   "source": [
    "\n",
    "\n",
    "-'archieve' table : 4 columns for dog stages instead of one .\n",
    "-'three tables' : have connected data to be one table of one observational unit .\n"
   ]
  },
  {
   "cell_type": "markdown",
   "id": "sonic-retirement",
   "metadata": {},
   "source": [
    "# Clean"
   ]
  },
  {
   "cell_type": "code",
   "execution_count": 24,
   "id": "published-museum",
   "metadata": {},
   "outputs": [
    {
     "data": {
      "text/plain": [
       "Index(['tweet_id', 'in_reply_to_status_id', 'in_reply_to_user_id', 'timestamp',\n",
       "       'source', 'text', 'retweeted_status_id', 'retweeted_status_user_id',\n",
       "       'retweeted_status_timestamp', 'expanded_urls', 'rating_numerator',\n",
       "       'rating_denominator', 'name', 'doggo', 'floofer', 'pupper', 'puppo'],\n",
       "      dtype='object')"
      ]
     },
     "execution_count": 24,
     "metadata": {},
     "output_type": "execute_result"
    }
   ],
   "source": [
    "tweets1=tweets.copy()\n",
    "predictions1=predictions.copy()\n",
    "archieve1=archieve.copy()\n",
    "archieve1.columns\n"
   ]
  },
  {
   "cell_type": "markdown",
   "id": "painful-personal",
   "metadata": {},
   "source": [
    "# Tidiness"
   ]
  },
  {
   "cell_type": "markdown",
   "id": "alike-chrome",
   "metadata": {},
   "source": [
    "# Define"
   ]
  },
  {
   "cell_type": "markdown",
   "id": "comfortable-smart",
   "metadata": {},
   "source": [
    " merge dog stages 4 columns into one dog_stage column"
   ]
  },
  {
   "cell_type": "markdown",
   "id": "rocky-privacy",
   "metadata": {},
   "source": [
    "# Code"
   ]
  },
  {
   "cell_type": "code",
   "execution_count": 25,
   "id": "patient-trinity",
   "metadata": {},
   "outputs": [],
   "source": [
    "archieve1['dog_stage']=archieve1['text'].str.extract('(doggo|floofer|pupper|puppo)')\n",
    "archieve1.drop(['doggo','floofer','pupper','puppo'],axis=1,inplace=True)\n"
   ]
  },
  {
   "cell_type": "markdown",
   "id": "postal-annex",
   "metadata": {},
   "source": [
    "# Test"
   ]
  },
  {
   "cell_type": "code",
   "execution_count": 26,
   "id": "motivated-seven",
   "metadata": {},
   "outputs": [
    {
     "name": "stdout",
     "output_type": "stream",
     "text": [
      "<class 'pandas.core.frame.DataFrame'>\n",
      "RangeIndex: 2356 entries, 0 to 2355\n",
      "Data columns (total 14 columns):\n",
      " #   Column                      Non-Null Count  Dtype  \n",
      "---  ------                      --------------  -----  \n",
      " 0   tweet_id                    2356 non-null   int64  \n",
      " 1   in_reply_to_status_id       78 non-null     float64\n",
      " 2   in_reply_to_user_id         78 non-null     float64\n",
      " 3   timestamp                   2356 non-null   object \n",
      " 4   source                      2356 non-null   object \n",
      " 5   text                        2356 non-null   object \n",
      " 6   retweeted_status_id         181 non-null    float64\n",
      " 7   retweeted_status_user_id    181 non-null    float64\n",
      " 8   retweeted_status_timestamp  181 non-null    object \n",
      " 9   expanded_urls               2297 non-null   object \n",
      " 10  rating_numerator            2356 non-null   int64  \n",
      " 11  rating_denominator          2356 non-null   int64  \n",
      " 12  name                        2356 non-null   object \n",
      " 13  dog_stage                   399 non-null    object \n",
      "dtypes: float64(4), int64(3), object(7)\n",
      "memory usage: 257.8+ KB\n"
     ]
    }
   ],
   "source": [
    "archieve1.info()"
   ]
  },
  {
   "cell_type": "markdown",
   "id": "personalized-episode",
   "metadata": {},
   "source": [
    "# Define"
   ]
  },
  {
   "cell_type": "markdown",
   "id": "northern-virgin",
   "metadata": {},
   "source": [
    "merge all dataframes into one based on tweet_id"
   ]
  },
  {
   "cell_type": "code",
   "execution_count": 27,
   "id": "corrected-limit",
   "metadata": {},
   "outputs": [],
   "source": [
    "archieve1 = pd.merge(archieve1,tweets1,on='tweet_id',how='left')\n",
    "archieve1 = pd.merge(archieve1,predictions1,on='tweet_id',how='left')"
   ]
  },
  {
   "cell_type": "markdown",
   "id": "corrected-portrait",
   "metadata": {},
   "source": [
    "# Test"
   ]
  },
  {
   "cell_type": "code",
   "execution_count": 28,
   "id": "curious-illustration",
   "metadata": {},
   "outputs": [
    {
     "name": "stdout",
     "output_type": "stream",
     "text": [
      "<class 'pandas.core.frame.DataFrame'>\n",
      "Int64Index: 2356 entries, 0 to 2355\n",
      "Data columns (total 27 columns):\n",
      " #   Column                      Non-Null Count  Dtype  \n",
      "---  ------                      --------------  -----  \n",
      " 0   tweet_id                    2356 non-null   int64  \n",
      " 1   in_reply_to_status_id       78 non-null     float64\n",
      " 2   in_reply_to_user_id         78 non-null     float64\n",
      " 3   timestamp                   2356 non-null   object \n",
      " 4   source                      2356 non-null   object \n",
      " 5   text                        2356 non-null   object \n",
      " 6   retweeted_status_id         181 non-null    float64\n",
      " 7   retweeted_status_user_id    181 non-null    float64\n",
      " 8   retweeted_status_timestamp  181 non-null    object \n",
      " 9   expanded_urls               2297 non-null   object \n",
      " 10  rating_numerator            2356 non-null   int64  \n",
      " 11  rating_denominator          2356 non-null   int64  \n",
      " 12  name                        2356 non-null   object \n",
      " 13  dog_stage                   399 non-null    object \n",
      " 14  retweet_count               1518 non-null   float64\n",
      " 15  favorite_count              1518 non-null   float64\n",
      " 16  jpg_url                     2075 non-null   object \n",
      " 17  img_num                     2075 non-null   float64\n",
      " 18  p1                          2075 non-null   object \n",
      " 19  p1_conf                     2075 non-null   float64\n",
      " 20  p1_dog                      2075 non-null   object \n",
      " 21  p2                          2075 non-null   object \n",
      " 22  p2_conf                     2075 non-null   float64\n",
      " 23  p2_dog                      2075 non-null   object \n",
      " 24  p3                          2075 non-null   object \n",
      " 25  p3_conf                     2075 non-null   float64\n",
      " 26  p3_dog                      2075 non-null   object \n",
      "dtypes: float64(10), int64(3), object(14)\n",
      "memory usage: 515.4+ KB\n"
     ]
    }
   ],
   "source": [
    "archieve1.info()"
   ]
  },
  {
   "cell_type": "markdown",
   "id": "coastal-learning",
   "metadata": {},
   "source": [
    "# Quality"
   ]
  },
  {
   "cell_type": "markdown",
   "id": "diverse-equipment",
   "metadata": {},
   "source": [
    "# Define"
   ]
  },
  {
   "cell_type": "markdown",
   "id": "sweet-water",
   "metadata": {},
   "source": [
    " there are 181 retweets as indicated by retweeted_status_id , so we need to delete rows that represent retweets and all related columns"
   ]
  },
  {
   "cell_type": "markdown",
   "id": "young-ordinance",
   "metadata": {},
   "source": [
    "# Code"
   ]
  },
  {
   "cell_type": "code",
   "execution_count": 29,
   "id": "delayed-fountain",
   "metadata": {},
   "outputs": [],
   "source": [
    "archieve1=archieve1[archieve1.retweeted_status_id.isnull()]\n",
    "archieve1=archieve1.drop(['retweeted_status_id','retweeted_status_user_id','retweeted_status_timestamp'],axis=1)\n"
   ]
  },
  {
   "cell_type": "markdown",
   "id": "operating-devil",
   "metadata": {},
   "source": [
    "# Test"
   ]
  },
  {
   "cell_type": "code",
   "execution_count": 30,
   "id": "commercial-dublin",
   "metadata": {},
   "outputs": [
    {
     "name": "stdout",
     "output_type": "stream",
     "text": [
      "<class 'pandas.core.frame.DataFrame'>\n",
      "Int64Index: 2175 entries, 0 to 2355\n",
      "Data columns (total 24 columns):\n",
      " #   Column                 Non-Null Count  Dtype  \n",
      "---  ------                 --------------  -----  \n",
      " 0   tweet_id               2175 non-null   int64  \n",
      " 1   in_reply_to_status_id  78 non-null     float64\n",
      " 2   in_reply_to_user_id    78 non-null     float64\n",
      " 3   timestamp              2175 non-null   object \n",
      " 4   source                 2175 non-null   object \n",
      " 5   text                   2175 non-null   object \n",
      " 6   expanded_urls          2117 non-null   object \n",
      " 7   rating_numerator       2175 non-null   int64  \n",
      " 8   rating_denominator     2175 non-null   int64  \n",
      " 9   name                   2175 non-null   object \n",
      " 10  dog_stage              364 non-null    object \n",
      " 11  retweet_count          1420 non-null   float64\n",
      " 12  favorite_count         1420 non-null   float64\n",
      " 13  jpg_url                1994 non-null   object \n",
      " 14  img_num                1994 non-null   float64\n",
      " 15  p1                     1994 non-null   object \n",
      " 16  p1_conf                1994 non-null   float64\n",
      " 17  p1_dog                 1994 non-null   object \n",
      " 18  p2                     1994 non-null   object \n",
      " 19  p2_conf                1994 non-null   float64\n",
      " 20  p2_dog                 1994 non-null   object \n",
      " 21  p3                     1994 non-null   object \n",
      " 22  p3_conf                1994 non-null   float64\n",
      " 23  p3_dog                 1994 non-null   object \n",
      "dtypes: float64(8), int64(3), object(13)\n",
      "memory usage: 424.8+ KB\n"
     ]
    }
   ],
   "source": [
    "archieve1.info()"
   ]
  },
  {
   "cell_type": "markdown",
   "id": "latter-article",
   "metadata": {},
   "source": [
    "# Define"
   ]
  },
  {
   "cell_type": "markdown",
   "id": "clear-threshold",
   "metadata": {},
   "source": [
    "convert invalid names to NaN then fill into these NaN values correct names that extracted from column text after 'named'"
   ]
  },
  {
   "cell_type": "markdown",
   "id": "religious-flood",
   "metadata": {},
   "source": [
    "# Code"
   ]
  },
  {
   "cell_type": "code",
   "execution_count": 31,
   "id": "traditional-hurricane",
   "metadata": {},
   "outputs": [
    {
     "data": {
      "text/plain": [
       "784"
      ]
     },
     "execution_count": 31,
     "metadata": {},
     "output_type": "execute_result"
    }
   ],
   "source": [
    "archieve1.name = archieve1.name.replace(regex=['^[a-z]+','None'],value=np.nan)\n",
    "sum(archieve1.name.isnull())"
   ]
  },
  {
   "cell_type": "code",
   "execution_count": 32,
   "id": "eligible-practitioner",
   "metadata": {},
   "outputs": [],
   "source": [
    "def func(text):\n",
    "    txt_l=text.split()\n",
    "    for word in txt_l :\n",
    "        if word.lower() == 'named' :\n",
    "            name_index=txt_l.index(word)+1\n",
    "            return txt_l[name_index]\n",
    "        else :\n",
    "            pass\n",
    "    return np.nan"
   ]
  },
  {
   "cell_type": "code",
   "execution_count": 33,
   "id": "handled-brush",
   "metadata": {},
   "outputs": [],
   "source": [
    "archieve1.name=np.where(archieve1.name.isnull(),archieve1.text.apply(func),archieve1.name)"
   ]
  },
  {
   "cell_type": "markdown",
   "id": "dirty-desert",
   "metadata": {},
   "source": [
    "# Test"
   ]
  },
  {
   "cell_type": "code",
   "execution_count": 34,
   "id": "killing-promise",
   "metadata": {},
   "outputs": [
    {
     "data": {
      "text/plain": [
       "761"
      ]
     },
     "execution_count": 34,
     "metadata": {},
     "output_type": "execute_result"
    }
   ],
   "source": [
    "sum(archieve1.name.isnull())"
   ]
  },
  {
   "cell_type": "markdown",
   "id": "posted-henry",
   "metadata": {},
   "source": [
    "# Define"
   ]
  },
  {
   "cell_type": "markdown",
   "id": "forced-liquid",
   "metadata": {},
   "source": [
    "convert tweet_id type to string\n"
   ]
  },
  {
   "cell_type": "markdown",
   "id": "plain-tokyo",
   "metadata": {},
   "source": [
    "# Code"
   ]
  },
  {
   "cell_type": "code",
   "execution_count": 35,
   "id": "encouraging-prize",
   "metadata": {},
   "outputs": [],
   "source": [
    "archieve1.tweet_id=archieve1.tweet_id.astype(str)"
   ]
  },
  {
   "cell_type": "markdown",
   "id": "interstate-honduras",
   "metadata": {},
   "source": [
    "# Test"
   ]
  },
  {
   "cell_type": "code",
   "execution_count": 36,
   "id": "vocal-headline",
   "metadata": {},
   "outputs": [
    {
     "data": {
      "text/plain": [
       "count                   2175\n",
       "unique                  2175\n",
       "top       707983188426153984\n",
       "freq                       1\n",
       "Name: tweet_id, dtype: object"
      ]
     },
     "execution_count": 36,
     "metadata": {},
     "output_type": "execute_result"
    }
   ],
   "source": [
    "archieve1.tweet_id.describe()"
   ]
  },
  {
   "cell_type": "markdown",
   "id": "separate-offer",
   "metadata": {},
   "source": [
    "# Define"
   ]
  },
  {
   "cell_type": "markdown",
   "id": "occupied-principle",
   "metadata": {},
   "source": [
    "change timestamp dtype to datetime "
   ]
  },
  {
   "cell_type": "markdown",
   "id": "contained-archive",
   "metadata": {},
   "source": [
    "# Code"
   ]
  },
  {
   "cell_type": "code",
   "execution_count": 37,
   "id": "loose-johnson",
   "metadata": {},
   "outputs": [],
   "source": [
    "archieve1.timestamp=pd.to_datetime(archieve1.timestamp)"
   ]
  },
  {
   "cell_type": "markdown",
   "id": "medium-storage",
   "metadata": {},
   "source": [
    "# Test"
   ]
  },
  {
   "cell_type": "code",
   "execution_count": 38,
   "id": "optical-therapy",
   "metadata": {},
   "outputs": [
    {
     "name": "stdout",
     "output_type": "stream",
     "text": [
      "<class 'pandas.core.frame.DataFrame'>\n",
      "Int64Index: 2175 entries, 0 to 2355\n",
      "Data columns (total 24 columns):\n",
      " #   Column                 Non-Null Count  Dtype              \n",
      "---  ------                 --------------  -----              \n",
      " 0   tweet_id               2175 non-null   object             \n",
      " 1   in_reply_to_status_id  78 non-null     float64            \n",
      " 2   in_reply_to_user_id    78 non-null     float64            \n",
      " 3   timestamp              2175 non-null   datetime64[ns, UTC]\n",
      " 4   source                 2175 non-null   object             \n",
      " 5   text                   2175 non-null   object             \n",
      " 6   expanded_urls          2117 non-null   object             \n",
      " 7   rating_numerator       2175 non-null   int64              \n",
      " 8   rating_denominator     2175 non-null   int64              \n",
      " 9   name                   1414 non-null   object             \n",
      " 10  dog_stage              364 non-null    object             \n",
      " 11  retweet_count          1420 non-null   float64            \n",
      " 12  favorite_count         1420 non-null   float64            \n",
      " 13  jpg_url                1994 non-null   object             \n",
      " 14  img_num                1994 non-null   float64            \n",
      " 15  p1                     1994 non-null   object             \n",
      " 16  p1_conf                1994 non-null   float64            \n",
      " 17  p1_dog                 1994 non-null   object             \n",
      " 18  p2                     1994 non-null   object             \n",
      " 19  p2_conf                1994 non-null   float64            \n",
      " 20  p2_dog                 1994 non-null   object             \n",
      " 21  p3                     1994 non-null   object             \n",
      " 22  p3_conf                1994 non-null   float64            \n",
      " 23  p3_dog                 1994 non-null   object             \n",
      "dtypes: datetime64[ns, UTC](1), float64(8), int64(2), object(13)\n",
      "memory usage: 424.8+ KB\n"
     ]
    }
   ],
   "source": [
    "archieve1.info()"
   ]
  },
  {
   "cell_type": "markdown",
   "id": "consolidated-audit",
   "metadata": {},
   "source": [
    "# Define"
   ]
  },
  {
   "cell_type": "markdown",
   "id": "continued-might",
   "metadata": {},
   "source": [
    "delete rows with missing photos\n"
   ]
  },
  {
   "cell_type": "markdown",
   "id": "educational-directive",
   "metadata": {},
   "source": [
    "# Code"
   ]
  },
  {
   "cell_type": "code",
   "execution_count": 39,
   "id": "leading-samoa",
   "metadata": {},
   "outputs": [],
   "source": [
    "archieve1=archieve1[archieve1.jpg_url.notnull()]"
   ]
  },
  {
   "cell_type": "markdown",
   "id": "ceramic-lease",
   "metadata": {},
   "source": [
    "# Test"
   ]
  },
  {
   "cell_type": "code",
   "execution_count": 40,
   "id": "strategic-switch",
   "metadata": {},
   "outputs": [
    {
     "name": "stdout",
     "output_type": "stream",
     "text": [
      "<class 'pandas.core.frame.DataFrame'>\n",
      "Int64Index: 1994 entries, 0 to 2355\n",
      "Data columns (total 24 columns):\n",
      " #   Column                 Non-Null Count  Dtype              \n",
      "---  ------                 --------------  -----              \n",
      " 0   tweet_id               1994 non-null   object             \n",
      " 1   in_reply_to_status_id  23 non-null     float64            \n",
      " 2   in_reply_to_user_id    23 non-null     float64            \n",
      " 3   timestamp              1994 non-null   datetime64[ns, UTC]\n",
      " 4   source                 1994 non-null   object             \n",
      " 5   text                   1994 non-null   object             \n",
      " 6   expanded_urls          1994 non-null   object             \n",
      " 7   rating_numerator       1994 non-null   int64              \n",
      " 8   rating_denominator     1994 non-null   int64              \n",
      " 9   name                   1373 non-null   object             \n",
      " 10  dog_stage              326 non-null    object             \n",
      " 11  retweet_count          1300 non-null   float64            \n",
      " 12  favorite_count         1300 non-null   float64            \n",
      " 13  jpg_url                1994 non-null   object             \n",
      " 14  img_num                1994 non-null   float64            \n",
      " 15  p1                     1994 non-null   object             \n",
      " 16  p1_conf                1994 non-null   float64            \n",
      " 17  p1_dog                 1994 non-null   object             \n",
      " 18  p2                     1994 non-null   object             \n",
      " 19  p2_conf                1994 non-null   float64            \n",
      " 20  p2_dog                 1994 non-null   object             \n",
      " 21  p3                     1994 non-null   object             \n",
      " 22  p3_conf                1994 non-null   float64            \n",
      " 23  p3_dog                 1994 non-null   object             \n",
      "dtypes: datetime64[ns, UTC](1), float64(8), int64(2), object(13)\n",
      "memory usage: 389.5+ KB\n"
     ]
    }
   ],
   "source": [
    "archieve1.info()"
   ]
  },
  {
   "cell_type": "markdown",
   "id": "suburban-emission",
   "metadata": {},
   "source": [
    "# Define"
   ]
  },
  {
   "cell_type": "markdown",
   "id": "biological-table",
   "metadata": {},
   "source": [
    "need to replace '_' in P-columns to ' '"
   ]
  },
  {
   "cell_type": "markdown",
   "id": "corresponding-spirit",
   "metadata": {},
   "source": [
    "# Code"
   ]
  },
  {
   "cell_type": "code",
   "execution_count": 41,
   "id": "further-sequence",
   "metadata": {},
   "outputs": [],
   "source": [
    "archieve1.p1=archieve1.p1.str.replace('_',' ')\n",
    "archieve1.p2=archieve1.p2.str.replace('_',' ')\n",
    "archieve1.p3=archieve1.p3.str.replace('_',' ')\n"
   ]
  },
  {
   "cell_type": "markdown",
   "id": "formal-success",
   "metadata": {},
   "source": [
    "# Test"
   ]
  },
  {
   "cell_type": "code",
   "execution_count": 42,
   "id": "dramatic-syndrome",
   "metadata": {},
   "outputs": [
    {
     "data": {
      "text/plain": [
       "0         orange\n",
       "1      Chihuahua\n",
       "2      Chihuahua\n",
       "3    paper towel\n",
       "4         basset\n",
       "Name: p1, dtype: object"
      ]
     },
     "execution_count": 42,
     "metadata": {},
     "output_type": "execute_result"
    }
   ],
   "source": [
    "archieve1.p1.head()"
   ]
  },
  {
   "cell_type": "code",
   "execution_count": 43,
   "id": "computational-homeless",
   "metadata": {},
   "outputs": [
    {
     "data": {
      "text/plain": [
       "0                 bagel\n",
       "1              Pekinese\n",
       "2              malamute\n",
       "3    Labrador retriever\n",
       "4      English springer\n",
       "Name: p2, dtype: object"
      ]
     },
     "execution_count": 43,
     "metadata": {},
     "output_type": "execute_result"
    }
   ],
   "source": [
    "archieve1.p2.head()"
   ]
  },
  {
   "cell_type": "code",
   "execution_count": 44,
   "id": "indirect-position",
   "metadata": {},
   "outputs": [
    {
     "name": "stdout",
     "output_type": "stream",
     "text": [
      "<class 'pandas.core.frame.DataFrame'>\n",
      "Int64Index: 1994 entries, 0 to 2355\n",
      "Data columns (total 24 columns):\n",
      " #   Column                 Non-Null Count  Dtype              \n",
      "---  ------                 --------------  -----              \n",
      " 0   tweet_id               1994 non-null   object             \n",
      " 1   in_reply_to_status_id  23 non-null     float64            \n",
      " 2   in_reply_to_user_id    23 non-null     float64            \n",
      " 3   timestamp              1994 non-null   datetime64[ns, UTC]\n",
      " 4   source                 1994 non-null   object             \n",
      " 5   text                   1994 non-null   object             \n",
      " 6   expanded_urls          1994 non-null   object             \n",
      " 7   rating_numerator       1994 non-null   int64              \n",
      " 8   rating_denominator     1994 non-null   int64              \n",
      " 9   name                   1373 non-null   object             \n",
      " 10  dog_stage              326 non-null    object             \n",
      " 11  retweet_count          1300 non-null   float64            \n",
      " 12  favorite_count         1300 non-null   float64            \n",
      " 13  jpg_url                1994 non-null   object             \n",
      " 14  img_num                1994 non-null   float64            \n",
      " 15  p1                     1994 non-null   object             \n",
      " 16  p1_conf                1994 non-null   float64            \n",
      " 17  p1_dog                 1994 non-null   object             \n",
      " 18  p2                     1994 non-null   object             \n",
      " 19  p2_conf                1994 non-null   float64            \n",
      " 20  p2_dog                 1994 non-null   object             \n",
      " 21  p3                     1994 non-null   object             \n",
      " 22  p3_conf                1994 non-null   float64            \n",
      " 23  p3_dog                 1994 non-null   object             \n",
      "dtypes: datetime64[ns, UTC](1), float64(8), int64(2), object(13)\n",
      "memory usage: 389.5+ KB\n"
     ]
    }
   ],
   "source": [
    "archieve1.p3.head()\n",
    "archieve1.info()"
   ]
  },
  {
   "cell_type": "markdown",
   "id": "lined-turkey",
   "metadata": {},
   "source": [
    "# Define"
   ]
  },
  {
   "cell_type": "markdown",
   "id": "transsexual-aaron",
   "metadata": {},
   "source": [
    "delete rows without retweet_count entries"
   ]
  },
  {
   "cell_type": "markdown",
   "id": "thousand-toyota",
   "metadata": {},
   "source": [
    "# Code"
   ]
  },
  {
   "cell_type": "code",
   "execution_count": 45,
   "id": "varying-ethernet",
   "metadata": {
    "scrolled": true
   },
   "outputs": [],
   "source": [
    "archieve1=archieve1[archieve1.retweet_count.notnull()]"
   ]
  },
  {
   "cell_type": "markdown",
   "id": "micro-policy",
   "metadata": {},
   "source": [
    "# Test"
   ]
  },
  {
   "cell_type": "code",
   "execution_count": 46,
   "id": "extreme-marine",
   "metadata": {},
   "outputs": [
    {
     "data": {
      "text/plain": [
       "0"
      ]
     },
     "execution_count": 46,
     "metadata": {},
     "output_type": "execute_result"
    }
   ],
   "source": [
    "sum(archieve1.retweet_count.isnull())"
   ]
  },
  {
   "cell_type": "code",
   "execution_count": 47,
   "id": "scenic-paintball",
   "metadata": {},
   "outputs": [
    {
     "name": "stdout",
     "output_type": "stream",
     "text": [
      "<class 'pandas.core.frame.DataFrame'>\n",
      "Int64Index: 1300 entries, 2 to 2354\n",
      "Data columns (total 24 columns):\n",
      " #   Column                 Non-Null Count  Dtype              \n",
      "---  ------                 --------------  -----              \n",
      " 0   tweet_id               1300 non-null   object             \n",
      " 1   in_reply_to_status_id  15 non-null     float64            \n",
      " 2   in_reply_to_user_id    15 non-null     float64            \n",
      " 3   timestamp              1300 non-null   datetime64[ns, UTC]\n",
      " 4   source                 1300 non-null   object             \n",
      " 5   text                   1300 non-null   object             \n",
      " 6   expanded_urls          1300 non-null   object             \n",
      " 7   rating_numerator       1300 non-null   int64              \n",
      " 8   rating_denominator     1300 non-null   int64              \n",
      " 9   name                   878 non-null    object             \n",
      " 10  dog_stage              209 non-null    object             \n",
      " 11  retweet_count          1300 non-null   float64            \n",
      " 12  favorite_count         1300 non-null   float64            \n",
      " 13  jpg_url                1300 non-null   object             \n",
      " 14  img_num                1300 non-null   float64            \n",
      " 15  p1                     1300 non-null   object             \n",
      " 16  p1_conf                1300 non-null   float64            \n",
      " 17  p1_dog                 1300 non-null   object             \n",
      " 18  p2                     1300 non-null   object             \n",
      " 19  p2_conf                1300 non-null   float64            \n",
      " 20  p2_dog                 1300 non-null   object             \n",
      " 21  p3                     1300 non-null   object             \n",
      " 22  p3_conf                1300 non-null   float64            \n",
      " 23  p3_dog                 1300 non-null   object             \n",
      "dtypes: datetime64[ns, UTC](1), float64(8), int64(2), object(13)\n",
      "memory usage: 253.9+ KB\n"
     ]
    }
   ],
   "source": [
    " archieve1.info()"
   ]
  },
  {
   "cell_type": "code",
   "execution_count": 48,
   "id": "defensive-candy",
   "metadata": {},
   "outputs": [
    {
     "name": "stdout",
     "output_type": "stream",
     "text": [
      "<class 'pandas.core.frame.DataFrame'>\n",
      "RangeIndex: 1300 entries, 0 to 1299\n",
      "Data columns (total 24 columns):\n",
      " #   Column                 Non-Null Count  Dtype  \n",
      "---  ------                 --------------  -----  \n",
      " 0   tweet_id               1300 non-null   int64  \n",
      " 1   in_reply_to_status_id  15 non-null     float64\n",
      " 2   in_reply_to_user_id    15 non-null     float64\n",
      " 3   timestamp              1300 non-null   object \n",
      " 4   source                 1300 non-null   object \n",
      " 5   text                   1300 non-null   object \n",
      " 6   expanded_urls          1300 non-null   object \n",
      " 7   rating_numerator       1300 non-null   int64  \n",
      " 8   rating_denominator     1300 non-null   int64  \n",
      " 9   name                   878 non-null    object \n",
      " 10  dog_stage              209 non-null    object \n",
      " 11  retweet_count          1300 non-null   float64\n",
      " 12  favorite_count         1300 non-null   float64\n",
      " 13  jpg_url                1300 non-null   object \n",
      " 14  img_num                1300 non-null   float64\n",
      " 15  p1                     1300 non-null   object \n",
      " 16  p1_conf                1300 non-null   float64\n",
      " 17  p1_dog                 1300 non-null   bool   \n",
      " 18  p2                     1300 non-null   object \n",
      " 19  p2_conf                1300 non-null   float64\n",
      " 20  p2_dog                 1300 non-null   bool   \n",
      " 21  p3                     1300 non-null   object \n",
      " 22  p3_conf                1300 non-null   float64\n",
      " 23  p3_dog                 1300 non-null   bool   \n",
      "dtypes: bool(3), float64(8), int64(3), object(10)\n",
      "memory usage: 217.2+ KB\n"
     ]
    }
   ],
   "source": [
    "archieve1.to_csv('twitter_archive_master.csv',index=False)\n",
    "df = pd.read_csv('twitter_archive_master.csv')\n",
    "df.info()"
   ]
  },
  {
   "cell_type": "markdown",
   "id": "charming-bunny",
   "metadata": {},
   "source": [
    "# Data Analysis and Visualization "
   ]
  },
  {
   "cell_type": "markdown",
   "id": "searching-airplane",
   "metadata": {},
   "source": [
    "## comparizon of different dog stages"
   ]
  },
  {
   "cell_type": "code",
   "execution_count": 49,
   "id": "outside-lover",
   "metadata": {},
   "outputs": [
    {
     "data": {
      "text/plain": [
       "pupper    151\n",
       "doggo      38\n",
       "puppo      20\n",
       "Name: dog_stage, dtype: int64"
      ]
     },
     "execution_count": 49,
     "metadata": {},
     "output_type": "execute_result"
    }
   ],
   "source": [
    "stage_df=df.dog_stage.value_counts()\n",
    "stage_df"
   ]
  },
  {
   "cell_type": "code",
   "execution_count": 50,
   "id": "impossible-tender",
   "metadata": {},
   "outputs": [
    {
     "data": {
      "text/plain": [
       "Text(0.5, 1.0, 'percentages of dog stages')"
      ]
     },
     "execution_count": 50,
     "metadata": {},
     "output_type": "execute_result"
    },
    {
     "data": {
      "image/png": "[encoded data removed]",
      "text/plain": [
       "<Figure size 432x288 with 1 Axes>"
      ]
     },
     "metadata": {},
     "output_type": "display_data"
    }
   ],
   "source": [
    "plt.pie(stage_df,labels=['pupper','doggo','puppo'],\n",
    "       autopct='%1.1f%%',\n",
    "       shadow= True\n",
    "       ,explode=(0.1,0.2,0.3))\n",
    "plt.title('percentages of dog stages')"
   ]
  },
  {
   "cell_type": "raw",
   "id": "interim-music",
   "metadata": {},
   "source": [
    "pupper has the highest share"
   ]
  },
  {
   "cell_type": "markdown",
   "id": "illegal-drama",
   "metadata": {},
   "source": [
    "## Dicovering relationship between (retweet count and favorite count)"
   ]
  },
  {
   "cell_type": "code",
   "execution_count": 51,
   "id": "double-vegetarian",
   "metadata": {},
   "outputs": [
    {
     "data": {
      "text/plain": [
       "Text(0.5, 1.0, 'relationship between retweet count and favourite count')"
      ]
     },
     "execution_count": 51,
     "metadata": {},
     "output_type": "execute_result"
    },
    {
     "data": {
      "image/png": "[encoded data removed]",
      "text/plain": [
       "<Figure size 432x288 with 1 Axes>"
      ]
     },
     "metadata": {
      "needs_background": "light"
     },
     "output_type": "display_data"
    }
   ],
   "source": [
    "plt.scatter(df.retweet_count,df.favorite_count)\n",
    "plt.xlabel('Retweet Count')\n",
    "plt.ylabel('Favorite Count')\n",
    "plt.title('relationship between retweet count and favourite count')"
   ]
  },
  {
   "cell_type": "raw",
   "id": "chicken-parliament",
   "metadata": {},
   "source": [
    "found that they are propotionally related"
   ]
  },
  {
   "cell_type": "code",
   "execution_count": 52,
   "id": "medium-niger",
   "metadata": {},
   "outputs": [],
   "source": [
    "df=df.drop(['in_reply_to_user_id','in_reply_to_status_id'],axis=1)"
   ]
  },
  {
   "cell_type": "markdown",
   "id": "velvet-popularity",
   "metadata": {},
   "source": [
    "## comparing stages of dogs to people's favorite count and retweet count"
   ]
  },
  {
   "cell_type": "code",
   "execution_count": 53,
   "id": "local-warehouse",
   "metadata": {},
   "outputs": [
    {
     "data": {
      "image/png": "[encoded data removed]",
      "text/plain": [
       "<Figure size 432x288 with 1 Axes>"
      ]
     },
     "metadata": {
      "needs_background": "light"
     },
     "output_type": "display_data"
    }
   ],
   "source": [
    "x = df.groupby('dog_stage')['favorite_count'].mean().plot(kind='bar')\n",
    "\n",
    "\n"
   ]
  },
  {
   "cell_type": "code",
   "execution_count": 54,
   "id": "sonic-armor",
   "metadata": {},
   "outputs": [
    {
     "data": {
      "image/png": "[encoded data removed]",
      "text/plain": [
       "<Figure size 432x288 with 1 Axes>"
      ]
     },
     "metadata": {
      "needs_background": "light"
     },
     "output_type": "display_data"
    }
   ],
   "source": [
    "y = df.groupby('dog_stage')['retweet_count'].mean().plot(kind='bar')"
   ]
  },
  {
   "cell_type": "raw",
   "id": "requested-tolerance",
   "metadata": {},
   "source": [
    "looks like people loves Puppo"
   ]
  },
  {
   "cell_type": "code",
   "execution_count": 72,
   "id": "specified-producer",
   "metadata": {},
   "outputs": [
    {
     "data": {
      "text/plain": [
       "golden retriever      95\n",
       "Pembroke              65\n",
       "Labrador retriever    62\n",
       "Chihuahua             45\n",
       "pug                   39\n",
       "                      ..\n",
       "hyena                  1\n",
       "jellyfish              1\n",
       "microphone             1\n",
       "Egyptian cat           1\n",
       "terrapin               1\n",
       "Name: p1, Length: 300, dtype: int64"
      ]
     },
     "execution_count": 72,
     "metadata": {},
     "output_type": "execute_result"
    }
   ],
   "source": [
    "df.p1.value_counts()"
   ]
  },
  {
   "cell_type": "markdown",
   "id": "scientific-incidence",
   "metadata": {},
   "source": [
    "\n",
    "# Detecting most common times(for example : month)of WeRateDog blog user interacting"
   ]
  },
  {
   "cell_type": "code",
   "execution_count": 60,
   "id": "listed-bread",
   "metadata": {},
   "outputs": [
    {
     "name": "stdout",
     "output_type": "stream",
     "text": [
      "the most common month :12\n",
      "the most common year :2017\n"
     ]
    }
   ],
   "source": [
    "import datetime as dt\n",
    "df['timestamp']=pd.to_datetime(df['timestamp'])\n",
    "df['month'] = df['timestamp'].dt.month\n",
    "df['year'] = df['timestamp'].dt.year\n",
    "print('the most common month :{}'.format(df.month.max()))\n",
    "print('the most common year :{}'.format(df.year.max()))"
   ]
  },
  {
   "cell_type": "markdown",
   "id": "greater-poker",
   "metadata": {},
   "source": [
    "# Experimenting neural network species classification accuracy"
   ]
  },
  {
   "cell_type": "code",
   "execution_count": 66,
   "id": "distributed-suggestion",
   "metadata": {},
   "outputs": [
    {
     "name": "stdout",
     "output_type": "stream",
     "text": [
      "Neural network species specification accuracy : 0.7376923076923076\n"
     ]
    }
   ],
   "source": [
    "xx = df.p1_dog[df.p1_dog == True].count()/df.p1_dog.count()\n",
    "print('Neural network species specification accuracy : {}'.format(xx))"
   ]
  },
  {
   "cell_type": "markdown",
   "id": "stunning-interstate",
   "metadata": {},
   "source": [
    "# Detecting features (like : dog_stage, dog_species) of dogs of best rating "
   ]
  },
  {
   "cell_type": "code",
   "execution_count": 71,
   "id": "large-apartment",
   "metadata": {},
   "outputs": [
    {
     "data": {
      "text/plain": [
       "452    bow tie\n",
       "Name: p1, dtype: object"
      ]
     },
     "execution_count": 71,
     "metadata": {},
     "output_type": "execute_result"
    }
   ],
   "source": [
    "df.rating_numerator.max()\n",
    "df.loc[df.rating_numerator == 1776,'p1']"
   ]
  },
  {
   "cell_type": "markdown",
   "id": "reserved-sydney",
   "metadata": {},
   "source": [
    "# Wrangling data"
   ]
  },
  {
   "cell_type": "markdown",
   "id": "known-toronto",
   "metadata": {},
   "source": [
    "Wrangling data means getting ready valid accurate consistent tidy data for analysis, prediction modeling or\n",
    " for machine learning models, that can be achieved through two essential stages of assessment and cleaning . so,\n",
    "    i think it needs data detective skills for investigation as explained below :"
   ]
  },
  {
   "cell_type": "markdown",
   "id": "difficult-classification",
   "metadata": {},
   "source": [
    "Wrangling challenges i have faced in this project can be summarized under:\n",
    "   - Gathering data from CSV file, TSV file and Json file that is collected using tweepy API library for tweeter \n",
    "    to collect extra data about WeRateDogs tweets that shall impact our analysis.\n",
    "   - Then assessing data by investigating it visually through Microsoft office or google spreadsheets and \n",
    "    programmatically using pandas library or visually using matplotlib (Using clean tidy data criteria).\n",
    "   - Finally cleaning assessment issues programmaticaly to purify and enhance data that will be used later in analysis.\n",
    "clean criteria: is about to ensure valid accurate consistent not null values\n",
    "tidy  criteria: is to ensure that each column is a variable and each row is a observation or record and each table is \n",
    "    a observational unit."
   ]
  },
  {
   "cell_type": "code",
   "execution_count": null,
   "id": "prostate-going",
   "metadata": {},
   "outputs": [],
   "source": []
  },
  {
   "cell_type": "markdown",
   "id": "circular-america",
   "metadata": {},
   "source": [
    "### Let's start investigating"
   ]
  },
  {
   "cell_type": "code",
   "execution_count": null,
   "id": "brazilian-success",
   "metadata": {},
   "outputs": [],
   "source": []
  },
  {
   "cell_type": "code",
   "execution_count": null,
   "id": "assisted-copper",
   "metadata": {},
   "outputs": [],
   "source": []
  }
 ],
 "metadata": {
  "kernelspec": {
   "display_name": "Python 3",
   "language": "python",
   "name": "python3"
  },
  "language_info": {
   "codemirror_mode": {
    "name": "ipython",
    "version": 3
   },
   "file_extension": ".py",
   "mimetype": "text/x-python",
   "name": "python",
   "nbconvert_exporter": "python",
   "pygments_lexer": "ipython3",
   "version": "3.8.5"
  }
 },
 "nbformat": 4,
 "nbformat_minor": 5
}
