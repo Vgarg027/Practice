{
 "cells": [
  {
   "cell_type": "markdown",
   "metadata": {},
   "source": [
    "# Project 3: Wrangle and Analyze Data\n",
    "\n",
    "## Table of Contents\n",
    "<ul>\n",
    "<li><a href=\"#intro\">Introduction</a></li>\n",
    "<li><a href=\"#gathering\">Data Gathering</a></li>\n",
    "<li><a href=\"#assessment\">Data Assessing</a></li>\n",
    "<li><a href=\"#cleaning\">Data Cleaning</a></li>\n",
    "<li><a href=\"#analysis\">Insights and Visualizations</a></li>\n",
    "</ul>"
   ]
  },
  {
   "cell_type": "markdown",
   "metadata": {},
   "source": [
    "<a id='intro'></a>\n",
    "# Introduction"
   ]
  },
  {
   "cell_type": "markdown",
   "metadata": {},
   "source": [
    "In this project I will be gathering, assessing, cleaning the data coming from the tweet archive of \"WeRateDogs\", a Twitter account that rates people's dogs with a humorous comment about the dog.\n",
    "\n",
    "The datasets that will be used are three:\n",
    "<ol>\n",
    "    <li>The WeRateDogs Twitter archive, containing information about the tweets (e.g. their text or their timestamp);</li>\n",
    "    <li>Image predictions data, containing what breed of dog (or other object, animal, etc.) is present in each tweet according to a neural network;</li>\n",
    "    <li>Additional tweets information, namely the number of likes and retweets for each tweet.</li>\n",
    "</ol>\n",
    "\n",
    "After the cleaning phase, I will create some visualizations and extract a few insights from the data."
   ]
  },
  {
   "cell_type": "markdown",
   "metadata": {},
   "source": [
    "<a id='gathering'></a>\n",
    "# Data Gathering\n",
    "\n"
   ]
  },
  {
   "cell_type": "markdown",
   "metadata": {},
   "source": [
    "Import the libraries."
   ]
  },
  {
   "cell_type": "code",
   "execution_count": 1,
   "metadata": {},
   "outputs": [],
   "source": [
    "import numpy as np\n",
    "import pandas as pd\n",
    "import matplotlib.pyplot as plt\n",
    "import seaborn as sns\n",
    "%matplotlib inline\n",
    "%config InlineBackend.figure_format = 'retina'\n",
    "import json"
   ]
  },
  {
   "cell_type": "markdown",
   "metadata": {},
   "source": [
    "Load in a pandas dataframe the WeRateDogs Twitter archive. The file was downloaded manually from Udacity resources."
   ]
  },
  {
   "cell_type": "code",
   "execution_count": 2,
   "metadata": {},
   "outputs": [],
   "source": [
    "twitter_archive = pd.read_csv('twitter-archive-enhanced.csv', index_col='tweet_id')"
   ]
  },
  {
   "cell_type": "code",
   "execution_count": 3,
   "metadata": {},
   "outputs": [
    {
     "data": {
      "text/html": [
       "<div>\n",
       "<style scoped>\n",
       "    .dataframe tbody tr th:only-of-type {\n",
       "        vertical-align: middle;\n",
       "    }\n",
       "\n",
       "    .dataframe tbody tr th {\n",
       "        vertical-align: top;\n",
       "    }\n",
       "\n",
       "    .dataframe thead th {\n",
       "        text-align: right;\n",
       "    }\n",
       "</style>\n",
       "<table border=\"1\" class=\"dataframe\">\n",
       "  <thead>\n",
       "    <tr style=\"text-align: right;\">\n",
       "      <th></th>\n",
       "      <th>in_reply_to_status_id</th>\n",
       "      <th>in_reply_to_user_id</th>\n",
       "      <th>timestamp</th>\n",
       "      <th>source</th>\n",
       "      <th>text</th>\n",
       "      <th>retweeted_status_id</th>\n",
       "      <th>retweeted_status_user_id</th>\n",
       "      <th>retweeted_status_timestamp</th>\n",
       "      <th>expanded_urls</th>\n",
       "      <th>rating_numerator</th>\n",
       "      <th>rating_denominator</th>\n",
       "      <th>name</th>\n",
       "      <th>doggo</th>\n",
       "      <th>floofer</th>\n",
       "      <th>pupper</th>\n",
       "      <th>puppo</th>\n",
       "    </tr>\n",
       "    <tr>\n",
       "      <th>tweet_id</th>\n",
       "      <th></th>\n",
       "      <th></th>\n",
       "      <th></th>\n",
       "      <th></th>\n",
       "      <th></th>\n",
       "      <th></th>\n",
       "      <th></th>\n",
       "      <th></th>\n",
       "      <th></th>\n",
       "      <th></th>\n",
       "      <th></th>\n",
       "      <th></th>\n",
       "      <th></th>\n",
       "      <th></th>\n",
       "      <th></th>\n",
       "      <th></th>\n",
       "    </tr>\n",
       "  </thead>\n",
       "  <tbody>\n",
       "    <tr>\n",
       "      <td>892420643555336193</td>\n",
       "      <td>NaN</td>\n",
       "      <td>NaN</td>\n",
       "      <td>2017-08-01 16:23:56 +0000</td>\n",
       "      <td>&lt;a href=\"http://twitter.com/download/iphone\" r...</td>\n",
       "      <td>This is Phineas. He's a mystical boy. Only eve...</td>\n",
       "      <td>NaN</td>\n",
       "      <td>NaN</td>\n",
       "      <td>NaN</td>\n",
       "      <td>https://twitter.com/dog_rates/status/892420643...</td>\n",
       "      <td>13</td>\n",
       "      <td>10</td>\n",
       "      <td>Phineas</td>\n",
       "      <td>None</td>\n",
       "      <td>None</td>\n",
       "      <td>None</td>\n",
       "      <td>None</td>\n",
       "    </tr>\n",
       "    <tr>\n",
       "      <td>892177421306343426</td>\n",
       "      <td>NaN</td>\n",
       "      <td>NaN</td>\n",
       "      <td>2017-08-01 00:17:27 +0000</td>\n",
       "      <td>&lt;a href=\"http://twitter.com/download/iphone\" r...</td>\n",
       "      <td>This is Tilly. She's just checking pup on you....</td>\n",
       "      <td>NaN</td>\n",
       "      <td>NaN</td>\n",
       "      <td>NaN</td>\n",
       "      <td>https://twitter.com/dog_rates/status/892177421...</td>\n",
       "      <td>13</td>\n",
       "      <td>10</td>\n",
       "      <td>Tilly</td>\n",
       "      <td>None</td>\n",
       "      <td>None</td>\n",
       "      <td>None</td>\n",
       "      <td>None</td>\n",
       "    </tr>\n",
       "  </tbody>\n",
       "</table>\n",
       "</div>"
      ],
      "text/plain": [
       "                    in_reply_to_status_id  in_reply_to_user_id  \\\n",
       "tweet_id                                                         \n",
       "892420643555336193                    NaN                  NaN   \n",
       "892177421306343426                    NaN                  NaN   \n",
       "\n",
       "                                    timestamp  \\\n",
       "tweet_id                                        \n",
       "892420643555336193  2017-08-01 16:23:56 +0000   \n",
       "892177421306343426  2017-08-01 00:17:27 +0000   \n",
       "\n",
       "                                                               source  \\\n",
       "tweet_id                                                                \n",
       "892420643555336193  <a href=\"http://twitter.com/download/iphone\" r...   \n",
       "892177421306343426  <a href=\"http://twitter.com/download/iphone\" r...   \n",
       "\n",
       "                                                                 text  \\\n",
       "tweet_id                                                                \n",
       "892420643555336193  This is Phineas. He's a mystical boy. Only eve...   \n",
       "892177421306343426  This is Tilly. She's just checking pup on you....   \n",
       "\n",
       "                    retweeted_status_id  retweeted_status_user_id  \\\n",
       "tweet_id                                                            \n",
       "892420643555336193                  NaN                       NaN   \n",
       "892177421306343426                  NaN                       NaN   \n",
       "\n",
       "                   retweeted_status_timestamp  \\\n",
       "tweet_id                                        \n",
       "892420643555336193                        NaN   \n",
       "892177421306343426                        NaN   \n",
       "\n",
       "                                                        expanded_urls  \\\n",
       "tweet_id                                                                \n",
       "892420643555336193  https://twitter.com/dog_rates/status/892420643...   \n",
       "892177421306343426  https://twitter.com/dog_rates/status/892177421...   \n",
       "\n",
       "                    rating_numerator  rating_denominator     name doggo  \\\n",
       "tweet_id                                                                  \n",
       "892420643555336193                13                  10  Phineas  None   \n",
       "892177421306343426                13                  10    Tilly  None   \n",
       "\n",
       "                   floofer pupper puppo  \n",
       "tweet_id                                 \n",
       "892420643555336193    None   None  None  \n",
       "892177421306343426    None   None  None  "
      ]
     },
     "execution_count": 3,
     "metadata": {},
     "output_type": "execute_result"
    }
   ],
   "source": [
    "twitter_archive.head(2)"
   ]
  },
  {
   "cell_type": "markdown",
   "metadata": {},
   "source": [
    "Load in a pandas dataframe the \"tweet image predictions\" datasets, containing the predictions of what breed of dog (or other object, animal, etc.) is present in each tweet according to a neural network. The file is hosted on Udacity's servers and can be downloaded at the following URL: https://d17h27t6h515a5.cloudfront.net/topher/2017/August/599fd2ad_image-predictions/image-predictions.tsv"
   ]
  },
  {
   "cell_type": "code",
   "execution_count": 4,
   "metadata": {},
   "outputs": [],
   "source": [
    "url = 'https://d17h27t6h515a5.cloudfront.net/topher/2017/August/599fd2ad_image-predictions/image-predictions.tsv'"
   ]
  },
  {
   "cell_type": "code",
   "execution_count": 5,
   "metadata": {},
   "outputs": [],
   "source": [
    "image_predictions = pd.read_csv(url, sep='\\t', index_col='tweet_id')"
   ]
  },
  {
   "cell_type": "code",
   "execution_count": 6,
   "metadata": {},
   "outputs": [
    {
     "data": {
      "text/html": [
       "<div>\n",
       "<style scoped>\n",
       "    .dataframe tbody tr th:only-of-type {\n",
       "        vertical-align: middle;\n",
       "    }\n",
       "\n",
       "    .dataframe tbody tr th {\n",
       "        vertical-align: top;\n",
       "    }\n",
       "\n",
       "    .dataframe thead th {\n",
       "        text-align: right;\n",
       "    }\n",
       "</style>\n",
       "<table border=\"1\" class=\"dataframe\">\n",
       "  <thead>\n",
       "    <tr style=\"text-align: right;\">\n",
       "      <th></th>\n",
       "      <th>jpg_url</th>\n",
       "      <th>img_num</th>\n",
       "      <th>p1</th>\n",
       "      <th>p1_conf</th>\n",
       "      <th>p1_dog</th>\n",
       "      <th>p2</th>\n",
       "      <th>p2_conf</th>\n",
       "      <th>p2_dog</th>\n",
       "      <th>p3</th>\n",
       "      <th>p3_conf</th>\n",
       "      <th>p3_dog</th>\n",
       "    </tr>\n",
       "    <tr>\n",
       "      <th>tweet_id</th>\n",
       "      <th></th>\n",
       "      <th></th>\n",
       "      <th></th>\n",
       "      <th></th>\n",
       "      <th></th>\n",
       "      <th></th>\n",
       "      <th></th>\n",
       "      <th></th>\n",
       "      <th></th>\n",
       "      <th></th>\n",
       "      <th></th>\n",
       "    </tr>\n",
       "  </thead>\n",
       "  <tbody>\n",
       "    <tr>\n",
       "      <td>666020888022790149</td>\n",
       "      <td>https://pbs.twimg.com/media/CT4udn0WwAA0aMy.jpg</td>\n",
       "      <td>1</td>\n",
       "      <td>Welsh_springer_spaniel</td>\n",
       "      <td>0.465074</td>\n",
       "      <td>True</td>\n",
       "      <td>collie</td>\n",
       "      <td>0.156665</td>\n",
       "      <td>True</td>\n",
       "      <td>Shetland_sheepdog</td>\n",
       "      <td>0.061428</td>\n",
       "      <td>True</td>\n",
       "    </tr>\n",
       "    <tr>\n",
       "      <td>666029285002620928</td>\n",
       "      <td>https://pbs.twimg.com/media/CT42GRgUYAA5iDo.jpg</td>\n",
       "      <td>1</td>\n",
       "      <td>redbone</td>\n",
       "      <td>0.506826</td>\n",
       "      <td>True</td>\n",
       "      <td>miniature_pinscher</td>\n",
       "      <td>0.074192</td>\n",
       "      <td>True</td>\n",
       "      <td>Rhodesian_ridgeback</td>\n",
       "      <td>0.072010</td>\n",
       "      <td>True</td>\n",
       "    </tr>\n",
       "  </tbody>\n",
       "</table>\n",
       "</div>"
      ],
      "text/plain": [
       "                                                            jpg_url  img_num  \\\n",
       "tweet_id                                                                       \n",
       "666020888022790149  https://pbs.twimg.com/media/CT4udn0WwAA0aMy.jpg        1   \n",
       "666029285002620928  https://pbs.twimg.com/media/CT42GRgUYAA5iDo.jpg        1   \n",
       "\n",
       "                                        p1   p1_conf  p1_dog  \\\n",
       "tweet_id                                                       \n",
       "666020888022790149  Welsh_springer_spaniel  0.465074    True   \n",
       "666029285002620928                 redbone  0.506826    True   \n",
       "\n",
       "                                    p2   p2_conf  p2_dog                   p3  \\\n",
       "tweet_id                                                                        \n",
       "666020888022790149              collie  0.156665    True    Shetland_sheepdog   \n",
       "666029285002620928  miniature_pinscher  0.074192    True  Rhodesian_ridgeback   \n",
       "\n",
       "                     p3_conf  p3_dog  \n",
       "tweet_id                              \n",
       "666020888022790149  0.061428    True  \n",
       "666029285002620928  0.072010    True  "
      ]
     },
     "execution_count": 6,
     "metadata": {},
     "output_type": "execute_result"
    }
   ],
   "source": [
    "image_predictions.head(2)"
   ]
  },
  {
   "cell_type": "markdown",
   "metadata": {},
   "source": [
    "Load in a pandas dataframe the \"tweet_json.txt\" file, containing information about each tweet (e.g. number of likes, retweets, etc.)."
   ]
  },
  {
   "cell_type": "code",
   "execution_count": 7,
   "metadata": {},
   "outputs": [],
   "source": [
    "with open('tweet-json.txt') as read_file:\n",
    "    tweet_info = pd.DataFrame((json.loads(line) for line in read_file), columns = ['id', 'favorite_count', 'retweet_count'])"
   ]
  },
  {
   "cell_type": "code",
   "execution_count": 8,
   "metadata": {},
   "outputs": [],
   "source": [
    "tweet_info = tweet_info.rename(columns={'id': 'tweet_id', 'favorite_count': 'favorites', 'retweet_count': 'retweets'})\n",
    "tweet_info.set_index('tweet_id', inplace=True)"
   ]
  },
  {
   "cell_type": "code",
   "execution_count": 9,
   "metadata": {},
   "outputs": [
    {
     "data": {
      "text/html": [
       "<div>\n",
       "<style scoped>\n",
       "    .dataframe tbody tr th:only-of-type {\n",
       "        vertical-align: middle;\n",
       "    }\n",
       "\n",
       "    .dataframe tbody tr th {\n",
       "        vertical-align: top;\n",
       "    }\n",
       "\n",
       "    .dataframe thead th {\n",
       "        text-align: right;\n",
       "    }\n",
       "</style>\n",
       "<table border=\"1\" class=\"dataframe\">\n",
       "  <thead>\n",
       "    <tr style=\"text-align: right;\">\n",
       "      <th></th>\n",
       "      <th>favorites</th>\n",
       "      <th>retweets</th>\n",
       "    </tr>\n",
       "    <tr>\n",
       "      <th>tweet_id</th>\n",
       "      <th></th>\n",
       "      <th></th>\n",
       "    </tr>\n",
       "  </thead>\n",
       "  <tbody>\n",
       "    <tr>\n",
       "      <td>892420643555336193</td>\n",
       "      <td>39467</td>\n",
       "      <td>8853</td>\n",
       "    </tr>\n",
       "    <tr>\n",
       "      <td>892177421306343426</td>\n",
       "      <td>33819</td>\n",
       "      <td>6514</td>\n",
       "    </tr>\n",
       "  </tbody>\n",
       "</table>\n",
       "</div>"
      ],
      "text/plain": [
       "                    favorites  retweets\n",
       "tweet_id                               \n",
       "892420643555336193      39467      8853\n",
       "892177421306343426      33819      6514"
      ]
     },
     "execution_count": 9,
     "metadata": {},
     "output_type": "execute_result"
    }
   ],
   "source": [
    "tweet_info.head(2)"
   ]
  },
  {
   "cell_type": "markdown",
   "metadata": {},
   "source": [
    "<a id='assessment'></a>\n",
    "# Data Assessing\n",
    "\n"
   ]
  },
  {
   "cell_type": "markdown",
   "metadata": {},
   "source": [
    "##### Assess the first table \"twitter_archive\""
   ]
  },
  {
   "cell_type": "code",
   "execution_count": 10,
   "metadata": {},
   "outputs": [
    {
     "data": {
      "text/html": [
       "<div>\n",
       "<style scoped>\n",
       "    .dataframe tbody tr th:only-of-type {\n",
       "        vertical-align: middle;\n",
       "    }\n",
       "\n",
       "    .dataframe tbody tr th {\n",
       "        vertical-align: top;\n",
       "    }\n",
       "\n",
       "    .dataframe thead th {\n",
       "        text-align: right;\n",
       "    }\n",
       "</style>\n",
       "<table border=\"1\" class=\"dataframe\">\n",
       "  <thead>\n",
       "    <tr style=\"text-align: right;\">\n",
       "      <th></th>\n",
       "      <th>in_reply_to_status_id</th>\n",
       "      <th>in_reply_to_user_id</th>\n",
       "      <th>timestamp</th>\n",
       "      <th>source</th>\n",
       "      <th>text</th>\n",
       "      <th>retweeted_status_id</th>\n",
       "      <th>retweeted_status_user_id</th>\n",
       "      <th>retweeted_status_timestamp</th>\n",
       "      <th>expanded_urls</th>\n",
       "      <th>rating_numerator</th>\n",
       "      <th>rating_denominator</th>\n",
       "      <th>name</th>\n",
       "      <th>doggo</th>\n",
       "      <th>floofer</th>\n",
       "      <th>pupper</th>\n",
       "      <th>puppo</th>\n",
       "    </tr>\n",
       "    <tr>\n",
       "      <th>tweet_id</th>\n",
       "      <th></th>\n",
       "      <th></th>\n",
       "      <th></th>\n",
       "      <th></th>\n",
       "      <th></th>\n",
       "      <th></th>\n",
       "      <th></th>\n",
       "      <th></th>\n",
       "      <th></th>\n",
       "      <th></th>\n",
       "      <th></th>\n",
       "      <th></th>\n",
       "      <th></th>\n",
       "      <th></th>\n",
       "      <th></th>\n",
       "      <th></th>\n",
       "    </tr>\n",
       "  </thead>\n",
       "  <tbody>\n",
       "    <tr>\n",
       "      <td>676146341966438401</td>\n",
       "      <td>NaN</td>\n",
       "      <td>NaN</td>\n",
       "      <td>2015-12-13 21:07:04 +0000</td>\n",
       "      <td>&lt;a href=\"http://twitter.com/download/iphone\" r...</td>\n",
       "      <td>This is Bert. He likes flowers. 10/10 https://...</td>\n",
       "      <td>NaN</td>\n",
       "      <td>NaN</td>\n",
       "      <td>NaN</td>\n",
       "      <td>https://twitter.com/dog_rates/status/676146341...</td>\n",
       "      <td>10</td>\n",
       "      <td>10</td>\n",
       "      <td>Bert</td>\n",
       "      <td>None</td>\n",
       "      <td>None</td>\n",
       "      <td>None</td>\n",
       "      <td>None</td>\n",
       "    </tr>\n",
       "    <tr>\n",
       "      <td>850380195714523136</td>\n",
       "      <td>NaN</td>\n",
       "      <td>NaN</td>\n",
       "      <td>2017-04-07 16:10:12 +0000</td>\n",
       "      <td>&lt;a href=\"http://twitter.com/download/iphone\" r...</td>\n",
       "      <td>This is Leo. He's a personal triathlon coach. ...</td>\n",
       "      <td>NaN</td>\n",
       "      <td>NaN</td>\n",
       "      <td>NaN</td>\n",
       "      <td>https://twitter.com/dog_rates/status/850380195...</td>\n",
       "      <td>13</td>\n",
       "      <td>10</td>\n",
       "      <td>Leo</td>\n",
       "      <td>None</td>\n",
       "      <td>None</td>\n",
       "      <td>None</td>\n",
       "      <td>None</td>\n",
       "    </tr>\n",
       "    <tr>\n",
       "      <td>707629649552134146</td>\n",
       "      <td>NaN</td>\n",
       "      <td>NaN</td>\n",
       "      <td>2016-03-09 18:10:30 +0000</td>\n",
       "      <td>&lt;a href=\"http://vine.co\" rel=\"nofollow\"&gt;Vine -...</td>\n",
       "      <td>We usually don't rate marshmallows but this on...</td>\n",
       "      <td>NaN</td>\n",
       "      <td>NaN</td>\n",
       "      <td>NaN</td>\n",
       "      <td>https://vine.co/v/iHhBOTl5p9z</td>\n",
       "      <td>10</td>\n",
       "      <td>10</td>\n",
       "      <td>None</td>\n",
       "      <td>None</td>\n",
       "      <td>None</td>\n",
       "      <td>None</td>\n",
       "      <td>None</td>\n",
       "    </tr>\n",
       "    <tr>\n",
       "      <td>691793053716221953</td>\n",
       "      <td>NaN</td>\n",
       "      <td>NaN</td>\n",
       "      <td>2016-01-26 01:21:31 +0000</td>\n",
       "      <td>&lt;a href=\"http://vine.co\" rel=\"nofollow\"&gt;Vine -...</td>\n",
       "      <td>We usually don't rate penguins but this one is...</td>\n",
       "      <td>NaN</td>\n",
       "      <td>NaN</td>\n",
       "      <td>NaN</td>\n",
       "      <td>https://vine.co/v/OTTVAKw6YlW</td>\n",
       "      <td>10</td>\n",
       "      <td>10</td>\n",
       "      <td>None</td>\n",
       "      <td>None</td>\n",
       "      <td>None</td>\n",
       "      <td>None</td>\n",
       "      <td>None</td>\n",
       "    </tr>\n",
       "    <tr>\n",
       "      <td>668892474547511297</td>\n",
       "      <td>NaN</td>\n",
       "      <td>NaN</td>\n",
       "      <td>2015-11-23 20:42:48 +0000</td>\n",
       "      <td>&lt;a href=\"http://twitter.com/download/iphone\" r...</td>\n",
       "      <td>This is Ruffles. He is an Albanian Shoop Da Wh...</td>\n",
       "      <td>NaN</td>\n",
       "      <td>NaN</td>\n",
       "      <td>NaN</td>\n",
       "      <td>https://twitter.com/dog_rates/status/668892474...</td>\n",
       "      <td>11</td>\n",
       "      <td>10</td>\n",
       "      <td>Ruffles</td>\n",
       "      <td>None</td>\n",
       "      <td>None</td>\n",
       "      <td>None</td>\n",
       "      <td>None</td>\n",
       "    </tr>\n",
       "  </tbody>\n",
       "</table>\n",
       "</div>"
      ],
      "text/plain": [
       "                    in_reply_to_status_id  in_reply_to_user_id  \\\n",
       "tweet_id                                                         \n",
       "676146341966438401                    NaN                  NaN   \n",
       "850380195714523136                    NaN                  NaN   \n",
       "707629649552134146                    NaN                  NaN   \n",
       "691793053716221953                    NaN                  NaN   \n",
       "668892474547511297                    NaN                  NaN   \n",
       "\n",
       "                                    timestamp  \\\n",
       "tweet_id                                        \n",
       "676146341966438401  2015-12-13 21:07:04 +0000   \n",
       "850380195714523136  2017-04-07 16:10:12 +0000   \n",
       "707629649552134146  2016-03-09 18:10:30 +0000   \n",
       "691793053716221953  2016-01-26 01:21:31 +0000   \n",
       "668892474547511297  2015-11-23 20:42:48 +0000   \n",
       "\n",
       "                                                               source  \\\n",
       "tweet_id                                                                \n",
       "676146341966438401  <a href=\"http://twitter.com/download/iphone\" r...   \n",
       "850380195714523136  <a href=\"http://twitter.com/download/iphone\" r...   \n",
       "707629649552134146  <a href=\"http://vine.co\" rel=\"nofollow\">Vine -...   \n",
       "691793053716221953  <a href=\"http://vine.co\" rel=\"nofollow\">Vine -...   \n",
       "668892474547511297  <a href=\"http://twitter.com/download/iphone\" r...   \n",
       "\n",
       "                                                                 text  \\\n",
       "tweet_id                                                                \n",
       "676146341966438401  This is Bert. He likes flowers. 10/10 https://...   \n",
       "850380195714523136  This is Leo. He's a personal triathlon coach. ...   \n",
       "707629649552134146  We usually don't rate marshmallows but this on...   \n",
       "691793053716221953  We usually don't rate penguins but this one is...   \n",
       "668892474547511297  This is Ruffles. He is an Albanian Shoop Da Wh...   \n",
       "\n",
       "                    retweeted_status_id  retweeted_status_user_id  \\\n",
       "tweet_id                                                            \n",
       "676146341966438401                  NaN                       NaN   \n",
       "850380195714523136                  NaN                       NaN   \n",
       "707629649552134146                  NaN                       NaN   \n",
       "691793053716221953                  NaN                       NaN   \n",
       "668892474547511297                  NaN                       NaN   \n",
       "\n",
       "                   retweeted_status_timestamp  \\\n",
       "tweet_id                                        \n",
       "676146341966438401                        NaN   \n",
       "850380195714523136                        NaN   \n",
       "707629649552134146                        NaN   \n",
       "691793053716221953                        NaN   \n",
       "668892474547511297                        NaN   \n",
       "\n",
       "                                                        expanded_urls  \\\n",
       "tweet_id                                                                \n",
       "676146341966438401  https://twitter.com/dog_rates/status/676146341...   \n",
       "850380195714523136  https://twitter.com/dog_rates/status/850380195...   \n",
       "707629649552134146                      https://vine.co/v/iHhBOTl5p9z   \n",
       "691793053716221953                      https://vine.co/v/OTTVAKw6YlW   \n",
       "668892474547511297  https://twitter.com/dog_rates/status/668892474...   \n",
       "\n",
       "                    rating_numerator  rating_denominator     name doggo  \\\n",
       "tweet_id                                                                  \n",
       "676146341966438401                10                  10     Bert  None   \n",
       "850380195714523136                13                  10      Leo  None   \n",
       "707629649552134146                10                  10     None  None   \n",
       "691793053716221953                10                  10     None  None   \n",
       "668892474547511297                11                  10  Ruffles  None   \n",
       "\n",
       "                   floofer pupper puppo  \n",
       "tweet_id                                 \n",
       "676146341966438401    None   None  None  \n",
       "850380195714523136    None   None  None  \n",
       "707629649552134146    None   None  None  \n",
       "691793053716221953    None   None  None  \n",
       "668892474547511297    None   None  None  "
      ]
     },
     "execution_count": 10,
     "metadata": {},
     "output_type": "execute_result"
    }
   ],
   "source": [
    "twitter_archive.sample(5)"
   ]
  },
  {
   "cell_type": "code",
   "execution_count": 11,
   "metadata": {},
   "outputs": [
    {
     "name": "stdout",
     "output_type": "stream",
     "text": [
      "<class 'pandas.core.frame.DataFrame'>\n",
      "Int64Index: 2356 entries, 892420643555336193 to 666020888022790149\n",
      "Data columns (total 16 columns):\n",
      "in_reply_to_status_id         78 non-null float64\n",
      "in_reply_to_user_id           78 non-null float64\n",
      "timestamp                     2356 non-null object\n",
      "source                        2356 non-null object\n",
      "text                          2356 non-null object\n",
      "retweeted_status_id           181 non-null float64\n",
      "retweeted_status_user_id      181 non-null float64\n",
      "retweeted_status_timestamp    181 non-null object\n",
      "expanded_urls                 2297 non-null object\n",
      "rating_numerator              2356 non-null int64\n",
      "rating_denominator            2356 non-null int64\n",
      "name                          2356 non-null object\n",
      "doggo                         2356 non-null object\n",
      "floofer                       2356 non-null object\n",
      "pupper                        2356 non-null object\n",
      "puppo                         2356 non-null object\n",
      "dtypes: float64(4), int64(2), object(10)\n",
      "memory usage: 312.9+ KB\n"
     ]
    }
   ],
   "source": [
    "twitter_archive.info()"
   ]
  },
  {
   "cell_type": "markdown",
   "metadata": {},
   "source": [
    "Check for duplicated ids"
   ]
  },
  {
   "cell_type": "code",
   "execution_count": 12,
   "metadata": {
    "scrolled": false
   },
   "outputs": [
    {
     "data": {
      "text/plain": [
       "0"
      ]
     },
     "execution_count": 12,
     "metadata": {},
     "output_type": "execute_result"
    }
   ],
   "source": [
    "sum(twitter_archive.index.duplicated())"
   ]
  },
  {
   "cell_type": "markdown",
   "metadata": {},
   "source": [
    "Check denominator ratings."
   ]
  },
  {
   "cell_type": "code",
   "execution_count": 13,
   "metadata": {},
   "outputs": [
    {
     "data": {
      "text/plain": [
       "10     2333\n",
       "11        3\n",
       "50        3\n",
       "80        2\n",
       "20        2\n",
       "2         1\n",
       "16        1\n",
       "40        1\n",
       "70        1\n",
       "15        1\n",
       "90        1\n",
       "110       1\n",
       "120       1\n",
       "130       1\n",
       "150       1\n",
       "170       1\n",
       "7         1\n",
       "0         1\n",
       "Name: rating_denominator, dtype: int64"
      ]
     },
     "execution_count": 13,
     "metadata": {},
     "output_type": "execute_result"
    }
   ],
   "source": [
    "twitter_archive['rating_denominator'].value_counts()"
   ]
  },
  {
   "cell_type": "code",
   "execution_count": 14,
   "metadata": {},
   "outputs": [
    {
     "data": {
      "text/html": [
       "<div>\n",
       "<style scoped>\n",
       "    .dataframe tbody tr th:only-of-type {\n",
       "        vertical-align: middle;\n",
       "    }\n",
       "\n",
       "    .dataframe tbody tr th {\n",
       "        vertical-align: top;\n",
       "    }\n",
       "\n",
       "    .dataframe thead th {\n",
       "        text-align: right;\n",
       "    }\n",
       "</style>\n",
       "<table border=\"1\" class=\"dataframe\">\n",
       "  <thead>\n",
       "    <tr style=\"text-align: right;\">\n",
       "      <th></th>\n",
       "      <th>text</th>\n",
       "      <th>rating_denominator</th>\n",
       "    </tr>\n",
       "    <tr>\n",
       "      <th>tweet_id</th>\n",
       "      <th></th>\n",
       "      <th></th>\n",
       "    </tr>\n",
       "  </thead>\n",
       "  <tbody>\n",
       "    <tr>\n",
       "      <td>832088576586297345</td>\n",
       "      <td>@docmisterio account started on 11/15/15</td>\n",
       "      <td>15</td>\n",
       "    </tr>\n",
       "    <tr>\n",
       "      <td>820690176645140481</td>\n",
       "      <td>The floofs have been released I repeat the flo...</td>\n",
       "      <td>70</td>\n",
       "    </tr>\n",
       "    <tr>\n",
       "      <td>775096608509886464</td>\n",
       "      <td>RT @dog_rates: After so many requests, this is...</td>\n",
       "      <td>11</td>\n",
       "    </tr>\n",
       "    <tr>\n",
       "      <td>758467244762497024</td>\n",
       "      <td>Why does this never happen at my front door......</td>\n",
       "      <td>150</td>\n",
       "    </tr>\n",
       "    <tr>\n",
       "      <td>740373189193256964</td>\n",
       "      <td>After so many requests, this is Bretagne. She ...</td>\n",
       "      <td>11</td>\n",
       "    </tr>\n",
       "    <tr>\n",
       "      <td>731156023742988288</td>\n",
       "      <td>Say hello to this unbelievably well behaved sq...</td>\n",
       "      <td>170</td>\n",
       "    </tr>\n",
       "    <tr>\n",
       "      <td>722974582966214656</td>\n",
       "      <td>Happy 4/20 from the squad! 13/10 for all https...</td>\n",
       "      <td>20</td>\n",
       "    </tr>\n",
       "    <tr>\n",
       "      <td>716439118184652801</td>\n",
       "      <td>This is Bluebert. He just saw that both #Final...</td>\n",
       "      <td>50</td>\n",
       "    </tr>\n",
       "    <tr>\n",
       "      <td>713900603437621249</td>\n",
       "      <td>Happy Saturday here's 9 puppers on a bench. 99...</td>\n",
       "      <td>90</td>\n",
       "    </tr>\n",
       "    <tr>\n",
       "      <td>710658690886586372</td>\n",
       "      <td>Here's a brigade of puppers. All look very pre...</td>\n",
       "      <td>80</td>\n",
       "    </tr>\n",
       "    <tr>\n",
       "      <td>709198395643068416</td>\n",
       "      <td>From left to right:\\nCletus, Jerome, Alejandro...</td>\n",
       "      <td>50</td>\n",
       "    </tr>\n",
       "    <tr>\n",
       "      <td>704054845121142784</td>\n",
       "      <td>Here is a whole flock of puppers.  60/50 I'll ...</td>\n",
       "      <td>50</td>\n",
       "    </tr>\n",
       "    <tr>\n",
       "      <td>697463031882764288</td>\n",
       "      <td>Happy Wednesday here's a bucket of pups. 44/40...</td>\n",
       "      <td>40</td>\n",
       "    </tr>\n",
       "    <tr>\n",
       "      <td>686035780142297088</td>\n",
       "      <td>Yes I do realize a rating of 4/20 would've bee...</td>\n",
       "      <td>20</td>\n",
       "    </tr>\n",
       "    <tr>\n",
       "      <td>684225744407494656</td>\n",
       "      <td>Two sneaky puppers were not initially seen, mo...</td>\n",
       "      <td>130</td>\n",
       "    </tr>\n",
       "    <tr>\n",
       "      <td>684222868335505415</td>\n",
       "      <td>Someone help the girl is being mugged. Several...</td>\n",
       "      <td>110</td>\n",
       "    </tr>\n",
       "    <tr>\n",
       "      <td>682962037429899265</td>\n",
       "      <td>This is Darrel. He just robbed a 7/11 and is i...</td>\n",
       "      <td>11</td>\n",
       "    </tr>\n",
       "    <tr>\n",
       "      <td>682808988178739200</td>\n",
       "      <td>I'm aware that I could've said 20/16, but here...</td>\n",
       "      <td>16</td>\n",
       "    </tr>\n",
       "    <tr>\n",
       "      <td>677716515794329600</td>\n",
       "      <td>IT'S PUPPERGEDDON. Total of 144/120 ...I think...</td>\n",
       "      <td>120</td>\n",
       "    </tr>\n",
       "    <tr>\n",
       "      <td>675853064436391936</td>\n",
       "      <td>Here we have an entire platoon of puppers. Tot...</td>\n",
       "      <td>80</td>\n",
       "    </tr>\n",
       "  </tbody>\n",
       "</table>\n",
       "</div>"
      ],
      "text/plain": [
       "                                                                 text  \\\n",
       "tweet_id                                                                \n",
       "832088576586297345           @docmisterio account started on 11/15/15   \n",
       "820690176645140481  The floofs have been released I repeat the flo...   \n",
       "775096608509886464  RT @dog_rates: After so many requests, this is...   \n",
       "758467244762497024  Why does this never happen at my front door......   \n",
       "740373189193256964  After so many requests, this is Bretagne. She ...   \n",
       "731156023742988288  Say hello to this unbelievably well behaved sq...   \n",
       "722974582966214656  Happy 4/20 from the squad! 13/10 for all https...   \n",
       "716439118184652801  This is Bluebert. He just saw that both #Final...   \n",
       "713900603437621249  Happy Saturday here's 9 puppers on a bench. 99...   \n",
       "710658690886586372  Here's a brigade of puppers. All look very pre...   \n",
       "709198395643068416  From left to right:\\nCletus, Jerome, Alejandro...   \n",
       "704054845121142784  Here is a whole flock of puppers.  60/50 I'll ...   \n",
       "697463031882764288  Happy Wednesday here's a bucket of pups. 44/40...   \n",
       "686035780142297088  Yes I do realize a rating of 4/20 would've bee...   \n",
       "684225744407494656  Two sneaky puppers were not initially seen, mo...   \n",
       "684222868335505415  Someone help the girl is being mugged. Several...   \n",
       "682962037429899265  This is Darrel. He just robbed a 7/11 and is i...   \n",
       "682808988178739200  I'm aware that I could've said 20/16, but here...   \n",
       "677716515794329600  IT'S PUPPERGEDDON. Total of 144/120 ...I think...   \n",
       "675853064436391936  Here we have an entire platoon of puppers. Tot...   \n",
       "\n",
       "                    rating_denominator  \n",
       "tweet_id                                \n",
       "832088576586297345                  15  \n",
       "820690176645140481                  70  \n",
       "775096608509886464                  11  \n",
       "758467244762497024                 150  \n",
       "740373189193256964                  11  \n",
       "731156023742988288                 170  \n",
       "722974582966214656                  20  \n",
       "716439118184652801                  50  \n",
       "713900603437621249                  90  \n",
       "710658690886586372                  80  \n",
       "709198395643068416                  50  \n",
       "704054845121142784                  50  \n",
       "697463031882764288                  40  \n",
       "686035780142297088                  20  \n",
       "684225744407494656                 130  \n",
       "684222868335505415                 110  \n",
       "682962037429899265                  11  \n",
       "682808988178739200                  16  \n",
       "677716515794329600                 120  \n",
       "675853064436391936                  80  "
      ]
     },
     "execution_count": 14,
     "metadata": {},
     "output_type": "execute_result"
    }
   ],
   "source": [
    "twitter_archive.loc[twitter_archive['rating_denominator']>10][['text','rating_denominator']]"
   ]
  },
  {
   "cell_type": "code",
   "execution_count": 15,
   "metadata": {},
   "outputs": [
    {
     "name": "stdout",
     "output_type": "stream",
     "text": [
      "None    2249\n",
      "Name: doggo, dtype: int64\n",
      "None    2346\n",
      "Name: floofer, dtype: int64\n",
      "None    2073\n",
      "Name: pupper, dtype: int64\n",
      "None    2318\n",
      "Name: puppo, dtype: int64\n"
     ]
    }
   ],
   "source": [
    "#Filter rows NOT containing one of the four categories of dogs and check whether the columns contain only \"none\"\n",
    "dog_stages = ['doggo', 'floofer', 'pupper', 'puppo']\n",
    "for stage in dog_stages:\n",
    "    print(twitter_archive.loc[~twitter_archive['text'].str.contains(stage, case=False)][stage].value_counts())"
   ]
  },
  {
   "cell_type": "code",
   "execution_count": 16,
   "metadata": {},
   "outputs": [
    {
     "name": "stdout",
     "output_type": "stream",
     "text": [
      "doggo    97\n",
      "None     10\n",
      "Name: doggo, dtype: int64\n",
      "floofer    10\n",
      "Name: floofer, dtype: int64\n",
      "pupper    257\n",
      "None       26\n",
      "Name: pupper, dtype: int64\n",
      "puppo    30\n",
      "None      8\n",
      "Name: puppo, dtype: int64\n"
     ]
    }
   ],
   "source": [
    "#Filter rows containing one of the four categories of dogs and check whether the columns do not contain any \"none\"\n",
    "for stage in dog_stages:\n",
    "    print(twitter_archive.loc[twitter_archive['text'].str.contains(stage, case=False)][stage].value_counts())"
   ]
  },
  {
   "cell_type": "markdown",
   "metadata": {},
   "source": [
    "##### Assess the second table \"image_predictions\""
   ]
  },
  {
   "cell_type": "code",
   "execution_count": 17,
   "metadata": {},
   "outputs": [
    {
     "data": {
      "text/html": [
       "<div>\n",
       "<style scoped>\n",
       "    .dataframe tbody tr th:only-of-type {\n",
       "        vertical-align: middle;\n",
       "    }\n",
       "\n",
       "    .dataframe tbody tr th {\n",
       "        vertical-align: top;\n",
       "    }\n",
       "\n",
       "    .dataframe thead th {\n",
       "        text-align: right;\n",
       "    }\n",
       "</style>\n",
       "<table border=\"1\" class=\"dataframe\">\n",
       "  <thead>\n",
       "    <tr style=\"text-align: right;\">\n",
       "      <th></th>\n",
       "      <th>jpg_url</th>\n",
       "      <th>img_num</th>\n",
       "      <th>p1</th>\n",
       "      <th>p1_conf</th>\n",
       "      <th>p1_dog</th>\n",
       "      <th>p2</th>\n",
       "      <th>p2_conf</th>\n",
       "      <th>p2_dog</th>\n",
       "      <th>p3</th>\n",
       "      <th>p3_conf</th>\n",
       "      <th>p3_dog</th>\n",
       "    </tr>\n",
       "    <tr>\n",
       "      <th>tweet_id</th>\n",
       "      <th></th>\n",
       "      <th></th>\n",
       "      <th></th>\n",
       "      <th></th>\n",
       "      <th></th>\n",
       "      <th></th>\n",
       "      <th></th>\n",
       "      <th></th>\n",
       "      <th></th>\n",
       "      <th></th>\n",
       "      <th></th>\n",
       "    </tr>\n",
       "  </thead>\n",
       "  <tbody>\n",
       "    <tr>\n",
       "      <td>674632714662858753</td>\n",
       "      <td>https://pbs.twimg.com/media/CVzG3yOVAAAqi9I.jpg</td>\n",
       "      <td>1</td>\n",
       "      <td>jellyfish</td>\n",
       "      <td>0.432748</td>\n",
       "      <td>False</td>\n",
       "      <td>goldfish</td>\n",
       "      <td>0.113111</td>\n",
       "      <td>False</td>\n",
       "      <td>coral_reef</td>\n",
       "      <td>0.087047</td>\n",
       "      <td>False</td>\n",
       "    </tr>\n",
       "    <tr>\n",
       "      <td>747594051852075008</td>\n",
       "      <td>https://pbs.twimg.com/media/Cl_80k5WkAEbo9m.jpg</td>\n",
       "      <td>1</td>\n",
       "      <td>basenji</td>\n",
       "      <td>0.389136</td>\n",
       "      <td>True</td>\n",
       "      <td>dingo</td>\n",
       "      <td>0.270226</td>\n",
       "      <td>False</td>\n",
       "      <td>Chihuahua</td>\n",
       "      <td>0.098939</td>\n",
       "      <td>True</td>\n",
       "    </tr>\n",
       "    <tr>\n",
       "      <td>883838122936631299</td>\n",
       "      <td>https://pbs.twimg.com/media/DEQGFgAXUAAEvfi.jpg</td>\n",
       "      <td>1</td>\n",
       "      <td>Doberman</td>\n",
       "      <td>0.610946</td>\n",
       "      <td>True</td>\n",
       "      <td>miniature_pinscher</td>\n",
       "      <td>0.299603</td>\n",
       "      <td>True</td>\n",
       "      <td>kelpie</td>\n",
       "      <td>0.063020</td>\n",
       "      <td>True</td>\n",
       "    </tr>\n",
       "    <tr>\n",
       "      <td>790337589677002753</td>\n",
       "      <td>https://pbs.twimg.com/media/CvfX2AnWYAAQTay.jpg</td>\n",
       "      <td>1</td>\n",
       "      <td>Pembroke</td>\n",
       "      <td>0.658808</td>\n",
       "      <td>True</td>\n",
       "      <td>Cardigan</td>\n",
       "      <td>0.153096</td>\n",
       "      <td>True</td>\n",
       "      <td>toy_terrier</td>\n",
       "      <td>0.102299</td>\n",
       "      <td>True</td>\n",
       "    </tr>\n",
       "    <tr>\n",
       "      <td>728653952833728512</td>\n",
       "      <td>https://pbs.twimg.com/media/Chyy5lQWUAEzxSL.jpg</td>\n",
       "      <td>2</td>\n",
       "      <td>window_shade</td>\n",
       "      <td>0.594333</td>\n",
       "      <td>False</td>\n",
       "      <td>studio_couch</td>\n",
       "      <td>0.053515</td>\n",
       "      <td>False</td>\n",
       "      <td>rotisserie</td>\n",
       "      <td>0.041248</td>\n",
       "      <td>False</td>\n",
       "    </tr>\n",
       "  </tbody>\n",
       "</table>\n",
       "</div>"
      ],
      "text/plain": [
       "                                                            jpg_url  img_num  \\\n",
       "tweet_id                                                                       \n",
       "674632714662858753  https://pbs.twimg.com/media/CVzG3yOVAAAqi9I.jpg        1   \n",
       "747594051852075008  https://pbs.twimg.com/media/Cl_80k5WkAEbo9m.jpg        1   \n",
       "883838122936631299  https://pbs.twimg.com/media/DEQGFgAXUAAEvfi.jpg        1   \n",
       "790337589677002753  https://pbs.twimg.com/media/CvfX2AnWYAAQTay.jpg        1   \n",
       "728653952833728512  https://pbs.twimg.com/media/Chyy5lQWUAEzxSL.jpg        2   \n",
       "\n",
       "                              p1   p1_conf  p1_dog                  p2  \\\n",
       "tweet_id                                                                 \n",
       "674632714662858753     jellyfish  0.432748   False            goldfish   \n",
       "747594051852075008       basenji  0.389136    True               dingo   \n",
       "883838122936631299      Doberman  0.610946    True  miniature_pinscher   \n",
       "790337589677002753      Pembroke  0.658808    True            Cardigan   \n",
       "728653952833728512  window_shade  0.594333   False        studio_couch   \n",
       "\n",
       "                     p2_conf  p2_dog           p3   p3_conf  p3_dog  \n",
       "tweet_id                                                             \n",
       "674632714662858753  0.113111   False   coral_reef  0.087047   False  \n",
       "747594051852075008  0.270226   False    Chihuahua  0.098939    True  \n",
       "883838122936631299  0.299603    True       kelpie  0.063020    True  \n",
       "790337589677002753  0.153096    True  toy_terrier  0.102299    True  \n",
       "728653952833728512  0.053515   False   rotisserie  0.041248   False  "
      ]
     },
     "execution_count": 17,
     "metadata": {},
     "output_type": "execute_result"
    }
   ],
   "source": [
    "image_predictions.sample(5)"
   ]
  },
  {
   "cell_type": "code",
   "execution_count": 18,
   "metadata": {
    "scrolled": true
   },
   "outputs": [
    {
     "name": "stdout",
     "output_type": "stream",
     "text": [
      "<class 'pandas.core.frame.DataFrame'>\n",
      "Int64Index: 2075 entries, 666020888022790149 to 892420643555336193\n",
      "Data columns (total 11 columns):\n",
      "jpg_url    2075 non-null object\n",
      "img_num    2075 non-null int64\n",
      "p1         2075 non-null object\n",
      "p1_conf    2075 non-null float64\n",
      "p1_dog     2075 non-null bool\n",
      "p2         2075 non-null object\n",
      "p2_conf    2075 non-null float64\n",
      "p2_dog     2075 non-null bool\n",
      "p3         2075 non-null object\n",
      "p3_conf    2075 non-null float64\n",
      "p3_dog     2075 non-null bool\n",
      "dtypes: bool(3), float64(3), int64(1), object(4)\n",
      "memory usage: 152.0+ KB\n"
     ]
    }
   ],
   "source": [
    "image_predictions.info()"
   ]
  },
  {
   "cell_type": "markdown",
   "metadata": {},
   "source": [
    "Check for duplicated ids"
   ]
  },
  {
   "cell_type": "code",
   "execution_count": 19,
   "metadata": {},
   "outputs": [
    {
     "data": {
      "text/plain": [
       "0"
      ]
     },
     "execution_count": 19,
     "metadata": {},
     "output_type": "execute_result"
    }
   ],
   "source": [
    "sum(image_predictions.index.duplicated())"
   ]
  },
  {
   "cell_type": "markdown",
   "metadata": {},
   "source": [
    "##### Assess the third table \"tweet_info\""
   ]
  },
  {
   "cell_type": "code",
   "execution_count": 20,
   "metadata": {},
   "outputs": [
    {
     "data": {
      "text/html": [
       "<div>\n",
       "<style scoped>\n",
       "    .dataframe tbody tr th:only-of-type {\n",
       "        vertical-align: middle;\n",
       "    }\n",
       "\n",
       "    .dataframe tbody tr th {\n",
       "        vertical-align: top;\n",
       "    }\n",
       "\n",
       "    .dataframe thead th {\n",
       "        text-align: right;\n",
       "    }\n",
       "</style>\n",
       "<table border=\"1\" class=\"dataframe\">\n",
       "  <thead>\n",
       "    <tr style=\"text-align: right;\">\n",
       "      <th></th>\n",
       "      <th>favorites</th>\n",
       "      <th>retweets</th>\n",
       "    </tr>\n",
       "    <tr>\n",
       "      <th>tweet_id</th>\n",
       "      <th></th>\n",
       "      <th></th>\n",
       "    </tr>\n",
       "  </thead>\n",
       "  <tbody>\n",
       "    <tr>\n",
       "      <td>672239279297454080</td>\n",
       "      <td>953</td>\n",
       "      <td>347</td>\n",
       "    </tr>\n",
       "    <tr>\n",
       "      <td>680798457301471234</td>\n",
       "      <td>3134</td>\n",
       "      <td>1182</td>\n",
       "    </tr>\n",
       "    <tr>\n",
       "      <td>741793263812808706</td>\n",
       "      <td>4982</td>\n",
       "      <td>1698</td>\n",
       "    </tr>\n",
       "    <tr>\n",
       "      <td>738883359779196928</td>\n",
       "      <td>3661</td>\n",
       "      <td>917</td>\n",
       "    </tr>\n",
       "    <tr>\n",
       "      <td>742534281772302336</td>\n",
       "      <td>7744</td>\n",
       "      <td>4011</td>\n",
       "    </tr>\n",
       "  </tbody>\n",
       "</table>\n",
       "</div>"
      ],
      "text/plain": [
       "                    favorites  retweets\n",
       "tweet_id                               \n",
       "672239279297454080        953       347\n",
       "680798457301471234       3134      1182\n",
       "741793263812808706       4982      1698\n",
       "738883359779196928       3661       917\n",
       "742534281772302336       7744      4011"
      ]
     },
     "execution_count": 20,
     "metadata": {},
     "output_type": "execute_result"
    }
   ],
   "source": [
    "tweet_info.sample(5)"
   ]
  },
  {
   "cell_type": "code",
   "execution_count": 21,
   "metadata": {},
   "outputs": [
    {
     "name": "stdout",
     "output_type": "stream",
     "text": [
      "<class 'pandas.core.frame.DataFrame'>\n",
      "Int64Index: 2354 entries, 892420643555336193 to 666020888022790149\n",
      "Data columns (total 2 columns):\n",
      "favorites    2354 non-null int64\n",
      "retweets     2354 non-null int64\n",
      "dtypes: int64(2)\n",
      "memory usage: 55.2 KB\n"
     ]
    }
   ],
   "source": [
    "tweet_info.info()"
   ]
  },
  {
   "cell_type": "markdown",
   "metadata": {},
   "source": [
    "Check for duplicated ids"
   ]
  },
  {
   "cell_type": "code",
   "execution_count": 22,
   "metadata": {},
   "outputs": [
    {
     "data": {
      "text/plain": [
       "0"
      ]
     },
     "execution_count": 22,
     "metadata": {},
     "output_type": "execute_result"
    }
   ],
   "source": [
    "sum(tweet_info.index.duplicated())"
   ]
  },
  {
   "cell_type": "markdown",
   "metadata": {},
   "source": [
    "## Assessing results\n",
    "\n",
    "#### twitter_archive table\n",
    "<ul>\n",
    "    <li>Some of the tweets are either replies or retweets, therefore should be removed.</li>\n",
    "    <li>Column \"timestamp\" is an object, should be datetime.</li>\n",
    "    <li>Some observations have denominators different than 10, I must normalize the data.</li>\n",
    "    <li>The four columns with \"dog stages\" are incorrect, they do not include the dog stage if, in the column \"text\", it is put at the beginning of another word or if it is plural (e.g. doggos).</li>\n",
    "    <li>Columns \"doggo\", \"floofer\", \"pupper\" and \"puppo\" should be merged into a single column (dog \"stage\").</li>\n",
    "</ul>\n",
    "\n",
    "#### image_predictions table\n",
    "<ul>\n",
    "    <li>There are 2075 observations, \"twitter_archive\" has 2356.</li>\n",
    "    <li>Column headers are not informative.</li>\n",
    "    <li>Multiple predictions are split in different columns.</li>\n",
    "    <li>The table should be merged with the table \"twitter_archive\".</li>\n",
    "</ul>\n",
    "\n",
    "#### tweet_info table\n",
    "<ul>\n",
    "    <li>There are 2354 observations, \"twitter_archive\" has 2356.</li>\n",
    "    <li>The table should be merged with the table \"twitter_archive\".</li>\n",
    "</ul>"
   ]
  },
  {
   "cell_type": "markdown",
   "metadata": {},
   "source": [
    "<a id='cleaning'></a>\n",
    "# Data Cleaning\n"
   ]
  },
  {
   "cell_type": "markdown",
   "metadata": {},
   "source": [
    "Create a copy of each dataframe."
   ]
  },
  {
   "cell_type": "code",
   "execution_count": 23,
   "metadata": {},
   "outputs": [],
   "source": [
    "twitter_archive_cleaned=twitter_archive.copy()\n",
    "image_predictions_cleaned=image_predictions.copy()\n",
    "tweet_info_cleaned=tweet_info.copy()"
   ]
  },
  {
   "cell_type": "markdown",
   "metadata": {},
   "source": [
    "### twitter_archive\n",
    "\n",
    "##### Define\n",
    "Remove replies and retweets.\n",
    "\n",
    "##### Code"
   ]
  },
  {
   "cell_type": "code",
   "execution_count": 24,
   "metadata": {},
   "outputs": [],
   "source": [
    "twitter_archive_cleaned = twitter_archive_cleaned.loc[twitter_archive_cleaned['retweeted_status_id'].isnull()]\n",
    "twitter_archive_cleaned = twitter_archive_cleaned.loc[twitter_archive_cleaned['in_reply_to_status_id'].isnull()]"
   ]
  },
  {
   "cell_type": "markdown",
   "metadata": {},
   "source": [
    "##### Test"
   ]
  },
  {
   "cell_type": "code",
   "execution_count": 25,
   "metadata": {
    "scrolled": true
   },
   "outputs": [
    {
     "name": "stdout",
     "output_type": "stream",
     "text": [
      "<class 'pandas.core.frame.DataFrame'>\n",
      "Int64Index: 2097 entries, 892420643555336193 to 666020888022790149\n",
      "Data columns (total 16 columns):\n",
      "in_reply_to_status_id         0 non-null float64\n",
      "in_reply_to_user_id           0 non-null float64\n",
      "timestamp                     2097 non-null object\n",
      "source                        2097 non-null object\n",
      "text                          2097 non-null object\n",
      "retweeted_status_id           0 non-null float64\n",
      "retweeted_status_user_id      0 non-null float64\n",
      "retweeted_status_timestamp    0 non-null object\n",
      "expanded_urls                 2094 non-null object\n",
      "rating_numerator              2097 non-null int64\n",
      "rating_denominator            2097 non-null int64\n",
      "name                          2097 non-null object\n",
      "doggo                         2097 non-null object\n",
      "floofer                       2097 non-null object\n",
      "pupper                        2097 non-null object\n",
      "puppo                         2097 non-null object\n",
      "dtypes: float64(4), int64(2), object(10)\n",
      "memory usage: 278.5+ KB\n"
     ]
    }
   ],
   "source": [
    "twitter_archive_cleaned.info()"
   ]
  },
  {
   "cell_type": "markdown",
   "metadata": {},
   "source": [
    "Drop the previous columns, since they are not useful anymore."
   ]
  },
  {
   "cell_type": "code",
   "execution_count": 26,
   "metadata": {},
   "outputs": [],
   "source": [
    "twitter_archive_cleaned.drop(['in_reply_to_status_id', 'in_reply_to_user_id',\n",
    "                              'retweeted_status_id', 'retweeted_status_user_id',\n",
    "                              'retweeted_status_timestamp'], axis=1, inplace=True)"
   ]
  },
  {
   "cell_type": "markdown",
   "metadata": {},
   "source": [
    "Drop more columns that won't be used in the analysis."
   ]
  },
  {
   "cell_type": "code",
   "execution_count": 27,
   "metadata": {},
   "outputs": [],
   "source": [
    "twitter_archive_cleaned.drop(['source', 'expanded_urls', 'name'], axis=1, inplace=True)"
   ]
  },
  {
   "cell_type": "markdown",
   "metadata": {},
   "source": [
    "##### Define\n",
    "Convert \"timestamp\" column to datetime.\n",
    "\n",
    "##### Code"
   ]
  },
  {
   "cell_type": "code",
   "execution_count": 28,
   "metadata": {},
   "outputs": [],
   "source": [
    "twitter_archive_cleaned['timestamp'] = pd.to_datetime(twitter_archive_cleaned['timestamp'])"
   ]
  },
  {
   "cell_type": "markdown",
   "metadata": {},
   "source": [
    "##### Test"
   ]
  },
  {
   "cell_type": "code",
   "execution_count": 29,
   "metadata": {},
   "outputs": [
    {
     "data": {
      "text/plain": [
       "timestamp             datetime64[ns, UTC]\n",
       "text                               object\n",
       "rating_numerator                    int64\n",
       "rating_denominator                  int64\n",
       "doggo                              object\n",
       "floofer                            object\n",
       "pupper                             object\n",
       "puppo                              object\n",
       "dtype: object"
      ]
     },
     "execution_count": 29,
     "metadata": {},
     "output_type": "execute_result"
    }
   ],
   "source": [
    "twitter_archive_cleaned.dtypes"
   ]
  },
  {
   "cell_type": "markdown",
   "metadata": {},
   "source": [
    "##### Define\n",
    "Compute the ratio between the rating numerator and denominator, in order to normalize the data.\n",
    "\n",
    "##### Code"
   ]
  },
  {
   "cell_type": "code",
   "execution_count": 30,
   "metadata": {},
   "outputs": [],
   "source": [
    "twitter_archive_cleaned['rating']=twitter_archive_cleaned['rating_numerator']/twitter_archive_cleaned['rating_denominator']"
   ]
  },
  {
   "cell_type": "markdown",
   "metadata": {},
   "source": [
    "##### Test"
   ]
  },
  {
   "cell_type": "code",
   "execution_count": 31,
   "metadata": {},
   "outputs": [
    {
     "data": {
      "text/plain": [
       "1.200000      490\n",
       "1.000000      438\n",
       "1.100000      418\n",
       "1.300000      287\n",
       "0.900000      153\n",
       "0.800000       98\n",
       "0.700000       51\n",
       "1.400000       38\n",
       "0.500000       35\n",
       "0.600000       32\n",
       "0.300000       19\n",
       "0.400000       15\n",
       "0.200000       10\n",
       "0.100000        4\n",
       "2.700000        1\n",
       "3.428571        1\n",
       "0.636364        1\n",
       "177.600000      1\n",
       "2.600000        1\n",
       "42.000000       1\n",
       "7.500000        1\n",
       "0.000000        1\n",
       "0.818182        1\n",
       "Name: rating, dtype: int64"
      ]
     },
     "execution_count": 31,
     "metadata": {},
     "output_type": "execute_result"
    }
   ],
   "source": [
    "twitter_archive_cleaned['rating'].value_counts()"
   ]
  },
  {
   "cell_type": "markdown",
   "metadata": {},
   "source": [
    "Check rows with the three outliers (177.6, 42.0 and 7.5 ratings)"
   ]
  },
  {
   "cell_type": "code",
   "execution_count": 32,
   "metadata": {},
   "outputs": [
    {
     "data": {
      "text/html": [
       "<div>\n",
       "<style scoped>\n",
       "    .dataframe tbody tr th:only-of-type {\n",
       "        vertical-align: middle;\n",
       "    }\n",
       "\n",
       "    .dataframe tbody tr th {\n",
       "        vertical-align: top;\n",
       "    }\n",
       "\n",
       "    .dataframe thead th {\n",
       "        text-align: right;\n",
       "    }\n",
       "</style>\n",
       "<table border=\"1\" class=\"dataframe\">\n",
       "  <thead>\n",
       "    <tr style=\"text-align: right;\">\n",
       "      <th></th>\n",
       "      <th>timestamp</th>\n",
       "      <th>text</th>\n",
       "      <th>rating_numerator</th>\n",
       "      <th>rating_denominator</th>\n",
       "      <th>doggo</th>\n",
       "      <th>floofer</th>\n",
       "      <th>pupper</th>\n",
       "      <th>puppo</th>\n",
       "      <th>rating</th>\n",
       "    </tr>\n",
       "    <tr>\n",
       "      <th>tweet_id</th>\n",
       "      <th></th>\n",
       "      <th></th>\n",
       "      <th></th>\n",
       "      <th></th>\n",
       "      <th></th>\n",
       "      <th></th>\n",
       "      <th></th>\n",
       "      <th></th>\n",
       "      <th></th>\n",
       "    </tr>\n",
       "  </thead>\n",
       "  <tbody>\n",
       "    <tr>\n",
       "      <td>786709082849828864</td>\n",
       "      <td>2016-10-13 23:23:56+00:00</td>\n",
       "      <td>This is Logan, the Chow who lived. He solemnly swears he's up to lots of good. H*ckin magical af 9.75/10 https://t.co/yBO5wuqaPS</td>\n",
       "      <td>75</td>\n",
       "      <td>10</td>\n",
       "      <td>None</td>\n",
       "      <td>None</td>\n",
       "      <td>None</td>\n",
       "      <td>None</td>\n",
       "      <td>7.5</td>\n",
       "    </tr>\n",
       "    <tr>\n",
       "      <td>749981277374128128</td>\n",
       "      <td>2016-07-04 15:00:45+00:00</td>\n",
       "      <td>This is Atticus. He's quite simply America af. 1776/10 https://t.co/GRXwMxLBkh</td>\n",
       "      <td>1776</td>\n",
       "      <td>10</td>\n",
       "      <td>None</td>\n",
       "      <td>None</td>\n",
       "      <td>None</td>\n",
       "      <td>None</td>\n",
       "      <td>177.6</td>\n",
       "    </tr>\n",
       "    <tr>\n",
       "      <td>670842764863651840</td>\n",
       "      <td>2015-11-29 05:52:33+00:00</td>\n",
       "      <td>After so many requests... here you go.\\n\\nGood dogg. 420/10 https://t.co/yfAAo1gdeY</td>\n",
       "      <td>420</td>\n",
       "      <td>10</td>\n",
       "      <td>None</td>\n",
       "      <td>None</td>\n",
       "      <td>None</td>\n",
       "      <td>None</td>\n",
       "      <td>42.0</td>\n",
       "    </tr>\n",
       "  </tbody>\n",
       "</table>\n",
       "</div>"
      ],
      "text/plain": [
       "                                   timestamp  \\\n",
       "tweet_id                                       \n",
       "786709082849828864 2016-10-13 23:23:56+00:00   \n",
       "749981277374128128 2016-07-04 15:00:45+00:00   \n",
       "670842764863651840 2015-11-29 05:52:33+00:00   \n",
       "\n",
       "                                                                                                                                                text  \\\n",
       "tweet_id                                                                                                                                               \n",
       "786709082849828864  This is Logan, the Chow who lived. He solemnly swears he's up to lots of good. H*ckin magical af 9.75/10 https://t.co/yBO5wuqaPS   \n",
       "749981277374128128                                                    This is Atticus. He's quite simply America af. 1776/10 https://t.co/GRXwMxLBkh   \n",
       "670842764863651840                                               After so many requests... here you go.\\n\\nGood dogg. 420/10 https://t.co/yfAAo1gdeY   \n",
       "\n",
       "                    rating_numerator  rating_denominator doggo floofer pupper  \\\n",
       "tweet_id                                                                        \n",
       "786709082849828864                75                  10  None    None   None   \n",
       "749981277374128128              1776                  10  None    None   None   \n",
       "670842764863651840               420                  10  None    None   None   \n",
       "\n",
       "                   puppo  rating  \n",
       "tweet_id                          \n",
       "786709082849828864  None     7.5  \n",
       "749981277374128128  None   177.6  \n",
       "670842764863651840  None    42.0  "
      ]
     },
     "metadata": {},
     "output_type": "display_data"
    }
   ],
   "source": [
    "with pd.option_context('display.max_colwidth', 400):\n",
    "    display(twitter_archive_cleaned.loc[twitter_archive_cleaned['rating'].isin([7.5, 42.0, 177.6])])"
   ]
  },
  {
   "cell_type": "markdown",
   "metadata": {},
   "source": [
    "One was not correctly extracted from the column text, I will correct it manually. The other two are correct, but I decided to remove them as they would affect my calculations."
   ]
  },
  {
   "cell_type": "code",
   "execution_count": 33,
   "metadata": {},
   "outputs": [],
   "source": [
    "twitter_archive_cleaned.loc[786709082849828864, 'rating'] = 9.75/10"
   ]
  },
  {
   "cell_type": "code",
   "execution_count": 34,
   "metadata": {
    "scrolled": true
   },
   "outputs": [
    {
     "data": {
      "text/plain": [
       "0.975"
      ]
     },
     "execution_count": 34,
     "metadata": {},
     "output_type": "execute_result"
    }
   ],
   "source": [
    "twitter_archive_cleaned.loc[786709082849828864, 'rating']"
   ]
  },
  {
   "cell_type": "code",
   "execution_count": 35,
   "metadata": {},
   "outputs": [],
   "source": [
    "twitter_archive_cleaned.drop(index=749981277374128128, inplace=True)\n",
    "twitter_archive_cleaned.drop(index=670842764863651840, inplace=True)"
   ]
  },
  {
   "cell_type": "markdown",
   "metadata": {},
   "source": [
    "Drop the original two columns, as they won't be needed anymore."
   ]
  },
  {
   "cell_type": "code",
   "execution_count": 36,
   "metadata": {},
   "outputs": [],
   "source": [
    "twitter_archive_cleaned.drop(['rating_numerator', 'rating_denominator'], axis=1, inplace=True)"
   ]
  },
  {
   "cell_type": "markdown",
   "metadata": {},
   "source": [
    "##### Define\n",
    "Drop old \"dog stages\" columns, extract dog stages from the \"text\" column and create a new individual column called \"stage\" which includes them.\n",
    "\n",
    "##### Code"
   ]
  },
  {
   "cell_type": "code",
   "execution_count": 37,
   "metadata": {},
   "outputs": [],
   "source": [
    "twitter_archive_cleaned.drop(dog_stages, axis=1, inplace=True)"
   ]
  },
  {
   "cell_type": "code",
   "execution_count": 38,
   "metadata": {},
   "outputs": [],
   "source": [
    "#Create a new column containing the stage name if included in the column \"text\"\n",
    "twitter_archive_cleaned['stage'] = 'None'\n",
    "for stage in dog_stages:\n",
    "    twitter_archive_cleaned['stage']=np.where(twitter_archive_cleaned['text'].str.contains(stage, case=False), stage, twitter_archive_cleaned['stage'])"
   ]
  },
  {
   "cell_type": "markdown",
   "metadata": {},
   "source": [
    "##### Test"
   ]
  },
  {
   "cell_type": "code",
   "execution_count": 39,
   "metadata": {},
   "outputs": [
    {
     "data": {
      "text/plain": [
       "None       1721\n",
       "pupper      255\n",
       "doggo        79\n",
       "puppo        30\n",
       "floofer      10\n",
       "Name: stage, dtype: int64"
      ]
     },
     "execution_count": 39,
     "metadata": {},
     "output_type": "execute_result"
    }
   ],
   "source": [
    "twitter_archive_cleaned['stage'].value_counts()"
   ]
  },
  {
   "cell_type": "markdown",
   "metadata": {},
   "source": [
    "### image_predictions\n",
    "\n",
    "##### Define\n",
    "Rename headers to be more informative.\n",
    "\n",
    "##### Code"
   ]
  },
  {
   "cell_type": "code",
   "execution_count": 40,
   "metadata": {},
   "outputs": [],
   "source": [
    "image_predictions_cleaned = image_predictions_cleaned.rename(columns={'jpg_url': 'img_url', 'p1': 'prediction1',\n",
    "                                                                      'p1_conf': 'prediction1_confidence',\n",
    "                                                                      'p1_dog': 'prediction1_isdog', 'p2': 'prediction2',\n",
    "                                                                      'p2_conf': 'prediction2_confidence',\n",
    "                                                                      'p2_dog': 'prediction2_isdog', 'p3': 'prediction3',\n",
    "                                                                      'p3_conf': 'prediction3_confidence',\n",
    "                                                                      'p3_dog': 'prediction3_isdog',})"
   ]
  },
  {
   "cell_type": "markdown",
   "metadata": {},
   "source": [
    "##### Test"
   ]
  },
  {
   "cell_type": "code",
   "execution_count": 41,
   "metadata": {},
   "outputs": [
    {
     "name": "stdout",
     "output_type": "stream",
     "text": [
      "<class 'pandas.core.frame.DataFrame'>\n",
      "Int64Index: 2075 entries, 666020888022790149 to 892420643555336193\n",
      "Data columns (total 11 columns):\n",
      "img_url                   2075 non-null object\n",
      "img_num                   2075 non-null int64\n",
      "prediction1               2075 non-null object\n",
      "prediction1_confidence    2075 non-null float64\n",
      "prediction1_isdog         2075 non-null bool\n",
      "prediction2               2075 non-null object\n",
      "prediction2_confidence    2075 non-null float64\n",
      "prediction2_isdog         2075 non-null bool\n",
      "prediction3               2075 non-null object\n",
      "prediction3_confidence    2075 non-null float64\n",
      "prediction3_isdog         2075 non-null bool\n",
      "dtypes: bool(3), float64(3), int64(1), object(4)\n",
      "memory usage: 152.0+ KB\n"
     ]
    }
   ],
   "source": [
    "image_predictions_cleaned.info()"
   ]
  },
  {
   "cell_type": "markdown",
   "metadata": {},
   "source": [
    "##### Define\n",
    "Create a single column with the predictions. Pick the one with the highest confidence for which the algorithm predicted an actual dog.\n",
    "\n",
    "##### Code"
   ]
  },
  {
   "cell_type": "code",
   "execution_count": 42,
   "metadata": {},
   "outputs": [],
   "source": [
    "image_predictions_cleaned['prediction_final'] = np.where(image_predictions_cleaned['prediction1_isdog'], image_predictions_cleaned['prediction1'],\n",
    "                                                np.where(image_predictions_cleaned['prediction2_isdog'], image_predictions_cleaned['prediction2'],\n",
    "                                                np.where(image_predictions_cleaned['prediction3_isdog'], image_predictions_cleaned['prediction3'], 'No dog predicted')))"
   ]
  },
  {
   "cell_type": "code",
   "execution_count": 43,
   "metadata": {},
   "outputs": [],
   "source": [
    "image_predictions_cleaned['confidence_final'] = np.where(image_predictions_cleaned['prediction1_isdog'], image_predictions_cleaned['prediction1_confidence'],\n",
    "                                                np.where(image_predictions_cleaned['prediction2_isdog'], image_predictions_cleaned['prediction2_confidence'],\n",
    "                                                np.where(image_predictions_cleaned['prediction3_isdog'], image_predictions_cleaned['prediction3_confidence'], None)))"
   ]
  },
  {
   "cell_type": "markdown",
   "metadata": {},
   "source": [
    "##### Test"
   ]
  },
  {
   "cell_type": "code",
   "execution_count": 44,
   "metadata": {
    "scrolled": true
   },
   "outputs": [
    {
     "data": {
      "text/html": [
       "<div>\n",
       "<style scoped>\n",
       "    .dataframe tbody tr th:only-of-type {\n",
       "        vertical-align: middle;\n",
       "    }\n",
       "\n",
       "    .dataframe tbody tr th {\n",
       "        vertical-align: top;\n",
       "    }\n",
       "\n",
       "    .dataframe thead th {\n",
       "        text-align: right;\n",
       "    }\n",
       "</style>\n",
       "<table border=\"1\" class=\"dataframe\">\n",
       "  <thead>\n",
       "    <tr style=\"text-align: right;\">\n",
       "      <th></th>\n",
       "      <th>img_url</th>\n",
       "      <th>img_num</th>\n",
       "      <th>prediction1</th>\n",
       "      <th>prediction1_confidence</th>\n",
       "      <th>prediction1_isdog</th>\n",
       "      <th>prediction2</th>\n",
       "      <th>prediction2_confidence</th>\n",
       "      <th>prediction2_isdog</th>\n",
       "      <th>prediction3</th>\n",
       "      <th>prediction3_confidence</th>\n",
       "      <th>prediction3_isdog</th>\n",
       "      <th>prediction_final</th>\n",
       "      <th>confidence_final</th>\n",
       "    </tr>\n",
       "    <tr>\n",
       "      <th>tweet_id</th>\n",
       "      <th></th>\n",
       "      <th></th>\n",
       "      <th></th>\n",
       "      <th></th>\n",
       "      <th></th>\n",
       "      <th></th>\n",
       "      <th></th>\n",
       "      <th></th>\n",
       "      <th></th>\n",
       "      <th></th>\n",
       "      <th></th>\n",
       "      <th></th>\n",
       "      <th></th>\n",
       "    </tr>\n",
       "  </thead>\n",
       "  <tbody>\n",
       "    <tr>\n",
       "      <td>667435689202614272</td>\n",
       "      <td>https://pbs.twimg.com/media/CUM1OHCW4AEgGSi.jpg</td>\n",
       "      <td>1</td>\n",
       "      <td>Rottweiler</td>\n",
       "      <td>0.999091</td>\n",
       "      <td>True</td>\n",
       "      <td>miniature_pinscher</td>\n",
       "      <td>0.000450</td>\n",
       "      <td>True</td>\n",
       "      <td>black-and-tan_coonhound</td>\n",
       "      <td>0.000157</td>\n",
       "      <td>True</td>\n",
       "      <td>Rottweiler</td>\n",
       "      <td>0.999091</td>\n",
       "    </tr>\n",
       "    <tr>\n",
       "      <td>673711475735838725</td>\n",
       "      <td>https://pbs.twimg.com/media/CVmA_osW4AArAU1.jpg</td>\n",
       "      <td>1</td>\n",
       "      <td>Maltese_dog</td>\n",
       "      <td>0.607401</td>\n",
       "      <td>True</td>\n",
       "      <td>toy_poodle</td>\n",
       "      <td>0.143836</td>\n",
       "      <td>True</td>\n",
       "      <td>Sealyham_terrier</td>\n",
       "      <td>0.063907</td>\n",
       "      <td>True</td>\n",
       "      <td>Maltese_dog</td>\n",
       "      <td>0.607401</td>\n",
       "    </tr>\n",
       "    <tr>\n",
       "      <td>678021115718029313</td>\n",
       "      <td>https://pbs.twimg.com/media/CWjQm5gXAAA9GkD.jpg</td>\n",
       "      <td>1</td>\n",
       "      <td>miniature_pinscher</td>\n",
       "      <td>0.822048</td>\n",
       "      <td>True</td>\n",
       "      <td>Doberman</td>\n",
       "      <td>0.096085</td>\n",
       "      <td>True</td>\n",
       "      <td>Rottweiler</td>\n",
       "      <td>0.032709</td>\n",
       "      <td>True</td>\n",
       "      <td>miniature_pinscher</td>\n",
       "      <td>0.822048</td>\n",
       "    </tr>\n",
       "    <tr>\n",
       "      <td>668955713004314625</td>\n",
       "      <td>https://pbs.twimg.com/media/CUibq3uVAAAup_O.jpg</td>\n",
       "      <td>1</td>\n",
       "      <td>cocker_spaniel</td>\n",
       "      <td>0.367492</td>\n",
       "      <td>True</td>\n",
       "      <td>Lakeland_terrier</td>\n",
       "      <td>0.272621</td>\n",
       "      <td>True</td>\n",
       "      <td>soft-coated_wheaten_terrier</td>\n",
       "      <td>0.067006</td>\n",
       "      <td>True</td>\n",
       "      <td>cocker_spaniel</td>\n",
       "      <td>0.367492</td>\n",
       "    </tr>\n",
       "    <tr>\n",
       "      <td>777189768882946048</td>\n",
       "      <td>https://pbs.twimg.com/media/Cskh9nRWYAAUxBP.jpg</td>\n",
       "      <td>2</td>\n",
       "      <td>Chihuahua</td>\n",
       "      <td>0.988412</td>\n",
       "      <td>True</td>\n",
       "      <td>Mexican_hairless</td>\n",
       "      <td>0.004177</td>\n",
       "      <td>True</td>\n",
       "      <td>hog</td>\n",
       "      <td>0.001507</td>\n",
       "      <td>False</td>\n",
       "      <td>Chihuahua</td>\n",
       "      <td>0.988412</td>\n",
       "    </tr>\n",
       "    <tr>\n",
       "      <td>671362598324076544</td>\n",
       "      <td>https://pbs.twimg.com/media/CVEouDRXAAEe8mt.jpg</td>\n",
       "      <td>1</td>\n",
       "      <td>tub</td>\n",
       "      <td>0.393616</td>\n",
       "      <td>False</td>\n",
       "      <td>bathtub</td>\n",
       "      <td>0.383522</td>\n",
       "      <td>False</td>\n",
       "      <td>swimming_trunks</td>\n",
       "      <td>0.077301</td>\n",
       "      <td>False</td>\n",
       "      <td>No dog predicted</td>\n",
       "      <td>None</td>\n",
       "    </tr>\n",
       "    <tr>\n",
       "      <td>677314812125323265</td>\n",
       "      <td>https://pbs.twimg.com/media/CWZOOIUW4AAQrX_.jpg</td>\n",
       "      <td>2</td>\n",
       "      <td>Blenheim_spaniel</td>\n",
       "      <td>0.924127</td>\n",
       "      <td>True</td>\n",
       "      <td>Japanese_spaniel</td>\n",
       "      <td>0.054790</td>\n",
       "      <td>True</td>\n",
       "      <td>Chihuahua</td>\n",
       "      <td>0.008204</td>\n",
       "      <td>True</td>\n",
       "      <td>Blenheim_spaniel</td>\n",
       "      <td>0.924127</td>\n",
       "    </tr>\n",
       "    <tr>\n",
       "      <td>836989968035819520</td>\n",
       "      <td>https://pbs.twimg.com/media/C52V7PzWcAA_pVv.jpg</td>\n",
       "      <td>1</td>\n",
       "      <td>shopping_cart</td>\n",
       "      <td>0.572422</td>\n",
       "      <td>False</td>\n",
       "      <td>shopping_basket</td>\n",
       "      <td>0.414002</td>\n",
       "      <td>False</td>\n",
       "      <td>toy_poodle</td>\n",
       "      <td>0.005887</td>\n",
       "      <td>True</td>\n",
       "      <td>toy_poodle</td>\n",
       "      <td>0.0058873</td>\n",
       "    </tr>\n",
       "    <tr>\n",
       "      <td>675166823650848770</td>\n",
       "      <td>https://pbs.twimg.com/media/CV6spB7XAAIpMyP.jpg</td>\n",
       "      <td>1</td>\n",
       "      <td>llama</td>\n",
       "      <td>0.284394</td>\n",
       "      <td>False</td>\n",
       "      <td>standard_poodle</td>\n",
       "      <td>0.132569</td>\n",
       "      <td>True</td>\n",
       "      <td>teddy</td>\n",
       "      <td>0.127975</td>\n",
       "      <td>False</td>\n",
       "      <td>standard_poodle</td>\n",
       "      <td>0.132569</td>\n",
       "    </tr>\n",
       "    <tr>\n",
       "      <td>786363235746385920</td>\n",
       "      <td>https://pbs.twimg.com/media/Cum5LlfWAAAyPcS.jpg</td>\n",
       "      <td>1</td>\n",
       "      <td>golden_retriever</td>\n",
       "      <td>0.929266</td>\n",
       "      <td>True</td>\n",
       "      <td>Labrador_retriever</td>\n",
       "      <td>0.062867</td>\n",
       "      <td>True</td>\n",
       "      <td>Saluki</td>\n",
       "      <td>0.002157</td>\n",
       "      <td>True</td>\n",
       "      <td>golden_retriever</td>\n",
       "      <td>0.929266</td>\n",
       "    </tr>\n",
       "  </tbody>\n",
       "</table>\n",
       "</div>"
      ],
      "text/plain": [
       "                                                            img_url  img_num  \\\n",
       "tweet_id                                                                       \n",
       "667435689202614272  https://pbs.twimg.com/media/CUM1OHCW4AEgGSi.jpg        1   \n",
       "673711475735838725  https://pbs.twimg.com/media/CVmA_osW4AArAU1.jpg        1   \n",
       "678021115718029313  https://pbs.twimg.com/media/CWjQm5gXAAA9GkD.jpg        1   \n",
       "668955713004314625  https://pbs.twimg.com/media/CUibq3uVAAAup_O.jpg        1   \n",
       "777189768882946048  https://pbs.twimg.com/media/Cskh9nRWYAAUxBP.jpg        2   \n",
       "671362598324076544  https://pbs.twimg.com/media/CVEouDRXAAEe8mt.jpg        1   \n",
       "677314812125323265  https://pbs.twimg.com/media/CWZOOIUW4AAQrX_.jpg        2   \n",
       "836989968035819520  https://pbs.twimg.com/media/C52V7PzWcAA_pVv.jpg        1   \n",
       "675166823650848770  https://pbs.twimg.com/media/CV6spB7XAAIpMyP.jpg        1   \n",
       "786363235746385920  https://pbs.twimg.com/media/Cum5LlfWAAAyPcS.jpg        1   \n",
       "\n",
       "                           prediction1  prediction1_confidence  \\\n",
       "tweet_id                                                         \n",
       "667435689202614272          Rottweiler                0.999091   \n",
       "673711475735838725         Maltese_dog                0.607401   \n",
       "678021115718029313  miniature_pinscher                0.822048   \n",
       "668955713004314625      cocker_spaniel                0.367492   \n",
       "777189768882946048           Chihuahua                0.988412   \n",
       "671362598324076544                 tub                0.393616   \n",
       "677314812125323265    Blenheim_spaniel                0.924127   \n",
       "836989968035819520       shopping_cart                0.572422   \n",
       "675166823650848770               llama                0.284394   \n",
       "786363235746385920    golden_retriever                0.929266   \n",
       "\n",
       "                    prediction1_isdog         prediction2  \\\n",
       "tweet_id                                                    \n",
       "667435689202614272               True  miniature_pinscher   \n",
       "673711475735838725               True          toy_poodle   \n",
       "678021115718029313               True            Doberman   \n",
       "668955713004314625               True    Lakeland_terrier   \n",
       "777189768882946048               True    Mexican_hairless   \n",
       "671362598324076544              False             bathtub   \n",
       "677314812125323265               True    Japanese_spaniel   \n",
       "836989968035819520              False     shopping_basket   \n",
       "675166823650848770              False     standard_poodle   \n",
       "786363235746385920               True  Labrador_retriever   \n",
       "\n",
       "                    prediction2_confidence  prediction2_isdog  \\\n",
       "tweet_id                                                        \n",
       "667435689202614272                0.000450               True   \n",
       "673711475735838725                0.143836               True   \n",
       "678021115718029313                0.096085               True   \n",
       "668955713004314625                0.272621               True   \n",
       "777189768882946048                0.004177               True   \n",
       "671362598324076544                0.383522              False   \n",
       "677314812125323265                0.054790               True   \n",
       "836989968035819520                0.414002              False   \n",
       "675166823650848770                0.132569               True   \n",
       "786363235746385920                0.062867               True   \n",
       "\n",
       "                                    prediction3  prediction3_confidence  \\\n",
       "tweet_id                                                                  \n",
       "667435689202614272      black-and-tan_coonhound                0.000157   \n",
       "673711475735838725             Sealyham_terrier                0.063907   \n",
       "678021115718029313                   Rottweiler                0.032709   \n",
       "668955713004314625  soft-coated_wheaten_terrier                0.067006   \n",
       "777189768882946048                          hog                0.001507   \n",
       "671362598324076544              swimming_trunks                0.077301   \n",
       "677314812125323265                    Chihuahua                0.008204   \n",
       "836989968035819520                   toy_poodle                0.005887   \n",
       "675166823650848770                        teddy                0.127975   \n",
       "786363235746385920                       Saluki                0.002157   \n",
       "\n",
       "                    prediction3_isdog    prediction_final confidence_final  \n",
       "tweet_id                                                                    \n",
       "667435689202614272               True          Rottweiler         0.999091  \n",
       "673711475735838725               True         Maltese_dog         0.607401  \n",
       "678021115718029313               True  miniature_pinscher         0.822048  \n",
       "668955713004314625               True      cocker_spaniel         0.367492  \n",
       "777189768882946048              False           Chihuahua         0.988412  \n",
       "671362598324076544              False    No dog predicted             None  \n",
       "677314812125323265               True    Blenheim_spaniel         0.924127  \n",
       "836989968035819520               True          toy_poodle        0.0058873  \n",
       "675166823650848770              False     standard_poodle         0.132569  \n",
       "786363235746385920               True    golden_retriever         0.929266  "
      ]
     },
     "execution_count": 44,
     "metadata": {},
     "output_type": "execute_result"
    }
   ],
   "source": [
    "image_predictions_cleaned.sample(10)"
   ]
  },
  {
   "cell_type": "markdown",
   "metadata": {},
   "source": [
    "Drop the old columns that won't be used anymore."
   ]
  },
  {
   "cell_type": "code",
   "execution_count": 45,
   "metadata": {},
   "outputs": [],
   "source": [
    "image_predictions_cleaned.drop(['prediction1', 'prediction1_confidence', 'prediction1_isdog', 'prediction2', \n",
    "                                'prediction2_confidence', 'prediction2_isdog', 'prediction3', 'prediction3_confidence',\n",
    "                                'prediction3_isdog', 'img_url'], axis=1, inplace=True)"
   ]
  },
  {
   "cell_type": "markdown",
   "metadata": {},
   "source": [
    "### All tables\n",
    "\n",
    "##### Define\n",
    "Merge all tables together, since we need to combine the data we have for our analyses. As we saw earlier, the image_prediction table contains only 2075 rows, tweet_info 2354 rows and twitter_archive 2356. Therefore, we can use \"inner\" join to automatically drop the tweets that are missing in at least one of the tables.\n",
    "\n",
    "##### Code"
   ]
  },
  {
   "cell_type": "code",
   "execution_count": 46,
   "metadata": {},
   "outputs": [],
   "source": [
    "df_final = pd.merge(image_predictions_cleaned, tweet_info_cleaned, how='inner', left_index=True, right_index=True)\n",
    "df_final = pd.merge(df_final, twitter_archive_cleaned, how='inner', left_index=True, right_index=True)"
   ]
  },
  {
   "cell_type": "markdown",
   "metadata": {},
   "source": [
    "##### Test"
   ]
  },
  {
   "cell_type": "code",
   "execution_count": 47,
   "metadata": {},
   "outputs": [
    {
     "data": {
      "text/html": [
       "<div>\n",
       "<style scoped>\n",
       "    .dataframe tbody tr th:only-of-type {\n",
       "        vertical-align: middle;\n",
       "    }\n",
       "\n",
       "    .dataframe tbody tr th {\n",
       "        vertical-align: top;\n",
       "    }\n",
       "\n",
       "    .dataframe thead th {\n",
       "        text-align: right;\n",
       "    }\n",
       "</style>\n",
       "<table border=\"1\" class=\"dataframe\">\n",
       "  <thead>\n",
       "    <tr style=\"text-align: right;\">\n",
       "      <th></th>\n",
       "      <th>img_num</th>\n",
       "      <th>prediction_final</th>\n",
       "      <th>confidence_final</th>\n",
       "      <th>favorites</th>\n",
       "      <th>retweets</th>\n",
       "      <th>timestamp</th>\n",
       "      <th>text</th>\n",
       "      <th>rating</th>\n",
       "      <th>stage</th>\n",
       "    </tr>\n",
       "    <tr>\n",
       "      <th>tweet_id</th>\n",
       "      <th></th>\n",
       "      <th></th>\n",
       "      <th></th>\n",
       "      <th></th>\n",
       "      <th></th>\n",
       "      <th></th>\n",
       "      <th></th>\n",
       "      <th></th>\n",
       "      <th></th>\n",
       "    </tr>\n",
       "  </thead>\n",
       "  <tbody>\n",
       "    <tr>\n",
       "      <td>700518061187723268</td>\n",
       "      <td>1</td>\n",
       "      <td>American_Staffordshire_terrier</td>\n",
       "      <td>0.569501</td>\n",
       "      <td>2887</td>\n",
       "      <td>915</td>\n",
       "      <td>2016-02-19 03:11:35+00:00</td>\n",
       "      <td>This is Vincent. He's the man your girl is wit...</td>\n",
       "      <td>1.0</td>\n",
       "      <td>None</td>\n",
       "    </tr>\n",
       "    <tr>\n",
       "      <td>776477788987613185</td>\n",
       "      <td>1</td>\n",
       "      <td>Labrador_retriever</td>\n",
       "      <td>0.884839</td>\n",
       "      <td>9858</td>\n",
       "      <td>3249</td>\n",
       "      <td>2016-09-15 17:48:25+00:00</td>\n",
       "      <td>This is Huck. He's addicted to caffeine. Hope ...</td>\n",
       "      <td>1.1</td>\n",
       "      <td>pupper</td>\n",
       "    </tr>\n",
       "    <tr>\n",
       "      <td>666837028449972224</td>\n",
       "      <td>1</td>\n",
       "      <td>No dog predicted</td>\n",
       "      <td>None</td>\n",
       "      <td>857</td>\n",
       "      <td>584</td>\n",
       "      <td>2015-11-18 04:35:11+00:00</td>\n",
       "      <td>My goodness. Very rare dog here. Large. Tail d...</td>\n",
       "      <td>0.3</td>\n",
       "      <td>None</td>\n",
       "    </tr>\n",
       "    <tr>\n",
       "      <td>675522403582218240</td>\n",
       "      <td>1</td>\n",
       "      <td>cocker_spaniel</td>\n",
       "      <td>0.299708</td>\n",
       "      <td>1122</td>\n",
       "      <td>316</td>\n",
       "      <td>2015-12-12 03:47:46+00:00</td>\n",
       "      <td>Meet Sammy. He's a Motorola Firefox. Hat under...</td>\n",
       "      <td>1.0</td>\n",
       "      <td>None</td>\n",
       "    </tr>\n",
       "    <tr>\n",
       "      <td>790277117346975746</td>\n",
       "      <td>1</td>\n",
       "      <td>Labrador_retriever</td>\n",
       "      <td>0.427742</td>\n",
       "      <td>14081</td>\n",
       "      <td>3732</td>\n",
       "      <td>2016-10-23 19:42:02+00:00</td>\n",
       "      <td>This is Bruce. He never backs down from a chal...</td>\n",
       "      <td>1.1</td>\n",
       "      <td>None</td>\n",
       "    </tr>\n",
       "  </tbody>\n",
       "</table>\n",
       "</div>"
      ],
      "text/plain": [
       "                    img_num                prediction_final confidence_final  \\\n",
       "tweet_id                                                                       \n",
       "700518061187723268        1  American_Staffordshire_terrier         0.569501   \n",
       "776477788987613185        1              Labrador_retriever         0.884839   \n",
       "666837028449972224        1                No dog predicted             None   \n",
       "675522403582218240        1                  cocker_spaniel         0.299708   \n",
       "790277117346975746        1              Labrador_retriever         0.427742   \n",
       "\n",
       "                    favorites  retweets                 timestamp  \\\n",
       "tweet_id                                                            \n",
       "700518061187723268       2887       915 2016-02-19 03:11:35+00:00   \n",
       "776477788987613185       9858      3249 2016-09-15 17:48:25+00:00   \n",
       "666837028449972224        857       584 2015-11-18 04:35:11+00:00   \n",
       "675522403582218240       1122       316 2015-12-12 03:47:46+00:00   \n",
       "790277117346975746      14081      3732 2016-10-23 19:42:02+00:00   \n",
       "\n",
       "                                                                 text  rating  \\\n",
       "tweet_id                                                                        \n",
       "700518061187723268  This is Vincent. He's the man your girl is wit...     1.0   \n",
       "776477788987613185  This is Huck. He's addicted to caffeine. Hope ...     1.1   \n",
       "666837028449972224  My goodness. Very rare dog here. Large. Tail d...     0.3   \n",
       "675522403582218240  Meet Sammy. He's a Motorola Firefox. Hat under...     1.0   \n",
       "790277117346975746  This is Bruce. He never backs down from a chal...     1.1   \n",
       "\n",
       "                     stage  \n",
       "tweet_id                    \n",
       "700518061187723268    None  \n",
       "776477788987613185  pupper  \n",
       "666837028449972224    None  \n",
       "675522403582218240    None  \n",
       "790277117346975746    None  "
      ]
     },
     "execution_count": 47,
     "metadata": {},
     "output_type": "execute_result"
    }
   ],
   "source": [
    "df_final.sample(5)"
   ]
  },
  {
   "cell_type": "markdown",
   "metadata": {},
   "source": [
    "Store the dataframe in a CSV file."
   ]
  },
  {
   "cell_type": "code",
   "execution_count": 48,
   "metadata": {},
   "outputs": [],
   "source": [
    "df_final.to_csv('twitter_archive_master.csv')"
   ]
  },
  {
   "cell_type": "markdown",
   "metadata": {},
   "source": [
    "<a id='analysis'></a>\n",
    "# Insights and Visualizations"
   ]
  },
  {
   "cell_type": "markdown",
   "metadata": {},
   "source": [
    "Now I can proceed with analysis and the visualizations of the data. I started by creating univariate visualizations of each variable, to identify trends in their distribution. After that I created bivariate visualizations to identify relationships between these variables."
   ]
  },
  {
   "cell_type": "code",
   "execution_count": 49,
   "metadata": {
    "scrolled": true
   },
   "outputs": [
    {
     "data": {
      "text/html": [
       "<div>\n",
       "<style scoped>\n",
       "    .dataframe tbody tr th:only-of-type {\n",
       "        vertical-align: middle;\n",
       "    }\n",
       "\n",
       "    .dataframe tbody tr th {\n",
       "        vertical-align: top;\n",
       "    }\n",
       "\n",
       "    .dataframe thead th {\n",
       "        text-align: right;\n",
       "    }\n",
       "</style>\n",
       "<table border=\"1\" class=\"dataframe\">\n",
       "  <thead>\n",
       "    <tr style=\"text-align: right;\">\n",
       "      <th></th>\n",
       "      <th>img_num</th>\n",
       "      <th>favorites</th>\n",
       "      <th>retweets</th>\n",
       "      <th>rating</th>\n",
       "    </tr>\n",
       "  </thead>\n",
       "  <tbody>\n",
       "    <tr>\n",
       "      <td>count</td>\n",
       "      <td>1969.000000</td>\n",
       "      <td>1969.000000</td>\n",
       "      <td>1969.000000</td>\n",
       "      <td>1969.000000</td>\n",
       "    </tr>\n",
       "    <tr>\n",
       "      <td>mean</td>\n",
       "      <td>1.202133</td>\n",
       "      <td>8951.310818</td>\n",
       "      <td>2783.673946</td>\n",
       "      <td>1.055845</td>\n",
       "    </tr>\n",
       "    <tr>\n",
       "      <td>std</td>\n",
       "      <td>0.559267</td>\n",
       "      <td>12273.776070</td>\n",
       "      <td>4699.921113</td>\n",
       "      <td>0.230161</td>\n",
       "    </tr>\n",
       "    <tr>\n",
       "      <td>min</td>\n",
       "      <td>1.000000</td>\n",
       "      <td>81.000000</td>\n",
       "      <td>16.000000</td>\n",
       "      <td>0.000000</td>\n",
       "    </tr>\n",
       "    <tr>\n",
       "      <td>25%</td>\n",
       "      <td>1.000000</td>\n",
       "      <td>1985.000000</td>\n",
       "      <td>628.000000</td>\n",
       "      <td>1.000000</td>\n",
       "    </tr>\n",
       "    <tr>\n",
       "      <td>50%</td>\n",
       "      <td>1.000000</td>\n",
       "      <td>4144.000000</td>\n",
       "      <td>1367.000000</td>\n",
       "      <td>1.100000</td>\n",
       "    </tr>\n",
       "    <tr>\n",
       "      <td>75%</td>\n",
       "      <td>1.000000</td>\n",
       "      <td>11411.000000</td>\n",
       "      <td>3238.000000</td>\n",
       "      <td>1.200000</td>\n",
       "    </tr>\n",
       "    <tr>\n",
       "      <td>max</td>\n",
       "      <td>4.000000</td>\n",
       "      <td>132810.000000</td>\n",
       "      <td>79515.000000</td>\n",
       "      <td>3.428571</td>\n",
       "    </tr>\n",
       "  </tbody>\n",
       "</table>\n",
       "</div>"
      ],
      "text/plain": [
       "           img_num      favorites      retweets       rating\n",
       "count  1969.000000    1969.000000   1969.000000  1969.000000\n",
       "mean      1.202133    8951.310818   2783.673946     1.055845\n",
       "std       0.559267   12273.776070   4699.921113     0.230161\n",
       "min       1.000000      81.000000     16.000000     0.000000\n",
       "25%       1.000000    1985.000000    628.000000     1.000000\n",
       "50%       1.000000    4144.000000   1367.000000     1.100000\n",
       "75%       1.000000   11411.000000   3238.000000     1.200000\n",
       "max       4.000000  132810.000000  79515.000000     3.428571"
      ]
     },
     "execution_count": 49,
     "metadata": {},
     "output_type": "execute_result"
    }
   ],
   "source": [
    "df_final.describe()"
   ]
  },
  {
   "cell_type": "code",
   "execution_count": 50,
   "metadata": {},
   "outputs": [],
   "source": [
    "def make_hist(column, n_bins, x_lim):\n",
    "    plt.hist(data=df_final, x=column, bins=n_bins)\n",
    "    plt.xlim((0,x_lim))\n",
    "    plt.show()"
   ]
  },
  {
   "cell_type": "code",
   "execution_count": 51,
   "metadata": {},
   "outputs": [
    {
     "data": {
      "image/png": "[encoded data removed]",
      "text/plain": [
       "<Figure size 432x288 with 1 Axes>"
      ]
     },
     "metadata": {
      "image/png": {
       "height": 248,
       "width": 391
      },
      "needs_background": "light"
     },
     "output_type": "display_data"
    }
   ],
   "source": [
    "make_hist('favorites', 100, 60000)"
   ]
  },
  {
   "cell_type": "markdown",
   "metadata": {},
   "source": [
    "The distribution of favorites (likes) is right skewed, there are more tweets with lower values."
   ]
  },
  {
   "cell_type": "code",
   "execution_count": 52,
   "metadata": {},
   "outputs": [
    {
     "data": {
      "image/png": "[encoded data removed]",
      "text/plain": [
       "<Figure size 432x288 with 1 Axes>"
      ]
     },
     "metadata": {
      "image/png": {
       "height": 248,
       "width": 391
      },
      "needs_background": "light"
     },
     "output_type": "display_data"
    }
   ],
   "source": [
    "make_hist('retweets', 150, 20000)"
   ]
  },
  {
   "cell_type": "markdown",
   "metadata": {},
   "source": [
    "The distribution of retweets is also right skewed."
   ]
  },
  {
   "cell_type": "code",
   "execution_count": 53,
   "metadata": {},
   "outputs": [
    {
     "data": {
      "image/png": "[encoded data removed]",
      "text/plain": [
       "<Figure size 432x288 with 1 Axes>"
      ]
     },
     "metadata": {
      "image/png": {
       "height": 248,
       "width": 383
      },
      "needs_background": "light"
     },
     "output_type": "display_data"
    }
   ],
   "source": [
    "make_hist('rating', 35, 3.5)"
   ]
  },
  {
   "cell_type": "markdown",
   "metadata": {},
   "source": [
    "The distribution of ratings is left skewed, the majority of the ratings are between 1.0 and 1.5."
   ]
  },
  {
   "cell_type": "code",
   "execution_count": 54,
   "metadata": {},
   "outputs": [],
   "source": [
    "def make_scatter(x_column, y_column):\n",
    "    plt.ylim(0,df_final[y_column].max())\n",
    "    plt.xlim(0,df_final[x_column].max())\n",
    "    sns.regplot(data=df_final, x=x_column, y=y_column, x_jitter=0.1, scatter_kws={'alpha': 0.2});"
   ]
  },
  {
   "cell_type": "code",
   "execution_count": 55,
   "metadata": {
    "scrolled": true
   },
   "outputs": [
    {
     "data": {
      "image/png": "[encoded data removed]",
      "text/plain": [
       "<Figure size 432x288 with 1 Axes>"
      ]
     },
     "metadata": {
      "image/png": {
       "height": 261,
       "width": 408
      },
      "needs_background": "light"
     },
     "output_type": "display_data"
    }
   ],
   "source": [
    "make_scatter('rating', 'favorites')"
   ]
  },
  {
   "cell_type": "code",
   "execution_count": 56,
   "metadata": {},
   "outputs": [
    {
     "data": {
      "image/png": "[encoded data removed]",
      "text/plain": [
       "<Figure size 432x288 with 1 Axes>"
      ]
     },
     "metadata": {
      "image/png": {
       "height": 261,
       "width": 401
      },
      "needs_background": "light"
     },
     "output_type": "display_data"
    }
   ],
   "source": [
    "make_scatter('rating', 'retweets')"
   ]
  },
  {
   "cell_type": "code",
   "execution_count": 57,
   "metadata": {},
   "outputs": [
    {
     "data": {
      "image/png": "[encoded data removed]",
      "text/plain": [
       "<Figure size 432x288 with 1 Axes>"
      ]
     },
     "metadata": {
      "image/png": {
       "height": 261,
       "width": 408
      },
      "needs_background": "light"
     },
     "output_type": "display_data"
    }
   ],
   "source": [
    "make_scatter('retweets', 'favorites')"
   ]
  },
  {
   "cell_type": "markdown",
   "metadata": {},
   "source": [
    "As shown in the three scatterplots above, ratings, number of retweets and number of likes are all positively correlated."
   ]
  },
  {
   "cell_type": "code",
   "execution_count": 58,
   "metadata": {},
   "outputs": [
    {
     "data": {
      "text/html": [
       "<div>\n",
       "<style scoped>\n",
       "    .dataframe tbody tr th:only-of-type {\n",
       "        vertical-align: middle;\n",
       "    }\n",
       "\n",
       "    .dataframe tbody tr th {\n",
       "        vertical-align: top;\n",
       "    }\n",
       "\n",
       "    .dataframe thead th {\n",
       "        text-align: right;\n",
       "    }\n",
       "</style>\n",
       "<table border=\"1\" class=\"dataframe\">\n",
       "  <thead>\n",
       "    <tr style=\"text-align: right;\">\n",
       "      <th></th>\n",
       "      <th>rating</th>\n",
       "      <th>retweets</th>\n",
       "      <th>favorites</th>\n",
       "    </tr>\n",
       "  </thead>\n",
       "  <tbody>\n",
       "    <tr>\n",
       "      <td>rating</td>\n",
       "      <td>1.000000</td>\n",
       "      <td>0.283717</td>\n",
       "      <td>0.382258</td>\n",
       "    </tr>\n",
       "    <tr>\n",
       "      <td>retweets</td>\n",
       "      <td>0.283717</td>\n",
       "      <td>1.000000</td>\n",
       "      <td>0.913071</td>\n",
       "    </tr>\n",
       "    <tr>\n",
       "      <td>favorites</td>\n",
       "      <td>0.382258</td>\n",
       "      <td>0.913071</td>\n",
       "      <td>1.000000</td>\n",
       "    </tr>\n",
       "  </tbody>\n",
       "</table>\n",
       "</div>"
      ],
      "text/plain": [
       "             rating  retweets  favorites\n",
       "rating     1.000000  0.283717   0.382258\n",
       "retweets   0.283717  1.000000   0.913071\n",
       "favorites  0.382258  0.913071   1.000000"
      ]
     },
     "execution_count": 58,
     "metadata": {},
     "output_type": "execute_result"
    }
   ],
   "source": [
    "df_final[['rating', 'retweets', 'favorites']].corr()"
   ]
  },
  {
   "cell_type": "markdown",
   "metadata": {},
   "source": [
    "The correlation between the number of retweets and the number of likes is extremely high as I expected, since tweets with a high number of retweets obtain a higher number of likes and viceversa."
   ]
  },
  {
   "cell_type": "code",
   "execution_count": 59,
   "metadata": {},
   "outputs": [
    {
     "data": {
      "text/plain": [
       "No dog predicted      303\n",
       "golden_retriever      156\n",
       "Labrador_retriever    106\n",
       "Pembroke               94\n",
       "Chihuahua              90\n",
       "pug                    62\n",
       "toy_poodle             50\n",
       "chow                   48\n",
       "Samoyed                42\n",
       "Pomeranian             41\n",
       "malamute               33\n",
       "Name: prediction_final, dtype: int64"
      ]
     },
     "execution_count": 59,
     "metadata": {},
     "output_type": "execute_result"
    }
   ],
   "source": [
    "df_final['prediction_final'].value_counts().head(11)"
   ]
  },
  {
   "cell_type": "code",
   "execution_count": 60,
   "metadata": {},
   "outputs": [
    {
     "data": {
      "image/png": "[encoded data removed]",
      "text/plain": [
       "<Figure size 720x360 with 1 Axes>"
      ]
     },
     "metadata": {
      "image/png": {
       "height": 416,
       "width": 612
      },
      "needs_background": "light"
     },
     "output_type": "display_data"
    }
   ],
   "source": [
    "plt.figure(figsize=(10, 5))\n",
    "df_final['prediction_final'].value_counts().head(11)[1:].plot(kind='bar')\n",
    "plt.title('Most common dog breeds')\n",
    "plt.ylabel(\"Count\")\n",
    "plt.xlabel(\"Dog breed\")\n",
    "plt.show()"
   ]
  },
  {
   "cell_type": "markdown",
   "metadata": {},
   "source": [
    "Find the most common dog breeds in the dataset. I excluded the first category since for this one the neural network did not predict a dog."
   ]
  },
  {
   "cell_type": "code",
   "execution_count": 61,
   "metadata": {},
   "outputs": [
    {
     "data": {
      "image/png": "[encoded data removed]",
      "text/plain": [
       "<Figure size 1296x324 with 3 Axes>"
      ]
     },
     "metadata": {
      "image/png": {
       "height": 347,
       "width": 1055
      },
      "needs_background": "light"
     },
     "output_type": "display_data"
    }
   ],
   "source": [
    "plt.figure(figsize = [18, 4.5])\n",
    "plt.suptitle('Average rating, retweets and favorites by Dog stage')\n",
    "\n",
    "plt.subplot(1, 3, 1)\n",
    "plt.ylabel('Average Rating')\n",
    "df_final.groupby('stage')['rating'].mean().sort_values(ascending=False).plot(kind='bar')\n",
    "\n",
    "plt.subplot(1, 3, 2)\n",
    "plt.ylabel('Average Retweets')\n",
    "df_final.groupby('stage')['retweets'].mean().sort_values(ascending=False).plot(kind='bar')\n",
    "\n",
    "plt.subplot(1, 3, 3)\n",
    "plt.ylabel('Average Favorites')\n",
    "df_final.groupby('stage')['favorites'].mean().sort_values(ascending=False).plot(kind='bar')\n",
    "\n",
    "plt.show()"
   ]
  },
  {
   "cell_type": "markdown",
   "metadata": {},
   "source": [
    "Analyze how the average rating, the number of retweets and likes differ for each category of dog stage:\n",
    "<ul>\n",
    "    <li>Rating: no remarked difference across dog stages categories</li>\n",
    "    <li>Number of retweets: tweets that include the keywords \"doggo\" and \"puppo\", on average, are more retweeted</li>\n",
    "    <li>Number of likes: same as above, tweets containing the keywords \"puppo\" and \"doggo\" get, on average, more likes.</li>\n",
    "</ul>"
   ]
  },
  {
   "cell_type": "code",
   "execution_count": null,
   "metadata": {},
   "outputs": [],
   "source": []
  }
 ],
 "metadata": {
  "kernelspec": {
   "display_name": "Python 3",
   "language": "python",
   "name": "python3"
  },
  "language_info": {
   "codemirror_mode": {
    "name": "ipython",
    "version": 3
   },
   "file_extension": ".py",
   "mimetype": "text/x-python",
   "name": "python",
   "nbconvert_exporter": "python",
   "pygments_lexer": "ipython3",
   "version": "3.7.4"
  }
 },
 "nbformat": 4,
 "nbformat_minor": 2
}
