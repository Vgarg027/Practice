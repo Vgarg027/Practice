{
 "cells": [
  {
   "cell_type": "code",
   "execution_count": 111,
   "metadata": {},
   "outputs": [],
   "source": [
    "import pandas as pd \n",
    "import numpy as np\n",
    "import datetime as dt\n",
    "import requests\n",
    "import matplotlib as mlt\n",
    "import seaborn as sns\n",
    "from scipy import stats\n",
    "import warnings\n",
    "#import tweepy\n",
    "#from tweepy import OAuthHandler\n",
    "import matplotlib.pyplot as plt\n",
    "import json\n",
    "import os\n",
    "%matplotlib inline"
   ]
  },
  {
   "cell_type": "markdown",
   "metadata": {},
   "source": [
    "# gathering the data"
   ]
  },
  {
   "cell_type": "markdown",
   "metadata": {},
   "source": [
    "## twitter-archive-enhanced"
   ]
  },
  {
   "cell_type": "code",
   "execution_count": 9,
   "metadata": {},
   "outputs": [
    {
     "data": {
      "text/plain": [
       "(2356, 17)"
      ]
     },
     "execution_count": 9,
     "metadata": {},
     "output_type": "execute_result"
    }
   ],
   "source": [
    "archive_df=pd.read_csv('twitter-archive-enhanced.csv')\n",
    "archive_df.shape"
   ]
  },
  {
   "cell_type": "code",
   "execution_count": null,
   "metadata": {},
   "outputs": [],
   "source": [
    "# Query Twitter API for each tweet in the Twitter archive and save JSON in a text file\n",
    "# These are hidden to comply with Twitter's API terms and conditions\n",
    "consumer_key = 'HIDDEN'\n",
    "consumer_secret = 'HIDDEN'\n",
    "access_token = 'HIDDEN'\n",
    "access_secret = 'HIDDEN'\n",
    "\n",
    "auth = OAuthHandler(consumer_key, consumer_secret)\n",
    "auth.set_access_token(access_token, access_secret)\n",
    "\n",
    "api = tweepy.API(auth, wait_on_rate_limit=True)\n",
    "\n",
    "# NOTE TO REVIEWER: this student had mobile verification issues so the following\n",
    "# Twitter API code was sent to this student from a Udacity instructor\n",
    "# Tweet IDs for which to gather additional data via Twitter's API\n",
    "tweet_ids = archive_df.tweet_id.values\n",
    "len(tweet_ids)\n",
    "\n",
    "# Query Twitter's API for JSON data for each tweet ID in the Twitter archive\n",
    "count = 0\n",
    "fails_dict = {}\n",
    "start = timer()\n",
    "# Save each tweet's returned JSON as a new line in a .txt file\n",
    "with open('tweet-json copy.txt', 'w') as outfile:\n",
    "    # This loop will likely take 20-30 minutes to run because of Twitter's rate limit\n",
    "    for tweet_id in tweet_ids:\n",
    "        count += 1\n",
    "        print(str(count) + \": \" + str(tweet_id))\n",
    "        try:\n",
    "            tweet = api.get_status(tweet_id, tweet_mode='extended')\n",
    "            print(\"Success\")\n",
    "            json.dump(tweet._json, outfile)\n",
    "            outfile.write('\\n')\n",
    "        except tweepy.TweepError as e:\n",
    "            print(\"Fail\")\n",
    "            fails_dict[tweet_id] = e\n",
    "            pass\n",
    "\n",
    "print(fails_dict)\n"
   ]
  },
  {
   "cell_type": "markdown",
   "metadata": {},
   "source": [
    "## api_df"
   ]
  },
  {
   "cell_type": "code",
   "execution_count": 10,
   "metadata": {},
   "outputs": [],
   "source": [
    "df_json_list=[]\n",
    "with open('tweet-json copy','r') as tweetjson:\n",
    "    for line in tweetjson:\n",
    "        line = json.loads(line.strip())\n",
    "        id= line[\"id\"]\n",
    "        retweet_count=line[\"retweet_count\"]\n",
    "        favorite_count=line[\"favorite_count\"]\n",
    "        df_json_list.append({'id':id,'retweet_count':retweet_count,'favorite_count':favorite_count })\n",
    "api_df=pd.DataFrame(df_json_list,columns = ['id','retweet_count','favorite_count'])"
   ]
  },
  {
   "cell_type": "markdown",
   "metadata": {},
   "source": [
    "## image_predictions_df"
   ]
  },
  {
   "cell_type": "code",
   "execution_count": 15,
   "metadata": {
    "scrolled": true
   },
   "outputs": [
    {
     "data": {
      "text/plain": [
       "(2075, 12)"
      ]
     },
     "execution_count": 15,
     "metadata": {},
     "output_type": "execute_result"
    }
   ],
   "source": [
    "url = 'https://d17h27t6h515a5.cloudfront.net/topher/2017/August/599fd2ad_image-predictions/image-predictions.tsv'\n",
    "image = requests.get(url)\n",
    "folder_name='image_predictions'\n",
    "os.mkdir(folder_name)\n",
    "with open (os.path.join(folder_name,\n",
    "                        url.split('/')[-1]),mode='wb')as file:\n",
    "    file.write(image.content)\n",
    "image_predictions_df = pd.read_csv('image_predictions/image-predictions.tsv',sep='\\t')\n",
    "image_predictions_df.shape"
   ]
  },
  {
   "cell_type": "markdown",
   "metadata": {},
   "source": [
    "# assessing and cleaning "
   ]
  },
  {
   "cell_type": "code",
   "execution_count": 16,
   "metadata": {},
   "outputs": [
    {
     "data": {
      "text/plain": [
       "(2354, 3)"
      ]
     },
     "execution_count": 16,
     "metadata": {},
     "output_type": "execute_result"
    }
   ],
   "source": [
    "api_df.shape"
   ]
  },
  {
   "cell_type": "markdown",
   "metadata": {},
   "source": [
    "**1- identify and remove the rows that contains the retweet and replies using retweeted_status_id,in_reply_to_status_id by index from archive data set**"
   ]
  },
  {
   "cell_type": "markdown",
   "metadata": {},
   "source": [
    "copying data"
   ]
  },
  {
   "cell_type": "code",
   "execution_count": 17,
   "metadata": {},
   "outputs": [],
   "source": [
    "archive_df_original=archive_df.copy()"
   ]
  },
  {
   "cell_type": "code",
   "execution_count": 19,
   "metadata": {},
   "outputs": [
    {
     "name": "stdout",
     "output_type": "stream",
     "text": [
      "<class 'pandas.core.frame.DataFrame'>\n",
      "RangeIndex: 2356 entries, 0 to 2355\n",
      "Data columns (total 17 columns):\n",
      " #   Column                      Non-Null Count  Dtype  \n",
      "---  ------                      --------------  -----  \n",
      " 0   tweet_id                    2356 non-null   int64  \n",
      " 1   in_reply_to_status_id       78 non-null     float64\n",
      " 2   in_reply_to_user_id         78 non-null     float64\n",
      " 3   timestamp                   2356 non-null   object \n",
      " 4   source                      2356 non-null   object \n",
      " 5   text                        2356 non-null   object \n",
      " 6   retweeted_status_id         181 non-null    float64\n",
      " 7   retweeted_status_user_id    181 non-null    float64\n",
      " 8   retweeted_status_timestamp  181 non-null    object \n",
      " 9   expanded_urls               2297 non-null   object \n",
      " 10  rating_numerator            2356 non-null   int64  \n",
      " 11  rating_denominator          2356 non-null   int64  \n",
      " 12  name                        2356 non-null   object \n",
      " 13  doggo                       2356 non-null   object \n",
      " 14  floofer                     2356 non-null   object \n",
      " 15  pupper                      2356 non-null   object \n",
      " 16  puppo                       2356 non-null   object \n",
      "dtypes: float64(4), int64(3), object(10)\n",
      "memory usage: 313.0+ KB\n"
     ]
    }
   ],
   "source": [
    "archive_df.info()"
   ]
  },
  {
   "cell_type": "markdown",
   "metadata": {},
   "source": [
    "**remove the rows that contains the retweet and replies**"
   ]
  },
  {
   "cell_type": "code",
   "execution_count": 20,
   "metadata": {},
   "outputs": [],
   "source": [
    "dropped_values=archive_df[archive_df['retweeted_status_id'].notnull()|archive_df['in_reply_to_status_id'].notnull()]\n",
    "archive_df_drop=archive_df.drop(dropped_values.index)\n"
   ]
  },
  {
   "cell_type": "markdown",
   "metadata": {},
   "source": [
    "**checking the deletion**"
   ]
  },
  {
   "cell_type": "code",
   "execution_count": 21,
   "metadata": {},
   "outputs": [
    {
     "name": "stdout",
     "output_type": "stream",
     "text": [
      "<class 'pandas.core.frame.DataFrame'>\n",
      "Int64Index: 2097 entries, 0 to 2355\n",
      "Data columns (total 17 columns):\n",
      " #   Column                      Non-Null Count  Dtype  \n",
      "---  ------                      --------------  -----  \n",
      " 0   tweet_id                    2097 non-null   int64  \n",
      " 1   in_reply_to_status_id       0 non-null      float64\n",
      " 2   in_reply_to_user_id         0 non-null      float64\n",
      " 3   timestamp                   2097 non-null   object \n",
      " 4   source                      2097 non-null   object \n",
      " 5   text                        2097 non-null   object \n",
      " 6   retweeted_status_id         0 non-null      float64\n",
      " 7   retweeted_status_user_id    0 non-null      float64\n",
      " 8   retweeted_status_timestamp  0 non-null      object \n",
      " 9   expanded_urls               2094 non-null   object \n",
      " 10  rating_numerator            2097 non-null   int64  \n",
      " 11  rating_denominator          2097 non-null   int64  \n",
      " 12  name                        2097 non-null   object \n",
      " 13  doggo                       2097 non-null   object \n",
      " 14  floofer                     2097 non-null   object \n",
      " 15  pupper                      2097 non-null   object \n",
      " 16  puppo                       2097 non-null   object \n",
      "dtypes: float64(4), int64(3), object(10)\n",
      "memory usage: 294.9+ KB\n"
     ]
    }
   ],
   "source": [
    "archive_df_drop.info()"
   ]
  },
  {
   "cell_type": "markdown",
   "metadata": {},
   "source": [
    "**checking the classification of dogs**"
   ]
  },
  {
   "cell_type": "code",
   "execution_count": 37,
   "metadata": {},
   "outputs": [
    {
     "name": "stdout",
     "output_type": "stream",
     "text": [
      "doggo\n",
      "None     2014\n",
      "doggo      83\n",
      "Name: doggo, dtype: int64\n",
      "\n",
      "\n",
      "floofer\n",
      "None       2087\n",
      "floofer      10\n",
      "Name: floofer, dtype: int64\n",
      "\n",
      "\n",
      "pupper\n",
      "None      1867\n",
      "pupper     230\n",
      "Name: pupper, dtype: int64\n",
      "\n",
      "\n",
      "puppo\n",
      "None     2073\n",
      "puppo      24\n",
      "Name: puppo, dtype: int64\n",
      "\n",
      "\n"
     ]
    }
   ],
   "source": [
    "for column in ['doggo','floofer','pupper','puppo']:\n",
    "    print(column)\n",
    "    print(archive_df_drop[column].value_counts())\n",
    "    print('\\n')"
   ]
  },
  {
   "cell_type": "markdown",
   "metadata": {},
   "source": [
    "**non-value cells in the 4 columns of the classification and replaced them with empty string**"
   ]
  },
  {
   "cell_type": "code",
   "execution_count": 38,
   "metadata": {
    "scrolled": true
   },
   "outputs": [],
   "source": [
    "archive_df_drop.iloc[:, -4: ] = archive_df_drop.iloc[:, -4: ].replace('None','')"
   ]
  },
  {
   "cell_type": "markdown",
   "metadata": {},
   "source": [
    "**checking the replacement of non values**"
   ]
  },
  {
   "cell_type": "code",
   "execution_count": 40,
   "metadata": {},
   "outputs": [
    {
     "name": "stdout",
     "output_type": "stream",
     "text": [
      "doggo\n",
      "         2014\n",
      "doggo      83\n",
      "Name: doggo, dtype: int64\n",
      "\n",
      "\n",
      "floofer\n",
      "           2087\n",
      "floofer      10\n",
      "Name: floofer, dtype: int64\n",
      "\n",
      "\n",
      "pupper\n",
      "          1867\n",
      "pupper     230\n",
      "Name: pupper, dtype: int64\n",
      "\n",
      "\n",
      "puppo\n",
      "         2073\n",
      "puppo      24\n",
      "Name: puppo, dtype: int64\n",
      "\n",
      "\n"
     ]
    }
   ],
   "source": [
    "for column in ['doggo','floofer','pupper','puppo']:\n",
    "    print(column)\n",
    "    print(archive_df_drop[column].value_counts())\n",
    "    print('\\n')"
   ]
  },
  {
   "cell_type": "markdown",
   "metadata": {},
   "source": [
    "**removing un-needed columns**"
   ]
  },
  {
   "cell_type": "code",
   "execution_count": 41,
   "metadata": {},
   "outputs": [],
   "source": [
    "archive_df_drop=archive_df_drop.drop(columns=['retweeted_status_id','retweeted_status_timestamp','retweeted_status_user_id',\n",
    "                                              'in_reply_to_status_id','in_reply_to_user_id'],errors='ignore')"
   ]
  },
  {
   "cell_type": "markdown",
   "metadata": {},
   "source": [
    "**making new column (dogs_classification) contains the four columns of classification and checking the values after merging the columns values** "
   ]
  },
  {
   "cell_type": "code",
   "execution_count": 42,
   "metadata": {},
   "outputs": [
    {
     "data": {
      "text/plain": [
       "                1761\n",
       "pupper           221\n",
       "doggo             72\n",
       "puppo             23\n",
       "floofer            9\n",
       "doggopupper        9\n",
       "doggopuppo         1\n",
       "doggofloofer       1\n",
       "Name: dogs_classification, dtype: int64"
      ]
     },
     "execution_count": 42,
     "metadata": {},
     "output_type": "execute_result"
    }
   ],
   "source": [
    "archive_df_drop['dogs_classification'] = archive_df_drop.apply(lambda row: row['doggo'] + \n",
    "                                                               row['floofer']+row['pupper']+row['puppo'], axis=1)\n",
    "archive_df_drop['dogs_classification'].value_counts()"
   ]
  },
  {
   "cell_type": "markdown",
   "metadata": {},
   "source": [
    "**collecting the double class and droping them from the data**"
   ]
  },
  {
   "cell_type": "code",
   "execution_count": 43,
   "metadata": {},
   "outputs": [],
   "source": [
    "double_class = archive_df_drop[(archive_df_drop['dogs_classification'] =='doggopupper') \n",
    "                               | (archive_df_drop['dogs_classification'] =='doggofloofer')\n",
    "                               |(archive_df_drop['dogs_classification'] =='doggopuppo')]\n",
    "archive_df_drop=archive_df_drop.drop(double_class.index)"
   ]
  },
  {
   "cell_type": "markdown",
   "metadata": {},
   "source": [
    "**checking the rating numerator and denominator**"
   ]
  },
  {
   "cell_type": "code",
   "execution_count": 50,
   "metadata": {},
   "outputs": [
    {
     "name": "stdout",
     "output_type": "stream",
     "text": [
      "count    2086.000000\n",
      "mean       12.194151\n",
      "std        40.470982\n",
      "min         0.000000\n",
      "25%        10.000000\n",
      "50%        11.000000\n",
      "75%        12.000000\n",
      "max      1776.000000\n",
      "Name: rating_numerator, dtype: float64\n",
      "\n",
      "\n",
      "count    2086.000000\n",
      "mean       10.451103\n",
      "std         6.662487\n",
      "min         2.000000\n",
      "25%        10.000000\n",
      "50%        10.000000\n",
      "75%        10.000000\n",
      "max       170.000000\n",
      "Name: rating_denominator, dtype: float64\n",
      "\n",
      "\n"
     ]
    }
   ],
   "source": [
    "print(archive_df_drop['rating_numerator'].describe())\n",
    "print('\\n')\n",
    "print(archive_df_drop['rating_denominator'].describe())\n",
    "print('\\n')"
   ]
  },
  {
   "cell_type": "markdown",
   "metadata": {},
   "source": [
    "**droping rating denominator other than 10 value**"
   ]
  },
  {
   "cell_type": "code",
   "execution_count": 51,
   "metadata": {},
   "outputs": [],
   "source": [
    "denomin_drop = archive_df_drop[archive_df_drop['rating_denominator']!=10]\n",
    "archive_df_drop=archive_df_drop.drop(denomin_drop.index)"
   ]
  },
  {
   "cell_type": "markdown",
   "metadata": {},
   "source": [
    "**checking droping rating denominator other than 10 value**"
   ]
  },
  {
   "cell_type": "code",
   "execution_count": 53,
   "metadata": {},
   "outputs": [
    {
     "name": "stdout",
     "output_type": "stream",
     "text": [
      "count    2069.0\n",
      "mean       10.0\n",
      "std         0.0\n",
      "min        10.0\n",
      "25%        10.0\n",
      "50%        10.0\n",
      "75%        10.0\n",
      "max        10.0\n",
      "Name: rating_denominator, dtype: float64\n"
     ]
    }
   ],
   "source": [
    "print(archive_df_drop['rating_denominator'].describe())"
   ]
  },
  {
   "cell_type": "markdown",
   "metadata": {},
   "source": [
    "**checking name variable**"
   ]
  },
  {
   "cell_type": "code",
   "execution_count": 54,
   "metadata": {},
   "outputs": [
    {
     "data": {
      "text/plain": [
       "None       586\n",
       "a           54\n",
       "Charlie     11\n",
       "Lucy        11\n",
       "Cooper      10\n",
       "          ... \n",
       "Sky          1\n",
       "Zoe          1\n",
       "Leela        1\n",
       "Sephie       1\n",
       "Bowie        1\n",
       "Name: name, Length: 949, dtype: int64"
      ]
     },
     "execution_count": 54,
     "metadata": {},
     "output_type": "execute_result"
    }
   ],
   "source": [
    "archive_df_drop['name'].value_counts()"
   ]
  },
  {
   "cell_type": "markdown",
   "metadata": {},
   "source": [
    "**after checking i recommend replacing the 'A' and 'none' values with null to be consistent**"
   ]
  },
  {
   "cell_type": "code",
   "execution_count": 55,
   "metadata": {},
   "outputs": [],
   "source": [
    "archive_df_drop.iloc[:, -8: ] = archive_df_drop.iloc[:, -8: ].replace(['None','a'],'null')"
   ]
  },
  {
   "cell_type": "markdown",
   "metadata": {},
   "source": [
    "**checking replacing**"
   ]
  },
  {
   "cell_type": "code",
   "execution_count": 57,
   "metadata": {},
   "outputs": [
    {
     "data": {
      "text/plain": [
       "null        640\n",
       "Charlie      11\n",
       "Lucy         11\n",
       "Oliver       10\n",
       "Cooper       10\n",
       "           ... \n",
       "Meyer         1\n",
       "Sky           1\n",
       "Zoe           1\n",
       "Leela         1\n",
       "Ralphson      1\n",
       "Name: name, Length: 948, dtype: int64"
      ]
     },
     "execution_count": 57,
     "metadata": {},
     "output_type": "execute_result"
    }
   ],
   "source": [
    "archive_df_drop['name'].value_counts()"
   ]
  },
  {
   "cell_type": "markdown",
   "metadata": {},
   "source": [
    "**checking the variables format**"
   ]
  },
  {
   "cell_type": "code",
   "execution_count": 56,
   "metadata": {},
   "outputs": [
    {
     "name": "stdout",
     "output_type": "stream",
     "text": [
      "<class 'pandas.core.frame.DataFrame'>\n",
      "Int64Index: 2069 entries, 0 to 2355\n",
      "Data columns (total 13 columns):\n",
      " #   Column               Non-Null Count  Dtype \n",
      "---  ------               --------------  ----- \n",
      " 0   tweet_id             2069 non-null   int64 \n",
      " 1   timestamp            2069 non-null   object\n",
      " 2   source               2069 non-null   object\n",
      " 3   text                 2069 non-null   object\n",
      " 4   expanded_urls        2066 non-null   object\n",
      " 5   rating_numerator     2069 non-null   int64 \n",
      " 6   rating_denominator   2069 non-null   int64 \n",
      " 7   name                 2069 non-null   object\n",
      " 8   doggo                2069 non-null   object\n",
      " 9   floofer              2069 non-null   object\n",
      " 10  pupper               2069 non-null   object\n",
      " 11  puppo                2069 non-null   object\n",
      " 12  dogs_classification  2069 non-null   object\n",
      "dtypes: int64(3), object(10)\n",
      "memory usage: 226.3+ KB\n"
     ]
    }
   ],
   "source": [
    "archive_df_drop.info()"
   ]
  },
  {
   "cell_type": "markdown",
   "metadata": {},
   "source": [
    "**timestamp have to be date time format according to the code below**"
   ]
  },
  {
   "cell_type": "code",
   "execution_count": 58,
   "metadata": {},
   "outputs": [],
   "source": [
    "archive_df_drop['timestamp'] = pd.to_datetime(archive_df_drop['timestamp'])"
   ]
  },
  {
   "cell_type": "markdown",
   "metadata": {},
   "source": [
    "**checking the variables format**"
   ]
  },
  {
   "cell_type": "code",
   "execution_count": 59,
   "metadata": {},
   "outputs": [
    {
     "name": "stdout",
     "output_type": "stream",
     "text": [
      "<class 'pandas.core.frame.DataFrame'>\n",
      "Int64Index: 2069 entries, 0 to 2355\n",
      "Data columns (total 13 columns):\n",
      " #   Column               Non-Null Count  Dtype              \n",
      "---  ------               --------------  -----              \n",
      " 0   tweet_id             2069 non-null   int64              \n",
      " 1   timestamp            2069 non-null   datetime64[ns, UTC]\n",
      " 2   source               2069 non-null   object             \n",
      " 3   text                 2069 non-null   object             \n",
      " 4   expanded_urls        2066 non-null   object             \n",
      " 5   rating_numerator     2069 non-null   int64              \n",
      " 6   rating_denominator   2069 non-null   int64              \n",
      " 7   name                 2069 non-null   object             \n",
      " 8   doggo                2069 non-null   object             \n",
      " 9   floofer              2069 non-null   object             \n",
      " 10  pupper               2069 non-null   object             \n",
      " 11  puppo                2069 non-null   object             \n",
      " 12  dogs_classification  2069 non-null   object             \n",
      "dtypes: datetime64[ns, UTC](1), int64(3), object(9)\n",
      "memory usage: 226.3+ KB\n"
     ]
    }
   ],
   "source": [
    "archive_df_drop.info()"
   ]
  },
  {
   "cell_type": "markdown",
   "metadata": {},
   "source": [
    "**copy image prediction data**"
   ]
  },
  {
   "cell_type": "code",
   "execution_count": 60,
   "metadata": {},
   "outputs": [],
   "source": [
    "image_predictions_original=image_predictions_df.copy()"
   ]
  },
  {
   "cell_type": "markdown",
   "metadata": {},
   "source": [
    "**checking image_predictions data**"
   ]
  },
  {
   "cell_type": "code",
   "execution_count": 61,
   "metadata": {},
   "outputs": [
    {
     "name": "stdout",
     "output_type": "stream",
     "text": [
      "<class 'pandas.core.frame.DataFrame'>\n",
      "RangeIndex: 2075 entries, 0 to 2074\n",
      "Data columns (total 12 columns):\n",
      " #   Column    Non-Null Count  Dtype  \n",
      "---  ------    --------------  -----  \n",
      " 0   tweet_id  2075 non-null   int64  \n",
      " 1   jpg_url   2075 non-null   object \n",
      " 2   img_num   2075 non-null   int64  \n",
      " 3   p1        2075 non-null   object \n",
      " 4   p1_conf   2075 non-null   float64\n",
      " 5   p1_dog    2075 non-null   bool   \n",
      " 6   p2        2075 non-null   object \n",
      " 7   p2_conf   2075 non-null   float64\n",
      " 8   p2_dog    2075 non-null   bool   \n",
      " 9   p3        2075 non-null   object \n",
      " 10  p3_conf   2075 non-null   float64\n",
      " 11  p3_dog    2075 non-null   bool   \n",
      "dtypes: bool(3), float64(3), int64(2), object(4)\n",
      "memory usage: 152.1+ KB\n"
     ]
    }
   ],
   "source": [
    "image_predictions_df.info()"
   ]
  },
  {
   "cell_type": "markdown",
   "metadata": {},
   "source": [
    "**firstly keep the observation with the triple true in the boolean columns with true value**"
   ]
  },
  {
   "cell_type": "code",
   "execution_count": 62,
   "metadata": {},
   "outputs": [],
   "source": [
    "image_predictions_df = image_predictions_df[(image_predictions_df['p1_dog'] ==True) & (image_predictions_df['p2_dog'] ==True)\n",
    "                                            & (image_predictions_df['p3_dog'] ==True)]"
   ]
  },
  {
   "cell_type": "markdown",
   "metadata": {},
   "source": [
    "**rename the variable names to be presentable more**"
   ]
  },
  {
   "cell_type": "code",
   "execution_count": 63,
   "metadata": {},
   "outputs": [],
   "source": [
    "image_predictions_df=image_predictions_df.rename(columns={\"tweet_id\":\"tweet_id\",\"jpg_url\":\"jpg_url\",\"img_num\":\"img_num\",\n",
    "                                                          \"p1\":\"1st_prediction\",\"p1_conf\":\"1st_prediction_conf\",\n",
    "                                                          \"p1_dog\":\"1st_prediction_dog\",\"p2\":\"2nd_prediction\",\n",
    "                                                          \"p2_conf\":\"2nd_prediction_conf\",\"p2_dog\":\"2nd_prediction_dog\",\n",
    "                                                          \"p3\":\"3rd_prediction\",\"p3_conf\":\"3rd_prediction_conf\",\n",
    "                                                          \"p3_dog\":\"3rd_prediction_dog\"}) "
   ]
  },
  {
   "cell_type": "markdown",
   "metadata": {},
   "source": [
    "**checking the renaming**"
   ]
  },
  {
   "cell_type": "code",
   "execution_count": 64,
   "metadata": {},
   "outputs": [
    {
     "name": "stdout",
     "output_type": "stream",
     "text": [
      "<class 'pandas.core.frame.DataFrame'>\n",
      "Int64Index: 1243 entries, 0 to 2073\n",
      "Data columns (total 12 columns):\n",
      " #   Column               Non-Null Count  Dtype  \n",
      "---  ------               --------------  -----  \n",
      " 0   tweet_id             1243 non-null   int64  \n",
      " 1   jpg_url              1243 non-null   object \n",
      " 2   img_num              1243 non-null   int64  \n",
      " 3   1st_prediction       1243 non-null   object \n",
      " 4   1st_prediction_conf  1243 non-null   float64\n",
      " 5   1st_prediction_dog   1243 non-null   bool   \n",
      " 6   2nd_prediction       1243 non-null   object \n",
      " 7   2nd_prediction_conf  1243 non-null   float64\n",
      " 8   2nd_prediction_dog   1243 non-null   bool   \n",
      " 9   3rd_prediction       1243 non-null   object \n",
      " 10  3rd_prediction_conf  1243 non-null   float64\n",
      " 11  3rd_prediction_dog   1243 non-null   bool   \n",
      "dtypes: bool(3), float64(3), int64(2), object(4)\n",
      "memory usage: 100.8+ KB\n"
     ]
    }
   ],
   "source": [
    "image_predictions_df.info()"
   ]
  },
  {
   "cell_type": "markdown",
   "metadata": {},
   "source": [
    "**keep data in archive df with images only as requested**"
   ]
  },
  {
   "cell_type": "code",
   "execution_count": 65,
   "metadata": {},
   "outputs": [
    {
     "data": {
      "text/plain": [
       "False"
      ]
     },
     "execution_count": 65,
     "metadata": {},
     "output_type": "execute_result"
    }
   ],
   "source": [
    "tweets_with_image = list(image_predictions_df.tweet_id.unique())\n",
    "len(tweets_with_image) == archive_df_drop.tweet_id.isin(tweets_with_image).sum()\n",
    "archive_df_drop = archive_df_drop[archive_df_drop.tweet_id.isin(tweets_with_image)]\n",
    "len(tweets_with_image) == archive_df_drop.tweet_id.isin(tweets_with_image).sum()"
   ]
  },
  {
   "cell_type": "markdown",
   "metadata": {},
   "source": [
    "**checking api df**"
   ]
  },
  {
   "cell_type": "code",
   "execution_count": 66,
   "metadata": {},
   "outputs": [
    {
     "name": "stdout",
     "output_type": "stream",
     "text": [
      "<class 'pandas.core.frame.DataFrame'>\n",
      "RangeIndex: 2354 entries, 0 to 2353\n",
      "Data columns (total 3 columns):\n",
      " #   Column          Non-Null Count  Dtype\n",
      "---  ------          --------------  -----\n",
      " 0   id              2354 non-null   int64\n",
      " 1   retweet_count   2354 non-null   int64\n",
      " 2   favorite_count  2354 non-null   int64\n",
      "dtypes: int64(3)\n",
      "memory usage: 55.3 KB\n"
     ]
    }
   ],
   "source": [
    "api_df.info()"
   ]
  },
  {
   "cell_type": "markdown",
   "metadata": {},
   "source": [
    "**rename the variable names to be consistent with other two**"
   ]
  },
  {
   "cell_type": "code",
   "execution_count": 67,
   "metadata": {
    "scrolled": true
   },
   "outputs": [],
   "source": [
    "api_df=api_df.rename(columns={\"id\": \"tweet_id\", \"retweet_count\": \"retweet_count\",\"favourite_count\":\"favourite_count\"})"
   ]
  },
  {
   "cell_type": "markdown",
   "metadata": {},
   "source": [
    "**copy api_df**"
   ]
  },
  {
   "cell_type": "code",
   "execution_count": 68,
   "metadata": {},
   "outputs": [],
   "source": [
    "api_df_original=api_df.copy()"
   ]
  },
  {
   "cell_type": "markdown",
   "metadata": {},
   "source": [
    "**merge the tweets data set to be a one unit related data**"
   ]
  },
  {
   "cell_type": "code",
   "execution_count": 69,
   "metadata": {},
   "outputs": [],
   "source": [
    "tweet_data = pd.merge((archive_df_drop[['tweet_id','timestamp','source','text','expanded_urls']]),\n",
    "                      api_df, on='tweet_id', how='inner')"
   ]
  },
  {
   "cell_type": "markdown",
   "metadata": {},
   "source": [
    "**merge the dogs data set to be a one unit related data**"
   ]
  },
  {
   "cell_type": "code",
   "execution_count": 89,
   "metadata": {},
   "outputs": [],
   "source": [
    "dogs_data=pd.merge(archive_df_drop[['tweet_id','rating_numerator',\n",
    "                                    'rating_denominator','name','doggo','pupper','puppo','floofer','dogs_classification']],\n",
    "                   image_predictions_df,on='tweet_id',how='inner')"
   ]
  },
  {
   "cell_type": "markdown",
   "metadata": {},
   "source": [
    "**merge all data set to be a one unit master data as requied**"
   ]
  },
  {
   "cell_type": "code",
   "execution_count": 90,
   "metadata": {},
   "outputs": [],
   "source": [
    "merge=pd.merge(tweet_data,dogs_data,on='tweet_id',how='inner')"
   ]
  },
  {
   "cell_type": "markdown",
   "metadata": {},
   "source": [
    "**prepare data set for analysing by dog class for classed only**"
   ]
  },
  {
   "cell_type": "code",
   "execution_count": 91,
   "metadata": {
    "scrolled": false
   },
   "outputs": [
    {
     "data": {
      "text/plain": [
       "pupper     119\n",
       "doggo       39\n",
       "puppo       18\n",
       "floofer      6\n",
       "Name: dogs_classification, dtype: int64"
      ]
     },
     "execution_count": 91,
     "metadata": {},
     "output_type": "execute_result"
    }
   ],
   "source": [
    "dog_class=merge[(merge['doggo']=='doggo')+(merge['pupper']=='pupper')+(merge['puppo']=='puppo')+(merge['floofer']=='floofer')]\n",
    "dog_class['dogs_classification'].value_counts()"
   ]
  },
  {
   "cell_type": "markdown",
   "metadata": {},
   "source": [
    "**insight on histogram for dog class to show the dominant class in the data**"
   ]
  },
  {
   "cell_type": "code",
   "execution_count": 92,
   "metadata": {},
   "outputs": [
    {
     "data": {
      "text/plain": [
       "<matplotlib.axes._subplots.AxesSubplot at 0x13262ef6808>"
      ]
     },
     "execution_count": 92,
     "metadata": {},
     "output_type": "execute_result"
    },
    {
     "data": {
      "image/png": "[encoded data removed]",
      "text/plain": [
       "<Figure size 432x288 with 1 Axes>"
      ]
     },
     "metadata": {
      "needs_background": "light"
     },
     "output_type": "display_data"
    }
   ],
   "source": [
    "dog_class['dogs_classification'].hist()"
   ]
  },
  {
   "cell_type": "markdown",
   "metadata": {},
   "source": [
    "**insight on retweet_count,favorite_count**"
   ]
  },
  {
   "cell_type": "code",
   "execution_count": 93,
   "metadata": {},
   "outputs": [
    {
     "data": {
      "text/plain": [
       "count     1174.000000\n",
       "mean      2758.096252\n",
       "std       4535.201131\n",
       "min         16.000000\n",
       "25%        648.500000\n",
       "50%       1418.000000\n",
       "75%       3226.250000\n",
       "max      56625.000000\n",
       "Name: retweet_count, dtype: float64"
      ]
     },
     "execution_count": 93,
     "metadata": {},
     "output_type": "execute_result"
    }
   ],
   "source": [
    "merge[\"retweet_count\"].describe()"
   ]
  },
  {
   "cell_type": "code",
   "execution_count": 94,
   "metadata": {
    "scrolled": true
   },
   "outputs": [
    {
     "data": {
      "text/plain": [
       "count      1174.000000\n",
       "mean       9332.022147\n",
       "std       12623.379263\n",
       "min          81.000000\n",
       "25%        2219.250000\n",
       "50%        4540.000000\n",
       "75%       11734.750000\n",
       "max      132810.000000\n",
       "Name: favorite_count, dtype: float64"
      ]
     },
     "execution_count": 94,
     "metadata": {},
     "output_type": "execute_result"
    }
   ],
   "source": [
    "merge[\"favorite_count\"].describe()"
   ]
  },
  {
   "cell_type": "markdown",
   "metadata": {},
   "source": [
    "**graphing both retweet_count vs favorite_count**"
   ]
  },
  {
   "cell_type": "code",
   "execution_count": 95,
   "metadata": {},
   "outputs": [
    {
     "data": {
      "text/plain": [
       "<matplotlib.axes._subplots.AxesSubplot at 0x132625b1a48>"
      ]
     },
     "execution_count": 95,
     "metadata": {},
     "output_type": "execute_result"
    },
    {
     "data": {
      "image/png": "[encoded data removed]",
      "text/plain": [
       "<Figure size 432x288 with 1 Axes>"
      ]
     },
     "metadata": {
      "needs_background": "light"
     },
     "output_type": "display_data"
    }
   ],
   "source": [
    "merge.plot(x=\"favorite_count\",y=\"retweet_count\",kind='scatter')"
   ]
  },
  {
   "cell_type": "markdown",
   "metadata": {},
   "source": [
    "**describing the numerator and denominator data to get eye on the range and the resulting numbers**"
   ]
  },
  {
   "cell_type": "code",
   "execution_count": 96,
   "metadata": {},
   "outputs": [],
   "source": [
    "rating_analyze=merge.groupby(['dogs_classification']).describe()[['rating_numerator','rating_denominator']]"
   ]
  },
  {
   "cell_type": "code",
   "execution_count": 97,
   "metadata": {
    "scrolled": true
   },
   "outputs": [
    {
     "data": {
      "text/plain": [
       "rating_numerator    count    992.000000\n",
       "                    mean      12.055556\n",
       "                    std        1.978628\n",
       "                    min       10.000000\n",
       "                    25%       12.000000\n",
       "                    50%       12.500000\n",
       "                    75%       13.000000\n",
       "                    max       27.000000\n",
       "rating_denominator  count    992.000000\n",
       "                    mean      10.000000\n",
       "                    std        0.000000\n",
       "                    min       10.000000\n",
       "                    25%       10.000000\n",
       "                    50%       10.000000\n",
       "                    75%       10.000000\n",
       "                    max       10.000000\n",
       "dtype: float64"
      ]
     },
     "execution_count": 97,
     "metadata": {},
     "output_type": "execute_result"
    }
   ],
   "source": [
    "rating_analyze.max()"
   ]
  },
  {
   "cell_type": "markdown",
   "metadata": {},
   "source": [
    "**checking the confidence % on predictions done to decide on graphing the one more reliable**"
   ]
  },
  {
   "cell_type": "code",
   "execution_count": 98,
   "metadata": {},
   "outputs": [],
   "source": [
    "prediction_confidence=merge.groupby(['dogs_classification']).describe()[['1st_prediction_conf','2nd_prediction_conf','3rd_prediction_conf']]"
   ]
  },
  {
   "cell_type": "code",
   "execution_count": 99,
   "metadata": {
    "scrolled": true
   },
   "outputs": [
    {
     "data": {
      "text/plain": [
       "1st_prediction_conf  count    992.000000\n",
       "                     mean       0.702760\n",
       "                     std        0.307513\n",
       "                     min        0.359860\n",
       "                     25%        0.544080\n",
       "                     50%        0.755945\n",
       "                     75%        0.957464\n",
       "                     max        0.999876\n",
       "2nd_prediction_conf  count    992.000000\n",
       "                     mean       0.190693\n",
       "                     std        0.160702\n",
       "                     min        0.008758\n",
       "                     25%        0.114839\n",
       "                     50%        0.168747\n",
       "                     75%        0.297003\n",
       "                     max        0.467678\n",
       "3rd_prediction_conf  count    992.000000\n",
       "                     mean       0.071525\n",
       "                     std        0.058315\n",
       "                     min        0.002140\n",
       "                     25%        0.033726\n",
       "                     50%        0.071732\n",
       "                     75%        0.097503\n",
       "                     max        0.271042\n",
       "dtype: float64"
      ]
     },
     "execution_count": 99,
     "metadata": {},
     "output_type": "execute_result"
    }
   ],
   "source": [
    "prediction_confidence.max()"
   ]
  },
  {
   "cell_type": "markdown",
   "metadata": {},
   "source": [
    "**graphing the most reprsentative specie prediction**"
   ]
  },
  {
   "cell_type": "code",
   "execution_count": 135,
   "metadata": {},
   "outputs": [
    {
     "data": {
      "text/plain": [
       "<matplotlib.axes._subplots.AxesSubplot at 0x13264eb8c88>"
      ]
     },
     "execution_count": 135,
     "metadata": {},
     "output_type": "execute_result"
    },
    {
     "data": {
      "image/png": "[encoded data removed]",
      "text/plain": [
       "<Figure size 432x288 with 1 Axes>"
      ]
     },
     "metadata": {
      "needs_background": "light"
     },
     "output_type": "display_data"
    }
   ],
   "source": [
    "merge['1st_prediction'].value_counts().head(20).plot.bar()"
   ]
  },
  {
   "cell_type": "markdown",
   "metadata": {
    "scrolled": true
   },
   "source": [
    "**time stamp eye on the peak of tweeting and activity**"
   ]
  },
  {
   "cell_type": "code",
   "execution_count": 134,
   "metadata": {
    "scrolled": true
   },
   "outputs": [
    {
     "data": {
      "text/plain": [
       "Text(0, 0.5, 'count of tweets per day hours')"
      ]
     },
     "execution_count": 134,
     "metadata": {},
     "output_type": "execute_result"
    },
    {
     "data": {
      "image/png": "[encoded data removed]",
      "text/plain": [
       "<Figure size 432x288 with 1 Axes>"
      ]
     },
     "metadata": {
      "needs_background": "light"
     },
     "output_type": "display_data"
    }
   ],
   "source": [
    "timing=merge['timestamp'].dt.hour\n",
    "plt.hist(timing,bins=20)\n",
    "plt.xticks(list(range(0,24)))\n",
    "plt.title('tweeting along the day hours')\n",
    "plt.xlabel('day hours')\n",
    "plt.ylabel('count of tweets per day hours')"
   ]
  },
  {
   "cell_type": "code",
   "execution_count": 130,
   "metadata": {},
   "outputs": [],
   "source": [
    "archive_df_original.to_csv('twitter_archive_enhanced.csv',index=False)\n",
    "image_predictions_original.to_csv('image_predictions.csv',index=False)\n",
    "api_df_original.to_csv('tweet-json.csv',index=False)\n",
    "tweet_data.to_csv('tweet_data.csv',index=False)\n",
    "dogs_data.to_csv('dogs_data.csv',index=False)\n",
    "merge.to_csv('twitter_archive_master.csv',index=False)"
   ]
  },
  {
   "cell_type": "code",
   "execution_count": null,
   "metadata": {},
   "outputs": [],
   "source": []
  }
 ],
 "metadata": {
  "kernelspec": {
   "display_name": "Python 3",
   "language": "python",
   "name": "python3"
  },
  "language_info": {
   "codemirror_mode": {
    "name": "ipython",
    "version": 3
   },
   "file_extension": ".py",
   "mimetype": "text/x-python",
   "name": "python",
   "nbconvert_exporter": "python",
   "pygments_lexer": "ipython3",
   "version": "3.7.6"
  }
 },
 "nbformat": 4,
 "nbformat_minor": 4
}
