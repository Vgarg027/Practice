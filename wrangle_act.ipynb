{
 "cells": [
  {
   "cell_type": "markdown",
   "id": "c4cd0a9b",
   "metadata": {},
   "source": [
    "# Project - Investigating the Twitter WeRateDogs Archive\n",
    "\n",
    "### Table of Contents\n",
    "\n",
    "<ul>\n",
    "    <li><a href=\"#intro\">Introduction - Data Gathering</a></li>\n",
    "    <li><a href=\"#assessing\">Data Assessing</a></li>\n",
    "    <li><a href=\"#cleaning\">Data Cleaning</a></li>\n",
    "    <li><a href=\"#da\">Data Analysis</a></li>\n",
    "    <li><a href=\"#insights\"> Insights</a></li>\n",
    "</ul>"
   ]
  },
  {
   "cell_type": "markdown",
   "id": "2806e84a",
   "metadata": {},
   "source": [
    "<a id='intro'></a>\n",
    "## Introduction - Data Gathering\n",
    "This project is investigating the tweet archive of Twitter user @dog_rates also known as WeRateDogs. They rate people's dogs with a humorous comment about the dog. The rating comes with a denominator of 10 and the numerator is always greater than 10.\n",
    "The project is investigating three datasets.\n",
    "1. The enhanced twitter archive\n",
    "2. Data gathered from twitter API (retweet count, favorite count)\n",
    "3. Image Predictions File: Which is the output gotten by running the dog's image through a neural network. Columns include:\n",
    "    1. tweet_id: The last part of the tweet url after \"status/\"-> https://twitter.com/dog-rates/status/88,,,,921\n",
    "    2. TP1: The algorithm's number 1 prediction for the image in the tweet.\n",
    "    3. TP1_conf: How confident the algorithm is in its number 1 prediction.\n",
    "    4. TP1_dog: Whether or not the number 1 prediction is a breed of dog.\n",
    "    5. TP2: The algorithm's second most likely prediction.\n",
    "    6. TP2_conf: How confident the algorithm is in its number 2 prediction.\n",
    "    7. TP2_dog: Whether or not the number 2 prediction is a breed of dog. e.t.c\n"
   ]
  },
  {
   "cell_type": "code",
   "execution_count": 1,
   "id": "c0f4e555",
   "metadata": {},
   "outputs": [],
   "source": [
    "#import libraries\n",
    "import pandas as pd\n",
    "import numpy as np\n",
    "import requests as r\n",
    "import tweepy as tw\n",
    "import seaborn as sb\n",
    "import matplotlib.pyplot as plt\n",
    "\n",
    "%matplotlib inline"
   ]
  },
  {
   "cell_type": "code",
   "execution_count": 2,
   "id": "00e9abdc",
   "metadata": {},
   "outputs": [],
   "source": [
    "# authenticating twitter api credentials\n",
    "consumer_key = ''\n",
    "consumer_secret = ''\n",
    "access_token = ''\n",
    "access_token_secret = ''"
   ]
  },
  {
   "cell_type": "code",
   "execution_count": 2,
   "id": "e0fc91c6",
   "metadata": {},
   "outputs": [],
   "source": [
    "#load twitter-archive-enhanced.csv\n",
    "df_twitter_archive = pd.read_csv('twitter-archive-enhanced.csv')"
   ]
  },
  {
   "cell_type": "code",
   "execution_count": 3,
   "id": "52e5c156",
   "metadata": {},
   "outputs": [],
   "source": [
    "#Get Neural Network Predictions\n",
    "response = r.get('https://d17h27t6h515a5.cloudfront.net/topher/2017/August/599fd2ad_image-predictions/image-predictions.tsv')"
   ]
  },
  {
   "cell_type": "code",
   "execution_count": 6,
   "id": "4029a6e0",
   "metadata": {},
   "outputs": [
    {
     "data": {
      "text/plain": [
       "'tweet_id\\tjpg_url\\timg_num\\tp1\\tp1_conf\\tp1_dog\\tp2\\tp2_conf\\tp2_dog\\tp3\\tp3_conf\\tp3_dog\\n666020888022790149\\thttps://pbs.twimg.com/media/CT4udn0WwAA0aMy.jpg\\t1\\tWelsh_springer_spaniel\\t0.465074\\tTrue\\tcollie\\t0.156665'"
      ]
     },
     "execution_count": 6,
     "metadata": {},
     "output_type": "execute_result"
    }
   ],
   "source": [
    "#check to see that we got a response from the url\n",
    "response.text[0:200]"
   ]
  },
  {
   "cell_type": "code",
   "execution_count": 7,
   "id": "fd470906",
   "metadata": {},
   "outputs": [
    {
     "data": {
      "text/plain": [
       "tweet_id                        int64\n",
       "in_reply_to_status_id         float64\n",
       "in_reply_to_user_id           float64\n",
       "timestamp                      object\n",
       "source                         object\n",
       "text                           object\n",
       "retweeted_status_id           float64\n",
       "retweeted_status_user_id      float64\n",
       "retweeted_status_timestamp     object\n",
       "expanded_urls                  object\n",
       "rating_numerator                int64\n",
       "rating_denominator              int64\n",
       "name                           object\n",
       "doggo                          object\n",
       "floofer                        object\n",
       "pupper                         object\n",
       "puppo                          object\n",
       "dtype: object"
      ]
     },
     "execution_count": 7,
     "metadata": {},
     "output_type": "execute_result"
    }
   ],
   "source": [
    "#Inspect df_twitter_archive to see the structure of the dataframe\n",
    "df_twitter_archive.dtypes"
   ]
  },
  {
   "cell_type": "code",
   "execution_count": 8,
   "id": "1b775705",
   "metadata": {},
   "outputs": [],
   "source": [
    "# instantiating the api\n",
    "auth = tw.OAuthHandler(consumer_key, consumer_secret)\n",
    "auth.set_access_token(access_token, access_token_secret)\n",
    "\n",
    "# creating API object\n",
    "api = tw.API(auth)"
   ]
  },
  {
   "cell_type": "code",
   "execution_count": 10,
   "id": "2a002b66",
   "metadata": {},
   "outputs": [
    {
     "name": "stdout",
     "output_type": "stream",
     "text": [
      "4737.157113075256\n",
      "[888202515573088257, 873697596434513921, 872668790621863937, 872261713294495745, 869988702071779329, 866816280283807744, 861769973181624320, 856602993587888130, 856330835276025856, 851953902622658560, 851861385021730816, 845459076796616705, 844704788403113984, 842892208864923648, 837366284874571778, 837012587749474308, 829374341691346946, 827228250799742977, 812747805718642688, 802247111496568832, 794332329137291264, 779123168116150273, 775096608509886464, 771004394259247104, 770743923962707968, 766864461642756096, 759923798737051648, 759566828574212096, 754011816964026368, 680055455951884288, 671744970634719232, 669753178989142016]\n"
     ]
    }
   ],
   "source": [
    "#Gather remaining data, separating the tweet_ids that failed\n",
    "import time\n",
    "fav = []\n",
    "retweet = []\n",
    "tweet_id_new = []\n",
    "fail_tweet_id = []\n",
    "start_time = time.time()\n",
    "for item in df_twitter_archive['tweet_id']:\n",
    "    try:\n",
    "        tweet_details = api.get_status(item)\n",
    "        tweet_id_new.append(item)\n",
    "        fav.append(tweet_details.favorite_count)\n",
    "        retweet.append(tweet_details.retweet_count)\n",
    "    except tw.errors.NotFound:\n",
    "        fail_tweet_id.append(item)\n",
    "        continue\n",
    "    except tw.errors.Forbidden:\n",
    "        fail_tweet_id.append(item)\n",
    "        continue\n",
    "    except tw.errors.Unauthorized:\n",
    "        fail_tweet_id.append(item)\n",
    "        continue\n",
    "    except tw.errors.HTTPException:\n",
    "        fail_tweet_id.append(item)\n",
    "        continue\n",
    "    except tw.errors.TweepyException:\n",
    "        fail_tweet_id.append(item)\n",
    "        continue\n",
    "           \n",
    "end_time = time.time()\n",
    "print(end_time - start_time)\n",
    "print(fail_tweet_id)"
   ]
  },
  {
   "cell_type": "code",
   "execution_count": 11,
   "id": "2c6fc317",
   "metadata": {},
   "outputs": [],
   "source": [
    "#Form a dataframe using the list\n",
    "data = {'tweet_id': tweet_id_new, 'favorite_count': fav, 'retweet_count':retweet}\n",
    "df_tweet_json = pd.DataFrame.from_dict(data)"
   ]
  },
  {
   "cell_type": "code",
   "execution_count": 12,
   "id": "1becb6fa",
   "metadata": {},
   "outputs": [],
   "source": [
    "#Save data downloaded from API to a text file\n",
    "#df_tweet_json.to_csv('tweet_json.txt', header=None, index=None, sep=' ', mode='a')\n",
    "df_tweet_json.to_json('tweet-json.txt', orient='columns')"
   ]
  },
  {
   "cell_type": "code",
   "execution_count": 13,
   "id": "f602d5f5",
   "metadata": {},
   "outputs": [],
   "source": [
    "#Save failed tweet ids to a text file\n",
    "df_failed_tweet_id = pd.DataFrame.from_dict({'tweet_id':fail_tweet_id}, orient='index')\n",
    "df_failed_tweet_id.to_csv('tweet-json_fail.txt', header=None, index=None, sep=' ', mode='a')\n"
   ]
  },
  {
   "cell_type": "code",
   "execution_count": 14,
   "id": "420c809a",
   "metadata": {},
   "outputs": [],
   "source": [
    "#Converting the tab separated values we read into a pandas dataframe\n",
    "responseList = response.content.decode('utf-8').split('\\n')\n",
    "responseList = responseList[1:len(responseList)-1]\n",
    "df_prediction_list = []\n",
    "column_names = ['tweet_id','jpg_url','img_num','tp1','tp1_confidence','tp1_dog','tp2','tp2_confidence','tp2_dog','tp3','tp3_confidence','tp3_dog']\n",
    "df_prediction = pd.DataFrame(columns = column_names)\n",
    "\n",
    "for item in responseList:\n",
    "    ite = item.split('\\t')\n",
    "    df_prediction.loc[len(df_prediction)] = ite"
   ]
  },
  {
   "cell_type": "code",
   "execution_count": 15,
   "id": "c4e933d3",
   "metadata": {},
   "outputs": [],
   "source": [
    "#Writing the Tab Separated Values into a TSV File\n",
    "df_prediction.to_csv('image_predictions.tsv', sep=\"\\t\")"
   ]
  },
  {
   "cell_type": "code",
   "execution_count": 4,
   "id": "47bd5971",
   "metadata": {},
   "outputs": [
    {
     "data": {
      "text/html": [
       "<div>\n",
       "<style scoped>\n",
       "    .dataframe tbody tr th:only-of-type {\n",
       "        vertical-align: middle;\n",
       "    }\n",
       "\n",
       "    .dataframe tbody tr th {\n",
       "        vertical-align: top;\n",
       "    }\n",
       "\n",
       "    .dataframe thead th {\n",
       "        text-align: right;\n",
       "    }\n",
       "</style>\n",
       "<table border=\"1\" class=\"dataframe\">\n",
       "  <thead>\n",
       "    <tr style=\"text-align: right;\">\n",
       "      <th></th>\n",
       "      <th>tweet_id</th>\n",
       "      <th>favorite_count</th>\n",
       "      <th>retweet_count</th>\n",
       "    </tr>\n",
       "  </thead>\n",
       "  <tbody>\n",
       "    <tr>\n",
       "      <th>0</th>\n",
       "      <td>892420643555336193</td>\n",
       "      <td>33847</td>\n",
       "      <td>7024</td>\n",
       "    </tr>\n",
       "    <tr>\n",
       "      <th>1</th>\n",
       "      <td>892177421306343426</td>\n",
       "      <td>29364</td>\n",
       "      <td>5304</td>\n",
       "    </tr>\n",
       "    <tr>\n",
       "      <th>2</th>\n",
       "      <td>891815181378084864</td>\n",
       "      <td>22086</td>\n",
       "      <td>3488</td>\n",
       "    </tr>\n",
       "    <tr>\n",
       "      <th>3</th>\n",
       "      <td>891689557279858688</td>\n",
       "      <td>36987</td>\n",
       "      <td>7237</td>\n",
       "    </tr>\n",
       "    <tr>\n",
       "      <th>4</th>\n",
       "      <td>891327558926688256</td>\n",
       "      <td>35364</td>\n",
       "      <td>7775</td>\n",
       "    </tr>\n",
       "    <tr>\n",
       "      <th>...</th>\n",
       "      <td>...</td>\n",
       "      <td>...</td>\n",
       "      <td>...</td>\n",
       "    </tr>\n",
       "    <tr>\n",
       "      <th>2319</th>\n",
       "      <td>666049248165822465</td>\n",
       "      <td>89</td>\n",
       "      <td>37</td>\n",
       "    </tr>\n",
       "    <tr>\n",
       "      <th>2320</th>\n",
       "      <td>666044226329800704</td>\n",
       "      <td>247</td>\n",
       "      <td>115</td>\n",
       "    </tr>\n",
       "    <tr>\n",
       "      <th>2321</th>\n",
       "      <td>666033412701032449</td>\n",
       "      <td>100</td>\n",
       "      <td>36</td>\n",
       "    </tr>\n",
       "    <tr>\n",
       "      <th>2322</th>\n",
       "      <td>666029285002620928</td>\n",
       "      <td>112</td>\n",
       "      <td>39</td>\n",
       "    </tr>\n",
       "    <tr>\n",
       "      <th>2323</th>\n",
       "      <td>666020888022790149</td>\n",
       "      <td>2293</td>\n",
       "      <td>424</td>\n",
       "    </tr>\n",
       "  </tbody>\n",
       "</table>\n",
       "<p>2324 rows × 3 columns</p>\n",
       "</div>"
      ],
      "text/plain": [
       "                tweet_id  favorite_count  retweet_count\n",
       "0     892420643555336193           33847           7024\n",
       "1     892177421306343426           29364           5304\n",
       "2     891815181378084864           22086           3488\n",
       "3     891689557279858688           36987           7237\n",
       "4     891327558926688256           35364           7775\n",
       "...                  ...             ...            ...\n",
       "2319  666049248165822465              89             37\n",
       "2320  666044226329800704             247            115\n",
       "2321  666033412701032449             100             36\n",
       "2322  666029285002620928             112             39\n",
       "2323  666020888022790149            2293            424\n",
       "\n",
       "[2324 rows x 3 columns]"
      ]
     },
     "execution_count": 4,
     "metadata": {},
     "output_type": "execute_result"
    }
   ],
   "source": [
    "#Code to read tweet-json.txt\n",
    "df_new = pd.read_json('tweet-json.txt')\n",
    "df_new"
   ]
  },
  {
   "cell_type": "code",
   "execution_count": 5,
   "id": "e9f1d78d",
   "metadata": {},
   "outputs": [],
   "source": [
    "#Code to read prediction if no internet access\n",
    "df_prediction = pd.read_csv('image_predictions.tsv', sep=\"\\t\")"
   ]
  },
  {
   "cell_type": "markdown",
   "id": "62f30c2b",
   "metadata": {},
   "source": [
    "<a id='assessing'></a>\n",
    "## Data Assessing\n",
    "\n"
   ]
  },
  {
   "cell_type": "code",
   "execution_count": 18,
   "id": "7d6ae6df",
   "metadata": {},
   "outputs": [
    {
     "data": {
      "text/plain": [
       "(2324, 3)"
      ]
     },
     "execution_count": 18,
     "metadata": {},
     "output_type": "execute_result"
    }
   ],
   "source": [
    "df_new.shape"
   ]
  },
  {
   "cell_type": "code",
   "execution_count": 19,
   "id": "e7f92789",
   "metadata": {},
   "outputs": [
    {
     "data": {
      "text/plain": [
       "(2075, 13)"
      ]
     },
     "execution_count": 19,
     "metadata": {},
     "output_type": "execute_result"
    }
   ],
   "source": [
    "df_prediction.shape"
   ]
  },
  {
   "cell_type": "code",
   "execution_count": 20,
   "id": "289f8111",
   "metadata": {},
   "outputs": [
    {
     "data": {
      "text/plain": [
       "(2356, 17)"
      ]
     },
     "execution_count": 20,
     "metadata": {},
     "output_type": "execute_result"
    }
   ],
   "source": [
    "df_twitter_archive.shape"
   ]
  },
  {
   "cell_type": "markdown",
   "id": "a6a7c344",
   "metadata": {},
   "source": [
    "### Structure Issue 1\n",
    "*Our df_twitter_archive dataframe has the column `timestamp` not descriptive enough*"
   ]
  },
  {
   "cell_type": "code",
   "execution_count": 21,
   "id": "983d1c40",
   "metadata": {},
   "outputs": [
    {
     "name": "stdout",
     "output_type": "stream",
     "text": [
      "<class 'pandas.core.frame.DataFrame'>\n",
      "Int64Index: 2324 entries, 0 to 2323\n",
      "Data columns (total 3 columns):\n",
      " #   Column          Non-Null Count  Dtype\n",
      "---  ------          --------------  -----\n",
      " 0   tweet_id        2324 non-null   int64\n",
      " 1   favorite_count  2324 non-null   int64\n",
      " 2   retweet_count   2324 non-null   int64\n",
      "dtypes: int64(3)\n",
      "memory usage: 72.6 KB\n"
     ]
    }
   ],
   "source": [
    "df_new.info()"
   ]
  },
  {
   "cell_type": "code",
   "execution_count": 22,
   "id": "af150e47",
   "metadata": {},
   "outputs": [
    {
     "name": "stdout",
     "output_type": "stream",
     "text": [
      "<class 'pandas.core.frame.DataFrame'>\n",
      "RangeIndex: 2075 entries, 0 to 2074\n",
      "Data columns (total 13 columns):\n",
      " #   Column          Non-Null Count  Dtype  \n",
      "---  ------          --------------  -----  \n",
      " 0   Unnamed: 0      2075 non-null   int64  \n",
      " 1   tweet_id        2075 non-null   int64  \n",
      " 2   jpg_url         2075 non-null   object \n",
      " 3   img_num         2075 non-null   int64  \n",
      " 4   tp1             2075 non-null   object \n",
      " 5   tp1_confidence  2075 non-null   float64\n",
      " 6   tp1_dog         2075 non-null   bool   \n",
      " 7   tp2             2075 non-null   object \n",
      " 8   tp2_confidence  2075 non-null   float64\n",
      " 9   tp2_dog         2075 non-null   bool   \n",
      " 10  tp3             2075 non-null   object \n",
      " 11  tp3_confidence  2075 non-null   float64\n",
      " 12  tp3_dog         2075 non-null   bool   \n",
      "dtypes: bool(3), float64(3), int64(3), object(4)\n",
      "memory usage: 168.3+ KB\n"
     ]
    }
   ],
   "source": [
    "df_prediction.info()"
   ]
  },
  {
   "cell_type": "code",
   "execution_count": 23,
   "id": "6a8f354e",
   "metadata": {},
   "outputs": [
    {
     "name": "stdout",
     "output_type": "stream",
     "text": [
      "<class 'pandas.core.frame.DataFrame'>\n",
      "RangeIndex: 2356 entries, 0 to 2355\n",
      "Data columns (total 17 columns):\n",
      " #   Column                      Non-Null Count  Dtype  \n",
      "---  ------                      --------------  -----  \n",
      " 0   tweet_id                    2356 non-null   int64  \n",
      " 1   in_reply_to_status_id       78 non-null     float64\n",
      " 2   in_reply_to_user_id         78 non-null     float64\n",
      " 3   timestamp                   2356 non-null   object \n",
      " 4   source                      2356 non-null   object \n",
      " 5   text                        2356 non-null   object \n",
      " 6   retweeted_status_id         181 non-null    float64\n",
      " 7   retweeted_status_user_id    181 non-null    float64\n",
      " 8   retweeted_status_timestamp  181 non-null    object \n",
      " 9   expanded_urls               2297 non-null   object \n",
      " 10  rating_numerator            2356 non-null   int64  \n",
      " 11  rating_denominator          2356 non-null   int64  \n",
      " 12  name                        2356 non-null   object \n",
      " 13  doggo                       2356 non-null   object \n",
      " 14  floofer                     2356 non-null   object \n",
      " 15  pupper                      2356 non-null   object \n",
      " 16  puppo                       2356 non-null   object \n",
      "dtypes: float64(4), int64(3), object(10)\n",
      "memory usage: 313.0+ KB\n"
     ]
    }
   ],
   "source": [
    "df_twitter_archive.info()"
   ]
  },
  {
   "cell_type": "markdown",
   "id": "57defd50",
   "metadata": {},
   "source": [
    "### Quality Issue 1\n",
    "*`tp1_confidence, tp2_confidence, tp3_confidence` are of string type instead of float. `img_num` is of string type instead of int. `in_reply_to_status_id,in_reply_to_user_id, retweeted_status_id,retweeted_status_user_id` are of float type instead of int. `retweeted_status_timestamp and timestamp` should be of type datetime but it is a string. Also some logic columns are strings - `tp1_dog, tp2_dog, tp3_dog`.*"
   ]
  },
  {
   "cell_type": "code",
   "execution_count": 24,
   "id": "b8f52013",
   "metadata": {},
   "outputs": [
    {
     "data": {
      "text/html": [
       "<div>\n",
       "<style scoped>\n",
       "    .dataframe tbody tr th:only-of-type {\n",
       "        vertical-align: middle;\n",
       "    }\n",
       "\n",
       "    .dataframe tbody tr th {\n",
       "        vertical-align: top;\n",
       "    }\n",
       "\n",
       "    .dataframe thead th {\n",
       "        text-align: right;\n",
       "    }\n",
       "</style>\n",
       "<table border=\"1\" class=\"dataframe\">\n",
       "  <thead>\n",
       "    <tr style=\"text-align: right;\">\n",
       "      <th></th>\n",
       "      <th>tweet_id</th>\n",
       "      <th>favorite_count</th>\n",
       "      <th>retweet_count</th>\n",
       "    </tr>\n",
       "  </thead>\n",
       "  <tbody>\n",
       "    <tr>\n",
       "      <th>0</th>\n",
       "      <td>892420643555336193</td>\n",
       "      <td>33847</td>\n",
       "      <td>7024</td>\n",
       "    </tr>\n",
       "    <tr>\n",
       "      <th>1</th>\n",
       "      <td>892177421306343426</td>\n",
       "      <td>29364</td>\n",
       "      <td>5304</td>\n",
       "    </tr>\n",
       "    <tr>\n",
       "      <th>2</th>\n",
       "      <td>891815181378084864</td>\n",
       "      <td>22086</td>\n",
       "      <td>3488</td>\n",
       "    </tr>\n",
       "    <tr>\n",
       "      <th>3</th>\n",
       "      <td>891689557279858688</td>\n",
       "      <td>36987</td>\n",
       "      <td>7237</td>\n",
       "    </tr>\n",
       "    <tr>\n",
       "      <th>4</th>\n",
       "      <td>891327558926688256</td>\n",
       "      <td>35364</td>\n",
       "      <td>7775</td>\n",
       "    </tr>\n",
       "  </tbody>\n",
       "</table>\n",
       "</div>"
      ],
      "text/plain": [
       "             tweet_id  favorite_count  retweet_count\n",
       "0  892420643555336193           33847           7024\n",
       "1  892177421306343426           29364           5304\n",
       "2  891815181378084864           22086           3488\n",
       "3  891689557279858688           36987           7237\n",
       "4  891327558926688256           35364           7775"
      ]
     },
     "execution_count": 24,
     "metadata": {},
     "output_type": "execute_result"
    }
   ],
   "source": [
    "df_new.head()"
   ]
  },
  {
   "cell_type": "code",
   "execution_count": 25,
   "id": "472372bf",
   "metadata": {},
   "outputs": [
    {
     "data": {
      "text/html": [
       "<div>\n",
       "<style scoped>\n",
       "    .dataframe tbody tr th:only-of-type {\n",
       "        vertical-align: middle;\n",
       "    }\n",
       "\n",
       "    .dataframe tbody tr th {\n",
       "        vertical-align: top;\n",
       "    }\n",
       "\n",
       "    .dataframe thead th {\n",
       "        text-align: right;\n",
       "    }\n",
       "</style>\n",
       "<table border=\"1\" class=\"dataframe\">\n",
       "  <thead>\n",
       "    <tr style=\"text-align: right;\">\n",
       "      <th></th>\n",
       "      <th>Unnamed: 0</th>\n",
       "      <th>tweet_id</th>\n",
       "      <th>jpg_url</th>\n",
       "      <th>img_num</th>\n",
       "      <th>tp1</th>\n",
       "      <th>tp1_confidence</th>\n",
       "      <th>tp1_dog</th>\n",
       "      <th>tp2</th>\n",
       "      <th>tp2_confidence</th>\n",
       "      <th>tp2_dog</th>\n",
       "      <th>tp3</th>\n",
       "      <th>tp3_confidence</th>\n",
       "      <th>tp3_dog</th>\n",
       "    </tr>\n",
       "  </thead>\n",
       "  <tbody>\n",
       "    <tr>\n",
       "      <th>0</th>\n",
       "      <td>0</td>\n",
       "      <td>666020888022790149</td>\n",
       "      <td>https://pbs.twimg.com/media/CT4udn0WwAA0aMy.jpg</td>\n",
       "      <td>1</td>\n",
       "      <td>Welsh_springer_spaniel</td>\n",
       "      <td>0.465074</td>\n",
       "      <td>True</td>\n",
       "      <td>collie</td>\n",
       "      <td>0.156665</td>\n",
       "      <td>True</td>\n",
       "      <td>Shetland_sheepdog</td>\n",
       "      <td>0.061428</td>\n",
       "      <td>True</td>\n",
       "    </tr>\n",
       "    <tr>\n",
       "      <th>1</th>\n",
       "      <td>1</td>\n",
       "      <td>666029285002620928</td>\n",
       "      <td>https://pbs.twimg.com/media/CT42GRgUYAA5iDo.jpg</td>\n",
       "      <td>1</td>\n",
       "      <td>redbone</td>\n",
       "      <td>0.506826</td>\n",
       "      <td>True</td>\n",
       "      <td>miniature_pinscher</td>\n",
       "      <td>0.074192</td>\n",
       "      <td>True</td>\n",
       "      <td>Rhodesian_ridgeback</td>\n",
       "      <td>0.072010</td>\n",
       "      <td>True</td>\n",
       "    </tr>\n",
       "    <tr>\n",
       "      <th>2</th>\n",
       "      <td>2</td>\n",
       "      <td>666033412701032449</td>\n",
       "      <td>https://pbs.twimg.com/media/CT4521TWwAEvMyu.jpg</td>\n",
       "      <td>1</td>\n",
       "      <td>German_shepherd</td>\n",
       "      <td>0.596461</td>\n",
       "      <td>True</td>\n",
       "      <td>malinois</td>\n",
       "      <td>0.138584</td>\n",
       "      <td>True</td>\n",
       "      <td>bloodhound</td>\n",
       "      <td>0.116197</td>\n",
       "      <td>True</td>\n",
       "    </tr>\n",
       "    <tr>\n",
       "      <th>3</th>\n",
       "      <td>3</td>\n",
       "      <td>666044226329800704</td>\n",
       "      <td>https://pbs.twimg.com/media/CT5Dr8HUEAA-lEu.jpg</td>\n",
       "      <td>1</td>\n",
       "      <td>Rhodesian_ridgeback</td>\n",
       "      <td>0.408143</td>\n",
       "      <td>True</td>\n",
       "      <td>redbone</td>\n",
       "      <td>0.360687</td>\n",
       "      <td>True</td>\n",
       "      <td>miniature_pinscher</td>\n",
       "      <td>0.222752</td>\n",
       "      <td>True</td>\n",
       "    </tr>\n",
       "    <tr>\n",
       "      <th>4</th>\n",
       "      <td>4</td>\n",
       "      <td>666049248165822465</td>\n",
       "      <td>https://pbs.twimg.com/media/CT5IQmsXIAAKY4A.jpg</td>\n",
       "      <td>1</td>\n",
       "      <td>miniature_pinscher</td>\n",
       "      <td>0.560311</td>\n",
       "      <td>True</td>\n",
       "      <td>Rottweiler</td>\n",
       "      <td>0.243682</td>\n",
       "      <td>True</td>\n",
       "      <td>Doberman</td>\n",
       "      <td>0.154629</td>\n",
       "      <td>True</td>\n",
       "    </tr>\n",
       "  </tbody>\n",
       "</table>\n",
       "</div>"
      ],
      "text/plain": [
       "   Unnamed: 0            tweet_id  \\\n",
       "0           0  666020888022790149   \n",
       "1           1  666029285002620928   \n",
       "2           2  666033412701032449   \n",
       "3           3  666044226329800704   \n",
       "4           4  666049248165822465   \n",
       "\n",
       "                                           jpg_url  img_num  \\\n",
       "0  https://pbs.twimg.com/media/CT4udn0WwAA0aMy.jpg        1   \n",
       "1  https://pbs.twimg.com/media/CT42GRgUYAA5iDo.jpg        1   \n",
       "2  https://pbs.twimg.com/media/CT4521TWwAEvMyu.jpg        1   \n",
       "3  https://pbs.twimg.com/media/CT5Dr8HUEAA-lEu.jpg        1   \n",
       "4  https://pbs.twimg.com/media/CT5IQmsXIAAKY4A.jpg        1   \n",
       "\n",
       "                      tp1  tp1_confidence  tp1_dog                 tp2  \\\n",
       "0  Welsh_springer_spaniel        0.465074     True              collie   \n",
       "1                 redbone        0.506826     True  miniature_pinscher   \n",
       "2         German_shepherd        0.596461     True            malinois   \n",
       "3     Rhodesian_ridgeback        0.408143     True             redbone   \n",
       "4      miniature_pinscher        0.560311     True          Rottweiler   \n",
       "\n",
       "   tp2_confidence  tp2_dog                  tp3  tp3_confidence  tp3_dog  \n",
       "0        0.156665     True    Shetland_sheepdog        0.061428     True  \n",
       "1        0.074192     True  Rhodesian_ridgeback        0.072010     True  \n",
       "2        0.138584     True           bloodhound        0.116197     True  \n",
       "3        0.360687     True   miniature_pinscher        0.222752     True  \n",
       "4        0.243682     True             Doberman        0.154629     True  "
      ]
     },
     "execution_count": 25,
     "metadata": {},
     "output_type": "execute_result"
    }
   ],
   "source": [
    "df_prediction.head()"
   ]
  },
  {
   "cell_type": "code",
   "execution_count": 26,
   "id": "399132b8",
   "metadata": {},
   "outputs": [
    {
     "data": {
      "text/html": [
       "<div>\n",
       "<style scoped>\n",
       "    .dataframe tbody tr th:only-of-type {\n",
       "        vertical-align: middle;\n",
       "    }\n",
       "\n",
       "    .dataframe tbody tr th {\n",
       "        vertical-align: top;\n",
       "    }\n",
       "\n",
       "    .dataframe thead th {\n",
       "        text-align: right;\n",
       "    }\n",
       "</style>\n",
       "<table border=\"1\" class=\"dataframe\">\n",
       "  <thead>\n",
       "    <tr style=\"text-align: right;\">\n",
       "      <th></th>\n",
       "      <th>tweet_id</th>\n",
       "      <th>in_reply_to_status_id</th>\n",
       "      <th>in_reply_to_user_id</th>\n",
       "      <th>timestamp</th>\n",
       "      <th>source</th>\n",
       "      <th>text</th>\n",
       "      <th>retweeted_status_id</th>\n",
       "      <th>retweeted_status_user_id</th>\n",
       "      <th>retweeted_status_timestamp</th>\n",
       "      <th>expanded_urls</th>\n",
       "      <th>rating_numerator</th>\n",
       "      <th>rating_denominator</th>\n",
       "      <th>name</th>\n",
       "      <th>doggo</th>\n",
       "      <th>floofer</th>\n",
       "      <th>pupper</th>\n",
       "      <th>puppo</th>\n",
       "    </tr>\n",
       "  </thead>\n",
       "  <tbody>\n",
       "    <tr>\n",
       "      <th>0</th>\n",
       "      <td>892420643555336193</td>\n",
       "      <td>NaN</td>\n",
       "      <td>NaN</td>\n",
       "      <td>2017-08-01 16:23:56 +0000</td>\n",
       "      <td>&lt;a href=\"http://twitter.com/download/iphone\" r...</td>\n",
       "      <td>This is Phineas. He's a mystical boy. Only eve...</td>\n",
       "      <td>NaN</td>\n",
       "      <td>NaN</td>\n",
       "      <td>NaN</td>\n",
       "      <td>https://twitter.com/dog_rates/status/892420643...</td>\n",
       "      <td>13</td>\n",
       "      <td>10</td>\n",
       "      <td>Phineas</td>\n",
       "      <td>None</td>\n",
       "      <td>None</td>\n",
       "      <td>None</td>\n",
       "      <td>None</td>\n",
       "    </tr>\n",
       "    <tr>\n",
       "      <th>1</th>\n",
       "      <td>892177421306343426</td>\n",
       "      <td>NaN</td>\n",
       "      <td>NaN</td>\n",
       "      <td>2017-08-01 00:17:27 +0000</td>\n",
       "      <td>&lt;a href=\"http://twitter.com/download/iphone\" r...</td>\n",
       "      <td>This is Tilly. She's just checking pup on you....</td>\n",
       "      <td>NaN</td>\n",
       "      <td>NaN</td>\n",
       "      <td>NaN</td>\n",
       "      <td>https://twitter.com/dog_rates/status/892177421...</td>\n",
       "      <td>13</td>\n",
       "      <td>10</td>\n",
       "      <td>Tilly</td>\n",
       "      <td>None</td>\n",
       "      <td>None</td>\n",
       "      <td>None</td>\n",
       "      <td>None</td>\n",
       "    </tr>\n",
       "    <tr>\n",
       "      <th>2</th>\n",
       "      <td>891815181378084864</td>\n",
       "      <td>NaN</td>\n",
       "      <td>NaN</td>\n",
       "      <td>2017-07-31 00:18:03 +0000</td>\n",
       "      <td>&lt;a href=\"http://twitter.com/download/iphone\" r...</td>\n",
       "      <td>This is Archie. He is a rare Norwegian Pouncin...</td>\n",
       "      <td>NaN</td>\n",
       "      <td>NaN</td>\n",
       "      <td>NaN</td>\n",
       "      <td>https://twitter.com/dog_rates/status/891815181...</td>\n",
       "      <td>12</td>\n",
       "      <td>10</td>\n",
       "      <td>Archie</td>\n",
       "      <td>None</td>\n",
       "      <td>None</td>\n",
       "      <td>None</td>\n",
       "      <td>None</td>\n",
       "    </tr>\n",
       "    <tr>\n",
       "      <th>3</th>\n",
       "      <td>891689557279858688</td>\n",
       "      <td>NaN</td>\n",
       "      <td>NaN</td>\n",
       "      <td>2017-07-30 15:58:51 +0000</td>\n",
       "      <td>&lt;a href=\"http://twitter.com/download/iphone\" r...</td>\n",
       "      <td>This is Darla. She commenced a snooze mid meal...</td>\n",
       "      <td>NaN</td>\n",
       "      <td>NaN</td>\n",
       "      <td>NaN</td>\n",
       "      <td>https://twitter.com/dog_rates/status/891689557...</td>\n",
       "      <td>13</td>\n",
       "      <td>10</td>\n",
       "      <td>Darla</td>\n",
       "      <td>None</td>\n",
       "      <td>None</td>\n",
       "      <td>None</td>\n",
       "      <td>None</td>\n",
       "    </tr>\n",
       "    <tr>\n",
       "      <th>4</th>\n",
       "      <td>891327558926688256</td>\n",
       "      <td>NaN</td>\n",
       "      <td>NaN</td>\n",
       "      <td>2017-07-29 16:00:24 +0000</td>\n",
       "      <td>&lt;a href=\"http://twitter.com/download/iphone\" r...</td>\n",
       "      <td>This is Franklin. He would like you to stop ca...</td>\n",
       "      <td>NaN</td>\n",
       "      <td>NaN</td>\n",
       "      <td>NaN</td>\n",
       "      <td>https://twitter.com/dog_rates/status/891327558...</td>\n",
       "      <td>12</td>\n",
       "      <td>10</td>\n",
       "      <td>Franklin</td>\n",
       "      <td>None</td>\n",
       "      <td>None</td>\n",
       "      <td>None</td>\n",
       "      <td>None</td>\n",
       "    </tr>\n",
       "  </tbody>\n",
       "</table>\n",
       "</div>"
      ],
      "text/plain": [
       "             tweet_id  in_reply_to_status_id  in_reply_to_user_id  \\\n",
       "0  892420643555336193                    NaN                  NaN   \n",
       "1  892177421306343426                    NaN                  NaN   \n",
       "2  891815181378084864                    NaN                  NaN   \n",
       "3  891689557279858688                    NaN                  NaN   \n",
       "4  891327558926688256                    NaN                  NaN   \n",
       "\n",
       "                   timestamp  \\\n",
       "0  2017-08-01 16:23:56 +0000   \n",
       "1  2017-08-01 00:17:27 +0000   \n",
       "2  2017-07-31 00:18:03 +0000   \n",
       "3  2017-07-30 15:58:51 +0000   \n",
       "4  2017-07-29 16:00:24 +0000   \n",
       "\n",
       "                                              source  \\\n",
       "0  <a href=\"http://twitter.com/download/iphone\" r...   \n",
       "1  <a href=\"http://twitter.com/download/iphone\" r...   \n",
       "2  <a href=\"http://twitter.com/download/iphone\" r...   \n",
       "3  <a href=\"http://twitter.com/download/iphone\" r...   \n",
       "4  <a href=\"http://twitter.com/download/iphone\" r...   \n",
       "\n",
       "                                                text  retweeted_status_id  \\\n",
       "0  This is Phineas. He's a mystical boy. Only eve...                  NaN   \n",
       "1  This is Tilly. She's just checking pup on you....                  NaN   \n",
       "2  This is Archie. He is a rare Norwegian Pouncin...                  NaN   \n",
       "3  This is Darla. She commenced a snooze mid meal...                  NaN   \n",
       "4  This is Franklin. He would like you to stop ca...                  NaN   \n",
       "\n",
       "   retweeted_status_user_id retweeted_status_timestamp  \\\n",
       "0                       NaN                        NaN   \n",
       "1                       NaN                        NaN   \n",
       "2                       NaN                        NaN   \n",
       "3                       NaN                        NaN   \n",
       "4                       NaN                        NaN   \n",
       "\n",
       "                                       expanded_urls  rating_numerator  \\\n",
       "0  https://twitter.com/dog_rates/status/892420643...                13   \n",
       "1  https://twitter.com/dog_rates/status/892177421...                13   \n",
       "2  https://twitter.com/dog_rates/status/891815181...                12   \n",
       "3  https://twitter.com/dog_rates/status/891689557...                13   \n",
       "4  https://twitter.com/dog_rates/status/891327558...                12   \n",
       "\n",
       "   rating_denominator      name doggo floofer pupper puppo  \n",
       "0                  10   Phineas  None    None   None  None  \n",
       "1                  10     Tilly  None    None   None  None  \n",
       "2                  10    Archie  None    None   None  None  \n",
       "3                  10     Darla  None    None   None  None  \n",
       "4                  10  Franklin  None    None   None  None  "
      ]
     },
     "execution_count": 26,
     "metadata": {},
     "output_type": "execute_result"
    }
   ],
   "source": [
    "df_twitter_archive.head()"
   ]
  },
  {
   "cell_type": "code",
   "execution_count": 27,
   "id": "1b096c41",
   "metadata": {},
   "outputs": [
    {
     "data": {
      "text/html": [
       "<div>\n",
       "<style scoped>\n",
       "    .dataframe tbody tr th:only-of-type {\n",
       "        vertical-align: middle;\n",
       "    }\n",
       "\n",
       "    .dataframe tbody tr th {\n",
       "        vertical-align: top;\n",
       "    }\n",
       "\n",
       "    .dataframe thead th {\n",
       "        text-align: right;\n",
       "    }\n",
       "</style>\n",
       "<table border=\"1\" class=\"dataframe\">\n",
       "  <thead>\n",
       "    <tr style=\"text-align: right;\">\n",
       "      <th></th>\n",
       "      <th>tweet_id</th>\n",
       "      <th>favorite_count</th>\n",
       "      <th>retweet_count</th>\n",
       "    </tr>\n",
       "  </thead>\n",
       "  <tbody>\n",
       "    <tr>\n",
       "      <th>2319</th>\n",
       "      <td>666049248165822465</td>\n",
       "      <td>89</td>\n",
       "      <td>37</td>\n",
       "    </tr>\n",
       "    <tr>\n",
       "      <th>2320</th>\n",
       "      <td>666044226329800704</td>\n",
       "      <td>247</td>\n",
       "      <td>115</td>\n",
       "    </tr>\n",
       "    <tr>\n",
       "      <th>2321</th>\n",
       "      <td>666033412701032449</td>\n",
       "      <td>100</td>\n",
       "      <td>36</td>\n",
       "    </tr>\n",
       "    <tr>\n",
       "      <th>2322</th>\n",
       "      <td>666029285002620928</td>\n",
       "      <td>112</td>\n",
       "      <td>39</td>\n",
       "    </tr>\n",
       "    <tr>\n",
       "      <th>2323</th>\n",
       "      <td>666020888022790149</td>\n",
       "      <td>2293</td>\n",
       "      <td>424</td>\n",
       "    </tr>\n",
       "  </tbody>\n",
       "</table>\n",
       "</div>"
      ],
      "text/plain": [
       "                tweet_id  favorite_count  retweet_count\n",
       "2319  666049248165822465              89             37\n",
       "2320  666044226329800704             247            115\n",
       "2321  666033412701032449             100             36\n",
       "2322  666029285002620928             112             39\n",
       "2323  666020888022790149            2293            424"
      ]
     },
     "execution_count": 27,
     "metadata": {},
     "output_type": "execute_result"
    }
   ],
   "source": [
    "df_new.tail()"
   ]
  },
  {
   "cell_type": "code",
   "execution_count": 28,
   "id": "8042e956",
   "metadata": {},
   "outputs": [
    {
     "data": {
      "text/html": [
       "<div>\n",
       "<style scoped>\n",
       "    .dataframe tbody tr th:only-of-type {\n",
       "        vertical-align: middle;\n",
       "    }\n",
       "\n",
       "    .dataframe tbody tr th {\n",
       "        vertical-align: top;\n",
       "    }\n",
       "\n",
       "    .dataframe thead th {\n",
       "        text-align: right;\n",
       "    }\n",
       "</style>\n",
       "<table border=\"1\" class=\"dataframe\">\n",
       "  <thead>\n",
       "    <tr style=\"text-align: right;\">\n",
       "      <th></th>\n",
       "      <th>Unnamed: 0</th>\n",
       "      <th>tweet_id</th>\n",
       "      <th>jpg_url</th>\n",
       "      <th>img_num</th>\n",
       "      <th>tp1</th>\n",
       "      <th>tp1_confidence</th>\n",
       "      <th>tp1_dog</th>\n",
       "      <th>tp2</th>\n",
       "      <th>tp2_confidence</th>\n",
       "      <th>tp2_dog</th>\n",
       "      <th>tp3</th>\n",
       "      <th>tp3_confidence</th>\n",
       "      <th>tp3_dog</th>\n",
       "    </tr>\n",
       "  </thead>\n",
       "  <tbody>\n",
       "    <tr>\n",
       "      <th>2070</th>\n",
       "      <td>2070</td>\n",
       "      <td>891327558926688256</td>\n",
       "      <td>https://pbs.twimg.com/media/DF6hr6BUMAAzZgT.jpg</td>\n",
       "      <td>2</td>\n",
       "      <td>basset</td>\n",
       "      <td>0.555712</td>\n",
       "      <td>True</td>\n",
       "      <td>English_springer</td>\n",
       "      <td>0.225770</td>\n",
       "      <td>True</td>\n",
       "      <td>German_short-haired_pointer</td>\n",
       "      <td>0.175219</td>\n",
       "      <td>True</td>\n",
       "    </tr>\n",
       "    <tr>\n",
       "      <th>2071</th>\n",
       "      <td>2071</td>\n",
       "      <td>891689557279858688</td>\n",
       "      <td>https://pbs.twimg.com/media/DF_q7IAWsAEuuN8.jpg</td>\n",
       "      <td>1</td>\n",
       "      <td>paper_towel</td>\n",
       "      <td>0.170278</td>\n",
       "      <td>False</td>\n",
       "      <td>Labrador_retriever</td>\n",
       "      <td>0.168086</td>\n",
       "      <td>True</td>\n",
       "      <td>spatula</td>\n",
       "      <td>0.040836</td>\n",
       "      <td>False</td>\n",
       "    </tr>\n",
       "    <tr>\n",
       "      <th>2072</th>\n",
       "      <td>2072</td>\n",
       "      <td>891815181378084864</td>\n",
       "      <td>https://pbs.twimg.com/media/DGBdLU1WsAANxJ9.jpg</td>\n",
       "      <td>1</td>\n",
       "      <td>Chihuahua</td>\n",
       "      <td>0.716012</td>\n",
       "      <td>True</td>\n",
       "      <td>malamute</td>\n",
       "      <td>0.078253</td>\n",
       "      <td>True</td>\n",
       "      <td>kelpie</td>\n",
       "      <td>0.031379</td>\n",
       "      <td>True</td>\n",
       "    </tr>\n",
       "    <tr>\n",
       "      <th>2073</th>\n",
       "      <td>2073</td>\n",
       "      <td>892177421306343426</td>\n",
       "      <td>https://pbs.twimg.com/media/DGGmoV4XsAAUL6n.jpg</td>\n",
       "      <td>1</td>\n",
       "      <td>Chihuahua</td>\n",
       "      <td>0.323581</td>\n",
       "      <td>True</td>\n",
       "      <td>Pekinese</td>\n",
       "      <td>0.090647</td>\n",
       "      <td>True</td>\n",
       "      <td>papillon</td>\n",
       "      <td>0.068957</td>\n",
       "      <td>True</td>\n",
       "    </tr>\n",
       "    <tr>\n",
       "      <th>2074</th>\n",
       "      <td>2074</td>\n",
       "      <td>892420643555336193</td>\n",
       "      <td>https://pbs.twimg.com/media/DGKD1-bXoAAIAUK.jpg</td>\n",
       "      <td>1</td>\n",
       "      <td>orange</td>\n",
       "      <td>0.097049</td>\n",
       "      <td>False</td>\n",
       "      <td>bagel</td>\n",
       "      <td>0.085851</td>\n",
       "      <td>False</td>\n",
       "      <td>banana</td>\n",
       "      <td>0.076110</td>\n",
       "      <td>False</td>\n",
       "    </tr>\n",
       "  </tbody>\n",
       "</table>\n",
       "</div>"
      ],
      "text/plain": [
       "      Unnamed: 0            tweet_id  \\\n",
       "2070        2070  891327558926688256   \n",
       "2071        2071  891689557279858688   \n",
       "2072        2072  891815181378084864   \n",
       "2073        2073  892177421306343426   \n",
       "2074        2074  892420643555336193   \n",
       "\n",
       "                                              jpg_url  img_num          tp1  \\\n",
       "2070  https://pbs.twimg.com/media/DF6hr6BUMAAzZgT.jpg        2       basset   \n",
       "2071  https://pbs.twimg.com/media/DF_q7IAWsAEuuN8.jpg        1  paper_towel   \n",
       "2072  https://pbs.twimg.com/media/DGBdLU1WsAANxJ9.jpg        1    Chihuahua   \n",
       "2073  https://pbs.twimg.com/media/DGGmoV4XsAAUL6n.jpg        1    Chihuahua   \n",
       "2074  https://pbs.twimg.com/media/DGKD1-bXoAAIAUK.jpg        1       orange   \n",
       "\n",
       "      tp1_confidence  tp1_dog                 tp2  tp2_confidence  tp2_dog  \\\n",
       "2070        0.555712     True    English_springer        0.225770     True   \n",
       "2071        0.170278    False  Labrador_retriever        0.168086     True   \n",
       "2072        0.716012     True            malamute        0.078253     True   \n",
       "2073        0.323581     True            Pekinese        0.090647     True   \n",
       "2074        0.097049    False               bagel        0.085851    False   \n",
       "\n",
       "                              tp3  tp3_confidence  tp3_dog  \n",
       "2070  German_short-haired_pointer        0.175219     True  \n",
       "2071                      spatula        0.040836    False  \n",
       "2072                       kelpie        0.031379     True  \n",
       "2073                     papillon        0.068957     True  \n",
       "2074                       banana        0.076110    False  "
      ]
     },
     "execution_count": 28,
     "metadata": {},
     "output_type": "execute_result"
    }
   ],
   "source": [
    "df_prediction.tail()"
   ]
  },
  {
   "cell_type": "code",
   "execution_count": 29,
   "id": "93ad03e2",
   "metadata": {},
   "outputs": [
    {
     "data": {
      "text/html": [
       "<div>\n",
       "<style scoped>\n",
       "    .dataframe tbody tr th:only-of-type {\n",
       "        vertical-align: middle;\n",
       "    }\n",
       "\n",
       "    .dataframe tbody tr th {\n",
       "        vertical-align: top;\n",
       "    }\n",
       "\n",
       "    .dataframe thead th {\n",
       "        text-align: right;\n",
       "    }\n",
       "</style>\n",
       "<table border=\"1\" class=\"dataframe\">\n",
       "  <thead>\n",
       "    <tr style=\"text-align: right;\">\n",
       "      <th></th>\n",
       "      <th>tweet_id</th>\n",
       "      <th>in_reply_to_status_id</th>\n",
       "      <th>in_reply_to_user_id</th>\n",
       "      <th>timestamp</th>\n",
       "      <th>source</th>\n",
       "      <th>text</th>\n",
       "      <th>retweeted_status_id</th>\n",
       "      <th>retweeted_status_user_id</th>\n",
       "      <th>retweeted_status_timestamp</th>\n",
       "      <th>expanded_urls</th>\n",
       "      <th>rating_numerator</th>\n",
       "      <th>rating_denominator</th>\n",
       "      <th>name</th>\n",
       "      <th>doggo</th>\n",
       "      <th>floofer</th>\n",
       "      <th>pupper</th>\n",
       "      <th>puppo</th>\n",
       "    </tr>\n",
       "  </thead>\n",
       "  <tbody>\n",
       "    <tr>\n",
       "      <th>2351</th>\n",
       "      <td>666049248165822465</td>\n",
       "      <td>NaN</td>\n",
       "      <td>NaN</td>\n",
       "      <td>2015-11-16 00:24:50 +0000</td>\n",
       "      <td>&lt;a href=\"http://twitter.com/download/iphone\" r...</td>\n",
       "      <td>Here we have a 1949 1st generation vulpix. Enj...</td>\n",
       "      <td>NaN</td>\n",
       "      <td>NaN</td>\n",
       "      <td>NaN</td>\n",
       "      <td>https://twitter.com/dog_rates/status/666049248...</td>\n",
       "      <td>5</td>\n",
       "      <td>10</td>\n",
       "      <td>None</td>\n",
       "      <td>None</td>\n",
       "      <td>None</td>\n",
       "      <td>None</td>\n",
       "      <td>None</td>\n",
       "    </tr>\n",
       "    <tr>\n",
       "      <th>2352</th>\n",
       "      <td>666044226329800704</td>\n",
       "      <td>NaN</td>\n",
       "      <td>NaN</td>\n",
       "      <td>2015-11-16 00:04:52 +0000</td>\n",
       "      <td>&lt;a href=\"http://twitter.com/download/iphone\" r...</td>\n",
       "      <td>This is a purebred Piers Morgan. Loves to Netf...</td>\n",
       "      <td>NaN</td>\n",
       "      <td>NaN</td>\n",
       "      <td>NaN</td>\n",
       "      <td>https://twitter.com/dog_rates/status/666044226...</td>\n",
       "      <td>6</td>\n",
       "      <td>10</td>\n",
       "      <td>a</td>\n",
       "      <td>None</td>\n",
       "      <td>None</td>\n",
       "      <td>None</td>\n",
       "      <td>None</td>\n",
       "    </tr>\n",
       "    <tr>\n",
       "      <th>2353</th>\n",
       "      <td>666033412701032449</td>\n",
       "      <td>NaN</td>\n",
       "      <td>NaN</td>\n",
       "      <td>2015-11-15 23:21:54 +0000</td>\n",
       "      <td>&lt;a href=\"http://twitter.com/download/iphone\" r...</td>\n",
       "      <td>Here is a very happy pup. Big fan of well-main...</td>\n",
       "      <td>NaN</td>\n",
       "      <td>NaN</td>\n",
       "      <td>NaN</td>\n",
       "      <td>https://twitter.com/dog_rates/status/666033412...</td>\n",
       "      <td>9</td>\n",
       "      <td>10</td>\n",
       "      <td>a</td>\n",
       "      <td>None</td>\n",
       "      <td>None</td>\n",
       "      <td>None</td>\n",
       "      <td>None</td>\n",
       "    </tr>\n",
       "    <tr>\n",
       "      <th>2354</th>\n",
       "      <td>666029285002620928</td>\n",
       "      <td>NaN</td>\n",
       "      <td>NaN</td>\n",
       "      <td>2015-11-15 23:05:30 +0000</td>\n",
       "      <td>&lt;a href=\"http://twitter.com/download/iphone\" r...</td>\n",
       "      <td>This is a western brown Mitsubishi terrier. Up...</td>\n",
       "      <td>NaN</td>\n",
       "      <td>NaN</td>\n",
       "      <td>NaN</td>\n",
       "      <td>https://twitter.com/dog_rates/status/666029285...</td>\n",
       "      <td>7</td>\n",
       "      <td>10</td>\n",
       "      <td>a</td>\n",
       "      <td>None</td>\n",
       "      <td>None</td>\n",
       "      <td>None</td>\n",
       "      <td>None</td>\n",
       "    </tr>\n",
       "    <tr>\n",
       "      <th>2355</th>\n",
       "      <td>666020888022790149</td>\n",
       "      <td>NaN</td>\n",
       "      <td>NaN</td>\n",
       "      <td>2015-11-15 22:32:08 +0000</td>\n",
       "      <td>&lt;a href=\"http://twitter.com/download/iphone\" r...</td>\n",
       "      <td>Here we have a Japanese Irish Setter. Lost eye...</td>\n",
       "      <td>NaN</td>\n",
       "      <td>NaN</td>\n",
       "      <td>NaN</td>\n",
       "      <td>https://twitter.com/dog_rates/status/666020888...</td>\n",
       "      <td>8</td>\n",
       "      <td>10</td>\n",
       "      <td>None</td>\n",
       "      <td>None</td>\n",
       "      <td>None</td>\n",
       "      <td>None</td>\n",
       "      <td>None</td>\n",
       "    </tr>\n",
       "  </tbody>\n",
       "</table>\n",
       "</div>"
      ],
      "text/plain": [
       "                tweet_id  in_reply_to_status_id  in_reply_to_user_id  \\\n",
       "2351  666049248165822465                    NaN                  NaN   \n",
       "2352  666044226329800704                    NaN                  NaN   \n",
       "2353  666033412701032449                    NaN                  NaN   \n",
       "2354  666029285002620928                    NaN                  NaN   \n",
       "2355  666020888022790149                    NaN                  NaN   \n",
       "\n",
       "                      timestamp  \\\n",
       "2351  2015-11-16 00:24:50 +0000   \n",
       "2352  2015-11-16 00:04:52 +0000   \n",
       "2353  2015-11-15 23:21:54 +0000   \n",
       "2354  2015-11-15 23:05:30 +0000   \n",
       "2355  2015-11-15 22:32:08 +0000   \n",
       "\n",
       "                                                 source  \\\n",
       "2351  <a href=\"http://twitter.com/download/iphone\" r...   \n",
       "2352  <a href=\"http://twitter.com/download/iphone\" r...   \n",
       "2353  <a href=\"http://twitter.com/download/iphone\" r...   \n",
       "2354  <a href=\"http://twitter.com/download/iphone\" r...   \n",
       "2355  <a href=\"http://twitter.com/download/iphone\" r...   \n",
       "\n",
       "                                                   text  retweeted_status_id  \\\n",
       "2351  Here we have a 1949 1st generation vulpix. Enj...                  NaN   \n",
       "2352  This is a purebred Piers Morgan. Loves to Netf...                  NaN   \n",
       "2353  Here is a very happy pup. Big fan of well-main...                  NaN   \n",
       "2354  This is a western brown Mitsubishi terrier. Up...                  NaN   \n",
       "2355  Here we have a Japanese Irish Setter. Lost eye...                  NaN   \n",
       "\n",
       "      retweeted_status_user_id retweeted_status_timestamp  \\\n",
       "2351                       NaN                        NaN   \n",
       "2352                       NaN                        NaN   \n",
       "2353                       NaN                        NaN   \n",
       "2354                       NaN                        NaN   \n",
       "2355                       NaN                        NaN   \n",
       "\n",
       "                                          expanded_urls  rating_numerator  \\\n",
       "2351  https://twitter.com/dog_rates/status/666049248...                 5   \n",
       "2352  https://twitter.com/dog_rates/status/666044226...                 6   \n",
       "2353  https://twitter.com/dog_rates/status/666033412...                 9   \n",
       "2354  https://twitter.com/dog_rates/status/666029285...                 7   \n",
       "2355  https://twitter.com/dog_rates/status/666020888...                 8   \n",
       "\n",
       "      rating_denominator  name doggo floofer pupper puppo  \n",
       "2351                  10  None  None    None   None  None  \n",
       "2352                  10     a  None    None   None  None  \n",
       "2353                  10     a  None    None   None  None  \n",
       "2354                  10     a  None    None   None  None  \n",
       "2355                  10  None  None    None   None  None  "
      ]
     },
     "execution_count": 29,
     "metadata": {},
     "output_type": "execute_result"
    }
   ],
   "source": [
    "df_twitter_archive.tail()"
   ]
  },
  {
   "cell_type": "markdown",
   "id": "b4ba7ff5",
   "metadata": {},
   "source": [
    "### Quality Issue 2\n",
    "*`tp1_confidence, tp2_confidence and tp3_confidence` float values do not equal amount of precision.*"
   ]
  },
  {
   "cell_type": "code",
   "execution_count": 30,
   "id": "54f31af3",
   "metadata": {},
   "outputs": [
    {
     "data": {
      "text/plain": [
       "0        160\n",
       "2248       4\n",
       "2794       3\n",
       "651        3\n",
       "372        3\n",
       "        ... \n",
       "8789       1\n",
       "19030      1\n",
       "4697       1\n",
       "6746       1\n",
       "2082       1\n",
       "Name: favorite_count, Length: 1987, dtype: int64"
      ]
     },
     "execution_count": 30,
     "metadata": {},
     "output_type": "execute_result"
    }
   ],
   "source": [
    "df_new['favorite_count'].value_counts()"
   ]
  },
  {
   "cell_type": "code",
   "execution_count": 31,
   "id": "d327aa77",
   "metadata": {},
   "outputs": [
    {
     "data": {
      "text/plain": [
       "328     7\n",
       "50      5\n",
       "288     5\n",
       "441     5\n",
       "182     5\n",
       "       ..\n",
       "1834    1\n",
       "5942    1\n",
       "3899    1\n",
       "1852    1\n",
       "4092    1\n",
       "Name: retweet_count, Length: 1646, dtype: int64"
      ]
     },
     "execution_count": 31,
     "metadata": {},
     "output_type": "execute_result"
    }
   ],
   "source": [
    "df_new['retweet_count'].value_counts()"
   ]
  },
  {
   "cell_type": "code",
   "execution_count": 32,
   "id": "4d7bbd1a",
   "metadata": {},
   "outputs": [
    {
     "data": {
      "text/plain": [
       "0.366248    2\n",
       "0.713293    2\n",
       "0.375098    2\n",
       "0.636169    2\n",
       "0.611525    2\n",
       "           ..\n",
       "0.713102    1\n",
       "0.765266    1\n",
       "0.491022    1\n",
       "0.905334    1\n",
       "1.000000    1\n",
       "Name: tp1_confidence, Length: 2006, dtype: int64"
      ]
     },
     "execution_count": 32,
     "metadata": {},
     "output_type": "execute_result"
    }
   ],
   "source": [
    "df_prediction['tp1_confidence'].value_counts()"
   ]
  },
  {
   "cell_type": "code",
   "execution_count": 33,
   "id": "45536d77",
   "metadata": {},
   "outputs": [
    {
     "data": {
      "text/plain": [
       "0.069362    3\n",
       "0.027907    2\n",
       "0.193654    2\n",
       "0.271929    2\n",
       "0.003143    2\n",
       "           ..\n",
       "0.138331    1\n",
       "0.254884    1\n",
       "0.090644    1\n",
       "0.219323    1\n",
       "0.016301    1\n",
       "Name: tp2_confidence, Length: 2004, dtype: int64"
      ]
     },
     "execution_count": 33,
     "metadata": {},
     "output_type": "execute_result"
    }
   ],
   "source": [
    "df_prediction['tp2_confidence'].value_counts()"
   ]
  },
  {
   "cell_type": "code",
   "execution_count": 34,
   "id": "d33a3f3a",
   "metadata": {},
   "outputs": [
    {
     "data": {
      "text/plain": [
       "0.094759    2\n",
       "0.035711    2\n",
       "0.000428    2\n",
       "0.044660    2\n",
       "0.162084    2\n",
       "           ..\n",
       "0.024007    1\n",
       "0.132820    1\n",
       "0.002099    1\n",
       "0.083643    1\n",
       "0.033835    1\n",
       "Name: tp3_confidence, Length: 2006, dtype: int64"
      ]
     },
     "execution_count": 34,
     "metadata": {},
     "output_type": "execute_result"
    }
   ],
   "source": [
    "df_prediction['tp3_confidence'].value_counts()"
   ]
  },
  {
   "cell_type": "code",
   "execution_count": 35,
   "id": "996bc28b",
   "metadata": {},
   "outputs": [
    {
     "data": {
      "text/plain": [
       "golden_retriever      150\n",
       "Labrador_retriever    100\n",
       "Pembroke               89\n",
       "Chihuahua              83\n",
       "pug                    57\n",
       "                     ... \n",
       "four-poster             1\n",
       "fiddler_crab            1\n",
       "crash_helmet            1\n",
       "cheeseburger            1\n",
       "bow                     1\n",
       "Name: tp1, Length: 378, dtype: int64"
      ]
     },
     "execution_count": 35,
     "metadata": {},
     "output_type": "execute_result"
    }
   ],
   "source": [
    "df_prediction['tp1'].value_counts()"
   ]
  },
  {
   "cell_type": "code",
   "execution_count": 36,
   "id": "69b08dab",
   "metadata": {},
   "outputs": [
    {
     "data": {
      "text/plain": [
       "Labrador_retriever    104\n",
       "golden_retriever       92\n",
       "Cardigan               73\n",
       "Chihuahua              44\n",
       "Pomeranian             42\n",
       "                     ... \n",
       "pier                    1\n",
       "television              1\n",
       "breastplate             1\n",
       "lesser_panda            1\n",
       "cloak                   1\n",
       "Name: tp2, Length: 405, dtype: int64"
      ]
     },
     "execution_count": 36,
     "metadata": {},
     "output_type": "execute_result"
    }
   ],
   "source": [
    "df_prediction['tp2'].value_counts()"
   ]
  },
  {
   "cell_type": "code",
   "execution_count": 37,
   "id": "266b3f9d",
   "metadata": {},
   "outputs": [
    {
     "data": {
      "text/plain": [
       "Labrador_retriever    79\n",
       "Chihuahua             58\n",
       "golden_retriever      48\n",
       "Eskimo_dog            38\n",
       "kelpie                35\n",
       "                      ..\n",
       "bell_cote              1\n",
       "goose                  1\n",
       "stinkhorn              1\n",
       "bullfrog               1\n",
       "neck_brace             1\n",
       "Name: tp3, Length: 408, dtype: int64"
      ]
     },
     "execution_count": 37,
     "metadata": {},
     "output_type": "execute_result"
    }
   ],
   "source": [
    "df_prediction['tp3'].value_counts()"
   ]
  },
  {
   "cell_type": "code",
   "execution_count": 38,
   "id": "35ad0f54",
   "metadata": {},
   "outputs": [
    {
     "data": {
      "text/plain": [
       "True     1532\n",
       "False     543\n",
       "Name: tp1_dog, dtype: int64"
      ]
     },
     "execution_count": 38,
     "metadata": {},
     "output_type": "execute_result"
    }
   ],
   "source": [
    "df_prediction['tp1_dog'].value_counts()"
   ]
  },
  {
   "cell_type": "code",
   "execution_count": 39,
   "id": "e7bae034",
   "metadata": {},
   "outputs": [
    {
     "data": {
      "text/plain": [
       "True     1553\n",
       "False     522\n",
       "Name: tp2_dog, dtype: int64"
      ]
     },
     "execution_count": 39,
     "metadata": {},
     "output_type": "execute_result"
    }
   ],
   "source": [
    "df_prediction['tp2_dog'].value_counts()"
   ]
  },
  {
   "cell_type": "code",
   "execution_count": 40,
   "id": "ed627757",
   "metadata": {},
   "outputs": [
    {
     "data": {
      "text/plain": [
       "True     1499\n",
       "False     576\n",
       "Name: tp3_dog, dtype: int64"
      ]
     },
     "execution_count": 40,
     "metadata": {},
     "output_type": "execute_result"
    }
   ],
   "source": [
    "df_prediction['tp3_dog'].value_counts()"
   ]
  },
  {
   "cell_type": "code",
   "execution_count": 41,
   "id": "12f35b71",
   "metadata": {},
   "outputs": [
    {
     "data": {
      "text/plain": [
       "12      558\n",
       "11      464\n",
       "10      461\n",
       "13      351\n",
       "9       158\n",
       "8       102\n",
       "7        55\n",
       "14       54\n",
       "5        37\n",
       "6        32\n",
       "3        19\n",
       "4        17\n",
       "1         9\n",
       "2         9\n",
       "420       2\n",
       "0         2\n",
       "15        2\n",
       "75        2\n",
       "80        1\n",
       "20        1\n",
       "24        1\n",
       "26        1\n",
       "44        1\n",
       "50        1\n",
       "60        1\n",
       "165       1\n",
       "84        1\n",
       "88        1\n",
       "144       1\n",
       "182       1\n",
       "143       1\n",
       "666       1\n",
       "960       1\n",
       "1776      1\n",
       "17        1\n",
       "27        1\n",
       "45        1\n",
       "99        1\n",
       "121       1\n",
       "204       1\n",
       "Name: rating_numerator, dtype: int64"
      ]
     },
     "execution_count": 41,
     "metadata": {},
     "output_type": "execute_result"
    }
   ],
   "source": [
    "df_twitter_archive['rating_numerator'].value_counts()"
   ]
  },
  {
   "cell_type": "markdown",
   "id": "aa524fc0",
   "metadata": {},
   "source": [
    "### Quality Issue 3\n",
    "*`rating_numerator` has certain values not greater than 10*"
   ]
  },
  {
   "cell_type": "code",
   "execution_count": 42,
   "id": "341849bb",
   "metadata": {},
   "outputs": [
    {
     "data": {
      "text/plain": [
       "10     2333\n",
       "11        3\n",
       "50        3\n",
       "80        2\n",
       "20        2\n",
       "2         1\n",
       "16        1\n",
       "40        1\n",
       "70        1\n",
       "15        1\n",
       "90        1\n",
       "110       1\n",
       "120       1\n",
       "130       1\n",
       "150       1\n",
       "170       1\n",
       "7         1\n",
       "0         1\n",
       "Name: rating_denominator, dtype: int64"
      ]
     },
     "execution_count": 42,
     "metadata": {},
     "output_type": "execute_result"
    }
   ],
   "source": [
    "df_twitter_archive['rating_denominator'].value_counts()"
   ]
  },
  {
   "cell_type": "markdown",
   "id": "871f4469",
   "metadata": {},
   "source": [
    "### Quality Issue 4\n",
    "*`rating_denominator` has certain values not equal to 10*"
   ]
  },
  {
   "cell_type": "code",
   "execution_count": 43,
   "id": "ae0a578b",
   "metadata": {},
   "outputs": [
    {
     "data": {
      "text/plain": [
       "None     2259\n",
       "doggo      97\n",
       "Name: doggo, dtype: int64"
      ]
     },
     "execution_count": 43,
     "metadata": {},
     "output_type": "execute_result"
    }
   ],
   "source": [
    "df_twitter_archive['doggo'].value_counts()"
   ]
  },
  {
   "cell_type": "code",
   "execution_count": 44,
   "id": "8b0f9963",
   "metadata": {},
   "outputs": [
    {
     "data": {
      "text/plain": [
       "None       2346\n",
       "floofer      10\n",
       "Name: floofer, dtype: int64"
      ]
     },
     "execution_count": 44,
     "metadata": {},
     "output_type": "execute_result"
    }
   ],
   "source": [
    "df_twitter_archive['floofer'].value_counts()"
   ]
  },
  {
   "cell_type": "code",
   "execution_count": 45,
   "id": "dd492a29",
   "metadata": {},
   "outputs": [
    {
     "data": {
      "text/plain": [
       "None      2099\n",
       "pupper     257\n",
       "Name: pupper, dtype: int64"
      ]
     },
     "execution_count": 45,
     "metadata": {},
     "output_type": "execute_result"
    }
   ],
   "source": [
    "df_twitter_archive['pupper'].value_counts()"
   ]
  },
  {
   "cell_type": "code",
   "execution_count": 46,
   "id": "1427bd97",
   "metadata": {},
   "outputs": [
    {
     "data": {
      "text/plain": [
       "None     2326\n",
       "puppo      30\n",
       "Name: puppo, dtype: int64"
      ]
     },
     "execution_count": 46,
     "metadata": {},
     "output_type": "execute_result"
    }
   ],
   "source": [
    "df_twitter_archive['puppo'].value_counts()"
   ]
  },
  {
   "cell_type": "code",
   "execution_count": 47,
   "id": "25e6cd72",
   "metadata": {},
   "outputs": [
    {
     "data": {
      "text/plain": [
       "None       745\n",
       "a           55\n",
       "Charlie     12\n",
       "Oliver      11\n",
       "Cooper      11\n",
       "          ... \n",
       "Stormy       1\n",
       "Barney       1\n",
       "Sephie       1\n",
       "Sora         1\n",
       "Chloe        1\n",
       "Name: name, Length: 957, dtype: int64"
      ]
     },
     "execution_count": 47,
     "metadata": {},
     "output_type": "execute_result"
    }
   ],
   "source": [
    "df_twitter_archive['name'].value_counts()"
   ]
  },
  {
   "cell_type": "markdown",
   "id": "541cfbe7",
   "metadata": {},
   "source": [
    "### Quality Issue 5\n",
    "*`name` has an 'a' as name of dog*"
   ]
  },
  {
   "cell_type": "code",
   "execution_count": 48,
   "id": "341cd7ab",
   "metadata": {},
   "outputs": [
    {
     "data": {
      "text/plain": [
       "0"
      ]
     },
     "execution_count": 48,
     "metadata": {},
     "output_type": "execute_result"
    }
   ],
   "source": [
    "sum(df_new.duplicated())"
   ]
  },
  {
   "cell_type": "code",
   "execution_count": 49,
   "id": "f5a36978",
   "metadata": {},
   "outputs": [
    {
     "name": "stdout",
     "output_type": "stream",
     "text": [
      "Testing Name a\n",
      "Testing Name the\n",
      "Testing Name an\n",
      "Testing Name \n"
     ]
    },
    {
     "ename": "AssertionError",
     "evalue": "",
     "output_type": "error",
     "traceback": [
      "\u001b[1;31m---------------------------------------------------------------------------\u001b[0m",
      "\u001b[1;31mAssertionError\u001b[0m                            Traceback (most recent call last)",
      "\u001b[1;32m<ipython-input-49-f7ab27b22e2f>\u001b[0m in \u001b[0;36m<module>\u001b[1;34m\u001b[0m\n\u001b[0;32m      3\u001b[0m \u001b[1;32mfor\u001b[0m \u001b[0mname\u001b[0m \u001b[1;32min\u001b[0m \u001b[0minvalid_names\u001b[0m\u001b[1;33m:\u001b[0m\u001b[1;33m\u001b[0m\u001b[1;33m\u001b[0m\u001b[0m\n\u001b[0;32m      4\u001b[0m     \u001b[0mprint\u001b[0m\u001b[1;33m(\u001b[0m\u001b[1;34m'Testing Name '\u001b[0m\u001b[1;33m+\u001b[0m\u001b[0mname\u001b[0m\u001b[1;33m)\u001b[0m\u001b[1;33m\u001b[0m\u001b[1;33m\u001b[0m\u001b[0m\n\u001b[1;32m----> 5\u001b[1;33m     \u001b[1;32massert\u001b[0m \u001b[0mname\u001b[0m \u001b[1;32min\u001b[0m \u001b[0mdf_twitter_archive\u001b[0m\u001b[1;33m[\u001b[0m\u001b[1;34m'name'\u001b[0m\u001b[1;33m]\u001b[0m\u001b[1;33m.\u001b[0m\u001b[0mvalues\u001b[0m\u001b[1;33m\u001b[0m\u001b[1;33m\u001b[0m\u001b[0m\n\u001b[0m",
      "\u001b[1;31mAssertionError\u001b[0m: "
     ]
    }
   ],
   "source": [
    "#df_twitter_archive\n",
    "invalid_names = ['a','the','an','']\n",
    "for name in invalid_names:\n",
    "    print('Testing Name '+name)\n",
    "    assert name in df_twitter_archive['name'].values"
   ]
  },
  {
   "cell_type": "code",
   "execution_count": 50,
   "id": "8f26e7bd",
   "metadata": {},
   "outputs": [
    {
     "name": "stdout",
     "output_type": "stream",
     "text": [
      "Testing Name a\n",
      "Testing Name the\n",
      "Testing Name an\n",
      "Testing Name \n"
     ]
    },
    {
     "ename": "AssertionError",
     "evalue": "",
     "output_type": "error",
     "traceback": [
      "\u001b[1;31m---------------------------------------------------------------------------\u001b[0m",
      "\u001b[1;31mAssertionError\u001b[0m                            Traceback (most recent call last)",
      "\u001b[1;32m<ipython-input-50-f7ab27b22e2f>\u001b[0m in \u001b[0;36m<module>\u001b[1;34m\u001b[0m\n\u001b[0;32m      3\u001b[0m \u001b[1;32mfor\u001b[0m \u001b[0mname\u001b[0m \u001b[1;32min\u001b[0m \u001b[0minvalid_names\u001b[0m\u001b[1;33m:\u001b[0m\u001b[1;33m\u001b[0m\u001b[1;33m\u001b[0m\u001b[0m\n\u001b[0;32m      4\u001b[0m     \u001b[0mprint\u001b[0m\u001b[1;33m(\u001b[0m\u001b[1;34m'Testing Name '\u001b[0m\u001b[1;33m+\u001b[0m\u001b[0mname\u001b[0m\u001b[1;33m)\u001b[0m\u001b[1;33m\u001b[0m\u001b[1;33m\u001b[0m\u001b[0m\n\u001b[1;32m----> 5\u001b[1;33m     \u001b[1;32massert\u001b[0m \u001b[0mname\u001b[0m \u001b[1;32min\u001b[0m \u001b[0mdf_twitter_archive\u001b[0m\u001b[1;33m[\u001b[0m\u001b[1;34m'name'\u001b[0m\u001b[1;33m]\u001b[0m\u001b[1;33m.\u001b[0m\u001b[0mvalues\u001b[0m\u001b[1;33m\u001b[0m\u001b[1;33m\u001b[0m\u001b[0m\n\u001b[0m",
      "\u001b[1;31mAssertionError\u001b[0m: "
     ]
    }
   ],
   "source": [
    "#df_twitter_archive\n",
    "invalid_names = ['a','the','an','']\n",
    "for name in invalid_names:\n",
    "    print('Testing Name '+name)\n",
    "    assert name in df_twitter_archive['name'].values"
   ]
  },
  {
   "cell_type": "code",
   "execution_count": 51,
   "id": "9a0e87b7",
   "metadata": {},
   "outputs": [
    {
     "data": {
      "text/plain": [
       "0"
      ]
     },
     "execution_count": 51,
     "metadata": {},
     "output_type": "execute_result"
    }
   ],
   "source": [
    "sum(df_prediction.duplicated())"
   ]
  },
  {
   "cell_type": "code",
   "execution_count": 52,
   "id": "be04271d",
   "metadata": {},
   "outputs": [
    {
     "data": {
      "text/plain": [
       "0"
      ]
     },
     "execution_count": 52,
     "metadata": {},
     "output_type": "execute_result"
    }
   ],
   "source": [
    "sum(df_twitter_archive.duplicated())"
   ]
  },
  {
   "cell_type": "markdown",
   "id": "97a96965",
   "metadata": {},
   "source": [
    "*There are no duplicates in our dataset*"
   ]
  },
  {
   "cell_type": "code",
   "execution_count": 53,
   "id": "787d1669",
   "metadata": {},
   "outputs": [
    {
     "data": {
      "text/html": [
       "<div>\n",
       "<style scoped>\n",
       "    .dataframe tbody tr th:only-of-type {\n",
       "        vertical-align: middle;\n",
       "    }\n",
       "\n",
       "    .dataframe tbody tr th {\n",
       "        vertical-align: top;\n",
       "    }\n",
       "\n",
       "    .dataframe thead th {\n",
       "        text-align: right;\n",
       "    }\n",
       "</style>\n",
       "<table border=\"1\" class=\"dataframe\">\n",
       "  <thead>\n",
       "    <tr style=\"text-align: right;\">\n",
       "      <th></th>\n",
       "      <th>Unnamed: 0</th>\n",
       "      <th>tweet_id</th>\n",
       "      <th>jpg_url</th>\n",
       "      <th>img_num</th>\n",
       "      <th>tp1</th>\n",
       "      <th>tp1_confidence</th>\n",
       "      <th>tp1_dog</th>\n",
       "      <th>tp2</th>\n",
       "      <th>tp2_confidence</th>\n",
       "      <th>tp2_dog</th>\n",
       "      <th>tp3</th>\n",
       "      <th>tp3_confidence</th>\n",
       "      <th>tp3_dog</th>\n",
       "    </tr>\n",
       "  </thead>\n",
       "  <tbody>\n",
       "  </tbody>\n",
       "</table>\n",
       "</div>"
      ],
      "text/plain": [
       "Empty DataFrame\n",
       "Columns: [Unnamed: 0, tweet_id, jpg_url, img_num, tp1, tp1_confidence, tp1_dog, tp2, tp2_confidence, tp2_dog, tp3, tp3_confidence, tp3_dog]\n",
       "Index: []"
      ]
     },
     "execution_count": 53,
     "metadata": {},
     "output_type": "execute_result"
    }
   ],
   "source": [
    "#Test for negative certainty of predictions\n",
    "df_prediction.query('tp1_confidence < 0')"
   ]
  },
  {
   "cell_type": "code",
   "execution_count": 54,
   "id": "fb7d3de9",
   "metadata": {},
   "outputs": [
    {
     "data": {
      "text/html": [
       "<div>\n",
       "<style scoped>\n",
       "    .dataframe tbody tr th:only-of-type {\n",
       "        vertical-align: middle;\n",
       "    }\n",
       "\n",
       "    .dataframe tbody tr th {\n",
       "        vertical-align: top;\n",
       "    }\n",
       "\n",
       "    .dataframe thead th {\n",
       "        text-align: right;\n",
       "    }\n",
       "</style>\n",
       "<table border=\"1\" class=\"dataframe\">\n",
       "  <thead>\n",
       "    <tr style=\"text-align: right;\">\n",
       "      <th></th>\n",
       "      <th>Unnamed: 0</th>\n",
       "      <th>tweet_id</th>\n",
       "      <th>jpg_url</th>\n",
       "      <th>img_num</th>\n",
       "      <th>tp1</th>\n",
       "      <th>tp1_confidence</th>\n",
       "      <th>tp1_dog</th>\n",
       "      <th>tp2</th>\n",
       "      <th>tp2_confidence</th>\n",
       "      <th>tp2_dog</th>\n",
       "      <th>tp3</th>\n",
       "      <th>tp3_confidence</th>\n",
       "      <th>tp3_dog</th>\n",
       "    </tr>\n",
       "  </thead>\n",
       "  <tbody>\n",
       "  </tbody>\n",
       "</table>\n",
       "</div>"
      ],
      "text/plain": [
       "Empty DataFrame\n",
       "Columns: [Unnamed: 0, tweet_id, jpg_url, img_num, tp1, tp1_confidence, tp1_dog, tp2, tp2_confidence, tp2_dog, tp3, tp3_confidence, tp3_dog]\n",
       "Index: []"
      ]
     },
     "execution_count": 54,
     "metadata": {},
     "output_type": "execute_result"
    }
   ],
   "source": [
    "df_prediction.query('tp2_confidence < 0')"
   ]
  },
  {
   "cell_type": "code",
   "execution_count": 55,
   "id": "d1732ed5",
   "metadata": {},
   "outputs": [
    {
     "data": {
      "text/html": [
       "<div>\n",
       "<style scoped>\n",
       "    .dataframe tbody tr th:only-of-type {\n",
       "        vertical-align: middle;\n",
       "    }\n",
       "\n",
       "    .dataframe tbody tr th {\n",
       "        vertical-align: top;\n",
       "    }\n",
       "\n",
       "    .dataframe thead th {\n",
       "        text-align: right;\n",
       "    }\n",
       "</style>\n",
       "<table border=\"1\" class=\"dataframe\">\n",
       "  <thead>\n",
       "    <tr style=\"text-align: right;\">\n",
       "      <th></th>\n",
       "      <th>Unnamed: 0</th>\n",
       "      <th>tweet_id</th>\n",
       "      <th>jpg_url</th>\n",
       "      <th>img_num</th>\n",
       "      <th>tp1</th>\n",
       "      <th>tp1_confidence</th>\n",
       "      <th>tp1_dog</th>\n",
       "      <th>tp2</th>\n",
       "      <th>tp2_confidence</th>\n",
       "      <th>tp2_dog</th>\n",
       "      <th>tp3</th>\n",
       "      <th>tp3_confidence</th>\n",
       "      <th>tp3_dog</th>\n",
       "    </tr>\n",
       "  </thead>\n",
       "  <tbody>\n",
       "  </tbody>\n",
       "</table>\n",
       "</div>"
      ],
      "text/plain": [
       "Empty DataFrame\n",
       "Columns: [Unnamed: 0, tweet_id, jpg_url, img_num, tp1, tp1_confidence, tp1_dog, tp2, tp2_confidence, tp2_dog, tp3, tp3_confidence, tp3_dog]\n",
       "Index: []"
      ]
     },
     "execution_count": 55,
     "metadata": {},
     "output_type": "execute_result"
    }
   ],
   "source": [
    "df_prediction.query('tp3_confidence < 0')"
   ]
  },
  {
   "cell_type": "markdown",
   "id": "3c086090",
   "metadata": {},
   "source": [
    "*We do not certainty of predictions that are less than zero*"
   ]
  },
  {
   "cell_type": "code",
   "execution_count": 60,
   "id": "bebf45ef",
   "metadata": {},
   "outputs": [
    {
     "data": {
      "text/html": [
       "<div>\n",
       "<style scoped>\n",
       "    .dataframe tbody tr th:only-of-type {\n",
       "        vertical-align: middle;\n",
       "    }\n",
       "\n",
       "    .dataframe tbody tr th {\n",
       "        vertical-align: top;\n",
       "    }\n",
       "\n",
       "    .dataframe thead th {\n",
       "        text-align: right;\n",
       "    }\n",
       "</style>\n",
       "<table border=\"1\" class=\"dataframe\">\n",
       "  <thead>\n",
       "    <tr style=\"text-align: right;\">\n",
       "      <th></th>\n",
       "      <th>tweet_id</th>\n",
       "      <th>in_reply_to_status_id</th>\n",
       "      <th>in_reply_to_user_id</th>\n",
       "      <th>timestamp</th>\n",
       "      <th>source</th>\n",
       "      <th>text</th>\n",
       "      <th>retweeted_status_id</th>\n",
       "      <th>retweeted_status_user_id</th>\n",
       "      <th>retweeted_status_timestamp</th>\n",
       "      <th>expanded_urls</th>\n",
       "      <th>rating_numerator</th>\n",
       "      <th>rating_denominator</th>\n",
       "      <th>name</th>\n",
       "      <th>doggo</th>\n",
       "      <th>floofer</th>\n",
       "      <th>pupper</th>\n",
       "      <th>puppo</th>\n",
       "    </tr>\n",
       "  </thead>\n",
       "  <tbody>\n",
       "  </tbody>\n",
       "</table>\n",
       "</div>"
      ],
      "text/plain": [
       "Empty DataFrame\n",
       "Columns: [tweet_id, in_reply_to_status_id, in_reply_to_user_id, timestamp, source, text, retweeted_status_id, retweeted_status_user_id, retweeted_status_timestamp, expanded_urls, rating_numerator, rating_denominator, name, doggo, floofer, pupper, puppo]\n",
       "Index: []"
      ]
     },
     "execution_count": 60,
     "metadata": {},
     "output_type": "execute_result"
    }
   ],
   "source": [
    "df_twitter_archive[df_twitter_archive['timestamp'].isnull()]"
   ]
  },
  {
   "cell_type": "markdown",
   "id": "f6240a28",
   "metadata": {},
   "source": [
    "We do not have a null timestamp entry."
   ]
  },
  {
   "cell_type": "code",
   "execution_count": 61,
   "id": "fbad1409",
   "metadata": {},
   "outputs": [
    {
     "data": {
      "text/html": [
       "<div>\n",
       "<style scoped>\n",
       "    .dataframe tbody tr th:only-of-type {\n",
       "        vertical-align: middle;\n",
       "    }\n",
       "\n",
       "    .dataframe tbody tr th {\n",
       "        vertical-align: top;\n",
       "    }\n",
       "\n",
       "    .dataframe thead th {\n",
       "        text-align: right;\n",
       "    }\n",
       "</style>\n",
       "<table border=\"1\" class=\"dataframe\">\n",
       "  <thead>\n",
       "    <tr style=\"text-align: right;\">\n",
       "      <th></th>\n",
       "      <th>tweet_id</th>\n",
       "      <th>in_reply_to_status_id</th>\n",
       "      <th>in_reply_to_user_id</th>\n",
       "      <th>timestamp</th>\n",
       "      <th>source</th>\n",
       "      <th>text</th>\n",
       "      <th>retweeted_status_id</th>\n",
       "      <th>retweeted_status_user_id</th>\n",
       "      <th>retweeted_status_timestamp</th>\n",
       "      <th>expanded_urls</th>\n",
       "      <th>rating_numerator</th>\n",
       "      <th>rating_denominator</th>\n",
       "      <th>name</th>\n",
       "      <th>doggo</th>\n",
       "      <th>floofer</th>\n",
       "      <th>pupper</th>\n",
       "      <th>puppo</th>\n",
       "    </tr>\n",
       "  </thead>\n",
       "  <tbody>\n",
       "  </tbody>\n",
       "</table>\n",
       "</div>"
      ],
      "text/plain": [
       "Empty DataFrame\n",
       "Columns: [tweet_id, in_reply_to_status_id, in_reply_to_user_id, timestamp, source, text, retweeted_status_id, retweeted_status_user_id, retweeted_status_timestamp, expanded_urls, rating_numerator, rating_denominator, name, doggo, floofer, pupper, puppo]\n",
       "Index: []"
      ]
     },
     "execution_count": 61,
     "metadata": {},
     "output_type": "execute_result"
    }
   ],
   "source": [
    "df_twitter_archive[df_twitter_archive['name'].isnull()]"
   ]
  },
  {
   "cell_type": "markdown",
   "id": "ace878fb",
   "metadata": {},
   "source": [
    "### Structural Issue 2\n",
    "A tidy  data is one in which every variable forms a column, every observational unit forms a row and each type of observational unit forms a table. `df_twitter_archive` have a structural issue. Certain rows should form a different table and certain columns should become rows\n"
   ]
  },
  {
   "cell_type": "markdown",
   "id": "48f8c996",
   "metadata": {},
   "source": [
    "### Structural Issue 3\n",
    "\n",
    "The three dataframes are of the same observational unit but they are not in one dataframe."
   ]
  },
  {
   "cell_type": "markdown",
   "id": "c54d3cd5",
   "metadata": {},
   "source": [
    "### Quality Issue 6\n",
    "*Certain dog names are bearing 'an' and 'the' but no dog name is bearing an empty string.*"
   ]
  },
  {
   "cell_type": "code",
   "execution_count": 62,
   "id": "afe869a1",
   "metadata": {},
   "outputs": [],
   "source": [
    "#assert if a particular dog stage has an empty string\n",
    "assert ' ' not in df_twitter_archive['doggo'].values\n",
    "assert ' ' not in df_twitter_archive['floofer'].values\n",
    "assert ' ' not in df_twitter_archive['pupper'].values\n",
    "assert ' ' not in df_twitter_archive['puppo'].values"
   ]
  },
  {
   "cell_type": "code",
   "execution_count": 64,
   "id": "5f8b140a",
   "metadata": {},
   "outputs": [
    {
     "name": "stderr",
     "output_type": "stream",
     "text": [
      "C:\\Users\\OPARA FEBECHUKWU C\\miniconda3\\envs\\python3_6\\lib\\site-packages\\ipykernel_launcher.py:3: FutureWarning: elementwise comparison failed; returning scalar instead, but in the future will perform elementwise comparison\n",
      "  This is separate from the ipykernel package so we can avoid doing imports until\n",
      "C:\\Users\\OPARA FEBECHUKWU C\\miniconda3\\envs\\python3_6\\lib\\site-packages\\ipykernel_launcher.py:7: FutureWarning: elementwise comparison failed; returning scalar instead, but in the future will perform elementwise comparison\n",
      "  import sys\n",
      "C:\\Users\\OPARA FEBECHUKWU C\\miniconda3\\envs\\python3_6\\lib\\site-packages\\ipykernel_launcher.py:10: FutureWarning: elementwise comparison failed; returning scalar instead, but in the future will perform elementwise comparison\n",
      "  # Remove the CWD from sys.path while we load stuff.\n",
      "C:\\Users\\OPARA FEBECHUKWU C\\miniconda3\\envs\\python3_6\\lib\\site-packages\\ipykernel_launcher.py:13: FutureWarning: elementwise comparison failed; returning scalar instead, but in the future will perform elementwise comparison\n",
      "  del sys.path[0]\n"
     ]
    }
   ],
   "source": [
    "#df_prediction\n",
    "#assert that a certain fields don't have empty strings or float 0.0\n",
    "assert ' ' not in df_prediction['img_num'].values\n",
    "assert ' ' not in df_prediction['jpg_url'].values\n",
    "assert ' ' not in df_prediction['tp1'].values\n",
    "assert 0.0 not in df_prediction['tp1_confidence'].values\n",
    "assert ' ' not in df_prediction['tp1_dog'].values\n",
    "assert ' ' not in df_prediction['tp2'].values\n",
    "assert 0.0 not in df_prediction['tp2_confidence'].values\n",
    "assert ' ' not in df_prediction['tp2_dog'].values\n",
    "assert ' ' not in df_prediction['tp3'].values\n",
    "assert 0.0 not in df_prediction['tp3_confidence'].values\n",
    "assert ' ' not in df_prediction['tp3_dog'].values"
   ]
  },
  {
   "cell_type": "markdown",
   "id": "31b747ff",
   "metadata": {},
   "source": [
    "### Quality Issue 7\n",
    "Certain tweets are retweets and not original tweets, as can be seen below."
   ]
  },
  {
   "cell_type": "code",
   "execution_count": 6,
   "id": "4227d062",
   "metadata": {},
   "outputs": [
    {
     "data": {
      "text/html": [
       "<div>\n",
       "<style scoped>\n",
       "    .dataframe tbody tr th:only-of-type {\n",
       "        vertical-align: middle;\n",
       "    }\n",
       "\n",
       "    .dataframe tbody tr th {\n",
       "        vertical-align: top;\n",
       "    }\n",
       "\n",
       "    .dataframe thead th {\n",
       "        text-align: right;\n",
       "    }\n",
       "</style>\n",
       "<table border=\"1\" class=\"dataframe\">\n",
       "  <thead>\n",
       "    <tr style=\"text-align: right;\">\n",
       "      <th></th>\n",
       "      <th>tweet_id</th>\n",
       "      <th>in_reply_to_status_id</th>\n",
       "      <th>in_reply_to_user_id</th>\n",
       "      <th>timestamp</th>\n",
       "      <th>source</th>\n",
       "      <th>text</th>\n",
       "      <th>retweeted_status_id</th>\n",
       "      <th>retweeted_status_user_id</th>\n",
       "      <th>retweeted_status_timestamp</th>\n",
       "      <th>expanded_urls</th>\n",
       "      <th>rating_numerator</th>\n",
       "      <th>rating_denominator</th>\n",
       "      <th>name</th>\n",
       "      <th>doggo</th>\n",
       "      <th>floofer</th>\n",
       "      <th>pupper</th>\n",
       "      <th>puppo</th>\n",
       "    </tr>\n",
       "  </thead>\n",
       "  <tbody>\n",
       "    <tr>\n",
       "      <th>1204</th>\n",
       "      <td>716080869887381504</td>\n",
       "      <td>NaN</td>\n",
       "      <td>NaN</td>\n",
       "      <td>2016-04-02 01:52:38 +0000</td>\n",
       "      <td>&lt;a href=\"http://twitter.com/download/iphone\" r...</td>\n",
       "      <td>Here's a super majestic doggo and a sunset 11/...</td>\n",
       "      <td>NaN</td>\n",
       "      <td>NaN</td>\n",
       "      <td>NaN</td>\n",
       "      <td>https://twitter.com/dog_rates/status/716080869...</td>\n",
       "      <td>11</td>\n",
       "      <td>10</td>\n",
       "      <td>None</td>\n",
       "      <td>doggo</td>\n",
       "      <td>None</td>\n",
       "      <td>None</td>\n",
       "      <td>None</td>\n",
       "    </tr>\n",
       "    <tr>\n",
       "      <th>581</th>\n",
       "      <td>800443802682937345</td>\n",
       "      <td>NaN</td>\n",
       "      <td>NaN</td>\n",
       "      <td>2016-11-20 21:00:48 +0000</td>\n",
       "      <td>&lt;a href=\"http://twitter.com/download/iphone\" r...</td>\n",
       "      <td>RT @dog_rates: This is Sampson. He's about to ...</td>\n",
       "      <td>7.761133e+17</td>\n",
       "      <td>4.196984e+09</td>\n",
       "      <td>2016-09-14 17:40:06 +0000</td>\n",
       "      <td>https://twitter.com/dog_rates/status/776113305...</td>\n",
       "      <td>11</td>\n",
       "      <td>10</td>\n",
       "      <td>Sampson</td>\n",
       "      <td>None</td>\n",
       "      <td>None</td>\n",
       "      <td>pupper</td>\n",
       "      <td>None</td>\n",
       "    </tr>\n",
       "    <tr>\n",
       "      <th>1322</th>\n",
       "      <td>706291001778950144</td>\n",
       "      <td>NaN</td>\n",
       "      <td>NaN</td>\n",
       "      <td>2016-03-06 01:31:11 +0000</td>\n",
       "      <td>&lt;a href=\"http://twitter.com/download/iphone\" r...</td>\n",
       "      <td>When you're just relaxin and having a swell ti...</td>\n",
       "      <td>NaN</td>\n",
       "      <td>NaN</td>\n",
       "      <td>NaN</td>\n",
       "      <td>https://twitter.com/dog_rates/status/706291001...</td>\n",
       "      <td>11</td>\n",
       "      <td>10</td>\n",
       "      <td>None</td>\n",
       "      <td>None</td>\n",
       "      <td>None</td>\n",
       "      <td>None</td>\n",
       "      <td>None</td>\n",
       "    </tr>\n",
       "    <tr>\n",
       "      <th>1523</th>\n",
       "      <td>690607260360429569</td>\n",
       "      <td>6.903413e+17</td>\n",
       "      <td>467036706.0</td>\n",
       "      <td>2016-01-22 18:49:36 +0000</td>\n",
       "      <td>&lt;a href=\"http://twitter.com/download/iphone\" r...</td>\n",
       "      <td>12/10 @LightningHoltt</td>\n",
       "      <td>NaN</td>\n",
       "      <td>NaN</td>\n",
       "      <td>NaN</td>\n",
       "      <td>NaN</td>\n",
       "      <td>12</td>\n",
       "      <td>10</td>\n",
       "      <td>None</td>\n",
       "      <td>None</td>\n",
       "      <td>None</td>\n",
       "      <td>None</td>\n",
       "      <td>None</td>\n",
       "    </tr>\n",
       "    <tr>\n",
       "      <th>215</th>\n",
       "      <td>851224888060895234</td>\n",
       "      <td>NaN</td>\n",
       "      <td>NaN</td>\n",
       "      <td>2017-04-10 00:06:42 +0000</td>\n",
       "      <td>&lt;a href=\"http://twitter.com/download/iphone\" r...</td>\n",
       "      <td>Meet Snoop. His number one passion is sticking...</td>\n",
       "      <td>NaN</td>\n",
       "      <td>NaN</td>\n",
       "      <td>NaN</td>\n",
       "      <td>https://twitter.com/dog_rates/status/851224888...</td>\n",
       "      <td>13</td>\n",
       "      <td>10</td>\n",
       "      <td>Snoop</td>\n",
       "      <td>None</td>\n",
       "      <td>None</td>\n",
       "      <td>None</td>\n",
       "      <td>None</td>\n",
       "    </tr>\n",
       "  </tbody>\n",
       "</table>\n",
       "</div>"
      ],
      "text/plain": [
       "                tweet_id  in_reply_to_status_id  in_reply_to_user_id  \\\n",
       "1204  716080869887381504                    NaN                  NaN   \n",
       "581   800443802682937345                    NaN                  NaN   \n",
       "1322  706291001778950144                    NaN                  NaN   \n",
       "1523  690607260360429569           6.903413e+17          467036706.0   \n",
       "215   851224888060895234                    NaN                  NaN   \n",
       "\n",
       "                      timestamp  \\\n",
       "1204  2016-04-02 01:52:38 +0000   \n",
       "581   2016-11-20 21:00:48 +0000   \n",
       "1322  2016-03-06 01:31:11 +0000   \n",
       "1523  2016-01-22 18:49:36 +0000   \n",
       "215   2017-04-10 00:06:42 +0000   \n",
       "\n",
       "                                                 source  \\\n",
       "1204  <a href=\"http://twitter.com/download/iphone\" r...   \n",
       "581   <a href=\"http://twitter.com/download/iphone\" r...   \n",
       "1322  <a href=\"http://twitter.com/download/iphone\" r...   \n",
       "1523  <a href=\"http://twitter.com/download/iphone\" r...   \n",
       "215   <a href=\"http://twitter.com/download/iphone\" r...   \n",
       "\n",
       "                                                   text  retweeted_status_id  \\\n",
       "1204  Here's a super majestic doggo and a sunset 11/...                  NaN   \n",
       "581   RT @dog_rates: This is Sampson. He's about to ...         7.761133e+17   \n",
       "1322  When you're just relaxin and having a swell ti...                  NaN   \n",
       "1523                              12/10 @LightningHoltt                  NaN   \n",
       "215   Meet Snoop. His number one passion is sticking...                  NaN   \n",
       "\n",
       "      retweeted_status_user_id retweeted_status_timestamp  \\\n",
       "1204                       NaN                        NaN   \n",
       "581               4.196984e+09  2016-09-14 17:40:06 +0000   \n",
       "1322                       NaN                        NaN   \n",
       "1523                       NaN                        NaN   \n",
       "215                        NaN                        NaN   \n",
       "\n",
       "                                          expanded_urls  rating_numerator  \\\n",
       "1204  https://twitter.com/dog_rates/status/716080869...                11   \n",
       "581   https://twitter.com/dog_rates/status/776113305...                11   \n",
       "1322  https://twitter.com/dog_rates/status/706291001...                11   \n",
       "1523                                                NaN                12   \n",
       "215   https://twitter.com/dog_rates/status/851224888...                13   \n",
       "\n",
       "      rating_denominator     name  doggo floofer  pupper puppo  \n",
       "1204                  10     None  doggo    None    None  None  \n",
       "581                   10  Sampson   None    None  pupper  None  \n",
       "1322                  10     None   None    None    None  None  \n",
       "1523                  10     None   None    None    None  None  \n",
       "215                   10    Snoop   None    None    None  None  "
      ]
     },
     "execution_count": 6,
     "metadata": {},
     "output_type": "execute_result"
    }
   ],
   "source": [
    "df_twitter_archive.sample(5)"
   ]
  },
  {
   "cell_type": "markdown",
   "id": "2d175576",
   "metadata": {},
   "source": [
    "### Quality Issue 8\n",
    "\n",
    "Drop rows from df_twitter_archive that threw HTTP and Tweepy Error"
   ]
  },
  {
   "cell_type": "markdown",
   "id": "8c1af630",
   "metadata": {},
   "source": [
    "<a id='cleaning'></a>\n",
    "## Data Cleaning\n",
    "### Define\n",
    "#### Quality\n",
    "- Make `tp1_confidence, tp2_confidence, tp3_confidence` datatype to become float. \n",
    "- Make `img_num, in_reply_to_status_id,in_reply_to_user_id, retweeted_status_id,retweeted_status_user_id` to become int.\n",
    "- Make `retweeted_status_timestamp and timestamp` to become datetime and not object. \n",
    "- Make `tp1_dog, tp2_dog, tp3_dog` field to become bool.\n",
    "- Make `tp1_confidence, tp2_confidence and tp3_confidence` float values to have equal number of precision at least 7 decimal places.\n",
    "- Make all `rating_numerator` not greater than 10 to become the mode of the rating numerator field.\n",
    "- Make all `rating_denominator` to become exactly 10\n",
    "- Change all names of dogs bearing 'a' or 'an' or 'the' to be NaN\n",
    "- Leave `in_reply_to_status_id,in_reply_to_user_id, retweeted_status_id,retweeted_status_user_id to remain as null value NaN but drop `in_reply_to_status_id,in_reply_to_user_id` since it all contains null values and drop all four fields in the twitter_archive.\n",
    "- Drop tweets that threw HTTP Error and Tweepy Error from df_twitter_archive.\n",
    "- Make `timestamp` in df_twitter_archive to become `tweet_timestamp`\n",
    "\n",
    "#### Structure\n",
    "- Create a retweeted table from df_twitter_archive.\n",
    "- Melt df_twitter_archive columns to form rows instead.\n",
    "- Merge the dataframes as they are of the same observational unit."
   ]
  },
  {
   "cell_type": "markdown",
   "id": "c738304c",
   "metadata": {},
   "source": [
    "### Coding"
   ]
  },
  {
   "cell_type": "markdown",
   "id": "5d8452c4",
   "metadata": {},
   "source": [
    "**Creating a copy of dataframes for cleaning purpose**"
   ]
  },
  {
   "cell_type": "code",
   "execution_count": 7,
   "id": "02032928",
   "metadata": {},
   "outputs": [],
   "source": [
    "df_twitter_archive_clean = df_twitter_archive.copy()\n",
    "df_prediction_clean = df_prediction.copy()\n",
    "df_new_clean = df_new.copy()\n"
   ]
  },
  {
   "cell_type": "markdown",
   "id": "2c38747b",
   "metadata": {},
   "source": [
    "**Reading the tweet id file that throwed the NOT FOUND HTTP error and dropping them from df_twitter_archive_clean**"
   ]
  },
  {
   "cell_type": "code",
   "execution_count": 8,
   "id": "b68fd8dc",
   "metadata": {},
   "outputs": [],
   "source": [
    "#Remove tweets from df_twitter_archive that raised a NOT FOUND Http error\n",
    "#read the invalid tweet ids\n",
    "with open('tweet-json_fail.txt', encoding='utf-8') as file:\n",
    "    lines = file.readlines()\n",
    "    data = lines[0][:-1].split(\" \")\n",
    "for d in data:\n",
    "    invalid_tweet = df_twitter_archive_clean.query('tweet_id == '+d)\n",
    "    df_twitter_archive_clean.drop(invalid_tweet.index, inplace=True)"
   ]
  },
  {
   "cell_type": "markdown",
   "id": "d8a3a157",
   "metadata": {},
   "source": [
    "#### Testing"
   ]
  },
  {
   "cell_type": "code",
   "execution_count": 68,
   "id": "6a4bfb67",
   "metadata": {},
   "outputs": [
    {
     "data": {
      "text/plain": [
       "(2324, 17)"
      ]
     },
     "execution_count": 68,
     "metadata": {},
     "output_type": "execute_result"
    }
   ],
   "source": [
    "df_twitter_archive_clean.shape"
   ]
  },
  {
   "cell_type": "code",
   "execution_count": 69,
   "id": "a7b5cdc9",
   "metadata": {},
   "outputs": [
    {
     "data": {
      "text/plain": [
       "(2075, 13)"
      ]
     },
     "execution_count": 69,
     "metadata": {},
     "output_type": "execute_result"
    }
   ],
   "source": [
    "df_prediction_clean.shape"
   ]
  },
  {
   "cell_type": "code",
   "execution_count": 70,
   "id": "849ea179",
   "metadata": {},
   "outputs": [
    {
     "data": {
      "text/plain": [
       "(2324, 3)"
      ]
     },
     "execution_count": 70,
     "metadata": {},
     "output_type": "execute_result"
    }
   ],
   "source": [
    "df_new_clean.shape"
   ]
  },
  {
   "cell_type": "code",
   "execution_count": 71,
   "id": "6ed6d162",
   "metadata": {},
   "outputs": [
    {
     "data": {
      "text/html": [
       "<div>\n",
       "<style scoped>\n",
       "    .dataframe tbody tr th:only-of-type {\n",
       "        vertical-align: middle;\n",
       "    }\n",
       "\n",
       "    .dataframe tbody tr th {\n",
       "        vertical-align: top;\n",
       "    }\n",
       "\n",
       "    .dataframe thead th {\n",
       "        text-align: right;\n",
       "    }\n",
       "</style>\n",
       "<table border=\"1\" class=\"dataframe\">\n",
       "  <thead>\n",
       "    <tr style=\"text-align: right;\">\n",
       "      <th></th>\n",
       "      <th>tweet_id</th>\n",
       "      <th>in_reply_to_status_id</th>\n",
       "      <th>in_reply_to_user_id</th>\n",
       "      <th>timestamp</th>\n",
       "      <th>source</th>\n",
       "      <th>text</th>\n",
       "      <th>retweeted_status_id</th>\n",
       "      <th>retweeted_status_user_id</th>\n",
       "      <th>retweeted_status_timestamp</th>\n",
       "      <th>expanded_urls</th>\n",
       "      <th>rating_numerator</th>\n",
       "      <th>rating_denominator</th>\n",
       "      <th>name</th>\n",
       "      <th>doggo</th>\n",
       "      <th>floofer</th>\n",
       "      <th>pupper</th>\n",
       "      <th>puppo</th>\n",
       "    </tr>\n",
       "  </thead>\n",
       "  <tbody>\n",
       "    <tr>\n",
       "      <th>320</th>\n",
       "      <td>834458053273591808</td>\n",
       "      <td>NaN</td>\n",
       "      <td>NaN</td>\n",
       "      <td>2017-02-22 17:41:18 +0000</td>\n",
       "      <td>&lt;a href=\"http://twitter.com/download/iphone\" r...</td>\n",
       "      <td>Meet Chester (bottom) &amp;amp; Harold (top). They...</td>\n",
       "      <td>NaN</td>\n",
       "      <td>NaN</td>\n",
       "      <td>NaN</td>\n",
       "      <td>https://twitter.com/dog_rates/status/834458053...</td>\n",
       "      <td>12</td>\n",
       "      <td>10</td>\n",
       "      <td>Chester</td>\n",
       "      <td>None</td>\n",
       "      <td>None</td>\n",
       "      <td>None</td>\n",
       "      <td>None</td>\n",
       "    </tr>\n",
       "    <tr>\n",
       "      <th>1999</th>\n",
       "      <td>672523490734551040</td>\n",
       "      <td>NaN</td>\n",
       "      <td>NaN</td>\n",
       "      <td>2015-12-03 21:11:09 +0000</td>\n",
       "      <td>&lt;a href=\"http://twitter.com/download/iphone\" r...</td>\n",
       "      <td>When she says she'll be ready in a minute but ...</td>\n",
       "      <td>NaN</td>\n",
       "      <td>NaN</td>\n",
       "      <td>NaN</td>\n",
       "      <td>https://twitter.com/dog_rates/status/672523490...</td>\n",
       "      <td>10</td>\n",
       "      <td>10</td>\n",
       "      <td>None</td>\n",
       "      <td>None</td>\n",
       "      <td>None</td>\n",
       "      <td>None</td>\n",
       "      <td>None</td>\n",
       "    </tr>\n",
       "    <tr>\n",
       "      <th>859</th>\n",
       "      <td>763183847194451968</td>\n",
       "      <td>NaN</td>\n",
       "      <td>NaN</td>\n",
       "      <td>2016-08-10 01:23:03 +0000</td>\n",
       "      <td>&lt;a href=\"http://twitter.com/download/iphone\" r...</td>\n",
       "      <td>This is Clark. He collects teddy bears. It's a...</td>\n",
       "      <td>NaN</td>\n",
       "      <td>NaN</td>\n",
       "      <td>NaN</td>\n",
       "      <td>https://twitter.com/dog_rates/status/763183847...</td>\n",
       "      <td>8</td>\n",
       "      <td>10</td>\n",
       "      <td>Clark</td>\n",
       "      <td>None</td>\n",
       "      <td>None</td>\n",
       "      <td>None</td>\n",
       "      <td>None</td>\n",
       "    </tr>\n",
       "    <tr>\n",
       "      <th>1708</th>\n",
       "      <td>680798457301471234</td>\n",
       "      <td>NaN</td>\n",
       "      <td>NaN</td>\n",
       "      <td>2015-12-26 17:12:55 +0000</td>\n",
       "      <td>&lt;a href=\"http://twitter.com/download/iphone\" r...</td>\n",
       "      <td>Say hello to Moofasa. He must be a powerful do...</td>\n",
       "      <td>NaN</td>\n",
       "      <td>NaN</td>\n",
       "      <td>NaN</td>\n",
       "      <td>https://twitter.com/dog_rates/status/680798457...</td>\n",
       "      <td>6</td>\n",
       "      <td>10</td>\n",
       "      <td>Moofasa</td>\n",
       "      <td>None</td>\n",
       "      <td>None</td>\n",
       "      <td>None</td>\n",
       "      <td>None</td>\n",
       "    </tr>\n",
       "    <tr>\n",
       "      <th>1468</th>\n",
       "      <td>694206574471057408</td>\n",
       "      <td>NaN</td>\n",
       "      <td>NaN</td>\n",
       "      <td>2016-02-01 17:11:59 +0000</td>\n",
       "      <td>&lt;a href=\"http://twitter.com/download/iphone\" r...</td>\n",
       "      <td>\"Martha come take a look at this. I'm so fed u...</td>\n",
       "      <td>NaN</td>\n",
       "      <td>NaN</td>\n",
       "      <td>NaN</td>\n",
       "      <td>https://twitter.com/dog_rates/status/694206574...</td>\n",
       "      <td>10</td>\n",
       "      <td>10</td>\n",
       "      <td>None</td>\n",
       "      <td>None</td>\n",
       "      <td>None</td>\n",
       "      <td>None</td>\n",
       "      <td>None</td>\n",
       "    </tr>\n",
       "  </tbody>\n",
       "</table>\n",
       "</div>"
      ],
      "text/plain": [
       "                tweet_id  in_reply_to_status_id  in_reply_to_user_id  \\\n",
       "320   834458053273591808                    NaN                  NaN   \n",
       "1999  672523490734551040                    NaN                  NaN   \n",
       "859   763183847194451968                    NaN                  NaN   \n",
       "1708  680798457301471234                    NaN                  NaN   \n",
       "1468  694206574471057408                    NaN                  NaN   \n",
       "\n",
       "                      timestamp  \\\n",
       "320   2017-02-22 17:41:18 +0000   \n",
       "1999  2015-12-03 21:11:09 +0000   \n",
       "859   2016-08-10 01:23:03 +0000   \n",
       "1708  2015-12-26 17:12:55 +0000   \n",
       "1468  2016-02-01 17:11:59 +0000   \n",
       "\n",
       "                                                 source  \\\n",
       "320   <a href=\"http://twitter.com/download/iphone\" r...   \n",
       "1999  <a href=\"http://twitter.com/download/iphone\" r...   \n",
       "859   <a href=\"http://twitter.com/download/iphone\" r...   \n",
       "1708  <a href=\"http://twitter.com/download/iphone\" r...   \n",
       "1468  <a href=\"http://twitter.com/download/iphone\" r...   \n",
       "\n",
       "                                                   text  retweeted_status_id  \\\n",
       "320   Meet Chester (bottom) &amp; Harold (top). They...                  NaN   \n",
       "1999  When she says she'll be ready in a minute but ...                  NaN   \n",
       "859   This is Clark. He collects teddy bears. It's a...                  NaN   \n",
       "1708  Say hello to Moofasa. He must be a powerful do...                  NaN   \n",
       "1468  \"Martha come take a look at this. I'm so fed u...                  NaN   \n",
       "\n",
       "      retweeted_status_user_id retweeted_status_timestamp  \\\n",
       "320                        NaN                        NaN   \n",
       "1999                       NaN                        NaN   \n",
       "859                        NaN                        NaN   \n",
       "1708                       NaN                        NaN   \n",
       "1468                       NaN                        NaN   \n",
       "\n",
       "                                          expanded_urls  rating_numerator  \\\n",
       "320   https://twitter.com/dog_rates/status/834458053...                12   \n",
       "1999  https://twitter.com/dog_rates/status/672523490...                10   \n",
       "859   https://twitter.com/dog_rates/status/763183847...                 8   \n",
       "1708  https://twitter.com/dog_rates/status/680798457...                 6   \n",
       "1468  https://twitter.com/dog_rates/status/694206574...                10   \n",
       "\n",
       "      rating_denominator     name doggo floofer pupper puppo  \n",
       "320                   10  Chester  None    None   None  None  \n",
       "1999                  10     None  None    None   None  None  \n",
       "859                   10    Clark  None    None   None  None  \n",
       "1708                  10  Moofasa  None    None   None  None  \n",
       "1468                  10     None  None    None   None  None  "
      ]
     },
     "execution_count": 71,
     "metadata": {},
     "output_type": "execute_result"
    }
   ],
   "source": [
    "df_twitter_archive_clean.sample(5)"
   ]
  },
  {
   "cell_type": "markdown",
   "id": "42f665e2",
   "metadata": {},
   "source": [
    "**Create a retweet Dataframe and Drop tweets that are retweets from df_twitter_archive and create a new dataframe for retweets.**"
   ]
  },
  {
   "cell_type": "code",
   "execution_count": 9,
   "id": "08ab37d2",
   "metadata": {},
   "outputs": [],
   "source": [
    "#Sieve out all retweets\n",
    "retweets = df_twitter_archive_clean.loc[df_twitter_archive_clean['retweeted_status_id'].notnull()]"
   ]
  },
  {
   "cell_type": "code",
   "execution_count": 10,
   "id": "50918020",
   "metadata": {},
   "outputs": [],
   "source": [
    "#drop all retweets\n",
    "for index, row in retweets.iterrows():\n",
    "    df_twitter_archive_clean.drop(index, inplace=True)"
   ]
  },
  {
   "cell_type": "markdown",
   "id": "e172501e",
   "metadata": {},
   "source": [
    "#### Testing"
   ]
  },
  {
   "cell_type": "code",
   "execution_count": 74,
   "id": "abd119c4",
   "metadata": {},
   "outputs": [
    {
     "data": {
      "text/html": [
       "<div>\n",
       "<style scoped>\n",
       "    .dataframe tbody tr th:only-of-type {\n",
       "        vertical-align: middle;\n",
       "    }\n",
       "\n",
       "    .dataframe tbody tr th {\n",
       "        vertical-align: top;\n",
       "    }\n",
       "\n",
       "    .dataframe thead th {\n",
       "        text-align: right;\n",
       "    }\n",
       "</style>\n",
       "<table border=\"1\" class=\"dataframe\">\n",
       "  <thead>\n",
       "    <tr style=\"text-align: right;\">\n",
       "      <th></th>\n",
       "      <th>tweet_id</th>\n",
       "      <th>in_reply_to_status_id</th>\n",
       "      <th>in_reply_to_user_id</th>\n",
       "      <th>timestamp</th>\n",
       "      <th>source</th>\n",
       "      <th>text</th>\n",
       "      <th>retweeted_status_id</th>\n",
       "      <th>retweeted_status_user_id</th>\n",
       "      <th>retweeted_status_timestamp</th>\n",
       "      <th>expanded_urls</th>\n",
       "      <th>rating_numerator</th>\n",
       "      <th>rating_denominator</th>\n",
       "      <th>name</th>\n",
       "      <th>doggo</th>\n",
       "      <th>floofer</th>\n",
       "      <th>pupper</th>\n",
       "      <th>puppo</th>\n",
       "    </tr>\n",
       "  </thead>\n",
       "  <tbody>\n",
       "    <tr>\n",
       "      <th>32</th>\n",
       "      <td>886054160059072513</td>\n",
       "      <td>NaN</td>\n",
       "      <td>NaN</td>\n",
       "      <td>2017-07-15 02:45:48 +0000</td>\n",
       "      <td>&lt;a href=\"http://twitter.com/download/iphone\" r...</td>\n",
       "      <td>RT @Athletics: 12/10 #BATP https://t.co/WxwJmv...</td>\n",
       "      <td>8.860537e+17</td>\n",
       "      <td>1.960740e+07</td>\n",
       "      <td>2017-07-15 02:44:07 +0000</td>\n",
       "      <td>https://twitter.com/dog_rates/status/886053434...</td>\n",
       "      <td>12</td>\n",
       "      <td>10</td>\n",
       "      <td>None</td>\n",
       "      <td>None</td>\n",
       "      <td>None</td>\n",
       "      <td>None</td>\n",
       "      <td>None</td>\n",
       "    </tr>\n",
       "    <tr>\n",
       "      <th>36</th>\n",
       "      <td>885311592912609280</td>\n",
       "      <td>NaN</td>\n",
       "      <td>NaN</td>\n",
       "      <td>2017-07-13 01:35:06 +0000</td>\n",
       "      <td>&lt;a href=\"http://twitter.com/download/iphone\" r...</td>\n",
       "      <td>RT @dog_rates: This is Lilly. She just paralle...</td>\n",
       "      <td>8.305833e+17</td>\n",
       "      <td>4.196984e+09</td>\n",
       "      <td>2017-02-12 01:04:29 +0000</td>\n",
       "      <td>https://twitter.com/dog_rates/status/830583320...</td>\n",
       "      <td>13</td>\n",
       "      <td>10</td>\n",
       "      <td>Lilly</td>\n",
       "      <td>None</td>\n",
       "      <td>None</td>\n",
       "      <td>None</td>\n",
       "      <td>None</td>\n",
       "    </tr>\n",
       "  </tbody>\n",
       "</table>\n",
       "</div>"
      ],
      "text/plain": [
       "              tweet_id  in_reply_to_status_id  in_reply_to_user_id  \\\n",
       "32  886054160059072513                    NaN                  NaN   \n",
       "36  885311592912609280                    NaN                  NaN   \n",
       "\n",
       "                    timestamp  \\\n",
       "32  2017-07-15 02:45:48 +0000   \n",
       "36  2017-07-13 01:35:06 +0000   \n",
       "\n",
       "                                               source  \\\n",
       "32  <a href=\"http://twitter.com/download/iphone\" r...   \n",
       "36  <a href=\"http://twitter.com/download/iphone\" r...   \n",
       "\n",
       "                                                 text  retweeted_status_id  \\\n",
       "32  RT @Athletics: 12/10 #BATP https://t.co/WxwJmv...         8.860537e+17   \n",
       "36  RT @dog_rates: This is Lilly. She just paralle...         8.305833e+17   \n",
       "\n",
       "    retweeted_status_user_id retweeted_status_timestamp  \\\n",
       "32              1.960740e+07  2017-07-15 02:44:07 +0000   \n",
       "36              4.196984e+09  2017-02-12 01:04:29 +0000   \n",
       "\n",
       "                                        expanded_urls  rating_numerator  \\\n",
       "32  https://twitter.com/dog_rates/status/886053434...                12   \n",
       "36  https://twitter.com/dog_rates/status/830583320...                13   \n",
       "\n",
       "    rating_denominator   name doggo floofer pupper puppo  \n",
       "32                  10   None  None    None   None  None  \n",
       "36                  10  Lilly  None    None   None  None  "
      ]
     },
     "execution_count": 74,
     "metadata": {},
     "output_type": "execute_result"
    }
   ],
   "source": [
    "retweets.head(2)"
   ]
  },
  {
   "cell_type": "code",
   "execution_count": 75,
   "id": "b5a42823",
   "metadata": {},
   "outputs": [],
   "source": [
    "retweet_test = df_twitter_archive_clean.loc[df_twitter_archive_clean['retweeted_status_id'].notnull()]"
   ]
  },
  {
   "cell_type": "code",
   "execution_count": 76,
   "id": "cf0f93b3",
   "metadata": {},
   "outputs": [
    {
     "data": {
      "text/html": [
       "<div>\n",
       "<style scoped>\n",
       "    .dataframe tbody tr th:only-of-type {\n",
       "        vertical-align: middle;\n",
       "    }\n",
       "\n",
       "    .dataframe tbody tr th {\n",
       "        vertical-align: top;\n",
       "    }\n",
       "\n",
       "    .dataframe thead th {\n",
       "        text-align: right;\n",
       "    }\n",
       "</style>\n",
       "<table border=\"1\" class=\"dataframe\">\n",
       "  <thead>\n",
       "    <tr style=\"text-align: right;\">\n",
       "      <th></th>\n",
       "      <th>tweet_id</th>\n",
       "      <th>in_reply_to_status_id</th>\n",
       "      <th>in_reply_to_user_id</th>\n",
       "      <th>timestamp</th>\n",
       "      <th>source</th>\n",
       "      <th>text</th>\n",
       "      <th>retweeted_status_id</th>\n",
       "      <th>retweeted_status_user_id</th>\n",
       "      <th>retweeted_status_timestamp</th>\n",
       "      <th>expanded_urls</th>\n",
       "      <th>rating_numerator</th>\n",
       "      <th>rating_denominator</th>\n",
       "      <th>name</th>\n",
       "      <th>doggo</th>\n",
       "      <th>floofer</th>\n",
       "      <th>pupper</th>\n",
       "      <th>puppo</th>\n",
       "    </tr>\n",
       "  </thead>\n",
       "  <tbody>\n",
       "  </tbody>\n",
       "</table>\n",
       "</div>"
      ],
      "text/plain": [
       "Empty DataFrame\n",
       "Columns: [tweet_id, in_reply_to_status_id, in_reply_to_user_id, timestamp, source, text, retweeted_status_id, retweeted_status_user_id, retweeted_status_timestamp, expanded_urls, rating_numerator, rating_denominator, name, doggo, floofer, pupper, puppo]\n",
       "Index: []"
      ]
     },
     "execution_count": 76,
     "metadata": {},
     "output_type": "execute_result"
    }
   ],
   "source": [
    "retweet_test"
   ]
  },
  {
   "cell_type": "code",
   "execution_count": 77,
   "id": "6d2e61e6",
   "metadata": {},
   "outputs": [
    {
     "data": {
      "text/plain": [
       "(2324, 3)"
      ]
     },
     "execution_count": 77,
     "metadata": {},
     "output_type": "execute_result"
    }
   ],
   "source": [
    "df_new_clean.shape"
   ]
  },
  {
   "cell_type": "code",
   "execution_count": 78,
   "id": "93677fdf",
   "metadata": {},
   "outputs": [
    {
     "data": {
      "text/plain": [
       "(2164, 17)"
      ]
     },
     "execution_count": 78,
     "metadata": {},
     "output_type": "execute_result"
    }
   ],
   "source": [
    "df_twitter_archive_clean.shape"
   ]
  },
  {
   "cell_type": "code",
   "execution_count": 79,
   "id": "d5ea445c",
   "metadata": {},
   "outputs": [
    {
     "data": {
      "text/plain": [
       "(2075, 13)"
      ]
     },
     "execution_count": 79,
     "metadata": {},
     "output_type": "execute_result"
    }
   ],
   "source": [
    "df_prediction_clean.shape"
   ]
  },
  {
   "cell_type": "markdown",
   "id": "f096ddf5",
   "metadata": {},
   "source": [
    "**Drop retweets from df_new_clean Dataframe and add the favorite_count and retweet_count column for retweets Dataframe**\n",
    "\n",
    "We need to extract the favorite count and retweet count of the retweeted table items from `df_new_clean` in order to make df_new_clean to be of the same number of rows with `df_twitter_archive`"
   ]
  },
  {
   "cell_type": "code",
   "execution_count": 11,
   "id": "611e35fe",
   "metadata": {},
   "outputs": [],
   "source": [
    "retweet_fav_count = []\n",
    "retweet_retweet_count = []\n",
    "\n",
    "for item in retweets['tweet_id']:\n",
    "    tweet_id = str(item)\n",
    "    df_new_clean_query = df_new.query(\"tweet_id == @tweet_id\")\n",
    "    index = df_new_clean_query.index\n",
    "    retweet_fav_count.append(int(df_new_clean_query.at[index[0], 'favorite_count']))\n",
    "    retweet_retweet_count.append(int(df_new_clean_query.at[index[0], 'retweet_count']))\n",
    "    df_new_clean.drop(index, inplace=True)\n",
    "#insert the new columns to retweet table \n",
    "retweets.insert(17,'favorite_count',retweet_fav_count)\n",
    "retweets.insert(18,'retweet_count',retweet_retweet_count)"
   ]
  },
  {
   "cell_type": "markdown",
   "id": "0a386bb5",
   "metadata": {},
   "source": [
    "#### Testing"
   ]
  },
  {
   "cell_type": "code",
   "execution_count": 81,
   "id": "b9d0aa7f",
   "metadata": {},
   "outputs": [
    {
     "data": {
      "text/html": [
       "<div>\n",
       "<style scoped>\n",
       "    .dataframe tbody tr th:only-of-type {\n",
       "        vertical-align: middle;\n",
       "    }\n",
       "\n",
       "    .dataframe tbody tr th {\n",
       "        vertical-align: top;\n",
       "    }\n",
       "\n",
       "    .dataframe thead th {\n",
       "        text-align: right;\n",
       "    }\n",
       "</style>\n",
       "<table border=\"1\" class=\"dataframe\">\n",
       "  <thead>\n",
       "    <tr style=\"text-align: right;\">\n",
       "      <th></th>\n",
       "      <th>tweet_id</th>\n",
       "      <th>in_reply_to_status_id</th>\n",
       "      <th>in_reply_to_user_id</th>\n",
       "      <th>timestamp</th>\n",
       "      <th>source</th>\n",
       "      <th>text</th>\n",
       "      <th>retweeted_status_id</th>\n",
       "      <th>retweeted_status_user_id</th>\n",
       "      <th>retweeted_status_timestamp</th>\n",
       "      <th>expanded_urls</th>\n",
       "      <th>rating_numerator</th>\n",
       "      <th>rating_denominator</th>\n",
       "      <th>name</th>\n",
       "      <th>doggo</th>\n",
       "      <th>floofer</th>\n",
       "      <th>pupper</th>\n",
       "      <th>puppo</th>\n",
       "      <th>favorite_count</th>\n",
       "      <th>retweet_count</th>\n",
       "    </tr>\n",
       "  </thead>\n",
       "  <tbody>\n",
       "    <tr>\n",
       "      <th>32</th>\n",
       "      <td>886054160059072513</td>\n",
       "      <td>NaN</td>\n",
       "      <td>NaN</td>\n",
       "      <td>2017-07-15 02:45:48 +0000</td>\n",
       "      <td>&lt;a href=\"http://twitter.com/download/iphone\" r...</td>\n",
       "      <td>RT @Athletics: 12/10 #BATP https://t.co/WxwJmv...</td>\n",
       "      <td>8.860537e+17</td>\n",
       "      <td>1.960740e+07</td>\n",
       "      <td>2017-07-15 02:44:07 +0000</td>\n",
       "      <td>https://twitter.com/dog_rates/status/886053434...</td>\n",
       "      <td>12</td>\n",
       "      <td>10</td>\n",
       "      <td>None</td>\n",
       "      <td>None</td>\n",
       "      <td>None</td>\n",
       "      <td>None</td>\n",
       "      <td>None</td>\n",
       "      <td>0</td>\n",
       "      <td>93</td>\n",
       "    </tr>\n",
       "    <tr>\n",
       "      <th>36</th>\n",
       "      <td>885311592912609280</td>\n",
       "      <td>NaN</td>\n",
       "      <td>NaN</td>\n",
       "      <td>2017-07-13 01:35:06 +0000</td>\n",
       "      <td>&lt;a href=\"http://twitter.com/download/iphone\" r...</td>\n",
       "      <td>RT @dog_rates: This is Lilly. She just paralle...</td>\n",
       "      <td>8.305833e+17</td>\n",
       "      <td>4.196984e+09</td>\n",
       "      <td>2017-02-12 01:04:29 +0000</td>\n",
       "      <td>https://twitter.com/dog_rates/status/830583320...</td>\n",
       "      <td>13</td>\n",
       "      <td>10</td>\n",
       "      <td>Lilly</td>\n",
       "      <td>None</td>\n",
       "      <td>None</td>\n",
       "      <td>None</td>\n",
       "      <td>None</td>\n",
       "      <td>0</td>\n",
       "      <td>15460</td>\n",
       "    </tr>\n",
       "  </tbody>\n",
       "</table>\n",
       "</div>"
      ],
      "text/plain": [
       "              tweet_id  in_reply_to_status_id  in_reply_to_user_id  \\\n",
       "32  886054160059072513                    NaN                  NaN   \n",
       "36  885311592912609280                    NaN                  NaN   \n",
       "\n",
       "                    timestamp  \\\n",
       "32  2017-07-15 02:45:48 +0000   \n",
       "36  2017-07-13 01:35:06 +0000   \n",
       "\n",
       "                                               source  \\\n",
       "32  <a href=\"http://twitter.com/download/iphone\" r...   \n",
       "36  <a href=\"http://twitter.com/download/iphone\" r...   \n",
       "\n",
       "                                                 text  retweeted_status_id  \\\n",
       "32  RT @Athletics: 12/10 #BATP https://t.co/WxwJmv...         8.860537e+17   \n",
       "36  RT @dog_rates: This is Lilly. She just paralle...         8.305833e+17   \n",
       "\n",
       "    retweeted_status_user_id retweeted_status_timestamp  \\\n",
       "32              1.960740e+07  2017-07-15 02:44:07 +0000   \n",
       "36              4.196984e+09  2017-02-12 01:04:29 +0000   \n",
       "\n",
       "                                        expanded_urls  rating_numerator  \\\n",
       "32  https://twitter.com/dog_rates/status/886053434...                12   \n",
       "36  https://twitter.com/dog_rates/status/830583320...                13   \n",
       "\n",
       "    rating_denominator   name doggo floofer pupper puppo  favorite_count  \\\n",
       "32                  10   None  None    None   None  None               0   \n",
       "36                  10  Lilly  None    None   None  None               0   \n",
       "\n",
       "    retweet_count  \n",
       "32             93  \n",
       "36          15460  "
      ]
     },
     "execution_count": 81,
     "metadata": {},
     "output_type": "execute_result"
    }
   ],
   "source": [
    "retweets.head(2)"
   ]
  },
  {
   "cell_type": "code",
   "execution_count": 82,
   "id": "ec6b89fd",
   "metadata": {},
   "outputs": [
    {
     "data": {
      "text/plain": [
       "Index(['tweet_id', 'in_reply_to_status_id', 'in_reply_to_user_id', 'timestamp',\n",
       "       'source', 'text', 'retweeted_status_id', 'retweeted_status_user_id',\n",
       "       'retweeted_status_timestamp', 'expanded_urls', 'rating_numerator',\n",
       "       'rating_denominator', 'name', 'doggo', 'floofer', 'pupper', 'puppo',\n",
       "       'favorite_count', 'retweet_count'],\n",
       "      dtype='object')"
      ]
     },
     "execution_count": 82,
     "metadata": {},
     "output_type": "execute_result"
    }
   ],
   "source": [
    "retweets.columns"
   ]
  },
  {
   "cell_type": "markdown",
   "id": "fd3c61cb",
   "metadata": {},
   "source": [
    "**Make timestamp in df_twitter_archive to become tweet_timestamp**"
   ]
  },
  {
   "cell_type": "code",
   "execution_count": 12,
   "id": "49733836",
   "metadata": {},
   "outputs": [],
   "source": [
    "df_twitter_archive_clean.rename(columns={'timestamp':'tweet_timestamp'}, inplace=True)"
   ]
  },
  {
   "cell_type": "markdown",
   "id": "998038f6",
   "metadata": {},
   "source": [
    "#### Testing"
   ]
  },
  {
   "cell_type": "code",
   "execution_count": 84,
   "id": "35fe2385",
   "metadata": {},
   "outputs": [
    {
     "data": {
      "text/plain": [
       "Index(['tweet_id', 'in_reply_to_status_id', 'in_reply_to_user_id',\n",
       "       'tweet_timestamp', 'source', 'text', 'retweeted_status_id',\n",
       "       'retweeted_status_user_id', 'retweeted_status_timestamp',\n",
       "       'expanded_urls', 'rating_numerator', 'rating_denominator', 'name',\n",
       "       'doggo', 'floofer', 'pupper', 'puppo'],\n",
       "      dtype='object')"
      ]
     },
     "execution_count": 84,
     "metadata": {},
     "output_type": "execute_result"
    }
   ],
   "source": [
    "df_twitter_archive_clean.columns"
   ]
  },
  {
   "cell_type": "markdown",
   "id": "413e81d5",
   "metadata": {},
   "source": [
    "**Make tp1_confidence, tp2_confidence, tp3_confidence datatype to become float.**"
   ]
  },
  {
   "cell_type": "code",
   "execution_count": 13,
   "id": "0df66d1a",
   "metadata": {},
   "outputs": [],
   "source": [
    "df_prediction = df_prediction.astype({'tp1_confidence':'float','tp2_confidence':'float','tp3_confidence':'float'})"
   ]
  },
  {
   "cell_type": "markdown",
   "id": "f3814c96",
   "metadata": {},
   "source": [
    "#### Testing"
   ]
  },
  {
   "cell_type": "code",
   "execution_count": 86,
   "id": "e900ae87",
   "metadata": {},
   "outputs": [
    {
     "data": {
      "text/plain": [
       "Unnamed: 0          int64\n",
       "tweet_id            int64\n",
       "jpg_url            object\n",
       "img_num             int64\n",
       "tp1                object\n",
       "tp1_confidence    float64\n",
       "tp1_dog              bool\n",
       "tp2                object\n",
       "tp2_confidence    float64\n",
       "tp2_dog              bool\n",
       "tp3                object\n",
       "tp3_confidence    float64\n",
       "tp3_dog              bool\n",
       "dtype: object"
      ]
     },
     "execution_count": 86,
     "metadata": {},
     "output_type": "execute_result"
    }
   ],
   "source": [
    "df_prediction.dtypes"
   ]
  },
  {
   "cell_type": "code",
   "execution_count": 59,
   "id": "a11a1e32",
   "metadata": {},
   "outputs": [
    {
     "data": {
      "text/html": [
       "<div>\n",
       "<style scoped>\n",
       "    .dataframe tbody tr th:only-of-type {\n",
       "        vertical-align: middle;\n",
       "    }\n",
       "\n",
       "    .dataframe tbody tr th {\n",
       "        vertical-align: top;\n",
       "    }\n",
       "\n",
       "    .dataframe thead th {\n",
       "        text-align: right;\n",
       "    }\n",
       "</style>\n",
       "<table border=\"1\" class=\"dataframe\">\n",
       "  <thead>\n",
       "    <tr style=\"text-align: right;\">\n",
       "      <th></th>\n",
       "      <th>tweet_id</th>\n",
       "      <th>in_reply_to_status_id</th>\n",
       "      <th>in_reply_to_user_id</th>\n",
       "      <th>timestamp</th>\n",
       "      <th>source</th>\n",
       "      <th>text</th>\n",
       "      <th>retweeted_status_id</th>\n",
       "      <th>retweeted_status_user_id</th>\n",
       "      <th>retweeted_status_timestamp</th>\n",
       "      <th>expanded_urls</th>\n",
       "      <th>rating_numerator</th>\n",
       "      <th>rating_denominator</th>\n",
       "      <th>name</th>\n",
       "      <th>doggo</th>\n",
       "      <th>floofer</th>\n",
       "      <th>pupper</th>\n",
       "      <th>puppo</th>\n",
       "    </tr>\n",
       "  </thead>\n",
       "  <tbody>\n",
       "    <tr>\n",
       "      <th>0</th>\n",
       "      <td>892420643555336193</td>\n",
       "      <td>NaN</td>\n",
       "      <td>NaN</td>\n",
       "      <td>2017-08-01 16:23:56 +0000</td>\n",
       "      <td>&lt;a href=\"http://twitter.com/download/iphone\" r...</td>\n",
       "      <td>This is Phineas. He's a mystical boy. Only eve...</td>\n",
       "      <td>NaN</td>\n",
       "      <td>NaN</td>\n",
       "      <td>NaN</td>\n",
       "      <td>https://twitter.com/dog_rates/status/892420643...</td>\n",
       "      <td>13</td>\n",
       "      <td>10</td>\n",
       "      <td>Phineas</td>\n",
       "      <td>None</td>\n",
       "      <td>None</td>\n",
       "      <td>None</td>\n",
       "      <td>None</td>\n",
       "    </tr>\n",
       "    <tr>\n",
       "      <th>1</th>\n",
       "      <td>892177421306343426</td>\n",
       "      <td>NaN</td>\n",
       "      <td>NaN</td>\n",
       "      <td>2017-08-01 00:17:27 +0000</td>\n",
       "      <td>&lt;a href=\"http://twitter.com/download/iphone\" r...</td>\n",
       "      <td>This is Tilly. She's just checking pup on you....</td>\n",
       "      <td>NaN</td>\n",
       "      <td>NaN</td>\n",
       "      <td>NaN</td>\n",
       "      <td>https://twitter.com/dog_rates/status/892177421...</td>\n",
       "      <td>13</td>\n",
       "      <td>10</td>\n",
       "      <td>Tilly</td>\n",
       "      <td>None</td>\n",
       "      <td>None</td>\n",
       "      <td>None</td>\n",
       "      <td>None</td>\n",
       "    </tr>\n",
       "    <tr>\n",
       "      <th>2</th>\n",
       "      <td>891815181378084864</td>\n",
       "      <td>NaN</td>\n",
       "      <td>NaN</td>\n",
       "      <td>2017-07-31 00:18:03 +0000</td>\n",
       "      <td>&lt;a href=\"http://twitter.com/download/iphone\" r...</td>\n",
       "      <td>This is Archie. He is a rare Norwegian Pouncin...</td>\n",
       "      <td>NaN</td>\n",
       "      <td>NaN</td>\n",
       "      <td>NaN</td>\n",
       "      <td>https://twitter.com/dog_rates/status/891815181...</td>\n",
       "      <td>12</td>\n",
       "      <td>10</td>\n",
       "      <td>Archie</td>\n",
       "      <td>None</td>\n",
       "      <td>None</td>\n",
       "      <td>None</td>\n",
       "      <td>None</td>\n",
       "    </tr>\n",
       "    <tr>\n",
       "      <th>3</th>\n",
       "      <td>891689557279858688</td>\n",
       "      <td>NaN</td>\n",
       "      <td>NaN</td>\n",
       "      <td>2017-07-30 15:58:51 +0000</td>\n",
       "      <td>&lt;a href=\"http://twitter.com/download/iphone\" r...</td>\n",
       "      <td>This is Darla. She commenced a snooze mid meal...</td>\n",
       "      <td>NaN</td>\n",
       "      <td>NaN</td>\n",
       "      <td>NaN</td>\n",
       "      <td>https://twitter.com/dog_rates/status/891689557...</td>\n",
       "      <td>13</td>\n",
       "      <td>10</td>\n",
       "      <td>Darla</td>\n",
       "      <td>None</td>\n",
       "      <td>None</td>\n",
       "      <td>None</td>\n",
       "      <td>None</td>\n",
       "    </tr>\n",
       "    <tr>\n",
       "      <th>4</th>\n",
       "      <td>891327558926688256</td>\n",
       "      <td>NaN</td>\n",
       "      <td>NaN</td>\n",
       "      <td>2017-07-29 16:00:24 +0000</td>\n",
       "      <td>&lt;a href=\"http://twitter.com/download/iphone\" r...</td>\n",
       "      <td>This is Franklin. He would like you to stop ca...</td>\n",
       "      <td>NaN</td>\n",
       "      <td>NaN</td>\n",
       "      <td>NaN</td>\n",
       "      <td>https://twitter.com/dog_rates/status/891327558...</td>\n",
       "      <td>12</td>\n",
       "      <td>10</td>\n",
       "      <td>Franklin</td>\n",
       "      <td>None</td>\n",
       "      <td>None</td>\n",
       "      <td>None</td>\n",
       "      <td>None</td>\n",
       "    </tr>\n",
       "    <tr>\n",
       "      <th>...</th>\n",
       "      <td>...</td>\n",
       "      <td>...</td>\n",
       "      <td>...</td>\n",
       "      <td>...</td>\n",
       "      <td>...</td>\n",
       "      <td>...</td>\n",
       "      <td>...</td>\n",
       "      <td>...</td>\n",
       "      <td>...</td>\n",
       "      <td>...</td>\n",
       "      <td>...</td>\n",
       "      <td>...</td>\n",
       "      <td>...</td>\n",
       "      <td>...</td>\n",
       "      <td>...</td>\n",
       "      <td>...</td>\n",
       "      <td>...</td>\n",
       "    </tr>\n",
       "    <tr>\n",
       "      <th>2351</th>\n",
       "      <td>666049248165822465</td>\n",
       "      <td>NaN</td>\n",
       "      <td>NaN</td>\n",
       "      <td>2015-11-16 00:24:50 +0000</td>\n",
       "      <td>&lt;a href=\"http://twitter.com/download/iphone\" r...</td>\n",
       "      <td>Here we have a 1949 1st generation vulpix. Enj...</td>\n",
       "      <td>NaN</td>\n",
       "      <td>NaN</td>\n",
       "      <td>NaN</td>\n",
       "      <td>https://twitter.com/dog_rates/status/666049248...</td>\n",
       "      <td>5</td>\n",
       "      <td>10</td>\n",
       "      <td>None</td>\n",
       "      <td>None</td>\n",
       "      <td>None</td>\n",
       "      <td>None</td>\n",
       "      <td>None</td>\n",
       "    </tr>\n",
       "    <tr>\n",
       "      <th>2352</th>\n",
       "      <td>666044226329800704</td>\n",
       "      <td>NaN</td>\n",
       "      <td>NaN</td>\n",
       "      <td>2015-11-16 00:04:52 +0000</td>\n",
       "      <td>&lt;a href=\"http://twitter.com/download/iphone\" r...</td>\n",
       "      <td>This is a purebred Piers Morgan. Loves to Netf...</td>\n",
       "      <td>NaN</td>\n",
       "      <td>NaN</td>\n",
       "      <td>NaN</td>\n",
       "      <td>https://twitter.com/dog_rates/status/666044226...</td>\n",
       "      <td>6</td>\n",
       "      <td>10</td>\n",
       "      <td>a</td>\n",
       "      <td>None</td>\n",
       "      <td>None</td>\n",
       "      <td>None</td>\n",
       "      <td>None</td>\n",
       "    </tr>\n",
       "    <tr>\n",
       "      <th>2353</th>\n",
       "      <td>666033412701032449</td>\n",
       "      <td>NaN</td>\n",
       "      <td>NaN</td>\n",
       "      <td>2015-11-15 23:21:54 +0000</td>\n",
       "      <td>&lt;a href=\"http://twitter.com/download/iphone\" r...</td>\n",
       "      <td>Here is a very happy pup. Big fan of well-main...</td>\n",
       "      <td>NaN</td>\n",
       "      <td>NaN</td>\n",
       "      <td>NaN</td>\n",
       "      <td>https://twitter.com/dog_rates/status/666033412...</td>\n",
       "      <td>9</td>\n",
       "      <td>10</td>\n",
       "      <td>a</td>\n",
       "      <td>None</td>\n",
       "      <td>None</td>\n",
       "      <td>None</td>\n",
       "      <td>None</td>\n",
       "    </tr>\n",
       "    <tr>\n",
       "      <th>2354</th>\n",
       "      <td>666029285002620928</td>\n",
       "      <td>NaN</td>\n",
       "      <td>NaN</td>\n",
       "      <td>2015-11-15 23:05:30 +0000</td>\n",
       "      <td>&lt;a href=\"http://twitter.com/download/iphone\" r...</td>\n",
       "      <td>This is a western brown Mitsubishi terrier. Up...</td>\n",
       "      <td>NaN</td>\n",
       "      <td>NaN</td>\n",
       "      <td>NaN</td>\n",
       "      <td>https://twitter.com/dog_rates/status/666029285...</td>\n",
       "      <td>7</td>\n",
       "      <td>10</td>\n",
       "      <td>a</td>\n",
       "      <td>None</td>\n",
       "      <td>None</td>\n",
       "      <td>None</td>\n",
       "      <td>None</td>\n",
       "    </tr>\n",
       "    <tr>\n",
       "      <th>2355</th>\n",
       "      <td>666020888022790149</td>\n",
       "      <td>NaN</td>\n",
       "      <td>NaN</td>\n",
       "      <td>2015-11-15 22:32:08 +0000</td>\n",
       "      <td>&lt;a href=\"http://twitter.com/download/iphone\" r...</td>\n",
       "      <td>Here we have a Japanese Irish Setter. Lost eye...</td>\n",
       "      <td>NaN</td>\n",
       "      <td>NaN</td>\n",
       "      <td>NaN</td>\n",
       "      <td>https://twitter.com/dog_rates/status/666020888...</td>\n",
       "      <td>8</td>\n",
       "      <td>10</td>\n",
       "      <td>None</td>\n",
       "      <td>None</td>\n",
       "      <td>None</td>\n",
       "      <td>None</td>\n",
       "      <td>None</td>\n",
       "    </tr>\n",
       "  </tbody>\n",
       "</table>\n",
       "<p>2175 rows × 17 columns</p>\n",
       "</div>"
      ],
      "text/plain": [
       "                tweet_id  in_reply_to_status_id  in_reply_to_user_id  \\\n",
       "0     892420643555336193                    NaN                  NaN   \n",
       "1     892177421306343426                    NaN                  NaN   \n",
       "2     891815181378084864                    NaN                  NaN   \n",
       "3     891689557279858688                    NaN                  NaN   \n",
       "4     891327558926688256                    NaN                  NaN   \n",
       "...                  ...                    ...                  ...   \n",
       "2351  666049248165822465                    NaN                  NaN   \n",
       "2352  666044226329800704                    NaN                  NaN   \n",
       "2353  666033412701032449                    NaN                  NaN   \n",
       "2354  666029285002620928                    NaN                  NaN   \n",
       "2355  666020888022790149                    NaN                  NaN   \n",
       "\n",
       "                      timestamp  \\\n",
       "0     2017-08-01 16:23:56 +0000   \n",
       "1     2017-08-01 00:17:27 +0000   \n",
       "2     2017-07-31 00:18:03 +0000   \n",
       "3     2017-07-30 15:58:51 +0000   \n",
       "4     2017-07-29 16:00:24 +0000   \n",
       "...                         ...   \n",
       "2351  2015-11-16 00:24:50 +0000   \n",
       "2352  2015-11-16 00:04:52 +0000   \n",
       "2353  2015-11-15 23:21:54 +0000   \n",
       "2354  2015-11-15 23:05:30 +0000   \n",
       "2355  2015-11-15 22:32:08 +0000   \n",
       "\n",
       "                                                 source  \\\n",
       "0     <a href=\"http://twitter.com/download/iphone\" r...   \n",
       "1     <a href=\"http://twitter.com/download/iphone\" r...   \n",
       "2     <a href=\"http://twitter.com/download/iphone\" r...   \n",
       "3     <a href=\"http://twitter.com/download/iphone\" r...   \n",
       "4     <a href=\"http://twitter.com/download/iphone\" r...   \n",
       "...                                                 ...   \n",
       "2351  <a href=\"http://twitter.com/download/iphone\" r...   \n",
       "2352  <a href=\"http://twitter.com/download/iphone\" r...   \n",
       "2353  <a href=\"http://twitter.com/download/iphone\" r...   \n",
       "2354  <a href=\"http://twitter.com/download/iphone\" r...   \n",
       "2355  <a href=\"http://twitter.com/download/iphone\" r...   \n",
       "\n",
       "                                                   text  retweeted_status_id  \\\n",
       "0     This is Phineas. He's a mystical boy. Only eve...                  NaN   \n",
       "1     This is Tilly. She's just checking pup on you....                  NaN   \n",
       "2     This is Archie. He is a rare Norwegian Pouncin...                  NaN   \n",
       "3     This is Darla. She commenced a snooze mid meal...                  NaN   \n",
       "4     This is Franklin. He would like you to stop ca...                  NaN   \n",
       "...                                                 ...                  ...   \n",
       "2351  Here we have a 1949 1st generation vulpix. Enj...                  NaN   \n",
       "2352  This is a purebred Piers Morgan. Loves to Netf...                  NaN   \n",
       "2353  Here is a very happy pup. Big fan of well-main...                  NaN   \n",
       "2354  This is a western brown Mitsubishi terrier. Up...                  NaN   \n",
       "2355  Here we have a Japanese Irish Setter. Lost eye...                  NaN   \n",
       "\n",
       "      retweeted_status_user_id retweeted_status_timestamp  \\\n",
       "0                          NaN                        NaN   \n",
       "1                          NaN                        NaN   \n",
       "2                          NaN                        NaN   \n",
       "3                          NaN                        NaN   \n",
       "4                          NaN                        NaN   \n",
       "...                        ...                        ...   \n",
       "2351                       NaN                        NaN   \n",
       "2352                       NaN                        NaN   \n",
       "2353                       NaN                        NaN   \n",
       "2354                       NaN                        NaN   \n",
       "2355                       NaN                        NaN   \n",
       "\n",
       "                                          expanded_urls  rating_numerator  \\\n",
       "0     https://twitter.com/dog_rates/status/892420643...                13   \n",
       "1     https://twitter.com/dog_rates/status/892177421...                13   \n",
       "2     https://twitter.com/dog_rates/status/891815181...                12   \n",
       "3     https://twitter.com/dog_rates/status/891689557...                13   \n",
       "4     https://twitter.com/dog_rates/status/891327558...                12   \n",
       "...                                                 ...               ...   \n",
       "2351  https://twitter.com/dog_rates/status/666049248...                 5   \n",
       "2352  https://twitter.com/dog_rates/status/666044226...                 6   \n",
       "2353  https://twitter.com/dog_rates/status/666033412...                 9   \n",
       "2354  https://twitter.com/dog_rates/status/666029285...                 7   \n",
       "2355  https://twitter.com/dog_rates/status/666020888...                 8   \n",
       "\n",
       "      rating_denominator      name doggo floofer pupper puppo  \n",
       "0                     10   Phineas  None    None   None  None  \n",
       "1                     10     Tilly  None    None   None  None  \n",
       "2                     10    Archie  None    None   None  None  \n",
       "3                     10     Darla  None    None   None  None  \n",
       "4                     10  Franklin  None    None   None  None  \n",
       "...                  ...       ...   ...     ...    ...   ...  \n",
       "2351                  10      None  None    None   None  None  \n",
       "2352                  10         a  None    None   None  None  \n",
       "2353                  10         a  None    None   None  None  \n",
       "2354                  10         a  None    None   None  None  \n",
       "2355                  10      None  None    None   None  None  \n",
       "\n",
       "[2175 rows x 17 columns]"
      ]
     },
     "execution_count": 59,
     "metadata": {},
     "output_type": "execute_result"
    }
   ],
   "source": [
    "df_twitter_archive[df_twitter_archive['retweeted_status_user_id'].isnull()]"
   ]
  },
  {
   "cell_type": "markdown",
   "id": "9cbbb8cb",
   "metadata": {},
   "source": [
    "**Leave `in_reply_to_status_id,in_reply_to_user_id, retweeted_status_id,retweeted_status_user_id` to be null values NaN but drop `in_reply_to_status_id,in_reply_to_user_id' from retweets dataframe and drop all the four fields from df_twitter_archive_clean**"
   ]
  },
  {
   "cell_type": "code",
   "execution_count": 14,
   "id": "74d102c8",
   "metadata": {},
   "outputs": [
    {
     "name": "stderr",
     "output_type": "stream",
     "text": [
      "C:\\Users\\OPARA FEBECHUKWU C\\miniconda3\\envs\\python3_6\\lib\\site-packages\\pandas\\core\\frame.py:4174: SettingWithCopyWarning: \n",
      "A value is trying to be set on a copy of a slice from a DataFrame\n",
      "\n",
      "See the caveats in the documentation: https://pandas.pydata.org/pandas-docs/stable/user_guide/indexing.html#returning-a-view-versus-a-copy\n",
      "  errors=errors,\n"
     ]
    }
   ],
   "source": [
    "#drop in_reply_to_status_id,in_reply_to_user_id,retweeted_status_id,retweeted_status_user_id\n",
    "df_twitter_archive_clean.drop(['in_reply_to_status_id', 'in_reply_to_user_id','retweeted_status_id','retweeted_status_user_id'], axis=1, inplace=True)\n",
    "#drop in_reply_to_status_id,in_reply_to_user_id from retweets\n",
    "retweets.drop(['in_reply_to_status_id','in_reply_to_user_id'], axis=1, inplace=True)"
   ]
  },
  {
   "cell_type": "code",
   "execution_count": 17,
   "id": "d66d6bd6",
   "metadata": {},
   "outputs": [
    {
     "data": {
      "text/plain": [
       "2164"
      ]
     },
     "execution_count": 17,
     "metadata": {},
     "output_type": "execute_result"
    }
   ],
   "source": [
    "df_twitter_archive_clean['retweeted_status_timestamp'].isnull().count()"
   ]
  },
  {
   "cell_type": "code",
   "execution_count": 18,
   "id": "14281609",
   "metadata": {},
   "outputs": [
    {
     "data": {
      "text/plain": [
       "2164"
      ]
     },
     "execution_count": 18,
     "metadata": {},
     "output_type": "execute_result"
    }
   ],
   "source": [
    "df_twitter_archive_clean.shape[0]"
   ]
  },
  {
   "cell_type": "markdown",
   "id": "aa05eedf",
   "metadata": {},
   "source": [
    "**All retweeted_status_timestamp field in df_twitter_archive_clean are null so drop the column as well"
   ]
  },
  {
   "cell_type": "code",
   "execution_count": 19,
   "id": "fcdeffee",
   "metadata": {},
   "outputs": [],
   "source": [
    "df_twitter_archive_clean.drop(['retweeted_status_timestamp'], axis=1, inplace=True)\n"
   ]
  },
  {
   "cell_type": "markdown",
   "id": "e54d4338",
   "metadata": {},
   "source": [
    "#### Testing"
   ]
  },
  {
   "cell_type": "code",
   "execution_count": 20,
   "id": "f20bd3a4",
   "metadata": {},
   "outputs": [
    {
     "data": {
      "text/plain": [
       "Index(['tweet_id', 'tweet_timestamp', 'source', 'text', 'expanded_urls',\n",
       "       'rating_numerator', 'rating_denominator', 'name', 'doggo', 'floofer',\n",
       "       'pupper', 'puppo'],\n",
       "      dtype='object')"
      ]
     },
     "execution_count": 20,
     "metadata": {},
     "output_type": "execute_result"
    }
   ],
   "source": [
    "df_twitter_archive_clean.columns"
   ]
  },
  {
   "cell_type": "code",
   "execution_count": 21,
   "id": "fa76f9ec",
   "metadata": {},
   "outputs": [
    {
     "data": {
      "text/plain": [
       "Index(['tweet_id', 'timestamp', 'source', 'text', 'retweeted_status_id',\n",
       "       'retweeted_status_user_id', 'retweeted_status_timestamp',\n",
       "       'expanded_urls', 'rating_numerator', 'rating_denominator', 'name',\n",
       "       'doggo', 'floofer', 'pupper', 'puppo', 'favorite_count',\n",
       "       'retweet_count'],\n",
       "      dtype='object')"
      ]
     },
     "execution_count": 21,
     "metadata": {},
     "output_type": "execute_result"
    }
   ],
   "source": [
    "retweets.columns"
   ]
  },
  {
   "cell_type": "markdown",
   "id": "e9d3a6cd",
   "metadata": {},
   "source": [
    "**Make img_num to become int**"
   ]
  },
  {
   "cell_type": "code",
   "execution_count": 48,
   "id": "593c7f69",
   "metadata": {},
   "outputs": [],
   "source": [
    "df_prediction_clean = df_prediction_clean.astype({'img_num':'int'})"
   ]
  },
  {
   "cell_type": "markdown",
   "id": "51885205",
   "metadata": {},
   "source": [
    "#### Testing"
   ]
  },
  {
   "cell_type": "code",
   "execution_count": 49,
   "id": "ce88a39e",
   "metadata": {},
   "outputs": [
    {
     "data": {
      "text/plain": [
       "Unnamed: 0          int64\n",
       "tweet_id            int64\n",
       "jpg_url            object\n",
       "img_num             int32\n",
       "tp1                object\n",
       "tp1_confidence    float64\n",
       "tp1_dog              bool\n",
       "tp2                object\n",
       "tp2_confidence    float64\n",
       "tp2_dog              bool\n",
       "tp3                object\n",
       "tp3_confidence    float64\n",
       "tp3_dog              bool\n",
       "dtype: object"
      ]
     },
     "execution_count": 49,
     "metadata": {},
     "output_type": "execute_result"
    }
   ],
   "source": [
    "df_prediction_clean.dtypes"
   ]
  },
  {
   "cell_type": "markdown",
   "id": "87d1d9a8",
   "metadata": {},
   "source": [
    "**Make retweeted_status_timestamp and timestamp to become datetime and not object.**\n",
    "\n",
    "This will be performed on the retweet dataframe and we set all entries in `df_twitter_archive_clean` to zero since we do not have retweeted tweets in it any more"
   ]
  },
  {
   "cell_type": "code",
   "execution_count": 24,
   "id": "f1dd42d7",
   "metadata": {},
   "outputs": [
    {
     "name": "stderr",
     "output_type": "stream",
     "text": [
      "C:\\Users\\OPARA FEBECHUKWU C\\miniconda3\\envs\\python3_6\\lib\\site-packages\\ipykernel_launcher.py:1: SettingWithCopyWarning: \n",
      "A value is trying to be set on a copy of a slice from a DataFrame.\n",
      "Try using .loc[row_indexer,col_indexer] = value instead\n",
      "\n",
      "See the caveats in the documentation: https://pandas.pydata.org/pandas-docs/stable/user_guide/indexing.html#returning-a-view-versus-a-copy\n",
      "  \"\"\"Entry point for launching an IPython kernel.\n"
     ]
    }
   ],
   "source": [
    "retweets['retweeted_status_timestamp'] = pd.to_datetime(retweets['retweeted_status_timestamp'])"
   ]
  },
  {
   "cell_type": "code",
   "execution_count": 25,
   "id": "4f88b0a5",
   "metadata": {},
   "outputs": [],
   "source": [
    "df_twitter_archive_clean['tweet_timestamp'] = pd.to_datetime(df_twitter_archive_clean['tweet_timestamp'])"
   ]
  },
  {
   "cell_type": "markdown",
   "id": "10c89774",
   "metadata": {},
   "source": [
    "#### Testing"
   ]
  },
  {
   "cell_type": "code",
   "execution_count": 27,
   "id": "a6bfc816",
   "metadata": {},
   "outputs": [
    {
     "data": {
      "text/plain": [
       "datetime64[ns, UTC]"
      ]
     },
     "execution_count": 27,
     "metadata": {},
     "output_type": "execute_result"
    }
   ],
   "source": [
    "df_twitter_archive_clean['tweet_timestamp'].dtypes"
   ]
  },
  {
   "cell_type": "code",
   "execution_count": 28,
   "id": "ea93ce0a",
   "metadata": {},
   "outputs": [
    {
     "data": {
      "text/plain": [
       "664   2016-10-23 00:27:05+00:00\n",
       "753   2016-07-27 00:40:12+00:00\n",
       "Name: retweeted_status_timestamp, dtype: datetime64[ns, UTC]"
      ]
     },
     "execution_count": 28,
     "metadata": {},
     "output_type": "execute_result"
    }
   ],
   "source": [
    "retweets['retweeted_status_timestamp'].sample(2)"
   ]
  },
  {
   "cell_type": "markdown",
   "id": "d209a488",
   "metadata": {},
   "source": [
    "**Make tp1_dog, tp2_dog, tp3_dog field to become bool.**"
   ]
  },
  {
   "cell_type": "code",
   "execution_count": 29,
   "id": "f9b8fc12",
   "metadata": {},
   "outputs": [],
   "source": [
    "df_prediction_clean = df_prediction_clean.astype({'tp1_dog':'bool','tp2_dog':'bool','tp3_dog':'bool'})"
   ]
  },
  {
   "cell_type": "markdown",
   "id": "9a323bf6",
   "metadata": {},
   "source": [
    "#### Testing"
   ]
  },
  {
   "cell_type": "code",
   "execution_count": 99,
   "id": "338a43ed",
   "metadata": {},
   "outputs": [
    {
     "data": {
      "text/plain": [
       "Unnamed: 0          int64\n",
       "tweet_id            int64\n",
       "jpg_url            object\n",
       "img_num             int32\n",
       "tp1                object\n",
       "tp1_confidence    float64\n",
       "tp1_dog              bool\n",
       "tp2                object\n",
       "tp2_confidence    float64\n",
       "tp2_dog              bool\n",
       "tp3                object\n",
       "tp3_confidence    float64\n",
       "tp3_dog              bool\n",
       "dtype: object"
      ]
     },
     "execution_count": 99,
     "metadata": {},
     "output_type": "execute_result"
    }
   ],
   "source": [
    "df_prediction_clean.dtypes"
   ]
  },
  {
   "cell_type": "code",
   "execution_count": 100,
   "id": "7fe571c0",
   "metadata": {},
   "outputs": [
    {
     "data": {
      "text/html": [
       "<div>\n",
       "<style scoped>\n",
       "    .dataframe tbody tr th:only-of-type {\n",
       "        vertical-align: middle;\n",
       "    }\n",
       "\n",
       "    .dataframe tbody tr th {\n",
       "        vertical-align: top;\n",
       "    }\n",
       "\n",
       "    .dataframe thead th {\n",
       "        text-align: right;\n",
       "    }\n",
       "</style>\n",
       "<table border=\"1\" class=\"dataframe\">\n",
       "  <thead>\n",
       "    <tr style=\"text-align: right;\">\n",
       "      <th></th>\n",
       "      <th>Unnamed: 0</th>\n",
       "      <th>tweet_id</th>\n",
       "      <th>jpg_url</th>\n",
       "      <th>img_num</th>\n",
       "      <th>tp1</th>\n",
       "      <th>tp1_confidence</th>\n",
       "      <th>tp1_dog</th>\n",
       "      <th>tp2</th>\n",
       "      <th>tp2_confidence</th>\n",
       "      <th>tp2_dog</th>\n",
       "      <th>tp3</th>\n",
       "      <th>tp3_confidence</th>\n",
       "      <th>tp3_dog</th>\n",
       "    </tr>\n",
       "  </thead>\n",
       "  <tbody>\n",
       "    <tr>\n",
       "      <th>1092</th>\n",
       "      <td>1092</td>\n",
       "      <td>719551379208073216</td>\n",
       "      <td>https://pbs.twimg.com/media/CfxcKU6W8AE-wEx.jpg</td>\n",
       "      <td>1</td>\n",
       "      <td>malamute</td>\n",
       "      <td>0.873233</td>\n",
       "      <td>True</td>\n",
       "      <td>Siberian_husky</td>\n",
       "      <td>0.076435</td>\n",
       "      <td>True</td>\n",
       "      <td>Eskimo_dog</td>\n",
       "      <td>0.035745</td>\n",
       "      <td>True</td>\n",
       "    </tr>\n",
       "    <tr>\n",
       "      <th>1617</th>\n",
       "      <td>1617</td>\n",
       "      <td>802323869084381190</td>\n",
       "      <td>https://pbs.twimg.com/media/CyJtSmDUAAA2F9x.jpg</td>\n",
       "      <td>4</td>\n",
       "      <td>home_theater</td>\n",
       "      <td>0.765069</td>\n",
       "      <td>False</td>\n",
       "      <td>television</td>\n",
       "      <td>0.203578</td>\n",
       "      <td>False</td>\n",
       "      <td>entertainment_center</td>\n",
       "      <td>0.018644</td>\n",
       "      <td>False</td>\n",
       "    </tr>\n",
       "    <tr>\n",
       "      <th>2045</th>\n",
       "      <td>2045</td>\n",
       "      <td>886366144734445568</td>\n",
       "      <td>https://pbs.twimg.com/media/DE0BTnQUwAApKEH.jpg</td>\n",
       "      <td>1</td>\n",
       "      <td>French_bulldog</td>\n",
       "      <td>0.999201</td>\n",
       "      <td>True</td>\n",
       "      <td>Chihuahua</td>\n",
       "      <td>0.000361</td>\n",
       "      <td>True</td>\n",
       "      <td>Boston_bull</td>\n",
       "      <td>0.000076</td>\n",
       "      <td>True</td>\n",
       "    </tr>\n",
       "  </tbody>\n",
       "</table>\n",
       "</div>"
      ],
      "text/plain": [
       "      Unnamed: 0            tweet_id  \\\n",
       "1092        1092  719551379208073216   \n",
       "1617        1617  802323869084381190   \n",
       "2045        2045  886366144734445568   \n",
       "\n",
       "                                              jpg_url  img_num  \\\n",
       "1092  https://pbs.twimg.com/media/CfxcKU6W8AE-wEx.jpg        1   \n",
       "1617  https://pbs.twimg.com/media/CyJtSmDUAAA2F9x.jpg        4   \n",
       "2045  https://pbs.twimg.com/media/DE0BTnQUwAApKEH.jpg        1   \n",
       "\n",
       "                 tp1  tp1_confidence  tp1_dog             tp2  tp2_confidence  \\\n",
       "1092        malamute        0.873233     True  Siberian_husky        0.076435   \n",
       "1617    home_theater        0.765069    False      television        0.203578   \n",
       "2045  French_bulldog        0.999201     True       Chihuahua        0.000361   \n",
       "\n",
       "      tp2_dog                   tp3  tp3_confidence  tp3_dog  \n",
       "1092     True            Eskimo_dog        0.035745     True  \n",
       "1617    False  entertainment_center        0.018644    False  \n",
       "2045     True           Boston_bull        0.000076     True  "
      ]
     },
     "execution_count": 100,
     "metadata": {},
     "output_type": "execute_result"
    }
   ],
   "source": [
    "df_prediction_clean.sample(3)"
   ]
  },
  {
   "cell_type": "markdown",
   "id": "2a4c19a2",
   "metadata": {},
   "source": [
    "**Make tp1_confidence, tp2_confidence and tp3_confidence float values to have equal number of precision at least 7 decimal places.**"
   ]
  },
  {
   "cell_type": "code",
   "execution_count": 30,
   "id": "c026118e",
   "metadata": {},
   "outputs": [
    {
     "data": {
      "text/plain": [
       "0       0.061428\n",
       "1       0.072010\n",
       "2       0.116197\n",
       "3       0.222752\n",
       "4       0.154629\n",
       "          ...   \n",
       "2070    0.175219\n",
       "2071    0.040836\n",
       "2072    0.031379\n",
       "2073    0.068957\n",
       "2074    0.076110\n",
       "Name: tp3_confidence, Length: 2075, dtype: float64"
      ]
     },
     "execution_count": 30,
     "metadata": {},
     "output_type": "execute_result"
    }
   ],
   "source": [
    "df_prediction_clean['tp1_confidence'].apply(lambda x:np.round(x,7))\n",
    "df_prediction_clean['tp2_confidence'].apply(lambda x:np.round(x,7))\n",
    "df_prediction_clean['tp3_confidence'].apply(lambda x:np.round(x,7))"
   ]
  },
  {
   "cell_type": "markdown",
   "id": "2f8b0ed7",
   "metadata": {},
   "source": [
    "#### Testing"
   ]
  },
  {
   "cell_type": "code",
   "execution_count": 102,
   "id": "96ff3173",
   "metadata": {},
   "outputs": [
    {
     "data": {
      "text/html": [
       "<div>\n",
       "<style scoped>\n",
       "    .dataframe tbody tr th:only-of-type {\n",
       "        vertical-align: middle;\n",
       "    }\n",
       "\n",
       "    .dataframe tbody tr th {\n",
       "        vertical-align: top;\n",
       "    }\n",
       "\n",
       "    .dataframe thead th {\n",
       "        text-align: right;\n",
       "    }\n",
       "</style>\n",
       "<table border=\"1\" class=\"dataframe\">\n",
       "  <thead>\n",
       "    <tr style=\"text-align: right;\">\n",
       "      <th></th>\n",
       "      <th>Unnamed: 0</th>\n",
       "      <th>tweet_id</th>\n",
       "      <th>jpg_url</th>\n",
       "      <th>img_num</th>\n",
       "      <th>tp1</th>\n",
       "      <th>tp1_confidence</th>\n",
       "      <th>tp1_dog</th>\n",
       "      <th>tp2</th>\n",
       "      <th>tp2_confidence</th>\n",
       "      <th>tp2_dog</th>\n",
       "      <th>tp3</th>\n",
       "      <th>tp3_confidence</th>\n",
       "      <th>tp3_dog</th>\n",
       "    </tr>\n",
       "  </thead>\n",
       "  <tbody>\n",
       "    <tr>\n",
       "      <th>20</th>\n",
       "      <td>20</td>\n",
       "      <td>666287406224695296</td>\n",
       "      <td>https://pbs.twimg.com/media/CT8g3BpUEAAuFjg.jpg</td>\n",
       "      <td>1</td>\n",
       "      <td>Maltese_dog</td>\n",
       "      <td>0.857531</td>\n",
       "      <td>True</td>\n",
       "      <td>toy_poodle</td>\n",
       "      <td>0.063064</td>\n",
       "      <td>True</td>\n",
       "      <td>miniature_poodle</td>\n",
       "      <td>0.025581</td>\n",
       "      <td>True</td>\n",
       "    </tr>\n",
       "    <tr>\n",
       "      <th>526</th>\n",
       "      <td>526</td>\n",
       "      <td>676613908052996102</td>\n",
       "      <td>https://pbs.twimg.com/media/CWPQwmJWUAAu_At.jpg</td>\n",
       "      <td>1</td>\n",
       "      <td>book_jacket</td>\n",
       "      <td>0.493790</td>\n",
       "      <td>False</td>\n",
       "      <td>Doberman</td>\n",
       "      <td>0.096423</td>\n",
       "      <td>True</td>\n",
       "      <td>miniature_pinscher</td>\n",
       "      <td>0.070647</td>\n",
       "      <td>True</td>\n",
       "    </tr>\n",
       "    <tr>\n",
       "      <th>1983</th>\n",
       "      <td>1983</td>\n",
       "      <td>871879754684805121</td>\n",
       "      <td>https://pbs.twimg.com/media/DBmKAmBXUAE-pQ-.jpg</td>\n",
       "      <td>1</td>\n",
       "      <td>Shetland_sheepdog</td>\n",
       "      <td>0.969171</td>\n",
       "      <td>True</td>\n",
       "      <td>collie</td>\n",
       "      <td>0.018261</td>\n",
       "      <td>True</td>\n",
       "      <td>Pomeranian</td>\n",
       "      <td>0.008515</td>\n",
       "      <td>True</td>\n",
       "    </tr>\n",
       "    <tr>\n",
       "      <th>1549</th>\n",
       "      <td>1549</td>\n",
       "      <td>792913359805018113</td>\n",
       "      <td>https://pbs.twimg.com/media/CwD-eCLWIAA6v0B.jpg</td>\n",
       "      <td>4</td>\n",
       "      <td>web_site</td>\n",
       "      <td>0.226716</td>\n",
       "      <td>False</td>\n",
       "      <td>lighter</td>\n",
       "      <td>0.081941</td>\n",
       "      <td>False</td>\n",
       "      <td>switch</td>\n",
       "      <td>0.039009</td>\n",
       "      <td>False</td>\n",
       "    </tr>\n",
       "    <tr>\n",
       "      <th>1712</th>\n",
       "      <td>1712</td>\n",
       "      <td>818588835076603904</td>\n",
       "      <td>https://pbs.twimg.com/media/Crwxb5yWgAAX5P_.jpg</td>\n",
       "      <td>1</td>\n",
       "      <td>Norwegian_elkhound</td>\n",
       "      <td>0.372202</td>\n",
       "      <td>True</td>\n",
       "      <td>Chesapeake_Bay_retriever</td>\n",
       "      <td>0.137187</td>\n",
       "      <td>True</td>\n",
       "      <td>malamute</td>\n",
       "      <td>0.071436</td>\n",
       "      <td>True</td>\n",
       "    </tr>\n",
       "    <tr>\n",
       "      <th>1017</th>\n",
       "      <td>1017</td>\n",
       "      <td>709918798883774466</td>\n",
       "      <td>https://pbs.twimg.com/media/CdojYQmW8AApv4h.jpg</td>\n",
       "      <td>2</td>\n",
       "      <td>Pembroke</td>\n",
       "      <td>0.956222</td>\n",
       "      <td>True</td>\n",
       "      <td>Cardigan</td>\n",
       "      <td>0.020727</td>\n",
       "      <td>True</td>\n",
       "      <td>Chihuahua</td>\n",
       "      <td>0.007912</td>\n",
       "      <td>True</td>\n",
       "    </tr>\n",
       "    <tr>\n",
       "      <th>1309</th>\n",
       "      <td>1309</td>\n",
       "      <td>754011816964026368</td>\n",
       "      <td>https://pbs.twimg.com/media/CnbJuPoXEAAjcVF.jpg</td>\n",
       "      <td>1</td>\n",
       "      <td>French_bulldog</td>\n",
       "      <td>0.600985</td>\n",
       "      <td>True</td>\n",
       "      <td>Boston_bull</td>\n",
       "      <td>0.273176</td>\n",
       "      <td>True</td>\n",
       "      <td>boxer</td>\n",
       "      <td>0.056772</td>\n",
       "      <td>True</td>\n",
       "    </tr>\n",
       "    <tr>\n",
       "      <th>1920</th>\n",
       "      <td>1920</td>\n",
       "      <td>856282028240666624</td>\n",
       "      <td>https://pbs.twimg.com/media/C-If9ZwXoAAfDX2.jpg</td>\n",
       "      <td>4</td>\n",
       "      <td>Chihuahua</td>\n",
       "      <td>0.876543</td>\n",
       "      <td>True</td>\n",
       "      <td>Italian_greyhound</td>\n",
       "      <td>0.032962</td>\n",
       "      <td>True</td>\n",
       "      <td>Cardigan</td>\n",
       "      <td>0.020776</td>\n",
       "      <td>True</td>\n",
       "    </tr>\n",
       "    <tr>\n",
       "      <th>665</th>\n",
       "      <td>665</td>\n",
       "      <td>682750546109968385</td>\n",
       "      <td>https://pbs.twimg.com/media/CXmd_bsWkAEEXck.jpg</td>\n",
       "      <td>1</td>\n",
       "      <td>English_setter</td>\n",
       "      <td>0.947198</td>\n",
       "      <td>True</td>\n",
       "      <td>English_springer</td>\n",
       "      <td>0.031128</td>\n",
       "      <td>True</td>\n",
       "      <td>Brittany_spaniel</td>\n",
       "      <td>0.005512</td>\n",
       "      <td>True</td>\n",
       "    </tr>\n",
       "    <tr>\n",
       "      <th>1833</th>\n",
       "      <td>1833</td>\n",
       "      <td>836753516572119041</td>\n",
       "      <td>https://pbs.twimg.com/media/C5y-4VwWcAIcaoj.jpg</td>\n",
       "      <td>1</td>\n",
       "      <td>mortarboard</td>\n",
       "      <td>0.936882</td>\n",
       "      <td>False</td>\n",
       "      <td>academic_gown</td>\n",
       "      <td>0.020815</td>\n",
       "      <td>False</td>\n",
       "      <td>schipperke</td>\n",
       "      <td>0.011564</td>\n",
       "      <td>True</td>\n",
       "    </tr>\n",
       "  </tbody>\n",
       "</table>\n",
       "</div>"
      ],
      "text/plain": [
       "      Unnamed: 0            tweet_id  \\\n",
       "20            20  666287406224695296   \n",
       "526          526  676613908052996102   \n",
       "1983        1983  871879754684805121   \n",
       "1549        1549  792913359805018113   \n",
       "1712        1712  818588835076603904   \n",
       "1017        1017  709918798883774466   \n",
       "1309        1309  754011816964026368   \n",
       "1920        1920  856282028240666624   \n",
       "665          665  682750546109968385   \n",
       "1833        1833  836753516572119041   \n",
       "\n",
       "                                              jpg_url  img_num  \\\n",
       "20    https://pbs.twimg.com/media/CT8g3BpUEAAuFjg.jpg        1   \n",
       "526   https://pbs.twimg.com/media/CWPQwmJWUAAu_At.jpg        1   \n",
       "1983  https://pbs.twimg.com/media/DBmKAmBXUAE-pQ-.jpg        1   \n",
       "1549  https://pbs.twimg.com/media/CwD-eCLWIAA6v0B.jpg        4   \n",
       "1712  https://pbs.twimg.com/media/Crwxb5yWgAAX5P_.jpg        1   \n",
       "1017  https://pbs.twimg.com/media/CdojYQmW8AApv4h.jpg        2   \n",
       "1309  https://pbs.twimg.com/media/CnbJuPoXEAAjcVF.jpg        1   \n",
       "1920  https://pbs.twimg.com/media/C-If9ZwXoAAfDX2.jpg        4   \n",
       "665   https://pbs.twimg.com/media/CXmd_bsWkAEEXck.jpg        1   \n",
       "1833  https://pbs.twimg.com/media/C5y-4VwWcAIcaoj.jpg        1   \n",
       "\n",
       "                     tp1  tp1_confidence  tp1_dog                       tp2  \\\n",
       "20           Maltese_dog        0.857531     True                toy_poodle   \n",
       "526          book_jacket        0.493790    False                  Doberman   \n",
       "1983   Shetland_sheepdog        0.969171     True                    collie   \n",
       "1549            web_site        0.226716    False                   lighter   \n",
       "1712  Norwegian_elkhound        0.372202     True  Chesapeake_Bay_retriever   \n",
       "1017            Pembroke        0.956222     True                  Cardigan   \n",
       "1309      French_bulldog        0.600985     True               Boston_bull   \n",
       "1920           Chihuahua        0.876543     True         Italian_greyhound   \n",
       "665       English_setter        0.947198     True          English_springer   \n",
       "1833         mortarboard        0.936882    False             academic_gown   \n",
       "\n",
       "      tp2_confidence  tp2_dog                 tp3  tp3_confidence  tp3_dog  \n",
       "20          0.063064     True    miniature_poodle        0.025581     True  \n",
       "526         0.096423     True  miniature_pinscher        0.070647     True  \n",
       "1983        0.018261     True          Pomeranian        0.008515     True  \n",
       "1549        0.081941    False              switch        0.039009    False  \n",
       "1712        0.137187     True            malamute        0.071436     True  \n",
       "1017        0.020727     True           Chihuahua        0.007912     True  \n",
       "1309        0.273176     True               boxer        0.056772     True  \n",
       "1920        0.032962     True            Cardigan        0.020776     True  \n",
       "665         0.031128     True    Brittany_spaniel        0.005512     True  \n",
       "1833        0.020815    False          schipperke        0.011564     True  "
      ]
     },
     "execution_count": 102,
     "metadata": {},
     "output_type": "execute_result"
    }
   ],
   "source": [
    "df_prediction_clean.sample(10)"
   ]
  },
  {
   "cell_type": "markdown",
   "id": "c434686b",
   "metadata": {},
   "source": [
    "**Make all rating_numerator not greater than 10 to become the mode of the rating numerator field**"
   ]
  },
  {
   "cell_type": "code",
   "execution_count": 31,
   "id": "89305d82",
   "metadata": {},
   "outputs": [],
   "source": [
    "mode = df_twitter_archive_clean['rating_numerator'].mode().values[0]\n",
    "def makeMode(number, mode):\n",
    "    numerator = 0\n",
    "    if number < 10:\n",
    "        numerator = mode\n",
    "    else:\n",
    "        numerator = number\n",
    "    return numerator\n",
    "df_twitter_archive_clean['rating_numerator'] = df_twitter_archive_clean['rating_numerator'].apply(lambda x:makeMode(x,mode))"
   ]
  },
  {
   "cell_type": "markdown",
   "id": "d1534da4",
   "metadata": {},
   "source": [
    "#### Testing"
   ]
  },
  {
   "cell_type": "code",
   "execution_count": 104,
   "id": "3e17a81f",
   "metadata": {},
   "outputs": [
    {
     "data": {
      "text/html": [
       "<div>\n",
       "<style scoped>\n",
       "    .dataframe tbody tr th:only-of-type {\n",
       "        vertical-align: middle;\n",
       "    }\n",
       "\n",
       "    .dataframe tbody tr th {\n",
       "        vertical-align: top;\n",
       "    }\n",
       "\n",
       "    .dataframe thead th {\n",
       "        text-align: right;\n",
       "    }\n",
       "</style>\n",
       "<table border=\"1\" class=\"dataframe\">\n",
       "  <thead>\n",
       "    <tr style=\"text-align: right;\">\n",
       "      <th></th>\n",
       "      <th>tweet_id</th>\n",
       "      <th>in_reply_to_status_id</th>\n",
       "      <th>in_reply_to_user_id</th>\n",
       "      <th>tweet_timestamp</th>\n",
       "      <th>source</th>\n",
       "      <th>text</th>\n",
       "      <th>retweeted_status_id</th>\n",
       "      <th>retweeted_status_user_id</th>\n",
       "      <th>retweeted_status_timestamp</th>\n",
       "      <th>expanded_urls</th>\n",
       "      <th>rating_numerator</th>\n",
       "      <th>rating_denominator</th>\n",
       "      <th>name</th>\n",
       "      <th>doggo</th>\n",
       "      <th>floofer</th>\n",
       "      <th>pupper</th>\n",
       "      <th>puppo</th>\n",
       "    </tr>\n",
       "  </thead>\n",
       "  <tbody>\n",
       "  </tbody>\n",
       "</table>\n",
       "</div>"
      ],
      "text/plain": [
       "Empty DataFrame\n",
       "Columns: [tweet_id, in_reply_to_status_id, in_reply_to_user_id, tweet_timestamp, source, text, retweeted_status_id, retweeted_status_user_id, retweeted_status_timestamp, expanded_urls, rating_numerator, rating_denominator, name, doggo, floofer, pupper, puppo]\n",
       "Index: []"
      ]
     },
     "execution_count": 104,
     "metadata": {},
     "output_type": "execute_result"
    }
   ],
   "source": [
    "df_twitter_archive_clean.query('rating_numerator < 10')"
   ]
  },
  {
   "cell_type": "code",
   "execution_count": 105,
   "id": "7bf071ad",
   "metadata": {},
   "outputs": [
    {
     "data": {
      "text/html": [
       "<div>\n",
       "<style scoped>\n",
       "    .dataframe tbody tr th:only-of-type {\n",
       "        vertical-align: middle;\n",
       "    }\n",
       "\n",
       "    .dataframe tbody tr th {\n",
       "        vertical-align: top;\n",
       "    }\n",
       "\n",
       "    .dataframe thead th {\n",
       "        text-align: right;\n",
       "    }\n",
       "</style>\n",
       "<table border=\"1\" class=\"dataframe\">\n",
       "  <thead>\n",
       "    <tr style=\"text-align: right;\">\n",
       "      <th></th>\n",
       "      <th>tweet_id</th>\n",
       "      <th>in_reply_to_status_id</th>\n",
       "      <th>in_reply_to_user_id</th>\n",
       "      <th>tweet_timestamp</th>\n",
       "      <th>source</th>\n",
       "      <th>text</th>\n",
       "      <th>retweeted_status_id</th>\n",
       "      <th>retweeted_status_user_id</th>\n",
       "      <th>retweeted_status_timestamp</th>\n",
       "      <th>expanded_urls</th>\n",
       "      <th>rating_numerator</th>\n",
       "      <th>rating_denominator</th>\n",
       "      <th>name</th>\n",
       "      <th>doggo</th>\n",
       "      <th>floofer</th>\n",
       "      <th>pupper</th>\n",
       "      <th>puppo</th>\n",
       "    </tr>\n",
       "  </thead>\n",
       "  <tbody>\n",
       "    <tr>\n",
       "      <th>1246</th>\n",
       "      <td>711694788429553666</td>\n",
       "      <td>0</td>\n",
       "      <td>0</td>\n",
       "      <td>2016-03-20 23:23:54+00:00</td>\n",
       "      <td>&lt;a href=\"http://twitter.com/download/iphone\" r...</td>\n",
       "      <td>Oh. My. God. 13/10 magical af https://t.co/Ezu...</td>\n",
       "      <td>0</td>\n",
       "      <td>0</td>\n",
       "      <td>0</td>\n",
       "      <td>https://twitter.com/dog_rates/status/711694788...</td>\n",
       "      <td>13</td>\n",
       "      <td>10</td>\n",
       "      <td>None</td>\n",
       "      <td>None</td>\n",
       "      <td>None</td>\n",
       "      <td>None</td>\n",
       "      <td>None</td>\n",
       "    </tr>\n",
       "    <tr>\n",
       "      <th>1119</th>\n",
       "      <td>731285275100512256</td>\n",
       "      <td>0</td>\n",
       "      <td>0</td>\n",
       "      <td>2016-05-14 00:49:30+00:00</td>\n",
       "      <td>&lt;a href=\"http://twitter.com/download/iphone\" r...</td>\n",
       "      <td>This is Solomon. He's a Beneroo Cumberflop. 12...</td>\n",
       "      <td>0</td>\n",
       "      <td>0</td>\n",
       "      <td>0</td>\n",
       "      <td>https://twitter.com/dog_rates/status/731285275...</td>\n",
       "      <td>12</td>\n",
       "      <td>10</td>\n",
       "      <td>Solomon</td>\n",
       "      <td>None</td>\n",
       "      <td>None</td>\n",
       "      <td>None</td>\n",
       "      <td>None</td>\n",
       "    </tr>\n",
       "    <tr>\n",
       "      <th>2151</th>\n",
       "      <td>669682095984410625</td>\n",
       "      <td>0</td>\n",
       "      <td>0</td>\n",
       "      <td>2015-11-26 01:00:28+00:00</td>\n",
       "      <td>&lt;a href=\"http://twitter.com/download/iphone\" r...</td>\n",
       "      <td>Meet Louie. He just pounded that bottle of win...</td>\n",
       "      <td>0</td>\n",
       "      <td>0</td>\n",
       "      <td>0</td>\n",
       "      <td>https://twitter.com/dog_rates/status/669682095...</td>\n",
       "      <td>12</td>\n",
       "      <td>10</td>\n",
       "      <td>Louie</td>\n",
       "      <td>None</td>\n",
       "      <td>None</td>\n",
       "      <td>None</td>\n",
       "      <td>None</td>\n",
       "    </tr>\n",
       "    <tr>\n",
       "      <th>14</th>\n",
       "      <td>889531135344209921</td>\n",
       "      <td>0</td>\n",
       "      <td>0</td>\n",
       "      <td>2017-07-24 17:02:04+00:00</td>\n",
       "      <td>&lt;a href=\"http://twitter.com/download/iphone\" r...</td>\n",
       "      <td>This is Stuart. He's sporting his favorite fan...</td>\n",
       "      <td>0</td>\n",
       "      <td>0</td>\n",
       "      <td>0</td>\n",
       "      <td>https://twitter.com/dog_rates/status/889531135...</td>\n",
       "      <td>13</td>\n",
       "      <td>10</td>\n",
       "      <td>Stuart</td>\n",
       "      <td>None</td>\n",
       "      <td>None</td>\n",
       "      <td>None</td>\n",
       "      <td>puppo</td>\n",
       "    </tr>\n",
       "    <tr>\n",
       "      <th>2240</th>\n",
       "      <td>667924896115245057</td>\n",
       "      <td>0</td>\n",
       "      <td>0</td>\n",
       "      <td>2015-11-21 04:37:59+00:00</td>\n",
       "      <td>&lt;a href=\"http://twitter.com/download/iphone\" r...</td>\n",
       "      <td>This is Jiminy. He has always wanted to be a c...</td>\n",
       "      <td>0</td>\n",
       "      <td>0</td>\n",
       "      <td>0</td>\n",
       "      <td>https://twitter.com/dog_rates/status/667924896...</td>\n",
       "      <td>12</td>\n",
       "      <td>10</td>\n",
       "      <td>Jiminy</td>\n",
       "      <td>None</td>\n",
       "      <td>None</td>\n",
       "      <td>None</td>\n",
       "      <td>None</td>\n",
       "    </tr>\n",
       "  </tbody>\n",
       "</table>\n",
       "</div>"
      ],
      "text/plain": [
       "                tweet_id  in_reply_to_status_id  in_reply_to_user_id  \\\n",
       "1246  711694788429553666                      0                    0   \n",
       "1119  731285275100512256                      0                    0   \n",
       "2151  669682095984410625                      0                    0   \n",
       "14    889531135344209921                      0                    0   \n",
       "2240  667924896115245057                      0                    0   \n",
       "\n",
       "               tweet_timestamp  \\\n",
       "1246 2016-03-20 23:23:54+00:00   \n",
       "1119 2016-05-14 00:49:30+00:00   \n",
       "2151 2015-11-26 01:00:28+00:00   \n",
       "14   2017-07-24 17:02:04+00:00   \n",
       "2240 2015-11-21 04:37:59+00:00   \n",
       "\n",
       "                                                 source  \\\n",
       "1246  <a href=\"http://twitter.com/download/iphone\" r...   \n",
       "1119  <a href=\"http://twitter.com/download/iphone\" r...   \n",
       "2151  <a href=\"http://twitter.com/download/iphone\" r...   \n",
       "14    <a href=\"http://twitter.com/download/iphone\" r...   \n",
       "2240  <a href=\"http://twitter.com/download/iphone\" r...   \n",
       "\n",
       "                                                   text  retweeted_status_id  \\\n",
       "1246  Oh. My. God. 13/10 magical af https://t.co/Ezu...                    0   \n",
       "1119  This is Solomon. He's a Beneroo Cumberflop. 12...                    0   \n",
       "2151  Meet Louie. He just pounded that bottle of win...                    0   \n",
       "14    This is Stuart. He's sporting his favorite fan...                    0   \n",
       "2240  This is Jiminy. He has always wanted to be a c...                    0   \n",
       "\n",
       "      retweeted_status_user_id  retweeted_status_timestamp  \\\n",
       "1246                         0                           0   \n",
       "1119                         0                           0   \n",
       "2151                         0                           0   \n",
       "14                           0                           0   \n",
       "2240                         0                           0   \n",
       "\n",
       "                                          expanded_urls  rating_numerator  \\\n",
       "1246  https://twitter.com/dog_rates/status/711694788...                13   \n",
       "1119  https://twitter.com/dog_rates/status/731285275...                12   \n",
       "2151  https://twitter.com/dog_rates/status/669682095...                12   \n",
       "14    https://twitter.com/dog_rates/status/889531135...                13   \n",
       "2240  https://twitter.com/dog_rates/status/667924896...                12   \n",
       "\n",
       "      rating_denominator     name doggo floofer pupper  puppo  \n",
       "1246                  10     None  None    None   None   None  \n",
       "1119                  10  Solomon  None    None   None   None  \n",
       "2151                  10    Louie  None    None   None   None  \n",
       "14                    10   Stuart  None    None   None  puppo  \n",
       "2240                  10   Jiminy  None    None   None   None  "
      ]
     },
     "execution_count": 105,
     "metadata": {},
     "output_type": "execute_result"
    }
   ],
   "source": [
    "df_twitter_archive_clean.sample(5)"
   ]
  },
  {
   "cell_type": "markdown",
   "id": "d7aa965d",
   "metadata": {},
   "source": [
    "**Make all rating_denominator to become exactly 10**"
   ]
  },
  {
   "cell_type": "code",
   "execution_count": 32,
   "id": "300ecc26",
   "metadata": {},
   "outputs": [],
   "source": [
    "df_twitter_archive_clean['rating_denominator'] = df_twitter_archive_clean['rating_denominator'].apply(lambda x: 10)"
   ]
  },
  {
   "cell_type": "markdown",
   "id": "7516cab7",
   "metadata": {},
   "source": [
    "#### Testing"
   ]
  },
  {
   "cell_type": "code",
   "execution_count": 107,
   "id": "5809582c",
   "metadata": {},
   "outputs": [
    {
     "data": {
      "text/html": [
       "<div>\n",
       "<style scoped>\n",
       "    .dataframe tbody tr th:only-of-type {\n",
       "        vertical-align: middle;\n",
       "    }\n",
       "\n",
       "    .dataframe tbody tr th {\n",
       "        vertical-align: top;\n",
       "    }\n",
       "\n",
       "    .dataframe thead th {\n",
       "        text-align: right;\n",
       "    }\n",
       "</style>\n",
       "<table border=\"1\" class=\"dataframe\">\n",
       "  <thead>\n",
       "    <tr style=\"text-align: right;\">\n",
       "      <th></th>\n",
       "      <th>tweet_id</th>\n",
       "      <th>in_reply_to_status_id</th>\n",
       "      <th>in_reply_to_user_id</th>\n",
       "      <th>tweet_timestamp</th>\n",
       "      <th>source</th>\n",
       "      <th>text</th>\n",
       "      <th>retweeted_status_id</th>\n",
       "      <th>retweeted_status_user_id</th>\n",
       "      <th>retweeted_status_timestamp</th>\n",
       "      <th>expanded_urls</th>\n",
       "      <th>rating_numerator</th>\n",
       "      <th>rating_denominator</th>\n",
       "      <th>name</th>\n",
       "      <th>doggo</th>\n",
       "      <th>floofer</th>\n",
       "      <th>pupper</th>\n",
       "      <th>puppo</th>\n",
       "    </tr>\n",
       "  </thead>\n",
       "  <tbody>\n",
       "  </tbody>\n",
       "</table>\n",
       "</div>"
      ],
      "text/plain": [
       "Empty DataFrame\n",
       "Columns: [tweet_id, in_reply_to_status_id, in_reply_to_user_id, tweet_timestamp, source, text, retweeted_status_id, retweeted_status_user_id, retweeted_status_timestamp, expanded_urls, rating_numerator, rating_denominator, name, doggo, floofer, pupper, puppo]\n",
       "Index: []"
      ]
     },
     "execution_count": 107,
     "metadata": {},
     "output_type": "execute_result"
    }
   ],
   "source": [
    "df = df_twitter_archive_clean.query(\"rating_denominator > 10\")\n",
    "df"
   ]
  },
  {
   "cell_type": "code",
   "execution_count": 108,
   "id": "27de8514",
   "metadata": {},
   "outputs": [
    {
     "data": {
      "text/html": [
       "<div>\n",
       "<style scoped>\n",
       "    .dataframe tbody tr th:only-of-type {\n",
       "        vertical-align: middle;\n",
       "    }\n",
       "\n",
       "    .dataframe tbody tr th {\n",
       "        vertical-align: top;\n",
       "    }\n",
       "\n",
       "    .dataframe thead th {\n",
       "        text-align: right;\n",
       "    }\n",
       "</style>\n",
       "<table border=\"1\" class=\"dataframe\">\n",
       "  <thead>\n",
       "    <tr style=\"text-align: right;\">\n",
       "      <th></th>\n",
       "      <th>tweet_id</th>\n",
       "      <th>in_reply_to_status_id</th>\n",
       "      <th>in_reply_to_user_id</th>\n",
       "      <th>tweet_timestamp</th>\n",
       "      <th>source</th>\n",
       "      <th>text</th>\n",
       "      <th>retweeted_status_id</th>\n",
       "      <th>retweeted_status_user_id</th>\n",
       "      <th>retweeted_status_timestamp</th>\n",
       "      <th>expanded_urls</th>\n",
       "      <th>rating_numerator</th>\n",
       "      <th>rating_denominator</th>\n",
       "      <th>name</th>\n",
       "      <th>doggo</th>\n",
       "      <th>floofer</th>\n",
       "      <th>pupper</th>\n",
       "      <th>puppo</th>\n",
       "    </tr>\n",
       "  </thead>\n",
       "  <tbody>\n",
       "  </tbody>\n",
       "</table>\n",
       "</div>"
      ],
      "text/plain": [
       "Empty DataFrame\n",
       "Columns: [tweet_id, in_reply_to_status_id, in_reply_to_user_id, tweet_timestamp, source, text, retweeted_status_id, retweeted_status_user_id, retweeted_status_timestamp, expanded_urls, rating_numerator, rating_denominator, name, doggo, floofer, pupper, puppo]\n",
       "Index: []"
      ]
     },
     "execution_count": 108,
     "metadata": {},
     "output_type": "execute_result"
    }
   ],
   "source": [
    "df = df_twitter_archive_clean.query(\"rating_denominator < 10\")\n",
    "df"
   ]
  },
  {
   "cell_type": "code",
   "execution_count": 109,
   "id": "6eb346e9",
   "metadata": {},
   "outputs": [
    {
     "data": {
      "text/html": [
       "<div>\n",
       "<style scoped>\n",
       "    .dataframe tbody tr th:only-of-type {\n",
       "        vertical-align: middle;\n",
       "    }\n",
       "\n",
       "    .dataframe tbody tr th {\n",
       "        vertical-align: top;\n",
       "    }\n",
       "\n",
       "    .dataframe thead th {\n",
       "        text-align: right;\n",
       "    }\n",
       "</style>\n",
       "<table border=\"1\" class=\"dataframe\">\n",
       "  <thead>\n",
       "    <tr style=\"text-align: right;\">\n",
       "      <th></th>\n",
       "      <th>tweet_id</th>\n",
       "      <th>in_reply_to_status_id</th>\n",
       "      <th>in_reply_to_user_id</th>\n",
       "      <th>tweet_timestamp</th>\n",
       "      <th>source</th>\n",
       "      <th>text</th>\n",
       "      <th>retweeted_status_id</th>\n",
       "      <th>retweeted_status_user_id</th>\n",
       "      <th>retweeted_status_timestamp</th>\n",
       "      <th>expanded_urls</th>\n",
       "      <th>rating_numerator</th>\n",
       "      <th>rating_denominator</th>\n",
       "      <th>name</th>\n",
       "      <th>doggo</th>\n",
       "      <th>floofer</th>\n",
       "      <th>pupper</th>\n",
       "      <th>puppo</th>\n",
       "    </tr>\n",
       "  </thead>\n",
       "  <tbody>\n",
       "    <tr>\n",
       "      <th>0</th>\n",
       "      <td>892420643555336193</td>\n",
       "      <td>0</td>\n",
       "      <td>0</td>\n",
       "      <td>2017-08-01 16:23:56+00:00</td>\n",
       "      <td>&lt;a href=\"http://twitter.com/download/iphone\" r...</td>\n",
       "      <td>This is Phineas. He's a mystical boy. Only eve...</td>\n",
       "      <td>0</td>\n",
       "      <td>0</td>\n",
       "      <td>0</td>\n",
       "      <td>https://twitter.com/dog_rates/status/892420643...</td>\n",
       "      <td>13</td>\n",
       "      <td>10</td>\n",
       "      <td>Phineas</td>\n",
       "      <td>None</td>\n",
       "      <td>None</td>\n",
       "      <td>None</td>\n",
       "      <td>None</td>\n",
       "    </tr>\n",
       "    <tr>\n",
       "      <th>1</th>\n",
       "      <td>892177421306343426</td>\n",
       "      <td>0</td>\n",
       "      <td>0</td>\n",
       "      <td>2017-08-01 00:17:27+00:00</td>\n",
       "      <td>&lt;a href=\"http://twitter.com/download/iphone\" r...</td>\n",
       "      <td>This is Tilly. She's just checking pup on you....</td>\n",
       "      <td>0</td>\n",
       "      <td>0</td>\n",
       "      <td>0</td>\n",
       "      <td>https://twitter.com/dog_rates/status/892177421...</td>\n",
       "      <td>13</td>\n",
       "      <td>10</td>\n",
       "      <td>Tilly</td>\n",
       "      <td>None</td>\n",
       "      <td>None</td>\n",
       "      <td>None</td>\n",
       "      <td>None</td>\n",
       "    </tr>\n",
       "  </tbody>\n",
       "</table>\n",
       "</div>"
      ],
      "text/plain": [
       "             tweet_id  in_reply_to_status_id  in_reply_to_user_id  \\\n",
       "0  892420643555336193                      0                    0   \n",
       "1  892177421306343426                      0                    0   \n",
       "\n",
       "            tweet_timestamp  \\\n",
       "0 2017-08-01 16:23:56+00:00   \n",
       "1 2017-08-01 00:17:27+00:00   \n",
       "\n",
       "                                              source  \\\n",
       "0  <a href=\"http://twitter.com/download/iphone\" r...   \n",
       "1  <a href=\"http://twitter.com/download/iphone\" r...   \n",
       "\n",
       "                                                text  retweeted_status_id  \\\n",
       "0  This is Phineas. He's a mystical boy. Only eve...                    0   \n",
       "1  This is Tilly. She's just checking pup on you....                    0   \n",
       "\n",
       "   retweeted_status_user_id  retweeted_status_timestamp  \\\n",
       "0                         0                           0   \n",
       "1                         0                           0   \n",
       "\n",
       "                                       expanded_urls  rating_numerator  \\\n",
       "0  https://twitter.com/dog_rates/status/892420643...                13   \n",
       "1  https://twitter.com/dog_rates/status/892177421...                13   \n",
       "\n",
       "   rating_denominator     name doggo floofer pupper puppo  \n",
       "0                  10  Phineas  None    None   None  None  \n",
       "1                  10    Tilly  None    None   None  None  "
      ]
     },
     "execution_count": 109,
     "metadata": {},
     "output_type": "execute_result"
    }
   ],
   "source": [
    "df = df_twitter_archive_clean.query(\"rating_denominator == 10\")\n",
    "df.head(2)"
   ]
  },
  {
   "cell_type": "markdown",
   "id": "496cad8c",
   "metadata": {},
   "source": [
    "**Change all names of dogs bearing 'a' or 'an' or 'the' to be None**"
   ]
  },
  {
   "cell_type": "code",
   "execution_count": 34,
   "id": "8100ebab",
   "metadata": {},
   "outputs": [],
   "source": [
    "'''def makeNameNone(name):\n",
    "    nam = ''\n",
    "    if name == 'a' or name == 'an' or name == 'the':\n",
    "        nam = 'None'\n",
    "    else:\n",
    "        nam = name\n",
    "    return nam'''\n",
    "def makeNameNaN():\n",
    "    mask = df_twitter_archive_clean['name'].str.islower() \n",
    "    column_name = 'name' \n",
    "    df_twitter_archive_clean.loc[mask, column_name] = np.nan\n",
    "makeNameNaN()   \n",
    "#df_twitter_archive_clean['name'] = df_twitter_archive_clean['name'].apply(lambda x:makeNameNone(x))"
   ]
  },
  {
   "cell_type": "markdown",
   "id": "664a42f1",
   "metadata": {},
   "source": [
    "#### Testing"
   ]
  },
  {
   "cell_type": "code",
   "execution_count": 35,
   "id": "2c430543",
   "metadata": {},
   "outputs": [
    {
     "data": {
      "text/html": [
       "<div>\n",
       "<style scoped>\n",
       "    .dataframe tbody tr th:only-of-type {\n",
       "        vertical-align: middle;\n",
       "    }\n",
       "\n",
       "    .dataframe tbody tr th {\n",
       "        vertical-align: top;\n",
       "    }\n",
       "\n",
       "    .dataframe thead th {\n",
       "        text-align: right;\n",
       "    }\n",
       "</style>\n",
       "<table border=\"1\" class=\"dataframe\">\n",
       "  <thead>\n",
       "    <tr style=\"text-align: right;\">\n",
       "      <th></th>\n",
       "      <th>tweet_id</th>\n",
       "      <th>tweet_timestamp</th>\n",
       "      <th>source</th>\n",
       "      <th>text</th>\n",
       "      <th>expanded_urls</th>\n",
       "      <th>rating_numerator</th>\n",
       "      <th>rating_denominator</th>\n",
       "      <th>name</th>\n",
       "      <th>doggo</th>\n",
       "      <th>floofer</th>\n",
       "      <th>pupper</th>\n",
       "      <th>puppo</th>\n",
       "    </tr>\n",
       "  </thead>\n",
       "  <tbody>\n",
       "  </tbody>\n",
       "</table>\n",
       "</div>"
      ],
      "text/plain": [
       "Empty DataFrame\n",
       "Columns: [tweet_id, tweet_timestamp, source, text, expanded_urls, rating_numerator, rating_denominator, name, doggo, floofer, pupper, puppo]\n",
       "Index: []"
      ]
     },
     "execution_count": 35,
     "metadata": {},
     "output_type": "execute_result"
    }
   ],
   "source": [
    "df = df_twitter_archive_clean.query(\"name == 'a' | name == 'the' | name == 'an'\")\n",
    "df"
   ]
  },
  {
   "cell_type": "markdown",
   "id": "e815c558",
   "metadata": {},
   "source": [
    "**Merging df_new_clean and df_twitter_archive_clean and df_prediction**"
   ]
  },
  {
   "cell_type": "code",
   "execution_count": 40,
   "id": "3acf023e",
   "metadata": {},
   "outputs": [
    {
     "data": {
      "text/plain": [
       "2164"
      ]
     },
     "execution_count": 40,
     "metadata": {},
     "output_type": "execute_result"
    }
   ],
   "source": [
    "#check to see that they are of equal number of rows\n",
    "df_new_clean.shape[0]"
   ]
  },
  {
   "cell_type": "code",
   "execution_count": 41,
   "id": "b70e72a4",
   "metadata": {},
   "outputs": [
    {
     "data": {
      "text/plain": [
       "2164"
      ]
     },
     "execution_count": 41,
     "metadata": {},
     "output_type": "execute_result"
    }
   ],
   "source": [
    "df_twitter_archive_clean.shape[0]"
   ]
  },
  {
   "cell_type": "code",
   "execution_count": 50,
   "id": "0536b653",
   "metadata": {},
   "outputs": [],
   "source": [
    "#df_twitter_archive_clean.merge(df_new_clean, on='tweet_id', left_on='tweet_id',right_on='tweet_id',how=)\n",
    "df_master = df_twitter_archive_clean.merge(df_new_clean, how='outer', on='tweet_id')"
   ]
  },
  {
   "cell_type": "code",
   "execution_count": 51,
   "id": "2e006cfc",
   "metadata": {},
   "outputs": [],
   "source": [
    "#merging df_master and df_prediction\n",
    "df_master = df_master.merge(df_prediction, how='outer', on='tweet_id')"
   ]
  },
  {
   "cell_type": "markdown",
   "id": "9ca8aa72",
   "metadata": {},
   "source": [
    "#### Testing"
   ]
  },
  {
   "cell_type": "code",
   "execution_count": 52,
   "id": "90fbca8c",
   "metadata": {},
   "outputs": [
    {
     "data": {
      "text/html": [
       "<div>\n",
       "<style scoped>\n",
       "    .dataframe tbody tr th:only-of-type {\n",
       "        vertical-align: middle;\n",
       "    }\n",
       "\n",
       "    .dataframe tbody tr th {\n",
       "        vertical-align: top;\n",
       "    }\n",
       "\n",
       "    .dataframe thead th {\n",
       "        text-align: right;\n",
       "    }\n",
       "</style>\n",
       "<table border=\"1\" class=\"dataframe\">\n",
       "  <thead>\n",
       "    <tr style=\"text-align: right;\">\n",
       "      <th></th>\n",
       "      <th>tweet_id</th>\n",
       "      <th>tweet_timestamp</th>\n",
       "      <th>source</th>\n",
       "      <th>text</th>\n",
       "      <th>expanded_urls</th>\n",
       "      <th>rating_numerator</th>\n",
       "      <th>rating_denominator</th>\n",
       "      <th>name</th>\n",
       "      <th>doggo</th>\n",
       "      <th>floofer</th>\n",
       "      <th>...</th>\n",
       "      <th>img_num</th>\n",
       "      <th>tp1</th>\n",
       "      <th>tp1_confidence</th>\n",
       "      <th>tp1_dog</th>\n",
       "      <th>tp2</th>\n",
       "      <th>tp2_confidence</th>\n",
       "      <th>tp2_dog</th>\n",
       "      <th>tp3</th>\n",
       "      <th>tp3_confidence</th>\n",
       "      <th>tp3_dog</th>\n",
       "    </tr>\n",
       "  </thead>\n",
       "  <tbody>\n",
       "    <tr>\n",
       "      <th>120</th>\n",
       "      <td>865718153858494464</td>\n",
       "      <td>2017-05-19 23:57:46+00:00</td>\n",
       "      <td>&lt;a href=\"http://twitter.com/download/iphone\" r...</td>\n",
       "      <td>Meet Boomer. He's just checking pup on you. Ho...</td>\n",
       "      <td>https://twitter.com/dog_rates/status/865718153...</td>\n",
       "      <td>13.0</td>\n",
       "      <td>10.0</td>\n",
       "      <td>Boomer</td>\n",
       "      <td>None</td>\n",
       "      <td>None</td>\n",
       "      <td>...</td>\n",
       "      <td>1.0</td>\n",
       "      <td>golden_retriever</td>\n",
       "      <td>0.673664</td>\n",
       "      <td>True</td>\n",
       "      <td>kuvasz</td>\n",
       "      <td>0.157523</td>\n",
       "      <td>True</td>\n",
       "      <td>Labrador_retriever</td>\n",
       "      <td>0.126073</td>\n",
       "      <td>True</td>\n",
       "    </tr>\n",
       "    <tr>\n",
       "      <th>398</th>\n",
       "      <td>814153002265309185</td>\n",
       "      <td>2016-12-28 16:56:16+00:00</td>\n",
       "      <td>&lt;a href=\"http://twitter.com/download/iphone\" r...</td>\n",
       "      <td>This is Oshie. He's ready to party. Bought tha...</td>\n",
       "      <td>https://twitter.com/dog_rates/status/814153002...</td>\n",
       "      <td>12.0</td>\n",
       "      <td>10.0</td>\n",
       "      <td>Oshie</td>\n",
       "      <td>None</td>\n",
       "      <td>None</td>\n",
       "      <td>...</td>\n",
       "      <td>1.0</td>\n",
       "      <td>golden_retriever</td>\n",
       "      <td>0.490068</td>\n",
       "      <td>True</td>\n",
       "      <td>Labrador_retriever</td>\n",
       "      <td>0.291956</td>\n",
       "      <td>True</td>\n",
       "      <td>chow</td>\n",
       "      <td>0.072475</td>\n",
       "      <td>True</td>\n",
       "    </tr>\n",
       "  </tbody>\n",
       "</table>\n",
       "<p>2 rows × 26 columns</p>\n",
       "</div>"
      ],
      "text/plain": [
       "               tweet_id           tweet_timestamp  \\\n",
       "120  865718153858494464 2017-05-19 23:57:46+00:00   \n",
       "398  814153002265309185 2016-12-28 16:56:16+00:00   \n",
       "\n",
       "                                                source  \\\n",
       "120  <a href=\"http://twitter.com/download/iphone\" r...   \n",
       "398  <a href=\"http://twitter.com/download/iphone\" r...   \n",
       "\n",
       "                                                  text  \\\n",
       "120  Meet Boomer. He's just checking pup on you. Ho...   \n",
       "398  This is Oshie. He's ready to party. Bought tha...   \n",
       "\n",
       "                                         expanded_urls  rating_numerator  \\\n",
       "120  https://twitter.com/dog_rates/status/865718153...              13.0   \n",
       "398  https://twitter.com/dog_rates/status/814153002...              12.0   \n",
       "\n",
       "     rating_denominator    name doggo floofer  ... img_num               tp1  \\\n",
       "120                10.0  Boomer  None    None  ...     1.0  golden_retriever   \n",
       "398                10.0   Oshie  None    None  ...     1.0  golden_retriever   \n",
       "\n",
       "     tp1_confidence  tp1_dog                 tp2 tp2_confidence  tp2_dog  \\\n",
       "120        0.673664     True              kuvasz       0.157523     True   \n",
       "398        0.490068     True  Labrador_retriever       0.291956     True   \n",
       "\n",
       "                    tp3  tp3_confidence tp3_dog  \n",
       "120  Labrador_retriever        0.126073    True  \n",
       "398                chow        0.072475    True  \n",
       "\n",
       "[2 rows x 26 columns]"
      ]
     },
     "execution_count": 52,
     "metadata": {},
     "output_type": "execute_result"
    }
   ],
   "source": [
    "df_master.sample(2)"
   ]
  },
  {
   "cell_type": "code",
   "execution_count": 46,
   "id": "86f6b0b0",
   "metadata": {},
   "outputs": [
    {
     "data": {
      "text/html": [
       "<div>\n",
       "<style scoped>\n",
       "    .dataframe tbody tr th:only-of-type {\n",
       "        vertical-align: middle;\n",
       "    }\n",
       "\n",
       "    .dataframe tbody tr th {\n",
       "        vertical-align: top;\n",
       "    }\n",
       "\n",
       "    .dataframe thead th {\n",
       "        text-align: right;\n",
       "    }\n",
       "</style>\n",
       "<table border=\"1\" class=\"dataframe\">\n",
       "  <thead>\n",
       "    <tr style=\"text-align: right;\">\n",
       "      <th></th>\n",
       "      <th>Unnamed: 0</th>\n",
       "      <th>tweet_id</th>\n",
       "      <th>jpg_url</th>\n",
       "      <th>img_num</th>\n",
       "      <th>tp1</th>\n",
       "      <th>tp1_confidence</th>\n",
       "      <th>tp1_dog</th>\n",
       "      <th>tp2</th>\n",
       "      <th>tp2_confidence</th>\n",
       "      <th>tp2_dog</th>\n",
       "      <th>tp3</th>\n",
       "      <th>tp3_confidence</th>\n",
       "      <th>tp3_dog</th>\n",
       "    </tr>\n",
       "  </thead>\n",
       "  <tbody>\n",
       "    <tr>\n",
       "      <th>567</th>\n",
       "      <td>567</td>\n",
       "      <td>678341075375947776</td>\n",
       "      <td>https://pbs.twimg.com/media/CWnznDTU4AAa-6P.jpg</td>\n",
       "      <td>1</td>\n",
       "      <td>golden_retriever</td>\n",
       "      <td>0.853284</td>\n",
       "      <td>True</td>\n",
       "      <td>cocker_spaniel</td>\n",
       "      <td>0.02623</td>\n",
       "      <td>True</td>\n",
       "      <td>Labrador_retriever</td>\n",
       "      <td>0.024123</td>\n",
       "      <td>True</td>\n",
       "    </tr>\n",
       "  </tbody>\n",
       "</table>\n",
       "</div>"
      ],
      "text/plain": [
       "     Unnamed: 0            tweet_id  \\\n",
       "567         567  678341075375947776   \n",
       "\n",
       "                                             jpg_url  img_num  \\\n",
       "567  https://pbs.twimg.com/media/CWnznDTU4AAa-6P.jpg        1   \n",
       "\n",
       "                  tp1  tp1_confidence  tp1_dog             tp2  \\\n",
       "567  golden_retriever        0.853284     True  cocker_spaniel   \n",
       "\n",
       "     tp2_confidence  tp2_dog                 tp3  tp3_confidence  tp3_dog  \n",
       "567         0.02623     True  Labrador_retriever        0.024123     True  "
      ]
     },
     "execution_count": 46,
     "metadata": {},
     "output_type": "execute_result"
    }
   ],
   "source": [
    "df_prediction.query('tweet_id == 678341075375947776')"
   ]
  },
  {
   "cell_type": "markdown",
   "id": "86b73017",
   "metadata": {},
   "source": [
    "## Cleaning Retweets Dataframe"
   ]
  },
  {
   "cell_type": "code",
   "execution_count": 117,
   "id": "dc2c7f88",
   "metadata": {},
   "outputs": [
    {
     "data": {
      "text/html": [
       "<div>\n",
       "<style scoped>\n",
       "    .dataframe tbody tr th:only-of-type {\n",
       "        vertical-align: middle;\n",
       "    }\n",
       "\n",
       "    .dataframe tbody tr th {\n",
       "        vertical-align: top;\n",
       "    }\n",
       "\n",
       "    .dataframe thead th {\n",
       "        text-align: right;\n",
       "    }\n",
       "</style>\n",
       "<table border=\"1\" class=\"dataframe\">\n",
       "  <thead>\n",
       "    <tr style=\"text-align: right;\">\n",
       "      <th></th>\n",
       "      <th>tweet_id</th>\n",
       "      <th>in_reply_to_status_id</th>\n",
       "      <th>in_reply_to_user_id</th>\n",
       "      <th>timestamp</th>\n",
       "      <th>source</th>\n",
       "      <th>text</th>\n",
       "      <th>retweeted_status_id</th>\n",
       "      <th>retweeted_status_user_id</th>\n",
       "      <th>retweeted_status_timestamp</th>\n",
       "      <th>expanded_urls</th>\n",
       "      <th>rating_numerator</th>\n",
       "      <th>rating_denominator</th>\n",
       "      <th>name</th>\n",
       "      <th>doggo</th>\n",
       "      <th>floofer</th>\n",
       "      <th>pupper</th>\n",
       "      <th>puppo</th>\n",
       "      <th>favorite_count</th>\n",
       "      <th>retweet_count</th>\n",
       "    </tr>\n",
       "  </thead>\n",
       "  <tbody>\n",
       "    <tr>\n",
       "      <th>1023</th>\n",
       "      <td>746521445350707200</td>\n",
       "      <td>NaN</td>\n",
       "      <td>NaN</td>\n",
       "      <td>2016-06-25 01:52:36 +0000</td>\n",
       "      <td>&lt;a href=\"http://twitter.com/download/iphone\" r...</td>\n",
       "      <td>RT @dog_rates: This is Shaggy. He knows exactl...</td>\n",
       "      <td>6.678667e+17</td>\n",
       "      <td>4.196984e+09</td>\n",
       "      <td>2015-11-21 00:46:50+00:00</td>\n",
       "      <td>https://twitter.com/dog_rates/status/667866724...</td>\n",
       "      <td>10</td>\n",
       "      <td>10</td>\n",
       "      <td>Shaggy</td>\n",
       "      <td>None</td>\n",
       "      <td>None</td>\n",
       "      <td>None</td>\n",
       "      <td>None</td>\n",
       "      <td>0</td>\n",
       "      <td>902</td>\n",
       "    </tr>\n",
       "    <tr>\n",
       "      <th>541</th>\n",
       "      <td>806242860592926720</td>\n",
       "      <td>NaN</td>\n",
       "      <td>NaN</td>\n",
       "      <td>2016-12-06 21:04:11 +0000</td>\n",
       "      <td>&lt;a href=\"http://twitter.com/download/iphone\" r...</td>\n",
       "      <td>RT @dog_rates: This is Dave. He's currently in...</td>\n",
       "      <td>7.833346e+17</td>\n",
       "      <td>4.196984e+09</td>\n",
       "      <td>2016-10-04 15:55:06+00:00</td>\n",
       "      <td>https://twitter.com/dog_rates/status/783334639...</td>\n",
       "      <td>12</td>\n",
       "      <td>10</td>\n",
       "      <td>Dave</td>\n",
       "      <td>None</td>\n",
       "      <td>None</td>\n",
       "      <td>None</td>\n",
       "      <td>None</td>\n",
       "      <td>0</td>\n",
       "      <td>10907</td>\n",
       "    </tr>\n",
       "  </tbody>\n",
       "</table>\n",
       "</div>"
      ],
      "text/plain": [
       "                tweet_id  in_reply_to_status_id  in_reply_to_user_id  \\\n",
       "1023  746521445350707200                    NaN                  NaN   \n",
       "541   806242860592926720                    NaN                  NaN   \n",
       "\n",
       "                      timestamp  \\\n",
       "1023  2016-06-25 01:52:36 +0000   \n",
       "541   2016-12-06 21:04:11 +0000   \n",
       "\n",
       "                                                 source  \\\n",
       "1023  <a href=\"http://twitter.com/download/iphone\" r...   \n",
       "541   <a href=\"http://twitter.com/download/iphone\" r...   \n",
       "\n",
       "                                                   text  retweeted_status_id  \\\n",
       "1023  RT @dog_rates: This is Shaggy. He knows exactl...         6.678667e+17   \n",
       "541   RT @dog_rates: This is Dave. He's currently in...         7.833346e+17   \n",
       "\n",
       "      retweeted_status_user_id retweeted_status_timestamp  \\\n",
       "1023              4.196984e+09  2015-11-21 00:46:50+00:00   \n",
       "541               4.196984e+09  2016-10-04 15:55:06+00:00   \n",
       "\n",
       "                                          expanded_urls  rating_numerator  \\\n",
       "1023  https://twitter.com/dog_rates/status/667866724...                10   \n",
       "541   https://twitter.com/dog_rates/status/783334639...                12   \n",
       "\n",
       "      rating_denominator    name doggo floofer pupper puppo  favorite_count  \\\n",
       "1023                  10  Shaggy  None    None   None  None               0   \n",
       "541                   10    Dave  None    None   None  None               0   \n",
       "\n",
       "      retweet_count  \n",
       "1023            902  \n",
       "541           10907  "
      ]
     },
     "execution_count": 117,
     "metadata": {},
     "output_type": "execute_result"
    }
   ],
   "source": [
    "retweets.sample(2)"
   ]
  },
  {
   "cell_type": "markdown",
   "id": "a482fb79",
   "metadata": {},
   "source": [
    "**Make `retweeted_status_id, retweeted_status_user_id` to become human readable floats**"
   ]
  },
  {
   "cell_type": "code",
   "execution_count": 47,
   "id": "731bb1a4",
   "metadata": {},
   "outputs": [],
   "source": [
    "retweets = retweets.astype({'retweeted_status_id':'float','retweeted_status_user_id':'float'})"
   ]
  },
  {
   "cell_type": "markdown",
   "id": "01b6d2d9",
   "metadata": {},
   "source": [
    "#### Testing"
   ]
  },
  {
   "cell_type": "code",
   "execution_count": 121,
   "id": "4a58b8a2",
   "metadata": {},
   "outputs": [
    {
     "data": {
      "text/plain": [
       "tweet_id                                    int64\n",
       "in_reply_to_status_id                       int64\n",
       "in_reply_to_user_id                         int64\n",
       "timestamp                                  object\n",
       "source                                     object\n",
       "text                                       object\n",
       "retweeted_status_id                       float64\n",
       "retweeted_status_user_id                  float64\n",
       "retweeted_status_timestamp    datetime64[ns, UTC]\n",
       "expanded_urls                              object\n",
       "rating_numerator                            int64\n",
       "rating_denominator                          int64\n",
       "name                                       object\n",
       "doggo                                      object\n",
       "floofer                                    object\n",
       "pupper                                     object\n",
       "puppo                                      object\n",
       "favorite_count                              int64\n",
       "retweet_count                               int64\n",
       "dtype: object"
      ]
     },
     "execution_count": 121,
     "metadata": {},
     "output_type": "execute_result"
    }
   ],
   "source": [
    "retweets.dtypes"
   ]
  },
  {
   "cell_type": "code",
   "execution_count": 53,
   "id": "b1c0772c",
   "metadata": {},
   "outputs": [],
   "source": [
    "#retweets['retweeted_status_id'] = retweets['retweeted_status_id'].round(5)\n",
    "retweets['retweeted_status_id'] = retweets['retweeted_status_id'].apply(lambda x: '%.0f' % x)\n",
    "retweets['retweeted_status_user_id'] = retweets['retweeted_status_user_id'].apply(lambda x: '%.f' % x)"
   ]
  },
  {
   "cell_type": "markdown",
   "id": "aed89246",
   "metadata": {},
   "source": [
    "#### Testing"
   ]
  },
  {
   "cell_type": "code",
   "execution_count": 55,
   "id": "d00f2c3b",
   "metadata": {},
   "outputs": [
    {
     "data": {
      "text/plain": [
       "tweet_id                                    int64\n",
       "timestamp                                  object\n",
       "source                                     object\n",
       "text                                       object\n",
       "retweeted_status_id                        object\n",
       "retweeted_status_user_id                   object\n",
       "retweeted_status_timestamp    datetime64[ns, UTC]\n",
       "expanded_urls                              object\n",
       "rating_numerator                            int64\n",
       "rating_denominator                          int64\n",
       "name                                       object\n",
       "doggo                                      object\n",
       "floofer                                    object\n",
       "pupper                                     object\n",
       "puppo                                      object\n",
       "favorite_count                              int64\n",
       "retweet_count                               int64\n",
       "dtype: object"
      ]
     },
     "execution_count": 55,
     "metadata": {},
     "output_type": "execute_result"
    }
   ],
   "source": [
    "retweets.dtypes"
   ]
  },
  {
   "cell_type": "code",
   "execution_count": 56,
   "id": "3aadd539",
   "metadata": {},
   "outputs": [
    {
     "data": {
      "text/html": [
       "<div>\n",
       "<style scoped>\n",
       "    .dataframe tbody tr th:only-of-type {\n",
       "        vertical-align: middle;\n",
       "    }\n",
       "\n",
       "    .dataframe tbody tr th {\n",
       "        vertical-align: top;\n",
       "    }\n",
       "\n",
       "    .dataframe thead th {\n",
       "        text-align: right;\n",
       "    }\n",
       "</style>\n",
       "<table border=\"1\" class=\"dataframe\">\n",
       "  <thead>\n",
       "    <tr style=\"text-align: right;\">\n",
       "      <th></th>\n",
       "      <th>tweet_id</th>\n",
       "      <th>timestamp</th>\n",
       "      <th>source</th>\n",
       "      <th>text</th>\n",
       "      <th>retweeted_status_id</th>\n",
       "      <th>retweeted_status_user_id</th>\n",
       "      <th>retweeted_status_timestamp</th>\n",
       "      <th>expanded_urls</th>\n",
       "      <th>rating_numerator</th>\n",
       "      <th>rating_denominator</th>\n",
       "      <th>name</th>\n",
       "      <th>doggo</th>\n",
       "      <th>floofer</th>\n",
       "      <th>pupper</th>\n",
       "      <th>puppo</th>\n",
       "      <th>favorite_count</th>\n",
       "      <th>retweet_count</th>\n",
       "    </tr>\n",
       "  </thead>\n",
       "  <tbody>\n",
       "    <tr>\n",
       "      <th>596</th>\n",
       "      <td>798697898615730177</td>\n",
       "      <td>2016-11-16 01:23:12 +0000</td>\n",
       "      <td>&lt;a href=\"http://twitter.com/download/iphone\" r...</td>\n",
       "      <td>RT @dog_rates: This is Stubert. He just arrive...</td>\n",
       "      <td>712809025985978368</td>\n",
       "      <td>4196983835</td>\n",
       "      <td>2016-03-24 01:11:29+00:00</td>\n",
       "      <td>https://twitter.com/dog_rates/status/712809025...</td>\n",
       "      <td>10</td>\n",
       "      <td>10</td>\n",
       "      <td>Stubert</td>\n",
       "      <td>None</td>\n",
       "      <td>None</td>\n",
       "      <td>None</td>\n",
       "      <td>None</td>\n",
       "      <td>0</td>\n",
       "      <td>6114</td>\n",
       "    </tr>\n",
       "    <tr>\n",
       "      <th>406</th>\n",
       "      <td>823719002937630720</td>\n",
       "      <td>2017-01-24 02:28:08 +0000</td>\n",
       "      <td>&lt;a href=\"http://twitter.com/download/iphone\" r...</td>\n",
       "      <td>RT @dog_rates: This is Balto. He's very conten...</td>\n",
       "      <td>784057939640352768</td>\n",
       "      <td>4196983835</td>\n",
       "      <td>2016-10-06 15:49:14+00:00</td>\n",
       "      <td>https://vine.co/v/5gKxeUpuKEr,https://vine.co/...</td>\n",
       "      <td>12</td>\n",
       "      <td>10</td>\n",
       "      <td>Balto</td>\n",
       "      <td>None</td>\n",
       "      <td>None</td>\n",
       "      <td>None</td>\n",
       "      <td>None</td>\n",
       "      <td>0</td>\n",
       "      <td>10381</td>\n",
       "    </tr>\n",
       "    <tr>\n",
       "      <th>605</th>\n",
       "      <td>798576900688019456</td>\n",
       "      <td>2016-11-15 17:22:24 +0000</td>\n",
       "      <td>&lt;a href=\"http://twitter.com/download/iphone\" r...</td>\n",
       "      <td>RT @dog_rates: Not familiar with this breed. N...</td>\n",
       "      <td>666104133288665088</td>\n",
       "      <td>4196983835</td>\n",
       "      <td>2015-11-16 04:02:55+00:00</td>\n",
       "      <td>https://twitter.com/dog_rates/status/666104133...</td>\n",
       "      <td>1</td>\n",
       "      <td>10</td>\n",
       "      <td>None</td>\n",
       "      <td>None</td>\n",
       "      <td>None</td>\n",
       "      <td>None</td>\n",
       "      <td>None</td>\n",
       "      <td>0</td>\n",
       "      <td>5498</td>\n",
       "    </tr>\n",
       "    <tr>\n",
       "      <th>327</th>\n",
       "      <td>833732339549220864</td>\n",
       "      <td>2017-02-20 17:37:34 +0000</td>\n",
       "      <td>&lt;a href=\"http://twitter.com/download/iphone\" r...</td>\n",
       "      <td>RT @rolltidered: This is Gabby. Now requests t...</td>\n",
       "      <td>832434358292209664</td>\n",
       "      <td>44667502</td>\n",
       "      <td>2017-02-17 03:39:51+00:00</td>\n",
       "      <td>https://twitter.com/rolltidered/status/8324343...</td>\n",
       "      <td>12</td>\n",
       "      <td>10</td>\n",
       "      <td>Gabby</td>\n",
       "      <td>None</td>\n",
       "      <td>None</td>\n",
       "      <td>None</td>\n",
       "      <td>None</td>\n",
       "      <td>0</td>\n",
       "      <td>205</td>\n",
       "    </tr>\n",
       "    <tr>\n",
       "      <th>465</th>\n",
       "      <td>817181837579653120</td>\n",
       "      <td>2017-01-06 01:31:47 +0000</td>\n",
       "      <td>&lt;a href=\"http://twitter.com/download/iphone\" r...</td>\n",
       "      <td>RT @dog_rates: Here's a pupper with squeaky hi...</td>\n",
       "      <td>815966073409433600</td>\n",
       "      <td>4196983835</td>\n",
       "      <td>2017-01-02 17:00:46+00:00</td>\n",
       "      <td>https://twitter.com/dog_rates/status/815966073...</td>\n",
       "      <td>13</td>\n",
       "      <td>10</td>\n",
       "      <td>None</td>\n",
       "      <td>None</td>\n",
       "      <td>None</td>\n",
       "      <td>pupper</td>\n",
       "      <td>None</td>\n",
       "      <td>0</td>\n",
       "      <td>7888</td>\n",
       "    </tr>\n",
       "  </tbody>\n",
       "</table>\n",
       "</div>"
      ],
      "text/plain": [
       "               tweet_id                  timestamp  \\\n",
       "596  798697898615730177  2016-11-16 01:23:12 +0000   \n",
       "406  823719002937630720  2017-01-24 02:28:08 +0000   \n",
       "605  798576900688019456  2016-11-15 17:22:24 +0000   \n",
       "327  833732339549220864  2017-02-20 17:37:34 +0000   \n",
       "465  817181837579653120  2017-01-06 01:31:47 +0000   \n",
       "\n",
       "                                                source  \\\n",
       "596  <a href=\"http://twitter.com/download/iphone\" r...   \n",
       "406  <a href=\"http://twitter.com/download/iphone\" r...   \n",
       "605  <a href=\"http://twitter.com/download/iphone\" r...   \n",
       "327  <a href=\"http://twitter.com/download/iphone\" r...   \n",
       "465  <a href=\"http://twitter.com/download/iphone\" r...   \n",
       "\n",
       "                                                  text retweeted_status_id  \\\n",
       "596  RT @dog_rates: This is Stubert. He just arrive...  712809025985978368   \n",
       "406  RT @dog_rates: This is Balto. He's very conten...  784057939640352768   \n",
       "605  RT @dog_rates: Not familiar with this breed. N...  666104133288665088   \n",
       "327  RT @rolltidered: This is Gabby. Now requests t...  832434358292209664   \n",
       "465  RT @dog_rates: Here's a pupper with squeaky hi...  815966073409433600   \n",
       "\n",
       "    retweeted_status_user_id retweeted_status_timestamp  \\\n",
       "596               4196983835  2016-03-24 01:11:29+00:00   \n",
       "406               4196983835  2016-10-06 15:49:14+00:00   \n",
       "605               4196983835  2015-11-16 04:02:55+00:00   \n",
       "327                 44667502  2017-02-17 03:39:51+00:00   \n",
       "465               4196983835  2017-01-02 17:00:46+00:00   \n",
       "\n",
       "                                         expanded_urls  rating_numerator  \\\n",
       "596  https://twitter.com/dog_rates/status/712809025...                10   \n",
       "406  https://vine.co/v/5gKxeUpuKEr,https://vine.co/...                12   \n",
       "605  https://twitter.com/dog_rates/status/666104133...                 1   \n",
       "327  https://twitter.com/rolltidered/status/8324343...                12   \n",
       "465  https://twitter.com/dog_rates/status/815966073...                13   \n",
       "\n",
       "     rating_denominator     name doggo floofer  pupper puppo  favorite_count  \\\n",
       "596                  10  Stubert  None    None    None  None               0   \n",
       "406                  10    Balto  None    None    None  None               0   \n",
       "605                  10     None  None    None    None  None               0   \n",
       "327                  10    Gabby  None    None    None  None               0   \n",
       "465                  10     None  None    None  pupper  None               0   \n",
       "\n",
       "     retweet_count  \n",
       "596           6114  \n",
       "406          10381  \n",
       "605           5498  \n",
       "327            205  \n",
       "465           7888  "
      ]
     },
     "execution_count": 56,
     "metadata": {},
     "output_type": "execute_result"
    }
   ],
   "source": [
    "retweets.sample(5)"
   ]
  },
  {
   "cell_type": "markdown",
   "id": "52cda9c3",
   "metadata": {},
   "source": [
    "**Convert timestamp to datetime and rename it to tweet_timestamp**"
   ]
  },
  {
   "cell_type": "code",
   "execution_count": 57,
   "id": "53d2eccc",
   "metadata": {},
   "outputs": [],
   "source": [
    "retweets = retweets.rename(columns={'timestamp':'tweet_timestamp'})"
   ]
  },
  {
   "cell_type": "code",
   "execution_count": 58,
   "id": "44a6b160",
   "metadata": {},
   "outputs": [],
   "source": [
    "retweets['tweet_timestamp'] = pd.to_datetime(retweets['tweet_timestamp'])"
   ]
  },
  {
   "cell_type": "markdown",
   "id": "82b9feac",
   "metadata": {},
   "source": [
    "#### Testing"
   ]
  },
  {
   "cell_type": "code",
   "execution_count": 59,
   "id": "d0f4c6f4",
   "metadata": {},
   "outputs": [
    {
     "data": {
      "text/plain": [
       "tweet_id                                    int64\n",
       "tweet_timestamp               datetime64[ns, UTC]\n",
       "source                                     object\n",
       "text                                       object\n",
       "retweeted_status_id                        object\n",
       "retweeted_status_user_id                   object\n",
       "retweeted_status_timestamp    datetime64[ns, UTC]\n",
       "expanded_urls                              object\n",
       "rating_numerator                            int64\n",
       "rating_denominator                          int64\n",
       "name                                       object\n",
       "doggo                                      object\n",
       "floofer                                    object\n",
       "pupper                                     object\n",
       "puppo                                      object\n",
       "favorite_count                              int64\n",
       "retweet_count                               int64\n",
       "dtype: object"
      ]
     },
     "execution_count": 59,
     "metadata": {},
     "output_type": "execute_result"
    }
   ],
   "source": [
    "retweets.dtypes"
   ]
  },
  {
   "cell_type": "code",
   "execution_count": 60,
   "id": "fabd916d",
   "metadata": {},
   "outputs": [
    {
     "data": {
      "text/html": [
       "<div>\n",
       "<style scoped>\n",
       "    .dataframe tbody tr th:only-of-type {\n",
       "        vertical-align: middle;\n",
       "    }\n",
       "\n",
       "    .dataframe tbody tr th {\n",
       "        vertical-align: top;\n",
       "    }\n",
       "\n",
       "    .dataframe thead th {\n",
       "        text-align: right;\n",
       "    }\n",
       "</style>\n",
       "<table border=\"1\" class=\"dataframe\">\n",
       "  <thead>\n",
       "    <tr style=\"text-align: right;\">\n",
       "      <th></th>\n",
       "      <th>tweet_id</th>\n",
       "      <th>tweet_timestamp</th>\n",
       "      <th>source</th>\n",
       "      <th>text</th>\n",
       "      <th>retweeted_status_id</th>\n",
       "      <th>retweeted_status_user_id</th>\n",
       "      <th>retweeted_status_timestamp</th>\n",
       "      <th>expanded_urls</th>\n",
       "      <th>rating_numerator</th>\n",
       "      <th>rating_denominator</th>\n",
       "      <th>name</th>\n",
       "      <th>doggo</th>\n",
       "      <th>floofer</th>\n",
       "      <th>pupper</th>\n",
       "      <th>puppo</th>\n",
       "      <th>favorite_count</th>\n",
       "      <th>retweet_count</th>\n",
       "    </tr>\n",
       "  </thead>\n",
       "  <tbody>\n",
       "    <tr>\n",
       "      <th>399</th>\n",
       "      <td>824796380199809024</td>\n",
       "      <td>2017-01-27 01:49:15+00:00</td>\n",
       "      <td>&lt;a href=\"http://twitter.com/download/iphone\" r...</td>\n",
       "      <td>RT @dog_rates: This is Bailey. She loves going...</td>\n",
       "      <td>795076730285391872</td>\n",
       "      <td>4196983835</td>\n",
       "      <td>2016-11-06 01:33:58+00:00</td>\n",
       "      <td>https://twitter.com/dog_rates/status/795076730...</td>\n",
       "      <td>11</td>\n",
       "      <td>10</td>\n",
       "      <td>Bailey</td>\n",
       "      <td>None</td>\n",
       "      <td>None</td>\n",
       "      <td>None</td>\n",
       "      <td>None</td>\n",
       "      <td>0</td>\n",
       "      <td>5111</td>\n",
       "    </tr>\n",
       "    <tr>\n",
       "      <th>319</th>\n",
       "      <td>834477809192075265</td>\n",
       "      <td>2017-02-22 18:59:48+00:00</td>\n",
       "      <td>&lt;a href=\"http://twitter.com/download/iphone\" r...</td>\n",
       "      <td>RT @dog_rates: This is Leo. He was a skater pu...</td>\n",
       "      <td>829501995190984704</td>\n",
       "      <td>4196983835</td>\n",
       "      <td>2017-02-09 01:27:41+00:00</td>\n",
       "      <td>https://twitter.com/dog_rates/status/829501995...</td>\n",
       "      <td>12</td>\n",
       "      <td>10</td>\n",
       "      <td>Leo</td>\n",
       "      <td>None</td>\n",
       "      <td>None</td>\n",
       "      <td>None</td>\n",
       "      <td>None</td>\n",
       "      <td>0</td>\n",
       "      <td>9808</td>\n",
       "    </tr>\n",
       "  </tbody>\n",
       "</table>\n",
       "</div>"
      ],
      "text/plain": [
       "               tweet_id           tweet_timestamp  \\\n",
       "399  824796380199809024 2017-01-27 01:49:15+00:00   \n",
       "319  834477809192075265 2017-02-22 18:59:48+00:00   \n",
       "\n",
       "                                                source  \\\n",
       "399  <a href=\"http://twitter.com/download/iphone\" r...   \n",
       "319  <a href=\"http://twitter.com/download/iphone\" r...   \n",
       "\n",
       "                                                  text retweeted_status_id  \\\n",
       "399  RT @dog_rates: This is Bailey. She loves going...  795076730285391872   \n",
       "319  RT @dog_rates: This is Leo. He was a skater pu...  829501995190984704   \n",
       "\n",
       "    retweeted_status_user_id retweeted_status_timestamp  \\\n",
       "399               4196983835  2016-11-06 01:33:58+00:00   \n",
       "319               4196983835  2017-02-09 01:27:41+00:00   \n",
       "\n",
       "                                         expanded_urls  rating_numerator  \\\n",
       "399  https://twitter.com/dog_rates/status/795076730...                11   \n",
       "319  https://twitter.com/dog_rates/status/829501995...                12   \n",
       "\n",
       "     rating_denominator    name doggo floofer pupper puppo  favorite_count  \\\n",
       "399                  10  Bailey  None    None   None  None               0   \n",
       "319                  10     Leo  None    None   None  None               0   \n",
       "\n",
       "     retweet_count  \n",
       "399           5111  \n",
       "319           9808  "
      ]
     },
     "execution_count": 60,
     "metadata": {},
     "output_type": "execute_result"
    }
   ],
   "source": [
    "retweets.sample(2)"
   ]
  },
  {
   "cell_type": "markdown",
   "id": "ed6500f5",
   "metadata": {},
   "source": [
    "**Melt df_master and retweet columns to form rows instead.**"
   ]
  },
  {
   "cell_type": "code",
   "execution_count": 61,
   "id": "685a0fbe",
   "metadata": {},
   "outputs": [
    {
     "data": {
      "text/plain": [
       "Index(['tweet_id', 'tweet_timestamp', 'source', 'text', 'expanded_urls',\n",
       "       'rating_numerator', 'rating_denominator', 'name', 'doggo', 'floofer',\n",
       "       'pupper', 'puppo', 'favorite_count', 'retweet_count', 'Unnamed: 0',\n",
       "       'jpg_url', 'img_num', 'tp1', 'tp1_confidence', 'tp1_dog', 'tp2',\n",
       "       'tp2_confidence', 'tp2_dog', 'tp3', 'tp3_confidence', 'tp3_dog'],\n",
       "      dtype='object')"
      ]
     },
     "execution_count": 61,
     "metadata": {},
     "output_type": "execute_result"
    }
   ],
   "source": [
    "df_master.columns"
   ]
  },
  {
   "cell_type": "code",
   "execution_count": 62,
   "id": "deca1e2e",
   "metadata": {},
   "outputs": [],
   "source": [
    "columns_to_keep_in_retweet = ['tweet_id','tweet_timestamp','source','text','retweeted_status_id','retweeted_status_user_id','retweeted_status_timestamp','expanded_urls','rating_numerator','rating_denominator','name']\n",
    "columns_to_keep_in_master = ['tweet_id','tweet_timestamp','source','text','expanded_urls','rating_numerator','rating_denominator','name','img_num','tp1','tp1_confidence','tp1_dog','tp2','tp2_confidence','tp2_dog','tp3','tp3_confidence','tp3_dog']\n",
    "columns_to_melt = ['doggo','floofer','pupper','puppo']\n",
    "df_master_unpivoted = df_master.melt(columns_to_keep_in_master,columns_to_melt,'growth_stage','growth_stage_value')"
   ]
  },
  {
   "cell_type": "code",
   "execution_count": 63,
   "id": "00652061",
   "metadata": {},
   "outputs": [],
   "source": [
    "retweets_unpivoted = retweets.melt(columns_to_keep_in_retweet,columns_to_melt,'growth_stage','growth_stage_value')"
   ]
  },
  {
   "cell_type": "markdown",
   "id": "7c6c67a2",
   "metadata": {},
   "source": [
    "#### Testing"
   ]
  },
  {
   "cell_type": "code",
   "execution_count": 64,
   "id": "bdf3d642",
   "metadata": {},
   "outputs": [
    {
     "data": {
      "text/html": [
       "<div>\n",
       "<style scoped>\n",
       "    .dataframe tbody tr th:only-of-type {\n",
       "        vertical-align: middle;\n",
       "    }\n",
       "\n",
       "    .dataframe tbody tr th {\n",
       "        vertical-align: top;\n",
       "    }\n",
       "\n",
       "    .dataframe thead th {\n",
       "        text-align: right;\n",
       "    }\n",
       "</style>\n",
       "<table border=\"1\" class=\"dataframe\">\n",
       "  <thead>\n",
       "    <tr style=\"text-align: right;\">\n",
       "      <th></th>\n",
       "      <th>tweet_id</th>\n",
       "      <th>tweet_timestamp</th>\n",
       "      <th>source</th>\n",
       "      <th>text</th>\n",
       "      <th>retweeted_status_id</th>\n",
       "      <th>retweeted_status_user_id</th>\n",
       "      <th>retweeted_status_timestamp</th>\n",
       "      <th>expanded_urls</th>\n",
       "      <th>rating_numerator</th>\n",
       "      <th>rating_denominator</th>\n",
       "      <th>name</th>\n",
       "      <th>growth_stage</th>\n",
       "      <th>growth_stage_value</th>\n",
       "    </tr>\n",
       "  </thead>\n",
       "  <tbody>\n",
       "    <tr>\n",
       "      <th>182</th>\n",
       "      <td>847978865427394560</td>\n",
       "      <td>2017-04-01 01:08:10+00:00</td>\n",
       "      <td>&lt;a href=\"http://twitter.com/download/iphone\" r...</td>\n",
       "      <td>RT @dog_rates: This is Charlie. He fell asleep...</td>\n",
       "      <td>832369877331693568</td>\n",
       "      <td>4196983835</td>\n",
       "      <td>2017-02-16 23:23:38+00:00</td>\n",
       "      <td>https://twitter.com/dog_rates/status/832369877...</td>\n",
       "      <td>11</td>\n",
       "      <td>10</td>\n",
       "      <td>Charlie</td>\n",
       "      <td>floofer</td>\n",
       "      <td>None</td>\n",
       "    </tr>\n",
       "    <tr>\n",
       "      <th>216</th>\n",
       "      <td>820494788566847489</td>\n",
       "      <td>2017-01-15 04:56:16+00:00</td>\n",
       "      <td>&lt;a href=\"http://twitter.com/download/iphone\" r...</td>\n",
       "      <td>RT @dog_rates: We are proud to support @LoveYo...</td>\n",
       "      <td>820314633777061888</td>\n",
       "      <td>4196983835</td>\n",
       "      <td>2017-01-14 17:00:24+00:00</td>\n",
       "      <td>https://www.loveyourmelon.com/pages/ourstory,h...</td>\n",
       "      <td>14</td>\n",
       "      <td>10</td>\n",
       "      <td>None</td>\n",
       "      <td>floofer</td>\n",
       "      <td>None</td>\n",
       "    </tr>\n",
       "    <tr>\n",
       "      <th>596</th>\n",
       "      <td>789280767834746880</td>\n",
       "      <td>2016-10-21 01:42:53+00:00</td>\n",
       "      <td>&lt;a href=\"http://twitter.com/download/iphone\" r...</td>\n",
       "      <td>RT @dog_rates: This is Meyer. He has to hold s...</td>\n",
       "      <td>750719632563142656</td>\n",
       "      <td>4196983835</td>\n",
       "      <td>2016-07-06 15:54:42+00:00</td>\n",
       "      <td>https://twitter.com/dog_rates/status/750719632...</td>\n",
       "      <td>12</td>\n",
       "      <td>10</td>\n",
       "      <td>Meyer</td>\n",
       "      <td>puppo</td>\n",
       "      <td>None</td>\n",
       "    </tr>\n",
       "    <tr>\n",
       "      <th>202</th>\n",
       "      <td>832040443403784192</td>\n",
       "      <td>2017-02-16 01:34:34+00:00</td>\n",
       "      <td>&lt;a href=\"http://twitter.com/download/iphone\" r...</td>\n",
       "      <td>RT @dog_rates: This is Klein. These pics were ...</td>\n",
       "      <td>769940425801170944</td>\n",
       "      <td>4196983835</td>\n",
       "      <td>2016-08-28 16:51:16+00:00</td>\n",
       "      <td>https://twitter.com/dog_rates/status/769940425...</td>\n",
       "      <td>12</td>\n",
       "      <td>10</td>\n",
       "      <td>Klein</td>\n",
       "      <td>floofer</td>\n",
       "      <td>None</td>\n",
       "    </tr>\n",
       "    <tr>\n",
       "      <th>286</th>\n",
       "      <td>780092040432480260</td>\n",
       "      <td>2016-09-25 17:10:10+00:00</td>\n",
       "      <td>&lt;a href=\"http://twitter.com/download/iphone\" r...</td>\n",
       "      <td>RT @dog_rates: This is Hank. He's mischievous ...</td>\n",
       "      <td>753375668877008896</td>\n",
       "      <td>4196983835</td>\n",
       "      <td>2016-07-13 23:48:51+00:00</td>\n",
       "      <td>https://twitter.com/dog_rates/status/753375668...</td>\n",
       "      <td>8</td>\n",
       "      <td>10</td>\n",
       "      <td>Hank</td>\n",
       "      <td>floofer</td>\n",
       "      <td>None</td>\n",
       "    </tr>\n",
       "  </tbody>\n",
       "</table>\n",
       "</div>"
      ],
      "text/plain": [
       "               tweet_id           tweet_timestamp  \\\n",
       "182  847978865427394560 2017-04-01 01:08:10+00:00   \n",
       "216  820494788566847489 2017-01-15 04:56:16+00:00   \n",
       "596  789280767834746880 2016-10-21 01:42:53+00:00   \n",
       "202  832040443403784192 2017-02-16 01:34:34+00:00   \n",
       "286  780092040432480260 2016-09-25 17:10:10+00:00   \n",
       "\n",
       "                                                source  \\\n",
       "182  <a href=\"http://twitter.com/download/iphone\" r...   \n",
       "216  <a href=\"http://twitter.com/download/iphone\" r...   \n",
       "596  <a href=\"http://twitter.com/download/iphone\" r...   \n",
       "202  <a href=\"http://twitter.com/download/iphone\" r...   \n",
       "286  <a href=\"http://twitter.com/download/iphone\" r...   \n",
       "\n",
       "                                                  text retweeted_status_id  \\\n",
       "182  RT @dog_rates: This is Charlie. He fell asleep...  832369877331693568   \n",
       "216  RT @dog_rates: We are proud to support @LoveYo...  820314633777061888   \n",
       "596  RT @dog_rates: This is Meyer. He has to hold s...  750719632563142656   \n",
       "202  RT @dog_rates: This is Klein. These pics were ...  769940425801170944   \n",
       "286  RT @dog_rates: This is Hank. He's mischievous ...  753375668877008896   \n",
       "\n",
       "    retweeted_status_user_id retweeted_status_timestamp  \\\n",
       "182               4196983835  2017-02-16 23:23:38+00:00   \n",
       "216               4196983835  2017-01-14 17:00:24+00:00   \n",
       "596               4196983835  2016-07-06 15:54:42+00:00   \n",
       "202               4196983835  2016-08-28 16:51:16+00:00   \n",
       "286               4196983835  2016-07-13 23:48:51+00:00   \n",
       "\n",
       "                                         expanded_urls  rating_numerator  \\\n",
       "182  https://twitter.com/dog_rates/status/832369877...                11   \n",
       "216  https://www.loveyourmelon.com/pages/ourstory,h...                14   \n",
       "596  https://twitter.com/dog_rates/status/750719632...                12   \n",
       "202  https://twitter.com/dog_rates/status/769940425...                12   \n",
       "286  https://twitter.com/dog_rates/status/753375668...                 8   \n",
       "\n",
       "     rating_denominator     name growth_stage growth_stage_value  \n",
       "182                  10  Charlie      floofer               None  \n",
       "216                  10     None      floofer               None  \n",
       "596                  10    Meyer        puppo               None  \n",
       "202                  10    Klein      floofer               None  \n",
       "286                  10     Hank      floofer               None  "
      ]
     },
     "execution_count": 64,
     "metadata": {},
     "output_type": "execute_result"
    }
   ],
   "source": [
    "retweets_unpivoted.sample(5)"
   ]
  },
  {
   "cell_type": "code",
   "execution_count": 66,
   "id": "4b49363b",
   "metadata": {},
   "outputs": [
    {
     "data": {
      "text/html": [
       "<div>\n",
       "<style scoped>\n",
       "    .dataframe tbody tr th:only-of-type {\n",
       "        vertical-align: middle;\n",
       "    }\n",
       "\n",
       "    .dataframe tbody tr th {\n",
       "        vertical-align: top;\n",
       "    }\n",
       "\n",
       "    .dataframe thead th {\n",
       "        text-align: right;\n",
       "    }\n",
       "</style>\n",
       "<table border=\"1\" class=\"dataframe\">\n",
       "  <thead>\n",
       "    <tr style=\"text-align: right;\">\n",
       "      <th></th>\n",
       "      <th>tweet_id</th>\n",
       "      <th>tweet_timestamp</th>\n",
       "      <th>source</th>\n",
       "      <th>text</th>\n",
       "      <th>expanded_urls</th>\n",
       "      <th>rating_numerator</th>\n",
       "      <th>rating_denominator</th>\n",
       "      <th>name</th>\n",
       "      <th>img_num</th>\n",
       "      <th>tp1</th>\n",
       "      <th>tp1_confidence</th>\n",
       "      <th>tp1_dog</th>\n",
       "      <th>tp2</th>\n",
       "      <th>tp2_confidence</th>\n",
       "      <th>tp2_dog</th>\n",
       "      <th>tp3</th>\n",
       "      <th>tp3_confidence</th>\n",
       "      <th>tp3_dog</th>\n",
       "      <th>growth_stage</th>\n",
       "      <th>growth_stage_value</th>\n",
       "    </tr>\n",
       "  </thead>\n",
       "  <tbody>\n",
       "    <tr>\n",
       "      <th>6187</th>\n",
       "      <td>675372240448454658</td>\n",
       "      <td>2015-12-11 17:51:04+00:00</td>\n",
       "      <td>&lt;a href=\"http://twitter.com/download/iphone\" r...</td>\n",
       "      <td>The tail alone is 13/10. Great dog, better own...</td>\n",
       "      <td>https://twitter.com/dog_rates/status/675372240...</td>\n",
       "      <td>13.0</td>\n",
       "      <td>10.0</td>\n",
       "      <td>None</td>\n",
       "      <td>1.0</td>\n",
       "      <td>Chihuahua</td>\n",
       "      <td>0.416385</td>\n",
       "      <td>True</td>\n",
       "      <td>West_Highland_white_terrier</td>\n",
       "      <td>0.102933</td>\n",
       "      <td>True</td>\n",
       "      <td>Samoyed</td>\n",
       "      <td>0.087300</td>\n",
       "      <td>True</td>\n",
       "      <td>pupper</td>\n",
       "      <td>None</td>\n",
       "    </tr>\n",
       "    <tr>\n",
       "      <th>561</th>\n",
       "      <td>785872687017132033</td>\n",
       "      <td>2016-10-11 16:00:24+00:00</td>\n",
       "      <td>&lt;a href=\"http://twitter.com/download/iphone\" r...</td>\n",
       "      <td>Meet Rusty. He appears to be rather h*ckin flu...</td>\n",
       "      <td>https://twitter.com/dog_rates/status/785872687...</td>\n",
       "      <td>12.0</td>\n",
       "      <td>10.0</td>\n",
       "      <td>Rusty</td>\n",
       "      <td>1.0</td>\n",
       "      <td>Great_Pyrenees</td>\n",
       "      <td>0.392108</td>\n",
       "      <td>True</td>\n",
       "      <td>golden_retriever</td>\n",
       "      <td>0.198358</td>\n",
       "      <td>True</td>\n",
       "      <td>Pekinese</td>\n",
       "      <td>0.143328</td>\n",
       "      <td>True</td>\n",
       "      <td>doggo</td>\n",
       "      <td>None</td>\n",
       "    </tr>\n",
       "    <tr>\n",
       "      <th>7948</th>\n",
       "      <td>702598099714314240</td>\n",
       "      <td>2016-02-24 20:56:55+00:00</td>\n",
       "      <td>&lt;a href=\"http://twitter.com/download/iphone\" r...</td>\n",
       "      <td>This is Sansa. She's gotten too big for her ch...</td>\n",
       "      <td>https://twitter.com/dog_rates/status/702598099...</td>\n",
       "      <td>11.0</td>\n",
       "      <td>10.0</td>\n",
       "      <td>Sansa</td>\n",
       "      <td>1.0</td>\n",
       "      <td>kelpie</td>\n",
       "      <td>0.219179</td>\n",
       "      <td>True</td>\n",
       "      <td>badger</td>\n",
       "      <td>0.133584</td>\n",
       "      <td>False</td>\n",
       "      <td>Siamese_cat</td>\n",
       "      <td>0.074440</td>\n",
       "      <td>False</td>\n",
       "      <td>puppo</td>\n",
       "      <td>None</td>\n",
       "    </tr>\n",
       "    <tr>\n",
       "      <th>3808</th>\n",
       "      <td>679503373272485890</td>\n",
       "      <td>2015-12-23 03:26:43+00:00</td>\n",
       "      <td>&lt;a href=\"http://twitter.com/download/iphone\" r...</td>\n",
       "      <td>This is Dwight. He's a pointy pupper. Very doc...</td>\n",
       "      <td>https://twitter.com/dog_rates/status/679503373...</td>\n",
       "      <td>12.0</td>\n",
       "      <td>10.0</td>\n",
       "      <td>Dwight</td>\n",
       "      <td>1.0</td>\n",
       "      <td>porcupine</td>\n",
       "      <td>0.999846</td>\n",
       "      <td>False</td>\n",
       "      <td>meerkat</td>\n",
       "      <td>0.000072</td>\n",
       "      <td>False</td>\n",
       "      <td>echidna</td>\n",
       "      <td>0.000044</td>\n",
       "      <td>False</td>\n",
       "      <td>floofer</td>\n",
       "      <td>None</td>\n",
       "    </tr>\n",
       "    <tr>\n",
       "      <th>3108</th>\n",
       "      <td>744709971296780288</td>\n",
       "      <td>2016-06-20 01:54:27+00:00</td>\n",
       "      <td>&lt;a href=\"http://twitter.com/download/iphone\" r...</td>\n",
       "      <td>This is Harvey. He's stealthy af. 10/10 would ...</td>\n",
       "      <td>https://twitter.com/dog_rates/status/744709971...</td>\n",
       "      <td>10.0</td>\n",
       "      <td>10.0</td>\n",
       "      <td>Harvey</td>\n",
       "      <td>1.0</td>\n",
       "      <td>Shetland_sheepdog</td>\n",
       "      <td>0.234431</td>\n",
       "      <td>True</td>\n",
       "      <td>Samoyed</td>\n",
       "      <td>0.114876</td>\n",
       "      <td>True</td>\n",
       "      <td>collie</td>\n",
       "      <td>0.086614</td>\n",
       "      <td>True</td>\n",
       "      <td>floofer</td>\n",
       "      <td>None</td>\n",
       "    </tr>\n",
       "  </tbody>\n",
       "</table>\n",
       "</div>"
      ],
      "text/plain": [
       "                tweet_id           tweet_timestamp  \\\n",
       "6187  675372240448454658 2015-12-11 17:51:04+00:00   \n",
       "561   785872687017132033 2016-10-11 16:00:24+00:00   \n",
       "7948  702598099714314240 2016-02-24 20:56:55+00:00   \n",
       "3808  679503373272485890 2015-12-23 03:26:43+00:00   \n",
       "3108  744709971296780288 2016-06-20 01:54:27+00:00   \n",
       "\n",
       "                                                 source  \\\n",
       "6187  <a href=\"http://twitter.com/download/iphone\" r...   \n",
       "561   <a href=\"http://twitter.com/download/iphone\" r...   \n",
       "7948  <a href=\"http://twitter.com/download/iphone\" r...   \n",
       "3808  <a href=\"http://twitter.com/download/iphone\" r...   \n",
       "3108  <a href=\"http://twitter.com/download/iphone\" r...   \n",
       "\n",
       "                                                   text  \\\n",
       "6187  The tail alone is 13/10. Great dog, better own...   \n",
       "561   Meet Rusty. He appears to be rather h*ckin flu...   \n",
       "7948  This is Sansa. She's gotten too big for her ch...   \n",
       "3808  This is Dwight. He's a pointy pupper. Very doc...   \n",
       "3108  This is Harvey. He's stealthy af. 10/10 would ...   \n",
       "\n",
       "                                          expanded_urls  rating_numerator  \\\n",
       "6187  https://twitter.com/dog_rates/status/675372240...              13.0   \n",
       "561   https://twitter.com/dog_rates/status/785872687...              12.0   \n",
       "7948  https://twitter.com/dog_rates/status/702598099...              11.0   \n",
       "3808  https://twitter.com/dog_rates/status/679503373...              12.0   \n",
       "3108  https://twitter.com/dog_rates/status/744709971...              10.0   \n",
       "\n",
       "      rating_denominator    name  img_num                tp1  tp1_confidence  \\\n",
       "6187                10.0    None      1.0          Chihuahua        0.416385   \n",
       "561                 10.0   Rusty      1.0     Great_Pyrenees        0.392108   \n",
       "7948                10.0   Sansa      1.0             kelpie        0.219179   \n",
       "3808                10.0  Dwight      1.0          porcupine        0.999846   \n",
       "3108                10.0  Harvey      1.0  Shetland_sheepdog        0.234431   \n",
       "\n",
       "     tp1_dog                          tp2  tp2_confidence tp2_dog  \\\n",
       "6187    True  West_Highland_white_terrier        0.102933    True   \n",
       "561     True             golden_retriever        0.198358    True   \n",
       "7948    True                       badger        0.133584   False   \n",
       "3808   False                      meerkat        0.000072   False   \n",
       "3108    True                      Samoyed        0.114876    True   \n",
       "\n",
       "              tp3  tp3_confidence tp3_dog growth_stage growth_stage_value  \n",
       "6187      Samoyed        0.087300    True       pupper               None  \n",
       "561      Pekinese        0.143328    True        doggo               None  \n",
       "7948  Siamese_cat        0.074440   False        puppo               None  \n",
       "3808      echidna        0.000044   False      floofer               None  \n",
       "3108       collie        0.086614    True      floofer               None  "
      ]
     },
     "execution_count": 66,
     "metadata": {},
     "output_type": "execute_result"
    }
   ],
   "source": [
    "df_master_unpivoted.sample(5)"
   ]
  },
  {
   "cell_type": "markdown",
   "id": "47605867",
   "metadata": {},
   "source": [
    "**Check for duplicates in df_master and retweets and remove them if any**"
   ]
  },
  {
   "cell_type": "code",
   "execution_count": 70,
   "id": "7ed13875",
   "metadata": {},
   "outputs": [
    {
     "data": {
      "text/plain": [
       "0"
      ]
     },
     "execution_count": 70,
     "metadata": {},
     "output_type": "execute_result"
    }
   ],
   "source": [
    "sum(df_master_unpivoted.duplicated())"
   ]
  },
  {
   "cell_type": "code",
   "execution_count": 74,
   "id": "ab821adb",
   "metadata": {},
   "outputs": [
    {
     "data": {
      "text/plain": [
       "0"
      ]
     },
     "execution_count": 74,
     "metadata": {},
     "output_type": "execute_result"
    }
   ],
   "source": [
    "sum(retweets_unpivoted.duplicated())"
   ]
  },
  {
   "cell_type": "code",
   "execution_count": 72,
   "id": "5edabdd0",
   "metadata": {},
   "outputs": [
    {
     "data": {
      "text/html": [
       "<div>\n",
       "<style scoped>\n",
       "    .dataframe tbody tr th:only-of-type {\n",
       "        vertical-align: middle;\n",
       "    }\n",
       "\n",
       "    .dataframe tbody tr th {\n",
       "        vertical-align: top;\n",
       "    }\n",
       "\n",
       "    .dataframe thead th {\n",
       "        text-align: right;\n",
       "    }\n",
       "</style>\n",
       "<table border=\"1\" class=\"dataframe\">\n",
       "  <thead>\n",
       "    <tr style=\"text-align: right;\">\n",
       "      <th></th>\n",
       "      <th>tweet_id</th>\n",
       "      <th>tweet_timestamp</th>\n",
       "      <th>source</th>\n",
       "      <th>text</th>\n",
       "      <th>expanded_urls</th>\n",
       "      <th>rating_numerator</th>\n",
       "      <th>rating_denominator</th>\n",
       "      <th>name</th>\n",
       "      <th>img_num</th>\n",
       "      <th>tp1</th>\n",
       "      <th>tp1_confidence</th>\n",
       "      <th>tp1_dog</th>\n",
       "      <th>tp2</th>\n",
       "      <th>tp2_confidence</th>\n",
       "      <th>tp2_dog</th>\n",
       "      <th>tp3</th>\n",
       "      <th>tp3_confidence</th>\n",
       "      <th>tp3_dog</th>\n",
       "      <th>growth_stage</th>\n",
       "      <th>growth_stage_value</th>\n",
       "    </tr>\n",
       "  </thead>\n",
       "  <tbody>\n",
       "    <tr>\n",
       "      <th>1675</th>\n",
       "      <td>675372240448454658</td>\n",
       "      <td>2015-12-11 17:51:04+00:00</td>\n",
       "      <td>&lt;a href=\"http://twitter.com/download/iphone\" r...</td>\n",
       "      <td>The tail alone is 13/10. Great dog, better own...</td>\n",
       "      <td>https://twitter.com/dog_rates/status/675372240...</td>\n",
       "      <td>13.0</td>\n",
       "      <td>10.0</td>\n",
       "      <td>None</td>\n",
       "      <td>1.0</td>\n",
       "      <td>Chihuahua</td>\n",
       "      <td>0.416385</td>\n",
       "      <td>True</td>\n",
       "      <td>West_Highland_white_terrier</td>\n",
       "      <td>0.102933</td>\n",
       "      <td>True</td>\n",
       "      <td>Samoyed</td>\n",
       "      <td>0.0873</td>\n",
       "      <td>True</td>\n",
       "      <td>doggo</td>\n",
       "      <td>None</td>\n",
       "    </tr>\n",
       "    <tr>\n",
       "      <th>3931</th>\n",
       "      <td>675372240448454658</td>\n",
       "      <td>2015-12-11 17:51:04+00:00</td>\n",
       "      <td>&lt;a href=\"http://twitter.com/download/iphone\" r...</td>\n",
       "      <td>The tail alone is 13/10. Great dog, better own...</td>\n",
       "      <td>https://twitter.com/dog_rates/status/675372240...</td>\n",
       "      <td>13.0</td>\n",
       "      <td>10.0</td>\n",
       "      <td>None</td>\n",
       "      <td>1.0</td>\n",
       "      <td>Chihuahua</td>\n",
       "      <td>0.416385</td>\n",
       "      <td>True</td>\n",
       "      <td>West_Highland_white_terrier</td>\n",
       "      <td>0.102933</td>\n",
       "      <td>True</td>\n",
       "      <td>Samoyed</td>\n",
       "      <td>0.0873</td>\n",
       "      <td>True</td>\n",
       "      <td>floofer</td>\n",
       "      <td>None</td>\n",
       "    </tr>\n",
       "    <tr>\n",
       "      <th>6187</th>\n",
       "      <td>675372240448454658</td>\n",
       "      <td>2015-12-11 17:51:04+00:00</td>\n",
       "      <td>&lt;a href=\"http://twitter.com/download/iphone\" r...</td>\n",
       "      <td>The tail alone is 13/10. Great dog, better own...</td>\n",
       "      <td>https://twitter.com/dog_rates/status/675372240...</td>\n",
       "      <td>13.0</td>\n",
       "      <td>10.0</td>\n",
       "      <td>None</td>\n",
       "      <td>1.0</td>\n",
       "      <td>Chihuahua</td>\n",
       "      <td>0.416385</td>\n",
       "      <td>True</td>\n",
       "      <td>West_Highland_white_terrier</td>\n",
       "      <td>0.102933</td>\n",
       "      <td>True</td>\n",
       "      <td>Samoyed</td>\n",
       "      <td>0.0873</td>\n",
       "      <td>True</td>\n",
       "      <td>pupper</td>\n",
       "      <td>None</td>\n",
       "    </tr>\n",
       "    <tr>\n",
       "      <th>8443</th>\n",
       "      <td>675372240448454658</td>\n",
       "      <td>2015-12-11 17:51:04+00:00</td>\n",
       "      <td>&lt;a href=\"http://twitter.com/download/iphone\" r...</td>\n",
       "      <td>The tail alone is 13/10. Great dog, better own...</td>\n",
       "      <td>https://twitter.com/dog_rates/status/675372240...</td>\n",
       "      <td>13.0</td>\n",
       "      <td>10.0</td>\n",
       "      <td>None</td>\n",
       "      <td>1.0</td>\n",
       "      <td>Chihuahua</td>\n",
       "      <td>0.416385</td>\n",
       "      <td>True</td>\n",
       "      <td>West_Highland_white_terrier</td>\n",
       "      <td>0.102933</td>\n",
       "      <td>True</td>\n",
       "      <td>Samoyed</td>\n",
       "      <td>0.0873</td>\n",
       "      <td>True</td>\n",
       "      <td>puppo</td>\n",
       "      <td>None</td>\n",
       "    </tr>\n",
       "  </tbody>\n",
       "</table>\n",
       "</div>"
      ],
      "text/plain": [
       "                tweet_id           tweet_timestamp  \\\n",
       "1675  675372240448454658 2015-12-11 17:51:04+00:00   \n",
       "3931  675372240448454658 2015-12-11 17:51:04+00:00   \n",
       "6187  675372240448454658 2015-12-11 17:51:04+00:00   \n",
       "8443  675372240448454658 2015-12-11 17:51:04+00:00   \n",
       "\n",
       "                                                 source  \\\n",
       "1675  <a href=\"http://twitter.com/download/iphone\" r...   \n",
       "3931  <a href=\"http://twitter.com/download/iphone\" r...   \n",
       "6187  <a href=\"http://twitter.com/download/iphone\" r...   \n",
       "8443  <a href=\"http://twitter.com/download/iphone\" r...   \n",
       "\n",
       "                                                   text  \\\n",
       "1675  The tail alone is 13/10. Great dog, better own...   \n",
       "3931  The tail alone is 13/10. Great dog, better own...   \n",
       "6187  The tail alone is 13/10. Great dog, better own...   \n",
       "8443  The tail alone is 13/10. Great dog, better own...   \n",
       "\n",
       "                                          expanded_urls  rating_numerator  \\\n",
       "1675  https://twitter.com/dog_rates/status/675372240...              13.0   \n",
       "3931  https://twitter.com/dog_rates/status/675372240...              13.0   \n",
       "6187  https://twitter.com/dog_rates/status/675372240...              13.0   \n",
       "8443  https://twitter.com/dog_rates/status/675372240...              13.0   \n",
       "\n",
       "      rating_denominator  name  img_num        tp1  tp1_confidence tp1_dog  \\\n",
       "1675                10.0  None      1.0  Chihuahua        0.416385    True   \n",
       "3931                10.0  None      1.0  Chihuahua        0.416385    True   \n",
       "6187                10.0  None      1.0  Chihuahua        0.416385    True   \n",
       "8443                10.0  None      1.0  Chihuahua        0.416385    True   \n",
       "\n",
       "                              tp2  tp2_confidence tp2_dog      tp3  \\\n",
       "1675  West_Highland_white_terrier        0.102933    True  Samoyed   \n",
       "3931  West_Highland_white_terrier        0.102933    True  Samoyed   \n",
       "6187  West_Highland_white_terrier        0.102933    True  Samoyed   \n",
       "8443  West_Highland_white_terrier        0.102933    True  Samoyed   \n",
       "\n",
       "      tp3_confidence tp3_dog growth_stage growth_stage_value  \n",
       "1675          0.0873    True        doggo               None  \n",
       "3931          0.0873    True      floofer               None  \n",
       "6187          0.0873    True       pupper               None  \n",
       "8443          0.0873    True        puppo               None  "
      ]
     },
     "execution_count": 72,
     "metadata": {},
     "output_type": "execute_result"
    }
   ],
   "source": [
    "df_master_unpivoted.query('tweet_id == 675372240448454658')"
   ]
  },
  {
   "cell_type": "markdown",
   "id": "ce7d93c3",
   "metadata": {},
   "source": [
    "In order to find out the duplicates, we need to drop the field growth_stage and keep growth_stage_value, why? Since the growth_stage_value still bears the growth stage"
   ]
  },
  {
   "cell_type": "code",
   "execution_count": 73,
   "id": "6a5b235c",
   "metadata": {},
   "outputs": [],
   "source": [
    "df_master_unpivoted.drop(['growth_stage'], axis=1, inplace=True)"
   ]
  },
  {
   "cell_type": "code",
   "execution_count": 75,
   "id": "cd5ec979",
   "metadata": {},
   "outputs": [],
   "source": [
    "retweets_unpivoted.drop(['growth_stage'], axis=1, inplace=True)"
   ]
  },
  {
   "cell_type": "code",
   "execution_count": 76,
   "id": "65c59914",
   "metadata": {},
   "outputs": [
    {
     "data": {
      "text/plain": [
       "446"
      ]
     },
     "execution_count": 76,
     "metadata": {},
     "output_type": "execute_result"
    }
   ],
   "source": [
    "sum(retweets_unpivoted.duplicated())"
   ]
  },
  {
   "cell_type": "code",
   "execution_count": 77,
   "id": "cfdbc9c2",
   "metadata": {},
   "outputs": [
    {
     "data": {
      "text/plain": [
       "6413"
      ]
     },
     "execution_count": 77,
     "metadata": {},
     "output_type": "execute_result"
    }
   ],
   "source": [
    "sum(df_master_unpivoted.duplicated())"
   ]
  },
  {
   "cell_type": "code",
   "execution_count": 78,
   "id": "f4ff6757",
   "metadata": {},
   "outputs": [],
   "source": [
    "#drop duplicates now\n",
    "df_master_unpivoted.drop_duplicates(inplace=True)\n",
    "retweets_unpivoted.drop_duplicates(inplace=True)"
   ]
  },
  {
   "cell_type": "markdown",
   "id": "8c23f1e4",
   "metadata": {},
   "source": [
    "### Testing"
   ]
  },
  {
   "cell_type": "code",
   "execution_count": 79,
   "id": "4fb21c15",
   "metadata": {},
   "outputs": [
    {
     "data": {
      "text/html": [
       "<div>\n",
       "<style scoped>\n",
       "    .dataframe tbody tr th:only-of-type {\n",
       "        vertical-align: middle;\n",
       "    }\n",
       "\n",
       "    .dataframe tbody tr th {\n",
       "        vertical-align: top;\n",
       "    }\n",
       "\n",
       "    .dataframe thead th {\n",
       "        text-align: right;\n",
       "    }\n",
       "</style>\n",
       "<table border=\"1\" class=\"dataframe\">\n",
       "  <thead>\n",
       "    <tr style=\"text-align: right;\">\n",
       "      <th></th>\n",
       "      <th>tweet_id</th>\n",
       "      <th>tweet_timestamp</th>\n",
       "      <th>source</th>\n",
       "      <th>text</th>\n",
       "      <th>expanded_urls</th>\n",
       "      <th>rating_numerator</th>\n",
       "      <th>rating_denominator</th>\n",
       "      <th>name</th>\n",
       "      <th>img_num</th>\n",
       "      <th>tp1</th>\n",
       "      <th>tp1_confidence</th>\n",
       "      <th>tp1_dog</th>\n",
       "      <th>tp2</th>\n",
       "      <th>tp2_confidence</th>\n",
       "      <th>tp2_dog</th>\n",
       "      <th>tp3</th>\n",
       "      <th>tp3_confidence</th>\n",
       "      <th>tp3_dog</th>\n",
       "      <th>growth_stage_value</th>\n",
       "    </tr>\n",
       "  </thead>\n",
       "  <tbody>\n",
       "    <tr>\n",
       "      <th>1675</th>\n",
       "      <td>675372240448454658</td>\n",
       "      <td>2015-12-11 17:51:04+00:00</td>\n",
       "      <td>&lt;a href=\"http://twitter.com/download/iphone\" r...</td>\n",
       "      <td>The tail alone is 13/10. Great dog, better own...</td>\n",
       "      <td>https://twitter.com/dog_rates/status/675372240...</td>\n",
       "      <td>13.0</td>\n",
       "      <td>10.0</td>\n",
       "      <td>None</td>\n",
       "      <td>1.0</td>\n",
       "      <td>Chihuahua</td>\n",
       "      <td>0.416385</td>\n",
       "      <td>True</td>\n",
       "      <td>West_Highland_white_terrier</td>\n",
       "      <td>0.102933</td>\n",
       "      <td>True</td>\n",
       "      <td>Samoyed</td>\n",
       "      <td>0.0873</td>\n",
       "      <td>True</td>\n",
       "      <td>None</td>\n",
       "    </tr>\n",
       "  </tbody>\n",
       "</table>\n",
       "</div>"
      ],
      "text/plain": [
       "                tweet_id           tweet_timestamp  \\\n",
       "1675  675372240448454658 2015-12-11 17:51:04+00:00   \n",
       "\n",
       "                                                 source  \\\n",
       "1675  <a href=\"http://twitter.com/download/iphone\" r...   \n",
       "\n",
       "                                                   text  \\\n",
       "1675  The tail alone is 13/10. Great dog, better own...   \n",
       "\n",
       "                                          expanded_urls  rating_numerator  \\\n",
       "1675  https://twitter.com/dog_rates/status/675372240...              13.0   \n",
       "\n",
       "      rating_denominator  name  img_num        tp1  tp1_confidence tp1_dog  \\\n",
       "1675                10.0  None      1.0  Chihuahua        0.416385    True   \n",
       "\n",
       "                              tp2  tp2_confidence tp2_dog      tp3  \\\n",
       "1675  West_Highland_white_terrier        0.102933    True  Samoyed   \n",
       "\n",
       "      tp3_confidence tp3_dog growth_stage_value  \n",
       "1675          0.0873    True               None  "
      ]
     },
     "execution_count": 79,
     "metadata": {},
     "output_type": "execute_result"
    }
   ],
   "source": [
    "df_master_unpivoted.query('tweet_id == 675372240448454658')"
   ]
  },
  {
   "cell_type": "code",
   "execution_count": 80,
   "id": "6bfa2eec",
   "metadata": {},
   "outputs": [
    {
     "data": {
      "text/html": [
       "<div>\n",
       "<style scoped>\n",
       "    .dataframe tbody tr th:only-of-type {\n",
       "        vertical-align: middle;\n",
       "    }\n",
       "\n",
       "    .dataframe tbody tr th {\n",
       "        vertical-align: top;\n",
       "    }\n",
       "\n",
       "    .dataframe thead th {\n",
       "        text-align: right;\n",
       "    }\n",
       "</style>\n",
       "<table border=\"1\" class=\"dataframe\">\n",
       "  <thead>\n",
       "    <tr style=\"text-align: right;\">\n",
       "      <th></th>\n",
       "      <th>tweet_id</th>\n",
       "      <th>tweet_timestamp</th>\n",
       "      <th>source</th>\n",
       "      <th>text</th>\n",
       "      <th>expanded_urls</th>\n",
       "      <th>rating_numerator</th>\n",
       "      <th>rating_denominator</th>\n",
       "      <th>name</th>\n",
       "      <th>img_num</th>\n",
       "      <th>tp1</th>\n",
       "      <th>tp1_confidence</th>\n",
       "      <th>tp1_dog</th>\n",
       "      <th>tp2</th>\n",
       "      <th>tp2_confidence</th>\n",
       "      <th>tp2_dog</th>\n",
       "      <th>tp3</th>\n",
       "      <th>tp3_confidence</th>\n",
       "      <th>tp3_dog</th>\n",
       "      <th>growth_stage_value</th>\n",
       "    </tr>\n",
       "  </thead>\n",
       "  <tbody>\n",
       "    <tr>\n",
       "      <th>5563</th>\n",
       "      <td>712309440758808576</td>\n",
       "      <td>2016-03-22 16:06:19+00:00</td>\n",
       "      <td>&lt;a href=\"http://twitter.com/download/iphone\" r...</td>\n",
       "      <td>Reminder that we made our first set of sticker...</td>\n",
       "      <td>https://twitter.com/stickergrub/status/7099191...</td>\n",
       "      <td>12.0</td>\n",
       "      <td>10.0</td>\n",
       "      <td>None</td>\n",
       "      <td>NaN</td>\n",
       "      <td>NaN</td>\n",
       "      <td>NaN</td>\n",
       "      <td>NaN</td>\n",
       "      <td>NaN</td>\n",
       "      <td>NaN</td>\n",
       "      <td>NaN</td>\n",
       "      <td>NaN</td>\n",
       "      <td>NaN</td>\n",
       "      <td>NaN</td>\n",
       "      <td>pupper</td>\n",
       "    </tr>\n",
       "    <tr>\n",
       "      <th>1655</th>\n",
       "      <td>675853064436391936</td>\n",
       "      <td>2015-12-13 01:41:41+00:00</td>\n",
       "      <td>&lt;a href=\"http://twitter.com/download/iphone\" r...</td>\n",
       "      <td>Here we have an entire platoon of puppers. Tot...</td>\n",
       "      <td>https://twitter.com/dog_rates/status/675853064...</td>\n",
       "      <td>88.0</td>\n",
       "      <td>10.0</td>\n",
       "      <td>None</td>\n",
       "      <td>1.0</td>\n",
       "      <td>Labrador_retriever</td>\n",
       "      <td>0.868367</td>\n",
       "      <td>True</td>\n",
       "      <td>golden_retriever</td>\n",
       "      <td>0.043305</td>\n",
       "      <td>True</td>\n",
       "      <td>vizsla</td>\n",
       "      <td>0.028207</td>\n",
       "      <td>True</td>\n",
       "      <td>None</td>\n",
       "    </tr>\n",
       "    <tr>\n",
       "      <th>2655</th>\n",
       "      <td>813910438903693312</td>\n",
       "      <td>2016-12-28 00:52:25+00:00</td>\n",
       "      <td>&lt;a href=\"http://twitter.com/download/iphone\" r...</td>\n",
       "      <td>This is Chubbs. He dug a hole and now he's stu...</td>\n",
       "      <td>https://twitter.com/dog_rates/status/813910438...</td>\n",
       "      <td>11.0</td>\n",
       "      <td>10.0</td>\n",
       "      <td>Chubbs</td>\n",
       "      <td>1.0</td>\n",
       "      <td>Siberian_husky</td>\n",
       "      <td>0.699355</td>\n",
       "      <td>True</td>\n",
       "      <td>Eskimo_dog</td>\n",
       "      <td>0.256433</td>\n",
       "      <td>True</td>\n",
       "      <td>Norwegian_elkhound</td>\n",
       "      <td>0.013189</td>\n",
       "      <td>True</td>\n",
       "      <td>None</td>\n",
       "    </tr>\n",
       "  </tbody>\n",
       "</table>\n",
       "</div>"
      ],
      "text/plain": [
       "                tweet_id           tweet_timestamp  \\\n",
       "5563  712309440758808576 2016-03-22 16:06:19+00:00   \n",
       "1655  675853064436391936 2015-12-13 01:41:41+00:00   \n",
       "2655  813910438903693312 2016-12-28 00:52:25+00:00   \n",
       "\n",
       "                                                 source  \\\n",
       "5563  <a href=\"http://twitter.com/download/iphone\" r...   \n",
       "1655  <a href=\"http://twitter.com/download/iphone\" r...   \n",
       "2655  <a href=\"http://twitter.com/download/iphone\" r...   \n",
       "\n",
       "                                                   text  \\\n",
       "5563  Reminder that we made our first set of sticker...   \n",
       "1655  Here we have an entire platoon of puppers. Tot...   \n",
       "2655  This is Chubbs. He dug a hole and now he's stu...   \n",
       "\n",
       "                                          expanded_urls  rating_numerator  \\\n",
       "5563  https://twitter.com/stickergrub/status/7099191...              12.0   \n",
       "1655  https://twitter.com/dog_rates/status/675853064...              88.0   \n",
       "2655  https://twitter.com/dog_rates/status/813910438...              11.0   \n",
       "\n",
       "      rating_denominator    name  img_num                 tp1  tp1_confidence  \\\n",
       "5563                10.0    None      NaN                 NaN             NaN   \n",
       "1655                10.0    None      1.0  Labrador_retriever        0.868367   \n",
       "2655                10.0  Chubbs      1.0      Siberian_husky        0.699355   \n",
       "\n",
       "     tp1_dog               tp2  tp2_confidence tp2_dog                 tp3  \\\n",
       "5563     NaN               NaN             NaN     NaN                 NaN   \n",
       "1655    True  golden_retriever        0.043305    True              vizsla   \n",
       "2655    True        Eskimo_dog        0.256433    True  Norwegian_elkhound   \n",
       "\n",
       "      tp3_confidence tp3_dog growth_stage_value  \n",
       "5563             NaN     NaN             pupper  \n",
       "1655        0.028207    True               None  \n",
       "2655        0.013189    True               None  "
      ]
     },
     "execution_count": 80,
     "metadata": {},
     "output_type": "execute_result"
    }
   ],
   "source": [
    "df_master_unpivoted.sample(3)"
   ]
  },
  {
   "cell_type": "code",
   "execution_count": 81,
   "id": "c996d969",
   "metadata": {},
   "outputs": [],
   "source": [
    "#write dataframes to a file\n",
    "df_master_unpivoted.to_csv('twitter_archive_master.csv',index=False)"
   ]
  },
  {
   "cell_type": "code",
   "execution_count": 82,
   "id": "fdf661dd",
   "metadata": {},
   "outputs": [],
   "source": [
    "df_prediction_clean.to_csv('image_predictions.tsv',sep='\\t',index=False)"
   ]
  },
  {
   "cell_type": "code",
   "execution_count": 84,
   "id": "3dd4a451",
   "metadata": {},
   "outputs": [],
   "source": [
    "retweets_unpivoted.to_csv('retweets.csv', index=False)"
   ]
  },
  {
   "cell_type": "code",
   "execution_count": 86,
   "id": "b0d11473",
   "metadata": {},
   "outputs": [],
   "source": [
    "#save file to sqlite db\n",
    "from sqlalchemy import create_engine\n",
    "engine = create_engine('sqlite:///twitter_archive_master.db')\n",
    "df_twitter_archive_clean.to_sql('master_twitter_archive',engine,index=False)\n",
    "df_prediction_clean.to_sql('master_prediction',engine,index=False)\n",
    "retweets.to_sql('master_retweets',engine,index=False)"
   ]
  },
  {
   "cell_type": "markdown",
   "id": "518e2126",
   "metadata": {},
   "source": [
    "<a id='da'></a>\n",
    "## Data Analysis\n"
   ]
  },
  {
   "cell_type": "code",
   "execution_count": 87,
   "id": "41696e58",
   "metadata": {},
   "outputs": [],
   "source": [
    "#read retweets and twitter_archive_master dataframe\n",
    "df_retweets = pd.read_csv('retweets.csv')\n",
    "df_twitter_archive_master = pd.read_csv('twitter_archive_master.csv')"
   ]
  },
  {
   "cell_type": "code",
   "execution_count": 239,
   "id": "de5314af",
   "metadata": {},
   "outputs": [
    {
     "data": {
      "text/html": [
       "<div>\n",
       "<style scoped>\n",
       "    .dataframe tbody tr th:only-of-type {\n",
       "        vertical-align: middle;\n",
       "    }\n",
       "\n",
       "    .dataframe tbody tr th {\n",
       "        vertical-align: top;\n",
       "    }\n",
       "\n",
       "    .dataframe thead th {\n",
       "        text-align: right;\n",
       "    }\n",
       "</style>\n",
       "<table border=\"1\" class=\"dataframe\">\n",
       "  <thead>\n",
       "    <tr style=\"text-align: right;\">\n",
       "      <th></th>\n",
       "      <th>tweet_id</th>\n",
       "      <th>in_reply_to_status_id</th>\n",
       "      <th>in_reply_to_user_id</th>\n",
       "      <th>tweet_timestamp</th>\n",
       "      <th>source</th>\n",
       "      <th>text</th>\n",
       "      <th>retweeted_status_id</th>\n",
       "      <th>retweeted_status_user_id</th>\n",
       "      <th>retweeted_status_timestamp</th>\n",
       "      <th>expanded_urls</th>\n",
       "      <th>rating_numerator</th>\n",
       "      <th>rating_denominator</th>\n",
       "      <th>name</th>\n",
       "      <th>growth_stage</th>\n",
       "      <th>growth_stage_value</th>\n",
       "    </tr>\n",
       "  </thead>\n",
       "  <tbody>\n",
       "    <tr>\n",
       "      <th>2112</th>\n",
       "      <td>666983947667116034</td>\n",
       "      <td>0</td>\n",
       "      <td>0</td>\n",
       "      <td>2015-11-18 14:18:59+00:00</td>\n",
       "      <td>&lt;a href=\"http://twitter.com/download/iphone\" r...</td>\n",
       "      <td>This is a curly Ticonderoga named Pepe. No fee...</td>\n",
       "      <td>0</td>\n",
       "      <td>0</td>\n",
       "      <td>0</td>\n",
       "      <td>https://twitter.com/dog_rates/status/666983947...</td>\n",
       "      <td>11</td>\n",
       "      <td>10</td>\n",
       "      <td>None</td>\n",
       "      <td>doggo</td>\n",
       "      <td>None</td>\n",
       "    </tr>\n",
       "    <tr>\n",
       "      <th>3091</th>\n",
       "      <td>733109485275860992</td>\n",
       "      <td>0</td>\n",
       "      <td>0</td>\n",
       "      <td>2016-05-19 01:38:16+00:00</td>\n",
       "      <td>&lt;a href=\"http://twitter.com/download/iphone\" r...</td>\n",
       "      <td>Like father (doggo), like son (pupper). Both 1...</td>\n",
       "      <td>0</td>\n",
       "      <td>0</td>\n",
       "      <td>0</td>\n",
       "      <td>https://twitter.com/dog_rates/status/733109485...</td>\n",
       "      <td>12</td>\n",
       "      <td>10</td>\n",
       "      <td>None</td>\n",
       "      <td>floofer</td>\n",
       "      <td>None</td>\n",
       "    </tr>\n",
       "  </tbody>\n",
       "</table>\n",
       "</div>"
      ],
      "text/plain": [
       "                tweet_id  in_reply_to_status_id  in_reply_to_user_id  \\\n",
       "2112  666983947667116034                      0                    0   \n",
       "3091  733109485275860992                      0                    0   \n",
       "\n",
       "                tweet_timestamp  \\\n",
       "2112  2015-11-18 14:18:59+00:00   \n",
       "3091  2016-05-19 01:38:16+00:00   \n",
       "\n",
       "                                                 source  \\\n",
       "2112  <a href=\"http://twitter.com/download/iphone\" r...   \n",
       "3091  <a href=\"http://twitter.com/download/iphone\" r...   \n",
       "\n",
       "                                                   text  retweeted_status_id  \\\n",
       "2112  This is a curly Ticonderoga named Pepe. No fee...                    0   \n",
       "3091  Like father (doggo), like son (pupper). Both 1...                    0   \n",
       "\n",
       "      retweeted_status_user_id  retweeted_status_timestamp  \\\n",
       "2112                         0                           0   \n",
       "3091                         0                           0   \n",
       "\n",
       "                                          expanded_urls  rating_numerator  \\\n",
       "2112  https://twitter.com/dog_rates/status/666983947...                11   \n",
       "3091  https://twitter.com/dog_rates/status/733109485...                12   \n",
       "\n",
       "      rating_denominator  name growth_stage growth_stage_value  \n",
       "2112                  10  None        doggo               None  \n",
       "3091                  10  None      floofer               None  "
      ]
     },
     "execution_count": 239,
     "metadata": {},
     "output_type": "execute_result"
    }
   ],
   "source": [
    "df_twitter_archive_master.sample(2)"
   ]
  },
  {
   "cell_type": "code",
   "execution_count": 240,
   "id": "36e2f681",
   "metadata": {},
   "outputs": [
    {
     "data": {
      "text/html": [
       "<div>\n",
       "<style scoped>\n",
       "    .dataframe tbody tr th:only-of-type {\n",
       "        vertical-align: middle;\n",
       "    }\n",
       "\n",
       "    .dataframe tbody tr th {\n",
       "        vertical-align: top;\n",
       "    }\n",
       "\n",
       "    .dataframe thead th {\n",
       "        text-align: right;\n",
       "    }\n",
       "</style>\n",
       "<table border=\"1\" class=\"dataframe\">\n",
       "  <thead>\n",
       "    <tr style=\"text-align: right;\">\n",
       "      <th></th>\n",
       "      <th>tweet_id</th>\n",
       "      <th>in_reply_to_status_id</th>\n",
       "      <th>in_reply_to_user_id</th>\n",
       "      <th>retweeted_status_id</th>\n",
       "      <th>retweeted_status_user_id</th>\n",
       "      <th>retweeted_status_timestamp</th>\n",
       "      <th>rating_numerator</th>\n",
       "      <th>rating_denominator</th>\n",
       "    </tr>\n",
       "  </thead>\n",
       "  <tbody>\n",
       "    <tr>\n",
       "      <th>count</th>\n",
       "      <td>8.656000e+03</td>\n",
       "      <td>8656.0</td>\n",
       "      <td>8656.0</td>\n",
       "      <td>8656.0</td>\n",
       "      <td>8656.0</td>\n",
       "      <td>8656.0</td>\n",
       "      <td>8656.000000</td>\n",
       "      <td>8656.0</td>\n",
       "    </tr>\n",
       "    <tr>\n",
       "      <th>mean</th>\n",
       "      <td>7.369429e+17</td>\n",
       "      <td>0.0</td>\n",
       "      <td>0.0</td>\n",
       "      <td>0.0</td>\n",
       "      <td>0.0</td>\n",
       "      <td>0.0</td>\n",
       "      <td>14.184843</td>\n",
       "      <td>10.0</td>\n",
       "    </tr>\n",
       "    <tr>\n",
       "      <th>std</th>\n",
       "      <td>6.741922e+16</td>\n",
       "      <td>0.0</td>\n",
       "      <td>0.0</td>\n",
       "      <td>0.0</td>\n",
       "      <td>0.0</td>\n",
       "      <td>0.0</td>\n",
       "      <td>47.745987</td>\n",
       "      <td>0.0</td>\n",
       "    </tr>\n",
       "    <tr>\n",
       "      <th>min</th>\n",
       "      <td>6.660209e+17</td>\n",
       "      <td>0.0</td>\n",
       "      <td>0.0</td>\n",
       "      <td>0.0</td>\n",
       "      <td>0.0</td>\n",
       "      <td>0.0</td>\n",
       "      <td>10.000000</td>\n",
       "      <td>10.0</td>\n",
       "    </tr>\n",
       "    <tr>\n",
       "      <th>25%</th>\n",
       "      <td>6.768214e+17</td>\n",
       "      <td>0.0</td>\n",
       "      <td>0.0</td>\n",
       "      <td>0.0</td>\n",
       "      <td>0.0</td>\n",
       "      <td>0.0</td>\n",
       "      <td>11.000000</td>\n",
       "      <td>10.0</td>\n",
       "    </tr>\n",
       "    <tr>\n",
       "      <th>50%</th>\n",
       "      <td>7.095381e+17</td>\n",
       "      <td>0.0</td>\n",
       "      <td>0.0</td>\n",
       "      <td>0.0</td>\n",
       "      <td>0.0</td>\n",
       "      <td>0.0</td>\n",
       "      <td>12.000000</td>\n",
       "      <td>10.0</td>\n",
       "    </tr>\n",
       "    <tr>\n",
       "      <th>75%</th>\n",
       "      <td>7.891706e+17</td>\n",
       "      <td>0.0</td>\n",
       "      <td>0.0</td>\n",
       "      <td>0.0</td>\n",
       "      <td>0.0</td>\n",
       "      <td>0.0</td>\n",
       "      <td>12.000000</td>\n",
       "      <td>10.0</td>\n",
       "    </tr>\n",
       "    <tr>\n",
       "      <th>max</th>\n",
       "      <td>8.924206e+17</td>\n",
       "      <td>0.0</td>\n",
       "      <td>0.0</td>\n",
       "      <td>0.0</td>\n",
       "      <td>0.0</td>\n",
       "      <td>0.0</td>\n",
       "      <td>1776.000000</td>\n",
       "      <td>10.0</td>\n",
       "    </tr>\n",
       "  </tbody>\n",
       "</table>\n",
       "</div>"
      ],
      "text/plain": [
       "           tweet_id  in_reply_to_status_id  in_reply_to_user_id  \\\n",
       "count  8.656000e+03                 8656.0               8656.0   \n",
       "mean   7.369429e+17                    0.0                  0.0   \n",
       "std    6.741922e+16                    0.0                  0.0   \n",
       "min    6.660209e+17                    0.0                  0.0   \n",
       "25%    6.768214e+17                    0.0                  0.0   \n",
       "50%    7.095381e+17                    0.0                  0.0   \n",
       "75%    7.891706e+17                    0.0                  0.0   \n",
       "max    8.924206e+17                    0.0                  0.0   \n",
       "\n",
       "       retweeted_status_id  retweeted_status_user_id  \\\n",
       "count               8656.0                    8656.0   \n",
       "mean                   0.0                       0.0   \n",
       "std                    0.0                       0.0   \n",
       "min                    0.0                       0.0   \n",
       "25%                    0.0                       0.0   \n",
       "50%                    0.0                       0.0   \n",
       "75%                    0.0                       0.0   \n",
       "max                    0.0                       0.0   \n",
       "\n",
       "       retweeted_status_timestamp  rating_numerator  rating_denominator  \n",
       "count                      8656.0       8656.000000              8656.0  \n",
       "mean                          0.0         14.184843                10.0  \n",
       "std                           0.0         47.745987                 0.0  \n",
       "min                           0.0         10.000000                10.0  \n",
       "25%                           0.0         11.000000                10.0  \n",
       "50%                           0.0         12.000000                10.0  \n",
       "75%                           0.0         12.000000                10.0  \n",
       "max                           0.0       1776.000000                10.0  "
      ]
     },
     "execution_count": 240,
     "metadata": {},
     "output_type": "execute_result"
    }
   ],
   "source": [
    "df_twitter_archive_master.describe()"
   ]
  },
  {
   "cell_type": "code",
   "execution_count": 18,
   "id": "cb93873d",
   "metadata": {},
   "outputs": [
    {
     "data": {
      "text/plain": [
       "12      3708\n",
       "10      1756\n",
       "11      1704\n",
       "13      1212\n",
       "14       172\n",
       "420        8\n",
       "143        4\n",
       "121        4\n",
       "50         4\n",
       "26         4\n",
       "960        4\n",
       "17         4\n",
       "1776       4\n",
       "144        4\n",
       "88         4\n",
       "80         4\n",
       "666        4\n",
       "75         4\n",
       "27         4\n",
       "15         4\n",
       "99         4\n",
       "20         4\n",
       "44         4\n",
       "60         4\n",
       "84         4\n",
       "204        4\n",
       "45         4\n",
       "165        4\n",
       "182        4\n",
       "24         4\n",
       "Name: rating_numerator, dtype: int64"
      ]
     },
     "execution_count": 18,
     "metadata": {},
     "output_type": "execute_result"
    }
   ],
   "source": [
    "df = df_twitter_archive_master['rating_numerator'].value_counts()\n",
    "df"
   ]
  },
  {
   "cell_type": "code",
   "execution_count": 52,
   "id": "46807b22",
   "metadata": {},
   "outputs": [
    {
     "data": {
      "image/png": "[encoded data removed]",
      "text/plain": [
       "<Figure size 864x720 with 1 Axes>"
      ]
     },
     "metadata": {
      "needs_background": "light"
     },
     "output_type": "display_data"
    }
   ],
   "source": [
    "from matplotlib.ticker import ScalarFormatter\n",
    "\n",
    "    \n",
    "from matplotlib import rcParams\n",
    "def drawBarChart(dataframe,title, xlabel,ylabel,xscale):\n",
    "    # get order of bars by frequency\n",
    "    type_values = dataframe.index\n",
    "    # Compute largest proportion\n",
    "    # Returns the sum of frequency of all not-null values in `type` column\n",
    "    sum_of_freq = dataframe.sum()\n",
    "    \n",
    "    \n",
    "    max_numerator_count = dataframe[12]\n",
    "    \n",
    "    max_prop = max_numerator_count / sum_of_freq\n",
    "    # establish tick locations and create plot\n",
    "    base_color = sb.color_palette()[0]\n",
    "    tick_props = np.arange(0, max_prop, 0.1)\n",
    "    tick_names = ['{:0.2f}'.format(v) for v in tick_props]\n",
    "    base_color = sb.color_palette()[0]\n",
    "    sb.countplot(data = df_twitter_archive_master, y = 'rating_numerator', color = base_color, order = type_values)\n",
    "    plt.xticks(tick_props * sum_of_freq, tick_names)\n",
    "    plt.xscale(xscale)\n",
    "    plt.title(title)\n",
    "    plt.xlabel(xlabel)\n",
    "    plt.ylabel(ylabel)\n",
    "\n",
    "    # Specify the figure size in inches, for both X, and Y axes\n",
    "    rcParams['figure.figsize'] = 12,10\n",
    "    # Logic to print the proportion text on the bars\n",
    "    j=0\n",
    "    for i in dataframe.index:\n",
    "        # Remember, type_counts contains the frequency of unique values in the `type` column in decreasing order.\n",
    "        count = dataframe[i]\n",
    "        # Convert count into a percentage, and then into string\n",
    "        pct_string = '{:0.2f}'.format(100*count/sum_of_freq)\n",
    "        # Print the string value on the bar. \n",
    "        # Read more about the arguments of text() function [here](https://matplotlib.org/3.1.1/api/_as_gen/matplotlib.pyplot.text.html)\n",
    "        plt.text(count+1, j, pct_string, va='center')\n",
    "        j = j+1\n",
    "drawBarChart(df,'Rating Distribution', 'Frequency of Occurrence','Rating Numerator','log')"
   ]
  },
  {
   "cell_type": "code",
   "execution_count": 231,
   "id": "4ca5f45e",
   "metadata": {},
   "outputs": [
    {
     "data": {
      "text/html": [
       "<div>\n",
       "<style scoped>\n",
       "    .dataframe tbody tr th:only-of-type {\n",
       "        vertical-align: middle;\n",
       "    }\n",
       "\n",
       "    .dataframe tbody tr th {\n",
       "        vertical-align: top;\n",
       "    }\n",
       "\n",
       "    .dataframe thead th {\n",
       "        text-align: right;\n",
       "    }\n",
       "</style>\n",
       "<table border=\"1\" class=\"dataframe\">\n",
       "  <thead>\n",
       "    <tr style=\"text-align: right;\">\n",
       "      <th></th>\n",
       "      <th>tweet_id</th>\n",
       "      <th>in_reply_to_status_id</th>\n",
       "      <th>in_reply_to_user_id</th>\n",
       "      <th>tweet_timestamp</th>\n",
       "      <th>source</th>\n",
       "      <th>text</th>\n",
       "      <th>retweeted_status_id</th>\n",
       "      <th>retweeted_status_user_id</th>\n",
       "      <th>retweeted_status_timestamp</th>\n",
       "      <th>expanded_urls</th>\n",
       "      <th>rating_numerator</th>\n",
       "      <th>rating_denominator</th>\n",
       "      <th>name</th>\n",
       "      <th>growth_stage</th>\n",
       "      <th>growth_stage_value</th>\n",
       "    </tr>\n",
       "  </thead>\n",
       "  <tbody>\n",
       "    <tr>\n",
       "      <th>0</th>\n",
       "      <td>886054160059072513</td>\n",
       "      <td>0</td>\n",
       "      <td>0</td>\n",
       "      <td>2017-07-15 02:45:48+00:00</td>\n",
       "      <td>&lt;a href=\"http://twitter.com/download/iphone\" r...</td>\n",
       "      <td>RT @Athletics: 12/10 #BATP https://t.co/WxwJmv...</td>\n",
       "      <td>886053734421102592</td>\n",
       "      <td>19607400</td>\n",
       "      <td>2017-07-15 02:44:07+00:00</td>\n",
       "      <td>https://twitter.com/dog_rates/status/886053434...</td>\n",
       "      <td>12</td>\n",
       "      <td>10</td>\n",
       "      <td>None</td>\n",
       "      <td>doggo</td>\n",
       "      <td>None</td>\n",
       "    </tr>\n",
       "    <tr>\n",
       "      <th>1</th>\n",
       "      <td>885311592912609280</td>\n",
       "      <td>0</td>\n",
       "      <td>0</td>\n",
       "      <td>2017-07-13 01:35:06+00:00</td>\n",
       "      <td>&lt;a href=\"http://twitter.com/download/iphone\" r...</td>\n",
       "      <td>RT @dog_rates: This is Lilly. She just paralle...</td>\n",
       "      <td>830583320585068544</td>\n",
       "      <td>4196983835</td>\n",
       "      <td>2017-02-12 01:04:29+00:00</td>\n",
       "      <td>https://twitter.com/dog_rates/status/830583320...</td>\n",
       "      <td>13</td>\n",
       "      <td>10</td>\n",
       "      <td>Lilly</td>\n",
       "      <td>doggo</td>\n",
       "      <td>None</td>\n",
       "    </tr>\n",
       "    <tr>\n",
       "      <th>2</th>\n",
       "      <td>879130579576475649</td>\n",
       "      <td>0</td>\n",
       "      <td>0</td>\n",
       "      <td>2017-06-26 00:13:58+00:00</td>\n",
       "      <td>&lt;a href=\"http://twitter.com/download/iphone\" r...</td>\n",
       "      <td>RT @dog_rates: This is Emmy. She was adopted t...</td>\n",
       "      <td>878057613040115712</td>\n",
       "      <td>4196983835</td>\n",
       "      <td>2017-06-23 01:10:23+00:00</td>\n",
       "      <td>https://twitter.com/dog_rates/status/878057613...</td>\n",
       "      <td>14</td>\n",
       "      <td>10</td>\n",
       "      <td>Emmy</td>\n",
       "      <td>doggo</td>\n",
       "      <td>None</td>\n",
       "    </tr>\n",
       "    <tr>\n",
       "      <th>3</th>\n",
       "      <td>878404777348136964</td>\n",
       "      <td>0</td>\n",
       "      <td>0</td>\n",
       "      <td>2017-06-24 00:09:53+00:00</td>\n",
       "      <td>&lt;a href=\"http://twitter.com/download/iphone\" r...</td>\n",
       "      <td>RT @dog_rates: Meet Shadow. In an attempt to r...</td>\n",
       "      <td>878281511006478336</td>\n",
       "      <td>4196983835</td>\n",
       "      <td>2017-06-23 16:00:04+00:00</td>\n",
       "      <td>https://www.gofundme.com/3yd6y1c,https://twitt...</td>\n",
       "      <td>13</td>\n",
       "      <td>10</td>\n",
       "      <td>Shadow</td>\n",
       "      <td>doggo</td>\n",
       "      <td>None</td>\n",
       "    </tr>\n",
       "    <tr>\n",
       "      <th>4</th>\n",
       "      <td>878316110768087041</td>\n",
       "      <td>0</td>\n",
       "      <td>0</td>\n",
       "      <td>2017-06-23 18:17:33+00:00</td>\n",
       "      <td>&lt;a href=\"http://twitter.com/download/iphone\" r...</td>\n",
       "      <td>RT @dog_rates: Meet Terrance. He's being yelle...</td>\n",
       "      <td>669000397445533696</td>\n",
       "      <td>4196983835</td>\n",
       "      <td>2015-11-24 03:51:38+00:00</td>\n",
       "      <td>https://twitter.com/dog_rates/status/669000397...</td>\n",
       "      <td>11</td>\n",
       "      <td>10</td>\n",
       "      <td>Terrance</td>\n",
       "      <td>doggo</td>\n",
       "      <td>None</td>\n",
       "    </tr>\n",
       "  </tbody>\n",
       "</table>\n",
       "</div>"
      ],
      "text/plain": [
       "             tweet_id  in_reply_to_status_id  in_reply_to_user_id  \\\n",
       "0  886054160059072513                      0                    0   \n",
       "1  885311592912609280                      0                    0   \n",
       "2  879130579576475649                      0                    0   \n",
       "3  878404777348136964                      0                    0   \n",
       "4  878316110768087041                      0                    0   \n",
       "\n",
       "             tweet_timestamp  \\\n",
       "0  2017-07-15 02:45:48+00:00   \n",
       "1  2017-07-13 01:35:06+00:00   \n",
       "2  2017-06-26 00:13:58+00:00   \n",
       "3  2017-06-24 00:09:53+00:00   \n",
       "4  2017-06-23 18:17:33+00:00   \n",
       "\n",
       "                                              source  \\\n",
       "0  <a href=\"http://twitter.com/download/iphone\" r...   \n",
       "1  <a href=\"http://twitter.com/download/iphone\" r...   \n",
       "2  <a href=\"http://twitter.com/download/iphone\" r...   \n",
       "3  <a href=\"http://twitter.com/download/iphone\" r...   \n",
       "4  <a href=\"http://twitter.com/download/iphone\" r...   \n",
       "\n",
       "                                                text  retweeted_status_id  \\\n",
       "0  RT @Athletics: 12/10 #BATP https://t.co/WxwJmv...   886053734421102592   \n",
       "1  RT @dog_rates: This is Lilly. She just paralle...   830583320585068544   \n",
       "2  RT @dog_rates: This is Emmy. She was adopted t...   878057613040115712   \n",
       "3  RT @dog_rates: Meet Shadow. In an attempt to r...   878281511006478336   \n",
       "4  RT @dog_rates: Meet Terrance. He's being yelle...   669000397445533696   \n",
       "\n",
       "   retweeted_status_user_id retweeted_status_timestamp  \\\n",
       "0                  19607400  2017-07-15 02:44:07+00:00   \n",
       "1                4196983835  2017-02-12 01:04:29+00:00   \n",
       "2                4196983835  2017-06-23 01:10:23+00:00   \n",
       "3                4196983835  2017-06-23 16:00:04+00:00   \n",
       "4                4196983835  2015-11-24 03:51:38+00:00   \n",
       "\n",
       "                                       expanded_urls  rating_numerator  \\\n",
       "0  https://twitter.com/dog_rates/status/886053434...                12   \n",
       "1  https://twitter.com/dog_rates/status/830583320...                13   \n",
       "2  https://twitter.com/dog_rates/status/878057613...                14   \n",
       "3  https://www.gofundme.com/3yd6y1c,https://twitt...                13   \n",
       "4  https://twitter.com/dog_rates/status/669000397...                11   \n",
       "\n",
       "   rating_denominator      name growth_stage growth_stage_value  \n",
       "0                  10      None        doggo               None  \n",
       "1                  10     Lilly        doggo               None  \n",
       "2                  10      Emmy        doggo               None  \n",
       "3                  10    Shadow        doggo               None  \n",
       "4                  10  Terrance        doggo               None  "
      ]
     },
     "execution_count": 231,
     "metadata": {},
     "output_type": "execute_result"
    }
   ],
   "source": [
    "df_retweets.head()"
   ]
  },
  {
   "cell_type": "code",
   "execution_count": 24,
   "id": "cde5fe45",
   "metadata": {},
   "outputs": [
    {
     "data": {
      "text/plain": [
       "<AxesSubplot:xlabel='growth_stage_value', ylabel='count'>"
      ]
     },
     "execution_count": 24,
     "metadata": {},
     "output_type": "execute_result"
    },
    {
     "data": {
      "image/png": "[encoded data removed]",
      "text/plain": [
       "<Figure size 432x288 with 1 Axes>"
      ]
     },
     "metadata": {
      "needs_background": "light"
     },
     "output_type": "display_data"
    }
   ],
   "source": [
    "base_color = sb.color_palette()[1]\n",
    "sb.countplot(data=df_retweets, x=\"growth_stage_value\",color=base_color);"
   ]
  },
  {
   "cell_type": "code",
   "execution_count": 7,
   "id": "95931246",
   "metadata": {},
   "outputs": [
    {
     "data": {
      "text/plain": [
       "None      606\n",
       "pupper     21\n",
       "doggo       8\n",
       "puppo       5\n",
       "Name: growth_stage_value, dtype: int64"
      ]
     },
     "execution_count": 7,
     "metadata": {},
     "output_type": "execute_result"
    }
   ],
   "source": [
    "df_retweets['growth_stage_value'].value_counts()"
   ]
  },
  {
   "cell_type": "code",
   "execution_count": 243,
   "id": "c059914b",
   "metadata": {},
   "outputs": [
    {
     "data": {
      "text/plain": [
       "<AxesSubplot:xlabel='growth_stage_value', ylabel='count'>"
      ]
     },
     "execution_count": 243,
     "metadata": {},
     "output_type": "execute_result"
    },
    {
     "data": {
      "image/png": "[encoded data removed]",
      "text/plain": [
       "<Figure size 432x288 with 1 Axes>"
      ]
     },
     "metadata": {
      "needs_background": "light"
     },
     "output_type": "display_data"
    }
   ],
   "source": [
    "base_color = sb.color_palette()[0]\n",
    "sb.countplot(data=df_twitter_archive_master, x=\"growth_stage_value\",color=base_color)\n",
    "\n"
   ]
  },
  {
   "cell_type": "code",
   "execution_count": 6,
   "id": "f8ef1d02",
   "metadata": {},
   "outputs": [
    {
     "data": {
      "text/plain": [
       "None       8301\n",
       "pupper      234\n",
       "doggo        86\n",
       "puppo        25\n",
       "floofer      10\n",
       "Name: growth_stage_value, dtype: int64"
      ]
     },
     "execution_count": 6,
     "metadata": {},
     "output_type": "execute_result"
    }
   ],
   "source": [
    "df_twitter_archive_master['growth_stage_value'].value_counts()"
   ]
  },
  {
   "cell_type": "code",
   "execution_count": 88,
   "id": "335cdd09",
   "metadata": {},
   "outputs": [
    {
     "data": {
      "text/plain": [
       "Text(0, 0.5, 'Frequency of Certainties')"
      ]
     },
     "execution_count": 88,
     "metadata": {},
     "output_type": "execute_result"
    },
    {
     "data": {
      "image/png": "[encoded data removed]",
      "text/plain": [
       "<Figure size 576x576 with 1 Axes>"
      ]
     },
     "metadata": {
      "needs_background": "light"
     },
     "output_type": "display_data"
    }
   ],
   "source": [
    "df_twitter_archive_master['tp1_confidence'].hist(figsize=(8,8));\n",
    "plt.title(\"First Certainty of Prediction Distribution\")\n",
    "plt.xlabel(\"Certainty of Prediction\")\n",
    "plt.ylabel(\"Frequency of Certainties\")\n",
    "    "
   ]
  },
  {
   "cell_type": "code",
   "execution_count": 89,
   "id": "cc680c93",
   "metadata": {},
   "outputs": [
    {
     "data": {
      "text/plain": [
       "0    0.042319\n",
       "1    0.052956\n",
       "dtype: float64"
      ]
     },
     "execution_count": 89,
     "metadata": {},
     "output_type": "execute_result"
    }
   ],
   "source": [
    "df_twitter_archive_master['tp2_confidence'].mode()"
   ]
  },
  {
   "cell_type": "code",
   "execution_count": 90,
   "id": "cd2c11df",
   "metadata": {},
   "outputs": [
    {
     "data": {
      "text/plain": [
       "Text(0, 0.5, 'Frequency of Certainties')"
      ]
     },
     "execution_count": 90,
     "metadata": {},
     "output_type": "execute_result"
    },
    {
     "data": {
      "image/png": "[encoded data removed]",
      "text/plain": [
       "<Figure size 576x576 with 1 Axes>"
      ]
     },
     "metadata": {
      "needs_background": "light"
     },
     "output_type": "display_data"
    }
   ],
   "source": [
    "df_twitter_archive_master['tp2_confidence'].hist(figsize=(8,8))\n",
    "plt.title(\"Second Certainty of Prediction Distribution\")\n",
    "plt.xlabel(\"Certainty of Prediction\")\n",
    "plt.ylabel(\"Frequency of Certainties\")"
   ]
  },
  {
   "cell_type": "code",
   "execution_count": 91,
   "id": "6f303062",
   "metadata": {},
   "outputs": [
    {
     "data": {
      "text/plain": [
       "Text(0, 0.5, 'Frequency of Certainties')"
      ]
     },
     "execution_count": 91,
     "metadata": {},
     "output_type": "execute_result"
    },
    {
     "data": {
      "image/png": "[encoded data removed]",
      "text/plain": [
       "<Figure size 576x576 with 1 Axes>"
      ]
     },
     "metadata": {
      "needs_background": "light"
     },
     "output_type": "display_data"
    }
   ],
   "source": [
    "df_twitter_archive_master['tp3_confidence'].hist(figsize=(8,8))\n",
    "plt.title(\"Third Certainty of Prediction Distribution\")\n",
    "plt.xlabel(\"Certainty of Prediction\")\n",
    "plt.ylabel(\"Frequency of Certainties\")"
   ]
  },
  {
   "cell_type": "markdown",
   "id": "3569ec5a",
   "metadata": {},
   "source": [
    "<a id='insights'></a>\n",
    "## Insights\n",
    "\n",
    "1. Rating Numerator has 12 as the modal value. \n",
    "2. The values of `tp3_confidence` has an exponential distribution. \n",
    "3. The values of `tp1_confidence` is seeming bimodal but not exactly bimodal.\n",
    "4. The values of tp2_confidence are seeming exponentially distributed as well.\n",
    "5. Floofer is the least classification of dogs at WeRateDogs archive.\n",
    "6. Many dogs were not classified to be under any growth category.\n"
   ]
  },
  {
   "cell_type": "code",
   "execution_count": null,
   "id": "1561d127",
   "metadata": {},
   "outputs": [],
   "source": []
  }
 ],
 "metadata": {
  "kernelspec": {
   "display_name": "Python [conda env:python3_6] *",
   "language": "python",
   "name": "conda-env-python3_6-py"
  },
  "language_info": {
   "codemirror_mode": {
    "name": "ipython",
    "version": 3
   },
   "file_extension": ".py",
   "mimetype": "text/x-python",
   "name": "python",
   "nbconvert_exporter": "python",
   "pygments_lexer": "ipython3",
   "version": "3.6.13"
  }
 },
 "nbformat": 4,
 "nbformat_minor": 5
}
