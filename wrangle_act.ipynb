{
 "cells": [
  {
   "cell_type": "code",
   "execution_count": null,
   "id": "f468c3c7",
   "metadata": {},
   "outputs": [],
   "source": [
    "import requests\n",
    "import pandas as pd\n",
    "import numpy as np\n",
    "\n",
    "import sys\n",
    "import sys\n",
    "!{sys.executable} -m pip install tweepy\n",
    "\n",
    "import json\n",
    "import time\n",
    "import tweepy"
   ]
  },
  {
   "cell_type": "code",
   "execution_count": null,
   "id": "ebaf4236",
   "metadata": {},
   "outputs": [],
   "source": [
    "pd.options.display.max_colwidth = 100"
   ]
  },
  {
   "cell_type": "markdown",
   "id": "23277a59",
   "metadata": {},
   "source": [
    "## Gather\n",
    "Collect twitter data using csv and dog predictions via requests and additional twiiter data through the api"
   ]
  },
  {
   "cell_type": "code",
   "execution_count": null,
   "id": "d61b2218",
   "metadata": {},
   "outputs": [],
   "source": [
    "#twitter from file\n",
    "\n",
    "twitter_df = pd.read_csv(\"twitter-archive-enhanced.csv\", delimiter=\",\")"
   ]
  },
  {
   "cell_type": "code",
   "execution_count": null,
   "id": "c7ad7320",
   "metadata": {},
   "outputs": [],
   "source": [
    "#predictions from url\n",
    "\n",
    "predictions_url = \"https://d17h27t6h515a5.cloudfront.net/topher/2017/August/599fd2ad_image-predictions/image-predictions.tsv\"\n",
    "response = requests.get(predictions_url)\n",
    "with open(\"image-predictions.tsv\", mode=\"wb\") as file:\n",
    "    file.write(response.content)\n",
    "\n",
    "predictions_df = pd.read_csv(\"image-predictions.tsv\", delimiter=\"\\t\")"
   ]
  },
  {
   "cell_type": "code",
   "execution_count": null,
   "id": "cbddfb1e",
   "metadata": {},
   "outputs": [],
   "source": [
    "#tweets from twitter api\n",
    "\n",
    "api_key = \"api key\"\n",
    "api_secret_key = \"api secret\"\n",
    "bearer_token = \"bearer\"\n",
    "access_toekn = \"access\"\n",
    "access_secret_token = \"access secret\"\n",
    "\n",
    "auth = tweepy.AppAuthHandler(api_key, api_secret_key)\n",
    "api = tweepy.API(auth, wait_on_rate_limit=True, wait_on_rate_limit_notify=True)\n",
    "\n",
    "start = time.time()\n",
    "print(\"starting timer\")\n",
    "with open(\"tweet_json.txt\", \"a\") as fo:\n",
    "    for tid in twitter_df.tweet_id:\n",
    "        try:\n",
    "            tweet = api.get_status(tid, tweet_mode=\"extended\")._json\n",
    "            fo.write(\"\\n\")\n",
    "            fo.write(json.dumps(tweet))\n",
    "        except Exception as e:\n",
    "            print (f\"Error pulling tweet - {e}\")\n",
    "end = time.time()   \n",
    "print (f\"Ended after { end- start}\")"
   ]
  },
  {
   "cell_type": "code",
   "execution_count": null,
   "id": "dc90ee89",
   "metadata": {},
   "outputs": [],
   "source": [
    "# read into data frame\n",
    "\n",
    "df_list = []\n",
    "with open(\"tweet_json.txt\") as f:\n",
    "    for line in f:\n",
    "        if line.strip():\n",
    "            js = json.loads(line)\n",
    "            tweet = {\"tweet_id\": js.get(\"id\"),\n",
    "                \"retweet_count\": js.get(\"retweet_count\"),\n",
    "                \"favorite_count\": js.get(\"favorite_count\")}\n",
    "            df_list.append(tweet)\n",
    "        \n",
    "new_tweet_df = pd.DataFrame(df_list, columns = ['tweet_id', 'retweet_count', 'favorite_count'])\n"
   ]
  },
  {
   "cell_type": "markdown",
   "id": "6f7199ee",
   "metadata": {},
   "source": [
    "# Assess and Clean the 3 dataframes"
   ]
  },
  {
   "cell_type": "markdown",
   "id": "13ce1c3a",
   "metadata": {},
   "source": [
    "## Assess Twitter"
   ]
  },
  {
   "cell_type": "code",
   "execution_count": null,
   "id": "eb524419",
   "metadata": {},
   "outputs": [],
   "source": [
    "twitter_df.sample(50)"
   ]
  },
  {
   "cell_type": "code",
   "execution_count": null,
   "id": "b1281d3c",
   "metadata": {},
   "outputs": [],
   "source": [
    "twitter_df.info()"
   ]
  },
  {
   "cell_type": "code",
   "execution_count": null,
   "id": "57099bda",
   "metadata": {},
   "outputs": [],
   "source": [
    "(twitter_df.doggo.unique(), twitter_df.floofer.unique(), twitter_df.pupper.unique(), twitter_df.puppo.unique())"
   ]
  },
  {
   "cell_type": "code",
   "execution_count": null,
   "id": "2c07d4dd",
   "metadata": {},
   "outputs": [],
   "source": [
    "twitter_df.rating_numerator.unique()"
   ]
  },
  {
   "cell_type": "code",
   "execution_count": null,
   "id": "fcd520fd",
   "metadata": {},
   "outputs": [],
   "source": [
    "twitter_df.rating_denominator.unique()"
   ]
  },
  {
   "cell_type": "code",
   "execution_count": null,
   "id": "3f79b0d3",
   "metadata": {},
   "outputs": [],
   "source": [
    "twitter_df.source.unique()"
   ]
  },
  {
   "cell_type": "code",
   "execution_count": null,
   "id": "a69310e6",
   "metadata": {},
   "outputs": [],
   "source": [
    "denom_list = []\n",
    "\n",
    "for el in [ 0,  15,  70,   7,  11, 150, 170,  20,  50,  90,  80,  40, 130, 110,  16, 120,   2]:\n",
    "        filtered = twitter_df[twitter_df.rating_denominator == el]\n",
    "        denom_list = denom_list + filtered[[\"tweet_id\", \"text\", \"rating_numerator\", \"rating_denominator\"]].values.tolist()\n",
    "denom_list"
   ]
  },
  {
   "cell_type": "markdown",
   "id": "82366724",
   "metadata": {},
   "source": [
    "### Twitter data issues\n",
    "\n",
    "#### cleanliness\n",
    "* Retweets included (retweeted_status_id populated) \n",
    "* Look at timestamp, source fields formatting\n",
    "* Some tweets do not have 10 denominator eg 704054845121142784.\n",
    "* Incorrect name for some eg just for 770093767776997377\n",
    "* Dont need columns in_reply_to_status_id, in_reply_to_user_id, retweeted_status_id, retweeted_status_user_id, retweeted_status_timestamp\n",
    "* source xml, extract clearer value\n",
    "* Incorrect score on some tweets - use denom_list to manually remove or change\n",
    "\n",
    "#### tidiness\n",
    "* doggo, floofer, pupper, puppo fields should can be represented as a single column.\n",
    "* tweet dog information in seprate tables."
   ]
  },
  {
   "cell_type": "markdown",
   "id": "3f005dd8",
   "metadata": {},
   "source": [
    "## Clean Twitter\n",
    "\n",
    "#### cleanliness\n",
    "1. Delete retweets and replies (where retweeted_status_id populated) \n",
    "2. Standardise timestamp\n",
    "3. Change all denominators to 10.\n",
    "4. Fix Incorrect names eg on 770093767776997377, change to None or find name where possible\n",
    "5. remove columns related to retweets\n",
    "6. Extract the source name from xml\n",
    "7. remove null urls\n",
    "\n",
    "#### tidiness\n",
    "\n",
    "1. Flatten doggo, puppo, pupper and floofer columns\n",
    "2. Split dog information and tweet details into seperate tables"
   ]
  },
  {
   "cell_type": "markdown",
   "id": "127ad8ed",
   "metadata": {},
   "source": [
    "### Cleanliness 1 - remove retweets and replies"
   ]
  },
  {
   "cell_type": "code",
   "execution_count": null,
   "id": "3098867b",
   "metadata": {},
   "outputs": [],
   "source": [
    "twitter_df_copy = twitter_df.copy()\n",
    "filtered_twitter_df = twitter_df_copy[twitter_df_copy.in_reply_to_status_id.isnull()]\n",
    "filtered_twitter_df = filtered_twitter_df[filtered_twitter_df.retweeted_status_id.isnull()]"
   ]
  },
  {
   "cell_type": "code",
   "execution_count": null,
   "id": "5cf9450a",
   "metadata": {},
   "outputs": [],
   "source": []
  },
  {
   "cell_type": "markdown",
   "id": "c6bec2ea",
   "metadata": {},
   "source": [
    "### Test"
   ]
  },
  {
   "cell_type": "code",
   "execution_count": null,
   "id": "04e8e0bc",
   "metadata": {},
   "outputs": [],
   "source": [
    "(twitter_df_copy.count(), filtered_twitter_df.count())"
   ]
  },
  {
   "cell_type": "code",
   "execution_count": null,
   "id": "dbc864a5",
   "metadata": {},
   "outputs": [],
   "source": [
    "(filtered_twitter_df[~filtered_twitter_df.retweeted_status_id.isnull()].count(), filtered_twitter_df[~filtered_twitter_df.in_reply_to_status_id.isnull()].count())"
   ]
  },
  {
   "cell_type": "code",
   "execution_count": null,
   "id": "f3a824e4",
   "metadata": {},
   "outputs": [],
   "source": [
    "(twitter_df_copy[~twitter_df_copy.retweeted_status_id.isnull()].count(), twitter_df_copy[~twitter_df_copy.in_reply_to_status_id.isnull()].count())"
   ]
  },
  {
   "cell_type": "markdown",
   "id": "31c2f515",
   "metadata": {},
   "source": [
    "### Cleanliness 2 - reformat timestamp timestamp"
   ]
  },
  {
   "cell_type": "code",
   "execution_count": null,
   "id": "23a4ed42",
   "metadata": {},
   "outputs": [],
   "source": [
    "filtered_twitter_df.timestamp = pd.to_datetime(filtered_twitter_df.timestamp).astype('datetime64[ns]')"
   ]
  },
  {
   "cell_type": "markdown",
   "id": "7ff1b216",
   "metadata": {},
   "source": [
    "### Test"
   ]
  },
  {
   "cell_type": "code",
   "execution_count": null,
   "id": "8179fde0",
   "metadata": {},
   "outputs": [],
   "source": [
    "filtered_twitter_df.sample(10)"
   ]
  },
  {
   "cell_type": "code",
   "execution_count": null,
   "id": "396c3d66",
   "metadata": {},
   "outputs": [],
   "source": [
    "filtered_twitter_df.info()"
   ]
  },
  {
   "cell_type": "markdown",
   "id": "304eec22",
   "metadata": {},
   "source": [
    "### Cleanliness 3 - Fix scores\n",
    "\n",
    "Use denom list above to fix/remove entries\n",
    "\n",
    "#### Update manually single dog\n",
    "\n",
    "* 666287406224695296 -> 9/10\n",
    "* 716439118184652801 -> 11/10\n",
    "* 682962037429899265 -> 10/10\n",
    "* 740373189193256964 -> 14/10\n",
    "\n",
    "#### The follow tweet should not be included wrong, unsure what should be or groups of dogs which could negatively effect predictions.\n",
    "* 677716515794329600 \n",
    "* 682808988178739200\n",
    "* 684222868335505415\n",
    "* 684225744407494656\n",
    "* 697463031882764288\n",
    "* 710658690886586372\n",
    "* 713900603437621249\n",
    "* 704054845121142784\n",
    "* 709198395643068416\n",
    "* 686035780142297088\n",
    "* 758467244762497024\n",
    "* 810984652412424192\n",
    "* 832088576586297345\n",
    "* 835246439529840640\n",
    "* 820690176645140481\n",
    "* 775096608509886464"
   ]
  },
  {
   "cell_type": "code",
   "execution_count": null,
   "id": "400ba39d",
   "metadata": {},
   "outputs": [],
   "source": [
    "denom_list"
   ]
  },
  {
   "cell_type": "code",
   "execution_count": null,
   "id": "fcf8fbfe",
   "metadata": {},
   "outputs": [],
   "source": [
    "# remove entries\n",
    "drop_list = [677716515794329600,682808988178739200,684222868335505415,684225744407494656,697463031882764288,710658690886586372\n",
    "            ,713900603437621249,704054845121142784,709198395643068416,686035780142297088,758467244762497024\n",
    "            ,810984652412424192,832088576586297345,835246439529840640,820690176645140481,775096608509886464]\n",
    "clean_scores_df = filtered_twitter_df[~filtered_twitter_df.tweet_id.isin(drop_list)]"
   ]
  },
  {
   "cell_type": "code",
   "execution_count": null,
   "id": "5111e8a1",
   "metadata": {},
   "outputs": [],
   "source": [
    "# update scores\n",
    "chage_list = [[666287406224695296,9],[716439118184652801, 11],[682962037429899265, 10],\n",
    "[740373189193256964, 14]]\n",
    "\n",
    "for el in chage_list:\n",
    "    clean_scores_df.loc[clean_scores_df.tweet_id == el[0], [\"rating_numerator\", \"rating_denominator\"]] = el[1], 10"
   ]
  },
  {
   "cell_type": "markdown",
   "id": "cad96e63",
   "metadata": {},
   "source": [
    "### Test"
   ]
  },
  {
   "cell_type": "code",
   "execution_count": null,
   "id": "78263710",
   "metadata": {},
   "outputs": [],
   "source": [
    "clean_scores_df[clean_scores_df.tweet_id == 716439118184652801]"
   ]
  },
  {
   "cell_type": "code",
   "execution_count": null,
   "id": "cd131162",
   "metadata": {},
   "outputs": [],
   "source": [
    "clean_scores_df.tweet_id.count()"
   ]
  },
  {
   "cell_type": "markdown",
   "id": "9b7a3abd",
   "metadata": {},
   "source": [
    "### Cleanliness 4 - fix Incorrect names replace all lower case names with none"
   ]
  },
  {
   "cell_type": "code",
   "execution_count": null,
   "id": "e7b2ea4a",
   "metadata": {},
   "outputs": [],
   "source": [
    "not_names = clean_scores_df.name.str.islower()\n",
    "\n",
    "clean_scores_df.loc[not_names, \"name\"] = None"
   ]
  },
  {
   "cell_type": "markdown",
   "id": "3e856cc7",
   "metadata": {},
   "source": [
    "### Test"
   ]
  },
  {
   "cell_type": "code",
   "execution_count": null,
   "id": "f99a96a0",
   "metadata": {},
   "outputs": [],
   "source": [
    "clean_scores_df[clean_scores_df.name == \"a\"]"
   ]
  },
  {
   "cell_type": "markdown",
   "id": "7784cf31",
   "metadata": {},
   "source": [
    "### Cleanliness 5 - remove columns related to retweets\n",
    "\n",
    "* 'in_reply_to_status_id', 'in_reply_to_user_id' 'retweeted_status_user_id',  'retweeted_status_timestamp', 'retweeted_status_id'"
   ]
  },
  {
   "cell_type": "code",
   "execution_count": null,
   "id": "ac6fbb29",
   "metadata": {},
   "outputs": [],
   "source": [
    "reduced_df = clean_scores_df.drop(columns=['in_reply_to_status_id','in_reply_to_user_id','retweeted_status_user_id','retweeted_status_timestamp', 'retweeted_status_id'])"
   ]
  },
  {
   "cell_type": "markdown",
   "id": "30c0b7d6",
   "metadata": {},
   "source": [
    "### Test"
   ]
  },
  {
   "cell_type": "code",
   "execution_count": null,
   "id": "5a9c7e88",
   "metadata": {},
   "outputs": [],
   "source": [
    "reduced_df.sample(1)"
   ]
  },
  {
   "cell_type": "markdown",
   "id": "46cf568e",
   "metadata": {},
   "source": [
    "### Cleanliness 6 - clean source column\n",
    "\n",
    "* href=\"http://twitter.com/download/iphone\" rel=\"nofollow\">Twitter for iPhone</a>     -> Twitter for iPhone\n",
    "* href=\"http://vine.co\" rel=\"nofollow\">Vine - Make a Scene</a>                         -> Vine - Make a Scene\n",
    "* href=\"http://twitter.com\" rel=\"nofollow\">Twitter Web Client</a>                      -> Twitter Web Client\n",
    "* href=\"https://about.twitter.com/products/tweetdeck\" rel=\"nofollow\">TweetDeck</a>     -> TweetDeck"
   ]
  },
  {
   "cell_type": "code",
   "execution_count": null,
   "id": "c7429f27",
   "metadata": {},
   "outputs": [],
   "source": [
    "replace_list = [['<a href=\"http://twitter.com/download/iphone\" rel=\"nofollow\">Twitter for iPhone</a>', 'Twitter for iPhone'],\n",
    "['<a href=\"http://vine.co\" rel=\"nofollow\">Vine - Make a Scene</a>', 'Vine - Make a Scene'],\n",
    "['<a href=\"http://twitter.com\" rel=\"nofollow\">Twitter Web Client</a>', 'Twitter Web Client'],\n",
    "['<a href=\"https://about.twitter.com/products/tweetdeck\" rel=\"nofollow\">TweetDeck</a>', 'TweetDeck']]\n",
    "\n",
    "for src in replace_list:\n",
    "    reduced_df.source.replace(to_replace=src[0], value=src[1], inplace=True)"
   ]
  },
  {
   "cell_type": "markdown",
   "id": "c26293bc",
   "metadata": {},
   "source": [
    "### Test"
   ]
  },
  {
   "cell_type": "code",
   "execution_count": null,
   "id": "88f25d15",
   "metadata": {},
   "outputs": [],
   "source": [
    "reduced_df.source.value_counts()"
   ]
  },
  {
   "cell_type": "markdown",
   "id": "2e083f6d",
   "metadata": {},
   "source": [
    "### Cleanliness 7 - Remove null urls"
   ]
  },
  {
   "cell_type": "code",
   "execution_count": null,
   "id": "00c4e375",
   "metadata": {},
   "outputs": [],
   "source": [
    "final_clean_twitter = reduced_df[~reduced_df.expanded_urls.isnull()]"
   ]
  },
  {
   "cell_type": "markdown",
   "id": "eb414f65",
   "metadata": {},
   "source": [
    "### Test"
   ]
  },
  {
   "cell_type": "code",
   "execution_count": null,
   "id": "012a7c78",
   "metadata": {},
   "outputs": [],
   "source": [
    "final_clean_twitter[final_clean_twitter.expanded_urls.isnull()]"
   ]
  },
  {
   "cell_type": "markdown",
   "id": "4b706271",
   "metadata": {},
   "source": [
    "### Tidiness 1 flatten dog stage"
   ]
  },
  {
   "cell_type": "code",
   "execution_count": null,
   "id": "2fabd04e",
   "metadata": {},
   "outputs": [],
   "source": [
    "#Nones are a string, need to change\n",
    "for col in [\"doggo\", \"floofer\", \"pupper\", \"puppo\"]:\n",
    "    reduced_df[col].replace(to_replace=\"None\", value=None, inplace=True)"
   ]
  },
  {
   "cell_type": "code",
   "execution_count": null,
   "id": "f77f0247",
   "metadata": {},
   "outputs": [],
   "source": [
    "# back fill with stage\n",
    "reduced_df['dog_status'] = reduced_df.bfill(axis=1).iloc[:,8]"
   ]
  },
  {
   "cell_type": "code",
   "execution_count": null,
   "id": "b69cb3c4",
   "metadata": {},
   "outputs": [],
   "source": [
    "reduced_cols = reduced_df.drop(columns=[\"doggo\", \"floofer\", \"pupper\", \"puppo\"])"
   ]
  },
  {
   "cell_type": "markdown",
   "id": "c85e7519",
   "metadata": {},
   "source": [
    "### Test"
   ]
  },
  {
   "cell_type": "code",
   "execution_count": null,
   "id": "d883bf81",
   "metadata": {},
   "outputs": [],
   "source": [
    "reduced_cols.dog_status.value_counts()"
   ]
  },
  {
   "cell_type": "code",
   "execution_count": null,
   "id": "6d8b9648",
   "metadata": {},
   "outputs": [],
   "source": [
    "reduced_cols.columns"
   ]
  },
  {
   "cell_type": "markdown",
   "id": "9a9b8fed",
   "metadata": {},
   "source": [
    "### Tidiness 2 split into 2 dataframes"
   ]
  },
  {
   "cell_type": "code",
   "execution_count": null,
   "id": "c62e87bd",
   "metadata": {},
   "outputs": [],
   "source": [
    "tweets = reduced_cols[[\"tweet_id\", \"timestamp\", \"source\", \"text\", \"expanded_urls\"]]\n",
    "dogs = reduced_cols[[\"tweet_id\", \"name\", \"rating_numerator\", \"rating_denominator\", \"dog_status\"]]"
   ]
  },
  {
   "cell_type": "markdown",
   "id": "3522dd41",
   "metadata": {},
   "source": [
    "### Test"
   ]
  },
  {
   "cell_type": "code",
   "execution_count": null,
   "id": "4f46175d",
   "metadata": {},
   "outputs": [],
   "source": [
    "tweets.sample(1)"
   ]
  },
  {
   "cell_type": "code",
   "execution_count": null,
   "id": "39f873d3",
   "metadata": {},
   "outputs": [],
   "source": [
    "dogs.sample(1)"
   ]
  },
  {
   "cell_type": "markdown",
   "id": "d2d6b6b5",
   "metadata": {},
   "source": [
    "## Assess Predictions"
   ]
  },
  {
   "cell_type": "code",
   "execution_count": null,
   "id": "4b35f7da",
   "metadata": {},
   "outputs": [],
   "source": [
    "predictions_df.info()"
   ]
  },
  {
   "cell_type": "code",
   "execution_count": null,
   "id": "2be9e349",
   "metadata": {},
   "outputs": [],
   "source": [
    "predictions_df.sample(50)"
   ]
  },
  {
   "cell_type": "code",
   "execution_count": null,
   "id": "8a589d04",
   "metadata": {},
   "outputs": [],
   "source": [
    "predictions_df.describe()"
   ]
  },
  {
   "cell_type": "code",
   "execution_count": null,
   "id": "3094f7a7",
   "metadata": {},
   "outputs": [],
   "source": [
    "predictions_df.img_num.unique()"
   ]
  },
  {
   "cell_type": "code",
   "execution_count": null,
   "id": "f6078323",
   "metadata": {},
   "outputs": [],
   "source": [
    "predictions_df.p3_dog.value_counts()"
   ]
  },
  {
   "cell_type": "markdown",
   "id": "4bc9ad46",
   "metadata": {},
   "source": [
    "## Predicitons data issues\n",
    "\n",
    "#### cleanliness\n",
    "\n",
    "* columns names p1-p3 not very clear\n",
    "* predictions names are not in a consistent format, eg some capitalised some with _ and some -\n",
    "\n",
    "#### tidiness\n",
    "* predictios should be in seperate table"
   ]
  },
  {
   "cell_type": "markdown",
   "id": "a89492df",
   "metadata": {},
   "source": [
    "## Clean Predicitons \n",
    "\n",
    "\n",
    "#### cleanliness\n",
    "1. Rename p1, p2, p3 columns\n",
    "2. Rename p1_dog, p2_dog, p3_dog \n",
    "3. Rename p1_conf, p2_conf, p3_conf\n",
    "4. Reformat pi columns, change all - to _ and make all lower case\n",
    "\n",
    "\n",
    "#### tidiness\n",
    "\n",
    "1. Each prediction should be one row -> each row should be transform to 3 rows"
   ]
  },
  {
   "cell_type": "markdown",
   "id": "039ed539",
   "metadata": {},
   "source": [
    "### Tidy and rename columns at the same time"
   ]
  },
  {
   "cell_type": "code",
   "execution_count": null,
   "id": "b727e91c",
   "metadata": {},
   "outputs": [],
   "source": [
    "predictions_df_copy = predictions_df.copy()\n",
    "\n",
    "## rename cols for joining on prediction number\n",
    "cols_to_rename = {\"p1_conf\": \"p1\", \"p2_conf\": \"p2\",\"p3_conf\": \"p3\", \"p1_dog\": \"p1\", \"p2_dog\": \"p2\",\"p3_dog\": \"p3\",}\n",
    "\n",
    "#keep name \n",
    "preds_df = predictions_df_copy[['tweet_id', 'jpg_url', 'img_num', 'p1', 'p2', 'p3']]\n",
    "preds_melt = preds_df.melt(id_vars=['tweet_id', 'jpg_url', 'img_num'], var_name='prediction_number', value_name='breed')\n",
    "\n",
    "#confidence values cols\n",
    "preds_conf_cols = predictions_df_copy[['tweet_id', 'jpg_url', 'img_num', 'p1_conf', 'p2_conf', 'p3_conf']]\n",
    "#rename to pred number for joining\n",
    "preds_conf_df_rename = preds_conf_cols.rename(columns=cols_to_rename)\n",
    "preds_conf_melt = preds_conf_df_rename.melt(id_vars=['tweet_id', 'jpg_url', 'img_num'], var_name='prediction_number', value_name='confidence')\n",
    "\n",
    "#is bredd values cols\n",
    "preds_is_dog_cols = predictions_df_copy[['tweet_id', 'jpg_url', 'img_num', 'p1_dog', 'p2_dog', 'p3_dog']]\n",
    "#rename to pred number for joining\n",
    "preds_is_dog_rename = preds_is_dog_cols.rename(columns=cols_to_rename)\n",
    "preds_is_dog_melt = preds_is_dog_rename.melt(id_vars=['tweet_id', 'jpg_url', 'img_num'], var_name='prediction_number', value_name='is_dog')\n"
   ]
  },
  {
   "cell_type": "code",
   "execution_count": null,
   "id": "c7054144",
   "metadata": {},
   "outputs": [],
   "source": [
    "# join the 3 dataframes on prediction number, tweet id and image details so each row is a single observation\n",
    "joined = preds_melt.merge(preds_conf_melt, on=['tweet_id', 'jpg_url', 'img_num', 'prediction_number']).merge(preds_is_dog_melt, on=['tweet_id', 'jpg_url', 'img_num', 'prediction_number'])"
   ]
  },
  {
   "cell_type": "markdown",
   "id": "5b262bd6",
   "metadata": {},
   "source": [
    "### Test"
   ]
  },
  {
   "cell_type": "code",
   "execution_count": null,
   "id": "0e754154",
   "metadata": {},
   "outputs": [],
   "source": [
    "joined.sample(10)"
   ]
  },
  {
   "cell_type": "code",
   "execution_count": null,
   "id": "d07cf280",
   "metadata": {},
   "outputs": [],
   "source": [
    "joined[joined.tweet_id ==754747087846248448]"
   ]
  },
  {
   "cell_type": "markdown",
   "id": "37c2a69c",
   "metadata": {},
   "source": [
    "### Clean breed column - easier less work now theres a single column for fix"
   ]
  },
  {
   "cell_type": "code",
   "execution_count": null,
   "id": "c9bbd910",
   "metadata": {},
   "outputs": [],
   "source": [
    "joined.breed = joined.breed.str.lower()\n",
    "joined.breed = joined.breed.str.replace(\"-\",\"_\")"
   ]
  },
  {
   "cell_type": "markdown",
   "id": "fbb49f0f",
   "metadata": {},
   "source": [
    "### Test"
   ]
  },
  {
   "cell_type": "code",
   "execution_count": null,
   "id": "5b32befa",
   "metadata": {},
   "outputs": [],
   "source": [
    "joined[joined.tweet_id ==846042936437604353]"
   ]
  },
  {
   "cell_type": "code",
   "execution_count": null,
   "id": "85ab0f81",
   "metadata": {},
   "outputs": [],
   "source": [
    "joined[joined.tweet_id ==692901601640583168]"
   ]
  },
  {
   "cell_type": "markdown",
   "id": "078e30b5",
   "metadata": {},
   "source": [
    "## Twitter API \n",
    "\n",
    "Assess"
   ]
  },
  {
   "cell_type": "code",
   "execution_count": null,
   "id": "63fcfcbd",
   "metadata": {},
   "outputs": [],
   "source": [
    "new_tweet_df.sample(10)"
   ]
  },
  {
   "cell_type": "code",
   "execution_count": null,
   "id": "177e8a81",
   "metadata": {},
   "outputs": [],
   "source": [
    "new_tweet_df.info()"
   ]
  },
  {
   "cell_type": "code",
   "execution_count": null,
   "id": "b52cb1fa",
   "metadata": {},
   "outputs": [],
   "source": [
    "new_tweet_df.describe()"
   ]
  },
  {
   "cell_type": "markdown",
   "id": "8c4b9aab",
   "metadata": {},
   "source": [
    "## Final dataframes:\n",
    "\n",
    "* joined (predictions single prediction per tweet_id so a tweet id will appear 3 times - 1 for each prediction)\n",
    "* tweets (tweet details)\n",
    "* dogs (dog details)\n",
    "* new_tweet_df (favourite and likes from the api)"
   ]
  },
  {
   "cell_type": "code",
   "execution_count": null,
   "id": "dd33e38e",
   "metadata": {},
   "outputs": [],
   "source": [
    "#join tweets from file to favourtie and like counts\n",
    "tweets_joined = tweets.merge(new_tweet_df, on=['tweet_id'])"
   ]
  },
  {
   "cell_type": "code",
   "execution_count": null,
   "id": "4cc442cd",
   "metadata": {},
   "outputs": [],
   "source": [
    "tweets_joined.sample(10)"
   ]
  },
  {
   "cell_type": "code",
   "execution_count": null,
   "id": "88538928",
   "metadata": {},
   "outputs": [],
   "source": [
    "#write to csv files\n",
    "tweets_joined.to_csv(\"twitter_archive_master.csv\", encoding='utf-8', index=False)\n",
    "joined.to_csv(\"predictions.csv\", encoding='utf-8', index=False)\n",
    "dogs.to_csv(\"dogs.csv\", encoding='utf-8', index=False)"
   ]
  },
  {
   "cell_type": "markdown",
   "id": "f715e50f",
   "metadata": {},
   "source": [
    "# Analysis and Visulisations"
   ]
  },
  {
   "cell_type": "code",
   "execution_count": null,
   "id": "28966ecf",
   "metadata": {},
   "outputs": [],
   "source": []
  },
  {
   "cell_type": "code",
   "execution_count": null,
   "id": "9c5bd959",
   "metadata": {},
   "outputs": [],
   "source": [
    "# Top 5 dog names\n",
    "dog_df = pd.read_csv(\"dogs.csv\", encoding='utf-8')\n",
    "dog_df[dog_df.name != \"None\"].name.value_counts()[:5].index.tolist()"
   ]
  },
  {
   "cell_type": "code",
   "execution_count": null,
   "id": "851801a6",
   "metadata": {},
   "outputs": [],
   "source": [
    "# Top 5 dogs posted going by the first prediction\n",
    "predictions_df = pd.read_csv(\"predictions.csv\", encoding='utf-8')\n",
    "prediction_1_is_dog = predictions_df[(predictions_df.prediction_number == \"p1\") & (predictions_df.is_dog == True)]\n",
    "prediction_1_is_dog.breed.value_counts()[:5].index.tolist()"
   ]
  },
  {
   "cell_type": "code",
   "execution_count": null,
   "id": "68005d16",
   "metadata": {},
   "outputs": [],
   "source": [
    "# Most retweeted dog and most favourited dog\n",
    "tweets_df = pd.read_csv(\"twitter_archive_master.csv\", encoding='utf-8')\n",
    "tweets_and_dogs = tweets_df.merge(prediction_1_is_dog, on=[\"tweet_id\"])\n"
   ]
  },
  {
   "cell_type": "code",
   "execution_count": null,
   "id": "0186c390",
   "metadata": {},
   "outputs": [],
   "source": [
    "#number of tweets\n",
    "tweets_df.tweet_id.count()"
   ]
  },
  {
   "cell_type": "code",
   "execution_count": null,
   "id": "7890fb87",
   "metadata": {},
   "outputs": [],
   "source": [
    "# date range of tweets\n",
    "(tweets.timestamp.min(), tweets.timestamp.max())"
   ]
  },
  {
   "cell_type": "code",
   "execution_count": null,
   "id": "9c9ee883",
   "metadata": {},
   "outputs": [],
   "source": [
    "retweet = tweets_and_dogs.sort_values(\"retweet_count\", ascending=False).head(10)\n",
    "fav = tweets_and_dogs.sort_values(\"favorite_count\", ascending=False).head(10)"
   ]
  },
  {
   "cell_type": "code",
   "execution_count": null,
   "id": "5f4da622",
   "metadata": {},
   "outputs": [],
   "source": [
    "retweet.merge(dog_df, on=\"tweet_id\")"
   ]
  },
  {
   "cell_type": "code",
   "execution_count": null,
   "id": "0a24a3b1",
   "metadata": {},
   "outputs": [],
   "source": [
    "fav.merge(dog_df, on=\"tweet_id\")"
   ]
  },
  {
   "cell_type": "code",
   "execution_count": null,
   "id": "9a450bb8",
   "metadata": {},
   "outputs": [],
   "source": [
    "%matplotlib inline\n",
    "import matplotlib.pyplot as plt\n",
    "\n",
    "fig = plt.figure()\n",
    "ax = fig.add_axes([0,0,1,1])\n",
    "plt.xticks(rotation=80)\n",
    "\n",
    "plt.title(\"Most Retweeted Dogs\")\n",
    "plt.xlabel(\"Dog Breed\")\n",
    "plt.ylabel(\"Number of Retweets\")\n",
    "ax.bar(retweet.breed, retweet.retweet_count)\n"
   ]
  },
  {
   "cell_type": "code",
   "execution_count": null,
   "id": "010cf3de",
   "metadata": {},
   "outputs": [],
   "source": [
    "fig2 = plt.figure()\n",
    "ax = fig2.add_axes([0,0,1,1])\n",
    "plt.xticks(rotation=80)\n",
    "\n",
    "plt.title(\"Most favourited dogs\")\n",
    "plt.xlabel(\"Dog Breed\")\n",
    "plt.ylabel(\"Favourite Count\")\n",
    "ax.bar(fav.breed, fav.favorite_count,  color=\"orange\")"
   ]
  },
  {
   "cell_type": "code",
   "execution_count": null,
   "id": "d528ad94",
   "metadata": {},
   "outputs": [],
   "source": [
    "plt.title(\"Most common dog age\")\n",
    "plt.xlabel(\"\", fontsize=18)\n",
    "labels = np.full(len(dogs.dog_status.value_counts()), \"\", dtype=object)\n",
    "labels[0]=\"t\"\n",
    "dogs.dog_status.value_counts().plot(kind=\"pie\")"
   ]
  }
 ],
 "metadata": {
  "kernelspec": {
   "display_name": "Python 3",
   "language": "python",
   "name": "python3"
  },
  "language_info": {
   "codemirror_mode": {
    "name": "ipython",
    "version": 3
   },
   "file_extension": ".py",
   "mimetype": "text/x-python",
   "name": "python",
   "nbconvert_exporter": "python",
   "pygments_lexer": "ipython3",
   "version": "3.8.8"
  }
 },
 "nbformat": 4,
 "nbformat_minor": 5
}
