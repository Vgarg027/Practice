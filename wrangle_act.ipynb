{
 "cells": [
  {
   "cell_type": "markdown",
   "metadata": {
    "extensions": {
     "jupyter_dashboards": {
      "version": 1,
      "views": {
       "grid_default": {
        "col": 0,
        "height": 4,
        "hidden": false,
        "row": 0,
        "width": 4
       },
       "report_default": {
        "hidden": false
       }
      }
     }
    }
   },
   "source": [
    "# Project: Wrangling and Analyze Data"
   ]
  },
  {
   "cell_type": "code",
   "execution_count": null,
   "metadata": {},
   "outputs": [],
   "source": [
    "import pandas as pd\n",
    "import numpy as np\n",
    "import matplotlib.pyplot as plt\n",
    "import seaborn as sns\n",
    "import tweepy\n",
    "import requests\n",
    "import json as js\n",
    "import io\n",
    "import os\n",
    "\n",
    "%matplotlib inline"
   ]
  },
  {
   "cell_type": "markdown",
   "metadata": {},
   "source": [
    "## Data Gathering\n",
    "In the cell below, gather **all** three pieces of data for this project and load them in the notebook. **Note:** the methods required to gather each data are different.\n",
    "1. Directly download the WeRateDogs Twitter archive data (twitter_archive_enhanced.csv)"
   ]
  },
  {
   "cell_type": "code",
   "execution_count": null,
   "metadata": {
    "extensions": {
     "jupyter_dashboards": {
      "version": 1,
      "views": {
       "grid_default": {
        "hidden": true
       },
       "report_default": {
        "hidden": true
       }
      }
     }
    }
   },
   "outputs": [],
   "source": [
    "#import the twitter archive\n",
    "df_twitter_archive = pd.read_csv('./twitter-archive-enhanced.csv')"
   ]
  },
  {
   "cell_type": "code",
   "execution_count": null,
   "metadata": {},
   "outputs": [],
   "source": [
    "#confirm results\n",
    "df_twitter_archive.head()"
   ]
  },
  {
   "cell_type": "markdown",
   "metadata": {},
   "source": [
    "2. Use the Requests library to download the tweet image prediction (image_predictions.tsv)"
   ]
  },
  {
   "cell_type": "code",
   "execution_count": 87,
   "metadata": {},
   "outputs": [
    {
     "ename": "SSLError",
     "evalue": "HTTPSConnectionPool(host='d17h27t6h515a5.cloudfront.net', port=443): Max retries exceeded with url: /topher/2017/August/599fd2ad_image-predictions/image-predictions.tsv (Caused by SSLError(SSLCertVerificationError(1, '[SSL: CERTIFICATE_VERIFY_FAILED] certificate verify failed: self signed certificate in certificate chain (_ssl.c:1129)')))",
     "output_type": "error",
     "traceback": [
      "\u001b[0;31m---------------------------------------------------------------------------\u001b[0m",
      "\u001b[0;31mSSLCertVerificationError\u001b[0m                  Traceback (most recent call last)",
      "\u001b[0;32m~/opt/anaconda3/lib/python3.9/site-packages/urllib3/connectionpool.py\u001b[0m in \u001b[0;36murlopen\u001b[0;34m(self, method, url, body, headers, retries, redirect, assert_same_host, timeout, pool_timeout, release_conn, chunked, body_pos, **response_kw)\u001b[0m\n\u001b[1;32m    698\u001b[0m             \u001b[0;31m# Make the request on the httplib connection object.\u001b[0m\u001b[0;34m\u001b[0m\u001b[0;34m\u001b[0m\u001b[0m\n\u001b[0;32m--> 699\u001b[0;31m             httplib_response = self._make_request(\n\u001b[0m\u001b[1;32m    700\u001b[0m                 \u001b[0mconn\u001b[0m\u001b[0;34m,\u001b[0m\u001b[0;34m\u001b[0m\u001b[0;34m\u001b[0m\u001b[0m\n",
      "\u001b[0;32m~/opt/anaconda3/lib/python3.9/site-packages/urllib3/connectionpool.py\u001b[0m in \u001b[0;36m_make_request\u001b[0;34m(self, conn, method, url, timeout, chunked, **httplib_request_kw)\u001b[0m\n\u001b[1;32m    381\u001b[0m         \u001b[0;32mtry\u001b[0m\u001b[0;34m:\u001b[0m\u001b[0;34m\u001b[0m\u001b[0;34m\u001b[0m\u001b[0m\n\u001b[0;32m--> 382\u001b[0;31m             \u001b[0mself\u001b[0m\u001b[0;34m.\u001b[0m\u001b[0m_validate_conn\u001b[0m\u001b[0;34m(\u001b[0m\u001b[0mconn\u001b[0m\u001b[0;34m)\u001b[0m\u001b[0;34m\u001b[0m\u001b[0;34m\u001b[0m\u001b[0m\n\u001b[0m\u001b[1;32m    383\u001b[0m         \u001b[0;32mexcept\u001b[0m \u001b[0;34m(\u001b[0m\u001b[0mSocketTimeout\u001b[0m\u001b[0;34m,\u001b[0m \u001b[0mBaseSSLError\u001b[0m\u001b[0;34m)\u001b[0m \u001b[0;32mas\u001b[0m \u001b[0me\u001b[0m\u001b[0;34m:\u001b[0m\u001b[0;34m\u001b[0m\u001b[0;34m\u001b[0m\u001b[0m\n",
      "\u001b[0;32m~/opt/anaconda3/lib/python3.9/site-packages/urllib3/connectionpool.py\u001b[0m in \u001b[0;36m_validate_conn\u001b[0;34m(self, conn)\u001b[0m\n\u001b[1;32m   1009\u001b[0m         \u001b[0;32mif\u001b[0m \u001b[0;32mnot\u001b[0m \u001b[0mgetattr\u001b[0m\u001b[0;34m(\u001b[0m\u001b[0mconn\u001b[0m\u001b[0;34m,\u001b[0m \u001b[0;34m\"sock\"\u001b[0m\u001b[0;34m,\u001b[0m \u001b[0;32mNone\u001b[0m\u001b[0;34m)\u001b[0m\u001b[0;34m:\u001b[0m  \u001b[0;31m# AppEngine might not have  `.sock`\u001b[0m\u001b[0;34m\u001b[0m\u001b[0;34m\u001b[0m\u001b[0m\n\u001b[0;32m-> 1010\u001b[0;31m             \u001b[0mconn\u001b[0m\u001b[0;34m.\u001b[0m\u001b[0mconnect\u001b[0m\u001b[0;34m(\u001b[0m\u001b[0;34m)\u001b[0m\u001b[0;34m\u001b[0m\u001b[0;34m\u001b[0m\u001b[0m\n\u001b[0m\u001b[1;32m   1011\u001b[0m \u001b[0;34m\u001b[0m\u001b[0m\n",
      "\u001b[0;32m~/opt/anaconda3/lib/python3.9/site-packages/urllib3/connection.py\u001b[0m in \u001b[0;36mconnect\u001b[0;34m(self)\u001b[0m\n\u001b[1;32m    415\u001b[0m \u001b[0;34m\u001b[0m\u001b[0m\n\u001b[0;32m--> 416\u001b[0;31m         self.sock = ssl_wrap_socket(\n\u001b[0m\u001b[1;32m    417\u001b[0m             \u001b[0msock\u001b[0m\u001b[0;34m=\u001b[0m\u001b[0mconn\u001b[0m\u001b[0;34m,\u001b[0m\u001b[0;34m\u001b[0m\u001b[0;34m\u001b[0m\u001b[0m\n",
      "\u001b[0;32m~/opt/anaconda3/lib/python3.9/site-packages/urllib3/util/ssl_.py\u001b[0m in \u001b[0;36mssl_wrap_socket\u001b[0;34m(sock, keyfile, certfile, cert_reqs, ca_certs, server_hostname, ssl_version, ciphers, ssl_context, ca_cert_dir, key_password, ca_cert_data, tls_in_tls)\u001b[0m\n\u001b[1;32m    448\u001b[0m     \u001b[0;32mif\u001b[0m \u001b[0msend_sni\u001b[0m\u001b[0;34m:\u001b[0m\u001b[0;34m\u001b[0m\u001b[0;34m\u001b[0m\u001b[0m\n\u001b[0;32m--> 449\u001b[0;31m         ssl_sock = _ssl_wrap_socket_impl(\n\u001b[0m\u001b[1;32m    450\u001b[0m             \u001b[0msock\u001b[0m\u001b[0;34m,\u001b[0m \u001b[0mcontext\u001b[0m\u001b[0;34m,\u001b[0m \u001b[0mtls_in_tls\u001b[0m\u001b[0;34m,\u001b[0m \u001b[0mserver_hostname\u001b[0m\u001b[0;34m=\u001b[0m\u001b[0mserver_hostname\u001b[0m\u001b[0;34m\u001b[0m\u001b[0;34m\u001b[0m\u001b[0m\n",
      "\u001b[0;32m~/opt/anaconda3/lib/python3.9/site-packages/urllib3/util/ssl_.py\u001b[0m in \u001b[0;36m_ssl_wrap_socket_impl\u001b[0;34m(sock, ssl_context, tls_in_tls, server_hostname)\u001b[0m\n\u001b[1;32m    492\u001b[0m     \u001b[0;32mif\u001b[0m \u001b[0mserver_hostname\u001b[0m\u001b[0;34m:\u001b[0m\u001b[0;34m\u001b[0m\u001b[0;34m\u001b[0m\u001b[0m\n\u001b[0;32m--> 493\u001b[0;31m         \u001b[0;32mreturn\u001b[0m \u001b[0mssl_context\u001b[0m\u001b[0;34m.\u001b[0m\u001b[0mwrap_socket\u001b[0m\u001b[0;34m(\u001b[0m\u001b[0msock\u001b[0m\u001b[0;34m,\u001b[0m \u001b[0mserver_hostname\u001b[0m\u001b[0;34m=\u001b[0m\u001b[0mserver_hostname\u001b[0m\u001b[0;34m)\u001b[0m\u001b[0;34m\u001b[0m\u001b[0;34m\u001b[0m\u001b[0m\n\u001b[0m\u001b[1;32m    494\u001b[0m     \u001b[0;32melse\u001b[0m\u001b[0;34m:\u001b[0m\u001b[0;34m\u001b[0m\u001b[0;34m\u001b[0m\u001b[0m\n",
      "\u001b[0;32m~/opt/anaconda3/lib/python3.9/ssl.py\u001b[0m in \u001b[0;36mwrap_socket\u001b[0;34m(self, sock, server_side, do_handshake_on_connect, suppress_ragged_eofs, server_hostname, session)\u001b[0m\n\u001b[1;32m    499\u001b[0m         \u001b[0;31m# ctx._wrap_socket()\u001b[0m\u001b[0;34m\u001b[0m\u001b[0;34m\u001b[0m\u001b[0m\n\u001b[0;32m--> 500\u001b[0;31m         return self.sslsocket_class._create(\n\u001b[0m\u001b[1;32m    501\u001b[0m             \u001b[0msock\u001b[0m\u001b[0;34m=\u001b[0m\u001b[0msock\u001b[0m\u001b[0;34m,\u001b[0m\u001b[0;34m\u001b[0m\u001b[0;34m\u001b[0m\u001b[0m\n",
      "\u001b[0;32m~/opt/anaconda3/lib/python3.9/ssl.py\u001b[0m in \u001b[0;36m_create\u001b[0;34m(cls, sock, server_side, do_handshake_on_connect, suppress_ragged_eofs, server_hostname, context, session)\u001b[0m\n\u001b[1;32m   1039\u001b[0m                         \u001b[0;32mraise\u001b[0m \u001b[0mValueError\u001b[0m\u001b[0;34m(\u001b[0m\u001b[0;34m\"do_handshake_on_connect should not be specified for non-blocking sockets\"\u001b[0m\u001b[0;34m)\u001b[0m\u001b[0;34m\u001b[0m\u001b[0;34m\u001b[0m\u001b[0m\n\u001b[0;32m-> 1040\u001b[0;31m                     \u001b[0mself\u001b[0m\u001b[0;34m.\u001b[0m\u001b[0mdo_handshake\u001b[0m\u001b[0;34m(\u001b[0m\u001b[0;34m)\u001b[0m\u001b[0;34m\u001b[0m\u001b[0;34m\u001b[0m\u001b[0m\n\u001b[0m\u001b[1;32m   1041\u001b[0m             \u001b[0;32mexcept\u001b[0m \u001b[0;34m(\u001b[0m\u001b[0mOSError\u001b[0m\u001b[0;34m,\u001b[0m \u001b[0mValueError\u001b[0m\u001b[0;34m)\u001b[0m\u001b[0;34m:\u001b[0m\u001b[0;34m\u001b[0m\u001b[0;34m\u001b[0m\u001b[0m\n",
      "\u001b[0;32m~/opt/anaconda3/lib/python3.9/ssl.py\u001b[0m in \u001b[0;36mdo_handshake\u001b[0;34m(self, block)\u001b[0m\n\u001b[1;32m   1308\u001b[0m                 \u001b[0mself\u001b[0m\u001b[0;34m.\u001b[0m\u001b[0msettimeout\u001b[0m\u001b[0;34m(\u001b[0m\u001b[0;32mNone\u001b[0m\u001b[0;34m)\u001b[0m\u001b[0;34m\u001b[0m\u001b[0;34m\u001b[0m\u001b[0m\n\u001b[0;32m-> 1309\u001b[0;31m             \u001b[0mself\u001b[0m\u001b[0;34m.\u001b[0m\u001b[0m_sslobj\u001b[0m\u001b[0;34m.\u001b[0m\u001b[0mdo_handshake\u001b[0m\u001b[0;34m(\u001b[0m\u001b[0;34m)\u001b[0m\u001b[0;34m\u001b[0m\u001b[0;34m\u001b[0m\u001b[0m\n\u001b[0m\u001b[1;32m   1310\u001b[0m         \u001b[0;32mfinally\u001b[0m\u001b[0;34m:\u001b[0m\u001b[0;34m\u001b[0m\u001b[0;34m\u001b[0m\u001b[0m\n",
      "\u001b[0;31mSSLCertVerificationError\u001b[0m: [SSL: CERTIFICATE_VERIFY_FAILED] certificate verify failed: self signed certificate in certificate chain (_ssl.c:1129)",
      "\nDuring handling of the above exception, another exception occurred:\n",
      "\u001b[0;31mMaxRetryError\u001b[0m                             Traceback (most recent call last)",
      "\u001b[0;32m~/opt/anaconda3/lib/python3.9/site-packages/requests/adapters.py\u001b[0m in \u001b[0;36msend\u001b[0;34m(self, request, stream, timeout, verify, cert, proxies)\u001b[0m\n\u001b[1;32m    488\u001b[0m             \u001b[0;32mif\u001b[0m \u001b[0;32mnot\u001b[0m \u001b[0mchunked\u001b[0m\u001b[0;34m:\u001b[0m\u001b[0;34m\u001b[0m\u001b[0;34m\u001b[0m\u001b[0m\n\u001b[0;32m--> 489\u001b[0;31m                 resp = conn.urlopen(\n\u001b[0m\u001b[1;32m    490\u001b[0m                     \u001b[0mmethod\u001b[0m\u001b[0;34m=\u001b[0m\u001b[0mrequest\u001b[0m\u001b[0;34m.\u001b[0m\u001b[0mmethod\u001b[0m\u001b[0;34m,\u001b[0m\u001b[0;34m\u001b[0m\u001b[0;34m\u001b[0m\u001b[0m\n",
      "\u001b[0;32m~/opt/anaconda3/lib/python3.9/site-packages/urllib3/connectionpool.py\u001b[0m in \u001b[0;36murlopen\u001b[0;34m(self, method, url, body, headers, retries, redirect, assert_same_host, timeout, pool_timeout, release_conn, chunked, body_pos, **response_kw)\u001b[0m\n\u001b[1;32m    754\u001b[0m \u001b[0;34m\u001b[0m\u001b[0m\n\u001b[0;32m--> 755\u001b[0;31m             retries = retries.increment(\n\u001b[0m\u001b[1;32m    756\u001b[0m                 \u001b[0mmethod\u001b[0m\u001b[0;34m,\u001b[0m \u001b[0murl\u001b[0m\u001b[0;34m,\u001b[0m \u001b[0merror\u001b[0m\u001b[0;34m=\u001b[0m\u001b[0me\u001b[0m\u001b[0;34m,\u001b[0m \u001b[0m_pool\u001b[0m\u001b[0;34m=\u001b[0m\u001b[0mself\u001b[0m\u001b[0;34m,\u001b[0m \u001b[0m_stacktrace\u001b[0m\u001b[0;34m=\u001b[0m\u001b[0msys\u001b[0m\u001b[0;34m.\u001b[0m\u001b[0mexc_info\u001b[0m\u001b[0;34m(\u001b[0m\u001b[0;34m)\u001b[0m\u001b[0;34m[\u001b[0m\u001b[0;36m2\u001b[0m\u001b[0;34m]\u001b[0m\u001b[0;34m\u001b[0m\u001b[0;34m\u001b[0m\u001b[0m\n",
      "\u001b[0;32m~/opt/anaconda3/lib/python3.9/site-packages/urllib3/util/retry.py\u001b[0m in \u001b[0;36mincrement\u001b[0;34m(self, method, url, response, error, _pool, _stacktrace)\u001b[0m\n\u001b[1;32m    573\u001b[0m         \u001b[0;32mif\u001b[0m \u001b[0mnew_retry\u001b[0m\u001b[0;34m.\u001b[0m\u001b[0mis_exhausted\u001b[0m\u001b[0;34m(\u001b[0m\u001b[0;34m)\u001b[0m\u001b[0;34m:\u001b[0m\u001b[0;34m\u001b[0m\u001b[0;34m\u001b[0m\u001b[0m\n\u001b[0;32m--> 574\u001b[0;31m             \u001b[0;32mraise\u001b[0m \u001b[0mMaxRetryError\u001b[0m\u001b[0;34m(\u001b[0m\u001b[0m_pool\u001b[0m\u001b[0;34m,\u001b[0m \u001b[0murl\u001b[0m\u001b[0;34m,\u001b[0m \u001b[0merror\u001b[0m \u001b[0;32mor\u001b[0m \u001b[0mResponseError\u001b[0m\u001b[0;34m(\u001b[0m\u001b[0mcause\u001b[0m\u001b[0;34m)\u001b[0m\u001b[0;34m)\u001b[0m\u001b[0;34m\u001b[0m\u001b[0;34m\u001b[0m\u001b[0m\n\u001b[0m\u001b[1;32m    575\u001b[0m \u001b[0;34m\u001b[0m\u001b[0m\n",
      "\u001b[0;31mMaxRetryError\u001b[0m: HTTPSConnectionPool(host='d17h27t6h515a5.cloudfront.net', port=443): Max retries exceeded with url: /topher/2017/August/599fd2ad_image-predictions/image-predictions.tsv (Caused by SSLError(SSLCertVerificationError(1, '[SSL: CERTIFICATE_VERIFY_FAILED] certificate verify failed: self signed certificate in certificate chain (_ssl.c:1129)')))",
      "\nDuring handling of the above exception, another exception occurred:\n",
      "\u001b[0;31mSSLError\u001b[0m                                  Traceback (most recent call last)",
      "\u001b[0;32m/var/folders/y3/3kgm4s_n6rd5n4q45fw20d3m0000gp/T/ipykernel_28176/2413605390.py\u001b[0m in \u001b[0;36m<module>\u001b[0;34m\u001b[0m\n\u001b[1;32m      1\u001b[0m \u001b[0;31m#Setup requests for read\u001b[0m\u001b[0;34m\u001b[0m\u001b[0;34m\u001b[0m\u001b[0m\n\u001b[1;32m      2\u001b[0m \u001b[0murl\u001b[0m \u001b[0;34m=\u001b[0m \u001b[0;34m'https://d17h27t6h515a5.cloudfront.net/topher/2017/August/599fd2ad_image-predictions/image-predictions.tsv'\u001b[0m\u001b[0;34m\u001b[0m\u001b[0;34m\u001b[0m\u001b[0m\n\u001b[0;32m----> 3\u001b[0;31m \u001b[0murlData\u001b[0m \u001b[0;34m=\u001b[0m \u001b[0mrequests\u001b[0m\u001b[0;34m.\u001b[0m\u001b[0mget\u001b[0m\u001b[0;34m(\u001b[0m\u001b[0murl\u001b[0m\u001b[0;34m)\u001b[0m\u001b[0;34m.\u001b[0m\u001b[0mcontent\u001b[0m\u001b[0;34m\u001b[0m\u001b[0;34m\u001b[0m\u001b[0m\n\u001b[0m\u001b[1;32m      4\u001b[0m \u001b[0;34m\u001b[0m\u001b[0m\n\u001b[1;32m      5\u001b[0m \u001b[0;31m#Read into a dataframe with correct encoding\u001b[0m\u001b[0;34m\u001b[0m\u001b[0;34m\u001b[0m\u001b[0m\n",
      "\u001b[0;32m~/opt/anaconda3/lib/python3.9/site-packages/requests/api.py\u001b[0m in \u001b[0;36mget\u001b[0;34m(url, params, **kwargs)\u001b[0m\n\u001b[1;32m     71\u001b[0m     \"\"\"\n\u001b[1;32m     72\u001b[0m \u001b[0;34m\u001b[0m\u001b[0m\n\u001b[0;32m---> 73\u001b[0;31m     \u001b[0;32mreturn\u001b[0m \u001b[0mrequest\u001b[0m\u001b[0;34m(\u001b[0m\u001b[0;34m\"get\"\u001b[0m\u001b[0;34m,\u001b[0m \u001b[0murl\u001b[0m\u001b[0;34m,\u001b[0m \u001b[0mparams\u001b[0m\u001b[0;34m=\u001b[0m\u001b[0mparams\u001b[0m\u001b[0;34m,\u001b[0m \u001b[0;34m**\u001b[0m\u001b[0mkwargs\u001b[0m\u001b[0;34m)\u001b[0m\u001b[0;34m\u001b[0m\u001b[0;34m\u001b[0m\u001b[0m\n\u001b[0m\u001b[1;32m     74\u001b[0m \u001b[0;34m\u001b[0m\u001b[0m\n\u001b[1;32m     75\u001b[0m \u001b[0;34m\u001b[0m\u001b[0m\n",
      "\u001b[0;32m~/opt/anaconda3/lib/python3.9/site-packages/requests/api.py\u001b[0m in \u001b[0;36mrequest\u001b[0;34m(method, url, **kwargs)\u001b[0m\n\u001b[1;32m     57\u001b[0m     \u001b[0;31m# cases, and look like a memory leak in others.\u001b[0m\u001b[0;34m\u001b[0m\u001b[0;34m\u001b[0m\u001b[0m\n\u001b[1;32m     58\u001b[0m     \u001b[0;32mwith\u001b[0m \u001b[0msessions\u001b[0m\u001b[0;34m.\u001b[0m\u001b[0mSession\u001b[0m\u001b[0;34m(\u001b[0m\u001b[0;34m)\u001b[0m \u001b[0;32mas\u001b[0m \u001b[0msession\u001b[0m\u001b[0;34m:\u001b[0m\u001b[0;34m\u001b[0m\u001b[0;34m\u001b[0m\u001b[0m\n\u001b[0;32m---> 59\u001b[0;31m         \u001b[0;32mreturn\u001b[0m \u001b[0msession\u001b[0m\u001b[0;34m.\u001b[0m\u001b[0mrequest\u001b[0m\u001b[0;34m(\u001b[0m\u001b[0mmethod\u001b[0m\u001b[0;34m=\u001b[0m\u001b[0mmethod\u001b[0m\u001b[0;34m,\u001b[0m \u001b[0murl\u001b[0m\u001b[0;34m=\u001b[0m\u001b[0murl\u001b[0m\u001b[0;34m,\u001b[0m \u001b[0;34m**\u001b[0m\u001b[0mkwargs\u001b[0m\u001b[0;34m)\u001b[0m\u001b[0;34m\u001b[0m\u001b[0;34m\u001b[0m\u001b[0m\n\u001b[0m\u001b[1;32m     60\u001b[0m \u001b[0;34m\u001b[0m\u001b[0m\n\u001b[1;32m     61\u001b[0m \u001b[0;34m\u001b[0m\u001b[0m\n",
      "\u001b[0;32m~/opt/anaconda3/lib/python3.9/site-packages/requests/sessions.py\u001b[0m in \u001b[0;36mrequest\u001b[0;34m(self, method, url, params, data, headers, cookies, files, auth, timeout, allow_redirects, proxies, hooks, stream, verify, cert, json)\u001b[0m\n\u001b[1;32m    585\u001b[0m         }\n\u001b[1;32m    586\u001b[0m         \u001b[0msend_kwargs\u001b[0m\u001b[0;34m.\u001b[0m\u001b[0mupdate\u001b[0m\u001b[0;34m(\u001b[0m\u001b[0msettings\u001b[0m\u001b[0;34m)\u001b[0m\u001b[0;34m\u001b[0m\u001b[0;34m\u001b[0m\u001b[0m\n\u001b[0;32m--> 587\u001b[0;31m         \u001b[0mresp\u001b[0m \u001b[0;34m=\u001b[0m \u001b[0mself\u001b[0m\u001b[0;34m.\u001b[0m\u001b[0msend\u001b[0m\u001b[0;34m(\u001b[0m\u001b[0mprep\u001b[0m\u001b[0;34m,\u001b[0m \u001b[0;34m**\u001b[0m\u001b[0msend_kwargs\u001b[0m\u001b[0;34m)\u001b[0m\u001b[0;34m\u001b[0m\u001b[0;34m\u001b[0m\u001b[0m\n\u001b[0m\u001b[1;32m    588\u001b[0m \u001b[0;34m\u001b[0m\u001b[0m\n\u001b[1;32m    589\u001b[0m         \u001b[0;32mreturn\u001b[0m \u001b[0mresp\u001b[0m\u001b[0;34m\u001b[0m\u001b[0;34m\u001b[0m\u001b[0m\n",
      "\u001b[0;32m~/opt/anaconda3/lib/python3.9/site-packages/requests/sessions.py\u001b[0m in \u001b[0;36msend\u001b[0;34m(self, request, **kwargs)\u001b[0m\n\u001b[1;32m    699\u001b[0m \u001b[0;34m\u001b[0m\u001b[0m\n\u001b[1;32m    700\u001b[0m         \u001b[0;31m# Send the request\u001b[0m\u001b[0;34m\u001b[0m\u001b[0;34m\u001b[0m\u001b[0m\n\u001b[0;32m--> 701\u001b[0;31m         \u001b[0mr\u001b[0m \u001b[0;34m=\u001b[0m \u001b[0madapter\u001b[0m\u001b[0;34m.\u001b[0m\u001b[0msend\u001b[0m\u001b[0;34m(\u001b[0m\u001b[0mrequest\u001b[0m\u001b[0;34m,\u001b[0m \u001b[0;34m**\u001b[0m\u001b[0mkwargs\u001b[0m\u001b[0;34m)\u001b[0m\u001b[0;34m\u001b[0m\u001b[0;34m\u001b[0m\u001b[0m\n\u001b[0m\u001b[1;32m    702\u001b[0m \u001b[0;34m\u001b[0m\u001b[0m\n\u001b[1;32m    703\u001b[0m         \u001b[0;31m# Total elapsed time of the request (approximately)\u001b[0m\u001b[0;34m\u001b[0m\u001b[0;34m\u001b[0m\u001b[0m\n",
      "\u001b[0;32m~/opt/anaconda3/lib/python3.9/site-packages/requests/adapters.py\u001b[0m in \u001b[0;36msend\u001b[0;34m(self, request, stream, timeout, verify, cert, proxies)\u001b[0m\n\u001b[1;32m    561\u001b[0m             \u001b[0;32mif\u001b[0m \u001b[0misinstance\u001b[0m\u001b[0;34m(\u001b[0m\u001b[0me\u001b[0m\u001b[0;34m.\u001b[0m\u001b[0mreason\u001b[0m\u001b[0;34m,\u001b[0m \u001b[0m_SSLError\u001b[0m\u001b[0;34m)\u001b[0m\u001b[0;34m:\u001b[0m\u001b[0;34m\u001b[0m\u001b[0;34m\u001b[0m\u001b[0m\n\u001b[1;32m    562\u001b[0m                 \u001b[0;31m# This branch is for urllib3 v1.22 and later.\u001b[0m\u001b[0;34m\u001b[0m\u001b[0;34m\u001b[0m\u001b[0m\n\u001b[0;32m--> 563\u001b[0;31m                 \u001b[0;32mraise\u001b[0m \u001b[0mSSLError\u001b[0m\u001b[0;34m(\u001b[0m\u001b[0me\u001b[0m\u001b[0;34m,\u001b[0m \u001b[0mrequest\u001b[0m\u001b[0;34m=\u001b[0m\u001b[0mrequest\u001b[0m\u001b[0;34m)\u001b[0m\u001b[0;34m\u001b[0m\u001b[0;34m\u001b[0m\u001b[0m\n\u001b[0m\u001b[1;32m    564\u001b[0m \u001b[0;34m\u001b[0m\u001b[0m\n\u001b[1;32m    565\u001b[0m             \u001b[0;32mraise\u001b[0m \u001b[0mConnectionError\u001b[0m\u001b[0;34m(\u001b[0m\u001b[0me\u001b[0m\u001b[0;34m,\u001b[0m \u001b[0mrequest\u001b[0m\u001b[0;34m=\u001b[0m\u001b[0mrequest\u001b[0m\u001b[0;34m)\u001b[0m\u001b[0;34m\u001b[0m\u001b[0;34m\u001b[0m\u001b[0m\n",
      "\u001b[0;31mSSLError\u001b[0m: HTTPSConnectionPool(host='d17h27t6h515a5.cloudfront.net', port=443): Max retries exceeded with url: /topher/2017/August/599fd2ad_image-predictions/image-predictions.tsv (Caused by SSLError(SSLCertVerificationError(1, '[SSL: CERTIFICATE_VERIFY_FAILED] certificate verify failed: self signed certificate in certificate chain (_ssl.c:1129)')))"
     ]
    }
   ],
   "source": [
    "#Setup requests for read\n",
    "url = 'https://d17h27t6h515a5.cloudfront.net/topher/2017/August/599fd2ad_image-predictions/image-predictions.tsv'\n",
    "urlData = requests.get(url).content\n",
    "\n",
    "#Read into a dataframe with correct encoding\n",
    "df_tweet_image = pd.read_csv(io.StringIO(urlData.decode('utf-8')))\n",
    "\n",
    "#Split into meaningful data, and remove original blob column\n",
    "df_tweet_image[['tweet_id','tjpg_url', 'timg_num', 'tp1','tp1_conf', 'tp1_dog', 'tp2', 'tp2_conf', 'tp2_dog', 'tp3', 'tp3_conf', 'tp3_dog']] = df_tweet_image['tweet_id\tjpg_url\timg_num\tp1\tp1_conf\tp1_dog\tp2\tp2_conf\tp2_dog\tp3\tp3_conf\tp3_dog'].str.split(pat='\\t', n=12, expand=True)\n",
    "df_tweet_image.drop('tweet_id\tjpg_url\timg_num\tp1\tp1_conf\tp1_dog\tp2\tp2_conf\tp2_dog\tp3\tp3_conf\tp3_dog', axis=1, inplace=True)\n"
   ]
  },
  {
   "cell_type": "code",
   "execution_count": null,
   "metadata": {},
   "outputs": [],
   "source": [
    "#confirm results\n",
    "df_tweet_image.head()"
   ]
  },
  {
   "cell_type": "markdown",
   "metadata": {},
   "source": [
    "3. Use the Tweepy library to query additional data via the Twitter API (tweet_json.txt)\n",
    "**NOTE:** function source is attributed to the site StackOverflow: https://stackoverflow.com/questions/28384588/twitter-api-get-tweets-with-specific-id"
   ]
  },
  {
   "cell_type": "code",
   "execution_count": null,
   "metadata": {},
   "outputs": [],
   "source": [
    "# Read Tweets into a text file, one time run (DO NOT RERUN - REMOVE KEYS)\n",
    "CONSUMER_KEY = 'REMOVED'\n",
    "CONSUMER_SECRET = 'REMOVED'\n",
    "OAUTH_TOKEN = 'REMOVED'\n",
    "OAUTH_TOKEN_SECRET = 'REMOVED'\n",
    "auth = tweepy.OAuthHandler(CONSUMER_KEY, CONSUMER_SECRET)\n",
    "auth.set_access_token(OAUTH_TOKEN, OAUTH_TOKEN_SECRET)\n",
    "api = tweepy.API(auth)\n",
    "\n",
    "# inspect Tweets and save to file.\n",
    "print('Starting Dump of in scope tweet stats')\n",
    "\n",
    "# list comprehension includes: tweet.id_str | tweet.text | tweet.favorite_count | tweet.retweet_count| tweet.user.followers_count | tweet.user.friends_count | tweet.user.favourites_count\n",
    "# Loop the list and push to the file with updates to the user.\n",
    "# Open file\n",
    "file_input = open(\"tweet_json.csv\",\"w\")\n",
    "\n",
    "# Write Header\n",
    "record = '{}|{}|{}|{}|{}|{}|{}\\n'.format('id_str', 'text', 'favorite_count','retweet_count', 'followers_count', 'friends_count', 'favourites_count')\n",
    "file_input.write(record)\n",
    "print(\"Output Written: {}\".format(record))\n",
    "\n",
    "#Write Records\n",
    "for i in pd_twitter_archive.tweet_id:\n",
    "    try:\n",
    "        tweet = api.get_status(i)\n",
    "        print(str(tweet.id) + ' downloaded')\n",
    "        record = '{}|{}|{}|{}|{}|{}|{}\\n'.format(tweet.id_str, tweet.text, tweet.favorite_count, tweet.retweet_count, tweet.user.followers_count, tweet.user.friends_count, tweet.user.favourites_count)\n",
    "        file_input.write(record)\n",
    "        print(\"Output Written: {}\".format(record))\n",
    "    except:\n",
    "        print('No Match - Skipping {}'.format(i))\n",
    "        \n",
    "#Close file and finish\n",
    "file_input.close()\n",
    "print('Dump compete and file closed')\n"
   ]
  },
  {
   "cell_type": "code",
   "execution_count": 88,
   "metadata": {},
   "outputs": [],
   "source": [
    "# Read tweet_json.txt file directly into a pandas dataframe\n",
    "df_tweets_enhanced = pd.read_csv('tweet_json.csv', sep='|')"
   ]
  },
  {
   "cell_type": "code",
   "execution_count": 89,
   "metadata": {},
   "outputs": [
    {
     "data": {
      "text/html": [
       "<div>\n",
       "<style scoped>\n",
       "    .dataframe tbody tr th:only-of-type {\n",
       "        vertical-align: middle;\n",
       "    }\n",
       "\n",
       "    .dataframe tbody tr th {\n",
       "        vertical-align: top;\n",
       "    }\n",
       "\n",
       "    .dataframe thead th {\n",
       "        text-align: right;\n",
       "    }\n",
       "</style>\n",
       "<table border=\"1\" class=\"dataframe\">\n",
       "  <thead>\n",
       "    <tr style=\"text-align: right;\">\n",
       "      <th></th>\n",
       "      <th>id_str</th>\n",
       "      <th>text</th>\n",
       "      <th>favorite_count</th>\n",
       "      <th>retweet_count</th>\n",
       "      <th>followers_count</th>\n",
       "      <th>friends_count</th>\n",
       "      <th>favourites_count</th>\n",
       "    </tr>\n",
       "  </thead>\n",
       "  <tbody>\n",
       "    <tr>\n",
       "      <th>0</th>\n",
       "      <td>892420643555336193</td>\n",
       "      <td>This is Phineas. He's a mystical boy. Only ever appears in the hole of a donut. 13/10 https://t.co/MgUWQ76dJU</td>\n",
       "      <td>33,674</td>\n",
       "      <td>6,964</td>\n",
       "      <td>9,364,491</td>\n",
       "      <td>21</td>\n",
       "      <td>147,637</td>\n",
       "    </tr>\n",
       "    <tr>\n",
       "      <th>1</th>\n",
       "      <td>892177421306343426</td>\n",
       "      <td>This is Tilly. She's just checking pup on you. Hopes you're doing ok. If not, she's available for pats, snugs, boop… https://t.co/aQFSeaCu9L</td>\n",
       "      <td>29,214</td>\n",
       "      <td>5,269</td>\n",
       "      <td>9,364,491</td>\n",
       "      <td>21</td>\n",
       "      <td>147,637</td>\n",
       "    </tr>\n",
       "    <tr>\n",
       "      <th>2</th>\n",
       "      <td>891815181378084864</td>\n",
       "      <td>This is Archie. He is a rare Norwegian Pouncing Corgo. Lives in the tall grass. You never know when one may strike.… https://t.co/r0YlrsGCgy</td>\n",
       "      <td>21,962</td>\n",
       "      <td>3,463</td>\n",
       "      <td>9,364,491</td>\n",
       "      <td>21</td>\n",
       "      <td>147,637</td>\n",
       "    </tr>\n",
       "    <tr>\n",
       "      <th>3</th>\n",
       "      <td>891689557279858688</td>\n",
       "      <td>This is Darla. She commenced a snooze mid meal. 13/10 happens to the best of us https://t.co/tD36da7qLQ</td>\n",
       "      <td>36,768</td>\n",
       "      <td>7,190</td>\n",
       "      <td>9,364,491</td>\n",
       "      <td>21</td>\n",
       "      <td>147,637</td>\n",
       "    </tr>\n",
       "    <tr>\n",
       "      <th>4</th>\n",
       "      <td>891327558926688256</td>\n",
       "      <td>This is Franklin. He would like you to stop calling him \"cute.\" He is a very fierce shark and should be respected a… https://t.co/0g0KMIVXZ3</td>\n",
       "      <td>35,161</td>\n",
       "      <td>7,710</td>\n",
       "      <td>9,364,491</td>\n",
       "      <td>21</td>\n",
       "      <td>147,637</td>\n",
       "    </tr>\n",
       "  </tbody>\n",
       "</table>\n",
       "</div>"
      ],
      "text/plain": [
       "               id_str                                                                                                                                          text  favorite_count  retweet_count  followers_count  friends_count  favourites_count\n",
       "0  892420643555336193                                 This is Phineas. He's a mystical boy. Only ever appears in the hole of a donut. 13/10 https://t.co/MgUWQ76dJU          33,674          6,964        9,364,491             21           147,637\n",
       "1  892177421306343426  This is Tilly. She's just checking pup on you. Hopes you're doing ok. If not, she's available for pats, snugs, boop… https://t.co/aQFSeaCu9L          29,214          5,269        9,364,491             21           147,637\n",
       "2  891815181378084864  This is Archie. He is a rare Norwegian Pouncing Corgo. Lives in the tall grass. You never know when one may strike.… https://t.co/r0YlrsGCgy          21,962          3,463        9,364,491             21           147,637\n",
       "3  891689557279858688                                       This is Darla. She commenced a snooze mid meal. 13/10 happens to the best of us https://t.co/tD36da7qLQ          36,768          7,190        9,364,491             21           147,637\n",
       "4  891327558926688256  This is Franklin. He would like you to stop calling him \"cute.\" He is a very fierce shark and should be respected a… https://t.co/0g0KMIVXZ3          35,161          7,710        9,364,491             21           147,637"
      ]
     },
     "execution_count": 89,
     "metadata": {},
     "output_type": "execute_result"
    }
   ],
   "source": [
    "# Confirm Results\n",
    "df_tweets_enhanced.head(5)"
   ]
  },
  {
   "cell_type": "markdown",
   "metadata": {},
   "source": [
    "**Additional data from the Twitter API**\n",
    "Gather each tweet's retweet count and favorite (\"like\") count at the minimum and any additional data you find interesting. Using the tweet IDs in the WeRateDogs Twitter archive, query the Twitter API for each tweet's JSON data using Python's Tweepy library and store each tweet's entire set of JSON data in a file called tweet_json.txt file.\n",
    "\n",
    "Each tweet's JSON data should be written to its own line. Then read this .txt file line by line into a pandas DataFrame with (at minimum) tweet ID, retweet count, and favorite count. Note: do not include your Twitter API keys, secrets, and tokens in your project submission."
   ]
  },
  {
   "cell_type": "markdown",
   "metadata": {
    "extensions": {
     "jupyter_dashboards": {
      "version": 1,
      "views": {
       "grid_default": {
        "col": 4,
        "height": 4,
        "hidden": false,
        "row": 28,
        "width": 4
       },
       "report_default": {
        "hidden": false
       }
      }
     }
    }
   },
   "source": [
    "## Assessing Data\n",
    "In this section, detect and document at least **eight (8) quality issues and two (2) tidiness issue**. You must use **both** visual assessment\n",
    "programmatic assessement to assess the data.\n",
    "\n",
    "**Note:** pay attention to the following key points when you access the data.\n",
    "\n",
    "* You only want original ratings (no retweets) that have images. Though there are 5000+ tweets in the dataset, not all are dog ratings and some are retweets.\n",
    "* Assessing and cleaning the entire dataset completely would require a lot of time, and is not necessary to practice and demonstrate your skills in data wrangling. Therefore, the requirements of this project are only to assess and clean at least 8 quality issues and at least 2 tidiness issues in this dataset.\n",
    "* The fact that the rating numerators are greater than the denominators does not need to be cleaned. This [unique rating system](http://knowyourmeme.com/memes/theyre-good-dogs-brent) is a big part of the popularity of WeRateDogs.\n",
    "* You do not need to gather the tweets beyond August 1st, 2017. You can, but note that you won't be able to gather the image predictions for these tweets since you don't have access to the algorithm used.\n",
    "\n"
   ]
  },
  {
   "cell_type": "code",
   "execution_count": null,
   "metadata": {},
   "outputs": [],
   "source": [
    "#review the shape of the data\n",
    "# Twitter Archive\n",
    "print(df_twitter_archive.shape)\n",
    "\n",
    "# Twitter Image Analysis\n",
    "print(df_tweet_image.shape)\n",
    "#print(df_tweet_image.info())\n",
    "\n",
    "# Twitter Enhanced\n",
    "print(df_tweets_enhanced.shape)"
   ]
  },
  {
   "cell_type": "code",
   "execution_count": null,
   "metadata": {},
   "outputs": [],
   "source": [
    "# Confirm df_tweets_enhanced success, first should show 35, then 908\n",
    "regex_string = r\"^([0-9][0-9][0-9][0-9][0-9][0-9]*)\"\n",
    "print(df_tweets_enhanced[~df_tweets_enhanced[\"id_str\"].str.contains(regex_string, na=False, regex=True)]['id_str'].count())\n",
    "print(df_tweets_enhanced[~df_tweets_enhanced[\"id_str\"].isnull()]['id_str'].count())"
   ]
  },
  {
   "cell_type": "code",
   "execution_count": null,
   "metadata": {},
   "outputs": [],
   "source": [
    "# confirm any values newer than 2017-08-01 to exclude, should be no lines returned.\n",
    "df_twitter_archive['timestamp'] = pd.to_datetime(df_twitter_archive['timestamp'], format='%Y-%m-%d')\n",
    "df_twitter_archive.loc[df_twitter_archive['timestamp'] > '2017-08-02']\n"
   ]
  },
  {
   "cell_type": "code",
   "execution_count": null,
   "metadata": {},
   "outputs": [],
   "source": [
    "#Assess the twitter retweets\n",
    "df_twitter_archive[(~df_twitter_archive['retweeted_status_id'].isnull())].count()\n"
   ]
  },
  {
   "cell_type": "code",
   "execution_count": null,
   "metadata": {},
   "outputs": [],
   "source": [
    "# Detect the duplicates (retweets) in the tjpg_url\n",
    "print(df_tweet_image['tjpg_url'].count()-df_tweet_image['tjpg_url'].nunique())\n",
    "\n",
    "#Detect the duplicates (retweets) in the expanded_urls\n",
    "print(df_twitter_archive['expanded_urls'].count()-df_twitter_archive['expanded_urls'].nunique())"
   ]
  },
  {
   "cell_type": "code",
   "execution_count": 90,
   "metadata": {},
   "outputs": [
    {
     "name": "stdout",
     "output_type": "stream",
     "text": [
      "['timestamp', 'source', 'text', 'retweeted_status_timestamp', 'expanded_urls', 'name', 'doggo', 'floofer', 'pupper', 'puppo']\n",
      "\n",
      "\n",
      "\n",
      "\n",
      "\n",
      "\n",
      "\n",
      "\n",
      "\n",
      "\n",
      "\n",
      "\n",
      "\n",
      "\n",
      "\n",
      "\n",
      "\n",
      "\n",
      "\n",
      "\n"
     ]
    },
    {
     "data": {
      "image/png": "[encoded data removed]",
      "text/plain": [
       "<Figure size 1152x288 with 1 Axes>"
      ]
     },
     "metadata": {
      "needs_background": "light"
     },
     "output_type": "display_data"
    },
    {
     "data": {
      "image/png": "[encoded data removed]",
      "text/plain": [
       "<Figure size 1152x288 with 1 Axes>"
      ]
     },
     "metadata": {
      "needs_background": "light"
     },
     "output_type": "display_data"
    },
    {
     "data": {
      "image/png": "[encoded data removed]",
      "text/plain": [
       "<Figure size 1152x288 with 1 Axes>"
      ]
     },
     "metadata": {
      "needs_background": "light"
     },
     "output_type": "display_data"
    },
    {
     "data": {
      "image/png": "[encoded data removed]",
      "text/plain": [
       "<Figure size 1152x288 with 1 Axes>"
      ]
     },
     "metadata": {
      "needs_background": "light"
     },
     "output_type": "display_data"
    },
    {
     "data": {
      "image/png": "[encoded data removed]",
      "text/plain": [
       "<Figure size 1152x288 with 1 Axes>"
      ]
     },
     "metadata": {
      "needs_background": "light"
     },
     "output_type": "display_data"
    },
    {
     "data": {
      "image/png": "[encoded data removed]",
      "text/plain": [
       "<Figure size 1152x288 with 1 Axes>"
      ]
     },
     "metadata": {
      "needs_background": "light"
     },
     "output_type": "display_data"
    },
    {
     "data": {
      "image/png": "[encoded data removed]",
      "text/plain": [
       "<Figure size 1152x288 with 1 Axes>"
      ]
     },
     "metadata": {
      "needs_background": "light"
     },
     "output_type": "display_data"
    },
    {
     "data": {
      "image/png": "[encoded data removed]",
      "text/plain": [
       "<Figure size 1152x288 with 1 Axes>"
      ]
     },
     "metadata": {
      "needs_background": "light"
     },
     "output_type": "display_data"
    },
    {
     "data": {
      "image/png": "[encoded data removed]",
      "text/plain": [
       "<Figure size 1152x288 with 1 Axes>"
      ]
     },
     "metadata": {
      "needs_background": "light"
     },
     "output_type": "display_data"
    },
    {
     "data": {
      "image/png": "[encoded data removed]",
      "text/plain": [
       "<Figure size 1152x288 with 1 Axes>"
      ]
     },
     "metadata": {
      "needs_background": "light"
     },
     "output_type": "display_data"
    }
   ],
   "source": [
    "# Histogram for each column, statistical value distributions and visual data inspection for string columns in df_twitter_archive\n",
    "list = []\n",
    "for column in df_twitter_archive.columns:\n",
    "    if str(df_twitter_archive[column].dtype) == \"object\":\n",
    "        list.append(column)\n",
    "print(list)\n",
    "\n",
    "for column in list:\n",
    "    fig = plt.figure(figsize = (16,4))\n",
    "    plt.yticks(fontsize=12, alpha=.7)\n",
    "    plt.xlabel('Value Repetition')\n",
    "    plt.title('Value_count Histogram for '+ column, fontsize=22)\n",
    "    plt.grid(axis='both', alpha=.3)\n",
    "    ax = fig.gca()\n",
    "    df_twitter_archive[column].value_counts().hist(ax = ax, bins=20)\n",
    "    print('\\n')"
   ]
  },
  {
   "cell_type": "code",
   "execution_count": null,
   "metadata": {},
   "outputs": [],
   "source": [
    "# Histogram for each column, statistical value distributions and visual data inspection for string columns in df_tweet_image\n",
    "list = []\n",
    "for column in df_tweet_image.columns:\n",
    "    if str(df_tweet_image[column].dtype) == \"object\":\n",
    "        list.append(column)\n",
    "print(list)\n",
    "\n",
    "for column in list:\n",
    "    fig = plt.figure(figsize = (16,4))\n",
    "    plt.yticks(fontsize=12, alpha=.7)\n",
    "    plt.xlabel('Value Repetition')\n",
    "    plt.title('Value_count Histogram for '+ column, fontsize=22)\n",
    "    plt.grid(axis='both', alpha=.3)\n",
    "    ax = fig.gca()\n",
    "    df_tweet_image[column].value_counts().hist(ax = ax, bins=20)\n",
    "    print('\\n')"
   ]
  },
  {
   "cell_type": "code",
   "execution_count": 91,
   "metadata": {},
   "outputs": [
    {
     "name": "stdout",
     "output_type": "stream",
     "text": [
      "['id_str', 'text']\n",
      "\n",
      "\n",
      "\n",
      "\n"
     ]
    },
    {
     "data": {
      "image/png": "[encoded data removed]",
      "text/plain": [
       "<Figure size 1152x288 with 1 Axes>"
      ]
     },
     "metadata": {
      "needs_background": "light"
     },
     "output_type": "display_data"
    },
    {
     "data": {
      "image/png": "[encoded data removed]",
      "text/plain": [
       "<Figure size 1152x288 with 1 Axes>"
      ]
     },
     "metadata": {
      "needs_background": "light"
     },
     "output_type": "display_data"
    }
   ],
   "source": [
    "# Histogram for each column, statistical value distributions and visual data inspection for string columns in df_tweets_enhanced\n",
    "list = []\n",
    "for column in df_tweets_enhanced.columns:\n",
    "    if str(df_tweets_enhanced[column].dtype) == \"object\":\n",
    "        list.append(column)\n",
    "print(list)\n",
    "\n",
    "for column in list:\n",
    "    fig = plt.figure(figsize = (16,4))\n",
    "    plt.yticks(fontsize=12, alpha=.7)\n",
    "    plt.xlabel('Value Repetition')\n",
    "    plt.title('Value_count Histogram for '+ column, fontsize=22)\n",
    "    plt.grid(axis='both', alpha=.3)\n",
    "    ax = fig.gca()\n",
    "    df_tweets_enhanced[column].value_counts().hist(ax = ax, bins=20)\n",
    "    print('\\n')"
   ]
  },
  {
   "cell_type": "markdown",
   "metadata": {},
   "source": [
    "### Value_count Histogram Obserations\n",
    "1. We see a clear decline in the tpX_conf (confidence) values as they go from high order to low order ML assessment.\n",
    "2. The tweet_id, name, text_x and text_y are clearly not duplcated, as all values have a value_count of 1.\n",
    "3. The expanded_url and tjpg_url has a small amount of duplicates to be reviewed (2 as a value).\n",
    "4. tp1, tp2, tp3 have few duplicates, might be worth reviewing the values here.\n",
    "5. The individual dog stages [doggo, puppo, pupper, fluffo] need review and joining."
   ]
  },
  {
   "cell_type": "code",
   "execution_count": 92,
   "metadata": {},
   "outputs": [
    {
     "name": "stdout",
     "output_type": "stream",
     "text": [
      "['in_reply_to_status_id', 'in_reply_to_user_id', 'retweeted_status_id', 'retweeted_status_user_id']\n",
      "\n",
      "\n",
      "\n",
      "\n",
      "\n",
      "\n",
      "\n",
      "\n"
     ]
    },
    {
     "data": {
      "image/png": "[encoded data removed]",
      "text/plain": [
       "<Figure size 1152x288 with 1 Axes>"
      ]
     },
     "metadata": {
      "needs_background": "light"
     },
     "output_type": "display_data"
    },
    {
     "data": {
      "image/png": "[encoded data removed]",
      "text/plain": [
       "<Figure size 1152x288 with 1 Axes>"
      ]
     },
     "metadata": {
      "needs_background": "light"
     },
     "output_type": "display_data"
    },
    {
     "data": {
      "image/png": "[encoded data removed]",
      "text/plain": [
       "<Figure size 1152x288 with 1 Axes>"
      ]
     },
     "metadata": {
      "needs_background": "light"
     },
     "output_type": "display_data"
    },
    {
     "data": {
      "image/png": "[encoded data removed]",
      "text/plain": [
       "<Figure size 1152x288 with 1 Axes>"
      ]
     },
     "metadata": {
      "needs_background": "light"
     },
     "output_type": "display_data"
    }
   ],
   "source": [
    "# Histograms for integer or float (numerical) fields providing statistical value distributions and visual data inspection for string columns in df_twitter_archive\n",
    "list = []\n",
    "for column in df_twitter_archive.columns:\n",
    "    if str(df_twitter_archive[column].dtype) == \"float64\":\n",
    "        list.append(column)\n",
    "print(list)\n",
    "\n",
    "for column in list:\n",
    "    fig = plt.figure(figsize = (16,4))\n",
    "    plt.yticks(fontsize=12, alpha=.7)\n",
    "    plt.xlabel('Value buckets')\n",
    "    plt.title('Histogram for '+ column, fontsize=22)\n",
    "    plt.grid(axis='both', alpha=.3)\n",
    "    ax = fig.gca()\n",
    "    df_twitter_archive[column].hist(ax = ax, bins=20)\n",
    "    print('\\n')"
   ]
  },
  {
   "cell_type": "code",
   "execution_count": null,
   "metadata": {},
   "outputs": [],
   "source": [
    "# Histograms for integer or float (numerical) fields providing statistical value distributions and visual data inspection for string columns in df_tweet_image\n",
    "list = []\n",
    "for column in df_tweet_image.columns:\n",
    "    if str(df_tweet_image[column].dtype) == \"float64\":\n",
    "        list.append(column)\n",
    "print(list)\n",
    "\n",
    "for column in list:\n",
    "    fig = plt.figure(figsize = (16,4))\n",
    "    plt.yticks(fontsize=12, alpha=.7)\n",
    "    plt.xlabel('Value buckets')\n",
    "    plt.title('Histogram for '+ column, fontsize=22)\n",
    "    plt.grid(axis='both', alpha=.3)\n",
    "    ax = fig.gca()\n",
    "    df_tweet_image[column].hist(ax = ax, bins=20)\n",
    "    print('\\n')"
   ]
  },
  {
   "cell_type": "code",
   "execution_count": 93,
   "metadata": {},
   "outputs": [
    {
     "name": "stdout",
     "output_type": "stream",
     "text": [
      "['favorite_count', 'retweet_count', 'followers_count', 'friends_count', 'favourites_count']\n",
      "\n",
      "\n",
      "\n",
      "\n",
      "\n",
      "\n",
      "\n",
      "\n",
      "\n",
      "\n"
     ]
    },
    {
     "data": {
      "image/png": "[encoded data removed]",
      "text/plain": [
       "<Figure size 1152x288 with 1 Axes>"
      ]
     },
     "metadata": {
      "needs_background": "light"
     },
     "output_type": "display_data"
    },
    {
     "data": {
      "image/png": "[encoded data removed]",
      "text/plain": [
       "<Figure size 1152x288 with 1 Axes>"
      ]
     },
     "metadata": {
      "needs_background": "light"
     },
     "output_type": "display_data"
    },
    {
     "data": {
      "image/png": "[encoded data removed]",
      "text/plain": [
       "<Figure size 1152x288 with 1 Axes>"
      ]
     },
     "metadata": {
      "needs_background": "light"
     },
     "output_type": "display_data"
    },
    {
     "data": {
      "image/png": "[encoded data removed]",
      "text/plain": [
       "<Figure size 1152x288 with 1 Axes>"
      ]
     },
     "metadata": {
      "needs_background": "light"
     },
     "output_type": "display_data"
    },
    {
     "data": {
      "image/png": "[encoded data removed]",
      "text/plain": [
       "<Figure size 1152x288 with 1 Axes>"
      ]
     },
     "metadata": {
      "needs_background": "light"
     },
     "output_type": "display_data"
    }
   ],
   "source": [
    "# Histograms for integer or float (numerical) fields providing statistical value distributions and visual data inspection for string columns in df_tweets_enhanced\n",
    "list = []\n",
    "for column in df_tweets_enhanced.columns:\n",
    "    if str(df_tweets_enhanced[column].dtype) == \"float64\":\n",
    "        list.append(column)\n",
    "print(list)\n",
    "\n",
    "for column in list:\n",
    "    fig = plt.figure(figsize = (16,4))\n",
    "    plt.yticks(fontsize=12, alpha=.7)\n",
    "    plt.xlabel('Value buckets')\n",
    "    plt.title('Histogram for '+ column, fontsize=22)\n",
    "    plt.grid(axis='both', alpha=.3)\n",
    "    ax = fig.gca()\n",
    "    df_tweets_enhanced[column].hist(ax = ax, bins=20)\n",
    "    print('\\n')"
   ]
  },
  {
   "cell_type": "markdown",
   "metadata": {},
   "source": [
    "### Histogram Obserations\n",
    "1. We see a clear decline in the tpX_conf (confidence) values as they go from high order to low order ML assessment.\n",
    "2. Favorite_count is right skewed toward lower numbers.\n",
    "2. The amount of retweets is rather low compared to the larger dataset."
   ]
  },
  {
   "cell_type": "markdown",
   "metadata": {},
   "source": [
    "### Quality issues\n",
    "1. After merge, 281 rows do not have corrosponding dog details.  This should be the core data set under analysis (combined)  ACTION: Remove subset as defined in the Assess Data.\n",
    "\n",
    "2. Find and update incorrect ratings ACTION: Review and Correct each instance (few instances)\n",
    "3. There are up to 181 retweets to be removed per the assignment guidance.  ACTION: Remove subset as defined in the Assess Data.  Drop unneeded columns.\n",
    "\n",
    "4. [****Favorite_count / Retweet_count / Friends_count / Followers_count / Favorites_count****] have only 842 non-null values.  ACTION: Correct the Null / NaN to 0 values\n",
    "\n",
    "5. Correct data types for tpX_conf columns to float, correct datatype for timestamp, correct data types for type string, Retweeted_status_timestamp\n",
    "\n",
    "6. Ratings with decimal values incorrectly extracted ACTION: Take Corrective Actions\n",
    "\n",
    "7. Dog breeds can be standardized ACTION: Standardize Names for tp1, tp2, tp3 ACTION: Align the breeds and ensure correct categorization.\n",
    "\n",
    "8. Remove unneeded columns after cleanup - ***['doggo', 'floofer', 'pupper', 'puppo', 'retweeted_status_id', 'retweeted_status_user_id', 'retweeted_status_timestamp', 'in_reply_to_status_id', 'in_reply_to_user_id','text_y']***  ACTION: Remove"
   ]
  },
  {
   "cell_type": "markdown",
   "metadata": {
    "extensions": {
     "jupyter_dashboards": {
      "version": 1,
      "views": {
       "grid_default": {
        "col": 0,
        "height": 7,
        "hidden": false,
        "row": 40,
        "width": 12
       },
       "report_default": {
        "hidden": false
       }
      }
     }
    }
   },
   "source": [
    "### Tidiness issues\n",
    "1. All Columns need to be merged to form a complete dataset and comply with tidiness standard. ACTION: Merge these.\n",
    "2. Four dog stages are seperate and not easily visualized.  ACTION: Combine and clean originating columns."
   ]
  },
  {
   "cell_type": "markdown",
   "metadata": {
    "extensions": {
     "jupyter_dashboards": {
      "version": 1,
      "views": {
       "grid_default": {
        "col": 4,
        "height": 4,
        "hidden": false,
        "row": 32,
        "width": 4
       },
       "report_default": {
        "hidden": false
       }
      }
     }
    }
   },
   "source": [
    "## Cleaning Data\n",
    "In this section, clean **all** of the issues you documented while assessing. \n",
    "\n",
    "**Note:** Make a copy of the original data before cleaning. Cleaning includes merging individual pieces of data according to the rules of [tidy data](https://cran.r-project.org/web/packages/tidyr/vignettes/tidy-data.html). The result should be a high-quality and tidy master pandas DataFrame (or DataFrames, if appropriate).\n",
    "\n",
    "**NOTE:** Data was merged on '***tweet_id***' as part of the assessment."
   ]
  },
  {
   "cell_type": "markdown",
   "metadata": {},
   "source": [
    "#### Drop NULL Function"
   ]
  },
  {
   "cell_type": "code",
   "execution_count": null,
   "metadata": {},
   "outputs": [],
   "source": [
    "# Define a Drop Nulls function\n",
    "def drop_null_and_test_column(column_to_drop):\n",
    "    #Remove Duplicates on 'ID'\n",
    "    df_clean.dropna(subset = column_to_drop, how = 'any', inplace = True)\n",
    "    \n",
    "    #retest the result, this should equal 1\n",
    "    nulls = (df_clean[column_to_drop].isnull())\n",
    "    nulls = sum(nulls == True)\n",
    "    return nulls"
   ]
  },
  {
   "cell_type": "markdown",
   "metadata": {},
   "source": [
    "#### Drop Duplicates Function"
   ]
  },
  {
   "cell_type": "code",
   "execution_count": null,
   "metadata": {},
   "outputs": [],
   "source": [
    "# Define a Drop duplicates function\n",
    "def drop_duplicates_and_test_column(column_to_drop):\n",
    "    #Remove Duplicates on 'ID'\n",
    "    df_clean.drop_duplicates(subset = column_to_drop, keep = 'last', inplace = True)\n",
    "    \n",
    "    #retest the result, this should equal 1\n",
    "    duplicates = (df_clean.duplicated(subset=[column_to_drop], keep='last'))\n",
    "    duplicates = sum(duplicates == True)\n",
    "    return duplicates"
   ]
  },
  {
   "cell_type": "markdown",
   "metadata": {},
   "source": [
    "### Tideiness Issue #1:  All Columns need to be merged to form a complete dataset and comply with tidiness standard. ACTION: Merge these."
   ]
  },
  {
   "cell_type": "markdown",
   "metadata": {},
   "source": [
    "#### Code"
   ]
  },
  {
   "cell_type": "code",
   "execution_count": null,
   "metadata": {},
   "outputs": [],
   "source": [
    "# Join df_twitter_archive and df_tweets_enhanced tables to analysis (MOVE TO CLEANUP)\n",
    "\n",
    "# Remove Truncation of records for accurate of EDA Work\n",
    "pd.set_option('display.max_rows', 2500)\n",
    "pd.set_option('display.max_columns', 50)\n",
    "pd.set_option('display.width', 130)\n",
    "\n",
    "# First we join Twitter_archive and Twitter Image Analysis with an outer join\n",
    "df_twitter_merged = df_twitter_archive.copy()\n",
    "df_twitter_merged['tweet_id'] = df_twitter_merged['tweet_id'].astype('str')\n",
    "df_twitter_merged = df_twitter_merged.merge(df_tweet_image, how=\"outer\", on='tweet_id')\n",
    "\n",
    "# Clean df_tweets_enhanced (scraped data for a clean join)\n",
    "# Rename for consistency and join\n",
    "df_tweets_enhanced.rename(columns={\"id_str\": \"tweet_id\"}, inplace=True)\n",
    "# Define regex to find valid patterns\n",
    "regex_string = r\"^([0-9][0-9][0-9][0-9][0-9][0-9]*)\"\n",
    "# Drop non-valid values (possible result of scapeing JSON data)\n",
    "df_tweets_enhanced.drop(df_tweets_enhanced[~df_tweets_enhanced[\"tweet_id\"].str.contains(regex_string, na=False, regex=True)].index, inplace=True)\n",
    "# Drop any Null values (possible result of scapeing JSON data)\n",
    "df_tweets_enhanced.dropna(subset='tweet_id', inplace=True)\n",
    "\n",
    "\n",
    "#Next we join the new consolidated df_twitter_merged and Twitter scraped data with an outer join\n",
    "df_twitter_merged = df_twitter_merged.merge(df_tweets_enhanced, how=\"outer\", on='tweet_id')\n"
   ]
  },
  {
   "cell_type": "markdown",
   "metadata": {},
   "source": [
    "#### Test"
   ]
  },
  {
   "cell_type": "code",
   "execution_count": null,
   "metadata": {},
   "outputs": [],
   "source": [
    "# Verify the merged size and columns are correct, showing missing data (MOVE TO CLEANUP)\n",
    "print(df_twitter_merged.info())\n",
    "print(df_twitter_merged.shape)"
   ]
  },
  {
   "cell_type": "markdown",
   "metadata": {},
   "source": [
    "#### Copy cleaning Dataset"
   ]
  },
  {
   "cell_type": "code",
   "execution_count": null,
   "metadata": {},
   "outputs": [],
   "source": [
    "# Make copies of original pieces of data\n",
    "\n",
    "#NOTE: Data was merged on 'tweet_id' as part of the assessment. Each record contains one single Tweet and specific data about the Dog breed as it relates to Tweet ID.\n",
    "# Make a copy of the data\n",
    "df_clean = df_twitter_merged.copy()\n"
   ]
  },
  {
   "cell_type": "markdown",
   "metadata": {},
   "source": [
    "### Issue #1:  After merge, 281 rows do not have corrosponding dog details. This should be the core data set under analysis (combined) ACTION: Remove subset as defined in the Assess Data."
   ]
  },
  {
   "cell_type": "code",
   "execution_count": null,
   "metadata": {},
   "outputs": [],
   "source": [
    "df_clean.info()"
   ]
  },
  {
   "cell_type": "markdown",
   "metadata": {},
   "source": [
    "#### Code"
   ]
  },
  {
   "cell_type": "code",
   "execution_count": null,
   "metadata": {},
   "outputs": [],
   "source": [
    "# Call drop Null function\n",
    "print(drop_null_and_test_column('tjpg_url'))"
   ]
  },
  {
   "cell_type": "markdown",
   "metadata": {},
   "source": [
    "#### Test"
   ]
  },
  {
   "cell_type": "code",
   "execution_count": null,
   "metadata": {},
   "outputs": [],
   "source": [
    "# Should return a 0\n",
    "nulls = (df_clean['tjpg_url'].isnull())\n",
    "nulls = sum(nulls == True)\n",
    "print(nulls)"
   ]
  },
  {
   "cell_type": "markdown",
   "metadata": {},
   "source": [
    "### Issue #2: Find and update incorrect ratings ACTION: Review and Correct each instance (few instances)"
   ]
  },
  {
   "cell_type": "markdown",
   "metadata": {},
   "source": [
    "#### Code"
   ]
  },
  {
   "cell_type": "code",
   "execution_count": 64,
   "metadata": {},
   "outputs": [
    {
     "name": "stdout",
     "output_type": "stream",
     "text": [
      "Updating 810984652412424192\n",
      "\n",
      "\n",
      "Updating 740373189193256964\n",
      "\n",
      "\n",
      "Updating 722974582966214656\n",
      "\n",
      "\n",
      "Updating 716439118184652801\n",
      "\n",
      "\n",
      "Updating 682962037429899265\n",
      "\n",
      "\n",
      "Updating 666287406224695296\n",
      "\n",
      "\n"
     ]
    },
    {
     "name": "stderr",
     "output_type": "stream",
     "text": [
      "/var/folders/y3/3kgm4s_n6rd5n4q45fw20d3m0000gp/T/ipykernel_28176/2806342792.py:6: SettingWithCopyWarning: \n",
      "A value is trying to be set on a copy of a slice from a DataFrame\n",
      "\n",
      "See the caveats in the documentation: https://pandas.pydata.org/pandas-docs/stable/user_guide/indexing.html#returning-a-view-versus-a-copy\n",
      "  df_clean['rating_numerator'][df_clean['tweet_id'] == '810984652412424192'] = 0\n",
      "/var/folders/y3/3kgm4s_n6rd5n4q45fw20d3m0000gp/T/ipykernel_28176/2806342792.py:7: SettingWithCopyWarning: \n",
      "A value is trying to be set on a copy of a slice from a DataFrame\n",
      "\n",
      "See the caveats in the documentation: https://pandas.pydata.org/pandas-docs/stable/user_guide/indexing.html#returning-a-view-versus-a-copy\n",
      "  df_clean['rating_denominator'][df_clean['tweet_id'] == '810984652412424192'] = 0\n",
      "/var/folders/y3/3kgm4s_n6rd5n4q45fw20d3m0000gp/T/ipykernel_28176/2806342792.py:11: SettingWithCopyWarning: \n",
      "A value is trying to be set on a copy of a slice from a DataFrame\n",
      "\n",
      "See the caveats in the documentation: https://pandas.pydata.org/pandas-docs/stable/user_guide/indexing.html#returning-a-view-versus-a-copy\n",
      "  df_clean['rating_numerator'][df_clean['tweet_id'] == '740373189193256964'] = 14\n",
      "/var/folders/y3/3kgm4s_n6rd5n4q45fw20d3m0000gp/T/ipykernel_28176/2806342792.py:12: SettingWithCopyWarning: \n",
      "A value is trying to be set on a copy of a slice from a DataFrame\n",
      "\n",
      "See the caveats in the documentation: https://pandas.pydata.org/pandas-docs/stable/user_guide/indexing.html#returning-a-view-versus-a-copy\n",
      "  df_clean['rating_denominator'][df_clean['tweet_id'] == '740373189193256964'] = 10\n",
      "/var/folders/y3/3kgm4s_n6rd5n4q45fw20d3m0000gp/T/ipykernel_28176/2806342792.py:16: SettingWithCopyWarning: \n",
      "A value is trying to be set on a copy of a slice from a DataFrame\n",
      "\n",
      "See the caveats in the documentation: https://pandas.pydata.org/pandas-docs/stable/user_guide/indexing.html#returning-a-view-versus-a-copy\n",
      "  df_clean['rating_numerator'][df_clean['tweet_id'] == '722974582966214656'] = 13\n",
      "/var/folders/y3/3kgm4s_n6rd5n4q45fw20d3m0000gp/T/ipykernel_28176/2806342792.py:17: SettingWithCopyWarning: \n",
      "A value is trying to be set on a copy of a slice from a DataFrame\n",
      "\n",
      "See the caveats in the documentation: https://pandas.pydata.org/pandas-docs/stable/user_guide/indexing.html#returning-a-view-versus-a-copy\n",
      "  df_clean['rating_denominator'][df_clean['tweet_id'] == '722974582966214656'] = 10\n",
      "/var/folders/y3/3kgm4s_n6rd5n4q45fw20d3m0000gp/T/ipykernel_28176/2806342792.py:21: SettingWithCopyWarning: \n",
      "A value is trying to be set on a copy of a slice from a DataFrame\n",
      "\n",
      "See the caveats in the documentation: https://pandas.pydata.org/pandas-docs/stable/user_guide/indexing.html#returning-a-view-versus-a-copy\n",
      "  df_clean['rating_numerator'][df_clean['tweet_id'] == '716439118184652801'] = 11\n",
      "/var/folders/y3/3kgm4s_n6rd5n4q45fw20d3m0000gp/T/ipykernel_28176/2806342792.py:22: SettingWithCopyWarning: \n",
      "A value is trying to be set on a copy of a slice from a DataFrame\n",
      "\n",
      "See the caveats in the documentation: https://pandas.pydata.org/pandas-docs/stable/user_guide/indexing.html#returning-a-view-versus-a-copy\n",
      "  df_clean['rating_denominator'][df_clean['tweet_id'] == '716439118184652801'] = 10\n",
      "/var/folders/y3/3kgm4s_n6rd5n4q45fw20d3m0000gp/T/ipykernel_28176/2806342792.py:26: SettingWithCopyWarning: \n",
      "A value is trying to be set on a copy of a slice from a DataFrame\n",
      "\n",
      "See the caveats in the documentation: https://pandas.pydata.org/pandas-docs/stable/user_guide/indexing.html#returning-a-view-versus-a-copy\n",
      "  df_clean['rating_numerator'][df_clean['tweet_id'] == '682962037429899265'] = 10\n",
      "/var/folders/y3/3kgm4s_n6rd5n4q45fw20d3m0000gp/T/ipykernel_28176/2806342792.py:27: SettingWithCopyWarning: \n",
      "A value is trying to be set on a copy of a slice from a DataFrame\n",
      "\n",
      "See the caveats in the documentation: https://pandas.pydata.org/pandas-docs/stable/user_guide/indexing.html#returning-a-view-versus-a-copy\n",
      "  df_clean['rating_denominator'][df_clean['tweet_id'] == '682962037429899265'] = 10\n",
      "/var/folders/y3/3kgm4s_n6rd5n4q45fw20d3m0000gp/T/ipykernel_28176/2806342792.py:31: SettingWithCopyWarning: \n",
      "A value is trying to be set on a copy of a slice from a DataFrame\n",
      "\n",
      "See the caveats in the documentation: https://pandas.pydata.org/pandas-docs/stable/user_guide/indexing.html#returning-a-view-versus-a-copy\n",
      "  df_clean['rating_numerator'][df_clean['tweet_id'] == '666287406224695296'] = 9\n",
      "/var/folders/y3/3kgm4s_n6rd5n4q45fw20d3m0000gp/T/ipykernel_28176/2806342792.py:32: SettingWithCopyWarning: \n",
      "A value is trying to be set on a copy of a slice from a DataFrame\n",
      "\n",
      "See the caveats in the documentation: https://pandas.pydata.org/pandas-docs/stable/user_guide/indexing.html#returning-a-view-versus-a-copy\n",
      "  df_clean['rating_denominator'][df_clean['tweet_id'] == '666287406224695296'] = 10\n"
     ]
    }
   ],
   "source": [
    "pd.set_option('display.max_rows', 100)\n",
    "pd.set_option('display.max_columns', 50)\n",
    "pd.set_option('display.max_colwidth', 500)\n",
    "\n",
    "# Update '810984652412424192' with correct ratings\n",
    "df_clean['rating_numerator'][df_clean['tweet_id'] == '810984652412424192'] = 0\n",
    "df_clean['rating_denominator'][df_clean['tweet_id'] == '810984652412424192'] = 0\n",
    "print('Updating 810984652412424192\\n\\n')\n",
    "\n",
    "# Update '740373189193256964' with correct ratings\n",
    "df_clean['rating_numerator'][df_clean['tweet_id'] == '740373189193256964'] = 14\n",
    "df_clean['rating_denominator'][df_clean['tweet_id'] == '740373189193256964'] = 10\n",
    "print('Updating 740373189193256964\\n\\n')\n",
    "\n",
    "# Update '722974582966214656' with correct ratings\n",
    "df_clean['rating_numerator'][df_clean['tweet_id'] == '722974582966214656'] = 13\n",
    "df_clean['rating_denominator'][df_clean['tweet_id'] == '722974582966214656'] = 10\n",
    "print('Updating 722974582966214656\\n\\n')\n",
    "\n",
    "# Update '716439118184652801' with correct ratings\n",
    "df_clean['rating_numerator'][df_clean['tweet_id'] == '716439118184652801'] = 11\n",
    "df_clean['rating_denominator'][df_clean['tweet_id'] == '716439118184652801'] = 10\n",
    "print('Updating 716439118184652801\\n\\n')\n",
    "\n",
    "# Update '682962037429899265' with correct ratings\n",
    "df_clean['rating_numerator'][df_clean['tweet_id'] == '682962037429899265'] = 10\n",
    "df_clean['rating_denominator'][df_clean['tweet_id'] == '682962037429899265'] = 10\n",
    "print('Updating 682962037429899265\\n\\n')\n",
    "\n",
    "# Update '666287406224695296' with correct ratings\n",
    "df_clean['rating_numerator'][df_clean['tweet_id'] == '666287406224695296'] = 9\n",
    "df_clean['rating_denominator'][df_clean['tweet_id'] == '666287406224695296'] = 10\n",
    "print('Updating 666287406224695296\\n\\n')\n",
    "\n"
   ]
  },
  {
   "cell_type": "markdown",
   "metadata": {},
   "source": [
    "#### Test"
   ]
  },
  {
   "cell_type": "code",
   "execution_count": 65,
   "metadata": {},
   "outputs": [
    {
     "data": {
      "text/html": [
       "<div>\n",
       "<style scoped>\n",
       "    .dataframe tbody tr th:only-of-type {\n",
       "        vertical-align: middle;\n",
       "    }\n",
       "\n",
       "    .dataframe tbody tr th {\n",
       "        vertical-align: top;\n",
       "    }\n",
       "\n",
       "    .dataframe thead th {\n",
       "        text-align: right;\n",
       "    }\n",
       "</style>\n",
       "<table border=\"1\" class=\"dataframe\">\n",
       "  <thead>\n",
       "    <tr style=\"text-align: right;\">\n",
       "      <th></th>\n",
       "      <th>tweet_id</th>\n",
       "      <th>text_x</th>\n",
       "      <th>rating_numerator</th>\n",
       "      <th>rating_denominator</th>\n",
       "    </tr>\n",
       "  </thead>\n",
       "  <tbody>\n",
       "    <tr>\n",
       "      <th>323</th>\n",
       "      <td>820690176645140481</td>\n",
       "      <td>The floofs have been released I repeat the floofs have been released. 84/70 https://t.co/NIYC820tmd</td>\n",
       "      <td>84.0</td>\n",
       "      <td>70</td>\n",
       "    </tr>\n",
       "    <tr>\n",
       "      <th>385</th>\n",
       "      <td>810984652412424192</td>\n",
       "      <td>Meet Sam. She smiles 24/7 &amp;amp; secretly aspires to be a reindeer. \\nKeep Sam smiling by clicking and sharing this link:\\nhttps://t.co/98tB8y7y7t https://t.co/LouL5vdvxx</td>\n",
       "      <td>24.0</td>\n",
       "      <td>7</td>\n",
       "    </tr>\n",
       "    <tr>\n",
       "      <th>662</th>\n",
       "      <td>758467244762497024</td>\n",
       "      <td>Why does this never happen at my front door... 165/150 https://t.co/HmwrdfEfUE</td>\n",
       "      <td>165.0</td>\n",
       "      <td>150</td>\n",
       "    </tr>\n",
       "    <tr>\n",
       "      <th>800</th>\n",
       "      <td>740373189193256964</td>\n",
       "      <td>After so many requests, this is Bretagne. She was the last surviving 9/11 search dog, and our second ever 14/10. RIP https://t.co/XAVDNDaVgQ</td>\n",
       "      <td>9.0</td>\n",
       "      <td>11</td>\n",
       "    </tr>\n",
       "    <tr>\n",
       "      <th>848</th>\n",
       "      <td>731156023742988288</td>\n",
       "      <td>Say hello to this unbelievably well behaved squad of doggos. 204/170 would try to pet all at once https://t.co/yGQI3He3xv</td>\n",
       "      <td>204.0</td>\n",
       "      <td>170</td>\n",
       "    </tr>\n",
       "    <tr>\n",
       "      <th>891</th>\n",
       "      <td>722974582966214656</td>\n",
       "      <td>Happy 4/20 from the squad! 13/10 for all https://t.co/eV1diwds8a</td>\n",
       "      <td>4.0</td>\n",
       "      <td>20</td>\n",
       "    </tr>\n",
       "    <tr>\n",
       "      <th>925</th>\n",
       "      <td>716439118184652801</td>\n",
       "      <td>This is Bluebert. He just saw that both #FinalFur match ups are split 50/50. Amazed af. 11/10 https://t.co/Kky1DPG4iq</td>\n",
       "      <td>50.0</td>\n",
       "      <td>50</td>\n",
       "    </tr>\n",
       "    <tr>\n",
       "      <th>946</th>\n",
       "      <td>713900603437621249</td>\n",
       "      <td>Happy Saturday here's 9 puppers on a bench. 99/90 good work everybody https://t.co/mpvaVxKmc1</td>\n",
       "      <td>99.0</td>\n",
       "      <td>90</td>\n",
       "    </tr>\n",
       "    <tr>\n",
       "      <th>970</th>\n",
       "      <td>710658690886586372</td>\n",
       "      <td>Here's a brigade of puppers. All look very prepared for whatever happens next. 80/80 https://t.co/0eb7R1Om12</td>\n",
       "      <td>80.0</td>\n",
       "      <td>80</td>\n",
       "    </tr>\n",
       "    <tr>\n",
       "      <th>988</th>\n",
       "      <td>709198395643068416</td>\n",
       "      <td>From left to right:\\nCletus, Jerome, Alejandro, Burp, &amp;amp; Titson\\nNone know where camera is. 45/50 would hug all at once https://t.co/sedre1ivTK</td>\n",
       "      <td>45.0</td>\n",
       "      <td>50</td>\n",
       "    </tr>\n",
       "    <tr>\n",
       "      <th>1054</th>\n",
       "      <td>704054845121142784</td>\n",
       "      <td>Here is a whole flock of puppers.  60/50 I'll take the lot https://t.co/9dpcw6MdWa</td>\n",
       "      <td>60.0</td>\n",
       "      <td>50</td>\n",
       "    </tr>\n",
       "    <tr>\n",
       "      <th>1130</th>\n",
       "      <td>697463031882764288</td>\n",
       "      <td>Happy Wednesday here's a bucket of pups. 44/40 would pet all at once https://t.co/HppvrYuamZ</td>\n",
       "      <td>44.0</td>\n",
       "      <td>40</td>\n",
       "    </tr>\n",
       "    <tr>\n",
       "      <th>1302</th>\n",
       "      <td>684225744407494656</td>\n",
       "      <td>Two sneaky puppers were not initially seen, moving the rating to 143/130. Please forgive us. Thank you https://t.co/kRK51Y5ac3</td>\n",
       "      <td>143.0</td>\n",
       "      <td>130</td>\n",
       "    </tr>\n",
       "    <tr>\n",
       "      <th>1303</th>\n",
       "      <td>684222868335505415</td>\n",
       "      <td>Someone help the girl is being mugged. Several are distracting her while two steal her shoes. Clever puppers 121/110 https://t.co/1zfnTJLt55</td>\n",
       "      <td>121.0</td>\n",
       "      <td>110</td>\n",
       "    </tr>\n",
       "    <tr>\n",
       "      <th>1328</th>\n",
       "      <td>682962037429899265</td>\n",
       "      <td>This is Darrel. He just robbed a 7/11 and is in a high speed police chase. Was just spotted by the helicopter 10/10 https://t.co/7EsP8LmSp5</td>\n",
       "      <td>7.0</td>\n",
       "      <td>11</td>\n",
       "    </tr>\n",
       "    <tr>\n",
       "      <th>1435</th>\n",
       "      <td>677716515794329600</td>\n",
       "      <td>IT'S PUPPERGEDDON. Total of 144/120 ...I think https://t.co/ZanVtAtvIq</td>\n",
       "      <td>144.0</td>\n",
       "      <td>120</td>\n",
       "    </tr>\n",
       "    <tr>\n",
       "      <th>1494</th>\n",
       "      <td>675853064436391936</td>\n",
       "      <td>Here we have an entire platoon of puppers. Total score: 88/80 would pet all at once https://t.co/y93p6FLvVw</td>\n",
       "      <td>88.0</td>\n",
       "      <td>80</td>\n",
       "    </tr>\n",
       "    <tr>\n",
       "      <th>1973</th>\n",
       "      <td>666287406224695296</td>\n",
       "      <td>This is an Albanian 3 1/2 legged  Episcopalian. Loves well-polished hardwood flooring. Penis on the collar. 9/10 https://t.co/d9NcXFKwLv</td>\n",
       "      <td>1.0</td>\n",
       "      <td>2</td>\n",
       "    </tr>\n",
       "  </tbody>\n",
       "</table>\n",
       "</div>"
      ],
      "text/plain": [
       "                tweet_id                                                                                                                                                                     text_x  rating_numerator  rating_denominator\n",
       "323   820690176645140481                                                                        The floofs have been released I repeat the floofs have been released. 84/70 https://t.co/NIYC820tmd              84.0                  70\n",
       "385   810984652412424192  Meet Sam. She smiles 24/7 &amp; secretly aspires to be a reindeer. \\nKeep Sam smiling by clicking and sharing this link:\\nhttps://t.co/98tB8y7y7t https://t.co/LouL5vdvxx              24.0                   7\n",
       "662   758467244762497024                                                                                             Why does this never happen at my front door... 165/150 https://t.co/HmwrdfEfUE             165.0                 150\n",
       "800   740373189193256964                               After so many requests, this is Bretagne. She was the last surviving 9/11 search dog, and our second ever 14/10. RIP https://t.co/XAVDNDaVgQ               9.0                  11\n",
       "848   731156023742988288                                                  Say hello to this unbelievably well behaved squad of doggos. 204/170 would try to pet all at once https://t.co/yGQI3He3xv             204.0                 170\n",
       "891   722974582966214656                                                                                                           Happy 4/20 from the squad! 13/10 for all https://t.co/eV1diwds8a               4.0                  20\n",
       "925   716439118184652801                                                      This is Bluebert. He just saw that both #FinalFur match ups are split 50/50. Amazed af. 11/10 https://t.co/Kky1DPG4iq              50.0                  50\n",
       "946   713900603437621249                                                                              Happy Saturday here's 9 puppers on a bench. 99/90 good work everybody https://t.co/mpvaVxKmc1              99.0                  90\n",
       "970   710658690886586372                                                               Here's a brigade of puppers. All look very prepared for whatever happens next. 80/80 https://t.co/0eb7R1Om12              80.0                  80\n",
       "988   709198395643068416                         From left to right:\\nCletus, Jerome, Alejandro, Burp, &amp; Titson\\nNone know where camera is. 45/50 would hug all at once https://t.co/sedre1ivTK              45.0                  50\n",
       "1054  704054845121142784                                                                                         Here is a whole flock of puppers.  60/50 I'll take the lot https://t.co/9dpcw6MdWa              60.0                  50\n",
       "1130  697463031882764288                                                                               Happy Wednesday here's a bucket of pups. 44/40 would pet all at once https://t.co/HppvrYuamZ              44.0                  40\n",
       "1302  684225744407494656                                             Two sneaky puppers were not initially seen, moving the rating to 143/130. Please forgive us. Thank you https://t.co/kRK51Y5ac3             143.0                 130\n",
       "1303  684222868335505415                               Someone help the girl is being mugged. Several are distracting her while two steal her shoes. Clever puppers 121/110 https://t.co/1zfnTJLt55             121.0                 110\n",
       "1328  682962037429899265                                This is Darrel. He just robbed a 7/11 and is in a high speed police chase. Was just spotted by the helicopter 10/10 https://t.co/7EsP8LmSp5               7.0                  11\n",
       "1435  677716515794329600                                                                                                     IT'S PUPPERGEDDON. Total of 144/120 ...I think https://t.co/ZanVtAtvIq             144.0                 120\n",
       "1494  675853064436391936                                                                Here we have an entire platoon of puppers. Total score: 88/80 would pet all at once https://t.co/y93p6FLvVw              88.0                  80\n",
       "1973  666287406224695296                                   This is an Albanian 3 1/2 legged  Episcopalian. Loves well-polished hardwood flooring. Penis on the collar. 9/10 https://t.co/d9NcXFKwLv               1.0                   2"
      ]
     },
     "execution_count": 65,
     "metadata": {},
     "output_type": "execute_result"
    }
   ],
   "source": [
    "df_clean[df_clean['rating_denominator'] != 10][['tweet_id', 'text_x', 'rating_numerator', 'rating_denominator']]\n",
    "#df_clean.rating_denominator.value_counts()"
   ]
  },
  {
   "cell_type": "markdown",
   "metadata": {},
   "source": [
    "### Issue #3  There are up to 181 retweets to be removed per the assignment guidance. ACTION: Remove subset as defined in the Assess Data.  Drop unneeded columns."
   ]
  },
  {
   "cell_type": "markdown",
   "metadata": {},
   "source": [
    "#### Code & Test"
   ]
  },
  {
   "cell_type": "code",
   "execution_count": null,
   "metadata": {},
   "outputs": [],
   "source": [
    "# Remove Retweets\n",
    "# Reset Index Variable\n",
    "index_remove = []\n",
    "\n",
    "print('Removing Retweet records\\n')\n",
    "index_remove = df_clean[(~df_clean['retweeted_status_id'].isnull())].index\n",
    "df_clean.drop(index_remove, inplace=True)\n",
    "print('Removed {} rows for False values'.format(len(index_remove)))\n"
   ]
  },
  {
   "cell_type": "markdown",
   "metadata": {},
   "source": [
    "### Issue #4  [***favorite_count,  retweet_count, friends_count, followers_count, favorites_count***] have only 842 non-null values.  ACTION: Correct the Null / NaN to 0 values\n"
   ]
  },
  {
   "cell_type": "markdown",
   "metadata": {},
   "source": [
    "#### Code"
   ]
  },
  {
   "cell_type": "code",
   "execution_count": null,
   "metadata": {},
   "outputs": [],
   "source": [
    "# Turn NaN to 0 values\n",
    "column_list = ['favorite_count', 'retweet_count', 'friends_count', 'followers_count', 'favourites_count']\n",
    "for column in column_list:\n",
    "    df_clean[column] = df_clean[column].replace(np.nan, 0)"
   ]
  },
  {
   "cell_type": "markdown",
   "metadata": {},
   "source": [
    "#### Test"
   ]
  },
  {
   "cell_type": "code",
   "execution_count": null,
   "metadata": {},
   "outputs": [],
   "source": [
    "# Show Null Values, should show 0 (x5)\n",
    "column_list = ['favorite_count', 'retweet_count', 'friends_count', 'followers_count', 'favourites_count']\n",
    "for column in column_list:\n",
    "    print(df_clean[df_clean[column].isnull()][column].count())\n",
    "\n"
   ]
  },
  {
   "cell_type": "markdown",
   "metadata": {},
   "source": [
    "### Issue #5 Correct data types for tpX_conf columns to float, correct datatype for timestamp, correct data types for type string, Retweeted_status_timestamp"
   ]
  },
  {
   "cell_type": "markdown",
   "metadata": {},
   "source": [
    "#### Code"
   ]
  },
  {
   "cell_type": "code",
   "execution_count": null,
   "metadata": {},
   "outputs": [],
   "source": [
    "#Change Timestamp to Date for processsing later, and Clean up variable types\n",
    "df_clean['retweeted_status_timestamp'] = pd.to_datetime(df_clean['retweeted_status_timestamp'], format='%Y-%m-%d')\n",
    "df_clean['tp1_conf'] = df_clean['tp1_conf'].replace('', np.NaN).astype(float)\n",
    "df_clean['tp2_conf'] = df_clean['tp2_conf'].replace('', np.NaN).astype(float)\n",
    "df_clean['tp3_conf'] = df_clean['tp3_conf'].replace('', np.NaN).astype(float)"
   ]
  },
  {
   "cell_type": "markdown",
   "metadata": {},
   "source": [
    "#### Test"
   ]
  },
  {
   "cell_type": "code",
   "execution_count": null,
   "metadata": {},
   "outputs": [],
   "source": [
    "df_clean[['retweeted_status_timestamp', 'tp1_conf', 'tp2_conf', 'tp3_conf']].info()"
   ]
  },
  {
   "cell_type": "markdown",
   "metadata": {},
   "source": [
    "### Issue #6:  Ratings with decimal values incorrectly extracted ACTION: Take Corrective Actions"
   ]
  },
  {
   "cell_type": "markdown",
   "metadata": {},
   "source": [
    "#### Code"
   ]
  },
  {
   "cell_type": "code",
   "execution_count": 67,
   "metadata": {},
   "outputs": [
    {
     "name": "stderr",
     "output_type": "stream",
     "text": [
      "/var/folders/y3/3kgm4s_n6rd5n4q45fw20d3m0000gp/T/ipykernel_28176/2011457515.py:5: SettingWithCopyWarning: \n",
      "A value is trying to be set on a copy of a slice from a DataFrame\n",
      "\n",
      "See the caveats in the documentation: https://pandas.pydata.org/pandas-docs/stable/user_guide/indexing.html#returning-a-view-versus-a-copy\n",
      "  df_clean['rating_numerator'][df_clean['text_x'].str.match(regex_string) == True] = df_clean['text_x'].str.extract(regex_string, expand = False).astype(str)\n"
     ]
    }
   ],
   "source": [
    "regex_string = '^.*[^$]([0-9]{1,5}\\.[0-9]{1,3}[\\/]).*$'\n",
    "# Change to String\n",
    "df_clean['rating_numerator'] = df_clean['rating_numerator'].astype(str)\n",
    "# Extract Raw float with '/' for rows in scope\n",
    "df_clean['rating_numerator'][df_clean['text_x'].str.match(regex_string) == True] = df_clean['text_x'].str.extract(regex_string, expand = False).astype(str)\n",
    "# Remove '/' and change to float for 4 impacted entries\n",
    "df_clean['rating_numerator'] = df_clean['rating_numerator'].str.replace(\"/\", '')\n",
    "# Correct types for the two ratings values\n",
    "df_clean['rating_numerator'] = df_clean['rating_numerator'].astype(float)\n",
    "df_clean['rating_denominator'] = df_clean['rating_denominator'].astype(float)\n"
   ]
  },
  {
   "cell_type": "markdown",
   "metadata": {},
   "source": [
    "#### Test"
   ]
  },
  {
   "cell_type": "code",
   "execution_count": 68,
   "metadata": {},
   "outputs": [
    {
     "name": "stderr",
     "output_type": "stream",
     "text": [
      "/var/folders/y3/3kgm4s_n6rd5n4q45fw20d3m0000gp/T/ipykernel_28176/3637057821.py:7: UserWarning: This pattern is interpreted as a regular expression, and has match groups. To actually get the groups, use str.extract.\n",
      "  df_clean[['tweet_id', 'text_x', 'rating_numerator']][df_clean['text_x'].str.contains(regex_string) == True]\n"
     ]
    },
    {
     "data": {
      "text/html": [
       "<div>\n",
       "<style scoped>\n",
       "    .dataframe tbody tr th:only-of-type {\n",
       "        vertical-align: middle;\n",
       "    }\n",
       "\n",
       "    .dataframe tbody tr th {\n",
       "        vertical-align: top;\n",
       "    }\n",
       "\n",
       "    .dataframe thead th {\n",
       "        text-align: right;\n",
       "    }\n",
       "</style>\n",
       "<table border=\"1\" class=\"dataframe\">\n",
       "  <thead>\n",
       "    <tr style=\"text-align: right;\">\n",
       "      <th></th>\n",
       "      <th>tweet_id</th>\n",
       "      <th>text_x</th>\n",
       "      <th>rating_numerator</th>\n",
       "    </tr>\n",
       "  </thead>\n",
       "  <tbody>\n",
       "    <tr>\n",
       "      <th>39</th>\n",
       "      <td>883482846933004288</td>\n",
       "      <td>This is Bella. She hopes her smile made you smile. If not, she is also offering you her favorite monkey. 13.5/10 https://t.co/qjrljjt948</td>\n",
       "      <td>3.50</td>\n",
       "    </tr>\n",
       "    <tr>\n",
       "      <th>503</th>\n",
       "      <td>786709082849828864</td>\n",
       "      <td>This is Logan, the Chow who lived. He solemnly swears he's up to lots of good. H*ckin magical af 9.75/10 https://t.co/yBO5wuqaPS</td>\n",
       "      <td>9.75</td>\n",
       "    </tr>\n",
       "    <tr>\n",
       "      <th>553</th>\n",
       "      <td>778027034220126208</td>\n",
       "      <td>This is Sophie. She's a Jubilant Bush Pupper. Super h*ckin rare. Appears at random just to smile at the locals. 11.27/10 would smile back https://t.co/QFaUiIHxHq</td>\n",
       "      <td>1.27</td>\n",
       "    </tr>\n",
       "    <tr>\n",
       "      <th>1374</th>\n",
       "      <td>680494726643068929</td>\n",
       "      <td>Here we have uncovered an entire battalion of holiday puppers. Average of 11.26/10 https://t.co/eNm2S6p9BD</td>\n",
       "      <td>1.26</td>\n",
       "    </tr>\n",
       "  </tbody>\n",
       "</table>\n",
       "</div>"
      ],
      "text/plain": [
       "                tweet_id                                                                                                                                                             text_x  rating_numerator\n",
       "39    883482846933004288                           This is Bella. She hopes her smile made you smile. If not, she is also offering you her favorite monkey. 13.5/10 https://t.co/qjrljjt948              3.50\n",
       "503   786709082849828864                                   This is Logan, the Chow who lived. He solemnly swears he's up to lots of good. H*ckin magical af 9.75/10 https://t.co/yBO5wuqaPS              9.75\n",
       "553   778027034220126208  This is Sophie. She's a Jubilant Bush Pupper. Super h*ckin rare. Appears at random just to smile at the locals. 11.27/10 would smile back https://t.co/QFaUiIHxHq              1.27\n",
       "1374  680494726643068929                                                         Here we have uncovered an entire battalion of holiday puppers. Average of 11.26/10 https://t.co/eNm2S6p9BD              1.26"
      ]
     },
     "execution_count": 68,
     "metadata": {},
     "output_type": "execute_result"
    }
   ],
   "source": [
    "pd.set_option('display.max_rows', 100)\n",
    "pd.set_option('display.max_columns', 50)\n",
    "pd.set_option('display.max_colwidth', 500)\n",
    "\n",
    "#Should return 4 rows with correct values.\n",
    "regex_string = '^.*[^$]([0-9]{1,5}\\.[0-9]{1,3}[\\/]).*$'\n",
    "df_clean[['tweet_id', 'text_x', 'rating_numerator']][df_clean['text_x'].str.contains(regex_string) == True]\n"
   ]
  },
  {
   "cell_type": "markdown",
   "metadata": {},
   "source": [
    "### Issue #7: Dog breeds can be standardized ACTION: Standardize Names for tp1, tp2, tp3 ACTION: Align the breeds and ensure correct categorization."
   ]
  },
  {
   "cell_type": "markdown",
   "metadata": {},
   "source": [
    "#### Code"
   ]
  },
  {
   "cell_type": "code",
   "execution_count": 69,
   "metadata": {},
   "outputs": [],
   "source": [
    "# Standardize capitalized values to lower\n",
    "df_clean['tp1'] = df_clean['tp1'].str.lower()\n",
    "df_clean['tp2'] = df_clean['tp2'].str.lower()\n",
    "df_clean['tp3'] = df_clean['tp3'].str.lower()\n"
   ]
  },
  {
   "cell_type": "markdown",
   "metadata": {},
   "source": [
    "#### Test"
   ]
  },
  {
   "cell_type": "code",
   "execution_count": 70,
   "metadata": {},
   "outputs": [
    {
     "name": "stdout",
     "output_type": "stream",
     "text": [
      "golden_retriever                  139\n",
      "labrador_retriever                 95\n",
      "pembroke                           88\n",
      "chihuahua                          79\n",
      "pug                                54\n",
      "chow                               41\n",
      "samoyed                            40\n",
      "toy_poodle                         38\n",
      "pomeranian                         38\n",
      "malamute                           29\n",
      "cocker_spaniel                     27\n",
      "french_bulldog                     26\n",
      "chesapeake_bay_retriever           23\n",
      "miniature_pinscher                 22\n",
      "seat_belt                          21\n",
      "siberian_husky                     20\n",
      "german_shepherd                    20\n",
      "staffordshire_bullterrier          19\n",
      "eskimo_dog                         18\n",
      "maltese_dog                        18\n",
      "shetland_sheepdog                  18\n",
      "teddy                              18\n",
      "beagle                             17\n",
      "shih-tzu                           17\n",
      "cardigan                           17\n",
      "rottweiler                         17\n",
      "italian_greyhound                  16\n",
      "kuvasz                             16\n",
      "lakeland_terrier                   16\n",
      "web_site                           15\n",
      "west_highland_white_terrier        14\n",
      "great_pyrenees                     14\n",
      "pekinese                           13\n",
      "american_staffordshire_terrier     13\n",
      "basset                             13\n",
      "vizsla                             13\n",
      "old_english_sheepdog               12\n",
      "dalmatian                          12\n",
      "airedale                           12\n",
      "border_collie                      12\n",
      "kelpie                             11\n",
      "soft-coated_wheaten_terrier        11\n",
      "bernese_mountain_dog               10\n",
      "blenheim_spaniel                   10\n",
      "boxer                              10\n",
      "collie                             10\n",
      "whippet                             9\n",
      "english_springer                    9\n",
      "great_dane                          9\n",
      "borzoi                              9\n",
      "dingo                               9\n",
      "tennis_ball                         9\n",
      "malinois                            9\n",
      "schipperke                          9\n",
      "boston_bull                         9\n",
      "yorkshire_terrier                   8\n",
      "miniature_poodle                    8\n",
      "flat-coated_retriever               8\n",
      "doberman                            8\n",
      "bloodhound                          7\n",
      "basenji                             7\n",
      "standard_poodle                     7\n",
      "english_setter                      7\n",
      "brittany_spaniel                    7\n",
      "bath_towel                          7\n",
      "doormat                             7\n",
      "norfolk_terrier                     7\n",
      "siamese_cat                         7\n",
      "papillon                            7\n",
      "norwegian_elkhound                  7\n",
      "german_short-haired_pointer         7\n",
      "hamster                             7\n",
      "border_terrier                      7\n",
      "swing                               7\n",
      "car_mirror                          6\n",
      "dandie_dinmont                      6\n",
      "redbone                             6\n",
      "tub                                 6\n",
      "saint_bernard                       6\n",
      "llama                               6\n",
      "walker_hound                        5\n",
      "irish_terrier                       5\n",
      "shopping_cart                       5\n",
      "ox                                  5\n",
      "ice_bear                            5\n",
      "newfoundland                        5\n",
      "porcupine                           5\n",
      "bedlington_terrier                  5\n",
      "lhasa                               5\n",
      "bull_mastiff                        5\n",
      "home_theater                        5\n",
      "minivan                             5\n",
      "bathtub                             4\n",
      "wombat                              4\n",
      "rhodesian_ridgeback                 4\n",
      "tibetan_terrier                     4\n",
      "arctic_fox                          4\n",
      "bow_tie                             4\n",
      "norwich_terrier                     4\n",
      "guinea_pig                          4\n",
      "gordon_setter                       4\n",
      "goose                               4\n",
      "bluetick                            4\n",
      "tibetan_mastiff                     4\n",
      "hippopotamus                        4\n",
      "miniature_schnauzer                 4\n",
      "irish_setter                        4\n",
      "keeshond                            4\n",
      "jigsaw_puzzle                       4\n",
      "mexican_hairless                    4\n",
      "weimaraner                          4\n",
      "saluki                              4\n",
      "barrow                              4\n",
      "patio                               4\n",
      "hog                                 4\n",
      "seashore                            3\n",
      "ski_mask                            3\n",
      "scottish_deerhound                  3\n",
      "motor_scooter                       3\n",
      "greater_swiss_mountain_dog          3\n",
      "vacuum                              3\n",
      "komondor                            3\n",
      "jack-o'-lantern                     3\n",
      "ibizan_hound                        3\n",
      "washbasin                           3\n",
      "muzzle                              3\n",
      "refrigerator                        3\n",
      "wood_rabbit                         3\n",
      "christmas_stocking                  3\n",
      "balloon                             3\n",
      "welsh_springer_spaniel              3\n",
      "common_iguana                       3\n",
      "brabancon_griffon                   3\n",
      "cairn                               3\n",
      "stone_wall                          3\n",
      "triceratops                         3\n",
      "brown_bear                          3\n",
      "briard                              3\n",
      "leonberg                            3\n",
      "afghan_hound                        3\n",
      "irish_water_spaniel                 3\n",
      "giant_schnauzer                     3\n",
      "white_wolf                          3\n",
      "sea_lion                            3\n",
      "window_shade                        3\n",
      "ram                                 3\n",
      "cowboy_hat                          3\n",
      "curly-coated_retriever              3\n",
      "space_heater                        3\n",
      "jellyfish                           2\n",
      "shower_curtain                      2\n",
      "frilled_lizard                      2\n",
      "wallaby                             2\n",
      "paddle                              2\n",
      "bubble                              2\n",
      "gondola                             2\n",
      "axolotl                             2\n",
      "loafer                              2\n",
      "sussex_spaniel                      2\n",
      "weasel                              2\n",
      "feather_boa                         2\n",
      "dogsled                             2\n",
      "geyser                              2\n",
      "leatherback_turtle                  2\n",
      "badger                              2\n",
      "sorrel                              2\n",
      "snorkel                             2\n",
      "ostrich                             2\n",
      "wool                                2\n",
      "bustard                             2\n",
      "box_turtle                          2\n",
      "koala                               2\n",
      "toyshop                             2\n",
      "hen                                 2\n",
      "tabby                               2\n",
      "chimpanzee                          2\n",
      "australian_terrier                  2\n",
      "toy_terrier                         2\n",
      "snail                               2\n",
      "wire-haired_fox_terrier             2\n",
      "acorn_squash                        2\n",
      "angora                              2\n",
      "dishwasher                          2\n",
      "black-and-tan_coonhound             2\n",
      "comic_book                          2\n",
      "toilet_tissue                       2\n",
      "lakeside                            2\n",
      "hyena                               2\n",
      "arabian_camel                       2\n",
      "birdhouse                           2\n",
      "street_sign                         2\n",
      "tusker                              2\n",
      "paper_towel                         2\n",
      "prison                              2\n",
      "mousetrap                           2\n",
      "hermit_crab                         2\n",
      "meerkat                             2\n",
      "appenzeller                         2\n",
      "rain_barrel                         1\n",
      "book_jacket                         1\n",
      "canoe                               1\n",
      "upright                             1\n",
      "standard_schnauzer                  1\n",
      "lorikeet                            1\n",
      "dough                               1\n",
      "trombone                            1\n",
      "walking_stick                       1\n",
      "king_penguin                        1\n",
      "japanese_spaniel                    1\n",
      "black-footed_ferret                 1\n",
      "fire_engine                         1\n",
      "carousel                            1\n",
      "three-toed_sloth                    1\n",
      "coho                                1\n",
      "pillow                              1\n",
      "earthstar                           1\n",
      "entlebucher                         1\n",
      "swab                                1\n",
      "mailbox                             1\n",
      "cash_machine                        1\n",
      "panpipe                             1\n",
      "hay                                 1\n",
      "hare                                1\n",
      "harp                                1\n",
      "electric_fan                        1\n",
      "maze                                1\n",
      "water_buffalo                       1\n",
      "bearskin                            1\n",
      "ibex                                1\n",
      "guenon                              1\n",
      "shopping_basket                     1\n",
      "ocarina                             1\n",
      "crash_helmet                        1\n",
      "leaf_beetle                         1\n",
      "peacock                             1\n",
      "banana                              1\n",
      "starfish                            1\n",
      "dhole                               1\n",
      "microwave                           1\n",
      "terrapin                            1\n",
      "lacewing                            1\n",
      "scorpion                            1\n",
      "killer_whale                        1\n",
      "flamingo                            1\n",
      "microphone                          1\n",
      "pitcher                             1\n",
      "carton                              1\n",
      "bee_eater                           1\n",
      "african_hunting_dog                 1\n",
      "picket_fence                        1\n",
      "china_cabinet                       1\n",
      "zebra                               1\n",
      "prayer_rug                          1\n",
      "sandbar                             1\n",
      "sea_urchin                          1\n",
      "stove                               1\n",
      "ping-pong_ball                      1\n",
      "lynx                                1\n",
      "bow                                 1\n",
      "park_bench                          1\n",
      "cuirass                             1\n",
      "candle                              1\n",
      "tick                                1\n",
      "african_crocodile                   1\n",
      "piggy_bank                          1\n",
      "pot                                 1\n",
      "soccer_ball                         1\n",
      "bald_eagle                          1\n",
      "boathouse                           1\n",
      "slug                                1\n",
      "mud_turtle                          1\n",
      "platypus                            1\n",
      "robin                               1\n",
      "toilet_seat                         1\n",
      "suit                                1\n",
      "water_bottle                        1\n",
      "orange                              1\n",
      "bookshop                            1\n",
      "cheetah                             1\n",
      "minibus                             1\n",
      "gas_pump                            1\n",
      "pedestal                            1\n",
      "bakery                              1\n",
      "remote_control                      1\n",
      "beach_wagon                         1\n",
      "quilt                               1\n",
      "pool_table                          1\n",
      "padlock                             1\n",
      "sundial                             1\n",
      "clumber                             1\n",
      "long-horned_beetle                  1\n",
      "giant_panda                         1\n",
      "silky_terrier                       1\n",
      "madagascar_cat                      1\n",
      "maillot                             1\n",
      "lion                                1\n",
      "coral_reef                          1\n",
      "african_grey                        1\n",
      "cougar                              1\n",
      "radio_telescope                     1\n",
      "skunk                               1\n",
      "bookcase                            1\n",
      "shield                              1\n",
      "loupe                               1\n",
      "grille                              1\n",
      "limousine                           1\n",
      "convertible                         1\n",
      "tricycle                            1\n",
      "basketball                          1\n",
      "laptop                              1\n",
      "pole                                1\n",
      "marmot                              1\n",
      "syringe                             1\n",
      "revolver                            1\n",
      "barbell                             1\n",
      "restaurant                          1\n",
      "fountain                            1\n",
      "washer                              1\n",
      "military_uniform                    1\n",
      "teapot                              1\n",
      "mortarboard                         1\n",
      "leopard                             1\n",
      "wooden_spoon                        1\n",
      "cowboy_boot                         1\n",
      "school_bus                          1\n",
      "conch                               1\n",
      "rotisserie                          1\n",
      "american_black_bear                 1\n",
      "bison                               1\n",
      "egyptian_cat                        1\n",
      "otter                               1\n",
      "tailed_frog                         1\n",
      "hummingbird                         1\n",
      "grey_fox                            1\n",
      "beaver                              1\n",
      "groenendael                         1\n",
      "dining_table                        1\n",
      "ice_lolly                           1\n",
      "bighorn                             1\n",
      "wild_boar                           1\n",
      "snowmobile                          1\n",
      "scotch_terrier                      1\n",
      "crane                               1\n",
      "bannister                           1\n",
      "fiddler_crab                        1\n",
      "cheeseburger                        1\n",
      "damselfly                           1\n",
      "sliding_door                        1\n",
      "clog                                1\n",
      "four-poster                         1\n",
      "agama                               1\n",
      "sulphur-crested_cockatoo            1\n",
      "studio_couch                        1\n",
      "tiger_shark                         1\n",
      "binoculars                          1\n",
      "coil                                1\n",
      "traffic_light                       1\n",
      "rapeseed                            1\n",
      "sunglasses                          1\n",
      "lawn_mower                          1\n",
      "cliff                               1\n",
      "cup                                 1\n",
      "polecat                             1\n",
      "hotdog                              1\n",
      "hand_blower                         1\n",
      "handkerchief                        1\n",
      "bonnet                              1\n",
      "alp                                 1\n",
      "hammer                              1\n",
      "nail                                1\n",
      "timber_wolf                         1\n",
      "espresso                            1\n",
      "bib                                 1\n",
      "desktop_computer                    1\n",
      "Name: tp1, dtype: int64\n"
     ]
    }
   ],
   "source": [
    "pd.set_option(\"display.max_rows\", 1000)\n",
    "pd.set_option(\"display.expand_frame_repr\", True)\n",
    "pd.set_option('display.width', 1000)\n",
    "print(df_clean.tp1.value_counts())"
   ]
  },
  {
   "cell_type": "markdown",
   "metadata": {},
   "source": [
    "### Tideiness Issue #2 Four dog stages are seperate and not easily visualized.  ACTION: Combine and clean originating columns."
   ]
  },
  {
   "cell_type": "markdown",
   "metadata": {},
   "source": [
    "#### Code"
   ]
  },
  {
   "cell_type": "code",
   "execution_count": null,
   "metadata": {},
   "outputs": [],
   "source": [
    "# Four Dog Stages Combine\n",
    "column_list = ['doggo', 'floofer', 'pupper', 'puppo']\n",
    "\n",
    "# Remove all None values to NaN\n",
    "print('Replacing None Values')\n",
    "for column in column_list:\n",
    "    df_clean[column] = df_clean[column].replace('None', '')\n",
    "\n",
    "print('Creating new column and cleaning')\n",
    "# Create new combined column\n",
    "df_clean['dog_stage'] = df_clean['doggo'] +'|'+ df_clean['floofer'] +'|'+ df_clean['pupper'] +'|'+ df_clean['puppo']\n",
    "df_clean['dog_stage'] = df_clean['dog_stage'].replace('|||', 'None')\n",
    "\n",
    "print('New Column Created')\n",
    "\n",
    "#Insert Regex code to clean up double values\n",
    "# Traverse down by Right to Left to pick the last item\n",
    "regex_string = '^.*(puppo).*$'\n",
    "print(regex_string)\n",
    "df_clean['dog_stage'][df_clean['dog_stage'].str.contains(regex_string) == True] = 'puppo'\n",
    "print('puppo is extracted')\n",
    "\n",
    "regex_string = '^.*(pupper).*$'\n",
    "print(regex_string)\n",
    "df_clean['dog_stage'][df_clean['dog_stage'].str.contains(regex_string) == True] = 'pupper'\n",
    "print('pupper is extracted')\n",
    "\n",
    "regex_string = '^.*(floofer).*$'\n",
    "print(regex_string)\n",
    "df_clean['dog_stage'][df_clean['dog_stage'].str.contains(regex_string) == True] = 'floofer'\n",
    "print('floofer is extracted')\n",
    "\n",
    "regex_string = '^.*(doggo).*$'\n",
    "print(regex_string)\n",
    "df_clean['dog_stage'][df_clean['dog_stage'].str.contains(regex_string) == True] = 'doggo'\n",
    "print('doggo is extracted')"
   ]
  },
  {
   "cell_type": "markdown",
   "metadata": {},
   "source": [
    "#### Test"
   ]
  },
  {
   "cell_type": "code",
   "execution_count": 71,
   "metadata": {},
   "outputs": [
    {
     "data": {
      "text/plain": [
       "None       1688\n",
       "pupper      212\n",
       "doggo        63\n",
       "puppo        23\n",
       "floofer       8\n",
       "Name: dog_stage, dtype: int64"
      ]
     },
     "execution_count": 71,
     "metadata": {},
     "output_type": "execute_result"
    }
   ],
   "source": [
    "df_clean['dog_stage'].value_counts()"
   ]
  },
  {
   "cell_type": "markdown",
   "metadata": {},
   "source": [
    "### Issue #8:  Remove unneeded columns after cleanup - ['doggo', 'floofer', 'pupper', 'puppo', 'retweeted_status_id', 'retweeted_status_user_id', 'retweeted_status_timestamp', 'in_reply_to_status_id', 'in_reply_to_user_id','text_y']  ACTION: Remove"
   ]
  },
  {
   "cell_type": "markdown",
   "metadata": {},
   "source": [
    "#### Code"
   ]
  },
  {
   "cell_type": "code",
   "execution_count": null,
   "metadata": {},
   "outputs": [],
   "source": [
    "# Finally remove all unneeded columns\n",
    "unneeded_columns = ['doggo', 'floofer', 'pupper', 'puppo', 'retweeted_status_id', 'retweeted_status_user_id', 'retweeted_status_timestamp', 'in_reply_to_status_id', 'in_reply_to_user_id','text_y']\n",
    "print('Removing unneeded columns')\n",
    "df_clean.drop(unneeded_columns, axis=1, inplace=True)\n"
   ]
  },
  {
   "cell_type": "markdown",
   "metadata": {},
   "source": [
    "#### Test"
   ]
  },
  {
   "cell_type": "code",
   "execution_count": 72,
   "metadata": {},
   "outputs": [
    {
     "name": "stdout",
     "output_type": "stream",
     "text": [
      "<class 'pandas.core.frame.DataFrame'>\n",
      "RangeIndex: 1994 entries, 0 to 1993\n",
      "Data columns (total 25 columns):\n",
      " #   Column              Non-Null Count  Dtype  \n",
      "---  ------              --------------  -----  \n",
      " 0   tweet_id            1994 non-null   int64  \n",
      " 1   timestamp           1994 non-null   object \n",
      " 2   source              1994 non-null   object \n",
      " 3   text_x              1994 non-null   object \n",
      " 4   expanded_urls       1994 non-null   object \n",
      " 5   rating_numerator    1994 non-null   float64\n",
      " 6   rating_denominator  1994 non-null   float64\n",
      " 7   name                1994 non-null   object \n",
      " 8   tjpg_url            1994 non-null   object \n",
      " 9   timg_num            1994 non-null   int64  \n",
      " 10  tp1                 1994 non-null   object \n",
      " 11  tp1_conf            1994 non-null   float64\n",
      " 12  tp1_dog             1994 non-null   bool   \n",
      " 13  tp2                 1994 non-null   object \n",
      " 14  tp2_conf            1994 non-null   float64\n",
      " 15  tp2_dog             1994 non-null   bool   \n",
      " 16  tp3                 1994 non-null   object \n",
      " 17  tp3_conf            1994 non-null   float64\n",
      " 18  tp3_dog             1994 non-null   bool   \n",
      " 19  favorite_count      1994 non-null   float64\n",
      " 20  retweet_count       1994 non-null   float64\n",
      " 21  followers_count     1994 non-null   float64\n",
      " 22  friends_count       1994 non-null   float64\n",
      " 23  favourites_count    1994 non-null   float64\n",
      " 24  dog_stage           1994 non-null   object \n",
      "dtypes: bool(3), float64(10), int64(2), object(10)\n",
      "memory usage: 348.7+ KB\n"
     ]
    }
   ],
   "source": [
    "df_clean.info()"
   ]
  },
  {
   "cell_type": "markdown",
   "metadata": {},
   "source": [
    "## Storing Data\n",
    "Save gathered, assessed, and cleaned master dataset to a CSV file named \"twitter_archive_master.csv\"."
   ]
  },
  {
   "cell_type": "code",
   "execution_count": 73,
   "metadata": {
    "scrolled": false
   },
   "outputs": [
    {
     "name": "stdout",
     "output_type": "stream",
     "text": [
      "File Written, file size is 1064.676 Kb\n"
     ]
    }
   ],
   "source": [
    "# Save clean dataframe to twitter_archive_master.csv\n",
    "df_clean.to_csv('twitter_archive_master.csv', index=False)\n",
    "print('File Written, file size is {} Kb'.format((os.path.getsize('twitter_archive_master.csv')/1000)))\n"
   ]
  },
  {
   "cell_type": "code",
   "execution_count": 63,
   "metadata": {},
   "outputs": [],
   "source": [
    "#Reload Data\n",
    "df_clean = pd.read_csv('twitter_archive_master.csv')\n",
    "#df_clean.drop('Unnamed: 0', axis=1)"
   ]
  },
  {
   "cell_type": "markdown",
   "metadata": {},
   "source": [
    "## Analyzing and Visualizing Data (UPDATE)\n",
    "In this section, analyze and visualize your wrangled data. You must produce at least **three (3) insights and one (1) visualization.**"
   ]
  },
  {
   "cell_type": "code",
   "execution_count": 74,
   "metadata": {},
   "outputs": [
    {
     "data": {
      "text/html": [
       "<div>\n",
       "<style scoped>\n",
       "    .dataframe tbody tr th:only-of-type {\n",
       "        vertical-align: middle;\n",
       "    }\n",
       "\n",
       "    .dataframe tbody tr th {\n",
       "        vertical-align: top;\n",
       "    }\n",
       "\n",
       "    .dataframe thead th {\n",
       "        text-align: right;\n",
       "    }\n",
       "</style>\n",
       "<table border=\"1\" class=\"dataframe\">\n",
       "  <thead>\n",
       "    <tr style=\"text-align: right;\">\n",
       "      <th></th>\n",
       "      <th>tweet_id</th>\n",
       "      <th>rating_numerator</th>\n",
       "      <th>rating_denominator</th>\n",
       "      <th>timg_num</th>\n",
       "      <th>tp1_conf</th>\n",
       "      <th>tp2_conf</th>\n",
       "      <th>tp3_conf</th>\n",
       "      <th>favorite_count</th>\n",
       "      <th>retweet_count</th>\n",
       "      <th>followers_count</th>\n",
       "      <th>friends_count</th>\n",
       "      <th>favourites_count</th>\n",
       "    </tr>\n",
       "  </thead>\n",
       "  <tbody>\n",
       "    <tr>\n",
       "      <th>count</th>\n",
       "      <td>1.994000e+03</td>\n",
       "      <td>1994.000000</td>\n",
       "      <td>1994.000000</td>\n",
       "      <td>1994.000000</td>\n",
       "      <td>1994.000000</td>\n",
       "      <td>1.994000e+03</td>\n",
       "      <td>1.994000e+03</td>\n",
       "      <td>1994.000000</td>\n",
       "      <td>1994.000000</td>\n",
       "      <td>1.994000e+03</td>\n",
       "      <td>1994.000000</td>\n",
       "      <td>1994.000000</td>\n",
       "    </tr>\n",
       "    <tr>\n",
       "      <th>mean</th>\n",
       "      <td>7.358508e+17</td>\n",
       "      <td>12.222056</td>\n",
       "      <td>10.532096</td>\n",
       "      <td>1.203109</td>\n",
       "      <td>0.593941</td>\n",
       "      <td>1.344195e-01</td>\n",
       "      <td>6.024848e-02</td>\n",
       "      <td>5301.640421</td>\n",
       "      <td>1364.482447</td>\n",
       "      <td>3.038529e+06</td>\n",
       "      <td>6.813942</td>\n",
       "      <td>47904.282347</td>\n",
       "    </tr>\n",
       "    <tr>\n",
       "      <th>std</th>\n",
       "      <td>6.747816e+16</td>\n",
       "      <td>41.473091</td>\n",
       "      <td>7.320710</td>\n",
       "      <td>0.560777</td>\n",
       "      <td>0.271954</td>\n",
       "      <td>1.006807e-01</td>\n",
       "      <td>5.089067e-02</td>\n",
       "      <td>10813.044919</td>\n",
       "      <td>3340.413852</td>\n",
       "      <td>4.385346e+06</td>\n",
       "      <td>9.834199</td>\n",
       "      <td>69137.699326</td>\n",
       "    </tr>\n",
       "    <tr>\n",
       "      <th>min</th>\n",
       "      <td>6.660209e+17</td>\n",
       "      <td>0.000000</td>\n",
       "      <td>2.000000</td>\n",
       "      <td>1.000000</td>\n",
       "      <td>0.044333</td>\n",
       "      <td>1.011300e-08</td>\n",
       "      <td>1.740170e-10</td>\n",
       "      <td>0.000000</td>\n",
       "      <td>0.000000</td>\n",
       "      <td>0.000000e+00</td>\n",
       "      <td>0.000000</td>\n",
       "      <td>0.000000</td>\n",
       "    </tr>\n",
       "    <tr>\n",
       "      <th>25%</th>\n",
       "      <td>6.758475e+17</td>\n",
       "      <td>10.000000</td>\n",
       "      <td>10.000000</td>\n",
       "      <td>1.000000</td>\n",
       "      <td>0.362857</td>\n",
       "      <td>5.393987e-02</td>\n",
       "      <td>1.619283e-02</td>\n",
       "      <td>0.000000</td>\n",
       "      <td>0.000000</td>\n",
       "      <td>0.000000e+00</td>\n",
       "      <td>0.000000</td>\n",
       "      <td>0.000000</td>\n",
       "    </tr>\n",
       "    <tr>\n",
       "      <th>50%</th>\n",
       "      <td>7.084748e+17</td>\n",
       "      <td>11.000000</td>\n",
       "      <td>10.000000</td>\n",
       "      <td>1.000000</td>\n",
       "      <td>0.587635</td>\n",
       "      <td>1.174550e-01</td>\n",
       "      <td>4.950530e-02</td>\n",
       "      <td>0.000000</td>\n",
       "      <td>0.000000</td>\n",
       "      <td>0.000000e+00</td>\n",
       "      <td>0.000000</td>\n",
       "      <td>0.000000</td>\n",
       "    </tr>\n",
       "    <tr>\n",
       "      <th>75%</th>\n",
       "      <td>7.877873e+17</td>\n",
       "      <td>12.000000</td>\n",
       "      <td>10.000000</td>\n",
       "      <td>1.000000</td>\n",
       "      <td>0.846285</td>\n",
       "      <td>1.951377e-01</td>\n",
       "      <td>9.159438e-02</td>\n",
       "      <td>7901.500000</td>\n",
       "      <td>1816.500000</td>\n",
       "      <td>9.364491e+06</td>\n",
       "      <td>21.000000</td>\n",
       "      <td>147637.000000</td>\n",
       "    </tr>\n",
       "    <tr>\n",
       "      <th>max</th>\n",
       "      <td>8.924206e+17</td>\n",
       "      <td>1776.000000</td>\n",
       "      <td>170.000000</td>\n",
       "      <td>4.000000</td>\n",
       "      <td>1.000000</td>\n",
       "      <td>4.880140e-01</td>\n",
       "      <td>2.734190e-01</td>\n",
       "      <td>123592.000000</td>\n",
       "      <td>51372.000000</td>\n",
       "      <td>9.364492e+06</td>\n",
       "      <td>21.000000</td>\n",
       "      <td>147637.000000</td>\n",
       "    </tr>\n",
       "  </tbody>\n",
       "</table>\n",
       "</div>"
      ],
      "text/plain": [
       "           tweet_id  rating_numerator  rating_denominator     timg_num     tp1_conf      tp2_conf      tp3_conf  favorite_count  retweet_count  followers_count  friends_count  favourites_count\n",
       "count  1.994000e+03       1994.000000         1994.000000  1994.000000  1994.000000  1.994000e+03  1.994000e+03     1994.000000    1994.000000     1.994000e+03    1994.000000       1994.000000\n",
       "mean   7.358508e+17         12.222056           10.532096     1.203109     0.593941  1.344195e-01  6.024848e-02     5301.640421    1364.482447     3.038529e+06       6.813942      47904.282347\n",
       "std    6.747816e+16         41.473091            7.320710     0.560777     0.271954  1.006807e-01  5.089067e-02    10813.044919    3340.413852     4.385346e+06       9.834199      69137.699326\n",
       "min    6.660209e+17          0.000000            2.000000     1.000000     0.044333  1.011300e-08  1.740170e-10        0.000000       0.000000     0.000000e+00       0.000000          0.000000\n",
       "25%    6.758475e+17         10.000000           10.000000     1.000000     0.362857  5.393987e-02  1.619283e-02        0.000000       0.000000     0.000000e+00       0.000000          0.000000\n",
       "50%    7.084748e+17         11.000000           10.000000     1.000000     0.587635  1.174550e-01  4.950530e-02        0.000000       0.000000     0.000000e+00       0.000000          0.000000\n",
       "75%    7.877873e+17         12.000000           10.000000     1.000000     0.846285  1.951377e-01  9.159438e-02     7901.500000    1816.500000     9.364491e+06      21.000000     147637.000000\n",
       "max    8.924206e+17       1776.000000          170.000000     4.000000     1.000000  4.880140e-01  2.734190e-01   123592.000000   51372.000000     9.364492e+06      21.000000     147637.000000"
      ]
     },
     "execution_count": 74,
     "metadata": {},
     "output_type": "execute_result"
    }
   ],
   "source": [
    "# Get Standard values for all numerical columns \n",
    "df_clean.describe()"
   ]
  },
  {
   "cell_type": "code",
   "execution_count": 79,
   "metadata": {},
   "outputs": [
    {
     "name": "stdout",
     "output_type": "stream",
     "text": [
      "Perfect Ratings are 419, this represents 21.013039117352054% of the sample data.\n",
      "\n",
      "Less than perfect Ratings are 417, this represents 20.91273821464393% of the sample data.\n",
      "\n",
      "More than perfect Ratings are 1158, this represents 58.07422266800402% of the sample data.\n",
      "\n",
      "INSIGHT / CONCLUSION: Based on this, ratings are heavily left skewed when visualized.  This colunn is a completely subjective measure of the humor.  This is intentional per the site.\n",
      "\n",
      "See: https://knowyourmeme.com/memes/theyre-good-dogs-brent\n"
     ]
    },
    {
     "name": "stderr",
     "output_type": "stream",
     "text": [
      "/var/folders/y3/3kgm4s_n6rd5n4q45fw20d3m0000gp/T/ipykernel_28176/2782732725.py:18: FutureWarning: The frame.append method is deprecated and will be removed from pandas in a future version. Use pandas.concat instead.\n",
      "  distribution = distribution.append({'less_than_perfect': less_than_perfect, 'perfect': perfect, 'more_than_perfect': more_than_perfect, }, ignore_index=True)\n"
     ]
    },
    {
     "data": {
      "image/png": "[encoded data removed]",
      "text/plain": [
       "<Figure size 432x288 with 1 Axes>"
      ]
     },
     "metadata": {
      "needs_background": "light"
     },
     "output_type": "display_data"
    }
   ],
   "source": [
    "# Insight 1: Analysis of the rating system effectiveness (rating_numerator)\n",
    "total = df_clean['rating_numerator'].count()\n",
    "less_than_perfect = df_clean[df_clean['rating_numerator'] < 10].rating_numerator.count() \n",
    "less_than_perfect_percent = (less_than_perfect/total)*100\n",
    "perfect = df_clean[df_clean['rating_numerator'] == 10].rating_numerator.count() \n",
    "perfect_percent = (perfect/total)*100\n",
    "more_than_perfect = df_clean[df_clean['rating_numerator'] > 10].rating_numerator.count() \n",
    "more_than_perfect_percent = (more_than_perfect/total)*100\n",
    "print('Perfect Ratings are {}, this represents {}% of the sample data.\\n'.format(perfect, perfect_percent))\n",
    "print('Less than perfect Ratings are {}, this represents {}% of the sample data.\\n'.format(less_than_perfect, less_than_perfect_percent))\n",
    "print('More than perfect Ratings are {}, this represents {}% of the sample data.\\n'.format(more_than_perfect, more_than_perfect_percent))\n",
    "print('INSIGHT / CONCLUSION: Based on this, ratings are heavily left skewed when visualized.  This colunn is a completely subjective measure of the humor.  This is intentional per the site.\\n')\n",
    "print('See: https://knowyourmeme.com/memes/theyre-good-dogs-brent')\n",
    "\n",
    "# Build new dataframe\n",
    "labels = ['less_than_perfect', 'perfect', 'more_than_perfect']\n",
    "distribution = pd.DataFrame(columns=labels)\n",
    "distribution = distribution.append({'less_than_perfect': less_than_perfect, 'perfect': perfect, 'more_than_perfect': more_than_perfect, }, ignore_index=True)\n",
    "\n",
    "#Data Visualization\n",
    "distribution.plot(kind = 'bar', xlabel = labels, color='tab:green')\n",
    "plt.show;\n"
   ]
  },
  {
   "cell_type": "code",
   "execution_count": 98,
   "metadata": {},
   "outputs": [
    {
     "data": {
      "text/plain": [
       "count   1,994\n",
       "mean       12\n",
       "std        41\n",
       "min         0\n",
       "25%        10\n",
       "50%        11\n",
       "75%        12\n",
       "max     1,776\n",
       "Name: rating_numerator, dtype: float64"
      ]
     },
     "execution_count": 98,
     "metadata": {},
     "output_type": "execute_result"
    }
   ],
   "source": [
    "# Finer analysis of the standard values for this important categrical value (rating_numerator)\n",
    "df_clean['rating_numerator'].describe()\n"
   ]
  },
  {
   "cell_type": "markdown",
   "metadata": {
    "collapsed": true
   },
   "source": [
    "### Visualization (UPDATE)"
   ]
  },
  {
   "cell_type": "code",
   "execution_count": 94,
   "metadata": {},
   "outputs": [
    {
     "data": {
      "image/png": "[encoded data removed]",
      "text/plain": [
       "<Figure size 1008x432 with 1 Axes>"
      ]
     },
     "metadata": {
      "needs_background": "light"
     },
     "output_type": "display_data"
    }
   ],
   "source": [
    "# Draw Plot profit analysis by production_company(see: https://matplotlib.org/stable/gallery/lines_bars_and_markers/barchart.html#sphx-glr-gallery-lines-bars-and-markers-barchart-py)\n",
    "\n",
    "# Set Number Display format\n",
    "pd.options.display.float_format = '{:,.0f}'.format\n",
    "\n",
    "# Setup Chart Values\n",
    "favorite_count_data = df_clean[df_clean['tp1'] != 'None'].sort_values('favorite_count').groupby(by=[\"tp1\"]).favorite_count.sum().nlargest(10)\n",
    "retweet_count_data = df_clean[df_clean['tp1'] != 'None'].sort_values('favorite_count').groupby(by=[\"tp1\"]).retweet_count.sum().nlargest(10)\n",
    "labels = df_clean['tp1'].value_counts().nlargest(10).index.tolist()\n",
    "\n",
    "x = np.arange(len(labels))  # the label locations\n",
    "width = 0.35  # the width of the bars\n",
    "\n",
    "# Set the subplots\n",
    "fig, ax = plt.subplots()\n",
    "rects1 = ax.bar(x - width/2, favorite_count_data, width, label='Favorite Count')\n",
    "rects2 = ax.bar(x + width/2, retweet_count_data, width, label='retweet Count')\n",
    "\n",
    "# Set visual variables\n",
    "ax.set_ylabel('Average of Likes and Retweets')\n",
    "ax.set_title('Favorites and Retweets by Dog Type')\n",
    "ax.set_xticks(x);ax.set_xticklabels(labels)\n",
    "ax.legend()\n",
    "fig.set_size_inches(14,6)\n",
    "\n",
    "ax.bar_label(rects1, padding=3)\n",
    "ax.bar_label(rects2, padding=3)\n",
    "\n",
    "fig.tight_layout()\n",
    "\n",
    "plt.show();"
   ]
  },
  {
   "cell_type": "markdown",
   "metadata": {},
   "source": [
    "### Chart Obserations\n",
    "1. We clearly see the favorite dogs in the ratings based on favorite count and retweet count based on mean (mean shows this also with a similar trend).  Retrievers are a clear favorite here, representing almost 1/5 of the overall Favorites data.\n",
    "3. Dog Breed data is based on the ML learning model, so there is a margin of error.  The engine does have some gaps in identification, classifying the primary subject in the photos (sometimes an inanimate object).  See the final conclusions for more context."
   ]
  },
  {
   "cell_type": "code",
   "execution_count": 119,
   "metadata": {},
   "outputs": [
    {
     "name": "stdout",
     "output_type": "stream",
     "text": [
      "\n",
      "With Retiever\n",
      "\n",
      "favorite_count   1,906,973\n",
      "retweet_count      470,415\n",
      "dtype: float64\n",
      "\n",
      "Without Retiever\n",
      "favorite_count   8,664,498\n",
      "retweet_count    2,250,363\n",
      "dtype: float64\n"
     ]
    }
   ],
   "source": [
    "# Finer analysis of the values for this important categrical value (tp1)\n",
    "pd.options.display.float_format = '{:,.0f}'.format\n",
    "print('\\nWith Retiever\\n')\n",
    "print(df_clean[df_clean['tp1'].str.contains('retriever') == True][['favorite_count', 'retweet_count']].sum())\n",
    "print('\\nWithout Retiever')\n",
    "print(df_clean[df_clean['tp1'].str.contains('retriever') == False][['favorite_count', 'retweet_count']].sum())\n",
    "# Group by .groupby(by=[\"tp1\"])\n",
    "\n"
   ]
  },
  {
   "cell_type": "code",
   "execution_count": 82,
   "metadata": {},
   "outputs": [
    {
     "data": {
      "text/html": [
       "<div>\n",
       "<style scoped>\n",
       "    .dataframe tbody tr th:only-of-type {\n",
       "        vertical-align: middle;\n",
       "    }\n",
       "\n",
       "    .dataframe tbody tr th {\n",
       "        vertical-align: top;\n",
       "    }\n",
       "\n",
       "    .dataframe thead th {\n",
       "        text-align: right;\n",
       "    }\n",
       "</style>\n",
       "<table border=\"1\" class=\"dataframe\">\n",
       "  <thead>\n",
       "    <tr style=\"text-align: right;\">\n",
       "      <th></th>\n",
       "      <th>count</th>\n",
       "      <th>mean</th>\n",
       "      <th>std</th>\n",
       "      <th>min</th>\n",
       "      <th>25%</th>\n",
       "      <th>50%</th>\n",
       "      <th>75%</th>\n",
       "      <th>max</th>\n",
       "    </tr>\n",
       "  </thead>\n",
       "  <tbody>\n",
       "    <tr>\n",
       "      <th>count</th>\n",
       "      <td>374.0000</td>\n",
       "      <td>374.0000</td>\n",
       "      <td>198.0000</td>\n",
       "      <td>374.0000</td>\n",
       "      <td>374.0000</td>\n",
       "      <td>374.0000</td>\n",
       "      <td>374.0000</td>\n",
       "      <td>374.0000</td>\n",
       "    </tr>\n",
       "    <tr>\n",
       "      <th>mean</th>\n",
       "      <td>5.3316</td>\n",
       "      <td>0.5280</td>\n",
       "      <td>0.2255</td>\n",
       "      <td>0.3855</td>\n",
       "      <td>0.4590</td>\n",
       "      <td>0.5284</td>\n",
       "      <td>0.5990</td>\n",
       "      <td>0.6620</td>\n",
       "    </tr>\n",
       "    <tr>\n",
       "      <th>std</th>\n",
       "      <td>12.1053</td>\n",
       "      <td>0.2347</td>\n",
       "      <td>0.1068</td>\n",
       "      <td>0.2652</td>\n",
       "      <td>0.2417</td>\n",
       "      <td>0.2493</td>\n",
       "      <td>0.2666</td>\n",
       "      <td>0.2953</td>\n",
       "    </tr>\n",
       "    <tr>\n",
       "      <th>min</th>\n",
       "      <td>1.0000</td>\n",
       "      <td>0.0811</td>\n",
       "      <td>0.0089</td>\n",
       "      <td>0.0443</td>\n",
       "      <td>0.0632</td>\n",
       "      <td>0.0811</td>\n",
       "      <td>0.0811</td>\n",
       "      <td>0.0811</td>\n",
       "    </tr>\n",
       "    <tr>\n",
       "      <th>25%</th>\n",
       "      <td>1.0000</td>\n",
       "      <td>0.3460</td>\n",
       "      <td>0.1571</td>\n",
       "      <td>0.1744</td>\n",
       "      <td>0.2741</td>\n",
       "      <td>0.3332</td>\n",
       "      <td>0.3811</td>\n",
       "      <td>0.4023</td>\n",
       "    </tr>\n",
       "    <tr>\n",
       "      <th>50%</th>\n",
       "      <td>2.0000</td>\n",
       "      <td>0.5134</td>\n",
       "      <td>0.2340</td>\n",
       "      <td>0.2920</td>\n",
       "      <td>0.4032</td>\n",
       "      <td>0.5008</td>\n",
       "      <td>0.6095</td>\n",
       "      <td>0.7299</td>\n",
       "    </tr>\n",
       "    <tr>\n",
       "      <th>75%</th>\n",
       "      <td>4.0000</td>\n",
       "      <td>0.6832</td>\n",
       "      <td>0.2904</td>\n",
       "      <td>0.5326</td>\n",
       "      <td>0.6097</td>\n",
       "      <td>0.7089</td>\n",
       "      <td>0.8284</td>\n",
       "      <td>0.9500</td>\n",
       "    </tr>\n",
       "    <tr>\n",
       "      <th>max</th>\n",
       "      <td>139.0000</td>\n",
       "      <td>0.9999</td>\n",
       "      <td>0.5356</td>\n",
       "      <td>0.9999</td>\n",
       "      <td>0.9999</td>\n",
       "      <td>0.9999</td>\n",
       "      <td>0.9999</td>\n",
       "      <td>1.0000</td>\n",
       "    </tr>\n",
       "  </tbody>\n",
       "</table>\n",
       "</div>"
      ],
      "text/plain": [
       "         count     mean      std      min      25%      50%      75%      max\n",
       "count 374.0000 374.0000 198.0000 374.0000 374.0000 374.0000 374.0000 374.0000\n",
       "mean    5.3316   0.5280   0.2255   0.3855   0.4590   0.5284   0.5990   0.6620\n",
       "std    12.1053   0.2347   0.1068   0.2652   0.2417   0.2493   0.2666   0.2953\n",
       "min     1.0000   0.0811   0.0089   0.0443   0.0632   0.0811   0.0811   0.0811\n",
       "25%     1.0000   0.3460   0.1571   0.1744   0.2741   0.3332   0.3811   0.4023\n",
       "50%     2.0000   0.5134   0.2340   0.2920   0.4032   0.5008   0.6095   0.7299\n",
       "75%     4.0000   0.6832   0.2904   0.5326   0.6097   0.7089   0.8284   0.9500\n",
       "max   139.0000   0.9999   0.5356   0.9999   0.9999   0.9999   0.9999   1.0000"
      ]
     },
     "execution_count": 82,
     "metadata": {},
     "output_type": "execute_result"
    }
   ],
   "source": [
    "# Finer analysis of the standard values for this important categrical value (tp1)\n",
    "# Set Number Display format\n",
    "pd.options.display.float_format = '{:,.4f}'.format\n",
    "df_clean.groupby(by=[\"tp1\"])['tp1_conf'].describe().sort_values('max', ascending = False).describe()\n"
   ]
  },
  {
   "cell_type": "code",
   "execution_count": 96,
   "metadata": {},
   "outputs": [
    {
     "data": {
      "image/png": "[encoded data removed]",
      "text/plain": [
       "<Figure size 1008x432 with 1 Axes>"
      ]
     },
     "metadata": {
      "needs_background": "light"
     },
     "output_type": "display_data"
    }
   ],
   "source": [
    "# Draw Plot profit analysis by production_company(see: https://matplotlib.org/stable/gallery/lines_bars_and_markers/barchart.html#sphx-glr-gallery-lines-bars-and-markers-barchart-py)\n",
    "\n",
    "# Set Number Display format\n",
    "pd.options.display.float_format = '{:,.0f}'.format\n",
    "\n",
    "# Setup Chart Values\n",
    "favorite_count_data = df_clean[df_clean['dog_stage'] != 'None'].groupby(by=[\"dog_stage\"]).favorite_count.sum().nlargest(4)\n",
    "retweet_count_data = df_clean[df_clean['dog_stage'] != 'None'].groupby(by=[\"dog_stage\"]).retweet_count.sum().nlargest(4)\n",
    "labels = df_clean[df_clean['dog_stage'] != 'None']['dog_stage'].value_counts().index.tolist()\n",
    "\n",
    "x = np.arange(len(labels))  # the label locations\n",
    "width = 0.35  # the width of the bars\n",
    "\n",
    "# Set the subplots\n",
    "fig, ax = plt.subplots()\n",
    "rects1 = ax.bar(x - width/2, favorite_count_data, width, label='Favorite Count')\n",
    "rects2 = ax.bar(x + width/2, retweet_count_data, width, label='retweet Count')\n",
    "\n",
    "# Set visual variables\n",
    "ax.set_ylabel('Sum of Likes and Retweets')\n",
    "ax.set_title('Favorites and Retweets by Dog Stage')\n",
    "ax.set_xticks(x);ax.set_xticklabels(labels)\n",
    "ax.legend()\n",
    "fig.set_size_inches(14,6)\n",
    "\n",
    "ax.bar_label(rects1, padding=3)\n",
    "ax.bar_label(rects2, padding=3)\n",
    "\n",
    "fig.tight_layout()\n",
    "\n",
    "plt.show();"
   ]
  },
  {
   "cell_type": "markdown",
   "metadata": {},
   "source": [
    "### Histogram Obserations:\n",
    "1. The dog_stage dimension does appear to be a corelating variable for popularity, when we review the sum and average.\n",
    "2. doggo represents almost the same sum totals as pupper, though from a population distribution they represent approx 75% less of this categorical value. \n",
    "3. The median value between the top two pupper and doggo is a similar ratio to sum, but the mean is far less for doggo.  Per the describe outputs, doggo values have a lower distribution and higher standard values (mean, 50%, 75%)\n",
    "4. The same comments above could be said for the puppo stage, where the population count is 10% of pupper, but all standard values are well above any other group and sum popularity still reaches more than 50% of pupper."
   ]
  },
  {
   "cell_type": "code",
   "execution_count": 86,
   "metadata": {},
   "outputs": [
    {
     "data": {
      "text/html": [
       "<div>\n",
       "<style scoped>\n",
       "    .dataframe tbody tr th:only-of-type {\n",
       "        vertical-align: middle;\n",
       "    }\n",
       "\n",
       "    .dataframe tbody tr th {\n",
       "        vertical-align: top;\n",
       "    }\n",
       "\n",
       "    .dataframe thead tr th {\n",
       "        text-align: left;\n",
       "    }\n",
       "\n",
       "    .dataframe thead tr:last-of-type th {\n",
       "        text-align: right;\n",
       "    }\n",
       "</style>\n",
       "<table border=\"1\" class=\"dataframe\">\n",
       "  <thead>\n",
       "    <tr>\n",
       "      <th></th>\n",
       "      <th colspan=\"8\" halign=\"left\">favorite_count</th>\n",
       "      <th colspan=\"8\" halign=\"left\">retweet_count</th>\n",
       "    </tr>\n",
       "    <tr>\n",
       "      <th></th>\n",
       "      <th>count</th>\n",
       "      <th>mean</th>\n",
       "      <th>std</th>\n",
       "      <th>min</th>\n",
       "      <th>25%</th>\n",
       "      <th>50%</th>\n",
       "      <th>75%</th>\n",
       "      <th>max</th>\n",
       "      <th>count</th>\n",
       "      <th>mean</th>\n",
       "      <th>std</th>\n",
       "      <th>min</th>\n",
       "      <th>25%</th>\n",
       "      <th>50%</th>\n",
       "      <th>75%</th>\n",
       "      <th>max</th>\n",
       "    </tr>\n",
       "    <tr>\n",
       "      <th>dog_stage</th>\n",
       "      <th></th>\n",
       "      <th></th>\n",
       "      <th></th>\n",
       "      <th></th>\n",
       "      <th></th>\n",
       "      <th></th>\n",
       "      <th></th>\n",
       "      <th></th>\n",
       "      <th></th>\n",
       "      <th></th>\n",
       "      <th></th>\n",
       "      <th></th>\n",
       "      <th></th>\n",
       "      <th></th>\n",
       "      <th></th>\n",
       "      <th></th>\n",
       "    </tr>\n",
       "  </thead>\n",
       "  <tbody>\n",
       "    <tr>\n",
       "      <th>doggo</th>\n",
       "      <td>63</td>\n",
       "      <td>11,742</td>\n",
       "      <td>14,216</td>\n",
       "      <td>0</td>\n",
       "      <td>0</td>\n",
       "      <td>9,841</td>\n",
       "      <td>14,894</td>\n",
       "      <td>82,356</td>\n",
       "      <td>63</td>\n",
       "      <td>3,429</td>\n",
       "      <td>5,629</td>\n",
       "      <td>0</td>\n",
       "      <td>0</td>\n",
       "      <td>2,006</td>\n",
       "      <td>3,783</td>\n",
       "      <td>34,387</td>\n",
       "    </tr>\n",
       "    <tr>\n",
       "      <th>floofer</th>\n",
       "      <td>8</td>\n",
       "      <td>9,150</td>\n",
       "      <td>10,941</td>\n",
       "      <td>0</td>\n",
       "      <td>0</td>\n",
       "      <td>5,282</td>\n",
       "      <td>16,061</td>\n",
       "      <td>27,976</td>\n",
       "      <td>8</td>\n",
       "      <td>2,887</td>\n",
       "      <td>4,946</td>\n",
       "      <td>0</td>\n",
       "      <td>0</td>\n",
       "      <td>1,312</td>\n",
       "      <td>2,852</td>\n",
       "      <td>14,625</td>\n",
       "    </tr>\n",
       "    <tr>\n",
       "      <th>pupper</th>\n",
       "      <td>212</td>\n",
       "      <td>3,146</td>\n",
       "      <td>9,568</td>\n",
       "      <td>0</td>\n",
       "      <td>0</td>\n",
       "      <td>0</td>\n",
       "      <td>0</td>\n",
       "      <td>108,435</td>\n",
       "      <td>212</td>\n",
       "      <td>840</td>\n",
       "      <td>2,693</td>\n",
       "      <td>0</td>\n",
       "      <td>0</td>\n",
       "      <td>0</td>\n",
       "      <td>0</td>\n",
       "      <td>30,039</td>\n",
       "    </tr>\n",
       "    <tr>\n",
       "      <th>puppo</th>\n",
       "      <td>23</td>\n",
       "      <td>18,991</td>\n",
       "      <td>27,298</td>\n",
       "      <td>0</td>\n",
       "      <td>0</td>\n",
       "      <td>13,305</td>\n",
       "      <td>18,748</td>\n",
       "      <td>123,592</td>\n",
       "      <td>23</td>\n",
       "      <td>5,337</td>\n",
       "      <td>8,846</td>\n",
       "      <td>0</td>\n",
       "      <td>0</td>\n",
       "      <td>2,445</td>\n",
       "      <td>5,976</td>\n",
       "      <td>39,718</td>\n",
       "    </tr>\n",
       "  </tbody>\n",
       "</table>\n",
       "</div>"
      ],
      "text/plain": [
       "          favorite_count                                             retweet_count                                       \n",
       "                   count   mean    std min 25%    50%    75%     max         count  mean   std min 25%   50%   75%    max\n",
       "dog_stage                                                                                                                \n",
       "doggo                 63 11,742 14,216   0   0  9,841 14,894  82,356            63 3,429 5,629   0   0 2,006 3,783 34,387\n",
       "floofer                8  9,150 10,941   0   0  5,282 16,061  27,976             8 2,887 4,946   0   0 1,312 2,852 14,625\n",
       "pupper               212  3,146  9,568   0   0      0      0 108,435           212   840 2,693   0   0     0     0 30,039\n",
       "puppo                 23 18,991 27,298   0   0 13,305 18,748 123,592            23 5,337 8,846   0   0 2,445 5,976 39,718"
      ]
     },
     "execution_count": 86,
     "metadata": {},
     "output_type": "execute_result"
    }
   ],
   "source": [
    "# Finer analysis of the standard values for this important categrical value (dog_stage)\n",
    "df_clean[df_clean['dog_stage'] != 'None'].groupby(by=[\"dog_stage\"])[['favorite_count', 'retweet_count',]].describe()\n"
   ]
  },
  {
   "cell_type": "code",
   "execution_count": null,
   "metadata": {},
   "outputs": [],
   "source": []
  },
  {
   "cell_type": "markdown",
   "metadata": {},
   "source": [
    "### Insights:\n",
    "1. Ratings values are heavily left skewed when visualized.  The 25%th percentile starts at a value of 10 (perfect).  This colunn is a completely subjective measure of the humor; this is intentional per the sites guidelines and mission.\n",
    "\n",
    "2. Per the first visualization, the retrievers (golden and Labrador) are the most liked and retweeted by the numbers (around 19%). It should be noted, the breed was derived from an ML model, trained with a dog photo, and common objects data set. There appears to be a variation in the tp1_conf values. We see an overall standard deviation of 0.1068 and a variance between 25th and 75th percentile of 0.5543 (a 55% spread).  Practically speaking, this should be taken in consideration when reviewing this observation, and only a manual assessment would provide conclusive proof. In some cases (derived through manual inspection) a background or prop stood out it was identified and named, the dog was in the photo but not identified.\n",
    "\n",
    "3. The dog_stage dimension does appear to be a corelating variable for popularity, when we review the sum and average. doggo represents almost the same sum totals as pupper, though from a population distribution they represent approximately 75% less of this categorical value. The median value between the top two pupper and doggo is a similar ratio to sum, but the mean is far less (for doggo). Per the describe outputs, doggo values have a lower distribution and higher standard values (mean, 50%, 75%). The same comments above could be said for the puppo stage, where the population count is 10% of pupper, but all standard values are well above any other group and sum popularity still reaches more than 50% of pupper numbers. Bottom line, this categorical value, has some very interesting population distribution statistics, as they relate to overall impact on popularity."
   ]
  },
  {
   "cell_type": "code",
   "execution_count": null,
   "metadata": {},
   "outputs": [],
   "source": []
  }
 ],
 "metadata": {
  "extensions": {
   "jupyter_dashboards": {
    "activeView": "report_default",
    "version": 1,
    "views": {
     "grid_default": {
      "cellMargin": 10,
      "defaultCellHeight": 20,
      "maxColumns": 12,
      "name": "grid",
      "type": "grid"
     },
     "report_default": {
      "name": "report",
      "type": "report"
     }
    }
   }
  },
  "kernelspec": {
   "display_name": "Python 3 (ipykernel)",
   "language": "python",
   "name": "python3"
  },
  "language_info": {
   "codemirror_mode": {
    "name": "ipython",
    "version": 3
   },
   "file_extension": ".py",
   "mimetype": "text/x-python",
   "name": "python",
   "nbconvert_exporter": "python",
   "pygments_lexer": "ipython3",
   "version": "3.9.7"
  }
 },
 "nbformat": 4,
 "nbformat_minor": 2
}
