{
 "cells": [
  {
   "cell_type": "markdown",
   "metadata": {},
   "source": [
    "# Wrangle and Analyze Data Project\n",
    "\n",
    "## Objective\n",
    "wrangle WeRateDogs Twitter data to create interesting and trustworthy analyses and visualizations\n",
    "\n",
    "## Available Data\n",
    "1) Enhanced Twitter Archive data ---> twitter_archive_enhanced.csv           <br>2) Additional Data via the Twitter API ---> tweet_json.txt\n",
    "<br>3) Image Predictions File from a neural network ---> image_predictions.tsv\n",
    "\n",
    "##  Required Tasks\n",
    "1) Data wrangling, which consists of:\n",
    "<br>&emsp;A) Gathering data\n",
    "<br>&emsp;B) Assessing data\n",
    "<br>&emsp;C) Cleaning data\n",
    "<br>2) Storing, analyzing, and visualizing your wrangled data\n",
    "<br>3) Reporting on your data wrangling efforts \n",
    "<br>4) Reporting on your data analyses and visualizations"
   ]
  },
  {
   "cell_type": "code",
   "execution_count": 42,
   "metadata": {},
   "outputs": [],
   "source": [
    "# import statements\n",
    "import pandas as pd\n",
    "import numpy as np\n",
    "import matplotlib.pyplot as plt\n",
    "import requests\n",
    "import tweepy\n",
    "from tweepy import OAuthHandler\n",
    "import json\n",
    "from timeit import default_timer as timer\n",
    "\n",
    "%matplotlib inline"
   ]
  },
  {
   "cell_type": "code",
   "execution_count": 43,
   "metadata": {},
   "outputs": [],
   "source": [
    "# Task 1: Data Wrangling (Gathering Data) Cell 1/4\n",
    "df_TwitterArchive = pd.read_csv('twitter-archive-enhanced.csv')"
   ]
  },
  {
   "cell_type": "code",
   "execution_count": 44,
   "metadata": {},
   "outputs": [],
   "source": [
    "# Task 1: Data Wrangling (Gathering Data) Cell 2/4\n",
    "\n",
    "# sending get request and saving the response\n",
    "URL = 'https://d17h27t6h515a5.cloudfront.net/topher/2017/August/599fd2ad_image-predictions/image-predictions.tsv'\n",
    "response = requests.get(URL) \n",
    "\n",
    "#Open file in write binary mode and write the content of the response in bytes\n",
    "with open('image_predictions.tsv', 'wb') as f: \n",
    "    f.write(response.content)\n",
    "\n",
    "#Read the file as a dataframe\n",
    "df_ImagePredictions = pd.read_csv('image_predictions.tsv', sep='\\t')"
   ]
  },
  {
   "cell_type": "raw",
   "metadata": {},
   "source": [
    "# Task 1: Data Wrangling (Gathering Data) Cell 3/4\n",
    "# NOTE TO REVIEWER: this student had mobile verification issues so the following\n",
    "# Twitter API code was sent to this student from a Udacity instructor\n",
    "# Tweet IDs for which to gather additional data via Twitter's API\n",
    "\n",
    "# NOTE TO REVIEWER: I am using the sent tweet_json.txt file directly\n",
    "\n",
    "# Query Twitter API for each tweet in the Twitter archive and save JSON in a text file\n",
    "# These are hidden to comply with Twitter's API terms and conditions\n",
    "consumer_key = 'HIDDEN'\n",
    "consumer_secret = 'HIDDEN'\n",
    "access_token = 'HIDDEN'\n",
    "access_secret = 'HIDDEN'\n",
    "\n",
    "auth = OAuthHandler(consumer_key, consumer_secret)\n",
    "auth.set_access_token(access_token, access_secret)\n",
    "\n",
    "api = tweepy.API(auth, wait_on_rate_limit=True)\n",
    "\n",
    "# NOTE TO STUDENT WITH MOBILE VERIFICATION ISSUES:\n",
    "# df_1 is a DataFrame with the twitter_archive_enhanced.csv file. You may have to\n",
    "# change line 17 to match the name of your DataFrame with twitter_archive_enhanced.csv\n",
    "# NOTE TO REVIEWER: this student had mobile verification issues so the following\n",
    "# Twitter API code was sent to this student from a Udacity instructor\n",
    "# Tweet IDs for which to gather additional data via Twitter's API\n",
    "tweet_ids = df_TwitterArchive.tweet_id.values\n",
    "len(tweet_ids)\n",
    "\n",
    "# Query Twitter's API for JSON data for each tweet ID in the Twitter archive\n",
    "count = 0\n",
    "fails_dict = {}\n",
    "start = timer()\n",
    "# Save each tweet's returned JSON as a new line in a .txt file\n",
    "with open('tweet_json.txt', 'w') as outfile:\n",
    "    # This loop will likely take 20-30 minutes to run because of Twitter's rate limit\n",
    "    for tweet_id in tweet_ids:\n",
    "        count += 1\n",
    "        print(str(count) + \": \" + str(tweet_id))\n",
    "        try:\n",
    "            tweet = api.get_status(tweet_id, tweet_mode='extended')\n",
    "            print(\"Success\")\n",
    "            json.dump(tweet._json, outfile)\n",
    "            outfile.write('\\n')\n",
    "        except tweepy.TweepError as e:\n",
    "            print(\"Fail\")\n",
    "            fails_dict[tweet_id] = e\n",
    "            pass\n",
    "end = timer()\n",
    "print(end - start)\n",
    "print(fails_dict)"
   ]
  },
  {
   "cell_type": "code",
   "execution_count": 45,
   "metadata": {},
   "outputs": [],
   "source": [
    "# Task 1: Data Wrangling (Gathering Data) Cell 4/4\n",
    "# Read the sent tweet-json file to dataframe\n",
    "df_list = []\n",
    "\n",
    "with open('tweet-json.txt') as tweetfile:\n",
    "    for line in tweetfile:\n",
    "        tweetdata = json.loads(line)\n",
    "        \n",
    "        tweet_id = tweetdata['id']\n",
    "        favorite_count = tweetdata['favorite_count']\n",
    "        retweet_count = tweetdata['retweet_count']\n",
    "                \n",
    "        df_list.append({'tweet_id': tweet_id,\n",
    "                        'favorite_count': favorite_count,\n",
    "                        'retweet_count': retweet_count})\n",
    "\n",
    "# create a new DataFrame \n",
    "df_TweetData = pd.DataFrame(df_list, columns = ['tweet_id', 'favorite_count', 'retweet_count'])\n",
    "\n",
    "# Save the dataFrame in file\n",
    "df_TweetData.to_csv('tweet-json-edited.txt', encoding = 'utf-8', index=False)"
   ]
  },
  {
   "cell_type": "code",
   "execution_count": 46,
   "metadata": {},
   "outputs": [
    {
     "name": "stdout",
     "output_type": "stream",
     "text": [
      "                tweet_id  in_reply_to_status_id  in_reply_to_user_id  \\\n",
      "1197  717009362452090881                    NaN                  NaN   \n",
      "240   846514051647705089                    NaN                  NaN   \n",
      "422   821813639212650496                    NaN                  NaN   \n",
      "2311  666781792255496192                    NaN                  NaN   \n",
      "1727  679877062409191424                    NaN                  NaN   \n",
      "1225  714141408463036416                    NaN                  NaN   \n",
      "1890  674767892831932416                    NaN                  NaN   \n",
      "2339  666102155909144576                    NaN                  NaN   \n",
      "286   838831947270979586                    NaN                  NaN   \n",
      "335   832645525019123713                    NaN                  NaN   \n",
      "\n",
      "                      timestamp  \\\n",
      "1197  2016-04-04 15:22:08 +0000   \n",
      "240   2017-03-28 00:07:32 +0000   \n",
      "422   2017-01-18 20:16:54 +0000   \n",
      "2311  2015-11-18 00:55:42 +0000   \n",
      "1727  2015-12-24 04:11:37 +0000   \n",
      "1225  2016-03-27 17:25:54 +0000   \n",
      "1890  2015-12-10 01:49:36 +0000   \n",
      "2339  2015-11-16 03:55:04 +0000   \n",
      "286   2017-03-06 19:21:35 +0000   \n",
      "335   2017-02-17 17:38:57 +0000   \n",
      "\n",
      "                                                 source  \\\n",
      "1197  <a href=\"http://twitter.com/download/iphone\" r...   \n",
      "240   <a href=\"http://twitter.com/download/iphone\" r...   \n",
      "422   <a href=\"http://twitter.com/download/iphone\" r...   \n",
      "2311  <a href=\"http://twitter.com/download/iphone\" r...   \n",
      "1727  <a href=\"http://twitter.com/download/iphone\" r...   \n",
      "1225  <a href=\"http://twitter.com/download/iphone\" r...   \n",
      "1890  <a href=\"http://twitter.com/download/iphone\" r...   \n",
      "2339  <a href=\"http://twitter.com/download/iphone\" r...   \n",
      "286   <a href=\"http://twitter.com/download/iphone\" r...   \n",
      "335   <a href=\"http://twitter.com\" rel=\"nofollow\">Tw...   \n",
      "\n",
      "                                                   text  retweeted_status_id  \\\n",
      "1197  This is Smokey. He's having some sort of exist...                  NaN   \n",
      "240   This is Barney. He's an elder doggo. Hitches a...                  NaN   \n",
      "422   RT @dog_rates: Meet Hercules. He can have what...         7.806013e+17   \n",
      "2311  This is a purebred Bacardi named Octaviath. Ca...                  NaN   \n",
      "1727  Meet Penelope. She's a bacon frise. Total babe...                  NaN   \n",
      "1225  I know we only rate dogs, but since it's Easte...                  NaN   \n",
      "1890  This pup was carefully tossed to make it look ...                  NaN   \n",
      "2339  Oh my. Here you are seeing an Adobe Setter giv...                  NaN   \n",
      "286   RT @dog_rates: This is Riley. His owner put a ...         7.838400e+17   \n",
      "335   There's going to be a dog terminal at JFK Airp...                  NaN   \n",
      "\n",
      "      retweeted_status_user_id retweeted_status_timestamp  \\\n",
      "1197                       NaN                        NaN   \n",
      "240                        NaN                        NaN   \n",
      "422               4.196984e+09  2016-09-27 02:53:48 +0000   \n",
      "2311                       NaN                        NaN   \n",
      "1727                       NaN                        NaN   \n",
      "1225                       NaN                        NaN   \n",
      "1890                       NaN                        NaN   \n",
      "2339                       NaN                        NaN   \n",
      "286               4.196984e+09  2016-10-06 01:23:05 +0000   \n",
      "335                        NaN                        NaN   \n",
      "\n",
      "                                          expanded_urls  rating_numerator  \\\n",
      "1197  https://twitter.com/dog_rates/status/717009362...                10   \n",
      "240   https://twitter.com/dog_rates/status/846514051...                13   \n",
      "422   https://twitter.com/dog_rates/status/780601303...                12   \n",
      "2311  https://twitter.com/dog_rates/status/666781792...                10   \n",
      "1727  https://twitter.com/dog_rates/status/679877062...                 5   \n",
      "1225  https://twitter.com/dog_rates/status/714141408...                10   \n",
      "1890  https://twitter.com/dog_rates/status/674767892...                12   \n",
      "2339  https://twitter.com/dog_rates/status/666102155...                11   \n",
      "286   https://twitter.com/dog_rates/status/783839966...                13   \n",
      "335   http://us.blastingnews.com/news/2017/02/jfk-an...                10   \n",
      "\n",
      "      rating_denominator      name  doggo floofer  pupper puppo  \n",
      "1197                  10    Smokey   None    None  pupper  None  \n",
      "240                   10    Barney  doggo    None    None  None  \n",
      "422                   10  Hercules   None    None    None  None  \n",
      "2311                  10         a   None    None    None  None  \n",
      "1727                  10  Penelope   None    None    None  None  \n",
      "1225                  10      None   None    None    None  None  \n",
      "1890                  10      None   None    None    None  None  \n",
      "2339                  10      None   None    None    None  None  \n",
      "286                   10     Riley   None    None    None  None  \n",
      "335                   10       not   None    None    None  None  \n",
      "<class 'pandas.core.frame.DataFrame'>\n",
      "RangeIndex: 2356 entries, 0 to 2355\n",
      "Data columns (total 17 columns):\n",
      "tweet_id                      2356 non-null int64\n",
      "in_reply_to_status_id         78 non-null float64\n",
      "in_reply_to_user_id           78 non-null float64\n",
      "timestamp                     2356 non-null object\n",
      "source                        2356 non-null object\n",
      "text                          2356 non-null object\n",
      "retweeted_status_id           181 non-null float64\n",
      "retweeted_status_user_id      181 non-null float64\n",
      "retweeted_status_timestamp    181 non-null object\n",
      "expanded_urls                 2297 non-null object\n",
      "rating_numerator              2356 non-null int64\n",
      "rating_denominator            2356 non-null int64\n",
      "name                          2356 non-null object\n",
      "doggo                         2356 non-null object\n",
      "floofer                       2356 non-null object\n",
      "pupper                        2356 non-null object\n",
      "puppo                         2356 non-null object\n",
      "dtypes: float64(4), int64(3), object(10)\n",
      "memory usage: 313.0+ KB\n",
      "None\n",
      "0\n"
     ]
    }
   ],
   "source": [
    "# Task 1: Data Wrangling (Assessing Data) Cell 1/3\n",
    "# Firstly Twitter Archive Data\n",
    "print(df_TwitterArchive.sample(10))\n",
    "print(df_TwitterArchive.info())\n",
    "print(sum(df_TwitterArchive.duplicated()))"
   ]
  },
  {
   "cell_type": "markdown",
   "metadata": {},
   "source": [
    "# Quality Issues\n",
    "## Missing Values:\n",
    "The following colums has missing values: in_reply_to_status_id / in_reply_to_user_id \n",
    "retweeted_status_id / retweeted_status_user_id / retweeted_status_timestamp / expanded_urls\n",
    "\n",
    "## Duplicate Data:\n",
    "We have 0 duplicate data\n",
    "\n",
    "## Incorrect datatypes:\n",
    "[tweet_id / in_reply_to_status_id / in_reply_to_user_id / retweeted_status_id / retweeted_status_user_id] should be converted to string\n",
    "<br>[retweeted_status_timestamp / timestamp should be datetime instead of string\n",
    " \n",
    "# Tidiness Issues:\n",
    "Dog type is in 4 columns (doggo, floofer, pupper, puppo)."
   ]
  },
  {
   "cell_type": "code",
   "execution_count": 47,
   "metadata": {},
   "outputs": [
    {
     "name": "stdout",
     "output_type": "stream",
     "text": [
      "                tweet_id                                          jpg_url  \\\n",
      "1516  786963064373534720  https://pbs.twimg.com/media/Cuvau3MW8AAxaRv.jpg   \n",
      "1008  709207347839836162  https://pbs.twimg.com/media/CdecUSzUIAAHCvg.jpg   \n",
      "1317  755206590534418437  https://pbs.twimg.com/media/CnsIT0WWcAAul8V.jpg   \n",
      "670   683098815881154561  https://pbs.twimg.com/media/CXrawAhWkAAWSxC.jpg   \n",
      "79    667453023279554560  https://pbs.twimg.com/media/CUNE_OSUwAAdHhX.jpg   \n",
      "873   697995514407682048  https://pbs.twimg.com/media/Ca_HN8UWEAEB-ga.jpg   \n",
      "261   670786190031921152  https://pbs.twimg.com/media/CU8ceuxWUAALMEo.jpg   \n",
      "1369  761976711479193600  https://pbs.twimg.com/media/CpMVxoRXgAAh350.jpg   \n",
      "337   672231046314901505  https://pbs.twimg.com/media/CVQ-kfWWoAAXV15.jpg   \n",
      "618   680221482581123072  https://pbs.twimg.com/media/CXCh0QZW8AALdXm.jpg   \n",
      "\n",
      "      img_num                         p1   p1_conf  p1_dog  \\\n",
      "1516        1           golden_retriever  0.915303    True   \n",
      "1008        1                  Chihuahua  0.948323    True   \n",
      "1317        1                   web_site  0.906673   False   \n",
      "670         1           golden_retriever  0.889848    True   \n",
      "79          1         Labrador_retriever  0.825670    True   \n",
      "873         1  Staffordshire_bullterrier  0.280222    True   \n",
      "261         1                      dingo  0.777124   False   \n",
      "1369        3         Labrador_retriever  0.475552    True   \n",
      "337         1               killer_whale  0.823919   False   \n",
      "618         1                     bubble  0.240173   False   \n",
      "\n",
      "                            p2   p2_conf  p2_dog  \\\n",
      "1516                    Saluki  0.046213    True   \n",
      "1008         Italian_greyhound  0.017730    True   \n",
      "1317                   printer  0.008600   False   \n",
      "670                     kuvasz  0.053008    True   \n",
      "79              French_bulldog  0.056639    True   \n",
      "873                Boston_bull  0.161478    True   \n",
      "261                   Pembroke  0.127438    True   \n",
      "1369  Chesapeake_Bay_retriever  0.082898    True   \n",
      "337                 grey_whale  0.036601   False   \n",
      "618                        hen  0.146222   False   \n",
      "\n",
      "                                  p3   p3_conf  p3_dog  \n",
      "1516              Labrador_retriever  0.037504    True  \n",
      "1008                           quilt  0.016688   False  \n",
      "1317                          carton  0.004533   False  \n",
      "670               Labrador_retriever  0.037881    True  \n",
      "79         Staffordshire_bullterrier  0.054018    True  \n",
      "873   American_Staffordshire_terrier  0.126884    True  \n",
      "261                         Cardigan  0.024007    True  \n",
      "1369       Staffordshire_bullterrier  0.048464    True  \n",
      "337                       hammerhead  0.029522   False  \n",
      "618                            abaya  0.139342   False  \n",
      "<class 'pandas.core.frame.DataFrame'>\n",
      "RangeIndex: 2075 entries, 0 to 2074\n",
      "Data columns (total 12 columns):\n",
      "tweet_id    2075 non-null int64\n",
      "jpg_url     2075 non-null object\n",
      "img_num     2075 non-null int64\n",
      "p1          2075 non-null object\n",
      "p1_conf     2075 non-null float64\n",
      "p1_dog      2075 non-null bool\n",
      "p2          2075 non-null object\n",
      "p2_conf     2075 non-null float64\n",
      "p2_dog      2075 non-null bool\n",
      "p3          2075 non-null object\n",
      "p3_conf     2075 non-null float64\n",
      "p3_dog      2075 non-null bool\n",
      "dtypes: bool(3), float64(3), int64(2), object(4)\n",
      "memory usage: 152.1+ KB\n",
      "None\n",
      "0\n"
     ]
    },
    {
     "data": {
      "text/plain": [
       "https://pbs.twimg.com/media/CWyD2HGUYAQ1Xa7.jpg                                            2\n",
       "https://pbs.twimg.com/tweet_video_thumb/CeBym7oXEAEWbEg.jpg                                2\n",
       "https://pbs.twimg.com/media/CvoBPWRWgAA4het.jpg                                            2\n",
       "https://pbs.twimg.com/media/CUN4Or5UAAAa5K4.jpg                                            2\n",
       "https://pbs.twimg.com/media/CZhn-QAWwAASQan.jpg                                            2\n",
       "https://pbs.twimg.com/media/CwS4aqZXUAAe3IO.jpg                                            2\n",
       "https://pbs.twimg.com/media/Cwx99rpW8AMk_Ie.jpg                                            2\n",
       "https://pbs.twimg.com/media/CeRoBaxWEAABi0X.jpg                                            2\n",
       "https://pbs.twimg.com/media/ChK1tdBWwAQ1flD.jpg                                            2\n",
       "https://pbs.twimg.com/media/CvyVxQRWEAAdSZS.jpg                                            2\n",
       "https://pbs.twimg.com/media/DFDw2tyUQAAAFke.jpg                                            2\n",
       "https://pbs.twimg.com/media/CzG425nWgAAnP7P.jpg                                            2\n",
       "https://pbs.twimg.com/media/C12whDoVEAALRxa.jpg                                            2\n",
       "https://pbs.twimg.com/media/CkjMx99UoAM2B1a.jpg                                            2\n",
       "https://pbs.twimg.com/ext_tw_video_thumb/817423809049493505/pu/img/5OFW0yueFu9oTUiQ.jpg    2\n",
       "https://pbs.twimg.com/media/C4KHj-nWQAA3poV.jpg                                            2\n",
       "https://pbs.twimg.com/media/C4bTH6nWMAAX_bJ.jpg                                            2\n",
       "https://pbs.twimg.com/media/CWza7kpWcAAdYLc.jpg                                            2\n",
       "https://pbs.twimg.com/media/Cq9guJ5WgAADfpF.jpg                                            2\n",
       "https://pbs.twimg.com/media/CVMOlMiWwAA4Yxl.jpg                                            2\n",
       "https://pbs.twimg.com/media/C3nygbBWQAAjwcW.jpg                                            2\n",
       "https://pbs.twimg.com/media/CiibOMzUYAA9Mxz.jpg                                            2\n",
       "https://pbs.twimg.com/media/CW88XN4WsAAlo8r.jpg                                            2\n",
       "https://pbs.twimg.com/media/CuRDF-XWcAIZSer.jpg                                            2\n",
       "https://pbs.twimg.com/media/Co-hmcYXYAASkiG.jpg                                            2\n",
       "https://pbs.twimg.com/ext_tw_video_thumb/815965888126062592/pu/img/JleSw4wRhgKDWQj5.jpg    2\n",
       "https://pbs.twimg.com/media/CU3mITUWIAAfyQS.jpg                                            2\n",
       "https://pbs.twimg.com/ext_tw_video_thumb/807106774843039744/pu/img/8XZg1xW35Xp2J6JW.jpg    2\n",
       "https://pbs.twimg.com/media/CkNjahBXAAQ2kWo.jpg                                            2\n",
       "https://pbs.twimg.com/media/CV_cnjHWUAADc-c.jpg                                            2\n",
       "                                                                                          ..\n",
       "https://pbs.twimg.com/media/Cs6r_-kVIAALh1p.jpg                                            1\n",
       "https://pbs.twimg.com/media/CU8iYi2WsAEaqQ0.jpg                                            1\n",
       "https://pbs.twimg.com/media/CXICiB9UwAE1sKY.jpg                                            1\n",
       "https://pbs.twimg.com/media/CUSeGFNW4AAyyHC.jpg                                            1\n",
       "https://pbs.twimg.com/media/Crc9DEoWEAE7RLH.jpg                                            1\n",
       "https://pbs.twimg.com/media/C6_LTCZWoAAKm_O.jpg                                            1\n",
       "https://pbs.twimg.com/media/CVbjRSIWsAElw2s.jpg                                            1\n",
       "https://pbs.twimg.com/media/CvASw6dWcAQmo3X.jpg                                            1\n",
       "https://pbs.twimg.com/media/DCN85nGUwAAzG_q.jpg                                            1\n",
       "https://pbs.twimg.com/media/DEYrIZwWsAA2Wo5.jpg                                            1\n",
       "https://pbs.twimg.com/ext_tw_video_thumb/685663358637486080/pu/img/3cXSHFZAgJQ_dDCf.jpg    1\n",
       "https://pbs.twimg.com/media/DDxPFwbWAAEbVVR.jpg                                            1\n",
       "https://pbs.twimg.com/media/CYLAWFMWMAEcRzb.jpg                                            1\n",
       "https://pbs.twimg.com/media/C-nnZBdXkAAB-wg.jpg                                            1\n",
       "https://pbs.twimg.com/media/CT-RugiWIAELEaq.jpg                                            1\n",
       "https://pbs.twimg.com/media/CUNniSlUYAEj1Jl.jpg                                            1\n",
       "https://pbs.twimg.com/media/CqzKfQgXEAAWIY-.jpg                                            1\n",
       "https://pbs.twimg.com/media/Cvi2FiKWgAAif1u.jpg                                            1\n",
       "https://pbs.twimg.com/media/CooZok_WEAA7oPw.jpg                                            1\n",
       "https://pbs.twimg.com/media/CV01M3ZWIAAV7rv.jpg                                            1\n",
       "https://pbs.twimg.com/media/CyNPmJgXcAECPuB.jpg                                            1\n",
       "https://pbs.twimg.com/media/CYaAS2kUoAINkye.jpg                                            1\n",
       "https://pbs.twimg.com/media/CoLTbbzXYAElNM6.jpg                                            1\n",
       "https://pbs.twimg.com/media/CUJUk2iWUAAVtOv.jpg                                            1\n",
       "https://pbs.twimg.com/media/CXsChyjW8AQJ16C.jpg                                            1\n",
       "https://pbs.twimg.com/media/Cok1_sjXgAU3xpp.jpg                                            1\n",
       "https://pbs.twimg.com/media/CVUiMUeW4AEQgkU.jpg                                            1\n",
       "https://pbs.twimg.com/media/Cg2bKLAWwAA0WEm.jpg                                            1\n",
       "https://pbs.twimg.com/media/ChqARqmWsAEI6fB.jpg                                            1\n",
       "https://pbs.twimg.com/media/CcbRIAgXIAQaKHQ.jpg                                            1\n",
       "Name: jpg_url, Length: 2009, dtype: int64"
      ]
     },
     "execution_count": 47,
     "metadata": {},
     "output_type": "execute_result"
    }
   ],
   "source": [
    "# Task 1: Data Wrangling (Assessing Data) Cell 2/3\n",
    "# Secondly Image Predictions Data\n",
    "print(df_ImagePredictions.sample(10))\n",
    "print(df_ImagePredictions.info())\n",
    "print(sum(df_ImagePredictions.duplicated()))\n",
    "df_ImagePredictions['jpg_url'].value_counts()"
   ]
  },
  {
   "cell_type": "markdown",
   "metadata": {},
   "source": [
    "# Quality Issues\n",
    "## Missing Values:\n",
    "Missing values from images dataset. It is 2075 rows instead of 2356\n",
    "\n",
    "## Duplicate Data:\n",
    "We have 0 duplicate data but some tweets have 2 different tweet_id, that is retweets\n",
    "\n",
    "## Incorrect datatypes:\n",
    "[tweet_id] should be converted to string \n",
    "\n",
    "# Tidiness Issues:\n",
    "imgage number is not affecting our analysis. It should be removed."
   ]
  },
  {
   "cell_type": "code",
   "execution_count": 48,
   "metadata": {},
   "outputs": [
    {
     "name": "stdout",
     "output_type": "stream",
     "text": [
      "                tweet_id  favorite_count  retweet_count\n",
      "1517  690735892932222976            4134           1442\n",
      "372   828376505180889089            8112           1216\n",
      "2182  668988183816871936             961            516\n",
      "1683  681654059175129088            2903           1045\n",
      "1434  697255105972801536            3316           1315\n",
      "2275  667437278097252352             483            257\n",
      "778   775842724423557120           13022           3116\n",
      "1423  697943111201378304            2638            776\n",
      "1503  691793053716221953            8910           4732\n",
      "2021  671896809300709376            9016           4519\n",
      "<class 'pandas.core.frame.DataFrame'>\n",
      "RangeIndex: 2354 entries, 0 to 2353\n",
      "Data columns (total 3 columns):\n",
      "tweet_id          2354 non-null int64\n",
      "favorite_count    2354 non-null int64\n",
      "retweet_count     2354 non-null int64\n",
      "dtypes: int64(3)\n",
      "memory usage: 55.2 KB\n",
      "0\n"
     ]
    }
   ],
   "source": [
    "# Task 1: Data Wrangling (Assessing Data) Cell 3/3\n",
    "# Finally Tweet Data\n",
    "print(df_TweetData.sample(10))\n",
    "df_TweetData.info()\n",
    "print(sum(df_TweetData.duplicated()))"
   ]
  },
  {
   "cell_type": "markdown",
   "metadata": {},
   "source": [
    "# Quality Issues\n",
    "## Missing Values:\n",
    "Missing values from tweet dataset. It is 2354 rows instead of 2356\n",
    "\n",
    "## Incorrect datatypes:\n",
    "[tweet_id] should be converted to string "
   ]
  },
  {
   "cell_type": "code",
   "execution_count": 49,
   "metadata": {},
   "outputs": [
    {
     "name": "stdout",
     "output_type": "stream",
     "text": [
      "<class 'pandas.core.frame.DataFrame'>\n",
      "Int64Index: 2073 entries, 0 to 2072\n",
      "Data columns (total 30 columns):\n",
      "tweet_id                      2073 non-null int64\n",
      "in_reply_to_status_id         23 non-null float64\n",
      "in_reply_to_user_id           23 non-null float64\n",
      "timestamp                     2073 non-null object\n",
      "source                        2073 non-null object\n",
      "text                          2073 non-null object\n",
      "retweeted_status_id           79 non-null float64\n",
      "retweeted_status_user_id      79 non-null float64\n",
      "retweeted_status_timestamp    79 non-null object\n",
      "expanded_urls                 2073 non-null object\n",
      "rating_numerator              2073 non-null int64\n",
      "rating_denominator            2073 non-null int64\n",
      "name                          2073 non-null object\n",
      "doggo                         2073 non-null object\n",
      "floofer                       2073 non-null object\n",
      "pupper                        2073 non-null object\n",
      "puppo                         2073 non-null object\n",
      "jpg_url                       2073 non-null object\n",
      "img_num                       2073 non-null int64\n",
      "p1                            2073 non-null object\n",
      "p1_conf                       2073 non-null float64\n",
      "p1_dog                        2073 non-null bool\n",
      "p2                            2073 non-null object\n",
      "p2_conf                       2073 non-null float64\n",
      "p2_dog                        2073 non-null bool\n",
      "p3                            2073 non-null object\n",
      "p3_conf                       2073 non-null float64\n",
      "p3_dog                        2073 non-null bool\n",
      "favorite_count                2073 non-null int64\n",
      "retweet_count                 2073 non-null int64\n",
      "dtypes: bool(3), float64(7), int64(6), object(14)\n",
      "memory usage: 459.5+ KB\n"
     ]
    }
   ],
   "source": [
    "# Task 1: Data Wrangling (cleaning Data) Cell 1/3\n",
    "\n",
    "#Copy Dataframes\n",
    "df_TwitterArchive_clean = df_TwitterArchive.copy()\n",
    "df_ImagePredictions_clean = df_ImagePredictions.copy()\n",
    "df_TweetData_clean= df_TweetData.copy()\n",
    "\n",
    "#Merging dataframes\n",
    "df_clean = pd.merge(left=df_TwitterArchive_clean,right=df_ImagePredictions_clean, left_on='tweet_id', right_on='tweet_id', how='inner')\n",
    "df_clean = df_clean.merge(df_TweetData_clean, on='tweet_id', how='inner')\n",
    "\n",
    "#Assess the merged dataframe\n",
    "df_clean.info()"
   ]
  },
  {
   "cell_type": "code",
   "execution_count": 50,
   "metadata": {},
   "outputs": [
    {
     "name": "stdout",
     "output_type": "stream",
     "text": [
      "<class 'pandas.core.frame.DataFrame'>\n",
      "Int64Index: 2073 entries, 0 to 2072\n",
      "Data columns (total 26 columns):\n",
      "tweet_id                      2073 non-null int64\n",
      "in_reply_to_status_id         23 non-null float64\n",
      "in_reply_to_user_id           23 non-null float64\n",
      "timestamp                     2073 non-null object\n",
      "source                        2073 non-null object\n",
      "text                          2073 non-null object\n",
      "retweeted_status_id           79 non-null float64\n",
      "retweeted_status_user_id      79 non-null float64\n",
      "retweeted_status_timestamp    79 non-null object\n",
      "expanded_urls                 2073 non-null object\n",
      "rating_numerator              2073 non-null int64\n",
      "rating_denominator            2073 non-null int64\n",
      "name                          2073 non-null object\n",
      "jpg_url                       2073 non-null object\n",
      "p1                            2073 non-null object\n",
      "p1_conf                       2073 non-null float64\n",
      "p1_dog                        2073 non-null bool\n",
      "p2                            2073 non-null object\n",
      "p2_conf                       2073 non-null float64\n",
      "p2_dog                        2073 non-null bool\n",
      "p3                            2073 non-null object\n",
      "p3_conf                       2073 non-null float64\n",
      "p3_dog                        2073 non-null bool\n",
      "favorite_count                2073 non-null int64\n",
      "retweet_count                 2073 non-null int64\n",
      "dog_type                      2073 non-null object\n",
      "dtypes: bool(3), float64(7), int64(5), object(11)\n",
      "memory usage: 394.8+ KB\n"
     ]
    }
   ],
   "source": [
    "# Task 1: Data Wrangling (cleaning Data) Cell 2/3\n",
    "#Tidiness issues solution\n",
    "\n",
    "#First: Combine dog_type to one column\n",
    "#Remove None keyword\n",
    "df_clean.loc[df_clean.doggo == 'None', 'doggo'] = ' '\n",
    "df_clean.loc[df_clean.floofer == 'None', 'floofer'] = ' '\n",
    "df_clean.loc[df_clean.pupper == 'None', 'pupper'] = ' '\n",
    "df_clean.loc[df_clean.puppo == 'None', 'puppo'] = ' '\n",
    "\n",
    "#Combine the columns\n",
    "df_clean['dog_type'] = df_clean.doggo+' '+df_clean.floofer+' '+df_clean.pupper+' '+df_clean.puppo\n",
    "df_clean['dog_type'] = df_clean['dog_type'].str.strip()\n",
    "df_clean['dog_type'] = df_clean['dog_type'].replace(\"  \", \" \")\n",
    "df_clean['dog_type'] = df_clean['dog_type'].replace(\"\", \"None\")\n",
    "\n",
    "#Remove Unnessecary columns\n",
    "del df_clean['doggo']\n",
    "del df_clean['floofer']\n",
    "del df_clean['pupper']\n",
    "del df_clean['puppo']\n",
    "\n",
    "#Second: remove img_num column\n",
    "del df_clean['img_num']\n",
    "df_clean.info()"
   ]
  },
  {
   "cell_type": "code",
   "execution_count": 51,
   "metadata": {},
   "outputs": [
    {
     "name": "stdout",
     "output_type": "stream",
     "text": [
      "<class 'pandas.core.frame.DataFrame'>\n",
      "Int64Index: 1994 entries, 0 to 2072\n",
      "Data columns (total 14 columns):\n",
      "tweet_id                 1994 non-null object\n",
      "timestamp                1994 non-null datetime64[ns]\n",
      "source                   1994 non-null object\n",
      "text                     1994 non-null object\n",
      "expanded_urls            1994 non-null object\n",
      "rating_numerator         1994 non-null int64\n",
      "rating_denominator       1994 non-null int64\n",
      "name                     1994 non-null object\n",
      "jpg_url                  1994 non-null object\n",
      "favorite_count           1994 non-null int64\n",
      "retweet_count            1994 non-null int64\n",
      "dog_type                 1994 non-null object\n",
      "prediction               1994 non-null object\n",
      "prediction_confidence    1994 non-null float64\n",
      "dtypes: datetime64[ns](1), float64(1), int64(4), object(8)\n",
      "memory usage: 233.7+ KB\n"
     ]
    }
   ],
   "source": [
    "# Task 1: Data Wrangling (cleaning Data) Cell 3/3\n",
    "#Quality issues solution\n",
    "\n",
    "#First: Delete Retweets:\n",
    "df_clean = df_clean[pd.isnull(df_clean.retweeted_status_id)]\n",
    "\n",
    "#Second: Delete tweets Without pictures:\n",
    "df_clean = df_clean.dropna(subset = ['jpg_url'])\n",
    "\n",
    "#Third: Delete duplicated tweet_id:\n",
    "df_clean = df_clean.drop_duplicates()\n",
    "\n",
    "#Fourth: Remove Unnessecary columns after retweet delete:\n",
    "del df_clean['retweeted_status_timestamp']\n",
    "del df_clean['retweeted_status_id']\n",
    "del df_clean['retweeted_status_user_id']\n",
    "\n",
    "#Fifth: Get 1 predection only:\n",
    "prediction = []\n",
    "prediction_confidence = []\n",
    "\n",
    "def prediction_function(dataframe):\n",
    "    if dataframe['p1_dog'] == True:\n",
    "        prediction.append(dataframe['p1'])\n",
    "        prediction_confidence.append(dataframe['p1_conf'])\n",
    "    elif dataframe['p2_dog'] == True:\n",
    "        prediction.append(dataframe['p2'])\n",
    "        prediction_confidence.append(dataframe['p2_conf'])\n",
    "    elif dataframe['p3_dog'] == True:\n",
    "        prediction.append(dataframe['p3'])\n",
    "        prediction_confidence.append(dataframe['p3_conf'])\n",
    "    else:\n",
    "        prediction.append('Not A Dog')\n",
    "        prediction_confidence.append(1)\n",
    "\n",
    "df_clean.apply(prediction_function, axis=1)\n",
    "df_clean['prediction'] = prediction\n",
    "df_clean['prediction_confidence'] = prediction_confidence\n",
    "\n",
    "#Sixth: Remove Unnessecary columns after multiple predictions removing:\n",
    "del df_clean['p1_dog']\n",
    "del df_clean['p2_dog']\n",
    "del df_clean['p3_dog']\n",
    "del df_clean['p1_conf']\n",
    "del df_clean['p2_conf']\n",
    "del df_clean['p3_conf']\n",
    "del df_clean['p1']\n",
    "del df_clean['p2']\n",
    "del df_clean['p3']\n",
    "\n",
    "#Seventh: Remove colums with NaN values:\n",
    "del df_clean['in_reply_to_status_id']\n",
    "del df_clean['in_reply_to_user_id']\n",
    "\n",
    "#eight: change timestamps datatype from object to datetime\n",
    "df_clean['timestamp']=pd.to_datetime(df_clean['timestamp'])\n",
    "\n",
    "#ninth: Change id datatypes to strings\n",
    "df_clean['tweet_id'] = df_clean['tweet_id'].astype(str)\n",
    "\n",
    "df_clean.info()"
   ]
  },
  {
   "cell_type": "code",
   "execution_count": 65,
   "metadata": {},
   "outputs": [
    {
     "name": "stdout",
     "output_type": "stream",
     "text": [
      "The shape of the data = (1994, 14)\n",
      "Summary Descriptive Statistics:\n",
      "           tweet_id  rating_numerator  rating_denominator  favorite_count  \\\n",
      "count  1.994000e+03       1994.000000         1994.000000     1994.000000   \n",
      "mean   7.358508e+17         12.280843           10.532096     8895.725677   \n",
      "std    6.747816e+16         41.497718            7.320710    12213.193181   \n",
      "min    6.660209e+17          0.000000            2.000000       81.000000   \n",
      "25%    6.758475e+17         10.000000           10.000000     1982.000000   \n",
      "50%    7.084748e+17         11.000000           10.000000     4136.000000   \n",
      "75%    7.877873e+17         12.000000           10.000000    11308.000000   \n",
      "max    8.924206e+17       1776.000000          170.000000   132810.000000   \n",
      "\n",
      "       retweet_count  prediction_confidence  \n",
      "count    1994.000000            1994.000000  \n",
      "mean     2766.753260               0.619454  \n",
      "std      4674.698447               0.319672  \n",
      "min        16.000000               0.000010  \n",
      "25%       624.750000               0.349828  \n",
      "50%      1359.500000               0.656540  \n",
      "75%      3220.000000               0.948670  \n",
      "max     79515.000000               1.000000  \n"
     ]
    }
   ],
   "source": [
    "# Task 2:Storing, analyzing, and visualizing data Cell 1/5\n",
    "#Firstly: Store Data\n",
    "df_clean.to_csv('df_clean.csv', index=False)\n",
    "\n",
    "#Secondly: Analyze Data\n",
    "df = pd.read_csv('df_clean.csv')\n",
    "print('The shape of the data = {}'.format(df.shape))\n",
    "print('Summary Descriptive Statistics:')\n",
    "print(df.describe())\n"
   ]
  },
  {
   "cell_type": "code",
   "execution_count": 66,
   "metadata": {},
   "outputs": [
    {
     "data": {
      "text/plain": [
       "Text(0.5,1,'Most predicted Dog')"
      ]
     },
     "execution_count": 66,
     "metadata": {},
     "output_type": "execute_result"
    },
    {
     "data": {
      "image/png": "[encoded data removed]",
      "text/plain": [
       "<matplotlib.figure.Figure at 0x7fb747a8a240>"
      ]
     },
     "metadata": {},
     "output_type": "display_data"
    }
   ],
   "source": [
    "# Task 2:Storing, analyzing, and visualizing data Cell 2/5\n",
    "#Visualizing data\n",
    "\n",
    "#Question 1: What is the most predicted dog?\n",
    "#Remove very rare dog types\n",
    "Popular_Dogs = df['prediction'].value_counts()\n",
    "Popular_Dogs[Popular_Dogs > 50].plot(kind='pie',autopct='%1.1f%%');\n",
    "plt.title('Most predicted Dog')"
   ]
  },
  {
   "cell_type": "code",
   "execution_count": 67,
   "metadata": {},
   "outputs": [
    {
     "data": {
      "text/plain": [
       "Text(0.5,1,'Most Dog Type')"
      ]
     },
     "execution_count": 67,
     "metadata": {},
     "output_type": "execute_result"
    },
    {
     "data": {
      "image/png": "[encoded data removed]",
      "text/plain": [
       "<matplotlib.figure.Figure at 0x7fb747d73390>"
      ]
     },
     "metadata": {},
     "output_type": "display_data"
    }
   ],
   "source": [
    "# Task 2:Storing, analyzing, and visualizing data Cell 3/5\n",
    "#Visualizing data\n",
    "\n",
    "#Question 2: What is the most common dog type?\n",
    "df['dog_type'].value_counts()\n",
    "Dogs_Types = df['dog_type'].value_counts()\n",
    "Dogs_Types.drop('None').plot(kind='pie',autopct='%1.1f%%');\n",
    "plt.title('Most Dog Type')"
   ]
  },
  {
   "cell_type": "code",
   "execution_count": 68,
   "metadata": {},
   "outputs": [
    {
     "data": {
      "text/plain": [
       "Text(0.5,1,'Dog Types Vs. mean Ratings')"
      ]
     },
     "execution_count": 68,
     "metadata": {},
     "output_type": "execute_result"
    },
    {
     "data": {
      "image/png": "[encoded data removed]",
      "text/plain": [
       "<matplotlib.figure.Figure at 0x7fb747b83080>"
      ]
     },
     "metadata": {
      "needs_background": "light"
     },
     "output_type": "display_data"
    }
   ],
   "source": [
    "# Task 2:Storing, analyzing, and visualizing data Cell 4/5\n",
    "#Visualizing data\n",
    "\n",
    "#Question 3: which dog type has the highest average ratings?\n",
    "mean_ratings = df.groupby('dog_type')['rating_numerator'].mean()\n",
    "mean_ratings.drop('None').plot(kind='bar');\n",
    "plt.title('Dog Types Vs. mean Ratings')"
   ]
  },
  {
   "cell_type": "code",
   "execution_count": 69,
   "metadata": {},
   "outputs": [
    {
     "data": {
      "text/plain": [
       "Text(0.5,1,'Dog Types Vs. max Ratings')"
      ]
     },
     "execution_count": 69,
     "metadata": {},
     "output_type": "execute_result"
    },
    {
     "data": {
      "image/png": "[encoded data removed]",
      "text/plain": [
       "<matplotlib.figure.Figure at 0x7fb7479ec3c8>"
      ]
     },
     "metadata": {
      "needs_background": "light"
     },
     "output_type": "display_data"
    }
   ],
   "source": [
    "# Task 2:Storing, analyzing, and visualizing data Cell 5/5\n",
    "#Visualizing data\n",
    "\n",
    "#Question 4: which dog type has the highest maximim ratings?\n",
    "max_ratings = df.groupby('dog_type')['rating_numerator'].max()\n",
    "max_ratings.drop('None').plot(kind='bar');\n",
    "plt.title('Dog Types Vs. max Ratings')"
   ]
  },
  {
   "cell_type": "code",
   "execution_count": null,
   "metadata": {},
   "outputs": [],
   "source": []
  }
 ],
 "metadata": {
  "kernelspec": {
   "display_name": "Python 3",
   "language": "python",
   "name": "python3"
  },
  "language_info": {
   "codemirror_mode": {
    "name": "ipython",
    "version": 3
   },
   "file_extension": ".py",
   "mimetype": "text/x-python",
   "name": "python",
   "nbconvert_exporter": "python",
   "pygments_lexer": "ipython3",
   "version": "3.6.3"
  }
 },
 "nbformat": 4,
 "nbformat_minor": 2
}
