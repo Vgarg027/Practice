{
 "cells": [
  {
   "cell_type": "markdown",
   "id": "3d631f8c",
   "metadata": {},
   "source": [
    "# Project 2: Wrangling and Analyzing Data From We Rate Dogs Twitter Page"
   ]
  },
  {
   "cell_type": "markdown",
   "id": "59a80585",
   "metadata": {},
   "source": [
    "## Data Gathering\n",
    "Gathering **all** three pieces of data for this project and load them in the notebook. \n",
    "1. Directly download the WeRateDogs Twitter archive data (twitter_archive_enhanced.csv) and read into a dataframe"
   ]
  },
  {
   "cell_type": "code",
   "execution_count": 14,
   "id": "d433f5fc",
   "metadata": {},
   "outputs": [],
   "source": [
    "# Import necessary libraries\n",
    "import numpy as np\n",
    "import pandas as pd\n",
    "import matplotlib.pyplot as plt\n",
    "import seaborn as sns\n",
    "pd.set_option('display.max_rows', 500)\n",
    "pd.set_option('display.width', 1000)\n",
    "pd.set_option('display.max_columns', 500)\n",
    "import requests\n",
    "import tweepy\n",
    "import json\n",
    "from timeit import default_timer as timer"
   ]
  },
  {
   "cell_type": "code",
   "execution_count": 126,
   "id": "b7ed47b0",
   "metadata": {},
   "outputs": [],
   "source": [
    "import warnings\n",
    "warnings.simplefilter(action=\"ignore\", category=UserWarning)\n",
    "warnings.simplefilter(action=\"ignore\", category=FutureWarning)"
   ]
  },
  {
   "cell_type": "code",
   "execution_count": 16,
   "id": "57f9151f",
   "metadata": {},
   "outputs": [
    {
     "data": {
      "text/html": [
       "<div>\n",
       "<style scoped>\n",
       "    .dataframe tbody tr th:only-of-type {\n",
       "        vertical-align: middle;\n",
       "    }\n",
       "\n",
       "    .dataframe tbody tr th {\n",
       "        vertical-align: top;\n",
       "    }\n",
       "\n",
       "    .dataframe thead th {\n",
       "        text-align: right;\n",
       "    }\n",
       "</style>\n",
       "<table border=\"1\" class=\"dataframe\">\n",
       "  <thead>\n",
       "    <tr style=\"text-align: right;\">\n",
       "      <th></th>\n",
       "      <th>tweet_id</th>\n",
       "      <th>in_reply_to_status_id</th>\n",
       "      <th>in_reply_to_user_id</th>\n",
       "      <th>timestamp</th>\n",
       "      <th>source</th>\n",
       "      <th>text</th>\n",
       "      <th>retweeted_status_id</th>\n",
       "      <th>retweeted_status_user_id</th>\n",
       "      <th>retweeted_status_timestamp</th>\n",
       "      <th>expanded_urls</th>\n",
       "      <th>rating_numerator</th>\n",
       "      <th>rating_denominator</th>\n",
       "      <th>name</th>\n",
       "      <th>doggo</th>\n",
       "      <th>floofer</th>\n",
       "      <th>pupper</th>\n",
       "      <th>puppo</th>\n",
       "    </tr>\n",
       "  </thead>\n",
       "  <tbody>\n",
       "    <tr>\n",
       "      <th>0</th>\n",
       "      <td>892420643555336193</td>\n",
       "      <td>NaN</td>\n",
       "      <td>NaN</td>\n",
       "      <td>2017-08-01 16:23:56 +0000</td>\n",
       "      <td>&lt;a href=\"http://twitter.com/download/iphone\" r...</td>\n",
       "      <td>This is Phineas. He's a mystical boy. Only eve...</td>\n",
       "      <td>NaN</td>\n",
       "      <td>NaN</td>\n",
       "      <td>NaN</td>\n",
       "      <td>https://twitter.com/dog_rates/status/892420643...</td>\n",
       "      <td>13</td>\n",
       "      <td>10</td>\n",
       "      <td>Phineas</td>\n",
       "      <td>None</td>\n",
       "      <td>None</td>\n",
       "      <td>None</td>\n",
       "      <td>None</td>\n",
       "    </tr>\n",
       "    <tr>\n",
       "      <th>1</th>\n",
       "      <td>892177421306343426</td>\n",
       "      <td>NaN</td>\n",
       "      <td>NaN</td>\n",
       "      <td>2017-08-01 00:17:27 +0000</td>\n",
       "      <td>&lt;a href=\"http://twitter.com/download/iphone\" r...</td>\n",
       "      <td>This is Tilly. She's just checking pup on you....</td>\n",
       "      <td>NaN</td>\n",
       "      <td>NaN</td>\n",
       "      <td>NaN</td>\n",
       "      <td>https://twitter.com/dog_rates/status/892177421...</td>\n",
       "      <td>13</td>\n",
       "      <td>10</td>\n",
       "      <td>Tilly</td>\n",
       "      <td>None</td>\n",
       "      <td>None</td>\n",
       "      <td>None</td>\n",
       "      <td>None</td>\n",
       "    </tr>\n",
       "    <tr>\n",
       "      <th>2</th>\n",
       "      <td>891815181378084864</td>\n",
       "      <td>NaN</td>\n",
       "      <td>NaN</td>\n",
       "      <td>2017-07-31 00:18:03 +0000</td>\n",
       "      <td>&lt;a href=\"http://twitter.com/download/iphone\" r...</td>\n",
       "      <td>This is Archie. He is a rare Norwegian Pouncin...</td>\n",
       "      <td>NaN</td>\n",
       "      <td>NaN</td>\n",
       "      <td>NaN</td>\n",
       "      <td>https://twitter.com/dog_rates/status/891815181...</td>\n",
       "      <td>12</td>\n",
       "      <td>10</td>\n",
       "      <td>Archie</td>\n",
       "      <td>None</td>\n",
       "      <td>None</td>\n",
       "      <td>None</td>\n",
       "      <td>None</td>\n",
       "    </tr>\n",
       "    <tr>\n",
       "      <th>3</th>\n",
       "      <td>891689557279858688</td>\n",
       "      <td>NaN</td>\n",
       "      <td>NaN</td>\n",
       "      <td>2017-07-30 15:58:51 +0000</td>\n",
       "      <td>&lt;a href=\"http://twitter.com/download/iphone\" r...</td>\n",
       "      <td>This is Darla. She commenced a snooze mid meal...</td>\n",
       "      <td>NaN</td>\n",
       "      <td>NaN</td>\n",
       "      <td>NaN</td>\n",
       "      <td>https://twitter.com/dog_rates/status/891689557...</td>\n",
       "      <td>13</td>\n",
       "      <td>10</td>\n",
       "      <td>Darla</td>\n",
       "      <td>None</td>\n",
       "      <td>None</td>\n",
       "      <td>None</td>\n",
       "      <td>None</td>\n",
       "    </tr>\n",
       "    <tr>\n",
       "      <th>4</th>\n",
       "      <td>891327558926688256</td>\n",
       "      <td>NaN</td>\n",
       "      <td>NaN</td>\n",
       "      <td>2017-07-29 16:00:24 +0000</td>\n",
       "      <td>&lt;a href=\"http://twitter.com/download/iphone\" r...</td>\n",
       "      <td>This is Franklin. He would like you to stop ca...</td>\n",
       "      <td>NaN</td>\n",
       "      <td>NaN</td>\n",
       "      <td>NaN</td>\n",
       "      <td>https://twitter.com/dog_rates/status/891327558...</td>\n",
       "      <td>12</td>\n",
       "      <td>10</td>\n",
       "      <td>Franklin</td>\n",
       "      <td>None</td>\n",
       "      <td>None</td>\n",
       "      <td>None</td>\n",
       "      <td>None</td>\n",
       "    </tr>\n",
       "  </tbody>\n",
       "</table>\n",
       "</div>"
      ],
      "text/plain": [
       "             tweet_id  in_reply_to_status_id  in_reply_to_user_id                  timestamp                                             source                                               text  retweeted_status_id  retweeted_status_user_id retweeted_status_timestamp                                      expanded_urls  rating_numerator  rating_denominator      name doggo floofer pupper puppo\n",
       "0  892420643555336193                    NaN                  NaN  2017-08-01 16:23:56 +0000  <a href=\"http://twitter.com/download/iphone\" r...  This is Phineas. He's a mystical boy. Only eve...                  NaN                       NaN                        NaN  https://twitter.com/dog_rates/status/892420643...                13                  10   Phineas  None    None   None  None\n",
       "1  892177421306343426                    NaN                  NaN  2017-08-01 00:17:27 +0000  <a href=\"http://twitter.com/download/iphone\" r...  This is Tilly. She's just checking pup on you....                  NaN                       NaN                        NaN  https://twitter.com/dog_rates/status/892177421...                13                  10     Tilly  None    None   None  None\n",
       "2  891815181378084864                    NaN                  NaN  2017-07-31 00:18:03 +0000  <a href=\"http://twitter.com/download/iphone\" r...  This is Archie. He is a rare Norwegian Pouncin...                  NaN                       NaN                        NaN  https://twitter.com/dog_rates/status/891815181...                12                  10    Archie  None    None   None  None\n",
       "3  891689557279858688                    NaN                  NaN  2017-07-30 15:58:51 +0000  <a href=\"http://twitter.com/download/iphone\" r...  This is Darla. She commenced a snooze mid meal...                  NaN                       NaN                        NaN  https://twitter.com/dog_rates/status/891689557...                13                  10     Darla  None    None   None  None\n",
       "4  891327558926688256                    NaN                  NaN  2017-07-29 16:00:24 +0000  <a href=\"http://twitter.com/download/iphone\" r...  This is Franklin. He would like you to stop ca...                  NaN                       NaN                        NaN  https://twitter.com/dog_rates/status/891327558...                12                  10  Franklin  None    None   None  None"
      ]
     },
     "execution_count": 16,
     "metadata": {},
     "output_type": "execute_result"
    }
   ],
   "source": [
    "# Reading the twitter-archive-enhanced into a DataFrame and inspecting\n",
    "twitter_archive = pd.read_csv(r'twitter-archive-enhanced.csv')\n",
    "twitter_archive.head()"
   ]
  },
  {
   "cell_type": "markdown",
   "id": "d4a5a36e",
   "metadata": {},
   "source": [
    "2. Use the Requests library to download the tweet image prediction (image_predictions.tsv) and read it into a dataframe"
   ]
  },
  {
   "cell_type": "code",
   "execution_count": 17,
   "id": "c721aae3",
   "metadata": {},
   "outputs": [],
   "source": [
    "# Download the image_predictions.tsv file programmatically\n",
    "url =  'https://d17h27t6h515a5.cloudfront.net/topher/2017/August/599fd2ad_image-predictions/image-predictions.tsv'\n",
    "response = requests.get(url)\n",
    "file_name = 'image_prediction.tsv'\n",
    "# Write content of url into a file\n",
    "with open(file_name, mode='wb') as file:\n",
    "    file.write(response.content)"
   ]
  },
  {
   "cell_type": "code",
   "execution_count": 18,
   "id": "6cc3d58c",
   "metadata": {},
   "outputs": [
    {
     "data": {
      "text/plain": [
       "(2075, 12)"
      ]
     },
     "execution_count": 18,
     "metadata": {},
     "output_type": "execute_result"
    }
   ],
   "source": [
    "# Read the contents of the tsv file\n",
    "image_prediction = pd.read_csv(r'image_prediction.tsv', sep='\\t')\n",
    "image_prediction.shape"
   ]
  },
  {
   "cell_type": "code",
   "execution_count": 9,
   "id": "57868001",
   "metadata": {},
   "outputs": [
    {
     "data": {
      "text/plain": [
       "2356"
      ]
     },
     "execution_count": 9,
     "metadata": {},
     "output_type": "execute_result"
    }
   ],
   "source": [
    "# Checking to see if tweet_ids in both data frame match and getting tweet_id values\n",
    "twitter_archive['tweet_id'].isin(image_prediction['tweet_id']).sum()\n",
    "tweet_ids = twitter_archive['tweet_id'].values\n",
    "len(tweet_ids)"
   ]
  },
  {
   "cell_type": "markdown",
   "id": "0e274d25",
   "metadata": {},
   "source": [
    "3. Use the Tweepy library to query additional data via the Twitter API (tweet_json.txt) and rfead it into a DataFrame"
   ]
  },
  {
   "cell_type": "code",
   "execution_count": 12,
   "id": "fd2e3866",
   "metadata": {},
   "outputs": [],
   "source": [
    "# Use the Tweepy library to query additional data via the Twitter API\n",
    "consumer_key = 'HIDDEN'\n",
    "consumer_secret = 'HIDDEN'\n",
    "access_token = 'HIDDEN'\n",
    "access_secret = 'HIDDEN'\n",
    "\n",
    "auth = tweepy.OAuthHandler(consumer_key, consumer_secret)\n",
    "auth.set_access_token(access_token, access_secret)\n",
    "\n",
    "api = tweepy.API(auth, wait_on_rate_limit=True)"
   ]
  },
  {
   "cell_type": "code",
   "execution_count": 13,
   "id": "58c37ea5",
   "metadata": {},
   "outputs": [],
   "source": [
    "# Query Twitter's API for JSON data for each tweet ID in the Twitter archive\n",
    "count = 0\n",
    "fails_dict = {}\n",
    "start = timer()\n",
    "# Save each tweet's returned JSON as a new line in a .txt file\n",
    "with open('tweet_json.txt', 'w') as outfile:\n",
    "    # This loop will likely take 20-30 minutes to run because of Twitter's rate limit\n",
    "    for tweet_id in tweet_ids:\n",
    "        count += 1\n",
    "        print(str(count) + \": \" + str(tweet_id))\n",
    "        try:\n",
    "            tweet = api.get_status(tweet_id, tweet_mode='extended')\n",
    "            print(\"Success\")\n",
    "            json.dump(tweet._json, outfile)\n",
    "            outfile.write('\\n')\n",
    "        except tweepy.errors.TweepyException as e:\n",
    "            print(\"Fail\")\n",
    "            fails_dict[tweet_id] = e\n",
    "            pass\n",
    "end = timer()\n",
    "print(end - start)\n",
    "print(fails_dict)"
   ]
  },
  {
   "cell_type": "code",
   "execution_count": 23,
   "id": "a845e627",
   "metadata": {},
   "outputs": [
    {
     "data": {
      "text/html": [
       "<div>\n",
       "<style scoped>\n",
       "    .dataframe tbody tr th:only-of-type {\n",
       "        vertical-align: middle;\n",
       "    }\n",
       "\n",
       "    .dataframe tbody tr th {\n",
       "        vertical-align: top;\n",
       "    }\n",
       "\n",
       "    .dataframe thead th {\n",
       "        text-align: right;\n",
       "    }\n",
       "</style>\n",
       "<table border=\"1\" class=\"dataframe\">\n",
       "  <thead>\n",
       "    <tr style=\"text-align: right;\">\n",
       "      <th></th>\n",
       "      <th>created_at</th>\n",
       "      <th>id</th>\n",
       "      <th>id_str</th>\n",
       "      <th>full_text</th>\n",
       "      <th>truncated</th>\n",
       "      <th>display_text_range</th>\n",
       "      <th>entities</th>\n",
       "      <th>extended_entities</th>\n",
       "      <th>source</th>\n",
       "      <th>in_reply_to_status_id</th>\n",
       "      <th>in_reply_to_status_id_str</th>\n",
       "      <th>in_reply_to_user_id</th>\n",
       "      <th>in_reply_to_user_id_str</th>\n",
       "      <th>in_reply_to_screen_name</th>\n",
       "      <th>user</th>\n",
       "      <th>geo</th>\n",
       "      <th>coordinates</th>\n",
       "      <th>place</th>\n",
       "      <th>contributors</th>\n",
       "      <th>is_quote_status</th>\n",
       "      <th>retweet_count</th>\n",
       "      <th>favorite_count</th>\n",
       "      <th>favorited</th>\n",
       "      <th>retweeted</th>\n",
       "      <th>possibly_sensitive</th>\n",
       "      <th>possibly_sensitive_appealable</th>\n",
       "      <th>lang</th>\n",
       "      <th>retweeted_status</th>\n",
       "      <th>quoted_status_id</th>\n",
       "      <th>quoted_status_id_str</th>\n",
       "      <th>quoted_status_permalink</th>\n",
       "      <th>quoted_status</th>\n",
       "    </tr>\n",
       "  </thead>\n",
       "  <tbody>\n",
       "    <tr>\n",
       "      <th>0</th>\n",
       "      <td>2017-08-01 00:17:27+00:00</td>\n",
       "      <td>892177421306343426</td>\n",
       "      <td>892177421306343424</td>\n",
       "      <td>This is Tilly. She's just checking pup on you....</td>\n",
       "      <td>False</td>\n",
       "      <td>[0, 138]</td>\n",
       "      <td>{'hashtags': [], 'symbols': [], 'user_mentions...</td>\n",
       "      <td>{'media': [{'id': 892177413194625024, 'id_str'...</td>\n",
       "      <td>&lt;a href=\"http://twitter.com/download/iphone\" r...</td>\n",
       "      <td>NaN</td>\n",
       "      <td>NaN</td>\n",
       "      <td>NaN</td>\n",
       "      <td>NaN</td>\n",
       "      <td>None</td>\n",
       "      <td>{'id': 4196983835, 'id_str': '4196983835', 'na...</td>\n",
       "      <td>NaN</td>\n",
       "      <td>NaN</td>\n",
       "      <td>None</td>\n",
       "      <td>NaN</td>\n",
       "      <td>False</td>\n",
       "      <td>5302</td>\n",
       "      <td>29345</td>\n",
       "      <td>False</td>\n",
       "      <td>False</td>\n",
       "      <td>0.0</td>\n",
       "      <td>0.0</td>\n",
       "      <td>en</td>\n",
       "      <td>NaN</td>\n",
       "      <td>NaN</td>\n",
       "      <td>NaN</td>\n",
       "      <td>NaN</td>\n",
       "      <td>NaN</td>\n",
       "    </tr>\n",
       "    <tr>\n",
       "      <th>1</th>\n",
       "      <td>2017-07-31 00:18:03+00:00</td>\n",
       "      <td>891815181378084864</td>\n",
       "      <td>891815181378084864</td>\n",
       "      <td>This is Archie. He is a rare Norwegian Pouncin...</td>\n",
       "      <td>False</td>\n",
       "      <td>[0, 121]</td>\n",
       "      <td>{'hashtags': [], 'symbols': [], 'user_mentions...</td>\n",
       "      <td>{'media': [{'id': 891815175371796480, 'id_str'...</td>\n",
       "      <td>&lt;a href=\"http://twitter.com/download/iphone\" r...</td>\n",
       "      <td>NaN</td>\n",
       "      <td>NaN</td>\n",
       "      <td>NaN</td>\n",
       "      <td>NaN</td>\n",
       "      <td>None</td>\n",
       "      <td>{'id': 4196983835, 'id_str': '4196983835', 'na...</td>\n",
       "      <td>NaN</td>\n",
       "      <td>NaN</td>\n",
       "      <td>None</td>\n",
       "      <td>NaN</td>\n",
       "      <td>False</td>\n",
       "      <td>3483</td>\n",
       "      <td>22069</td>\n",
       "      <td>False</td>\n",
       "      <td>False</td>\n",
       "      <td>0.0</td>\n",
       "      <td>0.0</td>\n",
       "      <td>en</td>\n",
       "      <td>NaN</td>\n",
       "      <td>NaN</td>\n",
       "      <td>NaN</td>\n",
       "      <td>NaN</td>\n",
       "      <td>NaN</td>\n",
       "    </tr>\n",
       "    <tr>\n",
       "      <th>2</th>\n",
       "      <td>2017-07-30 15:58:51+00:00</td>\n",
       "      <td>891689557279858688</td>\n",
       "      <td>891689557279858688</td>\n",
       "      <td>This is Darla. She commenced a snooze mid meal...</td>\n",
       "      <td>False</td>\n",
       "      <td>[0, 79]</td>\n",
       "      <td>{'hashtags': [], 'symbols': [], 'user_mentions...</td>\n",
       "      <td>{'media': [{'id': 891689552724799489, 'id_str'...</td>\n",
       "      <td>&lt;a href=\"http://twitter.com/download/iphone\" r...</td>\n",
       "      <td>NaN</td>\n",
       "      <td>NaN</td>\n",
       "      <td>NaN</td>\n",
       "      <td>NaN</td>\n",
       "      <td>None</td>\n",
       "      <td>{'id': 4196983835, 'id_str': '4196983835', 'na...</td>\n",
       "      <td>NaN</td>\n",
       "      <td>NaN</td>\n",
       "      <td>None</td>\n",
       "      <td>NaN</td>\n",
       "      <td>False</td>\n",
       "      <td>7229</td>\n",
       "      <td>36957</td>\n",
       "      <td>False</td>\n",
       "      <td>False</td>\n",
       "      <td>0.0</td>\n",
       "      <td>0.0</td>\n",
       "      <td>en</td>\n",
       "      <td>NaN</td>\n",
       "      <td>NaN</td>\n",
       "      <td>NaN</td>\n",
       "      <td>NaN</td>\n",
       "      <td>NaN</td>\n",
       "    </tr>\n",
       "    <tr>\n",
       "      <th>3</th>\n",
       "      <td>2017-07-29 16:00:24+00:00</td>\n",
       "      <td>891327558926688256</td>\n",
       "      <td>891327558926688256</td>\n",
       "      <td>This is Franklin. He would like you to stop ca...</td>\n",
       "      <td>False</td>\n",
       "      <td>[0, 138]</td>\n",
       "      <td>{'hashtags': [{'text': 'BarkWeek', 'indices': ...</td>\n",
       "      <td>{'media': [{'id': 891327551943041024, 'id_str'...</td>\n",
       "      <td>&lt;a href=\"http://twitter.com/download/iphone\" r...</td>\n",
       "      <td>NaN</td>\n",
       "      <td>NaN</td>\n",
       "      <td>NaN</td>\n",
       "      <td>NaN</td>\n",
       "      <td>None</td>\n",
       "      <td>{'id': 4196983835, 'id_str': '4196983835', 'na...</td>\n",
       "      <td>NaN</td>\n",
       "      <td>NaN</td>\n",
       "      <td>None</td>\n",
       "      <td>NaN</td>\n",
       "      <td>False</td>\n",
       "      <td>7768</td>\n",
       "      <td>35329</td>\n",
       "      <td>False</td>\n",
       "      <td>False</td>\n",
       "      <td>0.0</td>\n",
       "      <td>0.0</td>\n",
       "      <td>en</td>\n",
       "      <td>NaN</td>\n",
       "      <td>NaN</td>\n",
       "      <td>NaN</td>\n",
       "      <td>NaN</td>\n",
       "      <td>NaN</td>\n",
       "    </tr>\n",
       "    <tr>\n",
       "      <th>4</th>\n",
       "      <td>2017-07-29 00:08:17+00:00</td>\n",
       "      <td>891087950875897856</td>\n",
       "      <td>891087950875897856</td>\n",
       "      <td>Here we have a majestic great white breaching ...</td>\n",
       "      <td>False</td>\n",
       "      <td>[0, 138]</td>\n",
       "      <td>{'hashtags': [{'text': 'BarkWeek', 'indices': ...</td>\n",
       "      <td>{'media': [{'id': 891087942176911360, 'id_str'...</td>\n",
       "      <td>&lt;a href=\"http://twitter.com/download/iphone\" r...</td>\n",
       "      <td>NaN</td>\n",
       "      <td>NaN</td>\n",
       "      <td>NaN</td>\n",
       "      <td>NaN</td>\n",
       "      <td>None</td>\n",
       "      <td>{'id': 4196983835, 'id_str': '4196983835', 'na...</td>\n",
       "      <td>NaN</td>\n",
       "      <td>NaN</td>\n",
       "      <td>None</td>\n",
       "      <td>NaN</td>\n",
       "      <td>False</td>\n",
       "      <td>2602</td>\n",
       "      <td>17820</td>\n",
       "      <td>False</td>\n",
       "      <td>False</td>\n",
       "      <td>0.0</td>\n",
       "      <td>0.0</td>\n",
       "      <td>en</td>\n",
       "      <td>NaN</td>\n",
       "      <td>NaN</td>\n",
       "      <td>NaN</td>\n",
       "      <td>NaN</td>\n",
       "      <td>NaN</td>\n",
       "    </tr>\n",
       "  </tbody>\n",
       "</table>\n",
       "</div>"
      ],
      "text/plain": [
       "                 created_at                  id              id_str                                          full_text  truncated display_text_range                                           entities                                  extended_entities                                             source  in_reply_to_status_id  in_reply_to_status_id_str  in_reply_to_user_id  in_reply_to_user_id_str in_reply_to_screen_name                                               user  geo  coordinates place  contributors  is_quote_status  retweet_count  favorite_count  favorited  retweeted  possibly_sensitive  possibly_sensitive_appealable lang retweeted_status  quoted_status_id  quoted_status_id_str quoted_status_permalink quoted_status\n",
       "0 2017-08-01 00:17:27+00:00  892177421306343426  892177421306343424  This is Tilly. She's just checking pup on you....      False           [0, 138]  {'hashtags': [], 'symbols': [], 'user_mentions...  {'media': [{'id': 892177413194625024, 'id_str'...  <a href=\"http://twitter.com/download/iphone\" r...                    NaN                        NaN                  NaN                      NaN                    None  {'id': 4196983835, 'id_str': '4196983835', 'na...  NaN          NaN  None           NaN            False           5302           29345      False      False                 0.0                            0.0   en              NaN               NaN                   NaN                     NaN           NaN\n",
       "1 2017-07-31 00:18:03+00:00  891815181378084864  891815181378084864  This is Archie. He is a rare Norwegian Pouncin...      False           [0, 121]  {'hashtags': [], 'symbols': [], 'user_mentions...  {'media': [{'id': 891815175371796480, 'id_str'...  <a href=\"http://twitter.com/download/iphone\" r...                    NaN                        NaN                  NaN                      NaN                    None  {'id': 4196983835, 'id_str': '4196983835', 'na...  NaN          NaN  None           NaN            False           3483           22069      False      False                 0.0                            0.0   en              NaN               NaN                   NaN                     NaN           NaN\n",
       "2 2017-07-30 15:58:51+00:00  891689557279858688  891689557279858688  This is Darla. She commenced a snooze mid meal...      False            [0, 79]  {'hashtags': [], 'symbols': [], 'user_mentions...  {'media': [{'id': 891689552724799489, 'id_str'...  <a href=\"http://twitter.com/download/iphone\" r...                    NaN                        NaN                  NaN                      NaN                    None  {'id': 4196983835, 'id_str': '4196983835', 'na...  NaN          NaN  None           NaN            False           7229           36957      False      False                 0.0                            0.0   en              NaN               NaN                   NaN                     NaN           NaN\n",
       "3 2017-07-29 16:00:24+00:00  891327558926688256  891327558926688256  This is Franklin. He would like you to stop ca...      False           [0, 138]  {'hashtags': [{'text': 'BarkWeek', 'indices': ...  {'media': [{'id': 891327551943041024, 'id_str'...  <a href=\"http://twitter.com/download/iphone\" r...                    NaN                        NaN                  NaN                      NaN                    None  {'id': 4196983835, 'id_str': '4196983835', 'na...  NaN          NaN  None           NaN            False           7768           35329      False      False                 0.0                            0.0   en              NaN               NaN                   NaN                     NaN           NaN\n",
       "4 2017-07-29 00:08:17+00:00  891087950875897856  891087950875897856  Here we have a majestic great white breaching ...      False           [0, 138]  {'hashtags': [{'text': 'BarkWeek', 'indices': ...  {'media': [{'id': 891087942176911360, 'id_str'...  <a href=\"http://twitter.com/download/iphone\" r...                    NaN                        NaN                  NaN                      NaN                    None  {'id': 4196983835, 'id_str': '4196983835', 'na...  NaN          NaN  None           NaN            False           2602           17820      False      False                 0.0                            0.0   en              NaN               NaN                   NaN                     NaN           NaN"
      ]
     },
     "execution_count": 23,
     "metadata": {},
     "output_type": "execute_result"
    }
   ],
   "source": [
    "# Read json file into a pandas DataFrame\n",
    "pulled_tweet = pd.read_json('tweet_json.txt', lines=True, encoding ='utf-8')\n",
    "pulled_tweet.head()\n",
    "#pulled_tweet.tail(20)"
   ]
  },
  {
   "cell_type": "code",
   "execution_count": 24,
   "id": "b7b9b5f3",
   "metadata": {},
   "outputs": [],
   "source": [
    "# Make a copy of the pulled_tweet dataframe\n",
    "pulled_tweet_copy = pulled_tweet.copy()"
   ]
  },
  {
   "cell_type": "code",
   "execution_count": 25,
   "id": "a0009cf0",
   "metadata": {},
   "outputs": [
    {
     "name": "stdout",
     "output_type": "stream",
     "text": [
      "<class 'pandas.core.frame.DataFrame'>\n",
      "RangeIndex: 2325 entries, 0 to 2324\n",
      "Data columns (total 3 columns):\n",
      " #   Column          Non-Null Count  Dtype\n",
      "---  ------          --------------  -----\n",
      " 0   id              2325 non-null   int64\n",
      " 1   retweet_count   2325 non-null   int64\n",
      " 2   favorite_count  2325 non-null   int64\n",
      "dtypes: int64(3)\n",
      "memory usage: 54.6 KB\n"
     ]
    }
   ],
   "source": [
    "# Extracting columns needed for analysis only\n",
    "pulled_tweets = pulled_tweet_copy[['id', 'retweet_count', 'favorite_count']]\n",
    "pulled_tweets.info()"
   ]
  },
  {
   "cell_type": "markdown",
   "id": "afc7a904",
   "metadata": {},
   "source": [
    "## Assessing Data\n",
    "Detecting and documenting at least **eight (8) quality issues and two (2) tidiness issue**. Using **both** visual assessment\n",
    "programmatic assessement to assess the data.\n",
    "\n",
    "**Note:** To pay attention to the following key points when accessing the data.\n",
    "\n",
    "* You only want original ratings (no retweets) that have images. Though there are 5000+ tweets in the dataset, not all are dog ratings and some are retweets.\n",
    "* The fact that the rating numerators are greater than the denominators does not need to be cleaned. This [unique rating system](http://knowyourmeme.com/memes/theyre-good-dogs-brent) is a big part of the popularity of WeRateDogs.\n",
    "* You do not need to gather the tweets beyond August 1st, 2017. You can, but note that you won't be able to gather the image predictions for these tweets since you don't have access to the algorithm used.\n",
    "\n"
   ]
  },
  {
   "cell_type": "markdown",
   "id": "bf1fc7fc",
   "metadata": {},
   "source": [
    "### Visual Assessment"
   ]
  },
  {
   "cell_type": "code",
   "execution_count": 26,
   "id": "53cb53cb",
   "metadata": {},
   "outputs": [
    {
     "data": {
      "text/html": [
       "<div>\n",
       "<style scoped>\n",
       "    .dataframe tbody tr th:only-of-type {\n",
       "        vertical-align: middle;\n",
       "    }\n",
       "\n",
       "    .dataframe tbody tr th {\n",
       "        vertical-align: top;\n",
       "    }\n",
       "\n",
       "    .dataframe thead th {\n",
       "        text-align: right;\n",
       "    }\n",
       "</style>\n",
       "<table border=\"1\" class=\"dataframe\">\n",
       "  <thead>\n",
       "    <tr style=\"text-align: right;\">\n",
       "      <th></th>\n",
       "      <th>tweet_id</th>\n",
       "      <th>in_reply_to_status_id</th>\n",
       "      <th>in_reply_to_user_id</th>\n",
       "      <th>timestamp</th>\n",
       "      <th>source</th>\n",
       "      <th>text</th>\n",
       "      <th>retweeted_status_id</th>\n",
       "      <th>retweeted_status_user_id</th>\n",
       "      <th>retweeted_status_timestamp</th>\n",
       "      <th>expanded_urls</th>\n",
       "      <th>rating_numerator</th>\n",
       "      <th>rating_denominator</th>\n",
       "      <th>name</th>\n",
       "      <th>doggo</th>\n",
       "      <th>floofer</th>\n",
       "      <th>pupper</th>\n",
       "      <th>puppo</th>\n",
       "    </tr>\n",
       "  </thead>\n",
       "  <tbody>\n",
       "    <tr>\n",
       "      <th>0</th>\n",
       "      <td>892420643555336193</td>\n",
       "      <td>NaN</td>\n",
       "      <td>NaN</td>\n",
       "      <td>2017-08-01 16:23:56 +0000</td>\n",
       "      <td>&lt;a href=\"http://twitter.com/download/iphone\" r...</td>\n",
       "      <td>This is Phineas. He's a mystical boy. Only eve...</td>\n",
       "      <td>NaN</td>\n",
       "      <td>NaN</td>\n",
       "      <td>NaN</td>\n",
       "      <td>https://twitter.com/dog_rates/status/892420643...</td>\n",
       "      <td>13</td>\n",
       "      <td>10</td>\n",
       "      <td>Phineas</td>\n",
       "      <td>None</td>\n",
       "      <td>None</td>\n",
       "      <td>None</td>\n",
       "      <td>None</td>\n",
       "    </tr>\n",
       "    <tr>\n",
       "      <th>1</th>\n",
       "      <td>892177421306343426</td>\n",
       "      <td>NaN</td>\n",
       "      <td>NaN</td>\n",
       "      <td>2017-08-01 00:17:27 +0000</td>\n",
       "      <td>&lt;a href=\"http://twitter.com/download/iphone\" r...</td>\n",
       "      <td>This is Tilly. She's just checking pup on you....</td>\n",
       "      <td>NaN</td>\n",
       "      <td>NaN</td>\n",
       "      <td>NaN</td>\n",
       "      <td>https://twitter.com/dog_rates/status/892177421...</td>\n",
       "      <td>13</td>\n",
       "      <td>10</td>\n",
       "      <td>Tilly</td>\n",
       "      <td>None</td>\n",
       "      <td>None</td>\n",
       "      <td>None</td>\n",
       "      <td>None</td>\n",
       "    </tr>\n",
       "    <tr>\n",
       "      <th>2</th>\n",
       "      <td>891815181378084864</td>\n",
       "      <td>NaN</td>\n",
       "      <td>NaN</td>\n",
       "      <td>2017-07-31 00:18:03 +0000</td>\n",
       "      <td>&lt;a href=\"http://twitter.com/download/iphone\" r...</td>\n",
       "      <td>This is Archie. He is a rare Norwegian Pouncin...</td>\n",
       "      <td>NaN</td>\n",
       "      <td>NaN</td>\n",
       "      <td>NaN</td>\n",
       "      <td>https://twitter.com/dog_rates/status/891815181...</td>\n",
       "      <td>12</td>\n",
       "      <td>10</td>\n",
       "      <td>Archie</td>\n",
       "      <td>None</td>\n",
       "      <td>None</td>\n",
       "      <td>None</td>\n",
       "      <td>None</td>\n",
       "    </tr>\n",
       "    <tr>\n",
       "      <th>3</th>\n",
       "      <td>891689557279858688</td>\n",
       "      <td>NaN</td>\n",
       "      <td>NaN</td>\n",
       "      <td>2017-07-30 15:58:51 +0000</td>\n",
       "      <td>&lt;a href=\"http://twitter.com/download/iphone\" r...</td>\n",
       "      <td>This is Darla. She commenced a snooze mid meal...</td>\n",
       "      <td>NaN</td>\n",
       "      <td>NaN</td>\n",
       "      <td>NaN</td>\n",
       "      <td>https://twitter.com/dog_rates/status/891689557...</td>\n",
       "      <td>13</td>\n",
       "      <td>10</td>\n",
       "      <td>Darla</td>\n",
       "      <td>None</td>\n",
       "      <td>None</td>\n",
       "      <td>None</td>\n",
       "      <td>None</td>\n",
       "    </tr>\n",
       "    <tr>\n",
       "      <th>4</th>\n",
       "      <td>891327558926688256</td>\n",
       "      <td>NaN</td>\n",
       "      <td>NaN</td>\n",
       "      <td>2017-07-29 16:00:24 +0000</td>\n",
       "      <td>&lt;a href=\"http://twitter.com/download/iphone\" r...</td>\n",
       "      <td>This is Franklin. He would like you to stop ca...</td>\n",
       "      <td>NaN</td>\n",
       "      <td>NaN</td>\n",
       "      <td>NaN</td>\n",
       "      <td>https://twitter.com/dog_rates/status/891327558...</td>\n",
       "      <td>12</td>\n",
       "      <td>10</td>\n",
       "      <td>Franklin</td>\n",
       "      <td>None</td>\n",
       "      <td>None</td>\n",
       "      <td>None</td>\n",
       "      <td>None</td>\n",
       "    </tr>\n",
       "  </tbody>\n",
       "</table>\n",
       "</div>"
      ],
      "text/plain": [
       "             tweet_id  in_reply_to_status_id  in_reply_to_user_id                  timestamp                                             source                                               text  retweeted_status_id  retweeted_status_user_id retweeted_status_timestamp                                      expanded_urls  rating_numerator  rating_denominator      name doggo floofer pupper puppo\n",
       "0  892420643555336193                    NaN                  NaN  2017-08-01 16:23:56 +0000  <a href=\"http://twitter.com/download/iphone\" r...  This is Phineas. He's a mystical boy. Only eve...                  NaN                       NaN                        NaN  https://twitter.com/dog_rates/status/892420643...                13                  10   Phineas  None    None   None  None\n",
       "1  892177421306343426                    NaN                  NaN  2017-08-01 00:17:27 +0000  <a href=\"http://twitter.com/download/iphone\" r...  This is Tilly. She's just checking pup on you....                  NaN                       NaN                        NaN  https://twitter.com/dog_rates/status/892177421...                13                  10     Tilly  None    None   None  None\n",
       "2  891815181378084864                    NaN                  NaN  2017-07-31 00:18:03 +0000  <a href=\"http://twitter.com/download/iphone\" r...  This is Archie. He is a rare Norwegian Pouncin...                  NaN                       NaN                        NaN  https://twitter.com/dog_rates/status/891815181...                12                  10    Archie  None    None   None  None\n",
       "3  891689557279858688                    NaN                  NaN  2017-07-30 15:58:51 +0000  <a href=\"http://twitter.com/download/iphone\" r...  This is Darla. She commenced a snooze mid meal...                  NaN                       NaN                        NaN  https://twitter.com/dog_rates/status/891689557...                13                  10     Darla  None    None   None  None\n",
       "4  891327558926688256                    NaN                  NaN  2017-07-29 16:00:24 +0000  <a href=\"http://twitter.com/download/iphone\" r...  This is Franklin. He would like you to stop ca...                  NaN                       NaN                        NaN  https://twitter.com/dog_rates/status/891327558...                12                  10  Franklin  None    None   None  None"
      ]
     },
     "execution_count": 26,
     "metadata": {},
     "output_type": "execute_result"
    }
   ],
   "source": [
    "twitter_archive.head()"
   ]
  },
  {
   "cell_type": "code",
   "execution_count": 27,
   "id": "fa5a7db8",
   "metadata": {},
   "outputs": [
    {
     "data": {
      "text/html": [
       "<div>\n",
       "<style scoped>\n",
       "    .dataframe tbody tr th:only-of-type {\n",
       "        vertical-align: middle;\n",
       "    }\n",
       "\n",
       "    .dataframe tbody tr th {\n",
       "        vertical-align: top;\n",
       "    }\n",
       "\n",
       "    .dataframe thead th {\n",
       "        text-align: right;\n",
       "    }\n",
       "</style>\n",
       "<table border=\"1\" class=\"dataframe\">\n",
       "  <thead>\n",
       "    <tr style=\"text-align: right;\">\n",
       "      <th></th>\n",
       "      <th>tweet_id</th>\n",
       "      <th>jpg_url</th>\n",
       "      <th>img_num</th>\n",
       "      <th>p1</th>\n",
       "      <th>p1_conf</th>\n",
       "      <th>p1_dog</th>\n",
       "      <th>p2</th>\n",
       "      <th>p2_conf</th>\n",
       "      <th>p2_dog</th>\n",
       "      <th>p3</th>\n",
       "      <th>p3_conf</th>\n",
       "      <th>p3_dog</th>\n",
       "    </tr>\n",
       "  </thead>\n",
       "  <tbody>\n",
       "    <tr>\n",
       "      <th>0</th>\n",
       "      <td>666020888022790149</td>\n",
       "      <td>https://pbs.twimg.com/media/CT4udn0WwAA0aMy.jpg</td>\n",
       "      <td>1</td>\n",
       "      <td>Welsh_springer_spaniel</td>\n",
       "      <td>0.465074</td>\n",
       "      <td>True</td>\n",
       "      <td>collie</td>\n",
       "      <td>0.156665</td>\n",
       "      <td>True</td>\n",
       "      <td>Shetland_sheepdog</td>\n",
       "      <td>0.061428</td>\n",
       "      <td>True</td>\n",
       "    </tr>\n",
       "    <tr>\n",
       "      <th>1</th>\n",
       "      <td>666029285002620928</td>\n",
       "      <td>https://pbs.twimg.com/media/CT42GRgUYAA5iDo.jpg</td>\n",
       "      <td>1</td>\n",
       "      <td>redbone</td>\n",
       "      <td>0.506826</td>\n",
       "      <td>True</td>\n",
       "      <td>miniature_pinscher</td>\n",
       "      <td>0.074192</td>\n",
       "      <td>True</td>\n",
       "      <td>Rhodesian_ridgeback</td>\n",
       "      <td>0.072010</td>\n",
       "      <td>True</td>\n",
       "    </tr>\n",
       "    <tr>\n",
       "      <th>2</th>\n",
       "      <td>666033412701032449</td>\n",
       "      <td>https://pbs.twimg.com/media/CT4521TWwAEvMyu.jpg</td>\n",
       "      <td>1</td>\n",
       "      <td>German_shepherd</td>\n",
       "      <td>0.596461</td>\n",
       "      <td>True</td>\n",
       "      <td>malinois</td>\n",
       "      <td>0.138584</td>\n",
       "      <td>True</td>\n",
       "      <td>bloodhound</td>\n",
       "      <td>0.116197</td>\n",
       "      <td>True</td>\n",
       "    </tr>\n",
       "    <tr>\n",
       "      <th>3</th>\n",
       "      <td>666044226329800704</td>\n",
       "      <td>https://pbs.twimg.com/media/CT5Dr8HUEAA-lEu.jpg</td>\n",
       "      <td>1</td>\n",
       "      <td>Rhodesian_ridgeback</td>\n",
       "      <td>0.408143</td>\n",
       "      <td>True</td>\n",
       "      <td>redbone</td>\n",
       "      <td>0.360687</td>\n",
       "      <td>True</td>\n",
       "      <td>miniature_pinscher</td>\n",
       "      <td>0.222752</td>\n",
       "      <td>True</td>\n",
       "    </tr>\n",
       "    <tr>\n",
       "      <th>4</th>\n",
       "      <td>666049248165822465</td>\n",
       "      <td>https://pbs.twimg.com/media/CT5IQmsXIAAKY4A.jpg</td>\n",
       "      <td>1</td>\n",
       "      <td>miniature_pinscher</td>\n",
       "      <td>0.560311</td>\n",
       "      <td>True</td>\n",
       "      <td>Rottweiler</td>\n",
       "      <td>0.243682</td>\n",
       "      <td>True</td>\n",
       "      <td>Doberman</td>\n",
       "      <td>0.154629</td>\n",
       "      <td>True</td>\n",
       "    </tr>\n",
       "  </tbody>\n",
       "</table>\n",
       "</div>"
      ],
      "text/plain": [
       "             tweet_id                                          jpg_url  img_num                      p1   p1_conf  p1_dog                  p2   p2_conf  p2_dog                   p3   p3_conf  p3_dog\n",
       "0  666020888022790149  https://pbs.twimg.com/media/CT4udn0WwAA0aMy.jpg        1  Welsh_springer_spaniel  0.465074    True              collie  0.156665    True    Shetland_sheepdog  0.061428    True\n",
       "1  666029285002620928  https://pbs.twimg.com/media/CT42GRgUYAA5iDo.jpg        1                 redbone  0.506826    True  miniature_pinscher  0.074192    True  Rhodesian_ridgeback  0.072010    True\n",
       "2  666033412701032449  https://pbs.twimg.com/media/CT4521TWwAEvMyu.jpg        1         German_shepherd  0.596461    True            malinois  0.138584    True           bloodhound  0.116197    True\n",
       "3  666044226329800704  https://pbs.twimg.com/media/CT5Dr8HUEAA-lEu.jpg        1     Rhodesian_ridgeback  0.408143    True             redbone  0.360687    True   miniature_pinscher  0.222752    True\n",
       "4  666049248165822465  https://pbs.twimg.com/media/CT5IQmsXIAAKY4A.jpg        1      miniature_pinscher  0.560311    True          Rottweiler  0.243682    True             Doberman  0.154629    True"
      ]
     },
     "execution_count": 27,
     "metadata": {},
     "output_type": "execute_result"
    }
   ],
   "source": [
    "image_prediction.head()"
   ]
  },
  {
   "cell_type": "code",
   "execution_count": 28,
   "id": "9f362bfa",
   "metadata": {},
   "outputs": [
    {
     "data": {
      "text/html": [
       "<div>\n",
       "<style scoped>\n",
       "    .dataframe tbody tr th:only-of-type {\n",
       "        vertical-align: middle;\n",
       "    }\n",
       "\n",
       "    .dataframe tbody tr th {\n",
       "        vertical-align: top;\n",
       "    }\n",
       "\n",
       "    .dataframe thead th {\n",
       "        text-align: right;\n",
       "    }\n",
       "</style>\n",
       "<table border=\"1\" class=\"dataframe\">\n",
       "  <thead>\n",
       "    <tr style=\"text-align: right;\">\n",
       "      <th></th>\n",
       "      <th>id</th>\n",
       "      <th>retweet_count</th>\n",
       "      <th>favorite_count</th>\n",
       "    </tr>\n",
       "  </thead>\n",
       "  <tbody>\n",
       "    <tr>\n",
       "      <th>0</th>\n",
       "      <td>892177421306343426</td>\n",
       "      <td>5302</td>\n",
       "      <td>29345</td>\n",
       "    </tr>\n",
       "    <tr>\n",
       "      <th>1</th>\n",
       "      <td>891815181378084864</td>\n",
       "      <td>3483</td>\n",
       "      <td>22069</td>\n",
       "    </tr>\n",
       "    <tr>\n",
       "      <th>2</th>\n",
       "      <td>891689557279858688</td>\n",
       "      <td>7229</td>\n",
       "      <td>36957</td>\n",
       "    </tr>\n",
       "    <tr>\n",
       "      <th>3</th>\n",
       "      <td>891327558926688256</td>\n",
       "      <td>7768</td>\n",
       "      <td>35329</td>\n",
       "    </tr>\n",
       "    <tr>\n",
       "      <th>4</th>\n",
       "      <td>891087950875897856</td>\n",
       "      <td>2602</td>\n",
       "      <td>17820</td>\n",
       "    </tr>\n",
       "  </tbody>\n",
       "</table>\n",
       "</div>"
      ],
      "text/plain": [
       "                   id  retweet_count  favorite_count\n",
       "0  892177421306343426           5302           29345\n",
       "1  891815181378084864           3483           22069\n",
       "2  891689557279858688           7229           36957\n",
       "3  891327558926688256           7768           35329\n",
       "4  891087950875897856           2602           17820"
      ]
     },
     "execution_count": 28,
     "metadata": {},
     "output_type": "execute_result"
    }
   ],
   "source": [
    "pulled_tweets.head()"
   ]
  },
  {
   "cell_type": "markdown",
   "id": "a39a178b",
   "metadata": {},
   "source": [
    "### Programmatic Assessment"
   ]
  },
  {
   "cell_type": "code",
   "execution_count": 29,
   "id": "31889649",
   "metadata": {},
   "outputs": [
    {
     "name": "stdout",
     "output_type": "stream",
     "text": [
      "<class 'pandas.core.frame.DataFrame'>\n",
      "RangeIndex: 2356 entries, 0 to 2355\n",
      "Data columns (total 17 columns):\n",
      " #   Column                      Non-Null Count  Dtype  \n",
      "---  ------                      --------------  -----  \n",
      " 0   tweet_id                    2356 non-null   int64  \n",
      " 1   in_reply_to_status_id       78 non-null     float64\n",
      " 2   in_reply_to_user_id         78 non-null     float64\n",
      " 3   timestamp                   2356 non-null   object \n",
      " 4   source                      2356 non-null   object \n",
      " 5   text                        2356 non-null   object \n",
      " 6   retweeted_status_id         181 non-null    float64\n",
      " 7   retweeted_status_user_id    181 non-null    float64\n",
      " 8   retweeted_status_timestamp  181 non-null    object \n",
      " 9   expanded_urls               2297 non-null   object \n",
      " 10  rating_numerator            2356 non-null   int64  \n",
      " 11  rating_denominator          2356 non-null   int64  \n",
      " 12  name                        2356 non-null   object \n",
      " 13  doggo                       2356 non-null   object \n",
      " 14  floofer                     2356 non-null   object \n",
      " 15  pupper                      2356 non-null   object \n",
      " 16  puppo                       2356 non-null   object \n",
      "dtypes: float64(4), int64(3), object(10)\n",
      "memory usage: 313.0+ KB\n"
     ]
    }
   ],
   "source": [
    "# Viewing the general info of the dataframe. Some null values, will be dealt with at the cleaning stage\n",
    "twitter_archive.info()"
   ]
  },
  {
   "cell_type": "code",
   "execution_count": 30,
   "id": "1720a30d",
   "metadata": {},
   "outputs": [
    {
     "name": "stdout",
     "output_type": "stream",
     "text": [
      "<class 'pandas.core.frame.DataFrame'>\n",
      "RangeIndex: 2075 entries, 0 to 2074\n",
      "Data columns (total 12 columns):\n",
      " #   Column    Non-Null Count  Dtype  \n",
      "---  ------    --------------  -----  \n",
      " 0   tweet_id  2075 non-null   int64  \n",
      " 1   jpg_url   2075 non-null   object \n",
      " 2   img_num   2075 non-null   int64  \n",
      " 3   p1        2075 non-null   object \n",
      " 4   p1_conf   2075 non-null   float64\n",
      " 5   p1_dog    2075 non-null   bool   \n",
      " 6   p2        2075 non-null   object \n",
      " 7   p2_conf   2075 non-null   float64\n",
      " 8   p2_dog    2075 non-null   bool   \n",
      " 9   p3        2075 non-null   object \n",
      " 10  p3_conf   2075 non-null   float64\n",
      " 11  p3_dog    2075 non-null   bool   \n",
      "dtypes: bool(3), float64(3), int64(2), object(4)\n",
      "memory usage: 152.1+ KB\n"
     ]
    }
   ],
   "source": [
    "# Viewing the general info of the dataframe, No null values.\n",
    "image_prediction.info()"
   ]
  },
  {
   "cell_type": "code",
   "execution_count": 31,
   "id": "8d844746",
   "metadata": {},
   "outputs": [
    {
     "name": "stdout",
     "output_type": "stream",
     "text": [
      "<class 'pandas.core.frame.DataFrame'>\n",
      "RangeIndex: 2325 entries, 0 to 2324\n",
      "Data columns (total 3 columns):\n",
      " #   Column          Non-Null Count  Dtype\n",
      "---  ------          --------------  -----\n",
      " 0   id              2325 non-null   int64\n",
      " 1   retweet_count   2325 non-null   int64\n",
      " 2   favorite_count  2325 non-null   int64\n",
      "dtypes: int64(3)\n",
      "memory usage: 54.6 KB\n"
     ]
    }
   ],
   "source": [
    "# Viewing the general info of the dataframe, NO null values.\n",
    "pulled_tweets.info()"
   ]
  },
  {
   "cell_type": "code",
   "execution_count": 32,
   "id": "b06d67e8",
   "metadata": {},
   "outputs": [
    {
     "data": {
      "text/plain": [
       "17    tweet_id\n",
       "dtype: object"
      ]
     },
     "execution_count": 32,
     "metadata": {},
     "output_type": "execute_result"
    }
   ],
   "source": [
    "# Checking for duplicate column names in the three datasets. Only one - tweet_id(great!)\n",
    "all_columns = pd.Series(list(twitter_archive) + list(image_prediction) + list(pulled_tweets))\n",
    "all_columns[all_columns.duplicated()]"
   ]
  },
  {
   "cell_type": "code",
   "execution_count": 33,
   "id": "7ac6ffe3",
   "metadata": {},
   "outputs": [
    {
     "data": {
      "text/html": [
       "<div>\n",
       "<style scoped>\n",
       "    .dataframe tbody tr th:only-of-type {\n",
       "        vertical-align: middle;\n",
       "    }\n",
       "\n",
       "    .dataframe tbody tr th {\n",
       "        vertical-align: top;\n",
       "    }\n",
       "\n",
       "    .dataframe thead th {\n",
       "        text-align: right;\n",
       "    }\n",
       "</style>\n",
       "<table border=\"1\" class=\"dataframe\">\n",
       "  <thead>\n",
       "    <tr style=\"text-align: right;\">\n",
       "      <th></th>\n",
       "      <th>tweet_id</th>\n",
       "      <th>in_reply_to_status_id</th>\n",
       "      <th>in_reply_to_user_id</th>\n",
       "      <th>retweeted_status_id</th>\n",
       "      <th>retweeted_status_user_id</th>\n",
       "      <th>rating_numerator</th>\n",
       "      <th>rating_denominator</th>\n",
       "    </tr>\n",
       "  </thead>\n",
       "  <tbody>\n",
       "    <tr>\n",
       "      <th>count</th>\n",
       "      <td>2.356000e+03</td>\n",
       "      <td>7.800000e+01</td>\n",
       "      <td>7.800000e+01</td>\n",
       "      <td>1.810000e+02</td>\n",
       "      <td>1.810000e+02</td>\n",
       "      <td>2356.000000</td>\n",
       "      <td>2356.000000</td>\n",
       "    </tr>\n",
       "    <tr>\n",
       "      <th>mean</th>\n",
       "      <td>7.427716e+17</td>\n",
       "      <td>7.455079e+17</td>\n",
       "      <td>2.014171e+16</td>\n",
       "      <td>7.720400e+17</td>\n",
       "      <td>1.241698e+16</td>\n",
       "      <td>13.126486</td>\n",
       "      <td>10.455433</td>\n",
       "    </tr>\n",
       "    <tr>\n",
       "      <th>std</th>\n",
       "      <td>6.856705e+16</td>\n",
       "      <td>7.582492e+16</td>\n",
       "      <td>1.252797e+17</td>\n",
       "      <td>6.236928e+16</td>\n",
       "      <td>9.599254e+16</td>\n",
       "      <td>45.876648</td>\n",
       "      <td>6.745237</td>\n",
       "    </tr>\n",
       "    <tr>\n",
       "      <th>min</th>\n",
       "      <td>6.660209e+17</td>\n",
       "      <td>6.658147e+17</td>\n",
       "      <td>1.185634e+07</td>\n",
       "      <td>6.661041e+17</td>\n",
       "      <td>7.832140e+05</td>\n",
       "      <td>0.000000</td>\n",
       "      <td>0.000000</td>\n",
       "    </tr>\n",
       "    <tr>\n",
       "      <th>25%</th>\n",
       "      <td>6.783989e+17</td>\n",
       "      <td>6.757419e+17</td>\n",
       "      <td>3.086374e+08</td>\n",
       "      <td>7.186315e+17</td>\n",
       "      <td>4.196984e+09</td>\n",
       "      <td>10.000000</td>\n",
       "      <td>10.000000</td>\n",
       "    </tr>\n",
       "    <tr>\n",
       "      <th>50%</th>\n",
       "      <td>7.196279e+17</td>\n",
       "      <td>7.038708e+17</td>\n",
       "      <td>4.196984e+09</td>\n",
       "      <td>7.804657e+17</td>\n",
       "      <td>4.196984e+09</td>\n",
       "      <td>11.000000</td>\n",
       "      <td>10.000000</td>\n",
       "    </tr>\n",
       "    <tr>\n",
       "      <th>75%</th>\n",
       "      <td>7.993373e+17</td>\n",
       "      <td>8.257804e+17</td>\n",
       "      <td>4.196984e+09</td>\n",
       "      <td>8.203146e+17</td>\n",
       "      <td>4.196984e+09</td>\n",
       "      <td>12.000000</td>\n",
       "      <td>10.000000</td>\n",
       "    </tr>\n",
       "    <tr>\n",
       "      <th>max</th>\n",
       "      <td>8.924206e+17</td>\n",
       "      <td>8.862664e+17</td>\n",
       "      <td>8.405479e+17</td>\n",
       "      <td>8.874740e+17</td>\n",
       "      <td>7.874618e+17</td>\n",
       "      <td>1776.000000</td>\n",
       "      <td>170.000000</td>\n",
       "    </tr>\n",
       "  </tbody>\n",
       "</table>\n",
       "</div>"
      ],
      "text/plain": [
       "           tweet_id  in_reply_to_status_id  in_reply_to_user_id  retweeted_status_id  retweeted_status_user_id  rating_numerator  rating_denominator\n",
       "count  2.356000e+03           7.800000e+01         7.800000e+01         1.810000e+02              1.810000e+02       2356.000000         2356.000000\n",
       "mean   7.427716e+17           7.455079e+17         2.014171e+16         7.720400e+17              1.241698e+16         13.126486           10.455433\n",
       "std    6.856705e+16           7.582492e+16         1.252797e+17         6.236928e+16              9.599254e+16         45.876648            6.745237\n",
       "min    6.660209e+17           6.658147e+17         1.185634e+07         6.661041e+17              7.832140e+05          0.000000            0.000000\n",
       "25%    6.783989e+17           6.757419e+17         3.086374e+08         7.186315e+17              4.196984e+09         10.000000           10.000000\n",
       "50%    7.196279e+17           7.038708e+17         4.196984e+09         7.804657e+17              4.196984e+09         11.000000           10.000000\n",
       "75%    7.993373e+17           8.257804e+17         4.196984e+09         8.203146e+17              4.196984e+09         12.000000           10.000000\n",
       "max    8.924206e+17           8.862664e+17         8.405479e+17         8.874740e+17              7.874618e+17       1776.000000          170.000000"
      ]
     },
     "execution_count": 33,
     "metadata": {},
     "output_type": "execute_result"
    }
   ],
   "source": [
    "# Lets see summary statistics for the twitter_archive dataframe\n",
    "twitter_archive.describe()"
   ]
  },
  {
   "cell_type": "code",
   "execution_count": 34,
   "id": "2f7357d7",
   "metadata": {},
   "outputs": [
    {
     "data": {
      "text/plain": [
       "342              @docmisterio account started on 11/15/15\n",
       "433     The floofs have been released I repeat the flo...\n",
       "784     RT @dog_rates: After so many requests, this is...\n",
       "902     Why does this never happen at my front door......\n",
       "1068    After so many requests, this is Bretagne. She ...\n",
       "1120    Say hello to this unbelievably well behaved sq...\n",
       "1165    Happy 4/20 from the squad! 13/10 for all https...\n",
       "1202    This is Bluebert. He just saw that both #Final...\n",
       "1228    Happy Saturday here's 9 puppers on a bench. 99...\n",
       "1254    Here's a brigade of puppers. All look very pre...\n",
       "1274    From left to right:\\nCletus, Jerome, Alejandro...\n",
       "1351    Here is a whole flock of puppers.  60/50 I'll ...\n",
       "1433    Happy Wednesday here's a bucket of pups. 44/40...\n",
       "1598    Yes I do realize a rating of 4/20 would've bee...\n",
       "1634    Two sneaky puppers were not initially seen, mo...\n",
       "1635    Someone help the girl is being mugged. Several...\n",
       "1662    This is Darrel. He just robbed a 7/11 and is i...\n",
       "1663    I'm aware that I could've said 20/16, but here...\n",
       "1779    IT'S PUPPERGEDDON. Total of 144/120 ...I think...\n",
       "1843    Here we have an entire platoon of puppers. Tot...\n",
       "Name: text, dtype: object"
      ]
     },
     "execution_count": 34,
     "metadata": {},
     "output_type": "execute_result"
    }
   ],
   "source": [
    "# Investigate ratings with high rating denominator values\n",
    "twitter_archive[twitter_archive['rating_denominator'] > 10]['text']"
   ]
  },
  {
   "cell_type": "code",
   "execution_count": 35,
   "id": "2b48c79f",
   "metadata": {},
   "outputs": [
    {
     "data": {
      "text/plain": [
       "188     @dhmontgomery We also gave snoop dogg a 420/10...\n",
       "189     @s8n You tried very hard to portray this good ...\n",
       "290                                    @markhoppus 182/10\n",
       "313     @jonnysun @Lin_Manuel ok jomny I know you're e...\n",
       "340     RT @dog_rates: This is Logan, the Chow who liv...\n",
       "433     The floofs have been released I repeat the flo...\n",
       "516     Meet Sam. She smiles 24/7 &amp; secretly aspir...\n",
       "695     This is Logan, the Chow who lived. He solemnly...\n",
       "763     This is Sophie. She's a Jubilant Bush Pupper. ...\n",
       "902     Why does this never happen at my front door......\n",
       "979     This is Atticus. He's quite simply America af....\n",
       "1120    Say hello to this unbelievably well behaved sq...\n",
       "1202    This is Bluebert. He just saw that both #Final...\n",
       "1228    Happy Saturday here's 9 puppers on a bench. 99...\n",
       "1254    Here's a brigade of puppers. All look very pre...\n",
       "1274    From left to right:\\nCletus, Jerome, Alejandro...\n",
       "1351    Here is a whole flock of puppers.  60/50 I'll ...\n",
       "1433    Happy Wednesday here's a bucket of pups. 44/40...\n",
       "1634    Two sneaky puppers were not initially seen, mo...\n",
       "1635    Someone help the girl is being mugged. Several...\n",
       "1712    Here we have uncovered an entire battalion of ...\n",
       "1779    IT'S PUPPERGEDDON. Total of 144/120 ...I think...\n",
       "1843    Here we have an entire platoon of puppers. Tot...\n",
       "2074    After so many requests... here you go.\\n\\nGood...\n",
       "Name: text, dtype: object"
      ]
     },
     "execution_count": 35,
     "metadata": {},
     "output_type": "execute_result"
    }
   ],
   "source": [
    "# Investigate ratings with high rating numerator values\n",
    "twitter_archive[twitter_archive['rating_numerator'] > 20]['text']"
   ]
  },
  {
   "cell_type": "code",
   "execution_count": 36,
   "id": "e4de49c6",
   "metadata": {},
   "outputs": [
    {
     "data": {
      "text/plain": [
       "0.100     8.00\n",
       "0.989    15.19\n",
       "Name: rating_numerator, dtype: float64"
      ]
     },
     "execution_count": 36,
     "metadata": {},
     "output_type": "execute_result"
    }
   ],
   "source": [
    "# Checking for the upper and lower  values of the rating_numerator\n",
    "twitter_archive['rating_numerator'].quantile([0.1,0.989])"
   ]
  },
  {
   "cell_type": "code",
   "execution_count": 37,
   "id": "15e07549",
   "metadata": {},
   "outputs": [
    {
     "data": {
      "text/html": [
       "<div>\n",
       "<style scoped>\n",
       "    .dataframe tbody tr th:only-of-type {\n",
       "        vertical-align: middle;\n",
       "    }\n",
       "\n",
       "    .dataframe tbody tr th {\n",
       "        vertical-align: top;\n",
       "    }\n",
       "\n",
       "    .dataframe thead th {\n",
       "        text-align: right;\n",
       "    }\n",
       "</style>\n",
       "<table border=\"1\" class=\"dataframe\">\n",
       "  <thead>\n",
       "    <tr style=\"text-align: right;\">\n",
       "      <th></th>\n",
       "      <th>tweet_id</th>\n",
       "      <th>in_reply_to_status_id</th>\n",
       "      <th>in_reply_to_user_id</th>\n",
       "      <th>timestamp</th>\n",
       "      <th>source</th>\n",
       "      <th>text</th>\n",
       "      <th>retweeted_status_id</th>\n",
       "      <th>retweeted_status_user_id</th>\n",
       "      <th>retweeted_status_timestamp</th>\n",
       "      <th>expanded_urls</th>\n",
       "      <th>rating_numerator</th>\n",
       "      <th>rating_denominator</th>\n",
       "      <th>name</th>\n",
       "      <th>doggo</th>\n",
       "      <th>floofer</th>\n",
       "      <th>pupper</th>\n",
       "      <th>puppo</th>\n",
       "    </tr>\n",
       "  </thead>\n",
       "  <tbody>\n",
       "    <tr>\n",
       "      <th>19</th>\n",
       "      <td>888202515573088257</td>\n",
       "      <td>NaN</td>\n",
       "      <td>NaN</td>\n",
       "      <td>2017-07-21 01:02:36 +0000</td>\n",
       "      <td>&lt;a href=\"http://twitter.com/download/iphone\" r...</td>\n",
       "      <td>RT @dog_rates: This is Canela. She attempted s...</td>\n",
       "      <td>8.874740e+17</td>\n",
       "      <td>4.196984e+09</td>\n",
       "      <td>2017-07-19 00:47:34 +0000</td>\n",
       "      <td>https://twitter.com/dog_rates/status/887473957...</td>\n",
       "      <td>13</td>\n",
       "      <td>10</td>\n",
       "      <td>Canela</td>\n",
       "      <td>None</td>\n",
       "      <td>None</td>\n",
       "      <td>None</td>\n",
       "      <td>None</td>\n",
       "    </tr>\n",
       "    <tr>\n",
       "      <th>32</th>\n",
       "      <td>886054160059072513</td>\n",
       "      <td>NaN</td>\n",
       "      <td>NaN</td>\n",
       "      <td>2017-07-15 02:45:48 +0000</td>\n",
       "      <td>&lt;a href=\"http://twitter.com/download/iphone\" r...</td>\n",
       "      <td>RT @Athletics: 12/10 #BATP https://t.co/WxwJmv...</td>\n",
       "      <td>8.860537e+17</td>\n",
       "      <td>1.960740e+07</td>\n",
       "      <td>2017-07-15 02:44:07 +0000</td>\n",
       "      <td>https://twitter.com/dog_rates/status/886053434...</td>\n",
       "      <td>12</td>\n",
       "      <td>10</td>\n",
       "      <td>None</td>\n",
       "      <td>None</td>\n",
       "      <td>None</td>\n",
       "      <td>None</td>\n",
       "      <td>None</td>\n",
       "    </tr>\n",
       "    <tr>\n",
       "      <th>36</th>\n",
       "      <td>885311592912609280</td>\n",
       "      <td>NaN</td>\n",
       "      <td>NaN</td>\n",
       "      <td>2017-07-13 01:35:06 +0000</td>\n",
       "      <td>&lt;a href=\"http://twitter.com/download/iphone\" r...</td>\n",
       "      <td>RT @dog_rates: This is Lilly. She just paralle...</td>\n",
       "      <td>8.305833e+17</td>\n",
       "      <td>4.196984e+09</td>\n",
       "      <td>2017-02-12 01:04:29 +0000</td>\n",
       "      <td>https://twitter.com/dog_rates/status/830583320...</td>\n",
       "      <td>13</td>\n",
       "      <td>10</td>\n",
       "      <td>Lilly</td>\n",
       "      <td>None</td>\n",
       "      <td>None</td>\n",
       "      <td>None</td>\n",
       "      <td>None</td>\n",
       "    </tr>\n",
       "    <tr>\n",
       "      <th>68</th>\n",
       "      <td>879130579576475649</td>\n",
       "      <td>NaN</td>\n",
       "      <td>NaN</td>\n",
       "      <td>2017-06-26 00:13:58 +0000</td>\n",
       "      <td>&lt;a href=\"http://twitter.com/download/iphone\" r...</td>\n",
       "      <td>RT @dog_rates: This is Emmy. She was adopted t...</td>\n",
       "      <td>8.780576e+17</td>\n",
       "      <td>4.196984e+09</td>\n",
       "      <td>2017-06-23 01:10:23 +0000</td>\n",
       "      <td>https://twitter.com/dog_rates/status/878057613...</td>\n",
       "      <td>14</td>\n",
       "      <td>10</td>\n",
       "      <td>Emmy</td>\n",
       "      <td>None</td>\n",
       "      <td>None</td>\n",
       "      <td>None</td>\n",
       "      <td>None</td>\n",
       "    </tr>\n",
       "    <tr>\n",
       "      <th>73</th>\n",
       "      <td>878404777348136964</td>\n",
       "      <td>NaN</td>\n",
       "      <td>NaN</td>\n",
       "      <td>2017-06-24 00:09:53 +0000</td>\n",
       "      <td>&lt;a href=\"http://twitter.com/download/iphone\" r...</td>\n",
       "      <td>RT @dog_rates: Meet Shadow. In an attempt to r...</td>\n",
       "      <td>8.782815e+17</td>\n",
       "      <td>4.196984e+09</td>\n",
       "      <td>2017-06-23 16:00:04 +0000</td>\n",
       "      <td>https://www.gofundme.com/3yd6y1c,https://twitt...</td>\n",
       "      <td>13</td>\n",
       "      <td>10</td>\n",
       "      <td>Shadow</td>\n",
       "      <td>None</td>\n",
       "      <td>None</td>\n",
       "      <td>None</td>\n",
       "      <td>None</td>\n",
       "    </tr>\n",
       "  </tbody>\n",
       "</table>\n",
       "</div>"
      ],
      "text/plain": [
       "              tweet_id  in_reply_to_status_id  in_reply_to_user_id                  timestamp                                             source                                               text  retweeted_status_id  retweeted_status_user_id retweeted_status_timestamp                                      expanded_urls  rating_numerator  rating_denominator    name doggo floofer pupper puppo\n",
       "19  888202515573088257                    NaN                  NaN  2017-07-21 01:02:36 +0000  <a href=\"http://twitter.com/download/iphone\" r...  RT @dog_rates: This is Canela. She attempted s...         8.874740e+17              4.196984e+09  2017-07-19 00:47:34 +0000  https://twitter.com/dog_rates/status/887473957...                13                  10  Canela  None    None   None  None\n",
       "32  886054160059072513                    NaN                  NaN  2017-07-15 02:45:48 +0000  <a href=\"http://twitter.com/download/iphone\" r...  RT @Athletics: 12/10 #BATP https://t.co/WxwJmv...         8.860537e+17              1.960740e+07  2017-07-15 02:44:07 +0000  https://twitter.com/dog_rates/status/886053434...                12                  10    None  None    None   None  None\n",
       "36  885311592912609280                    NaN                  NaN  2017-07-13 01:35:06 +0000  <a href=\"http://twitter.com/download/iphone\" r...  RT @dog_rates: This is Lilly. She just paralle...         8.305833e+17              4.196984e+09  2017-02-12 01:04:29 +0000  https://twitter.com/dog_rates/status/830583320...                13                  10   Lilly  None    None   None  None\n",
       "68  879130579576475649                    NaN                  NaN  2017-06-26 00:13:58 +0000  <a href=\"http://twitter.com/download/iphone\" r...  RT @dog_rates: This is Emmy. She was adopted t...         8.780576e+17              4.196984e+09  2017-06-23 01:10:23 +0000  https://twitter.com/dog_rates/status/878057613...                14                  10    Emmy  None    None   None  None\n",
       "73  878404777348136964                    NaN                  NaN  2017-06-24 00:09:53 +0000  <a href=\"http://twitter.com/download/iphone\" r...  RT @dog_rates: Meet Shadow. In an attempt to r...         8.782815e+17              4.196984e+09  2017-06-23 16:00:04 +0000  https://www.gofundme.com/3yd6y1c,https://twitt...                13                  10  Shadow  None    None   None  None"
      ]
     },
     "execution_count": 37,
     "metadata": {},
     "output_type": "execute_result"
    }
   ],
   "source": [
    "# Checking twitter_archive dataframe for tweets that actually retweets\n",
    "twitter_archive[~twitter_archive['retweeted_status_id'].isnull()].head()"
   ]
  },
  {
   "cell_type": "code",
   "execution_count": 38,
   "id": "8e488fa5",
   "metadata": {},
   "outputs": [
    {
     "data": {
      "text/plain": [
       "None          745\n",
       "a              55\n",
       "Charlie        12\n",
       "Cooper         11\n",
       "Lucy           11\n",
       "             ... \n",
       "Dex             1\n",
       "Ace             1\n",
       "Tayzie          1\n",
       "Grizzie         1\n",
       "Christoper      1\n",
       "Name: name, Length: 957, dtype: int64"
      ]
     },
     "execution_count": 38,
     "metadata": {},
     "output_type": "execute_result"
    }
   ],
   "source": [
    "# Checking for unique names of dogs in the twitter_archive dataframe\n",
    "some_names = twitter_archive.name.value_counts()\n",
    "some_names"
   ]
  },
  {
   "cell_type": "code",
   "execution_count": 39,
   "id": "b07a3da7",
   "metadata": {},
   "outputs": [
    {
     "data": {
      "text/plain": [
       "a       55\n",
       "the      8\n",
       "an       7\n",
       "such     1\n",
       "Name: name, dtype: int64"
      ]
     },
     "execution_count": 39,
     "metadata": {},
     "output_type": "execute_result"
    }
   ],
   "source": [
    "# Some dogs seem to have names like a, an, such and the. Lets investigate this.\n",
    "twitter_archive.query('name in [\"a\", \"an\", \"the\", \"such\", \"none\"]').name.value_counts()"
   ]
  },
  {
   "cell_type": "code",
   "execution_count": 40,
   "id": "f3db4361",
   "metadata": {},
   "outputs": [
    {
     "data": {
      "text/plain": [
       "22      I've yet to rate a Venezuelan Hover Wiener. Th...\n",
       "56      Here is a pupper approaching maximum borkdrive...\n",
       "649     Here is a perfect example of someone who has t...\n",
       "759     RT @dog_rates: This is an East African Chalupa...\n",
       "801     Guys this is getting so out of hand. We only r...\n",
       "1002    This is a mighty rare blue-tailed hammer sherk...\n",
       "1004    Viewer discretion is advised. This is a terrib...\n",
       "1017    This is a carrot. We only rate dogs. Please on...\n",
       "1025    This is an Iraqi Speed Kangaroo. It is not a d...\n",
       "1049    This is a very rare Great Alaskan Bush Pupper....\n",
       "1193    People please. This is a Deadly Mediterranean ...\n",
       "1207    This is a taco. We only rate dogs. Please only...\n",
       "1340    Here is a heartbreaking scene of an incredible...\n",
       "1351    Here is a whole flock of puppers.  60/50 I'll ...\n",
       "1361    This is a Butternut Cumberfloof. It's not wind...\n",
       "1362    This is an East African Chalupa Seal. We only ...\n",
       "1368    This is a Wild Tuscan Poofwiggle. Careful not ...\n",
       "1382    \"Pupper is a present to world. Here is a bow f...\n",
       "1499    This is a rare Arctic Wubberfloof. Unamused by...\n",
       "1527    Stop sending in lobsters. This is the final wa...\n",
       "1603    This is the newly formed pupper a capella grou...\n",
       "1737    Guys this really needs to stop. We've been ove...\n",
       "1785    This is a dog swinging. I really enjoyed it so...\n",
       "1797    This is the happiest pupper I've ever seen. 10...\n",
       "1815    This is the saddest/sweetest/best picture I've...\n",
       "1853    This is a Sizzlin Menorah spaniel from Brookly...\n",
       "1854    Seriously guys?! Only send in dogs. I only rat...\n",
       "1877    C'mon guys. We've been over this. We only rate...\n",
       "1878    This is a fluffy albino Bacardi Columbia mix. ...\n",
       "1923    This is a Sagitariot Baklava mix. Loves her ne...\n",
       "1941    This is a heavily opinionated dog. Loves walls...\n",
       "1955    This is a Lofted Aphrodisiac Terrier named Kip...\n",
       "1994    This is a baby Rand Paul. Curls for days. 11/1...\n",
       "2034    This is a Tuscaloosa Alcatraz named Jacob (Yac...\n",
       "2037    This is the best thing I've ever seen so sprea...\n",
       "2066    This is a Helvetica Listerine named Rufus. Thi...\n",
       "2116    This is a Deciduous Trimester mix named Spork....\n",
       "2125    This is a Rich Mahogany Seltzer named Cherokee...\n",
       "2128    This is a Speckled Cauliflower Yosemite named ...\n",
       "2146    This is a spotted Lipitor Rumpelstiltskin name...\n",
       "2153    This is a brave dog. Excellent free climber. T...\n",
       "2161    This is a Coriander Baton Rouge named Alfredo....\n",
       "2191    This is a Slovakian Helter Skelter Feta named ...\n",
       "2198    This is a wild Toblerone from Papua New Guinea...\n",
       "2204    This is an Irish Rigatoni terrier named Berta....\n",
       "2211    Here is a horned dog. Much grace. Can jump ove...\n",
       "2212    Never forget this vine. You will not stop watc...\n",
       "2218    This is a Birmingham Quagmire named Chuk. Love...\n",
       "2222    Here is a mother dog caring for her pups. Snaz...\n",
       "2235    This is a Trans Siberian Kellogg named Alfonso...\n",
       "2249    This is a Shotokon Macadamia mix named Cheryl....\n",
       "2255    This is a rare Hungarian Pinot named Jessiga. ...\n",
       "2264    This is a southwest Coriander named Klint. Hat...\n",
       "2273    This is a northern Wahoo named Kohl. He runs t...\n",
       "2287    This is a Dasani Kingfisher from Maine. His na...\n",
       "2304    This is a curly Ticonderoga named Pepe. No fee...\n",
       "2311    This is a purebred Bacardi named Octaviath. Ca...\n",
       "2314    This is a golden Buckminsterfullerene named Jo...\n",
       "2327    This is a southern Vesuvius bumblegruff. Can d...\n",
       "2333    This is an extremely rare horned Parthenon. No...\n",
       "2334    This is a funny dog. Weird toes. Won't come do...\n",
       "2335    This is an Albanian 3 1/2 legged  Episcopalian...\n",
       "2345    This is the happiest dog you will ever see. Ve...\n",
       "2346    Here is the Rand Paul of retrievers folks! He'...\n",
       "2347    My oh my. This is a rare blond Canadian terrie...\n",
       "2348    Here is a Siberian heavily armored polar bear ...\n",
       "2349    This is an odd dog. Hard on the outside but lo...\n",
       "2350    This is a truly beautiful English Wilson Staff...\n",
       "2352    This is a purebred Piers Morgan. Loves to Netf...\n",
       "2353    Here is a very happy pup. Big fan of well-main...\n",
       "2354    This is a western brown Mitsubishi terrier. Up...\n",
       "Name: text, dtype: object"
      ]
     },
     "execution_count": 40,
     "metadata": {},
     "output_type": "execute_result"
    }
   ],
   "source": [
    "# Lets check out the tweet\n",
    "twitter_archive.query('name in [\"a\", \"an\", \"the\", \"such\", \"none\"]').text"
   ]
  },
  {
   "cell_type": "code",
   "execution_count": 41,
   "id": "9c835210",
   "metadata": {},
   "outputs": [
    {
     "data": {
      "text/plain": [
       "71"
      ]
     },
     "execution_count": 41,
     "metadata": {},
     "output_type": "execute_result"
    }
   ],
   "source": [
    "# Lets check the number of rows with invalid names\n",
    "len(twitter_archive.query('name in [\"a\", \"an\", \"the\", \"such\"]'))"
   ]
  },
  {
   "cell_type": "code",
   "execution_count": 42,
   "id": "eb6a451e",
   "metadata": {},
   "outputs": [
    {
     "data": {
      "text/html": [
       "<div>\n",
       "<style scoped>\n",
       "    .dataframe tbody tr th:only-of-type {\n",
       "        vertical-align: middle;\n",
       "    }\n",
       "\n",
       "    .dataframe tbody tr th {\n",
       "        vertical-align: top;\n",
       "    }\n",
       "\n",
       "    .dataframe thead th {\n",
       "        text-align: right;\n",
       "    }\n",
       "</style>\n",
       "<table border=\"1\" class=\"dataframe\">\n",
       "  <thead>\n",
       "    <tr style=\"text-align: right;\">\n",
       "      <th></th>\n",
       "      <th>tweet_id</th>\n",
       "      <th>img_num</th>\n",
       "      <th>p1_conf</th>\n",
       "      <th>p2_conf</th>\n",
       "      <th>p3_conf</th>\n",
       "    </tr>\n",
       "  </thead>\n",
       "  <tbody>\n",
       "    <tr>\n",
       "      <th>count</th>\n",
       "      <td>2.075000e+03</td>\n",
       "      <td>2075.000000</td>\n",
       "      <td>2075.000000</td>\n",
       "      <td>2.075000e+03</td>\n",
       "      <td>2.075000e+03</td>\n",
       "    </tr>\n",
       "    <tr>\n",
       "      <th>mean</th>\n",
       "      <td>7.384514e+17</td>\n",
       "      <td>1.203855</td>\n",
       "      <td>0.594548</td>\n",
       "      <td>1.345886e-01</td>\n",
       "      <td>6.032417e-02</td>\n",
       "    </tr>\n",
       "    <tr>\n",
       "      <th>std</th>\n",
       "      <td>6.785203e+16</td>\n",
       "      <td>0.561875</td>\n",
       "      <td>0.271174</td>\n",
       "      <td>1.006657e-01</td>\n",
       "      <td>5.090593e-02</td>\n",
       "    </tr>\n",
       "    <tr>\n",
       "      <th>min</th>\n",
       "      <td>6.660209e+17</td>\n",
       "      <td>1.000000</td>\n",
       "      <td>0.044333</td>\n",
       "      <td>1.011300e-08</td>\n",
       "      <td>1.740170e-10</td>\n",
       "    </tr>\n",
       "    <tr>\n",
       "      <th>25%</th>\n",
       "      <td>6.764835e+17</td>\n",
       "      <td>1.000000</td>\n",
       "      <td>0.364412</td>\n",
       "      <td>5.388625e-02</td>\n",
       "      <td>1.622240e-02</td>\n",
       "    </tr>\n",
       "    <tr>\n",
       "      <th>50%</th>\n",
       "      <td>7.119988e+17</td>\n",
       "      <td>1.000000</td>\n",
       "      <td>0.588230</td>\n",
       "      <td>1.181810e-01</td>\n",
       "      <td>4.944380e-02</td>\n",
       "    </tr>\n",
       "    <tr>\n",
       "      <th>75%</th>\n",
       "      <td>7.932034e+17</td>\n",
       "      <td>1.000000</td>\n",
       "      <td>0.843855</td>\n",
       "      <td>1.955655e-01</td>\n",
       "      <td>9.180755e-02</td>\n",
       "    </tr>\n",
       "    <tr>\n",
       "      <th>max</th>\n",
       "      <td>8.924206e+17</td>\n",
       "      <td>4.000000</td>\n",
       "      <td>1.000000</td>\n",
       "      <td>4.880140e-01</td>\n",
       "      <td>2.734190e-01</td>\n",
       "    </tr>\n",
       "  </tbody>\n",
       "</table>\n",
       "</div>"
      ],
      "text/plain": [
       "           tweet_id      img_num      p1_conf       p2_conf       p3_conf\n",
       "count  2.075000e+03  2075.000000  2075.000000  2.075000e+03  2.075000e+03\n",
       "mean   7.384514e+17     1.203855     0.594548  1.345886e-01  6.032417e-02\n",
       "std    6.785203e+16     0.561875     0.271174  1.006657e-01  5.090593e-02\n",
       "min    6.660209e+17     1.000000     0.044333  1.011300e-08  1.740170e-10\n",
       "25%    6.764835e+17     1.000000     0.364412  5.388625e-02  1.622240e-02\n",
       "50%    7.119988e+17     1.000000     0.588230  1.181810e-01  4.944380e-02\n",
       "75%    7.932034e+17     1.000000     0.843855  1.955655e-01  9.180755e-02\n",
       "max    8.924206e+17     4.000000     1.000000  4.880140e-01  2.734190e-01"
      ]
     },
     "execution_count": 42,
     "metadata": {},
     "output_type": "execute_result"
    }
   ],
   "source": [
    "# Lets see summary statistics for the image_prediction dataframe. Everything seems good.\n",
    "image_prediction.describe()"
   ]
  },
  {
   "cell_type": "code",
   "execution_count": 43,
   "id": "9717f04c",
   "metadata": {},
   "outputs": [
    {
     "data": {
      "text/html": [
       "<div>\n",
       "<style scoped>\n",
       "    .dataframe tbody tr th:only-of-type {\n",
       "        vertical-align: middle;\n",
       "    }\n",
       "\n",
       "    .dataframe tbody tr th {\n",
       "        vertical-align: top;\n",
       "    }\n",
       "\n",
       "    .dataframe thead th {\n",
       "        text-align: right;\n",
       "    }\n",
       "</style>\n",
       "<table border=\"1\" class=\"dataframe\">\n",
       "  <thead>\n",
       "    <tr style=\"text-align: right;\">\n",
       "      <th></th>\n",
       "      <th>id</th>\n",
       "      <th>retweet_count</th>\n",
       "      <th>favorite_count</th>\n",
       "    </tr>\n",
       "  </thead>\n",
       "  <tbody>\n",
       "    <tr>\n",
       "      <th>count</th>\n",
       "      <td>2.325000e+03</td>\n",
       "      <td>2325.000000</td>\n",
       "      <td>2325.000000</td>\n",
       "    </tr>\n",
       "    <tr>\n",
       "      <th>mean</th>\n",
       "      <td>7.417449e+17</td>\n",
       "      <td>2471.618925</td>\n",
       "      <td>7049.467527</td>\n",
       "    </tr>\n",
       "    <tr>\n",
       "      <th>std</th>\n",
       "      <td>6.816092e+16</td>\n",
       "      <td>4188.261241</td>\n",
       "      <td>10958.717702</td>\n",
       "    </tr>\n",
       "    <tr>\n",
       "      <th>min</th>\n",
       "      <td>6.660209e+17</td>\n",
       "      <td>1.000000</td>\n",
       "      <td>0.000000</td>\n",
       "    </tr>\n",
       "    <tr>\n",
       "      <th>25%</th>\n",
       "      <td>6.780233e+17</td>\n",
       "      <td>495.000000</td>\n",
       "      <td>1223.000000</td>\n",
       "    </tr>\n",
       "    <tr>\n",
       "      <th>50%</th>\n",
       "      <td>7.178418e+17</td>\n",
       "      <td>1149.000000</td>\n",
       "      <td>3053.000000</td>\n",
       "    </tr>\n",
       "    <tr>\n",
       "      <th>75%</th>\n",
       "      <td>7.986440e+17</td>\n",
       "      <td>2863.000000</td>\n",
       "      <td>8603.000000</td>\n",
       "    </tr>\n",
       "    <tr>\n",
       "      <th>max</th>\n",
       "      <td>8.921774e+17</td>\n",
       "      <td>70795.000000</td>\n",
       "      <td>144985.000000</td>\n",
       "    </tr>\n",
       "  </tbody>\n",
       "</table>\n",
       "</div>"
      ],
      "text/plain": [
       "                 id  retweet_count  favorite_count\n",
       "count  2.325000e+03    2325.000000     2325.000000\n",
       "mean   7.417449e+17    2471.618925     7049.467527\n",
       "std    6.816092e+16    4188.261241    10958.717702\n",
       "min    6.660209e+17       1.000000        0.000000\n",
       "25%    6.780233e+17     495.000000     1223.000000\n",
       "50%    7.178418e+17    1149.000000     3053.000000\n",
       "75%    7.986440e+17    2863.000000     8603.000000\n",
       "max    8.921774e+17   70795.000000   144985.000000"
      ]
     },
     "execution_count": 43,
     "metadata": {},
     "output_type": "execute_result"
    }
   ],
   "source": [
    "# Lets see the summary statistics for the pulled_tweets dataframe. \n",
    "# seems ok as some tweets tend to have a very high number of likes and retweets\n",
    "# Will only be removed if they tend to affect analysis.\n",
    "pulled_tweets.describe()"
   ]
  },
  {
   "cell_type": "code",
   "execution_count": 44,
   "id": "6a30181d",
   "metadata": {},
   "outputs": [
    {
     "data": {
      "text/plain": [
       "0"
      ]
     },
     "execution_count": 44,
     "metadata": {},
     "output_type": "execute_result"
    }
   ],
   "source": [
    "# Checking for duplicates\n",
    "twitter_archive.duplicated().sum()"
   ]
  },
  {
   "cell_type": "code",
   "execution_count": 45,
   "id": "9e509f81",
   "metadata": {},
   "outputs": [
    {
     "data": {
      "text/plain": [
       "0"
      ]
     },
     "execution_count": 45,
     "metadata": {},
     "output_type": "execute_result"
    }
   ],
   "source": [
    "# Checking for duplicates\n",
    "image_prediction.duplicated().sum()"
   ]
  },
  {
   "cell_type": "code",
   "execution_count": 46,
   "id": "7e870eac",
   "metadata": {},
   "outputs": [
    {
     "data": {
      "text/plain": [
       "0"
      ]
     },
     "execution_count": 46,
     "metadata": {},
     "output_type": "execute_result"
    }
   ],
   "source": [
    "# Checking for duplicates\n",
    "pulled_tweets.duplicated().sum()"
   ]
  },
  {
   "cell_type": "markdown",
   "id": "3aaf5784",
   "metadata": {},
   "source": [
    "### Quality issues\n",
    "1. Remove retweets from the twitter_archive dataframe leaving original tweets.\n",
    "\n",
    "2. Data type of timestamp is object instead of datatime in the twitter_archive dataframe\n",
    "\n",
    "3. Drop the columns that are related to retweet status i.e (retweeted_status_id, retweeted_status_user_id, retweeted_status_timestamp) since they are null for origianl tweets. \n",
    "\n",
    "4. In the twitter_archive dataframe, drop columns with too many null values i.e (in_reply_to_status_id, in_reply_to_user_id)\n",
    "\n",
    "5. In the twitter_archive dataframe, rating_denominator column has a very large outlier values that deviates from the standard value which is 10.\n",
    "\n",
    "6. In the twitter_archive dataframe, rating_denominator column has a huge outlier values and decimal values that were not extracted properly. Also change the datatype from int to float.\n",
    "\n",
    "7. In the twitter_archive dataframe, there seems to dogs with invalid names like 'a', 'the', 'an', 'such' and others in lower case.\n",
    "\n",
    "8. Remame the 'id' column in the pulled_tweets dataframe to 'tweet_id'.\n",
    "\n",
    "9. Drop rows with null values in expanded url column"
   ]
  },
  {
   "cell_type": "markdown",
   "id": "aed56355",
   "metadata": {},
   "source": [
    "### Tidiness issues\n",
    "1. The doggo puppo, floofer and pupper columns in the twitter_archive dataframe should be merged into a column named dog_class.\n",
    "\n",
    "2. The rating demoninator column should be dropped since all rows have the same value which is 10.\n",
    "\n",
    "3. The cleaned version of the three datasets should be merged together."
   ]
  },
  {
   "cell_type": "markdown",
   "id": "df289233",
   "metadata": {},
   "source": [
    "##### Seems like most of the data issues have been captured, lets go ahead to the cleaning stage"
   ]
  },
  {
   "cell_type": "markdown",
   "id": "50985896",
   "metadata": {},
   "source": [
    "## Cleaning Data"
   ]
  },
  {
   "cell_type": "markdown",
   "id": "c8a0b444",
   "metadata": {},
   "source": [
    "##### Before cleaning lets make copy of each dataframe to preserve the original datasets. After this has been done, we can go ahead to do clean them."
   ]
  },
  {
   "cell_type": "code",
   "execution_count": 461,
   "id": "5b559380",
   "metadata": {},
   "outputs": [
    {
     "data": {
      "text/html": [
       "<div>\n",
       "<style scoped>\n",
       "    .dataframe tbody tr th:only-of-type {\n",
       "        vertical-align: middle;\n",
       "    }\n",
       "\n",
       "    .dataframe tbody tr th {\n",
       "        vertical-align: top;\n",
       "    }\n",
       "\n",
       "    .dataframe thead th {\n",
       "        text-align: right;\n",
       "    }\n",
       "</style>\n",
       "<table border=\"1\" class=\"dataframe\">\n",
       "  <thead>\n",
       "    <tr style=\"text-align: right;\">\n",
       "      <th></th>\n",
       "      <th>tweet_id</th>\n",
       "      <th>in_reply_to_status_id</th>\n",
       "      <th>in_reply_to_user_id</th>\n",
       "      <th>timestamp</th>\n",
       "      <th>source</th>\n",
       "      <th>text</th>\n",
       "      <th>retweeted_status_id</th>\n",
       "      <th>retweeted_status_user_id</th>\n",
       "      <th>retweeted_status_timestamp</th>\n",
       "      <th>expanded_urls</th>\n",
       "      <th>rating_numerator</th>\n",
       "      <th>rating_denominator</th>\n",
       "      <th>name</th>\n",
       "      <th>doggo</th>\n",
       "      <th>floofer</th>\n",
       "      <th>pupper</th>\n",
       "      <th>puppo</th>\n",
       "    </tr>\n",
       "  </thead>\n",
       "  <tbody>\n",
       "    <tr>\n",
       "      <th>0</th>\n",
       "      <td>892420643555336193</td>\n",
       "      <td>NaN</td>\n",
       "      <td>NaN</td>\n",
       "      <td>2017-08-01 16:23:56 +0000</td>\n",
       "      <td>&lt;a href=\"http://twitter.com/download/iphone\" r...</td>\n",
       "      <td>This is Phineas. He's a mystical boy. Only eve...</td>\n",
       "      <td>NaN</td>\n",
       "      <td>NaN</td>\n",
       "      <td>NaN</td>\n",
       "      <td>https://twitter.com/dog_rates/status/892420643...</td>\n",
       "      <td>13</td>\n",
       "      <td>10</td>\n",
       "      <td>Phineas</td>\n",
       "      <td>None</td>\n",
       "      <td>None</td>\n",
       "      <td>None</td>\n",
       "      <td>None</td>\n",
       "    </tr>\n",
       "    <tr>\n",
       "      <th>1</th>\n",
       "      <td>892177421306343426</td>\n",
       "      <td>NaN</td>\n",
       "      <td>NaN</td>\n",
       "      <td>2017-08-01 00:17:27 +0000</td>\n",
       "      <td>&lt;a href=\"http://twitter.com/download/iphone\" r...</td>\n",
       "      <td>This is Tilly. She's just checking pup on you....</td>\n",
       "      <td>NaN</td>\n",
       "      <td>NaN</td>\n",
       "      <td>NaN</td>\n",
       "      <td>https://twitter.com/dog_rates/status/892177421...</td>\n",
       "      <td>13</td>\n",
       "      <td>10</td>\n",
       "      <td>Tilly</td>\n",
       "      <td>None</td>\n",
       "      <td>None</td>\n",
       "      <td>None</td>\n",
       "      <td>None</td>\n",
       "    </tr>\n",
       "    <tr>\n",
       "      <th>2</th>\n",
       "      <td>891815181378084864</td>\n",
       "      <td>NaN</td>\n",
       "      <td>NaN</td>\n",
       "      <td>2017-07-31 00:18:03 +0000</td>\n",
       "      <td>&lt;a href=\"http://twitter.com/download/iphone\" r...</td>\n",
       "      <td>This is Archie. He is a rare Norwegian Pouncin...</td>\n",
       "      <td>NaN</td>\n",
       "      <td>NaN</td>\n",
       "      <td>NaN</td>\n",
       "      <td>https://twitter.com/dog_rates/status/891815181...</td>\n",
       "      <td>12</td>\n",
       "      <td>10</td>\n",
       "      <td>Archie</td>\n",
       "      <td>None</td>\n",
       "      <td>None</td>\n",
       "      <td>None</td>\n",
       "      <td>None</td>\n",
       "    </tr>\n",
       "    <tr>\n",
       "      <th>3</th>\n",
       "      <td>891689557279858688</td>\n",
       "      <td>NaN</td>\n",
       "      <td>NaN</td>\n",
       "      <td>2017-07-30 15:58:51 +0000</td>\n",
       "      <td>&lt;a href=\"http://twitter.com/download/iphone\" r...</td>\n",
       "      <td>This is Darla. She commenced a snooze mid meal...</td>\n",
       "      <td>NaN</td>\n",
       "      <td>NaN</td>\n",
       "      <td>NaN</td>\n",
       "      <td>https://twitter.com/dog_rates/status/891689557...</td>\n",
       "      <td>13</td>\n",
       "      <td>10</td>\n",
       "      <td>Darla</td>\n",
       "      <td>None</td>\n",
       "      <td>None</td>\n",
       "      <td>None</td>\n",
       "      <td>None</td>\n",
       "    </tr>\n",
       "    <tr>\n",
       "      <th>4</th>\n",
       "      <td>891327558926688256</td>\n",
       "      <td>NaN</td>\n",
       "      <td>NaN</td>\n",
       "      <td>2017-07-29 16:00:24 +0000</td>\n",
       "      <td>&lt;a href=\"http://twitter.com/download/iphone\" r...</td>\n",
       "      <td>This is Franklin. He would like you to stop ca...</td>\n",
       "      <td>NaN</td>\n",
       "      <td>NaN</td>\n",
       "      <td>NaN</td>\n",
       "      <td>https://twitter.com/dog_rates/status/891327558...</td>\n",
       "      <td>12</td>\n",
       "      <td>10</td>\n",
       "      <td>Franklin</td>\n",
       "      <td>None</td>\n",
       "      <td>None</td>\n",
       "      <td>None</td>\n",
       "      <td>None</td>\n",
       "    </tr>\n",
       "  </tbody>\n",
       "</table>\n",
       "</div>"
      ],
      "text/plain": [
       "             tweet_id  in_reply_to_status_id  in_reply_to_user_id                  timestamp                                             source                                               text  retweeted_status_id  retweeted_status_user_id retweeted_status_timestamp                                      expanded_urls  rating_numerator  rating_denominator      name doggo floofer pupper puppo\n",
       "0  892420643555336193                    NaN                  NaN  2017-08-01 16:23:56 +0000  <a href=\"http://twitter.com/download/iphone\" r...  This is Phineas. He's a mystical boy. Only eve...                  NaN                       NaN                        NaN  https://twitter.com/dog_rates/status/892420643...                13                  10   Phineas  None    None   None  None\n",
       "1  892177421306343426                    NaN                  NaN  2017-08-01 00:17:27 +0000  <a href=\"http://twitter.com/download/iphone\" r...  This is Tilly. She's just checking pup on you....                  NaN                       NaN                        NaN  https://twitter.com/dog_rates/status/892177421...                13                  10     Tilly  None    None   None  None\n",
       "2  891815181378084864                    NaN                  NaN  2017-07-31 00:18:03 +0000  <a href=\"http://twitter.com/download/iphone\" r...  This is Archie. He is a rare Norwegian Pouncin...                  NaN                       NaN                        NaN  https://twitter.com/dog_rates/status/891815181...                12                  10    Archie  None    None   None  None\n",
       "3  891689557279858688                    NaN                  NaN  2017-07-30 15:58:51 +0000  <a href=\"http://twitter.com/download/iphone\" r...  This is Darla. She commenced a snooze mid meal...                  NaN                       NaN                        NaN  https://twitter.com/dog_rates/status/891689557...                13                  10     Darla  None    None   None  None\n",
       "4  891327558926688256                    NaN                  NaN  2017-07-29 16:00:24 +0000  <a href=\"http://twitter.com/download/iphone\" r...  This is Franklin. He would like you to stop ca...                  NaN                       NaN                        NaN  https://twitter.com/dog_rates/status/891327558...                12                  10  Franklin  None    None   None  None"
      ]
     },
     "execution_count": 461,
     "metadata": {},
     "output_type": "execute_result"
    }
   ],
   "source": [
    "# Copy of twitter_archive dataframe\n",
    "archive_copy = twitter_archive.copy()\n",
    "archive_copy.head()"
   ]
  },
  {
   "cell_type": "code",
   "execution_count": 462,
   "id": "ebd4594e",
   "metadata": {},
   "outputs": [
    {
     "data": {
      "text/html": [
       "<div>\n",
       "<style scoped>\n",
       "    .dataframe tbody tr th:only-of-type {\n",
       "        vertical-align: middle;\n",
       "    }\n",
       "\n",
       "    .dataframe tbody tr th {\n",
       "        vertical-align: top;\n",
       "    }\n",
       "\n",
       "    .dataframe thead th {\n",
       "        text-align: right;\n",
       "    }\n",
       "</style>\n",
       "<table border=\"1\" class=\"dataframe\">\n",
       "  <thead>\n",
       "    <tr style=\"text-align: right;\">\n",
       "      <th></th>\n",
       "      <th>tweet_id</th>\n",
       "      <th>jpg_url</th>\n",
       "      <th>img_num</th>\n",
       "      <th>p1</th>\n",
       "      <th>p1_conf</th>\n",
       "      <th>p1_dog</th>\n",
       "      <th>p2</th>\n",
       "      <th>p2_conf</th>\n",
       "      <th>p2_dog</th>\n",
       "      <th>p3</th>\n",
       "      <th>p3_conf</th>\n",
       "      <th>p3_dog</th>\n",
       "    </tr>\n",
       "  </thead>\n",
       "  <tbody>\n",
       "    <tr>\n",
       "      <th>0</th>\n",
       "      <td>666020888022790149</td>\n",
       "      <td>https://pbs.twimg.com/media/CT4udn0WwAA0aMy.jpg</td>\n",
       "      <td>1</td>\n",
       "      <td>Welsh_springer_spaniel</td>\n",
       "      <td>0.465074</td>\n",
       "      <td>True</td>\n",
       "      <td>collie</td>\n",
       "      <td>0.156665</td>\n",
       "      <td>True</td>\n",
       "      <td>Shetland_sheepdog</td>\n",
       "      <td>0.061428</td>\n",
       "      <td>True</td>\n",
       "    </tr>\n",
       "    <tr>\n",
       "      <th>1</th>\n",
       "      <td>666029285002620928</td>\n",
       "      <td>https://pbs.twimg.com/media/CT42GRgUYAA5iDo.jpg</td>\n",
       "      <td>1</td>\n",
       "      <td>redbone</td>\n",
       "      <td>0.506826</td>\n",
       "      <td>True</td>\n",
       "      <td>miniature_pinscher</td>\n",
       "      <td>0.074192</td>\n",
       "      <td>True</td>\n",
       "      <td>Rhodesian_ridgeback</td>\n",
       "      <td>0.072010</td>\n",
       "      <td>True</td>\n",
       "    </tr>\n",
       "    <tr>\n",
       "      <th>2</th>\n",
       "      <td>666033412701032449</td>\n",
       "      <td>https://pbs.twimg.com/media/CT4521TWwAEvMyu.jpg</td>\n",
       "      <td>1</td>\n",
       "      <td>German_shepherd</td>\n",
       "      <td>0.596461</td>\n",
       "      <td>True</td>\n",
       "      <td>malinois</td>\n",
       "      <td>0.138584</td>\n",
       "      <td>True</td>\n",
       "      <td>bloodhound</td>\n",
       "      <td>0.116197</td>\n",
       "      <td>True</td>\n",
       "    </tr>\n",
       "    <tr>\n",
       "      <th>3</th>\n",
       "      <td>666044226329800704</td>\n",
       "      <td>https://pbs.twimg.com/media/CT5Dr8HUEAA-lEu.jpg</td>\n",
       "      <td>1</td>\n",
       "      <td>Rhodesian_ridgeback</td>\n",
       "      <td>0.408143</td>\n",
       "      <td>True</td>\n",
       "      <td>redbone</td>\n",
       "      <td>0.360687</td>\n",
       "      <td>True</td>\n",
       "      <td>miniature_pinscher</td>\n",
       "      <td>0.222752</td>\n",
       "      <td>True</td>\n",
       "    </tr>\n",
       "    <tr>\n",
       "      <th>4</th>\n",
       "      <td>666049248165822465</td>\n",
       "      <td>https://pbs.twimg.com/media/CT5IQmsXIAAKY4A.jpg</td>\n",
       "      <td>1</td>\n",
       "      <td>miniature_pinscher</td>\n",
       "      <td>0.560311</td>\n",
       "      <td>True</td>\n",
       "      <td>Rottweiler</td>\n",
       "      <td>0.243682</td>\n",
       "      <td>True</td>\n",
       "      <td>Doberman</td>\n",
       "      <td>0.154629</td>\n",
       "      <td>True</td>\n",
       "    </tr>\n",
       "  </tbody>\n",
       "</table>\n",
       "</div>"
      ],
      "text/plain": [
       "             tweet_id                                          jpg_url  img_num                      p1   p1_conf  p1_dog                  p2   p2_conf  p2_dog                   p3   p3_conf  p3_dog\n",
       "0  666020888022790149  https://pbs.twimg.com/media/CT4udn0WwAA0aMy.jpg        1  Welsh_springer_spaniel  0.465074    True              collie  0.156665    True    Shetland_sheepdog  0.061428    True\n",
       "1  666029285002620928  https://pbs.twimg.com/media/CT42GRgUYAA5iDo.jpg        1                 redbone  0.506826    True  miniature_pinscher  0.074192    True  Rhodesian_ridgeback  0.072010    True\n",
       "2  666033412701032449  https://pbs.twimg.com/media/CT4521TWwAEvMyu.jpg        1         German_shepherd  0.596461    True            malinois  0.138584    True           bloodhound  0.116197    True\n",
       "3  666044226329800704  https://pbs.twimg.com/media/CT5Dr8HUEAA-lEu.jpg        1     Rhodesian_ridgeback  0.408143    True             redbone  0.360687    True   miniature_pinscher  0.222752    True\n",
       "4  666049248165822465  https://pbs.twimg.com/media/CT5IQmsXIAAKY4A.jpg        1      miniature_pinscher  0.560311    True          Rottweiler  0.243682    True             Doberman  0.154629    True"
      ]
     },
     "execution_count": 462,
     "metadata": {},
     "output_type": "execute_result"
    }
   ],
   "source": [
    "# copy of image_prediction dataframe\n",
    "prediction_copy = image_prediction.copy()\n",
    "prediction_copy.head()"
   ]
  },
  {
   "cell_type": "code",
   "execution_count": 463,
   "id": "c3f327db",
   "metadata": {},
   "outputs": [
    {
     "data": {
      "text/html": [
       "<div>\n",
       "<style scoped>\n",
       "    .dataframe tbody tr th:only-of-type {\n",
       "        vertical-align: middle;\n",
       "    }\n",
       "\n",
       "    .dataframe tbody tr th {\n",
       "        vertical-align: top;\n",
       "    }\n",
       "\n",
       "    .dataframe thead th {\n",
       "        text-align: right;\n",
       "    }\n",
       "</style>\n",
       "<table border=\"1\" class=\"dataframe\">\n",
       "  <thead>\n",
       "    <tr style=\"text-align: right;\">\n",
       "      <th></th>\n",
       "      <th>id</th>\n",
       "      <th>retweet_count</th>\n",
       "      <th>favorite_count</th>\n",
       "    </tr>\n",
       "  </thead>\n",
       "  <tbody>\n",
       "    <tr>\n",
       "      <th>0</th>\n",
       "      <td>892177421306343426</td>\n",
       "      <td>5302</td>\n",
       "      <td>29345</td>\n",
       "    </tr>\n",
       "    <tr>\n",
       "      <th>1</th>\n",
       "      <td>891815181378084864</td>\n",
       "      <td>3483</td>\n",
       "      <td>22069</td>\n",
       "    </tr>\n",
       "    <tr>\n",
       "      <th>2</th>\n",
       "      <td>891689557279858688</td>\n",
       "      <td>7229</td>\n",
       "      <td>36957</td>\n",
       "    </tr>\n",
       "    <tr>\n",
       "      <th>3</th>\n",
       "      <td>891327558926688256</td>\n",
       "      <td>7768</td>\n",
       "      <td>35329</td>\n",
       "    </tr>\n",
       "    <tr>\n",
       "      <th>4</th>\n",
       "      <td>891087950875897856</td>\n",
       "      <td>2602</td>\n",
       "      <td>17820</td>\n",
       "    </tr>\n",
       "  </tbody>\n",
       "</table>\n",
       "</div>"
      ],
      "text/plain": [
       "                   id  retweet_count  favorite_count\n",
       "0  892177421306343426           5302           29345\n",
       "1  891815181378084864           3483           22069\n",
       "2  891689557279858688           7229           36957\n",
       "3  891327558926688256           7768           35329\n",
       "4  891087950875897856           2602           17820"
      ]
     },
     "execution_count": 463,
     "metadata": {},
     "output_type": "execute_result"
    }
   ],
   "source": [
    "# copy of pulled_tweets dataframe\n",
    "count_copy = pulled_tweets.copy()\n",
    "count_copy.head()"
   ]
  },
  {
   "cell_type": "markdown",
   "id": "ef55ef1d",
   "metadata": {},
   "source": [
    "### Quality Issues"
   ]
  },
  {
   "cell_type": "markdown",
   "id": "17a152e8",
   "metadata": {},
   "source": [
    "#### Issue #1: \n",
    "Remove retweets from the twitter_archive dataframe leaving original tweets that have images"
   ]
  },
  {
   "cell_type": "markdown",
   "id": "b9e9990d",
   "metadata": {},
   "source": [
    "#### Define: \n",
    "Drop rows that contain retweets using .drop() method"
   ]
  },
  {
   "cell_type": "markdown",
   "id": "dffb18ae",
   "metadata": {},
   "source": [
    "#### Code"
   ]
  },
  {
   "cell_type": "code",
   "execution_count": 464,
   "id": "fc09c1ed",
   "metadata": {},
   "outputs": [],
   "source": [
    "archive_copy.drop(index=archive_copy[~archive_copy['retweeted_status_id'].isnull()].index, inplace=True)"
   ]
  },
  {
   "cell_type": "markdown",
   "id": "06949ace",
   "metadata": {},
   "source": [
    "#### Test"
   ]
  },
  {
   "cell_type": "code",
   "execution_count": 465,
   "id": "1bcbe6a1",
   "metadata": {},
   "outputs": [
    {
     "data": {
      "text/html": [
       "<div>\n",
       "<style scoped>\n",
       "    .dataframe tbody tr th:only-of-type {\n",
       "        vertical-align: middle;\n",
       "    }\n",
       "\n",
       "    .dataframe tbody tr th {\n",
       "        vertical-align: top;\n",
       "    }\n",
       "\n",
       "    .dataframe thead th {\n",
       "        text-align: right;\n",
       "    }\n",
       "</style>\n",
       "<table border=\"1\" class=\"dataframe\">\n",
       "  <thead>\n",
       "    <tr style=\"text-align: right;\">\n",
       "      <th></th>\n",
       "      <th>tweet_id</th>\n",
       "      <th>in_reply_to_status_id</th>\n",
       "      <th>in_reply_to_user_id</th>\n",
       "      <th>timestamp</th>\n",
       "      <th>source</th>\n",
       "      <th>text</th>\n",
       "      <th>retweeted_status_id</th>\n",
       "      <th>retweeted_status_user_id</th>\n",
       "      <th>retweeted_status_timestamp</th>\n",
       "      <th>expanded_urls</th>\n",
       "      <th>rating_numerator</th>\n",
       "      <th>rating_denominator</th>\n",
       "      <th>name</th>\n",
       "      <th>doggo</th>\n",
       "      <th>floofer</th>\n",
       "      <th>pupper</th>\n",
       "      <th>puppo</th>\n",
       "    </tr>\n",
       "  </thead>\n",
       "  <tbody>\n",
       "  </tbody>\n",
       "</table>\n",
       "</div>"
      ],
      "text/plain": [
       "Empty DataFrame\n",
       "Columns: [tweet_id, in_reply_to_status_id, in_reply_to_user_id, timestamp, source, text, retweeted_status_id, retweeted_status_user_id, retweeted_status_timestamp, expanded_urls, rating_numerator, rating_denominator, name, doggo, floofer, pupper, puppo]\n",
       "Index: []"
      ]
     },
     "execution_count": 465,
     "metadata": {},
     "output_type": "execute_result"
    }
   ],
   "source": [
    "archive_copy[~archive_copy['retweeted_status_id'].isnull()]"
   ]
  },
  {
   "cell_type": "markdown",
   "id": "fe6805b0",
   "metadata": {},
   "source": [
    "#### Issue #2:\n",
    "Data type of timestamp is object instead of datatime in the twitter_archive dataframe"
   ]
  },
  {
   "cell_type": "markdown",
   "id": "a2cf75d5",
   "metadata": {},
   "source": [
    "#### Define: \n",
    "Change the datatype from object to datetime"
   ]
  },
  {
   "cell_type": "markdown",
   "id": "4da9478a",
   "metadata": {},
   "source": [
    "#### Code"
   ]
  },
  {
   "cell_type": "code",
   "execution_count": 466,
   "id": "7d95a9d4",
   "metadata": {},
   "outputs": [],
   "source": [
    "archive_copy['timestamp'] = pd.to_datetime(archive_copy['timestamp'])"
   ]
  },
  {
   "cell_type": "markdown",
   "id": "e62d95c8",
   "metadata": {},
   "source": [
    "#### Test"
   ]
  },
  {
   "cell_type": "code",
   "execution_count": 467,
   "id": "40c11ee5",
   "metadata": {},
   "outputs": [
    {
     "data": {
      "text/plain": [
       "datetime64[ns, UTC]"
      ]
     },
     "execution_count": 467,
     "metadata": {},
     "output_type": "execute_result"
    }
   ],
   "source": [
    "archive_copy.timestamp.dtype"
   ]
  },
  {
   "cell_type": "markdown",
   "id": "b0599d33",
   "metadata": {},
   "source": [
    "#### Issue #3:\n",
    "Drop the columns that are related to retweet status i.e (retweeted_status_id, retweeted_status_user_id, retweeted_status_timestamp) since they are all null for origianl tweets."
   ]
  },
  {
   "cell_type": "markdown",
   "id": "35a22285",
   "metadata": {},
   "source": [
    "#### Define:\n",
    "Drop columns that are related to retweets"
   ]
  },
  {
   "cell_type": "markdown",
   "id": "bd2f1787",
   "metadata": {},
   "source": [
    "#### Code"
   ]
  },
  {
   "cell_type": "code",
   "execution_count": 468,
   "id": "596c6f5b",
   "metadata": {},
   "outputs": [],
   "source": [
    "archive_copy.drop(columns = [\"retweeted_status_id\", \"retweeted_status_user_id\", \"retweeted_status_timestamp\"], inplace=True)"
   ]
  },
  {
   "cell_type": "markdown",
   "id": "8af7c4c5",
   "metadata": {},
   "source": [
    "#### Test"
   ]
  },
  {
   "cell_type": "code",
   "execution_count": 469,
   "id": "1b2f5dec",
   "metadata": {},
   "outputs": [
    {
     "name": "stdout",
     "output_type": "stream",
     "text": [
      "<class 'pandas.core.frame.DataFrame'>\n",
      "Int64Index: 2175 entries, 0 to 2355\n",
      "Data columns (total 14 columns):\n",
      " #   Column                 Non-Null Count  Dtype              \n",
      "---  ------                 --------------  -----              \n",
      " 0   tweet_id               2175 non-null   int64              \n",
      " 1   in_reply_to_status_id  78 non-null     float64            \n",
      " 2   in_reply_to_user_id    78 non-null     float64            \n",
      " 3   timestamp              2175 non-null   datetime64[ns, UTC]\n",
      " 4   source                 2175 non-null   object             \n",
      " 5   text                   2175 non-null   object             \n",
      " 6   expanded_urls          2117 non-null   object             \n",
      " 7   rating_numerator       2175 non-null   int64              \n",
      " 8   rating_denominator     2175 non-null   int64              \n",
      " 9   name                   2175 non-null   object             \n",
      " 10  doggo                  2175 non-null   object             \n",
      " 11  floofer                2175 non-null   object             \n",
      " 12  pupper                 2175 non-null   object             \n",
      " 13  puppo                  2175 non-null   object             \n",
      "dtypes: datetime64[ns, UTC](1), float64(2), int64(3), object(8)\n",
      "memory usage: 254.9+ KB\n"
     ]
    }
   ],
   "source": [
    "archive_copy.info()"
   ]
  },
  {
   "cell_type": "markdown",
   "id": "e3cc8e77",
   "metadata": {},
   "source": [
    "#### Issue #4:\n",
    "In the twitter_archive dataframe, drop columns with too many null values i.e (in_reply_to_status_id, in_reply_to_user_id)"
   ]
  },
  {
   "cell_type": "markdown",
   "id": "3ae6c121",
   "metadata": {},
   "source": [
    "#### Define:\n",
    "Drop columns with too much null values"
   ]
  },
  {
   "cell_type": "markdown",
   "id": "49e909d5",
   "metadata": {},
   "source": [
    "#### Code"
   ]
  },
  {
   "cell_type": "code",
   "execution_count": 470,
   "id": "7377bdc4",
   "metadata": {},
   "outputs": [],
   "source": [
    "archive_copy.drop(columns = ['in_reply_to_status_id', 'in_reply_to_user_id'], inplace=True)"
   ]
  },
  {
   "cell_type": "markdown",
   "id": "76ba4439",
   "metadata": {},
   "source": [
    "#### Test"
   ]
  },
  {
   "cell_type": "code",
   "execution_count": 471,
   "id": "351cb9d7",
   "metadata": {},
   "outputs": [
    {
     "name": "stdout",
     "output_type": "stream",
     "text": [
      "<class 'pandas.core.frame.DataFrame'>\n",
      "Int64Index: 2175 entries, 0 to 2355\n",
      "Data columns (total 12 columns):\n",
      " #   Column              Non-Null Count  Dtype              \n",
      "---  ------              --------------  -----              \n",
      " 0   tweet_id            2175 non-null   int64              \n",
      " 1   timestamp           2175 non-null   datetime64[ns, UTC]\n",
      " 2   source              2175 non-null   object             \n",
      " 3   text                2175 non-null   object             \n",
      " 4   expanded_urls       2117 non-null   object             \n",
      " 5   rating_numerator    2175 non-null   int64              \n",
      " 6   rating_denominator  2175 non-null   int64              \n",
      " 7   name                2175 non-null   object             \n",
      " 8   doggo               2175 non-null   object             \n",
      " 9   floofer             2175 non-null   object             \n",
      " 10  pupper              2175 non-null   object             \n",
      " 11  puppo               2175 non-null   object             \n",
      "dtypes: datetime64[ns, UTC](1), int64(3), object(8)\n",
      "memory usage: 220.9+ KB\n"
     ]
    }
   ],
   "source": [
    "archive_copy.info()"
   ]
  },
  {
   "cell_type": "markdown",
   "id": "02d54718",
   "metadata": {},
   "source": [
    "#### Issue #5:\n",
    "In the twitter_archive dataframe, rating_denominator column has a very large outlier values that deviates from the standard value which is 10."
   ]
  },
  {
   "cell_type": "markdown",
   "id": "a60fe9eb",
   "metadata": {},
   "source": [
    "#### Define:\n",
    "Set rating_denominator values that are greater than 10 to be equal to 10."
   ]
  },
  {
   "cell_type": "markdown",
   "id": "28fa2757",
   "metadata": {},
   "source": [
    "#### Code"
   ]
  },
  {
   "cell_type": "code",
   "execution_count": 472,
   "id": "25e0ad6a",
   "metadata": {},
   "outputs": [],
   "source": [
    "mask_true = archive_copy['rating_denominator'] != 10\n",
    "true = archive_copy[mask_true].index\n",
    "for i in true:\n",
    "    archive_copy.loc[i, 'rating_denominator'] = int(10)"
   ]
  },
  {
   "cell_type": "markdown",
   "id": "2a7b5a82",
   "metadata": {},
   "source": [
    "#### Test"
   ]
  },
  {
   "cell_type": "code",
   "execution_count": 473,
   "id": "a3581be4",
   "metadata": {},
   "outputs": [
    {
     "data": {
      "text/html": [
       "<div>\n",
       "<style scoped>\n",
       "    .dataframe tbody tr th:only-of-type {\n",
       "        vertical-align: middle;\n",
       "    }\n",
       "\n",
       "    .dataframe tbody tr th {\n",
       "        vertical-align: top;\n",
       "    }\n",
       "\n",
       "    .dataframe thead th {\n",
       "        text-align: right;\n",
       "    }\n",
       "</style>\n",
       "<table border=\"1\" class=\"dataframe\">\n",
       "  <thead>\n",
       "    <tr style=\"text-align: right;\">\n",
       "      <th></th>\n",
       "      <th>tweet_id</th>\n",
       "      <th>timestamp</th>\n",
       "      <th>source</th>\n",
       "      <th>text</th>\n",
       "      <th>expanded_urls</th>\n",
       "      <th>rating_numerator</th>\n",
       "      <th>rating_denominator</th>\n",
       "      <th>name</th>\n",
       "      <th>doggo</th>\n",
       "      <th>floofer</th>\n",
       "      <th>pupper</th>\n",
       "      <th>puppo</th>\n",
       "    </tr>\n",
       "  </thead>\n",
       "  <tbody>\n",
       "  </tbody>\n",
       "</table>\n",
       "</div>"
      ],
      "text/plain": [
       "Empty DataFrame\n",
       "Columns: [tweet_id, timestamp, source, text, expanded_urls, rating_numerator, rating_denominator, name, doggo, floofer, pupper, puppo]\n",
       "Index: []"
      ]
     },
     "execution_count": 473,
     "metadata": {},
     "output_type": "execute_result"
    }
   ],
   "source": [
    "archive_copy[archive_copy['rating_denominator'] != 10]"
   ]
  },
  {
   "cell_type": "markdown",
   "id": "1fc47473",
   "metadata": {},
   "source": [
    "#### Issue #6:\n",
    "In the twitter_archive dataframe, rating_numerator column has a huge outlier values and decimal values that were not extracted properly. Also change the datatype from int to float."
   ]
  },
  {
   "cell_type": "markdown",
   "id": "3dd6501e",
   "metadata": {},
   "source": [
    "#### Define:\n",
    "Drop values rows that have values of rating_numerator greater than 15, extract decimal rating values and change datatype of the column to float."
   ]
  },
  {
   "cell_type": "markdown",
   "id": "6a5a9148",
   "metadata": {},
   "source": [
    "#### Code"
   ]
  },
  {
   "cell_type": "code",
   "execution_count": 474,
   "id": "6e586c07",
   "metadata": {},
   "outputs": [
    {
     "name": "stdout",
     "output_type": "stream",
     "text": [
      "<class 'pandas.core.frame.DataFrame'>\n",
      "Int64Index: 2175 entries, 0 to 2355\n",
      "Data columns (total 12 columns):\n",
      " #   Column              Non-Null Count  Dtype              \n",
      "---  ------              --------------  -----              \n",
      " 0   tweet_id            2175 non-null   int64              \n",
      " 1   timestamp           2175 non-null   datetime64[ns, UTC]\n",
      " 2   source              2175 non-null   object             \n",
      " 3   text                2175 non-null   object             \n",
      " 4   expanded_urls       2117 non-null   object             \n",
      " 5   rating_numerator    2175 non-null   float64            \n",
      " 6   rating_denominator  2175 non-null   int64              \n",
      " 7   name                2175 non-null   object             \n",
      " 8   doggo               2175 non-null   object             \n",
      " 9   floofer             2175 non-null   object             \n",
      " 10  pupper              2175 non-null   object             \n",
      " 11  puppo               2175 non-null   object             \n",
      "dtypes: datetime64[ns, UTC](1), float64(1), int64(2), object(8)\n",
      "memory usage: 285.4+ KB\n"
     ]
    }
   ],
   "source": [
    "archive_copy['rating_numerator'] = archive_copy.rating_numerator.astype('float')\n",
    "archive_copy.info()"
   ]
  },
  {
   "cell_type": "code",
   "execution_count": 475,
   "id": "0e8f8feb",
   "metadata": {},
   "outputs": [],
   "source": [
    "mask_decimal = archive_copy.text.str.contains(r\"(\\d+\\.\\d*\\/\\d+)\")"
   ]
  },
  {
   "cell_type": "code",
   "execution_count": 476,
   "id": "539cb9d7",
   "metadata": {},
   "outputs": [
    {
     "data": {
      "text/html": [
       "<div>\n",
       "<style scoped>\n",
       "    .dataframe tbody tr th:only-of-type {\n",
       "        vertical-align: middle;\n",
       "    }\n",
       "\n",
       "    .dataframe tbody tr th {\n",
       "        vertical-align: top;\n",
       "    }\n",
       "\n",
       "    .dataframe thead th {\n",
       "        text-align: right;\n",
       "    }\n",
       "</style>\n",
       "<table border=\"1\" class=\"dataframe\">\n",
       "  <thead>\n",
       "    <tr style=\"text-align: right;\">\n",
       "      <th></th>\n",
       "      <th>text</th>\n",
       "      <th>rating_numerator</th>\n",
       "    </tr>\n",
       "  </thead>\n",
       "  <tbody>\n",
       "    <tr>\n",
       "      <th>45</th>\n",
       "      <td>This is Bella. She hopes her smile made you sm...</td>\n",
       "      <td>5.0</td>\n",
       "    </tr>\n",
       "    <tr>\n",
       "      <th>695</th>\n",
       "      <td>This is Logan, the Chow who lived. He solemnly...</td>\n",
       "      <td>75.0</td>\n",
       "    </tr>\n",
       "    <tr>\n",
       "      <th>763</th>\n",
       "      <td>This is Sophie. She's a Jubilant Bush Pupper. ...</td>\n",
       "      <td>27.0</td>\n",
       "    </tr>\n",
       "    <tr>\n",
       "      <th>1689</th>\n",
       "      <td>I've been told there's a slight possibility he...</td>\n",
       "      <td>5.0</td>\n",
       "    </tr>\n",
       "    <tr>\n",
       "      <th>1712</th>\n",
       "      <td>Here we have uncovered an entire battalion of ...</td>\n",
       "      <td>26.0</td>\n",
       "    </tr>\n",
       "  </tbody>\n",
       "</table>\n",
       "</div>"
      ],
      "text/plain": [
       "                                                   text  rating_numerator\n",
       "45    This is Bella. She hopes her smile made you sm...               5.0\n",
       "695   This is Logan, the Chow who lived. He solemnly...              75.0\n",
       "763   This is Sophie. She's a Jubilant Bush Pupper. ...              27.0\n",
       "1689  I've been told there's a slight possibility he...               5.0\n",
       "1712  Here we have uncovered an entire battalion of ...              26.0"
      ]
     },
     "execution_count": 476,
     "metadata": {},
     "output_type": "execute_result"
    }
   ],
   "source": [
    "archive_copy[mask_decimal][['text', 'rating_numerator']]"
   ]
  },
  {
   "cell_type": "code",
   "execution_count": 477,
   "id": "e4279571",
   "metadata": {},
   "outputs": [],
   "source": [
    "for i in archive_copy[mask_decimal].index:\n",
    "    archive_copy.loc[i, 'rating_numerator'] = float(archive_copy[mask_decimal].text.str.extract(r\"(\\d+\\.\\d*)\")[0][i])\n",
    "    "
   ]
  },
  {
   "cell_type": "code",
   "execution_count": 478,
   "id": "f163ea65",
   "metadata": {},
   "outputs": [
    {
     "data": {
      "text/html": [
       "<div>\n",
       "<style scoped>\n",
       "    .dataframe tbody tr th:only-of-type {\n",
       "        vertical-align: middle;\n",
       "    }\n",
       "\n",
       "    .dataframe tbody tr th {\n",
       "        vertical-align: top;\n",
       "    }\n",
       "\n",
       "    .dataframe thead th {\n",
       "        text-align: right;\n",
       "    }\n",
       "</style>\n",
       "<table border=\"1\" class=\"dataframe\">\n",
       "  <thead>\n",
       "    <tr style=\"text-align: right;\">\n",
       "      <th></th>\n",
       "      <th>text</th>\n",
       "      <th>rating_numerator</th>\n",
       "    </tr>\n",
       "  </thead>\n",
       "  <tbody>\n",
       "    <tr>\n",
       "      <th>45</th>\n",
       "      <td>This is Bella. She hopes her smile made you sm...</td>\n",
       "      <td>13.50</td>\n",
       "    </tr>\n",
       "    <tr>\n",
       "      <th>695</th>\n",
       "      <td>This is Logan, the Chow who lived. He solemnly...</td>\n",
       "      <td>9.75</td>\n",
       "    </tr>\n",
       "    <tr>\n",
       "      <th>763</th>\n",
       "      <td>This is Sophie. She's a Jubilant Bush Pupper. ...</td>\n",
       "      <td>11.27</td>\n",
       "    </tr>\n",
       "    <tr>\n",
       "      <th>1689</th>\n",
       "      <td>I've been told there's a slight possibility he...</td>\n",
       "      <td>9.50</td>\n",
       "    </tr>\n",
       "    <tr>\n",
       "      <th>1712</th>\n",
       "      <td>Here we have uncovered an entire battalion of ...</td>\n",
       "      <td>11.26</td>\n",
       "    </tr>\n",
       "  </tbody>\n",
       "</table>\n",
       "</div>"
      ],
      "text/plain": [
       "                                                   text  rating_numerator\n",
       "45    This is Bella. She hopes her smile made you sm...             13.50\n",
       "695   This is Logan, the Chow who lived. He solemnly...              9.75\n",
       "763   This is Sophie. She's a Jubilant Bush Pupper. ...             11.27\n",
       "1689  I've been told there's a slight possibility he...              9.50\n",
       "1712  Here we have uncovered an entire battalion of ...             11.26"
      ]
     },
     "execution_count": 478,
     "metadata": {},
     "output_type": "execute_result"
    }
   ],
   "source": [
    "archive_copy[mask_decimal][['text', 'rating_numerator']]"
   ]
  },
  {
   "cell_type": "code",
   "execution_count": 479,
   "id": "ef84d22c",
   "metadata": {},
   "outputs": [],
   "source": [
    "mask_outliers = archive_copy['rating_numerator'] > 15\n",
    "archive_copy.drop(index = archive_copy[mask_outliers].index, inplace = True)"
   ]
  },
  {
   "cell_type": "markdown",
   "id": "8da42650",
   "metadata": {},
   "source": [
    "#### Test"
   ]
  },
  {
   "cell_type": "code",
   "execution_count": 480,
   "id": "7a0633db",
   "metadata": {},
   "outputs": [
    {
     "data": {
      "text/html": [
       "<div>\n",
       "<style scoped>\n",
       "    .dataframe tbody tr th:only-of-type {\n",
       "        vertical-align: middle;\n",
       "    }\n",
       "\n",
       "    .dataframe tbody tr th {\n",
       "        vertical-align: top;\n",
       "    }\n",
       "\n",
       "    .dataframe thead th {\n",
       "        text-align: right;\n",
       "    }\n",
       "</style>\n",
       "<table border=\"1\" class=\"dataframe\">\n",
       "  <thead>\n",
       "    <tr style=\"text-align: right;\">\n",
       "      <th></th>\n",
       "      <th>tweet_id</th>\n",
       "      <th>timestamp</th>\n",
       "      <th>source</th>\n",
       "      <th>text</th>\n",
       "      <th>expanded_urls</th>\n",
       "      <th>rating_numerator</th>\n",
       "      <th>rating_denominator</th>\n",
       "      <th>name</th>\n",
       "      <th>doggo</th>\n",
       "      <th>floofer</th>\n",
       "      <th>pupper</th>\n",
       "      <th>puppo</th>\n",
       "    </tr>\n",
       "  </thead>\n",
       "  <tbody>\n",
       "  </tbody>\n",
       "</table>\n",
       "</div>"
      ],
      "text/plain": [
       "Empty DataFrame\n",
       "Columns: [tweet_id, timestamp, source, text, expanded_urls, rating_numerator, rating_denominator, name, doggo, floofer, pupper, puppo]\n",
       "Index: []"
      ]
     },
     "execution_count": 480,
     "metadata": {},
     "output_type": "execute_result"
    }
   ],
   "source": [
    "archive_copy[mask_outliers]"
   ]
  },
  {
   "cell_type": "code",
   "execution_count": 481,
   "id": "8e68bf79",
   "metadata": {},
   "outputs": [
    {
     "name": "stdout",
     "output_type": "stream",
     "text": [
      "<class 'pandas.core.frame.DataFrame'>\n",
      "Int64Index: 2153 entries, 0 to 2355\n",
      "Data columns (total 12 columns):\n",
      " #   Column              Non-Null Count  Dtype              \n",
      "---  ------              --------------  -----              \n",
      " 0   tweet_id            2153 non-null   int64              \n",
      " 1   timestamp           2153 non-null   datetime64[ns, UTC]\n",
      " 2   source              2153 non-null   object             \n",
      " 3   text                2153 non-null   object             \n",
      " 4   expanded_urls       2101 non-null   object             \n",
      " 5   rating_numerator    2153 non-null   float64            \n",
      " 6   rating_denominator  2153 non-null   int64              \n",
      " 7   name                2153 non-null   object             \n",
      " 8   doggo               2153 non-null   object             \n",
      " 9   floofer             2153 non-null   object             \n",
      " 10  pupper              2153 non-null   object             \n",
      " 11  puppo               2153 non-null   object             \n",
      "dtypes: datetime64[ns, UTC](1), float64(1), int64(2), object(8)\n",
      "memory usage: 218.7+ KB\n"
     ]
    }
   ],
   "source": [
    "archive_copy.info()"
   ]
  },
  {
   "cell_type": "markdown",
   "id": "0ec857ca",
   "metadata": {},
   "source": [
    "#### Issue #7:\n",
    "In the twitter_archive dataframe, there seems to dogs with invalid names like ('a', 'the', 'an' and 'such') and others in lower case."
   ]
  },
  {
   "cell_type": "markdown",
   "id": "b43b8509",
   "metadata": {},
   "source": [
    "#### Define:\n",
    "Set names of dogs with invalid names to none."
   ]
  },
  {
   "cell_type": "markdown",
   "id": "f5ef4d55",
   "metadata": {},
   "source": [
    "#### Code"
   ]
  },
  {
   "cell_type": "code",
   "execution_count": 482,
   "id": "653c8cd8",
   "metadata": {},
   "outputs": [],
   "source": [
    "for i in archive_copy[archive_copy['name'] == archive_copy['name'].str.lower()].index:\n",
    "    archive_copy.loc[i, 'name'] = 'None'"
   ]
  },
  {
   "cell_type": "markdown",
   "id": "fa5f181e",
   "metadata": {},
   "source": [
    "#### Test"
   ]
  },
  {
   "cell_type": "code",
   "execution_count": 483,
   "id": "7ea691a9",
   "metadata": {},
   "outputs": [
    {
     "data": {
      "text/html": [
       "<div>\n",
       "<style scoped>\n",
       "    .dataframe tbody tr th:only-of-type {\n",
       "        vertical-align: middle;\n",
       "    }\n",
       "\n",
       "    .dataframe tbody tr th {\n",
       "        vertical-align: top;\n",
       "    }\n",
       "\n",
       "    .dataframe thead th {\n",
       "        text-align: right;\n",
       "    }\n",
       "</style>\n",
       "<table border=\"1\" class=\"dataframe\">\n",
       "  <thead>\n",
       "    <tr style=\"text-align: right;\">\n",
       "      <th></th>\n",
       "      <th>tweet_id</th>\n",
       "      <th>timestamp</th>\n",
       "      <th>source</th>\n",
       "      <th>text</th>\n",
       "      <th>expanded_urls</th>\n",
       "      <th>rating_numerator</th>\n",
       "      <th>rating_denominator</th>\n",
       "      <th>name</th>\n",
       "      <th>doggo</th>\n",
       "      <th>floofer</th>\n",
       "      <th>pupper</th>\n",
       "      <th>puppo</th>\n",
       "    </tr>\n",
       "  </thead>\n",
       "  <tbody>\n",
       "  </tbody>\n",
       "</table>\n",
       "</div>"
      ],
      "text/plain": [
       "Empty DataFrame\n",
       "Columns: [tweet_id, timestamp, source, text, expanded_urls, rating_numerator, rating_denominator, name, doggo, floofer, pupper, puppo]\n",
       "Index: []"
      ]
     },
     "execution_count": 483,
     "metadata": {},
     "output_type": "execute_result"
    }
   ],
   "source": [
    "archive_copy[archive_copy['name'] == archive_copy['name'].str.lower()]"
   ]
  },
  {
   "cell_type": "markdown",
   "id": "d2d6a5ef",
   "metadata": {},
   "source": [
    "#### Issue #8:\n",
    "Remame the 'id' column in the pulled_tweets dataframe to 'tweet_id'."
   ]
  },
  {
   "cell_type": "markdown",
   "id": "a022d3fd",
   "metadata": {},
   "source": [
    "#### Define:\n",
    "Use the rename method to change 'id' to 'tweet_id'"
   ]
  },
  {
   "cell_type": "markdown",
   "id": "42a3403a",
   "metadata": {},
   "source": [
    "#### Code"
   ]
  },
  {
   "cell_type": "code",
   "execution_count": 484,
   "id": "57b1fe4d",
   "metadata": {},
   "outputs": [],
   "source": [
    "count_copy = count_copy.rename(columns = {'id':'tweet_id'})"
   ]
  },
  {
   "cell_type": "markdown",
   "id": "58c98a8b",
   "metadata": {},
   "source": [
    "#### Test"
   ]
  },
  {
   "cell_type": "code",
   "execution_count": 485,
   "id": "e2f1c3b7",
   "metadata": {},
   "outputs": [
    {
     "name": "stdout",
     "output_type": "stream",
     "text": [
      "<class 'pandas.core.frame.DataFrame'>\n",
      "RangeIndex: 2325 entries, 0 to 2324\n",
      "Data columns (total 3 columns):\n",
      " #   Column          Non-Null Count  Dtype\n",
      "---  ------          --------------  -----\n",
      " 0   tweet_id        2325 non-null   int64\n",
      " 1   retweet_count   2325 non-null   int64\n",
      " 2   favorite_count  2325 non-null   int64\n",
      "dtypes: int64(3)\n",
      "memory usage: 54.6 KB\n"
     ]
    }
   ],
   "source": [
    "count_copy.info()"
   ]
  },
  {
   "cell_type": "markdown",
   "id": "ab2e19e5",
   "metadata": {},
   "source": [
    "#### Issue #9:\n",
    "The expanded url column in archive_copy dataframe contains null values"
   ]
  },
  {
   "cell_type": "markdown",
   "id": "9b600ec7",
   "metadata": {},
   "source": [
    "#### Define:\n",
    "Drop null values in the column"
   ]
  },
  {
   "cell_type": "markdown",
   "id": "51579ef6",
   "metadata": {},
   "source": [
    "#### Code"
   ]
  },
  {
   "cell_type": "code",
   "execution_count": 490,
   "id": "a23ea1c5",
   "metadata": {},
   "outputs": [],
   "source": [
    "archive_copy.dropna(inplace=True)"
   ]
  },
  {
   "cell_type": "markdown",
   "id": "9fe442a2",
   "metadata": {},
   "source": [
    "#### Test"
   ]
  },
  {
   "cell_type": "code",
   "execution_count": 491,
   "id": "ee903574",
   "metadata": {},
   "outputs": [
    {
     "data": {
      "text/plain": [
       "tweet_id              0\n",
       "timestamp             0\n",
       "source                0\n",
       "text                  0\n",
       "expanded_urls         0\n",
       "rating_numerator      0\n",
       "rating_denominator    0\n",
       "name                  0\n",
       "doggo                 0\n",
       "floofer               0\n",
       "pupper                0\n",
       "puppo                 0\n",
       "dtype: int64"
      ]
     },
     "execution_count": 491,
     "metadata": {},
     "output_type": "execute_result"
    }
   ],
   "source": [
    "archive_copy.isnull().sum()"
   ]
  },
  {
   "cell_type": "markdown",
   "id": "1a78758f",
   "metadata": {},
   "source": [
    "### Tidiness Issues"
   ]
  },
  {
   "cell_type": "markdown",
   "id": "0b58152b",
   "metadata": {},
   "source": [
    "#### Issue #1:\n",
    "The doggo puppo, floofer and pupper columns in the twitter_archive dataframe should be merged into a column named dog_class."
   ]
  },
  {
   "cell_type": "markdown",
   "id": "dce57a02",
   "metadata": {},
   "source": [
    "#### Define:\n",
    "Combine  doggo puppo, floofer and pupper into one column."
   ]
  },
  {
   "cell_type": "markdown",
   "id": "d2a83f25",
   "metadata": {},
   "source": [
    "#### Code"
   ]
  },
  {
   "cell_type": "code",
   "execution_count": 492,
   "id": "4d66a0b8",
   "metadata": {},
   "outputs": [],
   "source": [
    "archive_copy['dog_class'] = archive_copy[['puppo', 'pupper', 'floofer', 'doggo']].apply(lambda x: ','.join(x.astype(str)),axis=1)\n",
    "archive_copy['dog_class'] = archive_copy['dog_class'].str.replace(r'(None,)', repl='')\n",
    "archive_copy['dog_class'] = archive_copy['dog_class'].str.replace(r'(,None)', repl='')\n",
    "archive_copy.drop(columns = ['puppo','pupper','floofer','doggo'], inplace=True)"
   ]
  },
  {
   "cell_type": "markdown",
   "id": "7da6d652",
   "metadata": {},
   "source": [
    "#### Test"
   ]
  },
  {
   "cell_type": "code",
   "execution_count": 493,
   "id": "0b8cb947",
   "metadata": {},
   "outputs": [
    {
     "name": "stdout",
     "output_type": "stream",
     "text": [
      "<class 'pandas.core.frame.DataFrame'>\n",
      "Int64Index: 2101 entries, 0 to 2355\n",
      "Data columns (total 9 columns):\n",
      " #   Column              Non-Null Count  Dtype              \n",
      "---  ------              --------------  -----              \n",
      " 0   tweet_id            2101 non-null   int64              \n",
      " 1   timestamp           2101 non-null   datetime64[ns, UTC]\n",
      " 2   source              2101 non-null   object             \n",
      " 3   text                2101 non-null   object             \n",
      " 4   expanded_urls       2101 non-null   object             \n",
      " 5   rating_numerator    2101 non-null   float64            \n",
      " 6   rating_denominator  2101 non-null   int64              \n",
      " 7   name                2101 non-null   object             \n",
      " 8   dog_class           2101 non-null   object             \n",
      "dtypes: datetime64[ns, UTC](1), float64(1), int64(2), object(5)\n",
      "memory usage: 164.1+ KB\n"
     ]
    }
   ],
   "source": [
    "archive_copy.info()"
   ]
  },
  {
   "cell_type": "code",
   "execution_count": 494,
   "id": "15226656",
   "metadata": {},
   "outputs": [
    {
     "data": {
      "text/plain": [
       "None             1763\n",
       "pupper            222\n",
       "doggo              72\n",
       "puppo              23\n",
       "pupper,doggo       10\n",
       "floofer             9\n",
       "puppo,doggo         1\n",
       "floofer,doggo       1\n",
       "Name: dog_class, dtype: int64"
      ]
     },
     "execution_count": 494,
     "metadata": {},
     "output_type": "execute_result"
    }
   ],
   "source": [
    "archive_copy.dog_class.value_counts()"
   ]
  },
  {
   "cell_type": "markdown",
   "id": "0bc0bbae",
   "metadata": {},
   "source": [
    "#### Issue #2:\n",
    "The rating demoninator column should be dropped since all rows have the same value which is 10"
   ]
  },
  {
   "cell_type": "markdown",
   "id": "1fa797eb",
   "metadata": {},
   "source": [
    "#### Define:\n",
    "Drop rating_denominator column"
   ]
  },
  {
   "cell_type": "markdown",
   "id": "84580742",
   "metadata": {},
   "source": [
    "#### Code"
   ]
  },
  {
   "cell_type": "code",
   "execution_count": 495,
   "id": "f4f925e9",
   "metadata": {},
   "outputs": [],
   "source": [
    "archive_copy.drop(columns = 'rating_denominator', inplace = True)"
   ]
  },
  {
   "cell_type": "markdown",
   "id": "5c6cc55b",
   "metadata": {},
   "source": [
    "#### Test"
   ]
  },
  {
   "cell_type": "code",
   "execution_count": 496,
   "id": "858c2cc8",
   "metadata": {},
   "outputs": [
    {
     "name": "stdout",
     "output_type": "stream",
     "text": [
      "<class 'pandas.core.frame.DataFrame'>\n",
      "Int64Index: 2101 entries, 0 to 2355\n",
      "Data columns (total 8 columns):\n",
      " #   Column            Non-Null Count  Dtype              \n",
      "---  ------            --------------  -----              \n",
      " 0   tweet_id          2101 non-null   int64              \n",
      " 1   timestamp         2101 non-null   datetime64[ns, UTC]\n",
      " 2   source            2101 non-null   object             \n",
      " 3   text              2101 non-null   object             \n",
      " 4   expanded_urls     2101 non-null   object             \n",
      " 5   rating_numerator  2101 non-null   float64            \n",
      " 6   name              2101 non-null   object             \n",
      " 7   dog_class         2101 non-null   object             \n",
      "dtypes: datetime64[ns, UTC](1), float64(1), int64(1), object(5)\n",
      "memory usage: 147.7+ KB\n"
     ]
    }
   ],
   "source": [
    "archive_copy.info()"
   ]
  },
  {
   "cell_type": "markdown",
   "id": "4dcaa6f3",
   "metadata": {},
   "source": [
    "#### Issue #3: \n",
    "The cleaned version of the three datasets should be merged together."
   ]
  },
  {
   "cell_type": "markdown",
   "id": "d4b4f875",
   "metadata": {},
   "source": [
    "#### Define:\n",
    "Use .merge() method to combine the three datasets together"
   ]
  },
  {
   "cell_type": "markdown",
   "id": "949b2ffa",
   "metadata": {},
   "source": [
    "#### Code"
   ]
  },
  {
   "cell_type": "code",
   "execution_count": 497,
   "id": "51030127",
   "metadata": {},
   "outputs": [],
   "source": [
    "twitter_archive_master = archive_copy.merge(count_copy, on='tweet_id', how ='inner').merge(prediction_copy, on='tweet_id', how = 'inner')"
   ]
  },
  {
   "cell_type": "markdown",
   "id": "00a22623",
   "metadata": {},
   "source": [
    "#### Test"
   ]
  },
  {
   "cell_type": "code",
   "execution_count": 498,
   "id": "bf7840f7",
   "metadata": {},
   "outputs": [
    {
     "name": "stdout",
     "output_type": "stream",
     "text": [
      "<class 'pandas.core.frame.DataFrame'>\n",
      "Int64Index: 1969 entries, 0 to 1968\n",
      "Data columns (total 21 columns):\n",
      " #   Column            Non-Null Count  Dtype              \n",
      "---  ------            --------------  -----              \n",
      " 0   tweet_id          1969 non-null   int64              \n",
      " 1   timestamp         1969 non-null   datetime64[ns, UTC]\n",
      " 2   source            1969 non-null   object             \n",
      " 3   text              1969 non-null   object             \n",
      " 4   expanded_urls     1969 non-null   object             \n",
      " 5   rating_numerator  1969 non-null   float64            \n",
      " 6   name              1969 non-null   object             \n",
      " 7   dog_class         1969 non-null   object             \n",
      " 8   retweet_count     1969 non-null   int64              \n",
      " 9   favorite_count    1969 non-null   int64              \n",
      " 10  jpg_url           1969 non-null   object             \n",
      " 11  img_num           1969 non-null   int64              \n",
      " 12  p1                1969 non-null   object             \n",
      " 13  p1_conf           1969 non-null   float64            \n",
      " 14  p1_dog            1969 non-null   bool               \n",
      " 15  p2                1969 non-null   object             \n",
      " 16  p2_conf           1969 non-null   float64            \n",
      " 17  p2_dog            1969 non-null   bool               \n",
      " 18  p3                1969 non-null   object             \n",
      " 19  p3_conf           1969 non-null   float64            \n",
      " 20  p3_dog            1969 non-null   bool               \n",
      "dtypes: bool(3), datetime64[ns, UTC](1), float64(4), int64(4), object(9)\n",
      "memory usage: 298.0+ KB\n"
     ]
    }
   ],
   "source": [
    "twitter_archive_master.info()"
   ]
  },
  {
   "cell_type": "code",
   "execution_count": 499,
   "id": "849b487b",
   "metadata": {},
   "outputs": [
    {
     "data": {
      "text/html": [
       "<div>\n",
       "<style scoped>\n",
       "    .dataframe tbody tr th:only-of-type {\n",
       "        vertical-align: middle;\n",
       "    }\n",
       "\n",
       "    .dataframe tbody tr th {\n",
       "        vertical-align: top;\n",
       "    }\n",
       "\n",
       "    .dataframe thead th {\n",
       "        text-align: right;\n",
       "    }\n",
       "</style>\n",
       "<table border=\"1\" class=\"dataframe\">\n",
       "  <thead>\n",
       "    <tr style=\"text-align: right;\">\n",
       "      <th></th>\n",
       "      <th>tweet_id</th>\n",
       "      <th>timestamp</th>\n",
       "      <th>source</th>\n",
       "      <th>text</th>\n",
       "      <th>expanded_urls</th>\n",
       "      <th>rating_numerator</th>\n",
       "      <th>name</th>\n",
       "      <th>dog_class</th>\n",
       "      <th>retweet_count</th>\n",
       "      <th>favorite_count</th>\n",
       "      <th>jpg_url</th>\n",
       "      <th>img_num</th>\n",
       "      <th>p1</th>\n",
       "      <th>p1_conf</th>\n",
       "      <th>p1_dog</th>\n",
       "      <th>p2</th>\n",
       "      <th>p2_conf</th>\n",
       "      <th>p2_dog</th>\n",
       "      <th>p3</th>\n",
       "      <th>p3_conf</th>\n",
       "      <th>p3_dog</th>\n",
       "    </tr>\n",
       "  </thead>\n",
       "  <tbody>\n",
       "    <tr>\n",
       "      <th>0</th>\n",
       "      <td>892177421306343426</td>\n",
       "      <td>2017-08-01 00:17:27+00:00</td>\n",
       "      <td>&lt;a href=\"http://twitter.com/download/iphone\" r...</td>\n",
       "      <td>This is Tilly. She's just checking pup on you....</td>\n",
       "      <td>https://twitter.com/dog_rates/status/892177421...</td>\n",
       "      <td>13.0</td>\n",
       "      <td>Tilly</td>\n",
       "      <td>None</td>\n",
       "      <td>5302</td>\n",
       "      <td>29345</td>\n",
       "      <td>https://pbs.twimg.com/media/DGGmoV4XsAAUL6n.jpg</td>\n",
       "      <td>1</td>\n",
       "      <td>Chihuahua</td>\n",
       "      <td>0.323581</td>\n",
       "      <td>True</td>\n",
       "      <td>Pekinese</td>\n",
       "      <td>0.090647</td>\n",
       "      <td>True</td>\n",
       "      <td>papillon</td>\n",
       "      <td>0.068957</td>\n",
       "      <td>True</td>\n",
       "    </tr>\n",
       "    <tr>\n",
       "      <th>1</th>\n",
       "      <td>891815181378084864</td>\n",
       "      <td>2017-07-31 00:18:03+00:00</td>\n",
       "      <td>&lt;a href=\"http://twitter.com/download/iphone\" r...</td>\n",
       "      <td>This is Archie. He is a rare Norwegian Pouncin...</td>\n",
       "      <td>https://twitter.com/dog_rates/status/891815181...</td>\n",
       "      <td>12.0</td>\n",
       "      <td>Archie</td>\n",
       "      <td>None</td>\n",
       "      <td>3483</td>\n",
       "      <td>22069</td>\n",
       "      <td>https://pbs.twimg.com/media/DGBdLU1WsAANxJ9.jpg</td>\n",
       "      <td>1</td>\n",
       "      <td>Chihuahua</td>\n",
       "      <td>0.716012</td>\n",
       "      <td>True</td>\n",
       "      <td>malamute</td>\n",
       "      <td>0.078253</td>\n",
       "      <td>True</td>\n",
       "      <td>kelpie</td>\n",
       "      <td>0.031379</td>\n",
       "      <td>True</td>\n",
       "    </tr>\n",
       "    <tr>\n",
       "      <th>2</th>\n",
       "      <td>891689557279858688</td>\n",
       "      <td>2017-07-30 15:58:51+00:00</td>\n",
       "      <td>&lt;a href=\"http://twitter.com/download/iphone\" r...</td>\n",
       "      <td>This is Darla. She commenced a snooze mid meal...</td>\n",
       "      <td>https://twitter.com/dog_rates/status/891689557...</td>\n",
       "      <td>13.0</td>\n",
       "      <td>Darla</td>\n",
       "      <td>None</td>\n",
       "      <td>7229</td>\n",
       "      <td>36957</td>\n",
       "      <td>https://pbs.twimg.com/media/DF_q7IAWsAEuuN8.jpg</td>\n",
       "      <td>1</td>\n",
       "      <td>paper_towel</td>\n",
       "      <td>0.170278</td>\n",
       "      <td>False</td>\n",
       "      <td>Labrador_retriever</td>\n",
       "      <td>0.168086</td>\n",
       "      <td>True</td>\n",
       "      <td>spatula</td>\n",
       "      <td>0.040836</td>\n",
       "      <td>False</td>\n",
       "    </tr>\n",
       "    <tr>\n",
       "      <th>3</th>\n",
       "      <td>891327558926688256</td>\n",
       "      <td>2017-07-29 16:00:24+00:00</td>\n",
       "      <td>&lt;a href=\"http://twitter.com/download/iphone\" r...</td>\n",
       "      <td>This is Franklin. He would like you to stop ca...</td>\n",
       "      <td>https://twitter.com/dog_rates/status/891327558...</td>\n",
       "      <td>12.0</td>\n",
       "      <td>Franklin</td>\n",
       "      <td>None</td>\n",
       "      <td>7768</td>\n",
       "      <td>35329</td>\n",
       "      <td>https://pbs.twimg.com/media/DF6hr6BUMAAzZgT.jpg</td>\n",
       "      <td>2</td>\n",
       "      <td>basset</td>\n",
       "      <td>0.555712</td>\n",
       "      <td>True</td>\n",
       "      <td>English_springer</td>\n",
       "      <td>0.225770</td>\n",
       "      <td>True</td>\n",
       "      <td>German_short-haired_pointer</td>\n",
       "      <td>0.175219</td>\n",
       "      <td>True</td>\n",
       "    </tr>\n",
       "    <tr>\n",
       "      <th>4</th>\n",
       "      <td>891087950875897856</td>\n",
       "      <td>2017-07-29 00:08:17+00:00</td>\n",
       "      <td>&lt;a href=\"http://twitter.com/download/iphone\" r...</td>\n",
       "      <td>Here we have a majestic great white breaching ...</td>\n",
       "      <td>https://twitter.com/dog_rates/status/891087950...</td>\n",
       "      <td>13.0</td>\n",
       "      <td>None</td>\n",
       "      <td>None</td>\n",
       "      <td>2602</td>\n",
       "      <td>17820</td>\n",
       "      <td>https://pbs.twimg.com/media/DF3HwyEWsAABqE6.jpg</td>\n",
       "      <td>1</td>\n",
       "      <td>Chesapeake_Bay_retriever</td>\n",
       "      <td>0.425595</td>\n",
       "      <td>True</td>\n",
       "      <td>Irish_terrier</td>\n",
       "      <td>0.116317</td>\n",
       "      <td>True</td>\n",
       "      <td>Indian_elephant</td>\n",
       "      <td>0.076902</td>\n",
       "      <td>False</td>\n",
       "    </tr>\n",
       "  </tbody>\n",
       "</table>\n",
       "</div>"
      ],
      "text/plain": [
       "             tweet_id                 timestamp                                             source                                               text                                      expanded_urls  rating_numerator      name dog_class  retweet_count  favorite_count                                          jpg_url  img_num                        p1   p1_conf  p1_dog                  p2   p2_conf  p2_dog                           p3   p3_conf  p3_dog\n",
       "0  892177421306343426 2017-08-01 00:17:27+00:00  <a href=\"http://twitter.com/download/iphone\" r...  This is Tilly. She's just checking pup on you....  https://twitter.com/dog_rates/status/892177421...              13.0     Tilly      None           5302           29345  https://pbs.twimg.com/media/DGGmoV4XsAAUL6n.jpg        1                 Chihuahua  0.323581    True            Pekinese  0.090647    True                     papillon  0.068957    True\n",
       "1  891815181378084864 2017-07-31 00:18:03+00:00  <a href=\"http://twitter.com/download/iphone\" r...  This is Archie. He is a rare Norwegian Pouncin...  https://twitter.com/dog_rates/status/891815181...              12.0    Archie      None           3483           22069  https://pbs.twimg.com/media/DGBdLU1WsAANxJ9.jpg        1                 Chihuahua  0.716012    True            malamute  0.078253    True                       kelpie  0.031379    True\n",
       "2  891689557279858688 2017-07-30 15:58:51+00:00  <a href=\"http://twitter.com/download/iphone\" r...  This is Darla. She commenced a snooze mid meal...  https://twitter.com/dog_rates/status/891689557...              13.0     Darla      None           7229           36957  https://pbs.twimg.com/media/DF_q7IAWsAEuuN8.jpg        1               paper_towel  0.170278   False  Labrador_retriever  0.168086    True                      spatula  0.040836   False\n",
       "3  891327558926688256 2017-07-29 16:00:24+00:00  <a href=\"http://twitter.com/download/iphone\" r...  This is Franklin. He would like you to stop ca...  https://twitter.com/dog_rates/status/891327558...              12.0  Franklin      None           7768           35329  https://pbs.twimg.com/media/DF6hr6BUMAAzZgT.jpg        2                    basset  0.555712    True    English_springer  0.225770    True  German_short-haired_pointer  0.175219    True\n",
       "4  891087950875897856 2017-07-29 00:08:17+00:00  <a href=\"http://twitter.com/download/iphone\" r...  Here we have a majestic great white breaching ...  https://twitter.com/dog_rates/status/891087950...              13.0      None      None           2602           17820  https://pbs.twimg.com/media/DF3HwyEWsAABqE6.jpg        1  Chesapeake_Bay_retriever  0.425595    True       Irish_terrier  0.116317    True              Indian_elephant  0.076902   False"
      ]
     },
     "execution_count": 499,
     "metadata": {},
     "output_type": "execute_result"
    }
   ],
   "source": [
    "twitter_archive_master.head()"
   ]
  },
  {
   "cell_type": "markdown",
   "id": "06670dfc",
   "metadata": {},
   "source": [
    "## Storing Data\n",
    "Saving gathered, assessed, and cleaned master dataset to a CSV file named \"twitter_archive_master.csv\"."
   ]
  },
  {
   "cell_type": "code",
   "execution_count": 500,
   "id": "05805386",
   "metadata": {},
   "outputs": [],
   "source": [
    "twitter_archive_master.to_csv(\"twitter_archive_master.csv\")"
   ]
  },
  {
   "cell_type": "markdown",
   "id": "b7361777",
   "metadata": {},
   "source": [
    "## Analyzing and Visualizing Data\n",
    "Analyzing and visualizing the wrangled data with least **three (3) insights and one (1) visualization.**"
   ]
  },
  {
   "cell_type": "markdown",
   "id": "0abb3f42",
   "metadata": {},
   "source": [
    "##### Lets create a function that will help to plot histograms to visualize some of these values"
   ]
  },
  {
   "cell_type": "code",
   "execution_count": 501,
   "id": "48819991",
   "metadata": {},
   "outputs": [],
   "source": [
    "def display(column, title):\n",
    "    # using seaborn's default style to visualize\n",
    "    sns.set()\n",
    "    # using seaborn's distplot to visualize the count of column values\n",
    "    sns.distplot(column, kde=False)\n",
    "    # set title\n",
    "    plt.title(title)\n",
    "    # set y label\n",
    "    plt.ylabel('Count')\n",
    "    # show plot\n",
    "    plt.show()"
   ]
  },
  {
   "cell_type": "code",
   "execution_count": 502,
   "id": "693b1467",
   "metadata": {},
   "outputs": [
    {
     "data": {
      "text/html": [
       "<div>\n",
       "<style scoped>\n",
       "    .dataframe tbody tr th:only-of-type {\n",
       "        vertical-align: middle;\n",
       "    }\n",
       "\n",
       "    .dataframe tbody tr th {\n",
       "        vertical-align: top;\n",
       "    }\n",
       "\n",
       "    .dataframe thead th {\n",
       "        text-align: right;\n",
       "    }\n",
       "</style>\n",
       "<table border=\"1\" class=\"dataframe\">\n",
       "  <thead>\n",
       "    <tr style=\"text-align: right;\">\n",
       "      <th></th>\n",
       "      <th>tweet_id</th>\n",
       "      <th>rating_numerator</th>\n",
       "      <th>retweet_count</th>\n",
       "      <th>favorite_count</th>\n",
       "      <th>img_num</th>\n",
       "      <th>p1_conf</th>\n",
       "      <th>p2_conf</th>\n",
       "      <th>p3_conf</th>\n",
       "    </tr>\n",
       "  </thead>\n",
       "  <tbody>\n",
       "    <tr>\n",
       "      <th>count</th>\n",
       "      <td>1.969000e+03</td>\n",
       "      <td>1969.000000</td>\n",
       "      <td>1969.000000</td>\n",
       "      <td>1969.000000</td>\n",
       "      <td>1969.000000</td>\n",
       "      <td>1969.000000</td>\n",
       "      <td>1.969000e+03</td>\n",
       "      <td>1.969000e+03</td>\n",
       "    </tr>\n",
       "    <tr>\n",
       "      <th>mean</th>\n",
       "      <td>7.356635e+17</td>\n",
       "      <td>10.535693</td>\n",
       "      <td>2248.206704</td>\n",
       "      <td>7725.351955</td>\n",
       "      <td>1.204165</td>\n",
       "      <td>0.593594</td>\n",
       "      <td>1.348524e-01</td>\n",
       "      <td>6.031235e-02</td>\n",
       "    </tr>\n",
       "    <tr>\n",
       "      <th>std</th>\n",
       "      <td>6.747456e+16</td>\n",
       "      <td>2.197268</td>\n",
       "      <td>4034.232642</td>\n",
       "      <td>11403.005605</td>\n",
       "      <td>0.563059</td>\n",
       "      <td>0.271872</td>\n",
       "      <td>1.006881e-01</td>\n",
       "      <td>5.084506e-02</td>\n",
       "    </tr>\n",
       "    <tr>\n",
       "      <th>min</th>\n",
       "      <td>6.660209e+17</td>\n",
       "      <td>0.000000</td>\n",
       "      <td>11.000000</td>\n",
       "      <td>66.000000</td>\n",
       "      <td>1.000000</td>\n",
       "      <td>0.044333</td>\n",
       "      <td>1.011300e-08</td>\n",
       "      <td>1.740170e-10</td>\n",
       "    </tr>\n",
       "    <tr>\n",
       "      <th>25%</th>\n",
       "      <td>6.757404e+17</td>\n",
       "      <td>10.000000</td>\n",
       "      <td>493.000000</td>\n",
       "      <td>1630.000000</td>\n",
       "      <td>1.000000</td>\n",
       "      <td>0.360465</td>\n",
       "      <td>5.421470e-02</td>\n",
       "      <td>1.619070e-02</td>\n",
       "    </tr>\n",
       "    <tr>\n",
       "      <th>50%</th>\n",
       "      <td>7.081309e+17</td>\n",
       "      <td>11.000000</td>\n",
       "      <td>1078.000000</td>\n",
       "      <td>3473.000000</td>\n",
       "      <td>1.000000</td>\n",
       "      <td>0.587372</td>\n",
       "      <td>1.186470e-01</td>\n",
       "      <td>4.952370e-02</td>\n",
       "    </tr>\n",
       "    <tr>\n",
       "      <th>75%</th>\n",
       "      <td>7.877176e+17</td>\n",
       "      <td>12.000000</td>\n",
       "      <td>2569.000000</td>\n",
       "      <td>9570.000000</td>\n",
       "      <td>1.000000</td>\n",
       "      <td>0.843911</td>\n",
       "      <td>1.955580e-01</td>\n",
       "      <td>9.193000e-02</td>\n",
       "    </tr>\n",
       "    <tr>\n",
       "      <th>max</th>\n",
       "      <td>8.921774e+17</td>\n",
       "      <td>14.000000</td>\n",
       "      <td>70795.000000</td>\n",
       "      <td>144985.000000</td>\n",
       "      <td>4.000000</td>\n",
       "      <td>1.000000</td>\n",
       "      <td>4.880140e-01</td>\n",
       "      <td>2.710420e-01</td>\n",
       "    </tr>\n",
       "  </tbody>\n",
       "</table>\n",
       "</div>"
      ],
      "text/plain": [
       "           tweet_id  rating_numerator  retweet_count  favorite_count      img_num      p1_conf       p2_conf       p3_conf\n",
       "count  1.969000e+03       1969.000000    1969.000000     1969.000000  1969.000000  1969.000000  1.969000e+03  1.969000e+03\n",
       "mean   7.356635e+17         10.535693    2248.206704     7725.351955     1.204165     0.593594  1.348524e-01  6.031235e-02\n",
       "std    6.747456e+16          2.197268    4034.232642    11403.005605     0.563059     0.271872  1.006881e-01  5.084506e-02\n",
       "min    6.660209e+17          0.000000      11.000000       66.000000     1.000000     0.044333  1.011300e-08  1.740170e-10\n",
       "25%    6.757404e+17         10.000000     493.000000     1630.000000     1.000000     0.360465  5.421470e-02  1.619070e-02\n",
       "50%    7.081309e+17         11.000000    1078.000000     3473.000000     1.000000     0.587372  1.186470e-01  4.952370e-02\n",
       "75%    7.877176e+17         12.000000    2569.000000     9570.000000     1.000000     0.843911  1.955580e-01  9.193000e-02\n",
       "max    8.921774e+17         14.000000   70795.000000   144985.000000     4.000000     1.000000  4.880140e-01  2.710420e-01"
      ]
     },
     "execution_count": 502,
     "metadata": {},
     "output_type": "execute_result"
    }
   ],
   "source": [
    "twitter_archive_master.describe()"
   ]
  },
  {
   "cell_type": "markdown",
   "id": "45af14c2",
   "metadata": {},
   "source": [
    "From the summary shown above there seems to be huge outliers that will affect visualization of our plot, thus we will be subsetting for values in our interquartile range."
   ]
  },
  {
   "cell_type": "code",
   "execution_count": 503,
   "id": "01800bf8",
   "metadata": {},
   "outputs": [
    {
     "data": {
      "image/png": "[encoded data removed]",
      "text/plain": [
       "<Figure size 432x288 with 1 Axes>"
      ]
     },
     "metadata": {},
     "output_type": "display_data"
    }
   ],
   "source": [
    "# Visualizations for retweet_count\n",
    "display(column=twitter_archive_master[twitter_archive_master['retweet_count'] < 20000]['retweet_count'], title='Plot of Retweet Count')"
   ]
  },
  {
   "cell_type": "code",
   "execution_count": 504,
   "id": "274ce2cd",
   "metadata": {},
   "outputs": [
    {
     "data": {
      "image/png": "[encoded data removed]",
      "text/plain": [
       "<Figure size 432x288 with 1 Axes>"
      ]
     },
     "metadata": {},
     "output_type": "display_data"
    }
   ],
   "source": [
    "# Visualizations for favorite_count\n",
    "display(twitter_archive_master[twitter_archive_master['favorite_count'] < 10000]['favorite_count'], 'Plot of Favorite Count')"
   ]
  },
  {
   "cell_type": "code",
   "execution_count": 505,
   "id": "b69e8909",
   "metadata": {},
   "outputs": [
    {
     "data": {
      "image/png": "[encoded data removed]",
      "text/plain": [
       "<Figure size 432x288 with 1 Axes>"
      ]
     },
     "metadata": {},
     "output_type": "display_data"
    }
   ],
   "source": [
    "# Visualizations for dog Ratings, recall they are all over 10 i.e 10/10\n",
    "display(twitter_archive_master['rating_numerator'], 'Plot of ratings')"
   ]
  },
  {
   "cell_type": "markdown",
   "id": "5b421aba",
   "metadata": {},
   "source": [
    "##### Lets see plots based on the categories of dogs found on the We Rate Dogs Twitter Page."
   ]
  },
  {
   "cell_type": "code",
   "execution_count": 506,
   "id": "0533795f",
   "metadata": {},
   "outputs": [
    {
     "data": {
      "text/plain": [
       "golden_retriever      136\n",
       "Labrador_retriever     89\n",
       "Pembroke               88\n",
       "Chihuahua              79\n",
       "pug                    54\n",
       "chow                   41\n",
       "Samoyed                39\n",
       "Pomeranian             38\n",
       "toy_poodle             37\n",
       "malamute               29\n",
       "Name: p1, dtype: int64"
      ]
     },
     "execution_count": 506,
     "metadata": {},
     "output_type": "execute_result"
    }
   ],
   "source": [
    "twitter_archive_master.p1.value_counts().head(10)"
   ]
  },
  {
   "cell_type": "code",
   "execution_count": 507,
   "id": "07e1b9a8",
   "metadata": {},
   "outputs": [],
   "source": [
    "# Subsetting the twitter_archive__master dataframe for image prediction of dogs greater than 0.7 in p1 column\n",
    "dogs = twitter_archive_master[twitter_archive_master['p1_conf'] > 0.7]"
   ]
  },
  {
   "cell_type": "code",
   "execution_count": 508,
   "id": "1c8cbe37",
   "metadata": {},
   "outputs": [
    {
     "data": {
      "text/plain": [
       "golden_retriever            84\n",
       "Pembroke                    51\n",
       "Labrador_retriever          44\n",
       "pug                         35\n",
       "Chihuahua                   33\n",
       "Pomeranian                  23\n",
       "Samoyed                     23\n",
       "French_bulldog              19\n",
       "chow                        19\n",
       "toy_poodle                  15\n",
       "German_shepherd             12\n",
       "web_site                    11\n",
       "seat_belt                   11\n",
       "malamute                    10\n",
       "cocker_spaniel              10\n",
       "Maltese_dog                  9\n",
       "Shetland_sheepdog            8\n",
       "Great_Pyrenees               8\n",
       "Chesapeake_Bay_retriever     8\n",
       "Brittany_spaniel             7\n",
       "Name: p1, dtype: int64"
      ]
     },
     "execution_count": 508,
     "metadata": {},
     "output_type": "execute_result"
    }
   ],
   "source": [
    "# Checking to see the value counts of dogs correctly predicted\n",
    "dogs.p1.value_counts().head(20)"
   ]
  },
  {
   "cell_type": "code",
   "execution_count": 509,
   "id": "d3e8c1c0",
   "metadata": {},
   "outputs": [],
   "source": [
    "# Lets create our own summary statistics for most retweeted, favourite and rated dog!\n",
    "grouped_dog = dogs.groupby('p1')[['retweet_count', 'favorite_count', 'rating_numerator']].agg({'retweet_count':'sum', 'favorite_count':'sum', 'rating_numerator':'mean'})"
   ]
  },
  {
   "cell_type": "code",
   "execution_count": 514,
   "id": "2790ca4e",
   "metadata": {},
   "outputs": [
    {
     "data": {
      "image/png": "[encoded data removed]",
      "text/plain": [
       "<Figure size 648x360 with 1 Axes>"
      ]
     },
     "metadata": {},
     "output_type": "display_data"
    }
   ],
   "source": [
    "# Lets visualize the top 7 retweeted dogs\n",
    "retweeted = grouped_dog.sort_values(by='retweet_count', ascending = False)\n",
    "fig, ax = plt.subplots(figsize = (9, 5))\n",
    "ax.bar(retweeted.index[:7], retweeted['retweet_count'][:7])\n",
    "plt.xlabel('Dog breeds')\n",
    "plt.ylabel('Total retweets per dog breed')\n",
    "plt.title('Most Retweeted Dogs in WeRateDogs Twitter Page')\n",
    "ax.tick_params(axis='x',rotation= 45) "
   ]
  },
  {
   "cell_type": "code",
   "execution_count": 515,
   "id": "85e4aee0",
   "metadata": {},
   "outputs": [
    {
     "data": {
      "image/png": "[encoded data removed]",
      "text/plain": [
       "<Figure size 648x360 with 1 Axes>"
      ]
     },
     "metadata": {},
     "output_type": "display_data"
    }
   ],
   "source": [
    "# Lets visualize the top 7 favorite dogs\n",
    "favorite = grouped_dog.sort_values(by='favorite_count', ascending = False)\n",
    "fig, ax = plt.subplots(figsize = (9, 5))\n",
    "ax.bar(favorite.index[:7], favorite['favorite_count'][:7])\n",
    "plt.xlabel('Dog breeds')\n",
    "plt.ylabel('Total likes per dog breed')\n",
    "plt.title('Most Liked Dogs in WeRateDogs Twitter Page')\n",
    "ax.tick_params(axis='x',rotation= 45) "
   ]
  },
  {
   "cell_type": "markdown",
   "id": "f6b3130d",
   "metadata": {},
   "source": [
    "### Insights:\n",
    "1. The most liked posts in WeRateDogs page has images of golden retrievers, Labrador retriever, Pembroke, Samoyed, French Bulldogs, \n",
    "Chihuahua, chows and others in this order.\n",
    "\n",
    "2. The most retweeted posts in WeRateDogs page has images of golden retrievers, Labrador retriever, Pembroke, French Bulldogs, Samoyed,\n",
    "Chihuahua, pugs and others in this order.\n",
    "\n",
    "3. On the weratedogs twitter page, there are images of that have very high number of retweet_counts and favorite_counts"
   ]
  }
 ],
 "metadata": {
  "kernelspec": {
   "display_name": "Python 3 (ipykernel)",
   "language": "python",
   "name": "python3"
  },
  "language_info": {
   "codemirror_mode": {
    "name": "ipython",
    "version": 3
   },
   "file_extension": ".py",
   "mimetype": "text/x-python",
   "name": "python",
   "nbconvert_exporter": "python",
   "pygments_lexer": "ipython3",
   "version": "3.9.7"
  }
 },
 "nbformat": 4,
 "nbformat_minor": 5
}
