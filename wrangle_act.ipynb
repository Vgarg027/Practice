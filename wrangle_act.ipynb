{
 "cells": [
  {
   "cell_type": "markdown",
   "metadata": {},
   "source": [
    "# WeRateDogs Twitter Data Wrangling & Analysis\n",
    "\n",
    "*by Awurigwe Joseph*\n",
    "\n",
    "## Table of Contents\n",
    "\n",
    "- <a href='#introduction'>Introduction</a>\n",
    "- <a href='#gather'>Gathering</a>\n",
    "- <a href='#assess'>Assessing The Data</a>\n",
    "- <a href='#clean'>Cleaning The Data</a>\n",
    "- <a href='#store'>Store</a>\n",
    "- <a href='#analysis'>Exploratory Data Analysis</a>\n",
    "- <a href='#conclusion'>Conclusion</a>\n",
    "- <a href='#sources'>Sources</a>"
   ]
  },
  {
   "cell_type": "markdown",
   "metadata": {},
   "source": [
    "<a id='Introduction'></a>\n",
    "# Introduction"
   ]
  },
  {
   "cell_type": "markdown",
   "metadata": {},
   "source": [
    "WeRateDogs is a Twitter account that posts and rates pictures of dogs. These ratings often are not serious and have numerators that are greater than the denominators. In this analysis, I will mostly focus on wrangling WeRateDogs's Twitter archive through August 1, 2017. Most of the necessary Twitter data has been provided by Udacity and includes information on each post, as well as details on each dog such as the name, rating, and stage (whether the dog is a doggo, floofer, pupper, or puppo). See below for definitions on the dog stages. However, not all of the desired data is present in Udacity's dataset, so I will also use the Twitter API to gather additional data."
   ]
  },
  {
   "cell_type": "markdown",
   "metadata": {},
   "source": [
    "I'll start the data wrangling by importing the packages to be used in the project"
   ]
  },
  {
   "cell_type": "code",
   "execution_count": 1,
   "metadata": {
    "execution": {
     "iopub.execute_input": "2022-11-07T09:41:32.513079Z",
     "iopub.status.busy": "2022-11-07T09:41:32.512671Z",
     "iopub.status.idle": "2022-11-07T09:41:32.521052Z",
     "shell.execute_reply": "2022-11-07T09:41:32.519182Z",
     "shell.execute_reply.started": "2022-11-07T09:41:32.513046Z"
    }
   },
   "outputs": [],
   "source": [
    "import pandas as pd\n",
    "import numpy as np\n",
    "import requests\n",
    "import json\n",
    "import matplotlib.pyplot as plt\n",
    "import seaborn as sb\n",
    "%matplotlib inline\n",
    "\n"
   ]
  },
  {
   "cell_type": "markdown",
   "metadata": {},
   "source": [
    "<a id='gather'></a>\n",
    "# Gathering\n",
    "\n",
    "The first file is the 'twitter-archive-enhanced.csv' which was downloaded manually from udacity servers"
   ]
  },
  {
   "cell_type": "code",
   "execution_count": 2,
   "metadata": {
    "execution": {
     "iopub.execute_input": "2022-11-07T09:41:32.579063Z",
     "iopub.status.busy": "2022-11-07T09:41:32.578431Z",
     "iopub.status.idle": "2022-11-07T09:41:32.624767Z",
     "shell.execute_reply": "2022-11-07T09:41:32.623554Z",
     "shell.execute_reply.started": "2022-11-07T09:41:32.579028Z"
    }
   },
   "outputs": [
    {
     "data": {
      "text/html": [
       "<div>\n",
       "<style scoped>\n",
       "    .dataframe tbody tr th:only-of-type {\n",
       "        vertical-align: middle;\n",
       "    }\n",
       "\n",
       "    .dataframe tbody tr th {\n",
       "        vertical-align: top;\n",
       "    }\n",
       "\n",
       "    .dataframe thead th {\n",
       "        text-align: right;\n",
       "    }\n",
       "</style>\n",
       "<table border=\"1\" class=\"dataframe\">\n",
       "  <thead>\n",
       "    <tr style=\"text-align: right;\">\n",
       "      <th></th>\n",
       "      <th>tweet_id</th>\n",
       "      <th>in_reply_to_status_id</th>\n",
       "      <th>in_reply_to_user_id</th>\n",
       "      <th>timestamp</th>\n",
       "      <th>source</th>\n",
       "      <th>text</th>\n",
       "      <th>retweeted_status_id</th>\n",
       "      <th>retweeted_status_user_id</th>\n",
       "      <th>retweeted_status_timestamp</th>\n",
       "      <th>expanded_urls</th>\n",
       "      <th>rating_numerator</th>\n",
       "      <th>rating_denominator</th>\n",
       "      <th>name</th>\n",
       "      <th>doggo</th>\n",
       "      <th>floofer</th>\n",
       "      <th>pupper</th>\n",
       "      <th>puppo</th>\n",
       "    </tr>\n",
       "  </thead>\n",
       "  <tbody>\n",
       "    <tr>\n",
       "      <th>0</th>\n",
       "      <td>892420643555336193</td>\n",
       "      <td>NaN</td>\n",
       "      <td>NaN</td>\n",
       "      <td>2017-08-01 16:23:56 +0000</td>\n",
       "      <td>&lt;a href=\"http://twitter.com/download/iphone\" r...</td>\n",
       "      <td>This is Phineas. He's a mystical boy. Only eve...</td>\n",
       "      <td>NaN</td>\n",
       "      <td>NaN</td>\n",
       "      <td>NaN</td>\n",
       "      <td>https://twitter.com/dog_rates/status/892420643...</td>\n",
       "      <td>13</td>\n",
       "      <td>10</td>\n",
       "      <td>Phineas</td>\n",
       "      <td>None</td>\n",
       "      <td>None</td>\n",
       "      <td>None</td>\n",
       "      <td>None</td>\n",
       "    </tr>\n",
       "    <tr>\n",
       "      <th>1</th>\n",
       "      <td>892177421306343426</td>\n",
       "      <td>NaN</td>\n",
       "      <td>NaN</td>\n",
       "      <td>2017-08-01 00:17:27 +0000</td>\n",
       "      <td>&lt;a href=\"http://twitter.com/download/iphone\" r...</td>\n",
       "      <td>This is Tilly. She's just checking pup on you....</td>\n",
       "      <td>NaN</td>\n",
       "      <td>NaN</td>\n",
       "      <td>NaN</td>\n",
       "      <td>https://twitter.com/dog_rates/status/892177421...</td>\n",
       "      <td>13</td>\n",
       "      <td>10</td>\n",
       "      <td>Tilly</td>\n",
       "      <td>None</td>\n",
       "      <td>None</td>\n",
       "      <td>None</td>\n",
       "      <td>None</td>\n",
       "    </tr>\n",
       "    <tr>\n",
       "      <th>2</th>\n",
       "      <td>891815181378084864</td>\n",
       "      <td>NaN</td>\n",
       "      <td>NaN</td>\n",
       "      <td>2017-07-31 00:18:03 +0000</td>\n",
       "      <td>&lt;a href=\"http://twitter.com/download/iphone\" r...</td>\n",
       "      <td>This is Archie. He is a rare Norwegian Pouncin...</td>\n",
       "      <td>NaN</td>\n",
       "      <td>NaN</td>\n",
       "      <td>NaN</td>\n",
       "      <td>https://twitter.com/dog_rates/status/891815181...</td>\n",
       "      <td>12</td>\n",
       "      <td>10</td>\n",
       "      <td>Archie</td>\n",
       "      <td>None</td>\n",
       "      <td>None</td>\n",
       "      <td>None</td>\n",
       "      <td>None</td>\n",
       "    </tr>\n",
       "    <tr>\n",
       "      <th>3</th>\n",
       "      <td>891689557279858688</td>\n",
       "      <td>NaN</td>\n",
       "      <td>NaN</td>\n",
       "      <td>2017-07-30 15:58:51 +0000</td>\n",
       "      <td>&lt;a href=\"http://twitter.com/download/iphone\" r...</td>\n",
       "      <td>This is Darla. She commenced a snooze mid meal...</td>\n",
       "      <td>NaN</td>\n",
       "      <td>NaN</td>\n",
       "      <td>NaN</td>\n",
       "      <td>https://twitter.com/dog_rates/status/891689557...</td>\n",
       "      <td>13</td>\n",
       "      <td>10</td>\n",
       "      <td>Darla</td>\n",
       "      <td>None</td>\n",
       "      <td>None</td>\n",
       "      <td>None</td>\n",
       "      <td>None</td>\n",
       "    </tr>\n",
       "    <tr>\n",
       "      <th>4</th>\n",
       "      <td>891327558926688256</td>\n",
       "      <td>NaN</td>\n",
       "      <td>NaN</td>\n",
       "      <td>2017-07-29 16:00:24 +0000</td>\n",
       "      <td>&lt;a href=\"http://twitter.com/download/iphone\" r...</td>\n",
       "      <td>This is Franklin. He would like you to stop ca...</td>\n",
       "      <td>NaN</td>\n",
       "      <td>NaN</td>\n",
       "      <td>NaN</td>\n",
       "      <td>https://twitter.com/dog_rates/status/891327558...</td>\n",
       "      <td>12</td>\n",
       "      <td>10</td>\n",
       "      <td>Franklin</td>\n",
       "      <td>None</td>\n",
       "      <td>None</td>\n",
       "      <td>None</td>\n",
       "      <td>None</td>\n",
       "    </tr>\n",
       "  </tbody>\n",
       "</table>\n",
       "</div>"
      ],
      "text/plain": [
       "             tweet_id  in_reply_to_status_id  in_reply_to_user_id  \\\n",
       "0  892420643555336193                    NaN                  NaN   \n",
       "1  892177421306343426                    NaN                  NaN   \n",
       "2  891815181378084864                    NaN                  NaN   \n",
       "3  891689557279858688                    NaN                  NaN   \n",
       "4  891327558926688256                    NaN                  NaN   \n",
       "\n",
       "                   timestamp  \\\n",
       "0  2017-08-01 16:23:56 +0000   \n",
       "1  2017-08-01 00:17:27 +0000   \n",
       "2  2017-07-31 00:18:03 +0000   \n",
       "3  2017-07-30 15:58:51 +0000   \n",
       "4  2017-07-29 16:00:24 +0000   \n",
       "\n",
       "                                              source  \\\n",
       "0  <a href=\"http://twitter.com/download/iphone\" r...   \n",
       "1  <a href=\"http://twitter.com/download/iphone\" r...   \n",
       "2  <a href=\"http://twitter.com/download/iphone\" r...   \n",
       "3  <a href=\"http://twitter.com/download/iphone\" r...   \n",
       "4  <a href=\"http://twitter.com/download/iphone\" r...   \n",
       "\n",
       "                                                text  retweeted_status_id  \\\n",
       "0  This is Phineas. He's a mystical boy. Only eve...                  NaN   \n",
       "1  This is Tilly. She's just checking pup on you....                  NaN   \n",
       "2  This is Archie. He is a rare Norwegian Pouncin...                  NaN   \n",
       "3  This is Darla. She commenced a snooze mid meal...                  NaN   \n",
       "4  This is Franklin. He would like you to stop ca...                  NaN   \n",
       "\n",
       "   retweeted_status_user_id retweeted_status_timestamp  \\\n",
       "0                       NaN                        NaN   \n",
       "1                       NaN                        NaN   \n",
       "2                       NaN                        NaN   \n",
       "3                       NaN                        NaN   \n",
       "4                       NaN                        NaN   \n",
       "\n",
       "                                       expanded_urls  rating_numerator  \\\n",
       "0  https://twitter.com/dog_rates/status/892420643...                13   \n",
       "1  https://twitter.com/dog_rates/status/892177421...                13   \n",
       "2  https://twitter.com/dog_rates/status/891815181...                12   \n",
       "3  https://twitter.com/dog_rates/status/891689557...                13   \n",
       "4  https://twitter.com/dog_rates/status/891327558...                12   \n",
       "\n",
       "   rating_denominator      name doggo floofer pupper puppo  \n",
       "0                  10   Phineas  None    None   None  None  \n",
       "1                  10     Tilly  None    None   None  None  \n",
       "2                  10    Archie  None    None   None  None  \n",
       "3                  10     Darla  None    None   None  None  \n",
       "4                  10  Franklin  None    None   None  None  "
      ]
     },
     "execution_count": 2,
     "metadata": {},
     "output_type": "execute_result"
    }
   ],
   "source": [
    "tweet_archive = pd.read_csv('twitter-archive-enhanced.csv')\n",
    "\n",
    "#confirming success by checking head()\n",
    "tweet_archive.head()"
   ]
  },
  {
   "cell_type": "markdown",
   "metadata": {},
   "source": [
    "The second dataset, the image prediction(image_prediction.tsv) is hosted on Udacity's servers and should be downloaded programmatically using the Requests library"
   ]
  },
  {
   "cell_type": "code",
   "execution_count": 3,
   "metadata": {
    "execution": {
     "iopub.execute_input": "2022-11-07T09:41:32.630365Z",
     "iopub.status.busy": "2022-11-07T09:41:32.629968Z",
     "iopub.status.idle": "2022-11-07T09:41:33.573458Z",
     "shell.execute_reply": "2022-11-07T09:41:33.572118Z",
     "shell.execute_reply.started": "2022-11-07T09:41:32.630331Z"
    }
   },
   "outputs": [],
   "source": [
    "# image predictions URL provided by Udacity\n",
    "url = 'https://d17h27t6h515a5.cloudfront.net/topher/2017/August/599fd2ad_image-predictions/image-predictions.tsv'\n",
    "image_pred = requests.get(url)\n",
    "with open(url.split('/')[-1], mode='wb') as file:\n",
    "    file.write(image_pred.content)"
   ]
  },
  {
   "cell_type": "code",
   "execution_count": 4,
   "metadata": {
    "execution": {
     "iopub.execute_input": "2022-11-07T09:41:33.576951Z",
     "iopub.status.busy": "2022-11-07T09:41:33.575800Z",
     "iopub.status.idle": "2022-11-07T09:41:33.607586Z",
     "shell.execute_reply": "2022-11-07T09:41:33.606373Z",
     "shell.execute_reply.started": "2022-11-07T09:41:33.576902Z"
    }
   },
   "outputs": [
    {
     "data": {
      "text/html": [
       "<div>\n",
       "<style scoped>\n",
       "    .dataframe tbody tr th:only-of-type {\n",
       "        vertical-align: middle;\n",
       "    }\n",
       "\n",
       "    .dataframe tbody tr th {\n",
       "        vertical-align: top;\n",
       "    }\n",
       "\n",
       "    .dataframe thead th {\n",
       "        text-align: right;\n",
       "    }\n",
       "</style>\n",
       "<table border=\"1\" class=\"dataframe\">\n",
       "  <thead>\n",
       "    <tr style=\"text-align: right;\">\n",
       "      <th></th>\n",
       "      <th>tweet_id</th>\n",
       "      <th>jpg_url</th>\n",
       "      <th>img_num</th>\n",
       "      <th>p1</th>\n",
       "      <th>p1_conf</th>\n",
       "      <th>p1_dog</th>\n",
       "      <th>p2</th>\n",
       "      <th>p2_conf</th>\n",
       "      <th>p2_dog</th>\n",
       "      <th>p3</th>\n",
       "      <th>p3_conf</th>\n",
       "      <th>p3_dog</th>\n",
       "    </tr>\n",
       "  </thead>\n",
       "  <tbody>\n",
       "    <tr>\n",
       "      <th>0</th>\n",
       "      <td>666020888022790149</td>\n",
       "      <td>https://pbs.twimg.com/media/CT4udn0WwAA0aMy.jpg</td>\n",
       "      <td>1</td>\n",
       "      <td>Welsh_springer_spaniel</td>\n",
       "      <td>0.465074</td>\n",
       "      <td>True</td>\n",
       "      <td>collie</td>\n",
       "      <td>0.156665</td>\n",
       "      <td>True</td>\n",
       "      <td>Shetland_sheepdog</td>\n",
       "      <td>0.061428</td>\n",
       "      <td>True</td>\n",
       "    </tr>\n",
       "    <tr>\n",
       "      <th>1</th>\n",
       "      <td>666029285002620928</td>\n",
       "      <td>https://pbs.twimg.com/media/CT42GRgUYAA5iDo.jpg</td>\n",
       "      <td>1</td>\n",
       "      <td>redbone</td>\n",
       "      <td>0.506826</td>\n",
       "      <td>True</td>\n",
       "      <td>miniature_pinscher</td>\n",
       "      <td>0.074192</td>\n",
       "      <td>True</td>\n",
       "      <td>Rhodesian_ridgeback</td>\n",
       "      <td>0.072010</td>\n",
       "      <td>True</td>\n",
       "    </tr>\n",
       "    <tr>\n",
       "      <th>2</th>\n",
       "      <td>666033412701032449</td>\n",
       "      <td>https://pbs.twimg.com/media/CT4521TWwAEvMyu.jpg</td>\n",
       "      <td>1</td>\n",
       "      <td>German_shepherd</td>\n",
       "      <td>0.596461</td>\n",
       "      <td>True</td>\n",
       "      <td>malinois</td>\n",
       "      <td>0.138584</td>\n",
       "      <td>True</td>\n",
       "      <td>bloodhound</td>\n",
       "      <td>0.116197</td>\n",
       "      <td>True</td>\n",
       "    </tr>\n",
       "    <tr>\n",
       "      <th>3</th>\n",
       "      <td>666044226329800704</td>\n",
       "      <td>https://pbs.twimg.com/media/CT5Dr8HUEAA-lEu.jpg</td>\n",
       "      <td>1</td>\n",
       "      <td>Rhodesian_ridgeback</td>\n",
       "      <td>0.408143</td>\n",
       "      <td>True</td>\n",
       "      <td>redbone</td>\n",
       "      <td>0.360687</td>\n",
       "      <td>True</td>\n",
       "      <td>miniature_pinscher</td>\n",
       "      <td>0.222752</td>\n",
       "      <td>True</td>\n",
       "    </tr>\n",
       "    <tr>\n",
       "      <th>4</th>\n",
       "      <td>666049248165822465</td>\n",
       "      <td>https://pbs.twimg.com/media/CT5IQmsXIAAKY4A.jpg</td>\n",
       "      <td>1</td>\n",
       "      <td>miniature_pinscher</td>\n",
       "      <td>0.560311</td>\n",
       "      <td>True</td>\n",
       "      <td>Rottweiler</td>\n",
       "      <td>0.243682</td>\n",
       "      <td>True</td>\n",
       "      <td>Doberman</td>\n",
       "      <td>0.154629</td>\n",
       "      <td>True</td>\n",
       "    </tr>\n",
       "  </tbody>\n",
       "</table>\n",
       "</div>"
      ],
      "text/plain": [
       "             tweet_id                                          jpg_url  \\\n",
       "0  666020888022790149  https://pbs.twimg.com/media/CT4udn0WwAA0aMy.jpg   \n",
       "1  666029285002620928  https://pbs.twimg.com/media/CT42GRgUYAA5iDo.jpg   \n",
       "2  666033412701032449  https://pbs.twimg.com/media/CT4521TWwAEvMyu.jpg   \n",
       "3  666044226329800704  https://pbs.twimg.com/media/CT5Dr8HUEAA-lEu.jpg   \n",
       "4  666049248165822465  https://pbs.twimg.com/media/CT5IQmsXIAAKY4A.jpg   \n",
       "\n",
       "   img_num                      p1   p1_conf  p1_dog                  p2  \\\n",
       "0        1  Welsh_springer_spaniel  0.465074    True              collie   \n",
       "1        1                 redbone  0.506826    True  miniature_pinscher   \n",
       "2        1         German_shepherd  0.596461    True            malinois   \n",
       "3        1     Rhodesian_ridgeback  0.408143    True             redbone   \n",
       "4        1      miniature_pinscher  0.560311    True          Rottweiler   \n",
       "\n",
       "    p2_conf  p2_dog                   p3   p3_conf  p3_dog  \n",
       "0  0.156665    True    Shetland_sheepdog  0.061428    True  \n",
       "1  0.074192    True  Rhodesian_ridgeback  0.072010    True  \n",
       "2  0.138584    True           bloodhound  0.116197    True  \n",
       "3  0.360687    True   miniature_pinscher  0.222752    True  \n",
       "4  0.243682    True             Doberman  0.154629    True  "
      ]
     },
     "execution_count": 4,
     "metadata": {},
     "output_type": "execute_result"
    }
   ],
   "source": [
    "#reading the downloaded image prediction file to a dataframe\n",
    "predictions = pd.read_csv('image-predictions.tsv', sep='\\t')\n",
    "\n",
    "#confirming success with .head()\n",
    "predictions.head()"
   ]
  },
  {
   "cell_type": "markdown",
   "metadata": {},
   "source": [
    "The 'tweets-json.txt' was meant to be gotten by querying the twitter api but I couldn't get access to it, so I had to downnload the one already given in the classroom"
   ]
  },
  {
   "cell_type": "code",
   "execution_count": 5,
   "metadata": {
    "execution": {
     "iopub.execute_input": "2022-11-07T09:41:33.609935Z",
     "iopub.status.busy": "2022-11-07T09:41:33.608937Z",
     "iopub.status.idle": "2022-11-07T09:41:33.777757Z",
     "shell.execute_reply": "2022-11-07T09:41:33.776143Z",
     "shell.execute_reply.started": "2022-11-07T09:41:33.609892Z"
    }
   },
   "outputs": [],
   "source": [
    "#sorting through the tweets-json file\n",
    "df_list = []\n",
    "with open('tweets-json.txt', mode='r', encoding='utf-8') as file:\n",
    "    lines = file.readlines()\n",
    "    for line in lines:\n",
    "        data = json.loads(line)\n",
    "        tweet_id = data['id']\n",
    "        retweet_count = data['retweet_count']\n",
    "        favorite_count = data['favorite_count']\n",
    "        df_list.append({'tweet_id': tweet_id, 'retweet_count': retweet_count, 'favorite_count': favorite_count})\n",
    "#reading the json into a dataframe\n",
    "tweet_data = pd.DataFrame(df_list, columns=['tweet_id', 'retweet_count', 'favorite_count'])"
   ]
  },
  {
   "cell_type": "code",
   "execution_count": 54,
   "metadata": {},
   "outputs": [
    {
     "ename": "ModuleNotFoundError",
     "evalue": "No module named 'tweepy'",
     "output_type": "error",
     "traceback": [
      "\u001b[1;31m---------------------------------------------------------------------------\u001b[0m",
      "\u001b[1;31mModuleNotFoundError\u001b[0m                       Traceback (most recent call last)",
      "\u001b[1;32m~\\AppData\\Local\\Temp\\ipykernel_3024\\1363276674.py\u001b[0m in \u001b[0;36m<module>\u001b[1;34m\u001b[0m\n\u001b[1;32m----> 1\u001b[1;33m \u001b[1;32mimport\u001b[0m \u001b[0mtweepy\u001b[0m\u001b[1;33m\u001b[0m\u001b[1;33m\u001b[0m\u001b[0m\n\u001b[0m\u001b[0;32m      2\u001b[0m \u001b[1;32mfrom\u001b[0m \u001b[0mtweepy\u001b[0m \u001b[1;32mimport\u001b[0m \u001b[0mOAuthHandler\u001b[0m\u001b[1;33m\u001b[0m\u001b[1;33m\u001b[0m\u001b[0m\n\u001b[0;32m      3\u001b[0m \u001b[1;32mimport\u001b[0m \u001b[0mjson\u001b[0m\u001b[1;33m\u001b[0m\u001b[1;33m\u001b[0m\u001b[0m\n\u001b[0;32m      4\u001b[0m \u001b[1;32mfrom\u001b[0m \u001b[0mtimeit\u001b[0m \u001b[1;32mimport\u001b[0m \u001b[0mdefault_timer\u001b[0m \u001b[1;32mas\u001b[0m \u001b[0mtimer\u001b[0m\u001b[1;33m\u001b[0m\u001b[1;33m\u001b[0m\u001b[0m\n\u001b[0;32m      5\u001b[0m \u001b[1;33m\u001b[0m\u001b[0m\n",
      "\u001b[1;31mModuleNotFoundError\u001b[0m: No module named 'tweepy'"
     ]
    }
   ],
   "source": [
    "import tweepy\n",
    "from tweepy import OAuthHandler\n",
    "import json\n",
    "from timeit import default_timer as timer\n",
    "\n",
    "# Query Twitter API for each tweet in the Twitter archive and save JSON in a text file\n",
    "# These are hidden to comply with Twitter's API terms and conditions\n",
    "consumer_key = 'HIDDEN'\n",
    "consumer_secret = 'HIDDEN'\n",
    "access_token = 'HIDDEN'\n",
    "access_secret = 'HIDDEN'\n",
    "\n",
    "auth = OAuthHandler(consumer_key, consumer_secret)\n",
    "auth.set_access_token(access_token, access_secret)\n",
    "\n",
    "api = tweepy.API(auth, wait_on_rate_limit=True)\n",
    "\n",
    "# NOTE TO STUDENT WITH MOBILE VERIFICATION ISSUES:\n",
    "# df_1 is a DataFrame with the twitter_archive_enhanced.csv file. You may have to\n",
    "# change line 17 to match the name of your DataFrame with twitter_archive_enhanced.csv\n",
    "# NOTE TO REVIEWER: this student had mobile verification issues so the following\n",
    "# Twitter API code was sent to this student from a Udacity instructor\n",
    "# Tweet IDs for which to gather additional data via Twitter's API\n",
    "tweet_ids = df_1.tweet_id.values\n",
    "len(tweet_ids)\n",
    "\n",
    "# Query Twitter's API for JSON data for each tweet ID in the Twitter archive\n",
    "count = 0\n",
    "fails_dict = {}\n",
    "start = timer()\n",
    "# Save each tweet's returned JSON as a new line in a .txt file\n",
    "with open('tweet_json.txt', 'w') as outfile:\n",
    "    # This loop will likely take 20-30 minutes to run because of Twitter's rate limit\n",
    "    for tweet_id in tweet_ids:\n",
    "        count += 1\n",
    "        print(str(count) + \": \" + str(tweet_id))\n",
    "        try:\n",
    "            tweet = api.get_status(tweet_id, tweet_mode='extended')\n",
    "            print(\"Success\")\n",
    "            json.dump(tweet._json, outfile)\n",
    "            outfile.write('\\n')\n",
    "        except tweepy.TweepError as e:\n",
    "            print(\"Fail\")\n",
    "            fails_dict[tweet_id] = e\n",
    "            pass\n",
    "end = timer()\n",
    "print(end - start)\n",
    "print(fails_dict)"
   ]
  },
  {
   "cell_type": "markdown",
   "metadata": {},
   "source": [
    "<a id='access'></a>\n",
    "# Accessing The Data\n",
    "\n",
    "The next step involves accessing the gathered data, which will be done both visually and programatically"
   ]
  },
  {
   "cell_type": "code",
   "execution_count": 6,
   "metadata": {
    "execution": {
     "iopub.execute_input": "2022-11-07T09:41:33.782020Z",
     "iopub.status.busy": "2022-11-07T09:41:33.781075Z",
     "iopub.status.idle": "2022-11-07T09:41:33.813861Z",
     "shell.execute_reply": "2022-11-07T09:41:33.812641Z",
     "shell.execute_reply.started": "2022-11-07T09:41:33.781968Z"
    }
   },
   "outputs": [
    {
     "data": {
      "text/html": [
       "<div>\n",
       "<style scoped>\n",
       "    .dataframe tbody tr th:only-of-type {\n",
       "        vertical-align: middle;\n",
       "    }\n",
       "\n",
       "    .dataframe tbody tr th {\n",
       "        vertical-align: top;\n",
       "    }\n",
       "\n",
       "    .dataframe thead th {\n",
       "        text-align: right;\n",
       "    }\n",
       "</style>\n",
       "<table border=\"1\" class=\"dataframe\">\n",
       "  <thead>\n",
       "    <tr style=\"text-align: right;\">\n",
       "      <th></th>\n",
       "      <th>tweet_id</th>\n",
       "      <th>in_reply_to_status_id</th>\n",
       "      <th>in_reply_to_user_id</th>\n",
       "      <th>timestamp</th>\n",
       "      <th>source</th>\n",
       "      <th>text</th>\n",
       "      <th>retweeted_status_id</th>\n",
       "      <th>retweeted_status_user_id</th>\n",
       "      <th>retweeted_status_timestamp</th>\n",
       "      <th>expanded_urls</th>\n",
       "      <th>rating_numerator</th>\n",
       "      <th>rating_denominator</th>\n",
       "      <th>name</th>\n",
       "      <th>doggo</th>\n",
       "      <th>floofer</th>\n",
       "      <th>pupper</th>\n",
       "      <th>puppo</th>\n",
       "    </tr>\n",
       "  </thead>\n",
       "  <tbody>\n",
       "    <tr>\n",
       "      <th>0</th>\n",
       "      <td>892420643555336193</td>\n",
       "      <td>NaN</td>\n",
       "      <td>NaN</td>\n",
       "      <td>2017-08-01 16:23:56 +0000</td>\n",
       "      <td>&lt;a href=\"http://twitter.com/download/iphone\" r...</td>\n",
       "      <td>This is Phineas. He's a mystical boy. Only eve...</td>\n",
       "      <td>NaN</td>\n",
       "      <td>NaN</td>\n",
       "      <td>NaN</td>\n",
       "      <td>https://twitter.com/dog_rates/status/892420643...</td>\n",
       "      <td>13</td>\n",
       "      <td>10</td>\n",
       "      <td>Phineas</td>\n",
       "      <td>None</td>\n",
       "      <td>None</td>\n",
       "      <td>None</td>\n",
       "      <td>None</td>\n",
       "    </tr>\n",
       "    <tr>\n",
       "      <th>1</th>\n",
       "      <td>892177421306343426</td>\n",
       "      <td>NaN</td>\n",
       "      <td>NaN</td>\n",
       "      <td>2017-08-01 00:17:27 +0000</td>\n",
       "      <td>&lt;a href=\"http://twitter.com/download/iphone\" r...</td>\n",
       "      <td>This is Tilly. She's just checking pup on you....</td>\n",
       "      <td>NaN</td>\n",
       "      <td>NaN</td>\n",
       "      <td>NaN</td>\n",
       "      <td>https://twitter.com/dog_rates/status/892177421...</td>\n",
       "      <td>13</td>\n",
       "      <td>10</td>\n",
       "      <td>Tilly</td>\n",
       "      <td>None</td>\n",
       "      <td>None</td>\n",
       "      <td>None</td>\n",
       "      <td>None</td>\n",
       "    </tr>\n",
       "    <tr>\n",
       "      <th>2</th>\n",
       "      <td>891815181378084864</td>\n",
       "      <td>NaN</td>\n",
       "      <td>NaN</td>\n",
       "      <td>2017-07-31 00:18:03 +0000</td>\n",
       "      <td>&lt;a href=\"http://twitter.com/download/iphone\" r...</td>\n",
       "      <td>This is Archie. He is a rare Norwegian Pouncin...</td>\n",
       "      <td>NaN</td>\n",
       "      <td>NaN</td>\n",
       "      <td>NaN</td>\n",
       "      <td>https://twitter.com/dog_rates/status/891815181...</td>\n",
       "      <td>12</td>\n",
       "      <td>10</td>\n",
       "      <td>Archie</td>\n",
       "      <td>None</td>\n",
       "      <td>None</td>\n",
       "      <td>None</td>\n",
       "      <td>None</td>\n",
       "    </tr>\n",
       "    <tr>\n",
       "      <th>3</th>\n",
       "      <td>891689557279858688</td>\n",
       "      <td>NaN</td>\n",
       "      <td>NaN</td>\n",
       "      <td>2017-07-30 15:58:51 +0000</td>\n",
       "      <td>&lt;a href=\"http://twitter.com/download/iphone\" r...</td>\n",
       "      <td>This is Darla. She commenced a snooze mid meal...</td>\n",
       "      <td>NaN</td>\n",
       "      <td>NaN</td>\n",
       "      <td>NaN</td>\n",
       "      <td>https://twitter.com/dog_rates/status/891689557...</td>\n",
       "      <td>13</td>\n",
       "      <td>10</td>\n",
       "      <td>Darla</td>\n",
       "      <td>None</td>\n",
       "      <td>None</td>\n",
       "      <td>None</td>\n",
       "      <td>None</td>\n",
       "    </tr>\n",
       "    <tr>\n",
       "      <th>4</th>\n",
       "      <td>891327558926688256</td>\n",
       "      <td>NaN</td>\n",
       "      <td>NaN</td>\n",
       "      <td>2017-07-29 16:00:24 +0000</td>\n",
       "      <td>&lt;a href=\"http://twitter.com/download/iphone\" r...</td>\n",
       "      <td>This is Franklin. He would like you to stop ca...</td>\n",
       "      <td>NaN</td>\n",
       "      <td>NaN</td>\n",
       "      <td>NaN</td>\n",
       "      <td>https://twitter.com/dog_rates/status/891327558...</td>\n",
       "      <td>12</td>\n",
       "      <td>10</td>\n",
       "      <td>Franklin</td>\n",
       "      <td>None</td>\n",
       "      <td>None</td>\n",
       "      <td>None</td>\n",
       "      <td>None</td>\n",
       "    </tr>\n",
       "    <tr>\n",
       "      <th>...</th>\n",
       "      <td>...</td>\n",
       "      <td>...</td>\n",
       "      <td>...</td>\n",
       "      <td>...</td>\n",
       "      <td>...</td>\n",
       "      <td>...</td>\n",
       "      <td>...</td>\n",
       "      <td>...</td>\n",
       "      <td>...</td>\n",
       "      <td>...</td>\n",
       "      <td>...</td>\n",
       "      <td>...</td>\n",
       "      <td>...</td>\n",
       "      <td>...</td>\n",
       "      <td>...</td>\n",
       "      <td>...</td>\n",
       "      <td>...</td>\n",
       "    </tr>\n",
       "    <tr>\n",
       "      <th>2351</th>\n",
       "      <td>666049248165822465</td>\n",
       "      <td>NaN</td>\n",
       "      <td>NaN</td>\n",
       "      <td>2015-11-16 00:24:50 +0000</td>\n",
       "      <td>&lt;a href=\"http://twitter.com/download/iphone\" r...</td>\n",
       "      <td>Here we have a 1949 1st generation vulpix. Enj...</td>\n",
       "      <td>NaN</td>\n",
       "      <td>NaN</td>\n",
       "      <td>NaN</td>\n",
       "      <td>https://twitter.com/dog_rates/status/666049248...</td>\n",
       "      <td>5</td>\n",
       "      <td>10</td>\n",
       "      <td>None</td>\n",
       "      <td>None</td>\n",
       "      <td>None</td>\n",
       "      <td>None</td>\n",
       "      <td>None</td>\n",
       "    </tr>\n",
       "    <tr>\n",
       "      <th>2352</th>\n",
       "      <td>666044226329800704</td>\n",
       "      <td>NaN</td>\n",
       "      <td>NaN</td>\n",
       "      <td>2015-11-16 00:04:52 +0000</td>\n",
       "      <td>&lt;a href=\"http://twitter.com/download/iphone\" r...</td>\n",
       "      <td>This is a purebred Piers Morgan. Loves to Netf...</td>\n",
       "      <td>NaN</td>\n",
       "      <td>NaN</td>\n",
       "      <td>NaN</td>\n",
       "      <td>https://twitter.com/dog_rates/status/666044226...</td>\n",
       "      <td>6</td>\n",
       "      <td>10</td>\n",
       "      <td>a</td>\n",
       "      <td>None</td>\n",
       "      <td>None</td>\n",
       "      <td>None</td>\n",
       "      <td>None</td>\n",
       "    </tr>\n",
       "    <tr>\n",
       "      <th>2353</th>\n",
       "      <td>666033412701032449</td>\n",
       "      <td>NaN</td>\n",
       "      <td>NaN</td>\n",
       "      <td>2015-11-15 23:21:54 +0000</td>\n",
       "      <td>&lt;a href=\"http://twitter.com/download/iphone\" r...</td>\n",
       "      <td>Here is a very happy pup. Big fan of well-main...</td>\n",
       "      <td>NaN</td>\n",
       "      <td>NaN</td>\n",
       "      <td>NaN</td>\n",
       "      <td>https://twitter.com/dog_rates/status/666033412...</td>\n",
       "      <td>9</td>\n",
       "      <td>10</td>\n",
       "      <td>a</td>\n",
       "      <td>None</td>\n",
       "      <td>None</td>\n",
       "      <td>None</td>\n",
       "      <td>None</td>\n",
       "    </tr>\n",
       "    <tr>\n",
       "      <th>2354</th>\n",
       "      <td>666029285002620928</td>\n",
       "      <td>NaN</td>\n",
       "      <td>NaN</td>\n",
       "      <td>2015-11-15 23:05:30 +0000</td>\n",
       "      <td>&lt;a href=\"http://twitter.com/download/iphone\" r...</td>\n",
       "      <td>This is a western brown Mitsubishi terrier. Up...</td>\n",
       "      <td>NaN</td>\n",
       "      <td>NaN</td>\n",
       "      <td>NaN</td>\n",
       "      <td>https://twitter.com/dog_rates/status/666029285...</td>\n",
       "      <td>7</td>\n",
       "      <td>10</td>\n",
       "      <td>a</td>\n",
       "      <td>None</td>\n",
       "      <td>None</td>\n",
       "      <td>None</td>\n",
       "      <td>None</td>\n",
       "    </tr>\n",
       "    <tr>\n",
       "      <th>2355</th>\n",
       "      <td>666020888022790149</td>\n",
       "      <td>NaN</td>\n",
       "      <td>NaN</td>\n",
       "      <td>2015-11-15 22:32:08 +0000</td>\n",
       "      <td>&lt;a href=\"http://twitter.com/download/iphone\" r...</td>\n",
       "      <td>Here we have a Japanese Irish Setter. Lost eye...</td>\n",
       "      <td>NaN</td>\n",
       "      <td>NaN</td>\n",
       "      <td>NaN</td>\n",
       "      <td>https://twitter.com/dog_rates/status/666020888...</td>\n",
       "      <td>8</td>\n",
       "      <td>10</td>\n",
       "      <td>None</td>\n",
       "      <td>None</td>\n",
       "      <td>None</td>\n",
       "      <td>None</td>\n",
       "      <td>None</td>\n",
       "    </tr>\n",
       "  </tbody>\n",
       "</table>\n",
       "<p>2356 rows × 17 columns</p>\n",
       "</div>"
      ],
      "text/plain": [
       "                tweet_id  in_reply_to_status_id  in_reply_to_user_id  \\\n",
       "0     892420643555336193                    NaN                  NaN   \n",
       "1     892177421306343426                    NaN                  NaN   \n",
       "2     891815181378084864                    NaN                  NaN   \n",
       "3     891689557279858688                    NaN                  NaN   \n",
       "4     891327558926688256                    NaN                  NaN   \n",
       "...                  ...                    ...                  ...   \n",
       "2351  666049248165822465                    NaN                  NaN   \n",
       "2352  666044226329800704                    NaN                  NaN   \n",
       "2353  666033412701032449                    NaN                  NaN   \n",
       "2354  666029285002620928                    NaN                  NaN   \n",
       "2355  666020888022790149                    NaN                  NaN   \n",
       "\n",
       "                      timestamp  \\\n",
       "0     2017-08-01 16:23:56 +0000   \n",
       "1     2017-08-01 00:17:27 +0000   \n",
       "2     2017-07-31 00:18:03 +0000   \n",
       "3     2017-07-30 15:58:51 +0000   \n",
       "4     2017-07-29 16:00:24 +0000   \n",
       "...                         ...   \n",
       "2351  2015-11-16 00:24:50 +0000   \n",
       "2352  2015-11-16 00:04:52 +0000   \n",
       "2353  2015-11-15 23:21:54 +0000   \n",
       "2354  2015-11-15 23:05:30 +0000   \n",
       "2355  2015-11-15 22:32:08 +0000   \n",
       "\n",
       "                                                 source  \\\n",
       "0     <a href=\"http://twitter.com/download/iphone\" r...   \n",
       "1     <a href=\"http://twitter.com/download/iphone\" r...   \n",
       "2     <a href=\"http://twitter.com/download/iphone\" r...   \n",
       "3     <a href=\"http://twitter.com/download/iphone\" r...   \n",
       "4     <a href=\"http://twitter.com/download/iphone\" r...   \n",
       "...                                                 ...   \n",
       "2351  <a href=\"http://twitter.com/download/iphone\" r...   \n",
       "2352  <a href=\"http://twitter.com/download/iphone\" r...   \n",
       "2353  <a href=\"http://twitter.com/download/iphone\" r...   \n",
       "2354  <a href=\"http://twitter.com/download/iphone\" r...   \n",
       "2355  <a href=\"http://twitter.com/download/iphone\" r...   \n",
       "\n",
       "                                                   text  retweeted_status_id  \\\n",
       "0     This is Phineas. He's a mystical boy. Only eve...                  NaN   \n",
       "1     This is Tilly. She's just checking pup on you....                  NaN   \n",
       "2     This is Archie. He is a rare Norwegian Pouncin...                  NaN   \n",
       "3     This is Darla. She commenced a snooze mid meal...                  NaN   \n",
       "4     This is Franklin. He would like you to stop ca...                  NaN   \n",
       "...                                                 ...                  ...   \n",
       "2351  Here we have a 1949 1st generation vulpix. Enj...                  NaN   \n",
       "2352  This is a purebred Piers Morgan. Loves to Netf...                  NaN   \n",
       "2353  Here is a very happy pup. Big fan of well-main...                  NaN   \n",
       "2354  This is a western brown Mitsubishi terrier. Up...                  NaN   \n",
       "2355  Here we have a Japanese Irish Setter. Lost eye...                  NaN   \n",
       "\n",
       "      retweeted_status_user_id retweeted_status_timestamp  \\\n",
       "0                          NaN                        NaN   \n",
       "1                          NaN                        NaN   \n",
       "2                          NaN                        NaN   \n",
       "3                          NaN                        NaN   \n",
       "4                          NaN                        NaN   \n",
       "...                        ...                        ...   \n",
       "2351                       NaN                        NaN   \n",
       "2352                       NaN                        NaN   \n",
       "2353                       NaN                        NaN   \n",
       "2354                       NaN                        NaN   \n",
       "2355                       NaN                        NaN   \n",
       "\n",
       "                                          expanded_urls  rating_numerator  \\\n",
       "0     https://twitter.com/dog_rates/status/892420643...                13   \n",
       "1     https://twitter.com/dog_rates/status/892177421...                13   \n",
       "2     https://twitter.com/dog_rates/status/891815181...                12   \n",
       "3     https://twitter.com/dog_rates/status/891689557...                13   \n",
       "4     https://twitter.com/dog_rates/status/891327558...                12   \n",
       "...                                                 ...               ...   \n",
       "2351  https://twitter.com/dog_rates/status/666049248...                 5   \n",
       "2352  https://twitter.com/dog_rates/status/666044226...                 6   \n",
       "2353  https://twitter.com/dog_rates/status/666033412...                 9   \n",
       "2354  https://twitter.com/dog_rates/status/666029285...                 7   \n",
       "2355  https://twitter.com/dog_rates/status/666020888...                 8   \n",
       "\n",
       "      rating_denominator      name doggo floofer pupper puppo  \n",
       "0                     10   Phineas  None    None   None  None  \n",
       "1                     10     Tilly  None    None   None  None  \n",
       "2                     10    Archie  None    None   None  None  \n",
       "3                     10     Darla  None    None   None  None  \n",
       "4                     10  Franklin  None    None   None  None  \n",
       "...                  ...       ...   ...     ...    ...   ...  \n",
       "2351                  10      None  None    None   None  None  \n",
       "2352                  10         a  None    None   None  None  \n",
       "2353                  10         a  None    None   None  None  \n",
       "2354                  10         a  None    None   None  None  \n",
       "2355                  10      None  None    None   None  None  \n",
       "\n",
       "[2356 rows x 17 columns]"
      ]
     },
     "execution_count": 6,
     "metadata": {},
     "output_type": "execute_result"
    }
   ],
   "source": [
    "#Twitter Archive\n",
    "tweet_archive"
   ]
  },
  {
   "cell_type": "code",
   "execution_count": 7,
   "metadata": {
    "execution": {
     "iopub.execute_input": "2022-11-07T09:41:33.815736Z",
     "iopub.status.busy": "2022-11-07T09:41:33.815369Z",
     "iopub.status.idle": "2022-11-07T09:41:33.846744Z",
     "shell.execute_reply": "2022-11-07T09:41:33.845088Z",
     "shell.execute_reply.started": "2022-11-07T09:41:33.815703Z"
    }
   },
   "outputs": [
    {
     "data": {
      "text/html": [
       "<div>\n",
       "<style scoped>\n",
       "    .dataframe tbody tr th:only-of-type {\n",
       "        vertical-align: middle;\n",
       "    }\n",
       "\n",
       "    .dataframe tbody tr th {\n",
       "        vertical-align: top;\n",
       "    }\n",
       "\n",
       "    .dataframe thead th {\n",
       "        text-align: right;\n",
       "    }\n",
       "</style>\n",
       "<table border=\"1\" class=\"dataframe\">\n",
       "  <thead>\n",
       "    <tr style=\"text-align: right;\">\n",
       "      <th></th>\n",
       "      <th>tweet_id</th>\n",
       "      <th>jpg_url</th>\n",
       "      <th>img_num</th>\n",
       "      <th>p1</th>\n",
       "      <th>p1_conf</th>\n",
       "      <th>p1_dog</th>\n",
       "      <th>p2</th>\n",
       "      <th>p2_conf</th>\n",
       "      <th>p2_dog</th>\n",
       "      <th>p3</th>\n",
       "      <th>p3_conf</th>\n",
       "      <th>p3_dog</th>\n",
       "    </tr>\n",
       "  </thead>\n",
       "  <tbody>\n",
       "    <tr>\n",
       "      <th>0</th>\n",
       "      <td>666020888022790149</td>\n",
       "      <td>https://pbs.twimg.com/media/CT4udn0WwAA0aMy.jpg</td>\n",
       "      <td>1</td>\n",
       "      <td>Welsh_springer_spaniel</td>\n",
       "      <td>0.465074</td>\n",
       "      <td>True</td>\n",
       "      <td>collie</td>\n",
       "      <td>0.156665</td>\n",
       "      <td>True</td>\n",
       "      <td>Shetland_sheepdog</td>\n",
       "      <td>0.061428</td>\n",
       "      <td>True</td>\n",
       "    </tr>\n",
       "    <tr>\n",
       "      <th>1</th>\n",
       "      <td>666029285002620928</td>\n",
       "      <td>https://pbs.twimg.com/media/CT42GRgUYAA5iDo.jpg</td>\n",
       "      <td>1</td>\n",
       "      <td>redbone</td>\n",
       "      <td>0.506826</td>\n",
       "      <td>True</td>\n",
       "      <td>miniature_pinscher</td>\n",
       "      <td>0.074192</td>\n",
       "      <td>True</td>\n",
       "      <td>Rhodesian_ridgeback</td>\n",
       "      <td>0.072010</td>\n",
       "      <td>True</td>\n",
       "    </tr>\n",
       "    <tr>\n",
       "      <th>2</th>\n",
       "      <td>666033412701032449</td>\n",
       "      <td>https://pbs.twimg.com/media/CT4521TWwAEvMyu.jpg</td>\n",
       "      <td>1</td>\n",
       "      <td>German_shepherd</td>\n",
       "      <td>0.596461</td>\n",
       "      <td>True</td>\n",
       "      <td>malinois</td>\n",
       "      <td>0.138584</td>\n",
       "      <td>True</td>\n",
       "      <td>bloodhound</td>\n",
       "      <td>0.116197</td>\n",
       "      <td>True</td>\n",
       "    </tr>\n",
       "    <tr>\n",
       "      <th>3</th>\n",
       "      <td>666044226329800704</td>\n",
       "      <td>https://pbs.twimg.com/media/CT5Dr8HUEAA-lEu.jpg</td>\n",
       "      <td>1</td>\n",
       "      <td>Rhodesian_ridgeback</td>\n",
       "      <td>0.408143</td>\n",
       "      <td>True</td>\n",
       "      <td>redbone</td>\n",
       "      <td>0.360687</td>\n",
       "      <td>True</td>\n",
       "      <td>miniature_pinscher</td>\n",
       "      <td>0.222752</td>\n",
       "      <td>True</td>\n",
       "    </tr>\n",
       "    <tr>\n",
       "      <th>4</th>\n",
       "      <td>666049248165822465</td>\n",
       "      <td>https://pbs.twimg.com/media/CT5IQmsXIAAKY4A.jpg</td>\n",
       "      <td>1</td>\n",
       "      <td>miniature_pinscher</td>\n",
       "      <td>0.560311</td>\n",
       "      <td>True</td>\n",
       "      <td>Rottweiler</td>\n",
       "      <td>0.243682</td>\n",
       "      <td>True</td>\n",
       "      <td>Doberman</td>\n",
       "      <td>0.154629</td>\n",
       "      <td>True</td>\n",
       "    </tr>\n",
       "    <tr>\n",
       "      <th>...</th>\n",
       "      <td>...</td>\n",
       "      <td>...</td>\n",
       "      <td>...</td>\n",
       "      <td>...</td>\n",
       "      <td>...</td>\n",
       "      <td>...</td>\n",
       "      <td>...</td>\n",
       "      <td>...</td>\n",
       "      <td>...</td>\n",
       "      <td>...</td>\n",
       "      <td>...</td>\n",
       "      <td>...</td>\n",
       "    </tr>\n",
       "    <tr>\n",
       "      <th>2070</th>\n",
       "      <td>891327558926688256</td>\n",
       "      <td>https://pbs.twimg.com/media/DF6hr6BUMAAzZgT.jpg</td>\n",
       "      <td>2</td>\n",
       "      <td>basset</td>\n",
       "      <td>0.555712</td>\n",
       "      <td>True</td>\n",
       "      <td>English_springer</td>\n",
       "      <td>0.225770</td>\n",
       "      <td>True</td>\n",
       "      <td>German_short-haired_pointer</td>\n",
       "      <td>0.175219</td>\n",
       "      <td>True</td>\n",
       "    </tr>\n",
       "    <tr>\n",
       "      <th>2071</th>\n",
       "      <td>891689557279858688</td>\n",
       "      <td>https://pbs.twimg.com/media/DF_q7IAWsAEuuN8.jpg</td>\n",
       "      <td>1</td>\n",
       "      <td>paper_towel</td>\n",
       "      <td>0.170278</td>\n",
       "      <td>False</td>\n",
       "      <td>Labrador_retriever</td>\n",
       "      <td>0.168086</td>\n",
       "      <td>True</td>\n",
       "      <td>spatula</td>\n",
       "      <td>0.040836</td>\n",
       "      <td>False</td>\n",
       "    </tr>\n",
       "    <tr>\n",
       "      <th>2072</th>\n",
       "      <td>891815181378084864</td>\n",
       "      <td>https://pbs.twimg.com/media/DGBdLU1WsAANxJ9.jpg</td>\n",
       "      <td>1</td>\n",
       "      <td>Chihuahua</td>\n",
       "      <td>0.716012</td>\n",
       "      <td>True</td>\n",
       "      <td>malamute</td>\n",
       "      <td>0.078253</td>\n",
       "      <td>True</td>\n",
       "      <td>kelpie</td>\n",
       "      <td>0.031379</td>\n",
       "      <td>True</td>\n",
       "    </tr>\n",
       "    <tr>\n",
       "      <th>2073</th>\n",
       "      <td>892177421306343426</td>\n",
       "      <td>https://pbs.twimg.com/media/DGGmoV4XsAAUL6n.jpg</td>\n",
       "      <td>1</td>\n",
       "      <td>Chihuahua</td>\n",
       "      <td>0.323581</td>\n",
       "      <td>True</td>\n",
       "      <td>Pekinese</td>\n",
       "      <td>0.090647</td>\n",
       "      <td>True</td>\n",
       "      <td>papillon</td>\n",
       "      <td>0.068957</td>\n",
       "      <td>True</td>\n",
       "    </tr>\n",
       "    <tr>\n",
       "      <th>2074</th>\n",
       "      <td>892420643555336193</td>\n",
       "      <td>https://pbs.twimg.com/media/DGKD1-bXoAAIAUK.jpg</td>\n",
       "      <td>1</td>\n",
       "      <td>orange</td>\n",
       "      <td>0.097049</td>\n",
       "      <td>False</td>\n",
       "      <td>bagel</td>\n",
       "      <td>0.085851</td>\n",
       "      <td>False</td>\n",
       "      <td>banana</td>\n",
       "      <td>0.076110</td>\n",
       "      <td>False</td>\n",
       "    </tr>\n",
       "  </tbody>\n",
       "</table>\n",
       "<p>2075 rows × 12 columns</p>\n",
       "</div>"
      ],
      "text/plain": [
       "                tweet_id                                          jpg_url  \\\n",
       "0     666020888022790149  https://pbs.twimg.com/media/CT4udn0WwAA0aMy.jpg   \n",
       "1     666029285002620928  https://pbs.twimg.com/media/CT42GRgUYAA5iDo.jpg   \n",
       "2     666033412701032449  https://pbs.twimg.com/media/CT4521TWwAEvMyu.jpg   \n",
       "3     666044226329800704  https://pbs.twimg.com/media/CT5Dr8HUEAA-lEu.jpg   \n",
       "4     666049248165822465  https://pbs.twimg.com/media/CT5IQmsXIAAKY4A.jpg   \n",
       "...                  ...                                              ...   \n",
       "2070  891327558926688256  https://pbs.twimg.com/media/DF6hr6BUMAAzZgT.jpg   \n",
       "2071  891689557279858688  https://pbs.twimg.com/media/DF_q7IAWsAEuuN8.jpg   \n",
       "2072  891815181378084864  https://pbs.twimg.com/media/DGBdLU1WsAANxJ9.jpg   \n",
       "2073  892177421306343426  https://pbs.twimg.com/media/DGGmoV4XsAAUL6n.jpg   \n",
       "2074  892420643555336193  https://pbs.twimg.com/media/DGKD1-bXoAAIAUK.jpg   \n",
       "\n",
       "      img_num                      p1   p1_conf  p1_dog                  p2  \\\n",
       "0           1  Welsh_springer_spaniel  0.465074    True              collie   \n",
       "1           1                 redbone  0.506826    True  miniature_pinscher   \n",
       "2           1         German_shepherd  0.596461    True            malinois   \n",
       "3           1     Rhodesian_ridgeback  0.408143    True             redbone   \n",
       "4           1      miniature_pinscher  0.560311    True          Rottweiler   \n",
       "...       ...                     ...       ...     ...                 ...   \n",
       "2070        2                  basset  0.555712    True    English_springer   \n",
       "2071        1             paper_towel  0.170278   False  Labrador_retriever   \n",
       "2072        1               Chihuahua  0.716012    True            malamute   \n",
       "2073        1               Chihuahua  0.323581    True            Pekinese   \n",
       "2074        1                  orange  0.097049   False               bagel   \n",
       "\n",
       "       p2_conf  p2_dog                           p3   p3_conf  p3_dog  \n",
       "0     0.156665    True            Shetland_sheepdog  0.061428    True  \n",
       "1     0.074192    True          Rhodesian_ridgeback  0.072010    True  \n",
       "2     0.138584    True                   bloodhound  0.116197    True  \n",
       "3     0.360687    True           miniature_pinscher  0.222752    True  \n",
       "4     0.243682    True                     Doberman  0.154629    True  \n",
       "...        ...     ...                          ...       ...     ...  \n",
       "2070  0.225770    True  German_short-haired_pointer  0.175219    True  \n",
       "2071  0.168086    True                      spatula  0.040836   False  \n",
       "2072  0.078253    True                       kelpie  0.031379    True  \n",
       "2073  0.090647    True                     papillon  0.068957    True  \n",
       "2074  0.085851   False                       banana  0.076110   False  \n",
       "\n",
       "[2075 rows x 12 columns]"
      ]
     },
     "execution_count": 7,
     "metadata": {},
     "output_type": "execute_result"
    }
   ],
   "source": [
    "#Image Predictions\n",
    "predictions"
   ]
  },
  {
   "cell_type": "code",
   "execution_count": 8,
   "metadata": {
    "execution": {
     "iopub.execute_input": "2022-11-07T09:41:38.662510Z",
     "iopub.status.busy": "2022-11-07T09:41:38.661887Z",
     "iopub.status.idle": "2022-11-07T09:41:38.675767Z",
     "shell.execute_reply": "2022-11-07T09:41:38.674534Z",
     "shell.execute_reply.started": "2022-11-07T09:41:38.662472Z"
    }
   },
   "outputs": [
    {
     "data": {
      "text/html": [
       "<div>\n",
       "<style scoped>\n",
       "    .dataframe tbody tr th:only-of-type {\n",
       "        vertical-align: middle;\n",
       "    }\n",
       "\n",
       "    .dataframe tbody tr th {\n",
       "        vertical-align: top;\n",
       "    }\n",
       "\n",
       "    .dataframe thead th {\n",
       "        text-align: right;\n",
       "    }\n",
       "</style>\n",
       "<table border=\"1\" class=\"dataframe\">\n",
       "  <thead>\n",
       "    <tr style=\"text-align: right;\">\n",
       "      <th></th>\n",
       "      <th>tweet_id</th>\n",
       "      <th>retweet_count</th>\n",
       "      <th>favorite_count</th>\n",
       "    </tr>\n",
       "  </thead>\n",
       "  <tbody>\n",
       "    <tr>\n",
       "      <th>0</th>\n",
       "      <td>892420643555336193</td>\n",
       "      <td>8853</td>\n",
       "      <td>39467</td>\n",
       "    </tr>\n",
       "    <tr>\n",
       "      <th>1</th>\n",
       "      <td>892177421306343426</td>\n",
       "      <td>6514</td>\n",
       "      <td>33819</td>\n",
       "    </tr>\n",
       "    <tr>\n",
       "      <th>2</th>\n",
       "      <td>891815181378084864</td>\n",
       "      <td>4328</td>\n",
       "      <td>25461</td>\n",
       "    </tr>\n",
       "    <tr>\n",
       "      <th>3</th>\n",
       "      <td>891689557279858688</td>\n",
       "      <td>8964</td>\n",
       "      <td>42908</td>\n",
       "    </tr>\n",
       "    <tr>\n",
       "      <th>4</th>\n",
       "      <td>891327558926688256</td>\n",
       "      <td>9774</td>\n",
       "      <td>41048</td>\n",
       "    </tr>\n",
       "    <tr>\n",
       "      <th>...</th>\n",
       "      <td>...</td>\n",
       "      <td>...</td>\n",
       "      <td>...</td>\n",
       "    </tr>\n",
       "    <tr>\n",
       "      <th>2349</th>\n",
       "      <td>666049248165822465</td>\n",
       "      <td>41</td>\n",
       "      <td>111</td>\n",
       "    </tr>\n",
       "    <tr>\n",
       "      <th>2350</th>\n",
       "      <td>666044226329800704</td>\n",
       "      <td>147</td>\n",
       "      <td>311</td>\n",
       "    </tr>\n",
       "    <tr>\n",
       "      <th>2351</th>\n",
       "      <td>666033412701032449</td>\n",
       "      <td>47</td>\n",
       "      <td>128</td>\n",
       "    </tr>\n",
       "    <tr>\n",
       "      <th>2352</th>\n",
       "      <td>666029285002620928</td>\n",
       "      <td>48</td>\n",
       "      <td>132</td>\n",
       "    </tr>\n",
       "    <tr>\n",
       "      <th>2353</th>\n",
       "      <td>666020888022790149</td>\n",
       "      <td>532</td>\n",
       "      <td>2535</td>\n",
       "    </tr>\n",
       "  </tbody>\n",
       "</table>\n",
       "<p>2354 rows × 3 columns</p>\n",
       "</div>"
      ],
      "text/plain": [
       "                tweet_id  retweet_count  favorite_count\n",
       "0     892420643555336193           8853           39467\n",
       "1     892177421306343426           6514           33819\n",
       "2     891815181378084864           4328           25461\n",
       "3     891689557279858688           8964           42908\n",
       "4     891327558926688256           9774           41048\n",
       "...                  ...            ...             ...\n",
       "2349  666049248165822465             41             111\n",
       "2350  666044226329800704            147             311\n",
       "2351  666033412701032449             47             128\n",
       "2352  666029285002620928             48             132\n",
       "2353  666020888022790149            532            2535\n",
       "\n",
       "[2354 rows x 3 columns]"
      ]
     },
     "execution_count": 8,
     "metadata": {},
     "output_type": "execute_result"
    }
   ],
   "source": [
    "#Tweets data generated via tweepy\n",
    "tweet_data"
   ]
  },
  {
   "cell_type": "markdown",
   "metadata": {},
   "source": [
    "Programmatic Assessment"
   ]
  },
  {
   "cell_type": "code",
   "execution_count": 9,
   "metadata": {
    "execution": {
     "iopub.execute_input": "2022-11-07T09:41:38.678456Z",
     "iopub.status.busy": "2022-11-07T09:41:38.678071Z",
     "iopub.status.idle": "2022-11-07T09:41:38.697804Z",
     "shell.execute_reply": "2022-11-07T09:41:38.696203Z",
     "shell.execute_reply.started": "2022-11-07T09:41:38.678422Z"
    }
   },
   "outputs": [
    {
     "name": "stdout",
     "output_type": "stream",
     "text": [
      "<class 'pandas.core.frame.DataFrame'>\n",
      "RangeIndex: 2356 entries, 0 to 2355\n",
      "Data columns (total 17 columns):\n",
      " #   Column                      Non-Null Count  Dtype  \n",
      "---  ------                      --------------  -----  \n",
      " 0   tweet_id                    2356 non-null   int64  \n",
      " 1   in_reply_to_status_id       78 non-null     float64\n",
      " 2   in_reply_to_user_id         78 non-null     float64\n",
      " 3   timestamp                   2356 non-null   object \n",
      " 4   source                      2356 non-null   object \n",
      " 5   text                        2356 non-null   object \n",
      " 6   retweeted_status_id         181 non-null    float64\n",
      " 7   retweeted_status_user_id    181 non-null    float64\n",
      " 8   retweeted_status_timestamp  181 non-null    object \n",
      " 9   expanded_urls               2297 non-null   object \n",
      " 10  rating_numerator            2356 non-null   int64  \n",
      " 11  rating_denominator          2356 non-null   int64  \n",
      " 12  name                        2356 non-null   object \n",
      " 13  doggo                       2356 non-null   object \n",
      " 14  floofer                     2356 non-null   object \n",
      " 15  pupper                      2356 non-null   object \n",
      " 16  puppo                       2356 non-null   object \n",
      "dtypes: float64(4), int64(3), object(10)\n",
      "memory usage: 313.0+ KB\n"
     ]
    }
   ],
   "source": [
    "tweet_archive.info()"
   ]
  },
  {
   "cell_type": "code",
   "execution_count": 10,
   "metadata": {
    "execution": {
     "iopub.execute_input": "2022-11-07T09:41:38.701190Z",
     "iopub.status.busy": "2022-11-07T09:41:38.700647Z",
     "iopub.status.idle": "2022-11-07T09:41:38.715471Z",
     "shell.execute_reply": "2022-11-07T09:41:38.714170Z",
     "shell.execute_reply.started": "2022-11-07T09:41:38.701142Z"
    }
   },
   "outputs": [
    {
     "data": {
      "text/plain": [
       "None          745\n",
       "a              55\n",
       "Charlie        12\n",
       "Cooper         11\n",
       "Lucy           11\n",
       "             ... \n",
       "Dex             1\n",
       "Ace             1\n",
       "Tayzie          1\n",
       "Grizzie         1\n",
       "Christoper      1\n",
       "Name: name, Length: 957, dtype: int64"
      ]
     },
     "execution_count": 10,
     "metadata": {},
     "output_type": "execute_result"
    }
   ],
   "source": [
    "tweet_archive.name.value_counts()"
   ]
  },
  {
   "cell_type": "code",
   "execution_count": 11,
   "metadata": {
    "execution": {
     "iopub.execute_input": "2022-11-07T09:41:38.718174Z",
     "iopub.status.busy": "2022-11-07T09:41:38.717682Z",
     "iopub.status.idle": "2022-11-07T09:41:38.729039Z",
     "shell.execute_reply": "2022-11-07T09:41:38.727764Z",
     "shell.execute_reply.started": "2022-11-07T09:41:38.718129Z"
    }
   },
   "outputs": [
    {
     "data": {
      "text/plain": [
       "False    2219\n",
       "True      137\n",
       "Name: expanded_urls, dtype: int64"
      ]
     },
     "execution_count": 11,
     "metadata": {},
     "output_type": "execute_result"
    }
   ],
   "source": [
    "tweet_archive.expanded_urls.duplicated().value_counts()"
   ]
  },
  {
   "cell_type": "code",
   "execution_count": 12,
   "metadata": {
    "execution": {
     "iopub.execute_input": "2022-11-07T09:41:38.733099Z",
     "iopub.status.busy": "2022-11-07T09:41:38.732674Z",
     "iopub.status.idle": "2022-11-07T09:41:38.745328Z",
     "shell.execute_reply": "2022-11-07T09:41:38.744189Z",
     "shell.execute_reply.started": "2022-11-07T09:41:38.733066Z"
    }
   },
   "outputs": [
    {
     "data": {
      "text/plain": [
       "https://twitter.com/dog_rates/status/667152164079423490/photo/1                                                                                                                                                                                                    2\n",
       "https://twitter.com/dog_rates/status/718631497683582976/photo/1                                                                                                                                                                                                    2\n",
       "https://twitter.com/dog_rates/status/783839966405230592/photo/1,https://twitter.com/dog_rates/status/783839966405230592/photo/1,https://twitter.com/dog_rates/status/783839966405230592/photo/1                                                                    2\n",
       "https://twitter.com/dog_rates/status/774314403806253056/photo/1,https://twitter.com/dog_rates/status/774314403806253056/photo/1,https://twitter.com/dog_rates/status/774314403806253056/photo/1,https://twitter.com/dog_rates/status/774314403806253056/photo/1    2\n",
       "https://twitter.com/dog_rates/status/781524693396357120/photo/1                                                                                                                                                                                                    2\n",
       "                                                                                                                                                                                                                                                                  ..\n",
       "https://twitter.com/dog_rates/status/763837565564780549/photo/1                                                                                                                                                                                                    1\n",
       "https://twitter.com/dog_rates/status/764259802650378240/photo/1,https://twitter.com/dog_rates/status/764259802650378240/photo/1                                                                                                                                    1\n",
       "https://twitter.com/dog_rates/status/764857477905154048/photo/1                                                                                                                                                                                                    1\n",
       "https://twitter.com/dog_rates/status/765222098633691136/photo/1                                                                                                                                                                                                    1\n",
       "https://twitter.com/dog_rates/status/666020888022790149/photo/1                                                                                                                                                                                                    1\n",
       "Name: expanded_urls, Length: 2218, dtype: int64"
      ]
     },
     "execution_count": 12,
     "metadata": {},
     "output_type": "execute_result"
    }
   ],
   "source": [
    "tweet_archive.expanded_urls.value_counts()"
   ]
  },
  {
   "cell_type": "code",
   "execution_count": 13,
   "metadata": {
    "execution": {
     "iopub.execute_input": "2022-11-07T09:41:38.749687Z",
     "iopub.status.busy": "2022-11-07T09:41:38.749327Z",
     "iopub.status.idle": "2022-11-07T09:41:38.759227Z",
     "shell.execute_reply": "2022-11-07T09:41:38.757587Z",
     "shell.execute_reply.started": "2022-11-07T09:41:38.749657Z"
    }
   },
   "outputs": [
    {
     "data": {
      "text/plain": [
       "12      558\n",
       "11      464\n",
       "10      461\n",
       "13      351\n",
       "9       158\n",
       "8       102\n",
       "7        55\n",
       "14       54\n",
       "5        37\n",
       "6        32\n",
       "3        19\n",
       "4        17\n",
       "2         9\n",
       "1         9\n",
       "75        2\n",
       "15        2\n",
       "420       2\n",
       "0         2\n",
       "80        1\n",
       "144       1\n",
       "17        1\n",
       "26        1\n",
       "20        1\n",
       "121       1\n",
       "143       1\n",
       "44        1\n",
       "60        1\n",
       "45        1\n",
       "50        1\n",
       "99        1\n",
       "204       1\n",
       "1776      1\n",
       "165       1\n",
       "666       1\n",
       "27        1\n",
       "182       1\n",
       "24        1\n",
       "960       1\n",
       "84        1\n",
       "88        1\n",
       "Name: rating_numerator, dtype: int64"
      ]
     },
     "execution_count": 13,
     "metadata": {},
     "output_type": "execute_result"
    }
   ],
   "source": [
    "tweet_archive.rating_numerator.value_counts()"
   ]
  },
  {
   "cell_type": "code",
   "execution_count": 14,
   "metadata": {
    "execution": {
     "iopub.execute_input": "2022-11-07T09:41:38.761124Z",
     "iopub.status.busy": "2022-11-07T09:41:38.760752Z",
     "iopub.status.idle": "2022-11-07T09:41:38.771730Z",
     "shell.execute_reply": "2022-11-07T09:41:38.770682Z",
     "shell.execute_reply.started": "2022-11-07T09:41:38.761079Z"
    }
   },
   "outputs": [
    {
     "data": {
      "text/plain": [
       "10     2333\n",
       "11        3\n",
       "50        3\n",
       "20        2\n",
       "80        2\n",
       "70        1\n",
       "7         1\n",
       "15        1\n",
       "150       1\n",
       "170       1\n",
       "0         1\n",
       "90        1\n",
       "40        1\n",
       "130       1\n",
       "110       1\n",
       "16        1\n",
       "120       1\n",
       "2         1\n",
       "Name: rating_denominator, dtype: int64"
      ]
     },
     "execution_count": 14,
     "metadata": {},
     "output_type": "execute_result"
    }
   ],
   "source": [
    "tweet_archive.rating_denominator.value_counts()"
   ]
  },
  {
   "cell_type": "code",
   "execution_count": 15,
   "metadata": {
    "execution": {
     "iopub.execute_input": "2022-11-07T09:41:38.773457Z",
     "iopub.status.busy": "2022-11-07T09:41:38.773068Z",
     "iopub.status.idle": "2022-11-07T09:41:38.790062Z",
     "shell.execute_reply": "2022-11-07T09:41:38.788841Z",
     "shell.execute_reply.started": "2022-11-07T09:41:38.773426Z"
    }
   },
   "outputs": [
    {
     "name": "stdout",
     "output_type": "stream",
     "text": [
      "<class 'pandas.core.frame.DataFrame'>\n",
      "RangeIndex: 2075 entries, 0 to 2074\n",
      "Data columns (total 12 columns):\n",
      " #   Column    Non-Null Count  Dtype  \n",
      "---  ------    --------------  -----  \n",
      " 0   tweet_id  2075 non-null   int64  \n",
      " 1   jpg_url   2075 non-null   object \n",
      " 2   img_num   2075 non-null   int64  \n",
      " 3   p1        2075 non-null   object \n",
      " 4   p1_conf   2075 non-null   float64\n",
      " 5   p1_dog    2075 non-null   bool   \n",
      " 6   p2        2075 non-null   object \n",
      " 7   p2_conf   2075 non-null   float64\n",
      " 8   p2_dog    2075 non-null   bool   \n",
      " 9   p3        2075 non-null   object \n",
      " 10  p3_conf   2075 non-null   float64\n",
      " 11  p3_dog    2075 non-null   bool   \n",
      "dtypes: bool(3), float64(3), int64(2), object(4)\n",
      "memory usage: 152.1+ KB\n"
     ]
    }
   ],
   "source": [
    "predictions.info()"
   ]
  },
  {
   "cell_type": "code",
   "execution_count": 16,
   "metadata": {
    "execution": {
     "iopub.execute_input": "2022-11-07T09:41:38.791760Z",
     "iopub.status.busy": "2022-11-07T09:41:38.791418Z",
     "iopub.status.idle": "2022-11-07T09:41:38.809441Z",
     "shell.execute_reply": "2022-11-07T09:41:38.808011Z",
     "shell.execute_reply.started": "2022-11-07T09:41:38.791728Z"
    }
   },
   "outputs": [
    {
     "name": "stdout",
     "output_type": "stream",
     "text": [
      "<class 'pandas.core.frame.DataFrame'>\n",
      "RangeIndex: 2354 entries, 0 to 2353\n",
      "Data columns (total 3 columns):\n",
      " #   Column          Non-Null Count  Dtype\n",
      "---  ------          --------------  -----\n",
      " 0   tweet_id        2354 non-null   int64\n",
      " 1   retweet_count   2354 non-null   int64\n",
      " 2   favorite_count  2354 non-null   int64\n",
      "dtypes: int64(3)\n",
      "memory usage: 55.3 KB\n"
     ]
    }
   ],
   "source": [
    "tweet_data.info()"
   ]
  },
  {
   "cell_type": "markdown",
   "metadata": {},
   "source": [
    "## Observations\n",
    "### Quality issues\n",
    "\n",
    "1. The Timestamp column should be of the datetime format\n",
    "2. Irrelevant Categories that needs to be dropped('in_reply_to_status_id', 'in_reply_to_user_id', 'retweeted_status_id', 'retweeted_stamps_user_id', 'retweeted_status_timestamps')\n",
    "3. Incorrect Data in the name columns(no way a dog is named 'a')\n",
    "4. Source data column needs to be cleaned to extract just the url\n",
    "5. Repeated Values in the 'expanded_url' column\n",
    "6. Some Values in the 'denominator' column not equal to 10\n",
    "7. Some Values in the 'numerator' column equal to 0\n",
    "8. Inconsistent Naming in the 'p1','p2' and 'p3' columns in the prediction dataframe\n",
    "9. Consistent names and logical order to column data as final step in cleaning\n",
    "\n",
    "### Tidyness Issues\n",
    "\n",
    "1. there are 4 columns for doggo, floffer, pupper, and puppo in the \"twitter_archive_df\" but this is same categorical data that would be better in only 1 column.\n",
    "2. there are 3 dataframes, The data we require should fit into a single dataframe.\n"
   ]
  },
  {
   "cell_type": "markdown",
   "metadata": {},
   "source": [
    "<a id='clean'></a>\n",
    "# Cleaning The Data"
   ]
  },
  {
   "cell_type": "markdown",
   "metadata": {},
   "source": [
    "As it with any cleaning process, we start with making a copy of the datasets to be cleaned."
   ]
  },
  {
   "cell_type": "code",
   "execution_count": 17,
   "metadata": {
    "execution": {
     "iopub.execute_input": "2022-11-07T09:41:38.815375Z",
     "iopub.status.busy": "2022-11-07T09:41:38.814835Z",
     "iopub.status.idle": "2022-11-07T09:41:38.822011Z",
     "shell.execute_reply": "2022-11-07T09:41:38.820683Z",
     "shell.execute_reply.started": "2022-11-07T09:41:38.815323Z"
    }
   },
   "outputs": [],
   "source": [
    "#creating copies of the original dataframes\n",
    "tweet_archive_clean = tweet_archive.copy()\n",
    "predictions_clean = predictions.copy()\n",
    "tweet_data_clean = tweet_data.copy()"
   ]
  },
  {
   "cell_type": "code",
   "execution_count": 18,
   "metadata": {
    "execution": {
     "iopub.execute_input": "2022-11-07T09:41:38.824240Z",
     "iopub.status.busy": "2022-11-07T09:41:38.823668Z",
     "iopub.status.idle": "2022-11-07T09:41:38.894679Z",
     "shell.execute_reply": "2022-11-07T09:41:38.893536Z",
     "shell.execute_reply.started": "2022-11-07T09:41:38.824195Z"
    }
   },
   "outputs": [],
   "source": [
    "#saving the created copies to csv\n",
    "tweet_archive_clean.to_csv('tweet_archive_clean.csv', index=False)\n",
    "predictions_clean.to_csv('predictions_clean.csv', index=False)\n",
    "tweet_data_clean.to_csv('tweet_data_clean.csv', index=False)"
   ]
  },
  {
   "cell_type": "markdown",
   "metadata": {},
   "source": [
    "## 1. Merge all dataframes into 1"
   ]
  },
  {
   "cell_type": "code",
   "execution_count": 19,
   "metadata": {
    "execution": {
     "iopub.execute_input": "2022-11-07T09:41:38.897278Z",
     "iopub.status.busy": "2022-11-07T09:41:38.896786Z",
     "iopub.status.idle": "2022-11-07T09:41:38.911735Z",
     "shell.execute_reply": "2022-11-07T09:41:38.910748Z",
     "shell.execute_reply.started": "2022-11-07T09:41:38.897233Z"
    }
   },
   "outputs": [],
   "source": [
    "#Merging all dataframes into one, we add them one after the other\n",
    "archive_tweet_data = pd.merge(tweet_archive_clean, tweet_data_clean, on=['tweet_id', 'tweet_id'], how='left')"
   ]
  },
  {
   "cell_type": "code",
   "execution_count": 20,
   "metadata": {
    "execution": {
     "iopub.execute_input": "2022-11-07T09:41:38.914565Z",
     "iopub.status.busy": "2022-11-07T09:41:38.913320Z",
     "iopub.status.idle": "2022-11-07T09:41:38.938414Z",
     "shell.execute_reply": "2022-11-07T09:41:38.937082Z",
     "shell.execute_reply.started": "2022-11-07T09:41:38.914526Z"
    }
   },
   "outputs": [
    {
     "data": {
      "text/html": [
       "<div>\n",
       "<style scoped>\n",
       "    .dataframe tbody tr th:only-of-type {\n",
       "        vertical-align: middle;\n",
       "    }\n",
       "\n",
       "    .dataframe tbody tr th {\n",
       "        vertical-align: top;\n",
       "    }\n",
       "\n",
       "    .dataframe thead th {\n",
       "        text-align: right;\n",
       "    }\n",
       "</style>\n",
       "<table border=\"1\" class=\"dataframe\">\n",
       "  <thead>\n",
       "    <tr style=\"text-align: right;\">\n",
       "      <th></th>\n",
       "      <th>tweet_id</th>\n",
       "      <th>in_reply_to_status_id</th>\n",
       "      <th>in_reply_to_user_id</th>\n",
       "      <th>timestamp</th>\n",
       "      <th>source</th>\n",
       "      <th>text</th>\n",
       "      <th>retweeted_status_id</th>\n",
       "      <th>retweeted_status_user_id</th>\n",
       "      <th>retweeted_status_timestamp</th>\n",
       "      <th>expanded_urls</th>\n",
       "      <th>rating_numerator</th>\n",
       "      <th>rating_denominator</th>\n",
       "      <th>name</th>\n",
       "      <th>doggo</th>\n",
       "      <th>floofer</th>\n",
       "      <th>pupper</th>\n",
       "      <th>puppo</th>\n",
       "      <th>retweet_count</th>\n",
       "      <th>favorite_count</th>\n",
       "    </tr>\n",
       "  </thead>\n",
       "  <tbody>\n",
       "    <tr>\n",
       "      <th>0</th>\n",
       "      <td>892420643555336193</td>\n",
       "      <td>NaN</td>\n",
       "      <td>NaN</td>\n",
       "      <td>2017-08-01 16:23:56 +0000</td>\n",
       "      <td>&lt;a href=\"http://twitter.com/download/iphone\" r...</td>\n",
       "      <td>This is Phineas. He's a mystical boy. Only eve...</td>\n",
       "      <td>NaN</td>\n",
       "      <td>NaN</td>\n",
       "      <td>NaN</td>\n",
       "      <td>https://twitter.com/dog_rates/status/892420643...</td>\n",
       "      <td>13</td>\n",
       "      <td>10</td>\n",
       "      <td>Phineas</td>\n",
       "      <td>None</td>\n",
       "      <td>None</td>\n",
       "      <td>None</td>\n",
       "      <td>None</td>\n",
       "      <td>8853.0</td>\n",
       "      <td>39467.0</td>\n",
       "    </tr>\n",
       "    <tr>\n",
       "      <th>1</th>\n",
       "      <td>892177421306343426</td>\n",
       "      <td>NaN</td>\n",
       "      <td>NaN</td>\n",
       "      <td>2017-08-01 00:17:27 +0000</td>\n",
       "      <td>&lt;a href=\"http://twitter.com/download/iphone\" r...</td>\n",
       "      <td>This is Tilly. She's just checking pup on you....</td>\n",
       "      <td>NaN</td>\n",
       "      <td>NaN</td>\n",
       "      <td>NaN</td>\n",
       "      <td>https://twitter.com/dog_rates/status/892177421...</td>\n",
       "      <td>13</td>\n",
       "      <td>10</td>\n",
       "      <td>Tilly</td>\n",
       "      <td>None</td>\n",
       "      <td>None</td>\n",
       "      <td>None</td>\n",
       "      <td>None</td>\n",
       "      <td>6514.0</td>\n",
       "      <td>33819.0</td>\n",
       "    </tr>\n",
       "    <tr>\n",
       "      <th>2</th>\n",
       "      <td>891815181378084864</td>\n",
       "      <td>NaN</td>\n",
       "      <td>NaN</td>\n",
       "      <td>2017-07-31 00:18:03 +0000</td>\n",
       "      <td>&lt;a href=\"http://twitter.com/download/iphone\" r...</td>\n",
       "      <td>This is Archie. He is a rare Norwegian Pouncin...</td>\n",
       "      <td>NaN</td>\n",
       "      <td>NaN</td>\n",
       "      <td>NaN</td>\n",
       "      <td>https://twitter.com/dog_rates/status/891815181...</td>\n",
       "      <td>12</td>\n",
       "      <td>10</td>\n",
       "      <td>Archie</td>\n",
       "      <td>None</td>\n",
       "      <td>None</td>\n",
       "      <td>None</td>\n",
       "      <td>None</td>\n",
       "      <td>4328.0</td>\n",
       "      <td>25461.0</td>\n",
       "    </tr>\n",
       "    <tr>\n",
       "      <th>3</th>\n",
       "      <td>891689557279858688</td>\n",
       "      <td>NaN</td>\n",
       "      <td>NaN</td>\n",
       "      <td>2017-07-30 15:58:51 +0000</td>\n",
       "      <td>&lt;a href=\"http://twitter.com/download/iphone\" r...</td>\n",
       "      <td>This is Darla. She commenced a snooze mid meal...</td>\n",
       "      <td>NaN</td>\n",
       "      <td>NaN</td>\n",
       "      <td>NaN</td>\n",
       "      <td>https://twitter.com/dog_rates/status/891689557...</td>\n",
       "      <td>13</td>\n",
       "      <td>10</td>\n",
       "      <td>Darla</td>\n",
       "      <td>None</td>\n",
       "      <td>None</td>\n",
       "      <td>None</td>\n",
       "      <td>None</td>\n",
       "      <td>8964.0</td>\n",
       "      <td>42908.0</td>\n",
       "    </tr>\n",
       "    <tr>\n",
       "      <th>4</th>\n",
       "      <td>891327558926688256</td>\n",
       "      <td>NaN</td>\n",
       "      <td>NaN</td>\n",
       "      <td>2017-07-29 16:00:24 +0000</td>\n",
       "      <td>&lt;a href=\"http://twitter.com/download/iphone\" r...</td>\n",
       "      <td>This is Franklin. He would like you to stop ca...</td>\n",
       "      <td>NaN</td>\n",
       "      <td>NaN</td>\n",
       "      <td>NaN</td>\n",
       "      <td>https://twitter.com/dog_rates/status/891327558...</td>\n",
       "      <td>12</td>\n",
       "      <td>10</td>\n",
       "      <td>Franklin</td>\n",
       "      <td>None</td>\n",
       "      <td>None</td>\n",
       "      <td>None</td>\n",
       "      <td>None</td>\n",
       "      <td>9774.0</td>\n",
       "      <td>41048.0</td>\n",
       "    </tr>\n",
       "  </tbody>\n",
       "</table>\n",
       "</div>"
      ],
      "text/plain": [
       "             tweet_id  in_reply_to_status_id  in_reply_to_user_id  \\\n",
       "0  892420643555336193                    NaN                  NaN   \n",
       "1  892177421306343426                    NaN                  NaN   \n",
       "2  891815181378084864                    NaN                  NaN   \n",
       "3  891689557279858688                    NaN                  NaN   \n",
       "4  891327558926688256                    NaN                  NaN   \n",
       "\n",
       "                   timestamp  \\\n",
       "0  2017-08-01 16:23:56 +0000   \n",
       "1  2017-08-01 00:17:27 +0000   \n",
       "2  2017-07-31 00:18:03 +0000   \n",
       "3  2017-07-30 15:58:51 +0000   \n",
       "4  2017-07-29 16:00:24 +0000   \n",
       "\n",
       "                                              source  \\\n",
       "0  <a href=\"http://twitter.com/download/iphone\" r...   \n",
       "1  <a href=\"http://twitter.com/download/iphone\" r...   \n",
       "2  <a href=\"http://twitter.com/download/iphone\" r...   \n",
       "3  <a href=\"http://twitter.com/download/iphone\" r...   \n",
       "4  <a href=\"http://twitter.com/download/iphone\" r...   \n",
       "\n",
       "                                                text  retweeted_status_id  \\\n",
       "0  This is Phineas. He's a mystical boy. Only eve...                  NaN   \n",
       "1  This is Tilly. She's just checking pup on you....                  NaN   \n",
       "2  This is Archie. He is a rare Norwegian Pouncin...                  NaN   \n",
       "3  This is Darla. She commenced a snooze mid meal...                  NaN   \n",
       "4  This is Franklin. He would like you to stop ca...                  NaN   \n",
       "\n",
       "   retweeted_status_user_id retweeted_status_timestamp  \\\n",
       "0                       NaN                        NaN   \n",
       "1                       NaN                        NaN   \n",
       "2                       NaN                        NaN   \n",
       "3                       NaN                        NaN   \n",
       "4                       NaN                        NaN   \n",
       "\n",
       "                                       expanded_urls  rating_numerator  \\\n",
       "0  https://twitter.com/dog_rates/status/892420643...                13   \n",
       "1  https://twitter.com/dog_rates/status/892177421...                13   \n",
       "2  https://twitter.com/dog_rates/status/891815181...                12   \n",
       "3  https://twitter.com/dog_rates/status/891689557...                13   \n",
       "4  https://twitter.com/dog_rates/status/891327558...                12   \n",
       "\n",
       "   rating_denominator      name doggo floofer pupper puppo  retweet_count  \\\n",
       "0                  10   Phineas  None    None   None  None         8853.0   \n",
       "1                  10     Tilly  None    None   None  None         6514.0   \n",
       "2                  10    Archie  None    None   None  None         4328.0   \n",
       "3                  10     Darla  None    None   None  None         8964.0   \n",
       "4                  10  Franklin  None    None   None  None         9774.0   \n",
       "\n",
       "   favorite_count  \n",
       "0         39467.0  \n",
       "1         33819.0  \n",
       "2         25461.0  \n",
       "3         42908.0  \n",
       "4         41048.0  "
      ]
     },
     "execution_count": 20,
     "metadata": {},
     "output_type": "execute_result"
    }
   ],
   "source": [
    "#verifying merge success\n",
    "archive_tweet_data.head()"
   ]
  },
  {
   "cell_type": "code",
   "execution_count": 21,
   "metadata": {
    "execution": {
     "iopub.execute_input": "2022-11-07T09:41:38.940993Z",
     "iopub.status.busy": "2022-11-07T09:41:38.940518Z",
     "iopub.status.idle": "2022-11-07T09:41:38.959518Z",
     "shell.execute_reply": "2022-11-07T09:41:38.958504Z",
     "shell.execute_reply.started": "2022-11-07T09:41:38.940945Z"
    }
   },
   "outputs": [
    {
     "name": "stdout",
     "output_type": "stream",
     "text": [
      "<class 'pandas.core.frame.DataFrame'>\n",
      "Int64Index: 2356 entries, 0 to 2355\n",
      "Data columns (total 19 columns):\n",
      " #   Column                      Non-Null Count  Dtype  \n",
      "---  ------                      --------------  -----  \n",
      " 0   tweet_id                    2356 non-null   int64  \n",
      " 1   in_reply_to_status_id       78 non-null     float64\n",
      " 2   in_reply_to_user_id         78 non-null     float64\n",
      " 3   timestamp                   2356 non-null   object \n",
      " 4   source                      2356 non-null   object \n",
      " 5   text                        2356 non-null   object \n",
      " 6   retweeted_status_id         181 non-null    float64\n",
      " 7   retweeted_status_user_id    181 non-null    float64\n",
      " 8   retweeted_status_timestamp  181 non-null    object \n",
      " 9   expanded_urls               2297 non-null   object \n",
      " 10  rating_numerator            2356 non-null   int64  \n",
      " 11  rating_denominator          2356 non-null   int64  \n",
      " 12  name                        2356 non-null   object \n",
      " 13  doggo                       2356 non-null   object \n",
      " 14  floofer                     2356 non-null   object \n",
      " 15  pupper                      2356 non-null   object \n",
      " 16  puppo                       2356 non-null   object \n",
      " 17  retweet_count               2354 non-null   float64\n",
      " 18  favorite_count              2354 non-null   float64\n",
      "dtypes: float64(6), int64(3), object(10)\n",
      "memory usage: 368.1+ KB\n"
     ]
    }
   ],
   "source": [
    "archive_tweet_data.info()"
   ]
  },
  {
   "cell_type": "code",
   "execution_count": 22,
   "metadata": {
    "execution": {
     "iopub.execute_input": "2022-11-07T09:41:38.961630Z",
     "iopub.status.busy": "2022-11-07T09:41:38.961290Z",
     "iopub.status.idle": "2022-11-07T09:41:38.976835Z",
     "shell.execute_reply": "2022-11-07T09:41:38.975513Z",
     "shell.execute_reply.started": "2022-11-07T09:41:38.961600Z"
    }
   },
   "outputs": [],
   "source": [
    "#Second Merge, merging the product of the first mere with the predictions dataframe\n",
    "twitter_archive_master = pd.merge(archive_tweet_data, predictions_clean, on='tweet_id', how='left')"
   ]
  },
  {
   "cell_type": "code",
   "execution_count": 23,
   "metadata": {
    "execution": {
     "iopub.execute_input": "2022-11-07T09:41:38.978807Z",
     "iopub.status.busy": "2022-11-07T09:41:38.978266Z",
     "iopub.status.idle": "2022-11-07T09:41:39.012012Z",
     "shell.execute_reply": "2022-11-07T09:41:39.010631Z",
     "shell.execute_reply.started": "2022-11-07T09:41:38.978752Z"
    }
   },
   "outputs": [
    {
     "data": {
      "text/html": [
       "<div>\n",
       "<style scoped>\n",
       "    .dataframe tbody tr th:only-of-type {\n",
       "        vertical-align: middle;\n",
       "    }\n",
       "\n",
       "    .dataframe tbody tr th {\n",
       "        vertical-align: top;\n",
       "    }\n",
       "\n",
       "    .dataframe thead th {\n",
       "        text-align: right;\n",
       "    }\n",
       "</style>\n",
       "<table border=\"1\" class=\"dataframe\">\n",
       "  <thead>\n",
       "    <tr style=\"text-align: right;\">\n",
       "      <th></th>\n",
       "      <th>tweet_id</th>\n",
       "      <th>in_reply_to_status_id</th>\n",
       "      <th>in_reply_to_user_id</th>\n",
       "      <th>timestamp</th>\n",
       "      <th>source</th>\n",
       "      <th>text</th>\n",
       "      <th>retweeted_status_id</th>\n",
       "      <th>retweeted_status_user_id</th>\n",
       "      <th>retweeted_status_timestamp</th>\n",
       "      <th>expanded_urls</th>\n",
       "      <th>...</th>\n",
       "      <th>img_num</th>\n",
       "      <th>p1</th>\n",
       "      <th>p1_conf</th>\n",
       "      <th>p1_dog</th>\n",
       "      <th>p2</th>\n",
       "      <th>p2_conf</th>\n",
       "      <th>p2_dog</th>\n",
       "      <th>p3</th>\n",
       "      <th>p3_conf</th>\n",
       "      <th>p3_dog</th>\n",
       "    </tr>\n",
       "  </thead>\n",
       "  <tbody>\n",
       "    <tr>\n",
       "      <th>0</th>\n",
       "      <td>892420643555336193</td>\n",
       "      <td>NaN</td>\n",
       "      <td>NaN</td>\n",
       "      <td>2017-08-01 16:23:56 +0000</td>\n",
       "      <td>&lt;a href=\"http://twitter.com/download/iphone\" r...</td>\n",
       "      <td>This is Phineas. He's a mystical boy. Only eve...</td>\n",
       "      <td>NaN</td>\n",
       "      <td>NaN</td>\n",
       "      <td>NaN</td>\n",
       "      <td>https://twitter.com/dog_rates/status/892420643...</td>\n",
       "      <td>...</td>\n",
       "      <td>1.0</td>\n",
       "      <td>orange</td>\n",
       "      <td>0.097049</td>\n",
       "      <td>False</td>\n",
       "      <td>bagel</td>\n",
       "      <td>0.085851</td>\n",
       "      <td>False</td>\n",
       "      <td>banana</td>\n",
       "      <td>0.076110</td>\n",
       "      <td>False</td>\n",
       "    </tr>\n",
       "    <tr>\n",
       "      <th>1</th>\n",
       "      <td>892177421306343426</td>\n",
       "      <td>NaN</td>\n",
       "      <td>NaN</td>\n",
       "      <td>2017-08-01 00:17:27 +0000</td>\n",
       "      <td>&lt;a href=\"http://twitter.com/download/iphone\" r...</td>\n",
       "      <td>This is Tilly. She's just checking pup on you....</td>\n",
       "      <td>NaN</td>\n",
       "      <td>NaN</td>\n",
       "      <td>NaN</td>\n",
       "      <td>https://twitter.com/dog_rates/status/892177421...</td>\n",
       "      <td>...</td>\n",
       "      <td>1.0</td>\n",
       "      <td>Chihuahua</td>\n",
       "      <td>0.323581</td>\n",
       "      <td>True</td>\n",
       "      <td>Pekinese</td>\n",
       "      <td>0.090647</td>\n",
       "      <td>True</td>\n",
       "      <td>papillon</td>\n",
       "      <td>0.068957</td>\n",
       "      <td>True</td>\n",
       "    </tr>\n",
       "    <tr>\n",
       "      <th>2</th>\n",
       "      <td>891815181378084864</td>\n",
       "      <td>NaN</td>\n",
       "      <td>NaN</td>\n",
       "      <td>2017-07-31 00:18:03 +0000</td>\n",
       "      <td>&lt;a href=\"http://twitter.com/download/iphone\" r...</td>\n",
       "      <td>This is Archie. He is a rare Norwegian Pouncin...</td>\n",
       "      <td>NaN</td>\n",
       "      <td>NaN</td>\n",
       "      <td>NaN</td>\n",
       "      <td>https://twitter.com/dog_rates/status/891815181...</td>\n",
       "      <td>...</td>\n",
       "      <td>1.0</td>\n",
       "      <td>Chihuahua</td>\n",
       "      <td>0.716012</td>\n",
       "      <td>True</td>\n",
       "      <td>malamute</td>\n",
       "      <td>0.078253</td>\n",
       "      <td>True</td>\n",
       "      <td>kelpie</td>\n",
       "      <td>0.031379</td>\n",
       "      <td>True</td>\n",
       "    </tr>\n",
       "    <tr>\n",
       "      <th>3</th>\n",
       "      <td>891689557279858688</td>\n",
       "      <td>NaN</td>\n",
       "      <td>NaN</td>\n",
       "      <td>2017-07-30 15:58:51 +0000</td>\n",
       "      <td>&lt;a href=\"http://twitter.com/download/iphone\" r...</td>\n",
       "      <td>This is Darla. She commenced a snooze mid meal...</td>\n",
       "      <td>NaN</td>\n",
       "      <td>NaN</td>\n",
       "      <td>NaN</td>\n",
       "      <td>https://twitter.com/dog_rates/status/891689557...</td>\n",
       "      <td>...</td>\n",
       "      <td>1.0</td>\n",
       "      <td>paper_towel</td>\n",
       "      <td>0.170278</td>\n",
       "      <td>False</td>\n",
       "      <td>Labrador_retriever</td>\n",
       "      <td>0.168086</td>\n",
       "      <td>True</td>\n",
       "      <td>spatula</td>\n",
       "      <td>0.040836</td>\n",
       "      <td>False</td>\n",
       "    </tr>\n",
       "    <tr>\n",
       "      <th>4</th>\n",
       "      <td>891327558926688256</td>\n",
       "      <td>NaN</td>\n",
       "      <td>NaN</td>\n",
       "      <td>2017-07-29 16:00:24 +0000</td>\n",
       "      <td>&lt;a href=\"http://twitter.com/download/iphone\" r...</td>\n",
       "      <td>This is Franklin. He would like you to stop ca...</td>\n",
       "      <td>NaN</td>\n",
       "      <td>NaN</td>\n",
       "      <td>NaN</td>\n",
       "      <td>https://twitter.com/dog_rates/status/891327558...</td>\n",
       "      <td>...</td>\n",
       "      <td>2.0</td>\n",
       "      <td>basset</td>\n",
       "      <td>0.555712</td>\n",
       "      <td>True</td>\n",
       "      <td>English_springer</td>\n",
       "      <td>0.225770</td>\n",
       "      <td>True</td>\n",
       "      <td>German_short-haired_pointer</td>\n",
       "      <td>0.175219</td>\n",
       "      <td>True</td>\n",
       "    </tr>\n",
       "  </tbody>\n",
       "</table>\n",
       "<p>5 rows × 30 columns</p>\n",
       "</div>"
      ],
      "text/plain": [
       "             tweet_id  in_reply_to_status_id  in_reply_to_user_id  \\\n",
       "0  892420643555336193                    NaN                  NaN   \n",
       "1  892177421306343426                    NaN                  NaN   \n",
       "2  891815181378084864                    NaN                  NaN   \n",
       "3  891689557279858688                    NaN                  NaN   \n",
       "4  891327558926688256                    NaN                  NaN   \n",
       "\n",
       "                   timestamp  \\\n",
       "0  2017-08-01 16:23:56 +0000   \n",
       "1  2017-08-01 00:17:27 +0000   \n",
       "2  2017-07-31 00:18:03 +0000   \n",
       "3  2017-07-30 15:58:51 +0000   \n",
       "4  2017-07-29 16:00:24 +0000   \n",
       "\n",
       "                                              source  \\\n",
       "0  <a href=\"http://twitter.com/download/iphone\" r...   \n",
       "1  <a href=\"http://twitter.com/download/iphone\" r...   \n",
       "2  <a href=\"http://twitter.com/download/iphone\" r...   \n",
       "3  <a href=\"http://twitter.com/download/iphone\" r...   \n",
       "4  <a href=\"http://twitter.com/download/iphone\" r...   \n",
       "\n",
       "                                                text  retweeted_status_id  \\\n",
       "0  This is Phineas. He's a mystical boy. Only eve...                  NaN   \n",
       "1  This is Tilly. She's just checking pup on you....                  NaN   \n",
       "2  This is Archie. He is a rare Norwegian Pouncin...                  NaN   \n",
       "3  This is Darla. She commenced a snooze mid meal...                  NaN   \n",
       "4  This is Franklin. He would like you to stop ca...                  NaN   \n",
       "\n",
       "   retweeted_status_user_id retweeted_status_timestamp  \\\n",
       "0                       NaN                        NaN   \n",
       "1                       NaN                        NaN   \n",
       "2                       NaN                        NaN   \n",
       "3                       NaN                        NaN   \n",
       "4                       NaN                        NaN   \n",
       "\n",
       "                                       expanded_urls  ...  img_num  \\\n",
       "0  https://twitter.com/dog_rates/status/892420643...  ...      1.0   \n",
       "1  https://twitter.com/dog_rates/status/892177421...  ...      1.0   \n",
       "2  https://twitter.com/dog_rates/status/891815181...  ...      1.0   \n",
       "3  https://twitter.com/dog_rates/status/891689557...  ...      1.0   \n",
       "4  https://twitter.com/dog_rates/status/891327558...  ...      2.0   \n",
       "\n",
       "            p1   p1_conf p1_dog                  p2   p2_conf p2_dog  \\\n",
       "0       orange  0.097049  False               bagel  0.085851  False   \n",
       "1    Chihuahua  0.323581   True            Pekinese  0.090647   True   \n",
       "2    Chihuahua  0.716012   True            malamute  0.078253   True   \n",
       "3  paper_towel  0.170278  False  Labrador_retriever  0.168086   True   \n",
       "4       basset  0.555712   True    English_springer  0.225770   True   \n",
       "\n",
       "                            p3   p3_conf p3_dog  \n",
       "0                       banana  0.076110  False  \n",
       "1                     papillon  0.068957   True  \n",
       "2                       kelpie  0.031379   True  \n",
       "3                      spatula  0.040836  False  \n",
       "4  German_short-haired_pointer  0.175219   True  \n",
       "\n",
       "[5 rows x 30 columns]"
      ]
     },
     "execution_count": 23,
     "metadata": {},
     "output_type": "execute_result"
    }
   ],
   "source": [
    "#Confirm Merge Success\n",
    "twitter_archive_master.head()"
   ]
  },
  {
   "cell_type": "code",
   "execution_count": 24,
   "metadata": {
    "execution": {
     "iopub.execute_input": "2022-11-07T09:41:39.013832Z",
     "iopub.status.busy": "2022-11-07T09:41:39.013471Z",
     "iopub.status.idle": "2022-11-07T09:41:39.034761Z",
     "shell.execute_reply": "2022-11-07T09:41:39.033807Z",
     "shell.execute_reply.started": "2022-11-07T09:41:39.013802Z"
    }
   },
   "outputs": [
    {
     "name": "stdout",
     "output_type": "stream",
     "text": [
      "<class 'pandas.core.frame.DataFrame'>\n",
      "Int64Index: 2356 entries, 0 to 2355\n",
      "Data columns (total 30 columns):\n",
      " #   Column                      Non-Null Count  Dtype  \n",
      "---  ------                      --------------  -----  \n",
      " 0   tweet_id                    2356 non-null   int64  \n",
      " 1   in_reply_to_status_id       78 non-null     float64\n",
      " 2   in_reply_to_user_id         78 non-null     float64\n",
      " 3   timestamp                   2356 non-null   object \n",
      " 4   source                      2356 non-null   object \n",
      " 5   text                        2356 non-null   object \n",
      " 6   retweeted_status_id         181 non-null    float64\n",
      " 7   retweeted_status_user_id    181 non-null    float64\n",
      " 8   retweeted_status_timestamp  181 non-null    object \n",
      " 9   expanded_urls               2297 non-null   object \n",
      " 10  rating_numerator            2356 non-null   int64  \n",
      " 11  rating_denominator          2356 non-null   int64  \n",
      " 12  name                        2356 non-null   object \n",
      " 13  doggo                       2356 non-null   object \n",
      " 14  floofer                     2356 non-null   object \n",
      " 15  pupper                      2356 non-null   object \n",
      " 16  puppo                       2356 non-null   object \n",
      " 17  retweet_count               2354 non-null   float64\n",
      " 18  favorite_count              2354 non-null   float64\n",
      " 19  jpg_url                     2075 non-null   object \n",
      " 20  img_num                     2075 non-null   float64\n",
      " 21  p1                          2075 non-null   object \n",
      " 22  p1_conf                     2075 non-null   float64\n",
      " 23  p1_dog                      2075 non-null   object \n",
      " 24  p2                          2075 non-null   object \n",
      " 25  p2_conf                     2075 non-null   float64\n",
      " 26  p2_dog                      2075 non-null   object \n",
      " 27  p3                          2075 non-null   object \n",
      " 28  p3_conf                     2075 non-null   float64\n",
      " 29  p3_dog                      2075 non-null   object \n",
      "dtypes: float64(10), int64(3), object(17)\n",
      "memory usage: 570.6+ KB\n"
     ]
    }
   ],
   "source": [
    "twitter_archive_master.info()"
   ]
  },
  {
   "cell_type": "code",
   "execution_count": 25,
   "metadata": {
    "execution": {
     "iopub.execute_input": "2022-11-07T09:41:39.036989Z",
     "iopub.status.busy": "2022-11-07T09:41:39.036006Z",
     "iopub.status.idle": "2022-11-07T09:41:39.089973Z",
     "shell.execute_reply": "2022-11-07T09:41:39.089029Z",
     "shell.execute_reply.started": "2022-11-07T09:41:39.036951Z"
    }
   },
   "outputs": [],
   "source": [
    "#saving merged to csv\n",
    "twitter_archive_master.to_csv('twitter_archive_merged.csv', index=False)"
   ]
  },
  {
   "cell_type": "markdown",
   "metadata": {},
   "source": [
    "## 2. Remove retweets and replies"
   ]
  },
  {
   "cell_type": "markdown",
   "metadata": {},
   "source": [
    "There are 181 retweets which are present in the 3 columns \"retweeted_status_id\", \"retweeted_status_user_id\" and \"retweeted_status_timestamp\". we will remove the rows containing the retweets and leave the rest"
   ]
  },
  {
   "cell_type": "code",
   "execution_count": 26,
   "metadata": {
    "execution": {
     "iopub.execute_input": "2022-11-07T09:41:39.092544Z",
     "iopub.status.busy": "2022-11-07T09:41:39.091451Z",
     "iopub.status.idle": "2022-11-07T09:41:39.102416Z",
     "shell.execute_reply": "2022-11-07T09:41:39.101038Z",
     "shell.execute_reply.started": "2022-11-07T09:41:39.092493Z"
    }
   },
   "outputs": [],
   "source": [
    "twitter_archive_master = twitter_archive_master[twitter_archive_master.retweeted_status_id.isnull()]"
   ]
  },
  {
   "cell_type": "code",
   "execution_count": 27,
   "metadata": {
    "execution": {
     "iopub.execute_input": "2022-11-07T09:41:39.105294Z",
     "iopub.status.busy": "2022-11-07T09:41:39.104155Z",
     "iopub.status.idle": "2022-11-07T09:41:39.124807Z",
     "shell.execute_reply": "2022-11-07T09:41:39.123629Z",
     "shell.execute_reply.started": "2022-11-07T09:41:39.105242Z"
    }
   },
   "outputs": [
    {
     "name": "stdout",
     "output_type": "stream",
     "text": [
      "<class 'pandas.core.frame.DataFrame'>\n",
      "Int64Index: 2175 entries, 0 to 2355\n",
      "Data columns (total 30 columns):\n",
      " #   Column                      Non-Null Count  Dtype  \n",
      "---  ------                      --------------  -----  \n",
      " 0   tweet_id                    2175 non-null   int64  \n",
      " 1   in_reply_to_status_id       78 non-null     float64\n",
      " 2   in_reply_to_user_id         78 non-null     float64\n",
      " 3   timestamp                   2175 non-null   object \n",
      " 4   source                      2175 non-null   object \n",
      " 5   text                        2175 non-null   object \n",
      " 6   retweeted_status_id         0 non-null      float64\n",
      " 7   retweeted_status_user_id    0 non-null      float64\n",
      " 8   retweeted_status_timestamp  0 non-null      object \n",
      " 9   expanded_urls               2117 non-null   object \n",
      " 10  rating_numerator            2175 non-null   int64  \n",
      " 11  rating_denominator          2175 non-null   int64  \n",
      " 12  name                        2175 non-null   object \n",
      " 13  doggo                       2175 non-null   object \n",
      " 14  floofer                     2175 non-null   object \n",
      " 15  pupper                      2175 non-null   object \n",
      " 16  puppo                       2175 non-null   object \n",
      " 17  retweet_count               2175 non-null   float64\n",
      " 18  favorite_count              2175 non-null   float64\n",
      " 19  jpg_url                     1994 non-null   object \n",
      " 20  img_num                     1994 non-null   float64\n",
      " 21  p1                          1994 non-null   object \n",
      " 22  p1_conf                     1994 non-null   float64\n",
      " 23  p1_dog                      1994 non-null   object \n",
      " 24  p2                          1994 non-null   object \n",
      " 25  p2_conf                     1994 non-null   float64\n",
      " 26  p2_dog                      1994 non-null   object \n",
      " 27  p3                          1994 non-null   object \n",
      " 28  p3_conf                     1994 non-null   float64\n",
      " 29  p3_dog                      1994 non-null   object \n",
      "dtypes: float64(10), int64(3), object(17)\n",
      "memory usage: 526.8+ KB\n"
     ]
    }
   ],
   "source": [
    "#checking new contents\n",
    "twitter_archive_master.info()"
   ]
  },
  {
   "cell_type": "code",
   "execution_count": 28,
   "metadata": {
    "execution": {
     "iopub.execute_input": "2022-11-07T09:41:39.133009Z",
     "iopub.status.busy": "2022-11-07T09:41:39.132641Z",
     "iopub.status.idle": "2022-11-07T09:41:39.140936Z",
     "shell.execute_reply": "2022-11-07T09:41:39.139658Z",
     "shell.execute_reply.started": "2022-11-07T09:41:39.132977Z"
    }
   },
   "outputs": [],
   "source": [
    "#since the retweets are gone, we can now deleted related columns from the dataframe\n",
    "twitter_archive_master.drop(columns=['retweeted_status_id', 'retweeted_status_user_id', 'retweeted_status_timestamp'], inplace=True)"
   ]
  },
  {
   "cell_type": "code",
   "execution_count": 29,
   "metadata": {
    "execution": {
     "iopub.execute_input": "2022-11-07T09:41:39.143516Z",
     "iopub.status.busy": "2022-11-07T09:41:39.142644Z",
     "iopub.status.idle": "2022-11-07T09:41:39.163519Z",
     "shell.execute_reply": "2022-11-07T09:41:39.162192Z",
     "shell.execute_reply.started": "2022-11-07T09:41:39.143480Z"
    }
   },
   "outputs": [
    {
     "name": "stdout",
     "output_type": "stream",
     "text": [
      "<class 'pandas.core.frame.DataFrame'>\n",
      "Int64Index: 2175 entries, 0 to 2355\n",
      "Data columns (total 27 columns):\n",
      " #   Column                 Non-Null Count  Dtype  \n",
      "---  ------                 --------------  -----  \n",
      " 0   tweet_id               2175 non-null   int64  \n",
      " 1   in_reply_to_status_id  78 non-null     float64\n",
      " 2   in_reply_to_user_id    78 non-null     float64\n",
      " 3   timestamp              2175 non-null   object \n",
      " 4   source                 2175 non-null   object \n",
      " 5   text                   2175 non-null   object \n",
      " 6   expanded_urls          2117 non-null   object \n",
      " 7   rating_numerator       2175 non-null   int64  \n",
      " 8   rating_denominator     2175 non-null   int64  \n",
      " 9   name                   2175 non-null   object \n",
      " 10  doggo                  2175 non-null   object \n",
      " 11  floofer                2175 non-null   object \n",
      " 12  pupper                 2175 non-null   object \n",
      " 13  puppo                  2175 non-null   object \n",
      " 14  retweet_count          2175 non-null   float64\n",
      " 15  favorite_count         2175 non-null   float64\n",
      " 16  jpg_url                1994 non-null   object \n",
      " 17  img_num                1994 non-null   float64\n",
      " 18  p1                     1994 non-null   object \n",
      " 19  p1_conf                1994 non-null   float64\n",
      " 20  p1_dog                 1994 non-null   object \n",
      " 21  p2                     1994 non-null   object \n",
      " 22  p2_conf                1994 non-null   float64\n",
      " 23  p2_dog                 1994 non-null   object \n",
      " 24  p3                     1994 non-null   object \n",
      " 25  p3_conf                1994 non-null   float64\n",
      " 26  p3_dog                 1994 non-null   object \n",
      "dtypes: float64(8), int64(3), object(16)\n",
      "memory usage: 475.8+ KB\n"
     ]
    }
   ],
   "source": [
    "#verifying drop worked\n",
    "twitter_archive_master.info()"
   ]
  },
  {
   "cell_type": "markdown",
   "metadata": {},
   "source": [
    "We'll repeat the above for the replies"
   ]
  },
  {
   "cell_type": "code",
   "execution_count": 30,
   "metadata": {
    "execution": {
     "iopub.execute_input": "2022-11-07T09:41:39.165582Z",
     "iopub.status.busy": "2022-11-07T09:41:39.165240Z",
     "iopub.status.idle": "2022-11-07T09:41:39.172961Z",
     "shell.execute_reply": "2022-11-07T09:41:39.171599Z",
     "shell.execute_reply.started": "2022-11-07T09:41:39.165551Z"
    }
   },
   "outputs": [],
   "source": [
    "#dropping rows with values in the replies\n",
    "twitter_archive_master = twitter_archive_master[twitter_archive_master.in_reply_to_status_id.isnull()]"
   ]
  },
  {
   "cell_type": "code",
   "execution_count": 31,
   "metadata": {
    "execution": {
     "iopub.execute_input": "2022-11-07T09:41:39.175268Z",
     "iopub.status.busy": "2022-11-07T09:41:39.174483Z",
     "iopub.status.idle": "2022-11-07T09:41:39.195217Z",
     "shell.execute_reply": "2022-11-07T09:41:39.194235Z",
     "shell.execute_reply.started": "2022-11-07T09:41:39.175235Z"
    }
   },
   "outputs": [
    {
     "name": "stdout",
     "output_type": "stream",
     "text": [
      "<class 'pandas.core.frame.DataFrame'>\n",
      "Int64Index: 2097 entries, 0 to 2355\n",
      "Data columns (total 27 columns):\n",
      " #   Column                 Non-Null Count  Dtype  \n",
      "---  ------                 --------------  -----  \n",
      " 0   tweet_id               2097 non-null   int64  \n",
      " 1   in_reply_to_status_id  0 non-null      float64\n",
      " 2   in_reply_to_user_id    0 non-null      float64\n",
      " 3   timestamp              2097 non-null   object \n",
      " 4   source                 2097 non-null   object \n",
      " 5   text                   2097 non-null   object \n",
      " 6   expanded_urls          2094 non-null   object \n",
      " 7   rating_numerator       2097 non-null   int64  \n",
      " 8   rating_denominator     2097 non-null   int64  \n",
      " 9   name                   2097 non-null   object \n",
      " 10  doggo                  2097 non-null   object \n",
      " 11  floofer                2097 non-null   object \n",
      " 12  pupper                 2097 non-null   object \n",
      " 13  puppo                  2097 non-null   object \n",
      " 14  retweet_count          2097 non-null   float64\n",
      " 15  favorite_count         2097 non-null   float64\n",
      " 16  jpg_url                1971 non-null   object \n",
      " 17  img_num                1971 non-null   float64\n",
      " 18  p1                     1971 non-null   object \n",
      " 19  p1_conf                1971 non-null   float64\n",
      " 20  p1_dog                 1971 non-null   object \n",
      " 21  p2                     1971 non-null   object \n",
      " 22  p2_conf                1971 non-null   float64\n",
      " 23  p2_dog                 1971 non-null   object \n",
      " 24  p3                     1971 non-null   object \n",
      " 25  p3_conf                1971 non-null   float64\n",
      " 26  p3_dog                 1971 non-null   object \n",
      "dtypes: float64(8), int64(3), object(16)\n",
      "memory usage: 458.7+ KB\n"
     ]
    }
   ],
   "source": [
    "#checking if the replies are gone\n",
    "twitter_archive_master.info()"
   ]
  },
  {
   "cell_type": "code",
   "execution_count": 32,
   "metadata": {
    "execution": {
     "iopub.execute_input": "2022-11-07T09:41:39.197451Z",
     "iopub.status.busy": "2022-11-07T09:41:39.196756Z",
     "iopub.status.idle": "2022-11-07T09:41:39.214942Z",
     "shell.execute_reply": "2022-11-07T09:41:39.214039Z",
     "shell.execute_reply.started": "2022-11-07T09:41:39.197414Z"
    }
   },
   "outputs": [
    {
     "name": "stdout",
     "output_type": "stream",
     "text": [
      "<class 'pandas.core.frame.DataFrame'>\n",
      "Int64Index: 2097 entries, 0 to 2355\n",
      "Data columns (total 25 columns):\n",
      " #   Column              Non-Null Count  Dtype  \n",
      "---  ------              --------------  -----  \n",
      " 0   tweet_id            2097 non-null   int64  \n",
      " 1   timestamp           2097 non-null   object \n",
      " 2   source              2097 non-null   object \n",
      " 3   text                2097 non-null   object \n",
      " 4   expanded_urls       2094 non-null   object \n",
      " 5   rating_numerator    2097 non-null   int64  \n",
      " 6   rating_denominator  2097 non-null   int64  \n",
      " 7   name                2097 non-null   object \n",
      " 8   doggo               2097 non-null   object \n",
      " 9   floofer             2097 non-null   object \n",
      " 10  pupper              2097 non-null   object \n",
      " 11  puppo               2097 non-null   object \n",
      " 12  retweet_count       2097 non-null   float64\n",
      " 13  favorite_count      2097 non-null   float64\n",
      " 14  jpg_url             1971 non-null   object \n",
      " 15  img_num             1971 non-null   float64\n",
      " 16  p1                  1971 non-null   object \n",
      " 17  p1_conf             1971 non-null   float64\n",
      " 18  p1_dog              1971 non-null   object \n",
      " 19  p2                  1971 non-null   object \n",
      " 20  p2_conf             1971 non-null   float64\n",
      " 21  p2_dog              1971 non-null   object \n",
      " 22  p3                  1971 non-null   object \n",
      " 23  p3_conf             1971 non-null   float64\n",
      " 24  p3_dog              1971 non-null   object \n",
      "dtypes: float64(6), int64(3), object(16)\n",
      "memory usage: 426.0+ KB\n"
     ]
    }
   ],
   "source": [
    "#now we can drop the columns for the replies\n",
    "twitter_archive_master.drop(columns=['in_reply_to_status_id', 'in_reply_to_user_id'], inplace=True)\n",
    "#checking if the replies columns are gone\n",
    "twitter_archive_master.info()"
   ]
  },
  {
   "cell_type": "markdown",
   "metadata": {},
   "source": [
    "## 3. Melting the dog stages into one column"
   ]
  },
  {
   "cell_type": "code",
   "execution_count": 33,
   "metadata": {
    "execution": {
     "iopub.execute_input": "2022-11-07T09:41:39.217043Z",
     "iopub.status.busy": "2022-11-07T09:41:39.216210Z",
     "iopub.status.idle": "2022-11-07T09:41:39.239724Z",
     "shell.execute_reply": "2022-11-07T09:41:39.238167Z",
     "shell.execute_reply.started": "2022-11-07T09:41:39.217008Z"
    }
   },
   "outputs": [],
   "source": [
    "melted_archive = pd.melt(twitter_archive_master, \n",
    "        id_vars = ['tweet_id', 'timestamp', 'source', 'text', 'expanded_urls',\n",
    "       'rating_numerator', 'rating_denominator', 'name', 'favorite_count', 'retweet_count', 'jpg_url', 'img_num',\n",
    "       'p1', 'p1_conf', 'p1_dog', 'p2', 'p2_conf', 'p2_dog', 'p3', 'p3_conf',\n",
    "       'p3_dog'], \n",
    "        value_vars = ['doggo', 'floofer', 'pupper', 'puppo'], \n",
    "        var_name = 'types', value_name = 'dog_type')"
   ]
  },
  {
   "cell_type": "code",
   "execution_count": 34,
   "metadata": {
    "execution": {
     "iopub.execute_input": "2022-11-07T09:41:39.242189Z",
     "iopub.status.busy": "2022-11-07T09:41:39.241299Z",
     "iopub.status.idle": "2022-11-07T09:41:39.262759Z",
     "shell.execute_reply": "2022-11-07T09:41:39.261686Z",
     "shell.execute_reply.started": "2022-11-07T09:41:39.242143Z"
    }
   },
   "outputs": [
    {
     "name": "stdout",
     "output_type": "stream",
     "text": [
      "<class 'pandas.core.frame.DataFrame'>\n",
      "RangeIndex: 8388 entries, 0 to 8387\n",
      "Data columns (total 23 columns):\n",
      " #   Column              Non-Null Count  Dtype  \n",
      "---  ------              --------------  -----  \n",
      " 0   tweet_id            8388 non-null   int64  \n",
      " 1   timestamp           8388 non-null   object \n",
      " 2   source              8388 non-null   object \n",
      " 3   text                8388 non-null   object \n",
      " 4   expanded_urls       8376 non-null   object \n",
      " 5   rating_numerator    8388 non-null   int64  \n",
      " 6   rating_denominator  8388 non-null   int64  \n",
      " 7   name                8388 non-null   object \n",
      " 8   favorite_count      8388 non-null   float64\n",
      " 9   retweet_count       8388 non-null   float64\n",
      " 10  jpg_url             7884 non-null   object \n",
      " 11  img_num             7884 non-null   float64\n",
      " 12  p1                  7884 non-null   object \n",
      " 13  p1_conf             7884 non-null   float64\n",
      " 14  p1_dog              7884 non-null   object \n",
      " 15  p2                  7884 non-null   object \n",
      " 16  p2_conf             7884 non-null   float64\n",
      " 17  p2_dog              7884 non-null   object \n",
      " 18  p3                  7884 non-null   object \n",
      " 19  p3_conf             7884 non-null   float64\n",
      " 20  p3_dog              7884 non-null   object \n",
      " 21  types               8388 non-null   object \n",
      " 22  dog_type            8388 non-null   object \n",
      "dtypes: float64(6), int64(3), object(14)\n",
      "memory usage: 1.5+ MB\n"
     ]
    }
   ],
   "source": [
    "#checking the content of the new melted dataframe\n",
    "melted_archive.info()"
   ]
  },
  {
   "cell_type": "code",
   "execution_count": 35,
   "metadata": {
    "execution": {
     "iopub.execute_input": "2022-11-07T09:41:39.264891Z",
     "iopub.status.busy": "2022-11-07T09:41:39.264549Z",
     "iopub.status.idle": "2022-11-07T09:41:39.295267Z",
     "shell.execute_reply": "2022-11-07T09:41:39.294039Z",
     "shell.execute_reply.started": "2022-11-07T09:41:39.264860Z"
    }
   },
   "outputs": [
    {
     "data": {
      "text/html": [
       "<div>\n",
       "<style scoped>\n",
       "    .dataframe tbody tr th:only-of-type {\n",
       "        vertical-align: middle;\n",
       "    }\n",
       "\n",
       "    .dataframe tbody tr th {\n",
       "        vertical-align: top;\n",
       "    }\n",
       "\n",
       "    .dataframe thead th {\n",
       "        text-align: right;\n",
       "    }\n",
       "</style>\n",
       "<table border=\"1\" class=\"dataframe\">\n",
       "  <thead>\n",
       "    <tr style=\"text-align: right;\">\n",
       "      <th></th>\n",
       "      <th>tweet_id</th>\n",
       "      <th>timestamp</th>\n",
       "      <th>source</th>\n",
       "      <th>text</th>\n",
       "      <th>expanded_urls</th>\n",
       "      <th>rating_numerator</th>\n",
       "      <th>rating_denominator</th>\n",
       "      <th>name</th>\n",
       "      <th>favorite_count</th>\n",
       "      <th>retweet_count</th>\n",
       "      <th>...</th>\n",
       "      <th>p1_conf</th>\n",
       "      <th>p1_dog</th>\n",
       "      <th>p2</th>\n",
       "      <th>p2_conf</th>\n",
       "      <th>p2_dog</th>\n",
       "      <th>p3</th>\n",
       "      <th>p3_conf</th>\n",
       "      <th>p3_dog</th>\n",
       "      <th>types</th>\n",
       "      <th>dog_type</th>\n",
       "    </tr>\n",
       "  </thead>\n",
       "  <tbody>\n",
       "    <tr>\n",
       "      <th>0</th>\n",
       "      <td>892420643555336193</td>\n",
       "      <td>2017-08-01 16:23:56 +0000</td>\n",
       "      <td>&lt;a href=\"http://twitter.com/download/iphone\" r...</td>\n",
       "      <td>This is Phineas. He's a mystical boy. Only eve...</td>\n",
       "      <td>https://twitter.com/dog_rates/status/892420643...</td>\n",
       "      <td>13</td>\n",
       "      <td>10</td>\n",
       "      <td>Phineas</td>\n",
       "      <td>39467.0</td>\n",
       "      <td>8853.0</td>\n",
       "      <td>...</td>\n",
       "      <td>0.097049</td>\n",
       "      <td>False</td>\n",
       "      <td>bagel</td>\n",
       "      <td>0.085851</td>\n",
       "      <td>False</td>\n",
       "      <td>banana</td>\n",
       "      <td>0.076110</td>\n",
       "      <td>False</td>\n",
       "      <td>doggo</td>\n",
       "      <td>None</td>\n",
       "    </tr>\n",
       "    <tr>\n",
       "      <th>1</th>\n",
       "      <td>892177421306343426</td>\n",
       "      <td>2017-08-01 00:17:27 +0000</td>\n",
       "      <td>&lt;a href=\"http://twitter.com/download/iphone\" r...</td>\n",
       "      <td>This is Tilly. She's just checking pup on you....</td>\n",
       "      <td>https://twitter.com/dog_rates/status/892177421...</td>\n",
       "      <td>13</td>\n",
       "      <td>10</td>\n",
       "      <td>Tilly</td>\n",
       "      <td>33819.0</td>\n",
       "      <td>6514.0</td>\n",
       "      <td>...</td>\n",
       "      <td>0.323581</td>\n",
       "      <td>True</td>\n",
       "      <td>Pekinese</td>\n",
       "      <td>0.090647</td>\n",
       "      <td>True</td>\n",
       "      <td>papillon</td>\n",
       "      <td>0.068957</td>\n",
       "      <td>True</td>\n",
       "      <td>doggo</td>\n",
       "      <td>None</td>\n",
       "    </tr>\n",
       "    <tr>\n",
       "      <th>2</th>\n",
       "      <td>891815181378084864</td>\n",
       "      <td>2017-07-31 00:18:03 +0000</td>\n",
       "      <td>&lt;a href=\"http://twitter.com/download/iphone\" r...</td>\n",
       "      <td>This is Archie. He is a rare Norwegian Pouncin...</td>\n",
       "      <td>https://twitter.com/dog_rates/status/891815181...</td>\n",
       "      <td>12</td>\n",
       "      <td>10</td>\n",
       "      <td>Archie</td>\n",
       "      <td>25461.0</td>\n",
       "      <td>4328.0</td>\n",
       "      <td>...</td>\n",
       "      <td>0.716012</td>\n",
       "      <td>True</td>\n",
       "      <td>malamute</td>\n",
       "      <td>0.078253</td>\n",
       "      <td>True</td>\n",
       "      <td>kelpie</td>\n",
       "      <td>0.031379</td>\n",
       "      <td>True</td>\n",
       "      <td>doggo</td>\n",
       "      <td>None</td>\n",
       "    </tr>\n",
       "    <tr>\n",
       "      <th>3</th>\n",
       "      <td>891689557279858688</td>\n",
       "      <td>2017-07-30 15:58:51 +0000</td>\n",
       "      <td>&lt;a href=\"http://twitter.com/download/iphone\" r...</td>\n",
       "      <td>This is Darla. She commenced a snooze mid meal...</td>\n",
       "      <td>https://twitter.com/dog_rates/status/891689557...</td>\n",
       "      <td>13</td>\n",
       "      <td>10</td>\n",
       "      <td>Darla</td>\n",
       "      <td>42908.0</td>\n",
       "      <td>8964.0</td>\n",
       "      <td>...</td>\n",
       "      <td>0.170278</td>\n",
       "      <td>False</td>\n",
       "      <td>Labrador_retriever</td>\n",
       "      <td>0.168086</td>\n",
       "      <td>True</td>\n",
       "      <td>spatula</td>\n",
       "      <td>0.040836</td>\n",
       "      <td>False</td>\n",
       "      <td>doggo</td>\n",
       "      <td>None</td>\n",
       "    </tr>\n",
       "    <tr>\n",
       "      <th>4</th>\n",
       "      <td>891327558926688256</td>\n",
       "      <td>2017-07-29 16:00:24 +0000</td>\n",
       "      <td>&lt;a href=\"http://twitter.com/download/iphone\" r...</td>\n",
       "      <td>This is Franklin. He would like you to stop ca...</td>\n",
       "      <td>https://twitter.com/dog_rates/status/891327558...</td>\n",
       "      <td>12</td>\n",
       "      <td>10</td>\n",
       "      <td>Franklin</td>\n",
       "      <td>41048.0</td>\n",
       "      <td>9774.0</td>\n",
       "      <td>...</td>\n",
       "      <td>0.555712</td>\n",
       "      <td>True</td>\n",
       "      <td>English_springer</td>\n",
       "      <td>0.225770</td>\n",
       "      <td>True</td>\n",
       "      <td>German_short-haired_pointer</td>\n",
       "      <td>0.175219</td>\n",
       "      <td>True</td>\n",
       "      <td>doggo</td>\n",
       "      <td>None</td>\n",
       "    </tr>\n",
       "  </tbody>\n",
       "</table>\n",
       "<p>5 rows × 23 columns</p>\n",
       "</div>"
      ],
      "text/plain": [
       "             tweet_id                  timestamp  \\\n",
       "0  892420643555336193  2017-08-01 16:23:56 +0000   \n",
       "1  892177421306343426  2017-08-01 00:17:27 +0000   \n",
       "2  891815181378084864  2017-07-31 00:18:03 +0000   \n",
       "3  891689557279858688  2017-07-30 15:58:51 +0000   \n",
       "4  891327558926688256  2017-07-29 16:00:24 +0000   \n",
       "\n",
       "                                              source  \\\n",
       "0  <a href=\"http://twitter.com/download/iphone\" r...   \n",
       "1  <a href=\"http://twitter.com/download/iphone\" r...   \n",
       "2  <a href=\"http://twitter.com/download/iphone\" r...   \n",
       "3  <a href=\"http://twitter.com/download/iphone\" r...   \n",
       "4  <a href=\"http://twitter.com/download/iphone\" r...   \n",
       "\n",
       "                                                text  \\\n",
       "0  This is Phineas. He's a mystical boy. Only eve...   \n",
       "1  This is Tilly. She's just checking pup on you....   \n",
       "2  This is Archie. He is a rare Norwegian Pouncin...   \n",
       "3  This is Darla. She commenced a snooze mid meal...   \n",
       "4  This is Franklin. He would like you to stop ca...   \n",
       "\n",
       "                                       expanded_urls  rating_numerator  \\\n",
       "0  https://twitter.com/dog_rates/status/892420643...                13   \n",
       "1  https://twitter.com/dog_rates/status/892177421...                13   \n",
       "2  https://twitter.com/dog_rates/status/891815181...                12   \n",
       "3  https://twitter.com/dog_rates/status/891689557...                13   \n",
       "4  https://twitter.com/dog_rates/status/891327558...                12   \n",
       "\n",
       "   rating_denominator      name  favorite_count  retweet_count  ...   p1_conf  \\\n",
       "0                  10   Phineas         39467.0         8853.0  ...  0.097049   \n",
       "1                  10     Tilly         33819.0         6514.0  ...  0.323581   \n",
       "2                  10    Archie         25461.0         4328.0  ...  0.716012   \n",
       "3                  10     Darla         42908.0         8964.0  ...  0.170278   \n",
       "4                  10  Franklin         41048.0         9774.0  ...  0.555712   \n",
       "\n",
       "   p1_dog                  p2   p2_conf p2_dog                           p3  \\\n",
       "0   False               bagel  0.085851  False                       banana   \n",
       "1    True            Pekinese  0.090647   True                     papillon   \n",
       "2    True            malamute  0.078253   True                       kelpie   \n",
       "3   False  Labrador_retriever  0.168086   True                      spatula   \n",
       "4    True    English_springer  0.225770   True  German_short-haired_pointer   \n",
       "\n",
       "    p3_conf p3_dog  types  dog_type  \n",
       "0  0.076110  False  doggo      None  \n",
       "1  0.068957   True  doggo      None  \n",
       "2  0.031379   True  doggo      None  \n",
       "3  0.040836  False  doggo      None  \n",
       "4  0.175219   True  doggo      None  \n",
       "\n",
       "[5 rows x 23 columns]"
      ]
     },
     "execution_count": 35,
     "metadata": {},
     "output_type": "execute_result"
    }
   ],
   "source": [
    "melted_archive.head()"
   ]
  },
  {
   "cell_type": "code",
   "execution_count": 36,
   "metadata": {
    "execution": {
     "iopub.execute_input": "2022-11-07T09:41:39.297803Z",
     "iopub.status.busy": "2022-11-07T09:41:39.297077Z",
     "iopub.status.idle": "2022-11-07T09:41:39.314536Z",
     "shell.execute_reply": "2022-11-07T09:41:39.313393Z",
     "shell.execute_reply.started": "2022-11-07T09:41:39.297756Z"
    }
   },
   "outputs": [],
   "source": [
    "# Sort the dataframe by dog type so that we can drop the 3 duplicates that don't contain a dog type.\n",
    "melted_archive = melted_archive.sort_values('dog_type').drop_duplicates('tweet_id', keep = 'last')"
   ]
  },
  {
   "cell_type": "code",
   "execution_count": 37,
   "metadata": {
    "execution": {
     "iopub.execute_input": "2022-11-07T09:41:39.316634Z",
     "iopub.status.busy": "2022-11-07T09:41:39.316266Z",
     "iopub.status.idle": "2022-11-07T09:41:39.335748Z",
     "shell.execute_reply": "2022-11-07T09:41:39.334643Z",
     "shell.execute_reply.started": "2022-11-07T09:41:39.316601Z"
    }
   },
   "outputs": [
    {
     "name": "stdout",
     "output_type": "stream",
     "text": [
      "<class 'pandas.core.frame.DataFrame'>\n",
      "Int64Index: 2097 entries, 2021 to 6856\n",
      "Data columns (total 23 columns):\n",
      " #   Column              Non-Null Count  Dtype  \n",
      "---  ------              --------------  -----  \n",
      " 0   tweet_id            2097 non-null   int64  \n",
      " 1   timestamp           2097 non-null   object \n",
      " 2   source              2097 non-null   object \n",
      " 3   text                2097 non-null   object \n",
      " 4   expanded_urls       2094 non-null   object \n",
      " 5   rating_numerator    2097 non-null   int64  \n",
      " 6   rating_denominator  2097 non-null   int64  \n",
      " 7   name                2097 non-null   object \n",
      " 8   favorite_count      2097 non-null   float64\n",
      " 9   retweet_count       2097 non-null   float64\n",
      " 10  jpg_url             1971 non-null   object \n",
      " 11  img_num             1971 non-null   float64\n",
      " 12  p1                  1971 non-null   object \n",
      " 13  p1_conf             1971 non-null   float64\n",
      " 14  p1_dog              1971 non-null   object \n",
      " 15  p2                  1971 non-null   object \n",
      " 16  p2_conf             1971 non-null   float64\n",
      " 17  p2_dog              1971 non-null   object \n",
      " 18  p3                  1971 non-null   object \n",
      " 19  p3_conf             1971 non-null   float64\n",
      " 20  p3_dog              1971 non-null   object \n",
      " 21  types               2097 non-null   object \n",
      " 22  dog_type            2097 non-null   object \n",
      "dtypes: float64(6), int64(3), object(14)\n",
      "memory usage: 393.2+ KB\n"
     ]
    }
   ],
   "source": [
    "#verify that the drop worked\n",
    "melted_archive.info()"
   ]
  },
  {
   "cell_type": "code",
   "execution_count": 38,
   "metadata": {
    "execution": {
     "iopub.execute_input": "2022-11-07T09:41:39.337383Z",
     "iopub.status.busy": "2022-11-07T09:41:39.337031Z",
     "iopub.status.idle": "2022-11-07T09:41:39.356412Z",
     "shell.execute_reply": "2022-11-07T09:41:39.355503Z",
     "shell.execute_reply.started": "2022-11-07T09:41:39.337352Z"
    }
   },
   "outputs": [
    {
     "name": "stdout",
     "output_type": "stream",
     "text": [
      "<class 'pandas.core.frame.DataFrame'>\n",
      "Int64Index: 2097 entries, 2021 to 6856\n",
      "Data columns (total 22 columns):\n",
      " #   Column              Non-Null Count  Dtype  \n",
      "---  ------              --------------  -----  \n",
      " 0   tweet_id            2097 non-null   int64  \n",
      " 1   timestamp           2097 non-null   object \n",
      " 2   source              2097 non-null   object \n",
      " 3   text                2097 non-null   object \n",
      " 4   expanded_urls       2094 non-null   object \n",
      " 5   rating_numerator    2097 non-null   int64  \n",
      " 6   rating_denominator  2097 non-null   int64  \n",
      " 7   name                2097 non-null   object \n",
      " 8   favorite_count      2097 non-null   float64\n",
      " 9   retweet_count       2097 non-null   float64\n",
      " 10  jpg_url             1971 non-null   object \n",
      " 11  img_num             1971 non-null   float64\n",
      " 12  p1                  1971 non-null   object \n",
      " 13  p1_conf             1971 non-null   float64\n",
      " 14  p1_dog              1971 non-null   object \n",
      " 15  p2                  1971 non-null   object \n",
      " 16  p2_conf             1971 non-null   float64\n",
      " 17  p2_dog              1971 non-null   object \n",
      " 18  p3                  1971 non-null   object \n",
      " 19  p3_conf             1971 non-null   float64\n",
      " 20  p3_dog              1971 non-null   object \n",
      " 21  dog_type            2097 non-null   object \n",
      "dtypes: float64(6), int64(3), object(13)\n",
      "memory usage: 376.8+ KB\n"
     ]
    }
   ],
   "source": [
    "#dropping the 'types' column\n",
    "melted_archive.drop(columns ='types', inplace=True)\n",
    "melted_archive.info()"
   ]
  },
  {
   "cell_type": "markdown",
   "metadata": {},
   "source": [
    "## 4. Coverting the 'timestamp' column to datetime"
   ]
  },
  {
   "cell_type": "code",
   "execution_count": 39,
   "metadata": {
    "execution": {
     "iopub.execute_input": "2022-11-07T09:41:39.358125Z",
     "iopub.status.busy": "2022-11-07T09:41:39.357498Z",
     "iopub.status.idle": "2022-11-07T09:41:39.366838Z",
     "shell.execute_reply": "2022-11-07T09:41:39.365829Z",
     "shell.execute_reply.started": "2022-11-07T09:41:39.358064Z"
    }
   },
   "outputs": [
    {
     "data": {
      "text/plain": [
       "2021    2015-11-19 18:13:27 +0000\n",
       "2020    2015-11-19 20:14:03 +0000\n",
       "2019    2015-11-19 20:20:22 +0000\n",
       "2018    2015-11-19 20:44:47 +0000\n",
       "2017    2015-11-19 21:22:56 +0000\n",
       "                  ...            \n",
       "6303    2017-07-25 01:55:32 +0000\n",
       "6305    2017-07-24 17:02:04 +0000\n",
       "6374    2017-06-11 21:18:31 +0000\n",
       "6779    2016-10-31 21:00:23 +0000\n",
       "6856    2016-09-28 00:46:20 +0000\n",
       "Name: timestamp, Length: 2097, dtype: object"
      ]
     },
     "execution_count": 39,
     "metadata": {},
     "output_type": "execute_result"
    }
   ],
   "source": [
    "melted_archive.timestamp"
   ]
  },
  {
   "cell_type": "code",
   "execution_count": 40,
   "metadata": {
    "execution": {
     "iopub.execute_input": "2022-11-07T09:41:39.368976Z",
     "iopub.status.busy": "2022-11-07T09:41:39.368233Z",
     "iopub.status.idle": "2022-11-07T09:41:39.377708Z",
     "shell.execute_reply": "2022-11-07T09:41:39.376847Z",
     "shell.execute_reply.started": "2022-11-07T09:41:39.368941Z"
    }
   },
   "outputs": [],
   "source": [
    "#we need to remove the trailing zeros before we convert it to a datetime format and we do that using the strip method\n",
    "melted_archive.timestamp = melted_archive.timestamp.str.strip('+0000')"
   ]
  },
  {
   "cell_type": "code",
   "execution_count": 41,
   "metadata": {
    "execution": {
     "iopub.execute_input": "2022-11-07T09:41:39.379380Z",
     "iopub.status.busy": "2022-11-07T09:41:39.378789Z",
     "iopub.status.idle": "2022-11-07T09:41:39.391483Z",
     "shell.execute_reply": "2022-11-07T09:41:39.390220Z",
     "shell.execute_reply.started": "2022-11-07T09:41:39.379331Z"
    }
   },
   "outputs": [],
   "source": [
    "#converting to datetime\n",
    "melted_archive.timestamp = pd.to_datetime(melted_archive.timestamp)"
   ]
  },
  {
   "cell_type": "code",
   "execution_count": 42,
   "metadata": {
    "execution": {
     "iopub.execute_input": "2022-11-07T09:41:39.395511Z",
     "iopub.status.busy": "2022-11-07T09:41:39.395146Z",
     "iopub.status.idle": "2022-11-07T09:41:39.436658Z",
     "shell.execute_reply": "2022-11-07T09:41:39.435724Z",
     "shell.execute_reply.started": "2022-11-07T09:41:39.395480Z"
    }
   },
   "outputs": [
    {
     "name": "stdout",
     "output_type": "stream",
     "text": [
      "<class 'pandas.core.frame.DataFrame'>\n",
      "Int64Index: 2097 entries, 2021 to 6856\n",
      "Data columns (total 22 columns):\n",
      " #   Column              Non-Null Count  Dtype         \n",
      "---  ------              --------------  -----         \n",
      " 0   tweet_id            2097 non-null   int64         \n",
      " 1   timestamp           2097 non-null   datetime64[ns]\n",
      " 2   source              2097 non-null   object        \n",
      " 3   text                2097 non-null   object        \n",
      " 4   expanded_urls       2094 non-null   object        \n",
      " 5   rating_numerator    2097 non-null   int64         \n",
      " 6   rating_denominator  2097 non-null   int64         \n",
      " 7   name                2097 non-null   object        \n",
      " 8   favorite_count      2097 non-null   float64       \n",
      " 9   retweet_count       2097 non-null   float64       \n",
      " 10  jpg_url             1971 non-null   object        \n",
      " 11  img_num             1971 non-null   float64       \n",
      " 12  p1                  1971 non-null   object        \n",
      " 13  p1_conf             1971 non-null   float64       \n",
      " 14  p1_dog              1971 non-null   object        \n",
      " 15  p2                  1971 non-null   object        \n",
      " 16  p2_conf             1971 non-null   float64       \n",
      " 17  p2_dog              1971 non-null   object        \n",
      " 18  p3                  1971 non-null   object        \n",
      " 19  p3_conf             1971 non-null   float64       \n",
      " 20  p3_dog              1971 non-null   object        \n",
      " 21  dog_type            2097 non-null   object        \n",
      "dtypes: datetime64[ns](1), float64(6), int64(3), object(12)\n",
      "memory usage: 376.8+ KB\n"
     ]
    },
    {
     "data": {
      "text/html": [
       "<div>\n",
       "<style scoped>\n",
       "    .dataframe tbody tr th:only-of-type {\n",
       "        vertical-align: middle;\n",
       "    }\n",
       "\n",
       "    .dataframe tbody tr th {\n",
       "        vertical-align: top;\n",
       "    }\n",
       "\n",
       "    .dataframe thead th {\n",
       "        text-align: right;\n",
       "    }\n",
       "</style>\n",
       "<table border=\"1\" class=\"dataframe\">\n",
       "  <thead>\n",
       "    <tr style=\"text-align: right;\">\n",
       "      <th></th>\n",
       "      <th>tweet_id</th>\n",
       "      <th>timestamp</th>\n",
       "      <th>source</th>\n",
       "      <th>text</th>\n",
       "      <th>expanded_urls</th>\n",
       "      <th>rating_numerator</th>\n",
       "      <th>rating_denominator</th>\n",
       "      <th>name</th>\n",
       "      <th>favorite_count</th>\n",
       "      <th>retweet_count</th>\n",
       "      <th>...</th>\n",
       "      <th>p1</th>\n",
       "      <th>p1_conf</th>\n",
       "      <th>p1_dog</th>\n",
       "      <th>p2</th>\n",
       "      <th>p2_conf</th>\n",
       "      <th>p2_dog</th>\n",
       "      <th>p3</th>\n",
       "      <th>p3_conf</th>\n",
       "      <th>p3_dog</th>\n",
       "      <th>dog_type</th>\n",
       "    </tr>\n",
       "  </thead>\n",
       "  <tbody>\n",
       "    <tr>\n",
       "      <th>2021</th>\n",
       "      <td>667405339315146752</td>\n",
       "      <td>2015-11-19 18:13:27</td>\n",
       "      <td>&lt;a href=\"http://twitter.com/download/iphone\" r...</td>\n",
       "      <td>This is Biden. Biden just tripped... 7/10 http...</td>\n",
       "      <td>https://twitter.com/dog_rates/status/667405339...</td>\n",
       "      <td>7</td>\n",
       "      <td>10</td>\n",
       "      <td>Biden</td>\n",
       "      <td>489.0</td>\n",
       "      <td>234.0</td>\n",
       "      <td>...</td>\n",
       "      <td>Saint_Bernard</td>\n",
       "      <td>0.381377</td>\n",
       "      <td>True</td>\n",
       "      <td>Leonberg</td>\n",
       "      <td>0.127998</td>\n",
       "      <td>True</td>\n",
       "      <td>golden_retriever</td>\n",
       "      <td>0.069357</td>\n",
       "      <td>True</td>\n",
       "      <td>None</td>\n",
       "    </tr>\n",
       "    <tr>\n",
       "      <th>2020</th>\n",
       "      <td>667435689202614272</td>\n",
       "      <td>2015-11-19 20:14:03</td>\n",
       "      <td>&lt;a href=\"http://twitter.com/download/iphone\" r...</td>\n",
       "      <td>Ermergerd 12/10 https://t.co/PQni2sjPsm</td>\n",
       "      <td>https://twitter.com/dog_rates/status/667435689...</td>\n",
       "      <td>12</td>\n",
       "      <td>10</td>\n",
       "      <td>None</td>\n",
       "      <td>326.0</td>\n",
       "      <td>89.0</td>\n",
       "      <td>...</td>\n",
       "      <td>Rottweiler</td>\n",
       "      <td>0.999091</td>\n",
       "      <td>True</td>\n",
       "      <td>miniature_pinscher</td>\n",
       "      <td>0.000450</td>\n",
       "      <td>True</td>\n",
       "      <td>black-and-tan_coonhound</td>\n",
       "      <td>0.000157</td>\n",
       "      <td>True</td>\n",
       "      <td>None</td>\n",
       "    </tr>\n",
       "    <tr>\n",
       "      <th>2019</th>\n",
       "      <td>667437278097252352</td>\n",
       "      <td>2015-11-19 20:20:22</td>\n",
       "      <td>&lt;a href=\"http://twitter.com/download/iphone\" r...</td>\n",
       "      <td>Never seen this breed before. Very pointy pup....</td>\n",
       "      <td>https://twitter.com/dog_rates/status/667437278...</td>\n",
       "      <td>10</td>\n",
       "      <td>10</td>\n",
       "      <td>None</td>\n",
       "      <td>483.0</td>\n",
       "      <td>257.0</td>\n",
       "      <td>...</td>\n",
       "      <td>porcupine</td>\n",
       "      <td>0.989154</td>\n",
       "      <td>False</td>\n",
       "      <td>bath_towel</td>\n",
       "      <td>0.006300</td>\n",
       "      <td>False</td>\n",
       "      <td>badger</td>\n",
       "      <td>0.000966</td>\n",
       "      <td>False</td>\n",
       "      <td>None</td>\n",
       "    </tr>\n",
       "    <tr>\n",
       "      <th>2018</th>\n",
       "      <td>667443425659232256</td>\n",
       "      <td>2015-11-19 20:44:47</td>\n",
       "      <td>&lt;a href=\"http://twitter.com/download/iphone\" r...</td>\n",
       "      <td>Exotic dog here. Long neck. Weird paws. Obsess...</td>\n",
       "      <td>https://twitter.com/dog_rates/status/667443425...</td>\n",
       "      <td>6</td>\n",
       "      <td>10</td>\n",
       "      <td>None</td>\n",
       "      <td>833.0</td>\n",
       "      <td>620.0</td>\n",
       "      <td>...</td>\n",
       "      <td>goose</td>\n",
       "      <td>0.980815</td>\n",
       "      <td>False</td>\n",
       "      <td>drake</td>\n",
       "      <td>0.006918</td>\n",
       "      <td>False</td>\n",
       "      <td>hen</td>\n",
       "      <td>0.005255</td>\n",
       "      <td>False</td>\n",
       "      <td>None</td>\n",
       "    </tr>\n",
       "    <tr>\n",
       "      <th>2017</th>\n",
       "      <td>667453023279554560</td>\n",
       "      <td>2015-11-19 21:22:56</td>\n",
       "      <td>&lt;a href=\"http://twitter.com\" rel=\"nofollow\"&gt;Tw...</td>\n",
       "      <td>Meet Cupcake. I would do unspeakable things fo...</td>\n",
       "      <td>https://twitter.com/dog_rates/status/667453023...</td>\n",
       "      <td>11</td>\n",
       "      <td>10</td>\n",
       "      <td>Cupcake</td>\n",
       "      <td>327.0</td>\n",
       "      <td>96.0</td>\n",
       "      <td>...</td>\n",
       "      <td>Labrador_retriever</td>\n",
       "      <td>0.825670</td>\n",
       "      <td>True</td>\n",
       "      <td>French_bulldog</td>\n",
       "      <td>0.056639</td>\n",
       "      <td>True</td>\n",
       "      <td>Staffordshire_bullterrier</td>\n",
       "      <td>0.054018</td>\n",
       "      <td>True</td>\n",
       "      <td>None</td>\n",
       "    </tr>\n",
       "  </tbody>\n",
       "</table>\n",
       "<p>5 rows × 22 columns</p>\n",
       "</div>"
      ],
      "text/plain": [
       "                tweet_id           timestamp  \\\n",
       "2021  667405339315146752 2015-11-19 18:13:27   \n",
       "2020  667435689202614272 2015-11-19 20:14:03   \n",
       "2019  667437278097252352 2015-11-19 20:20:22   \n",
       "2018  667443425659232256 2015-11-19 20:44:47   \n",
       "2017  667453023279554560 2015-11-19 21:22:56   \n",
       "\n",
       "                                                 source  \\\n",
       "2021  <a href=\"http://twitter.com/download/iphone\" r...   \n",
       "2020  <a href=\"http://twitter.com/download/iphone\" r...   \n",
       "2019  <a href=\"http://twitter.com/download/iphone\" r...   \n",
       "2018  <a href=\"http://twitter.com/download/iphone\" r...   \n",
       "2017  <a href=\"http://twitter.com\" rel=\"nofollow\">Tw...   \n",
       "\n",
       "                                                   text  \\\n",
       "2021  This is Biden. Biden just tripped... 7/10 http...   \n",
       "2020            Ermergerd 12/10 https://t.co/PQni2sjPsm   \n",
       "2019  Never seen this breed before. Very pointy pup....   \n",
       "2018  Exotic dog here. Long neck. Weird paws. Obsess...   \n",
       "2017  Meet Cupcake. I would do unspeakable things fo...   \n",
       "\n",
       "                                          expanded_urls  rating_numerator  \\\n",
       "2021  https://twitter.com/dog_rates/status/667405339...                 7   \n",
       "2020  https://twitter.com/dog_rates/status/667435689...                12   \n",
       "2019  https://twitter.com/dog_rates/status/667437278...                10   \n",
       "2018  https://twitter.com/dog_rates/status/667443425...                 6   \n",
       "2017  https://twitter.com/dog_rates/status/667453023...                11   \n",
       "\n",
       "      rating_denominator     name  favorite_count  retweet_count  ...  \\\n",
       "2021                  10    Biden           489.0          234.0  ...   \n",
       "2020                  10     None           326.0           89.0  ...   \n",
       "2019                  10     None           483.0          257.0  ...   \n",
       "2018                  10     None           833.0          620.0  ...   \n",
       "2017                  10  Cupcake           327.0           96.0  ...   \n",
       "\n",
       "                      p1   p1_conf p1_dog                  p2   p2_conf  \\\n",
       "2021       Saint_Bernard  0.381377   True            Leonberg  0.127998   \n",
       "2020          Rottweiler  0.999091   True  miniature_pinscher  0.000450   \n",
       "2019           porcupine  0.989154  False          bath_towel  0.006300   \n",
       "2018               goose  0.980815  False               drake  0.006918   \n",
       "2017  Labrador_retriever  0.825670   True      French_bulldog  0.056639   \n",
       "\n",
       "     p2_dog                         p3   p3_conf p3_dog  dog_type  \n",
       "2021   True           golden_retriever  0.069357   True      None  \n",
       "2020   True    black-and-tan_coonhound  0.000157   True      None  \n",
       "2019  False                     badger  0.000966  False      None  \n",
       "2018  False                        hen  0.005255  False      None  \n",
       "2017   True  Staffordshire_bullterrier  0.054018   True      None  \n",
       "\n",
       "[5 rows x 22 columns]"
      ]
     },
     "execution_count": 42,
     "metadata": {},
     "output_type": "execute_result"
    }
   ],
   "source": [
    "#verifying changes\n",
    "melted_archive.info()\n",
    "melted_archive.head()"
   ]
  },
  {
   "cell_type": "markdown",
   "metadata": {},
   "source": [
    "## 5. Incorrect Data in the name columns(no way a dog is named 'a')"
   ]
  },
  {
   "cell_type": "code",
   "execution_count": 43,
   "metadata": {
    "execution": {
     "iopub.execute_input": "2022-11-07T09:41:39.438445Z",
     "iopub.status.busy": "2022-11-07T09:41:39.437928Z",
     "iopub.status.idle": "2022-11-07T09:41:39.448696Z",
     "shell.execute_reply": "2022-11-07T09:41:39.447547Z",
     "shell.execute_reply.started": "2022-11-07T09:41:39.438404Z"
    }
   },
   "outputs": [
    {
     "data": {
      "text/plain": [
       "None       603\n",
       "a           55\n",
       "Lucy        11\n",
       "Charlie     11\n",
       "Cooper      10\n",
       "          ... \n",
       "Jaspers      1\n",
       "Clarq        1\n",
       "Ralf         1\n",
       "Kirk         1\n",
       "Stuart       1\n",
       "Name: name, Length: 955, dtype: int64"
      ]
     },
     "execution_count": 43,
     "metadata": {},
     "output_type": "execute_result"
    }
   ],
   "source": [
    "melted_archive.name.value_counts()"
   ]
  },
  {
   "cell_type": "code",
   "execution_count": 44,
   "metadata": {
    "execution": {
     "iopub.execute_input": "2022-11-07T09:41:39.452799Z",
     "iopub.status.busy": "2022-11-07T09:41:39.452443Z",
     "iopub.status.idle": "2022-11-07T09:41:39.463943Z",
     "shell.execute_reply": "2022-11-07T09:41:39.462731Z",
     "shell.execute_reply.started": "2022-11-07T09:41:39.452769Z"
    }
   },
   "outputs": [
    {
     "data": {
      "text/plain": [
       "None        658\n",
       "Lucy         11\n",
       "Charlie      11\n",
       "Oliver       10\n",
       "Cooper       10\n",
       "           ... \n",
       "Terrance      1\n",
       "Jaspers       1\n",
       "Clarq         1\n",
       "Ralf          1\n",
       "Stuart        1\n",
       "Name: name, Length: 954, dtype: int64"
      ]
     },
     "execution_count": 44,
     "metadata": {},
     "output_type": "execute_result"
    }
   ],
   "source": [
    "#we have to change the 'a' to none so that it can tally with the rest of the dataframe\n",
    "melted_archive.name.replace('a', 'None', inplace=True)\n",
    "melted_archive.name.value_counts()"
   ]
  },
  {
   "cell_type": "code",
   "execution_count": 45,
   "metadata": {
    "execution": {
     "iopub.execute_input": "2022-11-07T09:41:39.466780Z",
     "iopub.status.busy": "2022-11-07T09:41:39.465847Z",
     "iopub.status.idle": "2022-11-07T09:41:39.478679Z",
     "shell.execute_reply": "2022-11-07T09:41:39.477489Z",
     "shell.execute_reply.started": "2022-11-07T09:41:39.466733Z"
    }
   },
   "outputs": [
    {
     "data": {
      "text/plain": [
       "array(['Biden', 'None', 'Cupcake', 'Reese', 'Philippe', 'Hall', 'Dook',\n",
       "       'Fwed', 'Naphaniel', 'Kial', 'George', 'Olive', 'Calvin', 'Filup',\n",
       "       'Frank', 'Genevieve', 'Joshwa', 'Lugan', 'Josep', 'Jockson',\n",
       "       'Jeph', 'Carll', 'Klevin', 'Keet', 'Dave', 'Clybe', 'Gabe',\n",
       "       'Pipsy', 'Bradlay', 'Churlie', 'Kenneth', 'Clarence', 'Timison',\n",
       "       'Shaggy', 'Tedrick', 'Stu', 'Erik', 'Cleopatricia', 'Otis',\n",
       "       'Jiminy', 'Alfie', 'Skittles', 'Ron', 'Torque', 'Bisquick',\n",
       "       'Jareld', 'Sophie', 'Christoper', 'Jimothy', 'Rusty', 'the', 'an',\n",
       "       'quite', 'Walter', 'Scout', 'Kreggory', 'Phineas', 'Harry',\n",
       "       'Monkey', 'Cash', 'Nugget', 'Goose', 'Venti', 'Benedict', 'Nelly',\n",
       "       'Dante', 'Penny', 'Aja', 'Emmy', 'Jimbo', 'Waffles', 'Derek',\n",
       "       'Mingus', 'Maya', 'Canela', 'such', 'Jeffrey', 'Gerald', 'Ralphus',\n",
       "       'Zeke', 'Jim', 'Oliver', 'Ted', 'Bruno', 'Koda', 'Zoey', 'Jax',\n",
       "       'Franklin', 'Darla', 'Archie', 'Tilly', 'Maisey', 'Shadow', 'Earl',\n",
       "       'Beau', 'Steven', 'Jack', 'Duddles', 'Bailey', 'Romeo', 'Jesse',\n",
       "       'Bella', 'Louis', 'Elliot', 'Gary', 'Rey', 'Koko', 'Alfy',\n",
       "       'Stanley', 'Noah', 'Kevin', 'Lola', 'Kody', 'Lassie', 'Lolo',\n",
       "       'Hazel', 'Cedrick', 'Vinscent', 'Peaches', 'Buddy', 'Molly', 'Leo',\n",
       "       'Richie', 'Brockly', 'Kingsley', 'Teddy', 'Edgar', 'Cody', 'Amber',\n",
       "       'Eriq', 'Phred', 'Oddie', 'Brad', 'Ferg', 'Lucky', 'Herald',\n",
       "       'Chipson', 'Chester', 'Carl', 'Ricky', 'Luca', 'Fynn', 'Durg',\n",
       "       'Covach', 'Geoff', 'Maxwell', 'Tupawc', 'Bob', 'Wyatt', 'Berb',\n",
       "       'Reptar', 'Colin', 'Rosie', 'Oakley', 'Charlie', 'getting',\n",
       "       'Bentley', 'Blipson', 'Pherb', 'Ole', 'Carter', 'Pubert', 'Dunkin',\n",
       "       'Bodie', 'Oscar', 'Sadie', 'Lincoln', 'Kobe', 'Oliviér', 'Phil',\n",
       "       'Brian', 'Freddery', 'Frönq', 'Griffin', 'Sebastian', 'Tiger',\n",
       "       'Lupe', 'Kulet', 'Tino', 'Obi', 'Pippa', 'Bobby', 'Lulu',\n",
       "       'actually', 'Chuck', 'Glacier', 'Asher', 'Carly', 'Apollo',\n",
       "       'Darrel', 'Ulysses', 'Tess', 'Samson', 'Todo', 'Brody', 'Kreg',\n",
       "       'Joey', 'Taco', 'Cassie', 'Theodore', 'Jackson', 'Baxter',\n",
       "       'Gordon', 'Tyrone', 'Barry', 'Kramer', 'Marq', 'Opal', 'Ember',\n",
       "       'Trooper', 'Kilo', 'Derby', 'Horace', 'Crimson', 'Perry',\n",
       "       'Bruiser', 'Oreo', 'Jerry', 'Rocky', 'Brooks', 'Lorelei',\n",
       "       'Hammond', 'Flávio', 'Doug', 'Lily', 'Beemo', 'Sora', 'Staniel',\n",
       "       'Milo', 'Roosevelt', 'Oshie', 'Kane', 'Sunny', 'Stubert', 'Lance',\n",
       "       'Piper', 'Gunner', 'River', 'Bobble', 'Bear', 'Smokey', 'Coco',\n",
       "       'Mister', 'Malikai', 'Lucy', 'Rodney', 'infuriating', 'Sammy',\n",
       "       'Walker', 'Billy', 'Karma', 'Vince', 'Cecil', 'Olaf', 'Watson',\n",
       "       'Tater', 'Lacy', 'Jebberson', 'Kanu', 'Barclay', 'Suki',\n",
       "       'Alexanderson', 'Bowie', 'Carper', 'Sid', 'Harnold', 'Neptune',\n",
       "       'Charleson', 'Ralphé', 'Berkeley', 'Panda', 'Schnitzel', 'Jangle',\n",
       "       'Ebby', 'Thumas', 'Travis', 'Blitz', 'Curtis', 'Calbert', 'Siba',\n",
       "       'Michelangelope', 'Nico', 'Bertson', 'Skittle', 'Zeus', 'old',\n",
       "       'Bubbles', 'Stephanus', 'Bluebert', 'Jennifur', 'Link', 'Toby',\n",
       "       'Sarge', 'Remington', 'Dotsy', 'Murphy', 'Kaia', 'Vincent', 'very',\n",
       "       'Daniel', 'Crouton', 'Chet', 'Yoda', 'Coopson', 'Rilo', 'Fiji',\n",
       "       'Rudy', 'Rambo', 'Luna', 'Chip', 'Bilbo', 'Coops', 'Maximus',\n",
       "       'Jessiga', 'Claude', 'Cuddles', 'CeCe', 'Yukon', 'Eazy', 'Charl',\n",
       "       'Miley', 'Fillup', 'Nala', 'Reagan', 'Cooper', 'Katie', 'Ellie',\n",
       "       'Tucker', 'Kathmandu', 'Clarkus', 'Keurig', 'Harper', 'Jiminus',\n",
       "       'Rufus', 'Farfle', 'Socks', 'Kara', 'Dexter', 'Lucia',\n",
       "       'Chesterson', 'Terrenth', 'Bode', 'Zara', 'Max', 'Layla', 'Champ',\n",
       "       'Sparky', 'Lou', 'Tanner', 'Penelope', 'Malcolm', 'Julius', 'Pip',\n",
       "       'Herm', 'Scruffers', 'Reginald', 'JD', 'Marley', 'Mark',\n",
       "       'Alejandro', 'space', 'Holly', 'Creg', 'Antony', 'Trigger',\n",
       "       'Mason', 'Andy', 'Maggie', 'Sage', 'Anthony', 'Jett', 'Colby',\n",
       "       'Amy', 'Traviss', 'Mia', 'Caryl', 'Leonidas', 'Ed', 'Jimison',\n",
       "       'Terry', 'Gustaf', 'Pumpkin', 'Kenzie', 'Mac', 'Frankie', 'Dylan',\n",
       "       'Taz', 'Darby', 'Batdog', 'Mojo', 'Gizmo', 'Patch', 'Tuco', 'just',\n",
       "       'Bradley', 'Cal', 'Snickers', 'Pippin', 'Franq', 'light', 'Jackie',\n",
       "       'Ridley', 'Gin', 'Jaycob', 'Jeremy', 'Chaz', 'Ruby', 'Bernie',\n",
       "       'Harrison', 'Terrance', 'Jaspers', 'Clarq', 'Ralf', 'Kirk',\n",
       "       'Sully', 'Dug', 'Saydee', 'Billl', 'Ronduh', 'Samsom', 'Lambeau',\n",
       "       'Amélie', 'DayZ', 'Jo', 'Gòrdón', 'Spark', 'Marvin', 'Ruffles',\n",
       "       'Kallie', 'Maks', 'Timofy', 'Zeek', 'Hanz', 'Winifred', 'Kevon',\n",
       "       'Banditt', 'Bobb', 'Jomathan', 'Kollin', 'Linda', 'Daisy', 'Larry',\n",
       "       'Nigel', 'Peanut', 'Scooter', 'Damon', 'Herb', 'Willy', 'Sam',\n",
       "       'Hank', 'Edd', 'Bloo', 'Pluto', 'Ester', 'Danny', 'Jeffrie',\n",
       "       'Paull', 'Keith', 'Butters', 'Skye', 'Shawwn', 'Louie', 'Kloey',\n",
       "       'Andru', 'Julio', 'Raphael', 'Ben', 'Tommy', 'Liam', 'Randall',\n",
       "       'Winston', 'Fabio', 'Wally', 'Sandra', 'Ivar', 'Axel', 'Sandy',\n",
       "       'Ralph', 'Jessifer', 'Crumpet', 'Jerome', 'Crystal', 'Grizz',\n",
       "       'Izzy', 'Vinnie', 'Humphrey', 'Ash', 'Karl', 'Tyrus', 'Chuq',\n",
       "       'Juckson', 'Tassy', 'Dash', 'Emmie', 'by', 'Ozzy', 'Reggie',\n",
       "       'Goliath', 'Moofasa', 'Cheesy', 'Griswold', 'Alice', 'Ozzie',\n",
       "       'Aspen', 'Percy', 'Tango', 'Wilson', 'Tug', 'Rascal', 'Chompsky',\n",
       "       'officially', 'Rocco', 'Rubio', 'Hurley', 'Evy', 'William', 'Mike',\n",
       "       'Hunter', 'Willie', 'Bruce', 'Duke', 'Mitch', 'Bobbay', 'Henry',\n",
       "       'Kenny', 'life', 'Chesney', 'Lenny', 'Jonah', 'Ava', 'Rodman',\n",
       "       'Jeb', 'Acro', 'Steve', 'Kendall', 'Shnuggles', 'Dot', 'Riley',\n",
       "       'Aiden', 'Patrick', 'Buddah', 'Donny', 'Striker', 'Bert',\n",
       "       'Tedders', 'Laela', 'Moe', 'Arnold', 'Opie', 'Sugar', 'Sonny',\n",
       "       'Bo', 'Django', 'Shooter', 'Sansa', 'Major', 'incredibly',\n",
       "       'Lennon', 'Stephan', 'Seamus', 'Ito', 'Wallace', 'Winnie',\n",
       "       'Severus', 'Yogi', 'Snicku', 'Tyr', 'Pancake', 'Kyro', 'Iroh',\n",
       "       'Longfellow', 'Chef', 'Mauve', 'Ronnie', 'Gus', 'Titan', 'Akumi',\n",
       "       'Comet', 'Dudley', 'Moose', 'Binky', 'Timber', 'Chloe', 'Tebow',\n",
       "       'Strudel', 'Ken', 'Eugene', 'Autumn', 'Florence', 'Tom', 'Wafer',\n",
       "       'Finn', 'Olivia', 'Alf', 'Pavlov', 'Augie', 'Halo', 'Mary',\n",
       "       'Brandi', 'Swagger', 'Bauer', 'Baron', 'Eleanor', 'Atlas', 'Sky',\n",
       "       'Timmy', 'Cali', 'Godi', 'Loomis', 'Mairi', 'Balto', 'Stormy',\n",
       "       'Hero', 'Doc', 'Hercules', 'Blue', 'O', 'Solomon', 'Wesley',\n",
       "       'Dallas', 'Strider', 'Mya', 'Jay', 'Levi', 'Remus', 'BeBe',\n",
       "       'Monster', 'Robin', 'Nida', 'Benji', 'Newt', 'Maude', 'Juno',\n",
       "       'Moreton', 'Fiona', 'Dobby', 'Clark', 'Nimbus', 'Mack', 'Mabel',\n",
       "       'Misty', 'Mosby', 'Mattie', 'Arnie', 'Dale', 'Logan', 'Rory',\n",
       "       'Butter', 'Stella', 'Rizzy', 'Brownie', 'Eli', 'Happy', 'Anna',\n",
       "       'Howie', 'Georgie', 'Odin', 'Noosh', 'Kyle', 'Snoop', 'Iggy',\n",
       "       'Sailor', 'General', 'Wiggles', 'Jarod', 'Benny', 'Rumpole',\n",
       "       'Einstein', 'Arya', 'Rontu', 'Cannon', 'Furzey', 'Indie', 'Tycho',\n",
       "       'Marlee', 'Margo', 'Brady', 'Jarvis', 'Vixen', 'Tuck', 'Dawn',\n",
       "       'Meatball', 'Boomer', 'Lili', 'Harold', 'Dewey', 'Clifford',\n",
       "       'Rumble', 'Paisley', 'Albus', 'Belle', 'Cermet', 'Callie', 'Thor',\n",
       "       'Milky', 'Jordy', 'Lorenzo', 'Burt', 'Hobbes', 'Jersey', 'Zooey',\n",
       "       'Quinn', 'Jazzy', 'Mo', 'Ike', 'Pawnd', 'Ralphie', 'Boots',\n",
       "       'Brutus', 'Sailer', 'Alexander', 'Beebop', 'Mutt', 'one', 'Sweet',\n",
       "       'Flash', 'Harlso', 'Crawford', 'Maddie', 'Tobi', 'Mookie', 'Arlo',\n",
       "       'Odie', 'Sojourner', 'Monty', 'Sunshine', 'Lilly', 'Dutch', 'Kuyu',\n",
       "       'Eevee', 'Orion', 'not', 'Willow', 'Poppy', 'Bronte', 'Lipton',\n",
       "       'Cora', 'Tripp', 'Dietrich', 'Atticus', 'Jameson', 'Spanky',\n",
       "       'Lilah', 'Arlen', 'Gustav', 'Shiloh', 'Abby', 'Linus', 'Bookstore',\n",
       "       'Huxley', 'Stewie', 'Dex', 'Gert', 'Devón', 'Beckham', 'Leonard',\n",
       "       'Corey', 'Meyer', 'Gilbert', 'Fred', 'Grizzie', 'Tayzie', 'Ace',\n",
       "       'Harvey', 'Pupcasso', 'Stefan', 'Ollie', 'Charles', 'Ziva',\n",
       "       'unacceptable', 'this', 'Ralpher', 'Hermione', 'Livvie', 'Aldrick',\n",
       "       'Puff', 'Flurpson', 'Bloop', 'Sprout', 'Karll', 'Cilantro',\n",
       "       'Raymond', 'Enchilada', 'Coleman', 'Dakota', 'Bell', 'Maxaroni',\n",
       "       'Kayla', 'Beya', 'Stark', 'Geno', 'Blanket', 'Chadrick', 'Remy',\n",
       "       'Storkson', 'Simba', 'Rorie', 'Nollie', 'Chase', 'Brandonald',\n",
       "       'Gromit', 'Aubie', 'Kota', 'Leela', 'Glenn', 'Grey', 'Rose',\n",
       "       'Albert', 'Bonaparte', 'Sephie', 'Shelby', 'Davey', 'Fizz',\n",
       "       'Carbon', 'Klein', 'Rupert', 'Philbert', 'Kirby', 'Tito', 'Chevy',\n",
       "       'DonDon', 'Theo', 'Brudge', 'Shadoe', 'my', 'Tove', 'Dixie',\n",
       "       'Brat', 'Angel', 'Al', 'Boston', 'Emma', 'Finley', 'Shakespeare',\n",
       "       'Sprinkles', 'Fido', 'Spencer', 'Loki', 'Lilli', 'Bungalo',\n",
       "       'Heinrich', 'Pete', 'Rhino', 'Astrid', 'Smiley', 'Miguel',\n",
       "       'Emanuel', 'Napolean', 'Combo', 'Sampson', 'Barney', 'Deacon',\n",
       "       'Mimosa', 'Wishes', 'Divine', 'his', 'Sobe', 'Doobert', 'Meera',\n",
       "       'Rizzo', 'Anakin', 'Lenox', 'Duchess', 'Sundance', 'Kellogg',\n",
       "       'Chubbs', 'Cupid', 'Pilot', 'Blu', 'Petrick', 'Grizzwald',\n",
       "       'Luther', 'Baloo', 'Blakely', 'Ashleigh', 'Hector', 'Finnegus',\n",
       "       'Roscoe', 'Brandy', 'Lillie', 'Craig', 'Kawhi', 'Edmund', 'Aqua',\n",
       "       'Bones', 'Ralphy', 'Banjo', 'Rooney', 'Gerbald', 'Buckley', 'Birf',\n",
       "       'Pinot', 'Clyde', 'Toffee', 'Marty', 'Mona', 'Rueben', 'mad',\n",
       "       'Hubertson', 'all', 'Chuckles', 'Sweets', 'Laika', 'Obie',\n",
       "       'Willem', 'Kaiya', 'Pickles', 'Trevith', 'Fletcher', 'Eve',\n",
       "       'Jeffri', 'Chelsea', 'Gidget', 'Pepper', 'Herschel', 'Rufio',\n",
       "       'Zuzu', 'Superpup', 'Kona', 'Mollie', 'Grady', 'Godzilla', 'Rolf',\n",
       "       'Dwight', 'Ralphson', 'Trip', 'Schnozz', 'Bubba', 'Millie',\n",
       "       'Rover', 'Sierra', 'Jed', 'Hamrick', 'Ginger', 'Adele', 'Cheryl',\n",
       "       'Rinna', 'Dido', 'Norman', 'Huck', 'Jazz', 'Zoe', 'Jamesy',\n",
       "       'Ambrose', 'Lizzie', 'Scott', 'Snoopy', 'Diogi', 'Betty', 'Shikha',\n",
       "       'Pablo', 'Tonks', 'Bayley', 'Stuart'], dtype=object)"
      ]
     },
     "execution_count": 45,
     "metadata": {},
     "output_type": "execute_result"
    }
   ],
   "source": [
    "#check Unique names with the .unique() method to try to figure any errant value\n",
    "melted_archive.name.unique()"
   ]
  },
  {
   "cell_type": "markdown",
   "metadata": {},
   "source": [
    "I saw a lot of values that couldn't be names, these are also going to be replaced with 'None'\n"
   ]
  },
  {
   "cell_type": "code",
   "execution_count": 46,
   "metadata": {
    "execution": {
     "iopub.execute_input": "2022-11-07T09:41:39.480736Z",
     "iopub.status.busy": "2022-11-07T09:41:39.480412Z",
     "iopub.status.idle": "2022-11-07T09:41:39.498725Z",
     "shell.execute_reply": "2022-11-07T09:41:39.497393Z",
     "shell.execute_reply.started": "2022-11-07T09:41:39.480709Z"
    }
   },
   "outputs": [
    {
     "data": {
      "text/plain": [
       "None       693\n",
       "Lucy        11\n",
       "Charlie     11\n",
       "Oliver      10\n",
       "Cooper      10\n",
       "          ... \n",
       "Jaspers      1\n",
       "Clarq        1\n",
       "Ralf         1\n",
       "Kirk         1\n",
       "Stuart       1\n",
       "Name: name, Length: 940, dtype: int64"
      ]
     },
     "execution_count": 46,
     "metadata": {},
     "output_type": "execute_result"
    }
   ],
   "source": [
    "errants = ['the','an','quite','one', 'O', 'not', 'my', 'his', 'mad', 'very', 'unacceptable', 'this', 'such', 'space']\n",
    "for x in errants:\n",
    "    melted_archive.name.replace(x, 'None', inplace=True)\n",
    "melted_archive.name.value_counts()"
   ]
  },
  {
   "cell_type": "code",
   "execution_count": 47,
   "metadata": {
    "execution": {
     "iopub.execute_input": "2022-11-07T09:41:39.501208Z",
     "iopub.status.busy": "2022-11-07T09:41:39.500752Z",
     "iopub.status.idle": "2022-11-07T09:41:39.512652Z",
     "shell.execute_reply": "2022-11-07T09:41:39.511379Z",
     "shell.execute_reply.started": "2022-11-07T09:41:39.501164Z"
    }
   },
   "outputs": [
    {
     "data": {
      "text/plain": [
       "None       693\n",
       "Lucy        11\n",
       "Charlie     11\n",
       "Oliver      10\n",
       "Cooper      10\n",
       "          ... \n",
       "Jaspers      1\n",
       "Clarq        1\n",
       "Ralf         1\n",
       "Kirk         1\n",
       "Stuart       1\n",
       "Name: name, Length: 940, dtype: int64"
      ]
     },
     "execution_count": 47,
     "metadata": {},
     "output_type": "execute_result"
    }
   ],
   "source": [
    "melted_archive.name.value_counts()"
   ]
  },
  {
   "cell_type": "markdown",
   "metadata": {},
   "source": [
    "Having None as a name seems weird, let's change it to NaN cause it's a null value"
   ]
  },
  {
   "cell_type": "code",
   "execution_count": 48,
   "metadata": {
    "execution": {
     "iopub.execute_input": "2022-11-07T09:41:39.514910Z",
     "iopub.status.busy": "2022-11-07T09:41:39.514505Z",
     "iopub.status.idle": "2022-11-07T09:41:39.523365Z",
     "shell.execute_reply": "2022-11-07T09:41:39.522388Z",
     "shell.execute_reply.started": "2022-11-07T09:41:39.514878Z"
    }
   },
   "outputs": [],
   "source": [
    "melted_archive.name.replace(\"None\", value= np.nan, inplace=True)"
   ]
  },
  {
   "cell_type": "code",
   "execution_count": 49,
   "metadata": {
    "execution": {
     "iopub.execute_input": "2022-11-07T09:41:39.525089Z",
     "iopub.status.busy": "2022-11-07T09:41:39.524471Z",
     "iopub.status.idle": "2022-11-07T09:41:39.537667Z",
     "shell.execute_reply": "2022-11-07T09:41:39.536777Z",
     "shell.execute_reply.started": "2022-11-07T09:41:39.525056Z"
    }
   },
   "outputs": [
    {
     "data": {
      "text/plain": [
       "Charlie    11\n",
       "Lucy       11\n",
       "Cooper     10\n",
       "Oliver     10\n",
       "Penny       9\n",
       "           ..\n",
       "Jaspers     1\n",
       "Clarq       1\n",
       "Ralf        1\n",
       "Kirk        1\n",
       "Stuart      1\n",
       "Name: name, Length: 939, dtype: int64"
      ]
     },
     "execution_count": 49,
     "metadata": {},
     "output_type": "execute_result"
    }
   ],
   "source": [
    "melted_archive.name.value_counts()"
   ]
  },
  {
   "cell_type": "markdown",
   "metadata": {},
   "source": [
    "## 6. Source data column needs to be cleaned to extract just the Tweet Source"
   ]
  },
  {
   "cell_type": "code",
   "execution_count": 50,
   "metadata": {
    "execution": {
     "iopub.execute_input": "2022-11-07T09:41:39.539966Z",
     "iopub.status.busy": "2022-11-07T09:41:39.538740Z",
     "iopub.status.idle": "2022-11-07T09:41:39.556390Z",
     "shell.execute_reply": "2022-11-07T09:41:39.555193Z",
     "shell.execute_reply.started": "2022-11-07T09:41:39.539914Z"
    }
   },
   "outputs": [
    {
     "data": {
      "text/plain": [
       "3776    <a href=\"http://twitter.com/download/iphone\" r...\n",
       "5458    <a href=\"http://twitter.com/download/iphone\" r...\n",
       "2928    <a href=\"http://twitter.com/download/iphone\" r...\n",
       "2520    <a href=\"http://twitter.com/download/iphone\" r...\n",
       "2072    <a href=\"http://twitter.com/download/iphone\" r...\n",
       "3894    <a href=\"http://twitter.com/download/iphone\" r...\n",
       "2929    <a href=\"http://twitter.com\" rel=\"nofollow\">Tw...\n",
       "3637    <a href=\"http://twitter.com/download/iphone\" r...\n",
       "2811    <a href=\"http://twitter.com/download/iphone\" r...\n",
       "2603    <a href=\"http://twitter.com/download/iphone\" r...\n",
       "3892    <a href=\"http://twitter.com/download/iphone\" r...\n",
       "2005    <a href=\"http://twitter.com\" rel=\"nofollow\">Tw...\n",
       "3927    <a href=\"http://twitter.com/download/iphone\" r...\n",
       "3872    <a href=\"http://twitter.com/download/iphone\" r...\n",
       "3803    <a href=\"http://twitter.com/download/iphone\" r...\n",
       "303     <a href=\"http://twitter.com/download/iphone\" r...\n",
       "3212    <a href=\"http://twitter.com/download/iphone\" r...\n",
       "3245    <a href=\"http://twitter.com/download/iphone\" r...\n",
       "2434    <a href=\"http://twitter.com/download/iphone\" r...\n",
       "5327    <a href=\"http://twitter.com/download/iphone\" r...\n",
       "Name: source, dtype: object"
      ]
     },
     "execution_count": 50,
     "metadata": {},
     "output_type": "execute_result"
    }
   ],
   "source": [
    "melted_archive.source.sample(20)"
   ]
  },
  {
   "cell_type": "code",
   "execution_count": 51,
   "metadata": {
    "execution": {
     "iopub.execute_input": "2022-11-07T09:41:39.558154Z",
     "iopub.status.busy": "2022-11-07T09:41:39.557783Z",
     "iopub.status.idle": "2022-11-07T09:41:39.578786Z",
     "shell.execute_reply": "2022-11-07T09:41:39.577566Z",
     "shell.execute_reply.started": "2022-11-07T09:41:39.558095Z"
    }
   },
   "outputs": [],
   "source": [
    "# Use re library with findall function and extract real source from tags\n",
    "import re\n",
    "\n",
    "melted_archive['source'] = melted_archive['source'].apply(lambda x: re.findall(r'>(.*)</a>', x)[0])"
   ]
  },
  {
   "cell_type": "code",
   "execution_count": null,
   "metadata": {},
   "outputs": [],
   "source": []
  },
  {
   "cell_type": "code",
   "execution_count": null,
   "metadata": {
    "execution": {
     "iopub.execute_input": "2022-11-07T09:41:39.580892Z",
     "iopub.status.busy": "2022-11-07T09:41:39.580535Z",
     "iopub.status.idle": "2022-11-07T09:41:39.589859Z",
     "shell.execute_reply": "2022-11-07T09:41:39.588887Z",
     "shell.execute_reply.started": "2022-11-07T09:41:39.580860Z"
    }
   },
   "outputs": [],
   "source": [
    "melted_archive.source.value_counts()"
   ]
  },
  {
   "cell_type": "markdown",
   "metadata": {},
   "source": [
    "## 7. Missing Values in the 'expanded_urls' column"
   ]
  },
  {
   "cell_type": "markdown",
   "metadata": {},
   "source": [
    "The 'expanded_urls' is the column which contain the links for the images or videos, since we are only concerned about tweets with images, those rows without any value in the 'expanded_url' column would have to be dropped"
   ]
  },
  {
   "cell_type": "code",
   "execution_count": null,
   "metadata": {
    "execution": {
     "iopub.execute_input": "2022-11-07T09:41:39.592324Z",
     "iopub.status.busy": "2022-11-07T09:41:39.591209Z",
     "iopub.status.idle": "2022-11-07T09:41:39.604547Z",
     "shell.execute_reply": "2022-11-07T09:41:39.603411Z",
     "shell.execute_reply.started": "2022-11-07T09:41:39.592287Z"
    }
   },
   "outputs": [],
   "source": [
    "melted_archive.expanded_urls.isnull().value_counts()"
   ]
  },
  {
   "cell_type": "code",
   "execution_count": null,
   "metadata": {
    "execution": {
     "iopub.execute_input": "2022-11-07T09:41:39.607310Z",
     "iopub.status.busy": "2022-11-07T09:41:39.606786Z",
     "iopub.status.idle": "2022-11-07T09:41:39.619872Z",
     "shell.execute_reply": "2022-11-07T09:41:39.618468Z",
     "shell.execute_reply.started": "2022-11-07T09:41:39.607265Z"
    }
   },
   "outputs": [],
   "source": [
    "melted_archive.dropna(subset=['expanded_urls'], inplace=True)"
   ]
  },
  {
   "cell_type": "code",
   "execution_count": null,
   "metadata": {
    "execution": {
     "iopub.execute_input": "2022-11-07T09:41:39.622821Z",
     "iopub.status.busy": "2022-11-07T09:41:39.622150Z",
     "iopub.status.idle": "2022-11-07T09:41:39.639899Z",
     "shell.execute_reply": "2022-11-07T09:41:39.638476Z",
     "shell.execute_reply.started": "2022-11-07T09:41:39.622770Z"
    }
   },
   "outputs": [],
   "source": [
    "#verifiying that the rows with missing values was dropped\n",
    "melted_archive.expanded_urls.isnull().value_counts()"
   ]
  },
  {
   "cell_type": "markdown",
   "metadata": {},
   "source": [
    "## 8. Some Values in the 'rating_denominator' column not equal to 10\n"
   ]
  },
  {
   "cell_type": "code",
   "execution_count": null,
   "metadata": {
    "execution": {
     "iopub.execute_input": "2022-11-07T09:41:39.641987Z",
     "iopub.status.busy": "2022-11-07T09:41:39.641246Z",
     "iopub.status.idle": "2022-11-07T09:41:39.654582Z",
     "shell.execute_reply": "2022-11-07T09:41:39.653273Z",
     "shell.execute_reply.started": "2022-11-07T09:41:39.641938Z"
    }
   },
   "outputs": [],
   "source": [
    "melted_archive.rating_denominator.value_counts()"
   ]
  },
  {
   "cell_type": "code",
   "execution_count": null,
   "metadata": {
    "execution": {
     "iopub.execute_input": "2022-11-07T09:41:39.656942Z",
     "iopub.status.busy": "2022-11-07T09:41:39.656179Z",
     "iopub.status.idle": "2022-11-07T09:41:39.668835Z",
     "shell.execute_reply": "2022-11-07T09:41:39.667870Z",
     "shell.execute_reply.started": "2022-11-07T09:41:39.656905Z"
    }
   },
   "outputs": [],
   "source": [
    "#investigating strange values\n",
    "melted_archive.loc[lambda x:x['rating_denominator']== 11].text"
   ]
  },
  {
   "cell_type": "markdown",
   "metadata": {},
   "source": [
    "From the text, the 7/11 and the 9/11 were errors while gathering, the real values are 10/10 and 14/10 respectively"
   ]
  },
  {
   "cell_type": "code",
   "execution_count": null,
   "metadata": {
    "execution": {
     "iopub.execute_input": "2022-11-07T09:41:39.671049Z",
     "iopub.status.busy": "2022-11-07T09:41:39.670459Z",
     "iopub.status.idle": "2022-11-07T09:41:39.680897Z",
     "shell.execute_reply": "2022-11-07T09:41:39.679664Z",
     "shell.execute_reply.started": "2022-11-07T09:41:39.671014Z"
    }
   },
   "outputs": [],
   "source": [
    "melted_archive.at[3523, 'rating_denominator'] = 10\n",
    "melted_archive.at[3523, 'rating_numerator'] = 10\n",
    "melted_archive.at[2950, 'rating_denominator'] = 10\n",
    "melted_archive.at[2950, 'rating_numerator'] = 14"
   ]
  },
  {
   "cell_type": "code",
   "execution_count": null,
   "metadata": {
    "execution": {
     "iopub.execute_input": "2022-11-07T09:41:39.690478Z",
     "iopub.status.busy": "2022-11-07T09:41:39.689525Z",
     "iopub.status.idle": "2022-11-07T09:41:39.705698Z",
     "shell.execute_reply": "2022-11-07T09:41:39.703657Z",
     "shell.execute_reply.started": "2022-11-07T09:41:39.690414Z"
    }
   },
   "outputs": [],
   "source": [
    "#still investigating strange values\n",
    "melted_archive.loc[lambda x:x['rating_denominator']== 2].text"
   ]
  },
  {
   "cell_type": "markdown",
   "metadata": {},
   "source": [
    "Still an error from the data gathering process"
   ]
  },
  {
   "cell_type": "code",
   "execution_count": null,
   "metadata": {
    "execution": {
     "iopub.execute_input": "2022-11-07T09:41:39.708401Z",
     "iopub.status.busy": "2022-11-07T09:41:39.707759Z",
     "iopub.status.idle": "2022-11-07T09:41:39.718995Z",
     "shell.execute_reply": "2022-11-07T09:41:39.717623Z",
     "shell.execute_reply.started": "2022-11-07T09:41:39.708339Z"
    }
   },
   "outputs": [],
   "source": [
    "melted_archive.at[2076, 'rating_denominator'] = 10\n",
    "melted_archive.at[2076, 'rating_numerator'] = 9"
   ]
  },
  {
   "cell_type": "code",
   "execution_count": null,
   "metadata": {
    "execution": {
     "iopub.execute_input": "2022-11-07T09:41:39.721302Z",
     "iopub.status.busy": "2022-11-07T09:41:39.720672Z",
     "iopub.status.idle": "2022-11-07T09:41:39.766400Z",
     "shell.execute_reply": "2022-11-07T09:41:39.765135Z",
     "shell.execute_reply.started": "2022-11-07T09:41:39.721245Z"
    }
   },
   "outputs": [],
   "source": [
    "#still investigating strange values\n",
    "melted_archive.loc[lambda x:x['rating_denominator']== 7]"
   ]
  },
  {
   "cell_type": "code",
   "execution_count": null,
   "metadata": {
    "execution": {
     "iopub.execute_input": "2022-11-07T09:41:39.769047Z",
     "iopub.status.busy": "2022-11-07T09:41:39.768226Z",
     "iopub.status.idle": "2022-11-07T09:41:39.777789Z",
     "shell.execute_reply": "2022-11-07T09:41:39.776513Z",
     "shell.execute_reply.started": "2022-11-07T09:41:39.768997Z"
    }
   },
   "outputs": [],
   "source": [
    "#This particular dog was not given any rating, so we're going to drop it\n",
    "melted_archive.drop(index=2500, inplace=True)"
   ]
  },
  {
   "cell_type": "markdown",
   "metadata": {},
   "source": [
    "## 9. Some Values in the 'rating_numerator' column equal to 0"
   ]
  },
  {
   "cell_type": "code",
   "execution_count": null,
   "metadata": {
    "execution": {
     "iopub.execute_input": "2022-11-07T09:41:39.779659Z",
     "iopub.status.busy": "2022-11-07T09:41:39.779229Z",
     "iopub.status.idle": "2022-11-07T09:41:39.795671Z",
     "shell.execute_reply": "2022-11-07T09:41:39.794259Z",
     "shell.execute_reply.started": "2022-11-07T09:41:39.779604Z"
    }
   },
   "outputs": [],
   "source": [
    "melted_archive.rating_numerator.value_counts()"
   ]
  },
  {
   "cell_type": "markdown",
   "metadata": {},
   "source": [
    "Interesting set of values, let's get digging"
   ]
  },
  {
   "cell_type": "code",
   "execution_count": null,
   "metadata": {
    "execution": {
     "iopub.execute_input": "2022-11-07T09:41:39.799299Z",
     "iopub.status.busy": "2022-11-07T09:41:39.798205Z",
     "iopub.status.idle": "2022-11-07T09:41:39.835219Z",
     "shell.execute_reply": "2022-11-07T09:41:39.833837Z",
     "shell.execute_reply.started": "2022-11-07T09:41:39.799233Z"
    }
   },
   "outputs": [],
   "source": [
    "melted_archive.loc[lambda x:x['rating_numerator'] == 0]"
   ]
  },
  {
   "cell_type": "markdown",
   "metadata": {},
   "source": [
    "I checked the tweet and it wasn't an actual rating of a dog, so dropping it"
   ]
  },
  {
   "cell_type": "code",
   "execution_count": null,
   "metadata": {
    "execution": {
     "iopub.execute_input": "2022-11-07T09:41:39.837274Z",
     "iopub.status.busy": "2022-11-07T09:41:39.836796Z",
     "iopub.status.idle": "2022-11-07T09:41:39.846297Z",
     "shell.execute_reply": "2022-11-07T09:41:39.844676Z",
     "shell.execute_reply.started": "2022-11-07T09:41:39.837228Z"
    }
   },
   "outputs": [],
   "source": [
    "melted_archive.drop(index=2343, inplace=True)"
   ]
  },
  {
   "cell_type": "markdown",
   "metadata": {},
   "source": [
    "We have some 1's and 2's, gonna check what could have caused it"
   ]
  },
  {
   "cell_type": "code",
   "execution_count": null,
   "metadata": {
    "execution": {
     "iopub.execute_input": "2022-11-07T09:41:39.848928Z",
     "iopub.status.busy": "2022-11-07T09:41:39.848168Z",
     "iopub.status.idle": "2022-11-07T09:41:39.894568Z",
     "shell.execute_reply": "2022-11-07T09:41:39.892881Z",
     "shell.execute_reply.started": "2022-11-07T09:41:39.848880Z"
    }
   },
   "outputs": [],
   "source": [
    "melted_archive.loc[lambda x:x['rating_numerator'] == 1]\n",
    "melted_archive.loc[lambda x:x['rating_numerator'] == 2]"
   ]
  },
  {
   "cell_type": "markdown",
   "metadata": {},
   "source": [
    "Seems like all the ratings are valid except from the ones fixed earlier"
   ]
  },
  {
   "cell_type": "markdown",
   "metadata": {},
   "source": [
    "## 10. Inconsistent Naming in the 'p1','p2' and 'p3' columns in the prediction dataframe"
   ]
  },
  {
   "cell_type": "code",
   "execution_count": null,
   "metadata": {
    "execution": {
     "iopub.execute_input": "2022-11-07T09:41:39.896595Z",
     "iopub.status.busy": "2022-11-07T09:41:39.896213Z",
     "iopub.status.idle": "2022-11-07T09:41:39.914594Z",
     "shell.execute_reply": "2022-11-07T09:41:39.913521Z",
     "shell.execute_reply.started": "2022-11-07T09:41:39.896560Z"
    }
   },
   "outputs": [],
   "source": [
    "melted_archive.info()"
   ]
  },
  {
   "cell_type": "code",
   "execution_count": null,
   "metadata": {
    "execution": {
     "iopub.execute_input": "2022-11-07T09:41:39.916532Z",
     "iopub.status.busy": "2022-11-07T09:41:39.915945Z",
     "iopub.status.idle": "2022-11-07T09:41:39.937465Z",
     "shell.execute_reply": "2022-11-07T09:41:39.935747Z",
     "shell.execute_reply.started": "2022-11-07T09:41:39.916497Z"
    }
   },
   "outputs": [],
   "source": [
    "melted_archive.iloc[:, 12:21].head()"
   ]
  },
  {
   "cell_type": "markdown",
   "metadata": {},
   "source": [
    "As we can see, the values in the p1, p2 and p3 columns are not consistent in their cases, we can fix that"
   ]
  },
  {
   "cell_type": "code",
   "execution_count": null,
   "metadata": {
    "execution": {
     "iopub.execute_input": "2022-11-07T09:41:39.940297Z",
     "iopub.status.busy": "2022-11-07T09:41:39.939447Z",
     "iopub.status.idle": "2022-11-07T09:41:39.955259Z",
     "shell.execute_reply": "2022-11-07T09:41:39.953925Z",
     "shell.execute_reply.started": "2022-11-07T09:41:39.940250Z"
    }
   },
   "outputs": [],
   "source": [
    "#using the .title() method\n",
    "melted_archive.p1 = melted_archive.p1.str.title()\n",
    "melted_archive.p2 = melted_archive.p2.str.title()\n",
    "melted_archive.p3 = melted_archive.p3.str.title()"
   ]
  },
  {
   "cell_type": "code",
   "execution_count": 54,
   "metadata": {
    "execution": {
     "iopub.execute_input": "2022-11-07T09:41:39.958018Z",
     "iopub.status.busy": "2022-11-07T09:41:39.957278Z",
     "iopub.status.idle": "2022-11-07T09:41:39.980172Z",
     "shell.execute_reply": "2022-11-07T09:41:39.978831Z",
     "shell.execute_reply.started": "2022-11-07T09:41:39.957970Z"
    }
   },
   "outputs": [
    {
     "data": {
      "text/html": [
       "<div>\n",
       "<style scoped>\n",
       "    .dataframe tbody tr th:only-of-type {\n",
       "        vertical-align: middle;\n",
       "    }\n",
       "\n",
       "    .dataframe tbody tr th {\n",
       "        vertical-align: top;\n",
       "    }\n",
       "\n",
       "    .dataframe thead th {\n",
       "        text-align: right;\n",
       "    }\n",
       "</style>\n",
       "<table border=\"1\" class=\"dataframe\">\n",
       "  <thead>\n",
       "    <tr style=\"text-align: right;\">\n",
       "      <th></th>\n",
       "      <th>p1</th>\n",
       "      <th>p1_conf</th>\n",
       "      <th>p1_dog</th>\n",
       "      <th>p2</th>\n",
       "      <th>p2_conf</th>\n",
       "      <th>p2_dog</th>\n",
       "      <th>p3</th>\n",
       "      <th>p3_conf</th>\n",
       "      <th>p3_dog</th>\n",
       "    </tr>\n",
       "  </thead>\n",
       "  <tbody>\n",
       "    <tr>\n",
       "      <th>30</th>\n",
       "      <td>Blenheim_spaniel</td>\n",
       "      <td>0.972494</td>\n",
       "      <td>True</td>\n",
       "      <td>Shih-Tzu</td>\n",
       "      <td>0.006630</td>\n",
       "      <td>True</td>\n",
       "      <td>Bernese_mountain_dog</td>\n",
       "      <td>0.006239</td>\n",
       "      <td>True</td>\n",
       "    </tr>\n",
       "    <tr>\n",
       "      <th>3435</th>\n",
       "      <td>Staffordshire_bullterrier</td>\n",
       "      <td>0.151113</td>\n",
       "      <td>True</td>\n",
       "      <td>boxer</td>\n",
       "      <td>0.135697</td>\n",
       "      <td>True</td>\n",
       "      <td>American_Staffordshire_terrier</td>\n",
       "      <td>0.086591</td>\n",
       "      <td>True</td>\n",
       "    </tr>\n",
       "    <tr>\n",
       "      <th>77</th>\n",
       "      <td>Siberian_husky</td>\n",
       "      <td>0.245048</td>\n",
       "      <td>True</td>\n",
       "      <td>Pembroke</td>\n",
       "      <td>0.223716</td>\n",
       "      <td>True</td>\n",
       "      <td>dingo</td>\n",
       "      <td>0.160753</td>\n",
       "      <td>False</td>\n",
       "    </tr>\n",
       "    <tr>\n",
       "      <th>2611</th>\n",
       "      <td>NaN</td>\n",
       "      <td>NaN</td>\n",
       "      <td>NaN</td>\n",
       "      <td>NaN</td>\n",
       "      <td>NaN</td>\n",
       "      <td>NaN</td>\n",
       "      <td>NaN</td>\n",
       "      <td>NaN</td>\n",
       "      <td>NaN</td>\n",
       "    </tr>\n",
       "    <tr>\n",
       "      <th>2491</th>\n",
       "      <td>bull_mastiff</td>\n",
       "      <td>0.989316</td>\n",
       "      <td>True</td>\n",
       "      <td>boxer</td>\n",
       "      <td>0.007043</td>\n",
       "      <td>True</td>\n",
       "      <td>French_bulldog</td>\n",
       "      <td>0.001740</td>\n",
       "      <td>True</td>\n",
       "    </tr>\n",
       "    <tr>\n",
       "      <th>3702</th>\n",
       "      <td>basset</td>\n",
       "      <td>0.556373</td>\n",
       "      <td>True</td>\n",
       "      <td>beagle</td>\n",
       "      <td>0.201675</td>\n",
       "      <td>True</td>\n",
       "      <td>bloodhound</td>\n",
       "      <td>0.110848</td>\n",
       "      <td>True</td>\n",
       "    </tr>\n",
       "    <tr>\n",
       "      <th>3880</th>\n",
       "      <td>toy_poodle</td>\n",
       "      <td>0.419427</td>\n",
       "      <td>True</td>\n",
       "      <td>miniature_poodle</td>\n",
       "      <td>0.237067</td>\n",
       "      <td>True</td>\n",
       "      <td>swing</td>\n",
       "      <td>0.104193</td>\n",
       "      <td>False</td>\n",
       "    </tr>\n",
       "    <tr>\n",
       "      <th>2737</th>\n",
       "      <td>basenji</td>\n",
       "      <td>0.183283</td>\n",
       "      <td>True</td>\n",
       "      <td>Italian_greyhound</td>\n",
       "      <td>0.136012</td>\n",
       "      <td>True</td>\n",
       "      <td>whippet</td>\n",
       "      <td>0.060130</td>\n",
       "      <td>True</td>\n",
       "    </tr>\n",
       "    <tr>\n",
       "      <th>3613</th>\n",
       "      <td>Airedale</td>\n",
       "      <td>0.583122</td>\n",
       "      <td>True</td>\n",
       "      <td>silky_terrier</td>\n",
       "      <td>0.129567</td>\n",
       "      <td>True</td>\n",
       "      <td>Lakeland_terrier</td>\n",
       "      <td>0.094727</td>\n",
       "      <td>True</td>\n",
       "    </tr>\n",
       "    <tr>\n",
       "      <th>2277</th>\n",
       "      <td>patio</td>\n",
       "      <td>0.521788</td>\n",
       "      <td>False</td>\n",
       "      <td>prison</td>\n",
       "      <td>0.149544</td>\n",
       "      <td>False</td>\n",
       "      <td>restaurant</td>\n",
       "      <td>0.027153</td>\n",
       "      <td>False</td>\n",
       "    </tr>\n",
       "  </tbody>\n",
       "</table>\n",
       "</div>"
      ],
      "text/plain": [
       "                             p1   p1_conf p1_dog                 p2   p2_conf  \\\n",
       "30             Blenheim_spaniel  0.972494   True           Shih-Tzu  0.006630   \n",
       "3435  Staffordshire_bullterrier  0.151113   True              boxer  0.135697   \n",
       "77               Siberian_husky  0.245048   True           Pembroke  0.223716   \n",
       "2611                        NaN       NaN    NaN                NaN       NaN   \n",
       "2491               bull_mastiff  0.989316   True              boxer  0.007043   \n",
       "3702                     basset  0.556373   True             beagle  0.201675   \n",
       "3880                 toy_poodle  0.419427   True   miniature_poodle  0.237067   \n",
       "2737                    basenji  0.183283   True  Italian_greyhound  0.136012   \n",
       "3613                   Airedale  0.583122   True      silky_terrier  0.129567   \n",
       "2277                      patio  0.521788  False             prison  0.149544   \n",
       "\n",
       "     p2_dog                              p3   p3_conf p3_dog  \n",
       "30     True            Bernese_mountain_dog  0.006239   True  \n",
       "3435   True  American_Staffordshire_terrier  0.086591   True  \n",
       "77     True                           dingo  0.160753  False  \n",
       "2611    NaN                             NaN       NaN    NaN  \n",
       "2491   True                  French_bulldog  0.001740   True  \n",
       "3702   True                      bloodhound  0.110848   True  \n",
       "3880   True                           swing  0.104193  False  \n",
       "2737   True                         whippet  0.060130   True  \n",
       "3613   True                Lakeland_terrier  0.094727   True  \n",
       "2277  False                      restaurant  0.027153  False  "
      ]
     },
     "execution_count": 54,
     "metadata": {},
     "output_type": "execute_result"
    }
   ],
   "source": [
    "#verifying changes\n",
    "melted_archive.iloc[:, 12:21].sample(10)"
   ]
  },
  {
   "cell_type": "markdown",
   "metadata": {},
   "source": [
    "## 11. Choosing the best prediction for the dog breed"
   ]
  },
  {
   "cell_type": "markdown",
   "metadata": {},
   "source": [
    "there are 3 predictions for the dog breed in the \"image_predictions_df\" but maybe the best prediction will suffice to reduce the size of the final dataframe."
   ]
  },
  {
   "cell_type": "code",
   "execution_count": 55,
   "metadata": {
    "execution": {
     "iopub.execute_input": "2022-11-07T09:41:39.982477Z",
     "iopub.status.busy": "2022-11-07T09:41:39.981743Z",
     "iopub.status.idle": "2022-11-07T09:41:40.092082Z",
     "shell.execute_reply": "2022-11-07T09:41:40.090839Z",
     "shell.execute_reply.started": "2022-11-07T09:41:39.982433Z"
    }
   },
   "outputs": [
    {
     "data": {
      "text/html": [
       "<div>\n",
       "<style scoped>\n",
       "    .dataframe tbody tr th:only-of-type {\n",
       "        vertical-align: middle;\n",
       "    }\n",
       "\n",
       "    .dataframe tbody tr th {\n",
       "        vertical-align: top;\n",
       "    }\n",
       "\n",
       "    .dataframe thead th {\n",
       "        text-align: right;\n",
       "    }\n",
       "</style>\n",
       "<table border=\"1\" class=\"dataframe\">\n",
       "  <thead>\n",
       "    <tr style=\"text-align: right;\">\n",
       "      <th></th>\n",
       "      <th>tweet_id</th>\n",
       "      <th>timestamp</th>\n",
       "      <th>source</th>\n",
       "      <th>text</th>\n",
       "      <th>expanded_urls</th>\n",
       "      <th>rating_numerator</th>\n",
       "      <th>rating_denominator</th>\n",
       "      <th>name</th>\n",
       "      <th>favorite_count</th>\n",
       "      <th>retweet_count</th>\n",
       "      <th>...</th>\n",
       "      <th>p1_dog</th>\n",
       "      <th>p2</th>\n",
       "      <th>p2_conf</th>\n",
       "      <th>p2_dog</th>\n",
       "      <th>p3</th>\n",
       "      <th>p3_conf</th>\n",
       "      <th>p3_dog</th>\n",
       "      <th>dog_type</th>\n",
       "      <th>breed</th>\n",
       "      <th>confidence</th>\n",
       "    </tr>\n",
       "  </thead>\n",
       "  <tbody>\n",
       "    <tr>\n",
       "      <th>2021</th>\n",
       "      <td>667405339315146752</td>\n",
       "      <td>2015-11-19 18:13:27</td>\n",
       "      <td>Twitter for iPhone</td>\n",
       "      <td>This is Biden. Biden just tripped... 7/10 http...</td>\n",
       "      <td>https://twitter.com/dog_rates/status/667405339...</td>\n",
       "      <td>7</td>\n",
       "      <td>10</td>\n",
       "      <td>Biden</td>\n",
       "      <td>489.0</td>\n",
       "      <td>234.0</td>\n",
       "      <td>...</td>\n",
       "      <td>True</td>\n",
       "      <td>Leonberg</td>\n",
       "      <td>0.127998</td>\n",
       "      <td>True</td>\n",
       "      <td>golden_retriever</td>\n",
       "      <td>0.069357</td>\n",
       "      <td>True</td>\n",
       "      <td>None</td>\n",
       "      <td>Saint_Bernard</td>\n",
       "      <td>0.381377</td>\n",
       "    </tr>\n",
       "    <tr>\n",
       "      <th>2020</th>\n",
       "      <td>667435689202614272</td>\n",
       "      <td>2015-11-19 20:14:03</td>\n",
       "      <td>Twitter for iPhone</td>\n",
       "      <td>Ermergerd 12/10 https://t.co/PQni2sjPsm</td>\n",
       "      <td>https://twitter.com/dog_rates/status/667435689...</td>\n",
       "      <td>12</td>\n",
       "      <td>10</td>\n",
       "      <td>NaN</td>\n",
       "      <td>326.0</td>\n",
       "      <td>89.0</td>\n",
       "      <td>...</td>\n",
       "      <td>True</td>\n",
       "      <td>miniature_pinscher</td>\n",
       "      <td>0.000450</td>\n",
       "      <td>True</td>\n",
       "      <td>black-and-tan_coonhound</td>\n",
       "      <td>0.000157</td>\n",
       "      <td>True</td>\n",
       "      <td>None</td>\n",
       "      <td>Rottweiler</td>\n",
       "      <td>0.999091</td>\n",
       "    </tr>\n",
       "  </tbody>\n",
       "</table>\n",
       "<p>2 rows × 24 columns</p>\n",
       "</div>"
      ],
      "text/plain": [
       "                tweet_id           timestamp              source  \\\n",
       "2021  667405339315146752 2015-11-19 18:13:27  Twitter for iPhone   \n",
       "2020  667435689202614272 2015-11-19 20:14:03  Twitter for iPhone   \n",
       "\n",
       "                                                   text  \\\n",
       "2021  This is Biden. Biden just tripped... 7/10 http...   \n",
       "2020            Ermergerd 12/10 https://t.co/PQni2sjPsm   \n",
       "\n",
       "                                          expanded_urls  rating_numerator  \\\n",
       "2021  https://twitter.com/dog_rates/status/667405339...                 7   \n",
       "2020  https://twitter.com/dog_rates/status/667435689...                12   \n",
       "\n",
       "      rating_denominator   name  favorite_count  retweet_count     ...      \\\n",
       "2021                  10  Biden           489.0          234.0     ...       \n",
       "2020                  10    NaN           326.0           89.0     ...       \n",
       "\n",
       "     p1_dog                  p2   p2_conf  p2_dog                       p3  \\\n",
       "2021   True            Leonberg  0.127998    True         golden_retriever   \n",
       "2020   True  miniature_pinscher  0.000450    True  black-and-tan_coonhound   \n",
       "\n",
       "       p3_conf  p3_dog dog_type          breed  confidence  \n",
       "2021  0.069357    True     None  Saint_Bernard    0.381377  \n",
       "2020  0.000157    True     None     Rottweiler    0.999091  \n",
       "\n",
       "[2 rows x 24 columns]"
      ]
     },
     "execution_count": 55,
     "metadata": {},
     "output_type": "execute_result"
    }
   ],
   "source": [
    "#lists to use to save our picks\n",
    "breed = []\n",
    "confidence = []\n",
    "\n",
    "# a function that iterates through the dog breed predictions in order to determine the best forecast.\n",
    "def breed_confidence(row):\n",
    "    if row['p1_dog'] == True:\n",
    "        breed.append(row['p1'])\n",
    "        confidence.append(row['p1_conf'])\n",
    "    elif row['p2_dog'] == True:\n",
    "        breed.append(row['p2'])\n",
    "        confidence.append(row['p2_conf'])\n",
    "    elif row['p3_dog'] == True:\n",
    "        breed.append(row['p3'])\n",
    "        confidence.append(row['p3_conf'])\n",
    "    else:\n",
    "        breed.append('Unknown')\n",
    "        confidence.append(0)\n",
    "        \n",
    "# call function using pandas apply by columns\n",
    "melted_archive.apply(breed_confidence, axis=1)\n",
    "\n",
    "# add lists created to master dataframe\n",
    "melted_archive['breed'] = breed\n",
    "melted_archive['confidence'] = confidence\n",
    "\n",
    "# check the columns have been added\n",
    "melted_archive.head(2)"
   ]
  },
  {
   "cell_type": "code",
   "execution_count": 56,
   "metadata": {
    "execution": {
     "iopub.execute_input": "2022-11-07T09:41:40.093928Z",
     "iopub.status.busy": "2022-11-07T09:41:40.093492Z",
     "iopub.status.idle": "2022-11-07T09:41:40.104623Z",
     "shell.execute_reply": "2022-11-07T09:41:40.103259Z",
     "shell.execute_reply.started": "2022-11-07T09:41:40.093893Z"
    }
   },
   "outputs": [],
   "source": [
    "# we would be dropping the previous predictions columns since we have no further use for them\n",
    "melted_archive.drop(['img_num','p1','p1_conf','p1_dog','p2','p2_conf','p2_dog','p3','p3_conf','p3_dog'],axis=1, inplace=True)"
   ]
  },
  {
   "cell_type": "code",
   "execution_count": 57,
   "metadata": {
    "execution": {
     "iopub.execute_input": "2022-11-07T09:41:40.107235Z",
     "iopub.status.busy": "2022-11-07T09:41:40.106251Z",
     "iopub.status.idle": "2022-11-07T09:41:40.126859Z",
     "shell.execute_reply": "2022-11-07T09:41:40.125178Z",
     "shell.execute_reply.started": "2022-11-07T09:41:40.107184Z"
    }
   },
   "outputs": [
    {
     "name": "stdout",
     "output_type": "stream",
     "text": [
      "<class 'pandas.core.frame.DataFrame'>\n",
      "Int64Index: 2097 entries, 2021 to 6856\n",
      "Data columns (total 14 columns):\n",
      "tweet_id              2097 non-null int64\n",
      "timestamp             2097 non-null datetime64[ns]\n",
      "source                2097 non-null object\n",
      "text                  2097 non-null object\n",
      "expanded_urls         2094 non-null object\n",
      "rating_numerator      2097 non-null int64\n",
      "rating_denominator    2097 non-null int64\n",
      "name                  1404 non-null object\n",
      "favorite_count        2097 non-null float64\n",
      "retweet_count         2097 non-null float64\n",
      "jpg_url               1971 non-null object\n",
      "dog_type              2097 non-null object\n",
      "breed                 2097 non-null object\n",
      "confidence            2097 non-null float64\n",
      "dtypes: datetime64[ns](1), float64(3), int64(3), object(7)\n",
      "memory usage: 245.7+ KB\n"
     ]
    }
   ],
   "source": [
    "#verifying the dropped columns\n",
    "melted_archive.info()"
   ]
  },
  {
   "cell_type": "markdown",
   "metadata": {},
   "source": [
    "<a id='store'></a>\n",
    "# Storing Data"
   ]
  },
  {
   "cell_type": "code",
   "execution_count": 58,
   "metadata": {
    "execution": {
     "iopub.execute_input": "2022-11-07T09:41:40.129026Z",
     "iopub.status.busy": "2022-11-07T09:41:40.128565Z",
     "iopub.status.idle": "2022-11-07T09:41:40.168052Z",
     "shell.execute_reply": "2022-11-07T09:41:40.167039Z",
     "shell.execute_reply.started": "2022-11-07T09:41:40.128975Z"
    }
   },
   "outputs": [],
   "source": [
    "#Saving the final data to a csv file\n",
    "melted_archive.to_csv('twitter_archive_master.csv', index=False)"
   ]
  },
  {
   "cell_type": "markdown",
   "metadata": {},
   "source": [
    "<a id='analysis'></a>\n",
    "# Analyzing and Visualizing Data"
   ]
  },
  {
   "cell_type": "markdown",
   "metadata": {},
   "source": [
    "In this section, analyze and visualize your wrangled data. You must produce at least three (3) insights and one (1) visualization.\n",
    "\n",
    "1. Most popular dog names\n",
    "2. Most rated dog breed\n",
    "3. relationship between favorite_count and retweet_count "
   ]
  },
  {
   "cell_type": "markdown",
   "metadata": {},
   "source": [
    "## 1. Most popular dog names"
   ]
  },
  {
   "cell_type": "code",
   "execution_count": 59,
   "metadata": {
    "execution": {
     "iopub.execute_input": "2022-11-07T09:41:40.170651Z",
     "iopub.status.busy": "2022-11-07T09:41:40.169845Z",
     "iopub.status.idle": "2022-11-07T09:41:40.210829Z",
     "shell.execute_reply": "2022-11-07T09:41:40.209604Z",
     "shell.execute_reply.started": "2022-11-07T09:41:40.170601Z"
    }
   },
   "outputs": [
    {
     "name": "stdout",
     "output_type": "stream",
     "text": [
      "<class 'pandas.core.frame.DataFrame'>\n",
      "RangeIndex: 2097 entries, 0 to 2096\n",
      "Data columns (total 14 columns):\n",
      "tweet_id              2097 non-null int64\n",
      "timestamp             2097 non-null object\n",
      "source                2097 non-null object\n",
      "text                  2097 non-null object\n",
      "expanded_urls         2094 non-null object\n",
      "rating_numerator      2097 non-null int64\n",
      "rating_denominator    2097 non-null int64\n",
      "name                  1404 non-null object\n",
      "favorite_count        2097 non-null float64\n",
      "retweet_count         2097 non-null float64\n",
      "jpg_url               1971 non-null object\n",
      "dog_type              2097 non-null object\n",
      "breed                 2097 non-null object\n",
      "confidence            2097 non-null float64\n",
      "dtypes: float64(3), int64(3), object(8)\n",
      "memory usage: 229.4+ KB\n"
     ]
    }
   ],
   "source": [
    "final_archive = pd.read_csv('./twitter_archive_master.csv')\n",
    "final_archive.info()"
   ]
  },
  {
   "cell_type": "code",
   "execution_count": 60,
   "metadata": {
    "execution": {
     "iopub.execute_input": "2022-11-07T09:41:40.212658Z",
     "iopub.status.busy": "2022-11-07T09:41:40.212272Z",
     "iopub.status.idle": "2022-11-07T09:41:40.232308Z",
     "shell.execute_reply": "2022-11-07T09:41:40.230857Z",
     "shell.execute_reply.started": "2022-11-07T09:41:40.212625Z"
    }
   },
   "outputs": [],
   "source": [
    "dog_names = final_archive.query('name == name').groupby(['name']).count()[['tweet_id']]"
   ]
  },
  {
   "cell_type": "code",
   "execution_count": 61,
   "metadata": {
    "execution": {
     "iopub.execute_input": "2022-11-07T09:41:40.234519Z",
     "iopub.status.busy": "2022-11-07T09:41:40.234081Z",
     "iopub.status.idle": "2022-11-07T09:41:40.248615Z",
     "shell.execute_reply": "2022-11-07T09:41:40.247367Z",
     "shell.execute_reply.started": "2022-11-07T09:41:40.234486Z"
    }
   },
   "outputs": [
    {
     "data": {
      "text/html": [
       "<div>\n",
       "<style scoped>\n",
       "    .dataframe tbody tr th:only-of-type {\n",
       "        vertical-align: middle;\n",
       "    }\n",
       "\n",
       "    .dataframe tbody tr th {\n",
       "        vertical-align: top;\n",
       "    }\n",
       "\n",
       "    .dataframe thead th {\n",
       "        text-align: right;\n",
       "    }\n",
       "</style>\n",
       "<table border=\"1\" class=\"dataframe\">\n",
       "  <thead>\n",
       "    <tr style=\"text-align: right;\">\n",
       "      <th></th>\n",
       "      <th>tweet_id</th>\n",
       "    </tr>\n",
       "    <tr>\n",
       "      <th>name</th>\n",
       "      <th></th>\n",
       "    </tr>\n",
       "  </thead>\n",
       "  <tbody>\n",
       "    <tr>\n",
       "      <th>Charlie</th>\n",
       "      <td>11</td>\n",
       "    </tr>\n",
       "    <tr>\n",
       "      <th>Lucy</th>\n",
       "      <td>11</td>\n",
       "    </tr>\n",
       "    <tr>\n",
       "      <th>Cooper</th>\n",
       "      <td>10</td>\n",
       "    </tr>\n",
       "    <tr>\n",
       "      <th>Oliver</th>\n",
       "      <td>10</td>\n",
       "    </tr>\n",
       "    <tr>\n",
       "      <th>Penny</th>\n",
       "      <td>9</td>\n",
       "    </tr>\n",
       "    <tr>\n",
       "      <th>Tucker</th>\n",
       "      <td>9</td>\n",
       "    </tr>\n",
       "    <tr>\n",
       "      <th>Sadie</th>\n",
       "      <td>8</td>\n",
       "    </tr>\n",
       "    <tr>\n",
       "      <th>Lola</th>\n",
       "      <td>8</td>\n",
       "    </tr>\n",
       "    <tr>\n",
       "      <th>Winston</th>\n",
       "      <td>8</td>\n",
       "    </tr>\n",
       "    <tr>\n",
       "      <th>Daisy</th>\n",
       "      <td>7</td>\n",
       "    </tr>\n",
       "  </tbody>\n",
       "</table>\n",
       "</div>"
      ],
      "text/plain": [
       "         tweet_id\n",
       "name             \n",
       "Charlie        11\n",
       "Lucy           11\n",
       "Cooper         10\n",
       "Oliver         10\n",
       "Penny           9\n",
       "Tucker          9\n",
       "Sadie           8\n",
       "Lola            8\n",
       "Winston         8\n",
       "Daisy           7"
      ]
     },
     "execution_count": 61,
     "metadata": {},
     "output_type": "execute_result"
    }
   ],
   "source": [
    "Fav_10 = dog_names.sort_values(by='tweet_id', ascending=False).head(10)\n",
    "Fav_10"
   ]
  },
  {
   "cell_type": "code",
   "execution_count": 62,
   "metadata": {},
   "outputs": [],
   "source": [
    "Fav_10.reset_index(inplace=True)"
   ]
  },
  {
   "cell_type": "code",
   "execution_count": 63,
   "metadata": {},
   "outputs": [
    {
     "data": {
      "image/png": "[encoded data removed]",
      "text/plain": [
       "<matplotlib.figure.Figure at 0x7f1e79626ef0>"
      ]
     },
     "metadata": {
      "needs_background": "light"
     },
     "output_type": "display_data"
    }
   ],
   "source": [
    "plt.bar(Fav_10.name, Fav_10.tweet_id, width=0.4)\n",
    "plt.xlabel('Name of Dogs')\n",
    "plt.ylabel('Number of Tweets')\n",
    "plt.title('Number of Tweets per Dog Name')\n",
    "plt.show()"
   ]
  },
  {
   "cell_type": "markdown",
   "metadata": {},
   "source": [
    "As we can see from the dataframe above, the 10 most popular dog names are, Lucy, Charlie, Oliver, Cooper, Tucker, Penny, Sadie, Winston, Lola and Daisy"
   ]
  },
  {
   "cell_type": "markdown",
   "metadata": {},
   "source": [
    "## 2. Most rated dog breeds"
   ]
  },
  {
   "cell_type": "markdown",
   "metadata": {},
   "source": [
    "We are going to get a rating percentage for the dogs by dividing the numerator by the denominator and converting the fractions to percentages"
   ]
  },
  {
   "cell_type": "code",
   "execution_count": 64,
   "metadata": {
    "execution": {
     "iopub.execute_input": "2022-11-07T09:41:40.250391Z",
     "iopub.status.busy": "2022-11-07T09:41:40.249992Z",
     "iopub.status.idle": "2022-11-07T09:41:40.312234Z",
     "shell.execute_reply": "2022-11-07T09:41:40.311229Z",
     "shell.execute_reply.started": "2022-11-07T09:41:40.250358Z"
    }
   },
   "outputs": [],
   "source": [
    "final_archive['rating_percent'] = final_archive.apply(lambda x: (x.rating_numerator / x.rating_denominator)*100, axis=1)"
   ]
  },
  {
   "cell_type": "code",
   "execution_count": 65,
   "metadata": {
    "execution": {
     "iopub.execute_input": "2022-11-07T09:41:40.314971Z",
     "iopub.status.busy": "2022-11-07T09:41:40.313760Z",
     "iopub.status.idle": "2022-11-07T09:41:40.326555Z",
     "shell.execute_reply": "2022-11-07T09:41:40.325141Z",
     "shell.execute_reply.started": "2022-11-07T09:41:40.314922Z"
    }
   },
   "outputs": [
    {
     "data": {
      "text/plain": [
       "1504    17760.000000\n",
       "674      4200.000000\n",
       "1259      750.000000\n",
       "1156      342.857143\n",
       "2024      270.000000\n",
       "926       260.000000\n",
       "1369      140.000000\n",
       "1927      140.000000\n",
       "1750      140.000000\n",
       "177       140.000000\n",
       "1866      140.000000\n",
       "1358      140.000000\n",
       "1354      140.000000\n",
       "1702      140.000000\n",
       "1477      140.000000\n",
       "200       140.000000\n",
       "1175      140.000000\n",
       "157       140.000000\n",
       "1213      140.000000\n",
       "1342      140.000000\n",
       "1229      140.000000\n",
       "1912      140.000000\n",
       "147       140.000000\n",
       "1315      140.000000\n",
       "1296      140.000000\n",
       "1299      140.000000\n",
       "142       140.000000\n",
       "1769      140.000000\n",
       "1865      140.000000\n",
       "1774      140.000000\n",
       "            ...     \n",
       "464        30.000000\n",
       "1008       30.000000\n",
       "970        30.000000\n",
       "1015       30.000000\n",
       "40         30.000000\n",
       "1037       30.000000\n",
       "103        30.000000\n",
       "745        30.000000\n",
       "854        30.000000\n",
       "72         30.000000\n",
       "334        30.000000\n",
       "1210       30.000000\n",
       "1019       30.000000\n",
       "791        30.000000\n",
       "578        30.000000\n",
       "64         20.000000\n",
       "128        20.000000\n",
       "977        20.000000\n",
       "887        20.000000\n",
       "670        20.000000\n",
       "35         20.000000\n",
       "484        20.000000\n",
       "74         20.000000\n",
       "891        20.000000\n",
       "111        20.000000\n",
       "657        10.000000\n",
       "18         10.000000\n",
       "1067       10.000000\n",
       "99         10.000000\n",
       "1445        0.000000\n",
       "Name: rating_percent, Length: 2097, dtype: float64"
      ]
     },
     "execution_count": 65,
     "metadata": {},
     "output_type": "execute_result"
    }
   ],
   "source": [
    "final_archive.rating_percent.sort_values(ascending=False)"
   ]
  },
  {
   "cell_type": "code",
   "execution_count": 66,
   "metadata": {
    "execution": {
     "iopub.execute_input": "2022-11-07T09:41:40.328760Z",
     "iopub.status.busy": "2022-11-07T09:41:40.327886Z",
     "iopub.status.idle": "2022-11-07T09:41:40.341677Z",
     "shell.execute_reply": "2022-11-07T09:41:40.340167Z",
     "shell.execute_reply.started": "2022-11-07T09:41:40.328715Z"
    }
   },
   "outputs": [
    {
     "data": {
      "text/plain": [
       "tweet_id                                             670842764863651840\n",
       "timestamp                                           2015-11-29 05:52:33\n",
       "source                                               Twitter for iPhone\n",
       "text                  After so many requests... here you go.\\n\\nGood...\n",
       "expanded_urls         https://twitter.com/dog_rates/status/670842764...\n",
       "rating_numerator                                                    420\n",
       "rating_denominator                                                   10\n",
       "name                                                                NaN\n",
       "favorite_count                                                     7989\n",
       "retweet_count                                                      4324\n",
       "jpg_url                 https://pbs.twimg.com/media/CU9P717W4AAOlKx.jpg\n",
       "dog_type                                                           None\n",
       "breed                                                           Unknown\n",
       "confidence                                                            0\n",
       "rating_percent                                                     4200\n",
       "Name: 674, dtype: object"
      ]
     },
     "execution_count": 66,
     "metadata": {},
     "output_type": "execute_result"
    }
   ],
   "source": [
    "#investigating the one with the highest rating\n",
    "final_archive.iloc[674]"
   ]
  },
  {
   "cell_type": "code",
   "execution_count": 67,
   "metadata": {
    "execution": {
     "iopub.execute_input": "2022-11-07T09:42:59.665558Z",
     "iopub.status.busy": "2022-11-07T09:42:59.665147Z",
     "iopub.status.idle": "2022-11-07T09:42:59.674802Z",
     "shell.execute_reply": "2022-11-07T09:42:59.673668Z",
     "shell.execute_reply.started": "2022-11-07T09:42:59.665523Z"
    }
   },
   "outputs": [],
   "source": [
    "top_10 = pd.DataFrame(final_archive.groupby('breed')['rating_percent'].mean()).sort_values(by= 'rating_percent', ascending=False).head(10)"
   ]
  },
  {
   "cell_type": "code",
   "execution_count": 68,
   "metadata": {
    "execution": {
     "iopub.execute_input": "2022-11-07T09:44:17.942603Z",
     "iopub.status.busy": "2022-11-07T09:44:17.942005Z",
     "iopub.status.idle": "2022-11-07T09:44:17.951003Z",
     "shell.execute_reply": "2022-11-07T09:44:17.949793Z",
     "shell.execute_reply.started": "2022-11-07T09:44:17.942551Z"
    }
   },
   "outputs": [],
   "source": [
    "top_10.reset_index(inplace=True)"
   ]
  },
  {
   "cell_type": "code",
   "execution_count": 69,
   "metadata": {
    "execution": {
     "iopub.execute_input": "2022-11-07T09:44:56.375891Z",
     "iopub.status.busy": "2022-11-07T09:44:56.375452Z",
     "iopub.status.idle": "2022-11-07T09:44:56.388337Z",
     "shell.execute_reply": "2022-11-07T09:44:56.386977Z",
     "shell.execute_reply.started": "2022-11-07T09:44:56.375858Z"
    }
   },
   "outputs": [
    {
     "data": {
      "text/html": [
       "<div>\n",
       "<style scoped>\n",
       "    .dataframe tbody tr th:only-of-type {\n",
       "        vertical-align: middle;\n",
       "    }\n",
       "\n",
       "    .dataframe tbody tr th {\n",
       "        vertical-align: top;\n",
       "    }\n",
       "\n",
       "    .dataframe thead th {\n",
       "        text-align: right;\n",
       "    }\n",
       "</style>\n",
       "<table border=\"1\" class=\"dataframe\">\n",
       "  <thead>\n",
       "    <tr style=\"text-align: right;\">\n",
       "      <th></th>\n",
       "      <th>breed</th>\n",
       "      <th>rating_percent</th>\n",
       "    </tr>\n",
       "  </thead>\n",
       "  <tbody>\n",
       "    <tr>\n",
       "      <th>0</th>\n",
       "      <td>clumber</td>\n",
       "      <td>270.000000</td>\n",
       "    </tr>\n",
       "    <tr>\n",
       "      <th>1</th>\n",
       "      <td>Unknown</td>\n",
       "      <td>148.399072</td>\n",
       "    </tr>\n",
       "    <tr>\n",
       "      <th>2</th>\n",
       "      <td>Bouvier_des_Flandres</td>\n",
       "      <td>130.000000</td>\n",
       "    </tr>\n",
       "    <tr>\n",
       "      <th>3</th>\n",
       "      <td>Pomeranian</td>\n",
       "      <td>125.365854</td>\n",
       "    </tr>\n",
       "    <tr>\n",
       "      <th>4</th>\n",
       "      <td>Saluki</td>\n",
       "      <td>125.000000</td>\n",
       "    </tr>\n",
       "    <tr>\n",
       "      <th>5</th>\n",
       "      <td>briard</td>\n",
       "      <td>123.333333</td>\n",
       "    </tr>\n",
       "    <tr>\n",
       "      <th>6</th>\n",
       "      <td>Tibetan_mastiff</td>\n",
       "      <td>122.500000</td>\n",
       "    </tr>\n",
       "    <tr>\n",
       "      <th>7</th>\n",
       "      <td>Border_terrier</td>\n",
       "      <td>121.428571</td>\n",
       "    </tr>\n",
       "    <tr>\n",
       "      <th>8</th>\n",
       "      <td>standard_schnauzer</td>\n",
       "      <td>120.000000</td>\n",
       "    </tr>\n",
       "    <tr>\n",
       "      <th>9</th>\n",
       "      <td>silky_terrier</td>\n",
       "      <td>120.000000</td>\n",
       "    </tr>\n",
       "  </tbody>\n",
       "</table>\n",
       "</div>"
      ],
      "text/plain": [
       "                  breed  rating_percent\n",
       "0               clumber      270.000000\n",
       "1               Unknown      148.399072\n",
       "2  Bouvier_des_Flandres      130.000000\n",
       "3            Pomeranian      125.365854\n",
       "4                Saluki      125.000000\n",
       "5                briard      123.333333\n",
       "6       Tibetan_mastiff      122.500000\n",
       "7        Border_terrier      121.428571\n",
       "8    standard_schnauzer      120.000000\n",
       "9         silky_terrier      120.000000"
      ]
     },
     "execution_count": 69,
     "metadata": {},
     "output_type": "execute_result"
    }
   ],
   "source": [
    "top_10"
   ]
  },
  {
   "cell_type": "code",
   "execution_count": 70,
   "metadata": {},
   "outputs": [
    {
     "data": {
      "image/png": "[encoded data removed]",
      "text/plain": [
       "<matplotlib.figure.Figure at 0x7f1e792ac390>"
      ]
     },
     "metadata": {
      "needs_background": "light"
     },
     "output_type": "display_data"
    }
   ],
   "source": [
    "breed = top_10.breed\n",
    "rating = top_10.rating_percent\n",
    "\n",
    "# Figure Size\n",
    "fig, ax = plt.subplots(figsize =(16, 9))\n",
    " \n",
    "# Horizontal Bar Plot\n",
    "ax.barh(breed, rating)\n",
    " \n",
    "# Remove axes splines\n",
    "for s in ['top', 'bottom', 'left', 'right']:\n",
    "    ax.spines[s].set_visible(False)\n",
    " \n",
    "# Remove x, y Ticks\n",
    "ax.xaxis.set_ticks_position('none')\n",
    "ax.yaxis.set_ticks_position('none')\n",
    " \n",
    "# Add padding between axes and labels\n",
    "ax.xaxis.set_tick_params(pad = 5)\n",
    "ax.yaxis.set_tick_params(pad = 10)\n",
    " \n",
    "# Add x, y gridlines\n",
    "ax.grid(visible= True, color ='black',\n",
    "        linestyle ='-.', linewidth = 0.5,\n",
    "        alpha = 0.2)\n",
    " \n",
    "# Show top values\n",
    "ax.invert_yaxis()\n",
    " \n",
    "# Add annotation to bars\n",
    "for i in ax.patches:\n",
    "    plt.text(i.get_width()+0.2, i.get_y()+0.5,\n",
    "             str(round((i.get_width()), 2)),\n",
    "             fontsize = 12, fontweight ='bold',\n",
    "             color ='black')\n",
    " \n",
    "# Add Plot Title\n",
    "ax.set_title('Top 10 Dog Breeds Based on Ratings',\n",
    "             loc ='center', fontsize= 14 )\n",
    " \n",
    "# Show Plot\n",
    "plt.show()"
   ]
  },
  {
   "cell_type": "code",
   "execution_count": 71,
   "metadata": {
    "execution": {
     "iopub.execute_input": "2022-11-07T09:51:23.588464Z",
     "iopub.status.busy": "2022-11-07T09:51:23.587985Z",
     "iopub.status.idle": "2022-11-07T09:51:23.597321Z",
     "shell.execute_reply": "2022-11-07T09:51:23.595719Z",
     "shell.execute_reply.started": "2022-11-07T09:51:23.588426Z"
    }
   },
   "outputs": [],
   "source": [
    "from matplotlib import rcParams\n",
    "import seaborn as sns\n",
    "def Barplot(x_data,y_data,data,title,xlabel,ylabel):\n",
    "    pl = sns.barplot(x = x_data,y = y_data,data = data,color = sns.color_palette('pastel')[0])\n",
    "    pl.set_title(title,fontsize = 25)\n",
    "    pl.set_xlabel(xlabel)\n",
    "    pl.set_ylabel(ylabel)\n",
    "    rcParams['figure.figsize'] = 18,18\n",
    "    plt.show()"
   ]
  },
  {
   "cell_type": "code",
   "execution_count": 72,
   "metadata": {
    "execution": {
     "iopub.execute_input": "2022-11-07T09:51:28.589659Z",
     "iopub.status.busy": "2022-11-07T09:51:28.588840Z",
     "iopub.status.idle": "2022-11-07T09:51:28.904233Z",
     "shell.execute_reply": "2022-11-07T09:51:28.903032Z",
     "shell.execute_reply.started": "2022-11-07T09:51:28.589580Z"
    }
   },
   "outputs": [
    {
     "data": {
      "image/png": "[encoded data removed]",
      "text/plain": [
       "<matplotlib.figure.Figure at 0x7f1e792f3780>"
      ]
     },
     "metadata": {
      "needs_background": "light"
     },
     "output_type": "display_data"
    }
   ],
   "source": [
    "Barplot('breed','rating_percent',top_10,'Top 10 most rated Dog breed','Dog Breed','Rating(%)')"
   ]
  },
  {
   "cell_type": "markdown",
   "metadata": {},
   "source": [
    "## 3. relationship between favorite_count and retweet_count "
   ]
  },
  {
   "cell_type": "markdown",
   "metadata": {},
   "source": [
    "Next, we shall find out the correlation between the likes(favourites) and the retweets on the tweets"
   ]
  },
  {
   "cell_type": "code",
   "execution_count": 73,
   "metadata": {
    "execution": {
     "iopub.execute_input": "2022-11-07T09:55:42.820269Z",
     "iopub.status.busy": "2022-11-07T09:55:42.819809Z",
     "iopub.status.idle": "2022-11-07T09:55:43.087627Z",
     "shell.execute_reply": "2022-11-07T09:55:43.086280Z",
     "shell.execute_reply.started": "2022-11-07T09:55:42.820234Z"
    }
   },
   "outputs": [
    {
     "data": {
      "image/png": "[encoded data removed]",
      "text/plain": [
       "<matplotlib.figure.Figure at 0x7f1e791dc5c0>"
      ]
     },
     "metadata": {
      "needs_background": "light"
     },
     "output_type": "display_data"
    }
   ],
   "source": [
    "x= final_archive.retweet_count\n",
    "y= final_archive.favorite_count\n",
    "plt.figure(figsize=(10,6))\n",
    "plt.scatter(x,y, color= '#B51024', alpha = 0.5)\n",
    "plt.title('Relationship between retweet_count and favorite_count', {'fontsize': 12})\n",
    "plt.xlabel(\"Retweet_counts\")\n",
    "plt.ylabel(\"favorite_counts\")\n",
    "plt.show()"
   ]
  },
  {
   "cell_type": "markdown",
   "metadata": {},
   "source": [
    "**As we can see clearly, there's a positive correlation between the favourites and the retweets**"
   ]
  },
  {
   "cell_type": "markdown",
   "metadata": {},
   "source": [
    "## 4. monthly trend of interactions with WeRateDogs's posts?"
   ]
  },
  {
   "cell_type": "markdown",
   "metadata": {},
   "source": [
    "Let's say that the interactions are the sum of the favorites and retweets on each tweet"
   ]
  },
  {
   "cell_type": "code",
   "execution_count": 74,
   "metadata": {
    "execution": {
     "iopub.execute_input": "2022-11-07T10:05:56.782031Z",
     "iopub.status.busy": "2022-11-07T10:05:56.781503Z",
     "iopub.status.idle": "2022-11-07T10:05:56.794776Z",
     "shell.execute_reply": "2022-11-07T10:05:56.793588Z",
     "shell.execute_reply.started": "2022-11-07T10:05:56.781985Z"
    }
   },
   "outputs": [
    {
     "data": {
      "text/plain": [
       "0     723.0\n",
       "1     415.0\n",
       "2     740.0\n",
       "3    1453.0\n",
       "4     423.0\n",
       "Name: interactions, dtype: float64"
      ]
     },
     "execution_count": 74,
     "metadata": {},
     "output_type": "execute_result"
    }
   ],
   "source": [
    "final_archive['interactions'] = final_archive.retweet_count + final_archive.favorite_count\n",
    "final_archive.interactions.head()"
   ]
  },
  {
   "cell_type": "code",
   "execution_count": 75,
   "metadata": {
    "execution": {
     "iopub.execute_input": "2022-11-07T10:10:55.735184Z",
     "iopub.status.busy": "2022-11-07T10:10:55.734727Z",
     "iopub.status.idle": "2022-11-07T10:10:55.754130Z",
     "shell.execute_reply": "2022-11-07T10:10:55.752824Z",
     "shell.execute_reply.started": "2022-11-07T10:10:55.735147Z"
    }
   },
   "outputs": [
    {
     "name": "stdout",
     "output_type": "stream",
     "text": [
      "<class 'pandas.core.frame.DataFrame'>\n",
      "RangeIndex: 2097 entries, 0 to 2096\n",
      "Data columns (total 16 columns):\n",
      "tweet_id              2097 non-null int64\n",
      "timestamp             2097 non-null object\n",
      "source                2097 non-null object\n",
      "text                  2097 non-null object\n",
      "expanded_urls         2094 non-null object\n",
      "rating_numerator      2097 non-null int64\n",
      "rating_denominator    2097 non-null int64\n",
      "name                  1404 non-null object\n",
      "favorite_count        2097 non-null float64\n",
      "retweet_count         2097 non-null float64\n",
      "jpg_url               1971 non-null object\n",
      "dog_type              2097 non-null object\n",
      "breed                 2097 non-null object\n",
      "confidence            2097 non-null float64\n",
      "rating_percent        2097 non-null float64\n",
      "interactions          2097 non-null float64\n",
      "dtypes: float64(5), int64(3), object(8)\n",
      "memory usage: 262.2+ KB\n"
     ]
    }
   ],
   "source": [
    "final_archive.info()\n",
    "#converting to datetime\n",
    "final_archive.timestamp = pd.to_datetime(final_archive.timestamp)"
   ]
  },
  {
   "cell_type": "code",
   "execution_count": 76,
   "metadata": {
    "execution": {
     "iopub.execute_input": "2022-11-07T10:11:10.221366Z",
     "iopub.status.busy": "2022-11-07T10:11:10.220949Z",
     "iopub.status.idle": "2022-11-07T10:11:10.231537Z",
     "shell.execute_reply": "2022-11-07T10:11:10.229916Z",
     "shell.execute_reply.started": "2022-11-07T10:11:10.221331Z"
    }
   },
   "outputs": [],
   "source": [
    "monthly_tweet_activity = final_archive.groupby(final_archive['timestamp'].dt.to_period('M'))['interactions'].mean()"
   ]
  },
  {
   "cell_type": "code",
   "execution_count": 77,
   "metadata": {
    "execution": {
     "iopub.execute_input": "2022-11-07T10:11:24.070119Z",
     "iopub.status.busy": "2022-11-07T10:11:24.069581Z",
     "iopub.status.idle": "2022-11-07T10:11:24.497584Z",
     "shell.execute_reply": "2022-11-07T10:11:24.496168Z",
     "shell.execute_reply.started": "2022-11-07T10:11:24.070054Z"
    }
   },
   "outputs": [
    {
     "data": {
      "image/png": "[encoded data removed]",
      "text/plain": [
       "<matplotlib.figure.Figure at 0x7f1e79128780>"
      ]
     },
     "metadata": {
      "needs_background": "light"
     },
     "output_type": "display_data"
    }
   ],
   "source": [
    "monthly_tweet_activity.plot()\n",
    "plt.title('Average Activity Per Tweet by Month')\n",
    "plt.xlabel('Month')\n",
    "plt.ylabel('Tweet Activity');"
   ]
  },
  {
   "cell_type": "markdown",
   "metadata": {},
   "source": [
    "The interactions on the page are on an upward trend since the inception of the account "
   ]
  },
  {
   "cell_type": "markdown",
   "metadata": {},
   "source": [
    "<a id='conclusion'></a>\n",
    "# Conclusion"
   ]
  },
  {
   "cell_type": "markdown",
   "metadata": {},
   "source": [
    "1. The 10 most popular dog names are, Lucy, Charlie, Oliver, Cooper, Tucker, Penny, Sadie, Winston, Lola and Daisy\n",
    "2. The Top 10 dog breeds according to percentage ratings are Clumber\t, Bouvier_des_Flandres\t, Pomeranian\t, Saluki, briard\t,\tTibetan_mastiff, \tBorder_terrier, standard_schnauzer and silky_terrier\n",
    "3. There's a positive correlation between the likes (favourites) and the retweets\n",
    "4. The interactions on the page are on an upward trend since the inception of the account which implies Account Growth \n"
   ]
  },
  {
   "cell_type": "markdown",
   "metadata": {},
   "source": [
    "<a id='sources'></a>\n",
    "# Sources"
   ]
  },
  {
   "cell_type": "markdown",
   "metadata": {},
   "source": [
    "- [Panda Documentation](https://pandas.pydata.org/docs/)\n",
    "- [Geeks For Geeks](https://www.geeksforgeeks.org/create-a-new-column-in-pandas-dataframe-based-on-the-existing-columns/)\n",
    "- [Working with json in python](realpython.com/python-json/)\n",
    "- [Working with datetime in pandas](towardsdatascience.com/working-with-datetime-in-pandas-dataframe-663f7af6c587)\n",
    "- [Drop rows based on certain conditions](https://www.geeksforgeeks.org/drop-rows-from-the-dataframe-based-on-certain-condition-applied-on-a-column/)\n",
    "- [Seaborn documentation](seaborn.pydata.org/tutorial/introduction.html)\n",
    "- [Matplotlib documentation](https://matplotlib.org/stable/index.html)"
   ]
  }
 ],
 "metadata": {
  "kernelspec": {
   "display_name": "Python 3",
   "language": "python",
   "name": "python3"
  },
  "language_info": {
   "codemirror_mode": {
    "name": "ipython",
    "version": 3
   },
   "file_extension": ".py",
   "mimetype": "text/x-python",
   "name": "python",
   "nbconvert_exporter": "python",
   "pygments_lexer": "ipython3",
   "version": "3.7.13"
  },
  "vscode": {
   "interpreter": {
    "hash": "ad2bdc8ecc057115af97d19610ffacc2b4e99fae6737bb82f5d7fb13d2f2c186"
   }
  }
 },
 "nbformat": 4,
 "nbformat_minor": 4
}
