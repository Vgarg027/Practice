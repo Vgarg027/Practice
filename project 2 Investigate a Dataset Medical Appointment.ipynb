{
 "cells": [
  {
   "cell_type": "markdown",
   "metadata": {},
   "source": [
    "Liudmila Semenova\n",
    "UDACITY Data Analyst Nanodegree Program\n",
    "2019, April 16\n",
    "\n",
    "PROJECT 2: Investigate a Dataset Medical Appointment No Shows\n",
    "Introduction\n",
    "Data Wrangling\n",
    "Exploratory Data Analysis\n",
    "Conclusions\n",
    "Introduction\n",
    "The subject of this analysis is a Kaggle dataset Medical Appointment No Shows which describes more than 110,000 medical appointments in health units located within the city of Vitoria, Brazil and 14 features of each appointment.\n",
    "\n",
    "Not all the data were clearly explained by the author in Data Dictionary, however some clarifications provided in the Discussion section allowed to conclude the following about features:\n",
    "\n",
    "PatientId - identification of a patient.\n",
    "AppointmentID - identification of each appointment.\n",
    "Gender - gender of a patient: male or female.\n",
    "ScheduledDay - a date on which an appointment was scheduled.\n",
    "AppointmentDay - a date of an appointment.\n",
    "Age - age of a patient.\n",
    "Neighbourhood - a neighbourhood where an appointment took place.\n",
    "Scholarship - if a patient has government financial aid Bolsa Familia: yes or no.\n",
    "Hipertension - if a patient has high blood pressure: yes or no.\n",
    "Diabetes - if a patient has diabetes: yes or now.\n",
    "Alcoholism - if a patient is suffering from alcoholism: yes or now.\n",
    "Handcap - if a patient has disability: the number of all of them.\n",
    "SMS_received - if a patient got a text message appointment reminders: yes or no.\n",
    "No-show - if a patient came to an appointment: no for \"came\" and yes for \"didn't come\".\n",
    "\n",
    "Thus, on the basis of these variables, the following questions can be investigated:\n",
    "\n",
    "Are patient no-shows related to a patient's personal features such as age, gender, the mentioned diseases, disabilities or getting government financial aid?\n",
    "\n",
    "Do the appointment reminders affect the coming to the appointment?\n",
    "\n",
    "Is the number of days between the date when the appointment was scheduled and the appointment date related to whether the patient come to the appointment or not?\n",
    "\n",
    "Are there neighbourhoods where the patients are more likely not to miss their appointments?\n"
   ]
  },
  {
   "cell_type": "code",
   "execution_count": 1,
   "metadata": {},
   "outputs": [],
   "source": [
    "# load libraries;\n",
    "import pandas as pd\n",
    "import numpy as np\n",
    "import matplotlib.pyplot as plt\n",
    "import seaborn as sns\n",
    "sns.set(style=\"darkgrid\")\n",
    "%matplotlib inline"
   ]
  },
  {
   "cell_type": "markdown",
   "metadata": {},
   "source": [
    "Data Wrangling¶\n",
    "General Properties\n",
    "At this stage we load in the data and perform several operations to get information about:\n",
    "\n",
    "the numbers of rows and columns;\n",
    "missing values of each column;\n",
    "data types of all columns;\n",
    "duplicated rows and duplicated values;\n",
    "values of those columns which it possible to check visually."
   ]
  },
  {
   "cell_type": "code",
   "execution_count": null,
   "metadata": {},
   "outputs": [],
   "source": [
    "# load data, rename colums and check the dataframe; \n",
    "labels = ['patient_id', 'app_id', 'gender', 'scheduled', 'appointment', 'age', 'neighbourhood', 'aid', \n",
    "          'hypertension', 'diabetes', 'alcoholism', 'disability', 'sms', 'no_show']\n",
    "df = pd.read_csv('medical_appointment_no_shows.csv', header=0, names = labels)\n",
    "df.head()\n"
   ]
  },
  {
   "cell_type": "code",
   "execution_count": null,
   "metadata": {},
   "outputs": [],
   "source": [
    "\n",
    "# check dimensions of the dataframe to get the numbers of rows and columns;\n",
    "df.shape"
   ]
  },
  {
   "cell_type": "markdown",
   "metadata": {},
   "source": [
    "\n",
    "These numbers of rows and columns show a mistake in the dataframe description given by the author on Kaggle.com, where he says about 300,000 medical appointments and 15 variables of each. So we should change this information in the Introduction section."
   ]
  },
  {
   "cell_type": "code",
   "execution_count": null,
   "metadata": {},
   "outputs": [],
   "source": [
    "\n",
    "# check concise summary of the dataframe;\n",
    "df.info()"
   ]
  },
  {
   "cell_type": "code",
   "execution_count": null,
   "metadata": {},
   "outputs": [],
   "source": [
    "# check if there is any missing data another way;\n",
    "df.isnull().sum()"
   ]
  },
  {
   "cell_type": "code",
   "execution_count": null,
   "metadata": {},
   "outputs": [],
   "source": [
    "# check if there any duplicated rows in the dataframe;\n",
    "sum(df.duplicated())"
   ]
  },
  {
   "cell_type": "code",
   "execution_count": null,
   "metadata": {},
   "outputs": [],
   "source": [
    "# check the numbers of unique values in each column;\n",
    "df.nunique()"
   ]
  },
  {
   "cell_type": "code",
   "execution_count": null,
   "metadata": {},
   "outputs": [],
   "source": [
    "# check for duplicates in patient_id column;\n",
    "sum(df.patient_id.duplicated())"
   ]
  },
  {
   "cell_type": "code",
   "execution_count": null,
   "metadata": {},
   "outputs": [],
   "source": [
    "# check the data for all column except for patient_id, app_id, scheduled and appointment;\n",
    "print('gender - ', df.gender.unique(), '\\n', \n",
    "      'age - ', df.age.unique(), '\\n',\n",
    "      'neighbourhood - ', df.neighbourhood.unique(), '\\n',\n",
    "      'aid - ', df.aid.unique(), '\\n',\n",
    "      'hypertension - ', df.hypertension.unique(), '\\n',\n",
    "      'diabetes - ', df.diabetes.unique(), '\\n',\n",
    "      'alcoholism - ', df.alcoholism.unique(), '\\n',\n",
    "      'disability - ', df.disability.unique(), '\\n',\n",
    "      'sms - ', df.sms.unique(), '\\n',\n",
    "      'no_show - ', df.no_show.unique(), sep = '')"
   ]
  },
  {
   "cell_type": "code",
   "execution_count": null,
   "metadata": {},
   "outputs": [],
   "source": [
    "# check data types of each column; \n",
    "df.dtypes"
   ]
  },
  {
   "cell_type": "code",
   "execution_count": null,
   "metadata": {},
   "outputs": [],
   "source": [
    "# check object data types more detailed;\n",
    "print('gender - ', type(df['gender'][0]), '\\n', \n",
    "      'scheduled - ', type(df['scheduled'][0]), '\\n',\n",
    "      'appointment - ', type(df['appointment'][0]), '\\n',\n",
    "      'neighbourhood - ', type(df['neighbourhood'][0]), '\\n',\n",
    "      'no_show - ', type(df['no_show'][0]), sep = '')"
   ]
  },
  {
   "cell_type": "markdown",
   "metadata": {},
   "source": [
    "\n",
    "Thus, we can conclude the following:\n",
    "\n",
    "the dataset has 110,527 rows and 14 columns;\n",
    "there are no missing data or duplicated rows;\n",
    "the patient_id column has 48,228 duplicate values;\n",
    "the scheduled and appointment columns have string data type instead of datetime;\n",
    "the age column has values such as -1 and 0 (-1 seems like a typing error, and 0 means children under one year according the dataframe author explanation);\n",
    "the disability column has 5 values for the exact number of patient disabilities which is redundant for further analysis;\n",
    "the aid, hypertension, diabetes, alcoholism, sms columns have values 1 and 0 instead of Yes and No.\n"
   ]
  },
  {
   "cell_type": "markdown",
   "metadata": {},
   "source": [
    "# Data Cleaning¶\n",
    "Based on the results of the dataframe inspection we perform the next steps to clean the data:\n",
    "\n",
    "drop the row where the age is equal -1;\n",
    "convert the scheduled and appointment columns to datetime data type;\n",
    "create a new column waiting (days between scheduled and appointment date);\n",
    "change the disability column values to binary: 0 for patient without disabilities and 1 for patients with any number of disabilities;\n",
    "change aid, hypertension, diabetes, alcoholism, disability, sms columns values to Yes and No for convenience of further calculations and convert these columns to string data type;\n",
    "drop app_id column since it is redundant for futher analysis."
   ]
  },
  {
   "cell_type": "code",
   "execution_count": null,
   "metadata": {},
   "outputs": [],
   "source": [
    "# search the rows where age less than 0;\n",
    "df.query('age < 0')"
   ]
  },
  {
   "cell_type": "code",
   "execution_count": null,
   "metadata": {},
   "outputs": [],
   "source": [
    "# drop the row where age less than 0 and check changes;;\n",
    "df = df.query('age >= 0')\n",
    "print(sorted(df.age.unique()))"
   ]
  },
  {
   "cell_type": "markdown",
   "metadata": {},
   "source": [
    "As patients make appointments in advance, values of the scheduled column have to be less than the values of the appointment column or at least equal, so check this condition."
   ]
  },
  {
   "cell_type": "code",
   "execution_count": null,
   "metadata": {},
   "outputs": [],
   "source": [
    "# search for rows where appointment date are earlier than scheduled date;\n",
    "df.query('appointment < scheduled')"
   ]
  },
  {
   "cell_type": "markdown",
   "metadata": {},
   "source": [
    "\n",
    "One entry has 6 days difference between scheduled and appointment dates which is no doubt an error. Other dates have only one day differences which can be both an entry error or an error due to missing appointment time. So drop all these rows."
   ]
  },
  {
   "cell_type": "code",
   "execution_count": null,
   "metadata": {},
   "outputs": [],
   "source": [
    "# drop the rows where appointment date are earlier than scheduled date and check changes;\n",
    "df = df.query('appointment >= scheduled')\n",
    "df.query('appointment < scheduled')"
   ]
  },
  {
   "cell_type": "code",
   "execution_count": null,
   "metadata": {},
   "outputs": [],
   "source": [
    "# create a new column named waiting (days between scheduled and appointment days) and check changes;\n",
    "df.insert(5, 'waiting', (df.appointment - df.scheduled).dt.days)\n",
    "df.head()"
   ]
  },
  {
   "cell_type": "code",
   "execution_count": null,
   "metadata": {},
   "outputs": [],
   "source": [
    "\n",
    "# count the naumber of rows whis disabilies equal 2, 3, 4;\n",
    "(df['disability'] > 1).sum()"
   ]
  },
  {
   "cell_type": "code",
   "execution_count": null,
   "metadata": {},
   "outputs": [],
   "source": [
    "# change values 2, 3, 4 in disability column to 1 and check changes; \n",
    "df['disability'].replace([2,3,4],[1,1,1], inplace = True)\n",
    "(df['disability'] > 1).sum()"
   ]
  },
  {
   "cell_type": "code",
   "execution_count": null,
   "metadata": {},
   "outputs": [],
   "source": [
    "# change values in aid, hypertension, diabetes, alcoholism, disability, sms columns to Yes and No and check changes; \n",
    "def change_to_yes_no(dataframe, col):\n",
    "    dataframe[col] = dataframe[col].apply(str)\n",
    "    dataframe[col].replace(['1', '0'], ['Yes', 'No'], inplace = True);\n",
    "\n",
    "change_to_yes_no(df, 'aid')\n",
    "change_to_yes_no(df, 'hypertension')\n",
    "change_to_yes_no(df, 'diabetes')\n",
    "change_to_yes_no(df, 'alcoholism')\n",
    "change_to_yes_no(df, 'disability')\n",
    "change_to_yes_no(df, 'sms')\n",
    "\n",
    "df.head()"
   ]
  },
  {
   "cell_type": "code",
   "execution_count": null,
   "metadata": {},
   "outputs": [],
   "source": [
    "# drop app_id column and check changes; \n",
    "df.drop(['app_id'], axis=1, inplace=True)\n",
    "df.head()"
   ]
  },
  {
   "cell_type": "markdown",
   "metadata": {},
   "source": [
    "\n",
    "Exploratory Data Analysis¶\n",
    "At this stage we explore obtained data to answer the research questions which were posed in the Introduction section.\n",
    "\n",
    "Question 1. Are patient no-shows related to a patient's personal features such as age, gender, hypertension, diabetes, alcoholism, disabilities or getting government financial aid?\n",
    "Explore the dataframe in terms of patient features as age, gender, diseases, disabilities and getting financial aid. As many patients had more than one appointment create new dataframe with only the first appointment for each patient to avoid analysing the same patients more than once."
   ]
  },
  {
   "cell_type": "code",
   "execution_count": null,
   "metadata": {},
   "outputs": [],
   "source": [
    "# drop rows with duplicated patient_id values and check dementions of the new dataframe;\n",
    "df_patients = df.drop_duplicates(['patient_id'], keep='first')\n",
    "df_patients.shape"
   ]
  },
  {
   "cell_type": "markdown",
   "metadata": {},
   "source": [
    "\n",
    "AGE¶\n",
    "Explore patient distribution by gender."
   ]
  },
  {
   "cell_type": "code",
   "execution_count": null,
   "metadata": {},
   "outputs": [],
   "source": [
    "# patient distribution by age;\n",
    "sns.distplot(df_patients['age'], bins=115, color='green', kde = False);\n",
    "plt.xlabel('Age of Patients');\n",
    "plt.ylabel('Number of Patients');"
   ]
  },
  {
   "cell_type": "code",
   "execution_count": null,
   "metadata": {},
   "outputs": [],
   "source": [
    "# statisctics: mean, min, 25%, 50%, 75% max for age;\n",
    "df_patients.age.describe()"
   ]
  },
  {
   "cell_type": "markdown",
   "metadata": {},
   "source": [
    "\n",
    "As we can see the average age of patients is about 37 y.o., youngest patients are children under 1 y.o. and the oldest patients are 115 y.o. Only 25% patients are children and teenagers and 75% are not older than 56 y.o.\n",
    "\n",
    "For the further exploration divide the patients into 5 age groups."
   ]
  },
  {
   "cell_type": "code",
   "execution_count": null,
   "metadata": {},
   "outputs": [],
   "source": [
    "# cut the age column data into discrete chunks;\n",
    "age_bin_values = [0, 15, 25, 55, 65, 115]\n",
    "age_bin_names = ['0-14', '15-24', '25-54', '55-64', '65+']\n",
    "ages = pd.cut(df_patients.age, bins=age_bin_values, labels=age_bin_names)\n",
    "sns.countplot(x=ages, palette='Paired').set_xticklabels(age_bin_names);\n",
    "plt.xlabel('Age of Patients');\n",
    "plt.ylabel('Number of Patiens');"
   ]
  },
  {
   "cell_type": "markdown",
   "metadata": {},
   "source": [
    "\n",
    "Explore how many patients from each age group came to their appointments and how many did not come in proportions, then visualize the data."
   ]
  },
  {
   "cell_type": "code",
   "execution_count": null,
   "metadata": {},
   "outputs": [],
   "source": [
    "# divide each age bin into 2 groups: patients who came to the appointment and who did not\n",
    "# and create new dataframe with obtained data in proportions;\n",
    "df_age_no_show = df_patients.groupby([pd.cut(df_patients['age'],age_bin_values),'no_show']).count().patient_id.unstack()\n",
    "df_age_no_show['No-show patients'] = df_age_no_show['Yes'] / (df_age_no_show['Yes'] + df_age_no_show['No'])\n",
    "df_age_no_show['Show-up patients'] = df_age_no_show['No'] / (df_age_no_show['Yes'] + df_age_no_show['No'])\n",
    "df_age_no_show.drop(['No', 'Yes'], axis=1, inplace=True)\n",
    "\n",
    "# visualize the result;\n",
    "df_age_no_show.plot(kind='bar').set_xticklabels(['0-14', '15-24', '25-54', '55-64', '65+'], rotation=0);\n",
    "plt.xlabel('Age of Patients');\n",
    "plt.ylabel('Number of Patients in Proportions');\n",
    "plt.legend(loc=(1.02, 0.50));"
   ]
  },
  {
   "cell_type": "markdown",
   "metadata": {},
   "source": [
    "\n",
    "As we can see young patients (aged 15-24) tend to miss their appointments often than other groups of patients. Elderly patients (aged 65 and above) tend to miss the appointments less often than other groups of patients. So we can conclude that the older the patients get, the less likely they will miss the appointments.\n",
    "\n",
    "The only exception is children under the age of 15. Since they usually visit doctors accompanied by their parents the relation between missing and not missing appointments should be approximately equal the same relation for adult patients (aged 25-54) which is obtained data confirms."
   ]
  },
  {
   "cell_type": "markdown",
   "metadata": {},
   "source": [
    "# GENDER¶\n",
    "Explore patient distribution by gender in absolute numbers and in proportions."
   ]
  },
  {
   "cell_type": "code",
   "execution_count": null,
   "metadata": {},
   "outputs": [],
   "source": [
    "\n",
    "# patient distribution by gender in absolute numbers;\n",
    "df_patients.gender.value_counts()"
   ]
  },
  {
   "cell_type": "code",
   "execution_count": null,
   "metadata": {},
   "outputs": [],
   "source": [
    "# patient distribution by gender in proportions;\n",
    "df_patients.gender.value_counts(normalize=True)"
   ]
  },
  {
   "cell_type": "code",
   "execution_count": null,
   "metadata": {},
   "outputs": [],
   "source": [
    "# visualization of patient distribution by gender;\n",
    "sns.countplot(x='gender', data=df_patients, palette='Paired').set_xticklabels(['Female - 64%', 'Male - 36%']);\n",
    "plt.xlabel('Gender of Patietns');\n",
    "plt.ylabel('Number of Patients');"
   ]
  },
  {
   "cell_type": "markdown",
   "metadata": {},
   "source": [
    "\n",
    "Explore how many females and males came to their appointments and how many did not come in proportions, then visualize the data."
   ]
  },
  {
   "cell_type": "code",
   "execution_count": null,
   "metadata": {},
   "outputs": [],
   "source": [
    "# get the data how many females and males came to their appointments and how many did not come in proportions;\n",
    "f_no_show = df_patients.query('gender == \"F\"').groupby('no_show').size().transform(lambda x: x/x.sum())\n",
    "m_no_show = df_patients.query('gender == \"M\"').groupby('no_show').size().transform(lambda x: x/x.sum())\n",
    "\n",
    "# create dataframe using obtained data;\n",
    "gender_no_show = [{'No-show patients': f_no_show['Yes'], 'Show-up patients': f_no_show['No']},\n",
    "                  {'No-show patients': m_no_show['Yes'], 'Show-up patients': m_no_show['No']}]\n",
    "df_gender_no_show = pd.DataFrame(gender_no_show)\n",
    "df_gender_no_show.insert(0, 'Gender', ['Female', 'Male'])\n",
    "df_gender_no_show = df_gender_no_show.set_index('Gender')\n",
    "\n",
    "# visualize the proportion females and males who came and did not come to their appointments;\n",
    "df_gender_no_show.plot(kind='bar').set_xticklabels(['Female', 'Male'], rotation = 0);\n",
    "plt.xlabel('Gender of Patients');\n",
    "plt.ylabel('Number of Patients in Proportions');\n",
    "plt.legend(loc=(1.02, 0.50));"
   ]
  },
  {
   "cell_type": "markdown",
   "metadata": {},
   "source": [
    "As we can see almost equal numbers females and males miss their appointments so we cannot say that there is any relationship between gender and patients no-shows."
   ]
  },
  {
   "cell_type": "markdown",
   "metadata": {},
   "source": [
    "# GOVERNMENT FINANCIAL AID BOLSA FAMILIA\n",
    "Explore patient distribution by getting government financial aid in absolute numbers and in proportions."
   ]
  },
  {
   "cell_type": "code",
   "execution_count": null,
   "metadata": {},
   "outputs": [],
   "source": [
    "# patient distribution by getting government financial aid in absolute numbers;\n",
    "df_patients.aid.value_counts()"
   ]
  },
  {
   "cell_type": "code",
   "execution_count": null,
   "metadata": {},
   "outputs": [],
   "source": [
    "# patient distribution by getting government financial aid in proportions;\n",
    "df_patients.aid.value_counts(normalize=True)"
   ]
  },
  {
   "cell_type": "code",
   "execution_count": null,
   "metadata": {},
   "outputs": [],
   "source": [
    "# visualization of patient distribution by getting government financial aid;\n",
    "sns.countplot(x='aid', data=df_patients, palette='Paired').set_xticklabels(['No - 91%', 'Yes - 9%']);\n",
    "plt.xlabel('Getting Financial Aid');\n",
    "plt.ylabel('Number of Patients');"
   ]
  },
  {
   "cell_type": "markdown",
   "metadata": {},
   "source": [
    "Explore how many patients who get financial aid and who do not came to their appointments and how many did not in proportions, tnen visualize the data."
   ]
  },
  {
   "cell_type": "code",
   "execution_count": null,
   "metadata": {},
   "outputs": [],
   "source": [
    "# get the data how many patients with and without financial aid came to their appointments \n",
    "# and how many did not come in proportions;\n",
    "bf_no_show = df_patients.query('aid == \"Yes\"').groupby('no_show').size().transform(lambda x: x/x.sum())\n",
    "nobf_no_show = df_patients.query('aid == \"No\"').groupby('no_show').size().transform(lambda x: x/x.sum())\n",
    "\n",
    "# create dataframe using obtained data;\n",
    "aid_no_show = [{'No-show patients': bf_no_show['Yes'], 'Show-up patients': bf_no_show['No']},\n",
    "                  {'No-show patients': nobf_no_show['Yes'], 'Show-up patients': nobf_no_show['No']}]\n",
    "df_aid_no_show = pd.DataFrame(aid_no_show)\n",
    "df_aid_no_show.insert(0, 'Getting financial aid', ['Yes', 'No'], True)\n",
    "df_aid_no_show = df_aid_no_show.set_index('Getting financial aid')\n",
    "\n",
    "# visualize the proportion of patients with and without financial aid \n",
    "# who came and did not come to their appointments;\n",
    "df_aid_no_show.plot(kind='bar').set_xticklabels(['Yes', 'No'], rotation = 0);\n",
    "plt.xlabel('Getting Financial Aid');\n",
    "plt.ylabel('Number of Patients in Proportions');\n",
    "plt.legend(loc=(1.02, 0.50));"
   ]
  },
  {
   "cell_type": "markdown",
   "metadata": {},
   "source": [
    "As we can see the patients who have financial aid tend slightly often to miss their appointments than the patients who do not have financial aid. However, this difference is not significant and requires further exploration."
   ]
  },
  {
   "cell_type": "markdown",
   "metadata": {},
   "source": [
    "# Question 2. Do the appointment reminders affect the coming to the appointment?¶\n",
    "Explore the appointment distribution by numbers of the appointment reminders. As it does not matter for this analysis if the appointment was first or follow-up we should use the original dataframe with non-unique patients."
   ]
  },
  {
   "cell_type": "code",
   "execution_count": null,
   "metadata": {},
   "outputs": [],
   "source": [
    "# check how many appointments were preceded by sms and how many were not in absolute number;\n",
    "df.sms.value_counts()"
   ]
  },
  {
   "cell_type": "code",
   "execution_count": null,
   "metadata": {},
   "outputs": [],
   "source": [
    "# check how many appointments were preceded by sms and how many were not in proportions;\n",
    "df.sms.value_counts(normalize=True)"
   ]
  },
  {
   "cell_type": "code",
   "execution_count": null,
   "metadata": {},
   "outputs": [],
   "source": [
    "# visualize ow many appointments were preceded by sms and how many were not;\n",
    "sns.countplot(x='sms', data=df, palette='Paired').set_xticklabels(['No - 67%', 'Yes - 33%']);\n",
    "plt.xlabel('SMS');\n",
    "plt.ylabel('Number of Patients');"
   ]
  },
  {
   "cell_type": "markdown",
   "metadata": {},
   "source": [
    "\n",
    "Explore how many appointments with and without sms were missed and were not missed by patients in proportions, then visualize the data."
   ]
  },
  {
   "cell_type": "code",
   "execution_count": null,
   "metadata": {},
   "outputs": [],
   "source": [
    "# get the data how many appointments with and without sms were missed and were not missed by patients in proportions;\n",
    "sms_no_show = df.query('sms == \"Yes\"').groupby('no_show').size().transform(lambda x: x/x.sum())\n",
    "nosms_no_show = df.query('sms == \"No\"').groupby('no_show').size().transform(lambda x: x/x.sum())\n",
    "\n",
    "# create dataframe using obtained data;\n",
    "sms_no_show = [{'Missing appointments': sms_no_show['Yes'], 'Not missing appointments': sms_no_show['No']},\n",
    "                  {'Missing appointments': nosms_no_show['Yes'], 'Not missing appointments': nosms_no_show['No']}]\n",
    "df_sms_no_show = pd.DataFrame(sms_no_show)\n",
    "df_sms_no_show.insert(0, 'SMS', ['Yes', 'No'], True)\n",
    "df_sms_no_show = df_sms_no_show.set_index('SMS')\n",
    "\n",
    "# visualize the proportion of appointments with and without sms which were missed and were not;\n",
    "df_sms_no_show.plot(kind='bar').set_xticklabels(['Yes', 'No'], rotation = 0);\n",
    "plt.ylabel('Number of appointments in Propotions');\n",
    "plt.xlabel('SMS');\n",
    "plt.legend(loc=(1.02, 0.50));"
   ]
  },
  {
   "cell_type": "markdown",
   "metadata": {},
   "source": [
    "As we can see the appointments preceded by sms were missed noticeably more than the appointments without sms. So according obtained results the appointment reminders are more related to the patient no-shows."
   ]
  },
  {
   "cell_type": "markdown",
   "metadata": {},
   "source": [
    "# Question 3. Is the number of days between the date when the appointment was scheduled and the appointment date related to whether the patient come to the appointment or not?¶\n",
    "Explore the appointment distribution by days between the scheduled and the appointment dates. As it does not matter for this analysis if the appointment was first or follow-up we should use the original dataframe with non-unique patients."
   ]
  },
  {
   "cell_type": "code",
   "execution_count": null,
   "metadata": {},
   "outputs": [],
   "source": [
    "# patient distribution by age;\n",
    "sns.distplot(df['waiting'], bins=175, color='red', kde = False);\n",
    "plt.ylabel('Number of Appointments');\n",
    "plt.xlabel('Days');"
   ]
  },
  {
   "cell_type": "code",
   "execution_count": null,
   "metadata": {},
   "outputs": [],
   "source": [
    "# statisctics: mean, min, 25%, 50%, 75% max for age;\n",
    "df.waiting.describe()"
   ]
  },
  {
   "cell_type": "markdown",
   "metadata": {},
   "source": [
    "As we can see the average waiting time (days between the scheduled and the appointment dates) is about 10 days although about 25% of patients can visit the doctor on the same day. While the maximum waiting time is 179 days, 75% of patients wait for the appointment not longer than 15 days.\n",
    "\n",
    "For the further exploration divide waiting days into 5 groups by time of waiting."
   ]
  },
  {
   "cell_type": "code",
   "execution_count": null,
   "metadata": {},
   "outputs": [],
   "source": [
    "# cut the waiting column data into discrete chunks;\n",
    "waiting_bin_values = [0, 7, 30, 60, 90, 180]\n",
    "waiting_bin_names = ['Same day', '1 week', '1 month', '2 months', '3 months and more']\n",
    "waiting = pd.cut(df.waiting, bins = waiting_bin_values, labels = waiting_bin_names)\n",
    "sns.countplot(x=waiting, palette='Paired').set_xticklabels(waiting_bin_names, rotation = 45);\n",
    "plt.ylabel('Number of Appointments');\n",
    "plt.xlabel('Waiting Days');"
   ]
  },
  {
   "cell_type": "markdown",
   "metadata": {},
   "source": [
    "Explore how many patients from each waiting days group came to their appointments and how many did not come in proportions, then visualize the data."
   ]
  },
  {
   "cell_type": "code",
   "execution_count": null,
   "metadata": {},
   "outputs": [],
   "source": [
    "# divide each age bin into 2 groups: patients who came to the appointment and who did not\n",
    "# and create new dataframe with obtained data in proportions;\n",
    "df_waiting_no_show = df.groupby([pd.cut(df['waiting'],waiting_bin_values),'no_show']).count().patient_id.unstack()\n",
    "df_waiting_no_show['No-show patients'] = df_waiting_no_show['Yes'] / (df_waiting_no_show['Yes'] + df_waiting_no_show['No'])\n",
    "df_waiting_no_show['Show-up patients'] = df_waiting_no_show['No'] / (df_waiting_no_show['Yes'] + df_waiting_no_show['No'])\n",
    "df_waiting_no_show.drop(['No', 'Yes'], axis=1, inplace=True)\n",
    "\n",
    "# visualize the result;\n",
    "df_waiting_no_show.plot(kind='bar').set_xticklabels(['Same day', '1-7 days', '8-30 days', '31-60 days', '61-90 days and longer'], rotation=45);\n",
    "plt.xlabel('Waiting Days');\n",
    "plt.ylabel('Number of Appointments');\n",
    "plt.legend(loc=(1.02, 0.50));"
   ]
  },
  {
   "cell_type": "markdown",
   "metadata": {},
   "source": [
    "\n",
    "As we can see the patients who can visit clinics at the day when they scheduled the appointment tend to miss the appointment less often than the patients who have to wait longer. The patients who have to wait more than one week but less than one months miss their appointments more often than other patients. However, after a month of waiting the longer patients wait the less they tend to miss their appointments.\n",
    "\n"
   ]
  },
  {
   "cell_type": "markdown",
   "metadata": {},
   "source": [
    "# Question 4. Are there neighbourhoods where the patients are more likely not to miss their appointments?¶\n",
    "Explore the neighbourhoods distribution by number of appointments. As it does not matter for this analysis if the appointment was first or follow-up we should use the original dataframe with non-unique patients."
   ]
  },
  {
   "cell_type": "code",
   "execution_count": null,
   "metadata": {},
   "outputs": [],
   "source": [
    "# get the data how many appointments were scheduled in clinics of each neighbourhoods in absolute numbers;\n",
    "df_neigh_total=df.groupby(['neighbourhood','no_show']).count().patient_id.unstack().fillna(0)\n",
    "df_neigh_total['Total appointments'] = df_neigh_total['Yes'] + df_neigh_total['No']\n",
    "df_neigh_total.drop(['Yes','No'], axis=1, inplace=True)\n",
    "df_neigh_total.sort_values('Total appointments', ascending = False, inplace = True)\n",
    "\n",
    "# visualize the result;\n",
    "df_neigh_total.plot(kind='bar', figsize=(20,10), color='DarkOrange');\n",
    "plt.xlabel('Neighbourhoods');\n",
    "plt.ylabel('Number of Appointments');\n",
    "plt.legend(loc=(1.02, 0.50));"
   ]
  },
  {
   "cell_type": "markdown",
   "metadata": {},
   "source": [
    "\n",
    "Jardim Camburi is the neighbourhood where clinics with the largest number of scheduled appointments are located. However some of them could have been missed. So we should analyse in what neighbourhood clinics with the largest number of not missing appointments are located."
   ]
  },
  {
   "cell_type": "code",
   "execution_count": null,
   "metadata": {},
   "outputs": [],
   "source": [
    "# get the data how many missing and not missing appointments were in clinics \n",
    "# of each neighbourhoods in absolute numbers;\n",
    "df_neigh_abs=df.groupby(['neighbourhood','no_show']).count().patient_id.unstack()\n",
    "df_neigh_abs['No-show patients'] = df_neigh_abs['Yes']\n",
    "df_neigh_abs['Show-up patients'] = df_neigh_abs['No']\n",
    "df_neigh_abs.drop(['Yes','No'], axis=1, inplace=True)\n",
    "df_neigh_abs = df_neigh_abs.sort_values('Show-up patients', ascending = False).head(80)\n",
    "\n",
    "# visualize the result;\n",
    "df_neigh_abs['Show-up patients'].plot(kind='bar', figsize=(20,10), color='#db8457');\n",
    "df_neigh_abs['No-show patients'].plot(kind='bar', figsize=(20,10), color='#4e73ae');\n",
    "plt.xlabel('Neighbourhoods');\n",
    "plt.ylabel('Number of Appointments');\n",
    "plt.legend(loc=(1.02, 0.50));"
   ]
  },
  {
   "cell_type": "markdown",
   "metadata": {},
   "source": [
    "\n",
    "Jardim Camburi is also the neighbourhood whith clinics with the largest number of not missing appointments.\n",
    "\n",
    "We also can explore in what neighbourhood there are clinics with the largest number of not missing appointments in proporitons."
   ]
  },
  {
   "cell_type": "code",
   "execution_count": null,
   "metadata": {},
   "outputs": [],
   "source": [
    "\n",
    "# get the data how many missing and not missing appointments were in clinics of each neighbourhoods in proporitons;\n",
    "df_neigh=df.groupby(['neighbourhood','no_show']).count().patient_id.unstack()\n",
    "df_neigh['No-show patients'] = df_neigh['Yes'] / (df_neigh['Yes'] + df_neigh['No'])\n",
    "df_neigh['Show-up patients'] = df_neigh['No'] / (df_neigh['Yes'] + df_neigh['No'])\n",
    "df_neigh.drop(['Yes','No'], axis=1, inplace=True)\n",
    "df_neigh = df_neigh.sort_values('Show-up patients', ascending = False).head(80)\n",
    "\n",
    "# visualize the result;\n",
    "df_neigh['Show-up patients'].plot(kind='bar', figsize=(20,10), color='#db8457');\n",
    "df_neigh['No-show patients'].plot(kind='bar', figsize=(20,10), color='#4e73ae');\n",
    "plt.xlabel('Neighbourhoods');\n",
    "plt.ylabel('Number of Appointments in Proportions');\n",
    "plt.legend(loc=(1.02, 0.50));"
   ]
  },
  {
   "cell_type": "markdown",
   "metadata": {},
   "source": [
    "# Conclusions\n",
    "The analysis showed the following:\n",
    "\n",
    "● In terms of age the greatest tendency to miss their appointments is shown by the young patients, the least - the patients aged 65 y.o. and above. The older the patients get, the less likely they miss the appointments, except for children under the age of 15 y.o. Since they usually visit doctors accompanied by their parents the relation between the missing and not missing appointments is equal the same relation for the patients aged 25-54 y.o.\n",
    "\n",
    "● Women and men miss their appointments equally, however female patients are almost twice as many as male. This can be explained by the fact that women more often accompany their children to medical appointments than men.\n",
    "\n",
    "● The most patients do not have the government financial aid Bolsa Familia and those of them who have tend to miss their appointments more often.\n",
    "\n",
    "● Vast majority of the patients do not suffer from hypertension, diabetes, alcoholism and do not have any disabilities. The patients with hypertension, alcoholism and disabilities have tendency to miss their appointments more often than the parients who do not have these health issues, and the patients with diabetes on the contrary miss their appointments less often than the patients without diabetes.\n",
    "\n",
    "● As opposed to what was expected the appointments which were preceded by sms reminders were missed noticeably more than the appointments without sms reminders.\n",
    "\n",
    "● The average waiting time for the appointments is about 10 days although about 25% of the patients can visit their doctors on the same day. While the maximum waiting time is 179 days, 75% of the patients are waiting for the appointment not longer than 15 days. The patients who can visit clinics at the day when they scheduled the appointment tend to miss the appointments less often than the patients who have to wait longer. The patients who have to wait more than one week but less than one months miss their appointments more often than other patients. However, after a month of waiting the longer the patients wait the less they tend to miss the appointments.\n",
    "\n",
    "● The neighbourhood where there are the clinics with the largest number of scheduled appointments and not missing appointments is Jardim Camburi. The neighbourhood with the largest number of not missing appointments in percentage terms is Ilha Do Boi."
   ]
  },
  {
   "cell_type": "code",
   "execution_count": null,
   "metadata": {},
   "outputs": [],
   "source": []
  }
 ],
 "metadata": {
  "kernelspec": {
   "display_name": "Python 3",
   "language": "python",
   "name": "python3"
  },
  "language_info": {
   "codemirror_mode": {
    "name": "ipython",
    "version": 3
   },
   "file_extension": ".py",
   "mimetype": "text/x-python",
   "name": "python",
   "nbconvert_exporter": "python",
   "pygments_lexer": "ipython3",
   "version": "3.8.5"
  }
 },
 "nbformat": 4,
 "nbformat_minor": 4
}
