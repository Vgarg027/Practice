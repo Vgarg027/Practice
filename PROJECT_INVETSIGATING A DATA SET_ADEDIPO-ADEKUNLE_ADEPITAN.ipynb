{
 "cells": [
  {
   "cell_type": "markdown",
   "metadata": {},
   "source": [
    "# Project: Investigate a Dataset (The Movie Database)\n",
    "\n",
    "## Table of Contents\n",
    "<ul>\n",
    "<li><a href=\"#intro\">Introduction</a></li>\n",
    "<li><a href=\"#wrangling\">Data Wrangling</a></li>\n",
    "<li><a href=\"#eda\">Exploratory Data Analysis</a></li>\n",
    "<li><a href=\"#conclusions\">Conclusions</a></li>\n",
    "</ul>"
   ]
  },
  {
   "cell_type": "markdown",
   "metadata": {},
   "source": [
    "<a id='intro'></a>\n",
    "## Introduction\n",
    "\n",
    "**In this project, we will be analyzing data collected overtime for movies produced to see which movies have generated the highest revenue as well as the company affiliated with the highest revenue from film production. Since different movies are classified under different genres, it is worthy to see the most popular genre that has the maximum number of movies associated with them and the genre with the least number of movies.**"
   ]
  },
  {
   "cell_type": "code",
   "execution_count": 2,
   "metadata": {},
   "outputs": [],
   "source": [
    "import numpy as np\n",
    "import pandas as pd\n",
    "import matplotlib.pyplot as plt\n",
    "import seaborn as sns\n",
    "%matplotlib inline\n",
    "pd.options.display.float_format=\"{:,.5f}\".format #to help convert exponents to float point as learnt from Texas Mccombs school of business"
   ]
  },
  {
   "cell_type": "markdown",
   "metadata": {},
   "source": [
    "<a id='wrangling'></a>\n",
    "## Data Wrangling\n",
    "\n",
    "### General Properties"
   ]
  },
  {
   "cell_type": "code",
   "execution_count": 6,
   "metadata": {},
   "outputs": [],
   "source": [
    "df=pd.read_csv('tmdb-movies.csv') #to read the data from the csv file downloaded"
   ]
  },
  {
   "cell_type": "code",
   "execution_count": 7,
   "metadata": {
    "scrolled": false
   },
   "outputs": [
    {
     "data": {
      "text/html": [
       "<div>\n",
       "<style scoped>\n",
       "    .dataframe tbody tr th:only-of-type {\n",
       "        vertical-align: middle;\n",
       "    }\n",
       "\n",
       "    .dataframe tbody tr th {\n",
       "        vertical-align: top;\n",
       "    }\n",
       "\n",
       "    .dataframe thead th {\n",
       "        text-align: right;\n",
       "    }\n",
       "</style>\n",
       "<table border=\"1\" class=\"dataframe\">\n",
       "  <thead>\n",
       "    <tr style=\"text-align: right;\">\n",
       "      <th></th>\n",
       "      <th>imdb_id</th>\n",
       "      <th>popularity</th>\n",
       "      <th>budget</th>\n",
       "      <th>revenue</th>\n",
       "      <th>original_title</th>\n",
       "      <th>cast</th>\n",
       "      <th>director</th>\n",
       "      <th>keywords</th>\n",
       "      <th>runtime</th>\n",
       "      <th>genres</th>\n",
       "      <th>production_companies</th>\n",
       "      <th>release_date</th>\n",
       "      <th>vote_count</th>\n",
       "      <th>vote_average</th>\n",
       "      <th>release_year</th>\n",
       "      <th>budget_adj</th>\n",
       "      <th>revenue_adj</th>\n",
       "    </tr>\n",
       "  </thead>\n",
       "  <tbody>\n",
       "    <tr>\n",
       "      <th>0</th>\n",
       "      <td>tt0369610</td>\n",
       "      <td>32.98576</td>\n",
       "      <td>150000000</td>\n",
       "      <td>1513528810</td>\n",
       "      <td>Jurassic World</td>\n",
       "      <td>Chris Pratt|Bryce Dallas Howard|Irrfan Khan|Vi...</td>\n",
       "      <td>Colin Trevorrow</td>\n",
       "      <td>monster|dna|tyrannosaurus rex|velociraptor|island</td>\n",
       "      <td>124</td>\n",
       "      <td>Action|Adventure|Science Fiction|Thriller</td>\n",
       "      <td>Universal Studios|Amblin Entertainment|Legenda...</td>\n",
       "      <td>2015-06-09</td>\n",
       "      <td>5562</td>\n",
       "      <td>6.50000</td>\n",
       "      <td>2015</td>\n",
       "      <td>137,999,939.28003</td>\n",
       "      <td>1,392,445,892.52380</td>\n",
       "    </tr>\n",
       "    <tr>\n",
       "      <th>1</th>\n",
       "      <td>tt1392190</td>\n",
       "      <td>28.41994</td>\n",
       "      <td>150000000</td>\n",
       "      <td>378436354</td>\n",
       "      <td>Mad Max: Fury Road</td>\n",
       "      <td>Tom Hardy|Charlize Theron|Hugh Keays-Byrne|Nic...</td>\n",
       "      <td>George Miller</td>\n",
       "      <td>future|chase|post-apocalyptic|dystopia|australia</td>\n",
       "      <td>120</td>\n",
       "      <td>Action|Adventure|Science Fiction|Thriller</td>\n",
       "      <td>Village Roadshow Pictures|Kennedy Miller Produ...</td>\n",
       "      <td>2015-05-13</td>\n",
       "      <td>6185</td>\n",
       "      <td>7.10000</td>\n",
       "      <td>2015</td>\n",
       "      <td>137,999,939.28003</td>\n",
       "      <td>348,161,292.48903</td>\n",
       "    </tr>\n",
       "    <tr>\n",
       "      <th>2</th>\n",
       "      <td>tt2908446</td>\n",
       "      <td>13.11251</td>\n",
       "      <td>110000000</td>\n",
       "      <td>295238201</td>\n",
       "      <td>Insurgent</td>\n",
       "      <td>Shailene Woodley|Theo James|Kate Winslet|Ansel...</td>\n",
       "      <td>Robert Schwentke</td>\n",
       "      <td>based on novel|revolution|dystopia|sequel|dyst...</td>\n",
       "      <td>119</td>\n",
       "      <td>Adventure|Science Fiction|Thriller</td>\n",
       "      <td>Summit Entertainment|Mandeville Films|Red Wago...</td>\n",
       "      <td>2015-03-18</td>\n",
       "      <td>2480</td>\n",
       "      <td>6.30000</td>\n",
       "      <td>2015</td>\n",
       "      <td>101,199,955.47202</td>\n",
       "      <td>271,619,025.40763</td>\n",
       "    </tr>\n",
       "    <tr>\n",
       "      <th>3</th>\n",
       "      <td>tt2488496</td>\n",
       "      <td>11.17310</td>\n",
       "      <td>200000000</td>\n",
       "      <td>2068178225</td>\n",
       "      <td>Star Wars: The Force Awakens</td>\n",
       "      <td>Harrison Ford|Mark Hamill|Carrie Fisher|Adam D...</td>\n",
       "      <td>J.J. Abrams</td>\n",
       "      <td>android|spaceship|jedi|space opera|3d</td>\n",
       "      <td>136</td>\n",
       "      <td>Action|Adventure|Science Fiction|Fantasy</td>\n",
       "      <td>Lucasfilm|Truenorth Productions|Bad Robot</td>\n",
       "      <td>2015-12-15</td>\n",
       "      <td>5292</td>\n",
       "      <td>7.50000</td>\n",
       "      <td>2015</td>\n",
       "      <td>183,999,919.04004</td>\n",
       "      <td>1,902,723,129.80182</td>\n",
       "    </tr>\n",
       "    <tr>\n",
       "      <th>4</th>\n",
       "      <td>tt2820852</td>\n",
       "      <td>9.33501</td>\n",
       "      <td>190000000</td>\n",
       "      <td>1506249360</td>\n",
       "      <td>Furious 7</td>\n",
       "      <td>Vin Diesel|Paul Walker|Jason Statham|Michelle ...</td>\n",
       "      <td>James Wan</td>\n",
       "      <td>car race|speed|revenge|suspense|car</td>\n",
       "      <td>137</td>\n",
       "      <td>Action|Crime|Thriller</td>\n",
       "      <td>Universal Pictures|Original Film|Media Rights ...</td>\n",
       "      <td>2015-04-01</td>\n",
       "      <td>2947</td>\n",
       "      <td>7.30000</td>\n",
       "      <td>2015</td>\n",
       "      <td>174,799,923.08803</td>\n",
       "      <td>1,385,748,801.47052</td>\n",
       "    </tr>\n",
       "    <tr>\n",
       "      <th>...</th>\n",
       "      <td>...</td>\n",
       "      <td>...</td>\n",
       "      <td>...</td>\n",
       "      <td>...</td>\n",
       "      <td>...</td>\n",
       "      <td>...</td>\n",
       "      <td>...</td>\n",
       "      <td>...</td>\n",
       "      <td>...</td>\n",
       "      <td>...</td>\n",
       "      <td>...</td>\n",
       "      <td>...</td>\n",
       "      <td>...</td>\n",
       "      <td>...</td>\n",
       "      <td>...</td>\n",
       "      <td>...</td>\n",
       "      <td>...</td>\n",
       "    </tr>\n",
       "    <tr>\n",
       "      <th>95</th>\n",
       "      <td>tt2974918</td>\n",
       "      <td>1.84178</td>\n",
       "      <td>0</td>\n",
       "      <td>233755553</td>\n",
       "      <td>Alvin and the Chipmunks: The Road Chip</td>\n",
       "      <td>Jason Lee|Justin Long|Bella Thorne|Matthew Gra...</td>\n",
       "      <td>Walt Becker</td>\n",
       "      <td>chipmunk|cgi|talking animal|aftercreditsstinge...</td>\n",
       "      <td>92</td>\n",
       "      <td>Adventure|Animation|Comedy|Family</td>\n",
       "      <td>Regency Enterprises|Fox 2000 Pictures|Sunswept...</td>\n",
       "      <td>2015-12-17</td>\n",
       "      <td>278</td>\n",
       "      <td>5.70000</td>\n",
       "      <td>2015</td>\n",
       "      <td>0.00000</td>\n",
       "      <td>215,055,014.13579</td>\n",
       "    </tr>\n",
       "    <tr>\n",
       "      <th>96</th>\n",
       "      <td>tt2910904</td>\n",
       "      <td>1.82313</td>\n",
       "      <td>11930000</td>\n",
       "      <td>18340000</td>\n",
       "      <td>The Dressmaker</td>\n",
       "      <td>Kate Winslet|Liam Hemsworth|Caroline Goodall|J...</td>\n",
       "      <td>Jocelyn Moorhouse</td>\n",
       "      <td>based on novel|australia|dressmaker|hometown|w...</td>\n",
       "      <td>118</td>\n",
       "      <td>Drama</td>\n",
       "      <td>Amazon Studios|Film Art Media|Apollo Media</td>\n",
       "      <td>2015-10-01</td>\n",
       "      <td>197</td>\n",
       "      <td>6.90000</td>\n",
       "      <td>2015</td>\n",
       "      <td>10,975,595.17074</td>\n",
       "      <td>16,872,792.57597</td>\n",
       "    </tr>\n",
       "    <tr>\n",
       "      <th>97</th>\n",
       "      <td>tt1666801</td>\n",
       "      <td>1.75862</td>\n",
       "      <td>8500000</td>\n",
       "      <td>43528634</td>\n",
       "      <td>The DUFF</td>\n",
       "      <td>Mae Whitman|Robbie Amell|Bella Thorne|Bianca A...</td>\n",
       "      <td>Ari Sandel</td>\n",
       "      <td>high school|teenager|popularity|high school se...</td>\n",
       "      <td>100</td>\n",
       "      <td>Romance|Comedy</td>\n",
       "      <td>Wonderland Sound and Vision|CBS Films|Vast Ent...</td>\n",
       "      <td>2015-02-20</td>\n",
       "      <td>753</td>\n",
       "      <td>6.80000</td>\n",
       "      <td>2015</td>\n",
       "      <td>7,819,996.55920</td>\n",
       "      <td>40,046,325.65962</td>\n",
       "    </tr>\n",
       "    <tr>\n",
       "      <th>98</th>\n",
       "      <td>tt2752772</td>\n",
       "      <td>1.74229</td>\n",
       "      <td>10000000</td>\n",
       "      <td>52882018</td>\n",
       "      <td>Sinister 2</td>\n",
       "      <td>Shannyn Sossamon|James Ransone|Tate Ellington|...</td>\n",
       "      <td>Ciaran Foy</td>\n",
       "      <td>haunted house|sequel|twins</td>\n",
       "      <td>97</td>\n",
       "      <td>Horror</td>\n",
       "      <td>Alliance Films|Blumhouse Productions|IM Global...</td>\n",
       "      <td>2015-08-19</td>\n",
       "      <td>331</td>\n",
       "      <td>5.50000</td>\n",
       "      <td>2015</td>\n",
       "      <td>9,199,995.95200</td>\n",
       "      <td>48,651,435.15337</td>\n",
       "    </tr>\n",
       "    <tr>\n",
       "      <th>99</th>\n",
       "      <td>tt3450650</td>\n",
       "      <td>1.73518</td>\n",
       "      <td>30000000</td>\n",
       "      <td>107597242</td>\n",
       "      <td>Paul Blart: Mall Cop 2</td>\n",
       "      <td>Kevin James|Raini Rodriguez|Eduardo VerÃ¡stegu...</td>\n",
       "      <td>Andy Fickman</td>\n",
       "      <td>shopping mall|las vegas nevada|security guard</td>\n",
       "      <td>94</td>\n",
       "      <td>Action|Adventure|Comedy|Family</td>\n",
       "      <td>Columbia Pictures|Happy Madison Productions|So...</td>\n",
       "      <td>2015-04-16</td>\n",
       "      <td>422</td>\n",
       "      <td>5.30000</td>\n",
       "      <td>2015</td>\n",
       "      <td>27,599,987.85601</td>\n",
       "      <td>98,989,419.08466</td>\n",
       "    </tr>\n",
       "  </tbody>\n",
       "</table>\n",
       "<p>100 rows × 17 columns</p>\n",
       "</div>"
      ],
      "text/plain": [
       "      imdb_id  popularity     budget     revenue  \\\n",
       "0   tt0369610    32.98576  150000000  1513528810   \n",
       "1   tt1392190    28.41994  150000000   378436354   \n",
       "2   tt2908446    13.11251  110000000   295238201   \n",
       "3   tt2488496    11.17310  200000000  2068178225   \n",
       "4   tt2820852     9.33501  190000000  1506249360   \n",
       "..        ...         ...        ...         ...   \n",
       "95  tt2974918     1.84178          0   233755553   \n",
       "96  tt2910904     1.82313   11930000    18340000   \n",
       "97  tt1666801     1.75862    8500000    43528634   \n",
       "98  tt2752772     1.74229   10000000    52882018   \n",
       "99  tt3450650     1.73518   30000000   107597242   \n",
       "\n",
       "                            original_title  \\\n",
       "0                           Jurassic World   \n",
       "1                       Mad Max: Fury Road   \n",
       "2                                Insurgent   \n",
       "3             Star Wars: The Force Awakens   \n",
       "4                                Furious 7   \n",
       "..                                     ...   \n",
       "95  Alvin and the Chipmunks: The Road Chip   \n",
       "96                          The Dressmaker   \n",
       "97                                The DUFF   \n",
       "98                              Sinister 2   \n",
       "99                  Paul Blart: Mall Cop 2   \n",
       "\n",
       "                                                 cast           director  \\\n",
       "0   Chris Pratt|Bryce Dallas Howard|Irrfan Khan|Vi...    Colin Trevorrow   \n",
       "1   Tom Hardy|Charlize Theron|Hugh Keays-Byrne|Nic...      George Miller   \n",
       "2   Shailene Woodley|Theo James|Kate Winslet|Ansel...   Robert Schwentke   \n",
       "3   Harrison Ford|Mark Hamill|Carrie Fisher|Adam D...        J.J. Abrams   \n",
       "4   Vin Diesel|Paul Walker|Jason Statham|Michelle ...          James Wan   \n",
       "..                                                ...                ...   \n",
       "95  Jason Lee|Justin Long|Bella Thorne|Matthew Gra...        Walt Becker   \n",
       "96  Kate Winslet|Liam Hemsworth|Caroline Goodall|J...  Jocelyn Moorhouse   \n",
       "97  Mae Whitman|Robbie Amell|Bella Thorne|Bianca A...         Ari Sandel   \n",
       "98  Shannyn Sossamon|James Ransone|Tate Ellington|...         Ciaran Foy   \n",
       "99  Kevin James|Raini Rodriguez|Eduardo VerÃ¡stegu...       Andy Fickman   \n",
       "\n",
       "                                             keywords  runtime  \\\n",
       "0   monster|dna|tyrannosaurus rex|velociraptor|island      124   \n",
       "1    future|chase|post-apocalyptic|dystopia|australia      120   \n",
       "2   based on novel|revolution|dystopia|sequel|dyst...      119   \n",
       "3               android|spaceship|jedi|space opera|3d      136   \n",
       "4                 car race|speed|revenge|suspense|car      137   \n",
       "..                                                ...      ...   \n",
       "95  chipmunk|cgi|talking animal|aftercreditsstinge...       92   \n",
       "96  based on novel|australia|dressmaker|hometown|w...      118   \n",
       "97  high school|teenager|popularity|high school se...      100   \n",
       "98                         haunted house|sequel|twins       97   \n",
       "99      shopping mall|las vegas nevada|security guard       94   \n",
       "\n",
       "                                       genres  \\\n",
       "0   Action|Adventure|Science Fiction|Thriller   \n",
       "1   Action|Adventure|Science Fiction|Thriller   \n",
       "2          Adventure|Science Fiction|Thriller   \n",
       "3    Action|Adventure|Science Fiction|Fantasy   \n",
       "4                       Action|Crime|Thriller   \n",
       "..                                        ...   \n",
       "95          Adventure|Animation|Comedy|Family   \n",
       "96                                      Drama   \n",
       "97                             Romance|Comedy   \n",
       "98                                     Horror   \n",
       "99             Action|Adventure|Comedy|Family   \n",
       "\n",
       "                                 production_companies release_date  \\\n",
       "0   Universal Studios|Amblin Entertainment|Legenda...   2015-06-09   \n",
       "1   Village Roadshow Pictures|Kennedy Miller Produ...   2015-05-13   \n",
       "2   Summit Entertainment|Mandeville Films|Red Wago...   2015-03-18   \n",
       "3           Lucasfilm|Truenorth Productions|Bad Robot   2015-12-15   \n",
       "4   Universal Pictures|Original Film|Media Rights ...   2015-04-01   \n",
       "..                                                ...          ...   \n",
       "95  Regency Enterprises|Fox 2000 Pictures|Sunswept...   2015-12-17   \n",
       "96         Amazon Studios|Film Art Media|Apollo Media   2015-10-01   \n",
       "97  Wonderland Sound and Vision|CBS Films|Vast Ent...   2015-02-20   \n",
       "98  Alliance Films|Blumhouse Productions|IM Global...   2015-08-19   \n",
       "99  Columbia Pictures|Happy Madison Productions|So...   2015-04-16   \n",
       "\n",
       "    vote_count  vote_average  release_year        budget_adj  \\\n",
       "0         5562       6.50000          2015 137,999,939.28003   \n",
       "1         6185       7.10000          2015 137,999,939.28003   \n",
       "2         2480       6.30000          2015 101,199,955.47202   \n",
       "3         5292       7.50000          2015 183,999,919.04004   \n",
       "4         2947       7.30000          2015 174,799,923.08803   \n",
       "..         ...           ...           ...               ...   \n",
       "95         278       5.70000          2015           0.00000   \n",
       "96         197       6.90000          2015  10,975,595.17074   \n",
       "97         753       6.80000          2015   7,819,996.55920   \n",
       "98         331       5.50000          2015   9,199,995.95200   \n",
       "99         422       5.30000          2015  27,599,987.85601   \n",
       "\n",
       "           revenue_adj  \n",
       "0  1,392,445,892.52380  \n",
       "1    348,161,292.48903  \n",
       "2    271,619,025.40763  \n",
       "3  1,902,723,129.80182  \n",
       "4  1,385,748,801.47052  \n",
       "..                 ...  \n",
       "95   215,055,014.13579  \n",
       "96    16,872,792.57597  \n",
       "97    40,046,325.65962  \n",
       "98    48,651,435.15337  \n",
       "99    98,989,419.08466  \n",
       "\n",
       "[100 rows x 17 columns]"
      ]
     },
     "execution_count": 7,
     "metadata": {},
     "output_type": "execute_result"
    }
   ],
   "source": [
    "df.head(100) #to view the first 5 rows of the data set\n"
   ]
  },
  {
   "cell_type": "markdown",
   "metadata": {},
   "source": [
    "# **In the data, the rows consists of both numerical and categorical variables.**\n",
    "\n",
    "**We have the id of the movie as well as the internet movie database id.**\n",
    "\n",
    "**The popularity of the movie as determined by the users.**\n",
    "\n",
    "**The budget available to produce the movie.**\n",
    "\n",
    "**The revenue generated after production of the movie.**\n",
    "\n",
    "**The movie's original title as well as the cast that featured in the movie**\n",
    "\n",
    "**A website link showing where the movie can be accessed for viewer's**\n",
    "\n",
    "**The director of the movie, the runtime in minutes, genres, production company, release date, voter's count and vote average**\n",
    "\n",
    "**Year of release as well as the adjusted budget and adjusted revenue generated over time to cater for inflation**"
   ]
  },
  {
   "cell_type": "code",
   "execution_count": null,
   "metadata": {},
   "outputs": [],
   "source": [
    "df.shape"
   ]
  },
  {
   "cell_type": "markdown",
   "metadata": {},
   "source": [
    "**There are 8664 rows and 17 columns in the data set**"
   ]
  },
  {
   "cell_type": "code",
   "execution_count": null,
   "metadata": {},
   "outputs": [],
   "source": [
    "df.describe().T #Descriptive statistical summary of all the numerical variables where the column and rows have been transposed for easier readability"
   ]
  },
  {
   "cell_type": "markdown",
   "metadata": {},
   "source": [
    "**The mean runtime of movies (103.8) is higher than the median runtime of movies (100.00) indicative of a data set that is slightly skewed to the right.**\n",
    "\n",
    "**There exist one or more movies with a runtime of about 705 minutes, this can only be indicative of a seasonal movie or a series of short episodes**\n",
    "\n",
    "**Based on release year, the oldest movie appears to have been released in 1960 while the most recent movie(s) we released in year 2015 and the average release date of all movies is around year 2000**\n",
    "\n",
    "**Over 50% of the movies were released from 2004 onwards**\n",
    "\n",
    "**The average revenue generated for all movies was around 49.2million while the maximum revenue for a single movie was around 2.78billion**\n",
    "\n",
    "**Due to inflation that could arise over years, the mean budget was seen to have been adjusted for movies by about 3.7million while the cap for budget adjustment was still maintained at 425 million.**\n",
    "\n"
   ]
  },
  {
   "cell_type": "code",
   "execution_count": null,
   "metadata": {
    "scrolled": true
   },
   "outputs": [],
   "source": [
    "df.describe(include='all').T #descriptive statistical summary of both numerical and categorical variable where the column and rows have been transposed for easier readability#"
   ]
  },
  {
   "cell_type": "code",
   "execution_count": null,
   "metadata": {},
   "outputs": [],
   "source": [
    "df.info() #to check the categorization of the data set"
   ]
  },
  {
   "cell_type": "markdown",
   "metadata": {},
   "source": [
    "**From the information above, imdb_id has some missing values**\n",
    "\n",
    "**cast has some missing values,homepage, director, tagline,keywords,overview,genres, production_companies all have missing values**"
   ]
  },
  {
   "cell_type": "code",
   "execution_count": null,
   "metadata": {},
   "outputs": [],
   "source": [
    "df.duplicated().sum()"
   ]
  },
  {
   "cell_type": "markdown",
   "metadata": {},
   "source": [
    "\n",
    "### Data Cleaning(Removal of columns not neccesary for analysis as well as treating missing and duplicated values)"
   ]
  },
  {
   "cell_type": "code",
   "execution_count": null,
   "metadata": {},
   "outputs": [],
   "source": [
    "df['release_date'] = pd.to_datetime(df['release_date'])"
   ]
  },
  {
   "cell_type": "markdown",
   "metadata": {},
   "source": [
    "**The code above converts release_date to a suitable date time format**"
   ]
  },
  {
   "cell_type": "code",
   "execution_count": null,
   "metadata": {},
   "outputs": [],
   "source": [
    "df.drop(['id','homepage','tagline','overview'], axis=1, inplace=True) #to drop columns not necessary in this analysis"
   ]
  },
  {
   "cell_type": "code",
   "execution_count": null,
   "metadata": {},
   "outputs": [],
   "source": [
    "df.head()#to confirm the rows not needed were sucessfully dropped"
   ]
  },
  {
   "cell_type": "code",
   "execution_count": null,
   "metadata": {},
   "outputs": [],
   "source": [
    "df.info()"
   ]
  },
  {
   "cell_type": "code",
   "execution_count": null,
   "metadata": {},
   "outputs": [],
   "source": [
    "df.drop_duplicates(inplace=True) # drop duplicates and keep new dataframe"
   ]
  },
  {
   "cell_type": "code",
   "execution_count": null,
   "metadata": {},
   "outputs": [],
   "source": [
    "df.duplicated().sum()"
   ]
  },
  {
   "cell_type": "markdown",
   "metadata": {},
   "source": [
    "**At this stage, there are no duplicated data in the data set**\n"
   ]
  },
  {
   "cell_type": "markdown",
   "metadata": {},
   "source": [
    "**Knowing that columns such as imdb_id, cast,director,keywords, genres and production companies contain null vaues, dropping the null values makes it easier for the analysis of an already large data set.**"
   ]
  },
  {
   "cell_type": "code",
   "execution_count": null,
   "metadata": {},
   "outputs": [],
   "source": [
    "df[df.genres.isnull()] "
   ]
  },
  {
   "cell_type": "code",
   "execution_count": null,
   "metadata": {
    "scrolled": true
   },
   "outputs": [],
   "source": [
    "df[df.imdb_id.isnull()]"
   ]
  },
  {
   "cell_type": "code",
   "execution_count": null,
   "metadata": {},
   "outputs": [],
   "source": [
    "df.dropna(inplace=True) # to clean the data set for uniformity, all null values have been dropped"
   ]
  },
  {
   "cell_type": "code",
   "execution_count": null,
   "metadata": {},
   "outputs": [],
   "source": [
    "df.to_csv('tmdb-movies.csv', index=False) # to save new data frame to csv file"
   ]
  },
  {
   "cell_type": "code",
   "execution_count": null,
   "metadata": {},
   "outputs": [],
   "source": [
    "df.info() #to check if all null values have been dropped."
   ]
  },
  {
   "cell_type": "code",
   "execution_count": null,
   "metadata": {},
   "outputs": [],
   "source": [
    "df.isnull().sum() #sum of all null values#"
   ]
  },
  {
   "cell_type": "markdown",
   "metadata": {},
   "source": [
    "**This confirms that there are no null values in the data set and we can start exploratory data analysis**"
   ]
  },
  {
   "cell_type": "markdown",
   "metadata": {},
   "source": [
    "<a id='eda'></a>\n",
    "## Exploratory Data Analysis\n",
    "\n",
    "> **Tip**: Now that you've trimmed and cleaned your data, you're ready to move on to exploration. Compute statistics and create visualizations with the goal of addressing the research questions that you posed in the Introduction section. It is recommended that you be systematic with your approach. Look at one variable at a time, and then follow it up by looking at relationships between variables.\n",
    "\n"
   ]
  },
  {
   "cell_type": "markdown",
   "metadata": {},
   "source": [
    "### How many unique directors were involved in the production of all movies from 1960 till date?\n"
   ]
  },
  {
   "cell_type": "code",
   "execution_count": null,
   "metadata": {},
   "outputs": [],
   "source": [
    "df['director'].nunique()"
   ]
  },
  {
   "cell_type": "markdown",
   "metadata": {},
   "source": [
    "**A total of 3951 unique directors across board**"
   ]
  },
  {
   "cell_type": "markdown",
   "metadata": {},
   "source": [
    "### How many categories of genres were considered in the data set?"
   ]
  },
  {
   "cell_type": "code",
   "execution_count": null,
   "metadata": {},
   "outputs": [],
   "source": [
    "df['genres'].nunique()"
   ]
  },
  {
   "cell_type": "markdown",
   "metadata": {},
   "source": [
    "**A total of1784 different genres**"
   ]
  },
  {
   "cell_type": "markdown",
   "metadata": {},
   "source": [
    "### which of the genre(s) had the maximun number of movies associated/produced for them and which genre(s) had the least?"
   ]
  },
  {
   "cell_type": "code",
   "execution_count": null,
   "metadata": {},
   "outputs": [],
   "source": [
    "print(df['genres'].max())\n",
    "print(df['genres'].min())"
   ]
  },
  {
   "cell_type": "markdown",
   "metadata": {},
   "source": [
    "**The most popular genre in the collection is the western thriller and the least popular genre is the Action movie**"
   ]
  },
  {
   "cell_type": "markdown",
   "metadata": {},
   "source": [
    "### which of the production companies had produced the least number of movies from 1960 till date?"
   ]
  },
  {
   "cell_type": "code",
   "execution_count": null,
   "metadata": {},
   "outputs": [],
   "source": [
    "df['production_companies'].min()"
   ]
  },
  {
   "cell_type": "markdown",
   "metadata": {},
   "source": [
    "**The company or group of companies with the least number of movies produced is given as '(10th Hole Productions|Anonymous Content|Ambush Entertainment|Maven Pictures|Foggy Bottom Pictures).**\n"
   ]
  },
  {
   "cell_type": "markdown",
   "metadata": {},
   "source": [
    "### what are the top 5 movies with the highest revenue generated?"
   ]
  },
  {
   "cell_type": "code",
   "execution_count": null,
   "metadata": {},
   "outputs": [],
   "source": [
    "df.groupby(['original_title'])['revenue'].sum().sort_values(ascending = False).reset_index().head()"
   ]
  },
  {
   "cell_type": "markdown",
   "metadata": {},
   "source": [
    "**Avatar was the movie that generated the highest revenue worth 2.78 billion, closely followed by Starwars**"
   ]
  },
  {
   "cell_type": "markdown",
   "metadata": {},
   "source": [
    "### Top 10 Movies with the longest runtime?"
   ]
  },
  {
   "cell_type": "code",
   "execution_count": null,
   "metadata": {},
   "outputs": [],
   "source": [
    "df.groupby(['original_title'])['runtime'].sum().sort_values(ascending = False).reset_index().head(10)"
   ]
  },
  {
   "cell_type": "markdown",
   "metadata": {},
   "source": [
    "**The movie with title (taken) has the longest runtime of 720**"
   ]
  },
  {
   "cell_type": "markdown",
   "metadata": {},
   "source": [
    "### It is worth investigating the production companies that make the highest revenue based on their produced movies"
   ]
  },
  {
   "cell_type": "code",
   "execution_count": null,
   "metadata": {},
   "outputs": [],
   "source": [
    "df.groupby(['production_companies'])['revenue'].sum().sort_values(ascending = False).reset_index().head(10)"
   ]
  },
  {
   "cell_type": "markdown",
   "metadata": {},
   "source": [
    "**The top 10 companies with the highest revenue generated over the years are shown with paramount pictures topping the list**"
   ]
  },
  {
   "cell_type": "markdown",
   "metadata": {},
   "source": [
    "### Distribution of runtime in minutes for all the movies"
   ]
  },
  {
   "cell_type": "code",
   "execution_count": null,
   "metadata": {},
   "outputs": [],
   "source": [
    "plt.figure(figsize = (10,5))# figure to be drawn with a width of 20inches and an height of 7inches\n",
    "plt.title('Boxplot:runtime') #title of the plot\n",
    "sns.boxplot(data = df, x = 'runtime');\n",
    "plt.xlabel('runtime') #x-axis title\n",
    "plt.xticks(rotation=90); #rotating the x-labels by 90 degrees for better orientation"
   ]
  },
  {
   "cell_type": "markdown",
   "metadata": {},
   "source": [
    "**There exists a lot of outliers with the run time of the movies in this data set. For this reason, one can infer that majority of the movies with a runtime greater than 150 minutes were a series or seasonal movies**"
   ]
  },
  {
   "cell_type": "code",
   "execution_count": null,
   "metadata": {},
   "outputs": [],
   "source": [
    "plt.figure(figsize = (20,7))# figure to be drawn with a width of 20inches and an height of 7inches\n",
    "plt.title('histplot:popularity') #title of the plot\n",
    "plt.ylim(0,2000) #limit on the y-axis running from 0 to 2000\n",
    "sns.histplot(data = df, x = 'popularity', bins=20);\n",
    "plt.xlabel('popularity') #x-axis title\n",
    "plt.xticks(rotation=90); #rotating the x-labels by 90 degrees for better orientation"
   ]
  },
  {
   "cell_type": "markdown",
   "metadata": {},
   "source": [
    "**Majority of the films have a popularity ranking between 0 and 13 which makes this a right skewed distribution**"
   ]
  },
  {
   "cell_type": "markdown",
   "metadata": {},
   "source": [
    "### Correlations that exist between variables"
   ]
  },
  {
   "cell_type": "code",
   "execution_count": null,
   "metadata": {},
   "outputs": [],
   "source": [
    "#Heat map of all the numerical variables as learnt from texas Mccombs school of business.\n",
    "plt.figure(figsize=(10, 5)) # figure to be drawn with a width of 10inches and an height of 5inches\n",
    "#annot=true to display the correclation values in the grid, fmt=.2f to show 2 decimal places and cmap is set to show grid colours of yellow,green and blue\n",
    "sns.heatmap(data=df[['popularity','budget', 'revenue','runtime','vote_count','vote_average','release_year','budget_adj','revenue_adj']].corr(), annot=True, fmt=\".2f\", cmap='YlGnBu');"
   ]
  },
  {
   "cell_type": "markdown",
   "metadata": {},
   "source": [
    "**There is a negative correlation between runtime and release year and this is worth investigating**"
   ]
  },
  {
   "cell_type": "markdown",
   "metadata": {},
   "source": [
    "### lets see the correlation between runtime and release year of movies"
   ]
  },
  {
   "cell_type": "code",
   "execution_count": 9,
   "metadata": {},
   "outputs": [
    {
     "data": {
      "image/png": "[encoded data removed]",
      "text/plain": [
       "<Figure size 720x360 with 1 Axes>"
      ]
     },
     "metadata": {
      "needs_background": "light"
     },
     "output_type": "display_data"
    }
   ],
   "source": [
    "plt.figure(figsize=(10,5))\n",
    "sns.lineplot(data=df, y='runtime',x='release_year' );#technique taken from Texas Mccombs school of business"
   ]
  },
  {
   "cell_type": "markdown",
   "metadata": {
    "collapsed": true
   },
   "source": [
    "**Majority of the movies produced in recent time had runtime reduced, this was probably in a bit to capture the attention of the audience and not make it excessively long and boring**"
   ]
  },
  {
   "cell_type": "markdown",
   "metadata": {},
   "source": [
    "### lets see the correlation between vote_average and release year of movies"
   ]
  },
  {
   "cell_type": "code",
   "execution_count": 8,
   "metadata": {},
   "outputs": [
    {
     "data": {
      "image/png": "[encoded data removed]",
      "text/plain": [
       "<Figure size 720x360 with 1 Axes>"
      ]
     },
     "metadata": {
      "needs_background": "light"
     },
     "output_type": "display_data"
    }
   ],
   "source": [
    "plt.figure(figsize=(10,5))\n",
    "sns.lineplot(data=df, y='vote_average',x='release_year' );#technique taken from Texas Mccombs school of business"
   ]
  },
  {
   "cell_type": "markdown",
   "metadata": {},
   "source": [
    "**The average votes for movies gradually declined overtime**"
   ]
  },
  {
   "cell_type": "markdown",
   "metadata": {},
   "source": [
    "<a id='conclusions'></a>\n",
    "## Conclusions\n",
    "\n",
    "**Paramount pictures have generated the highest revenue till date**\n",
    "\n",
    "**A total of 3951 directors have been involved in all the movies produced from 1960 till date**\n",
    "\n",
    "**The most popular genre is the thriller which might be suggestive of the fact that people enjoy it a lot as compared to others necessitating the need to produce more of thriller related movies**\n",
    "\n",
    "**Amongst other companies, kilburn media has not generated a single revenue till date.**\n",
    "\n",
    "**runtime and vote_average were seen to be decreasing as release year was becoming more recent**\n",
    "\n"
   ]
  },
  {
   "cell_type": "code",
   "execution_count": null,
   "metadata": {},
   "outputs": [],
   "source": []
  }
 ],
 "metadata": {
  "kernelspec": {
   "display_name": "Python 3 (ipykernel)",
   "language": "python",
   "name": "python3"
  },
  "language_info": {
   "codemirror_mode": {
    "name": "ipython",
    "version": 3
   },
   "file_extension": ".py",
   "mimetype": "text/x-python",
   "name": "python",
   "nbconvert_exporter": "python",
   "pygments_lexer": "ipython3",
   "version": "3.9.7"
  }
 },
 "nbformat": 4,
 "nbformat_minor": 2
}
