{
 "cells": [
  {
   "cell_type": "markdown",
   "metadata": {},
   "source": [
    "# Project: Investigating No Show Appointments\n",
    "\n",
    "## Table of Contents\n",
    "<ul>\n",
    "<li><a href=\"#intro\">Introduction</a></li>\n",
    "<li><a href=\"#wrangling\">Data Wrangling</a></li>\n",
    "<li><a href=\"#eda\">Exploratory Data Analysis</a></li>\n",
    "<li><a href=\"#conclusions\">Conclusions</a></li>\n",
    "</ul>"
   ]
  },
  {
   "cell_type": "markdown",
   "metadata": {},
   "source": [
    "<a id='intro'></a>\n",
    "## Introduction\n",
    "\n",
    "The dataset chosen for analysis covers various aspects regarding medical appointments in Brazil. The type of data collected is date of appointment, type of condition a patient may have, the neighbourhood of the clinic site, and several others data points. The focus of the analysis will be centered on the number of No-show appointments. Using that as the dependent variable three independent variables will be analyzed - WeekDay, Condition, and Neighbourhood.\n",
    "\n",
    "The questions I will be looking to gain insight on:\n",
    "1. Does the day of the week play a role in the number of no-show appointments?\n",
    "2. Does the condition for which the patient is coming in have an affect on the number of no-show appointments?\n",
    "3. Is there a neighbourhood that stands out from the rest as having a higher proportion of no-show appointments?\n"
   ]
  },
  {
   "cell_type": "code",
   "execution_count": 1,
   "metadata": {},
   "outputs": [
    {
     "name": "stdout",
     "output_type": "stream",
     "text": [
      "Automatic pdb calling has been turned ON\n"
     ]
    }
   ],
   "source": [
    "import numpy as np\n",
    "import pandas as pd\n",
    "import nbconvert as nb\n",
    "import matplotlib.pyplot as plt\n",
    "%matplotlib inline\n",
    "%pdb"
   ]
  },
  {
   "cell_type": "markdown",
   "metadata": {},
   "source": [
    "<a id='wrangling'></a>\n",
    "## Data Wrangling\n",
    "\n",
    "\n",
    "### General Properties\n",
    "\n",
    "First, I will read in the csv. Then take a look at the column names along with their dtypes."
   ]
  },
  {
   "cell_type": "code",
   "execution_count": 2,
   "metadata": {},
   "outputs": [],
   "source": [
    "no_show_appts = pd.read_csv('noshowappointments-kagglev2-may-2016.csv')"
   ]
  },
  {
   "cell_type": "code",
   "execution_count": 3,
   "metadata": {},
   "outputs": [
    {
     "data": {
      "text/plain": [
       "PatientId         float64\n",
       "AppointmentID       int64\n",
       "Gender             object\n",
       "ScheduledDay       object\n",
       "AppointmentDay     object\n",
       "Age                 int64\n",
       "Neighbourhood      object\n",
       "Scholarship         int64\n",
       "Hipertension        int64\n",
       "Diabetes            int64\n",
       "Alcoholism          int64\n",
       "Handcap             int64\n",
       "SMS_received        int64\n",
       "No-show            object\n",
       "dtype: object"
      ]
     },
     "execution_count": 3,
     "metadata": {},
     "output_type": "execute_result"
    }
   ],
   "source": [
    "no_show_appts.dtypes"
   ]
  },
  {
   "cell_type": "markdown",
   "metadata": {},
   "source": [
    "The next two cells are used to add a 'WeekDayAppt' column so the data can be analyzed based on day of the week. Then I take a look at the first few lines to make sure the day of the week is correct."
   ]
  },
  {
   "cell_type": "code",
   "execution_count": 4,
   "metadata": {},
   "outputs": [],
   "source": [
    "no_show_appts['DatetimeApptDay'] = pd.to_datetime(no_show_appts['AppointmentDay'])"
   ]
  },
  {
   "cell_type": "code",
   "execution_count": 5,
   "metadata": {},
   "outputs": [],
   "source": [
    "no_show_appts['WeekDayAppt'] = no_show_appts['DatetimeApptDay'].dt.day_name()"
   ]
  },
  {
   "cell_type": "code",
   "execution_count": 6,
   "metadata": {},
   "outputs": [
    {
     "data": {
      "text/html": [
       "<div>\n",
       "<style scoped>\n",
       "    .dataframe tbody tr th:only-of-type {\n",
       "        vertical-align: middle;\n",
       "    }\n",
       "\n",
       "    .dataframe tbody tr th {\n",
       "        vertical-align: top;\n",
       "    }\n",
       "\n",
       "    .dataframe thead th {\n",
       "        text-align: right;\n",
       "    }\n",
       "</style>\n",
       "<table border=\"1\" class=\"dataframe\">\n",
       "  <thead>\n",
       "    <tr style=\"text-align: right;\">\n",
       "      <th></th>\n",
       "      <th>PatientId</th>\n",
       "      <th>AppointmentID</th>\n",
       "      <th>Gender</th>\n",
       "      <th>ScheduledDay</th>\n",
       "      <th>AppointmentDay</th>\n",
       "      <th>Age</th>\n",
       "      <th>Neighbourhood</th>\n",
       "      <th>Scholarship</th>\n",
       "      <th>Hipertension</th>\n",
       "      <th>Diabetes</th>\n",
       "      <th>Alcoholism</th>\n",
       "      <th>Handcap</th>\n",
       "      <th>SMS_received</th>\n",
       "      <th>No-show</th>\n",
       "      <th>DatetimeApptDay</th>\n",
       "      <th>WeekDayAppt</th>\n",
       "    </tr>\n",
       "  </thead>\n",
       "  <tbody>\n",
       "    <tr>\n",
       "      <th>0</th>\n",
       "      <td>2.987250e+13</td>\n",
       "      <td>5642903</td>\n",
       "      <td>F</td>\n",
       "      <td>2016-04-29T18:38:08Z</td>\n",
       "      <td>2016-04-29T00:00:00Z</td>\n",
       "      <td>62</td>\n",
       "      <td>JARDIM DA PENHA</td>\n",
       "      <td>0</td>\n",
       "      <td>1</td>\n",
       "      <td>0</td>\n",
       "      <td>0</td>\n",
       "      <td>0</td>\n",
       "      <td>0</td>\n",
       "      <td>No</td>\n",
       "      <td>2016-04-29 00:00:00+00:00</td>\n",
       "      <td>Friday</td>\n",
       "    </tr>\n",
       "    <tr>\n",
       "      <th>1</th>\n",
       "      <td>5.589978e+14</td>\n",
       "      <td>5642503</td>\n",
       "      <td>M</td>\n",
       "      <td>2016-04-29T16:08:27Z</td>\n",
       "      <td>2016-04-29T00:00:00Z</td>\n",
       "      <td>56</td>\n",
       "      <td>JARDIM DA PENHA</td>\n",
       "      <td>0</td>\n",
       "      <td>0</td>\n",
       "      <td>0</td>\n",
       "      <td>0</td>\n",
       "      <td>0</td>\n",
       "      <td>0</td>\n",
       "      <td>No</td>\n",
       "      <td>2016-04-29 00:00:00+00:00</td>\n",
       "      <td>Friday</td>\n",
       "    </tr>\n",
       "    <tr>\n",
       "      <th>2</th>\n",
       "      <td>4.262962e+12</td>\n",
       "      <td>5642549</td>\n",
       "      <td>F</td>\n",
       "      <td>2016-04-29T16:19:04Z</td>\n",
       "      <td>2016-04-29T00:00:00Z</td>\n",
       "      <td>62</td>\n",
       "      <td>MATA DA PRAIA</td>\n",
       "      <td>0</td>\n",
       "      <td>0</td>\n",
       "      <td>0</td>\n",
       "      <td>0</td>\n",
       "      <td>0</td>\n",
       "      <td>0</td>\n",
       "      <td>No</td>\n",
       "      <td>2016-04-29 00:00:00+00:00</td>\n",
       "      <td>Friday</td>\n",
       "    </tr>\n",
       "    <tr>\n",
       "      <th>3</th>\n",
       "      <td>8.679512e+11</td>\n",
       "      <td>5642828</td>\n",
       "      <td>F</td>\n",
       "      <td>2016-04-29T17:29:31Z</td>\n",
       "      <td>2016-04-29T00:00:00Z</td>\n",
       "      <td>8</td>\n",
       "      <td>PONTAL DE CAMBURI</td>\n",
       "      <td>0</td>\n",
       "      <td>0</td>\n",
       "      <td>0</td>\n",
       "      <td>0</td>\n",
       "      <td>0</td>\n",
       "      <td>0</td>\n",
       "      <td>No</td>\n",
       "      <td>2016-04-29 00:00:00+00:00</td>\n",
       "      <td>Friday</td>\n",
       "    </tr>\n",
       "    <tr>\n",
       "      <th>4</th>\n",
       "      <td>8.841186e+12</td>\n",
       "      <td>5642494</td>\n",
       "      <td>F</td>\n",
       "      <td>2016-04-29T16:07:23Z</td>\n",
       "      <td>2016-04-29T00:00:00Z</td>\n",
       "      <td>56</td>\n",
       "      <td>JARDIM DA PENHA</td>\n",
       "      <td>0</td>\n",
       "      <td>1</td>\n",
       "      <td>1</td>\n",
       "      <td>0</td>\n",
       "      <td>0</td>\n",
       "      <td>0</td>\n",
       "      <td>No</td>\n",
       "      <td>2016-04-29 00:00:00+00:00</td>\n",
       "      <td>Friday</td>\n",
       "    </tr>\n",
       "  </tbody>\n",
       "</table>\n",
       "</div>"
      ],
      "text/plain": [
       "      PatientId  AppointmentID Gender          ScheduledDay  \\\n",
       "0  2.987250e+13        5642903      F  2016-04-29T18:38:08Z   \n",
       "1  5.589978e+14        5642503      M  2016-04-29T16:08:27Z   \n",
       "2  4.262962e+12        5642549      F  2016-04-29T16:19:04Z   \n",
       "3  8.679512e+11        5642828      F  2016-04-29T17:29:31Z   \n",
       "4  8.841186e+12        5642494      F  2016-04-29T16:07:23Z   \n",
       "\n",
       "         AppointmentDay  Age      Neighbourhood  Scholarship  Hipertension  \\\n",
       "0  2016-04-29T00:00:00Z   62    JARDIM DA PENHA            0             1   \n",
       "1  2016-04-29T00:00:00Z   56    JARDIM DA PENHA            0             0   \n",
       "2  2016-04-29T00:00:00Z   62      MATA DA PRAIA            0             0   \n",
       "3  2016-04-29T00:00:00Z    8  PONTAL DE CAMBURI            0             0   \n",
       "4  2016-04-29T00:00:00Z   56    JARDIM DA PENHA            0             1   \n",
       "\n",
       "   Diabetes  Alcoholism  Handcap  SMS_received No-show  \\\n",
       "0         0           0        0             0      No   \n",
       "1         0           0        0             0      No   \n",
       "2         0           0        0             0      No   \n",
       "3         0           0        0             0      No   \n",
       "4         1           0        0             0      No   \n",
       "\n",
       "            DatetimeApptDay WeekDayAppt  \n",
       "0 2016-04-29 00:00:00+00:00      Friday  \n",
       "1 2016-04-29 00:00:00+00:00      Friday  \n",
       "2 2016-04-29 00:00:00+00:00      Friday  \n",
       "3 2016-04-29 00:00:00+00:00      Friday  \n",
       "4 2016-04-29 00:00:00+00:00      Friday  "
      ]
     },
     "execution_count": 6,
     "metadata": {},
     "output_type": "execute_result"
    }
   ],
   "source": [
    "no_show_appts.head()"
   ]
  },
  {
   "cell_type": "markdown",
   "metadata": {},
   "source": [
    "## Data Cleaning"
   ]
  },
  {
   "cell_type": "markdown",
   "metadata": {},
   "source": [
    "The following two cells show that there are no repeated appointment ids. This tells me that the appointment id is the unique key, there are no duplicates, and that column is clean."
   ]
  },
  {
   "cell_type": "code",
   "execution_count": 7,
   "metadata": {},
   "outputs": [
    {
     "data": {
      "text/plain": [
       "110527"
      ]
     },
     "execution_count": 7,
     "metadata": {},
     "output_type": "execute_result"
    }
   ],
   "source": [
    "len(no_show_appts['AppointmentID'])"
   ]
  },
  {
   "cell_type": "code",
   "execution_count": 8,
   "metadata": {},
   "outputs": [
    {
     "data": {
      "text/plain": [
       "110527"
      ]
     },
     "execution_count": 8,
     "metadata": {},
     "output_type": "execute_result"
    }
   ],
   "source": [
    "len(no_show_appts['AppointmentID'].unique())"
   ]
  },
  {
   "cell_type": "markdown",
   "metadata": {},
   "source": [
    "Next I used '.describe()' to see if anything looked out of place."
   ]
  },
  {
   "cell_type": "code",
   "execution_count": 9,
   "metadata": {},
   "outputs": [
    {
     "data": {
      "text/html": [
       "<div>\n",
       "<style scoped>\n",
       "    .dataframe tbody tr th:only-of-type {\n",
       "        vertical-align: middle;\n",
       "    }\n",
       "\n",
       "    .dataframe tbody tr th {\n",
       "        vertical-align: top;\n",
       "    }\n",
       "\n",
       "    .dataframe thead th {\n",
       "        text-align: right;\n",
       "    }\n",
       "</style>\n",
       "<table border=\"1\" class=\"dataframe\">\n",
       "  <thead>\n",
       "    <tr style=\"text-align: right;\">\n",
       "      <th></th>\n",
       "      <th>PatientId</th>\n",
       "      <th>AppointmentID</th>\n",
       "      <th>Age</th>\n",
       "      <th>Scholarship</th>\n",
       "      <th>Hipertension</th>\n",
       "      <th>Diabetes</th>\n",
       "      <th>Alcoholism</th>\n",
       "      <th>Handcap</th>\n",
       "      <th>SMS_received</th>\n",
       "    </tr>\n",
       "  </thead>\n",
       "  <tbody>\n",
       "    <tr>\n",
       "      <th>count</th>\n",
       "      <td>1.105270e+05</td>\n",
       "      <td>1.105270e+05</td>\n",
       "      <td>110527.000000</td>\n",
       "      <td>110527.000000</td>\n",
       "      <td>110527.000000</td>\n",
       "      <td>110527.000000</td>\n",
       "      <td>110527.000000</td>\n",
       "      <td>110527.000000</td>\n",
       "      <td>110527.000000</td>\n",
       "    </tr>\n",
       "    <tr>\n",
       "      <th>mean</th>\n",
       "      <td>1.474963e+14</td>\n",
       "      <td>5.675305e+06</td>\n",
       "      <td>37.088874</td>\n",
       "      <td>0.098266</td>\n",
       "      <td>0.197246</td>\n",
       "      <td>0.071865</td>\n",
       "      <td>0.030400</td>\n",
       "      <td>0.022248</td>\n",
       "      <td>0.321026</td>\n",
       "    </tr>\n",
       "    <tr>\n",
       "      <th>std</th>\n",
       "      <td>2.560949e+14</td>\n",
       "      <td>7.129575e+04</td>\n",
       "      <td>23.110205</td>\n",
       "      <td>0.297675</td>\n",
       "      <td>0.397921</td>\n",
       "      <td>0.258265</td>\n",
       "      <td>0.171686</td>\n",
       "      <td>0.161543</td>\n",
       "      <td>0.466873</td>\n",
       "    </tr>\n",
       "    <tr>\n",
       "      <th>min</th>\n",
       "      <td>3.921784e+04</td>\n",
       "      <td>5.030230e+06</td>\n",
       "      <td>-1.000000</td>\n",
       "      <td>0.000000</td>\n",
       "      <td>0.000000</td>\n",
       "      <td>0.000000</td>\n",
       "      <td>0.000000</td>\n",
       "      <td>0.000000</td>\n",
       "      <td>0.000000</td>\n",
       "    </tr>\n",
       "    <tr>\n",
       "      <th>25%</th>\n",
       "      <td>4.172614e+12</td>\n",
       "      <td>5.640286e+06</td>\n",
       "      <td>18.000000</td>\n",
       "      <td>0.000000</td>\n",
       "      <td>0.000000</td>\n",
       "      <td>0.000000</td>\n",
       "      <td>0.000000</td>\n",
       "      <td>0.000000</td>\n",
       "      <td>0.000000</td>\n",
       "    </tr>\n",
       "    <tr>\n",
       "      <th>50%</th>\n",
       "      <td>3.173184e+13</td>\n",
       "      <td>5.680573e+06</td>\n",
       "      <td>37.000000</td>\n",
       "      <td>0.000000</td>\n",
       "      <td>0.000000</td>\n",
       "      <td>0.000000</td>\n",
       "      <td>0.000000</td>\n",
       "      <td>0.000000</td>\n",
       "      <td>0.000000</td>\n",
       "    </tr>\n",
       "    <tr>\n",
       "      <th>75%</th>\n",
       "      <td>9.439172e+13</td>\n",
       "      <td>5.725524e+06</td>\n",
       "      <td>55.000000</td>\n",
       "      <td>0.000000</td>\n",
       "      <td>0.000000</td>\n",
       "      <td>0.000000</td>\n",
       "      <td>0.000000</td>\n",
       "      <td>0.000000</td>\n",
       "      <td>1.000000</td>\n",
       "    </tr>\n",
       "    <tr>\n",
       "      <th>max</th>\n",
       "      <td>9.999816e+14</td>\n",
       "      <td>5.790484e+06</td>\n",
       "      <td>115.000000</td>\n",
       "      <td>1.000000</td>\n",
       "      <td>1.000000</td>\n",
       "      <td>1.000000</td>\n",
       "      <td>1.000000</td>\n",
       "      <td>4.000000</td>\n",
       "      <td>1.000000</td>\n",
       "    </tr>\n",
       "  </tbody>\n",
       "</table>\n",
       "</div>"
      ],
      "text/plain": [
       "          PatientId  AppointmentID            Age    Scholarship  \\\n",
       "count  1.105270e+05   1.105270e+05  110527.000000  110527.000000   \n",
       "mean   1.474963e+14   5.675305e+06      37.088874       0.098266   \n",
       "std    2.560949e+14   7.129575e+04      23.110205       0.297675   \n",
       "min    3.921784e+04   5.030230e+06      -1.000000       0.000000   \n",
       "25%    4.172614e+12   5.640286e+06      18.000000       0.000000   \n",
       "50%    3.173184e+13   5.680573e+06      37.000000       0.000000   \n",
       "75%    9.439172e+13   5.725524e+06      55.000000       0.000000   \n",
       "max    9.999816e+14   5.790484e+06     115.000000       1.000000   \n",
       "\n",
       "        Hipertension       Diabetes     Alcoholism        Handcap  \\\n",
       "count  110527.000000  110527.000000  110527.000000  110527.000000   \n",
       "mean        0.197246       0.071865       0.030400       0.022248   \n",
       "std         0.397921       0.258265       0.171686       0.161543   \n",
       "min         0.000000       0.000000       0.000000       0.000000   \n",
       "25%         0.000000       0.000000       0.000000       0.000000   \n",
       "50%         0.000000       0.000000       0.000000       0.000000   \n",
       "75%         0.000000       0.000000       0.000000       0.000000   \n",
       "max         1.000000       1.000000       1.000000       4.000000   \n",
       "\n",
       "        SMS_received  \n",
       "count  110527.000000  \n",
       "mean        0.321026  \n",
       "std         0.466873  \n",
       "min         0.000000  \n",
       "25%         0.000000  \n",
       "50%         0.000000  \n",
       "75%         1.000000  \n",
       "max         1.000000  "
      ]
     },
     "execution_count": 9,
     "metadata": {},
     "output_type": "execute_result"
    }
   ],
   "source": [
    "no_show_appts.describe()"
   ]
  },
  {
   "cell_type": "markdown",
   "metadata": {},
   "source": [
    "From the chart above, we see a few things that need to be cleaned up:\n",
    "1. 'Age' of less than 0 and greater than 100. To clean the data up, I removed any 'Age' < 1 and > 100. \n",
    "2. max 'Handcap' = 4. I would expect the max to be 1 just like the rest of the conditions. To clean this, I set any number > 1 to 1.\n",
    "3. Hipertension to Hypertension\n",
    "4. Handcap to Handicap"
   ]
  },
  {
   "cell_type": "code",
   "execution_count": 10,
   "metadata": {},
   "outputs": [],
   "source": [
    "no_show_appts.drop(no_show_appts[no_show_appts['Age'] < 1].index, inplace=True)"
   ]
  },
  {
   "cell_type": "code",
   "execution_count": 11,
   "metadata": {},
   "outputs": [],
   "source": [
    "no_show_appts.drop(no_show_appts[no_show_appts['Age'] > 100].index, inplace=True)"
   ]
  },
  {
   "cell_type": "code",
   "execution_count": 12,
   "metadata": {},
   "outputs": [],
   "source": [
    "no_show_appts.loc[no_show_appts['Handcap'] > 1, 'Handcap'] = 1"
   ]
  },
  {
   "cell_type": "code",
   "execution_count": 13,
   "metadata": {},
   "outputs": [],
   "source": [
    "no_show_appts.rename(columns={'Hipertension':'Hypertension', 'Handcap':'Handicap'}, inplace=True)"
   ]
  },
  {
   "cell_type": "markdown",
   "metadata": {},
   "source": [
    "I ran the below to confirm the changes above."
   ]
  },
  {
   "cell_type": "code",
   "execution_count": 14,
   "metadata": {},
   "outputs": [
    {
     "data": {
      "text/html": [
       "<div>\n",
       "<style scoped>\n",
       "    .dataframe tbody tr th:only-of-type {\n",
       "        vertical-align: middle;\n",
       "    }\n",
       "\n",
       "    .dataframe tbody tr th {\n",
       "        vertical-align: top;\n",
       "    }\n",
       "\n",
       "    .dataframe thead th {\n",
       "        text-align: right;\n",
       "    }\n",
       "</style>\n",
       "<table border=\"1\" class=\"dataframe\">\n",
       "  <thead>\n",
       "    <tr style=\"text-align: right;\">\n",
       "      <th></th>\n",
       "      <th>PatientId</th>\n",
       "      <th>AppointmentID</th>\n",
       "      <th>Age</th>\n",
       "      <th>Scholarship</th>\n",
       "      <th>Hypertension</th>\n",
       "      <th>Diabetes</th>\n",
       "      <th>Alcoholism</th>\n",
       "      <th>Handicap</th>\n",
       "      <th>SMS_received</th>\n",
       "    </tr>\n",
       "  </thead>\n",
       "  <tbody>\n",
       "    <tr>\n",
       "      <th>count</th>\n",
       "      <td>1.069800e+05</td>\n",
       "      <td>1.069800e+05</td>\n",
       "      <td>106980.000000</td>\n",
       "      <td>106980.000000</td>\n",
       "      <td>106980.000000</td>\n",
       "      <td>106980.000000</td>\n",
       "      <td>106980.000000</td>\n",
       "      <td>106980.000000</td>\n",
       "      <td>106980.000000</td>\n",
       "    </tr>\n",
       "    <tr>\n",
       "      <th>mean</th>\n",
       "      <td>1.472737e+14</td>\n",
       "      <td>5.675433e+06</td>\n",
       "      <td>38.311311</td>\n",
       "      <td>0.101038</td>\n",
       "      <td>0.203776</td>\n",
       "      <td>0.074248</td>\n",
       "      <td>0.031408</td>\n",
       "      <td>0.020901</td>\n",
       "      <td>0.323275</td>\n",
       "    </tr>\n",
       "    <tr>\n",
       "      <th>std</th>\n",
       "      <td>2.558145e+14</td>\n",
       "      <td>7.133332e+04</td>\n",
       "      <td>22.459144</td>\n",
       "      <td>0.301380</td>\n",
       "      <td>0.402807</td>\n",
       "      <td>0.262175</td>\n",
       "      <td>0.174418</td>\n",
       "      <td>0.143054</td>\n",
       "      <td>0.467729</td>\n",
       "    </tr>\n",
       "    <tr>\n",
       "      <th>min</th>\n",
       "      <td>3.921784e+04</td>\n",
       "      <td>5.030230e+06</td>\n",
       "      <td>1.000000</td>\n",
       "      <td>0.000000</td>\n",
       "      <td>0.000000</td>\n",
       "      <td>0.000000</td>\n",
       "      <td>0.000000</td>\n",
       "      <td>0.000000</td>\n",
       "      <td>0.000000</td>\n",
       "    </tr>\n",
       "    <tr>\n",
       "      <th>25%</th>\n",
       "      <td>4.173120e+12</td>\n",
       "      <td>5.640489e+06</td>\n",
       "      <td>19.000000</td>\n",
       "      <td>0.000000</td>\n",
       "      <td>0.000000</td>\n",
       "      <td>0.000000</td>\n",
       "      <td>0.000000</td>\n",
       "      <td>0.000000</td>\n",
       "      <td>0.000000</td>\n",
       "    </tr>\n",
       "    <tr>\n",
       "      <th>50%</th>\n",
       "      <td>3.171698e+13</td>\n",
       "      <td>5.680742e+06</td>\n",
       "      <td>38.000000</td>\n",
       "      <td>0.000000</td>\n",
       "      <td>0.000000</td>\n",
       "      <td>0.000000</td>\n",
       "      <td>0.000000</td>\n",
       "      <td>0.000000</td>\n",
       "      <td>0.000000</td>\n",
       "    </tr>\n",
       "    <tr>\n",
       "      <th>75%</th>\n",
       "      <td>9.433573e+13</td>\n",
       "      <td>5.725634e+06</td>\n",
       "      <td>56.000000</td>\n",
       "      <td>0.000000</td>\n",
       "      <td>0.000000</td>\n",
       "      <td>0.000000</td>\n",
       "      <td>0.000000</td>\n",
       "      <td>0.000000</td>\n",
       "      <td>1.000000</td>\n",
       "    </tr>\n",
       "    <tr>\n",
       "      <th>max</th>\n",
       "      <td>9.999816e+14</td>\n",
       "      <td>5.790484e+06</td>\n",
       "      <td>100.000000</td>\n",
       "      <td>1.000000</td>\n",
       "      <td>1.000000</td>\n",
       "      <td>1.000000</td>\n",
       "      <td>1.000000</td>\n",
       "      <td>1.000000</td>\n",
       "      <td>1.000000</td>\n",
       "    </tr>\n",
       "  </tbody>\n",
       "</table>\n",
       "</div>"
      ],
      "text/plain": [
       "          PatientId  AppointmentID            Age    Scholarship  \\\n",
       "count  1.069800e+05   1.069800e+05  106980.000000  106980.000000   \n",
       "mean   1.472737e+14   5.675433e+06      38.311311       0.101038   \n",
       "std    2.558145e+14   7.133332e+04      22.459144       0.301380   \n",
       "min    3.921784e+04   5.030230e+06       1.000000       0.000000   \n",
       "25%    4.173120e+12   5.640489e+06      19.000000       0.000000   \n",
       "50%    3.171698e+13   5.680742e+06      38.000000       0.000000   \n",
       "75%    9.433573e+13   5.725634e+06      56.000000       0.000000   \n",
       "max    9.999816e+14   5.790484e+06     100.000000       1.000000   \n",
       "\n",
       "        Hypertension       Diabetes     Alcoholism       Handicap  \\\n",
       "count  106980.000000  106980.000000  106980.000000  106980.000000   \n",
       "mean        0.203776       0.074248       0.031408       0.020901   \n",
       "std         0.402807       0.262175       0.174418       0.143054   \n",
       "min         0.000000       0.000000       0.000000       0.000000   \n",
       "25%         0.000000       0.000000       0.000000       0.000000   \n",
       "50%         0.000000       0.000000       0.000000       0.000000   \n",
       "75%         0.000000       0.000000       0.000000       0.000000   \n",
       "max         1.000000       1.000000       1.000000       1.000000   \n",
       "\n",
       "        SMS_received  \n",
       "count  106980.000000  \n",
       "mean        0.323275  \n",
       "std         0.467729  \n",
       "min         0.000000  \n",
       "25%         0.000000  \n",
       "50%         0.000000  \n",
       "75%         1.000000  \n",
       "max         1.000000  "
      ]
     },
     "execution_count": 14,
     "metadata": {},
     "output_type": "execute_result"
    }
   ],
   "source": [
    "no_show_appts.describe()"
   ]
  },
  {
   "cell_type": "markdown",
   "metadata": {},
   "source": [
    "The only anamoly that jumps out to me is Saturday. However, that is the only Saturday in the data so I would expect lower numbers."
   ]
  },
  {
   "cell_type": "code",
   "execution_count": 15,
   "metadata": {},
   "outputs": [
    {
     "data": {
      "text/html": [
       "<div>\n",
       "<style scoped>\n",
       "    .dataframe tbody tr th:only-of-type {\n",
       "        vertical-align: middle;\n",
       "    }\n",
       "\n",
       "    .dataframe tbody tr th {\n",
       "        vertical-align: top;\n",
       "    }\n",
       "\n",
       "    .dataframe thead th {\n",
       "        text-align: right;\n",
       "    }\n",
       "</style>\n",
       "<table border=\"1\" class=\"dataframe\">\n",
       "  <thead>\n",
       "    <tr style=\"text-align: right;\">\n",
       "      <th></th>\n",
       "      <th></th>\n",
       "      <th>PatientId</th>\n",
       "      <th>AppointmentID</th>\n",
       "      <th>Gender</th>\n",
       "      <th>ScheduledDay</th>\n",
       "      <th>AppointmentDay</th>\n",
       "      <th>Age</th>\n",
       "      <th>Neighbourhood</th>\n",
       "      <th>Scholarship</th>\n",
       "      <th>Hypertension</th>\n",
       "      <th>Diabetes</th>\n",
       "      <th>Alcoholism</th>\n",
       "      <th>Handicap</th>\n",
       "      <th>SMS_received</th>\n",
       "      <th>No-show</th>\n",
       "      <th>DatetimeApptDay</th>\n",
       "    </tr>\n",
       "    <tr>\n",
       "      <th>WeekDayAppt</th>\n",
       "      <th></th>\n",
       "      <th></th>\n",
       "      <th></th>\n",
       "      <th></th>\n",
       "      <th></th>\n",
       "      <th></th>\n",
       "      <th></th>\n",
       "      <th></th>\n",
       "      <th></th>\n",
       "      <th></th>\n",
       "      <th></th>\n",
       "      <th></th>\n",
       "      <th></th>\n",
       "      <th></th>\n",
       "      <th></th>\n",
       "      <th></th>\n",
       "    </tr>\n",
       "  </thead>\n",
       "  <tbody>\n",
       "    <tr>\n",
       "      <th rowspan=\"3\" valign=\"top\">Friday</th>\n",
       "      <th>count</th>\n",
       "      <td>18464</td>\n",
       "      <td>18464</td>\n",
       "      <td>18464</td>\n",
       "      <td>18464</td>\n",
       "      <td>18464</td>\n",
       "      <td>18464</td>\n",
       "      <td>18464</td>\n",
       "      <td>18464</td>\n",
       "      <td>18464</td>\n",
       "      <td>18464</td>\n",
       "      <td>18464</td>\n",
       "      <td>18464</td>\n",
       "      <td>18464</td>\n",
       "      <td>18464</td>\n",
       "      <td>18464</td>\n",
       "    </tr>\n",
       "    <tr>\n",
       "      <th>size</th>\n",
       "      <td>18464</td>\n",
       "      <td>18464</td>\n",
       "      <td>18464</td>\n",
       "      <td>18464</td>\n",
       "      <td>18464</td>\n",
       "      <td>18464</td>\n",
       "      <td>18464</td>\n",
       "      <td>18464</td>\n",
       "      <td>18464</td>\n",
       "      <td>18464</td>\n",
       "      <td>18464</td>\n",
       "      <td>18464</td>\n",
       "      <td>18464</td>\n",
       "      <td>18464</td>\n",
       "      <td>18464</td>\n",
       "    </tr>\n",
       "    <tr>\n",
       "      <th>nunique</th>\n",
       "      <td>14678</td>\n",
       "      <td>18464</td>\n",
       "      <td>2</td>\n",
       "      <td>17686</td>\n",
       "      <td>5</td>\n",
       "      <td>99</td>\n",
       "      <td>80</td>\n",
       "      <td>2</td>\n",
       "      <td>2</td>\n",
       "      <td>2</td>\n",
       "      <td>2</td>\n",
       "      <td>2</td>\n",
       "      <td>2</td>\n",
       "      <td>2</td>\n",
       "      <td>5</td>\n",
       "    </tr>\n",
       "    <tr>\n",
       "      <th rowspan=\"3\" valign=\"top\">Monday</th>\n",
       "      <th>count</th>\n",
       "      <td>21901</td>\n",
       "      <td>21901</td>\n",
       "      <td>21901</td>\n",
       "      <td>21901</td>\n",
       "      <td>21901</td>\n",
       "      <td>21901</td>\n",
       "      <td>21901</td>\n",
       "      <td>21901</td>\n",
       "      <td>21901</td>\n",
       "      <td>21901</td>\n",
       "      <td>21901</td>\n",
       "      <td>21901</td>\n",
       "      <td>21901</td>\n",
       "      <td>21901</td>\n",
       "      <td>21901</td>\n",
       "    </tr>\n",
       "    <tr>\n",
       "      <th>size</th>\n",
       "      <td>21901</td>\n",
       "      <td>21901</td>\n",
       "      <td>21901</td>\n",
       "      <td>21901</td>\n",
       "      <td>21901</td>\n",
       "      <td>21901</td>\n",
       "      <td>21901</td>\n",
       "      <td>21901</td>\n",
       "      <td>21901</td>\n",
       "      <td>21901</td>\n",
       "      <td>21901</td>\n",
       "      <td>21901</td>\n",
       "      <td>21901</td>\n",
       "      <td>21901</td>\n",
       "      <td>21901</td>\n",
       "    </tr>\n",
       "    <tr>\n",
       "      <th>nunique</th>\n",
       "      <td>17349</td>\n",
       "      <td>21901</td>\n",
       "      <td>2</td>\n",
       "      <td>21146</td>\n",
       "      <td>5</td>\n",
       "      <td>98</td>\n",
       "      <td>79</td>\n",
       "      <td>2</td>\n",
       "      <td>2</td>\n",
       "      <td>2</td>\n",
       "      <td>2</td>\n",
       "      <td>2</td>\n",
       "      <td>2</td>\n",
       "      <td>2</td>\n",
       "      <td>5</td>\n",
       "    </tr>\n",
       "    <tr>\n",
       "      <th rowspan=\"3\" valign=\"top\">Saturday</th>\n",
       "      <th>count</th>\n",
       "      <td>39</td>\n",
       "      <td>39</td>\n",
       "      <td>39</td>\n",
       "      <td>39</td>\n",
       "      <td>39</td>\n",
       "      <td>39</td>\n",
       "      <td>39</td>\n",
       "      <td>39</td>\n",
       "      <td>39</td>\n",
       "      <td>39</td>\n",
       "      <td>39</td>\n",
       "      <td>39</td>\n",
       "      <td>39</td>\n",
       "      <td>39</td>\n",
       "      <td>39</td>\n",
       "    </tr>\n",
       "    <tr>\n",
       "      <th>size</th>\n",
       "      <td>39</td>\n",
       "      <td>39</td>\n",
       "      <td>39</td>\n",
       "      <td>39</td>\n",
       "      <td>39</td>\n",
       "      <td>39</td>\n",
       "      <td>39</td>\n",
       "      <td>39</td>\n",
       "      <td>39</td>\n",
       "      <td>39</td>\n",
       "      <td>39</td>\n",
       "      <td>39</td>\n",
       "      <td>39</td>\n",
       "      <td>39</td>\n",
       "      <td>39</td>\n",
       "    </tr>\n",
       "    <tr>\n",
       "      <th>nunique</th>\n",
       "      <td>38</td>\n",
       "      <td>39</td>\n",
       "      <td>2</td>\n",
       "      <td>39</td>\n",
       "      <td>1</td>\n",
       "      <td>29</td>\n",
       "      <td>4</td>\n",
       "      <td>2</td>\n",
       "      <td>2</td>\n",
       "      <td>2</td>\n",
       "      <td>2</td>\n",
       "      <td>2</td>\n",
       "      <td>2</td>\n",
       "      <td>2</td>\n",
       "      <td>1</td>\n",
       "    </tr>\n",
       "    <tr>\n",
       "      <th rowspan=\"3\" valign=\"top\">Thursday</th>\n",
       "      <th>count</th>\n",
       "      <td>16656</td>\n",
       "      <td>16656</td>\n",
       "      <td>16656</td>\n",
       "      <td>16656</td>\n",
       "      <td>16656</td>\n",
       "      <td>16656</td>\n",
       "      <td>16656</td>\n",
       "      <td>16656</td>\n",
       "      <td>16656</td>\n",
       "      <td>16656</td>\n",
       "      <td>16656</td>\n",
       "      <td>16656</td>\n",
       "      <td>16656</td>\n",
       "      <td>16656</td>\n",
       "      <td>16656</td>\n",
       "    </tr>\n",
       "    <tr>\n",
       "      <th>size</th>\n",
       "      <td>16656</td>\n",
       "      <td>16656</td>\n",
       "      <td>16656</td>\n",
       "      <td>16656</td>\n",
       "      <td>16656</td>\n",
       "      <td>16656</td>\n",
       "      <td>16656</td>\n",
       "      <td>16656</td>\n",
       "      <td>16656</td>\n",
       "      <td>16656</td>\n",
       "      <td>16656</td>\n",
       "      <td>16656</td>\n",
       "      <td>16656</td>\n",
       "      <td>16656</td>\n",
       "      <td>16656</td>\n",
       "    </tr>\n",
       "    <tr>\n",
       "      <th>nunique</th>\n",
       "      <td>13770</td>\n",
       "      <td>16656</td>\n",
       "      <td>2</td>\n",
       "      <td>16099</td>\n",
       "      <td>4</td>\n",
       "      <td>98</td>\n",
       "      <td>79</td>\n",
       "      <td>2</td>\n",
       "      <td>2</td>\n",
       "      <td>2</td>\n",
       "      <td>2</td>\n",
       "      <td>2</td>\n",
       "      <td>2</td>\n",
       "      <td>2</td>\n",
       "      <td>4</td>\n",
       "    </tr>\n",
       "    <tr>\n",
       "      <th rowspan=\"3\" valign=\"top\">Tuesday</th>\n",
       "      <th>count</th>\n",
       "      <td>24830</td>\n",
       "      <td>24830</td>\n",
       "      <td>24830</td>\n",
       "      <td>24830</td>\n",
       "      <td>24830</td>\n",
       "      <td>24830</td>\n",
       "      <td>24830</td>\n",
       "      <td>24830</td>\n",
       "      <td>24830</td>\n",
       "      <td>24830</td>\n",
       "      <td>24830</td>\n",
       "      <td>24830</td>\n",
       "      <td>24830</td>\n",
       "      <td>24830</td>\n",
       "      <td>24830</td>\n",
       "    </tr>\n",
       "    <tr>\n",
       "      <th>size</th>\n",
       "      <td>24830</td>\n",
       "      <td>24830</td>\n",
       "      <td>24830</td>\n",
       "      <td>24830</td>\n",
       "      <td>24830</td>\n",
       "      <td>24830</td>\n",
       "      <td>24830</td>\n",
       "      <td>24830</td>\n",
       "      <td>24830</td>\n",
       "      <td>24830</td>\n",
       "      <td>24830</td>\n",
       "      <td>24830</td>\n",
       "      <td>24830</td>\n",
       "      <td>24830</td>\n",
       "      <td>24830</td>\n",
       "    </tr>\n",
       "    <tr>\n",
       "      <th>nunique</th>\n",
       "      <td>19501</td>\n",
       "      <td>24830</td>\n",
       "      <td>2</td>\n",
       "      <td>23886</td>\n",
       "      <td>6</td>\n",
       "      <td>98</td>\n",
       "      <td>79</td>\n",
       "      <td>2</td>\n",
       "      <td>2</td>\n",
       "      <td>2</td>\n",
       "      <td>2</td>\n",
       "      <td>2</td>\n",
       "      <td>2</td>\n",
       "      <td>2</td>\n",
       "      <td>6</td>\n",
       "    </tr>\n",
       "    <tr>\n",
       "      <th rowspan=\"3\" valign=\"top\">Wednesday</th>\n",
       "      <th>count</th>\n",
       "      <td>25090</td>\n",
       "      <td>25090</td>\n",
       "      <td>25090</td>\n",
       "      <td>25090</td>\n",
       "      <td>25090</td>\n",
       "      <td>25090</td>\n",
       "      <td>25090</td>\n",
       "      <td>25090</td>\n",
       "      <td>25090</td>\n",
       "      <td>25090</td>\n",
       "      <td>25090</td>\n",
       "      <td>25090</td>\n",
       "      <td>25090</td>\n",
       "      <td>25090</td>\n",
       "      <td>25090</td>\n",
       "    </tr>\n",
       "    <tr>\n",
       "      <th>size</th>\n",
       "      <td>25090</td>\n",
       "      <td>25090</td>\n",
       "      <td>25090</td>\n",
       "      <td>25090</td>\n",
       "      <td>25090</td>\n",
       "      <td>25090</td>\n",
       "      <td>25090</td>\n",
       "      <td>25090</td>\n",
       "      <td>25090</td>\n",
       "      <td>25090</td>\n",
       "      <td>25090</td>\n",
       "      <td>25090</td>\n",
       "      <td>25090</td>\n",
       "      <td>25090</td>\n",
       "      <td>25090</td>\n",
       "    </tr>\n",
       "    <tr>\n",
       "      <th>nunique</th>\n",
       "      <td>19441</td>\n",
       "      <td>25090</td>\n",
       "      <td>2</td>\n",
       "      <td>24083</td>\n",
       "      <td>6</td>\n",
       "      <td>99</td>\n",
       "      <td>78</td>\n",
       "      <td>2</td>\n",
       "      <td>2</td>\n",
       "      <td>2</td>\n",
       "      <td>2</td>\n",
       "      <td>2</td>\n",
       "      <td>2</td>\n",
       "      <td>2</td>\n",
       "      <td>6</td>\n",
       "    </tr>\n",
       "  </tbody>\n",
       "</table>\n",
       "</div>"
      ],
      "text/plain": [
       "                     PatientId  AppointmentID  Gender  ScheduledDay  \\\n",
       "WeekDayAppt                                                           \n",
       "Friday      count        18464          18464   18464         18464   \n",
       "            size         18464          18464   18464         18464   \n",
       "            nunique      14678          18464       2         17686   \n",
       "Monday      count        21901          21901   21901         21901   \n",
       "            size         21901          21901   21901         21901   \n",
       "            nunique      17349          21901       2         21146   \n",
       "Saturday    count           39             39      39            39   \n",
       "            size            39             39      39            39   \n",
       "            nunique         38             39       2            39   \n",
       "Thursday    count        16656          16656   16656         16656   \n",
       "            size         16656          16656   16656         16656   \n",
       "            nunique      13770          16656       2         16099   \n",
       "Tuesday     count        24830          24830   24830         24830   \n",
       "            size         24830          24830   24830         24830   \n",
       "            nunique      19501          24830       2         23886   \n",
       "Wednesday   count        25090          25090   25090         25090   \n",
       "            size         25090          25090   25090         25090   \n",
       "            nunique      19441          25090       2         24083   \n",
       "\n",
       "                     AppointmentDay    Age  Neighbourhood  Scholarship  \\\n",
       "WeekDayAppt                                                              \n",
       "Friday      count             18464  18464          18464        18464   \n",
       "            size              18464  18464          18464        18464   \n",
       "            nunique               5     99             80            2   \n",
       "Monday      count             21901  21901          21901        21901   \n",
       "            size              21901  21901          21901        21901   \n",
       "            nunique               5     98             79            2   \n",
       "Saturday    count                39     39             39           39   \n",
       "            size                 39     39             39           39   \n",
       "            nunique               1     29              4            2   \n",
       "Thursday    count             16656  16656          16656        16656   \n",
       "            size              16656  16656          16656        16656   \n",
       "            nunique               4     98             79            2   \n",
       "Tuesday     count             24830  24830          24830        24830   \n",
       "            size              24830  24830          24830        24830   \n",
       "            nunique               6     98             79            2   \n",
       "Wednesday   count             25090  25090          25090        25090   \n",
       "            size              25090  25090          25090        25090   \n",
       "            nunique               6     99             78            2   \n",
       "\n",
       "                     Hypertension  Diabetes  Alcoholism  Handicap  \\\n",
       "WeekDayAppt                                                         \n",
       "Friday      count           18464     18464       18464     18464   \n",
       "            size            18464     18464       18464     18464   \n",
       "            nunique             2         2           2         2   \n",
       "Monday      count           21901     21901       21901     21901   \n",
       "            size            21901     21901       21901     21901   \n",
       "            nunique             2         2           2         2   \n",
       "Saturday    count              39        39          39        39   \n",
       "            size               39        39          39        39   \n",
       "            nunique             2         2           2         2   \n",
       "Thursday    count           16656     16656       16656     16656   \n",
       "            size            16656     16656       16656     16656   \n",
       "            nunique             2         2           2         2   \n",
       "Tuesday     count           24830     24830       24830     24830   \n",
       "            size            24830     24830       24830     24830   \n",
       "            nunique             2         2           2         2   \n",
       "Wednesday   count           25090     25090       25090     25090   \n",
       "            size            25090     25090       25090     25090   \n",
       "            nunique             2         2           2         2   \n",
       "\n",
       "                     SMS_received  No-show  DatetimeApptDay  \n",
       "WeekDayAppt                                                  \n",
       "Friday      count           18464    18464            18464  \n",
       "            size            18464    18464            18464  \n",
       "            nunique             2        2                5  \n",
       "Monday      count           21901    21901            21901  \n",
       "            size            21901    21901            21901  \n",
       "            nunique             2        2                5  \n",
       "Saturday    count              39       39               39  \n",
       "            size               39       39               39  \n",
       "            nunique             2        2                1  \n",
       "Thursday    count           16656    16656            16656  \n",
       "            size            16656    16656            16656  \n",
       "            nunique             2        2                4  \n",
       "Tuesday     count           24830    24830            24830  \n",
       "            size            24830    24830            24830  \n",
       "            nunique             2        2                6  \n",
       "Wednesday   count           25090    25090            25090  \n",
       "            size            25090    25090            25090  \n",
       "            nunique             2        2                6  "
      ]
     },
     "execution_count": 15,
     "metadata": {},
     "output_type": "execute_result"
    }
   ],
   "source": [
    "no_show_appts.groupby('WeekDayAppt').agg(['count', 'size', 'nunique']).stack()"
   ]
  },
  {
   "cell_type": "markdown",
   "metadata": {},
   "source": [
    "I ran the below to see when the data was collected."
   ]
  },
  {
   "cell_type": "code",
   "execution_count": 16,
   "metadata": {},
   "outputs": [
    {
     "data": {
      "text/plain": [
       "2016-06-06T00:00:00Z    4528\n",
       "2016-05-16T00:00:00Z    4448\n",
       "2016-05-30T00:00:00Z    4359\n",
       "2016-06-08T00:00:00Z    4356\n",
       "2016-05-09T00:00:00Z    4352\n",
       "2016-06-01T00:00:00Z    4351\n",
       "2016-05-11T00:00:00Z    4347\n",
       "2016-06-07T00:00:00Z    4264\n",
       "2016-05-12T00:00:00Z    4233\n",
       "2016-05-17T00:00:00Z    4227\n",
       "2016-05-18T00:00:00Z    4220\n",
       "2016-05-02T00:00:00Z    4214\n",
       "2016-06-02T00:00:00Z    4203\n",
       "2016-05-10T00:00:00Z    4177\n",
       "2016-05-31T00:00:00Z    4158\n",
       "2016-05-03T00:00:00Z    4128\n",
       "2016-05-05T00:00:00Z    4113\n",
       "2016-05-19T00:00:00Z    4107\n",
       "2016-05-04T00:00:00Z    4048\n",
       "2016-06-03T00:00:00Z    3977\n",
       "2016-05-13T00:00:00Z    3885\n",
       "2016-05-24T00:00:00Z    3876\n",
       "2016-05-06T00:00:00Z    3791\n",
       "2016-05-25T00:00:00Z    3768\n",
       "2016-05-20T00:00:00Z    3707\n",
       "2016-04-29T00:00:00Z    3104\n",
       "2016-05-14T00:00:00Z      39\n",
       "Name: AppointmentDay, dtype: int64"
      ]
     },
     "execution_count": 16,
     "metadata": {},
     "output_type": "execute_result"
    }
   ],
   "source": [
    "no_show_appts['AppointmentDay'].value_counts()"
   ]
  },
  {
   "cell_type": "markdown",
   "metadata": {},
   "source": [
    "<a id='eda'></a>\n",
    "## Exploratory Data Analysis\n"
   ]
  },
  {
   "cell_type": "markdown",
   "metadata": {},
   "source": [
    "### Functions for Exploratory Data Analysis"
   ]
  },
  {
   "cell_type": "code",
   "execution_count": 17,
   "metadata": {},
   "outputs": [],
   "source": [
    "def no_show_yes(column_name, head_val):\n",
    "    return(no_show_appts[no_show_appts['No-show']=='Yes'].groupby([column_name]).size().sort_values(ascending=False).head(head_val))"
   ]
  },
  {
   "cell_type": "code",
   "execution_count": 18,
   "metadata": {},
   "outputs": [],
   "source": [
    "def no_show_all(column_name, head_val):\n",
    "    return(no_show_appts.groupby([column_name]).size().sort_values(ascending=False).head(head_val))"
   ]
  },
  {
   "cell_type": "markdown",
   "metadata": {},
   "source": [
    "### No-shows by Weekday"
   ]
  },
  {
   "cell_type": "markdown",
   "metadata": {},
   "source": [
    "While there are days that have more no shows, the data tends to trend with the number of appointments that day. More appointments in general means more no shows. However, the ratio between total appointments and number of no shows appears to be consistent. Thursdays are the low point which would be expected as only four Thursdays are part of the data collected. Wednesday and Tuesday each had six days of data collected so seeing higher numbers on those days correlates."
   ]
  },
  {
   "cell_type": "code",
   "execution_count": 19,
   "metadata": {},
   "outputs": [
    {
     "name": "stdout",
     "output_type": "stream",
     "text": [
      "(WeekDayAppt\n",
      "Tuesday      5024\n",
      "Wednesday    4948\n",
      "Monday       4514\n",
      "Friday       3940\n",
      "Thursday     3242\n",
      "Saturday        9\n",
      "dtype: int64, WeekDayAppt\n",
      "Wednesday    25090\n",
      "Tuesday      24830\n",
      "Monday       21901\n",
      "Friday       18464\n",
      "Thursday     16656\n",
      "Saturday        39\n",
      "dtype: int64)\n"
     ]
    },
    {
     "data": {
      "text/plain": [
       "<matplotlib.legend.Legend at 0xbe82a08>"
      ]
     },
     "execution_count": 19,
     "metadata": {},
     "output_type": "execute_result"
    },
    {
     "data": {
      "image/png": "[encoded data removed]",
      "text/plain": [
       "<Figure size 432x288 with 1 Axes>"
      ]
     },
     "metadata": {
      "needs_background": "light"
     },
     "output_type": "display_data"
    }
   ],
   "source": [
    "WeekDay_NoShow_Yes = no_show_yes('WeekDayAppt', 6)\n",
    "WeekDay_All_Appts = no_show_all('WeekDayAppt', 6)\n",
    "print(WeekDay_NoShow_Yes, WeekDay_All_Appts)\n",
    "WeekDay_All_Appts.plot(kind='line', title='No-show vs All Appts by Weekday')\n",
    "WeekDay_NoShow_Yes.plot(kind='line')\n",
    "plt.legend(['All Appts', 'NoShow Appts'])"
   ]
  },
  {
   "cell_type": "markdown",
   "metadata": {},
   "source": [
    "### No-shows by Neighbourhood"
   ]
  },
  {
   "cell_type": "markdown",
   "metadata": {},
   "source": [
    "I decided to limit the number of neighbourhoods to 10 in the first plot. Those 10 neighbourhoods represent roughly 40% of all the appointments. The data really did not show anything significant. As with the day of the week, the higher the number of total appointments meant a higher number of no shows. The ratios stayed pretty consistent again as witnessed in the line chart."
   ]
  },
  {
   "cell_type": "code",
   "execution_count": 20,
   "metadata": {},
   "outputs": [
    {
     "name": "stdout",
     "output_type": "stream",
     "text": [
      "(Neighbourhood\n",
      "JARDIM CAMBURI       1432\n",
      "MARIA ORTIZ          1194\n",
      "ITARARÉ               898\n",
      "RESISTÊNCIA           875\n",
      "CENTRO                692\n",
      "JESUS DE NAZARETH     676\n",
      "JARDIM DA PENHA       627\n",
      "CARATOÍRA             586\n",
      "TABUAZEIRO            552\n",
      "BONFIM                537\n",
      "dtype: int64, Neighbourhood\n",
      "JARDIM CAMBURI       7586\n",
      "MARIA ORTIZ          5562\n",
      "RESISTÊNCIA          4235\n",
      "JARDIM DA PENHA      3851\n",
      "ITARARÉ              3412\n",
      "CENTRO               3282\n",
      "SANTA MARTHA         3041\n",
      "TABUAZEIRO           3019\n",
      "JESUS DE NAZARETH    2719\n",
      "BONFIM               2700\n",
      "dtype: int64)\n"
     ]
    },
    {
     "data": {
      "text/plain": [
       "<matplotlib.legend.Legend at 0xc23eb88>"
      ]
     },
     "execution_count": 20,
     "metadata": {},
     "output_type": "execute_result"
    },
    {
     "data": {
      "image/png": "[encoded data removed]",
      "text/plain": [
       "<Figure size 1224x360 with 1 Axes>"
      ]
     },
     "metadata": {
      "needs_background": "light"
     },
     "output_type": "display_data"
    }
   ],
   "source": [
    "Neighbourhood_NoShow_Yes = no_show_yes('Neighbourhood', 10)\n",
    "Neighbourhood_All_Appts = no_show_all('Neighbourhood', 10)\n",
    "print(Neighbourhood_NoShow_Yes, Neighbourhood_All_Appts)\n",
    "Neighbourhood_NoShow_Yes.plot(figsize=(17,5), kind='line', title='No-show vs All Appts by Neighbourhood')\n",
    "Neighbourhood_All_Appts.plot(figsize=(17,5), kind='line')\n",
    "plt.legend(['NoShow Appts', 'All Appts'])"
   ]
  },
  {
   "cell_type": "markdown",
   "metadata": {},
   "source": [
    "The data below takes a look at the spread of appointments across the 81 neighbourhoods. There are three outliers with a majority of the neighbourhoods having less than 2,000 appointments. This distribution correlates with the data regarding the top 10 neighborhoods above where almost 40% of the appointments are contained in 10 neighbourhoods."
   ]
  },
  {
   "cell_type": "code",
   "execution_count": 21,
   "metadata": {},
   "outputs": [
    {
     "data": {
      "text/plain": [
       "Text(0.5,1,'Grouped by Neighbourhood')"
      ]
     },
     "execution_count": 21,
     "metadata": {},
     "output_type": "execute_result"
    },
    {
     "data": {
      "image/png": "[encoded data removed]",
      "text/plain": [
       "<Figure size 432x288 with 1 Axes>"
      ]
     },
     "metadata": {
      "needs_background": "light"
     },
     "output_type": "display_data"
    }
   ],
   "source": [
    "All_Neighbourhood_Appts = no_show_all('Neighbourhood', 81)\n",
    "plt.boxplot(All_Neighbourhood_Appts)\n",
    "plt.xlabel('Neighbourhood')\n",
    "plt.ylabel('# of Appts')\n",
    "plt.title('Grouped by Neighbourhood')"
   ]
  },
  {
   "cell_type": "markdown",
   "metadata": {},
   "source": [
    "### No-show based on Condition"
   ]
  },
  {
   "cell_type": "markdown",
   "metadata": {},
   "source": [
    "This section explores whether a specific condition impacts the number of no-shows. Honestly, I expected Alcoholism to show a higher number of no-shows. However, the ratios again are very close for each condition when compared to the total number of appointments by condition."
   ]
  },
  {
   "cell_type": "code",
   "execution_count": 22,
   "metadata": {},
   "outputs": [
    {
     "name": "stdout",
     "output_type": "stream",
     "text": [
      "         Hypertension  Diabetes  Alcoholism\n",
      "No-show                                    \n",
      "Yes              3772      1430         677\n"
     ]
    },
    {
     "data": {
      "text/plain": [
       "<matplotlib.axes._subplots.AxesSubplot at 0x10c17508>"
      ]
     },
     "execution_count": 22,
     "metadata": {},
     "output_type": "execute_result"
    },
    {
     "data": {
      "image/png": "[encoded data removed]",
      "text/plain": [
       "<Figure size 432x288 with 1 Axes>"
      ]
     },
     "metadata": {
      "needs_background": "light"
     },
     "output_type": "display_data"
    }
   ],
   "source": [
    "Condition_NoShow_Yes = no_show_appts[no_show_appts['No-show']=='Yes'].groupby(['No-show'])\\\n",
    "                        [['Hypertension', 'Diabetes', 'Alcoholism']].sum()\n",
    "print(Condition_NoShow_Yes)\n",
    "Condition_NoShow_Yes.plot.bar(title='Number of No-shows by Condition')"
   ]
  },
  {
   "cell_type": "code",
   "execution_count": 23,
   "metadata": {},
   "outputs": [
    {
     "name": "stdout",
     "output_type": "stream",
     "text": [
      "Hypertension    21800\n",
      "Diabetes         7943\n",
      "Alcoholism       3360\n",
      "dtype: int64\n"
     ]
    },
    {
     "data": {
      "text/plain": [
       "<matplotlib.legend.Legend at 0x10c173c8>"
      ]
     },
     "execution_count": 23,
     "metadata": {},
     "output_type": "execute_result"
    },
    {
     "data": {
      "image/png": "[encoded data removed]",
      "text/plain": [
       "<Figure size 432x288 with 1 Axes>"
      ]
     },
     "metadata": {
      "needs_background": "light"
     },
     "output_type": "display_data"
    }
   ],
   "source": [
    "Condition_NoShow_All = no_show_appts.iloc[:,8:11].sum(axis=0)\n",
    "print(Condition_NoShow_All)\n",
    "Condition_NoShow_All.plot.bar(title='Total # of Appts by Condition')\n",
    "plt.legend(['# of Appts'])"
   ]
  },
  {
   "cell_type": "markdown",
   "metadata": {},
   "source": [
    "### Appointments by Age Group"
   ]
  },
  {
   "cell_type": "markdown",
   "metadata": {},
   "source": [
    "This section takes a look at the number of appointments by age group. Each bar covers five years. I was curious to see the distribution across age groups. A couple interesting things: \n",
    "1. The steady decline from ages 0-5 to 10-15. \n",
    "2. There is a rather sharp decline in appointments starting at age 60.\n",
    "\n",
    "The above two points would be interesting to investigate further, but the provided data does not allow for this."
   ]
  },
  {
   "cell_type": "code",
   "execution_count": 24,
   "metadata": {},
   "outputs": [
    {
     "data": {
      "text/plain": [
       "Text(0.5,1,'Appointments by Age Group')"
      ]
     },
     "execution_count": 24,
     "metadata": {},
     "output_type": "execute_result"
    },
    {
     "data": {
      "image/png": "[encoded data removed]",
      "text/plain": [
       "<Figure size 432x288 with 1 Axes>"
      ]
     },
     "metadata": {
      "needs_background": "light"
     },
     "output_type": "display_data"
    }
   ],
   "source": [
    "plt.hist(no_show_appts['Age'], bins=20, rwidth=0.75)\n",
    "plt.xlabel('Age')\n",
    "plt.ylabel('Frequency')\n",
    "plt.title('Appointments by Age Group')"
   ]
  },
  {
   "cell_type": "markdown",
   "metadata": {},
   "source": [
    "<a id='conclusions'></a>\n",
    "## Conclusions\n",
    "\n",
    "To summarize the findings I do not see much the clinics can do to limit the number of no shows. I did not observe outliers that specifically pointed to reasons for the no-shows. The data did not include any information about if reminders are sent. It would be interesting to see if the number of no shows decreases if a person is contacted one or two days prior to their appointment. \n",
    "\n",
    "<b>Limitations</b>\n",
    "<ul>\n",
    "<li>The amount of data - 27 days. If they are open Monday through Friday with a Saturday every once in awhile, they are open roughly 260 days each year.</li> \n",
    "<li>The time of year - May. The weather tends to be pretty nice and dry during the time of the data provided. It would be interesting to see how the weather affects the No-show numbers.</li>\n",
    "</ul>\n",
    "\n",
    "\n",
    "I look forward to your feedback and will do my best should anything need to be corrected or clarified.\n",
    "\n",
    "Thank you!"
   ]
  },
  {
   "cell_type": "code",
   "execution_count": null,
   "metadata": {},
   "outputs": [],
   "source": []
  }
 ],
 "metadata": {
  "kernelspec": {
   "display_name": "Python 2",
   "language": "python",
   "name": "python2"
  },
  "language_info": {
   "codemirror_mode": {
    "name": "ipython",
    "version": 2
   },
   "file_extension": ".py",
   "mimetype": "text/x-python",
   "name": "python",
   "nbconvert_exporter": "python",
   "pygments_lexer": "ipython2",
   "version": "2.7.18"
  }
 },
 "nbformat": 4,
 "nbformat_minor": 2
}
