{
 "cells": [
  {
   "cell_type": "markdown",
   "metadata": {},
   "source": [
    "\n",
    "\n",
    "# Project: Investigate the TMDb movie Dataset\n",
    "\n",
    "## Table of Contents\n",
    "<ul>\n",
    "<li><a href=\"#intro\">Introduction</a></li>\n",
    "<li><a href=\"#wrangling\">Data Wrangling</a></li>\n",
    "<li><a href=\"#eda\">Exploratory Data Analysis</a></li>\n",
    "<li><a href=\"#conclusions\">Conclusions</a></li>\n",
    "</ul>"
   ]
  },
  {
   "cell_type": "markdown",
   "metadata": {},
   "source": [
    "<a id='intro'></a>\n",
    "## Introduction\n",
    "\n",
    "The IMDb movie dataset is being analyzed herein. Analysis has been designed to answer following questions:\n",
    "\n",
    "1. Which genre is the most common one among the top 250 rated movies?\n",
    "2. Top 25 Production Companies With Higher Number Of Release among the top rated 250 movies?¶\n",
    "3. Number of movies released year over year?"
   ]
  },
  {
   "cell_type": "code",
   "execution_count": 2,
   "metadata": {},
   "outputs": [],
   "source": [
    "# Use this cell to set up import statements for all of the packages\n",
    "\n",
    "import pandas as pd\n",
    "import numpy as np\n",
    "import matplotlib.pyplot as plt\n",
    "import seaborn as sns\n"
   ]
  },
  {
   "cell_type": "markdown",
   "metadata": {},
   "source": [
    "<a id='wrangling'></a>\n",
    "## Data Wrangling\n",
    "\n",
    "\n",
    "### General Properties"
   ]
  },
  {
   "cell_type": "code",
   "execution_count": 3,
   "metadata": {},
   "outputs": [
    {
     "data": {
      "text/html": [
       "<div>\n",
       "<style scoped>\n",
       "    .dataframe tbody tr th:only-of-type {\n",
       "        vertical-align: middle;\n",
       "    }\n",
       "\n",
       "    .dataframe tbody tr th {\n",
       "        vertical-align: top;\n",
       "    }\n",
       "\n",
       "    .dataframe thead th {\n",
       "        text-align: right;\n",
       "    }\n",
       "</style>\n",
       "<table border=\"1\" class=\"dataframe\">\n",
       "  <thead>\n",
       "    <tr style=\"text-align: right;\">\n",
       "      <th></th>\n",
       "      <th>id</th>\n",
       "      <th>imdb_id</th>\n",
       "      <th>popularity</th>\n",
       "      <th>budget</th>\n",
       "      <th>revenue</th>\n",
       "      <th>original_title</th>\n",
       "      <th>cast</th>\n",
       "      <th>homepage</th>\n",
       "      <th>director</th>\n",
       "      <th>tagline</th>\n",
       "      <th>...</th>\n",
       "      <th>overview</th>\n",
       "      <th>runtime</th>\n",
       "      <th>genres</th>\n",
       "      <th>production_companies</th>\n",
       "      <th>release_date</th>\n",
       "      <th>vote_count</th>\n",
       "      <th>vote_average</th>\n",
       "      <th>release_year</th>\n",
       "      <th>budget_adj</th>\n",
       "      <th>revenue_adj</th>\n",
       "    </tr>\n",
       "  </thead>\n",
       "  <tbody>\n",
       "    <tr>\n",
       "      <th>0</th>\n",
       "      <td>135397</td>\n",
       "      <td>tt0369610</td>\n",
       "      <td>32.985763</td>\n",
       "      <td>150000000</td>\n",
       "      <td>1513528810</td>\n",
       "      <td>Jurassic World</td>\n",
       "      <td>Chris Pratt|Bryce Dallas Howard|Irrfan Khan|Vi...</td>\n",
       "      <td>http://www.jurassicworld.com/</td>\n",
       "      <td>Colin Trevorrow</td>\n",
       "      <td>The park is open.</td>\n",
       "      <td>...</td>\n",
       "      <td>Twenty-two years after the events of Jurassic ...</td>\n",
       "      <td>124</td>\n",
       "      <td>Action|Adventure|Science Fiction|Thriller</td>\n",
       "      <td>Universal Studios|Amblin Entertainment|Legenda...</td>\n",
       "      <td>6/9/15</td>\n",
       "      <td>5562</td>\n",
       "      <td>6.5</td>\n",
       "      <td>2015</td>\n",
       "      <td>1.379999e+08</td>\n",
       "      <td>1.392446e+09</td>\n",
       "    </tr>\n",
       "  </tbody>\n",
       "</table>\n",
       "<p>1 rows × 21 columns</p>\n",
       "</div>"
      ],
      "text/plain": [
       "       id    imdb_id  popularity     budget     revenue  original_title  \\\n",
       "0  135397  tt0369610   32.985763  150000000  1513528810  Jurassic World   \n",
       "\n",
       "                                                cast  \\\n",
       "0  Chris Pratt|Bryce Dallas Howard|Irrfan Khan|Vi...   \n",
       "\n",
       "                        homepage         director            tagline  ...  \\\n",
       "0  http://www.jurassicworld.com/  Colin Trevorrow  The park is open.  ...   \n",
       "\n",
       "                                            overview runtime  \\\n",
       "0  Twenty-two years after the events of Jurassic ...     124   \n",
       "\n",
       "                                      genres  \\\n",
       "0  Action|Adventure|Science Fiction|Thriller   \n",
       "\n",
       "                                production_companies release_date vote_count  \\\n",
       "0  Universal Studios|Amblin Entertainment|Legenda...       6/9/15       5562   \n",
       "\n",
       "   vote_average  release_year    budget_adj   revenue_adj  \n",
       "0           6.5          2015  1.379999e+08  1.392446e+09  \n",
       "\n",
       "[1 rows x 21 columns]"
      ]
     },
     "execution_count": 3,
     "metadata": {},
     "output_type": "execute_result"
    }
   ],
   "source": [
    "# Load data and print out a few lines. Perform operations to inspect data\n",
    "df = pd.read_csv('tmdb-movies.csv')\n",
    "df.head(1)\n"
   ]
  },
  {
   "cell_type": "code",
   "execution_count": 4,
   "metadata": {},
   "outputs": [
    {
     "name": "stdout",
     "output_type": "stream",
     "text": [
      "9\n",
      "<class 'pandas.core.frame.DataFrame'>\n",
      "RangeIndex: 10866 entries, 0 to 10865\n",
      "Data columns (total 21 columns):\n",
      " #   Column                Non-Null Count  Dtype  \n",
      "---  ------                --------------  -----  \n",
      " 0   id                    10866 non-null  int64  \n",
      " 1   imdb_id               10856 non-null  object \n",
      " 2   popularity            10866 non-null  float64\n",
      " 3   budget                10866 non-null  int64  \n",
      " 4   revenue               10866 non-null  int64  \n",
      " 5   original_title        10866 non-null  object \n",
      " 6   cast                  10790 non-null  object \n",
      " 7   homepage              2936 non-null   object \n",
      " 8   director              10822 non-null  object \n",
      " 9   tagline               8042 non-null   object \n",
      " 10  keywords              9373 non-null   object \n",
      " 11  overview              10862 non-null  object \n",
      " 12  runtime               10866 non-null  int64  \n",
      " 13  genres                10843 non-null  object \n",
      " 14  production_companies  9836 non-null   object \n",
      " 15  release_date          10866 non-null  object \n",
      " 16  vote_count            10866 non-null  int64  \n",
      " 17  vote_average          10866 non-null  float64\n",
      " 18  release_year          10866 non-null  int64  \n",
      " 19  budget_adj            10866 non-null  float64\n",
      " 20  revenue_adj           10866 non-null  float64\n",
      "dtypes: float64(4), int64(6), object(11)\n",
      "memory usage: 1.7+ MB\n",
      "None\n"
     ]
    }
   ],
   "source": [
    "# types and look for instances of missing or possibly errant data.\n",
    "print(sum(df.isnull().any()))\n",
    "print(df.info())"
   ]
  },
  {
   "cell_type": "code",
   "execution_count": 4,
   "metadata": {},
   "outputs": [
    {
     "name": "stdout",
     "output_type": "stream",
     "text": [
      "id                      False\n",
      "imdb_id                 False\n",
      "popularity              False\n",
      "budget                  False\n",
      "revenue                 False\n",
      "original_title          False\n",
      "cast                    False\n",
      "homepage                False\n",
      "director                False\n",
      "tagline                 False\n",
      "keywords                False\n",
      "overview                False\n",
      "runtime                 False\n",
      "genres                  False\n",
      "production_companies    False\n",
      "release_date            False\n",
      "vote_count              False\n",
      "vote_average            False\n",
      "release_year            False\n",
      "budget_adj              False\n",
      "revenue_adj             False\n",
      "dtype: bool\n"
     ]
    }
   ],
   "source": [
    "# fill in NaN with 0\n",
    "df.fillna(0,inplace = True)\n",
    "print(df.isnull().any())\n"
   ]
  },
  {
   "cell_type": "markdown",
   "metadata": {},
   "source": [
    "\n",
    "### Data Cleaning"
   ]
  },
  {
   "cell_type": "code",
   "execution_count": 5,
   "metadata": {},
   "outputs": [
    {
     "data": {
      "text/html": [
       "<div>\n",
       "<style scoped>\n",
       "    .dataframe tbody tr th:only-of-type {\n",
       "        vertical-align: middle;\n",
       "    }\n",
       "\n",
       "    .dataframe tbody tr th {\n",
       "        vertical-align: top;\n",
       "    }\n",
       "\n",
       "    .dataframe thead th {\n",
       "        text-align: right;\n",
       "    }\n",
       "</style>\n",
       "<table border=\"1\" class=\"dataframe\">\n",
       "  <thead>\n",
       "    <tr style=\"text-align: right;\">\n",
       "      <th></th>\n",
       "      <th>id</th>\n",
       "      <th>imdb_id</th>\n",
       "      <th>popularity</th>\n",
       "      <th>revenue</th>\n",
       "      <th>cast</th>\n",
       "      <th>director</th>\n",
       "      <th>genres</th>\n",
       "      <th>production_companies</th>\n",
       "      <th>release_date</th>\n",
       "      <th>vote_count</th>\n",
       "      <th>vote_average</th>\n",
       "      <th>release_year</th>\n",
       "    </tr>\n",
       "  </thead>\n",
       "  <tbody>\n",
       "    <tr>\n",
       "      <th>0</th>\n",
       "      <td>135397</td>\n",
       "      <td>tt0369610</td>\n",
       "      <td>32.985763</td>\n",
       "      <td>1513528810</td>\n",
       "      <td>Chris Pratt|Bryce Dallas Howard|Irrfan Khan|Vi...</td>\n",
       "      <td>Colin Trevorrow</td>\n",
       "      <td>Action|Adventure|Science Fiction|Thriller</td>\n",
       "      <td>Universal Studios|Amblin Entertainment|Legenda...</td>\n",
       "      <td>6/9/15</td>\n",
       "      <td>5562</td>\n",
       "      <td>6.5</td>\n",
       "      <td>2015</td>\n",
       "    </tr>\n",
       "  </tbody>\n",
       "</table>\n",
       "</div>"
      ],
      "text/plain": [
       "       id    imdb_id  popularity     revenue  \\\n",
       "0  135397  tt0369610   32.985763  1513528810   \n",
       "\n",
       "                                                cast         director  \\\n",
       "0  Chris Pratt|Bryce Dallas Howard|Irrfan Khan|Vi...  Colin Trevorrow   \n",
       "\n",
       "                                      genres  \\\n",
       "0  Action|Adventure|Science Fiction|Thriller   \n",
       "\n",
       "                                production_companies release_date  vote_count  \\\n",
       "0  Universal Studios|Amblin Entertainment|Legenda...       6/9/15        5562   \n",
       "\n",
       "   vote_average  release_year  \n",
       "0           6.5          2015  "
      ]
     },
     "execution_count": 5,
     "metadata": {},
     "output_type": "execute_result"
    }
   ],
   "source": [
    "# drop columns not necessary to answer my questions\n",
    "\n",
    "df.drop(columns = [\"budget\",\"original_title\",\"homepage\",\"tagline\",\"runtime\",\"keywords\",\"overview\",\"budget_adj\",\"revenue_adj\"],inplace =True)\n",
    "df.head(1)"
   ]
  },
  {
   "cell_type": "code",
   "execution_count": 6,
   "metadata": {},
   "outputs": [
    {
     "data": {
      "text/plain": [
       "0"
      ]
     },
     "execution_count": 6,
     "metadata": {},
     "output_type": "execute_result"
    }
   ],
   "source": [
    "# remove duplicate rows\n",
    "df.drop_duplicates(inplace=True)\n",
    "sum(df.duplicated())"
   ]
  },
  {
   "cell_type": "code",
   "execution_count": 7,
   "metadata": {},
   "outputs": [],
   "source": [
    "# changing format of release date into datetime format \n",
    "df['release_date'] = pd.to_datetime(df['release_date'])\n"
   ]
  },
  {
   "cell_type": "code",
   "execution_count": 9,
   "metadata": {},
   "outputs": [
    {
     "name": "stdout",
     "output_type": "stream",
     "text": [
      "<class 'pandas.core.frame.DataFrame'>\n",
      "Int64Index: 4849 entries, 0 to 10848\n",
      "Data columns (total 12 columns):\n",
      " #   Column                Non-Null Count  Dtype         \n",
      "---  ------                --------------  -----         \n",
      " 0   id                    4849 non-null   int64         \n",
      " 1   imdb_id               4849 non-null   object        \n",
      " 2   popularity            4849 non-null   float64       \n",
      " 3   revenue               4849 non-null   int64         \n",
      " 4   cast                  4849 non-null   object        \n",
      " 5   director              4849 non-null   object        \n",
      " 6   genres                4849 non-null   object        \n",
      " 7   production_companies  4849 non-null   object        \n",
      " 8   release_date          4849 non-null   datetime64[ns]\n",
      " 9   vote_count            4849 non-null   int64         \n",
      " 10  vote_average          4849 non-null   float64       \n",
      " 11  release_year          4849 non-null   int64         \n",
      "dtypes: datetime64[ns](1), float64(2), int64(4), object(5)\n",
      "memory usage: 492.5+ KB\n"
     ]
    }
   ],
   "source": [
    "# create a new dataframe with no 0 revenues\n",
    "df_new = df[df['revenue'] != 0]\n",
    "df_new.info()"
   ]
  },
  {
   "cell_type": "markdown",
   "metadata": {},
   "source": [
    "# <a id='eda'></a>\n",
    "## Exploratory Data Analysis\n",
    "\n",
    "\n",
    "### Research Question 1: Which genre is the most common among the top 250 rated movies?"
   ]
  },
  {
   "cell_type": "code",
   "execution_count": 15,
   "metadata": {},
   "outputs": [
    {
     "data": {
      "text/html": [
       "<div>\n",
       "<style scoped>\n",
       "    .dataframe tbody tr th:only-of-type {\n",
       "        vertical-align: middle;\n",
       "    }\n",
       "\n",
       "    .dataframe tbody tr th {\n",
       "        vertical-align: top;\n",
       "    }\n",
       "\n",
       "    .dataframe thead th {\n",
       "        text-align: right;\n",
       "    }\n",
       "</style>\n",
       "<table border=\"1\" class=\"dataframe\">\n",
       "  <thead>\n",
       "    <tr style=\"text-align: right;\">\n",
       "      <th></th>\n",
       "      <th>id</th>\n",
       "      <th>popularity</th>\n",
       "      <th>revenue</th>\n",
       "      <th>vote_count</th>\n",
       "      <th>vote_average</th>\n",
       "      <th>release_year</th>\n",
       "    </tr>\n",
       "  </thead>\n",
       "  <tbody>\n",
       "    <tr>\n",
       "      <th>count</th>\n",
       "      <td>4849.000000</td>\n",
       "      <td>4849.000000</td>\n",
       "      <td>4.849000e+03</td>\n",
       "      <td>4849.000000</td>\n",
       "      <td>4849.000000</td>\n",
       "      <td>4849.000000</td>\n",
       "    </tr>\n",
       "    <tr>\n",
       "      <th>mean</th>\n",
       "      <td>44575.491648</td>\n",
       "      <td>1.045202</td>\n",
       "      <td>8.923886e+07</td>\n",
       "      <td>436.283151</td>\n",
       "      <td>6.149000</td>\n",
       "      <td>2000.919777</td>\n",
       "    </tr>\n",
       "    <tr>\n",
       "      <th>std</th>\n",
       "      <td>72368.860461</td>\n",
       "      <td>1.356752</td>\n",
       "      <td>1.620801e+08</td>\n",
       "      <td>806.485754</td>\n",
       "      <td>0.798707</td>\n",
       "      <td>11.569650</td>\n",
       "    </tr>\n",
       "    <tr>\n",
       "      <th>min</th>\n",
       "      <td>5.000000</td>\n",
       "      <td>0.001117</td>\n",
       "      <td>2.000000e+00</td>\n",
       "      <td>10.000000</td>\n",
       "      <td>2.100000</td>\n",
       "      <td>1960.000000</td>\n",
       "    </tr>\n",
       "    <tr>\n",
       "      <th>25%</th>\n",
       "      <td>8285.000000</td>\n",
       "      <td>0.387740</td>\n",
       "      <td>7.732325e+06</td>\n",
       "      <td>46.000000</td>\n",
       "      <td>5.600000</td>\n",
       "      <td>1994.000000</td>\n",
       "    </tr>\n",
       "    <tr>\n",
       "      <th>50%</th>\n",
       "      <td>12154.000000</td>\n",
       "      <td>0.680581</td>\n",
       "      <td>3.185308e+07</td>\n",
       "      <td>147.000000</td>\n",
       "      <td>6.200000</td>\n",
       "      <td>2004.000000</td>\n",
       "    </tr>\n",
       "    <tr>\n",
       "      <th>75%</th>\n",
       "      <td>43959.000000</td>\n",
       "      <td>1.210502</td>\n",
       "      <td>9.996575e+07</td>\n",
       "      <td>435.000000</td>\n",
       "      <td>6.700000</td>\n",
       "      <td>2010.000000</td>\n",
       "    </tr>\n",
       "    <tr>\n",
       "      <th>max</th>\n",
       "      <td>417859.000000</td>\n",
       "      <td>32.985763</td>\n",
       "      <td>2.781506e+09</td>\n",
       "      <td>9767.000000</td>\n",
       "      <td>8.400000</td>\n",
       "      <td>2015.000000</td>\n",
       "    </tr>\n",
       "  </tbody>\n",
       "</table>\n",
       "</div>"
      ],
      "text/plain": [
       "                  id   popularity       revenue   vote_count  vote_average  \\\n",
       "count    4849.000000  4849.000000  4.849000e+03  4849.000000   4849.000000   \n",
       "mean    44575.491648     1.045202  8.923886e+07   436.283151      6.149000   \n",
       "std     72368.860461     1.356752  1.620801e+08   806.485754      0.798707   \n",
       "min         5.000000     0.001117  2.000000e+00    10.000000      2.100000   \n",
       "25%      8285.000000     0.387740  7.732325e+06    46.000000      5.600000   \n",
       "50%     12154.000000     0.680581  3.185308e+07   147.000000      6.200000   \n",
       "75%     43959.000000     1.210502  9.996575e+07   435.000000      6.700000   \n",
       "max    417859.000000    32.985763  2.781506e+09  9767.000000      8.400000   \n",
       "\n",
       "       release_year  \n",
       "count   4849.000000  \n",
       "mean    2000.919777  \n",
       "std       11.569650  \n",
       "min     1960.000000  \n",
       "25%     1994.000000  \n",
       "50%     2004.000000  \n",
       "75%     2010.000000  \n",
       "max     2015.000000  "
      ]
     },
     "execution_count": 15,
     "metadata": {},
     "output_type": "execute_result"
    }
   ],
   "source": [
    "#Explore the statistics of the dataset in general\n",
    "\n",
    "df_new.describe()"
   ]
  },
  {
   "cell_type": "code",
   "execution_count": 28,
   "metadata": {},
   "outputs": [
    {
     "data": {
      "image/png": "[encoded data removed]",
      "text/plain": [
       "<Figure size 576x576 with 1 Axes>"
      ]
     },
     "metadata": {
      "needs_background": "light"
     },
     "output_type": "display_data"
    }
   ],
   "source": [
    "# 1d visuals\n",
    "\n",
    "df_new.hist(column = 'vote_average', figsize = (8,8));"
   ]
  },
  {
   "cell_type": "markdown",
   "metadata": {},
   "source": [
    "Vote average ranging from 2 to 8 and most movies are rated at 6."
   ]
  },
  {
   "cell_type": "code",
   "execution_count": 23,
   "metadata": {},
   "outputs": [
    {
     "data": {
      "text/html": [
       "<div>\n",
       "<style scoped>\n",
       "    .dataframe tbody tr th:only-of-type {\n",
       "        vertical-align: middle;\n",
       "    }\n",
       "\n",
       "    .dataframe tbody tr th {\n",
       "        vertical-align: top;\n",
       "    }\n",
       "\n",
       "    .dataframe thead th {\n",
       "        text-align: right;\n",
       "    }\n",
       "</style>\n",
       "<table border=\"1\" class=\"dataframe\">\n",
       "  <thead>\n",
       "    <tr style=\"text-align: right;\">\n",
       "      <th></th>\n",
       "      <th>id</th>\n",
       "      <th>imdb_id</th>\n",
       "      <th>popularity</th>\n",
       "      <th>revenue</th>\n",
       "      <th>cast</th>\n",
       "      <th>director</th>\n",
       "      <th>genres</th>\n",
       "      <th>production_companies</th>\n",
       "      <th>release_date</th>\n",
       "      <th>vote_count</th>\n",
       "      <th>vote_average</th>\n",
       "      <th>release_year</th>\n",
       "    </tr>\n",
       "  </thead>\n",
       "  <tbody>\n",
       "    <tr>\n",
       "      <th>4178</th>\n",
       "      <td>278</td>\n",
       "      <td>tt0111161</td>\n",
       "      <td>7.192039</td>\n",
       "      <td>28341469</td>\n",
       "      <td>Tim Robbins|Morgan Freeman|Bob Gunton|William ...</td>\n",
       "      <td>Frank Darabont</td>\n",
       "      <td>Drama|Crime</td>\n",
       "      <td>Castle Rock Entertainment</td>\n",
       "      <td>1994-09-10</td>\n",
       "      <td>5754</td>\n",
       "      <td>8.4</td>\n",
       "      <td>1994</td>\n",
       "    </tr>\n",
       "  </tbody>\n",
       "</table>\n",
       "</div>"
      ],
      "text/plain": [
       "       id    imdb_id  popularity   revenue  \\\n",
       "4178  278  tt0111161    7.192039  28341469   \n",
       "\n",
       "                                                   cast        director  \\\n",
       "4178  Tim Robbins|Morgan Freeman|Bob Gunton|William ...  Frank Darabont   \n",
       "\n",
       "           genres       production_companies release_date  vote_count  \\\n",
       "4178  Drama|Crime  Castle Rock Entertainment   1994-09-10        5754   \n",
       "\n",
       "      vote_average  release_year  \n",
       "4178           8.4          1994  "
      ]
     },
     "execution_count": 23,
     "metadata": {},
     "output_type": "execute_result"
    }
   ],
   "source": [
    "# create a new dataframe filtered top 250 rated movies \n",
    "df1 = df_new.sort_values(by = 'vote_average',ascending = False).head(250)\n",
    "df1.head(1)\n"
   ]
  },
  {
   "cell_type": "code",
   "execution_count": 33,
   "metadata": {},
   "outputs": [],
   "source": [
    "# create a function that split the string and return the count of x\n",
    "\n",
    "def count_genre(x):\n",
    "    data = df1[x].astype(str)\n",
    "    data_split =pd.Series(data.str.cat(sep ='|').split('|'))\n",
    "    graph = data_split.value_counts(ascending = False)\n",
    "    return graph"
   ]
  },
  {
   "cell_type": "code",
   "execution_count": 34,
   "metadata": {
    "scrolled": true
   },
   "outputs": [
    {
     "data": {
      "image/png": "[encoded data removed]",
      "text/plain": [
       "<Figure size 576x360 with 1 Axes>"
      ]
     },
     "metadata": {
      "needs_background": "light"
     },
     "output_type": "display_data"
    }
   ],
   "source": [
    "# call the function for counting the genres of the top rated 250 movies\n",
    "genres = count_genre('genres')\n",
    "\n",
    "#count unique genres and visualize count result in a bar chart\n",
    "genres.plot(figsize = (8,5),kind = 'bar')\n",
    "plt.title('Most common genre among the 250 top rated movies')\n",
    "plt.xlabel('Genre')\n",
    "plt.ylabel('Count results');"
   ]
  },
  {
   "cell_type": "markdown",
   "metadata": {},
   "source": [
    "Conclusion 1: Drama is the most common genre among the top 250 rated movies."
   ]
  },
  {
   "cell_type": "markdown",
   "metadata": {},
   "source": [
    "### Research Question 2: Top 25 Production Companies With Higher Number Of Release?"
   ]
  },
  {
   "cell_type": "code",
   "execution_count": 35,
   "metadata": {},
   "outputs": [],
   "source": [
    "#call the function for counting the production companies of the top rated 250 movies\n",
    "production_companies = count_genre('production_companies')"
   ]
  },
  {
   "cell_type": "code",
   "execution_count": 19,
   "metadata": {
    "scrolled": true
   },
   "outputs": [
    {
     "data": {
      "image/png": "[encoded data removed]",
      "text/plain": [
       "<Figure size 576x360 with 1 Axes>"
      ]
     },
     "metadata": {
      "needs_background": "light"
     },
     "output_type": "display_data"
    }
   ],
   "source": [
    "# Create a bar chart to present the result\n",
    "production_companies.head(25).plot(figsize = (8,5),kind = 'bar')\n",
    "plt.title('Top 25 production companies in releasing movies')\n",
    "plt.xlabel('Company name')\n",
    "plt.ylabel('Count results');"
   ]
  },
  {
   "cell_type": "markdown",
   "metadata": {},
   "source": [
    "Conclusion 2: Warner Bros released the most movies among all ther companies."
   ]
  },
  {
   "cell_type": "markdown",
   "metadata": {},
   "source": [
    "### Research Question 3: Frequency of an actor/actress?"
   ]
  },
  {
   "cell_type": "code",
   "execution_count": 39,
   "metadata": {},
   "outputs": [],
   "source": [
    "# call for the function to count the frequency of all actors for top 25 casts\n",
    "cast_name = count_genre('cast')\n"
   ]
  },
  {
   "cell_type": "code",
   "execution_count": 43,
   "metadata": {},
   "outputs": [
    {
     "data": {
      "image/png": "[encoded data removed]",
      "text/plain": [
       "<Figure size 720x576 with 1 Axes>"
      ]
     },
     "metadata": {
      "needs_background": "light"
     },
     "output_type": "display_data"
    }
   ],
   "source": [
    "# plot the bar chart\n",
    "cast_name.head(25).plot(figsize = (10,8),kind = 'bar');\n",
    "plt.title('Top 25 most frequent actor/actress')\n",
    "plt.xlabel('cast name',fontsize = 14)\n",
    "plt.ylabel('Count results', fontsize = 14);"
   ]
  },
  {
   "cell_type": "markdown",
   "metadata": {},
   "source": [
    "Conclusion 3: Tom Hanks appears to be the most frequently used actor among the top 25 actors/actresses.\n"
   ]
  },
  {
   "cell_type": "markdown",
   "metadata": {},
   "source": [
    "<a id='conclusions'></a>\n",
    "## Conclusions\n"
   ]
  },
  {
   "cell_type": "markdown",
   "metadata": {},
   "source": [
    "Conclusion 1: Drama is the most common genre among the top 250 rated movies. \n",
    "\n",
    "Conclusion 2: Warner Bros released the most movies among all ther companies. \n",
    "\n",
    "Conclusion 3: Tom Hanks appears to be the most frequently used actor among the top 25 actors/actresses.\n",
    "\n",
    "Limitations of the analysis:\n",
    "\n",
    "1. In order to split strings by \"|\" in data, the function I used consumes time.\n",
    "2. The analysis doesn't show the cause-effect relationship between the variables."
   ]
  },
  {
   "cell_type": "markdown",
   "metadata": {},
   "source": []
  },
  {
   "cell_type": "markdown",
   "metadata": {},
   "source": []
  }
 ],
 "metadata": {
  "kernelspec": {
   "display_name": "Python 3",
   "language": "python",
   "name": "python3"
  },
  "language_info": {
   "codemirror_mode": {
    "name": "ipython",
    "version": 3
   },
   "file_extension": ".py",
   "mimetype": "text/x-python",
   "name": "python",
   "nbconvert_exporter": "python",
   "pygments_lexer": "ipython3",
   "version": "3.8.5"
  }
 },
 "nbformat": 4,
 "nbformat_minor": 2
}
