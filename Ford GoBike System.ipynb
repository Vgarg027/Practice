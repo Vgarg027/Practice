{
 "cells": [
  {
   "cell_type": "markdown",
   "id": "d3e5d19f",
   "metadata": {
    "slideshow": {
     "slide_type": "slide"
    }
   },
   "source": [
    "# Part I - (Ford GoBike System Data)\n",
    "## by Dina Alade\n",
    "\n"
   ]
  },
  {
   "cell_type": "markdown",
   "id": "59d78a01",
   "metadata": {
    "slideshow": {
     "slide_type": "slide"
    }
   },
   "source": [
    "### Table of Content\n",
    "- [Introduction](#-Introduction)\n",
    "- [Preliminary Wrangling](#-Preliminary-Wrangling)\n",
    "- [Univariant Exploration](#-Univariant-Exploration)\n",
    "- [Bivariant Exploration](#-Bivariant-Exploration)\n",
    "- [Multivariant Exploration](#-Multivariant-Exploration)\n",
    "- [Conclusion](#-Conclusion)\n",
    "\n",
    "## Introduction\n",
    "\n",
    "> I analyzed Ford GoBike dataset. I used Python libraries like pandas, seaborn, numpy and matplotlib. The Dataset collects information from over 183k data of Bike rides. It consists of different features of user data and time.\n",
    "\n",
    "\n",
    "## Dataset\n",
    "It consists of 183412 rows 16 columns\n",
    "\n",
    "Duration_sec - Trip Duration\n",
    "Start_time - Time the trip starts\n",
    "End_time - Time the trip ends\n",
    "Start_station_id - ID number of the station the trip started from\n",
    "Start_station_name - Name of the station the trip started from\n",
    "Start_station_latitude - Latitude of station the trip started from\n",
    "Start_station_longitude - Longitude of station the trip started from\n",
    "End_station_id - ID number of the station the trip ended\n",
    "End_station_name - Name of the station the trip ended\n",
    "End_station_latitude - Latitude of station the trip ended\n",
    "End_station_longitude - Longitude of station the trip ended\n",
    "Bike_id - ID of the bikes used\n",
    "Member_birth_year - Year the Bike users were born\n",
    "Member_gender - Gender of the Bike Users\n",
    "Bike_share_for_all_trip - If bike trips were shared or not.\n",
    "\n",
    "\n",
    "\n",
    "\n",
    "\n",
    "\n",
    "\n",
    "\n",
    "## Preliminary Wrangling"
   ]
  },
  {
   "cell_type": "code",
   "execution_count": 1,
   "id": "18a30e14",
   "metadata": {
    "slideshow": {
     "slide_type": "skip"
    }
   },
   "outputs": [],
   "source": [
    "#load necessary libraries\n",
    "import pandas as pd\n",
    "import numpy as np\n",
    "import seaborn as sns\n",
    "import matplotlib.pyplot as plt\n",
    "%matplotlib inline"
   ]
  },
  {
   "cell_type": "code",
   "execution_count": 2,
   "id": "461b72af",
   "metadata": {
    "slideshow": {
     "slide_type": "skip"
    }
   },
   "outputs": [
    {
     "data": {
      "text/html": [
       "<div>\n",
       "<style scoped>\n",
       "    .dataframe tbody tr th:only-of-type {\n",
       "        vertical-align: middle;\n",
       "    }\n",
       "\n",
       "    .dataframe tbody tr th {\n",
       "        vertical-align: top;\n",
       "    }\n",
       "\n",
       "    .dataframe thead th {\n",
       "        text-align: right;\n",
       "    }\n",
       "</style>\n",
       "<table border=\"1\" class=\"dataframe\">\n",
       "  <thead>\n",
       "    <tr style=\"text-align: right;\">\n",
       "      <th></th>\n",
       "      <th>duration_sec</th>\n",
       "      <th>start_time</th>\n",
       "      <th>end_time</th>\n",
       "      <th>start_station_id</th>\n",
       "      <th>start_station_name</th>\n",
       "      <th>start_station_latitude</th>\n",
       "      <th>start_station_longitude</th>\n",
       "      <th>end_station_id</th>\n",
       "      <th>end_station_name</th>\n",
       "      <th>end_station_latitude</th>\n",
       "      <th>end_station_longitude</th>\n",
       "      <th>bike_id</th>\n",
       "      <th>user_type</th>\n",
       "      <th>member_birth_year</th>\n",
       "      <th>member_gender</th>\n",
       "      <th>bike_share_for_all_trip</th>\n",
       "    </tr>\n",
       "  </thead>\n",
       "  <tbody>\n",
       "    <tr>\n",
       "      <th>0</th>\n",
       "      <td>52185</td>\n",
       "      <td>2019-02-28 17:32:10.1450</td>\n",
       "      <td>2019-03-01 08:01:55.9750</td>\n",
       "      <td>21.0</td>\n",
       "      <td>Montgomery St BART Station (Market St at 2nd St)</td>\n",
       "      <td>37.789625</td>\n",
       "      <td>-122.400811</td>\n",
       "      <td>13.0</td>\n",
       "      <td>Commercial St at Montgomery St</td>\n",
       "      <td>37.794231</td>\n",
       "      <td>-122.402923</td>\n",
       "      <td>4902</td>\n",
       "      <td>Customer</td>\n",
       "      <td>1984.0</td>\n",
       "      <td>Male</td>\n",
       "      <td>No</td>\n",
       "    </tr>\n",
       "    <tr>\n",
       "      <th>1</th>\n",
       "      <td>42521</td>\n",
       "      <td>2019-02-28 18:53:21.7890</td>\n",
       "      <td>2019-03-01 06:42:03.0560</td>\n",
       "      <td>23.0</td>\n",
       "      <td>The Embarcadero at Steuart St</td>\n",
       "      <td>37.791464</td>\n",
       "      <td>-122.391034</td>\n",
       "      <td>81.0</td>\n",
       "      <td>Berry St at 4th St</td>\n",
       "      <td>37.775880</td>\n",
       "      <td>-122.393170</td>\n",
       "      <td>2535</td>\n",
       "      <td>Customer</td>\n",
       "      <td>NaN</td>\n",
       "      <td>NaN</td>\n",
       "      <td>No</td>\n",
       "    </tr>\n",
       "    <tr>\n",
       "      <th>2</th>\n",
       "      <td>61854</td>\n",
       "      <td>2019-02-28 12:13:13.2180</td>\n",
       "      <td>2019-03-01 05:24:08.1460</td>\n",
       "      <td>86.0</td>\n",
       "      <td>Market St at Dolores St</td>\n",
       "      <td>37.769305</td>\n",
       "      <td>-122.426826</td>\n",
       "      <td>3.0</td>\n",
       "      <td>Powell St BART Station (Market St at 4th St)</td>\n",
       "      <td>37.786375</td>\n",
       "      <td>-122.404904</td>\n",
       "      <td>5905</td>\n",
       "      <td>Customer</td>\n",
       "      <td>1972.0</td>\n",
       "      <td>Male</td>\n",
       "      <td>No</td>\n",
       "    </tr>\n",
       "    <tr>\n",
       "      <th>3</th>\n",
       "      <td>36490</td>\n",
       "      <td>2019-02-28 17:54:26.0100</td>\n",
       "      <td>2019-03-01 04:02:36.8420</td>\n",
       "      <td>375.0</td>\n",
       "      <td>Grove St at Masonic Ave</td>\n",
       "      <td>37.774836</td>\n",
       "      <td>-122.446546</td>\n",
       "      <td>70.0</td>\n",
       "      <td>Central Ave at Fell St</td>\n",
       "      <td>37.773311</td>\n",
       "      <td>-122.444293</td>\n",
       "      <td>6638</td>\n",
       "      <td>Subscriber</td>\n",
       "      <td>1989.0</td>\n",
       "      <td>Other</td>\n",
       "      <td>No</td>\n",
       "    </tr>\n",
       "    <tr>\n",
       "      <th>4</th>\n",
       "      <td>1585</td>\n",
       "      <td>2019-02-28 23:54:18.5490</td>\n",
       "      <td>2019-03-01 00:20:44.0740</td>\n",
       "      <td>7.0</td>\n",
       "      <td>Frank H Ogawa Plaza</td>\n",
       "      <td>37.804562</td>\n",
       "      <td>-122.271738</td>\n",
       "      <td>222.0</td>\n",
       "      <td>10th Ave at E 15th St</td>\n",
       "      <td>37.792714</td>\n",
       "      <td>-122.248780</td>\n",
       "      <td>4898</td>\n",
       "      <td>Subscriber</td>\n",
       "      <td>1974.0</td>\n",
       "      <td>Male</td>\n",
       "      <td>Yes</td>\n",
       "    </tr>\n",
       "  </tbody>\n",
       "</table>\n",
       "</div>"
      ],
      "text/plain": [
       "   duration_sec                start_time                  end_time  \\\n",
       "0         52185  2019-02-28 17:32:10.1450  2019-03-01 08:01:55.9750   \n",
       "1         42521  2019-02-28 18:53:21.7890  2019-03-01 06:42:03.0560   \n",
       "2         61854  2019-02-28 12:13:13.2180  2019-03-01 05:24:08.1460   \n",
       "3         36490  2019-02-28 17:54:26.0100  2019-03-01 04:02:36.8420   \n",
       "4          1585  2019-02-28 23:54:18.5490  2019-03-01 00:20:44.0740   \n",
       "\n",
       "   start_station_id                                start_station_name  \\\n",
       "0              21.0  Montgomery St BART Station (Market St at 2nd St)   \n",
       "1              23.0                     The Embarcadero at Steuart St   \n",
       "2              86.0                           Market St at Dolores St   \n",
       "3             375.0                           Grove St at Masonic Ave   \n",
       "4               7.0                               Frank H Ogawa Plaza   \n",
       "\n",
       "   start_station_latitude  start_station_longitude  end_station_id  \\\n",
       "0               37.789625              -122.400811            13.0   \n",
       "1               37.791464              -122.391034            81.0   \n",
       "2               37.769305              -122.426826             3.0   \n",
       "3               37.774836              -122.446546            70.0   \n",
       "4               37.804562              -122.271738           222.0   \n",
       "\n",
       "                               end_station_name  end_station_latitude  \\\n",
       "0                Commercial St at Montgomery St             37.794231   \n",
       "1                            Berry St at 4th St             37.775880   \n",
       "2  Powell St BART Station (Market St at 4th St)             37.786375   \n",
       "3                        Central Ave at Fell St             37.773311   \n",
       "4                         10th Ave at E 15th St             37.792714   \n",
       "\n",
       "   end_station_longitude  bike_id   user_type  member_birth_year  \\\n",
       "0            -122.402923     4902    Customer             1984.0   \n",
       "1            -122.393170     2535    Customer                NaN   \n",
       "2            -122.404904     5905    Customer             1972.0   \n",
       "3            -122.444293     6638  Subscriber             1989.0   \n",
       "4            -122.248780     4898  Subscriber             1974.0   \n",
       "\n",
       "  member_gender bike_share_for_all_trip  \n",
       "0          Male                      No  \n",
       "1           NaN                      No  \n",
       "2          Male                      No  \n",
       "3         Other                      No  \n",
       "4          Male                     Yes  "
      ]
     },
     "execution_count": 2,
     "metadata": {},
     "output_type": "execute_result"
    }
   ],
   "source": [
    "#load dataset using pandas\n",
    "df = pd.read_csv('201902-fordgobike-tripdata.csv')\n",
    "df.head()"
   ]
  },
  {
   "cell_type": "code",
   "execution_count": 3,
   "id": "68aeef66",
   "metadata": {
    "slideshow": {
     "slide_type": "skip"
    }
   },
   "outputs": [
    {
     "data": {
      "text/plain": [
       "(183412, 16)"
      ]
     },
     "execution_count": 3,
     "metadata": {},
     "output_type": "execute_result"
    }
   ],
   "source": [
    "#check the shape of the dataset\n",
    "df.shape"
   ]
  },
  {
   "cell_type": "code",
   "execution_count": 4,
   "id": "3d3528b1",
   "metadata": {
    "slideshow": {
     "slide_type": "skip"
    }
   },
   "outputs": [
    {
     "name": "stdout",
     "output_type": "stream",
     "text": [
      "<class 'pandas.core.frame.DataFrame'>\n",
      "RangeIndex: 183412 entries, 0 to 183411\n",
      "Data columns (total 16 columns):\n",
      " #   Column                   Non-Null Count   Dtype  \n",
      "---  ------                   --------------   -----  \n",
      " 0   duration_sec             183412 non-null  int64  \n",
      " 1   start_time               183412 non-null  object \n",
      " 2   end_time                 183412 non-null  object \n",
      " 3   start_station_id         183215 non-null  float64\n",
      " 4   start_station_name       183215 non-null  object \n",
      " 5   start_station_latitude   183412 non-null  float64\n",
      " 6   start_station_longitude  183412 non-null  float64\n",
      " 7   end_station_id           183215 non-null  float64\n",
      " 8   end_station_name         183215 non-null  object \n",
      " 9   end_station_latitude     183412 non-null  float64\n",
      " 10  end_station_longitude    183412 non-null  float64\n",
      " 11  bike_id                  183412 non-null  int64  \n",
      " 12  user_type                183412 non-null  object \n",
      " 13  member_birth_year        175147 non-null  float64\n",
      " 14  member_gender            175147 non-null  object \n",
      " 15  bike_share_for_all_trip  183412 non-null  object \n",
      "dtypes: float64(7), int64(2), object(7)\n",
      "memory usage: 22.4+ MB\n"
     ]
    }
   ],
   "source": [
    "#check the summary of the data\n",
    "df.info()"
   ]
  },
  {
   "cell_type": "code",
   "execution_count": 5,
   "id": "aaf9b417",
   "metadata": {
    "slideshow": {
     "slide_type": "skip"
    }
   },
   "outputs": [
    {
     "data": {
      "text/html": [
       "<div>\n",
       "<style scoped>\n",
       "    .dataframe tbody tr th:only-of-type {\n",
       "        vertical-align: middle;\n",
       "    }\n",
       "\n",
       "    .dataframe tbody tr th {\n",
       "        vertical-align: top;\n",
       "    }\n",
       "\n",
       "    .dataframe thead th {\n",
       "        text-align: right;\n",
       "    }\n",
       "</style>\n",
       "<table border=\"1\" class=\"dataframe\">\n",
       "  <thead>\n",
       "    <tr style=\"text-align: right;\">\n",
       "      <th></th>\n",
       "      <th>duration_sec</th>\n",
       "      <th>start_station_id</th>\n",
       "      <th>start_station_latitude</th>\n",
       "      <th>start_station_longitude</th>\n",
       "      <th>end_station_id</th>\n",
       "      <th>end_station_latitude</th>\n",
       "      <th>end_station_longitude</th>\n",
       "      <th>bike_id</th>\n",
       "      <th>member_birth_year</th>\n",
       "    </tr>\n",
       "  </thead>\n",
       "  <tbody>\n",
       "    <tr>\n",
       "      <th>count</th>\n",
       "      <td>183412.000000</td>\n",
       "      <td>183215.000000</td>\n",
       "      <td>183412.000000</td>\n",
       "      <td>183412.000000</td>\n",
       "      <td>183215.000000</td>\n",
       "      <td>183412.000000</td>\n",
       "      <td>183412.000000</td>\n",
       "      <td>183412.000000</td>\n",
       "      <td>175147.000000</td>\n",
       "    </tr>\n",
       "    <tr>\n",
       "      <th>mean</th>\n",
       "      <td>726.078435</td>\n",
       "      <td>138.590427</td>\n",
       "      <td>37.771223</td>\n",
       "      <td>-122.352664</td>\n",
       "      <td>136.249123</td>\n",
       "      <td>37.771427</td>\n",
       "      <td>-122.352250</td>\n",
       "      <td>4472.906375</td>\n",
       "      <td>1984.806437</td>\n",
       "    </tr>\n",
       "    <tr>\n",
       "      <th>std</th>\n",
       "      <td>1794.389780</td>\n",
       "      <td>111.778864</td>\n",
       "      <td>0.099581</td>\n",
       "      <td>0.117097</td>\n",
       "      <td>111.515131</td>\n",
       "      <td>0.099490</td>\n",
       "      <td>0.116673</td>\n",
       "      <td>1664.383394</td>\n",
       "      <td>10.116689</td>\n",
       "    </tr>\n",
       "    <tr>\n",
       "      <th>min</th>\n",
       "      <td>61.000000</td>\n",
       "      <td>3.000000</td>\n",
       "      <td>37.317298</td>\n",
       "      <td>-122.453704</td>\n",
       "      <td>3.000000</td>\n",
       "      <td>37.317298</td>\n",
       "      <td>-122.453704</td>\n",
       "      <td>11.000000</td>\n",
       "      <td>1878.000000</td>\n",
       "    </tr>\n",
       "    <tr>\n",
       "      <th>25%</th>\n",
       "      <td>325.000000</td>\n",
       "      <td>47.000000</td>\n",
       "      <td>37.770083</td>\n",
       "      <td>-122.412408</td>\n",
       "      <td>44.000000</td>\n",
       "      <td>37.770407</td>\n",
       "      <td>-122.411726</td>\n",
       "      <td>3777.000000</td>\n",
       "      <td>1980.000000</td>\n",
       "    </tr>\n",
       "    <tr>\n",
       "      <th>50%</th>\n",
       "      <td>514.000000</td>\n",
       "      <td>104.000000</td>\n",
       "      <td>37.780760</td>\n",
       "      <td>-122.398285</td>\n",
       "      <td>100.000000</td>\n",
       "      <td>37.781010</td>\n",
       "      <td>-122.398279</td>\n",
       "      <td>4958.000000</td>\n",
       "      <td>1987.000000</td>\n",
       "    </tr>\n",
       "    <tr>\n",
       "      <th>75%</th>\n",
       "      <td>796.000000</td>\n",
       "      <td>239.000000</td>\n",
       "      <td>37.797280</td>\n",
       "      <td>-122.286533</td>\n",
       "      <td>235.000000</td>\n",
       "      <td>37.797320</td>\n",
       "      <td>-122.288045</td>\n",
       "      <td>5502.000000</td>\n",
       "      <td>1992.000000</td>\n",
       "    </tr>\n",
       "    <tr>\n",
       "      <th>max</th>\n",
       "      <td>85444.000000</td>\n",
       "      <td>398.000000</td>\n",
       "      <td>37.880222</td>\n",
       "      <td>-121.874119</td>\n",
       "      <td>398.000000</td>\n",
       "      <td>37.880222</td>\n",
       "      <td>-121.874119</td>\n",
       "      <td>6645.000000</td>\n",
       "      <td>2001.000000</td>\n",
       "    </tr>\n",
       "  </tbody>\n",
       "</table>\n",
       "</div>"
      ],
      "text/plain": [
       "        duration_sec  start_station_id  start_station_latitude  \\\n",
       "count  183412.000000     183215.000000           183412.000000   \n",
       "mean      726.078435        138.590427               37.771223   \n",
       "std      1794.389780        111.778864                0.099581   \n",
       "min        61.000000          3.000000               37.317298   \n",
       "25%       325.000000         47.000000               37.770083   \n",
       "50%       514.000000        104.000000               37.780760   \n",
       "75%       796.000000        239.000000               37.797280   \n",
       "max     85444.000000        398.000000               37.880222   \n",
       "\n",
       "       start_station_longitude  end_station_id  end_station_latitude  \\\n",
       "count            183412.000000   183215.000000         183412.000000   \n",
       "mean               -122.352664      136.249123             37.771427   \n",
       "std                   0.117097      111.515131              0.099490   \n",
       "min                -122.453704        3.000000             37.317298   \n",
       "25%                -122.412408       44.000000             37.770407   \n",
       "50%                -122.398285      100.000000             37.781010   \n",
       "75%                -122.286533      235.000000             37.797320   \n",
       "max                -121.874119      398.000000             37.880222   \n",
       "\n",
       "       end_station_longitude        bike_id  member_birth_year  \n",
       "count          183412.000000  183412.000000      175147.000000  \n",
       "mean             -122.352250    4472.906375        1984.806437  \n",
       "std                 0.116673    1664.383394          10.116689  \n",
       "min              -122.453704      11.000000        1878.000000  \n",
       "25%              -122.411726    3777.000000        1980.000000  \n",
       "50%              -122.398279    4958.000000        1987.000000  \n",
       "75%              -122.288045    5502.000000        1992.000000  \n",
       "max              -121.874119    6645.000000        2001.000000  "
      ]
     },
     "execution_count": 5,
     "metadata": {},
     "output_type": "execute_result"
    }
   ],
   "source": [
    "#check the datasets summary statistics\n",
    "df.describe()"
   ]
  },
  {
   "cell_type": "code",
   "execution_count": 6,
   "id": "1b45fadf",
   "metadata": {
    "slideshow": {
     "slide_type": "skip"
    }
   },
   "outputs": [
    {
     "data": {
      "text/plain": [
       "duration_sec                  0\n",
       "start_time                    0\n",
       "end_time                      0\n",
       "start_station_id            197\n",
       "start_station_name          197\n",
       "start_station_latitude        0\n",
       "start_station_longitude       0\n",
       "end_station_id              197\n",
       "end_station_name            197\n",
       "end_station_latitude          0\n",
       "end_station_longitude         0\n",
       "bike_id                       0\n",
       "user_type                     0\n",
       "member_birth_year          8265\n",
       "member_gender              8265\n",
       "bike_share_for_all_trip       0\n",
       "dtype: int64"
      ]
     },
     "execution_count": 6,
     "metadata": {},
     "output_type": "execute_result"
    }
   ],
   "source": [
    "#check for missing values\n",
    "df.isna().sum()"
   ]
  },
  {
   "cell_type": "code",
   "execution_count": 7,
   "id": "d49972b1",
   "metadata": {
    "slideshow": {
     "slide_type": "skip"
    }
   },
   "outputs": [
    {
     "data": {
      "text/plain": [
       "duration_sec                 int64\n",
       "start_time                  object\n",
       "end_time                    object\n",
       "start_station_id           float64\n",
       "start_station_name          object\n",
       "start_station_latitude     float64\n",
       "start_station_longitude    float64\n",
       "end_station_id             float64\n",
       "end_station_name            object\n",
       "end_station_latitude       float64\n",
       "end_station_longitude      float64\n",
       "bike_id                      int64\n",
       "user_type                   object\n",
       "member_birth_year          float64\n",
       "member_gender               object\n",
       "bike_share_for_all_trip     object\n",
       "dtype: object"
      ]
     },
     "execution_count": 7,
     "metadata": {},
     "output_type": "execute_result"
    }
   ],
   "source": [
    "#check for the datasets data types\n",
    "df.dtypes"
   ]
  },
  {
   "cell_type": "code",
   "execution_count": 8,
   "id": "450ea530",
   "metadata": {
    "slideshow": {
     "slide_type": "skip"
    }
   },
   "outputs": [
    {
     "data": {
      "text/plain": [
       "0"
      ]
     },
     "execution_count": 8,
     "metadata": {},
     "output_type": "execute_result"
    }
   ],
   "source": [
    "#check for duplicates\n",
    "df.duplicated().sum()"
   ]
  },
  {
   "cell_type": "markdown",
   "id": "b79639f7",
   "metadata": {
    "slideshow": {
     "slide_type": "skip"
    }
   },
   "source": [
    "#### check for unique values gender, station names and user type"
   ]
  },
  {
   "cell_type": "code",
   "execution_count": 9,
   "id": "c49cd72f",
   "metadata": {
    "slideshow": {
     "slide_type": "skip"
    }
   },
   "outputs": [
    {
     "data": {
      "text/plain": [
       "array(['Male', nan, 'Other', 'Female'], dtype=object)"
      ]
     },
     "execution_count": 9,
     "metadata": {},
     "output_type": "execute_result"
    }
   ],
   "source": [
    "df['member_gender'].unique()"
   ]
  },
  {
   "cell_type": "code",
   "execution_count": 10,
   "id": "44e15ca6",
   "metadata": {
    "slideshow": {
     "slide_type": "skip"
    }
   },
   "outputs": [
    {
     "data": {
      "text/plain": [
       "329"
      ]
     },
     "execution_count": 10,
     "metadata": {},
     "output_type": "execute_result"
    }
   ],
   "source": [
    "df['start_station_name'].nunique()"
   ]
  },
  {
   "cell_type": "code",
   "execution_count": 11,
   "id": "b3607fea",
   "metadata": {
    "slideshow": {
     "slide_type": "skip"
    }
   },
   "outputs": [
    {
     "data": {
      "text/plain": [
       "array(['Montgomery St BART Station (Market St at 2nd St)',\n",
       "       'The Embarcadero at Steuart St', 'Market St at Dolores St',\n",
       "       'Grove St at Masonic Ave', 'Frank H Ogawa Plaza',\n",
       "       '4th St at Mission Bay Blvd S', 'Palm St at Willow St',\n",
       "       'Washington St at Kearny St', 'Post St at Kearny St',\n",
       "       'Jones St at Post St',\n",
       "       'Civic Center/UN Plaza BART Station (Market St at McAllister St)',\n",
       "       'Valencia St at 21st St', 'Channing Way at Shattuck Ave',\n",
       "       'Bancroft Way at College Ave', 'Howard St at Mary St',\n",
       "       '22nd St at Dolores St', 'Laguna St at Hayes St',\n",
       "       '5th St at Folsom', 'Telegraph Ave at 23rd St',\n",
       "       'Page St at Scott St', 'Lake Merritt BART Station',\n",
       "       'West St at 40th St', 'The Embarcadero at Sansome St',\n",
       "       'Folsom St at 9th St', 'University Ave at Oxford St',\n",
       "       'MLK Jr Way at University Ave', 'The Embarcadero at Bryant St',\n",
       "       '17th St at Valencia St', 'Valencia St at 16th St',\n",
       "       'Valencia St at 22nd St', 'Franklin Square',\n",
       "       'San Pablo Ave at MLK Jr Way', '19th St at Mission St',\n",
       "       'Market St at 10th St', 'Folsom St at 13th St',\n",
       "       'San Francisco Ferry Building (Harry Bridges Plaza)',\n",
       "       '4th St at 16th St', 'Beale St at Harrison St',\n",
       "       'Broadway at Battery St', 'Cesar Chavez St at Dolores St',\n",
       "       'San Fernando St at 4th St', 'Grove St at Divisadero',\n",
       "       'Sanchez St at 17th St', 'Harmon St at Adeline St',\n",
       "       'Mission Playground', 'Davis St at Jackson St',\n",
       "       'Haste St at Telegraph Ave', 'Howard St at 8th St',\n",
       "       'Folsom St at 3rd St', 'Father Alfred E Boeddeker Park',\n",
       "       'Commercial St at Montgomery St', 'Hubbell St at 16th St',\n",
       "       'San Francisco Public Library (Grove St at Hyde St)',\n",
       "       'Bancroft Way at Telegraph Ave', '19th Street BART Station',\n",
       "       '18th St at Noe St', 'Hyde St at Post St', '24th St at Market St',\n",
       "       'Vine St at Shattuck Ave',\n",
       "       'San Francisco Caltrain (Townsend St at 4th St)',\n",
       "       'Valencia St at Clinton Park',\n",
       "       'Union Square (Powell St at Post St)', 'Broderick St at Oak St',\n",
       "       'San Francisco Caltrain Station 2  (Townsend St at 4th St)',\n",
       "       'North Berkeley BART Station', 'Downtown Berkeley BART',\n",
       "       'Fell St at Stanyan St', 'San Salvador St at 9th St',\n",
       "       'Marston Campbell Park', 'Oregon St at Adeline St',\n",
       "       '11th St at Natoma St', 'Harrison St at 20th St',\n",
       "       'Haste St at College Ave', '24th St at Bartlett St',\n",
       "       'Sanchez St at 15th St', 'Telegraph Ave at 19th St',\n",
       "       'Powell St BART Station (Market St at 5th St)',\n",
       "       'Jersey St at Castro St', 'Pierce St at Haight St',\n",
       "       'MacArthur BART Station', 'El Embarcadero at Grand Ave',\n",
       "       '23rd St at San Bruno Ave', 'Golden Gate Ave at Hyde St',\n",
       "       'S Van Ness Ave at Market St', 'Jackson Playground',\n",
       "       'San Fernando St at 7th St', 'West St at University Ave',\n",
       "       'Myrtle St at Polk St', 'Woolsey St at Sacramento St',\n",
       "       'Townsend St at 7th St', 'Harrison St at 17th St',\n",
       "       'West Oakland BART Station', 'Cyril Magnin St at Ellis St',\n",
       "       'Fulton St at Bancroft Way', '14th St at Mission St',\n",
       "       'San Pedro Square', 'Market St at Franklin St',\n",
       "       'Folsom St at 19th St', 'College Ave at Taft Ave',\n",
       "       'Rhode Island St at 17th St', 'Shattuck Ave at Hearst Ave',\n",
       "       'The Embarcadero at Vallejo St', 'Webster St at Grove St',\n",
       "       'Raymond Kimbell Playground', 'Victoria Manalo Draves Park',\n",
       "       '20th St at Bryant St', 'S Park St at 3rd St',\n",
       "       'Lakeshore Ave at Trestle Glen Rd',\n",
       "       'Channing Way at San Pablo Ave', 'Mission Dolores Park',\n",
       "       'Lombard St at Columbus Ave', '17th St at Dolores St',\n",
       "       'Precita Park', 'Central Ave at Fell St', '4th St at Harrison St',\n",
       "       'Horton St at 40th St', 'Golden Gate Ave at Franklin St',\n",
       "       'Embarcadero BART Station (Beale St at Market St)',\n",
       "       '9th St at San Fernando St', '3rd St at Townsend St',\n",
       "       'McCoppin St at Valencia St', '13th St at Franklin St',\n",
       "       'Mission Bay Kids Park', 'Potrero Ave and Mariposa St',\n",
       "       'Emeryville Public Market', 'Union St at 10th St',\n",
       "       'Jackson St at 11th St', 'Broadway at Kearny',\n",
       "       'Paseo De San Antonio at 2nd St', 'Valencia St at Cesar Chavez St',\n",
       "       'Rockridge BART Station', '8th St at Brannan St',\n",
       "       'College Ave at Alcatraz Ave', '16th St Mission BART Station 2',\n",
       "       'San Jose Diridon Station', 'Masonic Ave at Turk St',\n",
       "       '17th & Folsom Street Park (17th St at Folsom St)',\n",
       "       'Grand Ave at Webster St', '7th St at Brannan St',\n",
       "       'Steuart St at Market St', 'Scott St at Golden Gate Ave',\n",
       "       'Parker St at Fulton St', 'Berkeley Civic Center',\n",
       "       'Clay St at Battery St', '11th St at Bryant St',\n",
       "       'Powell St BART Station (Market St at 4th St)',\n",
       "       'Doyle St at 59th St', '34th St at Telegraph Ave', 'Esprit Park',\n",
       "       'Emeryville Town Hall', 'Division St at Potrero Ave',\n",
       "       'Irwin St at 8th St', 'Pierce Ave at Market St',\n",
       "       'Howard St at Beale St', 'Washington St at 8th St', 'Snow Park',\n",
       "       'Dolores St at 15th St', 'Hearst Ave at Euclid Ave',\n",
       "       'Telegraph Ave at Ashby Ave', '8th St at Ringold St',\n",
       "       '14th St at Mandela Pkwy', 'Morrison Ave at Julian St',\n",
       "       'Church St at Duboce Ave', 'Townsend St at 5th St',\n",
       "       'Valencia St at 24th St', '16th St at Prosper St',\n",
       "       '5th St at Virginia St', \"Webster St at O'Farrell St\",\n",
       "       'Shattuck Ave at Telegraph Ave', 'Jackson St at 5th St',\n",
       "       'Berry St at 4th St', '2nd St at Townsend St',\n",
       "       'Telegraph Ave at Carleton St', 'Ellsworth St at Russell St',\n",
       "       'Adeline St at 40th St', 'Bay Pl at Vernon St',\n",
       "       'Russell St at College Ave', '22nd St Caltrain Station',\n",
       "       'Folsom St at 15th St', nan, 'Ninth St at Heinz Ave',\n",
       "       '15th St at Potrero Ave', '23rd St at Tennessee St',\n",
       "       'McAllister St at Baker St', 'Bryant St at 2nd St',\n",
       "       'Mississippi St at 17th St', 'Ryland Park',\n",
       "       'Fountain Alley at S 2nd St', 'Turk St at Fillmore St',\n",
       "       'Ashby BART Station', 'Shattuck Ave at 51st St',\n",
       "       'Julian St at The Alameda', '20th St at Dolores St',\n",
       "       'Broadway at Coronado Ave', 'Grand Ave at Santa Clara Ave',\n",
       "       'Eureka Valley Recreation Center', 'Parker Ave at McAllister St',\n",
       "       'Berry St at King St',\n",
       "       'Salesforce Transit Center (Natoma St at 2nd St)',\n",
       "       'San Antonio Park', 'Lakeside Dr at 14th St',\n",
       "       '16th St Mission BART', 'Stanford Ave at Hollis St',\n",
       "       'Broadway at 40th St',\n",
       "       'Mechanics Monument Plaza (Market St at Bush St)',\n",
       "       'Madison St at 17th St', 'Grand Ave at Perkins St',\n",
       "       'Garfield Square (25th St at Harrison St)', '53rd St at Hollis St',\n",
       "       '2nd St at Julian St', 'Telegraph Ave at Alcatraz Ave',\n",
       "       'San Francisco City Hall (Polk St at Grove St)',\n",
       "       '5th St at Brannan St', '10th St at Fallon St',\n",
       "       'Yerba Buena Center for the Arts (Howard St at 3rd St)',\n",
       "       '30th St at San Jose Ave', '29th St at Tiffany Ave',\n",
       "       'Webster St at 2nd St', 'Koshland Park', 'Jersey St at Church St',\n",
       "       'Santa Clara St at 7th St', 'Telegraph Ave at 58th St',\n",
       "       'Fruitvale BART Station', 'Addison St at Fourth St',\n",
       "       'Leavenworth St at Broadway', 'Telegraph Ave at 27th St',\n",
       "       'Potrero del Sol Park (25th St at Utah St)',\n",
       "       'Spear St at Folsom St', 'College Ave at Harwood Ave',\n",
       "       \"O'Farrell St at Divisadero St\", '1st St at Folsom St',\n",
       "       'Bryant St at 15th St', 'Golden Gate Ave at Polk St',\n",
       "       '5th St at San Salvador St', '29th St at Church St',\n",
       "       'Alamo Square (Steiner St at Fulton St)',\n",
       "       'Autumn Parkway at Coleman Ave', 'Fulton St at Ashby Ave',\n",
       "       'Howard St at 2nd St', '19th St at Florida St',\n",
       "       'Market St at 45th St', 'Derby St at College Ave',\n",
       "       'Market St at Brockhurst St', 'California St at University Ave',\n",
       "       'MLK Jr Way at 14th St', 'Market St at 40th St',\n",
       "       'Julian St at 6th St', 'Cahill Park', 'San Jose City Hall',\n",
       "       'Virginia St at Shattuck Ave', 'Jack London Square',\n",
       "       'Milvia St at Derby St', 'Webster St at 19th St',\n",
       "       '24th St at Chattanooga St', 'The Alameda at Bush St',\n",
       "       '49th St at Telegraph Ave', 'Broadway at 30th St',\n",
       "       'Bryant St at 6th St', 'Empire St at 1st St',\n",
       "       'China Basin St at 3rd St', '47th St at San Pablo Ave',\n",
       "       'San Salvador St at 1st St', '45th St at Manila',\n",
       "       'San Carlos St at Market St', 'San Pablo Ave at 27th St',\n",
       "       'Market St at Park St', 'Franklin St at 9th St',\n",
       "       'Almaden Blvd at San Fernando St', 'Oak St at 1st St',\n",
       "       'William St at 10th St', 'Isabella St at San Pablo Ave',\n",
       "       'Guerrero Park', '10th St at University Ave', 'DeFremery Park',\n",
       "       'Fifth St at Delaware St', 'Williams Ave at 3rd St',\n",
       "       '4th Ave at E 12th St (Temporary Location)',\n",
       "       'Shattuck Ave at 55th St', '59th St at Horton St', 'SAP Center',\n",
       "       '37th St at West St', 'Almaden Blvd at Balbach St',\n",
       "       '65th St at Hollis St', 'Santa Clara St at Almaden Blvd',\n",
       "       'Ninth St at Parker St', 'Bushrod Park', 'Empire St at 7th St',\n",
       "       'Mendell St at Fairfax Ave', '16th St Depot',\n",
       "       'Newhall St at 3rd St', 'George St at 1st St',\n",
       "       'Mission St at 1st St', 'Duboce Park', 'Locust St at Grant St',\n",
       "       '32nd St at Adeline St', 'Mosswood Park',\n",
       "       'Delmas Ave and San Fernando St', 'Lane St at Revere Ave',\n",
       "       '2nd Ave at E 18th St', 'San Carlos St at 11th St',\n",
       "       'Williams Ave at Apollo St', 'MacArthur Blvd at Telegraph Ave',\n",
       "       'Bestor Art Park', 'College Ave at Bryant Ave',\n",
       "       'Miles Ave at Cavour St', 'Saint James Park',\n",
       "       '14th St at Filbert St', 'Foothill Blvd at Fruitvale Ave',\n",
       "       'Market St at 8th St', 'Backesto Park (Jackson St at 13th St)',\n",
       "       '10th Ave at E 15th St', 'Alcatraz Ave at Shattuck Ave',\n",
       "       '55th St at Telegraph Ave', 'Genoa St at 55th St',\n",
       "       'Dover St at 57th St', 'San Pablo Park',\n",
       "       '6th Ave at E 12th St (Temporary Location)', 'Taylor St at 9th St',\n",
       "       '27th St at MLK Jr Way', 'Foothill Blvd at Harrington Ave',\n",
       "       '23rd Ave at Foothill Blvd', 'San Pedro St at Hedding St',\n",
       "       '45th St at MLK Jr Way', '5th St at Taylor St',\n",
       "       'Foothill Blvd at 42nd Ave', 'Willow St at Vine St',\n",
       "       '26th Ave at International Blvd', 'Farnam St at Fruitvale Ave',\n",
       "       '21st Ave at International Blvd', '2nd St at Folsom St'],\n",
       "      dtype=object)"
      ]
     },
     "execution_count": 11,
     "metadata": {},
     "output_type": "execute_result"
    }
   ],
   "source": [
    "df['start_station_name'].unique()"
   ]
  },
  {
   "cell_type": "code",
   "execution_count": 12,
   "id": "5ac11b2d",
   "metadata": {
    "slideshow": {
     "slide_type": "skip"
    }
   },
   "outputs": [
    {
     "data": {
      "text/plain": [
       "329"
      ]
     },
     "execution_count": 12,
     "metadata": {},
     "output_type": "execute_result"
    }
   ],
   "source": [
    "df['end_station_name'].nunique()"
   ]
  },
  {
   "cell_type": "code",
   "execution_count": 13,
   "id": "a9100f43",
   "metadata": {
    "slideshow": {
     "slide_type": "skip"
    }
   },
   "outputs": [
    {
     "data": {
      "text/plain": [
       "array(['Commercial St at Montgomery St', 'Berry St at 4th St',\n",
       "       'Powell St BART Station (Market St at 4th St)',\n",
       "       'Central Ave at Fell St', '10th Ave at E 15th St',\n",
       "       'Broadway at Kearny', 'San Jose Diridon Station',\n",
       "       'Valencia St at 21st St', 'Mission Playground',\n",
       "       'San Francisco Public Library (Grove St at Hyde St)',\n",
       "       'Bryant St at 2nd St', 'Shattuck Ave at Hearst Ave',\n",
       "       'Channing Way at Shattuck Ave', '8th St at Ringold St',\n",
       "       'Broderick St at Oak St', 'Potrero Ave and Mariposa St',\n",
       "       'Market St at Franklin St', 'Telegraph Ave at 23rd St',\n",
       "       '17th St at Dolores St',\n",
       "       '6th Ave at E 12th St (Temporary Location)',\n",
       "       'McAllister St at Baker St', 'Telegraph Ave at Carleton St',\n",
       "       'Genoa St at 55th St', 'Grand Ave at Perkins St',\n",
       "       'San Francisco Ferry Building (Harry Bridges Plaza)',\n",
       "       'Folsom St at 9th St', 'Channing Way at San Pablo Ave',\n",
       "       '2nd St at Townsend St', 'Pierce St at Haight St',\n",
       "       'Potrero del Sol Park (25th St at Utah St)',\n",
       "       'Valencia St at 22nd St', 'Jackson Playground',\n",
       "       'Dolores St at 15th St', '29th St at Church St',\n",
       "       '19th St at Mission St', 'Bay Pl at Vernon St',\n",
       "       'Post St at Kearny St',\n",
       "       'Yerba Buena Center for the Arts (Howard St at 3rd St)',\n",
       "       '4th St at Mission Bay Blvd S', 'Father Alfred E Boeddeker Park',\n",
       "       'Market St at 10th St', '24th St at Chattanooga St',\n",
       "       'Pierce Ave at Market St', 'Fell St at Stanyan St',\n",
       "       '17th St at Valencia St', 'San Pablo Ave at 27th St',\n",
       "       'Howard St at Mary St', 'Davis St at Jackson St',\n",
       "       'Victoria Manalo Draves Park', 'Jersey St at Church St',\n",
       "       'Haste St at Telegraph Ave', 'Eureka Valley Recreation Center',\n",
       "       'Washington St at Kearny St', 'Grove St at Divisadero',\n",
       "       'Parker St at Fulton St', 'El Embarcadero at Grand Ave',\n",
       "       'Lake Merritt BART Station', 'Hyde St at Post St',\n",
       "       '24th St at Market St', '5th St at Brannan St',\n",
       "       '24th St at Bartlett St', 'Townsend St at 5th St',\n",
       "       'Addison St at Fourth St', 'Broadway at Battery St',\n",
       "       'Market St at Dolores St', '5th St at Virginia St',\n",
       "       'Marston Campbell Park', 'University Ave at Oxford St',\n",
       "       'Valencia St at 24th St', 'Valencia St at Cesar Chavez St',\n",
       "       'Ryland Park', 'Precita Park', 'Derby St at College Ave',\n",
       "       'Jersey St at Castro St', '11th St at Natoma St',\n",
       "       '45th St at MLK Jr Way', 'Valencia St at 16th St',\n",
       "       'San Francisco Caltrain Station 2  (Townsend St at 4th St)',\n",
       "       'Montgomery St BART Station (Market St at 2nd St)',\n",
       "       '18th St at Noe St', '37th St at West St', 'Newhall St at 3rd St',\n",
       "       'Haste St at College Ave', 'Cyril Magnin St at Ellis St',\n",
       "       'Beale St at Harrison St', 'Fulton St at Bancroft Way',\n",
       "       'San Fernando St at 4th St',\n",
       "       'Garfield Square (25th St at Harrison St)',\n",
       "       '29th St at Tiffany Ave', 'Bancroft Way at College Ave',\n",
       "       'Ashby BART Station', '11th St at Bryant St',\n",
       "       '14th St at Mandela Pkwy', 'Howard St at 8th St',\n",
       "       'Leavenworth St at Broadway', 'Locust St at Grant St',\n",
       "       'Lombard St at Columbus Ave', 'Sanchez St at 17th St',\n",
       "       '45th St at Manila', '23rd St at San Bruno Ave',\n",
       "       'Morrison Ave at Julian St', 'Sanchez St at 15th St',\n",
       "       'Koshland Park', 'Harrison St at 20th St', '2nd Ave at E 18th St',\n",
       "       'Steuart St at Market St', 'Church St at Duboce Ave',\n",
       "       'Page St at Scott St', 'Bancroft Way at Telegraph Ave',\n",
       "       'Mission Bay Kids Park', 'Folsom St at 3rd St',\n",
       "       'Valencia St at Clinton Park', 'Grand Ave at Santa Clara Ave',\n",
       "       '19th Street BART Station', 'Folsom St at 19th St',\n",
       "       'West Oakland BART Station', 'S Park St at 3rd St',\n",
       "       '5th St at Folsom',\n",
       "       'Embarcadero BART Station (Beale St at Market St)',\n",
       "       'Howard St at 2nd St', 'The Embarcadero at Sansome St',\n",
       "       'Backesto Park (Jackson St at 13th St)', 'Esprit Park',\n",
       "       'Myrtle St at Polk St', 'Franklin Square', 'Empire St at 7th St',\n",
       "       'Lakeside Dr at 14th St', 'Laguna St at Hayes St',\n",
       "       '65th St at Hollis St', '4th St at 16th St',\n",
       "       '49th St at Telegraph Ave', '16th St Mission BART Station 2',\n",
       "       'Lane St at Revere Ave', 'MLK Jr Way at University Ave',\n",
       "       '2nd St at Julian St', 'Webster St at Grove St',\n",
       "       'Telegraph Ave at Ashby Ave', 'Bryant St at 6th St',\n",
       "       '20th St at Dolores St',\n",
       "       'Powell St BART Station (Market St at 5th St)',\n",
       "       'San Francisco Caltrain (Townsend St at 4th St)',\n",
       "       '8th St at Brannan St', 'Shattuck Ave at Telegraph Ave',\n",
       "       'Downtown Berkeley BART', 'North Berkeley BART Station',\n",
       "       'Turk St at Fillmore St', 'Woolsey St at Sacramento St',\n",
       "       '4th St at Harrison St', 'The Embarcadero at Bryant St',\n",
       "       \"O'Farrell St at Divisadero St\", 'Grove St at Masonic Ave',\n",
       "       'Hubbell St at 16th St',\n",
       "       'Civic Center/UN Plaza BART Station (Market St at McAllister St)',\n",
       "       '3rd St at Townsend St', 'Fountain Alley at S 2nd St',\n",
       "       'China Basin St at 3rd St', '59th St at Horton St',\n",
       "       'Mission Dolores Park', 'San Carlos St at 11th St',\n",
       "       'Jackson St at 11th St', '22nd St Caltrain Station',\n",
       "       'Townsend St at 7th St', '7th St at Brannan St',\n",
       "       'Webster St at 2nd St', 'Ellsworth St at Russell St',\n",
       "       \"Webster St at O'Farrell St\", 'Harmon St at Adeline St',\n",
       "       '1st St at Folsom St', 'Vine St at Shattuck Ave',\n",
       "       'Stanford Ave at Hollis St', 'Jones St at Post St',\n",
       "       'West St at University Ave', 'Paseo De San Antonio at 2nd St',\n",
       "       'Duboce Park', 'The Embarcadero at Steuart St',\n",
       "       'Russell St at College Ave', 'Golden Gate Ave at Hyde St',\n",
       "       'Berkeley Civic Center', '47th St at San Pablo Ave',\n",
       "       'George St at 1st St', '53rd St at Hollis St',\n",
       "       'West St at 40th St', '15th St at Potrero Ave',\n",
       "       'Division St at Potrero Ave', 'San Pablo Ave at MLK Jr Way',\n",
       "       'Jackson St at 5th St', 'Union Square (Powell St at Post St)',\n",
       "       '4th Ave at E 12th St (Temporary Location)', 'Bushrod Park',\n",
       "       'Rhode Island St at 17th St', 'Folsom St at 13th St',\n",
       "       'Virginia St at Shattuck Ave', '16th St Mission BART',\n",
       "       'Lakeshore Ave at Trestle Glen Rd', 'Masonic Ave at Turk St', nan,\n",
       "       'Harrison St at 17th St', 'McCoppin St at Valencia St',\n",
       "       '17th & Folsom Street Park (17th St at Folsom St)',\n",
       "       '10th St at Fallon St', '34th St at Telegraph Ave',\n",
       "       'The Alameda at Bush St', '9th St at San Fernando St',\n",
       "       '20th St at Bryant St', 'Howard St at Beale St',\n",
       "       'Cesar Chavez St at Dolores St', '55th St at Telegraph Ave',\n",
       "       'S Van Ness Ave at Market St', 'Scott St at Golden Gate Ave',\n",
       "       '14th St at Mission St', 'Mississippi St at 17th St',\n",
       "       'Alamo Square (Steiner St at Fulton St)',\n",
       "       'Shattuck Ave at 51st St', 'MacArthur BART Station',\n",
       "       'Madison St at 17th St', 'Horton St at 40th St',\n",
       "       'Hearst Ave at Euclid Ave', 'Folsom St at 15th St',\n",
       "       '19th St at Florida St', 'Alcatraz Ave at Shattuck Ave',\n",
       "       'San Fernando St at 7th St', 'MLK Jr Way at 14th St',\n",
       "       'Milvia St at Derby St', 'College Ave at Alcatraz Ave',\n",
       "       'Washington St at 8th St', 'Guerrero Park',\n",
       "       'Oregon St at Adeline St', 'Parker Ave at McAllister St',\n",
       "       '23rd St at Tennessee St', 'Clay St at Battery St',\n",
       "       'Broadway at 40th St',\n",
       "       'Salesforce Transit Center (Natoma St at 2nd St)',\n",
       "       'Telegraph Ave at 19th St', 'Emeryville Public Market',\n",
       "       'Golden Gate Ave at Polk St', 'Telegraph Ave at 58th St',\n",
       "       'Foothill Blvd at Harrington Ave', 'The Embarcadero at Vallejo St',\n",
       "       '16th St at Prosper St', 'Berry St at King St',\n",
       "       'Broadway at Coronado Ave', 'Market St at 45th St',\n",
       "       'Mechanics Monument Plaza (Market St at Bush St)',\n",
       "       'Dover St at 57th St', 'Miles Ave at Cavour St',\n",
       "       'Rockridge BART Station', 'Fifth St at Delaware St',\n",
       "       'College Ave at Harwood Ave', 'California St at University Ave',\n",
       "       'Union St at 10th St', '5th St at San Salvador St',\n",
       "       'Mosswood Park', 'William St at 10th St', '5th St at Taylor St',\n",
       "       'Julian St at The Alameda', 'Irwin St at 8th St',\n",
       "       'Market St at Brockhurst St', 'Adeline St at 40th St',\n",
       "       '30th St at San Jose Ave', 'Spear St at Folsom St',\n",
       "       '27th St at MLK Jr Way',\n",
       "       'San Francisco City Hall (Polk St at Grove St)',\n",
       "       '22nd St at Dolores St', 'Frank H Ogawa Plaza',\n",
       "       'Shattuck Ave at 55th St', 'Golden Gate Ave at Franklin St',\n",
       "       'Broadway at 30th St', 'Bryant St at 15th St',\n",
       "       'Grand Ave at Webster St', 'Julian St at 6th St',\n",
       "       'Santa Clara St at 7th St', '14th St at Filbert St',\n",
       "       'Emeryville Town Hall', 'Cahill Park',\n",
       "       'Raymond Kimbell Playground', 'Autumn Parkway at Coleman Ave',\n",
       "       'Isabella St at San Pablo Ave', 'San Salvador St at 9th St',\n",
       "       'Telegraph Ave at 27th St', '13th St at Franklin St',\n",
       "       'Doyle St at 59th St', 'Jack London Square', 'SAP Center',\n",
       "       'Telegraph Ave at Alcatraz Ave', 'San Carlos St at Market St',\n",
       "       '10th St at University Ave', 'Ninth St at Heinz Ave',\n",
       "       'Market St at 40th St', '23rd Ave at Foothill Blvd',\n",
       "       'Bestor Art Park', '32nd St at Adeline St', 'DeFremery Park',\n",
       "       'San Pedro Square', 'San Salvador St at 1st St',\n",
       "       'Fulton St at Ashby Ave', 'Ninth St at Parker St',\n",
       "       'Taylor St at 9th St', 'Empire St at 1st St',\n",
       "       'Franklin St at 9th St', 'Webster St at 19th St', 'San Pablo Park',\n",
       "       'College Ave at Taft Ave', 'Market St at 8th St', 'Snow Park',\n",
       "       'San Antonio Park', 'San Jose City Hall',\n",
       "       'Delmas Ave and San Fernando St', 'Mendell St at Fairfax Ave',\n",
       "       'Santa Clara St at Almaden Blvd', 'College Ave at Bryant Ave',\n",
       "       'Foothill Blvd at Fruitvale Ave', 'Palm St at Willow St',\n",
       "       'Saint James Park', 'Williams Ave at 3rd St',\n",
       "       'Market St at Park St', 'Almaden Blvd at Balbach St',\n",
       "       'Almaden Blvd at San Fernando St', 'Foothill Blvd at 42nd Ave',\n",
       "       'Fruitvale BART Station', 'MacArthur Blvd at Telegraph Ave',\n",
       "       'Williams Ave at Apollo St', 'Mission St at 1st St',\n",
       "       'San Pedro St at Hedding St', 'Oak St at 1st St',\n",
       "       'Farnam St at Fruitvale Ave', '26th Ave at International Blvd',\n",
       "       '16th St Depot', '21st Ave at International Blvd',\n",
       "       'Willow St at Vine St', '2nd St at Folsom St'], dtype=object)"
      ]
     },
     "execution_count": 13,
     "metadata": {},
     "output_type": "execute_result"
    }
   ],
   "source": [
    "df['end_station_name'].unique()"
   ]
  },
  {
   "cell_type": "code",
   "execution_count": 14,
   "id": "2a8c25cf",
   "metadata": {
    "slideshow": {
     "slide_type": "skip"
    }
   },
   "outputs": [
    {
     "data": {
      "text/plain": [
       "2"
      ]
     },
     "execution_count": 14,
     "metadata": {},
     "output_type": "execute_result"
    }
   ],
   "source": [
    "df['user_type'].nunique()"
   ]
  },
  {
   "cell_type": "code",
   "execution_count": 15,
   "id": "1527832b",
   "metadata": {
    "slideshow": {
     "slide_type": "skip"
    }
   },
   "outputs": [
    {
     "data": {
      "text/plain": [
       "array(['Customer', 'Subscriber'], dtype=object)"
      ]
     },
     "execution_count": 15,
     "metadata": {},
     "output_type": "execute_result"
    }
   ],
   "source": [
    "df['user_type'].unique()"
   ]
  },
  {
   "cell_type": "markdown",
   "id": "6db4ab9f",
   "metadata": {
    "slideshow": {
     "slide_type": "skip"
    }
   },
   "source": [
    "Brief summary of assessment done\n",
    "\n",
    "- The dataset has 183412 rows and 16 columns\n",
    "- Since the time column is in the wrong datatype, it will be changed to datetime\n",
    "- Null values will be fixed\n",
    "- There are no duplicates in the dataset\n",
    "- There are 329 stations used in the dataset\n",
    "\n",
    "\n",
    "## Cleaning"
   ]
  },
  {
   "cell_type": "code",
   "execution_count": 16,
   "id": "004aa2cf",
   "metadata": {
    "slideshow": {
     "slide_type": "skip"
    }
   },
   "outputs": [],
   "source": [
    "#change start and end time to datetime \n",
    "df['start_time'] = pd.to_datetime(df.start_time)\n",
    "df['end_time'] = pd.to_datetime(df.end_time)\n",
    "df['member_birth_year'] = pd.to_datetime(df.member_birth_year)"
   ]
  },
  {
   "cell_type": "code",
   "execution_count": 17,
   "id": "93edd897",
   "metadata": {
    "slideshow": {
     "slide_type": "skip"
    }
   },
   "outputs": [
    {
     "data": {
      "text/plain": [
       "duration_sec                        int64\n",
       "start_time                 datetime64[ns]\n",
       "end_time                   datetime64[ns]\n",
       "start_station_id                  float64\n",
       "start_station_name                 object\n",
       "start_station_latitude            float64\n",
       "start_station_longitude           float64\n",
       "end_station_id                    float64\n",
       "end_station_name                   object\n",
       "end_station_latitude              float64\n",
       "end_station_longitude             float64\n",
       "bike_id                             int64\n",
       "user_type                          object\n",
       "member_birth_year          datetime64[ns]\n",
       "member_gender                      object\n",
       "bike_share_for_all_trip            object\n",
       "dtype: object"
      ]
     },
     "execution_count": 17,
     "metadata": {},
     "output_type": "execute_result"
    }
   ],
   "source": [
    "#check for change\n",
    "df.dtypes"
   ]
  },
  {
   "cell_type": "code",
   "execution_count": 18,
   "id": "e0fcb4a1",
   "metadata": {
    "slideshow": {
     "slide_type": "skip"
    }
   },
   "outputs": [],
   "source": [
    "#change bike id to string\n",
    "df['bike_id'] = df['bike_id'].astype('object')"
   ]
  },
  {
   "cell_type": "code",
   "execution_count": 19,
   "id": "2f59e939",
   "metadata": {
    "slideshow": {
     "slide_type": "skip"
    }
   },
   "outputs": [
    {
     "data": {
      "text/plain": [
       "duration_sec                        int64\n",
       "start_time                 datetime64[ns]\n",
       "end_time                   datetime64[ns]\n",
       "start_station_id                  float64\n",
       "start_station_name                 object\n",
       "start_station_latitude            float64\n",
       "start_station_longitude           float64\n",
       "end_station_id                    float64\n",
       "end_station_name                   object\n",
       "end_station_latitude              float64\n",
       "end_station_longitude             float64\n",
       "bike_id                            object\n",
       "user_type                          object\n",
       "member_birth_year          datetime64[ns]\n",
       "member_gender                      object\n",
       "bike_share_for_all_trip            object\n",
       "dtype: object"
      ]
     },
     "execution_count": 19,
     "metadata": {},
     "output_type": "execute_result"
    }
   ],
   "source": [
    "df.dtypes"
   ]
  },
  {
   "cell_type": "code",
   "execution_count": 20,
   "id": "6a82ed20",
   "metadata": {
    "slideshow": {
     "slide_type": "skip"
    }
   },
   "outputs": [
    {
     "data": {
      "text/plain": [
       "array(['No', 'Yes'], dtype=object)"
      ]
     },
     "execution_count": 20,
     "metadata": {},
     "output_type": "execute_result"
    }
   ],
   "source": [
    "#check bike share for all trips unique values\n",
    "df['bike_share_for_all_trip'].unique()"
   ]
  },
  {
   "cell_type": "code",
   "execution_count": 21,
   "id": "77ace601",
   "metadata": {
    "slideshow": {
     "slide_type": "skip"
    }
   },
   "outputs": [],
   "source": [
    "#drop columns not needed\n",
    "df = df[['start_time', 'end_time', 'duration_sec', 'start_station_name', 'end_station_name', 'bike_id', 'user_type', 'member_gender', 'member_birth_year', 'bike_share_for_all_trip']]"
   ]
  },
  {
   "cell_type": "code",
   "execution_count": 22,
   "id": "278a9be3",
   "metadata": {
    "slideshow": {
     "slide_type": "skip"
    }
   },
   "outputs": [
    {
     "data": {
      "text/html": [
       "<div>\n",
       "<style scoped>\n",
       "    .dataframe tbody tr th:only-of-type {\n",
       "        vertical-align: middle;\n",
       "    }\n",
       "\n",
       "    .dataframe tbody tr th {\n",
       "        vertical-align: top;\n",
       "    }\n",
       "\n",
       "    .dataframe thead th {\n",
       "        text-align: right;\n",
       "    }\n",
       "</style>\n",
       "<table border=\"1\" class=\"dataframe\">\n",
       "  <thead>\n",
       "    <tr style=\"text-align: right;\">\n",
       "      <th></th>\n",
       "      <th>start_time</th>\n",
       "      <th>end_time</th>\n",
       "      <th>duration_sec</th>\n",
       "      <th>start_station_name</th>\n",
       "      <th>end_station_name</th>\n",
       "      <th>bike_id</th>\n",
       "      <th>user_type</th>\n",
       "      <th>member_gender</th>\n",
       "      <th>member_birth_year</th>\n",
       "      <th>bike_share_for_all_trip</th>\n",
       "    </tr>\n",
       "  </thead>\n",
       "  <tbody>\n",
       "    <tr>\n",
       "      <th>0</th>\n",
       "      <td>2019-02-28 17:32:10.145</td>\n",
       "      <td>2019-03-01 08:01:55.975</td>\n",
       "      <td>52185</td>\n",
       "      <td>Montgomery St BART Station (Market St at 2nd St)</td>\n",
       "      <td>Commercial St at Montgomery St</td>\n",
       "      <td>4902</td>\n",
       "      <td>Customer</td>\n",
       "      <td>Male</td>\n",
       "      <td>1970-01-01 00:00:00.000001984</td>\n",
       "      <td>No</td>\n",
       "    </tr>\n",
       "    <tr>\n",
       "      <th>1</th>\n",
       "      <td>2019-02-28 18:53:21.789</td>\n",
       "      <td>2019-03-01 06:42:03.056</td>\n",
       "      <td>42521</td>\n",
       "      <td>The Embarcadero at Steuart St</td>\n",
       "      <td>Berry St at 4th St</td>\n",
       "      <td>2535</td>\n",
       "      <td>Customer</td>\n",
       "      <td>NaN</td>\n",
       "      <td>NaT</td>\n",
       "      <td>No</td>\n",
       "    </tr>\n",
       "    <tr>\n",
       "      <th>2</th>\n",
       "      <td>2019-02-28 12:13:13.218</td>\n",
       "      <td>2019-03-01 05:24:08.146</td>\n",
       "      <td>61854</td>\n",
       "      <td>Market St at Dolores St</td>\n",
       "      <td>Powell St BART Station (Market St at 4th St)</td>\n",
       "      <td>5905</td>\n",
       "      <td>Customer</td>\n",
       "      <td>Male</td>\n",
       "      <td>1970-01-01 00:00:00.000001972</td>\n",
       "      <td>No</td>\n",
       "    </tr>\n",
       "    <tr>\n",
       "      <th>3</th>\n",
       "      <td>2019-02-28 17:54:26.010</td>\n",
       "      <td>2019-03-01 04:02:36.842</td>\n",
       "      <td>36490</td>\n",
       "      <td>Grove St at Masonic Ave</td>\n",
       "      <td>Central Ave at Fell St</td>\n",
       "      <td>6638</td>\n",
       "      <td>Subscriber</td>\n",
       "      <td>Other</td>\n",
       "      <td>1970-01-01 00:00:00.000001989</td>\n",
       "      <td>No</td>\n",
       "    </tr>\n",
       "    <tr>\n",
       "      <th>4</th>\n",
       "      <td>2019-02-28 23:54:18.549</td>\n",
       "      <td>2019-03-01 00:20:44.074</td>\n",
       "      <td>1585</td>\n",
       "      <td>Frank H Ogawa Plaza</td>\n",
       "      <td>10th Ave at E 15th St</td>\n",
       "      <td>4898</td>\n",
       "      <td>Subscriber</td>\n",
       "      <td>Male</td>\n",
       "      <td>1970-01-01 00:00:00.000001974</td>\n",
       "      <td>Yes</td>\n",
       "    </tr>\n",
       "  </tbody>\n",
       "</table>\n",
       "</div>"
      ],
      "text/plain": [
       "               start_time                end_time  duration_sec  \\\n",
       "0 2019-02-28 17:32:10.145 2019-03-01 08:01:55.975         52185   \n",
       "1 2019-02-28 18:53:21.789 2019-03-01 06:42:03.056         42521   \n",
       "2 2019-02-28 12:13:13.218 2019-03-01 05:24:08.146         61854   \n",
       "3 2019-02-28 17:54:26.010 2019-03-01 04:02:36.842         36490   \n",
       "4 2019-02-28 23:54:18.549 2019-03-01 00:20:44.074          1585   \n",
       "\n",
       "                                 start_station_name  \\\n",
       "0  Montgomery St BART Station (Market St at 2nd St)   \n",
       "1                     The Embarcadero at Steuart St   \n",
       "2                           Market St at Dolores St   \n",
       "3                           Grove St at Masonic Ave   \n",
       "4                               Frank H Ogawa Plaza   \n",
       "\n",
       "                               end_station_name bike_id   user_type  \\\n",
       "0                Commercial St at Montgomery St    4902    Customer   \n",
       "1                            Berry St at 4th St    2535    Customer   \n",
       "2  Powell St BART Station (Market St at 4th St)    5905    Customer   \n",
       "3                        Central Ave at Fell St    6638  Subscriber   \n",
       "4                         10th Ave at E 15th St    4898  Subscriber   \n",
       "\n",
       "  member_gender             member_birth_year bike_share_for_all_trip  \n",
       "0          Male 1970-01-01 00:00:00.000001984                      No  \n",
       "1           NaN                           NaT                      No  \n",
       "2          Male 1970-01-01 00:00:00.000001972                      No  \n",
       "3         Other 1970-01-01 00:00:00.000001989                      No  \n",
       "4          Male 1970-01-01 00:00:00.000001974                     Yes  "
      ]
     },
     "execution_count": 22,
     "metadata": {},
     "output_type": "execute_result"
    }
   ],
   "source": [
    "#view\n",
    "df.head()"
   ]
  },
  {
   "cell_type": "code",
   "execution_count": 23,
   "id": "b3e22c49",
   "metadata": {
    "slideshow": {
     "slide_type": "skip"
    }
   },
   "outputs": [],
   "source": [
    "#extract the days of the week, hours, and month from start and end time\n",
    "df['start_weekday'] = df['start_time'].dt.weekday\n",
    "df['start_date'] = df['start_time'].dt.day\n",
    "df['start_hour'] = df['start_time'].dt.hour"
   ]
  },
  {
   "cell_type": "code",
   "execution_count": 24,
   "id": "2634357e",
   "metadata": {
    "slideshow": {
     "slide_type": "skip"
    }
   },
   "outputs": [],
   "source": [
    "#extract for end time: hour\n",
    "df['end_hour'] = df['end_time'].dt.hour"
   ]
  },
  {
   "cell_type": "code",
   "execution_count": 25,
   "id": "6b5fdba0",
   "metadata": {
    "slideshow": {
     "slide_type": "skip"
    }
   },
   "outputs": [
    {
     "data": {
      "text/html": [
       "<div>\n",
       "<style scoped>\n",
       "    .dataframe tbody tr th:only-of-type {\n",
       "        vertical-align: middle;\n",
       "    }\n",
       "\n",
       "    .dataframe tbody tr th {\n",
       "        vertical-align: top;\n",
       "    }\n",
       "\n",
       "    .dataframe thead th {\n",
       "        text-align: right;\n",
       "    }\n",
       "</style>\n",
       "<table border=\"1\" class=\"dataframe\">\n",
       "  <thead>\n",
       "    <tr style=\"text-align: right;\">\n",
       "      <th></th>\n",
       "      <th>start_time</th>\n",
       "      <th>end_time</th>\n",
       "      <th>duration_sec</th>\n",
       "      <th>start_station_name</th>\n",
       "      <th>end_station_name</th>\n",
       "      <th>bike_id</th>\n",
       "      <th>user_type</th>\n",
       "      <th>member_gender</th>\n",
       "      <th>member_birth_year</th>\n",
       "      <th>bike_share_for_all_trip</th>\n",
       "      <th>start_weekday</th>\n",
       "      <th>start_date</th>\n",
       "      <th>start_hour</th>\n",
       "      <th>end_hour</th>\n",
       "    </tr>\n",
       "  </thead>\n",
       "  <tbody>\n",
       "    <tr>\n",
       "      <th>0</th>\n",
       "      <td>2019-02-28 17:32:10.145</td>\n",
       "      <td>2019-03-01 08:01:55.975</td>\n",
       "      <td>52185</td>\n",
       "      <td>Montgomery St BART Station (Market St at 2nd St)</td>\n",
       "      <td>Commercial St at Montgomery St</td>\n",
       "      <td>4902</td>\n",
       "      <td>Customer</td>\n",
       "      <td>Male</td>\n",
       "      <td>1970-01-01 00:00:00.000001984</td>\n",
       "      <td>No</td>\n",
       "      <td>3</td>\n",
       "      <td>28</td>\n",
       "      <td>17</td>\n",
       "      <td>8</td>\n",
       "    </tr>\n",
       "    <tr>\n",
       "      <th>1</th>\n",
       "      <td>2019-02-28 18:53:21.789</td>\n",
       "      <td>2019-03-01 06:42:03.056</td>\n",
       "      <td>42521</td>\n",
       "      <td>The Embarcadero at Steuart St</td>\n",
       "      <td>Berry St at 4th St</td>\n",
       "      <td>2535</td>\n",
       "      <td>Customer</td>\n",
       "      <td>NaN</td>\n",
       "      <td>NaT</td>\n",
       "      <td>No</td>\n",
       "      <td>3</td>\n",
       "      <td>28</td>\n",
       "      <td>18</td>\n",
       "      <td>6</td>\n",
       "    </tr>\n",
       "    <tr>\n",
       "      <th>2</th>\n",
       "      <td>2019-02-28 12:13:13.218</td>\n",
       "      <td>2019-03-01 05:24:08.146</td>\n",
       "      <td>61854</td>\n",
       "      <td>Market St at Dolores St</td>\n",
       "      <td>Powell St BART Station (Market St at 4th St)</td>\n",
       "      <td>5905</td>\n",
       "      <td>Customer</td>\n",
       "      <td>Male</td>\n",
       "      <td>1970-01-01 00:00:00.000001972</td>\n",
       "      <td>No</td>\n",
       "      <td>3</td>\n",
       "      <td>28</td>\n",
       "      <td>12</td>\n",
       "      <td>5</td>\n",
       "    </tr>\n",
       "    <tr>\n",
       "      <th>3</th>\n",
       "      <td>2019-02-28 17:54:26.010</td>\n",
       "      <td>2019-03-01 04:02:36.842</td>\n",
       "      <td>36490</td>\n",
       "      <td>Grove St at Masonic Ave</td>\n",
       "      <td>Central Ave at Fell St</td>\n",
       "      <td>6638</td>\n",
       "      <td>Subscriber</td>\n",
       "      <td>Other</td>\n",
       "      <td>1970-01-01 00:00:00.000001989</td>\n",
       "      <td>No</td>\n",
       "      <td>3</td>\n",
       "      <td>28</td>\n",
       "      <td>17</td>\n",
       "      <td>4</td>\n",
       "    </tr>\n",
       "    <tr>\n",
       "      <th>4</th>\n",
       "      <td>2019-02-28 23:54:18.549</td>\n",
       "      <td>2019-03-01 00:20:44.074</td>\n",
       "      <td>1585</td>\n",
       "      <td>Frank H Ogawa Plaza</td>\n",
       "      <td>10th Ave at E 15th St</td>\n",
       "      <td>4898</td>\n",
       "      <td>Subscriber</td>\n",
       "      <td>Male</td>\n",
       "      <td>1970-01-01 00:00:00.000001974</td>\n",
       "      <td>Yes</td>\n",
       "      <td>3</td>\n",
       "      <td>28</td>\n",
       "      <td>23</td>\n",
       "      <td>0</td>\n",
       "    </tr>\n",
       "  </tbody>\n",
       "</table>\n",
       "</div>"
      ],
      "text/plain": [
       "               start_time                end_time  duration_sec  \\\n",
       "0 2019-02-28 17:32:10.145 2019-03-01 08:01:55.975         52185   \n",
       "1 2019-02-28 18:53:21.789 2019-03-01 06:42:03.056         42521   \n",
       "2 2019-02-28 12:13:13.218 2019-03-01 05:24:08.146         61854   \n",
       "3 2019-02-28 17:54:26.010 2019-03-01 04:02:36.842         36490   \n",
       "4 2019-02-28 23:54:18.549 2019-03-01 00:20:44.074          1585   \n",
       "\n",
       "                                 start_station_name  \\\n",
       "0  Montgomery St BART Station (Market St at 2nd St)   \n",
       "1                     The Embarcadero at Steuart St   \n",
       "2                           Market St at Dolores St   \n",
       "3                           Grove St at Masonic Ave   \n",
       "4                               Frank H Ogawa Plaza   \n",
       "\n",
       "                               end_station_name bike_id   user_type  \\\n",
       "0                Commercial St at Montgomery St    4902    Customer   \n",
       "1                            Berry St at 4th St    2535    Customer   \n",
       "2  Powell St BART Station (Market St at 4th St)    5905    Customer   \n",
       "3                        Central Ave at Fell St    6638  Subscriber   \n",
       "4                         10th Ave at E 15th St    4898  Subscriber   \n",
       "\n",
       "  member_gender             member_birth_year bike_share_for_all_trip  \\\n",
       "0          Male 1970-01-01 00:00:00.000001984                      No   \n",
       "1           NaN                           NaT                      No   \n",
       "2          Male 1970-01-01 00:00:00.000001972                      No   \n",
       "3         Other 1970-01-01 00:00:00.000001989                      No   \n",
       "4          Male 1970-01-01 00:00:00.000001974                     Yes   \n",
       "\n",
       "   start_weekday  start_date  start_hour  end_hour  \n",
       "0              3          28          17         8  \n",
       "1              3          28          18         6  \n",
       "2              3          28          12         5  \n",
       "3              3          28          17         4  \n",
       "4              3          28          23         0  "
      ]
     },
     "execution_count": 25,
     "metadata": {},
     "output_type": "execute_result"
    }
   ],
   "source": [
    "df.head()"
   ]
  },
  {
   "cell_type": "code",
   "execution_count": 26,
   "id": "fb304ce2",
   "metadata": {
    "slideshow": {
     "slide_type": "skip"
    }
   },
   "outputs": [
    {
     "data": {
      "text/plain": [
       "start_time                    0\n",
       "end_time                      0\n",
       "duration_sec                  0\n",
       "start_station_name          197\n",
       "end_station_name            197\n",
       "bike_id                       0\n",
       "user_type                     0\n",
       "member_gender              8265\n",
       "member_birth_year          8265\n",
       "bike_share_for_all_trip       0\n",
       "start_weekday                 0\n",
       "start_date                    0\n",
       "start_hour                    0\n",
       "end_hour                      0\n",
       "dtype: int64"
      ]
     },
     "execution_count": 26,
     "metadata": {},
     "output_type": "execute_result"
    }
   ],
   "source": [
    "#check for null values and drop null values\n",
    "df.isna().sum()"
   ]
  },
  {
   "cell_type": "code",
   "execution_count": 27,
   "id": "4641620a",
   "metadata": {
    "slideshow": {
     "slide_type": "skip"
    }
   },
   "outputs": [],
   "source": [
    "df.dropna(inplace=True)"
   ]
  },
  {
   "cell_type": "code",
   "execution_count": 28,
   "id": "1a4a2ae7",
   "metadata": {
    "slideshow": {
     "slide_type": "skip"
    }
   },
   "outputs": [
    {
     "data": {
      "text/plain": [
       "start_time                 0\n",
       "end_time                   0\n",
       "duration_sec               0\n",
       "start_station_name         0\n",
       "end_station_name           0\n",
       "bike_id                    0\n",
       "user_type                  0\n",
       "member_gender              0\n",
       "member_birth_year          0\n",
       "bike_share_for_all_trip    0\n",
       "start_weekday              0\n",
       "start_date                 0\n",
       "start_hour                 0\n",
       "end_hour                   0\n",
       "dtype: int64"
      ]
     },
     "execution_count": 28,
     "metadata": {},
     "output_type": "execute_result"
    }
   ],
   "source": [
    "#view change\n",
    "df.isna().sum()"
   ]
  },
  {
   "cell_type": "markdown",
   "id": "865912fe",
   "metadata": {
    "slideshow": {
     "slide_type": "slide"
    }
   },
   "source": [
    "### What is the structure of the dataset\n",
    "> The dataset has 183412 rows and 16 columns, with both numerical and categorical features.\n",
    "    > The categorical columns have the following labels\n",
    "        > User type - Subscriber and Customer\n",
    "        > Member Gender - Male, Female and Other\n",
    "        > Bike Share - Yes or No\n",
    "\n",
    "\n",
    "\n",
    "### What is/are the main feature(s) of interest in your dataset?\n",
    "> The time feature, to see how time affects other features\n",
    "\n",
    "\n",
    "\n",
    "### What features in the dataset do you think will help support your investigation into your feature(s) of interest?\n",
    "> 1. The End time column to determine the duration of bike rental\n",
    "> 2. Start and End Station names to know which stations have the most activity\n",
    "> 3. Bike id to know the most used bikes and time used\n",
    "> 4. User Type to know which type of users rent bikes the most\n",
    "> 5. Member Gender to know the gender that use bikes often\n",
    "> 6. Bike share for all trip"
   ]
  },
  {
   "cell_type": "markdown",
   "id": "d7e56bcb",
   "metadata": {
    "slideshow": {
     "slide_type": "slide"
    }
   },
   "source": [
    "## Univariate Exploration"
   ]
  },
  {
   "cell_type": "markdown",
   "id": "166f54a2",
   "metadata": {
    "slideshow": {
     "slide_type": "slide"
    }
   },
   "source": [
    "Check the frequency and count of some variables to see the activity\n",
    "\n",
    "First, i will start with weekday\n",
    "\n",
    "#### What day of the week had the most rental in 2019?"
   ]
  },
  {
   "cell_type": "code",
   "execution_count": 29,
   "id": "51f01c2d",
   "metadata": {
    "slideshow": {
     "slide_type": "skip"
    }
   },
   "outputs": [
    {
     "data": {
      "text/html": [
       "<div>\n",
       "<style scoped>\n",
       "    .dataframe tbody tr th:only-of-type {\n",
       "        vertical-align: middle;\n",
       "    }\n",
       "\n",
       "    .dataframe tbody tr th {\n",
       "        vertical-align: top;\n",
       "    }\n",
       "\n",
       "    .dataframe thead th {\n",
       "        text-align: right;\n",
       "    }\n",
       "</style>\n",
       "<table border=\"1\" class=\"dataframe\">\n",
       "  <thead>\n",
       "    <tr style=\"text-align: right;\">\n",
       "      <th></th>\n",
       "      <th>start_time</th>\n",
       "      <th>end_time</th>\n",
       "      <th>duration_sec</th>\n",
       "      <th>start_station_name</th>\n",
       "      <th>end_station_name</th>\n",
       "      <th>bike_id</th>\n",
       "      <th>user_type</th>\n",
       "      <th>member_gender</th>\n",
       "      <th>member_birth_year</th>\n",
       "      <th>bike_share_for_all_trip</th>\n",
       "      <th>start_weekday</th>\n",
       "      <th>start_date</th>\n",
       "      <th>start_hour</th>\n",
       "      <th>end_hour</th>\n",
       "    </tr>\n",
       "  </thead>\n",
       "  <tbody>\n",
       "    <tr>\n",
       "      <th>0</th>\n",
       "      <td>2019-02-28 17:32:10.145</td>\n",
       "      <td>2019-03-01 08:01:55.975</td>\n",
       "      <td>52185</td>\n",
       "      <td>Montgomery St BART Station (Market St at 2nd St)</td>\n",
       "      <td>Commercial St at Montgomery St</td>\n",
       "      <td>4902</td>\n",
       "      <td>Customer</td>\n",
       "      <td>Male</td>\n",
       "      <td>1970-01-01 00:00:00.000001984</td>\n",
       "      <td>No</td>\n",
       "      <td>3</td>\n",
       "      <td>28</td>\n",
       "      <td>17</td>\n",
       "      <td>8</td>\n",
       "    </tr>\n",
       "    <tr>\n",
       "      <th>2</th>\n",
       "      <td>2019-02-28 12:13:13.218</td>\n",
       "      <td>2019-03-01 05:24:08.146</td>\n",
       "      <td>61854</td>\n",
       "      <td>Market St at Dolores St</td>\n",
       "      <td>Powell St BART Station (Market St at 4th St)</td>\n",
       "      <td>5905</td>\n",
       "      <td>Customer</td>\n",
       "      <td>Male</td>\n",
       "      <td>1970-01-01 00:00:00.000001972</td>\n",
       "      <td>No</td>\n",
       "      <td>3</td>\n",
       "      <td>28</td>\n",
       "      <td>12</td>\n",
       "      <td>5</td>\n",
       "    </tr>\n",
       "    <tr>\n",
       "      <th>3</th>\n",
       "      <td>2019-02-28 17:54:26.010</td>\n",
       "      <td>2019-03-01 04:02:36.842</td>\n",
       "      <td>36490</td>\n",
       "      <td>Grove St at Masonic Ave</td>\n",
       "      <td>Central Ave at Fell St</td>\n",
       "      <td>6638</td>\n",
       "      <td>Subscriber</td>\n",
       "      <td>Other</td>\n",
       "      <td>1970-01-01 00:00:00.000001989</td>\n",
       "      <td>No</td>\n",
       "      <td>3</td>\n",
       "      <td>28</td>\n",
       "      <td>17</td>\n",
       "      <td>4</td>\n",
       "    </tr>\n",
       "    <tr>\n",
       "      <th>4</th>\n",
       "      <td>2019-02-28 23:54:18.549</td>\n",
       "      <td>2019-03-01 00:20:44.074</td>\n",
       "      <td>1585</td>\n",
       "      <td>Frank H Ogawa Plaza</td>\n",
       "      <td>10th Ave at E 15th St</td>\n",
       "      <td>4898</td>\n",
       "      <td>Subscriber</td>\n",
       "      <td>Male</td>\n",
       "      <td>1970-01-01 00:00:00.000001974</td>\n",
       "      <td>Yes</td>\n",
       "      <td>3</td>\n",
       "      <td>28</td>\n",
       "      <td>23</td>\n",
       "      <td>0</td>\n",
       "    </tr>\n",
       "    <tr>\n",
       "      <th>5</th>\n",
       "      <td>2019-02-28 23:49:58.632</td>\n",
       "      <td>2019-03-01 00:19:51.760</td>\n",
       "      <td>1793</td>\n",
       "      <td>4th St at Mission Bay Blvd S</td>\n",
       "      <td>Broadway at Kearny</td>\n",
       "      <td>5200</td>\n",
       "      <td>Subscriber</td>\n",
       "      <td>Male</td>\n",
       "      <td>1970-01-01 00:00:00.000001959</td>\n",
       "      <td>No</td>\n",
       "      <td>3</td>\n",
       "      <td>28</td>\n",
       "      <td>23</td>\n",
       "      <td>0</td>\n",
       "    </tr>\n",
       "  </tbody>\n",
       "</table>\n",
       "</div>"
      ],
      "text/plain": [
       "               start_time                end_time  duration_sec  \\\n",
       "0 2019-02-28 17:32:10.145 2019-03-01 08:01:55.975         52185   \n",
       "2 2019-02-28 12:13:13.218 2019-03-01 05:24:08.146         61854   \n",
       "3 2019-02-28 17:54:26.010 2019-03-01 04:02:36.842         36490   \n",
       "4 2019-02-28 23:54:18.549 2019-03-01 00:20:44.074          1585   \n",
       "5 2019-02-28 23:49:58.632 2019-03-01 00:19:51.760          1793   \n",
       "\n",
       "                                 start_station_name  \\\n",
       "0  Montgomery St BART Station (Market St at 2nd St)   \n",
       "2                           Market St at Dolores St   \n",
       "3                           Grove St at Masonic Ave   \n",
       "4                               Frank H Ogawa Plaza   \n",
       "5                      4th St at Mission Bay Blvd S   \n",
       "\n",
       "                               end_station_name bike_id   user_type  \\\n",
       "0                Commercial St at Montgomery St    4902    Customer   \n",
       "2  Powell St BART Station (Market St at 4th St)    5905    Customer   \n",
       "3                        Central Ave at Fell St    6638  Subscriber   \n",
       "4                         10th Ave at E 15th St    4898  Subscriber   \n",
       "5                            Broadway at Kearny    5200  Subscriber   \n",
       "\n",
       "  member_gender             member_birth_year bike_share_for_all_trip  \\\n",
       "0          Male 1970-01-01 00:00:00.000001984                      No   \n",
       "2          Male 1970-01-01 00:00:00.000001972                      No   \n",
       "3         Other 1970-01-01 00:00:00.000001989                      No   \n",
       "4          Male 1970-01-01 00:00:00.000001974                     Yes   \n",
       "5          Male 1970-01-01 00:00:00.000001959                      No   \n",
       "\n",
       "   start_weekday  start_date  start_hour  end_hour  \n",
       "0              3          28          17         8  \n",
       "2              3          28          12         5  \n",
       "3              3          28          17         4  \n",
       "4              3          28          23         0  \n",
       "5              3          28          23         0  "
      ]
     },
     "execution_count": 29,
     "metadata": {},
     "output_type": "execute_result"
    }
   ],
   "source": [
    "#make a copy of the cleaned datset\n",
    "df_new = df.copy()\n",
    "df_new.head()"
   ]
  },
  {
   "cell_type": "code",
   "execution_count": 30,
   "id": "02a213c0",
   "metadata": {
    "slideshow": {
     "slide_type": "subslide"
    }
   },
   "outputs": [
    {
     "data": {
      "image/png": "[encoded data removed]",
      "text/plain": [
       "<Figure size 864x576 with 1 Axes>"
      ]
     },
     "metadata": {
      "needs_background": "light"
     },
     "output_type": "display_data"
    }
   ],
   "source": [
    "#Use bar plot to view the frequency of weekdays\n",
    "df_new.start_weekday.value_counts().plot(kind='bar', figsize=(12, 8))\n",
    "plt.title('Frequency of Weekdays')\n",
    "plt.xlabel('Days of the Week')\n",
    "plt.ylabel('Count');"
   ]
  },
  {
   "cell_type": "code",
   "execution_count": 31,
   "id": "08f6337c",
   "metadata": {
    "slideshow": {
     "slide_type": "skip"
    }
   },
   "outputs": [
    {
     "data": {
      "text/plain": [
       "3    33712\n",
       "1    30584\n",
       "2    28426\n",
       "4    27663\n",
       "0    25641\n",
       "6    14512\n",
       "5    14414\n",
       "Name: start_weekday, dtype: int64"
      ]
     },
     "execution_count": 31,
     "metadata": {},
     "output_type": "execute_result"
    }
   ],
   "source": [
    "#check the weekdays value count\n",
    "df_new.start_weekday.value_counts()"
   ]
  },
  {
   "cell_type": "markdown",
   "id": "cac8c6fb",
   "metadata": {
    "slideshow": {
     "slide_type": "subslide"
    }
   },
   "source": [
    "Monday starts from 0, according to the plot the day of the week that had the most rentals is Thursday(3) with a count of 33712. The next top 2 days were Tuesday and Wednesday. \n",
    "\n",
    "Saturday had the least amount of rentals in February, 2019.\n",
    "\n",
    "\n",
    "\n",
    "\n",
    "\n"
   ]
  },
  {
   "cell_type": "markdown",
   "id": "abf48e81",
   "metadata": {
    "slideshow": {
     "slide_type": "slide"
    }
   },
   "source": [
    "#### What day in February had the highest rental rate?\n",
    "Find out the day in the month of February experinced the highest amount of activity"
   ]
  },
  {
   "cell_type": "code",
   "execution_count": 32,
   "id": "c23f240a",
   "metadata": {
    "slideshow": {
     "slide_type": "subslide"
    }
   },
   "outputs": [
    {
     "data": {
      "image/png": "[encoded data removed]",
      "text/plain": [
       "<Figure size 864x576 with 1 Axes>"
      ]
     },
     "metadata": {
      "needs_background": "light"
     },
     "output_type": "display_data"
    }
   ],
   "source": [
    "#Use bar plot to view the frequency of days in February\n",
    "df_new.start_date.value_counts().head().plot(kind='bar', figsize=(12, 8))\n",
    "plt.title('Frequency of Days in February')\n",
    "plt.xlabel('Days')\n",
    "plt.ylabel('Count');"
   ]
  },
  {
   "cell_type": "code",
   "execution_count": 33,
   "id": "8755b2ae",
   "metadata": {
    "slideshow": {
     "slide_type": "skip"
    }
   },
   "outputs": [
    {
     "data": {
      "text/plain": [
       "28    9448\n",
       "20    9246\n",
       "21    9120\n",
       "19    9096\n",
       "7     8798\n",
       "Name: start_date, dtype: int64"
      ]
     },
     "execution_count": 33,
     "metadata": {},
     "output_type": "execute_result"
    }
   ],
   "source": [
    "#check the days value count\n",
    "df_new.start_date.value_counts().head()"
   ]
  },
  {
   "cell_type": "markdown",
   "id": "ecfda6f1",
   "metadata": {
    "slideshow": {
     "slide_type": "skip"
    }
   },
   "source": [
    "The 28th of February had the highest rental rate. The plot above shows a lot of people rented bikes the most that month, with a count of 9448.\n",
    "\n",
    "\n",
    "\n",
    "### What are the hours of the day with the highest rush?"
   ]
  },
  {
   "cell_type": "code",
   "execution_count": 34,
   "id": "dbc85133",
   "metadata": {
    "slideshow": {
     "slide_type": "skip"
    }
   },
   "outputs": [
    {
     "data": {
      "image/png": "[encoded data removed]",
      "text/plain": [
       "<Figure size 864x576 with 1 Axes>"
      ]
     },
     "metadata": {
      "needs_background": "light"
     },
     "output_type": "display_data"
    }
   ],
   "source": [
    "#use bar plot to get the frequency of when trips start\n",
    "df_new.start_hour.value_counts().plot(kind='bar', figsize=(12, 8))\n",
    "plt.title('Frequency of Trip Rental Start Time')\n",
    "plt.xlabel('Hour Trips Started')\n",
    "plt.ylabel('Number of Trips');"
   ]
  },
  {
   "cell_type": "markdown",
   "id": "190e4baa",
   "metadata": {
    "slideshow": {
     "slide_type": "skip"
    }
   },
   "source": [
    "From the above plot, the hour with the highest rate is at 5PM\n",
    "\n",
    "Morning rush is highest at 8AM then 9AM\n",
    "\n",
    "Evening rush hour is 5PM and 6PM\n",
    "\n",
    "From 12AM - 5AM, order rate is at the lowest point\n",
    "\n",
    "\n",
    "\n",
    "\n"
   ]
  },
  {
   "cell_type": "markdown",
   "id": "08c9ad02",
   "metadata": {
    "slideshow": {
     "slide_type": "skip"
    }
   },
   "source": [
    "### What type of users use the Bikes more?"
   ]
  },
  {
   "cell_type": "code",
   "execution_count": 35,
   "id": "793536d8",
   "metadata": {
    "slideshow": {
     "slide_type": "skip"
    }
   },
   "outputs": [
    {
     "data": {
      "image/png": "[encoded data removed]",
      "text/plain": [
       "<Figure size 864x576 with 1 Axes>"
      ]
     },
     "metadata": {
      "needs_background": "light"
     },
     "output_type": "display_data"
    }
   ],
   "source": [
    "#Use bar plot to view the frequency of user type\n",
    "df_new.user_type.value_counts().plot(kind='bar', figsize=(12, 8))\n",
    "plt.title('Frequency of Different Types of Users')\n",
    "plt.xlabel('Types of Users')\n",
    "plt.ylabel('Count');"
   ]
  },
  {
   "cell_type": "code",
   "execution_count": 36,
   "id": "1b7c023c",
   "metadata": {
    "slideshow": {
     "slide_type": "skip"
    }
   },
   "outputs": [
    {
     "data": {
      "text/plain": [
       "Subscriber    158386\n",
       "Customer       16566\n",
       "Name: user_type, dtype: int64"
      ]
     },
     "execution_count": 36,
     "metadata": {},
     "output_type": "execute_result"
    }
   ],
   "source": [
    "#check the count\n",
    "df_new.user_type.value_counts()"
   ]
  },
  {
   "cell_type": "markdown",
   "id": "d5343c06",
   "metadata": {
    "slideshow": {
     "slide_type": "skip"
    }
   },
   "source": [
    "From the above plot, people that rent bikes more tend to be Subcribers. Non-subscribers have a low count.\n",
    "\n",
    "This implies that customers end up being returning customers and create subscriptions"
   ]
  },
  {
   "cell_type": "markdown",
   "id": "b2f99883",
   "metadata": {
    "slideshow": {
     "slide_type": "skip"
    }
   },
   "source": [
    "### What Gender makes use of Bikes more?"
   ]
  },
  {
   "cell_type": "code",
   "execution_count": 37,
   "id": "f52fda23",
   "metadata": {
    "slideshow": {
     "slide_type": "skip"
    }
   },
   "outputs": [
    {
     "data": {
      "image/png": "[encoded data removed]",
      "text/plain": [
       "<Figure size 864x576 with 1 Axes>"
      ]
     },
     "metadata": {
      "needs_background": "light"
     },
     "output_type": "display_data"
    }
   ],
   "source": [
    "#Use bar plot to view the frequency of genders\n",
    "df_new.member_gender.value_counts().plot(kind='bar', figsize=(12, 8))\n",
    "plt.title('Frequency of Genders')\n",
    "plt.xlabel('Genders Involved')\n",
    "plt.ylabel('Count');"
   ]
  },
  {
   "cell_type": "code",
   "execution_count": 38,
   "id": "9b25a250",
   "metadata": {
    "slideshow": {
     "slide_type": "skip"
    }
   },
   "outputs": [
    {
     "data": {
      "text/plain": [
       "Male      130500\n",
       "Female     40805\n",
       "Other       3647\n",
       "Name: member_gender, dtype: int64"
      ]
     },
     "execution_count": 38,
     "metadata": {},
     "output_type": "execute_result"
    }
   ],
   "source": [
    "#check the value count\n",
    "df_new.member_gender.value_counts()"
   ]
  },
  {
   "cell_type": "markdown",
   "id": "30560a71",
   "metadata": {
    "slideshow": {
     "slide_type": "skip"
    }
   },
   "source": [
    "From the above plot and value count, Males are the most users with a count of over 130k in the month of February. Next are Females with a count of 40 thousand then other genders."
   ]
  },
  {
   "cell_type": "markdown",
   "id": "558c6166",
   "metadata": {
    "slideshow": {
     "slide_type": "skip"
    }
   },
   "source": [
    "### What does the duration distribution look like, and what is the highest trip duration?"
   ]
  },
  {
   "cell_type": "code",
   "execution_count": 39,
   "id": "117d2292",
   "metadata": {
    "slideshow": {
     "slide_type": "skip"
    }
   },
   "outputs": [
    {
     "data": {
      "image/png": "[encoded data removed]",
      "text/plain": [
       "<Figure size 864x576 with 1 Axes>"
      ]
     },
     "metadata": {
      "needs_background": "light"
     },
     "output_type": "display_data"
    }
   ],
   "source": [
    "#Use histogram to determine the duration distribution which is in seconds\n",
    "plt.figure(figsize=(12, 8))\n",
    "plt.hist(data = df_new, x = 'duration_sec')\n",
    "plt.title('Distribution of Trip Durations')\n",
    "plt.xlabel('Duration (sec)')\n",
    "plt.ylabel('Number of Trips');"
   ]
  },
  {
   "cell_type": "markdown",
   "id": "79adbd33",
   "metadata": {
    "slideshow": {
     "slide_type": "skip"
    }
   },
   "source": [
    "From the plot above, it shows there is a tail but it isn't visible, the bin size should be adjusted"
   ]
  },
  {
   "cell_type": "code",
   "execution_count": 40,
   "id": "b0750ec5",
   "metadata": {
    "slideshow": {
     "slide_type": "skip"
    }
   },
   "outputs": [
    {
     "data": {
      "image/png": "[encoded data removed]",
      "text/plain": [
       "<Figure size 864x576 with 1 Axes>"
      ]
     },
     "metadata": {
      "needs_background": "light"
     },
     "output_type": "display_data"
    }
   ],
   "source": [
    "binsize = 500\n",
    "bins = np.arange(0, df_new['duration_sec'].max()+binsize, binsize)\n",
    "\n",
    "plt.figure(figsize=(12, 8))\n",
    "plt.hist(data = df_new, x = 'duration_sec', bins = bins)\n",
    "plt.title('Distribution of Trip Durations')\n",
    "plt.xlabel('Duration (sec)')\n",
    "plt.ylabel('Number of Trips')\n",
    "plt.axis([-500, 10000, 0, 90000])\n",
    "plt.show()"
   ]
  },
  {
   "cell_type": "markdown",
   "id": "274de695",
   "metadata": {
    "slideshow": {
     "slide_type": "skip"
    }
   },
   "source": [
    "There is a long tail in the plot, a log scale will be used"
   ]
  },
  {
   "cell_type": "code",
   "execution_count": 41,
   "id": "76c5eda4",
   "metadata": {
    "slideshow": {
     "slide_type": "skip"
    }
   },
   "outputs": [
    {
     "name": "stderr",
     "output_type": "stream",
     "text": [
      "C:\\Users\\Toyin Alade\\AppData\\Local\\Temp\\ipykernel_11188\\3152124308.py:11: UserWarning: Attempted to set non-positive left xlim on a log-scaled axis.\n",
      "Invalid limit will be ignored.\n",
      "  plt.axis([0, 10000, 0, 15000])\n"
     ]
    },
    {
     "data": {
      "image/png": "[encoded data removed]",
      "text/plain": [
       "<Figure size 864x576 with 1 Axes>"
      ]
     },
     "metadata": {
      "needs_background": "light"
     },
     "output_type": "display_data"
    }
   ],
   "source": [
    "log_binsize = 0.05\n",
    "log_bins = 10 ** np.arange(2.4, np.log10(df_new['duration_sec'].max()) + log_binsize, log_binsize)\n",
    "\n",
    "plt.figure(figsize=(12, 8))\n",
    "plt.hist(data = df_new, x = 'duration_sec', bins = log_bins)\n",
    "plt.title('Distribution of Trip Durations')\n",
    "plt.xlabel('Duration (sec)')\n",
    "plt.ylabel('Number of Trips')\n",
    "plt.xscale('log')\n",
    "plt.xticks([500, 1e3, 2e3, 5e3, 1e4], [500, '1k', '2k', '5k', '10k'])\n",
    "plt.axis([0, 10000, 0, 15000])\n",
    "plt.show();"
   ]
  },
  {
   "cell_type": "markdown",
   "id": "8b94cbcf",
   "metadata": {
    "slideshow": {
     "slide_type": "skip"
    }
   },
   "source": [
    "The trip duration has more concentration for higher duration. Most of the values are less than 2000 seconds. It has a peak around 600 seconds. Trip duration values first increases starting from around 7000 values but then starts to fall and reaches\n",
    "below 2000 values under 2000 sec.\n",
    "\n",
    "The data is skewered to the right"
   ]
  },
  {
   "cell_type": "code",
   "execution_count": 42,
   "id": "f3435689",
   "metadata": {
    "slideshow": {
     "slide_type": "skip"
    }
   },
   "outputs": [
    {
     "data": {
      "text/plain": [
       "84548"
      ]
     },
     "execution_count": 42,
     "metadata": {},
     "output_type": "execute_result"
    }
   ],
   "source": [
    "# highest trip duration\n",
    "df_new.duration_sec.max()"
   ]
  },
  {
   "cell_type": "markdown",
   "id": "293d7e30",
   "metadata": {
    "slideshow": {
     "slide_type": "skip"
    }
   },
   "source": [
    "### What are the top 10 stations bike trips start from?"
   ]
  },
  {
   "cell_type": "code",
   "execution_count": 43,
   "id": "dc741ce5",
   "metadata": {
    "slideshow": {
     "slide_type": "skip"
    }
   },
   "outputs": [
    {
     "data": {
      "image/png": "[encoded data removed]",
      "text/plain": [
       "<Figure size 864x576 with 1 Axes>"
      ]
     },
     "metadata": {
      "needs_background": "light"
     },
     "output_type": "display_data"
    }
   ],
   "source": [
    "#Use bar plot to view the top 10 start stations\n",
    "df_new.start_station_name.value_counts().head(10).plot(kind='barh', figsize=(12, 8))\n",
    "plt.title('Top 10 Start Stations')\n",
    "plt.xlabel('Count')\n",
    "plt.ylabel('Station Names');"
   ]
  },
  {
   "cell_type": "markdown",
   "id": "970024c4",
   "metadata": {
    "slideshow": {
     "slide_type": "skip"
    }
   },
   "source": [
    "From the plot above, Market St at 10th St has the highest count, this is the station that most rides start from."
   ]
  },
  {
   "cell_type": "markdown",
   "id": "556540e1",
   "metadata": {
    "slideshow": {
     "slide_type": "skip"
    }
   },
   "source": [
    "### What are the top 10 stations bike trips stop?"
   ]
  },
  {
   "cell_type": "code",
   "execution_count": 44,
   "id": "c28942ea",
   "metadata": {
    "slideshow": {
     "slide_type": "skip"
    }
   },
   "outputs": [
    {
     "data": {
      "image/png": "[encoded data removed]",
      "text/plain": [
       "<Figure size 864x576 with 1 Axes>"
      ]
     },
     "metadata": {
      "needs_background": "light"
     },
     "output_type": "display_data"
    }
   ],
   "source": [
    "#Use bar plot to view the top 10 end stations\n",
    "df_new.end_station_name.value_counts().head(10).plot(kind='barh', figsize=(12, 8))\n",
    "plt.title('Top 10 End Stations')\n",
    "plt.xlabel('Count')\n",
    "plt.ylabel('Station Names');"
   ]
  },
  {
   "cell_type": "markdown",
   "id": "7b2382c4",
   "metadata": {
    "slideshow": {
     "slide_type": "skip"
    }
   },
   "source": [
    "From the plot above, San Francisco Caltrain station 2 has the highest count, this is the station that most rides end.\n",
    "\n",
    "Market St at 10th St has the second highest count here"
   ]
  },
  {
   "cell_type": "markdown",
   "id": "392c1d02",
   "metadata": {
    "slideshow": {
     "slide_type": "skip"
    }
   },
   "source": [
    "### What amount of the trip was shared?"
   ]
  },
  {
   "cell_type": "code",
   "execution_count": 45,
   "id": "21b5d8fe",
   "metadata": {
    "slideshow": {
     "slide_type": "skip"
    }
   },
   "outputs": [
    {
     "data": {
      "image/png": "[encoded data removed]",
      "text/plain": [
       "<Figure size 864x576 with 1 Axes>"
      ]
     },
     "metadata": {
      "needs_background": "light"
     },
     "output_type": "display_data"
    }
   ],
   "source": [
    "#first, create a bar plot to show the trips that were shared and those that were not\n",
    "df_new.bike_share_for_all_trip.value_counts().plot(kind='bar', figsize=(12, 8))\n",
    "plt.title('Bike Shared and Not Shared')\n",
    "plt.xlabel('Count')\n",
    "plt.ylabel('Bike Share Status');"
   ]
  },
  {
   "cell_type": "markdown",
   "id": "9cd6fc55",
   "metadata": {
    "slideshow": {
     "slide_type": "skip"
    }
   },
   "source": [
    "A large amount of people did not share their bike trip\n",
    "\n",
    "Next, let the count be viewed"
   ]
  },
  {
   "cell_type": "code",
   "execution_count": 46,
   "id": "d5dcbe7b",
   "metadata": {
    "slideshow": {
     "slide_type": "skip"
    }
   },
   "outputs": [
    {
     "data": {
      "text/plain": [
       "No     157606\n",
       "Yes     17346\n",
       "Name: bike_share_for_all_trip, dtype: int64"
      ]
     },
     "execution_count": 46,
     "metadata": {},
     "output_type": "execute_result"
    }
   ],
   "source": [
    "df_new.bike_share_for_all_trip.value_counts()"
   ]
  },
  {
   "cell_type": "markdown",
   "id": "5f39d63b",
   "metadata": {
    "slideshow": {
     "slide_type": "skip"
    }
   },
   "source": [
    "A very high amount of people did not share their bike trips. A total of 157606 did not share while 17346 shared"
   ]
  },
  {
   "cell_type": "markdown",
   "id": "d0ff576b",
   "metadata": {
    "slideshow": {
     "slide_type": "skip"
    }
   },
   "source": [
    "### Discuss the distribution(s) of your variable(s) of interest. Were there any unusual points? Did you need to perform any transformations?\n",
    "\n",
    "> Transformation was done on the duration histogram plot\n",
    "\n",
    "### Of the features you investigated, were there any unusual distributions? Did you perform any operations on the data to tidy, adjust, or change the form of the data? If so, why did you do this?\n",
    "\n",
    "> Logarithimic scaling was done to get a deeper analysis on the duration data"
   ]
  },
  {
   "cell_type": "markdown",
   "id": "5475a022",
   "metadata": {
    "slideshow": {
     "slide_type": "slide"
    }
   },
   "source": [
    "## Bivariate Exploration"
   ]
  },
  {
   "cell_type": "code",
   "execution_count": 47,
   "id": "5b5f2a73",
   "metadata": {
    "slideshow": {
     "slide_type": "skip"
    }
   },
   "outputs": [
    {
     "data": {
      "text/html": [
       "<div>\n",
       "<style scoped>\n",
       "    .dataframe tbody tr th:only-of-type {\n",
       "        vertical-align: middle;\n",
       "    }\n",
       "\n",
       "    .dataframe tbody tr th {\n",
       "        vertical-align: top;\n",
       "    }\n",
       "\n",
       "    .dataframe thead th {\n",
       "        text-align: right;\n",
       "    }\n",
       "</style>\n",
       "<table border=\"1\" class=\"dataframe\">\n",
       "  <thead>\n",
       "    <tr style=\"text-align: right;\">\n",
       "      <th></th>\n",
       "      <th>start_time</th>\n",
       "      <th>end_time</th>\n",
       "      <th>duration_sec</th>\n",
       "      <th>start_station_name</th>\n",
       "      <th>end_station_name</th>\n",
       "      <th>bike_id</th>\n",
       "      <th>user_type</th>\n",
       "      <th>member_gender</th>\n",
       "      <th>member_birth_year</th>\n",
       "      <th>bike_share_for_all_trip</th>\n",
       "      <th>start_weekday</th>\n",
       "      <th>start_date</th>\n",
       "      <th>start_hour</th>\n",
       "      <th>end_hour</th>\n",
       "    </tr>\n",
       "  </thead>\n",
       "  <tbody>\n",
       "    <tr>\n",
       "      <th>0</th>\n",
       "      <td>2019-02-28 17:32:10.145</td>\n",
       "      <td>2019-03-01 08:01:55.975</td>\n",
       "      <td>52185</td>\n",
       "      <td>Montgomery St BART Station (Market St at 2nd St)</td>\n",
       "      <td>Commercial St at Montgomery St</td>\n",
       "      <td>4902</td>\n",
       "      <td>Customer</td>\n",
       "      <td>Male</td>\n",
       "      <td>1970-01-01 00:00:00.000001984</td>\n",
       "      <td>No</td>\n",
       "      <td>3</td>\n",
       "      <td>28</td>\n",
       "      <td>17</td>\n",
       "      <td>8</td>\n",
       "    </tr>\n",
       "    <tr>\n",
       "      <th>2</th>\n",
       "      <td>2019-02-28 12:13:13.218</td>\n",
       "      <td>2019-03-01 05:24:08.146</td>\n",
       "      <td>61854</td>\n",
       "      <td>Market St at Dolores St</td>\n",
       "      <td>Powell St BART Station (Market St at 4th St)</td>\n",
       "      <td>5905</td>\n",
       "      <td>Customer</td>\n",
       "      <td>Male</td>\n",
       "      <td>1970-01-01 00:00:00.000001972</td>\n",
       "      <td>No</td>\n",
       "      <td>3</td>\n",
       "      <td>28</td>\n",
       "      <td>12</td>\n",
       "      <td>5</td>\n",
       "    </tr>\n",
       "    <tr>\n",
       "      <th>3</th>\n",
       "      <td>2019-02-28 17:54:26.010</td>\n",
       "      <td>2019-03-01 04:02:36.842</td>\n",
       "      <td>36490</td>\n",
       "      <td>Grove St at Masonic Ave</td>\n",
       "      <td>Central Ave at Fell St</td>\n",
       "      <td>6638</td>\n",
       "      <td>Subscriber</td>\n",
       "      <td>Other</td>\n",
       "      <td>1970-01-01 00:00:00.000001989</td>\n",
       "      <td>No</td>\n",
       "      <td>3</td>\n",
       "      <td>28</td>\n",
       "      <td>17</td>\n",
       "      <td>4</td>\n",
       "    </tr>\n",
       "    <tr>\n",
       "      <th>4</th>\n",
       "      <td>2019-02-28 23:54:18.549</td>\n",
       "      <td>2019-03-01 00:20:44.074</td>\n",
       "      <td>1585</td>\n",
       "      <td>Frank H Ogawa Plaza</td>\n",
       "      <td>10th Ave at E 15th St</td>\n",
       "      <td>4898</td>\n",
       "      <td>Subscriber</td>\n",
       "      <td>Male</td>\n",
       "      <td>1970-01-01 00:00:00.000001974</td>\n",
       "      <td>Yes</td>\n",
       "      <td>3</td>\n",
       "      <td>28</td>\n",
       "      <td>23</td>\n",
       "      <td>0</td>\n",
       "    </tr>\n",
       "    <tr>\n",
       "      <th>5</th>\n",
       "      <td>2019-02-28 23:49:58.632</td>\n",
       "      <td>2019-03-01 00:19:51.760</td>\n",
       "      <td>1793</td>\n",
       "      <td>4th St at Mission Bay Blvd S</td>\n",
       "      <td>Broadway at Kearny</td>\n",
       "      <td>5200</td>\n",
       "      <td>Subscriber</td>\n",
       "      <td>Male</td>\n",
       "      <td>1970-01-01 00:00:00.000001959</td>\n",
       "      <td>No</td>\n",
       "      <td>3</td>\n",
       "      <td>28</td>\n",
       "      <td>23</td>\n",
       "      <td>0</td>\n",
       "    </tr>\n",
       "  </tbody>\n",
       "</table>\n",
       "</div>"
      ],
      "text/plain": [
       "               start_time                end_time  duration_sec  \\\n",
       "0 2019-02-28 17:32:10.145 2019-03-01 08:01:55.975         52185   \n",
       "2 2019-02-28 12:13:13.218 2019-03-01 05:24:08.146         61854   \n",
       "3 2019-02-28 17:54:26.010 2019-03-01 04:02:36.842         36490   \n",
       "4 2019-02-28 23:54:18.549 2019-03-01 00:20:44.074          1585   \n",
       "5 2019-02-28 23:49:58.632 2019-03-01 00:19:51.760          1793   \n",
       "\n",
       "                                 start_station_name  \\\n",
       "0  Montgomery St BART Station (Market St at 2nd St)   \n",
       "2                           Market St at Dolores St   \n",
       "3                           Grove St at Masonic Ave   \n",
       "4                               Frank H Ogawa Plaza   \n",
       "5                      4th St at Mission Bay Blvd S   \n",
       "\n",
       "                               end_station_name bike_id   user_type  \\\n",
       "0                Commercial St at Montgomery St    4902    Customer   \n",
       "2  Powell St BART Station (Market St at 4th St)    5905    Customer   \n",
       "3                        Central Ave at Fell St    6638  Subscriber   \n",
       "4                         10th Ave at E 15th St    4898  Subscriber   \n",
       "5                            Broadway at Kearny    5200  Subscriber   \n",
       "\n",
       "  member_gender             member_birth_year bike_share_for_all_trip  \\\n",
       "0          Male 1970-01-01 00:00:00.000001984                      No   \n",
       "2          Male 1970-01-01 00:00:00.000001972                      No   \n",
       "3         Other 1970-01-01 00:00:00.000001989                      No   \n",
       "4          Male 1970-01-01 00:00:00.000001974                     Yes   \n",
       "5          Male 1970-01-01 00:00:00.000001959                      No   \n",
       "\n",
       "   start_weekday  start_date  start_hour  end_hour  \n",
       "0              3          28          17         8  \n",
       "2              3          28          12         5  \n",
       "3              3          28          17         4  \n",
       "4              3          28          23         0  \n",
       "5              3          28          23         0  "
      ]
     },
     "execution_count": 47,
     "metadata": {},
     "output_type": "execute_result"
    }
   ],
   "source": [
    "df_new.head()"
   ]
  },
  {
   "cell_type": "markdown",
   "id": "08e21db0",
   "metadata": {
    "slideshow": {
     "slide_type": "skip"
    }
   },
   "source": [
    "### Does Gender determine if Bike Trips will be shared or not?\n"
   ]
  },
  {
   "cell_type": "code",
   "execution_count": 48,
   "id": "386416bb",
   "metadata": {
    "slideshow": {
     "slide_type": "skip"
    }
   },
   "outputs": [
    {
     "data": {
      "image/png": "[encoded data removed]",
      "text/plain": [
       "<Figure size 432x288 with 1 Axes>"
      ]
     },
     "metadata": {
      "needs_background": "light"
     },
     "output_type": "display_data"
    }
   ],
   "source": [
    "# A count plot will be used to analyse gender and bike trip share\n",
    "\n",
    "sns.countplot(data = df_new, x = 'member_gender', hue = 'bike_share_for_all_trip');"
   ]
  },
  {
   "cell_type": "markdown",
   "id": "50ec6ed6",
   "metadata": {
    "slideshow": {
     "slide_type": "skip"
    }
   },
   "source": [
    "From the above count plot these are the observations;\n",
    "- More men tend to not share the bike trips compared to other genders\n",
    "- More men compared to other genders share their trips\n",
    "- Females too tend to not share their trips\n",
    "- Other genders asides male and female have the least count in bike trip sharing"
   ]
  },
  {
   "cell_type": "code",
   "execution_count": 49,
   "id": "e3312170",
   "metadata": {
    "slideshow": {
     "slide_type": "skip"
    }
   },
   "outputs": [
    {
     "data": {
      "text/plain": [
       "member_gender  bike_share_for_all_trip\n",
       "Female         No                          37211\n",
       "               Yes                          3594\n",
       "Male           No                         117396\n",
       "               Yes                         13104\n",
       "Other          No                           2999\n",
       "               Yes                           648\n",
       "Name: bike_share_for_all_trip, dtype: int64"
      ]
     },
     "execution_count": 49,
     "metadata": {},
     "output_type": "execute_result"
    }
   ],
   "source": [
    "#use groupby to view the count\n",
    "df_new.groupby('member_gender')['bike_share_for_all_trip'].value_counts()"
   ]
  },
  {
   "cell_type": "markdown",
   "id": "e79b3bf0",
   "metadata": {
    "slideshow": {
     "slide_type": "skip"
    }
   },
   "source": [
    "### Does Gender determine if Customers turn into Subscribers or not"
   ]
  },
  {
   "cell_type": "code",
   "execution_count": 50,
   "id": "69ee954d",
   "metadata": {
    "slideshow": {
     "slide_type": "skip"
    }
   },
   "outputs": [
    {
     "data": {
      "image/png": "[encoded data removed]",
      "text/plain": [
       "<Figure size 432x288 with 1 Axes>"
      ]
     },
     "metadata": {
      "needs_background": "light"
     },
     "output_type": "display_data"
    }
   ],
   "source": [
    "# A count plot will be used to analyse gender and User type\n",
    "\n",
    "sns.countplot(data = df_new, x = 'member_gender', hue = 'user_type');"
   ]
  },
  {
   "cell_type": "markdown",
   "id": "0d419611",
   "metadata": {
    "slideshow": {
     "slide_type": "skip"
    }
   },
   "source": [
    "From the above plot, men have the closest tendency to be subscribers and the closest ratio between subscibers and customers\n",
    "\n",
    "Other gender has the farthest ratio between subscribers and customers"
   ]
  },
  {
   "cell_type": "markdown",
   "id": "fa734b23",
   "metadata": {
    "slideshow": {
     "slide_type": "slide"
    }
   },
   "source": [
    "### What Days of the Week Experience the longest Rides? \n",
    "When in the month of February 2019 did riders ride the most?\n"
   ]
  },
  {
   "cell_type": "code",
   "execution_count": 51,
   "id": "85015562",
   "metadata": {
    "slideshow": {
     "slide_type": "skip"
    }
   },
   "outputs": [
    {
     "data": {
      "image/png": "[encoded data removed]",
      "text/plain": [
       "<Figure size 864x576 with 1 Axes>"
      ]
     },
     "metadata": {
      "needs_background": "light"
     },
     "output_type": "display_data"
    }
   ],
   "source": [
    "#use box plot to view the ride duration by days\n",
    "plt.figure(figsize = (12, 8))\n",
    "base_color = sns.color_palette()[1]\n",
    "sns.boxplot(data = df_new, x = 'start_weekday', y = 'duration_sec', color = base_color)\n",
    "plt.title('Ride Duration by Days')\n",
    "plt.xlabel('Weekdays')\n",
    "plt.ylabel('Duration (sec)')\n",
    "plt.show()"
   ]
  },
  {
   "cell_type": "markdown",
   "id": "f6524438",
   "metadata": {
    "slideshow": {
     "slide_type": "skip"
    }
   },
   "source": [
    "The values are vey widespread to see a box plot, so lets trim duration to max 3000 seconds to get clearer picture."
   ]
  },
  {
   "cell_type": "code",
   "execution_count": 52,
   "id": "f1c9af31",
   "metadata": {
    "slideshow": {
     "slide_type": "subslide"
    }
   },
   "outputs": [
    {
     "data": {
      "image/png": "[encoded data removed]",
      "text/plain": [
       "<Figure size 864x576 with 1 Axes>"
      ]
     },
     "metadata": {
      "needs_background": "light"
     },
     "output_type": "display_data"
    }
   ],
   "source": [
    "#trim the y axis\n",
    "plt.figure(figsize = (12, 8))\n",
    "base_color = sns.color_palette()[1]\n",
    "sns.boxplot(data = df_new, x = 'start_weekday', y = 'duration_sec', color = base_color)\n",
    "plt.ylim([-10, 3000])\n",
    "plt.title('Ride Duration by Days')\n",
    "plt.xlabel('Weekdays')\n",
    "plt.ylabel('Duration (sec)')\n",
    "plt.show()"
   ]
  },
  {
   "cell_type": "markdown",
   "id": "441c138f",
   "metadata": {
    "slideshow": {
     "slide_type": "subslide"
    }
   },
   "source": [
    "From the plot above, it shows that trips made during the weekend take longer than trips done during the week."
   ]
  },
  {
   "cell_type": "markdown",
   "id": "0a0e9a16",
   "metadata": {
    "slideshow": {
     "slide_type": "skip"
    }
   },
   "source": [
    "### Which User Type takes the time?"
   ]
  },
  {
   "cell_type": "code",
   "execution_count": 53,
   "id": "7194e7a9",
   "metadata": {
    "slideshow": {
     "slide_type": "skip"
    }
   },
   "outputs": [
    {
     "data": {
      "image/png": "[encoded data removed]",
      "text/plain": [
       "<Figure size 864x576 with 1 Axes>"
      ]
     },
     "metadata": {
      "needs_background": "light"
     },
     "output_type": "display_data"
    }
   ],
   "source": [
    "#use box plot to view the ride duration by user type\n",
    "plt.figure(figsize = (12, 8))\n",
    "base_color = sns.color_palette()[1]\n",
    "sns.boxplot(data = df_new, x = 'user_type', y = 'duration_sec', color = base_color)\n",
    "plt.title('Ride Duration by User Type')\n",
    "plt.xlabel('User Type')\n",
    "plt.ylabel('Duration (sec)')\n",
    "plt.show()"
   ]
  },
  {
   "cell_type": "markdown",
   "id": "76fa3bf5",
   "metadata": {
    "slideshow": {
     "slide_type": "skip"
    }
   },
   "source": [
    "The values are vey widespread to see a box plot, so lets trim duration to max 3000 seconds to get clearer picture."
   ]
  },
  {
   "cell_type": "code",
   "execution_count": 54,
   "id": "91948dfd",
   "metadata": {
    "slideshow": {
     "slide_type": "skip"
    }
   },
   "outputs": [
    {
     "data": {
      "image/png": "[encoded data removed]",
      "text/plain": [
       "<Figure size 864x576 with 1 Axes>"
      ]
     },
     "metadata": {
      "needs_background": "light"
     },
     "output_type": "display_data"
    }
   ],
   "source": [
    "#trim the ylim\n",
    "plt.figure(figsize = (12, 8))\n",
    "base_color = sns.color_palette()[1]\n",
    "sns.boxplot(data = df_new, x = 'user_type', y = 'duration_sec', color = base_color)\n",
    "plt.ylim([-10, 3000])\n",
    "plt.title('Ride Duration by User Type')\n",
    "plt.xlabel('User Type')\n",
    "plt.ylabel('Duration (sec)')\n",
    "plt.show()"
   ]
  },
  {
   "cell_type": "markdown",
   "id": "ec2503d6",
   "metadata": {
    "slideshow": {
     "slide_type": "skip"
    }
   },
   "source": [
    "From the plot above, Customer user type trips take a longer duration than subscriber user type"
   ]
  },
  {
   "cell_type": "markdown",
   "id": "7aa74955",
   "metadata": {
    "slideshow": {
     "slide_type": "skip"
    }
   },
   "source": [
    "### Talk about some of the relationships you observed in this part of the investigation. How did the feature(s) of interest vary with other features in the dataset?\n",
    "\n",
    "> Weekends are big determinants of duration as durations are higher during the weekends compared to during the week. Though customer to subscriber ratio is high, they tend to have longer durations.\n",
    "\n",
    "### Did you observe any interesting relationships between the other features (not the main feature(s) of interest)?\n",
    "\n",
    "> A lot of men tend to be subscribers rather than just customers and they do not really share their bike trips compared to females and other genders. "
   ]
  },
  {
   "cell_type": "markdown",
   "id": "456fc3d1",
   "metadata": {
    "slideshow": {
     "slide_type": "slide"
    }
   },
   "source": [
    "## Multivariate Exploration"
   ]
  },
  {
   "cell_type": "code",
   "execution_count": 55,
   "id": "407249dc",
   "metadata": {
    "slideshow": {
     "slide_type": "skip"
    }
   },
   "outputs": [
    {
     "data": {
      "text/html": [
       "<div>\n",
       "<style scoped>\n",
       "    .dataframe tbody tr th:only-of-type {\n",
       "        vertical-align: middle;\n",
       "    }\n",
       "\n",
       "    .dataframe tbody tr th {\n",
       "        vertical-align: top;\n",
       "    }\n",
       "\n",
       "    .dataframe thead th {\n",
       "        text-align: right;\n",
       "    }\n",
       "</style>\n",
       "<table border=\"1\" class=\"dataframe\">\n",
       "  <thead>\n",
       "    <tr style=\"text-align: right;\">\n",
       "      <th></th>\n",
       "      <th>start_time</th>\n",
       "      <th>end_time</th>\n",
       "      <th>duration_sec</th>\n",
       "      <th>start_station_name</th>\n",
       "      <th>end_station_name</th>\n",
       "      <th>bike_id</th>\n",
       "      <th>user_type</th>\n",
       "      <th>member_gender</th>\n",
       "      <th>member_birth_year</th>\n",
       "      <th>bike_share_for_all_trip</th>\n",
       "      <th>start_weekday</th>\n",
       "      <th>start_date</th>\n",
       "      <th>start_hour</th>\n",
       "      <th>end_hour</th>\n",
       "    </tr>\n",
       "  </thead>\n",
       "  <tbody>\n",
       "    <tr>\n",
       "      <th>0</th>\n",
       "      <td>2019-02-28 17:32:10.145</td>\n",
       "      <td>2019-03-01 08:01:55.975</td>\n",
       "      <td>52185</td>\n",
       "      <td>Montgomery St BART Station (Market St at 2nd St)</td>\n",
       "      <td>Commercial St at Montgomery St</td>\n",
       "      <td>4902</td>\n",
       "      <td>Customer</td>\n",
       "      <td>Male</td>\n",
       "      <td>1970-01-01 00:00:00.000001984</td>\n",
       "      <td>No</td>\n",
       "      <td>3</td>\n",
       "      <td>28</td>\n",
       "      <td>17</td>\n",
       "      <td>8</td>\n",
       "    </tr>\n",
       "    <tr>\n",
       "      <th>2</th>\n",
       "      <td>2019-02-28 12:13:13.218</td>\n",
       "      <td>2019-03-01 05:24:08.146</td>\n",
       "      <td>61854</td>\n",
       "      <td>Market St at Dolores St</td>\n",
       "      <td>Powell St BART Station (Market St at 4th St)</td>\n",
       "      <td>5905</td>\n",
       "      <td>Customer</td>\n",
       "      <td>Male</td>\n",
       "      <td>1970-01-01 00:00:00.000001972</td>\n",
       "      <td>No</td>\n",
       "      <td>3</td>\n",
       "      <td>28</td>\n",
       "      <td>12</td>\n",
       "      <td>5</td>\n",
       "    </tr>\n",
       "    <tr>\n",
       "      <th>3</th>\n",
       "      <td>2019-02-28 17:54:26.010</td>\n",
       "      <td>2019-03-01 04:02:36.842</td>\n",
       "      <td>36490</td>\n",
       "      <td>Grove St at Masonic Ave</td>\n",
       "      <td>Central Ave at Fell St</td>\n",
       "      <td>6638</td>\n",
       "      <td>Subscriber</td>\n",
       "      <td>Other</td>\n",
       "      <td>1970-01-01 00:00:00.000001989</td>\n",
       "      <td>No</td>\n",
       "      <td>3</td>\n",
       "      <td>28</td>\n",
       "      <td>17</td>\n",
       "      <td>4</td>\n",
       "    </tr>\n",
       "    <tr>\n",
       "      <th>4</th>\n",
       "      <td>2019-02-28 23:54:18.549</td>\n",
       "      <td>2019-03-01 00:20:44.074</td>\n",
       "      <td>1585</td>\n",
       "      <td>Frank H Ogawa Plaza</td>\n",
       "      <td>10th Ave at E 15th St</td>\n",
       "      <td>4898</td>\n",
       "      <td>Subscriber</td>\n",
       "      <td>Male</td>\n",
       "      <td>1970-01-01 00:00:00.000001974</td>\n",
       "      <td>Yes</td>\n",
       "      <td>3</td>\n",
       "      <td>28</td>\n",
       "      <td>23</td>\n",
       "      <td>0</td>\n",
       "    </tr>\n",
       "    <tr>\n",
       "      <th>5</th>\n",
       "      <td>2019-02-28 23:49:58.632</td>\n",
       "      <td>2019-03-01 00:19:51.760</td>\n",
       "      <td>1793</td>\n",
       "      <td>4th St at Mission Bay Blvd S</td>\n",
       "      <td>Broadway at Kearny</td>\n",
       "      <td>5200</td>\n",
       "      <td>Subscriber</td>\n",
       "      <td>Male</td>\n",
       "      <td>1970-01-01 00:00:00.000001959</td>\n",
       "      <td>No</td>\n",
       "      <td>3</td>\n",
       "      <td>28</td>\n",
       "      <td>23</td>\n",
       "      <td>0</td>\n",
       "    </tr>\n",
       "  </tbody>\n",
       "</table>\n",
       "</div>"
      ],
      "text/plain": [
       "               start_time                end_time  duration_sec  \\\n",
       "0 2019-02-28 17:32:10.145 2019-03-01 08:01:55.975         52185   \n",
       "2 2019-02-28 12:13:13.218 2019-03-01 05:24:08.146         61854   \n",
       "3 2019-02-28 17:54:26.010 2019-03-01 04:02:36.842         36490   \n",
       "4 2019-02-28 23:54:18.549 2019-03-01 00:20:44.074          1585   \n",
       "5 2019-02-28 23:49:58.632 2019-03-01 00:19:51.760          1793   \n",
       "\n",
       "                                 start_station_name  \\\n",
       "0  Montgomery St BART Station (Market St at 2nd St)   \n",
       "2                           Market St at Dolores St   \n",
       "3                           Grove St at Masonic Ave   \n",
       "4                               Frank H Ogawa Plaza   \n",
       "5                      4th St at Mission Bay Blvd S   \n",
       "\n",
       "                               end_station_name bike_id   user_type  \\\n",
       "0                Commercial St at Montgomery St    4902    Customer   \n",
       "2  Powell St BART Station (Market St at 4th St)    5905    Customer   \n",
       "3                        Central Ave at Fell St    6638  Subscriber   \n",
       "4                         10th Ave at E 15th St    4898  Subscriber   \n",
       "5                            Broadway at Kearny    5200  Subscriber   \n",
       "\n",
       "  member_gender             member_birth_year bike_share_for_all_trip  \\\n",
       "0          Male 1970-01-01 00:00:00.000001984                      No   \n",
       "2          Male 1970-01-01 00:00:00.000001972                      No   \n",
       "3         Other 1970-01-01 00:00:00.000001989                      No   \n",
       "4          Male 1970-01-01 00:00:00.000001974                     Yes   \n",
       "5          Male 1970-01-01 00:00:00.000001959                      No   \n",
       "\n",
       "   start_weekday  start_date  start_hour  end_hour  \n",
       "0              3          28          17         8  \n",
       "2              3          28          12         5  \n",
       "3              3          28          17         4  \n",
       "4              3          28          23         0  \n",
       "5              3          28          23         0  "
      ]
     },
     "execution_count": 55,
     "metadata": {},
     "output_type": "execute_result"
    }
   ],
   "source": [
    "df_new.head()"
   ]
  },
  {
   "cell_type": "markdown",
   "id": "e1e1e52b",
   "metadata": {
    "slideshow": {
     "slide_type": "slide"
    }
   },
   "source": [
    "### What is the Distribution between Gender, User Type and Birth Year with time?\n",
    "Let's see if a relationship can be seen between gender, user type and birth year with time(duration)"
   ]
  },
  {
   "cell_type": "code",
   "execution_count": 56,
   "id": "64b118fb",
   "metadata": {
    "slideshow": {
     "slide_type": "skip"
    }
   },
   "outputs": [],
   "source": [
    "#create a function\n",
    "def hist2dgrid(x, y, **kwargs):\n",
    "    \"\"\" Creating heat maps with seaborn's PairGrid. \"\"\"\n",
    "    palette = kwargs.pop('color')\n",
    "    y_bins = 10 ** np.arange(1.7, 4.3+0.1, 0.1)\n",
    "    y_ticks = [100, 300, 1000, 3000, 10000]\n",
    "    y_labels = [100, 300, '1k', '3k', '10k']\n",
    "    \n",
    "    plt.hist2d(x, y, bins = [10, y_bins], cmap = palette, cmin = 100)\n",
    "    plt.yscale('log')\n",
    "    plt.yticks(y_ticks, y_labels)"
   ]
  },
  {
   "cell_type": "code",
   "execution_count": 57,
   "id": "ea12637b",
   "metadata": {
    "slideshow": {
     "slide_type": "subslide"
    }
   },
   "outputs": [
    {
     "data": {
      "image/png": "[encoded data removed]",
      "text/plain": [
       "<Figure size 648x432 with 6 Axes>"
      ]
     },
     "metadata": {
      "needs_background": "light"
     },
     "output_type": "display_data"
    }
   ],
   "source": [
    "# plot the heatmap\n",
    "g = sns.FacetGrid(data=df_new, col='member_gender', row='user_type', margin_titles=True)\n",
    "g.map(hist2dgrid, 'member_birth_year', 'duration_sec', color='viridis_r')\n",
    "g.set_xlabels('Birth Year')\n",
    "g.set_ylabels('Duration (sec)');"
   ]
  },
  {
   "cell_type": "markdown",
   "id": "1d4fe9c1",
   "metadata": {
    "slideshow": {
     "slide_type": "subslide"
    }
   },
   "source": [
    "The peak of distribution for different people is nearly the same. However, the male subscriber accounts for a major proportion. The male subscribers spent longer times during rides and were born mostly between 1950 - 2000\n",
    "\n",
    "\n"
   ]
  },
  {
   "cell_type": "markdown",
   "id": "f6ea656b",
   "metadata": {
    "slideshow": {
     "slide_type": "skip"
    }
   },
   "source": [
    "### what is the relationship between gender and user type with time?"
   ]
  },
  {
   "cell_type": "code",
   "execution_count": 58,
   "id": "13f0004e",
   "metadata": {
    "slideshow": {
     "slide_type": "skip"
    }
   },
   "outputs": [
    {
     "data": {
      "image/png": "[encoded data removed]",
      "text/plain": [
       "<Figure size 432x288 with 1 Axes>"
      ]
     },
     "metadata": {
      "needs_background": "light"
     },
     "output_type": "display_data"
    }
   ],
   "source": [
    "# plot the relationship between user type and gender\n",
    "sns.barplot(data=df_new, x='member_gender', y='duration_sec', hue='user_type')\n",
    "plt.xlabel('Gender')\n",
    "plt.ylabel('Duration (sec)')\n",
    "plt.legend(title='User Type');"
   ]
  },
  {
   "cell_type": "markdown",
   "id": "06cc70d7",
   "metadata": {
    "slideshow": {
     "slide_type": "skip"
    }
   },
   "source": [
    "The customer has a larger duration than the subscriber. The other gender's customer's duration is the largest one."
   ]
  },
  {
   "cell_type": "markdown",
   "id": "d8b1b5da",
   "metadata": {
    "slideshow": {
     "slide_type": "skip"
    }
   },
   "source": [
    "### Talk about some of the relationships you observed in this part of the investigation. Were there features that strengthened each other in terms of looking at your feature(s) of interest?\n",
    "\n",
    "> The peak of distribution for different people is nearly the same. However, the male subscriber accounts for a major proportion. The customer has a larger duration than the subscriber.\n",
    "\n",
    "### Were there any interesting or surprising interactions between features?\n",
    "\n",
    "> The average duration of customer decreases rapidly."
   ]
  },
  {
   "cell_type": "markdown",
   "id": "15bdf61d",
   "metadata": {
    "slideshow": {
     "slide_type": "skip"
    }
   },
   "source": [
    "## Conclusions\n",
    "> Different features in the dataset respond differently with time. \n",
    "> There ia a very large proportion of men, subcribers and people who do not share ride trips compared to other features.\n",
    "> Times the data viewed in a boxplot was clumped together, the y axis had to be trimmed\n",
    "> Plotting a histogram to show the distribution of the duration, the x axis had to be changed to a logarithimic scale\n",
    "> Overall, it is a fun dataset to work with"
   ]
  },
  {
   "cell_type": "code",
   "execution_count": null,
   "id": "4662b191",
   "metadata": {
    "slideshow": {
     "slide_type": "skip"
    }
   },
   "outputs": [],
   "source": []
  }
 ],
 "metadata": {
  "celltoolbar": "Slideshow",
  "kernelspec": {
   "display_name": "Python 3 (ipykernel)",
   "language": "python",
   "name": "python3"
  },
  "language_info": {
   "codemirror_mode": {
    "name": "ipython",
    "version": 3
   },
   "file_extension": ".py",
   "mimetype": "text/x-python",
   "name": "python",
   "nbconvert_exporter": "python",
   "pygments_lexer": "ipython3",
   "version": "3.9.12"
  }
 },
 "nbformat": 4,
 "nbformat_minor": 5
}
