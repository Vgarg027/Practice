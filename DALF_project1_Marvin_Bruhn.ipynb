{
 "cells": [
  {
   "cell_type": "markdown",
   "metadata": {},
   "source": [
    "# Project: Exploring the influence of patient's data on the possibility of not showing up at a medical appointment\n",
    "\n",
    "## Table of Contents\n",
    "<ul>\n",
    "<li><a href=\"#intro\">Introduction</a></li>\n",
    "<li><a href=\"#wrangling\">Data Wrangling</a></li>\n",
    "<li><a href=\"#eda\">Exploratory Data Analysis</a></li>\n",
    "<li><a href=\"#conclusions\">Conclusions</a></li>\n",
    "</ul>"
   ]
  },
  {
   "cell_type": "markdown",
   "metadata": {},
   "source": [
    "<a id='intro'></a>\n",
    "## Introduction"
   ]
  },
  {
   "cell_type": "markdown",
   "metadata": {},
   "source": [
    "In the following analysis, I am going to take a closer look at the \"Medical No-Show Appointments\" dataset originally sourced on Kaggle (source link: https://www.kaggle.com/joniarroba/noshowappointments).\n",
    "\n",
    "This dataset collects information from 100k medical appointments in Brazil and is focused on the question of whether or not patients show up for their appointment. A number of characteristics about the patient are included in each row. (Source: https://docs.google.com/document/d/e/2PACX-1vTlVmknRRnfy_4eTrjw5hYGaiQim5ctr9naaRd4V9du2B5bxpd8FEH3KtDgp8qVekw7Cj1GLk1IXdZi/pub?embedded=True)\n",
    "\n",
    "I am going to dive into patients characteristics and analyse if they influence the probability of patiens showing up at an appointment.\n",
    "\n",
    "Research questions:\n",
    "\n",
    "1: People of which age group are most likely not showing up at appointments?\n",
    "\n",
    "2: Patients from which neighbourhoods are more likely to miss an appointment?\n",
    "\n",
    "3: Is there an influence of diseases or a physical handicap?\n",
    "\n",
    "4: Does a scholarship from Bolsa Familia welfare program increase the chance of patients showing up at their appointments?"
   ]
  },
  {
   "cell_type": "code",
   "execution_count": 238,
   "metadata": {},
   "outputs": [],
   "source": [
    "%matplotlib inline\n",
    "\n",
    "\n",
    "import numpy as np\n",
    "import pandas as pd\n",
    "import matplotlib.pyplot as plt\n",
    "import seaborn as sns\n",
    "import unicodecsv"
   ]
  },
  {
   "cell_type": "markdown",
   "metadata": {},
   "source": [
    "<a id='wrangling'></a>\n",
    "## Data Wrangling\n",
    "\n",
    "### General Properties"
   ]
  },
  {
   "cell_type": "code",
   "execution_count": 239,
   "metadata": {},
   "outputs": [
    {
     "data": {
      "text/plain": [
       "OrderedDict([('PatientId', '29872499824296'),\n",
       "             ('AppointmentID', '5642903'),\n",
       "             ('Gender', 'F'),\n",
       "             ('ScheduledDay', '2016-04-29T18:38:08Z'),\n",
       "             ('AppointmentDay', '2016-04-29T00:00:00Z'),\n",
       "             ('Age', '62'),\n",
       "             ('Neighbourhood', 'JARDIM DA PENHA'),\n",
       "             ('Scholarship', '0'),\n",
       "             ('Hipertension', '1'),\n",
       "             ('Diabetes', '0'),\n",
       "             ('Alcoholism', '0'),\n",
       "             ('Handcap', '0'),\n",
       "             ('SMS_received', '0'),\n",
       "             ('No-show', 'No')])"
      ]
     },
     "execution_count": 239,
     "metadata": {},
     "output_type": "execute_result"
    }
   ],
   "source": [
    "# Load your data and print out a few lines. Perform operations to inspect data\n",
    "#   types and look for instances of missing or possibly errant data.\n",
    "\n",
    "with open('noshowappointments-kagglev2-may-2016.csv', 'rb') as d:\n",
    "    reader = unicodecsv.DictReader(d)\n",
    "    noshowapp = list(reader)\n",
    "    \n",
    "noshowapp[0]    \n"
   ]
  },
  {
   "cell_type": "markdown",
   "metadata": {},
   "source": [
    "Loading the data using Python's unicodecsv module. Printing out the first line of the dataset by using the DictReader the check if the columns and data were loaded correctly. "
   ]
  },
  {
   "cell_type": "code",
   "execution_count": 240,
   "metadata": {},
   "outputs": [
    {
     "data": {
      "text/html": [
       "<div>\n",
       "<style scoped>\n",
       "    .dataframe tbody tr th:only-of-type {\n",
       "        vertical-align: middle;\n",
       "    }\n",
       "\n",
       "    .dataframe tbody tr th {\n",
       "        vertical-align: top;\n",
       "    }\n",
       "\n",
       "    .dataframe thead th {\n",
       "        text-align: right;\n",
       "    }\n",
       "</style>\n",
       "<table border=\"1\" class=\"dataframe\">\n",
       "  <thead>\n",
       "    <tr style=\"text-align: right;\">\n",
       "      <th></th>\n",
       "      <th>PatientId</th>\n",
       "      <th>AppointmentID</th>\n",
       "      <th>Gender</th>\n",
       "      <th>ScheduledDay</th>\n",
       "      <th>AppointmentDay</th>\n",
       "      <th>Age</th>\n",
       "      <th>Neighbourhood</th>\n",
       "      <th>Scholarship</th>\n",
       "      <th>Hipertension</th>\n",
       "      <th>Diabetes</th>\n",
       "      <th>Alcoholism</th>\n",
       "      <th>Handcap</th>\n",
       "      <th>SMS_received</th>\n",
       "      <th>No-show</th>\n",
       "    </tr>\n",
       "  </thead>\n",
       "  <tbody>\n",
       "    <tr>\n",
       "      <th>0</th>\n",
       "      <td>29872499824296</td>\n",
       "      <td>5642903</td>\n",
       "      <td>F</td>\n",
       "      <td>2016-04-29T18:38:08Z</td>\n",
       "      <td>2016-04-29T00:00:00Z</td>\n",
       "      <td>62</td>\n",
       "      <td>JARDIM DA PENHA</td>\n",
       "      <td>0</td>\n",
       "      <td>1</td>\n",
       "      <td>0</td>\n",
       "      <td>0</td>\n",
       "      <td>0</td>\n",
       "      <td>0</td>\n",
       "      <td>No</td>\n",
       "    </tr>\n",
       "    <tr>\n",
       "      <th>1</th>\n",
       "      <td>558997776694438</td>\n",
       "      <td>5642503</td>\n",
       "      <td>M</td>\n",
       "      <td>2016-04-29T16:08:27Z</td>\n",
       "      <td>2016-04-29T00:00:00Z</td>\n",
       "      <td>56</td>\n",
       "      <td>JARDIM DA PENHA</td>\n",
       "      <td>0</td>\n",
       "      <td>0</td>\n",
       "      <td>0</td>\n",
       "      <td>0</td>\n",
       "      <td>0</td>\n",
       "      <td>0</td>\n",
       "      <td>No</td>\n",
       "    </tr>\n",
       "    <tr>\n",
       "      <th>2</th>\n",
       "      <td>4262962299951</td>\n",
       "      <td>5642549</td>\n",
       "      <td>F</td>\n",
       "      <td>2016-04-29T16:19:04Z</td>\n",
       "      <td>2016-04-29T00:00:00Z</td>\n",
       "      <td>62</td>\n",
       "      <td>MATA DA PRAIA</td>\n",
       "      <td>0</td>\n",
       "      <td>0</td>\n",
       "      <td>0</td>\n",
       "      <td>0</td>\n",
       "      <td>0</td>\n",
       "      <td>0</td>\n",
       "      <td>No</td>\n",
       "    </tr>\n",
       "    <tr>\n",
       "      <th>3</th>\n",
       "      <td>867951213174</td>\n",
       "      <td>5642828</td>\n",
       "      <td>F</td>\n",
       "      <td>2016-04-29T17:29:31Z</td>\n",
       "      <td>2016-04-29T00:00:00Z</td>\n",
       "      <td>8</td>\n",
       "      <td>PONTAL DE CAMBURI</td>\n",
       "      <td>0</td>\n",
       "      <td>0</td>\n",
       "      <td>0</td>\n",
       "      <td>0</td>\n",
       "      <td>0</td>\n",
       "      <td>0</td>\n",
       "      <td>No</td>\n",
       "    </tr>\n",
       "    <tr>\n",
       "      <th>4</th>\n",
       "      <td>8841186448183</td>\n",
       "      <td>5642494</td>\n",
       "      <td>F</td>\n",
       "      <td>2016-04-29T16:07:23Z</td>\n",
       "      <td>2016-04-29T00:00:00Z</td>\n",
       "      <td>56</td>\n",
       "      <td>JARDIM DA PENHA</td>\n",
       "      <td>0</td>\n",
       "      <td>1</td>\n",
       "      <td>1</td>\n",
       "      <td>0</td>\n",
       "      <td>0</td>\n",
       "      <td>0</td>\n",
       "      <td>No</td>\n",
       "    </tr>\n",
       "    <tr>\n",
       "      <th>...</th>\n",
       "      <td>...</td>\n",
       "      <td>...</td>\n",
       "      <td>...</td>\n",
       "      <td>...</td>\n",
       "      <td>...</td>\n",
       "      <td>...</td>\n",
       "      <td>...</td>\n",
       "      <td>...</td>\n",
       "      <td>...</td>\n",
       "      <td>...</td>\n",
       "      <td>...</td>\n",
       "      <td>...</td>\n",
       "      <td>...</td>\n",
       "      <td>...</td>\n",
       "    </tr>\n",
       "    <tr>\n",
       "      <th>110522</th>\n",
       "      <td>2572134369293</td>\n",
       "      <td>5651768</td>\n",
       "      <td>F</td>\n",
       "      <td>2016-05-03T09:15:35Z</td>\n",
       "      <td>2016-06-07T00:00:00Z</td>\n",
       "      <td>56</td>\n",
       "      <td>MARIA ORTIZ</td>\n",
       "      <td>0</td>\n",
       "      <td>0</td>\n",
       "      <td>0</td>\n",
       "      <td>0</td>\n",
       "      <td>0</td>\n",
       "      <td>1</td>\n",
       "      <td>No</td>\n",
       "    </tr>\n",
       "    <tr>\n",
       "      <th>110523</th>\n",
       "      <td>3596266328735</td>\n",
       "      <td>5650093</td>\n",
       "      <td>F</td>\n",
       "      <td>2016-05-03T07:27:33Z</td>\n",
       "      <td>2016-06-07T00:00:00Z</td>\n",
       "      <td>51</td>\n",
       "      <td>MARIA ORTIZ</td>\n",
       "      <td>0</td>\n",
       "      <td>0</td>\n",
       "      <td>0</td>\n",
       "      <td>0</td>\n",
       "      <td>0</td>\n",
       "      <td>1</td>\n",
       "      <td>No</td>\n",
       "    </tr>\n",
       "    <tr>\n",
       "      <th>110524</th>\n",
       "      <td>15576631729893</td>\n",
       "      <td>5630692</td>\n",
       "      <td>F</td>\n",
       "      <td>2016-04-27T16:03:52Z</td>\n",
       "      <td>2016-06-07T00:00:00Z</td>\n",
       "      <td>21</td>\n",
       "      <td>MARIA ORTIZ</td>\n",
       "      <td>0</td>\n",
       "      <td>0</td>\n",
       "      <td>0</td>\n",
       "      <td>0</td>\n",
       "      <td>0</td>\n",
       "      <td>1</td>\n",
       "      <td>No</td>\n",
       "    </tr>\n",
       "    <tr>\n",
       "      <th>110525</th>\n",
       "      <td>92134931435557</td>\n",
       "      <td>5630323</td>\n",
       "      <td>F</td>\n",
       "      <td>2016-04-27T15:09:23Z</td>\n",
       "      <td>2016-06-07T00:00:00Z</td>\n",
       "      <td>38</td>\n",
       "      <td>MARIA ORTIZ</td>\n",
       "      <td>0</td>\n",
       "      <td>0</td>\n",
       "      <td>0</td>\n",
       "      <td>0</td>\n",
       "      <td>0</td>\n",
       "      <td>1</td>\n",
       "      <td>No</td>\n",
       "    </tr>\n",
       "    <tr>\n",
       "      <th>110526</th>\n",
       "      <td>377511518121127</td>\n",
       "      <td>5629448</td>\n",
       "      <td>F</td>\n",
       "      <td>2016-04-27T13:30:56Z</td>\n",
       "      <td>2016-06-07T00:00:00Z</td>\n",
       "      <td>54</td>\n",
       "      <td>MARIA ORTIZ</td>\n",
       "      <td>0</td>\n",
       "      <td>0</td>\n",
       "      <td>0</td>\n",
       "      <td>0</td>\n",
       "      <td>0</td>\n",
       "      <td>1</td>\n",
       "      <td>No</td>\n",
       "    </tr>\n",
       "  </tbody>\n",
       "</table>\n",
       "<p>110527 rows × 14 columns</p>\n",
       "</div>"
      ],
      "text/plain": [
       "              PatientId AppointmentID Gender          ScheduledDay  \\\n",
       "0        29872499824296       5642903      F  2016-04-29T18:38:08Z   \n",
       "1       558997776694438       5642503      M  2016-04-29T16:08:27Z   \n",
       "2         4262962299951       5642549      F  2016-04-29T16:19:04Z   \n",
       "3          867951213174       5642828      F  2016-04-29T17:29:31Z   \n",
       "4         8841186448183       5642494      F  2016-04-29T16:07:23Z   \n",
       "...                 ...           ...    ...                   ...   \n",
       "110522    2572134369293       5651768      F  2016-05-03T09:15:35Z   \n",
       "110523    3596266328735       5650093      F  2016-05-03T07:27:33Z   \n",
       "110524   15576631729893       5630692      F  2016-04-27T16:03:52Z   \n",
       "110525   92134931435557       5630323      F  2016-04-27T15:09:23Z   \n",
       "110526  377511518121127       5629448      F  2016-04-27T13:30:56Z   \n",
       "\n",
       "              AppointmentDay Age      Neighbourhood Scholarship Hipertension  \\\n",
       "0       2016-04-29T00:00:00Z  62    JARDIM DA PENHA           0            1   \n",
       "1       2016-04-29T00:00:00Z  56    JARDIM DA PENHA           0            0   \n",
       "2       2016-04-29T00:00:00Z  62      MATA DA PRAIA           0            0   \n",
       "3       2016-04-29T00:00:00Z   8  PONTAL DE CAMBURI           0            0   \n",
       "4       2016-04-29T00:00:00Z  56    JARDIM DA PENHA           0            1   \n",
       "...                      ...  ..                ...         ...          ...   \n",
       "110522  2016-06-07T00:00:00Z  56        MARIA ORTIZ           0            0   \n",
       "110523  2016-06-07T00:00:00Z  51        MARIA ORTIZ           0            0   \n",
       "110524  2016-06-07T00:00:00Z  21        MARIA ORTIZ           0            0   \n",
       "110525  2016-06-07T00:00:00Z  38        MARIA ORTIZ           0            0   \n",
       "110526  2016-06-07T00:00:00Z  54        MARIA ORTIZ           0            0   \n",
       "\n",
       "       Diabetes Alcoholism Handcap SMS_received No-show  \n",
       "0             0          0       0            0      No  \n",
       "1             0          0       0            0      No  \n",
       "2             0          0       0            0      No  \n",
       "3             0          0       0            0      No  \n",
       "4             1          0       0            0      No  \n",
       "...         ...        ...     ...          ...     ...  \n",
       "110522        0          0       0            1      No  \n",
       "110523        0          0       0            1      No  \n",
       "110524        0          0       0            1      No  \n",
       "110525        0          0       0            1      No  \n",
       "110526        0          0       0            1      No  \n",
       "\n",
       "[110527 rows x 14 columns]"
      ]
     },
     "execution_count": 240,
     "metadata": {},
     "output_type": "execute_result"
    }
   ],
   "source": [
    "df = pd.DataFrame(noshowapp)\n",
    "df"
   ]
  },
  {
   "cell_type": "markdown",
   "metadata": {},
   "source": [
    "Creating and printing a Pandas DataFrame to get an overview of the dataset and having an idea of the dimensions (110527 rows x 14 columns)"
   ]
  },
  {
   "cell_type": "code",
   "execution_count": 241,
   "metadata": {},
   "outputs": [
    {
     "name": "stdout",
     "output_type": "stream",
     "text": [
      "<class 'pandas.core.frame.DataFrame'>\n",
      "RangeIndex: 110527 entries, 0 to 110526\n",
      "Data columns (total 14 columns):\n",
      " #   Column          Non-Null Count   Dtype \n",
      "---  ------          --------------   ----- \n",
      " 0   PatientId       110527 non-null  object\n",
      " 1   AppointmentID   110527 non-null  object\n",
      " 2   Gender          110527 non-null  object\n",
      " 3   ScheduledDay    110527 non-null  object\n",
      " 4   AppointmentDay  110527 non-null  object\n",
      " 5   Age             110527 non-null  object\n",
      " 6   Neighbourhood   110527 non-null  object\n",
      " 7   Scholarship     110527 non-null  object\n",
      " 8   Hipertension    110527 non-null  object\n",
      " 9   Diabetes        110527 non-null  object\n",
      " 10  Alcoholism      110527 non-null  object\n",
      " 11  Handcap         110527 non-null  object\n",
      " 12  SMS_received    110527 non-null  object\n",
      " 13  No-show         110527 non-null  object\n",
      "dtypes: object(14)\n",
      "memory usage: 11.8+ MB\n"
     ]
    }
   ],
   "source": [
    "df.info()"
   ]
  },
  {
   "cell_type": "markdown",
   "metadata": {},
   "source": [
    "Accessing general information about the dataframe by using the df.info function.\n",
    "\n",
    "(Source: https://pandas.pydata.org/pandas-docs/stable/reference/api/pandas.DataFrame.info.html) \n",
    "\n",
    "Result: The dataset is structured in 14 columns (column index 0-13) and has 110527 entries (0-110526). \n",
    "Every column counts 110527 non-null/non-NA values, which means that there is no missing data in one of the columns. \n",
    "The df.info function also shows the data types used in the dataset. For this dataset, there are only columns containing the data type object (data with text/mixed numeric and non-numeric values). \n",
    "\n",
    "(Source: https://pandas.pydata.org/pandas-docs/stable/reference/api/pandas.DataFrame.dtypes.html)\n",
    "\n",
    "This requires to allocate a suitable data type for some columns in the following data cleaning steps to prepare the dataset for further analysis.\n",
    "\n"
   ]
  },
  {
   "cell_type": "code",
   "execution_count": 242,
   "metadata": {
    "scrolled": true
   },
   "outputs": [
    {
     "data": {
      "text/html": [
       "<div>\n",
       "<style scoped>\n",
       "    .dataframe tbody tr th:only-of-type {\n",
       "        vertical-align: middle;\n",
       "    }\n",
       "\n",
       "    .dataframe tbody tr th {\n",
       "        vertical-align: top;\n",
       "    }\n",
       "\n",
       "    .dataframe thead th {\n",
       "        text-align: right;\n",
       "    }\n",
       "</style>\n",
       "<table border=\"1\" class=\"dataframe\">\n",
       "  <thead>\n",
       "    <tr style=\"text-align: right;\">\n",
       "      <th></th>\n",
       "      <th>PatientId</th>\n",
       "      <th>AppointmentID</th>\n",
       "      <th>Gender</th>\n",
       "      <th>ScheduledDay</th>\n",
       "      <th>AppointmentDay</th>\n",
       "      <th>Age</th>\n",
       "      <th>Neighbourhood</th>\n",
       "      <th>Scholarship</th>\n",
       "      <th>Hipertension</th>\n",
       "      <th>Diabetes</th>\n",
       "      <th>Alcoholism</th>\n",
       "      <th>Handcap</th>\n",
       "      <th>SMS_received</th>\n",
       "      <th>No-show</th>\n",
       "    </tr>\n",
       "  </thead>\n",
       "  <tbody>\n",
       "    <tr>\n",
       "      <th>count</th>\n",
       "      <td>110527</td>\n",
       "      <td>110527</td>\n",
       "      <td>110527</td>\n",
       "      <td>110527</td>\n",
       "      <td>110527</td>\n",
       "      <td>110527</td>\n",
       "      <td>110527</td>\n",
       "      <td>110527</td>\n",
       "      <td>110527</td>\n",
       "      <td>110527</td>\n",
       "      <td>110527</td>\n",
       "      <td>110527</td>\n",
       "      <td>110527</td>\n",
       "      <td>110527</td>\n",
       "    </tr>\n",
       "    <tr>\n",
       "      <th>unique</th>\n",
       "      <td>62299</td>\n",
       "      <td>110527</td>\n",
       "      <td>2</td>\n",
       "      <td>103549</td>\n",
       "      <td>27</td>\n",
       "      <td>104</td>\n",
       "      <td>81</td>\n",
       "      <td>2</td>\n",
       "      <td>2</td>\n",
       "      <td>2</td>\n",
       "      <td>2</td>\n",
       "      <td>5</td>\n",
       "      <td>2</td>\n",
       "      <td>2</td>\n",
       "    </tr>\n",
       "    <tr>\n",
       "      <th>top</th>\n",
       "      <td>822145925426128</td>\n",
       "      <td>5579643</td>\n",
       "      <td>F</td>\n",
       "      <td>2016-05-06T07:09:54Z</td>\n",
       "      <td>2016-06-06T00:00:00Z</td>\n",
       "      <td>0</td>\n",
       "      <td>JARDIM CAMBURI</td>\n",
       "      <td>0</td>\n",
       "      <td>0</td>\n",
       "      <td>0</td>\n",
       "      <td>0</td>\n",
       "      <td>0</td>\n",
       "      <td>0</td>\n",
       "      <td>No</td>\n",
       "    </tr>\n",
       "    <tr>\n",
       "      <th>freq</th>\n",
       "      <td>88</td>\n",
       "      <td>1</td>\n",
       "      <td>71840</td>\n",
       "      <td>24</td>\n",
       "      <td>4692</td>\n",
       "      <td>3539</td>\n",
       "      <td>7717</td>\n",
       "      <td>99666</td>\n",
       "      <td>88726</td>\n",
       "      <td>102584</td>\n",
       "      <td>107167</td>\n",
       "      <td>108286</td>\n",
       "      <td>75045</td>\n",
       "      <td>88208</td>\n",
       "    </tr>\n",
       "  </tbody>\n",
       "</table>\n",
       "</div>"
      ],
      "text/plain": [
       "              PatientId AppointmentID  Gender          ScheduledDay  \\\n",
       "count            110527        110527  110527                110527   \n",
       "unique            62299        110527       2                103549   \n",
       "top     822145925426128       5579643       F  2016-05-06T07:09:54Z   \n",
       "freq                 88             1   71840                    24   \n",
       "\n",
       "              AppointmentDay     Age   Neighbourhood Scholarship Hipertension  \\\n",
       "count                 110527  110527          110527      110527       110527   \n",
       "unique                    27     104              81           2            2   \n",
       "top     2016-06-06T00:00:00Z       0  JARDIM CAMBURI           0            0   \n",
       "freq                    4692    3539            7717       99666        88726   \n",
       "\n",
       "       Diabetes Alcoholism Handcap SMS_received No-show  \n",
       "count    110527     110527  110527       110527  110527  \n",
       "unique        2          2       5            2       2  \n",
       "top           0          0       0            0      No  \n",
       "freq     102584     107167  108286        75045   88208  "
      ]
     },
     "execution_count": 242,
     "metadata": {},
     "output_type": "execute_result"
    }
   ],
   "source": [
    "df.describe()"
   ]
  },
  {
   "cell_type": "markdown",
   "metadata": {},
   "source": [
    "Using the Pandas df.describe function to show some more insights about the dataset. The output of this function depends of the data types that are stored in the dataframe.\n",
    "\n",
    "In this case, the output shows some interesting information:\n",
    "\n",
    "The row \"unique\" shows the count of unique values for each column.<br/>\n",
    "--> 110527 unique values in the column \"AppointmentID\" (ok, no double appointment data).<br/>\n",
    "--> less unique values in the column \"PatientID\" (plausible, Patients usually have more than one Appointment at the same doctor).<br/>\n",
    "--> 2 unique values for gender (ok, male/female)<br/>\n",
    "--> 104 unique vales in the \"Age\" column (plausible)<br/>\n",
    "\n",
    "The rows \"top\" and \"freq\" show the values which occured most frequently and how often they occured in a specific column.\n",
    "--> most patients were recorded with the age 0 (plausible, children in their first year of life)<br/>\n",
    "--> 5 unique values for the column \"Handcap\" (interesting, because the other columns which tell something about the patients diseases (e.g. \"Diabetes\" or \"Alcoholism\") only contain 2 unique values (0 for FALSE, 1 for TRUE) --> further inspection of this column to check the unique values.\n",
    "\n",
    "(Source: https://pandas.pydata.org/pandas-docs/stable/reference/api/pandas.DataFrame.describe.html)\n",
    "\n",
    "\n"
   ]
  },
  {
   "cell_type": "code",
   "execution_count": 243,
   "metadata": {
    "scrolled": false
   },
   "outputs": [
    {
     "data": {
      "text/plain": [
       "array(['0', '1', '2', '3', '4'], dtype=object)"
      ]
     },
     "execution_count": 243,
     "metadata": {},
     "output_type": "execute_result"
    }
   ],
   "source": [
    "df['Handcap'].unique()"
   ]
  },
  {
   "cell_type": "markdown",
   "metadata": {},
   "source": [
    "Printing out the unique values of column \"Handcap\". \n",
    "The description for this column on kaggle says that \"Handcap\" only has the values TRUE(=1) or FALSE(=0). \n",
    "\n",
    "(Source: https://www.kaggle.com/joniarroba/noshowappointments)\n",
    "\n",
    "In our dataset, we have the 5 unique values shown in the array above which does not match with the description on kaggle. In the following steps, the column data will be cleaned (0 = False, 1-4 = True) to make it comparable with the other columns. "
   ]
  },
  {
   "cell_type": "markdown",
   "metadata": {},
   "source": [
    "### Data Cleaning"
   ]
  },
  {
   "cell_type": "markdown",
   "metadata": {},
   "source": [
    "**Cleaning step 1: cleaning column \"Handcap\"**"
   ]
  },
  {
   "cell_type": "code",
   "execution_count": 244,
   "metadata": {
    "scrolled": true
   },
   "outputs": [
    {
     "data": {
      "text/plain": [
       "array([0, 1])"
      ]
     },
     "execution_count": 244,
     "metadata": {},
     "output_type": "execute_result"
    }
   ],
   "source": [
    "df = df.astype({'Handcap':'int64'})\n",
    "\n",
    "df['Handcap'] = np.where(df['Handcap'] > 1, 1, df['Handcap'])\n",
    "\n",
    "df['Handcap'].unique()"
   ]
  },
  {
   "cell_type": "markdown",
   "metadata": {},
   "source": [
    "Cleaning the column \"Handcap\": \n",
    "\n",
    "--> changed data type of the column's values to int64 using the datafram.astype function \n",
    "\n",
    "(Source: https://pandas.pydata.org/pandas-docs/stable/reference/api/pandas.DataFrame.astype.html)\n",
    "\n",
    "--> replaced the values 2,3,4 with 1 (reason: change data type to bool later) by using numpy function \n",
    "\n",
    "(Source: https://numpy.org/doc/stable/reference/generated/numpy.where.html)\n",
    "\n",
    "--> checked the output of the cleaning step: array now only contains values o and 1 --> ok"
   ]
  },
  {
   "cell_type": "markdown",
   "metadata": {},
   "source": [
    "**Cleaning step 2: changing datatypes for columns where needed**"
   ]
  },
  {
   "cell_type": "code",
   "execution_count": 245,
   "metadata": {},
   "outputs": [
    {
     "data": {
      "text/plain": [
       "PatientId                 object\n",
       "AppointmentID             object\n",
       "Gender                    object\n",
       "ScheduledDay      datetime64[ns]\n",
       "AppointmentDay    datetime64[ns]\n",
       "Age                        int64\n",
       "Neighbourhood             object\n",
       "Scholarship                int64\n",
       "Hipertension               int64\n",
       "Diabetes                   int64\n",
       "Alcoholism                 int64\n",
       "Handcap                    int64\n",
       "SMS_received               int64\n",
       "No-show                   object\n",
       "dtype: object"
      ]
     },
     "execution_count": 245,
     "metadata": {},
     "output_type": "execute_result"
    }
   ],
   "source": [
    "dtypeDict = {\n",
    "    \"PatientId\" : \"object\",\n",
    "    \"AppointmentID\" : \"object\",\n",
    "    \"Gender\" : \"object\",\n",
    "    \"ScheduledDay\" : \"datetime64\",\n",
    "    \"AppointmentDay\" : \"datetime64\",\n",
    "    \"Age\" : \"int64\",\n",
    "    \"Neighbourhood\" : \"object\",\n",
    "    \"Scholarship\" : \"int64\",\n",
    "    \"Hipertension\" : \"int64\",\n",
    "    \"Diabetes\" : \"int64\",\n",
    "    \"Alcoholism\" : \"int64\",\n",
    "    \"Handcap\" : \"int64\",\n",
    "    \"SMS_received\" : \"int64\",\n",
    "    \"No-show\" : \"object\"\n",
    "}\n",
    "\n",
    "for col in df:\n",
    "    df[col] = df[col].astype(dtypeDict[col])  \n",
    "    \n",
    "df.dtypes"
   ]
  },
  {
   "cell_type": "markdown",
   "metadata": {},
   "source": [
    "Cleaning the data types for the columns where needed:\n",
    "\n",
    "--> creating the Dictionary dtypeDict containing the column names as Dict keys and the pandas data types to be assigned as values\n",
    "\n",
    "--> looping over the columns and setting the datatype for each column according to the values in the dict\n",
    "\n",
    "--> checking the output by printing out the data types using the df.dtypes function \n",
    "(Source: https://pandas.pydata.org/pandas-docs/stable/reference/api/pandas.DataFrame.dtypes.html)"
   ]
  },
  {
   "cell_type": "code",
   "execution_count": 246,
   "metadata": {},
   "outputs": [
    {
     "data": {
      "text/html": [
       "<div>\n",
       "<style scoped>\n",
       "    .dataframe tbody tr th:only-of-type {\n",
       "        vertical-align: middle;\n",
       "    }\n",
       "\n",
       "    .dataframe tbody tr th {\n",
       "        vertical-align: top;\n",
       "    }\n",
       "\n",
       "    .dataframe thead th {\n",
       "        text-align: right;\n",
       "    }\n",
       "</style>\n",
       "<table border=\"1\" class=\"dataframe\">\n",
       "  <thead>\n",
       "    <tr style=\"text-align: right;\">\n",
       "      <th></th>\n",
       "      <th>PatientId</th>\n",
       "      <th>AppointmentID</th>\n",
       "      <th>Gender</th>\n",
       "      <th>ScheduledDay</th>\n",
       "      <th>AppointmentDay</th>\n",
       "      <th>Age</th>\n",
       "      <th>Neighbourhood</th>\n",
       "      <th>Scholarship</th>\n",
       "      <th>Hipertension</th>\n",
       "      <th>Diabetes</th>\n",
       "      <th>Alcoholism</th>\n",
       "      <th>Handcap</th>\n",
       "      <th>SMS_received</th>\n",
       "      <th>No-show</th>\n",
       "    </tr>\n",
       "  </thead>\n",
       "  <tbody>\n",
       "    <tr>\n",
       "      <th>0</th>\n",
       "      <td>29872499824296</td>\n",
       "      <td>5642903</td>\n",
       "      <td>F</td>\n",
       "      <td>2016-04-29 18:38:08</td>\n",
       "      <td>2016-04-29</td>\n",
       "      <td>62</td>\n",
       "      <td>JARDIM DA PENHA</td>\n",
       "      <td>0</td>\n",
       "      <td>1</td>\n",
       "      <td>0</td>\n",
       "      <td>0</td>\n",
       "      <td>0</td>\n",
       "      <td>0</td>\n",
       "      <td>No</td>\n",
       "    </tr>\n",
       "    <tr>\n",
       "      <th>1</th>\n",
       "      <td>558997776694438</td>\n",
       "      <td>5642503</td>\n",
       "      <td>M</td>\n",
       "      <td>2016-04-29 16:08:27</td>\n",
       "      <td>2016-04-29</td>\n",
       "      <td>56</td>\n",
       "      <td>JARDIM DA PENHA</td>\n",
       "      <td>0</td>\n",
       "      <td>0</td>\n",
       "      <td>0</td>\n",
       "      <td>0</td>\n",
       "      <td>0</td>\n",
       "      <td>0</td>\n",
       "      <td>No</td>\n",
       "    </tr>\n",
       "    <tr>\n",
       "      <th>2</th>\n",
       "      <td>4262962299951</td>\n",
       "      <td>5642549</td>\n",
       "      <td>F</td>\n",
       "      <td>2016-04-29 16:19:04</td>\n",
       "      <td>2016-04-29</td>\n",
       "      <td>62</td>\n",
       "      <td>MATA DA PRAIA</td>\n",
       "      <td>0</td>\n",
       "      <td>0</td>\n",
       "      <td>0</td>\n",
       "      <td>0</td>\n",
       "      <td>0</td>\n",
       "      <td>0</td>\n",
       "      <td>No</td>\n",
       "    </tr>\n",
       "    <tr>\n",
       "      <th>3</th>\n",
       "      <td>867951213174</td>\n",
       "      <td>5642828</td>\n",
       "      <td>F</td>\n",
       "      <td>2016-04-29 17:29:31</td>\n",
       "      <td>2016-04-29</td>\n",
       "      <td>8</td>\n",
       "      <td>PONTAL DE CAMBURI</td>\n",
       "      <td>0</td>\n",
       "      <td>0</td>\n",
       "      <td>0</td>\n",
       "      <td>0</td>\n",
       "      <td>0</td>\n",
       "      <td>0</td>\n",
       "      <td>No</td>\n",
       "    </tr>\n",
       "    <tr>\n",
       "      <th>4</th>\n",
       "      <td>8841186448183</td>\n",
       "      <td>5642494</td>\n",
       "      <td>F</td>\n",
       "      <td>2016-04-29 16:07:23</td>\n",
       "      <td>2016-04-29</td>\n",
       "      <td>56</td>\n",
       "      <td>JARDIM DA PENHA</td>\n",
       "      <td>0</td>\n",
       "      <td>1</td>\n",
       "      <td>1</td>\n",
       "      <td>0</td>\n",
       "      <td>0</td>\n",
       "      <td>0</td>\n",
       "      <td>No</td>\n",
       "    </tr>\n",
       "    <tr>\n",
       "      <th>...</th>\n",
       "      <td>...</td>\n",
       "      <td>...</td>\n",
       "      <td>...</td>\n",
       "      <td>...</td>\n",
       "      <td>...</td>\n",
       "      <td>...</td>\n",
       "      <td>...</td>\n",
       "      <td>...</td>\n",
       "      <td>...</td>\n",
       "      <td>...</td>\n",
       "      <td>...</td>\n",
       "      <td>...</td>\n",
       "      <td>...</td>\n",
       "      <td>...</td>\n",
       "    </tr>\n",
       "    <tr>\n",
       "      <th>110522</th>\n",
       "      <td>2572134369293</td>\n",
       "      <td>5651768</td>\n",
       "      <td>F</td>\n",
       "      <td>2016-05-03 09:15:35</td>\n",
       "      <td>2016-06-07</td>\n",
       "      <td>56</td>\n",
       "      <td>MARIA ORTIZ</td>\n",
       "      <td>0</td>\n",
       "      <td>0</td>\n",
       "      <td>0</td>\n",
       "      <td>0</td>\n",
       "      <td>0</td>\n",
       "      <td>1</td>\n",
       "      <td>No</td>\n",
       "    </tr>\n",
       "    <tr>\n",
       "      <th>110523</th>\n",
       "      <td>3596266328735</td>\n",
       "      <td>5650093</td>\n",
       "      <td>F</td>\n",
       "      <td>2016-05-03 07:27:33</td>\n",
       "      <td>2016-06-07</td>\n",
       "      <td>51</td>\n",
       "      <td>MARIA ORTIZ</td>\n",
       "      <td>0</td>\n",
       "      <td>0</td>\n",
       "      <td>0</td>\n",
       "      <td>0</td>\n",
       "      <td>0</td>\n",
       "      <td>1</td>\n",
       "      <td>No</td>\n",
       "    </tr>\n",
       "    <tr>\n",
       "      <th>110524</th>\n",
       "      <td>15576631729893</td>\n",
       "      <td>5630692</td>\n",
       "      <td>F</td>\n",
       "      <td>2016-04-27 16:03:52</td>\n",
       "      <td>2016-06-07</td>\n",
       "      <td>21</td>\n",
       "      <td>MARIA ORTIZ</td>\n",
       "      <td>0</td>\n",
       "      <td>0</td>\n",
       "      <td>0</td>\n",
       "      <td>0</td>\n",
       "      <td>0</td>\n",
       "      <td>1</td>\n",
       "      <td>No</td>\n",
       "    </tr>\n",
       "    <tr>\n",
       "      <th>110525</th>\n",
       "      <td>92134931435557</td>\n",
       "      <td>5630323</td>\n",
       "      <td>F</td>\n",
       "      <td>2016-04-27 15:09:23</td>\n",
       "      <td>2016-06-07</td>\n",
       "      <td>38</td>\n",
       "      <td>MARIA ORTIZ</td>\n",
       "      <td>0</td>\n",
       "      <td>0</td>\n",
       "      <td>0</td>\n",
       "      <td>0</td>\n",
       "      <td>0</td>\n",
       "      <td>1</td>\n",
       "      <td>No</td>\n",
       "    </tr>\n",
       "    <tr>\n",
       "      <th>110526</th>\n",
       "      <td>377511518121127</td>\n",
       "      <td>5629448</td>\n",
       "      <td>F</td>\n",
       "      <td>2016-04-27 13:30:56</td>\n",
       "      <td>2016-06-07</td>\n",
       "      <td>54</td>\n",
       "      <td>MARIA ORTIZ</td>\n",
       "      <td>0</td>\n",
       "      <td>0</td>\n",
       "      <td>0</td>\n",
       "      <td>0</td>\n",
       "      <td>0</td>\n",
       "      <td>1</td>\n",
       "      <td>No</td>\n",
       "    </tr>\n",
       "  </tbody>\n",
       "</table>\n",
       "<p>110527 rows × 14 columns</p>\n",
       "</div>"
      ],
      "text/plain": [
       "              PatientId AppointmentID Gender        ScheduledDay  \\\n",
       "0        29872499824296       5642903      F 2016-04-29 18:38:08   \n",
       "1       558997776694438       5642503      M 2016-04-29 16:08:27   \n",
       "2         4262962299951       5642549      F 2016-04-29 16:19:04   \n",
       "3          867951213174       5642828      F 2016-04-29 17:29:31   \n",
       "4         8841186448183       5642494      F 2016-04-29 16:07:23   \n",
       "...                 ...           ...    ...                 ...   \n",
       "110522    2572134369293       5651768      F 2016-05-03 09:15:35   \n",
       "110523    3596266328735       5650093      F 2016-05-03 07:27:33   \n",
       "110524   15576631729893       5630692      F 2016-04-27 16:03:52   \n",
       "110525   92134931435557       5630323      F 2016-04-27 15:09:23   \n",
       "110526  377511518121127       5629448      F 2016-04-27 13:30:56   \n",
       "\n",
       "       AppointmentDay  Age      Neighbourhood  Scholarship  Hipertension  \\\n",
       "0          2016-04-29   62    JARDIM DA PENHA            0             1   \n",
       "1          2016-04-29   56    JARDIM DA PENHA            0             0   \n",
       "2          2016-04-29   62      MATA DA PRAIA            0             0   \n",
       "3          2016-04-29    8  PONTAL DE CAMBURI            0             0   \n",
       "4          2016-04-29   56    JARDIM DA PENHA            0             1   \n",
       "...               ...  ...                ...          ...           ...   \n",
       "110522     2016-06-07   56        MARIA ORTIZ            0             0   \n",
       "110523     2016-06-07   51        MARIA ORTIZ            0             0   \n",
       "110524     2016-06-07   21        MARIA ORTIZ            0             0   \n",
       "110525     2016-06-07   38        MARIA ORTIZ            0             0   \n",
       "110526     2016-06-07   54        MARIA ORTIZ            0             0   \n",
       "\n",
       "        Diabetes  Alcoholism  Handcap  SMS_received No-show  \n",
       "0              0           0        0             0      No  \n",
       "1              0           0        0             0      No  \n",
       "2              0           0        0             0      No  \n",
       "3              0           0        0             0      No  \n",
       "4              1           0        0             0      No  \n",
       "...          ...         ...      ...           ...     ...  \n",
       "110522         0           0        0             1      No  \n",
       "110523         0           0        0             1      No  \n",
       "110524         0           0        0             1      No  \n",
       "110525         0           0        0             1      No  \n",
       "110526         0           0        0             1      No  \n",
       "\n",
       "[110527 rows x 14 columns]"
      ]
     },
     "execution_count": 246,
     "metadata": {},
     "output_type": "execute_result"
    }
   ],
   "source": [
    "df"
   ]
  },
  {
   "cell_type": "markdown",
   "metadata": {},
   "source": [
    "<a id='eda'></a>\n",
    "## Exploratory Data Analysis"
   ]
  },
  {
   "cell_type": "markdown",
   "metadata": {},
   "source": [
    "Research questions:\n",
    "\n",
    "1: People of which age group are most likely not showing up at appointments?\n",
    "\n",
    "2: Patients from which neighbourhoods are more likely to miss an appointment?\n",
    "\n",
    "3: Is there an influence of diseases or a physical handicap?\n",
    "\n",
    "4: Does a scholarship from Bolsa Familia welfare program increase the chance of patients showing up at their appointments?"
   ]
  },
  {
   "cell_type": "markdown",
   "metadata": {},
   "source": [
    "### 1:  People of which age group are most likely not showing up at appointments? "
   ]
  },
  {
   "cell_type": "markdown",
   "metadata": {},
   "source": [
    "Adding a column to the df based on predefined agegroups to see differences between the age groups.\n",
    "\n",
    "Creating a list of conditions and matching the age group to every row in the dataframe by using the np.select function.\n",
    "(Source: https://numpy.org/doc/stable/reference/generated/numpy.select.html)"
   ]
  },
  {
   "cell_type": "code",
   "execution_count": 247,
   "metadata": {},
   "outputs": [
    {
     "data": {
      "text/html": [
       "<div>\n",
       "<style scoped>\n",
       "    .dataframe tbody tr th:only-of-type {\n",
       "        vertical-align: middle;\n",
       "    }\n",
       "\n",
       "    .dataframe tbody tr th {\n",
       "        vertical-align: top;\n",
       "    }\n",
       "\n",
       "    .dataframe thead th {\n",
       "        text-align: right;\n",
       "    }\n",
       "</style>\n",
       "<table border=\"1\" class=\"dataframe\">\n",
       "  <thead>\n",
       "    <tr style=\"text-align: right;\">\n",
       "      <th></th>\n",
       "      <th>PatientId</th>\n",
       "      <th>AppointmentID</th>\n",
       "      <th>Gender</th>\n",
       "      <th>ScheduledDay</th>\n",
       "      <th>AppointmentDay</th>\n",
       "      <th>Age</th>\n",
       "      <th>Neighbourhood</th>\n",
       "      <th>Scholarship</th>\n",
       "      <th>Hipertension</th>\n",
       "      <th>Diabetes</th>\n",
       "      <th>Alcoholism</th>\n",
       "      <th>Handcap</th>\n",
       "      <th>SMS_received</th>\n",
       "      <th>No-show</th>\n",
       "      <th>Age Group</th>\n",
       "    </tr>\n",
       "  </thead>\n",
       "  <tbody>\n",
       "    <tr>\n",
       "      <th>0</th>\n",
       "      <td>29872499824296</td>\n",
       "      <td>5642903</td>\n",
       "      <td>F</td>\n",
       "      <td>2016-04-29 18:38:08</td>\n",
       "      <td>2016-04-29</td>\n",
       "      <td>62</td>\n",
       "      <td>JARDIM DA PENHA</td>\n",
       "      <td>0</td>\n",
       "      <td>1</td>\n",
       "      <td>0</td>\n",
       "      <td>0</td>\n",
       "      <td>0</td>\n",
       "      <td>0</td>\n",
       "      <td>No</td>\n",
       "      <td>age &gt; 60</td>\n",
       "    </tr>\n",
       "    <tr>\n",
       "      <th>1</th>\n",
       "      <td>558997776694438</td>\n",
       "      <td>5642503</td>\n",
       "      <td>M</td>\n",
       "      <td>2016-04-29 16:08:27</td>\n",
       "      <td>2016-04-29</td>\n",
       "      <td>56</td>\n",
       "      <td>JARDIM DA PENHA</td>\n",
       "      <td>0</td>\n",
       "      <td>0</td>\n",
       "      <td>0</td>\n",
       "      <td>0</td>\n",
       "      <td>0</td>\n",
       "      <td>0</td>\n",
       "      <td>No</td>\n",
       "      <td>age 50-59</td>\n",
       "    </tr>\n",
       "    <tr>\n",
       "      <th>2</th>\n",
       "      <td>4262962299951</td>\n",
       "      <td>5642549</td>\n",
       "      <td>F</td>\n",
       "      <td>2016-04-29 16:19:04</td>\n",
       "      <td>2016-04-29</td>\n",
       "      <td>62</td>\n",
       "      <td>MATA DA PRAIA</td>\n",
       "      <td>0</td>\n",
       "      <td>0</td>\n",
       "      <td>0</td>\n",
       "      <td>0</td>\n",
       "      <td>0</td>\n",
       "      <td>0</td>\n",
       "      <td>No</td>\n",
       "      <td>age &gt; 60</td>\n",
       "    </tr>\n",
       "    <tr>\n",
       "      <th>3</th>\n",
       "      <td>867951213174</td>\n",
       "      <td>5642828</td>\n",
       "      <td>F</td>\n",
       "      <td>2016-04-29 17:29:31</td>\n",
       "      <td>2016-04-29</td>\n",
       "      <td>8</td>\n",
       "      <td>PONTAL DE CAMBURI</td>\n",
       "      <td>0</td>\n",
       "      <td>0</td>\n",
       "      <td>0</td>\n",
       "      <td>0</td>\n",
       "      <td>0</td>\n",
       "      <td>0</td>\n",
       "      <td>No</td>\n",
       "      <td>age 0-15</td>\n",
       "    </tr>\n",
       "    <tr>\n",
       "      <th>4</th>\n",
       "      <td>8841186448183</td>\n",
       "      <td>5642494</td>\n",
       "      <td>F</td>\n",
       "      <td>2016-04-29 16:07:23</td>\n",
       "      <td>2016-04-29</td>\n",
       "      <td>56</td>\n",
       "      <td>JARDIM DA PENHA</td>\n",
       "      <td>0</td>\n",
       "      <td>1</td>\n",
       "      <td>1</td>\n",
       "      <td>0</td>\n",
       "      <td>0</td>\n",
       "      <td>0</td>\n",
       "      <td>No</td>\n",
       "      <td>age 50-59</td>\n",
       "    </tr>\n",
       "  </tbody>\n",
       "</table>\n",
       "</div>"
      ],
      "text/plain": [
       "         PatientId AppointmentID Gender        ScheduledDay AppointmentDay  \\\n",
       "0   29872499824296       5642903      F 2016-04-29 18:38:08     2016-04-29   \n",
       "1  558997776694438       5642503      M 2016-04-29 16:08:27     2016-04-29   \n",
       "2    4262962299951       5642549      F 2016-04-29 16:19:04     2016-04-29   \n",
       "3     867951213174       5642828      F 2016-04-29 17:29:31     2016-04-29   \n",
       "4    8841186448183       5642494      F 2016-04-29 16:07:23     2016-04-29   \n",
       "\n",
       "   Age      Neighbourhood  Scholarship  Hipertension  Diabetes  Alcoholism  \\\n",
       "0   62    JARDIM DA PENHA            0             1         0           0   \n",
       "1   56    JARDIM DA PENHA            0             0         0           0   \n",
       "2   62      MATA DA PRAIA            0             0         0           0   \n",
       "3    8  PONTAL DE CAMBURI            0             0         0           0   \n",
       "4   56    JARDIM DA PENHA            0             1         1           0   \n",
       "\n",
       "   Handcap  SMS_received No-show  Age Group  \n",
       "0        0             0      No   age > 60  \n",
       "1        0             0      No  age 50-59  \n",
       "2        0             0      No   age > 60  \n",
       "3        0             0      No   age 0-15  \n",
       "4        0             0      No  age 50-59  "
      ]
     },
     "execution_count": 247,
     "metadata": {},
     "output_type": "execute_result"
    }
   ],
   "source": [
    "conditions = [\n",
    "    (df['Age'] >= 0) & (df['Age'] < 16),\n",
    "    (df['Age'] >= 16) & (df['Age'] < 20),\n",
    "    (df['Age'] >= 20) & (df['Age'] < 30),\n",
    "    (df['Age'] >= 30) & (df['Age'] < 50),\n",
    "    (df['Age'] >= 50) & (df['Age'] < 60),\n",
    "    (df['Age'] >= 60)\n",
    "    ]\n",
    "\n",
    "agegroups = ['age 0-15', 'age 16-19', 'age 20-29', 'age 30-49', 'age 50-59','age > 60']\n",
    "\n",
    "df['Age Group'] = np.select(conditions, agegroups)\n",
    "\n",
    "df.head()"
   ]
  },
  {
   "cell_type": "markdown",
   "metadata": {},
   "source": [
    "Looking at each age group and counting how many appointments were missed (each appointment counts, it is not taken into account that there could be multiple records for one patient).\n",
    "\n",
    "Using the df.value_counts() set normalize=True to see ratio of no-show appointments compared to appointments where patients showed up. \n"
   ]
  },
  {
   "cell_type": "code",
   "execution_count": 248,
   "metadata": {},
   "outputs": [
    {
     "data": {
      "text/plain": [
       "Age Group  No-show\n",
       "0          No         1.000000\n",
       "age 0-15   No         0.785516\n",
       "           Yes        0.214484\n",
       "age 16-19  No         0.748780\n",
       "           Yes        0.251220\n",
       "age 20-29  No         0.753267\n",
       "           Yes        0.246733\n",
       "age 30-49  No         0.789653\n",
       "           Yes        0.210347\n",
       "age 50-59  No         0.825002\n",
       "           Yes        0.174998\n",
       "age > 60   No         0.846880\n",
       "           Yes        0.153120\n",
       "Name: No-show, dtype: float64"
      ]
     },
     "execution_count": 248,
     "metadata": {},
     "output_type": "execute_result"
    }
   ],
   "source": [
    "df_grouped = df.groupby(\"Age Group\")\n",
    "\n",
    "result = df_grouped['No-show'].value_counts(normalize=True)\n",
    "\n",
    "result"
   ]
  },
  {
   "cell_type": "markdown",
   "metadata": {},
   "source": [
    "Sorting the age groups by highest no-show ratios. \n",
    "\n",
    "Filtering the result series to only show no-show ratios and sorting the series descending. "
   ]
  },
  {
   "cell_type": "code",
   "execution_count": 249,
   "metadata": {},
   "outputs": [
    {
     "data": {
      "text/plain": [
       "Age Group  No-show\n",
       "age 16-19  Yes        0.251220\n",
       "age 20-29  Yes        0.246733\n",
       "age 0-15   Yes        0.214484\n",
       "age 30-49  Yes        0.210347\n",
       "age 50-59  Yes        0.174998\n",
       "age > 60   Yes        0.153120\n",
       "Name: No-show, dtype: float64"
      ]
     },
     "execution_count": 249,
     "metadata": {},
     "output_type": "execute_result"
    }
   ],
   "source": [
    "result_noshow = result.filter(like='Yes', axis=0)\n",
    "\n",
    "result_noshow.sort_values(ascending=False)\n"
   ]
  },
  {
   "cell_type": "markdown",
   "metadata": {},
   "source": [
    "Result: The age group with the highest ratio of no-show appointments is from age 16-19. "
   ]
  },
  {
   "cell_type": "markdown",
   "metadata": {},
   "source": [
    "### 2: Patients from which neighbourhoods are most likely to miss an appointment? "
   ]
  },
  {
   "cell_type": "markdown",
   "metadata": {},
   "source": [
    "Filtering for only the No-show appointments, grouping by neighbourhood and counting the rows for each neighbourhood. Sorting the result in descending order to show neigbourhood with highes no-show rate (using normalized values)."
   ]
  },
  {
   "cell_type": "code",
   "execution_count": 250,
   "metadata": {},
   "outputs": [
    {
     "data": {
      "text/plain": [
       "Neighbourhood                No-show\n",
       "ILHAS OCEÂNICAS DE TRINDADE  Yes        1.000000\n",
       "SANTOS DUMONT                Yes        0.289185\n",
       "SANTA CECÍLIA                Yes        0.274554\n",
       "SANTA CLARA                  Yes        0.264822\n",
       "ITARARÉ                      Yes        0.262664\n",
       "                                          ...   \n",
       "DE LOURDES                   Yes        0.154098\n",
       "SOLON BORGES                 Yes        0.147122\n",
       "MÁRIO CYPRESTE               Yes        0.145553\n",
       "AEROPORTO                    Yes        0.125000\n",
       "ILHA DO BOI                  Yes        0.085714\n",
       "Name: No-show, Length: 80, dtype: float64"
      ]
     },
     "execution_count": 250,
     "metadata": {},
     "output_type": "execute_result"
    }
   ],
   "source": [
    "nbh_grouped = df.groupby(\"Neighbourhood\")\n",
    "\n",
    "nbh_result = nbh_grouped['No-show'].value_counts(normalize=True).filter(like='Yes', axis=0).sort_values(ascending=False)\n",
    "\n",
    "nbh_result\n"
   ]
  },
  {
   "cell_type": "markdown",
   "metadata": {},
   "source": [
    "Result: the neighbourhood of ILHAS OCEÂNICAS DE TRINDADE has the highes no-show rate (rate = 1 --> need to take a look at absolute number of entries for this neighbourhood as it seems to be a very low number of entries or even just 1)."
   ]
  },
  {
   "cell_type": "markdown",
   "metadata": {},
   "source": [
    "Showing the absolut numbers of entries for first 3 neighbourhoods as ILHAS OCEÂNICAS DE TRINDADE seems to be an outlier. "
   ]
  },
  {
   "cell_type": "code",
   "execution_count": 251,
   "metadata": {},
   "outputs": [
    {
     "data": {
      "text/plain": [
       "Neighbourhood                No-show\n",
       "ILHAS OCEÂNICAS DE TRINDADE  Yes          2\n",
       "SANTA CECÍLIA                No         325\n",
       "                             Yes        123\n",
       "SANTOS DUMONT                No         907\n",
       "                             Yes        369\n",
       "Name: No-show, dtype: int64"
      ]
     },
     "execution_count": 251,
     "metadata": {},
     "output_type": "execute_result"
    }
   ],
   "source": [
    "nbh_count_abs = df.groupby(\"Neighbourhood\")['No-show'].value_counts()\n",
    "\n",
    "nbh_count_abs.loc[['ILHAS OCEÂNICAS DE TRINDADE','SANTOS DUMONT','SANTA CECÍLIA']]"
   ]
  },
  {
   "cell_type": "markdown",
   "metadata": {},
   "source": [
    "Result: ILHAS OCEÂNICAS DE TRINDADE has only 2 entries in total which were both no-show appointments, therefore this result can be disregarded as there is not a significant number of entries.\n",
    "\n",
    "Therefore, SANTA CECÍLIA can be stated as the neighbourhood with the highes rate of no-show appointments."
   ]
  },
  {
   "cell_type": "markdown",
   "metadata": {},
   "source": [
    "### 3: Is there an influence of diseases or physical handicaps? "
   ]
  },
  {
   "cell_type": "markdown",
   "metadata": {},
   "source": [
    "Writing a function that calculates the no-show ratio for the given disease (e.g. Alcoholism). Calling that function for every single disease to compare No-show ratio of patients with disease vs. ratio of patients without disease."
   ]
  },
  {
   "cell_type": "code",
   "execution_count": 252,
   "metadata": {},
   "outputs": [
    {
     "data": {
      "text/plain": [
       "Diabetes  No-show\n",
       "0         Yes        0.203628\n",
       "1         Yes        0.180033\n",
       "Name: No-show, dtype: float64"
      ]
     },
     "execution_count": 252,
     "metadata": {},
     "output_type": "execute_result"
    }
   ],
   "source": [
    "def noshow_dis(diseases):\n",
    "  for x in diseases:\n",
    "    x_grouped = df.groupby(diseases)\n",
    "    x_result = x_grouped['No-show'].value_counts(normalize=True).filter(like='Yes', axis=0).sort_values(ascending=False)\n",
    "    return x_result\n",
    "    \n",
    "noshow_dis(\"Diabetes\")"
   ]
  },
  {
   "cell_type": "code",
   "execution_count": 253,
   "metadata": {},
   "outputs": [
    {
     "data": {
      "text/plain": [
       "Hipertension  No-show\n",
       "0             Yes        0.209037\n",
       "1             Yes        0.173020\n",
       "Name: No-show, dtype: float64"
      ]
     },
     "execution_count": 253,
     "metadata": {},
     "output_type": "execute_result"
    }
   ],
   "source": [
    "noshow_dis(\"Hipertension\")"
   ]
  },
  {
   "cell_type": "code",
   "execution_count": 254,
   "metadata": {},
   "outputs": [
    {
     "data": {
      "text/plain": [
       "Alcoholism  No-show\n",
       "0           Yes        0.201946\n",
       "1           Yes        0.201488\n",
       "Name: No-show, dtype: float64"
      ]
     },
     "execution_count": 254,
     "metadata": {},
     "output_type": "execute_result"
    }
   ],
   "source": [
    "noshow_dis(\"Alcoholism\")"
   ]
  },
  {
   "cell_type": "code",
   "execution_count": 255,
   "metadata": {},
   "outputs": [
    {
     "data": {
      "text/plain": [
       "Handcap  No-show\n",
       "0        Yes        0.202353\n",
       "1        Yes        0.181615\n",
       "Name: No-show, dtype: float64"
      ]
     },
     "execution_count": 255,
     "metadata": {},
     "output_type": "execute_result"
    }
   ],
   "source": [
    "noshow_dis(\"Handcap\")"
   ]
  },
  {
   "cell_type": "markdown",
   "metadata": {},
   "source": [
    "RESULT: Alcoholism seem to have no influence on the likelyness of patients showing up at their appointment. The No-Show rates for people with alcoholism are about the same.\n",
    "\n",
    "For other diseases or handycaps, the no-show rates are a bit lower compared to patients without the diseases or handycaps."
   ]
  },
  {
   "cell_type": "markdown",
   "metadata": {},
   "source": [
    "### 4: Does a scholarship from Bolsa Familia welfare program increase the chance of patients showing up at their appointments?"
   ]
  },
  {
   "cell_type": "markdown",
   "metadata": {},
   "source": [
    "Applying the noshow_dis() function to see if there is an influence of the Bolsa Familia Scholarship."
   ]
  },
  {
   "cell_type": "code",
   "execution_count": 256,
   "metadata": {},
   "outputs": [
    {
     "data": {
      "text/plain": [
       "Scholarship  No-show\n",
       "1            Yes        0.237363\n",
       "0            Yes        0.198072\n",
       "Name: No-show, dtype: float64"
      ]
     },
     "execution_count": 256,
     "metadata": {},
     "output_type": "execute_result"
    }
   ],
   "source": [
    "noshow_dis(\"Scholarship\")"
   ]
  },
  {
   "cell_type": "markdown",
   "metadata": {},
   "source": [
    "Result: A Scholarship does not increase the chance of patients showing up at their appointment. In fact, the no-show rate for patients without a sholarship is lower than for people who take part in the welfare program. "
   ]
  },
  {
   "cell_type": "markdown",
   "metadata": {},
   "source": [
    "<a id='conclusions'></a>\n",
    "## Conclusions"
   ]
  },
  {
   "cell_type": "markdown",
   "metadata": {},
   "source": [
    "People from the age group of 16-19 years have the highest no-show ratio compared to other age groups. \n",
    "\n",
    "Furthermore, the patients from SANTA CECÍLIA neighbourhood have the highes ratio of no-show appointments.\n",
    "\n",
    "Diseases and handycaps seem to have an influence on the likelyness of patients showing up at their doctors appointment as there are lower no-show rates compared to people without these specific diseases. There is no statistical proof of this theory as no statistical tests have been performed, it is just a tendency that can be seen through the data.\n",
    "\n",
    "Alcoholism seems to have no influence on the behaviour of patients as there is a similiar no-show ration compared to patients without alcoholism. \n",
    "\n",
    "A Scholarship does not increase the ratio of patients showing up at their appointment. In fact, the no-show rate for patients without a sholarship is lower than for people who take part in the welfare program. \n",
    "\n",
    "The results of this analysis are limited as only the normalized no-show ratio has taken into account to compare, for example, different age groups or people with or without a disease. The absolute number of entries which could give an idea how significant a group of entries could be was only taken into account at the neighbourhood comparison. \n",
    "Therefore, the results only give a first tendency how likely it is that patients with specific properties (according to the dataset) show up at their appointments. \n",
    "\n",
    "For further investigation of the patients data, some kind of no-show score (which combines all properties which have an influence on the now-show ratio) could be calculated, but this exceeds the time frame of this project."
   ]
  }
 ],
 "metadata": {
  "kernelspec": {
   "display_name": "Python 3",
   "language": "python",
   "name": "python3"
  },
  "language_info": {
   "codemirror_mode": {
    "name": "ipython",
    "version": 3
   },
   "file_extension": ".py",
   "mimetype": "text/x-python",
   "name": "python",
   "nbconvert_exporter": "python",
   "pygments_lexer": "ipython3",
   "version": "3.7.6"
  }
 },
 "nbformat": 4,
 "nbformat_minor": 2
}
