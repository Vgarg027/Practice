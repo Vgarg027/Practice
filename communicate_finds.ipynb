{
 "cells": [
  {
   "cell_type": "markdown",
   "id": "9abaf7a4",
   "metadata": {
    "slideshow": {
     "slide_type": "slide"
    }
   },
   "source": [
    "# Ford's Go bike system data communication"
   ]
  },
  {
   "cell_type": "markdown",
   "id": "536c4986",
   "metadata": {
    "slideshow": {
     "slide_type": "skip"
    }
   },
   "source": [
    "### Introduction "
   ]
  },
  {
   "cell_type": "markdown",
   "id": "8f74c93f",
   "metadata": {
    "slideshow": {
     "slide_type": "slide"
    }
   },
   "source": [
    "This project aims to show the importance of data visualization as a part of the data analysis process. This project will consist of data gathering, assesment and cleaning that will be done on one of the provided data sets, and will be concluded by using the pyhton visualization libraries to make conclusions."
   ]
  },
  {
   "cell_type": "markdown",
   "id": "8f19de17",
   "metadata": {
    "slideshow": {
     "slide_type": "skip"
    }
   },
   "source": [
    "###  Importing python libraries"
   ]
  },
  {
   "cell_type": "code",
   "execution_count": 1,
   "id": "edfcb604",
   "metadata": {
    "slideshow": {
     "slide_type": "skip"
    }
   },
   "outputs": [],
   "source": [
    "import pandas as pd \n",
    "import numpy as np\n",
    "import matplotlib.pyplot as plt\n",
    "from matplotlib import figure\n",
    "from matplotlib.pyplot import figure\n",
    "from matplotlib.ticker import FuncFormatter\n",
    "import seaborn as sns\n",
    "import seaborn as sb\n",
    "from matplotlib.pyplot import figure\n",
    "%matplotlib inline\n",
    "import calendar"
   ]
  },
  {
   "cell_type": "markdown",
   "id": "6889e974",
   "metadata": {
    "slideshow": {
     "slide_type": "skip"
    }
   },
   "source": [
    "###  Data gathering"
   ]
  },
  {
   "cell_type": "code",
   "execution_count": 2,
   "id": "6d53ee99",
   "metadata": {
    "slideshow": {
     "slide_type": "skip"
    }
   },
   "outputs": [
    {
     "data": {
      "text/html": [
       "<div>\n",
       "<style scoped>\n",
       "    .dataframe tbody tr th:only-of-type {\n",
       "        vertical-align: middle;\n",
       "    }\n",
       "\n",
       "    .dataframe tbody tr th {\n",
       "        vertical-align: top;\n",
       "    }\n",
       "\n",
       "    .dataframe thead th {\n",
       "        text-align: right;\n",
       "    }\n",
       "</style>\n",
       "<table border=\"1\" class=\"dataframe\">\n",
       "  <thead>\n",
       "    <tr style=\"text-align: right;\">\n",
       "      <th></th>\n",
       "      <th>duration_sec</th>\n",
       "      <th>start_time</th>\n",
       "      <th>end_time</th>\n",
       "      <th>start_station_id</th>\n",
       "      <th>start_station_name</th>\n",
       "      <th>start_station_latitude</th>\n",
       "      <th>start_station_longitude</th>\n",
       "      <th>end_station_id</th>\n",
       "      <th>end_station_name</th>\n",
       "      <th>end_station_latitude</th>\n",
       "      <th>end_station_longitude</th>\n",
       "      <th>bike_id</th>\n",
       "      <th>user_type</th>\n",
       "      <th>member_birth_year</th>\n",
       "      <th>member_gender</th>\n",
       "      <th>bike_share_for_all_trip</th>\n",
       "    </tr>\n",
       "  </thead>\n",
       "  <tbody>\n",
       "    <tr>\n",
       "      <th>0</th>\n",
       "      <td>52185</td>\n",
       "      <td>2019-02-28 17:32:10.1450</td>\n",
       "      <td>2019-03-01 08:01:55.9750</td>\n",
       "      <td>21.0</td>\n",
       "      <td>Montgomery St BART Station (Market St at 2nd St)</td>\n",
       "      <td>37.789625</td>\n",
       "      <td>-122.400811</td>\n",
       "      <td>13.0</td>\n",
       "      <td>Commercial St at Montgomery St</td>\n",
       "      <td>37.794231</td>\n",
       "      <td>-122.402923</td>\n",
       "      <td>4902</td>\n",
       "      <td>Customer</td>\n",
       "      <td>1984.0</td>\n",
       "      <td>Male</td>\n",
       "      <td>No</td>\n",
       "    </tr>\n",
       "    <tr>\n",
       "      <th>1</th>\n",
       "      <td>42521</td>\n",
       "      <td>2019-02-28 18:53:21.7890</td>\n",
       "      <td>2019-03-01 06:42:03.0560</td>\n",
       "      <td>23.0</td>\n",
       "      <td>The Embarcadero at Steuart St</td>\n",
       "      <td>37.791464</td>\n",
       "      <td>-122.391034</td>\n",
       "      <td>81.0</td>\n",
       "      <td>Berry St at 4th St</td>\n",
       "      <td>37.775880</td>\n",
       "      <td>-122.393170</td>\n",
       "      <td>2535</td>\n",
       "      <td>Customer</td>\n",
       "      <td>NaN</td>\n",
       "      <td>NaN</td>\n",
       "      <td>No</td>\n",
       "    </tr>\n",
       "    <tr>\n",
       "      <th>2</th>\n",
       "      <td>61854</td>\n",
       "      <td>2019-02-28 12:13:13.2180</td>\n",
       "      <td>2019-03-01 05:24:08.1460</td>\n",
       "      <td>86.0</td>\n",
       "      <td>Market St at Dolores St</td>\n",
       "      <td>37.769305</td>\n",
       "      <td>-122.426826</td>\n",
       "      <td>3.0</td>\n",
       "      <td>Powell St BART Station (Market St at 4th St)</td>\n",
       "      <td>37.786375</td>\n",
       "      <td>-122.404904</td>\n",
       "      <td>5905</td>\n",
       "      <td>Customer</td>\n",
       "      <td>1972.0</td>\n",
       "      <td>Male</td>\n",
       "      <td>No</td>\n",
       "    </tr>\n",
       "    <tr>\n",
       "      <th>3</th>\n",
       "      <td>36490</td>\n",
       "      <td>2019-02-28 17:54:26.0100</td>\n",
       "      <td>2019-03-01 04:02:36.8420</td>\n",
       "      <td>375.0</td>\n",
       "      <td>Grove St at Masonic Ave</td>\n",
       "      <td>37.774836</td>\n",
       "      <td>-122.446546</td>\n",
       "      <td>70.0</td>\n",
       "      <td>Central Ave at Fell St</td>\n",
       "      <td>37.773311</td>\n",
       "      <td>-122.444293</td>\n",
       "      <td>6638</td>\n",
       "      <td>Subscriber</td>\n",
       "      <td>1989.0</td>\n",
       "      <td>Other</td>\n",
       "      <td>No</td>\n",
       "    </tr>\n",
       "    <tr>\n",
       "      <th>4</th>\n",
       "      <td>1585</td>\n",
       "      <td>2019-02-28 23:54:18.5490</td>\n",
       "      <td>2019-03-01 00:20:44.0740</td>\n",
       "      <td>7.0</td>\n",
       "      <td>Frank H Ogawa Plaza</td>\n",
       "      <td>37.804562</td>\n",
       "      <td>-122.271738</td>\n",
       "      <td>222.0</td>\n",
       "      <td>10th Ave at E 15th St</td>\n",
       "      <td>37.792714</td>\n",
       "      <td>-122.248780</td>\n",
       "      <td>4898</td>\n",
       "      <td>Subscriber</td>\n",
       "      <td>1974.0</td>\n",
       "      <td>Male</td>\n",
       "      <td>Yes</td>\n",
       "    </tr>\n",
       "    <tr>\n",
       "      <th>...</th>\n",
       "      <td>...</td>\n",
       "      <td>...</td>\n",
       "      <td>...</td>\n",
       "      <td>...</td>\n",
       "      <td>...</td>\n",
       "      <td>...</td>\n",
       "      <td>...</td>\n",
       "      <td>...</td>\n",
       "      <td>...</td>\n",
       "      <td>...</td>\n",
       "      <td>...</td>\n",
       "      <td>...</td>\n",
       "      <td>...</td>\n",
       "      <td>...</td>\n",
       "      <td>...</td>\n",
       "      <td>...</td>\n",
       "    </tr>\n",
       "    <tr>\n",
       "      <th>183407</th>\n",
       "      <td>480</td>\n",
       "      <td>2019-02-01 00:04:49.7240</td>\n",
       "      <td>2019-02-01 00:12:50.0340</td>\n",
       "      <td>27.0</td>\n",
       "      <td>Beale St at Harrison St</td>\n",
       "      <td>37.788059</td>\n",
       "      <td>-122.391865</td>\n",
       "      <td>324.0</td>\n",
       "      <td>Union Square (Powell St at Post St)</td>\n",
       "      <td>37.788300</td>\n",
       "      <td>-122.408531</td>\n",
       "      <td>4832</td>\n",
       "      <td>Subscriber</td>\n",
       "      <td>1996.0</td>\n",
       "      <td>Male</td>\n",
       "      <td>No</td>\n",
       "    </tr>\n",
       "    <tr>\n",
       "      <th>183408</th>\n",
       "      <td>313</td>\n",
       "      <td>2019-02-01 00:05:34.7440</td>\n",
       "      <td>2019-02-01 00:10:48.5020</td>\n",
       "      <td>21.0</td>\n",
       "      <td>Montgomery St BART Station (Market St at 2nd St)</td>\n",
       "      <td>37.789625</td>\n",
       "      <td>-122.400811</td>\n",
       "      <td>66.0</td>\n",
       "      <td>3rd St at Townsend St</td>\n",
       "      <td>37.778742</td>\n",
       "      <td>-122.392741</td>\n",
       "      <td>4960</td>\n",
       "      <td>Subscriber</td>\n",
       "      <td>1984.0</td>\n",
       "      <td>Male</td>\n",
       "      <td>No</td>\n",
       "    </tr>\n",
       "    <tr>\n",
       "      <th>183409</th>\n",
       "      <td>141</td>\n",
       "      <td>2019-02-01 00:06:05.5490</td>\n",
       "      <td>2019-02-01 00:08:27.2200</td>\n",
       "      <td>278.0</td>\n",
       "      <td>The Alameda at Bush St</td>\n",
       "      <td>37.331932</td>\n",
       "      <td>-121.904888</td>\n",
       "      <td>277.0</td>\n",
       "      <td>Morrison Ave at Julian St</td>\n",
       "      <td>37.333658</td>\n",
       "      <td>-121.908586</td>\n",
       "      <td>3824</td>\n",
       "      <td>Subscriber</td>\n",
       "      <td>1990.0</td>\n",
       "      <td>Male</td>\n",
       "      <td>Yes</td>\n",
       "    </tr>\n",
       "    <tr>\n",
       "      <th>183410</th>\n",
       "      <td>139</td>\n",
       "      <td>2019-02-01 00:05:34.3600</td>\n",
       "      <td>2019-02-01 00:07:54.2870</td>\n",
       "      <td>220.0</td>\n",
       "      <td>San Pablo Ave at MLK Jr Way</td>\n",
       "      <td>37.811351</td>\n",
       "      <td>-122.273422</td>\n",
       "      <td>216.0</td>\n",
       "      <td>San Pablo Ave at 27th St</td>\n",
       "      <td>37.817827</td>\n",
       "      <td>-122.275698</td>\n",
       "      <td>5095</td>\n",
       "      <td>Subscriber</td>\n",
       "      <td>1988.0</td>\n",
       "      <td>Male</td>\n",
       "      <td>No</td>\n",
       "    </tr>\n",
       "    <tr>\n",
       "      <th>183411</th>\n",
       "      <td>271</td>\n",
       "      <td>2019-02-01 00:00:20.6360</td>\n",
       "      <td>2019-02-01 00:04:52.0580</td>\n",
       "      <td>24.0</td>\n",
       "      <td>Spear St at Folsom St</td>\n",
       "      <td>37.789677</td>\n",
       "      <td>-122.390428</td>\n",
       "      <td>37.0</td>\n",
       "      <td>2nd St at Folsom St</td>\n",
       "      <td>37.785000</td>\n",
       "      <td>-122.395936</td>\n",
       "      <td>1057</td>\n",
       "      <td>Subscriber</td>\n",
       "      <td>1989.0</td>\n",
       "      <td>Male</td>\n",
       "      <td>No</td>\n",
       "    </tr>\n",
       "  </tbody>\n",
       "</table>\n",
       "<p>183412 rows × 16 columns</p>\n",
       "</div>"
      ],
      "text/plain": [
       "        duration_sec                start_time                  end_time  \\\n",
       "0              52185  2019-02-28 17:32:10.1450  2019-03-01 08:01:55.9750   \n",
       "1              42521  2019-02-28 18:53:21.7890  2019-03-01 06:42:03.0560   \n",
       "2              61854  2019-02-28 12:13:13.2180  2019-03-01 05:24:08.1460   \n",
       "3              36490  2019-02-28 17:54:26.0100  2019-03-01 04:02:36.8420   \n",
       "4               1585  2019-02-28 23:54:18.5490  2019-03-01 00:20:44.0740   \n",
       "...              ...                       ...                       ...   \n",
       "183407           480  2019-02-01 00:04:49.7240  2019-02-01 00:12:50.0340   \n",
       "183408           313  2019-02-01 00:05:34.7440  2019-02-01 00:10:48.5020   \n",
       "183409           141  2019-02-01 00:06:05.5490  2019-02-01 00:08:27.2200   \n",
       "183410           139  2019-02-01 00:05:34.3600  2019-02-01 00:07:54.2870   \n",
       "183411           271  2019-02-01 00:00:20.6360  2019-02-01 00:04:52.0580   \n",
       "\n",
       "        start_station_id                                start_station_name  \\\n",
       "0                   21.0  Montgomery St BART Station (Market St at 2nd St)   \n",
       "1                   23.0                     The Embarcadero at Steuart St   \n",
       "2                   86.0                           Market St at Dolores St   \n",
       "3                  375.0                           Grove St at Masonic Ave   \n",
       "4                    7.0                               Frank H Ogawa Plaza   \n",
       "...                  ...                                               ...   \n",
       "183407              27.0                           Beale St at Harrison St   \n",
       "183408              21.0  Montgomery St BART Station (Market St at 2nd St)   \n",
       "183409             278.0                            The Alameda at Bush St   \n",
       "183410             220.0                       San Pablo Ave at MLK Jr Way   \n",
       "183411              24.0                             Spear St at Folsom St   \n",
       "\n",
       "        start_station_latitude  start_station_longitude  end_station_id  \\\n",
       "0                    37.789625              -122.400811            13.0   \n",
       "1                    37.791464              -122.391034            81.0   \n",
       "2                    37.769305              -122.426826             3.0   \n",
       "3                    37.774836              -122.446546            70.0   \n",
       "4                    37.804562              -122.271738           222.0   \n",
       "...                        ...                      ...             ...   \n",
       "183407               37.788059              -122.391865           324.0   \n",
       "183408               37.789625              -122.400811            66.0   \n",
       "183409               37.331932              -121.904888           277.0   \n",
       "183410               37.811351              -122.273422           216.0   \n",
       "183411               37.789677              -122.390428            37.0   \n",
       "\n",
       "                                    end_station_name  end_station_latitude  \\\n",
       "0                     Commercial St at Montgomery St             37.794231   \n",
       "1                                 Berry St at 4th St             37.775880   \n",
       "2       Powell St BART Station (Market St at 4th St)             37.786375   \n",
       "3                             Central Ave at Fell St             37.773311   \n",
       "4                              10th Ave at E 15th St             37.792714   \n",
       "...                                              ...                   ...   \n",
       "183407           Union Square (Powell St at Post St)             37.788300   \n",
       "183408                         3rd St at Townsend St             37.778742   \n",
       "183409                     Morrison Ave at Julian St             37.333658   \n",
       "183410                      San Pablo Ave at 27th St             37.817827   \n",
       "183411                           2nd St at Folsom St             37.785000   \n",
       "\n",
       "        end_station_longitude  bike_id   user_type  member_birth_year  \\\n",
       "0                 -122.402923     4902    Customer             1984.0   \n",
       "1                 -122.393170     2535    Customer                NaN   \n",
       "2                 -122.404904     5905    Customer             1972.0   \n",
       "3                 -122.444293     6638  Subscriber             1989.0   \n",
       "4                 -122.248780     4898  Subscriber             1974.0   \n",
       "...                       ...      ...         ...                ...   \n",
       "183407            -122.408531     4832  Subscriber             1996.0   \n",
       "183408            -122.392741     4960  Subscriber             1984.0   \n",
       "183409            -121.908586     3824  Subscriber             1990.0   \n",
       "183410            -122.275698     5095  Subscriber             1988.0   \n",
       "183411            -122.395936     1057  Subscriber             1989.0   \n",
       "\n",
       "       member_gender bike_share_for_all_trip  \n",
       "0               Male                      No  \n",
       "1                NaN                      No  \n",
       "2               Male                      No  \n",
       "3              Other                      No  \n",
       "4               Male                     Yes  \n",
       "...              ...                     ...  \n",
       "183407          Male                      No  \n",
       "183408          Male                      No  \n",
       "183409          Male                     Yes  \n",
       "183410          Male                      No  \n",
       "183411          Male                      No  \n",
       "\n",
       "[183412 rows x 16 columns]"
      ]
     },
     "execution_count": 2,
     "metadata": {},
     "output_type": "execute_result"
    }
   ],
   "source": [
    "ford_data=pd.read_csv('ford_data.csv')\n",
    "\n",
    "ford_data"
   ]
  },
  {
   "cell_type": "markdown",
   "id": "f1796e38",
   "metadata": {
    "slideshow": {
     "slide_type": "skip"
    }
   },
   "source": [
    "###  Data assesment "
   ]
  },
  {
   "cell_type": "code",
   "execution_count": 3,
   "id": "48fba726",
   "metadata": {
    "slideshow": {
     "slide_type": "skip"
    }
   },
   "outputs": [
    {
     "name": "stdout",
     "output_type": "stream",
     "text": [
      "<class 'pandas.core.frame.DataFrame'>\n",
      "RangeIndex: 183412 entries, 0 to 183411\n",
      "Data columns (total 16 columns):\n",
      " #   Column                   Non-Null Count   Dtype  \n",
      "---  ------                   --------------   -----  \n",
      " 0   duration_sec             183412 non-null  int64  \n",
      " 1   start_time               183412 non-null  object \n",
      " 2   end_time                 183412 non-null  object \n",
      " 3   start_station_id         183215 non-null  float64\n",
      " 4   start_station_name       183215 non-null  object \n",
      " 5   start_station_latitude   183412 non-null  float64\n",
      " 6   start_station_longitude  183412 non-null  float64\n",
      " 7   end_station_id           183215 non-null  float64\n",
      " 8   end_station_name         183215 non-null  object \n",
      " 9   end_station_latitude     183412 non-null  float64\n",
      " 10  end_station_longitude    183412 non-null  float64\n",
      " 11  bike_id                  183412 non-null  int64  \n",
      " 12  user_type                183412 non-null  object \n",
      " 13  member_birth_year        175147 non-null  float64\n",
      " 14  member_gender            175147 non-null  object \n",
      " 15  bike_share_for_all_trip  183412 non-null  object \n",
      "dtypes: float64(7), int64(2), object(7)\n",
      "memory usage: 22.4+ MB\n"
     ]
    }
   ],
   "source": [
    "ford_data.info()"
   ]
  },
  {
   "cell_type": "code",
   "execution_count": 4,
   "id": "a56053a6",
   "metadata": {
    "slideshow": {
     "slide_type": "skip"
    }
   },
   "outputs": [
    {
     "data": {
      "text/plain": [
       "duration_sec                  0\n",
       "start_time                    0\n",
       "end_time                      0\n",
       "start_station_id            197\n",
       "start_station_name          197\n",
       "start_station_latitude        0\n",
       "start_station_longitude       0\n",
       "end_station_id              197\n",
       "end_station_name            197\n",
       "end_station_latitude          0\n",
       "end_station_longitude         0\n",
       "bike_id                       0\n",
       "user_type                     0\n",
       "member_birth_year          8265\n",
       "member_gender              8265\n",
       "bike_share_for_all_trip       0\n",
       "dtype: int64"
      ]
     },
     "execution_count": 4,
     "metadata": {},
     "output_type": "execute_result"
    }
   ],
   "source": [
    "ford_data.isnull().sum()"
   ]
  },
  {
   "cell_type": "code",
   "execution_count": 5,
   "id": "1402fc69",
   "metadata": {
    "slideshow": {
     "slide_type": "skip"
    }
   },
   "outputs": [
    {
     "data": {
      "text/plain": [
       "0"
      ]
     },
     "execution_count": 5,
     "metadata": {},
     "output_type": "execute_result"
    }
   ],
   "source": [
    "ford_data.duplicated().sum()"
   ]
  },
  {
   "cell_type": "markdown",
   "id": "dd5a3a23",
   "metadata": {
    "slideshow": {
     "slide_type": "skip"
    }
   },
   "source": [
    "####  Assesment summary"
   ]
  },
  {
   "cell_type": "markdown",
   "id": "efd5d74c",
   "metadata": {
    "slideshow": {
     "slide_type": "skip"
    }
   },
   "source": [
    "#### quality issues:\n",
    "1- convert start_time ,end_time columns to type date time \n",
    "\n",
    "2- dropping null values recorded as NaNTidiness\n",
    "\n",
    "3- Add weekday, startpoint, endpoint, minutes and age columns to the data set"
   ]
  },
  {
   "cell_type": "markdown",
   "id": "3b84d269",
   "metadata": {
    "slideshow": {
     "slide_type": "skip"
    }
   },
   "source": [
    "### Data cleaning "
   ]
  },
  {
   "cell_type": "markdown",
   "id": "e52e2855",
   "metadata": {
    "slideshow": {
     "slide_type": "skip"
    }
   },
   "source": [
    "### 1. Define"
   ]
  },
  {
   "cell_type": "markdown",
   "id": "1f6587f8",
   "metadata": {
    "slideshow": {
     "slide_type": "skip"
    }
   },
   "source": [
    "convert start_time ,end_time columns to type date time "
   ]
  },
  {
   "cell_type": "markdown",
   "id": "16749f1a",
   "metadata": {
    "slideshow": {
     "slide_type": "skip"
    }
   },
   "source": [
    "### 2. Code"
   ]
  },
  {
   "cell_type": "code",
   "execution_count": 55,
   "id": "fff14331",
   "metadata": {
    "slideshow": {
     "slide_type": "skip"
    }
   },
   "outputs": [],
   "source": [
    "## changing the data type to datetime\n",
    "ford_data.start_time = pd.to_datetime(ford_data.start_time)\n",
    "ford_data.end_time = pd.to_datetime(ford_data.end_time)"
   ]
  },
  {
   "cell_type": "markdown",
   "id": "363a3e55",
   "metadata": {
    "slideshow": {
     "slide_type": "skip"
    }
   },
   "source": [
    "### 3. Test"
   ]
  },
  {
   "cell_type": "code",
   "execution_count": 56,
   "id": "98f1ec29",
   "metadata": {
    "slideshow": {
     "slide_type": "skip"
    }
   },
   "outputs": [
    {
     "name": "stdout",
     "output_type": "stream",
     "text": [
      "datetime64[ns]\n",
      "datetime64[ns]\n"
     ]
    }
   ],
   "source": [
    "print(ford_data.start_time.dtype)\n",
    "print(ford_data.end_time.dtype)"
   ]
  },
  {
   "cell_type": "markdown",
   "id": "659d59e9",
   "metadata": {
    "slideshow": {
     "slide_type": "skip"
    }
   },
   "source": [
    "### 1. Define"
   ]
  },
  {
   "cell_type": "markdown",
   "id": "1e916b4c",
   "metadata": {
    "slideshow": {
     "slide_type": "skip"
    }
   },
   "source": [
    "dropping null values "
   ]
  },
  {
   "cell_type": "markdown",
   "id": "7dd49256",
   "metadata": {
    "slideshow": {
     "slide_type": "skip"
    }
   },
   "source": [
    "### 2. Code"
   ]
  },
  {
   "cell_type": "code",
   "execution_count": 59,
   "id": "f726728f",
   "metadata": {
    "slideshow": {
     "slide_type": "skip"
    }
   },
   "outputs": [],
   "source": [
    "## dropping null values\n",
    "ford_data = ford_data.dropna()"
   ]
  },
  {
   "cell_type": "markdown",
   "id": "965849e8",
   "metadata": {
    "slideshow": {
     "slide_type": "skip"
    }
   },
   "source": [
    "### 3. Test"
   ]
  },
  {
   "cell_type": "code",
   "execution_count": 60,
   "id": "7b8344ca",
   "metadata": {
    "slideshow": {
     "slide_type": "skip"
    }
   },
   "outputs": [
    {
     "data": {
      "text/plain": [
       "duration_sec               0\n",
       "start_time                 0\n",
       "end_time                   0\n",
       "start_station_id           0\n",
       "start_station_name         0\n",
       "start_station_latitude     0\n",
       "start_station_longitude    0\n",
       "end_station_id             0\n",
       "end_station_name           0\n",
       "end_station_latitude       0\n",
       "end_station_longitude      0\n",
       "bike_id                    0\n",
       "user_type                  0\n",
       "member_birth_year          0\n",
       "member_gender              0\n",
       "bike_share_for_all_trip    0\n",
       "weekday                    0\n",
       "startpoint                 0\n",
       "endpoint                   0\n",
       "minutes                    0\n",
       "ages                       0\n",
       "dtype: int64"
      ]
     },
     "execution_count": 60,
     "metadata": {},
     "output_type": "execute_result"
    }
   ],
   "source": [
    "ford_data.isnull().sum()"
   ]
  },
  {
   "cell_type": "markdown",
   "id": "8099f885",
   "metadata": {
    "slideshow": {
     "slide_type": "skip"
    }
   },
   "source": [
    "### 1. Define"
   ]
  },
  {
   "cell_type": "markdown",
   "id": "1abc730f",
   "metadata": {
    "slideshow": {
     "slide_type": "skip"
    }
   },
   "source": [
    "Add weekday, startpoint, endpoint, minutes and age columns to the data set. the values were taken from the start_time , end_time, duration_sec and member_birth_year respectively"
   ]
  },
  {
   "cell_type": "markdown",
   "id": "777232de",
   "metadata": {
    "slideshow": {
     "slide_type": "skip"
    }
   },
   "source": [
    "### 2. Code"
   ]
  },
  {
   "cell_type": "code",
   "execution_count": 61,
   "id": "455a081b",
   "metadata": {},
   "outputs": [],
   "source": [
    "## extracting days from the start_time values\n",
    "ford_data['weekday'] = ford_data['start_time'].dt.strftime('%a')"
   ]
  },
  {
   "cell_type": "code",
   "execution_count": 62,
   "id": "93fc9313",
   "metadata": {
    "slideshow": {
     "slide_type": "skip"
    }
   },
   "outputs": [],
   "source": [
    "## extracting starting hours from the start_time values\n",
    "ford_data['startpoint'] = ford_data['start_time'].dt.hour"
   ]
  },
  {
   "cell_type": "code",
   "execution_count": 63,
   "id": "4e977a7f",
   "metadata": {
    "slideshow": {
     "slide_type": "skip"
    }
   },
   "outputs": [],
   "source": [
    "## extracting end hours from the start_time values\n",
    "ford_data['endpoint'] = ford_data['end_time'].dt.hour"
   ]
  },
  {
   "cell_type": "code",
   "execution_count": 64,
   "id": "909efbee",
   "metadata": {
    "slideshow": {
     "slide_type": "skip"
    }
   },
   "outputs": [],
   "source": [
    "## extracting minutes from the start_time values\n",
    "ford_data['minutes'] = ford_data['duration_sec']/60"
   ]
  },
  {
   "cell_type": "code",
   "execution_count": 65,
   "id": "27c5f2b5",
   "metadata": {
    "slideshow": {
     "slide_type": "skip"
    }
   },
   "outputs": [],
   "source": [
    "## extracting days from the the the member_birth_years\n",
    "ford_data['ages'] = 2021 - ford_data['member_birth_year']"
   ]
  },
  {
   "cell_type": "markdown",
   "id": "fc71fa1b",
   "metadata": {
    "slideshow": {
     "slide_type": "skip"
    }
   },
   "source": [
    "### 3. Test"
   ]
  },
  {
   "cell_type": "code",
   "execution_count": 67,
   "id": "a5bb6e12",
   "metadata": {
    "slideshow": {
     "slide_type": "skip"
    }
   },
   "outputs": [
    {
     "name": "stdout",
     "output_type": "stream",
     "text": [
      "Index(['duration_sec', 'start_time', 'end_time', 'start_station_id',\n",
      "       'start_station_name', 'start_station_latitude',\n",
      "       'start_station_longitude', 'end_station_id', 'end_station_name',\n",
      "       'end_station_latitude', 'end_station_longitude', 'bike_id', 'user_type',\n",
      "       'member_birth_year', 'member_gender', 'bike_share_for_all_trip',\n",
      "       'weekday', 'startpoint', 'endpoint', 'minutes', 'ages'],\n",
      "      dtype='object')\n"
     ]
    }
   ],
   "source": [
    "print(ford_data.columns)"
   ]
  },
  {
   "cell_type": "code",
   "execution_count": 69,
   "id": "a09536cf",
   "metadata": {
    "slideshow": {
     "slide_type": "skip"
    }
   },
   "outputs": [
    {
     "data": {
      "text/plain": [
       "Male      130500\n",
       "Female     40805\n",
       "Name: member_gender, dtype: int64"
      ]
     },
     "execution_count": 69,
     "metadata": {},
     "output_type": "execute_result"
    }
   ],
   "source": [
    "## checking the values of the member_gender column\n",
    "ford_data['member_gender'].value_counts()"
   ]
  },
  {
   "cell_type": "markdown",
   "id": "1bba4178",
   "metadata": {
    "slideshow": {
     "slide_type": "skip"
    }
   },
   "source": [
    "The age column has an extra value that will be dropped"
   ]
  },
  {
   "cell_type": "code",
   "execution_count": 70,
   "id": "c403839f",
   "metadata": {
    "slideshow": {
     "slide_type": "skip"
    }
   },
   "outputs": [],
   "source": [
    "drop_other = ford_data[ford_data['member_gender']=='Other'].index\n",
    "ford_data = ford_data.drop(index=drop_other)"
   ]
  },
  {
   "cell_type": "code",
   "execution_count": 71,
   "id": "dd2a2edb",
   "metadata": {
    "slideshow": {
     "slide_type": "skip"
    }
   },
   "outputs": [
    {
     "data": {
      "text/plain": [
       "Male      130500\n",
       "Female     40805\n",
       "Name: member_gender, dtype: int64"
      ]
     },
     "execution_count": 71,
     "metadata": {},
     "output_type": "execute_result"
    }
   ],
   "source": [
    "ford_data['member_gender'].value_counts()"
   ]
  },
  {
   "cell_type": "code",
   "execution_count": 72,
   "id": "4eb6d7df",
   "metadata": {
    "slideshow": {
     "slide_type": "skip"
    }
   },
   "outputs": [
    {
     "data": {
      "text/plain": [
       "Subscriber    155189\n",
       "Customer       16116\n",
       "Name: user_type, dtype: int64"
      ]
     },
     "execution_count": 72,
     "metadata": {},
     "output_type": "execute_result"
    }
   ],
   "source": [
    "ford_data['user_type'].value_counts()"
   ]
  },
  {
   "cell_type": "markdown",
   "id": "5e4f6e37",
   "metadata": {
    "slideshow": {
     "slide_type": "slide"
    }
   },
   "source": [
    "### Data set structure"
   ]
  },
  {
   "cell_type": "code",
   "execution_count": 73,
   "id": "85ec6a72",
   "metadata": {
    "slideshow": {
     "slide_type": "skip"
    }
   },
   "outputs": [
    {
     "name": "stdout",
     "output_type": "stream",
     "text": [
      "<class 'pandas.core.frame.DataFrame'>\n",
      "Int64Index: 171305 entries, 0 to 183411\n",
      "Data columns (total 21 columns):\n",
      " #   Column                   Non-Null Count   Dtype         \n",
      "---  ------                   --------------   -----         \n",
      " 0   duration_sec             171305 non-null  int64         \n",
      " 1   start_time               171305 non-null  datetime64[ns]\n",
      " 2   end_time                 171305 non-null  datetime64[ns]\n",
      " 3   start_station_id         171305 non-null  float64       \n",
      " 4   start_station_name       171305 non-null  object        \n",
      " 5   start_station_latitude   171305 non-null  float64       \n",
      " 6   start_station_longitude  171305 non-null  float64       \n",
      " 7   end_station_id           171305 non-null  float64       \n",
      " 8   end_station_name         171305 non-null  object        \n",
      " 9   end_station_latitude     171305 non-null  float64       \n",
      " 10  end_station_longitude    171305 non-null  float64       \n",
      " 11  bike_id                  171305 non-null  int64         \n",
      " 12  user_type                171305 non-null  object        \n",
      " 13  member_birth_year        171305 non-null  float64       \n",
      " 14  member_gender            171305 non-null  object        \n",
      " 15  bike_share_for_all_trip  171305 non-null  object        \n",
      " 16  weekday                  171305 non-null  object        \n",
      " 17  startpoint               171305 non-null  int64         \n",
      " 18  endpoint                 171305 non-null  int64         \n",
      " 19  minutes                  171305 non-null  float64       \n",
      " 20  ages                     171305 non-null  float64       \n",
      "dtypes: datetime64[ns](2), float64(9), int64(4), object(6)\n",
      "memory usage: 32.8+ MB\n"
     ]
    }
   ],
   "source": [
    "ford_data.info()"
   ]
  },
  {
   "cell_type": "code",
   "execution_count": 74,
   "id": "e8fb770f",
   "metadata": {
    "scrolled": true,
    "slideshow": {
     "slide_type": "skip"
    }
   },
   "outputs": [
    {
     "data": {
      "text/html": [
       "<div>\n",
       "<style scoped>\n",
       "    .dataframe tbody tr th:only-of-type {\n",
       "        vertical-align: middle;\n",
       "    }\n",
       "\n",
       "    .dataframe tbody tr th {\n",
       "        vertical-align: top;\n",
       "    }\n",
       "\n",
       "    .dataframe thead th {\n",
       "        text-align: right;\n",
       "    }\n",
       "</style>\n",
       "<table border=\"1\" class=\"dataframe\">\n",
       "  <thead>\n",
       "    <tr style=\"text-align: right;\">\n",
       "      <th></th>\n",
       "      <th>duration_sec</th>\n",
       "      <th>start_station_id</th>\n",
       "      <th>start_station_latitude</th>\n",
       "      <th>start_station_longitude</th>\n",
       "      <th>end_station_id</th>\n",
       "      <th>end_station_latitude</th>\n",
       "      <th>end_station_longitude</th>\n",
       "      <th>bike_id</th>\n",
       "      <th>member_birth_year</th>\n",
       "      <th>startpoint</th>\n",
       "      <th>endpoint</th>\n",
       "      <th>minutes</th>\n",
       "      <th>ages</th>\n",
       "    </tr>\n",
       "  </thead>\n",
       "  <tbody>\n",
       "    <tr>\n",
       "      <th>count</th>\n",
       "      <td>171305.000000</td>\n",
       "      <td>171305.00000</td>\n",
       "      <td>171305.000000</td>\n",
       "      <td>171305.000000</td>\n",
       "      <td>171305.000000</td>\n",
       "      <td>171305.000000</td>\n",
       "      <td>171305.000000</td>\n",
       "      <td>171305.000000</td>\n",
       "      <td>171305.000000</td>\n",
       "      <td>171305.000000</td>\n",
       "      <td>171305.000000</td>\n",
       "      <td>171305.000000</td>\n",
       "      <td>171305.000000</td>\n",
       "    </tr>\n",
       "    <tr>\n",
       "      <th>mean</th>\n",
       "      <td>697.757981</td>\n",
       "      <td>138.70695</td>\n",
       "      <td>37.770629</td>\n",
       "      <td>-122.351657</td>\n",
       "      <td>136.304889</td>\n",
       "      <td>37.770831</td>\n",
       "      <td>-122.351225</td>\n",
       "      <td>4481.294136</td>\n",
       "      <td>1984.839351</td>\n",
       "      <td>13.451545</td>\n",
       "      <td>13.605546</td>\n",
       "      <td>11.629300</td>\n",
       "      <td>36.160649</td>\n",
       "    </tr>\n",
       "    <tr>\n",
       "      <th>std</th>\n",
       "      <td>1577.253741</td>\n",
       "      <td>111.71479</td>\n",
       "      <td>0.101225</td>\n",
       "      <td>0.118522</td>\n",
       "      <td>111.421147</td>\n",
       "      <td>0.101130</td>\n",
       "      <td>0.118088</td>\n",
       "      <td>1659.524197</td>\n",
       "      <td>10.116083</td>\n",
       "      <td>4.733722</td>\n",
       "      <td>4.747156</td>\n",
       "      <td>26.287562</td>\n",
       "      <td>10.116083</td>\n",
       "    </tr>\n",
       "    <tr>\n",
       "      <th>min</th>\n",
       "      <td>61.000000</td>\n",
       "      <td>3.00000</td>\n",
       "      <td>37.317298</td>\n",
       "      <td>-122.453704</td>\n",
       "      <td>3.000000</td>\n",
       "      <td>37.317298</td>\n",
       "      <td>-122.453704</td>\n",
       "      <td>11.000000</td>\n",
       "      <td>1878.000000</td>\n",
       "      <td>0.000000</td>\n",
       "      <td>0.000000</td>\n",
       "      <td>1.016667</td>\n",
       "      <td>20.000000</td>\n",
       "    </tr>\n",
       "    <tr>\n",
       "      <th>25%</th>\n",
       "      <td>322.000000</td>\n",
       "      <td>47.00000</td>\n",
       "      <td>37.770083</td>\n",
       "      <td>-122.411901</td>\n",
       "      <td>44.000000</td>\n",
       "      <td>37.770407</td>\n",
       "      <td>-122.411647</td>\n",
       "      <td>3796.000000</td>\n",
       "      <td>1980.000000</td>\n",
       "      <td>9.000000</td>\n",
       "      <td>9.000000</td>\n",
       "      <td>5.366667</td>\n",
       "      <td>29.000000</td>\n",
       "    </tr>\n",
       "    <tr>\n",
       "      <th>50%</th>\n",
       "      <td>509.000000</td>\n",
       "      <td>104.00000</td>\n",
       "      <td>37.780760</td>\n",
       "      <td>-122.398279</td>\n",
       "      <td>100.000000</td>\n",
       "      <td>37.781010</td>\n",
       "      <td>-122.397437</td>\n",
       "      <td>4960.000000</td>\n",
       "      <td>1987.000000</td>\n",
       "      <td>14.000000</td>\n",
       "      <td>14.000000</td>\n",
       "      <td>8.483333</td>\n",
       "      <td>34.000000</td>\n",
       "    </tr>\n",
       "    <tr>\n",
       "      <th>75%</th>\n",
       "      <td>787.000000</td>\n",
       "      <td>239.00000</td>\n",
       "      <td>37.797280</td>\n",
       "      <td>-122.283127</td>\n",
       "      <td>237.000000</td>\n",
       "      <td>37.797320</td>\n",
       "      <td>-122.287610</td>\n",
       "      <td>5505.000000</td>\n",
       "      <td>1992.000000</td>\n",
       "      <td>17.000000</td>\n",
       "      <td>18.000000</td>\n",
       "      <td>13.116667</td>\n",
       "      <td>41.000000</td>\n",
       "    </tr>\n",
       "    <tr>\n",
       "      <th>max</th>\n",
       "      <td>84548.000000</td>\n",
       "      <td>398.00000</td>\n",
       "      <td>37.880222</td>\n",
       "      <td>-121.874119</td>\n",
       "      <td>398.000000</td>\n",
       "      <td>37.880222</td>\n",
       "      <td>-121.874119</td>\n",
       "      <td>6645.000000</td>\n",
       "      <td>2001.000000</td>\n",
       "      <td>23.000000</td>\n",
       "      <td>23.000000</td>\n",
       "      <td>1409.133333</td>\n",
       "      <td>143.000000</td>\n",
       "    </tr>\n",
       "  </tbody>\n",
       "</table>\n",
       "</div>"
      ],
      "text/plain": [
       "        duration_sec  start_station_id  start_station_latitude  \\\n",
       "count  171305.000000      171305.00000           171305.000000   \n",
       "mean      697.757981         138.70695               37.770629   \n",
       "std      1577.253741         111.71479                0.101225   \n",
       "min        61.000000           3.00000               37.317298   \n",
       "25%       322.000000          47.00000               37.770083   \n",
       "50%       509.000000         104.00000               37.780760   \n",
       "75%       787.000000         239.00000               37.797280   \n",
       "max     84548.000000         398.00000               37.880222   \n",
       "\n",
       "       start_station_longitude  end_station_id  end_station_latitude  \\\n",
       "count            171305.000000   171305.000000         171305.000000   \n",
       "mean               -122.351657      136.304889             37.770831   \n",
       "std                   0.118522      111.421147              0.101130   \n",
       "min                -122.453704        3.000000             37.317298   \n",
       "25%                -122.411901       44.000000             37.770407   \n",
       "50%                -122.398279      100.000000             37.781010   \n",
       "75%                -122.283127      237.000000             37.797320   \n",
       "max                -121.874119      398.000000             37.880222   \n",
       "\n",
       "       end_station_longitude        bike_id  member_birth_year     startpoint  \\\n",
       "count          171305.000000  171305.000000      171305.000000  171305.000000   \n",
       "mean             -122.351225    4481.294136        1984.839351      13.451545   \n",
       "std                 0.118088    1659.524197          10.116083       4.733722   \n",
       "min              -122.453704      11.000000        1878.000000       0.000000   \n",
       "25%              -122.411647    3796.000000        1980.000000       9.000000   \n",
       "50%              -122.397437    4960.000000        1987.000000      14.000000   \n",
       "75%              -122.287610    5505.000000        1992.000000      17.000000   \n",
       "max              -121.874119    6645.000000        2001.000000      23.000000   \n",
       "\n",
       "            endpoint        minutes           ages  \n",
       "count  171305.000000  171305.000000  171305.000000  \n",
       "mean       13.605546      11.629300      36.160649  \n",
       "std         4.747156      26.287562      10.116083  \n",
       "min         0.000000       1.016667      20.000000  \n",
       "25%         9.000000       5.366667      29.000000  \n",
       "50%        14.000000       8.483333      34.000000  \n",
       "75%        18.000000      13.116667      41.000000  \n",
       "max        23.000000    1409.133333     143.000000  "
      ]
     },
     "execution_count": 74,
     "metadata": {},
     "output_type": "execute_result"
    }
   ],
   "source": [
    "ford_data.describe()"
   ]
  },
  {
   "cell_type": "markdown",
   "id": "38312e9d",
   "metadata": {
    "slideshow": {
     "slide_type": "slide"
    }
   },
   "source": [
    "The data set has 21 coulmns and 171,305 rows. The data set has numerical coulmns such as duration_sec, member_birth_year and start_hour and categorical columns like user_type, member_gender and start_of_weekday."
   ]
  },
  {
   "cell_type": "markdown",
   "id": "896133fb",
   "metadata": {
    "slideshow": {
     "slide_type": "slide"
    }
   },
   "source": [
    "### Univariate Exploration"
   ]
  },
  {
   "cell_type": "markdown",
   "id": "2bb8e968",
   "metadata": {
    "slideshow": {
     "slide_type": "slide"
    }
   },
   "source": [
    "Univariate analysis is the simplest form of data analysis where the data being analyzed consists of only one variable and the relation between its values. In this section, univariate analysis will be done on columns such user_types, duration_minites and start_of_weekday to name a few  "
   ]
  },
  {
   "cell_type": "markdown",
   "id": "4ff130b9",
   "metadata": {
    "slideshow": {
     "slide_type": "slide"
    }
   },
   "source": [
    "### Q1: which user type is more frequent?"
   ]
  },
  {
   "cell_type": "code",
   "execution_count": 75,
   "id": "de7a13ab",
   "metadata": {
    "scrolled": true,
    "slideshow": {
     "slide_type": "slide"
    }
   },
   "outputs": [
    {
     "data": {
      "image/png": "[encoded data removed]",
      "text/plain": [
       "<Figure size 360x432 with 1 Axes>"
      ]
     },
     "metadata": {},
     "output_type": "display_data"
    }
   ],
   "source": [
    "ford_data.user_type.value_counts().plot.pie(figsize=(5,6), autopct='%.4f%%')\n",
    "plt.title('user types')\n",
    "plt.show()"
   ]
  },
  {
   "cell_type": "markdown",
   "id": "5f19e537",
   "metadata": {},
   "source": [
    "We can see that the majority of the users are subscribed to the service, with a percentage of 90.5% "
   ]
  },
  {
   "cell_type": "markdown",
   "id": "b94f7415",
   "metadata": {
    "slideshow": {
     "slide_type": "slide"
    }
   },
   "source": [
    "### Q2: what the the average duration for a single trip ?"
   ]
  },
  {
   "cell_type": "code",
   "execution_count": 76,
   "id": "e7e466f5",
   "metadata": {
    "slideshow": {
     "slide_type": "slide"
    }
   },
   "outputs": [
    {
     "data": {
      "text/plain": [
       "Text(0, 0.5, 'Number of Trips')"
      ]
     },
     "execution_count": 76,
     "metadata": {},
     "output_type": "execute_result"
    },
    {
     "data": {
      "image/png": "[encoded data removed]",
      "text/plain": [
       "<Figure size 432x288 with 1 Axes>"
      ]
     },
     "metadata": {
      "needs_background": "light"
     },
     "output_type": "display_data"
    }
   ],
   "source": [
    "plt.hist(data = ford_data, x = 'minutes', bins = 500)\n",
    "plt.xlim(xmin=0, xmax = 100)\n",
    "plt.title('Durations of trips')\n",
    "plt.xlabel('Duration in minutes')\n",
    "plt.ylabel('Number of Trips')"
   ]
  },
  {
   "cell_type": "markdown",
   "id": "08d91a40",
   "metadata": {},
   "source": [
    "Most of the trips take around 10 - 20 minutes to complete"
   ]
  },
  {
   "cell_type": "markdown",
   "id": "56bbb0cf",
   "metadata": {
    "slideshow": {
     "slide_type": "slide"
    }
   },
   "source": [
    "### Q3: which day of the week has the highest number of trips ?"
   ]
  },
  {
   "cell_type": "code",
   "execution_count": 77,
   "id": "e7c41a56",
   "metadata": {
    "scrolled": true,
    "slideshow": {
     "slide_type": "slide"
    }
   },
   "outputs": [
    {
     "data": {
      "text/plain": [
       "Text(0, 0.5, 'number')"
      ]
     },
     "execution_count": 77,
     "metadata": {},
     "output_type": "execute_result"
    },
    {
     "data": {
      "image/png": "[encoded data removed]",
      "text/plain": [
       "<Figure size 432x288 with 1 Axes>"
      ]
     },
     "metadata": {
      "needs_background": "light"
     },
     "output_type": "display_data"
    }
   ],
   "source": [
    "sb.countplot(data=ford_data, x='weekday' ,color='blue');\n",
    "plt.title('bike usage by weekdays')\n",
    "plt.xlabel('weekday')\n",
    "plt.ylabel('number')"
   ]
  },
  {
   "cell_type": "markdown",
   "id": "de553064",
   "metadata": {},
   "source": [
    "Most of the trips are taken on thrusdays , with around 3000 trips each week"
   ]
  },
  {
   "cell_type": "markdown",
   "id": "fd5a05b0",
   "metadata": {
    "slideshow": {
     "slide_type": "slide"
    }
   },
   "source": [
    "### Q4: during which hour are most of the trips taken ?"
   ]
  },
  {
   "cell_type": "code",
   "execution_count": 78,
   "id": "f8e3b590",
   "metadata": {
    "slideshow": {
     "slide_type": "slide"
    }
   },
   "outputs": [
    {
     "data": {
      "text/plain": [
       "Text(0, 0.5, 'number')"
      ]
     },
     "execution_count": 78,
     "metadata": {},
     "output_type": "execute_result"
    },
    {
     "data": {
      "image/png": "[encoded data removed]",
      "text/plain": [
       "<Figure size 432x288 with 1 Axes>"
      ]
     },
     "metadata": {
      "needs_background": "light"
     },
     "output_type": "display_data"
    }
   ],
   "source": [
    "plt.hist(data = ford_data, x = 'startpoint', bins = 70);\n",
    "plt.title('bike usage by hour')\n",
    "plt.xlabel('hour')\n",
    "plt.ylabel('number')"
   ]
  },
  {
   "cell_type": "markdown",
   "id": "74634f40",
   "metadata": {},
   "source": [
    "from this plot , we can see that there are trips are usually taken in the morning at 8AM , or during the afternoon at 5PM"
   ]
  },
  {
   "cell_type": "markdown",
   "id": "0a6e31de",
   "metadata": {
    "slideshow": {
     "slide_type": "slide"
    }
   },
   "source": [
    "### Q5: what are the average ages of the users ? "
   ]
  },
  {
   "cell_type": "code",
   "execution_count": 79,
   "id": "75554fac",
   "metadata": {
    "slideshow": {
     "slide_type": "slide"
    }
   },
   "outputs": [
    {
     "data": {
      "text/plain": [
       "Text(0, 0.5, 'number')"
      ]
     },
     "execution_count": 79,
     "metadata": {},
     "output_type": "execute_result"
    },
    {
     "data": {
      "image/png": "[encoded data removed]",
      "text/plain": [
       "<Figure size 432x288 with 1 Axes>"
      ]
     },
     "metadata": {
      "needs_background": "light"
     },
     "output_type": "display_data"
    }
   ],
   "source": [
    "bins = np.arange(0, ford_data['ages'].max()+5, 5)\n",
    "plt.hist(data = ford_data , x = 'ages', bins = bins)\n",
    "plt.title('members age')\n",
    "plt.xlabel('age')\n",
    "plt.ylabel('number')"
   ]
  },
  {
   "cell_type": "markdown",
   "id": "7d1cc906",
   "metadata": {},
   "source": [
    "This plot shows that the main age group of users is from 20-40 years old"
   ]
  },
  {
   "cell_type": "markdown",
   "id": "2aff15ec",
   "metadata": {
    "slideshow": {
     "slide_type": "slide"
    }
   },
   "source": [
    "### Q6: are most of the users males or females ?"
   ]
  },
  {
   "cell_type": "code",
   "execution_count": 80,
   "id": "daa56cf6",
   "metadata": {
    "slideshow": {
     "slide_type": "slide"
    }
   },
   "outputs": [
    {
     "data": {
      "text/plain": [
       "Text(0, 0.5, 'number')"
      ]
     },
     "execution_count": 80,
     "metadata": {},
     "output_type": "execute_result"
    },
    {
     "data": {
      "image/png": "[encoded data removed]",
      "text/plain": [
       "<Figure size 432x288 with 1 Axes>"
      ]
     },
     "metadata": {
      "needs_background": "light"
     },
     "output_type": "display_data"
    }
   ],
   "source": [
    "sb.countplot(data=ford_data, x='member_gender', color='blue');\n",
    "plt.title('members gender')\n",
    "plt.xlabel('gender')\n",
    "plt.ylabel('number')"
   ]
  },
  {
   "cell_type": "markdown",
   "id": "cce28aa4",
   "metadata": {},
   "source": [
    "The majority of the services's users are males"
   ]
  },
  {
   "cell_type": "markdown",
   "id": "e6c55c22",
   "metadata": {
    "slideshow": {
     "slide_type": "slide"
    }
   },
   "source": [
    "###  Bivariate Exploration"
   ]
  },
  {
   "cell_type": "markdown",
   "id": "ab3c336c",
   "metadata": {
    "slideshow": {
     "slide_type": "slide"
    }
   },
   "source": [
    "### Q1: at which hour does each gender start their trip ?"
   ]
  },
  {
   "cell_type": "markdown",
   "id": "c36f4c21",
   "metadata": {
    "slideshow": {
     "slide_type": "slide"
    }
   },
   "source": [
    "Bivariate analysis aims to analyze two variables and determine the relation between them. In this section, bivariate analysis will be done between variables like member_gender and start_hour , start_of_weekday and duration_minites and between start_station_id and start_of_weekday for instance."
   ]
  },
  {
   "cell_type": "code",
   "execution_count": 81,
   "id": "aebdd5dc",
   "metadata": {
    "slideshow": {
     "slide_type": "slide"
    }
   },
   "outputs": [
    {
     "data": {
      "text/plain": [
       "Text(0, 0.5, 'number')"
      ]
     },
     "execution_count": 81,
     "metadata": {},
     "output_type": "execute_result"
    },
    {
     "data": {
      "image/png": "[encoded data removed]",
      "text/plain": [
       "<Figure size 432x288 with 1 Axes>"
      ]
     },
     "metadata": {
      "needs_background": "light"
     },
     "output_type": "display_data"
    }
   ],
   "source": [
    "user_hour = ford_data.groupby(['startpoint', 'member_gender']).size().reset_index()\n",
    "sb.countplot(data = ford_data, x = 'startpoint', hue = 'member_gender')\n",
    "plt.title('usage hour by gender')\n",
    "plt.xlabel('hour')\n",
    "plt.ylabel('number')"
   ]
  },
  {
   "cell_type": "markdown",
   "id": "746bfb3c",
   "metadata": {},
   "source": [
    "From this plot, we can see that male users take their trips mostly around 5PM , while female users take their trips equally either at 8AM or 5PM"
   ]
  },
  {
   "cell_type": "markdown",
   "id": "a117c48e",
   "metadata": {
    "slideshow": {
     "slide_type": "slide"
    }
   },
   "source": [
    "### Q2: which week day has the highest trip durations ?"
   ]
  },
  {
   "cell_type": "code",
   "execution_count": 82,
   "id": "0731a371",
   "metadata": {
    "slideshow": {
     "slide_type": "slide"
    }
   },
   "outputs": [
    {
     "data": {
      "text/plain": [
       "Text(0, 0.5, 'trip duration in minutes')"
      ]
     },
     "execution_count": 82,
     "metadata": {},
     "output_type": "execute_result"
    },
    {
     "data": {
      "image/png": "[encoded data removed]",
      "text/plain": [
       "<Figure size 432x288 with 1 Axes>"
      ]
     },
     "metadata": {
      "needs_background": "light"
     },
     "output_type": "display_data"
    }
   ],
   "source": [
    "plt.scatter(data = ford_data, x = 'weekday', y = 'minutes', alpha=1/20);\n",
    "plt.title('usage hour by day')\n",
    "plt.xlabel('weekday')\n",
    "plt.ylabel('trip duration in minutes')"
   ]
  },
  {
   "cell_type": "markdown",
   "id": "741b2744",
   "metadata": {},
   "source": [
    "This plot shows that although thursdays have the highest number of the trips, the longest trips are taken during saturdays and wednesdays"
   ]
  },
  {
   "cell_type": "markdown",
   "id": "ee699a7d",
   "metadata": {
    "slideshow": {
     "slide_type": "slide"
    }
   },
   "source": [
    "### Q3: who takes longer trips: subscribers and customers ? "
   ]
  },
  {
   "cell_type": "code",
   "execution_count": 83,
   "id": "07aeb322",
   "metadata": {
    "slideshow": {
     "slide_type": "slide"
    }
   },
   "outputs": [
    {
     "data": {
      "text/plain": [
       "Text(0, 0.5, 'user type')"
      ]
     },
     "execution_count": 83,
     "metadata": {},
     "output_type": "execute_result"
    },
    {
     "data": {
      "image/png": "[encoded data removed]",
      "text/plain": [
       "<Figure size 432x288 with 1 Axes>"
      ]
     },
     "metadata": {
      "needs_background": "light"
     },
     "output_type": "display_data"
    }
   ],
   "source": [
    "sns.barplot(data=ford_data, y='user_type', x='minutes', color='blue')\n",
    "plt.title('usage hour by user type')\n",
    "plt.xlabel('minutes')\n",
    "plt.ylabel('user type')"
   ]
  },
  {
   "cell_type": "markdown",
   "id": "cef6846d",
   "metadata": {},
   "source": [
    "from this plot, we can see that customers actually take longer trips than subscribers, with an average of 20 minutes per trip"
   ]
  },
  {
   "cell_type": "markdown",
   "id": "99f8547d",
   "metadata": {
    "slideshow": {
     "slide_type": "slide"
    }
   },
   "source": [
    "### Q4: what are the most frequent genders for each user type ?"
   ]
  },
  {
   "cell_type": "code",
   "execution_count": 84,
   "id": "dc2eab2d",
   "metadata": {
    "scrolled": true,
    "slideshow": {
     "slide_type": "slide"
    }
   },
   "outputs": [
    {
     "data": {
      "text/plain": [
       "Text(0, 0.5, 'number')"
      ]
     },
     "execution_count": 84,
     "metadata": {},
     "output_type": "execute_result"
    },
    {
     "data": {
      "image/png": "[encoded data removed]",
      "text/plain": [
       "<Figure size 432x288 with 1 Axes>"
      ]
     },
     "metadata": {
      "needs_background": "light"
     },
     "output_type": "display_data"
    }
   ],
   "source": [
    "sb.countplot(data = ford_data, x = 'member_gender', hue = 'user_type')\n",
    "plt.title('user type by gender')\n",
    "plt.xlabel('Gender')\n",
    "plt.ylabel('number')"
   ]
  },
  {
   "cell_type": "markdown",
   "id": "b4f679b4",
   "metadata": {},
   "source": [
    "we can see from this plot that the majority of both female and male users are subscribed to the service"
   ]
  },
  {
   "cell_type": "markdown",
   "id": "0257f568",
   "metadata": {
    "slideshow": {
     "slide_type": "slide"
    }
   },
   "source": [
    "### Multivariate Exploration"
   ]
  },
  {
   "cell_type": "markdown",
   "id": "7fad08a8",
   "metadata": {
    "slideshow": {
     "slide_type": "slide"
    }
   },
   "source": [
    "Multivariate analysis is a form of data analysis where the data being analyzed consists of two or more variables and the relations between them "
   ]
  },
  {
   "cell_type": "markdown",
   "id": "d623e070",
   "metadata": {
    "slideshow": {
     "slide_type": "slide"
    }
   },
   "source": [
    "### Q1: what are the durations that each user type ( male or female ) take on each trip ?"
   ]
  },
  {
   "cell_type": "code",
   "execution_count": 85,
   "id": "909abc9f",
   "metadata": {
    "slideshow": {
     "slide_type": "slide"
    }
   },
   "outputs": [
    {
     "data": {
      "text/plain": [
       "Text(0, 0.5, 'duration in minutes')"
      ]
     },
     "execution_count": 85,
     "metadata": {},
     "output_type": "execute_result"
    },
    {
     "data": {
      "image/png": "[encoded data removed]",
      "text/plain": [
       "<Figure size 432x288 with 1 Axes>"
      ]
     },
     "metadata": {
      "needs_background": "light"
     },
     "output_type": "display_data"
    }
   ],
   "source": [
    "ax = sb.barplot(data = ford_data, x = 'user_type', y = 'minutes', hue = 'member_gender');\n",
    "ax.legend(loc = 'upper right', ncol = 3, framealpha = 1, title = 'usage by users gender' );\n",
    "plt.title('trip duration by user types')\n",
    "plt.xlabel('user type')\n",
    "plt.ylabel('duration in minutes')"
   ]
  },
  {
   "cell_type": "markdown",
   "id": "a42d422a",
   "metadata": {},
   "source": [
    "from this plot, we can see that customers have the longest trip durations per week"
   ]
  },
  {
   "cell_type": "markdown",
   "id": "8c2c6be7",
   "metadata": {
    "slideshow": {
     "slide_type": "slide"
    }
   },
   "source": [
    "### Q2: what is the latest hours that users , females or males take their trips on ?"
   ]
  },
  {
   "cell_type": "code",
   "execution_count": 87,
   "id": "42dcd04b",
   "metadata": {
    "scrolled": false,
    "slideshow": {
     "slide_type": "slide"
    }
   },
   "outputs": [
    {
     "data": {
      "text/plain": [
       "Text(0, 0.5, 'gender')"
      ]
     },
     "execution_count": 87,
     "metadata": {},
     "output_type": "execute_result"
    },
    {
     "data": {
      "image/png": "[encoded data removed]",
      "text/plain": [
       "<Figure size 432x288 with 1 Axes>"
      ]
     },
     "metadata": {
      "needs_background": "light"
     },
     "output_type": "display_data"
    }
   ],
   "source": [
    "ax = sb.barplot(data = ford_data, x = 'endpoint', y = 'member_gender', hue = 'user_type')\n",
    "ax.legend(loc = 'upper left', ncol = 3, framealpha = 1, title = 'user types by gender' )\n",
    "plt.title('trip duration by weekday')\n",
    "plt.xlabel('hour')\n",
    "plt.ylabel('gender')"
   ]
  },
  {
   "cell_type": "markdown",
   "id": "947496bd",
   "metadata": {},
   "source": [
    "This plot shows that male customers are likley to take later trips, even into the evening "
   ]
  },
  {
   "cell_type": "markdown",
   "id": "ed7d7def",
   "metadata": {
    "slideshow": {
     "slide_type": "slide"
    }
   },
   "source": [
    "### Q3: what are number of trips for each age group ?"
   ]
  },
  {
   "cell_type": "code",
   "execution_count": 35,
   "id": "4c943a98",
   "metadata": {
    "slideshow": {
     "slide_type": "slide"
    }
   },
   "outputs": [
    {
     "data": {
      "text/plain": [
       "Text(0, 0.5, 'trips number')"
      ]
     },
     "execution_count": 35,
     "metadata": {},
     "output_type": "execute_result"
    },
    {
     "data": {
      "image/png": "[encoded data removed]",
      "text/plain": [
       "<Figure size 432x288 with 1 Axes>"
      ]
     },
     "metadata": {
      "needs_background": "light"
     },
     "output_type": "display_data"
    }
   ],
   "source": [
    "ax = sb.scatterplot(data = ford_data, x = ford_data['ages'], y = ford_data['start_station_id'], hue = 'user_type')\n",
    "ax.legend(loc = 8, ncol = 3, framealpha = 1, title = 'number of trips by age' )\n",
    "plt.title('number of trips for each age group')\n",
    "plt.xlabel('ages')\n",
    "plt.ylabel('trips number')"
   ]
  },
  {
   "cell_type": "markdown",
   "id": "7f6fe139",
   "metadata": {},
   "source": [
    "this plot shows that customers between the ages of 20-40 take the highest number of trips "
   ]
  },
  {
   "cell_type": "markdown",
   "id": "896afbf5",
   "metadata": {
    "slideshow": {
     "slide_type": "slide"
    }
   },
   "source": [
    "###  Conclusion"
   ]
  },
  {
   "cell_type": "markdown",
   "id": "28769c4b",
   "metadata": {
    "slideshow": {
     "slide_type": "slide"
    }
   },
   "source": [
    "from the visual analysis that was conducted in this project , we can see that most of the users are subscribed to the service with a percentage of around 91%. additionally, we can see that most of the trips are taken at 8AM and 5PM which can indicate taht the service is used as a means of transportation to and from work. We can also see that most of the most of the subscribers are males and they also have the highest trip durations. As for the age group with the most trips, it has been proven to be the age group between 20-40 years. And finally, we can see that the day of the week with the highest number of trips is thursday, followed closely by tuesday and wednesday. "
   ]
  },
  {
   "cell_type": "code",
   "execution_count": 36,
   "id": "5017df02",
   "metadata": {
    "slideshow": {
     "slide_type": "skip"
    }
   },
   "outputs": [],
   "source": [
    "ford_data.to_csv('ford_clean.csv')"
   ]
  },
  {
   "cell_type": "code",
   "execution_count": 37,
   "id": "7a0a6f1f",
   "metadata": {
    "slideshow": {
     "slide_type": "skip"
    }
   },
   "outputs": [
    {
     "name": "stderr",
     "output_type": "stream",
     "text": [
      "[NbConvertApp] Converting notebook communicate_finds.ipynb to slides\n",
      "[NbConvertApp] Writing 734772 bytes to communicate_finds.slides.html\n",
      "[NbConvertApp] Redirecting reveal.js requests to https://cdnjs.cloudflare.com/ajax/libs/reveal.js/3.5.0\n",
      "Traceback (most recent call last):\n",
      "  File \"C:\\Users\\96658\\anaconda\\Scripts\\jupyter-nbconvert-script.py\", line 10, in <module>\n",
      "    sys.exit(main())\n",
      "  File \"C:\\Users\\96658\\anaconda\\lib\\site-packages\\jupyter_core\\application.py\", line 254, in launch_instance\n",
      "    return super(JupyterApp, cls).launch_instance(argv=argv, **kwargs)\n",
      "  File \"C:\\Users\\96658\\anaconda\\lib\\site-packages\\traitlets\\config\\application.py\", line 845, in launch_instance\n",
      "    app.start()\n",
      "  File \"C:\\Users\\96658\\anaconda\\lib\\site-packages\\nbconvert\\nbconvertapp.py\", line 350, in start\n",
      "    self.convert_notebooks()\n",
      "  File \"C:\\Users\\96658\\anaconda\\lib\\site-packages\\nbconvert\\nbconvertapp.py\", line 524, in convert_notebooks\n",
      "    self.convert_single_notebook(notebook_filename)\n",
      "  File \"C:\\Users\\96658\\anaconda\\lib\\site-packages\\nbconvert\\nbconvertapp.py\", line 491, in convert_single_notebook\n",
      "    self.postprocess_single_notebook(write_results)\n",
      "  File \"C:\\Users\\96658\\anaconda\\lib\\site-packages\\nbconvert\\nbconvertapp.py\", line 463, in postprocess_single_notebook\n",
      "    self.postprocessor(write_results)\n",
      "  File \"C:\\Users\\96658\\anaconda\\lib\\site-packages\\nbconvert\\postprocessors\\base.py\", line 28, in __call__\n",
      "    self.postprocess(input)\n",
      "  File \"C:\\Users\\96658\\anaconda\\lib\\site-packages\\nbconvert\\postprocessors\\serve.py\", line 90, in postprocess\n",
      "    http_server.listen(self.port, address=self.ip)\n",
      "  File \"C:\\Users\\96658\\anaconda\\lib\\site-packages\\tornado\\tcpserver.py\", line 151, in listen\n",
      "    sockets = bind_sockets(port, address=address)\n",
      "  File \"C:\\Users\\96658\\anaconda\\lib\\site-packages\\tornado\\netutil.py\", line 161, in bind_sockets\n",
      "    sock.bind(sockaddr)\n",
      "OSError: [WinError 10048] Only one usage of each socket address (protocol/network address/port) is normally permitted\n"
     ]
    }
   ],
   "source": [
    "!jupyter nbconvert communicate_finds.ipynb --to slides --post serve  --no-input --no-prompt"
   ]
  },
  {
   "cell_type": "code",
   "execution_count": null,
   "id": "6747ab2c",
   "metadata": {},
   "outputs": [],
   "source": []
  }
 ],
 "metadata": {
  "kernelspec": {
   "display_name": "Python 3",
   "language": "python",
   "name": "python3"
  },
  "language_info": {
   "codemirror_mode": {
    "name": "ipython",
    "version": 3
   },
   "file_extension": ".py",
   "mimetype": "text/x-python",
   "name": "python",
   "nbconvert_exporter": "python",
   "pygments_lexer": "ipython3",
   "version": "3.8.8"
  }
 },
 "nbformat": 4,
 "nbformat_minor": 5
}
