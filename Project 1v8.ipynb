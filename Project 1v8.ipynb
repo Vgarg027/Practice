{
 "cells": [
  {
   "cell_type": "markdown",
   "metadata": {
    "heading_collapsed": true
   },
   "source": [
    "# \tWhat properties are associated with movies that have high economic performance?"
   ]
  },
  {
   "cell_type": "markdown",
   "metadata": {
    "heading_collapsed": true,
    "hidden": true
   },
   "source": [
    "## Table of contents"
   ]
  },
  {
   "cell_type": "markdown",
   "metadata": {
    "hidden": true
   },
   "source": [
    "<li><a href=\"#Introduction\">Introduction</a></li>\n",
    "<li><a href=\"#Preparation\">Preparation</a></li>\n",
    "<li><a href=\"#Data cleaning\">Data cleaning</a></li>\n",
    "<li><a href=\"#Analysis\">Analysis</a></li>\n",
    "<li><a href=\"#Conclusions\">Conclusions</a></li>"
   ]
  },
  {
   "cell_type": "markdown",
   "metadata": {
    "heading_collapsed": true,
    "hidden": true
   },
   "source": [
    "## Introduction\n",
    "<a id='Introduction'></a>"
   ]
  },
  {
   "cell_type": "markdown",
   "metadata": {
    "hidden": true
   },
   "source": [
    "The objective of this document is to give producers guidance on how to increase the economic performance of their movies."
   ]
  },
  {
   "cell_type": "markdown",
   "metadata": {
    "hidden": true
   },
   "source": [
    "The research question is: what properties are associated with movies that have high economic performance?"
   ]
  },
  {
   "cell_type": "markdown",
   "metadata": {
    "hidden": true
   },
   "source": [
    "The operational definition of economic performance is Gross Profit Margin (GPM):\n",
    "\n",
    "\n",
    "\\begin{equation}\n",
    "GPM = \\frac{revenue - budget}{revenue}\n",
    "\\end{equation}"
   ]
  },
  {
   "cell_type": "markdown",
   "metadata": {
    "hidden": true
   },
   "source": [
    "Revenue and budget are inflation adjusted to be comparable for movies from different release dates."
   ]
  },
  {
   "cell_type": "markdown",
   "metadata": {
    "hidden": true
   },
   "source": [
    "The methodology to answer the research question is data analysis. The properties\n",
    "\n",
    "* budget,\n",
    "* revenue,\n",
    "* rating,\n",
    "* release month, and\n",
    "* release day (of the month)\n",
    "\n",
    "are investigated and their correlation with each other and on the GPM is determined."
   ]
  },
  {
   "cell_type": "markdown",
   "metadata": {
    "hidden": true
   },
   "source": [
    "Additionally the impact of previously released movies on a given movie is also analyzed."
   ]
  },
  {
   "cell_type": "markdown",
   "metadata": {
    "heading_collapsed": true,
    "hidden": true
   },
   "source": [
    "## Preparation\n",
    "<a id='Preparation'></a>"
   ]
  },
  {
   "cell_type": "markdown",
   "metadata": {
    "hidden": true
   },
   "source": [
    "In this section preporatory steps are taken, namely:\n",
    "* Importing required Python packages.\n",
    "* Modifying settings which are applicable for this entire notebook.\n",
    "* Loading in the data.\n",
    "* High level modification of data, e.g. converting string to datetime."
   ]
  },
  {
   "cell_type": "code",
   "execution_count": 1,
   "metadata": {
    "hidden": true
   },
   "outputs": [],
   "source": [
    "# Importing required packages and modifying settings.\n",
    "import itertools\n",
    "from datetime import datetime\n",
    "import matplotlib as mpl\n",
    "import matplotlib.pyplot as plt\n",
    "import numpy as np\n",
    "import pandas as pd\n",
    "import seaborn as sns\n",
    "\n",
    "%matplotlib inline\n",
    "pd.set_option('display.max_columns', None)"
   ]
  },
  {
   "cell_type": "code",
   "execution_count": 2,
   "metadata": {
    "hidden": true
   },
   "outputs": [
    {
     "data": {
      "text/html": [
       "<div>\n",
       "<style scoped>\n",
       "    .dataframe tbody tr th:only-of-type {\n",
       "        vertical-align: middle;\n",
       "    }\n",
       "\n",
       "    .dataframe tbody tr th {\n",
       "        vertical-align: top;\n",
       "    }\n",
       "\n",
       "    .dataframe thead th {\n",
       "        text-align: right;\n",
       "    }\n",
       "</style>\n",
       "<table border=\"1\" class=\"dataframe\">\n",
       "  <thead>\n",
       "    <tr style=\"text-align: right;\">\n",
       "      <th></th>\n",
       "      <th>id</th>\n",
       "      <th>imdb_id</th>\n",
       "      <th>popularity</th>\n",
       "      <th>budget</th>\n",
       "      <th>revenue</th>\n",
       "      <th>original_title</th>\n",
       "      <th>cast</th>\n",
       "      <th>homepage</th>\n",
       "      <th>director</th>\n",
       "      <th>tagline</th>\n",
       "      <th>keywords</th>\n",
       "      <th>overview</th>\n",
       "      <th>runtime</th>\n",
       "      <th>genres</th>\n",
       "      <th>production_companies</th>\n",
       "      <th>release_date</th>\n",
       "      <th>vote_count</th>\n",
       "      <th>vote_average</th>\n",
       "      <th>release_year</th>\n",
       "      <th>budget_adj</th>\n",
       "      <th>revenue_adj</th>\n",
       "    </tr>\n",
       "  </thead>\n",
       "  <tbody>\n",
       "    <tr>\n",
       "      <td>0</td>\n",
       "      <td>135397</td>\n",
       "      <td>tt0369610</td>\n",
       "      <td>32.985763</td>\n",
       "      <td>150000000</td>\n",
       "      <td>1513528810</td>\n",
       "      <td>Jurassic World</td>\n",
       "      <td>Chris Pratt|Bryce Dallas Howard|Irrfan Khan|Vi...</td>\n",
       "      <td>http://www.jurassicworld.com/</td>\n",
       "      <td>Colin Trevorrow</td>\n",
       "      <td>The park is open.</td>\n",
       "      <td>monster|dna|tyrannosaurus rex|velociraptor|island</td>\n",
       "      <td>Twenty-two years after the events of Jurassic ...</td>\n",
       "      <td>124</td>\n",
       "      <td>Action|Adventure|Science Fiction|Thriller</td>\n",
       "      <td>Universal Studios|Amblin Entertainment|Legenda...</td>\n",
       "      <td>6/9/15</td>\n",
       "      <td>5562</td>\n",
       "      <td>6.5</td>\n",
       "      <td>2015</td>\n",
       "      <td>1.379999e+08</td>\n",
       "      <td>1.392446e+09</td>\n",
       "    </tr>\n",
       "    <tr>\n",
       "      <td>1</td>\n",
       "      <td>76341</td>\n",
       "      <td>tt1392190</td>\n",
       "      <td>28.419936</td>\n",
       "      <td>150000000</td>\n",
       "      <td>378436354</td>\n",
       "      <td>Mad Max: Fury Road</td>\n",
       "      <td>Tom Hardy|Charlize Theron|Hugh Keays-Byrne|Nic...</td>\n",
       "      <td>http://www.madmaxmovie.com/</td>\n",
       "      <td>George Miller</td>\n",
       "      <td>What a Lovely Day.</td>\n",
       "      <td>future|chase|post-apocalyptic|dystopia|australia</td>\n",
       "      <td>An apocalyptic story set in the furthest reach...</td>\n",
       "      <td>120</td>\n",
       "      <td>Action|Adventure|Science Fiction|Thriller</td>\n",
       "      <td>Village Roadshow Pictures|Kennedy Miller Produ...</td>\n",
       "      <td>5/13/15</td>\n",
       "      <td>6185</td>\n",
       "      <td>7.1</td>\n",
       "      <td>2015</td>\n",
       "      <td>1.379999e+08</td>\n",
       "      <td>3.481613e+08</td>\n",
       "    </tr>\n",
       "    <tr>\n",
       "      <td>2</td>\n",
       "      <td>262500</td>\n",
       "      <td>tt2908446</td>\n",
       "      <td>13.112507</td>\n",
       "      <td>110000000</td>\n",
       "      <td>295238201</td>\n",
       "      <td>Insurgent</td>\n",
       "      <td>Shailene Woodley|Theo James|Kate Winslet|Ansel...</td>\n",
       "      <td>http://www.thedivergentseries.movie/#insurgent</td>\n",
       "      <td>Robert Schwentke</td>\n",
       "      <td>One Choice Can Destroy You</td>\n",
       "      <td>based on novel|revolution|dystopia|sequel|dyst...</td>\n",
       "      <td>Beatrice Prior must confront her inner demons ...</td>\n",
       "      <td>119</td>\n",
       "      <td>Adventure|Science Fiction|Thriller</td>\n",
       "      <td>Summit Entertainment|Mandeville Films|Red Wago...</td>\n",
       "      <td>3/18/15</td>\n",
       "      <td>2480</td>\n",
       "      <td>6.3</td>\n",
       "      <td>2015</td>\n",
       "      <td>1.012000e+08</td>\n",
       "      <td>2.716190e+08</td>\n",
       "    </tr>\n",
       "  </tbody>\n",
       "</table>\n",
       "</div>"
      ],
      "text/plain": [
       "       id    imdb_id  popularity     budget     revenue      original_title  \\\n",
       "0  135397  tt0369610   32.985763  150000000  1513528810      Jurassic World   \n",
       "1   76341  tt1392190   28.419936  150000000   378436354  Mad Max: Fury Road   \n",
       "2  262500  tt2908446   13.112507  110000000   295238201           Insurgent   \n",
       "\n",
       "                                                cast  \\\n",
       "0  Chris Pratt|Bryce Dallas Howard|Irrfan Khan|Vi...   \n",
       "1  Tom Hardy|Charlize Theron|Hugh Keays-Byrne|Nic...   \n",
       "2  Shailene Woodley|Theo James|Kate Winslet|Ansel...   \n",
       "\n",
       "                                         homepage          director  \\\n",
       "0                   http://www.jurassicworld.com/   Colin Trevorrow   \n",
       "1                     http://www.madmaxmovie.com/     George Miller   \n",
       "2  http://www.thedivergentseries.movie/#insurgent  Robert Schwentke   \n",
       "\n",
       "                      tagline  \\\n",
       "0           The park is open.   \n",
       "1          What a Lovely Day.   \n",
       "2  One Choice Can Destroy You   \n",
       "\n",
       "                                            keywords  \\\n",
       "0  monster|dna|tyrannosaurus rex|velociraptor|island   \n",
       "1   future|chase|post-apocalyptic|dystopia|australia   \n",
       "2  based on novel|revolution|dystopia|sequel|dyst...   \n",
       "\n",
       "                                            overview  runtime  \\\n",
       "0  Twenty-two years after the events of Jurassic ...      124   \n",
       "1  An apocalyptic story set in the furthest reach...      120   \n",
       "2  Beatrice Prior must confront her inner demons ...      119   \n",
       "\n",
       "                                      genres  \\\n",
       "0  Action|Adventure|Science Fiction|Thriller   \n",
       "1  Action|Adventure|Science Fiction|Thriller   \n",
       "2         Adventure|Science Fiction|Thriller   \n",
       "\n",
       "                                production_companies release_date  vote_count  \\\n",
       "0  Universal Studios|Amblin Entertainment|Legenda...       6/9/15        5562   \n",
       "1  Village Roadshow Pictures|Kennedy Miller Produ...      5/13/15        6185   \n",
       "2  Summit Entertainment|Mandeville Films|Red Wago...      3/18/15        2480   \n",
       "\n",
       "   vote_average  release_year    budget_adj   revenue_adj  \n",
       "0           6.5          2015  1.379999e+08  1.392446e+09  \n",
       "1           7.1          2015  1.379999e+08  3.481613e+08  \n",
       "2           6.3          2015  1.012000e+08  2.716190e+08  "
      ]
     },
     "execution_count": 2,
     "metadata": {},
     "output_type": "execute_result"
    }
   ],
   "source": [
    "# Importing data.\n",
    "data = pd.read_csv('tmdb-movies.csv')\n",
    "data.head(3)"
   ]
  },
  {
   "cell_type": "code",
   "execution_count": 3,
   "metadata": {
    "hidden": true
   },
   "outputs": [
    {
     "data": {
      "text/html": [
       "<div>\n",
       "<style scoped>\n",
       "    .dataframe tbody tr th:only-of-type {\n",
       "        vertical-align: middle;\n",
       "    }\n",
       "\n",
       "    .dataframe tbody tr th {\n",
       "        vertical-align: top;\n",
       "    }\n",
       "\n",
       "    .dataframe thead th {\n",
       "        text-align: right;\n",
       "    }\n",
       "</style>\n",
       "<table border=\"1\" class=\"dataframe\">\n",
       "  <thead>\n",
       "    <tr style=\"text-align: right;\">\n",
       "      <th></th>\n",
       "      <th>original_title</th>\n",
       "      <th>budget</th>\n",
       "      <th>revenue</th>\n",
       "      <th>budget_adj</th>\n",
       "      <th>revenue_adj</th>\n",
       "    </tr>\n",
       "  </thead>\n",
       "  <tbody>\n",
       "    <tr>\n",
       "      <td>0</td>\n",
       "      <td>Jurassic World</td>\n",
       "      <td>150.0</td>\n",
       "      <td>1513.528810</td>\n",
       "      <td>137.999939</td>\n",
       "      <td>1392.445893</td>\n",
       "    </tr>\n",
       "    <tr>\n",
       "      <td>1</td>\n",
       "      <td>Mad Max: Fury Road</td>\n",
       "      <td>150.0</td>\n",
       "      <td>378.436354</td>\n",
       "      <td>137.999939</td>\n",
       "      <td>348.161292</td>\n",
       "    </tr>\n",
       "    <tr>\n",
       "      <td>2</td>\n",
       "      <td>Insurgent</td>\n",
       "      <td>110.0</td>\n",
       "      <td>295.238201</td>\n",
       "      <td>101.199955</td>\n",
       "      <td>271.619025</td>\n",
       "    </tr>\n",
       "  </tbody>\n",
       "</table>\n",
       "</div>"
      ],
      "text/plain": [
       "       original_title  budget      revenue  budget_adj  revenue_adj\n",
       "0      Jurassic World   150.0  1513.528810  137.999939  1392.445893\n",
       "1  Mad Max: Fury Road   150.0   378.436354  137.999939   348.161292\n",
       "2           Insurgent   110.0   295.238201  101.199955   271.619025"
      ]
     },
     "execution_count": 3,
     "metadata": {},
     "output_type": "execute_result"
    }
   ],
   "source": [
    "# Changing entries in USD to MUSD (million USD) for better readability.\n",
    "data['budget'] /= 10**6\n",
    "data['revenue'] /= 10**6\n",
    "data['budget_adj'] /= 10**6\n",
    "data['revenue_adj'] /= 10**6\n",
    "data[['original_title', 'budget', 'revenue', 'budget_adj', 'revenue_adj']].head(3)"
   ]
  },
  {
   "cell_type": "code",
   "execution_count": 4,
   "metadata": {
    "hidden": true
   },
   "outputs": [
    {
     "data": {
      "text/html": [
       "<div>\n",
       "<style scoped>\n",
       "    .dataframe tbody tr th:only-of-type {\n",
       "        vertical-align: middle;\n",
       "    }\n",
       "\n",
       "    .dataframe tbody tr th {\n",
       "        vertical-align: top;\n",
       "    }\n",
       "\n",
       "    .dataframe thead th {\n",
       "        text-align: right;\n",
       "    }\n",
       "</style>\n",
       "<table border=\"1\" class=\"dataframe\">\n",
       "  <thead>\n",
       "    <tr style=\"text-align: right;\">\n",
       "      <th></th>\n",
       "      <th>original_title</th>\n",
       "      <th>release_date</th>\n",
       "    </tr>\n",
       "  </thead>\n",
       "  <tbody>\n",
       "    <tr>\n",
       "      <td>0</td>\n",
       "      <td>Jurassic World</td>\n",
       "      <td>2015-06-09</td>\n",
       "    </tr>\n",
       "    <tr>\n",
       "      <td>1</td>\n",
       "      <td>Mad Max: Fury Road</td>\n",
       "      <td>2015-05-13</td>\n",
       "    </tr>\n",
       "    <tr>\n",
       "      <td>2</td>\n",
       "      <td>Insurgent</td>\n",
       "      <td>2015-03-18</td>\n",
       "    </tr>\n",
       "  </tbody>\n",
       "</table>\n",
       "</div>"
      ],
      "text/plain": [
       "       original_title release_date\n",
       "0      Jurassic World   2015-06-09\n",
       "1  Mad Max: Fury Road   2015-05-13\n",
       "2           Insurgent   2015-03-18"
      ]
     },
     "execution_count": 4,
     "metadata": {},
     "output_type": "execute_result"
    }
   ],
   "source": [
    "# Changing 'release_date' entries from string format to datetime.\n",
    "data['release_date'] = pd.to_datetime(data['release_date'], format='%m/%d/%y')\n",
    "data[['original_title', 'release_date']].head(3)"
   ]
  },
  {
   "cell_type": "markdown",
   "metadata": {
    "heading_collapsed": true,
    "hidden": true
   },
   "source": [
    "## Data cleaning\n",
    "<a id='Data cleaning'></a>"
   ]
  },
  {
   "cell_type": "markdown",
   "metadata": {
    "hidden": true
   },
   "source": [
    "In this section the data is inspected more closely, modified and cleaned as necessary."
   ]
  },
  {
   "cell_type": "markdown",
   "metadata": {
    "heading_collapsed": true,
    "hidden": true
   },
   "source": [
    "### Year"
   ]
  },
  {
   "cell_type": "code",
   "execution_count": 5,
   "metadata": {
    "hidden": true,
    "scrolled": false
   },
   "outputs": [
    {
     "data": {
      "text/plain": [
       "count    10866.000000\n",
       "mean      2001.322658\n",
       "std         12.812941\n",
       "min       1960.000000\n",
       "25%       1995.000000\n",
       "50%       2006.000000\n",
       "75%       2011.000000\n",
       "max       2015.000000\n",
       "Name: release_year, dtype: float64"
      ]
     },
     "execution_count": 5,
     "metadata": {},
     "output_type": "execute_result"
    }
   ],
   "source": [
    "# Obtaining the key properties of the distribution of 'release_year'.\n",
    "data['release_year'].describe()"
   ]
  },
  {
   "cell_type": "code",
   "execution_count": 6,
   "metadata": {
    "hidden": true,
    "scrolled": false
   },
   "outputs": [
    {
     "data": {
      "image/png": "[encoded data removed]",
      "text/plain": [
       "<Figure size 432x288 with 1 Axes>"
      ]
     },
     "metadata": {
      "needs_background": "light"
     },
     "output_type": "display_data"
    }
   ],
   "source": [
    "# Plotting the histogram of 'release_year'.\n",
    "data['release_year'].hist(ec='black', bins=np.linspace(1959.5, 2015.5, num=(2015-1960+2)))\n",
    "plt.xlabel('Year')\n",
    "plt.ylabel('Number of released movies')\n",
    "plt.tight_layout()"
   ]
  },
  {
   "cell_type": "markdown",
   "metadata": {
    "hidden": true
   },
   "source": [
    "'release_year' seems correct and does not require any actions."
   ]
  },
  {
   "cell_type": "markdown",
   "metadata": {
    "heading_collapsed": true,
    "hidden": true
   },
   "source": [
    "### Release date"
   ]
  },
  {
   "cell_type": "code",
   "execution_count": 7,
   "metadata": {
    "hidden": true,
    "scrolled": true
   },
   "outputs": [
    {
     "data": {
      "text/plain": [
       "count                   10866\n",
       "unique                   5909\n",
       "top       2009-01-01 00:00:00\n",
       "freq                       28\n",
       "first     1969-01-01 00:00:00\n",
       "last      2068-12-22 00:00:00\n",
       "Name: release_date, dtype: object"
      ]
     },
     "execution_count": 7,
     "metadata": {},
     "output_type": "execute_result"
    }
   ],
   "source": [
    "# Obtaining the key properties of the distribution of 'release_date'.\n",
    "data['release_date'].describe()"
   ]
  },
  {
   "cell_type": "markdown",
   "metadata": {
    "hidden": true
   },
   "source": [
    "The maximum 'release_date' is in the future. This cannot be correct. Upon further inspection it is found that the string format entry in the original data is simply 68, which is incorrectly parsed as 2068 whereas it should be 1968. However the 'release_year' entry is correct. Hence 'release_year' can be used to check and correct 'release_date'."
   ]
  },
  {
   "cell_type": "code",
   "execution_count": 8,
   "metadata": {
    "hidden": true
   },
   "outputs": [],
   "source": [
    "# Defining a function to check and correct 'release_date'.\n",
    "def correct_year(series):\n",
    "    if series['release_date'].year != series['release_year']:\n",
    "        series['release_date'] = series['release_date'].replace(year=int(series['release_year']))\n",
    "    return series"
   ]
  },
  {
   "cell_type": "code",
   "execution_count": 9,
   "metadata": {
    "hidden": true
   },
   "outputs": [],
   "source": [
    "# Applying the above function to the data.\n",
    "data = data.apply(correct_year,axis=1)"
   ]
  },
  {
   "cell_type": "code",
   "execution_count": 10,
   "metadata": {
    "hidden": true,
    "scrolled": true
   },
   "outputs": [
    {
     "data": {
      "text/plain": [
       "count                   10866\n",
       "unique                   5909\n",
       "top       2009-01-01 00:00:00\n",
       "freq                       28\n",
       "first     1960-01-01 00:00:00\n",
       "last      2015-12-31 00:00:00\n",
       "Name: release_date, dtype: object"
      ]
     },
     "execution_count": 10,
     "metadata": {},
     "output_type": "execute_result"
    }
   ],
   "source": [
    "# Obtaining the key properties of the distribution of the now corrected 'release_date'.\n",
    "data['release_date'].describe()"
   ]
  },
  {
   "cell_type": "markdown",
   "metadata": {
    "hidden": true
   },
   "source": [
    "'release_date' seems now correct and does not require further actions."
   ]
  },
  {
   "cell_type": "markdown",
   "metadata": {
    "heading_collapsed": true,
    "hidden": true
   },
   "source": [
    "### Rating"
   ]
  },
  {
   "cell_type": "markdown",
   "metadata": {
    "hidden": true
   },
   "source": [
    "Rating refers to 'vote_average'."
   ]
  },
  {
   "cell_type": "code",
   "execution_count": 11,
   "metadata": {
    "hidden": true
   },
   "outputs": [
    {
     "data": {
      "text/plain": [
       "count    10866.000000\n",
       "mean         5.974922\n",
       "std          0.935142\n",
       "min          1.500000\n",
       "25%          5.400000\n",
       "50%          6.000000\n",
       "75%          6.600000\n",
       "max          9.200000\n",
       "Name: vote_average, dtype: float64"
      ]
     },
     "execution_count": 11,
     "metadata": {},
     "output_type": "execute_result"
    }
   ],
   "source": [
    "# Obtaining the key properties of the distribution of 'vote_average'.\n",
    "data['vote_average'].describe()"
   ]
  },
  {
   "cell_type": "code",
   "execution_count": 12,
   "metadata": {
    "hidden": true
   },
   "outputs": [
    {
     "data": {
      "image/png": "[encoded data removed]",
      "text/plain": [
       "<Figure size 432x288 with 1 Axes>"
      ]
     },
     "metadata": {
      "needs_background": "light"
     },
     "output_type": "display_data"
    }
   ],
   "source": [
    "# Plotting the histogram of 'vote_average'.\n",
    "ax = data['vote_average'].hist(ec='black',bins=np.linspace(0, 10, num=21))\n",
    "plt.xlabel('Rating')\n",
    "plt.ylabel('Number of movies')\n",
    "ax.set_xlim(0, 10)\n",
    "ax.xaxis.set_major_locator(mpl.ticker.LinearLocator(11))\n",
    "plt.tight_layout()"
   ]
  },
  {
   "cell_type": "code",
   "execution_count": 13,
   "metadata": {
    "hidden": true
   },
   "outputs": [
    {
     "data": {
      "image/png": "[encoded data removed]",
      "text/plain": [
       "<Figure size 432x288 with 1 Axes>"
      ]
     },
     "metadata": {
      "needs_background": "light"
     },
     "output_type": "display_data"
    }
   ],
   "source": [
    "# Creating a boxplot of 'vote_average', grouped by 'release_year'.\n",
    "ax = data.boxplot(by='release_year', column=['vote_average'], showmeans=True)\n",
    "ax.set_xlabel('Release year')\n",
    "ax.set_ylabel('Rating')\n",
    "plt.title('')\n",
    "plt.suptitle('')\n",
    "ax.set_ylim(3, 9)\n",
    "tick_skip = 10\n",
    "ax.set_xticklabels(ax.get_xticklabels()[::tick_skip])\n",
    "ax.set_xticks(ax.get_xticks()[::tick_skip])\n",
    "plt.tight_layout()"
   ]
  },
  {
   "cell_type": "markdown",
   "metadata": {
    "hidden": true
   },
   "source": [
    "'vote_average' seems correct and does not require any actions."
   ]
  },
  {
   "cell_type": "markdown",
   "metadata": {
    "heading_collapsed": true,
    "hidden": true
   },
   "source": [
    "### Adjusted budget"
   ]
  },
  {
   "cell_type": "code",
   "execution_count": 14,
   "metadata": {
    "hidden": true
   },
   "outputs": [
    {
     "data": {
      "text/plain": [
       "count    10866.000000\n",
       "mean        17.551040\n",
       "std         34.306156\n",
       "min          0.000000\n",
       "25%          0.000000\n",
       "50%          0.000000\n",
       "75%         20.853251\n",
       "max        425.000000\n",
       "Name: budget_adj, dtype: float64"
      ]
     },
     "execution_count": 14,
     "metadata": {},
     "output_type": "execute_result"
    }
   ],
   "source": [
    "# Obtaining the key properties of the distribution of 'budget_adj'.\n",
    "data['budget_adj'].describe()"
   ]
  },
  {
   "cell_type": "code",
   "execution_count": 15,
   "metadata": {
    "hidden": true
   },
   "outputs": [
    {
     "data": {
      "image/png": "[encoded data removed]",
      "text/plain": [
       "<Figure size 432x288 with 1 Axes>"
      ]
     },
     "metadata": {
      "needs_background": "light"
     },
     "output_type": "display_data"
    }
   ],
   "source": [
    "# Plotting the histogram of 'budget_adj'.\n",
    "data['budget_adj'].hist(ec='black', bins=range(0,426,1))\n",
    "plt.xlabel('Adjusted budget in MUSD')\n",
    "plt.ylabel('Number of movies')\n",
    "plt.tight_layout()"
   ]
  },
  {
   "cell_type": "markdown",
   "metadata": {
    "hidden": true
   },
   "source": [
    "There seem to be a lot of movies with an adjusted budget of less than 1 MUSD. This requires further investigation. "
   ]
  },
  {
   "cell_type": "code",
   "execution_count": 16,
   "metadata": {
    "hidden": true
   },
   "outputs": [
    {
     "data": {
      "image/png": "[encoded data removed]",
      "text/plain": [
       "<Figure size 432x288 with 1 Axes>"
      ]
     },
     "metadata": {
      "needs_background": "light"
     },
     "output_type": "display_data"
    }
   ],
   "source": [
    "# Zooming in.\n",
    "data['budget_adj'].hist(ec='black', bins=range(0,101,1))\n",
    "plt.xlabel('Adjusted budget in MUSD')\n",
    "plt.ylabel('Number of movies')\n",
    "plt.tight_layout()"
   ]
  },
  {
   "cell_type": "code",
   "execution_count": 17,
   "metadata": {
    "hidden": true
   },
   "outputs": [
    {
     "data": {
      "image/png": "[encoded data removed]",
      "text/plain": [
       "<Figure size 432x288 with 1 Axes>"
      ]
     },
     "metadata": {
      "needs_background": "light"
     },
     "output_type": "display_data"
    }
   ],
   "source": [
    "# Zooming further in.\n",
    "data['budget_adj'].hist(ec='black', bins=range(0,11,1))\n",
    "plt.xlabel('Adjusted budget in MUSD')\n",
    "plt.ylabel('Number of movies')\n",
    "plt.tight_layout()"
   ]
  },
  {
   "cell_type": "code",
   "execution_count": 18,
   "metadata": {
    "hidden": true
   },
   "outputs": [
    {
     "data": {
      "image/png": "[encoded data removed]",
      "text/plain": [
       "<Figure size 432x288 with 1 Axes>"
      ]
     },
     "metadata": {
      "needs_background": "light"
     },
     "output_type": "display_data"
    }
   ],
   "source": [
    "# Zooming further in.\n",
    "data['budget_adj'].hist(ec='black', bins=np.linspace(0,1,num=11))\n",
    "plt.xlabel('Adjusted budget in MUSD')\n",
    "plt.ylabel('Number of movies')\n",
    "plt.tight_layout()"
   ]
  },
  {
   "cell_type": "markdown",
   "metadata": {
    "hidden": true
   },
   "source": [
    "There seem to be a lot of movies with an adjusted budget of less than 0.1 MUSD. This seems incorrect."
   ]
  },
  {
   "cell_type": "code",
   "execution_count": 19,
   "metadata": {
    "hidden": true
   },
   "outputs": [
    {
     "data": {
      "text/plain": [
       "5696"
      ]
     },
     "execution_count": 19,
     "metadata": {},
     "output_type": "execute_result"
    }
   ],
   "source": [
    "# Checking how many movies have an adjusted budget of exactly 0 MUSD.\n",
    "(data['budget_adj'] == 0).sum()"
   ]
  },
  {
   "cell_type": "code",
   "execution_count": 20,
   "metadata": {
    "hidden": true
   },
   "outputs": [
    {
     "data": {
      "text/plain": [
       "5170"
      ]
     },
     "execution_count": 20,
     "metadata": {},
     "output_type": "execute_result"
    }
   ],
   "source": [
    "# Checking how many movies have an adjusted budget of more than 0 MUSD.\n",
    "(data['budget_adj'] > 0).sum()"
   ]
  },
  {
   "cell_type": "code",
   "execution_count": 21,
   "metadata": {
    "hidden": true
   },
   "outputs": [
    {
     "data": {
      "text/plain": [
       "True"
      ]
     },
     "execution_count": 21,
     "metadata": {},
     "output_type": "execute_result"
    }
   ],
   "source": [
    "# Verifying that all movies have numerical and postive entries for 'budget_adj'.\n",
    "len(data['budget_adj']) == (data['budget_adj'] == 0).sum() + (data['budget_adj'] > 0).sum()"
   ]
  },
  {
   "cell_type": "code",
   "execution_count": 22,
   "metadata": {
    "hidden": true
   },
   "outputs": [
    {
     "data": {
      "text/plain": [
       "id                                                                   9611\n",
       "imdb_id                                                         tt0120032\n",
       "popularity                                                       0.431088\n",
       "budget                                                                  0\n",
       "revenue                                                           29.2354\n",
       "original_title                     Romy and Michele's High School Reunion\n",
       "cast                    Mira Sorvino|Lisa Kudrow|Janeane Garofalo|Alan...\n",
       "homepage                                                              NaN\n",
       "director                                                     David Mirkin\n",
       "tagline                                    The Blonde Leading The Blonde.\n",
       "keywords                smoking|overweight child|graduation|marriage|h...\n",
       "overview                Two not-too-bright party girls reinvent themse...\n",
       "runtime                                                                92\n",
       "genres                                                             Comedy\n",
       "production_companies                                  Touchstone Pictures\n",
       "release_date                                          1997-04-25 00:00:00\n",
       "vote_count                                                             71\n",
       "vote_average                                                          5.9\n",
       "release_year                                                         1997\n",
       "budget_adj                                                              0\n",
       "revenue_adj                                                       39.7151\n",
       "Name: 5329, dtype: object"
      ]
     },
     "execution_count": 22,
     "metadata": {},
     "output_type": "execute_result"
    }
   ],
   "source": [
    "# Looking at an entry with adjusted budget of 0.\n",
    "data.iloc[data['budget_adj'].argsort()[0]]"
   ]
  },
  {
   "cell_type": "markdown",
   "metadata": {
    "hidden": true
   },
   "source": [
    "According to Wikipedia, this movie had a non-zero budget. Apparently the entry is incorrect. It is assumed that all zero-entries for adjusted budget are incorrect. It is decided to exclude all movies whith zero-entries for adjusted budget."
   ]
  },
  {
   "cell_type": "code",
   "execution_count": 23,
   "metadata": {
    "hidden": true
   },
   "outputs": [],
   "source": [
    "# Deleting movies whith zero-entries for adjusted budget.\n",
    "data = data[data['budget_adj'] > 0]\n",
    "data.reset_index(drop=True, inplace=True)"
   ]
  },
  {
   "cell_type": "code",
   "execution_count": 24,
   "metadata": {
    "hidden": true
   },
   "outputs": [
    {
     "data": {
      "text/plain": [
       "count    5170.000000\n",
       "mean       36.887737\n",
       "std        41.957008\n",
       "min         0.000001\n",
       "25%         8.102293\n",
       "50%        22.722709\n",
       "75%        50.074831\n",
       "max       425.000000\n",
       "Name: budget_adj, dtype: object"
      ]
     },
     "execution_count": 24,
     "metadata": {},
     "output_type": "execute_result"
    }
   ],
   "source": [
    "# Obtaining the key properties of the distribution of 'budget_adj' after the deletion of zero-entries.\n",
    "(data['budget_adj']).describe().apply(lambda x: format(x, 'f'))"
   ]
  },
  {
   "cell_type": "code",
   "execution_count": 25,
   "metadata": {
    "hidden": true
   },
   "outputs": [
    {
     "data": {
      "image/png": "[encoded data removed]",
      "text/plain": [
       "<Figure size 432x288 with 1 Axes>"
      ]
     },
     "metadata": {
      "needs_background": "light"
     },
     "output_type": "display_data"
    }
   ],
   "source": [
    "# Plotting the histogram of 'budget_adj' after the deletion of zero-entries.\n",
    "data['budget_adj'].hist(ec='black', bins=range(0, 426, 1))\n",
    "plt.xlabel('Adjusted budget in MUSD')\n",
    "plt.ylabel('Number of movies')\n",
    "plt.tight_layout()"
   ]
  },
  {
   "cell_type": "code",
   "execution_count": 26,
   "metadata": {
    "hidden": true
   },
   "outputs": [
    {
     "data": {
      "image/png": "[encoded data removed]",
      "text/plain": [
       "<Figure size 432x288 with 1 Axes>"
      ]
     },
     "metadata": {
      "needs_background": "light"
     },
     "output_type": "display_data"
    }
   ],
   "source": [
    "# Zooming in.\n",
    "data['budget_adj'].hist(ec='black', bins=range(0, 11, 1))\n",
    "plt.xlabel('Adjusted budget in MUSD')\n",
    "plt.ylabel('Number of movies')\n",
    "plt.tight_layout()"
   ]
  },
  {
   "cell_type": "code",
   "execution_count": 27,
   "metadata": {
    "hidden": true
   },
   "outputs": [
    {
     "data": {
      "image/png": "[encoded data removed]",
      "text/plain": [
       "<Figure size 432x288 with 1 Axes>"
      ]
     },
     "metadata": {
      "needs_background": "light"
     },
     "output_type": "display_data"
    }
   ],
   "source": [
    "# Zooming further in.\n",
    "data['budget_adj'].hist(ec='black', bins=np.linspace(0,1,num=11))\n",
    "plt.xlabel('Adjusted budget in MUSD')\n",
    "plt.ylabel('Number of movies')\n",
    "plt.tight_layout()"
   ]
  },
  {
   "cell_type": "code",
   "execution_count": 28,
   "metadata": {
    "hidden": true
   },
   "outputs": [
    {
     "data": {
      "text/plain": [
       "327"
      ]
     },
     "execution_count": 28,
     "metadata": {},
     "output_type": "execute_result"
    }
   ],
   "source": [
    "# Checking how many movies have an adjusted budget smaller than 1 MUSD.\n",
    "(data['budget_adj'] < 1).sum()"
   ]
  },
  {
   "cell_type": "code",
   "execution_count": 29,
   "metadata": {
    "hidden": true
   },
   "outputs": [
    {
     "name": "stderr",
     "output_type": "stream",
     "text": [
      "C:\\ProgramData\\Anaconda3\\lib\\site-packages\\ipykernel_launcher.py:2: FutureWarning: \n",
      "The current behaviour of 'Series.argmin' is deprecated, use 'idxmin'\n",
      "instead.\n",
      "The behavior of 'argmin' will be corrected to return the positional\n",
      "minimum in the future. For now, use 'series.values.argmin' or\n",
      "'np.argmin(np.array(values))' to get the position of the minimum\n",
      "row.\n",
      "  \n"
     ]
    },
    {
     "data": {
      "text/plain": [
       "id                                                                 287524\n",
       "imdb_id                                                         tt2165765\n",
       "popularity                                                       0.177102\n",
       "budget                                                              1e-06\n",
       "revenue                                                                 0\n",
       "original_title                                                Fear Clinic\n",
       "cast                    Thomas Dekker|Robert Englund|Cleopatra Coleman...\n",
       "homepage                                  http://www.fearclinicmovie.com/\n",
       "director                                                      Robert Hall\n",
       "tagline                                                               NaN\n",
       "keywords                                               phobia|doctor|fear\n",
       "overview                A doctor works to cure patients suffering from...\n",
       "runtime                                                                95\n",
       "genres                                                             Horror\n",
       "production_companies    Dry County Films|Anchor Bay Entertainment|Movi...\n",
       "release_date                                          2014-10-31 00:00:00\n",
       "vote_count                                                             15\n",
       "vote_average                                                          4.1\n",
       "release_year                                                         2014\n",
       "budget_adj                                                    9.21091e-07\n",
       "revenue_adj                                                             0\n",
       "Name: 426, dtype: object"
      ]
     },
     "execution_count": 29,
     "metadata": {},
     "output_type": "execute_result"
    }
   ],
   "source": [
    "# Looking at the movie with the currently lowest entry of 'budget_adj'.\n",
    "data.iloc[data['budget_adj'].argmin()]"
   ]
  },
  {
   "cell_type": "markdown",
   "metadata": {
    "hidden": true
   },
   "source": [
    "According to Wikipedia, this movie had a higher budget. Apparently the entry is incorrect. It is assumed that all entries for adjusted budget which are less than 1 MUSD are incorrect. It is decided to remove all movies with an adjusted budget of less than 1 MUSD."
   ]
  },
  {
   "cell_type": "code",
   "execution_count": 30,
   "metadata": {
    "hidden": true
   },
   "outputs": [],
   "source": [
    "# Deleting movies whith entries for adjusted budget which are less than 1 MUSD.\n",
    "data = data[data['budget_adj'] >= 1]\n",
    "data.reset_index(drop=True, inplace=True)"
   ]
  },
  {
   "cell_type": "code",
   "execution_count": 31,
   "metadata": {
    "hidden": true
   },
   "outputs": [
    {
     "data": {
      "text/plain": [
       "count    4843.000000\n",
       "mean       39.352501\n",
       "std        42.227950\n",
       "min         1.000000\n",
       "25%        10.164004\n",
       "50%        25.319666\n",
       "75%        52.828236\n",
       "max       425.000000\n",
       "Name: budget_adj, dtype: object"
      ]
     },
     "execution_count": 31,
     "metadata": {},
     "output_type": "execute_result"
    }
   ],
   "source": [
    "# Obtaining the key properties of the distribution of 'budget_adj' after the deletion of entries which are less than 1 MUSD.\n",
    "(data['budget_adj']).describe().apply(lambda x: format(x, 'f'))"
   ]
  },
  {
   "cell_type": "code",
   "execution_count": 32,
   "metadata": {
    "hidden": true
   },
   "outputs": [
    {
     "data": {
      "text/plain": [
       "id                                                                  46705\n",
       "imdb_id                                                         tt1120985\n",
       "popularity                                                        1.27137\n",
       "budget                                                                  1\n",
       "revenue                                                           12.3557\n",
       "original_title                                             Blue Valentine\n",
       "cast                    Ryan Gosling|Michelle Williams|Mike Vogel|John...\n",
       "homepage                               http://www.bluevalentinemovie.com/\n",
       "director                                                 Derek Cianfrance\n",
       "tagline                                        Nobody Baby But You And Me\n",
       "keywords                        dancing|nurse|depression|classroom|bridge\n",
       "overview                Dean and Cindy live a quiet life in a modest n...\n",
       "runtime                                                               112\n",
       "genres                                                      Drama|Romance\n",
       "production_companies    Hunting Lane Films|Silverwood Films|Incentive ...\n",
       "release_date                                          2010-12-27 00:00:00\n",
       "vote_count                                                            530\n",
       "vote_average                                                          6.9\n",
       "release_year                                                         2010\n",
       "budget_adj                                                              1\n",
       "revenue_adj                                                       12.3557\n",
       "Name: 726, dtype: object"
      ]
     },
     "execution_count": 32,
     "metadata": {},
     "output_type": "execute_result"
    }
   ],
   "source": [
    "# Looking at the movie with the currently lowest entry of 'budget_adj'.\n",
    "data.iloc[data['budget_adj'].argsort()[0]]"
   ]
  },
  {
   "cell_type": "markdown",
   "metadata": {
    "hidden": true
   },
   "source": [
    "This entry is correct."
   ]
  },
  {
   "cell_type": "code",
   "execution_count": 33,
   "metadata": {
    "hidden": true
   },
   "outputs": [
    {
     "data": {
      "text/plain": [
       "id                                                                    948\n",
       "imdb_id                                                         tt0077651\n",
       "popularity                                                        1.19885\n",
       "budget                                                                0.3\n",
       "revenue                                                                70\n",
       "original_title                                                  Halloween\n",
       "cast                    Donald Pleasence|Jamie Lee Curtis|P.J. Soles|N...\n",
       "homepage                http://www.theofficialjohncarpenter.com/hallow...\n",
       "director                                                   John Carpenter\n",
       "tagline                                           The Night HE Came Home!\n",
       "keywords                   female nudity|nudity|mask|babysitter|halloween\n",
       "overview                A psychotic murderer, institutionalized since ...\n",
       "runtime                                                                91\n",
       "genres                                                    Horror|Thriller\n",
       "production_companies    Compass International Pictures|Falcon Internat...\n",
       "release_date                                          1978-10-25 00:00:00\n",
       "vote_count                                                            522\n",
       "vote_average                                                          7.3\n",
       "release_year                                                         1978\n",
       "budget_adj                                                        1.00281\n",
       "revenue_adj                                                       233.989\n",
       "Name: 4812, dtype: object"
      ]
     },
     "execution_count": 33,
     "metadata": {},
     "output_type": "execute_result"
    }
   ],
   "source": [
    "# Looking at the movie with the currently second lowest entry of 'budget_adj'.\n",
    "data.iloc[data['budget_adj'].argsort()[1]]"
   ]
  },
  {
   "cell_type": "markdown",
   "metadata": {
    "hidden": true
   },
   "source": [
    "This entry is also correct."
   ]
  },
  {
   "cell_type": "code",
   "execution_count": 34,
   "metadata": {
    "hidden": true
   },
   "outputs": [
    {
     "data": {
      "text/plain": [
       "id                                                                   9813\n",
       "imdb_id                                                         tt0414951\n",
       "popularity                                                       0.443094\n",
       "budget                                                                0.9\n",
       "revenue                                                           0.38142\n",
       "original_title                                                  The Quiet\n",
       "cast                    Elisha Cuthbert|Camilla Belle|Edie Falco|Marti...\n",
       "homepage                                                              NaN\n",
       "director                                                     Jamie Babbit\n",
       "tagline                        Isn't it time everyone hears your secrets?\n",
       "keywords                depression|christmas party|deaf-mute|daughter|...\n",
       "overview                After her widowed father dies, deaf teenager D...\n",
       "runtime                                                                96\n",
       "genres                                                     Drama|Thriller\n",
       "production_companies                                    Destination Films\n",
       "release_date                                          2005-09-12 00:00:00\n",
       "vote_count                                                             34\n",
       "vote_average                                                          5.6\n",
       "release_year                                                         2005\n",
       "budget_adj                                                        1.00491\n",
       "revenue_adj                                                       0.42588\n",
       "Name: 2778, dtype: object"
      ]
     },
     "execution_count": 34,
     "metadata": {},
     "output_type": "execute_result"
    }
   ],
   "source": [
    "# Looking at the movie with the currently third lowest entry of 'budget_adj'.\n",
    "data.iloc[data['budget_adj'].argsort()[2]]"
   ]
  },
  {
   "cell_type": "markdown",
   "metadata": {
    "hidden": true
   },
   "source": [
    "This entry is also correct. It is assumed that the entries of 'budget_adj' are correct at the lower end because the three lowest entries have been checked at are all correct."
   ]
  },
  {
   "cell_type": "code",
   "execution_count": 35,
   "metadata": {
    "hidden": true
   },
   "outputs": [
    {
     "data": {
      "text/plain": [
       "id                                                                  46528\n",
       "imdb_id                                                         tt1032751\n",
       "popularity                                                        0.25054\n",
       "budget                                                                425\n",
       "revenue                                                           11.0876\n",
       "original_title                                          The Warrior's Way\n",
       "cast                    Kate Bosworth|Jang Dong-gun|Geoffrey Rush|Dann...\n",
       "homepage                           http://www.iamrogue.com/thewarriorsway\n",
       "director                                                       Sngmoo Lee\n",
       "tagline                                           Assassin. Hero. Legend.\n",
       "keywords                assassin|small town|revenge|deception|super speed\n",
       "overview                An Asian assassin (Dong-gun Jang) is forced to...\n",
       "runtime                                                               100\n",
       "genres                          Adventure|Fantasy|Action|Western|Thriller\n",
       "production_companies                             Boram Entertainment Inc.\n",
       "release_date                                          2010-12-02 00:00:00\n",
       "vote_count                                                             74\n",
       "vote_average                                                          6.4\n",
       "release_year                                                         2010\n",
       "budget_adj                                                            425\n",
       "revenue_adj                                                       11.0876\n",
       "Name: 870, dtype: object"
      ]
     },
     "execution_count": 35,
     "metadata": {},
     "output_type": "execute_result"
    }
   ],
   "source": [
    "# Looking at the movie with the highest entry of 'budget_adj'.\n",
    "data.iloc[(-data['budget_adj']).argsort()[0]]"
   ]
  },
  {
   "cell_type": "markdown",
   "metadata": {
    "hidden": true
   },
   "source": [
    "According to Wikipedia, this movie had a smaller budget. Apparently the entry is incorrect."
   ]
  },
  {
   "cell_type": "code",
   "execution_count": 36,
   "metadata": {
    "hidden": true
   },
   "outputs": [
    {
     "data": {
      "text/plain": [
       "<matplotlib.axes._subplots.AxesSubplot at 0x2312c06f748>"
      ]
     },
     "execution_count": 36,
     "metadata": {},
     "output_type": "execute_result"
    },
    {
     "data": {
      "image/png": "[encoded data removed]",
      "text/plain": [
       "<Figure size 432x288 with 1 Axes>"
      ]
     },
     "metadata": {
      "needs_background": "light"
     },
     "output_type": "display_data"
    }
   ],
   "source": [
    "# Plotting the histogram of 'budget_adj'.\n",
    "data['budget_adj'].hist(ec='black', bins=range(0,426,1))"
   ]
  },
  {
   "cell_type": "code",
   "execution_count": 37,
   "metadata": {
    "hidden": true
   },
   "outputs": [
    {
     "data": {
      "text/plain": [
       "<matplotlib.axes._subplots.AxesSubplot at 0x2312c0397c8>"
      ]
     },
     "execution_count": 37,
     "metadata": {},
     "output_type": "execute_result"
    },
    {
     "data": {
      "image/png": "[encoded data removed]",
      "text/plain": [
       "<Figure size 432x288 with 1 Axes>"
      ]
     },
     "metadata": {
      "needs_background": "light"
     },
     "output_type": "display_data"
    }
   ],
   "source": [
    "# Zooming in.\n",
    "data['budget_adj'].hist(ec='black', bins=range(200,426,1))"
   ]
  },
  {
   "cell_type": "markdown",
   "metadata": {
    "hidden": true
   },
   "source": [
    "The historgrams seem fine except for the aforementioned incorrect high entry."
   ]
  },
  {
   "cell_type": "code",
   "execution_count": 38,
   "metadata": {
    "hidden": true
   },
   "outputs": [
    {
     "data": {
      "text/plain": [
       "id                                                                   1865\n",
       "imdb_id                                                         tt1298650\n",
       "popularity                                                        4.95513\n",
       "budget                                                                380\n",
       "revenue                                                           1021.68\n",
       "original_title                Pirates of the Caribbean: On Stranger Tides\n",
       "cast                    Johnny Depp|PenÃ©lope Cruz|Geoffrey Rush|Ian M...\n",
       "homepage                http://disney.go.com/pirates/index-on-stranger...\n",
       "director                                                     Rob Marshall\n",
       "tagline                                       Live Forever Or Die Trying.\n",
       "keywords                          sea|captain|mutiny|sword|prime minister\n",
       "overview                Captain Jack Sparrow crosses paths with a woma...\n",
       "runtime                                                               136\n",
       "genres                                           Adventure|Action|Fantasy\n",
       "production_companies    Walt Disney Pictures|Jerry Bruckheimer Films|M...\n",
       "release_date                                          2011-05-11 00:00:00\n",
       "vote_count                                                           3180\n",
       "vote_average                                                          6.3\n",
       "release_year                                                         2011\n",
       "budget_adj                                                        368.371\n",
       "revenue_adj                                                       990.418\n",
       "Name: 1402, dtype: object"
      ]
     },
     "execution_count": 38,
     "metadata": {},
     "output_type": "execute_result"
    }
   ],
   "source": [
    "# Looking at the movie with the second highest entry of 'budget_adj'.\n",
    "data.iloc[(-data['budget_adj']).argsort()[1]]"
   ]
  },
  {
   "cell_type": "markdown",
   "metadata": {
    "hidden": true
   },
   "source": [
    "This entry is correct."
   ]
  },
  {
   "cell_type": "code",
   "execution_count": 39,
   "metadata": {
    "hidden": true
   },
   "outputs": [
    {
     "data": {
      "text/plain": [
       "id                                                                    285\n",
       "imdb_id                                                         tt0449088\n",
       "popularity                                                        4.96539\n",
       "budget                                                                300\n",
       "revenue                                                               961\n",
       "original_title                   Pirates of the Caribbean: At World's End\n",
       "cast                    Johnny Depp|Orlando Bloom|Keira Knightley|Geof...\n",
       "homepage                     http://disney.go.com/disneypictures/pirates/\n",
       "director                                                   Gore Verbinski\n",
       "tagline                    At the end of the world, the adventure begins.\n",
       "keywords                ocean|drug abuse|exotic island|east india trad...\n",
       "overview                Captain Barbossa, long believed to be dead, ha...\n",
       "runtime                                                               169\n",
       "genres                                           Adventure|Fantasy|Action\n",
       "production_companies    Walt Disney Pictures|Jerry Bruckheimer Films|S...\n",
       "release_date                                          2007-05-19 00:00:00\n",
       "vote_count                                                           2626\n",
       "vote_average                                                          6.8\n",
       "release_year                                                         2007\n",
       "budget_adj                                                        315.501\n",
       "revenue_adj                                                       1010.65\n",
       "Name: 3257, dtype: object"
      ]
     },
     "execution_count": 39,
     "metadata": {},
     "output_type": "execute_result"
    }
   ],
   "source": [
    "# Looking at the movie with the third highest entry of 'budget_adj'.\n",
    "data.iloc[(-data['budget_adj']).argsort()[2]]"
   ]
  },
  {
   "cell_type": "markdown",
   "metadata": {
    "hidden": true
   },
   "source": [
    "This entry is also correct."
   ]
  },
  {
   "cell_type": "code",
   "execution_count": 40,
   "metadata": {
    "hidden": true
   },
   "outputs": [
    {
     "data": {
      "text/plain": [
       "id                                                                   1452\n",
       "imdb_id                                                         tt0348150\n",
       "popularity                                                        1.95733\n",
       "budget                                                                270\n",
       "revenue                                                           391.081\n",
       "original_title                                           Superman Returns\n",
       "cast                    Brandon Routh|Kevin Spacey|Kate Bosworth|James...\n",
       "homepage                                          http://www.superman.com\n",
       "director                                                     Bryan Singer\n",
       "tagline                                                               NaN\n",
       "keywords                saving the world|dc comics|invulnerability|seq...\n",
       "overview                Set 5 years after the end of Superman II, the ...\n",
       "runtime                                                               154\n",
       "genres                           Adventure|Fantasy|Action|Science Fiction\n",
       "production_companies    DC Comics|Legendary Pictures|Warner Bros.|Bad ...\n",
       "release_date                                          2006-06-28 00:00:00\n",
       "vote_count                                                            834\n",
       "vote_average                                                          5.3\n",
       "release_year                                                         2006\n",
       "budget_adj                                                        292.051\n",
       "revenue_adj                                                        423.02\n",
       "Name: 2858, dtype: object"
      ]
     },
     "execution_count": 40,
     "metadata": {},
     "output_type": "execute_result"
    }
   ],
   "source": [
    "# Looking at the movie with the fourth highest entry of 'budget_adj'.\n",
    "data.iloc[(-data['budget_adj']).argsort()[3]]"
   ]
  },
  {
   "cell_type": "markdown",
   "metadata": {
    "hidden": true
   },
   "source": [
    "This entry is also correct. It is assumed that the entries of 'budget_adj' are correct at the upper end because the four highest entries have been checked at are all correct, except for the highest entry, which is incorrect. It is decided to remove this incorrect entry."
   ]
  },
  {
   "cell_type": "code",
   "execution_count": 41,
   "metadata": {
    "hidden": true
   },
   "outputs": [],
   "source": [
    "# Removing the known incorrect entry.\n",
    "data.drop(data[data['original_title']=='The Warrior\\'s Way'].index, inplace=True)\n",
    "data.reset_index(drop=True, inplace=True)"
   ]
  },
  {
   "cell_type": "code",
   "execution_count": 42,
   "metadata": {
    "hidden": true
   },
   "outputs": [
    {
     "data": {
      "text/plain": [
       "count    4842.000000\n",
       "mean       39.272855\n",
       "std        41.866932\n",
       "min         1.000000\n",
       "25%        10.164004\n",
       "50%        25.296283\n",
       "75%        52.828236\n",
       "max       368.371256\n",
       "Name: budget_adj, dtype: object"
      ]
     },
     "execution_count": 42,
     "metadata": {},
     "output_type": "execute_result"
    }
   ],
   "source": [
    "# Obtaining the key properties of the distribution of 'budget_adj' after the data cleaning done so far.\n",
    "(data['budget_adj']).describe().apply(lambda x: format(x, 'f'))"
   ]
  },
  {
   "cell_type": "code",
   "execution_count": 43,
   "metadata": {
    "hidden": true
   },
   "outputs": [
    {
     "data": {
      "image/png": "[encoded data removed]",
      "text/plain": [
       "<Figure size 432x288 with 1 Axes>"
      ]
     },
     "metadata": {
      "needs_background": "light"
     },
     "output_type": "display_data"
    }
   ],
   "source": [
    "# Creating a boxplot of 'budget_adj', grouped by 'release_year'.\n",
    "ax = data.boxplot(by='release_year', column=['budget_adj'],  showmeans=True)\n",
    "ax.set_ylim(0, 100)\n",
    "tick_skip = 10\n",
    "ax.set_xticklabels(ax.get_xticklabels()[::tick_skip])\n",
    "ax.set_xticks(ax.get_xticks()[::tick_skip])\n",
    "plt.tight_layout()"
   ]
  },
  {
   "cell_type": "markdown",
   "metadata": {
    "hidden": true
   },
   "source": [
    "There seems to be a lot of deviation from year to year in the 1960ies."
   ]
  },
  {
   "cell_type": "code",
   "execution_count": 44,
   "metadata": {
    "hidden": true
   },
   "outputs": [
    {
     "data": {
      "image/png": "[encoded data removed]",
      "text/plain": [
       "<Figure size 432x288 with 1 Axes>"
      ]
     },
     "metadata": {
      "needs_background": "light"
     },
     "output_type": "display_data"
    }
   ],
   "source": [
    "# Zooming in on the 1960ies.\n",
    "ax = data[(data['release_year']>= 1960) & (data['release_year']<= 1970)].boxplot(by='release_year', column=['budget_adj'],showmeans=True)\n",
    "ax.set_ylim(0, 150)\n",
    "# tick_skip = 10\n",
    "# ax.set_xticklabels(ax.get_xticklabels()[::tick_skip])\n",
    "# ax.set_xticks(ax.get_xticks()[::tick_skip])\n",
    "plt.tight_layout()"
   ]
  },
  {
   "cell_type": "code",
   "execution_count": 45,
   "metadata": {
    "hidden": true
   },
   "outputs": [
    {
     "data": {
      "text/html": [
       "<div>\n",
       "<style scoped>\n",
       "    .dataframe tbody tr th:only-of-type {\n",
       "        vertical-align: middle;\n",
       "    }\n",
       "\n",
       "    .dataframe tbody tr th {\n",
       "        vertical-align: top;\n",
       "    }\n",
       "\n",
       "    .dataframe thead th {\n",
       "        text-align: right;\n",
       "    }\n",
       "</style>\n",
       "<table border=\"1\" class=\"dataframe\">\n",
       "  <thead>\n",
       "    <tr style=\"text-align: right;\">\n",
       "      <th></th>\n",
       "      <th>original_title</th>\n",
       "      <th>budget_adj</th>\n",
       "    </tr>\n",
       "  </thead>\n",
       "  <tbody>\n",
       "    <tr>\n",
       "      <td>4690</td>\n",
       "      <td>From Russia With Love</td>\n",
       "      <td>17.800448</td>\n",
       "    </tr>\n",
       "    <tr>\n",
       "      <td>4691</td>\n",
       "      <td>The Birds</td>\n",
       "      <td>17.800448</td>\n",
       "    </tr>\n",
       "    <tr>\n",
       "      <td>4692</td>\n",
       "      <td>Charade</td>\n",
       "      <td>28.480717</td>\n",
       "    </tr>\n",
       "    <tr>\n",
       "      <td>4693</td>\n",
       "      <td>Cleopatra</td>\n",
       "      <td>221.544381</td>\n",
       "    </tr>\n",
       "    <tr>\n",
       "      <td>4694</td>\n",
       "      <td>It's a Mad, Mad, Mad, Mad World</td>\n",
       "      <td>66.929686</td>\n",
       "    </tr>\n",
       "    <tr>\n",
       "      <td>4695</td>\n",
       "      <td>The Great Escape</td>\n",
       "      <td>28.480717</td>\n",
       "    </tr>\n",
       "    <tr>\n",
       "      <td>4696</td>\n",
       "      <td>The Day of the Triffids</td>\n",
       "      <td>5.340135</td>\n",
       "    </tr>\n",
       "    <tr>\n",
       "      <td>4697</td>\n",
       "      <td>Tom Jones</td>\n",
       "      <td>7.120179</td>\n",
       "    </tr>\n",
       "    <tr>\n",
       "      <td>4698</td>\n",
       "      <td>55 Days at Peking</td>\n",
       "      <td>121.043049</td>\n",
       "    </tr>\n",
       "    <tr>\n",
       "      <td>4699</td>\n",
       "      <td>Jason and the Argonauts</td>\n",
       "      <td>7.120179</td>\n",
       "    </tr>\n",
       "  </tbody>\n",
       "</table>\n",
       "</div>"
      ],
      "text/plain": [
       "                       original_title  budget_adj\n",
       "4690            From Russia With Love   17.800448\n",
       "4691                        The Birds   17.800448\n",
       "4692                          Charade   28.480717\n",
       "4693                        Cleopatra  221.544381\n",
       "4694  It's a Mad, Mad, Mad, Mad World   66.929686\n",
       "4695                 The Great Escape   28.480717\n",
       "4696          The Day of the Triffids    5.340135\n",
       "4697                        Tom Jones    7.120179\n",
       "4698                55 Days at Peking  121.043049\n",
       "4699          Jason and the Argonauts    7.120179"
      ]
     },
     "execution_count": 45,
     "metadata": {},
     "output_type": "execute_result"
    }
   ],
   "source": [
    "# Looking at adjusted budget of movies in 1963.\n",
    "data[data['release_year']==1963][['original_title','budget_adj']]"
   ]
  },
  {
   "cell_type": "code",
   "execution_count": 46,
   "metadata": {
    "hidden": true
   },
   "outputs": [
    {
     "data": {
      "text/html": [
       "<div>\n",
       "<style scoped>\n",
       "    .dataframe tbody tr th:only-of-type {\n",
       "        vertical-align: middle;\n",
       "    }\n",
       "\n",
       "    .dataframe tbody tr th {\n",
       "        vertical-align: top;\n",
       "    }\n",
       "\n",
       "    .dataframe thead th {\n",
       "        text-align: right;\n",
       "    }\n",
       "</style>\n",
       "<table border=\"1\" class=\"dataframe\">\n",
       "  <thead>\n",
       "    <tr style=\"text-align: right;\">\n",
       "      <th></th>\n",
       "      <th>original_title</th>\n",
       "      <th>budget_adj</th>\n",
       "    </tr>\n",
       "  </thead>\n",
       "  <tbody>\n",
       "    <tr>\n",
       "      <td>4788</td>\n",
       "      <td>Thunderball</td>\n",
       "      <td>76.126201</td>\n",
       "    </tr>\n",
       "    <tr>\n",
       "      <td>4789</td>\n",
       "      <td>The Sound of Music</td>\n",
       "      <td>56.748622</td>\n",
       "    </tr>\n",
       "    <tr>\n",
       "      <td>4790</td>\n",
       "      <td>Doctor Zhivago</td>\n",
       "      <td>96.887892</td>\n",
       "    </tr>\n",
       "    <tr>\n",
       "      <td>4791</td>\n",
       "      <td>Those Magnificent Men in Their Flying Machines...</td>\n",
       "      <td>38.755157</td>\n",
       "    </tr>\n",
       "    <tr>\n",
       "      <td>4792</td>\n",
       "      <td>Help!</td>\n",
       "      <td>10.380846</td>\n",
       "    </tr>\n",
       "    <tr>\n",
       "      <td>4793</td>\n",
       "      <td>Von Ryan's Express</td>\n",
       "      <td>39.862447</td>\n",
       "    </tr>\n",
       "    <tr>\n",
       "      <td>4794</td>\n",
       "      <td>Repulsion</td>\n",
       "      <td>2.076169</td>\n",
       "    </tr>\n",
       "    <tr>\n",
       "      <td>4795</td>\n",
       "      <td>The Greatest Story Ever Told</td>\n",
       "      <td>138.411274</td>\n",
       "    </tr>\n",
       "    <tr>\n",
       "      <td>4796</td>\n",
       "      <td>Major Dundee</td>\n",
       "      <td>26.298142</td>\n",
       "    </tr>\n",
       "  </tbody>\n",
       "</table>\n",
       "</div>"
      ],
      "text/plain": [
       "                                         original_title  budget_adj\n",
       "4788                                        Thunderball   76.126201\n",
       "4789                                 The Sound of Music   56.748622\n",
       "4790                                     Doctor Zhivago   96.887892\n",
       "4791  Those Magnificent Men in Their Flying Machines...   38.755157\n",
       "4792                                              Help!   10.380846\n",
       "4793                                 Von Ryan's Express   39.862447\n",
       "4794                                          Repulsion    2.076169\n",
       "4795                       The Greatest Story Ever Told  138.411274\n",
       "4796                                       Major Dundee   26.298142"
      ]
     },
     "execution_count": 46,
     "metadata": {},
     "output_type": "execute_result"
    }
   ],
   "source": [
    "# Looking at adjusted budget of movies in 1965.\n",
    "data[data['release_year']==1965][['original_title','budget_adj']]"
   ]
  },
  {
   "cell_type": "markdown",
   "metadata": {
    "hidden": true
   },
   "source": [
    "The 1960ies in general, and 1963 and 1965 in particular, were times with large deviations in movie budgets, see als https://en.wikipedia.org/wiki/1960s_in_film, https://en.wikipedia.org/wiki/1963_in_film and https://en.wikipedia.org/wiki/1965_in_film."
   ]
  },
  {
   "cell_type": "markdown",
   "metadata": {
    "hidden": true
   },
   "source": [
    "'budget_adj' seems now correct and it does not require further actions."
   ]
  },
  {
   "cell_type": "markdown",
   "metadata": {
    "heading_collapsed": true,
    "hidden": true
   },
   "source": [
    "### Adjusted revenue"
   ]
  },
  {
   "cell_type": "code",
   "execution_count": 47,
   "metadata": {
    "hidden": true
   },
   "outputs": [
    {
     "data": {
      "text/plain": [
       "count    4842.000000\n",
       "mean      108.702536\n",
       "std       200.638325\n",
       "min         0.000000\n",
       "25%         0.300805\n",
       "50%        34.252679\n",
       "75%       123.515939\n",
       "max      2827.123750\n",
       "Name: revenue_adj, dtype: object"
      ]
     },
     "execution_count": 47,
     "metadata": {},
     "output_type": "execute_result"
    }
   ],
   "source": [
    "# Obtaining the key properties of the distribution of 'revenue_adj'.\n",
    "(data['revenue_adj']).describe().apply(lambda x: format(x, 'f'))"
   ]
  },
  {
   "cell_type": "code",
   "execution_count": 48,
   "metadata": {
    "hidden": true
   },
   "outputs": [
    {
     "data": {
      "text/plain": [
       "<matplotlib.axes._subplots.AxesSubplot at 0x2312c8ee688>"
      ]
     },
     "execution_count": 48,
     "metadata": {},
     "output_type": "execute_result"
    },
    {
     "data": {
      "image/png": "[encoded data removed]",
      "text/plain": [
       "<Figure size 432x288 with 1 Axes>"
      ]
     },
     "metadata": {
      "needs_background": "light"
     },
     "output_type": "display_data"
    }
   ],
   "source": [
    "# Plotting the histogram of 'revenue_adj'.\n",
    "data['revenue_adj'].hist(ec='black', bins=range(0,2828,1))"
   ]
  },
  {
   "cell_type": "code",
   "execution_count": 49,
   "metadata": {
    "hidden": true
   },
   "outputs": [
    {
     "data": {
      "image/png": "[encoded data removed]",
      "text/plain": [
       "<Figure size 432x288 with 1 Axes>"
      ]
     },
     "metadata": {
      "needs_background": "light"
     },
     "output_type": "display_data"
    }
   ],
   "source": [
    "# Zooming in.\n",
    "data['revenue_adj'].hist(ec='black', bins=range(0,101,1))\n",
    "plt.xlabel('Adjusted revenue in MUSD')\n",
    "plt.ylabel('Number of movies')\n",
    "plt.tight_layout()"
   ]
  },
  {
   "cell_type": "code",
   "execution_count": 50,
   "metadata": {
    "hidden": true
   },
   "outputs": [
    {
     "data": {
      "image/png": "[encoded data removed]",
      "text/plain": [
       "<Figure size 432x288 with 1 Axes>"
      ]
     },
     "metadata": {
      "needs_background": "light"
     },
     "output_type": "display_data"
    }
   ],
   "source": [
    "# Zooming further in.\n",
    "data['revenue_adj'].hist(ec='black', bins=range(0,11,1))\n",
    "plt.xlabel('Adjusted revenue in MUSD')\n",
    "plt.ylabel('Number of movies')\n",
    "plt.tight_layout()"
   ]
  },
  {
   "cell_type": "markdown",
   "metadata": {
    "hidden": true
   },
   "source": [
    "There seem to be a lot of movies with a an adjusted revenue of less than 1 MUSD. This requires further investigation. "
   ]
  },
  {
   "cell_type": "code",
   "execution_count": 51,
   "metadata": {
    "hidden": true
   },
   "outputs": [
    {
     "data": {
      "text/plain": [
       "1108"
      ]
     },
     "execution_count": 51,
     "metadata": {},
     "output_type": "execute_result"
    }
   ],
   "source": [
    "# Checking how many movies have an adjusted revenue of exactly 0 MUSD.\n",
    "(data['revenue_adj'] == 0).sum()"
   ]
  },
  {
   "cell_type": "code",
   "execution_count": 52,
   "metadata": {
    "hidden": true
   },
   "outputs": [
    {
     "data": {
      "text/plain": [
       "3734"
      ]
     },
     "execution_count": 52,
     "metadata": {},
     "output_type": "execute_result"
    }
   ],
   "source": [
    "# Checking how many movies have an adjusted revenue of more than 0 MUSD.\n",
    "(data['revenue_adj'] > 0).sum()"
   ]
  },
  {
   "cell_type": "code",
   "execution_count": 53,
   "metadata": {
    "hidden": true
   },
   "outputs": [
    {
     "data": {
      "text/plain": [
       "True"
      ]
     },
     "execution_count": 53,
     "metadata": {},
     "output_type": "execute_result"
    }
   ],
   "source": [
    "# Verifying that all movies have numerical and postive entries for 'revenue_adj'.\n",
    "len(data['revenue_adj']) == (data['revenue_adj'] == 0).sum() + (data['revenue_adj'] > 0).sum()"
   ]
  },
  {
   "cell_type": "code",
   "execution_count": 54,
   "metadata": {
    "hidden": true
   },
   "outputs": [
    {
     "data": {
      "text/plain": [
       "id                                                                  13343\n",
       "imdb_id                                                         tt0059221\n",
       "popularity                                                       0.141026\n",
       "budget                                                                0.7\n",
       "revenue                                                                 0\n",
       "original_title                                    The Ghost & Mr. Chicken\n",
       "cast                    Don Knotts|Joan Staley|Liam Redmond|Dick Sarge...\n",
       "homepage                                                              NaN\n",
       "director                                                      Alan Rafkin\n",
       "tagline                 G-G-GUARANTEED! YOU'LL BE SCARED UNTIL YOU LAU...\n",
       "keywords                    newspaper|haunted house|organ|slapstick|trial\n",
       "overview                Luther Heggs aspires to being a reporter for h...\n",
       "runtime                                                                90\n",
       "genres                                      Comedy|Family|Mystery|Romance\n",
       "production_companies                                   Universal Pictures\n",
       "release_date                                          1966-01-20 00:00:00\n",
       "vote_count                                                             14\n",
       "vote_average                                                          6.1\n",
       "release_year                                                         1966\n",
       "budget_adj                                                        4.70261\n",
       "revenue_adj                                                             0\n",
       "Name: 4841, dtype: object"
      ]
     },
     "execution_count": 54,
     "metadata": {},
     "output_type": "execute_result"
    }
   ],
   "source": [
    "# Looking at an entry with adjusted revenue of 0.\n",
    "data.iloc[(data['revenue_adj']).argsort()[0]]"
   ]
  },
  {
   "cell_type": "markdown",
   "metadata": {
    "hidden": true
   },
   "source": [
    "According to Wikipedia, this movie had a non-zero revenue. Apparently the entry is incorrect. It is assumed that all zero-entries for adjusted revenue are incorrect. It is decided to exclude all movies whith zero-entries for adjusted revenue."
   ]
  },
  {
   "cell_type": "code",
   "execution_count": 55,
   "metadata": {
    "hidden": true
   },
   "outputs": [
    {
     "data": {
      "text/plain": [
       "3734"
      ]
     },
     "execution_count": 55,
     "metadata": {},
     "output_type": "execute_result"
    }
   ],
   "source": [
    "# Deleting movies whith zero-entries for adjusted revenue.\n",
    "data = data[data['revenue_adj'] > 0]\n",
    "data.reset_index(drop=True, inplace=True)\n",
    "len(data)"
   ]
  },
  {
   "cell_type": "code",
   "execution_count": 56,
   "metadata": {
    "hidden": true
   },
   "outputs": [
    {
     "data": {
      "text/plain": [
       "count    3734.000000\n",
       "mean      140.958136\n",
       "std       218.303057\n",
       "min         0.000002\n",
       "25%        20.415780\n",
       "50%        64.834782\n",
       "75%       168.328478\n",
       "max      2827.123750\n",
       "Name: revenue_adj, dtype: object"
      ]
     },
     "execution_count": 56,
     "metadata": {},
     "output_type": "execute_result"
    }
   ],
   "source": [
    "# Obtaining the key properties of the distribution of 'revenue_adj' after the deletion of zero-entries.\n",
    "(data['revenue_adj']).describe().apply(lambda x: format(x, 'f'))"
   ]
  },
  {
   "cell_type": "code",
   "execution_count": 57,
   "metadata": {
    "hidden": true
   },
   "outputs": [
    {
     "data": {
      "text/plain": [
       "<matplotlib.axes._subplots.AxesSubplot at 0x2312de71c48>"
      ]
     },
     "execution_count": 57,
     "metadata": {},
     "output_type": "execute_result"
    },
    {
     "data": {
      "image/png": "[encoded data removed]",
      "text/plain": [
       "<Figure size 432x288 with 1 Axes>"
      ]
     },
     "metadata": {
      "needs_background": "light"
     },
     "output_type": "display_data"
    }
   ],
   "source": [
    "# Plotting the histogram of 'revenue_adj' after the deletion of zero-entries.\n",
    "data['revenue_adj'].hist(ec='black', bins=range(0,2828,1))"
   ]
  },
  {
   "cell_type": "code",
   "execution_count": 58,
   "metadata": {
    "hidden": true
   },
   "outputs": [
    {
     "data": {
      "text/plain": [
       "<matplotlib.axes._subplots.AxesSubplot at 0x2312f38f588>"
      ]
     },
     "execution_count": 58,
     "metadata": {},
     "output_type": "execute_result"
    },
    {
     "data": {
      "image/png": "[encoded data removed]",
      "text/plain": [
       "<Figure size 432x288 with 1 Axes>"
      ]
     },
     "metadata": {
      "needs_background": "light"
     },
     "output_type": "display_data"
    }
   ],
   "source": [
    "# Zooming in.\n",
    "data['revenue_adj'].hist(ec='black', bins=range(0,501,1))"
   ]
  },
  {
   "cell_type": "code",
   "execution_count": 59,
   "metadata": {
    "hidden": true
   },
   "outputs": [
    {
     "data": {
      "text/plain": [
       "<matplotlib.axes._subplots.AxesSubplot at 0x231310ed4c8>"
      ]
     },
     "execution_count": 59,
     "metadata": {},
     "output_type": "execute_result"
    },
    {
     "data": {
      "image/png": "[encoded data removed]",
      "text/plain": [
       "<Figure size 432x288 with 1 Axes>"
      ]
     },
     "metadata": {
      "needs_background": "light"
     },
     "output_type": "display_data"
    }
   ],
   "source": [
    "# Zooming further in.\n",
    "data['revenue_adj'].hist(ec='black', bins=range(0,101,1))"
   ]
  },
  {
   "cell_type": "code",
   "execution_count": 60,
   "metadata": {
    "hidden": true
   },
   "outputs": [
    {
     "data": {
      "text/plain": [
       "<matplotlib.axes._subplots.AxesSubplot at 0x23131311c88>"
      ]
     },
     "execution_count": 60,
     "metadata": {},
     "output_type": "execute_result"
    },
    {
     "data": {
      "image/png": "[encoded data removed]",
      "text/plain": [
       "<Figure size 432x288 with 1 Axes>"
      ]
     },
     "metadata": {
      "needs_background": "light"
     },
     "output_type": "display_data"
    }
   ],
   "source": [
    "# Zooming further in.\n",
    "data['revenue_adj'].hist(ec='black', bins=range(0,11,1))"
   ]
  },
  {
   "cell_type": "code",
   "execution_count": 61,
   "metadata": {
    "hidden": true,
    "scrolled": true
   },
   "outputs": [
    {
     "data": {
      "text/plain": [
       "<matplotlib.axes._subplots.AxesSubplot at 0x23126723048>"
      ]
     },
     "execution_count": 61,
     "metadata": {},
     "output_type": "execute_result"
    },
    {
     "data": {
      "image/png": "[encoded data removed]",
      "text/plain": [
       "<Figure size 432x288 with 1 Axes>"
      ]
     },
     "metadata": {
      "needs_background": "light"
     },
     "output_type": "display_data"
    }
   ],
   "source": [
    "# Zooming further in.\n",
    "data['revenue_adj'].hist(ec='black', bins=np.linspace(0,1,num=11))"
   ]
  },
  {
   "cell_type": "code",
   "execution_count": 62,
   "metadata": {
    "hidden": true
   },
   "outputs": [
    {
     "data": {
      "text/plain": [
       "186"
      ]
     },
     "execution_count": 62,
     "metadata": {},
     "output_type": "execute_result"
    }
   ],
   "source": [
    "# Checking how many movies have an adjusted revenue smaller than 1 MUSD.\n",
    "(data['revenue_adj'] < 1).sum()"
   ]
  },
  {
   "cell_type": "code",
   "execution_count": 63,
   "metadata": {
    "hidden": true
   },
   "outputs": [
    {
     "data": {
      "text/plain": [
       "id                                                                  13537\n",
       "imdb_id                                                         tt0323944\n",
       "popularity                                                       0.462609\n",
       "budget                                                                  6\n",
       "revenue                                                             2e-06\n",
       "original_title                                            Shattered Glass\n",
       "cast                    Hayden Christensen|Peter Sarsgaard|ChloÃ« Sevi...\n",
       "homepage                                                              NaN\n",
       "director                                                        Billy Ray\n",
       "tagline                                                               NaN\n",
       "keywords                                                              NaN\n",
       "overview                Fact-based 2003 drama about the young journali...\n",
       "runtime                                                                94\n",
       "genres                                                      Drama|History\n",
       "production_companies    Lions Gate Films|Cruise/Wagner Productions|Bau...\n",
       "release_date                                          2003-11-14 00:00:00\n",
       "vote_count                                                             46\n",
       "vote_average                                                          6.4\n",
       "release_year                                                         2003\n",
       "budget_adj                                                        7.11212\n",
       "revenue_adj                                                   2.37071e-06\n",
       "Name: 1667, dtype: object"
      ]
     },
     "execution_count": 63,
     "metadata": {},
     "output_type": "execute_result"
    }
   ],
   "source": [
    "# Looking at the movie with the currently lowest entry of 'revenue_adj'.\n",
    "data.iloc[(data['revenue_adj']).argsort()[0]]"
   ]
  },
  {
   "cell_type": "markdown",
   "metadata": {
    "hidden": true
   },
   "source": [
    "According to Wikipedia, this movie had a higher budget. Apparently the entry is incorrect. It is assumed that all entries for adjusted revenue which are less than 1 MUSD are incorrect. It is decided to remove all movies with an adjusted revenue of less than 1 MUSD."
   ]
  },
  {
   "cell_type": "code",
   "execution_count": 64,
   "metadata": {
    "hidden": true
   },
   "outputs": [],
   "source": [
    "# Deleting movies whith entries for adjusted revenue which are less than 1 MUSD.\n",
    "data = data[data['revenue_adj'] > 1]\n",
    "data.reset_index(drop=True, inplace=True)"
   ]
  },
  {
   "cell_type": "code",
   "execution_count": 65,
   "metadata": {
    "hidden": true
   },
   "outputs": [
    {
     "data": {
      "text/plain": [
       "count    3547.000000\n",
       "mean      148.372376\n",
       "std       221.520718\n",
       "min         1.001273\n",
       "25%        25.183522\n",
       "50%        71.282267\n",
       "75%       176.623291\n",
       "max      2827.123750\n",
       "Name: revenue_adj, dtype: object"
      ]
     },
     "execution_count": 65,
     "metadata": {},
     "output_type": "execute_result"
    }
   ],
   "source": [
    "# Obtaining the key properties of the distribution of 'revenue_adj' after the deletion of entries which are less than 1 MUSD.\n",
    "(data['revenue_adj']).describe().apply(lambda x: format(x, 'f'))"
   ]
  },
  {
   "cell_type": "code",
   "execution_count": 66,
   "metadata": {
    "hidden": true
   },
   "outputs": [
    {
     "data": {
      "text/plain": [
       "id                                                                  12834\n",
       "imdb_id                                                         tt1151359\n",
       "popularity                                                       0.606857\n",
       "budget                                                                  9\n",
       "revenue                                                          0.985117\n",
       "original_title                                            Leaves of Grass\n",
       "cast                    Susan Sarandon|Richard Dreyfuss|Keri Russell|M...\n",
       "homepage                               http://www.leavesofgrassmovie.com/\n",
       "director                                                 Tim Blake Nelson\n",
       "tagline                                Drugs, Murder, and Brotherly Love.\n",
       "keywords                brother brother relationship|mentor|restart|ki...\n",
       "overview                An Ivy League professor returns home, where hi...\n",
       "runtime                                                               104\n",
       "genres                                        Comedy|Crime|Drama|Thriller\n",
       "production_companies    Nu Image Films|Grand Army Entertainment|Class ...\n",
       "release_date                                          2009-09-13 00:00:00\n",
       "vote_count                                                             67\n",
       "vote_average                                                          5.6\n",
       "release_year                                                         2009\n",
       "budget_adj                                                         9.1476\n",
       "revenue_adj                                                       1.00127\n",
       "Name: 413, dtype: object"
      ]
     },
     "execution_count": 66,
     "metadata": {},
     "output_type": "execute_result"
    }
   ],
   "source": [
    "# Looking at the movie with the currently lowest entry of 'revenue_adj'.\n",
    "data.iloc[(data['revenue_adj']).argsort()[0]]"
   ]
  },
  {
   "cell_type": "markdown",
   "metadata": {
    "hidden": true
   },
   "source": [
    "This entry is correct."
   ]
  },
  {
   "cell_type": "code",
   "execution_count": 67,
   "metadata": {
    "hidden": true
   },
   "outputs": [
    {
     "data": {
      "text/plain": [
       "id                                                                  27064\n",
       "imdb_id                                                         tt0089603\n",
       "popularity                                                       0.214009\n",
       "budget                                                                  5\n",
       "revenue                                                          0.502758\n",
       "original_title                           Mishima: A Life in Four Chapters\n",
       "cast                    Ken Ogata|GÃ´ RijÃ»|Masato Aizawa|Masayuki Shi...\n",
       "homepage                                                              NaN\n",
       "director                                                    Paul Schrader\n",
       "tagline                                                               NaN\n",
       "keywords                  suicide|japanese|nationalism|coup d'etat|author\n",
       "overview                A fictional account of the life of Japanese au...\n",
       "runtime                                                               121\n",
       "genres                                                              Drama\n",
       "production_companies    American Zoetrope|Lucasfilm Ltd.|Tristone Ente...\n",
       "release_date                                          1985-05-15 00:00:00\n",
       "vote_count                                                             11\n",
       "vote_average                                                          6.3\n",
       "release_year                                                         1985\n",
       "budget_adj                                                        10.1358\n",
       "revenue_adj                                                       1.01917\n",
       "Name: 1870, dtype: object"
      ]
     },
     "execution_count": 67,
     "metadata": {},
     "output_type": "execute_result"
    }
   ],
   "source": [
    "# Looking at the movie with the currently second lowest entry of 'revenue_adj'.\n",
    "data.iloc[(data['revenue_adj']).argsort()[1]]"
   ]
  },
  {
   "cell_type": "markdown",
   "metadata": {
    "hidden": true
   },
   "source": [
    "This entry is correct."
   ]
  },
  {
   "cell_type": "code",
   "execution_count": 68,
   "metadata": {
    "hidden": true
   },
   "outputs": [
    {
     "data": {
      "text/plain": [
       "id                                                                  17680\n",
       "imdb_id                                                         tt1103982\n",
       "popularity                                                       0.272422\n",
       "budget                                                                1.7\n",
       "revenue                                                           1.00796\n",
       "original_title                                  The Girlfriend Experience\n",
       "cast                    Sasha Grey|Chris Santos|Peter Zizzo|Timothy J....\n",
       "homepage                                                              NaN\n",
       "director                                                Steven Soderbergh\n",
       "tagline                                      See it with someone you ****\n",
       "keywords                infidelity|economy|client|hooker|independent film\n",
       "overview                Chelsea is an in-demand call girl whose $2,000...\n",
       "runtime                                                                77\n",
       "genres                                                       Comedy|Drama\n",
       "production_companies     2929 Productions|Magnolia Pictures|Extension 765\n",
       "release_date                                          2009-01-20 00:00:00\n",
       "vote_count                                                             41\n",
       "vote_average                                                          5.5\n",
       "release_year                                                         2009\n",
       "budget_adj                                                        1.72788\n",
       "revenue_adj                                                       1.02449\n",
       "Name: 459, dtype: object"
      ]
     },
     "execution_count": 68,
     "metadata": {},
     "output_type": "execute_result"
    }
   ],
   "source": [
    "# Looking at the movie with the currently third lowest entry of 'revenue_adj'.\n",
    "data.iloc[(data['revenue_adj']).argsort()[2]]"
   ]
  },
  {
   "cell_type": "markdown",
   "metadata": {
    "hidden": true
   },
   "source": [
    "This entry is also correct. It is assumed that the entries of 'revenue_adj' are correct at the lower end because the three lowest entries have been checked at are all correct."
   ]
  },
  {
   "cell_type": "code",
   "execution_count": 69,
   "metadata": {
    "hidden": true
   },
   "outputs": [
    {
     "data": {
      "text/plain": [
       "id                                                                  19995\n",
       "imdb_id                                                         tt0499549\n",
       "popularity                                                        9.43277\n",
       "budget                                                                237\n",
       "revenue                                                           2781.51\n",
       "original_title                                                     Avatar\n",
       "cast                    Sam Worthington|Zoe Saldana|Sigourney Weaver|S...\n",
       "homepage                                      http://www.avatarmovie.com/\n",
       "director                                                    James Cameron\n",
       "tagline                                       Enter the World of Pandora.\n",
       "keywords                culture clash|future|space war|space colony|so...\n",
       "overview                In the 22nd century, a paraplegic Marine is di...\n",
       "runtime                                                               162\n",
       "genres                           Action|Adventure|Fantasy|Science Fiction\n",
       "production_companies    Ingenious Film Partners|Twentieth Century Fox ...\n",
       "release_date                                          2009-12-10 00:00:00\n",
       "vote_count                                                           8458\n",
       "vote_average                                                          7.1\n",
       "release_year                                                         2009\n",
       "budget_adj                                                        240.887\n",
       "revenue_adj                                                       2827.12\n",
       "Name: 310, dtype: object"
      ]
     },
     "execution_count": 69,
     "metadata": {},
     "output_type": "execute_result"
    }
   ],
   "source": [
    "# Looking at the movie with the highest entry of 'revenue_adj'.\n",
    "data.iloc[(-data['revenue_adj']).argsort()[0]]"
   ]
  },
  {
   "cell_type": "markdown",
   "metadata": {
    "hidden": true
   },
   "source": [
    "This entry is correct."
   ]
  },
  {
   "cell_type": "code",
   "execution_count": 70,
   "metadata": {
    "hidden": true
   },
   "outputs": [
    {
     "data": {
      "text/plain": [
       "id                                                                     11\n",
       "imdb_id                                                         tt0076759\n",
       "popularity                                                        12.0379\n",
       "budget                                                                 11\n",
       "revenue                                                           775.398\n",
       "original_title                                                  Star Wars\n",
       "cast                    Mark Hamill|Harrison Ford|Carrie Fisher|Peter ...\n",
       "homepage                http://www.starwars.com/films/star-wars-episod...\n",
       "director                                                     George Lucas\n",
       "tagline                      A long time ago in a galaxy far, far away...\n",
       "keywords                      android|galaxy|hermit|death star|lightsaber\n",
       "overview                Princess Leia is captured and held hostage by ...\n",
       "runtime                                                               121\n",
       "genres                                   Adventure|Action|Science Fiction\n",
       "production_companies     Lucasfilm|Twentieth Century Fox Film Corporation\n",
       "release_date                                          1977-03-20 00:00:00\n",
       "vote_count                                                           4428\n",
       "vote_average                                                          7.9\n",
       "release_year                                                         1977\n",
       "budget_adj                                                        39.5756\n",
       "revenue_adj                                                       2789.71\n",
       "Name: 293, dtype: object"
      ]
     },
     "execution_count": 70,
     "metadata": {},
     "output_type": "execute_result"
    }
   ],
   "source": [
    "# Looking at the movie with the second highest entry of 'revenue_adj'.\n",
    "data.iloc[(-data['revenue_adj']).argsort()[1]]"
   ]
  },
  {
   "cell_type": "markdown",
   "metadata": {
    "hidden": true
   },
   "source": [
    "This entry is also correct."
   ]
  },
  {
   "cell_type": "code",
   "execution_count": 71,
   "metadata": {
    "hidden": true
   },
   "outputs": [
    {
     "data": {
      "text/plain": [
       "id                                                                    597\n",
       "imdb_id                                                         tt0120338\n",
       "popularity                                                        4.35522\n",
       "budget                                                                200\n",
       "revenue                                                           1845.03\n",
       "original_title                                                    Titanic\n",
       "cast                    Kate Winslet|Leonardo DiCaprio|Frances Fisher|...\n",
       "homepage                            http://www.titanicmovie.com/menu.html\n",
       "director                                                    James Cameron\n",
       "tagline                         Nothing on Earth could come between them.\n",
       "keywords                             shipwreck|iceberg|ship|panic|titanic\n",
       "overview                84 years later, a 101-year-old woman named Ros...\n",
       "runtime                                                               194\n",
       "genres                                             Drama|Romance|Thriller\n",
       "production_companies    Paramount Pictures|Twentieth Century Fox Film ...\n",
       "release_date                                          1997-11-18 00:00:00\n",
       "vote_count                                                           4654\n",
       "vote_average                                                          7.3\n",
       "release_year                                                         1997\n",
       "budget_adj                                                        271.692\n",
       "revenue_adj                                                       2506.41\n",
       "Name: 1588, dtype: object"
      ]
     },
     "execution_count": 71,
     "metadata": {},
     "output_type": "execute_result"
    }
   ],
   "source": [
    "# Looking at the movie with the third highest entry of 'revenue_adj'.\n",
    "data.iloc[(-data['revenue_adj']).argsort()[2]]"
   ]
  },
  {
   "cell_type": "markdown",
   "metadata": {
    "hidden": true
   },
   "source": [
    "This entry is also correct. It is assumed that the entries of 'revenue_adj' are correct at the upper end because the three highest entries have been checked at are all correct."
   ]
  },
  {
   "cell_type": "code",
   "execution_count": 72,
   "metadata": {
    "hidden": true
   },
   "outputs": [
    {
     "data": {
      "text/plain": [
       "count    3547.000000\n",
       "mean      148.372376\n",
       "std       221.520718\n",
       "min         1.001273\n",
       "25%        25.183522\n",
       "50%        71.282267\n",
       "75%       176.623291\n",
       "max      2827.123750\n",
       "Name: revenue_adj, dtype: object"
      ]
     },
     "execution_count": 72,
     "metadata": {},
     "output_type": "execute_result"
    }
   ],
   "source": [
    "# Obtaining the key properties of the distribution of 'revenue_adj' after the data cleaning done so far.\n",
    "(data['revenue_adj']).describe().apply(lambda x: format(x, 'f'))"
   ]
  },
  {
   "cell_type": "code",
   "execution_count": 73,
   "metadata": {
    "hidden": true
   },
   "outputs": [
    {
     "data": {
      "image/png": "[encoded data removed]",
      "text/plain": [
       "<Figure size 432x288 with 1 Axes>"
      ]
     },
     "metadata": {
      "needs_background": "light"
     },
     "output_type": "display_data"
    }
   ],
   "source": [
    "# Creating a boxplot of 'revenue_adj', grouped by 'release_year'.\n",
    "ax = data.boxplot(by='release_year', column=['revenue_adj'])\n",
    "ax.set_ylim(0, 1200)\n",
    "tick_skip = 10\n",
    "ax.set_xticklabels(ax.get_xticklabels()[::tick_skip])\n",
    "ax.set_xticks(ax.get_xticks()[::tick_skip])\n",
    "plt.tight_layout()"
   ]
  },
  {
   "cell_type": "markdown",
   "metadata": {
    "hidden": true
   },
   "source": [
    "There seems to be a lot of deviation from year to year in the 1960ies."
   ]
  },
  {
   "cell_type": "code",
   "execution_count": 74,
   "metadata": {
    "hidden": true
   },
   "outputs": [
    {
     "data": {
      "image/png": "[encoded data removed]",
      "text/plain": [
       "<Figure size 432x288 with 1 Axes>"
      ]
     },
     "metadata": {
      "needs_background": "light"
     },
     "output_type": "display_data"
    }
   ],
   "source": [
    "# Zooming in on the 1960ies.\n",
    "ax = data[(data['release_year']>= 1960) & (data['release_year']<= 1970)].boxplot(by='release_year', column=['revenue_adj'])\n",
    "ax.set_ylim(0, 1200)\n",
    "# tick_skip = 10\n",
    "# ax.set_xticklabels(ax.get_xticklabels()[::tick_skip])\n",
    "# ax.set_xticks(ax.get_xticks()[::tick_skip])\n",
    "plt.tight_layout()"
   ]
  },
  {
   "cell_type": "code",
   "execution_count": 75,
   "metadata": {
    "hidden": true
   },
   "outputs": [
    {
     "data": {
      "text/html": [
       "<div>\n",
       "<style scoped>\n",
       "    .dataframe tbody tr th:only-of-type {\n",
       "        vertical-align: middle;\n",
       "    }\n",
       "\n",
       "    .dataframe tbody tr th {\n",
       "        vertical-align: top;\n",
       "    }\n",
       "\n",
       "    .dataframe thead th {\n",
       "        text-align: right;\n",
       "    }\n",
       "</style>\n",
       "<table border=\"1\" class=\"dataframe\">\n",
       "  <thead>\n",
       "    <tr style=\"text-align: right;\">\n",
       "      <th></th>\n",
       "      <th>original_title</th>\n",
       "      <th>revenue_adj</th>\n",
       "    </tr>\n",
       "  </thead>\n",
       "  <tbody>\n",
       "    <tr>\n",
       "      <td>3517</td>\n",
       "      <td>Thunderball</td>\n",
       "      <td>977.153544</td>\n",
       "    </tr>\n",
       "    <tr>\n",
       "      <td>3518</td>\n",
       "      <td>The Sound of Music</td>\n",
       "      <td>1129.534862</td>\n",
       "    </tr>\n",
       "    <tr>\n",
       "      <td>3519</td>\n",
       "      <td>Doctor Zhivago</td>\n",
       "      <td>773.178594</td>\n",
       "    </tr>\n",
       "    <tr>\n",
       "      <td>3520</td>\n",
       "      <td>Those Magnificent Men in Their Flying Machines...</td>\n",
       "      <td>207.270883</td>\n",
       "    </tr>\n",
       "    <tr>\n",
       "      <td>3521</td>\n",
       "      <td>The Greatest Story Ever Told</td>\n",
       "      <td>83.046764</td>\n",
       "    </tr>\n",
       "  </tbody>\n",
       "</table>\n",
       "</div>"
      ],
      "text/plain": [
       "                                         original_title  revenue_adj\n",
       "3517                                        Thunderball   977.153544\n",
       "3518                                 The Sound of Music  1129.534862\n",
       "3519                                     Doctor Zhivago   773.178594\n",
       "3520  Those Magnificent Men in Their Flying Machines...   207.270883\n",
       "3521                       The Greatest Story Ever Told    83.046764"
      ]
     },
     "execution_count": 75,
     "metadata": {},
     "output_type": "execute_result"
    }
   ],
   "source": [
    "# Looking at adjusted revenue of movies in 1965.\n",
    "data[data['release_year']==1965][['original_title','revenue_adj']]"
   ]
  },
  {
   "cell_type": "code",
   "execution_count": 76,
   "metadata": {
    "hidden": true,
    "scrolled": true
   },
   "outputs": [
    {
     "data": {
      "image/png": "[encoded data removed]",
      "text/plain": [
       "<Figure size 432x288 with 1 Axes>"
      ]
     },
     "metadata": {
      "needs_background": "light"
     },
     "output_type": "display_data"
    }
   ],
   "source": [
    "# Plotting adjusted revenue against adjusted budget of movies from 1965.\n",
    "ax = data[data['release_year']==1965].plot.scatter(x='budget_adj', y='revenue_adj')\n",
    "for row in data[data['release_year']==1965][['original_title', 'budget_adj', 'revenue_adj']].values:\n",
    "    ax.annotate(row[0], xy =(row[1], row[2]), xytext =(7, 0), textcoords='offset pixels')"
   ]
  },
  {
   "cell_type": "markdown",
   "metadata": {
    "hidden": true
   },
   "source": [
    "The 1960ies in general, and 1965 in particular, were times with large deviations in movie revenues (as well as budgets), see also https://en.wikipedia.org/wiki/1960s_in_film and https://en.wikipedia.org/wiki/1965_in_film."
   ]
  },
  {
   "cell_type": "markdown",
   "metadata": {
    "hidden": true
   },
   "source": [
    "'revenue_adj' seems now correct and it does not require further actions."
   ]
  },
  {
   "cell_type": "markdown",
   "metadata": {
    "heading_collapsed": true,
    "hidden": true
   },
   "source": [
    "### Gross profit margin"
   ]
  },
  {
   "cell_type": "code",
   "execution_count": 77,
   "metadata": {
    "hidden": true
   },
   "outputs": [
    {
     "data": {
      "text/plain": [
       "0    0.900894\n",
       "1    0.603632\n",
       "2    0.627419\n",
       "Name: GPM, dtype: float64"
      ]
     },
     "execution_count": 77,
     "metadata": {},
     "output_type": "execute_result"
    }
   ],
   "source": [
    "# Creating the column GPM.\n",
    "data['GPM'] = ( data['revenue_adj'] - data['budget_adj'] ) / data['revenue_adj']\n",
    "data['GPM'].head(3)"
   ]
  },
  {
   "cell_type": "code",
   "execution_count": 78,
   "metadata": {
    "hidden": true
   },
   "outputs": [
    {
     "data": {
      "text/plain": [
       "count    3547.000000\n",
       "mean       -0.013205\n",
       "std         2.194826\n",
       "min       -57.487476\n",
       "25%         0.025748\n",
       "50%         0.550247\n",
       "75%         0.763172\n",
       "max         0.996000\n",
       "Name: GPM, dtype: float64"
      ]
     },
     "execution_count": 78,
     "metadata": {},
     "output_type": "execute_result"
    }
   ],
   "source": [
    "# Obtaining the key properties of the distribution of 'GPM'.\n",
    "data['GPM'].describe()"
   ]
  },
  {
   "cell_type": "markdown",
   "metadata": {
    "hidden": true
   },
   "source": [
    "It is interesting to note that the mean is negative whereas the median is positive. The majority of the movies do make a profit, in fact above 50% GPM. However, the mean is negative due some \"box-office bombs\" generating negative profit as much as -575%."
   ]
  },
  {
   "cell_type": "code",
   "execution_count": 79,
   "metadata": {
    "hidden": true
   },
   "outputs": [
    {
     "data": {
      "text/plain": [
       "<matplotlib.axes._subplots.AxesSubplot at 0x23131b7b248>"
      ]
     },
     "execution_count": 79,
     "metadata": {},
     "output_type": "execute_result"
    },
    {
     "data": {
      "image/png": "[encoded data removed]",
      "text/plain": [
       "<Figure size 432x288 with 1 Axes>"
      ]
     },
     "metadata": {
      "needs_background": "light"
     },
     "output_type": "display_data"
    }
   ],
   "source": [
    "# Plotting the histogram of 'GPM'.\n",
    "data['GPM'].hist(ec='black', bins=np.linspace(-58,1,num=60))"
   ]
  },
  {
   "cell_type": "code",
   "execution_count": 80,
   "metadata": {
    "hidden": true
   },
   "outputs": [
    {
     "data": {
      "text/plain": [
       "<matplotlib.axes._subplots.AxesSubplot at 0x23131c8c248>"
      ]
     },
     "execution_count": 80,
     "metadata": {},
     "output_type": "execute_result"
    },
    {
     "data": {
      "image/png": "[encoded data removed]",
      "text/plain": [
       "<Figure size 432x288 with 1 Axes>"
      ]
     },
     "metadata": {
      "needs_background": "light"
     },
     "output_type": "display_data"
    }
   ],
   "source": [
    "# Zooming in.\n",
    "data['GPM'].hist(ec='black', bins=np.linspace(-10,1,num=12))"
   ]
  },
  {
   "cell_type": "code",
   "execution_count": 81,
   "metadata": {
    "hidden": true
   },
   "outputs": [
    {
     "data": {
      "text/plain": [
       "<matplotlib.axes._subplots.AxesSubplot at 0x23131d15d48>"
      ]
     },
     "execution_count": 81,
     "metadata": {},
     "output_type": "execute_result"
    },
    {
     "data": {
      "image/png": "[encoded data removed]",
      "text/plain": [
       "<Figure size 432x288 with 1 Axes>"
      ]
     },
     "metadata": {
      "needs_background": "light"
     },
     "output_type": "display_data"
    }
   ],
   "source": [
    "# Zooming further in.\n",
    "data['GPM'].hist(ec='black', bins=np.linspace(-1,1,num=9))"
   ]
  },
  {
   "cell_type": "code",
   "execution_count": 82,
   "metadata": {
    "hidden": true
   },
   "outputs": [
    {
     "data": {
      "text/plain": [
       "<matplotlib.axes._subplots.AxesSubplot at 0x23131d93808>"
      ]
     },
     "execution_count": 82,
     "metadata": {},
     "output_type": "execute_result"
    },
    {
     "data": {
      "image/png": "[encoded data removed]",
      "text/plain": [
       "<Figure size 432x288 with 1 Axes>"
      ]
     },
     "metadata": {
      "needs_background": "light"
     },
     "output_type": "display_data"
    }
   ],
   "source": [
    "# Zooming further in.\n",
    "data['GPM'].hist(ec='black', bins=np.linspace(0,1,num=11))"
   ]
  },
  {
   "cell_type": "code",
   "execution_count": 83,
   "metadata": {
    "hidden": true
   },
   "outputs": [
    {
     "data": {
      "text/plain": [
       "id                                                                   9769\n",
       "imdb_id                                                         tt0119558\n",
       "popularity                                                        1.03133\n",
       "budget                                                                 62\n",
       "revenue                                                           1.06006\n",
       "original_title                                                     Lolita\n",
       "cast                    Jeremy Irons|Dominique Swain|Melanie Griffith|...\n",
       "homepage                                                              NaN\n",
       "director                                                      Adrian Lyne\n",
       "tagline                 A forbidden love. An unthinkable attraction. T...\n",
       "keywords                       jealousy|secret|blackmail|professor|lolita\n",
       "overview                Urbane professor Humbert Humbert marries a New...\n",
       "runtime                                                               137\n",
       "genres                                                      Drama|Romance\n",
       "production_companies                            PathÃ©|Lolita Productions\n",
       "release_date                                          1997-09-27 00:00:00\n",
       "vote_count                                                            120\n",
       "vote_average                                                          6.9\n",
       "release_year                                                         1997\n",
       "budget_adj                                                        84.2245\n",
       "revenue_adj                                                       1.44004\n",
       "GPM                                                              -57.4875\n",
       "Name: 1617, dtype: object"
      ]
     },
     "execution_count": 83,
     "metadata": {},
     "output_type": "execute_result"
    }
   ],
   "source": [
    "# Looking at the movie with the lowest entry of 'GPM'.\n",
    "data.iloc[(data['GPM']).argsort()[0]]"
   ]
  },
  {
   "cell_type": "markdown",
   "metadata": {
    "hidden": true
   },
   "source": [
    "This entry is correct. "
   ]
  },
  {
   "cell_type": "code",
   "execution_count": 84,
   "metadata": {
    "hidden": true
   },
   "outputs": [
    {
     "data": {
      "text/plain": [
       "id                                                                  50512\n",
       "imdb_id                                                         tt0118623\n",
       "popularity                                                         0.2817\n",
       "budget                                                                 35\n",
       "revenue                                                           0.79183\n",
       "original_title                                              Anna Karenina\n",
       "cast                    Sophie Marceau|Sean Bean|Alfred Molina|Mia Kir...\n",
       "homepage                                                              NaN\n",
       "director                                                     Bernard Rose\n",
       "tagline                 In a world of power and privilege, one woman d...\n",
       "keywords                                                              NaN\n",
       "overview                Anna (Marceau) is a wife and mother who has an...\n",
       "runtime                                                               108\n",
       "genres                                                      Drama|Romance\n",
       "production_companies    Icon Entertainment International|Warner Bros.|...\n",
       "release_date                                          1997-04-04 00:00:00\n",
       "vote_count                                                             11\n",
       "vote_average                                                            6\n",
       "release_year                                                         1997\n",
       "budget_adj                                                        47.5461\n",
       "revenue_adj                                                       1.07567\n",
       "GPM                                                              -43.2014\n",
       "Name: 1665, dtype: object"
      ]
     },
     "execution_count": 84,
     "metadata": {},
     "output_type": "execute_result"
    }
   ],
   "source": [
    "# Looking at the movie with the second lowest entry of 'GPM'.\n",
    "data.iloc[(data['GPM']).argsort()[1]]"
   ]
  },
  {
   "cell_type": "markdown",
   "metadata": {
    "hidden": true
   },
   "source": [
    "This entry is also correct. "
   ]
  },
  {
   "cell_type": "code",
   "execution_count": 85,
   "metadata": {
    "hidden": true
   },
   "outputs": [
    {
     "data": {
      "text/plain": [
       "id                                                                  22256\n",
       "imdb_id                                                         tt0119934\n",
       "popularity                                                       0.245817\n",
       "budget                                                                 25\n",
       "revenue                                                          0.777423\n",
       "original_title                                             Without Limits\n",
       "cast                    Billy Crudup|Donald Sutherland|Monica Potter|J...\n",
       "homepage                                                              NaN\n",
       "director                                                     Robert Towne\n",
       "tagline                 PRE. The way he competed. The way he lived his...\n",
       "keywords                              running|olympic games|sport|athlete\n",
       "overview                The film follows the life of famous 1970s runn...\n",
       "runtime                                                               117\n",
       "genres                                                              Drama\n",
       "production_companies               Cruise/Wagner Productions|Warner Bros.\n",
       "release_date                                          1998-09-11 00:00:00\n",
       "vote_count                                                             11\n",
       "vote_average                                                            6\n",
       "release_year                                                         1998\n",
       "budget_adj                                                        33.4424\n",
       "revenue_adj                                                       1.03996\n",
       "GPM                                                              -31.1575\n",
       "Name: 3020, dtype: object"
      ]
     },
     "execution_count": 85,
     "metadata": {},
     "output_type": "execute_result"
    }
   ],
   "source": [
    "# Looking at the movie with the third lowest entry of 'GPM'.\n",
    "data.iloc[(data['GPM']).argsort()[2]]"
   ]
  },
  {
   "cell_type": "markdown",
   "metadata": {
    "hidden": true
   },
   "source": [
    "This entry is also correct. It is assumed that the entries of 'GPM' are correct at the lower end because the three lowest entries have been checked at are all correct."
   ]
  },
  {
   "cell_type": "code",
   "execution_count": 86,
   "metadata": {
    "hidden": true
   },
   "outputs": [],
   "source": [
    "# Looking at the movie with the highest entry of 'GPM'."
   ]
  },
  {
   "cell_type": "code",
   "execution_count": 87,
   "metadata": {
    "hidden": true
   },
   "outputs": [
    {
     "data": {
      "text/plain": [
       "id                                                                   9659\n",
       "imdb_id                                                         tt0079501\n",
       "popularity                                                        2.01202\n",
       "budget                                                                0.4\n",
       "revenue                                                               100\n",
       "original_title                                                    Mad Max\n",
       "cast                    Mel Gibson|Joanne Samuel|Hugh Keays-Byrne|Stev...\n",
       "homepage                                                              NaN\n",
       "director                                                    George Miller\n",
       "tagline                                   The Maximum Force Of The Future\n",
       "keywords                      chain|baby|bridge|post-apocalyptic|dystopia\n",
       "overview                In a dystopic future Australia, a vicious bike...\n",
       "runtime                                                                93\n",
       "genres                          Adventure|Action|Thriller|Science Fiction\n",
       "production_companies    Kennedy Miller Productions|Mad Max Films|Cross...\n",
       "release_date                                          1979-04-12 00:00:00\n",
       "vote_count                                                            667\n",
       "vote_average                                                          6.5\n",
       "release_year                                                         1979\n",
       "budget_adj                                                        1.20182\n",
       "revenue_adj                                                       300.455\n",
       "GPM                                                                 0.996\n",
       "Name: 2494, dtype: object"
      ]
     },
     "execution_count": 87,
     "metadata": {},
     "output_type": "execute_result"
    }
   ],
   "source": [
    "data.iloc[(-data['GPM']).argsort()[0]]"
   ]
  },
  {
   "cell_type": "markdown",
   "metadata": {
    "hidden": true
   },
   "source": [
    "This entry is correct. On a side note, this movie holds the Guinness record for most profitable film."
   ]
  },
  {
   "cell_type": "code",
   "execution_count": 88,
   "metadata": {
    "hidden": true
   },
   "outputs": [],
   "source": [
    "# Looking at the movie with the second highest entry of 'GPM'."
   ]
  },
  {
   "cell_type": "code",
   "execution_count": 89,
   "metadata": {
    "hidden": true
   },
   "outputs": [
    {
     "data": {
      "text/plain": [
       "id                                                                    948\n",
       "imdb_id                                                         tt0077651\n",
       "popularity                                                        1.19885\n",
       "budget                                                                0.3\n",
       "revenue                                                                70\n",
       "original_title                                                  Halloween\n",
       "cast                    Donald Pleasence|Jamie Lee Curtis|P.J. Soles|N...\n",
       "homepage                http://www.theofficialjohncarpenter.com/hallow...\n",
       "director                                                   John Carpenter\n",
       "tagline                                           The Night HE Came Home!\n",
       "keywords                   female nudity|nudity|mask|babysitter|halloween\n",
       "overview                A psychotic murderer, institutionalized since ...\n",
       "runtime                                                                91\n",
       "genres                                                    Horror|Thriller\n",
       "production_companies    Compass International Pictures|Falcon Internat...\n",
       "release_date                                          1978-10-25 00:00:00\n",
       "vote_count                                                            522\n",
       "vote_average                                                          7.3\n",
       "release_year                                                         1978\n",
       "budget_adj                                                        1.00281\n",
       "revenue_adj                                                       233.989\n",
       "GPM                                                              0.995714\n",
       "Name: 3530, dtype: object"
      ]
     },
     "execution_count": 89,
     "metadata": {},
     "output_type": "execute_result"
    }
   ],
   "source": [
    "data.iloc[(-data['GPM']).argsort()[1]]"
   ]
  },
  {
   "cell_type": "markdown",
   "metadata": {
    "hidden": true
   },
   "source": [
    "This entry is also correct."
   ]
  },
  {
   "cell_type": "code",
   "execution_count": 90,
   "metadata": {
    "hidden": true
   },
   "outputs": [],
   "source": [
    "# Looking at the movie with the third highest entry of 'GPM'."
   ]
  },
  {
   "cell_type": "code",
   "execution_count": 91,
   "metadata": {
    "hidden": true
   },
   "outputs": [
    {
     "data": {
      "text/plain": [
       "id                                                                    838\n",
       "imdb_id                                                         tt0069704\n",
       "popularity                                                       0.684079\n",
       "budget                                                              0.777\n",
       "revenue                                                               115\n",
       "original_title                                          American Graffiti\n",
       "cast                    Richard Dreyfuss|Ron Howard|Paul Le Mat|Charle...\n",
       "homepage                                                              NaN\n",
       "director                                                     George Lucas\n",
       "tagline                                            Where were you in '62?\n",
       "keywords                farewell|rock and roll|robbery|love at first s...\n",
       "overview                A couple of high school graduates spend one fi...\n",
       "runtime                                                               110\n",
       "genres                                                       Comedy|Drama\n",
       "production_companies     Lucasfilm|Universal Pictures|The Coppola Company\n",
       "release_date                                          1973-08-01 00:00:00\n",
       "vote_count                                                            145\n",
       "vote_average                                                          6.5\n",
       "release_year                                                         1973\n",
       "budget_adj                                                        3.81597\n",
       "revenue_adj                                                       564.783\n",
       "GPM                                                              0.993243\n",
       "Name: 3501, dtype: object"
      ]
     },
     "execution_count": 91,
     "metadata": {},
     "output_type": "execute_result"
    }
   ],
   "source": [
    "data.iloc[(-data['GPM']).argsort()[2]]"
   ]
  },
  {
   "cell_type": "markdown",
   "metadata": {
    "hidden": true
   },
   "source": [
    "This entry is also correct. It is assumed that the entries of 'GPM' are correct at the upper end because the three highest entries have been checked at are all correct."
   ]
  },
  {
   "cell_type": "code",
   "execution_count": 92,
   "metadata": {
    "hidden": true
   },
   "outputs": [
    {
     "data": {
      "image/png": "[encoded data removed]",
      "text/plain": [
       "<Figure size 432x288 with 1 Axes>"
      ]
     },
     "metadata": {
      "needs_background": "light"
     },
     "output_type": "display_data"
    }
   ],
   "source": [
    "# Creating a boxplot of 'GPM', grouped by 'release_year'.\n",
    "ax = data.boxplot(by='release_year', column=['GPM'])\n",
    "ax.set_ylim(-3,1)\n",
    "tick_skip = 10\n",
    "ax.set_xticklabels(ax.get_xticklabels()[::tick_skip])\n",
    "ax.set_xticks(ax.get_xticks()[::tick_skip])\n",
    "plt.tight_layout()"
   ]
  },
  {
   "cell_type": "markdown",
   "metadata": {
    "heading_collapsed": true,
    "hidden": true
   },
   "source": [
    "## Analysis\n",
    "<a id='Analysis'></a>"
   ]
  },
  {
   "cell_type": "markdown",
   "metadata": {
    "hidden": true
   },
   "source": [
    "In this section the data is analyzed to answer the research question(s)."
   ]
  },
  {
   "cell_type": "markdown",
   "metadata": {
    "hidden": true
   },
   "source": [
    "Note that all references to 'budget' and 'revenue' in this section refer to their adjusted versions 'budget_adj' and 'revenue_adj'. Furthermore, 'rating' refers to 'vote_average'."
   ]
  },
  {
   "cell_type": "markdown",
   "metadata": {
    "heading_collapsed": true,
    "hidden": true
   },
   "source": [
    "### Is high budget associated with high rating?"
   ]
  },
  {
   "cell_type": "code",
   "execution_count": 93,
   "metadata": {
    "hidden": true
   },
   "outputs": [
    {
     "data": {
      "image/png": "[encoded data removed]",
      "text/plain": [
       "<Figure size 432x288 with 1 Axes>"
      ]
     },
     "metadata": {
      "needs_background": "light"
     },
     "output_type": "display_data"
    }
   ],
   "source": [
    "# Creating a boxplot of rating vs. budget.\n",
    "fig, ax1 = plt.subplots()\n",
    "ax1.plot(data['budget_adj'], data['vote_average'], 'o', color='black', markersize=4)\n",
    "ax1.set_xlabel('Budget in MUSD')\n",
    "ax1.set_ylabel('Rating')\n",
    "ax1.set_xlim(0, 350)\n",
    "ax1.set_ylim(0, 10)\n",
    "ax1.yaxis.set_major_locator(mpl.ticker.LinearLocator(11))\n",
    "plt.tight_layout()"
   ]
  },
  {
   "cell_type": "code",
   "execution_count": 94,
   "metadata": {
    "hidden": true
   },
   "outputs": [
    {
     "data": {
      "text/html": [
       "<div>\n",
       "<style scoped>\n",
       "    .dataframe tbody tr th:only-of-type {\n",
       "        vertical-align: middle;\n",
       "    }\n",
       "\n",
       "    .dataframe tbody tr th {\n",
       "        vertical-align: top;\n",
       "    }\n",
       "\n",
       "    .dataframe thead th {\n",
       "        text-align: right;\n",
       "    }\n",
       "</style>\n",
       "<table border=\"1\" class=\"dataframe\">\n",
       "  <thead>\n",
       "    <tr style=\"text-align: right;\">\n",
       "      <th></th>\n",
       "      <th>budget_adj</th>\n",
       "      <th>vote_average</th>\n",
       "    </tr>\n",
       "  </thead>\n",
       "  <tbody>\n",
       "    <tr>\n",
       "      <td>budget_adj</td>\n",
       "      <td>1.000000</td>\n",
       "      <td>0.020901</td>\n",
       "    </tr>\n",
       "    <tr>\n",
       "      <td>vote_average</td>\n",
       "      <td>0.020901</td>\n",
       "      <td>1.000000</td>\n",
       "    </tr>\n",
       "  </tbody>\n",
       "</table>\n",
       "</div>"
      ],
      "text/plain": [
       "              budget_adj  vote_average\n",
       "budget_adj      1.000000      0.020901\n",
       "vote_average    0.020901      1.000000"
      ]
     },
     "execution_count": 94,
     "metadata": {},
     "output_type": "execute_result"
    }
   ],
   "source": [
    "data[['budget_adj', 'vote_average']].corr()"
   ]
  },
  {
   "cell_type": "markdown",
   "metadata": {
    "hidden": true
   },
   "source": [
    "High budget is not associated with high ratings."
   ]
  },
  {
   "cell_type": "markdown",
   "metadata": {
    "heading_collapsed": true,
    "hidden": true
   },
   "source": [
    "### Is high rating associated with high revenue?"
   ]
  },
  {
   "cell_type": "code",
   "execution_count": 95,
   "metadata": {
    "hidden": true
   },
   "outputs": [
    {
     "data": {
      "image/png": "[encoded data removed]",
      "text/plain": [
       "<Figure size 432x288 with 1 Axes>"
      ]
     },
     "metadata": {
      "needs_background": "light"
     },
     "output_type": "display_data"
    }
   ],
   "source": [
    "# Creating a boxplot of revenue vs. rating.\n",
    "fig, ax1 = plt.subplots()\n",
    "ax1.plot(data['vote_average'], data['revenue_adj'], 'o', color='black', markersize=4)\n",
    "ax1.set_xlabel('Rating')\n",
    "ax1.set_ylabel('Revenue in MUSD')\n",
    "ax1.set_xlim(0, 10)\n",
    "ax1.set_ylim(0, 3000)\n",
    "ax1.xaxis.set_major_locator(mpl.ticker.LinearLocator(11))\n",
    "plt.tight_layout()"
   ]
  },
  {
   "cell_type": "code",
   "execution_count": 96,
   "metadata": {
    "hidden": true
   },
   "outputs": [
    {
     "data": {
      "text/html": [
       "<div>\n",
       "<style scoped>\n",
       "    .dataframe tbody tr th:only-of-type {\n",
       "        vertical-align: middle;\n",
       "    }\n",
       "\n",
       "    .dataframe tbody tr th {\n",
       "        vertical-align: top;\n",
       "    }\n",
       "\n",
       "    .dataframe thead th {\n",
       "        text-align: right;\n",
       "    }\n",
       "</style>\n",
       "<table border=\"1\" class=\"dataframe\">\n",
       "  <thead>\n",
       "    <tr style=\"text-align: right;\">\n",
       "      <th></th>\n",
       "      <th>vote_average</th>\n",
       "      <th>revenue_adj</th>\n",
       "    </tr>\n",
       "  </thead>\n",
       "  <tbody>\n",
       "    <tr>\n",
       "      <td>vote_average</td>\n",
       "      <td>1.000000</td>\n",
       "      <td>0.269597</td>\n",
       "    </tr>\n",
       "    <tr>\n",
       "      <td>revenue_adj</td>\n",
       "      <td>0.269597</td>\n",
       "      <td>1.000000</td>\n",
       "    </tr>\n",
       "  </tbody>\n",
       "</table>\n",
       "</div>"
      ],
      "text/plain": [
       "              vote_average  revenue_adj\n",
       "vote_average      1.000000     0.269597\n",
       "revenue_adj       0.269597     1.000000"
      ]
     },
     "execution_count": 96,
     "metadata": {},
     "output_type": "execute_result"
    }
   ],
   "source": [
    "data[['vote_average', 'revenue_adj']].corr()"
   ]
  },
  {
   "cell_type": "markdown",
   "metadata": {
    "hidden": true
   },
   "source": [
    "Yes, high ratings are associated with high revenues."
   ]
  },
  {
   "cell_type": "markdown",
   "metadata": {
    "heading_collapsed": true,
    "hidden": true
   },
   "source": [
    "### Is high budget associated with high revenue?"
   ]
  },
  {
   "cell_type": "code",
   "execution_count": 97,
   "metadata": {
    "hidden": true
   },
   "outputs": [
    {
     "data": {
      "image/png": "[encoded data removed]",
      "text/plain": [
       "<Figure size 432x288 with 1 Axes>"
      ]
     },
     "metadata": {
      "needs_background": "light"
     },
     "output_type": "display_data"
    }
   ],
   "source": [
    "# Creating a boxplot of budget. vs. revenue.\n",
    "fig, ax1 = plt.subplots()\n",
    "ax1.plot(data['budget_adj'], data['revenue_adj'], 'o', color='black', markersize=4)\n",
    "ax1.set_xlabel('Budget in MUSD')\n",
    "ax1.set_ylabel('Revenue in MUSD')\n",
    "ax1.set_xlim(0, 400)\n",
    "ax1.set_ylim(0, 3000)\n",
    "plt.tight_layout()"
   ]
  },
  {
   "cell_type": "code",
   "execution_count": 98,
   "metadata": {
    "hidden": true
   },
   "outputs": [
    {
     "data": {
      "text/html": [
       "<div>\n",
       "<style scoped>\n",
       "    .dataframe tbody tr th:only-of-type {\n",
       "        vertical-align: middle;\n",
       "    }\n",
       "\n",
       "    .dataframe tbody tr th {\n",
       "        vertical-align: top;\n",
       "    }\n",
       "\n",
       "    .dataframe thead th {\n",
       "        text-align: right;\n",
       "    }\n",
       "</style>\n",
       "<table border=\"1\" class=\"dataframe\">\n",
       "  <thead>\n",
       "    <tr style=\"text-align: right;\">\n",
       "      <th></th>\n",
       "      <th>budget_adj</th>\n",
       "      <th>revenue_adj</th>\n",
       "    </tr>\n",
       "  </thead>\n",
       "  <tbody>\n",
       "    <tr>\n",
       "      <td>budget_adj</td>\n",
       "      <td>1.000000</td>\n",
       "      <td>0.561735</td>\n",
       "    </tr>\n",
       "    <tr>\n",
       "      <td>revenue_adj</td>\n",
       "      <td>0.561735</td>\n",
       "      <td>1.000000</td>\n",
       "    </tr>\n",
       "  </tbody>\n",
       "</table>\n",
       "</div>"
      ],
      "text/plain": [
       "             budget_adj  revenue_adj\n",
       "budget_adj     1.000000     0.561735\n",
       "revenue_adj    0.561735     1.000000"
      ]
     },
     "execution_count": 98,
     "metadata": {},
     "output_type": "execute_result"
    }
   ],
   "source": [
    "data[['budget_adj', 'revenue_adj']].corr()"
   ]
  },
  {
   "cell_type": "markdown",
   "metadata": {
    "hidden": true
   },
   "source": [
    "Yes, high budgets are associated with high revenues."
   ]
  },
  {
   "cell_type": "markdown",
   "metadata": {
    "heading_collapsed": true,
    "hidden": true
   },
   "source": [
    "### Is high rating associated with high GPM?"
   ]
  },
  {
   "cell_type": "code",
   "execution_count": 99,
   "metadata": {
    "hidden": true
   },
   "outputs": [
    {
     "data": {
      "image/png": "[encoded data removed]",
      "text/plain": [
       "<Figure size 432x288 with 1 Axes>"
      ]
     },
     "metadata": {
      "needs_background": "light"
     },
     "output_type": "display_data"
    }
   ],
   "source": [
    "# Creating a boxplot of GPM vs. rating.\n",
    "fig, ax1 = plt.subplots()\n",
    "ax1.plot(data['vote_average'], data['GPM'], 'o', color='black', markersize=4)\n",
    "ax1.set_xlabel('Rating')\n",
    "ax1.set_ylabel('GPR')\n",
    "ax1.set_xlim(0, 10)\n",
    "ax1.set_ylim(-10, 1)\n",
    "ax1.xaxis.set_major_locator(mpl.ticker.LinearLocator(11))\n",
    "plt.tight_layout()"
   ]
  },
  {
   "cell_type": "code",
   "execution_count": 100,
   "metadata": {
    "hidden": true
   },
   "outputs": [
    {
     "data": {
      "text/html": [
       "<div>\n",
       "<style scoped>\n",
       "    .dataframe tbody tr th:only-of-type {\n",
       "        vertical-align: middle;\n",
       "    }\n",
       "\n",
       "    .dataframe tbody tr th {\n",
       "        vertical-align: top;\n",
       "    }\n",
       "\n",
       "    .dataframe thead th {\n",
       "        text-align: right;\n",
       "    }\n",
       "</style>\n",
       "<table border=\"1\" class=\"dataframe\">\n",
       "  <thead>\n",
       "    <tr style=\"text-align: right;\">\n",
       "      <th></th>\n",
       "      <th>vote_average</th>\n",
       "      <th>GPM</th>\n",
       "    </tr>\n",
       "  </thead>\n",
       "  <tbody>\n",
       "    <tr>\n",
       "      <td>vote_average</td>\n",
       "      <td>1.000000</td>\n",
       "      <td>0.149471</td>\n",
       "    </tr>\n",
       "    <tr>\n",
       "      <td>GPM</td>\n",
       "      <td>0.149471</td>\n",
       "      <td>1.000000</td>\n",
       "    </tr>\n",
       "  </tbody>\n",
       "</table>\n",
       "</div>"
      ],
      "text/plain": [
       "              vote_average       GPM\n",
       "vote_average      1.000000  0.149471\n",
       "GPM               0.149471  1.000000"
      ]
     },
     "execution_count": 100,
     "metadata": {},
     "output_type": "execute_result"
    }
   ],
   "source": [
    "data[['vote_average', 'GPM']].corr()"
   ]
  },
  {
   "cell_type": "markdown",
   "metadata": {
    "hidden": true
   },
   "source": [
    "Yes, high ratings are associated with high GPM, although the correlation is not very strong."
   ]
  },
  {
   "cell_type": "markdown",
   "metadata": {
    "heading_collapsed": true,
    "hidden": true
   },
   "source": [
    "### Is high budget associated with high GPM?"
   ]
  },
  {
   "cell_type": "code",
   "execution_count": 101,
   "metadata": {
    "hidden": true
   },
   "outputs": [
    {
     "data": {
      "image/png": "[encoded data removed]",
      "text/plain": [
       "<Figure size 432x288 with 1 Axes>"
      ]
     },
     "metadata": {
      "needs_background": "light"
     },
     "output_type": "display_data"
    }
   ],
   "source": [
    "# Creating a boxplot of GPM vs. budget.\n",
    "fig, ax1 = plt.subplots()\n",
    "ax1.plot(data['budget_adj'], data['GPM'], 'o', color='black', markersize=4)\n",
    "ax1.set_xlabel('Budget in MUSD')\n",
    "ax1.set_ylabel('GPM')\n",
    "ax1.set_xlim(0, 400)\n",
    "ax1.set_ylim(-10, 1)\n",
    "plt.tight_layout()"
   ]
  },
  {
   "cell_type": "code",
   "execution_count": 102,
   "metadata": {
    "hidden": true
   },
   "outputs": [
    {
     "data": {
      "text/html": [
       "<div>\n",
       "<style scoped>\n",
       "    .dataframe tbody tr th:only-of-type {\n",
       "        vertical-align: middle;\n",
       "    }\n",
       "\n",
       "    .dataframe tbody tr th {\n",
       "        vertical-align: top;\n",
       "    }\n",
       "\n",
       "    .dataframe thead th {\n",
       "        text-align: right;\n",
       "    }\n",
       "</style>\n",
       "<table border=\"1\" class=\"dataframe\">\n",
       "  <thead>\n",
       "    <tr style=\"text-align: right;\">\n",
       "      <th></th>\n",
       "      <th>budget_adj</th>\n",
       "      <th>GPM</th>\n",
       "    </tr>\n",
       "  </thead>\n",
       "  <tbody>\n",
       "    <tr>\n",
       "      <td>budget_adj</td>\n",
       "      <td>1.000000</td>\n",
       "      <td>0.028202</td>\n",
       "    </tr>\n",
       "    <tr>\n",
       "      <td>GPM</td>\n",
       "      <td>0.028202</td>\n",
       "      <td>1.000000</td>\n",
       "    </tr>\n",
       "  </tbody>\n",
       "</table>\n",
       "</div>"
      ],
      "text/plain": [
       "            budget_adj       GPM\n",
       "budget_adj    1.000000  0.028202\n",
       "GPM           0.028202  1.000000"
      ]
     },
     "execution_count": 102,
     "metadata": {},
     "output_type": "execute_result"
    }
   ],
   "source": [
    "data[['budget_adj', 'GPM']].corr()"
   ]
  },
  {
   "cell_type": "markdown",
   "metadata": {
    "hidden": true
   },
   "source": [
    "No, high budget is not associated with high GPM."
   ]
  },
  {
   "cell_type": "markdown",
   "metadata": {
    "heading_collapsed": true,
    "hidden": true
   },
   "source": [
    "### Is the GPM affected by the time of the year in which the movie is released?"
   ]
  },
  {
   "cell_type": "code",
   "execution_count": 103,
   "metadata": {
    "hidden": true
   },
   "outputs": [],
   "source": [
    "'''\n",
    "Defining a function which determines if a date is within two days of the year.\n",
    "Takes as input a start_date and a later end_date, both normalized to the year 2000/2001, and the date in question.\n",
    "Returns True or False\n",
    "'''\n",
    "def within_days_of_year(start_date, end_date, date):\n",
    "    date.replace(year = 2000)\n",
    "    if date<start_date:\n",
    "        if date==pd.to_datetime('2000-02-29'):\n",
    "            date.replace(year=2001, month=2, day=28)\n",
    "        else:\n",
    "            date.replace(year=2001)\n",
    "    return (date>=start_date) & (date<=end_date)"
   ]
  },
  {
   "cell_type": "code",
   "execution_count": 104,
   "metadata": {
    "hidden": true
   },
   "outputs": [],
   "source": [
    "'''\n",
    "Definining a function which determines the correlation coefficient between the GPM and the release date being in a specific \n",
    "time of the year.\n",
    "Taktes as input a start_date and a later end_date, both with year 2000, \n",
    "a dataframe with all release_dates and a dataframe with all GPM values.\n",
    "Returns the correlation coefficient for the time of the year as defined start_date and end_date,\n",
    "and also returns how many movies are within this time of the year.\n",
    "'''\n",
    "def correlation_days_of_year(start_date, end_date, release_dates, GPM):\n",
    "    is_within = release_dates.apply(lambda date : within_days_of_year(start_date, end_date, date))\n",
    "    return [np.corrcoef(is_within, GPM)[0,1], is_within.sum()]"
   ]
  },
  {
   "cell_type": "code",
   "execution_count": 105,
   "metadata": {
    "hidden": true
   },
   "outputs": [],
   "source": [
    "'''\n",
    "Creating the dataframe 'time_of_year_correlations'. This dataframe is the input and will also hold the output of the\n",
    "function 'correlation_days_of_year' defined above.\n",
    "It has the columns 'duration', start_date' and 'end date'.\n",
    "The entries are all combinations of all 366 possibilities for start_day with all durations from 1 to 183.\n",
    "The resulting table has 66,978 rows.\n",
    "'''\n",
    "start_month = 1\n",
    "start_day = 1\n",
    "end_month = 12\n",
    "end_day = 31\n",
    "min_duration=1\n",
    "max_duration=183\n",
    "\n",
    "start_dates = list(pd.date_range(start=pd.Timestamp(year=2000, month=start_month, day=start_day), end=pd.Timestamp(year=2000, month=end_month, day=end_day), freq='D'))\n",
    "durations = list(range(min_duration, max_duration+1))\n",
    "\n",
    "time_of_year_correlations = pd.DataFrame(list(itertools.product(*[durations, start_dates])), columns=['duration', 'start_date'])\n",
    "time_of_year_correlations['end_date'] = time_of_year_correlations['start_date'] + pd.to_timedelta(time_of_year_correlations['duration']-1,unit='d')\n"
   ]
  },
  {
   "cell_type": "code",
   "execution_count": 106,
   "metadata": {
    "hidden": true
   },
   "outputs": [],
   "source": [
    "'''\n",
    "Creating paramaters apriori to pass to the apply-lambda function below, to avoid repetive evalution within.\n",
    "'''\n",
    "release_dates = data['release_date'].apply(lambda x: x.replace(year = 2000))\n",
    "GPM = data['GPM']\n",
    "row_max = len(time_of_year_correlations)"
   ]
  },
  {
   "cell_type": "markdown",
   "metadata": {
    "hidden": true
   },
   "source": [
    "The next cell takes comparitively long to complete. It has been run overnight. Therefore the cells that follow in this section have been commented. The obtained output is given as text where possible."
   ]
  },
  {
   "cell_type": "code",
   "execution_count": 107,
   "metadata": {
    "hidden": true
   },
   "outputs": [
    {
     "data": {
      "text/plain": [
       "\"\\nCalling the function 'correlation_days_of_year' on every row of correlation_days_of_year.\\nThe results are saved to a temporary dataframe 'df1' for easier coding and readability.\\n\\n\""
      ]
     },
     "execution_count": 107,
     "metadata": {},
     "output_type": "execute_result"
    }
   ],
   "source": [
    "'''\n",
    "Calling the function 'correlation_days_of_year' on every row of 'time_of_year_correlations'.\n",
    "The results are saved to a temporary dataframe 'df1' for easier coding and readability.\n",
    "\n",
    "'''\n",
    "# df1=(time_of_year_correlations.apply(lambda row : (correlation_days_of_year(row['start_date'], row['end_date'], release_dates, GPM), print(str(row.name+1)+' of '+str(row_max)+', '+str(round((row.name+1)/row_max*100,2))+' %', end='\\r')), axis=1, result_type='expand'))"
   ]
  },
  {
   "cell_type": "code",
   "execution_count": 108,
   "metadata": {
    "hidden": true
   },
   "outputs": [
    {
     "data": {
      "text/plain": [
       "\"\\nThe results stored in the temporary dataframe 'df1' are added as results to the dataframe 'time_of_year_correlations'.\\nThe table now has the input columns 'start_date' and 'end_date', the informative column 'duration', and the output columns\\n'correlation' (which is really the correlation coefficient) and 'movies_in_interval'.\\n\""
      ]
     },
     "execution_count": 108,
     "metadata": {},
     "output_type": "execute_result"
    }
   ],
   "source": [
    "'''\n",
    "The results stored in the temporary dataframe 'df1' are added as results to the dataframe 'time_of_year_correlations'.\n",
    "The table now has the input columns 'start_date' and 'end_date', the informative column 'duration', and the output columns\n",
    "'correlation' (which is really the correlation coefficient) and 'movies_in_interval'.\n",
    "'''\n",
    "# series_of_lists = df1.iloc[:,0]\n",
    "# list_of_lists = series_of_lists.tolist()\n",
    "# df2=pd.DataFrame(list_of_lists, columns=['correlation', 'movies_in_interval'])\n",
    "# time_of_year_correlations=time_of_year_correlations.join(df2)"
   ]
  },
  {
   "cell_type": "code",
   "execution_count": 109,
   "metadata": {
    "hidden": true
   },
   "outputs": [
    {
     "data": {
      "text/plain": [
       "'\\nLooking at the interval with the highest negative correlation coefficient between GPM and movies being in that interval.\\n'"
      ]
     },
     "execution_count": 109,
     "metadata": {},
     "output_type": "execute_result"
    }
   ],
   "source": [
    "'''\n",
    "Looking at the interval with the highest negative correlation coefficient between GPM and movies being in that interval.\n",
    "'''\n",
    "# time_of_year_correlations.iloc[time_of_year_correlations['correlation'].idxmin()]"
   ]
  },
  {
   "cell_type": "raw",
   "metadata": {
    "hidden": true
   },
   "source": [
    "duration                                1\n",
    "start_date            2000-09-27 00:00:00\n",
    "end_date              2000-09-27 00:00:00\n",
    "correlation                       -0.1675\n",
    "movies_in_interval                      9\n",
    "Name: 270, dtype: object"
   ]
  },
  {
   "cell_type": "markdown",
   "metadata": {
    "hidden": true
   },
   "source": [
    "This is just one day of the year and there are only 9 movies released on that day. This result does not mean much."
   ]
  },
  {
   "cell_type": "code",
   "execution_count": 110,
   "metadata": {
    "hidden": true
   },
   "outputs": [
    {
     "data": {
      "text/plain": [
       "'\\nFiltering for intervals of at least one week.\\n'"
      ]
     },
     "execution_count": 110,
     "metadata": {},
     "output_type": "execute_result"
    }
   ],
   "source": [
    "'''\n",
    "Filtering for intervals of at least one week.\n",
    "'''\n",
    "# time_of_year_correlations.iloc[time_of_year_correlations[time_of_year_correlations['duration'] >= 7]['correlation'].idxmin()]"
   ]
  },
  {
   "cell_type": "raw",
   "metadata": {
    "hidden": true
   },
   "source": [
    "duration                               17\n",
    "start_date            2000-09-11 00:00:00\n",
    "end_date              2000-09-27 00:00:00\n",
    "correlation                     -0.111793\n",
    "movies_in_interval                    222\n",
    "Name: 6110, dtype: object"
   ]
  },
  {
   "cell_type": "markdown",
   "metadata": {
    "hidden": true
   },
   "source": [
    "There is a very weak but non-negligeable negative correlation between being released in the above interval and the economical performance."
   ]
  },
  {
   "cell_type": "code",
   "execution_count": 111,
   "metadata": {
    "hidden": true
   },
   "outputs": [
    {
     "data": {
      "text/plain": [
       "'\\nFiltering for intervals of at least one month.\\n'"
      ]
     },
     "execution_count": 111,
     "metadata": {},
     "output_type": "execute_result"
    }
   ],
   "source": [
    "'''\n",
    "Filtering for intervals of at least one month.\n",
    "'''\n",
    "# time_of_year_correlations.iloc[time_of_year_correlations[time_of_year_correlations['duration'] >= 30]['correlation'].idxmin()]"
   ]
  },
  {
   "cell_type": "raw",
   "metadata": {
    "hidden": true
   },
   "source": [
    "duration                               30\n",
    "start_date            2000-08-29 00:00:00\n",
    "end_date              2000-09-27 00:00:00\n",
    "correlation                    -0.0974355\n",
    "movies_in_interval                    392\n",
    "Name: 10855, dtype: object"
   ]
  },
  {
   "cell_type": "markdown",
   "metadata": {
    "hidden": true
   },
   "source": [
    "There is a very weak but non-negligeable negative correlation between being released in the above interval and the economical performance."
   ]
  },
  {
   "cell_type": "code",
   "execution_count": 112,
   "metadata": {
    "hidden": true
   },
   "outputs": [
    {
     "data": {
      "text/plain": [
       "'\\nFiltering for intervals of at least three months.\\n'"
      ]
     },
     "execution_count": 112,
     "metadata": {},
     "output_type": "execute_result"
    }
   ],
   "source": [
    "'''\n",
    "Filtering for intervals of at least three months.\n",
    "'''\n",
    "# time_of_year_correlations.iloc[time_of_year_correlations[time_of_year_correlations['duration'] >= 90]['correlation'].idxmin()]"
   ]
  },
  {
   "cell_type": "raw",
   "metadata": {
    "hidden": true
   },
   "source": [
    "duration                              100\n",
    "start_date            2000-08-12 00:00:00\n",
    "end_date              2000-11-19 00:00:00\n",
    "correlation                    -0.0819168\n",
    "movies_in_interval                   1112\n",
    "Name: 36458, dtype: object"
   ]
  },
  {
   "cell_type": "markdown",
   "metadata": {
    "hidden": true
   },
   "source": [
    "There is a very weak but non-negligeable negative correlation between being released in the above interval and the economical performance."
   ]
  },
  {
   "cell_type": "code",
   "execution_count": 113,
   "metadata": {
    "hidden": true
   },
   "outputs": [
    {
     "data": {
      "text/plain": [
       "'\\nLooking at the interval with the highest positive correlation coefficient between GPM and movies being in that interval.\\n'"
      ]
     },
     "execution_count": 113,
     "metadata": {},
     "output_type": "execute_result"
    }
   ],
   "source": [
    "'''\n",
    "Looking at the interval with the highest positive correlation coefficient between GPM and movies being in that interval.\n",
    "'''\n",
    "# time_of_year_correlations.iloc[time_of_year_correlations['correlation'].idxmax()]"
   ]
  },
  {
   "cell_type": "raw",
   "metadata": {
    "hidden": true
   },
   "source": [
    "duration                               78\n",
    "start_date            2000-05-19 00:00:00\n",
    "end_date              2000-08-04 00:00:00\n",
    "correlation                      0.076885\n",
    "movies_in_interval                    791\n",
    "Name: 28321, dtype: object"
   ]
  },
  {
   "cell_type": "markdown",
   "metadata": {
    "hidden": true
   },
   "source": [
    "There is a very weak but non-negligeable positive correlation between being released in the above interval and the economical performance."
   ]
  },
  {
   "cell_type": "markdown",
   "metadata": {
    "heading_collapsed": true,
    "hidden": true
   },
   "source": [
    "## Conclusions\n",
    "<a id='conclusions'></a>"
   ]
  },
  {
   "cell_type": "markdown",
   "metadata": {
    "hidden": true
   },
   "source": [
    "There is a positive correlation bewteen the movie rating and the economic performance operationally defined as GPM. However there is no correlation between the budget and the GPM. \n",
    "\n",
    "There is also a very small correlatation between the movie's release date in terms of time of the year and the GPM. Movies released between the 19th of may and the 4th of august tend to have higher GPMs, whereas movies released between the 29th of august and the 9th of november tend to have lower GPMs."
   ]
  }
 ],
 "metadata": {
  "kernelspec": {
   "display_name": "Python 3",
   "language": "python",
   "name": "python3"
  },
  "language_info": {
   "codemirror_mode": {
    "name": "ipython",
    "version": 3
   },
   "file_extension": ".py",
   "mimetype": "text/x-python",
   "name": "python",
   "nbconvert_exporter": "python",
   "pygments_lexer": "ipython3",
   "version": "3.7.4"
  },
  "varInspector": {
   "cols": {
    "lenName": 16,
    "lenType": 16,
    "lenVar": 40
   },
   "kernels_config": {
    "python": {
     "delete_cmd_postfix": "",
     "delete_cmd_prefix": "del ",
     "library": "var_list.py",
     "varRefreshCmd": "print(var_dic_list())"
    },
    "r": {
     "delete_cmd_postfix": ") ",
     "delete_cmd_prefix": "rm(",
     "library": "var_list.r",
     "varRefreshCmd": "cat(var_dic_list()) "
    }
   },
   "position": {
    "height": "144px",
    "left": "1511px",
    "right": "20px",
    "top": "318px",
    "width": "350px"
   },
   "types_to_exclude": [
    "module",
    "function",
    "builtin_function_or_method",
    "instance",
    "_Feature"
   ],
   "window_display": false
  }
 },
 "nbformat": 4,
 "nbformat_minor": 2
}
