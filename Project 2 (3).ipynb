{
 "cells": [
  {
   "cell_type": "markdown",
   "metadata": {},
   "source": [
    "\n",
    "# Project: Investigate Gapminder Dataset (environmental and economic indicators\n",
    "\n",
    "## Table of Contents\n",
    "<ul>\n",
    "<li><a href=\"#intro\">Introduction</a></li>\n",
    "<li><a href=\"#wrangling\">Data Wrangling</a></li>\n",
    "<li><a href=\"#eda\">Exploratory Data Analysis</a></li>\n",
    "<li><a href=\"#conclusions\">Conclusions</a></li>\n",
    "</ul>"
   ]
  },
  {
   "cell_type": "markdown",
   "metadata": {},
   "source": [
    "<a id='intro'></a>\n",
    "## Introduction\n",
    "\n",
    "**Source**: Gapminder combines data from multiple sources into unique coherent time-series that can’t be found elsewhere. In this project, we will attempt to see if the are correlation between economic and environmental indicators in Brazil.\n",
    "\n",
    "**Goal** We aim to see if the CO2 and Sulfur dioxide emissions per person are correlated with the Income Per Person value in Brazil. The main reason is that the evolution of economy may result in more impacts to the environment caused by the increase of fossil fuels use and the growth of industries.\n",
    "\n",
    "> The carbon dioxide emissions from the burning of fossil fuels are expressed in metric tonnes of CO per person.\n",
    "> Source: https://cdiac.ess-dive.lbl.gov/\n",
    "\n",
    "> The dulfur dioxide emissions  are expressed in kilograms of sulfur per person).\n",
    "> Source: https://ghdx.healthdata.org/gbd-201\n",
    "\n",
    "> The Income Per Person ia a gross domestic product per person adjusted for differences in purchasing power(in international dollars)\n",
    "> Source: Gapminder based on Word Bank"
   ]
  },
  {
   "cell_type": "code",
   "execution_count": 1,
   "metadata": {},
   "outputs": [],
   "source": [
    "# importing statements \n",
    "\n",
    "import pandas as pd\n",
    "import numpy as np\n",
    "import matplotlib.pyplot as plt\n",
    "%matplotlib inline"
   ]
  },
  {
   "cell_type": "markdown",
   "metadata": {},
   "source": [
    "<a id='wrangling'></a>\n",
    "## Data Wrangling "
   ]
  },
  {
   "cell_type": "code",
   "execution_count": 2,
   "metadata": {},
   "outputs": [],
   "source": [
    "#importing datasets as pandas dataframes\n",
    "\n",
    "#CO2 emissions per person\n",
    "CO2emissions = pd.read_csv('co2_emissions.csv')\n",
    "\n",
    "#S emissions per person\n",
    "Semissions = pd.read_csv('sulfur_emissions.csv')\n",
    "\n",
    "#Income Per Person (IPP)\n",
    "IPP = pd.read_csv('income_per_person.csv')\n"
   ]
  },
  {
   "cell_type": "code",
   "execution_count": 3,
   "metadata": {},
   "outputs": [
    {
     "data": {
      "text/html": [
       "<div>\n",
       "<style scoped>\n",
       "    .dataframe tbody tr th:only-of-type {\n",
       "        vertical-align: middle;\n",
       "    }\n",
       "\n",
       "    .dataframe tbody tr th {\n",
       "        vertical-align: top;\n",
       "    }\n",
       "\n",
       "    .dataframe thead th {\n",
       "        text-align: right;\n",
       "    }\n",
       "</style>\n",
       "<table border=\"1\" class=\"dataframe\">\n",
       "  <thead>\n",
       "    <tr style=\"text-align: right;\">\n",
       "      <th></th>\n",
       "      <th>country</th>\n",
       "      <th>1799</th>\n",
       "      <th>1800</th>\n",
       "      <th>1801</th>\n",
       "      <th>1802</th>\n",
       "      <th>1803</th>\n",
       "      <th>1804</th>\n",
       "      <th>1805</th>\n",
       "      <th>1806</th>\n",
       "      <th>1807</th>\n",
       "      <th>...</th>\n",
       "      <th>2008</th>\n",
       "      <th>2009</th>\n",
       "      <th>2010</th>\n",
       "      <th>2011</th>\n",
       "      <th>2012</th>\n",
       "      <th>2013</th>\n",
       "      <th>2014</th>\n",
       "      <th>2015</th>\n",
       "      <th>2016</th>\n",
       "      <th>2017</th>\n",
       "    </tr>\n",
       "  </thead>\n",
       "  <tbody>\n",
       "    <tr>\n",
       "      <th>0</th>\n",
       "      <td>Afghanistan</td>\n",
       "      <td>NaN</td>\n",
       "      <td>NaN</td>\n",
       "      <td>NaN</td>\n",
       "      <td>NaN</td>\n",
       "      <td>NaN</td>\n",
       "      <td>NaN</td>\n",
       "      <td>NaN</td>\n",
       "      <td>NaN</td>\n",
       "      <td>NaN</td>\n",
       "      <td>...</td>\n",
       "      <td>0.238</td>\n",
       "      <td>0.29</td>\n",
       "      <td>0.406</td>\n",
       "      <td>0.345</td>\n",
       "      <td>0.28</td>\n",
       "      <td>0.253</td>\n",
       "      <td>0.262</td>\n",
       "      <td>0.245</td>\n",
       "      <td>0.247</td>\n",
       "      <td>0.254</td>\n",
       "    </tr>\n",
       "    <tr>\n",
       "      <th>1</th>\n",
       "      <td>Angola</td>\n",
       "      <td>NaN</td>\n",
       "      <td>NaN</td>\n",
       "      <td>NaN</td>\n",
       "      <td>NaN</td>\n",
       "      <td>NaN</td>\n",
       "      <td>NaN</td>\n",
       "      <td>NaN</td>\n",
       "      <td>NaN</td>\n",
       "      <td>NaN</td>\n",
       "      <td>...</td>\n",
       "      <td>1.230</td>\n",
       "      <td>1.24</td>\n",
       "      <td>1.250</td>\n",
       "      <td>1.350</td>\n",
       "      <td>1.28</td>\n",
       "      <td>1.640</td>\n",
       "      <td>1.220</td>\n",
       "      <td>1.180</td>\n",
       "      <td>1.140</td>\n",
       "      <td>1.120</td>\n",
       "    </tr>\n",
       "    <tr>\n",
       "      <th>2</th>\n",
       "      <td>Albania</td>\n",
       "      <td>NaN</td>\n",
       "      <td>NaN</td>\n",
       "      <td>NaN</td>\n",
       "      <td>NaN</td>\n",
       "      <td>NaN</td>\n",
       "      <td>NaN</td>\n",
       "      <td>NaN</td>\n",
       "      <td>NaN</td>\n",
       "      <td>NaN</td>\n",
       "      <td>...</td>\n",
       "      <td>1.470</td>\n",
       "      <td>1.56</td>\n",
       "      <td>1.790</td>\n",
       "      <td>1.690</td>\n",
       "      <td>1.69</td>\n",
       "      <td>1.900</td>\n",
       "      <td>1.600</td>\n",
       "      <td>1.570</td>\n",
       "      <td>1.610</td>\n",
       "      <td>1.590</td>\n",
       "    </tr>\n",
       "    <tr>\n",
       "      <th>3</th>\n",
       "      <td>Andorra</td>\n",
       "      <td>NaN</td>\n",
       "      <td>NaN</td>\n",
       "      <td>NaN</td>\n",
       "      <td>NaN</td>\n",
       "      <td>NaN</td>\n",
       "      <td>NaN</td>\n",
       "      <td>NaN</td>\n",
       "      <td>NaN</td>\n",
       "      <td>NaN</td>\n",
       "      <td>...</td>\n",
       "      <td>6.120</td>\n",
       "      <td>6.12</td>\n",
       "      <td>5.870</td>\n",
       "      <td>5.920</td>\n",
       "      <td>5.90</td>\n",
       "      <td>5.830</td>\n",
       "      <td>5.970</td>\n",
       "      <td>6.070</td>\n",
       "      <td>6.270</td>\n",
       "      <td>6.120</td>\n",
       "    </tr>\n",
       "    <tr>\n",
       "      <th>4</th>\n",
       "      <td>United Arab Emirates</td>\n",
       "      <td>NaN</td>\n",
       "      <td>NaN</td>\n",
       "      <td>NaN</td>\n",
       "      <td>NaN</td>\n",
       "      <td>NaN</td>\n",
       "      <td>NaN</td>\n",
       "      <td>NaN</td>\n",
       "      <td>NaN</td>\n",
       "      <td>NaN</td>\n",
       "      <td>...</td>\n",
       "      <td>20.900</td>\n",
       "      <td>18.30</td>\n",
       "      <td>18.900</td>\n",
       "      <td>23.800</td>\n",
       "      <td>23.70</td>\n",
       "      <td>24.200</td>\n",
       "      <td>20.700</td>\n",
       "      <td>21.700</td>\n",
       "      <td>21.100</td>\n",
       "      <td>21.400</td>\n",
       "    </tr>\n",
       "  </tbody>\n",
       "</table>\n",
       "<p>5 rows × 220 columns</p>\n",
       "</div>"
      ],
      "text/plain": [
       "                country  1799  1800  1801  1802  1803  1804  1805  1806  1807  \\\n",
       "0           Afghanistan   NaN   NaN   NaN   NaN   NaN   NaN   NaN   NaN   NaN   \n",
       "1                Angola   NaN   NaN   NaN   NaN   NaN   NaN   NaN   NaN   NaN   \n",
       "2               Albania   NaN   NaN   NaN   NaN   NaN   NaN   NaN   NaN   NaN   \n",
       "3               Andorra   NaN   NaN   NaN   NaN   NaN   NaN   NaN   NaN   NaN   \n",
       "4  United Arab Emirates   NaN   NaN   NaN   NaN   NaN   NaN   NaN   NaN   NaN   \n",
       "\n",
       "   ...    2008   2009    2010    2011   2012    2013    2014    2015    2016  \\\n",
       "0  ...   0.238   0.29   0.406   0.345   0.28   0.253   0.262   0.245   0.247   \n",
       "1  ...   1.230   1.24   1.250   1.350   1.28   1.640   1.220   1.180   1.140   \n",
       "2  ...   1.470   1.56   1.790   1.690   1.69   1.900   1.600   1.570   1.610   \n",
       "3  ...   6.120   6.12   5.870   5.920   5.90   5.830   5.970   6.070   6.270   \n",
       "4  ...  20.900  18.30  18.900  23.800  23.70  24.200  20.700  21.700  21.100   \n",
       "\n",
       "     2017  \n",
       "0   0.254  \n",
       "1   1.120  \n",
       "2   1.590  \n",
       "3   6.120  \n",
       "4  21.400  \n",
       "\n",
       "[5 rows x 220 columns]"
      ]
     },
     "execution_count": 3,
     "metadata": {},
     "output_type": "execute_result"
    }
   ],
   "source": [
    "#understanding the data\n",
    "\n",
    "CO2emissions.head()"
   ]
  },
  {
   "cell_type": "code",
   "execution_count": 4,
   "metadata": {},
   "outputs": [
    {
     "data": {
      "text/plain": [
       "country     object\n",
       "1799       float64\n",
       "1800       float64\n",
       "1801       float64\n",
       "1802       float64\n",
       "            ...   \n",
       "2013       float64\n",
       "2014       float64\n",
       "2015       float64\n",
       "2016       float64\n",
       "2017       float64\n",
       "Length: 220, dtype: object"
      ]
     },
     "execution_count": 4,
     "metadata": {},
     "output_type": "execute_result"
    }
   ],
   "source": [
    "CO2emissions.dtypes"
   ]
  },
  {
   "cell_type": "code",
   "execution_count": 5,
   "metadata": {},
   "outputs": [
    {
     "data": {
      "text/html": [
       "<div>\n",
       "<style scoped>\n",
       "    .dataframe tbody tr th:only-of-type {\n",
       "        vertical-align: middle;\n",
       "    }\n",
       "\n",
       "    .dataframe tbody tr th {\n",
       "        vertical-align: top;\n",
       "    }\n",
       "\n",
       "    .dataframe thead th {\n",
       "        text-align: right;\n",
       "    }\n",
       "</style>\n",
       "<table border=\"1\" class=\"dataframe\">\n",
       "  <thead>\n",
       "    <tr style=\"text-align: right;\">\n",
       "      <th></th>\n",
       "      <th>country</th>\n",
       "      <th>1849</th>\n",
       "      <th>1850</th>\n",
       "      <th>1851</th>\n",
       "      <th>1852</th>\n",
       "      <th>1853</th>\n",
       "      <th>1854</th>\n",
       "      <th>1855</th>\n",
       "      <th>1856</th>\n",
       "      <th>1857</th>\n",
       "      <th>...</th>\n",
       "      <th>1990</th>\n",
       "      <th>1991</th>\n",
       "      <th>1992</th>\n",
       "      <th>1993</th>\n",
       "      <th>1994</th>\n",
       "      <th>1995</th>\n",
       "      <th>1996</th>\n",
       "      <th>1997</th>\n",
       "      <th>1998</th>\n",
       "      <th>1999</th>\n",
       "    </tr>\n",
       "  </thead>\n",
       "  <tbody>\n",
       "    <tr>\n",
       "      <th>0</th>\n",
       "      <td>Aruba</td>\n",
       "      <td>1.24</td>\n",
       "      <td>0.818</td>\n",
       "      <td>1.53</td>\n",
       "      <td>1.36</td>\n",
       "      <td>1.67</td>\n",
       "      <td>1.6</td>\n",
       "      <td>2.19</td>\n",
       "      <td>2.49</td>\n",
       "      <td>2.6</td>\n",
       "      <td>...</td>\n",
       "      <td>201.00</td>\n",
       "      <td>203.00</td>\n",
       "      <td>204.00</td>\n",
       "      <td>206.00</td>\n",
       "      <td>207.00</td>\n",
       "      <td>209.00</td>\n",
       "      <td>211.00</td>\n",
       "      <td>212.00</td>\n",
       "      <td>214.00</td>\n",
       "      <td>216.00</td>\n",
       "    </tr>\n",
       "    <tr>\n",
       "      <th>1</th>\n",
       "      <td>Afghanistan</td>\n",
       "      <td>0</td>\n",
       "      <td>70µ</td>\n",
       "      <td>0.00013</td>\n",
       "      <td>0.0002</td>\n",
       "      <td>0.00026</td>\n",
       "      <td>0.00033</td>\n",
       "      <td>0.00039</td>\n",
       "      <td>0.00045</td>\n",
       "      <td>0.00051</td>\n",
       "      <td>...</td>\n",
       "      <td>3.99</td>\n",
       "      <td>3.73</td>\n",
       "      <td>3.40</td>\n",
       "      <td>3.23</td>\n",
       "      <td>3.16</td>\n",
       "      <td>3.14</td>\n",
       "      <td>3.12</td>\n",
       "      <td>3.11</td>\n",
       "      <td>3.09</td>\n",
       "      <td>3.14</td>\n",
       "    </tr>\n",
       "    <tr>\n",
       "      <th>2</th>\n",
       "      <td>Angola</td>\n",
       "      <td>30µ</td>\n",
       "      <td>30µ</td>\n",
       "      <td>50µ</td>\n",
       "      <td>80µ</td>\n",
       "      <td>0.00011</td>\n",
       "      <td>0.00013</td>\n",
       "      <td>0.00016</td>\n",
       "      <td>0.00018</td>\n",
       "      <td>0.00021</td>\n",
       "      <td>...</td>\n",
       "      <td>7.61</td>\n",
       "      <td>7.62</td>\n",
       "      <td>6.98</td>\n",
       "      <td>7.58</td>\n",
       "      <td>6.89</td>\n",
       "      <td>6.45</td>\n",
       "      <td>6.22</td>\n",
       "      <td>6.02</td>\n",
       "      <td>5.75</td>\n",
       "      <td>4.75</td>\n",
       "    </tr>\n",
       "    <tr>\n",
       "      <th>3</th>\n",
       "      <td>Albania</td>\n",
       "      <td>0.00017</td>\n",
       "      <td>0.00019</td>\n",
       "      <td>0.00024</td>\n",
       "      <td>0.00026</td>\n",
       "      <td>0.0003</td>\n",
       "      <td>0.00034</td>\n",
       "      <td>0.00039</td>\n",
       "      <td>0.00042</td>\n",
       "      <td>0.00048</td>\n",
       "      <td>...</td>\n",
       "      <td>10.40</td>\n",
       "      <td>3.77</td>\n",
       "      <td>2.96</td>\n",
       "      <td>2.46</td>\n",
       "      <td>2.20</td>\n",
       "      <td>2.19</td>\n",
       "      <td>1.56</td>\n",
       "      <td>1.58</td>\n",
       "      <td>1.19</td>\n",
       "      <td>1.15</td>\n",
       "    </tr>\n",
       "    <tr>\n",
       "      <th>4</th>\n",
       "      <td>Netherlands Antilles</td>\n",
       "      <td>1.24</td>\n",
       "      <td>0.818</td>\n",
       "      <td>1.53</td>\n",
       "      <td>1.36</td>\n",
       "      <td>1.67</td>\n",
       "      <td>1.6</td>\n",
       "      <td>2.19</td>\n",
       "      <td>2.49</td>\n",
       "      <td>2.6</td>\n",
       "      <td>...</td>\n",
       "      <td>201.00</td>\n",
       "      <td>203.00</td>\n",
       "      <td>204.00</td>\n",
       "      <td>206.00</td>\n",
       "      <td>207.00</td>\n",
       "      <td>209.00</td>\n",
       "      <td>211.00</td>\n",
       "      <td>212.00</td>\n",
       "      <td>214.00</td>\n",
       "      <td>216.00</td>\n",
       "    </tr>\n",
       "  </tbody>\n",
       "</table>\n",
       "<p>5 rows × 152 columns</p>\n",
       "</div>"
      ],
      "text/plain": [
       "                country     1849     1850     1851     1852     1853     1854  \\\n",
       "0                 Aruba     1.24    0.818     1.53     1.36     1.67      1.6   \n",
       "1           Afghanistan        0      70µ  0.00013   0.0002  0.00026  0.00033   \n",
       "2                Angola      30µ      30µ      50µ      80µ  0.00011  0.00013   \n",
       "3               Albania  0.00017  0.00019  0.00024  0.00026   0.0003  0.00034   \n",
       "4  Netherlands Antilles     1.24    0.818     1.53     1.36     1.67      1.6   \n",
       "\n",
       "      1855     1856     1857  ...    1990    1991    1992    1993    1994  \\\n",
       "0     2.19     2.49      2.6  ...  201.00  203.00  204.00  206.00  207.00   \n",
       "1  0.00039  0.00045  0.00051  ...    3.99    3.73    3.40    3.23    3.16   \n",
       "2  0.00016  0.00018  0.00021  ...    7.61    7.62    6.98    7.58    6.89   \n",
       "3  0.00039  0.00042  0.00048  ...   10.40    3.77    2.96    2.46    2.20   \n",
       "4     2.19     2.49      2.6  ...  201.00  203.00  204.00  206.00  207.00   \n",
       "\n",
       "     1995    1996    1997    1998    1999  \n",
       "0  209.00  211.00  212.00  214.00  216.00  \n",
       "1    3.14    3.12    3.11    3.09    3.14  \n",
       "2    6.45    6.22    6.02    5.75    4.75  \n",
       "3    2.19    1.56    1.58    1.19    1.15  \n",
       "4  209.00  211.00  212.00  214.00  216.00  \n",
       "\n",
       "[5 rows x 152 columns]"
      ]
     },
     "execution_count": 5,
     "metadata": {},
     "output_type": "execute_result"
    }
   ],
   "source": [
    "Semissions.head()"
   ]
  },
  {
   "cell_type": "code",
   "execution_count": 6,
   "metadata": {},
   "outputs": [
    {
     "data": {
      "text/plain": [
       "country     object\n",
       "1849        object\n",
       "1850        object\n",
       "1851        object\n",
       "1852        object\n",
       "            ...   \n",
       "1995       float64\n",
       "1996       float64\n",
       "1997       float64\n",
       "1998       float64\n",
       "1999       float64\n",
       "Length: 152, dtype: object"
      ]
     },
     "execution_count": 6,
     "metadata": {},
     "output_type": "execute_result"
    }
   ],
   "source": [
    "Semissions.dtypes"
   ]
  },
  {
   "cell_type": "code",
   "execution_count": 7,
   "metadata": {},
   "outputs": [
    {
     "data": {
      "text/html": [
       "<div>\n",
       "<style scoped>\n",
       "    .dataframe tbody tr th:only-of-type {\n",
       "        vertical-align: middle;\n",
       "    }\n",
       "\n",
       "    .dataframe tbody tr th {\n",
       "        vertical-align: top;\n",
       "    }\n",
       "\n",
       "    .dataframe thead th {\n",
       "        text-align: right;\n",
       "    }\n",
       "</style>\n",
       "<table border=\"1\" class=\"dataframe\">\n",
       "  <thead>\n",
       "    <tr style=\"text-align: right;\">\n",
       "      <th></th>\n",
       "      <th>country</th>\n",
       "      <th>1799</th>\n",
       "      <th>1800</th>\n",
       "      <th>1801</th>\n",
       "      <th>1802</th>\n",
       "      <th>1803</th>\n",
       "      <th>1804</th>\n",
       "      <th>1805</th>\n",
       "      <th>1806</th>\n",
       "      <th>1807</th>\n",
       "      <th>...</th>\n",
       "      <th>2040</th>\n",
       "      <th>2041</th>\n",
       "      <th>2042</th>\n",
       "      <th>2043</th>\n",
       "      <th>2044</th>\n",
       "      <th>2045</th>\n",
       "      <th>2046</th>\n",
       "      <th>2047</th>\n",
       "      <th>2048</th>\n",
       "      <th>2049</th>\n",
       "    </tr>\n",
       "  </thead>\n",
       "  <tbody>\n",
       "    <tr>\n",
       "      <th>0</th>\n",
       "      <td>Afghanistan</td>\n",
       "      <td>674</td>\n",
       "      <td>674</td>\n",
       "      <td>674</td>\n",
       "      <td>674</td>\n",
       "      <td>674</td>\n",
       "      <td>674</td>\n",
       "      <td>674</td>\n",
       "      <td>674</td>\n",
       "      <td>674</td>\n",
       "      <td>...</td>\n",
       "      <td>2880</td>\n",
       "      <td>2940</td>\n",
       "      <td>3000</td>\n",
       "      <td>3070</td>\n",
       "      <td>3130</td>\n",
       "      <td>3200</td>\n",
       "      <td>3270</td>\n",
       "      <td>3340</td>\n",
       "      <td>3410</td>\n",
       "      <td>3480</td>\n",
       "    </tr>\n",
       "    <tr>\n",
       "      <th>1</th>\n",
       "      <td>Angola</td>\n",
       "      <td>691</td>\n",
       "      <td>693</td>\n",
       "      <td>697</td>\n",
       "      <td>700</td>\n",
       "      <td>702</td>\n",
       "      <td>705</td>\n",
       "      <td>709</td>\n",
       "      <td>712</td>\n",
       "      <td>716</td>\n",
       "      <td>...</td>\n",
       "      <td>8040</td>\n",
       "      <td>8220</td>\n",
       "      <td>8390</td>\n",
       "      <td>8570</td>\n",
       "      <td>8750</td>\n",
       "      <td>8940</td>\n",
       "      <td>9120</td>\n",
       "      <td>9320</td>\n",
       "      <td>9520</td>\n",
       "      <td>9720</td>\n",
       "    </tr>\n",
       "    <tr>\n",
       "      <th>2</th>\n",
       "      <td>Albania</td>\n",
       "      <td>746</td>\n",
       "      <td>746</td>\n",
       "      <td>746</td>\n",
       "      <td>746</td>\n",
       "      <td>746</td>\n",
       "      <td>747</td>\n",
       "      <td>747</td>\n",
       "      <td>747</td>\n",
       "      <td>747</td>\n",
       "      <td>...</td>\n",
       "      <td>24.5k</td>\n",
       "      <td>25k</td>\n",
       "      <td>25.5k</td>\n",
       "      <td>26.1k</td>\n",
       "      <td>26.6k</td>\n",
       "      <td>27.2k</td>\n",
       "      <td>27.8k</td>\n",
       "      <td>28.3k</td>\n",
       "      <td>28.9k</td>\n",
       "      <td>29.6k</td>\n",
       "    </tr>\n",
       "    <tr>\n",
       "      <th>3</th>\n",
       "      <td>Andorra</td>\n",
       "      <td>1340</td>\n",
       "      <td>1340</td>\n",
       "      <td>1340</td>\n",
       "      <td>1350</td>\n",
       "      <td>1350</td>\n",
       "      <td>1350</td>\n",
       "      <td>1350</td>\n",
       "      <td>1360</td>\n",
       "      <td>1360</td>\n",
       "      <td>...</td>\n",
       "      <td>108k</td>\n",
       "      <td>111k</td>\n",
       "      <td>113k</td>\n",
       "      <td>116k</td>\n",
       "      <td>118k</td>\n",
       "      <td>121k</td>\n",
       "      <td>123k</td>\n",
       "      <td>126k</td>\n",
       "      <td>128k</td>\n",
       "      <td>131k</td>\n",
       "    </tr>\n",
       "    <tr>\n",
       "      <th>4</th>\n",
       "      <td>United Arab Emirates</td>\n",
       "      <td>1120</td>\n",
       "      <td>1120</td>\n",
       "      <td>1120</td>\n",
       "      <td>1130</td>\n",
       "      <td>1130</td>\n",
       "      <td>1140</td>\n",
       "      <td>1140</td>\n",
       "      <td>1150</td>\n",
       "      <td>1150</td>\n",
       "      <td>...</td>\n",
       "      <td>74.5k</td>\n",
       "      <td>76.1k</td>\n",
       "      <td>77.7k</td>\n",
       "      <td>79.3k</td>\n",
       "      <td>81k</td>\n",
       "      <td>82.7k</td>\n",
       "      <td>84.5k</td>\n",
       "      <td>86.3k</td>\n",
       "      <td>88.1k</td>\n",
       "      <td>90k</td>\n",
       "    </tr>\n",
       "  </tbody>\n",
       "</table>\n",
       "<p>5 rows × 252 columns</p>\n",
       "</div>"
      ],
      "text/plain": [
       "                country  1799  1800  1801  1802  1803  1804  1805  1806  1807  \\\n",
       "0           Afghanistan   674   674   674   674   674   674   674   674   674   \n",
       "1                Angola   691   693   697   700   702   705   709   712   716   \n",
       "2               Albania   746   746   746   746   746   747   747   747   747   \n",
       "3               Andorra  1340  1340  1340  1350  1350  1350  1350  1360  1360   \n",
       "4  United Arab Emirates  1120  1120  1120  1130  1130  1140  1140  1150  1150   \n",
       "\n",
       "   ...   2040   2041   2042   2043   2044   2045   2046   2047   2048   2049  \n",
       "0  ...   2880   2940   3000   3070   3130   3200   3270   3340   3410   3480  \n",
       "1  ...   8040   8220   8390   8570   8750   8940   9120   9320   9520   9720  \n",
       "2  ...  24.5k    25k  25.5k  26.1k  26.6k  27.2k  27.8k  28.3k  28.9k  29.6k  \n",
       "3  ...   108k   111k   113k   116k   118k   121k   123k   126k   128k   131k  \n",
       "4  ...  74.5k  76.1k  77.7k  79.3k    81k  82.7k  84.5k  86.3k  88.1k    90k  \n",
       "\n",
       "[5 rows x 252 columns]"
      ]
     },
     "execution_count": 7,
     "metadata": {},
     "output_type": "execute_result"
    }
   ],
   "source": [
    "IPP.head()"
   ]
  },
  {
   "cell_type": "code",
   "execution_count": 8,
   "metadata": {},
   "outputs": [
    {
     "data": {
      "text/plain": [
       "country    object\n",
       "1799        int64\n",
       "1800        int64\n",
       "1801        int64\n",
       "1802        int64\n",
       "            ...  \n",
       "2045       object\n",
       "2046       object\n",
       "2047       object\n",
       "2048       object\n",
       "2049       object\n",
       "Length: 252, dtype: object"
      ]
     },
     "execution_count": 8,
     "metadata": {},
     "output_type": "execute_result"
    }
   ],
   "source": [
    "IPP.dtypes"
   ]
  },
  {
   "cell_type": "markdown",
   "metadata": {},
   "source": [
    "## Data Cleaning "
   ]
  },
  {
   "cell_type": "markdown",
   "metadata": {
    "collapsed": true
   },
   "source": [
    "### Setting the time window between 1945 e 1995\n",
    "\n",
    "#### Each dataset had his own time window. To make possible to compare the data I set a 50 years time window (from 1945 to 1995)."
   ]
  },
  {
   "cell_type": "code",
   "execution_count": 9,
   "metadata": {},
   "outputs": [
    {
     "data": {
      "text/html": [
       "<div>\n",
       "<style scoped>\n",
       "    .dataframe tbody tr th:only-of-type {\n",
       "        vertical-align: middle;\n",
       "    }\n",
       "\n",
       "    .dataframe tbody tr th {\n",
       "        vertical-align: top;\n",
       "    }\n",
       "\n",
       "    .dataframe thead th {\n",
       "        text-align: right;\n",
       "    }\n",
       "</style>\n",
       "<table border=\"1\" class=\"dataframe\">\n",
       "  <thead>\n",
       "    <tr style=\"text-align: right;\">\n",
       "      <th></th>\n",
       "      <th>country</th>\n",
       "      <th>year</th>\n",
       "      <th>emission</th>\n",
       "    </tr>\n",
       "  </thead>\n",
       "  <tbody>\n",
       "    <tr>\n",
       "      <th>0</th>\n",
       "      <td>Afghanistan</td>\n",
       "      <td>1799</td>\n",
       "      <td>NaN</td>\n",
       "    </tr>\n",
       "    <tr>\n",
       "      <th>1</th>\n",
       "      <td>Angola</td>\n",
       "      <td>1799</td>\n",
       "      <td>NaN</td>\n",
       "    </tr>\n",
       "    <tr>\n",
       "      <th>2</th>\n",
       "      <td>Albania</td>\n",
       "      <td>1799</td>\n",
       "      <td>NaN</td>\n",
       "    </tr>\n",
       "    <tr>\n",
       "      <th>3</th>\n",
       "      <td>Andorra</td>\n",
       "      <td>1799</td>\n",
       "      <td>NaN</td>\n",
       "    </tr>\n",
       "    <tr>\n",
       "      <th>4</th>\n",
       "      <td>United Arab Emirates</td>\n",
       "      <td>1799</td>\n",
       "      <td>NaN</td>\n",
       "    </tr>\n",
       "  </tbody>\n",
       "</table>\n",
       "</div>"
      ],
      "text/plain": [
       "                country  year emission\n",
       "0           Afghanistan  1799      NaN\n",
       "1                Angola  1799      NaN\n",
       "2               Albania  1799      NaN\n",
       "3               Andorra  1799      NaN\n",
       "4  United Arab Emirates  1799      NaN"
      ]
     },
     "execution_count": 9,
     "metadata": {},
     "output_type": "execute_result"
    }
   ],
   "source": [
    "# CO2 emissions dataframe pivoting to filter data more easily (transforming the titles into rows)\n",
    "\n",
    "CO2emissions_pivot = pd.melt(CO2emissions, id_vars =['country'], var_name = 'year', value_name = 'emission')\n",
    "CO2emissions_pivot.head()"
   ]
  },
  {
   "cell_type": "code",
   "execution_count": 10,
   "metadata": {},
   "outputs": [
    {
     "data": {
      "text/plain": [
       "country     object\n",
       "year        object\n",
       "emission    object\n",
       "dtype: object"
      ]
     },
     "execution_count": 10,
     "metadata": {},
     "output_type": "execute_result"
    }
   ],
   "source": [
    "CO2emissions_pivot.dtypes"
   ]
  },
  {
   "cell_type": "code",
   "execution_count": 11,
   "metadata": {},
   "outputs": [
    {
     "data": {
      "text/plain": [
       "country     object\n",
       "year         int32\n",
       "emission    object\n",
       "dtype: object"
      ]
     },
     "execution_count": 11,
     "metadata": {},
     "output_type": "execute_result"
    }
   ],
   "source": [
    "#fixing year data type (its not possible make counts with string data type)\n",
    "\n",
    "CO2emissions_pivot['year'] = CO2emissions_pivot['year'].astype(int)\n",
    "CO2emissions_pivot.dtypes"
   ]
  },
  {
   "cell_type": "code",
   "execution_count": 12,
   "metadata": {},
   "outputs": [
    {
     "data": {
      "text/html": [
       "<div>\n",
       "<style scoped>\n",
       "    .dataframe tbody tr th:only-of-type {\n",
       "        vertical-align: middle;\n",
       "    }\n",
       "\n",
       "    .dataframe tbody tr th {\n",
       "        vertical-align: top;\n",
       "    }\n",
       "\n",
       "    .dataframe thead th {\n",
       "        text-align: right;\n",
       "    }\n",
       "</style>\n",
       "<table border=\"1\" class=\"dataframe\">\n",
       "  <thead>\n",
       "    <tr style=\"text-align: right;\">\n",
       "      <th></th>\n",
       "      <th>country</th>\n",
       "      <th>year</th>\n",
       "      <th>emission</th>\n",
       "    </tr>\n",
       "  </thead>\n",
       "  <tbody>\n",
       "    <tr>\n",
       "      <th>28324</th>\n",
       "      <td>Afghanistan</td>\n",
       "      <td>1945</td>\n",
       "      <td>NaN</td>\n",
       "    </tr>\n",
       "    <tr>\n",
       "      <th>28325</th>\n",
       "      <td>Angola</td>\n",
       "      <td>1945</td>\n",
       "      <td>NaN</td>\n",
       "    </tr>\n",
       "    <tr>\n",
       "      <th>28326</th>\n",
       "      <td>Albania</td>\n",
       "      <td>1945</td>\n",
       "      <td>0.406</td>\n",
       "    </tr>\n",
       "    <tr>\n",
       "      <th>28327</th>\n",
       "      <td>Andorra</td>\n",
       "      <td>1945</td>\n",
       "      <td>NaN</td>\n",
       "    </tr>\n",
       "    <tr>\n",
       "      <th>28328</th>\n",
       "      <td>United Arab Emirates</td>\n",
       "      <td>1945</td>\n",
       "      <td>NaN</td>\n",
       "    </tr>\n",
       "  </tbody>\n",
       "</table>\n",
       "</div>"
      ],
      "text/plain": [
       "                    country  year emission\n",
       "28324           Afghanistan  1945      NaN\n",
       "28325                Angola  1945      NaN\n",
       "28326               Albania  1945    0.406\n",
       "28327               Andorra  1945      NaN\n",
       "28328  United Arab Emirates  1945      NaN"
      ]
     },
     "execution_count": 12,
     "metadata": {},
     "output_type": "execute_result"
    }
   ],
   "source": [
    "# CO2 emissions df filtering in the correct year range using a query\n",
    "\n",
    "CO2emissions_filtered = CO2emissions_pivot.query('year > 1944 & year < 1996')\n",
    "CO2emissions_filtered.head()"
   ]
  },
  {
   "cell_type": "code",
   "execution_count": 13,
   "metadata": {},
   "outputs": [
    {
     "data": {
      "text/html": [
       "<div>\n",
       "<style scoped>\n",
       "    .dataframe tbody tr th:only-of-type {\n",
       "        vertical-align: middle;\n",
       "    }\n",
       "\n",
       "    .dataframe tbody tr th {\n",
       "        vertical-align: top;\n",
       "    }\n",
       "\n",
       "    .dataframe thead th {\n",
       "        text-align: right;\n",
       "    }\n",
       "</style>\n",
       "<table border=\"1\" class=\"dataframe\">\n",
       "  <thead>\n",
       "    <tr style=\"text-align: right;\">\n",
       "      <th></th>\n",
       "      <th>country</th>\n",
       "      <th>year</th>\n",
       "      <th>emission</th>\n",
       "    </tr>\n",
       "  </thead>\n",
       "  <tbody>\n",
       "    <tr>\n",
       "      <th>0</th>\n",
       "      <td>Aruba</td>\n",
       "      <td>1849</td>\n",
       "      <td>1.24</td>\n",
       "    </tr>\n",
       "    <tr>\n",
       "      <th>1</th>\n",
       "      <td>Afghanistan</td>\n",
       "      <td>1849</td>\n",
       "      <td>0</td>\n",
       "    </tr>\n",
       "    <tr>\n",
       "      <th>2</th>\n",
       "      <td>Angola</td>\n",
       "      <td>1849</td>\n",
       "      <td>30µ</td>\n",
       "    </tr>\n",
       "    <tr>\n",
       "      <th>3</th>\n",
       "      <td>Albania</td>\n",
       "      <td>1849</td>\n",
       "      <td>0.00017</td>\n",
       "    </tr>\n",
       "    <tr>\n",
       "      <th>4</th>\n",
       "      <td>Netherlands Antilles</td>\n",
       "      <td>1849</td>\n",
       "      <td>1.24</td>\n",
       "    </tr>\n",
       "  </tbody>\n",
       "</table>\n",
       "</div>"
      ],
      "text/plain": [
       "                country  year emission\n",
       "0                 Aruba  1849     1.24\n",
       "1           Afghanistan  1849        0\n",
       "2                Angola  1849      30µ\n",
       "3               Albania  1849  0.00017\n",
       "4  Netherlands Antilles  1849     1.24"
      ]
     },
     "execution_count": 13,
     "metadata": {},
     "output_type": "execute_result"
    }
   ],
   "source": [
    "#S emissions df pivoting (as I did for CO2 emissions)\n",
    "\n",
    "Semissions_pivot = pd.melt(Semissions, id_vars =['country'], var_name = 'year', value_name = 'emission')\n",
    "Semissions_pivot.head()"
   ]
  },
  {
   "cell_type": "code",
   "execution_count": 14,
   "metadata": {},
   "outputs": [
    {
     "data": {
      "text/plain": [
       "country     object\n",
       "year        object\n",
       "emission    object\n",
       "dtype: object"
      ]
     },
     "execution_count": 14,
     "metadata": {},
     "output_type": "execute_result"
    }
   ],
   "source": [
    "Semissions_pivot.dtypes"
   ]
  },
  {
   "cell_type": "code",
   "execution_count": 15,
   "metadata": {},
   "outputs": [
    {
     "data": {
      "text/plain": [
       "country     object\n",
       "year         int32\n",
       "emission    object\n",
       "dtype: object"
      ]
     },
     "execution_count": 15,
     "metadata": {},
     "output_type": "execute_result"
    }
   ],
   "source": [
    "#fixing year data type (as I did for CO2 emissions)\n",
    "\n",
    "Semissions_pivot['year'] = Semissions_pivot['year'].astype(int)\n",
    "Semissions_pivot.dtypes"
   ]
  },
  {
   "cell_type": "code",
   "execution_count": 16,
   "metadata": {},
   "outputs": [
    {
     "data": {
      "text/html": [
       "<div>\n",
       "<style scoped>\n",
       "    .dataframe tbody tr th:only-of-type {\n",
       "        vertical-align: middle;\n",
       "    }\n",
       "\n",
       "    .dataframe tbody tr th {\n",
       "        vertical-align: top;\n",
       "    }\n",
       "\n",
       "    .dataframe thead th {\n",
       "        text-align: right;\n",
       "    }\n",
       "</style>\n",
       "<table border=\"1\" class=\"dataframe\">\n",
       "  <thead>\n",
       "    <tr style=\"text-align: right;\">\n",
       "      <th></th>\n",
       "      <th>country</th>\n",
       "      <th>year</th>\n",
       "      <th>emission</th>\n",
       "    </tr>\n",
       "  </thead>\n",
       "  <tbody>\n",
       "    <tr>\n",
       "      <th>26602</th>\n",
       "      <td>Vietnam</td>\n",
       "      <td>1995</td>\n",
       "      <td>1.48</td>\n",
       "    </tr>\n",
       "    <tr>\n",
       "      <th>26603</th>\n",
       "      <td>Yemen</td>\n",
       "      <td>1995</td>\n",
       "      <td>1.52</td>\n",
       "    </tr>\n",
       "    <tr>\n",
       "      <th>26604</th>\n",
       "      <td>South Africa</td>\n",
       "      <td>1995</td>\n",
       "      <td>37.7</td>\n",
       "    </tr>\n",
       "    <tr>\n",
       "      <th>26605</th>\n",
       "      <td>Zambia</td>\n",
       "      <td>1995</td>\n",
       "      <td>45.1</td>\n",
       "    </tr>\n",
       "    <tr>\n",
       "      <th>26606</th>\n",
       "      <td>Zimbabwe</td>\n",
       "      <td>1995</td>\n",
       "      <td>6.82</td>\n",
       "    </tr>\n",
       "  </tbody>\n",
       "</table>\n",
       "</div>"
      ],
      "text/plain": [
       "            country  year emission\n",
       "26602       Vietnam  1995     1.48\n",
       "26603         Yemen  1995     1.52\n",
       "26604  South Africa  1995     37.7\n",
       "26605        Zambia  1995     45.1\n",
       "26606      Zimbabwe  1995     6.82"
      ]
     },
     "execution_count": 16,
     "metadata": {},
     "output_type": "execute_result"
    }
   ],
   "source": [
    "# S emissions df filtering in the correct year range (from 1995 to 1995)\n",
    "\n",
    "Semissions_filtered = Semissions_pivot.query('year > 1944 & year < 1996')\n",
    "Semissions_filtered.tail()"
   ]
  },
  {
   "cell_type": "code",
   "execution_count": 17,
   "metadata": {},
   "outputs": [
    {
     "data": {
      "text/html": [
       "<div>\n",
       "<style scoped>\n",
       "    .dataframe tbody tr th:only-of-type {\n",
       "        vertical-align: middle;\n",
       "    }\n",
       "\n",
       "    .dataframe tbody tr th {\n",
       "        vertical-align: top;\n",
       "    }\n",
       "\n",
       "    .dataframe thead th {\n",
       "        text-align: right;\n",
       "    }\n",
       "</style>\n",
       "<table border=\"1\" class=\"dataframe\">\n",
       "  <thead>\n",
       "    <tr style=\"text-align: right;\">\n",
       "      <th></th>\n",
       "      <th>country</th>\n",
       "      <th>year</th>\n",
       "      <th>IPP</th>\n",
       "    </tr>\n",
       "  </thead>\n",
       "  <tbody>\n",
       "    <tr>\n",
       "      <th>0</th>\n",
       "      <td>Afghanistan</td>\n",
       "      <td>1799</td>\n",
       "      <td>674</td>\n",
       "    </tr>\n",
       "    <tr>\n",
       "      <th>1</th>\n",
       "      <td>Angola</td>\n",
       "      <td>1799</td>\n",
       "      <td>691</td>\n",
       "    </tr>\n",
       "    <tr>\n",
       "      <th>2</th>\n",
       "      <td>Albania</td>\n",
       "      <td>1799</td>\n",
       "      <td>746</td>\n",
       "    </tr>\n",
       "    <tr>\n",
       "      <th>3</th>\n",
       "      <td>Andorra</td>\n",
       "      <td>1799</td>\n",
       "      <td>1340</td>\n",
       "    </tr>\n",
       "    <tr>\n",
       "      <th>4</th>\n",
       "      <td>United Arab Emirates</td>\n",
       "      <td>1799</td>\n",
       "      <td>1120</td>\n",
       "    </tr>\n",
       "  </tbody>\n",
       "</table>\n",
       "</div>"
      ],
      "text/plain": [
       "                country  year   IPP\n",
       "0           Afghanistan  1799   674\n",
       "1                Angola  1799   691\n",
       "2               Albania  1799   746\n",
       "3               Andorra  1799  1340\n",
       "4  United Arab Emirates  1799  1120"
      ]
     },
     "execution_count": 17,
     "metadata": {},
     "output_type": "execute_result"
    }
   ],
   "source": [
    "#IPP incomings df pivoting (as I did for CO2 emissions)\n",
    "\n",
    "IPP_pivot = pd.melt(IPP, id_vars =['country'], var_name = 'year', value_name = 'IPP')\n",
    "IPP_pivot.head()"
   ]
  },
  {
   "cell_type": "code",
   "execution_count": 18,
   "metadata": {},
   "outputs": [
    {
     "data": {
      "text/plain": [
       "country    object\n",
       "year       object\n",
       "IPP        object\n",
       "dtype: object"
      ]
     },
     "execution_count": 18,
     "metadata": {},
     "output_type": "execute_result"
    }
   ],
   "source": [
    "IPP_pivot.dtypes"
   ]
  },
  {
   "cell_type": "code",
   "execution_count": 19,
   "metadata": {},
   "outputs": [
    {
     "data": {
      "text/plain": [
       "country    object\n",
       "year        int32\n",
       "IPP        object\n",
       "dtype: object"
      ]
     },
     "execution_count": 19,
     "metadata": {},
     "output_type": "execute_result"
    }
   ],
   "source": [
    "#fixing year data type (as I did for CO2 emissions)\n",
    "\n",
    "IPP_pivot['year'] = IPP_pivot['year'].astype(int)\n",
    "IPP_pivot.dtypes"
   ]
  },
  {
   "cell_type": "code",
   "execution_count": 20,
   "metadata": {},
   "outputs": [
    {
     "data": {
      "text/html": [
       "<div>\n",
       "<style scoped>\n",
       "    .dataframe tbody tr th:only-of-type {\n",
       "        vertical-align: middle;\n",
       "    }\n",
       "\n",
       "    .dataframe tbody tr th {\n",
       "        vertical-align: top;\n",
       "    }\n",
       "\n",
       "    .dataframe thead th {\n",
       "        text-align: right;\n",
       "    }\n",
       "</style>\n",
       "<table border=\"1\" class=\"dataframe\">\n",
       "  <thead>\n",
       "    <tr style=\"text-align: right;\">\n",
       "      <th></th>\n",
       "      <th>country</th>\n",
       "      <th>year</th>\n",
       "      <th>IPP</th>\n",
       "    </tr>\n",
       "  </thead>\n",
       "  <tbody>\n",
       "    <tr>\n",
       "      <th>38410</th>\n",
       "      <td>Samoa</td>\n",
       "      <td>1995</td>\n",
       "      <td>4370</td>\n",
       "    </tr>\n",
       "    <tr>\n",
       "      <th>38411</th>\n",
       "      <td>Yemen</td>\n",
       "      <td>1995</td>\n",
       "      <td>4440</td>\n",
       "    </tr>\n",
       "    <tr>\n",
       "      <th>38412</th>\n",
       "      <td>South Africa</td>\n",
       "      <td>1995</td>\n",
       "      <td>9760</td>\n",
       "    </tr>\n",
       "    <tr>\n",
       "      <th>38413</th>\n",
       "      <td>Zambia</td>\n",
       "      <td>1995</td>\n",
       "      <td>1980</td>\n",
       "    </tr>\n",
       "    <tr>\n",
       "      <th>38414</th>\n",
       "      <td>Zimbabwe</td>\n",
       "      <td>1995</td>\n",
       "      <td>3520</td>\n",
       "    </tr>\n",
       "  </tbody>\n",
       "</table>\n",
       "</div>"
      ],
      "text/plain": [
       "            country  year   IPP\n",
       "38410         Samoa  1995  4370\n",
       "38411         Yemen  1995  4440\n",
       "38412  South Africa  1995  9760\n",
       "38413        Zambia  1995  1980\n",
       "38414      Zimbabwe  1995  3520"
      ]
     },
     "execution_count": 20,
     "metadata": {},
     "output_type": "execute_result"
    }
   ],
   "source": [
    "# IPP incomings df filtering in the correct year range\n",
    "IPP_filtered = IPP_pivot.query('year > 1944 & year < 1996')\n",
    "IPP_filtered.tail()"
   ]
  },
  {
   "cell_type": "code",
   "execution_count": 21,
   "metadata": {},
   "outputs": [],
   "source": [
    "#saving filtered datasets with the alias \"clear\"\n",
    "\n",
    "CO2emissions_filtered.to_csv('CO2_clear.csv')\n",
    "Semissions_filtered.to_csv('S_clear.csv')\n",
    "IPP_filtered.to_csv('IPP_clear.csv')"
   ]
  },
  {
   "cell_type": "code",
   "execution_count": 22,
   "metadata": {},
   "outputs": [],
   "source": [
    "#importing the clear datasets\n",
    "\n",
    "CO2_clear = pd.read_csv('CO2_clear.csv')\n",
    "S_clear = pd.read_csv('S_clear.csv')\n",
    "IPP_clear = pd.read_csv('IPP_clear.csv')"
   ]
  },
  {
   "cell_type": "code",
   "execution_count": 23,
   "metadata": {},
   "outputs": [],
   "source": [
    "#dropping rows with NaN (to avoid problems in the data analysis)\n",
    "\n",
    "CO2_clear.dropna(axis=0, how='any', inplace=True)\n",
    "S_clear.dropna(axis=0, how='any', inplace=True)\n",
    "IPP_clear.dropna(axis=0, how='any', inplace=True)"
   ]
  },
  {
   "cell_type": "code",
   "execution_count": 24,
   "metadata": {},
   "outputs": [
    {
     "data": {
      "text/plain": [
       "False"
      ]
     },
     "execution_count": 24,
     "metadata": {},
     "output_type": "execute_result"
    }
   ],
   "source": [
    "#checking if any of columns has null values\n",
    "\n",
    "CO2_clear.isnull().sum().any()"
   ]
  },
  {
   "cell_type": "code",
   "execution_count": 25,
   "metadata": {},
   "outputs": [
    {
     "data": {
      "text/plain": [
       "False"
      ]
     },
     "execution_count": 25,
     "metadata": {},
     "output_type": "execute_result"
    }
   ],
   "source": [
    "#checking if any of columns has null values\n",
    "\n",
    "S_clear.isnull().sum().any()"
   ]
  },
  {
   "cell_type": "code",
   "execution_count": 26,
   "metadata": {},
   "outputs": [
    {
     "data": {
      "text/plain": [
       "False"
      ]
     },
     "execution_count": 26,
     "metadata": {},
     "output_type": "execute_result"
    }
   ],
   "source": [
    "#checking if any of columns has null values\n",
    "\n",
    "IPP_clear.isnull().sum().any()"
   ]
  },
  {
   "cell_type": "markdown",
   "metadata": {},
   "source": [
    "#### When the IPP values are more than 1000, the original dataset uses a 'k' rather than the zeros.\n",
    "#### To fix I used a mask to track and replace the 'k' for the correct number."
   ]
  },
  {
   "cell_type": "code",
   "execution_count": 27,
   "metadata": {},
   "outputs": [],
   "source": [
    "#creating the mask to filter data in the IPP columns with a 'k'\n",
    "\n",
    "mask = IPP_clear['IPP'].str.contains('k')"
   ]
  },
  {
   "cell_type": "code",
   "execution_count": 28,
   "metadata": {},
   "outputs": [],
   "source": [
    "#removing the 'k' and converting to int (its not possible to make counts with string datatype)\n",
    "\n",
    "IPP_clear['IPP'] = IPP_clear['IPP'].str.extract('(\\d+)').astype(int)"
   ]
  },
  {
   "cell_type": "code",
   "execution_count": 29,
   "metadata": {},
   "outputs": [
    {
     "name": "stderr",
     "output_type": "stream",
     "text": [
      "C:\\Users\\iara\\AppData\\Local\\Temp\\ipykernel_37912\\1518195736.py:3: SettingWithCopyWarning: \n",
      "A value is trying to be set on a copy of a slice from a DataFrame\n",
      "\n",
      "See the caveats in the documentation: https://pandas.pydata.org/pandas-docs/stable/user_guide/indexing.html#returning-a-view-versus-a-copy\n",
      "  IPP_clear['IPP'][mask] = IPP_clear['IPP'][mask]*1000\n"
     ]
    }
   ],
   "source": [
    "#using the mask to multiply for 1000 the values that originally had a 'k'\n",
    "\n",
    "IPP_clear['IPP'][mask] = IPP_clear['IPP'][mask]*1000"
   ]
  },
  {
   "cell_type": "code",
   "execution_count": 30,
   "metadata": {},
   "outputs": [
    {
     "data": {
      "text/plain": [
       "Unnamed: 0     int64\n",
       "country       object\n",
       "year           int64\n",
       "IPP            int32\n",
       "dtype: object"
      ]
     },
     "execution_count": 30,
     "metadata": {},
     "output_type": "execute_result"
    }
   ],
   "source": [
    "#checking data type\n",
    "\n",
    "IPP_clear.dtypes"
   ]
  },
  {
   "cell_type": "markdown",
   "metadata": {},
   "source": [
    "<a id='eda'></a>\n",
    "## Exploratory Data Analysis\n",
    "\n",
    "### Research Question 1 - There are indications of the correlation between IPP and CO2 emissions per person in Brazil?"
   ]
  },
  {
   "cell_type": "markdown",
   "metadata": {},
   "source": [
    "#### To avoid repetitive coding I created a function named \"brazil\" to filter the data only for this country"
   ]
  },
  {
   "cell_type": "code",
   "execution_count": 31,
   "metadata": {},
   "outputs": [],
   "source": [
    "# creating the brazil function\n",
    "\n",
    "def brazil(df):\n",
    "    '''\n",
    "    Returns the dataframe only with data from Brazil.\n",
    "    Parameters\n",
    "        df (str): a dataframe\n",
    "    Returns:\n",
    "        the dataframe filtered with the columns \"Country\" filtered for Brazil.\n",
    "    '''\n",
    "    #copy dataframe\n",
    "    temp = df.copy()\n",
    "    #filter the column country for strings that contains \"Brazil\"\n",
    "    temp = temp[df['country'].str.contains('Brazil', na=False)]\n",
    "    \n",
    "    return temp"
   ]
  },
  {
   "cell_type": "code",
   "execution_count": 32,
   "metadata": {},
   "outputs": [
    {
     "data": {
      "text/plain": [
       "Unnamed: 0     int64\n",
       "country       object\n",
       "year           int64\n",
       "IPP            int32\n",
       "dtype: object"
      ]
     },
     "execution_count": 32,
     "metadata": {},
     "output_type": "execute_result"
    }
   ],
   "source": [
    "#filtering the IPP data for Brazil \n",
    "\n",
    "IPP_BR = brazil(IPP_clear)\n",
    "IPP_BR.dtypes\n",
    "\n"
   ]
  },
  {
   "cell_type": "code",
   "execution_count": 33,
   "metadata": {},
   "outputs": [
    {
     "data": {
      "text/plain": [
       "Unnamed: 0      int64\n",
       "country        object\n",
       "year            int64\n",
       "emission      float64\n",
       "dtype: object"
      ]
     },
     "execution_count": 33,
     "metadata": {},
     "output_type": "execute_result"
    }
   ],
   "source": [
    "#filtering the CO2 emissions per person data for Brazil \n",
    "CO2_BR = brazil(CO2_clear)\n",
    "CO2_BR.dtypes"
   ]
  },
  {
   "cell_type": "code",
   "execution_count": 34,
   "metadata": {},
   "outputs": [
    {
     "data": {
      "text/html": [
       "<div>\n",
       "<style scoped>\n",
       "    .dataframe tbody tr th:only-of-type {\n",
       "        vertical-align: middle;\n",
       "    }\n",
       "\n",
       "    .dataframe tbody tr th {\n",
       "        vertical-align: top;\n",
       "    }\n",
       "\n",
       "    .dataframe thead th {\n",
       "        text-align: right;\n",
       "    }\n",
       "</style>\n",
       "<table border=\"1\" class=\"dataframe\">\n",
       "  <thead>\n",
       "    <tr style=\"text-align: right;\">\n",
       "      <th></th>\n",
       "      <th>year</th>\n",
       "      <th>emission</th>\n",
       "      <th>IPP</th>\n",
       "    </tr>\n",
       "  </thead>\n",
       "  <tbody>\n",
       "    <tr>\n",
       "      <th>0</th>\n",
       "      <td>1945</td>\n",
       "      <td>0.154</td>\n",
       "      <td>2220</td>\n",
       "    </tr>\n",
       "    <tr>\n",
       "      <th>1</th>\n",
       "      <td>1946</td>\n",
       "      <td>0.180</td>\n",
       "      <td>2250</td>\n",
       "    </tr>\n",
       "    <tr>\n",
       "      <th>2</th>\n",
       "      <td>1947</td>\n",
       "      <td>0.154</td>\n",
       "      <td>2410</td>\n",
       "    </tr>\n",
       "    <tr>\n",
       "      <th>3</th>\n",
       "      <td>1948</td>\n",
       "      <td>0.141</td>\n",
       "      <td>2540</td>\n",
       "    </tr>\n",
       "    <tr>\n",
       "      <th>4</th>\n",
       "      <td>1949</td>\n",
       "      <td>0.365</td>\n",
       "      <td>2570</td>\n",
       "    </tr>\n",
       "  </tbody>\n",
       "</table>\n",
       "</div>"
      ],
      "text/plain": [
       "   year  emission   IPP\n",
       "0  1945     0.154  2220\n",
       "1  1946     0.180  2250\n",
       "2  1947     0.154  2410\n",
       "3  1948     0.141  2540\n",
       "4  1949     0.365  2570"
      ]
     },
     "execution_count": 34,
     "metadata": {},
     "output_type": "execute_result"
    }
   ],
   "source": [
    "#merging the new datasets to analyse correlation\n",
    "\n",
    "CO2_IPP = CO2_BR.merge(IPP_BR, on = 'year', how = 'inner')[['year', 'emission', 'IPP']]\n",
    "CO2_IPP.head()"
   ]
  },
  {
   "cell_type": "code",
   "execution_count": 35,
   "metadata": {},
   "outputs": [
    {
     "data": {
      "text/plain": [
       "[<matplotlib.lines.Line2D at 0x1bce0322c10>]"
      ]
     },
     "execution_count": 35,
     "metadata": {},
     "output_type": "execute_result"
    },
    {
     "data": {
      "image/png": "[encoded data removed]",
      "text/plain": [
       "<Figure size 432x288 with 1 Axes>"
      ]
     },
     "metadata": {
      "needs_background": "light"
     },
     "output_type": "display_data"
    }
   ],
   "source": [
    "#plotting CO2 emissions per person x IPP\n",
    "\n",
    "plt.plot(CO2_IPP['year'], CO2_IPP['emission'])\n",
    "plt.plot(CO2_IPP['year'], CO2_IPP['IPP'])"
   ]
  },
  {
   "cell_type": "markdown",
   "metadata": {},
   "source": [
    " #### The plot above didn't work well because the data is in different scales.\n",
    " #### To correct that I first normalized the data."
   ]
  },
  {
   "cell_type": "code",
   "execution_count": 36,
   "metadata": {},
   "outputs": [],
   "source": [
    "#data normalizing\n",
    "\n",
    "emission_norm = CO2_IPP['emission']/max(CO2_IPP['emission'])\n",
    "IPP_norm = CO2_IPP['IPP']/max(CO2_IPP['IPP'])"
   ]
  },
  {
   "cell_type": "code",
   "execution_count": 37,
   "metadata": {
    "scrolled": true
   },
   "outputs": [
    {
     "data": {
      "image/png": "[encoded data removed]",
      "text/plain": [
       "<Figure size 1080x576 with 1 Axes>"
      ]
     },
     "metadata": {
      "needs_background": "light"
     },
     "output_type": "display_data"
    }
   ],
   "source": [
    "#this plot allows to visualize the correlation between CO2 emissions per person and IPP in Brazil\n",
    "\n",
    "plt.figure (figsize = (15, 8))\n",
    "\n",
    "plt.plot(CO2_IPP['year'], emission_norm)\n",
    "plt.plot(CO2_IPP['year'], IPP_norm)\n",
    "\n",
    "plt.xlabel('Year')\n",
    "plt.title('CO2 emissions per person and Income Per Person in Brazil (normalized)')\n",
    "plt.grid(False)\n",
    "plt.savefig(\"CO2IPP.png\")\n",
    "plt.legend (['CO2 emission', 'IPP'])\n",
    "plt.show()"
   ]
  },
  {
   "cell_type": "markdown",
   "metadata": {},
   "source": [
    "#### From the plot above its possible to see that the CO2 emissions increase its also followed for the IPP increase as the both lines (blue and orange) are getting higher through the time."
   ]
  },
  {
   "cell_type": "markdown",
   "metadata": {},
   "source": [
    "### Research Question 2 - There are indications of the correlation between IPP and S emissions per person in Brazil?"
   ]
  },
  {
   "cell_type": "code",
   "execution_count": 38,
   "metadata": {},
   "outputs": [
    {
     "data": {
      "text/plain": [
       "Unnamed: 0      int64\n",
       "country        object\n",
       "year            int64\n",
       "emission      float64\n",
       "dtype: object"
      ]
     },
     "execution_count": 38,
     "metadata": {},
     "output_type": "execute_result"
    }
   ],
   "source": [
    "#calling the brazil function to filter the data for Brazil\n",
    "\n",
    "S_BR = brazil(S_clear)\n",
    "\n",
    "S_BR.dtypes"
   ]
  },
  {
   "cell_type": "code",
   "execution_count": 39,
   "metadata": {},
   "outputs": [
    {
     "data": {
      "text/html": [
       "<div>\n",
       "<style scoped>\n",
       "    .dataframe tbody tr th:only-of-type {\n",
       "        vertical-align: middle;\n",
       "    }\n",
       "\n",
       "    .dataframe tbody tr th {\n",
       "        vertical-align: top;\n",
       "    }\n",
       "\n",
       "    .dataframe thead th {\n",
       "        text-align: right;\n",
       "    }\n",
       "</style>\n",
       "<table border=\"1\" class=\"dataframe\">\n",
       "  <thead>\n",
       "    <tr style=\"text-align: right;\">\n",
       "      <th></th>\n",
       "      <th>year</th>\n",
       "      <th>emission</th>\n",
       "      <th>IPP</th>\n",
       "    </tr>\n",
       "  </thead>\n",
       "  <tbody>\n",
       "    <tr>\n",
       "      <th>0</th>\n",
       "      <td>1945</td>\n",
       "      <td>1.77</td>\n",
       "      <td>2220</td>\n",
       "    </tr>\n",
       "    <tr>\n",
       "      <th>1</th>\n",
       "      <td>1946</td>\n",
       "      <td>1.80</td>\n",
       "      <td>2250</td>\n",
       "    </tr>\n",
       "    <tr>\n",
       "      <th>2</th>\n",
       "      <td>1947</td>\n",
       "      <td>1.79</td>\n",
       "      <td>2410</td>\n",
       "    </tr>\n",
       "    <tr>\n",
       "      <th>3</th>\n",
       "      <td>1948</td>\n",
       "      <td>1.83</td>\n",
       "      <td>2540</td>\n",
       "    </tr>\n",
       "    <tr>\n",
       "      <th>4</th>\n",
       "      <td>1949</td>\n",
       "      <td>2.10</td>\n",
       "      <td>2570</td>\n",
       "    </tr>\n",
       "  </tbody>\n",
       "</table>\n",
       "</div>"
      ],
      "text/plain": [
       "   year  emission   IPP\n",
       "0  1945      1.77  2220\n",
       "1  1946      1.80  2250\n",
       "2  1947      1.79  2410\n",
       "3  1948      1.83  2540\n",
       "4  1949      2.10  2570"
      ]
     },
     "execution_count": 39,
     "metadata": {},
     "output_type": "execute_result"
    }
   ],
   "source": [
    "#merging the new datasets to analyse correlation\n",
    "\n",
    "S_IPP = S_BR.merge(IPP_BR, on = 'year', how = 'inner')[['year', 'emission', 'IPP']]\n",
    "S_IPP.head()"
   ]
  },
  {
   "cell_type": "code",
   "execution_count": 40,
   "metadata": {},
   "outputs": [],
   "source": [
    "#normalizing the data to make possible to compare\n",
    "\n",
    "emission_normS = S_IPP['emission']/max(S_IPP['emission'])\n",
    "IPP_normS = S_IPP['IPP']/max(S_IPP['IPP'])"
   ]
  },
  {
   "cell_type": "code",
   "execution_count": 41,
   "metadata": {},
   "outputs": [
    {
     "data": {
      "image/png": "[encoded data removed]",
      "text/plain": [
       "<Figure size 1080x576 with 1 Axes>"
      ]
     },
     "metadata": {
      "needs_background": "light"
     },
     "output_type": "display_data"
    }
   ],
   "source": [
    "#plotting Sulfur emissions versus IPP in Brazil\n",
    "\n",
    "plt.figure (figsize = (15, 8))\n",
    "\n",
    "plt.plot(S_IPP['year'], emission_normS)\n",
    "plt.plot(S_IPP['year'], IPP_normS)\n",
    "\n",
    "plt.xlabel('Year')\n",
    "plt.title('Sulfur emissions per person and Income Per Person in Brazil (normalized)')\n",
    "plt.grid(False)\n",
    "plt.savefig(\"SIPP.png\")\n",
    "plt.legend (['Sufur emission', 'IPP'])\n",
    "plt.show()\n",
    "\n"
   ]
  },
  {
   "cell_type": "markdown",
   "metadata": {},
   "source": [
    "#### From the plot above its possible to see that the Sulfur emissions increase its also followed for the IPP increase as the both lines (blue and orange) are getting higher through the time."
   ]
  },
  {
   "cell_type": "markdown",
   "metadata": {},
   "source": [
    "### Research Question 3 - How  the CO2 emissions per person in Brazil  compares with the other countries?"
   ]
  },
  {
   "cell_type": "code",
   "execution_count": 42,
   "metadata": {},
   "outputs": [
    {
     "data": {
      "image/png": "[encoded data removed]",
      "text/plain": [
       "<Figure size 1080x576 with 1 Axes>"
      ]
     },
     "metadata": {
      "needs_background": "light"
     },
     "output_type": "display_data"
    }
   ],
   "source": [
    "#analysing the caracteristics of CO2 emissions \n",
    "\n",
    "plt.figure (figsize = (15, 8))\n",
    "\n",
    "\n",
    "CO2_BR['emission'].hist()\n",
    "plt.xlabel('CO2 emissons per person (metric tonnes)')\n",
    "plt.title('Frequency of CO2 emissions per person levels in Brazil')\n",
    "plt.grid(False)\n",
    "plt.savefig(\"CO2PP.png\")\n",
    "plt.legend ('CO2 emission per person')\n",
    "plt.show()"
   ]
  },
  {
   "cell_type": "markdown",
   "metadata": {},
   "source": [
    "#### For the histogram above, its possible to see that most of brazilians CO2 per person are in between 1.4 e 1.6  metric tonnes"
   ]
  },
  {
   "cell_type": "code",
   "execution_count": 43,
   "metadata": {},
   "outputs": [
    {
     "data": {
      "image/png": "[encoded data removed]",
      "text/plain": [
       "<Figure size 1080x576 with 1 Axes>"
      ]
     },
     "metadata": {
      "needs_background": "light"
     },
     "output_type": "display_data"
    }
   ],
   "source": [
    "plt.figure (figsize = (15, 8))\n",
    "\n",
    "CO2_clear['emission'].hist(bins=100)\n",
    "plt.xlabel('CO2 emissons per person (metric tonnes)')\n",
    "plt.title('Frequency of CO2 emissions per person levels in the world')\n",
    "plt.grid(False)\n",
    "plt.savefig(\"CO2W.png\")\n",
    "plt.legend ('CO2 emission per person')\n",
    "plt.show()\n"
   ]
  },
  {
   "cell_type": "markdown",
   "metadata": {},
   "source": [
    "#### For the histogram above, its possible to see that most of countries emissions of CO2 per person are in between 0 e 20  metric tonnes, indicating that Brazil CO2 emissions are close to the word average."
   ]
  },
  {
   "cell_type": "markdown",
   "metadata": {},
   "source": [
    "<a id='conclusions'></a>\n",
    "## Conclusions\n",
    "\n",
    "> **01**: For the plotting above, is possbile to infer that there are indications of the correlation between the increase of CO2 emissions per person and the IPP in Brazil. One possible explanations is that the development of a country implies in more industry and traffic, increasing the carbon emissions. The CO2 gas is one of the most importants Greenhouse Gas and contributes to the Climate Change effects.\n",
    "\n",
    "\n"
   ]
  },
  {
   "cell_type": "markdown",
   "metadata": {},
   "source": [
    "> **2**:The same logic applies to Sulfur emissions. Most of the sulfur dioxide released into the environment comes from electric utilities. If the economy is growing the demand of power is probably growing too. The Sulfur emissions are conected with the acid rain and lungs deseases.\n"
   ]
  },
  {
   "cell_type": "markdown",
   "metadata": {},
   "source": [
    "> **3**: The histrograms shows that the CO2 emissions per person in Brazil falls in the same range that the most CO2 emissions per person in the word. "
   ]
  },
  {
   "cell_type": "markdown",
   "metadata": {},
   "source": [
    "## Limitations"
   ]
  },
  {
   "cell_type": "markdown",
   "metadata": {},
   "source": [
    "> Its important to observe that the data used in this project are sample data, collect all around the word with different metodologies, which implies uncertainty.\n",
    "\n",
    "> Also the data cleaning fase also imples uncertainty due NaN values.\n",
    "\n",
    ">Finally there is no statistical inference performed in this project analysis. The significance of the found results are not tested. "
   ]
  },
  {
   "cell_type": "code",
   "execution_count": null,
   "metadata": {},
   "outputs": [],
   "source": []
  }
 ],
 "metadata": {
  "kernelspec": {
   "display_name": "Python 3 (ipykernel)",
   "language": "python",
   "name": "python3"
  },
  "language_info": {
   "codemirror_mode": {
    "name": "ipython",
    "version": 3
   },
   "file_extension": ".py",
   "mimetype": "text/x-python",
   "name": "python",
   "nbconvert_exporter": "python",
   "pygments_lexer": "ipython3",
   "version": "3.9.12"
  }
 },
 "nbformat": 4,
 "nbformat_minor": 2
}
