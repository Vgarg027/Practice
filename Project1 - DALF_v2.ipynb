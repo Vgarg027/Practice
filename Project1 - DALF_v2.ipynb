{
 "cells": [
  {
   "cell_type": "markdown",
   "metadata": {},
   "source": [
    "# Project: How does the fertility rate evolve? Can we find some contributing factors?\n",
    "\n",
    "## Table of Contents\n",
    "<ul>\n",
    "<li><a href=\"#intro\">Introduction</a></li>\n",
    "<li><a href=\"#wrangling\">Data Wrangling</a></li>\n",
    "<li><a href=\"#eda\">Exploratory Data Analysis</a></li>\n",
    "<li><a href=\"#conclusions\">Conclusions</a></li>\n",
    "</ul>"
   ]
  },
  {
   "cell_type": "markdown",
   "metadata": {
    "collapsed": false
   },
   "source": [
    "<a id='intro'></a>\n",
    "## Introduction\n",
    "\n",
    "> This analysis aims at exploring the dataset `tfr-by-gapminder.csv` created by Gapminder from UN estimates.\n",
    "> This dataset puts together the fertility rates of women per country over almost 200 years.\n",
    "> V12 of the GD008 file is used.\n",
    "\n",
    "> In order to investigate potential correlations with region, GDP or religion, this dataset will be complemented by:\n",
    "- V27 of GD001 file `gdppercapita.csv`, available on Gapminder website,\n",
    "- `Religious_Composition_by_Country.csv` published by PewResearch on 2015, listed as a source of Gapminder, and available here https://www.pewforum.org/2015/04/02/religious-projection-table/2010/number/all/"
   ]
  },
  {
   "cell_type": "code",
   "execution_count": 49,
   "metadata": {
    "collapsed": false
   },
   "outputs": [],
   "source": [
    "import pandas as pd\n",
    "import numpy as np\n",
    "import matplotlib.pyplot as plt\n",
    "from matplotlib.pyplot import figure\n",
    "%matplotlib inline"
   ]
  },
  {
   "cell_type": "markdown",
   "metadata": {},
   "source": [
    "<a id='wrangling'></a>\n",
    "## Data Wrangling"
   ]
  },
  {
   "cell_type": "markdown",
   "metadata": {},
   "source": [
    "### General Properties"
   ]
  },
  {
   "cell_type": "markdown",
   "metadata": {},
   "source": [
    "Let's start by loading and investigating all datasets"
   ]
  },
  {
   "cell_type": "code",
   "execution_count": 50,
   "metadata": {
    "collapsed": true
   },
   "outputs": [],
   "source": [
    "fertility = pd.read_csv('tfr-by-gapminder.csv', encoding='latin-1')\n",
    "gdp = pd.read_csv('gdppercapita.csv', encoding='latin-1')\n",
    "religion = pd.read_csv('Religious_Composition_by_Country.csv', encoding='latin-1')"
   ]
  },
  {
   "cell_type": "code",
   "execution_count": 51,
   "metadata": {
    "collapsed": false
   },
   "outputs": [
    {
     "data": {
      "text/html": [
       "<div>\n",
       "<table border=\"1\" class=\"dataframe\">\n",
       "  <thead>\n",
       "    <tr style=\"text-align: right;\">\n",
       "      <th></th>\n",
       "      <th>geo.name</th>\n",
       "      <th>indicator.name</th>\n",
       "      <th>geo</th>\n",
       "      <th>indicator</th>\n",
       "      <th>1800</th>\n",
       "      <th>1801</th>\n",
       "      <th>1802</th>\n",
       "      <th>1803</th>\n",
       "      <th>1804</th>\n",
       "      <th>1805</th>\n",
       "      <th>...</th>\n",
       "      <th>2091</th>\n",
       "      <th>2092</th>\n",
       "      <th>2093</th>\n",
       "      <th>2094</th>\n",
       "      <th>2095</th>\n",
       "      <th>2096</th>\n",
       "      <th>2097</th>\n",
       "      <th>2098</th>\n",
       "      <th>2099</th>\n",
       "      <th>2100</th>\n",
       "    </tr>\n",
       "  </thead>\n",
       "  <tbody>\n",
       "    <tr>\n",
       "      <th>0</th>\n",
       "      <td>Abkhazia</td>\n",
       "      <td>Total fertility rate</td>\n",
       "      <td>abkh</td>\n",
       "      <td>tfr</td>\n",
       "      <td>NaN</td>\n",
       "      <td>NaN</td>\n",
       "      <td>NaN</td>\n",
       "      <td>NaN</td>\n",
       "      <td>NaN</td>\n",
       "      <td>NaN</td>\n",
       "      <td>...</td>\n",
       "      <td>NaN</td>\n",
       "      <td>NaN</td>\n",
       "      <td>NaN</td>\n",
       "      <td>NaN</td>\n",
       "      <td>NaN</td>\n",
       "      <td>NaN</td>\n",
       "      <td>NaN</td>\n",
       "      <td>NaN</td>\n",
       "      <td>NaN</td>\n",
       "      <td>NaN</td>\n",
       "    </tr>\n",
       "    <tr>\n",
       "      <th>1</th>\n",
       "      <td>Afghanistan</td>\n",
       "      <td>Total fertility rate</td>\n",
       "      <td>afg</td>\n",
       "      <td>tfr</td>\n",
       "      <td>7.0</td>\n",
       "      <td>7.0</td>\n",
       "      <td>7.0</td>\n",
       "      <td>7.0</td>\n",
       "      <td>7.0</td>\n",
       "      <td>7.0</td>\n",
       "      <td>...</td>\n",
       "      <td>1.74</td>\n",
       "      <td>1.74</td>\n",
       "      <td>1.74</td>\n",
       "      <td>1.74</td>\n",
       "      <td>1.74</td>\n",
       "      <td>1.74</td>\n",
       "      <td>1.74</td>\n",
       "      <td>1.74</td>\n",
       "      <td>1.74</td>\n",
       "      <td>1.74</td>\n",
       "    </tr>\n",
       "  </tbody>\n",
       "</table>\n",
       "<p>2 rows × 305 columns</p>\n",
       "</div>"
      ],
      "text/plain": [
       "      geo.name        indicator.name   geo indicator  1800  1801  1802  1803  \\\n",
       "0     Abkhazia  Total fertility rate  abkh       tfr   NaN   NaN   NaN   NaN   \n",
       "1  Afghanistan  Total fertility rate   afg       tfr   7.0   7.0   7.0   7.0   \n",
       "\n",
       "   1804  1805  ...   2091  2092  2093  2094  2095  2096  2097  2098  2099  \\\n",
       "0   NaN   NaN  ...    NaN   NaN   NaN   NaN   NaN   NaN   NaN   NaN   NaN   \n",
       "1   7.0   7.0  ...   1.74  1.74  1.74  1.74  1.74  1.74  1.74  1.74  1.74   \n",
       "\n",
       "   2100  \n",
       "0   NaN  \n",
       "1  1.74  \n",
       "\n",
       "[2 rows x 305 columns]"
      ]
     },
     "execution_count": 51,
     "metadata": {},
     "output_type": "execute_result"
    }
   ],
   "source": [
    "fertility.head(2)"
   ]
  },
  {
   "cell_type": "code",
   "execution_count": 52,
   "metadata": {
    "collapsed": false
   },
   "outputs": [
    {
     "name": "stdout",
     "output_type": "stream",
     "text": [
      "<class 'pandas.core.frame.DataFrame'>\n",
      "RangeIndex: 275 entries, 0 to 274\n",
      "Columns: 305 entries, geo.name to 2100\n",
      "dtypes: float64(301), object(4)\n",
      "memory usage: 655.4+ KB\n"
     ]
    }
   ],
   "source": [
    "fertility.info()"
   ]
  },
  {
   "cell_type": "code",
   "execution_count": 53,
   "metadata": {
    "collapsed": false
   },
   "outputs": [
    {
     "data": {
      "text/plain": [
       "0"
      ]
     },
     "execution_count": 53,
     "metadata": {},
     "output_type": "execute_result"
    }
   ],
   "source": [
    "fertility.duplicated().sum()"
   ]
  },
  {
   "cell_type": "markdown",
   "metadata": {},
   "source": [
    "This dataset puts together numbers for **275 countries** over **301 years**.\n",
    "<br>In order to find potential correlations with other factors, this timeframe and list of countries could be reduced down to be more specific.\n",
    "<br>Let's explore the dataset we have for the GDP"
   ]
  },
  {
   "cell_type": "code",
   "execution_count": 54,
   "metadata": {
    "collapsed": false
   },
   "outputs": [
    {
     "data": {
      "text/html": [
       "<div>\n",
       "<table border=\"1\" class=\"dataframe\">\n",
       "  <thead>\n",
       "    <tr style=\"text-align: right;\">\n",
       "      <th></th>\n",
       "      <th>country</th>\n",
       "      <th>1960</th>\n",
       "      <th>1961</th>\n",
       "      <th>1962</th>\n",
       "      <th>1963</th>\n",
       "      <th>1964</th>\n",
       "      <th>1965</th>\n",
       "      <th>1966</th>\n",
       "      <th>1967</th>\n",
       "      <th>1968</th>\n",
       "      <th>...</th>\n",
       "      <th>2010</th>\n",
       "      <th>2011</th>\n",
       "      <th>2012</th>\n",
       "      <th>2013</th>\n",
       "      <th>2014</th>\n",
       "      <th>2015</th>\n",
       "      <th>2016</th>\n",
       "      <th>2017</th>\n",
       "      <th>2018</th>\n",
       "      <th>2019</th>\n",
       "    </tr>\n",
       "  </thead>\n",
       "  <tbody>\n",
       "    <tr>\n",
       "      <th>0</th>\n",
       "      <td>Aruba</td>\n",
       "      <td>NaN</td>\n",
       "      <td>NaN</td>\n",
       "      <td>NaN</td>\n",
       "      <td>NaN</td>\n",
       "      <td>NaN</td>\n",
       "      <td>NaN</td>\n",
       "      <td>NaN</td>\n",
       "      <td>NaN</td>\n",
       "      <td>NaN</td>\n",
       "      <td>...</td>\n",
       "      <td>23.5k</td>\n",
       "      <td>24.2k</td>\n",
       "      <td>23.8k</td>\n",
       "      <td>24.6k</td>\n",
       "      <td>24.6k</td>\n",
       "      <td>25.8k</td>\n",
       "      <td>26.2k</td>\n",
       "      <td>26.6k</td>\n",
       "      <td>NaN</td>\n",
       "      <td>NaN</td>\n",
       "    </tr>\n",
       "    <tr>\n",
       "      <th>1</th>\n",
       "      <td>Afghanistan</td>\n",
       "      <td>NaN</td>\n",
       "      <td>NaN</td>\n",
       "      <td>NaN</td>\n",
       "      <td>NaN</td>\n",
       "      <td>NaN</td>\n",
       "      <td>NaN</td>\n",
       "      <td>NaN</td>\n",
       "      <td>NaN</td>\n",
       "      <td>NaN</td>\n",
       "      <td>...</td>\n",
       "      <td>543</td>\n",
       "      <td>529</td>\n",
       "      <td>576</td>\n",
       "      <td>588</td>\n",
       "      <td>584</td>\n",
       "      <td>574</td>\n",
       "      <td>571</td>\n",
       "      <td>572</td>\n",
       "      <td>568</td>\n",
       "      <td>571</td>\n",
       "    </tr>\n",
       "  </tbody>\n",
       "</table>\n",
       "<p>2 rows × 61 columns</p>\n",
       "</div>"
      ],
      "text/plain": [
       "       country 1960 1961 1962 1963 1964 1965 1966 1967 1968 ...    2010  \\\n",
       "0        Aruba  NaN  NaN  NaN  NaN  NaN  NaN  NaN  NaN  NaN ...   23.5k   \n",
       "1  Afghanistan  NaN  NaN  NaN  NaN  NaN  NaN  NaN  NaN  NaN ...     543   \n",
       "\n",
       "    2011   2012   2013   2014   2015   2016   2017 2018 2019  \n",
       "0  24.2k  23.8k  24.6k  24.6k  25.8k  26.2k  26.6k  NaN  NaN  \n",
       "1    529    576    588    584    574    571    572  568  571  \n",
       "\n",
       "[2 rows x 61 columns]"
      ]
     },
     "execution_count": 54,
     "metadata": {},
     "output_type": "execute_result"
    }
   ],
   "source": [
    "gdp.head(2)"
   ]
  },
  {
   "cell_type": "code",
   "execution_count": 55,
   "metadata": {
    "collapsed": false
   },
   "outputs": [
    {
     "data": {
      "text/plain": [
       "0    25.8k\n",
       "1      574\n",
       "2     3750\n",
       "3     4520\n",
       "4    42.1k\n",
       "Name: 2015, dtype: object"
      ]
     },
     "execution_count": 55,
     "metadata": {},
     "output_type": "execute_result"
    }
   ],
   "source": [
    "gdp['2015'].head(5)"
   ]
  },
  {
   "cell_type": "code",
   "execution_count": 56,
   "metadata": {
    "collapsed": false
   },
   "outputs": [
    {
     "data": {
      "text/plain": [
       "0"
      ]
     },
     "execution_count": 56,
     "metadata": {},
     "output_type": "execute_result"
    }
   ],
   "source": [
    "gdp.duplicated().sum()"
   ]
  },
  {
   "cell_type": "markdown",
   "metadata": {},
   "source": [
    "We can see that the timeframe in this dataset covers from 1960 to 2019 for a list of 206 countries.\n",
    "In order to find a potential correlation between fertility and GDP, we will therefore have to:\n",
    "- reduce down the list of countries to those which have both data for fertility and GDP\n",
    "- reduce the timeframe from 1960 to 2019\n",
    "\n",
    "We can also see that every values are string values, for which we will have to:\n",
    "- parse to transform the **'k'** into thousands\n",
    "- change into float\n",
    "\n",
    "Let's see the last dataset referring to the religion"
   ]
  },
  {
   "cell_type": "code",
   "execution_count": 57,
   "metadata": {
    "collapsed": false
   },
   "outputs": [
    {
     "data": {
      "text/html": [
       "<div>\n",
       "<table border=\"1\" class=\"dataframe\">\n",
       "  <thead>\n",
       "    <tr style=\"text-align: right;\">\n",
       "      <th></th>\n",
       "      <th>row_number</th>\n",
       "      <th>level</th>\n",
       "      <th>Nation_fk</th>\n",
       "      <th>Year</th>\n",
       "      <th>Region</th>\n",
       "      <th>Country</th>\n",
       "      <th>All Religions</th>\n",
       "      <th>Buddhists</th>\n",
       "      <th>Christians</th>\n",
       "      <th>Folk Religions</th>\n",
       "      <th>Hindus</th>\n",
       "      <th>Jews</th>\n",
       "      <th>Muslims</th>\n",
       "      <th>Other Religions</th>\n",
       "      <th>Unaffiliated</th>\n",
       "    </tr>\n",
       "  </thead>\n",
       "  <tbody>\n",
       "    <tr>\n",
       "      <th>0</th>\n",
       "      <td>1</td>\n",
       "      <td>3</td>\n",
       "      <td>10000</td>\n",
       "      <td>2010</td>\n",
       "      <td>World</td>\n",
       "      <td>All Countries</td>\n",
       "      <td>100</td>\n",
       "      <td>7.1</td>\n",
       "      <td>31.4</td>\n",
       "      <td>5.9</td>\n",
       "      <td>15.0</td>\n",
       "      <td>&lt; 1.0</td>\n",
       "      <td>23.2</td>\n",
       "      <td>&lt; 1.0</td>\n",
       "      <td>16.4</td>\n",
       "    </tr>\n",
       "    <tr>\n",
       "      <th>1</th>\n",
       "      <td>2</td>\n",
       "      <td>2</td>\n",
       "      <td>1001</td>\n",
       "      <td>2010</td>\n",
       "      <td>North America</td>\n",
       "      <td>All Countries</td>\n",
       "      <td>100</td>\n",
       "      <td>1.1</td>\n",
       "      <td>77.4</td>\n",
       "      <td>&lt; 1.0</td>\n",
       "      <td>&lt; 1.0</td>\n",
       "      <td>1.8</td>\n",
       "      <td>1.0</td>\n",
       "      <td>&lt; 1.0</td>\n",
       "      <td>17.1</td>\n",
       "    </tr>\n",
       "  </tbody>\n",
       "</table>\n",
       "</div>"
      ],
      "text/plain": [
       "   row_number  level  Nation_fk  Year         Region         Country  \\\n",
       "0           1      3      10000  2010          World   All Countries   \n",
       "1           2      2       1001  2010  North America   All Countries   \n",
       "\n",
       "  All Religions Buddhists Christians Folk Religions Hindus   Jews Muslims  \\\n",
       "0           100       7.1       31.4            5.9   15.0  < 1.0    23.2   \n",
       "1           100       1.1       77.4          < 1.0  < 1.0    1.8     1.0   \n",
       "\n",
       "  Other Religions Unaffiliated  \n",
       "0           < 1.0         16.4  \n",
       "1           < 1.0         17.1  "
      ]
     },
     "execution_count": 57,
     "metadata": {},
     "output_type": "execute_result"
    }
   ],
   "source": [
    "religion.head(2)"
   ]
  },
  {
   "cell_type": "code",
   "execution_count": 58,
   "metadata": {
    "collapsed": false
   },
   "outputs": [
    {
     "name": "stdout",
     "output_type": "stream",
     "text": [
      "<class 'pandas.core.frame.DataFrame'>\n",
      "RangeIndex: 1205 entries, 0 to 1204\n",
      "Data columns (total 15 columns):\n",
      "row_number         1205 non-null int64\n",
      "level              1205 non-null int64\n",
      "Nation_fk          1205 non-null int64\n",
      "Year               1205 non-null int64\n",
      "Region             1205 non-null object\n",
      "Country            1205 non-null object\n",
      "All Religions      1205 non-null object\n",
      "Buddhists          1205 non-null object\n",
      "Christians         1205 non-null object\n",
      "Folk Religions     1205 non-null object\n",
      "Hindus             1205 non-null object\n",
      "Jews               1205 non-null object\n",
      "Muslims            1205 non-null object\n",
      "Other Religions    1205 non-null object\n",
      "Unaffiliated       1205 non-null object\n",
      "dtypes: int64(4), object(11)\n",
      "memory usage: 141.3+ KB\n"
     ]
    }
   ],
   "source": [
    "religion.info()"
   ]
  },
  {
   "cell_type": "code",
   "execution_count": 59,
   "metadata": {
    "collapsed": false
   },
   "outputs": [
    {
     "data": {
      "text/plain": [
       "2040    241\n",
       "2030    241\n",
       "2020    241\n",
       "2010    241\n",
       "2050    241\n",
       "Name: Year, dtype: int64"
      ]
     },
     "execution_count": 59,
     "metadata": {},
     "output_type": "execute_result"
    }
   ],
   "source": [
    "religion['Year'].value_counts()"
   ]
  },
  {
   "cell_type": "code",
   "execution_count": 60,
   "metadata": {
    "collapsed": false
   },
   "outputs": [
    {
     "data": {
      "text/plain": [
       "0     31.4\n",
       "1     77.4\n",
       "2     90.0\n",
       "3     74.5\n",
       "4      3.7\n",
       "5     62.9\n",
       "6      7.1\n",
       "7    < 1.0\n",
       "8     18.0\n",
       "9    < 1.0\n",
       "Name: Christians, dtype: object"
      ]
     },
     "execution_count": 60,
     "metadata": {},
     "output_type": "execute_result"
    }
   ],
   "source": [
    "religion['Christians'].head(10)"
   ]
  },
  {
   "cell_type": "code",
   "execution_count": 61,
   "metadata": {
    "collapsed": false
   },
   "outputs": [
    {
     "data": {
      "text/plain": [
       "0"
      ]
     },
     "execution_count": 61,
     "metadata": {},
     "output_type": "execute_result"
    }
   ],
   "source": [
    "religion.duplicated().sum()"
   ]
  },
  {
   "cell_type": "markdown",
   "metadata": {},
   "source": [
    "This dataset enables to group countries per region, and analyze whether there are some regional trends on the fertility rates.\n",
    "<br>5 years of data are included: we will retain only 1 year (2020) as we do not need to investigate the impact of the evolution of religion within a country on the fertility rate\n",
    "<br>Finally, the distribution of religion in each country is given as a string that we will have to convert into floats after taking care of the **'<'** and **'>'** symbols."
   ]
  },
  {
   "cell_type": "markdown",
   "metadata": {},
   "source": [
    "### Data Cleaning"
   ]
  },
  {
   "cell_type": "markdown",
   "metadata": {},
   "source": [
    "Let's start by cleaning the columns of the `fertility` dataset, and creating a reduced copy for exploration of GDP correlation"
   ]
  },
  {
   "cell_type": "code",
   "execution_count": 62,
   "metadata": {
    "collapsed": false
   },
   "outputs": [
    {
     "data": {
      "text/html": [
       "<div>\n",
       "<table border=\"1\" class=\"dataframe\">\n",
       "  <thead>\n",
       "    <tr style=\"text-align: right;\">\n",
       "      <th></th>\n",
       "      <th>Country</th>\n",
       "      <th>1960</th>\n",
       "      <th>1961</th>\n",
       "      <th>1962</th>\n",
       "      <th>1963</th>\n",
       "      <th>1964</th>\n",
       "      <th>1965</th>\n",
       "      <th>1966</th>\n",
       "      <th>1967</th>\n",
       "      <th>1968</th>\n",
       "      <th>...</th>\n",
       "      <th>2010</th>\n",
       "      <th>2011</th>\n",
       "      <th>2012</th>\n",
       "      <th>2013</th>\n",
       "      <th>2014</th>\n",
       "      <th>2015</th>\n",
       "      <th>2016</th>\n",
       "      <th>2017</th>\n",
       "      <th>2018</th>\n",
       "      <th>2019</th>\n",
       "    </tr>\n",
       "  </thead>\n",
       "  <tbody>\n",
       "    <tr>\n",
       "      <th>0</th>\n",
       "      <td>Abkhazia</td>\n",
       "      <td>NaN</td>\n",
       "      <td>NaN</td>\n",
       "      <td>NaN</td>\n",
       "      <td>NaN</td>\n",
       "      <td>NaN</td>\n",
       "      <td>NaN</td>\n",
       "      <td>NaN</td>\n",
       "      <td>NaN</td>\n",
       "      <td>NaN</td>\n",
       "      <td>...</td>\n",
       "      <td>NaN</td>\n",
       "      <td>NaN</td>\n",
       "      <td>NaN</td>\n",
       "      <td>NaN</td>\n",
       "      <td>NaN</td>\n",
       "      <td>NaN</td>\n",
       "      <td>NaN</td>\n",
       "      <td>NaN</td>\n",
       "      <td>NaN</td>\n",
       "      <td>NaN</td>\n",
       "    </tr>\n",
       "    <tr>\n",
       "      <th>1</th>\n",
       "      <td>Afghanistan</td>\n",
       "      <td>7.45</td>\n",
       "      <td>7.45</td>\n",
       "      <td>7.45</td>\n",
       "      <td>7.45</td>\n",
       "      <td>7.45</td>\n",
       "      <td>7.45</td>\n",
       "      <td>7.45</td>\n",
       "      <td>7.45</td>\n",
       "      <td>7.45</td>\n",
       "      <td>...</td>\n",
       "      <td>5.82</td>\n",
       "      <td>5.60</td>\n",
       "      <td>5.38</td>\n",
       "      <td>5.17</td>\n",
       "      <td>4.98</td>\n",
       "      <td>4.80</td>\n",
       "      <td>4.64</td>\n",
       "      <td>4.48</td>\n",
       "      <td>4.33</td>\n",
       "      <td>4.18</td>\n",
       "    </tr>\n",
       "    <tr>\n",
       "      <th>2</th>\n",
       "      <td>Akrotiri and Dhekelia</td>\n",
       "      <td>NaN</td>\n",
       "      <td>NaN</td>\n",
       "      <td>NaN</td>\n",
       "      <td>NaN</td>\n",
       "      <td>NaN</td>\n",
       "      <td>NaN</td>\n",
       "      <td>NaN</td>\n",
       "      <td>NaN</td>\n",
       "      <td>NaN</td>\n",
       "      <td>...</td>\n",
       "      <td>NaN</td>\n",
       "      <td>NaN</td>\n",
       "      <td>NaN</td>\n",
       "      <td>NaN</td>\n",
       "      <td>NaN</td>\n",
       "      <td>NaN</td>\n",
       "      <td>NaN</td>\n",
       "      <td>NaN</td>\n",
       "      <td>NaN</td>\n",
       "      <td>NaN</td>\n",
       "    </tr>\n",
       "    <tr>\n",
       "      <th>3</th>\n",
       "      <td>Albania</td>\n",
       "      <td>6.49</td>\n",
       "      <td>6.40</td>\n",
       "      <td>6.28</td>\n",
       "      <td>6.13</td>\n",
       "      <td>5.96</td>\n",
       "      <td>5.77</td>\n",
       "      <td>5.58</td>\n",
       "      <td>5.39</td>\n",
       "      <td>5.22</td>\n",
       "      <td>...</td>\n",
       "      <td>1.65</td>\n",
       "      <td>1.67</td>\n",
       "      <td>1.69</td>\n",
       "      <td>1.70</td>\n",
       "      <td>1.71</td>\n",
       "      <td>1.71</td>\n",
       "      <td>1.71</td>\n",
       "      <td>1.71</td>\n",
       "      <td>1.71</td>\n",
       "      <td>1.70</td>\n",
       "    </tr>\n",
       "    <tr>\n",
       "      <th>4</th>\n",
       "      <td>Algeria</td>\n",
       "      <td>7.52</td>\n",
       "      <td>7.57</td>\n",
       "      <td>7.61</td>\n",
       "      <td>7.65</td>\n",
       "      <td>7.67</td>\n",
       "      <td>7.68</td>\n",
       "      <td>7.68</td>\n",
       "      <td>7.67</td>\n",
       "      <td>7.67</td>\n",
       "      <td>...</td>\n",
       "      <td>2.89</td>\n",
       "      <td>2.93</td>\n",
       "      <td>2.94</td>\n",
       "      <td>2.92</td>\n",
       "      <td>2.89</td>\n",
       "      <td>2.84</td>\n",
       "      <td>2.78</td>\n",
       "      <td>2.71</td>\n",
       "      <td>2.64</td>\n",
       "      <td>2.59</td>\n",
       "    </tr>\n",
       "  </tbody>\n",
       "</table>\n",
       "<p>5 rows × 61 columns</p>\n",
       "</div>"
      ],
      "text/plain": [
       "                 Country  1960  1961  1962  1963  1964  1965  1966  1967  \\\n",
       "0               Abkhazia   NaN   NaN   NaN   NaN   NaN   NaN   NaN   NaN   \n",
       "1            Afghanistan  7.45  7.45  7.45  7.45  7.45  7.45  7.45  7.45   \n",
       "2  Akrotiri and Dhekelia   NaN   NaN   NaN   NaN   NaN   NaN   NaN   NaN   \n",
       "3                Albania  6.49  6.40  6.28  6.13  5.96  5.77  5.58  5.39   \n",
       "4                Algeria  7.52  7.57  7.61  7.65  7.67  7.68  7.68  7.67   \n",
       "\n",
       "   1968  ...   2010  2011  2012  2013  2014  2015  2016  2017  2018  2019  \n",
       "0   NaN  ...    NaN   NaN   NaN   NaN   NaN   NaN   NaN   NaN   NaN   NaN  \n",
       "1  7.45  ...   5.82  5.60  5.38  5.17  4.98  4.80  4.64  4.48  4.33  4.18  \n",
       "2   NaN  ...    NaN   NaN   NaN   NaN   NaN   NaN   NaN   NaN   NaN   NaN  \n",
       "3  5.22  ...   1.65  1.67  1.69  1.70  1.71  1.71  1.71  1.71  1.71  1.70  \n",
       "4  7.67  ...   2.89  2.93  2.94  2.92  2.89  2.84  2.78  2.71  2.64  2.59  \n",
       "\n",
       "[5 rows x 61 columns]"
      ]
     },
     "execution_count": 62,
     "metadata": {},
     "output_type": "execute_result"
    }
   ],
   "source": [
    "fertility.rename(columns={'geo.name':'Country'},inplace=True)\n",
    "\n",
    "# remove unecessary columns\n",
    "fertility = fertility.drop(['indicator.name','geo','indicator'], axis=1)\n",
    "\n",
    "# Create a list of the columns we want to retain for the correlation analysis\n",
    "columns = [str(x) for x in range(1960,2020)]\n",
    "columns.insert(0,'Country')\n",
    "\n",
    "fertility_sub = fertility[columns]\n",
    "fertility_sub.head()"
   ]
  },
  {
   "cell_type": "markdown",
   "metadata": {},
   "source": [
    "Let's now clean the `gdp` dataset.\n",
    "We need to convert the **'k'** symbol into thousands, and convert the result into integer"
   ]
  },
  {
   "cell_type": "code",
   "execution_count": 63,
   "metadata": {
    "collapsed": false
   },
   "outputs": [
    {
     "data": {
      "text/html": [
       "<div>\n",
       "<table border=\"1\" class=\"dataframe\">\n",
       "  <thead>\n",
       "    <tr style=\"text-align: right;\">\n",
       "      <th></th>\n",
       "      <th>country</th>\n",
       "      <th>1960</th>\n",
       "      <th>1961</th>\n",
       "      <th>1962</th>\n",
       "      <th>1963</th>\n",
       "      <th>1964</th>\n",
       "      <th>1965</th>\n",
       "      <th>1966</th>\n",
       "      <th>1967</th>\n",
       "      <th>1968</th>\n",
       "      <th>...</th>\n",
       "      <th>2010</th>\n",
       "      <th>2011</th>\n",
       "      <th>2012</th>\n",
       "      <th>2013</th>\n",
       "      <th>2014</th>\n",
       "      <th>2015</th>\n",
       "      <th>2016</th>\n",
       "      <th>2017</th>\n",
       "      <th>2018</th>\n",
       "      <th>2019</th>\n",
       "    </tr>\n",
       "  </thead>\n",
       "  <tbody>\n",
       "    <tr>\n",
       "      <th>0</th>\n",
       "      <td>Aruba</td>\n",
       "      <td>NaN</td>\n",
       "      <td>NaN</td>\n",
       "      <td>NaN</td>\n",
       "      <td>NaN</td>\n",
       "      <td>NaN</td>\n",
       "      <td>NaN</td>\n",
       "      <td>NaN</td>\n",
       "      <td>NaN</td>\n",
       "      <td>NaN</td>\n",
       "      <td>...</td>\n",
       "      <td>23500</td>\n",
       "      <td>24200.0</td>\n",
       "      <td>23800.0</td>\n",
       "      <td>24600.0</td>\n",
       "      <td>24600.0</td>\n",
       "      <td>25800.0</td>\n",
       "      <td>26200.0</td>\n",
       "      <td>26600.0</td>\n",
       "      <td>NaN</td>\n",
       "      <td>NaN</td>\n",
       "    </tr>\n",
       "    <tr>\n",
       "      <th>1</th>\n",
       "      <td>Afghanistan</td>\n",
       "      <td>NaN</td>\n",
       "      <td>NaN</td>\n",
       "      <td>NaN</td>\n",
       "      <td>NaN</td>\n",
       "      <td>NaN</td>\n",
       "      <td>NaN</td>\n",
       "      <td>NaN</td>\n",
       "      <td>NaN</td>\n",
       "      <td>NaN</td>\n",
       "      <td>...</td>\n",
       "      <td>543</td>\n",
       "      <td>529.0</td>\n",
       "      <td>576.0</td>\n",
       "      <td>588.0</td>\n",
       "      <td>584.0</td>\n",
       "      <td>574.0</td>\n",
       "      <td>571.0</td>\n",
       "      <td>572.0</td>\n",
       "      <td>568.0</td>\n",
       "      <td>571.0</td>\n",
       "    </tr>\n",
       "    <tr>\n",
       "      <th>2</th>\n",
       "      <td>Angola</td>\n",
       "      <td>NaN</td>\n",
       "      <td>NaN</td>\n",
       "      <td>NaN</td>\n",
       "      <td>NaN</td>\n",
       "      <td>NaN</td>\n",
       "      <td>NaN</td>\n",
       "      <td>NaN</td>\n",
       "      <td>NaN</td>\n",
       "      <td>NaN</td>\n",
       "      <td>...</td>\n",
       "      <td>3590</td>\n",
       "      <td>3580.0</td>\n",
       "      <td>3750.0</td>\n",
       "      <td>3800.0</td>\n",
       "      <td>3840.0</td>\n",
       "      <td>3750.0</td>\n",
       "      <td>3530.0</td>\n",
       "      <td>3410.0</td>\n",
       "      <td>3230.0</td>\n",
       "      <td>3100.0</td>\n",
       "    </tr>\n",
       "    <tr>\n",
       "      <th>3</th>\n",
       "      <td>Albania</td>\n",
       "      <td>NaN</td>\n",
       "      <td>NaN</td>\n",
       "      <td>NaN</td>\n",
       "      <td>NaN</td>\n",
       "      <td>NaN</td>\n",
       "      <td>NaN</td>\n",
       "      <td>NaN</td>\n",
       "      <td>NaN</td>\n",
       "      <td>NaN</td>\n",
       "      <td>...</td>\n",
       "      <td>4090</td>\n",
       "      <td>4210.0</td>\n",
       "      <td>4280.0</td>\n",
       "      <td>4330.0</td>\n",
       "      <td>4410.0</td>\n",
       "      <td>4520.0</td>\n",
       "      <td>4680.0</td>\n",
       "      <td>4860.0</td>\n",
       "      <td>5070.0</td>\n",
       "      <td>5210.0</td>\n",
       "    </tr>\n",
       "    <tr>\n",
       "      <th>4</th>\n",
       "      <td>Andorra</td>\n",
       "      <td>NaN</td>\n",
       "      <td>NaN</td>\n",
       "      <td>NaN</td>\n",
       "      <td>NaN</td>\n",
       "      <td>NaN</td>\n",
       "      <td>NaN</td>\n",
       "      <td>NaN</td>\n",
       "      <td>NaN</td>\n",
       "      <td>NaN</td>\n",
       "      <td>...</td>\n",
       "      <td>40900</td>\n",
       "      <td>41200.0</td>\n",
       "      <td>39800.0</td>\n",
       "      <td>39100.0</td>\n",
       "      <td>40900.0</td>\n",
       "      <td>42100.0</td>\n",
       "      <td>44100.0</td>\n",
       "      <td>44400.0</td>\n",
       "      <td>45100.0</td>\n",
       "      <td>45900.0</td>\n",
       "    </tr>\n",
       "  </tbody>\n",
       "</table>\n",
       "<p>5 rows × 61 columns</p>\n",
       "</div>"
      ],
      "text/plain": [
       "       country  1960  1961  1962  1963  1964  1965  1966  1967  1968   ...     \\\n",
       "0        Aruba   NaN   NaN   NaN   NaN   NaN   NaN   NaN   NaN   NaN   ...      \n",
       "1  Afghanistan   NaN   NaN   NaN   NaN   NaN   NaN   NaN   NaN   NaN   ...      \n",
       "2       Angola   NaN   NaN   NaN   NaN   NaN   NaN   NaN   NaN   NaN   ...      \n",
       "3      Albania   NaN   NaN   NaN   NaN   NaN   NaN   NaN   NaN   NaN   ...      \n",
       "4      Andorra   NaN   NaN   NaN   NaN   NaN   NaN   NaN   NaN   NaN   ...      \n",
       "\n",
       "    2010     2011     2012     2013     2014     2015     2016     2017  \\\n",
       "0  23500  24200.0  23800.0  24600.0  24600.0  25800.0  26200.0  26600.0   \n",
       "1    543    529.0    576.0    588.0    584.0    574.0    571.0    572.0   \n",
       "2   3590   3580.0   3750.0   3800.0   3840.0   3750.0   3530.0   3410.0   \n",
       "3   4090   4210.0   4280.0   4330.0   4410.0   4520.0   4680.0   4860.0   \n",
       "4  40900  41200.0  39800.0  39100.0  40900.0  42100.0  44100.0  44400.0   \n",
       "\n",
       "      2018     2019  \n",
       "0      NaN      NaN  \n",
       "1    568.0    571.0  \n",
       "2   3230.0   3100.0  \n",
       "3   5070.0   5210.0  \n",
       "4  45100.0  45900.0  \n",
       "\n",
       "[5 rows x 61 columns]"
      ]
     },
     "execution_count": 63,
     "metadata": {},
     "output_type": "execute_result"
    }
   ],
   "source": [
    "for col in gdp.columns:\n",
    "    if col != 'country':\n",
    "        gdp[col] = gdp[col].str.replace('k','00')\n",
    "        gdp[col] = gdp[col].str.replace('.','')\n",
    "        # some values within the column are NaN, reason why I use the 'coerce' method\n",
    "        gdp[col] = pd.to_numeric(gdp[col], errors='coerce')\n",
    "        gdp[col] = gdp[col].replace('nan',np.nan)\n",
    "gdp.head()"
   ]
  },
  {
   "cell_type": "markdown",
   "metadata": {},
   "source": [
    "Let's now clean the `religion` dataset.\n",
    "<br>We will first retain only the data for 2020.\n",
    "<br>We also need to convert the cells with a **'<'** symbol into 0, those with **'>'** into 100, and convert the result into integer.\n",
    "<br>Then, the idea would be to retain for each country only the most prevailing religion. Even if the results of potential correlation with fertility rate should be refined or weighted by the ratio of this religion among the others in a given country, let's start with this easier approach. "
   ]
  },
  {
   "cell_type": "markdown",
   "metadata": {},
   "source": [
    "Clean the data"
   ]
  },
  {
   "cell_type": "code",
   "execution_count": 64,
   "metadata": {
    "collapsed": false
   },
   "outputs": [
    {
     "data": {
      "text/html": [
       "<div>\n",
       "<table border=\"1\" class=\"dataframe\">\n",
       "  <thead>\n",
       "    <tr style=\"text-align: right;\">\n",
       "      <th></th>\n",
       "      <th>Region</th>\n",
       "      <th>Country</th>\n",
       "      <th>All Religions</th>\n",
       "      <th>Buddhists</th>\n",
       "      <th>Christians</th>\n",
       "      <th>Folk Religions</th>\n",
       "      <th>Hindus</th>\n",
       "      <th>Jews</th>\n",
       "      <th>Muslims</th>\n",
       "      <th>Other Religions</th>\n",
       "      <th>Unaffiliated</th>\n",
       "    </tr>\n",
       "  </thead>\n",
       "  <tbody>\n",
       "    <tr>\n",
       "      <th>241</th>\n",
       "      <td>World</td>\n",
       "      <td>All Countries</td>\n",
       "      <td>****</td>\n",
       "      <td>6.6</td>\n",
       "      <td>31.1</td>\n",
       "      <td>5.6</td>\n",
       "      <td>15.2</td>\n",
       "      <td>0</td>\n",
       "      <td>24.9</td>\n",
       "      <td>0</td>\n",
       "      <td>15.6</td>\n",
       "    </tr>\n",
       "    <tr>\n",
       "      <th>242</th>\n",
       "      <td>North America</td>\n",
       "      <td>All Countries</td>\n",
       "      <td>100</td>\n",
       "      <td>1.2</td>\n",
       "      <td>74.6</td>\n",
       "      <td>0</td>\n",
       "      <td>0</td>\n",
       "      <td>1.6</td>\n",
       "      <td>1.3</td>\n",
       "      <td>0</td>\n",
       "      <td>19.2</td>\n",
       "    </tr>\n",
       "    <tr>\n",
       "      <th>243</th>\n",
       "      <td>Latin America-Caribbean</td>\n",
       "      <td>All Countries</td>\n",
       "      <td>100</td>\n",
       "      <td>0</td>\n",
       "      <td>89.7</td>\n",
       "      <td>1.8</td>\n",
       "      <td>0</td>\n",
       "      <td>0</td>\n",
       "      <td>0</td>\n",
       "      <td>0</td>\n",
       "      <td>8.0</td>\n",
       "    </tr>\n",
       "    <tr>\n",
       "      <th>244</th>\n",
       "      <td>Europe</td>\n",
       "      <td>All Countries</td>\n",
       "      <td>100</td>\n",
       "      <td>0</td>\n",
       "      <td>72.2</td>\n",
       "      <td>0</td>\n",
       "      <td>0</td>\n",
       "      <td>0</td>\n",
       "      <td>6.8</td>\n",
       "      <td>0</td>\n",
       "      <td>20.0</td>\n",
       "    </tr>\n",
       "    <tr>\n",
       "      <th>245</th>\n",
       "      <td>Middle East-North Africa</td>\n",
       "      <td>All Countries</td>\n",
       "      <td>100</td>\n",
       "      <td>0</td>\n",
       "      <td>3.6</td>\n",
       "      <td>0</td>\n",
       "      <td>0</td>\n",
       "      <td>1.6</td>\n",
       "      <td>93.1</td>\n",
       "      <td>0</td>\n",
       "      <td>0</td>\n",
       "    </tr>\n",
       "  </tbody>\n",
       "</table>\n",
       "</div>"
      ],
      "text/plain": [
       "                       Region         Country All Religions Buddhists  \\\n",
       "241                     World   All Countries          ****       6.6   \n",
       "242             North America   All Countries           100       1.2   \n",
       "243   Latin America-Caribbean   All Countries           100         0   \n",
       "244                    Europe   All Countries           100         0   \n",
       "245  Middle East-North Africa   All Countries           100         0   \n",
       "\n",
       "    Christians Folk Religions Hindus  Jews Muslims Other Religions  \\\n",
       "241       31.1            5.6   15.2     0    24.9               0   \n",
       "242       74.6              0      0   1.6     1.3               0   \n",
       "243       89.7            1.8      0     0       0               0   \n",
       "244       72.2              0      0     0     6.8               0   \n",
       "245        3.6              0      0   1.6    93.1               0   \n",
       "\n",
       "    Unaffiliated  \n",
       "241         15.6  \n",
       "242         19.2  \n",
       "243          8.0  \n",
       "244         20.0  \n",
       "245            0  "
      ]
     },
     "execution_count": 64,
     "metadata": {},
     "output_type": "execute_result"
    }
   ],
   "source": [
    "# retain only 2020 data\n",
    "religion = religion[religion['Year']==2020]\n",
    "# retain only the columns we need\n",
    "religion = religion.drop(['row_number','level','Nation_fk','Year'], axis=1)\n",
    "# parse the data to remove the symbols\n",
    "religion.replace('< 1.0','0',inplace=True)\n",
    "religion.replace('>99.0','100',inplace=True)\n",
    "religion.head()"
   ]
  },
  {
   "cell_type": "markdown",
   "metadata": {},
   "source": [
    "Determine the most prevailing religion"
   ]
  },
  {
   "cell_type": "code",
   "execution_count": 65,
   "metadata": {
    "collapsed": false
   },
   "outputs": [
    {
     "data": {
      "text/html": [
       "<div>\n",
       "<table border=\"1\" class=\"dataframe\">\n",
       "  <thead>\n",
       "    <tr style=\"text-align: right;\">\n",
       "      <th></th>\n",
       "      <th>Region</th>\n",
       "      <th>Country</th>\n",
       "      <th>All Religions</th>\n",
       "      <th>Buddhists</th>\n",
       "      <th>Christians</th>\n",
       "      <th>Folk Religions</th>\n",
       "      <th>Hindus</th>\n",
       "      <th>Jews</th>\n",
       "      <th>Muslims</th>\n",
       "      <th>Other Religions</th>\n",
       "      <th>Unaffiliated</th>\n",
       "      <th>first_religion</th>\n",
       "    </tr>\n",
       "  </thead>\n",
       "  <tbody>\n",
       "    <tr>\n",
       "      <th>241</th>\n",
       "      <td>World</td>\n",
       "      <td>All Countries</td>\n",
       "      <td>****</td>\n",
       "      <td>6.6</td>\n",
       "      <td>31.1</td>\n",
       "      <td>5.6</td>\n",
       "      <td>15.2</td>\n",
       "      <td>0</td>\n",
       "      <td>24.9</td>\n",
       "      <td>0</td>\n",
       "      <td>15.6</td>\n",
       "      <td>Christians</td>\n",
       "    </tr>\n",
       "    <tr>\n",
       "      <th>242</th>\n",
       "      <td>North America</td>\n",
       "      <td>All Countries</td>\n",
       "      <td>100</td>\n",
       "      <td>1.2</td>\n",
       "      <td>74.6</td>\n",
       "      <td>0</td>\n",
       "      <td>0</td>\n",
       "      <td>1.6</td>\n",
       "      <td>1.3</td>\n",
       "      <td>0</td>\n",
       "      <td>19.2</td>\n",
       "      <td>Christians</td>\n",
       "    </tr>\n",
       "    <tr>\n",
       "      <th>243</th>\n",
       "      <td>Latin America-Caribbean</td>\n",
       "      <td>All Countries</td>\n",
       "      <td>100</td>\n",
       "      <td>0</td>\n",
       "      <td>89.7</td>\n",
       "      <td>1.8</td>\n",
       "      <td>0</td>\n",
       "      <td>0</td>\n",
       "      <td>0</td>\n",
       "      <td>0</td>\n",
       "      <td>8.0</td>\n",
       "      <td>Christians</td>\n",
       "    </tr>\n",
       "    <tr>\n",
       "      <th>244</th>\n",
       "      <td>Europe</td>\n",
       "      <td>All Countries</td>\n",
       "      <td>100</td>\n",
       "      <td>0</td>\n",
       "      <td>72.2</td>\n",
       "      <td>0</td>\n",
       "      <td>0</td>\n",
       "      <td>0</td>\n",
       "      <td>6.8</td>\n",
       "      <td>0</td>\n",
       "      <td>20.0</td>\n",
       "      <td>Christians</td>\n",
       "    </tr>\n",
       "    <tr>\n",
       "      <th>245</th>\n",
       "      <td>Middle East-North Africa</td>\n",
       "      <td>All Countries</td>\n",
       "      <td>100</td>\n",
       "      <td>0</td>\n",
       "      <td>3.6</td>\n",
       "      <td>0</td>\n",
       "      <td>0</td>\n",
       "      <td>1.6</td>\n",
       "      <td>93.1</td>\n",
       "      <td>0</td>\n",
       "      <td>0</td>\n",
       "      <td>Muslims</td>\n",
       "    </tr>\n",
       "  </tbody>\n",
       "</table>\n",
       "</div>"
      ],
      "text/plain": [
       "                       Region         Country All Religions Buddhists  \\\n",
       "241                     World   All Countries          ****       6.6   \n",
       "242             North America   All Countries           100       1.2   \n",
       "243   Latin America-Caribbean   All Countries           100         0   \n",
       "244                    Europe   All Countries           100         0   \n",
       "245  Middle East-North Africa   All Countries           100         0   \n",
       "\n",
       "    Christians Folk Religions Hindus  Jews Muslims Other Religions  \\\n",
       "241       31.1            5.6   15.2     0    24.9               0   \n",
       "242       74.6              0      0   1.6     1.3               0   \n",
       "243       89.7            1.8      0     0       0               0   \n",
       "244       72.2              0      0     0     6.8               0   \n",
       "245        3.6              0      0   1.6    93.1               0   \n",
       "\n",
       "    Unaffiliated first_religion  \n",
       "241         15.6     Christians  \n",
       "242         19.2     Christians  \n",
       "243          8.0     Christians  \n",
       "244         20.0     Christians  \n",
       "245            0        Muslims  "
      ]
     },
     "execution_count": 65,
     "metadata": {},
     "output_type": "execute_result"
    }
   ],
   "source": [
    "# create a subset with only the different religions\n",
    "religion_subset = religion.iloc[:,3:11]\n",
    "# get the max prevailing religion\n",
    "religion['first_religion']=religion_subset.idxmax(axis='columns')\n",
    "religion.head()"
   ]
  },
  {
   "cell_type": "markdown",
   "metadata": {},
   "source": [
    "<a id='eda'></a>\n",
    "## Exploratory Data Analysis"
   ]
  },
  {
   "cell_type": "markdown",
   "metadata": {},
   "source": [
    "### How does the mean fertility rate evolve?"
   ]
  },
  {
   "cell_type": "markdown",
   "metadata": {},
   "source": [
    "Let's plot the evolution of the mean global fertility rate and include some key points in the chart.\n",
    "<br> Knowing we will have several plots to do, we will create a function `cust_plot` that will take graph titles for inputs and customize the size of charts"
   ]
  },
  {
   "cell_type": "code",
   "execution_count": 66,
   "metadata": {
    "collapsed": true
   },
   "outputs": [],
   "source": [
    "def cust_plot(title_x,title_y,title_chart):\n",
    "    figure(figsize=(8, 6), dpi=80)\n",
    "    plt.xlabel(title_x)\n",
    "    plt.ylabel(title_y)\n",
    "    plt.title(title_chart)\n",
    "    plt.grid()"
   ]
  },
  {
   "cell_type": "code",
   "execution_count": 67,
   "metadata": {
    "collapsed": false
   },
   "outputs": [
    {
     "data": {
      "image/png": "[encoded data removed]",
      "text/plain": [
       "<matplotlib.figure.Figure at 0x2685d9e35f8>"
      ]
     },
     "metadata": {},
     "output_type": "display_data"
    }
   ],
   "source": [
    "cust_plot('Year','Mean Fertility Rate','Evolution of mean global fertility rate')\n",
    "plt.plot(fertility.columns[1:], fertility.mean())\n",
    "\n",
    "plt.plot(1961,fertility['1961'].mean(), \"or\")\n",
    "plt.annotate(\"In 1961, \"+str(round(fertility['1961'].mean(),1))+\" babies/woman\", (1961, fertility['1961'].mean()),xytext=(10,-5), textcoords='offset points',\n",
    "                family='sans-serif', fontsize=12)\n",
    "plt.plot(2021,fertility['2021'].mean(), \"or\")\n",
    "plt.annotate(\"In 2021, \"+str(round(fertility['2021'].mean(),1))+\" babies/woman\", (2019, fertility['2021'].mean()),xytext=(10,-5), textcoords='offset points',\n",
    "                family='sans-serif', fontsize=12);"
   ]
  },
  {
   "cell_type": "markdown",
   "metadata": {},
   "source": [
    "We can see that the mean global fertility rate abruptally drops from **5.5 babies per woman** in 1961, down to **2.6 babies per woman** in 2021."
   ]
  },
  {
   "cell_type": "markdown",
   "metadata": {},
   "source": [
    "### Are there regional trends in the evolution of the fertility rate?"
   ]
  },
  {
   "cell_type": "markdown",
   "metadata": {},
   "source": [
    "Let's see if there are some regional trends by adding curves relative to each region.\n",
    "<br>To do so, we must first join the `fertility` dataset with the `religion` dataset to associate a country to its region"
   ]
  },
  {
   "cell_type": "code",
   "execution_count": 68,
   "metadata": {
    "collapsed": false
   },
   "outputs": [
    {
     "data": {
      "text/html": [
       "<div>\n",
       "<table border=\"1\" class=\"dataframe\">\n",
       "  <thead>\n",
       "    <tr style=\"text-align: right;\">\n",
       "      <th></th>\n",
       "      <th>Country</th>\n",
       "      <th>1800</th>\n",
       "      <th>1801</th>\n",
       "      <th>1802</th>\n",
       "      <th>1803</th>\n",
       "      <th>1804</th>\n",
       "      <th>1805</th>\n",
       "      <th>1806</th>\n",
       "      <th>1807</th>\n",
       "      <th>1808</th>\n",
       "      <th>...</th>\n",
       "      <th>2093</th>\n",
       "      <th>2094</th>\n",
       "      <th>2095</th>\n",
       "      <th>2096</th>\n",
       "      <th>2097</th>\n",
       "      <th>2098</th>\n",
       "      <th>2099</th>\n",
       "      <th>2100</th>\n",
       "      <th>Region</th>\n",
       "      <th>first_religion</th>\n",
       "    </tr>\n",
       "  </thead>\n",
       "  <tbody>\n",
       "    <tr>\n",
       "      <th>0</th>\n",
       "      <td>Abkhazia</td>\n",
       "      <td>NaN</td>\n",
       "      <td>NaN</td>\n",
       "      <td>NaN</td>\n",
       "      <td>NaN</td>\n",
       "      <td>NaN</td>\n",
       "      <td>NaN</td>\n",
       "      <td>NaN</td>\n",
       "      <td>NaN</td>\n",
       "      <td>NaN</td>\n",
       "      <td>...</td>\n",
       "      <td>NaN</td>\n",
       "      <td>NaN</td>\n",
       "      <td>NaN</td>\n",
       "      <td>NaN</td>\n",
       "      <td>NaN</td>\n",
       "      <td>NaN</td>\n",
       "      <td>NaN</td>\n",
       "      <td>NaN</td>\n",
       "      <td>NaN</td>\n",
       "      <td>NaN</td>\n",
       "    </tr>\n",
       "    <tr>\n",
       "      <th>1</th>\n",
       "      <td>Afghanistan</td>\n",
       "      <td>7.00</td>\n",
       "      <td>7.00</td>\n",
       "      <td>7.00</td>\n",
       "      <td>7.00</td>\n",
       "      <td>7.00</td>\n",
       "      <td>7.00</td>\n",
       "      <td>7.00</td>\n",
       "      <td>7.00</td>\n",
       "      <td>7.00</td>\n",
       "      <td>...</td>\n",
       "      <td>1.74</td>\n",
       "      <td>1.74</td>\n",
       "      <td>1.74</td>\n",
       "      <td>1.74</td>\n",
       "      <td>1.74</td>\n",
       "      <td>1.74</td>\n",
       "      <td>1.74</td>\n",
       "      <td>1.74</td>\n",
       "      <td>Asia-Pacific</td>\n",
       "      <td>Muslims</td>\n",
       "    </tr>\n",
       "    <tr>\n",
       "      <th>2</th>\n",
       "      <td>Akrotiri and Dhekelia</td>\n",
       "      <td>NaN</td>\n",
       "      <td>NaN</td>\n",
       "      <td>NaN</td>\n",
       "      <td>NaN</td>\n",
       "      <td>NaN</td>\n",
       "      <td>NaN</td>\n",
       "      <td>NaN</td>\n",
       "      <td>NaN</td>\n",
       "      <td>NaN</td>\n",
       "      <td>...</td>\n",
       "      <td>NaN</td>\n",
       "      <td>NaN</td>\n",
       "      <td>NaN</td>\n",
       "      <td>NaN</td>\n",
       "      <td>NaN</td>\n",
       "      <td>NaN</td>\n",
       "      <td>NaN</td>\n",
       "      <td>NaN</td>\n",
       "      <td>NaN</td>\n",
       "      <td>NaN</td>\n",
       "    </tr>\n",
       "    <tr>\n",
       "      <th>3</th>\n",
       "      <td>Albania</td>\n",
       "      <td>4.60</td>\n",
       "      <td>4.60</td>\n",
       "      <td>4.60</td>\n",
       "      <td>4.60</td>\n",
       "      <td>4.60</td>\n",
       "      <td>4.60</td>\n",
       "      <td>4.60</td>\n",
       "      <td>4.60</td>\n",
       "      <td>4.60</td>\n",
       "      <td>...</td>\n",
       "      <td>1.78</td>\n",
       "      <td>1.79</td>\n",
       "      <td>1.79</td>\n",
       "      <td>1.79</td>\n",
       "      <td>1.79</td>\n",
       "      <td>1.79</td>\n",
       "      <td>1.79</td>\n",
       "      <td>1.79</td>\n",
       "      <td>Europe</td>\n",
       "      <td>Muslims</td>\n",
       "    </tr>\n",
       "    <tr>\n",
       "      <th>4</th>\n",
       "      <td>Algeria</td>\n",
       "      <td>6.99</td>\n",
       "      <td>6.99</td>\n",
       "      <td>6.99</td>\n",
       "      <td>6.99</td>\n",
       "      <td>6.99</td>\n",
       "      <td>6.99</td>\n",
       "      <td>6.99</td>\n",
       "      <td>6.99</td>\n",
       "      <td>6.99</td>\n",
       "      <td>...</td>\n",
       "      <td>1.86</td>\n",
       "      <td>1.86</td>\n",
       "      <td>1.86</td>\n",
       "      <td>1.86</td>\n",
       "      <td>1.86</td>\n",
       "      <td>1.86</td>\n",
       "      <td>1.86</td>\n",
       "      <td>1.86</td>\n",
       "      <td>Middle East-North Africa</td>\n",
       "      <td>Muslims</td>\n",
       "    </tr>\n",
       "  </tbody>\n",
       "</table>\n",
       "<p>5 rows × 304 columns</p>\n",
       "</div>"
      ],
      "text/plain": [
       "                 Country  1800  1801  1802  1803  1804  1805  1806  1807  \\\n",
       "0               Abkhazia   NaN   NaN   NaN   NaN   NaN   NaN   NaN   NaN   \n",
       "1            Afghanistan  7.00  7.00  7.00  7.00  7.00  7.00  7.00  7.00   \n",
       "2  Akrotiri and Dhekelia   NaN   NaN   NaN   NaN   NaN   NaN   NaN   NaN   \n",
       "3                Albania  4.60  4.60  4.60  4.60  4.60  4.60  4.60  4.60   \n",
       "4                Algeria  6.99  6.99  6.99  6.99  6.99  6.99  6.99  6.99   \n",
       "\n",
       "   1808       ...        2093  2094  2095  2096  2097  2098  2099  2100  \\\n",
       "0   NaN       ...         NaN   NaN   NaN   NaN   NaN   NaN   NaN   NaN   \n",
       "1  7.00       ...        1.74  1.74  1.74  1.74  1.74  1.74  1.74  1.74   \n",
       "2   NaN       ...         NaN   NaN   NaN   NaN   NaN   NaN   NaN   NaN   \n",
       "3  4.60       ...        1.78  1.79  1.79  1.79  1.79  1.79  1.79  1.79   \n",
       "4  6.99       ...        1.86  1.86  1.86  1.86  1.86  1.86  1.86  1.86   \n",
       "\n",
       "                     Region  first_religion  \n",
       "0                       NaN             NaN  \n",
       "1              Asia-Pacific         Muslims  \n",
       "2                       NaN             NaN  \n",
       "3                    Europe         Muslims  \n",
       "4  Middle East-North Africa         Muslims  \n",
       "\n",
       "[5 rows x 304 columns]"
      ]
     },
     "execution_count": 68,
     "metadata": {},
     "output_type": "execute_result"
    }
   ],
   "source": [
    "fertility_enriched = pd.merge(fertility, religion, on='Country', how='left')\n",
    "fertility_enriched = fertility_enriched.drop(fertility_enriched.columns[-10:-1], axis=1)\n",
    "fertility_enriched.head()"
   ]
  },
  {
   "cell_type": "markdown",
   "metadata": {},
   "source": [
    "Let's explore our new `fertility_enriched` dataset"
   ]
  },
  {
   "cell_type": "code",
   "execution_count": 69,
   "metadata": {
    "collapsed": false
   },
   "outputs": [
    {
     "data": {
      "image/png": "[encoded data removed]",
      "text/plain": [
       "<matplotlib.figure.Figure at 0x2685de2e828>"
      ]
     },
     "metadata": {},
     "output_type": "display_data"
    }
   ],
   "source": [
    "fertility_enriched['2021'].hist(by=fertility_enriched['Region'],figsize = (6,8));\n",
    "plt.xlabel('Fertility Rate')\n",
    "plt.ylabel('Frequency');"
   ]
  },
  {
   "cell_type": "code",
   "execution_count": 70,
   "metadata": {
    "collapsed": false
   },
   "outputs": [
    {
     "data": {
      "text/html": [
       "<div>\n",
       "<table border=\"1\" class=\"dataframe\">\n",
       "  <thead>\n",
       "    <tr style=\"text-align: right;\">\n",
       "      <th></th>\n",
       "      <th></th>\n",
       "      <th>2019</th>\n",
       "    </tr>\n",
       "    <tr>\n",
       "      <th>Region</th>\n",
       "      <th></th>\n",
       "      <th></th>\n",
       "    </tr>\n",
       "  </thead>\n",
       "  <tbody>\n",
       "    <tr>\n",
       "      <th rowspan=\"2\" valign=\"top\">Asia-Pacific</th>\n",
       "      <th>mean</th>\n",
       "      <td>2.370455</td>\n",
       "    </tr>\n",
       "    <tr>\n",
       "      <th>std</th>\n",
       "      <td>0.865375</td>\n",
       "    </tr>\n",
       "    <tr>\n",
       "      <th rowspan=\"2\" valign=\"top\">Europe</th>\n",
       "      <th>mean</th>\n",
       "      <td>1.629211</td>\n",
       "    </tr>\n",
       "    <tr>\n",
       "      <th>std</th>\n",
       "      <td>0.201674</td>\n",
       "    </tr>\n",
       "    <tr>\n",
       "      <th rowspan=\"2\" valign=\"top\">Latin America-Caribbean</th>\n",
       "      <th>mean</th>\n",
       "      <td>2.110278</td>\n",
       "    </tr>\n",
       "    <tr>\n",
       "      <th>std</th>\n",
       "      <td>0.398809</td>\n",
       "    </tr>\n",
       "    <tr>\n",
       "      <th rowspan=\"2\" valign=\"top\">Middle East-North Africa</th>\n",
       "      <th>mean</th>\n",
       "      <td>2.622105</td>\n",
       "    </tr>\n",
       "    <tr>\n",
       "      <th>std</th>\n",
       "      <td>0.784358</td>\n",
       "    </tr>\n",
       "    <tr>\n",
       "      <th rowspan=\"2\" valign=\"top\">North America</th>\n",
       "      <th>mean</th>\n",
       "      <td>1.730000</td>\n",
       "    </tr>\n",
       "    <tr>\n",
       "      <th>std</th>\n",
       "      <td>0.240416</td>\n",
       "    </tr>\n",
       "    <tr>\n",
       "      <th rowspan=\"2\" valign=\"top\">Sub-Saharan Africa</th>\n",
       "      <th>mean</th>\n",
       "      <td>4.177660</td>\n",
       "    </tr>\n",
       "    <tr>\n",
       "      <th>std</th>\n",
       "      <td>1.142966</td>\n",
       "    </tr>\n",
       "  </tbody>\n",
       "</table>\n",
       "</div>"
      ],
      "text/plain": [
       "                                   2019\n",
       "Region                                 \n",
       "Asia-Pacific             mean  2.370455\n",
       "                         std   0.865375\n",
       "Europe                   mean  1.629211\n",
       "                         std   0.201674\n",
       "Latin America-Caribbean  mean  2.110278\n",
       "                         std   0.398809\n",
       "Middle East-North Africa mean  2.622105\n",
       "                         std   0.784358\n",
       "North America            mean  1.730000\n",
       "                         std   0.240416\n",
       "Sub-Saharan Africa       mean  4.177660\n",
       "                         std   1.142966"
      ]
     },
     "execution_count": 70,
     "metadata": {},
     "output_type": "execute_result"
    },
    {
     "data": {
      "image/png": "[encoded data removed]",
      "text/plain": [
       "<matplotlib.figure.Figure at 0x2685d847c50>"
      ]
     },
     "metadata": {},
     "output_type": "display_data"
    }
   ],
   "source": [
    "fertility_enriched.boxplot(column=['2021'], by=['Region'], figsize=(15,6))\n",
    "plt.ylabel('Fertility Rate')\n",
    "plt.xlabel('Region');\n",
    "pd.DataFrame(fertility_enriched.groupby(['Region'])['2019'].describe().loc[:,['mean','std']])"
   ]
  },
  {
   "cell_type": "markdown",
   "metadata": {},
   "source": [
    "We can see a small range of data for Europe and North America, whereas data for Asia-Pacific and Sub-Saharan Africa is much more spread, with outliers.\n",
    "<br>Let's have a look at the number of countries in each region to see if these ranges can be explained."
   ]
  },
  {
   "cell_type": "code",
   "execution_count": 71,
   "metadata": {
    "collapsed": false
   },
   "outputs": [
    {
     "data": {
      "text/html": [
       "<div>\n",
       "<table border=\"1\" class=\"dataframe\">\n",
       "  <thead>\n",
       "    <tr style=\"text-align: right;\">\n",
       "      <th></th>\n",
       "      <th>2021</th>\n",
       "    </tr>\n",
       "    <tr>\n",
       "      <th>Region</th>\n",
       "      <th></th>\n",
       "    </tr>\n",
       "  </thead>\n",
       "  <tbody>\n",
       "    <tr>\n",
       "      <th>Asia-Pacific</th>\n",
       "      <td>44</td>\n",
       "    </tr>\n",
       "    <tr>\n",
       "      <th>Europe</th>\n",
       "      <td>38</td>\n",
       "    </tr>\n",
       "    <tr>\n",
       "      <th>Latin America-Caribbean</th>\n",
       "      <td>36</td>\n",
       "    </tr>\n",
       "    <tr>\n",
       "      <th>Middle East-North Africa</th>\n",
       "      <td>19</td>\n",
       "    </tr>\n",
       "    <tr>\n",
       "      <th>North America</th>\n",
       "      <td>2</td>\n",
       "    </tr>\n",
       "    <tr>\n",
       "      <th>Sub-Saharan Africa</th>\n",
       "      <td>47</td>\n",
       "    </tr>\n",
       "  </tbody>\n",
       "</table>\n",
       "</div>"
      ],
      "text/plain": [
       "                          2021\n",
       "Region                        \n",
       "Asia-Pacific                44\n",
       "Europe                      38\n",
       "Latin America-Caribbean     36\n",
       "Middle East-North Africa    19\n",
       "North America                2\n",
       "Sub-Saharan Africa          47"
      ]
     },
     "execution_count": 71,
     "metadata": {},
     "output_type": "execute_result"
    }
   ],
   "source": [
    "fertility_enriched.groupby(['Region'])[['2021']].count()"
   ]
  },
  {
   "cell_type": "markdown",
   "metadata": {},
   "source": [
    "Only 2 countries are in North America, which explains the reduced range of data for this region.\n",
    "<br>But Europe has 38 countries, with a standard deviation of 0.2: the distribution seems to be symetrical and really close to the average value "
   ]
  },
  {
   "cell_type": "markdown",
   "metadata": {},
   "source": [
    "We can now analyze the regional trends"
   ]
  },
  {
   "cell_type": "code",
   "execution_count": 72,
   "metadata": {
    "collapsed": false
   },
   "outputs": [
    {
     "data": {
      "image/png": "[encoded data removed]",
      "text/plain": [
       "<matplotlib.figure.Figure at 0x2685dfa82b0>"
      ]
     },
     "metadata": {},
     "output_type": "display_data"
    }
   ],
   "source": [
    "fertility_region = fertility_enriched.groupby('Region').mean()\n",
    "\n",
    "cust_plot('Year','Mean Fertility Rate','Evolution of mean global fertility rate')\n",
    "\n",
    "for row in range(len(fertility_region)-1):\n",
    "    plt.plot(list(fertility_region.columns), fertility_region.iloc[row,:])\n",
    "\n",
    "plt.plot(fertility.columns[1:], fertility.mean(), 'k-', label='Global')\n",
    "\n",
    "plt.legend(loc='upper right');"
   ]
  },
  {
   "cell_type": "markdown",
   "metadata": {},
   "source": [
    "We can see that, of all the regions available, Asia, Latin America and Middle East fertility rates follow the same trend as the mean global fertility rate.\n",
    "<br>Europe follows also the same trend, but started almost 60 years before.\n",
    "<br>And North America has a complete different trend, decreasing steadily from 1800, with an abrupt bounce back in 1960."
   ]
  },
  {
   "cell_type": "markdown",
   "metadata": {},
   "source": [
    "### Are there trends linked to religion in the evolution of the fertility rate?"
   ]
  },
  {
   "cell_type": "markdown",
   "metadata": {},
   "source": [
    "Since we already joined the `fertility` dataset with the `religion` dataset, let's analyse the trend of each religion on the fertility rate.\n",
    "<br>To do that, we will use the `groupby` function"
   ]
  },
  {
   "cell_type": "code",
   "execution_count": 73,
   "metadata": {
    "collapsed": false
   },
   "outputs": [
    {
     "data": {
      "image/png": "[encoded data removed]",
      "text/plain": [
       "<matplotlib.figure.Figure at 0x2685dfa80b8>"
      ]
     },
     "metadata": {},
     "output_type": "display_data"
    }
   ],
   "source": [
    "fertility_religion = fertility_enriched.groupby('first_religion').mean()\n",
    "\n",
    "cust_plot('Year','Mean Fertility Rate','Evolution of mean global fertility rate')\n",
    "\n",
    "for row in range(len(fertility_religion)-1):\n",
    "    plt.plot(list(fertility_religion.columns), fertility_religion.iloc[row,:])\n",
    "\n",
    "plt.plot(fertility.columns[1:], fertility.mean(), 'k-', label='Global')\n",
    "    \n",
    "plt.legend(loc='upper right');"
   ]
  },
  {
   "cell_type": "markdown",
   "metadata": {},
   "source": [
    "We can disregard the countries mostly Jewish, as the shape of the curve seems to indicate rather limited data available.\n",
    "<br>Christian countries follow the same trend as the global one, but countries with other religions experienced an increase of fertility rate before 1960.\n",
    "<br>It is also interesting to see that countries that are declared as 'Folk Religions' had an abrupt rise of fertility rate between 1900 and 1960, before following the same trend as the global fertility rate."
   ]
  },
  {
   "cell_type": "markdown",
   "metadata": {},
   "source": [
    "### Is there a correlation between GDP and fertility rate?"
   ]
  },
  {
   "cell_type": "markdown",
   "metadata": {},
   "source": [
    "Let's see now if we can find a correlation between the GDP and the fertility rate."
   ]
  },
  {
   "cell_type": "code",
   "execution_count": 74,
   "metadata": {
    "collapsed": false
   },
   "outputs": [
    {
     "data": {
      "image/png": "[encoded data removed]",
      "text/plain": [
       "<matplotlib.figure.Figure at 0x2685df6e208>"
      ]
     },
     "metadata": {},
     "output_type": "display_data"
    }
   ],
   "source": [
    "cust_plot('Mean Fertility Rate','Mean GDP','Fertility Rate vs GDP')\n",
    "\n",
    "plt.scatter(fertility_sub.mean(), gdp.mean());"
   ]
  },
  {
   "cell_type": "markdown",
   "metadata": {},
   "source": [
    "We can see a negative correlation between the fertility rate and the GDP: the more the GDP of a country, the less fertility rate it has"
   ]
  },
  {
   "cell_type": "markdown",
   "metadata": {},
   "source": [
    "<a id='conclusions'></a>\n",
    "## Conclusions"
   ]
  },
  {
   "cell_type": "markdown",
   "metadata": {},
   "source": [
    ">In this report, we first analyzed the evolution of the mean global fertility rate: the mean number of babies per woman dropped drastically from the 1960's.\n"
   ]
  },
  {
   "cell_type": "markdown",
   "metadata": {},
   "source": [
    ">Analyzing the variation for different regions, we saw that all available regions follow the same trend, with the exception of:\n",
    "- Europe that started its decline of mean fertility rate 60 years before the global one\n",
    "- North America that had a sharp decline from 1800, but bounced back in 1960 before following the same trend as the global\n",
    "Note that Australia, Africa and South America are not explicit regions considered in this study"
   ]
  },
  {
   "cell_type": "markdown",
   "metadata": {},
   "source": [
    ">Analyzing the religion trends, countries mostly Christians follow the exact same trend than the global one. Countries with 'folk religion' experienced a sharp increase before the decrease of 1960.\n",
    "<br>It is important to remember that only the most prevailing religion is retained for each country, which means the religions of each country have not been weighted by their distribution.\n",
    "<br>Moreover, the data for unaffiliated, even though they are numbered in the dataset, never shows up as the most prevailing condition for religion."
   ]
  },
  {
   "cell_type": "markdown",
   "metadata": {},
   "source": [
    ">Finally, we found a strong correlation between GDP and fertility rate: the wealthier the country, the fewer babies women have.\n"
   ]
  },
  {
   "cell_type": "markdown",
   "metadata": {},
   "source": [
    "##### I used the stackoverflow website to find tricks to help me in building my code"
   ]
  }
 ],
 "metadata": {
  "kernelspec": {
   "display_name": "Python 3",
   "language": "python",
   "name": "python3"
  },
  "language_info": {
   "codemirror_mode": {
    "name": "ipython",
    "version": 3
   },
   "file_extension": ".py",
   "mimetype": "text/x-python",
   "name": "python",
   "nbconvert_exporter": "python",
   "pygments_lexer": "ipython3",
   "version": "3.6.0"
  }
 },
 "nbformat": 4,
 "nbformat_minor": 2
}
