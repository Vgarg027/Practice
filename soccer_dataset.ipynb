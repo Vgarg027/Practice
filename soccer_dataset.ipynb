{
 "cells": [
  {
   "cell_type": "markdown",
   "metadata": {},
   "source": [
    "> **Tip**: Welcome to the Investigate a Dataset project! You will find tips in quoted sections like this to help organize your approach to your investigation. Before submitting your project, it will be a good idea to go back through your report and remove these sections to make the presentation of your work as tidy as possible. First things first, you might want to double-click this Markdown cell and change the title so that it reflects your dataset and investigation.\n",
    "\n",
    "# Project: Investigate a Soccer Database\n",
    "\n",
    "## Table of Contents\n",
    "<ul>\n",
    "<li><a href=\"#intro\">Introduction</a></li>\n",
    "<li><a href=\"#wrangling\">Data Wrangling</a></li>\n",
    "<li><a href=\"#eda\">Exploratory Data Analysis</a></li>\n",
    "<li><a href=\"#conclusions\">Conclusions</a></li>\n",
    "</ul>"
   ]
  },
  {
   "cell_type": "markdown",
   "metadata": {},
   "source": [
    "<a id='intro'></a>\n",
    "## Introduction\n",
    "\n",
    "> **Tip**: In this section of the report, provide a brief introduction to the dataset you've selected for analysis. At the end of this section, describe the questions that you plan on exploring over the course of the report. Try to build your report around the analysis of at least one dependent variable and three independent variables.\n",
    ">\n",
    "> If you haven't yet selected and downloaded your data, make sure you do that first before coming back here. If you're not sure what questions to ask right now, then make sure you familiarize yourself with the variables and the dataset context for ideas of what to explore."
   ]
  },
  {
   "cell_type": "code",
   "execution_count": 34,
   "metadata": {},
   "outputs": [],
   "source": [
    "# Use this cell to set up import statements for all of the packages that you\n",
    "#   plan to use.\n",
    "import pandas as pd\n",
    "import numpy as np\n",
    "import sqlite3\n",
    "import matplotlib.pyplot as plt\n",
    "import seaborn as sb\n",
    "%matplotlib inline \n",
    "\n",
    "# Remember to include a 'magic word' so that your visualizations are plotted\n",
    "#   inline with the notebook. See this page for more:\n",
    "#   http://ipython.readthedocs.io/en/stable/interactive/magics.html\n",
    "\n",
    "con = sqlite3.connect(\"soccer.sqlite\")\n",
    "\n",
    "df_country = pd.read_sql_query(\"SELECT *from Country\", con) # We read the 'Country' table of the database\n",
    "df_league = pd.read_sql_query(\"SELECT *from League\", con) # We read the 'League' table of the database\n",
    "df_match = pd.read_sql_query(\"SELECT *from Match\", con) # We read the 'Match' table of the database\n",
    "df_player = pd.read_sql_query(\"SELECT *from Player\", con) # We read the 'Player' table of the database\n",
    "df_player_attr = pd.read_sql_query(\"SELECT *from Player_Attributes\", con) # We read the 'Player_Attributes' table of the database\n",
    "df_team = pd.read_sql_query(\"SELECT *from Team\", con) # We read the 'Team' table of the database\n",
    "df_team_attr = pd.read_sql_query(\"SELECT *from Team_Attributes\", con) # We read the 'Team_Attributes' table of the database\n",
    "df_sequence = pd.read_sql_query(\"SELECT *from sqlite_sequence\", con) # We read the 'sqlite_sequence' table of the database"
   ]
  },
  {
   "cell_type": "markdown",
   "metadata": {},
   "source": [
    "We are going to extract the data from SQL database and create the required dataframes"
   ]
  },
  {
   "cell_type": "code",
   "execution_count": 35,
   "metadata": {},
   "outputs": [
    {
     "data": {
      "text/html": [
       "<div>\n",
       "<style scoped>\n",
       "    .dataframe tbody tr th:only-of-type {\n",
       "        vertical-align: middle;\n",
       "    }\n",
       "\n",
       "    .dataframe tbody tr th {\n",
       "        vertical-align: top;\n",
       "    }\n",
       "\n",
       "    .dataframe thead th {\n",
       "        text-align: right;\n",
       "    }\n",
       "</style>\n",
       "<table border=\"1\" class=\"dataframe\">\n",
       "  <thead>\n",
       "    <tr style=\"text-align: right;\">\n",
       "      <th></th>\n",
       "      <th>id</th>\n",
       "      <th>name</th>\n",
       "    </tr>\n",
       "  </thead>\n",
       "  <tbody>\n",
       "    <tr>\n",
       "      <th>0</th>\n",
       "      <td>1</td>\n",
       "      <td>Belgium</td>\n",
       "    </tr>\n",
       "    <tr>\n",
       "      <th>1</th>\n",
       "      <td>1729</td>\n",
       "      <td>England</td>\n",
       "    </tr>\n",
       "  </tbody>\n",
       "</table>\n",
       "</div>"
      ],
      "text/plain": [
       "     id     name\n",
       "0     1  Belgium\n",
       "1  1729  England"
      ]
     },
     "execution_count": 35,
     "metadata": {},
     "output_type": "execute_result"
    }
   ],
   "source": [
    "df_country.head(2)"
   ]
  },
  {
   "cell_type": "code",
   "execution_count": 36,
   "metadata": {},
   "outputs": [
    {
     "data": {
      "text/html": [
       "<div>\n",
       "<style scoped>\n",
       "    .dataframe tbody tr th:only-of-type {\n",
       "        vertical-align: middle;\n",
       "    }\n",
       "\n",
       "    .dataframe tbody tr th {\n",
       "        vertical-align: top;\n",
       "    }\n",
       "\n",
       "    .dataframe thead th {\n",
       "        text-align: right;\n",
       "    }\n",
       "</style>\n",
       "<table border=\"1\" class=\"dataframe\">\n",
       "  <thead>\n",
       "    <tr style=\"text-align: right;\">\n",
       "      <th></th>\n",
       "      <th>id</th>\n",
       "      <th>country_id</th>\n",
       "      <th>name</th>\n",
       "    </tr>\n",
       "  </thead>\n",
       "  <tbody>\n",
       "    <tr>\n",
       "      <th>0</th>\n",
       "      <td>1</td>\n",
       "      <td>1</td>\n",
       "      <td>Belgium Jupiler League</td>\n",
       "    </tr>\n",
       "    <tr>\n",
       "      <th>1</th>\n",
       "      <td>1729</td>\n",
       "      <td>1729</td>\n",
       "      <td>England Premier League</td>\n",
       "    </tr>\n",
       "  </tbody>\n",
       "</table>\n",
       "</div>"
      ],
      "text/plain": [
       "     id  country_id                    name\n",
       "0     1           1  Belgium Jupiler League\n",
       "1  1729        1729  England Premier League"
      ]
     },
     "execution_count": 36,
     "metadata": {},
     "output_type": "execute_result"
    }
   ],
   "source": [
    "df_league.head(2)"
   ]
  },
  {
   "cell_type": "code",
   "execution_count": 37,
   "metadata": {},
   "outputs": [
    {
     "data": {
      "text/html": [
       "<div>\n",
       "<style scoped>\n",
       "    .dataframe tbody tr th:only-of-type {\n",
       "        vertical-align: middle;\n",
       "    }\n",
       "\n",
       "    .dataframe tbody tr th {\n",
       "        vertical-align: top;\n",
       "    }\n",
       "\n",
       "    .dataframe thead th {\n",
       "        text-align: right;\n",
       "    }\n",
       "</style>\n",
       "<table border=\"1\" class=\"dataframe\">\n",
       "  <thead>\n",
       "    <tr style=\"text-align: right;\">\n",
       "      <th></th>\n",
       "      <th>id</th>\n",
       "      <th>country_id</th>\n",
       "      <th>name_x</th>\n",
       "      <th>name_y</th>\n",
       "    </tr>\n",
       "  </thead>\n",
       "  <tbody>\n",
       "    <tr>\n",
       "      <th>0</th>\n",
       "      <td>1</td>\n",
       "      <td>1</td>\n",
       "      <td>Belgium Jupiler League</td>\n",
       "      <td>Belgium</td>\n",
       "    </tr>\n",
       "    <tr>\n",
       "      <th>1</th>\n",
       "      <td>1729</td>\n",
       "      <td>1729</td>\n",
       "      <td>England Premier League</td>\n",
       "      <td>England</td>\n",
       "    </tr>\n",
       "    <tr>\n",
       "      <th>2</th>\n",
       "      <td>4769</td>\n",
       "      <td>4769</td>\n",
       "      <td>France Ligue 1</td>\n",
       "      <td>France</td>\n",
       "    </tr>\n",
       "    <tr>\n",
       "      <th>3</th>\n",
       "      <td>7809</td>\n",
       "      <td>7809</td>\n",
       "      <td>Germany 1. Bundesliga</td>\n",
       "      <td>Germany</td>\n",
       "    </tr>\n",
       "    <tr>\n",
       "      <th>4</th>\n",
       "      <td>10257</td>\n",
       "      <td>10257</td>\n",
       "      <td>Italy Serie A</td>\n",
       "      <td>Italy</td>\n",
       "    </tr>\n",
       "    <tr>\n",
       "      <th>5</th>\n",
       "      <td>13274</td>\n",
       "      <td>13274</td>\n",
       "      <td>Netherlands Eredivisie</td>\n",
       "      <td>Netherlands</td>\n",
       "    </tr>\n",
       "    <tr>\n",
       "      <th>6</th>\n",
       "      <td>15722</td>\n",
       "      <td>15722</td>\n",
       "      <td>Poland Ekstraklasa</td>\n",
       "      <td>Poland</td>\n",
       "    </tr>\n",
       "    <tr>\n",
       "      <th>7</th>\n",
       "      <td>17642</td>\n",
       "      <td>17642</td>\n",
       "      <td>Portugal Liga ZON Sagres</td>\n",
       "      <td>Portugal</td>\n",
       "    </tr>\n",
       "    <tr>\n",
       "      <th>8</th>\n",
       "      <td>19694</td>\n",
       "      <td>19694</td>\n",
       "      <td>Scotland Premier League</td>\n",
       "      <td>Scotland</td>\n",
       "    </tr>\n",
       "    <tr>\n",
       "      <th>9</th>\n",
       "      <td>21518</td>\n",
       "      <td>21518</td>\n",
       "      <td>Spain LIGA BBVA</td>\n",
       "      <td>Spain</td>\n",
       "    </tr>\n",
       "    <tr>\n",
       "      <th>10</th>\n",
       "      <td>24558</td>\n",
       "      <td>24558</td>\n",
       "      <td>Switzerland Super League</td>\n",
       "      <td>Switzerland</td>\n",
       "    </tr>\n",
       "  </tbody>\n",
       "</table>\n",
       "</div>"
      ],
      "text/plain": [
       "       id  country_id                    name_x       name_y\n",
       "0       1           1    Belgium Jupiler League      Belgium\n",
       "1    1729        1729    England Premier League      England\n",
       "2    4769        4769            France Ligue 1       France\n",
       "3    7809        7809     Germany 1. Bundesliga      Germany\n",
       "4   10257       10257             Italy Serie A        Italy\n",
       "5   13274       13274    Netherlands Eredivisie  Netherlands\n",
       "6   15722       15722        Poland Ekstraklasa       Poland\n",
       "7   17642       17642  Portugal Liga ZON Sagres     Portugal\n",
       "8   19694       19694   Scotland Premier League     Scotland\n",
       "9   21518       21518           Spain LIGA BBVA        Spain\n",
       "10  24558       24558  Switzerland Super League  Switzerland"
      ]
     },
     "execution_count": 37,
     "metadata": {},
     "output_type": "execute_result"
    }
   ],
   "source": [
    "df_cleague=pd.merge(df_league, df_country,how='inner',on=['id']) # We are going to put togther the league names to their corresponding countries.\n",
    "df_cleague"
   ]
  },
  {
   "cell_type": "markdown",
   "metadata": {},
   "source": [
    "We are going to merge the country and league dataframes by joining the 'id' column innerly. This way we will know the league name in each country"
   ]
  },
  {
   "cell_type": "code",
   "execution_count": 38,
   "metadata": {},
   "outputs": [
    {
     "data": {
      "text/html": [
       "<div>\n",
       "<style scoped>\n",
       "    .dataframe tbody tr th:only-of-type {\n",
       "        vertical-align: middle;\n",
       "    }\n",
       "\n",
       "    .dataframe tbody tr th {\n",
       "        vertical-align: top;\n",
       "    }\n",
       "\n",
       "    .dataframe thead th {\n",
       "        text-align: right;\n",
       "    }\n",
       "</style>\n",
       "<table border=\"1\" class=\"dataframe\">\n",
       "  <thead>\n",
       "    <tr style=\"text-align: right;\">\n",
       "      <th></th>\n",
       "      <th>id</th>\n",
       "      <th>country_id</th>\n",
       "      <th>league_name</th>\n",
       "      <th>country</th>\n",
       "    </tr>\n",
       "  </thead>\n",
       "  <tbody>\n",
       "    <tr>\n",
       "      <th>0</th>\n",
       "      <td>1</td>\n",
       "      <td>1</td>\n",
       "      <td>Belgium Jupiler League</td>\n",
       "      <td>Belgium</td>\n",
       "    </tr>\n",
       "    <tr>\n",
       "      <th>1</th>\n",
       "      <td>1729</td>\n",
       "      <td>1729</td>\n",
       "      <td>England Premier League</td>\n",
       "      <td>England</td>\n",
       "    </tr>\n",
       "  </tbody>\n",
       "</table>\n",
       "</div>"
      ],
      "text/plain": [
       "     id  country_id             league_name  country\n",
       "0     1           1  Belgium Jupiler League  Belgium\n",
       "1  1729        1729  England Premier League  England"
      ]
     },
     "execution_count": 38,
     "metadata": {},
     "output_type": "execute_result"
    }
   ],
   "source": [
    "df_cleague.rename(columns={'name_x':'league_name','name_y':'country'},inplace=True)\n",
    "df_cleague.head(2)"
   ]
  },
  {
   "cell_type": "markdown",
   "metadata": {},
   "source": [
    "We have changed the column names to directly specify which column belongs to the country and which to the league name."
   ]
  },
  {
   "cell_type": "code",
   "execution_count": 39,
   "metadata": {},
   "outputs": [
    {
     "data": {
      "text/html": [
       "<div>\n",
       "<style scoped>\n",
       "    .dataframe tbody tr th:only-of-type {\n",
       "        vertical-align: middle;\n",
       "    }\n",
       "\n",
       "    .dataframe tbody tr th {\n",
       "        vertical-align: top;\n",
       "    }\n",
       "\n",
       "    .dataframe thead th {\n",
       "        text-align: right;\n",
       "    }\n",
       "</style>\n",
       "<table border=\"1\" class=\"dataframe\">\n",
       "  <thead>\n",
       "    <tr style=\"text-align: right;\">\n",
       "      <th></th>\n",
       "      <th>id</th>\n",
       "      <th>country_id</th>\n",
       "      <th>league_id</th>\n",
       "      <th>season</th>\n",
       "      <th>stage</th>\n",
       "      <th>date</th>\n",
       "      <th>match</th>\n",
       "      <th>home_team_api_id</th>\n",
       "      <th>away_team_api_id</th>\n",
       "      <th>home_team_goal</th>\n",
       "      <th>...</th>\n",
       "      <th>SJA</th>\n",
       "      <th>VCH</th>\n",
       "      <th>VCD</th>\n",
       "      <th>VCA</th>\n",
       "      <th>GBH</th>\n",
       "      <th>GBD</th>\n",
       "      <th>GBA</th>\n",
       "      <th>BSH</th>\n",
       "      <th>BSD</th>\n",
       "      <th>BSA</th>\n",
       "    </tr>\n",
       "  </thead>\n",
       "  <tbody>\n",
       "    <tr>\n",
       "      <th>0</th>\n",
       "      <td>1</td>\n",
       "      <td>1</td>\n",
       "      <td>1</td>\n",
       "      <td>2008/2009</td>\n",
       "      <td>1</td>\n",
       "      <td>2008-08-17 00:00:00</td>\n",
       "      <td>492473</td>\n",
       "      <td>9987</td>\n",
       "      <td>9993</td>\n",
       "      <td>1</td>\n",
       "      <td>...</td>\n",
       "      <td>4.0</td>\n",
       "      <td>1.65</td>\n",
       "      <td>3.40</td>\n",
       "      <td>4.50</td>\n",
       "      <td>1.78</td>\n",
       "      <td>3.25</td>\n",
       "      <td>4.00</td>\n",
       "      <td>1.73</td>\n",
       "      <td>3.40</td>\n",
       "      <td>4.2</td>\n",
       "    </tr>\n",
       "    <tr>\n",
       "      <th>1</th>\n",
       "      <td>2</td>\n",
       "      <td>1</td>\n",
       "      <td>1</td>\n",
       "      <td>2008/2009</td>\n",
       "      <td>1</td>\n",
       "      <td>2008-08-16 00:00:00</td>\n",
       "      <td>492474</td>\n",
       "      <td>10000</td>\n",
       "      <td>9994</td>\n",
       "      <td>0</td>\n",
       "      <td>...</td>\n",
       "      <td>3.8</td>\n",
       "      <td>2.00</td>\n",
       "      <td>3.25</td>\n",
       "      <td>3.25</td>\n",
       "      <td>1.85</td>\n",
       "      <td>3.25</td>\n",
       "      <td>3.75</td>\n",
       "      <td>1.91</td>\n",
       "      <td>3.25</td>\n",
       "      <td>3.6</td>\n",
       "    </tr>\n",
       "  </tbody>\n",
       "</table>\n",
       "<p>2 rows × 115 columns</p>\n",
       "</div>"
      ],
      "text/plain": [
       "   id  country_id  league_id     season  stage                 date   match  \\\n",
       "0   1           1          1  2008/2009      1  2008-08-17 00:00:00  492473   \n",
       "1   2           1          1  2008/2009      1  2008-08-16 00:00:00  492474   \n",
       "\n",
       "   home_team_api_id  away_team_api_id  home_team_goal  ...  SJA   VCH   VCD  \\\n",
       "0              9987              9993               1  ...  4.0  1.65  3.40   \n",
       "1             10000              9994               0  ...  3.8  2.00  3.25   \n",
       "\n",
       "    VCA   GBH   GBD   GBA   BSH   BSD  BSA  \n",
       "0  4.50  1.78  3.25  4.00  1.73  3.40  4.2  \n",
       "1  3.25  1.85  3.25  3.75  1.91  3.25  3.6  \n",
       "\n",
       "[2 rows x 115 columns]"
      ]
     },
     "execution_count": 39,
     "metadata": {},
     "output_type": "execute_result"
    }
   ],
   "source": [
    "df_match.rename(columns={'match_api_id':'match'},inplace=True)\n",
    "df_match.head(2)"
   ]
  },
  {
   "cell_type": "markdown",
   "metadata": {},
   "source": [
    "The column 'match_api_id' name was changed for 'match' name"
   ]
  },
  {
   "cell_type": "code",
   "execution_count": 40,
   "metadata": {},
   "outputs": [
    {
     "name": "stdout",
     "output_type": "stream",
     "text": [
      "<class 'pandas.core.frame.DataFrame'>\n",
      "RangeIndex: 25979 entries, 0 to 25978\n",
      "Data columns (total 31 columns):\n",
      " #   Column  Non-Null Count  Dtype  \n",
      "---  ------  --------------  -----  \n",
      " 0   match   25979 non-null  int64  \n",
      " 1   B365H   22592 non-null  float64\n",
      " 2   B365D   22592 non-null  float64\n",
      " 3   B365A   22592 non-null  float64\n",
      " 4   BWH     22575 non-null  float64\n",
      " 5   BWD     22575 non-null  float64\n",
      " 6   BWA     22575 non-null  float64\n",
      " 7   IWH     22520 non-null  float64\n",
      " 8   IWD     22520 non-null  float64\n",
      " 9   IWA     22520 non-null  float64\n",
      " 10  LBH     22556 non-null  float64\n",
      " 11  LBD     22556 non-null  float64\n",
      " 12  LBA     22556 non-null  float64\n",
      " 13  PSH     11168 non-null  float64\n",
      " 14  PSD     11168 non-null  float64\n",
      " 15  PSA     11168 non-null  float64\n",
      " 16  WHH     22571 non-null  float64\n",
      " 17  WHD     22571 non-null  float64\n",
      " 18  WHA     22571 non-null  float64\n",
      " 19  SJH     17097 non-null  float64\n",
      " 20  SJD     17097 non-null  float64\n",
      " 21  SJA     17097 non-null  float64\n",
      " 22  VCH     22568 non-null  float64\n",
      " 23  VCD     22568 non-null  float64\n",
      " 24  VCA     22568 non-null  float64\n",
      " 25  GBH     14162 non-null  float64\n",
      " 26  GBD     14162 non-null  float64\n",
      " 27  GBA     14162 non-null  float64\n",
      " 28  BSH     14161 non-null  float64\n",
      " 29  BSD     14161 non-null  float64\n",
      " 30  BSA     14161 non-null  float64\n",
      "dtypes: float64(30), int64(1)\n",
      "memory usage: 6.1 MB\n"
     ]
    }
   ],
   "source": [
    "df_odd=df_match.iloc[:,np.r_[6,85:115]] \n",
    "df_odd.info()"
   ]
  },
  {
   "cell_type": "markdown",
   "metadata": {},
   "source": [
    "We have created dataframe containing just the betting odds and the match, so we can identify the correspondind odd for each match."
   ]
  },
  {
   "cell_type": "code",
   "execution_count": 41,
   "metadata": {},
   "outputs": [
    {
     "name": "stdout",
     "output_type": "stream",
     "text": [
      "<class 'pandas.core.frame.DataFrame'>\n",
      "Int64Index: 22597 entries, 0 to 24556\n",
      "Data columns (total 31 columns):\n",
      " #   Column  Non-Null Count  Dtype  \n",
      "---  ------  --------------  -----  \n",
      " 0   match   22597 non-null  int64  \n",
      " 1   B365H   22592 non-null  float64\n",
      " 2   B365D   22592 non-null  float64\n",
      " 3   B365A   22592 non-null  float64\n",
      " 4   BWH     22575 non-null  float64\n",
      " 5   BWD     22575 non-null  float64\n",
      " 6   BWA     22575 non-null  float64\n",
      " 7   IWH     22520 non-null  float64\n",
      " 8   IWD     22520 non-null  float64\n",
      " 9   IWA     22520 non-null  float64\n",
      " 10  LBH     22556 non-null  float64\n",
      " 11  LBD     22556 non-null  float64\n",
      " 12  LBA     22556 non-null  float64\n",
      " 13  PSH     11168 non-null  float64\n",
      " 14  PSD     11168 non-null  float64\n",
      " 15  PSA     11168 non-null  float64\n",
      " 16  WHH     22571 non-null  float64\n",
      " 17  WHD     22571 non-null  float64\n",
      " 18  WHA     22571 non-null  float64\n",
      " 19  SJH     17097 non-null  float64\n",
      " 20  SJD     17097 non-null  float64\n",
      " 21  SJA     17097 non-null  float64\n",
      " 22  VCH     22568 non-null  float64\n",
      " 23  VCD     22568 non-null  float64\n",
      " 24  VCA     22568 non-null  float64\n",
      " 25  GBH     14162 non-null  float64\n",
      " 26  GBD     14162 non-null  float64\n",
      " 27  GBA     14162 non-null  float64\n",
      " 28  BSH     14161 non-null  float64\n",
      " 29  BSD     14161 non-null  float64\n",
      " 30  BSA     14161 non-null  float64\n",
      "dtypes: float64(30), int64(1)\n",
      "memory usage: 5.5 MB\n"
     ]
    }
   ],
   "source": [
    "df_odd=df_odd.dropna(thresh=3) \n",
    "df_odd.info()"
   ]
  },
  {
   "cell_type": "markdown",
   "metadata": {},
   "source": [
    "We delete the rows, where the amount of values different to NaN is less than 3."
   ]
  },
  {
   "cell_type": "code",
   "execution_count": 42,
   "metadata": {},
   "outputs": [
    {
     "data": {
      "text/html": [
       "<div>\n",
       "<style scoped>\n",
       "    .dataframe tbody tr th:only-of-type {\n",
       "        vertical-align: middle;\n",
       "    }\n",
       "\n",
       "    .dataframe tbody tr th {\n",
       "        vertical-align: top;\n",
       "    }\n",
       "\n",
       "    .dataframe thead th {\n",
       "        text-align: right;\n",
       "    }\n",
       "</style>\n",
       "<table border=\"1\" class=\"dataframe\">\n",
       "  <thead>\n",
       "    <tr style=\"text-align: right;\">\n",
       "      <th></th>\n",
       "      <th>match</th>\n",
       "      <th>B365H</th>\n",
       "      <th>B365D</th>\n",
       "      <th>B365A</th>\n",
       "      <th>BWH</th>\n",
       "      <th>BWD</th>\n",
       "      <th>BWA</th>\n",
       "      <th>IWH</th>\n",
       "      <th>IWD</th>\n",
       "      <th>IWA</th>\n",
       "      <th>...</th>\n",
       "      <th>SJA</th>\n",
       "      <th>VCH</th>\n",
       "      <th>VCD</th>\n",
       "      <th>VCA</th>\n",
       "      <th>GBH</th>\n",
       "      <th>GBD</th>\n",
       "      <th>GBA</th>\n",
       "      <th>BSH</th>\n",
       "      <th>BSD</th>\n",
       "      <th>BSA</th>\n",
       "    </tr>\n",
       "  </thead>\n",
       "  <tbody>\n",
       "    <tr>\n",
       "      <th>0</th>\n",
       "      <td>492473</td>\n",
       "      <td>1.73</td>\n",
       "      <td>3.40</td>\n",
       "      <td>5.00</td>\n",
       "      <td>1.75</td>\n",
       "      <td>3.35</td>\n",
       "      <td>4.20</td>\n",
       "      <td>1.85</td>\n",
       "      <td>3.2</td>\n",
       "      <td>3.5</td>\n",
       "      <td>...</td>\n",
       "      <td>4.00</td>\n",
       "      <td>1.65</td>\n",
       "      <td>3.40</td>\n",
       "      <td>4.50</td>\n",
       "      <td>1.78</td>\n",
       "      <td>3.25</td>\n",
       "      <td>4.00</td>\n",
       "      <td>1.73</td>\n",
       "      <td>3.40</td>\n",
       "      <td>4.20</td>\n",
       "    </tr>\n",
       "    <tr>\n",
       "      <th>1</th>\n",
       "      <td>492474</td>\n",
       "      <td>1.95</td>\n",
       "      <td>3.20</td>\n",
       "      <td>3.60</td>\n",
       "      <td>1.80</td>\n",
       "      <td>3.30</td>\n",
       "      <td>3.95</td>\n",
       "      <td>1.90</td>\n",
       "      <td>3.2</td>\n",
       "      <td>3.5</td>\n",
       "      <td>...</td>\n",
       "      <td>3.80</td>\n",
       "      <td>2.00</td>\n",
       "      <td>3.25</td>\n",
       "      <td>3.25</td>\n",
       "      <td>1.85</td>\n",
       "      <td>3.25</td>\n",
       "      <td>3.75</td>\n",
       "      <td>1.91</td>\n",
       "      <td>3.25</td>\n",
       "      <td>3.60</td>\n",
       "    </tr>\n",
       "    <tr>\n",
       "      <th>2</th>\n",
       "      <td>492475</td>\n",
       "      <td>2.38</td>\n",
       "      <td>3.30</td>\n",
       "      <td>2.75</td>\n",
       "      <td>2.40</td>\n",
       "      <td>3.30</td>\n",
       "      <td>2.55</td>\n",
       "      <td>2.60</td>\n",
       "      <td>3.1</td>\n",
       "      <td>2.3</td>\n",
       "      <td>...</td>\n",
       "      <td>2.50</td>\n",
       "      <td>2.35</td>\n",
       "      <td>3.25</td>\n",
       "      <td>2.65</td>\n",
       "      <td>2.50</td>\n",
       "      <td>3.20</td>\n",
       "      <td>2.50</td>\n",
       "      <td>2.30</td>\n",
       "      <td>3.20</td>\n",
       "      <td>2.75</td>\n",
       "    </tr>\n",
       "    <tr>\n",
       "      <th>3</th>\n",
       "      <td>492476</td>\n",
       "      <td>1.44</td>\n",
       "      <td>3.75</td>\n",
       "      <td>7.50</td>\n",
       "      <td>1.40</td>\n",
       "      <td>4.00</td>\n",
       "      <td>6.80</td>\n",
       "      <td>1.40</td>\n",
       "      <td>3.9</td>\n",
       "      <td>6.0</td>\n",
       "      <td>...</td>\n",
       "      <td>7.50</td>\n",
       "      <td>1.45</td>\n",
       "      <td>3.75</td>\n",
       "      <td>6.50</td>\n",
       "      <td>1.50</td>\n",
       "      <td>3.75</td>\n",
       "      <td>5.50</td>\n",
       "      <td>1.44</td>\n",
       "      <td>3.75</td>\n",
       "      <td>6.50</td>\n",
       "    </tr>\n",
       "    <tr>\n",
       "      <th>4</th>\n",
       "      <td>492477</td>\n",
       "      <td>5.00</td>\n",
       "      <td>3.50</td>\n",
       "      <td>1.65</td>\n",
       "      <td>5.00</td>\n",
       "      <td>3.50</td>\n",
       "      <td>1.60</td>\n",
       "      <td>4.00</td>\n",
       "      <td>3.3</td>\n",
       "      <td>1.7</td>\n",
       "      <td>...</td>\n",
       "      <td>1.73</td>\n",
       "      <td>4.50</td>\n",
       "      <td>3.40</td>\n",
       "      <td>1.65</td>\n",
       "      <td>4.50</td>\n",
       "      <td>3.50</td>\n",
       "      <td>1.65</td>\n",
       "      <td>4.75</td>\n",
       "      <td>3.30</td>\n",
       "      <td>1.67</td>\n",
       "    </tr>\n",
       "  </tbody>\n",
       "</table>\n",
       "<p>5 rows × 31 columns</p>\n",
       "</div>"
      ],
      "text/plain": [
       "    match  B365H  B365D  B365A   BWH   BWD   BWA   IWH  IWD  IWA  ...   SJA  \\\n",
       "0  492473   1.73   3.40   5.00  1.75  3.35  4.20  1.85  3.2  3.5  ...  4.00   \n",
       "1  492474   1.95   3.20   3.60  1.80  3.30  3.95  1.90  3.2  3.5  ...  3.80   \n",
       "2  492475   2.38   3.30   2.75  2.40  3.30  2.55  2.60  3.1  2.3  ...  2.50   \n",
       "3  492476   1.44   3.75   7.50  1.40  4.00  6.80  1.40  3.9  6.0  ...  7.50   \n",
       "4  492477   5.00   3.50   1.65  5.00  3.50  1.60  4.00  3.3  1.7  ...  1.73   \n",
       "\n",
       "    VCH   VCD   VCA   GBH   GBD   GBA   BSH   BSD   BSA  \n",
       "0  1.65  3.40  4.50  1.78  3.25  4.00  1.73  3.40  4.20  \n",
       "1  2.00  3.25  3.25  1.85  3.25  3.75  1.91  3.25  3.60  \n",
       "2  2.35  3.25  2.65  2.50  3.20  2.50  2.30  3.20  2.75  \n",
       "3  1.45  3.75  6.50  1.50  3.75  5.50  1.44  3.75  6.50  \n",
       "4  4.50  3.40  1.65  4.50  3.50  1.65  4.75  3.30  1.67  \n",
       "\n",
       "[5 rows x 31 columns]"
      ]
     },
     "execution_count": 42,
     "metadata": {},
     "output_type": "execute_result"
    }
   ],
   "source": [
    "df_odd.head()"
   ]
  },
  {
   "cell_type": "code",
   "execution_count": 43,
   "metadata": {},
   "outputs": [
    {
     "data": {
      "text/html": [
       "<div>\n",
       "<style scoped>\n",
       "    .dataframe tbody tr th:only-of-type {\n",
       "        vertical-align: middle;\n",
       "    }\n",
       "\n",
       "    .dataframe tbody tr th {\n",
       "        vertical-align: top;\n",
       "    }\n",
       "\n",
       "    .dataframe thead th {\n",
       "        text-align: right;\n",
       "    }\n",
       "</style>\n",
       "<table border=\"1\" class=\"dataframe\">\n",
       "  <thead>\n",
       "    <tr style=\"text-align: right;\">\n",
       "      <th></th>\n",
       "      <th>match</th>\n",
       "      <th>B365H</th>\n",
       "      <th>B365D</th>\n",
       "      <th>B365A</th>\n",
       "      <th>BWH</th>\n",
       "      <th>BWD</th>\n",
       "      <th>BWA</th>\n",
       "      <th>IWH</th>\n",
       "      <th>IWD</th>\n",
       "      <th>IWA</th>\n",
       "      <th>...</th>\n",
       "      <th>VCA</th>\n",
       "      <th>GBH</th>\n",
       "      <th>GBD</th>\n",
       "      <th>GBA</th>\n",
       "      <th>BSH</th>\n",
       "      <th>BSD</th>\n",
       "      <th>BSA</th>\n",
       "      <th>mean_oddh</th>\n",
       "      <th>mean_oddd</th>\n",
       "      <th>mean_odda</th>\n",
       "    </tr>\n",
       "  </thead>\n",
       "  <tbody>\n",
       "    <tr>\n",
       "      <th>0</th>\n",
       "      <td>492473</td>\n",
       "      <td>1.73</td>\n",
       "      <td>3.40</td>\n",
       "      <td>5.00</td>\n",
       "      <td>1.75</td>\n",
       "      <td>3.35</td>\n",
       "      <td>4.20</td>\n",
       "      <td>1.85</td>\n",
       "      <td>3.2</td>\n",
       "      <td>3.5</td>\n",
       "      <td>...</td>\n",
       "      <td>4.50</td>\n",
       "      <td>1.78</td>\n",
       "      <td>3.25</td>\n",
       "      <td>4.00</td>\n",
       "      <td>1.73</td>\n",
       "      <td>3.40</td>\n",
       "      <td>4.20</td>\n",
       "      <td>1.765556</td>\n",
       "      <td>3.322222</td>\n",
       "      <td>4.164444</td>\n",
       "    </tr>\n",
       "    <tr>\n",
       "      <th>1</th>\n",
       "      <td>492474</td>\n",
       "      <td>1.95</td>\n",
       "      <td>3.20</td>\n",
       "      <td>3.60</td>\n",
       "      <td>1.80</td>\n",
       "      <td>3.30</td>\n",
       "      <td>3.95</td>\n",
       "      <td>1.90</td>\n",
       "      <td>3.2</td>\n",
       "      <td>3.5</td>\n",
       "      <td>...</td>\n",
       "      <td>3.25</td>\n",
       "      <td>1.85</td>\n",
       "      <td>3.25</td>\n",
       "      <td>3.75</td>\n",
       "      <td>1.91</td>\n",
       "      <td>3.25</td>\n",
       "      <td>3.60</td>\n",
       "      <td>1.898889</td>\n",
       "      <td>3.250000</td>\n",
       "      <td>3.616667</td>\n",
       "    </tr>\n",
       "    <tr>\n",
       "      <th>2</th>\n",
       "      <td>492475</td>\n",
       "      <td>2.38</td>\n",
       "      <td>3.30</td>\n",
       "      <td>2.75</td>\n",
       "      <td>2.40</td>\n",
       "      <td>3.30</td>\n",
       "      <td>2.55</td>\n",
       "      <td>2.60</td>\n",
       "      <td>3.1</td>\n",
       "      <td>2.3</td>\n",
       "      <td>...</td>\n",
       "      <td>2.65</td>\n",
       "      <td>2.50</td>\n",
       "      <td>3.20</td>\n",
       "      <td>2.50</td>\n",
       "      <td>2.30</td>\n",
       "      <td>3.20</td>\n",
       "      <td>2.75</td>\n",
       "      <td>2.462222</td>\n",
       "      <td>3.233333</td>\n",
       "      <td>2.544444</td>\n",
       "    </tr>\n",
       "    <tr>\n",
       "      <th>3</th>\n",
       "      <td>492476</td>\n",
       "      <td>1.44</td>\n",
       "      <td>3.75</td>\n",
       "      <td>7.50</td>\n",
       "      <td>1.40</td>\n",
       "      <td>4.00</td>\n",
       "      <td>6.80</td>\n",
       "      <td>1.40</td>\n",
       "      <td>3.9</td>\n",
       "      <td>6.0</td>\n",
       "      <td>...</td>\n",
       "      <td>6.50</td>\n",
       "      <td>1.50</td>\n",
       "      <td>3.75</td>\n",
       "      <td>5.50</td>\n",
       "      <td>1.44</td>\n",
       "      <td>3.75</td>\n",
       "      <td>6.50</td>\n",
       "      <td>1.438889</td>\n",
       "      <td>3.805556</td>\n",
       "      <td>6.533333</td>\n",
       "    </tr>\n",
       "    <tr>\n",
       "      <th>4</th>\n",
       "      <td>492477</td>\n",
       "      <td>5.00</td>\n",
       "      <td>3.50</td>\n",
       "      <td>1.65</td>\n",
       "      <td>5.00</td>\n",
       "      <td>3.50</td>\n",
       "      <td>1.60</td>\n",
       "      <td>4.00</td>\n",
       "      <td>3.3</td>\n",
       "      <td>1.7</td>\n",
       "      <td>...</td>\n",
       "      <td>1.65</td>\n",
       "      <td>4.50</td>\n",
       "      <td>3.50</td>\n",
       "      <td>1.65</td>\n",
       "      <td>4.75</td>\n",
       "      <td>3.30</td>\n",
       "      <td>1.67</td>\n",
       "      <td>4.494444</td>\n",
       "      <td>3.422222</td>\n",
       "      <td>1.674444</td>\n",
       "    </tr>\n",
       "  </tbody>\n",
       "</table>\n",
       "<p>5 rows × 34 columns</p>\n",
       "</div>"
      ],
      "text/plain": [
       "    match  B365H  B365D  B365A   BWH   BWD   BWA   IWH  IWD  IWA  ...   VCA  \\\n",
       "0  492473   1.73   3.40   5.00  1.75  3.35  4.20  1.85  3.2  3.5  ...  4.50   \n",
       "1  492474   1.95   3.20   3.60  1.80  3.30  3.95  1.90  3.2  3.5  ...  3.25   \n",
       "2  492475   2.38   3.30   2.75  2.40  3.30  2.55  2.60  3.1  2.3  ...  2.65   \n",
       "3  492476   1.44   3.75   7.50  1.40  4.00  6.80  1.40  3.9  6.0  ...  6.50   \n",
       "4  492477   5.00   3.50   1.65  5.00  3.50  1.60  4.00  3.3  1.7  ...  1.65   \n",
       "\n",
       "    GBH   GBD   GBA   BSH   BSD   BSA  mean_oddh  mean_oddd  mean_odda  \n",
       "0  1.78  3.25  4.00  1.73  3.40  4.20   1.765556   3.322222   4.164444  \n",
       "1  1.85  3.25  3.75  1.91  3.25  3.60   1.898889   3.250000   3.616667  \n",
       "2  2.50  3.20  2.50  2.30  3.20  2.75   2.462222   3.233333   2.544444  \n",
       "3  1.50  3.75  5.50  1.44  3.75  6.50   1.438889   3.805556   6.533333  \n",
       "4  4.50  3.50  1.65  4.75  3.30  1.67   4.494444   3.422222   1.674444  \n",
       "\n",
       "[5 rows x 34 columns]"
      ]
     },
     "execution_count": 43,
     "metadata": {},
     "output_type": "execute_result"
    }
   ],
   "source": [
    "subset_h = df_odd.loc[:,['BWH','B365H','IWH','LBH','PSH','WHH','SJH','VCH','GBH','BSH']]# subset for the home odds\n",
    "subset_d = df_odd.loc[:,['BWD','B365D','IWD','LBD','PSD','WHD','SJD','VCD','GBD','BSD']]# subset for even odds\n",
    "subset_a = df_odd.loc[:,['BWA','B365A','IWA','LBA','PSA','WHA','SJA','VCA','GBA','BSA']]# subset for away odds\n",
    "\n",
    "#subset_h = df_wodd.iloc[:,np.r_[1,4,7,10,13,16,19,22,25,28]]\n",
    "#subset_d = df_wodd.iloc[:,np.r_[2,5,8,11,14,17,20,23,26,29]]\n",
    "#subset_a = df_wodd.iloc[:,np.r_[3,6,9,12,15,18,21,24,27,30]]\n",
    "\n",
    "df_odd['mean_oddh'] = subset_h.mean(axis=1)# we create the mean value of all the odds, home, even and away winner.\n",
    "df_odd['mean_oddd'] = subset_d.mean(axis=1)\n",
    "df_odd['mean_odda'] = subset_a.mean(axis=1)\n",
    "\n",
    "\n",
    "df_odd.head()"
   ]
  },
  {
   "cell_type": "markdown",
   "metadata": {},
   "source": [
    "We have created three different substets with the odds corresponding to home, even and away. After this, we have calculated\n",
    "the mean of each of these and we have created the corresponding column in the *df_odd* dataframe."
   ]
  },
  {
   "cell_type": "markdown",
   "metadata": {},
   "source": [
    "Now we have a dataframe which includes the betting odds and the overall mean for home, even and away"
   ]
  },
  {
   "cell_type": "code",
   "execution_count": 44,
   "metadata": {},
   "outputs": [],
   "source": [
    "df_mean_odds = df_odd.iloc[:,np.r_[0,31,32,33]]"
   ]
  },
  {
   "cell_type": "markdown",
   "metadata": {},
   "source": [
    "The **df_mean_odds** dataframe just includes the match id and the mean odds. From now on, we will work with these mean values."
   ]
  },
  {
   "cell_type": "code",
   "execution_count": 45,
   "metadata": {},
   "outputs": [
    {
     "data": {
      "text/html": [
       "<div>\n",
       "<style scoped>\n",
       "    .dataframe tbody tr th:only-of-type {\n",
       "        vertical-align: middle;\n",
       "    }\n",
       "\n",
       "    .dataframe tbody tr th {\n",
       "        vertical-align: top;\n",
       "    }\n",
       "\n",
       "    .dataframe thead th {\n",
       "        text-align: right;\n",
       "    }\n",
       "</style>\n",
       "<table border=\"1\" class=\"dataframe\">\n",
       "  <thead>\n",
       "    <tr style=\"text-align: right;\">\n",
       "      <th></th>\n",
       "      <th>match</th>\n",
       "      <th>mean_oddh</th>\n",
       "      <th>mean_oddd</th>\n",
       "      <th>mean_odda</th>\n",
       "    </tr>\n",
       "  </thead>\n",
       "  <tbody>\n",
       "    <tr>\n",
       "      <th>0</th>\n",
       "      <td>492473</td>\n",
       "      <td>1.765556</td>\n",
       "      <td>3.322222</td>\n",
       "      <td>4.164444</td>\n",
       "    </tr>\n",
       "    <tr>\n",
       "      <th>1</th>\n",
       "      <td>492474</td>\n",
       "      <td>1.898889</td>\n",
       "      <td>3.250000</td>\n",
       "      <td>3.616667</td>\n",
       "    </tr>\n",
       "  </tbody>\n",
       "</table>\n",
       "</div>"
      ],
      "text/plain": [
       "    match  mean_oddh  mean_oddd  mean_odda\n",
       "0  492473   1.765556   3.322222   4.164444\n",
       "1  492474   1.898889   3.250000   3.616667"
      ]
     },
     "execution_count": 45,
     "metadata": {},
     "output_type": "execute_result"
    }
   ],
   "source": [
    "df_mean_odds.head(2)"
   ]
  },
  {
   "cell_type": "code",
   "execution_count": 46,
   "metadata": {},
   "outputs": [
    {
     "name": "stdout",
     "output_type": "stream",
     "text": [
      "<class 'pandas.core.frame.DataFrame'>\n",
      "Int64Index: 22597 entries, 0 to 24556\n",
      "Data columns (total 4 columns):\n",
      " #   Column     Non-Null Count  Dtype  \n",
      "---  ------     --------------  -----  \n",
      " 0   match      22597 non-null  int64  \n",
      " 1   mean_oddh  22597 non-null  float64\n",
      " 2   mean_oddd  22597 non-null  float64\n",
      " 3   mean_odda  22597 non-null  float64\n",
      "dtypes: float64(3), int64(1)\n",
      "memory usage: 882.7 KB\n"
     ]
    }
   ],
   "source": [
    "df_mean_odds.info()"
   ]
  },
  {
   "cell_type": "code",
   "execution_count": 47,
   "metadata": {},
   "outputs": [
    {
     "name": "stdout",
     "output_type": "stream",
     "text": [
      "<class 'pandas.core.frame.DataFrame'>\n",
      "RangeIndex: 25979 entries, 0 to 25978\n",
      "Columns: 115 entries, id to BSA\n",
      "dtypes: float64(96), int64(9), object(10)\n",
      "memory usage: 22.8+ MB\n"
     ]
    }
   ],
   "source": [
    "df_match.info()"
   ]
  },
  {
   "cell_type": "code",
   "execution_count": 48,
   "metadata": {},
   "outputs": [
    {
     "data": {
      "text/html": [
       "<div>\n",
       "<style scoped>\n",
       "    .dataframe tbody tr th:only-of-type {\n",
       "        vertical-align: middle;\n",
       "    }\n",
       "\n",
       "    .dataframe tbody tr th {\n",
       "        vertical-align: top;\n",
       "    }\n",
       "\n",
       "    .dataframe thead th {\n",
       "        text-align: right;\n",
       "    }\n",
       "</style>\n",
       "<table border=\"1\" class=\"dataframe\">\n",
       "  <thead>\n",
       "    <tr style=\"text-align: right;\">\n",
       "      <th></th>\n",
       "      <th>id_x</th>\n",
       "      <th>country_id</th>\n",
       "      <th>league_id</th>\n",
       "      <th>season</th>\n",
       "      <th>stage</th>\n",
       "      <th>date</th>\n",
       "      <th>match</th>\n",
       "      <th>home_team_api_id</th>\n",
       "      <th>away_team_api_id</th>\n",
       "      <th>home_team_goal</th>\n",
       "      <th>...</th>\n",
       "      <th>VCA</th>\n",
       "      <th>GBH</th>\n",
       "      <th>GBD</th>\n",
       "      <th>GBA</th>\n",
       "      <th>BSH</th>\n",
       "      <th>BSD</th>\n",
       "      <th>BSA</th>\n",
       "      <th>id_y</th>\n",
       "      <th>league_name</th>\n",
       "      <th>country</th>\n",
       "    </tr>\n",
       "  </thead>\n",
       "  <tbody>\n",
       "    <tr>\n",
       "      <th>0</th>\n",
       "      <td>1</td>\n",
       "      <td>1</td>\n",
       "      <td>1</td>\n",
       "      <td>2008/2009</td>\n",
       "      <td>1</td>\n",
       "      <td>2008-08-17 00:00:00</td>\n",
       "      <td>492473</td>\n",
       "      <td>9987</td>\n",
       "      <td>9993</td>\n",
       "      <td>1</td>\n",
       "      <td>...</td>\n",
       "      <td>4.50</td>\n",
       "      <td>1.78</td>\n",
       "      <td>3.25</td>\n",
       "      <td>4.00</td>\n",
       "      <td>1.73</td>\n",
       "      <td>3.40</td>\n",
       "      <td>4.2</td>\n",
       "      <td>1</td>\n",
       "      <td>Belgium Jupiler League</td>\n",
       "      <td>Belgium</td>\n",
       "    </tr>\n",
       "    <tr>\n",
       "      <th>1</th>\n",
       "      <td>2</td>\n",
       "      <td>1</td>\n",
       "      <td>1</td>\n",
       "      <td>2008/2009</td>\n",
       "      <td>1</td>\n",
       "      <td>2008-08-16 00:00:00</td>\n",
       "      <td>492474</td>\n",
       "      <td>10000</td>\n",
       "      <td>9994</td>\n",
       "      <td>0</td>\n",
       "      <td>...</td>\n",
       "      <td>3.25</td>\n",
       "      <td>1.85</td>\n",
       "      <td>3.25</td>\n",
       "      <td>3.75</td>\n",
       "      <td>1.91</td>\n",
       "      <td>3.25</td>\n",
       "      <td>3.6</td>\n",
       "      <td>1</td>\n",
       "      <td>Belgium Jupiler League</td>\n",
       "      <td>Belgium</td>\n",
       "    </tr>\n",
       "  </tbody>\n",
       "</table>\n",
       "<p>2 rows × 118 columns</p>\n",
       "</div>"
      ],
      "text/plain": [
       "   id_x  country_id  league_id     season  stage                 date   match  \\\n",
       "0     1           1          1  2008/2009      1  2008-08-17 00:00:00  492473   \n",
       "1     2           1          1  2008/2009      1  2008-08-16 00:00:00  492474   \n",
       "\n",
       "   home_team_api_id  away_team_api_id  home_team_goal  ...   VCA   GBH   GBD  \\\n",
       "0              9987              9993               1  ...  4.50  1.78  3.25   \n",
       "1             10000              9994               0  ...  3.25  1.85  3.25   \n",
       "\n",
       "    GBA   BSH   BSD  BSA  id_y             league_name  country  \n",
       "0  4.00  1.73  3.40  4.2     1  Belgium Jupiler League  Belgium  \n",
       "1  3.75  1.91  3.25  3.6     1  Belgium Jupiler League  Belgium  \n",
       "\n",
       "[2 rows x 118 columns]"
      ]
     },
     "execution_count": 48,
     "metadata": {},
     "output_type": "execute_result"
    }
   ],
   "source": [
    "df_league_match=pd.merge(df_match, df_cleague,how='inner',on=['country_id']) \n",
    "df_league_match.head(2)"
   ]
  },
  {
   "cell_type": "markdown",
   "metadata": {},
   "source": [
    "We merge the *df_match* dataframe with the *df_cleague* innerly in order to be able to calculate the goal difference in every match."
   ]
  },
  {
   "cell_type": "code",
   "execution_count": 49,
   "metadata": {},
   "outputs": [
    {
     "data": {
      "text/html": [
       "<div>\n",
       "<style scoped>\n",
       "    .dataframe tbody tr th:only-of-type {\n",
       "        vertical-align: middle;\n",
       "    }\n",
       "\n",
       "    .dataframe tbody tr th {\n",
       "        vertical-align: top;\n",
       "    }\n",
       "\n",
       "    .dataframe thead th {\n",
       "        text-align: right;\n",
       "    }\n",
       "</style>\n",
       "<table border=\"1\" class=\"dataframe\">\n",
       "  <thead>\n",
       "    <tr style=\"text-align: right;\">\n",
       "      <th></th>\n",
       "      <th>id_x</th>\n",
       "      <th>country_id</th>\n",
       "      <th>league_id</th>\n",
       "      <th>season</th>\n",
       "      <th>stage</th>\n",
       "      <th>date</th>\n",
       "      <th>match</th>\n",
       "      <th>home_team_api_id</th>\n",
       "      <th>away_team_api_id</th>\n",
       "      <th>home_team_goal</th>\n",
       "      <th>...</th>\n",
       "      <th>GBH</th>\n",
       "      <th>GBD</th>\n",
       "      <th>GBA</th>\n",
       "      <th>BSH</th>\n",
       "      <th>BSD</th>\n",
       "      <th>BSA</th>\n",
       "      <th>id_y</th>\n",
       "      <th>league_name</th>\n",
       "      <th>country</th>\n",
       "      <th>goal_diff</th>\n",
       "    </tr>\n",
       "  </thead>\n",
       "  <tbody>\n",
       "    <tr>\n",
       "      <th>0</th>\n",
       "      <td>1</td>\n",
       "      <td>1</td>\n",
       "      <td>1</td>\n",
       "      <td>2008/2009</td>\n",
       "      <td>1</td>\n",
       "      <td>2008-08-17 00:00:00</td>\n",
       "      <td>492473</td>\n",
       "      <td>9987</td>\n",
       "      <td>9993</td>\n",
       "      <td>1</td>\n",
       "      <td>...</td>\n",
       "      <td>1.78</td>\n",
       "      <td>3.25</td>\n",
       "      <td>4.0</td>\n",
       "      <td>1.73</td>\n",
       "      <td>3.4</td>\n",
       "      <td>4.2</td>\n",
       "      <td>1</td>\n",
       "      <td>Belgium Jupiler League</td>\n",
       "      <td>Belgium</td>\n",
       "      <td>0</td>\n",
       "    </tr>\n",
       "  </tbody>\n",
       "</table>\n",
       "<p>1 rows × 119 columns</p>\n",
       "</div>"
      ],
      "text/plain": [
       "   id_x  country_id  league_id     season  stage                 date   match  \\\n",
       "0     1           1          1  2008/2009      1  2008-08-17 00:00:00  492473   \n",
       "\n",
       "   home_team_api_id  away_team_api_id  home_team_goal  ...   GBH   GBD  GBA  \\\n",
       "0              9987              9993               1  ...  1.78  3.25  4.0   \n",
       "\n",
       "    BSH  BSD  BSA  id_y             league_name  country  goal_diff  \n",
       "0  1.73  3.4  4.2     1  Belgium Jupiler League  Belgium          0  \n",
       "\n",
       "[1 rows x 119 columns]"
      ]
     },
     "execution_count": 49,
     "metadata": {},
     "output_type": "execute_result"
    }
   ],
   "source": [
    "df_league_match['goal_diff'] = df_league_match.apply(lambda row: row.home_team_goal - row.away_team_goal, axis=1) \n",
    "df_league_match.head(1)"
   ]
  },
  {
   "cell_type": "markdown",
   "metadata": {},
   "source": [
    "Now we create a column called *goal_diff*. This way, we can determine if the team who played at home won \n",
    "(if the result is greater than zero), if the match was even (if result equal zero) or if the away team won, when the result is\n",
    "a negative integer."
   ]
  },
  {
   "cell_type": "code",
   "execution_count": 50,
   "metadata": {},
   "outputs": [
    {
     "data": {
      "text/html": [
       "<div>\n",
       "<style scoped>\n",
       "    .dataframe tbody tr th:only-of-type {\n",
       "        vertical-align: middle;\n",
       "    }\n",
       "\n",
       "    .dataframe tbody tr th {\n",
       "        vertical-align: top;\n",
       "    }\n",
       "\n",
       "    .dataframe thead th {\n",
       "        text-align: right;\n",
       "    }\n",
       "</style>\n",
       "<table border=\"1\" class=\"dataframe\">\n",
       "  <thead>\n",
       "    <tr style=\"text-align: right;\">\n",
       "      <th></th>\n",
       "      <th>id_x</th>\n",
       "      <th>country_id</th>\n",
       "      <th>league_id</th>\n",
       "      <th>season</th>\n",
       "      <th>stage</th>\n",
       "      <th>date</th>\n",
       "      <th>match</th>\n",
       "      <th>home_team_api_id</th>\n",
       "      <th>away_team_api_id</th>\n",
       "      <th>home_team_goal</th>\n",
       "      <th>...</th>\n",
       "      <th>GBD</th>\n",
       "      <th>GBA</th>\n",
       "      <th>BSH</th>\n",
       "      <th>BSD</th>\n",
       "      <th>BSA</th>\n",
       "      <th>id_y</th>\n",
       "      <th>league_name</th>\n",
       "      <th>country</th>\n",
       "      <th>goal_diff</th>\n",
       "      <th>result</th>\n",
       "    </tr>\n",
       "  </thead>\n",
       "  <tbody>\n",
       "    <tr>\n",
       "      <th>0</th>\n",
       "      <td>1</td>\n",
       "      <td>1</td>\n",
       "      <td>1</td>\n",
       "      <td>2008/2009</td>\n",
       "      <td>1</td>\n",
       "      <td>2008-08-17 00:00:00</td>\n",
       "      <td>492473</td>\n",
       "      <td>9987</td>\n",
       "      <td>9993</td>\n",
       "      <td>1</td>\n",
       "      <td>...</td>\n",
       "      <td>3.25</td>\n",
       "      <td>4.00</td>\n",
       "      <td>1.73</td>\n",
       "      <td>3.40</td>\n",
       "      <td>4.2</td>\n",
       "      <td>1</td>\n",
       "      <td>Belgium Jupiler League</td>\n",
       "      <td>Belgium</td>\n",
       "      <td>0</td>\n",
       "      <td>Even</td>\n",
       "    </tr>\n",
       "    <tr>\n",
       "      <th>1</th>\n",
       "      <td>2</td>\n",
       "      <td>1</td>\n",
       "      <td>1</td>\n",
       "      <td>2008/2009</td>\n",
       "      <td>1</td>\n",
       "      <td>2008-08-16 00:00:00</td>\n",
       "      <td>492474</td>\n",
       "      <td>10000</td>\n",
       "      <td>9994</td>\n",
       "      <td>0</td>\n",
       "      <td>...</td>\n",
       "      <td>3.25</td>\n",
       "      <td>3.75</td>\n",
       "      <td>1.91</td>\n",
       "      <td>3.25</td>\n",
       "      <td>3.6</td>\n",
       "      <td>1</td>\n",
       "      <td>Belgium Jupiler League</td>\n",
       "      <td>Belgium</td>\n",
       "      <td>0</td>\n",
       "      <td>Even</td>\n",
       "    </tr>\n",
       "  </tbody>\n",
       "</table>\n",
       "<p>2 rows × 120 columns</p>\n",
       "</div>"
      ],
      "text/plain": [
       "   id_x  country_id  league_id     season  stage                 date   match  \\\n",
       "0     1           1          1  2008/2009      1  2008-08-17 00:00:00  492473   \n",
       "1     2           1          1  2008/2009      1  2008-08-16 00:00:00  492474   \n",
       "\n",
       "   home_team_api_id  away_team_api_id  home_team_goal  ...   GBD   GBA   BSH  \\\n",
       "0              9987              9993               1  ...  3.25  4.00  1.73   \n",
       "1             10000              9994               0  ...  3.25  3.75  1.91   \n",
       "\n",
       "    BSD  BSA  id_y             league_name  country  goal_diff  result  \n",
       "0  3.40  4.2     1  Belgium Jupiler League  Belgium          0    Even  \n",
       "1  3.25  3.6     1  Belgium Jupiler League  Belgium          0    Even  \n",
       "\n",
       "[2 rows x 120 columns]"
      ]
     },
     "execution_count": 50,
     "metadata": {},
     "output_type": "execute_result"
    }
   ],
   "source": [
    "def resultado(row):\n",
    "    if row['goal_diff']==0:\n",
    "        return 'Even'\n",
    "    elif row['goal_diff']>=1:\n",
    "        return 'Victory'\n",
    "    else:\n",
    "        return 'Defeat'\n",
    "    \n",
    "df_league_match['result']=df_league_match.apply(lambda row: resultado(row),axis=1)\n",
    "df_league_match.head(2)"
   ]
  },
  {
   "cell_type": "markdown",
   "metadata": {},
   "source": [
    "Now we create a new column, called *result* to put into words what immediately before was explained,\n",
    "so we now if the result was a *Victory*, *Even* or a *Defeat*, always talking of the point of view of the home team."
   ]
  },
  {
   "cell_type": "code",
   "execution_count": 51,
   "metadata": {},
   "outputs": [
    {
     "name": "stdout",
     "output_type": "stream",
     "text": [
      "<class 'pandas.core.frame.DataFrame'>\n",
      "Int64Index: 25979 entries, 0 to 25978\n",
      "Columns: 120 entries, id_x to result\n",
      "dtypes: float64(96), int64(11), object(13)\n",
      "memory usage: 24.0+ MB\n"
     ]
    }
   ],
   "source": [
    "df_league_match.info()"
   ]
  },
  {
   "cell_type": "code",
   "execution_count": 52,
   "metadata": {},
   "outputs": [],
   "source": [
    "df_league_match=df_league_match.iloc[:,np.r_[2,3,6,116,117,118,119]]"
   ]
  },
  {
   "cell_type": "markdown",
   "metadata": {},
   "source": [
    "The next step will be to choose the columns that will be usefult later, in order to merge the new dataframe with the \n",
    "*df_mean_odds* one."
   ]
  },
  {
   "cell_type": "code",
   "execution_count": 53,
   "metadata": {},
   "outputs": [
    {
     "data": {
      "text/html": [
       "<div>\n",
       "<style scoped>\n",
       "    .dataframe tbody tr th:only-of-type {\n",
       "        vertical-align: middle;\n",
       "    }\n",
       "\n",
       "    .dataframe tbody tr th {\n",
       "        vertical-align: top;\n",
       "    }\n",
       "\n",
       "    .dataframe thead th {\n",
       "        text-align: right;\n",
       "    }\n",
       "</style>\n",
       "<table border=\"1\" class=\"dataframe\">\n",
       "  <thead>\n",
       "    <tr style=\"text-align: right;\">\n",
       "      <th></th>\n",
       "      <th>league_id</th>\n",
       "      <th>season</th>\n",
       "      <th>match</th>\n",
       "      <th>league_name</th>\n",
       "      <th>country</th>\n",
       "      <th>goal_diff</th>\n",
       "      <th>result</th>\n",
       "    </tr>\n",
       "  </thead>\n",
       "  <tbody>\n",
       "    <tr>\n",
       "      <th>0</th>\n",
       "      <td>1</td>\n",
       "      <td>2008/2009</td>\n",
       "      <td>492473</td>\n",
       "      <td>Belgium Jupiler League</td>\n",
       "      <td>Belgium</td>\n",
       "      <td>0</td>\n",
       "      <td>Even</td>\n",
       "    </tr>\n",
       "  </tbody>\n",
       "</table>\n",
       "</div>"
      ],
      "text/plain": [
       "   league_id     season   match             league_name  country  goal_diff  \\\n",
       "0          1  2008/2009  492473  Belgium Jupiler League  Belgium          0   \n",
       "\n",
       "  result  \n",
       "0   Even  "
      ]
     },
     "execution_count": 53,
     "metadata": {},
     "output_type": "execute_result"
    }
   ],
   "source": [
    "df_league_match.head(1)"
   ]
  },
  {
   "cell_type": "code",
   "execution_count": 54,
   "metadata": {},
   "outputs": [
    {
     "name": "stdout",
     "output_type": "stream",
     "text": [
      "<class 'pandas.core.frame.DataFrame'>\n",
      "Int64Index: 25979 entries, 0 to 25978\n",
      "Data columns (total 7 columns):\n",
      " #   Column       Non-Null Count  Dtype \n",
      "---  ------       --------------  ----- \n",
      " 0   league_id    25979 non-null  int64 \n",
      " 1   season       25979 non-null  object\n",
      " 2   match        25979 non-null  int64 \n",
      " 3   league_name  25979 non-null  object\n",
      " 4   country      25979 non-null  object\n",
      " 5   goal_diff    25979 non-null  int64 \n",
      " 6   result       25979 non-null  object\n",
      "dtypes: int64(3), object(4)\n",
      "memory usage: 1.6+ MB\n"
     ]
    }
   ],
   "source": [
    "df_league_match.info()"
   ]
  },
  {
   "cell_type": "code",
   "execution_count": 55,
   "metadata": {},
   "outputs": [
    {
     "data": {
      "text/plain": [
       "0"
      ]
     },
     "execution_count": 55,
     "metadata": {},
     "output_type": "execute_result"
    }
   ],
   "source": [
    "sum(df_league_match.T.duplicated().T) "
   ]
  },
  {
   "cell_type": "markdown",
   "metadata": {},
   "source": [
    "To check if duplicated columns"
   ]
  },
  {
   "cell_type": "code",
   "execution_count": 56,
   "metadata": {},
   "outputs": [
    {
     "data": {
      "text/plain": [
       "0"
      ]
     },
     "execution_count": 56,
     "metadata": {},
     "output_type": "execute_result"
    }
   ],
   "source": [
    "sum(df_league_match.duplicated()) "
   ]
  },
  {
   "cell_type": "markdown",
   "metadata": {},
   "source": [
    "To check if duplicated rows"
   ]
  },
  {
   "cell_type": "code",
   "execution_count": 57,
   "metadata": {},
   "outputs": [
    {
     "data": {
      "text/html": [
       "<div>\n",
       "<style scoped>\n",
       "    .dataframe tbody tr th:only-of-type {\n",
       "        vertical-align: middle;\n",
       "    }\n",
       "\n",
       "    .dataframe tbody tr th {\n",
       "        vertical-align: top;\n",
       "    }\n",
       "\n",
       "    .dataframe thead th {\n",
       "        text-align: right;\n",
       "    }\n",
       "</style>\n",
       "<table border=\"1\" class=\"dataframe\">\n",
       "  <thead>\n",
       "    <tr style=\"text-align: right;\">\n",
       "      <th></th>\n",
       "      <th>league_id</th>\n",
       "      <th>season</th>\n",
       "      <th>match</th>\n",
       "      <th>league_name</th>\n",
       "      <th>country</th>\n",
       "      <th>goal_diff</th>\n",
       "      <th>result</th>\n",
       "      <th>mean_oddh</th>\n",
       "      <th>mean_oddd</th>\n",
       "      <th>mean_odda</th>\n",
       "    </tr>\n",
       "  </thead>\n",
       "  <tbody>\n",
       "    <tr>\n",
       "      <th>0</th>\n",
       "      <td>1</td>\n",
       "      <td>2008/2009</td>\n",
       "      <td>492473</td>\n",
       "      <td>Belgium Jupiler League</td>\n",
       "      <td>Belgium</td>\n",
       "      <td>0</td>\n",
       "      <td>Even</td>\n",
       "      <td>1.765556</td>\n",
       "      <td>3.322222</td>\n",
       "      <td>4.164444</td>\n",
       "    </tr>\n",
       "    <tr>\n",
       "      <th>1</th>\n",
       "      <td>1</td>\n",
       "      <td>2008/2009</td>\n",
       "      <td>492474</td>\n",
       "      <td>Belgium Jupiler League</td>\n",
       "      <td>Belgium</td>\n",
       "      <td>0</td>\n",
       "      <td>Even</td>\n",
       "      <td>1.898889</td>\n",
       "      <td>3.250000</td>\n",
       "      <td>3.616667</td>\n",
       "    </tr>\n",
       "    <tr>\n",
       "      <th>2</th>\n",
       "      <td>1</td>\n",
       "      <td>2008/2009</td>\n",
       "      <td>492475</td>\n",
       "      <td>Belgium Jupiler League</td>\n",
       "      <td>Belgium</td>\n",
       "      <td>-3</td>\n",
       "      <td>Defeat</td>\n",
       "      <td>2.462222</td>\n",
       "      <td>3.233333</td>\n",
       "      <td>2.544444</td>\n",
       "    </tr>\n",
       "    <tr>\n",
       "      <th>3</th>\n",
       "      <td>1</td>\n",
       "      <td>2008/2009</td>\n",
       "      <td>492476</td>\n",
       "      <td>Belgium Jupiler League</td>\n",
       "      <td>Belgium</td>\n",
       "      <td>5</td>\n",
       "      <td>Victory</td>\n",
       "      <td>1.438889</td>\n",
       "      <td>3.805556</td>\n",
       "      <td>6.533333</td>\n",
       "    </tr>\n",
       "    <tr>\n",
       "      <th>4</th>\n",
       "      <td>1</td>\n",
       "      <td>2008/2009</td>\n",
       "      <td>492477</td>\n",
       "      <td>Belgium Jupiler League</td>\n",
       "      <td>Belgium</td>\n",
       "      <td>-2</td>\n",
       "      <td>Defeat</td>\n",
       "      <td>4.494444</td>\n",
       "      <td>3.422222</td>\n",
       "      <td>1.674444</td>\n",
       "    </tr>\n",
       "    <tr>\n",
       "      <th>...</th>\n",
       "      <td>...</td>\n",
       "      <td>...</td>\n",
       "      <td>...</td>\n",
       "      <td>...</td>\n",
       "      <td>...</td>\n",
       "      <td>...</td>\n",
       "      <td>...</td>\n",
       "      <td>...</td>\n",
       "      <td>...</td>\n",
       "      <td>...</td>\n",
       "    </tr>\n",
       "    <tr>\n",
       "      <th>22592</th>\n",
       "      <td>21518</td>\n",
       "      <td>2015/2016</td>\n",
       "      <td>2030167</td>\n",
       "      <td>Spain LIGA BBVA</td>\n",
       "      <td>Spain</td>\n",
       "      <td>1</td>\n",
       "      <td>Victory</td>\n",
       "      <td>1.590000</td>\n",
       "      <td>3.800000</td>\n",
       "      <td>6.494286</td>\n",
       "    </tr>\n",
       "    <tr>\n",
       "      <th>22593</th>\n",
       "      <td>21518</td>\n",
       "      <td>2015/2016</td>\n",
       "      <td>2030168</td>\n",
       "      <td>Spain LIGA BBVA</td>\n",
       "      <td>Spain</td>\n",
       "      <td>2</td>\n",
       "      <td>Victory</td>\n",
       "      <td>2.298571</td>\n",
       "      <td>3.230000</td>\n",
       "      <td>3.258571</td>\n",
       "    </tr>\n",
       "    <tr>\n",
       "      <th>22594</th>\n",
       "      <td>21518</td>\n",
       "      <td>2015/2016</td>\n",
       "      <td>2030169</td>\n",
       "      <td>Spain LIGA BBVA</td>\n",
       "      <td>Spain</td>\n",
       "      <td>3</td>\n",
       "      <td>Victory</td>\n",
       "      <td>1.550000</td>\n",
       "      <td>3.958571</td>\n",
       "      <td>6.621429</td>\n",
       "    </tr>\n",
       "    <tr>\n",
       "      <th>22595</th>\n",
       "      <td>21518</td>\n",
       "      <td>2015/2016</td>\n",
       "      <td>2030170</td>\n",
       "      <td>Spain LIGA BBVA</td>\n",
       "      <td>Spain</td>\n",
       "      <td>0</td>\n",
       "      <td>Even</td>\n",
       "      <td>2.341429</td>\n",
       "      <td>3.271429</td>\n",
       "      <td>3.121429</td>\n",
       "    </tr>\n",
       "    <tr>\n",
       "      <th>22596</th>\n",
       "      <td>21518</td>\n",
       "      <td>2015/2016</td>\n",
       "      <td>2030171</td>\n",
       "      <td>Spain LIGA BBVA</td>\n",
       "      <td>Spain</td>\n",
       "      <td>3</td>\n",
       "      <td>Victory</td>\n",
       "      <td>2.207143</td>\n",
       "      <td>3.458571</td>\n",
       "      <td>3.251429</td>\n",
       "    </tr>\n",
       "  </tbody>\n",
       "</table>\n",
       "<p>22597 rows × 10 columns</p>\n",
       "</div>"
      ],
      "text/plain": [
       "       league_id     season    match             league_name  country  \\\n",
       "0              1  2008/2009   492473  Belgium Jupiler League  Belgium   \n",
       "1              1  2008/2009   492474  Belgium Jupiler League  Belgium   \n",
       "2              1  2008/2009   492475  Belgium Jupiler League  Belgium   \n",
       "3              1  2008/2009   492476  Belgium Jupiler League  Belgium   \n",
       "4              1  2008/2009   492477  Belgium Jupiler League  Belgium   \n",
       "...          ...        ...      ...                     ...      ...   \n",
       "22592      21518  2015/2016  2030167         Spain LIGA BBVA    Spain   \n",
       "22593      21518  2015/2016  2030168         Spain LIGA BBVA    Spain   \n",
       "22594      21518  2015/2016  2030169         Spain LIGA BBVA    Spain   \n",
       "22595      21518  2015/2016  2030170         Spain LIGA BBVA    Spain   \n",
       "22596      21518  2015/2016  2030171         Spain LIGA BBVA    Spain   \n",
       "\n",
       "       goal_diff   result  mean_oddh  mean_oddd  mean_odda  \n",
       "0              0     Even   1.765556   3.322222   4.164444  \n",
       "1              0     Even   1.898889   3.250000   3.616667  \n",
       "2             -3   Defeat   2.462222   3.233333   2.544444  \n",
       "3              5  Victory   1.438889   3.805556   6.533333  \n",
       "4             -2   Defeat   4.494444   3.422222   1.674444  \n",
       "...          ...      ...        ...        ...        ...  \n",
       "22592          1  Victory   1.590000   3.800000   6.494286  \n",
       "22593          2  Victory   2.298571   3.230000   3.258571  \n",
       "22594          3  Victory   1.550000   3.958571   6.621429  \n",
       "22595          0     Even   2.341429   3.271429   3.121429  \n",
       "22596          3  Victory   2.207143   3.458571   3.251429  \n",
       "\n",
       "[22597 rows x 10 columns]"
      ]
     },
     "execution_count": 57,
     "metadata": {},
     "output_type": "execute_result"
    }
   ],
   "source": [
    "df_stats = pd.merge(df_league_match, df_mean_odds,how='inner',on=['match'])\n",
    "df_stats"
   ]
  },
  {
   "cell_type": "markdown",
   "metadata": {},
   "source": [
    "We make a *merge* with the above mentioned two dataframes. With this information we will determine wether the favourite\n",
    "team won the match or not."
   ]
  },
  {
   "cell_type": "code",
   "execution_count": 58,
   "metadata": {},
   "outputs": [
    {
     "name": "stdout",
     "output_type": "stream",
     "text": [
      "<class 'pandas.core.frame.DataFrame'>\n",
      "Int64Index: 22597 entries, 0 to 22596\n",
      "Data columns (total 10 columns):\n",
      " #   Column       Non-Null Count  Dtype  \n",
      "---  ------       --------------  -----  \n",
      " 0   league_id    22597 non-null  int64  \n",
      " 1   season       22597 non-null  object \n",
      " 2   match        22597 non-null  int64  \n",
      " 3   league_name  22597 non-null  object \n",
      " 4   country      22597 non-null  object \n",
      " 5   goal_diff    22597 non-null  int64  \n",
      " 6   result       22597 non-null  object \n",
      " 7   mean_oddh    22597 non-null  float64\n",
      " 8   mean_oddd    22597 non-null  float64\n",
      " 9   mean_odda    22597 non-null  float64\n",
      "dtypes: float64(3), int64(3), object(4)\n",
      "memory usage: 1.9+ MB\n"
     ]
    }
   ],
   "source": [
    "df_stats.info()"
   ]
  },
  {
   "cell_type": "code",
   "execution_count": 59,
   "metadata": {},
   "outputs": [
    {
     "data": {
      "text/html": [
       "<div>\n",
       "<style scoped>\n",
       "    .dataframe tbody tr th:only-of-type {\n",
       "        vertical-align: middle;\n",
       "    }\n",
       "\n",
       "    .dataframe tbody tr th {\n",
       "        vertical-align: top;\n",
       "    }\n",
       "\n",
       "    .dataframe thead th {\n",
       "        text-align: right;\n",
       "    }\n",
       "</style>\n",
       "<table border=\"1\" class=\"dataframe\">\n",
       "  <thead>\n",
       "    <tr style=\"text-align: right;\">\n",
       "      <th></th>\n",
       "      <th>league_id</th>\n",
       "      <th>season</th>\n",
       "      <th>match</th>\n",
       "      <th>league_name</th>\n",
       "      <th>country</th>\n",
       "      <th>goal_diff</th>\n",
       "      <th>result</th>\n",
       "      <th>mean_oddh</th>\n",
       "      <th>mean_oddd</th>\n",
       "      <th>mean_odda</th>\n",
       "      <th>favourite</th>\n",
       "    </tr>\n",
       "  </thead>\n",
       "  <tbody>\n",
       "    <tr>\n",
       "      <th>0</th>\n",
       "      <td>1</td>\n",
       "      <td>2008/2009</td>\n",
       "      <td>492473</td>\n",
       "      <td>Belgium Jupiler League</td>\n",
       "      <td>Belgium</td>\n",
       "      <td>0</td>\n",
       "      <td>Even</td>\n",
       "      <td>1.765556</td>\n",
       "      <td>3.322222</td>\n",
       "      <td>4.164444</td>\n",
       "      <td>No_winner</td>\n",
       "    </tr>\n",
       "    <tr>\n",
       "      <th>1</th>\n",
       "      <td>1</td>\n",
       "      <td>2008/2009</td>\n",
       "      <td>492474</td>\n",
       "      <td>Belgium Jupiler League</td>\n",
       "      <td>Belgium</td>\n",
       "      <td>0</td>\n",
       "      <td>Even</td>\n",
       "      <td>1.898889</td>\n",
       "      <td>3.250000</td>\n",
       "      <td>3.616667</td>\n",
       "      <td>No_winner</td>\n",
       "    </tr>\n",
       "    <tr>\n",
       "      <th>2</th>\n",
       "      <td>1</td>\n",
       "      <td>2008/2009</td>\n",
       "      <td>492475</td>\n",
       "      <td>Belgium Jupiler League</td>\n",
       "      <td>Belgium</td>\n",
       "      <td>-3</td>\n",
       "      <td>Defeat</td>\n",
       "      <td>2.462222</td>\n",
       "      <td>3.233333</td>\n",
       "      <td>2.544444</td>\n",
       "      <td>Non_favourite_won</td>\n",
       "    </tr>\n",
       "    <tr>\n",
       "      <th>3</th>\n",
       "      <td>1</td>\n",
       "      <td>2008/2009</td>\n",
       "      <td>492476</td>\n",
       "      <td>Belgium Jupiler League</td>\n",
       "      <td>Belgium</td>\n",
       "      <td>5</td>\n",
       "      <td>Victory</td>\n",
       "      <td>1.438889</td>\n",
       "      <td>3.805556</td>\n",
       "      <td>6.533333</td>\n",
       "      <td>Favourite_won</td>\n",
       "    </tr>\n",
       "    <tr>\n",
       "      <th>4</th>\n",
       "      <td>1</td>\n",
       "      <td>2008/2009</td>\n",
       "      <td>492477</td>\n",
       "      <td>Belgium Jupiler League</td>\n",
       "      <td>Belgium</td>\n",
       "      <td>-2</td>\n",
       "      <td>Defeat</td>\n",
       "      <td>4.494444</td>\n",
       "      <td>3.422222</td>\n",
       "      <td>1.674444</td>\n",
       "      <td>Favourite_won</td>\n",
       "    </tr>\n",
       "  </tbody>\n",
       "</table>\n",
       "</div>"
      ],
      "text/plain": [
       "   league_id     season   match             league_name  country  goal_diff  \\\n",
       "0          1  2008/2009  492473  Belgium Jupiler League  Belgium          0   \n",
       "1          1  2008/2009  492474  Belgium Jupiler League  Belgium          0   \n",
       "2          1  2008/2009  492475  Belgium Jupiler League  Belgium         -3   \n",
       "3          1  2008/2009  492476  Belgium Jupiler League  Belgium          5   \n",
       "4          1  2008/2009  492477  Belgium Jupiler League  Belgium         -2   \n",
       "\n",
       "    result  mean_oddh  mean_oddd  mean_odda          favourite  \n",
       "0     Even   1.765556   3.322222   4.164444          No_winner  \n",
       "1     Even   1.898889   3.250000   3.616667          No_winner  \n",
       "2   Defeat   2.462222   3.233333   2.544444  Non_favourite_won  \n",
       "3  Victory   1.438889   3.805556   6.533333      Favourite_won  \n",
       "4   Defeat   4.494444   3.422222   1.674444      Favourite_won  "
      ]
     },
     "execution_count": 59,
     "metadata": {},
     "output_type": "execute_result"
    }
   ],
   "source": [
    "def favorito(row):\n",
    "    if row['result']=='Victory' and row['mean_oddh']<row['mean_odda']:\n",
    "        return 'Favourite_won'\n",
    "    elif row['result']=='Defeat' and row['mean_oddh']<row['mean_odda']:\n",
    "        return 'Non_favourite_won'\n",
    "    elif row['result']=='Defeat' and row['mean_oddh']>row['mean_odda']:\n",
    "        return 'Favourite_won'\n",
    "    elif row['result']=='Victory' and row['mean_oddh']>row['mean_odda']:\n",
    "        return 'Non_favourite_won'\n",
    "    \n",
    "    else:\n",
    "        return 'No_winner'\n",
    "    \n",
    "df_stats['favourite']=df_stats.apply(lambda row: favorito(row),axis=1)\n",
    "df_stats.head()"
   ]
  },
  {
   "cell_type": "markdown",
   "metadata": {},
   "source": [
    "Taking into account the odd values and the results, we will create a new column called *favourite* to state if the favourite \n",
    "(team for which the odd is the smallest) team won or not."
   ]
  },
  {
   "cell_type": "code",
   "execution_count": 68,
   "metadata": {},
   "outputs": [
    {
     "data": {
      "image/png": "[encoded data removed]",
      "text/plain": [
       "<Figure size 432x288 with 1 Axes>"
      ]
     },
     "metadata": {
      "needs_background": "light"
     },
     "output_type": "display_data"
    }
   ],
   "source": [
    "res = df_stats.result.value_counts()\n",
    "res1 = res.index\n",
    "p_count = res.values\n",
    "base_color = sb.color_palette()[0]\n",
    "sb.countplot(data=df_stats, x='result', color=base_color);"
   ]
  },
  {
   "cell_type": "markdown",
   "metadata": {},
   "source": [
    "In this bar chart we can see the proportion of the victories, defeats and even matches from all over the world from \n",
    "2008 to 2016"
   ]
  },
  {
   "cell_type": "code",
   "execution_count": 69,
   "metadata": {},
   "outputs": [
    {
     "data": {
      "text/plain": [
       "0.45908748948975525"
      ]
     },
     "execution_count": 69,
     "metadata": {},
     "output_type": "execute_result"
    }
   ],
   "source": [
    "tot_vict = df_stats[df_stats['result']=='Victory'].shape[0]/df_stats.shape[0]\n",
    "tot_vict"
   ]
  },
  {
   "cell_type": "markdown",
   "metadata": {},
   "source": [
    "Almost the 46% of victories were fot the team that played as local."
   ]
  },
  {
   "cell_type": "code",
   "execution_count": 70,
   "metadata": {},
   "outputs": [
    {
     "data": {
      "text/plain": [
       "0.25304243926184894"
      ]
     },
     "execution_count": 70,
     "metadata": {},
     "output_type": "execute_result"
    }
   ],
   "source": [
    "tot_even = df_stats[df_stats['result']=='Even'].shape[0]/df_stats.shape[0]\n",
    "tot_even"
   ]
  },
  {
   "cell_type": "markdown",
   "metadata": {},
   "source": [
    "The 25% of the matches were even."
   ]
  },
  {
   "cell_type": "code",
   "execution_count": 71,
   "metadata": {},
   "outputs": [
    {
     "data": {
      "text/plain": [
       "0.2878700712483958"
      ]
     },
     "execution_count": 71,
     "metadata": {},
     "output_type": "execute_result"
    }
   ],
   "source": [
    "tot_def = df_stats[df_stats['result']=='Defeat'].shape[0]/df_stats.shape[0]\n",
    "tot_def"
   ]
  },
  {
   "cell_type": "markdown",
   "metadata": {},
   "source": [
    "Only the 28,7% of the matches were won by the team that played away"
   ]
  },
  {
   "cell_type": "code",
   "execution_count": 89,
   "metadata": {},
   "outputs": [
    {
     "data": {
      "text/plain": [
       "country  season     result \n",
       "Belgium  2008/2009  Victory    48.844884\n",
       "                    Defeat     29.372937\n",
       "                    Even       21.782178\n",
       "         2009/2010  Victory    46.190476\n",
       "                    Defeat     29.523810\n",
       "                                 ...    \n",
       "Spain    2014/2015  Defeat     31.052632\n",
       "                    Even       23.947368\n",
       "         2015/2016  Victory    48.157895\n",
       "                    Defeat     27.631579\n",
       "                    Even       24.210526\n",
       "Name: result, Length: 213, dtype: float64"
      ]
     },
     "execution_count": 89,
     "metadata": {},
     "output_type": "execute_result"
    }
   ],
   "source": [
    "rslt_cntry=df_stats.groupby(['country','season']).result.value_counts('percentage')*100\n",
    "rslt_cntry"
   ]
  },
  {
   "cell_type": "code",
   "execution_count": 90,
   "metadata": {},
   "outputs": [
    {
     "data": {
      "text/html": [
       "<div>\n",
       "<style scoped>\n",
       "    .dataframe tbody tr th:only-of-type {\n",
       "        vertical-align: middle;\n",
       "    }\n",
       "\n",
       "    .dataframe tbody tr th {\n",
       "        vertical-align: top;\n",
       "    }\n",
       "\n",
       "    .dataframe thead tr th {\n",
       "        text-align: left;\n",
       "    }\n",
       "</style>\n",
       "<table border=\"1\" class=\"dataframe\">\n",
       "  <thead>\n",
       "    <tr>\n",
       "      <th>country</th>\n",
       "      <th>index</th>\n",
       "      <th colspan=\"9\" halign=\"left\">Belgium</th>\n",
       "      <th>...</th>\n",
       "      <th colspan=\"10\" halign=\"left\">Spain</th>\n",
       "    </tr>\n",
       "    <tr>\n",
       "      <th>season</th>\n",
       "      <th></th>\n",
       "      <th colspan=\"3\" halign=\"left\">2008/2009</th>\n",
       "      <th colspan=\"3\" halign=\"left\">2009/2010</th>\n",
       "      <th colspan=\"3\" halign=\"left\">2010/2011</th>\n",
       "      <th>...</th>\n",
       "      <th>2012/2013</th>\n",
       "      <th colspan=\"3\" halign=\"left\">2013/2014</th>\n",
       "      <th colspan=\"3\" halign=\"left\">2014/2015</th>\n",
       "      <th colspan=\"3\" halign=\"left\">2015/2016</th>\n",
       "    </tr>\n",
       "    <tr>\n",
       "      <th>result</th>\n",
       "      <th></th>\n",
       "      <th>Victory</th>\n",
       "      <th>Defeat</th>\n",
       "      <th>Even</th>\n",
       "      <th>Victory</th>\n",
       "      <th>Defeat</th>\n",
       "      <th>Even</th>\n",
       "      <th>Victory</th>\n",
       "      <th>Defeat</th>\n",
       "      <th>Even</th>\n",
       "      <th>...</th>\n",
       "      <th>Even</th>\n",
       "      <th>Victory</th>\n",
       "      <th>Defeat</th>\n",
       "      <th>Even</th>\n",
       "      <th>Victory</th>\n",
       "      <th>Defeat</th>\n",
       "      <th>Even</th>\n",
       "      <th>Victory</th>\n",
       "      <th>Defeat</th>\n",
       "      <th>Even</th>\n",
       "    </tr>\n",
       "  </thead>\n",
       "  <tbody>\n",
       "    <tr>\n",
       "      <th>0</th>\n",
       "      <td>result</td>\n",
       "      <td>48.844884</td>\n",
       "      <td>29.372937</td>\n",
       "      <td>21.782178</td>\n",
       "      <td>46.190476</td>\n",
       "      <td>29.52381</td>\n",
       "      <td>24.285714</td>\n",
       "      <td>48.333333</td>\n",
       "      <td>25.833333</td>\n",
       "      <td>25.833333</td>\n",
       "      <td>...</td>\n",
       "      <td>22.105263</td>\n",
       "      <td>47.105263</td>\n",
       "      <td>30.263158</td>\n",
       "      <td>22.631579</td>\n",
       "      <td>45.0</td>\n",
       "      <td>31.052632</td>\n",
       "      <td>23.947368</td>\n",
       "      <td>48.157895</td>\n",
       "      <td>27.631579</td>\n",
       "      <td>24.210526</td>\n",
       "    </tr>\n",
       "  </tbody>\n",
       "</table>\n",
       "<p>1 rows × 214 columns</p>\n",
       "</div>"
      ],
      "text/plain": [
       "country   index    Belgium                                             \\\n",
       "season           2008/2009                        2009/2010             \n",
       "result             Victory     Defeat       Even    Victory    Defeat   \n",
       "0        result  48.844884  29.372937  21.782178  46.190476  29.52381   \n",
       "\n",
       "country                                              ...      Spain  \\\n",
       "season              2010/2011                        ...  2012/2013   \n",
       "result        Even    Victory     Defeat       Even  ...       Even   \n",
       "0        24.285714  48.333333  25.833333  25.833333  ...  22.105263   \n",
       "\n",
       "country                                                                   \\\n",
       "season   2013/2014                       2014/2015                         \n",
       "result     Victory     Defeat       Even   Victory     Defeat       Even   \n",
       "0        47.105263  30.263158  22.631579      45.0  31.052632  23.947368   \n",
       "\n",
       "country                                   \n",
       "season   2015/2016                        \n",
       "result     Victory     Defeat       Even  \n",
       "0        48.157895  27.631579  24.210526  \n",
       "\n",
       "[1 rows x 214 columns]"
      ]
     },
     "execution_count": 90,
     "metadata": {},
     "output_type": "execute_result"
    }
   ],
   "source": [
    "df_rslt_cntry = pd.DataFrame([(rslt_cntry)])\n",
    "df_rslt_cntry = df_rslt_cntry.reset_index()\n",
    "df_rslt_cntry"
   ]
  },
  {
   "cell_type": "markdown",
   "metadata": {},
   "source": [
    "This the percentage for the victories for the team that had the lowest odd."
   ]
  },
  {
   "cell_type": "code",
   "execution_count": 238,
   "metadata": {},
   "outputs": [
    {
     "data": {
      "text/plain": [
       "0.21485152896402177"
      ]
     },
     "execution_count": 238,
     "metadata": {},
     "output_type": "execute_result"
    }
   ],
   "source": [
    "non_fav_vict = df_stats[df_stats['favourite']=='Non_favourite_won'].shape[0]/df_stats.shape[0]\n",
    "non_fav_vict"
   ]
  },
  {
   "cell_type": "markdown",
   "metadata": {},
   "source": [
    "This the percentage for the victories for the team that had the highest odd."
   ]
  },
  {
   "cell_type": "code",
   "execution_count": 239,
   "metadata": {},
   "outputs": [
    {
     "data": {
      "text/plain": [
       "0.25313094658582996"
      ]
     },
     "execution_count": 239,
     "metadata": {},
     "output_type": "execute_result"
    }
   ],
   "source": [
    "1-fav_vict-non_fav_vict"
   ]
  },
  {
   "cell_type": "markdown",
   "metadata": {},
   "source": [
    "Percentage of even matches"
   ]
  },
  {
   "cell_type": "code",
   "execution_count": 240,
   "metadata": {},
   "outputs": [
    {
     "data": {
      "text/plain": [
       "(2.585833179938205, 3.766131027629732, 4.52501602191541)"
      ]
     },
     "execution_count": 240,
     "metadata": {},
     "output_type": "execute_result"
    }
   ],
   "source": [
    "df_stats['mean_oddh'].mean(),df_stats['mean_oddd'].mean(),df_stats['mean_odda'].mean()"
   ]
  },
  {
   "cell_type": "markdown",
   "metadata": {},
   "source": [
    "These are the total mean values for the whole world."
   ]
  },
  {
   "cell_type": "code",
   "execution_count": 241,
   "metadata": {},
   "outputs": [
    {
     "data": {
      "text/plain": [
       "country\n",
       "Belgium        2.362783\n",
       "England        2.641570\n",
       "France         2.387508\n",
       "Germany        2.569368\n",
       "Italy          2.485857\n",
       "Netherlands    2.521923\n",
       "Portugal       2.857625\n",
       "Scotland       2.747533\n",
       "Spain          2.737371\n",
       "Name: mean_oddh, dtype: float64"
      ]
     },
     "execution_count": 241,
     "metadata": {},
     "output_type": "execute_result"
    }
   ],
   "source": [
    "moh=df_stats.groupby(['country']).mean_oddh.mean()\n",
    "moh"
   ]
  },
  {
   "cell_type": "code",
   "execution_count": 242,
   "metadata": {},
   "outputs": [
    {
     "data": {
      "text/html": [
       "<div>\n",
       "<style scoped>\n",
       "    .dataframe tbody tr th:only-of-type {\n",
       "        vertical-align: middle;\n",
       "    }\n",
       "\n",
       "    .dataframe tbody tr th {\n",
       "        vertical-align: top;\n",
       "    }\n",
       "\n",
       "    .dataframe thead th {\n",
       "        text-align: right;\n",
       "    }\n",
       "</style>\n",
       "<table border=\"1\" class=\"dataframe\">\n",
       "  <thead>\n",
       "    <tr style=\"text-align: right;\">\n",
       "      <th></th>\n",
       "      <th>mean_oddh</th>\n",
       "    </tr>\n",
       "    <tr>\n",
       "      <th>country</th>\n",
       "      <th></th>\n",
       "    </tr>\n",
       "  </thead>\n",
       "  <tbody>\n",
       "    <tr>\n",
       "      <th>Belgium</th>\n",
       "      <td>2.362783</td>\n",
       "    </tr>\n",
       "    <tr>\n",
       "      <th>England</th>\n",
       "      <td>2.641570</td>\n",
       "    </tr>\n",
       "    <tr>\n",
       "      <th>France</th>\n",
       "      <td>2.387508</td>\n",
       "    </tr>\n",
       "    <tr>\n",
       "      <th>Germany</th>\n",
       "      <td>2.569368</td>\n",
       "    </tr>\n",
       "    <tr>\n",
       "      <th>Italy</th>\n",
       "      <td>2.485857</td>\n",
       "    </tr>\n",
       "    <tr>\n",
       "      <th>Netherlands</th>\n",
       "      <td>2.521923</td>\n",
       "    </tr>\n",
       "    <tr>\n",
       "      <th>Portugal</th>\n",
       "      <td>2.857625</td>\n",
       "    </tr>\n",
       "    <tr>\n",
       "      <th>Scotland</th>\n",
       "      <td>2.747533</td>\n",
       "    </tr>\n",
       "    <tr>\n",
       "      <th>Spain</th>\n",
       "      <td>2.737371</td>\n",
       "    </tr>\n",
       "  </tbody>\n",
       "</table>\n",
       "</div>"
      ],
      "text/plain": [
       "             mean_oddh\n",
       "country               \n",
       "Belgium       2.362783\n",
       "England       2.641570\n",
       "France        2.387508\n",
       "Germany       2.569368\n",
       "Italy         2.485857\n",
       "Netherlands   2.521923\n",
       "Portugal      2.857625\n",
       "Scotland      2.747533\n",
       "Spain         2.737371"
      ]
     },
     "execution_count": 242,
     "metadata": {},
     "output_type": "execute_result"
    }
   ],
   "source": [
    "df_moh = pd.DataFrame([moh]).transpose()\n",
    "df_moh"
   ]
  },
  {
   "cell_type": "markdown",
   "metadata": {},
   "source": [
    "The home victory mean odds for each country."
   ]
  },
  {
   "cell_type": "code",
   "execution_count": 243,
   "metadata": {},
   "outputs": [
    {
     "data": {
      "text/plain": [
       "country\n",
       "Belgium        3.658112\n",
       "England        3.829071\n",
       "France         3.411197\n",
       "Germany        3.857329\n",
       "Italy          3.568104\n",
       "Netherlands    4.017822\n",
       "Portugal       3.710743\n",
       "Scotland       3.718433\n",
       "Spain          4.104879\n",
       "Name: mean_oddd, dtype: float64"
      ]
     },
     "execution_count": 243,
     "metadata": {},
     "output_type": "execute_result"
    }
   ],
   "source": [
    "mod=df_stats.groupby(['country']).mean_oddd.mean()\n",
    "mod"
   ]
  },
  {
   "cell_type": "code",
   "execution_count": 244,
   "metadata": {},
   "outputs": [
    {
     "data": {
      "text/html": [
       "<div>\n",
       "<style scoped>\n",
       "    .dataframe tbody tr th:only-of-type {\n",
       "        vertical-align: middle;\n",
       "    }\n",
       "\n",
       "    .dataframe tbody tr th {\n",
       "        vertical-align: top;\n",
       "    }\n",
       "\n",
       "    .dataframe thead th {\n",
       "        text-align: right;\n",
       "    }\n",
       "</style>\n",
       "<table border=\"1\" class=\"dataframe\">\n",
       "  <thead>\n",
       "    <tr style=\"text-align: right;\">\n",
       "      <th></th>\n",
       "      <th>mean_oddd</th>\n",
       "    </tr>\n",
       "    <tr>\n",
       "      <th>country</th>\n",
       "      <th></th>\n",
       "    </tr>\n",
       "  </thead>\n",
       "  <tbody>\n",
       "    <tr>\n",
       "      <th>Belgium</th>\n",
       "      <td>3.658112</td>\n",
       "    </tr>\n",
       "    <tr>\n",
       "      <th>England</th>\n",
       "      <td>3.829071</td>\n",
       "    </tr>\n",
       "    <tr>\n",
       "      <th>France</th>\n",
       "      <td>3.411197</td>\n",
       "    </tr>\n",
       "    <tr>\n",
       "      <th>Germany</th>\n",
       "      <td>3.857329</td>\n",
       "    </tr>\n",
       "    <tr>\n",
       "      <th>Italy</th>\n",
       "      <td>3.568104</td>\n",
       "    </tr>\n",
       "    <tr>\n",
       "      <th>Netherlands</th>\n",
       "      <td>4.017822</td>\n",
       "    </tr>\n",
       "    <tr>\n",
       "      <th>Portugal</th>\n",
       "      <td>3.710743</td>\n",
       "    </tr>\n",
       "    <tr>\n",
       "      <th>Scotland</th>\n",
       "      <td>3.718433</td>\n",
       "    </tr>\n",
       "    <tr>\n",
       "      <th>Spain</th>\n",
       "      <td>4.104879</td>\n",
       "    </tr>\n",
       "  </tbody>\n",
       "</table>\n",
       "</div>"
      ],
      "text/plain": [
       "             mean_oddd\n",
       "country               \n",
       "Belgium       3.658112\n",
       "England       3.829071\n",
       "France        3.411197\n",
       "Germany       3.857329\n",
       "Italy         3.568104\n",
       "Netherlands   4.017822\n",
       "Portugal      3.710743\n",
       "Scotland      3.718433\n",
       "Spain         4.104879"
      ]
     },
     "execution_count": 244,
     "metadata": {},
     "output_type": "execute_result"
    }
   ],
   "source": [
    "df_mod = pd.DataFrame([mod]).transpose()\n",
    "df_mod"
   ]
  },
  {
   "cell_type": "markdown",
   "metadata": {},
   "source": [
    "The even mean odds for each country."
   ]
  },
  {
   "cell_type": "code",
   "execution_count": null,
   "metadata": {},
   "outputs": [],
   "source": [
    "df_stats.groupby(['country']).mean_odda.mean()"
   ]
  },
  {
   "cell_type": "markdown",
   "metadata": {},
   "source": [
    "The away victory mean odds for each country."
   ]
  },
  {
   "cell_type": "code",
   "execution_count": null,
   "metadata": {},
   "outputs": [],
   "source": [
    "df_stats.groupby(['result', 'country']).goal_diff.mean()"
   ]
  },
  {
   "cell_type": "markdown",
   "metadata": {},
   "source": [
    "Above is possible to see the average goal difference for every country, depending on the result."
   ]
  },
  {
   "cell_type": "markdown",
   "metadata": {},
   "source": [
    "<a id='wrangling'></a>\n",
    "## Data Wrangling\n",
    "\n",
    "> **Tip**: In this section of the report, you will load in the data, check for cleanliness, and then trim and clean your dataset for analysis. Make sure that you document your steps carefully and justify your cleaning decisions.\n",
    "\n",
    "### General Properties"
   ]
  },
  {
   "cell_type": "code",
   "execution_count": null,
   "metadata": {},
   "outputs": [],
   "source": [
    "df_stats['season'].unique()"
   ]
  },
  {
   "cell_type": "code",
   "execution_count": null,
   "metadata": {},
   "outputs": [],
   "source": [
    "df_stats['country'].unique()"
   ]
  },
  {
   "cell_type": "code",
   "execution_count": null,
   "metadata": {},
   "outputs": [],
   "source": [
    "# Load your data and print out a few lines. Perform operations to inspect data\n",
    "#   types and look for instances of missing or possibly errant data.\n"
   ]
  },
  {
   "cell_type": "markdown",
   "metadata": {},
   "source": [
    "> **Tip**: You should _not_ perform too many operations in each cell. Create cells freely to explore your data. One option that you can take with this project is to do a lot of explorations in an initial notebook. These don't have to be organized, but make sure you use enough comments to understand the purpose of each code cell. Then, after you're done with your analysis, create a duplicate notebook where you will trim the excess and organize your steps so that you have a flowing, cohesive report.\n",
    "\n",
    "> **Tip**: Make sure that you keep your reader informed on the steps that you are taking in your investigation. Follow every code cell, or every set of related code cells, with a markdown cell to describe to the reader what was found in the preceding cell(s). Try to make it so that the reader can then understand what they will be seeing in the following cell(s).\n",
    "\n",
    "### Data Cleaning (Replace this with more specific notes!)"
   ]
  },
  {
   "cell_type": "code",
   "execution_count": null,
   "metadata": {},
   "outputs": [],
   "source": [
    "# After discussing the structure of the data and any problems that need to be\n",
    "#   cleaned, perform those cleaning steps in the second part of this section.\n"
   ]
  },
  {
   "cell_type": "markdown",
   "metadata": {},
   "source": [
    "<a id='eda'></a>\n",
    "## Exploratory Data Analysis\n",
    "\n",
    "> **Tip**: Now that you've trimmed and cleaned your data, you're ready to move on to exploration. Compute statistics and create visualizations with the goal of addressing the research questions that you posed in the Introduction section. It is recommended that you be systematic with your approach. Look at one variable at a time, and then follow it up by looking at relationships between variables.\n",
    "\n",
    "### Research Question 1 (Replace this header name!)"
   ]
  },
  {
   "cell_type": "code",
   "execution_count": null,
   "metadata": {},
   "outputs": [],
   "source": [
    "# Use this, and more code cells, to explore your data. Don't forget to add\n",
    "#   Markdown cells to document your observations and findings.\n"
   ]
  },
  {
   "cell_type": "markdown",
   "metadata": {},
   "source": [
    "### Research Question 2  (Replace this header name!)"
   ]
  },
  {
   "cell_type": "code",
   "execution_count": null,
   "metadata": {},
   "outputs": [],
   "source": [
    "# Continue to explore the data to address your additional research\n",
    "#   questions. Add more headers as needed if you have more questions to\n",
    "#   investigate.\n"
   ]
  },
  {
   "cell_type": "markdown",
   "metadata": {},
   "source": [
    "<a id='conclusions'></a>\n",
    "## Conclusions\n",
    "\n",
    "> **Tip**: Finally, summarize your findings and the results that have been performed. Make sure that you are clear with regards to the limitations of your exploration. If you haven't done any statistical tests, do not imply any statistical conclusions. And make sure you avoid implying causation from correlation!\n",
    "\n",
    "> **Tip**: Once you are satisfied with your work, you should save a copy of the report in HTML or PDF form via the **File** > **Download as** submenu. Before exporting your report, check over it to make sure that the flow of the report is complete. You should probably remove all of the \"Tip\" quotes like this one so that the presentation is as tidy as possible. Congratulations!"
   ]
  },
  {
   "cell_type": "code",
   "execution_count": null,
   "metadata": {},
   "outputs": [],
   "source": []
  },
  {
   "cell_type": "code",
   "execution_count": null,
   "metadata": {},
   "outputs": [],
   "source": []
  },
  {
   "cell_type": "code",
   "execution_count": null,
   "metadata": {},
   "outputs": [],
   "source": []
  },
  {
   "cell_type": "code",
   "execution_count": null,
   "metadata": {},
   "outputs": [],
   "source": []
  },
  {
   "cell_type": "code",
   "execution_count": null,
   "metadata": {},
   "outputs": [],
   "source": []
  },
  {
   "cell_type": "code",
   "execution_count": null,
   "metadata": {},
   "outputs": [],
   "source": []
  },
  {
   "cell_type": "code",
   "execution_count": null,
   "metadata": {},
   "outputs": [],
   "source": []
  }
 ],
 "metadata": {
  "kernelspec": {
   "display_name": "Python 3",
   "language": "python",
   "name": "python3"
  },
  "language_info": {
   "codemirror_mode": {
    "name": "ipython",
    "version": 3
   },
   "file_extension": ".py",
   "mimetype": "text/x-python",
   "name": "python",
   "nbconvert_exporter": "python",
   "pygments_lexer": "ipython3",
   "version": "3.8.5"
  }
 },
 "nbformat": 4,
 "nbformat_minor": 2
}
