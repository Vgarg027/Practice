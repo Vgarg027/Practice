{
 "cells": [
  {
   "cell_type": "markdown",
   "metadata": {},
   "source": [
    "# Project: Wrangling and Analyze Data"
   ]
  },
  {
   "cell_type": "markdown",
   "metadata": {},
   "source": [
    "## Importing packages for Analysis"
   ]
  },
  {
   "cell_type": "code",
   "execution_count": 1,
   "metadata": {},
   "outputs": [],
   "source": [
    "import numpy as np\n",
    "import pandas as pd\n",
    "import requests\n",
    "import json\n",
    "import re\n",
    "import matplotlib.pyplot as plt\n",
    "\n",
    "%matplotlib inline"
   ]
  },
  {
   "cell_type": "code",
   "execution_count": 2,
   "metadata": {},
   "outputs": [],
   "source": [
    "import tweepy as tw"
   ]
  },
  {
   "cell_type": "markdown",
   "metadata": {},
   "source": [
    "## Data Gathering\n",
    "\n",
    "1. Upload the WeRateDogs Twitter archive data (twitter_archive_enhanced.csv)"
   ]
  },
  {
   "cell_type": "code",
   "execution_count": 3,
   "metadata": {},
   "outputs": [],
   "source": [
    "dog_arch = pd.read_csv(r'C:\\Users\\gyabaah.poku\\OneDrive - Vodafone Group\\VDF Project\\PY\\Udacity Data Science\\Project 2\\twitter-archive-enhanced.csv')"
   ]
  },
  {
   "cell_type": "markdown",
   "metadata": {},
   "source": [
    "2. Use the Requests library to download the tweet image prediction (image_predictions.tsv)"
   ]
  },
  {
   "cell_type": "code",
   "execution_count": 6,
   "metadata": {},
   "outputs": [],
   "source": [
    "URL = 'https://d17h27t6h515a5.cloudfront.net/topher/2017/August/599fd2ad_image-predictions/image-predictions.tsv'"
   ]
  },
  {
   "cell_type": "code",
   "execution_count": 7,
   "metadata": {},
   "outputs": [],
   "source": [
    "response = requests.get(URL)\n",
    "\n",
    "with open('image_predictions.tsv', 'wb') as file:\n",
    "    file.write(response.content)"
   ]
  },
  {
   "cell_type": "code",
   "execution_count": 8,
   "metadata": {},
   "outputs": [],
   "source": [
    "image_df = pd.read_csv('image-predictions.tsv', sep='\\t')"
   ]
  },
  {
   "cell_type": "markdown",
   "metadata": {},
   "source": [
    "3. Use the Tweepy library to query additional data via the Twitter API (tweet_json.txt)"
   ]
  },
  {
   "cell_type": "code",
   "execution_count": 9,
   "metadata": {
    "scrolled": true
   },
   "outputs": [
    {
     "ename": "NameError",
     "evalue": "name 'API_KEY' is not defined",
     "output_type": "error",
     "traceback": [
      "\u001b[1;31m---------------------------------------------------------------------------\u001b[0m",
      "\u001b[1;31mNameError\u001b[0m                                 Traceback (most recent call last)",
      "Input \u001b[1;32mIn [9]\u001b[0m, in \u001b[0;36m<cell line: 1>\u001b[1;34m()\u001b[0m\n\u001b[1;32m----> 1\u001b[0m auth \u001b[38;5;241m=\u001b[39m tw\u001b[38;5;241m.\u001b[39mOAuth1UserHandler(\u001b[43mAPI_KEY\u001b[49m, API_KEY_SECRET, ACCESS_TOKEN, ACCESS_TOKEN_SECRET)\n\u001b[0;32m      2\u001b[0m api \u001b[38;5;241m=\u001b[39m tw\u001b[38;5;241m.\u001b[39mAPI(auth)\n",
      "\u001b[1;31mNameError\u001b[0m: name 'API_KEY' is not defined"
     ]
    }
   ],
   "source": [
    "auth = tw.OAuth1UserHandler(API_KEY, API_KEY_SECRET, ACCESS_TOKEN, ACCESS_TOKEN_SECRET)\n",
    "api = tw.API(auth)"
   ]
  },
  {
   "cell_type": "code",
   "execution_count": 10,
   "metadata": {},
   "outputs": [],
   "source": [
    "tweet_ids = [tweet_id for tweet_id in dog_arch['tweet_id']]"
   ]
  },
  {
   "cell_type": "code",
   "execution_count": 11,
   "metadata": {},
   "outputs": [],
   "source": [
    "with open('tweet_json.txt', 'a') as txt_file:\n",
    "    for tweet_id in tweet_ids:\n",
    "        try:\n",
    "            txt_file.write(json.dumps(api.get_status(tweet_id)._json))\n",
    "            txt_file.write('\\n')\n",
    "        except Exception as e:\n",
    "            continue"
   ]
  },
  {
   "cell_type": "code",
   "execution_count": 12,
   "metadata": {},
   "outputs": [],
   "source": [
    "tweet = []\n",
    "\n",
    "with open('tweet_json.txt','r') as file:\n",
    "    for item in file:\n",
    "        data = json.loads(item) #run the item to a python dictionary\n",
    "        tweet.append(data)"
   ]
  },
  {
   "cell_type": "code",
   "execution_count": 13,
   "metadata": {},
   "outputs": [],
   "source": [
    "tweet_df = pd.DataFrame(tweet, columns = ['id', 'retweet_count', 'favorite_count'])"
   ]
  },
  {
   "cell_type": "markdown",
   "metadata": {},
   "source": [
    "## Assessing Data\n",
    "In this section, I detect and document at least some quality and tidiness issues in our gathered using **both** visual assessment and programmatic assessement.\n",
    "\n"
   ]
  },
  {
   "cell_type": "markdown",
   "metadata": {},
   "source": [
    "#### Assessing Data Programmartically"
   ]
  },
  {
   "cell_type": "code",
   "execution_count": 14,
   "metadata": {
    "scrolled": true
   },
   "outputs": [
    {
     "name": "stdout",
     "output_type": "stream",
     "text": [
      "<class 'pandas.core.frame.DataFrame'>\n",
      "RangeIndex: 2356 entries, 0 to 2355\n",
      "Data columns (total 17 columns):\n",
      " #   Column                      Non-Null Count  Dtype  \n",
      "---  ------                      --------------  -----  \n",
      " 0   tweet_id                    2356 non-null   int64  \n",
      " 1   in_reply_to_status_id       78 non-null     float64\n",
      " 2   in_reply_to_user_id         78 non-null     float64\n",
      " 3   timestamp                   2356 non-null   object \n",
      " 4   source                      2356 non-null   object \n",
      " 5   text                        2356 non-null   object \n",
      " 6   retweeted_status_id         181 non-null    float64\n",
      " 7   retweeted_status_user_id    181 non-null    float64\n",
      " 8   retweeted_status_timestamp  181 non-null    object \n",
      " 9   expanded_urls               2297 non-null   object \n",
      " 10  rating_numerator            2356 non-null   int64  \n",
      " 11  rating_denominator          2356 non-null   int64  \n",
      " 12  name                        2356 non-null   object \n",
      " 13  doggo                       2356 non-null   object \n",
      " 14  floofer                     2356 non-null   object \n",
      " 15  pupper                      2356 non-null   object \n",
      " 16  puppo                       2356 non-null   object \n",
      "dtypes: float64(4), int64(3), object(10)\n",
      "memory usage: 313.0+ KB\n"
     ]
    }
   ],
   "source": [
    "dog_arch.info()"
   ]
  },
  {
   "cell_type": "markdown",
   "metadata": {},
   "source": [
    "#### Looking at the info on the archived data, we notice that there are some missing data for a numer of columns. One such column is the one holding data on 'expanded urls'. Since that column will not feature a lot in our analysis, we can remove it altogether during our cleaning process. "
   ]
  },
  {
   "cell_type": "code",
   "execution_count": 17,
   "metadata": {
    "scrolled": true
   },
   "outputs": [
    {
     "data": {
      "text/plain": [
       "0      NaN\n",
       "1      NaN\n",
       "2      NaN\n",
       "3      NaN\n",
       "4      NaN\n",
       "        ..\n",
       "2351   NaN\n",
       "2352   NaN\n",
       "2353   NaN\n",
       "2354   NaN\n",
       "2355   NaN\n",
       "Name: in_reply_to_status_id, Length: 2356, dtype: float64"
      ]
     },
     "execution_count": 17,
     "metadata": {},
     "output_type": "execute_result"
    }
   ],
   "source": [
    "dog_arch.retweeted_status_id\n"
   ]
  },
  {
   "cell_type": "code",
   "execution_count": 18,
   "metadata": {},
   "outputs": [
    {
     "data": {
      "text/plain": [
       "0      NaN\n",
       "1      NaN\n",
       "2      NaN\n",
       "3      NaN\n",
       "4      NaN\n",
       "        ..\n",
       "2351   NaN\n",
       "2352   NaN\n",
       "2353   NaN\n",
       "2354   NaN\n",
       "2355   NaN\n",
       "Name: in_reply_to_status_id, Length: 2356, dtype: float64"
      ]
     },
     "execution_count": 18,
     "metadata": {},
     "output_type": "execute_result"
    }
   ],
   "source": [
    "dog_arch.in_reply_to_status_id"
   ]
  },
  {
   "cell_type": "markdown",
   "metadata": {},
   "source": [
    "#### We can also notice that some rows of data have retweet status ids and in reply status ids. As status in the original project statement, there are a number of tweets with ratings which are not original but are either retweets or replies to original tweets. We can use these ids to identify these specific retweets and replies and delete them so they can not affect our ratings as 'double counts'"
   ]
  },
  {
   "cell_type": "code",
   "execution_count": 25,
   "metadata": {},
   "outputs": [
    {
     "data": {
      "text/plain": [
       "170"
      ]
     },
     "execution_count": 25,
     "metadata": {},
     "output_type": "execute_result"
    }
   ],
   "source": [
    "dog_arch.rating_denominator.max()"
   ]
  },
  {
   "cell_type": "markdown",
   "metadata": {},
   "source": [
    "#### Checking the values for the rating denominator visually in Excel, we could see that there were multiple values greater than 10. The initial project statement mentioned that the denominators were almost always 10. Checking with python code, we can see that the highest value in the denominator column is 170. We will have to work on this column to correct the incorrect values or remove the column in its entirety if it will not feature in our final analysis."
   ]
  },
  {
   "cell_type": "code",
   "execution_count": 26,
   "metadata": {
    "scrolled": false
   },
   "outputs": [
    {
     "data": {
      "text/plain": [
       "0       <a href=\"http://twitter.com/download/iphone\" r...\n",
       "1       <a href=\"http://twitter.com/download/iphone\" r...\n",
       "2       <a href=\"http://twitter.com/download/iphone\" r...\n",
       "3       <a href=\"http://twitter.com/download/iphone\" r...\n",
       "4       <a href=\"http://twitter.com/download/iphone\" r...\n",
       "                              ...                        \n",
       "2351    <a href=\"http://twitter.com/download/iphone\" r...\n",
       "2352    <a href=\"http://twitter.com/download/iphone\" r...\n",
       "2353    <a href=\"http://twitter.com/download/iphone\" r...\n",
       "2354    <a href=\"http://twitter.com/download/iphone\" r...\n",
       "2355    <a href=\"http://twitter.com/download/iphone\" r...\n",
       "Name: source, Length: 2356, dtype: object"
      ]
     },
     "execution_count": 26,
     "metadata": {},
     "output_type": "execute_result"
    }
   ],
   "source": [
    "dog_arch.source"
   ]
  },
  {
   "cell_type": "markdown",
   "metadata": {},
   "source": [
    "#### The source values are supposed to give us information on where the tweets are coming from, like whether they are from Twitter web client ot twitter on Iphone, etc. However there seems to be an anchor tag along with the text. We will have to clean the anchor tags and just leave the text that shows the actual source of the tweet during our cleaning process."
   ]
  },
  {
   "cell_type": "code",
   "execution_count": 27,
   "metadata": {
    "scrolled": false
   },
   "outputs": [
    {
     "data": {
      "text/plain": [
       "0        Phineas\n",
       "1          Tilly\n",
       "2         Archie\n",
       "3          Darla\n",
       "4       Franklin\n",
       "          ...   \n",
       "2351        None\n",
       "2352           a\n",
       "2353           a\n",
       "2354           a\n",
       "2355        None\n",
       "Name: name, Length: 2356, dtype: object"
      ]
     },
     "execution_count": 27,
     "metadata": {},
     "output_type": "execute_result"
    }
   ],
   "source": [
    "dog_arch.name"
   ]
  },
  {
   "cell_type": "markdown",
   "metadata": {},
   "source": [
    "#### Checking the names of the dogs in the name column, we can clearly see that some names are not actual names. Names like 'a' are not actual dog names but were extracted erroneously. These instances of inaccurate dog names will have to be corrected during our cleaning process"
   ]
  },
  {
   "cell_type": "code",
   "execution_count": 29,
   "metadata": {
    "scrolled": false
   },
   "outputs": [
    {
     "data": {
      "text/plain": [
       "25      This... is a Jubilant Antarctic House Bear. We...\n",
       "59      Ugh not again. We only rate dogs. Please don't...\n",
       "93      I can't believe this keeps happening. This, is...\n",
       "118     RT @dog_rates: We only rate dogs. This is quit...\n",
       "127     Unbelievable. We only rate dogs. Please don't ...\n",
       "                              ...                        \n",
       "1737    Guys this really needs to stop. We've been ove...\n",
       "1745    I know everyone's excited for Christmas but th...\n",
       "1854    Seriously guys?! Only send in dogs. I only rat...\n",
       "1877    C'mon guys. We've been over this. We only rate...\n",
       "1938    Guys I'm getting real tired of this. We only r...\n",
       "Name: text, Length: 64, dtype: object"
      ]
     },
     "execution_count": 29,
     "metadata": {},
     "output_type": "execute_result"
    }
   ],
   "source": [
    "dog_arch.text[dog_arch['text'].str.match('.*only rate dog')]"
   ]
  },
  {
   "cell_type": "markdown",
   "metadata": {},
   "source": [
    "#### Assessing the data visually, we noticed that there were a number of complaints about some tweets not having images of dogs. Using python codes to sample such tweets, we can see that there were about 64 tweets not abt dogs. We will have to remove such tweets during the cleaning process"
   ]
  },
  {
   "cell_type": "code",
   "execution_count": 31,
   "metadata": {},
   "outputs": [
    {
     "data": {
      "text/html": [
       "<div>\n",
       "<style scoped>\n",
       "    .dataframe tbody tr th:only-of-type {\n",
       "        vertical-align: middle;\n",
       "    }\n",
       "\n",
       "    .dataframe tbody tr th {\n",
       "        vertical-align: top;\n",
       "    }\n",
       "\n",
       "    .dataframe thead th {\n",
       "        text-align: right;\n",
       "    }\n",
       "</style>\n",
       "<table border=\"1\" class=\"dataframe\">\n",
       "  <thead>\n",
       "    <tr style=\"text-align: right;\">\n",
       "      <th></th>\n",
       "      <th>tweet_id</th>\n",
       "      <th>in_reply_to_status_id</th>\n",
       "      <th>in_reply_to_user_id</th>\n",
       "      <th>timestamp</th>\n",
       "      <th>source</th>\n",
       "      <th>text</th>\n",
       "      <th>retweeted_status_id</th>\n",
       "      <th>retweeted_status_user_id</th>\n",
       "      <th>retweeted_status_timestamp</th>\n",
       "      <th>expanded_urls</th>\n",
       "      <th>rating_numerator</th>\n",
       "      <th>rating_denominator</th>\n",
       "      <th>name</th>\n",
       "      <th>doggo</th>\n",
       "      <th>floofer</th>\n",
       "      <th>pupper</th>\n",
       "      <th>puppo</th>\n",
       "    </tr>\n",
       "  </thead>\n",
       "  <tbody>\n",
       "    <tr>\n",
       "      <th>0</th>\n",
       "      <td>892420643555336193</td>\n",
       "      <td>NaN</td>\n",
       "      <td>NaN</td>\n",
       "      <td>2017-08-01 16:23:56 +0000</td>\n",
       "      <td>&lt;a href=\"http://twitter.com/download/iphone\" r...</td>\n",
       "      <td>This is Phineas. He's a mystical boy. Only eve...</td>\n",
       "      <td>NaN</td>\n",
       "      <td>NaN</td>\n",
       "      <td>NaN</td>\n",
       "      <td>https://twitter.com/dog_rates/status/892420643...</td>\n",
       "      <td>13</td>\n",
       "      <td>10</td>\n",
       "      <td>Phineas</td>\n",
       "      <td>None</td>\n",
       "      <td>None</td>\n",
       "      <td>None</td>\n",
       "      <td>None</td>\n",
       "    </tr>\n",
       "    <tr>\n",
       "      <th>1</th>\n",
       "      <td>892177421306343426</td>\n",
       "      <td>NaN</td>\n",
       "      <td>NaN</td>\n",
       "      <td>2017-08-01 00:17:27 +0000</td>\n",
       "      <td>&lt;a href=\"http://twitter.com/download/iphone\" r...</td>\n",
       "      <td>This is Tilly. She's just checking pup on you....</td>\n",
       "      <td>NaN</td>\n",
       "      <td>NaN</td>\n",
       "      <td>NaN</td>\n",
       "      <td>https://twitter.com/dog_rates/status/892177421...</td>\n",
       "      <td>13</td>\n",
       "      <td>10</td>\n",
       "      <td>Tilly</td>\n",
       "      <td>None</td>\n",
       "      <td>None</td>\n",
       "      <td>None</td>\n",
       "      <td>None</td>\n",
       "    </tr>\n",
       "    <tr>\n",
       "      <th>2</th>\n",
       "      <td>891815181378084864</td>\n",
       "      <td>NaN</td>\n",
       "      <td>NaN</td>\n",
       "      <td>2017-07-31 00:18:03 +0000</td>\n",
       "      <td>&lt;a href=\"http://twitter.com/download/iphone\" r...</td>\n",
       "      <td>This is Archie. He is a rare Norwegian Pouncin...</td>\n",
       "      <td>NaN</td>\n",
       "      <td>NaN</td>\n",
       "      <td>NaN</td>\n",
       "      <td>https://twitter.com/dog_rates/status/891815181...</td>\n",
       "      <td>12</td>\n",
       "      <td>10</td>\n",
       "      <td>Archie</td>\n",
       "      <td>None</td>\n",
       "      <td>None</td>\n",
       "      <td>None</td>\n",
       "      <td>None</td>\n",
       "    </tr>\n",
       "    <tr>\n",
       "      <th>3</th>\n",
       "      <td>891689557279858688</td>\n",
       "      <td>NaN</td>\n",
       "      <td>NaN</td>\n",
       "      <td>2017-07-30 15:58:51 +0000</td>\n",
       "      <td>&lt;a href=\"http://twitter.com/download/iphone\" r...</td>\n",
       "      <td>This is Darla. She commenced a snooze mid meal...</td>\n",
       "      <td>NaN</td>\n",
       "      <td>NaN</td>\n",
       "      <td>NaN</td>\n",
       "      <td>https://twitter.com/dog_rates/status/891689557...</td>\n",
       "      <td>13</td>\n",
       "      <td>10</td>\n",
       "      <td>Darla</td>\n",
       "      <td>None</td>\n",
       "      <td>None</td>\n",
       "      <td>None</td>\n",
       "      <td>None</td>\n",
       "    </tr>\n",
       "    <tr>\n",
       "      <th>4</th>\n",
       "      <td>891327558926688256</td>\n",
       "      <td>NaN</td>\n",
       "      <td>NaN</td>\n",
       "      <td>2017-07-29 16:00:24 +0000</td>\n",
       "      <td>&lt;a href=\"http://twitter.com/download/iphone\" r...</td>\n",
       "      <td>This is Franklin. He would like you to stop ca...</td>\n",
       "      <td>NaN</td>\n",
       "      <td>NaN</td>\n",
       "      <td>NaN</td>\n",
       "      <td>https://twitter.com/dog_rates/status/891327558...</td>\n",
       "      <td>12</td>\n",
       "      <td>10</td>\n",
       "      <td>Franklin</td>\n",
       "      <td>None</td>\n",
       "      <td>None</td>\n",
       "      <td>None</td>\n",
       "      <td>None</td>\n",
       "    </tr>\n",
       "    <tr>\n",
       "      <th>...</th>\n",
       "      <td>...</td>\n",
       "      <td>...</td>\n",
       "      <td>...</td>\n",
       "      <td>...</td>\n",
       "      <td>...</td>\n",
       "      <td>...</td>\n",
       "      <td>...</td>\n",
       "      <td>...</td>\n",
       "      <td>...</td>\n",
       "      <td>...</td>\n",
       "      <td>...</td>\n",
       "      <td>...</td>\n",
       "      <td>...</td>\n",
       "      <td>...</td>\n",
       "      <td>...</td>\n",
       "      <td>...</td>\n",
       "      <td>...</td>\n",
       "    </tr>\n",
       "    <tr>\n",
       "      <th>2351</th>\n",
       "      <td>666049248165822465</td>\n",
       "      <td>NaN</td>\n",
       "      <td>NaN</td>\n",
       "      <td>2015-11-16 00:24:50 +0000</td>\n",
       "      <td>&lt;a href=\"http://twitter.com/download/iphone\" r...</td>\n",
       "      <td>Here we have a 1949 1st generation vulpix. Enj...</td>\n",
       "      <td>NaN</td>\n",
       "      <td>NaN</td>\n",
       "      <td>NaN</td>\n",
       "      <td>https://twitter.com/dog_rates/status/666049248...</td>\n",
       "      <td>5</td>\n",
       "      <td>10</td>\n",
       "      <td>None</td>\n",
       "      <td>None</td>\n",
       "      <td>None</td>\n",
       "      <td>None</td>\n",
       "      <td>None</td>\n",
       "    </tr>\n",
       "    <tr>\n",
       "      <th>2352</th>\n",
       "      <td>666044226329800704</td>\n",
       "      <td>NaN</td>\n",
       "      <td>NaN</td>\n",
       "      <td>2015-11-16 00:04:52 +0000</td>\n",
       "      <td>&lt;a href=\"http://twitter.com/download/iphone\" r...</td>\n",
       "      <td>This is a purebred Piers Morgan. Loves to Netf...</td>\n",
       "      <td>NaN</td>\n",
       "      <td>NaN</td>\n",
       "      <td>NaN</td>\n",
       "      <td>https://twitter.com/dog_rates/status/666044226...</td>\n",
       "      <td>6</td>\n",
       "      <td>10</td>\n",
       "      <td>a</td>\n",
       "      <td>None</td>\n",
       "      <td>None</td>\n",
       "      <td>None</td>\n",
       "      <td>None</td>\n",
       "    </tr>\n",
       "    <tr>\n",
       "      <th>2353</th>\n",
       "      <td>666033412701032449</td>\n",
       "      <td>NaN</td>\n",
       "      <td>NaN</td>\n",
       "      <td>2015-11-15 23:21:54 +0000</td>\n",
       "      <td>&lt;a href=\"http://twitter.com/download/iphone\" r...</td>\n",
       "      <td>Here is a very happy pup. Big fan of well-main...</td>\n",
       "      <td>NaN</td>\n",
       "      <td>NaN</td>\n",
       "      <td>NaN</td>\n",
       "      <td>https://twitter.com/dog_rates/status/666033412...</td>\n",
       "      <td>9</td>\n",
       "      <td>10</td>\n",
       "      <td>a</td>\n",
       "      <td>None</td>\n",
       "      <td>None</td>\n",
       "      <td>None</td>\n",
       "      <td>None</td>\n",
       "    </tr>\n",
       "    <tr>\n",
       "      <th>2354</th>\n",
       "      <td>666029285002620928</td>\n",
       "      <td>NaN</td>\n",
       "      <td>NaN</td>\n",
       "      <td>2015-11-15 23:05:30 +0000</td>\n",
       "      <td>&lt;a href=\"http://twitter.com/download/iphone\" r...</td>\n",
       "      <td>This is a western brown Mitsubishi terrier. Up...</td>\n",
       "      <td>NaN</td>\n",
       "      <td>NaN</td>\n",
       "      <td>NaN</td>\n",
       "      <td>https://twitter.com/dog_rates/status/666029285...</td>\n",
       "      <td>7</td>\n",
       "      <td>10</td>\n",
       "      <td>a</td>\n",
       "      <td>None</td>\n",
       "      <td>None</td>\n",
       "      <td>None</td>\n",
       "      <td>None</td>\n",
       "    </tr>\n",
       "    <tr>\n",
       "      <th>2355</th>\n",
       "      <td>666020888022790149</td>\n",
       "      <td>NaN</td>\n",
       "      <td>NaN</td>\n",
       "      <td>2015-11-15 22:32:08 +0000</td>\n",
       "      <td>&lt;a href=\"http://twitter.com/download/iphone\" r...</td>\n",
       "      <td>Here we have a Japanese Irish Setter. Lost eye...</td>\n",
       "      <td>NaN</td>\n",
       "      <td>NaN</td>\n",
       "      <td>NaN</td>\n",
       "      <td>https://twitter.com/dog_rates/status/666020888...</td>\n",
       "      <td>8</td>\n",
       "      <td>10</td>\n",
       "      <td>None</td>\n",
       "      <td>None</td>\n",
       "      <td>None</td>\n",
       "      <td>None</td>\n",
       "      <td>None</td>\n",
       "    </tr>\n",
       "  </tbody>\n",
       "</table>\n",
       "<p>2356 rows × 17 columns</p>\n",
       "</div>"
      ],
      "text/plain": [
       "                tweet_id  in_reply_to_status_id  in_reply_to_user_id  \\\n",
       "0     892420643555336193                    NaN                  NaN   \n",
       "1     892177421306343426                    NaN                  NaN   \n",
       "2     891815181378084864                    NaN                  NaN   \n",
       "3     891689557279858688                    NaN                  NaN   \n",
       "4     891327558926688256                    NaN                  NaN   \n",
       "...                  ...                    ...                  ...   \n",
       "2351  666049248165822465                    NaN                  NaN   \n",
       "2352  666044226329800704                    NaN                  NaN   \n",
       "2353  666033412701032449                    NaN                  NaN   \n",
       "2354  666029285002620928                    NaN                  NaN   \n",
       "2355  666020888022790149                    NaN                  NaN   \n",
       "\n",
       "                      timestamp  \\\n",
       "0     2017-08-01 16:23:56 +0000   \n",
       "1     2017-08-01 00:17:27 +0000   \n",
       "2     2017-07-31 00:18:03 +0000   \n",
       "3     2017-07-30 15:58:51 +0000   \n",
       "4     2017-07-29 16:00:24 +0000   \n",
       "...                         ...   \n",
       "2351  2015-11-16 00:24:50 +0000   \n",
       "2352  2015-11-16 00:04:52 +0000   \n",
       "2353  2015-11-15 23:21:54 +0000   \n",
       "2354  2015-11-15 23:05:30 +0000   \n",
       "2355  2015-11-15 22:32:08 +0000   \n",
       "\n",
       "                                                 source  \\\n",
       "0     <a href=\"http://twitter.com/download/iphone\" r...   \n",
       "1     <a href=\"http://twitter.com/download/iphone\" r...   \n",
       "2     <a href=\"http://twitter.com/download/iphone\" r...   \n",
       "3     <a href=\"http://twitter.com/download/iphone\" r...   \n",
       "4     <a href=\"http://twitter.com/download/iphone\" r...   \n",
       "...                                                 ...   \n",
       "2351  <a href=\"http://twitter.com/download/iphone\" r...   \n",
       "2352  <a href=\"http://twitter.com/download/iphone\" r...   \n",
       "2353  <a href=\"http://twitter.com/download/iphone\" r...   \n",
       "2354  <a href=\"http://twitter.com/download/iphone\" r...   \n",
       "2355  <a href=\"http://twitter.com/download/iphone\" r...   \n",
       "\n",
       "                                                   text  retweeted_status_id  \\\n",
       "0     This is Phineas. He's a mystical boy. Only eve...                  NaN   \n",
       "1     This is Tilly. She's just checking pup on you....                  NaN   \n",
       "2     This is Archie. He is a rare Norwegian Pouncin...                  NaN   \n",
       "3     This is Darla. She commenced a snooze mid meal...                  NaN   \n",
       "4     This is Franklin. He would like you to stop ca...                  NaN   \n",
       "...                                                 ...                  ...   \n",
       "2351  Here we have a 1949 1st generation vulpix. Enj...                  NaN   \n",
       "2352  This is a purebred Piers Morgan. Loves to Netf...                  NaN   \n",
       "2353  Here is a very happy pup. Big fan of well-main...                  NaN   \n",
       "2354  This is a western brown Mitsubishi terrier. Up...                  NaN   \n",
       "2355  Here we have a Japanese Irish Setter. Lost eye...                  NaN   \n",
       "\n",
       "      retweeted_status_user_id retweeted_status_timestamp  \\\n",
       "0                          NaN                        NaN   \n",
       "1                          NaN                        NaN   \n",
       "2                          NaN                        NaN   \n",
       "3                          NaN                        NaN   \n",
       "4                          NaN                        NaN   \n",
       "...                        ...                        ...   \n",
       "2351                       NaN                        NaN   \n",
       "2352                       NaN                        NaN   \n",
       "2353                       NaN                        NaN   \n",
       "2354                       NaN                        NaN   \n",
       "2355                       NaN                        NaN   \n",
       "\n",
       "                                          expanded_urls  rating_numerator  \\\n",
       "0     https://twitter.com/dog_rates/status/892420643...                13   \n",
       "1     https://twitter.com/dog_rates/status/892177421...                13   \n",
       "2     https://twitter.com/dog_rates/status/891815181...                12   \n",
       "3     https://twitter.com/dog_rates/status/891689557...                13   \n",
       "4     https://twitter.com/dog_rates/status/891327558...                12   \n",
       "...                                                 ...               ...   \n",
       "2351  https://twitter.com/dog_rates/status/666049248...                 5   \n",
       "2352  https://twitter.com/dog_rates/status/666044226...                 6   \n",
       "2353  https://twitter.com/dog_rates/status/666033412...                 9   \n",
       "2354  https://twitter.com/dog_rates/status/666029285...                 7   \n",
       "2355  https://twitter.com/dog_rates/status/666020888...                 8   \n",
       "\n",
       "      rating_denominator      name doggo floofer pupper puppo  \n",
       "0                     10   Phineas  None    None   None  None  \n",
       "1                     10     Tilly  None    None   None  None  \n",
       "2                     10    Archie  None    None   None  None  \n",
       "3                     10     Darla  None    None   None  None  \n",
       "4                     10  Franklin  None    None   None  None  \n",
       "...                  ...       ...   ...     ...    ...   ...  \n",
       "2351                  10      None  None    None   None  None  \n",
       "2352                  10         a  None    None   None  None  \n",
       "2353                  10         a  None    None   None  None  \n",
       "2354                  10         a  None    None   None  None  \n",
       "2355                  10      None  None    None   None  None  \n",
       "\n",
       "[2356 rows x 17 columns]"
      ]
     },
     "execution_count": 31,
     "metadata": {},
     "output_type": "execute_result"
    }
   ],
   "source": [
    "dog_arch.text"
   ]
  },
  {
   "cell_type": "markdown",
   "metadata": {},
   "source": [
    "#### Also assessing the text column, we can see that the text also contains the dog rating. Since it has been stated in the project statement that the dog rating may not have been properly extracted, we can do the extraction again from the tweet text in the text column"
   ]
  },
  {
   "cell_type": "code",
   "execution_count": 32,
   "metadata": {},
   "outputs": [
    {
     "name": "stdout",
     "output_type": "stream",
     "text": [
      "<class 'pandas.core.frame.DataFrame'>\n",
      "RangeIndex: 2327 entries, 0 to 2326\n",
      "Data columns (total 3 columns):\n",
      " #   Column          Non-Null Count  Dtype\n",
      "---  ------          --------------  -----\n",
      " 0   id              2327 non-null   int64\n",
      " 1   retweet_count   2327 non-null   int64\n",
      " 2   favorite_count  2327 non-null   int64\n",
      "dtypes: int64(3)\n",
      "memory usage: 54.7 KB\n"
     ]
    }
   ],
   "source": [
    "tweet_df.info()"
   ]
  },
  {
   "cell_type": "code",
   "execution_count": 33,
   "metadata": {
    "scrolled": false
   },
   "outputs": [
    {
     "name": "stdout",
     "output_type": "stream",
     "text": [
      "<class 'pandas.core.frame.DataFrame'>\n",
      "RangeIndex: 2075 entries, 0 to 2074\n",
      "Data columns (total 12 columns):\n",
      " #   Column    Non-Null Count  Dtype  \n",
      "---  ------    --------------  -----  \n",
      " 0   tweet_id  2075 non-null   int64  \n",
      " 1   jpg_url   2075 non-null   object \n",
      " 2   img_num   2075 non-null   int64  \n",
      " 3   p1        2075 non-null   object \n",
      " 4   p1_conf   2075 non-null   float64\n",
      " 5   p1_dog    2075 non-null   bool   \n",
      " 6   p2        2075 non-null   object \n",
      " 7   p2_conf   2075 non-null   float64\n",
      " 8   p2_dog    2075 non-null   bool   \n",
      " 9   p3        2075 non-null   object \n",
      " 10  p3_conf   2075 non-null   float64\n",
      " 11  p3_dog    2075 non-null   bool   \n",
      "dtypes: bool(3), float64(3), int64(2), object(4)\n",
      "memory usage: 152.1+ KB\n"
     ]
    }
   ],
   "source": [
    "image_df.info()"
   ]
  },
  {
   "cell_type": "markdown",
   "metadata": {},
   "source": [
    "### Assessing Data Visually"
   ]
  },
  {
   "cell_type": "code",
   "execution_count": 34,
   "metadata": {
    "scrolled": false
   },
   "outputs": [
    {
     "data": {
      "text/html": [
       "<div>\n",
       "<style scoped>\n",
       "    .dataframe tbody tr th:only-of-type {\n",
       "        vertical-align: middle;\n",
       "    }\n",
       "\n",
       "    .dataframe tbody tr th {\n",
       "        vertical-align: top;\n",
       "    }\n",
       "\n",
       "    .dataframe thead th {\n",
       "        text-align: right;\n",
       "    }\n",
       "</style>\n",
       "<table border=\"1\" class=\"dataframe\">\n",
       "  <thead>\n",
       "    <tr style=\"text-align: right;\">\n",
       "      <th></th>\n",
       "      <th>id</th>\n",
       "      <th>retweet_count</th>\n",
       "      <th>favorite_count</th>\n",
       "    </tr>\n",
       "  </thead>\n",
       "  <tbody>\n",
       "    <tr>\n",
       "      <th>0</th>\n",
       "      <td>892420643555336193</td>\n",
       "      <td>7009</td>\n",
       "      <td>33810</td>\n",
       "    </tr>\n",
       "    <tr>\n",
       "      <th>1</th>\n",
       "      <td>892177421306343426</td>\n",
       "      <td>5301</td>\n",
       "      <td>29330</td>\n",
       "    </tr>\n",
       "    <tr>\n",
       "      <th>2</th>\n",
       "      <td>891815181378084864</td>\n",
       "      <td>3481</td>\n",
       "      <td>22052</td>\n",
       "    </tr>\n",
       "    <tr>\n",
       "      <th>3</th>\n",
       "      <td>891689557279858688</td>\n",
       "      <td>7225</td>\n",
       "      <td>36939</td>\n",
       "    </tr>\n",
       "    <tr>\n",
       "      <th>4</th>\n",
       "      <td>891327558926688256</td>\n",
       "      <td>7760</td>\n",
       "      <td>35311</td>\n",
       "    </tr>\n",
       "    <tr>\n",
       "      <th>...</th>\n",
       "      <td>...</td>\n",
       "      <td>...</td>\n",
       "      <td>...</td>\n",
       "    </tr>\n",
       "    <tr>\n",
       "      <th>2322</th>\n",
       "      <td>666049248165822465</td>\n",
       "      <td>37</td>\n",
       "      <td>89</td>\n",
       "    </tr>\n",
       "    <tr>\n",
       "      <th>2323</th>\n",
       "      <td>666044226329800704</td>\n",
       "      <td>115</td>\n",
       "      <td>247</td>\n",
       "    </tr>\n",
       "    <tr>\n",
       "      <th>2324</th>\n",
       "      <td>666033412701032449</td>\n",
       "      <td>36</td>\n",
       "      <td>100</td>\n",
       "    </tr>\n",
       "    <tr>\n",
       "      <th>2325</th>\n",
       "      <td>666029285002620928</td>\n",
       "      <td>39</td>\n",
       "      <td>112</td>\n",
       "    </tr>\n",
       "    <tr>\n",
       "      <th>2326</th>\n",
       "      <td>666020888022790149</td>\n",
       "      <td>423</td>\n",
       "      <td>2293</td>\n",
       "    </tr>\n",
       "  </tbody>\n",
       "</table>\n",
       "<p>2327 rows × 3 columns</p>\n",
       "</div>"
      ],
      "text/plain": [
       "                      id  retweet_count  favorite_count\n",
       "0     892420643555336193           7009           33810\n",
       "1     892177421306343426           5301           29330\n",
       "2     891815181378084864           3481           22052\n",
       "3     891689557279858688           7225           36939\n",
       "4     891327558926688256           7760           35311\n",
       "...                  ...            ...             ...\n",
       "2322  666049248165822465             37              89\n",
       "2323  666044226329800704            115             247\n",
       "2324  666033412701032449             36             100\n",
       "2325  666029285002620928             39             112\n",
       "2326  666020888022790149            423            2293\n",
       "\n",
       "[2327 rows x 3 columns]"
      ]
     },
     "execution_count": 34,
     "metadata": {},
     "output_type": "execute_result"
    }
   ],
   "source": [
    "tweet_df"
   ]
  },
  {
   "cell_type": "code",
   "execution_count": 37,
   "metadata": {
    "scrolled": true
   },
   "outputs": [
    {
     "data": {
      "text/html": [
       "<div>\n",
       "<style scoped>\n",
       "    .dataframe tbody tr th:only-of-type {\n",
       "        vertical-align: middle;\n",
       "    }\n",
       "\n",
       "    .dataframe tbody tr th {\n",
       "        vertical-align: top;\n",
       "    }\n",
       "\n",
       "    .dataframe thead th {\n",
       "        text-align: right;\n",
       "    }\n",
       "</style>\n",
       "<table border=\"1\" class=\"dataframe\">\n",
       "  <thead>\n",
       "    <tr style=\"text-align: right;\">\n",
       "      <th></th>\n",
       "      <th>tweet_id</th>\n",
       "      <th>in_reply_to_status_id</th>\n",
       "      <th>in_reply_to_user_id</th>\n",
       "      <th>timestamp</th>\n",
       "      <th>source</th>\n",
       "      <th>text</th>\n",
       "      <th>retweeted_status_id</th>\n",
       "      <th>retweeted_status_user_id</th>\n",
       "      <th>retweeted_status_timestamp</th>\n",
       "      <th>expanded_urls</th>\n",
       "      <th>rating_numerator</th>\n",
       "      <th>rating_denominator</th>\n",
       "      <th>name</th>\n",
       "      <th>doggo</th>\n",
       "      <th>floofer</th>\n",
       "      <th>pupper</th>\n",
       "      <th>puppo</th>\n",
       "    </tr>\n",
       "  </thead>\n",
       "  <tbody>\n",
       "    <tr>\n",
       "      <th>0</th>\n",
       "      <td>892420643555336193</td>\n",
       "      <td>NaN</td>\n",
       "      <td>NaN</td>\n",
       "      <td>2017-08-01 16:23:56 +0000</td>\n",
       "      <td>&lt;a href=\"http://twitter.com/download/iphone\" r...</td>\n",
       "      <td>This is Phineas. He's a mystical boy. Only eve...</td>\n",
       "      <td>NaN</td>\n",
       "      <td>NaN</td>\n",
       "      <td>NaN</td>\n",
       "      <td>https://twitter.com/dog_rates/status/892420643...</td>\n",
       "      <td>13</td>\n",
       "      <td>10</td>\n",
       "      <td>Phineas</td>\n",
       "      <td>None</td>\n",
       "      <td>None</td>\n",
       "      <td>None</td>\n",
       "      <td>None</td>\n",
       "    </tr>\n",
       "    <tr>\n",
       "      <th>1</th>\n",
       "      <td>892177421306343426</td>\n",
       "      <td>NaN</td>\n",
       "      <td>NaN</td>\n",
       "      <td>2017-08-01 00:17:27 +0000</td>\n",
       "      <td>&lt;a href=\"http://twitter.com/download/iphone\" r...</td>\n",
       "      <td>This is Tilly. She's just checking pup on you....</td>\n",
       "      <td>NaN</td>\n",
       "      <td>NaN</td>\n",
       "      <td>NaN</td>\n",
       "      <td>https://twitter.com/dog_rates/status/892177421...</td>\n",
       "      <td>13</td>\n",
       "      <td>10</td>\n",
       "      <td>Tilly</td>\n",
       "      <td>None</td>\n",
       "      <td>None</td>\n",
       "      <td>None</td>\n",
       "      <td>None</td>\n",
       "    </tr>\n",
       "    <tr>\n",
       "      <th>2</th>\n",
       "      <td>891815181378084864</td>\n",
       "      <td>NaN</td>\n",
       "      <td>NaN</td>\n",
       "      <td>2017-07-31 00:18:03 +0000</td>\n",
       "      <td>&lt;a href=\"http://twitter.com/download/iphone\" r...</td>\n",
       "      <td>This is Archie. He is a rare Norwegian Pouncin...</td>\n",
       "      <td>NaN</td>\n",
       "      <td>NaN</td>\n",
       "      <td>NaN</td>\n",
       "      <td>https://twitter.com/dog_rates/status/891815181...</td>\n",
       "      <td>12</td>\n",
       "      <td>10</td>\n",
       "      <td>Archie</td>\n",
       "      <td>None</td>\n",
       "      <td>None</td>\n",
       "      <td>None</td>\n",
       "      <td>None</td>\n",
       "    </tr>\n",
       "    <tr>\n",
       "      <th>3</th>\n",
       "      <td>891689557279858688</td>\n",
       "      <td>NaN</td>\n",
       "      <td>NaN</td>\n",
       "      <td>2017-07-30 15:58:51 +0000</td>\n",
       "      <td>&lt;a href=\"http://twitter.com/download/iphone\" r...</td>\n",
       "      <td>This is Darla. She commenced a snooze mid meal...</td>\n",
       "      <td>NaN</td>\n",
       "      <td>NaN</td>\n",
       "      <td>NaN</td>\n",
       "      <td>https://twitter.com/dog_rates/status/891689557...</td>\n",
       "      <td>13</td>\n",
       "      <td>10</td>\n",
       "      <td>Darla</td>\n",
       "      <td>None</td>\n",
       "      <td>None</td>\n",
       "      <td>None</td>\n",
       "      <td>None</td>\n",
       "    </tr>\n",
       "    <tr>\n",
       "      <th>4</th>\n",
       "      <td>891327558926688256</td>\n",
       "      <td>NaN</td>\n",
       "      <td>NaN</td>\n",
       "      <td>2017-07-29 16:00:24 +0000</td>\n",
       "      <td>&lt;a href=\"http://twitter.com/download/iphone\" r...</td>\n",
       "      <td>This is Franklin. He would like you to stop ca...</td>\n",
       "      <td>NaN</td>\n",
       "      <td>NaN</td>\n",
       "      <td>NaN</td>\n",
       "      <td>https://twitter.com/dog_rates/status/891327558...</td>\n",
       "      <td>12</td>\n",
       "      <td>10</td>\n",
       "      <td>Franklin</td>\n",
       "      <td>None</td>\n",
       "      <td>None</td>\n",
       "      <td>None</td>\n",
       "      <td>None</td>\n",
       "    </tr>\n",
       "    <tr>\n",
       "      <th>...</th>\n",
       "      <td>...</td>\n",
       "      <td>...</td>\n",
       "      <td>...</td>\n",
       "      <td>...</td>\n",
       "      <td>...</td>\n",
       "      <td>...</td>\n",
       "      <td>...</td>\n",
       "      <td>...</td>\n",
       "      <td>...</td>\n",
       "      <td>...</td>\n",
       "      <td>...</td>\n",
       "      <td>...</td>\n",
       "      <td>...</td>\n",
       "      <td>...</td>\n",
       "      <td>...</td>\n",
       "      <td>...</td>\n",
       "      <td>...</td>\n",
       "    </tr>\n",
       "    <tr>\n",
       "      <th>2351</th>\n",
       "      <td>666049248165822465</td>\n",
       "      <td>NaN</td>\n",
       "      <td>NaN</td>\n",
       "      <td>2015-11-16 00:24:50 +0000</td>\n",
       "      <td>&lt;a href=\"http://twitter.com/download/iphone\" r...</td>\n",
       "      <td>Here we have a 1949 1st generation vulpix. Enj...</td>\n",
       "      <td>NaN</td>\n",
       "      <td>NaN</td>\n",
       "      <td>NaN</td>\n",
       "      <td>https://twitter.com/dog_rates/status/666049248...</td>\n",
       "      <td>5</td>\n",
       "      <td>10</td>\n",
       "      <td>None</td>\n",
       "      <td>None</td>\n",
       "      <td>None</td>\n",
       "      <td>None</td>\n",
       "      <td>None</td>\n",
       "    </tr>\n",
       "    <tr>\n",
       "      <th>2352</th>\n",
       "      <td>666044226329800704</td>\n",
       "      <td>NaN</td>\n",
       "      <td>NaN</td>\n",
       "      <td>2015-11-16 00:04:52 +0000</td>\n",
       "      <td>&lt;a href=\"http://twitter.com/download/iphone\" r...</td>\n",
       "      <td>This is a purebred Piers Morgan. Loves to Netf...</td>\n",
       "      <td>NaN</td>\n",
       "      <td>NaN</td>\n",
       "      <td>NaN</td>\n",
       "      <td>https://twitter.com/dog_rates/status/666044226...</td>\n",
       "      <td>6</td>\n",
       "      <td>10</td>\n",
       "      <td>a</td>\n",
       "      <td>None</td>\n",
       "      <td>None</td>\n",
       "      <td>None</td>\n",
       "      <td>None</td>\n",
       "    </tr>\n",
       "    <tr>\n",
       "      <th>2353</th>\n",
       "      <td>666033412701032449</td>\n",
       "      <td>NaN</td>\n",
       "      <td>NaN</td>\n",
       "      <td>2015-11-15 23:21:54 +0000</td>\n",
       "      <td>&lt;a href=\"http://twitter.com/download/iphone\" r...</td>\n",
       "      <td>Here is a very happy pup. Big fan of well-main...</td>\n",
       "      <td>NaN</td>\n",
       "      <td>NaN</td>\n",
       "      <td>NaN</td>\n",
       "      <td>https://twitter.com/dog_rates/status/666033412...</td>\n",
       "      <td>9</td>\n",
       "      <td>10</td>\n",
       "      <td>a</td>\n",
       "      <td>None</td>\n",
       "      <td>None</td>\n",
       "      <td>None</td>\n",
       "      <td>None</td>\n",
       "    </tr>\n",
       "    <tr>\n",
       "      <th>2354</th>\n",
       "      <td>666029285002620928</td>\n",
       "      <td>NaN</td>\n",
       "      <td>NaN</td>\n",
       "      <td>2015-11-15 23:05:30 +0000</td>\n",
       "      <td>&lt;a href=\"http://twitter.com/download/iphone\" r...</td>\n",
       "      <td>This is a western brown Mitsubishi terrier. Up...</td>\n",
       "      <td>NaN</td>\n",
       "      <td>NaN</td>\n",
       "      <td>NaN</td>\n",
       "      <td>https://twitter.com/dog_rates/status/666029285...</td>\n",
       "      <td>7</td>\n",
       "      <td>10</td>\n",
       "      <td>a</td>\n",
       "      <td>None</td>\n",
       "      <td>None</td>\n",
       "      <td>None</td>\n",
       "      <td>None</td>\n",
       "    </tr>\n",
       "    <tr>\n",
       "      <th>2355</th>\n",
       "      <td>666020888022790149</td>\n",
       "      <td>NaN</td>\n",
       "      <td>NaN</td>\n",
       "      <td>2015-11-15 22:32:08 +0000</td>\n",
       "      <td>&lt;a href=\"http://twitter.com/download/iphone\" r...</td>\n",
       "      <td>Here we have a Japanese Irish Setter. Lost eye...</td>\n",
       "      <td>NaN</td>\n",
       "      <td>NaN</td>\n",
       "      <td>NaN</td>\n",
       "      <td>https://twitter.com/dog_rates/status/666020888...</td>\n",
       "      <td>8</td>\n",
       "      <td>10</td>\n",
       "      <td>None</td>\n",
       "      <td>None</td>\n",
       "      <td>None</td>\n",
       "      <td>None</td>\n",
       "      <td>None</td>\n",
       "    </tr>\n",
       "  </tbody>\n",
       "</table>\n",
       "<p>2356 rows × 17 columns</p>\n",
       "</div>"
      ],
      "text/plain": [
       "                tweet_id  in_reply_to_status_id  in_reply_to_user_id  \\\n",
       "0     892420643555336193                    NaN                  NaN   \n",
       "1     892177421306343426                    NaN                  NaN   \n",
       "2     891815181378084864                    NaN                  NaN   \n",
       "3     891689557279858688                    NaN                  NaN   \n",
       "4     891327558926688256                    NaN                  NaN   \n",
       "...                  ...                    ...                  ...   \n",
       "2351  666049248165822465                    NaN                  NaN   \n",
       "2352  666044226329800704                    NaN                  NaN   \n",
       "2353  666033412701032449                    NaN                  NaN   \n",
       "2354  666029285002620928                    NaN                  NaN   \n",
       "2355  666020888022790149                    NaN                  NaN   \n",
       "\n",
       "                      timestamp  \\\n",
       "0     2017-08-01 16:23:56 +0000   \n",
       "1     2017-08-01 00:17:27 +0000   \n",
       "2     2017-07-31 00:18:03 +0000   \n",
       "3     2017-07-30 15:58:51 +0000   \n",
       "4     2017-07-29 16:00:24 +0000   \n",
       "...                         ...   \n",
       "2351  2015-11-16 00:24:50 +0000   \n",
       "2352  2015-11-16 00:04:52 +0000   \n",
       "2353  2015-11-15 23:21:54 +0000   \n",
       "2354  2015-11-15 23:05:30 +0000   \n",
       "2355  2015-11-15 22:32:08 +0000   \n",
       "\n",
       "                                                 source  \\\n",
       "0     <a href=\"http://twitter.com/download/iphone\" r...   \n",
       "1     <a href=\"http://twitter.com/download/iphone\" r...   \n",
       "2     <a href=\"http://twitter.com/download/iphone\" r...   \n",
       "3     <a href=\"http://twitter.com/download/iphone\" r...   \n",
       "4     <a href=\"http://twitter.com/download/iphone\" r...   \n",
       "...                                                 ...   \n",
       "2351  <a href=\"http://twitter.com/download/iphone\" r...   \n",
       "2352  <a href=\"http://twitter.com/download/iphone\" r...   \n",
       "2353  <a href=\"http://twitter.com/download/iphone\" r...   \n",
       "2354  <a href=\"http://twitter.com/download/iphone\" r...   \n",
       "2355  <a href=\"http://twitter.com/download/iphone\" r...   \n",
       "\n",
       "                                                   text  retweeted_status_id  \\\n",
       "0     This is Phineas. He's a mystical boy. Only eve...                  NaN   \n",
       "1     This is Tilly. She's just checking pup on you....                  NaN   \n",
       "2     This is Archie. He is a rare Norwegian Pouncin...                  NaN   \n",
       "3     This is Darla. She commenced a snooze mid meal...                  NaN   \n",
       "4     This is Franklin. He would like you to stop ca...                  NaN   \n",
       "...                                                 ...                  ...   \n",
       "2351  Here we have a 1949 1st generation vulpix. Enj...                  NaN   \n",
       "2352  This is a purebred Piers Morgan. Loves to Netf...                  NaN   \n",
       "2353  Here is a very happy pup. Big fan of well-main...                  NaN   \n",
       "2354  This is a western brown Mitsubishi terrier. Up...                  NaN   \n",
       "2355  Here we have a Japanese Irish Setter. Lost eye...                  NaN   \n",
       "\n",
       "      retweeted_status_user_id retweeted_status_timestamp  \\\n",
       "0                          NaN                        NaN   \n",
       "1                          NaN                        NaN   \n",
       "2                          NaN                        NaN   \n",
       "3                          NaN                        NaN   \n",
       "4                          NaN                        NaN   \n",
       "...                        ...                        ...   \n",
       "2351                       NaN                        NaN   \n",
       "2352                       NaN                        NaN   \n",
       "2353                       NaN                        NaN   \n",
       "2354                       NaN                        NaN   \n",
       "2355                       NaN                        NaN   \n",
       "\n",
       "                                          expanded_urls  rating_numerator  \\\n",
       "0     https://twitter.com/dog_rates/status/892420643...                13   \n",
       "1     https://twitter.com/dog_rates/status/892177421...                13   \n",
       "2     https://twitter.com/dog_rates/status/891815181...                12   \n",
       "3     https://twitter.com/dog_rates/status/891689557...                13   \n",
       "4     https://twitter.com/dog_rates/status/891327558...                12   \n",
       "...                                                 ...               ...   \n",
       "2351  https://twitter.com/dog_rates/status/666049248...                 5   \n",
       "2352  https://twitter.com/dog_rates/status/666044226...                 6   \n",
       "2353  https://twitter.com/dog_rates/status/666033412...                 9   \n",
       "2354  https://twitter.com/dog_rates/status/666029285...                 7   \n",
       "2355  https://twitter.com/dog_rates/status/666020888...                 8   \n",
       "\n",
       "      rating_denominator      name doggo floofer pupper puppo  \n",
       "0                     10   Phineas  None    None   None  None  \n",
       "1                     10     Tilly  None    None   None  None  \n",
       "2                     10    Archie  None    None   None  None  \n",
       "3                     10     Darla  None    None   None  None  \n",
       "4                     10  Franklin  None    None   None  None  \n",
       "...                  ...       ...   ...     ...    ...   ...  \n",
       "2351                  10      None  None    None   None  None  \n",
       "2352                  10         a  None    None   None  None  \n",
       "2353                  10         a  None    None   None  None  \n",
       "2354                  10         a  None    None   None  None  \n",
       "2355                  10      None  None    None   None  None  \n",
       "\n",
       "[2356 rows x 17 columns]"
      ]
     },
     "execution_count": 37,
     "metadata": {},
     "output_type": "execute_result"
    }
   ],
   "source": [
    "dog_arch"
   ]
  },
  {
   "cell_type": "markdown",
   "metadata": {},
   "source": [
    "#### There also seems to multiple columns all showing the dog stages. The columns 'doggo', 'pupper', 'floofer' and 'puppo' are actually all showing the same information. We need to find a way of putting all of them in one column probably named dog_stage and putting the actual value of the dog in the cell."
   ]
  },
  {
   "cell_type": "code",
   "execution_count": 35,
   "metadata": {
    "scrolled": false
   },
   "outputs": [
    {
     "data": {
      "text/html": [
       "<div>\n",
       "<style scoped>\n",
       "    .dataframe tbody tr th:only-of-type {\n",
       "        vertical-align: middle;\n",
       "    }\n",
       "\n",
       "    .dataframe tbody tr th {\n",
       "        vertical-align: top;\n",
       "    }\n",
       "\n",
       "    .dataframe thead th {\n",
       "        text-align: right;\n",
       "    }\n",
       "</style>\n",
       "<table border=\"1\" class=\"dataframe\">\n",
       "  <thead>\n",
       "    <tr style=\"text-align: right;\">\n",
       "      <th></th>\n",
       "      <th>tweet_id</th>\n",
       "      <th>jpg_url</th>\n",
       "      <th>img_num</th>\n",
       "      <th>p1</th>\n",
       "      <th>p1_conf</th>\n",
       "      <th>p1_dog</th>\n",
       "      <th>p2</th>\n",
       "      <th>p2_conf</th>\n",
       "      <th>p2_dog</th>\n",
       "      <th>p3</th>\n",
       "      <th>p3_conf</th>\n",
       "      <th>p3_dog</th>\n",
       "    </tr>\n",
       "  </thead>\n",
       "  <tbody>\n",
       "    <tr>\n",
       "      <th>0</th>\n",
       "      <td>666020888022790149</td>\n",
       "      <td>https://pbs.twimg.com/media/CT4udn0WwAA0aMy.jpg</td>\n",
       "      <td>1</td>\n",
       "      <td>Welsh_springer_spaniel</td>\n",
       "      <td>0.465074</td>\n",
       "      <td>True</td>\n",
       "      <td>collie</td>\n",
       "      <td>0.156665</td>\n",
       "      <td>True</td>\n",
       "      <td>Shetland_sheepdog</td>\n",
       "      <td>0.061428</td>\n",
       "      <td>True</td>\n",
       "    </tr>\n",
       "    <tr>\n",
       "      <th>1</th>\n",
       "      <td>666029285002620928</td>\n",
       "      <td>https://pbs.twimg.com/media/CT42GRgUYAA5iDo.jpg</td>\n",
       "      <td>1</td>\n",
       "      <td>redbone</td>\n",
       "      <td>0.506826</td>\n",
       "      <td>True</td>\n",
       "      <td>miniature_pinscher</td>\n",
       "      <td>0.074192</td>\n",
       "      <td>True</td>\n",
       "      <td>Rhodesian_ridgeback</td>\n",
       "      <td>0.072010</td>\n",
       "      <td>True</td>\n",
       "    </tr>\n",
       "    <tr>\n",
       "      <th>2</th>\n",
       "      <td>666033412701032449</td>\n",
       "      <td>https://pbs.twimg.com/media/CT4521TWwAEvMyu.jpg</td>\n",
       "      <td>1</td>\n",
       "      <td>German_shepherd</td>\n",
       "      <td>0.596461</td>\n",
       "      <td>True</td>\n",
       "      <td>malinois</td>\n",
       "      <td>0.138584</td>\n",
       "      <td>True</td>\n",
       "      <td>bloodhound</td>\n",
       "      <td>0.116197</td>\n",
       "      <td>True</td>\n",
       "    </tr>\n",
       "    <tr>\n",
       "      <th>3</th>\n",
       "      <td>666044226329800704</td>\n",
       "      <td>https://pbs.twimg.com/media/CT5Dr8HUEAA-lEu.jpg</td>\n",
       "      <td>1</td>\n",
       "      <td>Rhodesian_ridgeback</td>\n",
       "      <td>0.408143</td>\n",
       "      <td>True</td>\n",
       "      <td>redbone</td>\n",
       "      <td>0.360687</td>\n",
       "      <td>True</td>\n",
       "      <td>miniature_pinscher</td>\n",
       "      <td>0.222752</td>\n",
       "      <td>True</td>\n",
       "    </tr>\n",
       "    <tr>\n",
       "      <th>4</th>\n",
       "      <td>666049248165822465</td>\n",
       "      <td>https://pbs.twimg.com/media/CT5IQmsXIAAKY4A.jpg</td>\n",
       "      <td>1</td>\n",
       "      <td>miniature_pinscher</td>\n",
       "      <td>0.560311</td>\n",
       "      <td>True</td>\n",
       "      <td>Rottweiler</td>\n",
       "      <td>0.243682</td>\n",
       "      <td>True</td>\n",
       "      <td>Doberman</td>\n",
       "      <td>0.154629</td>\n",
       "      <td>True</td>\n",
       "    </tr>\n",
       "    <tr>\n",
       "      <th>...</th>\n",
       "      <td>...</td>\n",
       "      <td>...</td>\n",
       "      <td>...</td>\n",
       "      <td>...</td>\n",
       "      <td>...</td>\n",
       "      <td>...</td>\n",
       "      <td>...</td>\n",
       "      <td>...</td>\n",
       "      <td>...</td>\n",
       "      <td>...</td>\n",
       "      <td>...</td>\n",
       "      <td>...</td>\n",
       "    </tr>\n",
       "    <tr>\n",
       "      <th>2070</th>\n",
       "      <td>891327558926688256</td>\n",
       "      <td>https://pbs.twimg.com/media/DF6hr6BUMAAzZgT.jpg</td>\n",
       "      <td>2</td>\n",
       "      <td>basset</td>\n",
       "      <td>0.555712</td>\n",
       "      <td>True</td>\n",
       "      <td>English_springer</td>\n",
       "      <td>0.225770</td>\n",
       "      <td>True</td>\n",
       "      <td>German_short-haired_pointer</td>\n",
       "      <td>0.175219</td>\n",
       "      <td>True</td>\n",
       "    </tr>\n",
       "    <tr>\n",
       "      <th>2071</th>\n",
       "      <td>891689557279858688</td>\n",
       "      <td>https://pbs.twimg.com/media/DF_q7IAWsAEuuN8.jpg</td>\n",
       "      <td>1</td>\n",
       "      <td>paper_towel</td>\n",
       "      <td>0.170278</td>\n",
       "      <td>False</td>\n",
       "      <td>Labrador_retriever</td>\n",
       "      <td>0.168086</td>\n",
       "      <td>True</td>\n",
       "      <td>spatula</td>\n",
       "      <td>0.040836</td>\n",
       "      <td>False</td>\n",
       "    </tr>\n",
       "    <tr>\n",
       "      <th>2072</th>\n",
       "      <td>891815181378084864</td>\n",
       "      <td>https://pbs.twimg.com/media/DGBdLU1WsAANxJ9.jpg</td>\n",
       "      <td>1</td>\n",
       "      <td>Chihuahua</td>\n",
       "      <td>0.716012</td>\n",
       "      <td>True</td>\n",
       "      <td>malamute</td>\n",
       "      <td>0.078253</td>\n",
       "      <td>True</td>\n",
       "      <td>kelpie</td>\n",
       "      <td>0.031379</td>\n",
       "      <td>True</td>\n",
       "    </tr>\n",
       "    <tr>\n",
       "      <th>2073</th>\n",
       "      <td>892177421306343426</td>\n",
       "      <td>https://pbs.twimg.com/media/DGGmoV4XsAAUL6n.jpg</td>\n",
       "      <td>1</td>\n",
       "      <td>Chihuahua</td>\n",
       "      <td>0.323581</td>\n",
       "      <td>True</td>\n",
       "      <td>Pekinese</td>\n",
       "      <td>0.090647</td>\n",
       "      <td>True</td>\n",
       "      <td>papillon</td>\n",
       "      <td>0.068957</td>\n",
       "      <td>True</td>\n",
       "    </tr>\n",
       "    <tr>\n",
       "      <th>2074</th>\n",
       "      <td>892420643555336193</td>\n",
       "      <td>https://pbs.twimg.com/media/DGKD1-bXoAAIAUK.jpg</td>\n",
       "      <td>1</td>\n",
       "      <td>orange</td>\n",
       "      <td>0.097049</td>\n",
       "      <td>False</td>\n",
       "      <td>bagel</td>\n",
       "      <td>0.085851</td>\n",
       "      <td>False</td>\n",
       "      <td>banana</td>\n",
       "      <td>0.076110</td>\n",
       "      <td>False</td>\n",
       "    </tr>\n",
       "  </tbody>\n",
       "</table>\n",
       "<p>2075 rows × 12 columns</p>\n",
       "</div>"
      ],
      "text/plain": [
       "                tweet_id                                          jpg_url  \\\n",
       "0     666020888022790149  https://pbs.twimg.com/media/CT4udn0WwAA0aMy.jpg   \n",
       "1     666029285002620928  https://pbs.twimg.com/media/CT42GRgUYAA5iDo.jpg   \n",
       "2     666033412701032449  https://pbs.twimg.com/media/CT4521TWwAEvMyu.jpg   \n",
       "3     666044226329800704  https://pbs.twimg.com/media/CT5Dr8HUEAA-lEu.jpg   \n",
       "4     666049248165822465  https://pbs.twimg.com/media/CT5IQmsXIAAKY4A.jpg   \n",
       "...                  ...                                              ...   \n",
       "2070  891327558926688256  https://pbs.twimg.com/media/DF6hr6BUMAAzZgT.jpg   \n",
       "2071  891689557279858688  https://pbs.twimg.com/media/DF_q7IAWsAEuuN8.jpg   \n",
       "2072  891815181378084864  https://pbs.twimg.com/media/DGBdLU1WsAANxJ9.jpg   \n",
       "2073  892177421306343426  https://pbs.twimg.com/media/DGGmoV4XsAAUL6n.jpg   \n",
       "2074  892420643555336193  https://pbs.twimg.com/media/DGKD1-bXoAAIAUK.jpg   \n",
       "\n",
       "      img_num                      p1   p1_conf  p1_dog                  p2  \\\n",
       "0           1  Welsh_springer_spaniel  0.465074    True              collie   \n",
       "1           1                 redbone  0.506826    True  miniature_pinscher   \n",
       "2           1         German_shepherd  0.596461    True            malinois   \n",
       "3           1     Rhodesian_ridgeback  0.408143    True             redbone   \n",
       "4           1      miniature_pinscher  0.560311    True          Rottweiler   \n",
       "...       ...                     ...       ...     ...                 ...   \n",
       "2070        2                  basset  0.555712    True    English_springer   \n",
       "2071        1             paper_towel  0.170278   False  Labrador_retriever   \n",
       "2072        1               Chihuahua  0.716012    True            malamute   \n",
       "2073        1               Chihuahua  0.323581    True            Pekinese   \n",
       "2074        1                  orange  0.097049   False               bagel   \n",
       "\n",
       "       p2_conf  p2_dog                           p3   p3_conf  p3_dog  \n",
       "0     0.156665    True            Shetland_sheepdog  0.061428    True  \n",
       "1     0.074192    True          Rhodesian_ridgeback  0.072010    True  \n",
       "2     0.138584    True                   bloodhound  0.116197    True  \n",
       "3     0.360687    True           miniature_pinscher  0.222752    True  \n",
       "4     0.243682    True                     Doberman  0.154629    True  \n",
       "...        ...     ...                          ...       ...     ...  \n",
       "2070  0.225770    True  German_short-haired_pointer  0.175219    True  \n",
       "2071  0.168086    True                      spatula  0.040836   False  \n",
       "2072  0.078253    True                       kelpie  0.031379    True  \n",
       "2073  0.090647    True                     papillon  0.068957    True  \n",
       "2074  0.085851   False                       banana  0.076110   False  \n",
       "\n",
       "[2075 rows x 12 columns]"
      ]
     },
     "execution_count": 35,
     "metadata": {},
     "output_type": "execute_result"
    }
   ],
   "source": [
    "image_df"
   ]
  },
  {
   "cell_type": "markdown",
   "metadata": {},
   "source": [
    "#### Also assessing all three files visually, we notice that tweet ids are name tagged differently on the different sheets. We will have to find a common way to call the tweet ids so we can merge all the three files to have one complete dataset."
   ]
  },
  {
   "cell_type": "markdown",
   "metadata": {},
   "source": [
    "## Identified Issues"
   ]
  },
  {
   "cell_type": "markdown",
   "metadata": {},
   "source": [
    "### Quality issues\n",
    "1. Some of the tweets are not original tweets but retweets with images\n",
    "\n",
    "2. Some of the data is on replies to original tweets and not the tweets themselves\n",
    "\n",
    "3. Some dog ratings had denominator values greater than 10\n",
    "\n",
    "4. The values in the source column also includes anchor tags that we don't need for our analysis\n",
    "\n",
    "5. Some tweets were not about dogs and need to be dropped\n",
    "\n",
    "6. expanded_urls column is missing some values\n",
    "\n",
    "7. Ratings numerator may not have been properly extracted\n",
    "\n",
    "8. Some dog names were not properly extracted. Some of the values in that column are not actual dog names"
   ]
  },
  {
   "cell_type": "markdown",
   "metadata": {},
   "source": [
    "### Tidiness issues\n",
    "1. Dog Stage which is a single observational unit has been stored in multiple columns making the dataset unnecessarily bulky and messy\n",
    "\n",
    "2. Dog Breed predictions have also been stored in multiple columns making the dataset unnecessarily bulky and messy"
   ]
  },
  {
   "cell_type": "markdown",
   "metadata": {},
   "source": [
    "## Cleaning Data\n",
    "In this section, clean **all** of the issues you documented while assessing. \n",
    "\n",
    "**Note:** Make a copy of the original data before cleaning. Cleaning includes merging individual pieces of data according to the rules of [tidy data](https://cran.r-project.org/web/packages/tidyr/vignettes/tidy-data.html). The result should be a high-quality and tidy master pandas DataFrame (or DataFrames, if appropriate)."
   ]
  },
  {
   "cell_type": "code",
   "execution_count": 38,
   "metadata": {},
   "outputs": [],
   "source": [
    "# Make copies of original pieces of data first.\n",
    "dog_arch.to_csv('Twitter_archive_original.csv', index=False)\n",
    "image_df.to_csv('Image_Prediction_File_Original.csv', index=False)\n"
   ]
  },
  {
   "cell_type": "markdown",
   "metadata": {},
   "source": [
    "### Issue #1:"
   ]
  },
  {
   "cell_type": "markdown",
   "metadata": {},
   "source": [
    "#### Define: Some of the tweets are not original tweets but retweets with images"
   ]
  },
  {
   "cell_type": "code",
   "execution_count": 39,
   "metadata": {},
   "outputs": [
    {
     "name": "stdout",
     "output_type": "stream",
     "text": [
      "<class 'pandas.core.frame.DataFrame'>\n",
      "RangeIndex: 2356 entries, 0 to 2355\n",
      "Data columns (total 17 columns):\n",
      " #   Column                      Non-Null Count  Dtype  \n",
      "---  ------                      --------------  -----  \n",
      " 0   tweet_id                    2356 non-null   int64  \n",
      " 1   in_reply_to_status_id       78 non-null     float64\n",
      " 2   in_reply_to_user_id         78 non-null     float64\n",
      " 3   timestamp                   2356 non-null   object \n",
      " 4   source                      2356 non-null   object \n",
      " 5   text                        2356 non-null   object \n",
      " 6   retweeted_status_id         181 non-null    float64\n",
      " 7   retweeted_status_user_id    181 non-null    float64\n",
      " 8   retweeted_status_timestamp  181 non-null    object \n",
      " 9   expanded_urls               2297 non-null   object \n",
      " 10  rating_numerator            2356 non-null   int64  \n",
      " 11  rating_denominator          2356 non-null   int64  \n",
      " 12  name                        2356 non-null   object \n",
      " 13  doggo                       2356 non-null   object \n",
      " 14  floofer                     2356 non-null   object \n",
      " 15  pupper                      2356 non-null   object \n",
      " 16  puppo                       2356 non-null   object \n",
      "dtypes: float64(4), int64(3), object(10)\n",
      "memory usage: 313.0+ KB\n"
     ]
    }
   ],
   "source": [
    "dog_arch.info()"
   ]
  },
  {
   "cell_type": "markdown",
   "metadata": {},
   "source": [
    "#### Code"
   ]
  },
  {
   "cell_type": "code",
   "execution_count": 40,
   "metadata": {
    "scrolled": true
   },
   "outputs": [
    {
     "data": {
      "text/plain": [
       "Int64Index([  19,   32,   36,   68,   73,   74,   78,   91,   95,   97,\n",
       "            ...\n",
       "             926,  937,  943,  949, 1012, 1023, 1043, 1242, 2259, 2260],\n",
       "           dtype='int64', length=181)"
      ]
     },
     "execution_count": 40,
     "metadata": {},
     "output_type": "execute_result"
    }
   ],
   "source": [
    "# We write code to first identify all the rows with retweet_status_ids by their index\n",
    "retweet_id_idx = dog_arch[dog_arch['retweeted_status_id'].notnull()].index\n",
    "retweet_id_idx"
   ]
  },
  {
   "cell_type": "code",
   "execution_count": 41,
   "metadata": {},
   "outputs": [],
   "source": [
    "# We then define a function which we will use to remove all the identified rows showing retweeted tweets\n",
    "def drop_col_row(dframe, row_col, axis=0):\n",
    "    dframe.drop(row_col, axis=axis, inplace=True)"
   ]
  },
  {
   "cell_type": "code",
   "execution_count": 42,
   "metadata": {
    "scrolled": true
   },
   "outputs": [],
   "source": [
    "# The defined function is used to remove the identified retweeted tweets\n",
    "drop_col_row(dog_arch, retweet_id_idx)"
   ]
  },
  {
   "cell_type": "code",
   "execution_count": 43,
   "metadata": {},
   "outputs": [],
   "source": [
    "# Once we have removed all retweets, we drop all unneeded columns\n",
    "dog_arch.drop(columns=['retweeted_status_id','retweeted_status_user_id','retweeted_status_timestamp'], inplace=True)"
   ]
  },
  {
   "cell_type": "markdown",
   "metadata": {},
   "source": [
    "#### Test"
   ]
  },
  {
   "cell_type": "code",
   "execution_count": 44,
   "metadata": {
    "scrolled": false
   },
   "outputs": [
    {
     "name": "stdout",
     "output_type": "stream",
     "text": [
      "<class 'pandas.core.frame.DataFrame'>\n",
      "Int64Index: 2175 entries, 0 to 2355\n",
      "Data columns (total 14 columns):\n",
      " #   Column                 Non-Null Count  Dtype  \n",
      "---  ------                 --------------  -----  \n",
      " 0   tweet_id               2175 non-null   int64  \n",
      " 1   in_reply_to_status_id  78 non-null     float64\n",
      " 2   in_reply_to_user_id    78 non-null     float64\n",
      " 3   timestamp              2175 non-null   object \n",
      " 4   source                 2175 non-null   object \n",
      " 5   text                   2175 non-null   object \n",
      " 6   expanded_urls          2117 non-null   object \n",
      " 7   rating_numerator       2175 non-null   int64  \n",
      " 8   rating_denominator     2175 non-null   int64  \n",
      " 9   name                   2175 non-null   object \n",
      " 10  doggo                  2175 non-null   object \n",
      " 11  floofer                2175 non-null   object \n",
      " 12  pupper                 2175 non-null   object \n",
      " 13  puppo                  2175 non-null   object \n",
      "dtypes: float64(2), int64(3), object(9)\n",
      "memory usage: 254.9+ KB\n"
     ]
    }
   ],
   "source": [
    "dog_arch.info()"
   ]
  },
  {
   "cell_type": "markdown",
   "metadata": {},
   "source": [
    "#### We can see from above that all retweets have been successfully removed and all the columns which contained information on retweets that we no longer need have also been removed"
   ]
  },
  {
   "cell_type": "markdown",
   "metadata": {},
   "source": [
    "### Issue #2:\n",
    "\n",
    "#### Define: Some of the data is on replies to original tweets and not the tweets themselves"
   ]
  },
  {
   "cell_type": "code",
   "execution_count": 45,
   "metadata": {},
   "outputs": [
    {
     "name": "stdout",
     "output_type": "stream",
     "text": [
      "<class 'pandas.core.frame.DataFrame'>\n",
      "Int64Index: 2175 entries, 0 to 2355\n",
      "Data columns (total 14 columns):\n",
      " #   Column                 Non-Null Count  Dtype  \n",
      "---  ------                 --------------  -----  \n",
      " 0   tweet_id               2175 non-null   int64  \n",
      " 1   in_reply_to_status_id  78 non-null     float64\n",
      " 2   in_reply_to_user_id    78 non-null     float64\n",
      " 3   timestamp              2175 non-null   object \n",
      " 4   source                 2175 non-null   object \n",
      " 5   text                   2175 non-null   object \n",
      " 6   expanded_urls          2117 non-null   object \n",
      " 7   rating_numerator       2175 non-null   int64  \n",
      " 8   rating_denominator     2175 non-null   int64  \n",
      " 9   name                   2175 non-null   object \n",
      " 10  doggo                  2175 non-null   object \n",
      " 11  floofer                2175 non-null   object \n",
      " 12  pupper                 2175 non-null   object \n",
      " 13  puppo                  2175 non-null   object \n",
      "dtypes: float64(2), int64(3), object(9)\n",
      "memory usage: 254.9+ KB\n"
     ]
    }
   ],
   "source": [
    "dog_arch.info()"
   ]
  },
  {
   "cell_type": "markdown",
   "metadata": {},
   "source": [
    "#### Code"
   ]
  },
  {
   "cell_type": "code",
   "execution_count": 46,
   "metadata": {},
   "outputs": [
    {
     "data": {
      "text/plain": [
       "Int64Index([  30,   55,   64,  113,  148,  149,  179,  184,  186,  188,  189,\n",
       "             218,  228,  234,  251,  274,  290,  291,  313,  342,  346,  387,\n",
       "             409,  427,  498,  513,  565,  570,  576,  611,  701,  843,  857,\n",
       "             967, 1005, 1016, 1018, 1080, 1127, 1295, 1330, 1339, 1345, 1356,\n",
       "            1446, 1452, 1464, 1474, 1479, 1497, 1501, 1523, 1598, 1605, 1618,\n",
       "            1630, 1634, 1663, 1689, 1774, 1819, 1842, 1844, 1852, 1866, 1882,\n",
       "            1885, 1892, 1895, 1905, 1914, 1940, 2036, 2038, 2149, 2169, 2189,\n",
       "            2298],\n",
       "           dtype='int64')"
      ]
     },
     "execution_count": 46,
     "metadata": {},
     "output_type": "execute_result"
    }
   ],
   "source": [
    "# Code to identify all tweet replies by their index\n",
    "reply_id_idx = dog_arch[dog_arch['in_reply_to_status_id'].notnull()].index\n",
    "reply_id_idx"
   ]
  },
  {
   "cell_type": "code",
   "execution_count": 47,
   "metadata": {},
   "outputs": [],
   "source": [
    "# The earlier defined function to removed all unwanted rows by their index is applied here too\n",
    "drop_col_row(dog_arch, reply_id_idx)\n"
   ]
  },
  {
   "cell_type": "code",
   "execution_count": 48,
   "metadata": {},
   "outputs": [],
   "source": [
    "# After removing all unwanted rows by their index, unneeded columns are also dropped\n",
    "dog_arch.drop(columns=['in_reply_to_status_id','in_reply_to_user_id'], inplace=True)"
   ]
  },
  {
   "cell_type": "markdown",
   "metadata": {},
   "source": [
    "#### Test"
   ]
  },
  {
   "cell_type": "code",
   "execution_count": 49,
   "metadata": {
    "scrolled": false
   },
   "outputs": [
    {
     "name": "stdout",
     "output_type": "stream",
     "text": [
      "<class 'pandas.core.frame.DataFrame'>\n",
      "Int64Index: 2097 entries, 0 to 2355\n",
      "Data columns (total 12 columns):\n",
      " #   Column              Non-Null Count  Dtype \n",
      "---  ------              --------------  ----- \n",
      " 0   tweet_id            2097 non-null   int64 \n",
      " 1   timestamp           2097 non-null   object\n",
      " 2   source              2097 non-null   object\n",
      " 3   text                2097 non-null   object\n",
      " 4   expanded_urls       2094 non-null   object\n",
      " 5   rating_numerator    2097 non-null   int64 \n",
      " 6   rating_denominator  2097 non-null   int64 \n",
      " 7   name                2097 non-null   object\n",
      " 8   doggo               2097 non-null   object\n",
      " 9   floofer             2097 non-null   object\n",
      " 10  pupper              2097 non-null   object\n",
      " 11  puppo               2097 non-null   object\n",
      "dtypes: int64(3), object(9)\n",
      "memory usage: 213.0+ KB\n"
     ]
    }
   ],
   "source": [
    "dog_arch.info()"
   ]
  },
  {
   "cell_type": "markdown",
   "metadata": {},
   "source": [
    "#### #### We can see from above that all replies have been successfully removed and all the columns which contained information on replies that we no longer need have also been removed"
   ]
  },
  {
   "cell_type": "markdown",
   "metadata": {},
   "source": [
    "### Issue #3:\n",
    "\n",
    "#### Define: Some dog ratings had denominator values greater than 10"
   ]
  },
  {
   "cell_type": "code",
   "execution_count": 50,
   "metadata": {},
   "outputs": [
    {
     "data": {
      "text/plain": [
       "170"
      ]
     },
     "execution_count": 50,
     "metadata": {},
     "output_type": "execute_result"
    }
   ],
   "source": [
    "dog_arch.rating_denominator.max()"
   ]
  },
  {
   "cell_type": "markdown",
   "metadata": {},
   "source": [
    "#### Code"
   ]
  },
  {
   "cell_type": "code",
   "execution_count": 51,
   "metadata": {},
   "outputs": [],
   "source": [
    "dog_arch.drop(columns=['rating_denominator',], inplace=True)"
   ]
  },
  {
   "cell_type": "markdown",
   "metadata": {},
   "source": [
    "#### We decided to drop the entire ratings_denominator column. This was because, due ti the unique ratings system of WeRateDogs, the denominator was almost always 10. We therefore felt it would be okay to just assune that the denominatot was 10 for every rating. Also, the ratings denominator was not going to be used in our analysis anyway."
   ]
  },
  {
   "cell_type": "markdown",
   "metadata": {},
   "source": [
    "#### Test"
   ]
  },
  {
   "cell_type": "code",
   "execution_count": 52,
   "metadata": {
    "scrolled": false
   },
   "outputs": [
    {
     "name": "stdout",
     "output_type": "stream",
     "text": [
      "<class 'pandas.core.frame.DataFrame'>\n",
      "Int64Index: 2097 entries, 0 to 2355\n",
      "Data columns (total 11 columns):\n",
      " #   Column            Non-Null Count  Dtype \n",
      "---  ------            --------------  ----- \n",
      " 0   tweet_id          2097 non-null   int64 \n",
      " 1   timestamp         2097 non-null   object\n",
      " 2   source            2097 non-null   object\n",
      " 3   text              2097 non-null   object\n",
      " 4   expanded_urls     2094 non-null   object\n",
      " 5   rating_numerator  2097 non-null   int64 \n",
      " 6   name              2097 non-null   object\n",
      " 7   doggo             2097 non-null   object\n",
      " 8   floofer           2097 non-null   object\n",
      " 9   pupper            2097 non-null   object\n",
      " 10  puppo             2097 non-null   object\n",
      "dtypes: int64(2), object(9)\n",
      "memory usage: 196.6+ KB\n"
     ]
    }
   ],
   "source": [
    "dog_arch.info()"
   ]
  },
  {
   "cell_type": "markdown",
   "metadata": {},
   "source": [
    "#### We can see that the rating_denominator column no longer exists in the dataset"
   ]
  },
  {
   "cell_type": "markdown",
   "metadata": {},
   "source": [
    "### Issue #4:\n",
    "\n",
    "#### Define: The values in the source column also includes anchor tags that we don't need for our analysis"
   ]
  },
  {
   "cell_type": "code",
   "execution_count": 53,
   "metadata": {
    "scrolled": true
   },
   "outputs": [
    {
     "data": {
      "text/plain": [
       "<a href=\"http://twitter.com/download/iphone\" rel=\"nofollow\">Twitter for iPhone</a>     1964\n",
       "<a href=\"http://vine.co\" rel=\"nofollow\">Vine - Make a Scene</a>                          91\n",
       "<a href=\"http://twitter.com\" rel=\"nofollow\">Twitter Web Client</a>                       31\n",
       "<a href=\"https://about.twitter.com/products/tweetdeck\" rel=\"nofollow\">TweetDeck</a>      11\n",
       "Name: source, dtype: int64"
      ]
     },
     "execution_count": 53,
     "metadata": {},
     "output_type": "execute_result"
    }
   ],
   "source": [
    "dog_arch['source'].value_counts()"
   ]
  },
  {
   "cell_type": "markdown",
   "metadata": {},
   "source": [
    "#### Code"
   ]
  },
  {
   "cell_type": "code",
   "execution_count": 54,
   "metadata": {},
   "outputs": [],
   "source": [
    "# Code to extract the actual text from the source info and leave anchor tags\n",
    "dog_arch['source'] = dog_arch.source.str.extract('^<a.+>(.+)</a>$')"
   ]
  },
  {
   "cell_type": "markdown",
   "metadata": {},
   "source": [
    "#### Test"
   ]
  },
  {
   "cell_type": "code",
   "execution_count": 55,
   "metadata": {
    "scrolled": true
   },
   "outputs": [
    {
     "data": {
      "text/plain": [
       "Twitter for iPhone     1964\n",
       "Vine - Make a Scene      91\n",
       "Twitter Web Client       31\n",
       "TweetDeck                11\n",
       "Name: source, dtype: int64"
      ]
     },
     "execution_count": 55,
     "metadata": {},
     "output_type": "execute_result"
    }
   ],
   "source": [
    "dog_arch['source'].value_counts()"
   ]
  },
  {
   "cell_type": "markdown",
   "metadata": {},
   "source": [
    "#### The source info now shows actual text showing where the tweet came from"
   ]
  },
  {
   "cell_type": "markdown",
   "metadata": {},
   "source": [
    "### Issue #5:\n",
    "\n",
    "#### Define: Some tweets were not about dogs and need to be dropped"
   ]
  },
  {
   "cell_type": "code",
   "execution_count": 56,
   "metadata": {
    "scrolled": true
   },
   "outputs": [
    {
     "data": {
      "text/html": [
       "<div>\n",
       "<style scoped>\n",
       "    .dataframe tbody tr th:only-of-type {\n",
       "        vertical-align: middle;\n",
       "    }\n",
       "\n",
       "    .dataframe tbody tr th {\n",
       "        vertical-align: top;\n",
       "    }\n",
       "\n",
       "    .dataframe thead th {\n",
       "        text-align: right;\n",
       "    }\n",
       "</style>\n",
       "<table border=\"1\" class=\"dataframe\">\n",
       "  <thead>\n",
       "    <tr style=\"text-align: right;\">\n",
       "      <th></th>\n",
       "      <th>tweet_id</th>\n",
       "      <th>timestamp</th>\n",
       "      <th>source</th>\n",
       "      <th>text</th>\n",
       "      <th>expanded_urls</th>\n",
       "      <th>rating_numerator</th>\n",
       "      <th>name</th>\n",
       "      <th>doggo</th>\n",
       "      <th>floofer</th>\n",
       "      <th>pupper</th>\n",
       "      <th>puppo</th>\n",
       "    </tr>\n",
       "  </thead>\n",
       "  <tbody>\n",
       "    <tr>\n",
       "      <th>25</th>\n",
       "      <td>887101392804085760</td>\n",
       "      <td>2017-07-18 00:07:08 +0000</td>\n",
       "      <td>Twitter for iPhone</td>\n",
       "      <td>This... is a Jubilant Antarctic House Bear. We...</td>\n",
       "      <td>https://twitter.com/dog_rates/status/887101392...</td>\n",
       "      <td>12</td>\n",
       "      <td>None</td>\n",
       "      <td>None</td>\n",
       "      <td>None</td>\n",
       "      <td>None</td>\n",
       "      <td>None</td>\n",
       "    </tr>\n",
       "    <tr>\n",
       "      <th>59</th>\n",
       "      <td>880872448815771648</td>\n",
       "      <td>2017-06-30 19:35:32 +0000</td>\n",
       "      <td>Twitter for iPhone</td>\n",
       "      <td>Ugh not again. We only rate dogs. Please don't...</td>\n",
       "      <td>https://twitter.com/dog_rates/status/880872448...</td>\n",
       "      <td>12</td>\n",
       "      <td>None</td>\n",
       "      <td>None</td>\n",
       "      <td>None</td>\n",
       "      <td>None</td>\n",
       "      <td>None</td>\n",
       "    </tr>\n",
       "    <tr>\n",
       "      <th>93</th>\n",
       "      <td>874057562936811520</td>\n",
       "      <td>2017-06-12 00:15:36 +0000</td>\n",
       "      <td>Twitter for iPhone</td>\n",
       "      <td>I can't believe this keeps happening. This, is...</td>\n",
       "      <td>https://twitter.com/dog_rates/status/874057562...</td>\n",
       "      <td>12</td>\n",
       "      <td>None</td>\n",
       "      <td>None</td>\n",
       "      <td>None</td>\n",
       "      <td>None</td>\n",
       "      <td>None</td>\n",
       "    </tr>\n",
       "    <tr>\n",
       "      <th>127</th>\n",
       "      <td>867900495410671616</td>\n",
       "      <td>2017-05-26 00:29:37 +0000</td>\n",
       "      <td>Twitter for iPhone</td>\n",
       "      <td>Unbelievable. We only rate dogs. Please don't ...</td>\n",
       "      <td>https://twitter.com/dog_rates/status/867900495...</td>\n",
       "      <td>12</td>\n",
       "      <td>None</td>\n",
       "      <td>None</td>\n",
       "      <td>None</td>\n",
       "      <td>None</td>\n",
       "      <td>None</td>\n",
       "    </tr>\n",
       "    <tr>\n",
       "      <th>131</th>\n",
       "      <td>867051520902168576</td>\n",
       "      <td>2017-05-23 16:16:06 +0000</td>\n",
       "      <td>Twitter for iPhone</td>\n",
       "      <td>Oh my this spooked me up. We only rate dogs, n...</td>\n",
       "      <td>https://twitter.com/dog_rates/status/867051520...</td>\n",
       "      <td>13</td>\n",
       "      <td>None</td>\n",
       "      <td>None</td>\n",
       "      <td>None</td>\n",
       "      <td>None</td>\n",
       "      <td>None</td>\n",
       "    </tr>\n",
       "    <tr>\n",
       "      <th>141</th>\n",
       "      <td>864873206498414592</td>\n",
       "      <td>2017-05-17 16:00:15 +0000</td>\n",
       "      <td>Twitter for iPhone</td>\n",
       "      <td>We only rate dogs. Please don't send in Jesus....</td>\n",
       "      <td>https://twitter.com/dog_rates/status/864873206...</td>\n",
       "      <td>14</td>\n",
       "      <td>None</td>\n",
       "      <td>None</td>\n",
       "      <td>None</td>\n",
       "      <td>None</td>\n",
       "      <td>None</td>\n",
       "    </tr>\n",
       "    <tr>\n",
       "      <th>154</th>\n",
       "      <td>862096992088072192</td>\n",
       "      <td>2017-05-10 00:08:34 +0000</td>\n",
       "      <td>Twitter for iPhone</td>\n",
       "      <td>We only rate dogs. Please don't send perfectly...</td>\n",
       "      <td>https://twitter.com/dog_rates/status/862096992...</td>\n",
       "      <td>13</td>\n",
       "      <td>None</td>\n",
       "      <td>None</td>\n",
       "      <td>None</td>\n",
       "      <td>None</td>\n",
       "      <td>None</td>\n",
       "    </tr>\n",
       "    <tr>\n",
       "      <th>169</th>\n",
       "      <td>859196978902773760</td>\n",
       "      <td>2017-05-02 00:04:57 +0000</td>\n",
       "      <td>Twitter for iPhone</td>\n",
       "      <td>We only rate dogs. This is quite clearly a smo...</td>\n",
       "      <td>https://twitter.com/dog_rates/status/859196978...</td>\n",
       "      <td>12</td>\n",
       "      <td>quite</td>\n",
       "      <td>None</td>\n",
       "      <td>None</td>\n",
       "      <td>None</td>\n",
       "      <td>None</td>\n",
       "    </tr>\n",
       "    <tr>\n",
       "      <th>193</th>\n",
       "      <td>855459453768019968</td>\n",
       "      <td>2017-04-21 16:33:22 +0000</td>\n",
       "      <td>Twitter for iPhone</td>\n",
       "      <td>Guys, we only rate dogs. This is quite clearly...</td>\n",
       "      <td>https://twitter.com/dog_rates/status/855459453...</td>\n",
       "      <td>12</td>\n",
       "      <td>quite</td>\n",
       "      <td>None</td>\n",
       "      <td>None</td>\n",
       "      <td>None</td>\n",
       "      <td>None</td>\n",
       "    </tr>\n",
       "    <tr>\n",
       "      <th>221</th>\n",
       "      <td>849776966551130114</td>\n",
       "      <td>2017-04-06 00:13:11 +0000</td>\n",
       "      <td>Twitter for iPhone</td>\n",
       "      <td>Seriously guys? Again? We only rate dogs. Plea...</td>\n",
       "      <td>https://twitter.com/dog_rates/status/849776966...</td>\n",
       "      <td>12</td>\n",
       "      <td>None</td>\n",
       "      <td>None</td>\n",
       "      <td>None</td>\n",
       "      <td>None</td>\n",
       "      <td>None</td>\n",
       "    </tr>\n",
       "    <tr>\n",
       "      <th>226</th>\n",
       "      <td>848690551926992896</td>\n",
       "      <td>2017-04-03 00:16:10 +0000</td>\n",
       "      <td>Twitter for iPhone</td>\n",
       "      <td>Please stop sending in animals other than dogs...</td>\n",
       "      <td>https://twitter.com/dog_rates/status/848690551...</td>\n",
       "      <td>12</td>\n",
       "      <td>None</td>\n",
       "      <td>None</td>\n",
       "      <td>None</td>\n",
       "      <td>None</td>\n",
       "      <td>None</td>\n",
       "    </tr>\n",
       "    <tr>\n",
       "      <th>246</th>\n",
       "      <td>845677943972139009</td>\n",
       "      <td>2017-03-25 16:45:08 +0000</td>\n",
       "      <td>Twitter for iPhone</td>\n",
       "      <td>C'mon guys. Please only send in dogs. We only ...</td>\n",
       "      <td>https://twitter.com/dog_rates/status/845677943...</td>\n",
       "      <td>12</td>\n",
       "      <td>None</td>\n",
       "      <td>None</td>\n",
       "      <td>None</td>\n",
       "      <td>None</td>\n",
       "      <td>None</td>\n",
       "    </tr>\n",
       "    <tr>\n",
       "      <th>314</th>\n",
       "      <td>835172783151792128</td>\n",
       "      <td>2017-02-24 17:01:22 +0000</td>\n",
       "      <td>Twitter for iPhone</td>\n",
       "      <td>We only rate dogs. Please don't send in any no...</td>\n",
       "      <td>https://twitter.com/dog_rates/status/835172783...</td>\n",
       "      <td>12</td>\n",
       "      <td>None</td>\n",
       "      <td>None</td>\n",
       "      <td>None</td>\n",
       "      <td>None</td>\n",
       "      <td>None</td>\n",
       "    </tr>\n",
       "    <tr>\n",
       "      <th>390</th>\n",
       "      <td>826240494070030336</td>\n",
       "      <td>2017-01-31 01:27:39 +0000</td>\n",
       "      <td>Twitter for iPhone</td>\n",
       "      <td>We only rate dogs. Please don't send in any mo...</td>\n",
       "      <td>https://twitter.com/dog_rates/status/826240494...</td>\n",
       "      <td>11</td>\n",
       "      <td>None</td>\n",
       "      <td>None</td>\n",
       "      <td>None</td>\n",
       "      <td>None</td>\n",
       "      <td>None</td>\n",
       "    </tr>\n",
       "    <tr>\n",
       "      <th>416</th>\n",
       "      <td>822610361945911296</td>\n",
       "      <td>2017-01-21 01:02:48 +0000</td>\n",
       "      <td>Twitter for iPhone</td>\n",
       "      <td>Please stop sending in non-canines like this V...</td>\n",
       "      <td>https://twitter.com/dog_rates/status/822610361...</td>\n",
       "      <td>12</td>\n",
       "      <td>None</td>\n",
       "      <td>None</td>\n",
       "      <td>None</td>\n",
       "      <td>None</td>\n",
       "      <td>None</td>\n",
       "    </tr>\n",
       "    <tr>\n",
       "      <th>419</th>\n",
       "      <td>822244816520155136</td>\n",
       "      <td>2017-01-20 00:50:15 +0000</td>\n",
       "      <td>Twitter for iPhone</td>\n",
       "      <td>We only rate dogs. Please don't send pics of m...</td>\n",
       "      <td>https://twitter.com/dog_rates/status/822244816...</td>\n",
       "      <td>11</td>\n",
       "      <td>None</td>\n",
       "      <td>None</td>\n",
       "      <td>None</td>\n",
       "      <td>None</td>\n",
       "      <td>None</td>\n",
       "    </tr>\n",
       "    <tr>\n",
       "      <th>494</th>\n",
       "      <td>813187593374461952</td>\n",
       "      <td>2016-12-26 01:00:05 +0000</td>\n",
       "      <td>Twitter for iPhone</td>\n",
       "      <td>We only rate dogs. Please don't send in other ...</td>\n",
       "      <td>https://twitter.com/dog_rates/status/813187593...</td>\n",
       "      <td>13</td>\n",
       "      <td>None</td>\n",
       "      <td>None</td>\n",
       "      <td>None</td>\n",
       "      <td>None</td>\n",
       "      <td>None</td>\n",
       "    </tr>\n",
       "    <tr>\n",
       "      <th>521</th>\n",
       "      <td>809920764300447744</td>\n",
       "      <td>2016-12-17 00:38:52 +0000</td>\n",
       "      <td>Twitter for iPhone</td>\n",
       "      <td>Please only send in dogs. We only rate dogs, n...</td>\n",
       "      <td>https://twitter.com/dog_rates/status/809920764...</td>\n",
       "      <td>10</td>\n",
       "      <td>None</td>\n",
       "      <td>None</td>\n",
       "      <td>None</td>\n",
       "      <td>None</td>\n",
       "      <td>None</td>\n",
       "    </tr>\n",
       "    <tr>\n",
       "      <th>542</th>\n",
       "      <td>806219024703037440</td>\n",
       "      <td>2016-12-06 19:29:28 +0000</td>\n",
       "      <td>Twitter for iPhone</td>\n",
       "      <td>We only rate dogs. Please stop sending in non-...</td>\n",
       "      <td>https://twitter.com/dog_rates/status/806219024...</td>\n",
       "      <td>11</td>\n",
       "      <td>incredibly</td>\n",
       "      <td>None</td>\n",
       "      <td>None</td>\n",
       "      <td>None</td>\n",
       "      <td>None</td>\n",
       "    </tr>\n",
       "    <tr>\n",
       "      <th>732</th>\n",
       "      <td>781524693396357120</td>\n",
       "      <td>2016-09-29 16:03:01 +0000</td>\n",
       "      <td>Twitter for iPhone</td>\n",
       "      <td>Idk why this keeps happening. We only rate dog...</td>\n",
       "      <td>https://twitter.com/dog_rates/status/781524693...</td>\n",
       "      <td>12</td>\n",
       "      <td>None</td>\n",
       "      <td>None</td>\n",
       "      <td>None</td>\n",
       "      <td>None</td>\n",
       "      <td>None</td>\n",
       "    </tr>\n",
       "    <tr>\n",
       "      <th>744</th>\n",
       "      <td>780192070812196864</td>\n",
       "      <td>2016-09-25 23:47:39 +0000</td>\n",
       "      <td>Twitter for iPhone</td>\n",
       "      <td>We only rate dogs. Pls stop sending in non-can...</td>\n",
       "      <td>https://twitter.com/dog_rates/status/780192070...</td>\n",
       "      <td>11</td>\n",
       "      <td>None</td>\n",
       "      <td>None</td>\n",
       "      <td>None</td>\n",
       "      <td>None</td>\n",
       "      <td>None</td>\n",
       "    </tr>\n",
       "    <tr>\n",
       "      <th>801</th>\n",
       "      <td>772581559778025472</td>\n",
       "      <td>2016-09-04 23:46:12 +0000</td>\n",
       "      <td>Twitter for iPhone</td>\n",
       "      <td>Guys this is getting so out of hand. We only r...</td>\n",
       "      <td>https://twitter.com/dog_rates/status/772581559...</td>\n",
       "      <td>10</td>\n",
       "      <td>a</td>\n",
       "      <td>None</td>\n",
       "      <td>None</td>\n",
       "      <td>None</td>\n",
       "      <td>None</td>\n",
       "    </tr>\n",
       "    <tr>\n",
       "      <th>819</th>\n",
       "      <td>770655142660169732</td>\n",
       "      <td>2016-08-30 16:11:18 +0000</td>\n",
       "      <td>Twitter for iPhone</td>\n",
       "      <td>We only rate dogs. Pls stop sending in non-can...</td>\n",
       "      <td>https://twitter.com/dog_rates/status/770655142...</td>\n",
       "      <td>11</td>\n",
       "      <td>very</td>\n",
       "      <td>None</td>\n",
       "      <td>None</td>\n",
       "      <td>None</td>\n",
       "      <td>None</td>\n",
       "    </tr>\n",
       "    <tr>\n",
       "      <th>869</th>\n",
       "      <td>761745352076779520</td>\n",
       "      <td>2016-08-06 02:06:59 +0000</td>\n",
       "      <td>Twitter for iPhone</td>\n",
       "      <td>Guys.. we only rate dogs. Pls don't send any m...</td>\n",
       "      <td>https://twitter.com/dog_rates/status/761745352...</td>\n",
       "      <td>11</td>\n",
       "      <td>None</td>\n",
       "      <td>None</td>\n",
       "      <td>None</td>\n",
       "      <td>None</td>\n",
       "      <td>None</td>\n",
       "    </tr>\n",
       "    <tr>\n",
       "      <th>887</th>\n",
       "      <td>759923798737051648</td>\n",
       "      <td>2016-08-01 01:28:46 +0000</td>\n",
       "      <td>Twitter for iPhone</td>\n",
       "      <td>We only rate dogs... this is a Taiwanese Guide...</td>\n",
       "      <td>https://twitter.com/dog_rates/status/759923798...</td>\n",
       "      <td>10</td>\n",
       "      <td>None</td>\n",
       "      <td>None</td>\n",
       "      <td>None</td>\n",
       "      <td>None</td>\n",
       "      <td>None</td>\n",
       "    </tr>\n",
       "    <tr>\n",
       "      <th>1017</th>\n",
       "      <td>746872823977771008</td>\n",
       "      <td>2016-06-26 01:08:52 +0000</td>\n",
       "      <td>Twitter for iPhone</td>\n",
       "      <td>This is a carrot. We only rate dogs. Please on...</td>\n",
       "      <td>https://twitter.com/dog_rates/status/746872823...</td>\n",
       "      <td>11</td>\n",
       "      <td>a</td>\n",
       "      <td>None</td>\n",
       "      <td>None</td>\n",
       "      <td>None</td>\n",
       "      <td>None</td>\n",
       "    </tr>\n",
       "    <tr>\n",
       "      <th>1031</th>\n",
       "      <td>745422732645535745</td>\n",
       "      <td>2016-06-22 01:06:43 +0000</td>\n",
       "      <td>Twitter for iPhone</td>\n",
       "      <td>We only rate dogs. Pls stop sending in non-can...</td>\n",
       "      <td>https://twitter.com/dog_rates/status/745422732...</td>\n",
       "      <td>9</td>\n",
       "      <td>very</td>\n",
       "      <td>None</td>\n",
       "      <td>None</td>\n",
       "      <td>None</td>\n",
       "      <td>None</td>\n",
       "    </tr>\n",
       "    <tr>\n",
       "      <th>1071</th>\n",
       "      <td>740214038584557568</td>\n",
       "      <td>2016-06-07 16:09:13 +0000</td>\n",
       "      <td>Twitter for iPhone</td>\n",
       "      <td>This is getting incredibly frustrating. This i...</td>\n",
       "      <td>https://twitter.com/dog_rates/status/740214038...</td>\n",
       "      <td>10</td>\n",
       "      <td>getting</td>\n",
       "      <td>None</td>\n",
       "      <td>None</td>\n",
       "      <td>None</td>\n",
       "      <td>None</td>\n",
       "    </tr>\n",
       "    <tr>\n",
       "      <th>1077</th>\n",
       "      <td>739544079319588864</td>\n",
       "      <td>2016-06-05 19:47:03 +0000</td>\n",
       "      <td>Twitter for iPhone</td>\n",
       "      <td>This... is a Tyrannosaurus rex. We only rate d...</td>\n",
       "      <td>https://twitter.com/dog_rates/status/739544079...</td>\n",
       "      <td>10</td>\n",
       "      <td>None</td>\n",
       "      <td>None</td>\n",
       "      <td>None</td>\n",
       "      <td>None</td>\n",
       "      <td>None</td>\n",
       "    </tr>\n",
       "    <tr>\n",
       "      <th>1085</th>\n",
       "      <td>738184450748633089</td>\n",
       "      <td>2016-06-02 01:44:22 +0000</td>\n",
       "      <td>Twitter for iPhone</td>\n",
       "      <td>For the last time, we only rate dogs. Pls stop...</td>\n",
       "      <td>https://twitter.com/dog_rates/status/738184450...</td>\n",
       "      <td>9</td>\n",
       "      <td>None</td>\n",
       "      <td>None</td>\n",
       "      <td>None</td>\n",
       "      <td>None</td>\n",
       "      <td>None</td>\n",
       "    </tr>\n",
       "    <tr>\n",
       "      <th>1090</th>\n",
       "      <td>737678689543020544</td>\n",
       "      <td>2016-05-31 16:14:39 +0000</td>\n",
       "      <td>Twitter for iPhone</td>\n",
       "      <td>We only rate dogs. Pls stop sending in non-can...</td>\n",
       "      <td>https://twitter.com/dog_rates/status/737678689...</td>\n",
       "      <td>11</td>\n",
       "      <td>None</td>\n",
       "      <td>None</td>\n",
       "      <td>None</td>\n",
       "      <td>None</td>\n",
       "      <td>None</td>\n",
       "    </tr>\n",
       "    <tr>\n",
       "      <th>1097</th>\n",
       "      <td>736225175608430592</td>\n",
       "      <td>2016-05-27 15:58:54 +0000</td>\n",
       "      <td>Twitter for iPhone</td>\n",
       "      <td>We only rate dogs. Please stop sending in non-...</td>\n",
       "      <td>https://twitter.com/dog_rates/status/736225175...</td>\n",
       "      <td>10</td>\n",
       "      <td>very</td>\n",
       "      <td>None</td>\n",
       "      <td>None</td>\n",
       "      <td>None</td>\n",
       "      <td>None</td>\n",
       "    </tr>\n",
       "    <tr>\n",
       "      <th>1102</th>\n",
       "      <td>735274964362878976</td>\n",
       "      <td>2016-05-25 01:03:06 +0000</td>\n",
       "      <td>Twitter for iPhone</td>\n",
       "      <td>We only rate dogs. Please stop sending in your...</td>\n",
       "      <td>https://twitter.com/dog_rates/status/735274964...</td>\n",
       "      <td>11</td>\n",
       "      <td>None</td>\n",
       "      <td>None</td>\n",
       "      <td>None</td>\n",
       "      <td>None</td>\n",
       "      <td>None</td>\n",
       "    </tr>\n",
       "    <tr>\n",
       "      <th>1121</th>\n",
       "      <td>730924654643314689</td>\n",
       "      <td>2016-05-13 00:56:32 +0000</td>\n",
       "      <td>Twitter for iPhone</td>\n",
       "      <td>We only rate dogs. Pls stop sending non-canine...</td>\n",
       "      <td>https://twitter.com/dog_rates/status/730924654...</td>\n",
       "      <td>9</td>\n",
       "      <td>unacceptable</td>\n",
       "      <td>None</td>\n",
       "      <td>None</td>\n",
       "      <td>None</td>\n",
       "      <td>None</td>\n",
       "    </tr>\n",
       "    <tr>\n",
       "      <th>1150</th>\n",
       "      <td>726224900189511680</td>\n",
       "      <td>2016-04-30 01:41:23 +0000</td>\n",
       "      <td>Twitter for iPhone</td>\n",
       "      <td>I'm getting super heckin frustrated with you a...</td>\n",
       "      <td>https://twitter.com/dog_rates/status/726224900...</td>\n",
       "      <td>9</td>\n",
       "      <td>None</td>\n",
       "      <td>None</td>\n",
       "      <td>None</td>\n",
       "      <td>None</td>\n",
       "      <td>None</td>\n",
       "    </tr>\n",
       "    <tr>\n",
       "      <th>1193</th>\n",
       "      <td>717537687239008257</td>\n",
       "      <td>2016-04-06 02:21:30 +0000</td>\n",
       "      <td>Twitter for iPhone</td>\n",
       "      <td>People please. This is a Deadly Mediterranean ...</td>\n",
       "      <td>https://twitter.com/dog_rates/status/717537687...</td>\n",
       "      <td>11</td>\n",
       "      <td>a</td>\n",
       "      <td>None</td>\n",
       "      <td>None</td>\n",
       "      <td>None</td>\n",
       "      <td>None</td>\n",
       "    </tr>\n",
       "    <tr>\n",
       "      <th>1207</th>\n",
       "      <td>715733265223708672</td>\n",
       "      <td>2016-04-01 02:51:22 +0000</td>\n",
       "      <td>Twitter for iPhone</td>\n",
       "      <td>This is a taco. We only rate dogs. Please only...</td>\n",
       "      <td>https://twitter.com/dog_rates/status/715733265...</td>\n",
       "      <td>10</td>\n",
       "      <td>a</td>\n",
       "      <td>None</td>\n",
       "      <td>None</td>\n",
       "      <td>None</td>\n",
       "      <td>None</td>\n",
       "    </tr>\n",
       "    <tr>\n",
       "      <th>1225</th>\n",
       "      <td>714141408463036416</td>\n",
       "      <td>2016-03-27 17:25:54 +0000</td>\n",
       "      <td>Twitter for iPhone</td>\n",
       "      <td>I know we only rate dogs, but since it's Easte...</td>\n",
       "      <td>https://twitter.com/dog_rates/status/714141408...</td>\n",
       "      <td>10</td>\n",
       "      <td>None</td>\n",
       "      <td>None</td>\n",
       "      <td>None</td>\n",
       "      <td>None</td>\n",
       "      <td>None</td>\n",
       "    </tr>\n",
       "    <tr>\n",
       "      <th>1234</th>\n",
       "      <td>712717840512598017</td>\n",
       "      <td>2016-03-23 19:09:09 +0000</td>\n",
       "      <td>Twitter for iPhone</td>\n",
       "      <td>Please don't send in any more polar bears. We ...</td>\n",
       "      <td>https://twitter.com/dog_rates/status/712717840...</td>\n",
       "      <td>10</td>\n",
       "      <td>None</td>\n",
       "      <td>None</td>\n",
       "      <td>None</td>\n",
       "      <td>None</td>\n",
       "      <td>None</td>\n",
       "    </tr>\n",
       "    <tr>\n",
       "      <th>1290</th>\n",
       "      <td>708130923141795840</td>\n",
       "      <td>2016-03-11 03:22:23 +0000</td>\n",
       "      <td>Twitter for iPhone</td>\n",
       "      <td>Please stop sending in non canines like this G...</td>\n",
       "      <td>https://twitter.com/dog_rates/status/708130923...</td>\n",
       "      <td>11</td>\n",
       "      <td>None</td>\n",
       "      <td>None</td>\n",
       "      <td>None</td>\n",
       "      <td>None</td>\n",
       "      <td>None</td>\n",
       "    </tr>\n",
       "    <tr>\n",
       "      <th>1362</th>\n",
       "      <td>703041949650034688</td>\n",
       "      <td>2016-02-26 02:20:37 +0000</td>\n",
       "      <td>Twitter for iPhone</td>\n",
       "      <td>This is an East African Chalupa Seal. We only ...</td>\n",
       "      <td>https://twitter.com/dog_rates/status/703041949...</td>\n",
       "      <td>10</td>\n",
       "      <td>an</td>\n",
       "      <td>None</td>\n",
       "      <td>None</td>\n",
       "      <td>None</td>\n",
       "      <td>None</td>\n",
       "    </tr>\n",
       "    <tr>\n",
       "      <th>1385</th>\n",
       "      <td>700747788515020802</td>\n",
       "      <td>2016-02-19 18:24:26 +0000</td>\n",
       "      <td>Twitter for iPhone</td>\n",
       "      <td>We only rate dogs. Pls stop sending in non-can...</td>\n",
       "      <td>https://twitter.com/dog_rates/status/700747788...</td>\n",
       "      <td>11</td>\n",
       "      <td>very</td>\n",
       "      <td>None</td>\n",
       "      <td>None</td>\n",
       "      <td>None</td>\n",
       "      <td>None</td>\n",
       "    </tr>\n",
       "    <tr>\n",
       "      <th>1435</th>\n",
       "      <td>697259378236399616</td>\n",
       "      <td>2016-02-10 03:22:44 +0000</td>\n",
       "      <td>Twitter for iPhone</td>\n",
       "      <td>Please stop sending in saber-toothed tigers. T...</td>\n",
       "      <td>https://twitter.com/dog_rates/status/697259378...</td>\n",
       "      <td>8</td>\n",
       "      <td>getting</td>\n",
       "      <td>None</td>\n",
       "      <td>None</td>\n",
       "      <td>None</td>\n",
       "      <td>None</td>\n",
       "    </tr>\n",
       "    <tr>\n",
       "      <th>1527</th>\n",
       "      <td>690360449368465409</td>\n",
       "      <td>2016-01-22 02:28:52 +0000</td>\n",
       "      <td>Twitter for iPhone</td>\n",
       "      <td>Stop sending in lobsters. This is the final wa...</td>\n",
       "      <td>https://twitter.com/dog_rates/status/690360449...</td>\n",
       "      <td>9</td>\n",
       "      <td>the</td>\n",
       "      <td>None</td>\n",
       "      <td>None</td>\n",
       "      <td>None</td>\n",
       "      <td>None</td>\n",
       "    </tr>\n",
       "    <tr>\n",
       "      <th>1564</th>\n",
       "      <td>688116655151435777</td>\n",
       "      <td>2016-01-15 21:52:49 +0000</td>\n",
       "      <td>Twitter for iPhone</td>\n",
       "      <td>Please send dogs. I'm tired of seeing other st...</td>\n",
       "      <td>https://twitter.com/dog_rates/status/688116655...</td>\n",
       "      <td>10</td>\n",
       "      <td>None</td>\n",
       "      <td>None</td>\n",
       "      <td>None</td>\n",
       "      <td>None</td>\n",
       "      <td>None</td>\n",
       "    </tr>\n",
       "    <tr>\n",
       "      <th>1610</th>\n",
       "      <td>685532292383666176</td>\n",
       "      <td>2016-01-08 18:43:29 +0000</td>\n",
       "      <td>Twitter for iPhone</td>\n",
       "      <td>For the last time, WE. DO. NOT. RATE. BULBASAU...</td>\n",
       "      <td>https://twitter.com/dog_rates/status/685532292...</td>\n",
       "      <td>9</td>\n",
       "      <td>None</td>\n",
       "      <td>None</td>\n",
       "      <td>None</td>\n",
       "      <td>None</td>\n",
       "      <td>None</td>\n",
       "    </tr>\n",
       "    <tr>\n",
       "      <th>1693</th>\n",
       "      <td>681297372102656000</td>\n",
       "      <td>2015-12-28 02:15:26 +0000</td>\n",
       "      <td>Twitter for iPhone</td>\n",
       "      <td>This is actually a lion. We only rate dogs. Fo...</td>\n",
       "      <td>https://twitter.com/dog_rates/status/681297372...</td>\n",
       "      <td>12</td>\n",
       "      <td>actually</td>\n",
       "      <td>None</td>\n",
       "      <td>None</td>\n",
       "      <td>None</td>\n",
       "      <td>None</td>\n",
       "    </tr>\n",
       "    <tr>\n",
       "      <th>1699</th>\n",
       "      <td>680970795137544192</td>\n",
       "      <td>2015-12-27 04:37:44 +0000</td>\n",
       "      <td>Twitter for iPhone</td>\n",
       "      <td>I thought I made this very clear. We only rate...</td>\n",
       "      <td>https://twitter.com/dog_rates/status/680970795...</td>\n",
       "      <td>9</td>\n",
       "      <td>None</td>\n",
       "      <td>None</td>\n",
       "      <td>None</td>\n",
       "      <td>None</td>\n",
       "      <td>None</td>\n",
       "    </tr>\n",
       "    <tr>\n",
       "      <th>1726</th>\n",
       "      <td>680055455951884288</td>\n",
       "      <td>2015-12-24 16:00:30 +0000</td>\n",
       "      <td>TweetDeck</td>\n",
       "      <td>Meet Sammy. At first I was like \"that's a snow...</td>\n",
       "      <td>https://twitter.com/dog_rates/status/680055455...</td>\n",
       "      <td>10</td>\n",
       "      <td>Sammy</td>\n",
       "      <td>None</td>\n",
       "      <td>None</td>\n",
       "      <td>None</td>\n",
       "      <td>None</td>\n",
       "    </tr>\n",
       "    <tr>\n",
       "      <th>1737</th>\n",
       "      <td>679530280114372609</td>\n",
       "      <td>2015-12-23 05:13:38 +0000</td>\n",
       "      <td>Twitter for iPhone</td>\n",
       "      <td>Guys this really needs to stop. We've been ove...</td>\n",
       "      <td>https://twitter.com/dog_rates/status/679530280...</td>\n",
       "      <td>7</td>\n",
       "      <td>a</td>\n",
       "      <td>None</td>\n",
       "      <td>None</td>\n",
       "      <td>None</td>\n",
       "      <td>None</td>\n",
       "    </tr>\n",
       "    <tr>\n",
       "      <th>1745</th>\n",
       "      <td>679148763231985668</td>\n",
       "      <td>2015-12-22 03:57:37 +0000</td>\n",
       "      <td>Twitter for iPhone</td>\n",
       "      <td>I know everyone's excited for Christmas but th...</td>\n",
       "      <td>https://twitter.com/dog_rates/status/679148763...</td>\n",
       "      <td>8</td>\n",
       "      <td>None</td>\n",
       "      <td>None</td>\n",
       "      <td>None</td>\n",
       "      <td>None</td>\n",
       "      <td>None</td>\n",
       "    </tr>\n",
       "    <tr>\n",
       "      <th>1854</th>\n",
       "      <td>675534494439489536</td>\n",
       "      <td>2015-12-12 04:35:48 +0000</td>\n",
       "      <td>Twitter for iPhone</td>\n",
       "      <td>Seriously guys?! Only send in dogs. I only rat...</td>\n",
       "      <td>https://twitter.com/dog_rates/status/675534494...</td>\n",
       "      <td>11</td>\n",
       "      <td>a</td>\n",
       "      <td>None</td>\n",
       "      <td>None</td>\n",
       "      <td>None</td>\n",
       "      <td>None</td>\n",
       "    </tr>\n",
       "    <tr>\n",
       "      <th>1877</th>\n",
       "      <td>675109292475830276</td>\n",
       "      <td>2015-12-11 00:26:12 +0000</td>\n",
       "      <td>Twitter for iPhone</td>\n",
       "      <td>C'mon guys. We've been over this. We only rate...</td>\n",
       "      <td>https://twitter.com/dog_rates/status/675109292...</td>\n",
       "      <td>9</td>\n",
       "      <td>a</td>\n",
       "      <td>None</td>\n",
       "      <td>None</td>\n",
       "      <td>None</td>\n",
       "      <td>None</td>\n",
       "    </tr>\n",
       "    <tr>\n",
       "      <th>1938</th>\n",
       "      <td>673906403526995968</td>\n",
       "      <td>2015-12-07 16:46:21 +0000</td>\n",
       "      <td>Twitter for iPhone</td>\n",
       "      <td>Guys I'm getting real tired of this. We only r...</td>\n",
       "      <td>https://twitter.com/dog_rates/status/673906403...</td>\n",
       "      <td>3</td>\n",
       "      <td>None</td>\n",
       "      <td>None</td>\n",
       "      <td>None</td>\n",
       "      <td>None</td>\n",
       "      <td>None</td>\n",
       "    </tr>\n",
       "  </tbody>\n",
       "</table>\n",
       "</div>"
      ],
      "text/plain": [
       "                tweet_id                  timestamp              source  \\\n",
       "25    887101392804085760  2017-07-18 00:07:08 +0000  Twitter for iPhone   \n",
       "59    880872448815771648  2017-06-30 19:35:32 +0000  Twitter for iPhone   \n",
       "93    874057562936811520  2017-06-12 00:15:36 +0000  Twitter for iPhone   \n",
       "127   867900495410671616  2017-05-26 00:29:37 +0000  Twitter for iPhone   \n",
       "131   867051520902168576  2017-05-23 16:16:06 +0000  Twitter for iPhone   \n",
       "141   864873206498414592  2017-05-17 16:00:15 +0000  Twitter for iPhone   \n",
       "154   862096992088072192  2017-05-10 00:08:34 +0000  Twitter for iPhone   \n",
       "169   859196978902773760  2017-05-02 00:04:57 +0000  Twitter for iPhone   \n",
       "193   855459453768019968  2017-04-21 16:33:22 +0000  Twitter for iPhone   \n",
       "221   849776966551130114  2017-04-06 00:13:11 +0000  Twitter for iPhone   \n",
       "226   848690551926992896  2017-04-03 00:16:10 +0000  Twitter for iPhone   \n",
       "246   845677943972139009  2017-03-25 16:45:08 +0000  Twitter for iPhone   \n",
       "314   835172783151792128  2017-02-24 17:01:22 +0000  Twitter for iPhone   \n",
       "390   826240494070030336  2017-01-31 01:27:39 +0000  Twitter for iPhone   \n",
       "416   822610361945911296  2017-01-21 01:02:48 +0000  Twitter for iPhone   \n",
       "419   822244816520155136  2017-01-20 00:50:15 +0000  Twitter for iPhone   \n",
       "494   813187593374461952  2016-12-26 01:00:05 +0000  Twitter for iPhone   \n",
       "521   809920764300447744  2016-12-17 00:38:52 +0000  Twitter for iPhone   \n",
       "542   806219024703037440  2016-12-06 19:29:28 +0000  Twitter for iPhone   \n",
       "732   781524693396357120  2016-09-29 16:03:01 +0000  Twitter for iPhone   \n",
       "744   780192070812196864  2016-09-25 23:47:39 +0000  Twitter for iPhone   \n",
       "801   772581559778025472  2016-09-04 23:46:12 +0000  Twitter for iPhone   \n",
       "819   770655142660169732  2016-08-30 16:11:18 +0000  Twitter for iPhone   \n",
       "869   761745352076779520  2016-08-06 02:06:59 +0000  Twitter for iPhone   \n",
       "887   759923798737051648  2016-08-01 01:28:46 +0000  Twitter for iPhone   \n",
       "1017  746872823977771008  2016-06-26 01:08:52 +0000  Twitter for iPhone   \n",
       "1031  745422732645535745  2016-06-22 01:06:43 +0000  Twitter for iPhone   \n",
       "1071  740214038584557568  2016-06-07 16:09:13 +0000  Twitter for iPhone   \n",
       "1077  739544079319588864  2016-06-05 19:47:03 +0000  Twitter for iPhone   \n",
       "1085  738184450748633089  2016-06-02 01:44:22 +0000  Twitter for iPhone   \n",
       "1090  737678689543020544  2016-05-31 16:14:39 +0000  Twitter for iPhone   \n",
       "1097  736225175608430592  2016-05-27 15:58:54 +0000  Twitter for iPhone   \n",
       "1102  735274964362878976  2016-05-25 01:03:06 +0000  Twitter for iPhone   \n",
       "1121  730924654643314689  2016-05-13 00:56:32 +0000  Twitter for iPhone   \n",
       "1150  726224900189511680  2016-04-30 01:41:23 +0000  Twitter for iPhone   \n",
       "1193  717537687239008257  2016-04-06 02:21:30 +0000  Twitter for iPhone   \n",
       "1207  715733265223708672  2016-04-01 02:51:22 +0000  Twitter for iPhone   \n",
       "1225  714141408463036416  2016-03-27 17:25:54 +0000  Twitter for iPhone   \n",
       "1234  712717840512598017  2016-03-23 19:09:09 +0000  Twitter for iPhone   \n",
       "1290  708130923141795840  2016-03-11 03:22:23 +0000  Twitter for iPhone   \n",
       "1362  703041949650034688  2016-02-26 02:20:37 +0000  Twitter for iPhone   \n",
       "1385  700747788515020802  2016-02-19 18:24:26 +0000  Twitter for iPhone   \n",
       "1435  697259378236399616  2016-02-10 03:22:44 +0000  Twitter for iPhone   \n",
       "1527  690360449368465409  2016-01-22 02:28:52 +0000  Twitter for iPhone   \n",
       "1564  688116655151435777  2016-01-15 21:52:49 +0000  Twitter for iPhone   \n",
       "1610  685532292383666176  2016-01-08 18:43:29 +0000  Twitter for iPhone   \n",
       "1693  681297372102656000  2015-12-28 02:15:26 +0000  Twitter for iPhone   \n",
       "1699  680970795137544192  2015-12-27 04:37:44 +0000  Twitter for iPhone   \n",
       "1726  680055455951884288  2015-12-24 16:00:30 +0000           TweetDeck   \n",
       "1737  679530280114372609  2015-12-23 05:13:38 +0000  Twitter for iPhone   \n",
       "1745  679148763231985668  2015-12-22 03:57:37 +0000  Twitter for iPhone   \n",
       "1854  675534494439489536  2015-12-12 04:35:48 +0000  Twitter for iPhone   \n",
       "1877  675109292475830276  2015-12-11 00:26:12 +0000  Twitter for iPhone   \n",
       "1938  673906403526995968  2015-12-07 16:46:21 +0000  Twitter for iPhone   \n",
       "\n",
       "                                                   text  \\\n",
       "25    This... is a Jubilant Antarctic House Bear. We...   \n",
       "59    Ugh not again. We only rate dogs. Please don't...   \n",
       "93    I can't believe this keeps happening. This, is...   \n",
       "127   Unbelievable. We only rate dogs. Please don't ...   \n",
       "131   Oh my this spooked me up. We only rate dogs, n...   \n",
       "141   We only rate dogs. Please don't send in Jesus....   \n",
       "154   We only rate dogs. Please don't send perfectly...   \n",
       "169   We only rate dogs. This is quite clearly a smo...   \n",
       "193   Guys, we only rate dogs. This is quite clearly...   \n",
       "221   Seriously guys? Again? We only rate dogs. Plea...   \n",
       "226   Please stop sending in animals other than dogs...   \n",
       "246   C'mon guys. Please only send in dogs. We only ...   \n",
       "314   We only rate dogs. Please don't send in any no...   \n",
       "390   We only rate dogs. Please don't send in any mo...   \n",
       "416   Please stop sending in non-canines like this V...   \n",
       "419   We only rate dogs. Please don't send pics of m...   \n",
       "494   We only rate dogs. Please don't send in other ...   \n",
       "521   Please only send in dogs. We only rate dogs, n...   \n",
       "542   We only rate dogs. Please stop sending in non-...   \n",
       "732   Idk why this keeps happening. We only rate dog...   \n",
       "744   We only rate dogs. Pls stop sending in non-can...   \n",
       "801   Guys this is getting so out of hand. We only r...   \n",
       "819   We only rate dogs. Pls stop sending in non-can...   \n",
       "869   Guys.. we only rate dogs. Pls don't send any m...   \n",
       "887   We only rate dogs... this is a Taiwanese Guide...   \n",
       "1017  This is a carrot. We only rate dogs. Please on...   \n",
       "1031  We only rate dogs. Pls stop sending in non-can...   \n",
       "1071  This is getting incredibly frustrating. This i...   \n",
       "1077  This... is a Tyrannosaurus rex. We only rate d...   \n",
       "1085  For the last time, we only rate dogs. Pls stop...   \n",
       "1090  We only rate dogs. Pls stop sending in non-can...   \n",
       "1097  We only rate dogs. Please stop sending in non-...   \n",
       "1102  We only rate dogs. Please stop sending in your...   \n",
       "1121  We only rate dogs. Pls stop sending non-canine...   \n",
       "1150  I'm getting super heckin frustrated with you a...   \n",
       "1193  People please. This is a Deadly Mediterranean ...   \n",
       "1207  This is a taco. We only rate dogs. Please only...   \n",
       "1225  I know we only rate dogs, but since it's Easte...   \n",
       "1234  Please don't send in any more polar bears. We ...   \n",
       "1290  Please stop sending in non canines like this G...   \n",
       "1362  This is an East African Chalupa Seal. We only ...   \n",
       "1385  We only rate dogs. Pls stop sending in non-can...   \n",
       "1435  Please stop sending in saber-toothed tigers. T...   \n",
       "1527  Stop sending in lobsters. This is the final wa...   \n",
       "1564  Please send dogs. I'm tired of seeing other st...   \n",
       "1610  For the last time, WE. DO. NOT. RATE. BULBASAU...   \n",
       "1693  This is actually a lion. We only rate dogs. Fo...   \n",
       "1699  I thought I made this very clear. We only rate...   \n",
       "1726  Meet Sammy. At first I was like \"that's a snow...   \n",
       "1737  Guys this really needs to stop. We've been ove...   \n",
       "1745  I know everyone's excited for Christmas but th...   \n",
       "1854  Seriously guys?! Only send in dogs. I only rat...   \n",
       "1877  C'mon guys. We've been over this. We only rate...   \n",
       "1938  Guys I'm getting real tired of this. We only r...   \n",
       "\n",
       "                                          expanded_urls  rating_numerator  \\\n",
       "25    https://twitter.com/dog_rates/status/887101392...                12   \n",
       "59    https://twitter.com/dog_rates/status/880872448...                12   \n",
       "93    https://twitter.com/dog_rates/status/874057562...                12   \n",
       "127   https://twitter.com/dog_rates/status/867900495...                12   \n",
       "131   https://twitter.com/dog_rates/status/867051520...                13   \n",
       "141   https://twitter.com/dog_rates/status/864873206...                14   \n",
       "154   https://twitter.com/dog_rates/status/862096992...                13   \n",
       "169   https://twitter.com/dog_rates/status/859196978...                12   \n",
       "193   https://twitter.com/dog_rates/status/855459453...                12   \n",
       "221   https://twitter.com/dog_rates/status/849776966...                12   \n",
       "226   https://twitter.com/dog_rates/status/848690551...                12   \n",
       "246   https://twitter.com/dog_rates/status/845677943...                12   \n",
       "314   https://twitter.com/dog_rates/status/835172783...                12   \n",
       "390   https://twitter.com/dog_rates/status/826240494...                11   \n",
       "416   https://twitter.com/dog_rates/status/822610361...                12   \n",
       "419   https://twitter.com/dog_rates/status/822244816...                11   \n",
       "494   https://twitter.com/dog_rates/status/813187593...                13   \n",
       "521   https://twitter.com/dog_rates/status/809920764...                10   \n",
       "542   https://twitter.com/dog_rates/status/806219024...                11   \n",
       "732   https://twitter.com/dog_rates/status/781524693...                12   \n",
       "744   https://twitter.com/dog_rates/status/780192070...                11   \n",
       "801   https://twitter.com/dog_rates/status/772581559...                10   \n",
       "819   https://twitter.com/dog_rates/status/770655142...                11   \n",
       "869   https://twitter.com/dog_rates/status/761745352...                11   \n",
       "887   https://twitter.com/dog_rates/status/759923798...                10   \n",
       "1017  https://twitter.com/dog_rates/status/746872823...                11   \n",
       "1031  https://twitter.com/dog_rates/status/745422732...                 9   \n",
       "1071  https://twitter.com/dog_rates/status/740214038...                10   \n",
       "1077  https://twitter.com/dog_rates/status/739544079...                10   \n",
       "1085  https://twitter.com/dog_rates/status/738184450...                 9   \n",
       "1090  https://twitter.com/dog_rates/status/737678689...                11   \n",
       "1097  https://twitter.com/dog_rates/status/736225175...                10   \n",
       "1102  https://twitter.com/dog_rates/status/735274964...                11   \n",
       "1121  https://twitter.com/dog_rates/status/730924654...                 9   \n",
       "1150  https://twitter.com/dog_rates/status/726224900...                 9   \n",
       "1193  https://twitter.com/dog_rates/status/717537687...                11   \n",
       "1207  https://twitter.com/dog_rates/status/715733265...                10   \n",
       "1225  https://twitter.com/dog_rates/status/714141408...                10   \n",
       "1234  https://twitter.com/dog_rates/status/712717840...                10   \n",
       "1290  https://twitter.com/dog_rates/status/708130923...                11   \n",
       "1362  https://twitter.com/dog_rates/status/703041949...                10   \n",
       "1385  https://twitter.com/dog_rates/status/700747788...                11   \n",
       "1435  https://twitter.com/dog_rates/status/697259378...                 8   \n",
       "1527  https://twitter.com/dog_rates/status/690360449...                 9   \n",
       "1564  https://twitter.com/dog_rates/status/688116655...                10   \n",
       "1610  https://twitter.com/dog_rates/status/685532292...                 9   \n",
       "1693  https://twitter.com/dog_rates/status/681297372...                12   \n",
       "1699  https://twitter.com/dog_rates/status/680970795...                 9   \n",
       "1726  https://twitter.com/dog_rates/status/680055455...                10   \n",
       "1737  https://twitter.com/dog_rates/status/679530280...                 7   \n",
       "1745  https://twitter.com/dog_rates/status/679148763...                 8   \n",
       "1854  https://twitter.com/dog_rates/status/675534494...                11   \n",
       "1877  https://twitter.com/dog_rates/status/675109292...                 9   \n",
       "1938  https://twitter.com/dog_rates/status/673906403...                 3   \n",
       "\n",
       "              name doggo floofer pupper puppo  \n",
       "25            None  None    None   None  None  \n",
       "59            None  None    None   None  None  \n",
       "93            None  None    None   None  None  \n",
       "127           None  None    None   None  None  \n",
       "131           None  None    None   None  None  \n",
       "141           None  None    None   None  None  \n",
       "154           None  None    None   None  None  \n",
       "169          quite  None    None   None  None  \n",
       "193          quite  None    None   None  None  \n",
       "221           None  None    None   None  None  \n",
       "226           None  None    None   None  None  \n",
       "246           None  None    None   None  None  \n",
       "314           None  None    None   None  None  \n",
       "390           None  None    None   None  None  \n",
       "416           None  None    None   None  None  \n",
       "419           None  None    None   None  None  \n",
       "494           None  None    None   None  None  \n",
       "521           None  None    None   None  None  \n",
       "542     incredibly  None    None   None  None  \n",
       "732           None  None    None   None  None  \n",
       "744           None  None    None   None  None  \n",
       "801              a  None    None   None  None  \n",
       "819           very  None    None   None  None  \n",
       "869           None  None    None   None  None  \n",
       "887           None  None    None   None  None  \n",
       "1017             a  None    None   None  None  \n",
       "1031          very  None    None   None  None  \n",
       "1071       getting  None    None   None  None  \n",
       "1077          None  None    None   None  None  \n",
       "1085          None  None    None   None  None  \n",
       "1090          None  None    None   None  None  \n",
       "1097          very  None    None   None  None  \n",
       "1102          None  None    None   None  None  \n",
       "1121  unacceptable  None    None   None  None  \n",
       "1150          None  None    None   None  None  \n",
       "1193             a  None    None   None  None  \n",
       "1207             a  None    None   None  None  \n",
       "1225          None  None    None   None  None  \n",
       "1234          None  None    None   None  None  \n",
       "1290          None  None    None   None  None  \n",
       "1362            an  None    None   None  None  \n",
       "1385          very  None    None   None  None  \n",
       "1435       getting  None    None   None  None  \n",
       "1527           the  None    None   None  None  \n",
       "1564          None  None    None   None  None  \n",
       "1610          None  None    None   None  None  \n",
       "1693      actually  None    None   None  None  \n",
       "1699          None  None    None   None  None  \n",
       "1726         Sammy  None    None   None  None  \n",
       "1737             a  None    None   None  None  \n",
       "1745          None  None    None   None  None  \n",
       "1854             a  None    None   None  None  \n",
       "1877             a  None    None   None  None  \n",
       "1938          None  None    None   None  None  "
      ]
     },
     "execution_count": 56,
     "metadata": {},
     "output_type": "execute_result"
    }
   ],
   "source": [
    "dog_arch[dog_arch['text'].str.match('.*only rate dog')]"
   ]
  },
  {
   "cell_type": "markdown",
   "metadata": {},
   "source": [
    "#### Code"
   ]
  },
  {
   "cell_type": "code",
   "execution_count": 57,
   "metadata": {},
   "outputs": [
    {
     "data": {
      "text/plain": [
       "Int64Index([  25,   59,   93,  127,  131,  141,  154,  169,  193,  221,  226,\n",
       "             246,  314,  390,  416,  419,  494,  521,  542,  732,  744,  801,\n",
       "             819,  869,  887, 1017, 1031, 1071, 1077, 1085, 1090, 1097, 1102,\n",
       "            1121, 1150, 1193, 1207, 1225, 1234, 1290, 1362, 1385, 1435, 1527,\n",
       "            1564, 1610, 1693, 1699, 1726, 1737, 1745, 1854, 1877, 1938],\n",
       "           dtype='int64')"
      ]
     },
     "execution_count": 57,
     "metadata": {},
     "output_type": "execute_result"
    }
   ],
   "source": [
    "# Code to identify all tweets not about dogs by their index\n",
    "not_dog_ratings = dog_arch[dog_arch['text'].str.match('.*only rate dog')].index\n",
    "not_dog_ratings"
   ]
  },
  {
   "cell_type": "code",
   "execution_count": 58,
   "metadata": {},
   "outputs": [],
   "source": [
    "# Tweets identified to not be about dogs are removed using their index\n",
    "drop_col_row(dog_arch, not_dog_ratings)"
   ]
  },
  {
   "cell_type": "markdown",
   "metadata": {},
   "source": [
    "#### Test"
   ]
  },
  {
   "cell_type": "code",
   "execution_count": 59,
   "metadata": {},
   "outputs": [
    {
     "data": {
      "text/plain": [
       "Int64Index([], dtype='int64')"
      ]
     },
     "execution_count": 59,
     "metadata": {},
     "output_type": "execute_result"
    }
   ],
   "source": [
    "not_dog_ratings = dog_arch[dog_arch['text'].str.match('.*only rate dog')].index\n",
    "not_dog_ratings"
   ]
  },
  {
   "cell_type": "code",
   "execution_count": 60,
   "metadata": {},
   "outputs": [
    {
     "data": {
      "text/html": [
       "<div>\n",
       "<style scoped>\n",
       "    .dataframe tbody tr th:only-of-type {\n",
       "        vertical-align: middle;\n",
       "    }\n",
       "\n",
       "    .dataframe tbody tr th {\n",
       "        vertical-align: top;\n",
       "    }\n",
       "\n",
       "    .dataframe thead th {\n",
       "        text-align: right;\n",
       "    }\n",
       "</style>\n",
       "<table border=\"1\" class=\"dataframe\">\n",
       "  <thead>\n",
       "    <tr style=\"text-align: right;\">\n",
       "      <th></th>\n",
       "      <th>tweet_id</th>\n",
       "      <th>timestamp</th>\n",
       "      <th>source</th>\n",
       "      <th>text</th>\n",
       "      <th>expanded_urls</th>\n",
       "      <th>rating_numerator</th>\n",
       "      <th>name</th>\n",
       "      <th>doggo</th>\n",
       "      <th>floofer</th>\n",
       "      <th>pupper</th>\n",
       "      <th>puppo</th>\n",
       "    </tr>\n",
       "  </thead>\n",
       "  <tbody>\n",
       "  </tbody>\n",
       "</table>\n",
       "</div>"
      ],
      "text/plain": [
       "Empty DataFrame\n",
       "Columns: [tweet_id, timestamp, source, text, expanded_urls, rating_numerator, name, doggo, floofer, pupper, puppo]\n",
       "Index: []"
      ]
     },
     "execution_count": 60,
     "metadata": {},
     "output_type": "execute_result"
    }
   ],
   "source": [
    "dog_arch[dog_arch['text'].str.match('.*only rate dog')]"
   ]
  },
  {
   "cell_type": "markdown",
   "metadata": {},
   "source": [
    "#### We can now see that there are no tweets identified to not be about dogs when we check visually as well as by searchong for their index"
   ]
  },
  {
   "cell_type": "markdown",
   "metadata": {},
   "source": [
    "### Issue #6:\n",
    "\n",
    "#### Define: expanded_urls column is missing some values"
   ]
  },
  {
   "cell_type": "code",
   "execution_count": 61,
   "metadata": {
    "scrolled": true
   },
   "outputs": [
    {
     "name": "stdout",
     "output_type": "stream",
     "text": [
      "<class 'pandas.core.frame.DataFrame'>\n",
      "Int64Index: 2043 entries, 0 to 2355\n",
      "Data columns (total 11 columns):\n",
      " #   Column            Non-Null Count  Dtype \n",
      "---  ------            --------------  ----- \n",
      " 0   tweet_id          2043 non-null   int64 \n",
      " 1   timestamp         2043 non-null   object\n",
      " 2   source            2043 non-null   object\n",
      " 3   text              2043 non-null   object\n",
      " 4   expanded_urls     2040 non-null   object\n",
      " 5   rating_numerator  2043 non-null   int64 \n",
      " 6   name              2043 non-null   object\n",
      " 7   doggo             2043 non-null   object\n",
      " 8   floofer           2043 non-null   object\n",
      " 9   pupper            2043 non-null   object\n",
      " 10  puppo             2043 non-null   object\n",
      "dtypes: int64(2), object(9)\n",
      "memory usage: 191.5+ KB\n"
     ]
    }
   ],
   "source": [
    "dog_arch.info()"
   ]
  },
  {
   "cell_type": "markdown",
   "metadata": {},
   "source": [
    "#### Code"
   ]
  },
  {
   "cell_type": "code",
   "execution_count": 62,
   "metadata": {},
   "outputs": [],
   "source": [
    "# We will drop the expanded_urls column as we will not need it in our analysis anyway\n",
    "dog_arch.drop(columns=['expanded_urls',], inplace=True)"
   ]
  },
  {
   "cell_type": "markdown",
   "metadata": {},
   "source": [
    "#### Test"
   ]
  },
  {
   "cell_type": "code",
   "execution_count": 63,
   "metadata": {
    "scrolled": false
   },
   "outputs": [
    {
     "name": "stdout",
     "output_type": "stream",
     "text": [
      "<class 'pandas.core.frame.DataFrame'>\n",
      "Int64Index: 2043 entries, 0 to 2355\n",
      "Data columns (total 10 columns):\n",
      " #   Column            Non-Null Count  Dtype \n",
      "---  ------            --------------  ----- \n",
      " 0   tweet_id          2043 non-null   int64 \n",
      " 1   timestamp         2043 non-null   object\n",
      " 2   source            2043 non-null   object\n",
      " 3   text              2043 non-null   object\n",
      " 4   rating_numerator  2043 non-null   int64 \n",
      " 5   name              2043 non-null   object\n",
      " 6   doggo             2043 non-null   object\n",
      " 7   floofer           2043 non-null   object\n",
      " 8   pupper            2043 non-null   object\n",
      " 9   puppo             2043 non-null   object\n",
      "dtypes: int64(2), object(8)\n",
      "memory usage: 175.6+ KB\n"
     ]
    }
   ],
   "source": [
    "dog_arch.info()"
   ]
  },
  {
   "cell_type": "markdown",
   "metadata": {},
   "source": [
    "#### We can see that the expanded_urls column has been dropped"
   ]
  },
  {
   "cell_type": "markdown",
   "metadata": {},
   "source": [
    "### Issue #7:\n",
    "\n",
    "#### Define: Ratings numerator may not have been properly extracted"
   ]
  },
  {
   "cell_type": "markdown",
   "metadata": {},
   "source": [
    "#### Code"
   ]
  },
  {
   "cell_type": "code",
   "execution_count": 65,
   "metadata": {},
   "outputs": [
    {
     "data": {
      "text/html": [
       "<div>\n",
       "<style scoped>\n",
       "    .dataframe tbody tr th:only-of-type {\n",
       "        vertical-align: middle;\n",
       "    }\n",
       "\n",
       "    .dataframe tbody tr th {\n",
       "        vertical-align: top;\n",
       "    }\n",
       "\n",
       "    .dataframe thead th {\n",
       "        text-align: right;\n",
       "    }\n",
       "</style>\n",
       "<table border=\"1\" class=\"dataframe\">\n",
       "  <thead>\n",
       "    <tr style=\"text-align: right;\">\n",
       "      <th></th>\n",
       "      <th>pattern</th>\n",
       "      <th>fraction</th>\n",
       "    </tr>\n",
       "  </thead>\n",
       "  <tbody>\n",
       "    <tr>\n",
       "      <th>0</th>\n",
       "      <td>13/10</td>\n",
       "      <td>13/</td>\n",
       "    </tr>\n",
       "    <tr>\n",
       "      <th>1</th>\n",
       "      <td>13/10</td>\n",
       "      <td>13/</td>\n",
       "    </tr>\n",
       "    <tr>\n",
       "      <th>2</th>\n",
       "      <td>12/10</td>\n",
       "      <td>12/</td>\n",
       "    </tr>\n",
       "    <tr>\n",
       "      <th>3</th>\n",
       "      <td>13/10</td>\n",
       "      <td>13/</td>\n",
       "    </tr>\n",
       "    <tr>\n",
       "      <th>4</th>\n",
       "      <td>12/10</td>\n",
       "      <td>12/</td>\n",
       "    </tr>\n",
       "    <tr>\n",
       "      <th>...</th>\n",
       "      <td>...</td>\n",
       "      <td>...</td>\n",
       "    </tr>\n",
       "    <tr>\n",
       "      <th>2351</th>\n",
       "      <td>5/10</td>\n",
       "      <td>5/</td>\n",
       "    </tr>\n",
       "    <tr>\n",
       "      <th>2352</th>\n",
       "      <td>6/10</td>\n",
       "      <td>6/</td>\n",
       "    </tr>\n",
       "    <tr>\n",
       "      <th>2353</th>\n",
       "      <td>9/10</td>\n",
       "      <td>9/</td>\n",
       "    </tr>\n",
       "    <tr>\n",
       "      <th>2354</th>\n",
       "      <td>7/10</td>\n",
       "      <td>7/</td>\n",
       "    </tr>\n",
       "    <tr>\n",
       "      <th>2355</th>\n",
       "      <td>8/10</td>\n",
       "      <td>8/</td>\n",
       "    </tr>\n",
       "  </tbody>\n",
       "</table>\n",
       "<p>2043 rows × 2 columns</p>\n",
       "</div>"
      ],
      "text/plain": [
       "     pattern fraction\n",
       "0      13/10      13/\n",
       "1      13/10      13/\n",
       "2      12/10      12/\n",
       "3      13/10      13/\n",
       "4      12/10      12/\n",
       "...      ...      ...\n",
       "2351    5/10       5/\n",
       "2352    6/10       6/\n",
       "2353    9/10       9/\n",
       "2354    7/10       7/\n",
       "2355    8/10       8/\n",
       "\n",
       "[2043 rows x 2 columns]"
      ]
     },
     "execution_count": 65,
     "metadata": {},
     "output_type": "execute_result"
    }
   ],
   "source": [
    "import re \n",
    "\n",
    "regex = r'''([+-]?([0-9]+[.])?[0-9]+\\/[+-]?([0-9]+[.])?[0-9]+)'''\n",
    "\n",
    "          #[+-]?([0-9]*[.])?[0-9]+\\/[+-]?([0-9]*[.])?[0-9]+\n",
    "def get_pattern(pat):\n",
    "  try:\n",
    "      return re.findall(regex, pat)[0][0]\n",
    "  except Exception as e:\n",
    "      return ''\n",
    "\n",
    "\n",
    "dog_arch['pattern'] = dog_arch['text'].apply(get_pattern)\n",
    "dog_arch['fraction'] = dog_arch['rating_numerator'].astype(str) + '/'\n",
    "dog_arch[dog_arch['pattern'] != dog_arch['fraction']][['pattern', 'fraction']]"
   ]
  },
  {
   "cell_type": "code",
   "execution_count": 66,
   "metadata": {
    "scrolled": false
   },
   "outputs": [
    {
     "data": {
      "text/plain": [
       "0       13\n",
       "1       13\n",
       "2       12\n",
       "3       13\n",
       "4       12\n",
       "        ..\n",
       "2351     5\n",
       "2352     6\n",
       "2353     9\n",
       "2354     7\n",
       "2355     8\n",
       "Name: rating_numerator, Length: 2043, dtype: object"
      ]
     },
     "execution_count": 66,
     "metadata": {},
     "output_type": "execute_result"
    }
   ],
   "source": [
    "rating = dog_arch.fraction\n",
    "rating.str.split(pat=None, n=-1, expand=False)\n",
    "split_rating = dog_arch[\"fraction\"].str.split(\"/\", n = 1, expand = True)\n",
    "dog_arch[\"rating_numerator\"]= split_rating[0]"
   ]
  },
  {
   "cell_type": "markdown",
   "metadata": {},
   "source": [
    "#### Test"
   ]
  },
  {
   "cell_type": "code",
   "execution_count": 68,
   "metadata": {
    "scrolled": true
   },
   "outputs": [
    {
     "data": {
      "text/plain": [
       "0       13\n",
       "1       13\n",
       "2       12\n",
       "3       13\n",
       "4       12\n",
       "        ..\n",
       "2351     5\n",
       "2352     6\n",
       "2353     9\n",
       "2354     7\n",
       "2355     8\n",
       "Name: rating_numerator, Length: 2043, dtype: object"
      ]
     },
     "execution_count": 68,
     "metadata": {},
     "output_type": "execute_result"
    }
   ],
   "source": [
    "dog_arch.rating_numerator"
   ]
  },
  {
   "cell_type": "markdown",
   "metadata": {},
   "source": [
    "#### Rating numerators have been successfully extracted and updated"
   ]
  },
  {
   "cell_type": "markdown",
   "metadata": {},
   "source": [
    "### Issue #8:\n",
    "\n",
    "#### Define: Some dog names were not properly extracted. Some of the values in that column are not actual dog names"
   ]
  },
  {
   "cell_type": "code",
   "execution_count": 69,
   "metadata": {
    "scrolled": false
   },
   "outputs": [
    {
     "data": {
      "text/plain": [
       "None       570\n",
       "a           48\n",
       "Lucy        11\n",
       "Charlie     11\n",
       "Cooper      10\n",
       "          ... \n",
       "Rose         1\n",
       "Theo         1\n",
       "Fido         1\n",
       "Emma         1\n",
       "quite        1\n",
       "Name: name, Length: 951, dtype: int64"
      ]
     },
     "execution_count": 69,
     "metadata": {},
     "output_type": "execute_result"
    }
   ],
   "source": [
    "dog_arch['name'].value_counts()"
   ]
  },
  {
   "cell_type": "markdown",
   "metadata": {},
   "source": [
    "#### We can see from assessing the dataset here in this notebook as well as in Excel that some of the names are not actual names. Those tweets did not actually contain any dog names. They include names like 'a', 'quite', 'the' and 'an' among many others. These names will be replaced with the value 'None'."
   ]
  },
  {
   "cell_type": "markdown",
   "metadata": {},
   "source": [
    "Code"
   ]
  },
  {
   "cell_type": "code",
   "execution_count": 70,
   "metadata": {},
   "outputs": [],
   "source": [
    "# Code to remove all incorrect dog names with \"None\"\n",
    "dog_arch['name'].replace(['a','the','quite','an','actually','all','by','his','life','my','old','one','such','this'], 'None', inplace=True)"
   ]
  },
  {
   "cell_type": "markdown",
   "metadata": {},
   "source": [
    "#### Test"
   ]
  },
  {
   "cell_type": "code",
   "execution_count": 71,
   "metadata": {},
   "outputs": [
    {
     "data": {
      "text/plain": [
       "None          644\n",
       "Charlie        11\n",
       "Lucy           11\n",
       "Cooper         10\n",
       "Oliver         10\n",
       "             ... \n",
       "Bonaparte       1\n",
       "Wishes          1\n",
       "Rose            1\n",
       "Theo            1\n",
       "Christoper      1\n",
       "Name: name, Length: 937, dtype: int64"
      ]
     },
     "execution_count": 71,
     "metadata": {},
     "output_type": "execute_result"
    }
   ],
   "source": [
    "dog_arch['name'].value_counts()"
   ]
  },
  {
   "cell_type": "markdown",
   "metadata": {},
   "source": [
    "#### Incorrect dog names have been successfully replaced with \"None\""
   ]
  },
  {
   "cell_type": "markdown",
   "metadata": {},
   "source": [
    "#### Code"
   ]
  },
  {
   "cell_type": "markdown",
   "metadata": {},
   "source": [
    "### Tidiness Issue #1:\n",
    "\n",
    "#### Define :  Dog Stage which is a single observational unit has been stored in multiple columns making the dataset unnecessarily bulky and messy\n"
   ]
  },
  {
   "cell_type": "code",
   "execution_count": 72,
   "metadata": {
    "scrolled": false
   },
   "outputs": [
    {
     "data": {
      "text/plain": [
       "doggo  floofer  pupper  puppo\n",
       "None   None     None    None     1707\n",
       "                pupper  None      221\n",
       "doggo  None     None    None       72\n",
       "None   None     None    puppo      23\n",
       "       floofer  None    None        9\n",
       "doggo  None     pupper  None        9\n",
       "                None    puppo       1\n",
       "       floofer  None    None        1\n",
       "dtype: int64"
      ]
     },
     "execution_count": 72,
     "metadata": {},
     "output_type": "execute_result"
    }
   ],
   "source": [
    "dog_arch[['doggo','floofer','pupper','puppo']].value_counts()"
   ]
  },
  {
   "cell_type": "code",
   "execution_count": 73,
   "metadata": {},
   "outputs": [],
   "source": [
    "dog_stages = ['doggo',  'floofer',  'pupper',  'puppo']"
   ]
  },
  {
   "cell_type": "code",
   "execution_count": 74,
   "metadata": {},
   "outputs": [],
   "source": [
    "dog_arch[dog_stages]=dog_arch[dog_stages].replace('None',np.nan)"
   ]
  },
  {
   "cell_type": "code",
   "execution_count": 75,
   "metadata": {},
   "outputs": [],
   "source": [
    "def join(x):\n",
    "    return ', '.join(x.dropna().astype(str)) \n",
    "\n",
    "dog_arch['dog_stages'] = dog_arch[dog_stages].apply(join, axis=1)"
   ]
  },
  {
   "cell_type": "code",
   "execution_count": 76,
   "metadata": {},
   "outputs": [],
   "source": [
    "dog_arch[dog_stages]=dog_arch[dog_stages].replace('',np.nan)"
   ]
  },
  {
   "cell_type": "markdown",
   "metadata": {},
   "source": [
    "#### Test"
   ]
  },
  {
   "cell_type": "code",
   "execution_count": 77,
   "metadata": {
    "scrolled": false
   },
   "outputs": [
    {
     "name": "stdout",
     "output_type": "stream",
     "text": [
      "<class 'pandas.core.frame.DataFrame'>\n",
      "Int64Index: 2043 entries, 0 to 2355\n",
      "Data columns (total 13 columns):\n",
      " #   Column            Non-Null Count  Dtype \n",
      "---  ------            --------------  ----- \n",
      " 0   tweet_id          2043 non-null   int64 \n",
      " 1   timestamp         2043 non-null   object\n",
      " 2   source            2043 non-null   object\n",
      " 3   text              2043 non-null   object\n",
      " 4   rating_numerator  2043 non-null   object\n",
      " 5   name              2043 non-null   object\n",
      " 6   doggo             83 non-null     object\n",
      " 7   floofer           10 non-null     object\n",
      " 8   pupper            230 non-null    object\n",
      " 9   puppo             24 non-null     object\n",
      " 10  pattern           2043 non-null   object\n",
      " 11  fraction          2043 non-null   object\n",
      " 12  dog_stages        2043 non-null   object\n",
      "dtypes: int64(1), object(12)\n",
      "memory usage: 223.5+ KB\n"
     ]
    }
   ],
   "source": [
    "dog_arch.info()"
   ]
  },
  {
   "cell_type": "markdown",
   "metadata": {},
   "source": [
    "#### Column showing dog_stages has been successfully created"
   ]
  },
  {
   "cell_type": "code",
   "execution_count": 78,
   "metadata": {},
   "outputs": [],
   "source": [
    "# We can go ahead and drop the doggo, floofer,pupper and puppo columns as we are now showing those values in the dog_stages\n",
    "dog_arch.drop(columns=['doggo','floofer','pupper','puppo'], inplace=True)"
   ]
  },
  {
   "cell_type": "code",
   "execution_count": 79,
   "metadata": {
    "scrolled": false
   },
   "outputs": [
    {
     "data": {
      "text/plain": [
       "                  1707\n",
       "pupper             221\n",
       "doggo               72\n",
       "puppo               23\n",
       "floofer              9\n",
       "doggo, pupper        9\n",
       "doggo, puppo         1\n",
       "doggo, floofer       1\n",
       "Name: dog_stages, dtype: int64"
      ]
     },
     "execution_count": 79,
     "metadata": {},
     "output_type": "execute_result"
    }
   ],
   "source": [
    "dog_arch['dog_stages'].value_counts()"
   ]
  },
  {
   "cell_type": "markdown",
   "metadata": {},
   "source": [
    "### Tidiness Issue #2:\n",
    "\n",
    "#### Define :  Dog Breed predictions have also been stored in multiple columns making the dataset unnecessarily bulky and messy"
   ]
  },
  {
   "cell_type": "code",
   "execution_count": 80,
   "metadata": {
    "scrolled": true
   },
   "outputs": [
    {
     "name": "stdout",
     "output_type": "stream",
     "text": [
      "<class 'pandas.core.frame.DataFrame'>\n",
      "RangeIndex: 2075 entries, 0 to 2074\n",
      "Data columns (total 12 columns):\n",
      " #   Column    Non-Null Count  Dtype  \n",
      "---  ------    --------------  -----  \n",
      " 0   tweet_id  2075 non-null   int64  \n",
      " 1   jpg_url   2075 non-null   object \n",
      " 2   img_num   2075 non-null   int64  \n",
      " 3   p1        2075 non-null   object \n",
      " 4   p1_conf   2075 non-null   float64\n",
      " 5   p1_dog    2075 non-null   bool   \n",
      " 6   p2        2075 non-null   object \n",
      " 7   p2_conf   2075 non-null   float64\n",
      " 8   p2_dog    2075 non-null   bool   \n",
      " 9   p3        2075 non-null   object \n",
      " 10  p3_conf   2075 non-null   float64\n",
      " 11  p3_dog    2075 non-null   bool   \n",
      "dtypes: bool(3), float64(3), int64(2), object(4)\n",
      "memory usage: 152.1+ KB\n"
     ]
    }
   ],
   "source": [
    "image_df.info()"
   ]
  },
  {
   "cell_type": "markdown",
   "metadata": {},
   "source": [
    "#### Code"
   ]
  },
  {
   "cell_type": "code",
   "execution_count": 81,
   "metadata": {},
   "outputs": [
    {
     "data": {
      "text/plain": [
       "p1_dog  p2_dog  p3_dog\n",
       "True    True    True      1243\n",
       "False   False   False      324\n",
       "True    True    False      155\n",
       "False   True    True       101\n",
       "True    False   True        91\n",
       "False   False   True        64\n",
       "        True    False       54\n",
       "True    False   False       43\n",
       "dtype: int64"
      ]
     },
     "execution_count": 81,
     "metadata": {},
     "output_type": "execute_result"
    }
   ],
   "source": [
    "image_df[['p1_dog','p2_dog','p3_dog']].value_counts()"
   ]
  },
  {
   "cell_type": "code",
   "execution_count": 82,
   "metadata": {},
   "outputs": [],
   "source": [
    "criteria = [(image_df['p1_dog']==True),(image_df['p2_dog']==True), (image_df['p3_dog']==True)]\n",
    "\n",
    "breed = [(image_df['p1']),(image_df['p2']), (image_df['p3'])]\n",
    "\n",
    "conf_pred = [(image_df['p1_conf']),(image_df['p2_conf']), (image_df['p3_conf'])]\n",
    "\n",
    "image_df['breed'] = np.select(criteria, breed, default='none')\n",
    "image_df['confidence'] = np.select(criteria, conf_pred, default=0)"
   ]
  },
  {
   "cell_type": "code",
   "execution_count": 83,
   "metadata": {
    "scrolled": false
   },
   "outputs": [
    {
     "name": "stdout",
     "output_type": "stream",
     "text": [
      "<class 'pandas.core.frame.DataFrame'>\n",
      "RangeIndex: 2075 entries, 0 to 2074\n",
      "Data columns (total 14 columns):\n",
      " #   Column      Non-Null Count  Dtype  \n",
      "---  ------      --------------  -----  \n",
      " 0   tweet_id    2075 non-null   int64  \n",
      " 1   jpg_url     2075 non-null   object \n",
      " 2   img_num     2075 non-null   int64  \n",
      " 3   p1          2075 non-null   object \n",
      " 4   p1_conf     2075 non-null   float64\n",
      " 5   p1_dog      2075 non-null   bool   \n",
      " 6   p2          2075 non-null   object \n",
      " 7   p2_conf     2075 non-null   float64\n",
      " 8   p2_dog      2075 non-null   bool   \n",
      " 9   p3          2075 non-null   object \n",
      " 10  p3_conf     2075 non-null   float64\n",
      " 11  p3_dog      2075 non-null   bool   \n",
      " 12  breed       2075 non-null   object \n",
      " 13  confidence  2075 non-null   float64\n",
      "dtypes: bool(3), float64(4), int64(2), object(5)\n",
      "memory usage: 184.5+ KB\n"
     ]
    }
   ],
   "source": [
    "image_df.info()"
   ]
  },
  {
   "cell_type": "code",
   "execution_count": 84,
   "metadata": {},
   "outputs": [],
   "source": [
    "# We can drop the unnecessar columns and leave the breed and confidence columns now\n",
    "image_df.drop(columns=['p1','p1_conf','p1_dog','p2','p2_conf','p2_dog','p3','p3_conf','p3_dog'], inplace=True)"
   ]
  },
  {
   "cell_type": "markdown",
   "metadata": {},
   "source": [
    "#### Test"
   ]
  },
  {
   "cell_type": "code",
   "execution_count": 85,
   "metadata": {},
   "outputs": [
    {
     "data": {
      "text/html": [
       "<div>\n",
       "<style scoped>\n",
       "    .dataframe tbody tr th:only-of-type {\n",
       "        vertical-align: middle;\n",
       "    }\n",
       "\n",
       "    .dataframe tbody tr th {\n",
       "        vertical-align: top;\n",
       "    }\n",
       "\n",
       "    .dataframe thead th {\n",
       "        text-align: right;\n",
       "    }\n",
       "</style>\n",
       "<table border=\"1\" class=\"dataframe\">\n",
       "  <thead>\n",
       "    <tr style=\"text-align: right;\">\n",
       "      <th></th>\n",
       "      <th>tweet_id</th>\n",
       "      <th>jpg_url</th>\n",
       "      <th>img_num</th>\n",
       "      <th>breed</th>\n",
       "      <th>confidence</th>\n",
       "    </tr>\n",
       "  </thead>\n",
       "  <tbody>\n",
       "    <tr>\n",
       "      <th>0</th>\n",
       "      <td>666020888022790149</td>\n",
       "      <td>https://pbs.twimg.com/media/CT4udn0WwAA0aMy.jpg</td>\n",
       "      <td>1</td>\n",
       "      <td>Welsh_springer_spaniel</td>\n",
       "      <td>0.465074</td>\n",
       "    </tr>\n",
       "    <tr>\n",
       "      <th>1</th>\n",
       "      <td>666029285002620928</td>\n",
       "      <td>https://pbs.twimg.com/media/CT42GRgUYAA5iDo.jpg</td>\n",
       "      <td>1</td>\n",
       "      <td>redbone</td>\n",
       "      <td>0.506826</td>\n",
       "    </tr>\n",
       "    <tr>\n",
       "      <th>2</th>\n",
       "      <td>666033412701032449</td>\n",
       "      <td>https://pbs.twimg.com/media/CT4521TWwAEvMyu.jpg</td>\n",
       "      <td>1</td>\n",
       "      <td>German_shepherd</td>\n",
       "      <td>0.596461</td>\n",
       "    </tr>\n",
       "    <tr>\n",
       "      <th>3</th>\n",
       "      <td>666044226329800704</td>\n",
       "      <td>https://pbs.twimg.com/media/CT5Dr8HUEAA-lEu.jpg</td>\n",
       "      <td>1</td>\n",
       "      <td>Rhodesian_ridgeback</td>\n",
       "      <td>0.408143</td>\n",
       "    </tr>\n",
       "    <tr>\n",
       "      <th>4</th>\n",
       "      <td>666049248165822465</td>\n",
       "      <td>https://pbs.twimg.com/media/CT5IQmsXIAAKY4A.jpg</td>\n",
       "      <td>1</td>\n",
       "      <td>miniature_pinscher</td>\n",
       "      <td>0.560311</td>\n",
       "    </tr>\n",
       "  </tbody>\n",
       "</table>\n",
       "</div>"
      ],
      "text/plain": [
       "             tweet_id                                          jpg_url  \\\n",
       "0  666020888022790149  https://pbs.twimg.com/media/CT4udn0WwAA0aMy.jpg   \n",
       "1  666029285002620928  https://pbs.twimg.com/media/CT42GRgUYAA5iDo.jpg   \n",
       "2  666033412701032449  https://pbs.twimg.com/media/CT4521TWwAEvMyu.jpg   \n",
       "3  666044226329800704  https://pbs.twimg.com/media/CT5Dr8HUEAA-lEu.jpg   \n",
       "4  666049248165822465  https://pbs.twimg.com/media/CT5IQmsXIAAKY4A.jpg   \n",
       "\n",
       "   img_num                   breed  confidence  \n",
       "0        1  Welsh_springer_spaniel    0.465074  \n",
       "1        1                 redbone    0.506826  \n",
       "2        1         German_shepherd    0.596461  \n",
       "3        1     Rhodesian_ridgeback    0.408143  \n",
       "4        1      miniature_pinscher    0.560311  "
      ]
     },
     "execution_count": 85,
     "metadata": {},
     "output_type": "execute_result"
    }
   ],
   "source": [
    "image_df.head()"
   ]
  },
  {
   "cell_type": "markdown",
   "metadata": {},
   "source": [
    "### Adding the retweet and favourite counts downloaded from the twitter API to the original enhanced twitter dataset\n"
   ]
  },
  {
   "cell_type": "code",
   "execution_count": 86,
   "metadata": {},
   "outputs": [],
   "source": [
    "def mapper(dataframe):\n",
    "    identifier = [i for i in dataframe.iloc[:,0]]\n",
    "    values = [i for i in dataframe.iloc[:, 1]]\n",
    "    container = {}\n",
    "    for items in enumerate(identifier):\n",
    "        container.update({items[1]: values[items[0]]})\n",
    "    return container"
   ]
  },
  {
   "cell_type": "code",
   "execution_count": 87,
   "metadata": {},
   "outputs": [],
   "source": [
    "retweet_count_dict = mapper(tweet_df[['id', 'retweet_count']])\n",
    "favorite_count_dict = mapper(tweet_df[['id', 'favorite_count']])"
   ]
  },
  {
   "cell_type": "code",
   "execution_count": 88,
   "metadata": {},
   "outputs": [],
   "source": [
    "dog_arch.loc[:,'retweet_count'] = dog_arch['tweet_id'].map(retweet_count_dict)\n",
    "dog_arch.loc[:,'favorite_count'] = dog_arch['tweet_id'].map(favorite_count_dict)"
   ]
  },
  {
   "cell_type": "code",
   "execution_count": 89,
   "metadata": {},
   "outputs": [
    {
     "name": "stdout",
     "output_type": "stream",
     "text": [
      "<class 'pandas.core.frame.DataFrame'>\n",
      "Int64Index: 2043 entries, 0 to 2355\n",
      "Data columns (total 11 columns):\n",
      " #   Column            Non-Null Count  Dtype  \n",
      "---  ------            --------------  -----  \n",
      " 0   tweet_id          2043 non-null   int64  \n",
      " 1   timestamp         2043 non-null   object \n",
      " 2   source            2043 non-null   object \n",
      " 3   text              2043 non-null   object \n",
      " 4   rating_numerator  2043 non-null   object \n",
      " 5   name              2043 non-null   object \n",
      " 6   pattern           2043 non-null   object \n",
      " 7   fraction          2043 non-null   object \n",
      " 8   dog_stages        2043 non-null   object \n",
      " 9   retweet_count     2037 non-null   float64\n",
      " 10  favorite_count    2037 non-null   float64\n",
      "dtypes: float64(2), int64(1), object(8)\n",
      "memory usage: 191.5+ KB\n"
     ]
    }
   ],
   "source": [
    "dog_arch.info()"
   ]
  },
  {
   "cell_type": "markdown",
   "metadata": {},
   "source": [
    "## Merging original twitter archived data with the image prediction data using tweet_id as common variable to merge on"
   ]
  },
  {
   "cell_type": "code",
   "execution_count": 90,
   "metadata": {},
   "outputs": [],
   "source": [
    "twitter_archive_master = pd.merge(dog_arch, image_df, on='tweet_id', how='left')"
   ]
  },
  {
   "cell_type": "code",
   "execution_count": 91,
   "metadata": {
    "scrolled": true
   },
   "outputs": [
    {
     "name": "stdout",
     "output_type": "stream",
     "text": [
      "<class 'pandas.core.frame.DataFrame'>\n",
      "Int64Index: 2043 entries, 0 to 2042\n",
      "Data columns (total 15 columns):\n",
      " #   Column            Non-Null Count  Dtype  \n",
      "---  ------            --------------  -----  \n",
      " 0   tweet_id          2043 non-null   int64  \n",
      " 1   timestamp         2043 non-null   object \n",
      " 2   source            2043 non-null   object \n",
      " 3   text              2043 non-null   object \n",
      " 4   rating_numerator  2043 non-null   object \n",
      " 5   name              2043 non-null   object \n",
      " 6   pattern           2043 non-null   object \n",
      " 7   fraction          2043 non-null   object \n",
      " 8   dog_stages        2043 non-null   object \n",
      " 9   retweet_count     2037 non-null   float64\n",
      " 10  favorite_count    2037 non-null   float64\n",
      " 11  jpg_url           1917 non-null   object \n",
      " 12  img_num           1917 non-null   float64\n",
      " 13  breed             1917 non-null   object \n",
      " 14  confidence        1917 non-null   float64\n",
      "dtypes: float64(4), int64(1), object(10)\n",
      "memory usage: 255.4+ KB\n"
     ]
    }
   ],
   "source": [
    "twitter_archive_master.info()"
   ]
  },
  {
   "cell_type": "markdown",
   "metadata": {},
   "source": [
    "## Storing Data\n",
    "Saving gathered, assessed, and cleaned master dataset to a CSV file named \"twitter_archive_master.csv\"."
   ]
  },
  {
   "cell_type": "code",
   "execution_count": 92,
   "metadata": {},
   "outputs": [],
   "source": [
    "twitter_archive_master.to_csv('twitter_archive_master.csv', index=False)"
   ]
  },
  {
   "cell_type": "markdown",
   "metadata": {},
   "source": [
    "## Analyzing and Visualizing Data\n",
    "In this section, analyze and visualize your wrangled data. You must produce at least **three (3) insights and one (1) visualization.**"
   ]
  },
  {
   "cell_type": "code",
   "execution_count": 93,
   "metadata": {},
   "outputs": [],
   "source": [
    "twitter_archive_master = pd.read_csv(r'C:\\Users\\gyabaah.poku\\OneDrive - Vodafone Group\\VDF Project\\PY\\Udacity Data Science\\Project 2\\twitter_archive_master.csv')"
   ]
  },
  {
   "cell_type": "code",
   "execution_count": 94,
   "metadata": {},
   "outputs": [
    {
     "data": {
      "text/plain": [
       "Index(['tweet_id', 'timestamp', 'source', 'text', 'rating_numerator', 'name',\n",
       "       'dog_stages', 'retweet_count', 'favorite_count', 'jpg_url', 'img_num',\n",
       "       'breed', 'confidence'],\n",
       "      dtype='object')"
      ]
     },
     "execution_count": 94,
     "metadata": {},
     "output_type": "execute_result"
    }
   ],
   "source": [
    "twitter_archive_master.columns"
   ]
  },
  {
   "cell_type": "code",
   "execution_count": 95,
   "metadata": {
    "scrolled": true
   },
   "outputs": [
    {
     "data": {
      "text/html": [
       "<div>\n",
       "<style scoped>\n",
       "    .dataframe tbody tr th:only-of-type {\n",
       "        vertical-align: middle;\n",
       "    }\n",
       "\n",
       "    .dataframe tbody tr th {\n",
       "        vertical-align: top;\n",
       "    }\n",
       "\n",
       "    .dataframe thead th {\n",
       "        text-align: right;\n",
       "    }\n",
       "</style>\n",
       "<table border=\"1\" class=\"dataframe\">\n",
       "  <thead>\n",
       "    <tr style=\"text-align: right;\">\n",
       "      <th></th>\n",
       "      <th>name</th>\n",
       "      <th>breed</th>\n",
       "      <th>retweet_count</th>\n",
       "      <th>favorite_count</th>\n",
       "    </tr>\n",
       "  </thead>\n",
       "  <tbody>\n",
       "    <tr>\n",
       "      <th>798</th>\n",
       "      <td>None</td>\n",
       "      <td>Labrador_retriever</td>\n",
       "      <td>70739.0</td>\n",
       "      <td>144890.0</td>\n",
       "    </tr>\n",
       "    <tr>\n",
       "      <th>835</th>\n",
       "      <td>None</td>\n",
       "      <td>Eskimo_dog</td>\n",
       "      <td>52905.0</td>\n",
       "      <td>107254.0</td>\n",
       "    </tr>\n",
       "    <tr>\n",
       "      <th>401</th>\n",
       "      <td>Stephan</td>\n",
       "      <td>Chihuahua</td>\n",
       "      <td>51685.0</td>\n",
       "      <td>111706.0</td>\n",
       "    </tr>\n",
       "    <tr>\n",
       "      <th>311</th>\n",
       "      <td>None</td>\n",
       "      <td>Lakeland_terrier</td>\n",
       "      <td>39924.0</td>\n",
       "      <td>124118.0</td>\n",
       "    </tr>\n",
       "    <tr>\n",
       "      <th>58</th>\n",
       "      <td>Duddles</td>\n",
       "      <td>English_springer</td>\n",
       "      <td>37456.0</td>\n",
       "      <td>92872.0</td>\n",
       "    </tr>\n",
       "    <tr>\n",
       "      <th>334</th>\n",
       "      <td>Bo</td>\n",
       "      <td>standard_poodle</td>\n",
       "      <td>34548.0</td>\n",
       "      <td>82710.0</td>\n",
       "    </tr>\n",
       "    <tr>\n",
       "      <th>403</th>\n",
       "      <td>None</td>\n",
       "      <td>cocker_spaniel</td>\n",
       "      <td>32398.0</td>\n",
       "      <td>70645.0</td>\n",
       "    </tr>\n",
       "    <tr>\n",
       "      <th>110</th>\n",
       "      <td>Jamesy</td>\n",
       "      <td>French_bulldog</td>\n",
       "      <td>30212.0</td>\n",
       "      <td>108917.0</td>\n",
       "    </tr>\n",
       "    <tr>\n",
       "      <th>1477</th>\n",
       "      <td>None</td>\n",
       "      <td>Bedlington_terrier</td>\n",
       "      <td>28601.0</td>\n",
       "      <td>73525.0</td>\n",
       "    </tr>\n",
       "    <tr>\n",
       "      <th>1539</th>\n",
       "      <td>Kenneth</td>\n",
       "      <td>whippet</td>\n",
       "      <td>27804.0</td>\n",
       "      <td>70979.0</td>\n",
       "    </tr>\n",
       "  </tbody>\n",
       "</table>\n",
       "</div>"
      ],
      "text/plain": [
       "         name               breed  retweet_count  favorite_count\n",
       "798      None  Labrador_retriever        70739.0        144890.0\n",
       "835      None          Eskimo_dog        52905.0        107254.0\n",
       "401   Stephan           Chihuahua        51685.0        111706.0\n",
       "311      None    Lakeland_terrier        39924.0        124118.0\n",
       "58    Duddles    English_springer        37456.0         92872.0\n",
       "334        Bo     standard_poodle        34548.0         82710.0\n",
       "403      None      cocker_spaniel        32398.0         70645.0\n",
       "110    Jamesy      French_bulldog        30212.0        108917.0\n",
       "1477     None  Bedlington_terrier        28601.0         73525.0\n",
       "1539  Kenneth             whippet        27804.0         70979.0"
      ]
     },
     "execution_count": 95,
     "metadata": {},
     "output_type": "execute_result"
    }
   ],
   "source": [
    "# Identifying the top ten tweets with the most retweets\n",
    "twitter_archive_master[['name','breed','retweet_count','favorite_count']].sort_values(by='retweet_count', ascending=False).head(10)"
   ]
  },
  {
   "cell_type": "code",
   "execution_count": 96,
   "metadata": {
    "scrolled": false
   },
   "outputs": [
    {
     "data": {
      "text/html": [
       "<div>\n",
       "<style scoped>\n",
       "    .dataframe tbody tr th:only-of-type {\n",
       "        vertical-align: middle;\n",
       "    }\n",
       "\n",
       "    .dataframe tbody tr th {\n",
       "        vertical-align: top;\n",
       "    }\n",
       "\n",
       "    .dataframe thead th {\n",
       "        text-align: right;\n",
       "    }\n",
       "</style>\n",
       "<table border=\"1\" class=\"dataframe\">\n",
       "  <thead>\n",
       "    <tr style=\"text-align: right;\">\n",
       "      <th></th>\n",
       "      <th>name</th>\n",
       "      <th>breed</th>\n",
       "      <th>retweet_count</th>\n",
       "    </tr>\n",
       "  </thead>\n",
       "  <tbody>\n",
       "    <tr>\n",
       "      <th>2026</th>\n",
       "      <td>None</td>\n",
       "      <td>English_setter</td>\n",
       "      <td>11.0</td>\n",
       "    </tr>\n",
       "    <tr>\n",
       "      <th>2006</th>\n",
       "      <td>Scout</td>\n",
       "      <td>curly-coated_retriever</td>\n",
       "      <td>19.0</td>\n",
       "    </tr>\n",
       "    <tr>\n",
       "      <th>981</th>\n",
       "      <td>None</td>\n",
       "      <td>NaN</td>\n",
       "      <td>24.0</td>\n",
       "    </tr>\n",
       "    <tr>\n",
       "      <th>1914</th>\n",
       "      <td>None</td>\n",
       "      <td>none</td>\n",
       "      <td>28.0</td>\n",
       "    </tr>\n",
       "    <tr>\n",
       "      <th>2014</th>\n",
       "      <td>None</td>\n",
       "      <td>black-and-tan_coonhound</td>\n",
       "      <td>30.0</td>\n",
       "    </tr>\n",
       "    <tr>\n",
       "      <th>1900</th>\n",
       "      <td>Kallie</td>\n",
       "      <td>none</td>\n",
       "      <td>35.0</td>\n",
       "    </tr>\n",
       "    <tr>\n",
       "      <th>1796</th>\n",
       "      <td>Bloo</td>\n",
       "      <td>Dandie_Dinmont</td>\n",
       "      <td>35.0</td>\n",
       "    </tr>\n",
       "    <tr>\n",
       "      <th>2040</th>\n",
       "      <td>None</td>\n",
       "      <td>German_shepherd</td>\n",
       "      <td>36.0</td>\n",
       "    </tr>\n",
       "    <tr>\n",
       "      <th>2038</th>\n",
       "      <td>None</td>\n",
       "      <td>miniature_pinscher</td>\n",
       "      <td>37.0</td>\n",
       "    </tr>\n",
       "    <tr>\n",
       "      <th>2029</th>\n",
       "      <td>None</td>\n",
       "      <td>pug</td>\n",
       "      <td>37.0</td>\n",
       "    </tr>\n",
       "  </tbody>\n",
       "</table>\n",
       "</div>"
      ],
      "text/plain": [
       "        name                    breed  retweet_count\n",
       "2026    None           English_setter           11.0\n",
       "2006   Scout   curly-coated_retriever           19.0\n",
       "981     None                      NaN           24.0\n",
       "1914    None                     none           28.0\n",
       "2014    None  black-and-tan_coonhound           30.0\n",
       "1900  Kallie                     none           35.0\n",
       "1796    Bloo           Dandie_Dinmont           35.0\n",
       "2040    None          German_shepherd           36.0\n",
       "2038    None       miniature_pinscher           37.0\n",
       "2029    None                      pug           37.0"
      ]
     },
     "execution_count": 96,
     "metadata": {},
     "output_type": "execute_result"
    }
   ],
   "source": [
    "# Identifying the top ten tweets with the least retweets\n",
    "twitter_archive_master[['name','breed','retweet_count']].sort_values(by='retweet_count', ascending=True).head(10)"
   ]
  },
  {
   "cell_type": "code",
   "execution_count": 97,
   "metadata": {},
   "outputs": [
    {
     "data": {
      "text/html": [
       "<div>\n",
       "<style scoped>\n",
       "    .dataframe tbody tr th:only-of-type {\n",
       "        vertical-align: middle;\n",
       "    }\n",
       "\n",
       "    .dataframe tbody tr th {\n",
       "        vertical-align: top;\n",
       "    }\n",
       "\n",
       "    .dataframe thead th {\n",
       "        text-align: right;\n",
       "    }\n",
       "</style>\n",
       "<table border=\"1\" class=\"dataframe\">\n",
       "  <thead>\n",
       "    <tr style=\"text-align: right;\">\n",
       "      <th></th>\n",
       "      <th>retweet_count</th>\n",
       "      <th>favorite_count</th>\n",
       "      <th>rating_numerator</th>\n",
       "    </tr>\n",
       "  </thead>\n",
       "  <tbody>\n",
       "    <tr>\n",
       "      <th>retweet_count</th>\n",
       "      <td>1.000000</td>\n",
       "      <td>0.925271</td>\n",
       "      <td>0.019478</td>\n",
       "    </tr>\n",
       "    <tr>\n",
       "      <th>favorite_count</th>\n",
       "      <td>0.925271</td>\n",
       "      <td>1.000000</td>\n",
       "      <td>0.017402</td>\n",
       "    </tr>\n",
       "    <tr>\n",
       "      <th>rating_numerator</th>\n",
       "      <td>0.019478</td>\n",
       "      <td>0.017402</td>\n",
       "      <td>1.000000</td>\n",
       "    </tr>\n",
       "  </tbody>\n",
       "</table>\n",
       "</div>"
      ],
      "text/plain": [
       "                  retweet_count  favorite_count  rating_numerator\n",
       "retweet_count          1.000000        0.925271          0.019478\n",
       "favorite_count         0.925271        1.000000          0.017402\n",
       "rating_numerator       0.019478        0.017402          1.000000"
      ]
     },
     "execution_count": 97,
     "metadata": {},
     "output_type": "execute_result"
    }
   ],
   "source": [
    "# Checking correlation between retweet counts, favorite counts and dog ratings\n",
    "twitter_archive_master[['retweet_count','favorite_count','rating_numerator']].corr()"
   ]
  },
  {
   "cell_type": "markdown",
   "metadata": {},
   "source": [
    "### Insights:\n",
    "1. There was an extreme positive correlation between retweet counts and liked counts. This means the tweets with the highest retweets were almost always going to be the most liked tweets too and vice-versa. There was however no correlation between retweet count, favorite count and dog ratings.\n",
    "\n",
    "2. The  most retweeted tweet was a tweet featuring a Labrador Retriever. It was retweeted 70,000 times and liked 144890 times. It was actually also the most liked tweet.\n",
    "\n",
    "3. The  least retweeted tweet was a tweet featuring an English Setter. It was retweeted just 11 times and liked just 66 times. It was actually also the least liked tweet."
   ]
  },
  {
   "cell_type": "markdown",
   "metadata": {},
   "source": [
    "### Visualization"
   ]
  },
  {
   "cell_type": "markdown",
   "metadata": {},
   "source": [
    "#### For the visualization, I would like to plot a simple bar chart showing the most common dog names in the weratedogs archived data"
   ]
  },
  {
   "cell_type": "code",
   "execution_count": 98,
   "metadata": {
    "scrolled": true
   },
   "outputs": [
    {
     "data": {
      "text/plain": [
       "[('Charlie', 11),\n",
       " ('Lucy', 11),\n",
       " ('Oliver', 10),\n",
       " ('Cooper', 10),\n",
       " ('Penny', 9),\n",
       " ('Tucker', 9),\n",
       " ('Lola', 8),\n",
       " ('Sadie', 8),\n",
       " ('Winston', 8),\n",
       " ('Daisy', 7)]"
      ]
     },
     "execution_count": 98,
     "metadata": {},
     "output_type": "execute_result"
    }
   ],
   "source": [
    "# Creating a new dataframe which will store all the dog names from the master archive and removing name values = 'None' because they are not actual names\n",
    "dog_names = twitter_archive_master[['name']].copy()\n",
    "dog_names =  dog_names[(dog_names['name']!='None')]\n",
    "\n",
    "from collections import Counter\n",
    "\n",
    "name_counter = Counter(dog_names.name)\n",
    "name_counter.most_common(10)"
   ]
  },
  {
   "cell_type": "code",
   "execution_count": 99,
   "metadata": {},
   "outputs": [
    {
     "data": {
      "text/plain": [
       "Text(0.5, 0, 'Dog Names')"
      ]
     },
     "execution_count": 99,
     "metadata": {},
     "output_type": "execute_result"
    },
    {
     "data": {
      "image/png": "[encoded data removed]",
      "text/plain": [
       "<Figure size 576x360 with 1 Axes>"
      ]
     },
     "metadata": {
      "needs_background": "light"
     },
     "output_type": "display_data"
    }
   ],
   "source": [
    "# Plotting graph to show most common dog names\n",
    "common_names = []\n",
    "count_of_names = []\n",
    "for name, count in name_counter.most_common(10):\n",
    "    common_names.append(name)\n",
    "    count_of_names.append(count)\n",
    "    \n",
    "\n",
    "fig = plt.figure(figsize=(8,5))\n",
    "plt.bar(common_names, count_of_names)\n",
    "plt.title(label = 'Most Common dog names')\n",
    "plt.ylabel('Number of dogs with name')\n",
    "plt.xlabel('Dog Names')"
   ]
  },
  {
   "cell_type": "markdown",
   "metadata": {},
   "source": [
    "#### It can be observed that Charlie and Lucy are the most common dog names in the archive followed by Oliver and Cooper"
   ]
  }
 ],
 "metadata": {
  "kernelspec": {
   "display_name": "Python 3 (ipykernel)",
   "language": "python",
   "name": "python3"
  },
  "language_info": {
   "codemirror_mode": {
    "name": "ipython",
    "version": 3
   },
   "file_extension": ".py",
   "mimetype": "text/x-python",
   "name": "python",
   "nbconvert_exporter": "python",
   "pygments_lexer": "ipython3",
   "version": "3.9.12"
  }
 },
 "nbformat": 4,
 "nbformat_minor": 2
}
