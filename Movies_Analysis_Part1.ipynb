{
 "cells": [
  {
   "cell_type": "markdown",
   "metadata": {},
   "source": [
    "# TMDB Movies Analysis\n",
    "\n",
    "\n",
    "## Table of Contents\n",
    "<ul>\n",
    "<li><a href=\"#intro\">Introduction</a></li>\n",
    "<li><a href=\"#wrangling\">Preliminary Wrangling</a></li>\n",
    "<li><a href=\"#assessing\">Assessing Data</a></li>\n",
    "<li><a href=\"#cleaning&storing\">Cleaning and Storing data</a></li>\n",
    "<li><a href=\"#uni\">Univariate Exploration</a></li>\n",
    "<li><a href=\"#bi\">Bivariate Exploration</a></li>\n",
    "<li><a href=\"#multi\">Multivariate Exploration</a></li>\n",
    "</ul>\n",
    "\n",
    "<a id='intro'></a>\n",
    "## Introduction\n",
    "\n",
    "This project aim is to explore and analyze the TMDB Movies dataset, this project will be devided into two parts, the first part will be the exploratory phase of the TMDB Movies dataset, while the second part will be the explanatory phase of the data. The reason why I chose the TMDB Movies dataset is because I had a personal interest and curiousity towards this dataset. I'm interested in the properties which are related to the success of movies. through this exploratory phase I will try to answer the following questions:\n",
    "\n",
    "\n",
    "1- Do higher budget movies have higher revenues?\n",
    "\n",
    "2- How different movie budgets are throughout the years and Is there a relationship between the movie's release year and its budget?\n",
    "\n",
    "3- What are the relationships between the variables of TMDB movies dataset?\n",
    "\n",
    "\n",
    "## Preliminary Wrangling\n"
   ]
  },
  {
   "cell_type": "markdown",
   "metadata": {},
   "source": [
    "In this step, I will explore my data which I gathered from a file called: 'tmdb-movies.csv' which I downloaded from the available datasets on Udacity's classroom resources. This data is from Kaggle.com and you can find a different version of it on this link: <a>https://www.kaggle.com/tmdb/tmdb-movie-metadata</a>\n"
   ]
  },
  {
   "cell_type": "code",
   "execution_count": 2,
   "metadata": {},
   "outputs": [],
   "source": [
    "#importing libraries \n",
    "import pandas as pd\n",
    "import numpy as np\n",
    "import matplotlib.pyplot as plt\n",
    "import seaborn as sb\n",
    "\n",
    "%matplotlib inline"
   ]
  },
  {
   "cell_type": "code",
   "execution_count": 3,
   "metadata": {},
   "outputs": [],
   "source": [
    "#reading TMDB's movies dataset\n",
    "tmdb_movies = pd.read_csv('tmdb-movies.csv')"
   ]
  },
  {
   "cell_type": "markdown",
   "metadata": {},
   "source": [
    "<a id='assessing'></a>\n",
    "### Assessing Data"
   ]
  },
  {
   "cell_type": "markdown",
   "metadata": {},
   "source": [
    "In this step I will view the data and check for any tidiness or quality issues to be fixed in it, so I can clean them and begin my analysis of the TMDB movies dataset."
   ]
  },
  {
   "cell_type": "code",
   "execution_count": 4,
   "metadata": {},
   "outputs": [
    {
     "data": {
      "text/html": [
       "<div>\n",
       "<style scoped>\n",
       "    .dataframe tbody tr th:only-of-type {\n",
       "        vertical-align: middle;\n",
       "    }\n",
       "\n",
       "    .dataframe tbody tr th {\n",
       "        vertical-align: top;\n",
       "    }\n",
       "\n",
       "    .dataframe thead th {\n",
       "        text-align: right;\n",
       "    }\n",
       "</style>\n",
       "<table border=\"1\" class=\"dataframe\">\n",
       "  <thead>\n",
       "    <tr style=\"text-align: right;\">\n",
       "      <th></th>\n",
       "      <th>id</th>\n",
       "      <th>imdb_id</th>\n",
       "      <th>popularity</th>\n",
       "      <th>budget</th>\n",
       "      <th>revenue</th>\n",
       "      <th>original_title</th>\n",
       "      <th>cast</th>\n",
       "      <th>homepage</th>\n",
       "      <th>director</th>\n",
       "      <th>tagline</th>\n",
       "      <th>...</th>\n",
       "      <th>overview</th>\n",
       "      <th>runtime</th>\n",
       "      <th>genres</th>\n",
       "      <th>production_companies</th>\n",
       "      <th>release_date</th>\n",
       "      <th>vote_count</th>\n",
       "      <th>vote_average</th>\n",
       "      <th>release_year</th>\n",
       "      <th>budget_adj</th>\n",
       "      <th>revenue_adj</th>\n",
       "    </tr>\n",
       "  </thead>\n",
       "  <tbody>\n",
       "    <tr>\n",
       "      <th>0</th>\n",
       "      <td>135397</td>\n",
       "      <td>tt0369610</td>\n",
       "      <td>32.985763</td>\n",
       "      <td>150000000</td>\n",
       "      <td>1513528810</td>\n",
       "      <td>Jurassic World</td>\n",
       "      <td>Chris Pratt|Bryce Dallas Howard|Irrfan Khan|Vi...</td>\n",
       "      <td>http://www.jurassicworld.com/</td>\n",
       "      <td>Colin Trevorrow</td>\n",
       "      <td>The park is open.</td>\n",
       "      <td>...</td>\n",
       "      <td>Twenty-two years after the events of Jurassic ...</td>\n",
       "      <td>124</td>\n",
       "      <td>Action|Adventure|Science Fiction|Thriller</td>\n",
       "      <td>Universal Studios|Amblin Entertainment|Legenda...</td>\n",
       "      <td>6/9/15</td>\n",
       "      <td>5562</td>\n",
       "      <td>6.5</td>\n",
       "      <td>2015</td>\n",
       "      <td>1.379999e+08</td>\n",
       "      <td>1.392446e+09</td>\n",
       "    </tr>\n",
       "    <tr>\n",
       "      <th>1</th>\n",
       "      <td>76341</td>\n",
       "      <td>tt1392190</td>\n",
       "      <td>28.419936</td>\n",
       "      <td>150000000</td>\n",
       "      <td>378436354</td>\n",
       "      <td>Mad Max: Fury Road</td>\n",
       "      <td>Tom Hardy|Charlize Theron|Hugh Keays-Byrne|Nic...</td>\n",
       "      <td>http://www.madmaxmovie.com/</td>\n",
       "      <td>George Miller</td>\n",
       "      <td>What a Lovely Day.</td>\n",
       "      <td>...</td>\n",
       "      <td>An apocalyptic story set in the furthest reach...</td>\n",
       "      <td>120</td>\n",
       "      <td>Action|Adventure|Science Fiction|Thriller</td>\n",
       "      <td>Village Roadshow Pictures|Kennedy Miller Produ...</td>\n",
       "      <td>5/13/15</td>\n",
       "      <td>6185</td>\n",
       "      <td>7.1</td>\n",
       "      <td>2015</td>\n",
       "      <td>1.379999e+08</td>\n",
       "      <td>3.481613e+08</td>\n",
       "    </tr>\n",
       "    <tr>\n",
       "      <th>2</th>\n",
       "      <td>262500</td>\n",
       "      <td>tt2908446</td>\n",
       "      <td>13.112507</td>\n",
       "      <td>110000000</td>\n",
       "      <td>295238201</td>\n",
       "      <td>Insurgent</td>\n",
       "      <td>Shailene Woodley|Theo James|Kate Winslet|Ansel...</td>\n",
       "      <td>http://www.thedivergentseries.movie/#insurgent</td>\n",
       "      <td>Robert Schwentke</td>\n",
       "      <td>One Choice Can Destroy You</td>\n",
       "      <td>...</td>\n",
       "      <td>Beatrice Prior must confront her inner demons ...</td>\n",
       "      <td>119</td>\n",
       "      <td>Adventure|Science Fiction|Thriller</td>\n",
       "      <td>Summit Entertainment|Mandeville Films|Red Wago...</td>\n",
       "      <td>3/18/15</td>\n",
       "      <td>2480</td>\n",
       "      <td>6.3</td>\n",
       "      <td>2015</td>\n",
       "      <td>1.012000e+08</td>\n",
       "      <td>2.716190e+08</td>\n",
       "    </tr>\n",
       "    <tr>\n",
       "      <th>3</th>\n",
       "      <td>140607</td>\n",
       "      <td>tt2488496</td>\n",
       "      <td>11.173104</td>\n",
       "      <td>200000000</td>\n",
       "      <td>2068178225</td>\n",
       "      <td>Star Wars: The Force Awakens</td>\n",
       "      <td>Harrison Ford|Mark Hamill|Carrie Fisher|Adam D...</td>\n",
       "      <td>http://www.starwars.com/films/star-wars-episod...</td>\n",
       "      <td>J.J. Abrams</td>\n",
       "      <td>Every generation has a story.</td>\n",
       "      <td>...</td>\n",
       "      <td>Thirty years after defeating the Galactic Empi...</td>\n",
       "      <td>136</td>\n",
       "      <td>Action|Adventure|Science Fiction|Fantasy</td>\n",
       "      <td>Lucasfilm|Truenorth Productions|Bad Robot</td>\n",
       "      <td>12/15/15</td>\n",
       "      <td>5292</td>\n",
       "      <td>7.5</td>\n",
       "      <td>2015</td>\n",
       "      <td>1.839999e+08</td>\n",
       "      <td>1.902723e+09</td>\n",
       "    </tr>\n",
       "    <tr>\n",
       "      <th>4</th>\n",
       "      <td>168259</td>\n",
       "      <td>tt2820852</td>\n",
       "      <td>9.335014</td>\n",
       "      <td>190000000</td>\n",
       "      <td>1506249360</td>\n",
       "      <td>Furious 7</td>\n",
       "      <td>Vin Diesel|Paul Walker|Jason Statham|Michelle ...</td>\n",
       "      <td>http://www.furious7.com/</td>\n",
       "      <td>James Wan</td>\n",
       "      <td>Vengeance Hits Home</td>\n",
       "      <td>...</td>\n",
       "      <td>Deckard Shaw seeks revenge against Dominic Tor...</td>\n",
       "      <td>137</td>\n",
       "      <td>Action|Crime|Thriller</td>\n",
       "      <td>Universal Pictures|Original Film|Media Rights ...</td>\n",
       "      <td>4/1/15</td>\n",
       "      <td>2947</td>\n",
       "      <td>7.3</td>\n",
       "      <td>2015</td>\n",
       "      <td>1.747999e+08</td>\n",
       "      <td>1.385749e+09</td>\n",
       "    </tr>\n",
       "  </tbody>\n",
       "</table>\n",
       "<p>5 rows × 21 columns</p>\n",
       "</div>"
      ],
      "text/plain": [
       "       id    imdb_id  popularity     budget     revenue  \\\n",
       "0  135397  tt0369610   32.985763  150000000  1513528810   \n",
       "1   76341  tt1392190   28.419936  150000000   378436354   \n",
       "2  262500  tt2908446   13.112507  110000000   295238201   \n",
       "3  140607  tt2488496   11.173104  200000000  2068178225   \n",
       "4  168259  tt2820852    9.335014  190000000  1506249360   \n",
       "\n",
       "                 original_title  \\\n",
       "0                Jurassic World   \n",
       "1            Mad Max: Fury Road   \n",
       "2                     Insurgent   \n",
       "3  Star Wars: The Force Awakens   \n",
       "4                     Furious 7   \n",
       "\n",
       "                                                cast  \\\n",
       "0  Chris Pratt|Bryce Dallas Howard|Irrfan Khan|Vi...   \n",
       "1  Tom Hardy|Charlize Theron|Hugh Keays-Byrne|Nic...   \n",
       "2  Shailene Woodley|Theo James|Kate Winslet|Ansel...   \n",
       "3  Harrison Ford|Mark Hamill|Carrie Fisher|Adam D...   \n",
       "4  Vin Diesel|Paul Walker|Jason Statham|Michelle ...   \n",
       "\n",
       "                                            homepage          director  \\\n",
       "0                      http://www.jurassicworld.com/   Colin Trevorrow   \n",
       "1                        http://www.madmaxmovie.com/     George Miller   \n",
       "2     http://www.thedivergentseries.movie/#insurgent  Robert Schwentke   \n",
       "3  http://www.starwars.com/films/star-wars-episod...       J.J. Abrams   \n",
       "4                           http://www.furious7.com/         James Wan   \n",
       "\n",
       "                         tagline  ...  \\\n",
       "0              The park is open.  ...   \n",
       "1             What a Lovely Day.  ...   \n",
       "2     One Choice Can Destroy You  ...   \n",
       "3  Every generation has a story.  ...   \n",
       "4            Vengeance Hits Home  ...   \n",
       "\n",
       "                                            overview runtime  \\\n",
       "0  Twenty-two years after the events of Jurassic ...     124   \n",
       "1  An apocalyptic story set in the furthest reach...     120   \n",
       "2  Beatrice Prior must confront her inner demons ...     119   \n",
       "3  Thirty years after defeating the Galactic Empi...     136   \n",
       "4  Deckard Shaw seeks revenge against Dominic Tor...     137   \n",
       "\n",
       "                                      genres  \\\n",
       "0  Action|Adventure|Science Fiction|Thriller   \n",
       "1  Action|Adventure|Science Fiction|Thriller   \n",
       "2         Adventure|Science Fiction|Thriller   \n",
       "3   Action|Adventure|Science Fiction|Fantasy   \n",
       "4                      Action|Crime|Thriller   \n",
       "\n",
       "                                production_companies release_date vote_count  \\\n",
       "0  Universal Studios|Amblin Entertainment|Legenda...       6/9/15       5562   \n",
       "1  Village Roadshow Pictures|Kennedy Miller Produ...      5/13/15       6185   \n",
       "2  Summit Entertainment|Mandeville Films|Red Wago...      3/18/15       2480   \n",
       "3          Lucasfilm|Truenorth Productions|Bad Robot     12/15/15       5292   \n",
       "4  Universal Pictures|Original Film|Media Rights ...       4/1/15       2947   \n",
       "\n",
       "   vote_average  release_year    budget_adj   revenue_adj  \n",
       "0           6.5          2015  1.379999e+08  1.392446e+09  \n",
       "1           7.1          2015  1.379999e+08  3.481613e+08  \n",
       "2           6.3          2015  1.012000e+08  2.716190e+08  \n",
       "3           7.5          2015  1.839999e+08  1.902723e+09  \n",
       "4           7.3          2015  1.747999e+08  1.385749e+09  \n",
       "\n",
       "[5 rows x 21 columns]"
      ]
     },
     "execution_count": 4,
     "metadata": {},
     "output_type": "execute_result"
    }
   ],
   "source": [
    "#viewing the first 5 rows of the data\n",
    "tmdb_movies.head()"
   ]
  },
  {
   "cell_type": "code",
   "execution_count": 5,
   "metadata": {},
   "outputs": [
    {
     "data": {
      "text/plain": [
       "(10866, 21)"
      ]
     },
     "execution_count": 5,
     "metadata": {},
     "output_type": "execute_result"
    }
   ],
   "source": [
    "#checking the size of the data\n",
    "tmdb_movies.shape"
   ]
  },
  {
   "cell_type": "code",
   "execution_count": 6,
   "metadata": {},
   "outputs": [
    {
     "data": {
      "text/html": [
       "<div>\n",
       "<style scoped>\n",
       "    .dataframe tbody tr th:only-of-type {\n",
       "        vertical-align: middle;\n",
       "    }\n",
       "\n",
       "    .dataframe tbody tr th {\n",
       "        vertical-align: top;\n",
       "    }\n",
       "\n",
       "    .dataframe thead th {\n",
       "        text-align: right;\n",
       "    }\n",
       "</style>\n",
       "<table border=\"1\" class=\"dataframe\">\n",
       "  <thead>\n",
       "    <tr style=\"text-align: right;\">\n",
       "      <th></th>\n",
       "      <th>id</th>\n",
       "      <th>popularity</th>\n",
       "      <th>budget</th>\n",
       "      <th>revenue</th>\n",
       "      <th>runtime</th>\n",
       "      <th>vote_count</th>\n",
       "      <th>vote_average</th>\n",
       "      <th>release_year</th>\n",
       "      <th>budget_adj</th>\n",
       "      <th>revenue_adj</th>\n",
       "    </tr>\n",
       "  </thead>\n",
       "  <tbody>\n",
       "    <tr>\n",
       "      <th>count</th>\n",
       "      <td>10866.000000</td>\n",
       "      <td>10866.000000</td>\n",
       "      <td>1.086600e+04</td>\n",
       "      <td>1.086600e+04</td>\n",
       "      <td>10866.000000</td>\n",
       "      <td>10866.000000</td>\n",
       "      <td>10866.000000</td>\n",
       "      <td>10866.000000</td>\n",
       "      <td>1.086600e+04</td>\n",
       "      <td>1.086600e+04</td>\n",
       "    </tr>\n",
       "    <tr>\n",
       "      <th>mean</th>\n",
       "      <td>66064.177434</td>\n",
       "      <td>0.646441</td>\n",
       "      <td>1.462570e+07</td>\n",
       "      <td>3.982332e+07</td>\n",
       "      <td>102.070863</td>\n",
       "      <td>217.389748</td>\n",
       "      <td>5.974922</td>\n",
       "      <td>2001.322658</td>\n",
       "      <td>1.755104e+07</td>\n",
       "      <td>5.136436e+07</td>\n",
       "    </tr>\n",
       "    <tr>\n",
       "      <th>std</th>\n",
       "      <td>92130.136561</td>\n",
       "      <td>1.000185</td>\n",
       "      <td>3.091321e+07</td>\n",
       "      <td>1.170035e+08</td>\n",
       "      <td>31.381405</td>\n",
       "      <td>575.619058</td>\n",
       "      <td>0.935142</td>\n",
       "      <td>12.812941</td>\n",
       "      <td>3.430616e+07</td>\n",
       "      <td>1.446325e+08</td>\n",
       "    </tr>\n",
       "    <tr>\n",
       "      <th>min</th>\n",
       "      <td>5.000000</td>\n",
       "      <td>0.000065</td>\n",
       "      <td>0.000000e+00</td>\n",
       "      <td>0.000000e+00</td>\n",
       "      <td>0.000000</td>\n",
       "      <td>10.000000</td>\n",
       "      <td>1.500000</td>\n",
       "      <td>1960.000000</td>\n",
       "      <td>0.000000e+00</td>\n",
       "      <td>0.000000e+00</td>\n",
       "    </tr>\n",
       "    <tr>\n",
       "      <th>25%</th>\n",
       "      <td>10596.250000</td>\n",
       "      <td>0.207583</td>\n",
       "      <td>0.000000e+00</td>\n",
       "      <td>0.000000e+00</td>\n",
       "      <td>90.000000</td>\n",
       "      <td>17.000000</td>\n",
       "      <td>5.400000</td>\n",
       "      <td>1995.000000</td>\n",
       "      <td>0.000000e+00</td>\n",
       "      <td>0.000000e+00</td>\n",
       "    </tr>\n",
       "    <tr>\n",
       "      <th>50%</th>\n",
       "      <td>20669.000000</td>\n",
       "      <td>0.383856</td>\n",
       "      <td>0.000000e+00</td>\n",
       "      <td>0.000000e+00</td>\n",
       "      <td>99.000000</td>\n",
       "      <td>38.000000</td>\n",
       "      <td>6.000000</td>\n",
       "      <td>2006.000000</td>\n",
       "      <td>0.000000e+00</td>\n",
       "      <td>0.000000e+00</td>\n",
       "    </tr>\n",
       "    <tr>\n",
       "      <th>75%</th>\n",
       "      <td>75610.000000</td>\n",
       "      <td>0.713817</td>\n",
       "      <td>1.500000e+07</td>\n",
       "      <td>2.400000e+07</td>\n",
       "      <td>111.000000</td>\n",
       "      <td>145.750000</td>\n",
       "      <td>6.600000</td>\n",
       "      <td>2011.000000</td>\n",
       "      <td>2.085325e+07</td>\n",
       "      <td>3.369710e+07</td>\n",
       "    </tr>\n",
       "    <tr>\n",
       "      <th>max</th>\n",
       "      <td>417859.000000</td>\n",
       "      <td>32.985763</td>\n",
       "      <td>4.250000e+08</td>\n",
       "      <td>2.781506e+09</td>\n",
       "      <td>900.000000</td>\n",
       "      <td>9767.000000</td>\n",
       "      <td>9.200000</td>\n",
       "      <td>2015.000000</td>\n",
       "      <td>4.250000e+08</td>\n",
       "      <td>2.827124e+09</td>\n",
       "    </tr>\n",
       "  </tbody>\n",
       "</table>\n",
       "</div>"
      ],
      "text/plain": [
       "                  id    popularity        budget       revenue       runtime  \\\n",
       "count   10866.000000  10866.000000  1.086600e+04  1.086600e+04  10866.000000   \n",
       "mean    66064.177434      0.646441  1.462570e+07  3.982332e+07    102.070863   \n",
       "std     92130.136561      1.000185  3.091321e+07  1.170035e+08     31.381405   \n",
       "min         5.000000      0.000065  0.000000e+00  0.000000e+00      0.000000   \n",
       "25%     10596.250000      0.207583  0.000000e+00  0.000000e+00     90.000000   \n",
       "50%     20669.000000      0.383856  0.000000e+00  0.000000e+00     99.000000   \n",
       "75%     75610.000000      0.713817  1.500000e+07  2.400000e+07    111.000000   \n",
       "max    417859.000000     32.985763  4.250000e+08  2.781506e+09    900.000000   \n",
       "\n",
       "         vote_count  vote_average  release_year    budget_adj   revenue_adj  \n",
       "count  10866.000000  10866.000000  10866.000000  1.086600e+04  1.086600e+04  \n",
       "mean     217.389748      5.974922   2001.322658  1.755104e+07  5.136436e+07  \n",
       "std      575.619058      0.935142     12.812941  3.430616e+07  1.446325e+08  \n",
       "min       10.000000      1.500000   1960.000000  0.000000e+00  0.000000e+00  \n",
       "25%       17.000000      5.400000   1995.000000  0.000000e+00  0.000000e+00  \n",
       "50%       38.000000      6.000000   2006.000000  0.000000e+00  0.000000e+00  \n",
       "75%      145.750000      6.600000   2011.000000  2.085325e+07  3.369710e+07  \n",
       "max     9767.000000      9.200000   2015.000000  4.250000e+08  2.827124e+09  "
      ]
     },
     "execution_count": 6,
     "metadata": {},
     "output_type": "execute_result"
    }
   ],
   "source": [
    "#general statistics of the data\n",
    "tmdb_movies.describe()"
   ]
  },
  {
   "cell_type": "code",
   "execution_count": 7,
   "metadata": {},
   "outputs": [
    {
     "name": "stdout",
     "output_type": "stream",
     "text": [
      "<class 'pandas.core.frame.DataFrame'>\n",
      "RangeIndex: 10866 entries, 0 to 10865\n",
      "Data columns (total 21 columns):\n",
      " #   Column                Non-Null Count  Dtype  \n",
      "---  ------                --------------  -----  \n",
      " 0   id                    10866 non-null  int64  \n",
      " 1   imdb_id               10856 non-null  object \n",
      " 2   popularity            10866 non-null  float64\n",
      " 3   budget                10866 non-null  int64  \n",
      " 4   revenue               10866 non-null  int64  \n",
      " 5   original_title        10866 non-null  object \n",
      " 6   cast                  10790 non-null  object \n",
      " 7   homepage              2936 non-null   object \n",
      " 8   director              10822 non-null  object \n",
      " 9   tagline               8042 non-null   object \n",
      " 10  keywords              9373 non-null   object \n",
      " 11  overview              10862 non-null  object \n",
      " 12  runtime               10866 non-null  int64  \n",
      " 13  genres                10843 non-null  object \n",
      " 14  production_companies  9836 non-null   object \n",
      " 15  release_date          10866 non-null  object \n",
      " 16  vote_count            10866 non-null  int64  \n",
      " 17  vote_average          10866 non-null  float64\n",
      " 18  release_year          10866 non-null  int64  \n",
      " 19  budget_adj            10866 non-null  float64\n",
      " 20  revenue_adj           10866 non-null  float64\n",
      "dtypes: float64(4), int64(6), object(11)\n",
      "memory usage: 1.7+ MB\n"
     ]
    }
   ],
   "source": [
    "#general information of the data\n",
    "tmdb_movies.info()"
   ]
  },
  {
   "cell_type": "code",
   "execution_count": 8,
   "metadata": {},
   "outputs": [
    {
     "data": {
      "text/html": [
       "<div>\n",
       "<style scoped>\n",
       "    .dataframe tbody tr th:only-of-type {\n",
       "        vertical-align: middle;\n",
       "    }\n",
       "\n",
       "    .dataframe tbody tr th {\n",
       "        vertical-align: top;\n",
       "    }\n",
       "\n",
       "    .dataframe thead th {\n",
       "        text-align: right;\n",
       "    }\n",
       "</style>\n",
       "<table border=\"1\" class=\"dataframe\">\n",
       "  <thead>\n",
       "    <tr style=\"text-align: right;\">\n",
       "      <th></th>\n",
       "      <th>id</th>\n",
       "      <th>imdb_id</th>\n",
       "      <th>popularity</th>\n",
       "      <th>budget</th>\n",
       "      <th>revenue</th>\n",
       "      <th>original_title</th>\n",
       "      <th>cast</th>\n",
       "      <th>homepage</th>\n",
       "      <th>director</th>\n",
       "      <th>tagline</th>\n",
       "      <th>...</th>\n",
       "      <th>overview</th>\n",
       "      <th>runtime</th>\n",
       "      <th>genres</th>\n",
       "      <th>production_companies</th>\n",
       "      <th>release_date</th>\n",
       "      <th>vote_count</th>\n",
       "      <th>vote_average</th>\n",
       "      <th>release_year</th>\n",
       "      <th>budget_adj</th>\n",
       "      <th>revenue_adj</th>\n",
       "    </tr>\n",
       "  </thead>\n",
       "  <tbody>\n",
       "    <tr>\n",
       "      <th>3088</th>\n",
       "      <td>13160</td>\n",
       "      <td>tt0785007</td>\n",
       "      <td>0.421657</td>\n",
       "      <td>10000000</td>\n",
       "      <td>0</td>\n",
       "      <td>Over Her Dead Body</td>\n",
       "      <td>Eva Longoria|Jason Biggs|Lake Bell|Paul Rudd|L...</td>\n",
       "      <td>http://www.overherdeadbodymovie.com</td>\n",
       "      <td>Jeff Lowell</td>\n",
       "      <td>She's passed on... But she's not moving on.</td>\n",
       "      <td>...</td>\n",
       "      <td>After his fiancÃ©e, Kate, dies in an accident ...</td>\n",
       "      <td>95</td>\n",
       "      <td>Comedy|Fantasy|Romance</td>\n",
       "      <td>Gold Circle Films</td>\n",
       "      <td>2/1/08</td>\n",
       "      <td>82</td>\n",
       "      <td>5.2</td>\n",
       "      <td>2008</td>\n",
       "      <td>1.012787e+07</td>\n",
       "      <td>0.000000e+00</td>\n",
       "    </tr>\n",
       "    <tr>\n",
       "      <th>1057</th>\n",
       "      <td>114750</td>\n",
       "      <td>tt2235108</td>\n",
       "      <td>0.205077</td>\n",
       "      <td>1000000</td>\n",
       "      <td>0</td>\n",
       "      <td>Dear White People</td>\n",
       "      <td>Tessa Thompson|Tyler James Williams|Kyle Galln...</td>\n",
       "      <td>http://www.dearwhitepeoplemovie.com/</td>\n",
       "      <td>Justin Simien</td>\n",
       "      <td>A satire about being a Black face in a white p...</td>\n",
       "      <td>...</td>\n",
       "      <td>Four black students attend an Ivy League colle...</td>\n",
       "      <td>108</td>\n",
       "      <td>Drama|Comedy</td>\n",
       "      <td>Homegrown Pictures|Duly Noted</td>\n",
       "      <td>10/17/14</td>\n",
       "      <td>148</td>\n",
       "      <td>6.2</td>\n",
       "      <td>2014</td>\n",
       "      <td>9.210911e+05</td>\n",
       "      <td>0.000000e+00</td>\n",
       "    </tr>\n",
       "    <tr>\n",
       "      <th>7557</th>\n",
       "      <td>2959</td>\n",
       "      <td>tt0762114</td>\n",
       "      <td>0.492637</td>\n",
       "      <td>35000000</td>\n",
       "      <td>69307224</td>\n",
       "      <td>License to Wed</td>\n",
       "      <td>Robin Williams|Mandy Moore|John Krasinski|Eric...</td>\n",
       "      <td>http://licensetowedthemovie.warnerbros.com/</td>\n",
       "      <td>Ken Kwapis</td>\n",
       "      <td>First came love... then came Reverend Frank.</td>\n",
       "      <td>...</td>\n",
       "      <td>Newly engaged, Ben and Sadie can't wait to sta...</td>\n",
       "      <td>91</td>\n",
       "      <td>Comedy</td>\n",
       "      <td>Village Roadshow Pictures|Warner Bros. Picture...</td>\n",
       "      <td>7/4/07</td>\n",
       "      <td>132</td>\n",
       "      <td>5.1</td>\n",
       "      <td>2007</td>\n",
       "      <td>3.680840e+07</td>\n",
       "      <td>7.288823e+07</td>\n",
       "    </tr>\n",
       "    <tr>\n",
       "      <th>1624</th>\n",
       "      <td>60821</td>\n",
       "      <td>tt1312251</td>\n",
       "      <td>0.409673</td>\n",
       "      <td>0</td>\n",
       "      <td>0</td>\n",
       "      <td>The Good Witch's Garden</td>\n",
       "      <td>Catherine Bell|Chris Potter|Matthew Knight|Han...</td>\n",
       "      <td>NaN</td>\n",
       "      <td>Craig Pryce</td>\n",
       "      <td>NaN</td>\n",
       "      <td>...</td>\n",
       "      <td>Middleton prepares for its bicentennial, and G...</td>\n",
       "      <td>85</td>\n",
       "      <td>TV Movie|Comedy|Family|Fantasy|Romance</td>\n",
       "      <td>The Hallmark Channel|Whizbang Films Inc.</td>\n",
       "      <td>2/7/09</td>\n",
       "      <td>11</td>\n",
       "      <td>5.2</td>\n",
       "      <td>2009</td>\n",
       "      <td>0.000000e+00</td>\n",
       "      <td>0.000000e+00</td>\n",
       "    </tr>\n",
       "    <tr>\n",
       "      <th>1892</th>\n",
       "      <td>44750</td>\n",
       "      <td>tt1293842</td>\n",
       "      <td>0.047028</td>\n",
       "      <td>0</td>\n",
       "      <td>0</td>\n",
       "      <td>The Winning Season</td>\n",
       "      <td>Sam Rockwell|Emma Roberts|Shareeka Epps|Emily ...</td>\n",
       "      <td>NaN</td>\n",
       "      <td>Jim Strouse</td>\n",
       "      <td>It took a bunch of girls to make him man up.</td>\n",
       "      <td>...</td>\n",
       "      <td>A comedy centered on a has-been coach who is g...</td>\n",
       "      <td>119</td>\n",
       "      <td>Comedy|Drama</td>\n",
       "      <td>Gigi Productions|Sneaky Pete Productions</td>\n",
       "      <td>1/19/09</td>\n",
       "      <td>21</td>\n",
       "      <td>6.1</td>\n",
       "      <td>2009</td>\n",
       "      <td>0.000000e+00</td>\n",
       "      <td>0.000000e+00</td>\n",
       "    </tr>\n",
       "    <tr>\n",
       "      <th>7456</th>\n",
       "      <td>10172</td>\n",
       "      <td>tt0422774</td>\n",
       "      <td>1.026030</td>\n",
       "      <td>0</td>\n",
       "      <td>0</td>\n",
       "      <td>Are We Done Yet?</td>\n",
       "      <td>John C. McGinley|Ice Cube|Nia Long|Aleisha All...</td>\n",
       "      <td>NaN</td>\n",
       "      <td>Steve Carr</td>\n",
       "      <td>New house. New family. What could possibly go ...</td>\n",
       "      <td>...</td>\n",
       "      <td>Newlyweds Nick (Ice Cube) and Suzanne (Long) d...</td>\n",
       "      <td>92</td>\n",
       "      <td>Comedy|Family|Drama</td>\n",
       "      <td>Revolution Studios|Cube Vision|RKO Pictures|Re...</td>\n",
       "      <td>4/4/07</td>\n",
       "      <td>90</td>\n",
       "      <td>5.2</td>\n",
       "      <td>2007</td>\n",
       "      <td>0.000000e+00</td>\n",
       "      <td>0.000000e+00</td>\n",
       "    </tr>\n",
       "    <tr>\n",
       "      <th>7259</th>\n",
       "      <td>25248</td>\n",
       "      <td>tt0384488</td>\n",
       "      <td>0.042066</td>\n",
       "      <td>0</td>\n",
       "      <td>0</td>\n",
       "      <td>Saint Ralph</td>\n",
       "      <td>Adam Butcher|Campbell Scott|Michael Kanev|Gord...</td>\n",
       "      <td>NaN</td>\n",
       "      <td>Michael McGowan</td>\n",
       "      <td>He's hoping for a miracle. He doesn't have a p...</td>\n",
       "      <td>...</td>\n",
       "      <td>This Canadian made comedy/drama, set in Hamilt...</td>\n",
       "      <td>95</td>\n",
       "      <td>Comedy|Drama</td>\n",
       "      <td>Alliance Atlantis Communications|Amaze Film + ...</td>\n",
       "      <td>9/11/04</td>\n",
       "      <td>14</td>\n",
       "      <td>6.3</td>\n",
       "      <td>2004</td>\n",
       "      <td>0.000000e+00</td>\n",
       "      <td>0.000000e+00</td>\n",
       "    </tr>\n",
       "  </tbody>\n",
       "</table>\n",
       "<p>7 rows × 21 columns</p>\n",
       "</div>"
      ],
      "text/plain": [
       "          id    imdb_id  popularity    budget   revenue  \\\n",
       "3088   13160  tt0785007    0.421657  10000000         0   \n",
       "1057  114750  tt2235108    0.205077   1000000         0   \n",
       "7557    2959  tt0762114    0.492637  35000000  69307224   \n",
       "1624   60821  tt1312251    0.409673         0         0   \n",
       "1892   44750  tt1293842    0.047028         0         0   \n",
       "7456   10172  tt0422774    1.026030         0         0   \n",
       "7259   25248  tt0384488    0.042066         0         0   \n",
       "\n",
       "               original_title  \\\n",
       "3088       Over Her Dead Body   \n",
       "1057        Dear White People   \n",
       "7557           License to Wed   \n",
       "1624  The Good Witch's Garden   \n",
       "1892       The Winning Season   \n",
       "7456         Are We Done Yet?   \n",
       "7259              Saint Ralph   \n",
       "\n",
       "                                                   cast  \\\n",
       "3088  Eva Longoria|Jason Biggs|Lake Bell|Paul Rudd|L...   \n",
       "1057  Tessa Thompson|Tyler James Williams|Kyle Galln...   \n",
       "7557  Robin Williams|Mandy Moore|John Krasinski|Eric...   \n",
       "1624  Catherine Bell|Chris Potter|Matthew Knight|Han...   \n",
       "1892  Sam Rockwell|Emma Roberts|Shareeka Epps|Emily ...   \n",
       "7456  John C. McGinley|Ice Cube|Nia Long|Aleisha All...   \n",
       "7259  Adam Butcher|Campbell Scott|Michael Kanev|Gord...   \n",
       "\n",
       "                                         homepage         director  \\\n",
       "3088          http://www.overherdeadbodymovie.com      Jeff Lowell   \n",
       "1057         http://www.dearwhitepeoplemovie.com/    Justin Simien   \n",
       "7557  http://licensetowedthemovie.warnerbros.com/       Ken Kwapis   \n",
       "1624                                          NaN      Craig Pryce   \n",
       "1892                                          NaN      Jim Strouse   \n",
       "7456                                          NaN       Steve Carr   \n",
       "7259                                          NaN  Michael McGowan   \n",
       "\n",
       "                                                tagline  ...  \\\n",
       "3088        She's passed on... But she's not moving on.  ...   \n",
       "1057  A satire about being a Black face in a white p...  ...   \n",
       "7557       First came love... then came Reverend Frank.  ...   \n",
       "1624                                                NaN  ...   \n",
       "1892       It took a bunch of girls to make him man up.  ...   \n",
       "7456  New house. New family. What could possibly go ...  ...   \n",
       "7259  He's hoping for a miracle. He doesn't have a p...  ...   \n",
       "\n",
       "                                               overview runtime  \\\n",
       "3088  After his fiancÃ©e, Kate, dies in an accident ...      95   \n",
       "1057  Four black students attend an Ivy League colle...     108   \n",
       "7557  Newly engaged, Ben and Sadie can't wait to sta...      91   \n",
       "1624  Middleton prepares for its bicentennial, and G...      85   \n",
       "1892  A comedy centered on a has-been coach who is g...     119   \n",
       "7456  Newlyweds Nick (Ice Cube) and Suzanne (Long) d...      92   \n",
       "7259  This Canadian made comedy/drama, set in Hamilt...      95   \n",
       "\n",
       "                                      genres  \\\n",
       "3088                  Comedy|Fantasy|Romance   \n",
       "1057                            Drama|Comedy   \n",
       "7557                                  Comedy   \n",
       "1624  TV Movie|Comedy|Family|Fantasy|Romance   \n",
       "1892                            Comedy|Drama   \n",
       "7456                     Comedy|Family|Drama   \n",
       "7259                            Comedy|Drama   \n",
       "\n",
       "                                   production_companies release_date  \\\n",
       "3088                                  Gold Circle Films       2/1/08   \n",
       "1057                      Homegrown Pictures|Duly Noted     10/17/14   \n",
       "7557  Village Roadshow Pictures|Warner Bros. Picture...       7/4/07   \n",
       "1624           The Hallmark Channel|Whizbang Films Inc.       2/7/09   \n",
       "1892           Gigi Productions|Sneaky Pete Productions      1/19/09   \n",
       "7456  Revolution Studios|Cube Vision|RKO Pictures|Re...       4/4/07   \n",
       "7259  Alliance Atlantis Communications|Amaze Film + ...      9/11/04   \n",
       "\n",
       "     vote_count  vote_average  release_year    budget_adj   revenue_adj  \n",
       "3088         82           5.2          2008  1.012787e+07  0.000000e+00  \n",
       "1057        148           6.2          2014  9.210911e+05  0.000000e+00  \n",
       "7557        132           5.1          2007  3.680840e+07  7.288823e+07  \n",
       "1624         11           5.2          2009  0.000000e+00  0.000000e+00  \n",
       "1892         21           6.1          2009  0.000000e+00  0.000000e+00  \n",
       "7456         90           5.2          2007  0.000000e+00  0.000000e+00  \n",
       "7259         14           6.3          2004  0.000000e+00  0.000000e+00  \n",
       "\n",
       "[7 rows x 21 columns]"
      ]
     },
     "execution_count": 8,
     "metadata": {},
     "output_type": "execute_result"
    }
   ],
   "source": [
    "#viewing a random sample of the data\n",
    "tmdb_movies.sample(7)"
   ]
  },
  {
   "cell_type": "code",
   "execution_count": 9,
   "metadata": {},
   "outputs": [
    {
     "data": {
      "text/plain": [
       "0           5696\n",
       "20000000     190\n",
       "15000000     183\n",
       "25000000     178\n",
       "10000000     176\n",
       "            ... \n",
       "51500000       1\n",
       "25500000       1\n",
       "1350000        1\n",
       "7920000        1\n",
       "4653000        1\n",
       "Name: budget, Length: 557, dtype: int64"
      ]
     },
     "execution_count": 9,
     "metadata": {},
     "output_type": "execute_result"
    }
   ],
   "source": [
    "#check how many zeros there are\n",
    "tmdb_movies.budget.value_counts()"
   ]
  },
  {
   "cell_type": "code",
   "execution_count": 10,
   "metadata": {},
   "outputs": [
    {
     "data": {
      "text/plain": [
       "0            6016\n",
       "12000000       10\n",
       "10000000        8\n",
       "11000000        7\n",
       "6000000         6\n",
       "             ... \n",
       "53676580        1\n",
       "617000          1\n",
       "13001257        1\n",
       "504050219       1\n",
       "20518905        1\n",
       "Name: revenue, Length: 4702, dtype: int64"
      ]
     },
     "execution_count": 10,
     "metadata": {},
     "output_type": "execute_result"
    }
   ],
   "source": [
    "tmdb_movies.revenue.value_counts()"
   ]
  },
  {
   "cell_type": "code",
   "execution_count": 11,
   "metadata": {},
   "outputs": [
    {
     "data": {
      "text/plain": [
       "id                      10865\n",
       "imdb_id                 10855\n",
       "popularity              10814\n",
       "budget                    557\n",
       "revenue                  4702\n",
       "original_title          10571\n",
       "cast                    10719\n",
       "homepage                 2896\n",
       "director                 5067\n",
       "tagline                  7997\n",
       "keywords                 8804\n",
       "overview                10847\n",
       "runtime                   247\n",
       "genres                   2039\n",
       "production_companies     7445\n",
       "release_date             5909\n",
       "vote_count               1289\n",
       "vote_average               72\n",
       "release_year               56\n",
       "budget_adj               2614\n",
       "revenue_adj              4840\n",
       "dtype: int64"
      ]
     },
     "execution_count": 11,
     "metadata": {},
     "output_type": "execute_result"
    }
   ],
   "source": [
    "#checking for unique values\n",
    "tmdb_movies.nunique()"
   ]
  },
  {
   "cell_type": "code",
   "execution_count": 12,
   "metadata": {},
   "outputs": [
    {
     "data": {
      "text/plain": [
       "1"
      ]
     },
     "execution_count": 12,
     "metadata": {},
     "output_type": "execute_result"
    }
   ],
   "source": [
    "#checking for duplicated rows\n",
    "tmdb_movies.duplicated().sum()"
   ]
  },
  {
   "cell_type": "markdown",
   "metadata": {},
   "source": [
    "<a id='cleaning&storing'></a>\n",
    "### Cleaning and Storing Data\n"
   ]
  },
  {
   "cell_type": "markdown",
   "metadata": {},
   "source": [
    "\n",
    "I've come to realize the following issues in that needs to be cleaned/addressed:\n",
    "\n",
    "1. Missing Data: out of the expected 10866 entries, cast column has 10790 entries, homepage has only 2936, director has only 10822, tagline has only 8042, keywords has only 9373, overview has 10862, genres has 10843, production_companies has only 9836 values, the severe ones are: homepage, tagline, keywords, and production_companies.\n",
    "  \n",
    "  \n",
    "2. Data Types: id should be string and not int because mathematical calculations should not be performed on it, release_date should be datetime and not object(string).\n",
    "\n",
    "\n",
    "3. Data Values: there's a duplicated row, there are zero values in the budget, revenue and their respective budget_adj and revenue_adj columns.\n",
    "\n",
    "\n",
    "In the cleaning step I will start with changing the id and release_date data types, deleting the duplicated row, deleting the zero values in budget, and revenue.\n",
    "\n"
   ]
  },
  {
   "cell_type": "code",
   "execution_count": 13,
   "metadata": {},
   "outputs": [],
   "source": [
    "#copy data to a new dataframe to clean it\n",
    "tmdb_copy = tmdb_movies"
   ]
  },
  {
   "cell_type": "code",
   "execution_count": 14,
   "metadata": {},
   "outputs": [
    {
     "data": {
      "text/plain": [
       "(10866, 21)"
      ]
     },
     "execution_count": 14,
     "metadata": {},
     "output_type": "execute_result"
    }
   ],
   "source": [
    "tmdb_copy.shape"
   ]
  },
  {
   "cell_type": "code",
   "execution_count": 15,
   "metadata": {},
   "outputs": [
    {
     "name": "stdout",
     "output_type": "stream",
     "text": [
      "<class 'pandas.core.frame.DataFrame'>\n",
      "RangeIndex: 10866 entries, 0 to 10865\n",
      "Data columns (total 21 columns):\n",
      " #   Column                Non-Null Count  Dtype         \n",
      "---  ------                --------------  -----         \n",
      " 0   id                    10866 non-null  object        \n",
      " 1   imdb_id               10856 non-null  object        \n",
      " 2   popularity            10866 non-null  float64       \n",
      " 3   budget                10866 non-null  int64         \n",
      " 4   revenue               10866 non-null  int64         \n",
      " 5   original_title        10866 non-null  object        \n",
      " 6   cast                  10790 non-null  object        \n",
      " 7   homepage              2936 non-null   object        \n",
      " 8   director              10822 non-null  object        \n",
      " 9   tagline               8042 non-null   object        \n",
      " 10  keywords              9373 non-null   object        \n",
      " 11  overview              10862 non-null  object        \n",
      " 12  runtime               10866 non-null  int64         \n",
      " 13  genres                10843 non-null  object        \n",
      " 14  production_companies  9836 non-null   object        \n",
      " 15  release_date          10866 non-null  datetime64[ns]\n",
      " 16  vote_count            10866 non-null  int64         \n",
      " 17  vote_average          10866 non-null  float64       \n",
      " 18  release_year          10866 non-null  int64         \n",
      " 19  budget_adj            10866 non-null  float64       \n",
      " 20  revenue_adj           10866 non-null  float64       \n",
      "dtypes: datetime64[ns](1), float64(4), int64(5), object(11)\n",
      "memory usage: 1.7+ MB\n"
     ]
    }
   ],
   "source": [
    "#change incorrect data types to correct ones\n",
    "tmdb_copy['release_date'] = pd.to_datetime(tmdb_copy['release_date'])\n",
    "tmdb_copy['id'] = tmdb_copy['id'].astype(str)\n",
    "tmdb_copy.info()"
   ]
  },
  {
   "cell_type": "code",
   "execution_count": 16,
   "metadata": {},
   "outputs": [],
   "source": [
    "#drop duplicated row\n",
    "tmdb_copy.drop_duplicates(inplace=True)"
   ]
  },
  {
   "cell_type": "code",
   "execution_count": 17,
   "metadata": {},
   "outputs": [
    {
     "data": {
      "text/plain": [
       "0"
      ]
     },
     "execution_count": 17,
     "metadata": {},
     "output_type": "execute_result"
    }
   ],
   "source": [
    "#check if it's deleted\n",
    "tmdb_copy.duplicated().sum()"
   ]
  },
  {
   "cell_type": "code",
   "execution_count": 18,
   "metadata": {},
   "outputs": [],
   "source": [
    "#dropping unnecessary columns\n",
    "tmdb_copy.drop(['imdb_id', 'cast','homepage', 'director', 'tagline', 'keywords', 'overview', 'genres','production_companies', \n",
    "                 'budget_adj', 'revenue_adj'], axis=1, inplace=True)"
   ]
  },
  {
   "cell_type": "code",
   "execution_count": 19,
   "metadata": {},
   "outputs": [
    {
     "data": {
      "text/html": [
       "<div>\n",
       "<style scoped>\n",
       "    .dataframe tbody tr th:only-of-type {\n",
       "        vertical-align: middle;\n",
       "    }\n",
       "\n",
       "    .dataframe tbody tr th {\n",
       "        vertical-align: top;\n",
       "    }\n",
       "\n",
       "    .dataframe thead th {\n",
       "        text-align: right;\n",
       "    }\n",
       "</style>\n",
       "<table border=\"1\" class=\"dataframe\">\n",
       "  <thead>\n",
       "    <tr style=\"text-align: right;\">\n",
       "      <th></th>\n",
       "      <th>id</th>\n",
       "      <th>popularity</th>\n",
       "      <th>budget</th>\n",
       "      <th>revenue</th>\n",
       "      <th>original_title</th>\n",
       "      <th>runtime</th>\n",
       "      <th>release_date</th>\n",
       "      <th>vote_count</th>\n",
       "      <th>vote_average</th>\n",
       "      <th>release_year</th>\n",
       "    </tr>\n",
       "  </thead>\n",
       "  <tbody>\n",
       "    <tr>\n",
       "      <th>0</th>\n",
       "      <td>135397</td>\n",
       "      <td>32.985763</td>\n",
       "      <td>150000000</td>\n",
       "      <td>1513528810</td>\n",
       "      <td>Jurassic World</td>\n",
       "      <td>124</td>\n",
       "      <td>2015-06-09</td>\n",
       "      <td>5562</td>\n",
       "      <td>6.5</td>\n",
       "      <td>2015</td>\n",
       "    </tr>\n",
       "    <tr>\n",
       "      <th>1</th>\n",
       "      <td>76341</td>\n",
       "      <td>28.419936</td>\n",
       "      <td>150000000</td>\n",
       "      <td>378436354</td>\n",
       "      <td>Mad Max: Fury Road</td>\n",
       "      <td>120</td>\n",
       "      <td>2015-05-13</td>\n",
       "      <td>6185</td>\n",
       "      <td>7.1</td>\n",
       "      <td>2015</td>\n",
       "    </tr>\n",
       "    <tr>\n",
       "      <th>2</th>\n",
       "      <td>262500</td>\n",
       "      <td>13.112507</td>\n",
       "      <td>110000000</td>\n",
       "      <td>295238201</td>\n",
       "      <td>Insurgent</td>\n",
       "      <td>119</td>\n",
       "      <td>2015-03-18</td>\n",
       "      <td>2480</td>\n",
       "      <td>6.3</td>\n",
       "      <td>2015</td>\n",
       "    </tr>\n",
       "    <tr>\n",
       "      <th>3</th>\n",
       "      <td>140607</td>\n",
       "      <td>11.173104</td>\n",
       "      <td>200000000</td>\n",
       "      <td>2068178225</td>\n",
       "      <td>Star Wars: The Force Awakens</td>\n",
       "      <td>136</td>\n",
       "      <td>2015-12-15</td>\n",
       "      <td>5292</td>\n",
       "      <td>7.5</td>\n",
       "      <td>2015</td>\n",
       "    </tr>\n",
       "    <tr>\n",
       "      <th>4</th>\n",
       "      <td>168259</td>\n",
       "      <td>9.335014</td>\n",
       "      <td>190000000</td>\n",
       "      <td>1506249360</td>\n",
       "      <td>Furious 7</td>\n",
       "      <td>137</td>\n",
       "      <td>2015-04-01</td>\n",
       "      <td>2947</td>\n",
       "      <td>7.3</td>\n",
       "      <td>2015</td>\n",
       "    </tr>\n",
       "  </tbody>\n",
       "</table>\n",
       "</div>"
      ],
      "text/plain": [
       "       id  popularity     budget     revenue                original_title  \\\n",
       "0  135397   32.985763  150000000  1513528810                Jurassic World   \n",
       "1   76341   28.419936  150000000   378436354            Mad Max: Fury Road   \n",
       "2  262500   13.112507  110000000   295238201                     Insurgent   \n",
       "3  140607   11.173104  200000000  2068178225  Star Wars: The Force Awakens   \n",
       "4  168259    9.335014  190000000  1506249360                     Furious 7   \n",
       "\n",
       "   runtime release_date  vote_count  vote_average  release_year  \n",
       "0      124   2015-06-09        5562           6.5          2015  \n",
       "1      120   2015-05-13        6185           7.1          2015  \n",
       "2      119   2015-03-18        2480           6.3          2015  \n",
       "3      136   2015-12-15        5292           7.5          2015  \n",
       "4      137   2015-04-01        2947           7.3          2015  "
      ]
     },
     "execution_count": 19,
     "metadata": {},
     "output_type": "execute_result"
    }
   ],
   "source": [
    "tmdb_copy.head()"
   ]
  },
  {
   "cell_type": "code",
   "execution_count": 20,
   "metadata": {},
   "outputs": [
    {
     "data": {
      "text/plain": [
       "(10865, 10)"
      ]
     },
     "execution_count": 20,
     "metadata": {},
     "output_type": "execute_result"
    }
   ],
   "source": [
    "tmdb_copy.shape"
   ]
  },
  {
   "cell_type": "code",
   "execution_count": 21,
   "metadata": {},
   "outputs": [
    {
     "data": {
      "text/plain": [
       "id                        object\n",
       "popularity               float64\n",
       "budget                     int64\n",
       "revenue                    int64\n",
       "original_title            object\n",
       "runtime                    int64\n",
       "release_date      datetime64[ns]\n",
       "vote_count                 int64\n",
       "vote_average             float64\n",
       "release_year               int64\n",
       "dtype: object"
      ]
     },
     "execution_count": 21,
     "metadata": {},
     "output_type": "execute_result"
    }
   ],
   "source": [
    "tmdb_copy.dtypes"
   ]
  },
  {
   "cell_type": "code",
   "execution_count": 22,
   "metadata": {},
   "outputs": [
    {
     "name": "stdout",
     "output_type": "stream",
     "text": [
      "<class 'pandas.core.frame.DataFrame'>\n",
      "Int64Index: 10865 entries, 0 to 10865\n",
      "Data columns (total 10 columns):\n",
      " #   Column          Non-Null Count  Dtype         \n",
      "---  ------          --------------  -----         \n",
      " 0   id              10865 non-null  object        \n",
      " 1   popularity      10865 non-null  float64       \n",
      " 2   budget          10865 non-null  int64         \n",
      " 3   revenue         10865 non-null  int64         \n",
      " 4   original_title  10865 non-null  object        \n",
      " 5   runtime         10865 non-null  int64         \n",
      " 6   release_date    10865 non-null  datetime64[ns]\n",
      " 7   vote_count      10865 non-null  int64         \n",
      " 8   vote_average    10865 non-null  float64       \n",
      " 9   release_year    10865 non-null  int64         \n",
      "dtypes: datetime64[ns](1), float64(2), int64(5), object(2)\n",
      "memory usage: 933.7+ KB\n"
     ]
    }
   ],
   "source": [
    "tmdb_copy.info()"
   ]
  },
  {
   "cell_type": "code",
   "execution_count": 23,
   "metadata": {},
   "outputs": [
    {
     "data": {
      "text/plain": [
       "0"
      ]
     },
     "execution_count": 23,
     "metadata": {},
     "output_type": "execute_result"
    }
   ],
   "source": [
    "#delete rows without revenue\n",
    "null_revenue = tmdb_copy.query('revenue == 0')\n",
    "tmdb_copy.drop(null_revenue.index,inplace=True)\n",
    "#check if there are rows where revenue = 0\n",
    "tmdb_copy.query('revenue == 0').revenue.count()"
   ]
  },
  {
   "cell_type": "code",
   "execution_count": 24,
   "metadata": {},
   "outputs": [
    {
     "data": {
      "text/plain": [
       "0"
      ]
     },
     "execution_count": 24,
     "metadata": {},
     "output_type": "execute_result"
    }
   ],
   "source": [
    "#delete rows without budget\n",
    "null_budget = tmdb_copy.query('budget == 0')\n",
    "tmdb_copy.drop(null_budget.index,inplace=True)\n",
    "#check if there are rows where budget = 0\n",
    "tmdb_copy.query('budget == 0').budget.count()"
   ]
  },
  {
   "cell_type": "markdown",
   "metadata": {},
   "source": [
    "### Storing Data"
   ]
  },
  {
   "cell_type": "code",
   "execution_count": 25,
   "metadata": {},
   "outputs": [],
   "source": [
    "#storing data\n",
    "tmdb_copy.to_csv('tmdb_Movies_master.csv', index=False)\n",
    "#save the clean data into a new data to explore\n",
    "tmdb_new = tmdb_copy"
   ]
  },
  {
   "cell_type": "markdown",
   "metadata": {},
   "source": [
    "### What is the structure of your dataset?\n",
    "\n",
    "After cleaning the data, here's a brief description of it:\n",
    "\n",
    "There are 10865 movies, and 10 features which are: 'id', 'popularity', 'budget', 'revenue', 'original_title','runtime', 'release_date', 'vote_count', 'vote_average', 'release_year'\n",
    "\n",
    "all of the features besides id are numerical values.\n",
    "\n",
    "### What is/are the main feature(s) of interest in your dataset?\n",
    "\n",
    "I'm interested in finding out the relationship between features to see what features are relevant to make a successful/high revenued movie.\n",
    "\n",
    "### What features in the dataset do you think will help support your investigation into your feature(s) of interest?\n",
    "\n",
    "I think the revenue, budget, popularity, vote_average and release_year are the most important features for my investigation.\n",
    "\n",
    "\n"
   ]
  },
  {
   "cell_type": "markdown",
   "metadata": {},
   "source": [
    "<a id='uni'></a>\n",
    "## Univariate Exploration"
   ]
  },
  {
   "cell_type": "code",
   "execution_count": 26,
   "metadata": {},
   "outputs": [
    {
     "data": {
      "image/png": "[encoded data removed]",
      "text/plain": [
       "<Figure size 1080x1080 with 9 Axes>"
      ]
     },
     "metadata": {
      "needs_background": "light"
     },
     "output_type": "display_data"
    }
   ],
   "source": [
    "# histogram for each variable\n",
    "tmdb_new.hist(figsize=(15,15));"
   ]
  },
  {
   "cell_type": "code",
   "execution_count": 27,
   "metadata": {},
   "outputs": [
    {
     "data": {
      "image/png": "[encoded data removed]",
      "text/plain": [
       "<Figure size 1080x720 with 1 Axes>"
      ]
     },
     "metadata": {
      "needs_background": "light"
     },
     "output_type": "display_data"
    }
   ],
   "source": [
    "#plot release_year\n",
    "tmdb_new['release_year'].value_counts().sort_index().plot.bar(figsize=(15,10));\n",
    "plt.ylabel('Movies Count');\n",
    "plt.xlabel('Year');\n",
    "plt.title('Movies per year');"
   ]
  },
  {
   "cell_type": "markdown",
   "metadata": {},
   "source": [
    "### Discuss the distribution(s) of your variable(s) of interest. Were there any unusual points? Did you need to perform any transformations?\n",
    "\n",
    "From the previous histogram of the variables budget, popularity, revenue, vote_count, vote_average, release_year and runtime, it is apparent that revenue, runtime, popularity, vote_count and budget data are skewed to right while release_year is skewed to the left and vote_average is nearly a normal distribution.\n",
    "\n",
    "From the bar plot of the movies over the years, it is evident that the movie entries range from 1960 to 2015 and the movies count increases throughout the years.\n",
    "\n",
    "I personally did not see any unusual points at the moment but might do further along the investigation, also I did not perform any transformations.\n",
    "\n",
    " "
   ]
  },
  {
   "cell_type": "markdown",
   "metadata": {},
   "source": [
    "<a id='bi'></a>\n",
    "## Bivariate Exploration"
   ]
  },
  {
   "cell_type": "markdown",
   "metadata": {},
   "source": [
    "What's the relationship between the movies budget and revenue?"
   ]
  },
  {
   "cell_type": "markdown",
   "metadata": {},
   "source": [
    "First I will see the relation between the mean budget and mean revenue, then I will see the relationship of the highest budgeted movies and the highest revenued movies"
   ]
  },
  {
   "cell_type": "code",
   "execution_count": 28,
   "metadata": {},
   "outputs": [
    {
     "data": {
      "image/png": "[encoded data removed]",
      "text/plain": [
       "<Figure size 432x288 with 1 Axes>"
      ]
     },
     "metadata": {
      "needs_background": "light"
     },
     "output_type": "display_data"
    }
   ],
   "source": [
    "#find the means of budget and revenue\n",
    "mean_budget = tmdb_new.budget.mean()\n",
    "mean_revenue = tmdb_new.revenue.mean()\n",
    "\n",
    "#plot a bar chart with two bars, one for mean budget, the other for mean revenue\n",
    "plt.bar(['Mean Budget', 'Mean Revenue'], [mean_budget, mean_revenue], color=['Green', 'Brown'])\n",
    "plt.title('Movies Mean Budget and Mean Revenue')\n",
    "plt.ylabel('Amount in 10 million$');"
   ]
  },
  {
   "cell_type": "markdown",
   "metadata": {},
   "source": [
    "The mean revenue is more than double the mean budget, now I will investigate the higher budgeted movies and their revenue, also the highest revenued movies and their budget."
   ]
  },
  {
   "cell_type": "code",
   "execution_count": 29,
   "metadata": {},
   "outputs": [
    {
     "data": {
      "text/html": [
       "<div>\n",
       "<style scoped>\n",
       "    .dataframe tbody tr th:only-of-type {\n",
       "        vertical-align: middle;\n",
       "    }\n",
       "\n",
       "    .dataframe tbody tr th {\n",
       "        vertical-align: top;\n",
       "    }\n",
       "\n",
       "    .dataframe thead th {\n",
       "        text-align: right;\n",
       "    }\n",
       "</style>\n",
       "<table border=\"1\" class=\"dataframe\">\n",
       "  <thead>\n",
       "    <tr style=\"text-align: right;\">\n",
       "      <th></th>\n",
       "      <th>popularity</th>\n",
       "      <th>budget</th>\n",
       "      <th>revenue</th>\n",
       "      <th>runtime</th>\n",
       "      <th>vote_count</th>\n",
       "      <th>vote_average</th>\n",
       "      <th>release_year</th>\n",
       "    </tr>\n",
       "  </thead>\n",
       "  <tbody>\n",
       "    <tr>\n",
       "      <th>count</th>\n",
       "      <td>1287.000000</td>\n",
       "      <td>1.287000e+03</td>\n",
       "      <td>1.287000e+03</td>\n",
       "      <td>1287.000000</td>\n",
       "      <td>1287.000000</td>\n",
       "      <td>1287.000000</td>\n",
       "      <td>1287.000000</td>\n",
       "    </tr>\n",
       "    <tr>\n",
       "      <th>mean</th>\n",
       "      <td>1.809648</td>\n",
       "      <td>8.165310e+07</td>\n",
       "      <td>2.237801e+08</td>\n",
       "      <td>115.003885</td>\n",
       "      <td>977.825175</td>\n",
       "      <td>6.130692</td>\n",
       "      <td>2004.841492</td>\n",
       "    </tr>\n",
       "    <tr>\n",
       "      <th>std</th>\n",
       "      <td>2.092166</td>\n",
       "      <td>4.641295e+07</td>\n",
       "      <td>2.489831e+08</td>\n",
       "      <td>20.903187</td>\n",
       "      <td>1234.552172</td>\n",
       "      <td>0.758568</td>\n",
       "      <td>6.742178</td>\n",
       "    </tr>\n",
       "    <tr>\n",
       "      <th>min</th>\n",
       "      <td>0.031018</td>\n",
       "      <td>3.766500e+07</td>\n",
       "      <td>1.440000e+02</td>\n",
       "      <td>74.000000</td>\n",
       "      <td>12.000000</td>\n",
       "      <td>2.200000</td>\n",
       "      <td>1978.000000</td>\n",
       "    </tr>\n",
       "    <tr>\n",
       "      <th>25%</th>\n",
       "      <td>0.776294</td>\n",
       "      <td>5.000000e+07</td>\n",
       "      <td>6.894899e+07</td>\n",
       "      <td>100.000000</td>\n",
       "      <td>216.500000</td>\n",
       "      <td>5.600000</td>\n",
       "      <td>2000.000000</td>\n",
       "    </tr>\n",
       "    <tr>\n",
       "      <th>50%</th>\n",
       "      <td>1.228370</td>\n",
       "      <td>6.600000e+07</td>\n",
       "      <td>1.492710e+08</td>\n",
       "      <td>113.000000</td>\n",
       "      <td>514.000000</td>\n",
       "      <td>6.100000</td>\n",
       "      <td>2005.000000</td>\n",
       "    </tr>\n",
       "    <tr>\n",
       "      <th>75%</th>\n",
       "      <td>2.084789</td>\n",
       "      <td>1.000000e+08</td>\n",
       "      <td>2.848884e+08</td>\n",
       "      <td>127.000000</td>\n",
       "      <td>1196.000000</td>\n",
       "      <td>6.600000</td>\n",
       "      <td>2010.000000</td>\n",
       "    </tr>\n",
       "    <tr>\n",
       "      <th>max</th>\n",
       "      <td>32.985763</td>\n",
       "      <td>4.250000e+08</td>\n",
       "      <td>2.781506e+09</td>\n",
       "      <td>219.000000</td>\n",
       "      <td>9767.000000</td>\n",
       "      <td>8.100000</td>\n",
       "      <td>2015.000000</td>\n",
       "    </tr>\n",
       "  </tbody>\n",
       "</table>\n",
       "</div>"
      ],
      "text/plain": [
       "        popularity        budget       revenue      runtime   vote_count  \\\n",
       "count  1287.000000  1.287000e+03  1.287000e+03  1287.000000  1287.000000   \n",
       "mean      1.809648  8.165310e+07  2.237801e+08   115.003885   977.825175   \n",
       "std       2.092166  4.641295e+07  2.489831e+08    20.903187  1234.552172   \n",
       "min       0.031018  3.766500e+07  1.440000e+02    74.000000    12.000000   \n",
       "25%       0.776294  5.000000e+07  6.894899e+07   100.000000   216.500000   \n",
       "50%       1.228370  6.600000e+07  1.492710e+08   113.000000   514.000000   \n",
       "75%       2.084789  1.000000e+08  2.848884e+08   127.000000  1196.000000   \n",
       "max      32.985763  4.250000e+08  2.781506e+09   219.000000  9767.000000   \n",
       "\n",
       "       vote_average  release_year  \n",
       "count   1287.000000   1287.000000  \n",
       "mean       6.130692   2004.841492  \n",
       "std        0.758568      6.742178  \n",
       "min        2.200000   1978.000000  \n",
       "25%        5.600000   2000.000000  \n",
       "50%        6.100000   2005.000000  \n",
       "75%        6.600000   2010.000000  \n",
       "max        8.100000   2015.000000  "
      ]
     },
     "execution_count": 29,
     "metadata": {},
     "output_type": "execute_result"
    }
   ],
   "source": [
    "#query movies with budget more than the mean budget\n",
    "high_budget_movies = tmdb_new.query('budget > {}'.format(mean_budget))\n",
    "high_budget_movies.describe()"
   ]
  },
  {
   "cell_type": "code",
   "execution_count": 30,
   "metadata": {},
   "outputs": [
    {
     "data": {
      "image/png": "[encoded data removed]",
      "text/plain": [
       "<Figure size 1080x360 with 1 Axes>"
      ]
     },
     "metadata": {
      "needs_background": "light"
     },
     "output_type": "display_data"
    }
   ],
   "source": [
    "# Create a scatter plot for the highest budgeted movies\n",
    "high_budget_movies.plot.scatter(x='budget',y='revenue',figsize=(15,5), color='purple') \n",
    "plt.title('Highest Budgeted Movies and their Revenue')\n",
    "plt.xlabel('Budget in 100 Million$')\n",
    "plt.ylabel('Revenue in Billion$')\n",
    "plt.show() "
   ]
  },
  {
   "cell_type": "markdown",
   "metadata": {},
   "source": [
    "from the scatter plot above there seems to be a relationship between the highest budget movies and their respective revenue but it is not specific. most of the budget falls between the range of 50 million to 200 millions and most of it's corresponding revenue values falls between less than 500 million up to 1 billion dollars. "
   ]
  },
  {
   "cell_type": "code",
   "execution_count": 31,
   "metadata": {},
   "outputs": [
    {
     "data": {
      "text/html": [
       "<div>\n",
       "<style scoped>\n",
       "    .dataframe tbody tr th:only-of-type {\n",
       "        vertical-align: middle;\n",
       "    }\n",
       "\n",
       "    .dataframe tbody tr th {\n",
       "        vertical-align: top;\n",
       "    }\n",
       "\n",
       "    .dataframe thead th {\n",
       "        text-align: right;\n",
       "    }\n",
       "</style>\n",
       "<table border=\"1\" class=\"dataframe\">\n",
       "  <thead>\n",
       "    <tr style=\"text-align: right;\">\n",
       "      <th></th>\n",
       "      <th>popularity</th>\n",
       "      <th>budget</th>\n",
       "      <th>revenue</th>\n",
       "      <th>runtime</th>\n",
       "      <th>vote_count</th>\n",
       "      <th>vote_average</th>\n",
       "      <th>release_year</th>\n",
       "    </tr>\n",
       "  </thead>\n",
       "  <tbody>\n",
       "    <tr>\n",
       "      <th>count</th>\n",
       "      <td>1107.000000</td>\n",
       "      <td>1.107000e+03</td>\n",
       "      <td>1.107000e+03</td>\n",
       "      <td>1107.000000</td>\n",
       "      <td>1107.000000</td>\n",
       "      <td>1107.000000</td>\n",
       "      <td>1107.000000</td>\n",
       "    </tr>\n",
       "    <tr>\n",
       "      <th>mean</th>\n",
       "      <td>2.191528</td>\n",
       "      <td>7.426524e+07</td>\n",
       "      <td>2.934396e+08</td>\n",
       "      <td>115.581752</td>\n",
       "      <td>1242.360434</td>\n",
       "      <td>6.393225</td>\n",
       "      <td>2003.282746</td>\n",
       "    </tr>\n",
       "    <tr>\n",
       "      <th>std</th>\n",
       "      <td>2.213379</td>\n",
       "      <td>5.448290e+07</td>\n",
       "      <td>2.407357e+08</td>\n",
       "      <td>21.111119</td>\n",
       "      <td>1280.878310</td>\n",
       "      <td>0.707081</td>\n",
       "      <td>9.471500</td>\n",
       "    </tr>\n",
       "    <tr>\n",
       "      <th>min</th>\n",
       "      <td>0.131526</td>\n",
       "      <td>1.130000e+02</td>\n",
       "      <td>1.078795e+08</td>\n",
       "      <td>72.000000</td>\n",
       "      <td>14.000000</td>\n",
       "      <td>4.200000</td>\n",
       "      <td>1961.000000</td>\n",
       "    </tr>\n",
       "    <tr>\n",
       "      <th>25%</th>\n",
       "      <td>1.072666</td>\n",
       "      <td>3.400000e+07</td>\n",
       "      <td>1.492763e+08</td>\n",
       "      <td>100.000000</td>\n",
       "      <td>388.000000</td>\n",
       "      <td>5.900000</td>\n",
       "      <td>1998.000000</td>\n",
       "    </tr>\n",
       "    <tr>\n",
       "      <th>50%</th>\n",
       "      <td>1.615244</td>\n",
       "      <td>6.000000e+07</td>\n",
       "      <td>2.100000e+08</td>\n",
       "      <td>113.000000</td>\n",
       "      <td>781.000000</td>\n",
       "      <td>6.400000</td>\n",
       "      <td>2005.000000</td>\n",
       "    </tr>\n",
       "    <tr>\n",
       "      <th>75%</th>\n",
       "      <td>2.559995</td>\n",
       "      <td>1.000000e+08</td>\n",
       "      <td>3.473800e+08</td>\n",
       "      <td>128.000000</td>\n",
       "      <td>1643.000000</td>\n",
       "      <td>6.900000</td>\n",
       "      <td>2011.000000</td>\n",
       "    </tr>\n",
       "    <tr>\n",
       "      <th>max</th>\n",
       "      <td>32.985763</td>\n",
       "      <td>3.800000e+08</td>\n",
       "      <td>2.781506e+09</td>\n",
       "      <td>201.000000</td>\n",
       "      <td>9767.000000</td>\n",
       "      <td>8.300000</td>\n",
       "      <td>2015.000000</td>\n",
       "    </tr>\n",
       "  </tbody>\n",
       "</table>\n",
       "</div>"
      ],
      "text/plain": [
       "        popularity        budget       revenue      runtime   vote_count  \\\n",
       "count  1107.000000  1.107000e+03  1.107000e+03  1107.000000  1107.000000   \n",
       "mean      2.191528  7.426524e+07  2.934396e+08   115.581752  1242.360434   \n",
       "std       2.213379  5.448290e+07  2.407357e+08    21.111119  1280.878310   \n",
       "min       0.131526  1.130000e+02  1.078795e+08    72.000000    14.000000   \n",
       "25%       1.072666  3.400000e+07  1.492763e+08   100.000000   388.000000   \n",
       "50%       1.615244  6.000000e+07  2.100000e+08   113.000000   781.000000   \n",
       "75%       2.559995  1.000000e+08  3.473800e+08   128.000000  1643.000000   \n",
       "max      32.985763  3.800000e+08  2.781506e+09   201.000000  9767.000000   \n",
       "\n",
       "       vote_average  release_year  \n",
       "count   1107.000000   1107.000000  \n",
       "mean       6.393225   2003.282746  \n",
       "std        0.707081      9.471500  \n",
       "min        4.200000   1961.000000  \n",
       "25%        5.900000   1998.000000  \n",
       "50%        6.400000   2005.000000  \n",
       "75%        6.900000   2011.000000  \n",
       "max        8.300000   2015.000000  "
      ]
     },
     "execution_count": 31,
     "metadata": {},
     "output_type": "execute_result"
    }
   ],
   "source": [
    "#query movies with revenue more than the mean revenue\n",
    "high_revenue_movies = tmdb_new.query('revenue > {}'.format(mean_revenue))\n",
    "high_revenue_movies.describe()"
   ]
  },
  {
   "cell_type": "code",
   "execution_count": 32,
   "metadata": {},
   "outputs": [
    {
     "data": {
      "image/png": "[encoded data removed]",
      "text/plain": [
       "<Figure size 1080x360 with 1 Axes>"
      ]
     },
     "metadata": {
      "needs_background": "light"
     },
     "output_type": "display_data"
    }
   ],
   "source": [
    "# Create a scatter plot for the highest revenue movies\n",
    "high_revenue_movies.plot.scatter(x='revenue',y='budget',figsize=(15,5),color='teal') \n",
    "plt.title('Highest revenue Movies and their budget')\n",
    "plt.xlabel('revenue in billion$')\n",
    "plt.ylabel('budget in 100 Million$')\n",
    "plt.show()"
   ]
  },
  {
   "cell_type": "markdown",
   "metadata": {},
   "source": [
    "From the scatter plot above I can say that the relationship between the revenue and budget of the highest revenue movies seems less defined than the relationship between highest budgeted movies and their corrisponding budget, since it is more spread out. "
   ]
  },
  {
   "cell_type": "markdown",
   "metadata": {},
   "source": [
    "Now I will investigate the mean budget and the mean revenue over the years from the TMDB Movies dataset. "
   ]
  },
  {
   "cell_type": "code",
   "execution_count": 33,
   "metadata": {},
   "outputs": [
    {
     "data": {
      "text/plain": [
       "release_year\n",
       "1960    4.161390e+06\n",
       "1961    3.863700e+06\n",
       "1962    5.635714e+06\n",
       "1963    1.018583e+07\n",
       "1964    4.847880e+06\n",
       "Name: budget, dtype: float64"
      ]
     },
     "execution_count": 33,
     "metadata": {},
     "output_type": "execute_result"
    }
   ],
   "source": [
    "#find the mean budget per year of movies grouped by their release year\n",
    "mean_budget_by_years = tmdb_new.groupby('release_year').budget.mean()\n",
    "mean_budget_by_years.head()"
   ]
  },
  {
   "cell_type": "code",
   "execution_count": 34,
   "metadata": {},
   "outputs": [
    {
     "data": {
      "text/plain": [
       "count    5.600000e+01\n",
       "mean     2.328698e+07\n",
       "std      1.661075e+07\n",
       "min      2.958032e+06\n",
       "25%      7.861538e+06\n",
       "50%      1.509790e+07\n",
       "75%      4.245631e+07\n",
       "max      4.802285e+07\n",
       "Name: budget, dtype: float64"
      ]
     },
     "execution_count": 34,
     "metadata": {},
     "output_type": "execute_result"
    }
   ],
   "source": [
    "#find general statistics about the budget\n",
    "mean_budget_by_years.describe()"
   ]
  },
  {
   "cell_type": "code",
   "execution_count": 35,
   "metadata": {},
   "outputs": [
    {
     "data": {
      "image/png": "[encoded data removed]",
      "text/plain": [
       "<Figure size 1080x648 with 1 Axes>"
      ]
     },
     "metadata": {
      "needs_background": "light"
     },
     "output_type": "display_data"
    }
   ],
   "source": [
    "#plot mean budget per release year \n",
    "mean_budget_by_years.plot.bar(x=0, y=1,figsize=(15,9), color='grey');\n",
    "plt.title('TMDB Movies mean budget throughout the years');\n",
    "plt.xlabel('Years');\n",
    "plt.ylabel('Mean budget in 10 Million$');\n",
    "plt.show()"
   ]
  },
  {
   "cell_type": "markdown",
   "metadata": {},
   "source": [
    " From the graph above which is skewed to the left I think it's clear that the mean budget of the movies is increasing in general as the years go by then it started to go down again. the mean budget seems to be at it's lowest in 1972 and 1971, and at it's highest at 2012 and 2013. Next I will do the same for the revenue."
   ]
  },
  {
   "cell_type": "code",
   "execution_count": 36,
   "metadata": {},
   "outputs": [
    {
     "data": {
      "text/plain": [
       "release_year\n",
       "1960    2.580100e+07\n",
       "1961    3.377202e+07\n",
       "1962    2.947569e+07\n",
       "1963    2.942115e+07\n",
       "1964    4.694479e+07\n",
       "Name: revenue, dtype: float64"
      ]
     },
     "execution_count": 36,
     "metadata": {},
     "output_type": "execute_result"
    }
   ],
   "source": [
    "#find the mean revenue per year of movies grouped by their release year\n",
    "mean_revenue_by_years = tmdb_new.groupby('release_year').revenue.mean()\n",
    "mean_revenue_by_years.head()"
   ]
  },
  {
   "cell_type": "code",
   "execution_count": 37,
   "metadata": {},
   "outputs": [
    {
     "data": {
      "text/plain": [
       "count    5.600000e+01\n",
       "mean     8.243045e+07\n",
       "std      3.485129e+07\n",
       "min      1.694734e+07\n",
       "25%      5.534794e+07\n",
       "50%      8.870526e+07\n",
       "75%      1.062821e+08\n",
       "max      1.637683e+08\n",
       "Name: revenue, dtype: float64"
      ]
     },
     "execution_count": 37,
     "metadata": {},
     "output_type": "execute_result"
    }
   ],
   "source": [
    "#find general statistics about the revenue\n",
    "mean_revenue_by_years.describe()"
   ]
  },
  {
   "cell_type": "code",
   "execution_count": 38,
   "metadata": {},
   "outputs": [
    {
     "data": {
      "image/png": "[encoded data removed]",
      "text/plain": [
       "<Figure size 1080x648 with 1 Axes>"
      ]
     },
     "metadata": {
      "needs_background": "light"
     },
     "output_type": "display_data"
    }
   ],
   "source": [
    "#plot mean revenue per release year \n",
    "mean_revenue_by_years.plot.bar(x=0, y=1,figsize=(15,9), color='salmon');\n",
    "plt.title('TMDB Movies mean revenue throughout the years');\n",
    "plt.xlabel('Years');\n",
    "plt.ylabel('Mean revenue in 10 Million$');\n",
    "plt.show()"
   ]
  },
  {
   "cell_type": "markdown",
   "metadata": {},
   "source": [
    "From the graph above which is slightly skewed to the left, the movies revenue by the years is similar to the budget's plot,  the mean revenue seems to be at it's lowest in 1966, and at it's highest at 2015 and 2012. "
   ]
  },
  {
   "cell_type": "markdown",
   "metadata": {},
   "source": [
    "<a id='multi'></a>\n",
    "## Multivariate Exploration"
   ]
  },
  {
   "cell_type": "markdown",
   "metadata": {},
   "source": [
    "In this section will try to find the relationship between different variable combinations of the TMDB Movies dataset, starting by creating a correlation heatmap of the dataset\n"
   ]
  },
  {
   "cell_type": "code",
   "execution_count": 39,
   "metadata": {},
   "outputs": [
    {
     "data": {
      "image/png": "[encoded data removed]",
      "text/plain": [
       "<Figure size 720x576 with 2 Axes>"
      ]
     },
     "metadata": {
      "needs_background": "light"
     },
     "output_type": "display_data"
    }
   ],
   "source": [
    "#create a heatmap for tmdb movies\n",
    "plt.figure(figsize=(10,8))\n",
    "sb.heatmap(tmdb_new.corr(), annot=True, cmap='rocket')\n",
    "plt.title('TMDb Correlation Heatmap')\n",
    "plt.xticks(rotation=45);"
   ]
  },
  {
   "cell_type": "markdown",
   "metadata": {},
   "source": [
    "Acoording to the correlation heatmap above, I observed the following:\n",
    "\n",
    "- There is indeed a strong realtionship between the budget and revenue as expected, yet interestingly there also seems to be a strong relationship between revenue and vote count.\n",
    "- There is hardly any relationship between runtime and any other variable, same goes for release_year and unexpectedly vote_average.\n",
    "\n",
    "So I will explore the relationship of the following variables based on the heatmap: **popularity, budget, revenue and vote_count.**"
   ]
  },
  {
   "cell_type": "markdown",
   "metadata": {},
   "source": [
    "Firstly I will create a line plot to demonstrate the relationship between the variables, to do so I will find the mean popularity and mean vote_count by the years, the mean budget and mean revenue by the years have been done previously."
   ]
  },
  {
   "cell_type": "code",
   "execution_count": 40,
   "metadata": {},
   "outputs": [
    {
     "data": {
      "text/plain": [
       "release_year\n",
       "1960    1.324513\n",
       "1961    0.787718\n",
       "1962    0.983485\n",
       "1963    1.040612\n",
       "1964    1.377790\n",
       "Name: popularity, dtype: float64"
      ]
     },
     "execution_count": 40,
     "metadata": {},
     "output_type": "execute_result"
    }
   ],
   "source": [
    "#find the mean popularity per year of movies grouped by their release year\n",
    "mean_popularity_by_years = tmdb_new.groupby('release_year').popularity.mean()\n",
    "mean_popularity_by_years.head()"
   ]
  },
  {
   "cell_type": "code",
   "execution_count": 41,
   "metadata": {},
   "outputs": [
    {
     "data": {
      "text/plain": [
       "release_year\n",
       "1960    372.600000\n",
       "1961    191.400000\n",
       "1962    229.428571\n",
       "1963    262.333333\n",
       "1964    343.428571\n",
       "Name: vote_count, dtype: float64"
      ]
     },
     "execution_count": 41,
     "metadata": {},
     "output_type": "execute_result"
    }
   ],
   "source": [
    "#find the mean vote count per year of movies grouped by their release year\n",
    "mean_votecount_by_years = tmdb_new.groupby('release_year').vote_count.mean()\n",
    "mean_votecount_by_years.head()"
   ]
  },
  {
   "cell_type": "code",
   "execution_count": 42,
   "metadata": {},
   "outputs": [
    {
     "data": {
      "image/png": "[encoded data removed]",
      "text/plain": [
       "<Figure size 1080x576 with 1 Axes>"
      ]
     },
     "metadata": {
      "needs_background": "light"
     },
     "output_type": "display_data"
    }
   ],
   "source": [
    "#creating line plot scaling all variables to be in the range of hundreds\n",
    "plt.figure(figsize=(15,8))\n",
    "plt.plot(mean_popularity_by_years.index, mean_popularity_by_years.values*100, label='Popularity', color='purple')\n",
    "plt.plot(mean_revenue_by_years.index, mean_revenue_by_years.values/1000000, label='Revenue (in 100 millions)', color='black')\n",
    "plt.plot(mean_budget_by_years.index, mean_budget_by_years.values/100000, label='Budget (in 10 millions)', color='orange')\n",
    "plt.plot(mean_votecount_by_years.index, mean_votecount_by_years.values, label='Vote Count', color='navy')\n",
    "plt.title('TMDb Movie Release Year against Means of Popularity, Vote Count, Budget and Revenue')\n",
    "plt.xlabel('Release Months')\n",
    "plt.ylabel('Mean Amount')\n",
    "plt.legend()\n",
    "plt.show();"
   ]
  },
  {
   "cell_type": "markdown",
   "metadata": {},
   "source": [
    "From the previous line plot, which is skewed to the left, it shows that in general all variables tend to increase throughout the years. it also shows that popularity and revenue's lines are quite similar trend wise. "
   ]
  },
  {
   "cell_type": "markdown",
   "metadata": {},
   "source": [
    "To further investigate the variables' relationship I will make a bar plot, to aid the visiualization I will divide the budget, revenue, vote count and popularity by the decades then scale them to be able to plot them properly to investigate their relationship."
   ]
  },
  {
   "cell_type": "code",
   "execution_count": 43,
   "metadata": {},
   "outputs": [],
   "source": [
    "#divide years into decades for visualization\n",
    "#1960-1969\n",
    "sixty = tmdb_new.query('release_year >= 1960 and release_year <= 1969')\n",
    "six = [sixty.popularity.mean(), sixty.revenue.mean(), sixty.budget.mean(), sixty.vote_count.mean()]\n",
    "#1970-1979\n",
    "seventy = tmdb_new.query('release_year >= 1970 and release_year <= 1979')\n",
    "sev = [seventy.popularity.mean(), seventy.revenue.mean(), seventy.budget.mean(), seventy.vote_count.mean()]\n",
    "#1980-1989\n",
    "eighty = tmdb_new.query('release_year >= 1980 and release_year <= 1989')\n",
    "eig = [eighty.popularity.mean(), eighty.revenue.mean(), eighty.budget.mean(), eighty.vote_count.mean()]\n",
    "#1990-1999\n",
    "ninty = tmdb_new.query('release_year >= 1990 and release_year <= 1999')\n",
    "nin = [ninty.popularity.mean(), ninty.revenue.mean(), ninty.budget.mean(), ninty.vote_count.mean()]\n",
    "#2000-2009\n",
    "twozero = tmdb_new.query('release_year >= 2000 and release_year <= 2009')\n",
    "two = [twozero.popularity.mean(), twozero.revenue.mean(), twozero.budget.mean(), twozero.vote_count.mean()]\n",
    "#2010-2015\n",
    "twoten = tmdb_new.query('release_year >= 2010 and release_year <= 2015')\n",
    "ten = [twoten.popularity.mean(), twoten.revenue.mean(), twoten.budget.mean(), twoten.vote_count.mean()]"
   ]
  },
  {
   "cell_type": "code",
   "execution_count": 44,
   "metadata": {},
   "outputs": [],
   "source": [
    "#getting the scaled popularity values\n",
    "popularity1 = [six[0]*100, sev[0]*100, eig[0]*100, nin[0]*100, two[0]*100, ten[0]*100]\n",
    "#getting the scaled revenue values\n",
    "revenue1 = [six[1]/1000000, sev[1]/1000000, eig[1]/1000000, nin[1]/1000000, two[1]/1000000, ten[1]/1000000]\n",
    "#getting the scaled budget values\n",
    "budget1 = [six[2]/100000, sev[2]/100000, eig[2]/100000, nin[2]/100000, two[2]/100000, ten[2]/100000]\n",
    "#getting the scaled vote average values\n",
    "vote1 = [six[3], sev[3], eig[3], nin[3], two[3], ten[3]]"
   ]
  },
  {
   "cell_type": "code",
   "execution_count": 45,
   "metadata": {},
   "outputs": [
    {
     "data": {
      "image/png": "[encoded data removed]",
      "text/plain": [
       "<Figure size 1080x720 with 1 Axes>"
      ]
     },
     "metadata": {
      "needs_background": "light"
     },
     "output_type": "display_data"
    }
   ],
   "source": [
    "#creating decades names for xticks\n",
    "decades = ['1960', '1970', '1980', '1990', '2000', '2010']\n",
    "#creating a bar plot of TMDB Movies Release Years against Popularity, Revenue, Budget and Vote Count Means\n",
    "plt.figure(figsize=(15,10))\n",
    "X = np.arange(6)\n",
    "plt.bar(X + 0.00, popularity1, color='g', alpha=0.7, width = 0.20, label='Popularity')\n",
    "plt.bar(X + 0.20, revenue1, color='brown', alpha=0.7, width = 0.20, label='Revenue')\n",
    "plt.bar(X + 0.40, budget1, color='black', alpha=0.7, width = 0.20, label='Budget')\n",
    "plt.bar(X + 0.60, vote1, color='orange', alpha=0.7, width = 0.20, label='Vote Count')\n",
    "plt.title('TMDB Movies Release Years against Popularity, Revenue, Budget and Vote Count Means')\n",
    "plt.xticks([0, 1, 2, 3, 4, 5], decades)\n",
    "plt.xlabel('Release Years')\n",
    "plt.ylabel('Mean Amount')\n",
    "plt.legend()\n",
    "plt.show();"
   ]
  },
  {
   "cell_type": "markdown",
   "metadata": {},
   "source": [
    "From the bar plot above it seems that there is not a clear trend going across the variables, for instance the mean vote count is clearly inceasing throughout the years so does the budget mean and revenue mean. as for the popularity mean it is fluctuating."
   ]
  },
  {
   "cell_type": "markdown",
   "metadata": {},
   "source": [
    "### Talk about some of the relationships you observed in this part of the investigation. \n",
    "\n",
    "Through the exploration of the TMDB Movies dataset, I noticed that there are some relationships between the variables according to the correlation heatmap such as: relationship between vote count and popularity, also budget and revenue. surprisingly there is also a relationship between vote count and revenue. mosts of the plots are left skewed and the overall trend of the data seems to be increasing over the years except for the vote count and budget which started to decrease from the 2010s.\n",
    "\n",
    "### Were there any interesting or surprising interactions between features?\n",
    "\n",
    "I didn't expect the vote count and budget ,revenue and vote count to be somewhat correlated, I expected vote average to be more correlated but it wasn't according to the correlation heatmap.   "
   ]
  },
  {
   "cell_type": "markdown",
   "metadata": {},
   "source": [
    "### As a summary I will answer the questions asked previously:\n",
    "\n",
    "**1- Do higher budget movies have higher revenues?**\n",
    "\n",
    "yes, as investigated there is a relationship between budget and revenue, most of the highest movies budget fall between the range of 50 million to 200 millions and most of their corresponding revenue values fall between less than 500 million up to 1 billion dollars, which is more defined and correlated than the relationship of the highest revenue movies with their corresponding budget.\n",
    "\n",
    "**2- How different movie budgets are throughout the years and Is there a relationship between the movie's release year and its budget?**\n",
    "\n",
    "the mean of movies budget is definitely increasing througout the years, and No there is not relationship between the movies release year and its budget as shown previously in the correlation heatmap.\n",
    "\n",
    "**3- What are the relationships between the variables of TMDB movies dataset?**\n",
    "\n",
    "Through the exploration of the TMDB Movies dataset, I noticed that there are some relationships between the variables according to the correlation heatmap such as: relationship between vote count and popularity, also budget and revenue. surprisingly there is also a relationship between vote count and revenue. mosts of the plots are left skewed and the overall trend of the data seems to be increasing over the years except for the vote count and budget which started to decrease from the 2010s"
   ]
  }
 ],
 "metadata": {
  "kernelspec": {
   "display_name": "Python 3",
   "language": "python",
   "name": "python3"
  },
  "language_info": {
   "codemirror_mode": {
    "name": "ipython",
    "version": 3
   },
   "file_extension": ".py",
   "mimetype": "text/x-python",
   "name": "python",
   "nbconvert_exporter": "python",
   "pygments_lexer": "ipython3",
   "version": "3.8.3"
  }
 },
 "nbformat": 4,
 "nbformat_minor": 4
}
