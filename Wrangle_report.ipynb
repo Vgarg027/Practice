{
 "cells": [
  {
   "cell_type": "markdown",
   "id": "e6b2ecf3",
   "metadata": {},
   "source": [
    "### Wrangle report"
   ]
  },
  {
   "cell_type": "markdown",
   "id": "a4eeb9cc",
   "metadata": {},
   "source": [
    "### I gathered three differents datasets using differents methods and from different sources . I downloaded the first dataset as a csv file and read it in my wrnagle_act notebook, the second dataset i downloaded from the udacity server. The second dataset was a tsv file hosted on the server. The last dataset was in a json text format which was the result from the twitter API querry with tweepy. \n",
    "#### After the data gathering process, i accessed these datasets, visually and programmatically. During the programmatic assesssment process , i used some pandas methods such as .sample , .info and other pandas methods.\n",
    "#### I discovered 10 issues during this assessment. Eight quality isssues and two programmatic issues. \n",
    "### `The tidiness issues were :`\n",
    "- Dog stages columns - doggo,floofer,pupper,puppo\n",
    "- All three tables should be in one table - the same unit type\n",
    "\n",
    "### `The quality issues were the following:`\n",
    "- Sources were in href form\n",
    "- Timestamp datatype should be datetime object\n",
    "- The additional string in the date time format('+0000')\n",
    "- Duplicates in the text column - as a result of retweets\n",
    "- Irrelevant columns\n",
    "- Rating denominators that are above and below 10\n",
    "- Rows that do not contain information related to dog rating\n",
    "- Inaccurate names in the names column\n",
    "- Missing urls in expanded url column\n",
    "- Outliers in the rating numerator column\n",
    "### I documented this issues in my noted book, then proceeded to the cleaning stage. I first made copies of each dataframe before i started the cleaning. I was unable to solve some quality issues like filling the missing values in the expanded url column and the outliers in the rating_numerator columns. I cleaned all other issues using some code snippets, while defining each issue and testing my code snippets. I also got all my issues from just the twitter archive dataframe, the other dataframes are free from these issues. After cleaning and documenting, i merged all the datasets into one master dataframe and saved the wrangled datasets in csv files. \n"
   ]
  },
  {
   "cell_type": "code",
   "execution_count": null,
   "id": "bbfbb613",
   "metadata": {},
   "outputs": [],
   "source": []
  }
 ],
 "metadata": {
  "kernelspec": {
   "display_name": "Python 3 (ipykernel)",
   "language": "python",
   "name": "python3"
  },
  "language_info": {
   "codemirror_mode": {
    "name": "ipython",
    "version": 3
   },
   "file_extension": ".py",
   "mimetype": "text/x-python",
   "name": "python",
   "nbconvert_exporter": "python",
   "pygments_lexer": "ipython3",
   "version": "3.9.12"
  }
 },
 "nbformat": 4,
 "nbformat_minor": 5
}
