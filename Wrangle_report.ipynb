{
 "cells": [
  {
   "cell_type": "markdown",
   "id": "4214d77f",
   "metadata": {},
   "source": [
    "## Reporting: wrangle_report\n"
   ]
  },
  {
   "cell_type": "markdown",
   "id": "194555e7",
   "metadata": {},
   "source": [
    "After gathering all the dataset needed from various sources, i assessed the data visually and programmatically in the jupyter notebook.\n",
    "During assessment i noted quality and tidiness issues in the dataset\n",
    "\n",
    "Firstly i merged the three datasets into one to aid my efficiency in wrangling.                                                   \n",
    "other work done during the data wrangling process are as follows:\n",
    "\n",
    "The tweet_id data was in int, i changed it to string using type conversion\n",
    "\n",
    "Drop retweeted columns using dropna method \n",
    "\n",
    "Converted timestamp to datetime data type using pd.to_datetime function and also extracted year, month and day into separate columns.\n",
    "\n",
    "Used str.title method to capitalize first letters of the name columns\n",
    " \n",
    "Replaced none values using np.nan function  \n",
    " \n",
    "Extracted doggo, floofer, pupper and puppo into one column.\n",
    " \n",
    " \n",
    "\n",
    "\n"
   ]
  },
  {
   "cell_type": "markdown",
   "id": "18f31d4e",
   "metadata": {},
   "source": []
  }
 ],
 "metadata": {
  "kernelspec": {
   "display_name": "Python 3 (ipykernel)",
   "language": "python",
   "name": "python3"
  },
  "language_info": {
   "codemirror_mode": {
    "name": "ipython",
    "version": 3
   },
   "file_extension": ".py",
   "mimetype": "text/x-python",
   "name": "python",
   "nbconvert_exporter": "python",
   "pygments_lexer": "ipython3",
   "version": "3.9.7"
  }
 },
 "nbformat": 4,
 "nbformat_minor": 5
}
