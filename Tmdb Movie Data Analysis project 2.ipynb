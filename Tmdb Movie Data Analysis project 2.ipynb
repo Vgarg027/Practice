{
 "cells": [
  {
   "cell_type": "markdown",
   "metadata": {},
   "source": [
    "# Data Exploration"
   ]
  },
  {
   "cell_type": "markdown",
   "metadata": {},
   "source": [
    "#I have worked on a movie data which contains 10867 rows and 21 columns collected from\n",
    "The Movie Database (TMDb).\n",
    "The data contains information like genre of movies, director, run time, budget, revenue earned etc.\n",
    "It is a vast data and there are many variables that are unusable , for example Adjusted budget and Adjusted revenue . Therefore I have taken normal budget and revenue to make analysis.\n",
    "\n",
    "In order to present my analysis I have taken only 3 variables as there are many variables like \"keywords, genre which contains multiple words making the analysis a bit complicated .\n",
    "Therefore I have ignored them too.\n",
    "I have also worked on two questions .\n",
    "Please find further details in the project."
   ]
  },
  {
   "cell_type": "markdown",
   "metadata": {},
   "source": [
    "# Data Wrangling"
   ]
  },
  {
   "cell_type": "markdown",
   "metadata": {},
   "source": [
    "### Gather\n",
    "I have gathered the data from Kaggle.                                                                                                                                           "
   ]
  },
  {
   "cell_type": "markdown",
   "metadata": {},
   "source": [
    "### Assess\n",
    "Then I did a visual analysis of the data . I found out there are columns like keywords and genres  which contain more than one keyword making it impossible to use ;"
   ]
  },
  {
   "cell_type": "code",
   "execution_count": 1,
   "metadata": {},
   "outputs": [],
   "source": [
    "import pandas as pd\n",
    "import numpy as np\n",
    "from matplotlib import pyplot as plt\n"
   ]
  },
  {
   "cell_type": "code",
   "execution_count": 18,
   "metadata": {},
   "outputs": [
    {
     "name": "stdout",
     "output_type": "stream",
     "text": [
      "       id    imdb_id  popularity     budget     revenue  \\\n",
      "0  135397  tt0369610   32.985763  150000000  1513528810   \n",
      "1   76341  tt1392190   28.419936  150000000   378436354   \n",
      "2  262500  tt2908446   13.112507  110000000   295238201   \n",
      "3  140607  tt2488496   11.173104  200000000  2068178225   \n",
      "4  168259  tt2820852    9.335014  190000000  1506249360   \n",
      "5  281957  tt1663202    9.110700  135000000   532950503   \n",
      "6   87101  tt1340138    8.654359  155000000   440603537   \n",
      "7  286217  tt3659388    7.667400  108000000   595380321   \n",
      "8  211672  tt2293640    7.404165   74000000  1156730962   \n",
      "9  150540  tt2096673    6.326804  175000000   853708609   \n",
      "\n",
      "                 original_title  \\\n",
      "0                Jurassic World   \n",
      "1            Mad Max: Fury Road   \n",
      "2                     Insurgent   \n",
      "3  Star Wars: The Force Awakens   \n",
      "4                     Furious 7   \n",
      "5                  The Revenant   \n",
      "6            Terminator Genisys   \n",
      "7                   The Martian   \n",
      "8                       Minions   \n",
      "9                    Inside Out   \n",
      "\n",
      "                                                cast  \\\n",
      "0  Chris Pratt|Bryce Dallas Howard|Irrfan Khan|Vi...   \n",
      "1  Tom Hardy|Charlize Theron|Hugh Keays-Byrne|Nic...   \n",
      "2  Shailene Woodley|Theo James|Kate Winslet|Ansel...   \n",
      "3  Harrison Ford|Mark Hamill|Carrie Fisher|Adam D...   \n",
      "4  Vin Diesel|Paul Walker|Jason Statham|Michelle ...   \n",
      "5  Leonardo DiCaprio|Tom Hardy|Will Poulter|Domhn...   \n",
      "6  Arnold Schwarzenegger|Jason Clarke|Emilia Clar...   \n",
      "7  Matt Damon|Jessica Chastain|Kristen Wiig|Jeff ...   \n",
      "8  Sandra Bullock|Jon Hamm|Michael Keaton|Allison...   \n",
      "9  Amy Poehler|Phyllis Smith|Richard Kind|Bill Ha...   \n",
      "\n",
      "                                            homepage  \\\n",
      "0                      http://www.jurassicworld.com/   \n",
      "1                        http://www.madmaxmovie.com/   \n",
      "2     http://www.thedivergentseries.movie/#insurgent   \n",
      "3  http://www.starwars.com/films/star-wars-episod...   \n",
      "4                           http://www.furious7.com/   \n",
      "5       http://www.foxmovies.com/movies/the-revenant   \n",
      "6                    http://www.terminatormovie.com/   \n",
      "7        http://www.foxmovies.com/movies/the-martian   \n",
      "8                       http://www.minionsmovie.com/   \n",
      "9                http://movies.disney.com/inside-out   \n",
      "\n",
      "                         director  \\\n",
      "0                 Colin Trevorrow   \n",
      "1                   George Miller   \n",
      "2                Robert Schwentke   \n",
      "3                     J.J. Abrams   \n",
      "4                       James Wan   \n",
      "5  Alejandro GonzÃ¡lez IÃ±Ã¡rritu   \n",
      "6                     Alan Taylor   \n",
      "7                    Ridley Scott   \n",
      "8        Kyle Balda|Pierre Coffin   \n",
      "9                     Pete Docter   \n",
      "\n",
      "                                           tagline  ...  \\\n",
      "0                                The park is open.  ...   \n",
      "1                               What a Lovely Day.  ...   \n",
      "2                       One Choice Can Destroy You  ...   \n",
      "3                    Every generation has a story.  ...   \n",
      "4                              Vengeance Hits Home  ...   \n",
      "5  (n. One who has returned, as if from the dead.)  ...   \n",
      "6                                 Reset the future  ...   \n",
      "7                                   Bring Him Home  ...   \n",
      "8     Before Gru, they had a history of bad bosses  ...   \n",
      "9         Meet the little voices inside your head.  ...   \n",
      "\n",
      "                                            overview runtime  \\\n",
      "0  Twenty-two years after the events of Jurassic ...     124   \n",
      "1  An apocalyptic story set in the furthest reach...     120   \n",
      "2  Beatrice Prior must confront her inner demons ...     119   \n",
      "3  Thirty years after defeating the Galactic Empi...     136   \n",
      "4  Deckard Shaw seeks revenge against Dominic Tor...     137   \n",
      "5  In the 1820s, a frontiersman, Hugh Glass, sets...     156   \n",
      "6  The year is 2029. John Connor, leader of the r...     125   \n",
      "7  During a manned mission to Mars, Astronaut Mar...     141   \n",
      "8  Minions Stuart, Kevin and Bob are recruited by...      91   \n",
      "9  Growing up can be a bumpy road, and it's no ex...      94   \n",
      "\n",
      "                                      genres  \\\n",
      "0  Action|Adventure|Science Fiction|Thriller   \n",
      "1  Action|Adventure|Science Fiction|Thriller   \n",
      "2         Adventure|Science Fiction|Thriller   \n",
      "3   Action|Adventure|Science Fiction|Fantasy   \n",
      "4                      Action|Crime|Thriller   \n",
      "5           Western|Drama|Adventure|Thriller   \n",
      "6  Science Fiction|Action|Thriller|Adventure   \n",
      "7            Drama|Adventure|Science Fiction   \n",
      "8          Family|Animation|Adventure|Comedy   \n",
      "9                    Comedy|Animation|Family   \n",
      "\n",
      "                                production_companies release_date vote_count  \\\n",
      "0  Universal Studios|Amblin Entertainment|Legenda...       6/9/15       5562   \n",
      "1  Village Roadshow Pictures|Kennedy Miller Produ...      5/13/15       6185   \n",
      "2  Summit Entertainment|Mandeville Films|Red Wago...      3/18/15       2480   \n",
      "3          Lucasfilm|Truenorth Productions|Bad Robot     12/15/15       5292   \n",
      "4  Universal Pictures|Original Film|Media Rights ...       4/1/15       2947   \n",
      "5  Regency Enterprises|Appian Way|CatchPlay|Anony...     12/25/15       3929   \n",
      "6            Paramount Pictures|Skydance Productions      6/23/15       2598   \n",
      "7  Twentieth Century Fox Film Corporation|Scott F...      9/30/15       4572   \n",
      "8      Universal Pictures|Illumination Entertainment      6/17/15       2893   \n",
      "9  Walt Disney Pictures|Pixar Animation Studios|W...       6/9/15       3935   \n",
      "\n",
      "   vote_average  release_year    budget_adj   revenue_adj  \n",
      "0           6.5          2015  1.379999e+08  1.392446e+09  \n",
      "1           7.1          2015  1.379999e+08  3.481613e+08  \n",
      "2           6.3          2015  1.012000e+08  2.716190e+08  \n",
      "3           7.5          2015  1.839999e+08  1.902723e+09  \n",
      "4           7.3          2015  1.747999e+08  1.385749e+09  \n",
      "5           7.2          2015  1.241999e+08  4.903142e+08  \n",
      "6           5.8          2015  1.425999e+08  4.053551e+08  \n",
      "7           7.6          2015  9.935996e+07  5.477497e+08  \n",
      "8           6.5          2015  6.807997e+07  1.064192e+09  \n",
      "9           8.0          2015  1.609999e+08  7.854116e+08  \n",
      "\n",
      "[10 rows x 21 columns]\n"
     ]
    }
   ],
   "source": [
    "data = pd.read_csv(r\"C:\\Users\\Sudhir\\Downloads\\tmdb-movies.csv\")\n",
    "print(data.head(10))"
   ]
  },
  {
   "cell_type": "markdown",
   "metadata": {},
   "source": [
    "## Clean\n",
    "1)I have used \"sort & filter\" on the basis of revenue from largest to smallest. \n",
    "\n",
    "2)Then I have removed zero vales from the budget and revenue columns of our data set.\n",
    "   "
   ]
  },
  {
   "cell_type": "code",
   "execution_count": 3,
   "metadata": {},
   "outputs": [],
   "source": [
    "data.drop(data[ (data['budget'] == 0)&(data['revenue'] == 0)].index , inplace=True)"
   ]
  },
  {
   "cell_type": "markdown",
   "metadata": {},
   "source": [
    "# How does \"run time\" affects the rating of a movie?"
   ]
  },
  {
   "cell_type": "code",
   "execution_count": 4,
   "metadata": {},
   "outputs": [],
   "source": [
    "# run time from 60 minutes to 240 minutes has been considered in my evaluation\n",
    "# I will divide the run time with a gap of 30minutes\n",
    "# Relationship between the Run time and ratings will be evaluated with the help of graph\n",
    "# Conclusion of above question will be provided basis  my findings\n",
    "# All the codes used will be here in Jupyter notebook only"
   ]
  },
  {
   "cell_type": "code",
   "execution_count": 5,
   "metadata": {},
   "outputs": [],
   "source": [
    "new_data = data[['runtime','vote_average','original_title']]"
   ]
  },
  {
   "cell_type": "code",
   "execution_count": 6,
   "metadata": {},
   "outputs": [],
   "source": [
    "#I have selected only 3  columns which are relevant to the above question and I have created a new data frame."
   ]
  },
  {
   "cell_type": "code",
   "execution_count": 7,
   "metadata": {},
   "outputs": [],
   "source": [
    "new_data = new_data[(60<=new_data[\"runtime\"])&(new_data[\"runtime\"]<=240)]"
   ]
  },
  {
   "cell_type": "code",
   "execution_count": 8,
   "metadata": {},
   "outputs": [
    {
     "name": "stdout",
     "output_type": "stream",
     "text": [
      "6123\n"
     ]
    }
   ],
   "source": [
    "print(len(new_data))"
   ]
  },
  {
   "cell_type": "code",
   "execution_count": 9,
   "metadata": {},
   "outputs": [],
   "source": [
    "#I have filtered the data on the basis of run time. Using the \"and\" operator between two conditions.\n",
    "# Condition 1\n",
    "    #- the run time should be greater than 60 minutes\n",
    "    #- the run time should be less than 240 minutes"
   ]
  },
  {
   "cell_type": "code",
   "execution_count": 10,
   "metadata": {},
   "outputs": [],
   "source": [
    "new_data[\"runtime_bin\"] = pd.cut(new_data[\"runtime\"],range(60, 241, 30))"
   ]
  },
  {
   "cell_type": "code",
   "execution_count": 11,
   "metadata": {},
   "outputs": [],
   "source": [
    "#I have created a new \"30 minutes interval\" category columnn that is \"runtime_bin\" which will classify \n",
    "#the data into different categories. It will show the movies falling in respective time interval."
   ]
  },
  {
   "cell_type": "code",
   "execution_count": 12,
   "metadata": {},
   "outputs": [
    {
     "name": "stdout",
     "output_type": "stream",
     "text": [
      "       runtime  vote_average                original_title runtime_bin\n",
      "0          124           6.5                Jurassic World  (120, 150]\n",
      "1          120           7.1            Mad Max: Fury Road   (90, 120]\n",
      "2          119           6.3                     Insurgent   (90, 120]\n",
      "3          136           7.5  Star Wars: The Force Awakens  (120, 150]\n",
      "4          137           7.3                     Furious 7  (120, 150]\n",
      "...        ...           ...                           ...         ...\n",
      "10835      182           7.0              The Sand Pebbles  (180, 210]\n",
      "10841       82           5.5                  The Shooting    (60, 90]\n",
      "10848      100           6.7              Fantastic Voyage   (90, 120]\n",
      "10855       90           6.1       The Ghost & Mr. Chicken    (60, 90]\n",
      "10865       74           1.5      Manos: The Hands of Fate    (60, 90]\n",
      "\n",
      "[6123 rows x 4 columns]\n"
     ]
    }
   ],
   "source": [
    "print(new_data)"
   ]
  },
  {
   "cell_type": "code",
   "execution_count": 13,
   "metadata": {
    "scrolled": false
   },
   "outputs": [
    {
     "data": {
      "text/plain": [
       "<AxesSubplot:ylabel='runtime_bin'>"
      ]
     },
     "execution_count": 13,
     "metadata": {},
     "output_type": "execute_result"
    },
    {
     "data": {
      "image/png": "[encoded data removed]",
      "text/plain": [
       "<Figure size 432x288 with 1 Axes>"
      ]
     },
     "metadata": {
      "needs_background": "light"
     },
     "output_type": "display_data"
    }
   ],
   "source": [
    "averages_by_bin = new_data.groupby(\"runtime_bin\").vote_average.mean()\n",
    "averages_by_bin.plot.barh()"
   ]
  },
  {
   "cell_type": "code",
   "execution_count": 14,
   "metadata": {},
   "outputs": [
    {
     "name": "stdout",
     "output_type": "stream",
     "text": [
      "<class 'pandas.core.series.Series'>\n"
     ]
    }
   ],
   "source": [
    "#1)Now I have grouped our data bu run time mean.\n",
    "#2)By this mean methoed, I have created a pandas series of average values of \"vote_average\"\n",
    "#column for each group of data\n",
    "#3)I have created a horizontal bar graph having runtime intervals on Y-axis and vote average on X-axis.\n",
    "print(type(averages_by_bin))"
   ]
  },
  {
   "cell_type": "markdown",
   "metadata": {},
   "source": [
    "# Conclusion\n",
    "1)Lesser ratings given to short movies\n",
    "\n",
    "2)Duratin does not affect the ratings much\n",
    "\n",
    "3)As per the data  maximum rating has been given to the movies which were between 210 minutes to 240 minutes (3-4 hours). This means longer duration movies has gained higher ratings .\n",
    "\n",
    "4)On the basis of above conclusion I have also found some of my favourite movies like \"Jodhaa Akbar\"\n"
   ]
  },
  {
   "cell_type": "markdown",
   "metadata": {},
   "source": [
    "# Dependency of profit/loss on director"
   ]
  },
  {
   "cell_type": "code",
   "execution_count": 15,
   "metadata": {},
   "outputs": [],
   "source": [
    "#I have selected only 4 columns which are relevant to the above question and I have created a new data frame."
   ]
  },
  {
   "cell_type": "code",
   "execution_count": 16,
   "metadata": {},
   "outputs": [],
   "source": [
    "#data wrangling\n",
    "#There are many missing values in the data"
   ]
  },
  {
   "cell_type": "code",
   "execution_count": 19,
   "metadata": {},
   "outputs": [],
   "source": [
    "new_data = data[['budget','revenue','director','original_title','genres']]"
   ]
  },
  {
   "cell_type": "code",
   "execution_count": null,
   "metadata": {},
   "outputs": [],
   "source": [
    "new_data['P/L'] = new_data.apply(lambda row: row.revenue - row.budget, axis=1)\n",
    "print(new_data.head(200))"
   ]
  },
  {
   "cell_type": "code",
   "execution_count": null,
   "metadata": {},
   "outputs": [],
   "source": [
    "print(len(new_data))"
   ]
  },
  {
   "cell_type": "code",
   "execution_count": null,
   "metadata": {},
   "outputs": [],
   "source": [
    "# I have sorted the data frame by profit and loss."
   ]
  },
  {
   "cell_type": "code",
   "execution_count": null,
   "metadata": {},
   "outputs": [],
   "source": [
    "new_data.sort_values(by=['P/L'])"
   ]
  },
  {
   "cell_type": "code",
   "execution_count": null,
   "metadata": {},
   "outputs": [],
   "source": [
    "new_group = new_data.groupby(['director'])"
   ]
  },
  {
   "cell_type": "code",
   "execution_count": null,
   "metadata": {},
   "outputs": [],
   "source": [
    "dir = []\n",
    "summ = []\n",
    "for i,j in new_group:\n",
    "    dir.append(i)\n",
    "    summ.append(j['P/L'].sum())\n",
    "data = {'director' : dir, 'pl' : summ}\n",
    "df=pd.DataFrame.from_dict(data)"
   ]
  },
  {
   "cell_type": "code",
   "execution_count": null,
   "metadata": {},
   "outputs": [],
   "source": [
    "print(len(dir))"
   ]
  },
  {
   "cell_type": "code",
   "execution_count": null,
   "metadata": {},
   "outputs": [],
   "source": [
    "print(df[df.pl == df.pl.max()])"
   ]
  },
  {
   "cell_type": "code",
   "execution_count": null,
   "metadata": {},
   "outputs": [],
   "source": [
    "print(df[df.pl == df.pl.min()])"
   ]
  },
  {
   "cell_type": "code",
   "execution_count": null,
   "metadata": {},
   "outputs": [],
   "source": [
    "#Due to the large number of movies directed by Steven Spielberg, I have considered top 10 movies \n",
    "#with maximum profit."
   ]
  },
  {
   "cell_type": "code",
   "execution_count": null,
   "metadata": {
    "scrolled": true
   },
   "outputs": [],
   "source": [
    "nd=new_data[new_data.director=='Steven Spielberg'].head(10)"
   ]
  },
  {
   "cell_type": "code",
   "execution_count": null,
   "metadata": {},
   "outputs": [],
   "source": [
    "nd[['original_title','budget','revenue']].plot(x='original_title', \n",
    "        kind='bar', \n",
    "        stacked=False, \n",
    "        title='Revenue and Budget for movies by Steven Speilberg')"
   ]
  },
  {
   "cell_type": "code",
   "execution_count": 20,
   "metadata": {},
   "outputs": [],
   "source": [
    "nd2=new_data[new_data.director=='Steven Spielberg']"
   ]
  },
  {
   "cell_type": "code",
   "execution_count": 21,
   "metadata": {},
   "outputs": [],
   "source": [
    "genre=list(nd2['genres'].unique())"
   ]
  },
  {
   "cell_type": "code",
   "execution_count": 25,
   "metadata": {},
   "outputs": [],
   "source": [
    "operation = lambda x:len(nd2[nd2['genres']==x])\n",
    "\n",
    "new_list = list(map(operation, genre))"
   ]
  },
  {
   "cell_type": "code",
   "execution_count": 26,
   "metadata": {},
   "outputs": [
    {
     "name": "stdout",
     "output_type": "stream",
     "text": [
      "['Thriller|Drama', 'Science Fiction|Drama', 'Drama|Science Fiction|Adventure', 'Adventure|Action', 'Adventure|Animation|Action|Family|Mystery', 'Drama|War', 'Drama|Crime', 'Action|Thriller|Science Fiction|Mystery', 'Drama|History|Mystery', 'Adventure|Action|Science Fiction', 'Drama', 'Adventure|Thriller|Science Fiction', 'Drama|Action|History|Thriller', 'Comedy|Drama', 'Action|Comedy', 'Science Fiction|Adventure|Family|Fantasy', 'Drama|History|War', 'Fantasy|Drama|Romance', 'Adventure|Fantasy|Comedy|Family', 'Action|Crime|Drama', 'Horror|Thriller|Adventure', 'Horror|Action|Mystery|Thriller', 'Adventure|Science Fiction'] [1, 1, 1, 4, 1, 2, 1, 1, 1, 1, 1, 1, 1, 1, 1, 1, 3, 1, 1, 1, 1, 1, 1]\n"
     ]
    }
   ],
   "source": [
    "print(genre,new_list)"
   ]
  },
  {
   "cell_type": "markdown",
   "metadata": {},
   "source": [
    "#Below given pie chart shows the 1d exploration of the different genres of movies made by Steven Speilberg \n",
    "I have included three variables in my data mentioned above "
   ]
  },
  {
   "cell_type": "code",
   "execution_count": 27,
   "metadata": {},
   "outputs": [
    {
     "data": {
      "image/png": "[encoded data removed]",
      "text/plain": [
       "<Figure size 432x288 with 1 Axes>"
      ]
     },
     "metadata": {},
     "output_type": "display_data"
    }
   ],
   "source": [
    "plt.pie(new_list,labels=genre,autopct='%1.1f%%')\n",
    "plt.title('My Tasks')\n",
    "plt.axis('equal')\n",
    "plt.show()"
   ]
  },
  {
   "cell_type": "code",
   "execution_count": null,
   "metadata": {},
   "outputs": [],
   "source": [
    "df[df.pl == df.pl.max()]['director']"
   ]
  },
  {
   "cell_type": "code",
   "execution_count": null,
   "metadata": {},
   "outputs": [],
   "source": [
    "#I have grouped the data together by directors.\n",
    "# I have created new data frame having two columns as director and net Profit/loss\n",
    "#I have found out the directors who have earned Maximum profit and maximum loss."
   ]
  },
  {
   "cell_type": "markdown",
   "metadata": {},
   "source": [
    "#CONCLUSION"
   ]
  },
  {
   "cell_type": "markdown",
   "metadata": {},
   "source": [
    "1) Steven Spielberg earned the Maximum profit of $7467063772\n",
    "\n",
    "2) Sngmoo Lee suffered maximum loss of $413912431\n",
    "\n",
    "#Limitations:\n",
    "1)The data contains too many null values. Therefore, I have eliminated them in order to ascertain the answers for above mentioned questions.\n",
    "2)Movies directed by the Steven Spienberg are large in number,Therefore I have considered only top 10 movies."
   ]
  },
  {
   "cell_type": "markdown",
   "metadata": {},
   "source": [
    "# Website used\n",
    "1)stackoverflow\n",
    "https://stackoverflow.com/\n",
    "2)pandas\n",
    "https://pandas.pydata.org/docs/\n"
   ]
  }
 ],
 "metadata": {
  "kernelspec": {
   "display_name": "Python 3",
   "language": "python",
   "name": "python3"
  },
  "language_info": {
   "codemirror_mode": {
    "name": "ipython",
    "version": 3
   },
   "file_extension": ".py",
   "mimetype": "text/x-python",
   "name": "python",
   "nbconvert_exporter": "python",
   "pygments_lexer": "ipython3",
   "version": "3.8.5"
  }
 },
 "nbformat": 4,
 "nbformat_minor": 4
}
