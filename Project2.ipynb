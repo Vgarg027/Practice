{
 "cells": [
  {
   "cell_type": "markdown",
   "id": "ac287f64",
   "metadata": {},
   "source": [
    "# Project 2: Wrangling And Analyzing Of WeRateDogs Data"
   ]
  },
  {
   "cell_type": "markdown",
   "id": "b5ec00bc",
   "metadata": {},
   "source": [
    "# Introduction:\n",
    "\n",
    ">This dataset comprises of over 2k tweets from a twitter user '@dog_rates', also known as 'WeRateDogs'.\n",
    ">weRateDogs is a twitter account with over 4million followers and has recieved international media coverage, which focuses on rating people's dogs with a humorous comment about the dogs to it's followers.\n",
    ">\n",
    ">This Dataset comprises of some notable columns such as;\n",
    ">\n",
    ">**Tweet ID**\n",
    ">\n",
    ">**Timestamp**\n",
    ">\n",
    ">**Tweet Text**\n",
    ">\n",
    ">**Retweet_Count**\n",
    ">\n",
    ">**Favorite_Count**\n",
    ">\n",
    ">**Source**\n",
    ">\n",
    ">etc\n",
    ">\n",
    "## One of the sole purpose of this analysis, is to clean, analyze and find some important trends and patterns through the data, such as;\n",
    ">\n",
    ">1.\tWhat are the total number of each dogs in the dog_stage column?\n",
    ">\n",
    ">2.\tWhat is the average rating of each dog in the dog_stage?\n",
    ">\n",
    ">3.\tWhat is the total count of retweets on each rating?\n",
    ">\n",
    ">4.\tWhat is the total count of favorite on each rating?\n",
    ">\n",
    ">5.\tIs there any correlation between any of the variables?\n"
   ]
  },
  {
   "cell_type": "code",
   "execution_count": 1,
   "id": "eff78169",
   "metadata": {},
   "outputs": [],
   "source": [
    "#Importing all the necessary packages\n",
    "import pandas as pd\n",
    "import numpy as np\n",
    "import requests as rt\n",
    "import os\n",
    "import json\n",
    "import tweepy\n",
    "from time import time\n",
    "import matplotlib.pyplot as plt\n",
    "import seaborn as sns\n",
    "from bs4 import BeautifulSoup as bs "
   ]
  },
  {
   "cell_type": "markdown",
   "id": "0a1d3da6",
   "metadata": {},
   "source": [
    "# Data Wrangling\n",
    "\n",
    "\n",
    "### Gathering Data\n",
    ">\n",
    ">I'm required to gather the data for this project from three **(3)** different sources, namely;\n",
    ">\n",
    ">**WeRateDogs Twitter Archive**\n",
    ">\n",
    ">**Tweet Image Prediction**\n",
    ">\n",
    ">**Twitter API**"
   ]
  },
  {
   "cell_type": "markdown",
   "id": "fa564e8c",
   "metadata": {},
   "source": [
    "#### WeRateDogs Twitter Archive\n",
    ">\n",
    ">This data have been dowloaded directly from the source and saved directly in my system as \"twitter_archieved_enhanced.csv\", which I'm going load into a pandas dataframe."
   ]
  },
  {
   "cell_type": "code",
   "execution_count": 2,
   "id": "7a0b0ec0",
   "metadata": {},
   "outputs": [],
   "source": [
    "# Loading the data into pandas dataframe\n",
    "archive_data = pd.read_csv('twitter-archive-enhanced.csv')"
   ]
  },
  {
   "cell_type": "markdown",
   "id": "4df0870b",
   "metadata": {},
   "source": [
    "#### Tweet Image Prediction\n",
    ">\n",
    ">This file is hosted on udacity's server, which I will be downloading programmatically using the Python Request Package and the udacity's server url."
   ]
  },
  {
   "cell_type": "code",
   "execution_count": 3,
   "id": "f45694c4",
   "metadata": {},
   "outputs": [],
   "source": [
    "# Creating an 'image_data' folder using the 'os' package\n",
    "folder = 'image_data'\n",
    "if not os.path.exists(folder):\n",
    "    os.makedirs(folder)"
   ]
  },
  {
   "cell_type": "code",
   "execution_count": 4,
   "id": "2c55c4c1",
   "metadata": {},
   "outputs": [],
   "source": [
    "# url source hosting the data\n",
    "source = 'https://d17h27t6h515a5.cloudfront.net/topher/2017/August/599fd2ad_image-predictions/image-predictions.tsv'\n",
    "\n",
    "#Using the python \"Request\" package in getting the data\n",
    "output = rt.get(source)"
   ]
  },
  {
   "cell_type": "code",
   "execution_count": 5,
   "id": "6052a84c",
   "metadata": {},
   "outputs": [],
   "source": [
    "# Extracting the data and savingb it in the 'image_folder'\n",
    "with open(os.path.join(folder, source.split('/')[-1]), 'wb') as file:\n",
    "    file.write(output.content)"
   ]
  },
  {
   "cell_type": "code",
   "execution_count": 6,
   "id": "c5ddee19",
   "metadata": {},
   "outputs": [],
   "source": [
    "# Lists the content of the 'image_data' folder\n",
    "os.listdir(folder)"
   ]
  },
  {
   "cell_type": "code",
   "execution_count": 7,
   "id": "dba94b78",
   "metadata": {},
   "outputs": [],
   "source": [
    "# Loading the file into pandas dataframe\n",
    "image_data = pd.read_csv('image_data/image-predictions.tsv', sep=\"\\t\")"
   ]
  },
  {
   "cell_type": "markdown",
   "id": "b43f89b9",
   "metadata": {},
   "source": [
    "#### Twitter API\n",
    ">\n",
    ">I'm to query the Twitter API for each tweet's JSON data using the Python's Tweepy package and store it's data in the 'tweet_json.text' file."
   ]
  },
  {
   "cell_type": "code",
   "execution_count": 8,
   "id": "4773b619",
   "metadata": {},
   "outputs": [],
   "source": [
    "# Twitter access keys and tokens\n",
    "con_key = 'avZBF***************u0REw'\n",
    "con_sec = '3My49CYkX**************************Fua9hndPZpFFXQW'\n",
    "acs_key = '2325158768-XqY*****************************RmbE4KX'\n",
    "acs_sec = 'YslEm5************************jDt4rpYbRVg7DHC'\n",
    "\n",
    "\n",
    "# authenticating the access keys and tokens\n",
    "auth = tweepy.OAuth1UserHandler(con_key, con_sec)\n",
    "auth.set_access_token(acs_key, acs_sec)\n",
    "\n",
    "\n",
    "api = tweepy.API(auth, wait_on_rate_limit=True)"
   ]
  },
  {
   "cell_type": "code",
   "execution_count": 9,
   "id": "8e5090c6",
   "metadata": {},
   "outputs": [],
   "source": [
    "# This will save each returned JSON tweet as a new line in a .txt file\n",
    "with open('tweet_json.txt', encoding='utf-8') as file:\n",
    "    for tweet_id in archive_data['tweet_id']:\n",
    "        try:\n",
    "            tweet = api.get_status(id = tweet_id, tweet_mode='extended')\n",
    "            file.write(json.dump(tweet))\n",
    "            file.write('\\n')\n",
    "        except:\n",
    "            pass\n",
    "file.close()"
   ]
  },
  {
   "cell_type": "code",
   "execution_count": 10,
   "id": "3f8271b4",
   "metadata": {},
   "outputs": [],
   "source": [
    "# Converting the json data in the 'tweet_json' file into dictionary\n",
    "with open('tweet_json.txt') as df_file:\n",
    "    data = []\n",
    "    for line in df_file:\n",
    "        data.append(json.loads(line))"
   ]
  },
  {
   "cell_type": "code",
   "execution_count": 11,
   "id": "c3d6d07a",
   "metadata": {},
   "outputs": [
    {
     "name": "stdout",
     "output_type": "stream",
     "text": [
      "{'created_at': 'Tue Aug 01 16:23:56 +0000 2017', 'id': 892420643555336193, 'id_str': '892420643555336193', 'full_text': \"This is Phineas. He's a mystical boy. Only ever appears in the hole of a donut. 13/10 https://t.co/MgUWQ76dJU\", 'truncated': False, 'display_text_range': [0, 85], 'entities': {'hashtags': [], 'symbols': [], 'user_mentions': [], 'urls': [], 'media': [{'id': 892420639486877696, 'id_str': '892420639486877696', 'indices': [86, 109], 'media_url': 'http://pbs.twimg.com/media/DGKD1-bXoAAIAUK.jpg', 'media_url_https': 'https://pbs.twimg.com/media/DGKD1-bXoAAIAUK.jpg', 'url': 'https://t.co/MgUWQ76dJU', 'display_url': 'pic.twitter.com/MgUWQ76dJU', 'expanded_url': 'https://twitter.com/dog_rates/status/892420643555336193/photo/1', 'type': 'photo', 'sizes': {'large': {'w': 540, 'h': 528, 'resize': 'fit'}, 'thumb': {'w': 150, 'h': 150, 'resize': 'crop'}, 'small': {'w': 540, 'h': 528, 'resize': 'fit'}, 'medium': {'w': 540, 'h': 528, 'resize': 'fit'}}}]}, 'extended_entities': {'media': [{'id': 892420639486877696, 'id_str': '892420639486877696', 'indices': [86, 109], 'media_url': 'http://pbs.twimg.com/media/DGKD1-bXoAAIAUK.jpg', 'media_url_https': 'https://pbs.twimg.com/media/DGKD1-bXoAAIAUK.jpg', 'url': 'https://t.co/MgUWQ76dJU', 'display_url': 'pic.twitter.com/MgUWQ76dJU', 'expanded_url': 'https://twitter.com/dog_rates/status/892420643555336193/photo/1', 'type': 'photo', 'sizes': {'large': {'w': 540, 'h': 528, 'resize': 'fit'}, 'thumb': {'w': 150, 'h': 150, 'resize': 'crop'}, 'small': {'w': 540, 'h': 528, 'resize': 'fit'}, 'medium': {'w': 540, 'h': 528, 'resize': 'fit'}}}]}, 'source': '<a href=\"http://twitter.com/download/iphone\" rel=\"nofollow\">Twitter for iPhone</a>', 'in_reply_to_status_id': None, 'in_reply_to_status_id_str': None, 'in_reply_to_user_id': None, 'in_reply_to_user_id_str': None, 'in_reply_to_screen_name': None, 'user': {'id': 4196983835, 'id_str': '4196983835', 'name': 'WeRateDogs™ (author)', 'screen_name': 'dog_rates', 'location': 'DM YOUR DOGS, WE WILL RATE', 'description': '#1 Source for Professional Dog Ratings | STORE: @ShopWeRateDogs | IG, FB & SC: WeRateDogs MOBILE APP: @GoodDogsGame | Business: dogratingtwitter@gmail.com', 'url': 'https://t.co/N7sNNHAEXS', 'entities': {'url': {'urls': [{'url': 'https://t.co/N7sNNHAEXS', 'expanded_url': 'http://weratedogs.com', 'display_url': 'weratedogs.com', 'indices': [0, 23]}]}, 'description': {'urls': []}}, 'protected': False, 'followers_count': 3200889, 'friends_count': 104, 'listed_count': 2784, 'created_at': 'Sun Nov 15 21:41:29 +0000 2015', 'favourites_count': 114031, 'utc_offset': None, 'time_zone': None, 'geo_enabled': True, 'verified': True, 'statuses_count': 5288, 'lang': 'en', 'contributors_enabled': False, 'is_translator': False, 'is_translation_enabled': False, 'profile_background_color': '000000', 'profile_background_image_url': 'http://abs.twimg.com/images/themes/theme1/bg.png', 'profile_background_image_url_https': 'https://abs.twimg.com/images/themes/theme1/bg.png', 'profile_background_tile': False, 'profile_image_url': 'http://pbs.twimg.com/profile_images/861415328504569856/R2xOOfwe_normal.jpg', 'profile_image_url_https': 'https://pbs.twimg.com/profile_images/861415328504569856/R2xOOfwe_normal.jpg', 'profile_banner_url': 'https://pbs.twimg.com/profile_banners/4196983835/1501129017', 'profile_link_color': 'F5ABB5', 'profile_sidebar_border_color': '000000', 'profile_sidebar_fill_color': '000000', 'profile_text_color': '000000', 'profile_use_background_image': False, 'has_extended_profile': True, 'default_profile': False, 'default_profile_image': False, 'following': True, 'follow_request_sent': False, 'notifications': False, 'translator_type': 'none'}, 'geo': None, 'coordinates': None, 'place': None, 'contributors': None, 'is_quote_status': False, 'retweet_count': 8853, 'favorite_count': 39467, 'favorited': False, 'retweeted': False, 'possibly_sensitive': False, 'possibly_sensitive_appealable': False, 'lang': 'en'}\n"
     ]
    }
   ],
   "source": [
    "# Print the first data in the dictionary\n",
    "print(data[0])"
   ]
  },
  {
   "cell_type": "code",
   "execution_count": 12,
   "id": "d7e90bc4",
   "metadata": {},
   "outputs": [],
   "source": [
    "# Converting the data from dictionary to pandas dataframe\n",
    "data = pd.DataFrame(data, columns=['id','retweet_count','favorite_count'])"
   ]
  },
  {
   "cell_type": "code",
   "execution_count": 13,
   "id": "7a8174be",
   "metadata": {},
   "outputs": [],
   "source": [
    "# Saving the data in a CSV file\n",
    "data.to_csv('api_data.csv', index=False)"
   ]
  },
  {
   "cell_type": "code",
   "execution_count": 14,
   "id": "8f028c93",
   "metadata": {},
   "outputs": [],
   "source": [
    "api_data = pd.read_csv('api_data.csv')"
   ]
  },
  {
   "cell_type": "markdown",
   "id": "7e17e4c3",
   "metadata": {},
   "source": [
    "### Assessing Data\n",
    ">\n",
    ">This data will be assessed **Visually and Programmatically** for quality and tidiness issues.\n",
    ">\n",
    "#### Visual Assessment"
   ]
  },
  {
   "cell_type": "markdown",
   "id": "dbe282f2",
   "metadata": {},
   "source": [
    "#### Archive data Assessment"
   ]
  },
  {
   "cell_type": "code",
   "execution_count": 15,
   "id": "eb72bae2",
   "metadata": {},
   "outputs": [
    {
     "data": {
      "text/html": [
       "<div>\n",
       "<style scoped>\n",
       "    .dataframe tbody tr th:only-of-type {\n",
       "        vertical-align: middle;\n",
       "    }\n",
       "\n",
       "    .dataframe tbody tr th {\n",
       "        vertical-align: top;\n",
       "    }\n",
       "\n",
       "    .dataframe thead th {\n",
       "        text-align: right;\n",
       "    }\n",
       "</style>\n",
       "<table border=\"1\" class=\"dataframe\">\n",
       "  <thead>\n",
       "    <tr style=\"text-align: right;\">\n",
       "      <th></th>\n",
       "      <th>tweet_id</th>\n",
       "      <th>in_reply_to_status_id</th>\n",
       "      <th>in_reply_to_user_id</th>\n",
       "      <th>timestamp</th>\n",
       "      <th>source</th>\n",
       "      <th>text</th>\n",
       "      <th>retweeted_status_id</th>\n",
       "      <th>retweeted_status_user_id</th>\n",
       "      <th>retweeted_status_timestamp</th>\n",
       "      <th>expanded_urls</th>\n",
       "      <th>rating_numerator</th>\n",
       "      <th>rating_denominator</th>\n",
       "      <th>name</th>\n",
       "      <th>doggo</th>\n",
       "      <th>floofer</th>\n",
       "      <th>pupper</th>\n",
       "      <th>puppo</th>\n",
       "    </tr>\n",
       "  </thead>\n",
       "  <tbody>\n",
       "    <tr>\n",
       "      <th>0</th>\n",
       "      <td>892420643555336193</td>\n",
       "      <td>NaN</td>\n",
       "      <td>NaN</td>\n",
       "      <td>2017-08-01 16:23:56 +0000</td>\n",
       "      <td>&lt;a href=\"http://twitter.com/download/iphone\" r...</td>\n",
       "      <td>This is Phineas. He's a mystical boy. Only eve...</td>\n",
       "      <td>NaN</td>\n",
       "      <td>NaN</td>\n",
       "      <td>NaN</td>\n",
       "      <td>https://twitter.com/dog_rates/status/892420643...</td>\n",
       "      <td>13</td>\n",
       "      <td>10</td>\n",
       "      <td>Phineas</td>\n",
       "      <td>None</td>\n",
       "      <td>None</td>\n",
       "      <td>None</td>\n",
       "      <td>None</td>\n",
       "    </tr>\n",
       "    <tr>\n",
       "      <th>1</th>\n",
       "      <td>892177421306343426</td>\n",
       "      <td>NaN</td>\n",
       "      <td>NaN</td>\n",
       "      <td>2017-08-01 00:17:27 +0000</td>\n",
       "      <td>&lt;a href=\"http://twitter.com/download/iphone\" r...</td>\n",
       "      <td>This is Tilly. She's just checking pup on you....</td>\n",
       "      <td>NaN</td>\n",
       "      <td>NaN</td>\n",
       "      <td>NaN</td>\n",
       "      <td>https://twitter.com/dog_rates/status/892177421...</td>\n",
       "      <td>13</td>\n",
       "      <td>10</td>\n",
       "      <td>Tilly</td>\n",
       "      <td>None</td>\n",
       "      <td>None</td>\n",
       "      <td>None</td>\n",
       "      <td>None</td>\n",
       "    </tr>\n",
       "    <tr>\n",
       "      <th>2</th>\n",
       "      <td>891815181378084864</td>\n",
       "      <td>NaN</td>\n",
       "      <td>NaN</td>\n",
       "      <td>2017-07-31 00:18:03 +0000</td>\n",
       "      <td>&lt;a href=\"http://twitter.com/download/iphone\" r...</td>\n",
       "      <td>This is Archie. He is a rare Norwegian Pouncin...</td>\n",
       "      <td>NaN</td>\n",
       "      <td>NaN</td>\n",
       "      <td>NaN</td>\n",
       "      <td>https://twitter.com/dog_rates/status/891815181...</td>\n",
       "      <td>12</td>\n",
       "      <td>10</td>\n",
       "      <td>Archie</td>\n",
       "      <td>None</td>\n",
       "      <td>None</td>\n",
       "      <td>None</td>\n",
       "      <td>None</td>\n",
       "    </tr>\n",
       "    <tr>\n",
       "      <th>3</th>\n",
       "      <td>891689557279858688</td>\n",
       "      <td>NaN</td>\n",
       "      <td>NaN</td>\n",
       "      <td>2017-07-30 15:58:51 +0000</td>\n",
       "      <td>&lt;a href=\"http://twitter.com/download/iphone\" r...</td>\n",
       "      <td>This is Darla. She commenced a snooze mid meal...</td>\n",
       "      <td>NaN</td>\n",
       "      <td>NaN</td>\n",
       "      <td>NaN</td>\n",
       "      <td>https://twitter.com/dog_rates/status/891689557...</td>\n",
       "      <td>13</td>\n",
       "      <td>10</td>\n",
       "      <td>Darla</td>\n",
       "      <td>None</td>\n",
       "      <td>None</td>\n",
       "      <td>None</td>\n",
       "      <td>None</td>\n",
       "    </tr>\n",
       "    <tr>\n",
       "      <th>4</th>\n",
       "      <td>891327558926688256</td>\n",
       "      <td>NaN</td>\n",
       "      <td>NaN</td>\n",
       "      <td>2017-07-29 16:00:24 +0000</td>\n",
       "      <td>&lt;a href=\"http://twitter.com/download/iphone\" r...</td>\n",
       "      <td>This is Franklin. He would like you to stop ca...</td>\n",
       "      <td>NaN</td>\n",
       "      <td>NaN</td>\n",
       "      <td>NaN</td>\n",
       "      <td>https://twitter.com/dog_rates/status/891327558...</td>\n",
       "      <td>12</td>\n",
       "      <td>10</td>\n",
       "      <td>Franklin</td>\n",
       "      <td>None</td>\n",
       "      <td>None</td>\n",
       "      <td>None</td>\n",
       "      <td>None</td>\n",
       "    </tr>\n",
       "  </tbody>\n",
       "</table>\n",
       "</div>"
      ],
      "text/plain": [
       "             tweet_id  in_reply_to_status_id  in_reply_to_user_id  \\\n",
       "0  892420643555336193                    NaN                  NaN   \n",
       "1  892177421306343426                    NaN                  NaN   \n",
       "2  891815181378084864                    NaN                  NaN   \n",
       "3  891689557279858688                    NaN                  NaN   \n",
       "4  891327558926688256                    NaN                  NaN   \n",
       "\n",
       "                   timestamp  \\\n",
       "0  2017-08-01 16:23:56 +0000   \n",
       "1  2017-08-01 00:17:27 +0000   \n",
       "2  2017-07-31 00:18:03 +0000   \n",
       "3  2017-07-30 15:58:51 +0000   \n",
       "4  2017-07-29 16:00:24 +0000   \n",
       "\n",
       "                                              source  \\\n",
       "0  <a href=\"http://twitter.com/download/iphone\" r...   \n",
       "1  <a href=\"http://twitter.com/download/iphone\" r...   \n",
       "2  <a href=\"http://twitter.com/download/iphone\" r...   \n",
       "3  <a href=\"http://twitter.com/download/iphone\" r...   \n",
       "4  <a href=\"http://twitter.com/download/iphone\" r...   \n",
       "\n",
       "                                                text  retweeted_status_id  \\\n",
       "0  This is Phineas. He's a mystical boy. Only eve...                  NaN   \n",
       "1  This is Tilly. She's just checking pup on you....                  NaN   \n",
       "2  This is Archie. He is a rare Norwegian Pouncin...                  NaN   \n",
       "3  This is Darla. She commenced a snooze mid meal...                  NaN   \n",
       "4  This is Franklin. He would like you to stop ca...                  NaN   \n",
       "\n",
       "   retweeted_status_user_id retweeted_status_timestamp  \\\n",
       "0                       NaN                        NaN   \n",
       "1                       NaN                        NaN   \n",
       "2                       NaN                        NaN   \n",
       "3                       NaN                        NaN   \n",
       "4                       NaN                        NaN   \n",
       "\n",
       "                                       expanded_urls  rating_numerator  \\\n",
       "0  https://twitter.com/dog_rates/status/892420643...                13   \n",
       "1  https://twitter.com/dog_rates/status/892177421...                13   \n",
       "2  https://twitter.com/dog_rates/status/891815181...                12   \n",
       "3  https://twitter.com/dog_rates/status/891689557...                13   \n",
       "4  https://twitter.com/dog_rates/status/891327558...                12   \n",
       "\n",
       "   rating_denominator      name doggo floofer pupper puppo  \n",
       "0                  10   Phineas  None    None   None  None  \n",
       "1                  10     Tilly  None    None   None  None  \n",
       "2                  10    Archie  None    None   None  None  \n",
       "3                  10     Darla  None    None   None  None  \n",
       "4                  10  Franklin  None    None   None  None  "
      ]
     },
     "execution_count": 15,
     "metadata": {},
     "output_type": "execute_result"
    }
   ],
   "source": [
    "# Assessing the first 5 rows of the data\n",
    "archive_data.head()"
   ]
  },
  {
   "cell_type": "code",
   "execution_count": 16,
   "id": "ddfaa369",
   "metadata": {},
   "outputs": [
    {
     "data": {
      "text/html": [
       "<div>\n",
       "<style scoped>\n",
       "    .dataframe tbody tr th:only-of-type {\n",
       "        vertical-align: middle;\n",
       "    }\n",
       "\n",
       "    .dataframe tbody tr th {\n",
       "        vertical-align: top;\n",
       "    }\n",
       "\n",
       "    .dataframe thead th {\n",
       "        text-align: right;\n",
       "    }\n",
       "</style>\n",
       "<table border=\"1\" class=\"dataframe\">\n",
       "  <thead>\n",
       "    <tr style=\"text-align: right;\">\n",
       "      <th></th>\n",
       "      <th>tweet_id</th>\n",
       "      <th>in_reply_to_status_id</th>\n",
       "      <th>in_reply_to_user_id</th>\n",
       "      <th>timestamp</th>\n",
       "      <th>source</th>\n",
       "      <th>text</th>\n",
       "      <th>retweeted_status_id</th>\n",
       "      <th>retweeted_status_user_id</th>\n",
       "      <th>retweeted_status_timestamp</th>\n",
       "      <th>expanded_urls</th>\n",
       "      <th>rating_numerator</th>\n",
       "      <th>rating_denominator</th>\n",
       "      <th>name</th>\n",
       "      <th>doggo</th>\n",
       "      <th>floofer</th>\n",
       "      <th>pupper</th>\n",
       "      <th>puppo</th>\n",
       "    </tr>\n",
       "  </thead>\n",
       "  <tbody>\n",
       "    <tr>\n",
       "      <th>2351</th>\n",
       "      <td>666049248165822465</td>\n",
       "      <td>NaN</td>\n",
       "      <td>NaN</td>\n",
       "      <td>2015-11-16 00:24:50 +0000</td>\n",
       "      <td>&lt;a href=\"http://twitter.com/download/iphone\" r...</td>\n",
       "      <td>Here we have a 1949 1st generation vulpix. Enj...</td>\n",
       "      <td>NaN</td>\n",
       "      <td>NaN</td>\n",
       "      <td>NaN</td>\n",
       "      <td>https://twitter.com/dog_rates/status/666049248...</td>\n",
       "      <td>5</td>\n",
       "      <td>10</td>\n",
       "      <td>None</td>\n",
       "      <td>None</td>\n",
       "      <td>None</td>\n",
       "      <td>None</td>\n",
       "      <td>None</td>\n",
       "    </tr>\n",
       "    <tr>\n",
       "      <th>2352</th>\n",
       "      <td>666044226329800704</td>\n",
       "      <td>NaN</td>\n",
       "      <td>NaN</td>\n",
       "      <td>2015-11-16 00:04:52 +0000</td>\n",
       "      <td>&lt;a href=\"http://twitter.com/download/iphone\" r...</td>\n",
       "      <td>This is a purebred Piers Morgan. Loves to Netf...</td>\n",
       "      <td>NaN</td>\n",
       "      <td>NaN</td>\n",
       "      <td>NaN</td>\n",
       "      <td>https://twitter.com/dog_rates/status/666044226...</td>\n",
       "      <td>6</td>\n",
       "      <td>10</td>\n",
       "      <td>a</td>\n",
       "      <td>None</td>\n",
       "      <td>None</td>\n",
       "      <td>None</td>\n",
       "      <td>None</td>\n",
       "    </tr>\n",
       "    <tr>\n",
       "      <th>2353</th>\n",
       "      <td>666033412701032449</td>\n",
       "      <td>NaN</td>\n",
       "      <td>NaN</td>\n",
       "      <td>2015-11-15 23:21:54 +0000</td>\n",
       "      <td>&lt;a href=\"http://twitter.com/download/iphone\" r...</td>\n",
       "      <td>Here is a very happy pup. Big fan of well-main...</td>\n",
       "      <td>NaN</td>\n",
       "      <td>NaN</td>\n",
       "      <td>NaN</td>\n",
       "      <td>https://twitter.com/dog_rates/status/666033412...</td>\n",
       "      <td>9</td>\n",
       "      <td>10</td>\n",
       "      <td>a</td>\n",
       "      <td>None</td>\n",
       "      <td>None</td>\n",
       "      <td>None</td>\n",
       "      <td>None</td>\n",
       "    </tr>\n",
       "    <tr>\n",
       "      <th>2354</th>\n",
       "      <td>666029285002620928</td>\n",
       "      <td>NaN</td>\n",
       "      <td>NaN</td>\n",
       "      <td>2015-11-15 23:05:30 +0000</td>\n",
       "      <td>&lt;a href=\"http://twitter.com/download/iphone\" r...</td>\n",
       "      <td>This is a western brown Mitsubishi terrier. Up...</td>\n",
       "      <td>NaN</td>\n",
       "      <td>NaN</td>\n",
       "      <td>NaN</td>\n",
       "      <td>https://twitter.com/dog_rates/status/666029285...</td>\n",
       "      <td>7</td>\n",
       "      <td>10</td>\n",
       "      <td>a</td>\n",
       "      <td>None</td>\n",
       "      <td>None</td>\n",
       "      <td>None</td>\n",
       "      <td>None</td>\n",
       "    </tr>\n",
       "    <tr>\n",
       "      <th>2355</th>\n",
       "      <td>666020888022790149</td>\n",
       "      <td>NaN</td>\n",
       "      <td>NaN</td>\n",
       "      <td>2015-11-15 22:32:08 +0000</td>\n",
       "      <td>&lt;a href=\"http://twitter.com/download/iphone\" r...</td>\n",
       "      <td>Here we have a Japanese Irish Setter. Lost eye...</td>\n",
       "      <td>NaN</td>\n",
       "      <td>NaN</td>\n",
       "      <td>NaN</td>\n",
       "      <td>https://twitter.com/dog_rates/status/666020888...</td>\n",
       "      <td>8</td>\n",
       "      <td>10</td>\n",
       "      <td>None</td>\n",
       "      <td>None</td>\n",
       "      <td>None</td>\n",
       "      <td>None</td>\n",
       "      <td>None</td>\n",
       "    </tr>\n",
       "  </tbody>\n",
       "</table>\n",
       "</div>"
      ],
      "text/plain": [
       "                tweet_id  in_reply_to_status_id  in_reply_to_user_id  \\\n",
       "2351  666049248165822465                    NaN                  NaN   \n",
       "2352  666044226329800704                    NaN                  NaN   \n",
       "2353  666033412701032449                    NaN                  NaN   \n",
       "2354  666029285002620928                    NaN                  NaN   \n",
       "2355  666020888022790149                    NaN                  NaN   \n",
       "\n",
       "                      timestamp  \\\n",
       "2351  2015-11-16 00:24:50 +0000   \n",
       "2352  2015-11-16 00:04:52 +0000   \n",
       "2353  2015-11-15 23:21:54 +0000   \n",
       "2354  2015-11-15 23:05:30 +0000   \n",
       "2355  2015-11-15 22:32:08 +0000   \n",
       "\n",
       "                                                 source  \\\n",
       "2351  <a href=\"http://twitter.com/download/iphone\" r...   \n",
       "2352  <a href=\"http://twitter.com/download/iphone\" r...   \n",
       "2353  <a href=\"http://twitter.com/download/iphone\" r...   \n",
       "2354  <a href=\"http://twitter.com/download/iphone\" r...   \n",
       "2355  <a href=\"http://twitter.com/download/iphone\" r...   \n",
       "\n",
       "                                                   text  retweeted_status_id  \\\n",
       "2351  Here we have a 1949 1st generation vulpix. Enj...                  NaN   \n",
       "2352  This is a purebred Piers Morgan. Loves to Netf...                  NaN   \n",
       "2353  Here is a very happy pup. Big fan of well-main...                  NaN   \n",
       "2354  This is a western brown Mitsubishi terrier. Up...                  NaN   \n",
       "2355  Here we have a Japanese Irish Setter. Lost eye...                  NaN   \n",
       "\n",
       "      retweeted_status_user_id retweeted_status_timestamp  \\\n",
       "2351                       NaN                        NaN   \n",
       "2352                       NaN                        NaN   \n",
       "2353                       NaN                        NaN   \n",
       "2354                       NaN                        NaN   \n",
       "2355                       NaN                        NaN   \n",
       "\n",
       "                                          expanded_urls  rating_numerator  \\\n",
       "2351  https://twitter.com/dog_rates/status/666049248...                 5   \n",
       "2352  https://twitter.com/dog_rates/status/666044226...                 6   \n",
       "2353  https://twitter.com/dog_rates/status/666033412...                 9   \n",
       "2354  https://twitter.com/dog_rates/status/666029285...                 7   \n",
       "2355  https://twitter.com/dog_rates/status/666020888...                 8   \n",
       "\n",
       "      rating_denominator  name doggo floofer pupper puppo  \n",
       "2351                  10  None  None    None   None  None  \n",
       "2352                  10     a  None    None   None  None  \n",
       "2353                  10     a  None    None   None  None  \n",
       "2354                  10     a  None    None   None  None  \n",
       "2355                  10  None  None    None   None  None  "
      ]
     },
     "execution_count": 16,
     "metadata": {},
     "output_type": "execute_result"
    }
   ],
   "source": [
    "# Assessing the last 5 rows of the data\n",
    "archive_data.tail()"
   ]
  },
  {
   "cell_type": "code",
   "execution_count": 17,
   "id": "2c0aebf7",
   "metadata": {},
   "outputs": [
    {
     "data": {
      "text/html": [
       "<div>\n",
       "<style scoped>\n",
       "    .dataframe tbody tr th:only-of-type {\n",
       "        vertical-align: middle;\n",
       "    }\n",
       "\n",
       "    .dataframe tbody tr th {\n",
       "        vertical-align: top;\n",
       "    }\n",
       "\n",
       "    .dataframe thead th {\n",
       "        text-align: right;\n",
       "    }\n",
       "</style>\n",
       "<table border=\"1\" class=\"dataframe\">\n",
       "  <thead>\n",
       "    <tr style=\"text-align: right;\">\n",
       "      <th></th>\n",
       "      <th>tweet_id</th>\n",
       "      <th>in_reply_to_status_id</th>\n",
       "      <th>in_reply_to_user_id</th>\n",
       "      <th>timestamp</th>\n",
       "      <th>source</th>\n",
       "      <th>text</th>\n",
       "      <th>retweeted_status_id</th>\n",
       "      <th>retweeted_status_user_id</th>\n",
       "      <th>retweeted_status_timestamp</th>\n",
       "      <th>expanded_urls</th>\n",
       "      <th>rating_numerator</th>\n",
       "      <th>rating_denominator</th>\n",
       "      <th>name</th>\n",
       "      <th>doggo</th>\n",
       "      <th>floofer</th>\n",
       "      <th>pupper</th>\n",
       "      <th>puppo</th>\n",
       "    </tr>\n",
       "  </thead>\n",
       "  <tbody>\n",
       "    <tr>\n",
       "      <th>117</th>\n",
       "      <td>870063196459192321</td>\n",
       "      <td>NaN</td>\n",
       "      <td>NaN</td>\n",
       "      <td>2017-05-31 23:43:25 +0000</td>\n",
       "      <td>&lt;a href=\"http://twitter.com/download/iphone\" r...</td>\n",
       "      <td>Meet Clifford. He's quite large. Also red. Goo...</td>\n",
       "      <td>NaN</td>\n",
       "      <td>NaN</td>\n",
       "      <td>NaN</td>\n",
       "      <td>https://twitter.com/dog_rates/status/870063196...</td>\n",
       "      <td>14</td>\n",
       "      <td>10</td>\n",
       "      <td>Clifford</td>\n",
       "      <td>None</td>\n",
       "      <td>None</td>\n",
       "      <td>None</td>\n",
       "      <td>None</td>\n",
       "    </tr>\n",
       "    <tr>\n",
       "      <th>1548</th>\n",
       "      <td>689275259254616065</td>\n",
       "      <td>NaN</td>\n",
       "      <td>NaN</td>\n",
       "      <td>2016-01-19 02:36:42 +0000</td>\n",
       "      <td>&lt;a href=\"http://twitter.com/download/iphone\" r...</td>\n",
       "      <td>Meet Lucky. He was showing his friends an extr...</td>\n",
       "      <td>NaN</td>\n",
       "      <td>NaN</td>\n",
       "      <td>NaN</td>\n",
       "      <td>https://twitter.com/dog_rates/status/689275259...</td>\n",
       "      <td>10</td>\n",
       "      <td>10</td>\n",
       "      <td>Lucky</td>\n",
       "      <td>None</td>\n",
       "      <td>None</td>\n",
       "      <td>None</td>\n",
       "      <td>None</td>\n",
       "    </tr>\n",
       "    <tr>\n",
       "      <th>1341</th>\n",
       "      <td>704847917308362754</td>\n",
       "      <td>NaN</td>\n",
       "      <td>NaN</td>\n",
       "      <td>2016-03-02 01:56:53 +0000</td>\n",
       "      <td>&lt;a href=\"http://twitter.com/download/iphone\" r...</td>\n",
       "      <td>\"Yes hi could I get a number 4 with no pickles...</td>\n",
       "      <td>NaN</td>\n",
       "      <td>NaN</td>\n",
       "      <td>NaN</td>\n",
       "      <td>https://twitter.com/dog_rates/status/704847917...</td>\n",
       "      <td>12</td>\n",
       "      <td>10</td>\n",
       "      <td>None</td>\n",
       "      <td>None</td>\n",
       "      <td>None</td>\n",
       "      <td>None</td>\n",
       "      <td>None</td>\n",
       "    </tr>\n",
       "    <tr>\n",
       "      <th>337</th>\n",
       "      <td>832397543355072512</td>\n",
       "      <td>NaN</td>\n",
       "      <td>NaN</td>\n",
       "      <td>2017-02-17 01:13:34 +0000</td>\n",
       "      <td>&lt;a href=\"http://twitter.com/download/iphone\" r...</td>\n",
       "      <td>This is Eevee. She wants to see how you're doi...</td>\n",
       "      <td>NaN</td>\n",
       "      <td>NaN</td>\n",
       "      <td>NaN</td>\n",
       "      <td>https://twitter.com/dog_rates/status/832397543...</td>\n",
       "      <td>12</td>\n",
       "      <td>10</td>\n",
       "      <td>Eevee</td>\n",
       "      <td>None</td>\n",
       "      <td>None</td>\n",
       "      <td>None</td>\n",
       "      <td>None</td>\n",
       "    </tr>\n",
       "    <tr>\n",
       "      <th>1100</th>\n",
       "      <td>735648611367784448</td>\n",
       "      <td>NaN</td>\n",
       "      <td>NaN</td>\n",
       "      <td>2016-05-26 01:47:51 +0000</td>\n",
       "      <td>&lt;a href=\"http://twitter.com/download/iphone\" r...</td>\n",
       "      <td>*faints* 12/10 perfection in pupper form https...</td>\n",
       "      <td>NaN</td>\n",
       "      <td>NaN</td>\n",
       "      <td>NaN</td>\n",
       "      <td>https://twitter.com/dog_rates/status/735648611...</td>\n",
       "      <td>12</td>\n",
       "      <td>10</td>\n",
       "      <td>None</td>\n",
       "      <td>None</td>\n",
       "      <td>None</td>\n",
       "      <td>pupper</td>\n",
       "      <td>None</td>\n",
       "    </tr>\n",
       "  </tbody>\n",
       "</table>\n",
       "</div>"
      ],
      "text/plain": [
       "                tweet_id  in_reply_to_status_id  in_reply_to_user_id  \\\n",
       "117   870063196459192321                    NaN                  NaN   \n",
       "1548  689275259254616065                    NaN                  NaN   \n",
       "1341  704847917308362754                    NaN                  NaN   \n",
       "337   832397543355072512                    NaN                  NaN   \n",
       "1100  735648611367784448                    NaN                  NaN   \n",
       "\n",
       "                      timestamp  \\\n",
       "117   2017-05-31 23:43:25 +0000   \n",
       "1548  2016-01-19 02:36:42 +0000   \n",
       "1341  2016-03-02 01:56:53 +0000   \n",
       "337   2017-02-17 01:13:34 +0000   \n",
       "1100  2016-05-26 01:47:51 +0000   \n",
       "\n",
       "                                                 source  \\\n",
       "117   <a href=\"http://twitter.com/download/iphone\" r...   \n",
       "1548  <a href=\"http://twitter.com/download/iphone\" r...   \n",
       "1341  <a href=\"http://twitter.com/download/iphone\" r...   \n",
       "337   <a href=\"http://twitter.com/download/iphone\" r...   \n",
       "1100  <a href=\"http://twitter.com/download/iphone\" r...   \n",
       "\n",
       "                                                   text  retweeted_status_id  \\\n",
       "117   Meet Clifford. He's quite large. Also red. Goo...                  NaN   \n",
       "1548  Meet Lucky. He was showing his friends an extr...                  NaN   \n",
       "1341  \"Yes hi could I get a number 4 with no pickles...                  NaN   \n",
       "337   This is Eevee. She wants to see how you're doi...                  NaN   \n",
       "1100  *faints* 12/10 perfection in pupper form https...                  NaN   \n",
       "\n",
       "      retweeted_status_user_id retweeted_status_timestamp  \\\n",
       "117                        NaN                        NaN   \n",
       "1548                       NaN                        NaN   \n",
       "1341                       NaN                        NaN   \n",
       "337                        NaN                        NaN   \n",
       "1100                       NaN                        NaN   \n",
       "\n",
       "                                          expanded_urls  rating_numerator  \\\n",
       "117   https://twitter.com/dog_rates/status/870063196...                14   \n",
       "1548  https://twitter.com/dog_rates/status/689275259...                10   \n",
       "1341  https://twitter.com/dog_rates/status/704847917...                12   \n",
       "337   https://twitter.com/dog_rates/status/832397543...                12   \n",
       "1100  https://twitter.com/dog_rates/status/735648611...                12   \n",
       "\n",
       "      rating_denominator      name doggo floofer  pupper puppo  \n",
       "117                   10  Clifford  None    None    None  None  \n",
       "1548                  10     Lucky  None    None    None  None  \n",
       "1341                  10      None  None    None    None  None  \n",
       "337                   10     Eevee  None    None    None  None  \n",
       "1100                  10      None  None    None  pupper  None  "
      ]
     },
     "execution_count": 17,
     "metadata": {},
     "output_type": "execute_result"
    }
   ],
   "source": [
    "# Assessing a random 5 rows of the data\n",
    "archive_data.sample(5)"
   ]
  },
  {
   "cell_type": "markdown",
   "id": "304e0a78",
   "metadata": {},
   "source": [
    "#### Image data Assessment"
   ]
  },
  {
   "cell_type": "code",
   "execution_count": 18,
   "id": "4c2a047d",
   "metadata": {},
   "outputs": [
    {
     "data": {
      "text/html": [
       "<div>\n",
       "<style scoped>\n",
       "    .dataframe tbody tr th:only-of-type {\n",
       "        vertical-align: middle;\n",
       "    }\n",
       "\n",
       "    .dataframe tbody tr th {\n",
       "        vertical-align: top;\n",
       "    }\n",
       "\n",
       "    .dataframe thead th {\n",
       "        text-align: right;\n",
       "    }\n",
       "</style>\n",
       "<table border=\"1\" class=\"dataframe\">\n",
       "  <thead>\n",
       "    <tr style=\"text-align: right;\">\n",
       "      <th></th>\n",
       "      <th>tweet_id</th>\n",
       "      <th>jpg_url</th>\n",
       "      <th>img_num</th>\n",
       "      <th>p1</th>\n",
       "      <th>p1_conf</th>\n",
       "      <th>p1_dog</th>\n",
       "      <th>p2</th>\n",
       "      <th>p2_conf</th>\n",
       "      <th>p2_dog</th>\n",
       "      <th>p3</th>\n",
       "      <th>p3_conf</th>\n",
       "      <th>p3_dog</th>\n",
       "    </tr>\n",
       "  </thead>\n",
       "  <tbody>\n",
       "    <tr>\n",
       "      <th>0</th>\n",
       "      <td>666020888022790149</td>\n",
       "      <td>https://pbs.twimg.com/media/CT4udn0WwAA0aMy.jpg</td>\n",
       "      <td>1</td>\n",
       "      <td>Welsh_springer_spaniel</td>\n",
       "      <td>0.465074</td>\n",
       "      <td>True</td>\n",
       "      <td>collie</td>\n",
       "      <td>0.156665</td>\n",
       "      <td>True</td>\n",
       "      <td>Shetland_sheepdog</td>\n",
       "      <td>0.061428</td>\n",
       "      <td>True</td>\n",
       "    </tr>\n",
       "    <tr>\n",
       "      <th>1</th>\n",
       "      <td>666029285002620928</td>\n",
       "      <td>https://pbs.twimg.com/media/CT42GRgUYAA5iDo.jpg</td>\n",
       "      <td>1</td>\n",
       "      <td>redbone</td>\n",
       "      <td>0.506826</td>\n",
       "      <td>True</td>\n",
       "      <td>miniature_pinscher</td>\n",
       "      <td>0.074192</td>\n",
       "      <td>True</td>\n",
       "      <td>Rhodesian_ridgeback</td>\n",
       "      <td>0.072010</td>\n",
       "      <td>True</td>\n",
       "    </tr>\n",
       "    <tr>\n",
       "      <th>2</th>\n",
       "      <td>666033412701032449</td>\n",
       "      <td>https://pbs.twimg.com/media/CT4521TWwAEvMyu.jpg</td>\n",
       "      <td>1</td>\n",
       "      <td>German_shepherd</td>\n",
       "      <td>0.596461</td>\n",
       "      <td>True</td>\n",
       "      <td>malinois</td>\n",
       "      <td>0.138584</td>\n",
       "      <td>True</td>\n",
       "      <td>bloodhound</td>\n",
       "      <td>0.116197</td>\n",
       "      <td>True</td>\n",
       "    </tr>\n",
       "    <tr>\n",
       "      <th>3</th>\n",
       "      <td>666044226329800704</td>\n",
       "      <td>https://pbs.twimg.com/media/CT5Dr8HUEAA-lEu.jpg</td>\n",
       "      <td>1</td>\n",
       "      <td>Rhodesian_ridgeback</td>\n",
       "      <td>0.408143</td>\n",
       "      <td>True</td>\n",
       "      <td>redbone</td>\n",
       "      <td>0.360687</td>\n",
       "      <td>True</td>\n",
       "      <td>miniature_pinscher</td>\n",
       "      <td>0.222752</td>\n",
       "      <td>True</td>\n",
       "    </tr>\n",
       "    <tr>\n",
       "      <th>4</th>\n",
       "      <td>666049248165822465</td>\n",
       "      <td>https://pbs.twimg.com/media/CT5IQmsXIAAKY4A.jpg</td>\n",
       "      <td>1</td>\n",
       "      <td>miniature_pinscher</td>\n",
       "      <td>0.560311</td>\n",
       "      <td>True</td>\n",
       "      <td>Rottweiler</td>\n",
       "      <td>0.243682</td>\n",
       "      <td>True</td>\n",
       "      <td>Doberman</td>\n",
       "      <td>0.154629</td>\n",
       "      <td>True</td>\n",
       "    </tr>\n",
       "  </tbody>\n",
       "</table>\n",
       "</div>"
      ],
      "text/plain": [
       "             tweet_id                                          jpg_url  \\\n",
       "0  666020888022790149  https://pbs.twimg.com/media/CT4udn0WwAA0aMy.jpg   \n",
       "1  666029285002620928  https://pbs.twimg.com/media/CT42GRgUYAA5iDo.jpg   \n",
       "2  666033412701032449  https://pbs.twimg.com/media/CT4521TWwAEvMyu.jpg   \n",
       "3  666044226329800704  https://pbs.twimg.com/media/CT5Dr8HUEAA-lEu.jpg   \n",
       "4  666049248165822465  https://pbs.twimg.com/media/CT5IQmsXIAAKY4A.jpg   \n",
       "\n",
       "   img_num                      p1   p1_conf  p1_dog                  p2  \\\n",
       "0        1  Welsh_springer_spaniel  0.465074    True              collie   \n",
       "1        1                 redbone  0.506826    True  miniature_pinscher   \n",
       "2        1         German_shepherd  0.596461    True            malinois   \n",
       "3        1     Rhodesian_ridgeback  0.408143    True             redbone   \n",
       "4        1      miniature_pinscher  0.560311    True          Rottweiler   \n",
       "\n",
       "    p2_conf  p2_dog                   p3   p3_conf  p3_dog  \n",
       "0  0.156665    True    Shetland_sheepdog  0.061428    True  \n",
       "1  0.074192    True  Rhodesian_ridgeback  0.072010    True  \n",
       "2  0.138584    True           bloodhound  0.116197    True  \n",
       "3  0.360687    True   miniature_pinscher  0.222752    True  \n",
       "4  0.243682    True             Doberman  0.154629    True  "
      ]
     },
     "execution_count": 18,
     "metadata": {},
     "output_type": "execute_result"
    }
   ],
   "source": [
    "# Assessing the first 5 rows of the data\n",
    "image_data.head()"
   ]
  },
  {
   "cell_type": "code",
   "execution_count": 19,
   "id": "3df33709",
   "metadata": {},
   "outputs": [
    {
     "data": {
      "text/html": [
       "<div>\n",
       "<style scoped>\n",
       "    .dataframe tbody tr th:only-of-type {\n",
       "        vertical-align: middle;\n",
       "    }\n",
       "\n",
       "    .dataframe tbody tr th {\n",
       "        vertical-align: top;\n",
       "    }\n",
       "\n",
       "    .dataframe thead th {\n",
       "        text-align: right;\n",
       "    }\n",
       "</style>\n",
       "<table border=\"1\" class=\"dataframe\">\n",
       "  <thead>\n",
       "    <tr style=\"text-align: right;\">\n",
       "      <th></th>\n",
       "      <th>tweet_id</th>\n",
       "      <th>jpg_url</th>\n",
       "      <th>img_num</th>\n",
       "      <th>p1</th>\n",
       "      <th>p1_conf</th>\n",
       "      <th>p1_dog</th>\n",
       "      <th>p2</th>\n",
       "      <th>p2_conf</th>\n",
       "      <th>p2_dog</th>\n",
       "      <th>p3</th>\n",
       "      <th>p3_conf</th>\n",
       "      <th>p3_dog</th>\n",
       "    </tr>\n",
       "  </thead>\n",
       "  <tbody>\n",
       "    <tr>\n",
       "      <th>2070</th>\n",
       "      <td>891327558926688256</td>\n",
       "      <td>https://pbs.twimg.com/media/DF6hr6BUMAAzZgT.jpg</td>\n",
       "      <td>2</td>\n",
       "      <td>basset</td>\n",
       "      <td>0.555712</td>\n",
       "      <td>True</td>\n",
       "      <td>English_springer</td>\n",
       "      <td>0.225770</td>\n",
       "      <td>True</td>\n",
       "      <td>German_short-haired_pointer</td>\n",
       "      <td>0.175219</td>\n",
       "      <td>True</td>\n",
       "    </tr>\n",
       "    <tr>\n",
       "      <th>2071</th>\n",
       "      <td>891689557279858688</td>\n",
       "      <td>https://pbs.twimg.com/media/DF_q7IAWsAEuuN8.jpg</td>\n",
       "      <td>1</td>\n",
       "      <td>paper_towel</td>\n",
       "      <td>0.170278</td>\n",
       "      <td>False</td>\n",
       "      <td>Labrador_retriever</td>\n",
       "      <td>0.168086</td>\n",
       "      <td>True</td>\n",
       "      <td>spatula</td>\n",
       "      <td>0.040836</td>\n",
       "      <td>False</td>\n",
       "    </tr>\n",
       "    <tr>\n",
       "      <th>2072</th>\n",
       "      <td>891815181378084864</td>\n",
       "      <td>https://pbs.twimg.com/media/DGBdLU1WsAANxJ9.jpg</td>\n",
       "      <td>1</td>\n",
       "      <td>Chihuahua</td>\n",
       "      <td>0.716012</td>\n",
       "      <td>True</td>\n",
       "      <td>malamute</td>\n",
       "      <td>0.078253</td>\n",
       "      <td>True</td>\n",
       "      <td>kelpie</td>\n",
       "      <td>0.031379</td>\n",
       "      <td>True</td>\n",
       "    </tr>\n",
       "    <tr>\n",
       "      <th>2073</th>\n",
       "      <td>892177421306343426</td>\n",
       "      <td>https://pbs.twimg.com/media/DGGmoV4XsAAUL6n.jpg</td>\n",
       "      <td>1</td>\n",
       "      <td>Chihuahua</td>\n",
       "      <td>0.323581</td>\n",
       "      <td>True</td>\n",
       "      <td>Pekinese</td>\n",
       "      <td>0.090647</td>\n",
       "      <td>True</td>\n",
       "      <td>papillon</td>\n",
       "      <td>0.068957</td>\n",
       "      <td>True</td>\n",
       "    </tr>\n",
       "    <tr>\n",
       "      <th>2074</th>\n",
       "      <td>892420643555336193</td>\n",
       "      <td>https://pbs.twimg.com/media/DGKD1-bXoAAIAUK.jpg</td>\n",
       "      <td>1</td>\n",
       "      <td>orange</td>\n",
       "      <td>0.097049</td>\n",
       "      <td>False</td>\n",
       "      <td>bagel</td>\n",
       "      <td>0.085851</td>\n",
       "      <td>False</td>\n",
       "      <td>banana</td>\n",
       "      <td>0.076110</td>\n",
       "      <td>False</td>\n",
       "    </tr>\n",
       "  </tbody>\n",
       "</table>\n",
       "</div>"
      ],
      "text/plain": [
       "                tweet_id                                          jpg_url  \\\n",
       "2070  891327558926688256  https://pbs.twimg.com/media/DF6hr6BUMAAzZgT.jpg   \n",
       "2071  891689557279858688  https://pbs.twimg.com/media/DF_q7IAWsAEuuN8.jpg   \n",
       "2072  891815181378084864  https://pbs.twimg.com/media/DGBdLU1WsAANxJ9.jpg   \n",
       "2073  892177421306343426  https://pbs.twimg.com/media/DGGmoV4XsAAUL6n.jpg   \n",
       "2074  892420643555336193  https://pbs.twimg.com/media/DGKD1-bXoAAIAUK.jpg   \n",
       "\n",
       "      img_num           p1   p1_conf  p1_dog                  p2   p2_conf  \\\n",
       "2070        2       basset  0.555712    True    English_springer  0.225770   \n",
       "2071        1  paper_towel  0.170278   False  Labrador_retriever  0.168086   \n",
       "2072        1    Chihuahua  0.716012    True            malamute  0.078253   \n",
       "2073        1    Chihuahua  0.323581    True            Pekinese  0.090647   \n",
       "2074        1       orange  0.097049   False               bagel  0.085851   \n",
       "\n",
       "      p2_dog                           p3   p3_conf  p3_dog  \n",
       "2070    True  German_short-haired_pointer  0.175219    True  \n",
       "2071    True                      spatula  0.040836   False  \n",
       "2072    True                       kelpie  0.031379    True  \n",
       "2073    True                     papillon  0.068957    True  \n",
       "2074   False                       banana  0.076110   False  "
      ]
     },
     "execution_count": 19,
     "metadata": {},
     "output_type": "execute_result"
    }
   ],
   "source": [
    "# Assessing the last 5 rows of the data\n",
    "image_data.tail()"
   ]
  },
  {
   "cell_type": "code",
   "execution_count": 20,
   "id": "23e9369b",
   "metadata": {},
   "outputs": [
    {
     "data": {
      "text/html": [
       "<div>\n",
       "<style scoped>\n",
       "    .dataframe tbody tr th:only-of-type {\n",
       "        vertical-align: middle;\n",
       "    }\n",
       "\n",
       "    .dataframe tbody tr th {\n",
       "        vertical-align: top;\n",
       "    }\n",
       "\n",
       "    .dataframe thead th {\n",
       "        text-align: right;\n",
       "    }\n",
       "</style>\n",
       "<table border=\"1\" class=\"dataframe\">\n",
       "  <thead>\n",
       "    <tr style=\"text-align: right;\">\n",
       "      <th></th>\n",
       "      <th>tweet_id</th>\n",
       "      <th>jpg_url</th>\n",
       "      <th>img_num</th>\n",
       "      <th>p1</th>\n",
       "      <th>p1_conf</th>\n",
       "      <th>p1_dog</th>\n",
       "      <th>p2</th>\n",
       "      <th>p2_conf</th>\n",
       "      <th>p2_dog</th>\n",
       "      <th>p3</th>\n",
       "      <th>p3_conf</th>\n",
       "      <th>p3_dog</th>\n",
       "    </tr>\n",
       "  </thead>\n",
       "  <tbody>\n",
       "    <tr>\n",
       "      <th>483</th>\n",
       "      <td>675432746517426176</td>\n",
       "      <td>https://pbs.twimg.com/media/CV-ef64WoAAbh0I.jpg</td>\n",
       "      <td>1</td>\n",
       "      <td>Labrador_retriever</td>\n",
       "      <td>0.986548</td>\n",
       "      <td>True</td>\n",
       "      <td>golden_retriever</td>\n",
       "      <td>0.008862</td>\n",
       "      <td>True</td>\n",
       "      <td>Chihuahua</td>\n",
       "      <td>0.000694</td>\n",
       "      <td>True</td>\n",
       "    </tr>\n",
       "    <tr>\n",
       "      <th>845</th>\n",
       "      <td>695095422348574720</td>\n",
       "      <td>https://pbs.twimg.com/media/CaV5mRDXEAAR8iG.jpg</td>\n",
       "      <td>1</td>\n",
       "      <td>papillon</td>\n",
       "      <td>0.227784</td>\n",
       "      <td>True</td>\n",
       "      <td>Chihuahua</td>\n",
       "      <td>0.218128</td>\n",
       "      <td>True</td>\n",
       "      <td>Border_collie</td>\n",
       "      <td>0.093457</td>\n",
       "      <td>True</td>\n",
       "    </tr>\n",
       "    <tr>\n",
       "      <th>1650</th>\n",
       "      <td>809220051211603969</td>\n",
       "      <td>https://pbs.twimg.com/media/CzrtWDbWEAAmIhy.jpg</td>\n",
       "      <td>1</td>\n",
       "      <td>Pomeranian</td>\n",
       "      <td>0.819511</td>\n",
       "      <td>True</td>\n",
       "      <td>Samoyed</td>\n",
       "      <td>0.141241</td>\n",
       "      <td>True</td>\n",
       "      <td>Pembroke</td>\n",
       "      <td>0.013455</td>\n",
       "      <td>True</td>\n",
       "    </tr>\n",
       "    <tr>\n",
       "      <th>1094</th>\n",
       "      <td>719991154352222208</td>\n",
       "      <td>https://pbs.twimg.com/media/Cf3sH62VAAA-LiP.jpg</td>\n",
       "      <td>2</td>\n",
       "      <td>golden_retriever</td>\n",
       "      <td>0.605304</td>\n",
       "      <td>True</td>\n",
       "      <td>cocker_spaniel</td>\n",
       "      <td>0.130948</td>\n",
       "      <td>True</td>\n",
       "      <td>Labrador_retriever</td>\n",
       "      <td>0.094692</td>\n",
       "      <td>True</td>\n",
       "    </tr>\n",
       "    <tr>\n",
       "      <th>638</th>\n",
       "      <td>681281657291280384</td>\n",
       "      <td>https://pbs.twimg.com/media/CXRmDfWWMAADCdc.jpg</td>\n",
       "      <td>1</td>\n",
       "      <td>Saint_Bernard</td>\n",
       "      <td>0.998830</td>\n",
       "      <td>True</td>\n",
       "      <td>Pekinese</td>\n",
       "      <td>0.000391</td>\n",
       "      <td>True</td>\n",
       "      <td>Great_Pyrenees</td>\n",
       "      <td>0.000224</td>\n",
       "      <td>True</td>\n",
       "    </tr>\n",
       "  </tbody>\n",
       "</table>\n",
       "</div>"
      ],
      "text/plain": [
       "                tweet_id                                          jpg_url  \\\n",
       "483   675432746517426176  https://pbs.twimg.com/media/CV-ef64WoAAbh0I.jpg   \n",
       "845   695095422348574720  https://pbs.twimg.com/media/CaV5mRDXEAAR8iG.jpg   \n",
       "1650  809220051211603969  https://pbs.twimg.com/media/CzrtWDbWEAAmIhy.jpg   \n",
       "1094  719991154352222208  https://pbs.twimg.com/media/Cf3sH62VAAA-LiP.jpg   \n",
       "638   681281657291280384  https://pbs.twimg.com/media/CXRmDfWWMAADCdc.jpg   \n",
       "\n",
       "      img_num                  p1   p1_conf  p1_dog                p2  \\\n",
       "483         1  Labrador_retriever  0.986548    True  golden_retriever   \n",
       "845         1            papillon  0.227784    True         Chihuahua   \n",
       "1650        1          Pomeranian  0.819511    True           Samoyed   \n",
       "1094        2    golden_retriever  0.605304    True    cocker_spaniel   \n",
       "638         1       Saint_Bernard  0.998830    True          Pekinese   \n",
       "\n",
       "       p2_conf  p2_dog                  p3   p3_conf  p3_dog  \n",
       "483   0.008862    True           Chihuahua  0.000694    True  \n",
       "845   0.218128    True       Border_collie  0.093457    True  \n",
       "1650  0.141241    True            Pembroke  0.013455    True  \n",
       "1094  0.130948    True  Labrador_retriever  0.094692    True  \n",
       "638   0.000391    True      Great_Pyrenees  0.000224    True  "
      ]
     },
     "execution_count": 20,
     "metadata": {},
     "output_type": "execute_result"
    }
   ],
   "source": [
    "# Assessing a random 5 rows of the data\n",
    "image_data.sample(5)"
   ]
  },
  {
   "cell_type": "markdown",
   "id": "51018c37",
   "metadata": {},
   "source": [
    "#### API data Assessment"
   ]
  },
  {
   "cell_type": "code",
   "execution_count": 21,
   "id": "5e1b5e18",
   "metadata": {},
   "outputs": [
    {
     "data": {
      "text/html": [
       "<div>\n",
       "<style scoped>\n",
       "    .dataframe tbody tr th:only-of-type {\n",
       "        vertical-align: middle;\n",
       "    }\n",
       "\n",
       "    .dataframe tbody tr th {\n",
       "        vertical-align: top;\n",
       "    }\n",
       "\n",
       "    .dataframe thead th {\n",
       "        text-align: right;\n",
       "    }\n",
       "</style>\n",
       "<table border=\"1\" class=\"dataframe\">\n",
       "  <thead>\n",
       "    <tr style=\"text-align: right;\">\n",
       "      <th></th>\n",
       "      <th>id</th>\n",
       "      <th>retweet_count</th>\n",
       "      <th>favorite_count</th>\n",
       "    </tr>\n",
       "  </thead>\n",
       "  <tbody>\n",
       "    <tr>\n",
       "      <th>0</th>\n",
       "      <td>892420643555336193</td>\n",
       "      <td>8853</td>\n",
       "      <td>39467</td>\n",
       "    </tr>\n",
       "    <tr>\n",
       "      <th>1</th>\n",
       "      <td>892177421306343426</td>\n",
       "      <td>6514</td>\n",
       "      <td>33819</td>\n",
       "    </tr>\n",
       "    <tr>\n",
       "      <th>2</th>\n",
       "      <td>891815181378084864</td>\n",
       "      <td>4328</td>\n",
       "      <td>25461</td>\n",
       "    </tr>\n",
       "    <tr>\n",
       "      <th>3</th>\n",
       "      <td>891689557279858688</td>\n",
       "      <td>8964</td>\n",
       "      <td>42908</td>\n",
       "    </tr>\n",
       "    <tr>\n",
       "      <th>4</th>\n",
       "      <td>891327558926688256</td>\n",
       "      <td>9774</td>\n",
       "      <td>41048</td>\n",
       "    </tr>\n",
       "  </tbody>\n",
       "</table>\n",
       "</div>"
      ],
      "text/plain": [
       "                   id  retweet_count  favorite_count\n",
       "0  892420643555336193           8853           39467\n",
       "1  892177421306343426           6514           33819\n",
       "2  891815181378084864           4328           25461\n",
       "3  891689557279858688           8964           42908\n",
       "4  891327558926688256           9774           41048"
      ]
     },
     "execution_count": 21,
     "metadata": {},
     "output_type": "execute_result"
    }
   ],
   "source": [
    "# Assessing the first 5 rows of the data\n",
    "api_data.head()"
   ]
  },
  {
   "cell_type": "code",
   "execution_count": 22,
   "id": "a95f35ec",
   "metadata": {},
   "outputs": [
    {
     "data": {
      "text/html": [
       "<div>\n",
       "<style scoped>\n",
       "    .dataframe tbody tr th:only-of-type {\n",
       "        vertical-align: middle;\n",
       "    }\n",
       "\n",
       "    .dataframe tbody tr th {\n",
       "        vertical-align: top;\n",
       "    }\n",
       "\n",
       "    .dataframe thead th {\n",
       "        text-align: right;\n",
       "    }\n",
       "</style>\n",
       "<table border=\"1\" class=\"dataframe\">\n",
       "  <thead>\n",
       "    <tr style=\"text-align: right;\">\n",
       "      <th></th>\n",
       "      <th>id</th>\n",
       "      <th>retweet_count</th>\n",
       "      <th>favorite_count</th>\n",
       "    </tr>\n",
       "  </thead>\n",
       "  <tbody>\n",
       "    <tr>\n",
       "      <th>2349</th>\n",
       "      <td>666049248165822465</td>\n",
       "      <td>41</td>\n",
       "      <td>111</td>\n",
       "    </tr>\n",
       "    <tr>\n",
       "      <th>2350</th>\n",
       "      <td>666044226329800704</td>\n",
       "      <td>147</td>\n",
       "      <td>311</td>\n",
       "    </tr>\n",
       "    <tr>\n",
       "      <th>2351</th>\n",
       "      <td>666033412701032449</td>\n",
       "      <td>47</td>\n",
       "      <td>128</td>\n",
       "    </tr>\n",
       "    <tr>\n",
       "      <th>2352</th>\n",
       "      <td>666029285002620928</td>\n",
       "      <td>48</td>\n",
       "      <td>132</td>\n",
       "    </tr>\n",
       "    <tr>\n",
       "      <th>2353</th>\n",
       "      <td>666020888022790149</td>\n",
       "      <td>532</td>\n",
       "      <td>2535</td>\n",
       "    </tr>\n",
       "  </tbody>\n",
       "</table>\n",
       "</div>"
      ],
      "text/plain": [
       "                      id  retweet_count  favorite_count\n",
       "2349  666049248165822465             41             111\n",
       "2350  666044226329800704            147             311\n",
       "2351  666033412701032449             47             128\n",
       "2352  666029285002620928             48             132\n",
       "2353  666020888022790149            532            2535"
      ]
     },
     "execution_count": 22,
     "metadata": {},
     "output_type": "execute_result"
    }
   ],
   "source": [
    "# Assessing the last 5 rows of the data\n",
    "api_data.tail()"
   ]
  },
  {
   "cell_type": "code",
   "execution_count": 23,
   "id": "8351cb7c",
   "metadata": {},
   "outputs": [
    {
     "data": {
      "text/html": [
       "<div>\n",
       "<style scoped>\n",
       "    .dataframe tbody tr th:only-of-type {\n",
       "        vertical-align: middle;\n",
       "    }\n",
       "\n",
       "    .dataframe tbody tr th {\n",
       "        vertical-align: top;\n",
       "    }\n",
       "\n",
       "    .dataframe thead th {\n",
       "        text-align: right;\n",
       "    }\n",
       "</style>\n",
       "<table border=\"1\" class=\"dataframe\">\n",
       "  <thead>\n",
       "    <tr style=\"text-align: right;\">\n",
       "      <th></th>\n",
       "      <th>id</th>\n",
       "      <th>retweet_count</th>\n",
       "      <th>favorite_count</th>\n",
       "    </tr>\n",
       "  </thead>\n",
       "  <tbody>\n",
       "    <tr>\n",
       "      <th>576</th>\n",
       "      <td>800855607700029440</td>\n",
       "      <td>1889</td>\n",
       "      <td>0</td>\n",
       "    </tr>\n",
       "    <tr>\n",
       "      <th>1526</th>\n",
       "      <td>690348396616552449</td>\n",
       "      <td>573</td>\n",
       "      <td>1644</td>\n",
       "    </tr>\n",
       "    <tr>\n",
       "      <th>1234</th>\n",
       "      <td>712438159032893441</td>\n",
       "      <td>1756</td>\n",
       "      <td>5799</td>\n",
       "    </tr>\n",
       "    <tr>\n",
       "      <th>732</th>\n",
       "      <td>781308096455073793</td>\n",
       "      <td>2961</td>\n",
       "      <td>7973</td>\n",
       "    </tr>\n",
       "    <tr>\n",
       "      <th>1524</th>\n",
       "      <td>690374419777196032</td>\n",
       "      <td>972</td>\n",
       "      <td>3560</td>\n",
       "    </tr>\n",
       "  </tbody>\n",
       "</table>\n",
       "</div>"
      ],
      "text/plain": [
       "                      id  retweet_count  favorite_count\n",
       "576   800855607700029440           1889               0\n",
       "1526  690348396616552449            573            1644\n",
       "1234  712438159032893441           1756            5799\n",
       "732   781308096455073793           2961            7973\n",
       "1524  690374419777196032            972            3560"
      ]
     },
     "execution_count": 23,
     "metadata": {},
     "output_type": "execute_result"
    }
   ],
   "source": [
    "# Assessing a random 5 rows of the data\n",
    "api_data.sample(5)"
   ]
  },
  {
   "cell_type": "markdown",
   "id": "6790b1bc",
   "metadata": {},
   "source": [
    "### Programmatical Assessment\n",
    ">\n",
    ">Using the Pandas functions and methods to assess each of the dataset\n",
    ">\n",
    "#### Archive Data "
   ]
  },
  {
   "cell_type": "code",
   "execution_count": 24,
   "id": "594c826d",
   "metadata": {},
   "outputs": [
    {
     "data": {
      "text/plain": [
       "(2356, 17)"
      ]
     },
     "execution_count": 24,
     "metadata": {},
     "output_type": "execute_result"
    }
   ],
   "source": [
    "# Checking the data shape\n",
    "archive_data.shape"
   ]
  },
  {
   "cell_type": "code",
   "execution_count": 25,
   "id": "84f589a1",
   "metadata": {},
   "outputs": [
    {
     "name": "stdout",
     "output_type": "stream",
     "text": [
      "<class 'pandas.core.frame.DataFrame'>\n",
      "RangeIndex: 2356 entries, 0 to 2355\n",
      "Data columns (total 17 columns):\n",
      " #   Column                      Non-Null Count  Dtype  \n",
      "---  ------                      --------------  -----  \n",
      " 0   tweet_id                    2356 non-null   int64  \n",
      " 1   in_reply_to_status_id       78 non-null     float64\n",
      " 2   in_reply_to_user_id         78 non-null     float64\n",
      " 3   timestamp                   2356 non-null   object \n",
      " 4   source                      2356 non-null   object \n",
      " 5   text                        2356 non-null   object \n",
      " 6   retweeted_status_id         181 non-null    float64\n",
      " 7   retweeted_status_user_id    181 non-null    float64\n",
      " 8   retweeted_status_timestamp  181 non-null    object \n",
      " 9   expanded_urls               2297 non-null   object \n",
      " 10  rating_numerator            2356 non-null   int64  \n",
      " 11  rating_denominator          2356 non-null   int64  \n",
      " 12  name                        2356 non-null   object \n",
      " 13  doggo                       2356 non-null   object \n",
      " 14  floofer                     2356 non-null   object \n",
      " 15  pupper                      2356 non-null   object \n",
      " 16  puppo                       2356 non-null   object \n",
      "dtypes: float64(4), int64(3), object(10)\n",
      "memory usage: 313.0+ KB\n"
     ]
    }
   ],
   "source": [
    "# Checking the data info\n",
    "archive_data.info()"
   ]
  },
  {
   "cell_type": "code",
   "execution_count": 26,
   "id": "9ba777da",
   "metadata": {},
   "outputs": [
    {
     "data": {
      "text/plain": [
       "count    2356.000000\n",
       "mean       13.126486\n",
       "std        45.876648\n",
       "min         0.000000\n",
       "25%        10.000000\n",
       "50%        11.000000\n",
       "75%        12.000000\n",
       "max      1776.000000\n",
       "Name: rating_numerator, dtype: float64"
      ]
     },
     "execution_count": 26,
     "metadata": {},
     "output_type": "execute_result"
    }
   ],
   "source": [
    "# rating_numerator statistical function\n",
    "archive_data['rating_numerator'].describe()"
   ]
  },
  {
   "cell_type": "code",
   "execution_count": 27,
   "id": "1fdce5c9",
   "metadata": {},
   "outputs": [
    {
     "data": {
      "text/plain": [
       "count    2356.000000\n",
       "mean       10.455433\n",
       "std         6.745237\n",
       "min         0.000000\n",
       "25%        10.000000\n",
       "50%        10.000000\n",
       "75%        10.000000\n",
       "max       170.000000\n",
       "Name: rating_denominator, dtype: float64"
      ]
     },
     "execution_count": 27,
     "metadata": {},
     "output_type": "execute_result"
    }
   ],
   "source": [
    "# rating_denominator statistical function\n",
    "archive_data['rating_denominator'].describe()"
   ]
  },
  {
   "cell_type": "code",
   "execution_count": 28,
   "id": "73720378",
   "metadata": {},
   "outputs": [
    {
     "data": {
      "text/plain": [
       "440"
      ]
     },
     "execution_count": 28,
     "metadata": {},
     "output_type": "execute_result"
    }
   ],
   "source": [
    "# Rating numerator less than the rating denominator (10)\n",
    "archive_data[archive_data['rating_numerator'] < 10].count()[0]"
   ]
  },
  {
   "cell_type": "code",
   "execution_count": 29,
   "id": "a56821f4",
   "metadata": {},
   "outputs": [
    {
     "data": {
      "text/plain": [
       "3"
      ]
     },
     "execution_count": 29,
     "metadata": {},
     "output_type": "execute_result"
    }
   ],
   "source": [
    "# Rating denominator less than 10\n",
    "archive_data[archive_data['rating_denominator'] < 10].count()[0]"
   ]
  },
  {
   "cell_type": "code",
   "execution_count": 30,
   "id": "b661f0d7",
   "metadata": {},
   "outputs": [
    {
     "data": {
      "text/plain": [
       "20"
      ]
     },
     "execution_count": 30,
     "metadata": {},
     "output_type": "execute_result"
    }
   ],
   "source": [
    "# Rating denominator greater than 10\n",
    "archive_data[archive_data['rating_denominator'] > 10].count()[0]"
   ]
  },
  {
   "cell_type": "code",
   "execution_count": 31,
   "id": "1eb5ef99",
   "metadata": {},
   "outputs": [
    {
     "data": {
      "text/plain": [
       "0"
      ]
     },
     "execution_count": 31,
     "metadata": {},
     "output_type": "execute_result"
    }
   ],
   "source": [
    "# sum of duplicate function\n",
    "def dup(dsum):\n",
    "    # Checking for any duplicated tweet_id\n",
    "    return dsum.duplicated().sum()\n",
    "\n",
    "\n",
    "\n",
    "dup(archive_data['tweet_id'])"
   ]
  },
  {
   "cell_type": "code",
   "execution_count": 32,
   "id": "f709da8d",
   "metadata": {},
   "outputs": [
    {
     "data": {
      "text/plain": [
       "12      558\n",
       "11      464\n",
       "10      461\n",
       "13      351\n",
       "9       158\n",
       "8       102\n",
       "7        55\n",
       "14       54\n",
       "5        37\n",
       "6        32\n",
       "3        19\n",
       "4        17\n",
       "1         9\n",
       "2         9\n",
       "0         2\n",
       "15        2\n",
       "75        2\n",
       "420       2\n",
       "182       1\n",
       "204       1\n",
       "143       1\n",
       "121       1\n",
       "99        1\n",
       "20        1\n",
       "45        1\n",
       "27        1\n",
       "17        1\n",
       "24        1\n",
       "26        1\n",
       "44        1\n",
       "50        1\n",
       "60        1\n",
       "80        1\n",
       "84        1\n",
       "88        1\n",
       "1776      1\n",
       "960       1\n",
       "666       1\n",
       "144       1\n",
       "165       1\n",
       "Name: rating_numerator, dtype: int64"
      ]
     },
     "execution_count": 32,
     "metadata": {},
     "output_type": "execute_result"
    }
   ],
   "source": [
    "# Value count function\n",
    "def vcount(name):\n",
    "    # Counts of rating_numerator\n",
    "    return name.value_counts()\n",
    "\n",
    "        \n",
    "vcount(archive_data['rating_numerator'])"
   ]
  },
  {
   "cell_type": "code",
   "execution_count": 33,
   "id": "3b8c17b2",
   "metadata": {},
   "outputs": [
    {
     "data": {
      "text/plain": [
       "10     2333\n",
       "11        3\n",
       "50        3\n",
       "20        2\n",
       "80        2\n",
       "0         1\n",
       "120       1\n",
       "7         1\n",
       "170       1\n",
       "150       1\n",
       "130       1\n",
       "90        1\n",
       "110       1\n",
       "2         1\n",
       "70        1\n",
       "40        1\n",
       "16        1\n",
       "15        1\n",
       "Name: rating_denominator, dtype: int64"
      ]
     },
     "execution_count": 33,
     "metadata": {},
     "output_type": "execute_result"
    }
   ],
   "source": [
    "# Counts of rating_denominator\n",
    "vcount(archive_data['rating_denominator'])"
   ]
  },
  {
   "cell_type": "markdown",
   "id": "d76163b2",
   "metadata": {},
   "source": [
    "#### Image Data Assessment"
   ]
  },
  {
   "cell_type": "code",
   "execution_count": 34,
   "id": "b43ae0b4",
   "metadata": {},
   "outputs": [
    {
     "data": {
      "text/plain": [
       "(2075, 12)"
      ]
     },
     "execution_count": 34,
     "metadata": {},
     "output_type": "execute_result"
    }
   ],
   "source": [
    "# Checking the data shape\n",
    "image_data.shape"
   ]
  },
  {
   "cell_type": "code",
   "execution_count": 35,
   "id": "55e209f3",
   "metadata": {},
   "outputs": [
    {
     "name": "stdout",
     "output_type": "stream",
     "text": [
      "<class 'pandas.core.frame.DataFrame'>\n",
      "RangeIndex: 2075 entries, 0 to 2074\n",
      "Data columns (total 12 columns):\n",
      " #   Column    Non-Null Count  Dtype  \n",
      "---  ------    --------------  -----  \n",
      " 0   tweet_id  2075 non-null   int64  \n",
      " 1   jpg_url   2075 non-null   object \n",
      " 2   img_num   2075 non-null   int64  \n",
      " 3   p1        2075 non-null   object \n",
      " 4   p1_conf   2075 non-null   float64\n",
      " 5   p1_dog    2075 non-null   bool   \n",
      " 6   p2        2075 non-null   object \n",
      " 7   p2_conf   2075 non-null   float64\n",
      " 8   p2_dog    2075 non-null   bool   \n",
      " 9   p3        2075 non-null   object \n",
      " 10  p3_conf   2075 non-null   float64\n",
      " 11  p3_dog    2075 non-null   bool   \n",
      "dtypes: bool(3), float64(3), int64(2), object(4)\n",
      "memory usage: 152.1+ KB\n"
     ]
    }
   ],
   "source": [
    "# Checking the data info\n",
    "image_data.info()"
   ]
  },
  {
   "cell_type": "code",
   "execution_count": 36,
   "id": "2f1c7560",
   "metadata": {},
   "outputs": [
    {
     "data": {
      "text/plain": [
       "0"
      ]
     },
     "execution_count": 36,
     "metadata": {},
     "output_type": "execute_result"
    }
   ],
   "source": [
    "# Checking for any duplicated tweet_id\n",
    "dup(image_data['tweet_id'])"
   ]
  },
  {
   "cell_type": "code",
   "execution_count": 37,
   "id": "2f943eec",
   "metadata": {},
   "outputs": [
    {
     "data": {
      "text/plain": [
       "66"
      ]
     },
     "execution_count": 37,
     "metadata": {},
     "output_type": "execute_result"
    }
   ],
   "source": [
    "# Checking for any duplicated jgp_url\n",
    "dup(image_data['jpg_url'])"
   ]
  },
  {
   "cell_type": "code",
   "execution_count": 38,
   "id": "2c481d5d",
   "metadata": {},
   "outputs": [
    {
     "data": {
      "text/plain": [
       "True     1532\n",
       "False     543\n",
       "Name: p1_dog, dtype: int64"
      ]
     },
     "execution_count": 38,
     "metadata": {},
     "output_type": "execute_result"
    }
   ],
   "source": [
    "# Counts of p1_dog column\n",
    "vcount(image_data['p1_dog'])"
   ]
  },
  {
   "cell_type": "code",
   "execution_count": 39,
   "id": "259e0d8c",
   "metadata": {},
   "outputs": [
    {
     "data": {
      "text/plain": [
       "True     1553\n",
       "False     522\n",
       "Name: p2_dog, dtype: int64"
      ]
     },
     "execution_count": 39,
     "metadata": {},
     "output_type": "execute_result"
    }
   ],
   "source": [
    "# Counts of p2_dog column\n",
    "vcount(image_data['p2_dog'])"
   ]
  },
  {
   "cell_type": "code",
   "execution_count": 40,
   "id": "3db4adcd",
   "metadata": {},
   "outputs": [
    {
     "data": {
      "text/plain": [
       "True     1499\n",
       "False     576\n",
       "Name: p3_dog, dtype: int64"
      ]
     },
     "execution_count": 40,
     "metadata": {},
     "output_type": "execute_result"
    }
   ],
   "source": [
    "# Counts of p3_dog column\n",
    "vcount(image_data['p3_dog'])"
   ]
  },
  {
   "cell_type": "code",
   "execution_count": 41,
   "id": "ae40a429",
   "metadata": {},
   "outputs": [
    {
     "data": {
      "text/plain": [
       "1    1780\n",
       "2     198\n",
       "3      66\n",
       "4      31\n",
       "Name: img_num, dtype: int64"
      ]
     },
     "execution_count": 41,
     "metadata": {},
     "output_type": "execute_result"
    }
   ],
   "source": [
    "# Counts of img_num column\n",
    "vcount(image_data['img_num'])"
   ]
  },
  {
   "cell_type": "markdown",
   "id": "1c27c352",
   "metadata": {},
   "source": [
    "#### API Data Assessment"
   ]
  },
  {
   "cell_type": "code",
   "execution_count": 42,
   "id": "508cfecb",
   "metadata": {},
   "outputs": [
    {
     "data": {
      "text/plain": [
       "(2354, 3)"
      ]
     },
     "execution_count": 42,
     "metadata": {},
     "output_type": "execute_result"
    }
   ],
   "source": [
    "# Checking the data shape\n",
    "api_data.shape"
   ]
  },
  {
   "cell_type": "code",
   "execution_count": 43,
   "id": "1d3e8b8a",
   "metadata": {},
   "outputs": [
    {
     "name": "stdout",
     "output_type": "stream",
     "text": [
      "<class 'pandas.core.frame.DataFrame'>\n",
      "RangeIndex: 2354 entries, 0 to 2353\n",
      "Data columns (total 3 columns):\n",
      " #   Column          Non-Null Count  Dtype\n",
      "---  ------          --------------  -----\n",
      " 0   id              2354 non-null   int64\n",
      " 1   retweet_count   2354 non-null   int64\n",
      " 2   favorite_count  2354 non-null   int64\n",
      "dtypes: int64(3)\n",
      "memory usage: 55.3 KB\n"
     ]
    }
   ],
   "source": [
    "# Checking the data info\n",
    "api_data.info()"
   ]
  },
  {
   "cell_type": "code",
   "execution_count": 44,
   "id": "6e63cb3d",
   "metadata": {},
   "outputs": [
    {
     "data": {
      "text/plain": [
       "0"
      ]
     },
     "execution_count": 44,
     "metadata": {},
     "output_type": "execute_result"
    }
   ],
   "source": [
    "# Checking for duplicate id\n",
    "dup(api_data['id'])"
   ]
  },
  {
   "cell_type": "markdown",
   "id": "ef58b6b2",
   "metadata": {},
   "source": [
    "### Cleanning Data\n",
    ">\n",
    ">In this section, I will clean the data to ensure that it is good enough to carry out my analysis, which I listed all the issues I noticed during the process of assessing the data.\n",
    ">\n",
    "  #### Define:\n",
    ">\n",
    ">**Quality (Completeness, Validity, accuracy, Consistency)**\n",
    ">\n",
    ">>**Archive Data**\n",
    ">>>\n",
    ">>> * Only original ratings with images are need (no retweets)\n",
    ">>>\n",
    ">>> * Expand the timestamp column to Date and Time seperate columns\n",
    ">>>\n",
    ">>> * Lenghty tweet_id characters\n",
    ">>>\n",
    ">>> * Incomplete/invalid characters in the Name column\n",
    ">>>\n",
    ">>> * Invalid ratings on 'rating_numerator' and 'rating_denominator' columns\n",
    ">>>\n",
    ">>> * Drop all un-usefull columns\n",
    ">>>\n",
    ">>\n",
    ">>**Image Data**\n",
    ">>> * Drop duplicated jpg_url\n",
    ">>>\n",
    ">>> * Invalid characters in p1, p2 and p3 columns respectively\n",
    ">>>\n",
    ">>> * Lenghty tweet_id characters\n",
    ">>>\n",
    ">>> * Inconsistency of name-case in the p1, p2 and p3 columns\n",
    ">>\n",
    ">>**API Data**\n",
    ">>> * Lenghty id characters\n",
    ">>>\n",
    ">>> * Change the id column name\n",
    ">>\n",
    ">**Tidiness**\n",
    ">> * Related datasets\n",
    ">>\n",
    ">> * Merge the doggo, floofer, pupper and puppo columns together"
   ]
  },
  {
   "cell_type": "code",
   "execution_count": 45,
   "id": "5d046698",
   "metadata": {},
   "outputs": [],
   "source": [
    "# Copy of all datasets\n",
    "archive_data1 = archive_data.copy()\n",
    "image_data1 = image_data.copy()\n",
    "api_data1 = api_data.copy()"
   ]
  },
  {
   "cell_type": "markdown",
   "id": "10fb678d",
   "metadata": {},
   "source": [
    "#### Coding and Testing\n",
    ">\n",
    "> **Archive Data**\n",
    ">>\n",
    ">>**Only original ratings with images are need (no retweets)**\n",
    ">>>\n",
    ">>> I dropped all the retweet related columns since only the original tweets with image and ratings are needed"
   ]
  },
  {
   "cell_type": "code",
   "execution_count": 46,
   "id": "af18fb25",
   "metadata": {},
   "outputs": [
    {
     "name": "stdout",
     "output_type": "stream",
     "text": [
      "<class 'pandas.core.frame.DataFrame'>\n",
      "RangeIndex: 2356 entries, 0 to 2355\n",
      "Data columns (total 14 columns):\n",
      " #   Column                 Non-Null Count  Dtype  \n",
      "---  ------                 --------------  -----  \n",
      " 0   tweet_id               2356 non-null   int64  \n",
      " 1   in_reply_to_status_id  78 non-null     float64\n",
      " 2   in_reply_to_user_id    78 non-null     float64\n",
      " 3   timestamp              2356 non-null   object \n",
      " 4   source                 2356 non-null   object \n",
      " 5   text                   2356 non-null   object \n",
      " 6   expanded_urls          2297 non-null   object \n",
      " 7   rating_numerator       2356 non-null   int64  \n",
      " 8   rating_denominator     2356 non-null   int64  \n",
      " 9   name                   2356 non-null   object \n",
      " 10  doggo                  2356 non-null   object \n",
      " 11  floofer                2356 non-null   object \n",
      " 12  pupper                 2356 non-null   object \n",
      " 13  puppo                  2356 non-null   object \n",
      "dtypes: float64(2), int64(3), object(9)\n",
      "memory usage: 257.8+ KB\n"
     ]
    }
   ],
   "source": [
    "# Delete the retweet related columns\n",
    "columns = ['retweeted_status_id','retweeted_status_user_id','retweeted_status_timestamp']\n",
    "archive_data1.drop(columns, axis = 1, inplace = True)\n",
    "\n",
    "# Test\n",
    "archive_data1.info()"
   ]
  },
  {
   "cell_type": "markdown",
   "id": "5c413109",
   "metadata": {},
   "source": [
    "**Expand the timestamp column to Date and Time seperate columns**\n",
    ">\n",
    "> I seperated the Timestamp column into two columns comprising of Date and Time"
   ]
  },
  {
   "cell_type": "code",
   "execution_count": 47,
   "id": "3936a801",
   "metadata": {},
   "outputs": [
    {
     "name": "stdout",
     "output_type": "stream",
     "text": [
      "<class 'pandas.core.frame.DataFrame'>\n",
      "RangeIndex: 2356 entries, 0 to 2355\n",
      "Data columns (total 16 columns):\n",
      " #   Column                 Non-Null Count  Dtype  \n",
      "---  ------                 --------------  -----  \n",
      " 0   tweet_id               2356 non-null   int64  \n",
      " 1   in_reply_to_status_id  78 non-null     float64\n",
      " 2   in_reply_to_user_id    78 non-null     float64\n",
      " 3   timestamp              2356 non-null   object \n",
      " 4   source                 2356 non-null   object \n",
      " 5   text                   2356 non-null   object \n",
      " 6   expanded_urls          2297 non-null   object \n",
      " 7   rating_numerator       2356 non-null   int64  \n",
      " 8   rating_denominator     2356 non-null   int64  \n",
      " 9   name                   2356 non-null   object \n",
      " 10  doggo                  2356 non-null   object \n",
      " 11  floofer                2356 non-null   object \n",
      " 12  pupper                 2356 non-null   object \n",
      " 13  puppo                  2356 non-null   object \n",
      " 14  date                   2356 non-null   object \n",
      " 15  time                   2356 non-null   object \n",
      "dtypes: float64(2), int64(3), object(11)\n",
      "memory usage: 294.6+ KB\n"
     ]
    }
   ],
   "source": [
    "# Date column\n",
    "archive_data1['date'] = pd.to_datetime(archive_data1['timestamp']).dt.date\n",
    "\n",
    "# Time column\n",
    "archive_data1['time'] = pd.to_datetime(archive_data1['timestamp']).dt.time\n",
    "\n",
    "# Test\n",
    "archive_data1.info()"
   ]
  },
  {
   "cell_type": "markdown",
   "id": "5b392972",
   "metadata": {},
   "source": [
    "**Lenghty tweet_id characters**\n",
    ">>\n",
    ">> I shorthend the lenght of the tweet_id to the first 7 characters for easy and fast recognition"
   ]
  },
  {
   "cell_type": "code",
   "execution_count": 48,
   "id": "08d28908",
   "metadata": {},
   "outputs": [
    {
     "data": {
      "text/plain": [
       "0    8924206\n",
       "1    8921774\n",
       "2    8918151\n",
       "3    8916895\n",
       "4    8913275\n",
       "Name: tweet_id, dtype: int64"
      ]
     },
     "execution_count": 48,
     "metadata": {},
     "output_type": "execute_result"
    }
   ],
   "source": [
    "# Extracting the first 7 letters\n",
    "archive_data1['tweet_id'] = archive_data1['tweet_id'].astype(str).str[:7]\n",
    "archive_data1['tweet_id'] = archive_data1['tweet_id'].astype('int64')\n",
    "\n",
    "\n",
    "# Test\n",
    "archive_data1['tweet_id'].head()"
   ]
  },
  {
   "cell_type": "markdown",
   "id": "7e5c52b7",
   "metadata": {},
   "source": [
    "**Incomplete/invalid characters in the Name column**\n",
    ">\n",
    "> Some of the rows in the 'name' column contains what seems to be an invalid name for the dogs, ranging from 'a', 'an, 'None', etc. So I converted all the invalid characters in the 'name' column to 'NaN' values"
   ]
  },
  {
   "cell_type": "code",
   "execution_count": 49,
   "id": "baccff1c",
   "metadata": {},
   "outputs": [
    {
     "data": {
      "text/plain": [
       "1417      Claude\n",
       "1691     Glacier\n",
       "2143       Julio\n",
       "477         Jack\n",
       "2353         NaN\n",
       "2083      Maggie\n",
       "631        Laika\n",
       "422     Hercules\n",
       "1670     Patrick\n",
       "2088      Antony\n",
       "Name: name, dtype: object"
      ]
     },
     "execution_count": 49,
     "metadata": {},
     "output_type": "execute_result"
    }
   ],
   "source": [
    "# Convert all invalid characters to NaN\n",
    "archive_data1['name'] = archive_data1['name'].replace(regex=['^[a-z]+','None'], value = np.nan)\n",
    "\n",
    "\n",
    "# Test\n",
    "archive_data1['name'].sample(10)"
   ]
  },
  {
   "cell_type": "markdown",
   "id": "c59b2060",
   "metadata": {},
   "source": [
    "**Merge the doggo, floofer, pupper and puppo columns together**\n",
    ">\n",
    "> Having the dog names in seperate columns isn't necessary, so I merged them together to form a new column 'dog_stage'"
   ]
  },
  {
   "cell_type": "code",
   "execution_count": 50,
   "id": "0cb1e8a1",
   "metadata": {},
   "outputs": [
    {
     "data": {
      "text/plain": [
       "Index(['tweet_id', 'in_reply_to_status_id', 'in_reply_to_user_id', 'timestamp',\n",
       "       'source', 'text', 'expanded_urls', 'rating_numerator',\n",
       "       'rating_denominator', 'name', 'doggo', 'floofer', 'pupper', 'puppo',\n",
       "       'date', 'time', 'dog_stage'],\n",
       "      dtype='object')"
      ]
     },
     "execution_count": 50,
     "metadata": {},
     "output_type": "execute_result"
    }
   ],
   "source": [
    "# Creating the dog_stage column\n",
    "archive_data1['dog_stage'] = archive_data1['text'].str.extract(\"(doggo|floofer|pupper|puppo)\")\n",
    "\n",
    "# Test\n",
    "archive_data1.columns"
   ]
  },
  {
   "cell_type": "markdown",
   "id": "e01080c4",
   "metadata": {},
   "source": [
    "**Invalid rating on 'rating_numerator' and 'rating_denominator' columns**\n",
    ">\n",
    "> Going by the standard form of ratings, numerator is to be greater than the denominator. After going through the archive_data1 dataset, I noticed there are some rows with an incorrect ratings in the 'rating_numerator' and 'rating_denominator' column.\n",
    ">\n",
    "> In conclusion, I dropped all the rows in the 'rating_denominator' column having less-than or greater-than '10' as it's rating.\n",
    ">\n",
    "> I also dropped all rows in the 'rating_numerator' column having less-than '10' as it's rating, since our rating denominator is '10'"
   ]
  },
  {
   "cell_type": "code",
   "execution_count": 51,
   "id": "4803b788",
   "metadata": {},
   "outputs": [
    {
     "data": {
      "text/html": [
       "<div>\n",
       "<style scoped>\n",
       "    .dataframe tbody tr th:only-of-type {\n",
       "        vertical-align: middle;\n",
       "    }\n",
       "\n",
       "    .dataframe tbody tr th {\n",
       "        vertical-align: top;\n",
       "    }\n",
       "\n",
       "    .dataframe thead th {\n",
       "        text-align: right;\n",
       "    }\n",
       "</style>\n",
       "<table border=\"1\" class=\"dataframe\">\n",
       "  <thead>\n",
       "    <tr style=\"text-align: right;\">\n",
       "      <th></th>\n",
       "      <th>tweet_id</th>\n",
       "      <th>in_reply_to_status_id</th>\n",
       "      <th>in_reply_to_user_id</th>\n",
       "      <th>timestamp</th>\n",
       "      <th>source</th>\n",
       "      <th>text</th>\n",
       "      <th>expanded_urls</th>\n",
       "      <th>rating_numerator</th>\n",
       "      <th>rating_denominator</th>\n",
       "      <th>name</th>\n",
       "      <th>doggo</th>\n",
       "      <th>floofer</th>\n",
       "      <th>pupper</th>\n",
       "      <th>puppo</th>\n",
       "      <th>date</th>\n",
       "      <th>time</th>\n",
       "      <th>dog_stage</th>\n",
       "    </tr>\n",
       "  </thead>\n",
       "  <tbody>\n",
       "    <tr>\n",
       "      <th>0</th>\n",
       "      <td>8924206</td>\n",
       "      <td>NaN</td>\n",
       "      <td>NaN</td>\n",
       "      <td>2017-08-01 16:23:56 +0000</td>\n",
       "      <td>&lt;a href=\"http://twitter.com/download/iphone\" r...</td>\n",
       "      <td>This is Phineas. He's a mystical boy. Only eve...</td>\n",
       "      <td>https://twitter.com/dog_rates/status/892420643...</td>\n",
       "      <td>13</td>\n",
       "      <td>10</td>\n",
       "      <td>Phineas</td>\n",
       "      <td>None</td>\n",
       "      <td>None</td>\n",
       "      <td>None</td>\n",
       "      <td>None</td>\n",
       "      <td>2017-08-01</td>\n",
       "      <td>16:23:56</td>\n",
       "      <td>NaN</td>\n",
       "    </tr>\n",
       "    <tr>\n",
       "      <th>1</th>\n",
       "      <td>8921774</td>\n",
       "      <td>NaN</td>\n",
       "      <td>NaN</td>\n",
       "      <td>2017-08-01 00:17:27 +0000</td>\n",
       "      <td>&lt;a href=\"http://twitter.com/download/iphone\" r...</td>\n",
       "      <td>This is Tilly. She's just checking pup on you....</td>\n",
       "      <td>https://twitter.com/dog_rates/status/892177421...</td>\n",
       "      <td>13</td>\n",
       "      <td>10</td>\n",
       "      <td>Tilly</td>\n",
       "      <td>None</td>\n",
       "      <td>None</td>\n",
       "      <td>None</td>\n",
       "      <td>None</td>\n",
       "      <td>2017-08-01</td>\n",
       "      <td>00:17:27</td>\n",
       "      <td>NaN</td>\n",
       "    </tr>\n",
       "    <tr>\n",
       "      <th>2</th>\n",
       "      <td>8918151</td>\n",
       "      <td>NaN</td>\n",
       "      <td>NaN</td>\n",
       "      <td>2017-07-31 00:18:03 +0000</td>\n",
       "      <td>&lt;a href=\"http://twitter.com/download/iphone\" r...</td>\n",
       "      <td>This is Archie. He is a rare Norwegian Pouncin...</td>\n",
       "      <td>https://twitter.com/dog_rates/status/891815181...</td>\n",
       "      <td>12</td>\n",
       "      <td>10</td>\n",
       "      <td>Archie</td>\n",
       "      <td>None</td>\n",
       "      <td>None</td>\n",
       "      <td>None</td>\n",
       "      <td>None</td>\n",
       "      <td>2017-07-31</td>\n",
       "      <td>00:18:03</td>\n",
       "      <td>NaN</td>\n",
       "    </tr>\n",
       "    <tr>\n",
       "      <th>3</th>\n",
       "      <td>8916895</td>\n",
       "      <td>NaN</td>\n",
       "      <td>NaN</td>\n",
       "      <td>2017-07-30 15:58:51 +0000</td>\n",
       "      <td>&lt;a href=\"http://twitter.com/download/iphone\" r...</td>\n",
       "      <td>This is Darla. She commenced a snooze mid meal...</td>\n",
       "      <td>https://twitter.com/dog_rates/status/891689557...</td>\n",
       "      <td>13</td>\n",
       "      <td>10</td>\n",
       "      <td>Darla</td>\n",
       "      <td>None</td>\n",
       "      <td>None</td>\n",
       "      <td>None</td>\n",
       "      <td>None</td>\n",
       "      <td>2017-07-30</td>\n",
       "      <td>15:58:51</td>\n",
       "      <td>NaN</td>\n",
       "    </tr>\n",
       "    <tr>\n",
       "      <th>4</th>\n",
       "      <td>8913275</td>\n",
       "      <td>NaN</td>\n",
       "      <td>NaN</td>\n",
       "      <td>2017-07-29 16:00:24 +0000</td>\n",
       "      <td>&lt;a href=\"http://twitter.com/download/iphone\" r...</td>\n",
       "      <td>This is Franklin. He would like you to stop ca...</td>\n",
       "      <td>https://twitter.com/dog_rates/status/891327558...</td>\n",
       "      <td>12</td>\n",
       "      <td>10</td>\n",
       "      <td>Franklin</td>\n",
       "      <td>None</td>\n",
       "      <td>None</td>\n",
       "      <td>None</td>\n",
       "      <td>None</td>\n",
       "      <td>2017-07-29</td>\n",
       "      <td>16:00:24</td>\n",
       "      <td>NaN</td>\n",
       "    </tr>\n",
       "  </tbody>\n",
       "</table>\n",
       "</div>"
      ],
      "text/plain": [
       "   tweet_id  in_reply_to_status_id  in_reply_to_user_id  \\\n",
       "0   8924206                    NaN                  NaN   \n",
       "1   8921774                    NaN                  NaN   \n",
       "2   8918151                    NaN                  NaN   \n",
       "3   8916895                    NaN                  NaN   \n",
       "4   8913275                    NaN                  NaN   \n",
       "\n",
       "                   timestamp  \\\n",
       "0  2017-08-01 16:23:56 +0000   \n",
       "1  2017-08-01 00:17:27 +0000   \n",
       "2  2017-07-31 00:18:03 +0000   \n",
       "3  2017-07-30 15:58:51 +0000   \n",
       "4  2017-07-29 16:00:24 +0000   \n",
       "\n",
       "                                              source  \\\n",
       "0  <a href=\"http://twitter.com/download/iphone\" r...   \n",
       "1  <a href=\"http://twitter.com/download/iphone\" r...   \n",
       "2  <a href=\"http://twitter.com/download/iphone\" r...   \n",
       "3  <a href=\"http://twitter.com/download/iphone\" r...   \n",
       "4  <a href=\"http://twitter.com/download/iphone\" r...   \n",
       "\n",
       "                                                text  \\\n",
       "0  This is Phineas. He's a mystical boy. Only eve...   \n",
       "1  This is Tilly. She's just checking pup on you....   \n",
       "2  This is Archie. He is a rare Norwegian Pouncin...   \n",
       "3  This is Darla. She commenced a snooze mid meal...   \n",
       "4  This is Franklin. He would like you to stop ca...   \n",
       "\n",
       "                                       expanded_urls  rating_numerator  \\\n",
       "0  https://twitter.com/dog_rates/status/892420643...                13   \n",
       "1  https://twitter.com/dog_rates/status/892177421...                13   \n",
       "2  https://twitter.com/dog_rates/status/891815181...                12   \n",
       "3  https://twitter.com/dog_rates/status/891689557...                13   \n",
       "4  https://twitter.com/dog_rates/status/891327558...                12   \n",
       "\n",
       "   rating_denominator      name doggo floofer pupper puppo        date  \\\n",
       "0                  10   Phineas  None    None   None  None  2017-08-01   \n",
       "1                  10     Tilly  None    None   None  None  2017-08-01   \n",
       "2                  10    Archie  None    None   None  None  2017-07-31   \n",
       "3                  10     Darla  None    None   None  None  2017-07-30   \n",
       "4                  10  Franklin  None    None   None  None  2017-07-29   \n",
       "\n",
       "       time dog_stage  \n",
       "0  16:23:56       NaN  \n",
       "1  00:17:27       NaN  \n",
       "2  00:18:03       NaN  \n",
       "3  15:58:51       NaN  \n",
       "4  16:00:24       NaN  "
      ]
     },
     "execution_count": 51,
     "metadata": {},
     "output_type": "execute_result"
    }
   ],
   "source": [
    "archive_data1 = archive_data1[(archive_data1['rating_denominator'] == 10) & (archive_data1['rating_numerator'] >= 10)]\n",
    "\n",
    "\n",
    "archive_data1.head()"
   ]
  },
  {
   "cell_type": "code",
   "execution_count": 52,
   "id": "72d7304e",
   "metadata": {},
   "outputs": [
    {
     "name": "stdout",
     "output_type": "stream",
     "text": [
      "<class 'pandas.core.frame.DataFrame'>\n",
      "Int64Index: 1899 entries, 0 to 2350\n",
      "Data columns (total 17 columns):\n",
      " #   Column                 Non-Null Count  Dtype  \n",
      "---  ------                 --------------  -----  \n",
      " 0   tweet_id               1899 non-null   int64  \n",
      " 1   in_reply_to_status_id  62 non-null     float64\n",
      " 2   in_reply_to_user_id    62 non-null     float64\n",
      " 3   timestamp              1899 non-null   object \n",
      " 4   source                 1899 non-null   object \n",
      " 5   text                   1899 non-null   object \n",
      " 6   expanded_urls          1853 non-null   object \n",
      " 7   rating_numerator       1899 non-null   int64  \n",
      " 8   rating_denominator     1899 non-null   int64  \n",
      " 9   name                   1241 non-null   object \n",
      " 10  doggo                  1899 non-null   object \n",
      " 11  floofer                1899 non-null   object \n",
      " 12  pupper                 1899 non-null   object \n",
      " 13  puppo                  1899 non-null   object \n",
      " 14  date                   1899 non-null   object \n",
      " 15  time                   1899 non-null   object \n",
      " 16  dog_stage              337 non-null    object \n",
      "dtypes: float64(2), int64(3), object(12)\n",
      "memory usage: 267.0+ KB\n"
     ]
    }
   ],
   "source": [
    "archive_data1.info()"
   ]
  },
  {
   "cell_type": "markdown",
   "id": "7bd4f570",
   "metadata": {},
   "source": [
    "**Drop all un-usefull columns**\n",
    ">\n",
    "> There seems to be some un-usefull columns which are no more needed, so I deleted them."
   ]
  },
  {
   "cell_type": "code",
   "execution_count": 53,
   "id": "504722c8",
   "metadata": {},
   "outputs": [
    {
     "name": "stdout",
     "output_type": "stream",
     "text": [
      "<class 'pandas.core.frame.DataFrame'>\n",
      "Int64Index: 1899 entries, 0 to 2350\n",
      "Data columns (total 9 columns):\n",
      " #   Column              Non-Null Count  Dtype \n",
      "---  ------              --------------  ----- \n",
      " 0   tweet_id            1899 non-null   int64 \n",
      " 1   source              1899 non-null   object\n",
      " 2   text                1899 non-null   object\n",
      " 3   rating_numerator    1899 non-null   int64 \n",
      " 4   rating_denominator  1899 non-null   int64 \n",
      " 5   name                1241 non-null   object\n",
      " 6   date                1899 non-null   object\n",
      " 7   time                1899 non-null   object\n",
      " 8   dog_stage           337 non-null    object\n",
      "dtypes: int64(3), object(6)\n",
      "memory usage: 148.4+ KB\n"
     ]
    }
   ],
   "source": [
    "column = ['in_reply_to_status_id', 'in_reply_to_user_id', 'timestamp', 'expanded_urls', 'doggo', 'floofer', 'pupper', 'puppo']\n",
    "\n",
    "archive_data1.drop(column, axis = 1, inplace = True)\n",
    "\n",
    "\n",
    "archive_data1.info()"
   ]
  },
  {
   "cell_type": "code",
   "execution_count": null,
   "id": "3bf1a949",
   "metadata": {},
   "outputs": [],
   "source": []
  },
  {
   "cell_type": "markdown",
   "id": "61ee04ca",
   "metadata": {},
   "source": [
    "**Image Data**\n",
    ">\n",
    ">**Drop duplicated jpg_url**\n",
    ">>\n",
    ">> I deleted all the duplicated rows in the 'jpg_url' column"
   ]
  },
  {
   "cell_type": "code",
   "execution_count": 54,
   "id": "6d9fb66b",
   "metadata": {},
   "outputs": [
    {
     "data": {
      "text/plain": [
       "0"
      ]
     },
     "execution_count": 54,
     "metadata": {},
     "output_type": "execute_result"
    }
   ],
   "source": [
    "# Delete duplicated rows\n",
    "image_data1 = image_data1.drop_duplicates('jpg_url', keep='first')\n",
    "\n",
    "# Test\n",
    "image_data1['jpg_url'].duplicated().sum()"
   ]
  },
  {
   "cell_type": "markdown",
   "id": "d746c8bd",
   "metadata": {},
   "source": [
    "**Invalid characters in p1, p2 and p3 columns respectively**\n",
    ">\n",
    "> I removed all the special characters ( _ ) in listed columns and replaced it with a space for better readability"
   ]
  },
  {
   "cell_type": "code",
   "execution_count": 55,
   "id": "3d36fcb3",
   "metadata": {},
   "outputs": [
    {
     "data": {
      "text/html": [
       "<div>\n",
       "<style scoped>\n",
       "    .dataframe tbody tr th:only-of-type {\n",
       "        vertical-align: middle;\n",
       "    }\n",
       "\n",
       "    .dataframe tbody tr th {\n",
       "        vertical-align: top;\n",
       "    }\n",
       "\n",
       "    .dataframe thead th {\n",
       "        text-align: right;\n",
       "    }\n",
       "</style>\n",
       "<table border=\"1\" class=\"dataframe\">\n",
       "  <thead>\n",
       "    <tr style=\"text-align: right;\">\n",
       "      <th></th>\n",
       "      <th>p1</th>\n",
       "      <th>p2</th>\n",
       "      <th>p3</th>\n",
       "    </tr>\n",
       "  </thead>\n",
       "  <tbody>\n",
       "    <tr>\n",
       "      <th>0</th>\n",
       "      <td>Welsh springer spaniel</td>\n",
       "      <td>collie</td>\n",
       "      <td>Shetland sheepdog</td>\n",
       "    </tr>\n",
       "    <tr>\n",
       "      <th>1</th>\n",
       "      <td>redbone</td>\n",
       "      <td>miniature pinscher</td>\n",
       "      <td>Rhodesian ridgeback</td>\n",
       "    </tr>\n",
       "    <tr>\n",
       "      <th>2</th>\n",
       "      <td>German shepherd</td>\n",
       "      <td>malinois</td>\n",
       "      <td>bloodhound</td>\n",
       "    </tr>\n",
       "    <tr>\n",
       "      <th>3</th>\n",
       "      <td>Rhodesian ridgeback</td>\n",
       "      <td>redbone</td>\n",
       "      <td>miniature pinscher</td>\n",
       "    </tr>\n",
       "    <tr>\n",
       "      <th>4</th>\n",
       "      <td>miniature pinscher</td>\n",
       "      <td>Rottweiler</td>\n",
       "      <td>Doberman</td>\n",
       "    </tr>\n",
       "  </tbody>\n",
       "</table>\n",
       "</div>"
      ],
      "text/plain": [
       "                       p1                  p2                   p3\n",
       "0  Welsh springer spaniel              collie    Shetland sheepdog\n",
       "1                 redbone  miniature pinscher  Rhodesian ridgeback\n",
       "2         German shepherd            malinois           bloodhound\n",
       "3     Rhodesian ridgeback             redbone   miniature pinscher\n",
       "4      miniature pinscher          Rottweiler             Doberman"
      ]
     },
     "execution_count": 55,
     "metadata": {},
     "output_type": "execute_result"
    }
   ],
   "source": [
    "# Replaced '_' with a space\n",
    "image_data1['p1'] = image_data1['p1'].str.replace('_', ' ')\n",
    "image_data1['p2'] = image_data1['p2'].str.replace('_', ' ')\n",
    "image_data1['p3'] = image_data1['p3'].str.replace('_', ' ')\n",
    "\n",
    "# Test\n",
    "image_data1[['p1', 'p2', 'p3']].head()"
   ]
  },
  {
   "cell_type": "markdown",
   "id": "954bd743",
   "metadata": {},
   "source": [
    "**Lenghty tweet_id characters**\n",
    ">\n",
    "> I trimmed the 'tweet_id' column characters to be the first 7 characters for easy recognition"
   ]
  },
  {
   "cell_type": "code",
   "execution_count": 56,
   "id": "b7457335",
   "metadata": {},
   "outputs": [
    {
     "data": {
      "text/plain": [
       "0    6660208\n",
       "1    6660292\n",
       "2    6660334\n",
       "3    6660442\n",
       "4    6660492\n",
       "Name: tweet_id, dtype: int64"
      ]
     },
     "execution_count": 56,
     "metadata": {},
     "output_type": "execute_result"
    }
   ],
   "source": [
    "# Converting the 'tweet_id' column to strings and extracting the first 7 letters\n",
    "image_data1['tweet_id'] = image_data1['tweet_id'].astype(str).str[:7]\n",
    "\n",
    "# Converting the 'tweet_id' column back to integer datatype\n",
    "image_data1['tweet_id'] = image_data1['tweet_id'].astype('int64')\n",
    "\n",
    "# Test\n",
    "image_data1['tweet_id'].head()"
   ]
  },
  {
   "cell_type": "markdown",
   "id": "281c0e4e",
   "metadata": {},
   "source": [
    "**Inconsistency of name-case in the p1 column**\n",
    ">\n",
    "> The p1, p2 and p3 columns seems to be inconsistence in the named-casing as some of the letters starts with an upper-case, while others with lower-case.\n",
    ">\n",
    "> So I changed all the letters to be consistence by starting with upper-case letter"
   ]
  },
  {
   "cell_type": "code",
   "execution_count": 57,
   "id": "100c298c",
   "metadata": {},
   "outputs": [
    {
     "data": {
      "text/html": [
       "<div>\n",
       "<style scoped>\n",
       "    .dataframe tbody tr th:only-of-type {\n",
       "        vertical-align: middle;\n",
       "    }\n",
       "\n",
       "    .dataframe tbody tr th {\n",
       "        vertical-align: top;\n",
       "    }\n",
       "\n",
       "    .dataframe thead th {\n",
       "        text-align: right;\n",
       "    }\n",
       "</style>\n",
       "<table border=\"1\" class=\"dataframe\">\n",
       "  <thead>\n",
       "    <tr style=\"text-align: right;\">\n",
       "      <th></th>\n",
       "      <th>p1</th>\n",
       "      <th>p2</th>\n",
       "      <th>p3</th>\n",
       "    </tr>\n",
       "  </thead>\n",
       "  <tbody>\n",
       "    <tr>\n",
       "      <th>0</th>\n",
       "      <td>Welsh springer spaniel</td>\n",
       "      <td>Collie</td>\n",
       "      <td>Shetland sheepdog</td>\n",
       "    </tr>\n",
       "    <tr>\n",
       "      <th>1</th>\n",
       "      <td>Redbone</td>\n",
       "      <td>Miniature pinscher</td>\n",
       "      <td>Rhodesian ridgeback</td>\n",
       "    </tr>\n",
       "    <tr>\n",
       "      <th>2</th>\n",
       "      <td>German shepherd</td>\n",
       "      <td>Malinois</td>\n",
       "      <td>Bloodhound</td>\n",
       "    </tr>\n",
       "    <tr>\n",
       "      <th>3</th>\n",
       "      <td>Rhodesian ridgeback</td>\n",
       "      <td>Redbone</td>\n",
       "      <td>Miniature pinscher</td>\n",
       "    </tr>\n",
       "    <tr>\n",
       "      <th>4</th>\n",
       "      <td>Miniature pinscher</td>\n",
       "      <td>Rottweiler</td>\n",
       "      <td>Doberman</td>\n",
       "    </tr>\n",
       "  </tbody>\n",
       "</table>\n",
       "</div>"
      ],
      "text/plain": [
       "                       p1                  p2                   p3\n",
       "0  Welsh springer spaniel              Collie    Shetland sheepdog\n",
       "1                 Redbone  Miniature pinscher  Rhodesian ridgeback\n",
       "2         German shepherd            Malinois           Bloodhound\n",
       "3     Rhodesian ridgeback             Redbone   Miniature pinscher\n",
       "4      Miniature pinscher          Rottweiler             Doberman"
      ]
     },
     "execution_count": 57,
     "metadata": {},
     "output_type": "execute_result"
    }
   ],
   "source": [
    "# Capitalizing the first letters in the p1, p2 and p3 columns\n",
    "image_data1['p1'] = image_data1['p1'].str.capitalize()\n",
    "image_data1['p2'] = image_data1['p2'].str.capitalize()\n",
    "image_data1['p3'] = image_data1['p3'].str.capitalize()\n",
    "\n",
    "\n",
    "# Test\n",
    "image_data1[['p1', 'p2', 'p3']].head()"
   ]
  },
  {
   "cell_type": "markdown",
   "id": "152beca1",
   "metadata": {},
   "source": [
    "**API Data**\n",
    ">\n",
    ">**Lenghty id characters**\n",
    ">>\n",
    ">> I trimmed the 'id' column characters to be the first 7 characters for easy recognition"
   ]
  },
  {
   "cell_type": "code",
   "execution_count": 58,
   "id": "de617a35",
   "metadata": {},
   "outputs": [
    {
     "data": {
      "text/plain": [
       "0    8924206\n",
       "1    8921774\n",
       "2    8918151\n",
       "3    8916895\n",
       "4    8913275\n",
       "Name: id, dtype: int64"
      ]
     },
     "execution_count": 58,
     "metadata": {},
     "output_type": "execute_result"
    }
   ],
   "source": [
    "# Converting the 'id' column to strings and extracting the first 7 letters\n",
    "api_data1['id'] = api_data1['id'].astype(str).str[:7]\n",
    "\n",
    "# Converting the 'id' column back to integer datatype\n",
    "api_data1['id'] = api_data1['id'].astype('int64')\n",
    "\n",
    "\n",
    "# Test\n",
    "api_data1['id'].head()"
   ]
  },
  {
   "cell_type": "markdown",
   "id": "204c2fa6",
   "metadata": {},
   "source": [
    "**Change the id column name**\n",
    ">\n",
    "> I changed the 'id' column name to 'tweet_id'"
   ]
  },
  {
   "cell_type": "code",
   "execution_count": 59,
   "id": "4ee642a6",
   "metadata": {},
   "outputs": [
    {
     "data": {
      "text/html": [
       "<div>\n",
       "<style scoped>\n",
       "    .dataframe tbody tr th:only-of-type {\n",
       "        vertical-align: middle;\n",
       "    }\n",
       "\n",
       "    .dataframe tbody tr th {\n",
       "        vertical-align: top;\n",
       "    }\n",
       "\n",
       "    .dataframe thead th {\n",
       "        text-align: right;\n",
       "    }\n",
       "</style>\n",
       "<table border=\"1\" class=\"dataframe\">\n",
       "  <thead>\n",
       "    <tr style=\"text-align: right;\">\n",
       "      <th></th>\n",
       "      <th>tweet_id</th>\n",
       "      <th>retweet_count</th>\n",
       "      <th>favorite_count</th>\n",
       "    </tr>\n",
       "  </thead>\n",
       "  <tbody>\n",
       "    <tr>\n",
       "      <th>0</th>\n",
       "      <td>8924206</td>\n",
       "      <td>8853</td>\n",
       "      <td>39467</td>\n",
       "    </tr>\n",
       "    <tr>\n",
       "      <th>1</th>\n",
       "      <td>8921774</td>\n",
       "      <td>6514</td>\n",
       "      <td>33819</td>\n",
       "    </tr>\n",
       "    <tr>\n",
       "      <th>2</th>\n",
       "      <td>8918151</td>\n",
       "      <td>4328</td>\n",
       "      <td>25461</td>\n",
       "    </tr>\n",
       "    <tr>\n",
       "      <th>3</th>\n",
       "      <td>8916895</td>\n",
       "      <td>8964</td>\n",
       "      <td>42908</td>\n",
       "    </tr>\n",
       "    <tr>\n",
       "      <th>4</th>\n",
       "      <td>8913275</td>\n",
       "      <td>9774</td>\n",
       "      <td>41048</td>\n",
       "    </tr>\n",
       "  </tbody>\n",
       "</table>\n",
       "</div>"
      ],
      "text/plain": [
       "   tweet_id  retweet_count  favorite_count\n",
       "0   8924206           8853           39467\n",
       "1   8921774           6514           33819\n",
       "2   8918151           4328           25461\n",
       "3   8916895           8964           42908\n",
       "4   8913275           9774           41048"
      ]
     },
     "execution_count": 59,
     "metadata": {},
     "output_type": "execute_result"
    }
   ],
   "source": [
    "# Rename the 'id' column\n",
    "api_data1 = api_data1.rename(columns={'id':'tweet_id'})\n",
    "\n",
    "\n",
    "# Test\n",
    "api_data1.head()"
   ]
  },
  {
   "cell_type": "code",
   "execution_count": 60,
   "id": "546ea4ec",
   "metadata": {},
   "outputs": [
    {
     "name": "stdout",
     "output_type": "stream",
     "text": [
      "<class 'pandas.core.frame.DataFrame'>\n",
      "Int64Index: 1899 entries, 0 to 2350\n",
      "Data columns (total 9 columns):\n",
      " #   Column              Non-Null Count  Dtype \n",
      "---  ------              --------------  ----- \n",
      " 0   tweet_id            1899 non-null   int64 \n",
      " 1   source              1899 non-null   object\n",
      " 2   text                1899 non-null   object\n",
      " 3   rating_numerator    1899 non-null   int64 \n",
      " 4   rating_denominator  1899 non-null   int64 \n",
      " 5   name                1241 non-null   object\n",
      " 6   date                1899 non-null   object\n",
      " 7   time                1899 non-null   object\n",
      " 8   dog_stage           337 non-null    object\n",
      "dtypes: int64(3), object(6)\n",
      "memory usage: 148.4+ KB\n"
     ]
    }
   ],
   "source": [
    "archive_data1.info()"
   ]
  },
  {
   "cell_type": "code",
   "execution_count": 61,
   "id": "9b135026",
   "metadata": {},
   "outputs": [
    {
     "name": "stdout",
     "output_type": "stream",
     "text": [
      "<class 'pandas.core.frame.DataFrame'>\n",
      "RangeIndex: 2354 entries, 0 to 2353\n",
      "Data columns (total 3 columns):\n",
      " #   Column          Non-Null Count  Dtype\n",
      "---  ------          --------------  -----\n",
      " 0   tweet_id        2354 non-null   int64\n",
      " 1   retweet_count   2354 non-null   int64\n",
      " 2   favorite_count  2354 non-null   int64\n",
      "dtypes: int64(3)\n",
      "memory usage: 55.3 KB\n"
     ]
    }
   ],
   "source": [
    "api_data1.info()"
   ]
  },
  {
   "cell_type": "code",
   "execution_count": 62,
   "id": "48c58a1c",
   "metadata": {},
   "outputs": [
    {
     "name": "stdout",
     "output_type": "stream",
     "text": [
      "<class 'pandas.core.frame.DataFrame'>\n",
      "Int64Index: 2009 entries, 0 to 2074\n",
      "Data columns (total 12 columns):\n",
      " #   Column    Non-Null Count  Dtype  \n",
      "---  ------    --------------  -----  \n",
      " 0   tweet_id  2009 non-null   int64  \n",
      " 1   jpg_url   2009 non-null   object \n",
      " 2   img_num   2009 non-null   int64  \n",
      " 3   p1        2009 non-null   object \n",
      " 4   p1_conf   2009 non-null   float64\n",
      " 5   p1_dog    2009 non-null   bool   \n",
      " 6   p2        2009 non-null   object \n",
      " 7   p2_conf   2009 non-null   float64\n",
      " 8   p2_dog    2009 non-null   bool   \n",
      " 9   p3        2009 non-null   object \n",
      " 10  p3_conf   2009 non-null   float64\n",
      " 11  p3_dog    2009 non-null   bool   \n",
      "dtypes: bool(3), float64(3), int64(2), object(4)\n",
      "memory usage: 162.8+ KB\n"
     ]
    }
   ],
   "source": [
    "image_data1.info()"
   ]
  },
  {
   "cell_type": "markdown",
   "id": "b8f6db51",
   "metadata": {},
   "source": [
    "**Tidiness**\n",
    ">\n",
    ">**Related Dataset**\n",
    ">>\n",
    ">> Having seen that all the three datasets are related, I merged them together to form a single dataset"
   ]
  },
  {
   "cell_type": "code",
   "execution_count": 63,
   "id": "f08056bf",
   "metadata": {},
   "outputs": [
    {
     "data": {
      "text/html": [
       "<div>\n",
       "<style scoped>\n",
       "    .dataframe tbody tr th:only-of-type {\n",
       "        vertical-align: middle;\n",
       "    }\n",
       "\n",
       "    .dataframe tbody tr th {\n",
       "        vertical-align: top;\n",
       "    }\n",
       "\n",
       "    .dataframe thead th {\n",
       "        text-align: right;\n",
       "    }\n",
       "</style>\n",
       "<table border=\"1\" class=\"dataframe\">\n",
       "  <thead>\n",
       "    <tr style=\"text-align: right;\">\n",
       "      <th></th>\n",
       "      <th>tweet_id</th>\n",
       "      <th>jpg_url</th>\n",
       "      <th>img_num</th>\n",
       "      <th>p1</th>\n",
       "      <th>p1_conf</th>\n",
       "      <th>p1_dog</th>\n",
       "      <th>p2</th>\n",
       "      <th>p2_conf</th>\n",
       "      <th>p2_dog</th>\n",
       "      <th>p3</th>\n",
       "      <th>...</th>\n",
       "      <th>retweet_count</th>\n",
       "      <th>favorite_count</th>\n",
       "      <th>source</th>\n",
       "      <th>text</th>\n",
       "      <th>rating_numerator</th>\n",
       "      <th>rating_denominator</th>\n",
       "      <th>name</th>\n",
       "      <th>date</th>\n",
       "      <th>time</th>\n",
       "      <th>dog_stage</th>\n",
       "    </tr>\n",
       "  </thead>\n",
       "  <tbody>\n",
       "    <tr>\n",
       "      <th>0</th>\n",
       "      <td>6660208</td>\n",
       "      <td>https://pbs.twimg.com/media/CT4udn0WwAA0aMy.jpg</td>\n",
       "      <td>1</td>\n",
       "      <td>Welsh springer spaniel</td>\n",
       "      <td>0.465074</td>\n",
       "      <td>True</td>\n",
       "      <td>Collie</td>\n",
       "      <td>0.156665</td>\n",
       "      <td>True</td>\n",
       "      <td>Shetland sheepdog</td>\n",
       "      <td>...</td>\n",
       "      <td>532.0</td>\n",
       "      <td>2535.0</td>\n",
       "      <td>NaN</td>\n",
       "      <td>NaN</td>\n",
       "      <td>NaN</td>\n",
       "      <td>NaN</td>\n",
       "      <td>NaN</td>\n",
       "      <td>NaN</td>\n",
       "      <td>NaN</td>\n",
       "      <td>NaN</td>\n",
       "    </tr>\n",
       "    <tr>\n",
       "      <th>1</th>\n",
       "      <td>6660292</td>\n",
       "      <td>https://pbs.twimg.com/media/CT42GRgUYAA5iDo.jpg</td>\n",
       "      <td>1</td>\n",
       "      <td>Redbone</td>\n",
       "      <td>0.506826</td>\n",
       "      <td>True</td>\n",
       "      <td>Miniature pinscher</td>\n",
       "      <td>0.074192</td>\n",
       "      <td>True</td>\n",
       "      <td>Rhodesian ridgeback</td>\n",
       "      <td>...</td>\n",
       "      <td>48.0</td>\n",
       "      <td>132.0</td>\n",
       "      <td>NaN</td>\n",
       "      <td>NaN</td>\n",
       "      <td>NaN</td>\n",
       "      <td>NaN</td>\n",
       "      <td>NaN</td>\n",
       "      <td>NaN</td>\n",
       "      <td>NaN</td>\n",
       "      <td>NaN</td>\n",
       "    </tr>\n",
       "    <tr>\n",
       "      <th>2</th>\n",
       "      <td>6660334</td>\n",
       "      <td>https://pbs.twimg.com/media/CT4521TWwAEvMyu.jpg</td>\n",
       "      <td>1</td>\n",
       "      <td>German shepherd</td>\n",
       "      <td>0.596461</td>\n",
       "      <td>True</td>\n",
       "      <td>Malinois</td>\n",
       "      <td>0.138584</td>\n",
       "      <td>True</td>\n",
       "      <td>Bloodhound</td>\n",
       "      <td>...</td>\n",
       "      <td>47.0</td>\n",
       "      <td>128.0</td>\n",
       "      <td>NaN</td>\n",
       "      <td>NaN</td>\n",
       "      <td>NaN</td>\n",
       "      <td>NaN</td>\n",
       "      <td>NaN</td>\n",
       "      <td>NaN</td>\n",
       "      <td>NaN</td>\n",
       "      <td>NaN</td>\n",
       "    </tr>\n",
       "    <tr>\n",
       "      <th>3</th>\n",
       "      <td>6660442</td>\n",
       "      <td>https://pbs.twimg.com/media/CT5Dr8HUEAA-lEu.jpg</td>\n",
       "      <td>1</td>\n",
       "      <td>Rhodesian ridgeback</td>\n",
       "      <td>0.408143</td>\n",
       "      <td>True</td>\n",
       "      <td>Redbone</td>\n",
       "      <td>0.360687</td>\n",
       "      <td>True</td>\n",
       "      <td>Miniature pinscher</td>\n",
       "      <td>...</td>\n",
       "      <td>147.0</td>\n",
       "      <td>311.0</td>\n",
       "      <td>NaN</td>\n",
       "      <td>NaN</td>\n",
       "      <td>NaN</td>\n",
       "      <td>NaN</td>\n",
       "      <td>NaN</td>\n",
       "      <td>NaN</td>\n",
       "      <td>NaN</td>\n",
       "      <td>NaN</td>\n",
       "    </tr>\n",
       "    <tr>\n",
       "      <th>4</th>\n",
       "      <td>6660492</td>\n",
       "      <td>https://pbs.twimg.com/media/CT5IQmsXIAAKY4A.jpg</td>\n",
       "      <td>1</td>\n",
       "      <td>Miniature pinscher</td>\n",
       "      <td>0.560311</td>\n",
       "      <td>True</td>\n",
       "      <td>Rottweiler</td>\n",
       "      <td>0.243682</td>\n",
       "      <td>True</td>\n",
       "      <td>Doberman</td>\n",
       "      <td>...</td>\n",
       "      <td>41.0</td>\n",
       "      <td>111.0</td>\n",
       "      <td>NaN</td>\n",
       "      <td>NaN</td>\n",
       "      <td>NaN</td>\n",
       "      <td>NaN</td>\n",
       "      <td>NaN</td>\n",
       "      <td>NaN</td>\n",
       "      <td>NaN</td>\n",
       "      <td>NaN</td>\n",
       "    </tr>\n",
       "  </tbody>\n",
       "</table>\n",
       "<p>5 rows × 22 columns</p>\n",
       "</div>"
      ],
      "text/plain": [
       "   tweet_id                                          jpg_url  img_num  \\\n",
       "0   6660208  https://pbs.twimg.com/media/CT4udn0WwAA0aMy.jpg        1   \n",
       "1   6660292  https://pbs.twimg.com/media/CT42GRgUYAA5iDo.jpg        1   \n",
       "2   6660334  https://pbs.twimg.com/media/CT4521TWwAEvMyu.jpg        1   \n",
       "3   6660442  https://pbs.twimg.com/media/CT5Dr8HUEAA-lEu.jpg        1   \n",
       "4   6660492  https://pbs.twimg.com/media/CT5IQmsXIAAKY4A.jpg        1   \n",
       "\n",
       "                       p1   p1_conf  p1_dog                  p2   p2_conf  \\\n",
       "0  Welsh springer spaniel  0.465074    True              Collie  0.156665   \n",
       "1                 Redbone  0.506826    True  Miniature pinscher  0.074192   \n",
       "2         German shepherd  0.596461    True            Malinois  0.138584   \n",
       "3     Rhodesian ridgeback  0.408143    True             Redbone  0.360687   \n",
       "4      Miniature pinscher  0.560311    True          Rottweiler  0.243682   \n",
       "\n",
       "   p2_dog                   p3  ...  retweet_count  favorite_count  source  \\\n",
       "0    True    Shetland sheepdog  ...          532.0          2535.0     NaN   \n",
       "1    True  Rhodesian ridgeback  ...           48.0           132.0     NaN   \n",
       "2    True           Bloodhound  ...           47.0           128.0     NaN   \n",
       "3    True   Miniature pinscher  ...          147.0           311.0     NaN   \n",
       "4    True             Doberman  ...           41.0           111.0     NaN   \n",
       "\n",
       "   text rating_numerator rating_denominator  name  date time dog_stage  \n",
       "0   NaN              NaN                NaN   NaN   NaN  NaN       NaN  \n",
       "1   NaN              NaN                NaN   NaN   NaN  NaN       NaN  \n",
       "2   NaN              NaN                NaN   NaN   NaN  NaN       NaN  \n",
       "3   NaN              NaN                NaN   NaN   NaN  NaN       NaN  \n",
       "4   NaN              NaN                NaN   NaN   NaN  NaN       NaN  \n",
       "\n",
       "[5 rows x 22 columns]"
      ]
     },
     "execution_count": 63,
     "metadata": {},
     "output_type": "execute_result"
    }
   ],
   "source": [
    "# Merging the three datasets together\n",
    "dog = pd.merge(image_data1, api_data1, on = 'tweet_id', how = 'left')\n",
    "\n",
    "dog1 = pd.merge(dog, archive_data1, on = 'tweet_id', how = 'left')\n",
    "\n",
    "\n",
    "# Test\n",
    "dog1.head()"
   ]
  },
  {
   "cell_type": "code",
   "execution_count": 64,
   "id": "c0beeb8a",
   "metadata": {},
   "outputs": [
    {
     "name": "stdout",
     "output_type": "stream",
     "text": [
      "<class 'pandas.core.frame.DataFrame'>\n",
      "Int64Index: 2009 entries, 0 to 2008\n",
      "Data columns (total 22 columns):\n",
      " #   Column              Non-Null Count  Dtype  \n",
      "---  ------              --------------  -----  \n",
      " 0   tweet_id            2009 non-null   int64  \n",
      " 1   jpg_url             2009 non-null   object \n",
      " 2   img_num             2009 non-null   int64  \n",
      " 3   p1                  2009 non-null   object \n",
      " 4   p1_conf             2009 non-null   float64\n",
      " 5   p1_dog              2009 non-null   bool   \n",
      " 6   p2                  2009 non-null   object \n",
      " 7   p2_conf             2009 non-null   float64\n",
      " 8   p2_dog              2009 non-null   bool   \n",
      " 9   p3                  2009 non-null   object \n",
      " 10  p3_conf             2009 non-null   float64\n",
      " 11  p3_dog              2009 non-null   bool   \n",
      " 12  retweet_count       2008 non-null   float64\n",
      " 13  favorite_count      2008 non-null   float64\n",
      " 14  source              1580 non-null   object \n",
      " 15  text                1580 non-null   object \n",
      " 16  rating_numerator    1580 non-null   float64\n",
      " 17  rating_denominator  1580 non-null   float64\n",
      " 18  name                1096 non-null   object \n",
      " 19  date                1580 non-null   object \n",
      " 20  time                1580 non-null   object \n",
      " 21  dog_stage           272 non-null    object \n",
      "dtypes: bool(3), float64(7), int64(2), object(10)\n",
      "memory usage: 319.8+ KB\n"
     ]
    }
   ],
   "source": [
    "dog1.info()"
   ]
  },
  {
   "cell_type": "markdown",
   "id": "5d08c551",
   "metadata": {},
   "source": [
    "### After merging the three datasets into one dataset, the listed Quality issues below was discovered;\n",
    ">\n",
    "> * Numerious NaN values\n",
    ">\n",
    "> * Invalid datatypes on numerious columns"
   ]
  },
  {
   "cell_type": "markdown",
   "id": "8344b64d",
   "metadata": {},
   "source": [
    "**Numerious NaN values**\n",
    ">\n",
    "> Due to the numerious NaN values, I extracted only original tweets that has an image, using the 'jpg_url' column."
   ]
  },
  {
   "cell_type": "code",
   "execution_count": 65,
   "id": "83f72b12",
   "metadata": {},
   "outputs": [
    {
     "data": {
      "text/html": [
       "<div>\n",
       "<style scoped>\n",
       "    .dataframe tbody tr th:only-of-type {\n",
       "        vertical-align: middle;\n",
       "    }\n",
       "\n",
       "    .dataframe tbody tr th {\n",
       "        vertical-align: top;\n",
       "    }\n",
       "\n",
       "    .dataframe thead th {\n",
       "        text-align: right;\n",
       "    }\n",
       "</style>\n",
       "<table border=\"1\" class=\"dataframe\">\n",
       "  <thead>\n",
       "    <tr style=\"text-align: right;\">\n",
       "      <th></th>\n",
       "      <th>tweet_id</th>\n",
       "      <th>jpg_url</th>\n",
       "      <th>img_num</th>\n",
       "      <th>p1</th>\n",
       "      <th>p1_conf</th>\n",
       "      <th>p1_dog</th>\n",
       "      <th>p2</th>\n",
       "      <th>p2_conf</th>\n",
       "      <th>p2_dog</th>\n",
       "      <th>p3</th>\n",
       "      <th>...</th>\n",
       "      <th>retweet_count</th>\n",
       "      <th>favorite_count</th>\n",
       "      <th>source</th>\n",
       "      <th>text</th>\n",
       "      <th>rating_numerator</th>\n",
       "      <th>rating_denominator</th>\n",
       "      <th>name</th>\n",
       "      <th>date</th>\n",
       "      <th>time</th>\n",
       "      <th>dog_stage</th>\n",
       "    </tr>\n",
       "  </thead>\n",
       "  <tbody>\n",
       "    <tr>\n",
       "      <th>0</th>\n",
       "      <td>6660208</td>\n",
       "      <td>https://pbs.twimg.com/media/CT4udn0WwAA0aMy.jpg</td>\n",
       "      <td>1</td>\n",
       "      <td>Welsh springer spaniel</td>\n",
       "      <td>0.465074</td>\n",
       "      <td>True</td>\n",
       "      <td>Collie</td>\n",
       "      <td>0.156665</td>\n",
       "      <td>True</td>\n",
       "      <td>Shetland sheepdog</td>\n",
       "      <td>...</td>\n",
       "      <td>532.0</td>\n",
       "      <td>2535.0</td>\n",
       "      <td>NaN</td>\n",
       "      <td>NaN</td>\n",
       "      <td>NaN</td>\n",
       "      <td>NaN</td>\n",
       "      <td>NaN</td>\n",
       "      <td>NaN</td>\n",
       "      <td>NaN</td>\n",
       "      <td>NaN</td>\n",
       "    </tr>\n",
       "    <tr>\n",
       "      <th>1</th>\n",
       "      <td>6660292</td>\n",
       "      <td>https://pbs.twimg.com/media/CT42GRgUYAA5iDo.jpg</td>\n",
       "      <td>1</td>\n",
       "      <td>Redbone</td>\n",
       "      <td>0.506826</td>\n",
       "      <td>True</td>\n",
       "      <td>Miniature pinscher</td>\n",
       "      <td>0.074192</td>\n",
       "      <td>True</td>\n",
       "      <td>Rhodesian ridgeback</td>\n",
       "      <td>...</td>\n",
       "      <td>48.0</td>\n",
       "      <td>132.0</td>\n",
       "      <td>NaN</td>\n",
       "      <td>NaN</td>\n",
       "      <td>NaN</td>\n",
       "      <td>NaN</td>\n",
       "      <td>NaN</td>\n",
       "      <td>NaN</td>\n",
       "      <td>NaN</td>\n",
       "      <td>NaN</td>\n",
       "    </tr>\n",
       "    <tr>\n",
       "      <th>2</th>\n",
       "      <td>6660334</td>\n",
       "      <td>https://pbs.twimg.com/media/CT4521TWwAEvMyu.jpg</td>\n",
       "      <td>1</td>\n",
       "      <td>German shepherd</td>\n",
       "      <td>0.596461</td>\n",
       "      <td>True</td>\n",
       "      <td>Malinois</td>\n",
       "      <td>0.138584</td>\n",
       "      <td>True</td>\n",
       "      <td>Bloodhound</td>\n",
       "      <td>...</td>\n",
       "      <td>47.0</td>\n",
       "      <td>128.0</td>\n",
       "      <td>NaN</td>\n",
       "      <td>NaN</td>\n",
       "      <td>NaN</td>\n",
       "      <td>NaN</td>\n",
       "      <td>NaN</td>\n",
       "      <td>NaN</td>\n",
       "      <td>NaN</td>\n",
       "      <td>NaN</td>\n",
       "    </tr>\n",
       "    <tr>\n",
       "      <th>3</th>\n",
       "      <td>6660442</td>\n",
       "      <td>https://pbs.twimg.com/media/CT5Dr8HUEAA-lEu.jpg</td>\n",
       "      <td>1</td>\n",
       "      <td>Rhodesian ridgeback</td>\n",
       "      <td>0.408143</td>\n",
       "      <td>True</td>\n",
       "      <td>Redbone</td>\n",
       "      <td>0.360687</td>\n",
       "      <td>True</td>\n",
       "      <td>Miniature pinscher</td>\n",
       "      <td>...</td>\n",
       "      <td>147.0</td>\n",
       "      <td>311.0</td>\n",
       "      <td>NaN</td>\n",
       "      <td>NaN</td>\n",
       "      <td>NaN</td>\n",
       "      <td>NaN</td>\n",
       "      <td>NaN</td>\n",
       "      <td>NaN</td>\n",
       "      <td>NaN</td>\n",
       "      <td>NaN</td>\n",
       "    </tr>\n",
       "    <tr>\n",
       "      <th>4</th>\n",
       "      <td>6660492</td>\n",
       "      <td>https://pbs.twimg.com/media/CT5IQmsXIAAKY4A.jpg</td>\n",
       "      <td>1</td>\n",
       "      <td>Miniature pinscher</td>\n",
       "      <td>0.560311</td>\n",
       "      <td>True</td>\n",
       "      <td>Rottweiler</td>\n",
       "      <td>0.243682</td>\n",
       "      <td>True</td>\n",
       "      <td>Doberman</td>\n",
       "      <td>...</td>\n",
       "      <td>41.0</td>\n",
       "      <td>111.0</td>\n",
       "      <td>NaN</td>\n",
       "      <td>NaN</td>\n",
       "      <td>NaN</td>\n",
       "      <td>NaN</td>\n",
       "      <td>NaN</td>\n",
       "      <td>NaN</td>\n",
       "      <td>NaN</td>\n",
       "      <td>NaN</td>\n",
       "    </tr>\n",
       "  </tbody>\n",
       "</table>\n",
       "<p>5 rows × 22 columns</p>\n",
       "</div>"
      ],
      "text/plain": [
       "   tweet_id                                          jpg_url  img_num  \\\n",
       "0   6660208  https://pbs.twimg.com/media/CT4udn0WwAA0aMy.jpg        1   \n",
       "1   6660292  https://pbs.twimg.com/media/CT42GRgUYAA5iDo.jpg        1   \n",
       "2   6660334  https://pbs.twimg.com/media/CT4521TWwAEvMyu.jpg        1   \n",
       "3   6660442  https://pbs.twimg.com/media/CT5Dr8HUEAA-lEu.jpg        1   \n",
       "4   6660492  https://pbs.twimg.com/media/CT5IQmsXIAAKY4A.jpg        1   \n",
       "\n",
       "                       p1   p1_conf  p1_dog                  p2   p2_conf  \\\n",
       "0  Welsh springer spaniel  0.465074    True              Collie  0.156665   \n",
       "1                 Redbone  0.506826    True  Miniature pinscher  0.074192   \n",
       "2         German shepherd  0.596461    True            Malinois  0.138584   \n",
       "3     Rhodesian ridgeback  0.408143    True             Redbone  0.360687   \n",
       "4      Miniature pinscher  0.560311    True          Rottweiler  0.243682   \n",
       "\n",
       "   p2_dog                   p3  ...  retweet_count  favorite_count  source  \\\n",
       "0    True    Shetland sheepdog  ...          532.0          2535.0     NaN   \n",
       "1    True  Rhodesian ridgeback  ...           48.0           132.0     NaN   \n",
       "2    True           Bloodhound  ...           47.0           128.0     NaN   \n",
       "3    True   Miniature pinscher  ...          147.0           311.0     NaN   \n",
       "4    True             Doberman  ...           41.0           111.0     NaN   \n",
       "\n",
       "   text rating_numerator rating_denominator  name  date time dog_stage  \n",
       "0   NaN              NaN                NaN   NaN   NaN  NaN       NaN  \n",
       "1   NaN              NaN                NaN   NaN   NaN  NaN       NaN  \n",
       "2   NaN              NaN                NaN   NaN   NaN  NaN       NaN  \n",
       "3   NaN              NaN                NaN   NaN   NaN  NaN       NaN  \n",
       "4   NaN              NaN                NaN   NaN   NaN  NaN       NaN  \n",
       "\n",
       "[5 rows x 22 columns]"
      ]
     },
     "execution_count": 65,
     "metadata": {},
     "output_type": "execute_result"
    }
   ],
   "source": [
    "# Extracting original status with images\n",
    "df_dogs = dog1[dog1['jpg_url'].notnull()]\n",
    "\n",
    "# Test\n",
    "df_dogs.head()"
   ]
  },
  {
   "cell_type": "markdown",
   "id": "0ca86acb",
   "metadata": {},
   "source": [
    "**Invalid datatypes on numerious columns**\n",
    ">\n",
    "> I changed all the affected columns with wrong datatype to it's appropriate datatype"
   ]
  },
  {
   "cell_type": "code",
   "execution_count": 66,
   "id": "1969ba58",
   "metadata": {},
   "outputs": [
    {
     "name": "stdout",
     "output_type": "stream",
     "text": [
      "<class 'pandas.core.frame.DataFrame'>\n",
      "Int64Index: 2009 entries, 0 to 2008\n",
      "Data columns (total 22 columns):\n",
      " #   Column              Non-Null Count  Dtype         \n",
      "---  ------              --------------  -----         \n",
      " 0   tweet_id            2009 non-null   int64         \n",
      " 1   jpg_url             2009 non-null   object        \n",
      " 2   img_num             2009 non-null   int64         \n",
      " 3   p1                  2009 non-null   object        \n",
      " 4   p1_conf             2009 non-null   float64       \n",
      " 5   p1_dog              2009 non-null   boolean       \n",
      " 6   p2                  2009 non-null   object        \n",
      " 7   p2_conf             2009 non-null   float64       \n",
      " 8   p2_dog              2009 non-null   boolean       \n",
      " 9   p3                  2009 non-null   object        \n",
      " 10  p3_conf             2009 non-null   float64       \n",
      " 11  p3_dog              2009 non-null   boolean       \n",
      " 12  retweet_count       2008 non-null   float64       \n",
      " 13  favorite_count      2008 non-null   float64       \n",
      " 14  source              1580 non-null   object        \n",
      " 15  text                1580 non-null   object        \n",
      " 16  rating_numerator    1580 non-null   float64       \n",
      " 17  rating_denominator  1580 non-null   float64       \n",
      " 18  name                1096 non-null   object        \n",
      " 19  date                1580 non-null   datetime64[ns]\n",
      " 20  time                1580 non-null   datetime64[ns]\n",
      " 21  dog_stage           272 non-null    object        \n",
      "dtypes: boolean(3), datetime64[ns](2), float64(7), int64(2), object(8)\n",
      "memory usage: 325.7+ KB\n"
     ]
    }
   ],
   "source": [
    "# Changed the p1_dog, p2_dog, p3_dog column datatype\n",
    "df_dogs[['p1_dog', 'p2_dog', 'p3_dog']] = df_dogs[['p1_dog', 'p2_dog', 'p3_dog']].astype('boolean')\n",
    "\n",
    "# Chenging the 'img_num' datatype\n",
    "df_dogs['img_num'].astype('int64')\n",
    "\n",
    "# Changed the date column datatype\n",
    "df_dogs['date'] = pd.to_datetime(df_dogs['date'])\n",
    "\n",
    "# Changed the time column datatype\n",
    "df_dogs['time'] = pd.to_datetime(df_dogs['time'], format = '%H:%M:%S')\n",
    "\n",
    "\n",
    "# Test\n",
    "df_dogs.info()"
   ]
  },
  {
   "cell_type": "markdown",
   "id": "6f5bbf62",
   "metadata": {},
   "source": [
    "**After cleaning, I saved the data in a new CSV file for easy future reference, as the dataset is now clean and ready for the Exploratory Data Analysis**"
   ]
  },
  {
   "cell_type": "code",
   "execution_count": 67,
   "id": "01035054",
   "metadata": {},
   "outputs": [],
   "source": [
    "# Exporting to a csv file\n",
    "df_dogs.to_csv('twitter_archive_master.csv', index = False)"
   ]
  },
  {
   "cell_type": "markdown",
   "id": "a49efee1",
   "metadata": {},
   "source": [
    "## Exploratory Data Analysis\n",
    ">\n",
    ">\n",
    ">### Findings, Visualization and Communication\n",
    ">\n",
    "> In this section, I carried out an Exploratory Analysis to identify patterns and trends in the data"
   ]
  },
  {
   "cell_type": "markdown",
   "id": "f26ba6d6",
   "metadata": {},
   "source": [
    "### Research Question 1:\n",
    ">\n",
    ">**What are the total number of each dogs in the dog_stage column?**"
   ]
  },
  {
   "cell_type": "code",
   "execution_count": 68,
   "id": "1acdba77",
   "metadata": {},
   "outputs": [
    {
     "data": {
      "text/plain": [
       "pupper     176\n",
       "doggo       66\n",
       "puppo       27\n",
       "floofer      3\n",
       "Name: dog_stage, dtype: int64"
      ]
     },
     "execution_count": 68,
     "metadata": {},
     "output_type": "execute_result"
    }
   ],
   "source": [
    "# Total count of dog stage\n",
    "vcd = vcount(df_dogs['dog_stage'])\n",
    "\n",
    "# Test\n",
    "vcd"
   ]
  },
  {
   "cell_type": "code",
   "execution_count": 69,
   "id": "a861b79e",
   "metadata": {},
   "outputs": [
    {
     "data": {
      "image/png": "[encoded data removed]",
      "text/plain": [
       "<Figure size 432x288 with 1 Axes>"
      ]
     },
     "metadata": {},
     "output_type": "display_data"
    }
   ],
   "source": [
    "# Pi chart of the dog_stage counts\n",
    "vcd.plot(kind='pie', ylabel = '', autopct='%1.1f%%', explode = (0.05, 0.05, 0.1, 0.1))\n",
    "plt.title('Percentages of Each Dog');"
   ]
  },
  {
   "cell_type": "markdown",
   "id": "14c6f4cb",
   "metadata": {},
   "source": [
    "**This shows that 'Pupper' has the highest category of dogs in the dog_stage column, followed by 'Doggo', while 'Floofer' has the least number of dogs** "
   ]
  },
  {
   "cell_type": "markdown",
   "id": "5697927a",
   "metadata": {},
   "source": [
    "### Research Question 2:\n",
    ">\n",
    ">**What is the average rating of each dog in the dog_stage?**"
   ]
  },
  {
   "cell_type": "code",
   "execution_count": 70,
   "id": "89e02db4",
   "metadata": {},
   "outputs": [
    {
     "data": {
      "text/plain": [
       "dog_stage\n",
       "doggo      11.954545\n",
       "floofer    12.666667\n",
       "pupper     11.375000\n",
       "puppo      12.259259\n",
       "Name: rating_numerator, dtype: float64"
      ]
     },
     "execution_count": 70,
     "metadata": {},
     "output_type": "execute_result"
    }
   ],
   "source": [
    "# Grouping the dog stage by rating\n",
    "df_dogs.groupby('dog_stage')['rating_numerator'].mean()"
   ]
  },
  {
   "cell_type": "markdown",
   "id": "d8a9c781",
   "metadata": {},
   "source": [
    "**Each dog in the dog_stage has a very close range of average score, but 'Floofer' leads by having 12.66 average score, followed by 'Puppo' with 12.25**"
   ]
  },
  {
   "cell_type": "markdown",
   "id": "e837dbe9",
   "metadata": {},
   "source": [
    "### Research Question 3:\n",
    ">\n",
    ">**What is the total count of retweets on each rating?**"
   ]
  },
  {
   "cell_type": "code",
   "execution_count": 71,
   "id": "9a33257c",
   "metadata": {},
   "outputs": [
    {
     "data": {
      "text/plain": [
       "rating_numerator\n",
       "10.0      421\n",
       "11.0      397\n",
       "12.0      455\n",
       "13.0      264\n",
       "14.0       37\n",
       "15.0        1\n",
       "26.0        1\n",
       "27.0        1\n",
       "75.0        1\n",
       "420.0       1\n",
       "1776.0      1\n",
       "Name: retweet_count, dtype: int64"
      ]
     },
     "execution_count": 71,
     "metadata": {},
     "output_type": "execute_result"
    }
   ],
   "source": [
    "# Grouping the rating by the retweet count\n",
    "dd = df_dogs.groupby('rating_numerator')['retweet_count'].size()\n",
    "\n",
    "# Test\n",
    "dd"
   ]
  },
  {
   "cell_type": "code",
   "execution_count": 72,
   "id": "737b0c9d",
   "metadata": {},
   "outputs": [
    {
     "data": {
      "image/png": "[encoded data removed]",
      "text/plain": [
       "<Figure size 432x288 with 1 Axes>"
      ]
     },
     "metadata": {
      "needs_background": "light"
     },
     "output_type": "display_data"
    }
   ],
   "source": [
    "# Bar chart for doge rating and retweet count\n",
    "dd.plot(kind='bar',  xlabel = 'Rating Numerator', ylabel = 'Retweet Count', title = 'Dog Rating vs Retweet Count')\n",
    "plt.xticks(rotation = 45);"
   ]
  },
  {
   "cell_type": "markdown",
   "id": "fb288851",
   "metadata": {},
   "source": [
    "**This shows that less than 14.0 ratings seems to have a higher number of retweets more than the higher categories of rating**"
   ]
  },
  {
   "cell_type": "markdown",
   "id": "fe99e6d6",
   "metadata": {},
   "source": [
    "### Research Question 4:\n",
    ">\n",
    ">**What is the total count of favorite on each rating?**"
   ]
  },
  {
   "cell_type": "code",
   "execution_count": 73,
   "id": "04a090d5",
   "metadata": {},
   "outputs": [
    {
     "data": {
      "text/plain": [
       "rating_numerator\n",
       "10.0      421\n",
       "11.0      397\n",
       "12.0      455\n",
       "13.0      264\n",
       "14.0       37\n",
       "15.0        1\n",
       "26.0        1\n",
       "27.0        1\n",
       "75.0        1\n",
       "420.0       1\n",
       "1776.0      1\n",
       "Name: favorite_count, dtype: int64"
      ]
     },
     "execution_count": 73,
     "metadata": {},
     "output_type": "execute_result"
    }
   ],
   "source": [
    "# Grouping the rating by the favorite count\n",
    "dfd = df_dogs.groupby('rating_numerator')['favorite_count'].size()\n",
    "\n",
    "# Test\n",
    "dfd"
   ]
  },
  {
   "cell_type": "code",
   "execution_count": 74,
   "id": "7c884e02",
   "metadata": {},
   "outputs": [
    {
     "data": {
      "image/png": "[encoded data removed]",
      "text/plain": [
       "<Figure size 432x288 with 1 Axes>"
      ]
     },
     "metadata": {
      "needs_background": "light"
     },
     "output_type": "display_data"
    }
   ],
   "source": [
    "# Bar chart for doge rating and favorite count\n",
    "dfd.plot(kind='bar',  xlabel = 'Rating Numerator', ylabel = 'Favorite Count', title = 'Dog Rating vs Favorite Count')\n",
    "plt.xticks(rotation = 45);"
   ]
  },
  {
   "cell_type": "markdown",
   "id": "822eb275",
   "metadata": {},
   "source": [
    "**It seems both the retweet and favorite count are going in the same direction. Which means, the lower the rating, the higher the number of favorite and retweet count**"
   ]
  },
  {
   "cell_type": "markdown",
   "id": "7765dabc",
   "metadata": {},
   "source": [
    "### Research Question 5:\n",
    ">\n",
    ">**Is there any correlation between any of the variables?**"
   ]
  },
  {
   "cell_type": "code",
   "execution_count": 75,
   "id": "c0d204b6",
   "metadata": {},
   "outputs": [
    {
     "data": {
      "text/html": [
       "<div>\n",
       "<style scoped>\n",
       "    .dataframe tbody tr th:only-of-type {\n",
       "        vertical-align: middle;\n",
       "    }\n",
       "\n",
       "    .dataframe tbody tr th {\n",
       "        vertical-align: top;\n",
       "    }\n",
       "\n",
       "    .dataframe thead th {\n",
       "        text-align: right;\n",
       "    }\n",
       "</style>\n",
       "<table border=\"1\" class=\"dataframe\">\n",
       "  <thead>\n",
       "    <tr style=\"text-align: right;\">\n",
       "      <th></th>\n",
       "      <th>retweet_count</th>\n",
       "      <th>favorite_count</th>\n",
       "      <th>rating_numerator</th>\n",
       "    </tr>\n",
       "  </thead>\n",
       "  <tbody>\n",
       "    <tr>\n",
       "      <th>retweet_count</th>\n",
       "      <td>1.000000</td>\n",
       "      <td>0.913084</td>\n",
       "      <td>0.008364</td>\n",
       "    </tr>\n",
       "    <tr>\n",
       "      <th>favorite_count</th>\n",
       "      <td>0.913084</td>\n",
       "      <td>1.000000</td>\n",
       "      <td>0.002094</td>\n",
       "    </tr>\n",
       "    <tr>\n",
       "      <th>rating_numerator</th>\n",
       "      <td>0.008364</td>\n",
       "      <td>0.002094</td>\n",
       "      <td>1.000000</td>\n",
       "    </tr>\n",
       "  </tbody>\n",
       "</table>\n",
       "</div>"
      ],
      "text/plain": [
       "                  retweet_count  favorite_count  rating_numerator\n",
       "retweet_count          1.000000        0.913084          0.008364\n",
       "favorite_count         0.913084        1.000000          0.002094\n",
       "rating_numerator       0.008364        0.002094          1.000000"
      ]
     },
     "execution_count": 75,
     "metadata": {},
     "output_type": "execute_result"
    }
   ],
   "source": [
    "# Correlation betwwen retweet and favorite count column\n",
    "corr = df_dogs[['retweet_count', 'favorite_count', 'rating_numerator']].corr()\n",
    "\n",
    "# Test\n",
    "corr"
   ]
  },
  {
   "cell_type": "code",
   "execution_count": 76,
   "id": "15695eed",
   "metadata": {},
   "outputs": [
    {
     "data": {
      "image/png": "[encoded data removed]",
      "text/plain": [
       "<Figure size 432x288 with 1 Axes>"
      ]
     },
     "metadata": {
      "needs_background": "light"
     },
     "output_type": "display_data"
    }
   ],
   "source": [
    "# Scatter plot for the favorite and retweet count column\n",
    "df_dogs.plot(kind='scatter', x = 'favorite_count', y = 'retweet_count')\n",
    "plt.xlabel('Favorite Count'),\n",
    "plt.ylabel('Retweet Count'),\n",
    "plt.title('Dog Retweet Count vs Favorite Count');"
   ]
  },
  {
   "cell_type": "markdown",
   "id": "9c7b771e",
   "metadata": {},
   "source": [
    "**This shows that theres a strong positive correlation between the retweet and favorite count. which means that, the higher the tweet status is been liked (favorite), the higher the chances of the tweet been retweeted**"
   ]
  }
 ],
 "metadata": {
  "kernelspec": {
   "display_name": "Python 3",
   "language": "python",
   "name": "python3"
  },
  "language_info": {
   "codemirror_mode": {
    "name": "ipython",
    "version": 3
   },
   "file_extension": ".py",
   "mimetype": "text/x-python",
   "name": "python",
   "nbconvert_exporter": "python",
   "pygments_lexer": "ipython3",
   "version": "3.8.8"
  }
 },
 "nbformat": 4,
 "nbformat_minor": 5
}
