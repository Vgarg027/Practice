{
  "nbformat": 4,
  "nbformat_minor": 0,
  "metadata": {
    "colab": {
      "name": "Data Wrangling.ipynb",
      "provenance": [],
      "collapsed_sections": []
    },
    "kernelspec": {
      "name": "python3",
      "display_name": "Python 3"
    },
    "language_info": {
      "name": "python"
    }
  },
  "cells": [
    {
      "cell_type": "markdown",
      "source": [
        "### Required packages\n",
        "pandas\n",
        "NumPy\n",
        "requests\n",
        "tweepy\n",
        "json"
      ],
      "metadata": {
        "id": "AqXHef2SELMs"
      }
    },
    {
      "cell_type": "code",
      "execution_count": 1,
      "metadata": {
        "id": "NBld9BtVDU--"
      },
      "outputs": [],
      "source": [
        "import pandas as pd\n",
        "import requests\n",
        "import tweepy\n",
        "import json\n",
        "import os\n",
        "import re\n",
        "import matplotlib.pyplot as plt\n",
        "import seaborn as sns"
      ]
    },
    {
      "cell_type": "markdown",
      "source": [
        "## Gathering Data"
      ],
      "metadata": {
        "id": "JBoKie_A8y35"
      }
    },
    {
      "cell_type": "markdown",
      "source": [
        "### 1. Twitter Archived Enhanced Data"
      ],
      "metadata": {
        "id": "usTQTakz80oE"
      }
    },
    {
      "cell_type": "code",
      "source": [
        "Archived_Enhanced_df = pd.read_csv('/content/drive/MyDrive/twitter-archive-enhanced (1).csv')\n",
        "Archived_Enhanced_df.head(3)"
      ],
      "metadata": {
        "colab": {
          "base_uri": "https://localhost:8080/",
          "height": 450
        },
        "id": "_jq5K8eXDfRz",
        "outputId": "7eb0b37e-61e7-455e-98ae-4f7115ac595c"
      },
      "execution_count": 2,
      "outputs": [
        {
          "output_type": "execute_result",
          "data": {
            "text/plain": [
              "             tweet_id  in_reply_to_status_id  in_reply_to_user_id  \\\n",
              "0  892420643555336193                    NaN                  NaN   \n",
              "1  892177421306343426                    NaN                  NaN   \n",
              "2  891815181378084864                    NaN                  NaN   \n",
              "\n",
              "                   timestamp  \\\n",
              "0  2017-08-01 16:23:56 +0000   \n",
              "1  2017-08-01 00:17:27 +0000   \n",
              "2  2017-07-31 00:18:03 +0000   \n",
              "\n",
              "                                              source  \\\n",
              "0  <a href=\"http://twitter.com/download/iphone\" r...   \n",
              "1  <a href=\"http://twitter.com/download/iphone\" r...   \n",
              "2  <a href=\"http://twitter.com/download/iphone\" r...   \n",
              "\n",
              "                                                text  retweeted_status_id  \\\n",
              "0  This is Phineas. He's a mystical boy. Only eve...                  NaN   \n",
              "1  This is Tilly. She's just checking pup on you....                  NaN   \n",
              "2  This is Archie. He is a rare Norwegian Pouncin...                  NaN   \n",
              "\n",
              "   retweeted_status_user_id retweeted_status_timestamp  \\\n",
              "0                       NaN                        NaN   \n",
              "1                       NaN                        NaN   \n",
              "2                       NaN                        NaN   \n",
              "\n",
              "                                       expanded_urls  rating_numerator  \\\n",
              "0  https://twitter.com/dog_rates/status/892420643...                13   \n",
              "1  https://twitter.com/dog_rates/status/892177421...                13   \n",
              "2  https://twitter.com/dog_rates/status/891815181...                12   \n",
              "\n",
              "   rating_denominator     name doggo floofer pupper puppo  \n",
              "0                  10  Phineas  None    None   None  None  \n",
              "1                  10    Tilly  None    None   None  None  \n",
              "2                  10   Archie  None    None   None  None  "
            ],
            "text/html": [
              "\n",
              "  <div id=\"df-7d5b696d-e0f7-48e9-9ff5-979465f59f2b\">\n",
              "    <div class=\"colab-df-container\">\n",
              "      <div>\n",
              "<style scoped>\n",
              "    .dataframe tbody tr th:only-of-type {\n",
              "        vertical-align: middle;\n",
              "    }\n",
              "\n",
              "    .dataframe tbody tr th {\n",
              "        vertical-align: top;\n",
              "    }\n",
              "\n",
              "    .dataframe thead th {\n",
              "        text-align: right;\n",
              "    }\n",
              "</style>\n",
              "<table border=\"1\" class=\"dataframe\">\n",
              "  <thead>\n",
              "    <tr style=\"text-align: right;\">\n",
              "      <th></th>\n",
              "      <th>tweet_id</th>\n",
              "      <th>in_reply_to_status_id</th>\n",
              "      <th>in_reply_to_user_id</th>\n",
              "      <th>timestamp</th>\n",
              "      <th>source</th>\n",
              "      <th>text</th>\n",
              "      <th>retweeted_status_id</th>\n",
              "      <th>retweeted_status_user_id</th>\n",
              "      <th>retweeted_status_timestamp</th>\n",
              "      <th>expanded_urls</th>\n",
              "      <th>rating_numerator</th>\n",
              "      <th>rating_denominator</th>\n",
              "      <th>name</th>\n",
              "      <th>doggo</th>\n",
              "      <th>floofer</th>\n",
              "      <th>pupper</th>\n",
              "      <th>puppo</th>\n",
              "    </tr>\n",
              "  </thead>\n",
              "  <tbody>\n",
              "    <tr>\n",
              "      <th>0</th>\n",
              "      <td>892420643555336193</td>\n",
              "      <td>NaN</td>\n",
              "      <td>NaN</td>\n",
              "      <td>2017-08-01 16:23:56 +0000</td>\n",
              "      <td>&lt;a href=\"http://twitter.com/download/iphone\" r...</td>\n",
              "      <td>This is Phineas. He's a mystical boy. Only eve...</td>\n",
              "      <td>NaN</td>\n",
              "      <td>NaN</td>\n",
              "      <td>NaN</td>\n",
              "      <td>https://twitter.com/dog_rates/status/892420643...</td>\n",
              "      <td>13</td>\n",
              "      <td>10</td>\n",
              "      <td>Phineas</td>\n",
              "      <td>None</td>\n",
              "      <td>None</td>\n",
              "      <td>None</td>\n",
              "      <td>None</td>\n",
              "    </tr>\n",
              "    <tr>\n",
              "      <th>1</th>\n",
              "      <td>892177421306343426</td>\n",
              "      <td>NaN</td>\n",
              "      <td>NaN</td>\n",
              "      <td>2017-08-01 00:17:27 +0000</td>\n",
              "      <td>&lt;a href=\"http://twitter.com/download/iphone\" r...</td>\n",
              "      <td>This is Tilly. She's just checking pup on you....</td>\n",
              "      <td>NaN</td>\n",
              "      <td>NaN</td>\n",
              "      <td>NaN</td>\n",
              "      <td>https://twitter.com/dog_rates/status/892177421...</td>\n",
              "      <td>13</td>\n",
              "      <td>10</td>\n",
              "      <td>Tilly</td>\n",
              "      <td>None</td>\n",
              "      <td>None</td>\n",
              "      <td>None</td>\n",
              "      <td>None</td>\n",
              "    </tr>\n",
              "    <tr>\n",
              "      <th>2</th>\n",
              "      <td>891815181378084864</td>\n",
              "      <td>NaN</td>\n",
              "      <td>NaN</td>\n",
              "      <td>2017-07-31 00:18:03 +0000</td>\n",
              "      <td>&lt;a href=\"http://twitter.com/download/iphone\" r...</td>\n",
              "      <td>This is Archie. He is a rare Norwegian Pouncin...</td>\n",
              "      <td>NaN</td>\n",
              "      <td>NaN</td>\n",
              "      <td>NaN</td>\n",
              "      <td>https://twitter.com/dog_rates/status/891815181...</td>\n",
              "      <td>12</td>\n",
              "      <td>10</td>\n",
              "      <td>Archie</td>\n",
              "      <td>None</td>\n",
              "      <td>None</td>\n",
              "      <td>None</td>\n",
              "      <td>None</td>\n",
              "    </tr>\n",
              "  </tbody>\n",
              "</table>\n",
              "</div>\n",
              "      <button class=\"colab-df-convert\" onclick=\"convertToInteractive('df-7d5b696d-e0f7-48e9-9ff5-979465f59f2b')\"\n",
              "              title=\"Convert this dataframe to an interactive table.\"\n",
              "              style=\"display:none;\">\n",
              "        \n",
              "  <svg xmlns=\"http://www.w3.org/2000/svg\" height=\"24px\"viewBox=\"0 0 24 24\"\n",
              "       width=\"24px\">\n",
              "    <path d=\"M0 0h24v24H0V0z\" fill=\"none\"/>\n",
              "    <path d=\"M18.56 5.44l.94 2.06.94-2.06 2.06-.94-2.06-.94-.94-2.06-.94 2.06-2.06.94zm-11 1L8.5 8.5l.94-2.06 2.06-.94-2.06-.94L8.5 2.5l-.94 2.06-2.06.94zm10 10l.94 2.06.94-2.06 2.06-.94-2.06-.94-.94-2.06-.94 2.06-2.06.94z\"/><path d=\"M17.41 7.96l-1.37-1.37c-.4-.4-.92-.59-1.43-.59-.52 0-1.04.2-1.43.59L10.3 9.45l-7.72 7.72c-.78.78-.78 2.05 0 2.83L4 21.41c.39.39.9.59 1.41.59.51 0 1.02-.2 1.41-.59l7.78-7.78 2.81-2.81c.8-.78.8-2.07 0-2.86zM5.41 20L4 18.59l7.72-7.72 1.47 1.35L5.41 20z\"/>\n",
              "  </svg>\n",
              "      </button>\n",
              "      \n",
              "  <style>\n",
              "    .colab-df-container {\n",
              "      display:flex;\n",
              "      flex-wrap:wrap;\n",
              "      gap: 12px;\n",
              "    }\n",
              "\n",
              "    .colab-df-convert {\n",
              "      background-color: #E8F0FE;\n",
              "      border: none;\n",
              "      border-radius: 50%;\n",
              "      cursor: pointer;\n",
              "      display: none;\n",
              "      fill: #1967D2;\n",
              "      height: 32px;\n",
              "      padding: 0 0 0 0;\n",
              "      width: 32px;\n",
              "    }\n",
              "\n",
              "    .colab-df-convert:hover {\n",
              "      background-color: #E2EBFA;\n",
              "      box-shadow: 0px 1px 2px rgba(60, 64, 67, 0.3), 0px 1px 3px 1px rgba(60, 64, 67, 0.15);\n",
              "      fill: #174EA6;\n",
              "    }\n",
              "\n",
              "    [theme=dark] .colab-df-convert {\n",
              "      background-color: #3B4455;\n",
              "      fill: #D2E3FC;\n",
              "    }\n",
              "\n",
              "    [theme=dark] .colab-df-convert:hover {\n",
              "      background-color: #434B5C;\n",
              "      box-shadow: 0px 1px 3px 1px rgba(0, 0, 0, 0.15);\n",
              "      filter: drop-shadow(0px 1px 2px rgba(0, 0, 0, 0.3));\n",
              "      fill: #FFFFFF;\n",
              "    }\n",
              "  </style>\n",
              "\n",
              "      <script>\n",
              "        const buttonEl =\n",
              "          document.querySelector('#df-7d5b696d-e0f7-48e9-9ff5-979465f59f2b button.colab-df-convert');\n",
              "        buttonEl.style.display =\n",
              "          google.colab.kernel.accessAllowed ? 'block' : 'none';\n",
              "\n",
              "        async function convertToInteractive(key) {\n",
              "          const element = document.querySelector('#df-7d5b696d-e0f7-48e9-9ff5-979465f59f2b');\n",
              "          const dataTable =\n",
              "            await google.colab.kernel.invokeFunction('convertToInteractive',\n",
              "                                                     [key], {});\n",
              "          if (!dataTable) return;\n",
              "\n",
              "          const docLinkHtml = 'Like what you see? Visit the ' +\n",
              "            '<a target=\"_blank\" href=https://colab.research.google.com/notebooks/data_table.ipynb>data table notebook</a>'\n",
              "            + ' to learn more about interactive tables.';\n",
              "          element.innerHTML = '';\n",
              "          dataTable['output_type'] = 'display_data';\n",
              "          await google.colab.output.renderOutput(dataTable, element);\n",
              "          const docLink = document.createElement('div');\n",
              "          docLink.innerHTML = docLinkHtml;\n",
              "          element.appendChild(docLink);\n",
              "        }\n",
              "      </script>\n",
              "    </div>\n",
              "  </div>\n",
              "  "
            ]
          },
          "metadata": {},
          "execution_count": 2
        }
      ]
    },
    {
      "cell_type": "code",
      "source": [
        "Archived_Enhanced_df.info()"
      ],
      "metadata": {
        "colab": {
          "base_uri": "https://localhost:8080/"
        },
        "id": "8-N4qB9Z9S0E",
        "outputId": "f910cef3-f3b1-44bd-b182-8da2d9d6470c"
      },
      "execution_count": 3,
      "outputs": [
        {
          "output_type": "stream",
          "name": "stdout",
          "text": [
            "<class 'pandas.core.frame.DataFrame'>\n",
            "RangeIndex: 2356 entries, 0 to 2355\n",
            "Data columns (total 17 columns):\n",
            " #   Column                      Non-Null Count  Dtype  \n",
            "---  ------                      --------------  -----  \n",
            " 0   tweet_id                    2356 non-null   int64  \n",
            " 1   in_reply_to_status_id       78 non-null     float64\n",
            " 2   in_reply_to_user_id         78 non-null     float64\n",
            " 3   timestamp                   2356 non-null   object \n",
            " 4   source                      2356 non-null   object \n",
            " 5   text                        2356 non-null   object \n",
            " 6   retweeted_status_id         181 non-null    float64\n",
            " 7   retweeted_status_user_id    181 non-null    float64\n",
            " 8   retweeted_status_timestamp  181 non-null    object \n",
            " 9   expanded_urls               2297 non-null   object \n",
            " 10  rating_numerator            2356 non-null   int64  \n",
            " 11  rating_denominator          2356 non-null   int64  \n",
            " 12  name                        2356 non-null   object \n",
            " 13  doggo                       2356 non-null   object \n",
            " 14  floofer                     2356 non-null   object \n",
            " 15  pupper                      2356 non-null   object \n",
            " 16  puppo                       2356 non-null   object \n",
            "dtypes: float64(4), int64(3), object(10)\n",
            "memory usage: 313.0+ KB\n"
          ]
        }
      ]
    },
    {
      "cell_type": "markdown",
      "source": [
        "### 2. Image Predictions Data"
      ],
      "metadata": {
        "id": "U4yJKPV29ehD"
      }
    },
    {
      "cell_type": "code",
      "source": [
        "# Make directory if it doesn't already exist\n",
        "folder_name = 'new_folder'\n",
        "if not os.path.exists(folder_name):\n",
        "    os.makedirs(folder_name)"
      ],
      "metadata": {
        "id": "Ina-Pqv0G6au"
      },
      "execution_count": 4,
      "outputs": []
    },
    {
      "cell_type": "code",
      "source": [
        "url = 'https://d17h27t6h515a5.cloudfront.net/topher/2017/August/599fd2ad_image-predictions/image-predictions.tsv'\n",
        "response = requests.get(url)"
      ],
      "metadata": {
        "id": "ii9BZygQHBKa"
      },
      "execution_count": 5,
      "outputs": []
    },
    {
      "cell_type": "code",
      "source": [
        "with open(os.path.join(folder_name, url.split('/')[-1]), mode = 'wb') as file:\n",
        "    file.write(response.content)"
      ],
      "metadata": {
        "id": "M790BiVnHKNu"
      },
      "execution_count": 6,
      "outputs": []
    },
    {
      "cell_type": "code",
      "source": [
        "# Using requests library to download tsv file hosted on udacity server\n",
        "# url=\"https://d17h27t6h515a5.cloudfront.net/topher/2017/August/599fd2ad_image-predictions/image-predictions.tsv\"\n",
        "# response = requests.get(url)\n",
        "with open('/content/new_folder/image-predictions.tsv', 'wb') as file:\n",
        "    file.write(response.content)\n",
        "Predictions_data_df= pd.read_csv('/content/new_folder/image-predictions.tsv', sep='\\t')"
      ],
      "metadata": {
        "id": "_3xp5BMF9rjy"
      },
      "execution_count": 7,
      "outputs": []
    },
    {
      "cell_type": "code",
      "source": [
        "Predictions_data_df.head(5)"
      ],
      "metadata": {
        "colab": {
          "base_uri": "https://localhost:8080/",
          "height": 206
        },
        "id": "667pY_EL-6ck",
        "outputId": "1dc03310-a15e-43b3-f52c-8f6866384a9d"
      },
      "execution_count": 8,
      "outputs": [
        {
          "output_type": "execute_result",
          "data": {
            "text/plain": [
              "             tweet_id                                          jpg_url  \\\n",
              "0  666020888022790149  https://pbs.twimg.com/media/CT4udn0WwAA0aMy.jpg   \n",
              "1  666029285002620928  https://pbs.twimg.com/media/CT42GRgUYAA5iDo.jpg   \n",
              "2  666033412701032449  https://pbs.twimg.com/media/CT4521TWwAEvMyu.jpg   \n",
              "3  666044226329800704  https://pbs.twimg.com/media/CT5Dr8HUEAA-lEu.jpg   \n",
              "4  666049248165822465  https://pbs.twimg.com/media/CT5IQmsXIAAKY4A.jpg   \n",
              "\n",
              "   img_num                      p1   p1_conf  p1_dog                  p2  \\\n",
              "0        1  Welsh_springer_spaniel  0.465074    True              collie   \n",
              "1        1                 redbone  0.506826    True  miniature_pinscher   \n",
              "2        1         German_shepherd  0.596461    True            malinois   \n",
              "3        1     Rhodesian_ridgeback  0.408143    True             redbone   \n",
              "4        1      miniature_pinscher  0.560311    True          Rottweiler   \n",
              "\n",
              "    p2_conf  p2_dog                   p3   p3_conf  p3_dog  \n",
              "0  0.156665    True    Shetland_sheepdog  0.061428    True  \n",
              "1  0.074192    True  Rhodesian_ridgeback  0.072010    True  \n",
              "2  0.138584    True           bloodhound  0.116197    True  \n",
              "3  0.360687    True   miniature_pinscher  0.222752    True  \n",
              "4  0.243682    True             Doberman  0.154629    True  "
            ],
            "text/html": [
              "\n",
              "  <div id=\"df-314076eb-c524-4169-b7fc-4120af910bf8\">\n",
              "    <div class=\"colab-df-container\">\n",
              "      <div>\n",
              "<style scoped>\n",
              "    .dataframe tbody tr th:only-of-type {\n",
              "        vertical-align: middle;\n",
              "    }\n",
              "\n",
              "    .dataframe tbody tr th {\n",
              "        vertical-align: top;\n",
              "    }\n",
              "\n",
              "    .dataframe thead th {\n",
              "        text-align: right;\n",
              "    }\n",
              "</style>\n",
              "<table border=\"1\" class=\"dataframe\">\n",
              "  <thead>\n",
              "    <tr style=\"text-align: right;\">\n",
              "      <th></th>\n",
              "      <th>tweet_id</th>\n",
              "      <th>jpg_url</th>\n",
              "      <th>img_num</th>\n",
              "      <th>p1</th>\n",
              "      <th>p1_conf</th>\n",
              "      <th>p1_dog</th>\n",
              "      <th>p2</th>\n",
              "      <th>p2_conf</th>\n",
              "      <th>p2_dog</th>\n",
              "      <th>p3</th>\n",
              "      <th>p3_conf</th>\n",
              "      <th>p3_dog</th>\n",
              "    </tr>\n",
              "  </thead>\n",
              "  <tbody>\n",
              "    <tr>\n",
              "      <th>0</th>\n",
              "      <td>666020888022790149</td>\n",
              "      <td>https://pbs.twimg.com/media/CT4udn0WwAA0aMy.jpg</td>\n",
              "      <td>1</td>\n",
              "      <td>Welsh_springer_spaniel</td>\n",
              "      <td>0.465074</td>\n",
              "      <td>True</td>\n",
              "      <td>collie</td>\n",
              "      <td>0.156665</td>\n",
              "      <td>True</td>\n",
              "      <td>Shetland_sheepdog</td>\n",
              "      <td>0.061428</td>\n",
              "      <td>True</td>\n",
              "    </tr>\n",
              "    <tr>\n",
              "      <th>1</th>\n",
              "      <td>666029285002620928</td>\n",
              "      <td>https://pbs.twimg.com/media/CT42GRgUYAA5iDo.jpg</td>\n",
              "      <td>1</td>\n",
              "      <td>redbone</td>\n",
              "      <td>0.506826</td>\n",
              "      <td>True</td>\n",
              "      <td>miniature_pinscher</td>\n",
              "      <td>0.074192</td>\n",
              "      <td>True</td>\n",
              "      <td>Rhodesian_ridgeback</td>\n",
              "      <td>0.072010</td>\n",
              "      <td>True</td>\n",
              "    </tr>\n",
              "    <tr>\n",
              "      <th>2</th>\n",
              "      <td>666033412701032449</td>\n",
              "      <td>https://pbs.twimg.com/media/CT4521TWwAEvMyu.jpg</td>\n",
              "      <td>1</td>\n",
              "      <td>German_shepherd</td>\n",
              "      <td>0.596461</td>\n",
              "      <td>True</td>\n",
              "      <td>malinois</td>\n",
              "      <td>0.138584</td>\n",
              "      <td>True</td>\n",
              "      <td>bloodhound</td>\n",
              "      <td>0.116197</td>\n",
              "      <td>True</td>\n",
              "    </tr>\n",
              "    <tr>\n",
              "      <th>3</th>\n",
              "      <td>666044226329800704</td>\n",
              "      <td>https://pbs.twimg.com/media/CT5Dr8HUEAA-lEu.jpg</td>\n",
              "      <td>1</td>\n",
              "      <td>Rhodesian_ridgeback</td>\n",
              "      <td>0.408143</td>\n",
              "      <td>True</td>\n",
              "      <td>redbone</td>\n",
              "      <td>0.360687</td>\n",
              "      <td>True</td>\n",
              "      <td>miniature_pinscher</td>\n",
              "      <td>0.222752</td>\n",
              "      <td>True</td>\n",
              "    </tr>\n",
              "    <tr>\n",
              "      <th>4</th>\n",
              "      <td>666049248165822465</td>\n",
              "      <td>https://pbs.twimg.com/media/CT5IQmsXIAAKY4A.jpg</td>\n",
              "      <td>1</td>\n",
              "      <td>miniature_pinscher</td>\n",
              "      <td>0.560311</td>\n",
              "      <td>True</td>\n",
              "      <td>Rottweiler</td>\n",
              "      <td>0.243682</td>\n",
              "      <td>True</td>\n",
              "      <td>Doberman</td>\n",
              "      <td>0.154629</td>\n",
              "      <td>True</td>\n",
              "    </tr>\n",
              "  </tbody>\n",
              "</table>\n",
              "</div>\n",
              "      <button class=\"colab-df-convert\" onclick=\"convertToInteractive('df-314076eb-c524-4169-b7fc-4120af910bf8')\"\n",
              "              title=\"Convert this dataframe to an interactive table.\"\n",
              "              style=\"display:none;\">\n",
              "        \n",
              "  <svg xmlns=\"http://www.w3.org/2000/svg\" height=\"24px\"viewBox=\"0 0 24 24\"\n",
              "       width=\"24px\">\n",
              "    <path d=\"M0 0h24v24H0V0z\" fill=\"none\"/>\n",
              "    <path d=\"M18.56 5.44l.94 2.06.94-2.06 2.06-.94-2.06-.94-.94-2.06-.94 2.06-2.06.94zm-11 1L8.5 8.5l.94-2.06 2.06-.94-2.06-.94L8.5 2.5l-.94 2.06-2.06.94zm10 10l.94 2.06.94-2.06 2.06-.94-2.06-.94-.94-2.06-.94 2.06-2.06.94z\"/><path d=\"M17.41 7.96l-1.37-1.37c-.4-.4-.92-.59-1.43-.59-.52 0-1.04.2-1.43.59L10.3 9.45l-7.72 7.72c-.78.78-.78 2.05 0 2.83L4 21.41c.39.39.9.59 1.41.59.51 0 1.02-.2 1.41-.59l7.78-7.78 2.81-2.81c.8-.78.8-2.07 0-2.86zM5.41 20L4 18.59l7.72-7.72 1.47 1.35L5.41 20z\"/>\n",
              "  </svg>\n",
              "      </button>\n",
              "      \n",
              "  <style>\n",
              "    .colab-df-container {\n",
              "      display:flex;\n",
              "      flex-wrap:wrap;\n",
              "      gap: 12px;\n",
              "    }\n",
              "\n",
              "    .colab-df-convert {\n",
              "      background-color: #E8F0FE;\n",
              "      border: none;\n",
              "      border-radius: 50%;\n",
              "      cursor: pointer;\n",
              "      display: none;\n",
              "      fill: #1967D2;\n",
              "      height: 32px;\n",
              "      padding: 0 0 0 0;\n",
              "      width: 32px;\n",
              "    }\n",
              "\n",
              "    .colab-df-convert:hover {\n",
              "      background-color: #E2EBFA;\n",
              "      box-shadow: 0px 1px 2px rgba(60, 64, 67, 0.3), 0px 1px 3px 1px rgba(60, 64, 67, 0.15);\n",
              "      fill: #174EA6;\n",
              "    }\n",
              "\n",
              "    [theme=dark] .colab-df-convert {\n",
              "      background-color: #3B4455;\n",
              "      fill: #D2E3FC;\n",
              "    }\n",
              "\n",
              "    [theme=dark] .colab-df-convert:hover {\n",
              "      background-color: #434B5C;\n",
              "      box-shadow: 0px 1px 3px 1px rgba(0, 0, 0, 0.15);\n",
              "      filter: drop-shadow(0px 1px 2px rgba(0, 0, 0, 0.3));\n",
              "      fill: #FFFFFF;\n",
              "    }\n",
              "  </style>\n",
              "\n",
              "      <script>\n",
              "        const buttonEl =\n",
              "          document.querySelector('#df-314076eb-c524-4169-b7fc-4120af910bf8 button.colab-df-convert');\n",
              "        buttonEl.style.display =\n",
              "          google.colab.kernel.accessAllowed ? 'block' : 'none';\n",
              "\n",
              "        async function convertToInteractive(key) {\n",
              "          const element = document.querySelector('#df-314076eb-c524-4169-b7fc-4120af910bf8');\n",
              "          const dataTable =\n",
              "            await google.colab.kernel.invokeFunction('convertToInteractive',\n",
              "                                                     [key], {});\n",
              "          if (!dataTable) return;\n",
              "\n",
              "          const docLinkHtml = 'Like what you see? Visit the ' +\n",
              "            '<a target=\"_blank\" href=https://colab.research.google.com/notebooks/data_table.ipynb>data table notebook</a>'\n",
              "            + ' to learn more about interactive tables.';\n",
              "          element.innerHTML = '';\n",
              "          dataTable['output_type'] = 'display_data';\n",
              "          await google.colab.output.renderOutput(dataTable, element);\n",
              "          const docLink = document.createElement('div');\n",
              "          docLink.innerHTML = docLinkHtml;\n",
              "          element.appendChild(docLink);\n",
              "        }\n",
              "      </script>\n",
              "    </div>\n",
              "  </div>\n",
              "  "
            ]
          },
          "metadata": {},
          "execution_count": 8
        }
      ]
    },
    {
      "cell_type": "code",
      "source": [
        "Predictions_data_df.info()"
      ],
      "metadata": {
        "colab": {
          "base_uri": "https://localhost:8080/"
        },
        "id": "xmrfYZ81oQiv",
        "outputId": "e98fc4e1-bfc9-4885-ffcb-a41f11ea9e17"
      },
      "execution_count": 9,
      "outputs": [
        {
          "output_type": "stream",
          "name": "stdout",
          "text": [
            "<class 'pandas.core.frame.DataFrame'>\n",
            "RangeIndex: 2075 entries, 0 to 2074\n",
            "Data columns (total 12 columns):\n",
            " #   Column    Non-Null Count  Dtype  \n",
            "---  ------    --------------  -----  \n",
            " 0   tweet_id  2075 non-null   int64  \n",
            " 1   jpg_url   2075 non-null   object \n",
            " 2   img_num   2075 non-null   int64  \n",
            " 3   p1        2075 non-null   object \n",
            " 4   p1_conf   2075 non-null   float64\n",
            " 5   p1_dog    2075 non-null   bool   \n",
            " 6   p2        2075 non-null   object \n",
            " 7   p2_conf   2075 non-null   float64\n",
            " 8   p2_dog    2075 non-null   bool   \n",
            " 9   p3        2075 non-null   object \n",
            " 10  p3_conf   2075 non-null   float64\n",
            " 11  p3_dog    2075 non-null   bool   \n",
            "dtypes: bool(3), float64(3), int64(2), object(4)\n",
            "memory usage: 152.1+ KB\n"
          ]
        }
      ]
    },
    {
      "cell_type": "code",
      "source": [
        "# url='https://video.udacity-data.com/topher/2018/November/5be5fb7d_tweet-json/tweet-json.txt'\n",
        "# response = requests.get(url)\n",
        "# with open(os.path.join(folder_name, url.split('/')[-1]), mode = 'wb') as file:\n",
        "#     file.write(response.content)"
      ],
      "metadata": {
        "id": "3L2m7S_BVFrl"
      },
      "execution_count": null,
      "outputs": []
    },
    {
      "cell_type": "markdown",
      "source": [
        "### 3.Query the Twitter API"
      ],
      "metadata": {
        "id": "4A8uij0mPXC5"
      }
    },
    {
      "cell_type": "code",
      "source": [
        "import glob\n",
        "import pandas as pd"
      ],
      "metadata": {
        "id": "w8ICYIOMs5SO"
      },
      "execution_count": null,
      "outputs": []
    },
    {
      "cell_type": "code",
      "source": [
        "import tweepy\n",
        "from tweepy import OAuthHandler\n",
        "import json\n",
        "from timeit import default_timer as timer\n",
        "import time"
      ],
      "metadata": {
        "id": "iZeM2FwJEqK1"
      },
      "execution_count": null,
      "outputs": []
    },
    {
      "cell_type": "code",
      "source": [
        "import tweepy\n",
        "\n",
        "consumer_key = ''\n",
        "consumer_secret = ''\n",
        "access_token = ''\n",
        "access_secret = ''\n",
        "\n",
        "auth = tweepy.OAuthHandler(consumer_key, consumer_secret)\n",
        "auth.set_access_token(access_token, access_secret)\n",
        "\n",
        "api = tweepy.API(auth, wait_on_rate_limit=True, wait_on_rate_limit_notify=True)"
      ],
      "metadata": {
        "id": "X_AzWK04tMjw"
      },
      "execution_count": null,
      "outputs": []
    },
    {
      "cell_type": "code",
      "source": [
        "# list of tweet ids from enhanced data set\n",
        "df_tweet_ids = Archived_Enhanced_df['tweet_id']"
      ],
      "metadata": {
        "id": "z30DnV6KtP50"
      },
      "execution_count": null,
      "outputs": []
    },
    {
      "cell_type": "code",
      "source": [
        "# creating a list for tweets with exceptions/errors \n",
        "tweets_error_list = []\n",
        "\n",
        "# List of tweets\n",
        "df_tweets = []\n",
        "\n",
        "# start time of execution\n",
        "start = time.time()\n",
        "\n",
        "# For loop which will add each available tweet json to df_list\n",
        "for tweet_id in df_tweet_ids:\n",
        "    try:\n",
        "        tweet = api.get_status(tweet_id, tweet_mode= 'extended')._json \n",
        "        \n",
        "        favorites = tweet['favorite_count'] # number of favorites for the tweet\n",
        "        retweets = tweet['retweet_count'] # number of retweets\n",
        "        user_followers = tweet['user']['followers_count'] # number of followers of the user who tweeted\n",
        "        user_favourites = tweet['user']['favourites_count'] # number of favourites for the user who tweeted\n",
        "        date_time = tweet['created_at'] # the timestamp i.e. date and time of creation of the tweet\n",
        "        \n",
        "        df_tweets.append({'tweet_id': int(tweet_id),\n",
        "                        'favorites': int(favorites),\n",
        "                        'retweets': int(retweets),\n",
        "                        'user_followers': int(user_followers),\n",
        "                        'user_favourites': int(user_favourites),\n",
        "                        'date_time': pd.to_datetime(date_time)})\n",
        "    except Exception as e:\n",
        "        print(str(tweet_id)+ \" _ \" + str(e))\n",
        "        tweets_error_list.append(tweet_id)\n",
        "        \n",
        "# end time for excution\n",
        "end = time.time()\n",
        "\n",
        "#printing time for execution\n",
        "print(\"Total time taken for execution\", end - start)"
      ],
      "metadata": {
        "colab": {
          "base_uri": "https://localhost:8080/"
        },
        "id": "bRYLIS6YtSx5",
        "outputId": "6d2686ab-ad56-42a8-82b7-db3dd15fecb3"
      },
      "execution_count": null,
      "outputs": [
        {
          "metadata": {
            "tags": null
          },
          "name": "stdout",
          "output_type": "stream",
          "text": [
            "888202515573088257 _ [{'code': 144, 'message': 'No status found with that ID.'}]\n",
            "873697596434513921 _ [{'code': 144, 'message': 'No status found with that ID.'}]\n",
            "872668790621863937 _ [{'code': 144, 'message': 'No status found with that ID.'}]\n",
            "872261713294495745 _ [{'code': 144, 'message': 'No status found with that ID.'}]\n",
            "869988702071779329 _ [{'code': 144, 'message': 'No status found with that ID.'}]\n",
            "866816280283807744 _ [{'code': 144, 'message': 'No status found with that ID.'}]\n",
            "861769973181624320 _ [{'code': 144, 'message': 'No status found with that ID.'}]\n",
            "856602993587888130 _ [{'code': 144, 'message': 'No status found with that ID.'}]\n",
            "856330835276025856 _ [{'code': 34, 'message': 'Sorry, that page does not exist.'}]\n",
            "851953902622658560 _ [{'code': 144, 'message': 'No status found with that ID.'}]\n",
            "851861385021730816 _ [{'code': 144, 'message': 'No status found with that ID.'}]\n",
            "845459076796616705 _ [{'code': 144, 'message': 'No status found with that ID.'}]\n",
            "844704788403113984 _ [{'code': 144, 'message': 'No status found with that ID.'}]\n",
            "842892208864923648 _ [{'code': 144, 'message': 'No status found with that ID.'}]\n",
            "837366284874571778 _ [{'code': 144, 'message': 'No status found with that ID.'}]\n",
            "837012587749474308 _ [{'code': 144, 'message': 'No status found with that ID.'}]\n",
            "829374341691346946 _ [{'code': 144, 'message': 'No status found with that ID.'}]\n",
            "827228250799742977 _ [{'code': 144, 'message': 'No status found with that ID.'}]\n",
            "812747805718642688 _ [{'code': 144, 'message': 'No status found with that ID.'}]\n",
            "802247111496568832 _ [{'code': 144, 'message': 'No status found with that ID.'}]\n",
            "779123168116150273 _ [{'code': 144, 'message': 'No status found with that ID.'}]\n",
            "775096608509886464 _ [{'code': 144, 'message': 'No status found with that ID.'}]\n",
            "771004394259247104 _ [{'code': 179, 'message': 'Sorry, you are not authorized to see this status.'}]\n",
            "770743923962707968 _ [{'code': 144, 'message': 'No status found with that ID.'}]\n",
            "766864461642756096 _ [{'code': 144, 'message': 'No status found with that ID.'}]\n",
            "759923798737051648 _ [{'code': 144, 'message': 'No status found with that ID.'}]\n",
            "759566828574212096 _ [{'code': 144, 'message': 'No status found with that ID.'}]\n"
          ]
        },
        {
          "metadata": {
            "tags": null
          },
          "name": "stderr",
          "output_type": "stream",
          "text": [
            "Rate limit reached. Sleeping for: 799\n"
          ]
        },
        {
          "output_type": "stream",
          "name": "stdout",
          "text": [
            "754011816964026368 _ [{'code': 144, 'message': 'No status found with that ID.'}]\n",
            "680055455951884288 _ [{'code': 144, 'message': 'No status found with that ID.'}]\n"
          ]
        },
        {
          "output_type": "stream",
          "name": "stderr",
          "text": [
            "Rate limit reached. Sleeping for: 798\n"
          ]
        },
        {
          "output_type": "stream",
          "name": "stdout",
          "text": [
            "Total time taken for execution 1871.7924304008484\n"
          ]
        }
      ]
    },
    {
      "cell_type": "code",
      "source": [
        "# total tweets received from api\n",
        "print(\"The lengh of the result\", len(df_tweets))\n",
        "\n",
        "# The tweet_id of the errors received from api\n",
        "print(\"The lengh of the errors\", len(tweets_error_list))"
      ],
      "metadata": {
        "colab": {
          "base_uri": "https://localhost:8080/"
        },
        "id": "NbfmZshWtWiZ",
        "outputId": "a63530f1-11c2-4332-cf77-fd96266f7afa"
      },
      "execution_count": null,
      "outputs": [
        {
          "output_type": "stream",
          "name": "stdout",
          "text": [
            "The lengh of the result 2327\n",
            "The lengh of the errors 29\n"
          ]
        }
      ]
    },
    {
      "cell_type": "code",
      "source": [
        "# creating DataFrames\n",
        "df_tweets_json = pd.DataFrame(df_tweets, columns = ['tweet_id', 'favorites', 'retweets',\n",
        "                                               'user_followers', 'user_favourites', 'date_time'])\n",
        "# saving the dataFrame to file\n",
        "df_tweets_json.to_csv('tweet_json.txt', encoding = 'utf-8', index=False)"
      ],
      "metadata": {
        "id": "kF3t7tPEtZdw"
      },
      "execution_count": null,
      "outputs": []
    },
    {
      "cell_type": "code",
      "source": [
        "# Read the saved tweet_json.txt file into a dataframe\n",
        "df_api_data = pd.read_csv('tweet_json.txt', encoding = 'utf-8')"
      ],
      "metadata": {
        "id": "BBwpUS28tcG5"
      },
      "execution_count": null,
      "outputs": []
    },
    {
      "cell_type": "code",
      "source": [
        "df_api_data.head()"
      ],
      "metadata": {
        "colab": {
          "base_uri": "https://localhost:8080/",
          "height": 206
        },
        "id": "_9UC6YyAtfF7",
        "outputId": "6ec50795-4e89-43a4-ebe1-060b4c3834e9"
      },
      "execution_count": null,
      "outputs": [
        {
          "output_type": "execute_result",
          "data": {
            "text/plain": [
              "             tweet_id  favorites  retweets  user_followers  user_favourites  \\\n",
              "0  892420643555336193      33839      7018         9271961           146769   \n",
              "1  892177421306343426      29354      5303         9271961           146769   \n",
              "2  891815181378084864      22072      3486         9271961           146769   \n",
              "3  891689557279858688      36968      7230         9271961           146769   \n",
              "4  891327558926688256      35343      7770         9271961           146769   \n",
              "\n",
              "                   date_time  \n",
              "0  2017-08-01 16:23:56+00:00  \n",
              "1  2017-08-01 00:17:27+00:00  \n",
              "2  2017-07-31 00:18:03+00:00  \n",
              "3  2017-07-30 15:58:51+00:00  \n",
              "4  2017-07-29 16:00:24+00:00  "
            ],
            "text/html": [
              "\n",
              "  <div id=\"df-7b2c0150-0cc4-4d81-8b55-a9dae8fbafe1\">\n",
              "    <div class=\"colab-df-container\">\n",
              "      <div>\n",
              "<style scoped>\n",
              "    .dataframe tbody tr th:only-of-type {\n",
              "        vertical-align: middle;\n",
              "    }\n",
              "\n",
              "    .dataframe tbody tr th {\n",
              "        vertical-align: top;\n",
              "    }\n",
              "\n",
              "    .dataframe thead th {\n",
              "        text-align: right;\n",
              "    }\n",
              "</style>\n",
              "<table border=\"1\" class=\"dataframe\">\n",
              "  <thead>\n",
              "    <tr style=\"text-align: right;\">\n",
              "      <th></th>\n",
              "      <th>tweet_id</th>\n",
              "      <th>favorites</th>\n",
              "      <th>retweets</th>\n",
              "      <th>user_followers</th>\n",
              "      <th>user_favourites</th>\n",
              "      <th>date_time</th>\n",
              "    </tr>\n",
              "  </thead>\n",
              "  <tbody>\n",
              "    <tr>\n",
              "      <th>0</th>\n",
              "      <td>892420643555336193</td>\n",
              "      <td>33839</td>\n",
              "      <td>7018</td>\n",
              "      <td>9271961</td>\n",
              "      <td>146769</td>\n",
              "      <td>2017-08-01 16:23:56+00:00</td>\n",
              "    </tr>\n",
              "    <tr>\n",
              "      <th>1</th>\n",
              "      <td>892177421306343426</td>\n",
              "      <td>29354</td>\n",
              "      <td>5303</td>\n",
              "      <td>9271961</td>\n",
              "      <td>146769</td>\n",
              "      <td>2017-08-01 00:17:27+00:00</td>\n",
              "    </tr>\n",
              "    <tr>\n",
              "      <th>2</th>\n",
              "      <td>891815181378084864</td>\n",
              "      <td>22072</td>\n",
              "      <td>3486</td>\n",
              "      <td>9271961</td>\n",
              "      <td>146769</td>\n",
              "      <td>2017-07-31 00:18:03+00:00</td>\n",
              "    </tr>\n",
              "    <tr>\n",
              "      <th>3</th>\n",
              "      <td>891689557279858688</td>\n",
              "      <td>36968</td>\n",
              "      <td>7230</td>\n",
              "      <td>9271961</td>\n",
              "      <td>146769</td>\n",
              "      <td>2017-07-30 15:58:51+00:00</td>\n",
              "    </tr>\n",
              "    <tr>\n",
              "      <th>4</th>\n",
              "      <td>891327558926688256</td>\n",
              "      <td>35343</td>\n",
              "      <td>7770</td>\n",
              "      <td>9271961</td>\n",
              "      <td>146769</td>\n",
              "      <td>2017-07-29 16:00:24+00:00</td>\n",
              "    </tr>\n",
              "  </tbody>\n",
              "</table>\n",
              "</div>\n",
              "      <button class=\"colab-df-convert\" onclick=\"convertToInteractive('df-7b2c0150-0cc4-4d81-8b55-a9dae8fbafe1')\"\n",
              "              title=\"Convert this dataframe to an interactive table.\"\n",
              "              style=\"display:none;\">\n",
              "        \n",
              "  <svg xmlns=\"http://www.w3.org/2000/svg\" height=\"24px\"viewBox=\"0 0 24 24\"\n",
              "       width=\"24px\">\n",
              "    <path d=\"M0 0h24v24H0V0z\" fill=\"none\"/>\n",
              "    <path d=\"M18.56 5.44l.94 2.06.94-2.06 2.06-.94-2.06-.94-.94-2.06-.94 2.06-2.06.94zm-11 1L8.5 8.5l.94-2.06 2.06-.94-2.06-.94L8.5 2.5l-.94 2.06-2.06.94zm10 10l.94 2.06.94-2.06 2.06-.94-2.06-.94-.94-2.06-.94 2.06-2.06.94z\"/><path d=\"M17.41 7.96l-1.37-1.37c-.4-.4-.92-.59-1.43-.59-.52 0-1.04.2-1.43.59L10.3 9.45l-7.72 7.72c-.78.78-.78 2.05 0 2.83L4 21.41c.39.39.9.59 1.41.59.51 0 1.02-.2 1.41-.59l7.78-7.78 2.81-2.81c.8-.78.8-2.07 0-2.86zM5.41 20L4 18.59l7.72-7.72 1.47 1.35L5.41 20z\"/>\n",
              "  </svg>\n",
              "      </button>\n",
              "      \n",
              "  <style>\n",
              "    .colab-df-container {\n",
              "      display:flex;\n",
              "      flex-wrap:wrap;\n",
              "      gap: 12px;\n",
              "    }\n",
              "\n",
              "    .colab-df-convert {\n",
              "      background-color: #E8F0FE;\n",
              "      border: none;\n",
              "      border-radius: 50%;\n",
              "      cursor: pointer;\n",
              "      display: none;\n",
              "      fill: #1967D2;\n",
              "      height: 32px;\n",
              "      padding: 0 0 0 0;\n",
              "      width: 32px;\n",
              "    }\n",
              "\n",
              "    .colab-df-convert:hover {\n",
              "      background-color: #E2EBFA;\n",
              "      box-shadow: 0px 1px 2px rgba(60, 64, 67, 0.3), 0px 1px 3px 1px rgba(60, 64, 67, 0.15);\n",
              "      fill: #174EA6;\n",
              "    }\n",
              "\n",
              "    [theme=dark] .colab-df-convert {\n",
              "      background-color: #3B4455;\n",
              "      fill: #D2E3FC;\n",
              "    }\n",
              "\n",
              "    [theme=dark] .colab-df-convert:hover {\n",
              "      background-color: #434B5C;\n",
              "      box-shadow: 0px 1px 3px 1px rgba(0, 0, 0, 0.15);\n",
              "      filter: drop-shadow(0px 1px 2px rgba(0, 0, 0, 0.3));\n",
              "      fill: #FFFFFF;\n",
              "    }\n",
              "  </style>\n",
              "\n",
              "      <script>\n",
              "        const buttonEl =\n",
              "          document.querySelector('#df-7b2c0150-0cc4-4d81-8b55-a9dae8fbafe1 button.colab-df-convert');\n",
              "        buttonEl.style.display =\n",
              "          google.colab.kernel.accessAllowed ? 'block' : 'none';\n",
              "\n",
              "        async function convertToInteractive(key) {\n",
              "          const element = document.querySelector('#df-7b2c0150-0cc4-4d81-8b55-a9dae8fbafe1');\n",
              "          const dataTable =\n",
              "            await google.colab.kernel.invokeFunction('convertToInteractive',\n",
              "                                                     [key], {});\n",
              "          if (!dataTable) return;\n",
              "\n",
              "          const docLinkHtml = 'Like what you see? Visit the ' +\n",
              "            '<a target=\"_blank\" href=https://colab.research.google.com/notebooks/data_table.ipynb>data table notebook</a>'\n",
              "            + ' to learn more about interactive tables.';\n",
              "          element.innerHTML = '';\n",
              "          dataTable['output_type'] = 'display_data';\n",
              "          await google.colab.output.renderOutput(dataTable, element);\n",
              "          const docLink = document.createElement('div');\n",
              "          docLink.innerHTML = docLinkHtml;\n",
              "          element.appendChild(docLink);\n",
              "        }\n",
              "      </script>\n",
              "    </div>\n",
              "  </div>\n",
              "  "
            ]
          },
          "metadata": {},
          "execution_count": 19
        }
      ]
    },
    {
      "cell_type": "code",
      "source": [
        "df_api_data.info()"
      ],
      "metadata": {
        "colab": {
          "base_uri": "https://localhost:8080/"
        },
        "id": "DM1zzEySthqG",
        "outputId": "ca41b925-a56f-422d-a361-289f22f96dd3"
      },
      "execution_count": null,
      "outputs": [
        {
          "output_type": "stream",
          "name": "stdout",
          "text": [
            "<class 'pandas.core.frame.DataFrame'>\n",
            "RangeIndex: 2327 entries, 0 to 2326\n",
            "Data columns (total 6 columns):\n",
            " #   Column           Non-Null Count  Dtype \n",
            "---  ------           --------------  ----- \n",
            " 0   tweet_id         2327 non-null   int64 \n",
            " 1   favorites        2327 non-null   int64 \n",
            " 2   retweets         2327 non-null   int64 \n",
            " 3   user_followers   2327 non-null   int64 \n",
            " 4   user_favourites  2327 non-null   int64 \n",
            " 5   date_time        2327 non-null   object\n",
            "dtypes: int64(5), object(1)\n",
            "memory usage: 109.2+ KB\n"
          ]
        }
      ]
    },
    {
      "cell_type": "code",
      "source": [
        "# save dataframe\n",
        "df_api_data.to_csv('df_tweets.csv')"
      ],
      "metadata": {
        "id": "Qk2PvnWLtloa"
      },
      "execution_count": null,
      "outputs": []
    },
    {
      "cell_type": "code",
      "source": [
        "Twitter_api_df = pd.read_csv(\"/content/drive/MyDrive/df_tweets.csv\")\n",
        "Twitter_api_df.head(5)"
      ],
      "metadata": {
        "colab": {
          "base_uri": "https://localhost:8080/",
          "height": 206
        },
        "id": "P8vuldPdbJ5R",
        "outputId": "b885912b-d4c0-4d25-e8b3-47300d0823f0"
      },
      "execution_count": 10,
      "outputs": [
        {
          "output_type": "execute_result",
          "data": {
            "text/plain": [
              "   Unnamed: 0            tweet_id  favorites  retweets  user_followers  \\\n",
              "0           0  892420643555336193      33824      7018         9272009   \n",
              "1           1  892177421306343426      29340      5303         9272009   \n",
              "2           2  891815181378084864      22067      3486         9272009   \n",
              "3           3  891689557279858688      36932      7223         9272009   \n",
              "4           4  891327558926688256      35308      7770         9272009   \n",
              "\n",
              "   user_favourites                  date_time  \n",
              "0           146769  2017-08-01 16:23:56+00:00  \n",
              "1           146769  2017-08-01 00:17:27+00:00  \n",
              "2           146769  2017-07-31 00:18:03+00:00  \n",
              "3           146769  2017-07-30 15:58:51+00:00  \n",
              "4           146769  2017-07-29 16:00:24+00:00  "
            ],
            "text/html": [
              "\n",
              "  <div id=\"df-6c34c25c-ef0c-4aa8-bba7-98e06a2956b1\">\n",
              "    <div class=\"colab-df-container\">\n",
              "      <div>\n",
              "<style scoped>\n",
              "    .dataframe tbody tr th:only-of-type {\n",
              "        vertical-align: middle;\n",
              "    }\n",
              "\n",
              "    .dataframe tbody tr th {\n",
              "        vertical-align: top;\n",
              "    }\n",
              "\n",
              "    .dataframe thead th {\n",
              "        text-align: right;\n",
              "    }\n",
              "</style>\n",
              "<table border=\"1\" class=\"dataframe\">\n",
              "  <thead>\n",
              "    <tr style=\"text-align: right;\">\n",
              "      <th></th>\n",
              "      <th>Unnamed: 0</th>\n",
              "      <th>tweet_id</th>\n",
              "      <th>favorites</th>\n",
              "      <th>retweets</th>\n",
              "      <th>user_followers</th>\n",
              "      <th>user_favourites</th>\n",
              "      <th>date_time</th>\n",
              "    </tr>\n",
              "  </thead>\n",
              "  <tbody>\n",
              "    <tr>\n",
              "      <th>0</th>\n",
              "      <td>0</td>\n",
              "      <td>892420643555336193</td>\n",
              "      <td>33824</td>\n",
              "      <td>7018</td>\n",
              "      <td>9272009</td>\n",
              "      <td>146769</td>\n",
              "      <td>2017-08-01 16:23:56+00:00</td>\n",
              "    </tr>\n",
              "    <tr>\n",
              "      <th>1</th>\n",
              "      <td>1</td>\n",
              "      <td>892177421306343426</td>\n",
              "      <td>29340</td>\n",
              "      <td>5303</td>\n",
              "      <td>9272009</td>\n",
              "      <td>146769</td>\n",
              "      <td>2017-08-01 00:17:27+00:00</td>\n",
              "    </tr>\n",
              "    <tr>\n",
              "      <th>2</th>\n",
              "      <td>2</td>\n",
              "      <td>891815181378084864</td>\n",
              "      <td>22067</td>\n",
              "      <td>3486</td>\n",
              "      <td>9272009</td>\n",
              "      <td>146769</td>\n",
              "      <td>2017-07-31 00:18:03+00:00</td>\n",
              "    </tr>\n",
              "    <tr>\n",
              "      <th>3</th>\n",
              "      <td>3</td>\n",
              "      <td>891689557279858688</td>\n",
              "      <td>36932</td>\n",
              "      <td>7223</td>\n",
              "      <td>9272009</td>\n",
              "      <td>146769</td>\n",
              "      <td>2017-07-30 15:58:51+00:00</td>\n",
              "    </tr>\n",
              "    <tr>\n",
              "      <th>4</th>\n",
              "      <td>4</td>\n",
              "      <td>891327558926688256</td>\n",
              "      <td>35308</td>\n",
              "      <td>7770</td>\n",
              "      <td>9272009</td>\n",
              "      <td>146769</td>\n",
              "      <td>2017-07-29 16:00:24+00:00</td>\n",
              "    </tr>\n",
              "  </tbody>\n",
              "</table>\n",
              "</div>\n",
              "      <button class=\"colab-df-convert\" onclick=\"convertToInteractive('df-6c34c25c-ef0c-4aa8-bba7-98e06a2956b1')\"\n",
              "              title=\"Convert this dataframe to an interactive table.\"\n",
              "              style=\"display:none;\">\n",
              "        \n",
              "  <svg xmlns=\"http://www.w3.org/2000/svg\" height=\"24px\"viewBox=\"0 0 24 24\"\n",
              "       width=\"24px\">\n",
              "    <path d=\"M0 0h24v24H0V0z\" fill=\"none\"/>\n",
              "    <path d=\"M18.56 5.44l.94 2.06.94-2.06 2.06-.94-2.06-.94-.94-2.06-.94 2.06-2.06.94zm-11 1L8.5 8.5l.94-2.06 2.06-.94-2.06-.94L8.5 2.5l-.94 2.06-2.06.94zm10 10l.94 2.06.94-2.06 2.06-.94-2.06-.94-.94-2.06-.94 2.06-2.06.94z\"/><path d=\"M17.41 7.96l-1.37-1.37c-.4-.4-.92-.59-1.43-.59-.52 0-1.04.2-1.43.59L10.3 9.45l-7.72 7.72c-.78.78-.78 2.05 0 2.83L4 21.41c.39.39.9.59 1.41.59.51 0 1.02-.2 1.41-.59l7.78-7.78 2.81-2.81c.8-.78.8-2.07 0-2.86zM5.41 20L4 18.59l7.72-7.72 1.47 1.35L5.41 20z\"/>\n",
              "  </svg>\n",
              "      </button>\n",
              "      \n",
              "  <style>\n",
              "    .colab-df-container {\n",
              "      display:flex;\n",
              "      flex-wrap:wrap;\n",
              "      gap: 12px;\n",
              "    }\n",
              "\n",
              "    .colab-df-convert {\n",
              "      background-color: #E8F0FE;\n",
              "      border: none;\n",
              "      border-radius: 50%;\n",
              "      cursor: pointer;\n",
              "      display: none;\n",
              "      fill: #1967D2;\n",
              "      height: 32px;\n",
              "      padding: 0 0 0 0;\n",
              "      width: 32px;\n",
              "    }\n",
              "\n",
              "    .colab-df-convert:hover {\n",
              "      background-color: #E2EBFA;\n",
              "      box-shadow: 0px 1px 2px rgba(60, 64, 67, 0.3), 0px 1px 3px 1px rgba(60, 64, 67, 0.15);\n",
              "      fill: #174EA6;\n",
              "    }\n",
              "\n",
              "    [theme=dark] .colab-df-convert {\n",
              "      background-color: #3B4455;\n",
              "      fill: #D2E3FC;\n",
              "    }\n",
              "\n",
              "    [theme=dark] .colab-df-convert:hover {\n",
              "      background-color: #434B5C;\n",
              "      box-shadow: 0px 1px 3px 1px rgba(0, 0, 0, 0.15);\n",
              "      filter: drop-shadow(0px 1px 2px rgba(0, 0, 0, 0.3));\n",
              "      fill: #FFFFFF;\n",
              "    }\n",
              "  </style>\n",
              "\n",
              "      <script>\n",
              "        const buttonEl =\n",
              "          document.querySelector('#df-6c34c25c-ef0c-4aa8-bba7-98e06a2956b1 button.colab-df-convert');\n",
              "        buttonEl.style.display =\n",
              "          google.colab.kernel.accessAllowed ? 'block' : 'none';\n",
              "\n",
              "        async function convertToInteractive(key) {\n",
              "          const element = document.querySelector('#df-6c34c25c-ef0c-4aa8-bba7-98e06a2956b1');\n",
              "          const dataTable =\n",
              "            await google.colab.kernel.invokeFunction('convertToInteractive',\n",
              "                                                     [key], {});\n",
              "          if (!dataTable) return;\n",
              "\n",
              "          const docLinkHtml = 'Like what you see? Visit the ' +\n",
              "            '<a target=\"_blank\" href=https://colab.research.google.com/notebooks/data_table.ipynb>data table notebook</a>'\n",
              "            + ' to learn more about interactive tables.';\n",
              "          element.innerHTML = '';\n",
              "          dataTable['output_type'] = 'display_data';\n",
              "          await google.colab.output.renderOutput(dataTable, element);\n",
              "          const docLink = document.createElement('div');\n",
              "          docLink.innerHTML = docLinkHtml;\n",
              "          element.appendChild(docLink);\n",
              "        }\n",
              "      </script>\n",
              "    </div>\n",
              "  </div>\n",
              "  "
            ]
          },
          "metadata": {},
          "execution_count": 10
        }
      ]
    },
    {
      "cell_type": "markdown",
      "source": [
        "## Data Assessment\n",
        "### Visual Assessment\n",
        "\n",
        "#### Quality Issues"
      ],
      "metadata": {
        "id": "q0Ed3XC8EuFa"
      }
    },
    {
      "cell_type": "markdown",
      "source": [
        "$\\bullet$Archive\n",
        "<ol>\n",
        "<li>column \"expanded URLs\", has missing values, duplicates and unnecessary links\n",
        "<li>The column with dog names have missing values\n",
        "<li> text column includes rating, dog names, IG names and URLs\n",
        "</ol>"
      ],
      "metadata": {
        "id": "3zoFkkuLMccG"
      }
    },
    {
      "cell_type": "markdown",
      "source": [
        "$\\bullet$Json txt\n",
        "<ul>\n",
        "<li>Since it has the same tweet_id column like df_1, then the columns could be merged with the df_1"
      ],
      "metadata": {
        "id": "Hn39Ts1_SrDa"
      }
    },
    {
      "cell_type": "markdown",
      "source": [
        "### Structural Issues\n",
        "#### Archive\n",
        "<ol>\n",
        "<li>the columns doggo, floofer, pupper and puppo could be collapsed into a dogtype column.\n",
        "</ol>\n",
        "\n",
        "#### Predictions\n",
        "<ol>\n",
        "<li>P1, P2, P3 columns could be merged into single columns.\n",
        "<li>P1_conf, P2_conf, P3_conf columns could also be merged into single columns. \n",
        "\n"
      ],
      "metadata": {
        "id": "0IBVZgUV2QHG"
      }
    },
    {
      "cell_type": "markdown",
      "source": [
        "### Programatic Assessment"
      ],
      "metadata": {
        "id": "49aWThIxTL4h"
      }
    },
    {
      "cell_type": "markdown",
      "source": [
        "#### 1. Tweet enhanced Data"
      ],
      "metadata": {
        "id": "eHZdtaJzHm_2"
      }
    },
    {
      "cell_type": "code",
      "source": [
        "Archived_Enhanced_df.head(5)"
      ],
      "metadata": {
        "colab": {
          "base_uri": "https://localhost:8080/",
          "height": 635
        },
        "id": "56lxnsMxE1_n",
        "outputId": "7e6594dd-8423-4bf3-9da9-05546f4466f3"
      },
      "execution_count": 11,
      "outputs": [
        {
          "output_type": "execute_result",
          "data": {
            "text/plain": [
              "             tweet_id  in_reply_to_status_id  in_reply_to_user_id  \\\n",
              "0  892420643555336193                    NaN                  NaN   \n",
              "1  892177421306343426                    NaN                  NaN   \n",
              "2  891815181378084864                    NaN                  NaN   \n",
              "3  891689557279858688                    NaN                  NaN   \n",
              "4  891327558926688256                    NaN                  NaN   \n",
              "\n",
              "                   timestamp  \\\n",
              "0  2017-08-01 16:23:56 +0000   \n",
              "1  2017-08-01 00:17:27 +0000   \n",
              "2  2017-07-31 00:18:03 +0000   \n",
              "3  2017-07-30 15:58:51 +0000   \n",
              "4  2017-07-29 16:00:24 +0000   \n",
              "\n",
              "                                              source  \\\n",
              "0  <a href=\"http://twitter.com/download/iphone\" r...   \n",
              "1  <a href=\"http://twitter.com/download/iphone\" r...   \n",
              "2  <a href=\"http://twitter.com/download/iphone\" r...   \n",
              "3  <a href=\"http://twitter.com/download/iphone\" r...   \n",
              "4  <a href=\"http://twitter.com/download/iphone\" r...   \n",
              "\n",
              "                                                text  retweeted_status_id  \\\n",
              "0  This is Phineas. He's a mystical boy. Only eve...                  NaN   \n",
              "1  This is Tilly. She's just checking pup on you....                  NaN   \n",
              "2  This is Archie. He is a rare Norwegian Pouncin...                  NaN   \n",
              "3  This is Darla. She commenced a snooze mid meal...                  NaN   \n",
              "4  This is Franklin. He would like you to stop ca...                  NaN   \n",
              "\n",
              "   retweeted_status_user_id retweeted_status_timestamp  \\\n",
              "0                       NaN                        NaN   \n",
              "1                       NaN                        NaN   \n",
              "2                       NaN                        NaN   \n",
              "3                       NaN                        NaN   \n",
              "4                       NaN                        NaN   \n",
              "\n",
              "                                       expanded_urls  rating_numerator  \\\n",
              "0  https://twitter.com/dog_rates/status/892420643...                13   \n",
              "1  https://twitter.com/dog_rates/status/892177421...                13   \n",
              "2  https://twitter.com/dog_rates/status/891815181...                12   \n",
              "3  https://twitter.com/dog_rates/status/891689557...                13   \n",
              "4  https://twitter.com/dog_rates/status/891327558...                12   \n",
              "\n",
              "   rating_denominator      name doggo floofer pupper puppo  \n",
              "0                  10   Phineas  None    None   None  None  \n",
              "1                  10     Tilly  None    None   None  None  \n",
              "2                  10    Archie  None    None   None  None  \n",
              "3                  10     Darla  None    None   None  None  \n",
              "4                  10  Franklin  None    None   None  None  "
            ],
            "text/html": [
              "\n",
              "  <div id=\"df-7b09180b-424c-455c-b0d4-8e8c6e7fdb1a\">\n",
              "    <div class=\"colab-df-container\">\n",
              "      <div>\n",
              "<style scoped>\n",
              "    .dataframe tbody tr th:only-of-type {\n",
              "        vertical-align: middle;\n",
              "    }\n",
              "\n",
              "    .dataframe tbody tr th {\n",
              "        vertical-align: top;\n",
              "    }\n",
              "\n",
              "    .dataframe thead th {\n",
              "        text-align: right;\n",
              "    }\n",
              "</style>\n",
              "<table border=\"1\" class=\"dataframe\">\n",
              "  <thead>\n",
              "    <tr style=\"text-align: right;\">\n",
              "      <th></th>\n",
              "      <th>tweet_id</th>\n",
              "      <th>in_reply_to_status_id</th>\n",
              "      <th>in_reply_to_user_id</th>\n",
              "      <th>timestamp</th>\n",
              "      <th>source</th>\n",
              "      <th>text</th>\n",
              "      <th>retweeted_status_id</th>\n",
              "      <th>retweeted_status_user_id</th>\n",
              "      <th>retweeted_status_timestamp</th>\n",
              "      <th>expanded_urls</th>\n",
              "      <th>rating_numerator</th>\n",
              "      <th>rating_denominator</th>\n",
              "      <th>name</th>\n",
              "      <th>doggo</th>\n",
              "      <th>floofer</th>\n",
              "      <th>pupper</th>\n",
              "      <th>puppo</th>\n",
              "    </tr>\n",
              "  </thead>\n",
              "  <tbody>\n",
              "    <tr>\n",
              "      <th>0</th>\n",
              "      <td>892420643555336193</td>\n",
              "      <td>NaN</td>\n",
              "      <td>NaN</td>\n",
              "      <td>2017-08-01 16:23:56 +0000</td>\n",
              "      <td>&lt;a href=\"http://twitter.com/download/iphone\" r...</td>\n",
              "      <td>This is Phineas. He's a mystical boy. Only eve...</td>\n",
              "      <td>NaN</td>\n",
              "      <td>NaN</td>\n",
              "      <td>NaN</td>\n",
              "      <td>https://twitter.com/dog_rates/status/892420643...</td>\n",
              "      <td>13</td>\n",
              "      <td>10</td>\n",
              "      <td>Phineas</td>\n",
              "      <td>None</td>\n",
              "      <td>None</td>\n",
              "      <td>None</td>\n",
              "      <td>None</td>\n",
              "    </tr>\n",
              "    <tr>\n",
              "      <th>1</th>\n",
              "      <td>892177421306343426</td>\n",
              "      <td>NaN</td>\n",
              "      <td>NaN</td>\n",
              "      <td>2017-08-01 00:17:27 +0000</td>\n",
              "      <td>&lt;a href=\"http://twitter.com/download/iphone\" r...</td>\n",
              "      <td>This is Tilly. She's just checking pup on you....</td>\n",
              "      <td>NaN</td>\n",
              "      <td>NaN</td>\n",
              "      <td>NaN</td>\n",
              "      <td>https://twitter.com/dog_rates/status/892177421...</td>\n",
              "      <td>13</td>\n",
              "      <td>10</td>\n",
              "      <td>Tilly</td>\n",
              "      <td>None</td>\n",
              "      <td>None</td>\n",
              "      <td>None</td>\n",
              "      <td>None</td>\n",
              "    </tr>\n",
              "    <tr>\n",
              "      <th>2</th>\n",
              "      <td>891815181378084864</td>\n",
              "      <td>NaN</td>\n",
              "      <td>NaN</td>\n",
              "      <td>2017-07-31 00:18:03 +0000</td>\n",
              "      <td>&lt;a href=\"http://twitter.com/download/iphone\" r...</td>\n",
              "      <td>This is Archie. He is a rare Norwegian Pouncin...</td>\n",
              "      <td>NaN</td>\n",
              "      <td>NaN</td>\n",
              "      <td>NaN</td>\n",
              "      <td>https://twitter.com/dog_rates/status/891815181...</td>\n",
              "      <td>12</td>\n",
              "      <td>10</td>\n",
              "      <td>Archie</td>\n",
              "      <td>None</td>\n",
              "      <td>None</td>\n",
              "      <td>None</td>\n",
              "      <td>None</td>\n",
              "    </tr>\n",
              "    <tr>\n",
              "      <th>3</th>\n",
              "      <td>891689557279858688</td>\n",
              "      <td>NaN</td>\n",
              "      <td>NaN</td>\n",
              "      <td>2017-07-30 15:58:51 +0000</td>\n",
              "      <td>&lt;a href=\"http://twitter.com/download/iphone\" r...</td>\n",
              "      <td>This is Darla. She commenced a snooze mid meal...</td>\n",
              "      <td>NaN</td>\n",
              "      <td>NaN</td>\n",
              "      <td>NaN</td>\n",
              "      <td>https://twitter.com/dog_rates/status/891689557...</td>\n",
              "      <td>13</td>\n",
              "      <td>10</td>\n",
              "      <td>Darla</td>\n",
              "      <td>None</td>\n",
              "      <td>None</td>\n",
              "      <td>None</td>\n",
              "      <td>None</td>\n",
              "    </tr>\n",
              "    <tr>\n",
              "      <th>4</th>\n",
              "      <td>891327558926688256</td>\n",
              "      <td>NaN</td>\n",
              "      <td>NaN</td>\n",
              "      <td>2017-07-29 16:00:24 +0000</td>\n",
              "      <td>&lt;a href=\"http://twitter.com/download/iphone\" r...</td>\n",
              "      <td>This is Franklin. He would like you to stop ca...</td>\n",
              "      <td>NaN</td>\n",
              "      <td>NaN</td>\n",
              "      <td>NaN</td>\n",
              "      <td>https://twitter.com/dog_rates/status/891327558...</td>\n",
              "      <td>12</td>\n",
              "      <td>10</td>\n",
              "      <td>Franklin</td>\n",
              "      <td>None</td>\n",
              "      <td>None</td>\n",
              "      <td>None</td>\n",
              "      <td>None</td>\n",
              "    </tr>\n",
              "  </tbody>\n",
              "</table>\n",
              "</div>\n",
              "      <button class=\"colab-df-convert\" onclick=\"convertToInteractive('df-7b09180b-424c-455c-b0d4-8e8c6e7fdb1a')\"\n",
              "              title=\"Convert this dataframe to an interactive table.\"\n",
              "              style=\"display:none;\">\n",
              "        \n",
              "  <svg xmlns=\"http://www.w3.org/2000/svg\" height=\"24px\"viewBox=\"0 0 24 24\"\n",
              "       width=\"24px\">\n",
              "    <path d=\"M0 0h24v24H0V0z\" fill=\"none\"/>\n",
              "    <path d=\"M18.56 5.44l.94 2.06.94-2.06 2.06-.94-2.06-.94-.94-2.06-.94 2.06-2.06.94zm-11 1L8.5 8.5l.94-2.06 2.06-.94-2.06-.94L8.5 2.5l-.94 2.06-2.06.94zm10 10l.94 2.06.94-2.06 2.06-.94-2.06-.94-.94-2.06-.94 2.06-2.06.94z\"/><path d=\"M17.41 7.96l-1.37-1.37c-.4-.4-.92-.59-1.43-.59-.52 0-1.04.2-1.43.59L10.3 9.45l-7.72 7.72c-.78.78-.78 2.05 0 2.83L4 21.41c.39.39.9.59 1.41.59.51 0 1.02-.2 1.41-.59l7.78-7.78 2.81-2.81c.8-.78.8-2.07 0-2.86zM5.41 20L4 18.59l7.72-7.72 1.47 1.35L5.41 20z\"/>\n",
              "  </svg>\n",
              "      </button>\n",
              "      \n",
              "  <style>\n",
              "    .colab-df-container {\n",
              "      display:flex;\n",
              "      flex-wrap:wrap;\n",
              "      gap: 12px;\n",
              "    }\n",
              "\n",
              "    .colab-df-convert {\n",
              "      background-color: #E8F0FE;\n",
              "      border: none;\n",
              "      border-radius: 50%;\n",
              "      cursor: pointer;\n",
              "      display: none;\n",
              "      fill: #1967D2;\n",
              "      height: 32px;\n",
              "      padding: 0 0 0 0;\n",
              "      width: 32px;\n",
              "    }\n",
              "\n",
              "    .colab-df-convert:hover {\n",
              "      background-color: #E2EBFA;\n",
              "      box-shadow: 0px 1px 2px rgba(60, 64, 67, 0.3), 0px 1px 3px 1px rgba(60, 64, 67, 0.15);\n",
              "      fill: #174EA6;\n",
              "    }\n",
              "\n",
              "    [theme=dark] .colab-df-convert {\n",
              "      background-color: #3B4455;\n",
              "      fill: #D2E3FC;\n",
              "    }\n",
              "\n",
              "    [theme=dark] .colab-df-convert:hover {\n",
              "      background-color: #434B5C;\n",
              "      box-shadow: 0px 1px 3px 1px rgba(0, 0, 0, 0.15);\n",
              "      filter: drop-shadow(0px 1px 2px rgba(0, 0, 0, 0.3));\n",
              "      fill: #FFFFFF;\n",
              "    }\n",
              "  </style>\n",
              "\n",
              "      <script>\n",
              "        const buttonEl =\n",
              "          document.querySelector('#df-7b09180b-424c-455c-b0d4-8e8c6e7fdb1a button.colab-df-convert');\n",
              "        buttonEl.style.display =\n",
              "          google.colab.kernel.accessAllowed ? 'block' : 'none';\n",
              "\n",
              "        async function convertToInteractive(key) {\n",
              "          const element = document.querySelector('#df-7b09180b-424c-455c-b0d4-8e8c6e7fdb1a');\n",
              "          const dataTable =\n",
              "            await google.colab.kernel.invokeFunction('convertToInteractive',\n",
              "                                                     [key], {});\n",
              "          if (!dataTable) return;\n",
              "\n",
              "          const docLinkHtml = 'Like what you see? Visit the ' +\n",
              "            '<a target=\"_blank\" href=https://colab.research.google.com/notebooks/data_table.ipynb>data table notebook</a>'\n",
              "            + ' to learn more about interactive tables.';\n",
              "          element.innerHTML = '';\n",
              "          dataTable['output_type'] = 'display_data';\n",
              "          await google.colab.output.renderOutput(dataTable, element);\n",
              "          const docLink = document.createElement('div');\n",
              "          docLink.innerHTML = docLinkHtml;\n",
              "          element.appendChild(docLink);\n",
              "        }\n",
              "      </script>\n",
              "    </div>\n",
              "  </div>\n",
              "  "
            ]
          },
          "metadata": {},
          "execution_count": 11
        }
      ]
    },
    {
      "cell_type": "code",
      "source": [
        "Archived_Enhanced_df.info()"
      ],
      "metadata": {
        "colab": {
          "base_uri": "https://localhost:8080/"
        },
        "id": "Eg6ZdYjyUDxc",
        "outputId": "fd829ee1-c0c1-4f3b-f475-0e42145d1f24"
      },
      "execution_count": 12,
      "outputs": [
        {
          "output_type": "stream",
          "name": "stdout",
          "text": [
            "<class 'pandas.core.frame.DataFrame'>\n",
            "RangeIndex: 2356 entries, 0 to 2355\n",
            "Data columns (total 17 columns):\n",
            " #   Column                      Non-Null Count  Dtype  \n",
            "---  ------                      --------------  -----  \n",
            " 0   tweet_id                    2356 non-null   int64  \n",
            " 1   in_reply_to_status_id       78 non-null     float64\n",
            " 2   in_reply_to_user_id         78 non-null     float64\n",
            " 3   timestamp                   2356 non-null   object \n",
            " 4   source                      2356 non-null   object \n",
            " 5   text                        2356 non-null   object \n",
            " 6   retweeted_status_id         181 non-null    float64\n",
            " 7   retweeted_status_user_id    181 non-null    float64\n",
            " 8   retweeted_status_timestamp  181 non-null    object \n",
            " 9   expanded_urls               2297 non-null   object \n",
            " 10  rating_numerator            2356 non-null   int64  \n",
            " 11  rating_denominator          2356 non-null   int64  \n",
            " 12  name                        2356 non-null   object \n",
            " 13  doggo                       2356 non-null   object \n",
            " 14  floofer                     2356 non-null   object \n",
            " 15  pupper                      2356 non-null   object \n",
            " 16  puppo                       2356 non-null   object \n",
            "dtypes: float64(4), int64(3), object(10)\n",
            "memory usage: 313.0+ KB\n"
          ]
        }
      ]
    },
    {
      "cell_type": "code",
      "source": [
        "Archived_Enhanced_df.tweet_id.nunique()"
      ],
      "metadata": {
        "colab": {
          "base_uri": "https://localhost:8080/"
        },
        "id": "IhGZb3NOUDu_",
        "outputId": "d0b410e5-54dc-46f6-baab-20bfd2be971f"
      },
      "execution_count": 13,
      "outputs": [
        {
          "output_type": "execute_result",
          "data": {
            "text/plain": [
              "2356"
            ]
          },
          "metadata": {},
          "execution_count": 13
        }
      ]
    },
    {
      "cell_type": "code",
      "source": [
        "Archived_Enhanced_df.isnull().sum()"
      ],
      "metadata": {
        "colab": {
          "base_uri": "https://localhost:8080/"
        },
        "id": "AjbC9GnmUDs3",
        "outputId": "65a514e4-7074-47eb-c0bb-bdb51df3ef0f"
      },
      "execution_count": 14,
      "outputs": [
        {
          "output_type": "execute_result",
          "data": {
            "text/plain": [
              "tweet_id                         0\n",
              "in_reply_to_status_id         2278\n",
              "in_reply_to_user_id           2278\n",
              "timestamp                        0\n",
              "source                           0\n",
              "text                             0\n",
              "retweeted_status_id           2175\n",
              "retweeted_status_user_id      2175\n",
              "retweeted_status_timestamp    2175\n",
              "expanded_urls                   59\n",
              "rating_numerator                 0\n",
              "rating_denominator               0\n",
              "name                             0\n",
              "doggo                            0\n",
              "floofer                          0\n",
              "pupper                           0\n",
              "puppo                            0\n",
              "dtype: int64"
            ]
          },
          "metadata": {},
          "execution_count": 14
        }
      ]
    },
    {
      "cell_type": "code",
      "source": [
        "# count numbers of values in columns doggo, floofer, pupper and puppo\n",
        "(Archived_Enhanced_df.loc[:, 'doggo':'puppo'] != 'None').sum()"
      ],
      "metadata": {
        "colab": {
          "base_uri": "https://localhost:8080/"
        },
        "id": "5Glezrg-UDm2",
        "outputId": "e9312ca6-5ee9-4bac-ae90-06e783fadead"
      },
      "execution_count": 15,
      "outputs": [
        {
          "output_type": "execute_result",
          "data": {
            "text/plain": [
              "doggo       97\n",
              "floofer     10\n",
              "pupper     257\n",
              "puppo       30\n",
              "dtype: int64"
            ]
          },
          "metadata": {},
          "execution_count": 15
        }
      ]
    },
    {
      "cell_type": "code",
      "source": [
        "# check whether all dog names are filled\n",
        "Archived_Enhanced_df.name.value_counts()"
      ],
      "metadata": {
        "colab": {
          "base_uri": "https://localhost:8080/"
        },
        "id": "Kmx5ZzCmUDii",
        "outputId": "bc0fa41d-dafc-42f1-d3e1-7687697204fc"
      },
      "execution_count": 16,
      "outputs": [
        {
          "output_type": "execute_result",
          "data": {
            "text/plain": [
              "None          745\n",
              "a              55\n",
              "Charlie        12\n",
              "Cooper         11\n",
              "Lucy           11\n",
              "             ... \n",
              "Dex             1\n",
              "Ace             1\n",
              "Tayzie          1\n",
              "Grizzie         1\n",
              "Christoper      1\n",
              "Name: name, Length: 957, dtype: int64"
            ]
          },
          "metadata": {},
          "execution_count": 16
        }
      ]
    },
    {
      "cell_type": "code",
      "source": [
        "Archived_Enhanced_df.rating_numerator.describe()"
      ],
      "metadata": {
        "colab": {
          "base_uri": "https://localhost:8080/"
        },
        "id": "yGUPysQrUDf-",
        "outputId": "19219509-3e2f-4f1c-8718-bc34ae1d3f66"
      },
      "execution_count": 17,
      "outputs": [
        {
          "output_type": "execute_result",
          "data": {
            "text/plain": [
              "count    2356.000000\n",
              "mean       13.126486\n",
              "std        45.876648\n",
              "min         0.000000\n",
              "25%        10.000000\n",
              "50%        11.000000\n",
              "75%        12.000000\n",
              "max      1776.000000\n",
              "Name: rating_numerator, dtype: float64"
            ]
          },
          "metadata": {},
          "execution_count": 17
        }
      ]
    },
    {
      "cell_type": "code",
      "source": [
        "Archived_Enhanced_df.rating_denominator.describe()"
      ],
      "metadata": {
        "colab": {
          "base_uri": "https://localhost:8080/"
        },
        "id": "gvW5wKqEVIPP",
        "outputId": "6a3a8c64-bb45-4f0f-bf0f-3c1b8ac8bdd4"
      },
      "execution_count": 18,
      "outputs": [
        {
          "output_type": "execute_result",
          "data": {
            "text/plain": [
              "count    2356.000000\n",
              "mean       10.455433\n",
              "std         6.745237\n",
              "min         0.000000\n",
              "25%        10.000000\n",
              "50%        10.000000\n",
              "75%        10.000000\n",
              "max       170.000000\n",
              "Name: rating_denominator, dtype: float64"
            ]
          },
          "metadata": {},
          "execution_count": 18
        }
      ]
    },
    {
      "cell_type": "code",
      "source": [
        "# check sources\n",
        "Archived_Enhanced_df.source.value_counts()"
      ],
      "metadata": {
        "colab": {
          "base_uri": "https://localhost:8080/"
        },
        "id": "Pp8lzrJzVIJo",
        "outputId": "d8cfe026-c11f-405f-e6e9-56c6d838b412"
      },
      "execution_count": 19,
      "outputs": [
        {
          "output_type": "execute_result",
          "data": {
            "text/plain": [
              "<a href=\"http://twitter.com/download/iphone\" rel=\"nofollow\">Twitter for iPhone</a>     2221\n",
              "<a href=\"http://vine.co\" rel=\"nofollow\">Vine - Make a Scene</a>                          91\n",
              "<a href=\"http://twitter.com\" rel=\"nofollow\">Twitter Web Client</a>                       33\n",
              "<a href=\"https://about.twitter.com/products/tweetdeck\" rel=\"nofollow\">TweetDeck</a>      11\n",
              "Name: source, dtype: int64"
            ]
          },
          "metadata": {},
          "execution_count": 19
        }
      ]
    },
    {
      "cell_type": "markdown",
      "source": [
        "#### 2. Prediction table"
      ],
      "metadata": {
        "id": "FhoA7N1NVhCG"
      }
    },
    {
      "cell_type": "code",
      "source": [
        "Predictions_data_df.head()"
      ],
      "metadata": {
        "colab": {
          "base_uri": "https://localhost:8080/",
          "height": 206
        },
        "id": "QIcWRuqkVIHB",
        "outputId": "d4157a0d-1523-45cf-adf9-ea5303dee596"
      },
      "execution_count": 20,
      "outputs": [
        {
          "output_type": "execute_result",
          "data": {
            "text/plain": [
              "             tweet_id                                          jpg_url  \\\n",
              "0  666020888022790149  https://pbs.twimg.com/media/CT4udn0WwAA0aMy.jpg   \n",
              "1  666029285002620928  https://pbs.twimg.com/media/CT42GRgUYAA5iDo.jpg   \n",
              "2  666033412701032449  https://pbs.twimg.com/media/CT4521TWwAEvMyu.jpg   \n",
              "3  666044226329800704  https://pbs.twimg.com/media/CT5Dr8HUEAA-lEu.jpg   \n",
              "4  666049248165822465  https://pbs.twimg.com/media/CT5IQmsXIAAKY4A.jpg   \n",
              "\n",
              "   img_num                      p1   p1_conf  p1_dog                  p2  \\\n",
              "0        1  Welsh_springer_spaniel  0.465074    True              collie   \n",
              "1        1                 redbone  0.506826    True  miniature_pinscher   \n",
              "2        1         German_shepherd  0.596461    True            malinois   \n",
              "3        1     Rhodesian_ridgeback  0.408143    True             redbone   \n",
              "4        1      miniature_pinscher  0.560311    True          Rottweiler   \n",
              "\n",
              "    p2_conf  p2_dog                   p3   p3_conf  p3_dog  \n",
              "0  0.156665    True    Shetland_sheepdog  0.061428    True  \n",
              "1  0.074192    True  Rhodesian_ridgeback  0.072010    True  \n",
              "2  0.138584    True           bloodhound  0.116197    True  \n",
              "3  0.360687    True   miniature_pinscher  0.222752    True  \n",
              "4  0.243682    True             Doberman  0.154629    True  "
            ],
            "text/html": [
              "\n",
              "  <div id=\"df-4564c760-eb3c-43dd-afb3-5369a9ea2962\">\n",
              "    <div class=\"colab-df-container\">\n",
              "      <div>\n",
              "<style scoped>\n",
              "    .dataframe tbody tr th:only-of-type {\n",
              "        vertical-align: middle;\n",
              "    }\n",
              "\n",
              "    .dataframe tbody tr th {\n",
              "        vertical-align: top;\n",
              "    }\n",
              "\n",
              "    .dataframe thead th {\n",
              "        text-align: right;\n",
              "    }\n",
              "</style>\n",
              "<table border=\"1\" class=\"dataframe\">\n",
              "  <thead>\n",
              "    <tr style=\"text-align: right;\">\n",
              "      <th></th>\n",
              "      <th>tweet_id</th>\n",
              "      <th>jpg_url</th>\n",
              "      <th>img_num</th>\n",
              "      <th>p1</th>\n",
              "      <th>p1_conf</th>\n",
              "      <th>p1_dog</th>\n",
              "      <th>p2</th>\n",
              "      <th>p2_conf</th>\n",
              "      <th>p2_dog</th>\n",
              "      <th>p3</th>\n",
              "      <th>p3_conf</th>\n",
              "      <th>p3_dog</th>\n",
              "    </tr>\n",
              "  </thead>\n",
              "  <tbody>\n",
              "    <tr>\n",
              "      <th>0</th>\n",
              "      <td>666020888022790149</td>\n",
              "      <td>https://pbs.twimg.com/media/CT4udn0WwAA0aMy.jpg</td>\n",
              "      <td>1</td>\n",
              "      <td>Welsh_springer_spaniel</td>\n",
              "      <td>0.465074</td>\n",
              "      <td>True</td>\n",
              "      <td>collie</td>\n",
              "      <td>0.156665</td>\n",
              "      <td>True</td>\n",
              "      <td>Shetland_sheepdog</td>\n",
              "      <td>0.061428</td>\n",
              "      <td>True</td>\n",
              "    </tr>\n",
              "    <tr>\n",
              "      <th>1</th>\n",
              "      <td>666029285002620928</td>\n",
              "      <td>https://pbs.twimg.com/media/CT42GRgUYAA5iDo.jpg</td>\n",
              "      <td>1</td>\n",
              "      <td>redbone</td>\n",
              "      <td>0.506826</td>\n",
              "      <td>True</td>\n",
              "      <td>miniature_pinscher</td>\n",
              "      <td>0.074192</td>\n",
              "      <td>True</td>\n",
              "      <td>Rhodesian_ridgeback</td>\n",
              "      <td>0.072010</td>\n",
              "      <td>True</td>\n",
              "    </tr>\n",
              "    <tr>\n",
              "      <th>2</th>\n",
              "      <td>666033412701032449</td>\n",
              "      <td>https://pbs.twimg.com/media/CT4521TWwAEvMyu.jpg</td>\n",
              "      <td>1</td>\n",
              "      <td>German_shepherd</td>\n",
              "      <td>0.596461</td>\n",
              "      <td>True</td>\n",
              "      <td>malinois</td>\n",
              "      <td>0.138584</td>\n",
              "      <td>True</td>\n",
              "      <td>bloodhound</td>\n",
              "      <td>0.116197</td>\n",
              "      <td>True</td>\n",
              "    </tr>\n",
              "    <tr>\n",
              "      <th>3</th>\n",
              "      <td>666044226329800704</td>\n",
              "      <td>https://pbs.twimg.com/media/CT5Dr8HUEAA-lEu.jpg</td>\n",
              "      <td>1</td>\n",
              "      <td>Rhodesian_ridgeback</td>\n",
              "      <td>0.408143</td>\n",
              "      <td>True</td>\n",
              "      <td>redbone</td>\n",
              "      <td>0.360687</td>\n",
              "      <td>True</td>\n",
              "      <td>miniature_pinscher</td>\n",
              "      <td>0.222752</td>\n",
              "      <td>True</td>\n",
              "    </tr>\n",
              "    <tr>\n",
              "      <th>4</th>\n",
              "      <td>666049248165822465</td>\n",
              "      <td>https://pbs.twimg.com/media/CT5IQmsXIAAKY4A.jpg</td>\n",
              "      <td>1</td>\n",
              "      <td>miniature_pinscher</td>\n",
              "      <td>0.560311</td>\n",
              "      <td>True</td>\n",
              "      <td>Rottweiler</td>\n",
              "      <td>0.243682</td>\n",
              "      <td>True</td>\n",
              "      <td>Doberman</td>\n",
              "      <td>0.154629</td>\n",
              "      <td>True</td>\n",
              "    </tr>\n",
              "  </tbody>\n",
              "</table>\n",
              "</div>\n",
              "      <button class=\"colab-df-convert\" onclick=\"convertToInteractive('df-4564c760-eb3c-43dd-afb3-5369a9ea2962')\"\n",
              "              title=\"Convert this dataframe to an interactive table.\"\n",
              "              style=\"display:none;\">\n",
              "        \n",
              "  <svg xmlns=\"http://www.w3.org/2000/svg\" height=\"24px\"viewBox=\"0 0 24 24\"\n",
              "       width=\"24px\">\n",
              "    <path d=\"M0 0h24v24H0V0z\" fill=\"none\"/>\n",
              "    <path d=\"M18.56 5.44l.94 2.06.94-2.06 2.06-.94-2.06-.94-.94-2.06-.94 2.06-2.06.94zm-11 1L8.5 8.5l.94-2.06 2.06-.94-2.06-.94L8.5 2.5l-.94 2.06-2.06.94zm10 10l.94 2.06.94-2.06 2.06-.94-2.06-.94-.94-2.06-.94 2.06-2.06.94z\"/><path d=\"M17.41 7.96l-1.37-1.37c-.4-.4-.92-.59-1.43-.59-.52 0-1.04.2-1.43.59L10.3 9.45l-7.72 7.72c-.78.78-.78 2.05 0 2.83L4 21.41c.39.39.9.59 1.41.59.51 0 1.02-.2 1.41-.59l7.78-7.78 2.81-2.81c.8-.78.8-2.07 0-2.86zM5.41 20L4 18.59l7.72-7.72 1.47 1.35L5.41 20z\"/>\n",
              "  </svg>\n",
              "      </button>\n",
              "      \n",
              "  <style>\n",
              "    .colab-df-container {\n",
              "      display:flex;\n",
              "      flex-wrap:wrap;\n",
              "      gap: 12px;\n",
              "    }\n",
              "\n",
              "    .colab-df-convert {\n",
              "      background-color: #E8F0FE;\n",
              "      border: none;\n",
              "      border-radius: 50%;\n",
              "      cursor: pointer;\n",
              "      display: none;\n",
              "      fill: #1967D2;\n",
              "      height: 32px;\n",
              "      padding: 0 0 0 0;\n",
              "      width: 32px;\n",
              "    }\n",
              "\n",
              "    .colab-df-convert:hover {\n",
              "      background-color: #E2EBFA;\n",
              "      box-shadow: 0px 1px 2px rgba(60, 64, 67, 0.3), 0px 1px 3px 1px rgba(60, 64, 67, 0.15);\n",
              "      fill: #174EA6;\n",
              "    }\n",
              "\n",
              "    [theme=dark] .colab-df-convert {\n",
              "      background-color: #3B4455;\n",
              "      fill: #D2E3FC;\n",
              "    }\n",
              "\n",
              "    [theme=dark] .colab-df-convert:hover {\n",
              "      background-color: #434B5C;\n",
              "      box-shadow: 0px 1px 3px 1px rgba(0, 0, 0, 0.15);\n",
              "      filter: drop-shadow(0px 1px 2px rgba(0, 0, 0, 0.3));\n",
              "      fill: #FFFFFF;\n",
              "    }\n",
              "  </style>\n",
              "\n",
              "      <script>\n",
              "        const buttonEl =\n",
              "          document.querySelector('#df-4564c760-eb3c-43dd-afb3-5369a9ea2962 button.colab-df-convert');\n",
              "        buttonEl.style.display =\n",
              "          google.colab.kernel.accessAllowed ? 'block' : 'none';\n",
              "\n",
              "        async function convertToInteractive(key) {\n",
              "          const element = document.querySelector('#df-4564c760-eb3c-43dd-afb3-5369a9ea2962');\n",
              "          const dataTable =\n",
              "            await google.colab.kernel.invokeFunction('convertToInteractive',\n",
              "                                                     [key], {});\n",
              "          if (!dataTable) return;\n",
              "\n",
              "          const docLinkHtml = 'Like what you see? Visit the ' +\n",
              "            '<a target=\"_blank\" href=https://colab.research.google.com/notebooks/data_table.ipynb>data table notebook</a>'\n",
              "            + ' to learn more about interactive tables.';\n",
              "          element.innerHTML = '';\n",
              "          dataTable['output_type'] = 'display_data';\n",
              "          await google.colab.output.renderOutput(dataTable, element);\n",
              "          const docLink = document.createElement('div');\n",
              "          docLink.innerHTML = docLinkHtml;\n",
              "          element.appendChild(docLink);\n",
              "        }\n",
              "      </script>\n",
              "    </div>\n",
              "  </div>\n",
              "  "
            ]
          },
          "metadata": {},
          "execution_count": 20
        }
      ]
    },
    {
      "cell_type": "code",
      "source": [
        "Predictions_data_df.info()"
      ],
      "metadata": {
        "colab": {
          "base_uri": "https://localhost:8080/"
        },
        "id": "dpDDqJTrVIEK",
        "outputId": "54f12fbf-5978-4962-91bb-a1140d749d44"
      },
      "execution_count": 21,
      "outputs": [
        {
          "output_type": "stream",
          "name": "stdout",
          "text": [
            "<class 'pandas.core.frame.DataFrame'>\n",
            "RangeIndex: 2075 entries, 0 to 2074\n",
            "Data columns (total 12 columns):\n",
            " #   Column    Non-Null Count  Dtype  \n",
            "---  ------    --------------  -----  \n",
            " 0   tweet_id  2075 non-null   int64  \n",
            " 1   jpg_url   2075 non-null   object \n",
            " 2   img_num   2075 non-null   int64  \n",
            " 3   p1        2075 non-null   object \n",
            " 4   p1_conf   2075 non-null   float64\n",
            " 5   p1_dog    2075 non-null   bool   \n",
            " 6   p2        2075 non-null   object \n",
            " 7   p2_conf   2075 non-null   float64\n",
            " 8   p2_dog    2075 non-null   bool   \n",
            " 9   p3        2075 non-null   object \n",
            " 10  p3_conf   2075 non-null   float64\n",
            " 11  p3_dog    2075 non-null   bool   \n",
            "dtypes: bool(3), float64(3), int64(2), object(4)\n",
            "memory usage: 152.1+ KB\n"
          ]
        }
      ]
    },
    {
      "cell_type": "code",
      "source": [
        "# count null values\n",
        "Predictions_data_df.isnull().sum()"
      ],
      "metadata": {
        "colab": {
          "base_uri": "https://localhost:8080/"
        },
        "id": "AHw0Uqt3V91Q",
        "outputId": "cfbdfc93-4229-4f23-92f9-57dda7cc0f09"
      },
      "execution_count": 22,
      "outputs": [
        {
          "output_type": "execute_result",
          "data": {
            "text/plain": [
              "tweet_id    0\n",
              "jpg_url     0\n",
              "img_num     0\n",
              "p1          0\n",
              "p1_conf     0\n",
              "p1_dog      0\n",
              "p2          0\n",
              "p2_conf     0\n",
              "p2_dog      0\n",
              "p3          0\n",
              "p3_conf     0\n",
              "p3_dog      0\n",
              "dtype: int64"
            ]
          },
          "metadata": {},
          "execution_count": 22
        }
      ]
    },
    {
      "cell_type": "markdown",
      "source": [
        "#### 3.Twitter api data"
      ],
      "metadata": {
        "id": "IDVZfqeTHcHg"
      }
    },
    {
      "cell_type": "code",
      "source": [
        "Twitter_api_df.sample(15)"
      ],
      "metadata": {
        "id": "37RF7DwYV9y9",
        "colab": {
          "base_uri": "https://localhost:8080/",
          "height": 520
        },
        "outputId": "fdac9ce5-2e58-4d97-c664-c1cee36ed4e7"
      },
      "execution_count": 23,
      "outputs": [
        {
          "output_type": "execute_result",
          "data": {
            "text/plain": [
              "      Unnamed: 0            tweet_id  favorites  retweets  user_followers  \\\n",
              "1667        1667  681261549936340994       1336       237         9272028   \n",
              "83            83  876484053909872640      16573      2004         9272009   \n",
              "471          471  813910438903693312       8844      1735         9272008   \n",
              "2283        2283  666776908487630848        305       150         9272036   \n",
              "1943        1943  673240798075449344       1278       618         9272036   \n",
              "1907        1907  673956914389192708       1752       840         9272036   \n",
              "421          421  819952236453363712       5018      1083         9272008   \n",
              "229          229  846514051647705089      41265     10413         9272009   \n",
              "524          524  805958939288408065          0      5023         9272008   \n",
              "1259        1259  708356463048204288       3310      1202         9272027   \n",
              "1113        1113  727644517743104000       5398      1594         9272027   \n",
              "738          738  778396591732486144          0     11354         9272008   \n",
              "455          455  816336735214911488       8173      1805         9272008   \n",
              "386          386  824025158776213504       4580       558         9272008   \n",
              "120          120  868622495443632128      23646      4479         9272009   \n",
              "\n",
              "      user_favourites                  date_time  \n",
              "1667           146769  2015-12-27 23:53:05+00:00  \n",
              "83             146769  2017-06-18 16:57:37+00:00  \n",
              "471            146769  2016-12-28 00:52:25+00:00  \n",
              "2283           146769  2015-11-18 00:36:17+00:00  \n",
              "1943           146769  2015-12-05 20:41:29+00:00  \n",
              "1907           146769  2015-12-07 20:07:04+00:00  \n",
              "421            146769  2017-01-13 17:00:21+00:00  \n",
              "229            146769  2017-03-28 00:07:32+00:00  \n",
              "524            146769  2016-12-06 02:15:59+00:00  \n",
              "1259           146769  2016-03-11 18:18:36+00:00  \n",
              "1113           146769  2016-05-03 23:42:26+00:00  \n",
              "738            146769  2016-09-21 00:53:04+00:00  \n",
              "455            146769  2017-01-03 17:33:39+00:00  \n",
              "386            146769  2017-01-24 22:44:42+00:00  \n",
              "120            146769  2017-05-28 00:18:35+00:00  "
            ],
            "text/html": [
              "\n",
              "  <div id=\"df-5ae30729-49b2-4873-9c34-138d0b65620a\">\n",
              "    <div class=\"colab-df-container\">\n",
              "      <div>\n",
              "<style scoped>\n",
              "    .dataframe tbody tr th:only-of-type {\n",
              "        vertical-align: middle;\n",
              "    }\n",
              "\n",
              "    .dataframe tbody tr th {\n",
              "        vertical-align: top;\n",
              "    }\n",
              "\n",
              "    .dataframe thead th {\n",
              "        text-align: right;\n",
              "    }\n",
              "</style>\n",
              "<table border=\"1\" class=\"dataframe\">\n",
              "  <thead>\n",
              "    <tr style=\"text-align: right;\">\n",
              "      <th></th>\n",
              "      <th>Unnamed: 0</th>\n",
              "      <th>tweet_id</th>\n",
              "      <th>favorites</th>\n",
              "      <th>retweets</th>\n",
              "      <th>user_followers</th>\n",
              "      <th>user_favourites</th>\n",
              "      <th>date_time</th>\n",
              "    </tr>\n",
              "  </thead>\n",
              "  <tbody>\n",
              "    <tr>\n",
              "      <th>1667</th>\n",
              "      <td>1667</td>\n",
              "      <td>681261549936340994</td>\n",
              "      <td>1336</td>\n",
              "      <td>237</td>\n",
              "      <td>9272028</td>\n",
              "      <td>146769</td>\n",
              "      <td>2015-12-27 23:53:05+00:00</td>\n",
              "    </tr>\n",
              "    <tr>\n",
              "      <th>83</th>\n",
              "      <td>83</td>\n",
              "      <td>876484053909872640</td>\n",
              "      <td>16573</td>\n",
              "      <td>2004</td>\n",
              "      <td>9272009</td>\n",
              "      <td>146769</td>\n",
              "      <td>2017-06-18 16:57:37+00:00</td>\n",
              "    </tr>\n",
              "    <tr>\n",
              "      <th>471</th>\n",
              "      <td>471</td>\n",
              "      <td>813910438903693312</td>\n",
              "      <td>8844</td>\n",
              "      <td>1735</td>\n",
              "      <td>9272008</td>\n",
              "      <td>146769</td>\n",
              "      <td>2016-12-28 00:52:25+00:00</td>\n",
              "    </tr>\n",
              "    <tr>\n",
              "      <th>2283</th>\n",
              "      <td>2283</td>\n",
              "      <td>666776908487630848</td>\n",
              "      <td>305</td>\n",
              "      <td>150</td>\n",
              "      <td>9272036</td>\n",
              "      <td>146769</td>\n",
              "      <td>2015-11-18 00:36:17+00:00</td>\n",
              "    </tr>\n",
              "    <tr>\n",
              "      <th>1943</th>\n",
              "      <td>1943</td>\n",
              "      <td>673240798075449344</td>\n",
              "      <td>1278</td>\n",
              "      <td>618</td>\n",
              "      <td>9272036</td>\n",
              "      <td>146769</td>\n",
              "      <td>2015-12-05 20:41:29+00:00</td>\n",
              "    </tr>\n",
              "    <tr>\n",
              "      <th>1907</th>\n",
              "      <td>1907</td>\n",
              "      <td>673956914389192708</td>\n",
              "      <td>1752</td>\n",
              "      <td>840</td>\n",
              "      <td>9272036</td>\n",
              "      <td>146769</td>\n",
              "      <td>2015-12-07 20:07:04+00:00</td>\n",
              "    </tr>\n",
              "    <tr>\n",
              "      <th>421</th>\n",
              "      <td>421</td>\n",
              "      <td>819952236453363712</td>\n",
              "      <td>5018</td>\n",
              "      <td>1083</td>\n",
              "      <td>9272008</td>\n",
              "      <td>146769</td>\n",
              "      <td>2017-01-13 17:00:21+00:00</td>\n",
              "    </tr>\n",
              "    <tr>\n",
              "      <th>229</th>\n",
              "      <td>229</td>\n",
              "      <td>846514051647705089</td>\n",
              "      <td>41265</td>\n",
              "      <td>10413</td>\n",
              "      <td>9272009</td>\n",
              "      <td>146769</td>\n",
              "      <td>2017-03-28 00:07:32+00:00</td>\n",
              "    </tr>\n",
              "    <tr>\n",
              "      <th>524</th>\n",
              "      <td>524</td>\n",
              "      <td>805958939288408065</td>\n",
              "      <td>0</td>\n",
              "      <td>5023</td>\n",
              "      <td>9272008</td>\n",
              "      <td>146769</td>\n",
              "      <td>2016-12-06 02:15:59+00:00</td>\n",
              "    </tr>\n",
              "    <tr>\n",
              "      <th>1259</th>\n",
              "      <td>1259</td>\n",
              "      <td>708356463048204288</td>\n",
              "      <td>3310</td>\n",
              "      <td>1202</td>\n",
              "      <td>9272027</td>\n",
              "      <td>146769</td>\n",
              "      <td>2016-03-11 18:18:36+00:00</td>\n",
              "    </tr>\n",
              "    <tr>\n",
              "      <th>1113</th>\n",
              "      <td>1113</td>\n",
              "      <td>727644517743104000</td>\n",
              "      <td>5398</td>\n",
              "      <td>1594</td>\n",
              "      <td>9272027</td>\n",
              "      <td>146769</td>\n",
              "      <td>2016-05-03 23:42:26+00:00</td>\n",
              "    </tr>\n",
              "    <tr>\n",
              "      <th>738</th>\n",
              "      <td>738</td>\n",
              "      <td>778396591732486144</td>\n",
              "      <td>0</td>\n",
              "      <td>11354</td>\n",
              "      <td>9272008</td>\n",
              "      <td>146769</td>\n",
              "      <td>2016-09-21 00:53:04+00:00</td>\n",
              "    </tr>\n",
              "    <tr>\n",
              "      <th>455</th>\n",
              "      <td>455</td>\n",
              "      <td>816336735214911488</td>\n",
              "      <td>8173</td>\n",
              "      <td>1805</td>\n",
              "      <td>9272008</td>\n",
              "      <td>146769</td>\n",
              "      <td>2017-01-03 17:33:39+00:00</td>\n",
              "    </tr>\n",
              "    <tr>\n",
              "      <th>386</th>\n",
              "      <td>386</td>\n",
              "      <td>824025158776213504</td>\n",
              "      <td>4580</td>\n",
              "      <td>558</td>\n",
              "      <td>9272008</td>\n",
              "      <td>146769</td>\n",
              "      <td>2017-01-24 22:44:42+00:00</td>\n",
              "    </tr>\n",
              "    <tr>\n",
              "      <th>120</th>\n",
              "      <td>120</td>\n",
              "      <td>868622495443632128</td>\n",
              "      <td>23646</td>\n",
              "      <td>4479</td>\n",
              "      <td>9272009</td>\n",
              "      <td>146769</td>\n",
              "      <td>2017-05-28 00:18:35+00:00</td>\n",
              "    </tr>\n",
              "  </tbody>\n",
              "</table>\n",
              "</div>\n",
              "      <button class=\"colab-df-convert\" onclick=\"convertToInteractive('df-5ae30729-49b2-4873-9c34-138d0b65620a')\"\n",
              "              title=\"Convert this dataframe to an interactive table.\"\n",
              "              style=\"display:none;\">\n",
              "        \n",
              "  <svg xmlns=\"http://www.w3.org/2000/svg\" height=\"24px\"viewBox=\"0 0 24 24\"\n",
              "       width=\"24px\">\n",
              "    <path d=\"M0 0h24v24H0V0z\" fill=\"none\"/>\n",
              "    <path d=\"M18.56 5.44l.94 2.06.94-2.06 2.06-.94-2.06-.94-.94-2.06-.94 2.06-2.06.94zm-11 1L8.5 8.5l.94-2.06 2.06-.94-2.06-.94L8.5 2.5l-.94 2.06-2.06.94zm10 10l.94 2.06.94-2.06 2.06-.94-2.06-.94-.94-2.06-.94 2.06-2.06.94z\"/><path d=\"M17.41 7.96l-1.37-1.37c-.4-.4-.92-.59-1.43-.59-.52 0-1.04.2-1.43.59L10.3 9.45l-7.72 7.72c-.78.78-.78 2.05 0 2.83L4 21.41c.39.39.9.59 1.41.59.51 0 1.02-.2 1.41-.59l7.78-7.78 2.81-2.81c.8-.78.8-2.07 0-2.86zM5.41 20L4 18.59l7.72-7.72 1.47 1.35L5.41 20z\"/>\n",
              "  </svg>\n",
              "      </button>\n",
              "      \n",
              "  <style>\n",
              "    .colab-df-container {\n",
              "      display:flex;\n",
              "      flex-wrap:wrap;\n",
              "      gap: 12px;\n",
              "    }\n",
              "\n",
              "    .colab-df-convert {\n",
              "      background-color: #E8F0FE;\n",
              "      border: none;\n",
              "      border-radius: 50%;\n",
              "      cursor: pointer;\n",
              "      display: none;\n",
              "      fill: #1967D2;\n",
              "      height: 32px;\n",
              "      padding: 0 0 0 0;\n",
              "      width: 32px;\n",
              "    }\n",
              "\n",
              "    .colab-df-convert:hover {\n",
              "      background-color: #E2EBFA;\n",
              "      box-shadow: 0px 1px 2px rgba(60, 64, 67, 0.3), 0px 1px 3px 1px rgba(60, 64, 67, 0.15);\n",
              "      fill: #174EA6;\n",
              "    }\n",
              "\n",
              "    [theme=dark] .colab-df-convert {\n",
              "      background-color: #3B4455;\n",
              "      fill: #D2E3FC;\n",
              "    }\n",
              "\n",
              "    [theme=dark] .colab-df-convert:hover {\n",
              "      background-color: #434B5C;\n",
              "      box-shadow: 0px 1px 3px 1px rgba(0, 0, 0, 0.15);\n",
              "      filter: drop-shadow(0px 1px 2px rgba(0, 0, 0, 0.3));\n",
              "      fill: #FFFFFF;\n",
              "    }\n",
              "  </style>\n",
              "\n",
              "      <script>\n",
              "        const buttonEl =\n",
              "          document.querySelector('#df-5ae30729-49b2-4873-9c34-138d0b65620a button.colab-df-convert');\n",
              "        buttonEl.style.display =\n",
              "          google.colab.kernel.accessAllowed ? 'block' : 'none';\n",
              "\n",
              "        async function convertToInteractive(key) {\n",
              "          const element = document.querySelector('#df-5ae30729-49b2-4873-9c34-138d0b65620a');\n",
              "          const dataTable =\n",
              "            await google.colab.kernel.invokeFunction('convertToInteractive',\n",
              "                                                     [key], {});\n",
              "          if (!dataTable) return;\n",
              "\n",
              "          const docLinkHtml = 'Like what you see? Visit the ' +\n",
              "            '<a target=\"_blank\" href=https://colab.research.google.com/notebooks/data_table.ipynb>data table notebook</a>'\n",
              "            + ' to learn more about interactive tables.';\n",
              "          element.innerHTML = '';\n",
              "          dataTable['output_type'] = 'display_data';\n",
              "          await google.colab.output.renderOutput(dataTable, element);\n",
              "          const docLink = document.createElement('div');\n",
              "          docLink.innerHTML = docLinkHtml;\n",
              "          element.appendChild(docLink);\n",
              "        }\n",
              "      </script>\n",
              "    </div>\n",
              "  </div>\n",
              "  "
            ]
          },
          "metadata": {},
          "execution_count": 23
        }
      ]
    },
    {
      "cell_type": "code",
      "source": [
        "Twitter_api_df.info()"
      ],
      "metadata": {
        "id": "cxQhre3NV9wN",
        "colab": {
          "base_uri": "https://localhost:8080/"
        },
        "outputId": "031837ca-7884-4f08-e07d-b88e59455a2f"
      },
      "execution_count": 24,
      "outputs": [
        {
          "output_type": "stream",
          "name": "stdout",
          "text": [
            "<class 'pandas.core.frame.DataFrame'>\n",
            "RangeIndex: 2327 entries, 0 to 2326\n",
            "Data columns (total 7 columns):\n",
            " #   Column           Non-Null Count  Dtype \n",
            "---  ------           --------------  ----- \n",
            " 0   Unnamed: 0       2327 non-null   int64 \n",
            " 1   tweet_id         2327 non-null   int64 \n",
            " 2   favorites        2327 non-null   int64 \n",
            " 3   retweets         2327 non-null   int64 \n",
            " 4   user_followers   2327 non-null   int64 \n",
            " 5   user_favourites  2327 non-null   int64 \n",
            " 6   date_time        2327 non-null   object\n",
            "dtypes: int64(6), object(1)\n",
            "memory usage: 127.4+ KB\n"
          ]
        }
      ]
    },
    {
      "cell_type": "code",
      "source": [
        "Twitter_api_df[Twitter_api_df.duplicated(['user_favourites'], keep=False)]"
      ],
      "metadata": {
        "id": "fqpnHbShV9q-",
        "colab": {
          "base_uri": "https://localhost:8080/",
          "height": 424
        },
        "outputId": "ee62fd4b-5b4e-4233-fc8f-58975437f54f"
      },
      "execution_count": 25,
      "outputs": [
        {
          "output_type": "execute_result",
          "data": {
            "text/plain": [
              "      Unnamed: 0            tweet_id  favorites  retweets  user_followers  \\\n",
              "0              0  892420643555336193      33824      7018         9272009   \n",
              "1              1  892177421306343426      29340      5303         9272009   \n",
              "2              2  891815181378084864      22067      3486         9272009   \n",
              "3              3  891689557279858688      36932      7223         9272009   \n",
              "4              4  891327558926688256      35308      7770         9272009   \n",
              "...          ...                 ...        ...       ...             ...   \n",
              "2322        2322  666049248165822465         89        37         9272036   \n",
              "2323        2323  666044226329800704        246       115         9271617   \n",
              "2324        2324  666033412701032449         99        36         9272036   \n",
              "2325        2325  666029285002620928        112        39         9272036   \n",
              "2326        2326  666020888022790149       2292       423         9272036   \n",
              "\n",
              "      user_favourites                  date_time  \n",
              "0              146769  2017-08-01 16:23:56+00:00  \n",
              "1              146769  2017-08-01 00:17:27+00:00  \n",
              "2              146769  2017-07-31 00:18:03+00:00  \n",
              "3              146769  2017-07-30 15:58:51+00:00  \n",
              "4              146769  2017-07-29 16:00:24+00:00  \n",
              "...               ...                        ...  \n",
              "2322           146769  2015-11-16 00:24:50+00:00  \n",
              "2323           146768  2015-11-16 00:04:52+00:00  \n",
              "2324           146769  2015-11-15 23:21:54+00:00  \n",
              "2325           146769  2015-11-15 23:05:30+00:00  \n",
              "2326           146769  2015-11-15 22:32:08+00:00  \n",
              "\n",
              "[2327 rows x 7 columns]"
            ],
            "text/html": [
              "\n",
              "  <div id=\"df-f2a1ec90-f8cf-400d-9cea-ef8024e74a36\">\n",
              "    <div class=\"colab-df-container\">\n",
              "      <div>\n",
              "<style scoped>\n",
              "    .dataframe tbody tr th:only-of-type {\n",
              "        vertical-align: middle;\n",
              "    }\n",
              "\n",
              "    .dataframe tbody tr th {\n",
              "        vertical-align: top;\n",
              "    }\n",
              "\n",
              "    .dataframe thead th {\n",
              "        text-align: right;\n",
              "    }\n",
              "</style>\n",
              "<table border=\"1\" class=\"dataframe\">\n",
              "  <thead>\n",
              "    <tr style=\"text-align: right;\">\n",
              "      <th></th>\n",
              "      <th>Unnamed: 0</th>\n",
              "      <th>tweet_id</th>\n",
              "      <th>favorites</th>\n",
              "      <th>retweets</th>\n",
              "      <th>user_followers</th>\n",
              "      <th>user_favourites</th>\n",
              "      <th>date_time</th>\n",
              "    </tr>\n",
              "  </thead>\n",
              "  <tbody>\n",
              "    <tr>\n",
              "      <th>0</th>\n",
              "      <td>0</td>\n",
              "      <td>892420643555336193</td>\n",
              "      <td>33824</td>\n",
              "      <td>7018</td>\n",
              "      <td>9272009</td>\n",
              "      <td>146769</td>\n",
              "      <td>2017-08-01 16:23:56+00:00</td>\n",
              "    </tr>\n",
              "    <tr>\n",
              "      <th>1</th>\n",
              "      <td>1</td>\n",
              "      <td>892177421306343426</td>\n",
              "      <td>29340</td>\n",
              "      <td>5303</td>\n",
              "      <td>9272009</td>\n",
              "      <td>146769</td>\n",
              "      <td>2017-08-01 00:17:27+00:00</td>\n",
              "    </tr>\n",
              "    <tr>\n",
              "      <th>2</th>\n",
              "      <td>2</td>\n",
              "      <td>891815181378084864</td>\n",
              "      <td>22067</td>\n",
              "      <td>3486</td>\n",
              "      <td>9272009</td>\n",
              "      <td>146769</td>\n",
              "      <td>2017-07-31 00:18:03+00:00</td>\n",
              "    </tr>\n",
              "    <tr>\n",
              "      <th>3</th>\n",
              "      <td>3</td>\n",
              "      <td>891689557279858688</td>\n",
              "      <td>36932</td>\n",
              "      <td>7223</td>\n",
              "      <td>9272009</td>\n",
              "      <td>146769</td>\n",
              "      <td>2017-07-30 15:58:51+00:00</td>\n",
              "    </tr>\n",
              "    <tr>\n",
              "      <th>4</th>\n",
              "      <td>4</td>\n",
              "      <td>891327558926688256</td>\n",
              "      <td>35308</td>\n",
              "      <td>7770</td>\n",
              "      <td>9272009</td>\n",
              "      <td>146769</td>\n",
              "      <td>2017-07-29 16:00:24+00:00</td>\n",
              "    </tr>\n",
              "    <tr>\n",
              "      <th>...</th>\n",
              "      <td>...</td>\n",
              "      <td>...</td>\n",
              "      <td>...</td>\n",
              "      <td>...</td>\n",
              "      <td>...</td>\n",
              "      <td>...</td>\n",
              "      <td>...</td>\n",
              "    </tr>\n",
              "    <tr>\n",
              "      <th>2322</th>\n",
              "      <td>2322</td>\n",
              "      <td>666049248165822465</td>\n",
              "      <td>89</td>\n",
              "      <td>37</td>\n",
              "      <td>9272036</td>\n",
              "      <td>146769</td>\n",
              "      <td>2015-11-16 00:24:50+00:00</td>\n",
              "    </tr>\n",
              "    <tr>\n",
              "      <th>2323</th>\n",
              "      <td>2323</td>\n",
              "      <td>666044226329800704</td>\n",
              "      <td>246</td>\n",
              "      <td>115</td>\n",
              "      <td>9271617</td>\n",
              "      <td>146768</td>\n",
              "      <td>2015-11-16 00:04:52+00:00</td>\n",
              "    </tr>\n",
              "    <tr>\n",
              "      <th>2324</th>\n",
              "      <td>2324</td>\n",
              "      <td>666033412701032449</td>\n",
              "      <td>99</td>\n",
              "      <td>36</td>\n",
              "      <td>9272036</td>\n",
              "      <td>146769</td>\n",
              "      <td>2015-11-15 23:21:54+00:00</td>\n",
              "    </tr>\n",
              "    <tr>\n",
              "      <th>2325</th>\n",
              "      <td>2325</td>\n",
              "      <td>666029285002620928</td>\n",
              "      <td>112</td>\n",
              "      <td>39</td>\n",
              "      <td>9272036</td>\n",
              "      <td>146769</td>\n",
              "      <td>2015-11-15 23:05:30+00:00</td>\n",
              "    </tr>\n",
              "    <tr>\n",
              "      <th>2326</th>\n",
              "      <td>2326</td>\n",
              "      <td>666020888022790149</td>\n",
              "      <td>2292</td>\n",
              "      <td>423</td>\n",
              "      <td>9272036</td>\n",
              "      <td>146769</td>\n",
              "      <td>2015-11-15 22:32:08+00:00</td>\n",
              "    </tr>\n",
              "  </tbody>\n",
              "</table>\n",
              "<p>2327 rows × 7 columns</p>\n",
              "</div>\n",
              "      <button class=\"colab-df-convert\" onclick=\"convertToInteractive('df-f2a1ec90-f8cf-400d-9cea-ef8024e74a36')\"\n",
              "              title=\"Convert this dataframe to an interactive table.\"\n",
              "              style=\"display:none;\">\n",
              "        \n",
              "  <svg xmlns=\"http://www.w3.org/2000/svg\" height=\"24px\"viewBox=\"0 0 24 24\"\n",
              "       width=\"24px\">\n",
              "    <path d=\"M0 0h24v24H0V0z\" fill=\"none\"/>\n",
              "    <path d=\"M18.56 5.44l.94 2.06.94-2.06 2.06-.94-2.06-.94-.94-2.06-.94 2.06-2.06.94zm-11 1L8.5 8.5l.94-2.06 2.06-.94-2.06-.94L8.5 2.5l-.94 2.06-2.06.94zm10 10l.94 2.06.94-2.06 2.06-.94-2.06-.94-.94-2.06-.94 2.06-2.06.94z\"/><path d=\"M17.41 7.96l-1.37-1.37c-.4-.4-.92-.59-1.43-.59-.52 0-1.04.2-1.43.59L10.3 9.45l-7.72 7.72c-.78.78-.78 2.05 0 2.83L4 21.41c.39.39.9.59 1.41.59.51 0 1.02-.2 1.41-.59l7.78-7.78 2.81-2.81c.8-.78.8-2.07 0-2.86zM5.41 20L4 18.59l7.72-7.72 1.47 1.35L5.41 20z\"/>\n",
              "  </svg>\n",
              "      </button>\n",
              "      \n",
              "  <style>\n",
              "    .colab-df-container {\n",
              "      display:flex;\n",
              "      flex-wrap:wrap;\n",
              "      gap: 12px;\n",
              "    }\n",
              "\n",
              "    .colab-df-convert {\n",
              "      background-color: #E8F0FE;\n",
              "      border: none;\n",
              "      border-radius: 50%;\n",
              "      cursor: pointer;\n",
              "      display: none;\n",
              "      fill: #1967D2;\n",
              "      height: 32px;\n",
              "      padding: 0 0 0 0;\n",
              "      width: 32px;\n",
              "    }\n",
              "\n",
              "    .colab-df-convert:hover {\n",
              "      background-color: #E2EBFA;\n",
              "      box-shadow: 0px 1px 2px rgba(60, 64, 67, 0.3), 0px 1px 3px 1px rgba(60, 64, 67, 0.15);\n",
              "      fill: #174EA6;\n",
              "    }\n",
              "\n",
              "    [theme=dark] .colab-df-convert {\n",
              "      background-color: #3B4455;\n",
              "      fill: #D2E3FC;\n",
              "    }\n",
              "\n",
              "    [theme=dark] .colab-df-convert:hover {\n",
              "      background-color: #434B5C;\n",
              "      box-shadow: 0px 1px 3px 1px rgba(0, 0, 0, 0.15);\n",
              "      filter: drop-shadow(0px 1px 2px rgba(0, 0, 0, 0.3));\n",
              "      fill: #FFFFFF;\n",
              "    }\n",
              "  </style>\n",
              "\n",
              "      <script>\n",
              "        const buttonEl =\n",
              "          document.querySelector('#df-f2a1ec90-f8cf-400d-9cea-ef8024e74a36 button.colab-df-convert');\n",
              "        buttonEl.style.display =\n",
              "          google.colab.kernel.accessAllowed ? 'block' : 'none';\n",
              "\n",
              "        async function convertToInteractive(key) {\n",
              "          const element = document.querySelector('#df-f2a1ec90-f8cf-400d-9cea-ef8024e74a36');\n",
              "          const dataTable =\n",
              "            await google.colab.kernel.invokeFunction('convertToInteractive',\n",
              "                                                     [key], {});\n",
              "          if (!dataTable) return;\n",
              "\n",
              "          const docLinkHtml = 'Like what you see? Visit the ' +\n",
              "            '<a target=\"_blank\" href=https://colab.research.google.com/notebooks/data_table.ipynb>data table notebook</a>'\n",
              "            + ' to learn more about interactive tables.';\n",
              "          element.innerHTML = '';\n",
              "          dataTable['output_type'] = 'display_data';\n",
              "          await google.colab.output.renderOutput(dataTable, element);\n",
              "          const docLink = document.createElement('div');\n",
              "          docLink.innerHTML = docLinkHtml;\n",
              "          element.appendChild(docLink);\n",
              "        }\n",
              "      </script>\n",
              "    </div>\n",
              "  </div>\n",
              "  "
            ]
          },
          "metadata": {},
          "execution_count": 25
        }
      ]
    },
    {
      "cell_type": "markdown",
      "source": [
        "## Quality Issues\n",
        "#### Archived_enhanced_df\n",
        "<ol>\n",
        "<li>Timestamp and retweeted status timestamp should be datetime format and not object/string\n",
        "<li> In_reply_to_status_id, in_reply_to_user_id, retweeted_status_id, retweeted_status_user_id should all be integer and not float.\n",
        "<li> Missing data in most of the columns filled with NaN and None.\n",
        "</ol>\n",
        "\n",
        "### Twitter_api_df dataframe\n",
        "<ol>\n",
        "<li>datetime should be of datatime datatype instead of string"
      ],
      "metadata": {
        "id": "MDWtGHYjQOIr"
      }
    },
    {
      "cell_type": "markdown",
      "source": [
        "### Structural Issues\n",
        "\n",
        "#### predictions_df dataframe\n",
        "<ol>\n",
        "<li>p1, p2 and p3 should be cmerged\n",
        "<li>p1_conf, p2_conf and p3_conf columns should be merged\n",
        "<li>p1_dog, p2_dog and p3_dog columns should be merged\n"
      ],
      "metadata": {
        "id": "0FGe0tOxTjom"
      }
    },
    {
      "cell_type": "markdown",
      "source": [
        "### Data Cleaning"
      ],
      "metadata": {
        "id": "fWlsDm0Ibxhc"
      }
    },
    {
      "cell_type": "code",
      "source": [
        "# copy dataframes for cleaning purposes\n",
        "archive_clean = Archived_Enhanced_df.copy()\n",
        "predictions_clean = Predictions_data_df.copy()\n",
        "df_api_clean = Twitter_api_df.copy()"
      ],
      "metadata": {
        "id": "DxjpP2RVV9oQ"
      },
      "execution_count": 26,
      "outputs": []
    },
    {
      "cell_type": "markdown",
      "source": [
        "#### Define\n",
        "Let make the entire 3 data into 1 table instead of 3. Thus we will be merging the 3 dataframes into one. And then we will have only 1 dataframe to clean and process."
      ],
      "metadata": {
        "id": "G6w7ALTse20K"
      }
    },
    {
      "cell_type": "markdown",
      "source": [
        "#### Code"
      ],
      "metadata": {
        "id": "n_n8a3qihHAd"
      }
    },
    {
      "cell_type": "code",
      "source": [
        "df_twitter_enhanced_clean = pd.merge(left=archive_clean,\n",
        "                                 right=df_api_clean, left_on='tweet_id', right_on='tweet_id', how='inner')"
      ],
      "metadata": {
        "id": "eHoIfIaYciIm"
      },
      "execution_count": 27,
      "outputs": []
    },
    {
      "cell_type": "code",
      "source": [
        "df_twitter_enhanced_clean = df_twitter_enhanced_clean.merge(predictions_clean, on='tweet_id', how='inner')"
      ],
      "metadata": {
        "id": "Apojhgdp2Ah4"
      },
      "execution_count": 28,
      "outputs": []
    },
    {
      "cell_type": "markdown",
      "source": [
        "#### Testing"
      ],
      "metadata": {
        "id": "02plVNujfcl_"
      }
    },
    {
      "cell_type": "code",
      "source": [
        "df_twitter_enhanced_clean.info()"
      ],
      "metadata": {
        "colab": {
          "base_uri": "https://localhost:8080/"
        },
        "id": "gKmENRMH2GZk",
        "outputId": "cfeb3776-90a7-4332-e1e3-b927104cabbc"
      },
      "execution_count": 29,
      "outputs": [
        {
          "output_type": "stream",
          "name": "stdout",
          "text": [
            "<class 'pandas.core.frame.DataFrame'>\n",
            "Int64Index: 2057 entries, 0 to 2056\n",
            "Data columns (total 34 columns):\n",
            " #   Column                      Non-Null Count  Dtype  \n",
            "---  ------                      --------------  -----  \n",
            " 0   tweet_id                    2057 non-null   int64  \n",
            " 1   in_reply_to_status_id       23 non-null     float64\n",
            " 2   in_reply_to_user_id         23 non-null     float64\n",
            " 3   timestamp                   2057 non-null   object \n",
            " 4   source                      2057 non-null   object \n",
            " 5   text                        2057 non-null   object \n",
            " 6   retweeted_status_id         71 non-null     float64\n",
            " 7   retweeted_status_user_id    71 non-null     float64\n",
            " 8   retweeted_status_timestamp  71 non-null     object \n",
            " 9   expanded_urls               2057 non-null   object \n",
            " 10  rating_numerator            2057 non-null   int64  \n",
            " 11  rating_denominator          2057 non-null   int64  \n",
            " 12  name                        2057 non-null   object \n",
            " 13  doggo                       2057 non-null   object \n",
            " 14  floofer                     2057 non-null   object \n",
            " 15  pupper                      2057 non-null   object \n",
            " 16  puppo                       2057 non-null   object \n",
            " 17  Unnamed: 0                  2057 non-null   int64  \n",
            " 18  favorites                   2057 non-null   int64  \n",
            " 19  retweets                    2057 non-null   int64  \n",
            " 20  user_followers              2057 non-null   int64  \n",
            " 21  user_favourites             2057 non-null   int64  \n",
            " 22  date_time                   2057 non-null   object \n",
            " 23  jpg_url                     2057 non-null   object \n",
            " 24  img_num                     2057 non-null   int64  \n",
            " 25  p1                          2057 non-null   object \n",
            " 26  p1_conf                     2057 non-null   float64\n",
            " 27  p1_dog                      2057 non-null   bool   \n",
            " 28  p2                          2057 non-null   object \n",
            " 29  p2_conf                     2057 non-null   float64\n",
            " 30  p2_dog                      2057 non-null   bool   \n",
            " 31  p3                          2057 non-null   object \n",
            " 32  p3_conf                     2057 non-null   float64\n",
            " 33  p3_dog                      2057 non-null   bool   \n",
            "dtypes: bool(3), float64(7), int64(9), object(15)\n",
            "memory usage: 520.3+ KB\n"
          ]
        }
      ]
    },
    {
      "cell_type": "code",
      "source": [
        "df_twitter_enhanced_clean = df_twitter_enhanced_clean[df_twitter_enhanced_clean.retweeted_status_id.isnull()]\n",
        "df_twitter_enhanced_clean = df_twitter_enhanced_clean[df_twitter_enhanced_clean.retweeted_status_user_id.isnull()]\n",
        "df_twitter_enhanced_clean = df_twitter_enhanced_clean[df_twitter_enhanced_clean.retweeted_status_timestamp.isnull()]"
      ],
      "metadata": {
        "id": "sIamKcsd8kyU"
      },
      "execution_count": 30,
      "outputs": []
    },
    {
      "cell_type": "code",
      "source": [
        "df_twitter_enhanced_clean.head(5)"
      ],
      "metadata": {
        "colab": {
          "base_uri": "https://localhost:8080/",
          "height": 664
        },
        "id": "7_ZjVyHn2gq5",
        "outputId": "d1d6444b-f94b-42b0-fa9c-bb888401a75f"
      },
      "execution_count": 33,
      "outputs": [
        {
          "output_type": "execute_result",
          "data": {
            "text/plain": [
              "             tweet_id  in_reply_to_status_id  in_reply_to_user_id  \\\n",
              "0  892420643555336193                    NaN                  NaN   \n",
              "1  892177421306343426                    NaN                  NaN   \n",
              "2  891815181378084864                    NaN                  NaN   \n",
              "3  891689557279858688                    NaN                  NaN   \n",
              "4  891327558926688256                    NaN                  NaN   \n",
              "\n",
              "                   timestamp  \\\n",
              "0  2017-08-01 16:23:56 +0000   \n",
              "1  2017-08-01 00:17:27 +0000   \n",
              "2  2017-07-31 00:18:03 +0000   \n",
              "3  2017-07-30 15:58:51 +0000   \n",
              "4  2017-07-29 16:00:24 +0000   \n",
              "\n",
              "                                              source  \\\n",
              "0  <a href=\"http://twitter.com/download/iphone\" r...   \n",
              "1  <a href=\"http://twitter.com/download/iphone\" r...   \n",
              "2  <a href=\"http://twitter.com/download/iphone\" r...   \n",
              "3  <a href=\"http://twitter.com/download/iphone\" r...   \n",
              "4  <a href=\"http://twitter.com/download/iphone\" r...   \n",
              "\n",
              "                                                text  retweeted_status_id  \\\n",
              "0  This is Phineas. He's a mystical boy. Only eve...                  NaN   \n",
              "1  This is Tilly. She's just checking pup on you....                  NaN   \n",
              "2  This is Archie. He is a rare Norwegian Pouncin...                  NaN   \n",
              "3  This is Darla. She commenced a snooze mid meal...                  NaN   \n",
              "4  This is Franklin. He would like you to stop ca...                  NaN   \n",
              "\n",
              "   retweeted_status_user_id retweeted_status_timestamp  \\\n",
              "0                       NaN                        NaN   \n",
              "1                       NaN                        NaN   \n",
              "2                       NaN                        NaN   \n",
              "3                       NaN                        NaN   \n",
              "4                       NaN                        NaN   \n",
              "\n",
              "                                       expanded_urls  ...  img_num  \\\n",
              "0  https://twitter.com/dog_rates/status/892420643...  ...        1   \n",
              "1  https://twitter.com/dog_rates/status/892177421...  ...        1   \n",
              "2  https://twitter.com/dog_rates/status/891815181...  ...        1   \n",
              "3  https://twitter.com/dog_rates/status/891689557...  ...        1   \n",
              "4  https://twitter.com/dog_rates/status/891327558...  ...        2   \n",
              "\n",
              "            p1   p1_conf p1_dog                  p2   p2_conf p2_dog  \\\n",
              "0       orange  0.097049  False               bagel  0.085851  False   \n",
              "1    Chihuahua  0.323581   True            Pekinese  0.090647   True   \n",
              "2    Chihuahua  0.716012   True            malamute  0.078253   True   \n",
              "3  paper_towel  0.170278  False  Labrador_retriever  0.168086   True   \n",
              "4       basset  0.555712   True    English_springer  0.225770   True   \n",
              "\n",
              "                            p3   p3_conf  p3_dog  \n",
              "0                       banana  0.076110   False  \n",
              "1                     papillon  0.068957    True  \n",
              "2                       kelpie  0.031379    True  \n",
              "3                      spatula  0.040836   False  \n",
              "4  German_short-haired_pointer  0.175219    True  \n",
              "\n",
              "[5 rows x 34 columns]"
            ],
            "text/html": [
              "\n",
              "  <div id=\"df-98a486e5-9d86-4c5e-88bd-1bc5d418cb01\">\n",
              "    <div class=\"colab-df-container\">\n",
              "      <div>\n",
              "<style scoped>\n",
              "    .dataframe tbody tr th:only-of-type {\n",
              "        vertical-align: middle;\n",
              "    }\n",
              "\n",
              "    .dataframe tbody tr th {\n",
              "        vertical-align: top;\n",
              "    }\n",
              "\n",
              "    .dataframe thead th {\n",
              "        text-align: right;\n",
              "    }\n",
              "</style>\n",
              "<table border=\"1\" class=\"dataframe\">\n",
              "  <thead>\n",
              "    <tr style=\"text-align: right;\">\n",
              "      <th></th>\n",
              "      <th>tweet_id</th>\n",
              "      <th>in_reply_to_status_id</th>\n",
              "      <th>in_reply_to_user_id</th>\n",
              "      <th>timestamp</th>\n",
              "      <th>source</th>\n",
              "      <th>text</th>\n",
              "      <th>retweeted_status_id</th>\n",
              "      <th>retweeted_status_user_id</th>\n",
              "      <th>retweeted_status_timestamp</th>\n",
              "      <th>expanded_urls</th>\n",
              "      <th>...</th>\n",
              "      <th>img_num</th>\n",
              "      <th>p1</th>\n",
              "      <th>p1_conf</th>\n",
              "      <th>p1_dog</th>\n",
              "      <th>p2</th>\n",
              "      <th>p2_conf</th>\n",
              "      <th>p2_dog</th>\n",
              "      <th>p3</th>\n",
              "      <th>p3_conf</th>\n",
              "      <th>p3_dog</th>\n",
              "    </tr>\n",
              "  </thead>\n",
              "  <tbody>\n",
              "    <tr>\n",
              "      <th>0</th>\n",
              "      <td>892420643555336193</td>\n",
              "      <td>NaN</td>\n",
              "      <td>NaN</td>\n",
              "      <td>2017-08-01 16:23:56 +0000</td>\n",
              "      <td>&lt;a href=\"http://twitter.com/download/iphone\" r...</td>\n",
              "      <td>This is Phineas. He's a mystical boy. Only eve...</td>\n",
              "      <td>NaN</td>\n",
              "      <td>NaN</td>\n",
              "      <td>NaN</td>\n",
              "      <td>https://twitter.com/dog_rates/status/892420643...</td>\n",
              "      <td>...</td>\n",
              "      <td>1</td>\n",
              "      <td>orange</td>\n",
              "      <td>0.097049</td>\n",
              "      <td>False</td>\n",
              "      <td>bagel</td>\n",
              "      <td>0.085851</td>\n",
              "      <td>False</td>\n",
              "      <td>banana</td>\n",
              "      <td>0.076110</td>\n",
              "      <td>False</td>\n",
              "    </tr>\n",
              "    <tr>\n",
              "      <th>1</th>\n",
              "      <td>892177421306343426</td>\n",
              "      <td>NaN</td>\n",
              "      <td>NaN</td>\n",
              "      <td>2017-08-01 00:17:27 +0000</td>\n",
              "      <td>&lt;a href=\"http://twitter.com/download/iphone\" r...</td>\n",
              "      <td>This is Tilly. She's just checking pup on you....</td>\n",
              "      <td>NaN</td>\n",
              "      <td>NaN</td>\n",
              "      <td>NaN</td>\n",
              "      <td>https://twitter.com/dog_rates/status/892177421...</td>\n",
              "      <td>...</td>\n",
              "      <td>1</td>\n",
              "      <td>Chihuahua</td>\n",
              "      <td>0.323581</td>\n",
              "      <td>True</td>\n",
              "      <td>Pekinese</td>\n",
              "      <td>0.090647</td>\n",
              "      <td>True</td>\n",
              "      <td>papillon</td>\n",
              "      <td>0.068957</td>\n",
              "      <td>True</td>\n",
              "    </tr>\n",
              "    <tr>\n",
              "      <th>2</th>\n",
              "      <td>891815181378084864</td>\n",
              "      <td>NaN</td>\n",
              "      <td>NaN</td>\n",
              "      <td>2017-07-31 00:18:03 +0000</td>\n",
              "      <td>&lt;a href=\"http://twitter.com/download/iphone\" r...</td>\n",
              "      <td>This is Archie. He is a rare Norwegian Pouncin...</td>\n",
              "      <td>NaN</td>\n",
              "      <td>NaN</td>\n",
              "      <td>NaN</td>\n",
              "      <td>https://twitter.com/dog_rates/status/891815181...</td>\n",
              "      <td>...</td>\n",
              "      <td>1</td>\n",
              "      <td>Chihuahua</td>\n",
              "      <td>0.716012</td>\n",
              "      <td>True</td>\n",
              "      <td>malamute</td>\n",
              "      <td>0.078253</td>\n",
              "      <td>True</td>\n",
              "      <td>kelpie</td>\n",
              "      <td>0.031379</td>\n",
              "      <td>True</td>\n",
              "    </tr>\n",
              "    <tr>\n",
              "      <th>3</th>\n",
              "      <td>891689557279858688</td>\n",
              "      <td>NaN</td>\n",
              "      <td>NaN</td>\n",
              "      <td>2017-07-30 15:58:51 +0000</td>\n",
              "      <td>&lt;a href=\"http://twitter.com/download/iphone\" r...</td>\n",
              "      <td>This is Darla. She commenced a snooze mid meal...</td>\n",
              "      <td>NaN</td>\n",
              "      <td>NaN</td>\n",
              "      <td>NaN</td>\n",
              "      <td>https://twitter.com/dog_rates/status/891689557...</td>\n",
              "      <td>...</td>\n",
              "      <td>1</td>\n",
              "      <td>paper_towel</td>\n",
              "      <td>0.170278</td>\n",
              "      <td>False</td>\n",
              "      <td>Labrador_retriever</td>\n",
              "      <td>0.168086</td>\n",
              "      <td>True</td>\n",
              "      <td>spatula</td>\n",
              "      <td>0.040836</td>\n",
              "      <td>False</td>\n",
              "    </tr>\n",
              "    <tr>\n",
              "      <th>4</th>\n",
              "      <td>891327558926688256</td>\n",
              "      <td>NaN</td>\n",
              "      <td>NaN</td>\n",
              "      <td>2017-07-29 16:00:24 +0000</td>\n",
              "      <td>&lt;a href=\"http://twitter.com/download/iphone\" r...</td>\n",
              "      <td>This is Franklin. He would like you to stop ca...</td>\n",
              "      <td>NaN</td>\n",
              "      <td>NaN</td>\n",
              "      <td>NaN</td>\n",
              "      <td>https://twitter.com/dog_rates/status/891327558...</td>\n",
              "      <td>...</td>\n",
              "      <td>2</td>\n",
              "      <td>basset</td>\n",
              "      <td>0.555712</td>\n",
              "      <td>True</td>\n",
              "      <td>English_springer</td>\n",
              "      <td>0.225770</td>\n",
              "      <td>True</td>\n",
              "      <td>German_short-haired_pointer</td>\n",
              "      <td>0.175219</td>\n",
              "      <td>True</td>\n",
              "    </tr>\n",
              "  </tbody>\n",
              "</table>\n",
              "<p>5 rows × 34 columns</p>\n",
              "</div>\n",
              "      <button class=\"colab-df-convert\" onclick=\"convertToInteractive('df-98a486e5-9d86-4c5e-88bd-1bc5d418cb01')\"\n",
              "              title=\"Convert this dataframe to an interactive table.\"\n",
              "              style=\"display:none;\">\n",
              "        \n",
              "  <svg xmlns=\"http://www.w3.org/2000/svg\" height=\"24px\"viewBox=\"0 0 24 24\"\n",
              "       width=\"24px\">\n",
              "    <path d=\"M0 0h24v24H0V0z\" fill=\"none\"/>\n",
              "    <path d=\"M18.56 5.44l.94 2.06.94-2.06 2.06-.94-2.06-.94-.94-2.06-.94 2.06-2.06.94zm-11 1L8.5 8.5l.94-2.06 2.06-.94-2.06-.94L8.5 2.5l-.94 2.06-2.06.94zm10 10l.94 2.06.94-2.06 2.06-.94-2.06-.94-.94-2.06-.94 2.06-2.06.94z\"/><path d=\"M17.41 7.96l-1.37-1.37c-.4-.4-.92-.59-1.43-.59-.52 0-1.04.2-1.43.59L10.3 9.45l-7.72 7.72c-.78.78-.78 2.05 0 2.83L4 21.41c.39.39.9.59 1.41.59.51 0 1.02-.2 1.41-.59l7.78-7.78 2.81-2.81c.8-.78.8-2.07 0-2.86zM5.41 20L4 18.59l7.72-7.72 1.47 1.35L5.41 20z\"/>\n",
              "  </svg>\n",
              "      </button>\n",
              "      \n",
              "  <style>\n",
              "    .colab-df-container {\n",
              "      display:flex;\n",
              "      flex-wrap:wrap;\n",
              "      gap: 12px;\n",
              "    }\n",
              "\n",
              "    .colab-df-convert {\n",
              "      background-color: #E8F0FE;\n",
              "      border: none;\n",
              "      border-radius: 50%;\n",
              "      cursor: pointer;\n",
              "      display: none;\n",
              "      fill: #1967D2;\n",
              "      height: 32px;\n",
              "      padding: 0 0 0 0;\n",
              "      width: 32px;\n",
              "    }\n",
              "\n",
              "    .colab-df-convert:hover {\n",
              "      background-color: #E2EBFA;\n",
              "      box-shadow: 0px 1px 2px rgba(60, 64, 67, 0.3), 0px 1px 3px 1px rgba(60, 64, 67, 0.15);\n",
              "      fill: #174EA6;\n",
              "    }\n",
              "\n",
              "    [theme=dark] .colab-df-convert {\n",
              "      background-color: #3B4455;\n",
              "      fill: #D2E3FC;\n",
              "    }\n",
              "\n",
              "    [theme=dark] .colab-df-convert:hover {\n",
              "      background-color: #434B5C;\n",
              "      box-shadow: 0px 1px 3px 1px rgba(0, 0, 0, 0.15);\n",
              "      filter: drop-shadow(0px 1px 2px rgba(0, 0, 0, 0.3));\n",
              "      fill: #FFFFFF;\n",
              "    }\n",
              "  </style>\n",
              "\n",
              "      <script>\n",
              "        const buttonEl =\n",
              "          document.querySelector('#df-98a486e5-9d86-4c5e-88bd-1bc5d418cb01 button.colab-df-convert');\n",
              "        buttonEl.style.display =\n",
              "          google.colab.kernel.accessAllowed ? 'block' : 'none';\n",
              "\n",
              "        async function convertToInteractive(key) {\n",
              "          const element = document.querySelector('#df-98a486e5-9d86-4c5e-88bd-1bc5d418cb01');\n",
              "          const dataTable =\n",
              "            await google.colab.kernel.invokeFunction('convertToInteractive',\n",
              "                                                     [key], {});\n",
              "          if (!dataTable) return;\n",
              "\n",
              "          const docLinkHtml = 'Like what you see? Visit the ' +\n",
              "            '<a target=\"_blank\" href=https://colab.research.google.com/notebooks/data_table.ipynb>data table notebook</a>'\n",
              "            + ' to learn more about interactive tables.';\n",
              "          element.innerHTML = '';\n",
              "          dataTable['output_type'] = 'display_data';\n",
              "          await google.colab.output.renderOutput(dataTable, element);\n",
              "          const docLink = document.createElement('div');\n",
              "          docLink.innerHTML = docLinkHtml;\n",
              "          element.appendChild(docLink);\n",
              "        }\n",
              "      </script>\n",
              "    </div>\n",
              "  </div>\n",
              "  "
            ]
          },
          "metadata": {},
          "execution_count": 33
        }
      ]
    },
    {
      "cell_type": "markdown",
      "source": [
        "### Define\n",
        "Clean the content of source column, make it more readable."
      ],
      "metadata": {
        "id": "35pDCN2sgu3P"
      }
    },
    {
      "cell_type": "markdown",
      "source": [
        "#### Code"
      ],
      "metadata": {
        "id": "Vn2132uqg2dK"
      }
    },
    {
      "cell_type": "code",
      "source": [
        "df_twitter_enhanced_clean['source'] = df_twitter_enhanced_clean['source'].apply(lambda x: re.findall(r'>(.*)<', x)[0])"
      ],
      "metadata": {
        "id": "bulQmM_o6LLK"
      },
      "execution_count": 34,
      "outputs": []
    },
    {
      "cell_type": "markdown",
      "source": [
        "#### Testing"
      ],
      "metadata": {
        "id": "VAoiXDPqg7Qk"
      }
    },
    {
      "cell_type": "code",
      "source": [
        "df_twitter_enhanced_clean['source'].value_counts()"
      ],
      "metadata": {
        "id": "y38SnOh16MAO",
        "colab": {
          "base_uri": "https://localhost:8080/"
        },
        "outputId": "167138e2-d64c-4ec2-bcc1-130ae9382ca7"
      },
      "execution_count": 35,
      "outputs": [
        {
          "output_type": "execute_result",
          "data": {
            "text/plain": [
              "Twitter for iPhone    1948\n",
              "Twitter Web Client      28\n",
              "TweetDeck               10\n",
              "Name: source, dtype: int64"
            ]
          },
          "metadata": {},
          "execution_count": 35
        }
      ]
    },
    {
      "cell_type": "markdown",
      "source": [
        "#### Define\n",
        "Refine p1, p2 and p3 columns and confidence associated by combining."
      ],
      "metadata": {
        "id": "AGA8eg45h8N9"
      }
    },
    {
      "cell_type": "markdown",
      "source": [
        "#### Code"
      ],
      "metadata": {
        "id": "D7uJaaoJiDPt"
      }
    },
    {
      "cell_type": "code",
      "source": [
        "# store the true algo with it's level of confidence and if false put NaN as confidence\n",
        "prediction = []\n",
        "confidence = []\n",
        "\n",
        "def get_prediction_confidence(dataframe):\n",
        "    if dataframe['p1_dog'] == True:\n",
        "        prediction.append(dataframe['p1'])\n",
        "        confidence.append(dataframe['p1_conf'])\n",
        "    elif dataframe['p2_dog'] == True:\n",
        "        prediction.append(dataframe['p2'])\n",
        "        confidence.append(dataframe['p2_conf'])\n",
        "    elif dataframe['p3_dog'] == True:\n",
        "        prediction.append(dataframe['p3'])\n",
        "        confidence.append(dataframe['p3_conf'])\n",
        "    else:\n",
        "        prediction.append('NaN')\n",
        "        confidence.append(0)\n",
        "\n",
        "df_twitter_enhanced_clean.apply(get_prediction_confidence, axis=1)\n",
        "df_twitter_enhanced_clean['prediction'] = prediction\n",
        "df_twitter_enhanced_clean['confidence'] = confidence"
      ],
      "metadata": {
        "id": "qQ_X5EQIiCxm"
      },
      "execution_count": 36,
      "outputs": []
    },
    {
      "cell_type": "code",
      "source": [
        "# drop the not required columns of image prediction information\n",
        "df_twitter_enhanced_clean = df_twitter_enhanced_clean.drop(['img_num', 'p1', 'p1_conf', 'p1_dog', 'p2', 'p2_conf', 'p2_dog', 'p3', 'p3_conf', 'p3_dog'], 1)"
      ],
      "metadata": {
        "colab": {
          "base_uri": "https://localhost:8080/"
        },
        "id": "aldwyVGcBqpU",
        "outputId": "b56ec9b1-72f1-415a-dfaf-cccfaa5dd289"
      },
      "execution_count": 37,
      "outputs": [
        {
          "output_type": "stream",
          "name": "stderr",
          "text": [
            "/usr/local/lib/python3.7/dist-packages/ipykernel_launcher.py:2: FutureWarning: In a future version of pandas all arguments of DataFrame.drop except for the argument 'labels' will be keyword-only\n",
            "  \n"
          ]
        }
      ]
    },
    {
      "cell_type": "markdown",
      "source": [
        "#### Test"
      ],
      "metadata": {
        "id": "8YxMaExqlw2k"
      }
    },
    {
      "cell_type": "code",
      "source": [
        "#check if 2 new columns have been added and not required columns have been dropped\n",
        "df_twitter_enhanced_clean.info()"
      ],
      "metadata": {
        "id": "2z92dx3NB4Jz",
        "colab": {
          "base_uri": "https://localhost:8080/"
        },
        "outputId": "ec59dfbf-b290-401d-cd20-a8113001d8c5"
      },
      "execution_count": 38,
      "outputs": [
        {
          "output_type": "stream",
          "name": "stdout",
          "text": [
            "<class 'pandas.core.frame.DataFrame'>\n",
            "Int64Index: 1986 entries, 0 to 2056\n",
            "Data columns (total 26 columns):\n",
            " #   Column                      Non-Null Count  Dtype  \n",
            "---  ------                      --------------  -----  \n",
            " 0   tweet_id                    1986 non-null   int64  \n",
            " 1   in_reply_to_status_id       23 non-null     float64\n",
            " 2   in_reply_to_user_id         23 non-null     float64\n",
            " 3   timestamp                   1986 non-null   object \n",
            " 4   source                      1986 non-null   object \n",
            " 5   text                        1986 non-null   object \n",
            " 6   retweeted_status_id         0 non-null      float64\n",
            " 7   retweeted_status_user_id    0 non-null      float64\n",
            " 8   retweeted_status_timestamp  0 non-null      object \n",
            " 9   expanded_urls               1986 non-null   object \n",
            " 10  rating_numerator            1986 non-null   int64  \n",
            " 11  rating_denominator          1986 non-null   int64  \n",
            " 12  name                        1986 non-null   object \n",
            " 13  doggo                       1986 non-null   object \n",
            " 14  floofer                     1986 non-null   object \n",
            " 15  pupper                      1986 non-null   object \n",
            " 16  puppo                       1986 non-null   object \n",
            " 17  Unnamed: 0                  1986 non-null   int64  \n",
            " 18  favorites                   1986 non-null   int64  \n",
            " 19  retweets                    1986 non-null   int64  \n",
            " 20  user_followers              1986 non-null   int64  \n",
            " 21  user_favourites             1986 non-null   int64  \n",
            " 22  date_time                   1986 non-null   object \n",
            " 23  jpg_url                     1986 non-null   object \n",
            " 24  prediction                  1986 non-null   object \n",
            " 25  confidence                  1986 non-null   float64\n",
            "dtypes: float64(5), int64(8), object(13)\n",
            "memory usage: 418.9+ KB\n"
          ]
        }
      ]
    },
    {
      "cell_type": "markdown",
      "source": [
        "#### Define\n",
        "Define new column for life stage of dog by melting the 'doggo', 'floofer', 'pupper' and 'puppo' columns into one column life_stage"
      ],
      "metadata": {
        "id": "BLJbSu2tr4qs"
      }
    },
    {
      "cell_type": "markdown",
      "source": [
        "#### Code"
      ],
      "metadata": {
        "id": "KBMOb97Hr_eK"
      }
    },
    {
      "cell_type": "code",
      "source": [
        "melt_coumns = ['doggo', 'floofer', 'pupper', 'puppo']\n",
        "stay_columns = [x for x in df_twitter_enhanced_clean.columns.tolist() if x not in melt_coumns]\n",
        "\n",
        "# Melt the the columns into values\n",
        "df_twitter_enhanced_clean = pd.melt(df_twitter_enhanced_clean, id_vars = stay_columns, value_vars = melt_coumns, \n",
        "                         var_name = 'stages', value_name = 'life_stage')"
      ],
      "metadata": {
        "id": "93d36e0Fu_cz"
      },
      "execution_count": 39,
      "outputs": []
    },
    {
      "cell_type": "code",
      "source": [
        "# Delete column 'stages'\n",
        "df_twitter_enhanced_clean = df_twitter_enhanced_clean.drop('stages', 1)"
      ],
      "metadata": {
        "colab": {
          "base_uri": "https://localhost:8080/"
        },
        "id": "Fzl-wVNXtjti",
        "outputId": "34d6963d-f691-4b2b-a54a-956b53b1ccdb"
      },
      "execution_count": 40,
      "outputs": [
        {
          "output_type": "stream",
          "name": "stderr",
          "text": [
            "/usr/local/lib/python3.7/dist-packages/ipykernel_launcher.py:2: FutureWarning: In a future version of pandas all arguments of DataFrame.drop except for the argument 'labels' will be keyword-only\n",
            "  \n"
          ]
        }
      ]
    },
    {
      "cell_type": "markdown",
      "source": [
        "#### Test"
      ],
      "metadata": {
        "id": "yXupproOCACG"
      }
    },
    {
      "cell_type": "code",
      "source": [
        "#check if doggo', 'floofer', 'pupper', 'puppo' have been dropped and new column 'life_stage' has been added.\n",
        "df_twitter_enhanced_clean.info()"
      ],
      "metadata": {
        "colab": {
          "base_uri": "https://localhost:8080/"
        },
        "id": "HEL_IBJ2tsx9",
        "outputId": "aa4bb18d-9bce-4ed9-b295-b0d66769f118"
      },
      "execution_count": 41,
      "outputs": [
        {
          "output_type": "stream",
          "name": "stdout",
          "text": [
            "<class 'pandas.core.frame.DataFrame'>\n",
            "RangeIndex: 7944 entries, 0 to 7943\n",
            "Data columns (total 23 columns):\n",
            " #   Column                      Non-Null Count  Dtype  \n",
            "---  ------                      --------------  -----  \n",
            " 0   tweet_id                    7944 non-null   int64  \n",
            " 1   in_reply_to_status_id       92 non-null     float64\n",
            " 2   in_reply_to_user_id         92 non-null     float64\n",
            " 3   timestamp                   7944 non-null   object \n",
            " 4   source                      7944 non-null   object \n",
            " 5   text                        7944 non-null   object \n",
            " 6   retweeted_status_id         0 non-null      float64\n",
            " 7   retweeted_status_user_id    0 non-null      float64\n",
            " 8   retweeted_status_timestamp  0 non-null      object \n",
            " 9   expanded_urls               7944 non-null   object \n",
            " 10  rating_numerator            7944 non-null   int64  \n",
            " 11  rating_denominator          7944 non-null   int64  \n",
            " 12  name                        7944 non-null   object \n",
            " 13  Unnamed: 0                  7944 non-null   int64  \n",
            " 14  favorites                   7944 non-null   int64  \n",
            " 15  retweets                    7944 non-null   int64  \n",
            " 16  user_followers              7944 non-null   int64  \n",
            " 17  user_favourites             7944 non-null   int64  \n",
            " 18  date_time                   7944 non-null   object \n",
            " 19  jpg_url                     7944 non-null   object \n",
            " 20  prediction                  7944 non-null   object \n",
            " 21  confidence                  7944 non-null   float64\n",
            " 22  life_stage                  7944 non-null   object \n",
            "dtypes: float64(5), int64(8), object(10)\n",
            "memory usage: 1.4+ MB\n"
          ]
        }
      ]
    },
    {
      "cell_type": "code",
      "source": [
        "# check all types in life_Stage column\n",
        "df_twitter_enhanced_clean.life_stage.value_counts()"
      ],
      "metadata": {
        "colab": {
          "base_uri": "https://localhost:8080/"
        },
        "id": "l4hKJiA8t1va",
        "outputId": "19babe88-9fb9-4de2-d3e0-57adbd644c61"
      },
      "execution_count": 42,
      "outputs": [
        {
          "output_type": "execute_result",
          "data": {
            "text/plain": [
              "None       7628\n",
              "pupper      212\n",
              "doggo        73\n",
              "puppo        23\n",
              "floofer       8\n",
              "Name: life_stage, dtype: int64"
            ]
          },
          "metadata": {},
          "execution_count": 42
        }
      ]
    },
    {
      "cell_type": "markdown",
      "source": [
        "#### Define\n",
        " Get the correct dog gender from text column by filtering common phrases and assigning a gender. Using 'NaN' if no gender can be inferred from text"
      ],
      "metadata": {
        "id": "h3PxuVrMCcqD"
      }
    },
    {
      "cell_type": "markdown",
      "source": [
        "#### Code"
      ],
      "metadata": {
        "id": "Ib8dk2aaCjXy"
      }
    },
    {
      "cell_type": "code",
      "source": [
        "# Loop on all the texts and check if it has one of pronouns of male or female; add that to list.\n",
        "\n",
        "male_pronouns = ['He', 'he', 'Him','him', 'His','his', \"he's\",\"He's\", 'himself','Himself']\n",
        "female_pronouns = ['She', 'she', 'her', 'Her','hers', 'Hers','herself','Herself',\"she's\", \"She's\"]\n",
        "\n",
        "gender = []\n",
        "\n",
        "for text in df_twitter_enhanced_clean['text']:\n",
        "    # Male\n",
        "    if any(map(lambda v:v in male_pronouns, text.split())):\n",
        "        gender.append('male')\n",
        "    # Female\n",
        "    elif any(map(lambda v:v in female_pronouns, text.split())):\n",
        "        gender.append('female')\n",
        "    # If group or not specified\n",
        "    else:\n",
        "        gender.append('None')\n",
        "\n",
        "#add a new column for dog gender\n",
        "df_twitter_enhanced_clean['dog_gender'] = gender"
      ],
      "metadata": {
        "id": "LiJv4ZNkCITd"
      },
      "execution_count": 43,
      "outputs": []
    },
    {
      "cell_type": "markdown",
      "source": [
        "#### Test"
      ],
      "metadata": {
        "id": "A4Imj2-mDKLb"
      }
    },
    {
      "cell_type": "code",
      "source": [
        "# check the values in new column dog_gender\n",
        "df_twitter_enhanced_clean.dog_gender.value_counts()"
      ],
      "metadata": {
        "colab": {
          "base_uri": "https://localhost:8080/"
        },
        "id": "hxMStSeuDEvE",
        "outputId": "6b5bbf13-1eb9-4648-a338-73290669c632"
      },
      "execution_count": 44,
      "outputs": [
        {
          "output_type": "execute_result",
          "data": {
            "text/plain": [
              "male      4012\n",
              "None      2596\n",
              "female    1336\n",
              "Name: dog_gender, dtype: int64"
            ]
          },
          "metadata": {},
          "execution_count": 44
        }
      ]
    },
    {
      "cell_type": "markdown",
      "source": [
        "#### Define\n",
        " Convert all the 'NaN' values in prediction column to 'None' type and 'NaN' in rating_numerator column to 0."
      ],
      "metadata": {
        "id": "km5BdzwMGGaD"
      }
    },
    {
      "cell_type": "markdown",
      "source": [
        "#### Code"
      ],
      "metadata": {
        "id": "5k9vrcc9MDSW"
      }
    },
    {
      "cell_type": "code",
      "source": [
        "df_twitter_enhanced_clean.loc[df_twitter_enhanced_clean['prediction'] == 'NaN', 'prediction'] = None\n",
        "# df_twitter_enhanced_clean.loc[df_twitter_enhanced_clean['dog_gender'] == 'NaN', 'dog_gender'] = None\n",
        "df_twitter_enhanced_clean.loc[df_twitter_enhanced_clean['rating_numerator'] == 'NaN', 'rating_numerator'] = 0"
      ],
      "metadata": {
        "id": "Ak6v4V_MDM94"
      },
      "execution_count": 45,
      "outputs": []
    },
    {
      "cell_type": "markdown",
      "source": [
        "Test"
      ],
      "metadata": {
        "id": "1LeyzhyyGLEz"
      }
    },
    {
      "cell_type": "code",
      "source": [
        "df_twitter_enhanced_clean.info()"
      ],
      "metadata": {
        "colab": {
          "base_uri": "https://localhost:8080/"
        },
        "id": "9K4uspkMGNLp",
        "outputId": "1dc9c93e-9801-412a-d66b-719be1ad4685"
      },
      "execution_count": 46,
      "outputs": [
        {
          "output_type": "stream",
          "name": "stdout",
          "text": [
            "<class 'pandas.core.frame.DataFrame'>\n",
            "RangeIndex: 7944 entries, 0 to 7943\n",
            "Data columns (total 24 columns):\n",
            " #   Column                      Non-Null Count  Dtype  \n",
            "---  ------                      --------------  -----  \n",
            " 0   tweet_id                    7944 non-null   int64  \n",
            " 1   in_reply_to_status_id       92 non-null     float64\n",
            " 2   in_reply_to_user_id         92 non-null     float64\n",
            " 3   timestamp                   7944 non-null   object \n",
            " 4   source                      7944 non-null   object \n",
            " 5   text                        7944 non-null   object \n",
            " 6   retweeted_status_id         0 non-null      float64\n",
            " 7   retweeted_status_user_id    0 non-null      float64\n",
            " 8   retweeted_status_timestamp  0 non-null      object \n",
            " 9   expanded_urls               7944 non-null   object \n",
            " 10  rating_numerator            7944 non-null   int64  \n",
            " 11  rating_denominator          7944 non-null   int64  \n",
            " 12  name                        7944 non-null   object \n",
            " 13  Unnamed: 0                  7944 non-null   int64  \n",
            " 14  favorites                   7944 non-null   int64  \n",
            " 15  retweets                    7944 non-null   int64  \n",
            " 16  user_followers              7944 non-null   int64  \n",
            " 17  user_favourites             7944 non-null   int64  \n",
            " 18  date_time                   7944 non-null   object \n",
            " 19  jpg_url                     7944 non-null   object \n",
            " 20  prediction                  6712 non-null   object \n",
            " 21  confidence                  7944 non-null   float64\n",
            " 22  life_stage                  7944 non-null   object \n",
            " 23  dog_gender                  7944 non-null   object \n",
            "dtypes: float64(5), int64(8), object(11)\n",
            "memory usage: 1.5+ MB\n"
          ]
        }
      ]
    },
    {
      "cell_type": "markdown",
      "source": [
        "#### Define\n",
        "Drop all the columns that are no longer relevant to the data"
      ],
      "metadata": {
        "id": "48CqXbxlMHPV"
      }
    },
    {
      "cell_type": "markdown",
      "source": [
        "#### Code"
      ],
      "metadata": {
        "id": "706sTU0KMS_T"
      }
    },
    {
      "cell_type": "code",
      "source": [
        "# Delete columns we don't need anymore\n",
        "df_twitter_enhanced_clean = df_twitter_enhanced_clean.drop('retweeted_status_id', 1)\n",
        "df_twitter_enhanced_clean = df_twitter_enhanced_clean.drop('retweeted_status_user_id', 1)\n",
        "df_twitter_enhanced_clean = df_twitter_enhanced_clean.drop('retweeted_status_timestamp', 1)\n",
        "df_twitter_enhanced_clean = df_twitter_enhanced_clean.drop('date_time', 1) \n",
        "df_twitter_enhanced_clean = df_twitter_enhanced_clean.drop('in_reply_to_status_id', 1)\n",
        "df_twitter_enhanced_clean = df_twitter_enhanced_clean.drop('in_reply_to_user_id', 1)"
      ],
      "metadata": {
        "colab": {
          "base_uri": "https://localhost:8080/"
        },
        "id": "Rm_AQspLGh2v",
        "outputId": "a38eb370-786c-4abd-c8f8-65de0873a664"
      },
      "execution_count": 47,
      "outputs": [
        {
          "output_type": "stream",
          "name": "stderr",
          "text": [
            "/usr/local/lib/python3.7/dist-packages/ipykernel_launcher.py:2: FutureWarning: In a future version of pandas all arguments of DataFrame.drop except for the argument 'labels' will be keyword-only\n",
            "  \n",
            "/usr/local/lib/python3.7/dist-packages/ipykernel_launcher.py:3: FutureWarning: In a future version of pandas all arguments of DataFrame.drop except for the argument 'labels' will be keyword-only\n",
            "  This is separate from the ipykernel package so we can avoid doing imports until\n",
            "/usr/local/lib/python3.7/dist-packages/ipykernel_launcher.py:4: FutureWarning: In a future version of pandas all arguments of DataFrame.drop except for the argument 'labels' will be keyword-only\n",
            "  after removing the cwd from sys.path.\n",
            "/usr/local/lib/python3.7/dist-packages/ipykernel_launcher.py:5: FutureWarning: In a future version of pandas all arguments of DataFrame.drop except for the argument 'labels' will be keyword-only\n",
            "  \"\"\"\n",
            "/usr/local/lib/python3.7/dist-packages/ipykernel_launcher.py:6: FutureWarning: In a future version of pandas all arguments of DataFrame.drop except for the argument 'labels' will be keyword-only\n",
            "  \n",
            "/usr/local/lib/python3.7/dist-packages/ipykernel_launcher.py:7: FutureWarning: In a future version of pandas all arguments of DataFrame.drop except for the argument 'labels' will be keyword-only\n",
            "  import sys\n"
          ]
        }
      ]
    },
    {
      "cell_type": "code",
      "source": [
        "# Delete duplicated tweet_id\n",
        "df_twitter_enhanced_clean = df_twitter_enhanced_clean.drop_duplicates()\n",
        "\n",
        "# Delete tweets with no pictures\n",
        "df_twitter_enhanced_clean = df_twitter_enhanced_clean.dropna(subset = ['jpg_url'])\n",
        "\n",
        "#Delete dog_stage duplicates\n",
        "df_twitter_enhanced_clean = df_twitter_enhanced_clean.sort_values('life_stage').drop_duplicates('tweet_id', keep = 'last')\n",
        "# Delete the unnamed colunm\n",
        "df_twitter_enhanced_clean.drop(df_twitter_enhanced_clean.columns[df_twitter_enhanced_clean.columns.str.contains('Unnamed',case = False)],axis = 1, inplace=True)"
      ],
      "metadata": {
        "id": "8rZKccVSGi-c"
      },
      "execution_count": 48,
      "outputs": []
    },
    {
      "cell_type": "markdown",
      "source": [
        "#### Test"
      ],
      "metadata": {
        "id": "hhVChp96Mn4j"
      }
    },
    {
      "cell_type": "code",
      "source": [
        "df_twitter_enhanced_clean.info()"
      ],
      "metadata": {
        "colab": {
          "base_uri": "https://localhost:8080/"
        },
        "id": "BsnWKUU3G_hf",
        "outputId": "d6b0fe7f-76f3-4d48-e55f-bf6cb2de4506"
      },
      "execution_count": 49,
      "outputs": [
        {
          "output_type": "stream",
          "name": "stdout",
          "text": [
            "<class 'pandas.core.frame.DataFrame'>\n",
            "Int64Index: 1986 entries, 0 to 6764\n",
            "Data columns (total 17 columns):\n",
            " #   Column              Non-Null Count  Dtype  \n",
            "---  ------              --------------  -----  \n",
            " 0   tweet_id            1986 non-null   int64  \n",
            " 1   timestamp           1986 non-null   object \n",
            " 2   source              1986 non-null   object \n",
            " 3   text                1986 non-null   object \n",
            " 4   expanded_urls       1986 non-null   object \n",
            " 5   rating_numerator    1986 non-null   int64  \n",
            " 6   rating_denominator  1986 non-null   int64  \n",
            " 7   name                1986 non-null   object \n",
            " 8   favorites           1986 non-null   int64  \n",
            " 9   retweets            1986 non-null   int64  \n",
            " 10  user_followers      1986 non-null   int64  \n",
            " 11  user_favourites     1986 non-null   int64  \n",
            " 12  jpg_url             1986 non-null   object \n",
            " 13  prediction          1678 non-null   object \n",
            " 14  confidence          1986 non-null   float64\n",
            " 15  life_stage          1986 non-null   object \n",
            " 16  dog_gender          1986 non-null   object \n",
            "dtypes: float64(1), int64(7), object(9)\n",
            "memory usage: 279.3+ KB\n"
          ]
        }
      ]
    },
    {
      "cell_type": "markdown",
      "source": [
        "#### Define\n",
        "Correct all the wrong datatype by converting to the correct data type"
      ],
      "metadata": {
        "id": "BQyVQ5z5IY8K"
      }
    },
    {
      "cell_type": "markdown",
      "source": [
        "#### Code"
      ],
      "metadata": {
        "id": "2j0kW6EdIsDN"
      }
    },
    {
      "cell_type": "code",
      "source": [
        "df_twitter_enhanced_clean['tweet_id'] = df_twitter_enhanced_clean['tweet_id'].astype(str)\n",
        "df_twitter_enhanced_clean['timestamp'] = pd.to_datetime(df_twitter_enhanced_clean.timestamp)\n",
        "df_twitter_enhanced_clean['source'] = df_twitter_enhanced_clean['source'].astype('category')\n",
        "df_twitter_enhanced_clean['favorites'] = df_twitter_enhanced_clean['favorites'].astype(int)\n",
        "df_twitter_enhanced_clean['retweets'] = df_twitter_enhanced_clean['retweets'].astype(int)\n",
        "df_twitter_enhanced_clean['user_followers'] = df_twitter_enhanced_clean['user_followers'].astype(int)\n",
        "df_twitter_enhanced_clean['life_stage'] = df_twitter_enhanced_clean['life_stage'].astype('category')\n",
        "df_twitter_enhanced_clean['rating_numerator'] = df_twitter_enhanced_clean['rating_numerator'].astype(float)\n",
        "df_twitter_enhanced_clean['rating_denominator'] = df_twitter_enhanced_clean['rating_denominator'].astype(float)\n",
        "df_twitter_enhanced_clean['dog_gender'] = df_twitter_enhanced_clean['dog_gender'].astype('category')"
      ],
      "metadata": {
        "id": "xjptfzPwHe-p"
      },
      "execution_count": 50,
      "outputs": []
    },
    {
      "cell_type": "markdown",
      "source": [
        "#### Test"
      ],
      "metadata": {
        "id": "vy98NoZoIrDy"
      }
    },
    {
      "cell_type": "code",
      "source": [
        "#Lets check the datatype of the variables\n",
        "df_twitter_enhanced_clean.dtypes"
      ],
      "metadata": {
        "colab": {
          "base_uri": "https://localhost:8080/"
        },
        "id": "IAT6iMzpInMz",
        "outputId": "c4ab3dda-3387-413c-dcf3-affdb29c1364"
      },
      "execution_count": 51,
      "outputs": [
        {
          "output_type": "execute_result",
          "data": {
            "text/plain": [
              "tweet_id                           object\n",
              "timestamp             datetime64[ns, UTC]\n",
              "source                           category\n",
              "text                               object\n",
              "expanded_urls                      object\n",
              "rating_numerator                  float64\n",
              "rating_denominator                float64\n",
              "name                               object\n",
              "favorites                           int64\n",
              "retweets                            int64\n",
              "user_followers                      int64\n",
              "user_favourites                     int64\n",
              "jpg_url                            object\n",
              "prediction                         object\n",
              "confidence                        float64\n",
              "life_stage                       category\n",
              "dog_gender                       category\n",
              "dtype: object"
            ]
          },
          "metadata": {},
          "execution_count": 51
        }
      ]
    },
    {
      "cell_type": "markdown",
      "source": [
        "#### Re-assess for confirmation of the cleaning "
      ],
      "metadata": {
        "id": "BiAnJAIYNC7d"
      }
    },
    {
      "cell_type": "code",
      "source": [
        "df_twitter_enhanced_clean.head(5)"
      ],
      "metadata": {
        "colab": {
          "base_uri": "https://localhost:8080/",
          "height": 669
        },
        "id": "ZGX7B_4aI1_a",
        "outputId": "adfbf3f4-179b-4837-ac5f-e8386f79b9cf"
      },
      "execution_count": 52,
      "outputs": [
        {
          "output_type": "execute_result",
          "data": {
            "text/plain": [
              "                tweet_id                 timestamp              source  \\\n",
              "0     892420643555336193 2017-08-01 16:23:56+00:00  Twitter for iPhone   \n",
              "1382  679862121895714818 2015-12-24 03:12:15+00:00  Twitter for iPhone   \n",
              "1381  679877062409191424 2015-12-24 04:11:37+00:00  Twitter for iPhone   \n",
              "1380  680070545539371008 2015-12-24 17:00:27+00:00           TweetDeck   \n",
              "1379  680085611152338944 2015-12-24 18:00:19+00:00           TweetDeck   \n",
              "\n",
              "                                                   text  \\\n",
              "0     This is Phineas. He's a mystical boy. Only eve...   \n",
              "1382  \"Dammit hooman I'm jus trynna lik the fler\" 11...   \n",
              "1381  Meet Penelope. She's a bacon frise. Total babe...   \n",
              "1380  Say hello to Emmie. She's trapped in an orname...   \n",
              "1379  This is by far the most coordinated series of ...   \n",
              "\n",
              "                                          expanded_urls  rating_numerator  \\\n",
              "0     https://twitter.com/dog_rates/status/892420643...              13.0   \n",
              "1382  https://twitter.com/dog_rates/status/679862121...              11.0   \n",
              "1381  https://twitter.com/dog_rates/status/679877062...               5.0   \n",
              "1380  https://twitter.com/dog_rates/status/680070545...               9.0   \n",
              "1379  https://twitter.com/dog_rates/status/680085611...              12.0   \n",
              "\n",
              "      rating_denominator      name  favorites  retweets  user_followers  \\\n",
              "0                   10.0   Phineas      33824      7018         9272009   \n",
              "1382                10.0      None       2256       557         9272028   \n",
              "1381                10.0  Penelope       1804       582         9272028   \n",
              "1380                10.0     Emmie       2389       776         9272028   \n",
              "1379                10.0        by      11762      8165         9272028   \n",
              "\n",
              "      user_favourites                                          jpg_url  \\\n",
              "0              146769  https://pbs.twimg.com/media/DGKD1-bXoAAIAUK.jpg   \n",
              "1382           146769  https://pbs.twimg.com/media/CW9a_h1WwAApmAy.jpg   \n",
              "1381           146769  https://pbs.twimg.com/media/CW9olDsUsAA0XSf.jpg   \n",
              "1380           146769  https://pbs.twimg.com/media/CW-dU34WQAANBGy.jpg   \n",
              "1379           146769  https://pbs.twimg.com/media/CXAiiHUWkAIN_28.jpg   \n",
              "\n",
              "       prediction  confidence life_stage dog_gender  \n",
              "0            None    0.000000       None       male  \n",
              "1382  EntleBucher    0.523206       None       None  \n",
              "1381         None    0.000000       None     female  \n",
              "1380     Shih-Tzu    0.121811       None     female  \n",
              "1379         None    0.000000       None       None  "
            ],
            "text/html": [
              "\n",
              "  <div id=\"df-37443e10-8e08-4410-8938-bd9ca6b592a6\">\n",
              "    <div class=\"colab-df-container\">\n",
              "      <div>\n",
              "<style scoped>\n",
              "    .dataframe tbody tr th:only-of-type {\n",
              "        vertical-align: middle;\n",
              "    }\n",
              "\n",
              "    .dataframe tbody tr th {\n",
              "        vertical-align: top;\n",
              "    }\n",
              "\n",
              "    .dataframe thead th {\n",
              "        text-align: right;\n",
              "    }\n",
              "</style>\n",
              "<table border=\"1\" class=\"dataframe\">\n",
              "  <thead>\n",
              "    <tr style=\"text-align: right;\">\n",
              "      <th></th>\n",
              "      <th>tweet_id</th>\n",
              "      <th>timestamp</th>\n",
              "      <th>source</th>\n",
              "      <th>text</th>\n",
              "      <th>expanded_urls</th>\n",
              "      <th>rating_numerator</th>\n",
              "      <th>rating_denominator</th>\n",
              "      <th>name</th>\n",
              "      <th>favorites</th>\n",
              "      <th>retweets</th>\n",
              "      <th>user_followers</th>\n",
              "      <th>user_favourites</th>\n",
              "      <th>jpg_url</th>\n",
              "      <th>prediction</th>\n",
              "      <th>confidence</th>\n",
              "      <th>life_stage</th>\n",
              "      <th>dog_gender</th>\n",
              "    </tr>\n",
              "  </thead>\n",
              "  <tbody>\n",
              "    <tr>\n",
              "      <th>0</th>\n",
              "      <td>892420643555336193</td>\n",
              "      <td>2017-08-01 16:23:56+00:00</td>\n",
              "      <td>Twitter for iPhone</td>\n",
              "      <td>This is Phineas. He's a mystical boy. Only eve...</td>\n",
              "      <td>https://twitter.com/dog_rates/status/892420643...</td>\n",
              "      <td>13.0</td>\n",
              "      <td>10.0</td>\n",
              "      <td>Phineas</td>\n",
              "      <td>33824</td>\n",
              "      <td>7018</td>\n",
              "      <td>9272009</td>\n",
              "      <td>146769</td>\n",
              "      <td>https://pbs.twimg.com/media/DGKD1-bXoAAIAUK.jpg</td>\n",
              "      <td>None</td>\n",
              "      <td>0.000000</td>\n",
              "      <td>None</td>\n",
              "      <td>male</td>\n",
              "    </tr>\n",
              "    <tr>\n",
              "      <th>1382</th>\n",
              "      <td>679862121895714818</td>\n",
              "      <td>2015-12-24 03:12:15+00:00</td>\n",
              "      <td>Twitter for iPhone</td>\n",
              "      <td>\"Dammit hooman I'm jus trynna lik the fler\" 11...</td>\n",
              "      <td>https://twitter.com/dog_rates/status/679862121...</td>\n",
              "      <td>11.0</td>\n",
              "      <td>10.0</td>\n",
              "      <td>None</td>\n",
              "      <td>2256</td>\n",
              "      <td>557</td>\n",
              "      <td>9272028</td>\n",
              "      <td>146769</td>\n",
              "      <td>https://pbs.twimg.com/media/CW9a_h1WwAApmAy.jpg</td>\n",
              "      <td>EntleBucher</td>\n",
              "      <td>0.523206</td>\n",
              "      <td>None</td>\n",
              "      <td>None</td>\n",
              "    </tr>\n",
              "    <tr>\n",
              "      <th>1381</th>\n",
              "      <td>679877062409191424</td>\n",
              "      <td>2015-12-24 04:11:37+00:00</td>\n",
              "      <td>Twitter for iPhone</td>\n",
              "      <td>Meet Penelope. She's a bacon frise. Total babe...</td>\n",
              "      <td>https://twitter.com/dog_rates/status/679877062...</td>\n",
              "      <td>5.0</td>\n",
              "      <td>10.0</td>\n",
              "      <td>Penelope</td>\n",
              "      <td>1804</td>\n",
              "      <td>582</td>\n",
              "      <td>9272028</td>\n",
              "      <td>146769</td>\n",
              "      <td>https://pbs.twimg.com/media/CW9olDsUsAA0XSf.jpg</td>\n",
              "      <td>None</td>\n",
              "      <td>0.000000</td>\n",
              "      <td>None</td>\n",
              "      <td>female</td>\n",
              "    </tr>\n",
              "    <tr>\n",
              "      <th>1380</th>\n",
              "      <td>680070545539371008</td>\n",
              "      <td>2015-12-24 17:00:27+00:00</td>\n",
              "      <td>TweetDeck</td>\n",
              "      <td>Say hello to Emmie. She's trapped in an orname...</td>\n",
              "      <td>https://twitter.com/dog_rates/status/680070545...</td>\n",
              "      <td>9.0</td>\n",
              "      <td>10.0</td>\n",
              "      <td>Emmie</td>\n",
              "      <td>2389</td>\n",
              "      <td>776</td>\n",
              "      <td>9272028</td>\n",
              "      <td>146769</td>\n",
              "      <td>https://pbs.twimg.com/media/CW-dU34WQAANBGy.jpg</td>\n",
              "      <td>Shih-Tzu</td>\n",
              "      <td>0.121811</td>\n",
              "      <td>None</td>\n",
              "      <td>female</td>\n",
              "    </tr>\n",
              "    <tr>\n",
              "      <th>1379</th>\n",
              "      <td>680085611152338944</td>\n",
              "      <td>2015-12-24 18:00:19+00:00</td>\n",
              "      <td>TweetDeck</td>\n",
              "      <td>This is by far the most coordinated series of ...</td>\n",
              "      <td>https://twitter.com/dog_rates/status/680085611...</td>\n",
              "      <td>12.0</td>\n",
              "      <td>10.0</td>\n",
              "      <td>by</td>\n",
              "      <td>11762</td>\n",
              "      <td>8165</td>\n",
              "      <td>9272028</td>\n",
              "      <td>146769</td>\n",
              "      <td>https://pbs.twimg.com/media/CXAiiHUWkAIN_28.jpg</td>\n",
              "      <td>None</td>\n",
              "      <td>0.000000</td>\n",
              "      <td>None</td>\n",
              "      <td>None</td>\n",
              "    </tr>\n",
              "  </tbody>\n",
              "</table>\n",
              "</div>\n",
              "      <button class=\"colab-df-convert\" onclick=\"convertToInteractive('df-37443e10-8e08-4410-8938-bd9ca6b592a6')\"\n",
              "              title=\"Convert this dataframe to an interactive table.\"\n",
              "              style=\"display:none;\">\n",
              "        \n",
              "  <svg xmlns=\"http://www.w3.org/2000/svg\" height=\"24px\"viewBox=\"0 0 24 24\"\n",
              "       width=\"24px\">\n",
              "    <path d=\"M0 0h24v24H0V0z\" fill=\"none\"/>\n",
              "    <path d=\"M18.56 5.44l.94 2.06.94-2.06 2.06-.94-2.06-.94-.94-2.06-.94 2.06-2.06.94zm-11 1L8.5 8.5l.94-2.06 2.06-.94-2.06-.94L8.5 2.5l-.94 2.06-2.06.94zm10 10l.94 2.06.94-2.06 2.06-.94-2.06-.94-.94-2.06-.94 2.06-2.06.94z\"/><path d=\"M17.41 7.96l-1.37-1.37c-.4-.4-.92-.59-1.43-.59-.52 0-1.04.2-1.43.59L10.3 9.45l-7.72 7.72c-.78.78-.78 2.05 0 2.83L4 21.41c.39.39.9.59 1.41.59.51 0 1.02-.2 1.41-.59l7.78-7.78 2.81-2.81c.8-.78.8-2.07 0-2.86zM5.41 20L4 18.59l7.72-7.72 1.47 1.35L5.41 20z\"/>\n",
              "  </svg>\n",
              "      </button>\n",
              "      \n",
              "  <style>\n",
              "    .colab-df-container {\n",
              "      display:flex;\n",
              "      flex-wrap:wrap;\n",
              "      gap: 12px;\n",
              "    }\n",
              "\n",
              "    .colab-df-convert {\n",
              "      background-color: #E8F0FE;\n",
              "      border: none;\n",
              "      border-radius: 50%;\n",
              "      cursor: pointer;\n",
              "      display: none;\n",
              "      fill: #1967D2;\n",
              "      height: 32px;\n",
              "      padding: 0 0 0 0;\n",
              "      width: 32px;\n",
              "    }\n",
              "\n",
              "    .colab-df-convert:hover {\n",
              "      background-color: #E2EBFA;\n",
              "      box-shadow: 0px 1px 2px rgba(60, 64, 67, 0.3), 0px 1px 3px 1px rgba(60, 64, 67, 0.15);\n",
              "      fill: #174EA6;\n",
              "    }\n",
              "\n",
              "    [theme=dark] .colab-df-convert {\n",
              "      background-color: #3B4455;\n",
              "      fill: #D2E3FC;\n",
              "    }\n",
              "\n",
              "    [theme=dark] .colab-df-convert:hover {\n",
              "      background-color: #434B5C;\n",
              "      box-shadow: 0px 1px 3px 1px rgba(0, 0, 0, 0.15);\n",
              "      filter: drop-shadow(0px 1px 2px rgba(0, 0, 0, 0.3));\n",
              "      fill: #FFFFFF;\n",
              "    }\n",
              "  </style>\n",
              "\n",
              "      <script>\n",
              "        const buttonEl =\n",
              "          document.querySelector('#df-37443e10-8e08-4410-8938-bd9ca6b592a6 button.colab-df-convert');\n",
              "        buttonEl.style.display =\n",
              "          google.colab.kernel.accessAllowed ? 'block' : 'none';\n",
              "\n",
              "        async function convertToInteractive(key) {\n",
              "          const element = document.querySelector('#df-37443e10-8e08-4410-8938-bd9ca6b592a6');\n",
              "          const dataTable =\n",
              "            await google.colab.kernel.invokeFunction('convertToInteractive',\n",
              "                                                     [key], {});\n",
              "          if (!dataTable) return;\n",
              "\n",
              "          const docLinkHtml = 'Like what you see? Visit the ' +\n",
              "            '<a target=\"_blank\" href=https://colab.research.google.com/notebooks/data_table.ipynb>data table notebook</a>'\n",
              "            + ' to learn more about interactive tables.';\n",
              "          element.innerHTML = '';\n",
              "          dataTable['output_type'] = 'display_data';\n",
              "          await google.colab.output.renderOutput(dataTable, element);\n",
              "          const docLink = document.createElement('div');\n",
              "          docLink.innerHTML = docLinkHtml;\n",
              "          element.appendChild(docLink);\n",
              "        }\n",
              "      </script>\n",
              "    </div>\n",
              "  </div>\n",
              "  "
            ]
          },
          "metadata": {},
          "execution_count": 52
        }
      ]
    },
    {
      "cell_type": "code",
      "source": [
        "# We save the cleaned csv into our file\n",
        "df_twitter_enhanced_clean.to_csv('twitter_enhanced_cleaned_data.csv', encoding = 'utf-8', index=False)"
      ],
      "metadata": {
        "id": "ZdxuUbUmJB9o"
      },
      "execution_count": 53,
      "outputs": []
    },
    {
      "cell_type": "code",
      "source": [
        "# Let's access the saved cleaned twitter enhaced data\n",
        "df_twitter_enhanced_clean = pd.read_csv('/content/twitter_enhanced_cleaned_data.csv')\n",
        "df_twitter_enhanced_clean.info()"
      ],
      "metadata": {
        "colab": {
          "base_uri": "https://localhost:8080/"
        },
        "id": "g1cTzagLOThn",
        "outputId": "7513c2ad-d3b5-4b13-e884-008ef8e7d6b2"
      },
      "execution_count": 54,
      "outputs": [
        {
          "output_type": "stream",
          "name": "stdout",
          "text": [
            "<class 'pandas.core.frame.DataFrame'>\n",
            "RangeIndex: 1986 entries, 0 to 1985\n",
            "Data columns (total 17 columns):\n",
            " #   Column              Non-Null Count  Dtype  \n",
            "---  ------              --------------  -----  \n",
            " 0   tweet_id            1986 non-null   int64  \n",
            " 1   timestamp           1986 non-null   object \n",
            " 2   source              1986 non-null   object \n",
            " 3   text                1986 non-null   object \n",
            " 4   expanded_urls       1986 non-null   object \n",
            " 5   rating_numerator    1986 non-null   float64\n",
            " 6   rating_denominator  1986 non-null   float64\n",
            " 7   name                1986 non-null   object \n",
            " 8   favorites           1986 non-null   int64  \n",
            " 9   retweets            1986 non-null   int64  \n",
            " 10  user_followers      1986 non-null   int64  \n",
            " 11  user_favourites     1986 non-null   int64  \n",
            " 12  jpg_url             1986 non-null   object \n",
            " 13  prediction          1678 non-null   object \n",
            " 14  confidence          1986 non-null   float64\n",
            " 15  life_stage          1986 non-null   object \n",
            " 16  dog_gender          1986 non-null   object \n",
            "dtypes: float64(3), int64(5), object(9)\n",
            "memory usage: 263.9+ KB\n"
          ]
        }
      ]
    },
    {
      "cell_type": "markdown",
      "source": [
        "## Analysis and Visualization"
      ],
      "metadata": {
        "id": "tHXY31XSR6uF"
      }
    },
    {
      "cell_type": "code",
      "source": [
        "# load master data frame\n",
        "df_twitter_enhanced_clean = pd.read_csv('/content/twitter_enhanced_cleaned_data.csv')\n"
      ],
      "metadata": {
        "id": "0nKDtoqrOiYj"
      },
      "execution_count": 55,
      "outputs": []
    },
    {
      "cell_type": "code",
      "source": [
        "df_twitter_enhanced_clean.info()"
      ],
      "metadata": {
        "colab": {
          "base_uri": "https://localhost:8080/"
        },
        "id": "4MKf2IsEJWDu",
        "outputId": "e1c3df90-bffc-4d15-82cc-da2a276dc2b1"
      },
      "execution_count": 56,
      "outputs": [
        {
          "output_type": "stream",
          "name": "stdout",
          "text": [
            "<class 'pandas.core.frame.DataFrame'>\n",
            "RangeIndex: 1986 entries, 0 to 1985\n",
            "Data columns (total 17 columns):\n",
            " #   Column              Non-Null Count  Dtype  \n",
            "---  ------              --------------  -----  \n",
            " 0   tweet_id            1986 non-null   int64  \n",
            " 1   timestamp           1986 non-null   object \n",
            " 2   source              1986 non-null   object \n",
            " 3   text                1986 non-null   object \n",
            " 4   expanded_urls       1986 non-null   object \n",
            " 5   rating_numerator    1986 non-null   float64\n",
            " 6   rating_denominator  1986 non-null   float64\n",
            " 7   name                1986 non-null   object \n",
            " 8   favorites           1986 non-null   int64  \n",
            " 9   retweets            1986 non-null   int64  \n",
            " 10  user_followers      1986 non-null   int64  \n",
            " 11  user_favourites     1986 non-null   int64  \n",
            " 12  jpg_url             1986 non-null   object \n",
            " 13  prediction          1678 non-null   object \n",
            " 14  confidence          1986 non-null   float64\n",
            " 15  life_stage          1986 non-null   object \n",
            " 16  dog_gender          1986 non-null   object \n",
            "dtypes: float64(3), int64(5), object(9)\n",
            "memory usage: 263.9+ KB\n"
          ]
        }
      ]
    },
    {
      "cell_type": "code",
      "source": [
        "# change timestamp to datetime\n",
        "df_twitter_enhanced_clean.timestamp = pd.to_datetime(df_twitter_enhanced_clean.timestamp, errors='coerce')"
      ],
      "metadata": {
        "id": "azyxgigDJbF6"
      },
      "execution_count": 57,
      "outputs": []
    },
    {
      "cell_type": "code",
      "source": [
        "df_twitter_enhanced_clean.info()"
      ],
      "metadata": {
        "colab": {
          "base_uri": "https://localhost:8080/"
        },
        "id": "MKBGadn_JeBE",
        "outputId": "68855e8d-2f92-4c98-ee13-a0a2aaa9753e"
      },
      "execution_count": 58,
      "outputs": [
        {
          "output_type": "stream",
          "name": "stdout",
          "text": [
            "<class 'pandas.core.frame.DataFrame'>\n",
            "RangeIndex: 1986 entries, 0 to 1985\n",
            "Data columns (total 17 columns):\n",
            " #   Column              Non-Null Count  Dtype              \n",
            "---  ------              --------------  -----              \n",
            " 0   tweet_id            1986 non-null   int64              \n",
            " 1   timestamp           1986 non-null   datetime64[ns, UTC]\n",
            " 2   source              1986 non-null   object             \n",
            " 3   text                1986 non-null   object             \n",
            " 4   expanded_urls       1986 non-null   object             \n",
            " 5   rating_numerator    1986 non-null   float64            \n",
            " 6   rating_denominator  1986 non-null   float64            \n",
            " 7   name                1986 non-null   object             \n",
            " 8   favorites           1986 non-null   int64              \n",
            " 9   retweets            1986 non-null   int64              \n",
            " 10  user_followers      1986 non-null   int64              \n",
            " 11  user_favourites     1986 non-null   int64              \n",
            " 12  jpg_url             1986 non-null   object             \n",
            " 13  prediction          1678 non-null   object             \n",
            " 14  confidence          1986 non-null   float64            \n",
            " 15  life_stage          1986 non-null   object             \n",
            " 16  dog_gender          1986 non-null   object             \n",
            "dtypes: datetime64[ns, UTC](1), float64(3), int64(5), object(8)\n",
            "memory usage: 263.9+ KB\n"
          ]
        }
      ]
    },
    {
      "cell_type": "code",
      "source": [
        "count_dogs =df_twitter_enhanced_clean.groupby('life_stage')['tweet_id'].count()\n",
        "count_dogs"
      ],
      "metadata": {
        "colab": {
          "base_uri": "https://localhost:8080/"
        },
        "id": "lglk1ryYJueL",
        "outputId": "a6c509bb-2aed-40c1-dde5-6ad38193bb07"
      },
      "execution_count": 59,
      "outputs": [
        {
          "output_type": "execute_result",
          "data": {
            "text/plain": [
              "life_stage\n",
              "None       1681\n",
              "doggo        62\n",
              "floofer       8\n",
              "pupper      212\n",
              "puppo        23\n",
              "Name: tweet_id, dtype: int64"
            ]
          },
          "metadata": {},
          "execution_count": 59
        }
      ]
    },
    {
      "cell_type": "code",
      "source": [
        "plt.subplots(figsize=(15, 10))\n",
        "plt.bar([1, 2, 3, 4, 5], count_dogs, tick_label=['None',  'doggo', 'floofer', 'pupper', \n",
        "                                                       'puppo'])\n",
        "plt.title('Most popular dog types')\n",
        "plt.xlabel('Dog type', weight='bold')\n",
        "plt.ylabel('Count', weight='bold')\n",
        "plt.savefig('most_pop_types.png');"
      ],
      "metadata": {
        "colab": {
          "base_uri": "https://localhost:8080/",
          "height": 621
        },
        "id": "gmgd34w_JxYt",
        "outputId": "56253a24-f762-4cc6-ff88-abbe2adf3964"
      },
      "execution_count": 60,
      "outputs": [
        {
          "output_type": "display_data",
          "data": {
            "text/plain": [
              "<Figure size 1080x720 with 1 Axes>"
            ],
            "image/png": "[encoded data removed]"
          },
          "metadata": {
            "needs_background": "light"
          }
        }
      ]
    },
    {
      "cell_type": "code",
      "source": [
        "dog_gender =df_twitter_enhanced_clean.groupby('dog_gender')['tweet_id'].count()\n",
        "dog_gender"
      ],
      "metadata": {
        "colab": {
          "base_uri": "https://localhost:8080/"
        },
        "id": "p1RWbYrlQxQc",
        "outputId": "352b5364-c4dd-463f-b7fd-905e6d9a7492"
      },
      "execution_count": 61,
      "outputs": [
        {
          "output_type": "execute_result",
          "data": {
            "text/plain": [
              "dog_gender\n",
              "None       649\n",
              "female     334\n",
              "male      1003\n",
              "Name: tweet_id, dtype: int64"
            ]
          },
          "metadata": {},
          "execution_count": 61
        }
      ]
    },
    {
      "cell_type": "code",
      "source": [
        "plt.subplots(figsize=(15, 10))\n",
        "plt.bar([1, 2, 3], dog_gender, tick_label=['None',  'female', 'male'])\n",
        "plt.title('Dog gender count plot')\n",
        "plt.xlabel('Dog gender', weight='bold')\n",
        "plt.ylabel('Count', weight='bold')\n",
        "plt.savefig('most_pop_gender.png');"
      ],
      "metadata": {
        "colab": {
          "base_uri": "https://localhost:8080/",
          "height": 621
        },
        "id": "QIdPxXmEx4W_",
        "outputId": "ebcf19e9-17d2-4a20-fcb2-f168a90c3d5c"
      },
      "execution_count": 62,
      "outputs": [
        {
          "output_type": "display_data",
          "data": {
            "text/plain": [
              "<Figure size 1080x720 with 1 Axes>"
            ],
            "image/png": "[encoded data removed]"
          },
          "metadata": {
            "needs_background": "light"
          }
        }
      ]
    },
    {
      "cell_type": "code",
      "source": [
        "sns.distplot(df_twitter_enhanced_clean['confidence']);"
      ],
      "metadata": {
        "colab": {
          "base_uri": "https://localhost:8080/",
          "height": 335
        },
        "id": "NqNKU28CzDV_",
        "outputId": "961d2fbe-e2d4-4005-b4a9-1c7e8046f754"
      },
      "execution_count": 63,
      "outputs": [
        {
          "output_type": "stream",
          "name": "stderr",
          "text": [
            "/usr/local/lib/python3.7/dist-packages/seaborn/distributions.py:2619: FutureWarning: `distplot` is a deprecated function and will be removed in a future version. Please adapt your code to use either `displot` (a figure-level function with similar flexibility) or `histplot` (an axes-level function for histograms).\n",
            "  warnings.warn(msg, FutureWarning)\n"
          ]
        },
        {
          "output_type": "display_data",
          "data": {
            "text/plain": [
              "<Figure size 432x288 with 1 Axes>"
            ],
            "image/png": "[encoded data removed]"
          },
          "metadata": {
            "needs_background": "light"
          }
        }
      ]
    },
    {
      "cell_type": "code",
      "source": [
        "dogs_prediction =df_twitter_enhanced_clean.groupby('prediction')['tweet_id'].count()\n",
        "dogs_prediction"
      ],
      "metadata": {
        "colab": {
          "base_uri": "https://localhost:8080/"
        },
        "id": "haaFgY6x0EBP",
        "outputId": "3a8f2494-e8c3-450f-ffd5-8ad6fbb12a32"
      },
      "execution_count": 64,
      "outputs": [
        {
          "output_type": "execute_result",
          "data": {
            "text/plain": [
              "prediction\n",
              "Afghan_hound                       3\n",
              "Airedale                          12\n",
              "American_Staffordshire_terrier    15\n",
              "Appenzeller                        2\n",
              "Australian_terrier                 2\n",
              "                                  ..\n",
              "toy_poodle                        50\n",
              "toy_terrier                        3\n",
              "vizsla                            13\n",
              "whippet                           11\n",
              "wire-haired_fox_terrier            2\n",
              "Name: tweet_id, Length: 113, dtype: int64"
            ]
          },
          "metadata": {},
          "execution_count": 64
        }
      ]
    },
    {
      "cell_type": "code",
      "source": [
        "dogs_prediction.astype(int)"
      ],
      "metadata": {
        "colab": {
          "base_uri": "https://localhost:8080/"
        },
        "id": "kr9IYv0A1L8M",
        "outputId": "d6a4d2aa-8d1f-406b-95ea-fe0d744e9989"
      },
      "execution_count": 65,
      "outputs": [
        {
          "output_type": "execute_result",
          "data": {
            "text/plain": [
              "prediction\n",
              "Afghan_hound                       3\n",
              "Airedale                          12\n",
              "American_Staffordshire_terrier    15\n",
              "Appenzeller                        2\n",
              "Australian_terrier                 2\n",
              "                                  ..\n",
              "toy_poodle                        50\n",
              "toy_terrier                        3\n",
              "vizsla                            13\n",
              "whippet                           11\n",
              "wire-haired_fox_terrier            2\n",
              "Name: tweet_id, Length: 113, dtype: int64"
            ]
          },
          "metadata": {},
          "execution_count": 65
        }
      ]
    },
    {
      "cell_type": "code",
      "source": [
        "sns.distplot(dogs_prediction.astype(int));"
      ],
      "metadata": {
        "colab": {
          "base_uri": "https://localhost:8080/",
          "height": 336
        },
        "id": "rHshdbSX1YMA",
        "outputId": "44bd0e8e-4277-4c43-ebd3-bdddc5ed2a9f"
      },
      "execution_count": 66,
      "outputs": [
        {
          "output_type": "stream",
          "name": "stderr",
          "text": [
            "/usr/local/lib/python3.7/dist-packages/seaborn/distributions.py:2619: FutureWarning: `distplot` is a deprecated function and will be removed in a future version. Please adapt your code to use either `displot` (a figure-level function with similar flexibility) or `histplot` (an axes-level function for histograms).\n",
            "  warnings.warn(msg, FutureWarning)\n"
          ]
        },
        {
          "output_type": "display_data",
          "data": {
            "text/plain": [
              "<Figure size 432x288 with 1 Axes>"
            ],
            "image/png": "[encoded data removed]"
          },
          "metadata": {
            "needs_background": "light"
          }
        }
      ]
    },
    {
      "cell_type": "code",
      "source": [
        "# !jupyter nbconvert <Notebook_name>.ipynb --to slides --post serve --no-input --no-prompt"
      ],
      "metadata": {
        "colab": {
          "base_uri": "https://localhost:8080/"
        },
        "id": "9pZ677LGGdEp",
        "outputId": "4798905a-30c5-4a8a-b8af-2184c0fd4537"
      },
      "execution_count": null,
      "outputs": [
        {
          "output_type": "stream",
          "name": "stdout",
          "text": [
            "/bin/bash: Notebook_name: No such file or directory\n"
          ]
        }
      ]
    }
  ]
}