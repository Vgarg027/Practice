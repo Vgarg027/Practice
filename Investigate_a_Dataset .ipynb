{
 "cells": [
  {
   "cell_type": "markdown",
   "metadata": {},
   "source": [
    "\n",
    "\n",
    "\n",
    "# Project: Investigate a Dataset - [Dataset-name]\n",
    "\n",
    "## Table of Contents\n",
    "<ul>\n",
    "<li><a href=\"#intro\">Introduction</a></li>\n",
    "<li><a href=\"#wrangling\">Data Wrangling</a></li>\n",
    "<li><a href=\"#eda\">Exploratory Data Analysis</a></li>\n",
    "<li><a href=\"#conclusions\">Conclusions</a></li>\n",
    "</ul>"
   ]
  },
  {
   "cell_type": "markdown",
   "metadata": {},
   "source": [
    "<a id='intro'></a>\n",
    "## Introduction\n",
    "\n",
    "### Dataset Description \n",
    "\n",
    "> This data set from TMBD  focuses on the information about 10,000 movies, including user perception and the revenue of each movie.\n",
    "the structure of this data set has 21 columns such as imdb_id, revenue, budget, vote_count etc.\n",
    "the mian objective of the project is answering the key questions that truly detrmine our understanding of the data set.\n",
    "\n",
    "\n",
    "### Question(s) for Analysis\n",
    "\n",
    "<ul>\n",
    "    <li>What were the most popular produced genres in 1995 compared to 2015? </li>\n",
    "    <li>Which genres are most popular from year to year?</li>\n",
    "    <li>make diagram to show the total earned profit vs release year</li>\n",
    "    <li>what is the total revenue of all movies each year</li>\n",
    "</ul>"
   ]
  },
  {
   "cell_type": "code",
   "execution_count": 1,
   "metadata": {},
   "outputs": [],
   "source": [
    "# Use this cell to set up import statements for all of the packages that you\n",
    "import pandas as pd\n",
    "import numpy as np\n",
    "import matplotlib.pyplot as plt\n",
    "%matplotlib inline\n",
    "pd.options.display.float_format = '{:.2f}'.format"
   ]
  },
  {
   "cell_type": "code",
   "execution_count": null,
   "metadata": {},
   "outputs": [],
   "source": [
    " # Upgrade pandas to use dataframe.explode() function. \n",
    "!pip install --upgrade pandas==0.25.0"
   ]
  },
  {
   "cell_type": "markdown",
   "metadata": {},
   "source": [
    "<a id='wrangling'></a>\n",
    "## Data Wrangling\n",
    " \n",
    " After monetoring the dataset and suggested questions. For the analysis we will be keeping only essential data and deleting the dublicated and null(non-valued) data so that we can make our analysis easy and managable for the common users. \n",
    "\n",
    "\n"
   ]
  },
  {
   "cell_type": "code",
   "execution_count": 2,
   "metadata": {},
   "outputs": [
    {
     "data": {
      "text/html": [
       "<div>\n",
       "<style scoped>\n",
       "    .dataframe tbody tr th:only-of-type {\n",
       "        vertical-align: middle;\n",
       "    }\n",
       "\n",
       "    .dataframe tbody tr th {\n",
       "        vertical-align: top;\n",
       "    }\n",
       "\n",
       "    .dataframe thead th {\n",
       "        text-align: right;\n",
       "    }\n",
       "</style>\n",
       "<table border=\"1\" class=\"dataframe\">\n",
       "  <thead>\n",
       "    <tr style=\"text-align: right;\">\n",
       "      <th></th>\n",
       "      <th>id</th>\n",
       "      <th>imdb_id</th>\n",
       "      <th>popularity</th>\n",
       "      <th>budget</th>\n",
       "      <th>revenue</th>\n",
       "      <th>original_title</th>\n",
       "      <th>cast</th>\n",
       "      <th>homepage</th>\n",
       "      <th>director</th>\n",
       "      <th>tagline</th>\n",
       "      <th>...</th>\n",
       "      <th>overview</th>\n",
       "      <th>runtime</th>\n",
       "      <th>genres</th>\n",
       "      <th>production_companies</th>\n",
       "      <th>release_date</th>\n",
       "      <th>vote_count</th>\n",
       "      <th>vote_average</th>\n",
       "      <th>release_year</th>\n",
       "      <th>budget_adj</th>\n",
       "      <th>revenue_adj</th>\n",
       "    </tr>\n",
       "  </thead>\n",
       "  <tbody>\n",
       "    <tr>\n",
       "      <th>0</th>\n",
       "      <td>135397</td>\n",
       "      <td>tt0369610</td>\n",
       "      <td>32.99</td>\n",
       "      <td>150000000</td>\n",
       "      <td>1513528810</td>\n",
       "      <td>Jurassic World</td>\n",
       "      <td>Chris Pratt|Bryce Dallas Howard|Irrfan Khan|Vi...</td>\n",
       "      <td>http://www.jurassicworld.com/</td>\n",
       "      <td>Colin Trevorrow</td>\n",
       "      <td>The park is open.</td>\n",
       "      <td>...</td>\n",
       "      <td>Twenty-two years after the events of Jurassic ...</td>\n",
       "      <td>124</td>\n",
       "      <td>Action|Adventure|Science Fiction|Thriller</td>\n",
       "      <td>Universal Studios|Amblin Entertainment|Legenda...</td>\n",
       "      <td>6/9/15</td>\n",
       "      <td>5562</td>\n",
       "      <td>6.50</td>\n",
       "      <td>2015</td>\n",
       "      <td>137999939.28</td>\n",
       "      <td>1392445892.52</td>\n",
       "    </tr>\n",
       "    <tr>\n",
       "      <th>1</th>\n",
       "      <td>76341</td>\n",
       "      <td>tt1392190</td>\n",
       "      <td>28.42</td>\n",
       "      <td>150000000</td>\n",
       "      <td>378436354</td>\n",
       "      <td>Mad Max: Fury Road</td>\n",
       "      <td>Tom Hardy|Charlize Theron|Hugh Keays-Byrne|Nic...</td>\n",
       "      <td>http://www.madmaxmovie.com/</td>\n",
       "      <td>George Miller</td>\n",
       "      <td>What a Lovely Day.</td>\n",
       "      <td>...</td>\n",
       "      <td>An apocalyptic story set in the furthest reach...</td>\n",
       "      <td>120</td>\n",
       "      <td>Action|Adventure|Science Fiction|Thriller</td>\n",
       "      <td>Village Roadshow Pictures|Kennedy Miller Produ...</td>\n",
       "      <td>5/13/15</td>\n",
       "      <td>6185</td>\n",
       "      <td>7.10</td>\n",
       "      <td>2015</td>\n",
       "      <td>137999939.28</td>\n",
       "      <td>348161292.49</td>\n",
       "    </tr>\n",
       "    <tr>\n",
       "      <th>2</th>\n",
       "      <td>262500</td>\n",
       "      <td>tt2908446</td>\n",
       "      <td>13.11</td>\n",
       "      <td>110000000</td>\n",
       "      <td>295238201</td>\n",
       "      <td>Insurgent</td>\n",
       "      <td>Shailene Woodley|Theo James|Kate Winslet|Ansel...</td>\n",
       "      <td>http://www.thedivergentseries.movie/#insurgent</td>\n",
       "      <td>Robert Schwentke</td>\n",
       "      <td>One Choice Can Destroy You</td>\n",
       "      <td>...</td>\n",
       "      <td>Beatrice Prior must confront her inner demons ...</td>\n",
       "      <td>119</td>\n",
       "      <td>Adventure|Science Fiction|Thriller</td>\n",
       "      <td>Summit Entertainment|Mandeville Films|Red Wago...</td>\n",
       "      <td>3/18/15</td>\n",
       "      <td>2480</td>\n",
       "      <td>6.30</td>\n",
       "      <td>2015</td>\n",
       "      <td>101199955.47</td>\n",
       "      <td>271619025.41</td>\n",
       "    </tr>\n",
       "    <tr>\n",
       "      <th>3</th>\n",
       "      <td>140607</td>\n",
       "      <td>tt2488496</td>\n",
       "      <td>11.17</td>\n",
       "      <td>200000000</td>\n",
       "      <td>2068178225</td>\n",
       "      <td>Star Wars: The Force Awakens</td>\n",
       "      <td>Harrison Ford|Mark Hamill|Carrie Fisher|Adam D...</td>\n",
       "      <td>http://www.starwars.com/films/star-wars-episod...</td>\n",
       "      <td>J.J. Abrams</td>\n",
       "      <td>Every generation has a story.</td>\n",
       "      <td>...</td>\n",
       "      <td>Thirty years after defeating the Galactic Empi...</td>\n",
       "      <td>136</td>\n",
       "      <td>Action|Adventure|Science Fiction|Fantasy</td>\n",
       "      <td>Lucasfilm|Truenorth Productions|Bad Robot</td>\n",
       "      <td>12/15/15</td>\n",
       "      <td>5292</td>\n",
       "      <td>7.50</td>\n",
       "      <td>2015</td>\n",
       "      <td>183999919.04</td>\n",
       "      <td>1902723129.80</td>\n",
       "    </tr>\n",
       "    <tr>\n",
       "      <th>4</th>\n",
       "      <td>168259</td>\n",
       "      <td>tt2820852</td>\n",
       "      <td>9.34</td>\n",
       "      <td>190000000</td>\n",
       "      <td>1506249360</td>\n",
       "      <td>Furious 7</td>\n",
       "      <td>Vin Diesel|Paul Walker|Jason Statham|Michelle ...</td>\n",
       "      <td>http://www.furious7.com/</td>\n",
       "      <td>James Wan</td>\n",
       "      <td>Vengeance Hits Home</td>\n",
       "      <td>...</td>\n",
       "      <td>Deckard Shaw seeks revenge against Dominic Tor...</td>\n",
       "      <td>137</td>\n",
       "      <td>Action|Crime|Thriller</td>\n",
       "      <td>Universal Pictures|Original Film|Media Rights ...</td>\n",
       "      <td>4/1/15</td>\n",
       "      <td>2947</td>\n",
       "      <td>7.30</td>\n",
       "      <td>2015</td>\n",
       "      <td>174799923.09</td>\n",
       "      <td>1385748801.47</td>\n",
       "    </tr>\n",
       "  </tbody>\n",
       "</table>\n",
       "<p>5 rows × 21 columns</p>\n",
       "</div>"
      ],
      "text/plain": [
       "       id    imdb_id  popularity     budget     revenue  \\\n",
       "0  135397  tt0369610       32.99  150000000  1513528810   \n",
       "1   76341  tt1392190       28.42  150000000   378436354   \n",
       "2  262500  tt2908446       13.11  110000000   295238201   \n",
       "3  140607  tt2488496       11.17  200000000  2068178225   \n",
       "4  168259  tt2820852        9.34  190000000  1506249360   \n",
       "\n",
       "                 original_title  \\\n",
       "0                Jurassic World   \n",
       "1            Mad Max: Fury Road   \n",
       "2                     Insurgent   \n",
       "3  Star Wars: The Force Awakens   \n",
       "4                     Furious 7   \n",
       "\n",
       "                                                cast  \\\n",
       "0  Chris Pratt|Bryce Dallas Howard|Irrfan Khan|Vi...   \n",
       "1  Tom Hardy|Charlize Theron|Hugh Keays-Byrne|Nic...   \n",
       "2  Shailene Woodley|Theo James|Kate Winslet|Ansel...   \n",
       "3  Harrison Ford|Mark Hamill|Carrie Fisher|Adam D...   \n",
       "4  Vin Diesel|Paul Walker|Jason Statham|Michelle ...   \n",
       "\n",
       "                                            homepage          director  \\\n",
       "0                      http://www.jurassicworld.com/   Colin Trevorrow   \n",
       "1                        http://www.madmaxmovie.com/     George Miller   \n",
       "2     http://www.thedivergentseries.movie/#insurgent  Robert Schwentke   \n",
       "3  http://www.starwars.com/films/star-wars-episod...       J.J. Abrams   \n",
       "4                           http://www.furious7.com/         James Wan   \n",
       "\n",
       "                         tagline  ...  \\\n",
       "0              The park is open.  ...   \n",
       "1             What a Lovely Day.  ...   \n",
       "2     One Choice Can Destroy You  ...   \n",
       "3  Every generation has a story.  ...   \n",
       "4            Vengeance Hits Home  ...   \n",
       "\n",
       "                                            overview runtime  \\\n",
       "0  Twenty-two years after the events of Jurassic ...     124   \n",
       "1  An apocalyptic story set in the furthest reach...     120   \n",
       "2  Beatrice Prior must confront her inner demons ...     119   \n",
       "3  Thirty years after defeating the Galactic Empi...     136   \n",
       "4  Deckard Shaw seeks revenge against Dominic Tor...     137   \n",
       "\n",
       "                                      genres  \\\n",
       "0  Action|Adventure|Science Fiction|Thriller   \n",
       "1  Action|Adventure|Science Fiction|Thriller   \n",
       "2         Adventure|Science Fiction|Thriller   \n",
       "3   Action|Adventure|Science Fiction|Fantasy   \n",
       "4                      Action|Crime|Thriller   \n",
       "\n",
       "                                production_companies release_date vote_count  \\\n",
       "0  Universal Studios|Amblin Entertainment|Legenda...       6/9/15       5562   \n",
       "1  Village Roadshow Pictures|Kennedy Miller Produ...      5/13/15       6185   \n",
       "2  Summit Entertainment|Mandeville Films|Red Wago...      3/18/15       2480   \n",
       "3          Lucasfilm|Truenorth Productions|Bad Robot     12/15/15       5292   \n",
       "4  Universal Pictures|Original Film|Media Rights ...       4/1/15       2947   \n",
       "\n",
       "   vote_average  release_year   budget_adj   revenue_adj  \n",
       "0          6.50          2015 137999939.28 1392445892.52  \n",
       "1          7.10          2015 137999939.28  348161292.49  \n",
       "2          6.30          2015 101199955.47  271619025.41  \n",
       "3          7.50          2015 183999919.04 1902723129.80  \n",
       "4          7.30          2015 174799923.09 1385748801.47  \n",
       "\n",
       "[5 rows x 21 columns]"
      ]
     },
     "execution_count": 2,
     "metadata": {},
     "output_type": "execute_result"
    }
   ],
   "source": [
    "# Load your data and print out a few lines. Perform operations to inspect data\n",
    "tmdb = pd.read_csv('tmdb-movies.csv')\n",
    "#print the first five row of tmdb dataset\n",
    "tmdb.head()\n"
   ]
  },
  {
   "cell_type": "markdown",
   "metadata": {},
   "source": [
    "### show dataset description"
   ]
  },
  {
   "cell_type": "code",
   "execution_count": 3,
   "metadata": {},
   "outputs": [
    {
     "data": {
      "text/html": [
       "<div>\n",
       "<style scoped>\n",
       "    .dataframe tbody tr th:only-of-type {\n",
       "        vertical-align: middle;\n",
       "    }\n",
       "\n",
       "    .dataframe tbody tr th {\n",
       "        vertical-align: top;\n",
       "    }\n",
       "\n",
       "    .dataframe thead th {\n",
       "        text-align: right;\n",
       "    }\n",
       "</style>\n",
       "<table border=\"1\" class=\"dataframe\">\n",
       "  <thead>\n",
       "    <tr style=\"text-align: right;\">\n",
       "      <th></th>\n",
       "      <th>id</th>\n",
       "      <th>popularity</th>\n",
       "      <th>budget</th>\n",
       "      <th>revenue</th>\n",
       "      <th>runtime</th>\n",
       "      <th>vote_count</th>\n",
       "      <th>vote_average</th>\n",
       "      <th>release_year</th>\n",
       "      <th>budget_adj</th>\n",
       "      <th>revenue_adj</th>\n",
       "    </tr>\n",
       "  </thead>\n",
       "  <tbody>\n",
       "    <tr>\n",
       "      <th>count</th>\n",
       "      <td>10866.00</td>\n",
       "      <td>10866.00</td>\n",
       "      <td>10866.00</td>\n",
       "      <td>10866.00</td>\n",
       "      <td>10866.00</td>\n",
       "      <td>10866.00</td>\n",
       "      <td>10866.00</td>\n",
       "      <td>10866.00</td>\n",
       "      <td>10866.00</td>\n",
       "      <td>10866.00</td>\n",
       "    </tr>\n",
       "    <tr>\n",
       "      <th>mean</th>\n",
       "      <td>66064.18</td>\n",
       "      <td>0.65</td>\n",
       "      <td>14625701.09</td>\n",
       "      <td>39823319.79</td>\n",
       "      <td>102.07</td>\n",
       "      <td>217.39</td>\n",
       "      <td>5.97</td>\n",
       "      <td>2001.32</td>\n",
       "      <td>17551039.82</td>\n",
       "      <td>51364363.25</td>\n",
       "    </tr>\n",
       "    <tr>\n",
       "      <th>std</th>\n",
       "      <td>92130.14</td>\n",
       "      <td>1.00</td>\n",
       "      <td>30913213.83</td>\n",
       "      <td>117003486.58</td>\n",
       "      <td>31.38</td>\n",
       "      <td>575.62</td>\n",
       "      <td>0.94</td>\n",
       "      <td>12.81</td>\n",
       "      <td>34306155.72</td>\n",
       "      <td>144632485.04</td>\n",
       "    </tr>\n",
       "    <tr>\n",
       "      <th>min</th>\n",
       "      <td>5.00</td>\n",
       "      <td>0.00</td>\n",
       "      <td>0.00</td>\n",
       "      <td>0.00</td>\n",
       "      <td>0.00</td>\n",
       "      <td>10.00</td>\n",
       "      <td>1.50</td>\n",
       "      <td>1960.00</td>\n",
       "      <td>0.00</td>\n",
       "      <td>0.00</td>\n",
       "    </tr>\n",
       "    <tr>\n",
       "      <th>25%</th>\n",
       "      <td>10596.25</td>\n",
       "      <td>0.21</td>\n",
       "      <td>0.00</td>\n",
       "      <td>0.00</td>\n",
       "      <td>90.00</td>\n",
       "      <td>17.00</td>\n",
       "      <td>5.40</td>\n",
       "      <td>1995.00</td>\n",
       "      <td>0.00</td>\n",
       "      <td>0.00</td>\n",
       "    </tr>\n",
       "    <tr>\n",
       "      <th>50%</th>\n",
       "      <td>20669.00</td>\n",
       "      <td>0.38</td>\n",
       "      <td>0.00</td>\n",
       "      <td>0.00</td>\n",
       "      <td>99.00</td>\n",
       "      <td>38.00</td>\n",
       "      <td>6.00</td>\n",
       "      <td>2006.00</td>\n",
       "      <td>0.00</td>\n",
       "      <td>0.00</td>\n",
       "    </tr>\n",
       "    <tr>\n",
       "      <th>75%</th>\n",
       "      <td>75610.00</td>\n",
       "      <td>0.71</td>\n",
       "      <td>15000000.00</td>\n",
       "      <td>24000000.00</td>\n",
       "      <td>111.00</td>\n",
       "      <td>145.75</td>\n",
       "      <td>6.60</td>\n",
       "      <td>2011.00</td>\n",
       "      <td>20853251.08</td>\n",
       "      <td>33697095.72</td>\n",
       "    </tr>\n",
       "    <tr>\n",
       "      <th>max</th>\n",
       "      <td>417859.00</td>\n",
       "      <td>32.99</td>\n",
       "      <td>425000000.00</td>\n",
       "      <td>2781505847.00</td>\n",
       "      <td>900.00</td>\n",
       "      <td>9767.00</td>\n",
       "      <td>9.20</td>\n",
       "      <td>2015.00</td>\n",
       "      <td>425000000.00</td>\n",
       "      <td>2827123750.41</td>\n",
       "    </tr>\n",
       "  </tbody>\n",
       "</table>\n",
       "</div>"
      ],
      "text/plain": [
       "             id  popularity       budget       revenue  runtime  vote_count  \\\n",
       "count  10866.00    10866.00     10866.00      10866.00 10866.00    10866.00   \n",
       "mean   66064.18        0.65  14625701.09   39823319.79   102.07      217.39   \n",
       "std    92130.14        1.00  30913213.83  117003486.58    31.38      575.62   \n",
       "min        5.00        0.00         0.00          0.00     0.00       10.00   \n",
       "25%    10596.25        0.21         0.00          0.00    90.00       17.00   \n",
       "50%    20669.00        0.38         0.00          0.00    99.00       38.00   \n",
       "75%    75610.00        0.71  15000000.00   24000000.00   111.00      145.75   \n",
       "max   417859.00       32.99 425000000.00 2781505847.00   900.00     9767.00   \n",
       "\n",
       "       vote_average  release_year   budget_adj   revenue_adj  \n",
       "count      10866.00      10866.00     10866.00      10866.00  \n",
       "mean           5.97       2001.32  17551039.82   51364363.25  \n",
       "std            0.94         12.81  34306155.72  144632485.04  \n",
       "min            1.50       1960.00         0.00          0.00  \n",
       "25%            5.40       1995.00         0.00          0.00  \n",
       "50%            6.00       2006.00         0.00          0.00  \n",
       "75%            6.60       2011.00  20853251.08   33697095.72  \n",
       "max            9.20       2015.00 425000000.00 2827123750.41  "
      ]
     },
     "execution_count": 3,
     "metadata": {},
     "output_type": "execute_result"
    }
   ],
   "source": [
    "#show the description of dataset (mean,count ,min,max) to investigate data\n",
    "tmdb.describe()\n"
   ]
  },
  {
   "cell_type": "markdown",
   "metadata": {},
   "source": [
    "\n",
    "### Data Cleaning\n",
    "the main goal will be to remove unused columns that we won't be needing such as id, imdb_id, vote_count, production_company, keywords, homepage etc.\n",
    " we'll also be foucing on Changing format of budget and revenue column and Replacing zero with NAN in runtime column.\n",
    " there are Some movies in the database that have zero budget or zero revenue, that indicates that there are values has not been recorded so we will be getting rid of them such entries.\n",
    " one more important technique that we'll be using is Changing release date column into date format, and also Removing the duplicacy in the rows(if needed).\n",
    " "
   ]
  },
  {
   "cell_type": "code",
   "execution_count": 4,
   "metadata": {},
   "outputs": [
    {
     "name": "stdout",
     "output_type": "stream",
     "text": [
      "<class 'pandas.core.frame.DataFrame'>\n",
      "RangeIndex: 10866 entries, 0 to 10865\n",
      "Data columns (total 21 columns):\n",
      " #   Column                Non-Null Count  Dtype  \n",
      "---  ------                --------------  -----  \n",
      " 0   id                    10866 non-null  int64  \n",
      " 1   imdb_id               10856 non-null  object \n",
      " 2   popularity            10866 non-null  float64\n",
      " 3   budget                10866 non-null  int64  \n",
      " 4   revenue               10866 non-null  int64  \n",
      " 5   original_title        10866 non-null  object \n",
      " 6   cast                  10790 non-null  object \n",
      " 7   homepage              2936 non-null   object \n",
      " 8   director              10822 non-null  object \n",
      " 9   tagline               8042 non-null   object \n",
      " 10  keywords              9373 non-null   object \n",
      " 11  overview              10862 non-null  object \n",
      " 12  runtime               10866 non-null  int64  \n",
      " 13  genres                10843 non-null  object \n",
      " 14  production_companies  9836 non-null   object \n",
      " 15  release_date          10866 non-null  object \n",
      " 16  vote_count            10866 non-null  int64  \n",
      " 17  vote_average          10866 non-null  float64\n",
      " 18  release_year          10866 non-null  int64  \n",
      " 19  budget_adj            10866 non-null  float64\n",
      " 20  revenue_adj           10866 non-null  float64\n",
      "dtypes: float64(4), int64(6), object(11)\n",
      "memory usage: 1.7+ MB\n"
     ]
    }
   ],
   "source": [
    "#get information about data\n",
    "tmdb.info()"
   ]
  },
  {
   "cell_type": "markdown",
   "metadata": {},
   "source": [
    "### Show diagram to describe each column in data"
   ]
  },
  {
   "cell_type": "code",
   "execution_count": 5,
   "metadata": {},
   "outputs": [
    {
     "data": {
      "text/plain": [
       "array([[<AxesSubplot:title={'center':'id'}>,\n",
       "        <AxesSubplot:title={'center':'popularity'}>,\n",
       "        <AxesSubplot:title={'center':'budget'}>],\n",
       "       [<AxesSubplot:title={'center':'revenue'}>,\n",
       "        <AxesSubplot:title={'center':'runtime'}>,\n",
       "        <AxesSubplot:title={'center':'vote_count'}>],\n",
       "       [<AxesSubplot:title={'center':'vote_average'}>,\n",
       "        <AxesSubplot:title={'center':'release_year'}>,\n",
       "        <AxesSubplot:title={'center':'budget_adj'}>],\n",
       "       [<AxesSubplot:title={'center':'revenue_adj'}>, <AxesSubplot:>,\n",
       "        <AxesSubplot:>]], dtype=object)"
      ]
     },
     "execution_count": 5,
     "metadata": {},
     "output_type": "execute_result"
    },
    {
     "data": {
      "image/png": "[encoded data removed]",
      "text/plain": [
       "<Figure size 936x936 with 12 Axes>"
      ]
     },
     "metadata": {
      "needs_background": "light"
     },
     "output_type": "display_data"
    }
   ],
   "source": [
    "#create a histogram to get overview on our data\n",
    "tmdb.hist(figsize=(13,13))"
   ]
  },
  {
   "cell_type": "markdown",
   "metadata": {},
   "source": [
    "### check  how many rows with dublication"
   ]
  },
  {
   "cell_type": "code",
   "execution_count": 6,
   "metadata": {},
   "outputs": [
    {
     "data": {
      "text/plain": [
       "1"
      ]
     },
     "execution_count": 6,
     "metadata": {},
     "output_type": "execute_result"
    }
   ],
   "source": [
    "tmdb.duplicated().sum()"
   ]
  },
  {
   "cell_type": "markdown",
   "metadata": {},
   "source": [
    "### remove dublication  "
   ]
  },
  {
   "cell_type": "code",
   "execution_count": 7,
   "metadata": {},
   "outputs": [],
   "source": [
    "#remove dublicated rows\n",
    "tmdb.drop_duplicates(keep ='first', inplace=True)\n"
   ]
  },
  {
   "cell_type": "code",
   "execution_count": 8,
   "metadata": {},
   "outputs": [
    {
     "name": "stdout",
     "output_type": "stream",
     "text": [
      "number of rows: 10865 columns: 21\n"
     ]
    },
    {
     "data": {
      "text/plain": [
       "id                      False\n",
       "imdb_id                  True\n",
       "popularity              False\n",
       "budget                  False\n",
       "revenue                 False\n",
       "original_title          False\n",
       "cast                     True\n",
       "homepage                 True\n",
       "director                 True\n",
       "tagline                  True\n",
       "keywords                 True\n",
       "overview                 True\n",
       "runtime                 False\n",
       "genres                   True\n",
       "production_companies     True\n",
       "release_date            False\n",
       "vote_count              False\n",
       "vote_average            False\n",
       "release_year            False\n",
       "budget_adj              False\n",
       "revenue_adj             False\n",
       "dtype: bool"
      ]
     },
     "execution_count": 8,
     "metadata": {},
     "output_type": "execute_result"
    }
   ],
   "source": [
    "#show the number of columns and rows\n",
    "print(\"number of rows: {} columns: {}\".format(tmdb.shape[0],tmdb.shape[1]))\n",
    "#show columns have a null values\n",
    "tmdb.isnull().any()\n"
   ]
  },
  {
   "cell_type": "markdown",
   "metadata": {},
   "source": [
    "### Removing null vlaues"
   ]
  },
  {
   "cell_type": "code",
   "execution_count": 9,
   "metadata": {},
   "outputs": [
    {
     "data": {
      "text/plain": [
       "id                      False\n",
       "imdb_id                 False\n",
       "popularity              False\n",
       "budget                  False\n",
       "revenue                 False\n",
       "original_title          False\n",
       "cast                    False\n",
       "homepage                False\n",
       "director                False\n",
       "tagline                 False\n",
       "keywords                False\n",
       "overview                False\n",
       "runtime                 False\n",
       "genres                  False\n",
       "production_companies    False\n",
       "release_date            False\n",
       "vote_count              False\n",
       "vote_average            False\n",
       "release_year            False\n",
       "budget_adj              False\n",
       "revenue_adj             False\n",
       "dtype: bool"
      ]
     },
     "execution_count": 9,
     "metadata": {},
     "output_type": "execute_result"
    }
   ],
   "source": [
    "#remove null values in rows\n",
    "tmdb['director'].replace(0, np.NAN, inplace=True)\n",
    "tmdb['genres'].replace(0, np.NAN, inplace=True)\n",
    "tmdb['cast'].replace(0, np.NAN, inplace=True)\n",
    "tmdb['tagline'].replace(0, np.NAN, inplace=True)\n",
    "tmdb['production_companies'].replace(0, np.NAN, inplace=True)\n",
    "tmdb['overview'].replace(0, np.NAN, inplace=True)\n",
    "tmdb['keywords'].replace(0, np.NAN, inplace=True)\n",
    "tmdb['homepage'].replace(0, np.NAN, inplace=True)\n",
    "tmdb.dropna(axis=0, inplace=True)\n",
    "#ensure that all null values removed\n",
    "tmdb.isnull().any()\n"
   ]
  },
  {
   "cell_type": "markdown",
   "metadata": {},
   "source": [
    "### Replace zeros values in runtime column"
   ]
  },
  {
   "cell_type": "code",
   "execution_count": 10,
   "metadata": {},
   "outputs": [],
   "source": [
    "tmdb['runtime'] =tmdb['runtime'].replace(0, np.NAN)"
   ]
  },
  {
   "cell_type": "markdown",
   "metadata": {},
   "source": [
    "## show the data type of dataset"
   ]
  },
  {
   "cell_type": "code",
   "execution_count": 11,
   "metadata": {},
   "outputs": [
    {
     "data": {
      "text/plain": [
       "id                        int64\n",
       "imdb_id                  object\n",
       "popularity              float64\n",
       "budget                    int64\n",
       "revenue                   int64\n",
       "original_title           object\n",
       "cast                     object\n",
       "homepage                 object\n",
       "director                 object\n",
       "tagline                  object\n",
       "keywords                 object\n",
       "overview                 object\n",
       "runtime                 float64\n",
       "genres                   object\n",
       "production_companies     object\n",
       "release_date             object\n",
       "vote_count                int64\n",
       "vote_average            float64\n",
       "release_year              int64\n",
       "budget_adj              float64\n",
       "revenue_adj             float64\n",
       "dtype: object"
      ]
     },
     "execution_count": 11,
     "metadata": {},
     "output_type": "execute_result"
    }
   ],
   "source": [
    "tmdb.dtypes"
   ]
  },
  {
   "cell_type": "markdown",
   "metadata": {},
   "source": [
    "### change data type of budget and revenue to int"
   ]
  },
  {
   "cell_type": "code",
   "execution_count": 12,
   "metadata": {},
   "outputs": [
    {
     "data": {
      "text/plain": [
       "id                        int64\n",
       "imdb_id                  object\n",
       "popularity              float64\n",
       "budget                    int64\n",
       "revenue                   int64\n",
       "original_title           object\n",
       "cast                     object\n",
       "homepage                 object\n",
       "director                 object\n",
       "tagline                  object\n",
       "keywords                 object\n",
       "overview                 object\n",
       "runtime                 float64\n",
       "genres                   object\n",
       "production_companies     object\n",
       "release_date             object\n",
       "vote_count                int64\n",
       "vote_average            float64\n",
       "release_year              int64\n",
       "budget_adj              float64\n",
       "revenue_adj             float64\n",
       "dtype: object"
      ]
     },
     "execution_count": 12,
     "metadata": {},
     "output_type": "execute_result"
    }
   ],
   "source": [
    "list_change_types=['budget', 'revenue']\n",
    "tmdb[list_change_types]=tmdb[list_change_types].applymap(np.int64)\n",
    "tmdb.dtypes"
   ]
  },
  {
   "cell_type": "markdown",
   "metadata": {},
   "source": [
    "<a id='eda'></a>\n",
    "## Exploratory Data Analysis\n",
    "\n",
    "\n",
    "\n",
    "### 1- what is Average runtime of the movies"
   ]
  },
  {
   "cell_type": "markdown",
   "metadata": {},
   "source": [
    "in this question will discuss the average runtime of movies and make it understandable as plot diagram"
   ]
  },
  {
   "cell_type": "code",
   "execution_count": 13,
   "metadata": {},
   "outputs": [
    {
     "name": "stdout",
     "output_type": "stream",
     "text": [
      "The average of movies runtime : 106.14673366834171\n"
     ]
    }
   ],
   "source": [
    "# create a function to calculate the mean for any column\n",
    "def average_function(column):\n",
    "    return tmdb[column].mean()\n",
    "print('The average of movies runtime : {}'.format(average_function('runtime')))"
   ]
  },
  {
   "cell_type": "markdown",
   "metadata": {},
   "source": [
    "##### create a diagram function to show the average runtime of movies"
   ]
  },
  {
   "cell_type": "code",
   "execution_count": 14,
   "metadata": {},
   "outputs": [
    {
     "data": {
      "image/png": "[encoded data removed]",
      "text/plain": [
       "<Figure size 900x500 with 1 Axes>"
      ]
     },
     "metadata": {
      "needs_background": "light"
     },
     "output_type": "display_data"
    }
   ],
   "source": [
    "#create a plot graph for runtime of movies\n",
    "\n",
    "plt.figure(figsize=(9,5), dpi = 100)\n",
    "plt.xlabel('Movies Runtime', fontsize = 13)\n",
    "plt.ylabel('number of movies in dataset', fontsize=13)\n",
    "#Name of the graph\n",
    "plt.title('Runtime of all the movies', fontsize=13)\n",
    "\n",
    "#giving a histogram plot\n",
    "plt.hist(tmdb['runtime'], rwidth = 0.9, bins =35)\n",
    "#displays the plot\n",
    "plt.show()"
   ]
  },
  {
   "cell_type": "markdown",
   "metadata": {},
   "source": [
    "## 2- show wich movies have more popularity long movie or short movie"
   ]
  },
  {
   "cell_type": "markdown",
   "metadata": {},
   "source": [
    "in this question will explore which movies better that have long or short time"
   ]
  },
  {
   "cell_type": "code",
   "execution_count": 15,
   "metadata": {},
   "outputs": [
    {
     "data": {
      "image/png": "[encoded data removed]",
      "text/plain": [
       "<Figure size 864x576 with 1 Axes>"
      ]
     },
     "metadata": {
      "needs_background": "light"
     },
     "output_type": "display_data"
    }
   ],
   "source": [
    "plt.figure(figsize = (12, 8)) # size of the figure\n",
    "scatter = plt.scatter(tmdb['runtime'],\n",
    "            tmdb['popularity'], \n",
    "            alpha = 0.6) #transparency level of points on the plot. Used to avoid overplotting\n",
    "            \n",
    "# add and format additional elements, such as legends, titles and axis labels\n",
    "plt.title(\"Run time popularity\", \n",
    "          fontsize = 18, \n",
    "          weight = \"bold\")\n",
    "plt.xlabel(\"Runtime\",fontsize = 18, weight = \"bold\")\n",
    "plt.ylabel(\"Popularity\",fontsize = 18, weight = \"bold\")\n",
    "plt.show()"
   ]
  },
  {
   "cell_type": "markdown",
   "metadata": {},
   "source": [
    "## 3- what is the most popular geners"
   ]
  },
  {
   "cell_type": "markdown",
   "metadata": {},
   "source": [
    "in this question discuss which genres the audience like the most"
   ]
  },
  {
   "cell_type": "code",
   "execution_count": 16,
   "metadata": {},
   "outputs": [
    {
     "data": {
      "text/plain": [
       "Drama        838\n",
       "Comedy       640\n",
       "Thriller     575\n",
       "Action       532\n",
       "Adventure    361\n",
       "dtype: int64"
      ]
     },
     "execution_count": 16,
     "metadata": {},
     "output_type": "execute_result"
    }
   ],
   "source": [
    "def separate_fun(column):\n",
    "    #will take a column, and separate the string by '|'\n",
    "    data = tmdb[column].str.cat(sep = '|')\n",
    "    \n",
    "    #giving pandas series and storing the values separately\n",
    "    data = pd.Series(data.split('|'))\n",
    "    genre_count = data.value_counts(ascending = False)\n",
    "    return genre_count\n",
    "\n",
    "genre_count = separate_fun('genres')\n",
    "\n",
    "genre_count.head()"
   ]
  },
  {
   "cell_type": "markdown",
   "metadata": {},
   "source": [
    "#### Horizontal plot diagram to show the top popular genres"
   ]
  },
  {
   "cell_type": "code",
   "execution_count": 17,
   "metadata": {},
   "outputs": [
    {
     "data": {
      "image/png": "[encoded data removed]",
      "text/plain": [
       "<Figure size 864x648 with 1 Axes>"
      ]
     },
     "metadata": {
      "needs_background": "light"
     },
     "output_type": "display_data"
    }
   ],
   "source": [
    "genre_count.sort_values(ascending = True, inplace = True)\n",
    "\n",
    "lt = genre_count.plot.barh(color = 'green', fontsize = 13)\n",
    "\n",
    "#set the title of graph\n",
    "lt.set(title = 'The most popular genres')\n",
    "# text on x axis\n",
    "lt.set_xlabel('Number of movies', fontsize = '13')\n",
    "#set the figure size\n",
    "lt.figure.set_size_inches(12, 9)\n",
    "plt.show()\n"
   ]
  },
  {
   "cell_type": "markdown",
   "metadata": {},
   "source": [
    "## 4- which movies with least and most profit"
   ]
  },
  {
   "cell_type": "markdown",
   "metadata": {},
   "source": [
    "in this question will explore movies profit and show using graph"
   ]
  },
  {
   "cell_type": "code",
   "execution_count": 18,
   "metadata": {},
   "outputs": [],
   "source": [
    "tmdb.insert(3,'profit_total',tmdb['revenue']-tmdb['budget'])"
   ]
  },
  {
   "cell_type": "code",
   "execution_count": 19,
   "metadata": {},
   "outputs": [
    {
     "name": "stdout",
     "output_type": "stream",
     "text": [
      "Movie with least profit\n"
     ]
    },
    {
     "data": {
      "text/html": [
       "<div>\n",
       "<style scoped>\n",
       "    .dataframe tbody tr th:only-of-type {\n",
       "        vertical-align: middle;\n",
       "    }\n",
       "\n",
       "    .dataframe tbody tr th {\n",
       "        vertical-align: top;\n",
       "    }\n",
       "\n",
       "    .dataframe thead th {\n",
       "        text-align: right;\n",
       "    }\n",
       "</style>\n",
       "<table border=\"1\" class=\"dataframe\">\n",
       "  <thead>\n",
       "    <tr style=\"text-align: right;\">\n",
       "      <th></th>\n",
       "      <th>id</th>\n",
       "      <th>imdb_id</th>\n",
       "      <th>popularity</th>\n",
       "      <th>profit_total</th>\n",
       "      <th>budget</th>\n",
       "      <th>revenue</th>\n",
       "      <th>original_title</th>\n",
       "      <th>cast</th>\n",
       "      <th>homepage</th>\n",
       "      <th>director</th>\n",
       "      <th>...</th>\n",
       "      <th>overview</th>\n",
       "      <th>runtime</th>\n",
       "      <th>genres</th>\n",
       "      <th>production_companies</th>\n",
       "      <th>release_date</th>\n",
       "      <th>vote_count</th>\n",
       "      <th>vote_average</th>\n",
       "      <th>release_year</th>\n",
       "      <th>budget_adj</th>\n",
       "      <th>revenue_adj</th>\n",
       "    </tr>\n",
       "  </thead>\n",
       "  <tbody>\n",
       "    <tr>\n",
       "      <th>2244</th>\n",
       "      <td>46528</td>\n",
       "      <td>tt1032751</td>\n",
       "      <td>0.25</td>\n",
       "      <td>-413912431</td>\n",
       "      <td>425000000</td>\n",
       "      <td>11087569</td>\n",
       "      <td>The Warrior's Way</td>\n",
       "      <td>Kate Bosworth|Jang Dong-gun|Geoffrey Rush|Dann...</td>\n",
       "      <td>http://www.iamrogue.com/thewarriorsway</td>\n",
       "      <td>Sngmoo Lee</td>\n",
       "      <td>...</td>\n",
       "      <td>An Asian assassin (Dong-gun Jang) is forced to...</td>\n",
       "      <td>100.00</td>\n",
       "      <td>Adventure|Fantasy|Action|Western|Thriller</td>\n",
       "      <td>Boram Entertainment Inc.</td>\n",
       "      <td>12/2/10</td>\n",
       "      <td>74</td>\n",
       "      <td>6.40</td>\n",
       "      <td>2010</td>\n",
       "      <td>425000000.00</td>\n",
       "      <td>11087569.00</td>\n",
       "    </tr>\n",
       "  </tbody>\n",
       "</table>\n",
       "<p>1 rows × 22 columns</p>\n",
       "</div>"
      ],
      "text/plain": [
       "         id    imdb_id  popularity  profit_total     budget   revenue  \\\n",
       "2244  46528  tt1032751        0.25    -413912431  425000000  11087569   \n",
       "\n",
       "         original_title                                               cast  \\\n",
       "2244  The Warrior's Way  Kate Bosworth|Jang Dong-gun|Geoffrey Rush|Dann...   \n",
       "\n",
       "                                    homepage    director  ...  \\\n",
       "2244  http://www.iamrogue.com/thewarriorsway  Sngmoo Lee  ...   \n",
       "\n",
       "                                               overview runtime  \\\n",
       "2244  An Asian assassin (Dong-gun Jang) is forced to...  100.00   \n",
       "\n",
       "                                         genres      production_companies  \\\n",
       "2244  Adventure|Fantasy|Action|Western|Thriller  Boram Entertainment Inc.   \n",
       "\n",
       "     release_date vote_count vote_average  release_year   budget_adj  \\\n",
       "2244      12/2/10         74         6.40          2010 425000000.00   \n",
       "\n",
       "      revenue_adj  \n",
       "2244  11087569.00  \n",
       "\n",
       "[1 rows x 22 columns]"
      ]
     },
     "execution_count": 19,
     "metadata": {},
     "output_type": "execute_result"
    }
   ],
   "source": [
    "##movie with least profit\n",
    "print('Movie with least profit')\n",
    "x=tmdb['profit_total'].min()\n",
    "tmdb[tmdb['profit_total']==x]\n"
   ]
  },
  {
   "cell_type": "markdown",
   "metadata": {},
   "source": [
    "#### show movie with max profit"
   ]
  },
  {
   "cell_type": "code",
   "execution_count": 20,
   "metadata": {},
   "outputs": [
    {
     "name": "stdout",
     "output_type": "stream",
     "text": [
      "Movie with most profit\n"
     ]
    },
    {
     "data": {
      "text/html": [
       "<div>\n",
       "<style scoped>\n",
       "    .dataframe tbody tr th:only-of-type {\n",
       "        vertical-align: middle;\n",
       "    }\n",
       "\n",
       "    .dataframe tbody tr th {\n",
       "        vertical-align: top;\n",
       "    }\n",
       "\n",
       "    .dataframe thead th {\n",
       "        text-align: right;\n",
       "    }\n",
       "</style>\n",
       "<table border=\"1\" class=\"dataframe\">\n",
       "  <thead>\n",
       "    <tr style=\"text-align: right;\">\n",
       "      <th></th>\n",
       "      <th>id</th>\n",
       "      <th>imdb_id</th>\n",
       "      <th>popularity</th>\n",
       "      <th>profit_total</th>\n",
       "      <th>budget</th>\n",
       "      <th>revenue</th>\n",
       "      <th>original_title</th>\n",
       "      <th>cast</th>\n",
       "      <th>homepage</th>\n",
       "      <th>director</th>\n",
       "      <th>...</th>\n",
       "      <th>overview</th>\n",
       "      <th>runtime</th>\n",
       "      <th>genres</th>\n",
       "      <th>production_companies</th>\n",
       "      <th>release_date</th>\n",
       "      <th>vote_count</th>\n",
       "      <th>vote_average</th>\n",
       "      <th>release_year</th>\n",
       "      <th>budget_adj</th>\n",
       "      <th>revenue_adj</th>\n",
       "    </tr>\n",
       "  </thead>\n",
       "  <tbody>\n",
       "    <tr>\n",
       "      <th>1386</th>\n",
       "      <td>19995</td>\n",
       "      <td>tt0499549</td>\n",
       "      <td>9.43</td>\n",
       "      <td>2544505847</td>\n",
       "      <td>237000000</td>\n",
       "      <td>2781505847</td>\n",
       "      <td>Avatar</td>\n",
       "      <td>Sam Worthington|Zoe Saldana|Sigourney Weaver|S...</td>\n",
       "      <td>http://www.avatarmovie.com/</td>\n",
       "      <td>James Cameron</td>\n",
       "      <td>...</td>\n",
       "      <td>In the 22nd century, a paraplegic Marine is di...</td>\n",
       "      <td>162.00</td>\n",
       "      <td>Action|Adventure|Fantasy|Science Fiction</td>\n",
       "      <td>Ingenious Film Partners|Twentieth Century Fox ...</td>\n",
       "      <td>12/10/09</td>\n",
       "      <td>8458</td>\n",
       "      <td>7.10</td>\n",
       "      <td>2009</td>\n",
       "      <td>240886902.89</td>\n",
       "      <td>2827123750.41</td>\n",
       "    </tr>\n",
       "  </tbody>\n",
       "</table>\n",
       "<p>1 rows × 22 columns</p>\n",
       "</div>"
      ],
      "text/plain": [
       "         id    imdb_id  popularity  profit_total     budget     revenue  \\\n",
       "1386  19995  tt0499549        9.43    2544505847  237000000  2781505847   \n",
       "\n",
       "     original_title                                               cast  \\\n",
       "1386         Avatar  Sam Worthington|Zoe Saldana|Sigourney Weaver|S...   \n",
       "\n",
       "                         homepage       director  ...  \\\n",
       "1386  http://www.avatarmovie.com/  James Cameron  ...   \n",
       "\n",
       "                                               overview runtime  \\\n",
       "1386  In the 22nd century, a paraplegic Marine is di...  162.00   \n",
       "\n",
       "                                        genres  \\\n",
       "1386  Action|Adventure|Fantasy|Science Fiction   \n",
       "\n",
       "                                   production_companies release_date  \\\n",
       "1386  Ingenious Film Partners|Twentieth Century Fox ...     12/10/09   \n",
       "\n",
       "     vote_count vote_average  release_year   budget_adj   revenue_adj  \n",
       "1386       8458         7.10          2009 240886902.89 2827123750.41  \n",
       "\n",
       "[1 rows x 22 columns]"
      ]
     },
     "execution_count": 20,
     "metadata": {},
     "output_type": "execute_result"
    }
   ],
   "source": [
    "#movie this max profit\n",
    "print('Movie with most profit')\n",
    "x=tmdb['profit_total'].max()\n",
    "tmdb[tmdb['profit_total']==x]"
   ]
  },
  {
   "cell_type": "markdown",
   "metadata": {},
   "source": [
    "#### show the mean of all movies profit"
   ]
  },
  {
   "cell_type": "code",
   "execution_count": 21,
   "metadata": {},
   "outputs": [
    {
     "name": "stdout",
     "output_type": "stream",
     "text": [
      "Movie profit mean\n"
     ]
    },
    {
     "data": {
      "text/plain": [
       "80666037.47439758"
      ]
     },
     "execution_count": 21,
     "metadata": {},
     "output_type": "execute_result"
    }
   ],
   "source": [
    "#the mean of profits\n",
    "print('Movie profit mean')\n",
    "tmdb['profit_total'].mean()"
   ]
  },
  {
   "cell_type": "markdown",
   "metadata": {},
   "source": [
    "# 5- make diagram to show the total earned profit vs release year"
   ]
  },
  {
   "cell_type": "markdown",
   "metadata": {},
   "source": [
    "the result will illustrate the code that discribes the total earned profit in comparison with the code resposiable for showing the release date"
   ]
  },
  {
   "cell_type": "code",
   "execution_count": 22,
   "metadata": {},
   "outputs": [
    {
     "data": {
      "text/plain": [
       "[<matplotlib.lines.Line2D at 0x17eef3a0100>]"
      ]
     },
     "execution_count": 22,
     "metadata": {},
     "output_type": "execute_result"
    },
    {
     "data": {
      "image/png": "[encoded data removed]",
      "text/plain": [
       "<Figure size 1080x1080 with 1 Axes>"
      ]
     },
     "metadata": {
      "needs_background": "light"
     },
     "output_type": "display_data"
    }
   ],
   "source": [
    "#diagram to show the profit of each year to know which year have max profit and low profit to know what is problem to have low profit to solve it in future\n",
    "year_movie_profit=tmdb.groupby('release_year')['profit_total'].mean()\n",
    "plt.figure(figsize=(15,15))\n",
    "plt.title('profit of each year')\n",
    "plt.xlabel('Year')\n",
    "plt.ylabel(' earned profit')\n",
    "plt.plot(year_movie_profit)"
   ]
  },
  {
   "cell_type": "markdown",
   "metadata": {},
   "source": [
    "## 6-what is the total revenue of all movies each year"
   ]
  },
  {
   "cell_type": "markdown",
   "metadata": {},
   "source": [
    "we explore how total revenue changed over years by using plot diagram"
   ]
  },
  {
   "cell_type": "code",
   "execution_count": 23,
   "metadata": {},
   "outputs": [
    {
     "data": {
      "text/plain": [
       "<AxesSubplot:title={'center':'average of revenue each year'}, xlabel='release_year', ylabel='average of revenue each year'>"
      ]
     },
     "execution_count": 23,
     "metadata": {},
     "output_type": "execute_result"
    },
    {
     "data": {
      "image/png": "[encoded data removed]",
      "text/plain": [
       "<Figure size 1080x1080 with 1 Axes>"
      ]
     },
     "metadata": {
      "needs_background": "light"
     },
     "output_type": "display_data"
    }
   ],
   "source": [
    "# graph show the average of revenue per year\n",
    "plt.ylabel('average of revenue each year',fontsize='x-large')\n",
    "tmdb.groupby('release_year')['revenue'].mean().plot(kind='bar',title='average of revenue each year',figsize=(15,15),fontsize='x-large')"
   ]
  },
  {
   "cell_type": "markdown",
   "metadata": {},
   "source": [
    "### from this questions explore some important things in data first find the average runtime of movies , and make comparison between long and short movies to know which movies have more popularity, compare between genres of movies to know which genre have high rate,create a diagram to show the total revenue of all movies each year"
   ]
  },
  {
   "cell_type": "markdown",
   "metadata": {},
   "source": [
    "<a id='conclusions'></a>\n",
    "## Conclusions\n",
    "\n",
    "first we make clean of dataset .remove dublication and null values row . remove unused columns.\n",
    "start to investigate data with some question first show the average runtime of movies,find most popular movies,show wich movies with high profits, show the total profits with each year.The bigger the number of people that vote for a movie, the higher the revenue. This is most likely not a favourable sign for high-grossing films. High-grossing films are usually directed by Matt Damon, star Tom Cruise, and are of the action genre.\n",
    "\n",
    "## Limitations\n",
    "His analysis took into account the films that brought in a sizable profit of roughly $50 million. Although this may not be entirely error-free, by implementing these suggestions, one can raise the likelihood that a film will be a success. Furthermore, we are unsure about the accuracy and timeliness of the data that has been provided to us.another one of problem faced me while analysis data is that data type of revenue and budget needs to change to integer , find the total profit it was one of limitation because it not exist and calculate it from data . remove the dublication from data and unused columns , replace the null values in the data\n"
   ]
  },
  {
   "cell_type": "code",
   "execution_count": null,
   "metadata": {},
   "outputs": [],
   "source": [
    "from subprocess import call\n",
    "call(['python', '-m', 'nbconvert', 'Investigate_a_Dataset.ipynb'])"
   ]
  },
  {
   "cell_type": "code",
   "execution_count": null,
   "metadata": {},
   "outputs": [],
   "source": []
  }
 ],
 "metadata": {
  "kernelspec": {
   "display_name": "Python 3",
   "language": "python",
   "name": "python3"
  },
  "language_info": {
   "codemirror_mode": {
    "name": "ipython",
    "version": 3
   },
   "file_extension": ".py",
   "mimetype": "text/x-python",
   "name": "python",
   "nbconvert_exporter": "python",
   "pygments_lexer": "ipython3",
   "version": "3.6.3"
  }
 },
 "nbformat": 4,
 "nbformat_minor": 2
}
